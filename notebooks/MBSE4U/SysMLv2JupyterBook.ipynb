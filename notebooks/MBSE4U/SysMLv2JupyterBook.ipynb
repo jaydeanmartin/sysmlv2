{
 "cells": [
  {
   "cell_type": "markdown",
   "metadata": {},
   "source": [
    "# SysML v2 JupyterBook\n",
    "\n",
    "*Last update: May 26th, 2022*\n",
    "\n",
    "This Jupyter Notebook is an exploration of SysML v2 from the user perspective. It shows some SysML v2 basics, but mainly focuses on the special features compared to SysML v1 and how they can be used. For a detailed introduction to the textual syntax of SysML v2, I recommend the following PDF: [Introduction to the SysML v2 Language Textual Notation](https://github.com/Systems-Modeling/SysML-v2-Release/blob/master/doc/Intro%20to%20the%20SysML%20v2%20Language.pdf).\n",
    "\n",
    "**Please note: This is work in progress. You will see sketchy stuff. If you have any comments, contact me: [tim@mbse4u.com](mailto:tim@mbse4u.com).**\n",
    "\n",
    "## Table of Contents\n",
    "\n",
    "* [Introduction](#sysmlv2modintroduction)\n",
    "* [Graphical and Textual Notation of SysML v2](#sysmlv2modnotation)\n",
    "* [Example and first steps](#sysmlv2modexample)\n",
    "* [Parts and PartDefinitions](#sysmlv2modparts)\n",
    "* [Specialization and Subsetting](#sysmlv2modspecialization)\n",
    "* [Putting the parts together](#sysmlv2modconnect)\n",
    "* [Modeling Interfaces](#sysmlv2modinterfaces)\n",
    "* [Modeling Activities](#sysmlv2usecasesactivities)\n",
    "* [Connection item flows with parameters](#sysmlv2itempara)\n",
    "* [Modeling variants](#sysmlv2modvariants)\n",
    "* [Modeling requirements](#sysmlv2modrequirements)\n"
   ]
  },
  {
   "cell_type": "markdown",
   "metadata": {},
   "source": [
    "## Introduction<a name=\"sysmlv2modintroduction\"></a>\n",
    "\n",
    "This section provides \n",
    "\n",
    "* a brief introduction of the modeling with SysML v2,\n",
    "* with a special focus on what is different compared to SysML v1.\n",
    "\n",
    "The target audience for this Jupyter notebook is SysML v1 modelers. The basic concepts like \"What is a Use Case?\" or \"What is a Part Decomposition?\" are not explained.\n",
    "\n",
    "It is not (yet) a complete SysML v2 tutorial. It uses the SysML v2 pilot implementation which is not intended as full modeling tool for industrial application. "
   ]
  },
  {
   "cell_type": "markdown",
   "metadata": {},
   "source": [
    "## Graphical and Textual Notation of SysML v2<a name=\"sysmlv2modnotation\"></a>\n",
    "\n",
    "SysML v1 is primarily known for its diagrams. Although they are only the visualization of the model information and the real treasure of a real SysML model is the model data behind the diagrams.\n",
    "\n",
    "SysML v2 also provides graphical visualizations and additionally a textual notation. Both are equivalent notations and tools can provide editors for both.\n",
    "\n",
    "The SysML v2 pilot implementation has so far only a textual editor and generates the graphical notation. Therefore, some have been under the impression that SysML v2 is primarily textual. This is not the case. Those who wish can use SysML v2 as they would SysML v1 and edit the model using graphical editors only."
   ]
  },
  {
   "cell_type": "markdown",
   "metadata": {},
   "source": [
    "## Example and first steps<a name=\"sysmlv2modexample\"></a>\n",
    "\n",
    "The simple example system is the following electrical vehicle:\n",
    "\n",
    "![Electrical HSUV](lego-evehicle.jpg)\n",
    "\n",
    "Let's start with a logical architecture of the vehicle. A first major difference compared to SysML is that there is a textual syntax for SysML v2.\n",
    "The following cell shows the textual SysML v2 syntax of the logical architecture. The package statement defines the namespace of the architecture. The eVehicle architecture itself is a simple set of parts."
   ]
  },
  {
   "cell_type": "code",
   "execution_count": 1,
   "metadata": {},
   "outputs": [
    {
     "data": {
      "text/plain": [
       "Package eVehicle_LogicalArchitecture (82277ca4-ea03-4932-9920-efbf66837aec)\n"
      ]
     },
     "execution_count": 1,
     "metadata": {},
     "output_type": "execute_result"
    }
   ],
   "source": [
    "package eVehicle_LogicalArchitecture {\n",
    "    part eVehicle {    \n",
    "        part body;\n",
    "        part battery;\n",
    "        part engine;\n",
    "        part frontAxis;\n",
    "        part rearAxis;\n",
    "        part frontWheel[2];\n",
    "        part rearWheel[2];\n",
    "    }\n",
    "}"
   ]
  },
  {
   "cell_type": "markdown",
   "metadata": {},
   "source": [
    "Run the cell above to create the real model. The text above is only the textual syntax of SysML v2. The show command provides a deep insight into the model structure:"
   ]
  },
  {
   "cell_type": "code",
   "execution_count": 2,
   "metadata": {},
   "outputs": [
    {
     "data": {
      "text/plain": [
       "Package eVehicle_LogicalArchitecture (82277ca4-ea03-4932-9920-efbf66837aec)\n",
       "  [OwningMembership] PartUsage eVehicle (784dc059-a193-493b-b9f5-cc76f285d52c)\n",
       "    [Subsetting (implicit)] PartUsage parts (2ff9017b-e54e-4f55-8bf4-b32f6a6479e1)\n",
       "    [FeatureMembership] PartUsage body (9d3e416f-2abd-4adc-a887-22780d88dbdf)\n",
       "      [Subsetting (implicit)] PartUsage subparts (6727b1b0-c4ff-4ffd-9bb1-13acd6bca757)\n",
       "      [OwningMembership] Multiplicity (5ae8da0e-cc9a-4d11-bd0e-3de6c50b20c8)\n",
       "        [Subsetting (implicit)] MultiplicityRange exactlyOne (0619242c-c834-4036-a488-bf45c9552e6c)\n",
       "    [FeatureMembership] PartUsage battery (444a8c02-b5bc-47bd-bda0-bfb811381389)\n",
       "      [Subsetting (implicit)] PartUsage subparts (6727b1b0-c4ff-4ffd-9bb1-13acd6bca757)\n",
       "      [OwningMembership] Multiplicity (7aacfffc-afc0-4032-8d55-7fd1223ef77a)\n",
       "        [Subsetting (implicit)] MultiplicityRange exactlyOne (0619242c-c834-4036-a488-bf45c9552e6c)\n",
       "    [FeatureMembership] PartUsage engine (ab8525db-a1c1-45d3-9342-15676e8d124b)\n",
       "      [Subsetting (implicit)] PartUsage subparts (6727b1b0-c4ff-4ffd-9bb1-13acd6bca757)\n",
       "      [OwningMembership] Multiplicity (064dbbec-2047-415d-858f-d7f0c6807522)\n",
       "        [Subsetting (implicit)] MultiplicityRange exactlyOne (0619242c-c834-4036-a488-bf45c9552e6c)\n",
       "    [FeatureMembership] PartUsage frontAxis (c6af6a4b-4968-4887-ae6d-3da8b88fbb99)\n",
       "      [Subsetting (implicit)] PartUsage subparts (6727b1b0-c4ff-4ffd-9bb1-13acd6bca757)\n",
       "      [OwningMembership] Multiplicity (4b0efe2a-8f83-4833-8318-3847c10bef6e)\n",
       "        [Subsetting (implicit)] MultiplicityRange exactlyOne (0619242c-c834-4036-a488-bf45c9552e6c)\n",
       "    [FeatureMembership] PartUsage rearAxis (234e5162-6e97-48c3-9eda-529547d0475e)\n",
       "      [Subsetting (implicit)] PartUsage subparts (6727b1b0-c4ff-4ffd-9bb1-13acd6bca757)\n",
       "      [OwningMembership] Multiplicity (8771680e-d9ef-4d21-9497-94ce5c3b6fb5)\n",
       "        [Subsetting (implicit)] MultiplicityRange exactlyOne (0619242c-c834-4036-a488-bf45c9552e6c)\n",
       "    [FeatureMembership] PartUsage frontWheel (3066cf83-52f1-4d82-9957-0ce262312a62)\n",
       "      [Subsetting (implicit)] PartUsage subparts (6727b1b0-c4ff-4ffd-9bb1-13acd6bca757)\n",
       "      [OwningMembership] MultiplicityRange (1f289ea1-a543-4530-a197-7848917b3c7a)\n",
       "        [Subsetting (implicit)] Feature naturals (41e1cbaf-102a-403a-ae1e-36d7409b7bd0)\n",
       "        [OwningMembership] LiteralInteger (f0a0c7f1-aaa4-4f25-8245-9eca902e6517)\n",
       "          [ReturnParameterMembership] Feature result (83e26187-3d82-467c-a858-22977e15a373)\n",
       "    [FeatureMembership] PartUsage rearWheel (97a96405-c614-4d88-aaf6-bd94701a7bc6)\n",
       "      [Subsetting (implicit)] PartUsage subparts (6727b1b0-c4ff-4ffd-9bb1-13acd6bca757)\n",
       "      [OwningMembership] MultiplicityRange (3fedb3bc-2c8c-44b3-878b-216d0b3a828f)\n",
       "        [Subsetting (implicit)] Feature naturals (41e1cbaf-102a-403a-ae1e-36d7409b7bd0)\n",
       "        [OwningMembership] LiteralInteger (5b9c4855-846d-4a8d-bed9-747bb9c21477)\n",
       "          [ReturnParameterMembership] Feature result (e501ca4c-44f6-4f72-a577-9330a188f700)\n"
      ]
     },
     "execution_count": 2,
     "metadata": {},
     "output_type": "execute_result"
    }
   ],
   "source": [
    "%show eVehicle_LogicalArchitecture"
   ]
  },
  {
   "cell_type": "markdown",
   "metadata": {},
   "source": [
    "More convenient for the common model user, of course, is the graphical notation presented after the execution of the following cell:"
   ]
  },
  {
   "cell_type": "code",
   "execution_count": 3,
   "metadata": {},
   "outputs": [
    {
     "data": {
      "image/svg+xml": [
       "<?xml version=\"1.0\" encoding=\"UTF-8\" standalone=\"no\"?><svg xmlns=\"http://www.w3.org/2000/svg\" xmlns:xlink=\"http://www.w3.org/1999/xlink\" contentScriptType=\"application/ecmascript\" contentStyleType=\"text/css\" height=\"226px\" preserveAspectRatio=\"none\" style=\"width:652px;height:226px;\" version=\"1.1\" viewBox=\"0 0 652 226\" width=\"652px\" zoomAndPan=\"magnify\"><defs/><g><!--MD5=[fbc87193dbaf4d95561dea2c320d4a47]\n",
       "cluster E1--><a href=\"psysml:82277ca4-ea03-4932-9920-efbf66837aec\" target=\"_top\" title=\"psysml:82277ca4-ea03-4932-9920-efbf66837aec\" xlink:actuate=\"onRequest\" xlink:href=\"psysml:82277ca4-ea03-4932-9920-efbf66837aec\" xlink:show=\"new\" xlink:title=\"psysml:82277ca4-ea03-4932-9920-efbf66837aec\" xlink:type=\"simple\"><polygon fill=\"#FFFFFF\" points=\"16,6,228,6,235,29.6094,630,29.6094,630,214,16,214,16,6\" style=\"stroke: #000000; stroke-width: 1.5;\"/><line style=\"stroke: #000000; stroke-width: 1.5;\" x1=\"16\" x2=\"235\" y1=\"29.6094\" y2=\"29.6094\"/><text fill=\"#000000\" font-family=\"sans-serif\" font-size=\"14\" font-weight=\"bold\" lengthAdjust=\"spacingAndGlyphs\" textLength=\"206\" x=\"20\" y=\"22.5332\">eVehicle_LogicalArchitecture</text></a><!--MD5=[b4997ac47864f28c2f74865a473b2911]\n",
       "class E2--><a href=\"psysml:784dc059-a193-493b-b9f5-cc76f285d52c\" target=\"_top\" title=\"psysml:784dc059-a193-493b-b9f5-cc76f285d52c\" xlink:actuate=\"onRequest\" xlink:href=\"psysml:784dc059-a193-493b-b9f5-cc76f285d52c\" xlink:show=\"new\" xlink:title=\"psysml:784dc059-a193-493b-b9f5-cc76f285d52c\" xlink:type=\"simple\"><rect fill=\"#FFFFFF\" height=\"48.1875\" id=\"E2\" rx=\"10\" ry=\"10\" style=\"stroke: #383838; stroke-width: 1.5;\" width=\"56\" x=\"266\" y=\"42\"/><text fill=\"#000000\" font-family=\"sans-serif\" font-size=\"12\" font-style=\"italic\" lengthAdjust=\"spacingAndGlyphs\" textLength=\"35\" x=\"276.5\" y=\"59.457\">«part»</text><text fill=\"#000000\" font-family=\"sans-serif\" font-size=\"12\" lengthAdjust=\"spacingAndGlyphs\" textLength=\"47\" x=\"269\" y=\"74.5508\">eVehicle</text><line style=\"stroke: #383838; stroke-width: 1.5;\" x1=\"267\" x2=\"321\" y1=\"82.1875\" y2=\"82.1875\"/></a><!--MD5=[09b614a08d8cba4a07c9adeb5e0fee81]\n",
       "class E3--><a href=\"psysml:9d3e416f-2abd-4adc-a887-22780d88dbdf\" target=\"_top\" title=\"psysml:9d3e416f-2abd-4adc-a887-22780d88dbdf\" xlink:actuate=\"onRequest\" xlink:href=\"psysml:9d3e416f-2abd-4adc-a887-22780d88dbdf\" xlink:show=\"new\" xlink:title=\"psysml:9d3e416f-2abd-4adc-a887-22780d88dbdf\" xlink:type=\"simple\"><rect fill=\"#FFFFFF\" height=\"48.1875\" id=\"E3\" rx=\"10\" ry=\"10\" style=\"stroke: #383838; stroke-width: 1.5;\" width=\"37\" x=\"32.5\" y=\"150\"/><text fill=\"#000000\" font-family=\"sans-serif\" font-size=\"12\" font-style=\"italic\" lengthAdjust=\"spacingAndGlyphs\" textLength=\"35\" x=\"33.5\" y=\"167.457\">«part»</text><text fill=\"#000000\" font-family=\"sans-serif\" font-size=\"12\" lengthAdjust=\"spacingAndGlyphs\" textLength=\"26\" x=\"36.5\" y=\"182.5508\">body</text><line style=\"stroke: #383838; stroke-width: 1.5;\" x1=\"33.5\" x2=\"68.5\" y1=\"190.1875\" y2=\"190.1875\"/></a><!--MD5=[ebbe1d658d1005bcc118a6aa81145e00]\n",
       "class E4--><a href=\"psysml:444a8c02-b5bc-47bd-bda0-bfb811381389\" target=\"_top\" title=\"psysml:444a8c02-b5bc-47bd-bda0-bfb811381389\" xlink:actuate=\"onRequest\" xlink:href=\"psysml:444a8c02-b5bc-47bd-bda0-bfb811381389\" xlink:show=\"new\" xlink:title=\"psysml:444a8c02-b5bc-47bd-bda0-bfb811381389\" xlink:type=\"simple\"><rect fill=\"#FFFFFF\" height=\"48.1875\" id=\"E4\" rx=\"10\" ry=\"10\" style=\"stroke: #383838; stroke-width: 1.5;\" width=\"45\" x=\"104.5\" y=\"150\"/><text fill=\"#000000\" font-family=\"sans-serif\" font-size=\"12\" font-style=\"italic\" lengthAdjust=\"spacingAndGlyphs\" textLength=\"35\" x=\"109.5\" y=\"167.457\">«part»</text><text fill=\"#000000\" font-family=\"sans-serif\" font-size=\"12\" lengthAdjust=\"spacingAndGlyphs\" textLength=\"36\" x=\"107.5\" y=\"182.5508\">battery</text><line style=\"stroke: #383838; stroke-width: 1.5;\" x1=\"105.5\" x2=\"148.5\" y1=\"190.1875\" y2=\"190.1875\"/></a><!--MD5=[270fce915f116d4de14055a7c1d9a0f3]\n",
       "class E5--><a href=\"psysml:ab8525db-a1c1-45d3-9342-15676e8d124b\" target=\"_top\" title=\"psysml:ab8525db-a1c1-45d3-9342-15676e8d124b\" xlink:actuate=\"onRequest\" xlink:href=\"psysml:ab8525db-a1c1-45d3-9342-15676e8d124b\" xlink:show=\"new\" xlink:title=\"psysml:ab8525db-a1c1-45d3-9342-15676e8d124b\" xlink:type=\"simple\"><rect fill=\"#FFFFFF\" height=\"48.1875\" id=\"E5\" rx=\"10\" ry=\"10\" style=\"stroke: #383838; stroke-width: 1.5;\" width=\"47\" x=\"184.5\" y=\"150\"/><text fill=\"#000000\" font-family=\"sans-serif\" font-size=\"12\" font-style=\"italic\" lengthAdjust=\"spacingAndGlyphs\" textLength=\"35\" x=\"190.5\" y=\"167.457\">«part»</text><text fill=\"#000000\" font-family=\"sans-serif\" font-size=\"12\" lengthAdjust=\"spacingAndGlyphs\" textLength=\"38\" x=\"187.5\" y=\"182.5508\">engine</text><line style=\"stroke: #383838; stroke-width: 1.5;\" x1=\"185.5\" x2=\"230.5\" y1=\"190.1875\" y2=\"190.1875\"/></a><!--MD5=[60a26617385b1d2d0262a64233df1f8d]\n",
       "class E6--><a href=\"psysml:c6af6a4b-4968-4887-ae6d-3da8b88fbb99\" target=\"_top\" title=\"psysml:c6af6a4b-4968-4887-ae6d-3da8b88fbb99\" xlink:actuate=\"onRequest\" xlink:href=\"psysml:c6af6a4b-4968-4887-ae6d-3da8b88fbb99\" xlink:show=\"new\" xlink:title=\"psysml:c6af6a4b-4968-4887-ae6d-3da8b88fbb99\" xlink:type=\"simple\"><rect fill=\"#FFFFFF\" height=\"48.1875\" id=\"E6\" rx=\"10\" ry=\"10\" style=\"stroke: #383838; stroke-width: 1.5;\" width=\"55\" x=\"266.5\" y=\"150\"/><text fill=\"#000000\" font-family=\"sans-serif\" font-size=\"12\" font-style=\"italic\" lengthAdjust=\"spacingAndGlyphs\" textLength=\"35\" x=\"276.5\" y=\"167.457\">«part»</text><text fill=\"#000000\" font-family=\"sans-serif\" font-size=\"12\" lengthAdjust=\"spacingAndGlyphs\" textLength=\"46\" x=\"269.5\" y=\"182.5508\">frontAxis</text><line style=\"stroke: #383838; stroke-width: 1.5;\" x1=\"267.5\" x2=\"320.5\" y1=\"190.1875\" y2=\"190.1875\"/></a><!--MD5=[2156ba9850f5573cc1fc38a6a4b2f02b]\n",
       "class E7--><a href=\"psysml:234e5162-6e97-48c3-9eda-529547d0475e\" target=\"_top\" title=\"psysml:234e5162-6e97-48c3-9eda-529547d0475e\" xlink:actuate=\"onRequest\" xlink:href=\"psysml:234e5162-6e97-48c3-9eda-529547d0475e\" xlink:show=\"new\" xlink:title=\"psysml:234e5162-6e97-48c3-9eda-529547d0475e\" xlink:type=\"simple\"><rect fill=\"#FFFFFF\" height=\"48.1875\" id=\"E7\" rx=\"10\" ry=\"10\" style=\"stroke: #383838; stroke-width: 1.5;\" width=\"53\" x=\"356.5\" y=\"150\"/><text fill=\"#000000\" font-family=\"sans-serif\" font-size=\"12\" font-style=\"italic\" lengthAdjust=\"spacingAndGlyphs\" textLength=\"35\" x=\"365.5\" y=\"167.457\">«part»</text><text fill=\"#000000\" font-family=\"sans-serif\" font-size=\"12\" lengthAdjust=\"spacingAndGlyphs\" textLength=\"44\" x=\"359.5\" y=\"182.5508\">rearAxis</text><line style=\"stroke: #383838; stroke-width: 1.5;\" x1=\"357.5\" x2=\"408.5\" y1=\"190.1875\" y2=\"190.1875\"/></a><!--MD5=[b9389687b975829384b498ac4b7476b2]\n",
       "class E8--><a href=\"psysml:3066cf83-52f1-4d82-9957-0ce262312a62\" target=\"_top\" title=\"psysml:3066cf83-52f1-4d82-9957-0ce262312a62\" xlink:actuate=\"onRequest\" xlink:href=\"psysml:3066cf83-52f1-4d82-9957-0ce262312a62\" xlink:show=\"new\" xlink:title=\"psysml:3066cf83-52f1-4d82-9957-0ce262312a62\" xlink:type=\"simple\"><rect fill=\"#FFFFFF\" height=\"48.1875\" id=\"E8\" rx=\"10\" ry=\"10\" style=\"stroke: #383838; stroke-width: 1.5;\" width=\"68\" x=\"445\" y=\"150\"/><text fill=\"#000000\" font-family=\"sans-serif\" font-size=\"12\" font-style=\"italic\" lengthAdjust=\"spacingAndGlyphs\" textLength=\"35\" x=\"461.5\" y=\"167.457\">«part»</text><text fill=\"#000000\" font-family=\"sans-serif\" font-size=\"12\" lengthAdjust=\"spacingAndGlyphs\" textLength=\"59\" x=\"448\" y=\"182.5508\">frontWheel</text><line style=\"stroke: #383838; stroke-width: 1.5;\" x1=\"446\" x2=\"512\" y1=\"190.1875\" y2=\"190.1875\"/></a><!--MD5=[fd4143e9d270a159db93a4ea2a975926]\n",
       "class E9--><a href=\"psysml:97a96405-c614-4d88-aaf6-bd94701a7bc6\" target=\"_top\" title=\"psysml:97a96405-c614-4d88-aaf6-bd94701a7bc6\" xlink:actuate=\"onRequest\" xlink:href=\"psysml:97a96405-c614-4d88-aaf6-bd94701a7bc6\" xlink:show=\"new\" xlink:title=\"psysml:97a96405-c614-4d88-aaf6-bd94701a7bc6\" xlink:type=\"simple\"><rect fill=\"#FFFFFF\" height=\"48.1875\" id=\"E9\" rx=\"10\" ry=\"10\" style=\"stroke: #383838; stroke-width: 1.5;\" width=\"66\" x=\"548\" y=\"150\"/><text fill=\"#000000\" font-family=\"sans-serif\" font-size=\"12\" font-style=\"italic\" lengthAdjust=\"spacingAndGlyphs\" textLength=\"35\" x=\"563.5\" y=\"167.457\">«part»</text><text fill=\"#000000\" font-family=\"sans-serif\" font-size=\"12\" lengthAdjust=\"spacingAndGlyphs\" textLength=\"57\" x=\"551\" y=\"182.5508\">rearWheel</text><line style=\"stroke: #383838; stroke-width: 1.5;\" x1=\"549\" x2=\"613\" y1=\"190.1875\" y2=\"190.1875\"/></a><!--MD5=[209b3feb70ccb6233bfe1053d122c12c]\n",
       "reverse link E2 to E3--><a href=\"psysml:b2876636-d36b-470a-a128-f134692ac51c\" target=\"_top\" title=\"psysml:b2876636-d36b-470a-a128-f134692ac51c\" xlink:actuate=\"onRequest\" xlink:href=\"psysml:b2876636-d36b-470a-a128-f134692ac51c\" xlink:show=\"new\" xlink:title=\"psysml:b2876636-d36b-470a-a128-f134692ac51c\" xlink:type=\"simple\"><path d=\"M253.5,80.69 C211.04,95.63 142.86,121.28 87,150 C81.2,152.98 75.13,156.63 69.66,160.14 \" fill=\"none\" id=\"E2&lt;-E3\" style=\"stroke: #383838; stroke-width: 1.0;\"/><polygon fill=\"#383838\" points=\"265.81,76.41,258.8292,74.6022,254.4755,80.3507,261.4563,82.1585,265.81,76.41\" style=\"stroke: #383838; stroke-width: 1.0;\"/><text fill=\"#000000\" font-family=\"sans-serif\" font-size=\"13\" lengthAdjust=\"spacingAndGlyphs\" textLength=\"7\" x=\"77.5545\" y=\"149.8767\">1</text></a><!--MD5=[9618e71518536f8baf3342ff6fdab317]\n",
       "reverse link E2 to E4--><a href=\"psysml:028cc893-4126-482d-abd3-ff73b5ebddda\" target=\"_top\" title=\"psysml:028cc893-4126-482d-abd3-ff73b5ebddda\" xlink:actuate=\"onRequest\" xlink:href=\"psysml:028cc893-4126-482d-abd3-ff73b5ebddda\" xlink:show=\"new\" xlink:title=\"psysml:028cc893-4126-482d-abd3-ff73b5ebddda\" xlink:type=\"simple\"><path d=\"M254.67,91.96 C221.94,112.74 176.48,141.59 149.57,158.68 \" fill=\"none\" id=\"E2&lt;-E4\" style=\"stroke: #383838; stroke-width: 1.0;\"/><polygon fill=\"#383838\" points=\"265.67,84.98,258.4608,84.8151,255.5358,91.4063,262.745,91.5712,265.67,84.98\" style=\"stroke: #383838; stroke-width: 1.0;\"/><text fill=\"#000000\" font-family=\"sans-serif\" font-size=\"13\" lengthAdjust=\"spacingAndGlyphs\" textLength=\"7\" x=\"157.5539\" y=\"149.0585\">1</text></a><!--MD5=[4e1a83fab71cdb913c109063314ae896]\n",
       "reverse link E2 to E5--><a href=\"psysml:6a81f68d-9c08-4736-88b4-9b89a566050c\" target=\"_top\" title=\"psysml:6a81f68d-9c08-4736-88b4-9b89a566050c\" xlink:actuate=\"onRequest\" xlink:href=\"psysml:6a81f68d-9c08-4736-88b4-9b89a566050c\" xlink:show=\"new\" xlink:title=\"psysml:6a81f68d-9c08-4736-88b4-9b89a566050c\" xlink:type=\"simple\"><path d=\"M266.78,100.54 C253.81,116.53 238.61,135.27 226.92,149.68 \" fill=\"none\" id=\"E2&lt;-E5\" style=\"stroke: #383838; stroke-width: 1.0;\"/><polygon fill=\"#383838\" points=\"275.34,90,268.4531,92.138,267.7779,99.3174,274.6647,97.1794,275.34,90\" style=\"stroke: #383838; stroke-width: 1.0;\"/><text fill=\"#000000\" font-family=\"sans-serif\" font-size=\"13\" lengthAdjust=\"spacingAndGlyphs\" textLength=\"7\" x=\"223.6786\" y=\"139.3171\">1</text></a><!--MD5=[ce036f65110ae2351ccce5a81dc2e928]\n",
       "reverse link E2 to E6--><a href=\"psysml:b8d95b53-2437-46e1-b463-fc5245df3361\" target=\"_top\" title=\"psysml:b8d95b53-2437-46e1-b463-fc5245df3361\" xlink:actuate=\"onRequest\" xlink:href=\"psysml:b8d95b53-2437-46e1-b463-fc5245df3361\" xlink:show=\"new\" xlink:title=\"psysml:b8d95b53-2437-46e1-b463-fc5245df3361\" xlink:type=\"simple\"><path d=\"M294,103.34 C294,118.68 294,136.1 294,149.68 \" fill=\"none\" id=\"E2&lt;-E6\" style=\"stroke: #383838; stroke-width: 1.0;\"/><polygon fill=\"#383838\" points=\"294,90,290,96,294,102,298,96,294,90\" style=\"stroke: #383838; stroke-width: 1.0;\"/><text fill=\"#000000\" font-family=\"sans-serif\" font-size=\"13\" lengthAdjust=\"spacingAndGlyphs\" textLength=\"7\" x=\"286.1469\" y=\"139.3171\">1</text></a><!--MD5=[1c72b32696d764168c30777981ec3f66]\n",
       "reverse link E2 to E7--><a href=\"psysml:710d8af6-7ae9-42d9-bb1b-97765010b491\" target=\"_top\" title=\"psysml:710d8af6-7ae9-42d9-bb1b-97765010b491\" xlink:actuate=\"onRequest\" xlink:href=\"psysml:710d8af6-7ae9-42d9-bb1b-97765010b491\" xlink:show=\"new\" xlink:title=\"psysml:710d8af6-7ae9-42d9-bb1b-97765010b491\" xlink:type=\"simple\"><path d=\"M321.78,100.08 C335.29,116.17 351.2,135.13 363.42,149.68 \" fill=\"none\" id=\"E2&lt;-E7\" style=\"stroke: #383838; stroke-width: 1.0;\"/><polygon fill=\"#383838\" points=\"313.31,90,314.1034,97.1673,321.0246,99.1916,320.2312,92.0243,313.31,90\" style=\"stroke: #383838; stroke-width: 1.0;\"/><text fill=\"#000000\" font-family=\"sans-serif\" font-size=\"13\" lengthAdjust=\"spacingAndGlyphs\" textLength=\"7\" x=\"350.7943\" y=\"139.3171\">1</text></a><!--MD5=[65f962d72b3a6bed1ede4f3c867e43a4]\n",
       "reverse link E2 to E8--><a href=\"psysml:e0b1ed88-1399-4102-8da4-cad8da8f1da4\" target=\"_top\" title=\"psysml:e0b1ed88-1399-4102-8da4-cad8da8f1da4\" xlink:actuate=\"onRequest\" xlink:href=\"psysml:e0b1ed88-1399-4102-8da4-cad8da8f1da4\" xlink:show=\"new\" xlink:title=\"psysml:e0b1ed88-1399-4102-8da4-cad8da8f1da4\" xlink:type=\"simple\"><path d=\"M333.63,89.71 C366.76,108.69 413.51,135.48 444.97,153.5 \" fill=\"none\" id=\"E2&lt;-E8\" style=\"stroke: #383838; stroke-width: 1.0;\"/><polygon fill=\"#383838\" points=\"322.1,83.1,325.3214,89.5516,332.5157,89.0593,329.2943,82.6078,322.1,83.1\" style=\"stroke: #383838; stroke-width: 1.0;\"/><text fill=\"#000000\" font-family=\"sans-serif\" font-size=\"13\" lengthAdjust=\"spacingAndGlyphs\" textLength=\"7\" x=\"430.2294\" y=\"145.1339\">2</text></a><!--MD5=[4a91eb351f2fb42055d99b719d3dd418]\n",
       "reverse link E2 to E9--><a href=\"psysml:56444082-26ef-4fde-a6d9-48e9d173902c\" target=\"_top\" title=\"psysml:56444082-26ef-4fde-a6d9-48e9d173902c\" xlink:actuate=\"onRequest\" xlink:href=\"psysml:56444082-26ef-4fde-a6d9-48e9d173902c\" xlink:show=\"new\" xlink:title=\"psysml:56444082-26ef-4fde-a6d9-48e9d173902c\" xlink:type=\"simple\"><path d=\"M334.53,79.9 C382.07,95.33 463.02,122.53 531,150 C536.49,152.22 542.26,154.71 547.84,157.22 \" fill=\"none\" id=\"E2&lt;-E9\" style=\"stroke: #383838; stroke-width: 1.0;\"/><polygon fill=\"#383838\" points=\"322.05,75.87,326.5284,81.5219,333.468,79.5617,328.9896,73.9099,322.05,75.87\" style=\"stroke: #383838; stroke-width: 1.0;\"/><text fill=\"#000000\" font-family=\"sans-serif\" font-size=\"13\" lengthAdjust=\"spacingAndGlyphs\" textLength=\"7\" x=\"532.8206\" y=\"149.3124\">2</text></a><!--MD5=[cc54162253bc31c5a6e399a07000e383]\n",
       "@startuml\r\n",
       "skinparam monochrome true\r\n",
       "skinparam classbackgroundcolor white\r\n",
       "skinparam shadowing false\r\n",
       "skinparam wrapWidth 300\r\n",
       "hide circle\r\n",
       "\r\n",
       "package \"eVehicle_LogicalArchitecture\" as E1  [[psysml:82277ca4-ea03-4932-9920-efbf66837aec ]]  {\r\n",
       "comp usage \"eVehicle \" as E2  <<(T,blue) part>> [[psysml:784dc059-a193-493b-b9f5-cc76f285d52c ]] {\r\n",
       "}\r\n",
       "comp usage \"body \" as E3  <<(T,blue) part>> [[psysml:9d3e416f-2abd-4adc-a887-22780d88dbdf ]] {\r\n",
       "}\r\n",
       "comp usage \"battery \" as E4  <<(T,blue) part>> [[psysml:444a8c02-b5bc-47bd-bda0-bfb811381389 ]] {\r\n",
       "}\r\n",
       "comp usage \"engine \" as E5  <<(T,blue) part>> [[psysml:ab8525db-a1c1-45d3-9342-15676e8d124b ]] {\r\n",
       "}\r\n",
       "comp usage \"frontAxis \" as E6  <<(T,blue) part>> [[psysml:c6af6a4b-4968-4887-ae6d-3da8b88fbb99 ]] {\r\n",
       "}\r\n",
       "comp usage \"rearAxis \" as E7  <<(T,blue) part>> [[psysml:234e5162-6e97-48c3-9eda-529547d0475e ]] {\r\n",
       "}\r\n",
       "comp usage \"frontWheel \" as E8  <<(T,blue) part>> [[psysml:3066cf83-52f1-4d82-9957-0ce262312a62 ]] {\r\n",
       "}\r\n",
       "comp usage \"rearWheel \" as E9  <<(T,blue) part>> [[psysml:97a96405-c614-4d88-aaf6-bd94701a7bc6 ]] {\r\n",
       "}\r\n",
       "}\r\n",
       "E2 *- - \"1\"E3 [[psysml:b2876636-d36b-470a-a128-f134692ac51c ]] \r\n",
       "E2 *- - \"1\"E4 [[psysml:028cc893-4126-482d-abd3-ff73b5ebddda ]] \r\n",
       "E2 *- - \"1\"E5 [[psysml:6a81f68d-9c08-4736-88b4-9b89a566050c ]] \r\n",
       "E2 *- - \"1\"E6 [[psysml:b8d95b53-2437-46e1-b463-fc5245df3361 ]] \r\n",
       "E2 *- - \"1\"E7 [[psysml:710d8af6-7ae9-42d9-bb1b-97765010b491 ]] \r\n",
       "E2 *- - \"2\"E8 [[psysml:e0b1ed88-1399-4102-8da4-cad8da8f1da4 ]] \r\n",
       "E2 *- - \"2\"E9 [[psysml:56444082-26ef-4fde-a6d9-48e9d173902c ]] \r\n",
       "@enduml\r\n",
       "\n",
       "PlantUML version 1.2020.13(Sat Jun 13 14:26:38 CEST 2020)\n",
       "(EPL source distribution)\n",
       "Java Runtime: OpenJDK Runtime Environment\n",
       "JVM: OpenJDK 64-Bit Server VM\n",
       "Default Encoding: Cp1252\n",
       "Language: en\n",
       "Country: US\n",
       "--></g></svg>"
      ]
     },
     "execution_count": 3,
     "metadata": {},
     "output_type": "execute_result"
    }
   ],
   "source": [
    "%viz --view=tree eVehicle_LogicalArchitecture"
   ]
  },
  {
   "cell_type": "markdown",
   "metadata": {},
   "source": [
    "The diagram is only a view, and not an editor. A graphical editor is not provided in the pilot implementation. Future SysML v2 modeling tools will certainly offer graphical editors."
   ]
  },
  {
   "cell_type": "markdown",
   "metadata": {},
   "source": [
    "### Changes to SysML v1\n",
    "\n",
    "SysML v2 is a complete new language with a different foundation than SysML v1. Therefore, there are plenty of differences. Here, I highlight only the changes that are most relevant to the modeler.\n",
    "\n",
    "If I had modeled the eVehicle in SysML v1, I would have had to first define blocks and then part properties whose types are the blocks.\n",
    "\n",
    "![eVehicle in SysML v1](evehicle-logical-architecture-sysmlv1.jpg)\n",
    "\n",
    "Did you notice it in my simple SysML v2 example above? There are no blocks there, only parts. To put it simply, this would be like modeling part properties in SysML v1 without blocks. Basically, it works that in SysML v1 you define a part without a block. But what is not possible in SysML v1 is that the parts themselves define substructures.\n",
    "\n",
    "However, the parts of the eVehicle also have a type. Above in the output of the %show command you can see \"[Subsetting (implicit)] PartUsage subparts\". \"subparts\" is a special part from the SysML v2 library. This implicit connection is set in the background. By subsetting \"subparts\", the parts of the eVehicle get a generic type \"Part\" from the SysML v2 library."
   ]
  },
  {
   "cell_type": "markdown",
   "metadata": {},
   "source": [
    "## Parts and PartDefinitions<a name=\"sysmlv2modparts\"></a>\n",
    "\n",
    "Modeling a decomposition is a typical capability that an MBSE modeling language must have. The simple example of the eVehicle uses the part decomposition.. For example, there is also the decomposition of functions.\n",
    "\n",
    "In SysML v2, you can define parts without types, but with substructures, for example, attributes. The following model extends the example and adds a property to the wheel to specify the size. The type of the attribute is Integer. Units are skipped for now. "
   ]
  },
  {
   "cell_type": "code",
   "execution_count": 2,
   "metadata": {},
   "outputs": [
    {
     "data": {
      "text/plain": [
       "Package eVehicle_LogicalArchitecture (0c9a6990-d41c-4a4f-bab7-95beb2561ab7)\n"
      ]
     },
     "execution_count": 2,
     "metadata": {},
     "output_type": "execute_result"
    }
   ],
   "source": [
    "package eVehicle_LogicalArchitecture {\n",
    "    \n",
    "    import ScalarValues::Integer;\n",
    "    \n",
    "    part eVehicle {    \n",
    "        part body;\n",
    "        part battery;\n",
    "        part engine;\n",
    "        part frontAxis;\n",
    "        part rearAxis;\n",
    "        part frontWheel[2] {\n",
    "            attribute size : Integer;\n",
    "        }\n",
    "        part rearWheel[2] {\n",
    "            attribute size : Integer;\n",
    "        }\n",
    "    }\n",
    "}"
   ]
  },
  {
   "cell_type": "markdown",
   "metadata": {},
   "source": [
    "Run the cell with the SysML v2 model, and visualize the model. If you also would like to see the model structure, execute the %show command as described above."
   ]
  },
  {
   "cell_type": "code",
   "execution_count": 3,
   "metadata": {},
   "outputs": [
    {
     "data": {
      "image/svg+xml": [
       "<?xml version=\"1.0\" encoding=\"UTF-8\" standalone=\"no\"?><svg xmlns=\"http://www.w3.org/2000/svg\" xmlns:xlink=\"http://www.w3.org/1999/xlink\" contentScriptType=\"application/ecmascript\" contentStyleType=\"text/css\" height=\"258px\" preserveAspectRatio=\"none\" style=\"width:660px;height:258px;\" version=\"1.1\" viewBox=\"0 0 660 258\" width=\"660px\" zoomAndPan=\"magnify\"><defs/><g><!--MD5=[fbc87193dbaf4d95561dea2c320d4a47]\n",
       "cluster E1--><a href=\"psysml:0c9a6990-d41c-4a4f-bab7-95beb2561ab7\" target=\"_top\" title=\"psysml:0c9a6990-d41c-4a4f-bab7-95beb2561ab7\" xlink:actuate=\"onRequest\" xlink:href=\"psysml:0c9a6990-d41c-4a4f-bab7-95beb2561ab7\" xlink:show=\"new\" xlink:title=\"psysml:0c9a6990-d41c-4a4f-bab7-95beb2561ab7\" xlink:type=\"simple\"><polygon fill=\"#FFFFFF\" points=\"16,6,228,6,235,29.6094,638,29.6094,638,246,16,246,16,6\" style=\"stroke: #000000; stroke-width: 1.5;\"/><line style=\"stroke: #000000; stroke-width: 1.5;\" x1=\"16\" x2=\"235\" y1=\"29.6094\" y2=\"29.6094\"/><text fill=\"#000000\" font-family=\"sans-serif\" font-size=\"14\" font-weight=\"bold\" lengthAdjust=\"spacingAndGlyphs\" textLength=\"206\" x=\"20\" y=\"22.5332\">eVehicle_LogicalArchitecture</text></a><!--MD5=[b4997ac47864f28c2f74865a473b2911]\n",
       "class E2--><a href=\"psysml:73753354-1f16-451f-a6bd-b7171c7a43c1\" target=\"_top\" title=\"psysml:73753354-1f16-451f-a6bd-b7171c7a43c1\" xlink:actuate=\"onRequest\" xlink:href=\"psysml:73753354-1f16-451f-a6bd-b7171c7a43c1\" xlink:show=\"new\" xlink:title=\"psysml:73753354-1f16-451f-a6bd-b7171c7a43c1\" xlink:type=\"simple\"><rect fill=\"#FFFFFF\" height=\"48.1875\" id=\"E2\" rx=\"10\" ry=\"10\" style=\"stroke: #383838; stroke-width: 1.5;\" width=\"56\" x=\"266\" y=\"42\"/><text fill=\"#000000\" font-family=\"sans-serif\" font-size=\"12\" font-style=\"italic\" lengthAdjust=\"spacingAndGlyphs\" textLength=\"35\" x=\"276.5\" y=\"59.457\">«part»</text><text fill=\"#000000\" font-family=\"sans-serif\" font-size=\"12\" lengthAdjust=\"spacingAndGlyphs\" textLength=\"47\" x=\"269\" y=\"74.5508\">eVehicle</text><line style=\"stroke: #383838; stroke-width: 1.5;\" x1=\"267\" x2=\"321\" y1=\"82.1875\" y2=\"82.1875\"/></a><!--MD5=[09b614a08d8cba4a07c9adeb5e0fee81]\n",
       "class E3--><a href=\"psysml:7f76a94e-8606-4be5-858b-be11fc93ceae\" target=\"_top\" title=\"psysml:7f76a94e-8606-4be5-858b-be11fc93ceae\" xlink:actuate=\"onRequest\" xlink:href=\"psysml:7f76a94e-8606-4be5-858b-be11fc93ceae\" xlink:show=\"new\" xlink:title=\"psysml:7f76a94e-8606-4be5-858b-be11fc93ceae\" xlink:type=\"simple\"><rect fill=\"#FFFFFF\" height=\"48.1875\" id=\"E3\" rx=\"10\" ry=\"10\" style=\"stroke: #383838; stroke-width: 1.5;\" width=\"37\" x=\"32.5\" y=\"166\"/><text fill=\"#000000\" font-family=\"sans-serif\" font-size=\"12\" font-style=\"italic\" lengthAdjust=\"spacingAndGlyphs\" textLength=\"35\" x=\"33.5\" y=\"183.457\">«part»</text><text fill=\"#000000\" font-family=\"sans-serif\" font-size=\"12\" lengthAdjust=\"spacingAndGlyphs\" textLength=\"26\" x=\"36.5\" y=\"198.5508\">body</text><line style=\"stroke: #383838; stroke-width: 1.5;\" x1=\"33.5\" x2=\"68.5\" y1=\"206.1875\" y2=\"206.1875\"/></a><!--MD5=[ebbe1d658d1005bcc118a6aa81145e00]\n",
       "class E4--><a href=\"psysml:adc876f3-cf27-4129-aac2-b7a56465c93f\" target=\"_top\" title=\"psysml:adc876f3-cf27-4129-aac2-b7a56465c93f\" xlink:actuate=\"onRequest\" xlink:href=\"psysml:adc876f3-cf27-4129-aac2-b7a56465c93f\" xlink:show=\"new\" xlink:title=\"psysml:adc876f3-cf27-4129-aac2-b7a56465c93f\" xlink:type=\"simple\"><rect fill=\"#FFFFFF\" height=\"48.1875\" id=\"E4\" rx=\"10\" ry=\"10\" style=\"stroke: #383838; stroke-width: 1.5;\" width=\"45\" x=\"104.5\" y=\"166\"/><text fill=\"#000000\" font-family=\"sans-serif\" font-size=\"12\" font-style=\"italic\" lengthAdjust=\"spacingAndGlyphs\" textLength=\"35\" x=\"109.5\" y=\"183.457\">«part»</text><text fill=\"#000000\" font-family=\"sans-serif\" font-size=\"12\" lengthAdjust=\"spacingAndGlyphs\" textLength=\"36\" x=\"107.5\" y=\"198.5508\">battery</text><line style=\"stroke: #383838; stroke-width: 1.5;\" x1=\"105.5\" x2=\"148.5\" y1=\"206.1875\" y2=\"206.1875\"/></a><!--MD5=[270fce915f116d4de14055a7c1d9a0f3]\n",
       "class E5--><a href=\"psysml:8943ad5b-3ba8-41c0-a59d-e7d711b2056f\" target=\"_top\" title=\"psysml:8943ad5b-3ba8-41c0-a59d-e7d711b2056f\" xlink:actuate=\"onRequest\" xlink:href=\"psysml:8943ad5b-3ba8-41c0-a59d-e7d711b2056f\" xlink:show=\"new\" xlink:title=\"psysml:8943ad5b-3ba8-41c0-a59d-e7d711b2056f\" xlink:type=\"simple\"><rect fill=\"#FFFFFF\" height=\"48.1875\" id=\"E5\" rx=\"10\" ry=\"10\" style=\"stroke: #383838; stroke-width: 1.5;\" width=\"47\" x=\"184.5\" y=\"166\"/><text fill=\"#000000\" font-family=\"sans-serif\" font-size=\"12\" font-style=\"italic\" lengthAdjust=\"spacingAndGlyphs\" textLength=\"35\" x=\"190.5\" y=\"183.457\">«part»</text><text fill=\"#000000\" font-family=\"sans-serif\" font-size=\"12\" lengthAdjust=\"spacingAndGlyphs\" textLength=\"38\" x=\"187.5\" y=\"198.5508\">engine</text><line style=\"stroke: #383838; stroke-width: 1.5;\" x1=\"185.5\" x2=\"230.5\" y1=\"206.1875\" y2=\"206.1875\"/></a><!--MD5=[60a26617385b1d2d0262a64233df1f8d]\n",
       "class E6--><a href=\"psysml:fe490f0a-9c9b-443f-84f4-e4a4f7e16b5a\" target=\"_top\" title=\"psysml:fe490f0a-9c9b-443f-84f4-e4a4f7e16b5a\" xlink:actuate=\"onRequest\" xlink:href=\"psysml:fe490f0a-9c9b-443f-84f4-e4a4f7e16b5a\" xlink:show=\"new\" xlink:title=\"psysml:fe490f0a-9c9b-443f-84f4-e4a4f7e16b5a\" xlink:type=\"simple\"><rect fill=\"#FFFFFF\" height=\"48.1875\" id=\"E6\" rx=\"10\" ry=\"10\" style=\"stroke: #383838; stroke-width: 1.5;\" width=\"55\" x=\"266.5\" y=\"166\"/><text fill=\"#000000\" font-family=\"sans-serif\" font-size=\"12\" font-style=\"italic\" lengthAdjust=\"spacingAndGlyphs\" textLength=\"35\" x=\"276.5\" y=\"183.457\">«part»</text><text fill=\"#000000\" font-family=\"sans-serif\" font-size=\"12\" lengthAdjust=\"spacingAndGlyphs\" textLength=\"46\" x=\"269.5\" y=\"198.5508\">frontAxis</text><line style=\"stroke: #383838; stroke-width: 1.5;\" x1=\"267.5\" x2=\"320.5\" y1=\"206.1875\" y2=\"206.1875\"/></a><!--MD5=[2156ba9850f5573cc1fc38a6a4b2f02b]\n",
       "class E7--><a href=\"psysml:14522a25-ac56-491f-aac9-1d02bbdd487b\" target=\"_top\" title=\"psysml:14522a25-ac56-491f-aac9-1d02bbdd487b\" xlink:actuate=\"onRequest\" xlink:href=\"psysml:14522a25-ac56-491f-aac9-1d02bbdd487b\" xlink:show=\"new\" xlink:title=\"psysml:14522a25-ac56-491f-aac9-1d02bbdd487b\" xlink:type=\"simple\"><rect fill=\"#FFFFFF\" height=\"48.1875\" id=\"E7\" rx=\"10\" ry=\"10\" style=\"stroke: #383838; stroke-width: 1.5;\" width=\"53\" x=\"356.5\" y=\"166\"/><text fill=\"#000000\" font-family=\"sans-serif\" font-size=\"12\" font-style=\"italic\" lengthAdjust=\"spacingAndGlyphs\" textLength=\"35\" x=\"365.5\" y=\"183.457\">«part»</text><text fill=\"#000000\" font-family=\"sans-serif\" font-size=\"12\" lengthAdjust=\"spacingAndGlyphs\" textLength=\"44\" x=\"359.5\" y=\"198.5508\">rearAxis</text><line style=\"stroke: #383838; stroke-width: 1.5;\" x1=\"357.5\" x2=\"408.5\" y1=\"206.1875\" y2=\"206.1875\"/></a><!--MD5=[b9389687b975829384b498ac4b7476b2]\n",
       "class E8--><a href=\"psysml:25495668-ad7e-409e-8473-2807f49487d9\" target=\"_top\" title=\"psysml:25495668-ad7e-409e-8473-2807f49487d9\" xlink:actuate=\"onRequest\" xlink:href=\"psysml:25495668-ad7e-409e-8473-2807f49487d9\" xlink:show=\"new\" xlink:title=\"psysml:25495668-ad7e-409e-8473-2807f49487d9\" xlink:type=\"simple\"><rect fill=\"#FFFFFF\" height=\"79.8594\" id=\"E8\" rx=\"10\" ry=\"10\" style=\"stroke: #383838; stroke-width: 1.5;\" width=\"71\" x=\"444.5\" y=\"150\"/><text fill=\"#000000\" font-family=\"sans-serif\" font-size=\"12\" font-style=\"italic\" lengthAdjust=\"spacingAndGlyphs\" textLength=\"35\" x=\"462.5\" y=\"167.457\">«part»</text><text fill=\"#000000\" font-family=\"sans-serif\" font-size=\"12\" lengthAdjust=\"spacingAndGlyphs\" textLength=\"59\" x=\"449\" y=\"182.5508\">frontWheel</text><line style=\"stroke: #383838; stroke-width: 1.5;\" x1=\"445.5\" x2=\"514.5\" y1=\"190.1875\" y2=\"190.1875\"/><text fill=\"#000000\" font-family=\"sans-serif\" font-size=\"11\" lengthAdjust=\"spacingAndGlyphs\" textLength=\"59\" x=\"450.5\" y=\"223.4424\">size: Integer</text><line style=\"stroke: #383838; stroke-width: 1.0;\" x1=\"445.5\" x2=\"457.5\" y1=\"205.1055\" y2=\"205.1055\"/><text fill=\"#000000\" font-family=\"sans-serif\" font-size=\"11\" lengthAdjust=\"spacingAndGlyphs\" textLength=\"45\" x=\"457.5\" y=\"209.1064\">attributes</text><line style=\"stroke: #383838; stroke-width: 1.0;\" x1=\"502.5\" x2=\"514.5\" y1=\"205.1055\" y2=\"205.1055\"/></a><!--MD5=[fd4143e9d270a159db93a4ea2a975926]\n",
       "class E9--><a href=\"psysml:db470851-d53e-4023-abb0-6594a37091cd\" target=\"_top\" title=\"psysml:db470851-d53e-4023-abb0-6594a37091cd\" xlink:actuate=\"onRequest\" xlink:href=\"psysml:db470851-d53e-4023-abb0-6594a37091cd\" xlink:show=\"new\" xlink:title=\"psysml:db470851-d53e-4023-abb0-6594a37091cd\" xlink:type=\"simple\"><rect fill=\"#FFFFFF\" height=\"79.8594\" id=\"E9\" rx=\"10\" ry=\"10\" style=\"stroke: #383838; stroke-width: 1.5;\" width=\"71\" x=\"550.5\" y=\"150\"/><text fill=\"#000000\" font-family=\"sans-serif\" font-size=\"12\" font-style=\"italic\" lengthAdjust=\"spacingAndGlyphs\" textLength=\"35\" x=\"568.5\" y=\"167.457\">«part»</text><text fill=\"#000000\" font-family=\"sans-serif\" font-size=\"12\" lengthAdjust=\"spacingAndGlyphs\" textLength=\"57\" x=\"556\" y=\"182.5508\">rearWheel</text><line style=\"stroke: #383838; stroke-width: 1.5;\" x1=\"551.5\" x2=\"620.5\" y1=\"190.1875\" y2=\"190.1875\"/><text fill=\"#000000\" font-family=\"sans-serif\" font-size=\"11\" lengthAdjust=\"spacingAndGlyphs\" textLength=\"59\" x=\"556.5\" y=\"223.4424\">size: Integer</text><line style=\"stroke: #383838; stroke-width: 1.0;\" x1=\"551.5\" x2=\"563.5\" y1=\"205.1055\" y2=\"205.1055\"/><text fill=\"#000000\" font-family=\"sans-serif\" font-size=\"11\" lengthAdjust=\"spacingAndGlyphs\" textLength=\"45\" x=\"563.5\" y=\"209.1064\">attributes</text><line style=\"stroke: #383838; stroke-width: 1.0;\" x1=\"608.5\" x2=\"620.5\" y1=\"205.1055\" y2=\"205.1055\"/></a><!--MD5=[209b3feb70ccb6233bfe1053d122c12c]\n",
       "reverse link E2 to E3--><a href=\"psysml:3c0c791e-886c-4116-aa28-8b4ab9e12a77\" target=\"_top\" title=\"psysml:3c0c791e-886c-4116-aa28-8b4ab9e12a77\" xlink:actuate=\"onRequest\" xlink:href=\"psysml:3c0c791e-886c-4116-aa28-8b4ab9e12a77\" xlink:show=\"new\" xlink:title=\"psysml:3c0c791e-886c-4116-aa28-8b4ab9e12a77\" xlink:type=\"simple\"><path d=\"M253.3,77.49 C209.56,90.03 139.3,113.96 87,150 C80.63,154.39 74.56,160.1 69.28,165.79 \" fill=\"none\" id=\"E2&lt;-E3\" style=\"stroke: #383838; stroke-width: 1.0;\"/><polygon fill=\"#383838\" points=\"265.97,73.96,259.115,71.7219,254.4125,77.1887,261.2675,79.4269,265.97,73.96\" style=\"stroke: #383838; stroke-width: 1.0;\"/><text fill=\"#000000\" font-family=\"sans-serif\" font-size=\"13\" lengthAdjust=\"spacingAndGlyphs\" textLength=\"7\" x=\"66.0674\" y=\"155.0523\">1</text></a><!--MD5=[9618e71518536f8baf3342ff6fdab317]\n",
       "reverse link E2 to E4--><a href=\"psysml:53cc385c-fb0b-4842-a035-8d16df16804f\" target=\"_top\" title=\"psysml:53cc385c-fb0b-4842-a035-8d16df16804f\" xlink:actuate=\"onRequest\" xlink:href=\"psysml:53cc385c-fb0b-4842-a035-8d16df16804f\" xlink:show=\"new\" xlink:title=\"psysml:53cc385c-fb0b-4842-a035-8d16df16804f\" xlink:type=\"simple\"><path d=\"M254.71,89.94 C228.9,105.66 194.89,127.64 167,150 C160.95,154.85 154.77,160.48 149.14,165.93 \" fill=\"none\" id=\"E2&lt;-E4\" style=\"stroke: #383838; stroke-width: 1.0;\"/><polygon fill=\"#383838\" points=\"265.93,83.18,258.7267,82.8438,255.6459,89.3636,262.8492,89.6999,265.93,83.18\" style=\"stroke: #383838; stroke-width: 1.0;\"/><text fill=\"#000000\" font-family=\"sans-serif\" font-size=\"13\" lengthAdjust=\"spacingAndGlyphs\" textLength=\"7\" x=\"146.9165\" y=\"155.2282\">1</text></a><!--MD5=[4e1a83fab71cdb913c109063314ae896]\n",
       "reverse link E2 to E5--><a href=\"psysml:09ca56e5-e52e-41b9-bd6a-5a4464edd4f9\" target=\"_top\" title=\"psysml:09ca56e5-e52e-41b9-bd6a-5a4464edd4f9\" xlink:actuate=\"onRequest\" xlink:href=\"psysml:09ca56e5-e52e-41b9-bd6a-5a4464edd4f9\" xlink:show=\"new\" xlink:title=\"psysml:09ca56e5-e52e-41b9-bd6a-5a4464edd4f9\" xlink:type=\"simple\"><path d=\"M269.96,101.1 C255.4,121.76 237.21,147.56 224.32,165.85 \" fill=\"none\" id=\"E2&lt;-E5\" style=\"stroke: #383838; stroke-width: 1.0;\"/><polygon fill=\"#383838\" points=\"277.62,90.23,270.8948,92.8322,270.7102,100.0409,277.4354,97.4387,277.62,90.23\" style=\"stroke: #383838; stroke-width: 1.0;\"/><text fill=\"#000000\" font-family=\"sans-serif\" font-size=\"13\" lengthAdjust=\"spacingAndGlyphs\" textLength=\"7\" x=\"220.6051\" y=\"155.1277\">1</text></a><!--MD5=[ce036f65110ae2351ccce5a81dc2e928]\n",
       "reverse link E2 to E6--><a href=\"psysml:d9bbd183-8168-40f7-9927-557d5a8dd6e7\" target=\"_top\" title=\"psysml:d9bbd183-8168-40f7-9927-557d5a8dd6e7\" xlink:actuate=\"onRequest\" xlink:href=\"psysml:d9bbd183-8168-40f7-9927-557d5a8dd6e7\" xlink:show=\"new\" xlink:title=\"psysml:d9bbd183-8168-40f7-9927-557d5a8dd6e7\" xlink:type=\"simple\"><path d=\"M294,103.42 C294,123.66 294,148.24 294,165.85 \" fill=\"none\" id=\"E2&lt;-E6\" style=\"stroke: #383838; stroke-width: 1.0;\"/><polygon fill=\"#383838\" points=\"294,90.23,290,96.23,294,102.23,298,96.23,294,90.23\" style=\"stroke: #383838; stroke-width: 1.0;\"/><text fill=\"#000000\" font-family=\"sans-serif\" font-size=\"13\" lengthAdjust=\"spacingAndGlyphs\" textLength=\"7\" x=\"286.1031\" y=\"155.1277\">1</text></a><!--MD5=[1c72b32696d764168c30777981ec3f66]\n",
       "reverse link E2 to E7--><a href=\"psysml:c92ac866-2636-40b8-8f66-eaa62316fabb\" target=\"_top\" title=\"psysml:c92ac866-2636-40b8-8f66-eaa62316fabb\" xlink:actuate=\"onRequest\" xlink:href=\"psysml:c92ac866-2636-40b8-8f66-eaa62316fabb\" xlink:show=\"new\" xlink:title=\"psysml:c92ac866-2636-40b8-8f66-eaa62316fabb\" xlink:type=\"simple\"><path d=\"M318.67,100.81 C333.77,121.52 352.71,147.47 366.11,165.85 \" fill=\"none\" id=\"E2&lt;-E7\" style=\"stroke: #383838; stroke-width: 1.0;\"/><polygon fill=\"#383838\" points=\"310.95,90.23,311.2534,97.4347,318.0206,99.9257,317.7172,92.721,310.95,90.23\" style=\"stroke: #383838; stroke-width: 1.0;\"/><text fill=\"#000000\" font-family=\"sans-serif\" font-size=\"13\" lengthAdjust=\"spacingAndGlyphs\" textLength=\"7\" x=\"353.8851\" y=\"155.1277\">1</text></a><!--MD5=[65f962d72b3a6bed1ede4f3c867e43a4]\n",
       "reverse link E2 to E8--><a href=\"psysml:bc60d9e5-770e-469f-b4bb-c727c2fedc9c\" target=\"_top\" title=\"psysml:bc60d9e5-770e-469f-b4bb-c727c2fedc9c\" xlink:actuate=\"onRequest\" xlink:href=\"psysml:bc60d9e5-770e-469f-b4bb-c727c2fedc9c\" xlink:show=\"new\" xlink:title=\"psysml:bc60d9e5-770e-469f-b4bb-c727c2fedc9c\" xlink:type=\"simple\"><path d=\"M333.38,90.49 C360.12,106.7 396.1,129.03 427,150 C432.67,153.85 438.6,158.04 444.34,162.19 \" fill=\"none\" id=\"E2&lt;-E8\" style=\"stroke: #383838; stroke-width: 1.0;\"/><polygon fill=\"#383838\" points=\"322.16,83.72,325.231,90.2445,332.4348,89.9191,329.3638,83.3947,322.16,83.72\" style=\"stroke: #383838; stroke-width: 1.0;\"/><text fill=\"#000000\" font-family=\"sans-serif\" font-size=\"13\" lengthAdjust=\"spacingAndGlyphs\" textLength=\"7\" x=\"429.2632\" y=\"152.3501\">2</text></a><!--MD5=[4a91eb351f2fb42055d99b719d3dd418]\n",
       "reverse link E2 to E9--><a href=\"psysml:b26a4891-0f7f-4fae-bace-77b6799527d9\" target=\"_top\" title=\"psysml:b26a4891-0f7f-4fae-bace-77b6799527d9\" xlink:actuate=\"onRequest\" xlink:href=\"psysml:b26a4891-0f7f-4fae-bace-77b6799527d9\" xlink:show=\"new\" xlink:title=\"psysml:b26a4891-0f7f-4fae-bace-77b6799527d9\" xlink:type=\"simple\"><path d=\"M335.2,77.24 C384.09,90.31 467.27,115.42 533,150 C538.86,153.09 544.79,156.77 550.45,160.64 \" fill=\"none\" id=\"E2&lt;-E9\" style=\"stroke: #383838; stroke-width: 1.0;\"/><polygon fill=\"#383838\" points=\"322.36,73.88,327.1493,79.271,333.9676,76.9235,329.1783,71.5326,322.36,73.88\" style=\"stroke: #383838; stroke-width: 1.0;\"/><text fill=\"#000000\" font-family=\"sans-serif\" font-size=\"13\" lengthAdjust=\"spacingAndGlyphs\" textLength=\"7\" x=\"535.3959\" y=\"150.4804\">2</text></a><!--MD5=[84d44bbf6ed4599b7fefc2ba0f7cfb5a]\n",
       "@startuml\r\n",
       "skinparam monochrome true\r\n",
       "skinparam classbackgroundcolor white\r\n",
       "skinparam shadowing false\r\n",
       "skinparam wrapWidth 300\r\n",
       "hide circle\r\n",
       "\r\n",
       "package \"eVehicle_LogicalArchitecture\" as E1  [[psysml:0c9a6990-d41c-4a4f-bab7-95beb2561ab7 ]]  {\r\n",
       "comp usage \"eVehicle \" as E2  <<(T,blue) part>> [[psysml:73753354-1f16-451f-a6bd-b7171c7a43c1 ]] {\r\n",
       "}\r\n",
       "comp usage \"body \" as E3  <<(T,blue) part>> [[psysml:7f76a94e-8606-4be5-858b-be11fc93ceae ]] {\r\n",
       "}\r\n",
       "comp usage \"battery \" as E4  <<(T,blue) part>> [[psysml:adc876f3-cf27-4129-aac2-b7a56465c93f ]] {\r\n",
       "}\r\n",
       "comp usage \"engine \" as E5  <<(T,blue) part>> [[psysml:8943ad5b-3ba8-41c0-a59d-e7d711b2056f ]] {\r\n",
       "}\r\n",
       "comp usage \"frontAxis \" as E6  <<(T,blue) part>> [[psysml:fe490f0a-9c9b-443f-84f4-e4a4f7e16b5a ]] {\r\n",
       "}\r\n",
       "comp usage \"rearAxis \" as E7  <<(T,blue) part>> [[psysml:14522a25-ac56-491f-aac9-1d02bbdd487b ]] {\r\n",
       "}\r\n",
       "comp usage \"frontWheel \" as E8  <<(T,blue) part>> [[psysml:25495668-ad7e-409e-8473-2807f49487d9 ]] {\r\n",
       "- - attributes - -\r\n",
       "size: Integer\r\n",
       "}\r\n",
       "comp usage \"rearWheel \" as E9  <<(T,blue) part>> [[psysml:db470851-d53e-4023-abb0-6594a37091cd ]] {\r\n",
       "- - attributes - -\r\n",
       "size: Integer\r\n",
       "}\r\n",
       "}\r\n",
       "E2 *- - \"1\"E3 [[psysml:3c0c791e-886c-4116-aa28-8b4ab9e12a77 ]] \r\n",
       "E2 *- - \"1\"E4 [[psysml:53cc385c-fb0b-4842-a035-8d16df16804f ]] \r\n",
       "E2 *- - \"1\"E5 [[psysml:09ca56e5-e52e-41b9-bd6a-5a4464edd4f9 ]] \r\n",
       "E2 *- - \"1\"E6 [[psysml:d9bbd183-8168-40f7-9927-557d5a8dd6e7 ]] \r\n",
       "E2 *- - \"1\"E7 [[psysml:c92ac866-2636-40b8-8f66-eaa62316fabb ]] \r\n",
       "E2 *- - \"2\"E8 [[psysml:bc60d9e5-770e-469f-b4bb-c727c2fedc9c ]] \r\n",
       "E2 *- - \"2\"E9 [[psysml:b26a4891-0f7f-4fae-bace-77b6799527d9 ]] \r\n",
       "@enduml\r\n",
       "\n",
       "PlantUML version 1.2020.13(Sat Jun 13 14:26:38 CEST 2020)\n",
       "(EPL source distribution)\n",
       "Java Runtime: OpenJDK Runtime Environment\n",
       "JVM: OpenJDK 64-Bit Server VM\n",
       "Default Encoding: Cp1252\n",
       "Language: en\n",
       "Country: US\n",
       "--></g></svg>"
      ]
     },
     "execution_count": 3,
     "metadata": {},
     "output_type": "execute_result"
    }
   ],
   "source": [
    "%viz --view=tree eVehicle_LogicalArchitecture"
   ]
  },
  {
   "cell_type": "markdown",
   "metadata": {},
   "source": [
    "As in SysML v1, a part always needs a context in SysML v2. In our example, the part *eVehicle* is the context of the parts *body*, *battery*, and so forth. No context is explicitly defined for the part *eVehicle*. Then the context is implicitly the most general part definition named *Part* from the SysML v2 model library.\n",
    "\n",
    "Although it is still very simple, the model already smells of reuse. The size attribute is currently defined twice. Now, we define a type respectively PartDefinition *Wheel* and specify that as the type of the parts. The PartDefinition can be compared to the SysML v1 Block."
   ]
  },
  {
   "cell_type": "code",
   "execution_count": 4,
   "metadata": {},
   "outputs": [
    {
     "data": {
      "text/plain": [
       "Package eVehicle_LogicalArchitecture (b21ffda8-d878-4d03-b872-c73a871e386d)\n"
      ]
     },
     "execution_count": 4,
     "metadata": {},
     "output_type": "execute_result"
    }
   ],
   "source": [
    "package eVehicle_LogicalArchitecture {\n",
    "\n",
    "    import ScalarValues::Integer;   \n",
    "    \n",
    "    part def Wheel {\n",
    "        attribute size : Integer;\n",
    "    }\n",
    "   \n",
    "    part eVehicle {    \n",
    "        part body;\n",
    "        part battery;\n",
    "        part engine;\n",
    "        part frontAxis;\n",
    "        part rearAxis;\n",
    "        part frontWheel : Wheel[2];\n",
    "        part rearWheel : Wheel[2];\n",
    "    }\n",
    "}"
   ]
  },
  {
   "cell_type": "code",
   "execution_count": 5,
   "metadata": {},
   "outputs": [
    {
     "data": {
      "image/svg+xml": [
       "<?xml version=\"1.0\" encoding=\"UTF-8\" standalone=\"no\"?><svg xmlns=\"http://www.w3.org/2000/svg\" xmlns:xlink=\"http://www.w3.org/1999/xlink\" contentScriptType=\"application/ecmascript\" contentStyleType=\"text/css\" height=\"366px\" preserveAspectRatio=\"none\" style=\"width:734px;height:366px;\" version=\"1.1\" viewBox=\"0 0 734 366\" width=\"734px\" zoomAndPan=\"magnify\"><defs/><g><!--MD5=[fbc87193dbaf4d95561dea2c320d4a47]\n",
       "cluster E1--><a href=\"psysml:b21ffda8-d878-4d03-b872-c73a871e386d\" target=\"_top\" title=\"psysml:b21ffda8-d878-4d03-b872-c73a871e386d\" xlink:actuate=\"onRequest\" xlink:href=\"psysml:b21ffda8-d878-4d03-b872-c73a871e386d\" xlink:show=\"new\" xlink:title=\"psysml:b21ffda8-d878-4d03-b872-c73a871e386d\" xlink:type=\"simple\"><polygon fill=\"#FFFFFF\" points=\"16,6,228,6,235,29.6094,712,29.6094,712,354,16,354,16,6\" style=\"stroke: #000000; stroke-width: 1.5;\"/><line style=\"stroke: #000000; stroke-width: 1.5;\" x1=\"16\" x2=\"235\" y1=\"29.6094\" y2=\"29.6094\"/><text fill=\"#000000\" font-family=\"sans-serif\" font-size=\"14\" font-weight=\"bold\" lengthAdjust=\"spacingAndGlyphs\" textLength=\"206\" x=\"20\" y=\"22.5332\">eVehicle_LogicalArchitecture</text></a><!--MD5=[b4997ac47864f28c2f74865a473b2911]\n",
       "class E2--><a href=\"psysml:1dae77ac-77d5-4349-bddf-3e505b5b78ba\" target=\"_top\" title=\"psysml:1dae77ac-77d5-4349-bddf-3e505b5b78ba\" xlink:actuate=\"onRequest\" xlink:href=\"psysml:1dae77ac-77d5-4349-bddf-3e505b5b78ba\" xlink:show=\"new\" xlink:title=\"psysml:1dae77ac-77d5-4349-bddf-3e505b5b78ba\" xlink:type=\"simple\"><rect fill=\"#FFFFFF\" height=\"79.8594\" id=\"E2\" style=\"stroke: #383838; stroke-width: 1.5;\" width=\"71\" x=\"534.5\" y=\"258\"/><text fill=\"#000000\" font-family=\"sans-serif\" font-size=\"12\" font-style=\"italic\" lengthAdjust=\"spacingAndGlyphs\" textLength=\"58\" x=\"541\" y=\"275.457\">«part  def»</text><text fill=\"#000000\" font-family=\"sans-serif\" font-size=\"12\" lengthAdjust=\"spacingAndGlyphs\" textLength=\"35\" x=\"552.5\" y=\"290.5508\">Wheel</text><line style=\"stroke: #383838; stroke-width: 1.5;\" x1=\"535.5\" x2=\"604.5\" y1=\"298.1875\" y2=\"298.1875\"/><text fill=\"#000000\" font-family=\"sans-serif\" font-size=\"11\" lengthAdjust=\"spacingAndGlyphs\" textLength=\"59\" x=\"540.5\" y=\"331.4424\">size: Integer</text><line style=\"stroke: #383838; stroke-width: 1.0;\" x1=\"535.5\" x2=\"547.5\" y1=\"313.1055\" y2=\"313.1055\"/><text fill=\"#000000\" font-family=\"sans-serif\" font-size=\"11\" lengthAdjust=\"spacingAndGlyphs\" textLength=\"45\" x=\"547.5\" y=\"317.1064\">attributes</text><line style=\"stroke: #383838; stroke-width: 1.0;\" x1=\"592.5\" x2=\"604.5\" y1=\"313.1055\" y2=\"313.1055\"/></a><!--MD5=[09b614a08d8cba4a07c9adeb5e0fee81]\n",
       "class E3--><a href=\"psysml:60ee4342-87c7-4235-9683-ba6dd1b834aa\" target=\"_top\" title=\"psysml:60ee4342-87c7-4235-9683-ba6dd1b834aa\" xlink:actuate=\"onRequest\" xlink:href=\"psysml:60ee4342-87c7-4235-9683-ba6dd1b834aa\" xlink:show=\"new\" xlink:title=\"psysml:60ee4342-87c7-4235-9683-ba6dd1b834aa\" xlink:type=\"simple\"><rect fill=\"#FFFFFF\" height=\"48.1875\" id=\"E3\" rx=\"10\" ry=\"10\" style=\"stroke: #383838; stroke-width: 1.5;\" width=\"56\" x=\"266\" y=\"42\"/><text fill=\"#000000\" font-family=\"sans-serif\" font-size=\"12\" font-style=\"italic\" lengthAdjust=\"spacingAndGlyphs\" textLength=\"35\" x=\"276.5\" y=\"59.457\">«part»</text><text fill=\"#000000\" font-family=\"sans-serif\" font-size=\"12\" lengthAdjust=\"spacingAndGlyphs\" textLength=\"47\" x=\"269\" y=\"74.5508\">eVehicle</text><line style=\"stroke: #383838; stroke-width: 1.5;\" x1=\"267\" x2=\"321\" y1=\"82.1875\" y2=\"82.1875\"/></a><!--MD5=[ebbe1d658d1005bcc118a6aa81145e00]\n",
       "class E4--><a href=\"psysml:d7cb8f97-a1b7-46a9-8a44-be46a6ee5fe8\" target=\"_top\" title=\"psysml:d7cb8f97-a1b7-46a9-8a44-be46a6ee5fe8\" xlink:actuate=\"onRequest\" xlink:href=\"psysml:d7cb8f97-a1b7-46a9-8a44-be46a6ee5fe8\" xlink:show=\"new\" xlink:title=\"psysml:d7cb8f97-a1b7-46a9-8a44-be46a6ee5fe8\" xlink:type=\"simple\"><rect fill=\"#FFFFFF\" height=\"48.1875\" id=\"E4\" rx=\"10\" ry=\"10\" style=\"stroke: #383838; stroke-width: 1.5;\" width=\"37\" x=\"32.5\" y=\"150\"/><text fill=\"#000000\" font-family=\"sans-serif\" font-size=\"12\" font-style=\"italic\" lengthAdjust=\"spacingAndGlyphs\" textLength=\"35\" x=\"33.5\" y=\"167.457\">«part»</text><text fill=\"#000000\" font-family=\"sans-serif\" font-size=\"12\" lengthAdjust=\"spacingAndGlyphs\" textLength=\"26\" x=\"36.5\" y=\"182.5508\">body</text><line style=\"stroke: #383838; stroke-width: 1.5;\" x1=\"33.5\" x2=\"68.5\" y1=\"190.1875\" y2=\"190.1875\"/></a><!--MD5=[270fce915f116d4de14055a7c1d9a0f3]\n",
       "class E5--><a href=\"psysml:36782a73-3aa9-416c-9337-a2e245ff4a1f\" target=\"_top\" title=\"psysml:36782a73-3aa9-416c-9337-a2e245ff4a1f\" xlink:actuate=\"onRequest\" xlink:href=\"psysml:36782a73-3aa9-416c-9337-a2e245ff4a1f\" xlink:show=\"new\" xlink:title=\"psysml:36782a73-3aa9-416c-9337-a2e245ff4a1f\" xlink:type=\"simple\"><rect fill=\"#FFFFFF\" height=\"48.1875\" id=\"E5\" rx=\"10\" ry=\"10\" style=\"stroke: #383838; stroke-width: 1.5;\" width=\"45\" x=\"104.5\" y=\"150\"/><text fill=\"#000000\" font-family=\"sans-serif\" font-size=\"12\" font-style=\"italic\" lengthAdjust=\"spacingAndGlyphs\" textLength=\"35\" x=\"109.5\" y=\"167.457\">«part»</text><text fill=\"#000000\" font-family=\"sans-serif\" font-size=\"12\" lengthAdjust=\"spacingAndGlyphs\" textLength=\"36\" x=\"107.5\" y=\"182.5508\">battery</text><line style=\"stroke: #383838; stroke-width: 1.5;\" x1=\"105.5\" x2=\"148.5\" y1=\"190.1875\" y2=\"190.1875\"/></a><!--MD5=[60a26617385b1d2d0262a64233df1f8d]\n",
       "class E6--><a href=\"psysml:dbc8a320-73f1-482f-a0f0-f568206e84e9\" target=\"_top\" title=\"psysml:dbc8a320-73f1-482f-a0f0-f568206e84e9\" xlink:actuate=\"onRequest\" xlink:href=\"psysml:dbc8a320-73f1-482f-a0f0-f568206e84e9\" xlink:show=\"new\" xlink:title=\"psysml:dbc8a320-73f1-482f-a0f0-f568206e84e9\" xlink:type=\"simple\"><rect fill=\"#FFFFFF\" height=\"48.1875\" id=\"E6\" rx=\"10\" ry=\"10\" style=\"stroke: #383838; stroke-width: 1.5;\" width=\"47\" x=\"184.5\" y=\"150\"/><text fill=\"#000000\" font-family=\"sans-serif\" font-size=\"12\" font-style=\"italic\" lengthAdjust=\"spacingAndGlyphs\" textLength=\"35\" x=\"190.5\" y=\"167.457\">«part»</text><text fill=\"#000000\" font-family=\"sans-serif\" font-size=\"12\" lengthAdjust=\"spacingAndGlyphs\" textLength=\"38\" x=\"187.5\" y=\"182.5508\">engine</text><line style=\"stroke: #383838; stroke-width: 1.5;\" x1=\"185.5\" x2=\"230.5\" y1=\"190.1875\" y2=\"190.1875\"/></a><!--MD5=[2156ba9850f5573cc1fc38a6a4b2f02b]\n",
       "class E7--><a href=\"psysml:c0136bc0-1ce7-409b-8f59-aa264782c566\" target=\"_top\" title=\"psysml:c0136bc0-1ce7-409b-8f59-aa264782c566\" xlink:actuate=\"onRequest\" xlink:href=\"psysml:c0136bc0-1ce7-409b-8f59-aa264782c566\" xlink:show=\"new\" xlink:title=\"psysml:c0136bc0-1ce7-409b-8f59-aa264782c566\" xlink:type=\"simple\"><rect fill=\"#FFFFFF\" height=\"48.1875\" id=\"E7\" rx=\"10\" ry=\"10\" style=\"stroke: #383838; stroke-width: 1.5;\" width=\"55\" x=\"266.5\" y=\"150\"/><text fill=\"#000000\" font-family=\"sans-serif\" font-size=\"12\" font-style=\"italic\" lengthAdjust=\"spacingAndGlyphs\" textLength=\"35\" x=\"276.5\" y=\"167.457\">«part»</text><text fill=\"#000000\" font-family=\"sans-serif\" font-size=\"12\" lengthAdjust=\"spacingAndGlyphs\" textLength=\"46\" x=\"269.5\" y=\"182.5508\">frontAxis</text><line style=\"stroke: #383838; stroke-width: 1.5;\" x1=\"267.5\" x2=\"320.5\" y1=\"190.1875\" y2=\"190.1875\"/></a><!--MD5=[b9389687b975829384b498ac4b7476b2]\n",
       "class E8--><a href=\"psysml:a1da6747-6fef-4905-bb0d-33e9b101ca3a\" target=\"_top\" title=\"psysml:a1da6747-6fef-4905-bb0d-33e9b101ca3a\" xlink:actuate=\"onRequest\" xlink:href=\"psysml:a1da6747-6fef-4905-bb0d-33e9b101ca3a\" xlink:show=\"new\" xlink:title=\"psysml:a1da6747-6fef-4905-bb0d-33e9b101ca3a\" xlink:type=\"simple\"><rect fill=\"#FFFFFF\" height=\"48.1875\" id=\"E8\" rx=\"10\" ry=\"10\" style=\"stroke: #383838; stroke-width: 1.5;\" width=\"53\" x=\"356.5\" y=\"150\"/><text fill=\"#000000\" font-family=\"sans-serif\" font-size=\"12\" font-style=\"italic\" lengthAdjust=\"spacingAndGlyphs\" textLength=\"35\" x=\"365.5\" y=\"167.457\">«part»</text><text fill=\"#000000\" font-family=\"sans-serif\" font-size=\"12\" lengthAdjust=\"spacingAndGlyphs\" textLength=\"44\" x=\"359.5\" y=\"182.5508\">rearAxis</text><line style=\"stroke: #383838; stroke-width: 1.5;\" x1=\"357.5\" x2=\"408.5\" y1=\"190.1875\" y2=\"190.1875\"/></a><!--MD5=[fd4143e9d270a159db93a4ea2a975926]\n",
       "class E9--><a href=\"psysml:0a261e43-8a73-4f9c-8bd3-f8066deb4d6c\" target=\"_top\" title=\"psysml:0a261e43-8a73-4f9c-8bd3-f8066deb4d6c\" xlink:actuate=\"onRequest\" xlink:href=\"psysml:0a261e43-8a73-4f9c-8bd3-f8066deb4d6c\" xlink:show=\"new\" xlink:title=\"psysml:0a261e43-8a73-4f9c-8bd3-f8066deb4d6c\" xlink:type=\"simple\"><rect fill=\"#FFFFFF\" height=\"48.1875\" id=\"E9\" rx=\"10\" ry=\"10\" style=\"stroke: #383838; stroke-width: 1.5;\" width=\"109\" x=\"444.5\" y=\"150\"/><text fill=\"#000000\" font-family=\"sans-serif\" font-size=\"12\" font-style=\"italic\" lengthAdjust=\"spacingAndGlyphs\" textLength=\"35\" x=\"481.5\" y=\"167.457\">«part»</text><text fill=\"#000000\" font-family=\"sans-serif\" font-size=\"12\" lengthAdjust=\"spacingAndGlyphs\" textLength=\"100\" x=\"447.5\" y=\"182.5508\">frontWheel: Wheel</text><line style=\"stroke: #383838; stroke-width: 1.5;\" x1=\"445.5\" x2=\"552.5\" y1=\"190.1875\" y2=\"190.1875\"/></a><!--MD5=[96f4274e9e20536e775497830990834d]\n",
       "class E10--><a href=\"psysml:2ff856ed-102d-493c-a598-41b60c5af696\" target=\"_top\" title=\"psysml:2ff856ed-102d-493c-a598-41b60c5af696\" xlink:actuate=\"onRequest\" xlink:href=\"psysml:2ff856ed-102d-493c-a598-41b60c5af696\" xlink:show=\"new\" xlink:title=\"psysml:2ff856ed-102d-493c-a598-41b60c5af696\" xlink:type=\"simple\"><rect fill=\"#FFFFFF\" height=\"48.1875\" id=\"E10\" rx=\"10\" ry=\"10\" style=\"stroke: #383838; stroke-width: 1.5;\" width=\"107\" x=\"588.5\" y=\"150\"/><text fill=\"#000000\" font-family=\"sans-serif\" font-size=\"12\" font-style=\"italic\" lengthAdjust=\"spacingAndGlyphs\" textLength=\"35\" x=\"624.5\" y=\"167.457\">«part»</text><text fill=\"#000000\" font-family=\"sans-serif\" font-size=\"12\" lengthAdjust=\"spacingAndGlyphs\" textLength=\"98\" x=\"591.5\" y=\"182.5508\">rearWheel: Wheel</text><line style=\"stroke: #383838; stroke-width: 1.5;\" x1=\"589.5\" x2=\"694.5\" y1=\"190.1875\" y2=\"190.1875\"/></a><!--MD5=[4672eba38e49728da53d11aeb285b987]\n",
       "reverse link E3 to E4--><a href=\"psysml:8fb21e23-a003-47f5-840c-d304223fe572\" target=\"_top\" title=\"psysml:8fb21e23-a003-47f5-840c-d304223fe572\" xlink:actuate=\"onRequest\" xlink:href=\"psysml:8fb21e23-a003-47f5-840c-d304223fe572\" xlink:show=\"new\" xlink:title=\"psysml:8fb21e23-a003-47f5-840c-d304223fe572\" xlink:type=\"simple\"><path d=\"M253.5,80.69 C211.04,95.63 142.86,121.28 87,150 C81.2,152.98 75.13,156.63 69.66,160.14 \" fill=\"none\" id=\"E3&lt;-E4\" style=\"stroke: #383838; stroke-width: 1.0;\"/><polygon fill=\"#383838\" points=\"265.81,76.41,258.8292,74.6022,254.4755,80.3507,261.4563,82.1585,265.81,76.41\" style=\"stroke: #383838; stroke-width: 1.0;\"/><text fill=\"#000000\" font-family=\"sans-serif\" font-size=\"13\" lengthAdjust=\"spacingAndGlyphs\" textLength=\"7\" x=\"77.5545\" y=\"149.8767\">1</text></a><!--MD5=[191cde3d490a3f6d7bb551fe3ddca469]\n",
       "reverse link E3 to E5--><a href=\"psysml:1dca512c-2533-474d-a5be-5269436e12f2\" target=\"_top\" title=\"psysml:1dca512c-2533-474d-a5be-5269436e12f2\" xlink:actuate=\"onRequest\" xlink:href=\"psysml:1dca512c-2533-474d-a5be-5269436e12f2\" xlink:show=\"new\" xlink:title=\"psysml:1dca512c-2533-474d-a5be-5269436e12f2\" xlink:type=\"simple\"><path d=\"M254.67,91.96 C221.94,112.74 176.48,141.59 149.57,158.68 \" fill=\"none\" id=\"E3&lt;-E5\" style=\"stroke: #383838; stroke-width: 1.0;\"/><polygon fill=\"#383838\" points=\"265.67,84.98,258.4608,84.8151,255.5358,91.4063,262.745,91.5712,265.67,84.98\" style=\"stroke: #383838; stroke-width: 1.0;\"/><text fill=\"#000000\" font-family=\"sans-serif\" font-size=\"13\" lengthAdjust=\"spacingAndGlyphs\" textLength=\"7\" x=\"157.5539\" y=\"149.0585\">1</text></a><!--MD5=[1026b4b93417a13aa8999a858998add2]\n",
       "reverse link E3 to E6--><a href=\"psysml:76b7838f-f950-497f-a9b1-81f184684e78\" target=\"_top\" title=\"psysml:76b7838f-f950-497f-a9b1-81f184684e78\" xlink:actuate=\"onRequest\" xlink:href=\"psysml:76b7838f-f950-497f-a9b1-81f184684e78\" xlink:show=\"new\" xlink:title=\"psysml:76b7838f-f950-497f-a9b1-81f184684e78\" xlink:type=\"simple\"><path d=\"M266.78,100.54 C253.81,116.53 238.61,135.27 226.92,149.68 \" fill=\"none\" id=\"E3&lt;-E6\" style=\"stroke: #383838; stroke-width: 1.0;\"/><polygon fill=\"#383838\" points=\"275.34,90,268.4531,92.138,267.7779,99.3174,274.6647,97.1794,275.34,90\" style=\"stroke: #383838; stroke-width: 1.0;\"/><text fill=\"#000000\" font-family=\"sans-serif\" font-size=\"13\" lengthAdjust=\"spacingAndGlyphs\" textLength=\"7\" x=\"223.6786\" y=\"139.3171\">1</text></a><!--MD5=[85760999379eecfd2565a9fecdca67e4]\n",
       "reverse link E3 to E7--><a href=\"psysml:ba47c54b-c82f-4b5a-bf5d-bc5bccfd3405\" target=\"_top\" title=\"psysml:ba47c54b-c82f-4b5a-bf5d-bc5bccfd3405\" xlink:actuate=\"onRequest\" xlink:href=\"psysml:ba47c54b-c82f-4b5a-bf5d-bc5bccfd3405\" xlink:show=\"new\" xlink:title=\"psysml:ba47c54b-c82f-4b5a-bf5d-bc5bccfd3405\" xlink:type=\"simple\"><path d=\"M294,103.34 C294,118.68 294,136.1 294,149.68 \" fill=\"none\" id=\"E3&lt;-E7\" style=\"stroke: #383838; stroke-width: 1.0;\"/><polygon fill=\"#383838\" points=\"294,90,290,96,294,102,298,96,294,90\" style=\"stroke: #383838; stroke-width: 1.0;\"/><text fill=\"#000000\" font-family=\"sans-serif\" font-size=\"13\" lengthAdjust=\"spacingAndGlyphs\" textLength=\"7\" x=\"286.1469\" y=\"139.3171\">1</text></a><!--MD5=[4cb75b73ec3682b8f7f8edc9cc86126a]\n",
       "reverse link E3 to E8--><a href=\"psysml:c5edf57e-1835-4ebc-8bdf-c827e14685b1\" target=\"_top\" title=\"psysml:c5edf57e-1835-4ebc-8bdf-c827e14685b1\" xlink:actuate=\"onRequest\" xlink:href=\"psysml:c5edf57e-1835-4ebc-8bdf-c827e14685b1\" xlink:show=\"new\" xlink:title=\"psysml:c5edf57e-1835-4ebc-8bdf-c827e14685b1\" xlink:type=\"simple\"><path d=\"M321.78,100.08 C335.29,116.17 351.2,135.13 363.42,149.68 \" fill=\"none\" id=\"E3&lt;-E8\" style=\"stroke: #383838; stroke-width: 1.0;\"/><polygon fill=\"#383838\" points=\"313.31,90,314.1034,97.1673,321.0246,99.1916,320.2312,92.0243,313.31,90\" style=\"stroke: #383838; stroke-width: 1.0;\"/><text fill=\"#000000\" font-family=\"sans-serif\" font-size=\"13\" lengthAdjust=\"spacingAndGlyphs\" textLength=\"7\" x=\"350.7943\" y=\"139.3171\">1</text></a><!--MD5=[f7e0269b2e2fed3d07255bf4c5cf9d61]\n",
       "reverse link E3 to E9--><a href=\"psysml:0e40cf25-a7ca-447d-af77-405310c8d08e\" target=\"_top\" title=\"psysml:0e40cf25-a7ca-447d-af77-405310c8d08e\" xlink:actuate=\"onRequest\" xlink:href=\"psysml:0e40cf25-a7ca-447d-af77-405310c8d08e\" xlink:show=\"new\" xlink:title=\"psysml:0e40cf25-a7ca-447d-af77-405310c8d08e\" xlink:type=\"simple\"><path d=\"M334.07,87.72 C368.64,105.6 418.53,131.39 454.37,149.93 \" fill=\"none\" id=\"E3&lt;-E9\" style=\"stroke: #383838; stroke-width: 1.0;\"/><polygon fill=\"#383838\" points=\"322.07,81.52,325.5612,87.8296,332.7282,87.0338,329.2371,80.7241,322.07,81.52\" style=\"stroke: #383838; stroke-width: 1.0;\"/><text fill=\"#000000\" font-family=\"sans-serif\" font-size=\"13\" lengthAdjust=\"spacingAndGlyphs\" textLength=\"7\" x=\"435.0367\" y=\"139.2282\">2</text></a><!--MD5=[5c3bb36fe832a92c7f0e1807dd65209d]\n",
       "link E9 to E2--><a href=\"psysml:1cecebc2-3b8b-4c6f-9f97-39f11ff27fbc\" target=\"_top\" title=\"psysml:1cecebc2-3b8b-4c6f-9f97-39f11ff27fbc\" xlink:actuate=\"onRequest\" xlink:href=\"psysml:1cecebc2-3b8b-4c6f-9f97-39f11ff27fbc\" xlink:show=\"new\" xlink:title=\"psysml:1cecebc2-3b8b-4c6f-9f97-39f11ff27fbc\" xlink:type=\"simple\"><path d=\"M512.52,198.23 C519.44,210.13 528.2,225.18 536.79,239.93 \" fill=\"none\" id=\"E9-&gt;E2\" style=\"stroke: #383838; stroke-width: 1.0;\"/><polygon fill=\"#FFFFFF\" points=\"547.03,257.53,531.4246,244.6276,543.5255,237.5871,547.03,257.53\" style=\"stroke: #383838; stroke-width: 1.0;\"/><ellipse cx=\"530.2868\" cy=\"238.6951\" fill=\"#383838\" rx=\"2\" ry=\"2\" style=\"stroke: #383838; stroke-width: 1.0;\"/><ellipse cx=\"538.9303\" cy=\"233.6661\" fill=\"#383838\" rx=\"2\" ry=\"2\" style=\"stroke: #383838; stroke-width: 1.0;\"/></a><!--MD5=[622114938c97d4dd2a5a002a72a9cb82]\n",
       "reverse link E3 to E10--><a href=\"psysml:f9fed1b9-caac-4992-9dd2-9584129b0afa\" target=\"_top\" title=\"psysml:f9fed1b9-caac-4992-9dd2-9584129b0afa\" xlink:actuate=\"onRequest\" xlink:href=\"psysml:f9fed1b9-caac-4992-9dd2-9584129b0afa\" xlink:show=\"new\" xlink:title=\"psysml:f9fed1b9-caac-4992-9dd2-9584129b0afa\" xlink:type=\"simple\"><path d=\"M335.17,79.03 C389.34,94.92 487.49,123.97 571,150 C576.57,151.74 582.37,153.57 588.15,155.42 \" fill=\"none\" id=\"E3&lt;-E10\" style=\"stroke: #383838; stroke-width: 1.0;\"/><polygon fill=\"#383838\" points=\"322.38,75.28,327.012,80.8067,333.8951,78.6567,329.2631,73.13,322.38,75.28\" style=\"stroke: #383838; stroke-width: 1.0;\"/><text fill=\"#000000\" font-family=\"sans-serif\" font-size=\"13\" lengthAdjust=\"spacingAndGlyphs\" textLength=\"7\" x=\"573.4436\" y=\"149.3545\">2</text></a><!--MD5=[0f36bececdf0dff6e600d6f64214b0f1]\n",
       "link E10 to E2--><a href=\"psysml:87639dd5-bb47-48c1-80d3-7b70ebceb0da\" target=\"_top\" title=\"psysml:87639dd5-bb47-48c1-80d3-7b70ebceb0da\" xlink:actuate=\"onRequest\" xlink:href=\"psysml:87639dd5-bb47-48c1-80d3-7b70ebceb0da\" xlink:show=\"new\" xlink:title=\"psysml:87639dd5-bb47-48c1-80d3-7b70ebceb0da\" xlink:type=\"simple\"><path d=\"M628.29,198.23 C621.27,210.13 612.38,225.18 603.68,239.93 \" fill=\"none\" id=\"E10-&gt;E2\" style=\"stroke: #383838; stroke-width: 1.0;\"/><polygon fill=\"#FFFFFF\" points=\"593.29,257.53,596.9093,237.6076,608.9695,244.7177,593.29,257.53\" style=\"stroke: #383838; stroke-width: 1.0;\"/><ellipse cx=\"601.527\" cy=\"233.7132\" fill=\"#383838\" rx=\"2\" ry=\"2\" style=\"stroke: #383838; stroke-width: 1.0;\"/><ellipse cx=\"610.1414\" cy=\"238.7918\" fill=\"#383838\" rx=\"2\" ry=\"2\" style=\"stroke: #383838; stroke-width: 1.0;\"/></a><!--MD5=[6b938aaa00d607450747573c86f67e18]\n",
       "@startuml\r\n",
       "skinparam monochrome true\r\n",
       "skinparam classbackgroundcolor white\r\n",
       "skinparam shadowing false\r\n",
       "skinparam wrapWidth 300\r\n",
       "hide circle\r\n",
       "\r\n",
       "package \"eVehicle_LogicalArchitecture\" as E1  [[psysml:b21ffda8-d878-4d03-b872-c73a871e386d ]]  {\r\n",
       "comp def \"Wheel\" as E2  <<(T,blue) part  def>> [[psysml:1dae77ac-77d5-4349-bddf-3e505b5b78ba ]] {\r\n",
       "- - attributes - -\r\n",
       "size: Integer\r\n",
       "}\r\n",
       "comp usage \"eVehicle \" as E3  <<(T,blue) part>> [[psysml:60ee4342-87c7-4235-9683-ba6dd1b834aa ]] {\r\n",
       "}\r\n",
       "comp usage \"body \" as E4  <<(T,blue) part>> [[psysml:d7cb8f97-a1b7-46a9-8a44-be46a6ee5fe8 ]] {\r\n",
       "}\r\n",
       "comp usage \"battery \" as E5  <<(T,blue) part>> [[psysml:36782a73-3aa9-416c-9337-a2e245ff4a1f ]] {\r\n",
       "}\r\n",
       "comp usage \"engine \" as E6  <<(T,blue) part>> [[psysml:dbc8a320-73f1-482f-a0f0-f568206e84e9 ]] {\r\n",
       "}\r\n",
       "comp usage \"frontAxis \" as E7  <<(T,blue) part>> [[psysml:c0136bc0-1ce7-409b-8f59-aa264782c566 ]] {\r\n",
       "}\r\n",
       "comp usage \"rearAxis \" as E8  <<(T,blue) part>> [[psysml:a1da6747-6fef-4905-bb0d-33e9b101ca3a ]] {\r\n",
       "}\r\n",
       "comp usage \"frontWheel: Wheel \" as E9  <<(T,blue) part>> [[psysml:0a261e43-8a73-4f9c-8bd3-f8066deb4d6c ]] {\r\n",
       "}\r\n",
       "comp usage \"rearWheel: Wheel \" as E10  <<(T,blue) part>> [[psysml:2ff856ed-102d-493c-a598-41b60c5af696 ]] {\r\n",
       "}\r\n",
       "}\r\n",
       "E3 *- - \"1\"E4 [[psysml:8fb21e23-a003-47f5-840c-d304223fe572 ]] \r\n",
       "E3 *- - \"1\"E5 [[psysml:1dca512c-2533-474d-a5be-5269436e12f2 ]] \r\n",
       "E3 *- - \"1\"E6 [[psysml:76b7838f-f950-497f-a9b1-81f184684e78 ]] \r\n",
       "E3 *- - \"1\"E7 [[psysml:ba47c54b-c82f-4b5a-bf5d-bc5bccfd3405 ]] \r\n",
       "E3 *- - \"1\"E8 [[psysml:c5edf57e-1835-4ebc-8bdf-c827e14685b1 ]] \r\n",
       "E3 *- - \"2\"E9 [[psysml:0e40cf25-a7ca-447d-af77-405310c8d08e ]] \r\n",
       "E9 - -:|> E2 [[psysml:1cecebc2-3b8b-4c6f-9f97-39f11ff27fbc ]] \r\n",
       "E3 *- - \"2\"E10 [[psysml:f9fed1b9-caac-4992-9dd2-9584129b0afa ]] \r\n",
       "E10 - -:|> E2 [[psysml:87639dd5-bb47-48c1-80d3-7b70ebceb0da ]] \r\n",
       "@enduml\r\n",
       "\n",
       "PlantUML version 1.2020.13(Sat Jun 13 14:26:38 CEST 2020)\n",
       "(EPL source distribution)\n",
       "Java Runtime: OpenJDK Runtime Environment\n",
       "JVM: OpenJDK 64-Bit Server VM\n",
       "Default Encoding: Cp1252\n",
       "Language: en\n",
       "Country: US\n",
       "--></g></svg>"
      ]
     },
     "execution_count": 5,
     "metadata": {},
     "output_type": "execute_result"
    }
   ],
   "source": [
    "%viz --view=tree eVehicle_LogicalArchitecture"
   ]
  },
  {
   "cell_type": "markdown",
   "metadata": {},
   "source": [
    "The attribute *size* itself can also be defined and reused for several attribute usages. It is a common concept in SysML v2 to separate the definition of elements and the usage of elements. SysML v1 also follows this concept, but not as consequent as SysML v2. \n",
    "\n",
    "The attribute definition is not mandatory and only partly useful in this example, because the size is only used at one place. But I added it anyhow as an example for attribute definitions. The keyword *attribute* can be omitted as, for example, in the definition of the *size* value. The AttributeDefinition can be compared to the SysML v1 ValueType."
   ]
  },
  {
   "cell_type": "code",
   "execution_count": 8,
   "metadata": {},
   "outputs": [
    {
     "data": {
      "text/plain": [
       "Package eVehicle_LogicalArchitecture (c6948147-8b27-4117-ad92-0e9796136ca0)\n"
      ]
     },
     "execution_count": 8,
     "metadata": {},
     "output_type": "execute_result"
    }
   ],
   "source": [
    "package eVehicle_LogicalArchitecture {   \n",
    "    \n",
    "    attribute def WheelSize {\n",
    "        import ScalarValues::Integer;\n",
    "        size : Integer;\n",
    "    }\n",
    "    \n",
    "    part def Wheel {\n",
    "        attribute sizeOfWheel : WheelSize;\n",
    "    }\n",
    "    \n",
    "    part eVehicle {    \n",
    "        part body;\n",
    "        part battery;\n",
    "        part engine;\n",
    "        part frontAxis;\n",
    "        part rearAxis;\n",
    "        part frontWheel : Wheel[2];\n",
    "        part rearWheel : Wheel[2];\n",
    "    }\n",
    "}"
   ]
  },
  {
   "cell_type": "code",
   "execution_count": 7,
   "metadata": {},
   "outputs": [
    {
     "data": {
      "image/svg+xml": [
       "<?xml version=\"1.0\" encoding=\"UTF-8\" standalone=\"no\"?><svg xmlns=\"http://www.w3.org/2000/svg\" xmlns:xlink=\"http://www.w3.org/1999/xlink\" contentScriptType=\"application/ecmascript\" contentStyleType=\"text/css\" height=\"366px\" preserveAspectRatio=\"none\" style=\"width:734px;height:366px;\" version=\"1.1\" viewBox=\"0 0 734 366\" width=\"734px\" zoomAndPan=\"magnify\"><defs/><g><!--MD5=[fbc87193dbaf4d95561dea2c320d4a47]\n",
       "cluster E1--><a href=\"psysml:f276b33a-68eb-42cf-8a44-e5d29e686a17\" target=\"_top\" title=\"psysml:f276b33a-68eb-42cf-8a44-e5d29e686a17\" xlink:actuate=\"onRequest\" xlink:href=\"psysml:f276b33a-68eb-42cf-8a44-e5d29e686a17\" xlink:show=\"new\" xlink:title=\"psysml:f276b33a-68eb-42cf-8a44-e5d29e686a17\" xlink:type=\"simple\"><polygon fill=\"#FFFFFF\" points=\"16,6,228,6,235,29.6094,712,29.6094,712,354,16,354,16,6\" style=\"stroke: #000000; stroke-width: 1.5;\"/><line style=\"stroke: #000000; stroke-width: 1.5;\" x1=\"16\" x2=\"235\" y1=\"29.6094\" y2=\"29.6094\"/><text fill=\"#000000\" font-family=\"sans-serif\" font-size=\"14\" font-weight=\"bold\" lengthAdjust=\"spacingAndGlyphs\" textLength=\"206\" x=\"20\" y=\"22.5332\">eVehicle_LogicalArchitecture</text></a><!--MD5=[b4997ac47864f28c2f74865a473b2911]\n",
       "class E2--><a href=\"psysml:16212a00-d149-4896-ad93-9a901e9191f8\" target=\"_top\" title=\"psysml:16212a00-d149-4896-ad93-9a901e9191f8\" xlink:actuate=\"onRequest\" xlink:href=\"psysml:16212a00-d149-4896-ad93-9a901e9191f8\" xlink:show=\"new\" xlink:title=\"psysml:16212a00-d149-4896-ad93-9a901e9191f8\" xlink:type=\"simple\"><rect fill=\"#FFFFFF\" height=\"48.1875\" id=\"E2\" style=\"stroke: #383838; stroke-width: 1.5;\" width=\"84\" x=\"484\" y=\"42\"/><text fill=\"#000000\" font-family=\"sans-serif\" font-size=\"12\" font-style=\"italic\" lengthAdjust=\"spacingAndGlyphs\" textLength=\"82\" x=\"485\" y=\"59.457\">«attribute  def»</text><text fill=\"#000000\" font-family=\"sans-serif\" font-size=\"12\" lengthAdjust=\"spacingAndGlyphs\" textLength=\"58\" x=\"497\" y=\"74.5508\">WheelSize</text><line style=\"stroke: #383838; stroke-width: 1.5;\" x1=\"485\" x2=\"567\" y1=\"82.1875\" y2=\"82.1875\"/></a><!--MD5=[09b614a08d8cba4a07c9adeb5e0fee81]\n",
       "class E3--><a href=\"psysml:2b503c31-9abc-4d78-b79e-63c8d3af1f15\" target=\"_top\" title=\"psysml:2b503c31-9abc-4d78-b79e-63c8d3af1f15\" xlink:actuate=\"onRequest\" xlink:href=\"psysml:2b503c31-9abc-4d78-b79e-63c8d3af1f15\" xlink:show=\"new\" xlink:title=\"psysml:2b503c31-9abc-4d78-b79e-63c8d3af1f15\" xlink:type=\"simple\"><rect fill=\"#FFFFFF\" height=\"79.8594\" id=\"E3\" style=\"stroke: #383838; stroke-width: 1.5;\" width=\"131\" x=\"498.5\" y=\"258\"/><text fill=\"#000000\" font-family=\"sans-serif\" font-size=\"12\" font-style=\"italic\" lengthAdjust=\"spacingAndGlyphs\" textLength=\"58\" x=\"535\" y=\"275.457\">«part  def»</text><text fill=\"#000000\" font-family=\"sans-serif\" font-size=\"12\" lengthAdjust=\"spacingAndGlyphs\" textLength=\"35\" x=\"546.5\" y=\"290.5508\">Wheel</text><line style=\"stroke: #383838; stroke-width: 1.5;\" x1=\"499.5\" x2=\"628.5\" y1=\"298.1875\" y2=\"298.1875\"/><text fill=\"#000000\" font-family=\"sans-serif\" font-size=\"11\" lengthAdjust=\"spacingAndGlyphs\" textLength=\"119\" x=\"504.5\" y=\"331.4424\">sizeOfWheel: WheelSize</text><line style=\"stroke: #383838; stroke-width: 1.0;\" x1=\"499.5\" x2=\"541.5\" y1=\"313.1055\" y2=\"313.1055\"/><text fill=\"#000000\" font-family=\"sans-serif\" font-size=\"11\" lengthAdjust=\"spacingAndGlyphs\" textLength=\"45\" x=\"541.5\" y=\"317.1064\">attributes</text><line style=\"stroke: #383838; stroke-width: 1.0;\" x1=\"586.5\" x2=\"628.5\" y1=\"313.1055\" y2=\"313.1055\"/></a><!--MD5=[ebbe1d658d1005bcc118a6aa81145e00]\n",
       "class E4--><a href=\"psysml:a4ed8da9-0c06-4a0a-bd5f-063e1687b8b1\" target=\"_top\" title=\"psysml:a4ed8da9-0c06-4a0a-bd5f-063e1687b8b1\" xlink:actuate=\"onRequest\" xlink:href=\"psysml:a4ed8da9-0c06-4a0a-bd5f-063e1687b8b1\" xlink:show=\"new\" xlink:title=\"psysml:a4ed8da9-0c06-4a0a-bd5f-063e1687b8b1\" xlink:type=\"simple\"><rect fill=\"#FFFFFF\" height=\"48.1875\" id=\"E4\" rx=\"10\" ry=\"10\" style=\"stroke: #383838; stroke-width: 1.5;\" width=\"56\" x=\"266\" y=\"42\"/><text fill=\"#000000\" font-family=\"sans-serif\" font-size=\"12\" font-style=\"italic\" lengthAdjust=\"spacingAndGlyphs\" textLength=\"35\" x=\"276.5\" y=\"59.457\">«part»</text><text fill=\"#000000\" font-family=\"sans-serif\" font-size=\"12\" lengthAdjust=\"spacingAndGlyphs\" textLength=\"47\" x=\"269\" y=\"74.5508\">eVehicle</text><line style=\"stroke: #383838; stroke-width: 1.5;\" x1=\"267\" x2=\"321\" y1=\"82.1875\" y2=\"82.1875\"/></a><!--MD5=[270fce915f116d4de14055a7c1d9a0f3]\n",
       "class E5--><a href=\"psysml:ae68f9cf-02c1-4a45-99d0-104d83da2045\" target=\"_top\" title=\"psysml:ae68f9cf-02c1-4a45-99d0-104d83da2045\" xlink:actuate=\"onRequest\" xlink:href=\"psysml:ae68f9cf-02c1-4a45-99d0-104d83da2045\" xlink:show=\"new\" xlink:title=\"psysml:ae68f9cf-02c1-4a45-99d0-104d83da2045\" xlink:type=\"simple\"><rect fill=\"#FFFFFF\" height=\"48.1875\" id=\"E5\" rx=\"10\" ry=\"10\" style=\"stroke: #383838; stroke-width: 1.5;\" width=\"37\" x=\"32.5\" y=\"150\"/><text fill=\"#000000\" font-family=\"sans-serif\" font-size=\"12\" font-style=\"italic\" lengthAdjust=\"spacingAndGlyphs\" textLength=\"35\" x=\"33.5\" y=\"167.457\">«part»</text><text fill=\"#000000\" font-family=\"sans-serif\" font-size=\"12\" lengthAdjust=\"spacingAndGlyphs\" textLength=\"26\" x=\"36.5\" y=\"182.5508\">body</text><line style=\"stroke: #383838; stroke-width: 1.5;\" x1=\"33.5\" x2=\"68.5\" y1=\"190.1875\" y2=\"190.1875\"/></a><!--MD5=[60a26617385b1d2d0262a64233df1f8d]\n",
       "class E6--><a href=\"psysml:2746ed6e-622d-435c-95c7-70da3f9731fb\" target=\"_top\" title=\"psysml:2746ed6e-622d-435c-95c7-70da3f9731fb\" xlink:actuate=\"onRequest\" xlink:href=\"psysml:2746ed6e-622d-435c-95c7-70da3f9731fb\" xlink:show=\"new\" xlink:title=\"psysml:2746ed6e-622d-435c-95c7-70da3f9731fb\" xlink:type=\"simple\"><rect fill=\"#FFFFFF\" height=\"48.1875\" id=\"E6\" rx=\"10\" ry=\"10\" style=\"stroke: #383838; stroke-width: 1.5;\" width=\"45\" x=\"104.5\" y=\"150\"/><text fill=\"#000000\" font-family=\"sans-serif\" font-size=\"12\" font-style=\"italic\" lengthAdjust=\"spacingAndGlyphs\" textLength=\"35\" x=\"109.5\" y=\"167.457\">«part»</text><text fill=\"#000000\" font-family=\"sans-serif\" font-size=\"12\" lengthAdjust=\"spacingAndGlyphs\" textLength=\"36\" x=\"107.5\" y=\"182.5508\">battery</text><line style=\"stroke: #383838; stroke-width: 1.5;\" x1=\"105.5\" x2=\"148.5\" y1=\"190.1875\" y2=\"190.1875\"/></a><!--MD5=[2156ba9850f5573cc1fc38a6a4b2f02b]\n",
       "class E7--><a href=\"psysml:819987de-cd84-4ed2-b581-2d0b672c7712\" target=\"_top\" title=\"psysml:819987de-cd84-4ed2-b581-2d0b672c7712\" xlink:actuate=\"onRequest\" xlink:href=\"psysml:819987de-cd84-4ed2-b581-2d0b672c7712\" xlink:show=\"new\" xlink:title=\"psysml:819987de-cd84-4ed2-b581-2d0b672c7712\" xlink:type=\"simple\"><rect fill=\"#FFFFFF\" height=\"48.1875\" id=\"E7\" rx=\"10\" ry=\"10\" style=\"stroke: #383838; stroke-width: 1.5;\" width=\"47\" x=\"184.5\" y=\"150\"/><text fill=\"#000000\" font-family=\"sans-serif\" font-size=\"12\" font-style=\"italic\" lengthAdjust=\"spacingAndGlyphs\" textLength=\"35\" x=\"190.5\" y=\"167.457\">«part»</text><text fill=\"#000000\" font-family=\"sans-serif\" font-size=\"12\" lengthAdjust=\"spacingAndGlyphs\" textLength=\"38\" x=\"187.5\" y=\"182.5508\">engine</text><line style=\"stroke: #383838; stroke-width: 1.5;\" x1=\"185.5\" x2=\"230.5\" y1=\"190.1875\" y2=\"190.1875\"/></a><!--MD5=[b9389687b975829384b498ac4b7476b2]\n",
       "class E8--><a href=\"psysml:cb93b153-0846-47b9-8160-89a8f14d660f\" target=\"_top\" title=\"psysml:cb93b153-0846-47b9-8160-89a8f14d660f\" xlink:actuate=\"onRequest\" xlink:href=\"psysml:cb93b153-0846-47b9-8160-89a8f14d660f\" xlink:show=\"new\" xlink:title=\"psysml:cb93b153-0846-47b9-8160-89a8f14d660f\" xlink:type=\"simple\"><rect fill=\"#FFFFFF\" height=\"48.1875\" id=\"E8\" rx=\"10\" ry=\"10\" style=\"stroke: #383838; stroke-width: 1.5;\" width=\"55\" x=\"266.5\" y=\"150\"/><text fill=\"#000000\" font-family=\"sans-serif\" font-size=\"12\" font-style=\"italic\" lengthAdjust=\"spacingAndGlyphs\" textLength=\"35\" x=\"276.5\" y=\"167.457\">«part»</text><text fill=\"#000000\" font-family=\"sans-serif\" font-size=\"12\" lengthAdjust=\"spacingAndGlyphs\" textLength=\"46\" x=\"269.5\" y=\"182.5508\">frontAxis</text><line style=\"stroke: #383838; stroke-width: 1.5;\" x1=\"267.5\" x2=\"320.5\" y1=\"190.1875\" y2=\"190.1875\"/></a><!--MD5=[fd4143e9d270a159db93a4ea2a975926]\n",
       "class E9--><a href=\"psysml:81ef1e7b-6392-4826-b562-f9b827b29184\" target=\"_top\" title=\"psysml:81ef1e7b-6392-4826-b562-f9b827b29184\" xlink:actuate=\"onRequest\" xlink:href=\"psysml:81ef1e7b-6392-4826-b562-f9b827b29184\" xlink:show=\"new\" xlink:title=\"psysml:81ef1e7b-6392-4826-b562-f9b827b29184\" xlink:type=\"simple\"><rect fill=\"#FFFFFF\" height=\"48.1875\" id=\"E9\" rx=\"10\" ry=\"10\" style=\"stroke: #383838; stroke-width: 1.5;\" width=\"53\" x=\"356.5\" y=\"150\"/><text fill=\"#000000\" font-family=\"sans-serif\" font-size=\"12\" font-style=\"italic\" lengthAdjust=\"spacingAndGlyphs\" textLength=\"35\" x=\"365.5\" y=\"167.457\">«part»</text><text fill=\"#000000\" font-family=\"sans-serif\" font-size=\"12\" lengthAdjust=\"spacingAndGlyphs\" textLength=\"44\" x=\"359.5\" y=\"182.5508\">rearAxis</text><line style=\"stroke: #383838; stroke-width: 1.5;\" x1=\"357.5\" x2=\"408.5\" y1=\"190.1875\" y2=\"190.1875\"/></a><!--MD5=[96f4274e9e20536e775497830990834d]\n",
       "class E10--><a href=\"psysml:00265480-af9c-4423-b9dc-2e40b09c8436\" target=\"_top\" title=\"psysml:00265480-af9c-4423-b9dc-2e40b09c8436\" xlink:actuate=\"onRequest\" xlink:href=\"psysml:00265480-af9c-4423-b9dc-2e40b09c8436\" xlink:show=\"new\" xlink:title=\"psysml:00265480-af9c-4423-b9dc-2e40b09c8436\" xlink:type=\"simple\"><rect fill=\"#FFFFFF\" height=\"48.1875\" id=\"E10\" rx=\"10\" ry=\"10\" style=\"stroke: #383838; stroke-width: 1.5;\" width=\"109\" x=\"444.5\" y=\"150\"/><text fill=\"#000000\" font-family=\"sans-serif\" font-size=\"12\" font-style=\"italic\" lengthAdjust=\"spacingAndGlyphs\" textLength=\"35\" x=\"481.5\" y=\"167.457\">«part»</text><text fill=\"#000000\" font-family=\"sans-serif\" font-size=\"12\" lengthAdjust=\"spacingAndGlyphs\" textLength=\"100\" x=\"447.5\" y=\"182.5508\">frontWheel: Wheel</text><line style=\"stroke: #383838; stroke-width: 1.5;\" x1=\"445.5\" x2=\"552.5\" y1=\"190.1875\" y2=\"190.1875\"/></a><!--MD5=[1dd1bfd58a279cf63c5f349dbc8fc6a1]\n",
       "class E11--><a href=\"psysml:de0255ba-f5a6-4ef2-90f5-c806077a6a1f\" target=\"_top\" title=\"psysml:de0255ba-f5a6-4ef2-90f5-c806077a6a1f\" xlink:actuate=\"onRequest\" xlink:href=\"psysml:de0255ba-f5a6-4ef2-90f5-c806077a6a1f\" xlink:show=\"new\" xlink:title=\"psysml:de0255ba-f5a6-4ef2-90f5-c806077a6a1f\" xlink:type=\"simple\"><rect fill=\"#FFFFFF\" height=\"48.1875\" id=\"E11\" rx=\"10\" ry=\"10\" style=\"stroke: #383838; stroke-width: 1.5;\" width=\"107\" x=\"588.5\" y=\"150\"/><text fill=\"#000000\" font-family=\"sans-serif\" font-size=\"12\" font-style=\"italic\" lengthAdjust=\"spacingAndGlyphs\" textLength=\"35\" x=\"624.5\" y=\"167.457\">«part»</text><text fill=\"#000000\" font-family=\"sans-serif\" font-size=\"12\" lengthAdjust=\"spacingAndGlyphs\" textLength=\"98\" x=\"591.5\" y=\"182.5508\">rearWheel: Wheel</text><line style=\"stroke: #383838; stroke-width: 1.5;\" x1=\"589.5\" x2=\"694.5\" y1=\"190.1875\" y2=\"190.1875\"/></a><!--MD5=[62aa6af11e70f752912c1cb0466f24f7]\n",
       "reverse link E4 to E5--><a href=\"psysml:721880ef-2fcc-4243-ab75-e5f0877fdd84\" target=\"_top\" title=\"psysml:721880ef-2fcc-4243-ab75-e5f0877fdd84\" xlink:actuate=\"onRequest\" xlink:href=\"psysml:721880ef-2fcc-4243-ab75-e5f0877fdd84\" xlink:show=\"new\" xlink:title=\"psysml:721880ef-2fcc-4243-ab75-e5f0877fdd84\" xlink:type=\"simple\"><path d=\"M253.5,80.69 C211.04,95.63 142.86,121.28 87,150 C81.2,152.98 75.13,156.63 69.66,160.14 \" fill=\"none\" id=\"E4&lt;-E5\" style=\"stroke: #383838; stroke-width: 1.0;\"/><polygon fill=\"#383838\" points=\"265.81,76.41,258.8292,74.6022,254.4755,80.3507,261.4563,82.1585,265.81,76.41\" style=\"stroke: #383838; stroke-width: 1.0;\"/><text fill=\"#000000\" font-family=\"sans-serif\" font-size=\"13\" lengthAdjust=\"spacingAndGlyphs\" textLength=\"7\" x=\"77.5545\" y=\"149.8767\">1</text></a><!--MD5=[6db378b65e1aef66a01cb3103812b399]\n",
       "reverse link E4 to E6--><a href=\"psysml:7ceaf93d-d51a-446a-b0de-0c417d8454ff\" target=\"_top\" title=\"psysml:7ceaf93d-d51a-446a-b0de-0c417d8454ff\" xlink:actuate=\"onRequest\" xlink:href=\"psysml:7ceaf93d-d51a-446a-b0de-0c417d8454ff\" xlink:show=\"new\" xlink:title=\"psysml:7ceaf93d-d51a-446a-b0de-0c417d8454ff\" xlink:type=\"simple\"><path d=\"M254.67,91.96 C221.94,112.74 176.48,141.59 149.57,158.68 \" fill=\"none\" id=\"E4&lt;-E6\" style=\"stroke: #383838; stroke-width: 1.0;\"/><polygon fill=\"#383838\" points=\"265.67,84.98,258.4608,84.8151,255.5358,91.4063,262.745,91.5712,265.67,84.98\" style=\"stroke: #383838; stroke-width: 1.0;\"/><text fill=\"#000000\" font-family=\"sans-serif\" font-size=\"13\" lengthAdjust=\"spacingAndGlyphs\" textLength=\"7\" x=\"157.5539\" y=\"149.0585\">1</text></a><!--MD5=[722ff4eef345aa10242dad44df0e98c7]\n",
       "reverse link E4 to E7--><a href=\"psysml:92cfbfdd-dfac-4fc4-a3d2-581332e43e82\" target=\"_top\" title=\"psysml:92cfbfdd-dfac-4fc4-a3d2-581332e43e82\" xlink:actuate=\"onRequest\" xlink:href=\"psysml:92cfbfdd-dfac-4fc4-a3d2-581332e43e82\" xlink:show=\"new\" xlink:title=\"psysml:92cfbfdd-dfac-4fc4-a3d2-581332e43e82\" xlink:type=\"simple\"><path d=\"M266.78,100.54 C253.81,116.53 238.61,135.27 226.92,149.68 \" fill=\"none\" id=\"E4&lt;-E7\" style=\"stroke: #383838; stroke-width: 1.0;\"/><polygon fill=\"#383838\" points=\"275.34,90,268.4531,92.138,267.7779,99.3174,274.6647,97.1794,275.34,90\" style=\"stroke: #383838; stroke-width: 1.0;\"/><text fill=\"#000000\" font-family=\"sans-serif\" font-size=\"13\" lengthAdjust=\"spacingAndGlyphs\" textLength=\"7\" x=\"223.6786\" y=\"139.3171\">1</text></a><!--MD5=[c6fc7cdb0cabde04948078cf183fa696]\n",
       "reverse link E4 to E8--><a href=\"psysml:a67c7ed0-ba80-4a4e-84d3-34e0cc7114d5\" target=\"_top\" title=\"psysml:a67c7ed0-ba80-4a4e-84d3-34e0cc7114d5\" xlink:actuate=\"onRequest\" xlink:href=\"psysml:a67c7ed0-ba80-4a4e-84d3-34e0cc7114d5\" xlink:show=\"new\" xlink:title=\"psysml:a67c7ed0-ba80-4a4e-84d3-34e0cc7114d5\" xlink:type=\"simple\"><path d=\"M294,103.34 C294,118.68 294,136.1 294,149.68 \" fill=\"none\" id=\"E4&lt;-E8\" style=\"stroke: #383838; stroke-width: 1.0;\"/><polygon fill=\"#383838\" points=\"294,90,290,96,294,102,298,96,294,90\" style=\"stroke: #383838; stroke-width: 1.0;\"/><text fill=\"#000000\" font-family=\"sans-serif\" font-size=\"13\" lengthAdjust=\"spacingAndGlyphs\" textLength=\"7\" x=\"286.1469\" y=\"139.3171\">1</text></a><!--MD5=[e7ea4bd30698dc91ca0c06b9d8e4f891]\n",
       "reverse link E4 to E9--><a href=\"psysml:93d2d258-436e-4885-ae35-410fb5c81a29\" target=\"_top\" title=\"psysml:93d2d258-436e-4885-ae35-410fb5c81a29\" xlink:actuate=\"onRequest\" xlink:href=\"psysml:93d2d258-436e-4885-ae35-410fb5c81a29\" xlink:show=\"new\" xlink:title=\"psysml:93d2d258-436e-4885-ae35-410fb5c81a29\" xlink:type=\"simple\"><path d=\"M321.78,100.08 C335.29,116.17 351.2,135.13 363.42,149.68 \" fill=\"none\" id=\"E4&lt;-E9\" style=\"stroke: #383838; stroke-width: 1.0;\"/><polygon fill=\"#383838\" points=\"313.31,90,314.1034,97.1673,321.0246,99.1916,320.2312,92.0243,313.31,90\" style=\"stroke: #383838; stroke-width: 1.0;\"/><text fill=\"#000000\" font-family=\"sans-serif\" font-size=\"13\" lengthAdjust=\"spacingAndGlyphs\" textLength=\"7\" x=\"350.7943\" y=\"139.3171\">1</text></a><!--MD5=[f119e7f268ff8fee167b0c2c9936af30]\n",
       "reverse link E4 to E10--><a href=\"psysml:a1861b1b-f702-4121-9ab4-b7103070091c\" target=\"_top\" title=\"psysml:a1861b1b-f702-4121-9ab4-b7103070091c\" xlink:actuate=\"onRequest\" xlink:href=\"psysml:a1861b1b-f702-4121-9ab4-b7103070091c\" xlink:show=\"new\" xlink:title=\"psysml:a1861b1b-f702-4121-9ab4-b7103070091c\" xlink:type=\"simple\"><path d=\"M334.07,87.72 C368.64,105.6 418.53,131.39 454.37,149.93 \" fill=\"none\" id=\"E4&lt;-E10\" style=\"stroke: #383838; stroke-width: 1.0;\"/><polygon fill=\"#383838\" points=\"322.07,81.52,325.5612,87.8296,332.7282,87.0338,329.2371,80.7241,322.07,81.52\" style=\"stroke: #383838; stroke-width: 1.0;\"/><text fill=\"#000000\" font-family=\"sans-serif\" font-size=\"13\" lengthAdjust=\"spacingAndGlyphs\" textLength=\"7\" x=\"435.0367\" y=\"139.2282\">2</text></a><!--MD5=[feeac5eb423634930294aa81f2d25a4c]\n",
       "link E10 to E3--><a href=\"psysml:4d07dc95-81b5-4c8a-bef2-cb038162ba04\" target=\"_top\" title=\"psysml:4d07dc95-81b5-4c8a-bef2-cb038162ba04\" xlink:actuate=\"onRequest\" xlink:href=\"psysml:4d07dc95-81b5-4c8a-bef2-cb038162ba04\" xlink:show=\"new\" xlink:title=\"psysml:4d07dc95-81b5-4c8a-bef2-cb038162ba04\" xlink:type=\"simple\"><path d=\"M511.38,198.23 C517.65,210 525.56,224.85 533.33,239.44 \" fill=\"none\" id=\"E10-&gt;E3\" style=\"stroke: #383838; stroke-width: 1.0;\"/><polygon fill=\"#FFFFFF\" points=\"542.97,257.53,527.858,244.0531,540.2137,237.47,542.97,257.53\" style=\"stroke: #383838; stroke-width: 1.0;\"/><ellipse cx=\"526.9429\" cy=\"238.0821\" fill=\"#383838\" rx=\"2\" ry=\"2\" style=\"stroke: #383838; stroke-width: 1.0;\"/><ellipse cx=\"535.7684\" cy=\"233.3799\" fill=\"#383838\" rx=\"2\" ry=\"2\" style=\"stroke: #383838; stroke-width: 1.0;\"/></a><!--MD5=[593b807a8aafaab39af1c25ada4edf41]\n",
       "reverse link E4 to E11--><a href=\"psysml:247a6856-38c3-482c-bd8f-072bc7d7c354\" target=\"_top\" title=\"psysml:247a6856-38c3-482c-bd8f-072bc7d7c354\" xlink:actuate=\"onRequest\" xlink:href=\"psysml:247a6856-38c3-482c-bd8f-072bc7d7c354\" xlink:show=\"new\" xlink:title=\"psysml:247a6856-38c3-482c-bd8f-072bc7d7c354\" xlink:type=\"simple\"><path d=\"M335.17,79.03 C389.34,94.92 487.49,123.97 571,150 C576.57,151.74 582.37,153.57 588.15,155.42 \" fill=\"none\" id=\"E4&lt;-E11\" style=\"stroke: #383838; stroke-width: 1.0;\"/><polygon fill=\"#383838\" points=\"322.38,75.28,327.012,80.8067,333.8951,78.6567,329.2631,73.13,322.38,75.28\" style=\"stroke: #383838; stroke-width: 1.0;\"/><text fill=\"#000000\" font-family=\"sans-serif\" font-size=\"13\" lengthAdjust=\"spacingAndGlyphs\" textLength=\"7\" x=\"573.4436\" y=\"149.3545\">2</text></a><!--MD5=[0517f1ce58c4d5483948f93845c45e26]\n",
       "link E11 to E3--><a href=\"psysml:66e75d13-d05e-47d8-99c1-084d19433a54\" target=\"_top\" title=\"psysml:66e75d13-d05e-47d8-99c1-084d19433a54\" xlink:actuate=\"onRequest\" xlink:href=\"psysml:66e75d13-d05e-47d8-99c1-084d19433a54\" xlink:show=\"new\" xlink:title=\"psysml:66e75d13-d05e-47d8-99c1-084d19433a54\" xlink:type=\"simple\"><path d=\"M627.15,198.23 C619.46,210.26 609.7,225.51 600.18,240.41 \" fill=\"none\" id=\"E11-&gt;E3\" style=\"stroke: #383838; stroke-width: 1.0;\"/><polygon fill=\"#FFFFFF\" points=\"589.24,257.53,593.5718,237.7503,605.3691,245.2886,589.24,257.53\" style=\"stroke: #383838; stroke-width: 1.0;\"/><ellipse cx=\"598.3263\" cy=\"234.0241\" fill=\"#383838\" rx=\"2\" ry=\"2\" style=\"stroke: #383838; stroke-width: 1.0;\"/><ellipse cx=\"606.7529\" cy=\"239.4085\" fill=\"#383838\" rx=\"2\" ry=\"2\" style=\"stroke: #383838; stroke-width: 1.0;\"/></a><!--MD5=[36c9f5cd2b1df227dc91e95a4f84c602]\n",
       "@startuml\r\n",
       "skinparam monochrome true\r\n",
       "skinparam classbackgroundcolor white\r\n",
       "skinparam shadowing false\r\n",
       "skinparam wrapWidth 300\r\n",
       "hide circle\r\n",
       "\r\n",
       "package \"eVehicle_LogicalArchitecture\" as E1  [[psysml:f276b33a-68eb-42cf-8a44-e5d29e686a17 ]]  {\r\n",
       "comp def \"WheelSize\" as E2  <<(T,blue) attribute  def>> [[psysml:16212a00-d149-4896-ad93-9a901e9191f8 ]] {\r\n",
       "}\r\n",
       "comp def \"Wheel\" as E3  <<(T,blue) part  def>> [[psysml:2b503c31-9abc-4d78-b79e-63c8d3af1f15 ]] {\r\n",
       "- - attributes - -\r\n",
       "sizeOfWheel: WheelSize\r\n",
       "}\r\n",
       "comp usage \"eVehicle \" as E4  <<(T,blue) part>> [[psysml:a4ed8da9-0c06-4a0a-bd5f-063e1687b8b1 ]] {\r\n",
       "}\r\n",
       "comp usage \"body \" as E5  <<(T,blue) part>> [[psysml:ae68f9cf-02c1-4a45-99d0-104d83da2045 ]] {\r\n",
       "}\r\n",
       "comp usage \"battery \" as E6  <<(T,blue) part>> [[psysml:2746ed6e-622d-435c-95c7-70da3f9731fb ]] {\r\n",
       "}\r\n",
       "comp usage \"engine \" as E7  <<(T,blue) part>> [[psysml:819987de-cd84-4ed2-b581-2d0b672c7712 ]] {\r\n",
       "}\r\n",
       "comp usage \"frontAxis \" as E8  <<(T,blue) part>> [[psysml:cb93b153-0846-47b9-8160-89a8f14d660f ]] {\r\n",
       "}\r\n",
       "comp usage \"rearAxis \" as E9  <<(T,blue) part>> [[psysml:81ef1e7b-6392-4826-b562-f9b827b29184 ]] {\r\n",
       "}\r\n",
       "comp usage \"frontWheel: Wheel \" as E10  <<(T,blue) part>> [[psysml:00265480-af9c-4423-b9dc-2e40b09c8436 ]] {\r\n",
       "}\r\n",
       "comp usage \"rearWheel: Wheel \" as E11  <<(T,blue) part>> [[psysml:de0255ba-f5a6-4ef2-90f5-c806077a6a1f ]] {\r\n",
       "}\r\n",
       "}\r\n",
       "E4 *- - \"1\"E5 [[psysml:721880ef-2fcc-4243-ab75-e5f0877fdd84 ]] \r\n",
       "E4 *- - \"1\"E6 [[psysml:7ceaf93d-d51a-446a-b0de-0c417d8454ff ]] \r\n",
       "E4 *- - \"1\"E7 [[psysml:92cfbfdd-dfac-4fc4-a3d2-581332e43e82 ]] \r\n",
       "E4 *- - \"1\"E8 [[psysml:a67c7ed0-ba80-4a4e-84d3-34e0cc7114d5 ]] \r\n",
       "E4 *- - \"1\"E9 [[psysml:93d2d258-436e-4885-ae35-410fb5c81a29 ]] \r\n",
       "E4 *- - \"2\"E10 [[psysml:a1861b1b-f702-4121-9ab4-b7103070091c ]] \r\n",
       "E10 - -:|> E3 [[psysml:4d07dc95-81b5-4c8a-bef2-cb038162ba04 ]] \r\n",
       "E4 *- - \"2\"E11 [[psysml:247a6856-38c3-482c-bd8f-072bc7d7c354 ]] \r\n",
       "E11 - -:|> E3 [[psysml:66e75d13-d05e-47d8-99c1-084d19433a54 ]] \r\n",
       "@enduml\r\n",
       "\n",
       "PlantUML version 1.2020.13(Sat Jun 13 14:26:38 CEST 2020)\n",
       "(EPL source distribution)\n",
       "Java Runtime: OpenJDK Runtime Environment\n",
       "JVM: OpenJDK 64-Bit Server VM\n",
       "Default Encoding: Cp1252\n",
       "Language: en\n",
       "Country: US\n",
       "--></g></svg>"
      ]
     },
     "execution_count": 7,
     "metadata": {},
     "output_type": "execute_result"
    }
   ],
   "source": [
    "%viz --view=tree eVehicle_LogicalArchitecture"
   ]
  },
  {
   "cell_type": "markdown",
   "metadata": {},
   "source": [
    "SysML v2 provides an extensive model library that also includes geometric figures. We can therefore drop the attribute definition \"WheelSize\" and specialize the PartDefinition \"Wheel\" from a cylinder. This also gives it the properties of a cylinder. As an example, in the following model, a radius is set. The imported SI library contains the unit \"mm\". The \":=\" symbol is an assignment for the initial value of the attribute."
   ]
  },
  {
   "cell_type": "code",
   "execution_count": 13,
   "metadata": {},
   "outputs": [
    {
     "data": {
      "text/plain": [
       "Package eVehicle_LogicalArchitecture (00bd3eea-440f-46b5-8ef5-66d4c1b0c858)\n"
      ]
     },
     "execution_count": 13,
     "metadata": {},
     "output_type": "execute_result"
    }
   ],
   "source": [
    "package eVehicle_LogicalArchitecture {   \n",
    "       \n",
    "    part def Wheel :> ShapeItems::CircularCylinder {\n",
    "        import SI::*;\n",
    "        :>> radius := 325 [mm];\n",
    "    }\n",
    "    \n",
    "    part eVehicle {    \n",
    "        part body;\n",
    "        part battery;\n",
    "        part engine;\n",
    "        part frontAxis;\n",
    "        part rearAxis;\n",
    "        part frontWheel : Wheel[2];\n",
    "        part rearWheel : Wheel[2];\n",
    "    }\n",
    "}"
   ]
  },
  {
   "cell_type": "code",
   "execution_count": 14,
   "metadata": {},
   "outputs": [
    {
     "data": {
      "image/svg+xml": [
       "<?xml version=\"1.0\" encoding=\"UTF-8\" standalone=\"no\"?><svg xmlns=\"http://www.w3.org/2000/svg\" xmlns:xlink=\"http://www.w3.org/1999/xlink\" contentScriptType=\"application/ecmascript\" contentStyleType=\"text/css\" height=\"380px\" preserveAspectRatio=\"none\" style=\"width:734px;height:380px;\" version=\"1.1\" viewBox=\"0 0 734 380\" width=\"734px\" zoomAndPan=\"magnify\"><defs/><g><!--MD5=[fbc87193dbaf4d95561dea2c320d4a47]\n",
       "cluster E1--><a href=\"psysml:00bd3eea-440f-46b5-8ef5-66d4c1b0c858\" target=\"_top\" title=\"psysml:00bd3eea-440f-46b5-8ef5-66d4c1b0c858\" xlink:actuate=\"onRequest\" xlink:href=\"psysml:00bd3eea-440f-46b5-8ef5-66d4c1b0c858\" xlink:show=\"new\" xlink:title=\"psysml:00bd3eea-440f-46b5-8ef5-66d4c1b0c858\" xlink:type=\"simple\"><polygon fill=\"#FFFFFF\" points=\"16,6,228,6,235,29.6094,712,29.6094,712,368,16,368,16,6\" style=\"stroke: #000000; stroke-width: 1.5;\"/><line style=\"stroke: #000000; stroke-width: 1.5;\" x1=\"16\" x2=\"235\" y1=\"29.6094\" y2=\"29.6094\"/><text fill=\"#000000\" font-family=\"sans-serif\" font-size=\"14\" font-weight=\"bold\" lengthAdjust=\"spacingAndGlyphs\" textLength=\"206\" x=\"20\" y=\"22.5332\">eVehicle_LogicalArchitecture</text></a><!--MD5=[b4997ac47864f28c2f74865a473b2911]\n",
       "class E2--><a href=\"psysml:b108b955-f029-4523-977f-5f730234157f\" target=\"_top\" title=\"psysml:b108b955-f029-4523-977f-5f730234157f\" xlink:actuate=\"onRequest\" xlink:href=\"psysml:b108b955-f029-4523-977f-5f730234157f\" xlink:show=\"new\" xlink:title=\"psysml:b108b955-f029-4523-977f-5f730234157f\" xlink:type=\"simple\"><rect fill=\"#FFFFFF\" height=\"93.6953\" id=\"E2\" style=\"stroke: #383838; stroke-width: 1.5;\" width=\"145\" x=\"488.5\" y=\"258\"/><text fill=\"#000000\" font-family=\"sans-serif\" font-size=\"12\" font-style=\"italic\" lengthAdjust=\"spacingAndGlyphs\" textLength=\"58\" x=\"532\" y=\"275.457\">«part  def»</text><text fill=\"#000000\" font-family=\"sans-serif\" font-size=\"12\" lengthAdjust=\"spacingAndGlyphs\" textLength=\"35\" x=\"543.5\" y=\"290.5508\">Wheel</text><line style=\"stroke: #383838; stroke-width: 1.5;\" x1=\"489.5\" x2=\"632.5\" y1=\"298.1875\" y2=\"298.1875\"/><text fill=\"#000000\" font-family=\"sans-serif\" font-size=\"11\" lengthAdjust=\"spacingAndGlyphs\" textLength=\"88\" x=\"494.5\" y=\"331.4424\">radius:= 325 [mm];</text><text fill=\"#000000\" font-family=\"sans-serif\" font-size=\"11\" font-style=\"italic\" lengthAdjust=\"spacingAndGlyphs\" textLength=\"133\" x=\"494.5\" y=\"345.2783\">:&gt;&gt;CircularCylinder::radius</text><line style=\"stroke: #383838; stroke-width: 1.0;\" x1=\"489.5\" x2=\"534\" y1=\"313.1055\" y2=\"313.1055\"/><text fill=\"#000000\" font-family=\"sans-serif\" font-size=\"11\" lengthAdjust=\"spacingAndGlyphs\" textLength=\"54\" x=\"534\" y=\"317.1064\">references</text><line style=\"stroke: #383838; stroke-width: 1.0;\" x1=\"588\" x2=\"632.5\" y1=\"313.1055\" y2=\"313.1055\"/></a><!--MD5=[09b614a08d8cba4a07c9adeb5e0fee81]\n",
       "class E3--><a href=\"psysml:cd756b31-96ec-4b8c-8888-a0005eaf0e5a\" target=\"_top\" title=\"psysml:cd756b31-96ec-4b8c-8888-a0005eaf0e5a\" xlink:actuate=\"onRequest\" xlink:href=\"psysml:cd756b31-96ec-4b8c-8888-a0005eaf0e5a\" xlink:show=\"new\" xlink:title=\"psysml:cd756b31-96ec-4b8c-8888-a0005eaf0e5a\" xlink:type=\"simple\"><rect fill=\"#FFFFFF\" height=\"48.1875\" id=\"E3\" rx=\"10\" ry=\"10\" style=\"stroke: #383838; stroke-width: 1.5;\" width=\"56\" x=\"266\" y=\"42\"/><text fill=\"#000000\" font-family=\"sans-serif\" font-size=\"12\" font-style=\"italic\" lengthAdjust=\"spacingAndGlyphs\" textLength=\"35\" x=\"276.5\" y=\"59.457\">«part»</text><text fill=\"#000000\" font-family=\"sans-serif\" font-size=\"12\" lengthAdjust=\"spacingAndGlyphs\" textLength=\"47\" x=\"269\" y=\"74.5508\">eVehicle</text><line style=\"stroke: #383838; stroke-width: 1.5;\" x1=\"267\" x2=\"321\" y1=\"82.1875\" y2=\"82.1875\"/></a><!--MD5=[ebbe1d658d1005bcc118a6aa81145e00]\n",
       "class E4--><a href=\"psysml:2bec53e6-1d43-4107-ba14-56a42fdba5d5\" target=\"_top\" title=\"psysml:2bec53e6-1d43-4107-ba14-56a42fdba5d5\" xlink:actuate=\"onRequest\" xlink:href=\"psysml:2bec53e6-1d43-4107-ba14-56a42fdba5d5\" xlink:show=\"new\" xlink:title=\"psysml:2bec53e6-1d43-4107-ba14-56a42fdba5d5\" xlink:type=\"simple\"><rect fill=\"#FFFFFF\" height=\"48.1875\" id=\"E4\" rx=\"10\" ry=\"10\" style=\"stroke: #383838; stroke-width: 1.5;\" width=\"37\" x=\"32.5\" y=\"150\"/><text fill=\"#000000\" font-family=\"sans-serif\" font-size=\"12\" font-style=\"italic\" lengthAdjust=\"spacingAndGlyphs\" textLength=\"35\" x=\"33.5\" y=\"167.457\">«part»</text><text fill=\"#000000\" font-family=\"sans-serif\" font-size=\"12\" lengthAdjust=\"spacingAndGlyphs\" textLength=\"26\" x=\"36.5\" y=\"182.5508\">body</text><line style=\"stroke: #383838; stroke-width: 1.5;\" x1=\"33.5\" x2=\"68.5\" y1=\"190.1875\" y2=\"190.1875\"/></a><!--MD5=[270fce915f116d4de14055a7c1d9a0f3]\n",
       "class E5--><a href=\"psysml:4ae0f3f6-55e1-455d-aad3-4a8d5cee7798\" target=\"_top\" title=\"psysml:4ae0f3f6-55e1-455d-aad3-4a8d5cee7798\" xlink:actuate=\"onRequest\" xlink:href=\"psysml:4ae0f3f6-55e1-455d-aad3-4a8d5cee7798\" xlink:show=\"new\" xlink:title=\"psysml:4ae0f3f6-55e1-455d-aad3-4a8d5cee7798\" xlink:type=\"simple\"><rect fill=\"#FFFFFF\" height=\"48.1875\" id=\"E5\" rx=\"10\" ry=\"10\" style=\"stroke: #383838; stroke-width: 1.5;\" width=\"45\" x=\"104.5\" y=\"150\"/><text fill=\"#000000\" font-family=\"sans-serif\" font-size=\"12\" font-style=\"italic\" lengthAdjust=\"spacingAndGlyphs\" textLength=\"35\" x=\"109.5\" y=\"167.457\">«part»</text><text fill=\"#000000\" font-family=\"sans-serif\" font-size=\"12\" lengthAdjust=\"spacingAndGlyphs\" textLength=\"36\" x=\"107.5\" y=\"182.5508\">battery</text><line style=\"stroke: #383838; stroke-width: 1.5;\" x1=\"105.5\" x2=\"148.5\" y1=\"190.1875\" y2=\"190.1875\"/></a><!--MD5=[60a26617385b1d2d0262a64233df1f8d]\n",
       "class E6--><a href=\"psysml:4af56632-cf1a-420e-9344-eca299cd8bd9\" target=\"_top\" title=\"psysml:4af56632-cf1a-420e-9344-eca299cd8bd9\" xlink:actuate=\"onRequest\" xlink:href=\"psysml:4af56632-cf1a-420e-9344-eca299cd8bd9\" xlink:show=\"new\" xlink:title=\"psysml:4af56632-cf1a-420e-9344-eca299cd8bd9\" xlink:type=\"simple\"><rect fill=\"#FFFFFF\" height=\"48.1875\" id=\"E6\" rx=\"10\" ry=\"10\" style=\"stroke: #383838; stroke-width: 1.5;\" width=\"47\" x=\"184.5\" y=\"150\"/><text fill=\"#000000\" font-family=\"sans-serif\" font-size=\"12\" font-style=\"italic\" lengthAdjust=\"spacingAndGlyphs\" textLength=\"35\" x=\"190.5\" y=\"167.457\">«part»</text><text fill=\"#000000\" font-family=\"sans-serif\" font-size=\"12\" lengthAdjust=\"spacingAndGlyphs\" textLength=\"38\" x=\"187.5\" y=\"182.5508\">engine</text><line style=\"stroke: #383838; stroke-width: 1.5;\" x1=\"185.5\" x2=\"230.5\" y1=\"190.1875\" y2=\"190.1875\"/></a><!--MD5=[2156ba9850f5573cc1fc38a6a4b2f02b]\n",
       "class E7--><a href=\"psysml:84158913-66ca-43b6-8d13-58e819137d9e\" target=\"_top\" title=\"psysml:84158913-66ca-43b6-8d13-58e819137d9e\" xlink:actuate=\"onRequest\" xlink:href=\"psysml:84158913-66ca-43b6-8d13-58e819137d9e\" xlink:show=\"new\" xlink:title=\"psysml:84158913-66ca-43b6-8d13-58e819137d9e\" xlink:type=\"simple\"><rect fill=\"#FFFFFF\" height=\"48.1875\" id=\"E7\" rx=\"10\" ry=\"10\" style=\"stroke: #383838; stroke-width: 1.5;\" width=\"55\" x=\"266.5\" y=\"150\"/><text fill=\"#000000\" font-family=\"sans-serif\" font-size=\"12\" font-style=\"italic\" lengthAdjust=\"spacingAndGlyphs\" textLength=\"35\" x=\"276.5\" y=\"167.457\">«part»</text><text fill=\"#000000\" font-family=\"sans-serif\" font-size=\"12\" lengthAdjust=\"spacingAndGlyphs\" textLength=\"46\" x=\"269.5\" y=\"182.5508\">frontAxis</text><line style=\"stroke: #383838; stroke-width: 1.5;\" x1=\"267.5\" x2=\"320.5\" y1=\"190.1875\" y2=\"190.1875\"/></a><!--MD5=[b9389687b975829384b498ac4b7476b2]\n",
       "class E8--><a href=\"psysml:e83be76e-4bed-474b-8a20-2851b1986901\" target=\"_top\" title=\"psysml:e83be76e-4bed-474b-8a20-2851b1986901\" xlink:actuate=\"onRequest\" xlink:href=\"psysml:e83be76e-4bed-474b-8a20-2851b1986901\" xlink:show=\"new\" xlink:title=\"psysml:e83be76e-4bed-474b-8a20-2851b1986901\" xlink:type=\"simple\"><rect fill=\"#FFFFFF\" height=\"48.1875\" id=\"E8\" rx=\"10\" ry=\"10\" style=\"stroke: #383838; stroke-width: 1.5;\" width=\"53\" x=\"356.5\" y=\"150\"/><text fill=\"#000000\" font-family=\"sans-serif\" font-size=\"12\" font-style=\"italic\" lengthAdjust=\"spacingAndGlyphs\" textLength=\"35\" x=\"365.5\" y=\"167.457\">«part»</text><text fill=\"#000000\" font-family=\"sans-serif\" font-size=\"12\" lengthAdjust=\"spacingAndGlyphs\" textLength=\"44\" x=\"359.5\" y=\"182.5508\">rearAxis</text><line style=\"stroke: #383838; stroke-width: 1.5;\" x1=\"357.5\" x2=\"408.5\" y1=\"190.1875\" y2=\"190.1875\"/></a><!--MD5=[fd4143e9d270a159db93a4ea2a975926]\n",
       "class E9--><a href=\"psysml:0bea26c5-adec-464c-91eb-a652cb068b26\" target=\"_top\" title=\"psysml:0bea26c5-adec-464c-91eb-a652cb068b26\" xlink:actuate=\"onRequest\" xlink:href=\"psysml:0bea26c5-adec-464c-91eb-a652cb068b26\" xlink:show=\"new\" xlink:title=\"psysml:0bea26c5-adec-464c-91eb-a652cb068b26\" xlink:type=\"simple\"><rect fill=\"#FFFFFF\" height=\"48.1875\" id=\"E9\" rx=\"10\" ry=\"10\" style=\"stroke: #383838; stroke-width: 1.5;\" width=\"109\" x=\"444.5\" y=\"150\"/><text fill=\"#000000\" font-family=\"sans-serif\" font-size=\"12\" font-style=\"italic\" lengthAdjust=\"spacingAndGlyphs\" textLength=\"35\" x=\"481.5\" y=\"167.457\">«part»</text><text fill=\"#000000\" font-family=\"sans-serif\" font-size=\"12\" lengthAdjust=\"spacingAndGlyphs\" textLength=\"100\" x=\"447.5\" y=\"182.5508\">frontWheel: Wheel</text><line style=\"stroke: #383838; stroke-width: 1.5;\" x1=\"445.5\" x2=\"552.5\" y1=\"190.1875\" y2=\"190.1875\"/></a><!--MD5=[96f4274e9e20536e775497830990834d]\n",
       "class E10--><a href=\"psysml:b5ca3349-da91-4606-821f-07ffc8144e5b\" target=\"_top\" title=\"psysml:b5ca3349-da91-4606-821f-07ffc8144e5b\" xlink:actuate=\"onRequest\" xlink:href=\"psysml:b5ca3349-da91-4606-821f-07ffc8144e5b\" xlink:show=\"new\" xlink:title=\"psysml:b5ca3349-da91-4606-821f-07ffc8144e5b\" xlink:type=\"simple\"><rect fill=\"#FFFFFF\" height=\"48.1875\" id=\"E10\" rx=\"10\" ry=\"10\" style=\"stroke: #383838; stroke-width: 1.5;\" width=\"107\" x=\"588.5\" y=\"150\"/><text fill=\"#000000\" font-family=\"sans-serif\" font-size=\"12\" font-style=\"italic\" lengthAdjust=\"spacingAndGlyphs\" textLength=\"35\" x=\"624.5\" y=\"167.457\">«part»</text><text fill=\"#000000\" font-family=\"sans-serif\" font-size=\"12\" lengthAdjust=\"spacingAndGlyphs\" textLength=\"98\" x=\"591.5\" y=\"182.5508\">rearWheel: Wheel</text><line style=\"stroke: #383838; stroke-width: 1.5;\" x1=\"589.5\" x2=\"694.5\" y1=\"190.1875\" y2=\"190.1875\"/></a><!--MD5=[4672eba38e49728da53d11aeb285b987]\n",
       "reverse link E3 to E4--><a href=\"psysml:5feeae6e-aed2-4cf1-8a30-45f899d3f8ee\" target=\"_top\" title=\"psysml:5feeae6e-aed2-4cf1-8a30-45f899d3f8ee\" xlink:actuate=\"onRequest\" xlink:href=\"psysml:5feeae6e-aed2-4cf1-8a30-45f899d3f8ee\" xlink:show=\"new\" xlink:title=\"psysml:5feeae6e-aed2-4cf1-8a30-45f899d3f8ee\" xlink:type=\"simple\"><path d=\"M253.5,80.69 C211.04,95.63 142.86,121.28 87,150 C81.2,152.98 75.13,156.63 69.66,160.14 \" fill=\"none\" id=\"E3&lt;-E4\" style=\"stroke: #383838; stroke-width: 1.0;\"/><polygon fill=\"#383838\" points=\"265.81,76.41,258.8292,74.6022,254.4755,80.3507,261.4563,82.1585,265.81,76.41\" style=\"stroke: #383838; stroke-width: 1.0;\"/><text fill=\"#000000\" font-family=\"sans-serif\" font-size=\"13\" lengthAdjust=\"spacingAndGlyphs\" textLength=\"7\" x=\"77.5545\" y=\"149.8767\">1</text></a><!--MD5=[191cde3d490a3f6d7bb551fe3ddca469]\n",
       "reverse link E3 to E5--><a href=\"psysml:853b6d33-47a5-41f8-8762-3a5f2920b0b5\" target=\"_top\" title=\"psysml:853b6d33-47a5-41f8-8762-3a5f2920b0b5\" xlink:actuate=\"onRequest\" xlink:href=\"psysml:853b6d33-47a5-41f8-8762-3a5f2920b0b5\" xlink:show=\"new\" xlink:title=\"psysml:853b6d33-47a5-41f8-8762-3a5f2920b0b5\" xlink:type=\"simple\"><path d=\"M254.67,91.96 C221.94,112.74 176.48,141.59 149.57,158.68 \" fill=\"none\" id=\"E3&lt;-E5\" style=\"stroke: #383838; stroke-width: 1.0;\"/><polygon fill=\"#383838\" points=\"265.67,84.98,258.4608,84.8151,255.5358,91.4063,262.745,91.5712,265.67,84.98\" style=\"stroke: #383838; stroke-width: 1.0;\"/><text fill=\"#000000\" font-family=\"sans-serif\" font-size=\"13\" lengthAdjust=\"spacingAndGlyphs\" textLength=\"7\" x=\"157.5539\" y=\"149.0585\">1</text></a><!--MD5=[1026b4b93417a13aa8999a858998add2]\n",
       "reverse link E3 to E6--><a href=\"psysml:d7ebec45-fe90-4efd-beba-6b089205e55f\" target=\"_top\" title=\"psysml:d7ebec45-fe90-4efd-beba-6b089205e55f\" xlink:actuate=\"onRequest\" xlink:href=\"psysml:d7ebec45-fe90-4efd-beba-6b089205e55f\" xlink:show=\"new\" xlink:title=\"psysml:d7ebec45-fe90-4efd-beba-6b089205e55f\" xlink:type=\"simple\"><path d=\"M266.78,100.54 C253.81,116.53 238.61,135.27 226.92,149.68 \" fill=\"none\" id=\"E3&lt;-E6\" style=\"stroke: #383838; stroke-width: 1.0;\"/><polygon fill=\"#383838\" points=\"275.34,90,268.4531,92.138,267.7779,99.3174,274.6647,97.1794,275.34,90\" style=\"stroke: #383838; stroke-width: 1.0;\"/><text fill=\"#000000\" font-family=\"sans-serif\" font-size=\"13\" lengthAdjust=\"spacingAndGlyphs\" textLength=\"7\" x=\"223.6786\" y=\"139.3171\">1</text></a><!--MD5=[85760999379eecfd2565a9fecdca67e4]\n",
       "reverse link E3 to E7--><a href=\"psysml:8d815ebd-1213-4ef9-a948-5b0ae7eb208c\" target=\"_top\" title=\"psysml:8d815ebd-1213-4ef9-a948-5b0ae7eb208c\" xlink:actuate=\"onRequest\" xlink:href=\"psysml:8d815ebd-1213-4ef9-a948-5b0ae7eb208c\" xlink:show=\"new\" xlink:title=\"psysml:8d815ebd-1213-4ef9-a948-5b0ae7eb208c\" xlink:type=\"simple\"><path d=\"M294,103.34 C294,118.68 294,136.1 294,149.68 \" fill=\"none\" id=\"E3&lt;-E7\" style=\"stroke: #383838; stroke-width: 1.0;\"/><polygon fill=\"#383838\" points=\"294,90,290,96,294,102,298,96,294,90\" style=\"stroke: #383838; stroke-width: 1.0;\"/><text fill=\"#000000\" font-family=\"sans-serif\" font-size=\"13\" lengthAdjust=\"spacingAndGlyphs\" textLength=\"7\" x=\"286.1469\" y=\"139.3171\">1</text></a><!--MD5=[4cb75b73ec3682b8f7f8edc9cc86126a]\n",
       "reverse link E3 to E8--><a href=\"psysml:73a58cac-2bc8-46ff-a3c9-ffac5e0a37e5\" target=\"_top\" title=\"psysml:73a58cac-2bc8-46ff-a3c9-ffac5e0a37e5\" xlink:actuate=\"onRequest\" xlink:href=\"psysml:73a58cac-2bc8-46ff-a3c9-ffac5e0a37e5\" xlink:show=\"new\" xlink:title=\"psysml:73a58cac-2bc8-46ff-a3c9-ffac5e0a37e5\" xlink:type=\"simple\"><path d=\"M321.78,100.08 C335.29,116.17 351.2,135.13 363.42,149.68 \" fill=\"none\" id=\"E3&lt;-E8\" style=\"stroke: #383838; stroke-width: 1.0;\"/><polygon fill=\"#383838\" points=\"313.31,90,314.1034,97.1673,321.0246,99.1916,320.2312,92.0243,313.31,90\" style=\"stroke: #383838; stroke-width: 1.0;\"/><text fill=\"#000000\" font-family=\"sans-serif\" font-size=\"13\" lengthAdjust=\"spacingAndGlyphs\" textLength=\"7\" x=\"350.7943\" y=\"139.3171\">1</text></a><!--MD5=[f7e0269b2e2fed3d07255bf4c5cf9d61]\n",
       "reverse link E3 to E9--><a href=\"psysml:8016b7d1-3ac6-471a-a8ee-07eec1dceba8\" target=\"_top\" title=\"psysml:8016b7d1-3ac6-471a-a8ee-07eec1dceba8\" xlink:actuate=\"onRequest\" xlink:href=\"psysml:8016b7d1-3ac6-471a-a8ee-07eec1dceba8\" xlink:show=\"new\" xlink:title=\"psysml:8016b7d1-3ac6-471a-a8ee-07eec1dceba8\" xlink:type=\"simple\"><path d=\"M334.07,87.72 C368.64,105.6 418.53,131.39 454.37,149.93 \" fill=\"none\" id=\"E3&lt;-E9\" style=\"stroke: #383838; stroke-width: 1.0;\"/><polygon fill=\"#383838\" points=\"322.07,81.52,325.5612,87.8296,332.7282,87.0338,329.2371,80.7241,322.07,81.52\" style=\"stroke: #383838; stroke-width: 1.0;\"/><text fill=\"#000000\" font-family=\"sans-serif\" font-size=\"13\" lengthAdjust=\"spacingAndGlyphs\" textLength=\"7\" x=\"435.0367\" y=\"139.2282\">2</text></a><!--MD5=[5c3bb36fe832a92c7f0e1807dd65209d]\n",
       "link E9 to E2--><a href=\"psysml:49328cfd-d9e5-40fc-8d20-1aebd718ed3f\" target=\"_top\" title=\"psysml:49328cfd-d9e5-40fc-8d20-1aebd718ed3f\" xlink:actuate=\"onRequest\" xlink:href=\"psysml:49328cfd-d9e5-40fc-8d20-1aebd718ed3f\" xlink:show=\"new\" xlink:title=\"psysml:49328cfd-d9e5-40fc-8d20-1aebd718ed3f\" xlink:type=\"simple\"><path d=\"M510.08,198.06 C515.75,209.86 522.97,224.87 530.17,239.85 \" fill=\"none\" id=\"E9-&gt;E2\" style=\"stroke: #383838; stroke-width: 1.0;\"/><polygon fill=\"#FFFFFF\" points=\"538.84,257.89,524.2962,243.8018,536.9127,237.7335,538.84,257.89\" style=\"stroke: #383838; stroke-width: 1.0;\"/><ellipse cx=\"523.6279\" cy=\"237.7982\" fill=\"#383838\" rx=\"2\" ry=\"2\" style=\"stroke: #383838; stroke-width: 1.0;\"/><ellipse cx=\"532.6397\" cy=\"233.4637\" fill=\"#383838\" rx=\"2\" ry=\"2\" style=\"stroke: #383838; stroke-width: 1.0;\"/></a><!--MD5=[622114938c97d4dd2a5a002a72a9cb82]\n",
       "reverse link E3 to E10--><a href=\"psysml:5b88e39d-8fd4-4c05-9a01-44ad734b8b3f\" target=\"_top\" title=\"psysml:5b88e39d-8fd4-4c05-9a01-44ad734b8b3f\" xlink:actuate=\"onRequest\" xlink:href=\"psysml:5b88e39d-8fd4-4c05-9a01-44ad734b8b3f\" xlink:show=\"new\" xlink:title=\"psysml:5b88e39d-8fd4-4c05-9a01-44ad734b8b3f\" xlink:type=\"simple\"><path d=\"M335.17,79.03 C389.34,94.92 487.49,123.97 571,150 C576.57,151.74 582.37,153.57 588.15,155.42 \" fill=\"none\" id=\"E3&lt;-E10\" style=\"stroke: #383838; stroke-width: 1.0;\"/><polygon fill=\"#383838\" points=\"322.38,75.28,327.012,80.8067,333.8951,78.6567,329.2631,73.13,322.38,75.28\" style=\"stroke: #383838; stroke-width: 1.0;\"/><text fill=\"#000000\" font-family=\"sans-serif\" font-size=\"13\" lengthAdjust=\"spacingAndGlyphs\" textLength=\"7\" x=\"573.4436\" y=\"149.3545\">2</text></a><!--MD5=[0f36bececdf0dff6e600d6f64214b0f1]\n",
       "link E10 to E2--><a href=\"psysml:9d9b796d-7d6a-4fb5-b899-ac1e757e8f3e\" target=\"_top\" title=\"psysml:9d9b796d-7d6a-4fb5-b899-ac1e757e8f3e\" xlink:actuate=\"onRequest\" xlink:href=\"psysml:9d9b796d-7d6a-4fb5-b899-ac1e757e8f3e\" xlink:show=\"new\" xlink:title=\"psysml:9d9b796d-7d6a-4fb5-b899-ac1e757e8f3e\" xlink:type=\"simple\"><path d=\"M627.52,198.06 C619.95,210.12 610.27,225.53 600.66,240.84 \" fill=\"none\" id=\"E10-&gt;E2\" style=\"stroke: #383838; stroke-width: 1.0;\"/><polygon fill=\"#FFFFFF\" points=\"589.95,257.89,594.1365,238.0791,605.9888,245.5305,589.95,257.89\" style=\"stroke: #383838; stroke-width: 1.0;\"/><ellipse cx=\"598.8635\" cy=\"234.318\" fill=\"#383838\" rx=\"2\" ry=\"2\" style=\"stroke: #383838; stroke-width: 1.0;\"/><ellipse cx=\"607.3294\" cy=\"239.6404\" fill=\"#383838\" rx=\"2\" ry=\"2\" style=\"stroke: #383838; stroke-width: 1.0;\"/></a><!--MD5=[72616862b5d27ad8cd44b1538c069c2d]\n",
       "@startuml\r\n",
       "skinparam monochrome true\r\n",
       "skinparam classbackgroundcolor white\r\n",
       "skinparam shadowing false\r\n",
       "skinparam wrapWidth 300\r\n",
       "hide circle\r\n",
       "\r\n",
       "package \"eVehicle_LogicalArchitecture\" as E1  [[psysml:00bd3eea-440f-46b5-8ef5-66d4c1b0c858 ]]  {\r\n",
       "comp def \"Wheel\" as E2  <<(T,blue) part  def>> [[psysml:b108b955-f029-4523-977f-5f730234157f ]] {\r\n",
       "- - references - -\r\n",
       "radius:= 325 [mm]; \\n//:>>CircularCylinder::radius// \r\n",
       "}\r\n",
       "comp usage \"eVehicle \" as E3  <<(T,blue) part>> [[psysml:cd756b31-96ec-4b8c-8888-a0005eaf0e5a ]] {\r\n",
       "}\r\n",
       "comp usage \"body \" as E4  <<(T,blue) part>> [[psysml:2bec53e6-1d43-4107-ba14-56a42fdba5d5 ]] {\r\n",
       "}\r\n",
       "comp usage \"battery \" as E5  <<(T,blue) part>> [[psysml:4ae0f3f6-55e1-455d-aad3-4a8d5cee7798 ]] {\r\n",
       "}\r\n",
       "comp usage \"engine \" as E6  <<(T,blue) part>> [[psysml:4af56632-cf1a-420e-9344-eca299cd8bd9 ]] {\r\n",
       "}\r\n",
       "comp usage \"frontAxis \" as E7  <<(T,blue) part>> [[psysml:84158913-66ca-43b6-8d13-58e819137d9e ]] {\r\n",
       "}\r\n",
       "comp usage \"rearAxis \" as E8  <<(T,blue) part>> [[psysml:e83be76e-4bed-474b-8a20-2851b1986901 ]] {\r\n",
       "}\r\n",
       "comp usage \"frontWheel: Wheel \" as E9  <<(T,blue) part>> [[psysml:0bea26c5-adec-464c-91eb-a652cb068b26 ]] {\r\n",
       "}\r\n",
       "comp usage \"rearWheel: Wheel \" as E10  <<(T,blue) part>> [[psysml:b5ca3349-da91-4606-821f-07ffc8144e5b ]] {\r\n",
       "}\r\n",
       "}\r\n",
       "E3 *- - \"1\"E4 [[psysml:5feeae6e-aed2-4cf1-8a30-45f899d3f8ee ]] \r\n",
       "E3 *- - \"1\"E5 [[psysml:853b6d33-47a5-41f8-8762-3a5f2920b0b5 ]] \r\n",
       "E3 *- - \"1\"E6 [[psysml:d7ebec45-fe90-4efd-beba-6b089205e55f ]] \r\n",
       "E3 *- - \"1\"E7 [[psysml:8d815ebd-1213-4ef9-a948-5b0ae7eb208c ]] \r\n",
       "E3 *- - \"1\"E8 [[psysml:73a58cac-2bc8-46ff-a3c9-ffac5e0a37e5 ]] \r\n",
       "E3 *- - \"2\"E9 [[psysml:8016b7d1-3ac6-471a-a8ee-07eec1dceba8 ]] \r\n",
       "E9 - -:|> E2 [[psysml:49328cfd-d9e5-40fc-8d20-1aebd718ed3f ]] \r\n",
       "E3 *- - \"2\"E10 [[psysml:5b88e39d-8fd4-4c05-9a01-44ad734b8b3f ]] \r\n",
       "E10 - -:|> E2 [[psysml:9d9b796d-7d6a-4fb5-b899-ac1e757e8f3e ]] \r\n",
       "@enduml\r\n",
       "\n",
       "PlantUML version 1.2020.13(Sat Jun 13 14:26:38 CEST 2020)\n",
       "(EPL source distribution)\n",
       "Java Runtime: OpenJDK Runtime Environment\n",
       "JVM: OpenJDK 64-Bit Server VM\n",
       "Default Encoding: Cp1252\n",
       "Language: en\n",
       "Country: US\n",
       "--></g></svg>"
      ]
     },
     "execution_count": 14,
     "metadata": {},
     "output_type": "execute_result"
    }
   ],
   "source": [
    "%viz eVehicle_LogicalArchitecture"
   ]
  },
  {
   "cell_type": "markdown",
   "metadata": {},
   "source": [
    "### When to use Parts and when to use PartDefinitions\n",
    "\n",
    "A simple rule of thumb could be: if you use a thing only once, model it as a part. If it is used multiple times or specializations of it, then model it as a part definition.\n",
    "\n",
    "Part definition is a classification of things, and parts are usages of part definitions. If you have only one engine in the model, then you can model it directly as a part. As described above, the part still has a part definition, which in this case is implicitly the general part definition *Part* from the system library."
   ]
  },
  {
   "cell_type": "markdown",
   "metadata": {},
   "source": [
    "## Specialization and Subsetting<a name=\"sysmlv2modspecialization\"></a>\n",
    "\n",
    "Specialization between definition elements is a subclassification relationship. For example, the FrontWheel part definition is a special kind of a Wheel part definition. Specialization between usage elements is a subsetting relationship. For example, the part frontLeftWheel is a subset of the part frontWheel.\n",
    "\n"
   ]
  },
  {
   "cell_type": "code",
   "execution_count": 17,
   "metadata": {},
   "outputs": [
    {
     "data": {
      "text/plain": [
       "Package eVehicle_LogicalArchitecture (b29faa14-e940-458e-8325-6b36bbbc60fc)\n"
      ]
     },
     "execution_count": 17,
     "metadata": {},
     "output_type": "execute_result"
    }
   ],
   "source": [
    "package eVehicle_LogicalArchitecture {   \n",
    "       \n",
    "    part def Wheel :> ShapeItems::CircularCylinder {\n",
    "        import SI::*;\n",
    "        :>> radius := 325 [mm];\n",
    "\n",
    "        constraint pressureConstraint : WheelPressureConstraint (\n",
    "            currentPressure = currentPressure,\n",
    "            limitPressure = maxPressure);\n",
    "\n",
    "        attribute currentPressure : ScalarValues::Real;\n",
    "        attribute maxPressure : ScalarValues::Real;\n",
    "    }\n",
    "    \n",
    "    part def FrontWheel :> Wheel {\n",
    "        attribute redefines maxPressure = 2.0;\n",
    "    }\n",
    "    part def RearWheel :> Wheel {\n",
    "        attribute redefines maxPressure = 2.5;\n",
    "    }\n",
    "    \n",
    "    constraint def WheelPressureConstraint (\n",
    "        currentPressure : ScalarValues::Real,\n",
    "        limitPressure : ScalarValues::Real) {\n",
    "            currentPressure <= limitPressure\n",
    "    }\n",
    "    \n",
    "    part eVehicle {\n",
    "        part body;\n",
    "        part battery;\n",
    "        part engine;\n",
    "        part frontAxis;\n",
    "        part rearAxis;\n",
    "        part frontWheel : FrontWheel[2];\n",
    "        part frontLeftWheel :> frontWheel {\n",
    "            redefines currentPressure = 1.6;\n",
    "        }\n",
    "        part frontRightWheel :> frontWheel {\n",
    "            redefines currentPressure = 1.8;\n",
    "        }\n",
    "\n",
    "        part rearWheel : RearWheel[2];\n",
    "        part rearLeftWheel :> rearWheel {\n",
    "            redefines currentPressure = 2.4;\n",
    "        }\n",
    "        part rearRightWheel :> rearWheel {\n",
    "            redefines currentPressure = 2.5;\n",
    "        }\n",
    "        \n",
    "    }\n",
    "}"
   ]
  },
  {
   "cell_type": "code",
   "execution_count": 18,
   "metadata": {},
   "outputs": [
    {
     "data": {
      "image/svg+xml": [
       "<?xml version=\"1.0\" encoding=\"UTF-8\" standalone=\"no\"?><svg xmlns=\"http://www.w3.org/2000/svg\" xmlns:xlink=\"http://www.w3.org/1999/xlink\" contentScriptType=\"application/ecmascript\" contentStyleType=\"text/css\" height=\"1027px\" preserveAspectRatio=\"none\" style=\"width:1526px;height:1027px;\" version=\"1.1\" viewBox=\"0 0 1526 1027\" width=\"1526px\" zoomAndPan=\"magnify\"><defs/><g><!--MD5=[fbc87193dbaf4d95561dea2c320d4a47]\n",
       "cluster E1--><a href=\"psysml:b29faa14-e940-458e-8325-6b36bbbc60fc\" target=\"_top\" title=\"psysml:b29faa14-e940-458e-8325-6b36bbbc60fc\" xlink:actuate=\"onRequest\" xlink:href=\"psysml:b29faa14-e940-458e-8325-6b36bbbc60fc\" xlink:show=\"new\" xlink:title=\"psysml:b29faa14-e940-458e-8325-6b36bbbc60fc\" xlink:type=\"simple\"><polygon fill=\"#FFFFFF\" points=\"16,6,228,6,235,29.6094,1504,29.6094,1504,1015,16,1015,16,6\" style=\"stroke: #000000; stroke-width: 1.5;\"/><line style=\"stroke: #000000; stroke-width: 1.5;\" x1=\"16\" x2=\"235\" y1=\"29.6094\" y2=\"29.6094\"/><text fill=\"#000000\" font-family=\"sans-serif\" font-size=\"14\" font-weight=\"bold\" lengthAdjust=\"spacingAndGlyphs\" textLength=\"206\" x=\"20\" y=\"22.5332\">eVehicle_LogicalArchitecture</text></a><!--MD5=[b4997ac47864f28c2f74865a473b2911]\n",
       "class E2--><a href=\"psysml:05b466af-fdb5-4cf9-9061-8468bdfc5360\" target=\"_top\" title=\"psysml:05b466af-fdb5-4cf9-9061-8468bdfc5360\" xlink:actuate=\"onRequest\" xlink:href=\"psysml:05b466af-fdb5-4cf9-9061-8468bdfc5360\" xlink:show=\"new\" xlink:title=\"psysml:05b466af-fdb5-4cf9-9061-8468bdfc5360\" xlink:type=\"simple\"><rect fill=\"#FFFFFF\" height=\"139.2031\" id=\"E2\" style=\"stroke: #383838; stroke-width: 1.5;\" width=\"145\" x=\"721.5\" y=\"566\"/><text fill=\"#000000\" font-family=\"sans-serif\" font-size=\"12\" font-style=\"italic\" lengthAdjust=\"spacingAndGlyphs\" textLength=\"58\" x=\"765\" y=\"583.457\">«part  def»</text><text fill=\"#000000\" font-family=\"sans-serif\" font-size=\"12\" lengthAdjust=\"spacingAndGlyphs\" textLength=\"35\" x=\"776.5\" y=\"598.5508\">Wheel</text><line style=\"stroke: #383838; stroke-width: 1.5;\" x1=\"722.5\" x2=\"865.5\" y1=\"606.1875\" y2=\"606.1875\"/><text fill=\"#000000\" font-family=\"sans-serif\" font-size=\"11\" lengthAdjust=\"spacingAndGlyphs\" textLength=\"106\" x=\"727.5\" y=\"639.4424\">currentPressure: Real</text><text fill=\"#000000\" font-family=\"sans-serif\" font-size=\"11\" lengthAdjust=\"spacingAndGlyphs\" textLength=\"91\" x=\"727.5\" y=\"653.2783\">maxPressure: Real</text><line style=\"stroke: #383838; stroke-width: 1.0;\" x1=\"722.5\" x2=\"771.5\" y1=\"621.1055\" y2=\"621.1055\"/><text fill=\"#000000\" font-family=\"sans-serif\" font-size=\"11\" lengthAdjust=\"spacingAndGlyphs\" textLength=\"45\" x=\"771.5\" y=\"625.1064\">attributes</text><line style=\"stroke: #383838; stroke-width: 1.0;\" x1=\"816.5\" x2=\"865.5\" y1=\"621.1055\" y2=\"621.1055\"/><text fill=\"#000000\" font-family=\"sans-serif\" font-size=\"11\" lengthAdjust=\"spacingAndGlyphs\" textLength=\"88\" x=\"727.5\" y=\"684.9502\">radius:= 325 [mm];</text><text fill=\"#000000\" font-family=\"sans-serif\" font-size=\"11\" font-style=\"italic\" lengthAdjust=\"spacingAndGlyphs\" textLength=\"133\" x=\"727.5\" y=\"698.7861\">:&gt;&gt;CircularCylinder::radius</text><line style=\"stroke: #383838; stroke-width: 1.0;\" x1=\"722.5\" x2=\"767\" y1=\"666.6133\" y2=\"666.6133\"/><text fill=\"#000000\" font-family=\"sans-serif\" font-size=\"11\" lengthAdjust=\"spacingAndGlyphs\" textLength=\"54\" x=\"767\" y=\"670.6143\">references</text><line style=\"stroke: #383838; stroke-width: 1.0;\" x1=\"821\" x2=\"865.5\" y1=\"666.6133\" y2=\"666.6133\"/></a><!--MD5=[09b614a08d8cba4a07c9adeb5e0fee81]\n",
       "class E3--><a href=\"psysml:a8e0365e-f5d2-4a29-8627-e06e82927157\" target=\"_top\" title=\"psysml:a8e0365e-f5d2-4a29-8627-e06e82927157\" xlink:actuate=\"onRequest\" xlink:href=\"psysml:a8e0365e-f5d2-4a29-8627-e06e82927157\" xlink:show=\"new\" xlink:title=\"psysml:a8e0365e-f5d2-4a29-8627-e06e82927157\" xlink:type=\"simple\"><rect fill=\"#FFFFFF\" height=\"93.6953\" id=\"E3\" rx=\"10\" ry=\"10\" style=\"stroke: #383838; stroke-width: 1.5;\" width=\"265\" x=\"661.5\" y=\"765\"/><text fill=\"#000000\" font-family=\"sans-serif\" font-size=\"12\" font-style=\"italic\" lengthAdjust=\"spacingAndGlyphs\" textLength=\"67\" x=\"760.5\" y=\"782.457\">«constraint»</text><text fill=\"#000000\" font-family=\"sans-serif\" font-size=\"12\" lengthAdjust=\"spacingAndGlyphs\" textLength=\"256\" x=\"664.5\" y=\"797.5508\">pressureConstraint: WheelPressureConstraint</text><line style=\"stroke: #383838; stroke-width: 1.5;\" x1=\"662.5\" x2=\"925.5\" y1=\"805.1875\" y2=\"805.1875\"/><text fill=\"#000000\" font-family=\"sans-serif\" font-size=\"11\" font-weight=\"bold\" lengthAdjust=\"spacingAndGlyphs\" textLength=\"10\" x=\"667.5\" y=\"838.4424\">in</text><text fill=\"#000000\" font-family=\"sans-serif\" font-size=\"11\" lengthAdjust=\"spacingAndGlyphs\" textLength=\"170\" x=\"680.5\" y=\"838.4424\">currentPressure= currentPressure;</text><text fill=\"#000000\" font-family=\"sans-serif\" font-size=\"11\" font-weight=\"bold\" lengthAdjust=\"spacingAndGlyphs\" textLength=\"10\" x=\"667.5\" y=\"852.2783\">in</text><text fill=\"#000000\" font-family=\"sans-serif\" font-size=\"11\" lengthAdjust=\"spacingAndGlyphs\" textLength=\"137\" x=\"680.5\" y=\"852.2783\">limitPressure= maxPressure;</text><line style=\"stroke: #383838; stroke-width: 1.0;\" x1=\"662.5\" x2=\"766.5\" y1=\"820.1055\" y2=\"820.1055\"/><text fill=\"#000000\" font-family=\"sans-serif\" font-size=\"11\" lengthAdjust=\"spacingAndGlyphs\" textLength=\"55\" x=\"766.5\" y=\"824.1064\">parameters</text><line style=\"stroke: #383838; stroke-width: 1.0;\" x1=\"821.5\" x2=\"925.5\" y1=\"820.1055\" y2=\"820.1055\"/></a><!--MD5=[ebbe1d658d1005bcc118a6aa81145e00]\n",
       "class E4--><a href=\"psysml:b1da3db4-0713-47ee-a2ff-d1db2f274619\" target=\"_top\" title=\"psysml:b1da3db4-0713-47ee-a2ff-d1db2f274619\" xlink:actuate=\"onRequest\" xlink:href=\"psysml:b1da3db4-0713-47ee-a2ff-d1db2f274619\" xlink:show=\"new\" xlink:title=\"psysml:b1da3db4-0713-47ee-a2ff-d1db2f274619\" xlink:type=\"simple\"><rect fill=\"#FFFFFF\" height=\"93.6953\" id=\"E4\" style=\"stroke: #383838; stroke-width: 1.5;\" width=\"131\" x=\"645.5\" y=\"412\"/><text fill=\"#000000\" font-family=\"sans-serif\" font-size=\"12\" font-style=\"italic\" lengthAdjust=\"spacingAndGlyphs\" textLength=\"58\" x=\"682\" y=\"429.457\">«part  def»</text><text fill=\"#000000\" font-family=\"sans-serif\" font-size=\"12\" lengthAdjust=\"spacingAndGlyphs\" textLength=\"63\" x=\"679.5\" y=\"444.5508\">FrontWheel</text><line style=\"stroke: #383838; stroke-width: 1.5;\" x1=\"646.5\" x2=\"775.5\" y1=\"452.1875\" y2=\"452.1875\"/><text fill=\"#000000\" font-family=\"sans-serif\" font-size=\"11\" lengthAdjust=\"spacingAndGlyphs\" textLength=\"91\" x=\"651.5\" y=\"485.4424\">maxPressure= 2.0;</text><text fill=\"#000000\" font-family=\"sans-serif\" font-size=\"11\" font-style=\"italic\" lengthAdjust=\"spacingAndGlyphs\" textLength=\"119\" x=\"651.5\" y=\"499.2783\">:&gt;&gt;Wheel::maxPressure</text><line style=\"stroke: #383838; stroke-width: 1.0;\" x1=\"646.5\" x2=\"688.5\" y1=\"467.1055\" y2=\"467.1055\"/><text fill=\"#000000\" font-family=\"sans-serif\" font-size=\"11\" lengthAdjust=\"spacingAndGlyphs\" textLength=\"45\" x=\"688.5\" y=\"471.1064\">attributes</text><line style=\"stroke: #383838; stroke-width: 1.0;\" x1=\"733.5\" x2=\"775.5\" y1=\"467.1055\" y2=\"467.1055\"/></a><!--MD5=[270fce915f116d4de14055a7c1d9a0f3]\n",
       "class E5--><a href=\"psysml:0271370e-8579-479a-ad4e-195cf5217619\" target=\"_top\" title=\"psysml:0271370e-8579-479a-ad4e-195cf5217619\" xlink:actuate=\"onRequest\" xlink:href=\"psysml:0271370e-8579-479a-ad4e-195cf5217619\" xlink:show=\"new\" xlink:title=\"psysml:0271370e-8579-479a-ad4e-195cf5217619\" xlink:type=\"simple\"><rect fill=\"#FFFFFF\" height=\"93.6953\" id=\"E5\" style=\"stroke: #383838; stroke-width: 1.5;\" width=\"131\" x=\"928.5\" y=\"412\"/><text fill=\"#000000\" font-family=\"sans-serif\" font-size=\"12\" font-style=\"italic\" lengthAdjust=\"spacingAndGlyphs\" textLength=\"58\" x=\"965\" y=\"429.457\">«part  def»</text><text fill=\"#000000\" font-family=\"sans-serif\" font-size=\"12\" lengthAdjust=\"spacingAndGlyphs\" textLength=\"62\" x=\"963\" y=\"444.5508\">RearWheel</text><line style=\"stroke: #383838; stroke-width: 1.5;\" x1=\"929.5\" x2=\"1058.5\" y1=\"452.1875\" y2=\"452.1875\"/><text fill=\"#000000\" font-family=\"sans-serif\" font-size=\"11\" lengthAdjust=\"spacingAndGlyphs\" textLength=\"91\" x=\"934.5\" y=\"485.4424\">maxPressure= 2.5;</text><text fill=\"#000000\" font-family=\"sans-serif\" font-size=\"11\" font-style=\"italic\" lengthAdjust=\"spacingAndGlyphs\" textLength=\"119\" x=\"934.5\" y=\"499.2783\">:&gt;&gt;Wheel::maxPressure</text><line style=\"stroke: #383838; stroke-width: 1.0;\" x1=\"929.5\" x2=\"971.5\" y1=\"467.1055\" y2=\"467.1055\"/><text fill=\"#000000\" font-family=\"sans-serif\" font-size=\"11\" lengthAdjust=\"spacingAndGlyphs\" textLength=\"45\" x=\"971.5\" y=\"471.1064\">attributes</text><line style=\"stroke: #383838; stroke-width: 1.0;\" x1=\"1016.5\" x2=\"1058.5\" y1=\"467.1055\" y2=\"467.1055\"/></a><!--MD5=[60a26617385b1d2d0262a64233df1f8d]\n",
       "class E6--><a href=\"psysml:152b5073-c2f6-4bfb-bf85-c790ca2887dd\" target=\"_top\" title=\"psysml:152b5073-c2f6-4bfb-bf85-c790ca2887dd\" xlink:actuate=\"onRequest\" xlink:href=\"psysml:152b5073-c2f6-4bfb-bf85-c790ca2887dd\" xlink:show=\"new\" xlink:title=\"psysml:152b5073-c2f6-4bfb-bf85-c790ca2887dd\" xlink:type=\"simple\"><rect fill=\"#FFFFFF\" height=\"79.8594\" id=\"E6\" style=\"stroke: #383838; stroke-width: 1.5;\" width=\"184\" x=\"702\" y=\"919\"/><text fill=\"#000000\" font-family=\"sans-serif\" font-size=\"12\" font-style=\"italic\" lengthAdjust=\"spacingAndGlyphs\" textLength=\"90\" x=\"749\" y=\"936.457\">«constraint  def»</text><text fill=\"#000000\" font-family=\"sans-serif\" font-size=\"12\" lengthAdjust=\"spacingAndGlyphs\" textLength=\"143\" x=\"722.5\" y=\"951.5508\">WheelPressureConstraint</text><line style=\"stroke: #383838; stroke-width: 1.5;\" x1=\"703\" x2=\"885\" y1=\"959.1875\" y2=\"959.1875\"/><text fill=\"#000000\" font-family=\"sans-serif\" font-size=\"11\" lengthAdjust=\"spacingAndGlyphs\" textLength=\"172\" x=\"708\" y=\"992.4424\">{ currentPressure &lt;= limitPressure }</text><line style=\"stroke: #383838; stroke-width: 1.0;\" x1=\"703\" x2=\"742\" y1=\"974.1055\" y2=\"974.1055\"/><text fill=\"#000000\" font-family=\"sans-serif\" font-size=\"11\" lengthAdjust=\"spacingAndGlyphs\" textLength=\"104\" x=\"742\" y=\"978.1064\">operator expressions</text><line style=\"stroke: #383838; stroke-width: 1.0;\" x1=\"846\" x2=\"885\" y1=\"974.1055\" y2=\"974.1055\"/></a><!--MD5=[2156ba9850f5573cc1fc38a6a4b2f02b]\n",
       "class E7--><a href=\"psysml:25b631a5-c8e1-4cb2-b89e-313ad4ff4716\" target=\"_top\" title=\"psysml:25b631a5-c8e1-4cb2-b89e-313ad4ff4716\" xlink:actuate=\"onRequest\" xlink:href=\"psysml:25b631a5-c8e1-4cb2-b89e-313ad4ff4716\" xlink:show=\"new\" xlink:title=\"psysml:25b631a5-c8e1-4cb2-b89e-313ad4ff4716\" xlink:type=\"simple\"><rect fill=\"#FFFFFF\" height=\"48.1875\" id=\"E7\" rx=\"10\" ry=\"10\" style=\"stroke: #383838; stroke-width: 1.5;\" width=\"56\" x=\"418\" y=\"42\"/><text fill=\"#000000\" font-family=\"sans-serif\" font-size=\"12\" font-style=\"italic\" lengthAdjust=\"spacingAndGlyphs\" textLength=\"35\" x=\"428.5\" y=\"59.457\">«part»</text><text fill=\"#000000\" font-family=\"sans-serif\" font-size=\"12\" lengthAdjust=\"spacingAndGlyphs\" textLength=\"47\" x=\"421\" y=\"74.5508\">eVehicle</text><line style=\"stroke: #383838; stroke-width: 1.5;\" x1=\"419\" x2=\"473\" y1=\"82.1875\" y2=\"82.1875\"/></a><!--MD5=[b9389687b975829384b498ac4b7476b2]\n",
       "class E8--><a href=\"psysml:bc1b9af6-b98b-48a4-95a5-12fe4ac2cc7a\" target=\"_top\" title=\"psysml:bc1b9af6-b98b-48a4-95a5-12fe4ac2cc7a\" xlink:actuate=\"onRequest\" xlink:href=\"psysml:bc1b9af6-b98b-48a4-95a5-12fe4ac2cc7a\" xlink:show=\"new\" xlink:title=\"psysml:bc1b9af6-b98b-48a4-95a5-12fe4ac2cc7a\" xlink:type=\"simple\"><rect fill=\"#FFFFFF\" height=\"48.1875\" id=\"E8\" rx=\"10\" ry=\"10\" style=\"stroke: #383838; stroke-width: 1.5;\" width=\"37\" x=\"32.5\" y=\"173\"/><text fill=\"#000000\" font-family=\"sans-serif\" font-size=\"12\" font-style=\"italic\" lengthAdjust=\"spacingAndGlyphs\" textLength=\"35\" x=\"33.5\" y=\"190.457\">«part»</text><text fill=\"#000000\" font-family=\"sans-serif\" font-size=\"12\" lengthAdjust=\"spacingAndGlyphs\" textLength=\"26\" x=\"36.5\" y=\"205.5508\">body</text><line style=\"stroke: #383838; stroke-width: 1.5;\" x1=\"33.5\" x2=\"68.5\" y1=\"213.1875\" y2=\"213.1875\"/></a><!--MD5=[fd4143e9d270a159db93a4ea2a975926]\n",
       "class E9--><a href=\"psysml:66a44cf4-0eb6-48c9-a956-5da0fc05fa99\" target=\"_top\" title=\"psysml:66a44cf4-0eb6-48c9-a956-5da0fc05fa99\" xlink:actuate=\"onRequest\" xlink:href=\"psysml:66a44cf4-0eb6-48c9-a956-5da0fc05fa99\" xlink:show=\"new\" xlink:title=\"psysml:66a44cf4-0eb6-48c9-a956-5da0fc05fa99\" xlink:type=\"simple\"><rect fill=\"#FFFFFF\" height=\"48.1875\" id=\"E9\" rx=\"10\" ry=\"10\" style=\"stroke: #383838; stroke-width: 1.5;\" width=\"45\" x=\"104.5\" y=\"173\"/><text fill=\"#000000\" font-family=\"sans-serif\" font-size=\"12\" font-style=\"italic\" lengthAdjust=\"spacingAndGlyphs\" textLength=\"35\" x=\"109.5\" y=\"190.457\">«part»</text><text fill=\"#000000\" font-family=\"sans-serif\" font-size=\"12\" lengthAdjust=\"spacingAndGlyphs\" textLength=\"36\" x=\"107.5\" y=\"205.5508\">battery</text><line style=\"stroke: #383838; stroke-width: 1.5;\" x1=\"105.5\" x2=\"148.5\" y1=\"213.1875\" y2=\"213.1875\"/></a><!--MD5=[96f4274e9e20536e775497830990834d]\n",
       "class E10--><a href=\"psysml:2ff088b6-0588-47ad-8644-7a90536732ae\" target=\"_top\" title=\"psysml:2ff088b6-0588-47ad-8644-7a90536732ae\" xlink:actuate=\"onRequest\" xlink:href=\"psysml:2ff088b6-0588-47ad-8644-7a90536732ae\" xlink:show=\"new\" xlink:title=\"psysml:2ff088b6-0588-47ad-8644-7a90536732ae\" xlink:type=\"simple\"><rect fill=\"#FFFFFF\" height=\"48.1875\" id=\"E10\" rx=\"10\" ry=\"10\" style=\"stroke: #383838; stroke-width: 1.5;\" width=\"47\" x=\"184.5\" y=\"173\"/><text fill=\"#000000\" font-family=\"sans-serif\" font-size=\"12\" font-style=\"italic\" lengthAdjust=\"spacingAndGlyphs\" textLength=\"35\" x=\"190.5\" y=\"190.457\">«part»</text><text fill=\"#000000\" font-family=\"sans-serif\" font-size=\"12\" lengthAdjust=\"spacingAndGlyphs\" textLength=\"38\" x=\"187.5\" y=\"205.5508\">engine</text><line style=\"stroke: #383838; stroke-width: 1.5;\" x1=\"185.5\" x2=\"230.5\" y1=\"213.1875\" y2=\"213.1875\"/></a><!--MD5=[1dd1bfd58a279cf63c5f349dbc8fc6a1]\n",
       "class E11--><a href=\"psysml:79f928ab-ea76-485f-91d9-c2029f8f95e4\" target=\"_top\" title=\"psysml:79f928ab-ea76-485f-91d9-c2029f8f95e4\" xlink:actuate=\"onRequest\" xlink:href=\"psysml:79f928ab-ea76-485f-91d9-c2029f8f95e4\" xlink:show=\"new\" xlink:title=\"psysml:79f928ab-ea76-485f-91d9-c2029f8f95e4\" xlink:type=\"simple\"><rect fill=\"#FFFFFF\" height=\"48.1875\" id=\"E11\" rx=\"10\" ry=\"10\" style=\"stroke: #383838; stroke-width: 1.5;\" width=\"55\" x=\"266.5\" y=\"173\"/><text fill=\"#000000\" font-family=\"sans-serif\" font-size=\"12\" font-style=\"italic\" lengthAdjust=\"spacingAndGlyphs\" textLength=\"35\" x=\"276.5\" y=\"190.457\">«part»</text><text fill=\"#000000\" font-family=\"sans-serif\" font-size=\"12\" lengthAdjust=\"spacingAndGlyphs\" textLength=\"46\" x=\"269.5\" y=\"205.5508\">frontAxis</text><line style=\"stroke: #383838; stroke-width: 1.5;\" x1=\"267.5\" x2=\"320.5\" y1=\"213.1875\" y2=\"213.1875\"/></a><!--MD5=[49a0ec8f00dab7302a31f22d0f0fe584]\n",
       "class E12--><a href=\"psysml:78e1a61a-6523-4e22-b97d-675dac236c39\" target=\"_top\" title=\"psysml:78e1a61a-6523-4e22-b97d-675dac236c39\" xlink:actuate=\"onRequest\" xlink:href=\"psysml:78e1a61a-6523-4e22-b97d-675dac236c39\" xlink:show=\"new\" xlink:title=\"psysml:78e1a61a-6523-4e22-b97d-675dac236c39\" xlink:type=\"simple\"><rect fill=\"#FFFFFF\" height=\"48.1875\" id=\"E12\" rx=\"10\" ry=\"10\" style=\"stroke: #383838; stroke-width: 1.5;\" width=\"53\" x=\"356.5\" y=\"173\"/><text fill=\"#000000\" font-family=\"sans-serif\" font-size=\"12\" font-style=\"italic\" lengthAdjust=\"spacingAndGlyphs\" textLength=\"35\" x=\"365.5\" y=\"190.457\">«part»</text><text fill=\"#000000\" font-family=\"sans-serif\" font-size=\"12\" lengthAdjust=\"spacingAndGlyphs\" textLength=\"44\" x=\"359.5\" y=\"205.5508\">rearAxis</text><line style=\"stroke: #383838; stroke-width: 1.5;\" x1=\"357.5\" x2=\"408.5\" y1=\"213.1875\" y2=\"213.1875\"/></a><!--MD5=[ee3c913d1a06f366521f9ef512b67efe]\n",
       "class E13--><a href=\"psysml:53b7f449-8f61-406a-b94f-32ca48e6dc87\" target=\"_top\" title=\"psysml:53b7f449-8f61-406a-b94f-32ca48e6dc87\" xlink:actuate=\"onRequest\" xlink:href=\"psysml:53b7f449-8f61-406a-b94f-32ca48e6dc87\" xlink:show=\"new\" xlink:title=\"psysml:53b7f449-8f61-406a-b94f-32ca48e6dc87\" xlink:type=\"simple\"><rect fill=\"#FFFFFF\" height=\"48.1875\" id=\"E13\" rx=\"10\" ry=\"10\" style=\"stroke: #383838; stroke-width: 1.5;\" width=\"137\" x=\"584.5\" y=\"304\"/><text fill=\"#000000\" font-family=\"sans-serif\" font-size=\"12\" font-style=\"italic\" lengthAdjust=\"spacingAndGlyphs\" textLength=\"35\" x=\"635.5\" y=\"321.457\">«part»</text><text fill=\"#000000\" font-family=\"sans-serif\" font-size=\"12\" lengthAdjust=\"spacingAndGlyphs\" textLength=\"128\" x=\"587.5\" y=\"336.5508\">frontWheel: FrontWheel</text><line style=\"stroke: #383838; stroke-width: 1.5;\" x1=\"585.5\" x2=\"720.5\" y1=\"344.1875\" y2=\"344.1875\"/></a><!--MD5=[bee11217b2f71d958a27249dc326068c]\n",
       "class E14--><a href=\"psysml:740072f4-3fd2-457a-8039-62eb82631cd0\" target=\"_top\" title=\"psysml:740072f4-3fd2-457a-8039-62eb82631cd0\" xlink:actuate=\"onRequest\" xlink:href=\"psysml:740072f4-3fd2-457a-8039-62eb82631cd0\" xlink:show=\"new\" xlink:title=\"psysml:740072f4-3fd2-457a-8039-62eb82631cd0\" xlink:type=\"simple\"><rect fill=\"#FFFFFF\" height=\"93.6953\" id=\"E14\" rx=\"10\" ry=\"10\" style=\"stroke: #383838; stroke-width: 1.5;\" width=\"213\" x=\"482.5\" y=\"150\"/><text fill=\"#000000\" font-family=\"sans-serif\" font-size=\"12\" font-style=\"italic\" lengthAdjust=\"spacingAndGlyphs\" textLength=\"35\" x=\"571.5\" y=\"167.457\">«part»</text><text fill=\"#000000\" font-family=\"sans-serif\" font-size=\"12\" lengthAdjust=\"spacingAndGlyphs\" textLength=\"207\" x=\"485.5\" y=\"182.5508\">frontLeftWheel :&gt; eVehicle::frontWheel</text><line style=\"stroke: #383838; stroke-width: 1.5;\" x1=\"483.5\" x2=\"694.5\" y1=\"190.1875\" y2=\"190.1875\"/><text fill=\"#000000\" font-family=\"sans-serif\" font-size=\"11\" lengthAdjust=\"spacingAndGlyphs\" textLength=\"106\" x=\"488.5\" y=\"223.4424\">currentPressure= 1.6;</text><text fill=\"#000000\" font-family=\"sans-serif\" font-size=\"11\" font-style=\"italic\" lengthAdjust=\"spacingAndGlyphs\" textLength=\"133\" x=\"488.5\" y=\"237.2783\">:&gt;&gt;Wheel::currentPressure</text><line style=\"stroke: #383838; stroke-width: 1.0;\" x1=\"483.5\" x2=\"562\" y1=\"205.1055\" y2=\"205.1055\"/><text fill=\"#000000\" font-family=\"sans-serif\" font-size=\"11\" lengthAdjust=\"spacingAndGlyphs\" textLength=\"54\" x=\"562\" y=\"209.1064\">references</text><line style=\"stroke: #383838; stroke-width: 1.0;\" x1=\"616\" x2=\"694.5\" y1=\"205.1055\" y2=\"205.1055\"/></a><!--MD5=[0c48fb7552dae8cbbef69381101a84c8]\n",
       "class E15--><a href=\"psysml:f9ade32e-6fae-43b8-9ac3-baeb67fec8e7\" target=\"_top\" title=\"psysml:f9ade32e-6fae-43b8-9ac3-baeb67fec8e7\" xlink:actuate=\"onRequest\" xlink:href=\"psysml:f9ade32e-6fae-43b8-9ac3-baeb67fec8e7\" xlink:show=\"new\" xlink:title=\"psysml:f9ade32e-6fae-43b8-9ac3-baeb67fec8e7\" xlink:type=\"simple\"><rect fill=\"#FFFFFF\" height=\"93.6953\" id=\"E15\" rx=\"10\" ry=\"10\" style=\"stroke: #383838; stroke-width: 1.5;\" width=\"222\" x=\"731\" y=\"150\"/><text fill=\"#000000\" font-family=\"sans-serif\" font-size=\"12\" font-style=\"italic\" lengthAdjust=\"spacingAndGlyphs\" textLength=\"35\" x=\"824.5\" y=\"167.457\">«part»</text><text fill=\"#000000\" font-family=\"sans-serif\" font-size=\"12\" lengthAdjust=\"spacingAndGlyphs\" textLength=\"216\" x=\"734\" y=\"182.5508\">frontRightWheel :&gt; eVehicle::frontWheel</text><line style=\"stroke: #383838; stroke-width: 1.5;\" x1=\"732\" x2=\"952\" y1=\"190.1875\" y2=\"190.1875\"/><text fill=\"#000000\" font-family=\"sans-serif\" font-size=\"11\" lengthAdjust=\"spacingAndGlyphs\" textLength=\"106\" x=\"737\" y=\"223.4424\">currentPressure= 1.8;</text><text fill=\"#000000\" font-family=\"sans-serif\" font-size=\"11\" font-style=\"italic\" lengthAdjust=\"spacingAndGlyphs\" textLength=\"133\" x=\"737\" y=\"237.2783\">:&gt;&gt;Wheel::currentPressure</text><line style=\"stroke: #383838; stroke-width: 1.0;\" x1=\"732\" x2=\"815\" y1=\"205.1055\" y2=\"205.1055\"/><text fill=\"#000000\" font-family=\"sans-serif\" font-size=\"11\" lengthAdjust=\"spacingAndGlyphs\" textLength=\"54\" x=\"815\" y=\"209.1064\">references</text><line style=\"stroke: #383838; stroke-width: 1.0;\" x1=\"869\" x2=\"952\" y1=\"205.1055\" y2=\"205.1055\"/></a><!--MD5=[35f0587eaee8d5bb9a02e25b63afc23b]\n",
       "class E16--><a href=\"psysml:d3c95c79-fc7e-4d11-ad21-32098e0a6f06\" target=\"_top\" title=\"psysml:d3c95c79-fc7e-4d11-ad21-32098e0a6f06\" xlink:actuate=\"onRequest\" xlink:href=\"psysml:d3c95c79-fc7e-4d11-ad21-32098e0a6f06\" xlink:show=\"new\" xlink:title=\"psysml:d3c95c79-fc7e-4d11-ad21-32098e0a6f06\" xlink:type=\"simple\"><rect fill=\"#FFFFFF\" height=\"48.1875\" id=\"E16\" rx=\"10\" ry=\"10\" style=\"stroke: #383838; stroke-width: 1.5;\" width=\"134\" x=\"992\" y=\"304\"/><text fill=\"#000000\" font-family=\"sans-serif\" font-size=\"12\" font-style=\"italic\" lengthAdjust=\"spacingAndGlyphs\" textLength=\"35\" x=\"1041.5\" y=\"321.457\">«part»</text><text fill=\"#000000\" font-family=\"sans-serif\" font-size=\"12\" lengthAdjust=\"spacingAndGlyphs\" textLength=\"125\" x=\"995\" y=\"336.5508\">rearWheel: RearWheel</text><line style=\"stroke: #383838; stroke-width: 1.5;\" x1=\"993\" x2=\"1125\" y1=\"344.1875\" y2=\"344.1875\"/></a><!--MD5=[60e55a4a9b2f0dc0a36787c5a2095786]\n",
       "class E17--><a href=\"psysml:b7e399fa-98bd-4a3c-82d1-0e8a7062e329\" target=\"_top\" title=\"psysml:b7e399fa-98bd-4a3c-82d1-0e8a7062e329\" xlink:actuate=\"onRequest\" xlink:href=\"psysml:b7e399fa-98bd-4a3c-82d1-0e8a7062e329\" xlink:show=\"new\" xlink:title=\"psysml:b7e399fa-98bd-4a3c-82d1-0e8a7062e329\" xlink:type=\"simple\"><rect fill=\"#FFFFFF\" height=\"93.6953\" id=\"E17\" rx=\"10\" ry=\"10\" style=\"stroke: #383838; stroke-width: 1.5;\" width=\"209\" x=\"1025.5\" y=\"150\"/><text fill=\"#000000\" font-family=\"sans-serif\" font-size=\"12\" font-style=\"italic\" lengthAdjust=\"spacingAndGlyphs\" textLength=\"35\" x=\"1112.5\" y=\"167.457\">«part»</text><text fill=\"#000000\" font-family=\"sans-serif\" font-size=\"12\" lengthAdjust=\"spacingAndGlyphs\" textLength=\"203\" x=\"1028.5\" y=\"182.5508\">rearLeftWheel :&gt; eVehicle::rearWheel</text><line style=\"stroke: #383838; stroke-width: 1.5;\" x1=\"1026.5\" x2=\"1233.5\" y1=\"190.1875\" y2=\"190.1875\"/><text fill=\"#000000\" font-family=\"sans-serif\" font-size=\"11\" lengthAdjust=\"spacingAndGlyphs\" textLength=\"106\" x=\"1031.5\" y=\"223.4424\">currentPressure= 2.4;</text><text fill=\"#000000\" font-family=\"sans-serif\" font-size=\"11\" font-style=\"italic\" lengthAdjust=\"spacingAndGlyphs\" textLength=\"133\" x=\"1031.5\" y=\"237.2783\">:&gt;&gt;Wheel::currentPressure</text><line style=\"stroke: #383838; stroke-width: 1.0;\" x1=\"1026.5\" x2=\"1103\" y1=\"205.1055\" y2=\"205.1055\"/><text fill=\"#000000\" font-family=\"sans-serif\" font-size=\"11\" lengthAdjust=\"spacingAndGlyphs\" textLength=\"54\" x=\"1103\" y=\"209.1064\">references</text><line style=\"stroke: #383838; stroke-width: 1.0;\" x1=\"1157\" x2=\"1233.5\" y1=\"205.1055\" y2=\"205.1055\"/></a><!--MD5=[e3af68e2095dcd46cf4beab32f25c64b]\n",
       "class E18--><a href=\"psysml:c72f4129-48e5-4907-8916-f0d06c48a5a0\" target=\"_top\" title=\"psysml:c72f4129-48e5-4907-8916-f0d06c48a5a0\" xlink:actuate=\"onRequest\" xlink:href=\"psysml:c72f4129-48e5-4907-8916-f0d06c48a5a0\" xlink:show=\"new\" xlink:title=\"psysml:c72f4129-48e5-4907-8916-f0d06c48a5a0\" xlink:type=\"simple\"><rect fill=\"#FFFFFF\" height=\"93.6953\" id=\"E18\" rx=\"10\" ry=\"10\" style=\"stroke: #383838; stroke-width: 1.5;\" width=\"218\" x=\"1270\" y=\"150\"/><text fill=\"#000000\" font-family=\"sans-serif\" font-size=\"12\" font-style=\"italic\" lengthAdjust=\"spacingAndGlyphs\" textLength=\"35\" x=\"1361.5\" y=\"167.457\">«part»</text><text fill=\"#000000\" font-family=\"sans-serif\" font-size=\"12\" lengthAdjust=\"spacingAndGlyphs\" textLength=\"212\" x=\"1273\" y=\"182.5508\">rearRightWheel :&gt; eVehicle::rearWheel</text><line style=\"stroke: #383838; stroke-width: 1.5;\" x1=\"1271\" x2=\"1487\" y1=\"190.1875\" y2=\"190.1875\"/><text fill=\"#000000\" font-family=\"sans-serif\" font-size=\"11\" lengthAdjust=\"spacingAndGlyphs\" textLength=\"106\" x=\"1276\" y=\"223.4424\">currentPressure= 2.5;</text><text fill=\"#000000\" font-family=\"sans-serif\" font-size=\"11\" font-style=\"italic\" lengthAdjust=\"spacingAndGlyphs\" textLength=\"133\" x=\"1276\" y=\"237.2783\">:&gt;&gt;Wheel::currentPressure</text><line style=\"stroke: #383838; stroke-width: 1.0;\" x1=\"1271\" x2=\"1352\" y1=\"205.1055\" y2=\"205.1055\"/><text fill=\"#000000\" font-family=\"sans-serif\" font-size=\"11\" lengthAdjust=\"spacingAndGlyphs\" textLength=\"54\" x=\"1352\" y=\"209.1064\">references</text><line style=\"stroke: #383838; stroke-width: 1.0;\" x1=\"1406\" x2=\"1487\" y1=\"205.1055\" y2=\"205.1055\"/></a><!--MD5=[209b3feb70ccb6233bfe1053d122c12c]\n",
       "reverse link E2 to E3--><a href=\"psysml:1b56104f-1d60-446c-8f2e-34f7c408c9d5\" target=\"_top\" title=\"psysml:1b56104f-1d60-446c-8f2e-34f7c408c9d5\" xlink:actuate=\"onRequest\" xlink:href=\"psysml:1b56104f-1d60-446c-8f2e-34f7c408c9d5\" xlink:show=\"new\" xlink:title=\"psysml:1b56104f-1d60-446c-8f2e-34f7c408c9d5\" xlink:type=\"simple\"><path d=\"M794,718.51 C794,734.46 794,750.64 794,764.91 \" fill=\"none\" id=\"E2&lt;-E3\" style=\"stroke: #383838; stroke-width: 1.0;\"/><polygon fill=\"#383838\" points=\"794,705.22,790,711.22,794,717.22,798,711.22,794,705.22\" style=\"stroke: #383838; stroke-width: 1.0;\"/></a><!--MD5=[ec9844e0c75763426927cad3229d1081]\n",
       "link E3 to E6--><a href=\"psysml:eb04c9fa-83a2-48b8-976b-b13da1392eb2\" target=\"_top\" title=\"psysml:eb04c9fa-83a2-48b8-976b-b13da1392eb2\" xlink:actuate=\"onRequest\" xlink:href=\"psysml:eb04c9fa-83a2-48b8-976b-b13da1392eb2\" xlink:show=\"new\" xlink:title=\"psysml:eb04c9fa-83a2-48b8-976b-b13da1392eb2\" xlink:type=\"simple\"><path d=\"M794,859.28 C794,871.9 794,885.74 794,898.96 \" fill=\"none\" id=\"E3-&gt;E6\" style=\"stroke: #383838; stroke-width: 1.0;\"/><polygon fill=\"#FFFFFF\" points=\"794,918.97,787,899.97,801,899.97,794,918.97\" style=\"stroke: #383838; stroke-width: 1.0;\"/><ellipse cx=\"789\" cy=\"894.27\" fill=\"#383838\" rx=\"2\" ry=\"2\" style=\"stroke: #383838; stroke-width: 1.0;\"/><ellipse cx=\"799\" cy=\"894.27\" fill=\"#383838\" rx=\"2\" ry=\"2\" style=\"stroke: #383838; stroke-width: 1.0;\"/></a><!--MD5=[185131fc0dcab0a4505a2ebe144e961b]\n",
       "link E4 to E2--><a href=\"psysml:146be695-7eb6-4202-9265-d9af7aac1ef0\" target=\"_top\" title=\"psysml:146be695-7eb6-4202-9265-d9af7aac1ef0\" xlink:actuate=\"onRequest\" xlink:href=\"psysml:146be695-7eb6-4202-9265-d9af7aac1ef0\" xlink:show=\"new\" xlink:title=\"psysml:146be695-7eb6-4202-9265-d9af7aac1ef0\" xlink:type=\"simple\"><path d=\"M733.02,506.3 C739.07,519.01 745.83,533.22 752.58,547.42 \" fill=\"none\" id=\"E4-&gt;E2\" style=\"stroke: #383838; stroke-width: 1.0;\"/><polygon fill=\"none\" points=\"759.13,544.89,761.4,565.95,746.48,550.9,759.13,544.89\" style=\"stroke: #383838; stroke-width: 1.0;\"/></a><!--MD5=[15ebcb19ae302d9b601edb458606d402]\n",
       "link E5 to E2--><a href=\"psysml:0c0b6a4f-b1ef-4d61-a174-627204638b8a\" target=\"_top\" title=\"psysml:0c0b6a4f-b1ef-4d61-a174-627204638b8a\" xlink:actuate=\"onRequest\" xlink:href=\"psysml:0c0b6a4f-b1ef-4d61-a174-627204638b8a\" xlink:show=\"new\" xlink:title=\"psysml:0c0b6a4f-b1ef-4d61-a174-627204638b8a\" xlink:type=\"simple\"><path d=\"M941.19,506.08 C923.02,521.93 902.16,540.13 881.96,557.76 \" fill=\"none\" id=\"E5-&gt;E2\" style=\"stroke: #383838; stroke-width: 1.0;\"/><polygon fill=\"none\" points=\"886.37,563.2,866.7,571.07,877.17,552.65,886.37,563.2\" style=\"stroke: #383838; stroke-width: 1.0;\"/></a><!--MD5=[dc164f5e8a733ab456ef1add180e9e34]\n",
       "reverse link E7 to E8--><a href=\"psysml:0a1cc0e8-d247-42f5-b039-db0e9c2e1cb1\" target=\"_top\" title=\"psysml:0a1cc0e8-d247-42f5-b039-db0e9c2e1cb1\" xlink:actuate=\"onRequest\" xlink:href=\"psysml:0a1cc0e8-d247-42f5-b039-db0e9c2e1cb1\" xlink:show=\"new\" xlink:title=\"psysml:0a1cc0e8-d247-42f5-b039-db0e9c2e1cb1\" xlink:type=\"simple\"><path d=\"M404.9,67.79 C334.46,70.93 188.43,85.42 87,150 C78.1,155.66 70.49,164.32 64.59,172.6 \" fill=\"none\" id=\"E7&lt;-E8\" style=\"stroke: #383838; stroke-width: 1.0;\"/><polygon fill=\"#383838\" points=\"417.95,67.3,411.8047,63.5271,405.9584,67.7485,412.1037,71.5215,417.95,67.3\" style=\"stroke: #383838; stroke-width: 1.0;\"/><text fill=\"#000000\" font-family=\"sans-serif\" font-size=\"13\" lengthAdjust=\"spacingAndGlyphs\" textLength=\"7\" x=\"60.0494\" y=\"162.2176\">1</text></a><!--MD5=[e4a10ef82d0e328e31cac39a31e58dda]\n",
       "reverse link E7 to E9--><a href=\"psysml:e1cf237d-e4c2-4f1c-820d-ed59165ee58b\" target=\"_top\" title=\"psysml:e1cf237d-e4c2-4f1c-820d-ed59165ee58b\" xlink:actuate=\"onRequest\" xlink:href=\"psysml:e1cf237d-e4c2-4f1c-820d-ed59165ee58b\" xlink:show=\"new\" xlink:title=\"psysml:e1cf237d-e4c2-4f1c-820d-ed59165ee58b\" xlink:type=\"simple\"><path d=\"M404.54,71.95 C347.23,80.34 242.36,101.47 167,150 C157.75,155.96 149.41,164.67 142.77,172.91 \" fill=\"none\" id=\"E7&lt;-E9\" style=\"stroke: #383838; stroke-width: 1.0;\"/><polygon fill=\"#383838\" points=\"417.7,70.12,411.2072,66.9825,405.8138,71.769,412.3066,74.9066,417.7,70.12\" style=\"stroke: #383838; stroke-width: 1.0;\"/><text fill=\"#000000\" font-family=\"sans-serif\" font-size=\"13\" lengthAdjust=\"spacingAndGlyphs\" textLength=\"7\" x=\"138.9142\" y=\"162.2031\">1</text></a><!--MD5=[922cdebd694c5e143c813d690fab87df]\n",
       "reverse link E7 to E10--><a href=\"psysml:055fb1aa-b9d7-40bb-9662-b9dd5c69c7ed\" target=\"_top\" title=\"psysml:055fb1aa-b9d7-40bb-9662-b9dd5c69c7ed\" xlink:actuate=\"onRequest\" xlink:href=\"psysml:055fb1aa-b9d7-40bb-9662-b9dd5c69c7ed\" xlink:show=\"new\" xlink:title=\"psysml:055fb1aa-b9d7-40bb-9662-b9dd5c69c7ed\" xlink:type=\"simple\"><path d=\"M405.23,78.32 C363.41,91.22 297.76,115.13 249,150 C240.12,156.35 231.81,164.94 225.02,172.98 \" fill=\"none\" id=\"E7&lt;-E10\" style=\"stroke: #383838; stroke-width: 1.0;\"/><polygon fill=\"#383838\" points=\"417.92,74.52,411.025,72.4084,406.4239,77.9609,413.3189,80.0725,417.92,74.52\" style=\"stroke: #383838; stroke-width: 1.0;\"/><text fill=\"#000000\" font-family=\"sans-serif\" font-size=\"13\" lengthAdjust=\"spacingAndGlyphs\" textLength=\"7\" x=\"221.4845\" y=\"162.291\">1</text></a><!--MD5=[2ca899261e9da116dc90951b99d19438]\n",
       "reverse link E7 to E11--><a href=\"psysml:d9c09c25-5168-41d9-b518-e8de02bcf113\" target=\"_top\" title=\"psysml:d9c09c25-5168-41d9-b518-e8de02bcf113\" xlink:actuate=\"onRequest\" xlink:href=\"psysml:d9c09c25-5168-41d9-b518-e8de02bcf113\" xlink:show=\"new\" xlink:title=\"psysml:d9c09c25-5168-41d9-b518-e8de02bcf113\" xlink:type=\"simple\"><path d=\"M407.23,95.06 C386.44,110.6 360.72,130.64 339,150 C330.99,157.14 322.66,165.39 315.38,172.92 \" fill=\"none\" id=\"E7&lt;-E11\" style=\"stroke: #383838; stroke-width: 1.0;\"/><polygon fill=\"#383838\" points=\"417.9,87.15,410.6979,87.5104,408.2606,94.2971,415.4627,93.9367,417.9,87.15\" style=\"stroke: #383838; stroke-width: 1.0;\"/><text fill=\"#000000\" font-family=\"sans-serif\" font-size=\"13\" lengthAdjust=\"spacingAndGlyphs\" textLength=\"7\" x=\"312.9618\" y=\"162.2156\">1</text></a><!--MD5=[3a23db799dc6d26335b9f11d383e7df0]\n",
       "reverse link E7 to E12--><a href=\"psysml:83bbfc01-3e96-40e8-b352-c4e48a7ac8ae\" target=\"_top\" title=\"psysml:83bbfc01-3e96-40e8-b352-c4e48a7ac8ae\" xlink:actuate=\"onRequest\" xlink:href=\"psysml:83bbfc01-3e96-40e8-b352-c4e48a7ac8ae\" xlink:show=\"new\" xlink:title=\"psysml:83bbfc01-3e96-40e8-b352-c4e48a7ac8ae\" xlink:type=\"simple\"><path d=\"M428.99,101.82 C418.01,124.31 404.03,152.94 394.38,172.7 \" fill=\"none\" id=\"E7&lt;-E12\" style=\"stroke: #383838; stroke-width: 1.0;\"/><polygon fill=\"#383838\" points=\"434.74,90.06,428.5145,93.6991,429.4792,100.8453,435.7047,97.2063,434.74,90.06\" style=\"stroke: #383838; stroke-width: 1.0;\"/><text fill=\"#000000\" font-family=\"sans-serif\" font-size=\"13\" lengthAdjust=\"spacingAndGlyphs\" textLength=\"7\" x=\"389.3008\" y=\"162.342\">1</text></a><!--MD5=[ad5a3d0819c3a0d7f5a1ccb39df18e5a]\n",
       "reverse link E7 to E13--><a href=\"psysml:4a7bad80-c505-489d-8d82-f8d54bd3a6fb\" target=\"_top\" title=\"psysml:4a7bad80-c505-489d-8d82-f8d54bd3a6fb\" xlink:actuate=\"onRequest\" xlink:href=\"psysml:4a7bad80-c505-489d-8d82-f8d54bd3a6fb\" xlink:show=\"new\" xlink:title=\"psysml:4a7bad80-c505-489d-8d82-f8d54bd3a6fb\" xlink:type=\"simple\"><path d=\"M440.03,103.13 C435.71,141.77 435.06,203.02 465,244 C493.1,282.46 543.02,303.38 584.36,314.59 \" fill=\"none\" id=\"E7&lt;-E13\" style=\"stroke: #383838; stroke-width: 1.0;\"/><polygon fill=\"#383838\" points=\"441.7,90.23,436.9614,95.6656,440.1564,102.1303,444.895,96.6947,441.7,90.23\" style=\"stroke: #383838; stroke-width: 1.0;\"/><text fill=\"#000000\" font-family=\"sans-serif\" font-size=\"13\" lengthAdjust=\"spacingAndGlyphs\" textLength=\"7\" x=\"569.4697\" y=\"309.7524\">2</text></a><!--MD5=[017847e01ff9a8bd19f247411074f987]\n",
       "link E13 to E4--><a href=\"psysml:4c8de3f3-9425-4025-8d21-a4ef21c6690a\" target=\"_top\" title=\"psysml:4c8de3f3-9425-4025-8d21-a4ef21c6690a\" xlink:actuate=\"onRequest\" xlink:href=\"psysml:4c8de3f3-9425-4025-8d21-a4ef21c6690a\" xlink:show=\"new\" xlink:title=\"psysml:4c8de3f3-9425-4025-8d21-a4ef21c6690a\" xlink:type=\"simple\"><path d=\"M663.37,352.06 C668.62,363.73 675.27,378.54 681.93,393.36 \" fill=\"none\" id=\"E13-&gt;E4\" style=\"stroke: #383838; stroke-width: 1.0;\"/><polygon fill=\"#FFFFFF\" points=\"690.27,411.89,676.0957,397.43,688.8651,391.6903,690.27,411.89\" style=\"stroke: #383838; stroke-width: 1.0;\"/><ellipse cx=\"675.5831\" cy=\"391.4111\" fill=\"#383838\" rx=\"2\" ry=\"2\" style=\"stroke: #383838; stroke-width: 1.0;\"/><ellipse cx=\"684.704\" cy=\"387.3114\" fill=\"#383838\" rx=\"2\" ry=\"2\" style=\"stroke: #383838; stroke-width: 1.0;\"/></a><!--MD5=[51c3b529396b3296419c1a3dacbc66cc]\n",
       "reverse link E7 to E14--><a href=\"psysml:0b7f1e1f-fb46-4896-9340-a7144746c355\" target=\"_top\" title=\"psysml:0b7f1e1f-fb46-4896-9340-a7144746c355\" xlink:actuate=\"onRequest\" xlink:href=\"psysml:0b7f1e1f-fb46-4896-9340-a7144746c355\" xlink:show=\"new\" xlink:title=\"psysml:0b7f1e1f-fb46-4896-9340-a7144746c355\" xlink:type=\"simple\"><path d=\"M481.62,99.14 C498.62,114.47 519.26,133.09 537.89,149.89 \" fill=\"none\" id=\"E7&lt;-E14\" style=\"stroke: #383838; stroke-width: 1.0;\"/><polygon fill=\"#383838\" points=\"471.57,90.06,473.3448,97.0493,480.479,98.0992,478.7043,91.1099,471.57,90.06\" style=\"stroke: #383838; stroke-width: 1.0;\"/><text fill=\"#000000\" font-family=\"sans-serif\" font-size=\"13\" lengthAdjust=\"spacingAndGlyphs\" textLength=\"7\" x=\"522.5278\" y=\"138.9966\">2</text></a><!--MD5=[b011a6030a1f154d6f62c166742aa97e]\n",
       "link E14 to E13--><a href=\"psysml:4d21006f-dbb0-4d7d-952a-3caa4e832989\" target=\"_top\" title=\"psysml:4d21006f-dbb0-4d7d-952a-3caa4e832989\" xlink:actuate=\"onRequest\" xlink:href=\"psysml:4d21006f-dbb0-4d7d-952a-3caa4e832989\" xlink:show=\"new\" xlink:title=\"psysml:4d21006f-dbb0-4d7d-952a-3caa4e832989\" xlink:type=\"simple\"><path d=\"M611.92,244.21 C618.67,257.81 626.01,272.59 632.59,285.85 \" fill=\"none\" id=\"E14-&gt;E13\" style=\"stroke: #383838; stroke-width: 1.0;\"/><polygon fill=\"none\" points=\"638.91,282.85,641.53,303.88,626.37,289.07,638.91,282.85\" style=\"stroke: #383838; stroke-width: 1.0;\"/></a><!--MD5=[7083bedf6c3e91fe607595dc32730346]\n",
       "reverse link E7 to E15--><a href=\"psysml:e0c0b138-2f62-4109-a13a-73ce44252387\" target=\"_top\" title=\"psysml:e0c0b138-2f62-4109-a13a-73ce44252387\" xlink:actuate=\"onRequest\" xlink:href=\"psysml:e0c0b138-2f62-4109-a13a-73ce44252387\" xlink:show=\"new\" xlink:title=\"psysml:e0c0b138-2f62-4109-a13a-73ce44252387\" xlink:type=\"simple\"><path d=\"M486.93,79.15 C539.47,94.88 633.36,123.44 713,150 C718.86,151.96 724.87,153.99 730.92,156.06 \" fill=\"none\" id=\"E7&lt;-E15\" style=\"stroke: #383838; stroke-width: 1.0;\"/><polygon fill=\"#383838\" points=\"474.18,75.35,478.7869,80.8976,485.6797,78.7788,481.0728,73.2312,474.18,75.35\" style=\"stroke: #383838; stroke-width: 1.0;\"/><text fill=\"#000000\" font-family=\"sans-serif\" font-size=\"13\" lengthAdjust=\"spacingAndGlyphs\" textLength=\"7\" x=\"715.8636\" y=\"150.1371\">2</text></a><!--MD5=[6d237fe5184b1cde996713da3520e740]\n",
       "link E15 to E13--><a href=\"psysml:77bba31d-8594-4ea6-aa89-e9a69f768c63\" target=\"_top\" title=\"psysml:77bba31d-8594-4ea6-aa89-e9a69f768c63\" xlink:actuate=\"onRequest\" xlink:href=\"psysml:77bba31d-8594-4ea6-aa89-e9a69f768c63\" xlink:show=\"new\" xlink:title=\"psysml:77bba31d-8594-4ea6-aa89-e9a69f768c63\" xlink:type=\"simple\"><path d=\"M774.57,244.03 C751.06,260.07 725.12,277.78 703.25,292.7 \" fill=\"none\" id=\"E15-&gt;E13\" style=\"stroke: #383838; stroke-width: 1.0;\"/><polygon fill=\"none\" points=\"707.18,298.49,686.72,303.99,699.29,286.93,707.18,298.49\" style=\"stroke: #383838; stroke-width: 1.0;\"/></a><!--MD5=[58c28e761e01f0e552a52325a1c02dcb]\n",
       "reverse link E7 to E16--><a href=\"psysml:25247c6f-cbd9-4d56-ae14-39d2fd9dcff6\" target=\"_top\" title=\"psysml:25247c6f-cbd9-4d56-ae14-39d2fd9dcff6\" xlink:actuate=\"onRequest\" xlink:href=\"psysml:25247c6f-cbd9-4d56-ae14-39d2fd9dcff6\" xlink:show=\"new\" xlink:title=\"psysml:25247c6f-cbd9-4d56-ae14-39d2fd9dcff6\" xlink:type=\"simple\"><path d=\"M487.16,68.35 C597.45,72.74 896.29,90.04 971,150 C1006.02,178.1 987.95,203.83 1008,244 C1018.42,264.88 1032.43,287.37 1043.13,303.66 \" fill=\"none\" id=\"E7&lt;-E16\" style=\"stroke: #383838; stroke-width: 1.0;\"/><polygon fill=\"#383838\" points=\"474.08,67.85,479.9217,72.0779,486.0711,68.3117,480.2295,64.0838,474.08,67.85\" style=\"stroke: #383838; stroke-width: 1.0;\"/><text fill=\"#000000\" font-family=\"sans-serif\" font-size=\"13\" lengthAdjust=\"spacingAndGlyphs\" textLength=\"7\" x=\"1031.4086\" y=\"293.2922\">2</text></a><!--MD5=[fa2abb551b56e0eb99dc4a6aa4d4fbfd]\n",
       "link E16 to E5--><a href=\"psysml:b514f529-1aca-484c-ae85-a9e7897f07a5\" target=\"_top\" title=\"psysml:b514f529-1aca-484c-ae85-a9e7897f07a5\" xlink:actuate=\"onRequest\" xlink:href=\"psysml:b514f529-1aca-484c-ae85-a9e7897f07a5\" xlink:show=\"new\" xlink:title=\"psysml:b514f529-1aca-484c-ae85-a9e7897f07a5\" xlink:type=\"simple\"><path d=\"M1047.38,352.06 C1041.43,363.86 1033.87,378.87 1026.32,393.85 \" fill=\"none\" id=\"E16-&gt;E5\" style=\"stroke: #383838; stroke-width: 1.0;\"/><polygon fill=\"#FFFFFF\" points=\"1017.23,411.89,1019.5304,391.7726,1032.0323,398.0736,1017.23,411.89\" style=\"stroke: #383838; stroke-width: 1.0;\"/><ellipse cx=\"1023.8817\" cy=\"387.5827\" fill=\"#383838\" rx=\"2\" ry=\"2\" style=\"stroke: #383838; stroke-width: 1.0;\"/><ellipse cx=\"1032.8117\" cy=\"392.0834\" fill=\"#383838\" rx=\"2\" ry=\"2\" style=\"stroke: #383838; stroke-width: 1.0;\"/></a><!--MD5=[2f9c4284495eaf2b3cd261b66b02d02b]\n",
       "reverse link E7 to E17--><a href=\"psysml:685c17c9-a174-4eac-b339-3c3d0003caf9\" target=\"_top\" title=\"psysml:685c17c9-a174-4eac-b339-3c3d0003caf9\" xlink:actuate=\"onRequest\" xlink:href=\"psysml:685c17c9-a174-4eac-b339-3c3d0003caf9\" xlink:show=\"new\" xlink:title=\"psysml:685c17c9-a174-4eac-b339-3c3d0003caf9\" xlink:type=\"simple\"><path d=\"M487.36,70.56 C579.9,79.12 810.3,103.61 998,150 C1006.95,152.21 1016.16,154.78 1025.34,157.55 \" fill=\"none\" id=\"E7&lt;-E17\" style=\"stroke: #383838; stroke-width: 1.0;\"/><polygon fill=\"#383838\" points=\"474.22,69.37,479.8301,73.9007,486.17,70.4648,480.5599,65.9341,474.22,69.37\" style=\"stroke: #383838; stroke-width: 1.0;\"/><text fill=\"#000000\" font-family=\"sans-serif\" font-size=\"13\" lengthAdjust=\"spacingAndGlyphs\" textLength=\"7\" x=\"1010.397\" y=\"151.5846\">2</text></a><!--MD5=[0f3bd1f960be7aafd1dc46ecf374f56b]\n",
       "link E17 to E16--><a href=\"psysml:167fc264-fc11-400c-b6dc-71c305aca5c8\" target=\"_top\" title=\"psysml:167fc264-fc11-400c-b6dc-71c305aca5c8\" xlink:actuate=\"onRequest\" xlink:href=\"psysml:167fc264-fc11-400c-b6dc-71c305aca5c8\" xlink:show=\"new\" xlink:title=\"psysml:167fc264-fc11-400c-b6dc-71c305aca5c8\" xlink:type=\"simple\"><path d=\"M1104.57,244.21 C1097,257.97 1088.76,272.94 1081.39,286.31 \" fill=\"none\" id=\"E17-&gt;E16\" style=\"stroke: #383838; stroke-width: 1.0;\"/><polygon fill=\"none\" points=\"1087.5,289.73,1071.73,303.88,1075.24,282.98,1087.5,289.73\" style=\"stroke: #383838; stroke-width: 1.0;\"/></a><!--MD5=[43e2daa756686db892622715c992888e]\n",
       "reverse link E7 to E18--><a href=\"psysml:27a72dd7-a816-4251-ab5a-6f06b8381ad8\" target=\"_top\" title=\"psysml:27a72dd7-a816-4251-ab5a-6f06b8381ad8\" xlink:actuate=\"onRequest\" xlink:href=\"psysml:27a72dd7-a816-4251-ab5a-6f06b8381ad8\" xlink:show=\"new\" xlink:title=\"psysml:27a72dd7-a816-4251-ab5a-6f06b8381ad8\" xlink:type=\"simple\"><path d=\"M487.34,67.7 C607.18,70.5 964.46,84.17 1252,150 C1257.83,151.33 1263.76,152.86 1269.71,154.52 \" fill=\"none\" id=\"E7&lt;-E18\" style=\"stroke: #383838; stroke-width: 1.0;\"/><polygon fill=\"#383838\" points=\"474.25,67.42,480.1607,71.5509,486.2471,67.6837,480.3364,63.5528,474.25,67.42\" style=\"stroke: #383838; stroke-width: 1.0;\"/><text fill=\"#000000\" font-family=\"sans-serif\" font-size=\"13\" lengthAdjust=\"spacingAndGlyphs\" textLength=\"7\" x=\"1255.1319\" y=\"148.6455\">2</text></a><!--MD5=[0d3f80f374908afd511e572d6de02df7]\n",
       "link E18 to E16--><a href=\"psysml:928634ba-d88e-4ae7-ae3a-f1e8804c70ff\" target=\"_top\" title=\"psysml:928634ba-d88e-4ae7-ae3a-f1e8804c70ff\" xlink:actuate=\"onRequest\" xlink:href=\"psysml:928634ba-d88e-4ae7-ae3a-f1e8804c70ff\" xlink:show=\"new\" xlink:title=\"psysml:928634ba-d88e-4ae7-ae3a-f1e8804c70ff\" xlink:type=\"simple\"><path d=\"M1269.77,242.03 C1225.32,259.95 1175.05,280.22 1134.75,296.46 \" fill=\"none\" id=\"E18-&gt;E16\" style=\"stroke: #383838; stroke-width: 1.0;\"/><polygon fill=\"none\" points=\"1137.29,302.99,1116.12,303.97,1132.06,290,1137.29,302.99\" style=\"stroke: #383838; stroke-width: 1.0;\"/></a><!--MD5=[69627a0d8fa273957644dbee3e9bcd63]\n",
       "@startuml\r\n",
       "skinparam monochrome true\r\n",
       "skinparam classbackgroundcolor white\r\n",
       "skinparam shadowing false\r\n",
       "skinparam wrapWidth 300\r\n",
       "hide circle\r\n",
       "\r\n",
       "package \"eVehicle_LogicalArchitecture\" as E1  [[psysml:b29faa14-e940-458e-8325-6b36bbbc60fc ]]  {\r\n",
       "comp def \"Wheel\" as E2  <<(T,blue) part  def>> [[psysml:05b466af-fdb5-4cf9-9061-8468bdfc5360 ]] {\r\n",
       "- - attributes - -\r\n",
       "currentPressure: Real\r\n",
       "maxPressure: Real\r\n",
       "- - references - -\r\n",
       "radius:= 325 [mm]; \\n//:>>CircularCylinder::radius// \r\n",
       "}\r\n",
       "comp usage \"pressureConstraint: WheelPressureConstraint \" as E3  <<(T,blue) constraint>> [[psysml:a8e0365e-f5d2-4a29-8627-e06e82927157 ]] {\r\n",
       "- - parameters - -\r\n",
       "<b>in</b> currentPressure= currentPressure; \r\n",
       "<b>in</b> limitPressure= maxPressure; \r\n",
       "}\r\n",
       "comp def \"FrontWheel\" as E4  <<(T,blue) part  def>> [[psysml:b1da3db4-0713-47ee-a2ff-d1db2f274619 ]] {\r\n",
       "- - attributes - -\r\n",
       "maxPressure= 2.0; \\n//:>>Wheel::maxPressure// \r\n",
       "}\r\n",
       "comp def \"RearWheel\" as E5  <<(T,blue) part  def>> [[psysml:0271370e-8579-479a-ad4e-195cf5217619 ]] {\r\n",
       "- - attributes - -\r\n",
       "maxPressure= 2.5; \\n//:>>Wheel::maxPressure// \r\n",
       "}\r\n",
       "comp def \"WheelPressureConstraint\" as E6  <<(T,blue) constraint  def>> [[psysml:152b5073-c2f6-4bfb-bf85-c790ca2887dd ]] {\r\n",
       "- - operator expressions - -\r\n",
       " { currentPressure <= limitPressure }\r\n",
       "}\r\n",
       "comp usage \"eVehicle \" as E7  <<(T,blue) part>> [[psysml:25b631a5-c8e1-4cb2-b89e-313ad4ff4716 ]] {\r\n",
       "}\r\n",
       "comp usage \"body \" as E8  <<(T,blue) part>> [[psysml:bc1b9af6-b98b-48a4-95a5-12fe4ac2cc7a ]] {\r\n",
       "}\r\n",
       "comp usage \"battery \" as E9  <<(T,blue) part>> [[psysml:66a44cf4-0eb6-48c9-a956-5da0fc05fa99 ]] {\r\n",
       "}\r\n",
       "comp usage \"engine \" as E10  <<(T,blue) part>> [[psysml:2ff088b6-0588-47ad-8644-7a90536732ae ]] {\r\n",
       "}\r\n",
       "comp usage \"frontAxis \" as E11  <<(T,blue) part>> [[psysml:79f928ab-ea76-485f-91d9-c2029f8f95e4 ]] {\r\n",
       "}\r\n",
       "comp usage \"rearAxis \" as E12  <<(T,blue) part>> [[psysml:78e1a61a-6523-4e22-b97d-675dac236c39 ]] {\r\n",
       "}\r\n",
       "comp usage \"frontWheel: FrontWheel \" as E13  <<(T,blue) part>> [[psysml:53b7f449-8f61-406a-b94f-32ca48e6dc87 ]] {\r\n",
       "}\r\n",
       "comp usage \"frontLeftWheel :> eVehicle::frontWheel\" as E14  <<(T,blue) part>> [[psysml:740072f4-3fd2-457a-8039-62eb82631cd0 ]] {\r\n",
       "- - references - -\r\n",
       "currentPressure= 1.6; \\n//:>>Wheel::currentPressure// \r\n",
       "}\r\n",
       "comp usage \"frontRightWheel :> eVehicle::frontWheel\" as E15  <<(T,blue) part>> [[psysml:f9ade32e-6fae-43b8-9ac3-baeb67fec8e7 ]] {\r\n",
       "- - references - -\r\n",
       "currentPressure= 1.8; \\n//:>>Wheel::currentPressure// \r\n",
       "}\r\n",
       "comp usage \"rearWheel: RearWheel \" as E16  <<(T,blue) part>> [[psysml:d3c95c79-fc7e-4d11-ad21-32098e0a6f06 ]] {\r\n",
       "}\r\n",
       "comp usage \"rearLeftWheel :> eVehicle::rearWheel\" as E17  <<(T,blue) part>> [[psysml:b7e399fa-98bd-4a3c-82d1-0e8a7062e329 ]] {\r\n",
       "- - references - -\r\n",
       "currentPressure= 2.4; \\n//:>>Wheel::currentPressure// \r\n",
       "}\r\n",
       "comp usage \"rearRightWheel :> eVehicle::rearWheel\" as E18  <<(T,blue) part>> [[psysml:c72f4129-48e5-4907-8916-f0d06c48a5a0 ]] {\r\n",
       "- - references - -\r\n",
       "currentPressure= 2.5; \\n//:>>Wheel::currentPressure// \r\n",
       "}\r\n",
       "}\r\n",
       "E2 *- - E3 [[psysml:1b56104f-1d60-446c-8f2e-34f7c408c9d5 ]] \r\n",
       "E3 - -:|> E6 [[psysml:eb04c9fa-83a2-48b8-976b-b13da1392eb2 ]] \r\n",
       "E4 - -|> E2 [[psysml:146be695-7eb6-4202-9265-d9af7aac1ef0 ]] \r\n",
       "E5 - -|> E2 [[psysml:0c0b6a4f-b1ef-4d61-a174-627204638b8a ]] \r\n",
       "E7 *- - \"1\"E8 [[psysml:0a1cc0e8-d247-42f5-b039-db0e9c2e1cb1 ]] \r\n",
       "E7 *- - \"1\"E9 [[psysml:e1cf237d-e4c2-4f1c-820d-ed59165ee58b ]] \r\n",
       "E7 *- - \"1\"E10 [[psysml:055fb1aa-b9d7-40bb-9662-b9dd5c69c7ed ]] \r\n",
       "E7 *- - \"1\"E11 [[psysml:d9c09c25-5168-41d9-b518-e8de02bcf113 ]] \r\n",
       "E7 *- - \"1\"E12 [[psysml:83bbfc01-3e96-40e8-b352-c4e48a7ac8ae ]] \r\n",
       "E7 *- - \"2\"E13 [[psysml:4a7bad80-c505-489d-8d82-f8d54bd3a6fb ]] \r\n",
       "E13 - -:|> E4 [[psysml:4c8de3f3-9425-4025-8d21-a4ef21c6690a ]] \r\n",
       "E7 *- - \"2\"E14 [[psysml:0b7f1e1f-fb46-4896-9340-a7144746c355 ]] \r\n",
       "E14 - -|> E13 [[psysml:4d21006f-dbb0-4d7d-952a-3caa4e832989 ]] \r\n",
       "E7 *- - \"2\"E15 [[psysml:e0c0b138-2f62-4109-a13a-73ce44252387 ]] \r\n",
       "E15 - -|> E13 [[psysml:77bba31d-8594-4ea6-aa89-e9a69f768c63 ]] \r\n",
       "E7 *- - \"2\"E16 [[psysml:25247c6f-cbd9-4d56-ae14-39d2fd9dcff6 ]] \r\n",
       "E16 - -:|> E5 [[psysml:b514f529-1aca-484c-ae85-a9e7897f07a5 ]] \r\n",
       "E7 *- - \"2\"E17 [[psysml:685c17c9-a174-4eac-b339-3c3d0003caf9 ]] \r\n",
       "E17 - -|> E16 [[psysml:167fc264-fc11-400c-b6dc-71c305aca5c8 ]] \r\n",
       "E7 *- - \"2\"E18 [[psysml:27a72dd7-a816-4251-ab5a-6f06b8381ad8 ]] \r\n",
       "E18 - -|> E16 [[psysml:928634ba-d88e-4ae7-ae3a-f1e8804c70ff ]] \r\n",
       "@enduml\r\n",
       "\n",
       "PlantUML version 1.2020.13(Sat Jun 13 14:26:38 CEST 2020)\n",
       "(EPL source distribution)\n",
       "Java Runtime: OpenJDK Runtime Environment\n",
       "JVM: OpenJDK 64-Bit Server VM\n",
       "Default Encoding: Cp1252\n",
       "Language: en\n",
       "Country: US\n",
       "--></g></svg>"
      ]
     },
     "execution_count": 18,
     "metadata": {},
     "output_type": "execute_result"
    }
   ],
   "source": [
    "%viz --view=tree eVehicle_LogicalArchitecture"
   ]
  },
  {
   "cell_type": "markdown",
   "metadata": {},
   "source": [
    "## Putting the parts together<a name=\"sysmlv2modconnect\"></a>\n",
    "\n",
    "By now the model only defines the breakdown structure of the vehicle. There is no definition yet of how the parts are connected. The next example model *eVehicle_LogicalArchitecture* connects the parts in a meaningful way.\n"
   ]
  },
  {
   "cell_type": "code",
   "execution_count": 19,
   "metadata": {},
   "outputs": [
    {
     "data": {
      "text/plain": [
       "Package eVehicle_LogicalArchitecture (bf32f7b9-16eb-46e7-9632-1e90ebd8dd6f)\n"
      ]
     },
     "execution_count": 19,
     "metadata": {},
     "output_type": "execute_result"
    }
   ],
   "source": [
    "package eVehicle_LogicalArchitecture {\n",
    "       \n",
    "    part def Wheel :> ShapeItems::CircularCylinder {\n",
    "        import SI::*;\n",
    "        :>> radius := 325 [mm];\n",
    "\n",
    "        constraint pressureConstraint : WheelPressureConstraint (\n",
    "            currentPressure = currentPressure,\n",
    "            limitPressure = maxPressure);\n",
    "\n",
    "        attribute currentPressure : ScalarValues::Real;\n",
    "        attribute maxPressure : ScalarValues::Real;\n",
    "    }\n",
    "    \n",
    "    part def FrontWheel :> Wheel {\n",
    "        attribute redefines maxPressure = 2.0;\n",
    "    }\n",
    "    part def RearWheel :> Wheel {\n",
    "        attribute redefines maxPressure = 2.5;\n",
    "    }\n",
    "    \n",
    "    constraint def WheelPressureConstraint (\n",
    "        currentPressure : ScalarValues::Real,\n",
    "        limitPressure : ScalarValues::Real) {\n",
    "            currentPressure <= limitPressure\n",
    "    }\n",
    "\n",
    "    \n",
    "    part eVehicle {    \n",
    "        part body;\n",
    "        part battery;\n",
    "        part engine;\n",
    "        part frontAxis;\n",
    "        part rearAxis;\n",
    "        part frontWheel : Wheel[2];\n",
    "        part rearWheel : Wheel[2];\n",
    "        \n",
    "        connect battery to engine;\n",
    "        connect engine to frontAxis;\n",
    "        connect frontAxis to frontWheel;\n",
    "        connect rearAxis to rearWheel;\n",
    "        connect body to battery;\n",
    "        connect body to engine;\n",
    "        connect body to frontAxis;\n",
    "        connect body to rearAxis;\n",
    "    }\n",
    "}"
   ]
  },
  {
   "cell_type": "code",
   "execution_count": 20,
   "metadata": {},
   "outputs": [
    {
     "data": {
      "image/svg+xml": [
       "<?xml version=\"1.0\" encoding=\"UTF-8\" standalone=\"no\"?><svg xmlns=\"http://www.w3.org/2000/svg\" xmlns:xlink=\"http://www.w3.org/1999/xlink\" contentScriptType=\"application/ecmascript\" contentStyleType=\"text/css\" height=\"310px\" preserveAspectRatio=\"none\" style=\"width:283px;height:310px;\" version=\"1.1\" viewBox=\"0 0 283 310\" width=\"283px\" zoomAndPan=\"magnify\"><defs/><g><!--MD5=[fbc87193dbaf4d95561dea2c320d4a47]\n",
       "cluster E1--><a href=\"psysml:848b71fa-08ca-4351-a15a-663e62c0dee4\" target=\"_top\" title=\"psysml:848b71fa-08ca-4351-a15a-663e62c0dee4\" xlink:actuate=\"onRequest\" xlink:href=\"psysml:848b71fa-08ca-4351-a15a-663e62c0dee4\" xlink:show=\"new\" xlink:title=\"psysml:848b71fa-08ca-4351-a15a-663e62c0dee4\" xlink:type=\"simple\"><rect fill=\"#FFFFFF\" height=\"292\" id=\"E1\" rx=\"10\" ry=\"10\" style=\"stroke: #383838; stroke-width: 1.5;\" width=\"264\" x=\"7\" y=\"7\"/><rect fill=\"#F8F8F8\" height=\"25.0938\" rx=\"10\" ry=\"10\" style=\"stroke: #F8F8F8; stroke-width: 1.5;\" width=\"264\" x=\"7\" y=\"7\"/><rect fill=\"#F8F8F8\" height=\"10\" style=\"stroke: #F8F8F8; stroke-width: 1.5;\" width=\"264\" x=\"7\" y=\"22.0938\"/><rect fill=\"none\" height=\"292\" id=\"E1\" rx=\"10\" ry=\"10\" style=\"stroke: #383838; stroke-width: 1.5;\" width=\"264\" x=\"7\" y=\"7\"/><text fill=\"#000000\" font-family=\"sans-serif\" font-size=\"12\" lengthAdjust=\"spacingAndGlyphs\" textLength=\"47\" x=\"115.5\" y=\"24.457\">eVehicle</text><line style=\"stroke: #383838; stroke-width: 1.0;\" x1=\"7\" x2=\"271\" y1=\"32.0938\" y2=\"32.0938\"/></a><g id=\"E1.E2\"><a href=\"psysml:34c24a71-846d-49f8-bf42-1bcccfdc95f8\" target=\"_top\" title=\"psysml:34c24a71-846d-49f8-bf42-1bcccfdc95f8\" xlink:actuate=\"onRequest\" xlink:href=\"psysml:34c24a71-846d-49f8-bf42-1bcccfdc95f8\" xlink:show=\"new\" xlink:title=\"psysml:34c24a71-846d-49f8-bf42-1bcccfdc95f8\" xlink:type=\"simple\"><rect fill=\"#FFFFFF\" height=\"40\" id=\"E2\" rx=\"10\" ry=\"10\" style=\"stroke: #383838; stroke-width: 1.5;\" width=\"50\" x=\"102\" y=\"43\"/><rect fill=\"#F8F8F8\" height=\"25.0938\" rx=\"10\" ry=\"10\" style=\"stroke: #F8F8F8; stroke-width: 1.5;\" width=\"50\" x=\"102\" y=\"43\"/><rect fill=\"#F8F8F8\" height=\"10\" style=\"stroke: #F8F8F8; stroke-width: 1.5;\" width=\"50\" x=\"102\" y=\"58.0938\"/><rect fill=\"none\" height=\"40\" id=\"E2\" rx=\"10\" ry=\"10\" style=\"stroke: #383838; stroke-width: 1.5;\" width=\"50\" x=\"102\" y=\"43\"/><text fill=\"#000000\" font-family=\"sans-serif\" font-size=\"12\" lengthAdjust=\"spacingAndGlyphs\" textLength=\"26\" x=\"114\" y=\"60.457\">body</text></a></g><g id=\"E1.E3\"><a href=\"psysml:83e4a9c4-1ae5-46f9-9c8e-be3c6c050a5d\" target=\"_top\" title=\"psysml:83e4a9c4-1ae5-46f9-9c8e-be3c6c050a5d\" xlink:actuate=\"onRequest\" xlink:href=\"psysml:83e4a9c4-1ae5-46f9-9c8e-be3c6c050a5d\" xlink:show=\"new\" xlink:title=\"psysml:83e4a9c4-1ae5-46f9-9c8e-be3c6c050a5d\" xlink:type=\"simple\"><rect fill=\"#FFFFFF\" height=\"40\" id=\"E3\" rx=\"10\" ry=\"10\" style=\"stroke: #383838; stroke-width: 1.5;\" width=\"50\" x=\"23\" y=\"93\"/><rect fill=\"#F8F8F8\" height=\"25.0938\" rx=\"10\" ry=\"10\" style=\"stroke: #F8F8F8; stroke-width: 1.5;\" width=\"50\" x=\"23\" y=\"93\"/><rect fill=\"#F8F8F8\" height=\"10\" style=\"stroke: #F8F8F8; stroke-width: 1.5;\" width=\"50\" x=\"23\" y=\"108.0938\"/><rect fill=\"none\" height=\"40\" id=\"E3\" rx=\"10\" ry=\"10\" style=\"stroke: #383838; stroke-width: 1.5;\" width=\"50\" x=\"23\" y=\"93\"/><text fill=\"#000000\" font-family=\"sans-serif\" font-size=\"12\" lengthAdjust=\"spacingAndGlyphs\" textLength=\"36\" x=\"30\" y=\"110.457\">battery</text></a></g><g id=\"E1.E4\"><a href=\"psysml:f79e34df-0fc2-426f-87b2-9ba8f88768bd\" target=\"_top\" title=\"psysml:f79e34df-0fc2-426f-87b2-9ba8f88768bd\" xlink:actuate=\"onRequest\" xlink:href=\"psysml:f79e34df-0fc2-426f-87b2-9ba8f88768bd\" xlink:show=\"new\" xlink:title=\"psysml:f79e34df-0fc2-426f-87b2-9ba8f88768bd\" xlink:type=\"simple\"><rect fill=\"#FFFFFF\" height=\"40\" id=\"E4\" rx=\"10\" ry=\"10\" style=\"stroke: #383838; stroke-width: 1.5;\" width=\"50\" x=\"23\" y=\"143\"/><rect fill=\"#F8F8F8\" height=\"25.0938\" rx=\"10\" ry=\"10\" style=\"stroke: #F8F8F8; stroke-width: 1.5;\" width=\"50\" x=\"23\" y=\"143\"/><rect fill=\"#F8F8F8\" height=\"10\" style=\"stroke: #F8F8F8; stroke-width: 1.5;\" width=\"50\" x=\"23\" y=\"158.0938\"/><rect fill=\"none\" height=\"40\" id=\"E4\" rx=\"10\" ry=\"10\" style=\"stroke: #383838; stroke-width: 1.5;\" width=\"50\" x=\"23\" y=\"143\"/><text fill=\"#000000\" font-family=\"sans-serif\" font-size=\"12\" lengthAdjust=\"spacingAndGlyphs\" textLength=\"38\" x=\"29\" y=\"160.457\">engine</text></a></g><g id=\"E1.E5\"><a href=\"psysml:55ce56c7-66de-4972-844b-44e90d57b19e\" target=\"_top\" title=\"psysml:55ce56c7-66de-4972-844b-44e90d57b19e\" xlink:actuate=\"onRequest\" xlink:href=\"psysml:55ce56c7-66de-4972-844b-44e90d57b19e\" xlink:show=\"new\" xlink:title=\"psysml:55ce56c7-66de-4972-844b-44e90d57b19e\" xlink:type=\"simple\"><rect fill=\"#FFFFFF\" height=\"40\" id=\"E5\" rx=\"10\" ry=\"10\" style=\"stroke: #383838; stroke-width: 1.5;\" width=\"57\" x=\"65.5\" y=\"193\"/><rect fill=\"#F8F8F8\" height=\"25.0938\" rx=\"10\" ry=\"10\" style=\"stroke: #F8F8F8; stroke-width: 1.5;\" width=\"57\" x=\"65.5\" y=\"193\"/><rect fill=\"#F8F8F8\" height=\"10\" style=\"stroke: #F8F8F8; stroke-width: 1.5;\" width=\"57\" x=\"65.5\" y=\"208.0938\"/><rect fill=\"none\" height=\"40\" id=\"E5\" rx=\"10\" ry=\"10\" style=\"stroke: #383838; stroke-width: 1.5;\" width=\"57\" x=\"65.5\" y=\"193\"/><text fill=\"#000000\" font-family=\"sans-serif\" font-size=\"12\" lengthAdjust=\"spacingAndGlyphs\" textLength=\"46\" x=\"71\" y=\"210.457\">frontAxis</text></a></g><g id=\"E1.E6\"><a href=\"psysml:c7a38f54-332d-4183-8893-146d1b957a74\" target=\"_top\" title=\"psysml:c7a38f54-332d-4183-8893-146d1b957a74\" xlink:actuate=\"onRequest\" xlink:href=\"psysml:c7a38f54-332d-4183-8893-146d1b957a74\" xlink:show=\"new\" xlink:title=\"psysml:c7a38f54-332d-4183-8893-146d1b957a74\" xlink:type=\"simple\"><rect fill=\"#FFFFFF\" height=\"40\" id=\"E6\" rx=\"10\" ry=\"10\" style=\"stroke: #383838; stroke-width: 1.5;\" width=\"55\" x=\"182.5\" y=\"93\"/><rect fill=\"#F8F8F8\" height=\"25.0938\" rx=\"10\" ry=\"10\" style=\"stroke: #F8F8F8; stroke-width: 1.5;\" width=\"55\" x=\"182.5\" y=\"93\"/><rect fill=\"#F8F8F8\" height=\"10\" style=\"stroke: #F8F8F8; stroke-width: 1.5;\" width=\"55\" x=\"182.5\" y=\"108.0938\"/><rect fill=\"none\" height=\"40\" id=\"E6\" rx=\"10\" ry=\"10\" style=\"stroke: #383838; stroke-width: 1.5;\" width=\"55\" x=\"182.5\" y=\"93\"/><text fill=\"#000000\" font-family=\"sans-serif\" font-size=\"12\" lengthAdjust=\"spacingAndGlyphs\" textLength=\"44\" x=\"188\" y=\"110.457\">rearAxis</text></a></g><g id=\"E1.E7\"><a href=\"psysml:4ecae154-ea93-4112-b6bb-e4e239b7d512\" target=\"_top\" title=\"psysml:4ecae154-ea93-4112-b6bb-e4e239b7d512\" xlink:actuate=\"onRequest\" xlink:href=\"psysml:4ecae154-ea93-4112-b6bb-e4e239b7d512\" xlink:show=\"new\" xlink:title=\"psysml:4ecae154-ea93-4112-b6bb-e4e239b7d512\" xlink:type=\"simple\"><rect fill=\"#FFFFFF\" height=\"40\" id=\"E7\" rx=\"10\" ry=\"10\" style=\"stroke: #383838; stroke-width: 1.5;\" width=\"111\" x=\"38.5\" y=\"243\"/><rect fill=\"#F8F8F8\" height=\"25.0938\" rx=\"10\" ry=\"10\" style=\"stroke: #F8F8F8; stroke-width: 1.5;\" width=\"111\" x=\"38.5\" y=\"243\"/><rect fill=\"#F8F8F8\" height=\"10\" style=\"stroke: #F8F8F8; stroke-width: 1.5;\" width=\"111\" x=\"38.5\" y=\"258.0938\"/><rect fill=\"none\" height=\"40\" id=\"E7\" rx=\"10\" ry=\"10\" style=\"stroke: #383838; stroke-width: 1.5;\" width=\"111\" x=\"38.5\" y=\"243\"/><text fill=\"#000000\" font-family=\"sans-serif\" font-size=\"12\" lengthAdjust=\"spacingAndGlyphs\" textLength=\"100\" x=\"44\" y=\"260.457\">frontWheel: Wheel</text></a></g><g id=\"E1.E8\"><a href=\"psysml:21318680-11e8-4632-b54a-cbb7dbbc57e5\" target=\"_top\" title=\"psysml:21318680-11e8-4632-b54a-cbb7dbbc57e5\" xlink:actuate=\"onRequest\" xlink:href=\"psysml:21318680-11e8-4632-b54a-cbb7dbbc57e5\" xlink:show=\"new\" xlink:title=\"psysml:21318680-11e8-4632-b54a-cbb7dbbc57e5\" xlink:type=\"simple\"><rect fill=\"#FFFFFF\" height=\"40\" id=\"E8\" rx=\"10\" ry=\"10\" style=\"stroke: #383838; stroke-width: 1.5;\" width=\"109\" x=\"145.5\" y=\"143\"/><rect fill=\"#F8F8F8\" height=\"25.0938\" rx=\"10\" ry=\"10\" style=\"stroke: #F8F8F8; stroke-width: 1.5;\" width=\"109\" x=\"145.5\" y=\"143\"/><rect fill=\"#F8F8F8\" height=\"10\" style=\"stroke: #F8F8F8; stroke-width: 1.5;\" width=\"109\" x=\"145.5\" y=\"158.0938\"/><rect fill=\"none\" height=\"40\" id=\"E8\" rx=\"10\" ry=\"10\" style=\"stroke: #383838; stroke-width: 1.5;\" width=\"109\" x=\"145.5\" y=\"143\"/><text fill=\"#000000\" font-family=\"sans-serif\" font-size=\"12\" lengthAdjust=\"spacingAndGlyphs\" textLength=\"98\" x=\"151\" y=\"160.457\">rearWheel: Wheel</text></a></g><!--MD5=[af87c684e3b0d8be13c1a698a818ef1e]\n",
       "link E3 to E4--><a href=\"psysml:3d3e31e7-3c12-4fd7-8a82-9420f62306bf\" target=\"_top\" title=\"psysml:3d3e31e7-3c12-4fd7-8a82-9420f62306bf\" xlink:actuate=\"onRequest\" xlink:href=\"psysml:3d3e31e7-3c12-4fd7-8a82-9420f62306bf\" xlink:show=\"new\" xlink:title=\"psysml:3d3e31e7-3c12-4fd7-8a82-9420f62306bf\" xlink:type=\"simple\"><path d=\"M48,133.25 C48,136.38 48,139.62 48,142.75 \" fill=\"none\" id=\"E3-E4\" style=\"stroke: #383838; stroke-width: 3.0;\"/><text fill=\"#000000\" font-family=\"sans-serif\" font-size=\"13\" lengthAdjust=\"spacingAndGlyphs\" textLength=\"5\" x=\"34.9586\" y=\"132.0208\">*</text></a><!--MD5=[1b7591eae5389033d8d09a9d6721a717]\n",
       "link E4 to E5--><a href=\"psysml:661446d9-e636-462b-b8e6-09a85b843d7d\" target=\"_top\" title=\"psysml:661446d9-e636-462b-b8e6-09a85b843d7d\" xlink:actuate=\"onRequest\" xlink:href=\"psysml:661446d9-e636-462b-b8e6-09a85b843d7d\" xlink:show=\"new\" xlink:title=\"psysml:661446d9-e636-462b-b8e6-09a85b843d7d\" xlink:type=\"simple\"><path d=\"M66.44,183.25 C69.44,186.38 72.55,189.62 75.55,192.75 \" fill=\"none\" id=\"E4-E5\" style=\"stroke: #383838; stroke-width: 3.0;\"/><text fill=\"#000000\" font-family=\"sans-serif\" font-size=\"13\" lengthAdjust=\"spacingAndGlyphs\" textLength=\"5\" x=\"75.7556\" y=\"181.9715\">*</text></a><!--MD5=[3a9b96bfbf6b6ad89c494e81751bda47]\n",
       "link E5 to E7--><a href=\"psysml:cbe1660d-cd65-4016-89c3-9686678543c4\" target=\"_top\" title=\"psysml:cbe1660d-cd65-4016-89c3-9686678543c4\" xlink:actuate=\"onRequest\" xlink:href=\"psysml:cbe1660d-cd65-4016-89c3-9686678543c4\" xlink:show=\"new\" xlink:title=\"psysml:cbe1660d-cd65-4016-89c3-9686678543c4\" xlink:type=\"simple\"><path d=\"M94,233.25 C94,236.38 94,239.62 94,242.75 \" fill=\"none\" id=\"E5-E7\" style=\"stroke: #383838; stroke-width: 3.0;\"/><text fill=\"#000000\" font-family=\"sans-serif\" font-size=\"13\" lengthAdjust=\"spacingAndGlyphs\" textLength=\"5\" x=\"80.9586\" y=\"232.0208\">*</text></a><!--MD5=[0a839d0f80c2d72d4b9b307f046d0de8]\n",
       "link E6 to E8--><a href=\"psysml:55b5ce57-089c-4425-b738-29ae59a43b39\" target=\"_top\" title=\"psysml:55b5ce57-089c-4425-b738-29ae59a43b39\" xlink:actuate=\"onRequest\" xlink:href=\"psysml:55b5ce57-089c-4425-b738-29ae59a43b39\" xlink:show=\"new\" xlink:title=\"psysml:55b5ce57-089c-4425-b738-29ae59a43b39\" xlink:type=\"simple\"><path d=\"M205.99,133.25 C205.34,136.38 204.66,139.62 204.01,142.75 \" fill=\"none\" id=\"E6-E8\" style=\"stroke: #383838; stroke-width: 3.0;\"/><text fill=\"#000000\" font-family=\"sans-serif\" font-size=\"13\" lengthAdjust=\"spacingAndGlyphs\" textLength=\"5\" x=\"187.4514\" y=\"132.0208\">*</text></a><!--MD5=[2720a5a1f2c3fca2055b230370638851]\n",
       "link E2 to E3--><a href=\"psysml:612c7ade-0b34-4c57-9b3d-44fc385f3166\" target=\"_top\" title=\"psysml:612c7ade-0b34-4c57-9b3d-44fc385f3166\" xlink:actuate=\"onRequest\" xlink:href=\"psysml:612c7ade-0b34-4c57-9b3d-44fc385f3166\" xlink:show=\"new\" xlink:title=\"psysml:612c7ade-0b34-4c57-9b3d-44fc385f3166\" xlink:type=\"simple\"><path d=\"M101.57,79.45 C92.46,84.99 82.2,91.22 73.11,96.74 \" fill=\"none\" id=\"E2-E3\" style=\"stroke: #383838; stroke-width: 3.0;\"/><text fill=\"#000000\" font-family=\"sans-serif\" font-size=\"13\" lengthAdjust=\"spacingAndGlyphs\" textLength=\"5\" x=\"80.8753\" y=\"87.4614\">*</text></a><!--MD5=[4d03bb2d0377dc85ccfab60ff574652b]\n",
       "link E2 to E4--><a href=\"psysml:7bd062b7-f156-44b4-bf88-2f5a2fe7d34d\" target=\"_top\" title=\"psysml:7bd062b7-f156-44b4-bf88-2f5a2fe7d34d\" xlink:actuate=\"onRequest\" xlink:href=\"psysml:7bd062b7-f156-44b4-bf88-2f5a2fe7d34d\" xlink:show=\"new\" xlink:title=\"psysml:7bd062b7-f156-44b4-bf88-2f5a2fe7d34d\" xlink:type=\"simple\"><path d=\"M120.05,83.12 C114,97.92 104.14,118.29 91,133 C85.96,138.64 79.6,143.7 73.32,147.96 \" fill=\"none\" id=\"E2-E4\" style=\"stroke: #383838; stroke-width: 3.0;\"/><text fill=\"#000000\" font-family=\"sans-serif\" font-size=\"13\" lengthAdjust=\"spacingAndGlyphs\" textLength=\"5\" x=\"81.1444\" y=\"153.0871\">*</text></a><!--MD5=[dcad52bbbca2fe8adc741ce38b45dc12]\n",
       "link E2 to E5--><a href=\"psysml:101f62b7-6903-4d8a-a32a-7fde9ef7f62a\" target=\"_top\" title=\"psysml:101f62b7-6903-4d8a-a32a-7fde9ef7f62a\" xlink:actuate=\"onRequest\" xlink:href=\"psysml:101f62b7-6903-4d8a-a32a-7fde9ef7f62a\" xlink:show=\"new\" xlink:title=\"psysml:101f62b7-6903-4d8a-a32a-7fde9ef7f62a\" xlink:type=\"simple\"><path d=\"M122.91,83.05 C119.92,96.91 115.76,116.13 112,133 C107.45,153.46 102.1,176.86 98.42,192.86 \" fill=\"none\" id=\"E2-E5\" style=\"stroke: #383838; stroke-width: 3.0;\"/><text fill=\"#000000\" font-family=\"sans-serif\" font-size=\"13\" lengthAdjust=\"spacingAndGlyphs\" textLength=\"5\" x=\"93.984\" y=\"182.1406\">*</text></a><!--MD5=[e3e28c1befcf002155aa15e1416b4315]\n",
       "link E2 to E6--><a href=\"psysml:1fb0fb32-0d7d-4bf3-9b13-305667fb38fb\" target=\"_top\" title=\"psysml:1fb0fb32-0d7d-4bf3-9b13-305667fb38fb\" xlink:actuate=\"onRequest\" xlink:href=\"psysml:1fb0fb32-0d7d-4bf3-9b13-305667fb38fb\" xlink:show=\"new\" xlink:title=\"psysml:1fb0fb32-0d7d-4bf3-9b13-305667fb38fb\" xlink:type=\"simple\"><path d=\"M152.35,78.66 C161.89,84.18 172.77,90.47 182.49,96.09 \" fill=\"none\" id=\"E2-E6\" style=\"stroke: #383838; stroke-width: 3.0;\"/><text fill=\"#000000\" font-family=\"sans-serif\" font-size=\"13\" lengthAdjust=\"spacingAndGlyphs\" textLength=\"5\" x=\"169.4248\" y=\"86.9378\">*</text></a><!--MD5=[427c7b32ad03ecbac966c15af66a07c2]\n",
       "@startuml\r\n",
       "skinparam ranksep 10\r\n",
       "skinparam rectangle {\r\n",
       " backgroundColor<<block>> LightGreen\r\n",
       "}\r\n",
       "skinparam monochrome true\r\n",
       "skinparam classbackgroundcolor white\r\n",
       "skinparam shadowing false\r\n",
       "skinparam wrapWidth 300\r\n",
       "hide circle\r\n",
       "\r\n",
       "rec usage \"eVehicle\" as E1  [[psysml:848b71fa-08ca-4351-a15a-663e62c0dee4 ]] {\r\n",
       "rec usage \"body\" as E2  [[psysml:34c24a71-846d-49f8-bf42-1bcccfdc95f8 ]] {\r\n",
       "}\r\n",
       "rec usage \"battery\" as E3  [[psysml:83e4a9c4-1ae5-46f9-9c8e-be3c6c050a5d ]] {\r\n",
       "}\r\n",
       "rec usage \"engine\" as E4  [[psysml:f79e34df-0fc2-426f-87b2-9ba8f88768bd ]] {\r\n",
       "}\r\n",
       "rec usage \"frontAxis\" as E5  [[psysml:55ce56c7-66de-4972-844b-44e90d57b19e ]] {\r\n",
       "}\r\n",
       "rec usage \"rearAxis\" as E6  [[psysml:c7a38f54-332d-4183-8893-146d1b957a74 ]] {\r\n",
       "}\r\n",
       "rec usage \"frontWheel: Wheel\" as E7  [[psysml:4ecae154-ea93-4112-b6bb-e4e239b7d512 ]] {\r\n",
       "}\r\n",
       "rec usage \"rearWheel: Wheel\" as E8  [[psysml:21318680-11e8-4632-b54a-cbb7dbbc57e5 ]] {\r\n",
       "}\r\n",
       "}\r\n",
       "E3 -[thickness=3]- \"*\"E4 [[psysml:3d3e31e7-3c12-4fd7-8a82-9420f62306bf ]] \r\n",
       "E4 -[thickness=3]- \"*\"E5 [[psysml:661446d9-e636-462b-b8e6-09a85b843d7d ]] \r\n",
       "E5 -[thickness=3]- \"*\"E7 [[psysml:cbe1660d-cd65-4016-89c3-9686678543c4 ]] \r\n",
       "E6 -[thickness=3]- \"*\"E8 [[psysml:55b5ce57-089c-4425-b738-29ae59a43b39 ]] \r\n",
       "E2 -[thickness=3]- \"*\"E3 [[psysml:612c7ade-0b34-4c57-9b3d-44fc385f3166 ]] \r\n",
       "E2 -[thickness=3]- \"*\"E4 [[psysml:7bd062b7-f156-44b4-bf88-2f5a2fe7d34d ]] \r\n",
       "E2 -[thickness=3]- \"*\"E5 [[psysml:101f62b7-6903-4d8a-a32a-7fde9ef7f62a ]] \r\n",
       "E2 -[thickness=3]- \"*\"E6 [[psysml:1fb0fb32-0d7d-4bf3-9b13-305667fb38fb ]] \r\n",
       "@enduml\r\n",
       "\n",
       "PlantUML version 1.2020.13(Sat Jun 13 14:26:38 CEST 2020)\n",
       "(EPL source distribution)\n",
       "Java Runtime: OpenJDK Runtime Environment\n",
       "JVM: OpenJDK 64-Bit Server VM\n",
       "Default Encoding: Cp1252\n",
       "Language: en\n",
       "Country: US\n",
       "--></g></svg>"
      ]
     },
     "execution_count": 20,
     "metadata": {},
     "output_type": "execute_result"
    }
   ],
   "source": [
    "%viz --view=interconnection eVehicle_LogicalArchitecture::eVehicle"
   ]
  },
  {
   "cell_type": "markdown",
   "metadata": {},
   "source": [
    "## Modeling interfaces<a name=\"sysmlv2modinterfaces\"></a>\n",
    "\n",
    "The interaction points are defined by ports in SysML v2, similar to SysML v1. The following extended example defines the interaction points between the engine and the battery. The connection is changed to connect the ports instead of the parts."
   ]
  },
  {
   "cell_type": "code",
   "execution_count": 21,
   "metadata": {},
   "outputs": [
    {
     "data": {
      "text/plain": [
       "Package eVehicle_LogicalArchitecture (12e58ce9-8de4-4ed0-a741-4ce580e38d18)\n"
      ]
     },
     "execution_count": 21,
     "metadata": {},
     "output_type": "execute_result"
    }
   ],
   "source": [
    "package eVehicle_LogicalArchitecture {\n",
    "       \n",
    "    part def Wheel :> ShapeItems::CircularCylinder {\n",
    "        import SI::*;\n",
    "        :>> radius := 325 [mm];\n",
    "\n",
    "        constraint pressureConstraint : WheelPressureConstraint (\n",
    "            currentPressure = currentPressure,\n",
    "            limitPressure = maxPressure);\n",
    "        attribute currentPressure : ScalarValues::Real;\n",
    "        attribute maxPressure : ScalarValues::Real;\n",
    "    }\n",
    "    \n",
    "    part def FrontWheel :> Wheel {\n",
    "        attribute redefines maxPressure = 2.0;\n",
    "    }\n",
    "    part def RearWheel :> Wheel {\n",
    "        attribute redefines maxPressure = 2.5;\n",
    "    }\n",
    "    \n",
    "    constraint def WheelPressureConstraint (\n",
    "        currentPressure : ScalarValues::Real,\n",
    "        limitPressure : ScalarValues::Real) {\n",
    "            currentPressure <= limitPressure\n",
    "    }\n",
    "\n",
    "    \n",
    "    part eVehicle {    \n",
    "        part body;\n",
    "        part battery {\n",
    "            port powerOut;\n",
    "        }\n",
    "        part engine {\n",
    "            port powerIn;\n",
    "        }\n",
    "        part frontAxis;\n",
    "        part rearAxis;\n",
    "        part frontWheel : Wheel[2];\n",
    "        part rearWheel : Wheel[2];\n",
    "        \n",
    "        connect battery.powerOut to engine.powerIn;\n",
    "        connect engine to frontAxis;\n",
    "        connect frontAxis to frontWheel;\n",
    "        connect rearAxis to rearWheel;\n",
    "        connect body to battery;\n",
    "        connect body to engine;\n",
    "        connect body to frontAxis;\n",
    "        connect body to rearAxis;\n",
    "    }\n",
    "}"
   ]
  },
  {
   "cell_type": "code",
   "execution_count": 22,
   "metadata": {},
   "outputs": [
    {
     "data": {
      "image/svg+xml": [
       "<?xml version=\"1.0\" encoding=\"UTF-8\" standalone=\"no\"?><svg xmlns=\"http://www.w3.org/2000/svg\" xmlns:xlink=\"http://www.w3.org/1999/xlink\" contentScriptType=\"application/ecmascript\" contentStyleType=\"text/css\" height=\"478px\" preserveAspectRatio=\"none\" style=\"width:346px;height:478px;\" version=\"1.1\" viewBox=\"0 0 346 478\" width=\"346px\" zoomAndPan=\"magnify\"><defs/><g><!--MD5=[fbc87193dbaf4d95561dea2c320d4a47]\n",
       "cluster E1--><a href=\"psysml:10b5b4a1-2409-41e5-b1a7-ae1b55d854de\" target=\"_top\" title=\"psysml:10b5b4a1-2409-41e5-b1a7-ae1b55d854de\" xlink:actuate=\"onRequest\" xlink:href=\"psysml:10b5b4a1-2409-41e5-b1a7-ae1b55d854de\" xlink:show=\"new\" xlink:title=\"psysml:10b5b4a1-2409-41e5-b1a7-ae1b55d854de\" xlink:type=\"simple\"><rect fill=\"#FFFFFF\" height=\"460\" id=\"E1\" rx=\"10\" ry=\"10\" style=\"stroke: #383838; stroke-width: 1.5;\" width=\"327\" x=\"7\" y=\"7\"/><rect fill=\"#F8F8F8\" height=\"25.0938\" rx=\"10\" ry=\"10\" style=\"stroke: #F8F8F8; stroke-width: 1.5;\" width=\"327\" x=\"7\" y=\"7\"/><rect fill=\"#F8F8F8\" height=\"10\" style=\"stroke: #F8F8F8; stroke-width: 1.5;\" width=\"327\" x=\"7\" y=\"22.0938\"/><rect fill=\"none\" height=\"460\" id=\"E1\" rx=\"10\" ry=\"10\" style=\"stroke: #383838; stroke-width: 1.5;\" width=\"327\" x=\"7\" y=\"7\"/><text fill=\"#000000\" font-family=\"sans-serif\" font-size=\"12\" lengthAdjust=\"spacingAndGlyphs\" textLength=\"47\" x=\"147\" y=\"24.457\">eVehicle</text><line style=\"stroke: #383838; stroke-width: 1.0;\" x1=\"7\" x2=\"334\" y1=\"32.0938\" y2=\"32.0938\"/></a><!--MD5=[d5e69f78d87373223dbae638b30a9c99]\n",
       "cluster E3--><a href=\"psysml:ccbe4600-5495-4244-8d7a-ea6a44367ca3\" target=\"_top\" title=\"psysml:ccbe4600-5495-4244-8d7a-ea6a44367ca3\" xlink:actuate=\"onRequest\" xlink:href=\"psysml:ccbe4600-5495-4244-8d7a-ea6a44367ca3\" xlink:show=\"new\" xlink:title=\"psysml:ccbe4600-5495-4244-8d7a-ea6a44367ca3\" xlink:type=\"simple\"><rect fill=\"#FFFFFF\" height=\"120\" id=\"E3\" rx=\"10\" ry=\"10\" style=\"stroke: #383838; stroke-width: 1.5;\" width=\"87\" x=\"213\" y=\"99\"/><rect fill=\"#F8F8F8\" height=\"25.0938\" rx=\"10\" ry=\"10\" style=\"stroke: #F8F8F8; stroke-width: 1.5;\" width=\"87\" x=\"213\" y=\"99\"/><rect fill=\"#F8F8F8\" height=\"10\" style=\"stroke: #F8F8F8; stroke-width: 1.5;\" width=\"87\" x=\"213\" y=\"114.0938\"/><rect fill=\"none\" height=\"120\" id=\"E3\" rx=\"10\" ry=\"10\" style=\"stroke: #383838; stroke-width: 1.5;\" width=\"87\" x=\"213\" y=\"99\"/><text fill=\"#000000\" font-family=\"sans-serif\" font-size=\"12\" lengthAdjust=\"spacingAndGlyphs\" textLength=\"36\" x=\"238.5\" y=\"116.457\">battery</text><line style=\"stroke: #383838; stroke-width: 1.0;\" x1=\"213\" x2=\"300\" y1=\"124.0938\" y2=\"124.0938\"/></a><!--MD5=[de5ec2e2e8f62f467e546659f5068c88]\n",
       "cluster E5--><a href=\"psysml:fe5be97f-5dcf-42fd-9c1a-e62d882bd97c\" target=\"_top\" title=\"psysml:fe5be97f-5dcf-42fd-9c1a-e62d882bd97c\" xlink:actuate=\"onRequest\" xlink:href=\"psysml:fe5be97f-5dcf-42fd-9c1a-e62d882bd97c\" xlink:show=\"new\" xlink:title=\"psysml:fe5be97f-5dcf-42fd-9c1a-e62d882bd97c\" xlink:type=\"simple\"><rect fill=\"#FFFFFF\" height=\"74\" id=\"E5\" rx=\"10\" ry=\"10\" style=\"stroke: #383838; stroke-width: 1.5;\" width=\"114\" x=\"174\" y=\"271\"/><rect fill=\"#F8F8F8\" height=\"25.0938\" rx=\"10\" ry=\"10\" style=\"stroke: #F8F8F8; stroke-width: 1.5;\" width=\"114\" x=\"174\" y=\"271\"/><rect fill=\"#F8F8F8\" height=\"10\" style=\"stroke: #F8F8F8; stroke-width: 1.5;\" width=\"114\" x=\"174\" y=\"286.0938\"/><rect fill=\"none\" height=\"74\" id=\"E5\" rx=\"10\" ry=\"10\" style=\"stroke: #383838; stroke-width: 1.5;\" width=\"114\" x=\"174\" y=\"271\"/><text fill=\"#000000\" font-family=\"sans-serif\" font-size=\"12\" lengthAdjust=\"spacingAndGlyphs\" textLength=\"38\" x=\"212\" y=\"288.457\">engine</text><line style=\"stroke: #383838; stroke-width: 1.0;\" x1=\"174\" x2=\"288\" y1=\"296.0938\" y2=\"296.0938\"/></a><g id=\"E1.E2\"><a href=\"psysml:485a67ab-8865-43d6-8cbb-e1eebaf1afbb\" target=\"_top\" title=\"psysml:485a67ab-8865-43d6-8cbb-e1eebaf1afbb\" xlink:actuate=\"onRequest\" xlink:href=\"psysml:485a67ab-8865-43d6-8cbb-e1eebaf1afbb\" xlink:show=\"new\" xlink:title=\"psysml:485a67ab-8865-43d6-8cbb-e1eebaf1afbb\" xlink:type=\"simple\"><rect fill=\"#FFFFFF\" height=\"40\" id=\"E2\" rx=\"10\" ry=\"10\" style=\"stroke: #383838; stroke-width: 1.5;\" width=\"50\" x=\"160\" y=\"43\"/><rect fill=\"#F8F8F8\" height=\"25.0938\" rx=\"10\" ry=\"10\" style=\"stroke: #F8F8F8; stroke-width: 1.5;\" width=\"50\" x=\"160\" y=\"43\"/><rect fill=\"#F8F8F8\" height=\"10\" style=\"stroke: #F8F8F8; stroke-width: 1.5;\" width=\"50\" x=\"160\" y=\"58.0938\"/><rect fill=\"none\" height=\"40\" id=\"E2\" rx=\"10\" ry=\"10\" style=\"stroke: #383838; stroke-width: 1.5;\" width=\"50\" x=\"160\" y=\"43\"/><text fill=\"#000000\" font-family=\"sans-serif\" font-size=\"12\" lengthAdjust=\"spacingAndGlyphs\" textLength=\"26\" x=\"172\" y=\"60.457\">body</text></a></g><text fill=\"#000000\" font-family=\"sans-serif\" font-size=\"14\" lengthAdjust=\"spacingAndGlyphs\" textLength=\"61\" x=\"198.5\" y=\"239.5332\">powerOut</text><rect fill=\"#383838\" height=\"12\" style=\"stroke: #F8F8F8; stroke-width: 1.5;\" width=\"12\" x=\"225\" y=\"213\"/><text fill=\"#000000\" font-family=\"sans-serif\" font-size=\"14\" lengthAdjust=\"spacingAndGlyphs\" textLength=\"49\" x=\"204.5\" y=\"249.9238\">powerIn</text><rect fill=\"#383838\" height=\"12\" style=\"stroke: #F8F8F8; stroke-width: 1.5;\" width=\"12\" x=\"225\" y=\"265\"/><g id=\"E1.E7\"><a href=\"psysml:f9d5fad8-7d27-48be-942e-026dc34cfe31\" target=\"_top\" title=\"psysml:f9d5fad8-7d27-48be-942e-026dc34cfe31\" xlink:actuate=\"onRequest\" xlink:href=\"psysml:f9d5fad8-7d27-48be-942e-026dc34cfe31\" xlink:show=\"new\" xlink:title=\"psysml:f9d5fad8-7d27-48be-942e-026dc34cfe31\" xlink:type=\"simple\"><rect fill=\"#FFFFFF\" height=\"40\" id=\"E7\" rx=\"10\" ry=\"10\" style=\"stroke: #383838; stroke-width: 1.5;\" width=\"57\" x=\"115.5\" y=\"361\"/><rect fill=\"#F8F8F8\" height=\"25.0938\" rx=\"10\" ry=\"10\" style=\"stroke: #F8F8F8; stroke-width: 1.5;\" width=\"57\" x=\"115.5\" y=\"361\"/><rect fill=\"#F8F8F8\" height=\"10\" style=\"stroke: #F8F8F8; stroke-width: 1.5;\" width=\"57\" x=\"115.5\" y=\"376.0938\"/><rect fill=\"none\" height=\"40\" id=\"E7\" rx=\"10\" ry=\"10\" style=\"stroke: #383838; stroke-width: 1.5;\" width=\"57\" x=\"115.5\" y=\"361\"/><text fill=\"#000000\" font-family=\"sans-serif\" font-size=\"12\" lengthAdjust=\"spacingAndGlyphs\" textLength=\"46\" x=\"121\" y=\"378.457\">frontAxis</text></a></g><g id=\"E1.E8\"><a href=\"psysml:4f5d0674-eb9f-4b42-a14b-f5399f2df907\" target=\"_top\" title=\"psysml:4f5d0674-eb9f-4b42-a14b-f5399f2df907\" xlink:actuate=\"onRequest\" xlink:href=\"psysml:4f5d0674-eb9f-4b42-a14b-f5399f2df907\" xlink:show=\"new\" xlink:title=\"psysml:4f5d0674-eb9f-4b42-a14b-f5399f2df907\" xlink:type=\"simple\"><rect fill=\"#FFFFFF\" height=\"40\" id=\"E8\" rx=\"10\" ry=\"10\" style=\"stroke: #383838; stroke-width: 1.5;\" width=\"55\" x=\"100.5\" y=\"113\"/><rect fill=\"#F8F8F8\" height=\"25.0938\" rx=\"10\" ry=\"10\" style=\"stroke: #F8F8F8; stroke-width: 1.5;\" width=\"55\" x=\"100.5\" y=\"113\"/><rect fill=\"#F8F8F8\" height=\"10\" style=\"stroke: #F8F8F8; stroke-width: 1.5;\" width=\"55\" x=\"100.5\" y=\"128.0938\"/><rect fill=\"none\" height=\"40\" id=\"E8\" rx=\"10\" ry=\"10\" style=\"stroke: #383838; stroke-width: 1.5;\" width=\"55\" x=\"100.5\" y=\"113\"/><text fill=\"#000000\" font-family=\"sans-serif\" font-size=\"12\" lengthAdjust=\"spacingAndGlyphs\" textLength=\"44\" x=\"106\" y=\"130.457\">rearAxis</text></a></g><g id=\"E1.E9\"><a href=\"psysml:80f2962f-e347-46ba-a726-378f995fd059\" target=\"_top\" title=\"psysml:80f2962f-e347-46ba-a726-378f995fd059\" xlink:actuate=\"onRequest\" xlink:href=\"psysml:80f2962f-e347-46ba-a726-378f995fd059\" xlink:show=\"new\" xlink:title=\"psysml:80f2962f-e347-46ba-a726-378f995fd059\" xlink:type=\"simple\"><rect fill=\"#FFFFFF\" height=\"40\" id=\"E9\" rx=\"10\" ry=\"10\" style=\"stroke: #383838; stroke-width: 1.5;\" width=\"111\" x=\"88.5\" y=\"411\"/><rect fill=\"#F8F8F8\" height=\"25.0938\" rx=\"10\" ry=\"10\" style=\"stroke: #F8F8F8; stroke-width: 1.5;\" width=\"111\" x=\"88.5\" y=\"411\"/><rect fill=\"#F8F8F8\" height=\"10\" style=\"stroke: #F8F8F8; stroke-width: 1.5;\" width=\"111\" x=\"88.5\" y=\"426.0938\"/><rect fill=\"none\" height=\"40\" id=\"E9\" rx=\"10\" ry=\"10\" style=\"stroke: #383838; stroke-width: 1.5;\" width=\"111\" x=\"88.5\" y=\"411\"/><text fill=\"#000000\" font-family=\"sans-serif\" font-size=\"12\" lengthAdjust=\"spacingAndGlyphs\" textLength=\"100\" x=\"94\" y=\"428.457\">frontWheel: Wheel</text></a></g><g id=\"E1.E10\"><a href=\"psysml:b204e2d8-969f-4aae-b852-acfaf4182d67\" target=\"_top\" title=\"psysml:b204e2d8-969f-4aae-b852-acfaf4182d67\" xlink:actuate=\"onRequest\" xlink:href=\"psysml:b204e2d8-969f-4aae-b852-acfaf4182d67\" xlink:show=\"new\" xlink:title=\"psysml:b204e2d8-969f-4aae-b852-acfaf4182d67\" xlink:type=\"simple\"><rect fill=\"#FFFFFF\" height=\"40\" id=\"E10\" rx=\"10\" ry=\"10\" style=\"stroke: #383838; stroke-width: 1.5;\" width=\"109\" x=\"60.5\" y=\"163\"/><rect fill=\"#F8F8F8\" height=\"25.0938\" rx=\"10\" ry=\"10\" style=\"stroke: #F8F8F8; stroke-width: 1.5;\" width=\"109\" x=\"60.5\" y=\"163\"/><rect fill=\"#F8F8F8\" height=\"10\" style=\"stroke: #F8F8F8; stroke-width: 1.5;\" width=\"109\" x=\"60.5\" y=\"178.0938\"/><rect fill=\"none\" height=\"40\" id=\"E10\" rx=\"10\" ry=\"10\" style=\"stroke: #383838; stroke-width: 1.5;\" width=\"109\" x=\"60.5\" y=\"163\"/><text fill=\"#000000\" font-family=\"sans-serif\" font-size=\"12\" lengthAdjust=\"spacingAndGlyphs\" textLength=\"98\" x=\"66\" y=\"180.457\">rearWheel: Wheel</text></a></g><!--MD5=[79568f1e445c3877b6a54524624ccc7d]\n",
       "link E4 to E6--><a href=\"psysml:39886e17-69a7-41b7-b8d9-f6d39af87f84\" target=\"_top\" title=\"psysml:39886e17-69a7-41b7-b8d9-f6d39af87f84\" xlink:actuate=\"onRequest\" xlink:href=\"psysml:39886e17-69a7-41b7-b8d9-f6d39af87f84\" xlink:show=\"new\" xlink:title=\"psysml:39886e17-69a7-41b7-b8d9-f6d39af87f84\" xlink:type=\"simple\"><path d=\"M231,225.35 C231,235.02 231,255.3 231,264.84 \" fill=\"none\" id=\"E4-E6\" style=\"stroke: #383838; stroke-width: 3.0;\"/><text fill=\"#000000\" font-family=\"sans-serif\" font-size=\"13\" lengthAdjust=\"spacingAndGlyphs\" textLength=\"5\" x=\"224.5313\" y=\"254.1194\">*</text></a><!--MD5=[3a9b96bfbf6b6ad89c494e81751bda47]\n",
       "link E5 to E7--><a href=\"psysml:e95edf75-2be5-43d1-9216-ee7aa62e8b18\" target=\"_top\" title=\"psysml:e95edf75-2be5-43d1-9216-ee7aa62e8b18\" xlink:actuate=\"onRequest\" xlink:href=\"psysml:e95edf75-2be5-43d1-9216-ee7aa62e8b18\" xlink:show=\"new\" xlink:title=\"psysml:e95edf75-2be5-43d1-9216-ee7aa62e8b18\" xlink:type=\"simple\"><path d=\"M203.9743,345.0385 C203.8865,345.1245 203.7986,345.2103 203.7106,345.2959 C200.895,348.0375 197.9725,350.6525 195,353 C188.24,358.34 180.27,363.14 172.66,367.16 \" fill=\"none\" id=\"E5-E7\" style=\"stroke: #383838; stroke-width: 3.0;\"/><text fill=\"#000000\" font-family=\"sans-serif\" font-size=\"13\" lengthAdjust=\"spacingAndGlyphs\" textLength=\"5\" x=\"180.6448\" y=\"359.1037\">*</text></a><!--MD5=[1c0b9414cc86e0744215edee6abd8926]\n",
       "link E7 to E9--><a href=\"psysml:4a90dd9e-83b0-4552-85c3-1f641aaacf59\" target=\"_top\" title=\"psysml:4a90dd9e-83b0-4552-85c3-1f641aaacf59\" xlink:actuate=\"onRequest\" xlink:href=\"psysml:4a90dd9e-83b0-4552-85c3-1f641aaacf59\" xlink:show=\"new\" xlink:title=\"psysml:4a90dd9e-83b0-4552-85c3-1f641aaacf59\" xlink:type=\"simple\"><path d=\"M144,401.25 C144,404.38 144,407.62 144,410.75 \" fill=\"none\" id=\"E7-E9\" style=\"stroke: #383838; stroke-width: 3.0;\"/><text fill=\"#000000\" font-family=\"sans-serif\" font-size=\"13\" lengthAdjust=\"spacingAndGlyphs\" textLength=\"5\" x=\"130.9586\" y=\"400.0208\">*</text></a><!--MD5=[de116e21047ded6283635ff91c92fb70]\n",
       "link E8 to E10--><a href=\"psysml:4a66e1c1-dbbd-45f1-a037-c25d513172e8\" target=\"_top\" title=\"psysml:4a66e1c1-dbbd-45f1-a037-c25d513172e8\" xlink:actuate=\"onRequest\" xlink:href=\"psysml:4a66e1c1-dbbd-45f1-a037-c25d513172e8\" xlink:show=\"new\" xlink:title=\"psysml:4a66e1c1-dbbd-45f1-a037-c25d513172e8\" xlink:type=\"simple\"><path d=\"M122.79,153.25 C121.94,156.38 121.06,159.62 120.21,162.75 \" fill=\"none\" id=\"E8-E10\" style=\"stroke: #383838; stroke-width: 3.0;\"/><text fill=\"#000000\" font-family=\"sans-serif\" font-size=\"13\" lengthAdjust=\"spacingAndGlyphs\" textLength=\"5\" x=\"102.5866\" y=\"152.0208\">*</text></a><!--MD5=[2720a5a1f2c3fca2055b230370638851]\n",
       "link E2 to E3--><a href=\"psysml:b2213258-9c4a-4d9a-8ce6-0dbb499b05ee\" target=\"_top\" title=\"psysml:b2213258-9c4a-4d9a-8ce6-0dbb499b05ee\" xlink:actuate=\"onRequest\" xlink:href=\"psysml:b2213258-9c4a-4d9a-8ce6-0dbb499b05ee\" xlink:show=\"new\" xlink:title=\"psysml:b2213258-9c4a-4d9a-8ce6-0dbb499b05ee\" xlink:type=\"simple\"><path d=\"M201.47,83.3 C204.215,86.52 207.1462,89.9581 210.1336,93.4617 C211.6273,95.2135 213.135,96.9817 214.6404,98.7471 C214.6875,98.8023 214.7345,98.8575 214.7815,98.9126 \" fill=\"none\" id=\"E2-E3\" style=\"stroke: #383838; stroke-width: 3.0;\"/><text fill=\"#000000\" font-family=\"sans-serif\" font-size=\"13\" lengthAdjust=\"spacingAndGlyphs\" textLength=\"5\" x=\"230.02\" y=\"120.1351\">*</text></a><!--MD5=[dcad52bbbca2fe8adc741ce38b45dc12]\n",
       "link E2 to E5--><a href=\"psysml:e560d5d5-358f-4810-b37b-a9c007008ee3\" target=\"_top\" title=\"psysml:e560d5d5-358f-4810-b37b-a9c007008ee3\" xlink:actuate=\"onRequest\" xlink:href=\"psysml:e560d5d5-358f-4810-b37b-a9c007008ee3\" xlink:show=\"new\" xlink:title=\"psysml:e560d5d5-358f-4810-b37b-a9c007008ee3\" xlink:type=\"simple\"><path d=\"M210.07,63.51 C234.23,64.43 270.24,69.69 292,91 C321.97,120.35 317,140.06 317,182 C317,182 317,182 317,220 C317,247 313.94,256.83 296,277 C293.5825,279.7175 290.8881,282.2413 288.0095,284.5803 \" fill=\"none\" id=\"E2-E5\" style=\"stroke: #383838; stroke-width: 3.0;\"/><text fill=\"#000000\" font-family=\"sans-serif\" font-size=\"13\" lengthAdjust=\"spacingAndGlyphs\" textLength=\"5\" x=\"254.63\" y=\"298.3851\">*</text></a><!--MD5=[e3d2a08a9c9236652057e8ed0cbc9b62]\n",
       "link E2 to E7--><a href=\"psysml:de168800-252c-4159-b46e-e13c0b05e015\" target=\"_top\" title=\"psysml:de168800-252c-4159-b46e-e13c0b05e015\" xlink:actuate=\"onRequest\" xlink:href=\"psysml:de168800-252c-4159-b46e-e13c0b05e015\" xlink:show=\"new\" xlink:title=\"psysml:de168800-252c-4159-b46e-e13c0b05e015\" xlink:type=\"simple\"><path d=\"M159.77,65.61 C137.69,68.12 105.69,74.55 83,91 C43.97,119.29 24,133.8 24,182 C24,182 24,182 24,272 C24,320.91 79.76,353.32 115.26,369 \" fill=\"none\" id=\"E2-E7\" style=\"stroke: #383838; stroke-width: 3.0;\"/><text fill=\"#000000\" font-family=\"sans-serif\" font-size=\"13\" lengthAdjust=\"spacingAndGlyphs\" textLength=\"5\" x=\"102.6453\" y=\"361.663\">*</text></a><!--MD5=[b0060bfdb0500b904584095522b4da3c]\n",
       "link E2 to E8--><a href=\"psysml:33b56b3f-852c-424a-8aed-a39a23a1d90e\" target=\"_top\" title=\"psysml:33b56b3f-852c-424a-8aed-a39a23a1d90e\" xlink:actuate=\"onRequest\" xlink:href=\"psysml:33b56b3f-852c-424a-8aed-a39a23a1d90e\" xlink:show=\"new\" xlink:title=\"psysml:33b56b3f-852c-424a-8aed-a39a23a1d90e\" xlink:type=\"simple\"><path d=\"M168.82,83.3 C161.05,92.57 151.77,103.64 144.02,112.88 \" fill=\"none\" id=\"E2-E8\" style=\"stroke: #383838; stroke-width: 3.0;\"/><text fill=\"#000000\" font-family=\"sans-serif\" font-size=\"13\" lengthAdjust=\"spacingAndGlyphs\" textLength=\"5\" x=\"142.9915\" y=\"102.1665\">*</text></a><!--MD5=[6888269d6778427a30bf2c47dfe28aaa]\n",
       "@startuml\r\n",
       "skinparam ranksep 10\r\n",
       "skinparam rectangle {\r\n",
       " backgroundColor<<block>> LightGreen\r\n",
       "}\r\n",
       "skinparam monochrome true\r\n",
       "skinparam classbackgroundcolor white\r\n",
       "skinparam shadowing false\r\n",
       "skinparam wrapWidth 300\r\n",
       "hide circle\r\n",
       "\r\n",
       "rec usage \"eVehicle\" as E1  [[psysml:10b5b4a1-2409-41e5-b1a7-ae1b55d854de ]] {\r\n",
       "rec usage \"body\" as E2  [[psysml:485a67ab-8865-43d6-8cbb-e1eebaf1afbb ]] {\r\n",
       "}\r\n",
       "rec usage \"battery\" as E3  [[psysml:ccbe4600-5495-4244-8d7a-ea6a44367ca3 ]] {\r\n",
       "portout \"powerOut \" as E4  <<(T,blue) port>> [[psysml:b15729ef-1996-48e6-b3df-c0c4012a81a8 ]] \r\n",
       "}\r\n",
       "rec usage \"engine\" as E5  [[psysml:fe5be97f-5dcf-42fd-9c1a-e62d882bd97c ]] {\r\n",
       "portin \"powerIn \" as E6  <<(T,blue) port>> [[psysml:a5c50b5f-a102-4b96-9b6a-946a48cb4cbd ]] \r\n",
       "}\r\n",
       "rec usage \"frontAxis\" as E7  [[psysml:f9d5fad8-7d27-48be-942e-026dc34cfe31 ]] {\r\n",
       "}\r\n",
       "rec usage \"rearAxis\" as E8  [[psysml:4f5d0674-eb9f-4b42-a14b-f5399f2df907 ]] {\r\n",
       "}\r\n",
       "rec usage \"frontWheel: Wheel\" as E9  [[psysml:80f2962f-e347-46ba-a726-378f995fd059 ]] {\r\n",
       "}\r\n",
       "rec usage \"rearWheel: Wheel\" as E10  [[psysml:b204e2d8-969f-4aae-b852-acfaf4182d67 ]] {\r\n",
       "}\r\n",
       "}\r\n",
       "E4 -[thickness=3]- \"*\"E6 [[psysml:39886e17-69a7-41b7-b8d9-f6d39af87f84 ]] \r\n",
       "E5 -[thickness=3]- \"*\"E7 [[psysml:e95edf75-2be5-43d1-9216-ee7aa62e8b18 ]] \r\n",
       "E7 -[thickness=3]- \"*\"E9 [[psysml:4a90dd9e-83b0-4552-85c3-1f641aaacf59 ]] \r\n",
       "E8 -[thickness=3]- \"*\"E10 [[psysml:4a66e1c1-dbbd-45f1-a037-c25d513172e8 ]] \r\n",
       "E2 -[thickness=3]- \"*\"E3 [[psysml:b2213258-9c4a-4d9a-8ce6-0dbb499b05ee ]] \r\n",
       "E2 -[thickness=3]- \"*\"E5 [[psysml:e560d5d5-358f-4810-b37b-a9c007008ee3 ]] \r\n",
       "E2 -[thickness=3]- \"*\"E7 [[psysml:de168800-252c-4159-b46e-e13c0b05e015 ]] \r\n",
       "E2 -[thickness=3]- \"*\"E8 [[psysml:33b56b3f-852c-424a-8aed-a39a23a1d90e ]] \r\n",
       "@enduml\r\n",
       "\n",
       "PlantUML version 1.2020.13(Sat Jun 13 14:26:38 CEST 2020)\n",
       "(EPL source distribution)\n",
       "Java Runtime: OpenJDK Runtime Environment\n",
       "JVM: OpenJDK 64-Bit Server VM\n",
       "Default Encoding: Cp1252\n",
       "Language: en\n",
       "Country: US\n",
       "--></g></svg>"
      ]
     },
     "execution_count": 22,
     "metadata": {},
     "output_type": "execute_result"
    }
   ],
   "source": [
    "%viz --view=interconnection eVehicle_LogicalArchitecture::eVehicle"
   ]
  },
  {
   "cell_type": "markdown",
   "metadata": {},
   "source": [
    "The ports *powerIn* and *powerOut* have no types respectively the SysML v2 library element *Port* as default type. The consistent usage/definition pattern applies here as well. The port is a usage. With a PortDef the interaction point can be defined. In this example it is a good candidate for a model library.\n",
    "\n",
    "The port only specifies the interaction point. The interface defines the connection between interaction points. The *PowerOutPort* is conjugated for the *consumerPort* port."
   ]
  },
  {
   "cell_type": "code",
   "execution_count": 57,
   "metadata": {},
   "outputs": [
    {
     "data": {
      "text/plain": [
       "Package eVehicleLibrary (36f95791-6a30-46e7-b4a4-cb109186bccd)\n"
      ]
     },
     "execution_count": 57,
     "metadata": {},
     "output_type": "execute_result"
    }
   ],
   "source": [
    "package eVehicleLibrary {\n",
    "    \n",
    "    import ScalarValues::Integer;\n",
    "    \n",
    "    item def ElectricEnergy;\n",
    "    attribute def BatteryCapacity :> ScalarValues::Integer;\n",
    "    attribute def Speed :> ScalarValues::Integer;\n",
    "    \n",
    "    port def PowerOutPort {\n",
    "        out energy : ElectricEnergy;\n",
    "    }\n",
    "    \n",
    "    interface def PowerInterface {\n",
    "        end supplierPort : PowerOutPort;\n",
    "        end consumerPort : ~PowerOutPort;\n",
    "    }\n",
    "}"
   ]
  },
  {
   "cell_type": "code",
   "execution_count": 24,
   "metadata": {},
   "outputs": [
    {
     "data": {
      "image/svg+xml": [
       "<?xml version=\"1.0\" encoding=\"UTF-8\" standalone=\"no\"?><svg xmlns=\"http://www.w3.org/2000/svg\" xmlns:xlink=\"http://www.w3.org/1999/xlink\" contentScriptType=\"application/ecmascript\" contentStyleType=\"text/css\" height=\"462px\" preserveAspectRatio=\"none\" style=\"width:439px;height:462px;\" version=\"1.1\" viewBox=\"0 0 439 462\" width=\"439px\" zoomAndPan=\"magnify\"><defs/><g><!--MD5=[fbc87193dbaf4d95561dea2c320d4a47]\n",
       "cluster E1--><a href=\"psysml:d398d920-0924-4995-b3c2-4c5b4a5c69fe\" target=\"_top\" title=\"psysml:d398d920-0924-4995-b3c2-4c5b4a5c69fe\" xlink:actuate=\"onRequest\" xlink:href=\"psysml:d398d920-0924-4995-b3c2-4c5b4a5c69fe\" xlink:show=\"new\" xlink:title=\"psysml:d398d920-0924-4995-b3c2-4c5b4a5c69fe\" xlink:type=\"simple\"><polygon fill=\"#FFFFFF\" points=\"16,6,131,6,138,29.6094,417,29.6094,417,450,16,450,16,6\" style=\"stroke: #000000; stroke-width: 1.5;\"/><line style=\"stroke: #000000; stroke-width: 1.5;\" x1=\"16\" x2=\"138\" y1=\"29.6094\" y2=\"29.6094\"/><text fill=\"#000000\" font-family=\"sans-serif\" font-size=\"14\" font-weight=\"bold\" lengthAdjust=\"spacingAndGlyphs\" textLength=\"109\" x=\"20\" y=\"22.5332\">eVehicleLibrary</text></a><!--MD5=[b4997ac47864f28c2f74865a473b2911]\n",
       "class E2--><a href=\"psysml:918d34c3-17f3-4778-8feb-17d26145a10d\" target=\"_top\" title=\"psysml:918d34c3-17f3-4778-8feb-17d26145a10d\" xlink:actuate=\"onRequest\" xlink:href=\"psysml:918d34c3-17f3-4778-8feb-17d26145a10d\" xlink:show=\"new\" xlink:title=\"psysml:918d34c3-17f3-4778-8feb-17d26145a10d\" xlink:type=\"simple\"><rect fill=\"#FFFFFF\" height=\"48.1875\" id=\"E2\" style=\"stroke: #383838; stroke-width: 1.5;\" width=\"84\" x=\"69\" y=\"386\"/><text fill=\"#000000\" font-family=\"sans-serif\" font-size=\"12\" font-style=\"italic\" lengthAdjust=\"spacingAndGlyphs\" textLength=\"61\" x=\"80.5\" y=\"403.457\">«item  def»</text><text fill=\"#000000\" font-family=\"sans-serif\" font-size=\"12\" lengthAdjust=\"spacingAndGlyphs\" textLength=\"78\" x=\"72\" y=\"418.5508\">ElectricEnergy</text><line style=\"stroke: #383838; stroke-width: 1.5;\" x1=\"70\" x2=\"152\" y1=\"426.1875\" y2=\"426.1875\"/></a><!--MD5=[09b614a08d8cba4a07c9adeb5e0fee81]\n",
       "class E3--><a href=\"psysml:88bb816f-d099-41ac-b83b-284eccb188c7\" target=\"_top\" title=\"psysml:88bb816f-d099-41ac-b83b-284eccb188c7\" xlink:actuate=\"onRequest\" xlink:href=\"psysml:88bb816f-d099-41ac-b83b-284eccb188c7\" xlink:show=\"new\" xlink:title=\"psysml:88bb816f-d099-41ac-b83b-284eccb188c7\" xlink:type=\"simple\"><rect fill=\"#FFFFFF\" height=\"48.1875\" id=\"E3\" style=\"stroke: #383838; stroke-width: 1.5;\" width=\"90\" x=\"279\" y=\"42\"/><text fill=\"#000000\" font-family=\"sans-serif\" font-size=\"12\" font-style=\"italic\" lengthAdjust=\"spacingAndGlyphs\" textLength=\"82\" x=\"283\" y=\"59.457\">«attribute  def»</text><text fill=\"#000000\" font-family=\"sans-serif\" font-size=\"12\" lengthAdjust=\"spacingAndGlyphs\" textLength=\"84\" x=\"282\" y=\"74.5508\">BatteryCapacity</text><line style=\"stroke: #383838; stroke-width: 1.5;\" x1=\"280\" x2=\"368\" y1=\"82.1875\" y2=\"82.1875\"/></a><!--MD5=[ebbe1d658d1005bcc118a6aa81145e00]\n",
       "class E4--><a href=\"psysml:b695563c-69e8-4fad-b175-6d1a8f01d5fa\" target=\"_top\" title=\"psysml:b695563c-69e8-4fad-b175-6d1a8f01d5fa\" xlink:actuate=\"onRequest\" xlink:href=\"psysml:b695563c-69e8-4fad-b175-6d1a8f01d5fa\" xlink:show=\"new\" xlink:title=\"psysml:b695563c-69e8-4fad-b175-6d1a8f01d5fa\" xlink:type=\"simple\"><rect fill=\"#FFFFFF\" height=\"48.1875\" id=\"E4\" style=\"stroke: #383838; stroke-width: 1.5;\" width=\"82\" x=\"70\" y=\"260\"/><text fill=\"#000000\" font-family=\"sans-serif\" font-size=\"12\" font-style=\"italic\" lengthAdjust=\"spacingAndGlyphs\" textLength=\"58\" x=\"82\" y=\"277.457\">«port  def»</text><text fill=\"#000000\" font-family=\"sans-serif\" font-size=\"12\" lengthAdjust=\"spacingAndGlyphs\" textLength=\"76\" x=\"73\" y=\"292.5508\">PowerOutPort</text><line style=\"stroke: #383838; stroke-width: 1.5;\" x1=\"71\" x2=\"151\" y1=\"300.1875\" y2=\"300.1875\"/></a><!--MD5=[270fce915f116d4de14055a7c1d9a0f3]\n",
       "class E5--><a href=\"psysml:4bd433e4-17c8-498d-b720-586125b308ab\" target=\"_top\" title=\"psysml:4bd433e4-17c8-498d-b720-586125b308ab\" xlink:actuate=\"onRequest\" xlink:href=\"psysml:4bd433e4-17c8-498d-b720-586125b308ab\" xlink:show=\"new\" xlink:title=\"psysml:4bd433e4-17c8-498d-b720-586125b308ab\" xlink:type=\"simple\"><rect fill=\"#FFFFFF\" height=\"48.1875\" id=\"E5\" style=\"stroke: #383838; stroke-width: 1.5;\" width=\"88\" x=\"99\" y=\"42\"/><text fill=\"#000000\" font-family=\"sans-serif\" font-size=\"12\" font-style=\"italic\" lengthAdjust=\"spacingAndGlyphs\" textLength=\"84\" x=\"101\" y=\"59.457\">«interface  def»</text><text fill=\"#000000\" font-family=\"sans-serif\" font-size=\"12\" lengthAdjust=\"spacingAndGlyphs\" textLength=\"82\" x=\"102\" y=\"74.5508\">PowerInterface</text><line style=\"stroke: #383838; stroke-width: 1.5;\" x1=\"100\" x2=\"186\" y1=\"82.1875\" y2=\"82.1875\"/></a><!--MD5=[60a26617385b1d2d0262a64233df1f8d]\n",
       "class E6--><a href=\"psysml:87684c66-d67b-4fda-9d42-a20d18f4589e\" target=\"_top\" title=\"psysml:87684c66-d67b-4fda-9d42-a20d18f4589e\" xlink:actuate=\"onRequest\" xlink:href=\"psysml:87684c66-d67b-4fda-9d42-a20d18f4589e\" xlink:show=\"new\" xlink:title=\"psysml:87684c66-d67b-4fda-9d42-a20d18f4589e\" xlink:type=\"simple\"><rect fill=\"#FFFFFF\" height=\"48.1875\" id=\"E6\" rx=\"10\" ry=\"10\" style=\"stroke: #383838; stroke-width: 1.5;\" width=\"158\" x=\"32\" y=\"151\"/><text fill=\"#000000\" font-family=\"sans-serif\" font-size=\"12\" font-style=\"italic\" lengthAdjust=\"spacingAndGlyphs\" textLength=\"35\" x=\"93.5\" y=\"168.457\">«port»</text><text fill=\"#000000\" font-family=\"sans-serif\" font-size=\"12\" lengthAdjust=\"spacingAndGlyphs\" textLength=\"149\" x=\"35\" y=\"183.5508\">supplierPort: PowerOutPort</text><line style=\"stroke: #383838; stroke-width: 1.5;\" x1=\"33\" x2=\"189\" y1=\"191.1875\" y2=\"191.1875\"/></a><!--MD5=[2156ba9850f5573cc1fc38a6a4b2f02b]\n",
       "class E7--><a href=\"psysml:630a4a04-69ae-4331-b501-f32c6acd8373\" target=\"_top\" title=\"psysml:630a4a04-69ae-4331-b501-f32c6acd8373\" xlink:actuate=\"onRequest\" xlink:href=\"psysml:630a4a04-69ae-4331-b501-f32c6acd8373\" xlink:show=\"new\" xlink:title=\"psysml:630a4a04-69ae-4331-b501-f32c6acd8373\" xlink:type=\"simple\"><rect fill=\"#FFFFFF\" height=\"48.1875\" id=\"E7\" rx=\"10\" ry=\"10\" style=\"stroke: #383838; stroke-width: 1.5;\" width=\"176\" x=\"225\" y=\"151\"/><text fill=\"#000000\" font-family=\"sans-serif\" font-size=\"12\" font-style=\"italic\" lengthAdjust=\"spacingAndGlyphs\" textLength=\"35\" x=\"295.5\" y=\"168.457\">«port»</text><text fill=\"#000000\" font-family=\"sans-serif\" font-size=\"12\" lengthAdjust=\"spacingAndGlyphs\" textLength=\"167\" x=\"228\" y=\"183.5508\">consumerPort: ~PowerOutPort</text><line style=\"stroke: #383838; stroke-width: 1.5;\" x1=\"226\" x2=\"400\" y1=\"191.1875\" y2=\"191.1875\"/></a><!--MD5=[ddeed8deb2209213b62e6cfabaa108b2]\n",
       "reverse link E4 to E2--><a href=\"psysml:689dc358-42ce-4810-88b0-8dcbe2c4f9bf\" target=\"_top\" title=\"psysml:689dc358-42ce-4810-88b0-8dcbe2c4f9bf\" xlink:actuate=\"onRequest\" xlink:href=\"psysml:689dc358-42ce-4810-88b0-8dcbe2c4f9bf\" xlink:show=\"new\" xlink:title=\"psysml:689dc358-42ce-4810-88b0-8dcbe2c4f9bf\" xlink:type=\"simple\"><path d=\"M111,321.21 C111,342.01 111,367.52 111,385.67 \" fill=\"none\" id=\"E4&lt;-E2\" style=\"stroke: #383838; stroke-width: 1.0;\"/><polygon fill=\"#FFFFFF\" points=\"111,308.03,107,314.03,111,320.03,115,314.03,111,308.03\" style=\"stroke: #383838; stroke-width: 1.0;\"/><text fill=\"#000000\" font-family=\"sans-serif\" font-size=\"13\" lengthAdjust=\"spacingAndGlyphs\" textLength=\"39\" x=\"112\" y=\"352.4951\">energy</text></a><!--MD5=[85d356282659285ab4b2cfe2f634dd2b]\n",
       "reverse link E5 to E6--><a href=\"psysml:36f5721d-3963-4e1b-8c60-4291f15e82bf\" target=\"_top\" title=\"psysml:36f5721d-3963-4e1b-8c60-4291f15e82bf\" xlink:actuate=\"onRequest\" xlink:href=\"psysml:36f5721d-3963-4e1b-8c60-4291f15e82bf\" xlink:show=\"new\" xlink:title=\"psysml:36f5721d-3963-4e1b-8c60-4291f15e82bf\" xlink:type=\"simple\"><path d=\"M132.29,102.83 C127.55,118.66 122.12,136.82 117.93,150.83 \" fill=\"none\" id=\"E5&lt;-E6\" style=\"stroke: #383838; stroke-width: 1.0;\"/><polygon fill=\"#FFFFFF\" points=\"136.06,90.22,130.5075,94.8211,132.6191,101.7161,138.1716,97.115,136.06,90.22\" style=\"stroke: #383838; stroke-width: 1.0;\"/><text fill=\"#000000\" font-family=\"sans-serif\" font-size=\"13\" lengthAdjust=\"spacingAndGlyphs\" textLength=\"7\" x=\"111.8089\" y=\"140.1026\">1</text></a><!--MD5=[f667431f98296947986a1a7595a31603]\n",
       "link E6 to E4--><a href=\"psysml:d68f6e2a-7af4-445d-983d-ea2866559599\" target=\"_top\" title=\"psysml:d68f6e2a-7af4-445d-983d-ea2866559599\" xlink:actuate=\"onRequest\" xlink:href=\"psysml:d68f6e2a-7af4-445d-983d-ea2866559599\" xlink:show=\"new\" xlink:title=\"psysml:d68f6e2a-7af4-445d-983d-ea2866559599\" xlink:type=\"simple\"><path d=\"M111,199.22 C111,211 111,225.69 111,239.48 \" fill=\"none\" id=\"E6-&gt;E4\" style=\"stroke: #383838; stroke-width: 1.0;\"/><polygon fill=\"#FFFFFF\" points=\"111,259.83,104,240.83,118,240.83,111,259.83\" style=\"stroke: #383838; stroke-width: 1.0;\"/><ellipse cx=\"106\" cy=\"235.13\" fill=\"#383838\" rx=\"2\" ry=\"2\" style=\"stroke: #383838; stroke-width: 1.0;\"/><ellipse cx=\"116\" cy=\"235.13\" fill=\"#383838\" rx=\"2\" ry=\"2\" style=\"stroke: #383838; stroke-width: 1.0;\"/></a><!--MD5=[452b418e7f8a40397a49b8c0a78acc5b]\n",
       "reverse link E5 to E7--><a href=\"psysml:40397710-b034-41e4-8f3e-12fdc8e63d27\" target=\"_top\" title=\"psysml:40397710-b034-41e4-8f3e-12fdc8e63d27\" xlink:actuate=\"onRequest\" xlink:href=\"psysml:40397710-b034-41e4-8f3e-12fdc8e63d27\" xlink:show=\"new\" xlink:title=\"psysml:40397710-b034-41e4-8f3e-12fdc8e63d27\" xlink:type=\"simple\"><path d=\"M191.04,97.24 C218.06,114.24 251.25,135.13 276.18,150.83 \" fill=\"none\" id=\"E5&lt;-E7\" style=\"stroke: #383838; stroke-width: 1.0;\"/><polygon fill=\"#FFFFFF\" points=\"179.89,90.22,182.8411,96.7996,190.0496,96.6061,187.0985,90.0265,179.89,90.22\" style=\"stroke: #383838; stroke-width: 1.0;\"/><text fill=\"#000000\" font-family=\"sans-serif\" font-size=\"13\" lengthAdjust=\"spacingAndGlyphs\" textLength=\"7\" x=\"258.848\" y=\"140.1026\">1</text></a><!--MD5=[e4aca2f9ae5ca4f747737d9a0e3e96d3]\n",
       "@startuml\r\n",
       "skinparam monochrome true\r\n",
       "skinparam classbackgroundcolor white\r\n",
       "skinparam shadowing false\r\n",
       "skinparam wrapWidth 300\r\n",
       "hide circle\r\n",
       "\r\n",
       "package \"eVehicleLibrary\" as E1  [[psysml:d398d920-0924-4995-b3c2-4c5b4a5c69fe ]]  {\r\n",
       "comp def \"ElectricEnergy\" as E2  <<(T,blue) item  def>> [[psysml:918d34c3-17f3-4778-8feb-17d26145a10d ]] {\r\n",
       "}\r\n",
       "comp def \"BatteryCapacity\" as E3  <<(T,blue) attribute  def>> [[psysml:88bb816f-d099-41ac-b83b-284eccb188c7 ]] {\r\n",
       "}\r\n",
       "comp def \"PowerOutPort\" as E4  <<(T,blue) port  def>> [[psysml:b695563c-69e8-4fad-b175-6d1a8f01d5fa ]] {\r\n",
       "}\r\n",
       "comp def \"PowerInterface\" as E5  <<(T,blue) interface  def>> [[psysml:4bd433e4-17c8-498d-b720-586125b308ab ]] {\r\n",
       "}\r\n",
       "comp usage \"supplierPort: PowerOutPort \" as E6  <<(T,blue) port>> [[psysml:87684c66-d67b-4fda-9d42-a20d18f4589e ]] {\r\n",
       "}\r\n",
       "comp usage \"consumerPort: ~PowerOutPort \" as E7  <<(T,blue) port>> [[psysml:630a4a04-69ae-4331-b501-f32c6acd8373 ]] {\r\n",
       "}\r\n",
       "}\r\n",
       "E4 o- - E2 [[psysml:689dc358-42ce-4810-88b0-8dcbe2c4f9bf ]] : energy\r\n",
       "E5 o- - \"1\"E6 [[psysml:36f5721d-3963-4e1b-8c60-4291f15e82bf ]] \r\n",
       "E6 - -:|> E4 [[psysml:d68f6e2a-7af4-445d-983d-ea2866559599 ]] \r\n",
       "E5 o- - \"1\"E7 [[psysml:40397710-b034-41e4-8f3e-12fdc8e63d27 ]] \r\n",
       "@enduml\r\n",
       "\n",
       "PlantUML version 1.2020.13(Sat Jun 13 14:26:38 CEST 2020)\n",
       "(EPL source distribution)\n",
       "Java Runtime: OpenJDK Runtime Environment\n",
       "JVM: OpenJDK 64-Bit Server VM\n",
       "Default Encoding: Cp1252\n",
       "Language: en\n",
       "Country: US\n",
       "--></g></svg>"
      ]
     },
     "execution_count": 24,
     "metadata": {},
     "output_type": "execute_result"
    }
   ],
   "source": [
    "%viz --view=tree eVehicleLibrary"
   ]
  },
  {
   "cell_type": "markdown",
   "metadata": {},
   "source": [
    "Next, the definitions of the port and the interface are applied to the model. **Do not forget to run the eVehicleLibrary cell above.**"
   ]
  },
  {
   "cell_type": "code",
   "execution_count": 58,
   "metadata": {},
   "outputs": [
    {
     "data": {
      "text/plain": [
       "Package eVehicle_LogicalArchitecture (bd5075f5-e954-4407-8b65-2432bb13898f)\n"
      ]
     },
     "execution_count": 58,
     "metadata": {},
     "output_type": "execute_result"
    }
   ],
   "source": [
    "package eVehicle_LogicalArchitecture {\n",
    "       \n",
    "    import eVehicleLibrary::*;\n",
    "\n",
    "    part def Wheel :> ShapeItems::CircularCylinder {\n",
    "        import SI::*;\n",
    "        :>> radius := 325 [mm];\n",
    "\n",
    "        constraint pressureConstraint : WheelPressureConstraint (\n",
    "            currentPressure = currentPressure,\n",
    "            limitPressure = maxPressure);\n",
    "        attribute currentPressure : ScalarValues::Real;\n",
    "        attribute maxPressure : ScalarValues::Real;\n",
    "    }\n",
    "    \n",
    "    part def FrontWheel :> Wheel {\n",
    "        attribute redefines maxPressure = 2.0;\n",
    "    }\n",
    "    part def RearWheel :> Wheel {\n",
    "        attribute redefines maxPressure = 2.5;\n",
    "    }\n",
    "    \n",
    "    constraint def WheelPressureConstraint (\n",
    "        currentPressure : ScalarValues::Real,\n",
    "        limitPressure : ScalarValues::Real) {\n",
    "            currentPressure <= limitPressure\n",
    "    }\n",
    "    \n",
    "    part eVehicle {    \n",
    "        part body;\n",
    "        part battery {\n",
    "            attribute capacity : BatteryCapacity;\n",
    "            port powerOut : PowerOutPort;\n",
    "        }\n",
    "        part engine {\n",
    "            port powerIn : ~PowerOutPort;\n",
    "        }\n",
    "        part frontAxis;\n",
    "        part rearAxis;\n",
    "        part frontWheel : Wheel[2];\n",
    "        part rearWheel : Wheel[2];\n",
    "        \n",
    "        interface : PowerInterface connect \n",
    "            supplierPort :> battery.powerOut to \n",
    "            consumerPort :> engine.powerIn;\n",
    "        connect engine to frontAxis;\n",
    "        connect frontAxis to frontWheel;\n",
    "        connect rearAxis to rearWheel;\n",
    "        connect body to battery;\n",
    "        connect body to engine;\n",
    "        connect body to frontAxis;\n",
    "        connect body to rearAxis;\n",
    "    }\n",
    "}"
   ]
  },
  {
   "cell_type": "code",
   "execution_count": 26,
   "metadata": {},
   "outputs": [
    {
     "data": {
      "image/svg+xml": [
       "<?xml version=\"1.0\" encoding=\"UTF-8\" standalone=\"no\"?><svg xmlns=\"http://www.w3.org/2000/svg\" xmlns:xlink=\"http://www.w3.org/1999/xlink\" contentScriptType=\"application/ecmascript\" contentStyleType=\"text/css\" height=\"510px\" preserveAspectRatio=\"none\" style=\"width:424px;height:510px;\" version=\"1.1\" viewBox=\"0 0 424 510\" width=\"424px\" zoomAndPan=\"magnify\"><defs/><g><!--MD5=[fbc87193dbaf4d95561dea2c320d4a47]\n",
       "cluster E1--><a href=\"psysml:7d5e8206-7561-480e-80e8-f9c42b458962\" target=\"_top\" title=\"psysml:7d5e8206-7561-480e-80e8-f9c42b458962\" xlink:actuate=\"onRequest\" xlink:href=\"psysml:7d5e8206-7561-480e-80e8-f9c42b458962\" xlink:show=\"new\" xlink:title=\"psysml:7d5e8206-7561-480e-80e8-f9c42b458962\" xlink:type=\"simple\"><rect fill=\"#FFFFFF\" height=\"492.86\" id=\"E1\" rx=\"10\" ry=\"10\" style=\"stroke: #383838; stroke-width: 1.5;\" width=\"405\" x=\"7\" y=\"7\"/><rect fill=\"#F8F8F8\" height=\"25.0938\" rx=\"10\" ry=\"10\" style=\"stroke: #F8F8F8; stroke-width: 1.5;\" width=\"405\" x=\"7\" y=\"7\"/><rect fill=\"#F8F8F8\" height=\"10\" style=\"stroke: #F8F8F8; stroke-width: 1.5;\" width=\"405\" x=\"7\" y=\"22.0938\"/><rect fill=\"none\" height=\"492.86\" id=\"E1\" rx=\"10\" ry=\"10\" style=\"stroke: #383838; stroke-width: 1.5;\" width=\"405\" x=\"7\" y=\"7\"/><text fill=\"#000000\" font-family=\"sans-serif\" font-size=\"12\" lengthAdjust=\"spacingAndGlyphs\" textLength=\"47\" x=\"186\" y=\"24.457\">eVehicle</text><line style=\"stroke: #383838; stroke-width: 1.0;\" x1=\"7\" x2=\"412\" y1=\"32.0938\" y2=\"32.0938\"/></a><!--MD5=[d5e69f78d87373223dbae638b30a9c99]\n",
       "cluster E3--><a href=\"psysml:bd7353f8-5a03-4700-bf17-18c1f2693d01\" target=\"_top\" title=\"psysml:bd7353f8-5a03-4700-bf17-18c1f2693d01\" xlink:actuate=\"onRequest\" xlink:href=\"psysml:bd7353f8-5a03-4700-bf17-18c1f2693d01\" xlink:show=\"new\" xlink:title=\"psysml:bd7353f8-5a03-4700-bf17-18c1f2693d01\" xlink:type=\"simple\"><rect fill=\"#FFFFFF\" height=\"152.86\" id=\"E3\" rx=\"10\" ry=\"10\" style=\"stroke: #383838; stroke-width: 1.5;\" width=\"192\" x=\"186\" y=\"99\"/><rect fill=\"#F8F8F8\" height=\"25.0938\" rx=\"10\" ry=\"10\" style=\"stroke: #F8F8F8; stroke-width: 1.5;\" width=\"192\" x=\"186\" y=\"99\"/><rect fill=\"#F8F8F8\" height=\"10\" style=\"stroke: #F8F8F8; stroke-width: 1.5;\" width=\"192\" x=\"186\" y=\"114.0938\"/><rect fill=\"none\" height=\"152.86\" id=\"E3\" rx=\"10\" ry=\"10\" style=\"stroke: #383838; stroke-width: 1.5;\" width=\"192\" x=\"186\" y=\"99\"/><text fill=\"#000000\" font-family=\"sans-serif\" font-size=\"12\" lengthAdjust=\"spacingAndGlyphs\" textLength=\"36\" x=\"264\" y=\"116.457\">battery</text><line style=\"stroke: #383838; stroke-width: 1.0;\" x1=\"186\" x2=\"378\" y1=\"124.0938\" y2=\"124.0938\"/></a><!--MD5=[14e3b0961a2654348d326746436168a1]\n",
       "cluster E6--><a href=\"psysml:d418736a-8def-4cf0-96fa-72f97dc4396b\" target=\"_top\" title=\"psysml:d418736a-8def-4cf0-96fa-72f97dc4396b\" xlink:actuate=\"onRequest\" xlink:href=\"psysml:d418736a-8def-4cf0-96fa-72f97dc4396b\" xlink:show=\"new\" xlink:title=\"psysml:d418736a-8def-4cf0-96fa-72f97dc4396b\" xlink:type=\"simple\"><rect fill=\"#FFFFFF\" height=\"74\" id=\"E6\" rx=\"10\" ry=\"10\" style=\"stroke: #383838; stroke-width: 1.5;\" width=\"114\" x=\"213\" y=\"303.86\"/><rect fill=\"#F8F8F8\" height=\"25.0938\" rx=\"10\" ry=\"10\" style=\"stroke: #F8F8F8; stroke-width: 1.5;\" width=\"114\" x=\"213\" y=\"303.86\"/><rect fill=\"#F8F8F8\" height=\"10\" style=\"stroke: #F8F8F8; stroke-width: 1.5;\" width=\"114\" x=\"213\" y=\"318.9538\"/><rect fill=\"none\" height=\"74\" id=\"E6\" rx=\"10\" ry=\"10\" style=\"stroke: #383838; stroke-width: 1.5;\" width=\"114\" x=\"213\" y=\"303.86\"/><text fill=\"#000000\" font-family=\"sans-serif\" font-size=\"12\" lengthAdjust=\"spacingAndGlyphs\" textLength=\"38\" x=\"251\" y=\"321.317\">engine</text><line style=\"stroke: #383838; stroke-width: 1.0;\" x1=\"213\" x2=\"327\" y1=\"328.9538\" y2=\"328.9538\"/></a><g id=\"E1.E2\"><a href=\"psysml:5e0bc512-eeed-4e07-9e35-14a95c2fdb9f\" target=\"_top\" title=\"psysml:5e0bc512-eeed-4e07-9e35-14a95c2fdb9f\" xlink:actuate=\"onRequest\" xlink:href=\"psysml:5e0bc512-eeed-4e07-9e35-14a95c2fdb9f\" xlink:show=\"new\" xlink:title=\"psysml:5e0bc512-eeed-4e07-9e35-14a95c2fdb9f\" xlink:type=\"simple\"><rect fill=\"#FFFFFF\" height=\"40\" id=\"E2\" rx=\"10\" ry=\"10\" style=\"stroke: #383838; stroke-width: 1.5;\" width=\"50\" x=\"170\" y=\"43\"/><rect fill=\"#F8F8F8\" height=\"25.0938\" rx=\"10\" ry=\"10\" style=\"stroke: #F8F8F8; stroke-width: 1.5;\" width=\"50\" x=\"170\" y=\"43\"/><rect fill=\"#F8F8F8\" height=\"10\" style=\"stroke: #F8F8F8; stroke-width: 1.5;\" width=\"50\" x=\"170\" y=\"58.0938\"/><rect fill=\"none\" height=\"40\" id=\"E2\" rx=\"10\" ry=\"10\" style=\"stroke: #383838; stroke-width: 1.5;\" width=\"50\" x=\"170\" y=\"43\"/><text fill=\"#000000\" font-family=\"sans-serif\" font-size=\"12\" lengthAdjust=\"spacingAndGlyphs\" textLength=\"26\" x=\"182\" y=\"60.457\">body</text></a></g><!--MD5=[ebbe1d658d1005bcc118a6aa81145e00]\n",
       "class E4--><a href=\"psysml:053082d8-03cf-48ae-a6cf-0bc254b1e5a7\" target=\"_top\" title=\"psysml:053082d8-03cf-48ae-a6cf-0bc254b1e5a7\" xlink:actuate=\"onRequest\" xlink:href=\"psysml:053082d8-03cf-48ae-a6cf-0bc254b1e5a7\" xlink:show=\"new\" xlink:title=\"psysml:053082d8-03cf-48ae-a6cf-0bc254b1e5a7\" xlink:type=\"simple\"><rect fill=\"#FFFFFF\" height=\"48.1875\" id=\"E4\" rx=\"10\" ry=\"10\" style=\"stroke: #383838; stroke-width: 1.5;\" width=\"143\" x=\"210.5\" y=\"163\"/><text fill=\"#000000\" font-family=\"sans-serif\" font-size=\"12\" font-style=\"italic\" lengthAdjust=\"spacingAndGlyphs\" textLength=\"59\" x=\"252.5\" y=\"180.457\">«attribute»</text><text fill=\"#000000\" font-family=\"sans-serif\" font-size=\"12\" lengthAdjust=\"spacingAndGlyphs\" textLength=\"134\" x=\"213.5\" y=\"195.5508\">capacity: BatteryCapacity</text><line style=\"stroke: #383838; stroke-width: 1.5;\" x1=\"211.5\" x2=\"352.5\" y1=\"203.1875\" y2=\"203.1875\"/></a><text fill=\"#000000\" font-family=\"sans-serif\" font-size=\"14\" lengthAdjust=\"spacingAndGlyphs\" textLength=\"157\" x=\"189.5\" y=\"272.3932\">powerOut: PowerOutPort</text><rect fill=\"#383838\" height=\"12\" style=\"stroke: #F8F8F8; stroke-width: 1.5;\" width=\"12\" x=\"264\" y=\"245.86\"/><text fill=\"#000000\" font-family=\"sans-serif\" font-size=\"14\" lengthAdjust=\"spacingAndGlyphs\" textLength=\"153\" x=\"191.5\" y=\"282.7838\">powerIn: ~PowerOutPort</text><rect fill=\"#383838\" height=\"12\" style=\"stroke: #F8F8F8; stroke-width: 1.5;\" width=\"12\" x=\"264\" y=\"297.86\"/><g id=\"E1.E8\"><a href=\"psysml:55742374-12cc-41f9-a96d-3f18bf51d79d\" target=\"_top\" title=\"psysml:55742374-12cc-41f9-a96d-3f18bf51d79d\" xlink:actuate=\"onRequest\" xlink:href=\"psysml:55742374-12cc-41f9-a96d-3f18bf51d79d\" xlink:show=\"new\" xlink:title=\"psysml:55742374-12cc-41f9-a96d-3f18bf51d79d\" xlink:type=\"simple\"><rect fill=\"#FFFFFF\" height=\"40\" id=\"E8\" rx=\"10\" ry=\"10\" style=\"stroke: #383838; stroke-width: 1.5;\" width=\"57\" x=\"115.5\" y=\"393.86\"/><rect fill=\"#F8F8F8\" height=\"25.0938\" rx=\"10\" ry=\"10\" style=\"stroke: #F8F8F8; stroke-width: 1.5;\" width=\"57\" x=\"115.5\" y=\"393.86\"/><rect fill=\"#F8F8F8\" height=\"10\" style=\"stroke: #F8F8F8; stroke-width: 1.5;\" width=\"57\" x=\"115.5\" y=\"408.9538\"/><rect fill=\"none\" height=\"40\" id=\"E8\" rx=\"10\" ry=\"10\" style=\"stroke: #383838; stroke-width: 1.5;\" width=\"57\" x=\"115.5\" y=\"393.86\"/><text fill=\"#000000\" font-family=\"sans-serif\" font-size=\"12\" lengthAdjust=\"spacingAndGlyphs\" textLength=\"46\" x=\"121\" y=\"411.317\">frontAxis</text></a></g><g id=\"E1.E9\"><a href=\"psysml:62f8e8dd-ae16-4481-8b99-39afd05fabb8\" target=\"_top\" title=\"psysml:62f8e8dd-ae16-4481-8b99-39afd05fabb8\" xlink:actuate=\"onRequest\" xlink:href=\"psysml:62f8e8dd-ae16-4481-8b99-39afd05fabb8\" xlink:show=\"new\" xlink:title=\"psysml:62f8e8dd-ae16-4481-8b99-39afd05fabb8\" xlink:type=\"simple\"><rect fill=\"#FFFFFF\" height=\"40\" id=\"E9\" rx=\"10\" ry=\"10\" style=\"stroke: #383838; stroke-width: 1.5;\" width=\"55\" x=\"100.5\" y=\"113\"/><rect fill=\"#F8F8F8\" height=\"25.0938\" rx=\"10\" ry=\"10\" style=\"stroke: #F8F8F8; stroke-width: 1.5;\" width=\"55\" x=\"100.5\" y=\"113\"/><rect fill=\"#F8F8F8\" height=\"10\" style=\"stroke: #F8F8F8; stroke-width: 1.5;\" width=\"55\" x=\"100.5\" y=\"128.0938\"/><rect fill=\"none\" height=\"40\" id=\"E9\" rx=\"10\" ry=\"10\" style=\"stroke: #383838; stroke-width: 1.5;\" width=\"55\" x=\"100.5\" y=\"113\"/><text fill=\"#000000\" font-family=\"sans-serif\" font-size=\"12\" lengthAdjust=\"spacingAndGlyphs\" textLength=\"44\" x=\"106\" y=\"130.457\">rearAxis</text></a></g><g id=\"E1.E10\"><a href=\"psysml:eb4267a6-da0f-4c9e-92d2-23bf87012181\" target=\"_top\" title=\"psysml:eb4267a6-da0f-4c9e-92d2-23bf87012181\" xlink:actuate=\"onRequest\" xlink:href=\"psysml:eb4267a6-da0f-4c9e-92d2-23bf87012181\" xlink:show=\"new\" xlink:title=\"psysml:eb4267a6-da0f-4c9e-92d2-23bf87012181\" xlink:type=\"simple\"><rect fill=\"#FFFFFF\" height=\"40\" id=\"E10\" rx=\"10\" ry=\"10\" style=\"stroke: #383838; stroke-width: 1.5;\" width=\"111\" x=\"88.5\" y=\"443.86\"/><rect fill=\"#F8F8F8\" height=\"25.0938\" rx=\"10\" ry=\"10\" style=\"stroke: #F8F8F8; stroke-width: 1.5;\" width=\"111\" x=\"88.5\" y=\"443.86\"/><rect fill=\"#F8F8F8\" height=\"10\" style=\"stroke: #F8F8F8; stroke-width: 1.5;\" width=\"111\" x=\"88.5\" y=\"458.9538\"/><rect fill=\"none\" height=\"40\" id=\"E10\" rx=\"10\" ry=\"10\" style=\"stroke: #383838; stroke-width: 1.5;\" width=\"111\" x=\"88.5\" y=\"443.86\"/><text fill=\"#000000\" font-family=\"sans-serif\" font-size=\"12\" lengthAdjust=\"spacingAndGlyphs\" textLength=\"100\" x=\"94\" y=\"461.317\">frontWheel: Wheel</text></a></g><g id=\"E1.E11\"><a href=\"psysml:426956f2-f36c-4118-b304-32609f309214\" target=\"_top\" title=\"psysml:426956f2-f36c-4118-b304-32609f309214\" xlink:actuate=\"onRequest\" xlink:href=\"psysml:426956f2-f36c-4118-b304-32609f309214\" xlink:show=\"new\" xlink:title=\"psysml:426956f2-f36c-4118-b304-32609f309214\" xlink:type=\"simple\"><rect fill=\"#FFFFFF\" height=\"40\" id=\"E11\" rx=\"10\" ry=\"10\" style=\"stroke: #383838; stroke-width: 1.5;\" width=\"109\" x=\"60.5\" y=\"167\"/><rect fill=\"#F8F8F8\" height=\"25.0938\" rx=\"10\" ry=\"10\" style=\"stroke: #F8F8F8; stroke-width: 1.5;\" width=\"109\" x=\"60.5\" y=\"167\"/><rect fill=\"#F8F8F8\" height=\"10\" style=\"stroke: #F8F8F8; stroke-width: 1.5;\" width=\"109\" x=\"60.5\" y=\"182.0938\"/><rect fill=\"none\" height=\"40\" id=\"E11\" rx=\"10\" ry=\"10\" style=\"stroke: #383838; stroke-width: 1.5;\" width=\"109\" x=\"60.5\" y=\"167\"/><text fill=\"#000000\" font-family=\"sans-serif\" font-size=\"12\" lengthAdjust=\"spacingAndGlyphs\" textLength=\"98\" x=\"66\" y=\"184.457\">rearWheel: Wheel</text></a></g><!--MD5=[3a9b96bfbf6b6ad89c494e81751bda47]\n",
       "link E5 to E7--><a href=\"psysml:c94853f7-6828-46c9-95eb-351252555919\" target=\"_top\" title=\"psysml:c94853f7-6828-46c9-95eb-351252555919\" xlink:actuate=\"onRequest\" xlink:href=\"psysml:c94853f7-6828-46c9-95eb-351252555919\" xlink:show=\"new\" xlink:title=\"psysml:c94853f7-6828-46c9-95eb-351252555919\" xlink:type=\"simple\"><path d=\"M270,258.21 C270,267.88 270,288.16 270,297.7 \" fill=\"none\" id=\"E5-E7\" style=\"stroke: #383838; stroke-width: 3.0;\"/></a><!--MD5=[0a839d0f80c2d72d4b9b307f046d0de8]\n",
       "link E6 to E8--><a href=\"psysml:8325327b-2e2f-4030-aca6-69c52453e587\" target=\"_top\" title=\"psysml:8325327b-2e2f-4030-aca6-69c52453e587\" xlink:actuate=\"onRequest\" xlink:href=\"psysml:8325327b-2e2f-4030-aca6-69c52453e587\" xlink:show=\"new\" xlink:title=\"psysml:8325327b-2e2f-4030-aca6-69c52453e587\" xlink:type=\"simple\"><path d=\"M244.1036,377.9509 C244.0125,378.0347 243.9213,378.1183 243.8299,378.2017 C243.6471,378.3685 243.4637,378.5346 243.2797,378.6998 C240.335,381.3444 237.2275,383.7875 234,385.86 C215.47,397.76 191.45,404.62 172.89,408.44 \" fill=\"none\" id=\"E6-E8\" style=\"stroke: #383838; stroke-width: 3.0;\"/><text fill=\"#000000\" font-family=\"sans-serif\" font-size=\"13\" lengthAdjust=\"spacingAndGlyphs\" textLength=\"5\" x=\"180.5413\" y=\"402.7068\">*</text></a><!--MD5=[de116e21047ded6283635ff91c92fb70]\n",
       "link E8 to E10--><a href=\"psysml:318a3c0f-2160-422a-b35c-fc8f94089b17\" target=\"_top\" title=\"psysml:318a3c0f-2160-422a-b35c-fc8f94089b17\" xlink:actuate=\"onRequest\" xlink:href=\"psysml:318a3c0f-2160-422a-b35c-fc8f94089b17\" xlink:show=\"new\" xlink:title=\"psysml:318a3c0f-2160-422a-b35c-fc8f94089b17\" xlink:type=\"simple\"><path d=\"M144,434.11 C144,437.24 144,440.48 144,443.61 \" fill=\"none\" id=\"E8-E10\" style=\"stroke: #383838; stroke-width: 3.0;\"/><text fill=\"#000000\" font-family=\"sans-serif\" font-size=\"13\" lengthAdjust=\"spacingAndGlyphs\" textLength=\"5\" x=\"130.9586\" y=\"432.8808\">*</text></a><!--MD5=[526783dfcde15884571727dc3bbf2987]\n",
       "link E9 to E11--><a href=\"psysml:a0300750-b036-47fc-91c2-6f348939052c\" target=\"_top\" title=\"psysml:a0300750-b036-47fc-91c2-6f348939052c\" xlink:actuate=\"onRequest\" xlink:href=\"psysml:a0300750-b036-47fc-91c2-6f348939052c\" xlink:show=\"new\" xlink:title=\"psysml:a0300750-b036-47fc-91c2-6f348939052c\" xlink:type=\"simple\"><path d=\"M123.23,153.07 C122.1,157.59 120.9,162.41 119.77,166.93 \" fill=\"none\" id=\"E9-E11\" style=\"stroke: #383838; stroke-width: 3.0;\"/><text fill=\"#000000\" font-family=\"sans-serif\" font-size=\"13\" lengthAdjust=\"spacingAndGlyphs\" textLength=\"5\" x=\"108.8129\" y=\"155.988\">*</text></a><!--MD5=[2720a5a1f2c3fca2055b230370638851]\n",
       "link E2 to E3--><a href=\"psysml:8a1f0ef7-35a2-457b-ac90-143571a7a7b5\" target=\"_top\" title=\"psysml:8a1f0ef7-35a2-457b-ac90-143571a7a7b5\" xlink:actuate=\"onRequest\" xlink:href=\"psysml:8a1f0ef7-35a2-457b-ac90-143571a7a7b5\" xlink:show=\"new\" xlink:title=\"psysml:8a1f0ef7-35a2-457b-ac90-143571a7a7b5\" xlink:type=\"simple\"><path d=\"M217.67,83.12 C220.53,85.71 223.37,88.38 226,91 C227.3088,92.3038 228.627,93.6467 229.9458,95.0154 C230.6052,95.6997 231.2646,96.3904 231.9231,97.0859 C232.2524,97.4337 232.5813,97.7826 232.9099,98.1325 C233.0742,98.3074 233.2384,98.4826 233.4025,98.658 C233.4845,98.7457 233.5666,98.8335 233.6485,98.9213 \" fill=\"none\" id=\"E2-E3\" style=\"stroke: #383838; stroke-width: 3.0;\"/><text fill=\"#000000\" font-family=\"sans-serif\" font-size=\"13\" lengthAdjust=\"spacingAndGlyphs\" textLength=\"5\" x=\"249.6\" y=\"120.3851\">*</text></a><!--MD5=[e3e28c1befcf002155aa15e1416b4315]\n",
       "link E2 to E6--><a href=\"psysml:b08004cc-a98a-44ed-ab68-58b92404aa01\" target=\"_top\" title=\"psysml:b08004cc-a98a-44ed-ab68-58b92404aa01\" xlink:actuate=\"onRequest\" xlink:href=\"psysml:b08004cc-a98a-44ed-ab68-58b92404aa01\" xlink:show=\"new\" xlink:title=\"psysml:b08004cc-a98a-44ed-ab68-58b92404aa01\" xlink:type=\"simple\"><path d=\"M220.25,64.58 C263.32,66.11 348.42,71.56 370,91 C402.44,120.22 395,142.34 395,186 C395,186 395,186 395,252.86 C395,275.655 381.1375,293.25 362.6463,306.58 C353.4006,313.245 342.9978,318.8438 332.592,323.4931 C331.2913,324.0743 329.9905,324.6406 328.692,325.1924 C328.3673,325.3303 328.0428,325.4673 327.7185,325.6034 C327.5563,325.6715 327.3942,325.7393 327.2321,325.8069 \" fill=\"none\" id=\"E2-E6\" style=\"stroke: #383838; stroke-width: 3.0;\"/><text fill=\"#000000\" font-family=\"sans-serif\" font-size=\"13\" lengthAdjust=\"spacingAndGlyphs\" textLength=\"5\" x=\"302.52\" y=\"332.2051\">*</text></a><!--MD5=[b0060bfdb0500b904584095522b4da3c]\n",
       "link E2 to E8--><a href=\"psysml:c4880e97-f44c-4563-a85f-2a2d147c793d\" target=\"_top\" title=\"psysml:c4880e97-f44c-4563-a85f-2a2d147c793d\" xlink:actuate=\"onRequest\" xlink:href=\"psysml:c4880e97-f44c-4563-a85f-2a2d147c793d\" xlink:show=\"new\" xlink:title=\"psysml:c4880e97-f44c-4563-a85f-2a2d147c793d\" xlink:type=\"simple\"><path d=\"M169.59,64.7 C145.27,66.54 108.61,72.49 83,91 C42.72,120.11 24,136.3 24,186 C24,186 24,186 24,304.86 C24,353.77 79.76,386.18 115.26,401.86 \" fill=\"none\" id=\"E2-E8\" style=\"stroke: #383838; stroke-width: 3.0;\"/><text fill=\"#000000\" font-family=\"sans-serif\" font-size=\"13\" lengthAdjust=\"spacingAndGlyphs\" textLength=\"5\" x=\"102.6453\" y=\"394.523\">*</text></a><!--MD5=[420f7d69500b4b122c1ca6b248b0b1e2]\n",
       "link E2 to E9--><a href=\"psysml:60f23ae2-b04a-4658-a5a4-a844ab5c9a9c\" target=\"_top\" title=\"psysml:60f23ae2-b04a-4658-a5a4-a844ab5c9a9c\" xlink:actuate=\"onRequest\" xlink:href=\"psysml:60f23ae2-b04a-4658-a5a4-a844ab5c9a9c\" xlink:show=\"new\" xlink:title=\"psysml:60f23ae2-b04a-4658-a5a4-a844ab5c9a9c\" xlink:type=\"simple\"><path d=\"M175.98,83.3 C166.85,92.57 155.94,103.64 146.84,112.88 \" fill=\"none\" id=\"E2-E9\" style=\"stroke: #383838; stroke-width: 3.0;\"/><text fill=\"#000000\" font-family=\"sans-serif\" font-size=\"13\" lengthAdjust=\"spacingAndGlyphs\" textLength=\"5\" x=\"146.6399\" y=\"102.1665\">*</text></a><!--MD5=[ec86b9d9edd2afeb418561c7c1f45295]\n",
       "@startuml\r\n",
       "skinparam ranksep 10\r\n",
       "skinparam rectangle {\r\n",
       " backgroundColor<<block>> LightGreen\r\n",
       "}\r\n",
       "skinparam monochrome true\r\n",
       "skinparam classbackgroundcolor white\r\n",
       "skinparam shadowing false\r\n",
       "skinparam wrapWidth 300\r\n",
       "hide circle\r\n",
       "\r\n",
       "rec usage \"eVehicle\" as E1  [[psysml:7d5e8206-7561-480e-80e8-f9c42b458962 ]] {\r\n",
       "rec usage \"body\" as E2  [[psysml:5e0bc512-eeed-4e07-9e35-14a95c2fdb9f ]] {\r\n",
       "}\r\n",
       "rec usage \"battery\" as E3  [[psysml:bd7353f8-5a03-4700-bf17-18c1f2693d01 ]] {\r\n",
       "comp usage \"capacity: BatteryCapacity \" as E4  <<(T,blue) attribute>> [[psysml:053082d8-03cf-48ae-a6cf-0bc254b1e5a7 ]] {\r\n",
       "}\r\n",
       "portout \"powerOut: PowerOutPort \" as E5  <<(T,blue) port>> [[psysml:535b1418-ad4e-48c7-80ff-817edcdde495 ]] \r\n",
       "}\r\n",
       "rec usage \"engine\" as E6  [[psysml:d418736a-8def-4cf0-96fa-72f97dc4396b ]] {\r\n",
       "portin \"powerIn: ~PowerOutPort \" as E7  <<(T,blue) port>> [[psysml:e115d1cd-9608-4e30-847e-36ca825398fd ]] \r\n",
       "}\r\n",
       "rec usage \"frontAxis\" as E8  [[psysml:55742374-12cc-41f9-a96d-3f18bf51d79d ]] {\r\n",
       "}\r\n",
       "rec usage \"rearAxis\" as E9  [[psysml:62f8e8dd-ae16-4481-8b99-39afd05fabb8 ]] {\r\n",
       "}\r\n",
       "rec usage \"frontWheel: Wheel\" as E10  [[psysml:eb4267a6-da0f-4c9e-92d2-23bf87012181 ]] {\r\n",
       "}\r\n",
       "rec usage \"rearWheel: Wheel\" as E11  [[psysml:426956f2-f36c-4118-b304-32609f309214 ]] {\r\n",
       "}\r\n",
       "}\r\n",
       "E5 -[thickness=3]- E7 [[psysml:c94853f7-6828-46c9-95eb-351252555919 ]] \r\n",
       "E6 -[thickness=3]- \"*\"E8 [[psysml:8325327b-2e2f-4030-aca6-69c52453e587 ]] \r\n",
       "E8 -[thickness=3]- \"*\"E10 [[psysml:318a3c0f-2160-422a-b35c-fc8f94089b17 ]] \r\n",
       "E9 -[thickness=3]- \"*\"E11 [[psysml:a0300750-b036-47fc-91c2-6f348939052c ]] \r\n",
       "E2 -[thickness=3]- \"*\"E3 [[psysml:8a1f0ef7-35a2-457b-ac90-143571a7a7b5 ]] \r\n",
       "E2 -[thickness=3]- \"*\"E6 [[psysml:b08004cc-a98a-44ed-ab68-58b92404aa01 ]] \r\n",
       "E2 -[thickness=3]- \"*\"E8 [[psysml:c4880e97-f44c-4563-a85f-2a2d147c793d ]] \r\n",
       "E2 -[thickness=3]- \"*\"E9 [[psysml:60f23ae2-b04a-4658-a5a4-a844ab5c9a9c ]] \r\n",
       "@enduml\r\n",
       "\n",
       "PlantUML version 1.2020.13(Sat Jun 13 14:26:38 CEST 2020)\n",
       "(EPL source distribution)\n",
       "Java Runtime: OpenJDK Runtime Environment\n",
       "JVM: OpenJDK 64-Bit Server VM\n",
       "Default Encoding: Cp1252\n",
       "Language: en\n",
       "Country: US\n",
       "--></g></svg>"
      ]
     },
     "execution_count": 26,
     "metadata": {},
     "output_type": "execute_result"
    }
   ],
   "source": [
    "%viz --view=interconnection eVehicle_LogicalArchitecture::eVehicle"
   ]
  },
  {
   "cell_type": "markdown",
   "metadata": {},
   "source": [
    "## Modeling Activities<a name=\"sysmlv2usecasesactivities\"></a>"
   ]
  },
  {
   "cell_type": "code",
   "execution_count": 27,
   "metadata": {},
   "outputs": [
    {
     "data": {
      "text/plain": [
       "Package eVehicle_Behavior (2b183623-8cd2-4cc3-bedf-ced34c1bb521)\n"
      ]
     },
     "execution_count": 27,
     "metadata": {},
     "output_type": "execute_result"
    }
   ],
   "source": [
    "package eVehicle_Behavior {\n",
    "      \n",
    "    action chargeBattery {\n",
    "        in item power : ElectricalEnergy;\n",
    "        \n",
    "        succession flow chargeBattery.power to charge.power;\n",
    "        \n",
    "        first start;\n",
    "        then action 'insert charging plug';\n",
    "        then action 'secure charging plug';\n",
    "        then action charge {\n",
    "            in item power : ElectricalEnergy;\n",
    "        }\n",
    "        then action 'unsecure charging plug';\n",
    "        then action removePlug : 'Remove charging plug';\n",
    "        then done;\n",
    "    }\n",
    "    action def 'Remove charging plug';\n",
    "    item def ElectricalEnergy;\n",
    "}"
   ]
  },
  {
   "cell_type": "code",
   "execution_count": 28,
   "metadata": {},
   "outputs": [
    {
     "data": {
      "image/svg+xml": [
       "<?xml version=\"1.0\" encoding=\"UTF-8\" standalone=\"no\"?><svg xmlns=\"http://www.w3.org/2000/svg\" xmlns:xlink=\"http://www.w3.org/1999/xlink\" contentScriptType=\"application/ecmascript\" contentStyleType=\"text/css\" height=\"531px\" preserveAspectRatio=\"none\" style=\"width:672px;height:531px;\" version=\"1.1\" viewBox=\"0 0 672 531\" width=\"672px\" zoomAndPan=\"magnify\"><defs/><g><!--MD5=[fbc87193dbaf4d95561dea2c320d4a47]\n",
       "cluster E1--><a href=\"psysml:2b183623-8cd2-4cc3-bedf-ced34c1bb521\" target=\"_top\" title=\"psysml:2b183623-8cd2-4cc3-bedf-ced34c1bb521\" xlink:actuate=\"onRequest\" xlink:href=\"psysml:2b183623-8cd2-4cc3-bedf-ced34c1bb521\" xlink:show=\"new\" xlink:title=\"psysml:2b183623-8cd2-4cc3-bedf-ced34c1bb521\" xlink:type=\"simple\"><polygon fill=\"#FFFFFF\" points=\"16,6,155,6,162,29.6094,650,29.6094,650,519,16,519,16,6\" style=\"stroke: #000000; stroke-width: 1.5;\"/><line style=\"stroke: #000000; stroke-width: 1.5;\" x1=\"16\" x2=\"162\" y1=\"29.6094\" y2=\"29.6094\"/><text fill=\"#000000\" font-family=\"sans-serif\" font-size=\"14\" font-weight=\"bold\" lengthAdjust=\"spacingAndGlyphs\" textLength=\"133\" x=\"20\" y=\"22.5332\">eVehicle_Behavior</text></a><!--MD5=[e4f7fae6ed58524ba242bb0b0d3be6b7]\n",
       "cluster E2--><a href=\"psysml:28b2c3fd-c4b3-43b6-9891-4120b405061d\" target=\"_top\" title=\"psysml:28b2c3fd-c4b3-43b6-9891-4120b405061d\" xlink:actuate=\"onRequest\" xlink:href=\"psysml:28b2c3fd-c4b3-43b6-9891-4120b405061d\" xlink:show=\"new\" xlink:title=\"psysml:28b2c3fd-c4b3-43b6-9891-4120b405061d\" xlink:type=\"simple\"><rect fill=\"#FFFFFF\" height=\"438.5\" id=\"E2\" rx=\"10\" ry=\"10\" style=\"stroke: #383838; stroke-width: 1.5;\" width=\"290\" x=\"344\" y=\"64.5\"/><rect fill=\"#F8F8F8\" height=\"40.1875\" rx=\"10\" ry=\"10\" style=\"stroke: #F8F8F8; stroke-width: 1.5;\" width=\"290\" x=\"344\" y=\"64.5\"/><rect fill=\"#F8F8F8\" height=\"10\" style=\"stroke: #F8F8F8; stroke-width: 1.5;\" width=\"290\" x=\"344\" y=\"94.6875\"/><rect fill=\"none\" height=\"438.5\" id=\"E2\" rx=\"10\" ry=\"10\" style=\"stroke: #383838; stroke-width: 1.5;\" width=\"290\" x=\"344\" y=\"64.5\"/><text fill=\"#000000\" font-family=\"sans-serif\" font-size=\"12\" font-style=\"italic\" lengthAdjust=\"spacingAndGlyphs\" textLength=\"47\" x=\"465.5\" y=\"81.957\">«action»</text><text fill=\"#000000\" font-family=\"sans-serif\" font-size=\"12\" lengthAdjust=\"spacingAndGlyphs\" textLength=\"75\" x=\"451.5\" y=\"97.0508\">chargeBattery</text><line style=\"stroke: #383838; stroke-width: 1.0;\" x1=\"344\" x2=\"634\" y1=\"104.6875\" y2=\"104.6875\"/></a><!--MD5=[14e3b0961a2654348d326746436168a1]\n",
       "cluster E6--><a href=\"psysml:1b1a6f5e-293e-4fff-ae42-c260527c98e6\" target=\"_top\" title=\"psysml:1b1a6f5e-293e-4fff-ae42-c260527c98e6\" xlink:actuate=\"onRequest\" xlink:href=\"psysml:1b1a6f5e-293e-4fff-ae42-c260527c98e6\" xlink:show=\"new\" xlink:title=\"psysml:1b1a6f5e-293e-4fff-ae42-c260527c98e6\" xlink:type=\"simple\"><rect fill=\"#FFFFFF\" height=\"108.5\" id=\"E6\" rx=\"10\" ry=\"10\" style=\"stroke: #383838; stroke-width: 1.5;\" width=\"94\" x=\"380\" y=\"232.5\"/><rect fill=\"#F8F8F8\" height=\"40.1875\" rx=\"10\" ry=\"10\" style=\"stroke: #F8F8F8; stroke-width: 1.5;\" width=\"94\" x=\"380\" y=\"232.5\"/><rect fill=\"#F8F8F8\" height=\"10\" style=\"stroke: #F8F8F8; stroke-width: 1.5;\" width=\"94\" x=\"380\" y=\"262.6875\"/><rect fill=\"none\" height=\"108.5\" id=\"E6\" rx=\"10\" ry=\"10\" style=\"stroke: #383838; stroke-width: 1.5;\" width=\"94\" x=\"380\" y=\"232.5\"/><text fill=\"#000000\" font-family=\"sans-serif\" font-size=\"12\" font-style=\"italic\" lengthAdjust=\"spacingAndGlyphs\" textLength=\"47\" x=\"403.5\" y=\"249.957\">«action»</text><text fill=\"#000000\" font-family=\"sans-serif\" font-size=\"12\" lengthAdjust=\"spacingAndGlyphs\" textLength=\"38\" x=\"408\" y=\"265.0508\">charge</text><line style=\"stroke: #383838; stroke-width: 1.0;\" x1=\"380\" x2=\"474\" y1=\"272.6875\" y2=\"272.6875\"/></a><g id=\"E1.E11\"><a href=\"psysml:5df70425-6157-438c-8182-b75d1f69a494\" target=\"_top\" title=\"psysml:5df70425-6157-438c-8182-b75d1f69a494\" xlink:actuate=\"onRequest\" xlink:href=\"psysml:5df70425-6157-438c-8182-b75d1f69a494\" xlink:show=\"new\" xlink:title=\"psysml:5df70425-6157-438c-8182-b75d1f69a494\" xlink:type=\"simple\"><rect fill=\"#FFFFFF\" height=\"45.1875\" id=\"E11\" style=\"stroke: #383838; stroke-width: 1.5;\" width=\"99\" x=\"202.5\" y=\"42\"/><rect fill=\"#F8F8F8\" height=\"40.1875\" style=\"stroke: #383838; stroke-width: 1.5;\" width=\"99\" x=\"202.5\" y=\"42\"/><text fill=\"#000000\" font-family=\"sans-serif\" font-size=\"12\" font-style=\"italic\" lengthAdjust=\"spacingAndGlyphs\" textLength=\"61\" x=\"221.5\" y=\"59.457\">«item  def»</text><text fill=\"#000000\" font-family=\"sans-serif\" font-size=\"12\" lengthAdjust=\"spacingAndGlyphs\" textLength=\"88\" x=\"208\" y=\"74.5508\">ElectricalEnergy</text></a></g><text fill=\"#000000\" font-family=\"sans-serif\" font-size=\"14\" lengthAdjust=\"spacingAndGlyphs\" textLength=\"38\" x=\"343\" y=\"43.4238\">power</text><rect fill=\"#383838\" height=\"12\" style=\"stroke: #F8F8F8; stroke-width: 1.5;\" width=\"12\" x=\"356\" y=\"58.5\"/><ellipse cx=\"554\" cy=\"135\" fill=\"#000000\" rx=\"10\" ry=\"10\" style=\"stroke: none; stroke-width: 1.0;\"/><ellipse cx=\"465\" cy=\"477\" fill=\"none\" rx=\"10\" ry=\"10\" style=\"stroke: #000000; stroke-width: 1.0;\"/><ellipse cx=\"465.5\" cy=\"477.5\" fill=\"#000000\" rx=\"6\" ry=\"6\" style=\"stroke: none; stroke-width: 1.0;\"/><g id=\"E1.E2.E4\"><a href=\"psysml:72ad9505-f7fb-45a4-9d6f-7788d3676f56\" target=\"_top\" title=\"psysml:72ad9505-f7fb-45a4-9d6f-7788d3676f56\" xlink:actuate=\"onRequest\" xlink:href=\"psysml:72ad9505-f7fb-45a4-9d6f-7788d3676f56\" xlink:show=\"new\" xlink:title=\"psysml:72ad9505-f7fb-45a4-9d6f-7788d3676f56\" xlink:type=\"simple\"><rect fill=\"#FFFFFF\" height=\"45.1875\" id=\"E4\" rx=\"10\" ry=\"10\" style=\"stroke: #383838; stroke-width: 1.5;\" width=\"120\" x=\"494\" y=\"155\"/><rect fill=\"#F8F8F8\" height=\"40.1875\" rx=\"10\" ry=\"10\" style=\"stroke: #F8F8F8; stroke-width: 1.5;\" width=\"120\" x=\"494\" y=\"155\"/><rect fill=\"#F8F8F8\" height=\"10\" style=\"stroke: #F8F8F8; stroke-width: 1.5;\" width=\"120\" x=\"494\" y=\"185.1875\"/><rect fill=\"none\" height=\"45.1875\" id=\"E4\" rx=\"10\" ry=\"10\" style=\"stroke: #383838; stroke-width: 1.5;\" width=\"120\" x=\"494\" y=\"155\"/><text fill=\"#000000\" font-family=\"sans-serif\" font-size=\"12\" font-style=\"italic\" lengthAdjust=\"spacingAndGlyphs\" textLength=\"47\" x=\"530.5\" y=\"172.457\">«action»</text><text fill=\"#000000\" font-family=\"sans-serif\" font-size=\"12\" lengthAdjust=\"spacingAndGlyphs\" textLength=\"109\" x=\"499.5\" y=\"187.5508\">insert charging plug</text></a></g><g id=\"E1.E2.E5\"><a href=\"psysml:e0f80b30-7a3e-48cb-9703-f60d301bd642\" target=\"_top\" title=\"psysml:e0f80b30-7a3e-48cb-9703-f60d301bd642\" xlink:actuate=\"onRequest\" xlink:href=\"psysml:e0f80b30-7a3e-48cb-9703-f60d301bd642\" xlink:show=\"new\" xlink:title=\"psysml:e0f80b30-7a3e-48cb-9703-f60d301bd642\" xlink:type=\"simple\"><rect fill=\"#FFFFFF\" height=\"45.1875\" id=\"E5\" rx=\"10\" ry=\"10\" style=\"stroke: #383838; stroke-width: 1.5;\" width=\"127\" x=\"490.5\" y=\"210\"/><rect fill=\"#F8F8F8\" height=\"40.1875\" rx=\"10\" ry=\"10\" style=\"stroke: #F8F8F8; stroke-width: 1.5;\" width=\"127\" x=\"490.5\" y=\"210\"/><rect fill=\"#F8F8F8\" height=\"10\" style=\"stroke: #F8F8F8; stroke-width: 1.5;\" width=\"127\" x=\"490.5\" y=\"240.1875\"/><rect fill=\"none\" height=\"45.1875\" id=\"E5\" rx=\"10\" ry=\"10\" style=\"stroke: #383838; stroke-width: 1.5;\" width=\"127\" x=\"490.5\" y=\"210\"/><text fill=\"#000000\" font-family=\"sans-serif\" font-size=\"12\" font-style=\"italic\" lengthAdjust=\"spacingAndGlyphs\" textLength=\"47\" x=\"530.5\" y=\"227.457\">«action»</text><text fill=\"#000000\" font-family=\"sans-serif\" font-size=\"12\" lengthAdjust=\"spacingAndGlyphs\" textLength=\"116\" x=\"496\" y=\"242.5508\">secure charging plug</text></a></g><text fill=\"#000000\" font-family=\"sans-serif\" font-size=\"14\" lengthAdjust=\"spacingAndGlyphs\" textLength=\"38\" x=\"379\" y=\"211.4238\">power</text><rect fill=\"#383838\" height=\"12\" style=\"stroke: #F8F8F8; stroke-width: 1.5;\" width=\"12\" x=\"392\" y=\"226.5\"/><g id=\"E1.E2.E8\"><a href=\"psysml:e2134b4a-5c1f-459d-ae68-4b45aa52dcd3\" target=\"_top\" title=\"psysml:e2134b4a-5c1f-459d-ae68-4b45aa52dcd3\" xlink:actuate=\"onRequest\" xlink:href=\"psysml:e2134b4a-5c1f-459d-ae68-4b45aa52dcd3\" xlink:show=\"new\" xlink:title=\"psysml:e2134b4a-5c1f-459d-ae68-4b45aa52dcd3\" xlink:type=\"simple\"><rect fill=\"#FFFFFF\" height=\"45.1875\" id=\"E8\" rx=\"10\" ry=\"10\" style=\"stroke: #383838; stroke-width: 1.5;\" width=\"141\" x=\"476.5\" y=\"357\"/><rect fill=\"#F8F8F8\" height=\"40.1875\" rx=\"10\" ry=\"10\" style=\"stroke: #F8F8F8; stroke-width: 1.5;\" width=\"141\" x=\"476.5\" y=\"357\"/><rect fill=\"#F8F8F8\" height=\"10\" style=\"stroke: #F8F8F8; stroke-width: 1.5;\" width=\"141\" x=\"476.5\" y=\"387.1875\"/><rect fill=\"none\" height=\"45.1875\" id=\"E8\" rx=\"10\" ry=\"10\" style=\"stroke: #383838; stroke-width: 1.5;\" width=\"141\" x=\"476.5\" y=\"357\"/><text fill=\"#000000\" font-family=\"sans-serif\" font-size=\"12\" font-style=\"italic\" lengthAdjust=\"spacingAndGlyphs\" textLength=\"47\" x=\"523.5\" y=\"374.457\">«action»</text><text fill=\"#000000\" font-family=\"sans-serif\" font-size=\"12\" lengthAdjust=\"spacingAndGlyphs\" textLength=\"130\" x=\"482\" y=\"389.5508\">unsecure charging plug</text></a></g><g id=\"E1.E2.E9\"><a href=\"psysml:37515a39-070a-4a2d-9b48-638c90e32237\" target=\"_top\" title=\"psysml:37515a39-070a-4a2d-9b48-638c90e32237\" xlink:actuate=\"onRequest\" xlink:href=\"psysml:37515a39-070a-4a2d-9b48-638c90e32237\" xlink:show=\"new\" xlink:title=\"psysml:37515a39-070a-4a2d-9b48-638c90e32237\" xlink:type=\"simple\"><rect fill=\"#FFFFFF\" height=\"45.1875\" id=\"E9\" rx=\"10\" ry=\"10\" style=\"stroke: #383838; stroke-width: 1.5;\" width=\"77\" x=\"426.5\" y=\"412\"/><rect fill=\"#F8F8F8\" height=\"40.1875\" rx=\"10\" ry=\"10\" style=\"stroke: #F8F8F8; stroke-width: 1.5;\" width=\"77\" x=\"426.5\" y=\"412\"/><rect fill=\"#F8F8F8\" height=\"10\" style=\"stroke: #F8F8F8; stroke-width: 1.5;\" width=\"77\" x=\"426.5\" y=\"442.1875\"/><rect fill=\"none\" height=\"45.1875\" id=\"E9\" rx=\"10\" ry=\"10\" style=\"stroke: #383838; stroke-width: 1.5;\" width=\"77\" x=\"426.5\" y=\"412\"/><text fill=\"#000000\" font-family=\"sans-serif\" font-size=\"12\" font-style=\"italic\" lengthAdjust=\"spacingAndGlyphs\" textLength=\"47\" x=\"441.5\" y=\"429.457\">«action»</text><text fill=\"#000000\" font-family=\"sans-serif\" font-size=\"12\" lengthAdjust=\"spacingAndGlyphs\" textLength=\"66\" x=\"432\" y=\"444.5508\">removePlug</text></a></g><g id=\"E1.E10\"><a href=\"psysml:2d75b5bb-822e-45e2-b704-ad5ff36cc982\" target=\"_top\" title=\"psysml:2d75b5bb-822e-45e2-b704-ad5ff36cc982\" xlink:actuate=\"onRequest\" xlink:href=\"psysml:2d75b5bb-822e-45e2-b704-ad5ff36cc982\" xlink:show=\"new\" xlink:title=\"psysml:2d75b5bb-822e-45e2-b704-ad5ff36cc982\" xlink:type=\"simple\"><rect fill=\"#FFFFFF\" height=\"45.1875\" id=\"E10\" style=\"stroke: #383838; stroke-width: 1.5;\" width=\"135\" x=\"32.5\" y=\"42\"/><rect fill=\"#F8F8F8\" height=\"40.1875\" style=\"stroke: #383838; stroke-width: 1.5;\" width=\"135\" x=\"32.5\" y=\"42\"/><text fill=\"#000000\" font-family=\"sans-serif\" font-size=\"12\" font-style=\"italic\" lengthAdjust=\"spacingAndGlyphs\" textLength=\"70\" x=\"65\" y=\"59.457\">«action  def»</text><text fill=\"#000000\" font-family=\"sans-serif\" font-size=\"12\" lengthAdjust=\"spacingAndGlyphs\" textLength=\"124\" x=\"38\" y=\"74.5508\">Remove charging plug</text></a></g><!--MD5=[13c02371686d0d9a3e24c456767252e0]\n",
       "link *start*E2 to E4--><a href=\"psysml:a19b069b-dc60-4673-af4e-d97e4ea69d45\" target=\"_top\" title=\"psysml:a19b069b-dc60-4673-af4e-d97e4ea69d45\" xlink:actuate=\"onRequest\" xlink:href=\"psysml:a19b069b-dc60-4673-af4e-d97e4ea69d45\" xlink:show=\"new\" xlink:title=\"psysml:a19b069b-dc60-4673-af4e-d97e4ea69d45\" xlink:type=\"simple\"><path d=\"M554,145.39 C554,146.75 554,148.2 554,149.71 \" fill=\"none\" id=\"*start*E2-&gt;E4\" style=\"stroke: #383838; stroke-width: 1.0;\"/><polygon fill=\"#383838\" points=\"554,154.98,558,145.98,554,149.98,550,145.98,554,154.98\" style=\"stroke: #383838; stroke-width: 1.0;\"/></a><!--MD5=[ff7fc44c14c9f6914217e7c1ee93fe2d]\n",
       "link E9 to *end*E2--><a href=\"psysml:b977fa1b-ccec-4b86-85da-9761e02818d4\" target=\"_top\" title=\"psysml:b977fa1b-ccec-4b86-85da-9761e02818d4\" xlink:actuate=\"onRequest\" xlink:href=\"psysml:b977fa1b-ccec-4b86-85da-9761e02818d4\" xlink:show=\"new\" xlink:title=\"psysml:b977fa1b-ccec-4b86-85da-9761e02818d4\" xlink:type=\"simple\"><path d=\"M465,457.17 C465,458.79 465,460.4 465,461.96 \" fill=\"none\" id=\"E9-&gt;*end*E2\" style=\"stroke: #383838; stroke-width: 1.0;\"/><polygon fill=\"#383838\" points=\"465,466.98,469,457.98,465,461.98,461,457.98,465,466.98\" style=\"stroke: #383838; stroke-width: 1.0;\"/></a><!--MD5=[4931de25dcb70cd4585e7722db9b3a49]\n",
       "link E3 to E7--><a href=\"psysml:61236c71-f129-4caa-ae88-5567c329f4ce\" target=\"_top\" title=\"psysml:61236c71-f129-4caa-ae88-5567c329f4ce\" xlink:actuate=\"onRequest\" xlink:href=\"psysml:61236c71-f129-4caa-ae88-5567c329f4ce\" xlink:show=\"new\" xlink:title=\"psysml:61236c71-f129-4caa-ae88-5567c329f4ce\" xlink:type=\"simple\"><path d=\"M368.24,69.35 C378.05,75.95 396,90.42 396,108 C396,108 396,108 396,136 C396,166.99 397.07,203.63 397.64,221.15 \" fill=\"none\" id=\"E3-&gt;E7\" style=\"stroke: #383838; stroke-width: 1.0;\"/><polygon fill=\"#383838\" points=\"397.82,226.32,401.5093,217.1882,397.6487,221.3229,393.514,217.4623,397.82,226.32\" style=\"stroke: #383838; stroke-width: 1.0;\"/><text fill=\"#000000\" font-family=\"sans-serif\" font-size=\"13\" lengthAdjust=\"spacingAndGlyphs\" textLength=\"5\" x=\"391.2455\" y=\"215.5876\">*</text></a><!--MD5=[1b7591eae5389033d8d09a9d6721a717]\n",
       "link E4 to E5--><a href=\"psysml:58c16ac3-eece-47f8-8131-dc230202c6ba\" target=\"_top\" title=\"psysml:58c16ac3-eece-47f8-8131-dc230202c6ba\" xlink:actuate=\"onRequest\" xlink:href=\"psysml:58c16ac3-eece-47f8-8131-dc230202c6ba\" xlink:show=\"new\" xlink:title=\"psysml:58c16ac3-eece-47f8-8131-dc230202c6ba\" xlink:type=\"simple\"><path d=\"M554,200.06 C554,201.56 554,203.09 554,204.62 \" fill=\"none\" id=\"E4-&gt;E5\" style=\"stroke: #383838; stroke-width: 1.0;\"/><polygon fill=\"#383838\" points=\"554,209.79,558,200.79,554,204.79,550,200.79,554,209.79\" style=\"stroke: #383838; stroke-width: 1.0;\"/><text fill=\"#000000\" font-family=\"sans-serif\" font-size=\"13\" lengthAdjust=\"spacingAndGlyphs\" textLength=\"5\" x=\"542.0742\" y=\"199.1783\">*</text></a><!--MD5=[9120cf2e5df3bff93db8f754bbbc09b4]\n",
       "link E5 to E6--><a href=\"psysml:3a1caa62-bdcf-4ef7-a570-c485e3a34687\" target=\"_top\" title=\"psysml:3a1caa62-bdcf-4ef7-a570-c485e3a34687\" xlink:actuate=\"onRequest\" xlink:href=\"psysml:3a1caa62-bdcf-4ef7-a570-c485e3a34687\" xlink:show=\"new\" xlink:title=\"psysml:3a1caa62-bdcf-4ef7-a570-c485e3a34687\" xlink:type=\"simple\"><path d=\"M506.55,255.18 C497.35,259.38 487.5725,263.845 477.9638,268.2338 C476.7627,268.7823 475.5642,269.3297 474.3698,269.8753 C474.2952,269.9094 474.2206,269.9435 474.1459,269.9776 \" fill=\"none\" id=\"E5-&gt;E6\" style=\"stroke: #383838; stroke-width: 1.0;\"/><polygon fill=\"#383838\" points=\"474.1459,269.9776,483.9943,269.8767,478.694,267.9002,480.6705,262.5998,474.1459,269.9776\" style=\"stroke: #383838; stroke-width: 1.0;\"/><text fill=\"#000000\" font-family=\"sans-serif\" font-size=\"13\" lengthAdjust=\"spacingAndGlyphs\" textLength=\"5\" x=\"450.39\" y=\"278.3251\">*</text></a><!--MD5=[0a839d0f80c2d72d4b9b307f046d0de8]\n",
       "link E6 to E8--><a href=\"psysml:feb9cc29-9f29-4fb0-8d08-8e20ed9b04ae\" target=\"_top\" title=\"psysml:feb9cc29-9f29-4fb0-8d08-8e20ed9b04ae\" xlink:actuate=\"onRequest\" xlink:href=\"psysml:feb9cc29-9f29-4fb0-8d08-8e20ed9b04ae\" xlink:show=\"new\" xlink:title=\"psysml:feb9cc29-9f29-4fb0-8d08-8e20ed9b04ae\" xlink:type=\"simple\"><path d=\"M474.1758,334.6415 C474.5082,334.8417 474.8409,335.042 475.1738,335.2425 C485.825,341.6575 496.68,348.195 506.62,354.18 \" fill=\"none\" id=\"E6-&gt;E8\" style=\"stroke: #383838; stroke-width: 1.0;\"/><polygon fill=\"#383838\" points=\"511.06,356.86,505.4005,348.7996,506.7725,354.2875,501.2846,355.6595,511.06,356.86\" style=\"stroke: #383838; stroke-width: 1.0;\"/><text fill=\"#000000\" font-family=\"sans-serif\" font-size=\"13\" lengthAdjust=\"spacingAndGlyphs\" textLength=\"5\" x=\"495.7293\" y=\"346.1427\">*</text></a><!--MD5=[ed10624c06dd9a4fa49ccf290e8b16a8]\n",
       "link E8 to E9--><a href=\"psysml:280430a5-825c-4566-9bf2-c10b78565e95\" target=\"_top\" title=\"psysml:280430a5-825c-4566-9bf2-c10b78565e95\" xlink:actuate=\"onRequest\" xlink:href=\"psysml:280430a5-825c-4566-9bf2-c10b78565e95\" xlink:show=\"new\" xlink:title=\"psysml:280430a5-825c-4566-9bf2-c10b78565e95\" xlink:type=\"simple\"><path d=\"M513.65,402.06 C510.01,404.41 506.3,406.81 502.62,409.19 \" fill=\"none\" id=\"E8-&gt;E9\" style=\"stroke: #383838; stroke-width: 1.0;\"/><polygon fill=\"#383838\" points=\"498.32,411.96,508.05,410.4345,502.5194,409.2461,503.7078,403.7155,498.32,411.96\" style=\"stroke: #383838; stroke-width: 1.0;\"/><text fill=\"#000000\" font-family=\"sans-serif\" font-size=\"13\" lengthAdjust=\"spacingAndGlyphs\" textLength=\"5\" x=\"464.323\" y=\"401.0172\">*</text></a><!--MD5=[fc5755971f6b272161fceed019a3a43d]\n",
       "@startuml\r\n",
       "skinparam ranksep 10\r\n",
       "skinparam rectangle {\r\n",
       " backgroundColor<<block>> LightGreen\r\n",
       "}\r\n",
       "skinparam monochrome true\r\n",
       "skinparam classbackgroundcolor white\r\n",
       "skinparam shadowing false\r\n",
       "skinparam wrapWidth 300\r\n",
       "hide circle\r\n",
       "\r\n",
       "package \"eVehicle_Behavior\" as E1  [[psysml:2b183623-8cd2-4cc3-bedf-ced34c1bb521 ]]  {\r\n",
       "rec usage \"chargeBattery\" as E2  <<(T,blue) action>> [[psysml:28b2c3fd-c4b3-43b6-9891-4120b405061d ]] {\r\n",
       "portin \"power\" as E3  [[psysml:7ad53b2e-e306-460c-90fa-65c123e05b2e ]] \r\n",
       "rec usage \"insert charging plug\" as E4  <<(T,blue) action>> [[psysml:72ad9505-f7fb-45a4-9d6f-7788d3676f56 ]] {\r\n",
       "}\r\n",
       "\r\n",
       "rec usage \"secure charging plug\" as E5  <<(T,blue) action>> [[psysml:e0f80b30-7a3e-48cb-9703-f60d301bd642 ]] {\r\n",
       "}\r\n",
       "\r\n",
       "rec usage \"charge\" as E6  <<(T,blue) action>> [[psysml:1b1a6f5e-293e-4fff-ae42-c260527c98e6 ]] {\r\n",
       "portin \"power\" as E7  [[psysml:4db5db77-7751-4ed8-91ff-ac2cd5e23e61 ]] \r\n",
       "}\r\n",
       "\r\n",
       "rec usage \"unsecure charging plug\" as E8  <<(T,blue) action>> [[psysml:e2134b4a-5c1f-459d-ae68-4b45aa52dcd3 ]] {\r\n",
       "}\r\n",
       "\r\n",
       "rec usage \"removePlug\" as E9  <<(T,blue) action>> [[psysml:37515a39-070a-4a2d-9b48-638c90e32237 ]] {\r\n",
       "}\r\n",
       "\r\n",
       "[*] - -> E4 [[psysml:a19b069b-dc60-4673-af4e-d97e4ea69d45 ]] \r\n",
       "E9 - -> [*] [[psysml:b977fa1b-ccec-4b86-85da-9761e02818d4 ]] \r\n",
       "}\r\n",
       "\r\n",
       "rec def \"Remove charging plug\" as E10  <<(T,blue) action  def>> [[psysml:2d75b5bb-822e-45e2-b704-ad5ff36cc982 ]] {\r\n",
       "}\r\n",
       "\r\n",
       "def \"ElectricalEnergy\" as E11  <<(T,blue) item  def>> [[psysml:5df70425-6157-438c-8182-b75d1f69a494 ]] \r\n",
       "}\r\n",
       "E3 - -> \"*\"E7 [[psysml:61236c71-f129-4caa-ae88-5567c329f4ce ]] \r\n",
       "E4 - -> \"*\"E5 [[psysml:58c16ac3-eece-47f8-8131-dc230202c6ba ]] \r\n",
       "E5 - -> \"*\"E6 [[psysml:3a1caa62-bdcf-4ef7-a570-c485e3a34687 ]] \r\n",
       "E6 - -> \"*\"E8 [[psysml:feb9cc29-9f29-4fb0-8d08-8e20ed9b04ae ]] \r\n",
       "E8 - -> \"*\"E9 [[psysml:280430a5-825c-4566-9bf2-c10b78565e95 ]] \r\n",
       "@enduml\r\n",
       "\n",
       "PlantUML version 1.2020.13(Sat Jun 13 14:26:38 CEST 2020)\n",
       "(EPL source distribution)\n",
       "Java Runtime: OpenJDK Runtime Environment\n",
       "JVM: OpenJDK 64-Bit Server VM\n",
       "Default Encoding: Cp1252\n",
       "Language: en\n",
       "Country: US\n",
       "--></g></svg>"
      ]
     },
     "execution_count": 28,
     "metadata": {},
     "output_type": "execute_result"
    }
   ],
   "source": [
    "%viz eVehicle_Behavior"
   ]
  },
  {
   "cell_type": "markdown",
   "metadata": {},
   "source": [
    "## Connection item flows with parameters<a name=\"sysmlv2itempara\"></a>\n",
    "\n",
    "Connecting an structural item flow to an input parameter of an action. For simplicity, only the relevant elements are modeled below:"
   ]
  },
  {
   "cell_type": "code",
   "execution_count": 29,
   "metadata": {},
   "outputs": [
    {
     "data": {
      "text/plain": [
       "Package eVehicleSystem (34bb494b-f0fd-4f26-b70e-1469e05d140c)\n"
      ]
     },
     "execution_count": 29,
     "metadata": {},
     "output_type": "execute_result"
    }
   ],
   "source": [
    "package eVehicleSystem {\n",
    "    \n",
    "    part eVehicle {\n",
    "        port powerPort : PowerInPort;\n",
    "        \n",
    "        flow of ElectricalEnergy from eVehicle.powerPort to chargeBattery.power;\n",
    "    \n",
    "        action chargeBattery {\n",
    "            in item power : ElectricalEnergy;\n",
    "        }\n",
    "    }\n",
    "    \n",
    "    port def PowerInPort {\n",
    "        in energy : ElectricalEnergy;\n",
    "    }\n",
    "    item def ElectricalEnergy;\n",
    "}"
   ]
  },
  {
   "cell_type": "code",
   "execution_count": 30,
   "metadata": {},
   "outputs": [
    {
     "data": {
      "image/svg+xml": [
       "<?xml version=\"1.0\" encoding=\"UTF-8\" standalone=\"no\"?><svg xmlns=\"http://www.w3.org/2000/svg\" xmlns:xlink=\"http://www.w3.org/1999/xlink\" contentScriptType=\"application/ecmascript\" contentStyleType=\"text/css\" height=\"170px\" preserveAspectRatio=\"none\" style=\"width:367px;height:170px;\" version=\"1.1\" viewBox=\"0 0 367 170\" width=\"367px\" zoomAndPan=\"magnify\"><defs/><g><!--MD5=[fbc87193dbaf4d95561dea2c320d4a47]\n",
       "cluster E1--><a href=\"psysml:7d206c9e-e133-473a-a9c6-893ef50049c4\" target=\"_top\" title=\"psysml:7d206c9e-e133-473a-a9c6-893ef50049c4\" xlink:actuate=\"onRequest\" xlink:href=\"psysml:7d206c9e-e133-473a-a9c6-893ef50049c4\" xlink:show=\"new\" xlink:title=\"psysml:7d206c9e-e133-473a-a9c6-893ef50049c4\" xlink:type=\"simple\"><rect fill=\"#FFFFFF\" height=\"146\" id=\"E1\" rx=\"10\" ry=\"10\" style=\"stroke: #383838; stroke-width: 1.5;\" width=\"272\" x=\"7\" y=\"13.1855\"/><rect fill=\"#F8F8F8\" height=\"25.0938\" rx=\"10\" ry=\"10\" style=\"stroke: #F8F8F8; stroke-width: 1.5;\" width=\"272\" x=\"7\" y=\"13.1855\"/><rect fill=\"#F8F8F8\" height=\"10\" style=\"stroke: #F8F8F8; stroke-width: 1.5;\" width=\"272\" x=\"7\" y=\"28.2793\"/><rect fill=\"none\" height=\"146\" id=\"E1\" rx=\"10\" ry=\"10\" style=\"stroke: #383838; stroke-width: 1.5;\" width=\"272\" x=\"7\" y=\"13.1855\"/><text fill=\"#000000\" font-family=\"sans-serif\" font-size=\"12\" lengthAdjust=\"spacingAndGlyphs\" textLength=\"47\" x=\"119.5\" y=\"30.6426\">eVehicle</text><line style=\"stroke: #383838; stroke-width: 1.0;\" x1=\"7\" x2=\"279\" y1=\"38.2793\" y2=\"38.2793\"/></a><!--MD5=[d5e69f78d87373223dbae638b30a9c99]\n",
       "cluster E3--><a href=\"psysml:9d2dbf63-962d-400e-9be8-2a850e50339b\" target=\"_top\" title=\"psysml:9d2dbf63-962d-400e-9be8-2a850e50339b\" xlink:actuate=\"onRequest\" xlink:href=\"psysml:9d2dbf63-962d-400e-9be8-2a850e50339b\" xlink:show=\"new\" xlink:title=\"psysml:9d2dbf63-962d-400e-9be8-2a850e50339b\" xlink:type=\"simple\"><rect fill=\"#FFFFFF\" height=\"100\" id=\"E3\" rx=\"10\" ry=\"10\" style=\"stroke: #383838; stroke-width: 1.5;\" width=\"137\" x=\"109\" y=\"43.1855\"/><rect fill=\"#F8F8F8\" height=\"40.1875\" rx=\"10\" ry=\"10\" style=\"stroke: #F8F8F8; stroke-width: 1.5;\" width=\"137\" x=\"109\" y=\"43.1855\"/><rect fill=\"#F8F8F8\" height=\"10\" style=\"stroke: #F8F8F8; stroke-width: 1.5;\" width=\"137\" x=\"109\" y=\"73.373\"/><rect fill=\"none\" height=\"100\" id=\"E3\" rx=\"10\" ry=\"10\" style=\"stroke: #383838; stroke-width: 1.5;\" width=\"137\" x=\"109\" y=\"43.1855\"/><text fill=\"#000000\" font-family=\"sans-serif\" font-size=\"12\" font-style=\"italic\" lengthAdjust=\"spacingAndGlyphs\" textLength=\"47\" x=\"154\" y=\"60.6426\">«action»</text><text fill=\"#000000\" font-family=\"sans-serif\" font-size=\"12\" lengthAdjust=\"spacingAndGlyphs\" textLength=\"75\" x=\"140\" y=\"75.7363\">chargeBattery</text><line style=\"stroke: #383838; stroke-width: 1.0;\" x1=\"109\" x2=\"246\" y1=\"83.373\" y2=\"83.373\"/></a><text fill=\"#000000\" font-family=\"sans-serif\" font-size=\"14\" lengthAdjust=\"spacingAndGlyphs\" textLength=\"148\" x=\"203\" y=\"46.1094\">powerPort: PowerInPort</text><rect fill=\"#383838\" height=\"12\" style=\"stroke: #F8F8F8; stroke-width: 1.5;\" width=\"12\" x=\"273\" y=\"61.1855\"/><text fill=\"#000000\" font-family=\"sans-serif\" font-size=\"14\" lengthAdjust=\"spacingAndGlyphs\" textLength=\"38\" x=\"209\" y=\"22.1094\">power</text><rect fill=\"#383838\" height=\"12\" style=\"stroke: #F8F8F8; stroke-width: 1.5;\" width=\"12\" x=\"222\" y=\"37.1855\"/><!--MD5=[4d03bb2d0377dc85ccfab60ff574652b]\n",
       "link E2 to E4--><a href=\"psysml:41d100c1-0b34-4e08-9f51-76726b1e1093\" target=\"_top\" title=\"psysml:41d100c1-0b34-4e08-9f51-76726b1e1093\" xlink:actuate=\"onRequest\" xlink:href=\"psysml:41d100c1-0b34-4e08-9f51-76726b1e1093\" xlink:show=\"new\" xlink:title=\"psysml:41d100c1-0b34-4e08-9f51-76726b1e1093\" xlink:type=\"simple\"><path d=\"M272.7,63.4655 C264.26,59.8255 249.16,53.3155 238.87,48.8755 \" fill=\"none\" id=\"E2-&gt;E4\" style=\"stroke: #383838; stroke-width: 1.0;\"/><polygon fill=\"#383838\" points=\"234.25,46.8855,240.9277,54.1249,238.8405,48.8672,244.0983,46.78,234.25,46.8855\" style=\"stroke: #383838; stroke-width: 1.0;\"/><text fill=\"#000000\" font-family=\"sans-serif\" font-size=\"13\" lengthAdjust=\"spacingAndGlyphs\" textLength=\"103\" x=\"149.6\" y=\"69.7207\">: ElectricalEnergy</text><text fill=\"#000000\" font-family=\"sans-serif\" font-size=\"13\" lengthAdjust=\"spacingAndGlyphs\" textLength=\"5\" x=\"241.9063\" y=\"40.772\">*</text></a><!--MD5=[d04d9dc96a626fd354436cc4eab8976f]\n",
       "@startuml\r\n",
       "skinparam ranksep 10\r\n",
       "skinparam rectangle {\r\n",
       " backgroundColor<<block>> LightGreen\r\n",
       "}\r\n",
       "skinparam monochrome true\r\n",
       "skinparam classbackgroundcolor white\r\n",
       "skinparam shadowing false\r\n",
       "skinparam wrapWidth 300\r\n",
       "hide circle\r\n",
       "\r\n",
       "rec usage \"eVehicle\" as E1  [[psysml:7d206c9e-e133-473a-a9c6-893ef50049c4 ]] {\r\n",
       "portout \"powerPort: PowerInPort \" as E2  <<(T,blue) port>> [[psysml:2659f9ed-2778-4e08-a60b-ec05860c70ef ]] \r\n",
       "rec usage \"chargeBattery\" as E3  <<(T,blue) action>> [[psysml:9d2dbf63-962d-400e-9be8-2a850e50339b ]] {\r\n",
       "portin \"power\" as E4  [[psysml:76f13171-1df9-4fa0-9db6-c029b82de512 ]] \r\n",
       "}\r\n",
       "\r\n",
       "}\r\n",
       "E2 - -> \"*\"E4 [[psysml:41d100c1-0b34-4e08-9f51-76726b1e1093 ]] : : ElectricalEnergy\r\n",
       "@enduml\r\n",
       "\n",
       "PlantUML version 1.2020.13(Sat Jun 13 14:26:38 CEST 2020)\n",
       "(EPL source distribution)\n",
       "Java Runtime: OpenJDK Runtime Environment\n",
       "JVM: OpenJDK 64-Bit Server VM\n",
       "Default Encoding: Cp1252\n",
       "Language: en\n",
       "Country: US\n",
       "--></g></svg>"
      ]
     },
     "execution_count": 30,
     "metadata": {},
     "output_type": "execute_result"
    }
   ],
   "source": [
    "%viz --view=interconnection eVehicleSystem.eVehicle"
   ]
  },
  {
   "cell_type": "markdown",
   "metadata": {},
   "source": [
    "## Modeling variants<a name=\"sysmlv2modvariants\"></a>\n",
    "\n",
    "SysML v2 provides model elements for variants. This is a new feature compared to SysML v2. Following the typical approach of SysML, these are only generic concepts, but they form the foundation for tools to provide functions for them and for language extensions to be defined."
   ]
  },
  {
   "cell_type": "code",
   "execution_count": 61,
   "metadata": {},
   "outputs": [
    {
     "data": {
      "text/plain": [
       "Package eVehicle_LogicalArchitecture (68309a7b-6d8c-41b8-8d2c-5566595cb5c8)\n"
      ]
     },
     "execution_count": 61,
     "metadata": {},
     "output_type": "execute_result"
    }
   ],
   "source": [
    "package eVehicle_LogicalArchitecture {\n",
    "    \n",
    "    import eVehicleLibrary::*;\n",
    "    \n",
    "    part def Wheel :> ShapeItems::CircularCylinder {\n",
    "        import SI::*;\n",
    "        :>> radius := 325 [mm];\n",
    "\n",
    "        constraint pressureConstraint : WheelPressureConstraint (\n",
    "            currentPressure = currentPressure,\n",
    "            limitPressure = maxPressure);\n",
    "        attribute currentPressure : ScalarValues::Real;\n",
    "        attribute maxPressure : ScalarValues::Real;\n",
    "    }\n",
    "    \n",
    "    part def FrontWheel :> Wheel {\n",
    "        attribute redefines maxPressure = 2.0;\n",
    "    }\n",
    "    part def RearWheel :> Wheel {\n",
    "        attribute redefines maxPressure = 2.5;\n",
    "    }\n",
    "    \n",
    "    constraint def WheelPressureConstraint (\n",
    "        currentPressure : ScalarValues::Real,\n",
    "        limitPressure : ScalarValues::Real) {\n",
    "            currentPressure <= limitPressure\n",
    "    }  \n",
    "    \n",
    "    part def Battery {\n",
    "        attribute capacity : BatteryCapacity;\n",
    "    }\n",
    "    \n",
    "    part def Engine;   \n",
    "    \n",
    "    part eVehicle {    \n",
    "        attribute maxSpeed : Speed = 142;\n",
    "        part body;\n",
    "        part battery : Battery {\n",
    "            attribute redefines capacity = 42;\n",
    "            port powerOut : PowerOutPort;\n",
    "        }\n",
    "        part engine : Engine {\n",
    "            port powerIn : ~PowerOutPort;\n",
    "        }\n",
    "        part frontAxis;\n",
    "        part rearAxis;\n",
    "        part frontWheel : Wheel[2];\n",
    "        part rearWheel : Wheel[2];\n",
    "        \n",
    "        interface : PowerInterface connect \n",
    "            supplierPort :> battery.powerOut to \n",
    "            consumerPort :> engine.powerIn;\n",
    "        connect engine to frontAxis;\n",
    "        connect frontAxis to frontWheel;\n",
    "        connect rearAxis to rearWheel;\n",
    "        connect body to battery;\n",
    "        connect body to engine;\n",
    "        connect body to frontAxis;\n",
    "        connect body to rearAxis;\n",
    "    }\n",
    "}"
   ]
  },
  {
   "cell_type": "code",
   "execution_count": 36,
   "metadata": {},
   "outputs": [
    {
     "data": {
      "image/svg+xml": [
       "<?xml version=\"1.0\" encoding=\"UTF-8\" standalone=\"no\"?><svg xmlns=\"http://www.w3.org/2000/svg\" xmlns:xlink=\"http://www.w3.org/1999/xlink\" contentScriptType=\"application/ecmascript\" contentStyleType=\"text/css\" height=\"1112px\" preserveAspectRatio=\"none\" style=\"width:854px;height:1112px;\" version=\"1.1\" viewBox=\"0 0 854 1112\" width=\"854px\" zoomAndPan=\"magnify\"><defs/><g><!--MD5=[fbc87193dbaf4d95561dea2c320d4a47]\n",
       "cluster E1--><a href=\"psysml:f64efd58-b274-4d1d-b33f-b4a1b18e2abf\" target=\"_top\" title=\"psysml:f64efd58-b274-4d1d-b33f-b4a1b18e2abf\" xlink:actuate=\"onRequest\" xlink:href=\"psysml:f64efd58-b274-4d1d-b33f-b4a1b18e2abf\" xlink:show=\"new\" xlink:title=\"psysml:f64efd58-b274-4d1d-b33f-b4a1b18e2abf\" xlink:type=\"simple\"><polygon fill=\"#FFFFFF\" points=\"16,6,228,6,235,29.6094,832,29.6094,832,1100,16,1100,16,6\" style=\"stroke: #000000; stroke-width: 1.5;\"/><line style=\"stroke: #000000; stroke-width: 1.5;\" x1=\"16\" x2=\"235\" y1=\"29.6094\" y2=\"29.6094\"/><text fill=\"#000000\" font-family=\"sans-serif\" font-size=\"14\" font-weight=\"bold\" lengthAdjust=\"spacingAndGlyphs\" textLength=\"206\" x=\"20\" y=\"22.5332\">eVehicle_LogicalArchitecture</text></a><!--MD5=[e4f7fae6ed58524ba242bb0b0d3be6b7]\n",
       "cluster E2--><a href=\"psysml:d8520b7a-5138-45e6-84fb-98287d7084a0\" target=\"_top\" title=\"psysml:d8520b7a-5138-45e6-84fb-98287d7084a0\" xlink:actuate=\"onRequest\" xlink:href=\"psysml:d8520b7a-5138-45e6-84fb-98287d7084a0\" xlink:show=\"new\" xlink:title=\"psysml:d8520b7a-5138-45e6-84fb-98287d7084a0\" xlink:type=\"simple\"><rect fill=\"#FFFFFF\" height=\"180\" id=\"E2\" style=\"stroke: #383838; stroke-width: 1.5;\" width=\"752\" x=\"48\" y=\"835\"/><rect fill=\"#F8F8F8\" height=\"40.1875\" style=\"stroke: #383838; stroke-width: 1.5;\" width=\"752\" x=\"48\" y=\"835\"/><text fill=\"#000000\" font-family=\"sans-serif\" font-size=\"12\" font-style=\"italic\" lengthAdjust=\"spacingAndGlyphs\" textLength=\"58\" x=\"395\" y=\"852.457\">«part  def»</text><text fill=\"#000000\" font-family=\"sans-serif\" font-size=\"12\" lengthAdjust=\"spacingAndGlyphs\" textLength=\"35\" x=\"406.5\" y=\"867.5508\">Wheel</text></a><!--MD5=[168fadf3d0c3fd93dd5d6da1b1d7ab76]\n",
       "cluster E7--><a href=\"psysml:152b7e6f-4f89-423f-be3a-94fb6e3a134d\" target=\"_top\" title=\"psysml:152b7e6f-4f89-423f-be3a-94fb6e3a134d\" xlink:actuate=\"onRequest\" xlink:href=\"psysml:152b7e6f-4f89-423f-be3a-94fb6e3a134d\" xlink:show=\"new\" xlink:title=\"psysml:152b7e6f-4f89-423f-be3a-94fb6e3a134d\" xlink:type=\"simple\"><rect fill=\"#FFFFFF\" height=\"134\" id=\"E7\" style=\"stroke: #383838; stroke-width: 1.5;\" width=\"151\" x=\"648\" y=\"661\"/><rect fill=\"#F8F8F8\" height=\"40.1875\" style=\"stroke: #383838; stroke-width: 1.5;\" width=\"151\" x=\"648\" y=\"661\"/><text fill=\"#000000\" font-family=\"sans-serif\" font-size=\"12\" font-style=\"italic\" lengthAdjust=\"spacingAndGlyphs\" textLength=\"58\" x=\"694.5\" y=\"678.457\">«part  def»</text><text fill=\"#000000\" font-family=\"sans-serif\" font-size=\"12\" lengthAdjust=\"spacingAndGlyphs\" textLength=\"63\" x=\"692\" y=\"693.5508\">FrontWheel</text></a><!--MD5=[7f149f147074ac12df2cb0a7728a5fb0]\n",
       "cluster E9--><a href=\"psysml:6fd7d075-5eec-4dde-870b-041d5a9077c4\" target=\"_top\" title=\"psysml:6fd7d075-5eec-4dde-870b-041d5a9077c4\" xlink:actuate=\"onRequest\" xlink:href=\"psysml:6fd7d075-5eec-4dde-870b-041d5a9077c4\" xlink:show=\"new\" xlink:title=\"psysml:6fd7d075-5eec-4dde-870b-041d5a9077c4\" xlink:type=\"simple\"><rect fill=\"#FFFFFF\" height=\"134\" id=\"E9\" style=\"stroke: #383838; stroke-width: 1.5;\" width=\"151\" x=\"457\" y=\"661\"/><rect fill=\"#F8F8F8\" height=\"40.1875\" style=\"stroke: #383838; stroke-width: 1.5;\" width=\"151\" x=\"457\" y=\"661\"/><text fill=\"#000000\" font-family=\"sans-serif\" font-size=\"12\" font-style=\"italic\" lengthAdjust=\"spacingAndGlyphs\" textLength=\"58\" x=\"503.5\" y=\"678.457\">«part  def»</text><text fill=\"#000000\" font-family=\"sans-serif\" font-size=\"12\" lengthAdjust=\"spacingAndGlyphs\" textLength=\"62\" x=\"501.5\" y=\"693.5508\">RearWheel</text></a><!--MD5=[47bea60c1a0ac6c1143df232041969c0]\n",
       "cluster E12--><a href=\"psysml:0d074719-29f4-4261-8b2b-913df0558af3\" target=\"_top\" title=\"psysml:0d074719-29f4-4261-8b2b-913df0558af3\" xlink:actuate=\"onRequest\" xlink:href=\"psysml:0d074719-29f4-4261-8b2b-913df0558af3\" xlink:show=\"new\" xlink:title=\"psysml:0d074719-29f4-4261-8b2b-913df0558af3\" xlink:type=\"simple\"><rect fill=\"#FFFFFF\" height=\"134\" id=\"E12\" style=\"stroke: #383838; stroke-width: 1.5;\" width=\"211\" x=\"568\" y=\"286\"/><rect fill=\"#F8F8F8\" height=\"40.1875\" style=\"stroke: #383838; stroke-width: 1.5;\" width=\"211\" x=\"568\" y=\"286\"/><text fill=\"#000000\" font-family=\"sans-serif\" font-size=\"12\" font-style=\"italic\" lengthAdjust=\"spacingAndGlyphs\" textLength=\"58\" x=\"644.5\" y=\"303.457\">«part  def»</text><text fill=\"#000000\" font-family=\"sans-serif\" font-size=\"12\" lengthAdjust=\"spacingAndGlyphs\" textLength=\"37\" x=\"655\" y=\"318.5508\">Battery</text></a><!--MD5=[ab3548ab6224ff035c4047a4d30b7567]\n",
       "cluster E15--><a href=\"psysml:4ef7828c-e15d-4182-811b-e82e602f3931\" target=\"_top\" title=\"psysml:4ef7828c-e15d-4182-811b-e82e602f3931\" xlink:actuate=\"onRequest\" xlink:href=\"psysml:4ef7828c-e15d-4182-811b-e82e602f3931\" xlink:show=\"new\" xlink:title=\"psysml:4ef7828c-e15d-4182-811b-e82e602f3931\" xlink:type=\"simple\"><rect fill=\"#FFFFFF\" height=\"733\" id=\"E15\" rx=\"10\" ry=\"10\" style=\"stroke: #383838; stroke-width: 1.5;\" width=\"385\" x=\"40\" y=\"50\"/><rect fill=\"#F8F8F8\" height=\"25.0938\" rx=\"10\" ry=\"10\" style=\"stroke: #F8F8F8; stroke-width: 1.5;\" width=\"385\" x=\"40\" y=\"50\"/><rect fill=\"#F8F8F8\" height=\"10\" style=\"stroke: #F8F8F8; stroke-width: 1.5;\" width=\"385\" x=\"40\" y=\"65.0938\"/><rect fill=\"none\" height=\"733\" id=\"E15\" rx=\"10\" ry=\"10\" style=\"stroke: #383838; stroke-width: 1.5;\" width=\"385\" x=\"40\" y=\"50\"/><text fill=\"#000000\" font-family=\"sans-serif\" font-size=\"12\" lengthAdjust=\"spacingAndGlyphs\" textLength=\"47\" x=\"209\" y=\"67.457\">eVehicle</text><line style=\"stroke: #383838; stroke-width: 1.0;\" x1=\"40\" x2=\"425\" y1=\"75.0938\" y2=\"75.0938\"/></a><!--MD5=[8f9210536e795b388518d3fe69e1cfa6]\n",
       "cluster E18--><a href=\"psysml:56bcf3f4-332f-4619-aad2-69570654cff6\" target=\"_top\" title=\"psysml:56bcf3f4-332f-4619-aad2-69570654cff6\" xlink:actuate=\"onRequest\" xlink:href=\"psysml:56bcf3f4-332f-4619-aad2-69570654cff6\" xlink:show=\"new\" xlink:title=\"psysml:56bcf3f4-332f-4619-aad2-69570654cff6\" xlink:type=\"simple\"><rect fill=\"#FFFFFF\" height=\"300\" id=\"E18\" rx=\"10\" ry=\"10\" style=\"stroke: #383838; stroke-width: 1.5;\" width=\"142\" x=\"141\" y=\"150\"/><rect fill=\"#F8F8F8\" height=\"25.0938\" rx=\"10\" ry=\"10\" style=\"stroke: #F8F8F8; stroke-width: 1.5;\" width=\"142\" x=\"141\" y=\"150\"/><rect fill=\"#F8F8F8\" height=\"10\" style=\"stroke: #F8F8F8; stroke-width: 1.5;\" width=\"142\" x=\"141\" y=\"165.0938\"/><rect fill=\"none\" height=\"300\" id=\"E18\" rx=\"10\" ry=\"10\" style=\"stroke: #383838; stroke-width: 1.5;\" width=\"142\" x=\"141\" y=\"150\"/><text fill=\"#000000\" font-family=\"sans-serif\" font-size=\"12\" lengthAdjust=\"spacingAndGlyphs\" textLength=\"79\" x=\"172.5\" y=\"167.457\">battery: Battery</text><line style=\"stroke: #383838; stroke-width: 1.0;\" x1=\"141\" x2=\"283\" y1=\"175.0938\" y2=\"175.0938\"/></a><!--MD5=[fff9a9dd1f029f5adabe173397837fc6]\n",
       "cluster E21--><a href=\"psysml:58b2600e-9bae-413b-9e5b-886a226f0964\" target=\"_top\" title=\"psysml:58b2600e-9bae-413b-9e5b-886a226f0964\" xlink:actuate=\"onRequest\" xlink:href=\"psysml:58b2600e-9bae-413b-9e5b-886a226f0964\" xlink:show=\"new\" xlink:title=\"psysml:58b2600e-9bae-413b-9e5b-886a226f0964\" xlink:type=\"simple\"><rect fill=\"#FFFFFF\" height=\"74\" id=\"E21\" rx=\"10\" ry=\"10\" style=\"stroke: #383838; stroke-width: 1.5;\" width=\"170\" x=\"74\" y=\"502\"/><rect fill=\"#F8F8F8\" height=\"25.0938\" rx=\"10\" ry=\"10\" style=\"stroke: #F8F8F8; stroke-width: 1.5;\" width=\"170\" x=\"74\" y=\"502\"/><rect fill=\"#F8F8F8\" height=\"10\" style=\"stroke: #F8F8F8; stroke-width: 1.5;\" width=\"170\" x=\"74\" y=\"517.0938\"/><rect fill=\"none\" height=\"74\" id=\"E21\" rx=\"10\" ry=\"10\" style=\"stroke: #383838; stroke-width: 1.5;\" width=\"170\" x=\"74\" y=\"502\"/><text fill=\"#000000\" font-family=\"sans-serif\" font-size=\"12\" lengthAdjust=\"spacingAndGlyphs\" textLength=\"83\" x=\"117.5\" y=\"519.457\">engine: Engine</text><line style=\"stroke: #383838; stroke-width: 1.0;\" x1=\"74\" x2=\"244\" y1=\"527.0938\" y2=\"527.0938\"/></a><g id=\"E1.E11\"><a href=\"psysml:b45fc01c-3a6d-4235-b38c-8575182ea686\" target=\"_top\" title=\"psysml:b45fc01c-3a6d-4235-b38c-8575182ea686\" xlink:actuate=\"onRequest\" xlink:href=\"psysml:b45fc01c-3a6d-4235-b38c-8575182ea686\" xlink:show=\"new\" xlink:title=\"psysml:b45fc01c-3a6d-4235-b38c-8575182ea686\" xlink:type=\"simple\"><rect fill=\"#FFFFFF\" height=\"45.1875\" id=\"E11\" style=\"stroke: #383838; stroke-width: 1.5;\" width=\"154\" x=\"463\" y=\"1039\"/><rect fill=\"#F8F8F8\" height=\"40.1875\" style=\"stroke: #383838; stroke-width: 1.5;\" width=\"154\" x=\"463\" y=\"1039\"/><text fill=\"#000000\" font-family=\"sans-serif\" font-size=\"12\" font-style=\"italic\" lengthAdjust=\"spacingAndGlyphs\" textLength=\"90\" x=\"495\" y=\"1056.457\">«constraint  def»</text><text fill=\"#000000\" font-family=\"sans-serif\" font-size=\"12\" lengthAdjust=\"spacingAndGlyphs\" textLength=\"143\" x=\"468.5\" y=\"1071.5508\">WheelPressureConstraint</text></a></g><!--MD5=[09b614a08d8cba4a07c9adeb5e0fee81]\n",
       "class E3--><a href=\"psysml:8ad011c6-af18-4860-a3d9-bbe40f98b558\" target=\"_top\" title=\"psysml:8ad011c6-af18-4860-a3d9-bbe40f98b558\" xlink:actuate=\"onRequest\" xlink:href=\"psysml:8ad011c6-af18-4860-a3d9-bbe40f98b558\" xlink:show=\"new\" xlink:title=\"psysml:8ad011c6-af18-4860-a3d9-bbe40f98b558\" xlink:type=\"simple\"><rect fill=\"#FFFFFF\" height=\"56.1875\" id=\"E3\" rx=\"10\" ry=\"10\" style=\"stroke: #383838; stroke-width: 1.5;\" width=\"68\" x=\"708\" y=\"916\"/><text fill=\"#000000\" font-family=\"sans-serif\" font-size=\"12\" font-style=\"italic\" lengthAdjust=\"spacingAndGlyphs\" textLength=\"66\" x=\"709\" y=\"933.457\">«reference»</text><text fill=\"#000000\" font-family=\"sans-serif\" font-size=\"12\" lengthAdjust=\"spacingAndGlyphs\" textLength=\"35\" x=\"723\" y=\"948.5508\">radius</text><line style=\"stroke: #383838; stroke-width: 1.5;\" x1=\"709\" x2=\"775\" y1=\"956.1875\" y2=\"956.1875\"/><line style=\"stroke: #383838; stroke-width: 1.5;\" x1=\"709\" x2=\"775\" y1=\"964.1875\" y2=\"964.1875\"/></a><!--MD5=[ebbe1d658d1005bcc118a6aa81145e00]\n",
       "class E4--><a href=\"psysml:57d956ba-df4a-4843-9f2f-b8ce6b71006a\" target=\"_top\" title=\"psysml:57d956ba-df4a-4843-9f2f-b8ce6b71006a\" xlink:actuate=\"onRequest\" xlink:href=\"psysml:57d956ba-df4a-4843-9f2f-b8ce6b71006a\" xlink:show=\"new\" xlink:title=\"psysml:57d956ba-df4a-4843-9f2f-b8ce6b71006a\" xlink:type=\"simple\"><rect fill=\"#FFFFFF\" height=\"93.6953\" id=\"E4\" rx=\"10\" ry=\"10\" style=\"stroke: #383838; stroke-width: 1.5;\" width=\"265\" x=\"407.5\" y=\"897\"/><text fill=\"#000000\" font-family=\"sans-serif\" font-size=\"12\" font-style=\"italic\" lengthAdjust=\"spacingAndGlyphs\" textLength=\"67\" x=\"506.5\" y=\"914.457\">«constraint»</text><text fill=\"#000000\" font-family=\"sans-serif\" font-size=\"12\" lengthAdjust=\"spacingAndGlyphs\" textLength=\"256\" x=\"410.5\" y=\"929.5508\">pressureConstraint: WheelPressureConstraint</text><line style=\"stroke: #383838; stroke-width: 1.5;\" x1=\"408.5\" x2=\"671.5\" y1=\"937.1875\" y2=\"937.1875\"/><text fill=\"#000000\" font-family=\"sans-serif\" font-size=\"11\" font-weight=\"bold\" lengthAdjust=\"spacingAndGlyphs\" textLength=\"10\" x=\"413.5\" y=\"970.4424\">in</text><text fill=\"#000000\" font-family=\"sans-serif\" font-size=\"11\" lengthAdjust=\"spacingAndGlyphs\" textLength=\"170\" x=\"426.5\" y=\"970.4424\">currentPressure= currentPressure;</text><text fill=\"#000000\" font-family=\"sans-serif\" font-size=\"11\" font-weight=\"bold\" lengthAdjust=\"spacingAndGlyphs\" textLength=\"10\" x=\"413.5\" y=\"984.2783\">in</text><text fill=\"#000000\" font-family=\"sans-serif\" font-size=\"11\" lengthAdjust=\"spacingAndGlyphs\" textLength=\"137\" x=\"426.5\" y=\"984.2783\">limitPressure= maxPressure;</text><line style=\"stroke: #383838; stroke-width: 1.0;\" x1=\"408.5\" x2=\"512.5\" y1=\"952.1055\" y2=\"952.1055\"/><text fill=\"#000000\" font-family=\"sans-serif\" font-size=\"11\" lengthAdjust=\"spacingAndGlyphs\" textLength=\"55\" x=\"512.5\" y=\"956.1064\">parameters</text><line style=\"stroke: #383838; stroke-width: 1.0;\" x1=\"567.5\" x2=\"671.5\" y1=\"952.1055\" y2=\"952.1055\"/></a><!--MD5=[270fce915f116d4de14055a7c1d9a0f3]\n",
       "class E5--><a href=\"psysml:87d0cf81-7644-4a16-8877-9b864c0099cc\" target=\"_top\" title=\"psysml:87d0cf81-7644-4a16-8877-9b864c0099cc\" xlink:actuate=\"onRequest\" xlink:href=\"psysml:87d0cf81-7644-4a16-8877-9b864c0099cc\" xlink:show=\"new\" xlink:title=\"psysml:87d0cf81-7644-4a16-8877-9b864c0099cc\" xlink:type=\"simple\"><rect fill=\"#FFFFFF\" height=\"48.1875\" id=\"E5\" rx=\"10\" ry=\"10\" style=\"stroke: #383838; stroke-width: 1.5;\" width=\"130\" x=\"242\" y=\"920\"/><text fill=\"#000000\" font-family=\"sans-serif\" font-size=\"12\" font-style=\"italic\" lengthAdjust=\"spacingAndGlyphs\" textLength=\"59\" x=\"277.5\" y=\"937.457\">«attribute»</text><text fill=\"#000000\" font-family=\"sans-serif\" font-size=\"12\" lengthAdjust=\"spacingAndGlyphs\" textLength=\"121\" x=\"245\" y=\"952.5508\">currentPressure: Real</text><line style=\"stroke: #383838; stroke-width: 1.5;\" x1=\"243\" x2=\"371\" y1=\"960.1875\" y2=\"960.1875\"/></a><!--MD5=[60a26617385b1d2d0262a64233df1f8d]\n",
       "class E6--><a href=\"psysml:f885f847-17d5-459a-8412-1da16c432266\" target=\"_top\" title=\"psysml:f885f847-17d5-459a-8412-1da16c432266\" xlink:actuate=\"onRequest\" xlink:href=\"psysml:f885f847-17d5-459a-8412-1da16c432266\" xlink:show=\"new\" xlink:title=\"psysml:f885f847-17d5-459a-8412-1da16c432266\" xlink:type=\"simple\"><rect fill=\"#FFFFFF\" height=\"48.1875\" id=\"E6\" rx=\"10\" ry=\"10\" style=\"stroke: #383838; stroke-width: 1.5;\" width=\"115\" x=\"91.5\" y=\"920\"/><text fill=\"#000000\" font-family=\"sans-serif\" font-size=\"12\" font-style=\"italic\" lengthAdjust=\"spacingAndGlyphs\" textLength=\"59\" x=\"119.5\" y=\"937.457\">«attribute»</text><text fill=\"#000000\" font-family=\"sans-serif\" font-size=\"12\" lengthAdjust=\"spacingAndGlyphs\" textLength=\"106\" x=\"94.5\" y=\"952.5508\">maxPressure: Real</text><line style=\"stroke: #383838; stroke-width: 1.5;\" x1=\"92.5\" x2=\"205.5\" y1=\"960.1875\" y2=\"960.1875\"/></a><!--MD5=[b9389687b975829384b498ac4b7476b2]\n",
       "class E8--><a href=\"psysml:6c406bbf-c0a0-4106-9203-c9aefbea1f00\" target=\"_top\" title=\"psysml:6c406bbf-c0a0-4106-9203-c9aefbea1f00\" xlink:actuate=\"onRequest\" xlink:href=\"psysml:6c406bbf-c0a0-4106-9203-c9aefbea1f00\" xlink:show=\"new\" xlink:title=\"psysml:6c406bbf-c0a0-4106-9203-c9aefbea1f00\" xlink:type=\"simple\"><rect fill=\"#FFFFFF\" height=\"48.1875\" id=\"E8\" rx=\"10\" ry=\"10\" style=\"stroke: #383838; stroke-width: 1.5;\" width=\"83\" x=\"691.5\" y=\"723\"/><text fill=\"#000000\" font-family=\"sans-serif\" font-size=\"12\" font-style=\"italic\" lengthAdjust=\"spacingAndGlyphs\" textLength=\"59\" x=\"703.5\" y=\"740.457\">«attribute»</text><text fill=\"#000000\" font-family=\"sans-serif\" font-size=\"12\" lengthAdjust=\"spacingAndGlyphs\" textLength=\"74\" x=\"694.5\" y=\"755.5508\">maxPressure</text><line style=\"stroke: #383838; stroke-width: 1.5;\" x1=\"692.5\" x2=\"773.5\" y1=\"763.1875\" y2=\"763.1875\"/></a><!--MD5=[96f4274e9e20536e775497830990834d]\n",
       "class E10--><a href=\"psysml:db39c1d3-020f-4956-b5f8-937938bc275c\" target=\"_top\" title=\"psysml:db39c1d3-020f-4956-b5f8-937938bc275c\" xlink:actuate=\"onRequest\" xlink:href=\"psysml:db39c1d3-020f-4956-b5f8-937938bc275c\" xlink:show=\"new\" xlink:title=\"psysml:db39c1d3-020f-4956-b5f8-937938bc275c\" xlink:type=\"simple\"><rect fill=\"#FFFFFF\" height=\"48.1875\" id=\"E10\" rx=\"10\" ry=\"10\" style=\"stroke: #383838; stroke-width: 1.5;\" width=\"83\" x=\"500.5\" y=\"723\"/><text fill=\"#000000\" font-family=\"sans-serif\" font-size=\"12\" font-style=\"italic\" lengthAdjust=\"spacingAndGlyphs\" textLength=\"59\" x=\"512.5\" y=\"740.457\">«attribute»</text><text fill=\"#000000\" font-family=\"sans-serif\" font-size=\"12\" lengthAdjust=\"spacingAndGlyphs\" textLength=\"74\" x=\"503.5\" y=\"755.5508\">maxPressure</text><line style=\"stroke: #383838; stroke-width: 1.5;\" x1=\"501.5\" x2=\"582.5\" y1=\"763.1875\" y2=\"763.1875\"/></a><!--MD5=[ee3c913d1a06f366521f9ef512b67efe]\n",
       "class E13--><a href=\"psysml:a4c11c85-b05c-49a4-a954-cb365264be16\" target=\"_top\" title=\"psysml:a4c11c85-b05c-49a4-a954-cb365264be16\" xlink:actuate=\"onRequest\" xlink:href=\"psysml:a4c11c85-b05c-49a4-a954-cb365264be16\" xlink:show=\"new\" xlink:title=\"psysml:a4c11c85-b05c-49a4-a954-cb365264be16\" xlink:type=\"simple\"><rect fill=\"#FFFFFF\" height=\"48.1875\" id=\"E13\" rx=\"10\" ry=\"10\" style=\"stroke: #383838; stroke-width: 1.5;\" width=\"143\" x=\"592.5\" y=\"348\"/><text fill=\"#000000\" font-family=\"sans-serif\" font-size=\"12\" font-style=\"italic\" lengthAdjust=\"spacingAndGlyphs\" textLength=\"59\" x=\"634.5\" y=\"365.457\">«attribute»</text><text fill=\"#000000\" font-family=\"sans-serif\" font-size=\"12\" lengthAdjust=\"spacingAndGlyphs\" textLength=\"134\" x=\"595.5\" y=\"380.5508\">capacity: BatteryCapacity</text><line style=\"stroke: #383838; stroke-width: 1.5;\" x1=\"593.5\" x2=\"734.5\" y1=\"388.1875\" y2=\"388.1875\"/></a><g id=\"E1.E14\"><a href=\"psysml:9595a8ba-1ea8-4bda-a2cc-2c82b892d8a0\" target=\"_top\" title=\"psysml:9595a8ba-1ea8-4bda-a2cc-2c82b892d8a0\" xlink:actuate=\"onRequest\" xlink:href=\"psysml:9595a8ba-1ea8-4bda-a2cc-2c82b892d8a0\" xlink:show=\"new\" xlink:title=\"psysml:9595a8ba-1ea8-4bda-a2cc-2c82b892d8a0\" xlink:type=\"simple\"><rect fill=\"#FFFFFF\" height=\"45.1875\" id=\"E14\" style=\"stroke: #383838; stroke-width: 1.5;\" width=\"65\" x=\"441.5\" y=\"592\"/><rect fill=\"#F8F8F8\" height=\"40.1875\" style=\"stroke: #383838; stroke-width: 1.5;\" width=\"65\" x=\"441.5\" y=\"592\"/><text fill=\"#000000\" font-family=\"sans-serif\" font-size=\"12\" font-style=\"italic\" lengthAdjust=\"spacingAndGlyphs\" textLength=\"58\" x=\"445\" y=\"609.457\">«part  def»</text><text fill=\"#000000\" font-family=\"sans-serif\" font-size=\"12\" lengthAdjust=\"spacingAndGlyphs\" textLength=\"39\" x=\"454.5\" y=\"624.5508\">Engine</text></a></g><!--MD5=[35f0587eaee8d5bb9a02e25b63afc23b]\n",
       "class E16--><a href=\"psysml:054df776-b19b-4727-82fe-ecd1b181cbd9\" target=\"_top\" title=\"psysml:054df776-b19b-4727-82fe-ecd1b181cbd9\" xlink:actuate=\"onRequest\" xlink:href=\"psysml:054df776-b19b-4727-82fe-ecd1b181cbd9\" xlink:show=\"new\" xlink:title=\"psysml:054df776-b19b-4727-82fe-ecd1b181cbd9\" xlink:type=\"simple\"><rect fill=\"#FFFFFF\" height=\"48.1875\" id=\"E16\" rx=\"10\" ry=\"10\" style=\"stroke: #383838; stroke-width: 1.5;\" width=\"110\" x=\"262\" y=\"86\"/><text fill=\"#000000\" font-family=\"sans-serif\" font-size=\"12\" font-style=\"italic\" lengthAdjust=\"spacingAndGlyphs\" textLength=\"59\" x=\"287.5\" y=\"103.457\">«attribute»</text><text fill=\"#000000\" font-family=\"sans-serif\" font-size=\"12\" lengthAdjust=\"spacingAndGlyphs\" textLength=\"101\" x=\"265\" y=\"118.5508\">maxSpeed: Speed</text><line style=\"stroke: #383838; stroke-width: 1.5;\" x1=\"263\" x2=\"371\" y1=\"126.1875\" y2=\"126.1875\"/></a><g id=\"E1.E15.E17\"><a href=\"psysml:d0a6a887-82ac-4940-94c5-9326296015fd\" target=\"_top\" title=\"psysml:d0a6a887-82ac-4940-94c5-9326296015fd\" xlink:actuate=\"onRequest\" xlink:href=\"psysml:d0a6a887-82ac-4940-94c5-9326296015fd\" xlink:show=\"new\" xlink:title=\"psysml:d0a6a887-82ac-4940-94c5-9326296015fd\" xlink:type=\"simple\"><rect fill=\"#FFFFFF\" height=\"40\" id=\"E17\" rx=\"10\" ry=\"10\" style=\"stroke: #383838; stroke-width: 1.5;\" width=\"50\" x=\"105\" y=\"90\"/><rect fill=\"#F8F8F8\" height=\"25.0938\" rx=\"10\" ry=\"10\" style=\"stroke: #F8F8F8; stroke-width: 1.5;\" width=\"50\" x=\"105\" y=\"90\"/><rect fill=\"#F8F8F8\" height=\"10\" style=\"stroke: #F8F8F8; stroke-width: 1.5;\" width=\"50\" x=\"105\" y=\"105.0938\"/><rect fill=\"none\" height=\"40\" id=\"E17\" rx=\"10\" ry=\"10\" style=\"stroke: #383838; stroke-width: 1.5;\" width=\"50\" x=\"105\" y=\"90\"/><text fill=\"#000000\" font-family=\"sans-serif\" font-size=\"12\" lengthAdjust=\"spacingAndGlyphs\" textLength=\"26\" x=\"117\" y=\"107.457\">body</text></a></g><!--MD5=[2afd267d199484aabbd2f23ded056bb0]\n",
       "class E19--><a href=\"psysml:7f017c2d-1e2e-4471-ac17-9034034da312\" target=\"_top\" title=\"psysml:7f017c2d-1e2e-4471-ac17-9034034da312\" xlink:actuate=\"onRequest\" xlink:href=\"psysml:7f017c2d-1e2e-4471-ac17-9034034da312\" xlink:show=\"new\" xlink:title=\"psysml:7f017c2d-1e2e-4471-ac17-9034034da312\" xlink:type=\"simple\"><rect fill=\"#FFFFFF\" height=\"48.1875\" id=\"E19\" rx=\"10\" ry=\"10\" style=\"stroke: #383838; stroke-width: 1.5;\" width=\"61\" x=\"181.5\" y=\"214\"/><text fill=\"#000000\" font-family=\"sans-serif\" font-size=\"12\" font-style=\"italic\" lengthAdjust=\"spacingAndGlyphs\" textLength=\"59\" x=\"182.5\" y=\"231.457\">«attribute»</text><text fill=\"#000000\" font-family=\"sans-serif\" font-size=\"12\" lengthAdjust=\"spacingAndGlyphs\" textLength=\"44\" x=\"188.5\" y=\"246.5508\">capacity</text><line style=\"stroke: #383838; stroke-width: 1.5;\" x1=\"182.5\" x2=\"241.5\" y1=\"254.1875\" y2=\"254.1875\"/></a><text fill=\"#000000\" font-family=\"sans-serif\" font-size=\"14\" lengthAdjust=\"spacingAndGlyphs\" textLength=\"157\" x=\"78.5\" y=\"470.5332\">powerOut: PowerOutPort</text><rect fill=\"#383838\" height=\"12\" style=\"stroke: #F8F8F8; stroke-width: 1.5;\" width=\"12\" x=\"153\" y=\"444\"/><text fill=\"#000000\" font-family=\"sans-serif\" font-size=\"14\" lengthAdjust=\"spacingAndGlyphs\" textLength=\"153\" x=\"80.5\" y=\"480.9238\">powerIn: ~PowerOutPort</text><rect fill=\"#383838\" height=\"12\" style=\"stroke: #F8F8F8; stroke-width: 1.5;\" width=\"12\" x=\"153\" y=\"496\"/><g id=\"E1.E15.E23\"><a href=\"psysml:cca349de-6e37-436c-b2a5-ae7b4e46b643\" target=\"_top\" title=\"psysml:cca349de-6e37-436c-b2a5-ae7b4e46b643\" xlink:actuate=\"onRequest\" xlink:href=\"psysml:cca349de-6e37-436c-b2a5-ae7b4e46b643\" xlink:show=\"new\" xlink:title=\"psysml:cca349de-6e37-436c-b2a5-ae7b4e46b643\" xlink:type=\"simple\"><rect fill=\"#FFFFFF\" height=\"40\" id=\"E23\" rx=\"10\" ry=\"10\" style=\"stroke: #383838; stroke-width: 1.5;\" width=\"57\" x=\"83.5\" y=\"594.5\"/><rect fill=\"#F8F8F8\" height=\"25.0938\" rx=\"10\" ry=\"10\" style=\"stroke: #F8F8F8; stroke-width: 1.5;\" width=\"57\" x=\"83.5\" y=\"594.5\"/><rect fill=\"#F8F8F8\" height=\"10\" style=\"stroke: #F8F8F8; stroke-width: 1.5;\" width=\"57\" x=\"83.5\" y=\"609.5938\"/><rect fill=\"none\" height=\"40\" id=\"E23\" rx=\"10\" ry=\"10\" style=\"stroke: #383838; stroke-width: 1.5;\" width=\"57\" x=\"83.5\" y=\"594.5\"/><text fill=\"#000000\" font-family=\"sans-serif\" font-size=\"12\" lengthAdjust=\"spacingAndGlyphs\" textLength=\"46\" x=\"89\" y=\"611.957\">frontAxis</text></a></g><g id=\"E1.E15.E24\"><a href=\"psysml:9850228a-eee0-4d3a-b5aa-5afb00a9cde4\" target=\"_top\" title=\"psysml:9850228a-eee0-4d3a-b5aa-5afb00a9cde4\" xlink:actuate=\"onRequest\" xlink:href=\"psysml:9850228a-eee0-4d3a-b5aa-5afb00a9cde4\" xlink:show=\"new\" xlink:title=\"psysml:9850228a-eee0-4d3a-b5aa-5afb00a9cde4\" xlink:type=\"simple\"><rect fill=\"#FFFFFF\" height=\"40\" id=\"E24\" rx=\"10\" ry=\"10\" style=\"stroke: #383838; stroke-width: 1.5;\" width=\"55\" x=\"312.5\" y=\"164\"/><rect fill=\"#F8F8F8\" height=\"25.0938\" rx=\"10\" ry=\"10\" style=\"stroke: #F8F8F8; stroke-width: 1.5;\" width=\"55\" x=\"312.5\" y=\"164\"/><rect fill=\"#F8F8F8\" height=\"10\" style=\"stroke: #F8F8F8; stroke-width: 1.5;\" width=\"55\" x=\"312.5\" y=\"179.0938\"/><rect fill=\"none\" height=\"40\" id=\"E24\" rx=\"10\" ry=\"10\" style=\"stroke: #383838; stroke-width: 1.5;\" width=\"55\" x=\"312.5\" y=\"164\"/><text fill=\"#000000\" font-family=\"sans-serif\" font-size=\"12\" lengthAdjust=\"spacingAndGlyphs\" textLength=\"44\" x=\"318\" y=\"181.457\">rearAxis</text></a></g><g id=\"E1.E15.E25\"><a href=\"psysml:691e8f5e-162e-4b0c-8c5a-5542dd147577\" target=\"_top\" title=\"psysml:691e8f5e-162e-4b0c-8c5a-5542dd147577\" xlink:actuate=\"onRequest\" xlink:href=\"psysml:691e8f5e-162e-4b0c-8c5a-5542dd147577\" xlink:show=\"new\" xlink:title=\"psysml:691e8f5e-162e-4b0c-8c5a-5542dd147577\" xlink:type=\"simple\"><rect fill=\"#FFFFFF\" height=\"40\" id=\"E25\" rx=\"10\" ry=\"10\" style=\"stroke: #383838; stroke-width: 1.5;\" width=\"111\" x=\"56.5\" y=\"727\"/><rect fill=\"#F8F8F8\" height=\"25.0938\" rx=\"10\" ry=\"10\" style=\"stroke: #F8F8F8; stroke-width: 1.5;\" width=\"111\" x=\"56.5\" y=\"727\"/><rect fill=\"#F8F8F8\" height=\"10\" style=\"stroke: #F8F8F8; stroke-width: 1.5;\" width=\"111\" x=\"56.5\" y=\"742.0938\"/><rect fill=\"none\" height=\"40\" id=\"E25\" rx=\"10\" ry=\"10\" style=\"stroke: #383838; stroke-width: 1.5;\" width=\"111\" x=\"56.5\" y=\"727\"/><text fill=\"#000000\" font-family=\"sans-serif\" font-size=\"12\" lengthAdjust=\"spacingAndGlyphs\" textLength=\"100\" x=\"62\" y=\"744.457\">frontWheel: Wheel</text></a></g><g id=\"E1.E15.E26\"><a href=\"psysml:9f710d34-cf54-4426-ba4a-991e9bd1b375\" target=\"_top\" title=\"psysml:9f710d34-cf54-4426-ba4a-991e9bd1b375\" xlink:actuate=\"onRequest\" xlink:href=\"psysml:9f710d34-cf54-4426-ba4a-991e9bd1b375\" xlink:show=\"new\" xlink:title=\"psysml:9f710d34-cf54-4426-ba4a-991e9bd1b375\" xlink:type=\"simple\"><rect fill=\"#FFFFFF\" height=\"40\" id=\"E26\" rx=\"10\" ry=\"10\" style=\"stroke: #383838; stroke-width: 1.5;\" width=\"109\" x=\"299.5\" y=\"218\"/><rect fill=\"#F8F8F8\" height=\"25.0938\" rx=\"10\" ry=\"10\" style=\"stroke: #F8F8F8; stroke-width: 1.5;\" width=\"109\" x=\"299.5\" y=\"218\"/><rect fill=\"#F8F8F8\" height=\"10\" style=\"stroke: #F8F8F8; stroke-width: 1.5;\" width=\"109\" x=\"299.5\" y=\"233.0938\"/><rect fill=\"none\" height=\"40\" id=\"E26\" rx=\"10\" ry=\"10\" style=\"stroke: #383838; stroke-width: 1.5;\" width=\"109\" x=\"299.5\" y=\"218\"/><text fill=\"#000000\" font-family=\"sans-serif\" font-size=\"12\" lengthAdjust=\"spacingAndGlyphs\" textLength=\"98\" x=\"305\" y=\"235.457\">rearWheel: Wheel</text></a></g><!--MD5=[583832df87f4419a098336a29a52fa00]\n",
       "link E7 to E2--><a href=\"psysml:a35f6b44-7aff-4d39-945e-ed769084f13d\" target=\"_top\" title=\"psysml:a35f6b44-7aff-4d39-945e-ed769084f13d\" xlink:actuate=\"onRequest\" xlink:href=\"psysml:a35f6b44-7aff-4d39-945e-ed769084f13d\" xlink:show=\"new\" xlink:title=\"psysml:a35f6b44-7aff-4d39-945e-ed769084f13d\" xlink:type=\"simple\"><path d=\"M647.9085,762.7665 C647.8534,762.8569 647.7981,762.9475 647.7426,763.0384 C647.298,763.7656 646.8366,764.5097 646.3587,765.2687 C644.447,768.3045 642.2703,771.5772 639.8463,774.9463 C630.15,788.4225 616.495,803.44 600,811 C573.48,823.15 96.99,799.83 75,819 C69.8288,823.5075 65.6425,828.7831 62.2771,834.5696 \" fill=\"none\" id=\"E7-&gt;E2\" style=\"stroke: #383838; stroke-width: 1.0;\"/><polygon fill=\"#FFFFFF\" points=\"62.2771,834.5696,77.8804,821.6646,65.7783,814.6261,62.2771,834.5696\" style=\"stroke: #383838; stroke-width: 1.0;\"/></a><!--MD5=[c5e8897d989ce984f93528998a7150fe]\n",
       "link E8 to E6--><a href=\"psysml:4d39b40d-c4e5-4fe1-ba3f-ff40ba11a1b4\" target=\"_top\" title=\"psysml:4d39b40d-c4e5-4fe1-ba3f-ff40ba11a1b4\" xlink:actuate=\"onRequest\" xlink:href=\"psysml:4d39b40d-c4e5-4fe1-ba3f-ff40ba11a1b4\" xlink:show=\"new\" xlink:title=\"psysml:4d39b40d-c4e5-4fe1-ba3f-ff40ba11a1b4\" xlink:type=\"simple\"><path d=\"M723.11,771.26 C715.7,785.5 704.06,802.56 688,811 C665.18,822.99 246.35,806.14 224,819 C193.38,836.62 173.78,872.21 162.33,900.77 \" fill=\"none\" id=\"E8-&gt;E6\" style=\"stroke: #383838; stroke-width: 1.0;\"/><polygon fill=\"#FFFFFF\" points=\"155.39,919.96,155.265,899.7119,168.4315,904.4706,155.39,919.96\" style=\"stroke: #383838; stroke-width: 1.0;\"/><line style=\"stroke: #383838; stroke-width: 2.0;\" x1=\"156.5567\" x2=\"169.7231\" y1=\"896.1382\" y2=\"900.8969\"/></a><!--MD5=[5c3bb36fe832a92c7f0e1807dd65209d]\n",
       "link E9 to E2--><a href=\"psysml:753459bc-909b-470c-9a2e-52f300de718b\" target=\"_top\" title=\"psysml:753459bc-909b-470c-9a2e-52f300de718b\" xlink:actuate=\"onRequest\" xlink:href=\"psysml:753459bc-909b-470c-9a2e-52f300de718b\" xlink:show=\"new\" xlink:title=\"psysml:753459bc-909b-470c-9a2e-52f300de718b\" xlink:type=\"simple\"><path d=\"M456.8749,785.521 C456.8318,785.6274 456.7884,785.7338 456.7448,785.8401 C456.5703,786.2655 456.3923,786.6902 456.2105,787.114 C455.8468,787.9617 455.4683,788.8056 455.0743,789.6439 C454.2863,791.3204 453.4363,792.9741 452.5194,794.5883 C448.8519,801.045 444.115,806.87 438,811 C421.28,822.29 90.16,805.69 75,819 C69.8438,823.5263 65.6688,828.8161 62.3116,834.6131 \" fill=\"none\" id=\"E9-&gt;E2\" style=\"stroke: #383838; stroke-width: 1.0;\"/><polygon fill=\"#FFFFFF\" points=\"62.3116,834.6131,77.891,821.6793,65.7759,814.6632,62.3116,834.6131\" style=\"stroke: #383838; stroke-width: 1.0;\"/></a><!--MD5=[198716bf12f04006f5c20d61bde6d80d]\n",
       "link E10 to E6--><a href=\"psysml:35fa89dd-5cac-4862-9c5d-44d5628124e7\" target=\"_top\" title=\"psysml:35fa89dd-5cac-4862-9c5d-44d5628124e7\" xlink:actuate=\"onRequest\" xlink:href=\"psysml:35fa89dd-5cac-4862-9c5d-44d5628124e7\" xlink:show=\"new\" xlink:title=\"psysml:35fa89dd-5cac-4862-9c5d-44d5628124e7\" xlink:type=\"simple\"><path d=\"M532.07,771.2 C524.65,785.41 513.01,802.46 497,811 C470.22,825.28 250.21,803.71 224,819 C193.57,836.75 173.99,872.18 162.5,900.63 \" fill=\"none\" id=\"E10-&gt;E6\" style=\"stroke: #383838; stroke-width: 1.0;\"/><polygon fill=\"#FFFFFF\" points=\"155.52,919.77,155.4543,899.5216,168.6068,904.3189,155.52,919.77\" style=\"stroke: #383838; stroke-width: 1.0;\"/><line style=\"stroke: #383838; stroke-width: 2.0;\" x1=\"156.7564\" x2=\"169.9089\" y1=\"895.9517\" y2=\"900.7489\"/></a><!--MD5=[798a9a606aea02eb479f69458bcab9ef]\n",
       "link E4 to E11--><a href=\"psysml:92e9cecf-598f-4c17-8220-68fda2fbdbb9\" target=\"_top\" title=\"psysml:92e9cecf-598f-4c17-8220-68fda2fbdbb9\" xlink:actuate=\"onRequest\" xlink:href=\"psysml:92e9cecf-598f-4c17-8220-68fda2fbdbb9\" xlink:show=\"new\" xlink:title=\"psysml:92e9cecf-598f-4c17-8220-68fda2fbdbb9\" xlink:type=\"simple\"><path d=\"M540,991.31 C540,1000.31 540,1009.68 540,1018.53 \" fill=\"none\" id=\"E4-&gt;E11\" style=\"stroke: #383838; stroke-width: 1.0;\"/><polygon fill=\"#FFFFFF\" points=\"540,1038.88,533,1019.88,547,1019.88,540,1038.88\" style=\"stroke: #383838; stroke-width: 1.0;\"/><ellipse cx=\"535\" cy=\"1014.18\" fill=\"#383838\" rx=\"2\" ry=\"2\" style=\"stroke: #383838; stroke-width: 1.0;\"/><ellipse cx=\"545\" cy=\"1014.18\" fill=\"#383838\" rx=\"2\" ry=\"2\" style=\"stroke: #383838; stroke-width: 1.0;\"/></a><!--MD5=[29685bfd6561c9b420de2af0adf2d98f]\n",
       "link E19 to E13--><a href=\"psysml:c128a3bf-c351-4733-aec0-c31f61f2c427\" target=\"_top\" title=\"psysml:c128a3bf-c351-4733-aec0-c31f61f2c427\" xlink:actuate=\"onRequest\" xlink:href=\"psysml:c128a3bf-c351-4733-aec0-c31f61f2c427\" xlink:show=\"new\" xlink:title=\"psysml:c128a3bf-c351-4733-aec0-c31f61f2c427\" xlink:type=\"simple\"><path d=\"M242.88,260.5 C243.92,261.03 244.96,261.53 246,262 C249.8,263.72 450.6,315.8 572.47,347.33 \" fill=\"none\" id=\"E19-&gt;E13\" style=\"stroke: #383838; stroke-width: 1.0;\"/><polygon fill=\"#FFFFFF\" points=\"592.04,352.4,571.8921,354.4154,575.4004,340.8621,592.04,352.4\" style=\"stroke: #383838; stroke-width: 1.0;\"/><line style=\"stroke: #383838; stroke-width: 2.0;\" x1=\"568.2133\" x2=\"571.7216\" y1=\"353.4632\" y2=\"339.9099\"/></a><!--MD5=[486a74b14f59644f37baa15070c083c4]\n",
       "link E18 to E12--><a href=\"psysml:ccf4da2a-1710-4c93-a782-682e20bbee9f\" target=\"_top\" title=\"psysml:ccf4da2a-1710-4c93-a782-682e20bbee9f\" xlink:actuate=\"onRequest\" xlink:href=\"psysml:ccf4da2a-1710-4c93-a782-682e20bbee9f\" xlink:show=\"new\" xlink:title=\"psysml:ccf4da2a-1710-4c93-a782-682e20bbee9f\" xlink:type=\"simple\"><path d=\"M284.4799,207.0077 C292.6673,207.8449 301.5145,208.5294 310.9191,209.0992 C329.7281,210.2388 350.7663,210.9198 373.2125,211.4466 C418.105,212.5 468.63,212.9363 518.22,215.19 C617.4,219.6975 712.84,231.475 752,270 C756.0063,273.9412 759.3142,278.4417 762.0351,283.3041 C762.3752,283.9119 762.7061,284.5254 763.0281,285.1441 C763.1086,285.2988 763.1886,285.4538 763.2679,285.6091 \" fill=\"none\" id=\"E18-&gt;E12\" style=\"stroke: #383838; stroke-width: 1.0;\"/><polygon fill=\"#FFFFFF\" points=\"763.2679,285.6091,748.3888,271.8756,760.8553,265.5049,763.2679,285.6091\" style=\"stroke: #383838; stroke-width: 1.0;\"/><ellipse cx=\"747.5759\" cy=\"265.8898\" fill=\"#383838\" rx=\"2\" ry=\"2\" style=\"stroke: #383838; stroke-width: 1.0;\"/><ellipse cx=\"756.4806\" cy=\"261.3394\" fill=\"#383838\" rx=\"2\" ry=\"2\" style=\"stroke: #383838; stroke-width: 1.0;\"/></a><!--MD5=[6a62c7bc5da532cbf49e090dbe4e0079]\n",
       "link E21 to E14--><a href=\"psysml:7dc7137a-b1e4-4b46-9277-aa440ab77230\" target=\"_top\" title=\"psysml:7dc7137a-b1e4-4b46-9277-aa440ab77230\" xlink:actuate=\"onRequest\" xlink:href=\"psysml:7dc7137a-b1e4-4b46-9277-aa440ab77230\" xlink:show=\"new\" xlink:title=\"psysml:7dc7137a-b1e4-4b46-9277-aa440ab77230\" xlink:type=\"simple\"><path d=\"M244.0811,553.5638 C244.5251,553.6298 244.9703,553.6962 245.4168,553.763 C247.2026,554.0301 249.0081,554.3031 250.8328,554.5823 C254.4822,555.1406 258.2082,555.7235 262.0064,556.3323 C277.1991,558.7678 293.5456,561.6194 310.7563,564.9813 C345.1775,571.705 383.055,580.47 422.07,592.03 \" fill=\"none\" id=\"E21-&gt;E14\" style=\"stroke: #383838; stroke-width: 1.0;\"/><polygon fill=\"#FFFFFF\" points=\"441.45,597.97,421.2329,599.0962,425.3346,585.7105,441.45,597.97\" style=\"stroke: #383838; stroke-width: 1.0;\"/><ellipse cx=\"416.369\" cy=\"595.514\" fill=\"#383838\" rx=\"2\" ry=\"2\" style=\"stroke: #383838; stroke-width: 1.0;\"/><ellipse cx=\"419.2988\" cy=\"585.9528\" fill=\"#383838\" rx=\"2\" ry=\"2\" style=\"stroke: #383838; stroke-width: 1.0;\"/></a><!--MD5=[b9655fbc683de6bf5153fc2bee443164]\n",
       "link E25 to E2--><a href=\"psysml:2c11db4d-9f0d-4787-a10f-af9b6218950e\" target=\"_top\" title=\"psysml:2c11db4d-9f0d-4787-a10f-af9b6218950e\" xlink:actuate=\"onRequest\" xlink:href=\"psysml:2c11db4d-9f0d-4787-a10f-af9b6218950e\" xlink:show=\"new\" xlink:title=\"psysml:2c11db4d-9f0d-4787-a10f-af9b6218950e\" xlink:type=\"simple\"><path d=\"M99.82,767.13 C91.55,781.01 81.05,800.51 75,819 C73.9331,822.26 72.9256,825.5882 71.9742,828.964 C71.4985,830.6519 71.0369,832.3516 70.5888,834.0606 C70.5328,834.2743 70.477,834.488 70.4214,834.702 \" fill=\"none\" id=\"E25-&gt;E2\" style=\"stroke: #383838; stroke-width: 1.0;\"/><polygon fill=\"#FFFFFF\" points=\"70.4214,834.702,68.4245,814.5522,81.9746,818.073,70.4214,834.702\" style=\"stroke: #383838; stroke-width: 1.0;\"/><ellipse cx=\"71.7937\" cy=\"809.5384\" fill=\"#383838\" rx=\"2\" ry=\"2\" style=\"stroke: #383838; stroke-width: 1.0;\"/><ellipse cx=\"81.4723\" cy=\"812.0532\" fill=\"#383838\" rx=\"2\" ry=\"2\" style=\"stroke: #383838; stroke-width: 1.0;\"/></a><!--MD5=[e2f246ea5020f5bb537a124e334f291c]\n",
       "link E26 to E2--><a href=\"psysml:ce3267bd-8a55-4b66-89da-2159848afa18\" target=\"_top\" title=\"psysml:ce3267bd-8a55-4b66-89da-2159848afa18\" xlink:actuate=\"onRequest\" xlink:href=\"psysml:ce3267bd-8a55-4b66-89da-2159848afa18\" xlink:show=\"new\" xlink:title=\"psysml:ce3267bd-8a55-4b66-89da-2159848afa18\" xlink:type=\"simple\"><path d=\"M390.44,258.07 C445.36,289.75 543,358.75 543,449 C543,449 543,449 543,543 C543,584.84 567.04,606.88 538,637 C524.22,651.3 467.81,638.65 449,645 C317.68,689.32 316.7,767.8 185,811 C161.71,818.64 93.01,802.37 75,819 C69.96,823.655 65.8727,829.0419 62.5798,834.91 \" fill=\"none\" id=\"E26-&gt;E2\" style=\"stroke: #383838; stroke-width: 1.0;\"/><polygon fill=\"#FFFFFF\" points=\"62.5798,834.91,65.773,814.915,77.9822,821.7659,62.5798,834.91\" style=\"stroke: #383838; stroke-width: 1.0;\"/><ellipse cx=\"70.3065\" cy=\"810.9228\" fill=\"#383838\" rx=\"2\" ry=\"2\" style=\"stroke: #383838; stroke-width: 1.0;\"/><ellipse cx=\"79.0274\" cy=\"815.8164\" fill=\"#383838\" rx=\"2\" ry=\"2\" style=\"stroke: #383838; stroke-width: 1.0;\"/></a><!--MD5=[aee4482fe7b503a711af7f59437c4979]\n",
       "link E20 to E22--><a href=\"psysml:e195a81e-850e-4c6f-82c8-26a3529d4c5d\" target=\"_top\" title=\"psysml:e195a81e-850e-4c6f-82c8-26a3529d4c5d\" xlink:actuate=\"onRequest\" xlink:href=\"psysml:e195a81e-850e-4c6f-82c8-26a3529d4c5d\" xlink:show=\"new\" xlink:title=\"psysml:e195a81e-850e-4c6f-82c8-26a3529d4c5d\" xlink:type=\"simple\"><path d=\"M159,456.35 C159,466.02 159,486.3 159,495.84 \" fill=\"none\" id=\"E20-E22\" style=\"stroke: #383838; stroke-width: 3.0;\"/></a><!--MD5=[59b6d77791ea26f402c9e96525bacd61]\n",
       "link E21 to E23--><a href=\"psysml:43272b7e-9711-4116-bd78-0299149d3435\" target=\"_top\" title=\"psysml:43272b7e-9711-4116-bd78-0299149d3435\" xlink:actuate=\"onRequest\" xlink:href=\"psysml:43272b7e-9711-4116-bd78-0299149d3435\" xlink:show=\"new\" xlink:title=\"psysml:43272b7e-9711-4116-bd78-0299149d3435\" xlink:type=\"simple\"><path d=\"M136.9316,576.1044 C136.8524,576.2232 136.7732,576.342 136.694,576.4608 C136.377,576.9362 136.0597,577.412 135.7424,577.8879 C134.4731,579.7914 133.2028,581.6965 131.9463,583.5808 C129.4331,587.3494 126.975,591.035 124.69,594.46 \" fill=\"none\" id=\"E21-E23\" style=\"stroke: #383838; stroke-width: 3.0;\"/><text fill=\"#000000\" font-family=\"sans-serif\" font-size=\"13\" lengthAdjust=\"spacingAndGlyphs\" textLength=\"5\" x=\"122.6833\" y=\"583.77\">*</text></a><!--MD5=[2acee257d5ac156931f29921c2b53c3c]\n",
       "link E23 to E25--><a href=\"psysml:f517acd5-d603-4bca-971f-683e478773c7\" target=\"_top\" title=\"psysml:f517acd5-d603-4bca-971f-683e478773c7\" xlink:actuate=\"onRequest\" xlink:href=\"psysml:f517acd5-d603-4bca-971f-683e478773c7\" xlink:show=\"new\" xlink:title=\"psysml:f517acd5-d603-4bca-971f-683e478773c7\" xlink:type=\"simple\"><path d=\"M112,634.76 C112,659.43 112,701.95 112,726.67 \" fill=\"none\" id=\"E23-E25\" style=\"stroke: #383838; stroke-width: 3.0;\"/><text fill=\"#000000\" font-family=\"sans-serif\" font-size=\"13\" lengthAdjust=\"spacingAndGlyphs\" textLength=\"5\" x=\"106.2969\" y=\"716.2467\">*</text></a><!--MD5=[7638a878d2c9f30e3a488f291348277b]\n",
       "link E24 to E26--><a href=\"psysml:2ce58a5c-8912-4e8c-8e92-5dd8a40c059d\" target=\"_top\" title=\"psysml:2ce58a5c-8912-4e8c-8e92-5dd8a40c059d\" xlink:actuate=\"onRequest\" xlink:href=\"psysml:2ce58a5c-8912-4e8c-8e92-5dd8a40c059d\" xlink:show=\"new\" xlink:title=\"psysml:2ce58a5c-8912-4e8c-8e92-5dd8a40c059d\" xlink:type=\"simple\"><path d=\"M345.13,204.07 C346.35,208.59 347.65,213.41 348.87,217.93 \" fill=\"none\" id=\"E24-E26\" style=\"stroke: #383838; stroke-width: 3.0;\"/><text fill=\"#000000\" font-family=\"sans-serif\" font-size=\"13\" lengthAdjust=\"spacingAndGlyphs\" textLength=\"5\" x=\"340.9671\" y=\"206.988\">*</text></a><!--MD5=[76e3f79ad14d2ca899e701cdb7f2bb08]\n",
       "link E17 to E18--><a href=\"psysml:374b211d-3a3a-4fae-b430-15fa9ad62a05\" target=\"_top\" title=\"psysml:374b211d-3a3a-4fae-b430-15fa9ad62a05\" xlink:actuate=\"onRequest\" xlink:href=\"psysml:374b211d-3a3a-4fae-b430-15fa9ad62a05\" xlink:show=\"new\" xlink:title=\"psysml:374b211d-3a3a-4fae-b430-15fa9ad62a05\" xlink:type=\"simple\"><path d=\"M147.95,130.29 C151.245,133.8325 154.7981,137.6513 158.4328,141.557 C160.2502,143.5099 162.0879,145.4846 163.9239,147.4573 C164.383,147.9505 164.8419,148.4436 165.3003,148.9362 C165.5296,149.1825 165.7587,149.4286 165.9876,149.6746 C166.0449,149.7361 166.1021,149.7976 166.1593,149.8591 \" fill=\"none\" id=\"E17-E18\" style=\"stroke: #383838; stroke-width: 3.0;\"/><text fill=\"#000000\" font-family=\"sans-serif\" font-size=\"13\" lengthAdjust=\"spacingAndGlyphs\" textLength=\"5\" x=\"183.58\" y=\"171.4451\">*</text></a><!--MD5=[2d277ecedf719059e2029107a67e2258]\n",
       "link E17 to E21--><a href=\"psysml:4d6befff-c558-4a68-8b15-7036c58c19d7\" target=\"_top\" title=\"psysml:4d6befff-c558-4a68-8b15-7036c58c19d7\" xlink:actuate=\"onRequest\" xlink:href=\"psysml:4d6befff-c558-4a68-8b15-7036c58c19d7\" xlink:show=\"new\" xlink:title=\"psysml:4d6befff-c558-4a68-8b15-7036c58c19d7\" xlink:type=\"simple\"><path d=\"M120.92,130.16 C110.25,154.44 94,197.87 94,237 C94,237 94,237 94,451 C94,463.715 91.7775,472.64 91.2913,481.0488 C91.0481,485.2531 91.2391,489.3284 92.3589,493.6839 C92.9188,495.8616 93.711,498.1094 94.7972,500.4784 C94.933,500.7745 95.0734,501.0725 95.2184,501.3725 C95.291,501.5225 95.3647,501.673 95.4396,501.824 \" fill=\"none\" id=\"E17-E21\" style=\"stroke: #383838; stroke-width: 3.0;\"/><text fill=\"#000000\" font-family=\"sans-serif\" font-size=\"13\" lengthAdjust=\"spacingAndGlyphs\" textLength=\"5\" x=\"124.99\" y=\"529.3651\">*</text></a><!--MD5=[8aeb64fac1dc58c95480a883cf5934bc]\n",
       "link E17 to E23--><a href=\"psysml:60f43ed1-ea46-4060-8778-d2364ba30f90\" target=\"_top\" title=\"psysml:60f43ed1-ea46-4060-8778-d2364ba30f90\" xlink:actuate=\"onRequest\" xlink:href=\"psysml:60f43ed1-ea46-4060-8778-d2364ba30f90\" xlink:show=\"new\" xlink:title=\"psysml:60f43ed1-ea46-4060-8778-d2364ba30f90\" xlink:type=\"simple\"><path d=\"M104.68,127.05 C99.27,131.38 94,136.43 90,142 C63.92,178.3 57,192.3 57,237 C57,237 57,237 57,503 C57,540.68 62.42,551.81 82,584 C84.2,587.62 86.95,591.11 89.87,594.35 \" fill=\"none\" id=\"E17-E23\" style=\"stroke: #383838; stroke-width: 3.0;\"/><text fill=\"#000000\" font-family=\"sans-serif\" font-size=\"13\" lengthAdjust=\"spacingAndGlyphs\" textLength=\"5\" x=\"77.6349\" y=\"583.6277\">*</text></a><!--MD5=[5f2d8205b31cab51f91fd9a36468fb61]\n",
       "link E17 to E24--><a href=\"psysml:d17da332-144c-44cd-aa1e-b2d3f92c1440\" target=\"_top\" title=\"psysml:d17da332-144c-44cd-aa1e-b2d3f92c1440\" xlink:actuate=\"onRequest\" xlink:href=\"psysml:d17da332-144c-44cd-aa1e-b2d3f92c1440\" xlink:show=\"new\" xlink:title=\"psysml:d17da332-144c-44cd-aa1e-b2d3f92c1440\" xlink:type=\"simple\"><path d=\"M155.04,115.86 C193.54,123.4 264,137.52 275,142 C288.72,147.58 302.76,156.03 314.26,163.82 \" fill=\"none\" id=\"E17-E24\" style=\"stroke: #383838; stroke-width: 3.0;\"/><text fill=\"#000000\" font-family=\"sans-serif\" font-size=\"13\" lengthAdjust=\"spacingAndGlyphs\" textLength=\"5\" x=\"300.9645\" y=\"153.0889\">*</text></a><!--MD5=[4774efcb1b8b34d2af82910e160c1052]\n",
       "@startuml\r\n",
       "skinparam ranksep 10\r\n",
       "skinparam rectangle {\r\n",
       " backgroundColor<<block>> LightGreen\r\n",
       "}\r\n",
       "skinparam monochrome true\r\n",
       "skinparam classbackgroundcolor white\r\n",
       "skinparam shadowing false\r\n",
       "skinparam wrapWidth 300\r\n",
       "hide circle\r\n",
       "\r\n",
       "package \"eVehicle_LogicalArchitecture\" as E1  [[psysml:f64efd58-b274-4d1d-b33f-b4a1b18e2abf ]]  {\r\n",
       "rec def \"Wheel\" as E2  <<(T,blue) part  def>> [[psysml:d8520b7a-5138-45e6-84fb-98287d7084a0 ]] {\r\n",
       "usage \"radius \" as E3  <<(T,blue) reference>> [[psysml:8ad011c6-af18-4860-a3d9-bbe40f98b558 ]] \r\n",
       "comp usage \"pressureConstraint: WheelPressureConstraint \" as E4  <<(T,blue) constraint>> [[psysml:57d956ba-df4a-4843-9f2f-b8ce6b71006a ]] {\r\n",
       "- - parameters - -\r\n",
       "<b>in</b> currentPressure= currentPressure; \r\n",
       "<b>in</b> limitPressure= maxPressure; \r\n",
       "}\r\n",
       "comp usage \"currentPressure: Real \" as E5  <<(T,blue) attribute>> [[psysml:87d0cf81-7644-4a16-8877-9b864c0099cc ]] {\r\n",
       "}\r\n",
       "comp usage \"maxPressure: Real \" as E6  <<(T,blue) attribute>> [[psysml:f885f847-17d5-459a-8412-1da16c432266 ]] {\r\n",
       "}\r\n",
       "}\r\n",
       "rec def \"FrontWheel\" as E7  <<(T,blue) part  def>> [[psysml:152b7e6f-4f89-423f-be3a-94fb6e3a134d ]] {\r\n",
       "comp usage \"maxPressure \" as E8  <<(T,blue) attribute>> [[psysml:6c406bbf-c0a0-4106-9203-c9aefbea1f00 ]] {\r\n",
       "}\r\n",
       "}\r\n",
       "rec def \"RearWheel\" as E9  <<(T,blue) part  def>> [[psysml:6fd7d075-5eec-4dde-870b-041d5a9077c4 ]] {\r\n",
       "comp usage \"maxPressure \" as E10  <<(T,blue) attribute>> [[psysml:db39c1d3-020f-4956-b5f8-937938bc275c ]] {\r\n",
       "}\r\n",
       "}\r\n",
       "def \"WheelPressureConstraint\" as E11  <<(T,blue) constraint  def>> [[psysml:b45fc01c-3a6d-4235-b38c-8575182ea686 ]] \r\n",
       "rec def \"Battery\" as E12  <<(T,blue) part  def>> [[psysml:0d074719-29f4-4261-8b2b-913df0558af3 ]] {\r\n",
       "comp usage \"capacity: BatteryCapacity \" as E13  <<(T,blue) attribute>> [[psysml:a4c11c85-b05c-49a4-a954-cb365264be16 ]] {\r\n",
       "}\r\n",
       "}\r\n",
       "rec def \"Engine\" as E14  <<(T,blue) part  def>> [[psysml:9595a8ba-1ea8-4bda-a2cc-2c82b892d8a0 ]] {\r\n",
       "}\r\n",
       "rec usage \"eVehicle\" as E15  [[psysml:4ef7828c-e15d-4182-811b-e82e602f3931 ]] {\r\n",
       "comp usage \"maxSpeed: Speed \" as E16  <<(T,blue) attribute>> [[psysml:054df776-b19b-4727-82fe-ecd1b181cbd9 ]] {\r\n",
       "}\r\n",
       "rec usage \"body\" as E17  [[psysml:d0a6a887-82ac-4940-94c5-9326296015fd ]] {\r\n",
       "}\r\n",
       "rec usage \"battery: Battery\" as E18  [[psysml:56bcf3f4-332f-4619-aad2-69570654cff6 ]] {\r\n",
       "comp usage \"capacity \" as E19  <<(T,blue) attribute>> [[psysml:7f017c2d-1e2e-4471-ac17-9034034da312 ]] {\r\n",
       "}\r\n",
       "portout \"powerOut: PowerOutPort \" as E20  <<(T,blue) port>> [[psysml:8d847fac-f859-4fa5-a1c5-aaf578c2ce0f ]] \r\n",
       "}\r\n",
       "rec usage \"engine: Engine\" as E21  [[psysml:58b2600e-9bae-413b-9e5b-886a226f0964 ]] {\r\n",
       "portin \"powerIn: ~PowerOutPort \" as E22  <<(T,blue) port>> [[psysml:49d7fff1-4b8d-4f9d-9d93-6ed5d62c24e6 ]] \r\n",
       "}\r\n",
       "rec usage \"frontAxis\" as E23  [[psysml:cca349de-6e37-436c-b2a5-ae7b4e46b643 ]] {\r\n",
       "}\r\n",
       "rec usage \"rearAxis\" as E24  [[psysml:9850228a-eee0-4d3a-b5aa-5afb00a9cde4 ]] {\r\n",
       "}\r\n",
       "rec usage \"frontWheel: Wheel\" as E25  [[psysml:691e8f5e-162e-4b0c-8c5a-5542dd147577 ]] {\r\n",
       "}\r\n",
       "rec usage \"rearWheel: Wheel\" as E26  [[psysml:9f710d34-cf54-4426-ba4a-991e9bd1b375 ]] {\r\n",
       "}\r\n",
       "}\r\n",
       "}\r\n",
       "E7 - -|> E2 [[psysml:a35f6b44-7aff-4d39-945e-ed769084f13d ]] \r\n",
       "E8 - -||> E6 [[psysml:4d39b40d-c4e5-4fe1-ba3f-ff40ba11a1b4 ]] \r\n",
       "E9 - -|> E2 [[psysml:753459bc-909b-470c-9a2e-52f300de718b ]] \r\n",
       "E10 - -||> E6 [[psysml:35fa89dd-5cac-4862-9c5d-44d5628124e7 ]] \r\n",
       "E4 - -:|> E11 [[psysml:92e9cecf-598f-4c17-8220-68fda2fbdbb9 ]] \r\n",
       "E19 - -||> E13 [[psysml:c128a3bf-c351-4733-aec0-c31f61f2c427 ]] \r\n",
       "E18 - -:|> E12 [[psysml:ccf4da2a-1710-4c93-a782-682e20bbee9f ]] \r\n",
       "E21 - -:|> E14 [[psysml:7dc7137a-b1e4-4b46-9277-aa440ab77230 ]] \r\n",
       "E25 - -:|> E2 [[psysml:2c11db4d-9f0d-4787-a10f-af9b6218950e ]] \r\n",
       "E26 - -:|> E2 [[psysml:ce3267bd-8a55-4b66-89da-2159848afa18 ]] \r\n",
       "E20 -[thickness=3]- E22 [[psysml:e195a81e-850e-4c6f-82c8-26a3529d4c5d ]] \r\n",
       "E21 -[thickness=3]- \"*\"E23 [[psysml:43272b7e-9711-4116-bd78-0299149d3435 ]] \r\n",
       "E23 -[thickness=3]- \"*\"E25 [[psysml:f517acd5-d603-4bca-971f-683e478773c7 ]] \r\n",
       "E24 -[thickness=3]- \"*\"E26 [[psysml:2ce58a5c-8912-4e8c-8e92-5dd8a40c059d ]] \r\n",
       "E17 -[thickness=3]- \"*\"E18 [[psysml:374b211d-3a3a-4fae-b430-15fa9ad62a05 ]] \r\n",
       "E17 -[thickness=3]- \"*\"E21 [[psysml:4d6befff-c558-4a68-8b15-7036c58c19d7 ]] \r\n",
       "E17 -[thickness=3]- \"*\"E23 [[psysml:60f43ed1-ea46-4060-8778-d2364ba30f90 ]] \r\n",
       "E17 -[thickness=3]- \"*\"E24 [[psysml:d17da332-144c-44cd-aa1e-b2d3f92c1440 ]] \r\n",
       "@enduml\r\n",
       "\n",
       "PlantUML version 1.2020.13(Sat Jun 13 14:26:38 CEST 2020)\n",
       "(EPL source distribution)\n",
       "Java Runtime: OpenJDK Runtime Environment\n",
       "JVM: OpenJDK 64-Bit Server VM\n",
       "Default Encoding: Cp1252\n",
       "Language: en\n",
       "Country: US\n",
       "--></g></svg>"
      ]
     },
     "execution_count": 36,
     "metadata": {},
     "output_type": "execute_result"
    }
   ],
   "source": [
    "%viz eVehicle_LogicalArchitecture"
   ]
  },
  {
   "cell_type": "markdown",
   "metadata": {},
   "source": [
    "Now, the model is prepared to add variability. We define two battery kinds with different capacities, and two engine kinds. **Do not forget to run the eVehicle_LogicalArchitecture cell above.**"
   ]
  },
  {
   "cell_type": "code",
   "execution_count": 37,
   "metadata": {},
   "outputs": [
    {
     "data": {
      "text/plain": [
       "Package eVehicle_VariantModel (92143e84-a8cf-40ce-82c6-4d47f20199a9)\n"
      ]
     },
     "execution_count": 37,
     "metadata": {},
     "output_type": "execute_result"
    }
   ],
   "source": [
    "package eVehicle_VariantModel {\n",
    "    \n",
    "    import eVehicle_LogicalArchitecture::*;\n",
    "    \n",
    "    package eVehicle_Configurations {\n",
    "\n",
    "        import eVehicle_Variations::*;\n",
    "        \n",
    "        part eVehicleStandard :> eVehicleVariations {\n",
    "            part redefines engine = standardEngine;\n",
    "            part redefines battery = batteryLow;\n",
    "        }\n",
    "        part eVehiclePremium :> eVehicleVariations {\n",
    "            part redefines engine = powerEngine;\n",
    "            part redefines battery = batteryHigh;\n",
    "        }\n",
    "        part INVALIDeVehicle :> eVehicleVariations {\n",
    "            part redefines engine = powerEngine;\n",
    "            part redefines battery = batteryLow;\n",
    "        }\n",
    "    }\n",
    "    \n",
    "    package eVehicle_Variations {\n",
    "        \n",
    "        import eVehicle_Variants::*;\n",
    "        \n",
    "        abstract part eVehicleVariations :> eVehicle {\n",
    "        \n",
    "            variation part redefines battery : Battery {\n",
    "                variant part batterLow;\n",
    "                variant part batteryHigh;  \n",
    "            }\n",
    "            variation part redefines engine : Engine {\n",
    "                variant part standardEngine;\n",
    "                variant part powerEngine;\n",
    "            }\n",
    "        \n",
    "            abstract constraint { (battery == batteryLow & engine == standardEngine) ^ (battery == batteryHigh) }\n",
    "        }\n",
    "    }   \n",
    "    \n",
    "    package eVehicle_Variants {\n",
    "        \n",
    "        part batteryLow : Battery {\n",
    "            attribute redefines capacity = 40;\n",
    "        }\n",
    "        part batteryHigh : Battery {\n",
    "            attribute redefines capacity = 40;\n",
    "        }\n",
    "    \n",
    "        part powerEngine : Engine;\n",
    "        part standardEngine : Engine;\n",
    "    }\n",
    "}"
   ]
  },
  {
   "cell_type": "code",
   "execution_count": 38,
   "metadata": {},
   "outputs": [
    {
     "data": {
      "image/svg+xml": [
       "<?xml version=\"1.0\" encoding=\"UTF-8\" standalone=\"no\"?><svg xmlns=\"http://www.w3.org/2000/svg\" xmlns:xlink=\"http://www.w3.org/1999/xlink\" contentScriptType=\"application/ecmascript\" contentStyleType=\"text/css\" height=\"347px\" preserveAspectRatio=\"none\" style=\"width:644px;height:347px;\" version=\"1.1\" viewBox=\"0 0 644 347\" width=\"644px\" zoomAndPan=\"magnify\"><defs/><g><!--MD5=[43c9051892ef23e1a46a86907403d788]\n",
       "class E1--><a href=\"psysml:a540df5f-b443-49e4-bd3d-a1ae95a3ea51\" target=\"_top\" title=\"psysml:a540df5f-b443-49e4-bd3d-a1ae95a3ea51\" xlink:actuate=\"onRequest\" xlink:href=\"psysml:a540df5f-b443-49e4-bd3d-a1ae95a3ea51\" xlink:show=\"new\" xlink:title=\"psysml:a540df5f-b443-49e4-bd3d-a1ae95a3ea51\" xlink:type=\"simple\"><rect fill=\"#FFFFFF\" height=\"48.1875\" id=\"E1\" rx=\"10\" ry=\"10\" style=\"stroke: #383838; stroke-width: 1.5;\" width=\"336\" x=\"96.5\" y=\"7\"/><text fill=\"#000000\" font-family=\"sans-serif\" font-size=\"12\" font-style=\"italic\" lengthAdjust=\"spacingAndGlyphs\" textLength=\"35\" x=\"247\" y=\"24.457\">«part»</text><text fill=\"#000000\" font-family=\"sans-serif\" font-size=\"12\" font-style=\"italic\" lengthAdjust=\"spacingAndGlyphs\" textLength=\"103\" x=\"99.5\" y=\"39.5508\">eVehicleVariations</text><text fill=\"#000000\" font-family=\"sans-serif\" font-size=\"12\" lengthAdjust=\"spacingAndGlyphs\" textLength=\"224\" x=\"205.5\" y=\"39.5508\">:&gt; eVehicle_LogicalArchitecture::eVehicle</text><line style=\"stroke: #383838; stroke-width: 1.5;\" x1=\"97.5\" x2=\"431.5\" y1=\"47.1875\" y2=\"47.1875\"/></a><!--MD5=[b4997ac47864f28c2f74865a473b2911]\n",
       "class E2--><a href=\"psysml:68af088d-dc6e-470b-8b4d-9ea1f62f2a13\" target=\"_top\" title=\"psysml:68af088d-dc6e-470b-8b4d-9ea1f62f2a13\" xlink:actuate=\"onRequest\" xlink:href=\"psysml:68af088d-dc6e-470b-8b4d-9ea1f62f2a13\" xlink:show=\"new\" xlink:title=\"psysml:68af088d-dc6e-470b-8b4d-9ea1f62f2a13\" xlink:type=\"simple\"><rect fill=\"#FFFFFF\" height=\"63.2813\" id=\"E2\" rx=\"10\" ry=\"10\" style=\"stroke: #383838; stroke-width: 1.5;\" width=\"90\" x=\"93.5\" y=\"131.5\"/><text fill=\"#000000\" font-family=\"sans-serif\" font-size=\"12\" font-style=\"italic\" lengthAdjust=\"spacingAndGlyphs\" textLength=\"61\" x=\"108\" y=\"148.957\">«variation»</text><text fill=\"#000000\" font-family=\"sans-serif\" font-size=\"12\" font-style=\"italic\" lengthAdjust=\"spacingAndGlyphs\" textLength=\"35\" x=\"121\" y=\"164.0508\">«part»</text><text fill=\"#000000\" font-family=\"sans-serif\" font-size=\"12\" font-style=\"italic\" lengthAdjust=\"spacingAndGlyphs\" textLength=\"38\" x=\"96.5\" y=\"179.1445\">battery</text><text fill=\"#000000\" font-family=\"sans-serif\" font-size=\"12\" lengthAdjust=\"spacingAndGlyphs\" textLength=\"43\" x=\"134.5\" y=\"179.1445\">: Battery</text><line style=\"stroke: #383838; stroke-width: 1.5;\" x1=\"94.5\" x2=\"182.5\" y1=\"186.7813\" y2=\"186.7813\"/></a><!--MD5=[09b614a08d8cba4a07c9adeb5e0fee81]\n",
       "class E3--><a href=\"psysml:e0444f0e-f98b-459c-9544-76316165ce40\" target=\"_top\" title=\"psysml:e0444f0e-f98b-459c-9544-76316165ce40\" xlink:actuate=\"onRequest\" xlink:href=\"psysml:e0444f0e-f98b-459c-9544-76316165ce40\" xlink:show=\"new\" xlink:title=\"psysml:e0444f0e-f98b-459c-9544-76316165ce40\" xlink:type=\"simple\"><rect fill=\"#FFFFFF\" height=\"48.1875\" id=\"E3\" rx=\"10\" ry=\"10\" style=\"stroke: #383838; stroke-width: 1.5;\" width=\"63\" x=\"7\" y=\"288\"/><text fill=\"#000000\" font-family=\"sans-serif\" font-size=\"12\" font-style=\"italic\" lengthAdjust=\"spacingAndGlyphs\" textLength=\"35\" x=\"21\" y=\"305.457\">«part»</text><text fill=\"#000000\" font-family=\"sans-serif\" font-size=\"12\" lengthAdjust=\"spacingAndGlyphs\" textLength=\"54\" x=\"10\" y=\"320.5508\">batterLow</text><line style=\"stroke: #383838; stroke-width: 1.5;\" x1=\"8\" x2=\"69\" y1=\"328.1875\" y2=\"328.1875\"/></a><!--MD5=[ebbe1d658d1005bcc118a6aa81145e00]\n",
       "class E4--><a href=\"psysml:fe48d660-7495-4bdd-808b-56f23ef10b6b\" target=\"_top\" title=\"psysml:fe48d660-7495-4bdd-808b-56f23ef10b6b\" xlink:actuate=\"onRequest\" xlink:href=\"psysml:fe48d660-7495-4bdd-808b-56f23ef10b6b\" xlink:show=\"new\" xlink:title=\"psysml:fe48d660-7495-4bdd-808b-56f23ef10b6b\" xlink:type=\"simple\"><rect fill=\"#FFFFFF\" height=\"48.1875\" id=\"E4\" rx=\"10\" ry=\"10\" style=\"stroke: #383838; stroke-width: 1.5;\" width=\"71\" x=\"105\" y=\"288\"/><text fill=\"#000000\" font-family=\"sans-serif\" font-size=\"12\" font-style=\"italic\" lengthAdjust=\"spacingAndGlyphs\" textLength=\"35\" x=\"123\" y=\"305.457\">«part»</text><text fill=\"#000000\" font-family=\"sans-serif\" font-size=\"12\" lengthAdjust=\"spacingAndGlyphs\" textLength=\"62\" x=\"108\" y=\"320.5508\">batteryHigh</text><line style=\"stroke: #383838; stroke-width: 1.5;\" x1=\"106\" x2=\"175\" y1=\"328.1875\" y2=\"328.1875\"/></a><!--MD5=[270fce915f116d4de14055a7c1d9a0f3]\n",
       "class E5--><a href=\"psysml:c496af77-50f2-4ba4-b6b9-ed84d3ffb858\" target=\"_top\" title=\"psysml:c496af77-50f2-4ba4-b6b9-ed84d3ffb858\" xlink:actuate=\"onRequest\" xlink:href=\"psysml:c496af77-50f2-4ba4-b6b9-ed84d3ffb858\" xlink:show=\"new\" xlink:title=\"psysml:c496af77-50f2-4ba4-b6b9-ed84d3ffb858\" xlink:type=\"simple\"><rect fill=\"#FFFFFF\" height=\"63.2813\" id=\"E5\" rx=\"10\" ry=\"10\" style=\"stroke: #383838; stroke-width: 1.5;\" width=\"92\" x=\"218.5\" y=\"131.5\"/><text fill=\"#000000\" font-family=\"sans-serif\" font-size=\"12\" font-style=\"italic\" lengthAdjust=\"spacingAndGlyphs\" textLength=\"61\" x=\"234\" y=\"148.957\">«variation»</text><text fill=\"#000000\" font-family=\"sans-serif\" font-size=\"12\" font-style=\"italic\" lengthAdjust=\"spacingAndGlyphs\" textLength=\"35\" x=\"247\" y=\"164.0508\">«part»</text><text fill=\"#000000\" font-family=\"sans-serif\" font-size=\"12\" font-style=\"italic\" lengthAdjust=\"spacingAndGlyphs\" textLength=\"38\" x=\"221.5\" y=\"179.1445\">engine</text><text fill=\"#000000\" font-family=\"sans-serif\" font-size=\"12\" lengthAdjust=\"spacingAndGlyphs\" textLength=\"45\" x=\"259.5\" y=\"179.1445\">: Engine</text><line style=\"stroke: #383838; stroke-width: 1.5;\" x1=\"219.5\" x2=\"309.5\" y1=\"186.7813\" y2=\"186.7813\"/></a><!--MD5=[60a26617385b1d2d0262a64233df1f8d]\n",
       "class E6--><a href=\"psysml:20612e73-c5b1-4b55-b7ca-a87258167518\" target=\"_top\" title=\"psysml:20612e73-c5b1-4b55-b7ca-a87258167518\" xlink:actuate=\"onRequest\" xlink:href=\"psysml:20612e73-c5b1-4b55-b7ca-a87258167518\" xlink:show=\"new\" xlink:title=\"psysml:20612e73-c5b1-4b55-b7ca-a87258167518\" xlink:type=\"simple\"><rect fill=\"#FFFFFF\" height=\"48.1875\" id=\"E6\" rx=\"10\" ry=\"10\" style=\"stroke: #383838; stroke-width: 1.5;\" width=\"97\" x=\"214\" y=\"288\"/><text fill=\"#000000\" font-family=\"sans-serif\" font-size=\"12\" font-style=\"italic\" lengthAdjust=\"spacingAndGlyphs\" textLength=\"35\" x=\"245\" y=\"305.457\">«part»</text><text fill=\"#000000\" font-family=\"sans-serif\" font-size=\"12\" lengthAdjust=\"spacingAndGlyphs\" textLength=\"88\" x=\"217\" y=\"320.5508\">standardEngine</text><line style=\"stroke: #383838; stroke-width: 1.5;\" x1=\"215\" x2=\"310\" y1=\"328.1875\" y2=\"328.1875\"/></a><!--MD5=[2156ba9850f5573cc1fc38a6a4b2f02b]\n",
       "class E7--><a href=\"psysml:e462a900-5848-4dbc-854a-2217c4636df4\" target=\"_top\" title=\"psysml:e462a900-5848-4dbc-854a-2217c4636df4\" xlink:actuate=\"onRequest\" xlink:href=\"psysml:e462a900-5848-4dbc-854a-2217c4636df4\" xlink:show=\"new\" xlink:title=\"psysml:e462a900-5848-4dbc-854a-2217c4636df4\" xlink:type=\"simple\"><rect fill=\"#FFFFFF\" height=\"48.1875\" id=\"E7\" rx=\"10\" ry=\"10\" style=\"stroke: #383838; stroke-width: 1.5;\" width=\"82\" x=\"346.5\" y=\"288\"/><text fill=\"#000000\" font-family=\"sans-serif\" font-size=\"12\" font-style=\"italic\" lengthAdjust=\"spacingAndGlyphs\" textLength=\"35\" x=\"370\" y=\"305.457\">«part»</text><text fill=\"#000000\" font-family=\"sans-serif\" font-size=\"12\" lengthAdjust=\"spacingAndGlyphs\" textLength=\"73\" x=\"349.5\" y=\"320.5508\">powerEngine</text><line style=\"stroke: #383838; stroke-width: 1.5;\" x1=\"347.5\" x2=\"427.5\" y1=\"328.1875\" y2=\"328.1875\"/></a><!--MD5=[b9389687b975829384b498ac4b7476b2]\n",
       "class E8--><a href=\"psysml:bc4cb83b-fd15-46bf-b998-76efd06b0800\" target=\"_top\" title=\"psysml:bc4cb83b-fd15-46bf-b998-76efd06b0800\" xlink:actuate=\"onRequest\" xlink:href=\"psysml:bc4cb83b-fd15-46bf-b998-76efd06b0800\" xlink:show=\"new\" xlink:title=\"psysml:bc4cb83b-fd15-46bf-b998-76efd06b0800\" xlink:type=\"simple\"><rect fill=\"#FFFFFF\" height=\"93.6953\" id=\"E8\" rx=\"10\" ry=\"10\" style=\"stroke: #383838; stroke-width: 1.5;\" width=\"288\" x=\"345.5\" y=\"116\"/><text fill=\"#000000\" font-family=\"sans-serif\" font-size=\"12\" font-style=\"italic\" lengthAdjust=\"spacingAndGlyphs\" textLength=\"67\" x=\"456\" y=\"133.457\">«constraint»</text><text fill=\"#000000\" font-family=\"sans-serif\" font-size=\"12\" font-style=\"italic\" lengthAdjust=\"spacingAndGlyphs\" text-decoration=\"line-through\" textLength=\"46\" x=\"465\" y=\"148.5508\">noname</text><text fill=\"#000000\" font-family=\"sans-serif\" font-size=\"12\" lengthAdjust=\"spacingAndGlyphs\" textLength=\"0\" x=\"514\" y=\"148.5508\"/><line style=\"stroke: #383838; stroke-width: 1.5;\" x1=\"346.5\" x2=\"632.5\" y1=\"156.1875\" y2=\"156.1875\"/><text fill=\"#000000\" font-family=\"sans-serif\" font-size=\"11\" lengthAdjust=\"spacingAndGlyphs\" textLength=\"276\" x=\"351.5\" y=\"189.4424\">{ (battery == batteryLow &amp; engine == standardEngine) ^ (</text><text fill=\"#000000\" font-family=\"sans-serif\" font-size=\"11\" lengthAdjust=\"spacingAndGlyphs\" textLength=\"118\" x=\"351.5\" y=\"203.2783\">battery == batteryHigh) }</text><line style=\"stroke: #383838; stroke-width: 1.0;\" x1=\"346.5\" x2=\"437.5\" y1=\"171.1055\" y2=\"171.1055\"/><text fill=\"#000000\" font-family=\"sans-serif\" font-size=\"11\" lengthAdjust=\"spacingAndGlyphs\" textLength=\"104\" x=\"437.5\" y=\"175.1064\">operator expressions</text><line style=\"stroke: #383838; stroke-width: 1.0;\" x1=\"541.5\" x2=\"632.5\" y1=\"171.1055\" y2=\"171.1055\"/></a><!--MD5=[a523cb2a0b79ecf9065ad8783f96c320]\n",
       "reverse link E1 to E2--><a href=\"psysml:dce5bf27-74a1-4c52-8bad-50212d3d6bb0\" target=\"_top\" title=\"psysml:dce5bf27-74a1-4c52-8bad-50212d3d6bb0\" xlink:actuate=\"onRequest\" xlink:href=\"psysml:dce5bf27-74a1-4c52-8bad-50212d3d6bb0\" xlink:show=\"new\" xlink:title=\"psysml:dce5bf27-74a1-4c52-8bad-50212d3d6bb0\" xlink:type=\"simple\"><path d=\"M232.77,64.73 C213.03,85.1 187.8,111.13 168.41,131.14 \" fill=\"none\" id=\"E1&lt;-E2\" style=\"stroke: #383838; stroke-width: 1.0;\"/><polygon fill=\"#383838\" points=\"241.97,55.24,234.9218,56.764,233.6177,63.8562,240.6659,62.3322,241.97,55.24\" style=\"stroke: #383838; stroke-width: 1.0;\"/><text fill=\"#000000\" font-family=\"sans-serif\" font-size=\"13\" lengthAdjust=\"spacingAndGlyphs\" textLength=\"7\" x=\"166.8571\" y=\"120.4212\">1</text></a><!--MD5=[2720a5a1f2c3fca2055b230370638851]\n",
       "link E2 to E3--><a href=\"psysml:27c8f89a-32d4-4de7-9d81-e97c7a87e228\" target=\"_top\" title=\"psysml:27c8f89a-32d4-4de7-9d81-e97c7a87e228\" xlink:actuate=\"onRequest\" xlink:href=\"psysml:27c8f89a-32d4-4de7-9d81-e97c7a87e228\" xlink:show=\"new\" xlink:title=\"psysml:27c8f89a-32d4-4de7-9d81-e97c7a87e228\" xlink:type=\"simple\"><path d=\"M106.89,202.61 C97.71,214.37 87.91,227.5 79.5,240 C71.21,252.33 62.86,266.41 55.88,278.76 \" fill=\"none\" id=\"E2-E3\" style=\"stroke: #383838; stroke-width: 1.0;\"/><polygon fill=\"#383838\" points=\"50.84,287.82,57.3584,282.2963,52.1191,279.3723,50.84,287.82\" style=\"stroke: #383838; stroke-width: 1.0;\"/><path d=\"M104.564,191.8976 A9,9 0 0 0 117.8424 202.3754\" fill=\"none\" style=\"stroke: #383838; stroke-width: 1.5;\"/><text fill=\"#000000\" font-family=\"sans-serif\" font-size=\"13\" lengthAdjust=\"spacingAndGlyphs\" textLength=\"51\" x=\"80.5\" y=\"254.4951\">«variant»</text><text fill=\"#000000\" font-family=\"sans-serif\" font-size=\"13\" lengthAdjust=\"spacingAndGlyphs\" textLength=\"5\" x=\"48.3615\" y=\"277.09\">*</text></a><!--MD5=[4d03bb2d0377dc85ccfab60ff574652b]\n",
       "link E2 to E4--><a href=\"psysml:16cc6c7e-e423-4977-8ae9-d6be97ec90e7\" target=\"_top\" title=\"psysml:16cc6c7e-e423-4977-8ae9-d6be97ec90e7\" xlink:actuate=\"onRequest\" xlink:href=\"psysml:16cc6c7e-e423-4977-8ae9-d6be97ec90e7\" xlink:show=\"new\" xlink:title=\"psysml:16cc6c7e-e423-4977-8ae9-d6be97ec90e7\" xlink:type=\"simple\"><path d=\"M139.06,205.05 C139.37,227.95 139.75,256.11 140.05,277.64 \" fill=\"none\" id=\"E2-E4\" style=\"stroke: #383838; stroke-width: 1.0;\"/><polygon fill=\"#383838\" points=\"140.19,287.93,143.0754,279.888,137.076,279.9737,140.19,287.93\" style=\"stroke: #383838; stroke-width: 1.0;\"/><path d=\"M130.503,198.0067 A9,9 0 0 0 147.4161 197.7892\" fill=\"none\" style=\"stroke: #383838; stroke-width: 1.5;\"/><text fill=\"#000000\" font-family=\"sans-serif\" font-size=\"13\" lengthAdjust=\"spacingAndGlyphs\" textLength=\"51\" x=\"141.5\" y=\"254.4951\">«variant»</text><text fill=\"#000000\" font-family=\"sans-serif\" font-size=\"13\" lengthAdjust=\"spacingAndGlyphs\" textLength=\"5\" x=\"134.4699\" y=\"277.2282\">*</text></a><!--MD5=[33238bef88d6431a141d8bc8fb12bca0]\n",
       "reverse link E1 to E5--><a href=\"psysml:fb04139d-69ee-4088-91e0-712f07bc75b6\" target=\"_top\" title=\"psysml:fb04139d-69ee-4088-91e0-712f07bc75b6\" xlink:actuate=\"onRequest\" xlink:href=\"psysml:fb04139d-69ee-4088-91e0-712f07bc75b6\" xlink:show=\"new\" xlink:title=\"psysml:fb04139d-69ee-4088-91e0-712f07bc75b6\" xlink:type=\"simple\"><path d=\"M264.5,68.4 C264.5,88.16 264.5,112.31 264.5,131.14 \" fill=\"none\" id=\"E1&lt;-E5\" style=\"stroke: #383838; stroke-width: 1.0;\"/><polygon fill=\"#383838\" points=\"264.5,55.24,260.5,61.24,264.5,67.24,268.5,61.24,264.5,55.24\" style=\"stroke: #383838; stroke-width: 1.0;\"/><text fill=\"#000000\" font-family=\"sans-serif\" font-size=\"13\" lengthAdjust=\"spacingAndGlyphs\" textLength=\"7\" x=\"256.7781\" y=\"120.4212\">1</text></a><!--MD5=[9120cf2e5df3bff93db8f754bbbc09b4]\n",
       "link E5 to E6--><a href=\"psysml:cdcbc05a-d4bc-471d-afc6-8c526fb0149e\" target=\"_top\" title=\"psysml:cdcbc05a-d4bc-471d-afc6-8c526fb0149e\" xlink:actuate=\"onRequest\" xlink:href=\"psysml:cdcbc05a-d4bc-471d-afc6-8c526fb0149e\" xlink:show=\"new\" xlink:title=\"psysml:cdcbc05a-d4bc-471d-afc6-8c526fb0149e\" xlink:type=\"simple\"><path d=\"M263.94,205.05 C263.63,227.95 263.25,256.11 262.95,277.64 \" fill=\"none\" id=\"E5-E6\" style=\"stroke: #383838; stroke-width: 1.0;\"/><polygon fill=\"#383838\" points=\"262.81,287.93,265.924,279.9737,259.9246,279.888,262.81,287.93\" style=\"stroke: #383838; stroke-width: 1.0;\"/><path d=\"M255.5839,197.7892 A9,9 0 0 0 272.497 198.0067\" fill=\"none\" style=\"stroke: #383838; stroke-width: 1.5;\"/><text fill=\"#000000\" font-family=\"sans-serif\" font-size=\"13\" lengthAdjust=\"spacingAndGlyphs\" textLength=\"51\" x=\"264.5\" y=\"254.4951\">«variant»</text><text fill=\"#000000\" font-family=\"sans-serif\" font-size=\"13\" lengthAdjust=\"spacingAndGlyphs\" textLength=\"5\" x=\"257.2488\" y=\"277.2282\">*</text></a><!--MD5=[3a9b96bfbf6b6ad89c494e81751bda47]\n",
       "link E5 to E7--><a href=\"psysml:ab00dc50-2811-4c86-a2ea-ab0d82b0470a\" target=\"_top\" title=\"psysml:ab00dc50-2811-4c86-a2ea-ab0d82b0470a\" xlink:actuate=\"onRequest\" xlink:href=\"psysml:ab00dc50-2811-4c86-a2ea-ab0d82b0470a\" xlink:show=\"new\" xlink:title=\"psysml:ab00dc50-2811-4c86-a2ea-ab0d82b0470a\" xlink:type=\"simple\"><path d=\"M296.79,202.59 C317,226.74 342.69,257.45 361.57,280.01 \" fill=\"none\" id=\"E5-E7\" style=\"stroke: #383838; stroke-width: 1.0;\"/><polygon fill=\"#383838\" points=\"368.19,287.93,365.3599,279.8683,360.7569,283.717,368.19,287.93\" style=\"stroke: #383838; stroke-width: 1.0;\"/><path d=\"M285.7664,202.6064 A9,9 0 0 0 298.7426 191.7566\" fill=\"none\" style=\"stroke: #383838; stroke-width: 1.5;\"/><text fill=\"#000000\" font-family=\"sans-serif\" font-size=\"13\" lengthAdjust=\"spacingAndGlyphs\" textLength=\"51\" x=\"342.5\" y=\"254.4951\">«variant»</text><text fill=\"#000000\" font-family=\"sans-serif\" font-size=\"13\" lengthAdjust=\"spacingAndGlyphs\" textLength=\"5\" x=\"357.6012\" y=\"277.2282\">*</text></a><!--MD5=[661cb7e25c535686a73d30316f0ecb18]\n",
       "reverse link E1 to E8--><a href=\"psysml:71e8695a-2806-4478-abd8-92c058e4b759\" target=\"_top\" title=\"psysml:71e8695a-2806-4478-abd8-92c058e4b759\" xlink:actuate=\"onRequest\" xlink:href=\"psysml:71e8695a-2806-4478-abd8-92c058e4b759\" xlink:show=\"new\" xlink:title=\"psysml:71e8695a-2806-4478-abd8-92c058e4b759\" xlink:type=\"simple\"><path d=\"M315.91,61.7 C343.69,77.75 378.61,97.93 409.83,115.97 \" fill=\"none\" id=\"E1&lt;-E8\" style=\"stroke: #383838; stroke-width: 1.0;\"/><polygon fill=\"#383838\" points=\"304.47,55.09,307.6623,61.556,314.8587,61.0962,311.6664,54.6302,304.47,55.09\" style=\"stroke: #383838; stroke-width: 1.0;\"/><text fill=\"#000000\" font-family=\"sans-serif\" font-size=\"13\" lengthAdjust=\"spacingAndGlyphs\" textLength=\"5\" x=\"392.2477\" y=\"105.0889\">*</text></a><!--MD5=[2418fa273999340b1be8a131182b99e9]\n",
       "@startuml\r\n",
       "skinparam monochrome true\r\n",
       "skinparam classbackgroundcolor white\r\n",
       "skinparam shadowing false\r\n",
       "skinparam wrapWidth 300\r\n",
       "hide circle\r\n",
       "\r\n",
       "comp usage \"<i>eVehicleVariations</i> :> eVehicle_LogicalArchitecture::eVehicle\" as E1  <<(T,blue) part>> [[psysml:a540df5f-b443-49e4-bd3d-a1ae95a3ea51 ]] {\r\n",
       "}\r\n",
       "comp usage \"<i>battery</i>: Battery \" as E2  <<variation>>\\n <<(T,blue) part>> [[psysml:68af088d-dc6e-470b-8b4d-9ea1f62f2a13 ]] {\r\n",
       "}\r\n",
       "comp usage \"batterLow \" as E3  <<(T,blue) part>> [[psysml:e0444f0e-f98b-459c-9544-76316165ce40 ]] {\r\n",
       "}\r\n",
       "comp usage \"batteryHigh \" as E4  <<(T,blue) part>> [[psysml:fe48d660-7495-4bdd-808b-56f23ef10b6b ]] {\r\n",
       "}\r\n",
       "comp usage \"<i>engine</i>: Engine \" as E5  <<variation>>\\n <<(T,blue) part>> [[psysml:c496af77-50f2-4ba4-b6b9-ed84d3ffb858 ]] {\r\n",
       "}\r\n",
       "comp usage \"standardEngine \" as E6  <<(T,blue) part>> [[psysml:20612e73-c5b1-4b55-b7ca-a87258167518 ]] {\r\n",
       "}\r\n",
       "comp usage \"powerEngine \" as E7  <<(T,blue) part>> [[psysml:e462a900-5848-4dbc-854a-2217c4636df4 ]] {\r\n",
       "}\r\n",
       "comp usage \"<i><s>noname</s></i> \" as E8  <<(T,blue) constraint>> [[psysml:bc4cb83b-fd15-46bf-b998-76efd06b0800 ]] {\r\n",
       "- - operator expressions - -\r\n",
       " { (battery == batteryLow & engine == standardEngine) ^ (battery == batteryHigh) }\r\n",
       "}\r\n",
       "E1 *- - \"1\"E2 [[psysml:dce5bf27-74a1-4c52-8bad-50212d3d6bb0 ]] \r\n",
       "E2 )- ->> \"*\"E3 [[psysml:27c8f89a-32d4-4de7-9d81-e97c7a87e228 ]] : <<variant>>\r\n",
       "E2 )- ->> \"*\"E4 [[psysml:16cc6c7e-e423-4977-8ae9-d6be97ec90e7 ]] : <<variant>>\r\n",
       "E1 *- - \"1\"E5 [[psysml:fb04139d-69ee-4088-91e0-712f07bc75b6 ]] \r\n",
       "E5 )- ->> \"*\"E6 [[psysml:cdcbc05a-d4bc-471d-afc6-8c526fb0149e ]] : <<variant>>\r\n",
       "E5 )- ->> \"*\"E7 [[psysml:ab00dc50-2811-4c86-a2ea-ab0d82b0470a ]] : <<variant>>\r\n",
       "E1 *- - \"*\"E8 [[psysml:71e8695a-2806-4478-abd8-92c058e4b759 ]] \r\n",
       "@enduml\r\n",
       "\n",
       "PlantUML version 1.2020.13(Sat Jun 13 14:26:38 CEST 2020)\n",
       "(EPL source distribution)\n",
       "Java Runtime: OpenJDK Runtime Environment\n",
       "JVM: OpenJDK 64-Bit Server VM\n",
       "Default Encoding: Cp1252\n",
       "Language: en\n",
       "Country: US\n",
       "--></g></svg>"
      ]
     },
     "execution_count": 38,
     "metadata": {},
     "output_type": "execute_result"
    }
   ],
   "source": [
    "%viz --view=tree eVehicle_VariantModel::eVehicle_Variations::eVehicleVariations"
   ]
  },
  {
   "cell_type": "code",
   "execution_count": 39,
   "metadata": {},
   "outputs": [
    {
     "data": {
      "image/svg+xml": [
       "<?xml version=\"1.0\" encoding=\"UTF-8\" standalone=\"no\"?><svg xmlns=\"http://www.w3.org/2000/svg\" xmlns:xlink=\"http://www.w3.org/1999/xlink\" contentScriptType=\"application/ecmascript\" contentStyleType=\"text/css\" height=\"226px\" preserveAspectRatio=\"none\" style=\"width:1145px;height:226px;\" version=\"1.1\" viewBox=\"0 0 1145 226\" width=\"1145px\" zoomAndPan=\"magnify\"><defs/><g><!--MD5=[fbc87193dbaf4d95561dea2c320d4a47]\n",
       "cluster E1--><a href=\"psysml:e29d9d12-8be5-47e6-9fea-f9255ff90617\" target=\"_top\" title=\"psysml:e29d9d12-8be5-47e6-9fea-f9255ff90617\" xlink:actuate=\"onRequest\" xlink:href=\"psysml:e29d9d12-8be5-47e6-9fea-f9255ff90617\" xlink:show=\"new\" xlink:title=\"psysml:e29d9d12-8be5-47e6-9fea-f9255ff90617\" xlink:type=\"simple\"><polygon fill=\"#FFFFFF\" points=\"16,6,195,6,202,29.6094,1123,29.6094,1123,214,16,214,16,6\" style=\"stroke: #000000; stroke-width: 1.5;\"/><line style=\"stroke: #000000; stroke-width: 1.5;\" x1=\"16\" x2=\"202\" y1=\"29.6094\" y2=\"29.6094\"/><text fill=\"#000000\" font-family=\"sans-serif\" font-size=\"14\" font-weight=\"bold\" lengthAdjust=\"spacingAndGlyphs\" textLength=\"173\" x=\"20\" y=\"22.5332\">eVehicle_Configurations</text></a><!--MD5=[b4997ac47864f28c2f74865a473b2911]\n",
       "class E2--><a href=\"psysml:3c1ff2eb-ff0f-455d-9992-7846af9470ef\" target=\"_top\" title=\"psysml:3c1ff2eb-ff0f-455d-9992-7846af9470ef\" xlink:actuate=\"onRequest\" xlink:href=\"psysml:3c1ff2eb-ff0f-455d-9992-7846af9470ef\" xlink:show=\"new\" xlink:title=\"psysml:3c1ff2eb-ff0f-455d-9992-7846af9470ef\" xlink:type=\"simple\"><rect fill=\"#FFFFFF\" height=\"48.1875\" id=\"E2\" rx=\"10\" ry=\"10\" style=\"stroke: #383838; stroke-width: 1.5;\" width=\"336\" x=\"771\" y=\"42\"/><text fill=\"#000000\" font-family=\"sans-serif\" font-size=\"12\" font-style=\"italic\" lengthAdjust=\"spacingAndGlyphs\" textLength=\"35\" x=\"921.5\" y=\"59.457\">«part»</text><text fill=\"#000000\" font-family=\"sans-serif\" font-size=\"12\" lengthAdjust=\"spacingAndGlyphs\" textLength=\"330\" x=\"774\" y=\"74.5508\">eVehicleStandard :&gt; eVehicle_Variations::eVehicleVariations</text><line style=\"stroke: #383838; stroke-width: 1.5;\" x1=\"772\" x2=\"1106\" y1=\"82.1875\" y2=\"82.1875\"/></a><!--MD5=[09b614a08d8cba4a07c9adeb5e0fee81]\n",
       "class E3--><a href=\"psysml:032783c3-700a-4d50-b271-1d0b8b6b39f4\" target=\"_top\" title=\"psysml:032783c3-700a-4d50-b271-1d0b8b6b39f4\" xlink:actuate=\"onRequest\" xlink:href=\"psysml:032783c3-700a-4d50-b271-1d0b8b6b39f4\" xlink:show=\"new\" xlink:title=\"psysml:032783c3-700a-4d50-b271-1d0b8b6b39f4\" xlink:type=\"simple\"><rect fill=\"#FFFFFF\" height=\"48.1875\" id=\"E3\" rx=\"10\" ry=\"10\" style=\"stroke: #383838; stroke-width: 1.5;\" width=\"47\" x=\"874.5\" y=\"150\"/><text fill=\"#000000\" font-family=\"sans-serif\" font-size=\"12\" font-style=\"italic\" lengthAdjust=\"spacingAndGlyphs\" textLength=\"35\" x=\"880.5\" y=\"167.457\">«part»</text><text fill=\"#000000\" font-family=\"sans-serif\" font-size=\"12\" lengthAdjust=\"spacingAndGlyphs\" textLength=\"38\" x=\"877.5\" y=\"182.5508\">engine</text><line style=\"stroke: #383838; stroke-width: 1.5;\" x1=\"875.5\" x2=\"920.5\" y1=\"190.1875\" y2=\"190.1875\"/></a><!--MD5=[ebbe1d658d1005bcc118a6aa81145e00]\n",
       "class E4--><a href=\"psysml:81fd877b-1952-43ba-8c01-e67c037a5c24\" target=\"_top\" title=\"psysml:81fd877b-1952-43ba-8c01-e67c037a5c24\" xlink:actuate=\"onRequest\" xlink:href=\"psysml:81fd877b-1952-43ba-8c01-e67c037a5c24\" xlink:show=\"new\" xlink:title=\"psysml:81fd877b-1952-43ba-8c01-e67c037a5c24\" xlink:type=\"simple\"><rect fill=\"#FFFFFF\" height=\"48.1875\" id=\"E4\" rx=\"10\" ry=\"10\" style=\"stroke: #383838; stroke-width: 1.5;\" width=\"45\" x=\"956.5\" y=\"150\"/><text fill=\"#000000\" font-family=\"sans-serif\" font-size=\"12\" font-style=\"italic\" lengthAdjust=\"spacingAndGlyphs\" textLength=\"35\" x=\"961.5\" y=\"167.457\">«part»</text><text fill=\"#000000\" font-family=\"sans-serif\" font-size=\"12\" lengthAdjust=\"spacingAndGlyphs\" textLength=\"36\" x=\"959.5\" y=\"182.5508\">battery</text><line style=\"stroke: #383838; stroke-width: 1.5;\" x1=\"957.5\" x2=\"1000.5\" y1=\"190.1875\" y2=\"190.1875\"/></a><!--MD5=[270fce915f116d4de14055a7c1d9a0f3]\n",
       "class E5--><a href=\"psysml:b58a0612-f189-4e83-b0f6-0b0474229185\" target=\"_top\" title=\"psysml:b58a0612-f189-4e83-b0f6-0b0474229185\" xlink:actuate=\"onRequest\" xlink:href=\"psysml:b58a0612-f189-4e83-b0f6-0b0474229185\" xlink:show=\"new\" xlink:title=\"psysml:b58a0612-f189-4e83-b0f6-0b0474229185\" xlink:type=\"simple\"><rect fill=\"#FFFFFF\" height=\"48.1875\" id=\"E5\" rx=\"10\" ry=\"10\" style=\"stroke: #383838; stroke-width: 1.5;\" width=\"337\" x=\"398.5\" y=\"42\"/><text fill=\"#000000\" font-family=\"sans-serif\" font-size=\"12\" font-style=\"italic\" lengthAdjust=\"spacingAndGlyphs\" textLength=\"35\" x=\"549.5\" y=\"59.457\">«part»</text><text fill=\"#000000\" font-family=\"sans-serif\" font-size=\"12\" lengthAdjust=\"spacingAndGlyphs\" textLength=\"331\" x=\"401.5\" y=\"74.5508\">eVehiclePremium :&gt; eVehicle_Variations::eVehicleVariations</text><line style=\"stroke: #383838; stroke-width: 1.5;\" x1=\"399.5\" x2=\"734.5\" y1=\"82.1875\" y2=\"82.1875\"/></a><!--MD5=[60a26617385b1d2d0262a64233df1f8d]\n",
       "class E6--><a href=\"psysml:20522aec-9b3a-4a73-b12a-b60e219c6ada\" target=\"_top\" title=\"psysml:20522aec-9b3a-4a73-b12a-b60e219c6ada\" xlink:actuate=\"onRequest\" xlink:href=\"psysml:20522aec-9b3a-4a73-b12a-b60e219c6ada\" xlink:show=\"new\" xlink:title=\"psysml:20522aec-9b3a-4a73-b12a-b60e219c6ada\" xlink:type=\"simple\"><rect fill=\"#FFFFFF\" height=\"48.1875\" id=\"E6\" rx=\"10\" ry=\"10\" style=\"stroke: #383838; stroke-width: 1.5;\" width=\"47\" x=\"502.5\" y=\"150\"/><text fill=\"#000000\" font-family=\"sans-serif\" font-size=\"12\" font-style=\"italic\" lengthAdjust=\"spacingAndGlyphs\" textLength=\"35\" x=\"508.5\" y=\"167.457\">«part»</text><text fill=\"#000000\" font-family=\"sans-serif\" font-size=\"12\" lengthAdjust=\"spacingAndGlyphs\" textLength=\"38\" x=\"505.5\" y=\"182.5508\">engine</text><line style=\"stroke: #383838; stroke-width: 1.5;\" x1=\"503.5\" x2=\"548.5\" y1=\"190.1875\" y2=\"190.1875\"/></a><!--MD5=[2156ba9850f5573cc1fc38a6a4b2f02b]\n",
       "class E7--><a href=\"psysml:76f2ee39-38a9-42e1-9854-20df99ef1126\" target=\"_top\" title=\"psysml:76f2ee39-38a9-42e1-9854-20df99ef1126\" xlink:actuate=\"onRequest\" xlink:href=\"psysml:76f2ee39-38a9-42e1-9854-20df99ef1126\" xlink:show=\"new\" xlink:title=\"psysml:76f2ee39-38a9-42e1-9854-20df99ef1126\" xlink:type=\"simple\"><rect fill=\"#FFFFFF\" height=\"48.1875\" id=\"E7\" rx=\"10\" ry=\"10\" style=\"stroke: #383838; stroke-width: 1.5;\" width=\"45\" x=\"584.5\" y=\"150\"/><text fill=\"#000000\" font-family=\"sans-serif\" font-size=\"12\" font-style=\"italic\" lengthAdjust=\"spacingAndGlyphs\" textLength=\"35\" x=\"589.5\" y=\"167.457\">«part»</text><text fill=\"#000000\" font-family=\"sans-serif\" font-size=\"12\" lengthAdjust=\"spacingAndGlyphs\" textLength=\"36\" x=\"587.5\" y=\"182.5508\">battery</text><line style=\"stroke: #383838; stroke-width: 1.5;\" x1=\"585.5\" x2=\"628.5\" y1=\"190.1875\" y2=\"190.1875\"/></a><!--MD5=[b9389687b975829384b498ac4b7476b2]\n",
       "class E8--><a href=\"psysml:a41d4bb3-3151-4e04-91af-728bcd16601a\" target=\"_top\" title=\"psysml:a41d4bb3-3151-4e04-91af-728bcd16601a\" xlink:actuate=\"onRequest\" xlink:href=\"psysml:a41d4bb3-3151-4e04-91af-728bcd16601a\" xlink:show=\"new\" xlink:title=\"psysml:a41d4bb3-3151-4e04-91af-728bcd16601a\" xlink:type=\"simple\"><rect fill=\"#FFFFFF\" height=\"48.1875\" id=\"E8\" rx=\"10\" ry=\"10\" style=\"stroke: #383838; stroke-width: 1.5;\" width=\"331\" x=\"32.5\" y=\"42\"/><text fill=\"#000000\" font-family=\"sans-serif\" font-size=\"12\" font-style=\"italic\" lengthAdjust=\"spacingAndGlyphs\" textLength=\"35\" x=\"180.5\" y=\"59.457\">«part»</text><text fill=\"#000000\" font-family=\"sans-serif\" font-size=\"12\" lengthAdjust=\"spacingAndGlyphs\" textLength=\"325\" x=\"35.5\" y=\"74.5508\">INVALIDeVehicle :&gt; eVehicle_Variations::eVehicleVariations</text><line style=\"stroke: #383838; stroke-width: 1.5;\" x1=\"33.5\" x2=\"362.5\" y1=\"82.1875\" y2=\"82.1875\"/></a><!--MD5=[fd4143e9d270a159db93a4ea2a975926]\n",
       "class E9--><a href=\"psysml:c0919f83-2db7-4a52-ae06-6c21ca8ab60a\" target=\"_top\" title=\"psysml:c0919f83-2db7-4a52-ae06-6c21ca8ab60a\" xlink:actuate=\"onRequest\" xlink:href=\"psysml:c0919f83-2db7-4a52-ae06-6c21ca8ab60a\" xlink:show=\"new\" xlink:title=\"psysml:c0919f83-2db7-4a52-ae06-6c21ca8ab60a\" xlink:type=\"simple\"><rect fill=\"#FFFFFF\" height=\"48.1875\" id=\"E9\" rx=\"10\" ry=\"10\" style=\"stroke: #383838; stroke-width: 1.5;\" width=\"47\" x=\"133.5\" y=\"150\"/><text fill=\"#000000\" font-family=\"sans-serif\" font-size=\"12\" font-style=\"italic\" lengthAdjust=\"spacingAndGlyphs\" textLength=\"35\" x=\"139.5\" y=\"167.457\">«part»</text><text fill=\"#000000\" font-family=\"sans-serif\" font-size=\"12\" lengthAdjust=\"spacingAndGlyphs\" textLength=\"38\" x=\"136.5\" y=\"182.5508\">engine</text><line style=\"stroke: #383838; stroke-width: 1.5;\" x1=\"134.5\" x2=\"179.5\" y1=\"190.1875\" y2=\"190.1875\"/></a><!--MD5=[96f4274e9e20536e775497830990834d]\n",
       "class E10--><a href=\"psysml:09bedcb6-1124-48a8-a6e3-a543162d7420\" target=\"_top\" title=\"psysml:09bedcb6-1124-48a8-a6e3-a543162d7420\" xlink:actuate=\"onRequest\" xlink:href=\"psysml:09bedcb6-1124-48a8-a6e3-a543162d7420\" xlink:show=\"new\" xlink:title=\"psysml:09bedcb6-1124-48a8-a6e3-a543162d7420\" xlink:type=\"simple\"><rect fill=\"#FFFFFF\" height=\"48.1875\" id=\"E10\" rx=\"10\" ry=\"10\" style=\"stroke: #383838; stroke-width: 1.5;\" width=\"45\" x=\"215.5\" y=\"150\"/><text fill=\"#000000\" font-family=\"sans-serif\" font-size=\"12\" font-style=\"italic\" lengthAdjust=\"spacingAndGlyphs\" textLength=\"35\" x=\"220.5\" y=\"167.457\">«part»</text><text fill=\"#000000\" font-family=\"sans-serif\" font-size=\"12\" lengthAdjust=\"spacingAndGlyphs\" textLength=\"36\" x=\"218.5\" y=\"182.5508\">battery</text><line style=\"stroke: #383838; stroke-width: 1.5;\" x1=\"216.5\" x2=\"259.5\" y1=\"190.1875\" y2=\"190.1875\"/></a><!--MD5=[209b3feb70ccb6233bfe1053d122c12c]\n",
       "reverse link E2 to E3--><a href=\"psysml:2fff9df9-c6d5-4e4a-a660-7d59ccd153b7\" target=\"_top\" title=\"psysml:2fff9df9-c6d5-4e4a-a660-7d59ccd153b7\" xlink:actuate=\"onRequest\" xlink:href=\"psysml:2fff9df9-c6d5-4e4a-a660-7d59ccd153b7\" xlink:show=\"new\" xlink:title=\"psysml:2fff9df9-c6d5-4e4a-a660-7d59ccd153b7\" xlink:type=\"simple\"><path d=\"M925.31,102.4 C919.29,117.97 912.38,135.82 907.02,149.68 \" fill=\"none\" id=\"E2&lt;-E3\" style=\"stroke: #383838; stroke-width: 1.0;\"/><polygon fill=\"#383838\" points=\"930.1,90,924.2023,94.1493,925.764,101.1892,931.6617,97.04,930.1,90\" style=\"stroke: #383838; stroke-width: 1.0;\"/><text fill=\"#000000\" font-family=\"sans-serif\" font-size=\"13\" lengthAdjust=\"spacingAndGlyphs\" textLength=\"7\" x=\"901.3655\" y=\"139.3171\">1</text></a><!--MD5=[9618e71518536f8baf3342ff6fdab317]\n",
       "reverse link E2 to E4--><a href=\"psysml:50d61b57-f8cc-4ec2-99a9-a87b4b984209\" target=\"_top\" title=\"psysml:50d61b57-f8cc-4ec2-99a9-a87b4b984209\" xlink:actuate=\"onRequest\" xlink:href=\"psysml:50d61b57-f8cc-4ec2-99a9-a87b4b984209\" xlink:show=\"new\" xlink:title=\"psysml:50d61b57-f8cc-4ec2-99a9-a87b4b984209\" xlink:type=\"simple\"><path d=\"M952.36,102.4 C958.23,117.97 964.97,135.82 970.2,149.68 \" fill=\"none\" id=\"E2&lt;-E4\" style=\"stroke: #383838; stroke-width: 1.0;\"/><polygon fill=\"#383838\" points=\"947.68,90,946.0523,97.025,951.9108,101.2294,953.5386,94.2044,947.68,90\" style=\"stroke: #383838; stroke-width: 1.0;\"/><text fill=\"#000000\" font-family=\"sans-serif\" font-size=\"13\" lengthAdjust=\"spacingAndGlyphs\" textLength=\"7\" x=\"960.2019\" y=\"139.3171\">1</text></a><!--MD5=[85d356282659285ab4b2cfe2f634dd2b]\n",
       "reverse link E5 to E6--><a href=\"psysml:342c288c-b0f6-4feb-b059-7d8092e3ea53\" target=\"_top\" title=\"psysml:342c288c-b0f6-4feb-b059-7d8092e3ea53\" xlink:actuate=\"onRequest\" xlink:href=\"psysml:342c288c-b0f6-4feb-b059-7d8092e3ea53\" xlink:show=\"new\" xlink:title=\"psysml:342c288c-b0f6-4feb-b059-7d8092e3ea53\" xlink:type=\"simple\"><path d=\"M553.31,102.4 C547.29,117.97 540.38,135.82 535.02,149.68 \" fill=\"none\" id=\"E5&lt;-E6\" style=\"stroke: #383838; stroke-width: 1.0;\"/><polygon fill=\"#383838\" points=\"558.1,90,552.2023,94.1493,553.764,101.1892,559.6617,97.04,558.1,90\" style=\"stroke: #383838; stroke-width: 1.0;\"/><text fill=\"#000000\" font-family=\"sans-serif\" font-size=\"13\" lengthAdjust=\"spacingAndGlyphs\" textLength=\"7\" x=\"529.3655\" y=\"139.3171\">1</text></a><!--MD5=[452b418e7f8a40397a49b8c0a78acc5b]\n",
       "reverse link E5 to E7--><a href=\"psysml:13a2d56b-3b1d-49ff-a17f-644418b30fdd\" target=\"_top\" title=\"psysml:13a2d56b-3b1d-49ff-a17f-644418b30fdd\" xlink:actuate=\"onRequest\" xlink:href=\"psysml:13a2d56b-3b1d-49ff-a17f-644418b30fdd\" xlink:show=\"new\" xlink:title=\"psysml:13a2d56b-3b1d-49ff-a17f-644418b30fdd\" xlink:type=\"simple\"><path d=\"M580.36,102.4 C586.23,117.97 592.97,135.82 598.2,149.68 \" fill=\"none\" id=\"E5&lt;-E7\" style=\"stroke: #383838; stroke-width: 1.0;\"/><polygon fill=\"#383838\" points=\"575.68,90,574.0523,97.025,579.9108,101.2294,581.5386,94.2044,575.68,90\" style=\"stroke: #383838; stroke-width: 1.0;\"/><text fill=\"#000000\" font-family=\"sans-serif\" font-size=\"13\" lengthAdjust=\"spacingAndGlyphs\" textLength=\"7\" x=\"588.2019\" y=\"139.3171\">1</text></a><!--MD5=[22f5b4bae7e060dce8a1c8021efdb95b]\n",
       "reverse link E8 to E9--><a href=\"psysml:9595d614-5bbd-47ce-a7b3-b6271c65d9aa\" target=\"_top\" title=\"psysml:9595d614-5bbd-47ce-a7b3-b6271c65d9aa\" xlink:actuate=\"onRequest\" xlink:href=\"psysml:9595d614-5bbd-47ce-a7b3-b6271c65d9aa\" xlink:show=\"new\" xlink:title=\"psysml:9595d614-5bbd-47ce-a7b3-b6271c65d9aa\" xlink:type=\"simple\"><path d=\"M184.31,102.4 C178.29,117.97 171.38,135.82 166.02,149.68 \" fill=\"none\" id=\"E8&lt;-E9\" style=\"stroke: #383838; stroke-width: 1.0;\"/><polygon fill=\"#383838\" points=\"189.1,90,183.2023,94.1493,184.764,101.1892,190.6617,97.04,189.1,90\" style=\"stroke: #383838; stroke-width: 1.0;\"/><text fill=\"#000000\" font-family=\"sans-serif\" font-size=\"13\" lengthAdjust=\"spacingAndGlyphs\" textLength=\"7\" x=\"160.3655\" y=\"139.3171\">1</text></a><!--MD5=[82b7655495be5c02ec58611e6ac45fcc]\n",
       "reverse link E8 to E10--><a href=\"psysml:564215fa-6f97-40ed-9326-2ee13a0f2dfe\" target=\"_top\" title=\"psysml:564215fa-6f97-40ed-9326-2ee13a0f2dfe\" xlink:actuate=\"onRequest\" xlink:href=\"psysml:564215fa-6f97-40ed-9326-2ee13a0f2dfe\" xlink:show=\"new\" xlink:title=\"psysml:564215fa-6f97-40ed-9326-2ee13a0f2dfe\" xlink:type=\"simple\"><path d=\"M211.36,102.4 C217.23,117.97 223.97,135.82 229.2,149.68 \" fill=\"none\" id=\"E8&lt;-E10\" style=\"stroke: #383838; stroke-width: 1.0;\"/><polygon fill=\"#383838\" points=\"206.68,90,205.0523,97.025,210.9108,101.2294,212.5386,94.2044,206.68,90\" style=\"stroke: #383838; stroke-width: 1.0;\"/><text fill=\"#000000\" font-family=\"sans-serif\" font-size=\"13\" lengthAdjust=\"spacingAndGlyphs\" textLength=\"7\" x=\"219.2019\" y=\"139.3171\">1</text></a><!--MD5=[4057a83939342c4e61566db5882405b9]\n",
       "@startuml\r\n",
       "skinparam monochrome true\r\n",
       "skinparam classbackgroundcolor white\r\n",
       "skinparam shadowing false\r\n",
       "skinparam wrapWidth 300\r\n",
       "hide circle\r\n",
       "\r\n",
       "package \"eVehicle_Configurations\" as E1  [[psysml:e29d9d12-8be5-47e6-9fea-f9255ff90617 ]]  {\r\n",
       "comp usage \"eVehicleStandard :> eVehicle_Variations::eVehicleVariations\" as E2  <<(T,blue) part>> [[psysml:3c1ff2eb-ff0f-455d-9992-7846af9470ef ]] {\r\n",
       "}\r\n",
       "comp usage \"engine \" as E3  <<(T,blue) part>> [[psysml:032783c3-700a-4d50-b271-1d0b8b6b39f4 ]] {\r\n",
       "}\r\n",
       "comp usage \"battery \" as E4  <<(T,blue) part>> [[psysml:81fd877b-1952-43ba-8c01-e67c037a5c24 ]] {\r\n",
       "}\r\n",
       "comp usage \"eVehiclePremium :> eVehicle_Variations::eVehicleVariations\" as E5  <<(T,blue) part>> [[psysml:b58a0612-f189-4e83-b0f6-0b0474229185 ]] {\r\n",
       "}\r\n",
       "comp usage \"engine \" as E6  <<(T,blue) part>> [[psysml:20522aec-9b3a-4a73-b12a-b60e219c6ada ]] {\r\n",
       "}\r\n",
       "comp usage \"battery \" as E7  <<(T,blue) part>> [[psysml:76f2ee39-38a9-42e1-9854-20df99ef1126 ]] {\r\n",
       "}\r\n",
       "comp usage \"INVALIDeVehicle :> eVehicle_Variations::eVehicleVariations\" as E8  <<(T,blue) part>> [[psysml:a41d4bb3-3151-4e04-91af-728bcd16601a ]] {\r\n",
       "}\r\n",
       "comp usage \"engine \" as E9  <<(T,blue) part>> [[psysml:c0919f83-2db7-4a52-ae06-6c21ca8ab60a ]] {\r\n",
       "}\r\n",
       "comp usage \"battery \" as E10  <<(T,blue) part>> [[psysml:09bedcb6-1124-48a8-a6e3-a543162d7420 ]] {\r\n",
       "}\r\n",
       "}\r\n",
       "E2 *- - \"1\"E3 [[psysml:2fff9df9-c6d5-4e4a-a660-7d59ccd153b7 ]] \r\n",
       "E2 *- - \"1\"E4 [[psysml:50d61b57-f8cc-4ec2-99a9-a87b4b984209 ]] \r\n",
       "E5 *- - \"1\"E6 [[psysml:342c288c-b0f6-4feb-b059-7d8092e3ea53 ]] \r\n",
       "E5 *- - \"1\"E7 [[psysml:13a2d56b-3b1d-49ff-a17f-644418b30fdd ]] \r\n",
       "E8 *- - \"1\"E9 [[psysml:9595d614-5bbd-47ce-a7b3-b6271c65d9aa ]] \r\n",
       "E8 *- - \"1\"E10 [[psysml:564215fa-6f97-40ed-9326-2ee13a0f2dfe ]] \r\n",
       "@enduml\r\n",
       "\n",
       "PlantUML version 1.2020.13(Sat Jun 13 14:26:38 CEST 2020)\n",
       "(EPL source distribution)\n",
       "Java Runtime: OpenJDK Runtime Environment\n",
       "JVM: OpenJDK 64-Bit Server VM\n",
       "Default Encoding: Cp1252\n",
       "Language: en\n",
       "Country: US\n",
       "--></g></svg>"
      ]
     },
     "execution_count": 39,
     "metadata": {},
     "output_type": "execute_result"
    }
   ],
   "source": [
    "%viz --view=tree eVehicle_VariantModel::eVehicle_Configurations"
   ]
  },
  {
   "cell_type": "markdown",
   "metadata": {},
   "source": [
    "### Avoiding the \"variability model explosion\"\n",
    "\n",
    "When modeling variability with SysML v1, the model can easily explode, i.e., a small variability can lead to the need to model many model elements. I change a bit the structure of the vehicle, for example, I define the wheels as parts of the axis. I also remove the part definition Wheel and define a some lug bolts of the wheels. Finally, we have a deep nested structure: eVehicle owns axis owns wheel owns lug bolt."
   ]
  },
  {
   "cell_type": "code",
   "execution_count": 45,
   "metadata": {},
   "outputs": [
    {
     "data": {
      "text/plain": [
       "Package eVehicle_LogicalArchitecture_ExplosionExample (cffe7647-d09b-4e1d-9d5a-08fffda754b3)\n"
      ]
     },
     "execution_count": 45,
     "metadata": {},
     "output_type": "execute_result"
    }
   ],
   "source": [
    " package eVehicle_LogicalArchitecture_ExplosionExample {\n",
    "     \n",
    "    part eVehicle {    \n",
    "        part engine;\n",
    "\n",
    "        part frontAxis {\n",
    "            part frontWheel[2] {\n",
    "                part lugBolt[6];\n",
    "                part boltCircle;\n",
    "                connect boltCircle to lugBolt;\n",
    "            }\n",
    "            part housing;            \n",
    "            connect housing to frontWheel;\n",
    "        }\n",
    "        \n",
    "        part rearAxis {\n",
    "            part rearWheel[2] {\n",
    "                part lugBolt[6];\n",
    "                part boltCircle;\n",
    "                connect boltCircle to lugBolt;\n",
    "            }\n",
    "            part housing;            \n",
    "            connect housing to rearWheel;\n",
    "        }       \n",
    "        connect engine to frontAxis;\n",
    "    }\n",
    "}"
   ]
  },
  {
   "cell_type": "code",
   "execution_count": 46,
   "metadata": {},
   "outputs": [
    {
     "data": {
      "image/svg+xml": [
       "<?xml version=\"1.0\" encoding=\"UTF-8\" standalone=\"no\"?><svg xmlns=\"http://www.w3.org/2000/svg\" xmlns:xlink=\"http://www.w3.org/1999/xlink\" contentScriptType=\"application/ecmascript\" contentStyleType=\"text/css\" height=\"630px\" preserveAspectRatio=\"none\" style=\"width:588px;height:630px;\" version=\"1.1\" viewBox=\"0 0 588 630\" width=\"588px\" zoomAndPan=\"magnify\"><defs/><g><!--MD5=[fbc87193dbaf4d95561dea2c320d4a47]\n",
       "cluster E1--><a href=\"psysml:cffe7647-d09b-4e1d-9d5a-08fffda754b3\" target=\"_top\" title=\"psysml:cffe7647-d09b-4e1d-9d5a-08fffda754b3\" xlink:actuate=\"onRequest\" xlink:href=\"psysml:cffe7647-d09b-4e1d-9d5a-08fffda754b3\" xlink:show=\"new\" xlink:title=\"psysml:cffe7647-d09b-4e1d-9d5a-08fffda754b3\" xlink:type=\"simple\"><polygon fill=\"#FFFFFF\" points=\"16,6,364,6,371,29.6094,566,29.6094,566,618,16,618,16,6\" style=\"stroke: #000000; stroke-width: 1.5;\"/><line style=\"stroke: #000000; stroke-width: 1.5;\" x1=\"16\" x2=\"371\" y1=\"29.6094\" y2=\"29.6094\"/><text fill=\"#000000\" font-family=\"sans-serif\" font-size=\"14\" font-weight=\"bold\" lengthAdjust=\"spacingAndGlyphs\" textLength=\"342\" x=\"20\" y=\"22.5332\">eVehicle_LogicalArchitecture_ExplosionExample</text></a><!--MD5=[e4f7fae6ed58524ba242bb0b0d3be6b7]\n",
       "cluster E2--><a href=\"psysml:a3ecce2b-9220-4949-b914-4fd9b2c29916\" target=\"_top\" title=\"psysml:a3ecce2b-9220-4949-b914-4fd9b2c29916\" xlink:actuate=\"onRequest\" xlink:href=\"psysml:a3ecce2b-9220-4949-b914-4fd9b2c29916\" xlink:show=\"new\" xlink:title=\"psysml:a3ecce2b-9220-4949-b914-4fd9b2c29916\" xlink:type=\"simple\"><rect fill=\"#FFFFFF\" height=\"544\" id=\"E2\" rx=\"10\" ry=\"10\" style=\"stroke: #383838; stroke-width: 1.5;\" width=\"502\" x=\"40\" y=\"50\"/><rect fill=\"#F8F8F8\" height=\"25.0938\" rx=\"10\" ry=\"10\" style=\"stroke: #F8F8F8; stroke-width: 1.5;\" width=\"502\" x=\"40\" y=\"50\"/><rect fill=\"#F8F8F8\" height=\"10\" style=\"stroke: #F8F8F8; stroke-width: 1.5;\" width=\"502\" x=\"40\" y=\"65.0938\"/><rect fill=\"none\" height=\"544\" id=\"E2\" rx=\"10\" ry=\"10\" style=\"stroke: #383838; stroke-width: 1.5;\" width=\"502\" x=\"40\" y=\"50\"/><text fill=\"#000000\" font-family=\"sans-serif\" font-size=\"12\" lengthAdjust=\"spacingAndGlyphs\" textLength=\"47\" x=\"267.5\" y=\"67.457\">eVehicle</text><line style=\"stroke: #383838; stroke-width: 1.0;\" x1=\"40\" x2=\"542\" y1=\"75.0938\" y2=\"75.0938\"/></a><!--MD5=[f6df4d0ebaf0b5dfb2ced0ae5af7c670]\n",
       "cluster E4--><a href=\"psysml:afcdb7ac-31ff-4c3b-a008-d765d7ed6e41\" target=\"_top\" title=\"psysml:afcdb7ac-31ff-4c3b-a008-d765d7ed6e41\" xlink:actuate=\"onRequest\" xlink:href=\"psysml:afcdb7ac-31ff-4c3b-a008-d765d7ed6e41\" xlink:show=\"new\" xlink:title=\"psysml:afcdb7ac-31ff-4c3b-a008-d765d7ed6e41\" xlink:type=\"simple\"><rect fill=\"#FFFFFF\" height=\"368\" id=\"E4\" rx=\"10\" ry=\"10\" style=\"stroke: #383838; stroke-width: 1.5;\" width=\"219\" x=\"72\" y=\"194\"/><rect fill=\"#F8F8F8\" height=\"25.0938\" rx=\"10\" ry=\"10\" style=\"stroke: #F8F8F8; stroke-width: 1.5;\" width=\"219\" x=\"72\" y=\"194\"/><rect fill=\"#F8F8F8\" height=\"10\" style=\"stroke: #F8F8F8; stroke-width: 1.5;\" width=\"219\" x=\"72\" y=\"209.0938\"/><rect fill=\"none\" height=\"368\" id=\"E4\" rx=\"10\" ry=\"10\" style=\"stroke: #383838; stroke-width: 1.5;\" width=\"219\" x=\"72\" y=\"194\"/><text fill=\"#000000\" font-family=\"sans-serif\" font-size=\"12\" lengthAdjust=\"spacingAndGlyphs\" textLength=\"46\" x=\"158.5\" y=\"211.457\">frontAxis</text><line style=\"stroke: #383838; stroke-width: 1.0;\" x1=\"72\" x2=\"291\" y1=\"219.0938\" y2=\"219.0938\"/></a><!--MD5=[de5ec2e2e8f62f467e546659f5068c88]\n",
       "cluster E5--><a href=\"psysml:7ba95e30-3fd4-4cdf-ac9e-a4ae5b86a5b6\" target=\"_top\" title=\"psysml:7ba95e30-3fd4-4cdf-ac9e-a4ae5b86a5b6\" xlink:actuate=\"onRequest\" xlink:href=\"psysml:7ba95e30-3fd4-4cdf-ac9e-a4ae5b86a5b6\" xlink:show=\"new\" xlink:title=\"psysml:7ba95e30-3fd4-4cdf-ac9e-a4ae5b86a5b6\" xlink:type=\"simple\"><rect fill=\"#FFFFFF\" height=\"220\" id=\"E5\" rx=\"10\" ry=\"10\" style=\"stroke: #383838; stroke-width: 1.5;\" width=\"131\" x=\"120\" y=\"302\"/><rect fill=\"#F8F8F8\" height=\"25.0938\" rx=\"10\" ry=\"10\" style=\"stroke: #F8F8F8; stroke-width: 1.5;\" width=\"131\" x=\"120\" y=\"302\"/><rect fill=\"#F8F8F8\" height=\"10\" style=\"stroke: #F8F8F8; stroke-width: 1.5;\" width=\"131\" x=\"120\" y=\"317.0938\"/><rect fill=\"none\" height=\"220\" id=\"E5\" rx=\"10\" ry=\"10\" style=\"stroke: #383838; stroke-width: 1.5;\" width=\"131\" x=\"120\" y=\"302\"/><text fill=\"#000000\" font-family=\"sans-serif\" font-size=\"12\" lengthAdjust=\"spacingAndGlyphs\" textLength=\"59\" x=\"156\" y=\"319.457\">frontWheel</text><line style=\"stroke: #383838; stroke-width: 1.0;\" x1=\"120\" x2=\"251\" y1=\"327.0938\" y2=\"327.0938\"/></a><!--MD5=[7f149f147074ac12df2cb0a7728a5fb0]\n",
       "cluster E9--><a href=\"psysml:a083326f-9c7a-44ee-baa6-3b45a9a26a25\" target=\"_top\" title=\"psysml:a083326f-9c7a-44ee-baa6-3b45a9a26a25\" xlink:actuate=\"onRequest\" xlink:href=\"psysml:a083326f-9c7a-44ee-baa6-3b45a9a26a25\" xlink:show=\"new\" xlink:title=\"psysml:a083326f-9c7a-44ee-baa6-3b45a9a26a25\" xlink:type=\"simple\"><rect fill=\"#FFFFFF\" height=\"348\" id=\"E9\" rx=\"10\" ry=\"10\" style=\"stroke: #383838; stroke-width: 1.5;\" width=\"195\" x=\"323\" y=\"94\"/><rect fill=\"#F8F8F8\" height=\"25.0938\" rx=\"10\" ry=\"10\" style=\"stroke: #F8F8F8; stroke-width: 1.5;\" width=\"195\" x=\"323\" y=\"94\"/><rect fill=\"#F8F8F8\" height=\"10\" style=\"stroke: #F8F8F8; stroke-width: 1.5;\" width=\"195\" x=\"323\" y=\"109.0938\"/><rect fill=\"none\" height=\"348\" id=\"E9\" rx=\"10\" ry=\"10\" style=\"stroke: #383838; stroke-width: 1.5;\" width=\"195\" x=\"323\" y=\"94\"/><text fill=\"#000000\" font-family=\"sans-serif\" font-size=\"12\" lengthAdjust=\"spacingAndGlyphs\" textLength=\"44\" x=\"398.5\" y=\"111.457\">rearAxis</text><line style=\"stroke: #383838; stroke-width: 1.0;\" x1=\"323\" x2=\"518\" y1=\"119.0938\" y2=\"119.0938\"/></a><!--MD5=[a84b4591f868c1fa4a211716a82f2f0d]\n",
       "cluster E10--><a href=\"psysml:b987dc0d-f9cf-4272-aa35-0abc5bce4441\" target=\"_top\" title=\"psysml:b987dc0d-f9cf-4272-aa35-0abc5bce4441\" xlink:actuate=\"onRequest\" xlink:href=\"psysml:b987dc0d-f9cf-4272-aa35-0abc5bce4441\" xlink:show=\"new\" xlink:title=\"psysml:b987dc0d-f9cf-4272-aa35-0abc5bce4441\" xlink:type=\"simple\"><rect fill=\"#FFFFFF\" height=\"216\" id=\"E10\" rx=\"10\" ry=\"10\" style=\"stroke: #383838; stroke-width: 1.5;\" width=\"131\" x=\"355\" y=\"194\"/><rect fill=\"#F8F8F8\" height=\"25.0938\" rx=\"10\" ry=\"10\" style=\"stroke: #F8F8F8; stroke-width: 1.5;\" width=\"131\" x=\"355\" y=\"194\"/><rect fill=\"#F8F8F8\" height=\"10\" style=\"stroke: #F8F8F8; stroke-width: 1.5;\" width=\"131\" x=\"355\" y=\"209.0938\"/><rect fill=\"none\" height=\"216\" id=\"E10\" rx=\"10\" ry=\"10\" style=\"stroke: #383838; stroke-width: 1.5;\" width=\"131\" x=\"355\" y=\"194\"/><text fill=\"#000000\" font-family=\"sans-serif\" font-size=\"12\" lengthAdjust=\"spacingAndGlyphs\" textLength=\"57\" x=\"392\" y=\"211.457\">rearWheel</text><line style=\"stroke: #383838; stroke-width: 1.0;\" x1=\"355\" x2=\"486\" y1=\"219.0938\" y2=\"219.0938\"/></a><g id=\"E1.E2.E3\"><a href=\"psysml:2dafbdc4-b68c-4ca2-bd2d-910abfd9a028\" target=\"_top\" title=\"psysml:2dafbdc4-b68c-4ca2-bd2d-910abfd9a028\" xlink:actuate=\"onRequest\" xlink:href=\"psysml:2dafbdc4-b68c-4ca2-bd2d-910abfd9a028\" xlink:show=\"new\" xlink:title=\"psysml:2dafbdc4-b68c-4ca2-bd2d-910abfd9a028\" xlink:type=\"simple\"><rect fill=\"#FFFFFF\" height=\"40\" id=\"E3\" rx=\"10\" ry=\"10\" style=\"stroke: #383838; stroke-width: 1.5;\" width=\"50\" x=\"56\" y=\"130\"/><rect fill=\"#F8F8F8\" height=\"25.0938\" rx=\"10\" ry=\"10\" style=\"stroke: #F8F8F8; stroke-width: 1.5;\" width=\"50\" x=\"56\" y=\"130\"/><rect fill=\"#F8F8F8\" height=\"10\" style=\"stroke: #F8F8F8; stroke-width: 1.5;\" width=\"50\" x=\"56\" y=\"145.0938\"/><rect fill=\"none\" height=\"40\" id=\"E3\" rx=\"10\" ry=\"10\" style=\"stroke: #383838; stroke-width: 1.5;\" width=\"50\" x=\"56\" y=\"130\"/><text fill=\"#000000\" font-family=\"sans-serif\" font-size=\"12\" lengthAdjust=\"spacingAndGlyphs\" textLength=\"38\" x=\"62\" y=\"147.457\">engine</text></a></g><g id=\"E1.E2.E4.E5.E6\"><a href=\"psysml:1262a2b4-4524-4150-af41-4ce43c8b9daa\" target=\"_top\" title=\"psysml:1262a2b4-4524-4150-af41-4ce43c8b9daa\" xlink:actuate=\"onRequest\" xlink:href=\"psysml:1262a2b4-4524-4150-af41-4ce43c8b9daa\" xlink:show=\"new\" xlink:title=\"psysml:1262a2b4-4524-4150-af41-4ce43c8b9daa\" xlink:type=\"simple\"><rect fill=\"#FFFFFF\" height=\"40\" id=\"E6\" rx=\"10\" ry=\"10\" style=\"stroke: #383838; stroke-width: 1.5;\" width=\"50\" x=\"170\" y=\"458\"/><rect fill=\"#F8F8F8\" height=\"25.0938\" rx=\"10\" ry=\"10\" style=\"stroke: #F8F8F8; stroke-width: 1.5;\" width=\"50\" x=\"170\" y=\"458\"/><rect fill=\"#F8F8F8\" height=\"10\" style=\"stroke: #F8F8F8; stroke-width: 1.5;\" width=\"50\" x=\"170\" y=\"473.0938\"/><rect fill=\"none\" height=\"40\" id=\"E6\" rx=\"10\" ry=\"10\" style=\"stroke: #383838; stroke-width: 1.5;\" width=\"50\" x=\"170\" y=\"458\"/><text fill=\"#000000\" font-family=\"sans-serif\" font-size=\"12\" lengthAdjust=\"spacingAndGlyphs\" textLength=\"38\" x=\"176\" y=\"475.457\">lugBolt</text></a></g><g id=\"E1.E2.E4.E5.E7\"><a href=\"psysml:c9c93692-0f8f-49f7-a043-876ab527dbd9\" target=\"_top\" title=\"psysml:c9c93692-0f8f-49f7-a043-876ab527dbd9\" xlink:actuate=\"onRequest\" xlink:href=\"psysml:c9c93692-0f8f-49f7-a043-876ab527dbd9\" xlink:show=\"new\" xlink:title=\"psysml:c9c93692-0f8f-49f7-a043-876ab527dbd9\" xlink:type=\"simple\"><rect fill=\"#FFFFFF\" height=\"40\" id=\"E7\" rx=\"10\" ry=\"10\" style=\"stroke: #383838; stroke-width: 1.5;\" width=\"63\" x=\"163.5\" y=\"346\"/><rect fill=\"#F8F8F8\" height=\"25.0938\" rx=\"10\" ry=\"10\" style=\"stroke: #F8F8F8; stroke-width: 1.5;\" width=\"63\" x=\"163.5\" y=\"346\"/><rect fill=\"#F8F8F8\" height=\"10\" style=\"stroke: #F8F8F8; stroke-width: 1.5;\" width=\"63\" x=\"163.5\" y=\"361.0938\"/><rect fill=\"none\" height=\"40\" id=\"E7\" rx=\"10\" ry=\"10\" style=\"stroke: #383838; stroke-width: 1.5;\" width=\"63\" x=\"163.5\" y=\"346\"/><text fill=\"#000000\" font-family=\"sans-serif\" font-size=\"12\" lengthAdjust=\"spacingAndGlyphs\" textLength=\"52\" x=\"169\" y=\"363.457\">boltCircle</text></a></g><g id=\"E1.E2.E4.E8\"><a href=\"psysml:5f6f2598-54a4-4ad7-8185-f740bd413a5b\" target=\"_top\" title=\"psysml:5f6f2598-54a4-4ad7-8185-f740bd413a5b\" xlink:actuate=\"onRequest\" xlink:href=\"psysml:5f6f2598-54a4-4ad7-8185-f740bd413a5b\" xlink:show=\"new\" xlink:title=\"psysml:5f6f2598-54a4-4ad7-8185-f740bd413a5b\" xlink:type=\"simple\"><rect fill=\"#FFFFFF\" height=\"40\" id=\"E8\" rx=\"10\" ry=\"10\" style=\"stroke: #383838; stroke-width: 1.5;\" width=\"56\" x=\"115\" y=\"238\"/><rect fill=\"#F8F8F8\" height=\"25.0938\" rx=\"10\" ry=\"10\" style=\"stroke: #F8F8F8; stroke-width: 1.5;\" width=\"56\" x=\"115\" y=\"238\"/><rect fill=\"#F8F8F8\" height=\"10\" style=\"stroke: #F8F8F8; stroke-width: 1.5;\" width=\"56\" x=\"115\" y=\"253.0938\"/><rect fill=\"none\" height=\"40\" id=\"E8\" rx=\"10\" ry=\"10\" style=\"stroke: #383838; stroke-width: 1.5;\" width=\"56\" x=\"115\" y=\"238\"/><text fill=\"#000000\" font-family=\"sans-serif\" font-size=\"12\" lengthAdjust=\"spacingAndGlyphs\" textLength=\"45\" x=\"120.5\" y=\"255.457\">housing</text></a></g><g id=\"E1.E2.E9.E10.E11\"><a href=\"psysml:8cb35786-aa8c-45d4-a3ad-5636df3d7428\" target=\"_top\" title=\"psysml:8cb35786-aa8c-45d4-a3ad-5636df3d7428\" xlink:actuate=\"onRequest\" xlink:href=\"psysml:8cb35786-aa8c-45d4-a3ad-5636df3d7428\" xlink:show=\"new\" xlink:title=\"psysml:8cb35786-aa8c-45d4-a3ad-5636df3d7428\" xlink:type=\"simple\"><rect fill=\"#FFFFFF\" height=\"40\" id=\"E11\" rx=\"10\" ry=\"10\" style=\"stroke: #383838; stroke-width: 1.5;\" width=\"50\" x=\"405\" y=\"346\"/><rect fill=\"#F8F8F8\" height=\"25.0938\" rx=\"10\" ry=\"10\" style=\"stroke: #F8F8F8; stroke-width: 1.5;\" width=\"50\" x=\"405\" y=\"346\"/><rect fill=\"#F8F8F8\" height=\"10\" style=\"stroke: #F8F8F8; stroke-width: 1.5;\" width=\"50\" x=\"405\" y=\"361.0938\"/><rect fill=\"none\" height=\"40\" id=\"E11\" rx=\"10\" ry=\"10\" style=\"stroke: #383838; stroke-width: 1.5;\" width=\"50\" x=\"405\" y=\"346\"/><text fill=\"#000000\" font-family=\"sans-serif\" font-size=\"12\" lengthAdjust=\"spacingAndGlyphs\" textLength=\"38\" x=\"411\" y=\"363.457\">lugBolt</text></a></g><g id=\"E1.E2.E9.E10.E12\"><a href=\"psysml:94935331-d067-467c-9bb1-e7bec713d136\" target=\"_top\" title=\"psysml:94935331-d067-467c-9bb1-e7bec713d136\" xlink:actuate=\"onRequest\" xlink:href=\"psysml:94935331-d067-467c-9bb1-e7bec713d136\" xlink:show=\"new\" xlink:title=\"psysml:94935331-d067-467c-9bb1-e7bec713d136\" xlink:type=\"simple\"><rect fill=\"#FFFFFF\" height=\"40\" id=\"E12\" rx=\"10\" ry=\"10\" style=\"stroke: #383838; stroke-width: 1.5;\" width=\"63\" x=\"398.5\" y=\"238\"/><rect fill=\"#F8F8F8\" height=\"25.0938\" rx=\"10\" ry=\"10\" style=\"stroke: #F8F8F8; stroke-width: 1.5;\" width=\"63\" x=\"398.5\" y=\"238\"/><rect fill=\"#F8F8F8\" height=\"10\" style=\"stroke: #F8F8F8; stroke-width: 1.5;\" width=\"63\" x=\"398.5\" y=\"253.0938\"/><rect fill=\"none\" height=\"40\" id=\"E12\" rx=\"10\" ry=\"10\" style=\"stroke: #383838; stroke-width: 1.5;\" width=\"63\" x=\"398.5\" y=\"238\"/><text fill=\"#000000\" font-family=\"sans-serif\" font-size=\"12\" lengthAdjust=\"spacingAndGlyphs\" textLength=\"52\" x=\"404\" y=\"255.457\">boltCircle</text></a></g><g id=\"E1.E2.E9.E13\"><a href=\"psysml:d9c9601e-29c4-4c13-8ec5-d64692a6b6f2\" target=\"_top\" title=\"psysml:d9c9601e-29c4-4c13-8ec5-d64692a6b6f2\" xlink:actuate=\"onRequest\" xlink:href=\"psysml:d9c9601e-29c4-4c13-8ec5-d64692a6b6f2\" xlink:show=\"new\" xlink:title=\"psysml:d9c9601e-29c4-4c13-8ec5-d64692a6b6f2\" xlink:type=\"simple\"><rect fill=\"#FFFFFF\" height=\"40\" id=\"E13\" rx=\"10\" ry=\"10\" style=\"stroke: #383838; stroke-width: 1.5;\" width=\"56\" x=\"339\" y=\"130\"/><rect fill=\"#F8F8F8\" height=\"25.0938\" rx=\"10\" ry=\"10\" style=\"stroke: #F8F8F8; stroke-width: 1.5;\" width=\"56\" x=\"339\" y=\"130\"/><rect fill=\"#F8F8F8\" height=\"10\" style=\"stroke: #F8F8F8; stroke-width: 1.5;\" width=\"56\" x=\"339\" y=\"145.0938\"/><rect fill=\"none\" height=\"40\" id=\"E13\" rx=\"10\" ry=\"10\" style=\"stroke: #383838; stroke-width: 1.5;\" width=\"56\" x=\"339\" y=\"130\"/><text fill=\"#000000\" font-family=\"sans-serif\" font-size=\"12\" lengthAdjust=\"spacingAndGlyphs\" textLength=\"45\" x=\"344.5\" y=\"147.457\">housing</text></a></g><!--MD5=[fbb449814971db3a0b8220cf225b9e01]\n",
       "link E7 to E6--><a href=\"psysml:64e661bf-a80c-48a4-bfcb-0209c016dffd\" target=\"_top\" title=\"psysml:64e661bf-a80c-48a4-bfcb-0209c016dffd\" xlink:actuate=\"onRequest\" xlink:href=\"psysml:64e661bf-a80c-48a4-bfcb-0209c016dffd\" xlink:show=\"new\" xlink:title=\"psysml:64e661bf-a80c-48a4-bfcb-0209c016dffd\" xlink:type=\"simple\"><path d=\"M195,386.16 C195,406.23 195,437.57 195,457.69 \" fill=\"none\" id=\"E7-E6\" style=\"stroke: #383838; stroke-width: 3.0;\"/><text fill=\"#000000\" font-family=\"sans-serif\" font-size=\"13\" lengthAdjust=\"spacingAndGlyphs\" textLength=\"5\" x=\"189.2969\" y=\"447.2724\">*</text></a><!--MD5=[1ccb2481ffa92f8d51a74ee30c51832a]\n",
       "link E8 to E5--><a href=\"psysml:ccad20a4-6d31-4ab4-bc25-0d8d3c84988c\" target=\"_top\" title=\"psysml:ccad20a4-6d31-4ab4-bc25-0d8d3c84988c\" xlink:actuate=\"onRequest\" xlink:href=\"psysml:ccad20a4-6d31-4ab4-bc25-0d8d3c84988c\" xlink:show=\"new\" xlink:title=\"psysml:ccad20a4-6d31-4ab4-bc25-0d8d3c84988c\" xlink:type=\"simple\"><path d=\"M140.25,278.44 C139.725,282.1463 139.1475,286.2242 138.5379,290.5295 C138.2331,292.6822 137.9203,294.8917 137.602,297.14 C137.4429,298.2641 137.2824,299.3979 137.1208,300.5392 C137.0804,300.8245 137.0399,301.1103 136.9994,301.3965 C136.9792,301.5396 136.9589,301.6829 136.9386,301.8262 \" fill=\"none\" id=\"E8-E5\" style=\"stroke: #383838; stroke-width: 3.0;\"/><text fill=\"#000000\" font-family=\"sans-serif\" font-size=\"13\" lengthAdjust=\"spacingAndGlyphs\" textLength=\"5\" x=\"123.02\" y=\"362.3351\">*</text></a><!--MD5=[dc3070f36b7e37334e331d97c845f2c3]\n",
       "link E12 to E11--><a href=\"psysml:5ff09d57-9d33-40a9-8ee6-255c42444f0e\" target=\"_top\" title=\"psysml:5ff09d57-9d33-40a9-8ee6-255c42444f0e\" xlink:actuate=\"onRequest\" xlink:href=\"psysml:5ff09d57-9d33-40a9-8ee6-255c42444f0e\" xlink:show=\"new\" xlink:title=\"psysml:5ff09d57-9d33-40a9-8ee6-255c42444f0e\" xlink:type=\"simple\"><path d=\"M430,278.44 C430,297.57 430,326.6 430,345.68 \" fill=\"none\" id=\"E12-E11\" style=\"stroke: #383838; stroke-width: 3.0;\"/><text fill=\"#000000\" font-family=\"sans-serif\" font-size=\"13\" lengthAdjust=\"spacingAndGlyphs\" textLength=\"5\" x=\"424.2969\" y=\"335.2596\">*</text></a><!--MD5=[84eedc19e96af1f56c62df6f989b8477]\n",
       "link E13 to E10--><a href=\"psysml:c0a75043-dc6a-40ca-8cd8-20c5e08345e3\" target=\"_top\" title=\"psysml:c0a75043-dc6a-40ca-8cd8-20c5e08345e3\" xlink:actuate=\"onRequest\" xlink:href=\"psysml:c0a75043-dc6a-40ca-8cd8-20c5e08345e3\" xlink:show=\"new\" xlink:title=\"psysml:c0a75043-dc6a-40ca-8cd8-20c5e08345e3\" xlink:type=\"simple\"><path d=\"M366.27,170.44 C366.13,174.1463 365.9759,178.2242 365.8133,182.5295 C365.732,184.6822 365.6485,186.8917 365.5635,189.14 C365.5211,190.2641 365.4782,191.3979 365.4351,192.5392 C365.4243,192.8245 365.4135,193.1103 365.4027,193.3965 C365.3973,193.5396 365.3919,193.6829 365.3865,193.8262 \" fill=\"none\" id=\"E13-E10\" style=\"stroke: #383838; stroke-width: 3.0;\"/><text fill=\"#000000\" font-family=\"sans-serif\" font-size=\"13\" lengthAdjust=\"spacingAndGlyphs\" textLength=\"5\" x=\"358.01\" y=\"254.3351\">*</text></a><!--MD5=[af87c684e3b0d8be13c1a698a818ef1e]\n",
       "link E3 to E4--><a href=\"psysml:a833cae3-ecf3-4b42-987c-20f64f838225\" target=\"_top\" title=\"psysml:a833cae3-ecf3-4b42-987c-20f64f838225\" xlink:actuate=\"onRequest\" xlink:href=\"psysml:a833cae3-ecf3-4b42-987c-20f64f838225\" xlink:show=\"new\" xlink:title=\"psysml:a833cae3-ecf3-4b42-987c-20f64f838225\" xlink:type=\"simple\"><path d=\"M80.82,170.44 C80.785,174.1463 80.7464,178.2242 80.7056,182.5295 C80.6852,184.6822 80.6643,186.8917 80.6429,189.14 C80.6323,190.2641 80.6215,191.3979 80.6107,192.5392 C80.608,192.8245 80.6052,193.1103 80.6025,193.3965 C80.6012,193.5396 80.5998,193.6829 80.5984,193.8262 \" fill=\"none\" id=\"E3-E4\" style=\"stroke: #383838; stroke-width: 3.0;\"/><text fill=\"#000000\" font-family=\"sans-serif\" font-size=\"13\" lengthAdjust=\"spacingAndGlyphs\" textLength=\"5\" x=\"75\" y=\"254.3351\">*</text></a><!--MD5=[5607cb0a72d36dff661a8698ffb9fe9e]\n",
       "@startuml\r\n",
       "skinparam ranksep 10\r\n",
       "skinparam rectangle {\r\n",
       " backgroundColor<<block>> LightGreen\r\n",
       "}\r\n",
       "skinparam monochrome true\r\n",
       "skinparam classbackgroundcolor white\r\n",
       "skinparam shadowing false\r\n",
       "skinparam wrapWidth 300\r\n",
       "hide circle\r\n",
       "\r\n",
       "package \"eVehicle_LogicalArchitecture_ExplosionExample\" as E1  [[psysml:cffe7647-d09b-4e1d-9d5a-08fffda754b3 ]]  {\r\n",
       "rec usage \"eVehicle\" as E2  [[psysml:a3ecce2b-9220-4949-b914-4fd9b2c29916 ]] {\r\n",
       "rec usage \"engine\" as E3  [[psysml:2dafbdc4-b68c-4ca2-bd2d-910abfd9a028 ]] {\r\n",
       "}\r\n",
       "rec usage \"frontAxis\" as E4  [[psysml:afcdb7ac-31ff-4c3b-a008-d765d7ed6e41 ]] {\r\n",
       "rec usage \"frontWheel\" as E5  [[psysml:7ba95e30-3fd4-4cdf-ac9e-a4ae5b86a5b6 ]] {\r\n",
       "rec usage \"lugBolt\" as E6  [[psysml:1262a2b4-4524-4150-af41-4ce43c8b9daa ]] {\r\n",
       "}\r\n",
       "rec usage \"boltCircle\" as E7  [[psysml:c9c93692-0f8f-49f7-a043-876ab527dbd9 ]] {\r\n",
       "}\r\n",
       "}\r\n",
       "rec usage \"housing\" as E8  [[psysml:5f6f2598-54a4-4ad7-8185-f740bd413a5b ]] {\r\n",
       "}\r\n",
       "}\r\n",
       "rec usage \"rearAxis\" as E9  [[psysml:a083326f-9c7a-44ee-baa6-3b45a9a26a25 ]] {\r\n",
       "rec usage \"rearWheel\" as E10  [[psysml:b987dc0d-f9cf-4272-aa35-0abc5bce4441 ]] {\r\n",
       "rec usage \"lugBolt\" as E11  [[psysml:8cb35786-aa8c-45d4-a3ad-5636df3d7428 ]] {\r\n",
       "}\r\n",
       "rec usage \"boltCircle\" as E12  [[psysml:94935331-d067-467c-9bb1-e7bec713d136 ]] {\r\n",
       "}\r\n",
       "}\r\n",
       "rec usage \"housing\" as E13  [[psysml:d9c9601e-29c4-4c13-8ec5-d64692a6b6f2 ]] {\r\n",
       "}\r\n",
       "}\r\n",
       "}\r\n",
       "}\r\n",
       "E7 -[thickness=3]- \"*\"E6 [[psysml:64e661bf-a80c-48a4-bfcb-0209c016dffd ]] \r\n",
       "E8 -[thickness=3]- \"*\"E5 [[psysml:ccad20a4-6d31-4ab4-bc25-0d8d3c84988c ]] \r\n",
       "E12 -[thickness=3]- \"*\"E11 [[psysml:5ff09d57-9d33-40a9-8ee6-255c42444f0e ]] \r\n",
       "E13 -[thickness=3]- \"*\"E10 [[psysml:c0a75043-dc6a-40ca-8cd8-20c5e08345e3 ]] \r\n",
       "E3 -[thickness=3]- \"*\"E4 [[psysml:a833cae3-ecf3-4b42-987c-20f64f838225 ]] \r\n",
       "@enduml\r\n",
       "\n",
       "PlantUML version 1.2020.13(Sat Jun 13 14:26:38 CEST 2020)\n",
       "(EPL source distribution)\n",
       "Java Runtime: OpenJDK Runtime Environment\n",
       "JVM: OpenJDK 64-Bit Server VM\n",
       "Default Encoding: Cp1252\n",
       "Language: en\n",
       "Country: US\n",
       "--></g></svg>"
      ]
     },
     "execution_count": 46,
     "metadata": {},
     "output_type": "execute_result"
    }
   ],
   "source": [
    "%viz --view=interconnection eVehicle_LogicalArchitecture_ExplosionExample"
   ]
  },
  {
   "cell_type": "markdown",
   "metadata": {},
   "source": [
    "The structure *eVehicle/axis/wheel/lugBolt* can easily be modeled with SysML v1. It is slightly different in that in SysML v1 we have to use types, i.e. blocks, and cannot model parts directly.\n",
    "\n",
    "![SysML v1 eVehicle Model](sysmlv1-variability-example-core.jpg)\n",
    "\n",
    "Now, if we introduce variants of lug bolts, this variance ripples up through the entire structure:\n",
    "\n",
    "![SysML v1 eVehicle Model - Variability explosion](sysmlv1-variability-example-explosion.jpg)\n",
    "\n",
    "In SysML v2 it looks like this:"
   ]
  },
  {
   "cell_type": "code",
   "execution_count": 47,
   "metadata": {},
   "outputs": [
    {
     "data": {
      "text/plain": [
       "Package eVehicleVariants_ExplosionExample (8e20ff47-3f5a-4d26-81dc-fdcb97fbc015)\n",
       "Package eVehicle_LogicalArchitecture_ExplosionExample (978bafa2-516e-4828-9a8a-4cc93af34fd7)\n"
      ]
     },
     "execution_count": 47,
     "metadata": {},
     "output_type": "execute_result"
    }
   ],
   "source": [
    "package eVehicleVariants_ExplosionExample {\n",
    "    part lugBolt42;\n",
    "    part lugBolt23;\n",
    "}\n",
    "\n",
    "package eVehicle_LogicalArchitecture_ExplosionExample {\n",
    "    \n",
    "    import eVehicleVariants_ExplosionExample::*;\n",
    "        \n",
    "    part eVehicle {    \n",
    "        part engine;\n",
    "\n",
    "        part frontAxis {\n",
    "            part frontWheel[2] {\n",
    "                /*-----------------------------\n",
    "                 * Definition of the variation\n",
    "                 * ----------------------------*/\n",
    "                variation part lugBolt[6] {\n",
    "                    variant part lugBolt23;\n",
    "                    variant part lugBolt42;  \n",
    "                }\n",
    "                part boltCircle;\n",
    "                connect boltCircle to lugBolt;\n",
    "            }\n",
    "            part housing;            \n",
    "            connect housing to frontWheel;\n",
    "        }\n",
    "        \n",
    "        part rearAxis {\n",
    "            part rearWheel[2] {\n",
    "                part lugBolt[6];\n",
    "                part boltCircle;\n",
    "                connect boltCircle to lugBolt;\n",
    "            }\n",
    "            part housing;    \n",
    "            connect housing to rearWheel;\n",
    "        }        \n",
    "        connect engine to frontAxis;\n",
    "    }\n",
    "}"
   ]
  },
  {
   "cell_type": "code",
   "execution_count": 48,
   "metadata": {},
   "outputs": [
    {
     "data": {
      "image/svg+xml": [
       "<?xml version=\"1.0\" encoding=\"UTF-8\" standalone=\"no\"?><svg xmlns=\"http://www.w3.org/2000/svg\" xmlns:xlink=\"http://www.w3.org/1999/xlink\" contentScriptType=\"application/ecmascript\" contentStyleType=\"text/css\" height=\"932px\" preserveAspectRatio=\"none\" style=\"width:459px;height:932px;\" version=\"1.1\" viewBox=\"0 0 459 932\" width=\"459px\" zoomAndPan=\"magnify\"><defs/><g><!--MD5=[fbc87193dbaf4d95561dea2c320d4a47]\n",
       "cluster E1--><a href=\"psysml:978bafa2-516e-4828-9a8a-4cc93af34fd7\" target=\"_top\" title=\"psysml:978bafa2-516e-4828-9a8a-4cc93af34fd7\" xlink:actuate=\"onRequest\" xlink:href=\"psysml:978bafa2-516e-4828-9a8a-4cc93af34fd7\" xlink:show=\"new\" xlink:title=\"psysml:978bafa2-516e-4828-9a8a-4cc93af34fd7\" xlink:type=\"simple\"><polygon fill=\"#FFFFFF\" points=\"16,6,364,6,371,29.6094,437,29.6094,437,920,16,920,16,6\" style=\"stroke: #000000; stroke-width: 1.5;\"/><line style=\"stroke: #000000; stroke-width: 1.5;\" x1=\"16\" x2=\"371\" y1=\"29.6094\" y2=\"29.6094\"/><text fill=\"#000000\" font-family=\"sans-serif\" font-size=\"14\" font-weight=\"bold\" lengthAdjust=\"spacingAndGlyphs\" textLength=\"342\" x=\"20\" y=\"22.5332\">eVehicle_LogicalArchitecture_ExplosionExample</text></a><!--MD5=[b4997ac47864f28c2f74865a473b2911]\n",
       "class E2--><a href=\"psysml:fced4fe1-0f29-49ed-94d0-63dfb9c229e3\" target=\"_top\" title=\"psysml:fced4fe1-0f29-49ed-94d0-63dfb9c229e3\" xlink:actuate=\"onRequest\" xlink:href=\"psysml:fced4fe1-0f29-49ed-94d0-63dfb9c229e3\" xlink:show=\"new\" xlink:title=\"psysml:fced4fe1-0f29-49ed-94d0-63dfb9c229e3\" xlink:type=\"simple\"><rect fill=\"#FFFFFF\" height=\"48.1875\" id=\"E2\" rx=\"10\" ry=\"10\" style=\"stroke: #383838; stroke-width: 1.5;\" width=\"56\" x=\"244\" y=\"42\"/><text fill=\"#000000\" font-family=\"sans-serif\" font-size=\"12\" font-style=\"italic\" lengthAdjust=\"spacingAndGlyphs\" textLength=\"35\" x=\"254.5\" y=\"59.457\">«part»</text><text fill=\"#000000\" font-family=\"sans-serif\" font-size=\"12\" lengthAdjust=\"spacingAndGlyphs\" textLength=\"47\" x=\"247\" y=\"74.5508\">eVehicle</text><line style=\"stroke: #383838; stroke-width: 1.5;\" x1=\"245\" x2=\"299\" y1=\"82.1875\" y2=\"82.1875\"/></a><!--MD5=[09b614a08d8cba4a07c9adeb5e0fee81]\n",
       "class E3--><a href=\"psysml:3840bfa7-8f87-4f44-afdd-9e41f00d06bb\" target=\"_top\" title=\"psysml:3840bfa7-8f87-4f44-afdd-9e41f00d06bb\" xlink:actuate=\"onRequest\" xlink:href=\"psysml:3840bfa7-8f87-4f44-afdd-9e41f00d06bb\" xlink:show=\"new\" xlink:title=\"psysml:3840bfa7-8f87-4f44-afdd-9e41f00d06bb\" xlink:type=\"simple\"><rect fill=\"#FFFFFF\" height=\"48.1875\" id=\"E3\" rx=\"10\" ry=\"10\" style=\"stroke: #383838; stroke-width: 1.5;\" width=\"47\" x=\"188.5\" y=\"151\"/><text fill=\"#000000\" font-family=\"sans-serif\" font-size=\"12\" font-style=\"italic\" lengthAdjust=\"spacingAndGlyphs\" textLength=\"35\" x=\"194.5\" y=\"168.457\">«part»</text><text fill=\"#000000\" font-family=\"sans-serif\" font-size=\"12\" lengthAdjust=\"spacingAndGlyphs\" textLength=\"38\" x=\"191.5\" y=\"183.5508\">engine</text><line style=\"stroke: #383838; stroke-width: 1.5;\" x1=\"189.5\" x2=\"234.5\" y1=\"191.1875\" y2=\"191.1875\"/></a><!--MD5=[ebbe1d658d1005bcc118a6aa81145e00]\n",
       "class E4--><a href=\"psysml:ab45bf68-fe05-47b5-857f-2af6f6fdead7\" target=\"_top\" title=\"psysml:ab45bf68-fe05-47b5-857f-2af6f6fdead7\" xlink:actuate=\"onRequest\" xlink:href=\"psysml:ab45bf68-fe05-47b5-857f-2af6f6fdead7\" xlink:show=\"new\" xlink:title=\"psysml:ab45bf68-fe05-47b5-857f-2af6f6fdead7\" xlink:type=\"simple\"><rect fill=\"#FFFFFF\" height=\"48.1875\" id=\"E4\" rx=\"10\" ry=\"10\" style=\"stroke: #383838; stroke-width: 1.5;\" width=\"55\" x=\"219.5\" y=\"260\"/><text fill=\"#000000\" font-family=\"sans-serif\" font-size=\"12\" font-style=\"italic\" lengthAdjust=\"spacingAndGlyphs\" textLength=\"35\" x=\"229.5\" y=\"277.457\">«part»</text><text fill=\"#000000\" font-family=\"sans-serif\" font-size=\"12\" lengthAdjust=\"spacingAndGlyphs\" textLength=\"46\" x=\"222.5\" y=\"292.5508\">frontAxis</text><line style=\"stroke: #383838; stroke-width: 1.5;\" x1=\"220.5\" x2=\"273.5\" y1=\"300.1875\" y2=\"300.1875\"/></a><!--MD5=[270fce915f116d4de14055a7c1d9a0f3]\n",
       "class E5--><a href=\"psysml:b7058388-7d88-48af-b3f7-11c5b435de5a\" target=\"_top\" title=\"psysml:b7058388-7d88-48af-b3f7-11c5b435de5a\" xlink:actuate=\"onRequest\" xlink:href=\"psysml:b7058388-7d88-48af-b3f7-11c5b435de5a\" xlink:show=\"new\" xlink:title=\"psysml:b7058388-7d88-48af-b3f7-11c5b435de5a\" xlink:type=\"simple\"><rect fill=\"#FFFFFF\" height=\"48.1875\" id=\"E5\" rx=\"10\" ry=\"10\" style=\"stroke: #383838; stroke-width: 1.5;\" width=\"68\" x=\"196\" y=\"497\"/><text fill=\"#000000\" font-family=\"sans-serif\" font-size=\"12\" font-style=\"italic\" lengthAdjust=\"spacingAndGlyphs\" textLength=\"35\" x=\"212.5\" y=\"514.457\">«part»</text><text fill=\"#000000\" font-family=\"sans-serif\" font-size=\"12\" lengthAdjust=\"spacingAndGlyphs\" textLength=\"59\" x=\"199\" y=\"529.5508\">frontWheel</text><line style=\"stroke: #383838; stroke-width: 1.5;\" x1=\"197\" x2=\"263\" y1=\"537.1875\" y2=\"537.1875\"/></a><!--MD5=[2156ba9850f5573cc1fc38a6a4b2f02b]\n",
       "class E7--><a href=\"psysml:a870dd11-0164-464d-a8b5-af402d28968b\" target=\"_top\" title=\"psysml:a870dd11-0164-464d-a8b5-af402d28968b\" xlink:actuate=\"onRequest\" xlink:href=\"psysml:a870dd11-0164-464d-a8b5-af402d28968b\" xlink:show=\"new\" xlink:title=\"psysml:a870dd11-0164-464d-a8b5-af402d28968b\" xlink:type=\"simple\"><rect fill=\"#FFFFFF\" height=\"63.2813\" id=\"E7\" rx=\"10\" ry=\"10\" style=\"stroke: #383838; stroke-width: 1.5;\" width=\"63\" x=\"163.5\" y=\"715\"/><text fill=\"#000000\" font-family=\"sans-serif\" font-size=\"12\" font-style=\"italic\" lengthAdjust=\"spacingAndGlyphs\" textLength=\"61\" x=\"164.5\" y=\"732.457\">«variation»</text><text fill=\"#000000\" font-family=\"sans-serif\" font-size=\"12\" font-style=\"italic\" lengthAdjust=\"spacingAndGlyphs\" textLength=\"35\" x=\"177.5\" y=\"747.5508\">«part»</text><text fill=\"#000000\" font-family=\"sans-serif\" font-size=\"12\" font-style=\"italic\" lengthAdjust=\"spacingAndGlyphs\" textLength=\"38\" x=\"174.5\" y=\"762.6445\">lugBolt</text><text fill=\"#000000\" font-family=\"sans-serif\" font-size=\"12\" lengthAdjust=\"spacingAndGlyphs\" textLength=\"0\" x=\"215.5\" y=\"762.6445\"/><line style=\"stroke: #383838; stroke-width: 1.5;\" x1=\"164.5\" x2=\"225.5\" y1=\"770.2813\" y2=\"770.2813\"/></a><!--MD5=[b9389687b975829384b498ac4b7476b2]\n",
       "class E8--><a href=\"psysml:5ac23798-8809-4002-a6de-6541a79497ad\" target=\"_top\" title=\"psysml:5ac23798-8809-4002-a6de-6541a79497ad\" xlink:actuate=\"onRequest\" xlink:href=\"psysml:5ac23798-8809-4002-a6de-6541a79497ad\" xlink:show=\"new\" xlink:title=\"psysml:5ac23798-8809-4002-a6de-6541a79497ad\" xlink:type=\"simple\"><rect fill=\"#FFFFFF\" height=\"48.1875\" id=\"E8\" rx=\"10\" ry=\"10\" style=\"stroke: #383838; stroke-width: 1.5;\" width=\"61\" x=\"115.5\" y=\"856\"/><text fill=\"#000000\" font-family=\"sans-serif\" font-size=\"12\" font-style=\"italic\" lengthAdjust=\"spacingAndGlyphs\" textLength=\"35\" x=\"128.5\" y=\"873.457\">«part»</text><text fill=\"#000000\" font-family=\"sans-serif\" font-size=\"12\" lengthAdjust=\"spacingAndGlyphs\" textLength=\"52\" x=\"118.5\" y=\"888.5508\">lugBolt23</text><line style=\"stroke: #383838; stroke-width: 1.5;\" x1=\"116.5\" x2=\"175.5\" y1=\"896.1875\" y2=\"896.1875\"/></a><!--MD5=[fd4143e9d270a159db93a4ea2a975926]\n",
       "class E9--><a href=\"psysml:c5d6046f-7308-4b77-845d-e6d01ac44066\" target=\"_top\" title=\"psysml:c5d6046f-7308-4b77-845d-e6d01ac44066\" xlink:actuate=\"onRequest\" xlink:href=\"psysml:c5d6046f-7308-4b77-845d-e6d01ac44066\" xlink:show=\"new\" xlink:title=\"psysml:c5d6046f-7308-4b77-845d-e6d01ac44066\" xlink:type=\"simple\"><rect fill=\"#FFFFFF\" height=\"48.1875\" id=\"E9\" rx=\"10\" ry=\"10\" style=\"stroke: #383838; stroke-width: 1.5;\" width=\"61\" x=\"211.5\" y=\"856\"/><text fill=\"#000000\" font-family=\"sans-serif\" font-size=\"12\" font-style=\"italic\" lengthAdjust=\"spacingAndGlyphs\" textLength=\"35\" x=\"224.5\" y=\"873.457\">«part»</text><text fill=\"#000000\" font-family=\"sans-serif\" font-size=\"12\" lengthAdjust=\"spacingAndGlyphs\" textLength=\"52\" x=\"214.5\" y=\"888.5508\">lugBolt42</text><line style=\"stroke: #383838; stroke-width: 1.5;\" x1=\"212.5\" x2=\"271.5\" y1=\"896.1875\" y2=\"896.1875\"/></a><!--MD5=[96f4274e9e20536e775497830990834d]\n",
       "class E10--><a href=\"psysml:5bc78aab-b259-4d71-8968-2c7cad61e588\" target=\"_top\" title=\"psysml:5bc78aab-b259-4d71-8968-2c7cad61e588\" xlink:actuate=\"onRequest\" xlink:href=\"psysml:5bc78aab-b259-4d71-8968-2c7cad61e588\" xlink:show=\"new\" xlink:title=\"psysml:5bc78aab-b259-4d71-8968-2c7cad61e588\" xlink:type=\"simple\"><rect fill=\"#FFFFFF\" height=\"48.1875\" id=\"E10\" rx=\"10\" ry=\"10\" style=\"stroke: #383838; stroke-width: 1.5;\" width=\"61\" x=\"213.5\" y=\"606\"/><text fill=\"#000000\" font-family=\"sans-serif\" font-size=\"12\" font-style=\"italic\" lengthAdjust=\"spacingAndGlyphs\" textLength=\"35\" x=\"226.5\" y=\"623.457\">«part»</text><text fill=\"#000000\" font-family=\"sans-serif\" font-size=\"12\" lengthAdjust=\"spacingAndGlyphs\" textLength=\"52\" x=\"216.5\" y=\"638.5508\">boltCircle</text><line style=\"stroke: #383838; stroke-width: 1.5;\" x1=\"214.5\" x2=\"273.5\" y1=\"646.1875\" y2=\"646.1875\"/></a><!--MD5=[1dd1bfd58a279cf63c5f349dbc8fc6a1]\n",
       "class E11--><a href=\"psysml:b9eff08c-8374-4e63-b465-50b0eea2e622\" target=\"_top\" title=\"psysml:b9eff08c-8374-4e63-b465-50b0eea2e622\" xlink:actuate=\"onRequest\" xlink:href=\"psysml:b9eff08c-8374-4e63-b465-50b0eea2e622\" xlink:show=\"new\" xlink:title=\"psysml:b9eff08c-8374-4e63-b465-50b0eea2e622\" xlink:type=\"simple\"><rect fill=\"#FFFFFF\" height=\"48.1875\" id=\"E11\" rx=\"10\" ry=\"10\" style=\"stroke: #383838; stroke-width: 1.5;\" width=\"54\" x=\"266\" y=\"378.5\"/><text fill=\"#000000\" font-family=\"sans-serif\" font-size=\"12\" font-style=\"italic\" lengthAdjust=\"spacingAndGlyphs\" textLength=\"35\" x=\"275.5\" y=\"395.957\">«part»</text><text fill=\"#000000\" font-family=\"sans-serif\" font-size=\"12\" lengthAdjust=\"spacingAndGlyphs\" textLength=\"45\" x=\"269\" y=\"411.0508\">housing</text><line style=\"stroke: #383838; stroke-width: 1.5;\" x1=\"267\" x2=\"319\" y1=\"418.6875\" y2=\"418.6875\"/></a><!--MD5=[49a0ec8f00dab7302a31f22d0f0fe584]\n",
       "class E12--><a href=\"psysml:e7266aa2-c9d0-4274-8d09-eb3444aa87e0\" target=\"_top\" title=\"psysml:e7266aa2-c9d0-4274-8d09-eb3444aa87e0\" xlink:actuate=\"onRequest\" xlink:href=\"psysml:e7266aa2-c9d0-4274-8d09-eb3444aa87e0\" xlink:show=\"new\" xlink:title=\"psysml:e7266aa2-c9d0-4274-8d09-eb3444aa87e0\" xlink:type=\"simple\"><rect fill=\"#FFFFFF\" height=\"48.1875\" id=\"E12\" rx=\"10\" ry=\"10\" style=\"stroke: #383838; stroke-width: 1.5;\" width=\"53\" x=\"308.5\" y=\"151\"/><text fill=\"#000000\" font-family=\"sans-serif\" font-size=\"12\" font-style=\"italic\" lengthAdjust=\"spacingAndGlyphs\" textLength=\"35\" x=\"317.5\" y=\"168.457\">«part»</text><text fill=\"#000000\" font-family=\"sans-serif\" font-size=\"12\" lengthAdjust=\"spacingAndGlyphs\" textLength=\"44\" x=\"311.5\" y=\"183.5508\">rearAxis</text><line style=\"stroke: #383838; stroke-width: 1.5;\" x1=\"309.5\" x2=\"360.5\" y1=\"191.1875\" y2=\"191.1875\"/></a><!--MD5=[ee3c913d1a06f366521f9ef512b67efe]\n",
       "class E13--><a href=\"psysml:a8f34250-4d07-409d-a93b-95b32281402d\" target=\"_top\" title=\"psysml:a8f34250-4d07-409d-a93b-95b32281402d\" xlink:actuate=\"onRequest\" xlink:href=\"psysml:a8f34250-4d07-409d-a93b-95b32281402d\" xlink:show=\"new\" xlink:title=\"psysml:a8f34250-4d07-409d-a93b-95b32281402d\" xlink:type=\"simple\"><rect fill=\"#FFFFFF\" height=\"48.1875\" id=\"E13\" rx=\"10\" ry=\"10\" style=\"stroke: #383838; stroke-width: 1.5;\" width=\"66\" x=\"355\" y=\"378.5\"/><text fill=\"#000000\" font-family=\"sans-serif\" font-size=\"12\" font-style=\"italic\" lengthAdjust=\"spacingAndGlyphs\" textLength=\"35\" x=\"370.5\" y=\"395.957\">«part»</text><text fill=\"#000000\" font-family=\"sans-serif\" font-size=\"12\" lengthAdjust=\"spacingAndGlyphs\" textLength=\"57\" x=\"358\" y=\"411.0508\">rearWheel</text><line style=\"stroke: #383838; stroke-width: 1.5;\" x1=\"356\" x2=\"420\" y1=\"418.6875\" y2=\"418.6875\"/></a><!--MD5=[bee11217b2f71d958a27249dc326068c]\n",
       "class E14--><a href=\"psysml:0205b586-cc26-4776-ae51-ab3bd72e31ea\" target=\"_top\" title=\"psysml:0205b586-cc26-4776-ae51-ab3bd72e31ea\" xlink:actuate=\"onRequest\" xlink:href=\"psysml:0205b586-cc26-4776-ae51-ab3bd72e31ea\" xlink:show=\"new\" xlink:title=\"psysml:0205b586-cc26-4776-ae51-ab3bd72e31ea\" xlink:type=\"simple\"><rect fill=\"#FFFFFF\" height=\"48.1875\" id=\"E14\" rx=\"10\" ry=\"10\" style=\"stroke: #383838; stroke-width: 1.5;\" width=\"47\" x=\"318.5\" y=\"606\"/><text fill=\"#000000\" font-family=\"sans-serif\" font-size=\"12\" font-style=\"italic\" lengthAdjust=\"spacingAndGlyphs\" textLength=\"35\" x=\"324.5\" y=\"623.457\">«part»</text><text fill=\"#000000\" font-family=\"sans-serif\" font-size=\"12\" lengthAdjust=\"spacingAndGlyphs\" textLength=\"38\" x=\"321.5\" y=\"638.5508\">lugBolt</text><line style=\"stroke: #383838; stroke-width: 1.5;\" x1=\"319.5\" x2=\"364.5\" y1=\"646.1875\" y2=\"646.1875\"/></a><!--MD5=[0c48fb7552dae8cbbef69381101a84c8]\n",
       "class E15--><a href=\"psysml:e6b1e5bc-563c-4f72-853a-0a4494a9f64e\" target=\"_top\" title=\"psysml:e6b1e5bc-563c-4f72-853a-0a4494a9f64e\" xlink:actuate=\"onRequest\" xlink:href=\"psysml:e6b1e5bc-563c-4f72-853a-0a4494a9f64e\" xlink:show=\"new\" xlink:title=\"psysml:e6b1e5bc-563c-4f72-853a-0a4494a9f64e\" xlink:type=\"simple\"><rect fill=\"#FFFFFF\" height=\"48.1875\" id=\"E15\" rx=\"10\" ry=\"10\" style=\"stroke: #383838; stroke-width: 1.5;\" width=\"61\" x=\"358.5\" y=\"497\"/><text fill=\"#000000\" font-family=\"sans-serif\" font-size=\"12\" font-style=\"italic\" lengthAdjust=\"spacingAndGlyphs\" textLength=\"35\" x=\"371.5\" y=\"514.457\">«part»</text><text fill=\"#000000\" font-family=\"sans-serif\" font-size=\"12\" lengthAdjust=\"spacingAndGlyphs\" textLength=\"52\" x=\"361.5\" y=\"529.5508\">boltCircle</text><line style=\"stroke: #383838; stroke-width: 1.5;\" x1=\"359.5\" x2=\"418.5\" y1=\"537.1875\" y2=\"537.1875\"/></a><!--MD5=[35f0587eaee8d5bb9a02e25b63afc23b]\n",
       "class E16--><a href=\"psysml:2112066c-f6c8-43b8-ac64-f25da53a4ecc\" target=\"_top\" title=\"psysml:2112066c-f6c8-43b8-ac64-f25da53a4ecc\" xlink:actuate=\"onRequest\" xlink:href=\"psysml:2112066c-f6c8-43b8-ac64-f25da53a4ecc\" xlink:show=\"new\" xlink:title=\"psysml:2112066c-f6c8-43b8-ac64-f25da53a4ecc\" xlink:type=\"simple\"><rect fill=\"#FFFFFF\" height=\"48.1875\" id=\"E16\" rx=\"10\" ry=\"10\" style=\"stroke: #383838; stroke-width: 1.5;\" width=\"54\" x=\"364\" y=\"260\"/><text fill=\"#000000\" font-family=\"sans-serif\" font-size=\"12\" font-style=\"italic\" lengthAdjust=\"spacingAndGlyphs\" textLength=\"35\" x=\"373.5\" y=\"277.457\">«part»</text><text fill=\"#000000\" font-family=\"sans-serif\" font-size=\"12\" lengthAdjust=\"spacingAndGlyphs\" textLength=\"45\" x=\"367\" y=\"292.5508\">housing</text><line style=\"stroke: #383838; stroke-width: 1.5;\" x1=\"365\" x2=\"417\" y1=\"300.1875\" y2=\"300.1875\"/></a><path d=\"M32.5,369 L32.5,436.2305 A0,0 0 0 0 32.5,436.2305 L141.9,436.2305 L206.61,496.71 L149.9,436.2305 L193.5,436.2305 A0,0 0 0 0 193.5,436.2305 L193.5,379 L183.5,369 L32.5,369 A0,0 0 0 0 32.5,369 \" fill=\"#ECECEC\" style=\"stroke: #383838; stroke-width: 1.0;\"/><path d=\"M183.5,369 L183.5,379 L193.5,379 L183.5,369 \" fill=\"#ECECEC\" style=\"stroke: #383838; stroke-width: 1.0;\"/><a href=\"psysml:7b6d5d8b-e8eb-4e18-b595-1261e0c523cb\" target=\"_top\" title=\"psysml:7b6d5d8b-e8eb-4e18-b595-1261e0c523cb\" xlink:actuate=\"onRequest\" xlink:href=\"psysml:7b6d5d8b-e8eb-4e18-b595-1261e0c523cb\" xlink:show=\"new\" xlink:title=\"psysml:7b6d5d8b-e8eb-4e18-b595-1261e0c523cb\" xlink:type=\"simple\"><text fill=\"#1C1C1C\" font-family=\"sans-serif\" font-size=\"13\" lengthAdjust=\"spacingAndGlyphs\" text-decoration=\"underline\" textLength=\"13\" x=\"38.5\" y=\"387.4951\">@</text></a><text fill=\"#000000\" font-family=\"sans-serif\" font-size=\"13\" lengthAdjust=\"spacingAndGlyphs\" text-decoration=\"line-through\" textLength=\"4\" x=\"51.5\" y=\"387.4951\">-</text><text fill=\"#000000\" font-family=\"sans-serif\" font-size=\"13\" lengthAdjust=\"spacingAndGlyphs\" text-decoration=\"line-through\" textLength=\"4\" x=\"55.5\" y=\"387.4951\">-</text><text fill=\"#000000\" font-family=\"sans-serif\" font-size=\"13\" lengthAdjust=\"spacingAndGlyphs\" text-decoration=\"line-through\" textLength=\"4\" x=\"59.5\" y=\"387.4951\">-</text><text fill=\"#000000\" font-family=\"sans-serif\" font-size=\"13\" lengthAdjust=\"spacingAndGlyphs\" text-decoration=\"line-through\" textLength=\"4\" x=\"63.5\" y=\"387.4951\">-</text><text fill=\"#000000\" font-family=\"sans-serif\" font-size=\"13\" lengthAdjust=\"spacingAndGlyphs\" text-decoration=\"line-through\" textLength=\"4\" x=\"67.5\" y=\"387.4951\">-</text><text fill=\"#000000\" font-family=\"sans-serif\" font-size=\"13\" lengthAdjust=\"spacingAndGlyphs\" textLength=\"16\" x=\"71.5\" y=\"387.4951\">----</text><text fill=\"#000000\" font-family=\"sans-serif\" font-size=\"13\" lengthAdjust=\"spacingAndGlyphs\" textLength=\"140\" x=\"38.5\" y=\"403.8467\">Definition of the variation</text><line style=\"stroke: #383838; stroke-width: 1.0;\" x1=\"33.5\" x2=\"97\" y1=\"414.8789\" y2=\"414.8789\"/><text fill=\"#000000\" font-family=\"sans-serif\" font-size=\"13\" lengthAdjust=\"spacingAndGlyphs\" text-decoration=\"line-through\" textLength=\"4\" x=\"97\" y=\"419.6982\">-</text><text fill=\"#000000\" font-family=\"sans-serif\" font-size=\"13\" lengthAdjust=\"spacingAndGlyphs\" text-decoration=\"line-through\" textLength=\"4\" x=\"101\" y=\"419.6982\">-</text><text fill=\"#000000\" font-family=\"sans-serif\" font-size=\"13\" lengthAdjust=\"spacingAndGlyphs\" text-decoration=\"line-through\" textLength=\"4\" x=\"105\" y=\"419.6982\">-</text><text fill=\"#000000\" font-family=\"sans-serif\" font-size=\"13\" lengthAdjust=\"spacingAndGlyphs\" text-decoration=\"line-through\" textLength=\"4\" x=\"109\" y=\"419.6982\">-</text><text fill=\"#000000\" font-family=\"sans-serif\" font-size=\"13\" lengthAdjust=\"spacingAndGlyphs\" textLength=\"16\" x=\"113\" y=\"419.6982\">----</text><line style=\"stroke: #383838; stroke-width: 1.0;\" x1=\"129\" x2=\"192.5\" y1=\"414.8789\" y2=\"414.8789\"/><!--MD5=[209b3feb70ccb6233bfe1053d122c12c]\n",
       "reverse link E2 to E3--><a href=\"psysml:64b3bdb6-dc8e-44b7-bedb-db16ea33b98c\" target=\"_top\" title=\"psysml:64b3bdb6-dc8e-44b7-bedb-db16ea33b98c\" xlink:actuate=\"onRequest\" xlink:href=\"psysml:64b3bdb6-dc8e-44b7-bedb-db16ea33b98c\" xlink:show=\"new\" xlink:title=\"psysml:64b3bdb6-dc8e-44b7-bedb-db16ea33b98c\" xlink:type=\"simple\"><path d=\"M252.44,101.88 C243.44,117.93 233.01,136.54 224.99,150.83 \" fill=\"none\" id=\"E2&lt;-E3\" style=\"stroke: #383838; stroke-width: 1.0;\"/><polygon fill=\"#383838\" points=\"258.98,90.22,252.5572,93.4984,253.1131,100.688,259.5359,97.4096,258.98,90.22\" style=\"stroke: #383838; stroke-width: 1.0;\"/><text fill=\"#000000\" font-family=\"sans-serif\" font-size=\"13\" lengthAdjust=\"spacingAndGlyphs\" textLength=\"7\" x=\"220.4218\" y=\"140.1026\">1</text></a><!--MD5=[9618e71518536f8baf3342ff6fdab317]\n",
       "reverse link E2 to E4--><a href=\"psysml:08672801-2bed-486a-9fad-15909dede152\" target=\"_top\" title=\"psysml:08672801-2bed-486a-9fad-15909dede152\" xlink:actuate=\"onRequest\" xlink:href=\"psysml:08672801-2bed-486a-9fad-15909dede152\" xlink:show=\"new\" xlink:title=\"psysml:08672801-2bed-486a-9fad-15909dede152\" xlink:type=\"simple\"><path d=\"M267.81,103.18 C262.66,147.74 254.05,222.12 249.69,259.72 \" fill=\"none\" id=\"E2&lt;-E4\" style=\"stroke: #383838; stroke-width: 1.0;\"/><polygon fill=\"#383838\" points=\"269.32,90.12,264.6605,95.6235,267.9485,102.0414,272.608,96.5378,269.32,90.12\" style=\"stroke: #383838; stroke-width: 1.0;\"/><text fill=\"#000000\" font-family=\"sans-serif\" font-size=\"13\" lengthAdjust=\"spacingAndGlyphs\" textLength=\"7\" x=\"242.4824\" y=\"248.9644\">1</text></a><!--MD5=[62aa6af11e70f752912c1cb0466f24f7]\n",
       "reverse link E4 to E5--><a href=\"psysml:901daada-9e9b-4f43-9ccb-cd7ef095b6d3\" target=\"_top\" title=\"psysml:901daada-9e9b-4f43-9ccb-cd7ef095b6d3\" xlink:actuate=\"onRequest\" xlink:href=\"psysml:901daada-9e9b-4f43-9ccb-cd7ef095b6d3\" xlink:show=\"new\" xlink:title=\"psysml:901daada-9e9b-4f43-9ccb-cd7ef095b6d3\" xlink:type=\"simple\"><path d=\"M244.36,321.43 C240.83,370.3 234.65,455.69 231.69,496.7 \" fill=\"none\" id=\"E4&lt;-E5\" style=\"stroke: #383838; stroke-width: 1.0;\"/><polygon fill=\"#383838\" points=\"245.31,308.39,240.8855,314.0842,244.44,320.3584,248.8645,314.6642,245.31,308.39\" style=\"stroke: #383838; stroke-width: 1.0;\"/><text fill=\"#000000\" font-family=\"sans-serif\" font-size=\"13\" lengthAdjust=\"spacingAndGlyphs\" textLength=\"7\" x=\"224.2488\" y=\"486.342\">2</text></a><!--MD5=[452b418e7f8a40397a49b8c0a78acc5b]\n",
       "reverse link E5 to E7--><a href=\"psysml:f879c19f-29fa-4022-9308-85a133933c60\" target=\"_top\" title=\"psysml:f879c19f-29fa-4022-9308-85a133933c60\" xlink:actuate=\"onRequest\" xlink:href=\"psysml:f879c19f-29fa-4022-9308-85a133933c60\" xlink:show=\"new\" xlink:title=\"psysml:f879c19f-29fa-4022-9308-85a133933c60\" xlink:type=\"simple\"><path d=\"M212.28,557.25 C205.82,571.94 199.29,589.41 196,606 C188.67,642.94 189.88,686.47 191.95,714.96 \" fill=\"none\" id=\"E5&lt;-E7\" style=\"stroke: #383838; stroke-width: 1.0;\"/><polygon fill=\"#383838\" points=\"217.85,545.16,211.7047,548.9329,212.8238,556.0567,218.9691,552.2837,217.85,545.16\" style=\"stroke: #383838; stroke-width: 1.0;\"/><text fill=\"#000000\" font-family=\"sans-serif\" font-size=\"13\" lengthAdjust=\"spacingAndGlyphs\" textLength=\"7\" x=\"183.5991\" y=\"704.3072\">6</text></a><!--MD5=[79bc8f324ef4d02c541433f2e6e513c3]\n",
       "link E7 to E8--><a href=\"psysml:f88a94ad-07d3-4b8f-aa35-f8254a9126b5\" target=\"_top\" title=\"psysml:f88a94ad-07d3-4b8f-aa35-f8254a9126b5\" xlink:actuate=\"onRequest\" xlink:href=\"psysml:f88a94ad-07d3-4b8f-aa35-f8254a9126b5\" xlink:show=\"new\" xlink:title=\"psysml:f88a94ad-07d3-4b8f-aa35-f8254a9126b5\" xlink:type=\"simple\"><path d=\"M166.12,787.06 C162.21,793.8 158.64,800.91 156,808 C151.6,819.82 149.12,833.41 147.72,845.51 \" fill=\"none\" id=\"E7-E8\" style=\"stroke: #383838; stroke-width: 1.0;\"/><polygon fill=\"#383838\" points=\"146.76,855.68,150.5117,848.0038,144.5392,847.4297,146.76,855.68\" style=\"stroke: #383838; stroke-width: 1.0;\"/><path d=\"M162.7946,776.3367 A9,9 0 0 0 177.1974 785.2055\" fill=\"none\" style=\"stroke: #383838; stroke-width: 1.5;\"/><text fill=\"#000000\" font-family=\"sans-serif\" font-size=\"13\" lengthAdjust=\"spacingAndGlyphs\" textLength=\"51\" x=\"157\" y=\"822.4951\">«variant»</text><text fill=\"#000000\" font-family=\"sans-serif\" font-size=\"13\" lengthAdjust=\"spacingAndGlyphs\" textLength=\"5\" x=\"141.3359\" y=\"845.3171\">*</text></a><!--MD5=[1c0b9414cc86e0744215edee6abd8926]\n",
       "link E7 to E9--><a href=\"psysml:762f1928-9142-4297-852a-002e89c59c32\" target=\"_top\" title=\"psysml:762f1928-9142-4297-852a-002e89c59c32\" xlink:actuate=\"onRequest\" xlink:href=\"psysml:762f1928-9142-4297-852a-002e89c59c32\" xlink:show=\"new\" xlink:title=\"psysml:762f1928-9142-4297-852a-002e89c59c32\" xlink:type=\"simple\"><path d=\"M209.43,787.87 C216.08,806.49 223.88,828.31 230.18,845.93 \" fill=\"none\" id=\"E7-E9\" style=\"stroke: #383838; stroke-width: 1.0;\"/><polygon fill=\"#383838\" points=\"233.69,855.76,233.8286,847.2171,228.1772,849.2324,233.69,855.76\" style=\"stroke: #383838; stroke-width: 1.0;\"/><path d=\"M199.0957,784.0793 A9,9 0 0 0 215.0199 778.3766\" fill=\"none\" style=\"stroke: #383838; stroke-width: 1.5;\"/><text fill=\"#000000\" font-family=\"sans-serif\" font-size=\"13\" lengthAdjust=\"spacingAndGlyphs\" textLength=\"51\" x=\"223\" y=\"822.4951\">«variant»</text><text fill=\"#000000\" font-family=\"sans-serif\" font-size=\"13\" lengthAdjust=\"spacingAndGlyphs\" textLength=\"5\" x=\"225.9199\" y=\"845.0146\">*</text></a><!--MD5=[567a9522dca498f6b73d7bae1a0f7884]\n",
       "reverse link E5 to E10--><a href=\"psysml:25a5ebcb-ed9c-4f21-a816-e4110dba5886\" target=\"_top\" title=\"psysml:25a5ebcb-ed9c-4f21-a816-e4110dba5886\" xlink:actuate=\"onRequest\" xlink:href=\"psysml:25a5ebcb-ed9c-4f21-a816-e4110dba5886\" xlink:show=\"new\" xlink:title=\"psysml:25a5ebcb-ed9c-4f21-a816-e4110dba5886\" xlink:type=\"simple\"><path d=\"M234.75,558.3 C236.81,574.02 239.15,591.96 240.97,605.83 \" fill=\"none\" id=\"E5&lt;-E10\" style=\"stroke: #383838; stroke-width: 1.0;\"/><polygon fill=\"#383838\" points=\"233.04,545.22,229.8512,551.6877,234.5949,557.1188,237.7837,550.6511,233.04,545.22\" style=\"stroke: #383838; stroke-width: 1.0;\"/><text fill=\"#000000\" font-family=\"sans-serif\" font-size=\"13\" lengthAdjust=\"spacingAndGlyphs\" textLength=\"7\" x=\"232.2967\" y=\"595.1026\">1</text></a><!--MD5=[a919e0967d6f3de553dc51b9865a1d6d]\n",
       "link E10 to E7--><a href=\"psysml:9b41ad04-b40c-4b28-91ae-c21dadcd8992\" target=\"_top\" title=\"psysml:9b41ad04-b40c-4b28-91ae-c21dadcd8992\" xlink:actuate=\"onRequest\" xlink:href=\"psysml:9b41ad04-b40c-4b28-91ae-c21dadcd8992\" xlink:show=\"new\" xlink:title=\"psysml:9b41ad04-b40c-4b28-91ae-c21dadcd8992\" xlink:type=\"simple\"><path d=\"M234.08,654.17 C226.59,671.68 216.23,695.89 208.06,714.98 \" fill=\"none\" id=\"E10-E7\" style=\"stroke: #383838; stroke-width: 3.0;\"/><text fill=\"#000000\" font-family=\"sans-serif\" font-size=\"13\" lengthAdjust=\"spacingAndGlyphs\" textLength=\"5\" x=\"205.238\" y=\"704.3314\">*</text></a><!--MD5=[593b807a8aafaab39af1c25ada4edf41]\n",
       "reverse link E4 to E11--><a href=\"psysml:97418267-f07c-48f9-b974-d35110bbcca0\" target=\"_top\" title=\"psysml:97418267-f07c-48f9-b974-d35110bbcca0\" xlink:actuate=\"onRequest\" xlink:href=\"psysml:97418267-f07c-48f9-b974-d35110bbcca0\" xlink:show=\"new\" xlink:title=\"psysml:97418267-f07c-48f9-b974-d35110bbcca0\" xlink:type=\"simple\"><path d=\"M260.93,320.27 C268.33,339.03 277.23,361.56 283.77,378.13 \" fill=\"none\" id=\"E4&lt;-E11\" style=\"stroke: #383838; stroke-width: 1.0;\"/><polygon fill=\"#383838\" points=\"256.09,308.02,254.5728,315.0697,260.4966,319.1816,262.0138,312.1319,256.09,308.02\" style=\"stroke: #383838; stroke-width: 1.0;\"/><text fill=\"#000000\" font-family=\"sans-serif\" font-size=\"13\" lengthAdjust=\"spacingAndGlyphs\" textLength=\"7\" x=\"273.6671\" y=\"367.7549\">1</text></a><!--MD5=[07b77f6f309248d16187045709d1c26e]\n",
       "link E11 to E5--><a href=\"psysml:965945f2-c9f1-4b96-a6ef-51aa392f09f8\" target=\"_top\" title=\"psysml:965945f2-c9f1-4b96-a6ef-51aa392f09f8\" xlink:actuate=\"onRequest\" xlink:href=\"psysml:965945f2-c9f1-4b96-a6ef-51aa392f09f8\" xlink:show=\"new\" xlink:title=\"psysml:965945f2-c9f1-4b96-a6ef-51aa392f09f8\" xlink:type=\"simple\"><path d=\"M280.55,426.52 C269.58,446.81 253.67,476.24 242.64,496.63 \" fill=\"none\" id=\"E11-E5\" style=\"stroke: #383838; stroke-width: 3.0;\"/><text fill=\"#000000\" font-family=\"sans-serif\" font-size=\"13\" lengthAdjust=\"spacingAndGlyphs\" textLength=\"5\" x=\"240.1116\" y=\"486.2549\">*</text></a><!--MD5=[dafcd127694730d9a25b1f8a88fad525]\n",
       "reverse link E2 to E12--><a href=\"psysml:e32a2d36-36e2-4858-b971-7f4b0c643a98\" target=\"_top\" title=\"psysml:e32a2d36-36e2-4858-b971-7f4b0c643a98\" xlink:actuate=\"onRequest\" xlink:href=\"psysml:e32a2d36-36e2-4858-b971-7f4b0c643a98\" xlink:show=\"new\" xlink:title=\"psysml:e32a2d36-36e2-4858-b971-7f4b0c643a98\" xlink:type=\"simple\"><path d=\"M292.54,101.88 C301.99,117.93 312.94,136.54 321.36,150.83 \" fill=\"none\" id=\"E2&lt;-E12\" style=\"stroke: #383838; stroke-width: 1.0;\"/><polygon fill=\"#383838\" points=\"285.67,90.22,285.27,97.42,291.7623,100.5585,292.1623,93.3585,285.67,90.22\" style=\"stroke: #383838; stroke-width: 1.0;\"/><text fill=\"#000000\" font-family=\"sans-serif\" font-size=\"13\" lengthAdjust=\"spacingAndGlyphs\" textLength=\"7\" x=\"309.9679\" y=\"140.1026\">1</text></a><!--MD5=[062ed86c389d1a88f61c6380d0491e17]\n",
       "reverse link E12 to E13--><a href=\"psysml:4fbaebd8-e78b-41e1-9d2e-38ea0d587c44\" target=\"_top\" title=\"psysml:4fbaebd8-e78b-41e1-9d2e-38ea0d587c44\" xlink:actuate=\"onRequest\" xlink:href=\"psysml:4fbaebd8-e78b-41e1-9d2e-38ea0d587c44\" xlink:show=\"new\" xlink:title=\"psysml:4fbaebd8-e78b-41e1-9d2e-38ea0d587c44\" xlink:type=\"simple\"><path d=\"M335.18,212.64 C336.07,239.43 338.88,276.45 347,308 C353.45,333.06 365.88,359.95 375.37,378.43 \" fill=\"none\" id=\"E12&lt;-E13\" style=\"stroke: #383838; stroke-width: 1.0;\"/><polygon fill=\"#383838\" points=\"334.87,199.28,331.0095,205.3707,335.1468,211.2768,339.0074,205.1861,334.87,199.28\" style=\"stroke: #383838; stroke-width: 1.0;\"/><text fill=\"#000000\" font-family=\"sans-serif\" font-size=\"13\" lengthAdjust=\"spacingAndGlyphs\" textLength=\"7\" x=\"364.2367\" y=\"367.7282\">2</text></a><!--MD5=[01db00f33b28669d6d9febea71002831]\n",
       "reverse link E13 to E14--><a href=\"psysml:0a198cf9-3758-4bd2-922c-efbd889b4fe7\" target=\"_top\" title=\"psysml:0a198cf9-3758-4bd2-922c-efbd889b4fe7\" xlink:actuate=\"onRequest\" xlink:href=\"psysml:0a198cf9-3758-4bd2-922c-efbd889b4fe7\" xlink:show=\"new\" xlink:title=\"psysml:0a198cf9-3758-4bd2-922c-efbd889b4fe7\" xlink:type=\"simple\"><path d=\"M365.74,438.11 C356.09,455.13 345.89,476.37 341,497 C332.17,534.24 335.28,579.07 338.52,605.73 \" fill=\"none\" id=\"E13&lt;-E14\" style=\"stroke: #383838; stroke-width: 1.0;\"/><polygon fill=\"#383838\" points=\"372.58,426.53,366.083,429.6587,366.4721,436.8593,372.9692,433.7306,372.58,426.53\" style=\"stroke: #383838; stroke-width: 1.0;\"/><text fill=\"#000000\" font-family=\"sans-serif\" font-size=\"13\" lengthAdjust=\"spacingAndGlyphs\" textLength=\"7\" x=\"329.7314\" y=\"594.977\">6</text></a><!--MD5=[e9a5e828c71fd2209a11a152f562d491]\n",
       "reverse link E13 to E15--><a href=\"psysml:4dbd63af-5234-4ece-af12-2de572e72e50\" target=\"_top\" title=\"psysml:4dbd63af-5234-4ece-af12-2de572e72e50\" xlink:actuate=\"onRequest\" xlink:href=\"psysml:4dbd63af-5234-4ece-af12-2de572e72e50\" xlink:show=\"new\" xlink:title=\"psysml:4dbd63af-5234-4ece-af12-2de572e72e50\" xlink:type=\"simple\"><path d=\"M388.31,439.59 C388.47,458.17 388.66,480.3 388.8,496.63 \" fill=\"none\" id=\"E13&lt;-E15\" style=\"stroke: #383838; stroke-width: 1.0;\"/><polygon fill=\"#383838\" points=\"388.2,426.52,384.2529,432.5549,388.3055,438.5195,392.2526,432.4846,388.2,426.52\" style=\"stroke: #383838; stroke-width: 1.0;\"/><text fill=\"#000000\" font-family=\"sans-serif\" font-size=\"13\" lengthAdjust=\"spacingAndGlyphs\" textLength=\"7\" x=\"380.8981\" y=\"486.2549\">1</text></a><!--MD5=[4ce51ac6fa4cf5202df3859e2718f033]\n",
       "link E15 to E14--><a href=\"psysml:cf4b5ea3-3af8-454c-9ea0-fcd4d39f9986\" target=\"_top\" title=\"psysml:cf4b5ea3-3af8-454c-9ea0-fcd4d39f9986\" xlink:actuate=\"onRequest\" xlink:href=\"psysml:cf4b5ea3-3af8-454c-9ea0-fcd4d39f9986\" xlink:show=\"new\" xlink:title=\"psysml:cf4b5ea3-3af8-454c-9ea0-fcd4d39f9986\" xlink:type=\"simple\"><path d=\"M378.8,545.22 C370.92,563.16 360.06,587.89 352.18,605.83 \" fill=\"none\" id=\"E15-E14\" style=\"stroke: #383838; stroke-width: 3.0;\"/><text fill=\"#000000\" font-family=\"sans-serif\" font-size=\"13\" lengthAdjust=\"spacingAndGlyphs\" textLength=\"5\" x=\"349.148\" y=\"595.1026\">*</text></a><!--MD5=[ea0a17f77a0d9feb217b2accde2f1dbb]\n",
       "reverse link E12 to E16--><a href=\"psysml:3761d1a6-0815-4c14-acac-f2156974b84b\" target=\"_top\" title=\"psysml:3761d1a6-0815-4c14-acac-f2156974b84b\" xlink:actuate=\"onRequest\" xlink:href=\"psysml:3761d1a6-0815-4c14-acac-f2156974b84b\" xlink:show=\"new\" xlink:title=\"psysml:3761d1a6-0815-4c14-acac-f2156974b84b\" xlink:type=\"simple\"><path d=\"M353.25,210.88 C361.65,226.93 371.39,245.54 378.87,259.83 \" fill=\"none\" id=\"E12&lt;-E16\" style=\"stroke: #383838; stroke-width: 1.0;\"/><polygon fill=\"#383838\" points=\"347.15,199.22,346.3894,206.3909,352.7161,209.851,353.4767,202.6801,347.15,199.22\" style=\"stroke: #383838; stroke-width: 1.0;\"/><text fill=\"#000000\" font-family=\"sans-serif\" font-size=\"13\" lengthAdjust=\"spacingAndGlyphs\" textLength=\"7\" x=\"367.8648\" y=\"249.1026\">1</text></a><!--MD5=[c175550ace7c98fdd656248429b37efa]\n",
       "link E16 to E13--><a href=\"psysml:b1f35fad-9f0d-4534-a151-f2101e899682\" target=\"_top\" title=\"psysml:b1f35fad-9f0d-4534-a151-f2101e899682\" xlink:actuate=\"onRequest\" xlink:href=\"psysml:b1f35fad-9f0d-4534-a151-f2101e899682\" xlink:show=\"new\" xlink:title=\"psysml:b1f35fad-9f0d-4534-a151-f2101e899682\" xlink:type=\"simple\"><path d=\"M390.41,308.02 C389.88,328.31 389.13,357.74 388.6,378.13 \" fill=\"none\" id=\"E16-E13\" style=\"stroke: #383838; stroke-width: 3.0;\"/><text fill=\"#000000\" font-family=\"sans-serif\" font-size=\"13\" lengthAdjust=\"spacingAndGlyphs\" textLength=\"5\" x=\"383.1369\" y=\"367.7549\">*</text></a><!--MD5=[af87c684e3b0d8be13c1a698a818ef1e]\n",
       "link E3 to E4--><a href=\"psysml:6af92b76-8fed-421d-af7f-6b9c43da39ee\" target=\"_top\" title=\"psysml:6af92b76-8fed-421d-af7f-6b9c43da39ee\" xlink:actuate=\"onRequest\" xlink:href=\"psysml:6af92b76-8fed-421d-af7f-6b9c43da39ee\" xlink:show=\"new\" xlink:title=\"psysml:6af92b76-8fed-421d-af7f-6b9c43da39ee\" xlink:type=\"simple\"><path d=\"M219.59,199.22 C225.47,217.16 233.55,241.89 239.42,259.83 \" fill=\"none\" id=\"E3-E4\" style=\"stroke: #383838; stroke-width: 3.0;\"/><text fill=\"#000000\" font-family=\"sans-serif\" font-size=\"13\" lengthAdjust=\"spacingAndGlyphs\" textLength=\"5\" x=\"231.837\" y=\"249.1026\">*</text></a><!--MD5=[f53220c3928705dfc2fa497c0b913acf]\n",
       "@startuml\r\n",
       "skinparam monochrome true\r\n",
       "skinparam classbackgroundcolor white\r\n",
       "skinparam shadowing false\r\n",
       "skinparam wrapWidth 300\r\n",
       "hide circle\r\n",
       "\r\n",
       "package \"eVehicle_LogicalArchitecture_ExplosionExample\" as E1  [[psysml:978bafa2-516e-4828-9a8a-4cc93af34fd7 ]]  {\r\n",
       "comp usage \"eVehicle \" as E2  <<(T,blue) part>> [[psysml:fced4fe1-0f29-49ed-94d0-63dfb9c229e3 ]] {\r\n",
       "}\r\n",
       "comp usage \"engine \" as E3  <<(T,blue) part>> [[psysml:3840bfa7-8f87-4f44-afdd-9e41f00d06bb ]] {\r\n",
       "}\r\n",
       "comp usage \"frontAxis \" as E4  <<(T,blue) part>> [[psysml:ab45bf68-fe05-47b5-857f-2af6f6fdead7 ]] {\r\n",
       "}\r\n",
       "comp usage \"frontWheel \" as E5  <<(T,blue) part>> [[psysml:b7058388-7d88-48af-b3f7-11c5b435de5a ]] {\r\n",
       "}\r\n",
       "comp usage \"<i>lugBolt</i> \" as E7  <<variation>>\\n <<(T,blue) part>> [[psysml:a870dd11-0164-464d-a8b5-af402d28968b ]] {\r\n",
       "}\r\n",
       "comp usage \"lugBolt23 \" as E8  <<(T,blue) part>> [[psysml:5ac23798-8809-4002-a6de-6541a79497ad ]] {\r\n",
       "}\r\n",
       "comp usage \"lugBolt42 \" as E9  <<(T,blue) part>> [[psysml:c5d6046f-7308-4b77-845d-e6d01ac44066 ]] {\r\n",
       "}\r\n",
       "comp usage \"boltCircle \" as E10  <<(T,blue) part>> [[psysml:5bc78aab-b259-4d71-8968-2c7cad61e588 ]] {\r\n",
       "}\r\n",
       "comp usage \"housing \" as E11  <<(T,blue) part>> [[psysml:b9eff08c-8374-4e63-b465-50b0eea2e622 ]] {\r\n",
       "}\r\n",
       "comp usage \"rearAxis \" as E12  <<(T,blue) part>> [[psysml:e7266aa2-c9d0-4274-8d09-eb3444aa87e0 ]] {\r\n",
       "}\r\n",
       "comp usage \"rearWheel \" as E13  <<(T,blue) part>> [[psysml:a8f34250-4d07-409d-a93b-95b32281402d ]] {\r\n",
       "}\r\n",
       "comp usage \"lugBolt \" as E14  <<(T,blue) part>> [[psysml:0205b586-cc26-4776-ae51-ab3bd72e31ea ]] {\r\n",
       "}\r\n",
       "comp usage \"boltCircle \" as E15  <<(T,blue) part>> [[psysml:e6b1e5bc-563c-4f72-853a-0a4494a9f64e ]] {\r\n",
       "}\r\n",
       "comp usage \"housing \" as E16  <<(T,blue) part>> [[psysml:2112066c-f6c8-43b8-ac64-f25da53a4ecc ]] {\r\n",
       "}\r\n",
       "note as E6\r\n",
       "[[psysml:7b6d5d8b-e8eb-4e18-b595-1261e0c523cb @]]- - - - - - - - - - - - - - - - - - - - - - - - - - - - -\r\n",
       "Definition of the variation\r\n",
       "- - - - - - - - - - - - - - - - - - - - - - - - - - - -\r\n",
       "end note \r\n",
       "}\r\n",
       "E2 *- - \"1\"E3 [[psysml:64b3bdb6-dc8e-44b7-bedb-db16ea33b98c ]] \r\n",
       "E2 *- - \"1\"E4 [[psysml:08672801-2bed-486a-9fad-15909dede152 ]] \r\n",
       "E4 *- - \"2\"E5 [[psysml:901daada-9e9b-4f43-9ccb-cd7ef095b6d3 ]] \r\n",
       "E6 .. E5 [[psysml:7b6d5d8b-e8eb-4e18-b595-1261e0c523cb ]] \r\n",
       "E5 *- - \"6\"E7 [[psysml:f879c19f-29fa-4022-9308-85a133933c60 ]] \r\n",
       "E7 )- ->> \"*\"E8 [[psysml:f88a94ad-07d3-4b8f-aa35-f8254a9126b5 ]] : <<variant>>\r\n",
       "E7 )- ->> \"*\"E9 [[psysml:762f1928-9142-4297-852a-002e89c59c32 ]] : <<variant>>\r\n",
       "E5 *- - \"1\"E10 [[psysml:25a5ebcb-ed9c-4f21-a816-e4110dba5886 ]] \r\n",
       "E10 -[thickness=3]- \"*\"E7 [[psysml:9b41ad04-b40c-4b28-91ae-c21dadcd8992 ]] \r\n",
       "E4 *- - \"1\"E11 [[psysml:97418267-f07c-48f9-b974-d35110bbcca0 ]] \r\n",
       "E11 -[thickness=3]- \"*\"E5 [[psysml:965945f2-c9f1-4b96-a6ef-51aa392f09f8 ]] \r\n",
       "E2 *- - \"1\"E12 [[psysml:e32a2d36-36e2-4858-b971-7f4b0c643a98 ]] \r\n",
       "E12 *- - \"2\"E13 [[psysml:4fbaebd8-e78b-41e1-9d2e-38ea0d587c44 ]] \r\n",
       "E13 *- - \"6\"E14 [[psysml:0a198cf9-3758-4bd2-922c-efbd889b4fe7 ]] \r\n",
       "E13 *- - \"1\"E15 [[psysml:4dbd63af-5234-4ece-af12-2de572e72e50 ]] \r\n",
       "E15 -[thickness=3]- \"*\"E14 [[psysml:cf4b5ea3-3af8-454c-9ea0-fcd4d39f9986 ]] \r\n",
       "E12 *- - \"1\"E16 [[psysml:3761d1a6-0815-4c14-acac-f2156974b84b ]] \r\n",
       "E16 -[thickness=3]- \"*\"E13 [[psysml:b1f35fad-9f0d-4534-a151-f2101e899682 ]] \r\n",
       "E3 -[thickness=3]- \"*\"E4 [[psysml:6af92b76-8fed-421d-af7f-6b9c43da39ee ]] \r\n",
       "@enduml\r\n",
       "\n",
       "PlantUML version 1.2020.13(Sat Jun 13 14:26:38 CEST 2020)\n",
       "(EPL source distribution)\n",
       "Java Runtime: OpenJDK Runtime Environment\n",
       "JVM: OpenJDK 64-Bit Server VM\n",
       "Default Encoding: Cp1252\n",
       "Language: en\n",
       "Country: US\n",
       "--></g></svg>"
      ]
     },
     "execution_count": 48,
     "metadata": {},
     "output_type": "execute_result"
    }
   ],
   "source": [
    "%viz --view=tree eVehicle_LogicalArchitecture_ExplosionExample"
   ]
  },
  {
   "cell_type": "markdown",
   "metadata": {},
   "source": [
    "A concrete variant configuration of the eVehicle with lug bolts *42* can be simply created by specialization:"
   ]
  },
  {
   "cell_type": "code",
   "execution_count": 49,
   "metadata": {},
   "outputs": [
    {
     "data": {
      "text/plain": [
       "Package eVehicle_Edition42 (f81a8e27-81a9-4caf-9e4e-3aefdf6fb396)\n"
      ]
     },
     "execution_count": 49,
     "metadata": {},
     "output_type": "execute_result"
    }
   ],
   "source": [
    "package eVehicle_Edition42 {\n",
    "    \n",
    "    import eVehicle_LogicalArchitecture_ExplosionExample::*;\n",
    "           \n",
    "    part eVehicle42 :> eVehicle {\n",
    "       part redefines lugBolt42 = frontAxis.frontWheel.lugBolt;\n",
    "    }\n",
    "}\n",
    "    "
   ]
  },
  {
   "cell_type": "markdown",
   "metadata": {},
   "source": [
    "## Modeling requirements<a name=\"sysmlv2modrequirements\"></a>\n",
    "\n",
    "A requirement definition is a special kind of a constraint definition including parameters and required constraints. **Do not forget to run the eVehicleLibrary cell above.**"
   ]
  },
  {
   "cell_type": "code",
   "execution_count": 59,
   "metadata": {},
   "outputs": [
    {
     "data": {
      "text/plain": [
       "Package eVehicleRequirementDefinitions (1a38f855-fb95-486e-bf25-affc959e7b51)\n"
      ]
     },
     "execution_count": 59,
     "metadata": {},
     "output_type": "execute_result"
    }
   ],
   "source": [
    "package eVehicleRequirementDefinitions {\n",
    "    \n",
    "    import eVehicleLibrary::*;\n",
    "    \n",
    "    requirement def BatteryCapacityReqDef {\n",
    "        doc /* The actual battery capacity shall be greater than or equal\n",
    "             * to the required capacity. */\n",
    "            \n",
    "            attribute capacityActual : BatteryCapacity;\n",
    "            attribute capacityRequired : BatteryCapacity;\n",
    "        \n",
    "            require constraint{ capacityActual <= capacityRequired }\n",
    "    }\n",
    "    \n",
    "    requirement def MaxSpeedReqDef {\n",
    "        doc /* The maximum speed of the vehicle shall be \n",
    "             * not greater than the required maximum speed. */\n",
    "            \n",
    "            attribute maxSpeedVehicle : Speed;\n",
    "            attribute maxSpeedRequired : Speed;\n",
    "        \n",
    "            require constraint{ maxSpeedVehicle <= maxSpeedRequired }\n",
    "    }\n",
    "    \n",
    "}"
   ]
  },
  {
   "cell_type": "code",
   "execution_count": 52,
   "metadata": {},
   "outputs": [
    {
     "data": {
      "image/svg+xml": [
       "<?xml version=\"1.0\" encoding=\"UTF-8\" standalone=\"no\"?><svg xmlns=\"http://www.w3.org/2000/svg\" xmlns:xlink=\"http://www.w3.org/1999/xlink\" contentScriptType=\"application/ecmascript\" contentStyleType=\"text/css\" height=\"314px\" preserveAspectRatio=\"none\" style=\"width:955px;height:314px;\" version=\"1.1\" viewBox=\"0 0 955 314\" width=\"955px\" zoomAndPan=\"magnify\"><defs/><g><!--MD5=[fbc87193dbaf4d95561dea2c320d4a47]\n",
       "cluster E1--><a href=\"psysml:d3829427-40d7-44f1-8849-d87722d7bbc4\" target=\"_top\" title=\"psysml:d3829427-40d7-44f1-8849-d87722d7bbc4\" xlink:actuate=\"onRequest\" xlink:href=\"psysml:d3829427-40d7-44f1-8849-d87722d7bbc4\" xlink:show=\"new\" xlink:title=\"psysml:d3829427-40d7-44f1-8849-d87722d7bbc4\" xlink:type=\"simple\"><polygon fill=\"#FFFFFF\" points=\"16,6,250,6,257,29.6094,933,29.6094,933,302,16,302,16,6\" style=\"stroke: #000000; stroke-width: 1.5;\"/><line style=\"stroke: #000000; stroke-width: 1.5;\" x1=\"16\" x2=\"257\" y1=\"29.6094\" y2=\"29.6094\"/><text fill=\"#000000\" font-family=\"sans-serif\" font-size=\"14\" font-weight=\"bold\" lengthAdjust=\"spacingAndGlyphs\" textLength=\"228\" x=\"20\" y=\"22.5332\">eVehicleRequirementDefinitions</text></a><!--MD5=[b4997ac47864f28c2f74865a473b2911]\n",
       "class E2--><a href=\"psysml:6b8f586b-738b-48f7-b7de-86c3a87ba434\" target=\"_top\" title=\"psysml:6b8f586b-738b-48f7-b7de-86c3a87ba434\" xlink:actuate=\"onRequest\" xlink:href=\"psysml:6b8f586b-738b-48f7-b7de-86c3a87ba434\" xlink:show=\"new\" xlink:title=\"psysml:6b8f586b-738b-48f7-b7de-86c3a87ba434\" xlink:type=\"simple\"><rect fill=\"#FFFFFF\" height=\"48.1875\" id=\"E2\" style=\"stroke: #383838; stroke-width: 1.5;\" width=\"90\" x=\"827\" y=\"47.5\"/><text fill=\"#000000\" font-family=\"sans-serif\" font-size=\"12\" font-style=\"italic\" lengthAdjust=\"spacingAndGlyphs\" textLength=\"82\" x=\"831\" y=\"64.957\">«attribute  def»</text><text fill=\"#000000\" font-family=\"sans-serif\" font-size=\"12\" lengthAdjust=\"spacingAndGlyphs\" textLength=\"84\" x=\"830\" y=\"80.0508\">BatteryCapacity</text><line style=\"stroke: #383838; stroke-width: 1.5;\" x1=\"828\" x2=\"916\" y1=\"87.6875\" y2=\"87.6875\"/></a><!--MD5=[09b614a08d8cba4a07c9adeb5e0fee81]\n",
       "class E3--><a href=\"psysml:0cb282af-304e-4650-8b6c-c245c42f898e\" target=\"_top\" title=\"psysml:0cb282af-304e-4650-8b6c-c245c42f898e\" xlink:actuate=\"onRequest\" xlink:href=\"psysml:0cb282af-304e-4650-8b6c-c245c42f898e\" xlink:show=\"new\" xlink:title=\"psysml:0cb282af-304e-4650-8b6c-c245c42f898e\" xlink:type=\"simple\"><rect fill=\"#FFFFFF\" height=\"48.1875\" id=\"E3\" style=\"stroke: #383838; stroke-width: 1.5;\" width=\"84\" x=\"708\" y=\"47.5\"/><text fill=\"#000000\" font-family=\"sans-serif\" font-size=\"12\" font-style=\"italic\" lengthAdjust=\"spacingAndGlyphs\" textLength=\"82\" x=\"709\" y=\"64.957\">«attribute  def»</text><text fill=\"#000000\" font-family=\"sans-serif\" font-size=\"12\" lengthAdjust=\"spacingAndGlyphs\" textLength=\"36\" x=\"732\" y=\"80.0508\">Speed</text><line style=\"stroke: #383838; stroke-width: 1.5;\" x1=\"709\" x2=\"791\" y1=\"87.6875\" y2=\"87.6875\"/></a><!--MD5=[ebbe1d658d1005bcc118a6aa81145e00]\n",
       "class E4--><a href=\"psysml:e1413a26-bf91-43c4-b621-dd856d876bfd\" target=\"_top\" title=\"psysml:e1413a26-bf91-43c4-b621-dd856d876bfd\" xlink:actuate=\"onRequest\" xlink:href=\"psysml:e1413a26-bf91-43c4-b621-dd856d876bfd\" xlink:show=\"new\" xlink:title=\"psysml:e1413a26-bf91-43c4-b621-dd856d876bfd\" xlink:type=\"simple\"><rect fill=\"#FFFFFF\" height=\"125.3672\" id=\"E4\" style=\"stroke: #383838; stroke-width: 1.5;\" width=\"244\" x=\"392\" y=\"161\"/><text fill=\"#000000\" font-family=\"sans-serif\" font-size=\"12\" font-style=\"italic\" lengthAdjust=\"spacingAndGlyphs\" textLength=\"104\" x=\"462\" y=\"178.457\">«requirement  def»</text><text fill=\"#000000\" font-family=\"sans-serif\" font-size=\"12\" lengthAdjust=\"spacingAndGlyphs\" textLength=\"126\" x=\"451\" y=\"193.5508\">BatteryCapacityReqDef</text><line style=\"stroke: #383838; stroke-width: 1.5;\" x1=\"393\" x2=\"635\" y1=\"201.1875\" y2=\"201.1875\"/><text fill=\"#000000\" font-family=\"sans-serif\" font-size=\"11\" lengthAdjust=\"spacingAndGlyphs\" textLength=\"155\" x=\"398\" y=\"234.4424\">capacityActual: BatteryCapacity</text><text fill=\"#000000\" font-family=\"sans-serif\" font-size=\"11\" lengthAdjust=\"spacingAndGlyphs\" textLength=\"167\" x=\"398\" y=\"248.2783\">capacityRequired: BatteryCapacity</text><line style=\"stroke: #383838; stroke-width: 1.0;\" x1=\"393\" x2=\"491.5\" y1=\"216.1055\" y2=\"216.1055\"/><text fill=\"#000000\" font-family=\"sans-serif\" font-size=\"11\" lengthAdjust=\"spacingAndGlyphs\" textLength=\"45\" x=\"491.5\" y=\"220.1064\">attributes</text><line style=\"stroke: #383838; stroke-width: 1.0;\" x1=\"536.5\" x2=\"635\" y1=\"216.1055\" y2=\"216.1055\"/><text fill=\"#000000\" font-family=\"sans-serif\" font-size=\"11\" font-weight=\"bold\" lengthAdjust=\"spacingAndGlyphs\" textLength=\"41\" x=\"398\" y=\"279.9502\">require</text><text fill=\"#000000\" font-family=\"sans-serif\" font-size=\"11\" lengthAdjust=\"spacingAndGlyphs\" textLength=\"188\" x=\"442\" y=\"279.9502\">{ capacityActual &lt;= capacityRequired }</text><line style=\"stroke: #383838; stroke-width: 1.0;\" x1=\"393\" x2=\"487\" y1=\"261.6133\" y2=\"261.6133\"/><text fill=\"#000000\" font-family=\"sans-serif\" font-size=\"11\" lengthAdjust=\"spacingAndGlyphs\" textLength=\"54\" x=\"487\" y=\"265.6143\">constraints</text><line style=\"stroke: #383838; stroke-width: 1.0;\" x1=\"541\" x2=\"635\" y1=\"261.6133\" y2=\"261.6133\"/></a><!--MD5=[60a26617385b1d2d0262a64233df1f8d]\n",
       "class E6--><a href=\"psysml:4bc9fd36-5294-4385-9483-ae9e7fa626c5\" target=\"_top\" title=\"psysml:4bc9fd36-5294-4385-9483-ae9e7fa626c5\" xlink:actuate=\"onRequest\" xlink:href=\"psysml:4bc9fd36-5294-4385-9483-ae9e7fa626c5\" xlink:show=\"new\" xlink:title=\"psysml:4bc9fd36-5294-4385-9483-ae9e7fa626c5\" xlink:type=\"simple\"><rect fill=\"#FFFFFF\" height=\"125.3672\" id=\"E6\" style=\"stroke: #383838; stroke-width: 1.5;\" width=\"269\" x=\"41.5\" y=\"161\"/><text fill=\"#000000\" font-family=\"sans-serif\" font-size=\"12\" font-style=\"italic\" lengthAdjust=\"spacingAndGlyphs\" textLength=\"104\" x=\"124\" y=\"178.457\">«requirement  def»</text><text fill=\"#000000\" font-family=\"sans-serif\" font-size=\"12\" lengthAdjust=\"spacingAndGlyphs\" textLength=\"99\" x=\"126.5\" y=\"193.5508\">MaxSpeedReqDef</text><line style=\"stroke: #383838; stroke-width: 1.5;\" x1=\"42.5\" x2=\"309.5\" y1=\"201.1875\" y2=\"201.1875\"/><text fill=\"#000000\" font-family=\"sans-serif\" font-size=\"11\" lengthAdjust=\"spacingAndGlyphs\" textLength=\"131\" x=\"47.5\" y=\"234.4424\">maxSpeedRequired: Speed</text><text fill=\"#000000\" font-family=\"sans-serif\" font-size=\"11\" lengthAdjust=\"spacingAndGlyphs\" textLength=\"124\" x=\"47.5\" y=\"248.2783\">maxSpeedVehicle: Speed</text><line style=\"stroke: #383838; stroke-width: 1.0;\" x1=\"42.5\" x2=\"153.5\" y1=\"216.1055\" y2=\"216.1055\"/><text fill=\"#000000\" font-family=\"sans-serif\" font-size=\"11\" lengthAdjust=\"spacingAndGlyphs\" textLength=\"45\" x=\"153.5\" y=\"220.1064\">attributes</text><line style=\"stroke: #383838; stroke-width: 1.0;\" x1=\"198.5\" x2=\"309.5\" y1=\"216.1055\" y2=\"216.1055\"/><text fill=\"#000000\" font-family=\"sans-serif\" font-size=\"11\" font-weight=\"bold\" lengthAdjust=\"spacingAndGlyphs\" textLength=\"41\" x=\"47.5\" y=\"279.9502\">require</text><text fill=\"#000000\" font-family=\"sans-serif\" font-size=\"11\" lengthAdjust=\"spacingAndGlyphs\" textLength=\"213\" x=\"91.5\" y=\"279.9502\">{ maxSpeedVehicle &lt;= maxSpeedRequired }</text><line style=\"stroke: #383838; stroke-width: 1.0;\" x1=\"42.5\" x2=\"149\" y1=\"261.6133\" y2=\"261.6133\"/><text fill=\"#000000\" font-family=\"sans-serif\" font-size=\"11\" lengthAdjust=\"spacingAndGlyphs\" textLength=\"54\" x=\"149\" y=\"265.6143\">constraints</text><line style=\"stroke: #383838; stroke-width: 1.0;\" x1=\"203\" x2=\"309.5\" y1=\"261.6133\" y2=\"261.6133\"/></a><path d=\"M355.5,42 L355.5,101.0547 A0,0 0 0 0 355.5,101.0547 L510,101.0547 L514,160.81 L518,101.0547 L672.5,101.0547 A0,0 0 0 0 672.5,101.0547 L672.5,52 L662.5,42 L355.5,42 A0,0 0 0 0 355.5,42 \" fill=\"#ECECEC\" style=\"stroke: #383838; stroke-width: 1.0;\"/><path d=\"M662.5,42 L662.5,52 L672.5,52 L662.5,42 \" fill=\"#ECECEC\" style=\"stroke: #383838; stroke-width: 1.0;\"/><a href=\"psysml:771caed4-37d4-4595-9a46-4ead87f824dd\" target=\"_top\" title=\"psysml:771caed4-37d4-4595-9a46-4ead87f824dd\" xlink:actuate=\"onRequest\" xlink:href=\"psysml:771caed4-37d4-4595-9a46-4ead87f824dd\" xlink:show=\"new\" xlink:title=\"psysml:771caed4-37d4-4595-9a46-4ead87f824dd\" xlink:type=\"simple\"><text fill=\"#1C1C1C\" font-family=\"sans-serif\" font-size=\"13\" lengthAdjust=\"spacingAndGlyphs\" text-decoration=\"underline\" textLength=\"13\" x=\"361.5\" y=\"60.4951\">@</text></a><text fill=\"#000000\" font-family=\"sans-serif\" font-size=\"13\" lengthAdjust=\"spacingAndGlyphs\" textLength=\"279\" x=\"374.5\" y=\"60.4951\">The actual battery capacity shall be greater than</text><text fill=\"#000000\" font-family=\"sans-serif\" font-size=\"13\" lengthAdjust=\"spacingAndGlyphs\" textLength=\"46\" x=\"361.5\" y=\"76.8467\">or equal</text><text fill=\"#000000\" font-family=\"sans-serif\" font-size=\"13\" lengthAdjust=\"spacingAndGlyphs\" textLength=\"140\" x=\"361.5\" y=\"93.1982\">to the required capacity.</text><path d=\"M32,50 L32,92.7031 A0,0 0 0 0 32,92.7031 L172,92.7031 L176,160.77 L180,92.7031 L320,92.7031 A0,0 0 0 0 320,92.7031 L320,60 L310,50 L32,50 A0,0 0 0 0 32,50 \" fill=\"#ECECEC\" style=\"stroke: #383838; stroke-width: 1.0;\"/><path d=\"M310,50 L310,60 L320,60 L310,50 \" fill=\"#ECECEC\" style=\"stroke: #383838; stroke-width: 1.0;\"/><a href=\"psysml:87aad083-fb16-4b0e-a987-142fe12c4485\" target=\"_top\" title=\"psysml:87aad083-fb16-4b0e-a987-142fe12c4485\" xlink:actuate=\"onRequest\" xlink:href=\"psysml:87aad083-fb16-4b0e-a987-142fe12c4485\" xlink:show=\"new\" xlink:title=\"psysml:87aad083-fb16-4b0e-a987-142fe12c4485\" xlink:type=\"simple\"><text fill=\"#1C1C1C\" font-family=\"sans-serif\" font-size=\"13\" lengthAdjust=\"spacingAndGlyphs\" text-decoration=\"underline\" textLength=\"13\" x=\"38\" y=\"68.4951\">@</text></a><text fill=\"#000000\" font-family=\"sans-serif\" font-size=\"13\" lengthAdjust=\"spacingAndGlyphs\" textLength=\"249\" x=\"51\" y=\"68.4951\">The maximum speed of the vehicle shall be</text><text fill=\"#000000\" font-family=\"sans-serif\" font-size=\"13\" lengthAdjust=\"spacingAndGlyphs\" textLength=\"267\" x=\"38\" y=\"84.8467\">not greater than the required maximum speed.</text><!--MD5=[5a2fa35deb16c4a044d7916dd8e03e42]\n",
       "@startuml\r\n",
       "skinparam monochrome true\r\n",
       "skinparam classbackgroundcolor white\r\n",
       "skinparam shadowing false\r\n",
       "skinparam wrapWidth 300\r\n",
       "hide circle\r\n",
       "\r\n",
       "package \"eVehicleRequirementDefinitions\" as E1  [[psysml:d3829427-40d7-44f1-8849-d87722d7bbc4 ]]  {\r\n",
       "comp def \"BatteryCapacity\" as E2  <<(T,blue) attribute  def>> [[psysml:6b8f586b-738b-48f7-b7de-86c3a87ba434 ]] {\r\n",
       "}\r\n",
       "comp def \"Speed\" as E3  <<(T,blue) attribute  def>> [[psysml:0cb282af-304e-4650-8b6c-c245c42f898e ]] {\r\n",
       "}\r\n",
       "comp def \"BatteryCapacityReqDef\" as E4  <<(T,blue) requirement  def>> [[psysml:e1413a26-bf91-43c4-b621-dd856d876bfd ]] {\r\n",
       "- - attributes - -\r\n",
       "capacityActual: BatteryCapacity\r\n",
       "capacityRequired: BatteryCapacity\r\n",
       "- - constraints - -\r\n",
       "<b>require</b> { capacityActual <= capacityRequired }\r\n",
       "}\r\n",
       "comp def \"MaxSpeedReqDef\" as E6  <<(T,blue) requirement  def>> [[psysml:4bc9fd36-5294-4385-9483-ae9e7fa626c5 ]] {\r\n",
       "- - attributes - -\r\n",
       "maxSpeedRequired: Speed\r\n",
       "maxSpeedVehicle: Speed\r\n",
       "- - constraints - -\r\n",
       "<b>require</b> { maxSpeedVehicle <= maxSpeedRequired }\r\n",
       "}\r\n",
       "note as E5\r\n",
       "[[psysml:771caed4-37d4-4595-9a46-4ead87f824dd @]]The actual battery capacity shall be greater than or equal\r\n",
       "to the required capacity.\r\n",
       "end note \r\n",
       "note as E7\r\n",
       "[[psysml:87aad083-fb16-4b0e-a987-142fe12c4485 @]]The maximum speed of the vehicle shall be\r\n",
       "not greater than the required maximum speed.\r\n",
       "end note \r\n",
       "}\r\n",
       "E5 .. E4 [[psysml:771caed4-37d4-4595-9a46-4ead87f824dd ]] \r\n",
       "E7 .. E6 [[psysml:87aad083-fb16-4b0e-a987-142fe12c4485 ]] \r\n",
       "@enduml\r\n",
       "\n",
       "PlantUML version 1.2020.13(Sat Jun 13 14:26:38 CEST 2020)\n",
       "(EPL source distribution)\n",
       "Java Runtime: OpenJDK Runtime Environment\n",
       "JVM: OpenJDK 64-Bit Server VM\n",
       "Default Encoding: Cp1252\n",
       "Language: en\n",
       "Country: US\n",
       "--></g></svg>"
      ]
     },
     "execution_count": 52,
     "metadata": {},
     "output_type": "execute_result"
    }
   ],
   "source": [
    "%viz eVehicleRequirementDefinitions"
   ]
  },
  {
   "cell_type": "markdown",
   "metadata": {},
   "source": [
    "The definition of a requirement provides a reusable structure. Next, the requirement definition *BatteryCapacityRequirementDef* is used to specify a concrete requirement for the *eVehicle*. The requirement *REQ.B.1* redefines the requirement attribute *capacityRequired* with a concrete value.\n",
    "\n",
    "It is possible to define requirement groups to manage a large set of requirements by defining that a requirement requires other requirements. **Do not forget to run the eVehicleRequirementDefinitions and eVehicle_LogicalArchitecture cells above.**"
   ]
  },
  {
   "cell_type": "code",
   "execution_count": 62,
   "metadata": {},
   "outputs": [
    {
     "data": {
      "text/plain": [
       "Package eVehicleRequirements (11c0991f-9cf7-4001-b0aa-510962adcd30)\n"
      ]
     },
     "execution_count": 62,
     "metadata": {},
     "output_type": "execute_result"
    }
   ],
   "source": [
    "package eVehicleRequirements {\n",
    "    \n",
    "    import eVehicleRequirementDefinitions::*;\n",
    "    import eVehicle_LogicalArchitecture::*;\n",
    "    \n",
    "    requirement eVehicleSpecification {\n",
    "        doc /* Requirement Specification of the eVehicle  */\n",
    "\n",
    "        require eVehicleBatteryCapacity;\n",
    "        require eVehicleMaxSpeed;\n",
    "    }\n",
    "    \n",
    "    requirement <'REQ.B.1'> eVehicleBatteryCapacity : BatteryCapacityReqDef {\n",
    "        attribute :>> capacityRequired = 50;\n",
    "        attribute :>> capacityActual = eVehicle.battery.capacity;\n",
    "    }\n",
    "    \n",
    "    requirement <'REQ.V.1'> eVehicleMaxSpeed : MaxSpeedReqDef {\n",
    "        attribute :>> maxSpeedRequired = 140;\n",
    "        attribute :>> maxSpeedVehicle = eVehicle.maxSpeed;\n",
    "    }\n",
    "}"
   ]
  },
  {
   "cell_type": "code",
   "execution_count": 63,
   "metadata": {},
   "outputs": [
    {
     "data": {
      "image/svg+xml": [
       "<?xml version=\"1.0\" encoding=\"UTF-8\" standalone=\"no\"?><svg xmlns=\"http://www.w3.org/2000/svg\" xmlns:xlink=\"http://www.w3.org/1999/xlink\" contentScriptType=\"application/ecmascript\" contentStyleType=\"text/css\" height=\"345px\" preserveAspectRatio=\"none\" style=\"width:1036px;height:345px;\" version=\"1.1\" viewBox=\"0 0 1036 345\" width=\"1036px\" zoomAndPan=\"magnify\"><defs/><g><!--MD5=[fbc87193dbaf4d95561dea2c320d4a47]\n",
       "cluster E1--><a href=\"psysml:11c0991f-9cf7-4001-b0aa-510962adcd30\" target=\"_top\" title=\"psysml:11c0991f-9cf7-4001-b0aa-510962adcd30\" xlink:actuate=\"onRequest\" xlink:href=\"psysml:11c0991f-9cf7-4001-b0aa-510962adcd30\" xlink:show=\"new\" xlink:title=\"psysml:11c0991f-9cf7-4001-b0aa-510962adcd30\" xlink:type=\"simple\"><polygon fill=\"#FFFFFF\" points=\"16,6,182,6,189,29.6094,1014,29.6094,1014,333,16,333,16,6\" style=\"stroke: #000000; stroke-width: 1.5;\"/><line style=\"stroke: #000000; stroke-width: 1.5;\" x1=\"16\" x2=\"189\" y1=\"29.6094\" y2=\"29.6094\"/><text fill=\"#000000\" font-family=\"sans-serif\" font-size=\"14\" font-weight=\"bold\" lengthAdjust=\"spacingAndGlyphs\" textLength=\"160\" x=\"20\" y=\"22.5332\">eVehicleRequirements</text></a><!--MD5=[b4997ac47864f28c2f74865a473b2911]\n",
       "class E2--><a href=\"psysml:ce335492-c8f2-47b3-87b1-19ac05368328\" target=\"_top\" title=\"psysml:ce335492-c8f2-47b3-87b1-19ac05368328\" xlink:actuate=\"onRequest\" xlink:href=\"psysml:ce335492-c8f2-47b3-87b1-19ac05368328\" xlink:show=\"new\" xlink:title=\"psysml:ce335492-c8f2-47b3-87b1-19ac05368328\" xlink:type=\"simple\"><rect fill=\"#FFFFFF\" height=\"93.6953\" id=\"E2\" rx=\"10\" ry=\"10\" style=\"stroke: #383838; stroke-width: 1.5;\" width=\"175\" x=\"82.5\" y=\"223\"/><text fill=\"#000000\" font-family=\"sans-serif\" font-size=\"12\" font-style=\"italic\" lengthAdjust=\"spacingAndGlyphs\" textLength=\"81\" x=\"129.5\" y=\"240.457\">«requirement»</text><text fill=\"#000000\" font-family=\"sans-serif\" font-size=\"12\" lengthAdjust=\"spacingAndGlyphs\" textLength=\"117\" x=\"110\" y=\"255.5508\">eVehicleSpecification</text><line style=\"stroke: #383838; stroke-width: 1.5;\" x1=\"83.5\" x2=\"256.5\" y1=\"263.1875\" y2=\"263.1875\"/><text fill=\"#000000\" font-family=\"sans-serif\" font-size=\"11\" font-weight=\"bold\" lengthAdjust=\"spacingAndGlyphs\" textLength=\"41\" x=\"88.5\" y=\"296.4424\">require</text><text fill=\"#000000\" font-family=\"sans-serif\" font-size=\"11\" lengthAdjust=\"spacingAndGlyphs\" textLength=\"119\" x=\"132.5\" y=\"296.4424\">eVehicleBatteryCapacity</text><text fill=\"#000000\" font-family=\"sans-serif\" font-size=\"11\" font-weight=\"bold\" lengthAdjust=\"spacingAndGlyphs\" textLength=\"41\" x=\"88.5\" y=\"310.2783\">require</text><text fill=\"#000000\" font-family=\"sans-serif\" font-size=\"11\" lengthAdjust=\"spacingAndGlyphs\" textLength=\"93\" x=\"132.5\" y=\"310.2783\">eVehicleMaxSpeed</text><line style=\"stroke: #383838; stroke-width: 1.0;\" x1=\"83.5\" x2=\"143\" y1=\"278.1055\" y2=\"278.1055\"/><text fill=\"#000000\" font-family=\"sans-serif\" font-size=\"11\" lengthAdjust=\"spacingAndGlyphs\" textLength=\"54\" x=\"143\" y=\"282.1064\">constraints</text><line style=\"stroke: #383838; stroke-width: 1.0;\" x1=\"197\" x2=\"256.5\" y1=\"278.1055\" y2=\"278.1055\"/></a><!--MD5=[ebbe1d658d1005bcc118a6aa81145e00]\n",
       "class E4--><a href=\"psysml:191fad55-0e40-44bb-ac6f-f5bb165aae01\" target=\"_top\" title=\"psysml:191fad55-0e40-44bb-ac6f-f5bb165aae01\" xlink:actuate=\"onRequest\" xlink:href=\"psysml:191fad55-0e40-44bb-ac6f-f5bb165aae01\" xlink:show=\"new\" xlink:title=\"psysml:191fad55-0e40-44bb-ac6f-f5bb165aae01\" xlink:type=\"simple\"><rect fill=\"#FFFFFF\" height=\"121.3672\" id=\"E4\" rx=\"10\" ry=\"10\" style=\"stroke: #383838; stroke-width: 1.5;\" width=\"337\" x=\"660.5\" y=\"42\"/><text fill=\"#000000\" font-family=\"sans-serif\" font-size=\"12\" font-style=\"italic\" lengthAdjust=\"spacingAndGlyphs\" textLength=\"81\" x=\"788.5\" y=\"59.457\">«requirement»</text><text fill=\"#000000\" font-family=\"sans-serif\" font-size=\"12\" lengthAdjust=\"spacingAndGlyphs\" textLength=\"0\" x=\"666.5\" y=\"74.5508\"/><text fill=\"#000000\" font-family=\"sans-serif\" font-size=\"12\" font-weight=\"bold\" lengthAdjust=\"spacingAndGlyphs\" textLength=\"59\" x=\"666.5\" y=\"74.5508\">&lt;REQ.B.1&gt;</text><text fill=\"#000000\" font-family=\"sans-serif\" font-size=\"12\" lengthAdjust=\"spacingAndGlyphs\" textLength=\"263\" x=\"728.5\" y=\"74.5508\">eVehicleBatteryCapacity: BatteryCapacityReqDef</text><line style=\"stroke: #383838; stroke-width: 1.5;\" x1=\"661.5\" x2=\"996.5\" y1=\"82.1875\" y2=\"82.1875\"/><text fill=\"#000000\" font-family=\"sans-serif\" font-size=\"11\" lengthAdjust=\"spacingAndGlyphs\" textLength=\"108\" x=\"666.5\" y=\"115.4424\">capacityRequired= 50;</text><text fill=\"#000000\" font-family=\"sans-serif\" font-size=\"11\" font-style=\"italic\" lengthAdjust=\"spacingAndGlyphs\" textLength=\"221\" x=\"666.5\" y=\"129.2783\">:&gt;&gt;BatteryCapacityReqDef::capacityRequired</text><text fill=\"#000000\" font-family=\"sans-serif\" font-size=\"11\" lengthAdjust=\"spacingAndGlyphs\" textLength=\"207\" x=\"666.5\" y=\"143.1143\">capacityActual= eVehicle.battery.capacity;</text><text fill=\"#000000\" font-family=\"sans-serif\" font-size=\"11\" font-style=\"italic\" lengthAdjust=\"spacingAndGlyphs\" textLength=\"207\" x=\"666.5\" y=\"156.9502\">:&gt;&gt;BatteryCapacityReqDef::capacityActual</text><line style=\"stroke: #383838; stroke-width: 1.0;\" x1=\"661.5\" x2=\"806.5\" y1=\"97.1055\" y2=\"97.1055\"/><text fill=\"#000000\" font-family=\"sans-serif\" font-size=\"11\" lengthAdjust=\"spacingAndGlyphs\" textLength=\"45\" x=\"806.5\" y=\"101.1064\">attributes</text><line style=\"stroke: #383838; stroke-width: 1.0;\" x1=\"851.5\" x2=\"996.5\" y1=\"97.1055\" y2=\"97.1055\"/></a><!--MD5=[270fce915f116d4de14055a7c1d9a0f3]\n",
       "class E5--><a href=\"psysml:ac6ec1e8-c7ab-446c-aa21-dcb42db179f3\" target=\"_top\" title=\"psysml:ac6ec1e8-c7ab-446c-aa21-dcb42db179f3\" xlink:actuate=\"onRequest\" xlink:href=\"psysml:ac6ec1e8-c7ab-446c-aa21-dcb42db179f3\" xlink:show=\"new\" xlink:title=\"psysml:ac6ec1e8-c7ab-446c-aa21-dcb42db179f3\" xlink:type=\"simple\"><rect fill=\"#FFFFFF\" height=\"121.3672\" id=\"E5\" rx=\"10\" ry=\"10\" style=\"stroke: #383838; stroke-width: 1.5;\" width=\"283\" x=\"342.5\" y=\"42\"/><text fill=\"#000000\" font-family=\"sans-serif\" font-size=\"12\" font-style=\"italic\" lengthAdjust=\"spacingAndGlyphs\" textLength=\"81\" x=\"443.5\" y=\"59.457\">«requirement»</text><text fill=\"#000000\" font-family=\"sans-serif\" font-size=\"12\" lengthAdjust=\"spacingAndGlyphs\" textLength=\"0\" x=\"348.5\" y=\"74.5508\"/><text fill=\"#000000\" font-family=\"sans-serif\" font-size=\"12\" font-weight=\"bold\" lengthAdjust=\"spacingAndGlyphs\" textLength=\"59\" x=\"348.5\" y=\"74.5508\">&lt;REQ.V.1&gt;</text><text fill=\"#000000\" font-family=\"sans-serif\" font-size=\"12\" lengthAdjust=\"spacingAndGlyphs\" textLength=\"209\" x=\"410.5\" y=\"74.5508\">eVehicleMaxSpeed: MaxSpeedReqDef</text><line style=\"stroke: #383838; stroke-width: 1.5;\" x1=\"343.5\" x2=\"624.5\" y1=\"82.1875\" y2=\"82.1875\"/><text fill=\"#000000\" font-family=\"sans-serif\" font-size=\"11\" lengthAdjust=\"spacingAndGlyphs\" textLength=\"124\" x=\"348.5\" y=\"115.4424\">maxSpeedRequired= 140;</text><text fill=\"#000000\" font-family=\"sans-serif\" font-size=\"11\" font-style=\"italic\" lengthAdjust=\"spacingAndGlyphs\" textLength=\"207\" x=\"348.5\" y=\"129.2783\">:&gt;&gt;MaxSpeedReqDef::maxSpeedRequired</text><text fill=\"#000000\" font-family=\"sans-serif\" font-size=\"11\" lengthAdjust=\"spacingAndGlyphs\" textLength=\"195\" x=\"348.5\" y=\"143.1143\">maxSpeedVehicle= eVehicle.maxSpeed;</text><text fill=\"#000000\" font-family=\"sans-serif\" font-size=\"11\" font-style=\"italic\" lengthAdjust=\"spacingAndGlyphs\" textLength=\"199\" x=\"348.5\" y=\"156.9502\">:&gt;&gt;MaxSpeedReqDef::maxSpeedVehicle</text><line style=\"stroke: #383838; stroke-width: 1.0;\" x1=\"343.5\" x2=\"461.5\" y1=\"97.1055\" y2=\"97.1055\"/><text fill=\"#000000\" font-family=\"sans-serif\" font-size=\"11\" lengthAdjust=\"spacingAndGlyphs\" textLength=\"45\" x=\"461.5\" y=\"101.1064\">attributes</text><line style=\"stroke: #383838; stroke-width: 1.0;\" x1=\"506.5\" x2=\"624.5\" y1=\"97.1055\" y2=\"97.1055\"/></a><path d=\"M32.5,89.5 L32.5,115.8516 A0,0 0 0 0 32.5,115.8516 L166,115.8516 L170,222.69 L174,115.8516 L307.5,115.8516 A0,0 0 0 0 307.5,115.8516 L307.5,99.5 L297.5,89.5 L32.5,89.5 A0,0 0 0 0 32.5,89.5 \" fill=\"#ECECEC\" style=\"stroke: #383838; stroke-width: 1.0;\"/><path d=\"M297.5,89.5 L297.5,99.5 L307.5,99.5 L297.5,89.5 \" fill=\"#ECECEC\" style=\"stroke: #383838; stroke-width: 1.0;\"/><a href=\"psysml:ba5c0e94-90f7-4366-b6ec-6f193de534f7\" target=\"_top\" title=\"psysml:ba5c0e94-90f7-4366-b6ec-6f193de534f7\" xlink:actuate=\"onRequest\" xlink:href=\"psysml:ba5c0e94-90f7-4366-b6ec-6f193de534f7\" xlink:show=\"new\" xlink:title=\"psysml:ba5c0e94-90f7-4366-b6ec-6f193de534f7\" xlink:type=\"simple\"><text fill=\"#1C1C1C\" font-family=\"sans-serif\" font-size=\"13\" lengthAdjust=\"spacingAndGlyphs\" text-decoration=\"underline\" textLength=\"13\" x=\"38.5\" y=\"107.9951\">@</text></a><text fill=\"#000000\" font-family=\"sans-serif\" font-size=\"13\" lengthAdjust=\"spacingAndGlyphs\" textLength=\"241\" x=\"51.5\" y=\"107.9951\">Requirement Specification of the eVehicle</text><!--MD5=[ff455ed660810b0cb7d1114bd35ac0fe]\n",
       "@startuml\r\n",
       "skinparam monochrome true\r\n",
       "skinparam classbackgroundcolor white\r\n",
       "skinparam shadowing false\r\n",
       "skinparam wrapWidth 300\r\n",
       "hide circle\r\n",
       "\r\n",
       "package \"eVehicleRequirements\" as E1  [[psysml:11c0991f-9cf7-4001-b0aa-510962adcd30 ]]  {\r\n",
       "comp usage \"eVehicleSpecification \" as E2  <<(T,blue) requirement>> [[psysml:ce335492-c8f2-47b3-87b1-19ac05368328 ]] {\r\n",
       "- - constraints - -\r\n",
       "<b>require</b> eVehicleBatteryCapacity\r\n",
       "<b>require</b> eVehicleMaxSpeed\r\n",
       "}\r\n",
       "comp usage \" <b>~<REQ.B.1></b> eVehicleBatteryCapacity: BatteryCapacityReqDef \" as E4  <<(T,blue) requirement>> [[psysml:191fad55-0e40-44bb-ac6f-f5bb165aae01 ]] {\r\n",
       "- - attributes - -\r\n",
       "capacityRequired= 50; \\n//:>>BatteryCapacityReqDef::capacityRequired// \r\n",
       "capacityActual= eVehicle.battery.capacity; \\n//:>>BatteryCapacityReqDef::capacityActual// \r\n",
       "}\r\n",
       "comp usage \" <b>~<REQ.V.1></b> eVehicleMaxSpeed: MaxSpeedReqDef \" as E5  <<(T,blue) requirement>> [[psysml:ac6ec1e8-c7ab-446c-aa21-dcb42db179f3 ]] {\r\n",
       "- - attributes - -\r\n",
       "maxSpeedRequired= 140; \\n//:>>MaxSpeedReqDef::maxSpeedRequired// \r\n",
       "maxSpeedVehicle= eVehicle.maxSpeed; \\n//:>>MaxSpeedReqDef::maxSpeedVehicle// \r\n",
       "}\r\n",
       "note as E3\r\n",
       "[[psysml:ba5c0e94-90f7-4366-b6ec-6f193de534f7 @]]Requirement Specification of the eVehicle\r\n",
       "end note \r\n",
       "}\r\n",
       "E3 .. E2 [[psysml:ba5c0e94-90f7-4366-b6ec-6f193de534f7 ]] \r\n",
       "@enduml\r\n",
       "\n",
       "PlantUML version 1.2020.13(Sat Jun 13 14:26:38 CEST 2020)\n",
       "(EPL source distribution)\n",
       "Java Runtime: OpenJDK Runtime Environment\n",
       "JVM: OpenJDK 64-Bit Server VM\n",
       "Default Encoding: Cp1252\n",
       "Language: en\n",
       "Country: US\n",
       "--></g></svg>"
      ]
     },
     "execution_count": 63,
     "metadata": {},
     "output_type": "execute_result"
    }
   ],
   "source": [
    "%viz eVehicleRequirements"
   ]
  },
  {
   "cell_type": "markdown",
   "metadata": {},
   "source": [
    "Finally, we model that the eVehicle satisfies the requirement."
   ]
  },
  {
   "cell_type": "code",
   "execution_count": 65,
   "metadata": {},
   "outputs": [
    {
     "data": {
      "text/plain": [
       "Package eVehicle_LogicalArchitecture (e28fcc81-b766-45bc-a808-3e37b5e1eb2b)\n"
      ]
     },
     "execution_count": 65,
     "metadata": {},
     "output_type": "execute_result"
    }
   ],
   "source": [
    "package eVehicle_LogicalArchitecture {\n",
    "    \n",
    "    import eVehicleLibrary::*;\n",
    "    import eVehicleRequirements::*;\n",
    "    import eVehicle_LogicalArchitecture::*;\n",
    "    \n",
    "    satisfy eVehicleSpecification by eVehicle;\n",
    "}"
   ]
  }
 ],
 "metadata": {
  "kernelspec": {
   "display_name": "SysML",
   "language": "sysml",
   "name": "sysml"
  },
  "language_info": {
   "codemirror_mode": "sysml",
   "file_extension": ".sysml",
   "mimetype": "text/x-sysml",
   "name": "SysML",
   "pygments_lexer": "java",
   "version": "1.0.0"
  }
 },
 "nbformat": 4,
 "nbformat_minor": 4
}

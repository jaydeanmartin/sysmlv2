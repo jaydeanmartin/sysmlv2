{
 "cells": [
  {
   "cell_type": "markdown",
   "metadata": {},
   "source": [
    "You can use this notebook to start your lab experiences.\n",
    "\n",
    "1. Right click on the file name on the left and select *Duplicate*.\n",
    "2. Again right click and rename it to whatever you like.\n",
    "3. Start editing and exploring."
   ]
  },
  {
   "cell_type": "code",
   "execution_count": 1,
   "metadata": {},
   "outputs": [
    {
     "data": {
      "text/plain": [
       "Package MyFirstSysMLv2Model (af857f85-d90b-42c6-9b95-4f6f6277924d)\n"
      ]
     },
     "execution_count": 1,
     "metadata": {},
     "output_type": "execute_result"
    }
   ],
   "source": [
    "package MyFirstSysMLv2Model {\n",
    "    part MySystem {\n",
    "        part partA;\n",
    "        part partB;\n",
    "        \n",
    "        connect partA to partB;\n",
    "    }\n",
    "}"
   ]
  },
  {
   "cell_type": "code",
   "execution_count": 3,
   "metadata": {},
   "outputs": [
    {
     "data": {
      "image/svg+xml": [
       "<?xml version=\"1.0\" encoding=\"UTF-8\" standalone=\"no\"?><svg xmlns=\"http://www.w3.org/2000/svg\" xmlns:xlink=\"http://www.w3.org/1999/xlink\" contentScriptType=\"application/ecmascript\" contentStyleType=\"text/css\" height=\"226px\" preserveAspectRatio=\"none\" style=\"width:231px;height:226px;\" version=\"1.1\" viewBox=\"0 0 231 226\" width=\"231px\" zoomAndPan=\"magnify\"><defs/><g><!--MD5=[fbc87193dbaf4d95561dea2c320d4a47]\n",
       "cluster E1--><polygon fill=\"#FFFFFF\" points=\"16,6,180,6,187,29.6094,209,29.6094,209,214,16,214,16,6\" style=\"stroke: #000000; stroke-width: 1.5;\"/><line style=\"stroke: #000000; stroke-width: 1.5;\" x1=\"16\" x2=\"187\" y1=\"29.6094\" y2=\"29.6094\"/><text fill=\"#000000\" font-family=\"sans-serif\" font-size=\"14\" font-weight=\"bold\" lengthAdjust=\"spacingAndGlyphs\" textLength=\"158\" x=\"20\" y=\"22.5332\">MyFirstSysMLv2Model</text><!--MD5=[b4997ac47864f28c2f74865a473b2911]\n",
       "class E2--><rect fill=\"#FFFFFF\" height=\"48.1875\" id=\"E2\" rx=\"10\" ry=\"10\" style=\"stroke: #383838; stroke-width: 1.5;\" width=\"89\" x=\"67.5\" y=\"42\"/><text fill=\"#000000\" font-family=\"sans-serif\" font-size=\"12\" font-style=\"italic\" lengthAdjust=\"spacingAndGlyphs\" textLength=\"35\" x=\"94.5\" y=\"59.457\">«part»</text><text fill=\"#000000\" font-family=\"sans-serif\" font-size=\"12\" lengthAdjust=\"spacingAndGlyphs\" textLength=\"83\" x=\"70.5\" y=\"74.5508\">MySystem: Part</text><line style=\"stroke: #383838; stroke-width: 1.5;\" x1=\"68.5\" x2=\"155.5\" y1=\"82.1875\" y2=\"82.1875\"/><!--MD5=[09b614a08d8cba4a07c9adeb5e0fee81]\n",
       "class E3--><rect fill=\"#FFFFFF\" height=\"48.1875\" id=\"E3\" rx=\"10\" ry=\"10\" style=\"stroke: #383838; stroke-width: 1.5;\" width=\"62\" x=\"32\" y=\"150\"/><text fill=\"#000000\" font-family=\"sans-serif\" font-size=\"12\" font-style=\"italic\" lengthAdjust=\"spacingAndGlyphs\" textLength=\"35\" x=\"45.5\" y=\"167.457\">«part»</text><text fill=\"#000000\" font-family=\"sans-serif\" font-size=\"12\" lengthAdjust=\"spacingAndGlyphs\" textLength=\"56\" x=\"35\" y=\"182.5508\">partA: Part</text><line style=\"stroke: #383838; stroke-width: 1.5;\" x1=\"33\" x2=\"93\" y1=\"190.1875\" y2=\"190.1875\"/><!--MD5=[ebbe1d658d1005bcc118a6aa81145e00]\n",
       "class E4--><rect fill=\"#FFFFFF\" height=\"48.1875\" id=\"E4\" rx=\"10\" ry=\"10\" style=\"stroke: #383838; stroke-width: 1.5;\" width=\"63\" x=\"129.5\" y=\"150\"/><text fill=\"#000000\" font-family=\"sans-serif\" font-size=\"12\" font-style=\"italic\" lengthAdjust=\"spacingAndGlyphs\" textLength=\"35\" x=\"143.5\" y=\"167.457\">«part»</text><text fill=\"#000000\" font-family=\"sans-serif\" font-size=\"12\" lengthAdjust=\"spacingAndGlyphs\" textLength=\"57\" x=\"132.5\" y=\"182.5508\">partB: Part</text><line style=\"stroke: #383838; stroke-width: 1.5;\" x1=\"130.5\" x2=\"191.5\" y1=\"190.1875\" y2=\"190.1875\"/><!--MD5=[209b3feb70ccb6233bfe1053d122c12c]\n",
       "reverse link E2 to E3--><path d=\"M95.8507,101.935 C88.6042,117.611 80.2506,135.6823 73.7807,149.6784 \" fill=\"none\" id=\"E2&lt;-E3\" style=\"stroke: #383838; stroke-width: 1.0;\"/><polygon fill=\"#383838\" points=\"101.368,90,95.2193,93.7675,96.3321,100.8922,102.4808,97.1247,101.368,90\" style=\"stroke: #383838; stroke-width: 1.0;\"/><!--MD5=[9618e71518536f8baf3342ff6fdab317]\n",
       "reverse link E2 to E4--><path d=\"M128.149,101.935 C135.396,117.611 143.749,135.6823 150.219,149.6784 \" fill=\"none\" id=\"E2&lt;-E4\" style=\"stroke: #383838; stroke-width: 1.0;\"/><polygon fill=\"#383838\" points=\"122.632,90,121.5193,97.1247,127.668,100.8922,128.7807,93.7674,122.632,90\" style=\"stroke: #383838; stroke-width: 1.0;\"/><!--MD5=[45e1528a885d24195b56e7a5764f479a]\n",
       "@startuml\r\n",
       "skinparam monochrome true\r\n",
       "skinparam classbackgroundcolor white\r\n",
       "skinparam shadowing false\r\n",
       "skinparam wrapWidth 300\r\n",
       "hide circle\r\n",
       "\r\n",
       "package \"MyFirstSysMLv2Model\" as E1   {\r\n",
       "comp usage \"MySystem: Part\" as E2  <<(T,blue)part>> {\r\n",
       "}\r\n",
       "comp usage \"partA: Part\" as E3  <<(T,blue)part>> {\r\n",
       "}\r\n",
       "comp usage \"partB: Part\" as E4  <<(T,blue)part>> {\r\n",
       "}\r\n",
       "E2 *- - E3\r\n",
       "E2 *- - E4\r\n",
       "}\r\n",
       "@enduml\r\n",
       "\n",
       "PlantUML version 1.2020.13(Sat Jun 13 14:26:38 CEST 2020)\n",
       "(EPL source distribution)\n",
       "Java Runtime: OpenJDK Runtime Environment\n",
       "JVM: OpenJDK 64-Bit Server VM\n",
       "Default Encoding: Cp1252\n",
       "Language: en\n",
       "Country: US\n",
       "--></g></svg>"
      ]
     },
     "execution_count": 3,
     "metadata": {},
     "output_type": "execute_result"
    }
   ],
   "source": [
    "%viz MyFirstSysMLv2Model"
   ]
  },
  {
   "cell_type": "code",
   "execution_count": 4,
   "metadata": {},
   "outputs": [
    {
     "data": {
      "image/svg+xml": [
       "<?xml version=\"1.0\" encoding=\"UTF-8\" standalone=\"no\"?><svg xmlns=\"http://www.w3.org/2000/svg\" xmlns:xlink=\"http://www.w3.org/1999/xlink\" contentScriptType=\"application/ecmascript\" contentStyleType=\"text/css\" height=\"246px\" preserveAspectRatio=\"none\" style=\"width:212px;height:246px;\" version=\"1.1\" viewBox=\"0 0 212 246\" width=\"212px\" zoomAndPan=\"magnify\"><defs/><g><!--MD5=[fbc87193dbaf4d95561dea2c320d4a47]\n",
       "cluster E1--><polygon fill=\"#FFFFFF\" points=\"16,6,180,6,187,29.6094,190,29.6094,190,234,16,234,16,6\" style=\"stroke: #000000; stroke-width: 1.5;\"/><line style=\"stroke: #000000; stroke-width: 1.5;\" x1=\"16\" x2=\"187\" y1=\"29.6094\" y2=\"29.6094\"/><text fill=\"#000000\" font-family=\"sans-serif\" font-size=\"14\" font-weight=\"bold\" lengthAdjust=\"spacingAndGlyphs\" textLength=\"158\" x=\"20\" y=\"22.5332\">MyFirstSysMLv2Model</text><!--MD5=[e4f7fae6ed58524ba242bb0b0d3be6b7]\n",
       "cluster E2--><rect fill=\"#F8F8F8\" height=\"160\" rx=\"12.5\" ry=\"12.5\" style=\"stroke: #000000; stroke-width: 1.5;\" width=\"120\" x=\"43\" y=\"50\"/><rect fill=\"#FFFFFF\" height=\"126.3906\" rx=\"12.5\" ry=\"12.5\" style=\"stroke: #FFFFFF; stroke-width: 1.0;\" width=\"114\" x=\"46\" y=\"80.6094\"/><line style=\"stroke: #000000; stroke-width: 1.5;\" x1=\"43\" x2=\"163\" y1=\"77.6094\" y2=\"77.6094\"/><text fill=\"#000000\" font-family=\"sans-serif\" font-size=\"14\" lengthAdjust=\"spacingAndGlyphs\" textLength=\"98\" x=\"54\" y=\"68.5332\">MySystem: Part</text><g id=\"E1.E2.E3\"><rect fill=\"#FFFFFF\" height=\"50\" rx=\"12.5\" ry=\"12.5\" style=\"stroke: #383838; stroke-width: 1.5;\" width=\"88\" x=\"59\" y=\"144\"/><line style=\"stroke: #383838; stroke-width: 1.5;\" x1=\"59\" x2=\"147\" y1=\"171.6094\" y2=\"171.6094\"/><text fill=\"#000000\" font-family=\"sans-serif\" font-size=\"14\" lengthAdjust=\"spacingAndGlyphs\" textLength=\"68\" x=\"69\" y=\"163.5332\">partA: Part</text></g><g id=\"E1.E2.E4\"><rect fill=\"#FFFFFF\" height=\"50\" rx=\"12.5\" ry=\"12.5\" style=\"stroke: #383838; stroke-width: 1.5;\" width=\"88\" x=\"59\" y=\"86\"/><line style=\"stroke: #383838; stroke-width: 1.5;\" x1=\"59\" x2=\"147\" y1=\"113.6094\" y2=\"113.6094\"/><text fill=\"#000000\" font-family=\"sans-serif\" font-size=\"14\" lengthAdjust=\"spacingAndGlyphs\" textLength=\"68\" x=\"69\" y=\"105.5332\">partB: Part</text></g><!--MD5=[f0cdf4548168e5211fb3a02bf679d63a]\n",
       "link E4 to E3--><path d=\"M103,136.074 C103,138.683 103,141.338 103,143.946 \" fill=\"none\" id=\"E4-E3\" style=\"stroke: #383838; stroke-width: 3.0;\"/><!--MD5=[c815e71af41b42b72a4d68282b0d9eb8]\n",
       "@startuml\r\n",
       "skinparam ranksep 8\r\n",
       "skinparam rectangle {\r\n",
       " backgroundColor<<block>> LightGreen\r\n",
       "}\r\n",
       "skinparam monochrome true\r\n",
       "skinparam classbackgroundcolor white\r\n",
       "skinparam shadowing false\r\n",
       "skinparam wrapWidth 300\r\n",
       "hide circle\r\n",
       "\r\n",
       "package \"MyFirstSysMLv2Model\" as E1   {\r\n",
       "rec usage \"MySystem: Part\" as E2  {\r\n",
       "rec usage \"partA: Part\" as E3  {\r\n",
       "}\r\n",
       "rec usage \"partB: Part\" as E4  {\r\n",
       "}\r\n",
       "}\r\n",
       "E4 -[thickness=3]- E3\r\n",
       "}\r\n",
       "@enduml\r\n",
       "\n",
       "PlantUML version 1.2020.13(Sat Jun 13 14:26:38 CEST 2020)\n",
       "(EPL source distribution)\n",
       "Java Runtime: OpenJDK Runtime Environment\n",
       "JVM: OpenJDK 64-Bit Server VM\n",
       "Default Encoding: Cp1252\n",
       "Language: en\n",
       "Country: US\n",
       "--></g></svg>"
      ]
     },
     "execution_count": 4,
     "metadata": {},
     "output_type": "execute_result"
    }
   ],
   "source": [
    "%viz --view=interconnection MyFirstSysMLv2Model"
   ]
  }
 ],
 "metadata": {
  "kernelspec": {
   "display_name": "SysML",
   "language": "sysml",
   "name": "sysml"
  },
  "language_info": {
   "codemirror_mode": "sysml",
   "file_extension": ".sysml",
   "mimetype": "text/x-sysml",
   "name": "SysML",
   "pygments_lexer": "java",
   "version": "1.0.0"
  }
 },
 "nbformat": 4,
 "nbformat_minor": 4
}

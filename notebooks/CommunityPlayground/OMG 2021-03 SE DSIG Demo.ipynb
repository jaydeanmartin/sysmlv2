{
 "cells": [
  {
   "cell_type": "markdown",
   "metadata": {},
   "source": [
    "# **SysML v2 Language Demonstration**\n",
    "# *Systems Engineering DSIG<br/>Virtual OMG Meeting</br>23 March 2021*"
   ]
  },
  {
   "cell_type": "markdown",
   "metadata": {},
   "source": [
    "## Trade Studies"
   ]
  },
  {
   "cell_type": "code",
   "execution_count": 9,
   "metadata": {},
   "outputs": [
    {
     "data": {
      "text/plain": [
       "PartDefinition Engine (b870921c-53de-4d45-ad47-9bc88651bcbf)\n",
       "PartDefinition Cylinder (2e763165-874e-434c-aabc-7af9c071bc41)\n",
       "PartUsage engine (21bae253-0170-4e2e-9515-3fa413c53825)\n",
       "PartUsage engine4cyl (00040192-0017-4cce-943e-81c3bd8117ee)\n",
       "PartUsage engine6cyl (584c4569-52b6-42c1-bbb6-76bf7a5974b9)\n"
      ]
     },
     "execution_count": 9,
     "metadata": {},
     "output_type": "execute_result"
    }
   ],
   "source": [
    "import ScalarValues::Real;\n",
    "\n",
    "part def Engine {\n",
    "    attribute power :> ISQ::power;\n",
    "    attribute mass :> ISQ::mass;\n",
    "    attribute efficiency : Real;\n",
    "    attribute cost : Real;\n",
    "}\n",
    "part def Cylinder;\n",
    "\n",
    "part engine : Engine {\n",
    "    part cylinder : Cylinder[2..*];\n",
    "}\n",
    "\n",
    "part engine4cyl :> engine {\n",
    "    part :>> cylinder[4];\n",
    "    // ...\n",
    "}\n",
    "\n",
    "part engine6cyl :> engine {\n",
    "    part :>> cylinder[6];\n",
    "    // ...\n",
    "}"
   ]
  },
  {
   "cell_type": "code",
   "execution_count": 10,
   "metadata": {},
   "outputs": [
    {
     "data": {
      "image/svg+xml": [
       "<?xml version=\"1.0\" encoding=\"UTF-8\" standalone=\"no\"?><svg xmlns=\"http://www.w3.org/2000/svg\" xmlns:xlink=\"http://www.w3.org/1999/xlink\" contentScriptType=\"application/ecmascript\" contentStyleType=\"text/css\" height=\"275px\" preserveAspectRatio=\"none\" style=\"width:303px;height:275px;\" version=\"1.1\" viewBox=\"0 0 303 275\" width=\"303px\" zoomAndPan=\"magnify\"><defs/><g><!--MD5=[43c9051892ef23e1a46a86907403d788]\n",
       "class E1--><a href=\"psysml:cb4e1506-9b71-4f84-9e60-c362c3eccd8b\" target=\"_top\" title=\"psysml:cb4e1506-9b71-4f84-9e60-c362c3eccd8b\" xlink:actuate=\"onRequest\" xlink:href=\"psysml:cb4e1506-9b71-4f84-9e60-c362c3eccd8b\" xlink:show=\"new\" xlink:title=\"psysml:cb4e1506-9b71-4f84-9e60-c362c3eccd8b\" xlink:type=\"simple\"><rect fill=\"#FFFFFF\" height=\"45.9375\" id=\"E1\" rx=\"10\" ry=\"10\" style=\"stroke: #383838; stroke-width: 1.5;\" width=\"100\" x=\"103.5\" y=\"113\"/><text fill=\"#000000\" font-family=\"sans-serif\" font-size=\"12\" font-style=\"italic\" lengthAdjust=\"spacingAndGlyphs\" textLength=\"40\" x=\"133.5\" y=\"129.1387\">«part»</text><text fill=\"#000000\" font-family=\"sans-serif\" font-size=\"12\" lengthAdjust=\"spacingAndGlyphs\" textLength=\"94\" x=\"106.5\" y=\"143.1074\">engine: Engine</text><line style=\"stroke: #383838; stroke-width: 1.5;\" x1=\"104.5\" x2=\"202.5\" y1=\"150.9375\" y2=\"150.9375\"/></a><!--MD5=[b4997ac47864f28c2f74865a473b2911]\n",
       "class E2--><a href=\"psysml:bbd7a0fa-8075-4f56-a7bb-d23445caef0d\" target=\"_top\" title=\"psysml:bbd7a0fa-8075-4f56-a7bb-d23445caef0d\" xlink:actuate=\"onRequest\" xlink:href=\"psysml:bbd7a0fa-8075-4f56-a7bb-d23445caef0d\" xlink:show=\"new\" xlink:title=\"psysml:bbd7a0fa-8075-4f56-a7bb-d23445caef0d\" xlink:type=\"simple\"><rect fill=\"#FFFFFF\" height=\"45.9375\" id=\"E2\" rx=\"10\" ry=\"10\" style=\"stroke: #383838; stroke-width: 1.5;\" width=\"111\" x=\"98\" y=\"219\"/><text fill=\"#000000\" font-family=\"sans-serif\" font-size=\"12\" font-style=\"italic\" lengthAdjust=\"spacingAndGlyphs\" textLength=\"40\" x=\"133.5\" y=\"235.1387\">«part»</text><text fill=\"#000000\" font-family=\"sans-serif\" font-size=\"12\" lengthAdjust=\"spacingAndGlyphs\" textLength=\"105\" x=\"101\" y=\"249.1074\">cylinder: Cylinder</text><line style=\"stroke: #383838; stroke-width: 1.5;\" x1=\"99\" x2=\"208\" y1=\"256.9375\" y2=\"256.9375\"/></a><!--MD5=[09b614a08d8cba4a07c9adeb5e0fee81]\n",
       "class E3--><a href=\"psysml:24116e21-461f-4e00-9793-96fdb5eec5a9\" target=\"_top\" title=\"psysml:24116e21-461f-4e00-9793-96fdb5eec5a9\" xlink:actuate=\"onRequest\" xlink:href=\"psysml:24116e21-461f-4e00-9793-96fdb5eec5a9\" xlink:show=\"new\" xlink:title=\"psysml:24116e21-461f-4e00-9793-96fdb5eec5a9\" xlink:type=\"simple\"><rect fill=\"#FFFFFF\" height=\"45.9375\" id=\"E3\" rx=\"10\" ry=\"10\" style=\"stroke: #383838; stroke-width: 1.5;\" width=\"73\" x=\"7\" y=\"7\"/><text fill=\"#000000\" font-family=\"sans-serif\" font-size=\"12\" font-style=\"italic\" lengthAdjust=\"spacingAndGlyphs\" textLength=\"40\" x=\"23.5\" y=\"23.1387\">«part»</text><text fill=\"#000000\" font-family=\"sans-serif\" font-size=\"12\" lengthAdjust=\"spacingAndGlyphs\" textLength=\"67\" x=\"10\" y=\"37.1074\">engine4cyl</text><line style=\"stroke: #383838; stroke-width: 1.5;\" x1=\"8\" x2=\"79\" y1=\"44.9375\" y2=\"44.9375\"/></a><!--MD5=[ebbe1d658d1005bcc118a6aa81145e00]\n",
       "class E4--><a href=\"psysml:ddc8773f-8d58-40a2-95e8-103c363c59cd\" target=\"_top\" title=\"psysml:ddc8773f-8d58-40a2-95e8-103c363c59cd\" xlink:actuate=\"onRequest\" xlink:href=\"psysml:ddc8773f-8d58-40a2-95e8-103c363c59cd\" xlink:show=\"new\" xlink:title=\"psysml:ddc8773f-8d58-40a2-95e8-103c363c59cd\" xlink:type=\"simple\"><rect fill=\"#FFFFFF\" height=\"45.9375\" id=\"E4\" rx=\"10\" ry=\"10\" style=\"stroke: #383838; stroke-width: 1.5;\" width=\"54\" x=\"14.5\" y=\"113\"/><text fill=\"#000000\" font-family=\"sans-serif\" font-size=\"12\" font-style=\"italic\" lengthAdjust=\"spacingAndGlyphs\" textLength=\"40\" x=\"21.5\" y=\"129.1387\">«part»</text><text fill=\"#000000\" font-family=\"sans-serif\" font-size=\"12\" lengthAdjust=\"spacingAndGlyphs\" textLength=\"48\" x=\"17.5\" y=\"143.1074\">cylinder</text><line style=\"stroke: #383838; stroke-width: 1.5;\" x1=\"15.5\" x2=\"67.5\" y1=\"150.9375\" y2=\"150.9375\"/></a><!--MD5=[270fce915f116d4de14055a7c1d9a0f3]\n",
       "class E5--><a href=\"psysml:83f6655f-295b-4880-ad69-24f9680f28b3\" target=\"_top\" title=\"psysml:83f6655f-295b-4880-ad69-24f9680f28b3\" xlink:actuate=\"onRequest\" xlink:href=\"psysml:83f6655f-295b-4880-ad69-24f9680f28b3\" xlink:show=\"new\" xlink:title=\"psysml:83f6655f-295b-4880-ad69-24f9680f28b3\" xlink:type=\"simple\"><rect fill=\"#FFFFFF\" height=\"45.9375\" id=\"E5\" rx=\"10\" ry=\"10\" style=\"stroke: #383838; stroke-width: 1.5;\" width=\"73\" x=\"173\" y=\"7\"/><text fill=\"#000000\" font-family=\"sans-serif\" font-size=\"12\" font-style=\"italic\" lengthAdjust=\"spacingAndGlyphs\" textLength=\"40\" x=\"189.5\" y=\"23.1387\">«part»</text><text fill=\"#000000\" font-family=\"sans-serif\" font-size=\"12\" lengthAdjust=\"spacingAndGlyphs\" textLength=\"67\" x=\"176\" y=\"37.1074\">engine6cyl</text><line style=\"stroke: #383838; stroke-width: 1.5;\" x1=\"174\" x2=\"245\" y1=\"44.9375\" y2=\"44.9375\"/></a><!--MD5=[60a26617385b1d2d0262a64233df1f8d]\n",
       "class E6--><a href=\"psysml:c7f017af-ea34-4c48-9d59-c29617a62c60\" target=\"_top\" title=\"psysml:c7f017af-ea34-4c48-9d59-c29617a62c60\" xlink:actuate=\"onRequest\" xlink:href=\"psysml:c7f017af-ea34-4c48-9d59-c29617a62c60\" xlink:show=\"new\" xlink:title=\"psysml:c7f017af-ea34-4c48-9d59-c29617a62c60\" xlink:type=\"simple\"><rect fill=\"#FFFFFF\" height=\"45.9375\" id=\"E6\" rx=\"10\" ry=\"10\" style=\"stroke: #383838; stroke-width: 1.5;\" width=\"54\" x=\"238.5\" y=\"113\"/><text fill=\"#000000\" font-family=\"sans-serif\" font-size=\"12\" font-style=\"italic\" lengthAdjust=\"spacingAndGlyphs\" textLength=\"40\" x=\"245.5\" y=\"129.1387\">«part»</text><text fill=\"#000000\" font-family=\"sans-serif\" font-size=\"12\" lengthAdjust=\"spacingAndGlyphs\" textLength=\"48\" x=\"241.5\" y=\"143.1074\">cylinder</text><line style=\"stroke: #383838; stroke-width: 1.5;\" x1=\"239.5\" x2=\"291.5\" y1=\"150.9375\" y2=\"150.9375\"/></a><!--MD5=[a523cb2a0b79ecf9065ad8783f96c320]\n",
       "reverse link E1 to E2--><a href=\"psysml:bbd7a0fa-8075-4f56-a7bb-d23445caef0d\" target=\"_top\" title=\"psysml:bbd7a0fa-8075-4f56-a7bb-d23445caef0d\" xlink:actuate=\"onRequest\" xlink:href=\"psysml:bbd7a0fa-8075-4f56-a7bb-d23445caef0d\" xlink:show=\"new\" xlink:title=\"psysml:bbd7a0fa-8075-4f56-a7bb-d23445caef0d\" xlink:type=\"simple\"><path d=\"M153.5,172.44 C153.5,187.87 153.5,205.47 153.5,218.98 \" fill=\"none\" id=\"E1&lt;-E2\" style=\"stroke: #383838; stroke-width: 1.0;\"/><polygon fill=\"#383838\" points=\"153.5,159.06,149.5,165.06,153.5,171.06,157.5,165.06,153.5,159.06\" style=\"stroke: #383838; stroke-width: 1.0;\"/><text fill=\"#000000\" font-family=\"sans-serif\" font-size=\"13\" lengthAdjust=\"spacingAndGlyphs\" textLength=\"23\" x=\"127.4094\" y=\"207.8709\">2..*</text></a><!--MD5=[ce8a55680e2ecf030a1946113312eb05]\n",
       "link E3 to E1--><a href=\"psysml:80e43859-c736-4957-8e3a-51e348c13a9a\" target=\"_top\" title=\"psysml:80e43859-c736-4957-8e3a-51e348c13a9a\" xlink:actuate=\"onRequest\" xlink:href=\"psysml:80e43859-c736-4957-8e3a-51e348c13a9a\" xlink:show=\"new\" xlink:title=\"psysml:80e43859-c736-4957-8e3a-51e348c13a9a\" xlink:type=\"simple\"><path d=\"M66.83,53.06 C80.97,66.43 99.36,83.81 115.56,99.13 \" fill=\"none\" id=\"E3-&gt;E1\" style=\"stroke: #383838; stroke-width: 1.0;\"/><polygon fill=\"none\" points=\"120.48,94.15,130.21,112.98,110.86,104.32,120.48,94.15\" style=\"stroke: #383838; stroke-width: 1.0;\"/></a><!--MD5=[185131fc0dcab0a4505a2ebe144e961b]\n",
       "link E4 to E2--><a href=\"psysml:25ba8eeb-cfdf-4b6d-b8fd-e1af5f5f5c34\" target=\"_top\" title=\"psysml:25ba8eeb-cfdf-4b6d-b8fd-e1af5f5f5c34\" xlink:actuate=\"onRequest\" xlink:href=\"psysml:25ba8eeb-cfdf-4b6d-b8fd-e1af5f5f5c34\" xlink:show=\"new\" xlink:title=\"psysml:25ba8eeb-cfdf-4b6d-b8fd-e1af5f5f5c34\" xlink:type=\"simple\"><path d=\"M65.25,159.06 C79.73,172.5 98.57,189.99 115.12,205.36 \" fill=\"none\" id=\"E4-&gt;E2\" style=\"stroke: #383838; stroke-width: 1.0;\"/><polygon fill=\"#FFFFFF\" points=\"129.78,218.98,111.0949,211.1782,120.6228,200.9205,129.78,218.98\" style=\"stroke: #383838; stroke-width: 1.0;\"/><line style=\"stroke: #383838; stroke-width: 2.0;\" x1=\"108.3107\" x2=\"117.8386\" y1=\"208.5921\" y2=\"198.3344\"/></a><!--MD5=[4672eba38e49728da53d11aeb285b987]\n",
       "reverse link E3 to E4--><a href=\"psysml:ddc8773f-8d58-40a2-95e8-103c363c59cd\" target=\"_top\" title=\"psysml:ddc8773f-8d58-40a2-95e8-103c363c59cd\" xlink:actuate=\"onRequest\" xlink:href=\"psysml:ddc8773f-8d58-40a2-95e8-103c363c59cd\" xlink:show=\"new\" xlink:title=\"psysml:ddc8773f-8d58-40a2-95e8-103c363c59cd\" xlink:type=\"simple\"><path d=\"M42.82,66.44 C42.52,81.87 42.18,99.47 41.92,112.98 \" fill=\"none\" id=\"E3&lt;-E4\" style=\"stroke: #383838; stroke-width: 1.0;\"/><polygon fill=\"#383838\" points=\"43.08,53.06,38.9685,58.9842,42.8556,65.0579,46.9671,59.1337,43.08,53.06\" style=\"stroke: #383838; stroke-width: 1.0;\"/><text fill=\"#000000\" font-family=\"sans-serif\" font-size=\"13\" lengthAdjust=\"spacingAndGlyphs\" textLength=\"8\" x=\"32.9579\" y=\"101.8709\">4</text></a><!--MD5=[62f1a7026b5746ece68c476bcfdcffcd]\n",
       "link E5 to E1--><a href=\"psysml:69429b24-539f-497a-9a5c-6f8dae410d21\" target=\"_top\" title=\"psysml:69429b24-539f-497a-9a5c-6f8dae410d21\" xlink:actuate=\"onRequest\" xlink:href=\"psysml:69429b24-539f-497a-9a5c-6f8dae410d21\" xlink:show=\"new\" xlink:title=\"psysml:69429b24-539f-497a-9a5c-6f8dae410d21\" xlink:type=\"simple\"><path d=\"M197.62,53.06 C191.02,65.33 182.59,80.97 174.88,95.3 \" fill=\"none\" id=\"E5-&gt;E1\" style=\"stroke: #383838; stroke-width: 1.0;\"/><polygon fill=\"none\" points=\"181,98.69,165.36,112.98,168.68,92.05,181,98.69\" style=\"stroke: #383838; stroke-width: 1.0;\"/></a><!--MD5=[2351f337d6de0f557b50152ba70847b5]\n",
       "link E6 to E2--><a href=\"psysml:81d6e4a5-f69b-49b7-81fd-aa4f1439d451\" target=\"_top\" title=\"psysml:81d6e4a5-f69b-49b7-81fd-aa4f1439d451\" xlink:actuate=\"onRequest\" xlink:href=\"psysml:81d6e4a5-f69b-49b7-81fd-aa4f1439d451\" xlink:show=\"new\" xlink:title=\"psysml:81d6e4a5-f69b-49b7-81fd-aa4f1439d451\" xlink:type=\"simple\"><path d=\"M241.75,159.06 C227.27,172.5 208.43,189.99 191.88,205.36 \" fill=\"none\" id=\"E6-&gt;E2\" style=\"stroke: #383838; stroke-width: 1.0;\"/><polygon fill=\"#FFFFFF\" points=\"177.22,218.98,186.3772,200.9205,195.9051,211.1782,177.22,218.98\" style=\"stroke: #383838; stroke-width: 1.0;\"/><line style=\"stroke: #383838; stroke-width: 2.0;\" x1=\"189.1614\" x2=\"198.6893\" y1=\"198.3344\" y2=\"208.5921\"/></a><!--MD5=[85d356282659285ab4b2cfe2f634dd2b]\n",
       "reverse link E5 to E6--><a href=\"psysml:c7f017af-ea34-4c48-9d59-c29617a62c60\" target=\"_top\" title=\"psysml:c7f017af-ea34-4c48-9d59-c29617a62c60\" xlink:actuate=\"onRequest\" xlink:href=\"psysml:c7f017af-ea34-4c48-9d59-c29617a62c60\" xlink:show=\"new\" xlink:title=\"psysml:c7f017af-ea34-4c48-9d59-c29617a62c60\" xlink:type=\"simple\"><path d=\"M227.57,64.56 C236.11,80.42 246.07,98.92 253.64,112.98 \" fill=\"none\" id=\"E5&lt;-E6\" style=\"stroke: #383838; stroke-width: 1.0;\"/><polygon fill=\"#383838\" points=\"221.38,53.06,220.7038,60.2393,227.0708,63.6248,227.747,56.4455,221.38,53.06\" style=\"stroke: #383838; stroke-width: 1.0;\"/><text fill=\"#000000\" font-family=\"sans-serif\" font-size=\"13\" lengthAdjust=\"spacingAndGlyphs\" textLength=\"8\" x=\"241.3776\" y=\"101.8709\">6</text></a><!--MD5=[b9a0eb734b6e0af3da7c4ce2e148920d]\n",
       "@startuml\r\n",
       "skinparam monochrome true\r\n",
       "skinparam classbackgroundcolor white\r\n",
       "skinparam shadowing false\r\n",
       "skinparam wrapWidth 300\r\n",
       "hide circle\r\n",
       "\r\n",
       "comp usage \"engine: Engine\" as E1  <<(T,blue)part>> [[psysml:cb4e1506-9b71-4f84-9e60-c362c3eccd8b ]] {\r\n",
       "}\r\n",
       "comp usage \"cylinder: Cylinder\" as E2  <<(T,blue)part>> [[psysml:bbd7a0fa-8075-4f56-a7bb-d23445caef0d ]] {\r\n",
       "}\r\n",
       "comp usage \"engine4cyl\" as E3  <<(T,blue)part>> [[psysml:24116e21-461f-4e00-9793-96fdb5eec5a9 ]] {\r\n",
       "}\r\n",
       "comp usage \"cylinder\" as E4  <<(T,blue)part>> [[psysml:ddc8773f-8d58-40a2-95e8-103c363c59cd ]] {\r\n",
       "}\r\n",
       "comp usage \"engine6cyl\" as E5  <<(T,blue)part>> [[psysml:83f6655f-295b-4880-ad69-24f9680f28b3 ]] {\r\n",
       "}\r\n",
       "comp usage \"cylinder\" as E6  <<(T,blue)part>> [[psysml:c7f017af-ea34-4c48-9d59-c29617a62c60 ]] {\r\n",
       "}\r\n",
       "E1 *- - \"2..*\"E2 [[psysml:bbd7a0fa-8075-4f56-a7bb-d23445caef0d ]] \r\n",
       "E3 - -|> E1 [[psysml:80e43859-c736-4957-8e3a-51e348c13a9a ]] \r\n",
       "E4 - -||> E2 [[psysml:25ba8eeb-cfdf-4b6d-b8fd-e1af5f5f5c34 ]] \r\n",
       "E3 *- - \"4\"E4 [[psysml:ddc8773f-8d58-40a2-95e8-103c363c59cd ]] \r\n",
       "E5 - -|> E1 [[psysml:69429b24-539f-497a-9a5c-6f8dae410d21 ]] \r\n",
       "E6 - -||> E2 [[psysml:81d6e4a5-f69b-49b7-81fd-aa4f1439d451 ]] \r\n",
       "E5 *- - \"6\"E6 [[psysml:c7f017af-ea34-4c48-9d59-c29617a62c60 ]] \r\n",
       "@enduml\r\n",
       "\n",
       "PlantUML version 1.2020.13(Sat Jun 13 12:26:38 UTC 2020)\n",
       "(EPL source distribution)\n",
       "Java Runtime: OpenJDK Runtime Environment\n",
       "JVM: OpenJDK 64-Bit Server VM\n",
       "Default Encoding: UTF-8\n",
       "Language: en\n",
       "Country: null\n",
       "--></g></svg>"
      ]
     },
     "execution_count": 10,
     "metadata": {},
     "output_type": "execute_result"
    }
   ],
   "source": [
    "%viz --view=tree engine engine4cyl engine6cyl"
   ]
  },
  {
   "cell_type": "code",
   "execution_count": 11,
   "metadata": {},
   "outputs": [
    {
     "data": {
      "text/plain": [
       "CalculationDefinition EngineEvaluation (03c325d7-90ce-4d17-ad17-b49a2d3494a4)\n",
       "AnalysisCaseUsage engineTradeStudy (8d86b4bd-7cc1-4937-ac7f-0727f620cf47)\n"
      ]
     },
     "execution_count": 11,
     "metadata": {},
     "output_type": "execute_result"
    }
   ],
   "source": [
    "import ScalarValues::Real;\n",
    "import TradeStudies::*;\n",
    "\n",
    "/** Evaluation function with criteria power, mass, efficency and cost. */\n",
    "calc def EngineEvaluation\n",
    "    (power :> ISQ::power, mass :> ISQ::mass, efficiency : Real, cost : Real ) evaluation : Real {\n",
    "    // Compute evaluation...\n",
    "}\n",
    "\n",
    "analysis engineTradeStudy : TradeStudy {\n",
    "    subject : Engine = {engine4cyl, engine6cyl};\n",
    "    objective : MaximizeObjective;\n",
    "\n",
    "    calc :>> objectiveFunction {\n",
    "        in part engine : Engine;\n",
    "        return result : Real = EngineEvaluation(\n",
    "            engine::power, engine::mass, engine::efficiency, engine::cost\n",
    "        );\n",
    "    }\n",
    "\n",
    "    return part : Engine;\n",
    "}"
   ]
  },
  {
   "cell_type": "code",
   "execution_count": 12,
   "metadata": {},
   "outputs": [
    {
     "data": {
      "image/svg+xml": [
       "<?xml version=\"1.0\" encoding=\"UTF-8\" standalone=\"no\"?><svg xmlns=\"http://www.w3.org/2000/svg\" xmlns:xlink=\"http://www.w3.org/1999/xlink\" contentScriptType=\"application/ecmascript\" contentStyleType=\"text/css\" height=\"348px\" preserveAspectRatio=\"none\" style=\"width:811px;height:348px;\" version=\"1.1\" viewBox=\"0 0 811 348\" width=\"811px\" zoomAndPan=\"magnify\"><defs/><g><!--MD5=[43c9051892ef23e1a46a86907403d788]\n",
       "class E1--><a href=\"psysml:f9bff9a2-6970-4bc5-ac2d-fe1eb405cdfc\" target=\"_top\" title=\"psysml:f9bff9a2-6970-4bc5-ac2d-fe1eb405cdfc\" xlink:actuate=\"onRequest\" xlink:href=\"psysml:f9bff9a2-6970-4bc5-ac2d-fe1eb405cdfc\" xlink:show=\"new\" xlink:title=\"psysml:f9bff9a2-6970-4bc5-ac2d-fe1eb405cdfc\" xlink:type=\"simple\"><rect fill=\"#FFFFFF\" height=\"45.9375\" id=\"E1\" rx=\"10\" ry=\"10\" style=\"stroke: #383838; stroke-width: 1.5;\" width=\"199\" x=\"341\" y=\"7\"/><text fill=\"#000000\" font-family=\"sans-serif\" font-size=\"12\" font-style=\"italic\" lengthAdjust=\"spacingAndGlyphs\" textLength=\"64\" x=\"408.5\" y=\"23.1387\">«analysis»</text><text fill=\"#000000\" font-family=\"sans-serif\" font-size=\"12\" lengthAdjust=\"spacingAndGlyphs\" textLength=\"193\" x=\"344\" y=\"37.1074\">engineTradeStudy: TradeStudy</text><line style=\"stroke: #383838; stroke-width: 1.5;\" x1=\"342\" x2=\"539\" y1=\"44.9375\" y2=\"44.9375\"/></a><!--MD5=[b4997ac47864f28c2f74865a473b2911]\n",
       "class E2--><a href=\"psysml:547cdabd-4d37-445b-b94f-289936de029a\" target=\"_top\" title=\"psysml:547cdabd-4d37-445b-b94f-289936de029a\" xlink:actuate=\"onRequest\" xlink:href=\"psysml:547cdabd-4d37-445b-b94f-289936de029a\" xlink:show=\"new\" xlink:title=\"psysml:547cdabd-4d37-445b-b94f-289936de029a\" xlink:type=\"simple\"><rect fill=\"#FFFFFF\" height=\"45.9375\" id=\"E2\" rx=\"10\" ry=\"10\" style=\"stroke: #383838; stroke-width: 1.5;\" width=\"251\" x=\"7\" y=\"157.5\"/><text fill=\"#000000\" font-family=\"sans-serif\" font-size=\"12\" font-style=\"italic\" lengthAdjust=\"spacingAndGlyphs\" textLength=\"91\" x=\"87\" y=\"173.6387\">«requirement»</text><text fill=\"#000000\" font-family=\"sans-serif\" font-size=\"12\" lengthAdjust=\"spacingAndGlyphs\" textLength=\"245\" x=\"10\" y=\"187.6074\">tradeStudyObjective: MaximizeObjective</text><line style=\"stroke: #383838; stroke-width: 1.5;\" x1=\"8\" x2=\"257\" y1=\"195.4375\" y2=\"195.4375\"/></a><!--MD5=[09b614a08d8cba4a07c9adeb5e0fee81]\n",
       "class E3--><a href=\"psysml:1b6d3053-ecf1-4755-ab7b-70ec03ef1933\" target=\"_top\" title=\"psysml:1b6d3053-ecf1-4755-ab7b-70ec03ef1933\" xlink:actuate=\"onRequest\" xlink:href=\"psysml:1b6d3053-ecf1-4755-ab7b-70ec03ef1933\" xlink:show=\"new\" xlink:title=\"psysml:1b6d3053-ecf1-4755-ab7b-70ec03ef1933\" xlink:type=\"simple\"><rect fill=\"#FFFFFF\" height=\"101.1563\" id=\"E3\" rx=\"10\" ry=\"10\" style=\"stroke: #383838; stroke-width: 1.5;\" width=\"294\" x=\"293.5\" y=\"130\"/><text fill=\"#000000\" font-family=\"sans-serif\" font-size=\"12\" font-style=\"italic\" lengthAdjust=\"spacingAndGlyphs\" textLength=\"82\" x=\"399.5\" y=\"146.1387\">«calculation»</text><text fill=\"#000000\" font-family=\"sans-serif\" font-size=\"12\" lengthAdjust=\"spacingAndGlyphs\" textLength=\"110\" x=\"385.5\" y=\"160.1074\">objectiveFunction</text><line style=\"stroke: #383838; stroke-width: 1.5;\" x1=\"294.5\" x2=\"586.5\" y1=\"167.9375\" y2=\"167.9375\"/><text fill=\"#000000\" font-family=\"sans-serif\" font-size=\"11\" lengthAdjust=\"spacingAndGlyphs\" textLength=\"268\" x=\"299.5\" y=\"198.9526\">result: Real=EngineEvaluation(            engine::</text><text fill=\"#000000\" font-family=\"sans-serif\" font-size=\"11\" lengthAdjust=\"spacingAndGlyphs\" textLength=\"282\" x=\"299.5\" y=\"211.7573\">power, engine::mass, engine::efficiency, engine::</text><text fill=\"#000000\" font-family=\"sans-serif\" font-size=\"11\" lengthAdjust=\"spacingAndGlyphs\" textLength=\"64\" x=\"299.5\" y=\"224.562\">cost        );</text><line style=\"stroke: #383838; stroke-width: 1.0;\" x1=\"294.5\" x2=\"413\" y1=\"182.3398\" y2=\"182.3398\"/><text fill=\"#000000\" font-family=\"sans-serif\" font-size=\"11\" lengthAdjust=\"spacingAndGlyphs\" textLength=\"55\" x=\"413\" y=\"185.6479\">attributes</text><line style=\"stroke: #383838; stroke-width: 1.0;\" x1=\"468\" x2=\"586.5\" y1=\"182.3398\" y2=\"182.3398\"/></a><!--MD5=[ebbe1d658d1005bcc118a6aa81145e00]\n",
       "class E4--><a href=\"psysml:da368715-afd1-41a8-af38-384db5dc37c7\" target=\"_top\" title=\"psysml:da368715-afd1-41a8-af38-384db5dc37c7\" xlink:actuate=\"onRequest\" xlink:href=\"psysml:da368715-afd1-41a8-af38-384db5dc37c7\" xlink:show=\"new\" xlink:title=\"psysml:da368715-afd1-41a8-af38-384db5dc37c7\" xlink:type=\"simple\"><rect fill=\"#FFFFFF\" height=\"45.9375\" id=\"E4\" rx=\"10\" ry=\"10\" style=\"stroke: #383838; stroke-width: 1.5;\" width=\"100\" x=\"390.5\" y=\"292\"/><text fill=\"#000000\" font-family=\"sans-serif\" font-size=\"12\" font-style=\"italic\" lengthAdjust=\"spacingAndGlyphs\" textLength=\"40\" x=\"420.5\" y=\"308.1387\">«part»</text><text fill=\"#000000\" font-family=\"sans-serif\" font-size=\"12\" lengthAdjust=\"spacingAndGlyphs\" textLength=\"94\" x=\"393.5\" y=\"322.1074\">engine: Engine</text><line style=\"stroke: #383838; stroke-width: 1.5;\" x1=\"391.5\" x2=\"489.5\" y1=\"329.9375\" y2=\"329.9375\"/></a><!--MD5=[270fce915f116d4de14055a7c1d9a0f3]\n",
       "class E5--><a href=\"psysml:c1fa89ea-6cd0-428d-9e82-9714a8f6edd6\" target=\"_top\" title=\"psysml:c1fa89ea-6cd0-428d-9e82-9714a8f6edd6\" xlink:actuate=\"onRequest\" xlink:href=\"psysml:c1fa89ea-6cd0-428d-9e82-9714a8f6edd6\" xlink:show=\"new\" xlink:title=\"psysml:c1fa89ea-6cd0-428d-9e82-9714a8f6edd6\" xlink:type=\"simple\"><rect fill=\"#FFFFFF\" height=\"45.9375\" id=\"E5\" rx=\"10\" ry=\"10\" style=\"stroke: #383838; stroke-width: 1.5;\" width=\"178\" x=\"622.5\" y=\"157.5\"/><text fill=\"#000000\" font-family=\"sans-serif\" font-size=\"12\" font-style=\"italic\" lengthAdjust=\"spacingAndGlyphs\" textLength=\"40\" x=\"691.5\" y=\"173.6387\">«part»</text><text fill=\"#000000\" font-family=\"sans-serif\" font-size=\"12\" lengthAdjust=\"spacingAndGlyphs\" textLength=\"172\" x=\"625.5\" y=\"187.6074\">selectedAlternative: Engine</text><line style=\"stroke: #383838; stroke-width: 1.5;\" x1=\"623.5\" x2=\"799.5\" y1=\"195.4375\" y2=\"195.4375\"/></a><!--MD5=[1f1cd8e6dd4c1b2ca2aaccc9b9bcea6e]\n",
       "link E1 to E2--><a href=\"psysml:72641e10-0fd7-4a2f-9b41-83c0ce30eb66\" target=\"_top\" title=\"psysml:72641e10-0fd7-4a2f-9b41-83c0ce30eb66\" xlink:actuate=\"onRequest\" xlink:href=\"psysml:72641e10-0fd7-4a2f-9b41-83c0ce30eb66\" xlink:show=\"new\" xlink:title=\"psysml:72641e10-0fd7-4a2f-9b41-83c0ce30eb66\" xlink:type=\"simple\"><path d=\"M394.72,53.07 C338.88,80 244.64,125.43 185.65,153.88 \" fill=\"none\" id=\"E1-&gt;E2\" style=\"stroke: #383838; stroke-width: 1.0;\"/><polygon fill=\"#383838\" points=\"178.28,157.43,186.7896,156.6645,184.188,151.2579,178.28,157.43\" style=\"stroke: #383838; stroke-width: 1.0;\"/><text fill=\"#000000\" font-family=\"sans-serif\" font-size=\"13\" lengthAdjust=\"spacingAndGlyphs\" textLength=\"73\" x=\"333.5\" y=\"96.0669\">«objective»</text></a><!--MD5=[5d7b3810b1dd9b5164bea1151b29b665]\n",
       "reverse link E1 to E3--><a href=\"psysml:1b6d3053-ecf1-4755-ab7b-70ec03ef1933\" target=\"_top\" title=\"psysml:1b6d3053-ecf1-4755-ab7b-70ec03ef1933\" xlink:actuate=\"onRequest\" xlink:href=\"psysml:1b6d3053-ecf1-4755-ab7b-70ec03ef1933\" xlink:show=\"new\" xlink:title=\"psysml:1b6d3053-ecf1-4755-ab7b-70ec03ef1933\" xlink:type=\"simple\"><path d=\"M440.5,66.38 C440.5,85.32 440.5,108.96 440.5,129.72 \" fill=\"none\" id=\"E1&lt;-E3\" style=\"stroke: #383838; stroke-width: 1.0;\"/><polygon fill=\"#383838\" points=\"440.5,53.23,436.5,59.23,440.5,65.23,444.5,59.23,440.5,53.23\" style=\"stroke: #383838; stroke-width: 1.0;\"/></a><!--MD5=[4672eba38e49728da53d11aeb285b987]\n",
       "reverse link E3 to E4--><a href=\"psysml:da368715-afd1-41a8-af38-384db5dc37c7\" target=\"_top\" title=\"psysml:da368715-afd1-41a8-af38-384db5dc37c7\" xlink:actuate=\"onRequest\" xlink:href=\"psysml:da368715-afd1-41a8-af38-384db5dc37c7\" xlink:show=\"new\" xlink:title=\"psysml:da368715-afd1-41a8-af38-384db5dc37c7\" xlink:type=\"simple\"><path d=\"M440.5,244.39 C440.5,261.39 440.5,278.68 440.5,291.78 \" fill=\"none\" id=\"E3&lt;-E4\" style=\"stroke: #383838; stroke-width: 1.0;\"/><polygon fill=\"#FFFFFF\" points=\"440.5,231.22,436.5,237.22,440.5,243.22,444.5,237.22,440.5,231.22\" style=\"stroke: #383838; stroke-width: 1.0;\"/></a><!--MD5=[33238bef88d6431a141d8bc8fb12bca0]\n",
       "reverse link E1 to E5--><a href=\"psysml:c1fa89ea-6cd0-428d-9e82-9714a8f6edd6\" target=\"_top\" title=\"psysml:c1fa89ea-6cd0-428d-9e82-9714a8f6edd6\" xlink:actuate=\"onRequest\" xlink:href=\"psysml:c1fa89ea-6cd0-428d-9e82-9714a8f6edd6\" xlink:show=\"new\" xlink:title=\"psysml:c1fa89ea-6cd0-428d-9e82-9714a8f6edd6\" xlink:type=\"simple\"><path d=\"M492.42,59.45 C544.44,87.96 623.44,131.24 671,157.31 \" fill=\"none\" id=\"E1&lt;-E5\" style=\"stroke: #383838; stroke-width: 1.0;\"/><polygon fill=\"#FFFFFF\" points=\"480.78,53.07,484.1152,59.4635,491.2996,58.8439,487.9644,52.4504,480.78,53.07\" style=\"stroke: #383838; stroke-width: 1.0;\"/></a><!--MD5=[a289581be4823a9b5029a795207a93af]\n",
       "@startuml\r\n",
       "skinparam monochrome true\r\n",
       "skinparam classbackgroundcolor white\r\n",
       "skinparam shadowing false\r\n",
       "skinparam wrapWidth 300\r\n",
       "hide circle\r\n",
       "\r\n",
       "comp usage \"engineTradeStudy: TradeStudy\" as E1 <<analysis>> [[psysml:f9bff9a2-6970-4bc5-ac2d-fe1eb405cdfc ]] {\r\n",
       "}\r\n",
       "comp usage \"tradeStudyObjective: MaximizeObjective\" as E2  <<(T,blue)requirement>> [[psysml:547cdabd-4d37-445b-b94f-289936de029a ]] {\r\n",
       "}\r\n",
       "comp usage \"objectiveFunction\" as E3  <<(T,blue)calculation>> [[psysml:1b6d3053-ecf1-4755-ab7b-70ec03ef1933 ]] {\r\n",
       "- - attributes - -\r\n",
       "result: Real=EngineEvaluation(            engine::power, engine::mass, engine::efficiency, engine::cost        ); \r\n",
       "}\r\n",
       "comp usage \"engine: Engine\" as E4  <<(T,blue)part>> [[psysml:da368715-afd1-41a8-af38-384db5dc37c7 ]] {\r\n",
       "}\r\n",
       "comp usage \"selectedAlternative: Engine\" as E5  <<(T,blue)part>> [[psysml:c1fa89ea-6cd0-428d-9e82-9714a8f6edd6 ]] {\r\n",
       "}\r\n",
       "E1 - ->> E2 [[psysml:72641e10-0fd7-4a2f-9b41-83c0ce30eb66 ]] : <<objective>>\r\n",
       "E1 *- - E3 [[psysml:1b6d3053-ecf1-4755-ab7b-70ec03ef1933 ]] \r\n",
       "E3 o- - E4 [[psysml:da368715-afd1-41a8-af38-384db5dc37c7 ]] \r\n",
       "E1 o- - E5 [[psysml:c1fa89ea-6cd0-428d-9e82-9714a8f6edd6 ]] \r\n",
       "@enduml\r\n",
       "\n",
       "PlantUML version 1.2020.13(Sat Jun 13 12:26:38 UTC 2020)\n",
       "(EPL source distribution)\n",
       "Java Runtime: OpenJDK Runtime Environment\n",
       "JVM: OpenJDK 64-Bit Server VM\n",
       "Default Encoding: UTF-8\n",
       "Language: en\n",
       "Country: null\n",
       "--></g></svg>"
      ]
     },
     "execution_count": 12,
     "metadata": {},
     "output_type": "execute_result"
    }
   ],
   "source": [
    "%viz --view=tree engineTradeStudy"
   ]
  },
  {
   "cell_type": "markdown",
   "metadata": {},
   "source": [
    "## Enumerations"
   ]
  },
  {
   "cell_type": "code",
   "execution_count": 13,
   "metadata": {},
   "outputs": [
    {
     "data": {
      "text/plain": [
       "EnumerationDefinition ConditionColor (06eb89f1-a2f7-4de6-88c9-d782fda0ab71)\n",
       "AttributeDefinition ConditionLevel (b5343176-bc5f-4b45-983d-6ba43c233557)\n",
       "EnumerationDefinition SeverityEnum (43033f9a-bb9f-4078-be2d-f5f3c0ba55fd)\n",
       "AttributeDefinition Diameter (71fb5419-740a-47b5-8dae-4da37fb3c8bc)\n",
       "EnumerationDefinition DiameterChoice (4671f0c3-0812-4ad1-9746-6833ffd28bc1)\n",
       "AttributeUsage aperatureDiameter (10ac03d3-3a3d-4373-91af-7692373d12ca)\n"
      ]
     },
     "execution_count": 13,
     "metadata": {},
     "output_type": "execute_result"
    }
   ],
   "source": [
    "enum def ConditionColor {\n",
    "    red;\n",
    "    yellow;\n",
    "    green;\n",
    "}\n",
    "\n",
    "attribute def ConditionLevel {\n",
    "    attribute associatedColor : ConditionColor;\n",
    "}\n",
    "\n",
    "enum def SeverityEnum :> ConditionLevel {\n",
    "    danger {\n",
    "        :>> associatedColor = ConditionColor::red;\n",
    "    }\n",
    "    warning {\n",
    "        :>> associatedColor = ConditionColor::yellow;\n",
    "    }\n",
    "    normal {\n",
    "        :>> associatedColor = ConditionColor::green;\n",
    "    }\n",
    "}\n",
    "\n",
    "attribute def Diameter :> ISQ::LengthValue;\n",
    "\n",
    "enum def DiameterChoice :> Diameter {\n",
    "    small = 60@[SI::mm];\n",
    "    medium = 70@[SI::mm];\n",
    "    large = 80@[SI::mm];\n",
    "}\n",
    "\n",
    "attribute aperatureDiameter: DiameterChoice = DiameterChoice::small;"
   ]
  },
  {
   "cell_type": "markdown",
   "metadata": {},
   "source": [
    "## Metadata Annotation"
   ]
  },
  {
   "cell_type": "code",
   "execution_count": 14,
   "metadata": {},
   "outputs": [
    {
     "data": {
      "text/plain": [
       "AttributeDefinition Security (3356f993-9eab-4f0d-baa5-a08bd9412318)\n",
       "AttributeDefinition Safety (a1e5bfec-7df0-437c-bfae-1afb1d35d884)\n"
      ]
     },
     "execution_count": 14,
     "metadata": {},
     "output_type": "execute_result"
    }
   ],
   "source": [
    "import ScalarValues::Boolean;\n",
    "\n",
    "attribute def Security;\n",
    "attribute def Safety {\n",
    "    attribute isMandatory : Boolean;\n",
    "}"
   ]
  },
  {
   "cell_type": "code",
   "execution_count": 15,
   "metadata": {},
   "outputs": [
    {
     "data": {
      "text/plain": [
       "PartUsage vehicle (65b67177-452b-4375-a13e-dfe3dcf08797)\n"
      ]
     },
     "execution_count": 15,
     "metadata": {},
     "output_type": "execute_result"
    }
   ],
   "source": [
    "part vehicle {\n",
    "    part interior {\n",
    "        part alarm {@Security;}\n",
    "        part seatBelt[2] {@Safety{isMandatory = true;}}\n",
    "        part frontSeat[2];\n",
    "        part driverAirBag {@Safety{isMandatory = false;}}\n",
    "    }\n",
    "    part bodyAssy {\n",
    "        part body;\n",
    "        part bumper {@Safety{isMandatory = true;}}\n",
    "        part keylessEntry {@Security;}\n",
    "    }\n",
    "    part wheelAssy {\n",
    "        part wheel[2];\n",
    "        part antilockBrakes[2] {@Safety{isMandatory = false;}}\n",
    "    }\n",
    "}"
   ]
  },
  {
   "cell_type": "markdown",
   "metadata": {},
   "source": [
    "## Element Filtering"
   ]
  },
  {
   "cell_type": "code",
   "execution_count": 16,
   "metadata": {},
   "outputs": [
    {
     "data": {
      "text/plain": [
       "Package SafetyFeatures (86cf24a1-5895-43a9-8bf4-2e66cd847845)\n",
       "Package MandatorySafetyFeatures (37d03ce1-8315-4548-9a80-75ddfa05d1b9)\n"
      ]
     },
     "execution_count": 16,
     "metadata": {},
     "output_type": "execute_result"
    }
   ],
   "source": [
    "package SafetyFeatures {\n",
    "    import vehicle::**;\n",
    "    filter @Safety;\n",
    "}\n",
    "\n",
    "package MandatorySafetyFeatures {\n",
    "    import vehicle::**;\n",
    "    filter @Safety && Safety::isMandatory;\n",
    "}"
   ]
  },
  {
   "cell_type": "code",
   "execution_count": 17,
   "metadata": {},
   "outputs": [
    {
     "data": {
      "text/plain": [
       "OperatorExpression (21e65783-151c-4c0b-8d4e-a7a8272891bf)\n",
       "PartUsage antilockBrakes (8c17b79f-a894-4b4d-8459-b0d02bdc8154)\n",
       "PartUsage bumper (4f28c867-978c-4ec9-b74e-944a7922672a)\n",
       "PartUsage driverAirBag (bc35649e-081c-4dfd-b184-e7ff1ea3db8a)\n",
       "PartUsage seatBelt (642ceb02-7f91-4e6c-a973-42bc85d00267)\n"
      ]
     },
     "execution_count": 17,
     "metadata": {},
     "output_type": "execute_result"
    }
   ],
   "source": [
    "%list SafetyFeatures::*"
   ]
  },
  {
   "cell_type": "code",
   "execution_count": 18,
   "metadata": {},
   "outputs": [
    {
     "data": {
      "text/plain": [
       "Package SafetyFeatures_ (3eae4943-b680-4bd3-be65-4e2a7c104a54)\n",
       "Package MandatorySafetyFeatures_ (7e4894a7-de4c-4c1c-a464-7400e436f7e8)\n"
      ]
     },
     "execution_count": 18,
     "metadata": {},
     "output_type": "execute_result"
    }
   ],
   "source": [
    "package SafetyFeatures_ {\n",
    "    import vehicle::**[@Safety];\n",
    "}\n",
    "\n",
    "package MandatorySafetyFeatures_ {\n",
    "    import vehicle::**[@Safety && Safety::isMandatory];\n",
    "}"
   ]
  },
  {
   "cell_type": "code",
   "execution_count": 19,
   "metadata": {},
   "outputs": [
    {
     "data": {
      "text/plain": [
       "PartUsage antilockBrakes (8c17b79f-a894-4b4d-8459-b0d02bdc8154)\n",
       "PartUsage bumper (4f28c867-978c-4ec9-b74e-944a7922672a)\n",
       "PartUsage driverAirBag (bc35649e-081c-4dfd-b184-e7ff1ea3db8a)\n",
       "PartUsage seatBelt (642ceb02-7f91-4e6c-a973-42bc85d00267)\n"
      ]
     },
     "execution_count": 19,
     "metadata": {},
     "output_type": "execute_result"
    }
   ],
   "source": [
    "%list SafetyFeatures_::*"
   ]
  },
  {
   "cell_type": "code",
   "execution_count": 20,
   "metadata": {},
   "outputs": [
    {
     "data": {
      "text/plain": [
       "PartUsage bumper (4f28c867-978c-4ec9-b74e-944a7922672a)\n",
       "PartUsage seatBelt (642ceb02-7f91-4e6c-a973-42bc85d00267)\n"
      ]
     },
     "execution_count": 20,
     "metadata": {},
     "output_type": "execute_result"
    }
   ],
   "source": [
    "%list MandatorySafetyFeatures_::*"
   ]
  },
  {
   "cell_type": "code",
   "execution_count": 21,
   "metadata": {},
   "outputs": [
    {
     "name": "stderr",
     "output_type": "stream",
     "text": [
      "ERROR:Must be model-level evaluable (21.sysml line : 4 column : 23)\n"
     ]
    },
    {
     "data": {
      "text/plain": []
     },
     "execution_count": 21,
     "metadata": {},
     "output_type": "execute_result"
    }
   ],
   "source": [
    "calc def Check(test);\n",
    "\n",
    "package MandatorySafetyFeatures_ {\n",
    "    import vehicle::**[@Safety && Check(Safety::isMandatory)];\n",
    "}"
   ]
  },
  {
   "cell_type": "markdown",
   "metadata": {},
   "source": [
    "## Allocation"
   ]
  },
  {
   "cell_type": "code",
   "execution_count": 22,
   "metadata": {},
   "outputs": [
    {
     "data": {
      "text/plain": [
       "PartDefinition LogicalElement (da5b7848-6d0d-47ef-9c47-98089e611813)\n",
       "PartDefinition PhysicalElement (d15eb4d5-0e5c-42f9-a588-776f172e8ebe)\n",
       "ActionUsage generateTorque (e8b5232a-1e8e-451b-acd1-7faf734f9cf7)\n",
       "PartUsage torqueGenerator (45be975d-de84-473e-8a88-3ca4ce4c7f12)\n",
       "PartUsage powerTrain (f91c9459-3831-4b6e-a9ea-932443865946)\n",
       "AllocationDefinition LogicalToPhysical (150ce371-b351-47fe-bd1f-11aeaf3e8b8b)\n",
       "AllocationUsage torqueGenAlloc (ebe7cc57-6e6b-40c8-a13b-730c800c04ba)\n"
      ]
     },
     "execution_count": 22,
     "metadata": {},
     "output_type": "execute_result"
    }
   ],
   "source": [
    "part def LogicalElement;\n",
    "part def PhysicalElement;\n",
    "\n",
    "action generateTorque;\n",
    "\n",
    "part torqueGenerator : LogicalElement {\n",
    "    perform generateTorque;\n",
    "}\n",
    "\n",
    "part powerTrain : PhysicalElement {\n",
    "    part engine {\n",
    "        perform generateTorque;\n",
    "    }\n",
    "}\n",
    "\n",
    "allocation def LogicalToPhysical {\n",
    "    end logical : LogicalElement;\n",
    "    end physical : PhysicalElement;\n",
    "}\n",
    "\n",
    "allocation torqueGenAlloc : LogicalToPhysical allocate logical => torqueGenerator to physical => powerTrain {\n",
    "\n",
    "    allocate torqueGenerator::generateTorque to powerTrain::engine::generateTorque;\n",
    "}"
   ]
  },
  {
   "cell_type": "markdown",
   "metadata": {},
   "source": [
    "## Send and Accept Actions for Ports"
   ]
  },
  {
   "cell_type": "code",
   "execution_count": 23,
   "metadata": {},
   "outputs": [
    {
     "data": {
      "text/plain": [
       "ItemDefinition Subscription (f6055b97-21d3-4bae-a0b8-f44ac3cbf38b)\n",
       "ItemDefinition Publication (7261711f-5745-4332-ba32-c6bf0e9aa52f)\n",
       "PartUsage server (35f42253-3e4e-423c-8d22-d2d90ba32898)\n"
      ]
     },
     "execution_count": 23,
     "metadata": {},
     "output_type": "execute_result"
    }
   ],
   "source": [
    "import ScalarValues::*;\n",
    "\n",
    "item def Subscription {\n",
    "    attribute topic : String;\n",
    "}\n",
    "\n",
    "item def Publication {\n",
    "    attribute topic : String;\n",
    "    item content;\n",
    "}\n",
    "\n",
    "part server {\n",
    "    port subscriptionServicePort;\n",
    "    port publicationServicePort;\n",
    "\n",
    "    exhibit state serverBehavior {\n",
    "        entry; then registering;\n",
    "\n",
    "        state registering;\n",
    "        accept subscription : Subscription for subscriptionServicePort\n",
    "            do register(topic = subscription::topic)\n",
    "            then publishing;\n",
    "\n",
    "        state publishing;\n",
    "            accept publication : Publication for publicationServicePort\n",
    "            if isSubscribedTo(topic => publication::topic)\n",
    "            do send publication to subscriptionServicePort\n",
    "            then publishing; \n",
    "    }\n",
    "\n",
    "    private action register (in topic : String);\n",
    "    private calc isSubscribedTo (in topic : String) : Boolean;\n",
    "}\n"
   ]
  },
  {
   "cell_type": "code",
   "execution_count": null,
   "metadata": {},
   "outputs": [],
   "source": []
  }
 ],
 "metadata": {
  "kernelspec": {
   "display_name": "SysML",
   "language": "sysml",
   "name": "sysml"
  },
  "language_info": {
   "codemirror_mode": "sysml",
   "file_extension": ".sysml",
   "mimetype": "text/x-sysml",
   "name": "SysML",
   "pygments_lexer": "java",
   "version": "1.0.0"
  }
 },
 "nbformat": 4,
 "nbformat_minor": 4
}

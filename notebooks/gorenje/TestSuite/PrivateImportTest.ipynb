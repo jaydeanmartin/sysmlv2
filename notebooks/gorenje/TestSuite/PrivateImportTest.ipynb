{
 "cells": [
  {
   "cell_type": "markdown",
   "id": "3783dbbf",
   "metadata": {},
   "source": [
    "# SysML v2 Test Suite\n",
    "\n",
    "This can notebook can be cleared using menu `Edit --> Clear All Outputs` and then all cells can be\n",
    "run using menu `Run --> Run All Cells`.\n",
    "\n",
    "**WARNING**: This file is generated, all modifications here will be ignored.\n"
   ]
  },
  {
   "cell_type": "markdown",
   "id": "11abdf6d",
   "metadata": {},
   "source": [
    "## File: ../../sysml/src/examples/Import Tests/PrivateImportTest.sysml"
   ]
  },
  {
   "cell_type": "code",
   "execution_count": 1,
   "id": "f0c5c581",
   "metadata": {
    "execution": {
     "iopub.execute_input": "2022-08-19T08:19:15.115273Z",
     "iopub.status.busy": "2022-08-19T08:19:15.113628Z",
     "iopub.status.idle": "2022-08-19T08:19:15.237922Z",
     "shell.execute_reply": "2022-08-19T08:19:15.238275Z"
    }
   },
   "outputs": [
    {
     "data": {
      "text/plain": [
       "Package PrivateImportTest (8f933ba8-0ed5-4db5-b82c-58b1e568922b)\n"
      ]
     },
     "execution_count": 1,
     "metadata": {},
     "output_type": "execute_result"
    }
   ],
   "source": [
    "package PrivateImportTest {\n",
    "\tpackage P1 {\n",
    "\t\tpart def A;\n",
    "\t}\n",
    "\tpackage P2 {\n",
    "\t\tprivate import P1::*;\n",
    "\t}\n",
    "\n",
    "\tpart x: P1::A;\n",
    "\t\n",
    "\timport P2::*;\n",
    "\t// This should fail.\n",
    "\t// A is not visible, because the import in P2 is private.\n",
    "\t// part y: A;\n",
    "\t// part y1: P2::A;\n",
    "\t\n",
    "\tpackage P3 {\n",
    "\t\tpart def B;\n",
    "\t}\n",
    "\t\n",
    "\tprivate import P3::*;\n",
    "\t\n",
    "\t// This should not fail.\n",
    "\t// Private import only restricts visibility outside the package.\n",
    "\tpart z: B;\n",
    "\t\n",
    "\tpackage P4 {\n",
    "\t\timport all P2::*;\n",
    "\t\t\n",
    "\t\t// This should not fail because \"import all\" overrides private import.\n",
    "\t\tpart z1: A;\n",
    "\t}\t\n",
    "}"
   ]
  },
  {
   "cell_type": "code",
   "execution_count": 2,
   "id": "35c5338e",
   "metadata": {
    "execution": {
     "iopub.execute_input": "2022-08-19T08:19:15.289226Z",
     "iopub.status.busy": "2022-08-19T08:19:15.288724Z",
     "iopub.status.idle": "2022-08-19T08:19:15.759912Z",
     "shell.execute_reply": "2022-08-19T08:19:15.758193Z"
    }
   },
   "outputs": [
    {
     "data": {
      "image/svg+xml": [
       "<?xml version=\"1.0\" encoding=\"UTF-8\" standalone=\"no\"?><svg xmlns=\"http://www.w3.org/2000/svg\" xmlns:xlink=\"http://www.w3.org/1999/xlink\" contentScriptType=\"application/ecmascript\" contentStyleType=\"text/css\" height=\"586px\" preserveAspectRatio=\"none\" style=\"width:433px;height:586px;\" version=\"1.1\" viewBox=\"0 0 433 586\" width=\"433px\" zoomAndPan=\"magnify\"><defs/><g><!--MD5=[fbc87193dbaf4d95561dea2c320d4a47]\n",
       "cluster E1--><a href=\"psysml:8f933ba8-0ed5-4db5-b82c-58b1e568922b\" target=\"_top\" title=\"psysml:8f933ba8-0ed5-4db5-b82c-58b1e568922b\" xlink:actuate=\"onRequest\" xlink:href=\"psysml:8f933ba8-0ed5-4db5-b82c-58b1e568922b\" xlink:show=\"new\" xlink:title=\"psysml:8f933ba8-0ed5-4db5-b82c-58b1e568922b\" xlink:type=\"simple\"><polygon fill=\"#FFFFFF\" points=\"26.32,6,153.32,6,160.32,28.2969,411.32,28.2969,411.32,574,26.32,574,26.32,6\" style=\"stroke: #000000; stroke-width: 1.5;\"/><line style=\"stroke: #000000; stroke-width: 1.5;\" x1=\"26.32\" x2=\"160.32\" y1=\"28.2969\" y2=\"28.2969\"/><text fill=\"#000000\" font-family=\"sans-serif\" font-size=\"14\" font-weight=\"bold\" lengthAdjust=\"spacingAndGlyphs\" textLength=\"121\" x=\"30.32\" y=\"20.9951\">PrivateImportTest</text></a><!--MD5=[e4f7fae6ed58524ba242bb0b0d3be6b7]\n",
       "cluster E2--><a href=\"psysml:dc5a646f-7a70-4bb5-8a84-dd766b7ca58f\" target=\"_top\" title=\"psysml:dc5a646f-7a70-4bb5-8a84-dd766b7ca58f\" xlink:actuate=\"onRequest\" xlink:href=\"psysml:dc5a646f-7a70-4bb5-8a84-dd766b7ca58f\" xlink:show=\"new\" xlink:title=\"psysml:dc5a646f-7a70-4bb5-8a84-dd766b7ca58f\" xlink:type=\"simple\"><polygon fill=\"#FFFFFF\" points=\"231.32,421,255.32,421,262.32,443.2969,368.32,443.2969,368.32,534,231.32,534,231.32,421\" style=\"stroke: #000000; stroke-width: 1.5;\"/><line style=\"stroke: #000000; stroke-width: 1.5;\" x1=\"231.32\" x2=\"262.32\" y1=\"443.2969\" y2=\"443.2969\"/><text fill=\"#000000\" font-family=\"sans-serif\" font-size=\"14\" font-weight=\"bold\" lengthAdjust=\"spacingAndGlyphs\" textLength=\"18\" x=\"235.32\" y=\"435.9951\">P1</text></a><!--MD5=[14e3b0961a2654348d326746436168a1]\n",
       "cluster E6--><a href=\"psysml:61bbaf9b-44aa-4d19-b1af-9f0be63c5dc6\" target=\"_top\" title=\"psysml:61bbaf9b-44aa-4d19-b1af-9f0be63c5dc6\" xlink:actuate=\"onRequest\" xlink:href=\"psysml:61bbaf9b-44aa-4d19-b1af-9f0be63c5dc6\" xlink:show=\"new\" xlink:title=\"psysml:61bbaf9b-44aa-4d19-b1af-9f0be63c5dc6\" xlink:type=\"simple\"><polygon fill=\"#FFFFFF\" points=\"74.32,243,98.32,243,105.32,265.2969,211.32,265.2969,211.32,356,74.32,356,74.32,243\" style=\"stroke: #000000; stroke-width: 1.5;\"/><line style=\"stroke: #000000; stroke-width: 1.5;\" x1=\"74.32\" x2=\"105.32\" y1=\"265.2969\" y2=\"265.2969\"/><text fill=\"#000000\" font-family=\"sans-serif\" font-size=\"14\" font-weight=\"bold\" lengthAdjust=\"spacingAndGlyphs\" textLength=\"18\" x=\"78.32\" y=\"257.9951\">P3</text></a><!--MD5=[7f149f147074ac12df2cb0a7728a5fb0]\n",
       "cluster E9--><a href=\"psysml:826bc35a-2948-4f0f-ac57-a46abe90dd77\" target=\"_top\" title=\"psysml:826bc35a-2948-4f0f-ac57-a46abe90dd77\" xlink:actuate=\"onRequest\" xlink:href=\"psysml:826bc35a-2948-4f0f-ac57-a46abe90dd77\" xlink:show=\"new\" xlink:title=\"psysml:826bc35a-2948-4f0f-ac57-a46abe90dd77\" xlink:type=\"simple\"><polygon fill=\"#FFFFFF\" points=\"262.32,65,286.32,65,293.32,87.2969,371.32,87.2969,371.32,178,262.32,178,262.32,65\" style=\"stroke: #000000; stroke-width: 1.5;\"/><line style=\"stroke: #000000; stroke-width: 1.5;\" x1=\"262.32\" x2=\"293.32\" y1=\"87.2969\" y2=\"87.2969\"/><text fill=\"#000000\" font-family=\"sans-serif\" font-size=\"14\" font-weight=\"bold\" lengthAdjust=\"spacingAndGlyphs\" textLength=\"18\" x=\"266.32\" y=\"79.9951\">P4</text></a><!--MD5=[270fce915f116d4de14055a7c1d9a0f3]\n",
       "class E5--><a href=\"psysml:ae255e73-333e-4dec-b11e-e996fbedcc54\" target=\"_top\" title=\"psysml:ae255e73-333e-4dec-b11e-e996fbedcc54\" xlink:actuate=\"onRequest\" xlink:href=\"psysml:ae255e73-333e-4dec-b11e-e996fbedcc54\" xlink:show=\"new\" xlink:title=\"psysml:ae255e73-333e-4dec-b11e-e996fbedcc54\" xlink:type=\"simple\"><rect fill=\"#FFFFFF\" height=\"45.9375\" id=\"E5\" rx=\"10\" ry=\"10\" style=\"stroke: #383838; stroke-width: 1.5;\" width=\"42\" x=\"345.32\" y=\"286\"/><text fill=\"#000000\" font-family=\"sans-serif\" font-size=\"12\" font-style=\"italic\" lengthAdjust=\"spacingAndGlyphs\" textLength=\"40\" x=\"346.32\" y=\"302.1387\">«part»</text><text fill=\"#000000\" font-family=\"sans-serif\" font-size=\"12\" lengthAdjust=\"spacingAndGlyphs\" textLength=\"22\" x=\"353.32\" y=\"316.1074\">x: A</text><line style=\"stroke: #383838; stroke-width: 1.5;\" x1=\"346.32\" x2=\"386.32\" y1=\"323.9375\" y2=\"323.9375\"/></a><!--MD5=[b9389687b975829384b498ac4b7476b2]\n",
       "class E8--><a href=\"psysml:3c42eaa7-d0d8-4753-a2b8-0968c7baa502\" target=\"_top\" title=\"psysml:3c42eaa7-d0d8-4753-a2b8-0968c7baa502\" xlink:actuate=\"onRequest\" xlink:href=\"psysml:3c42eaa7-d0d8-4753-a2b8-0968c7baa502\" xlink:show=\"new\" xlink:title=\"psysml:3c42eaa7-d0d8-4753-a2b8-0968c7baa502\" xlink:type=\"simple\"><rect fill=\"#FFFFFF\" height=\"45.9375\" id=\"E8\" rx=\"10\" ry=\"10\" style=\"stroke: #383838; stroke-width: 1.5;\" width=\"42\" x=\"193.32\" y=\"108\"/><text fill=\"#000000\" font-family=\"sans-serif\" font-size=\"12\" font-style=\"italic\" lengthAdjust=\"spacingAndGlyphs\" textLength=\"40\" x=\"194.32\" y=\"124.1387\">«part»</text><text fill=\"#000000\" font-family=\"sans-serif\" font-size=\"12\" lengthAdjust=\"spacingAndGlyphs\" textLength=\"21\" x=\"201.82\" y=\"138.1074\">z: B</text><line style=\"stroke: #383838; stroke-width: 1.5;\" x1=\"194.32\" x2=\"234.32\" y1=\"145.9375\" y2=\"145.9375\"/></a><!--MD5=[09b614a08d8cba4a07c9adeb5e0fee81]\n",
       "class E3--><a href=\"psysml:e52e2a8f-f908-40ce-88b1-6459229e6290\" target=\"_top\" title=\"psysml:e52e2a8f-f908-40ce-88b1-6459229e6290\" xlink:actuate=\"onRequest\" xlink:href=\"psysml:e52e2a8f-f908-40ce-88b1-6459229e6290\" xlink:show=\"new\" xlink:title=\"psysml:e52e2a8f-f908-40ce-88b1-6459229e6290\" xlink:type=\"simple\"><rect fill=\"#FFFFFF\" height=\"45.9375\" id=\"E3\" style=\"stroke: #383838; stroke-width: 1.5;\" width=\"70\" x=\"274.32\" y=\"464\"/><text fill=\"#000000\" font-family=\"sans-serif\" font-size=\"12\" font-style=\"italic\" lengthAdjust=\"spacingAndGlyphs\" textLength=\"68\" x=\"275.32\" y=\"480.1387\">«part  def»</text><text fill=\"#000000\" font-family=\"sans-serif\" font-size=\"12\" lengthAdjust=\"spacingAndGlyphs\" textLength=\"8\" x=\"305.32\" y=\"494.1074\">A</text><line style=\"stroke: #383838; stroke-width: 1.5;\" x1=\"275.32\" x2=\"343.32\" y1=\"501.9375\" y2=\"501.9375\"/></a><a href=\"psysml:b07c7c49-60b3-45d9-ab30-3f9ccb4621b1\" target=\"_top\" title=\"psysml:b07c7c49-60b3-45d9-ab30-3f9ccb4621b1\" xlink:actuate=\"onRequest\" xlink:href=\"psysml:b07c7c49-60b3-45d9-ab30-3f9ccb4621b1\" xlink:show=\"new\" xlink:title=\"psysml:b07c7c49-60b3-45d9-ab30-3f9ccb4621b1\" xlink:type=\"simple\"><polygon fill=\"#FFFFFF\" points=\"235.32,282.5,259.32,282.5,266.32,304.7969,273.32,304.7969,273.32,335.0938,235.32,335.0938,235.32,282.5\" style=\"stroke: #000000; stroke-width: 1.5;\"/><line style=\"stroke: #000000; stroke-width: 1.5;\" x1=\"235.32\" x2=\"266.32\" y1=\"304.7969\" y2=\"304.7969\"/><text fill=\"#000000\" font-family=\"sans-serif\" font-size=\"14\" font-weight=\"bold\" lengthAdjust=\"spacingAndGlyphs\" textLength=\"18\" x=\"239.32\" y=\"297.4951\">P2</text></a><!--MD5=[2156ba9850f5573cc1fc38a6a4b2f02b]\n",
       "class E7--><a href=\"psysml:f5eaf228-c184-457d-ba82-3236315ba9d3\" target=\"_top\" title=\"psysml:f5eaf228-c184-457d-ba82-3236315ba9d3\" xlink:actuate=\"onRequest\" xlink:href=\"psysml:f5eaf228-c184-457d-ba82-3236315ba9d3\" xlink:show=\"new\" xlink:title=\"psysml:f5eaf228-c184-457d-ba82-3236315ba9d3\" xlink:type=\"simple\"><rect fill=\"#FFFFFF\" height=\"45.9375\" id=\"E7\" style=\"stroke: #383838; stroke-width: 1.5;\" width=\"70\" x=\"117.32\" y=\"286\"/><text fill=\"#000000\" font-family=\"sans-serif\" font-size=\"12\" font-style=\"italic\" lengthAdjust=\"spacingAndGlyphs\" textLength=\"68\" x=\"118.32\" y=\"302.1387\">«part  def»</text><text fill=\"#000000\" font-family=\"sans-serif\" font-size=\"12\" lengthAdjust=\"spacingAndGlyphs\" textLength=\"8\" x=\"148.32\" y=\"316.1074\">B</text><line style=\"stroke: #383838; stroke-width: 1.5;\" x1=\"118.32\" x2=\"186.32\" y1=\"323.9375\" y2=\"323.9375\"/></a><!--MD5=[96f4274e9e20536e775497830990834d]\n",
       "class E10--><a href=\"psysml:bd10993a-8e6e-4149-83fc-2dc02c68e6fc\" target=\"_top\" title=\"psysml:bd10993a-8e6e-4149-83fc-2dc02c68e6fc\" xlink:actuate=\"onRequest\" xlink:href=\"psysml:bd10993a-8e6e-4149-83fc-2dc02c68e6fc\" xlink:show=\"new\" xlink:title=\"psysml:bd10993a-8e6e-4149-83fc-2dc02c68e6fc\" xlink:type=\"simple\"><rect fill=\"#FFFFFF\" height=\"45.9375\" id=\"E10\" rx=\"10\" ry=\"10\" style=\"stroke: #383838; stroke-width: 1.5;\" width=\"42\" x=\"305.32\" y=\"108\"/><text fill=\"#000000\" font-family=\"sans-serif\" font-size=\"12\" font-style=\"italic\" lengthAdjust=\"spacingAndGlyphs\" textLength=\"40\" x=\"306.32\" y=\"124.1387\">«part»</text><text fill=\"#000000\" font-family=\"sans-serif\" font-size=\"12\" lengthAdjust=\"spacingAndGlyphs\" textLength=\"29\" x=\"309.82\" y=\"138.1074\">z1: A</text><line style=\"stroke: #383838; stroke-width: 1.5;\" x1=\"306.32\" x2=\"346.32\" y1=\"145.9375\" y2=\"145.9375\"/></a><!--MD5=[185131fc0dcab0a4505a2ebe144e961b]\n",
       "link E4 to E2--><a href=\"psysml:9c76a3dc-4160-42f2-8d03-f28cee99dd8d\" target=\"_top\" title=\"psysml:9c76a3dc-4160-42f2-8d03-f28cee99dd8d\" xlink:actuate=\"onRequest\" xlink:href=\"psysml:9c76a3dc-4160-42f2-8d03-f28cee99dd8d\" xlink:show=\"new\" xlink:title=\"psysml:9c76a3dc-4160-42f2-8d03-f28cee99dd8d\" xlink:type=\"simple\"><path d=\"M244.71,335.52 C240.28,348.61 235.53,364.94 233.32,380 C231.6325,391.49 231.1388,403.7444 231.3534,415.6911 C231.3803,417.1844 231.4182,418.673 231.4662,420.1546 C231.4722,420.3398 231.4784,420.5249 231.4847,420.7099 \" fill=\"none\" id=\"E4-&gt;E2\" style=\"stroke: #383838; stroke-width: 1.0; stroke-dasharray: 7.0,7.0;\"/><polygon fill=\"#383838\" points=\"231.4847,420.7099,235.1752,411.5786,231.314,415.7128,227.1798,411.8517,231.4847,420.7099\" style=\"stroke: #383838; stroke-width: 1.0;\"/><text fill=\"#000000\" font-family=\"sans-serif\" font-size=\"13\" lengthAdjust=\"spacingAndGlyphs\" textLength=\"65\" x=\"234.32\" y=\"393.0669\">«import»*</text></a><!--MD5=[e9be52314489bd878ff4c7144b63c9e1]\n",
       "link E5 to E3--><a href=\"psysml:7e781afb-bb69-45b4-99ca-abeca0fc5181\" target=\"_top\" title=\"psysml:7e781afb-bb69-45b4-99ca-abeca0fc5181\" xlink:actuate=\"onRequest\" xlink:href=\"psysml:7e781afb-bb69-45b4-99ca-abeca0fc5181\" xlink:show=\"new\" xlink:title=\"psysml:7e781afb-bb69-45b4-99ca-abeca0fc5181\" xlink:type=\"simple\"><path d=\"M359.1,332.29 C349.98,360.46 334.1,409.49 322.72,444.61 \" fill=\"none\" id=\"E5-&gt;E3\" style=\"stroke: #383838; stroke-width: 1.0;\"/><polygon fill=\"#FFFFFF\" points=\"316.48,463.89,315.6693,443.6578,328.9893,447.9678,316.48,463.89\" style=\"stroke: #383838; stroke-width: 1.0;\"/><ellipse cx=\"319.3269\" cy=\"438.8503\" fill=\"#383838\" rx=\"2\" ry=\"2\" style=\"stroke: #383838; stroke-width: 1.0;\"/><ellipse cx=\"328.8413\" cy=\"441.9289\" fill=\"#383838\" rx=\"2\" ry=\"2\" style=\"stroke: #383838; stroke-width: 1.0;\"/></a><!--MD5=[ee384bb554873b72f85793eae40e290c]\n",
       "link E1 to E4--><a href=\"psysml:3abfa817-381d-4c68-8935-6fa98a0aa2e6\" target=\"_top\" title=\"psysml:3abfa817-381d-4c68-8935-6fa98a0aa2e6\" xlink:actuate=\"onRequest\" xlink:href=\"psysml:3abfa817-381d-4c68-8935-6fa98a0aa2e6\" xlink:show=\"new\" xlink:title=\"psysml:3abfa817-381d-4c68-8935-6fa98a0aa2e6\" xlink:type=\"simple\"><path d=\"M34.29,132.12 C33.65,134.6 23.75,174.52 42.32,194 C49.33,201.35 77.35,200.04 87.32,202 C113.19,207.09 181.71,211.88 203.32,227 C220.99,239.37 233.85,260.02 242.24,277.37 \" fill=\"none\" id=\"E1-&gt;E4\" style=\"stroke: #383838; stroke-width: 1.0; stroke-dasharray: 7.0,7.0;\"/><polygon fill=\"#383838\" points=\"244.49,282.17,244.3071,272.3228,242.3748,277.6394,237.0582,275.7072,244.49,282.17\" style=\"stroke: #383838; stroke-width: 1.0;\"/><text fill=\"#000000\" font-family=\"sans-serif\" font-size=\"13\" lengthAdjust=\"spacingAndGlyphs\" textLength=\"65\" x=\"183.32\" y=\"215.0669\">«import»*</text></a><!--MD5=[ccbd3af71bf83df0ec2a2db62d6d7130]\n",
       "link E1 to E6--><a href=\"psysml:38071c17-dcc7-47a2-931c-5199b5c10531\" target=\"_top\" title=\"psysml:38071c17-dcc7-47a2-931c-5199b5c10531\" xlink:actuate=\"onRequest\" xlink:href=\"psysml:38071c17-dcc7-47a2-931c-5199b5c10531\" xlink:show=\"new\" xlink:title=\"psysml:38071c17-dcc7-47a2-931c-5199b5c10531\" xlink:type=\"simple\"><path d=\"M26.1693,145.3513 C26.1165,145.4477 26.0635,145.5445 26.0105,145.6418 C25.9044,145.8363 25.7978,146.0325 25.6908,146.2304 C24.8349,147.8133 23.9523,149.5023 23.0614,151.284 C21.2797,154.8473 19.465,158.7813 17.765,162.9775 C10.965,179.7625 6,200.745 12.32,219 C20.295,242.035 36.9675,263.635 52.0413,279.7863 C59.5781,287.8619 66.7153,294.5753 72.1658,299.4248 C72.8471,300.031 73.502,300.6081 74.1281,301.1551 \" fill=\"none\" id=\"E1-&gt;E6\" style=\"stroke: #383838; stroke-width: 1.0; stroke-dasharray: 7.0,7.0;\"/><polygon fill=\"#383838\" points=\"74.1281,301.1551,69.982,292.2214,70.3627,297.8655,64.7187,298.2462,74.1281,301.1551\" style=\"stroke: #383838; stroke-width: 1.0;\"/><text fill=\"#000000\" font-family=\"sans-serif\" font-size=\"13\" lengthAdjust=\"spacingAndGlyphs\" textLength=\"65\" x=\"13.32\" y=\"215.0669\">«import»*</text></a><!--MD5=[bfa3c8b0d15052fdf50ae9310b491027]\n",
       "link E8 to E7--><a href=\"psysml:84039e37-6732-4e81-a24d-af568a8fc4d2\" target=\"_top\" title=\"psysml:84039e37-6732-4e81-a24d-af568a8fc4d2\" xlink:actuate=\"onRequest\" xlink:href=\"psysml:84039e37-6732-4e81-a24d-af568a8fc4d2\" xlink:show=\"new\" xlink:title=\"psysml:84039e37-6732-4e81-a24d-af568a8fc4d2\" xlink:type=\"simple\"><path d=\"M232.99,154.29 C246.61,173.37 260.16,200.59 244.32,219 C228.78,237.06 210.49,212.85 191.32,227 C178.2,236.69 169.29,251.96 163.34,266.65 \" fill=\"none\" id=\"E8-&gt;E7\" style=\"stroke: #383838; stroke-width: 1.0;\"/><polygon fill=\"#FFFFFF\" points=\"156.95,285.73,156.3404,265.4907,169.617,269.9329,156.95,285.73\" style=\"stroke: #383838; stroke-width: 1.0;\"/><ellipse cx=\"160.0457\" cy=\"260.7199\" fill=\"#383838\" rx=\"2\" ry=\"2\" style=\"stroke: #383838; stroke-width: 1.0;\"/><ellipse cx=\"169.5289\" cy=\"263.8929\" fill=\"#383838\" rx=\"2\" ry=\"2\" style=\"stroke: #383838; stroke-width: 1.0;\"/></a><!--MD5=[c2be97adba6ddfe1c8f349fab141c927]\n",
       "link E9 to E4--><a href=\"psysml:f4a7c8b4-50d4-4d21-9428-75951a767795\" target=\"_top\" title=\"psysml:f4a7c8b4-50d4-4d21-9428-75951a767795\" xlink:actuate=\"onRequest\" xlink:href=\"psysml:f4a7c8b4-50d4-4d21-9428-75951a767795\" xlink:show=\"new\" xlink:title=\"psysml:f4a7c8b4-50d4-4d21-9428-75951a767795\" xlink:type=\"simple\"><path d=\"M267.5431,178.2415 C267.5354,178.35 267.5276,178.4585 267.5198,178.5671 C267.3951,180.3034 267.2673,182.0417 267.1366,183.7729 C266.8753,187.2352 266.6025,190.6688 266.32,194 C263.93,222.21 260.49,254.26 257.9,277.18 \" fill=\"none\" id=\"E9-&gt;E4\" style=\"stroke: #383838; stroke-width: 1.0; stroke-dasharray: 7.0,7.0;\"/><polygon fill=\"#383838\" points=\"257.33,282.22,262.3075,273.7215,257.8869,277.2511,254.3572,272.8305,257.33,282.22\" style=\"stroke: #383838; stroke-width: 1.0;\"/><text fill=\"#000000\" font-family=\"sans-serif\" font-size=\"13\" lengthAdjust=\"spacingAndGlyphs\" textLength=\"65\" x=\"266.32\" y=\"215.0669\">«import»*</text></a><!--MD5=[feeac5eb423634930294aa81f2d25a4c]\n",
       "link E10 to E3--><a href=\"psysml:ff7299d7-bc25-43a3-abcf-daa45aa95a4b\" target=\"_top\" title=\"psysml:ff7299d7-bc25-43a3-abcf-daa45aa95a4b\" xlink:actuate=\"onRequest\" xlink:href=\"psysml:ff7299d7-bc25-43a3-abcf-daa45aa95a4b\" xlink:show=\"new\" xlink:title=\"psysml:ff7299d7-bc25-43a3-abcf-daa45aa95a4b\" xlink:type=\"simple\"><path d=\"M345.63,154.11 C359.77,173.07 373.99,200.22 358.32,219 C345.58,234.26 327.2,211.86 314.32,227 C300.64,243.07 304.33,374.79 307.28,443.95 \" fill=\"none\" id=\"E10-&gt;E3\" style=\"stroke: #383838; stroke-width: 1.0;\"/><polygon fill=\"#FFFFFF\" points=\"308.18,463.98,300.3317,445.3144,314.3175,444.6841,308.18,463.98\" style=\"stroke: #383838; stroke-width: 1.0;\"/><ellipse cx=\"302.0731\" cy=\"439.5301\" fill=\"#383838\" rx=\"2\" ry=\"2\" style=\"stroke: #383838; stroke-width: 1.0;\"/><ellipse cx=\"312.063\" cy=\"439.0799\" fill=\"#383838\" rx=\"2\" ry=\"2\" style=\"stroke: #383838; stroke-width: 1.0;\"/></a><!--MD5=[b47e25fd941625c3005f5ffeaac9b339]\n",
       "@startuml\r\n",
       " skinparam monochrome true\r\n",
       "skinparam classbackgroundcolor white\r\n",
       "skinparam shadowing false\r\n",
       "skinparam wrapWidth 300\r\n",
       "hide circle\r\n",
       "\r\n",
       "package \"PrivateImportTest\" as E1  [[psysml:8f933ba8-0ed5-4db5-b82c-58b1e568922b ]]  {\r\n",
       "package \"P1\" as E2  [[psysml:dc5a646f-7a70-4bb5-8a84-dd766b7ca58f ]]  {\r\n",
       "comp def \"A\" as E3  <<(T,blue) part  def>> [[psysml:e52e2a8f-f908-40ce-88b1-6459229e6290 ]] {\r\n",
       "}\r\n",
       "}\r\n",
       "package \"P2\" as E4  [[psysml:b07c7c49-60b3-45d9-ab30-3f9ccb4621b1 ]]  {\r\n",
       "}\r\n",
       "comp usage \"x: A \" as E5  <<(T,blue) part>> [[psysml:ae255e73-333e-4dec-b11e-e996fbedcc54 ]] {\r\n",
       "}\r\n",
       "package \"P3\" as E6  [[psysml:61bbaf9b-44aa-4d19-b1af-9f0be63c5dc6 ]]  {\r\n",
       "comp def \"B\" as E7  <<(T,blue) part  def>> [[psysml:f5eaf228-c184-457d-ba82-3236315ba9d3 ]] {\r\n",
       "}\r\n",
       "}\r\n",
       "comp usage \"z: B \" as E8  <<(T,blue) part>> [[psysml:3c42eaa7-d0d8-4753-a2b8-0968c7baa502 ]] {\r\n",
       "}\r\n",
       "package \"P4\" as E9  [[psysml:826bc35a-2948-4f0f-ac57-a46abe90dd77 ]]  {\r\n",
       "comp usage \"z1: A \" as E10  <<(T,blue) part>> [[psysml:bd10993a-8e6e-4149-83fc-2dc02c68e6fc ]] {\r\n",
       "}\r\n",
       "}\r\n",
       "}\r\n",
       "E4 ..> E2 [[psysml:9c76a3dc-4160-42f2-8d03-f28cee99dd8d ]] : <<import>>*\r\n",
       "E5 - -:|> E3 [[psysml:7e781afb-bb69-45b4-99ca-abeca0fc5181 ]] \r\n",
       "E1 ..> E4 [[psysml:3abfa817-381d-4c68-8935-6fa98a0aa2e6 ]] : <<import>>*\r\n",
       "E1 ..> E6 [[psysml:38071c17-dcc7-47a2-931c-5199b5c10531 ]] : <<import>>*\r\n",
       "E8 - -:|> E7 [[psysml:84039e37-6732-4e81-a24d-af568a8fc4d2 ]] \r\n",
       "E9 ..> E4 [[psysml:f4a7c8b4-50d4-4d21-9428-75951a767795 ]] : <<import>>*\r\n",
       "E10 - -:|> E3 [[psysml:ff7299d7-bc25-43a3-abcf-daa45aa95a4b ]] \r\n",
       "@enduml\r\n",
       "\n",
       "PlantUML version 1.2020.13(Sat Jun 13 12:26:38 UTC 2020)\n",
       "(EPL source distribution)\n",
       "Java Runtime: OpenJDK Runtime Environment\n",
       "JVM: OpenJDK 64-Bit Server VM\n",
       "Default Encoding: UTF-8\n",
       "Language: en\n",
       "Country: null\n",
       "--></g></svg>"
      ]
     },
     "execution_count": 2,
     "metadata": {},
     "output_type": "execute_result"
    }
   ],
   "source": [
    "%viz --style=\"COMPTREE\" --view=\"Default\" \"PrivateImportTest\""
   ]
  },
  {
   "cell_type": "code",
   "execution_count": 3,
   "id": "8887a0bd",
   "metadata": {
    "execution": {
     "iopub.execute_input": "2022-08-19T08:19:15.809631Z",
     "iopub.status.busy": "2022-08-19T08:19:15.809123Z",
     "iopub.status.idle": "2022-08-19T08:19:15.878706Z",
     "shell.execute_reply": "2022-08-19T08:19:15.879049Z"
    }
   },
   "outputs": [
    {
     "data": {
      "image/svg+xml": [
       "<?xml version=\"1.0\" encoding=\"UTF-8\" standalone=\"no\"?><svg xmlns=\"http://www.w3.org/2000/svg\" xmlns:xlink=\"http://www.w3.org/1999/xlink\" contentScriptType=\"application/ecmascript\" contentStyleType=\"text/css\" height=\"586px\" preserveAspectRatio=\"none\" style=\"width:433px;height:586px;\" version=\"1.1\" viewBox=\"0 0 433 586\" width=\"433px\" zoomAndPan=\"magnify\"><defs/><g><!--MD5=[fbc87193dbaf4d95561dea2c320d4a47]\n",
       "cluster E1--><a href=\"psysml:8f933ba8-0ed5-4db5-b82c-58b1e568922b\" target=\"_top\" title=\"psysml:8f933ba8-0ed5-4db5-b82c-58b1e568922b\" xlink:actuate=\"onRequest\" xlink:href=\"psysml:8f933ba8-0ed5-4db5-b82c-58b1e568922b\" xlink:show=\"new\" xlink:title=\"psysml:8f933ba8-0ed5-4db5-b82c-58b1e568922b\" xlink:type=\"simple\"><polygon fill=\"#FFFFFF\" points=\"26.32,6,153.32,6,160.32,28.2969,411.32,28.2969,411.32,574,26.32,574,26.32,6\" style=\"stroke: #000000; stroke-width: 1.5;\"/><line style=\"stroke: #000000; stroke-width: 1.5;\" x1=\"26.32\" x2=\"160.32\" y1=\"28.2969\" y2=\"28.2969\"/><text fill=\"#000000\" font-family=\"sans-serif\" font-size=\"14\" font-weight=\"bold\" lengthAdjust=\"spacingAndGlyphs\" textLength=\"121\" x=\"30.32\" y=\"20.9951\">PrivateImportTest</text></a><!--MD5=[e4f7fae6ed58524ba242bb0b0d3be6b7]\n",
       "cluster E2--><a href=\"psysml:dc5a646f-7a70-4bb5-8a84-dd766b7ca58f\" target=\"_top\" title=\"psysml:dc5a646f-7a70-4bb5-8a84-dd766b7ca58f\" xlink:actuate=\"onRequest\" xlink:href=\"psysml:dc5a646f-7a70-4bb5-8a84-dd766b7ca58f\" xlink:show=\"new\" xlink:title=\"psysml:dc5a646f-7a70-4bb5-8a84-dd766b7ca58f\" xlink:type=\"simple\"><polygon fill=\"#FFFFFF\" points=\"231.32,421,255.32,421,262.32,443.2969,368.32,443.2969,368.32,534,231.32,534,231.32,421\" style=\"stroke: #000000; stroke-width: 1.5;\"/><line style=\"stroke: #000000; stroke-width: 1.5;\" x1=\"231.32\" x2=\"262.32\" y1=\"443.2969\" y2=\"443.2969\"/><text fill=\"#000000\" font-family=\"sans-serif\" font-size=\"14\" font-weight=\"bold\" lengthAdjust=\"spacingAndGlyphs\" textLength=\"18\" x=\"235.32\" y=\"435.9951\">P1</text></a><!--MD5=[14e3b0961a2654348d326746436168a1]\n",
       "cluster E6--><a href=\"psysml:61bbaf9b-44aa-4d19-b1af-9f0be63c5dc6\" target=\"_top\" title=\"psysml:61bbaf9b-44aa-4d19-b1af-9f0be63c5dc6\" xlink:actuate=\"onRequest\" xlink:href=\"psysml:61bbaf9b-44aa-4d19-b1af-9f0be63c5dc6\" xlink:show=\"new\" xlink:title=\"psysml:61bbaf9b-44aa-4d19-b1af-9f0be63c5dc6\" xlink:type=\"simple\"><polygon fill=\"#FFFFFF\" points=\"74.32,243,98.32,243,105.32,265.2969,211.32,265.2969,211.32,356,74.32,356,74.32,243\" style=\"stroke: #000000; stroke-width: 1.5;\"/><line style=\"stroke: #000000; stroke-width: 1.5;\" x1=\"74.32\" x2=\"105.32\" y1=\"265.2969\" y2=\"265.2969\"/><text fill=\"#000000\" font-family=\"sans-serif\" font-size=\"14\" font-weight=\"bold\" lengthAdjust=\"spacingAndGlyphs\" textLength=\"18\" x=\"78.32\" y=\"257.9951\">P3</text></a><!--MD5=[7f149f147074ac12df2cb0a7728a5fb0]\n",
       "cluster E9--><a href=\"psysml:826bc35a-2948-4f0f-ac57-a46abe90dd77\" target=\"_top\" title=\"psysml:826bc35a-2948-4f0f-ac57-a46abe90dd77\" xlink:actuate=\"onRequest\" xlink:href=\"psysml:826bc35a-2948-4f0f-ac57-a46abe90dd77\" xlink:show=\"new\" xlink:title=\"psysml:826bc35a-2948-4f0f-ac57-a46abe90dd77\" xlink:type=\"simple\"><polygon fill=\"#FFFFFF\" points=\"262.32,65,286.32,65,293.32,87.2969,371.32,87.2969,371.32,178,262.32,178,262.32,65\" style=\"stroke: #000000; stroke-width: 1.5;\"/><line style=\"stroke: #000000; stroke-width: 1.5;\" x1=\"262.32\" x2=\"293.32\" y1=\"87.2969\" y2=\"87.2969\"/><text fill=\"#000000\" font-family=\"sans-serif\" font-size=\"14\" font-weight=\"bold\" lengthAdjust=\"spacingAndGlyphs\" textLength=\"18\" x=\"266.32\" y=\"79.9951\">P4</text></a><!--MD5=[270fce915f116d4de14055a7c1d9a0f3]\n",
       "class E5--><a href=\"psysml:ae255e73-333e-4dec-b11e-e996fbedcc54\" target=\"_top\" title=\"psysml:ae255e73-333e-4dec-b11e-e996fbedcc54\" xlink:actuate=\"onRequest\" xlink:href=\"psysml:ae255e73-333e-4dec-b11e-e996fbedcc54\" xlink:show=\"new\" xlink:title=\"psysml:ae255e73-333e-4dec-b11e-e996fbedcc54\" xlink:type=\"simple\"><rect fill=\"#FFFFFF\" height=\"45.9375\" id=\"E5\" rx=\"10\" ry=\"10\" style=\"stroke: #383838; stroke-width: 1.5;\" width=\"42\" x=\"345.32\" y=\"286\"/><text fill=\"#000000\" font-family=\"sans-serif\" font-size=\"12\" font-style=\"italic\" lengthAdjust=\"spacingAndGlyphs\" textLength=\"40\" x=\"346.32\" y=\"302.1387\">«part»</text><text fill=\"#000000\" font-family=\"sans-serif\" font-size=\"12\" lengthAdjust=\"spacingAndGlyphs\" textLength=\"22\" x=\"353.32\" y=\"316.1074\">x: A</text><line style=\"stroke: #383838; stroke-width: 1.5;\" x1=\"346.32\" x2=\"386.32\" y1=\"323.9375\" y2=\"323.9375\"/></a><!--MD5=[b9389687b975829384b498ac4b7476b2]\n",
       "class E8--><a href=\"psysml:3c42eaa7-d0d8-4753-a2b8-0968c7baa502\" target=\"_top\" title=\"psysml:3c42eaa7-d0d8-4753-a2b8-0968c7baa502\" xlink:actuate=\"onRequest\" xlink:href=\"psysml:3c42eaa7-d0d8-4753-a2b8-0968c7baa502\" xlink:show=\"new\" xlink:title=\"psysml:3c42eaa7-d0d8-4753-a2b8-0968c7baa502\" xlink:type=\"simple\"><rect fill=\"#FFFFFF\" height=\"45.9375\" id=\"E8\" rx=\"10\" ry=\"10\" style=\"stroke: #383838; stroke-width: 1.5;\" width=\"42\" x=\"193.32\" y=\"108\"/><text fill=\"#000000\" font-family=\"sans-serif\" font-size=\"12\" font-style=\"italic\" lengthAdjust=\"spacingAndGlyphs\" textLength=\"40\" x=\"194.32\" y=\"124.1387\">«part»</text><text fill=\"#000000\" font-family=\"sans-serif\" font-size=\"12\" lengthAdjust=\"spacingAndGlyphs\" textLength=\"21\" x=\"201.82\" y=\"138.1074\">z: B</text><line style=\"stroke: #383838; stroke-width: 1.5;\" x1=\"194.32\" x2=\"234.32\" y1=\"145.9375\" y2=\"145.9375\"/></a><!--MD5=[09b614a08d8cba4a07c9adeb5e0fee81]\n",
       "class E3--><a href=\"psysml:e52e2a8f-f908-40ce-88b1-6459229e6290\" target=\"_top\" title=\"psysml:e52e2a8f-f908-40ce-88b1-6459229e6290\" xlink:actuate=\"onRequest\" xlink:href=\"psysml:e52e2a8f-f908-40ce-88b1-6459229e6290\" xlink:show=\"new\" xlink:title=\"psysml:e52e2a8f-f908-40ce-88b1-6459229e6290\" xlink:type=\"simple\"><rect fill=\"#FFFFFF\" height=\"45.9375\" id=\"E3\" style=\"stroke: #383838; stroke-width: 1.5;\" width=\"70\" x=\"274.32\" y=\"464\"/><text fill=\"#000000\" font-family=\"sans-serif\" font-size=\"12\" font-style=\"italic\" lengthAdjust=\"spacingAndGlyphs\" textLength=\"68\" x=\"275.32\" y=\"480.1387\">«part  def»</text><text fill=\"#000000\" font-family=\"sans-serif\" font-size=\"12\" lengthAdjust=\"spacingAndGlyphs\" textLength=\"8\" x=\"305.32\" y=\"494.1074\">A</text><line style=\"stroke: #383838; stroke-width: 1.5;\" x1=\"275.32\" x2=\"343.32\" y1=\"501.9375\" y2=\"501.9375\"/></a><a href=\"psysml:b07c7c49-60b3-45d9-ab30-3f9ccb4621b1\" target=\"_top\" title=\"psysml:b07c7c49-60b3-45d9-ab30-3f9ccb4621b1\" xlink:actuate=\"onRequest\" xlink:href=\"psysml:b07c7c49-60b3-45d9-ab30-3f9ccb4621b1\" xlink:show=\"new\" xlink:title=\"psysml:b07c7c49-60b3-45d9-ab30-3f9ccb4621b1\" xlink:type=\"simple\"><polygon fill=\"#FFFFFF\" points=\"235.32,282.5,259.32,282.5,266.32,304.7969,273.32,304.7969,273.32,335.0938,235.32,335.0938,235.32,282.5\" style=\"stroke: #000000; stroke-width: 1.5;\"/><line style=\"stroke: #000000; stroke-width: 1.5;\" x1=\"235.32\" x2=\"266.32\" y1=\"304.7969\" y2=\"304.7969\"/><text fill=\"#000000\" font-family=\"sans-serif\" font-size=\"14\" font-weight=\"bold\" lengthAdjust=\"spacingAndGlyphs\" textLength=\"18\" x=\"239.32\" y=\"297.4951\">P2</text></a><!--MD5=[2156ba9850f5573cc1fc38a6a4b2f02b]\n",
       "class E7--><a href=\"psysml:f5eaf228-c184-457d-ba82-3236315ba9d3\" target=\"_top\" title=\"psysml:f5eaf228-c184-457d-ba82-3236315ba9d3\" xlink:actuate=\"onRequest\" xlink:href=\"psysml:f5eaf228-c184-457d-ba82-3236315ba9d3\" xlink:show=\"new\" xlink:title=\"psysml:f5eaf228-c184-457d-ba82-3236315ba9d3\" xlink:type=\"simple\"><rect fill=\"#FFFFFF\" height=\"45.9375\" id=\"E7\" style=\"stroke: #383838; stroke-width: 1.5;\" width=\"70\" x=\"117.32\" y=\"286\"/><text fill=\"#000000\" font-family=\"sans-serif\" font-size=\"12\" font-style=\"italic\" lengthAdjust=\"spacingAndGlyphs\" textLength=\"68\" x=\"118.32\" y=\"302.1387\">«part  def»</text><text fill=\"#000000\" font-family=\"sans-serif\" font-size=\"12\" lengthAdjust=\"spacingAndGlyphs\" textLength=\"8\" x=\"148.32\" y=\"316.1074\">B</text><line style=\"stroke: #383838; stroke-width: 1.5;\" x1=\"118.32\" x2=\"186.32\" y1=\"323.9375\" y2=\"323.9375\"/></a><!--MD5=[96f4274e9e20536e775497830990834d]\n",
       "class E10--><a href=\"psysml:bd10993a-8e6e-4149-83fc-2dc02c68e6fc\" target=\"_top\" title=\"psysml:bd10993a-8e6e-4149-83fc-2dc02c68e6fc\" xlink:actuate=\"onRequest\" xlink:href=\"psysml:bd10993a-8e6e-4149-83fc-2dc02c68e6fc\" xlink:show=\"new\" xlink:title=\"psysml:bd10993a-8e6e-4149-83fc-2dc02c68e6fc\" xlink:type=\"simple\"><rect fill=\"#FFFFFF\" height=\"45.9375\" id=\"E10\" rx=\"10\" ry=\"10\" style=\"stroke: #383838; stroke-width: 1.5;\" width=\"42\" x=\"305.32\" y=\"108\"/><text fill=\"#000000\" font-family=\"sans-serif\" font-size=\"12\" font-style=\"italic\" lengthAdjust=\"spacingAndGlyphs\" textLength=\"40\" x=\"306.32\" y=\"124.1387\">«part»</text><text fill=\"#000000\" font-family=\"sans-serif\" font-size=\"12\" lengthAdjust=\"spacingAndGlyphs\" textLength=\"29\" x=\"309.82\" y=\"138.1074\">z1: A</text><line style=\"stroke: #383838; stroke-width: 1.5;\" x1=\"306.32\" x2=\"346.32\" y1=\"145.9375\" y2=\"145.9375\"/></a><!--MD5=[185131fc0dcab0a4505a2ebe144e961b]\n",
       "link E4 to E2--><a href=\"psysml:9c76a3dc-4160-42f2-8d03-f28cee99dd8d\" target=\"_top\" title=\"psysml:9c76a3dc-4160-42f2-8d03-f28cee99dd8d\" xlink:actuate=\"onRequest\" xlink:href=\"psysml:9c76a3dc-4160-42f2-8d03-f28cee99dd8d\" xlink:show=\"new\" xlink:title=\"psysml:9c76a3dc-4160-42f2-8d03-f28cee99dd8d\" xlink:type=\"simple\"><path d=\"M244.71,335.52 C240.28,348.61 235.53,364.94 233.32,380 C231.6325,391.49 231.1388,403.7444 231.3534,415.6911 C231.3803,417.1844 231.4182,418.673 231.4662,420.1546 C231.4722,420.3398 231.4784,420.5249 231.4847,420.7099 \" fill=\"none\" id=\"E4-&gt;E2\" style=\"stroke: #383838; stroke-width: 1.0; stroke-dasharray: 7.0,7.0;\"/><polygon fill=\"#383838\" points=\"231.4847,420.7099,235.1752,411.5786,231.314,415.7128,227.1798,411.8517,231.4847,420.7099\" style=\"stroke: #383838; stroke-width: 1.0;\"/><text fill=\"#000000\" font-family=\"sans-serif\" font-size=\"13\" lengthAdjust=\"spacingAndGlyphs\" textLength=\"65\" x=\"234.32\" y=\"393.0669\">«import»*</text></a><!--MD5=[e9be52314489bd878ff4c7144b63c9e1]\n",
       "link E5 to E3--><a href=\"psysml:7e781afb-bb69-45b4-99ca-abeca0fc5181\" target=\"_top\" title=\"psysml:7e781afb-bb69-45b4-99ca-abeca0fc5181\" xlink:actuate=\"onRequest\" xlink:href=\"psysml:7e781afb-bb69-45b4-99ca-abeca0fc5181\" xlink:show=\"new\" xlink:title=\"psysml:7e781afb-bb69-45b4-99ca-abeca0fc5181\" xlink:type=\"simple\"><path d=\"M359.1,332.29 C349.98,360.46 334.1,409.49 322.72,444.61 \" fill=\"none\" id=\"E5-&gt;E3\" style=\"stroke: #383838; stroke-width: 1.0;\"/><polygon fill=\"#FFFFFF\" points=\"316.48,463.89,315.6693,443.6578,328.9893,447.9678,316.48,463.89\" style=\"stroke: #383838; stroke-width: 1.0;\"/><ellipse cx=\"319.3269\" cy=\"438.8503\" fill=\"#383838\" rx=\"2\" ry=\"2\" style=\"stroke: #383838; stroke-width: 1.0;\"/><ellipse cx=\"328.8413\" cy=\"441.9289\" fill=\"#383838\" rx=\"2\" ry=\"2\" style=\"stroke: #383838; stroke-width: 1.0;\"/></a><!--MD5=[ee384bb554873b72f85793eae40e290c]\n",
       "link E1 to E4--><a href=\"psysml:3abfa817-381d-4c68-8935-6fa98a0aa2e6\" target=\"_top\" title=\"psysml:3abfa817-381d-4c68-8935-6fa98a0aa2e6\" xlink:actuate=\"onRequest\" xlink:href=\"psysml:3abfa817-381d-4c68-8935-6fa98a0aa2e6\" xlink:show=\"new\" xlink:title=\"psysml:3abfa817-381d-4c68-8935-6fa98a0aa2e6\" xlink:type=\"simple\"><path d=\"M34.29,132.12 C33.65,134.6 23.75,174.52 42.32,194 C49.33,201.35 77.35,200.04 87.32,202 C113.19,207.09 181.71,211.88 203.32,227 C220.99,239.37 233.85,260.02 242.24,277.37 \" fill=\"none\" id=\"E1-&gt;E4\" style=\"stroke: #383838; stroke-width: 1.0; stroke-dasharray: 7.0,7.0;\"/><polygon fill=\"#383838\" points=\"244.49,282.17,244.3071,272.3228,242.3748,277.6394,237.0582,275.7072,244.49,282.17\" style=\"stroke: #383838; stroke-width: 1.0;\"/><text fill=\"#000000\" font-family=\"sans-serif\" font-size=\"13\" lengthAdjust=\"spacingAndGlyphs\" textLength=\"65\" x=\"183.32\" y=\"215.0669\">«import»*</text></a><!--MD5=[ccbd3af71bf83df0ec2a2db62d6d7130]\n",
       "link E1 to E6--><a href=\"psysml:38071c17-dcc7-47a2-931c-5199b5c10531\" target=\"_top\" title=\"psysml:38071c17-dcc7-47a2-931c-5199b5c10531\" xlink:actuate=\"onRequest\" xlink:href=\"psysml:38071c17-dcc7-47a2-931c-5199b5c10531\" xlink:show=\"new\" xlink:title=\"psysml:38071c17-dcc7-47a2-931c-5199b5c10531\" xlink:type=\"simple\"><path d=\"M26.1693,145.3513 C26.1165,145.4477 26.0635,145.5445 26.0105,145.6418 C25.9044,145.8363 25.7978,146.0325 25.6908,146.2304 C24.8349,147.8133 23.9523,149.5023 23.0614,151.284 C21.2797,154.8473 19.465,158.7813 17.765,162.9775 C10.965,179.7625 6,200.745 12.32,219 C20.295,242.035 36.9675,263.635 52.0413,279.7863 C59.5781,287.8619 66.7153,294.5753 72.1658,299.4248 C72.8471,300.031 73.502,300.6081 74.1281,301.1551 \" fill=\"none\" id=\"E1-&gt;E6\" style=\"stroke: #383838; stroke-width: 1.0; stroke-dasharray: 7.0,7.0;\"/><polygon fill=\"#383838\" points=\"74.1281,301.1551,69.982,292.2214,70.3627,297.8655,64.7187,298.2462,74.1281,301.1551\" style=\"stroke: #383838; stroke-width: 1.0;\"/><text fill=\"#000000\" font-family=\"sans-serif\" font-size=\"13\" lengthAdjust=\"spacingAndGlyphs\" textLength=\"65\" x=\"13.32\" y=\"215.0669\">«import»*</text></a><!--MD5=[bfa3c8b0d15052fdf50ae9310b491027]\n",
       "link E8 to E7--><a href=\"psysml:84039e37-6732-4e81-a24d-af568a8fc4d2\" target=\"_top\" title=\"psysml:84039e37-6732-4e81-a24d-af568a8fc4d2\" xlink:actuate=\"onRequest\" xlink:href=\"psysml:84039e37-6732-4e81-a24d-af568a8fc4d2\" xlink:show=\"new\" xlink:title=\"psysml:84039e37-6732-4e81-a24d-af568a8fc4d2\" xlink:type=\"simple\"><path d=\"M232.99,154.29 C246.61,173.37 260.16,200.59 244.32,219 C228.78,237.06 210.49,212.85 191.32,227 C178.2,236.69 169.29,251.96 163.34,266.65 \" fill=\"none\" id=\"E8-&gt;E7\" style=\"stroke: #383838; stroke-width: 1.0;\"/><polygon fill=\"#FFFFFF\" points=\"156.95,285.73,156.3404,265.4907,169.617,269.9329,156.95,285.73\" style=\"stroke: #383838; stroke-width: 1.0;\"/><ellipse cx=\"160.0457\" cy=\"260.7199\" fill=\"#383838\" rx=\"2\" ry=\"2\" style=\"stroke: #383838; stroke-width: 1.0;\"/><ellipse cx=\"169.5289\" cy=\"263.8929\" fill=\"#383838\" rx=\"2\" ry=\"2\" style=\"stroke: #383838; stroke-width: 1.0;\"/></a><!--MD5=[c2be97adba6ddfe1c8f349fab141c927]\n",
       "link E9 to E4--><a href=\"psysml:f4a7c8b4-50d4-4d21-9428-75951a767795\" target=\"_top\" title=\"psysml:f4a7c8b4-50d4-4d21-9428-75951a767795\" xlink:actuate=\"onRequest\" xlink:href=\"psysml:f4a7c8b4-50d4-4d21-9428-75951a767795\" xlink:show=\"new\" xlink:title=\"psysml:f4a7c8b4-50d4-4d21-9428-75951a767795\" xlink:type=\"simple\"><path d=\"M267.5431,178.2415 C267.5354,178.35 267.5276,178.4585 267.5198,178.5671 C267.3951,180.3034 267.2673,182.0417 267.1366,183.7729 C266.8753,187.2352 266.6025,190.6688 266.32,194 C263.93,222.21 260.49,254.26 257.9,277.18 \" fill=\"none\" id=\"E9-&gt;E4\" style=\"stroke: #383838; stroke-width: 1.0; stroke-dasharray: 7.0,7.0;\"/><polygon fill=\"#383838\" points=\"257.33,282.22,262.3075,273.7215,257.8869,277.2511,254.3572,272.8305,257.33,282.22\" style=\"stroke: #383838; stroke-width: 1.0;\"/><text fill=\"#000000\" font-family=\"sans-serif\" font-size=\"13\" lengthAdjust=\"spacingAndGlyphs\" textLength=\"65\" x=\"266.32\" y=\"215.0669\">«import»*</text></a><!--MD5=[feeac5eb423634930294aa81f2d25a4c]\n",
       "link E10 to E3--><a href=\"psysml:ff7299d7-bc25-43a3-abcf-daa45aa95a4b\" target=\"_top\" title=\"psysml:ff7299d7-bc25-43a3-abcf-daa45aa95a4b\" xlink:actuate=\"onRequest\" xlink:href=\"psysml:ff7299d7-bc25-43a3-abcf-daa45aa95a4b\" xlink:show=\"new\" xlink:title=\"psysml:ff7299d7-bc25-43a3-abcf-daa45aa95a4b\" xlink:type=\"simple\"><path d=\"M345.63,154.11 C359.77,173.07 373.99,200.22 358.32,219 C345.58,234.26 327.2,211.86 314.32,227 C300.64,243.07 304.33,374.79 307.28,443.95 \" fill=\"none\" id=\"E10-&gt;E3\" style=\"stroke: #383838; stroke-width: 1.0;\"/><polygon fill=\"#FFFFFF\" points=\"308.18,463.98,300.3317,445.3144,314.3175,444.6841,308.18,463.98\" style=\"stroke: #383838; stroke-width: 1.0;\"/><ellipse cx=\"302.0731\" cy=\"439.5301\" fill=\"#383838\" rx=\"2\" ry=\"2\" style=\"stroke: #383838; stroke-width: 1.0;\"/><ellipse cx=\"312.063\" cy=\"439.0799\" fill=\"#383838\" rx=\"2\" ry=\"2\" style=\"stroke: #383838; stroke-width: 1.0;\"/></a><!--MD5=[b47e25fd941625c3005f5ffeaac9b339]\n",
       "@startuml\r\n",
       " skinparam monochrome true\r\n",
       "skinparam classbackgroundcolor white\r\n",
       "skinparam shadowing false\r\n",
       "skinparam wrapWidth 300\r\n",
       "hide circle\r\n",
       "\r\n",
       "package \"PrivateImportTest\" as E1  [[psysml:8f933ba8-0ed5-4db5-b82c-58b1e568922b ]]  {\r\n",
       "package \"P1\" as E2  [[psysml:dc5a646f-7a70-4bb5-8a84-dd766b7ca58f ]]  {\r\n",
       "comp def \"A\" as E3  <<(T,blue) part  def>> [[psysml:e52e2a8f-f908-40ce-88b1-6459229e6290 ]] {\r\n",
       "}\r\n",
       "}\r\n",
       "package \"P2\" as E4  [[psysml:b07c7c49-60b3-45d9-ab30-3f9ccb4621b1 ]]  {\r\n",
       "}\r\n",
       "comp usage \"x: A \" as E5  <<(T,blue) part>> [[psysml:ae255e73-333e-4dec-b11e-e996fbedcc54 ]] {\r\n",
       "}\r\n",
       "package \"P3\" as E6  [[psysml:61bbaf9b-44aa-4d19-b1af-9f0be63c5dc6 ]]  {\r\n",
       "comp def \"B\" as E7  <<(T,blue) part  def>> [[psysml:f5eaf228-c184-457d-ba82-3236315ba9d3 ]] {\r\n",
       "}\r\n",
       "}\r\n",
       "comp usage \"z: B \" as E8  <<(T,blue) part>> [[psysml:3c42eaa7-d0d8-4753-a2b8-0968c7baa502 ]] {\r\n",
       "}\r\n",
       "package \"P4\" as E9  [[psysml:826bc35a-2948-4f0f-ac57-a46abe90dd77 ]]  {\r\n",
       "comp usage \"z1: A \" as E10  <<(T,blue) part>> [[psysml:bd10993a-8e6e-4149-83fc-2dc02c68e6fc ]] {\r\n",
       "}\r\n",
       "}\r\n",
       "}\r\n",
       "E4 ..> E2 [[psysml:9c76a3dc-4160-42f2-8d03-f28cee99dd8d ]] : <<import>>*\r\n",
       "E5 - -:|> E3 [[psysml:7e781afb-bb69-45b4-99ca-abeca0fc5181 ]] \r\n",
       "E1 ..> E4 [[psysml:3abfa817-381d-4c68-8935-6fa98a0aa2e6 ]] : <<import>>*\r\n",
       "E1 ..> E6 [[psysml:38071c17-dcc7-47a2-931c-5199b5c10531 ]] : <<import>>*\r\n",
       "E8 - -:|> E7 [[psysml:84039e37-6732-4e81-a24d-af568a8fc4d2 ]] \r\n",
       "E9 ..> E4 [[psysml:f4a7c8b4-50d4-4d21-9428-75951a767795 ]] : <<import>>*\r\n",
       "E10 - -:|> E3 [[psysml:ff7299d7-bc25-43a3-abcf-daa45aa95a4b ]] \r\n",
       "@enduml\r\n",
       "\n",
       "PlantUML version 1.2020.13(Sat Jun 13 12:26:38 UTC 2020)\n",
       "(EPL source distribution)\n",
       "Java Runtime: OpenJDK Runtime Environment\n",
       "JVM: OpenJDK 64-Bit Server VM\n",
       "Default Encoding: UTF-8\n",
       "Language: en\n",
       "Country: null\n",
       "--></g></svg>"
      ]
     },
     "execution_count": 3,
     "metadata": {},
     "output_type": "execute_result"
    }
   ],
   "source": [
    "%viz --style=\"COMPTREE\" --view=\"Tree\" \"PrivateImportTest\""
   ]
  },
  {
   "cell_type": "code",
   "execution_count": 4,
   "id": "18507215",
   "metadata": {
    "execution": {
     "iopub.execute_input": "2022-08-19T08:19:15.929080Z",
     "iopub.status.busy": "2022-08-19T08:19:15.928598Z",
     "iopub.status.idle": "2022-08-19T08:19:15.936678Z",
     "shell.execute_reply": "2022-08-19T08:19:15.937007Z"
    }
   },
   "outputs": [
    {
     "data": {
      "image/svg+xml": [
       "<?xml version=\"1.0\" encoding=\"UTF-8\" standalone=\"no\"?><svg xmlns=\"http://www.w3.org/2000/svg\" xmlns:xlink=\"http://www.w3.org/1999/xlink\" contentScriptType=\"application/ecmascript\" contentStyleType=\"text/css\" height=\"12px\" preserveAspectRatio=\"none\" style=\"width:12px;height:12px;\" version=\"1.1\" viewBox=\"0 0 12 12\" width=\"12px\" zoomAndPan=\"magnify\"><defs/><g><!--MD5=[f19188ef49e11757b5c46753f95d9edc]\n",
       "@startuml\r\n",
       " skinparam monochrome true\r\n",
       "skinparam classbackgroundcolor white\r\n",
       "skinparam shadowing false\r\n",
       "skinparam wrapWidth 300\r\n",
       "hide circle\r\n",
       "\r\n",
       "@enduml\r\n",
       "\n",
       "PlantUML version 1.2020.13(Sat Jun 13 12:26:38 UTC 2020)\n",
       "(EPL source distribution)\n",
       "Java Runtime: OpenJDK Runtime Environment\n",
       "JVM: OpenJDK 64-Bit Server VM\n",
       "Default Encoding: UTF-8\n",
       "Language: en\n",
       "Country: null\n",
       "--></g></svg>"
      ]
     },
     "execution_count": 4,
     "metadata": {},
     "output_type": "execute_result"
    }
   ],
   "source": [
    "%viz --style=\"COMPTREE\" --view=\"State\" \"PrivateImportTest\""
   ]
  },
  {
   "cell_type": "code",
   "execution_count": 5,
   "id": "6af56399",
   "metadata": {
    "execution": {
     "iopub.execute_input": "2022-08-19T08:19:15.987339Z",
     "iopub.status.busy": "2022-08-19T08:19:15.986872Z",
     "iopub.status.idle": "2022-08-19T08:19:16.048055Z",
     "shell.execute_reply": "2022-08-19T08:19:16.048365Z"
    }
   },
   "outputs": [
    {
     "data": {
      "image/svg+xml": [
       "<?xml version=\"1.0\" encoding=\"UTF-8\" standalone=\"no\"?><svg xmlns=\"http://www.w3.org/2000/svg\" xmlns:xlink=\"http://www.w3.org/1999/xlink\" contentScriptType=\"application/ecmascript\" contentStyleType=\"text/css\" height=\"574px\" preserveAspectRatio=\"none\" style=\"width:446px;height:574px;\" version=\"1.1\" viewBox=\"0 0 446 574\" width=\"446px\" zoomAndPan=\"magnify\"><defs/><g><!--MD5=[fbc87193dbaf4d95561dea2c320d4a47]\n",
       "cluster E1--><a href=\"psysml:8f933ba8-0ed5-4db5-b82c-58b1e568922b\" target=\"_top\" title=\"psysml:8f933ba8-0ed5-4db5-b82c-58b1e568922b\" xlink:actuate=\"onRequest\" xlink:href=\"psysml:8f933ba8-0ed5-4db5-b82c-58b1e568922b\" xlink:show=\"new\" xlink:title=\"psysml:8f933ba8-0ed5-4db5-b82c-58b1e568922b\" xlink:type=\"simple\"><polygon fill=\"#FFFFFF\" points=\"26.19,6,153.19,6,160.19,28.2969,424.19,28.2969,424.19,562,26.19,562,26.19,6\" style=\"stroke: #000000; stroke-width: 1.5;\"/><line style=\"stroke: #000000; stroke-width: 1.5;\" x1=\"26.19\" x2=\"160.19\" y1=\"28.2969\" y2=\"28.2969\"/><text fill=\"#000000\" font-family=\"sans-serif\" font-size=\"14\" font-weight=\"bold\" lengthAdjust=\"spacingAndGlyphs\" textLength=\"121\" x=\"30.19\" y=\"20.9951\">PrivateImportTest</text></a><!--MD5=[e4f7fae6ed58524ba242bb0b0d3be6b7]\n",
       "cluster E2--><a href=\"psysml:dc5a646f-7a70-4bb5-8a84-dd766b7ca58f\" target=\"_top\" title=\"psysml:dc5a646f-7a70-4bb5-8a84-dd766b7ca58f\" xlink:actuate=\"onRequest\" xlink:href=\"psysml:dc5a646f-7a70-4bb5-8a84-dd766b7ca58f\" xlink:show=\"new\" xlink:title=\"psysml:dc5a646f-7a70-4bb5-8a84-dd766b7ca58f\" xlink:type=\"simple\"><polygon fill=\"#FFFFFF\" points=\"233.19,412,257.19,412,264.19,434.2969,375.19,434.2969,375.19,522,233.19,522,233.19,412\" style=\"stroke: #000000; stroke-width: 1.5;\"/><line style=\"stroke: #000000; stroke-width: 1.5;\" x1=\"233.19\" x2=\"264.19\" y1=\"434.2969\" y2=\"434.2969\"/><text fill=\"#000000\" font-family=\"sans-serif\" font-size=\"14\" font-weight=\"bold\" lengthAdjust=\"spacingAndGlyphs\" textLength=\"18\" x=\"237.19\" y=\"426.9951\">P1</text></a><!--MD5=[14e3b0961a2654348d326746436168a1]\n",
       "cluster E6--><a href=\"psysml:61bbaf9b-44aa-4d19-b1af-9f0be63c5dc6\" target=\"_top\" title=\"psysml:61bbaf9b-44aa-4d19-b1af-9f0be63c5dc6\" xlink:actuate=\"onRequest\" xlink:href=\"psysml:61bbaf9b-44aa-4d19-b1af-9f0be63c5dc6\" xlink:show=\"new\" xlink:title=\"psysml:61bbaf9b-44aa-4d19-b1af-9f0be63c5dc6\" xlink:type=\"simple\"><polygon fill=\"#FFFFFF\" points=\"74.19,237,98.19,237,105.19,259.2969,216.19,259.2969,216.19,347,74.19,347,74.19,237\" style=\"stroke: #000000; stroke-width: 1.5;\"/><line style=\"stroke: #000000; stroke-width: 1.5;\" x1=\"74.19\" x2=\"105.19\" y1=\"259.2969\" y2=\"259.2969\"/><text fill=\"#000000\" font-family=\"sans-serif\" font-size=\"14\" font-weight=\"bold\" lengthAdjust=\"spacingAndGlyphs\" textLength=\"18\" x=\"78.19\" y=\"251.9951\">P3</text></a><!--MD5=[7f149f147074ac12df2cb0a7728a5fb0]\n",
       "cluster E9--><a href=\"psysml:826bc35a-2948-4f0f-ac57-a46abe90dd77\" target=\"_top\" title=\"psysml:826bc35a-2948-4f0f-ac57-a46abe90dd77\" xlink:actuate=\"onRequest\" xlink:href=\"psysml:826bc35a-2948-4f0f-ac57-a46abe90dd77\" xlink:show=\"new\" xlink:title=\"psysml:826bc35a-2948-4f0f-ac57-a46abe90dd77\" xlink:type=\"simple\"><polygon fill=\"#FFFFFF\" points=\"267.19,65,291.19,65,298.19,87.2969,384.19,87.2969,384.19,172,267.19,172,267.19,65\" style=\"stroke: #000000; stroke-width: 1.5;\"/><line style=\"stroke: #000000; stroke-width: 1.5;\" x1=\"267.19\" x2=\"298.19\" y1=\"87.2969\" y2=\"87.2969\"/><text fill=\"#000000\" font-family=\"sans-serif\" font-size=\"14\" font-weight=\"bold\" lengthAdjust=\"spacingAndGlyphs\" textLength=\"18\" x=\"271.19\" y=\"79.9951\">P4</text></a><g id=\"E1.E2.E3\"><a href=\"psysml:e52e2a8f-f908-40ce-88b1-6459229e6290\" target=\"_top\" title=\"psysml:e52e2a8f-f908-40ce-88b1-6459229e6290\" xlink:actuate=\"onRequest\" xlink:href=\"psysml:e52e2a8f-f908-40ce-88b1-6459229e6290\" xlink:show=\"new\" xlink:title=\"psysml:e52e2a8f-f908-40ce-88b1-6459229e6290\" xlink:type=\"simple\"><rect fill=\"#FFFFFF\" height=\"42.9375\" id=\"E3\" style=\"stroke: #383838; stroke-width: 1.5;\" width=\"75\" x=\"276.69\" y=\"455\"/><rect fill=\"#F8F8F8\" height=\"37.9375\" style=\"stroke: #383838; stroke-width: 1.5;\" width=\"75\" x=\"276.69\" y=\"455\"/><text fill=\"#000000\" font-family=\"sans-serif\" font-size=\"12\" font-style=\"italic\" lengthAdjust=\"spacingAndGlyphs\" textLength=\"68\" x=\"280.19\" y=\"471.1387\">«part  def»</text><text fill=\"#000000\" font-family=\"sans-serif\" font-size=\"12\" lengthAdjust=\"spacingAndGlyphs\" textLength=\"8\" x=\"310.19\" y=\"485.1074\">A</text></a></g><a href=\"psysml:b07c7c49-60b3-45d9-ab30-3f9ccb4621b1\" target=\"_top\" title=\"psysml:b07c7c49-60b3-45d9-ab30-3f9ccb4621b1\" xlink:actuate=\"onRequest\" xlink:href=\"psysml:b07c7c49-60b3-45d9-ab30-3f9ccb4621b1\" xlink:show=\"new\" xlink:title=\"psysml:b07c7c49-60b3-45d9-ab30-3f9ccb4621b1\" xlink:type=\"simple\"><polygon fill=\"#FFFFFF\" points=\"240.19,275,264.19,275,271.19,297.2969,278.19,297.2969,278.19,327.5938,240.19,327.5938,240.19,275\" style=\"stroke: #000000; stroke-width: 1.5;\"/><line style=\"stroke: #000000; stroke-width: 1.5;\" x1=\"240.19\" x2=\"271.19\" y1=\"297.2969\" y2=\"297.2969\"/><text fill=\"#000000\" font-family=\"sans-serif\" font-size=\"14\" font-weight=\"bold\" lengthAdjust=\"spacingAndGlyphs\" textLength=\"18\" x=\"244.19\" y=\"289.9951\">P2</text></a><g id=\"E1.E5\"><a href=\"psysml:ae255e73-333e-4dec-b11e-e996fbedcc54\" target=\"_top\" title=\"psysml:ae255e73-333e-4dec-b11e-e996fbedcc54\" xlink:actuate=\"onRequest\" xlink:href=\"psysml:ae255e73-333e-4dec-b11e-e996fbedcc54\" xlink:show=\"new\" xlink:title=\"psysml:ae255e73-333e-4dec-b11e-e996fbedcc54\" xlink:type=\"simple\"><rect fill=\"#FFFFFF\" height=\"40\" id=\"E5\" rx=\"10\" ry=\"10\" style=\"stroke: #383838; stroke-width: 1.5;\" width=\"50\" x=\"350.19\" y=\"281.5\"/><rect fill=\"#F8F8F8\" height=\"23.9688\" rx=\"10\" ry=\"10\" style=\"stroke: #F8F8F8; stroke-width: 1.5;\" width=\"50\" x=\"350.19\" y=\"281.5\"/><rect fill=\"#F8F8F8\" height=\"10\" style=\"stroke: #F8F8F8; stroke-width: 1.5;\" width=\"50\" x=\"350.19\" y=\"295.4688\"/><rect fill=\"none\" height=\"40\" id=\"E5\" rx=\"10\" ry=\"10\" style=\"stroke: #383838; stroke-width: 1.5;\" width=\"50\" x=\"350.19\" y=\"281.5\"/><text fill=\"#000000\" font-family=\"sans-serif\" font-size=\"12\" lengthAdjust=\"spacingAndGlyphs\" textLength=\"22\" x=\"364.19\" y=\"297.6387\">x: A</text></a></g><g id=\"E1.E6.E7\"><a href=\"psysml:f5eaf228-c184-457d-ba82-3236315ba9d3\" target=\"_top\" title=\"psysml:f5eaf228-c184-457d-ba82-3236315ba9d3\" xlink:actuate=\"onRequest\" xlink:href=\"psysml:f5eaf228-c184-457d-ba82-3236315ba9d3\" xlink:show=\"new\" xlink:title=\"psysml:f5eaf228-c184-457d-ba82-3236315ba9d3\" xlink:type=\"simple\"><rect fill=\"#FFFFFF\" height=\"42.9375\" id=\"E7\" style=\"stroke: #383838; stroke-width: 1.5;\" width=\"75\" x=\"117.69\" y=\"280\"/><rect fill=\"#F8F8F8\" height=\"37.9375\" style=\"stroke: #383838; stroke-width: 1.5;\" width=\"75\" x=\"117.69\" y=\"280\"/><text fill=\"#000000\" font-family=\"sans-serif\" font-size=\"12\" font-style=\"italic\" lengthAdjust=\"spacingAndGlyphs\" textLength=\"68\" x=\"121.19\" y=\"296.1387\">«part  def»</text><text fill=\"#000000\" font-family=\"sans-serif\" font-size=\"12\" lengthAdjust=\"spacingAndGlyphs\" textLength=\"8\" x=\"151.19\" y=\"310.1074\">B</text></a></g><g id=\"E1.E8\"><a href=\"psysml:3c42eaa7-d0d8-4753-a2b8-0968c7baa502\" target=\"_top\" title=\"psysml:3c42eaa7-d0d8-4753-a2b8-0968c7baa502\" xlink:actuate=\"onRequest\" xlink:href=\"psysml:3c42eaa7-d0d8-4753-a2b8-0968c7baa502\" xlink:show=\"new\" xlink:title=\"psysml:3c42eaa7-d0d8-4753-a2b8-0968c7baa502\" xlink:type=\"simple\"><rect fill=\"#FFFFFF\" height=\"40\" id=\"E8\" rx=\"10\" ry=\"10\" style=\"stroke: #383838; stroke-width: 1.5;\" width=\"50\" x=\"190.19\" y=\"108\"/><rect fill=\"#F8F8F8\" height=\"23.9688\" rx=\"10\" ry=\"10\" style=\"stroke: #F8F8F8; stroke-width: 1.5;\" width=\"50\" x=\"190.19\" y=\"108\"/><rect fill=\"#F8F8F8\" height=\"10\" style=\"stroke: #F8F8F8; stroke-width: 1.5;\" width=\"50\" x=\"190.19\" y=\"121.9688\"/><rect fill=\"none\" height=\"40\" id=\"E8\" rx=\"10\" ry=\"10\" style=\"stroke: #383838; stroke-width: 1.5;\" width=\"50\" x=\"190.19\" y=\"108\"/><text fill=\"#000000\" font-family=\"sans-serif\" font-size=\"12\" lengthAdjust=\"spacingAndGlyphs\" textLength=\"21\" x=\"204.69\" y=\"124.1387\">z: B</text></a></g><g id=\"E1.E9.E10\"><a href=\"psysml:bd10993a-8e6e-4149-83fc-2dc02c68e6fc\" target=\"_top\" title=\"psysml:bd10993a-8e6e-4149-83fc-2dc02c68e6fc\" xlink:actuate=\"onRequest\" xlink:href=\"psysml:bd10993a-8e6e-4149-83fc-2dc02c68e6fc\" xlink:show=\"new\" xlink:title=\"psysml:bd10993a-8e6e-4149-83fc-2dc02c68e6fc\" xlink:type=\"simple\"><rect fill=\"#FFFFFF\" height=\"40\" id=\"E10\" rx=\"10\" ry=\"10\" style=\"stroke: #383838; stroke-width: 1.5;\" width=\"50\" x=\"310.19\" y=\"108\"/><rect fill=\"#F8F8F8\" height=\"23.9688\" rx=\"10\" ry=\"10\" style=\"stroke: #F8F8F8; stroke-width: 1.5;\" width=\"50\" x=\"310.19\" y=\"108\"/><rect fill=\"#F8F8F8\" height=\"10\" style=\"stroke: #F8F8F8; stroke-width: 1.5;\" width=\"50\" x=\"310.19\" y=\"121.9688\"/><rect fill=\"none\" height=\"40\" id=\"E10\" rx=\"10\" ry=\"10\" style=\"stroke: #383838; stroke-width: 1.5;\" width=\"50\" x=\"310.19\" y=\"108\"/><text fill=\"#000000\" font-family=\"sans-serif\" font-size=\"12\" lengthAdjust=\"spacingAndGlyphs\" textLength=\"29\" x=\"320.69\" y=\"124.1387\">z1: A</text></a></g><!--MD5=[185131fc0dcab0a4505a2ebe144e961b]\n",
       "link E4 to E2--><a href=\"psysml:9c76a3dc-4160-42f2-8d03-f28cee99dd8d\" target=\"_top\" title=\"psysml:9c76a3dc-4160-42f2-8d03-f28cee99dd8d\" xlink:actuate=\"onRequest\" xlink:href=\"psysml:9c76a3dc-4160-42f2-8d03-f28cee99dd8d\" xlink:show=\"new\" xlink:title=\"psysml:9c76a3dc-4160-42f2-8d03-f28cee99dd8d\" xlink:type=\"simple\"><path d=\"M249.36,328.1 C245,340.8 240.37,356.48 238.19,371 C236.5225,382.1275 235.8388,393.9944 235.76,405.5898 C235.7502,407.0393 235.7498,408.4845 235.7581,409.9234 C235.7602,410.2832 235.7628,410.6425 235.766,411.0015 C235.7675,411.181 235.7692,411.3603 235.7711,411.5396 \" fill=\"none\" id=\"E4-&gt;E2\" style=\"stroke: #383838; stroke-width: 1.0; stroke-dasharray: 7.0,7.0;\"/><polygon fill=\"#383838\" points=\"235.7711,411.5396,239.6783,402.4989,235.7196,406.5398,231.6787,402.5812,235.7711,411.5396\" style=\"stroke: #383838; stroke-width: 1.0;\"/><text fill=\"#000000\" font-family=\"sans-serif\" font-size=\"13\" lengthAdjust=\"spacingAndGlyphs\" textLength=\"65\" x=\"239.19\" y=\"384.0669\">«import»*</text></a><!--MD5=[e9be52314489bd878ff4c7144b63c9e1]\n",
       "link E5 to E3--><a href=\"psysml:7e781afb-bb69-45b4-99ca-abeca0fc5181\" target=\"_top\" title=\"psysml:7e781afb-bb69-45b4-99ca-abeca0fc5181\" xlink:actuate=\"onRequest\" xlink:href=\"psysml:7e781afb-bb69-45b4-99ca-abeca0fc5181\" xlink:show=\"new\" xlink:title=\"psysml:7e781afb-bb69-45b4-99ca-abeca0fc5181\" xlink:type=\"simple\"><path d=\"M368.43,321.68 C358.76,349.11 340.75,400.18 328.15,435.92 \" fill=\"none\" id=\"E5-&gt;E3\" style=\"stroke: #383838; stroke-width: 1.0;\"/><polygon fill=\"#FFFFFF\" points=\"321.45,454.9,321.1694,434.6535,334.372,439.3109,321.45,454.9\" style=\"stroke: #383838; stroke-width: 1.0;\"/><ellipse cx=\"324.9518\" cy=\"429.9435\" fill=\"#383838\" rx=\"2\" ry=\"2\" style=\"stroke: #383838; stroke-width: 1.0;\"/><ellipse cx=\"334.3822\" cy=\"433.2702\" fill=\"#383838\" rx=\"2\" ry=\"2\" style=\"stroke: #383838; stroke-width: 1.0;\"/></a><!--MD5=[ee384bb554873b72f85793eae40e290c]\n",
       "link E1 to E4--><a href=\"psysml:3abfa817-381d-4c68-8935-6fa98a0aa2e6\" target=\"_top\" title=\"psysml:3abfa817-381d-4c68-8935-6fa98a0aa2e6\" xlink:actuate=\"onRequest\" xlink:href=\"psysml:3abfa817-381d-4c68-8935-6fa98a0aa2e6\" xlink:show=\"new\" xlink:title=\"psysml:3abfa817-381d-4c68-8935-6fa98a0aa2e6\" xlink:type=\"simple\"><path d=\"M34.16,129.12 C33.57,131.47 24.44,169.5 42.19,188 C49.22,195.33 77.22,194.08 87.19,196 C114.15,201.18 185.56,205.45 208.19,221 C225.61,232.97 238.41,253.04 246.84,270.01 \" fill=\"none\" id=\"E1-&gt;E4\" style=\"stroke: #383838; stroke-width: 1.0; stroke-dasharray: 7.0,7.0;\"/><polygon fill=\"#383838\" points=\"249.1,274.71,248.8034,264.8656,246.9326,270.2042,241.5941,268.3334,249.1,274.71\" style=\"stroke: #383838; stroke-width: 1.0;\"/><text fill=\"#000000\" font-family=\"sans-serif\" font-size=\"13\" lengthAdjust=\"spacingAndGlyphs\" textLength=\"65\" x=\"190.19\" y=\"209.0669\">«import»*</text></a><!--MD5=[ccbd3af71bf83df0ec2a2db62d6d7130]\n",
       "link E1 to E6--><a href=\"psysml:38071c17-dcc7-47a2-931c-5199b5c10531\" target=\"_top\" title=\"psysml:38071c17-dcc7-47a2-931c-5199b5c10531\" xlink:actuate=\"onRequest\" xlink:href=\"psysml:38071c17-dcc7-47a2-931c-5199b5c10531\" xlink:show=\"new\" xlink:title=\"psysml:38071c17-dcc7-47a2-931c-5199b5c10531\" xlink:type=\"simple\"><path d=\"M26.0931,141.8852 C26.0406,141.9783 25.988,142.0717 25.9352,142.1656 C25.8298,142.3533 25.7239,142.5426 25.6176,142.7336 C24.7671,144.2611 23.8899,145.8912 23.0044,147.6107 C21.2332,151.0498 19.4284,154.8469 17.7363,158.8975 C10.9675,175.1 6,195.36 12.19,213 C20.175,235.765 36.8475,257.005 51.9187,272.8563 C59.4544,280.7819 66.5897,287.3603 72.0386,292.1086 C72.7197,292.7021 73.3745,293.2671 74.0004,293.8025 \" fill=\"none\" id=\"E1-&gt;E6\" style=\"stroke: #383838; stroke-width: 1.0; stroke-dasharray: 7.0,7.0;\"/><polygon fill=\"#383838\" points=\"74.0004,293.8025,69.7613,284.9126,70.2008,290.5523,64.5611,290.9918,74.0004,293.8025\" style=\"stroke: #383838; stroke-width: 1.0;\"/><text fill=\"#000000\" font-family=\"sans-serif\" font-size=\"13\" lengthAdjust=\"spacingAndGlyphs\" textLength=\"65\" x=\"13.19\" y=\"209.0669\">«import»*</text></a><!--MD5=[bfa3c8b0d15052fdf50ae9310b491027]\n",
       "link E8 to E7--><a href=\"psysml:84039e37-6732-4e81-a24d-af568a8fc4d2\" target=\"_top\" title=\"psysml:84039e37-6732-4e81-a24d-af568a8fc4d2\" xlink:actuate=\"onRequest\" xlink:href=\"psysml:84039e37-6732-4e81-a24d-af568a8fc4d2\" xlink:show=\"new\" xlink:title=\"psysml:84039e37-6732-4e81-a24d-af568a8fc4d2\" xlink:type=\"simple\"><path d=\"M231.6,148.32 C245.18,166.74 259.91,194.37 244.19,213 C230.52,229.19 214.35,208.57 197.19,221 C183.72,230.76 174.18,246.16 167.64,260.83 \" fill=\"none\" id=\"E8-&gt;E7\" style=\"stroke: #383838; stroke-width: 1.0;\"/><polygon fill=\"#FFFFFF\" points=\"160.49,279.77,160.6578,259.5222,173.7541,264.4708,160.49,279.77\" style=\"stroke: #383838; stroke-width: 1.0;\"/><ellipse cx=\"164.5435\" cy=\"254.8971\" fill=\"#383838\" rx=\"2\" ry=\"2\" style=\"stroke: #383838; stroke-width: 1.0;\"/><ellipse cx=\"173.8979\" cy=\"258.4318\" fill=\"#383838\" rx=\"2\" ry=\"2\" style=\"stroke: #383838; stroke-width: 1.0;\"/></a><!--MD5=[c2be97adba6ddfe1c8f349fab141c927]\n",
       "link E9 to E4--><a href=\"psysml:f4a7c8b4-50d4-4d21-9428-75951a767795\" target=\"_top\" title=\"psysml:f4a7c8b4-50d4-4d21-9428-75951a767795\" xlink:actuate=\"onRequest\" xlink:href=\"psysml:f4a7c8b4-50d4-4d21-9428-75951a767795\" xlink:show=\"new\" xlink:title=\"psysml:f4a7c8b4-50d4-4d21-9428-75951a767795\" xlink:type=\"simple\"><path d=\"M272.4624,172.0747 C272.4319,172.4874 272.4012,172.9004 272.3704,173.3135 C272.247,174.9658 272.1207,176.6201 271.9919,178.2676 C271.7342,181.5625 271.4663,184.83 271.19,188 C268.78,215.65 265.37,247.06 262.81,269.64 \" fill=\"none\" id=\"E9-&gt;E4\" style=\"stroke: #383838; stroke-width: 1.0; stroke-dasharray: 7.0,7.0;\"/><polygon fill=\"#383838\" points=\"262.24,274.61,267.2443,266.1273,262.8126,269.6429,259.297,265.2111,262.24,274.61\" style=\"stroke: #383838; stroke-width: 1.0;\"/><text fill=\"#000000\" font-family=\"sans-serif\" font-size=\"13\" lengthAdjust=\"spacingAndGlyphs\" textLength=\"65\" x=\"271.19\" y=\"209.0669\">«import»*</text></a><!--MD5=[feeac5eb423634930294aa81f2d25a4c]\n",
       "link E10 to E3--><a href=\"psysml:ff7299d7-bc25-43a3-abcf-daa45aa95a4b\" target=\"_top\" title=\"psysml:ff7299d7-bc25-43a3-abcf-daa45aa95a4b\" xlink:actuate=\"onRequest\" xlink:href=\"psysml:ff7299d7-bc25-43a3-abcf-daa45aa95a4b\" xlink:show=\"new\" xlink:title=\"psysml:ff7299d7-bc25-43a3-abcf-daa45aa95a4b\" xlink:type=\"simple\"><path d=\"M349.14,148.02 C360.83,166.48 373.39,194.37 358.19,213 C347.01,226.71 330.51,207.4 319.19,221 C305.92,236.95 309.43,366.42 312.24,434.3 \" fill=\"none\" id=\"E10-&gt;E3\" style=\"stroke: #383838; stroke-width: 1.0;\"/><polygon fill=\"#FFFFFF\" points=\"313.14,454.71,305.3057,436.0385,319.2919,435.4187,313.14,454.71\" style=\"stroke: #383838; stroke-width: 1.0;\"/><ellipse cx=\"307.0513\" cy=\"430.2556\" fill=\"#383838\" rx=\"2\" ry=\"2\" style=\"stroke: #383838; stroke-width: 1.0;\"/><ellipse cx=\"317.0415\" cy=\"429.8129\" fill=\"#383838\" rx=\"2\" ry=\"2\" style=\"stroke: #383838; stroke-width: 1.0;\"/></a><!--MD5=[52e54090ea1d6180e372b71727cd61c2]\n",
       "@startuml\r\n",
       "skinparam ranksep 10\r\n",
       "skinparam rectangle {\r\n",
       " backgroundColor<<block>> LightGreen\r\n",
       "}\r\n",
       " skinparam monochrome true\r\n",
       "skinparam classbackgroundcolor white\r\n",
       "skinparam shadowing false\r\n",
       "skinparam wrapWidth 300\r\n",
       "hide circle\r\n",
       "\r\n",
       "package \"PrivateImportTest\" as E1  [[psysml:8f933ba8-0ed5-4db5-b82c-58b1e568922b ]]  {\r\n",
       "package \"P1\" as E2  [[psysml:dc5a646f-7a70-4bb5-8a84-dd766b7ca58f ]]  {\r\n",
       "rec def \"A\" as E3  <<(T,blue) part  def>> [[psysml:e52e2a8f-f908-40ce-88b1-6459229e6290 ]] {\r\n",
       "}\r\n",
       "}\r\n",
       "package \"P2\" as E4  [[psysml:b07c7c49-60b3-45d9-ab30-3f9ccb4621b1 ]]  {\r\n",
       "}\r\n",
       "rec usage \"x: A\" as E5  [[psysml:ae255e73-333e-4dec-b11e-e996fbedcc54 ]] {\r\n",
       "}\r\n",
       "package \"P3\" as E6  [[psysml:61bbaf9b-44aa-4d19-b1af-9f0be63c5dc6 ]]  {\r\n",
       "rec def \"B\" as E7  <<(T,blue) part  def>> [[psysml:f5eaf228-c184-457d-ba82-3236315ba9d3 ]] {\r\n",
       "}\r\n",
       "}\r\n",
       "rec usage \"z: B\" as E8  [[psysml:3c42eaa7-d0d8-4753-a2b8-0968c7baa502 ]] {\r\n",
       "}\r\n",
       "package \"P4\" as E9  [[psysml:826bc35a-2948-4f0f-ac57-a46abe90dd77 ]]  {\r\n",
       "rec usage \"z1: A\" as E10  [[psysml:bd10993a-8e6e-4149-83fc-2dc02c68e6fc ]] {\r\n",
       "}\r\n",
       "}\r\n",
       "}\r\n",
       "E4 ..> E2 [[psysml:9c76a3dc-4160-42f2-8d03-f28cee99dd8d ]] : <<import>>*\r\n",
       "E5 - -:|> E3 [[psysml:7e781afb-bb69-45b4-99ca-abeca0fc5181 ]] \r\n",
       "E1 ..> E4 [[psysml:3abfa817-381d-4c68-8935-6fa98a0aa2e6 ]] : <<import>>*\r\n",
       "E1 ..> E6 [[psysml:38071c17-dcc7-47a2-931c-5199b5c10531 ]] : <<import>>*\r\n",
       "E8 - -:|> E7 [[psysml:84039e37-6732-4e81-a24d-af568a8fc4d2 ]] \r\n",
       "E9 ..> E4 [[psysml:f4a7c8b4-50d4-4d21-9428-75951a767795 ]] : <<import>>*\r\n",
       "E10 - -:|> E3 [[psysml:ff7299d7-bc25-43a3-abcf-daa45aa95a4b ]] \r\n",
       "@enduml\r\n",
       "\n",
       "PlantUML version 1.2020.13(Sat Jun 13 12:26:38 UTC 2020)\n",
       "(EPL source distribution)\n",
       "Java Runtime: OpenJDK Runtime Environment\n",
       "JVM: OpenJDK 64-Bit Server VM\n",
       "Default Encoding: UTF-8\n",
       "Language: en\n",
       "Country: null\n",
       "--></g></svg>"
      ]
     },
     "execution_count": 5,
     "metadata": {},
     "output_type": "execute_result"
    }
   ],
   "source": [
    "%viz --style=\"COMPTREE\" --view=\"Interconnection\" \"PrivateImportTest\""
   ]
  },
  {
   "cell_type": "code",
   "execution_count": 6,
   "id": "211265ba",
   "metadata": {
    "execution": {
     "iopub.execute_input": "2022-08-19T08:19:16.098377Z",
     "iopub.status.busy": "2022-08-19T08:19:16.097907Z",
     "iopub.status.idle": "2022-08-19T08:19:16.105265Z",
     "shell.execute_reply": "2022-08-19T08:19:16.105589Z"
    }
   },
   "outputs": [
    {
     "data": {
      "image/svg+xml": [
       "<?xml version=\"1.0\" encoding=\"UTF-8\" standalone=\"no\"?><svg xmlns=\"http://www.w3.org/2000/svg\" xmlns:xlink=\"http://www.w3.org/1999/xlink\" contentScriptType=\"application/ecmascript\" contentStyleType=\"text/css\" height=\"12px\" preserveAspectRatio=\"none\" style=\"width:12px;height:12px;\" version=\"1.1\" viewBox=\"0 0 12 12\" width=\"12px\" zoomAndPan=\"magnify\"><defs/><g><!--MD5=[655b888544ca4751ea36af1068543f84]\n",
       "@startuml\r\n",
       "skinparam ranksep 8\r\n",
       " skinparam monochrome true\r\n",
       "skinparam classbackgroundcolor white\r\n",
       "skinparam shadowing false\r\n",
       "skinparam wrapWidth 300\r\n",
       "hide circle\r\n",
       "\r\n",
       "@enduml\r\n",
       "\n",
       "PlantUML version 1.2020.13(Sat Jun 13 12:26:38 UTC 2020)\n",
       "(EPL source distribution)\n",
       "Java Runtime: OpenJDK Runtime Environment\n",
       "JVM: OpenJDK 64-Bit Server VM\n",
       "Default Encoding: UTF-8\n",
       "Language: en\n",
       "Country: null\n",
       "--></g></svg>"
      ]
     },
     "execution_count": 6,
     "metadata": {},
     "output_type": "execute_result"
    }
   ],
   "source": [
    "%viz --style=\"COMPTREE\" --view=\"Action\" \"PrivateImportTest\""
   ]
  },
  {
   "cell_type": "code",
   "execution_count": 7,
   "id": "6ad631e3",
   "metadata": {
    "execution": {
     "iopub.execute_input": "2022-08-19T08:19:16.156081Z",
     "iopub.status.busy": "2022-08-19T08:19:16.155600Z",
     "iopub.status.idle": "2022-08-19T08:19:16.168159Z",
     "shell.execute_reply": "2022-08-19T08:19:16.168481Z"
    }
   },
   "outputs": [
    {
     "data": {
      "image/svg+xml": [
       "<?xml version=\"1.0\" encoding=\"UTF-8\" standalone=\"no\"?><svg xmlns=\"http://www.w3.org/2000/svg\" xmlns:xlink=\"http://www.w3.org/1999/xlink\" contentScriptType=\"application/ecmascript\" contentStyleType=\"text/css\" height=\"12px\" preserveAspectRatio=\"none\" style=\"width:12px;height:12px;\" version=\"1.1\" viewBox=\"0 0 12 12\" width=\"12px\" zoomAndPan=\"magnify\"><defs/><g><!--MD5=[803fc46c337be7a5c8a9831e35356779]\n",
       "@startuml\r\n",
       "skinparam roundcorner 20\r\n",
       "skinparam BoxPadding 20\r\n",
       "skinparam SequenceBoxBackgroundColor #white\r\n",
       "skinparam style strictuml\r\n",
       "skinparam maxMessageSize 100\r\n",
       " skinparam monochrome true\r\n",
       "skinparam classbackgroundcolor white\r\n",
       "skinparam shadowing false\r\n",
       "skinparam wrapWidth 300\r\n",
       "hide circle\r\n",
       "\r\n",
       "@enduml\r\n",
       "\n",
       "PlantUML version 1.2020.13(Sat Jun 13 12:26:38 UTC 2020)\n",
       "(EPL source distribution)\n",
       "Java Runtime: OpenJDK Runtime Environment\n",
       "JVM: OpenJDK 64-Bit Server VM\n",
       "Default Encoding: UTF-8\n",
       "Language: en\n",
       "Country: null\n",
       "--></g></svg>"
      ]
     },
     "execution_count": 7,
     "metadata": {},
     "output_type": "execute_result"
    }
   ],
   "source": [
    "%viz --style=\"COMPTREE\" --view=\"Sequence\" \"PrivateImportTest\""
   ]
  },
  {
   "cell_type": "code",
   "execution_count": 8,
   "id": "1e8ee1d3",
   "metadata": {
    "execution": {
     "iopub.execute_input": "2022-08-19T08:19:16.218851Z",
     "iopub.status.busy": "2022-08-19T08:19:16.218392Z",
     "iopub.status.idle": "2022-08-19T08:19:16.283917Z",
     "shell.execute_reply": "2022-08-19T08:19:16.283471Z"
    }
   },
   "outputs": [
    {
     "data": {
      "image/svg+xml": [
       "<?xml version=\"1.0\" encoding=\"UTF-8\" standalone=\"no\"?><svg xmlns=\"http://www.w3.org/2000/svg\" xmlns:xlink=\"http://www.w3.org/1999/xlink\" contentScriptType=\"application/ecmascript\" contentStyleType=\"text/css\" height=\"586px\" preserveAspectRatio=\"none\" style=\"width:433px;height:586px;\" version=\"1.1\" viewBox=\"0 0 433 586\" width=\"433px\" zoomAndPan=\"magnify\"><defs/><g><!--MD5=[fbc87193dbaf4d95561dea2c320d4a47]\n",
       "cluster E1--><a href=\"psysml:8f933ba8-0ed5-4db5-b82c-58b1e568922b\" target=\"_top\" title=\"psysml:8f933ba8-0ed5-4db5-b82c-58b1e568922b\" xlink:actuate=\"onRequest\" xlink:href=\"psysml:8f933ba8-0ed5-4db5-b82c-58b1e568922b\" xlink:show=\"new\" xlink:title=\"psysml:8f933ba8-0ed5-4db5-b82c-58b1e568922b\" xlink:type=\"simple\"><polygon fill=\"#FFFFFF\" points=\"26.32,6,153.32,6,160.32,28.2969,411.32,28.2969,411.32,574,26.32,574,26.32,6\" style=\"stroke: #000000; stroke-width: 1.5;\"/><line style=\"stroke: #000000; stroke-width: 1.5;\" x1=\"26.32\" x2=\"160.32\" y1=\"28.2969\" y2=\"28.2969\"/><text fill=\"#000000\" font-family=\"sans-serif\" font-size=\"14\" font-weight=\"bold\" lengthAdjust=\"spacingAndGlyphs\" textLength=\"121\" x=\"30.32\" y=\"20.9951\">PrivateImportTest</text></a><!--MD5=[e4f7fae6ed58524ba242bb0b0d3be6b7]\n",
       "cluster E2--><a href=\"psysml:dc5a646f-7a70-4bb5-8a84-dd766b7ca58f\" target=\"_top\" title=\"psysml:dc5a646f-7a70-4bb5-8a84-dd766b7ca58f\" xlink:actuate=\"onRequest\" xlink:href=\"psysml:dc5a646f-7a70-4bb5-8a84-dd766b7ca58f\" xlink:show=\"new\" xlink:title=\"psysml:dc5a646f-7a70-4bb5-8a84-dd766b7ca58f\" xlink:type=\"simple\"><polygon fill=\"#FFFFFF\" points=\"231.32,421,255.32,421,262.32,443.2969,368.32,443.2969,368.32,534,231.32,534,231.32,421\" style=\"stroke: #000000; stroke-width: 1.5;\"/><line style=\"stroke: #000000; stroke-width: 1.5;\" x1=\"231.32\" x2=\"262.32\" y1=\"443.2969\" y2=\"443.2969\"/><text fill=\"#000000\" font-family=\"sans-serif\" font-size=\"14\" font-weight=\"bold\" lengthAdjust=\"spacingAndGlyphs\" textLength=\"18\" x=\"235.32\" y=\"435.9951\">P1</text></a><!--MD5=[14e3b0961a2654348d326746436168a1]\n",
       "cluster E6--><a href=\"psysml:61bbaf9b-44aa-4d19-b1af-9f0be63c5dc6\" target=\"_top\" title=\"psysml:61bbaf9b-44aa-4d19-b1af-9f0be63c5dc6\" xlink:actuate=\"onRequest\" xlink:href=\"psysml:61bbaf9b-44aa-4d19-b1af-9f0be63c5dc6\" xlink:show=\"new\" xlink:title=\"psysml:61bbaf9b-44aa-4d19-b1af-9f0be63c5dc6\" xlink:type=\"simple\"><polygon fill=\"#FFFFFF\" points=\"74.32,243,98.32,243,105.32,265.2969,211.32,265.2969,211.32,356,74.32,356,74.32,243\" style=\"stroke: #000000; stroke-width: 1.5;\"/><line style=\"stroke: #000000; stroke-width: 1.5;\" x1=\"74.32\" x2=\"105.32\" y1=\"265.2969\" y2=\"265.2969\"/><text fill=\"#000000\" font-family=\"sans-serif\" font-size=\"14\" font-weight=\"bold\" lengthAdjust=\"spacingAndGlyphs\" textLength=\"18\" x=\"78.32\" y=\"257.9951\">P3</text></a><!--MD5=[7f149f147074ac12df2cb0a7728a5fb0]\n",
       "cluster E9--><a href=\"psysml:826bc35a-2948-4f0f-ac57-a46abe90dd77\" target=\"_top\" title=\"psysml:826bc35a-2948-4f0f-ac57-a46abe90dd77\" xlink:actuate=\"onRequest\" xlink:href=\"psysml:826bc35a-2948-4f0f-ac57-a46abe90dd77\" xlink:show=\"new\" xlink:title=\"psysml:826bc35a-2948-4f0f-ac57-a46abe90dd77\" xlink:type=\"simple\"><polygon fill=\"#FFFFFF\" points=\"262.32,65,286.32,65,293.32,87.2969,371.32,87.2969,371.32,178,262.32,178,262.32,65\" style=\"stroke: #000000; stroke-width: 1.5;\"/><line style=\"stroke: #000000; stroke-width: 1.5;\" x1=\"262.32\" x2=\"293.32\" y1=\"87.2969\" y2=\"87.2969\"/><text fill=\"#000000\" font-family=\"sans-serif\" font-size=\"14\" font-weight=\"bold\" lengthAdjust=\"spacingAndGlyphs\" textLength=\"18\" x=\"266.32\" y=\"79.9951\">P4</text></a><!--MD5=[270fce915f116d4de14055a7c1d9a0f3]\n",
       "class E5--><a href=\"psysml:ae255e73-333e-4dec-b11e-e996fbedcc54\" target=\"_top\" title=\"psysml:ae255e73-333e-4dec-b11e-e996fbedcc54\" xlink:actuate=\"onRequest\" xlink:href=\"psysml:ae255e73-333e-4dec-b11e-e996fbedcc54\" xlink:show=\"new\" xlink:title=\"psysml:ae255e73-333e-4dec-b11e-e996fbedcc54\" xlink:type=\"simple\"><rect fill=\"#FFFFFF\" height=\"45.9375\" id=\"E5\" rx=\"10\" ry=\"10\" style=\"stroke: #383838; stroke-width: 1.5;\" width=\"42\" x=\"345.32\" y=\"286\"/><text fill=\"#000000\" font-family=\"sans-serif\" font-size=\"12\" font-style=\"italic\" lengthAdjust=\"spacingAndGlyphs\" textLength=\"40\" x=\"346.32\" y=\"302.1387\">«part»</text><text fill=\"#000000\" font-family=\"sans-serif\" font-size=\"12\" lengthAdjust=\"spacingAndGlyphs\" textLength=\"22\" x=\"353.32\" y=\"316.1074\">x: A</text><line style=\"stroke: #383838; stroke-width: 1.5;\" x1=\"346.32\" x2=\"386.32\" y1=\"323.9375\" y2=\"323.9375\"/></a><!--MD5=[b9389687b975829384b498ac4b7476b2]\n",
       "class E8--><a href=\"psysml:3c42eaa7-d0d8-4753-a2b8-0968c7baa502\" target=\"_top\" title=\"psysml:3c42eaa7-d0d8-4753-a2b8-0968c7baa502\" xlink:actuate=\"onRequest\" xlink:href=\"psysml:3c42eaa7-d0d8-4753-a2b8-0968c7baa502\" xlink:show=\"new\" xlink:title=\"psysml:3c42eaa7-d0d8-4753-a2b8-0968c7baa502\" xlink:type=\"simple\"><rect fill=\"#FFFFFF\" height=\"45.9375\" id=\"E8\" rx=\"10\" ry=\"10\" style=\"stroke: #383838; stroke-width: 1.5;\" width=\"42\" x=\"193.32\" y=\"108\"/><text fill=\"#000000\" font-family=\"sans-serif\" font-size=\"12\" font-style=\"italic\" lengthAdjust=\"spacingAndGlyphs\" textLength=\"40\" x=\"194.32\" y=\"124.1387\">«part»</text><text fill=\"#000000\" font-family=\"sans-serif\" font-size=\"12\" lengthAdjust=\"spacingAndGlyphs\" textLength=\"21\" x=\"201.82\" y=\"138.1074\">z: B</text><line style=\"stroke: #383838; stroke-width: 1.5;\" x1=\"194.32\" x2=\"234.32\" y1=\"145.9375\" y2=\"145.9375\"/></a><!--MD5=[09b614a08d8cba4a07c9adeb5e0fee81]\n",
       "class E3--><a href=\"psysml:e52e2a8f-f908-40ce-88b1-6459229e6290\" target=\"_top\" title=\"psysml:e52e2a8f-f908-40ce-88b1-6459229e6290\" xlink:actuate=\"onRequest\" xlink:href=\"psysml:e52e2a8f-f908-40ce-88b1-6459229e6290\" xlink:show=\"new\" xlink:title=\"psysml:e52e2a8f-f908-40ce-88b1-6459229e6290\" xlink:type=\"simple\"><rect fill=\"#FFFFFF\" height=\"45.9375\" id=\"E3\" style=\"stroke: #383838; stroke-width: 1.5;\" width=\"70\" x=\"274.32\" y=\"464\"/><text fill=\"#000000\" font-family=\"sans-serif\" font-size=\"12\" font-style=\"italic\" lengthAdjust=\"spacingAndGlyphs\" textLength=\"68\" x=\"275.32\" y=\"480.1387\">«part  def»</text><text fill=\"#000000\" font-family=\"sans-serif\" font-size=\"12\" lengthAdjust=\"spacingAndGlyphs\" textLength=\"8\" x=\"305.32\" y=\"494.1074\">A</text><line style=\"stroke: #383838; stroke-width: 1.5;\" x1=\"275.32\" x2=\"343.32\" y1=\"501.9375\" y2=\"501.9375\"/></a><a href=\"psysml:b07c7c49-60b3-45d9-ab30-3f9ccb4621b1\" target=\"_top\" title=\"psysml:b07c7c49-60b3-45d9-ab30-3f9ccb4621b1\" xlink:actuate=\"onRequest\" xlink:href=\"psysml:b07c7c49-60b3-45d9-ab30-3f9ccb4621b1\" xlink:show=\"new\" xlink:title=\"psysml:b07c7c49-60b3-45d9-ab30-3f9ccb4621b1\" xlink:type=\"simple\"><polygon fill=\"#FFFFFF\" points=\"235.32,282.5,259.32,282.5,266.32,304.7969,273.32,304.7969,273.32,335.0938,235.32,335.0938,235.32,282.5\" style=\"stroke: #000000; stroke-width: 1.5;\"/><line style=\"stroke: #000000; stroke-width: 1.5;\" x1=\"235.32\" x2=\"266.32\" y1=\"304.7969\" y2=\"304.7969\"/><text fill=\"#000000\" font-family=\"sans-serif\" font-size=\"14\" font-weight=\"bold\" lengthAdjust=\"spacingAndGlyphs\" textLength=\"18\" x=\"239.32\" y=\"297.4951\">P2</text></a><!--MD5=[2156ba9850f5573cc1fc38a6a4b2f02b]\n",
       "class E7--><a href=\"psysml:f5eaf228-c184-457d-ba82-3236315ba9d3\" target=\"_top\" title=\"psysml:f5eaf228-c184-457d-ba82-3236315ba9d3\" xlink:actuate=\"onRequest\" xlink:href=\"psysml:f5eaf228-c184-457d-ba82-3236315ba9d3\" xlink:show=\"new\" xlink:title=\"psysml:f5eaf228-c184-457d-ba82-3236315ba9d3\" xlink:type=\"simple\"><rect fill=\"#FFFFFF\" height=\"45.9375\" id=\"E7\" style=\"stroke: #383838; stroke-width: 1.5;\" width=\"70\" x=\"117.32\" y=\"286\"/><text fill=\"#000000\" font-family=\"sans-serif\" font-size=\"12\" font-style=\"italic\" lengthAdjust=\"spacingAndGlyphs\" textLength=\"68\" x=\"118.32\" y=\"302.1387\">«part  def»</text><text fill=\"#000000\" font-family=\"sans-serif\" font-size=\"12\" lengthAdjust=\"spacingAndGlyphs\" textLength=\"8\" x=\"148.32\" y=\"316.1074\">B</text><line style=\"stroke: #383838; stroke-width: 1.5;\" x1=\"118.32\" x2=\"186.32\" y1=\"323.9375\" y2=\"323.9375\"/></a><!--MD5=[96f4274e9e20536e775497830990834d]\n",
       "class E10--><a href=\"psysml:bd10993a-8e6e-4149-83fc-2dc02c68e6fc\" target=\"_top\" title=\"psysml:bd10993a-8e6e-4149-83fc-2dc02c68e6fc\" xlink:actuate=\"onRequest\" xlink:href=\"psysml:bd10993a-8e6e-4149-83fc-2dc02c68e6fc\" xlink:show=\"new\" xlink:title=\"psysml:bd10993a-8e6e-4149-83fc-2dc02c68e6fc\" xlink:type=\"simple\"><rect fill=\"#FFFFFF\" height=\"45.9375\" id=\"E10\" rx=\"10\" ry=\"10\" style=\"stroke: #383838; stroke-width: 1.5;\" width=\"42\" x=\"305.32\" y=\"108\"/><text fill=\"#000000\" font-family=\"sans-serif\" font-size=\"12\" font-style=\"italic\" lengthAdjust=\"spacingAndGlyphs\" textLength=\"40\" x=\"306.32\" y=\"124.1387\">«part»</text><text fill=\"#000000\" font-family=\"sans-serif\" font-size=\"12\" lengthAdjust=\"spacingAndGlyphs\" textLength=\"29\" x=\"309.82\" y=\"138.1074\">z1: A</text><line style=\"stroke: #383838; stroke-width: 1.5;\" x1=\"306.32\" x2=\"346.32\" y1=\"145.9375\" y2=\"145.9375\"/></a><!--MD5=[185131fc0dcab0a4505a2ebe144e961b]\n",
       "link E4 to E2--><a href=\"psysml:9c76a3dc-4160-42f2-8d03-f28cee99dd8d\" target=\"_top\" title=\"psysml:9c76a3dc-4160-42f2-8d03-f28cee99dd8d\" xlink:actuate=\"onRequest\" xlink:href=\"psysml:9c76a3dc-4160-42f2-8d03-f28cee99dd8d\" xlink:show=\"new\" xlink:title=\"psysml:9c76a3dc-4160-42f2-8d03-f28cee99dd8d\" xlink:type=\"simple\"><path d=\"M244.71,335.52 C240.28,348.61 235.53,364.94 233.32,380 C231.6325,391.49 231.1388,403.7444 231.3534,415.6911 C231.3803,417.1844 231.4182,418.673 231.4662,420.1546 C231.4722,420.3398 231.4784,420.5249 231.4847,420.7099 \" fill=\"none\" id=\"E4-&gt;E2\" style=\"stroke: #383838; stroke-width: 1.0; stroke-dasharray: 7.0,7.0;\"/><polygon fill=\"#383838\" points=\"231.4847,420.7099,235.1752,411.5786,231.314,415.7128,227.1798,411.8517,231.4847,420.7099\" style=\"stroke: #383838; stroke-width: 1.0;\"/><text fill=\"#000000\" font-family=\"sans-serif\" font-size=\"13\" lengthAdjust=\"spacingAndGlyphs\" textLength=\"65\" x=\"234.32\" y=\"393.0669\">«import»*</text></a><!--MD5=[e9be52314489bd878ff4c7144b63c9e1]\n",
       "link E5 to E3--><a href=\"psysml:7e781afb-bb69-45b4-99ca-abeca0fc5181\" target=\"_top\" title=\"psysml:7e781afb-bb69-45b4-99ca-abeca0fc5181\" xlink:actuate=\"onRequest\" xlink:href=\"psysml:7e781afb-bb69-45b4-99ca-abeca0fc5181\" xlink:show=\"new\" xlink:title=\"psysml:7e781afb-bb69-45b4-99ca-abeca0fc5181\" xlink:type=\"simple\"><path d=\"M359.1,332.29 C349.98,360.46 334.1,409.49 322.72,444.61 \" fill=\"none\" id=\"E5-&gt;E3\" style=\"stroke: #383838; stroke-width: 1.0;\"/><polygon fill=\"#FFFFFF\" points=\"316.48,463.89,315.6693,443.6578,328.9893,447.9678,316.48,463.89\" style=\"stroke: #383838; stroke-width: 1.0;\"/><ellipse cx=\"319.3269\" cy=\"438.8503\" fill=\"#383838\" rx=\"2\" ry=\"2\" style=\"stroke: #383838; stroke-width: 1.0;\"/><ellipse cx=\"328.8413\" cy=\"441.9289\" fill=\"#383838\" rx=\"2\" ry=\"2\" style=\"stroke: #383838; stroke-width: 1.0;\"/></a><!--MD5=[ee384bb554873b72f85793eae40e290c]\n",
       "link E1 to E4--><a href=\"psysml:3abfa817-381d-4c68-8935-6fa98a0aa2e6\" target=\"_top\" title=\"psysml:3abfa817-381d-4c68-8935-6fa98a0aa2e6\" xlink:actuate=\"onRequest\" xlink:href=\"psysml:3abfa817-381d-4c68-8935-6fa98a0aa2e6\" xlink:show=\"new\" xlink:title=\"psysml:3abfa817-381d-4c68-8935-6fa98a0aa2e6\" xlink:type=\"simple\"><path d=\"M34.29,132.12 C33.65,134.6 23.75,174.52 42.32,194 C49.33,201.35 77.35,200.04 87.32,202 C113.19,207.09 181.71,211.88 203.32,227 C220.99,239.37 233.85,260.02 242.24,277.37 \" fill=\"none\" id=\"E1-&gt;E4\" style=\"stroke: #383838; stroke-width: 1.0; stroke-dasharray: 7.0,7.0;\"/><polygon fill=\"#383838\" points=\"244.49,282.17,244.3071,272.3228,242.3748,277.6394,237.0582,275.7072,244.49,282.17\" style=\"stroke: #383838; stroke-width: 1.0;\"/><text fill=\"#000000\" font-family=\"sans-serif\" font-size=\"13\" lengthAdjust=\"spacingAndGlyphs\" textLength=\"65\" x=\"183.32\" y=\"215.0669\">«import»*</text></a><!--MD5=[ccbd3af71bf83df0ec2a2db62d6d7130]\n",
       "link E1 to E6--><a href=\"psysml:38071c17-dcc7-47a2-931c-5199b5c10531\" target=\"_top\" title=\"psysml:38071c17-dcc7-47a2-931c-5199b5c10531\" xlink:actuate=\"onRequest\" xlink:href=\"psysml:38071c17-dcc7-47a2-931c-5199b5c10531\" xlink:show=\"new\" xlink:title=\"psysml:38071c17-dcc7-47a2-931c-5199b5c10531\" xlink:type=\"simple\"><path d=\"M26.1693,145.3513 C26.1165,145.4477 26.0635,145.5445 26.0105,145.6418 C25.9044,145.8363 25.7978,146.0325 25.6908,146.2304 C24.8349,147.8133 23.9523,149.5023 23.0614,151.284 C21.2797,154.8473 19.465,158.7813 17.765,162.9775 C10.965,179.7625 6,200.745 12.32,219 C20.295,242.035 36.9675,263.635 52.0413,279.7863 C59.5781,287.8619 66.7153,294.5753 72.1658,299.4248 C72.8471,300.031 73.502,300.6081 74.1281,301.1551 \" fill=\"none\" id=\"E1-&gt;E6\" style=\"stroke: #383838; stroke-width: 1.0; stroke-dasharray: 7.0,7.0;\"/><polygon fill=\"#383838\" points=\"74.1281,301.1551,69.982,292.2214,70.3627,297.8655,64.7187,298.2462,74.1281,301.1551\" style=\"stroke: #383838; stroke-width: 1.0;\"/><text fill=\"#000000\" font-family=\"sans-serif\" font-size=\"13\" lengthAdjust=\"spacingAndGlyphs\" textLength=\"65\" x=\"13.32\" y=\"215.0669\">«import»*</text></a><!--MD5=[bfa3c8b0d15052fdf50ae9310b491027]\n",
       "link E8 to E7--><a href=\"psysml:84039e37-6732-4e81-a24d-af568a8fc4d2\" target=\"_top\" title=\"psysml:84039e37-6732-4e81-a24d-af568a8fc4d2\" xlink:actuate=\"onRequest\" xlink:href=\"psysml:84039e37-6732-4e81-a24d-af568a8fc4d2\" xlink:show=\"new\" xlink:title=\"psysml:84039e37-6732-4e81-a24d-af568a8fc4d2\" xlink:type=\"simple\"><path d=\"M232.99,154.29 C246.61,173.37 260.16,200.59 244.32,219 C228.78,237.06 210.49,212.85 191.32,227 C178.2,236.69 169.29,251.96 163.34,266.65 \" fill=\"none\" id=\"E8-&gt;E7\" style=\"stroke: #383838; stroke-width: 1.0;\"/><polygon fill=\"#FFFFFF\" points=\"156.95,285.73,156.3404,265.4907,169.617,269.9329,156.95,285.73\" style=\"stroke: #383838; stroke-width: 1.0;\"/><ellipse cx=\"160.0457\" cy=\"260.7199\" fill=\"#383838\" rx=\"2\" ry=\"2\" style=\"stroke: #383838; stroke-width: 1.0;\"/><ellipse cx=\"169.5289\" cy=\"263.8929\" fill=\"#383838\" rx=\"2\" ry=\"2\" style=\"stroke: #383838; stroke-width: 1.0;\"/></a><!--MD5=[c2be97adba6ddfe1c8f349fab141c927]\n",
       "link E9 to E4--><a href=\"psysml:f4a7c8b4-50d4-4d21-9428-75951a767795\" target=\"_top\" title=\"psysml:f4a7c8b4-50d4-4d21-9428-75951a767795\" xlink:actuate=\"onRequest\" xlink:href=\"psysml:f4a7c8b4-50d4-4d21-9428-75951a767795\" xlink:show=\"new\" xlink:title=\"psysml:f4a7c8b4-50d4-4d21-9428-75951a767795\" xlink:type=\"simple\"><path d=\"M267.5431,178.2415 C267.5354,178.35 267.5276,178.4585 267.5198,178.5671 C267.3951,180.3034 267.2673,182.0417 267.1366,183.7729 C266.8753,187.2352 266.6025,190.6688 266.32,194 C263.93,222.21 260.49,254.26 257.9,277.18 \" fill=\"none\" id=\"E9-&gt;E4\" style=\"stroke: #383838; stroke-width: 1.0; stroke-dasharray: 7.0,7.0;\"/><polygon fill=\"#383838\" points=\"257.33,282.22,262.3075,273.7215,257.8869,277.2511,254.3572,272.8305,257.33,282.22\" style=\"stroke: #383838; stroke-width: 1.0;\"/><text fill=\"#000000\" font-family=\"sans-serif\" font-size=\"13\" lengthAdjust=\"spacingAndGlyphs\" textLength=\"65\" x=\"266.32\" y=\"215.0669\">«import»*</text></a><!--MD5=[feeac5eb423634930294aa81f2d25a4c]\n",
       "link E10 to E3--><a href=\"psysml:ff7299d7-bc25-43a3-abcf-daa45aa95a4b\" target=\"_top\" title=\"psysml:ff7299d7-bc25-43a3-abcf-daa45aa95a4b\" xlink:actuate=\"onRequest\" xlink:href=\"psysml:ff7299d7-bc25-43a3-abcf-daa45aa95a4b\" xlink:show=\"new\" xlink:title=\"psysml:ff7299d7-bc25-43a3-abcf-daa45aa95a4b\" xlink:type=\"simple\"><path d=\"M345.63,154.11 C359.77,173.07 373.99,200.22 358.32,219 C345.58,234.26 327.2,211.86 314.32,227 C300.64,243.07 304.33,374.79 307.28,443.95 \" fill=\"none\" id=\"E10-&gt;E3\" style=\"stroke: #383838; stroke-width: 1.0;\"/><polygon fill=\"#FFFFFF\" points=\"308.18,463.98,300.3317,445.3144,314.3175,444.6841,308.18,463.98\" style=\"stroke: #383838; stroke-width: 1.0;\"/><ellipse cx=\"302.0731\" cy=\"439.5301\" fill=\"#383838\" rx=\"2\" ry=\"2\" style=\"stroke: #383838; stroke-width: 1.0;\"/><ellipse cx=\"312.063\" cy=\"439.0799\" fill=\"#383838\" rx=\"2\" ry=\"2\" style=\"stroke: #383838; stroke-width: 1.0;\"/></a><!--MD5=[b47e25fd941625c3005f5ffeaac9b339]\n",
       "@startuml\r\n",
       " skinparam monochrome true\r\n",
       "skinparam classbackgroundcolor white\r\n",
       "skinparam shadowing false\r\n",
       "skinparam wrapWidth 300\r\n",
       "hide circle\r\n",
       "\r\n",
       "package \"PrivateImportTest\" as E1  [[psysml:8f933ba8-0ed5-4db5-b82c-58b1e568922b ]]  {\r\n",
       "package \"P1\" as E2  [[psysml:dc5a646f-7a70-4bb5-8a84-dd766b7ca58f ]]  {\r\n",
       "comp def \"A\" as E3  <<(T,blue) part  def>> [[psysml:e52e2a8f-f908-40ce-88b1-6459229e6290 ]] {\r\n",
       "}\r\n",
       "}\r\n",
       "package \"P2\" as E4  [[psysml:b07c7c49-60b3-45d9-ab30-3f9ccb4621b1 ]]  {\r\n",
       "}\r\n",
       "comp usage \"x: A \" as E5  <<(T,blue) part>> [[psysml:ae255e73-333e-4dec-b11e-e996fbedcc54 ]] {\r\n",
       "}\r\n",
       "package \"P3\" as E6  [[psysml:61bbaf9b-44aa-4d19-b1af-9f0be63c5dc6 ]]  {\r\n",
       "comp def \"B\" as E7  <<(T,blue) part  def>> [[psysml:f5eaf228-c184-457d-ba82-3236315ba9d3 ]] {\r\n",
       "}\r\n",
       "}\r\n",
       "comp usage \"z: B \" as E8  <<(T,blue) part>> [[psysml:3c42eaa7-d0d8-4753-a2b8-0968c7baa502 ]] {\r\n",
       "}\r\n",
       "package \"P4\" as E9  [[psysml:826bc35a-2948-4f0f-ac57-a46abe90dd77 ]]  {\r\n",
       "comp usage \"z1: A \" as E10  <<(T,blue) part>> [[psysml:bd10993a-8e6e-4149-83fc-2dc02c68e6fc ]] {\r\n",
       "}\r\n",
       "}\r\n",
       "}\r\n",
       "E4 ..> E2 [[psysml:9c76a3dc-4160-42f2-8d03-f28cee99dd8d ]] : <<import>>*\r\n",
       "E5 - -:|> E3 [[psysml:7e781afb-bb69-45b4-99ca-abeca0fc5181 ]] \r\n",
       "E1 ..> E4 [[psysml:3abfa817-381d-4c68-8935-6fa98a0aa2e6 ]] : <<import>>*\r\n",
       "E1 ..> E6 [[psysml:38071c17-dcc7-47a2-931c-5199b5c10531 ]] : <<import>>*\r\n",
       "E8 - -:|> E7 [[psysml:84039e37-6732-4e81-a24d-af568a8fc4d2 ]] \r\n",
       "E9 ..> E4 [[psysml:f4a7c8b4-50d4-4d21-9428-75951a767795 ]] : <<import>>*\r\n",
       "E10 - -:|> E3 [[psysml:ff7299d7-bc25-43a3-abcf-daa45aa95a4b ]] \r\n",
       "@enduml\r\n",
       "\n",
       "PlantUML version 1.2020.13(Sat Jun 13 12:26:38 UTC 2020)\n",
       "(EPL source distribution)\n",
       "Java Runtime: OpenJDK Runtime Environment\n",
       "JVM: OpenJDK 64-Bit Server VM\n",
       "Default Encoding: UTF-8\n",
       "Language: en\n",
       "Country: null\n",
       "--></g></svg>"
      ]
     },
     "execution_count": 8,
     "metadata": {},
     "output_type": "execute_result"
    }
   ],
   "source": [
    "%viz --style=\"COMPTREE\" --view=\"MIXED\" \"PrivateImportTest\""
   ]
  },
  {
   "cell_type": "code",
   "execution_count": 9,
   "id": "62db9720",
   "metadata": {
    "execution": {
     "iopub.execute_input": "2022-08-19T08:19:16.334033Z",
     "iopub.status.busy": "2022-08-19T08:19:16.333534Z",
     "iopub.status.idle": "2022-08-19T08:19:16.414558Z",
     "shell.execute_reply": "2022-08-19T08:19:16.414008Z"
    }
   },
   "outputs": [
    {
     "data": {
      "image/svg+xml": [
       "<?xml version=\"1.0\" encoding=\"UTF-8\" standalone=\"no\"?><svg xmlns=\"http://www.w3.org/2000/svg\" xmlns:xlink=\"http://www.w3.org/1999/xlink\" contentScriptType=\"application/ecmascript\" contentStyleType=\"text/css\" height=\"586px\" preserveAspectRatio=\"none\" style=\"width:427px;height:586px;\" version=\"1.1\" viewBox=\"0 0 427 586\" width=\"427px\" zoomAndPan=\"magnify\"><defs/><g><!--MD5=[fbc87193dbaf4d95561dea2c320d4a47]\n",
       "cluster E1--><a href=\"psysml:8f933ba8-0ed5-4db5-b82c-58b1e568922b\" target=\"_top\" title=\"psysml:8f933ba8-0ed5-4db5-b82c-58b1e568922b\" xlink:actuate=\"onRequest\" xlink:href=\"psysml:8f933ba8-0ed5-4db5-b82c-58b1e568922b\" xlink:show=\"new\" xlink:title=\"psysml:8f933ba8-0ed5-4db5-b82c-58b1e568922b\" xlink:type=\"simple\"><polygon fill=\"#FFFFFF\" points=\"20,6,147,6,154,28.2969,405,28.2969,405,574,20,574,20,6\" style=\"stroke: #000000; stroke-width: 1.5;\"/><line style=\"stroke: #000000; stroke-width: 1.5;\" x1=\"20\" x2=\"154\" y1=\"28.2969\" y2=\"28.2969\"/><text fill=\"#000000\" font-family=\"sans-serif\" font-size=\"14\" font-weight=\"bold\" lengthAdjust=\"spacingAndGlyphs\" textLength=\"121\" x=\"24\" y=\"20.9951\">PrivateImportTest</text></a><!--MD5=[e4f7fae6ed58524ba242bb0b0d3be6b7]\n",
       "cluster E2--><a href=\"psysml:dc5a646f-7a70-4bb5-8a84-dd766b7ca58f\" target=\"_top\" title=\"psysml:dc5a646f-7a70-4bb5-8a84-dd766b7ca58f\" xlink:actuate=\"onRequest\" xlink:href=\"psysml:dc5a646f-7a70-4bb5-8a84-dd766b7ca58f\" xlink:show=\"new\" xlink:title=\"psysml:dc5a646f-7a70-4bb5-8a84-dd766b7ca58f\" xlink:type=\"simple\"><polygon fill=\"#FFFFFF\" points=\"225,421,249,421,256,443.2969,362,443.2969,362,534,225,534,225,421\" style=\"stroke: #000000; stroke-width: 1.5;\"/><line style=\"stroke: #000000; stroke-width: 1.5;\" x1=\"225\" x2=\"256\" y1=\"443.2969\" y2=\"443.2969\"/><text fill=\"#000000\" font-family=\"sans-serif\" font-size=\"14\" font-weight=\"bold\" lengthAdjust=\"spacingAndGlyphs\" textLength=\"18\" x=\"229\" y=\"435.9951\">P1</text></a><!--MD5=[14e3b0961a2654348d326746436168a1]\n",
       "cluster E6--><a href=\"psysml:61bbaf9b-44aa-4d19-b1af-9f0be63c5dc6\" target=\"_top\" title=\"psysml:61bbaf9b-44aa-4d19-b1af-9f0be63c5dc6\" xlink:actuate=\"onRequest\" xlink:href=\"psysml:61bbaf9b-44aa-4d19-b1af-9f0be63c5dc6\" xlink:show=\"new\" xlink:title=\"psysml:61bbaf9b-44aa-4d19-b1af-9f0be63c5dc6\" xlink:type=\"simple\"><polygon fill=\"#FFFFFF\" points=\"68,243,92,243,99,265.2969,205,265.2969,205,356,68,356,68,243\" style=\"stroke: #000000; stroke-width: 1.5;\"/><line style=\"stroke: #000000; stroke-width: 1.5;\" x1=\"68\" x2=\"99\" y1=\"265.2969\" y2=\"265.2969\"/><text fill=\"#000000\" font-family=\"sans-serif\" font-size=\"14\" font-weight=\"bold\" lengthAdjust=\"spacingAndGlyphs\" textLength=\"18\" x=\"72\" y=\"257.9951\">P3</text></a><!--MD5=[7f149f147074ac12df2cb0a7728a5fb0]\n",
       "cluster E9--><a href=\"psysml:826bc35a-2948-4f0f-ac57-a46abe90dd77\" target=\"_top\" title=\"psysml:826bc35a-2948-4f0f-ac57-a46abe90dd77\" xlink:actuate=\"onRequest\" xlink:href=\"psysml:826bc35a-2948-4f0f-ac57-a46abe90dd77\" xlink:show=\"new\" xlink:title=\"psysml:826bc35a-2948-4f0f-ac57-a46abe90dd77\" xlink:type=\"simple\"><polygon fill=\"#FFFFFF\" points=\"256,65,280,65,287,87.2969,365,87.2969,365,178,256,178,256,65\" style=\"stroke: #000000; stroke-width: 1.5;\"/><line style=\"stroke: #000000; stroke-width: 1.5;\" x1=\"256\" x2=\"287\" y1=\"87.2969\" y2=\"87.2969\"/><text fill=\"#000000\" font-family=\"sans-serif\" font-size=\"14\" font-weight=\"bold\" lengthAdjust=\"spacingAndGlyphs\" textLength=\"18\" x=\"260\" y=\"79.9951\">P4</text></a><!--MD5=[270fce915f116d4de14055a7c1d9a0f3]\n",
       "class E5--><a href=\"psysml:ae255e73-333e-4dec-b11e-e996fbedcc54\" target=\"_top\" title=\"psysml:ae255e73-333e-4dec-b11e-e996fbedcc54\" xlink:actuate=\"onRequest\" xlink:href=\"psysml:ae255e73-333e-4dec-b11e-e996fbedcc54\" xlink:show=\"new\" xlink:title=\"psysml:ae255e73-333e-4dec-b11e-e996fbedcc54\" xlink:type=\"simple\"><rect fill=\"#FFFFFF\" height=\"45.9375\" id=\"E5\" rx=\"10\" ry=\"10\" style=\"stroke: #383838; stroke-width: 1.5;\" width=\"42\" x=\"339\" y=\"286\"/><text fill=\"#000000\" font-family=\"sans-serif\" font-size=\"12\" font-style=\"italic\" lengthAdjust=\"spacingAndGlyphs\" textLength=\"40\" x=\"340\" y=\"302.1387\">«part»</text><text fill=\"#000000\" font-family=\"sans-serif\" font-size=\"12\" lengthAdjust=\"spacingAndGlyphs\" textLength=\"22\" x=\"347\" y=\"316.1074\">x: A</text><line style=\"stroke: #383838; stroke-width: 1.5;\" x1=\"340\" x2=\"380\" y1=\"323.9375\" y2=\"323.9375\"/></a><!--MD5=[b9389687b975829384b498ac4b7476b2]\n",
       "class E8--><a href=\"psysml:3c42eaa7-d0d8-4753-a2b8-0968c7baa502\" target=\"_top\" title=\"psysml:3c42eaa7-d0d8-4753-a2b8-0968c7baa502\" xlink:actuate=\"onRequest\" xlink:href=\"psysml:3c42eaa7-d0d8-4753-a2b8-0968c7baa502\" xlink:show=\"new\" xlink:title=\"psysml:3c42eaa7-d0d8-4753-a2b8-0968c7baa502\" xlink:type=\"simple\"><rect fill=\"#FFFFFF\" height=\"45.9375\" id=\"E8\" rx=\"10\" ry=\"10\" style=\"stroke: #383838; stroke-width: 1.5;\" width=\"42\" x=\"187\" y=\"108\"/><text fill=\"#000000\" font-family=\"sans-serif\" font-size=\"12\" font-style=\"italic\" lengthAdjust=\"spacingAndGlyphs\" textLength=\"40\" x=\"188\" y=\"124.1387\">«part»</text><text fill=\"#000000\" font-family=\"sans-serif\" font-size=\"12\" lengthAdjust=\"spacingAndGlyphs\" textLength=\"21\" x=\"195.5\" y=\"138.1074\">z: B</text><line style=\"stroke: #383838; stroke-width: 1.5;\" x1=\"188\" x2=\"228\" y1=\"145.9375\" y2=\"145.9375\"/></a><!--MD5=[09b614a08d8cba4a07c9adeb5e0fee81]\n",
       "class E3--><a href=\"psysml:e52e2a8f-f908-40ce-88b1-6459229e6290\" target=\"_top\" title=\"psysml:e52e2a8f-f908-40ce-88b1-6459229e6290\" xlink:actuate=\"onRequest\" xlink:href=\"psysml:e52e2a8f-f908-40ce-88b1-6459229e6290\" xlink:show=\"new\" xlink:title=\"psysml:e52e2a8f-f908-40ce-88b1-6459229e6290\" xlink:type=\"simple\"><rect fill=\"#FFFFFF\" height=\"45.9375\" id=\"E3\" style=\"stroke: #383838; stroke-width: 1.5;\" width=\"70\" x=\"268\" y=\"464\"/><text fill=\"#000000\" font-family=\"sans-serif\" font-size=\"12\" font-style=\"italic\" lengthAdjust=\"spacingAndGlyphs\" textLength=\"68\" x=\"269\" y=\"480.1387\">«part  def»</text><text fill=\"#000000\" font-family=\"sans-serif\" font-size=\"12\" lengthAdjust=\"spacingAndGlyphs\" textLength=\"8\" x=\"299\" y=\"494.1074\">A</text><line style=\"stroke: #383838; stroke-width: 1.5;\" x1=\"269\" x2=\"337\" y1=\"501.9375\" y2=\"501.9375\"/></a><a href=\"psysml:b07c7c49-60b3-45d9-ab30-3f9ccb4621b1\" target=\"_top\" title=\"psysml:b07c7c49-60b3-45d9-ab30-3f9ccb4621b1\" xlink:actuate=\"onRequest\" xlink:href=\"psysml:b07c7c49-60b3-45d9-ab30-3f9ccb4621b1\" xlink:show=\"new\" xlink:title=\"psysml:b07c7c49-60b3-45d9-ab30-3f9ccb4621b1\" xlink:type=\"simple\"><polygon fill=\"#FFFFFF\" points=\"229,282.5,253,282.5,260,304.7969,267,304.7969,267,335.0938,229,335.0938,229,282.5\" style=\"stroke: #000000; stroke-width: 1.5;\"/><line style=\"stroke: #000000; stroke-width: 1.5;\" x1=\"229\" x2=\"260\" y1=\"304.7969\" y2=\"304.7969\"/><text fill=\"#000000\" font-family=\"sans-serif\" font-size=\"14\" font-weight=\"bold\" lengthAdjust=\"spacingAndGlyphs\" textLength=\"18\" x=\"233\" y=\"297.4951\">P2</text></a><!--MD5=[2156ba9850f5573cc1fc38a6a4b2f02b]\n",
       "class E7--><a href=\"psysml:f5eaf228-c184-457d-ba82-3236315ba9d3\" target=\"_top\" title=\"psysml:f5eaf228-c184-457d-ba82-3236315ba9d3\" xlink:actuate=\"onRequest\" xlink:href=\"psysml:f5eaf228-c184-457d-ba82-3236315ba9d3\" xlink:show=\"new\" xlink:title=\"psysml:f5eaf228-c184-457d-ba82-3236315ba9d3\" xlink:type=\"simple\"><rect fill=\"#FFFFFF\" height=\"45.9375\" id=\"E7\" style=\"stroke: #383838; stroke-width: 1.5;\" width=\"70\" x=\"111\" y=\"286\"/><text fill=\"#000000\" font-family=\"sans-serif\" font-size=\"12\" font-style=\"italic\" lengthAdjust=\"spacingAndGlyphs\" textLength=\"68\" x=\"112\" y=\"302.1387\">«part  def»</text><text fill=\"#000000\" font-family=\"sans-serif\" font-size=\"12\" lengthAdjust=\"spacingAndGlyphs\" textLength=\"8\" x=\"142\" y=\"316.1074\">B</text><line style=\"stroke: #383838; stroke-width: 1.5;\" x1=\"112\" x2=\"180\" y1=\"323.9375\" y2=\"323.9375\"/></a><!--MD5=[96f4274e9e20536e775497830990834d]\n",
       "class E10--><a href=\"psysml:bd10993a-8e6e-4149-83fc-2dc02c68e6fc\" target=\"_top\" title=\"psysml:bd10993a-8e6e-4149-83fc-2dc02c68e6fc\" xlink:actuate=\"onRequest\" xlink:href=\"psysml:bd10993a-8e6e-4149-83fc-2dc02c68e6fc\" xlink:show=\"new\" xlink:title=\"psysml:bd10993a-8e6e-4149-83fc-2dc02c68e6fc\" xlink:type=\"simple\"><rect fill=\"#FFFFFF\" height=\"45.9375\" id=\"E10\" rx=\"10\" ry=\"10\" style=\"stroke: #383838; stroke-width: 1.5;\" width=\"42\" x=\"299\" y=\"108\"/><text fill=\"#000000\" font-family=\"sans-serif\" font-size=\"12\" font-style=\"italic\" lengthAdjust=\"spacingAndGlyphs\" textLength=\"40\" x=\"300\" y=\"124.1387\">«part»</text><text fill=\"#000000\" font-family=\"sans-serif\" font-size=\"12\" lengthAdjust=\"spacingAndGlyphs\" textLength=\"29\" x=\"303.5\" y=\"138.1074\">z1: A</text><line style=\"stroke: #383838; stroke-width: 1.5;\" x1=\"300\" x2=\"340\" y1=\"145.9375\" y2=\"145.9375\"/></a><!--MD5=[185131fc0dcab0a4505a2ebe144e961b]\n",
       "link E4 to E2--><a href=\"psysml:9c76a3dc-4160-42f2-8d03-f28cee99dd8d\" target=\"_top\" title=\"psysml:9c76a3dc-4160-42f2-8d03-f28cee99dd8d\" xlink:actuate=\"onRequest\" xlink:href=\"psysml:9c76a3dc-4160-42f2-8d03-f28cee99dd8d\" xlink:show=\"new\" xlink:title=\"psysml:9c76a3dc-4160-42f2-8d03-f28cee99dd8d\" xlink:type=\"simple\"><path d=\"M240.3,335.67 C234.31,355.65 227,380 227,380 C227,380 227,397 227,397 C227,397 227.3631,402.39 227.9108,410.5172 C228.0477,412.549 228.1961,414.7519 228.3533,417.0844 C228.4319,418.2506 228.5127,419.4493 228.5953,420.6751 \" fill=\"none\" id=\"E4-&gt;E2\" style=\"stroke: #383838; stroke-width: 1.0; stroke-dasharray: 7.0,7.0;\"/><polygon fill=\"#383838\" points=\"228.5953,420.6751,231.9811,411.4265,228.2591,415.6864,223.9992,411.9645,228.5953,420.6751\" style=\"stroke: #383838; stroke-width: 1.0;\"/><text fill=\"#000000\" font-family=\"sans-serif\" font-size=\"13\" lengthAdjust=\"spacingAndGlyphs\" textLength=\"65\" x=\"228\" y=\"393.0669\">«import»*</text></a><!--MD5=[e9be52314489bd878ff4c7144b63c9e1]\n",
       "link E5 to E3--><a href=\"psysml:7e781afb-bb69-45b4-99ca-abeca0fc5181\" target=\"_top\" title=\"psysml:7e781afb-bb69-45b4-99ca-abeca0fc5181\" xlink:actuate=\"onRequest\" xlink:href=\"psysml:7e781afb-bb69-45b4-99ca-abeca0fc5181\" xlink:show=\"new\" xlink:title=\"psysml:7e781afb-bb69-45b4-99ca-abeca0fc5181\" xlink:type=\"simple\"><path d=\"M352.78,332.29 C343.66,360.46 327.78,409.49 316.4,444.61 \" fill=\"none\" id=\"E5-&gt;E3\" style=\"stroke: #383838; stroke-width: 1.0;\"/><polygon fill=\"#FFFFFF\" points=\"310.16,463.89,309.3493,443.6578,322.6693,447.9678,310.16,463.89\" style=\"stroke: #383838; stroke-width: 1.0;\"/><ellipse cx=\"313.0069\" cy=\"438.8503\" fill=\"#383838\" rx=\"2\" ry=\"2\" style=\"stroke: #383838; stroke-width: 1.0;\"/><ellipse cx=\"322.5213\" cy=\"441.9289\" fill=\"#383838\" rx=\"2\" ry=\"2\" style=\"stroke: #383838; stroke-width: 1.0;\"/></a><!--MD5=[ee384bb554873b72f85793eae40e290c]\n",
       "link E1 to E4--><a href=\"psysml:3abfa817-381d-4c68-8935-6fa98a0aa2e6\" target=\"_top\" title=\"psysml:3abfa817-381d-4c68-8935-6fa98a0aa2e6\" xlink:actuate=\"onRequest\" xlink:href=\"psysml:3abfa817-381d-4c68-8935-6fa98a0aa2e6\" xlink:show=\"new\" xlink:title=\"psysml:3abfa817-381d-4c68-8935-6fa98a0aa2e6\" xlink:type=\"simple\"><path d=\"M28.01,132.04 C28.25,133.92 36,194 36,194 C36,194 81,202 81,202 C81,202 197,227 197,227 C197,227 214.66,255.04 229.19,278.13 \" fill=\"none\" id=\"E1-&gt;E4\" style=\"stroke: #383838; stroke-width: 1.0; stroke-dasharray: 7.0,7.0;\"/><polygon fill=\"#383838\" points=\"231.86,282.37,230.4584,272.6214,229.1997,278.1364,223.6847,276.8778,231.86,282.37\" style=\"stroke: #383838; stroke-width: 1.0;\"/><text fill=\"#000000\" font-family=\"sans-serif\" font-size=\"13\" lengthAdjust=\"spacingAndGlyphs\" textLength=\"65\" x=\"160\" y=\"215.0669\">«import»*</text></a><!--MD5=[ccbd3af71bf83df0ec2a2db62d6d7130]\n",
       "link E1 to E6--><a href=\"psysml:38071c17-dcc7-47a2-931c-5199b5c10531\" target=\"_top\" title=\"psysml:38071c17-dcc7-47a2-931c-5199b5c10531\" xlink:actuate=\"onRequest\" xlink:href=\"psysml:38071c17-dcc7-47a2-931c-5199b5c10531\" xlink:show=\"new\" xlink:title=\"psysml:38071c17-dcc7-47a2-931c-5199b5c10531\" xlink:type=\"simple\"><path d=\"M19.8842,157.8227 C19.8433,157.9531 19.8022,158.0837 19.7611,158.2144 C19.4325,159.2604 19.1003,160.3175 18.7658,161.3817 C18.0969,163.5102 17.4191,165.6672 16.7425,167.82 C11.33,185.0425 6,202 6,202 C6,202 6,219 6,219 C6,219 22.9575,240.56 40.18,262.4575 C48.7913,273.4063 57.4688,284.4394 64.1259,292.9041 C64.9581,293.9621 65.7587,294.9801 66.5236,295.9527 C66.9061,296.4391 67.2796,296.9141 67.6438,297.3771 C67.7348,297.4928 67.8253,297.6078 67.9151,297.7221 \" fill=\"none\" id=\"E1-&gt;E6\" style=\"stroke: #383838; stroke-width: 1.0; stroke-dasharray: 7.0,7.0;\"/><polygon fill=\"#383838\" points=\"67.9151,297.7221,65.4957,288.175,64.8242,293.7919,59.2073,293.1204,67.9151,297.7221\" style=\"stroke: #383838; stroke-width: 1.0;\"/><text fill=\"#000000\" font-family=\"sans-serif\" font-size=\"13\" lengthAdjust=\"spacingAndGlyphs\" textLength=\"65\" x=\"7\" y=\"215.0669\">«import»*</text></a><!--MD5=[bfa3c8b0d15052fdf50ae9310b491027]\n",
       "link E8 to E7--><a href=\"psysml:84039e37-6732-4e81-a24d-af568a8fc4d2\" target=\"_top\" title=\"psysml:84039e37-6732-4e81-a24d-af568a8fc4d2\" xlink:actuate=\"onRequest\" xlink:href=\"psysml:84039e37-6732-4e81-a24d-af568a8fc4d2\" xlink:show=\"new\" xlink:title=\"psysml:84039e37-6732-4e81-a24d-af568a8fc4d2\" xlink:type=\"simple\"><path d=\"M217.49,154.15 C226.28,174.66 238,202 238,202 C238,202 238,219 238,219 C238,219 185,227 185,227 C185,227 175.15,247.45 165.36,267.8 \" fill=\"none\" id=\"E8-&gt;E7\" style=\"stroke: #383838; stroke-width: 1.0;\"/><polygon fill=\"#FFFFFF\" points=\"156.66,285.87,158.5936,265.7141,171.2082,271.7863,156.66,285.87\" style=\"stroke: #383838; stroke-width: 1.0;\"/><ellipse cx=\"162.8679\" cy=\"261.4456\" fill=\"#383838\" rx=\"2\" ry=\"2\" style=\"stroke: #383838; stroke-width: 1.0;\"/><ellipse cx=\"171.8783\" cy=\"265.7829\" fill=\"#383838\" rx=\"2\" ry=\"2\" style=\"stroke: #383838; stroke-width: 1.0;\"/></a><!--MD5=[c2be97adba6ddfe1c8f349fab141c927]\n",
       "link E9 to E4--><a href=\"psysml:f4a7c8b4-50d4-4d21-9428-75951a767795\" target=\"_top\" title=\"psysml:f4a7c8b4-50d4-4d21-9428-75951a767795\" xlink:actuate=\"onRequest\" xlink:href=\"psysml:f4a7c8b4-50d4-4d21-9428-75951a767795\" xlink:show=\"new\" xlink:title=\"psysml:f4a7c8b4-50d4-4d21-9428-75951a767795\" xlink:type=\"simple\"><path d=\"M261.024,178.1434 C261.0103,178.3545 260.9968,178.5643 260.9833,178.7729 C260.9564,179.1899 260.9298,179.6018 260.9036,180.0081 C260.7986,181.633 260.6995,183.1677 260.6081,184.5831 C260.2425,190.245 260,194 260,194 C260,194 254.8,243.38 251.25,277.14 \" fill=\"none\" id=\"E9-&gt;E4\" style=\"stroke: #383838; stroke-width: 1.0; stroke-dasharray: 7.0,7.0;\"/><polygon fill=\"#383838\" points=\"250.69,282.42,255.6191,273.8933,251.2186,277.448,247.664,273.0475,250.69,282.42\" style=\"stroke: #383838; stroke-width: 1.0;\"/><text fill=\"#000000\" font-family=\"sans-serif\" font-size=\"13\" lengthAdjust=\"spacingAndGlyphs\" textLength=\"65\" x=\"259\" y=\"215.0669\">«import»*</text></a><!--MD5=[feeac5eb423634930294aa81f2d25a4c]\n",
       "link E10 to E3--><a href=\"psysml:ff7299d7-bc25-43a3-abcf-daa45aa95a4b\" target=\"_top\" title=\"psysml:ff7299d7-bc25-43a3-abcf-daa45aa95a4b\" xlink:actuate=\"onRequest\" xlink:href=\"psysml:ff7299d7-bc25-43a3-abcf-daa45aa95a4b\" xlink:show=\"new\" xlink:title=\"psysml:ff7299d7-bc25-43a3-abcf-daa45aa95a4b\" xlink:type=\"simple\"><path d=\"M330.12,154.15 C339.5,174.66 352,202 352,202 C352,202 352,219 352,219 C352,219 308,227 308,227 C308,227 305.24,370.14 303.82,443.59 \" fill=\"none\" id=\"E10-&gt;E3\" style=\"stroke: #383838; stroke-width: 1.0;\"/><polygon fill=\"#FFFFFF\" points=\"303.43,463.92,296.7977,444.7886,310.7951,445.0585,303.43,463.92\" style=\"stroke: #383838; stroke-width: 1.0;\"/><ellipse cx=\"298.9072\" cy=\"439.1282\" fill=\"#383838\" rx=\"2\" ry=\"2\" style=\"stroke: #383838; stroke-width: 1.0;\"/><ellipse cx=\"308.9053\" cy=\"439.321\" fill=\"#383838\" rx=\"2\" ry=\"2\" style=\"stroke: #383838; stroke-width: 1.0;\"/></a><!--MD5=[1b1cccb1f07e5e2cff8962c99e35ff38]\n",
       "@startuml\r\n",
       "skinparam linetype polyline\r\n",
       "skinparam monochrome true\r\n",
       "skinparam classbackgroundcolor white\r\n",
       "skinparam shadowing false\r\n",
       "skinparam wrapWidth 300\r\n",
       "hide circle\r\n",
       "\r\n",
       "package \"PrivateImportTest\" as E1  [[psysml:8f933ba8-0ed5-4db5-b82c-58b1e568922b ]]  {\r\n",
       "package \"P1\" as E2  [[psysml:dc5a646f-7a70-4bb5-8a84-dd766b7ca58f ]]  {\r\n",
       "comp def \"A\" as E3  <<(T,blue) part  def>> [[psysml:e52e2a8f-f908-40ce-88b1-6459229e6290 ]] {\r\n",
       "}\r\n",
       "}\r\n",
       "package \"P2\" as E4  [[psysml:b07c7c49-60b3-45d9-ab30-3f9ccb4621b1 ]]  {\r\n",
       "}\r\n",
       "comp usage \"x: A \" as E5  <<(T,blue) part>> [[psysml:ae255e73-333e-4dec-b11e-e996fbedcc54 ]] {\r\n",
       "}\r\n",
       "package \"P3\" as E6  [[psysml:61bbaf9b-44aa-4d19-b1af-9f0be63c5dc6 ]]  {\r\n",
       "comp def \"B\" as E7  <<(T,blue) part  def>> [[psysml:f5eaf228-c184-457d-ba82-3236315ba9d3 ]] {\r\n",
       "}\r\n",
       "}\r\n",
       "comp usage \"z: B \" as E8  <<(T,blue) part>> [[psysml:3c42eaa7-d0d8-4753-a2b8-0968c7baa502 ]] {\r\n",
       "}\r\n",
       "package \"P4\" as E9  [[psysml:826bc35a-2948-4f0f-ac57-a46abe90dd77 ]]  {\r\n",
       "comp usage \"z1: A \" as E10  <<(T,blue) part>> [[psysml:bd10993a-8e6e-4149-83fc-2dc02c68e6fc ]] {\r\n",
       "}\r\n",
       "}\r\n",
       "}\r\n",
       "E4 ..> E2 [[psysml:9c76a3dc-4160-42f2-8d03-f28cee99dd8d ]] : <<import>>*\r\n",
       "E5 - -:|> E3 [[psysml:7e781afb-bb69-45b4-99ca-abeca0fc5181 ]] \r\n",
       "E1 ..> E4 [[psysml:3abfa817-381d-4c68-8935-6fa98a0aa2e6 ]] : <<import>>*\r\n",
       "E1 ..> E6 [[psysml:38071c17-dcc7-47a2-931c-5199b5c10531 ]] : <<import>>*\r\n",
       "E8 - -:|> E7 [[psysml:84039e37-6732-4e81-a24d-af568a8fc4d2 ]] \r\n",
       "E9 ..> E4 [[psysml:f4a7c8b4-50d4-4d21-9428-75951a767795 ]] : <<import>>*\r\n",
       "E10 - -:|> E3 [[psysml:ff7299d7-bc25-43a3-abcf-daa45aa95a4b ]] \r\n",
       "@enduml\r\n",
       "\n",
       "PlantUML version 1.2020.13(Sat Jun 13 12:26:38 UTC 2020)\n",
       "(EPL source distribution)\n",
       "Java Runtime: OpenJDK Runtime Environment\n",
       "JVM: OpenJDK 64-Bit Server VM\n",
       "Default Encoding: UTF-8\n",
       "Language: en\n",
       "Country: null\n",
       "--></g></svg>"
      ]
     },
     "execution_count": 9,
     "metadata": {},
     "output_type": "execute_result"
    }
   ],
   "source": [
    "%viz --style=\"POLYLINE\" --view=\"Default\" \"PrivateImportTest\""
   ]
  },
  {
   "cell_type": "code",
   "execution_count": 10,
   "id": "5bc57f5f",
   "metadata": {
    "execution": {
     "iopub.execute_input": "2022-08-19T08:19:16.463659Z",
     "iopub.status.busy": "2022-08-19T08:19:16.463207Z",
     "iopub.status.idle": "2022-08-19T08:19:16.534540Z",
     "shell.execute_reply": "2022-08-19T08:19:16.533948Z"
    }
   },
   "outputs": [
    {
     "data": {
      "image/svg+xml": [
       "<?xml version=\"1.0\" encoding=\"UTF-8\" standalone=\"no\"?><svg xmlns=\"http://www.w3.org/2000/svg\" xmlns:xlink=\"http://www.w3.org/1999/xlink\" contentScriptType=\"application/ecmascript\" contentStyleType=\"text/css\" height=\"586px\" preserveAspectRatio=\"none\" style=\"width:427px;height:586px;\" version=\"1.1\" viewBox=\"0 0 427 586\" width=\"427px\" zoomAndPan=\"magnify\"><defs/><g><!--MD5=[fbc87193dbaf4d95561dea2c320d4a47]\n",
       "cluster E1--><a href=\"psysml:8f933ba8-0ed5-4db5-b82c-58b1e568922b\" target=\"_top\" title=\"psysml:8f933ba8-0ed5-4db5-b82c-58b1e568922b\" xlink:actuate=\"onRequest\" xlink:href=\"psysml:8f933ba8-0ed5-4db5-b82c-58b1e568922b\" xlink:show=\"new\" xlink:title=\"psysml:8f933ba8-0ed5-4db5-b82c-58b1e568922b\" xlink:type=\"simple\"><polygon fill=\"#FFFFFF\" points=\"20,6,147,6,154,28.2969,405,28.2969,405,574,20,574,20,6\" style=\"stroke: #000000; stroke-width: 1.5;\"/><line style=\"stroke: #000000; stroke-width: 1.5;\" x1=\"20\" x2=\"154\" y1=\"28.2969\" y2=\"28.2969\"/><text fill=\"#000000\" font-family=\"sans-serif\" font-size=\"14\" font-weight=\"bold\" lengthAdjust=\"spacingAndGlyphs\" textLength=\"121\" x=\"24\" y=\"20.9951\">PrivateImportTest</text></a><!--MD5=[e4f7fae6ed58524ba242bb0b0d3be6b7]\n",
       "cluster E2--><a href=\"psysml:dc5a646f-7a70-4bb5-8a84-dd766b7ca58f\" target=\"_top\" title=\"psysml:dc5a646f-7a70-4bb5-8a84-dd766b7ca58f\" xlink:actuate=\"onRequest\" xlink:href=\"psysml:dc5a646f-7a70-4bb5-8a84-dd766b7ca58f\" xlink:show=\"new\" xlink:title=\"psysml:dc5a646f-7a70-4bb5-8a84-dd766b7ca58f\" xlink:type=\"simple\"><polygon fill=\"#FFFFFF\" points=\"225,421,249,421,256,443.2969,362,443.2969,362,534,225,534,225,421\" style=\"stroke: #000000; stroke-width: 1.5;\"/><line style=\"stroke: #000000; stroke-width: 1.5;\" x1=\"225\" x2=\"256\" y1=\"443.2969\" y2=\"443.2969\"/><text fill=\"#000000\" font-family=\"sans-serif\" font-size=\"14\" font-weight=\"bold\" lengthAdjust=\"spacingAndGlyphs\" textLength=\"18\" x=\"229\" y=\"435.9951\">P1</text></a><!--MD5=[14e3b0961a2654348d326746436168a1]\n",
       "cluster E6--><a href=\"psysml:61bbaf9b-44aa-4d19-b1af-9f0be63c5dc6\" target=\"_top\" title=\"psysml:61bbaf9b-44aa-4d19-b1af-9f0be63c5dc6\" xlink:actuate=\"onRequest\" xlink:href=\"psysml:61bbaf9b-44aa-4d19-b1af-9f0be63c5dc6\" xlink:show=\"new\" xlink:title=\"psysml:61bbaf9b-44aa-4d19-b1af-9f0be63c5dc6\" xlink:type=\"simple\"><polygon fill=\"#FFFFFF\" points=\"68,243,92,243,99,265.2969,205,265.2969,205,356,68,356,68,243\" style=\"stroke: #000000; stroke-width: 1.5;\"/><line style=\"stroke: #000000; stroke-width: 1.5;\" x1=\"68\" x2=\"99\" y1=\"265.2969\" y2=\"265.2969\"/><text fill=\"#000000\" font-family=\"sans-serif\" font-size=\"14\" font-weight=\"bold\" lengthAdjust=\"spacingAndGlyphs\" textLength=\"18\" x=\"72\" y=\"257.9951\">P3</text></a><!--MD5=[7f149f147074ac12df2cb0a7728a5fb0]\n",
       "cluster E9--><a href=\"psysml:826bc35a-2948-4f0f-ac57-a46abe90dd77\" target=\"_top\" title=\"psysml:826bc35a-2948-4f0f-ac57-a46abe90dd77\" xlink:actuate=\"onRequest\" xlink:href=\"psysml:826bc35a-2948-4f0f-ac57-a46abe90dd77\" xlink:show=\"new\" xlink:title=\"psysml:826bc35a-2948-4f0f-ac57-a46abe90dd77\" xlink:type=\"simple\"><polygon fill=\"#FFFFFF\" points=\"256,65,280,65,287,87.2969,365,87.2969,365,178,256,178,256,65\" style=\"stroke: #000000; stroke-width: 1.5;\"/><line style=\"stroke: #000000; stroke-width: 1.5;\" x1=\"256\" x2=\"287\" y1=\"87.2969\" y2=\"87.2969\"/><text fill=\"#000000\" font-family=\"sans-serif\" font-size=\"14\" font-weight=\"bold\" lengthAdjust=\"spacingAndGlyphs\" textLength=\"18\" x=\"260\" y=\"79.9951\">P4</text></a><!--MD5=[270fce915f116d4de14055a7c1d9a0f3]\n",
       "class E5--><a href=\"psysml:ae255e73-333e-4dec-b11e-e996fbedcc54\" target=\"_top\" title=\"psysml:ae255e73-333e-4dec-b11e-e996fbedcc54\" xlink:actuate=\"onRequest\" xlink:href=\"psysml:ae255e73-333e-4dec-b11e-e996fbedcc54\" xlink:show=\"new\" xlink:title=\"psysml:ae255e73-333e-4dec-b11e-e996fbedcc54\" xlink:type=\"simple\"><rect fill=\"#FFFFFF\" height=\"45.9375\" id=\"E5\" rx=\"10\" ry=\"10\" style=\"stroke: #383838; stroke-width: 1.5;\" width=\"42\" x=\"339\" y=\"286\"/><text fill=\"#000000\" font-family=\"sans-serif\" font-size=\"12\" font-style=\"italic\" lengthAdjust=\"spacingAndGlyphs\" textLength=\"40\" x=\"340\" y=\"302.1387\">«part»</text><text fill=\"#000000\" font-family=\"sans-serif\" font-size=\"12\" lengthAdjust=\"spacingAndGlyphs\" textLength=\"22\" x=\"347\" y=\"316.1074\">x: A</text><line style=\"stroke: #383838; stroke-width: 1.5;\" x1=\"340\" x2=\"380\" y1=\"323.9375\" y2=\"323.9375\"/></a><!--MD5=[b9389687b975829384b498ac4b7476b2]\n",
       "class E8--><a href=\"psysml:3c42eaa7-d0d8-4753-a2b8-0968c7baa502\" target=\"_top\" title=\"psysml:3c42eaa7-d0d8-4753-a2b8-0968c7baa502\" xlink:actuate=\"onRequest\" xlink:href=\"psysml:3c42eaa7-d0d8-4753-a2b8-0968c7baa502\" xlink:show=\"new\" xlink:title=\"psysml:3c42eaa7-d0d8-4753-a2b8-0968c7baa502\" xlink:type=\"simple\"><rect fill=\"#FFFFFF\" height=\"45.9375\" id=\"E8\" rx=\"10\" ry=\"10\" style=\"stroke: #383838; stroke-width: 1.5;\" width=\"42\" x=\"187\" y=\"108\"/><text fill=\"#000000\" font-family=\"sans-serif\" font-size=\"12\" font-style=\"italic\" lengthAdjust=\"spacingAndGlyphs\" textLength=\"40\" x=\"188\" y=\"124.1387\">«part»</text><text fill=\"#000000\" font-family=\"sans-serif\" font-size=\"12\" lengthAdjust=\"spacingAndGlyphs\" textLength=\"21\" x=\"195.5\" y=\"138.1074\">z: B</text><line style=\"stroke: #383838; stroke-width: 1.5;\" x1=\"188\" x2=\"228\" y1=\"145.9375\" y2=\"145.9375\"/></a><!--MD5=[09b614a08d8cba4a07c9adeb5e0fee81]\n",
       "class E3--><a href=\"psysml:e52e2a8f-f908-40ce-88b1-6459229e6290\" target=\"_top\" title=\"psysml:e52e2a8f-f908-40ce-88b1-6459229e6290\" xlink:actuate=\"onRequest\" xlink:href=\"psysml:e52e2a8f-f908-40ce-88b1-6459229e6290\" xlink:show=\"new\" xlink:title=\"psysml:e52e2a8f-f908-40ce-88b1-6459229e6290\" xlink:type=\"simple\"><rect fill=\"#FFFFFF\" height=\"45.9375\" id=\"E3\" style=\"stroke: #383838; stroke-width: 1.5;\" width=\"70\" x=\"268\" y=\"464\"/><text fill=\"#000000\" font-family=\"sans-serif\" font-size=\"12\" font-style=\"italic\" lengthAdjust=\"spacingAndGlyphs\" textLength=\"68\" x=\"269\" y=\"480.1387\">«part  def»</text><text fill=\"#000000\" font-family=\"sans-serif\" font-size=\"12\" lengthAdjust=\"spacingAndGlyphs\" textLength=\"8\" x=\"299\" y=\"494.1074\">A</text><line style=\"stroke: #383838; stroke-width: 1.5;\" x1=\"269\" x2=\"337\" y1=\"501.9375\" y2=\"501.9375\"/></a><a href=\"psysml:b07c7c49-60b3-45d9-ab30-3f9ccb4621b1\" target=\"_top\" title=\"psysml:b07c7c49-60b3-45d9-ab30-3f9ccb4621b1\" xlink:actuate=\"onRequest\" xlink:href=\"psysml:b07c7c49-60b3-45d9-ab30-3f9ccb4621b1\" xlink:show=\"new\" xlink:title=\"psysml:b07c7c49-60b3-45d9-ab30-3f9ccb4621b1\" xlink:type=\"simple\"><polygon fill=\"#FFFFFF\" points=\"229,282.5,253,282.5,260,304.7969,267,304.7969,267,335.0938,229,335.0938,229,282.5\" style=\"stroke: #000000; stroke-width: 1.5;\"/><line style=\"stroke: #000000; stroke-width: 1.5;\" x1=\"229\" x2=\"260\" y1=\"304.7969\" y2=\"304.7969\"/><text fill=\"#000000\" font-family=\"sans-serif\" font-size=\"14\" font-weight=\"bold\" lengthAdjust=\"spacingAndGlyphs\" textLength=\"18\" x=\"233\" y=\"297.4951\">P2</text></a><!--MD5=[2156ba9850f5573cc1fc38a6a4b2f02b]\n",
       "class E7--><a href=\"psysml:f5eaf228-c184-457d-ba82-3236315ba9d3\" target=\"_top\" title=\"psysml:f5eaf228-c184-457d-ba82-3236315ba9d3\" xlink:actuate=\"onRequest\" xlink:href=\"psysml:f5eaf228-c184-457d-ba82-3236315ba9d3\" xlink:show=\"new\" xlink:title=\"psysml:f5eaf228-c184-457d-ba82-3236315ba9d3\" xlink:type=\"simple\"><rect fill=\"#FFFFFF\" height=\"45.9375\" id=\"E7\" style=\"stroke: #383838; stroke-width: 1.5;\" width=\"70\" x=\"111\" y=\"286\"/><text fill=\"#000000\" font-family=\"sans-serif\" font-size=\"12\" font-style=\"italic\" lengthAdjust=\"spacingAndGlyphs\" textLength=\"68\" x=\"112\" y=\"302.1387\">«part  def»</text><text fill=\"#000000\" font-family=\"sans-serif\" font-size=\"12\" lengthAdjust=\"spacingAndGlyphs\" textLength=\"8\" x=\"142\" y=\"316.1074\">B</text><line style=\"stroke: #383838; stroke-width: 1.5;\" x1=\"112\" x2=\"180\" y1=\"323.9375\" y2=\"323.9375\"/></a><!--MD5=[96f4274e9e20536e775497830990834d]\n",
       "class E10--><a href=\"psysml:bd10993a-8e6e-4149-83fc-2dc02c68e6fc\" target=\"_top\" title=\"psysml:bd10993a-8e6e-4149-83fc-2dc02c68e6fc\" xlink:actuate=\"onRequest\" xlink:href=\"psysml:bd10993a-8e6e-4149-83fc-2dc02c68e6fc\" xlink:show=\"new\" xlink:title=\"psysml:bd10993a-8e6e-4149-83fc-2dc02c68e6fc\" xlink:type=\"simple\"><rect fill=\"#FFFFFF\" height=\"45.9375\" id=\"E10\" rx=\"10\" ry=\"10\" style=\"stroke: #383838; stroke-width: 1.5;\" width=\"42\" x=\"299\" y=\"108\"/><text fill=\"#000000\" font-family=\"sans-serif\" font-size=\"12\" font-style=\"italic\" lengthAdjust=\"spacingAndGlyphs\" textLength=\"40\" x=\"300\" y=\"124.1387\">«part»</text><text fill=\"#000000\" font-family=\"sans-serif\" font-size=\"12\" lengthAdjust=\"spacingAndGlyphs\" textLength=\"29\" x=\"303.5\" y=\"138.1074\">z1: A</text><line style=\"stroke: #383838; stroke-width: 1.5;\" x1=\"300\" x2=\"340\" y1=\"145.9375\" y2=\"145.9375\"/></a><!--MD5=[185131fc0dcab0a4505a2ebe144e961b]\n",
       "link E4 to E2--><a href=\"psysml:9c76a3dc-4160-42f2-8d03-f28cee99dd8d\" target=\"_top\" title=\"psysml:9c76a3dc-4160-42f2-8d03-f28cee99dd8d\" xlink:actuate=\"onRequest\" xlink:href=\"psysml:9c76a3dc-4160-42f2-8d03-f28cee99dd8d\" xlink:show=\"new\" xlink:title=\"psysml:9c76a3dc-4160-42f2-8d03-f28cee99dd8d\" xlink:type=\"simple\"><path d=\"M240.3,335.67 C234.31,355.65 227,380 227,380 C227,380 227,397 227,397 C227,397 227.3631,402.39 227.9108,410.5172 C228.0477,412.549 228.1961,414.7519 228.3533,417.0844 C228.4319,418.2506 228.5127,419.4493 228.5953,420.6751 \" fill=\"none\" id=\"E4-&gt;E2\" style=\"stroke: #383838; stroke-width: 1.0; stroke-dasharray: 7.0,7.0;\"/><polygon fill=\"#383838\" points=\"228.5953,420.6751,231.9811,411.4265,228.2591,415.6864,223.9992,411.9645,228.5953,420.6751\" style=\"stroke: #383838; stroke-width: 1.0;\"/><text fill=\"#000000\" font-family=\"sans-serif\" font-size=\"13\" lengthAdjust=\"spacingAndGlyphs\" textLength=\"65\" x=\"228\" y=\"393.0669\">«import»*</text></a><!--MD5=[e9be52314489bd878ff4c7144b63c9e1]\n",
       "link E5 to E3--><a href=\"psysml:7e781afb-bb69-45b4-99ca-abeca0fc5181\" target=\"_top\" title=\"psysml:7e781afb-bb69-45b4-99ca-abeca0fc5181\" xlink:actuate=\"onRequest\" xlink:href=\"psysml:7e781afb-bb69-45b4-99ca-abeca0fc5181\" xlink:show=\"new\" xlink:title=\"psysml:7e781afb-bb69-45b4-99ca-abeca0fc5181\" xlink:type=\"simple\"><path d=\"M352.78,332.29 C343.66,360.46 327.78,409.49 316.4,444.61 \" fill=\"none\" id=\"E5-&gt;E3\" style=\"stroke: #383838; stroke-width: 1.0;\"/><polygon fill=\"#FFFFFF\" points=\"310.16,463.89,309.3493,443.6578,322.6693,447.9678,310.16,463.89\" style=\"stroke: #383838; stroke-width: 1.0;\"/><ellipse cx=\"313.0069\" cy=\"438.8503\" fill=\"#383838\" rx=\"2\" ry=\"2\" style=\"stroke: #383838; stroke-width: 1.0;\"/><ellipse cx=\"322.5213\" cy=\"441.9289\" fill=\"#383838\" rx=\"2\" ry=\"2\" style=\"stroke: #383838; stroke-width: 1.0;\"/></a><!--MD5=[ee384bb554873b72f85793eae40e290c]\n",
       "link E1 to E4--><a href=\"psysml:3abfa817-381d-4c68-8935-6fa98a0aa2e6\" target=\"_top\" title=\"psysml:3abfa817-381d-4c68-8935-6fa98a0aa2e6\" xlink:actuate=\"onRequest\" xlink:href=\"psysml:3abfa817-381d-4c68-8935-6fa98a0aa2e6\" xlink:show=\"new\" xlink:title=\"psysml:3abfa817-381d-4c68-8935-6fa98a0aa2e6\" xlink:type=\"simple\"><path d=\"M28.01,132.04 C28.25,133.92 36,194 36,194 C36,194 81,202 81,202 C81,202 197,227 197,227 C197,227 214.66,255.04 229.19,278.13 \" fill=\"none\" id=\"E1-&gt;E4\" style=\"stroke: #383838; stroke-width: 1.0; stroke-dasharray: 7.0,7.0;\"/><polygon fill=\"#383838\" points=\"231.86,282.37,230.4584,272.6214,229.1997,278.1364,223.6847,276.8778,231.86,282.37\" style=\"stroke: #383838; stroke-width: 1.0;\"/><text fill=\"#000000\" font-family=\"sans-serif\" font-size=\"13\" lengthAdjust=\"spacingAndGlyphs\" textLength=\"65\" x=\"160\" y=\"215.0669\">«import»*</text></a><!--MD5=[ccbd3af71bf83df0ec2a2db62d6d7130]\n",
       "link E1 to E6--><a href=\"psysml:38071c17-dcc7-47a2-931c-5199b5c10531\" target=\"_top\" title=\"psysml:38071c17-dcc7-47a2-931c-5199b5c10531\" xlink:actuate=\"onRequest\" xlink:href=\"psysml:38071c17-dcc7-47a2-931c-5199b5c10531\" xlink:show=\"new\" xlink:title=\"psysml:38071c17-dcc7-47a2-931c-5199b5c10531\" xlink:type=\"simple\"><path d=\"M19.8842,157.8227 C19.8433,157.9531 19.8022,158.0837 19.7611,158.2144 C19.4325,159.2604 19.1003,160.3175 18.7658,161.3817 C18.0969,163.5102 17.4191,165.6672 16.7425,167.82 C11.33,185.0425 6,202 6,202 C6,202 6,219 6,219 C6,219 22.9575,240.56 40.18,262.4575 C48.7913,273.4063 57.4688,284.4394 64.1259,292.9041 C64.9581,293.9621 65.7587,294.9801 66.5236,295.9527 C66.9061,296.4391 67.2796,296.9141 67.6438,297.3771 C67.7348,297.4928 67.8253,297.6078 67.9151,297.7221 \" fill=\"none\" id=\"E1-&gt;E6\" style=\"stroke: #383838; stroke-width: 1.0; stroke-dasharray: 7.0,7.0;\"/><polygon fill=\"#383838\" points=\"67.9151,297.7221,65.4957,288.175,64.8242,293.7919,59.2073,293.1204,67.9151,297.7221\" style=\"stroke: #383838; stroke-width: 1.0;\"/><text fill=\"#000000\" font-family=\"sans-serif\" font-size=\"13\" lengthAdjust=\"spacingAndGlyphs\" textLength=\"65\" x=\"7\" y=\"215.0669\">«import»*</text></a><!--MD5=[bfa3c8b0d15052fdf50ae9310b491027]\n",
       "link E8 to E7--><a href=\"psysml:84039e37-6732-4e81-a24d-af568a8fc4d2\" target=\"_top\" title=\"psysml:84039e37-6732-4e81-a24d-af568a8fc4d2\" xlink:actuate=\"onRequest\" xlink:href=\"psysml:84039e37-6732-4e81-a24d-af568a8fc4d2\" xlink:show=\"new\" xlink:title=\"psysml:84039e37-6732-4e81-a24d-af568a8fc4d2\" xlink:type=\"simple\"><path d=\"M217.49,154.15 C226.28,174.66 238,202 238,202 C238,202 238,219 238,219 C238,219 185,227 185,227 C185,227 175.15,247.45 165.36,267.8 \" fill=\"none\" id=\"E8-&gt;E7\" style=\"stroke: #383838; stroke-width: 1.0;\"/><polygon fill=\"#FFFFFF\" points=\"156.66,285.87,158.5936,265.7141,171.2082,271.7863,156.66,285.87\" style=\"stroke: #383838; stroke-width: 1.0;\"/><ellipse cx=\"162.8679\" cy=\"261.4456\" fill=\"#383838\" rx=\"2\" ry=\"2\" style=\"stroke: #383838; stroke-width: 1.0;\"/><ellipse cx=\"171.8783\" cy=\"265.7829\" fill=\"#383838\" rx=\"2\" ry=\"2\" style=\"stroke: #383838; stroke-width: 1.0;\"/></a><!--MD5=[c2be97adba6ddfe1c8f349fab141c927]\n",
       "link E9 to E4--><a href=\"psysml:f4a7c8b4-50d4-4d21-9428-75951a767795\" target=\"_top\" title=\"psysml:f4a7c8b4-50d4-4d21-9428-75951a767795\" xlink:actuate=\"onRequest\" xlink:href=\"psysml:f4a7c8b4-50d4-4d21-9428-75951a767795\" xlink:show=\"new\" xlink:title=\"psysml:f4a7c8b4-50d4-4d21-9428-75951a767795\" xlink:type=\"simple\"><path d=\"M261.024,178.1434 C261.0103,178.3545 260.9968,178.5643 260.9833,178.7729 C260.9564,179.1899 260.9298,179.6018 260.9036,180.0081 C260.7986,181.633 260.6995,183.1677 260.6081,184.5831 C260.2425,190.245 260,194 260,194 C260,194 254.8,243.38 251.25,277.14 \" fill=\"none\" id=\"E9-&gt;E4\" style=\"stroke: #383838; stroke-width: 1.0; stroke-dasharray: 7.0,7.0;\"/><polygon fill=\"#383838\" points=\"250.69,282.42,255.6191,273.8933,251.2186,277.448,247.664,273.0475,250.69,282.42\" style=\"stroke: #383838; stroke-width: 1.0;\"/><text fill=\"#000000\" font-family=\"sans-serif\" font-size=\"13\" lengthAdjust=\"spacingAndGlyphs\" textLength=\"65\" x=\"259\" y=\"215.0669\">«import»*</text></a><!--MD5=[feeac5eb423634930294aa81f2d25a4c]\n",
       "link E10 to E3--><a href=\"psysml:ff7299d7-bc25-43a3-abcf-daa45aa95a4b\" target=\"_top\" title=\"psysml:ff7299d7-bc25-43a3-abcf-daa45aa95a4b\" xlink:actuate=\"onRequest\" xlink:href=\"psysml:ff7299d7-bc25-43a3-abcf-daa45aa95a4b\" xlink:show=\"new\" xlink:title=\"psysml:ff7299d7-bc25-43a3-abcf-daa45aa95a4b\" xlink:type=\"simple\"><path d=\"M330.12,154.15 C339.5,174.66 352,202 352,202 C352,202 352,219 352,219 C352,219 308,227 308,227 C308,227 305.24,370.14 303.82,443.59 \" fill=\"none\" id=\"E10-&gt;E3\" style=\"stroke: #383838; stroke-width: 1.0;\"/><polygon fill=\"#FFFFFF\" points=\"303.43,463.92,296.7977,444.7886,310.7951,445.0585,303.43,463.92\" style=\"stroke: #383838; stroke-width: 1.0;\"/><ellipse cx=\"298.9072\" cy=\"439.1282\" fill=\"#383838\" rx=\"2\" ry=\"2\" style=\"stroke: #383838; stroke-width: 1.0;\"/><ellipse cx=\"308.9053\" cy=\"439.321\" fill=\"#383838\" rx=\"2\" ry=\"2\" style=\"stroke: #383838; stroke-width: 1.0;\"/></a><!--MD5=[1b1cccb1f07e5e2cff8962c99e35ff38]\n",
       "@startuml\r\n",
       "skinparam linetype polyline\r\n",
       "skinparam monochrome true\r\n",
       "skinparam classbackgroundcolor white\r\n",
       "skinparam shadowing false\r\n",
       "skinparam wrapWidth 300\r\n",
       "hide circle\r\n",
       "\r\n",
       "package \"PrivateImportTest\" as E1  [[psysml:8f933ba8-0ed5-4db5-b82c-58b1e568922b ]]  {\r\n",
       "package \"P1\" as E2  [[psysml:dc5a646f-7a70-4bb5-8a84-dd766b7ca58f ]]  {\r\n",
       "comp def \"A\" as E3  <<(T,blue) part  def>> [[psysml:e52e2a8f-f908-40ce-88b1-6459229e6290 ]] {\r\n",
       "}\r\n",
       "}\r\n",
       "package \"P2\" as E4  [[psysml:b07c7c49-60b3-45d9-ab30-3f9ccb4621b1 ]]  {\r\n",
       "}\r\n",
       "comp usage \"x: A \" as E5  <<(T,blue) part>> [[psysml:ae255e73-333e-4dec-b11e-e996fbedcc54 ]] {\r\n",
       "}\r\n",
       "package \"P3\" as E6  [[psysml:61bbaf9b-44aa-4d19-b1af-9f0be63c5dc6 ]]  {\r\n",
       "comp def \"B\" as E7  <<(T,blue) part  def>> [[psysml:f5eaf228-c184-457d-ba82-3236315ba9d3 ]] {\r\n",
       "}\r\n",
       "}\r\n",
       "comp usage \"z: B \" as E8  <<(T,blue) part>> [[psysml:3c42eaa7-d0d8-4753-a2b8-0968c7baa502 ]] {\r\n",
       "}\r\n",
       "package \"P4\" as E9  [[psysml:826bc35a-2948-4f0f-ac57-a46abe90dd77 ]]  {\r\n",
       "comp usage \"z1: A \" as E10  <<(T,blue) part>> [[psysml:bd10993a-8e6e-4149-83fc-2dc02c68e6fc ]] {\r\n",
       "}\r\n",
       "}\r\n",
       "}\r\n",
       "E4 ..> E2 [[psysml:9c76a3dc-4160-42f2-8d03-f28cee99dd8d ]] : <<import>>*\r\n",
       "E5 - -:|> E3 [[psysml:7e781afb-bb69-45b4-99ca-abeca0fc5181 ]] \r\n",
       "E1 ..> E4 [[psysml:3abfa817-381d-4c68-8935-6fa98a0aa2e6 ]] : <<import>>*\r\n",
       "E1 ..> E6 [[psysml:38071c17-dcc7-47a2-931c-5199b5c10531 ]] : <<import>>*\r\n",
       "E8 - -:|> E7 [[psysml:84039e37-6732-4e81-a24d-af568a8fc4d2 ]] \r\n",
       "E9 ..> E4 [[psysml:f4a7c8b4-50d4-4d21-9428-75951a767795 ]] : <<import>>*\r\n",
       "E10 - -:|> E3 [[psysml:ff7299d7-bc25-43a3-abcf-daa45aa95a4b ]] \r\n",
       "@enduml\r\n",
       "\n",
       "PlantUML version 1.2020.13(Sat Jun 13 12:26:38 UTC 2020)\n",
       "(EPL source distribution)\n",
       "Java Runtime: OpenJDK Runtime Environment\n",
       "JVM: OpenJDK 64-Bit Server VM\n",
       "Default Encoding: UTF-8\n",
       "Language: en\n",
       "Country: null\n",
       "--></g></svg>"
      ]
     },
     "execution_count": 10,
     "metadata": {},
     "output_type": "execute_result"
    }
   ],
   "source": [
    "%viz --style=\"POLYLINE\" --view=\"Tree\" \"PrivateImportTest\""
   ]
  },
  {
   "cell_type": "code",
   "execution_count": 11,
   "id": "d86ede4f",
   "metadata": {
    "execution": {
     "iopub.execute_input": "2022-08-19T08:19:16.583007Z",
     "iopub.status.busy": "2022-08-19T08:19:16.582706Z",
     "iopub.status.idle": "2022-08-19T08:19:16.586418Z",
     "shell.execute_reply": "2022-08-19T08:19:16.586591Z"
    }
   },
   "outputs": [
    {
     "data": {
      "image/svg+xml": [
       "<?xml version=\"1.0\" encoding=\"UTF-8\" standalone=\"no\"?><svg xmlns=\"http://www.w3.org/2000/svg\" xmlns:xlink=\"http://www.w3.org/1999/xlink\" contentScriptType=\"application/ecmascript\" contentStyleType=\"text/css\" height=\"12px\" preserveAspectRatio=\"none\" style=\"width:12px;height:12px;\" version=\"1.1\" viewBox=\"0 0 12 12\" width=\"12px\" zoomAndPan=\"magnify\"><defs/><g><!--MD5=[896ac0e7a515d8dd7765a661cb4ee08b]\n",
       "@startuml\r\n",
       "skinparam linetype polyline\r\n",
       "skinparam monochrome true\r\n",
       "skinparam classbackgroundcolor white\r\n",
       "skinparam shadowing false\r\n",
       "skinparam wrapWidth 300\r\n",
       "hide circle\r\n",
       "\r\n",
       "@enduml\r\n",
       "\n",
       "PlantUML version 1.2020.13(Sat Jun 13 12:26:38 UTC 2020)\n",
       "(EPL source distribution)\n",
       "Java Runtime: OpenJDK Runtime Environment\n",
       "JVM: OpenJDK 64-Bit Server VM\n",
       "Default Encoding: UTF-8\n",
       "Language: en\n",
       "Country: null\n",
       "--></g></svg>"
      ]
     },
     "execution_count": 11,
     "metadata": {},
     "output_type": "execute_result"
    }
   ],
   "source": [
    "%viz --style=\"POLYLINE\" --view=\"State\" \"PrivateImportTest\""
   ]
  },
  {
   "cell_type": "code",
   "execution_count": 12,
   "id": "1d6d7630",
   "metadata": {
    "execution": {
     "iopub.execute_input": "2022-08-19T08:19:16.636846Z",
     "iopub.status.busy": "2022-08-19T08:19:16.636567Z",
     "iopub.status.idle": "2022-08-19T08:19:16.677582Z",
     "shell.execute_reply": "2022-08-19T08:19:16.678059Z"
    }
   },
   "outputs": [
    {
     "data": {
      "image/svg+xml": [
       "<?xml version=\"1.0\" encoding=\"UTF-8\" standalone=\"no\"?><svg xmlns=\"http://www.w3.org/2000/svg\" xmlns:xlink=\"http://www.w3.org/1999/xlink\" contentScriptType=\"application/ecmascript\" contentStyleType=\"text/css\" height=\"574px\" preserveAspectRatio=\"none\" style=\"width:440px;height:574px;\" version=\"1.1\" viewBox=\"0 0 440 574\" width=\"440px\" zoomAndPan=\"magnify\"><defs/><g><!--MD5=[fbc87193dbaf4d95561dea2c320d4a47]\n",
       "cluster E1--><a href=\"psysml:8f933ba8-0ed5-4db5-b82c-58b1e568922b\" target=\"_top\" title=\"psysml:8f933ba8-0ed5-4db5-b82c-58b1e568922b\" xlink:actuate=\"onRequest\" xlink:href=\"psysml:8f933ba8-0ed5-4db5-b82c-58b1e568922b\" xlink:show=\"new\" xlink:title=\"psysml:8f933ba8-0ed5-4db5-b82c-58b1e568922b\" xlink:type=\"simple\"><polygon fill=\"#FFFFFF\" points=\"20,6,147,6,154,28.2969,418,28.2969,418,562,20,562,20,6\" style=\"stroke: #000000; stroke-width: 1.5;\"/><line style=\"stroke: #000000; stroke-width: 1.5;\" x1=\"20\" x2=\"154\" y1=\"28.2969\" y2=\"28.2969\"/><text fill=\"#000000\" font-family=\"sans-serif\" font-size=\"14\" font-weight=\"bold\" lengthAdjust=\"spacingAndGlyphs\" textLength=\"121\" x=\"24\" y=\"20.9951\">PrivateImportTest</text></a><!--MD5=[e4f7fae6ed58524ba242bb0b0d3be6b7]\n",
       "cluster E2--><a href=\"psysml:dc5a646f-7a70-4bb5-8a84-dd766b7ca58f\" target=\"_top\" title=\"psysml:dc5a646f-7a70-4bb5-8a84-dd766b7ca58f\" xlink:actuate=\"onRequest\" xlink:href=\"psysml:dc5a646f-7a70-4bb5-8a84-dd766b7ca58f\" xlink:show=\"new\" xlink:title=\"psysml:dc5a646f-7a70-4bb5-8a84-dd766b7ca58f\" xlink:type=\"simple\"><polygon fill=\"#FFFFFF\" points=\"227,412,251,412,258,434.2969,369,434.2969,369,522,227,522,227,412\" style=\"stroke: #000000; stroke-width: 1.5;\"/><line style=\"stroke: #000000; stroke-width: 1.5;\" x1=\"227\" x2=\"258\" y1=\"434.2969\" y2=\"434.2969\"/><text fill=\"#000000\" font-family=\"sans-serif\" font-size=\"14\" font-weight=\"bold\" lengthAdjust=\"spacingAndGlyphs\" textLength=\"18\" x=\"231\" y=\"426.9951\">P1</text></a><!--MD5=[14e3b0961a2654348d326746436168a1]\n",
       "cluster E6--><a href=\"psysml:61bbaf9b-44aa-4d19-b1af-9f0be63c5dc6\" target=\"_top\" title=\"psysml:61bbaf9b-44aa-4d19-b1af-9f0be63c5dc6\" xlink:actuate=\"onRequest\" xlink:href=\"psysml:61bbaf9b-44aa-4d19-b1af-9f0be63c5dc6\" xlink:show=\"new\" xlink:title=\"psysml:61bbaf9b-44aa-4d19-b1af-9f0be63c5dc6\" xlink:type=\"simple\"><polygon fill=\"#FFFFFF\" points=\"68,237,92,237,99,259.2969,210,259.2969,210,347,68,347,68,237\" style=\"stroke: #000000; stroke-width: 1.5;\"/><line style=\"stroke: #000000; stroke-width: 1.5;\" x1=\"68\" x2=\"99\" y1=\"259.2969\" y2=\"259.2969\"/><text fill=\"#000000\" font-family=\"sans-serif\" font-size=\"14\" font-weight=\"bold\" lengthAdjust=\"spacingAndGlyphs\" textLength=\"18\" x=\"72\" y=\"251.9951\">P3</text></a><!--MD5=[7f149f147074ac12df2cb0a7728a5fb0]\n",
       "cluster E9--><a href=\"psysml:826bc35a-2948-4f0f-ac57-a46abe90dd77\" target=\"_top\" title=\"psysml:826bc35a-2948-4f0f-ac57-a46abe90dd77\" xlink:actuate=\"onRequest\" xlink:href=\"psysml:826bc35a-2948-4f0f-ac57-a46abe90dd77\" xlink:show=\"new\" xlink:title=\"psysml:826bc35a-2948-4f0f-ac57-a46abe90dd77\" xlink:type=\"simple\"><polygon fill=\"#FFFFFF\" points=\"261,65,285,65,292,87.2969,378,87.2969,378,172,261,172,261,65\" style=\"stroke: #000000; stroke-width: 1.5;\"/><line style=\"stroke: #000000; stroke-width: 1.5;\" x1=\"261\" x2=\"292\" y1=\"87.2969\" y2=\"87.2969\"/><text fill=\"#000000\" font-family=\"sans-serif\" font-size=\"14\" font-weight=\"bold\" lengthAdjust=\"spacingAndGlyphs\" textLength=\"18\" x=\"265\" y=\"79.9951\">P4</text></a><g id=\"E1.E2.E3\"><a href=\"psysml:e52e2a8f-f908-40ce-88b1-6459229e6290\" target=\"_top\" title=\"psysml:e52e2a8f-f908-40ce-88b1-6459229e6290\" xlink:actuate=\"onRequest\" xlink:href=\"psysml:e52e2a8f-f908-40ce-88b1-6459229e6290\" xlink:show=\"new\" xlink:title=\"psysml:e52e2a8f-f908-40ce-88b1-6459229e6290\" xlink:type=\"simple\"><rect fill=\"#FFFFFF\" height=\"42.9375\" id=\"E3\" style=\"stroke: #383838; stroke-width: 1.5;\" width=\"75\" x=\"270.5\" y=\"455\"/><rect fill=\"#F8F8F8\" height=\"37.9375\" style=\"stroke: #383838; stroke-width: 1.5;\" width=\"75\" x=\"270.5\" y=\"455\"/><text fill=\"#000000\" font-family=\"sans-serif\" font-size=\"12\" font-style=\"italic\" lengthAdjust=\"spacingAndGlyphs\" textLength=\"68\" x=\"274\" y=\"471.1387\">«part  def»</text><text fill=\"#000000\" font-family=\"sans-serif\" font-size=\"12\" lengthAdjust=\"spacingAndGlyphs\" textLength=\"8\" x=\"304\" y=\"485.1074\">A</text></a></g><a href=\"psysml:b07c7c49-60b3-45d9-ab30-3f9ccb4621b1\" target=\"_top\" title=\"psysml:b07c7c49-60b3-45d9-ab30-3f9ccb4621b1\" xlink:actuate=\"onRequest\" xlink:href=\"psysml:b07c7c49-60b3-45d9-ab30-3f9ccb4621b1\" xlink:show=\"new\" xlink:title=\"psysml:b07c7c49-60b3-45d9-ab30-3f9ccb4621b1\" xlink:type=\"simple\"><polygon fill=\"#FFFFFF\" points=\"234,275,258,275,265,297.2969,272,297.2969,272,327.5938,234,327.5938,234,275\" style=\"stroke: #000000; stroke-width: 1.5;\"/><line style=\"stroke: #000000; stroke-width: 1.5;\" x1=\"234\" x2=\"265\" y1=\"297.2969\" y2=\"297.2969\"/><text fill=\"#000000\" font-family=\"sans-serif\" font-size=\"14\" font-weight=\"bold\" lengthAdjust=\"spacingAndGlyphs\" textLength=\"18\" x=\"238\" y=\"289.9951\">P2</text></a><g id=\"E1.E5\"><a href=\"psysml:ae255e73-333e-4dec-b11e-e996fbedcc54\" target=\"_top\" title=\"psysml:ae255e73-333e-4dec-b11e-e996fbedcc54\" xlink:actuate=\"onRequest\" xlink:href=\"psysml:ae255e73-333e-4dec-b11e-e996fbedcc54\" xlink:show=\"new\" xlink:title=\"psysml:ae255e73-333e-4dec-b11e-e996fbedcc54\" xlink:type=\"simple\"><rect fill=\"#FFFFFF\" height=\"40\" id=\"E5\" rx=\"10\" ry=\"10\" style=\"stroke: #383838; stroke-width: 1.5;\" width=\"50\" x=\"344\" y=\"281.5\"/><rect fill=\"#F8F8F8\" height=\"23.9688\" rx=\"10\" ry=\"10\" style=\"stroke: #F8F8F8; stroke-width: 1.5;\" width=\"50\" x=\"344\" y=\"281.5\"/><rect fill=\"#F8F8F8\" height=\"10\" style=\"stroke: #F8F8F8; stroke-width: 1.5;\" width=\"50\" x=\"344\" y=\"295.4688\"/><rect fill=\"none\" height=\"40\" id=\"E5\" rx=\"10\" ry=\"10\" style=\"stroke: #383838; stroke-width: 1.5;\" width=\"50\" x=\"344\" y=\"281.5\"/><text fill=\"#000000\" font-family=\"sans-serif\" font-size=\"12\" lengthAdjust=\"spacingAndGlyphs\" textLength=\"22\" x=\"358\" y=\"297.6387\">x: A</text></a></g><g id=\"E1.E6.E7\"><a href=\"psysml:f5eaf228-c184-457d-ba82-3236315ba9d3\" target=\"_top\" title=\"psysml:f5eaf228-c184-457d-ba82-3236315ba9d3\" xlink:actuate=\"onRequest\" xlink:href=\"psysml:f5eaf228-c184-457d-ba82-3236315ba9d3\" xlink:show=\"new\" xlink:title=\"psysml:f5eaf228-c184-457d-ba82-3236315ba9d3\" xlink:type=\"simple\"><rect fill=\"#FFFFFF\" height=\"42.9375\" id=\"E7\" style=\"stroke: #383838; stroke-width: 1.5;\" width=\"75\" x=\"111.5\" y=\"280\"/><rect fill=\"#F8F8F8\" height=\"37.9375\" style=\"stroke: #383838; stroke-width: 1.5;\" width=\"75\" x=\"111.5\" y=\"280\"/><text fill=\"#000000\" font-family=\"sans-serif\" font-size=\"12\" font-style=\"italic\" lengthAdjust=\"spacingAndGlyphs\" textLength=\"68\" x=\"115\" y=\"296.1387\">«part  def»</text><text fill=\"#000000\" font-family=\"sans-serif\" font-size=\"12\" lengthAdjust=\"spacingAndGlyphs\" textLength=\"8\" x=\"145\" y=\"310.1074\">B</text></a></g><g id=\"E1.E8\"><a href=\"psysml:3c42eaa7-d0d8-4753-a2b8-0968c7baa502\" target=\"_top\" title=\"psysml:3c42eaa7-d0d8-4753-a2b8-0968c7baa502\" xlink:actuate=\"onRequest\" xlink:href=\"psysml:3c42eaa7-d0d8-4753-a2b8-0968c7baa502\" xlink:show=\"new\" xlink:title=\"psysml:3c42eaa7-d0d8-4753-a2b8-0968c7baa502\" xlink:type=\"simple\"><rect fill=\"#FFFFFF\" height=\"40\" id=\"E8\" rx=\"10\" ry=\"10\" style=\"stroke: #383838; stroke-width: 1.5;\" width=\"50\" x=\"184\" y=\"108\"/><rect fill=\"#F8F8F8\" height=\"23.9688\" rx=\"10\" ry=\"10\" style=\"stroke: #F8F8F8; stroke-width: 1.5;\" width=\"50\" x=\"184\" y=\"108\"/><rect fill=\"#F8F8F8\" height=\"10\" style=\"stroke: #F8F8F8; stroke-width: 1.5;\" width=\"50\" x=\"184\" y=\"121.9688\"/><rect fill=\"none\" height=\"40\" id=\"E8\" rx=\"10\" ry=\"10\" style=\"stroke: #383838; stroke-width: 1.5;\" width=\"50\" x=\"184\" y=\"108\"/><text fill=\"#000000\" font-family=\"sans-serif\" font-size=\"12\" lengthAdjust=\"spacingAndGlyphs\" textLength=\"21\" x=\"198.5\" y=\"124.1387\">z: B</text></a></g><g id=\"E1.E9.E10\"><a href=\"psysml:bd10993a-8e6e-4149-83fc-2dc02c68e6fc\" target=\"_top\" title=\"psysml:bd10993a-8e6e-4149-83fc-2dc02c68e6fc\" xlink:actuate=\"onRequest\" xlink:href=\"psysml:bd10993a-8e6e-4149-83fc-2dc02c68e6fc\" xlink:show=\"new\" xlink:title=\"psysml:bd10993a-8e6e-4149-83fc-2dc02c68e6fc\" xlink:type=\"simple\"><rect fill=\"#FFFFFF\" height=\"40\" id=\"E10\" rx=\"10\" ry=\"10\" style=\"stroke: #383838; stroke-width: 1.5;\" width=\"50\" x=\"304\" y=\"108\"/><rect fill=\"#F8F8F8\" height=\"23.9688\" rx=\"10\" ry=\"10\" style=\"stroke: #F8F8F8; stroke-width: 1.5;\" width=\"50\" x=\"304\" y=\"108\"/><rect fill=\"#F8F8F8\" height=\"10\" style=\"stroke: #F8F8F8; stroke-width: 1.5;\" width=\"50\" x=\"304\" y=\"121.9688\"/><rect fill=\"none\" height=\"40\" id=\"E10\" rx=\"10\" ry=\"10\" style=\"stroke: #383838; stroke-width: 1.5;\" width=\"50\" x=\"304\" y=\"108\"/><text fill=\"#000000\" font-family=\"sans-serif\" font-size=\"12\" lengthAdjust=\"spacingAndGlyphs\" textLength=\"29\" x=\"314.5\" y=\"124.1387\">z1: A</text></a></g><!--MD5=[185131fc0dcab0a4505a2ebe144e961b]\n",
       "link E4 to E2--><a href=\"psysml:9c76a3dc-4160-42f2-8d03-f28cee99dd8d\" target=\"_top\" title=\"psysml:9c76a3dc-4160-42f2-8d03-f28cee99dd8d\" xlink:actuate=\"onRequest\" xlink:href=\"psysml:9c76a3dc-4160-42f2-8d03-f28cee99dd8d\" xlink:show=\"new\" xlink:title=\"psysml:9c76a3dc-4160-42f2-8d03-f28cee99dd8d\" xlink:type=\"simple\"><path d=\"M245.18,328.01 C239.21,347.48 232,371 232,371 C232,371 232,388 232,388 C232,388 232.1819,393.2994 232.4561,401.2898 C232.5246,403.2875 232.599,405.4533 232.6777,407.7465 C232.717,408.8931 232.7575,410.0716 232.7988,411.2769 C232.804,411.4275 232.8092,411.5786 232.8144,411.7301 \" fill=\"none\" id=\"E4-&gt;E2\" style=\"stroke: #383838; stroke-width: 1.0; stroke-dasharray: 7.0,7.0;\"/><polygon fill=\"#383838\" points=\"232.8144,411.7301,236.5034,402.5982,232.6429,406.733,228.5081,402.8726,232.8144,411.7301\" style=\"stroke: #383838; stroke-width: 1.0;\"/><text fill=\"#000000\" font-family=\"sans-serif\" font-size=\"13\" lengthAdjust=\"spacingAndGlyphs\" textLength=\"65\" x=\"233\" y=\"384.0669\">«import»*</text></a><!--MD5=[e9be52314489bd878ff4c7144b63c9e1]\n",
       "link E5 to E3--><a href=\"psysml:7e781afb-bb69-45b4-99ca-abeca0fc5181\" target=\"_top\" title=\"psysml:7e781afb-bb69-45b4-99ca-abeca0fc5181\" xlink:actuate=\"onRequest\" xlink:href=\"psysml:7e781afb-bb69-45b4-99ca-abeca0fc5181\" xlink:show=\"new\" xlink:title=\"psysml:7e781afb-bb69-45b4-99ca-abeca0fc5181\" xlink:type=\"simple\"><path d=\"M362.24,321.68 C352.57,349.11 334.56,400.18 321.96,435.92 \" fill=\"none\" id=\"E5-&gt;E3\" style=\"stroke: #383838; stroke-width: 1.0;\"/><polygon fill=\"#FFFFFF\" points=\"315.26,454.9,314.9794,434.6535,328.182,439.3109,315.26,454.9\" style=\"stroke: #383838; stroke-width: 1.0;\"/><ellipse cx=\"318.7618\" cy=\"429.9435\" fill=\"#383838\" rx=\"2\" ry=\"2\" style=\"stroke: #383838; stroke-width: 1.0;\"/><ellipse cx=\"328.1922\" cy=\"433.2702\" fill=\"#383838\" rx=\"2\" ry=\"2\" style=\"stroke: #383838; stroke-width: 1.0;\"/></a><!--MD5=[ee384bb554873b72f85793eae40e290c]\n",
       "link E1 to E4--><a href=\"psysml:3abfa817-381d-4c68-8935-6fa98a0aa2e6\" target=\"_top\" title=\"psysml:3abfa817-381d-4c68-8935-6fa98a0aa2e6\" xlink:actuate=\"onRequest\" xlink:href=\"psysml:3abfa817-381d-4c68-8935-6fa98a0aa2e6\" xlink:show=\"new\" xlink:title=\"psysml:3abfa817-381d-4c68-8935-6fa98a0aa2e6\" xlink:type=\"simple\"><path d=\"M28.02,129.17 C28.49,132.63 36,188 36,188 C36,188 81,196 81,196 C81,196 202,221 202,221 C202,221 219.29,247.95 233.74,270.47 \" fill=\"none\" id=\"E1-&gt;E4\" style=\"stroke: #383838; stroke-width: 1.0; stroke-dasharray: 7.0,7.0;\"/><polygon fill=\"#383838\" points=\"236.58,274.91,235.0929,265.1741,233.8827,270.6999,228.3568,269.4897,236.58,274.91\" style=\"stroke: #383838; stroke-width: 1.0;\"/><text fill=\"#000000\" font-family=\"sans-serif\" font-size=\"13\" lengthAdjust=\"spacingAndGlyphs\" textLength=\"65\" x=\"163\" y=\"209.0669\">«import»*</text></a><!--MD5=[ccbd3af71bf83df0ec2a2db62d6d7130]\n",
       "link E1 to E6--><a href=\"psysml:38071c17-dcc7-47a2-931c-5199b5c10531\" target=\"_top\" title=\"psysml:38071c17-dcc7-47a2-931c-5199b5c10531\" xlink:actuate=\"onRequest\" xlink:href=\"psysml:38071c17-dcc7-47a2-931c-5199b5c10531\" xlink:show=\"new\" xlink:title=\"psysml:38071c17-dcc7-47a2-931c-5199b5c10531\" xlink:type=\"simple\"><path d=\"M19.8842,153.7178 C19.8433,153.8426 19.8022,153.9676 19.7611,154.0927 C19.4325,155.0938 19.1003,156.1056 18.7658,157.1242 C18.0969,159.1613 17.4191,161.2258 16.7425,163.2863 C11.33,179.77 6,196 6,196 C6,196 6,213 6,213 C6,213 22.9575,234.1975 40.18,255.7263 C48.7913,266.4906 57.4688,277.3378 64.1259,285.6595 C64.9581,286.6997 65.7587,287.7005 66.5236,288.6567 C66.9061,289.1348 67.2796,289.6018 67.6438,290.0569 C67.7348,290.1707 67.8253,290.2838 67.9151,290.3961 \" fill=\"none\" id=\"E1-&gt;E6\" style=\"stroke: #383838; stroke-width: 1.0; stroke-dasharray: 7.0,7.0;\"/><polygon fill=\"#383838\" points=\"67.9151,290.3961,65.4164,280.8695,64.7917,286.4917,59.1694,285.867,67.9151,290.3961\" style=\"stroke: #383838; stroke-width: 1.0;\"/><text fill=\"#000000\" font-family=\"sans-serif\" font-size=\"13\" lengthAdjust=\"spacingAndGlyphs\" textLength=\"65\" x=\"7\" y=\"209.0669\">«import»*</text></a><!--MD5=[bfa3c8b0d15052fdf50ae9310b491027]\n",
       "link E8 to E7--><a href=\"psysml:84039e37-6732-4e81-a24d-af568a8fc4d2\" target=\"_top\" title=\"psysml:84039e37-6732-4e81-a24d-af568a8fc4d2\" xlink:actuate=\"onRequest\" xlink:href=\"psysml:84039e37-6732-4e81-a24d-af568a8fc4d2\" xlink:show=\"new\" xlink:title=\"psysml:84039e37-6732-4e81-a24d-af568a8fc4d2\" xlink:type=\"simple\"><path d=\"M217.23,148.02 C225.81,167.83 238,196 238,196 C238,196 238,213 238,213 C238,213 191,221 191,221 C191,221 180.14,241.55 169.47,261.75 \" fill=\"none\" id=\"E8-&gt;E7\" style=\"stroke: #383838; stroke-width: 1.0;\"/><polygon fill=\"#FFFFFF\" points=\"160.04,279.61,162.7255,259.5404,175.1043,266.0798,160.04,279.61\" style=\"stroke: #383838; stroke-width: 1.0;\"/><ellipse cx=\"167.1563\" cy=\"255.4346\" fill=\"#383838\" rx=\"2\" ry=\"2\" style=\"stroke: #383838; stroke-width: 1.0;\"/><ellipse cx=\"175.9984\" cy=\"260.1056\" fill=\"#383838\" rx=\"2\" ry=\"2\" style=\"stroke: #383838; stroke-width: 1.0;\"/></a><!--MD5=[c2be97adba6ddfe1c8f349fab141c927]\n",
       "link E9 to E4--><a href=\"psysml:f4a7c8b4-50d4-4d21-9428-75951a767795\" target=\"_top\" title=\"psysml:f4a7c8b4-50d4-4d21-9428-75951a767795\" xlink:actuate=\"onRequest\" xlink:href=\"psysml:f4a7c8b4-50d4-4d21-9428-75951a767795\" xlink:show=\"new\" xlink:title=\"psysml:f4a7c8b4-50d4-4d21-9428-75951a767795\" xlink:type=\"simple\"><path d=\"M266.075,172.1309 C266.0614,172.3315 266.0479,172.531 266.0345,172.7294 C265.9807,173.5228 265.9282,174.2982 265.8771,175.0522 C265.7749,176.5604 265.6785,177.9831 265.5897,179.2944 C265.2344,184.5394 265,188 265,188 C265,188 259.83,236.46 256.28,269.77 \" fill=\"none\" id=\"E9-&gt;E4\" style=\"stroke: #383838; stroke-width: 1.0; stroke-dasharray: 7.0,7.0;\"/><polygon fill=\"#383838\" points=\"255.72,274.97,260.6733,266.4574,256.2628,269.9995,252.7206,265.589,255.72,274.97\" style=\"stroke: #383838; stroke-width: 1.0;\"/><text fill=\"#000000\" font-family=\"sans-serif\" font-size=\"13\" lengthAdjust=\"spacingAndGlyphs\" textLength=\"65\" x=\"264\" y=\"209.0669\">«import»*</text></a><!--MD5=[feeac5eb423634930294aa81f2d25a4c]\n",
       "link E10 to E3--><a href=\"psysml:ff7299d7-bc25-43a3-abcf-daa45aa95a4b\" target=\"_top\" title=\"psysml:ff7299d7-bc25-43a3-abcf-daa45aa95a4b\" xlink:actuate=\"onRequest\" xlink:href=\"psysml:ff7299d7-bc25-43a3-abcf-daa45aa95a4b\" xlink:show=\"new\" xlink:title=\"psysml:ff7299d7-bc25-43a3-abcf-daa45aa95a4b\" xlink:type=\"simple\"><path d=\"M335.53,148.02 C342.33,167.83 352,196 352,196 C352,196 352,213 352,213 C352,213 313,221 313,221 C313,221 310.22,362.38 308.81,434.39 \" fill=\"none\" id=\"E10-&gt;E3\" style=\"stroke: #383838; stroke-width: 1.0;\"/><polygon fill=\"#FFFFFF\" points=\"308.41,454.67,301.7777,435.5386,315.7751,435.8085,308.41,454.67\" style=\"stroke: #383838; stroke-width: 1.0;\"/><ellipse cx=\"303.8872\" cy=\"429.8782\" fill=\"#383838\" rx=\"2\" ry=\"2\" style=\"stroke: #383838; stroke-width: 1.0;\"/><ellipse cx=\"313.8853\" cy=\"430.071\" fill=\"#383838\" rx=\"2\" ry=\"2\" style=\"stroke: #383838; stroke-width: 1.0;\"/></a><!--MD5=[ed38eb84388933e2115431cb53668970]\n",
       "@startuml\r\n",
       "skinparam ranksep 10\r\n",
       "skinparam rectangle {\r\n",
       " backgroundColor<<block>> LightGreen\r\n",
       "}\r\n",
       "skinparam linetype polyline\r\n",
       "skinparam monochrome true\r\n",
       "skinparam classbackgroundcolor white\r\n",
       "skinparam shadowing false\r\n",
       "skinparam wrapWidth 300\r\n",
       "hide circle\r\n",
       "\r\n",
       "package \"PrivateImportTest\" as E1  [[psysml:8f933ba8-0ed5-4db5-b82c-58b1e568922b ]]  {\r\n",
       "package \"P1\" as E2  [[psysml:dc5a646f-7a70-4bb5-8a84-dd766b7ca58f ]]  {\r\n",
       "rec def \"A\" as E3  <<(T,blue) part  def>> [[psysml:e52e2a8f-f908-40ce-88b1-6459229e6290 ]] {\r\n",
       "}\r\n",
       "}\r\n",
       "package \"P2\" as E4  [[psysml:b07c7c49-60b3-45d9-ab30-3f9ccb4621b1 ]]  {\r\n",
       "}\r\n",
       "rec usage \"x: A\" as E5  [[psysml:ae255e73-333e-4dec-b11e-e996fbedcc54 ]] {\r\n",
       "}\r\n",
       "package \"P3\" as E6  [[psysml:61bbaf9b-44aa-4d19-b1af-9f0be63c5dc6 ]]  {\r\n",
       "rec def \"B\" as E7  <<(T,blue) part  def>> [[psysml:f5eaf228-c184-457d-ba82-3236315ba9d3 ]] {\r\n",
       "}\r\n",
       "}\r\n",
       "rec usage \"z: B\" as E8  [[psysml:3c42eaa7-d0d8-4753-a2b8-0968c7baa502 ]] {\r\n",
       "}\r\n",
       "package \"P4\" as E9  [[psysml:826bc35a-2948-4f0f-ac57-a46abe90dd77 ]]  {\r\n",
       "rec usage \"z1: A\" as E10  [[psysml:bd10993a-8e6e-4149-83fc-2dc02c68e6fc ]] {\r\n",
       "}\r\n",
       "}\r\n",
       "}\r\n",
       "E4 ..> E2 [[psysml:9c76a3dc-4160-42f2-8d03-f28cee99dd8d ]] : <<import>>*\r\n",
       "E5 - -:|> E3 [[psysml:7e781afb-bb69-45b4-99ca-abeca0fc5181 ]] \r\n",
       "E1 ..> E4 [[psysml:3abfa817-381d-4c68-8935-6fa98a0aa2e6 ]] : <<import>>*\r\n",
       "E1 ..> E6 [[psysml:38071c17-dcc7-47a2-931c-5199b5c10531 ]] : <<import>>*\r\n",
       "E8 - -:|> E7 [[psysml:84039e37-6732-4e81-a24d-af568a8fc4d2 ]] \r\n",
       "E9 ..> E4 [[psysml:f4a7c8b4-50d4-4d21-9428-75951a767795 ]] : <<import>>*\r\n",
       "E10 - -:|> E3 [[psysml:ff7299d7-bc25-43a3-abcf-daa45aa95a4b ]] \r\n",
       "@enduml\r\n",
       "\n",
       "PlantUML version 1.2020.13(Sat Jun 13 12:26:38 UTC 2020)\n",
       "(EPL source distribution)\n",
       "Java Runtime: OpenJDK Runtime Environment\n",
       "JVM: OpenJDK 64-Bit Server VM\n",
       "Default Encoding: UTF-8\n",
       "Language: en\n",
       "Country: null\n",
       "--></g></svg>"
      ]
     },
     "execution_count": 12,
     "metadata": {},
     "output_type": "execute_result"
    }
   ],
   "source": [
    "%viz --style=\"POLYLINE\" --view=\"Interconnection\" \"PrivateImportTest\""
   ]
  },
  {
   "cell_type": "code",
   "execution_count": 13,
   "id": "d89a76da",
   "metadata": {
    "execution": {
     "iopub.execute_input": "2022-08-19T08:19:16.727996Z",
     "iopub.status.busy": "2022-08-19T08:19:16.727508Z",
     "iopub.status.idle": "2022-08-19T08:19:16.735678Z",
     "shell.execute_reply": "2022-08-19T08:19:16.736022Z"
    }
   },
   "outputs": [
    {
     "data": {
      "image/svg+xml": [
       "<?xml version=\"1.0\" encoding=\"UTF-8\" standalone=\"no\"?><svg xmlns=\"http://www.w3.org/2000/svg\" xmlns:xlink=\"http://www.w3.org/1999/xlink\" contentScriptType=\"application/ecmascript\" contentStyleType=\"text/css\" height=\"12px\" preserveAspectRatio=\"none\" style=\"width:12px;height:12px;\" version=\"1.1\" viewBox=\"0 0 12 12\" width=\"12px\" zoomAndPan=\"magnify\"><defs/><g><!--MD5=[97bbf32f66ccd50cbc40d92ea8f5a65e]\n",
       "@startuml\r\n",
       "skinparam ranksep 8\r\n",
       "skinparam linetype polyline\r\n",
       "skinparam monochrome true\r\n",
       "skinparam classbackgroundcolor white\r\n",
       "skinparam shadowing false\r\n",
       "skinparam wrapWidth 300\r\n",
       "hide circle\r\n",
       "\r\n",
       "@enduml\r\n",
       "\n",
       "PlantUML version 1.2020.13(Sat Jun 13 12:26:38 UTC 2020)\n",
       "(EPL source distribution)\n",
       "Java Runtime: OpenJDK Runtime Environment\n",
       "JVM: OpenJDK 64-Bit Server VM\n",
       "Default Encoding: UTF-8\n",
       "Language: en\n",
       "Country: null\n",
       "--></g></svg>"
      ]
     },
     "execution_count": 13,
     "metadata": {},
     "output_type": "execute_result"
    }
   ],
   "source": [
    "%viz --style=\"POLYLINE\" --view=\"Action\" \"PrivateImportTest\""
   ]
  },
  {
   "cell_type": "code",
   "execution_count": 14,
   "id": "a04eaf83",
   "metadata": {
    "execution": {
     "iopub.execute_input": "2022-08-19T08:19:16.786239Z",
     "iopub.status.busy": "2022-08-19T08:19:16.785751Z",
     "iopub.status.idle": "2022-08-19T08:19:16.789474Z",
     "shell.execute_reply": "2022-08-19T08:19:16.789803Z"
    }
   },
   "outputs": [
    {
     "data": {
      "image/svg+xml": [
       "<?xml version=\"1.0\" encoding=\"UTF-8\" standalone=\"no\"?><svg xmlns=\"http://www.w3.org/2000/svg\" xmlns:xlink=\"http://www.w3.org/1999/xlink\" contentScriptType=\"application/ecmascript\" contentStyleType=\"text/css\" height=\"12px\" preserveAspectRatio=\"none\" style=\"width:12px;height:12px;\" version=\"1.1\" viewBox=\"0 0 12 12\" width=\"12px\" zoomAndPan=\"magnify\"><defs/><g><!--MD5=[dc938048236c351797870c36b62f92ad]\n",
       "@startuml\r\n",
       "skinparam roundcorner 20\r\n",
       "skinparam BoxPadding 20\r\n",
       "skinparam SequenceBoxBackgroundColor #white\r\n",
       "skinparam style strictuml\r\n",
       "skinparam maxMessageSize 100\r\n",
       "skinparam linetype polyline\r\n",
       "skinparam monochrome true\r\n",
       "skinparam classbackgroundcolor white\r\n",
       "skinparam shadowing false\r\n",
       "skinparam wrapWidth 300\r\n",
       "hide circle\r\n",
       "\r\n",
       "@enduml\r\n",
       "\n",
       "PlantUML version 1.2020.13(Sat Jun 13 12:26:38 UTC 2020)\n",
       "(EPL source distribution)\n",
       "Java Runtime: OpenJDK Runtime Environment\n",
       "JVM: OpenJDK 64-Bit Server VM\n",
       "Default Encoding: UTF-8\n",
       "Language: en\n",
       "Country: null\n",
       "--></g></svg>"
      ]
     },
     "execution_count": 14,
     "metadata": {},
     "output_type": "execute_result"
    }
   ],
   "source": [
    "%viz --style=\"POLYLINE\" --view=\"Sequence\" \"PrivateImportTest\""
   ]
  },
  {
   "cell_type": "code",
   "execution_count": 15,
   "id": "ab38d928",
   "metadata": {
    "execution": {
     "iopub.execute_input": "2022-08-19T08:19:16.839628Z",
     "iopub.status.busy": "2022-08-19T08:19:16.839146Z",
     "iopub.status.idle": "2022-08-19T08:19:16.877967Z",
     "shell.execute_reply": "2022-08-19T08:19:16.877499Z"
    }
   },
   "outputs": [
    {
     "data": {
      "image/svg+xml": [
       "<?xml version=\"1.0\" encoding=\"UTF-8\" standalone=\"no\"?><svg xmlns=\"http://www.w3.org/2000/svg\" xmlns:xlink=\"http://www.w3.org/1999/xlink\" contentScriptType=\"application/ecmascript\" contentStyleType=\"text/css\" height=\"586px\" preserveAspectRatio=\"none\" style=\"width:427px;height:586px;\" version=\"1.1\" viewBox=\"0 0 427 586\" width=\"427px\" zoomAndPan=\"magnify\"><defs/><g><!--MD5=[fbc87193dbaf4d95561dea2c320d4a47]\n",
       "cluster E1--><a href=\"psysml:8f933ba8-0ed5-4db5-b82c-58b1e568922b\" target=\"_top\" title=\"psysml:8f933ba8-0ed5-4db5-b82c-58b1e568922b\" xlink:actuate=\"onRequest\" xlink:href=\"psysml:8f933ba8-0ed5-4db5-b82c-58b1e568922b\" xlink:show=\"new\" xlink:title=\"psysml:8f933ba8-0ed5-4db5-b82c-58b1e568922b\" xlink:type=\"simple\"><polygon fill=\"#FFFFFF\" points=\"20,6,147,6,154,28.2969,405,28.2969,405,574,20,574,20,6\" style=\"stroke: #000000; stroke-width: 1.5;\"/><line style=\"stroke: #000000; stroke-width: 1.5;\" x1=\"20\" x2=\"154\" y1=\"28.2969\" y2=\"28.2969\"/><text fill=\"#000000\" font-family=\"sans-serif\" font-size=\"14\" font-weight=\"bold\" lengthAdjust=\"spacingAndGlyphs\" textLength=\"121\" x=\"24\" y=\"20.9951\">PrivateImportTest</text></a><!--MD5=[e4f7fae6ed58524ba242bb0b0d3be6b7]\n",
       "cluster E2--><a href=\"psysml:dc5a646f-7a70-4bb5-8a84-dd766b7ca58f\" target=\"_top\" title=\"psysml:dc5a646f-7a70-4bb5-8a84-dd766b7ca58f\" xlink:actuate=\"onRequest\" xlink:href=\"psysml:dc5a646f-7a70-4bb5-8a84-dd766b7ca58f\" xlink:show=\"new\" xlink:title=\"psysml:dc5a646f-7a70-4bb5-8a84-dd766b7ca58f\" xlink:type=\"simple\"><polygon fill=\"#FFFFFF\" points=\"225,421,249,421,256,443.2969,362,443.2969,362,534,225,534,225,421\" style=\"stroke: #000000; stroke-width: 1.5;\"/><line style=\"stroke: #000000; stroke-width: 1.5;\" x1=\"225\" x2=\"256\" y1=\"443.2969\" y2=\"443.2969\"/><text fill=\"#000000\" font-family=\"sans-serif\" font-size=\"14\" font-weight=\"bold\" lengthAdjust=\"spacingAndGlyphs\" textLength=\"18\" x=\"229\" y=\"435.9951\">P1</text></a><!--MD5=[14e3b0961a2654348d326746436168a1]\n",
       "cluster E6--><a href=\"psysml:61bbaf9b-44aa-4d19-b1af-9f0be63c5dc6\" target=\"_top\" title=\"psysml:61bbaf9b-44aa-4d19-b1af-9f0be63c5dc6\" xlink:actuate=\"onRequest\" xlink:href=\"psysml:61bbaf9b-44aa-4d19-b1af-9f0be63c5dc6\" xlink:show=\"new\" xlink:title=\"psysml:61bbaf9b-44aa-4d19-b1af-9f0be63c5dc6\" xlink:type=\"simple\"><polygon fill=\"#FFFFFF\" points=\"68,243,92,243,99,265.2969,205,265.2969,205,356,68,356,68,243\" style=\"stroke: #000000; stroke-width: 1.5;\"/><line style=\"stroke: #000000; stroke-width: 1.5;\" x1=\"68\" x2=\"99\" y1=\"265.2969\" y2=\"265.2969\"/><text fill=\"#000000\" font-family=\"sans-serif\" font-size=\"14\" font-weight=\"bold\" lengthAdjust=\"spacingAndGlyphs\" textLength=\"18\" x=\"72\" y=\"257.9951\">P3</text></a><!--MD5=[7f149f147074ac12df2cb0a7728a5fb0]\n",
       "cluster E9--><a href=\"psysml:826bc35a-2948-4f0f-ac57-a46abe90dd77\" target=\"_top\" title=\"psysml:826bc35a-2948-4f0f-ac57-a46abe90dd77\" xlink:actuate=\"onRequest\" xlink:href=\"psysml:826bc35a-2948-4f0f-ac57-a46abe90dd77\" xlink:show=\"new\" xlink:title=\"psysml:826bc35a-2948-4f0f-ac57-a46abe90dd77\" xlink:type=\"simple\"><polygon fill=\"#FFFFFF\" points=\"256,65,280,65,287,87.2969,365,87.2969,365,178,256,178,256,65\" style=\"stroke: #000000; stroke-width: 1.5;\"/><line style=\"stroke: #000000; stroke-width: 1.5;\" x1=\"256\" x2=\"287\" y1=\"87.2969\" y2=\"87.2969\"/><text fill=\"#000000\" font-family=\"sans-serif\" font-size=\"14\" font-weight=\"bold\" lengthAdjust=\"spacingAndGlyphs\" textLength=\"18\" x=\"260\" y=\"79.9951\">P4</text></a><!--MD5=[270fce915f116d4de14055a7c1d9a0f3]\n",
       "class E5--><a href=\"psysml:ae255e73-333e-4dec-b11e-e996fbedcc54\" target=\"_top\" title=\"psysml:ae255e73-333e-4dec-b11e-e996fbedcc54\" xlink:actuate=\"onRequest\" xlink:href=\"psysml:ae255e73-333e-4dec-b11e-e996fbedcc54\" xlink:show=\"new\" xlink:title=\"psysml:ae255e73-333e-4dec-b11e-e996fbedcc54\" xlink:type=\"simple\"><rect fill=\"#FFFFFF\" height=\"45.9375\" id=\"E5\" rx=\"10\" ry=\"10\" style=\"stroke: #383838; stroke-width: 1.5;\" width=\"42\" x=\"339\" y=\"286\"/><text fill=\"#000000\" font-family=\"sans-serif\" font-size=\"12\" font-style=\"italic\" lengthAdjust=\"spacingAndGlyphs\" textLength=\"40\" x=\"340\" y=\"302.1387\">«part»</text><text fill=\"#000000\" font-family=\"sans-serif\" font-size=\"12\" lengthAdjust=\"spacingAndGlyphs\" textLength=\"22\" x=\"347\" y=\"316.1074\">x: A</text><line style=\"stroke: #383838; stroke-width: 1.5;\" x1=\"340\" x2=\"380\" y1=\"323.9375\" y2=\"323.9375\"/></a><!--MD5=[b9389687b975829384b498ac4b7476b2]\n",
       "class E8--><a href=\"psysml:3c42eaa7-d0d8-4753-a2b8-0968c7baa502\" target=\"_top\" title=\"psysml:3c42eaa7-d0d8-4753-a2b8-0968c7baa502\" xlink:actuate=\"onRequest\" xlink:href=\"psysml:3c42eaa7-d0d8-4753-a2b8-0968c7baa502\" xlink:show=\"new\" xlink:title=\"psysml:3c42eaa7-d0d8-4753-a2b8-0968c7baa502\" xlink:type=\"simple\"><rect fill=\"#FFFFFF\" height=\"45.9375\" id=\"E8\" rx=\"10\" ry=\"10\" style=\"stroke: #383838; stroke-width: 1.5;\" width=\"42\" x=\"187\" y=\"108\"/><text fill=\"#000000\" font-family=\"sans-serif\" font-size=\"12\" font-style=\"italic\" lengthAdjust=\"spacingAndGlyphs\" textLength=\"40\" x=\"188\" y=\"124.1387\">«part»</text><text fill=\"#000000\" font-family=\"sans-serif\" font-size=\"12\" lengthAdjust=\"spacingAndGlyphs\" textLength=\"21\" x=\"195.5\" y=\"138.1074\">z: B</text><line style=\"stroke: #383838; stroke-width: 1.5;\" x1=\"188\" x2=\"228\" y1=\"145.9375\" y2=\"145.9375\"/></a><!--MD5=[09b614a08d8cba4a07c9adeb5e0fee81]\n",
       "class E3--><a href=\"psysml:e52e2a8f-f908-40ce-88b1-6459229e6290\" target=\"_top\" title=\"psysml:e52e2a8f-f908-40ce-88b1-6459229e6290\" xlink:actuate=\"onRequest\" xlink:href=\"psysml:e52e2a8f-f908-40ce-88b1-6459229e6290\" xlink:show=\"new\" xlink:title=\"psysml:e52e2a8f-f908-40ce-88b1-6459229e6290\" xlink:type=\"simple\"><rect fill=\"#FFFFFF\" height=\"45.9375\" id=\"E3\" style=\"stroke: #383838; stroke-width: 1.5;\" width=\"70\" x=\"268\" y=\"464\"/><text fill=\"#000000\" font-family=\"sans-serif\" font-size=\"12\" font-style=\"italic\" lengthAdjust=\"spacingAndGlyphs\" textLength=\"68\" x=\"269\" y=\"480.1387\">«part  def»</text><text fill=\"#000000\" font-family=\"sans-serif\" font-size=\"12\" lengthAdjust=\"spacingAndGlyphs\" textLength=\"8\" x=\"299\" y=\"494.1074\">A</text><line style=\"stroke: #383838; stroke-width: 1.5;\" x1=\"269\" x2=\"337\" y1=\"501.9375\" y2=\"501.9375\"/></a><a href=\"psysml:b07c7c49-60b3-45d9-ab30-3f9ccb4621b1\" target=\"_top\" title=\"psysml:b07c7c49-60b3-45d9-ab30-3f9ccb4621b1\" xlink:actuate=\"onRequest\" xlink:href=\"psysml:b07c7c49-60b3-45d9-ab30-3f9ccb4621b1\" xlink:show=\"new\" xlink:title=\"psysml:b07c7c49-60b3-45d9-ab30-3f9ccb4621b1\" xlink:type=\"simple\"><polygon fill=\"#FFFFFF\" points=\"229,282.5,253,282.5,260,304.7969,267,304.7969,267,335.0938,229,335.0938,229,282.5\" style=\"stroke: #000000; stroke-width: 1.5;\"/><line style=\"stroke: #000000; stroke-width: 1.5;\" x1=\"229\" x2=\"260\" y1=\"304.7969\" y2=\"304.7969\"/><text fill=\"#000000\" font-family=\"sans-serif\" font-size=\"14\" font-weight=\"bold\" lengthAdjust=\"spacingAndGlyphs\" textLength=\"18\" x=\"233\" y=\"297.4951\">P2</text></a><!--MD5=[2156ba9850f5573cc1fc38a6a4b2f02b]\n",
       "class E7--><a href=\"psysml:f5eaf228-c184-457d-ba82-3236315ba9d3\" target=\"_top\" title=\"psysml:f5eaf228-c184-457d-ba82-3236315ba9d3\" xlink:actuate=\"onRequest\" xlink:href=\"psysml:f5eaf228-c184-457d-ba82-3236315ba9d3\" xlink:show=\"new\" xlink:title=\"psysml:f5eaf228-c184-457d-ba82-3236315ba9d3\" xlink:type=\"simple\"><rect fill=\"#FFFFFF\" height=\"45.9375\" id=\"E7\" style=\"stroke: #383838; stroke-width: 1.5;\" width=\"70\" x=\"111\" y=\"286\"/><text fill=\"#000000\" font-family=\"sans-serif\" font-size=\"12\" font-style=\"italic\" lengthAdjust=\"spacingAndGlyphs\" textLength=\"68\" x=\"112\" y=\"302.1387\">«part  def»</text><text fill=\"#000000\" font-family=\"sans-serif\" font-size=\"12\" lengthAdjust=\"spacingAndGlyphs\" textLength=\"8\" x=\"142\" y=\"316.1074\">B</text><line style=\"stroke: #383838; stroke-width: 1.5;\" x1=\"112\" x2=\"180\" y1=\"323.9375\" y2=\"323.9375\"/></a><!--MD5=[96f4274e9e20536e775497830990834d]\n",
       "class E10--><a href=\"psysml:bd10993a-8e6e-4149-83fc-2dc02c68e6fc\" target=\"_top\" title=\"psysml:bd10993a-8e6e-4149-83fc-2dc02c68e6fc\" xlink:actuate=\"onRequest\" xlink:href=\"psysml:bd10993a-8e6e-4149-83fc-2dc02c68e6fc\" xlink:show=\"new\" xlink:title=\"psysml:bd10993a-8e6e-4149-83fc-2dc02c68e6fc\" xlink:type=\"simple\"><rect fill=\"#FFFFFF\" height=\"45.9375\" id=\"E10\" rx=\"10\" ry=\"10\" style=\"stroke: #383838; stroke-width: 1.5;\" width=\"42\" x=\"299\" y=\"108\"/><text fill=\"#000000\" font-family=\"sans-serif\" font-size=\"12\" font-style=\"italic\" lengthAdjust=\"spacingAndGlyphs\" textLength=\"40\" x=\"300\" y=\"124.1387\">«part»</text><text fill=\"#000000\" font-family=\"sans-serif\" font-size=\"12\" lengthAdjust=\"spacingAndGlyphs\" textLength=\"29\" x=\"303.5\" y=\"138.1074\">z1: A</text><line style=\"stroke: #383838; stroke-width: 1.5;\" x1=\"300\" x2=\"340\" y1=\"145.9375\" y2=\"145.9375\"/></a><!--MD5=[185131fc0dcab0a4505a2ebe144e961b]\n",
       "link E4 to E2--><a href=\"psysml:9c76a3dc-4160-42f2-8d03-f28cee99dd8d\" target=\"_top\" title=\"psysml:9c76a3dc-4160-42f2-8d03-f28cee99dd8d\" xlink:actuate=\"onRequest\" xlink:href=\"psysml:9c76a3dc-4160-42f2-8d03-f28cee99dd8d\" xlink:show=\"new\" xlink:title=\"psysml:9c76a3dc-4160-42f2-8d03-f28cee99dd8d\" xlink:type=\"simple\"><path d=\"M240.3,335.67 C234.31,355.65 227,380 227,380 C227,380 227,397 227,397 C227,397 227.3631,402.39 227.9108,410.5172 C228.0477,412.549 228.1961,414.7519 228.3533,417.0844 C228.4319,418.2506 228.5127,419.4493 228.5953,420.6751 \" fill=\"none\" id=\"E4-&gt;E2\" style=\"stroke: #383838; stroke-width: 1.0; stroke-dasharray: 7.0,7.0;\"/><polygon fill=\"#383838\" points=\"228.5953,420.6751,231.9811,411.4265,228.2591,415.6864,223.9992,411.9645,228.5953,420.6751\" style=\"stroke: #383838; stroke-width: 1.0;\"/><text fill=\"#000000\" font-family=\"sans-serif\" font-size=\"13\" lengthAdjust=\"spacingAndGlyphs\" textLength=\"65\" x=\"228\" y=\"393.0669\">«import»*</text></a><!--MD5=[e9be52314489bd878ff4c7144b63c9e1]\n",
       "link E5 to E3--><a href=\"psysml:7e781afb-bb69-45b4-99ca-abeca0fc5181\" target=\"_top\" title=\"psysml:7e781afb-bb69-45b4-99ca-abeca0fc5181\" xlink:actuate=\"onRequest\" xlink:href=\"psysml:7e781afb-bb69-45b4-99ca-abeca0fc5181\" xlink:show=\"new\" xlink:title=\"psysml:7e781afb-bb69-45b4-99ca-abeca0fc5181\" xlink:type=\"simple\"><path d=\"M352.78,332.29 C343.66,360.46 327.78,409.49 316.4,444.61 \" fill=\"none\" id=\"E5-&gt;E3\" style=\"stroke: #383838; stroke-width: 1.0;\"/><polygon fill=\"#FFFFFF\" points=\"310.16,463.89,309.3493,443.6578,322.6693,447.9678,310.16,463.89\" style=\"stroke: #383838; stroke-width: 1.0;\"/><ellipse cx=\"313.0069\" cy=\"438.8503\" fill=\"#383838\" rx=\"2\" ry=\"2\" style=\"stroke: #383838; stroke-width: 1.0;\"/><ellipse cx=\"322.5213\" cy=\"441.9289\" fill=\"#383838\" rx=\"2\" ry=\"2\" style=\"stroke: #383838; stroke-width: 1.0;\"/></a><!--MD5=[ee384bb554873b72f85793eae40e290c]\n",
       "link E1 to E4--><a href=\"psysml:3abfa817-381d-4c68-8935-6fa98a0aa2e6\" target=\"_top\" title=\"psysml:3abfa817-381d-4c68-8935-6fa98a0aa2e6\" xlink:actuate=\"onRequest\" xlink:href=\"psysml:3abfa817-381d-4c68-8935-6fa98a0aa2e6\" xlink:show=\"new\" xlink:title=\"psysml:3abfa817-381d-4c68-8935-6fa98a0aa2e6\" xlink:type=\"simple\"><path d=\"M28.01,132.04 C28.25,133.92 36,194 36,194 C36,194 81,202 81,202 C81,202 197,227 197,227 C197,227 214.66,255.04 229.19,278.13 \" fill=\"none\" id=\"E1-&gt;E4\" style=\"stroke: #383838; stroke-width: 1.0; stroke-dasharray: 7.0,7.0;\"/><polygon fill=\"#383838\" points=\"231.86,282.37,230.4584,272.6214,229.1997,278.1364,223.6847,276.8778,231.86,282.37\" style=\"stroke: #383838; stroke-width: 1.0;\"/><text fill=\"#000000\" font-family=\"sans-serif\" font-size=\"13\" lengthAdjust=\"spacingAndGlyphs\" textLength=\"65\" x=\"160\" y=\"215.0669\">«import»*</text></a><!--MD5=[ccbd3af71bf83df0ec2a2db62d6d7130]\n",
       "link E1 to E6--><a href=\"psysml:38071c17-dcc7-47a2-931c-5199b5c10531\" target=\"_top\" title=\"psysml:38071c17-dcc7-47a2-931c-5199b5c10531\" xlink:actuate=\"onRequest\" xlink:href=\"psysml:38071c17-dcc7-47a2-931c-5199b5c10531\" xlink:show=\"new\" xlink:title=\"psysml:38071c17-dcc7-47a2-931c-5199b5c10531\" xlink:type=\"simple\"><path d=\"M19.8842,157.8227 C19.8433,157.9531 19.8022,158.0837 19.7611,158.2144 C19.4325,159.2604 19.1003,160.3175 18.7658,161.3817 C18.0969,163.5102 17.4191,165.6672 16.7425,167.82 C11.33,185.0425 6,202 6,202 C6,202 6,219 6,219 C6,219 22.9575,240.56 40.18,262.4575 C48.7913,273.4063 57.4688,284.4394 64.1259,292.9041 C64.9581,293.9621 65.7587,294.9801 66.5236,295.9527 C66.9061,296.4391 67.2796,296.9141 67.6438,297.3771 C67.7348,297.4928 67.8253,297.6078 67.9151,297.7221 \" fill=\"none\" id=\"E1-&gt;E6\" style=\"stroke: #383838; stroke-width: 1.0; stroke-dasharray: 7.0,7.0;\"/><polygon fill=\"#383838\" points=\"67.9151,297.7221,65.4957,288.175,64.8242,293.7919,59.2073,293.1204,67.9151,297.7221\" style=\"stroke: #383838; stroke-width: 1.0;\"/><text fill=\"#000000\" font-family=\"sans-serif\" font-size=\"13\" lengthAdjust=\"spacingAndGlyphs\" textLength=\"65\" x=\"7\" y=\"215.0669\">«import»*</text></a><!--MD5=[bfa3c8b0d15052fdf50ae9310b491027]\n",
       "link E8 to E7--><a href=\"psysml:84039e37-6732-4e81-a24d-af568a8fc4d2\" target=\"_top\" title=\"psysml:84039e37-6732-4e81-a24d-af568a8fc4d2\" xlink:actuate=\"onRequest\" xlink:href=\"psysml:84039e37-6732-4e81-a24d-af568a8fc4d2\" xlink:show=\"new\" xlink:title=\"psysml:84039e37-6732-4e81-a24d-af568a8fc4d2\" xlink:type=\"simple\"><path d=\"M217.49,154.15 C226.28,174.66 238,202 238,202 C238,202 238,219 238,219 C238,219 185,227 185,227 C185,227 175.15,247.45 165.36,267.8 \" fill=\"none\" id=\"E8-&gt;E7\" style=\"stroke: #383838; stroke-width: 1.0;\"/><polygon fill=\"#FFFFFF\" points=\"156.66,285.87,158.5936,265.7141,171.2082,271.7863,156.66,285.87\" style=\"stroke: #383838; stroke-width: 1.0;\"/><ellipse cx=\"162.8679\" cy=\"261.4456\" fill=\"#383838\" rx=\"2\" ry=\"2\" style=\"stroke: #383838; stroke-width: 1.0;\"/><ellipse cx=\"171.8783\" cy=\"265.7829\" fill=\"#383838\" rx=\"2\" ry=\"2\" style=\"stroke: #383838; stroke-width: 1.0;\"/></a><!--MD5=[c2be97adba6ddfe1c8f349fab141c927]\n",
       "link E9 to E4--><a href=\"psysml:f4a7c8b4-50d4-4d21-9428-75951a767795\" target=\"_top\" title=\"psysml:f4a7c8b4-50d4-4d21-9428-75951a767795\" xlink:actuate=\"onRequest\" xlink:href=\"psysml:f4a7c8b4-50d4-4d21-9428-75951a767795\" xlink:show=\"new\" xlink:title=\"psysml:f4a7c8b4-50d4-4d21-9428-75951a767795\" xlink:type=\"simple\"><path d=\"M261.024,178.1434 C261.0103,178.3545 260.9968,178.5643 260.9833,178.7729 C260.9564,179.1899 260.9298,179.6018 260.9036,180.0081 C260.7986,181.633 260.6995,183.1677 260.6081,184.5831 C260.2425,190.245 260,194 260,194 C260,194 254.8,243.38 251.25,277.14 \" fill=\"none\" id=\"E9-&gt;E4\" style=\"stroke: #383838; stroke-width: 1.0; stroke-dasharray: 7.0,7.0;\"/><polygon fill=\"#383838\" points=\"250.69,282.42,255.6191,273.8933,251.2186,277.448,247.664,273.0475,250.69,282.42\" style=\"stroke: #383838; stroke-width: 1.0;\"/><text fill=\"#000000\" font-family=\"sans-serif\" font-size=\"13\" lengthAdjust=\"spacingAndGlyphs\" textLength=\"65\" x=\"259\" y=\"215.0669\">«import»*</text></a><!--MD5=[feeac5eb423634930294aa81f2d25a4c]\n",
       "link E10 to E3--><a href=\"psysml:ff7299d7-bc25-43a3-abcf-daa45aa95a4b\" target=\"_top\" title=\"psysml:ff7299d7-bc25-43a3-abcf-daa45aa95a4b\" xlink:actuate=\"onRequest\" xlink:href=\"psysml:ff7299d7-bc25-43a3-abcf-daa45aa95a4b\" xlink:show=\"new\" xlink:title=\"psysml:ff7299d7-bc25-43a3-abcf-daa45aa95a4b\" xlink:type=\"simple\"><path d=\"M330.12,154.15 C339.5,174.66 352,202 352,202 C352,202 352,219 352,219 C352,219 308,227 308,227 C308,227 305.24,370.14 303.82,443.59 \" fill=\"none\" id=\"E10-&gt;E3\" style=\"stroke: #383838; stroke-width: 1.0;\"/><polygon fill=\"#FFFFFF\" points=\"303.43,463.92,296.7977,444.7886,310.7951,445.0585,303.43,463.92\" style=\"stroke: #383838; stroke-width: 1.0;\"/><ellipse cx=\"298.9072\" cy=\"439.1282\" fill=\"#383838\" rx=\"2\" ry=\"2\" style=\"stroke: #383838; stroke-width: 1.0;\"/><ellipse cx=\"308.9053\" cy=\"439.321\" fill=\"#383838\" rx=\"2\" ry=\"2\" style=\"stroke: #383838; stroke-width: 1.0;\"/></a><!--MD5=[1b1cccb1f07e5e2cff8962c99e35ff38]\n",
       "@startuml\r\n",
       "skinparam linetype polyline\r\n",
       "skinparam monochrome true\r\n",
       "skinparam classbackgroundcolor white\r\n",
       "skinparam shadowing false\r\n",
       "skinparam wrapWidth 300\r\n",
       "hide circle\r\n",
       "\r\n",
       "package \"PrivateImportTest\" as E1  [[psysml:8f933ba8-0ed5-4db5-b82c-58b1e568922b ]]  {\r\n",
       "package \"P1\" as E2  [[psysml:dc5a646f-7a70-4bb5-8a84-dd766b7ca58f ]]  {\r\n",
       "comp def \"A\" as E3  <<(T,blue) part  def>> [[psysml:e52e2a8f-f908-40ce-88b1-6459229e6290 ]] {\r\n",
       "}\r\n",
       "}\r\n",
       "package \"P2\" as E4  [[psysml:b07c7c49-60b3-45d9-ab30-3f9ccb4621b1 ]]  {\r\n",
       "}\r\n",
       "comp usage \"x: A \" as E5  <<(T,blue) part>> [[psysml:ae255e73-333e-4dec-b11e-e996fbedcc54 ]] {\r\n",
       "}\r\n",
       "package \"P3\" as E6  [[psysml:61bbaf9b-44aa-4d19-b1af-9f0be63c5dc6 ]]  {\r\n",
       "comp def \"B\" as E7  <<(T,blue) part  def>> [[psysml:f5eaf228-c184-457d-ba82-3236315ba9d3 ]] {\r\n",
       "}\r\n",
       "}\r\n",
       "comp usage \"z: B \" as E8  <<(T,blue) part>> [[psysml:3c42eaa7-d0d8-4753-a2b8-0968c7baa502 ]] {\r\n",
       "}\r\n",
       "package \"P4\" as E9  [[psysml:826bc35a-2948-4f0f-ac57-a46abe90dd77 ]]  {\r\n",
       "comp usage \"z1: A \" as E10  <<(T,blue) part>> [[psysml:bd10993a-8e6e-4149-83fc-2dc02c68e6fc ]] {\r\n",
       "}\r\n",
       "}\r\n",
       "}\r\n",
       "E4 ..> E2 [[psysml:9c76a3dc-4160-42f2-8d03-f28cee99dd8d ]] : <<import>>*\r\n",
       "E5 - -:|> E3 [[psysml:7e781afb-bb69-45b4-99ca-abeca0fc5181 ]] \r\n",
       "E1 ..> E4 [[psysml:3abfa817-381d-4c68-8935-6fa98a0aa2e6 ]] : <<import>>*\r\n",
       "E1 ..> E6 [[psysml:38071c17-dcc7-47a2-931c-5199b5c10531 ]] : <<import>>*\r\n",
       "E8 - -:|> E7 [[psysml:84039e37-6732-4e81-a24d-af568a8fc4d2 ]] \r\n",
       "E9 ..> E4 [[psysml:f4a7c8b4-50d4-4d21-9428-75951a767795 ]] : <<import>>*\r\n",
       "E10 - -:|> E3 [[psysml:ff7299d7-bc25-43a3-abcf-daa45aa95a4b ]] \r\n",
       "@enduml\r\n",
       "\n",
       "PlantUML version 1.2020.13(Sat Jun 13 12:26:38 UTC 2020)\n",
       "(EPL source distribution)\n",
       "Java Runtime: OpenJDK Runtime Environment\n",
       "JVM: OpenJDK 64-Bit Server VM\n",
       "Default Encoding: UTF-8\n",
       "Language: en\n",
       "Country: null\n",
       "--></g></svg>"
      ]
     },
     "execution_count": 15,
     "metadata": {},
     "output_type": "execute_result"
    }
   ],
   "source": [
    "%viz --style=\"POLYLINE\" --view=\"MIXED\" \"PrivateImportTest\""
   ]
  },
  {
   "cell_type": "code",
   "execution_count": 16,
   "id": "113dceb8",
   "metadata": {
    "execution": {
     "iopub.execute_input": "2022-08-19T08:19:16.927330Z",
     "iopub.status.busy": "2022-08-19T08:19:16.926948Z",
     "iopub.status.idle": "2022-08-19T08:19:16.974872Z",
     "shell.execute_reply": "2022-08-19T08:19:16.974302Z"
    }
   },
   "outputs": [
    {
     "data": {
      "image/svg+xml": [
       "<?xml version=\"1.0\" encoding=\"UTF-8\" standalone=\"no\"?><svg xmlns=\"http://www.w3.org/2000/svg\" xmlns:xlink=\"http://www.w3.org/1999/xlink\" contentScriptType=\"application/ecmascript\" contentStyleType=\"text/css\" height=\"438px\" preserveAspectRatio=\"none\" style=\"width:674px;height:438px;\" version=\"1.1\" viewBox=\"0 0 674 438\" width=\"674px\" zoomAndPan=\"magnify\"><defs/><g><!--MD5=[fbc87193dbaf4d95561dea2c320d4a47]\n",
       "cluster E1--><a href=\"psysml:8f933ba8-0ed5-4db5-b82c-58b1e568922b\" target=\"_top\" title=\"psysml:8f933ba8-0ed5-4db5-b82c-58b1e568922b\" xlink:actuate=\"onRequest\" xlink:href=\"psysml:8f933ba8-0ed5-4db5-b82c-58b1e568922b\" xlink:show=\"new\" xlink:title=\"psysml:8f933ba8-0ed5-4db5-b82c-58b1e568922b\" xlink:type=\"simple\"><polygon fill=\"#FFFFFF\" points=\"16,6,143,6,150,28.2969,652,28.2969,652,425,16,425,16,6\" style=\"stroke: #000000; stroke-width: 1.5;\"/><line style=\"stroke: #000000; stroke-width: 1.5;\" x1=\"16\" x2=\"150\" y1=\"28.2969\" y2=\"28.2969\"/><text fill=\"#000000\" font-family=\"sans-serif\" font-size=\"14\" font-weight=\"bold\" lengthAdjust=\"spacingAndGlyphs\" textLength=\"121\" x=\"20\" y=\"20.9951\">PrivateImportTest</text></a><!--MD5=[e4f7fae6ed58524ba242bb0b0d3be6b7]\n",
       "cluster E2--><a href=\"psysml:dc5a646f-7a70-4bb5-8a84-dd766b7ca58f\" target=\"_top\" title=\"psysml:dc5a646f-7a70-4bb5-8a84-dd766b7ca58f\" xlink:actuate=\"onRequest\" xlink:href=\"psysml:dc5a646f-7a70-4bb5-8a84-dd766b7ca58f\" xlink:show=\"new\" xlink:title=\"psysml:dc5a646f-7a70-4bb5-8a84-dd766b7ca58f\" xlink:type=\"simple\"><polygon fill=\"#FFFFFF\" points=\"494,65,518,65,525,87.2969,612,87.2969,612,197,494,197,494,65\" style=\"stroke: #000000; stroke-width: 1.5;\"/><line style=\"stroke: #000000; stroke-width: 1.5;\" x1=\"494\" x2=\"525\" y1=\"87.2969\" y2=\"87.2969\"/><text fill=\"#000000\" font-family=\"sans-serif\" font-size=\"14\" font-weight=\"bold\" lengthAdjust=\"spacingAndGlyphs\" textLength=\"18\" x=\"498\" y=\"79.9951\">P1</text></a><!--MD5=[14e3b0961a2654348d326746436168a1]\n",
       "cluster E6--><a href=\"psysml:61bbaf9b-44aa-4d19-b1af-9f0be63c5dc6\" target=\"_top\" title=\"psysml:61bbaf9b-44aa-4d19-b1af-9f0be63c5dc6\" xlink:actuate=\"onRequest\" xlink:href=\"psysml:61bbaf9b-44aa-4d19-b1af-9f0be63c5dc6\" xlink:show=\"new\" xlink:title=\"psysml:61bbaf9b-44aa-4d19-b1af-9f0be63c5dc6\" xlink:type=\"simple\"><polygon fill=\"#FFFFFF\" points=\"261,245,285,245,292,267.2969,379,267.2969,379,377,261,377,261,245\" style=\"stroke: #000000; stroke-width: 1.5;\"/><line style=\"stroke: #000000; stroke-width: 1.5;\" x1=\"261\" x2=\"292\" y1=\"267.2969\" y2=\"267.2969\"/><text fill=\"#000000\" font-family=\"sans-serif\" font-size=\"14\" font-weight=\"bold\" lengthAdjust=\"spacingAndGlyphs\" textLength=\"18\" x=\"265\" y=\"259.9951\">P3</text></a><!--MD5=[7f149f147074ac12df2cb0a7728a5fb0]\n",
       "cluster E9--><a href=\"psysml:826bc35a-2948-4f0f-ac57-a46abe90dd77\" target=\"_top\" title=\"psysml:826bc35a-2948-4f0f-ac57-a46abe90dd77\" xlink:actuate=\"onRequest\" xlink:href=\"psysml:826bc35a-2948-4f0f-ac57-a46abe90dd77\" xlink:show=\"new\" xlink:title=\"psysml:826bc35a-2948-4f0f-ac57-a46abe90dd77\" xlink:type=\"simple\"><polygon fill=\"#FFFFFF\" points=\"56,67,80,67,87,89.2969,146,89.2969,146,199,56,199,56,67\" style=\"stroke: #000000; stroke-width: 1.5;\"/><line style=\"stroke: #000000; stroke-width: 1.5;\" x1=\"56\" x2=\"87\" y1=\"89.2969\" y2=\"89.2969\"/><text fill=\"#000000\" font-family=\"sans-serif\" font-size=\"14\" font-weight=\"bold\" lengthAdjust=\"spacingAndGlyphs\" textLength=\"18\" x=\"60\" y=\"81.9951\">P4</text></a><!--MD5=[270fce915f116d4de14055a7c1d9a0f3]\n",
       "class E5--><a href=\"psysml:ae255e73-333e-4dec-b11e-e996fbedcc54\" target=\"_top\" title=\"psysml:ae255e73-333e-4dec-b11e-e996fbedcc54\" xlink:actuate=\"onRequest\" xlink:href=\"psysml:ae255e73-333e-4dec-b11e-e996fbedcc54\" xlink:show=\"new\" xlink:title=\"psysml:ae255e73-333e-4dec-b11e-e996fbedcc54\" xlink:type=\"simple\"><rect fill=\"#FFFFFF\" height=\"45.9375\" id=\"E5\" rx=\"10\" ry=\"10\" style=\"stroke: #383838; stroke-width: 1.5;\" width=\"42\" x=\"299\" y=\"49\"/><text fill=\"#000000\" font-family=\"sans-serif\" font-size=\"12\" font-style=\"italic\" lengthAdjust=\"spacingAndGlyphs\" textLength=\"40\" x=\"300\" y=\"65.1387\">«part»</text><text fill=\"#000000\" font-family=\"sans-serif\" font-size=\"12\" lengthAdjust=\"spacingAndGlyphs\" textLength=\"22\" x=\"307\" y=\"79.1074\">x: A</text><line style=\"stroke: #383838; stroke-width: 1.5;\" x1=\"300\" x2=\"340\" y1=\"86.9375\" y2=\"86.9375\"/></a><!--MD5=[b9389687b975829384b498ac4b7476b2]\n",
       "class E8--><a href=\"psysml:3c42eaa7-d0d8-4753-a2b8-0968c7baa502\" target=\"_top\" title=\"psysml:3c42eaa7-d0d8-4753-a2b8-0968c7baa502\" xlink:actuate=\"onRequest\" xlink:href=\"psysml:3c42eaa7-d0d8-4753-a2b8-0968c7baa502\" xlink:show=\"new\" xlink:title=\"psysml:3c42eaa7-d0d8-4753-a2b8-0968c7baa502\" xlink:type=\"simple\"><rect fill=\"#FFFFFF\" height=\"45.9375\" id=\"E8\" rx=\"10\" ry=\"10\" style=\"stroke: #383838; stroke-width: 1.5;\" width=\"42\" x=\"80\" y=\"279\"/><text fill=\"#000000\" font-family=\"sans-serif\" font-size=\"12\" font-style=\"italic\" lengthAdjust=\"spacingAndGlyphs\" textLength=\"40\" x=\"81\" y=\"295.1387\">«part»</text><text fill=\"#000000\" font-family=\"sans-serif\" font-size=\"12\" lengthAdjust=\"spacingAndGlyphs\" textLength=\"21\" x=\"88.5\" y=\"309.1074\">z: B</text><line style=\"stroke: #383838; stroke-width: 1.5;\" x1=\"81\" x2=\"121\" y1=\"316.9375\" y2=\"316.9375\"/></a><!--MD5=[09b614a08d8cba4a07c9adeb5e0fee81]\n",
       "class E3--><a href=\"psysml:e52e2a8f-f908-40ce-88b1-6459229e6290\" target=\"_top\" title=\"psysml:e52e2a8f-f908-40ce-88b1-6459229e6290\" xlink:actuate=\"onRequest\" xlink:href=\"psysml:e52e2a8f-f908-40ce-88b1-6459229e6290\" xlink:show=\"new\" xlink:title=\"psysml:e52e2a8f-f908-40ce-88b1-6459229e6290\" xlink:type=\"simple\"><rect fill=\"#FFFFFF\" height=\"45.9375\" id=\"E3\" style=\"stroke: #383838; stroke-width: 1.5;\" width=\"70\" x=\"518\" y=\"108\"/><text fill=\"#000000\" font-family=\"sans-serif\" font-size=\"12\" font-style=\"italic\" lengthAdjust=\"spacingAndGlyphs\" textLength=\"68\" x=\"519\" y=\"124.1387\">«part  def»</text><text fill=\"#000000\" font-family=\"sans-serif\" font-size=\"12\" lengthAdjust=\"spacingAndGlyphs\" textLength=\"8\" x=\"549\" y=\"138.1074\">A</text><line style=\"stroke: #383838; stroke-width: 1.5;\" x1=\"519\" x2=\"587\" y1=\"145.9375\" y2=\"145.9375\"/></a><a href=\"psysml:b07c7c49-60b3-45d9-ab30-3f9ccb4621b1\" target=\"_top\" title=\"psysml:b07c7c49-60b3-45d9-ab30-3f9ccb4621b1\" xlink:actuate=\"onRequest\" xlink:href=\"psysml:b07c7c49-60b3-45d9-ab30-3f9ccb4621b1\" xlink:show=\"new\" xlink:title=\"psysml:b07c7c49-60b3-45d9-ab30-3f9ccb4621b1\" xlink:type=\"simple\"><polygon fill=\"#FFFFFF\" points=\"301,167.5,325,167.5,332,189.7969,339,189.7969,339,220.0938,301,220.0938,301,167.5\" style=\"stroke: #000000; stroke-width: 1.5;\"/><line style=\"stroke: #000000; stroke-width: 1.5;\" x1=\"301\" x2=\"332\" y1=\"189.7969\" y2=\"189.7969\"/><text fill=\"#000000\" font-family=\"sans-serif\" font-size=\"14\" font-weight=\"bold\" lengthAdjust=\"spacingAndGlyphs\" textLength=\"18\" x=\"305\" y=\"182.4951\">P2</text></a><!--MD5=[2156ba9850f5573cc1fc38a6a4b2f02b]\n",
       "class E7--><a href=\"psysml:f5eaf228-c184-457d-ba82-3236315ba9d3\" target=\"_top\" title=\"psysml:f5eaf228-c184-457d-ba82-3236315ba9d3\" xlink:actuate=\"onRequest\" xlink:href=\"psysml:f5eaf228-c184-457d-ba82-3236315ba9d3\" xlink:show=\"new\" xlink:title=\"psysml:f5eaf228-c184-457d-ba82-3236315ba9d3\" xlink:type=\"simple\"><rect fill=\"#FFFFFF\" height=\"45.9375\" id=\"E7\" style=\"stroke: #383838; stroke-width: 1.5;\" width=\"70\" x=\"285\" y=\"288\"/><text fill=\"#000000\" font-family=\"sans-serif\" font-size=\"12\" font-style=\"italic\" lengthAdjust=\"spacingAndGlyphs\" textLength=\"68\" x=\"286\" y=\"304.1387\">«part  def»</text><text fill=\"#000000\" font-family=\"sans-serif\" font-size=\"12\" lengthAdjust=\"spacingAndGlyphs\" textLength=\"8\" x=\"316\" y=\"318.1074\">B</text><line style=\"stroke: #383838; stroke-width: 1.5;\" x1=\"286\" x2=\"354\" y1=\"325.9375\" y2=\"325.9375\"/></a><!--MD5=[96f4274e9e20536e775497830990834d]\n",
       "class E10--><a href=\"psysml:bd10993a-8e6e-4149-83fc-2dc02c68e6fc\" target=\"_top\" title=\"psysml:bd10993a-8e6e-4149-83fc-2dc02c68e6fc\" xlink:actuate=\"onRequest\" xlink:href=\"psysml:bd10993a-8e6e-4149-83fc-2dc02c68e6fc\" xlink:show=\"new\" xlink:title=\"psysml:bd10993a-8e6e-4149-83fc-2dc02c68e6fc\" xlink:type=\"simple\"><rect fill=\"#FFFFFF\" height=\"45.9375\" id=\"E10\" rx=\"10\" ry=\"10\" style=\"stroke: #383838; stroke-width: 1.5;\" width=\"42\" x=\"80\" y=\"110\"/><text fill=\"#000000\" font-family=\"sans-serif\" font-size=\"12\" font-style=\"italic\" lengthAdjust=\"spacingAndGlyphs\" textLength=\"40\" x=\"81\" y=\"126.1387\">«part»</text><text fill=\"#000000\" font-family=\"sans-serif\" font-size=\"12\" lengthAdjust=\"spacingAndGlyphs\" textLength=\"29\" x=\"84.5\" y=\"140.1074\">z1: A</text><line style=\"stroke: #383838; stroke-width: 1.5;\" x1=\"81\" x2=\"121\" y1=\"147.9375\" y2=\"147.9375\"/></a><!--MD5=[185131fc0dcab0a4505a2ebe144e961b]\n",
       "link E4 to E2--><a href=\"psysml:9c76a3dc-4160-42f2-8d03-f28cee99dd8d\" target=\"_top\" title=\"psysml:9c76a3dc-4160-42f2-8d03-f28cee99dd8d\" xlink:actuate=\"onRequest\" xlink:href=\"psysml:9c76a3dc-4160-42f2-8d03-f28cee99dd8d\" xlink:show=\"new\" xlink:title=\"psysml:9c76a3dc-4160-42f2-8d03-f28cee99dd8d\" xlink:type=\"simple\"><path d=\"M339.13,193.61 C365.93,193.03 417.915,191.905 463.8013,190.9113 C469.537,190.787 475.1775,190.6649 480.6616,190.5461 C483.4037,190.4867 486.1066,190.4281 488.7628,190.3706 C490.0909,190.3418 491.4074,190.3133 492.7111,190.285 C493.0371,190.278 493.3622,190.2709 493.6866,190.2639 \" fill=\"none\" id=\"E4-&gt;E2\" style=\"stroke: #383838; stroke-width: 1.0; stroke-dasharray: 7.0,7.0;\"/><polygon fill=\"#383838\" points=\"493.6866,190.2639,484.602,186.4598,488.6878,190.3722,484.7753,194.4579,493.6866,190.2639\" style=\"stroke: #383838; stroke-width: 1.0;\"/><text fill=\"#000000\" font-family=\"sans-serif\" font-size=\"13\" lengthAdjust=\"spacingAndGlyphs\" textLength=\"65\" x=\"404\" y=\"187.0669\">«import»*</text></a><!--MD5=[e9be52314489bd878ff4c7144b63c9e1]\n",
       "link E5 to E3--><a href=\"psysml:7e781afb-bb69-45b4-99ca-abeca0fc5181\" target=\"_top\" title=\"psysml:7e781afb-bb69-45b4-99ca-abeca0fc5181\" xlink:actuate=\"onRequest\" xlink:href=\"psysml:7e781afb-bb69-45b4-99ca-abeca0fc5181\" xlink:show=\"new\" xlink:title=\"psysml:7e781afb-bb69-45b4-99ca-abeca0fc5181\" xlink:type=\"simple\"><path d=\"M341.1,77.13 C375.75,85.98 447.85,104.4 498.05,117.22 \" fill=\"none\" id=\"E5-&gt;E3\" style=\"stroke: #383838; stroke-width: 1.0;\"/><polygon fill=\"#FFFFFF\" points=\"517.72,122.24,497.5781,124.3147,501.0465,110.7512,517.72,122.24\" style=\"stroke: #383838; stroke-width: 1.0;\"/><ellipse cx=\"492.5513\" cy=\"120.965\" fill=\"#383838\" rx=\"2\" ry=\"2\" style=\"stroke: #383838; stroke-width: 1.0;\"/><ellipse cx=\"495.0287\" cy=\"111.2767\" fill=\"#383838\" rx=\"2\" ry=\"2\" style=\"stroke: #383838; stroke-width: 1.0;\"/></a><!--MD5=[ee384bb554873b72f85793eae40e290c]\n",
       "link E1 to E4--><a href=\"psysml:3abfa817-381d-4c68-8935-6fa98a0aa2e6\" target=\"_top\" title=\"psysml:3abfa817-381d-4c68-8935-6fa98a0aa2e6\" xlink:actuate=\"onRequest\" xlink:href=\"psysml:3abfa817-381d-4c68-8935-6fa98a0aa2e6\" xlink:show=\"new\" xlink:title=\"psysml:3abfa817-381d-4c68-8935-6fa98a0aa2e6\" xlink:type=\"simple\"><path d=\"M102.12,417.03 C104.51,417.62 143.03,426.87 162,409 C175.52,396.27 162.3,384.89 170,368 C192.47,318.74 209.66,313.02 245,272 C261.85,252.44 282.09,231.26 297.14,215.91 \" fill=\"none\" id=\"E1-&gt;E4\" style=\"stroke: #383838; stroke-width: 1.0; stroke-dasharray: 7.0,7.0;\"/><polygon fill=\"#383838\" points=\"300.84,212.13,291.6764,215.7395,297.3331,215.6939,297.3787,221.3506,300.84,212.13\" style=\"stroke: #383838; stroke-width: 1.0;\"/><text fill=\"#000000\" font-family=\"sans-serif\" font-size=\"13\" lengthAdjust=\"spacingAndGlyphs\" textLength=\"65\" x=\"171\" y=\"278.0669\">«import»*</text></a><!--MD5=[ccbd3af71bf83df0ec2a2db62d6d7130]\n",
       "link E1 to E6--><a href=\"psysml:38071c17-dcc7-47a2-931c-5199b5c10531\" target=\"_top\" title=\"psysml:38071c17-dcc7-47a2-931c-5199b5c10531\" xlink:actuate=\"onRequest\" xlink:href=\"psysml:38071c17-dcc7-47a2-931c-5199b5c10531\" xlink:show=\"new\" xlink:title=\"psysml:38071c17-dcc7-47a2-931c-5199b5c10531\" xlink:type=\"simple\"><path d=\"M102.1,416.99 C104.09,416.82 136.41,413.95 162,409 C196.795,402.27 235.3725,392.475 265.58,384.2625 C273.1319,382.2094 280.1606,380.2552 286.4764,378.4725 C288.0553,378.0268 289.5897,377.5918 291.0765,377.1687 C291.2624,377.1158 291.4475,377.0631 291.6319,377.0106 \" fill=\"none\" id=\"E1-&gt;E6\" style=\"stroke: #383838; stroke-width: 1.0; stroke-dasharray: 7.0,7.0;\"/><polygon fill=\"#383838\" points=\"291.6319,377.0106,281.8804,375.6292,286.8231,378.3804,284.0719,383.3231,291.6319,377.0106\" style=\"stroke: #383838; stroke-width: 1.0;\"/><text fill=\"#000000\" font-family=\"sans-serif\" font-size=\"13\" lengthAdjust=\"spacingAndGlyphs\" textLength=\"65\" x=\"171\" y=\"389.0669\">«import»*</text></a><!--MD5=[bfa3c8b0d15052fdf50ae9310b491027]\n",
       "link E8 to E7--><a href=\"psysml:84039e37-6732-4e81-a24d-af568a8fc4d2\" target=\"_top\" title=\"psysml:84039e37-6732-4e81-a24d-af568a8fc4d2\" xlink:actuate=\"onRequest\" xlink:href=\"psysml:84039e37-6732-4e81-a24d-af568a8fc4d2\" xlink:show=\"new\" xlink:title=\"psysml:84039e37-6732-4e81-a24d-af568a8fc4d2\" xlink:type=\"simple\"><path d=\"M122.13,302.67 C148.51,303.57 196.23,305.25 237,307 C245.93,307.38 255.41,307.82 264.63,308.26 \" fill=\"none\" id=\"E8-&gt;E7\" style=\"stroke: #383838; stroke-width: 1.0;\"/><polygon fill=\"#FFFFFF\" points=\"284.69,309.24,265.3724,315.3086,266.0525,301.3252,284.69,309.24\" style=\"stroke: #383838; stroke-width: 1.0;\"/><ellipse cx=\"259.7763\" cy=\"313.0341\" fill=\"#383838\" rx=\"2\" ry=\"2\" style=\"stroke: #383838; stroke-width: 1.0;\"/><ellipse cx=\"260.2621\" cy=\"303.0459\" fill=\"#383838\" rx=\"2\" ry=\"2\" style=\"stroke: #383838; stroke-width: 1.0;\"/></a><!--MD5=[c2be97adba6ddfe1c8f349fab141c927]\n",
       "link E9 to E4--><a href=\"psysml:f4a7c8b4-50d4-4d21-9428-75951a767795\" target=\"_top\" title=\"psysml:f4a7c8b4-50d4-4d21-9428-75951a767795\" xlink:actuate=\"onRequest\" xlink:href=\"psysml:f4a7c8b4-50d4-4d21-9428-75951a767795\" xlink:show=\"new\" xlink:title=\"psysml:f4a7c8b4-50d4-4d21-9428-75951a767795\" xlink:type=\"simple\"><path d=\"M146.1613,191.6091 C146.7061,191.6167 147.2543,191.6243 147.8058,191.6319 C148.9087,191.6472 150.0248,191.6627 151.1532,191.6783 C160.1809,191.8035 170.0003,191.9397 180.2088,192.0813 C221.0425,192.6475 268.1,193.3 295.6,193.68 \" fill=\"none\" id=\"E9-&gt;E4\" style=\"stroke: #383838; stroke-width: 1.0; stroke-dasharray: 7.0,7.0;\"/><polygon fill=\"#383838\" points=\"300.67,193.75,291.7281,189.6218,295.6705,193.6786,291.6138,197.621,300.67,193.75\" style=\"stroke: #383838; stroke-width: 1.0;\"/><text fill=\"#000000\" font-family=\"sans-serif\" font-size=\"13\" lengthAdjust=\"spacingAndGlyphs\" textLength=\"65\" x=\"171\" y=\"188.0669\">«import»*</text></a><!--MD5=[feeac5eb423634930294aa81f2d25a4c]\n",
       "link E10 to E3--><a href=\"psysml:ff7299d7-bc25-43a3-abcf-daa45aa95a4b\" target=\"_top\" title=\"psysml:ff7299d7-bc25-43a3-abcf-daa45aa95a4b\" xlink:actuate=\"onRequest\" xlink:href=\"psysml:ff7299d7-bc25-43a3-abcf-daa45aa95a4b\" xlink:show=\"new\" xlink:title=\"psysml:ff7299d7-bc25-43a3-abcf-daa45aa95a4b\" xlink:type=\"simple\"><path d=\"M122.21,132.91 C188.01,132.62 397.64,131.69 497.76,131.24 \" fill=\"none\" id=\"E10-&gt;E3\" style=\"stroke: #383838; stroke-width: 1.0;\"/><polygon fill=\"#FFFFFF\" points=\"517.93,131.15,498.9602,138.2314,498.9002,124.2315,517.93,131.15\" style=\"stroke: #383838; stroke-width: 1.0;\"/><ellipse cx=\"493.2517\" cy=\"136.2558\" fill=\"#383838\" rx=\"2\" ry=\"2\" style=\"stroke: #383838; stroke-width: 1.0;\"/><ellipse cx=\"493.2088\" cy=\"126.2559\" fill=\"#383838\" rx=\"2\" ry=\"2\" style=\"stroke: #383838; stroke-width: 1.0;\"/></a><!--MD5=[5b95a1496c8e263e0a26df0f49a56e20]\n",
       "@startuml\r\n",
       "left to right direction\r\n",
       "skinparam monochrome true\r\n",
       "skinparam classbackgroundcolor white\r\n",
       "skinparam shadowing false\r\n",
       "skinparam wrapWidth 300\r\n",
       "hide circle\r\n",
       "\r\n",
       "package \"PrivateImportTest\" as E1  [[psysml:8f933ba8-0ed5-4db5-b82c-58b1e568922b ]]  {\r\n",
       "package \"P1\" as E2  [[psysml:dc5a646f-7a70-4bb5-8a84-dd766b7ca58f ]]  {\r\n",
       "comp def \"A\" as E3  <<(T,blue) part  def>> [[psysml:e52e2a8f-f908-40ce-88b1-6459229e6290 ]] {\r\n",
       "}\r\n",
       "}\r\n",
       "package \"P2\" as E4  [[psysml:b07c7c49-60b3-45d9-ab30-3f9ccb4621b1 ]]  {\r\n",
       "}\r\n",
       "comp usage \"x: A \" as E5  <<(T,blue) part>> [[psysml:ae255e73-333e-4dec-b11e-e996fbedcc54 ]] {\r\n",
       "}\r\n",
       "package \"P3\" as E6  [[psysml:61bbaf9b-44aa-4d19-b1af-9f0be63c5dc6 ]]  {\r\n",
       "comp def \"B\" as E7  <<(T,blue) part  def>> [[psysml:f5eaf228-c184-457d-ba82-3236315ba9d3 ]] {\r\n",
       "}\r\n",
       "}\r\n",
       "comp usage \"z: B \" as E8  <<(T,blue) part>> [[psysml:3c42eaa7-d0d8-4753-a2b8-0968c7baa502 ]] {\r\n",
       "}\r\n",
       "package \"P4\" as E9  [[psysml:826bc35a-2948-4f0f-ac57-a46abe90dd77 ]]  {\r\n",
       "comp usage \"z1: A \" as E10  <<(T,blue) part>> [[psysml:bd10993a-8e6e-4149-83fc-2dc02c68e6fc ]] {\r\n",
       "}\r\n",
       "}\r\n",
       "}\r\n",
       "E4 ..> E2 [[psysml:9c76a3dc-4160-42f2-8d03-f28cee99dd8d ]] : <<import>>*\r\n",
       "E5 - -:|> E3 [[psysml:7e781afb-bb69-45b4-99ca-abeca0fc5181 ]] \r\n",
       "E1 ..> E4 [[psysml:3abfa817-381d-4c68-8935-6fa98a0aa2e6 ]] : <<import>>*\r\n",
       "E1 ..> E6 [[psysml:38071c17-dcc7-47a2-931c-5199b5c10531 ]] : <<import>>*\r\n",
       "E8 - -:|> E7 [[psysml:84039e37-6732-4e81-a24d-af568a8fc4d2 ]] \r\n",
       "E9 ..> E4 [[psysml:f4a7c8b4-50d4-4d21-9428-75951a767795 ]] : <<import>>*\r\n",
       "E10 - -:|> E3 [[psysml:ff7299d7-bc25-43a3-abcf-daa45aa95a4b ]] \r\n",
       "@enduml\r\n",
       "\n",
       "PlantUML version 1.2020.13(Sat Jun 13 12:26:38 UTC 2020)\n",
       "(EPL source distribution)\n",
       "Java Runtime: OpenJDK Runtime Environment\n",
       "JVM: OpenJDK 64-Bit Server VM\n",
       "Default Encoding: UTF-8\n",
       "Language: en\n",
       "Country: null\n",
       "--></g></svg>"
      ]
     },
     "execution_count": 16,
     "metadata": {},
     "output_type": "execute_result"
    }
   ],
   "source": [
    "%viz --style=\"LR\" --view=\"Default\" \"PrivateImportTest\""
   ]
  },
  {
   "cell_type": "code",
   "execution_count": 17,
   "id": "82b96b52",
   "metadata": {
    "execution": {
     "iopub.execute_input": "2022-08-19T08:19:17.024209Z",
     "iopub.status.busy": "2022-08-19T08:19:17.023589Z",
     "iopub.status.idle": "2022-08-19T08:19:17.070524Z",
     "shell.execute_reply": "2022-08-19T08:19:17.070992Z"
    }
   },
   "outputs": [
    {
     "data": {
      "image/svg+xml": [
       "<?xml version=\"1.0\" encoding=\"UTF-8\" standalone=\"no\"?><svg xmlns=\"http://www.w3.org/2000/svg\" xmlns:xlink=\"http://www.w3.org/1999/xlink\" contentScriptType=\"application/ecmascript\" contentStyleType=\"text/css\" height=\"438px\" preserveAspectRatio=\"none\" style=\"width:674px;height:438px;\" version=\"1.1\" viewBox=\"0 0 674 438\" width=\"674px\" zoomAndPan=\"magnify\"><defs/><g><!--MD5=[fbc87193dbaf4d95561dea2c320d4a47]\n",
       "cluster E1--><a href=\"psysml:8f933ba8-0ed5-4db5-b82c-58b1e568922b\" target=\"_top\" title=\"psysml:8f933ba8-0ed5-4db5-b82c-58b1e568922b\" xlink:actuate=\"onRequest\" xlink:href=\"psysml:8f933ba8-0ed5-4db5-b82c-58b1e568922b\" xlink:show=\"new\" xlink:title=\"psysml:8f933ba8-0ed5-4db5-b82c-58b1e568922b\" xlink:type=\"simple\"><polygon fill=\"#FFFFFF\" points=\"16,6,143,6,150,28.2969,652,28.2969,652,425,16,425,16,6\" style=\"stroke: #000000; stroke-width: 1.5;\"/><line style=\"stroke: #000000; stroke-width: 1.5;\" x1=\"16\" x2=\"150\" y1=\"28.2969\" y2=\"28.2969\"/><text fill=\"#000000\" font-family=\"sans-serif\" font-size=\"14\" font-weight=\"bold\" lengthAdjust=\"spacingAndGlyphs\" textLength=\"121\" x=\"20\" y=\"20.9951\">PrivateImportTest</text></a><!--MD5=[e4f7fae6ed58524ba242bb0b0d3be6b7]\n",
       "cluster E2--><a href=\"psysml:dc5a646f-7a70-4bb5-8a84-dd766b7ca58f\" target=\"_top\" title=\"psysml:dc5a646f-7a70-4bb5-8a84-dd766b7ca58f\" xlink:actuate=\"onRequest\" xlink:href=\"psysml:dc5a646f-7a70-4bb5-8a84-dd766b7ca58f\" xlink:show=\"new\" xlink:title=\"psysml:dc5a646f-7a70-4bb5-8a84-dd766b7ca58f\" xlink:type=\"simple\"><polygon fill=\"#FFFFFF\" points=\"494,65,518,65,525,87.2969,612,87.2969,612,197,494,197,494,65\" style=\"stroke: #000000; stroke-width: 1.5;\"/><line style=\"stroke: #000000; stroke-width: 1.5;\" x1=\"494\" x2=\"525\" y1=\"87.2969\" y2=\"87.2969\"/><text fill=\"#000000\" font-family=\"sans-serif\" font-size=\"14\" font-weight=\"bold\" lengthAdjust=\"spacingAndGlyphs\" textLength=\"18\" x=\"498\" y=\"79.9951\">P1</text></a><!--MD5=[14e3b0961a2654348d326746436168a1]\n",
       "cluster E6--><a href=\"psysml:61bbaf9b-44aa-4d19-b1af-9f0be63c5dc6\" target=\"_top\" title=\"psysml:61bbaf9b-44aa-4d19-b1af-9f0be63c5dc6\" xlink:actuate=\"onRequest\" xlink:href=\"psysml:61bbaf9b-44aa-4d19-b1af-9f0be63c5dc6\" xlink:show=\"new\" xlink:title=\"psysml:61bbaf9b-44aa-4d19-b1af-9f0be63c5dc6\" xlink:type=\"simple\"><polygon fill=\"#FFFFFF\" points=\"261,245,285,245,292,267.2969,379,267.2969,379,377,261,377,261,245\" style=\"stroke: #000000; stroke-width: 1.5;\"/><line style=\"stroke: #000000; stroke-width: 1.5;\" x1=\"261\" x2=\"292\" y1=\"267.2969\" y2=\"267.2969\"/><text fill=\"#000000\" font-family=\"sans-serif\" font-size=\"14\" font-weight=\"bold\" lengthAdjust=\"spacingAndGlyphs\" textLength=\"18\" x=\"265\" y=\"259.9951\">P3</text></a><!--MD5=[7f149f147074ac12df2cb0a7728a5fb0]\n",
       "cluster E9--><a href=\"psysml:826bc35a-2948-4f0f-ac57-a46abe90dd77\" target=\"_top\" title=\"psysml:826bc35a-2948-4f0f-ac57-a46abe90dd77\" xlink:actuate=\"onRequest\" xlink:href=\"psysml:826bc35a-2948-4f0f-ac57-a46abe90dd77\" xlink:show=\"new\" xlink:title=\"psysml:826bc35a-2948-4f0f-ac57-a46abe90dd77\" xlink:type=\"simple\"><polygon fill=\"#FFFFFF\" points=\"56,67,80,67,87,89.2969,146,89.2969,146,199,56,199,56,67\" style=\"stroke: #000000; stroke-width: 1.5;\"/><line style=\"stroke: #000000; stroke-width: 1.5;\" x1=\"56\" x2=\"87\" y1=\"89.2969\" y2=\"89.2969\"/><text fill=\"#000000\" font-family=\"sans-serif\" font-size=\"14\" font-weight=\"bold\" lengthAdjust=\"spacingAndGlyphs\" textLength=\"18\" x=\"60\" y=\"81.9951\">P4</text></a><!--MD5=[270fce915f116d4de14055a7c1d9a0f3]\n",
       "class E5--><a href=\"psysml:ae255e73-333e-4dec-b11e-e996fbedcc54\" target=\"_top\" title=\"psysml:ae255e73-333e-4dec-b11e-e996fbedcc54\" xlink:actuate=\"onRequest\" xlink:href=\"psysml:ae255e73-333e-4dec-b11e-e996fbedcc54\" xlink:show=\"new\" xlink:title=\"psysml:ae255e73-333e-4dec-b11e-e996fbedcc54\" xlink:type=\"simple\"><rect fill=\"#FFFFFF\" height=\"45.9375\" id=\"E5\" rx=\"10\" ry=\"10\" style=\"stroke: #383838; stroke-width: 1.5;\" width=\"42\" x=\"299\" y=\"49\"/><text fill=\"#000000\" font-family=\"sans-serif\" font-size=\"12\" font-style=\"italic\" lengthAdjust=\"spacingAndGlyphs\" textLength=\"40\" x=\"300\" y=\"65.1387\">«part»</text><text fill=\"#000000\" font-family=\"sans-serif\" font-size=\"12\" lengthAdjust=\"spacingAndGlyphs\" textLength=\"22\" x=\"307\" y=\"79.1074\">x: A</text><line style=\"stroke: #383838; stroke-width: 1.5;\" x1=\"300\" x2=\"340\" y1=\"86.9375\" y2=\"86.9375\"/></a><!--MD5=[b9389687b975829384b498ac4b7476b2]\n",
       "class E8--><a href=\"psysml:3c42eaa7-d0d8-4753-a2b8-0968c7baa502\" target=\"_top\" title=\"psysml:3c42eaa7-d0d8-4753-a2b8-0968c7baa502\" xlink:actuate=\"onRequest\" xlink:href=\"psysml:3c42eaa7-d0d8-4753-a2b8-0968c7baa502\" xlink:show=\"new\" xlink:title=\"psysml:3c42eaa7-d0d8-4753-a2b8-0968c7baa502\" xlink:type=\"simple\"><rect fill=\"#FFFFFF\" height=\"45.9375\" id=\"E8\" rx=\"10\" ry=\"10\" style=\"stroke: #383838; stroke-width: 1.5;\" width=\"42\" x=\"80\" y=\"279\"/><text fill=\"#000000\" font-family=\"sans-serif\" font-size=\"12\" font-style=\"italic\" lengthAdjust=\"spacingAndGlyphs\" textLength=\"40\" x=\"81\" y=\"295.1387\">«part»</text><text fill=\"#000000\" font-family=\"sans-serif\" font-size=\"12\" lengthAdjust=\"spacingAndGlyphs\" textLength=\"21\" x=\"88.5\" y=\"309.1074\">z: B</text><line style=\"stroke: #383838; stroke-width: 1.5;\" x1=\"81\" x2=\"121\" y1=\"316.9375\" y2=\"316.9375\"/></a><!--MD5=[09b614a08d8cba4a07c9adeb5e0fee81]\n",
       "class E3--><a href=\"psysml:e52e2a8f-f908-40ce-88b1-6459229e6290\" target=\"_top\" title=\"psysml:e52e2a8f-f908-40ce-88b1-6459229e6290\" xlink:actuate=\"onRequest\" xlink:href=\"psysml:e52e2a8f-f908-40ce-88b1-6459229e6290\" xlink:show=\"new\" xlink:title=\"psysml:e52e2a8f-f908-40ce-88b1-6459229e6290\" xlink:type=\"simple\"><rect fill=\"#FFFFFF\" height=\"45.9375\" id=\"E3\" style=\"stroke: #383838; stroke-width: 1.5;\" width=\"70\" x=\"518\" y=\"108\"/><text fill=\"#000000\" font-family=\"sans-serif\" font-size=\"12\" font-style=\"italic\" lengthAdjust=\"spacingAndGlyphs\" textLength=\"68\" x=\"519\" y=\"124.1387\">«part  def»</text><text fill=\"#000000\" font-family=\"sans-serif\" font-size=\"12\" lengthAdjust=\"spacingAndGlyphs\" textLength=\"8\" x=\"549\" y=\"138.1074\">A</text><line style=\"stroke: #383838; stroke-width: 1.5;\" x1=\"519\" x2=\"587\" y1=\"145.9375\" y2=\"145.9375\"/></a><a href=\"psysml:b07c7c49-60b3-45d9-ab30-3f9ccb4621b1\" target=\"_top\" title=\"psysml:b07c7c49-60b3-45d9-ab30-3f9ccb4621b1\" xlink:actuate=\"onRequest\" xlink:href=\"psysml:b07c7c49-60b3-45d9-ab30-3f9ccb4621b1\" xlink:show=\"new\" xlink:title=\"psysml:b07c7c49-60b3-45d9-ab30-3f9ccb4621b1\" xlink:type=\"simple\"><polygon fill=\"#FFFFFF\" points=\"301,167.5,325,167.5,332,189.7969,339,189.7969,339,220.0938,301,220.0938,301,167.5\" style=\"stroke: #000000; stroke-width: 1.5;\"/><line style=\"stroke: #000000; stroke-width: 1.5;\" x1=\"301\" x2=\"332\" y1=\"189.7969\" y2=\"189.7969\"/><text fill=\"#000000\" font-family=\"sans-serif\" font-size=\"14\" font-weight=\"bold\" lengthAdjust=\"spacingAndGlyphs\" textLength=\"18\" x=\"305\" y=\"182.4951\">P2</text></a><!--MD5=[2156ba9850f5573cc1fc38a6a4b2f02b]\n",
       "class E7--><a href=\"psysml:f5eaf228-c184-457d-ba82-3236315ba9d3\" target=\"_top\" title=\"psysml:f5eaf228-c184-457d-ba82-3236315ba9d3\" xlink:actuate=\"onRequest\" xlink:href=\"psysml:f5eaf228-c184-457d-ba82-3236315ba9d3\" xlink:show=\"new\" xlink:title=\"psysml:f5eaf228-c184-457d-ba82-3236315ba9d3\" xlink:type=\"simple\"><rect fill=\"#FFFFFF\" height=\"45.9375\" id=\"E7\" style=\"stroke: #383838; stroke-width: 1.5;\" width=\"70\" x=\"285\" y=\"288\"/><text fill=\"#000000\" font-family=\"sans-serif\" font-size=\"12\" font-style=\"italic\" lengthAdjust=\"spacingAndGlyphs\" textLength=\"68\" x=\"286\" y=\"304.1387\">«part  def»</text><text fill=\"#000000\" font-family=\"sans-serif\" font-size=\"12\" lengthAdjust=\"spacingAndGlyphs\" textLength=\"8\" x=\"316\" y=\"318.1074\">B</text><line style=\"stroke: #383838; stroke-width: 1.5;\" x1=\"286\" x2=\"354\" y1=\"325.9375\" y2=\"325.9375\"/></a><!--MD5=[96f4274e9e20536e775497830990834d]\n",
       "class E10--><a href=\"psysml:bd10993a-8e6e-4149-83fc-2dc02c68e6fc\" target=\"_top\" title=\"psysml:bd10993a-8e6e-4149-83fc-2dc02c68e6fc\" xlink:actuate=\"onRequest\" xlink:href=\"psysml:bd10993a-8e6e-4149-83fc-2dc02c68e6fc\" xlink:show=\"new\" xlink:title=\"psysml:bd10993a-8e6e-4149-83fc-2dc02c68e6fc\" xlink:type=\"simple\"><rect fill=\"#FFFFFF\" height=\"45.9375\" id=\"E10\" rx=\"10\" ry=\"10\" style=\"stroke: #383838; stroke-width: 1.5;\" width=\"42\" x=\"80\" y=\"110\"/><text fill=\"#000000\" font-family=\"sans-serif\" font-size=\"12\" font-style=\"italic\" lengthAdjust=\"spacingAndGlyphs\" textLength=\"40\" x=\"81\" y=\"126.1387\">«part»</text><text fill=\"#000000\" font-family=\"sans-serif\" font-size=\"12\" lengthAdjust=\"spacingAndGlyphs\" textLength=\"29\" x=\"84.5\" y=\"140.1074\">z1: A</text><line style=\"stroke: #383838; stroke-width: 1.5;\" x1=\"81\" x2=\"121\" y1=\"147.9375\" y2=\"147.9375\"/></a><!--MD5=[185131fc0dcab0a4505a2ebe144e961b]\n",
       "link E4 to E2--><a href=\"psysml:9c76a3dc-4160-42f2-8d03-f28cee99dd8d\" target=\"_top\" title=\"psysml:9c76a3dc-4160-42f2-8d03-f28cee99dd8d\" xlink:actuate=\"onRequest\" xlink:href=\"psysml:9c76a3dc-4160-42f2-8d03-f28cee99dd8d\" xlink:show=\"new\" xlink:title=\"psysml:9c76a3dc-4160-42f2-8d03-f28cee99dd8d\" xlink:type=\"simple\"><path d=\"M339.13,193.61 C365.93,193.03 417.915,191.905 463.8013,190.9113 C469.537,190.787 475.1775,190.6649 480.6616,190.5461 C483.4037,190.4867 486.1066,190.4281 488.7628,190.3706 C490.0909,190.3418 491.4074,190.3133 492.7111,190.285 C493.0371,190.278 493.3622,190.2709 493.6866,190.2639 \" fill=\"none\" id=\"E4-&gt;E2\" style=\"stroke: #383838; stroke-width: 1.0; stroke-dasharray: 7.0,7.0;\"/><polygon fill=\"#383838\" points=\"493.6866,190.2639,484.602,186.4598,488.6878,190.3722,484.7753,194.4579,493.6866,190.2639\" style=\"stroke: #383838; stroke-width: 1.0;\"/><text fill=\"#000000\" font-family=\"sans-serif\" font-size=\"13\" lengthAdjust=\"spacingAndGlyphs\" textLength=\"65\" x=\"404\" y=\"187.0669\">«import»*</text></a><!--MD5=[e9be52314489bd878ff4c7144b63c9e1]\n",
       "link E5 to E3--><a href=\"psysml:7e781afb-bb69-45b4-99ca-abeca0fc5181\" target=\"_top\" title=\"psysml:7e781afb-bb69-45b4-99ca-abeca0fc5181\" xlink:actuate=\"onRequest\" xlink:href=\"psysml:7e781afb-bb69-45b4-99ca-abeca0fc5181\" xlink:show=\"new\" xlink:title=\"psysml:7e781afb-bb69-45b4-99ca-abeca0fc5181\" xlink:type=\"simple\"><path d=\"M341.1,77.13 C375.75,85.98 447.85,104.4 498.05,117.22 \" fill=\"none\" id=\"E5-&gt;E3\" style=\"stroke: #383838; stroke-width: 1.0;\"/><polygon fill=\"#FFFFFF\" points=\"517.72,122.24,497.5781,124.3147,501.0465,110.7512,517.72,122.24\" style=\"stroke: #383838; stroke-width: 1.0;\"/><ellipse cx=\"492.5513\" cy=\"120.965\" fill=\"#383838\" rx=\"2\" ry=\"2\" style=\"stroke: #383838; stroke-width: 1.0;\"/><ellipse cx=\"495.0287\" cy=\"111.2767\" fill=\"#383838\" rx=\"2\" ry=\"2\" style=\"stroke: #383838; stroke-width: 1.0;\"/></a><!--MD5=[ee384bb554873b72f85793eae40e290c]\n",
       "link E1 to E4--><a href=\"psysml:3abfa817-381d-4c68-8935-6fa98a0aa2e6\" target=\"_top\" title=\"psysml:3abfa817-381d-4c68-8935-6fa98a0aa2e6\" xlink:actuate=\"onRequest\" xlink:href=\"psysml:3abfa817-381d-4c68-8935-6fa98a0aa2e6\" xlink:show=\"new\" xlink:title=\"psysml:3abfa817-381d-4c68-8935-6fa98a0aa2e6\" xlink:type=\"simple\"><path d=\"M102.12,417.03 C104.51,417.62 143.03,426.87 162,409 C175.52,396.27 162.3,384.89 170,368 C192.47,318.74 209.66,313.02 245,272 C261.85,252.44 282.09,231.26 297.14,215.91 \" fill=\"none\" id=\"E1-&gt;E4\" style=\"stroke: #383838; stroke-width: 1.0; stroke-dasharray: 7.0,7.0;\"/><polygon fill=\"#383838\" points=\"300.84,212.13,291.6764,215.7395,297.3331,215.6939,297.3787,221.3506,300.84,212.13\" style=\"stroke: #383838; stroke-width: 1.0;\"/><text fill=\"#000000\" font-family=\"sans-serif\" font-size=\"13\" lengthAdjust=\"spacingAndGlyphs\" textLength=\"65\" x=\"171\" y=\"278.0669\">«import»*</text></a><!--MD5=[ccbd3af71bf83df0ec2a2db62d6d7130]\n",
       "link E1 to E6--><a href=\"psysml:38071c17-dcc7-47a2-931c-5199b5c10531\" target=\"_top\" title=\"psysml:38071c17-dcc7-47a2-931c-5199b5c10531\" xlink:actuate=\"onRequest\" xlink:href=\"psysml:38071c17-dcc7-47a2-931c-5199b5c10531\" xlink:show=\"new\" xlink:title=\"psysml:38071c17-dcc7-47a2-931c-5199b5c10531\" xlink:type=\"simple\"><path d=\"M102.1,416.99 C104.09,416.82 136.41,413.95 162,409 C196.795,402.27 235.3725,392.475 265.58,384.2625 C273.1319,382.2094 280.1606,380.2552 286.4764,378.4725 C288.0553,378.0268 289.5897,377.5918 291.0765,377.1687 C291.2624,377.1158 291.4475,377.0631 291.6319,377.0106 \" fill=\"none\" id=\"E1-&gt;E6\" style=\"stroke: #383838; stroke-width: 1.0; stroke-dasharray: 7.0,7.0;\"/><polygon fill=\"#383838\" points=\"291.6319,377.0106,281.8804,375.6292,286.8231,378.3804,284.0719,383.3231,291.6319,377.0106\" style=\"stroke: #383838; stroke-width: 1.0;\"/><text fill=\"#000000\" font-family=\"sans-serif\" font-size=\"13\" lengthAdjust=\"spacingAndGlyphs\" textLength=\"65\" x=\"171\" y=\"389.0669\">«import»*</text></a><!--MD5=[bfa3c8b0d15052fdf50ae9310b491027]\n",
       "link E8 to E7--><a href=\"psysml:84039e37-6732-4e81-a24d-af568a8fc4d2\" target=\"_top\" title=\"psysml:84039e37-6732-4e81-a24d-af568a8fc4d2\" xlink:actuate=\"onRequest\" xlink:href=\"psysml:84039e37-6732-4e81-a24d-af568a8fc4d2\" xlink:show=\"new\" xlink:title=\"psysml:84039e37-6732-4e81-a24d-af568a8fc4d2\" xlink:type=\"simple\"><path d=\"M122.13,302.67 C148.51,303.57 196.23,305.25 237,307 C245.93,307.38 255.41,307.82 264.63,308.26 \" fill=\"none\" id=\"E8-&gt;E7\" style=\"stroke: #383838; stroke-width: 1.0;\"/><polygon fill=\"#FFFFFF\" points=\"284.69,309.24,265.3724,315.3086,266.0525,301.3252,284.69,309.24\" style=\"stroke: #383838; stroke-width: 1.0;\"/><ellipse cx=\"259.7763\" cy=\"313.0341\" fill=\"#383838\" rx=\"2\" ry=\"2\" style=\"stroke: #383838; stroke-width: 1.0;\"/><ellipse cx=\"260.2621\" cy=\"303.0459\" fill=\"#383838\" rx=\"2\" ry=\"2\" style=\"stroke: #383838; stroke-width: 1.0;\"/></a><!--MD5=[c2be97adba6ddfe1c8f349fab141c927]\n",
       "link E9 to E4--><a href=\"psysml:f4a7c8b4-50d4-4d21-9428-75951a767795\" target=\"_top\" title=\"psysml:f4a7c8b4-50d4-4d21-9428-75951a767795\" xlink:actuate=\"onRequest\" xlink:href=\"psysml:f4a7c8b4-50d4-4d21-9428-75951a767795\" xlink:show=\"new\" xlink:title=\"psysml:f4a7c8b4-50d4-4d21-9428-75951a767795\" xlink:type=\"simple\"><path d=\"M146.1613,191.6091 C146.7061,191.6167 147.2543,191.6243 147.8058,191.6319 C148.9087,191.6472 150.0248,191.6627 151.1532,191.6783 C160.1809,191.8035 170.0003,191.9397 180.2088,192.0813 C221.0425,192.6475 268.1,193.3 295.6,193.68 \" fill=\"none\" id=\"E9-&gt;E4\" style=\"stroke: #383838; stroke-width: 1.0; stroke-dasharray: 7.0,7.0;\"/><polygon fill=\"#383838\" points=\"300.67,193.75,291.7281,189.6218,295.6705,193.6786,291.6138,197.621,300.67,193.75\" style=\"stroke: #383838; stroke-width: 1.0;\"/><text fill=\"#000000\" font-family=\"sans-serif\" font-size=\"13\" lengthAdjust=\"spacingAndGlyphs\" textLength=\"65\" x=\"171\" y=\"188.0669\">«import»*</text></a><!--MD5=[feeac5eb423634930294aa81f2d25a4c]\n",
       "link E10 to E3--><a href=\"psysml:ff7299d7-bc25-43a3-abcf-daa45aa95a4b\" target=\"_top\" title=\"psysml:ff7299d7-bc25-43a3-abcf-daa45aa95a4b\" xlink:actuate=\"onRequest\" xlink:href=\"psysml:ff7299d7-bc25-43a3-abcf-daa45aa95a4b\" xlink:show=\"new\" xlink:title=\"psysml:ff7299d7-bc25-43a3-abcf-daa45aa95a4b\" xlink:type=\"simple\"><path d=\"M122.21,132.91 C188.01,132.62 397.64,131.69 497.76,131.24 \" fill=\"none\" id=\"E10-&gt;E3\" style=\"stroke: #383838; stroke-width: 1.0;\"/><polygon fill=\"#FFFFFF\" points=\"517.93,131.15,498.9602,138.2314,498.9002,124.2315,517.93,131.15\" style=\"stroke: #383838; stroke-width: 1.0;\"/><ellipse cx=\"493.2517\" cy=\"136.2558\" fill=\"#383838\" rx=\"2\" ry=\"2\" style=\"stroke: #383838; stroke-width: 1.0;\"/><ellipse cx=\"493.2088\" cy=\"126.2559\" fill=\"#383838\" rx=\"2\" ry=\"2\" style=\"stroke: #383838; stroke-width: 1.0;\"/></a><!--MD5=[5b95a1496c8e263e0a26df0f49a56e20]\n",
       "@startuml\r\n",
       "left to right direction\r\n",
       "skinparam monochrome true\r\n",
       "skinparam classbackgroundcolor white\r\n",
       "skinparam shadowing false\r\n",
       "skinparam wrapWidth 300\r\n",
       "hide circle\r\n",
       "\r\n",
       "package \"PrivateImportTest\" as E1  [[psysml:8f933ba8-0ed5-4db5-b82c-58b1e568922b ]]  {\r\n",
       "package \"P1\" as E2  [[psysml:dc5a646f-7a70-4bb5-8a84-dd766b7ca58f ]]  {\r\n",
       "comp def \"A\" as E3  <<(T,blue) part  def>> [[psysml:e52e2a8f-f908-40ce-88b1-6459229e6290 ]] {\r\n",
       "}\r\n",
       "}\r\n",
       "package \"P2\" as E4  [[psysml:b07c7c49-60b3-45d9-ab30-3f9ccb4621b1 ]]  {\r\n",
       "}\r\n",
       "comp usage \"x: A \" as E5  <<(T,blue) part>> [[psysml:ae255e73-333e-4dec-b11e-e996fbedcc54 ]] {\r\n",
       "}\r\n",
       "package \"P3\" as E6  [[psysml:61bbaf9b-44aa-4d19-b1af-9f0be63c5dc6 ]]  {\r\n",
       "comp def \"B\" as E7  <<(T,blue) part  def>> [[psysml:f5eaf228-c184-457d-ba82-3236315ba9d3 ]] {\r\n",
       "}\r\n",
       "}\r\n",
       "comp usage \"z: B \" as E8  <<(T,blue) part>> [[psysml:3c42eaa7-d0d8-4753-a2b8-0968c7baa502 ]] {\r\n",
       "}\r\n",
       "package \"P4\" as E9  [[psysml:826bc35a-2948-4f0f-ac57-a46abe90dd77 ]]  {\r\n",
       "comp usage \"z1: A \" as E10  <<(T,blue) part>> [[psysml:bd10993a-8e6e-4149-83fc-2dc02c68e6fc ]] {\r\n",
       "}\r\n",
       "}\r\n",
       "}\r\n",
       "E4 ..> E2 [[psysml:9c76a3dc-4160-42f2-8d03-f28cee99dd8d ]] : <<import>>*\r\n",
       "E5 - -:|> E3 [[psysml:7e781afb-bb69-45b4-99ca-abeca0fc5181 ]] \r\n",
       "E1 ..> E4 [[psysml:3abfa817-381d-4c68-8935-6fa98a0aa2e6 ]] : <<import>>*\r\n",
       "E1 ..> E6 [[psysml:38071c17-dcc7-47a2-931c-5199b5c10531 ]] : <<import>>*\r\n",
       "E8 - -:|> E7 [[psysml:84039e37-6732-4e81-a24d-af568a8fc4d2 ]] \r\n",
       "E9 ..> E4 [[psysml:f4a7c8b4-50d4-4d21-9428-75951a767795 ]] : <<import>>*\r\n",
       "E10 - -:|> E3 [[psysml:ff7299d7-bc25-43a3-abcf-daa45aa95a4b ]] \r\n",
       "@enduml\r\n",
       "\n",
       "PlantUML version 1.2020.13(Sat Jun 13 12:26:38 UTC 2020)\n",
       "(EPL source distribution)\n",
       "Java Runtime: OpenJDK Runtime Environment\n",
       "JVM: OpenJDK 64-Bit Server VM\n",
       "Default Encoding: UTF-8\n",
       "Language: en\n",
       "Country: null\n",
       "--></g></svg>"
      ]
     },
     "execution_count": 17,
     "metadata": {},
     "output_type": "execute_result"
    }
   ],
   "source": [
    "%viz --style=\"LR\" --view=\"Tree\" \"PrivateImportTest\""
   ]
  },
  {
   "cell_type": "code",
   "execution_count": 18,
   "id": "85e1b312",
   "metadata": {
    "execution": {
     "iopub.execute_input": "2022-08-19T08:19:17.120134Z",
     "iopub.status.busy": "2022-08-19T08:19:17.119468Z",
     "iopub.status.idle": "2022-08-19T08:19:17.124531Z",
     "shell.execute_reply": "2022-08-19T08:19:17.124975Z"
    }
   },
   "outputs": [
    {
     "data": {
      "image/svg+xml": [
       "<?xml version=\"1.0\" encoding=\"UTF-8\" standalone=\"no\"?><svg xmlns=\"http://www.w3.org/2000/svg\" xmlns:xlink=\"http://www.w3.org/1999/xlink\" contentScriptType=\"application/ecmascript\" contentStyleType=\"text/css\" height=\"12px\" preserveAspectRatio=\"none\" style=\"width:12px;height:12px;\" version=\"1.1\" viewBox=\"0 0 12 12\" width=\"12px\" zoomAndPan=\"magnify\"><defs/><g><!--MD5=[19d285c9d72a204eba4e2cd117d745e8]\n",
       "@startuml\r\n",
       "left to right direction\r\n",
       "skinparam monochrome true\r\n",
       "skinparam classbackgroundcolor white\r\n",
       "skinparam shadowing false\r\n",
       "skinparam wrapWidth 300\r\n",
       "hide circle\r\n",
       "\r\n",
       "@enduml\r\n",
       "\n",
       "PlantUML version 1.2020.13(Sat Jun 13 12:26:38 UTC 2020)\n",
       "(EPL source distribution)\n",
       "Java Runtime: OpenJDK Runtime Environment\n",
       "JVM: OpenJDK 64-Bit Server VM\n",
       "Default Encoding: UTF-8\n",
       "Language: en\n",
       "Country: null\n",
       "--></g></svg>"
      ]
     },
     "execution_count": 18,
     "metadata": {},
     "output_type": "execute_result"
    }
   ],
   "source": [
    "%viz --style=\"LR\" --view=\"State\" \"PrivateImportTest\""
   ]
  },
  {
   "cell_type": "code",
   "execution_count": 19,
   "id": "109a6312",
   "metadata": {
    "execution": {
     "iopub.execute_input": "2022-08-19T08:19:17.174352Z",
     "iopub.status.busy": "2022-08-19T08:19:17.174055Z",
     "iopub.status.idle": "2022-08-19T08:19:17.218423Z",
     "shell.execute_reply": "2022-08-19T08:19:17.217803Z"
    }
   },
   "outputs": [
    {
     "data": {
      "image/svg+xml": [
       "<?xml version=\"1.0\" encoding=\"UTF-8\" standalone=\"no\"?><svg xmlns=\"http://www.w3.org/2000/svg\" xmlns:xlink=\"http://www.w3.org/1999/xlink\" contentScriptType=\"application/ecmascript\" contentStyleType=\"text/css\" height=\"431px\" preserveAspectRatio=\"none\" style=\"width:692px;height:431px;\" version=\"1.1\" viewBox=\"0 0 692 431\" width=\"692px\" zoomAndPan=\"magnify\"><defs/><g><!--MD5=[fbc87193dbaf4d95561dea2c320d4a47]\n",
       "cluster E1--><a href=\"psysml:8f933ba8-0ed5-4db5-b82c-58b1e568922b\" target=\"_top\" title=\"psysml:8f933ba8-0ed5-4db5-b82c-58b1e568922b\" xlink:actuate=\"onRequest\" xlink:href=\"psysml:8f933ba8-0ed5-4db5-b82c-58b1e568922b\" xlink:show=\"new\" xlink:title=\"psysml:8f933ba8-0ed5-4db5-b82c-58b1e568922b\" xlink:type=\"simple\"><polygon fill=\"#FFFFFF\" points=\"16,6,143,6,150,28.2969,670,28.2969,670,417,16,417,16,6\" style=\"stroke: #000000; stroke-width: 1.5;\"/><line style=\"stroke: #000000; stroke-width: 1.5;\" x1=\"16\" x2=\"150\" y1=\"28.2969\" y2=\"28.2969\"/><text fill=\"#000000\" font-family=\"sans-serif\" font-size=\"14\" font-weight=\"bold\" lengthAdjust=\"spacingAndGlyphs\" textLength=\"121\" x=\"20\" y=\"20.9951\">PrivateImportTest</text></a><!--MD5=[e4f7fae6ed58524ba242bb0b0d3be6b7]\n",
       "cluster E2--><a href=\"psysml:dc5a646f-7a70-4bb5-8a84-dd766b7ca58f\" target=\"_top\" title=\"psysml:dc5a646f-7a70-4bb5-8a84-dd766b7ca58f\" xlink:actuate=\"onRequest\" xlink:href=\"psysml:dc5a646f-7a70-4bb5-8a84-dd766b7ca58f\" xlink:show=\"new\" xlink:title=\"psysml:dc5a646f-7a70-4bb5-8a84-dd766b7ca58f\" xlink:type=\"simple\"><polygon fill=\"#FFFFFF\" points=\"507,65,531,65,538,87.2969,630,87.2969,630,195,507,195,507,65\" style=\"stroke: #000000; stroke-width: 1.5;\"/><line style=\"stroke: #000000; stroke-width: 1.5;\" x1=\"507\" x2=\"538\" y1=\"87.2969\" y2=\"87.2969\"/><text fill=\"#000000\" font-family=\"sans-serif\" font-size=\"14\" font-weight=\"bold\" lengthAdjust=\"spacingAndGlyphs\" textLength=\"18\" x=\"511\" y=\"79.9951\">P1</text></a><!--MD5=[14e3b0961a2654348d326746436168a1]\n",
       "cluster E6--><a href=\"psysml:61bbaf9b-44aa-4d19-b1af-9f0be63c5dc6\" target=\"_top\" title=\"psysml:61bbaf9b-44aa-4d19-b1af-9f0be63c5dc6\" xlink:actuate=\"onRequest\" xlink:href=\"psysml:61bbaf9b-44aa-4d19-b1af-9f0be63c5dc6\" xlink:show=\"new\" xlink:title=\"psysml:61bbaf9b-44aa-4d19-b1af-9f0be63c5dc6\" xlink:type=\"simple\"><polygon fill=\"#FFFFFF\" points=\"269,239,293,239,300,261.2969,392,261.2969,392,369,269,369,269,239\" style=\"stroke: #000000; stroke-width: 1.5;\"/><line style=\"stroke: #000000; stroke-width: 1.5;\" x1=\"269\" x2=\"300\" y1=\"261.2969\" y2=\"261.2969\"/><text fill=\"#000000\" font-family=\"sans-serif\" font-size=\"14\" font-weight=\"bold\" lengthAdjust=\"spacingAndGlyphs\" textLength=\"18\" x=\"273\" y=\"253.9951\">P3</text></a><!--MD5=[7f149f147074ac12df2cb0a7728a5fb0]\n",
       "cluster E9--><a href=\"psysml:826bc35a-2948-4f0f-ac57-a46abe90dd77\" target=\"_top\" title=\"psysml:826bc35a-2948-4f0f-ac57-a46abe90dd77\" xlink:actuate=\"onRequest\" xlink:href=\"psysml:826bc35a-2948-4f0f-ac57-a46abe90dd77\" xlink:show=\"new\" xlink:title=\"psysml:826bc35a-2948-4f0f-ac57-a46abe90dd77\" xlink:type=\"simple\"><polygon fill=\"#FFFFFF\" points=\"56,67,80,67,87,89.2969,154,89.2969,154,193,56,193,56,67\" style=\"stroke: #000000; stroke-width: 1.5;\"/><line style=\"stroke: #000000; stroke-width: 1.5;\" x1=\"56\" x2=\"87\" y1=\"89.2969\" y2=\"89.2969\"/><text fill=\"#000000\" font-family=\"sans-serif\" font-size=\"14\" font-weight=\"bold\" lengthAdjust=\"spacingAndGlyphs\" textLength=\"18\" x=\"60\" y=\"81.9951\">P4</text></a><g id=\"E1.E2.E3\"><a href=\"psysml:e52e2a8f-f908-40ce-88b1-6459229e6290\" target=\"_top\" title=\"psysml:e52e2a8f-f908-40ce-88b1-6459229e6290\" xlink:actuate=\"onRequest\" xlink:href=\"psysml:e52e2a8f-f908-40ce-88b1-6459229e6290\" xlink:show=\"new\" xlink:title=\"psysml:e52e2a8f-f908-40ce-88b1-6459229e6290\" xlink:type=\"simple\"><rect fill=\"#FFFFFF\" height=\"42.9375\" id=\"E3\" style=\"stroke: #383838; stroke-width: 1.5;\" width=\"75\" x=\"531\" y=\"108.5\"/><rect fill=\"#F8F8F8\" height=\"37.9375\" style=\"stroke: #383838; stroke-width: 1.5;\" width=\"75\" x=\"531\" y=\"108.5\"/><text fill=\"#000000\" font-family=\"sans-serif\" font-size=\"12\" font-style=\"italic\" lengthAdjust=\"spacingAndGlyphs\" textLength=\"68\" x=\"534.5\" y=\"124.6387\">«part  def»</text><text fill=\"#000000\" font-family=\"sans-serif\" font-size=\"12\" lengthAdjust=\"spacingAndGlyphs\" textLength=\"8\" x=\"564.5\" y=\"138.6074\">A</text></a></g><a href=\"psysml:b07c7c49-60b3-45d9-ab30-3f9ccb4621b1\" target=\"_top\" title=\"psysml:b07c7c49-60b3-45d9-ab30-3f9ccb4621b1\" xlink:actuate=\"onRequest\" xlink:href=\"psysml:b07c7c49-60b3-45d9-ab30-3f9ccb4621b1\" xlink:show=\"new\" xlink:title=\"psysml:b07c7c49-60b3-45d9-ab30-3f9ccb4621b1\" xlink:type=\"simple\"><polygon fill=\"#FFFFFF\" points=\"311.5,161.5,335.5,161.5,342.5,183.7969,349.5,183.7969,349.5,214.0938,311.5,214.0938,311.5,161.5\" style=\"stroke: #000000; stroke-width: 1.5;\"/><line style=\"stroke: #000000; stroke-width: 1.5;\" x1=\"311.5\" x2=\"342.5\" y1=\"183.7969\" y2=\"183.7969\"/><text fill=\"#000000\" font-family=\"sans-serif\" font-size=\"14\" font-weight=\"bold\" lengthAdjust=\"spacingAndGlyphs\" textLength=\"18\" x=\"315.5\" y=\"176.4951\">P2</text></a><g id=\"E1.E5\"><a href=\"psysml:ae255e73-333e-4dec-b11e-e996fbedcc54\" target=\"_top\" title=\"psysml:ae255e73-333e-4dec-b11e-e996fbedcc54\" xlink:actuate=\"onRequest\" xlink:href=\"psysml:ae255e73-333e-4dec-b11e-e996fbedcc54\" xlink:show=\"new\" xlink:title=\"psysml:ae255e73-333e-4dec-b11e-e996fbedcc54\" xlink:type=\"simple\"><rect fill=\"#FFFFFF\" height=\"40\" id=\"E5\" rx=\"10\" ry=\"10\" style=\"stroke: #383838; stroke-width: 1.5;\" width=\"50\" x=\"305.5\" y=\"49\"/><rect fill=\"#F8F8F8\" height=\"23.9688\" rx=\"10\" ry=\"10\" style=\"stroke: #F8F8F8; stroke-width: 1.5;\" width=\"50\" x=\"305.5\" y=\"49\"/><rect fill=\"#F8F8F8\" height=\"10\" style=\"stroke: #F8F8F8; stroke-width: 1.5;\" width=\"50\" x=\"305.5\" y=\"62.9688\"/><rect fill=\"none\" height=\"40\" id=\"E5\" rx=\"10\" ry=\"10\" style=\"stroke: #383838; stroke-width: 1.5;\" width=\"50\" x=\"305.5\" y=\"49\"/><text fill=\"#000000\" font-family=\"sans-serif\" font-size=\"12\" lengthAdjust=\"spacingAndGlyphs\" textLength=\"22\" x=\"319.5\" y=\"65.1387\">x: A</text></a></g><g id=\"E1.E6.E7\"><a href=\"psysml:f5eaf228-c184-457d-ba82-3236315ba9d3\" target=\"_top\" title=\"psysml:f5eaf228-c184-457d-ba82-3236315ba9d3\" xlink:actuate=\"onRequest\" xlink:href=\"psysml:f5eaf228-c184-457d-ba82-3236315ba9d3\" xlink:show=\"new\" xlink:title=\"psysml:f5eaf228-c184-457d-ba82-3236315ba9d3\" xlink:type=\"simple\"><rect fill=\"#FFFFFF\" height=\"42.9375\" id=\"E7\" style=\"stroke: #383838; stroke-width: 1.5;\" width=\"75\" x=\"293\" y=\"282.5\"/><rect fill=\"#F8F8F8\" height=\"37.9375\" style=\"stroke: #383838; stroke-width: 1.5;\" width=\"75\" x=\"293\" y=\"282.5\"/><text fill=\"#000000\" font-family=\"sans-serif\" font-size=\"12\" font-style=\"italic\" lengthAdjust=\"spacingAndGlyphs\" textLength=\"68\" x=\"296.5\" y=\"298.6387\">«part  def»</text><text fill=\"#000000\" font-family=\"sans-serif\" font-size=\"12\" lengthAdjust=\"spacingAndGlyphs\" textLength=\"8\" x=\"326.5\" y=\"312.6074\">B</text></a></g><g id=\"E1.E8\"><a href=\"psysml:3c42eaa7-d0d8-4753-a2b8-0968c7baa502\" target=\"_top\" title=\"psysml:3c42eaa7-d0d8-4753-a2b8-0968c7baa502\" xlink:actuate=\"onRequest\" xlink:href=\"psysml:3c42eaa7-d0d8-4753-a2b8-0968c7baa502\" xlink:show=\"new\" xlink:title=\"psysml:3c42eaa7-d0d8-4753-a2b8-0968c7baa502\" xlink:type=\"simple\"><rect fill=\"#FFFFFF\" height=\"40\" id=\"E8\" rx=\"10\" ry=\"10\" style=\"stroke: #383838; stroke-width: 1.5;\" width=\"50\" x=\"80\" y=\"274\"/><rect fill=\"#F8F8F8\" height=\"23.9688\" rx=\"10\" ry=\"10\" style=\"stroke: #F8F8F8; stroke-width: 1.5;\" width=\"50\" x=\"80\" y=\"274\"/><rect fill=\"#F8F8F8\" height=\"10\" style=\"stroke: #F8F8F8; stroke-width: 1.5;\" width=\"50\" x=\"80\" y=\"287.9688\"/><rect fill=\"none\" height=\"40\" id=\"E8\" rx=\"10\" ry=\"10\" style=\"stroke: #383838; stroke-width: 1.5;\" width=\"50\" x=\"80\" y=\"274\"/><text fill=\"#000000\" font-family=\"sans-serif\" font-size=\"12\" lengthAdjust=\"spacingAndGlyphs\" textLength=\"21\" x=\"94.5\" y=\"290.1387\">z: B</text></a></g><g id=\"E1.E9.E10\"><a href=\"psysml:bd10993a-8e6e-4149-83fc-2dc02c68e6fc\" target=\"_top\" title=\"psysml:bd10993a-8e6e-4149-83fc-2dc02c68e6fc\" xlink:actuate=\"onRequest\" xlink:href=\"psysml:bd10993a-8e6e-4149-83fc-2dc02c68e6fc\" xlink:show=\"new\" xlink:title=\"psysml:bd10993a-8e6e-4149-83fc-2dc02c68e6fc\" xlink:type=\"simple\"><rect fill=\"#FFFFFF\" height=\"40\" id=\"E10\" rx=\"10\" ry=\"10\" style=\"stroke: #383838; stroke-width: 1.5;\" width=\"50\" x=\"80\" y=\"110\"/><rect fill=\"#F8F8F8\" height=\"23.9688\" rx=\"10\" ry=\"10\" style=\"stroke: #F8F8F8; stroke-width: 1.5;\" width=\"50\" x=\"80\" y=\"110\"/><rect fill=\"#F8F8F8\" height=\"10\" style=\"stroke: #F8F8F8; stroke-width: 1.5;\" width=\"50\" x=\"80\" y=\"123.9688\"/><rect fill=\"none\" height=\"40\" id=\"E10\" rx=\"10\" ry=\"10\" style=\"stroke: #383838; stroke-width: 1.5;\" width=\"50\" x=\"80\" y=\"110\"/><text fill=\"#000000\" font-family=\"sans-serif\" font-size=\"12\" lengthAdjust=\"spacingAndGlyphs\" textLength=\"29\" x=\"90.5\" y=\"126.1387\">z1: A</text></a></g><!--MD5=[185131fc0dcab0a4505a2ebe144e961b]\n",
       "link E4 to E2--><a href=\"psysml:9c76a3dc-4160-42f2-8d03-f28cee99dd8d\" target=\"_top\" title=\"psysml:9c76a3dc-4160-42f2-8d03-f28cee99dd8d\" xlink:actuate=\"onRequest\" xlink:href=\"psysml:9c76a3dc-4160-42f2-8d03-f28cee99dd8d\" xlink:show=\"new\" xlink:title=\"psysml:9c76a3dc-4160-42f2-8d03-f28cee99dd8d\" xlink:type=\"simple\"><path d=\"M349.63,187.92 C376.83,187.805 430.0325,187.58 477.0525,187.3813 C482.93,187.3564 488.7109,187.332 494.3323,187.3082 C497.1431,187.2963 499.9139,187.2846 502.637,187.2731 C503.9986,187.2674 505.3482,187.2617 506.685,187.256 \" fill=\"none\" id=\"E4-&gt;E2\" style=\"stroke: #383838; stroke-width: 1.0; stroke-dasharray: 7.0,7.0;\"/><polygon fill=\"#383838\" points=\"506.685,187.256,497.6681,183.2941,501.685,187.2771,497.7019,191.294,506.685,187.256\" style=\"stroke: #383838; stroke-width: 1.0;\"/><text fill=\"#000000\" font-family=\"sans-serif\" font-size=\"13\" lengthAdjust=\"spacingAndGlyphs\" textLength=\"65\" x=\"417\" y=\"184.0669\">«import»*</text></a><!--MD5=[e9be52314489bd878ff4c7144b63c9e1]\n",
       "link E5 to E3--><a href=\"psysml:7e781afb-bb69-45b4-99ca-abeca0fc5181\" target=\"_top\" title=\"psysml:7e781afb-bb69-45b4-99ca-abeca0fc5181\" xlink:actuate=\"onRequest\" xlink:href=\"psysml:7e781afb-bb69-45b4-99ca-abeca0fc5181\" xlink:show=\"new\" xlink:title=\"psysml:7e781afb-bb69-45b4-99ca-abeca0fc5181\" xlink:type=\"simple\"><path d=\"M355.87,75.3 C392.32,84.72 462.06,102.75 511.51,115.53 \" fill=\"none\" id=\"E5-&gt;E3\" style=\"stroke: #383838; stroke-width: 1.0;\"/><polygon fill=\"#FFFFFF\" points=\"530.97,120.56,510.8231,122.5858,514.3244,109.0307,530.97,120.56\" style=\"stroke: #383838; stroke-width: 1.0;\"/><ellipse cx=\"505.8045\" cy=\"119.2238\" fill=\"#383838\" rx=\"2\" ry=\"2\" style=\"stroke: #383838; stroke-width: 1.0;\"/><ellipse cx=\"508.3054\" cy=\"109.5416\" fill=\"#383838\" rx=\"2\" ry=\"2\" style=\"stroke: #383838; stroke-width: 1.0;\"/></a><!--MD5=[ee384bb554873b72f85793eae40e290c]\n",
       "link E1 to E4--><a href=\"psysml:3abfa817-381d-4c68-8935-6fa98a0aa2e6\" target=\"_top\" title=\"psysml:3abfa817-381d-4c68-8935-6fa98a0aa2e6\" xlink:actuate=\"onRequest\" xlink:href=\"psysml:3abfa817-381d-4c68-8935-6fa98a0aa2e6\" xlink:show=\"new\" xlink:title=\"psysml:3abfa817-381d-4c68-8935-6fa98a0aa2e6\" xlink:type=\"simple\"><path d=\"M106.12,409.03 C108.67,409.69 149.7,419.95 170,401 C183.57,388.33 170.21,376.85 178,360 C200.43,311.49 217.58,306.02 253,266 C270.62,246.1 291.87,224.61 307.5,209.24 \" fill=\"none\" id=\"E1-&gt;E4\" style=\"stroke: #383838; stroke-width: 1.0; stroke-dasharray: 7.0,7.0;\"/><polygon fill=\"#383838\" points=\"311.34,205.47,302.1124,208.9125,307.7689,208.9696,307.7118,214.6262,311.34,205.47\" style=\"stroke: #383838; stroke-width: 1.0;\"/><text fill=\"#000000\" font-family=\"sans-serif\" font-size=\"13\" lengthAdjust=\"spacingAndGlyphs\" textLength=\"65\" x=\"179\" y=\"271.0669\">«import»*</text></a><!--MD5=[ccbd3af71bf83df0ec2a2db62d6d7130]\n",
       "link E1 to E6--><a href=\"psysml:38071c17-dcc7-47a2-931c-5199b5c10531\" target=\"_top\" title=\"psysml:38071c17-dcc7-47a2-931c-5199b5c10531\" xlink:actuate=\"onRequest\" xlink:href=\"psysml:38071c17-dcc7-47a2-931c-5199b5c10531\" xlink:show=\"new\" xlink:title=\"psysml:38071c17-dcc7-47a2-931c-5199b5c10531\" xlink:type=\"simple\"><path d=\"M106.1,408.99 C108.23,408.83 142.7,406.11 170,401 C205.355,394.38 244.545,384.5875 275.2313,376.3488 C282.9028,374.2891 290.0429,372.3265 296.4587,370.5349 C298.0626,370.087 299.6213,369.6497 301.1317,369.2244 C301.3205,369.1712 301.5086,369.1182 301.6959,369.0654 \" fill=\"none\" id=\"E1-&gt;E6\" style=\"stroke: #383838; stroke-width: 1.0; stroke-dasharray: 7.0,7.0;\"/><polygon fill=\"#383838\" points=\"301.6959,369.0654,291.9481,367.6576,296.8835,370.4221,294.1189,375.3574,301.6959,369.0654\" style=\"stroke: #383838; stroke-width: 1.0;\"/><text fill=\"#000000\" font-family=\"sans-serif\" font-size=\"13\" lengthAdjust=\"spacingAndGlyphs\" textLength=\"65\" x=\"179\" y=\"381.0669\">«import»*</text></a><!--MD5=[bfa3c8b0d15052fdf50ae9310b491027]\n",
       "link E8 to E7--><a href=\"psysml:84039e37-6732-4e81-a24d-af568a8fc4d2\" target=\"_top\" title=\"psysml:84039e37-6732-4e81-a24d-af568a8fc4d2\" xlink:actuate=\"onRequest\" xlink:href=\"psysml:84039e37-6732-4e81-a24d-af568a8fc4d2\" xlink:show=\"new\" xlink:title=\"psysml:84039e37-6732-4e81-a24d-af568a8fc4d2\" xlink:type=\"simple\"><path d=\"M130.11,294.7 C157.84,295.54 204.72,297.08 245,299 C253.96,299.43 263.45,299.93 272.7,300.46 \" fill=\"none\" id=\"E8-&gt;E7\" style=\"stroke: #383838; stroke-width: 1.0;\"/><polygon fill=\"#FFFFFF\" points=\"292.91,301.65,273.5327,307.5255,274.3525,293.5495,292.91,301.65\" style=\"stroke: #383838; stroke-width: 1.0;\"/><ellipse cx=\"267.9596\" cy=\"305.1951\" fill=\"#383838\" rx=\"2\" ry=\"2\" style=\"stroke: #383838; stroke-width: 1.0;\"/><ellipse cx=\"268.5452\" cy=\"295.2123\" fill=\"#383838\" rx=\"2\" ry=\"2\" style=\"stroke: #383838; stroke-width: 1.0;\"/></a><!--MD5=[c2be97adba6ddfe1c8f349fab141c927]\n",
       "link E9 to E4--><a href=\"psysml:f4a7c8b4-50d4-4d21-9428-75951a767795\" target=\"_top\" title=\"psysml:f4a7c8b4-50d4-4d21-9428-75951a767795\" xlink:actuate=\"onRequest\" xlink:href=\"psysml:f4a7c8b4-50d4-4d21-9428-75951a767795\" xlink:show=\"new\" xlink:title=\"psysml:f4a7c8b4-50d4-4d21-9428-75951a767795\" xlink:type=\"simple\"><path d=\"M154.4103,185.6464 C154.6981,185.6503 154.9867,185.6542 155.2762,185.6581 C155.8551,185.6658 156.4373,185.6736 157.0227,185.6815 C166.3889,185.8073 176.5725,185.9441 187.1525,186.0863 C229.4725,186.655 278.135,187.31 306.2,187.69 \" fill=\"none\" id=\"E9-&gt;E4\" style=\"stroke: #383838; stroke-width: 1.0; stroke-dasharray: 7.0,7.0;\"/><polygon fill=\"#383838\" points=\"311.37,187.76,302.4163,183.6574,306.3703,187.7029,302.3249,191.6569,311.37,187.76\" style=\"stroke: #383838; stroke-width: 1.0;\"/><text fill=\"#000000\" font-family=\"sans-serif\" font-size=\"13\" lengthAdjust=\"spacingAndGlyphs\" textLength=\"65\" x=\"179\" y=\"182.0669\">«import»*</text></a><!--MD5=[feeac5eb423634930294aa81f2d25a4c]\n",
       "link E10 to E3--><a href=\"psysml:ff7299d7-bc25-43a3-abcf-daa45aa95a4b\" target=\"_top\" title=\"psysml:ff7299d7-bc25-43a3-abcf-daa45aa95a4b\" xlink:actuate=\"onRequest\" xlink:href=\"psysml:ff7299d7-bc25-43a3-abcf-daa45aa95a4b\" xlink:show=\"new\" xlink:title=\"psysml:ff7299d7-bc25-43a3-abcf-daa45aa95a4b\" xlink:type=\"simple\"><path d=\"M130.16,130 C200.91,130 408.98,130 510.49,130 \" fill=\"none\" id=\"E10-&gt;E3\" style=\"stroke: #383838; stroke-width: 1.0;\"/><polygon fill=\"#FFFFFF\" points=\"530.73,130,511.73,137,511.73,123,530.73,130\" style=\"stroke: #383838; stroke-width: 1.0;\"/><ellipse cx=\"506.03\" cy=\"135\" fill=\"#383838\" rx=\"2\" ry=\"2\" style=\"stroke: #383838; stroke-width: 1.0;\"/><ellipse cx=\"506.03\" cy=\"125\" fill=\"#383838\" rx=\"2\" ry=\"2\" style=\"stroke: #383838; stroke-width: 1.0;\"/></a><!--MD5=[c4ef3867e57196f91ce5ea5112954f3f]\n",
       "@startuml\r\n",
       "skinparam ranksep 10\r\n",
       "skinparam rectangle {\r\n",
       " backgroundColor<<block>> LightGreen\r\n",
       "}\r\n",
       "left to right direction\r\n",
       "skinparam monochrome true\r\n",
       "skinparam classbackgroundcolor white\r\n",
       "skinparam shadowing false\r\n",
       "skinparam wrapWidth 300\r\n",
       "hide circle\r\n",
       "\r\n",
       "package \"PrivateImportTest\" as E1  [[psysml:8f933ba8-0ed5-4db5-b82c-58b1e568922b ]]  {\r\n",
       "package \"P1\" as E2  [[psysml:dc5a646f-7a70-4bb5-8a84-dd766b7ca58f ]]  {\r\n",
       "rec def \"A\" as E3  <<(T,blue) part  def>> [[psysml:e52e2a8f-f908-40ce-88b1-6459229e6290 ]] {\r\n",
       "}\r\n",
       "}\r\n",
       "package \"P2\" as E4  [[psysml:b07c7c49-60b3-45d9-ab30-3f9ccb4621b1 ]]  {\r\n",
       "}\r\n",
       "rec usage \"x: A\" as E5  [[psysml:ae255e73-333e-4dec-b11e-e996fbedcc54 ]] {\r\n",
       "}\r\n",
       "package \"P3\" as E6  [[psysml:61bbaf9b-44aa-4d19-b1af-9f0be63c5dc6 ]]  {\r\n",
       "rec def \"B\" as E7  <<(T,blue) part  def>> [[psysml:f5eaf228-c184-457d-ba82-3236315ba9d3 ]] {\r\n",
       "}\r\n",
       "}\r\n",
       "rec usage \"z: B\" as E8  [[psysml:3c42eaa7-d0d8-4753-a2b8-0968c7baa502 ]] {\r\n",
       "}\r\n",
       "package \"P4\" as E9  [[psysml:826bc35a-2948-4f0f-ac57-a46abe90dd77 ]]  {\r\n",
       "rec usage \"z1: A\" as E10  [[psysml:bd10993a-8e6e-4149-83fc-2dc02c68e6fc ]] {\r\n",
       "}\r\n",
       "}\r\n",
       "}\r\n",
       "E4 ..> E2 [[psysml:9c76a3dc-4160-42f2-8d03-f28cee99dd8d ]] : <<import>>*\r\n",
       "E5 - -:|> E3 [[psysml:7e781afb-bb69-45b4-99ca-abeca0fc5181 ]] \r\n",
       "E1 ..> E4 [[psysml:3abfa817-381d-4c68-8935-6fa98a0aa2e6 ]] : <<import>>*\r\n",
       "E1 ..> E6 [[psysml:38071c17-dcc7-47a2-931c-5199b5c10531 ]] : <<import>>*\r\n",
       "E8 - -:|> E7 [[psysml:84039e37-6732-4e81-a24d-af568a8fc4d2 ]] \r\n",
       "E9 ..> E4 [[psysml:f4a7c8b4-50d4-4d21-9428-75951a767795 ]] : <<import>>*\r\n",
       "E10 - -:|> E3 [[psysml:ff7299d7-bc25-43a3-abcf-daa45aa95a4b ]] \r\n",
       "@enduml\r\n",
       "\n",
       "PlantUML version 1.2020.13(Sat Jun 13 12:26:38 UTC 2020)\n",
       "(EPL source distribution)\n",
       "Java Runtime: OpenJDK Runtime Environment\n",
       "JVM: OpenJDK 64-Bit Server VM\n",
       "Default Encoding: UTF-8\n",
       "Language: en\n",
       "Country: null\n",
       "--></g></svg>"
      ]
     },
     "execution_count": 19,
     "metadata": {},
     "output_type": "execute_result"
    }
   ],
   "source": [
    "%viz --style=\"LR\" --view=\"Interconnection\" \"PrivateImportTest\""
   ]
  },
  {
   "cell_type": "code",
   "execution_count": 20,
   "id": "07c388c8",
   "metadata": {
    "execution": {
     "iopub.execute_input": "2022-08-19T08:19:17.267939Z",
     "iopub.status.busy": "2022-08-19T08:19:17.267250Z",
     "iopub.status.idle": "2022-08-19T08:19:17.272798Z",
     "shell.execute_reply": "2022-08-19T08:19:17.272252Z"
    }
   },
   "outputs": [
    {
     "data": {
      "image/svg+xml": [
       "<?xml version=\"1.0\" encoding=\"UTF-8\" standalone=\"no\"?><svg xmlns=\"http://www.w3.org/2000/svg\" xmlns:xlink=\"http://www.w3.org/1999/xlink\" contentScriptType=\"application/ecmascript\" contentStyleType=\"text/css\" height=\"12px\" preserveAspectRatio=\"none\" style=\"width:12px;height:12px;\" version=\"1.1\" viewBox=\"0 0 12 12\" width=\"12px\" zoomAndPan=\"magnify\"><defs/><g><!--MD5=[7aeb398939421629f6affaa4a1a7b125]\n",
       "@startuml\r\n",
       "skinparam ranksep 8\r\n",
       "left to right direction\r\n",
       "skinparam monochrome true\r\n",
       "skinparam classbackgroundcolor white\r\n",
       "skinparam shadowing false\r\n",
       "skinparam wrapWidth 300\r\n",
       "hide circle\r\n",
       "\r\n",
       "@enduml\r\n",
       "\n",
       "PlantUML version 1.2020.13(Sat Jun 13 12:26:38 UTC 2020)\n",
       "(EPL source distribution)\n",
       "Java Runtime: OpenJDK Runtime Environment\n",
       "JVM: OpenJDK 64-Bit Server VM\n",
       "Default Encoding: UTF-8\n",
       "Language: en\n",
       "Country: null\n",
       "--></g></svg>"
      ]
     },
     "execution_count": 20,
     "metadata": {},
     "output_type": "execute_result"
    }
   ],
   "source": [
    "%viz --style=\"LR\" --view=\"Action\" \"PrivateImportTest\""
   ]
  },
  {
   "cell_type": "code",
   "execution_count": 21,
   "id": "5acd8843",
   "metadata": {
    "execution": {
     "iopub.execute_input": "2022-08-19T08:19:17.322230Z",
     "iopub.status.busy": "2022-08-19T08:19:17.321908Z",
     "iopub.status.idle": "2022-08-19T08:19:17.326888Z",
     "shell.execute_reply": "2022-08-19T08:19:17.327126Z"
    }
   },
   "outputs": [
    {
     "data": {
      "image/svg+xml": [
       "<?xml version=\"1.0\" encoding=\"UTF-8\" standalone=\"no\"?><svg xmlns=\"http://www.w3.org/2000/svg\" xmlns:xlink=\"http://www.w3.org/1999/xlink\" contentScriptType=\"application/ecmascript\" contentStyleType=\"text/css\" height=\"12px\" preserveAspectRatio=\"none\" style=\"width:12px;height:12px;\" version=\"1.1\" viewBox=\"0 0 12 12\" width=\"12px\" zoomAndPan=\"magnify\"><defs/><g><!--MD5=[238c11ea2002f03115ad6b49a457d50e]\n",
       "@startuml\r\n",
       "skinparam roundcorner 20\r\n",
       "skinparam BoxPadding 20\r\n",
       "skinparam SequenceBoxBackgroundColor #white\r\n",
       "skinparam style strictuml\r\n",
       "skinparam maxMessageSize 100\r\n",
       "left to right direction\r\n",
       "skinparam monochrome true\r\n",
       "skinparam classbackgroundcolor white\r\n",
       "skinparam shadowing false\r\n",
       "skinparam wrapWidth 300\r\n",
       "hide circle\r\n",
       "\r\n",
       "@enduml\r\n",
       "\n",
       "PlantUML version 1.2020.13(Sat Jun 13 12:26:38 UTC 2020)\n",
       "(EPL source distribution)\n",
       "Java Runtime: OpenJDK Runtime Environment\n",
       "JVM: OpenJDK 64-Bit Server VM\n",
       "Default Encoding: UTF-8\n",
       "Language: en\n",
       "Country: null\n",
       "--></g></svg>"
      ]
     },
     "execution_count": 21,
     "metadata": {},
     "output_type": "execute_result"
    }
   ],
   "source": [
    "%viz --style=\"LR\" --view=\"Sequence\" \"PrivateImportTest\""
   ]
  },
  {
   "cell_type": "code",
   "execution_count": 22,
   "id": "8e7f0f58",
   "metadata": {
    "execution": {
     "iopub.execute_input": "2022-08-19T08:19:17.377144Z",
     "iopub.status.busy": "2022-08-19T08:19:17.376856Z",
     "iopub.status.idle": "2022-08-19T08:19:17.418746Z",
     "shell.execute_reply": "2022-08-19T08:19:17.417252Z"
    }
   },
   "outputs": [
    {
     "data": {
      "image/svg+xml": [
       "<?xml version=\"1.0\" encoding=\"UTF-8\" standalone=\"no\"?><svg xmlns=\"http://www.w3.org/2000/svg\" xmlns:xlink=\"http://www.w3.org/1999/xlink\" contentScriptType=\"application/ecmascript\" contentStyleType=\"text/css\" height=\"438px\" preserveAspectRatio=\"none\" style=\"width:674px;height:438px;\" version=\"1.1\" viewBox=\"0 0 674 438\" width=\"674px\" zoomAndPan=\"magnify\"><defs/><g><!--MD5=[fbc87193dbaf4d95561dea2c320d4a47]\n",
       "cluster E1--><a href=\"psysml:8f933ba8-0ed5-4db5-b82c-58b1e568922b\" target=\"_top\" title=\"psysml:8f933ba8-0ed5-4db5-b82c-58b1e568922b\" xlink:actuate=\"onRequest\" xlink:href=\"psysml:8f933ba8-0ed5-4db5-b82c-58b1e568922b\" xlink:show=\"new\" xlink:title=\"psysml:8f933ba8-0ed5-4db5-b82c-58b1e568922b\" xlink:type=\"simple\"><polygon fill=\"#FFFFFF\" points=\"16,6,143,6,150,28.2969,652,28.2969,652,425,16,425,16,6\" style=\"stroke: #000000; stroke-width: 1.5;\"/><line style=\"stroke: #000000; stroke-width: 1.5;\" x1=\"16\" x2=\"150\" y1=\"28.2969\" y2=\"28.2969\"/><text fill=\"#000000\" font-family=\"sans-serif\" font-size=\"14\" font-weight=\"bold\" lengthAdjust=\"spacingAndGlyphs\" textLength=\"121\" x=\"20\" y=\"20.9951\">PrivateImportTest</text></a><!--MD5=[e4f7fae6ed58524ba242bb0b0d3be6b7]\n",
       "cluster E2--><a href=\"psysml:dc5a646f-7a70-4bb5-8a84-dd766b7ca58f\" target=\"_top\" title=\"psysml:dc5a646f-7a70-4bb5-8a84-dd766b7ca58f\" xlink:actuate=\"onRequest\" xlink:href=\"psysml:dc5a646f-7a70-4bb5-8a84-dd766b7ca58f\" xlink:show=\"new\" xlink:title=\"psysml:dc5a646f-7a70-4bb5-8a84-dd766b7ca58f\" xlink:type=\"simple\"><polygon fill=\"#FFFFFF\" points=\"494,65,518,65,525,87.2969,612,87.2969,612,197,494,197,494,65\" style=\"stroke: #000000; stroke-width: 1.5;\"/><line style=\"stroke: #000000; stroke-width: 1.5;\" x1=\"494\" x2=\"525\" y1=\"87.2969\" y2=\"87.2969\"/><text fill=\"#000000\" font-family=\"sans-serif\" font-size=\"14\" font-weight=\"bold\" lengthAdjust=\"spacingAndGlyphs\" textLength=\"18\" x=\"498\" y=\"79.9951\">P1</text></a><!--MD5=[14e3b0961a2654348d326746436168a1]\n",
       "cluster E6--><a href=\"psysml:61bbaf9b-44aa-4d19-b1af-9f0be63c5dc6\" target=\"_top\" title=\"psysml:61bbaf9b-44aa-4d19-b1af-9f0be63c5dc6\" xlink:actuate=\"onRequest\" xlink:href=\"psysml:61bbaf9b-44aa-4d19-b1af-9f0be63c5dc6\" xlink:show=\"new\" xlink:title=\"psysml:61bbaf9b-44aa-4d19-b1af-9f0be63c5dc6\" xlink:type=\"simple\"><polygon fill=\"#FFFFFF\" points=\"261,245,285,245,292,267.2969,379,267.2969,379,377,261,377,261,245\" style=\"stroke: #000000; stroke-width: 1.5;\"/><line style=\"stroke: #000000; stroke-width: 1.5;\" x1=\"261\" x2=\"292\" y1=\"267.2969\" y2=\"267.2969\"/><text fill=\"#000000\" font-family=\"sans-serif\" font-size=\"14\" font-weight=\"bold\" lengthAdjust=\"spacingAndGlyphs\" textLength=\"18\" x=\"265\" y=\"259.9951\">P3</text></a><!--MD5=[7f149f147074ac12df2cb0a7728a5fb0]\n",
       "cluster E9--><a href=\"psysml:826bc35a-2948-4f0f-ac57-a46abe90dd77\" target=\"_top\" title=\"psysml:826bc35a-2948-4f0f-ac57-a46abe90dd77\" xlink:actuate=\"onRequest\" xlink:href=\"psysml:826bc35a-2948-4f0f-ac57-a46abe90dd77\" xlink:show=\"new\" xlink:title=\"psysml:826bc35a-2948-4f0f-ac57-a46abe90dd77\" xlink:type=\"simple\"><polygon fill=\"#FFFFFF\" points=\"56,67,80,67,87,89.2969,146,89.2969,146,199,56,199,56,67\" style=\"stroke: #000000; stroke-width: 1.5;\"/><line style=\"stroke: #000000; stroke-width: 1.5;\" x1=\"56\" x2=\"87\" y1=\"89.2969\" y2=\"89.2969\"/><text fill=\"#000000\" font-family=\"sans-serif\" font-size=\"14\" font-weight=\"bold\" lengthAdjust=\"spacingAndGlyphs\" textLength=\"18\" x=\"60\" y=\"81.9951\">P4</text></a><!--MD5=[270fce915f116d4de14055a7c1d9a0f3]\n",
       "class E5--><a href=\"psysml:ae255e73-333e-4dec-b11e-e996fbedcc54\" target=\"_top\" title=\"psysml:ae255e73-333e-4dec-b11e-e996fbedcc54\" xlink:actuate=\"onRequest\" xlink:href=\"psysml:ae255e73-333e-4dec-b11e-e996fbedcc54\" xlink:show=\"new\" xlink:title=\"psysml:ae255e73-333e-4dec-b11e-e996fbedcc54\" xlink:type=\"simple\"><rect fill=\"#FFFFFF\" height=\"45.9375\" id=\"E5\" rx=\"10\" ry=\"10\" style=\"stroke: #383838; stroke-width: 1.5;\" width=\"42\" x=\"299\" y=\"49\"/><text fill=\"#000000\" font-family=\"sans-serif\" font-size=\"12\" font-style=\"italic\" lengthAdjust=\"spacingAndGlyphs\" textLength=\"40\" x=\"300\" y=\"65.1387\">«part»</text><text fill=\"#000000\" font-family=\"sans-serif\" font-size=\"12\" lengthAdjust=\"spacingAndGlyphs\" textLength=\"22\" x=\"307\" y=\"79.1074\">x: A</text><line style=\"stroke: #383838; stroke-width: 1.5;\" x1=\"300\" x2=\"340\" y1=\"86.9375\" y2=\"86.9375\"/></a><!--MD5=[b9389687b975829384b498ac4b7476b2]\n",
       "class E8--><a href=\"psysml:3c42eaa7-d0d8-4753-a2b8-0968c7baa502\" target=\"_top\" title=\"psysml:3c42eaa7-d0d8-4753-a2b8-0968c7baa502\" xlink:actuate=\"onRequest\" xlink:href=\"psysml:3c42eaa7-d0d8-4753-a2b8-0968c7baa502\" xlink:show=\"new\" xlink:title=\"psysml:3c42eaa7-d0d8-4753-a2b8-0968c7baa502\" xlink:type=\"simple\"><rect fill=\"#FFFFFF\" height=\"45.9375\" id=\"E8\" rx=\"10\" ry=\"10\" style=\"stroke: #383838; stroke-width: 1.5;\" width=\"42\" x=\"80\" y=\"279\"/><text fill=\"#000000\" font-family=\"sans-serif\" font-size=\"12\" font-style=\"italic\" lengthAdjust=\"spacingAndGlyphs\" textLength=\"40\" x=\"81\" y=\"295.1387\">«part»</text><text fill=\"#000000\" font-family=\"sans-serif\" font-size=\"12\" lengthAdjust=\"spacingAndGlyphs\" textLength=\"21\" x=\"88.5\" y=\"309.1074\">z: B</text><line style=\"stroke: #383838; stroke-width: 1.5;\" x1=\"81\" x2=\"121\" y1=\"316.9375\" y2=\"316.9375\"/></a><!--MD5=[09b614a08d8cba4a07c9adeb5e0fee81]\n",
       "class E3--><a href=\"psysml:e52e2a8f-f908-40ce-88b1-6459229e6290\" target=\"_top\" title=\"psysml:e52e2a8f-f908-40ce-88b1-6459229e6290\" xlink:actuate=\"onRequest\" xlink:href=\"psysml:e52e2a8f-f908-40ce-88b1-6459229e6290\" xlink:show=\"new\" xlink:title=\"psysml:e52e2a8f-f908-40ce-88b1-6459229e6290\" xlink:type=\"simple\"><rect fill=\"#FFFFFF\" height=\"45.9375\" id=\"E3\" style=\"stroke: #383838; stroke-width: 1.5;\" width=\"70\" x=\"518\" y=\"108\"/><text fill=\"#000000\" font-family=\"sans-serif\" font-size=\"12\" font-style=\"italic\" lengthAdjust=\"spacingAndGlyphs\" textLength=\"68\" x=\"519\" y=\"124.1387\">«part  def»</text><text fill=\"#000000\" font-family=\"sans-serif\" font-size=\"12\" lengthAdjust=\"spacingAndGlyphs\" textLength=\"8\" x=\"549\" y=\"138.1074\">A</text><line style=\"stroke: #383838; stroke-width: 1.5;\" x1=\"519\" x2=\"587\" y1=\"145.9375\" y2=\"145.9375\"/></a><a href=\"psysml:b07c7c49-60b3-45d9-ab30-3f9ccb4621b1\" target=\"_top\" title=\"psysml:b07c7c49-60b3-45d9-ab30-3f9ccb4621b1\" xlink:actuate=\"onRequest\" xlink:href=\"psysml:b07c7c49-60b3-45d9-ab30-3f9ccb4621b1\" xlink:show=\"new\" xlink:title=\"psysml:b07c7c49-60b3-45d9-ab30-3f9ccb4621b1\" xlink:type=\"simple\"><polygon fill=\"#FFFFFF\" points=\"301,167.5,325,167.5,332,189.7969,339,189.7969,339,220.0938,301,220.0938,301,167.5\" style=\"stroke: #000000; stroke-width: 1.5;\"/><line style=\"stroke: #000000; stroke-width: 1.5;\" x1=\"301\" x2=\"332\" y1=\"189.7969\" y2=\"189.7969\"/><text fill=\"#000000\" font-family=\"sans-serif\" font-size=\"14\" font-weight=\"bold\" lengthAdjust=\"spacingAndGlyphs\" textLength=\"18\" x=\"305\" y=\"182.4951\">P2</text></a><!--MD5=[2156ba9850f5573cc1fc38a6a4b2f02b]\n",
       "class E7--><a href=\"psysml:f5eaf228-c184-457d-ba82-3236315ba9d3\" target=\"_top\" title=\"psysml:f5eaf228-c184-457d-ba82-3236315ba9d3\" xlink:actuate=\"onRequest\" xlink:href=\"psysml:f5eaf228-c184-457d-ba82-3236315ba9d3\" xlink:show=\"new\" xlink:title=\"psysml:f5eaf228-c184-457d-ba82-3236315ba9d3\" xlink:type=\"simple\"><rect fill=\"#FFFFFF\" height=\"45.9375\" id=\"E7\" style=\"stroke: #383838; stroke-width: 1.5;\" width=\"70\" x=\"285\" y=\"288\"/><text fill=\"#000000\" font-family=\"sans-serif\" font-size=\"12\" font-style=\"italic\" lengthAdjust=\"spacingAndGlyphs\" textLength=\"68\" x=\"286\" y=\"304.1387\">«part  def»</text><text fill=\"#000000\" font-family=\"sans-serif\" font-size=\"12\" lengthAdjust=\"spacingAndGlyphs\" textLength=\"8\" x=\"316\" y=\"318.1074\">B</text><line style=\"stroke: #383838; stroke-width: 1.5;\" x1=\"286\" x2=\"354\" y1=\"325.9375\" y2=\"325.9375\"/></a><!--MD5=[96f4274e9e20536e775497830990834d]\n",
       "class E10--><a href=\"psysml:bd10993a-8e6e-4149-83fc-2dc02c68e6fc\" target=\"_top\" title=\"psysml:bd10993a-8e6e-4149-83fc-2dc02c68e6fc\" xlink:actuate=\"onRequest\" xlink:href=\"psysml:bd10993a-8e6e-4149-83fc-2dc02c68e6fc\" xlink:show=\"new\" xlink:title=\"psysml:bd10993a-8e6e-4149-83fc-2dc02c68e6fc\" xlink:type=\"simple\"><rect fill=\"#FFFFFF\" height=\"45.9375\" id=\"E10\" rx=\"10\" ry=\"10\" style=\"stroke: #383838; stroke-width: 1.5;\" width=\"42\" x=\"80\" y=\"110\"/><text fill=\"#000000\" font-family=\"sans-serif\" font-size=\"12\" font-style=\"italic\" lengthAdjust=\"spacingAndGlyphs\" textLength=\"40\" x=\"81\" y=\"126.1387\">«part»</text><text fill=\"#000000\" font-family=\"sans-serif\" font-size=\"12\" lengthAdjust=\"spacingAndGlyphs\" textLength=\"29\" x=\"84.5\" y=\"140.1074\">z1: A</text><line style=\"stroke: #383838; stroke-width: 1.5;\" x1=\"81\" x2=\"121\" y1=\"147.9375\" y2=\"147.9375\"/></a><!--MD5=[185131fc0dcab0a4505a2ebe144e961b]\n",
       "link E4 to E2--><a href=\"psysml:9c76a3dc-4160-42f2-8d03-f28cee99dd8d\" target=\"_top\" title=\"psysml:9c76a3dc-4160-42f2-8d03-f28cee99dd8d\" xlink:actuate=\"onRequest\" xlink:href=\"psysml:9c76a3dc-4160-42f2-8d03-f28cee99dd8d\" xlink:show=\"new\" xlink:title=\"psysml:9c76a3dc-4160-42f2-8d03-f28cee99dd8d\" xlink:type=\"simple\"><path d=\"M339.13,193.61 C365.93,193.03 417.915,191.905 463.8013,190.9113 C469.537,190.787 475.1775,190.6649 480.6616,190.5461 C483.4037,190.4867 486.1066,190.4281 488.7628,190.3706 C490.0909,190.3418 491.4074,190.3133 492.7111,190.285 C493.0371,190.278 493.3622,190.2709 493.6866,190.2639 \" fill=\"none\" id=\"E4-&gt;E2\" style=\"stroke: #383838; stroke-width: 1.0; stroke-dasharray: 7.0,7.0;\"/><polygon fill=\"#383838\" points=\"493.6866,190.2639,484.602,186.4598,488.6878,190.3722,484.7753,194.4579,493.6866,190.2639\" style=\"stroke: #383838; stroke-width: 1.0;\"/><text fill=\"#000000\" font-family=\"sans-serif\" font-size=\"13\" lengthAdjust=\"spacingAndGlyphs\" textLength=\"65\" x=\"404\" y=\"187.0669\">«import»*</text></a><!--MD5=[e9be52314489bd878ff4c7144b63c9e1]\n",
       "link E5 to E3--><a href=\"psysml:7e781afb-bb69-45b4-99ca-abeca0fc5181\" target=\"_top\" title=\"psysml:7e781afb-bb69-45b4-99ca-abeca0fc5181\" xlink:actuate=\"onRequest\" xlink:href=\"psysml:7e781afb-bb69-45b4-99ca-abeca0fc5181\" xlink:show=\"new\" xlink:title=\"psysml:7e781afb-bb69-45b4-99ca-abeca0fc5181\" xlink:type=\"simple\"><path d=\"M341.1,77.13 C375.75,85.98 447.85,104.4 498.05,117.22 \" fill=\"none\" id=\"E5-&gt;E3\" style=\"stroke: #383838; stroke-width: 1.0;\"/><polygon fill=\"#FFFFFF\" points=\"517.72,122.24,497.5781,124.3147,501.0465,110.7512,517.72,122.24\" style=\"stroke: #383838; stroke-width: 1.0;\"/><ellipse cx=\"492.5513\" cy=\"120.965\" fill=\"#383838\" rx=\"2\" ry=\"2\" style=\"stroke: #383838; stroke-width: 1.0;\"/><ellipse cx=\"495.0287\" cy=\"111.2767\" fill=\"#383838\" rx=\"2\" ry=\"2\" style=\"stroke: #383838; stroke-width: 1.0;\"/></a><!--MD5=[ee384bb554873b72f85793eae40e290c]\n",
       "link E1 to E4--><a href=\"psysml:3abfa817-381d-4c68-8935-6fa98a0aa2e6\" target=\"_top\" title=\"psysml:3abfa817-381d-4c68-8935-6fa98a0aa2e6\" xlink:actuate=\"onRequest\" xlink:href=\"psysml:3abfa817-381d-4c68-8935-6fa98a0aa2e6\" xlink:show=\"new\" xlink:title=\"psysml:3abfa817-381d-4c68-8935-6fa98a0aa2e6\" xlink:type=\"simple\"><path d=\"M102.12,417.03 C104.51,417.62 143.03,426.87 162,409 C175.52,396.27 162.3,384.89 170,368 C192.47,318.74 209.66,313.02 245,272 C261.85,252.44 282.09,231.26 297.14,215.91 \" fill=\"none\" id=\"E1-&gt;E4\" style=\"stroke: #383838; stroke-width: 1.0; stroke-dasharray: 7.0,7.0;\"/><polygon fill=\"#383838\" points=\"300.84,212.13,291.6764,215.7395,297.3331,215.6939,297.3787,221.3506,300.84,212.13\" style=\"stroke: #383838; stroke-width: 1.0;\"/><text fill=\"#000000\" font-family=\"sans-serif\" font-size=\"13\" lengthAdjust=\"spacingAndGlyphs\" textLength=\"65\" x=\"171\" y=\"278.0669\">«import»*</text></a><!--MD5=[ccbd3af71bf83df0ec2a2db62d6d7130]\n",
       "link E1 to E6--><a href=\"psysml:38071c17-dcc7-47a2-931c-5199b5c10531\" target=\"_top\" title=\"psysml:38071c17-dcc7-47a2-931c-5199b5c10531\" xlink:actuate=\"onRequest\" xlink:href=\"psysml:38071c17-dcc7-47a2-931c-5199b5c10531\" xlink:show=\"new\" xlink:title=\"psysml:38071c17-dcc7-47a2-931c-5199b5c10531\" xlink:type=\"simple\"><path d=\"M102.1,416.99 C104.09,416.82 136.41,413.95 162,409 C196.795,402.27 235.3725,392.475 265.58,384.2625 C273.1319,382.2094 280.1606,380.2552 286.4764,378.4725 C288.0553,378.0268 289.5897,377.5918 291.0765,377.1687 C291.2624,377.1158 291.4475,377.0631 291.6319,377.0106 \" fill=\"none\" id=\"E1-&gt;E6\" style=\"stroke: #383838; stroke-width: 1.0; stroke-dasharray: 7.0,7.0;\"/><polygon fill=\"#383838\" points=\"291.6319,377.0106,281.8804,375.6292,286.8231,378.3804,284.0719,383.3231,291.6319,377.0106\" style=\"stroke: #383838; stroke-width: 1.0;\"/><text fill=\"#000000\" font-family=\"sans-serif\" font-size=\"13\" lengthAdjust=\"spacingAndGlyphs\" textLength=\"65\" x=\"171\" y=\"389.0669\">«import»*</text></a><!--MD5=[bfa3c8b0d15052fdf50ae9310b491027]\n",
       "link E8 to E7--><a href=\"psysml:84039e37-6732-4e81-a24d-af568a8fc4d2\" target=\"_top\" title=\"psysml:84039e37-6732-4e81-a24d-af568a8fc4d2\" xlink:actuate=\"onRequest\" xlink:href=\"psysml:84039e37-6732-4e81-a24d-af568a8fc4d2\" xlink:show=\"new\" xlink:title=\"psysml:84039e37-6732-4e81-a24d-af568a8fc4d2\" xlink:type=\"simple\"><path d=\"M122.13,302.67 C148.51,303.57 196.23,305.25 237,307 C245.93,307.38 255.41,307.82 264.63,308.26 \" fill=\"none\" id=\"E8-&gt;E7\" style=\"stroke: #383838; stroke-width: 1.0;\"/><polygon fill=\"#FFFFFF\" points=\"284.69,309.24,265.3724,315.3086,266.0525,301.3252,284.69,309.24\" style=\"stroke: #383838; stroke-width: 1.0;\"/><ellipse cx=\"259.7763\" cy=\"313.0341\" fill=\"#383838\" rx=\"2\" ry=\"2\" style=\"stroke: #383838; stroke-width: 1.0;\"/><ellipse cx=\"260.2621\" cy=\"303.0459\" fill=\"#383838\" rx=\"2\" ry=\"2\" style=\"stroke: #383838; stroke-width: 1.0;\"/></a><!--MD5=[c2be97adba6ddfe1c8f349fab141c927]\n",
       "link E9 to E4--><a href=\"psysml:f4a7c8b4-50d4-4d21-9428-75951a767795\" target=\"_top\" title=\"psysml:f4a7c8b4-50d4-4d21-9428-75951a767795\" xlink:actuate=\"onRequest\" xlink:href=\"psysml:f4a7c8b4-50d4-4d21-9428-75951a767795\" xlink:show=\"new\" xlink:title=\"psysml:f4a7c8b4-50d4-4d21-9428-75951a767795\" xlink:type=\"simple\"><path d=\"M146.1613,191.6091 C146.7061,191.6167 147.2543,191.6243 147.8058,191.6319 C148.9087,191.6472 150.0248,191.6627 151.1532,191.6783 C160.1809,191.8035 170.0003,191.9397 180.2088,192.0813 C221.0425,192.6475 268.1,193.3 295.6,193.68 \" fill=\"none\" id=\"E9-&gt;E4\" style=\"stroke: #383838; stroke-width: 1.0; stroke-dasharray: 7.0,7.0;\"/><polygon fill=\"#383838\" points=\"300.67,193.75,291.7281,189.6218,295.6705,193.6786,291.6138,197.621,300.67,193.75\" style=\"stroke: #383838; stroke-width: 1.0;\"/><text fill=\"#000000\" font-family=\"sans-serif\" font-size=\"13\" lengthAdjust=\"spacingAndGlyphs\" textLength=\"65\" x=\"171\" y=\"188.0669\">«import»*</text></a><!--MD5=[feeac5eb423634930294aa81f2d25a4c]\n",
       "link E10 to E3--><a href=\"psysml:ff7299d7-bc25-43a3-abcf-daa45aa95a4b\" target=\"_top\" title=\"psysml:ff7299d7-bc25-43a3-abcf-daa45aa95a4b\" xlink:actuate=\"onRequest\" xlink:href=\"psysml:ff7299d7-bc25-43a3-abcf-daa45aa95a4b\" xlink:show=\"new\" xlink:title=\"psysml:ff7299d7-bc25-43a3-abcf-daa45aa95a4b\" xlink:type=\"simple\"><path d=\"M122.21,132.91 C188.01,132.62 397.64,131.69 497.76,131.24 \" fill=\"none\" id=\"E10-&gt;E3\" style=\"stroke: #383838; stroke-width: 1.0;\"/><polygon fill=\"#FFFFFF\" points=\"517.93,131.15,498.9602,138.2314,498.9002,124.2315,517.93,131.15\" style=\"stroke: #383838; stroke-width: 1.0;\"/><ellipse cx=\"493.2517\" cy=\"136.2558\" fill=\"#383838\" rx=\"2\" ry=\"2\" style=\"stroke: #383838; stroke-width: 1.0;\"/><ellipse cx=\"493.2088\" cy=\"126.2559\" fill=\"#383838\" rx=\"2\" ry=\"2\" style=\"stroke: #383838; stroke-width: 1.0;\"/></a><!--MD5=[5b95a1496c8e263e0a26df0f49a56e20]\n",
       "@startuml\r\n",
       "left to right direction\r\n",
       "skinparam monochrome true\r\n",
       "skinparam classbackgroundcolor white\r\n",
       "skinparam shadowing false\r\n",
       "skinparam wrapWidth 300\r\n",
       "hide circle\r\n",
       "\r\n",
       "package \"PrivateImportTest\" as E1  [[psysml:8f933ba8-0ed5-4db5-b82c-58b1e568922b ]]  {\r\n",
       "package \"P1\" as E2  [[psysml:dc5a646f-7a70-4bb5-8a84-dd766b7ca58f ]]  {\r\n",
       "comp def \"A\" as E3  <<(T,blue) part  def>> [[psysml:e52e2a8f-f908-40ce-88b1-6459229e6290 ]] {\r\n",
       "}\r\n",
       "}\r\n",
       "package \"P2\" as E4  [[psysml:b07c7c49-60b3-45d9-ab30-3f9ccb4621b1 ]]  {\r\n",
       "}\r\n",
       "comp usage \"x: A \" as E5  <<(T,blue) part>> [[psysml:ae255e73-333e-4dec-b11e-e996fbedcc54 ]] {\r\n",
       "}\r\n",
       "package \"P3\" as E6  [[psysml:61bbaf9b-44aa-4d19-b1af-9f0be63c5dc6 ]]  {\r\n",
       "comp def \"B\" as E7  <<(T,blue) part  def>> [[psysml:f5eaf228-c184-457d-ba82-3236315ba9d3 ]] {\r\n",
       "}\r\n",
       "}\r\n",
       "comp usage \"z: B \" as E8  <<(T,blue) part>> [[psysml:3c42eaa7-d0d8-4753-a2b8-0968c7baa502 ]] {\r\n",
       "}\r\n",
       "package \"P4\" as E9  [[psysml:826bc35a-2948-4f0f-ac57-a46abe90dd77 ]]  {\r\n",
       "comp usage \"z1: A \" as E10  <<(T,blue) part>> [[psysml:bd10993a-8e6e-4149-83fc-2dc02c68e6fc ]] {\r\n",
       "}\r\n",
       "}\r\n",
       "}\r\n",
       "E4 ..> E2 [[psysml:9c76a3dc-4160-42f2-8d03-f28cee99dd8d ]] : <<import>>*\r\n",
       "E5 - -:|> E3 [[psysml:7e781afb-bb69-45b4-99ca-abeca0fc5181 ]] \r\n",
       "E1 ..> E4 [[psysml:3abfa817-381d-4c68-8935-6fa98a0aa2e6 ]] : <<import>>*\r\n",
       "E1 ..> E6 [[psysml:38071c17-dcc7-47a2-931c-5199b5c10531 ]] : <<import>>*\r\n",
       "E8 - -:|> E7 [[psysml:84039e37-6732-4e81-a24d-af568a8fc4d2 ]] \r\n",
       "E9 ..> E4 [[psysml:f4a7c8b4-50d4-4d21-9428-75951a767795 ]] : <<import>>*\r\n",
       "E10 - -:|> E3 [[psysml:ff7299d7-bc25-43a3-abcf-daa45aa95a4b ]] \r\n",
       "@enduml\r\n",
       "\n",
       "PlantUML version 1.2020.13(Sat Jun 13 12:26:38 UTC 2020)\n",
       "(EPL source distribution)\n",
       "Java Runtime: OpenJDK Runtime Environment\n",
       "JVM: OpenJDK 64-Bit Server VM\n",
       "Default Encoding: UTF-8\n",
       "Language: en\n",
       "Country: null\n",
       "--></g></svg>"
      ]
     },
     "execution_count": 22,
     "metadata": {},
     "output_type": "execute_result"
    }
   ],
   "source": [
    "%viz --style=\"LR\" --view=\"MIXED\" \"PrivateImportTest\""
   ]
  },
  {
   "cell_type": "code",
   "execution_count": 23,
   "id": "bc3ac78b",
   "metadata": {
    "execution": {
     "iopub.execute_input": "2022-08-19T08:19:17.468227Z",
     "iopub.status.busy": "2022-08-19T08:19:17.467772Z",
     "iopub.status.idle": "2022-08-19T08:19:17.502147Z",
     "shell.execute_reply": "2022-08-19T08:19:17.500534Z"
    }
   },
   "outputs": [
    {
     "data": {
      "image/svg+xml": [
       "<?xml version=\"1.0\" encoding=\"UTF-8\" standalone=\"no\"?><svg xmlns=\"http://www.w3.org/2000/svg\" xmlns:xlink=\"http://www.w3.org/1999/xlink\" contentScriptType=\"application/ecmascript\" contentStyleType=\"text/css\" height=\"586px\" preserveAspectRatio=\"none\" style=\"width:433px;height:586px;\" version=\"1.1\" viewBox=\"0 0 433 586\" width=\"433px\" zoomAndPan=\"magnify\"><defs><filter height=\"300%\" id=\"f24h8yzs8tsic\" width=\"300%\" x=\"-1\" y=\"-1\"><feGaussianBlur result=\"blurOut\" stdDeviation=\"2.0\"/><feColorMatrix in=\"blurOut\" result=\"blurOut2\" type=\"matrix\" values=\"0 0 0 0 0 0 0 0 0 0 0 0 0 0 0 0 0 0 .4 0\"/><feOffset dx=\"4.0\" dy=\"4.0\" in=\"blurOut2\" result=\"blurOut3\"/><feBlend in=\"SourceGraphic\" in2=\"blurOut3\" mode=\"normal\"/></filter></defs><g><!--MD5=[fbc87193dbaf4d95561dea2c320d4a47]\n",
       "cluster E1--><a href=\"psysml:8f933ba8-0ed5-4db5-b82c-58b1e568922b\" target=\"_top\" title=\"psysml:8f933ba8-0ed5-4db5-b82c-58b1e568922b\" xlink:actuate=\"onRequest\" xlink:href=\"psysml:8f933ba8-0ed5-4db5-b82c-58b1e568922b\" xlink:show=\"new\" xlink:title=\"psysml:8f933ba8-0ed5-4db5-b82c-58b1e568922b\" xlink:type=\"simple\"><polygon fill=\"#FFFFFF\" filter=\"url(#f24h8yzs8tsic)\" points=\"26.32,6,153.32,6,160.32,28.2969,411.32,28.2969,411.32,574,26.32,574,26.32,6\" style=\"stroke: #000000; stroke-width: 1.5;\"/><line style=\"stroke: #000000; stroke-width: 1.5;\" x1=\"26.32\" x2=\"160.32\" y1=\"28.2969\" y2=\"28.2969\"/><text fill=\"#000000\" font-family=\"sans-serif\" font-size=\"14\" font-weight=\"bold\" lengthAdjust=\"spacingAndGlyphs\" textLength=\"121\" x=\"30.32\" y=\"20.9951\">PrivateImportTest</text></a><!--MD5=[e4f7fae6ed58524ba242bb0b0d3be6b7]\n",
       "cluster E2--><a href=\"psysml:dc5a646f-7a70-4bb5-8a84-dd766b7ca58f\" target=\"_top\" title=\"psysml:dc5a646f-7a70-4bb5-8a84-dd766b7ca58f\" xlink:actuate=\"onRequest\" xlink:href=\"psysml:dc5a646f-7a70-4bb5-8a84-dd766b7ca58f\" xlink:show=\"new\" xlink:title=\"psysml:dc5a646f-7a70-4bb5-8a84-dd766b7ca58f\" xlink:type=\"simple\"><polygon fill=\"#FFFFFF\" filter=\"url(#f24h8yzs8tsic)\" points=\"231.32,421,255.32,421,262.32,443.2969,368.32,443.2969,368.32,534,231.32,534,231.32,421\" style=\"stroke: #000000; stroke-width: 1.5;\"/><line style=\"stroke: #000000; stroke-width: 1.5;\" x1=\"231.32\" x2=\"262.32\" y1=\"443.2969\" y2=\"443.2969\"/><text fill=\"#000000\" font-family=\"sans-serif\" font-size=\"14\" font-weight=\"bold\" lengthAdjust=\"spacingAndGlyphs\" textLength=\"18\" x=\"235.32\" y=\"435.9951\">P1</text></a><!--MD5=[14e3b0961a2654348d326746436168a1]\n",
       "cluster E6--><a href=\"psysml:61bbaf9b-44aa-4d19-b1af-9f0be63c5dc6\" target=\"_top\" title=\"psysml:61bbaf9b-44aa-4d19-b1af-9f0be63c5dc6\" xlink:actuate=\"onRequest\" xlink:href=\"psysml:61bbaf9b-44aa-4d19-b1af-9f0be63c5dc6\" xlink:show=\"new\" xlink:title=\"psysml:61bbaf9b-44aa-4d19-b1af-9f0be63c5dc6\" xlink:type=\"simple\"><polygon fill=\"#FFFFFF\" filter=\"url(#f24h8yzs8tsic)\" points=\"74.32,243,98.32,243,105.32,265.2969,211.32,265.2969,211.32,356,74.32,356,74.32,243\" style=\"stroke: #000000; stroke-width: 1.5;\"/><line style=\"stroke: #000000; stroke-width: 1.5;\" x1=\"74.32\" x2=\"105.32\" y1=\"265.2969\" y2=\"265.2969\"/><text fill=\"#000000\" font-family=\"sans-serif\" font-size=\"14\" font-weight=\"bold\" lengthAdjust=\"spacingAndGlyphs\" textLength=\"18\" x=\"78.32\" y=\"257.9951\">P3</text></a><!--MD5=[7f149f147074ac12df2cb0a7728a5fb0]\n",
       "cluster E9--><a href=\"psysml:826bc35a-2948-4f0f-ac57-a46abe90dd77\" target=\"_top\" title=\"psysml:826bc35a-2948-4f0f-ac57-a46abe90dd77\" xlink:actuate=\"onRequest\" xlink:href=\"psysml:826bc35a-2948-4f0f-ac57-a46abe90dd77\" xlink:show=\"new\" xlink:title=\"psysml:826bc35a-2948-4f0f-ac57-a46abe90dd77\" xlink:type=\"simple\"><polygon fill=\"#FFFFFF\" filter=\"url(#f24h8yzs8tsic)\" points=\"262.32,65,286.32,65,293.32,87.2969,371.32,87.2969,371.32,178,262.32,178,262.32,65\" style=\"stroke: #000000; stroke-width: 1.5;\"/><line style=\"stroke: #000000; stroke-width: 1.5;\" x1=\"262.32\" x2=\"293.32\" y1=\"87.2969\" y2=\"87.2969\"/><text fill=\"#000000\" font-family=\"sans-serif\" font-size=\"14\" font-weight=\"bold\" lengthAdjust=\"spacingAndGlyphs\" textLength=\"18\" x=\"266.32\" y=\"79.9951\">P4</text></a><!--MD5=[270fce915f116d4de14055a7c1d9a0f3]\n",
       "class E5--><a href=\"psysml:ae255e73-333e-4dec-b11e-e996fbedcc54\" target=\"_top\" title=\"psysml:ae255e73-333e-4dec-b11e-e996fbedcc54\" xlink:actuate=\"onRequest\" xlink:href=\"psysml:ae255e73-333e-4dec-b11e-e996fbedcc54\" xlink:show=\"new\" xlink:title=\"psysml:ae255e73-333e-4dec-b11e-e996fbedcc54\" xlink:type=\"simple\"><rect fill=\"#FEFECE\" filter=\"url(#f24h8yzs8tsic)\" height=\"45.9375\" id=\"E5\" rx=\"10\" ry=\"10\" style=\"stroke: #A80036; stroke-width: 1.5;\" width=\"42\" x=\"345.32\" y=\"286\"/><text fill=\"#000000\" font-family=\"sans-serif\" font-size=\"12\" font-style=\"italic\" lengthAdjust=\"spacingAndGlyphs\" textLength=\"40\" x=\"346.32\" y=\"302.1387\">«part»</text><text fill=\"#000000\" font-family=\"sans-serif\" font-size=\"12\" lengthAdjust=\"spacingAndGlyphs\" textLength=\"22\" x=\"353.32\" y=\"316.1074\">x: A</text><line style=\"stroke: #A80036; stroke-width: 1.5;\" x1=\"346.32\" x2=\"386.32\" y1=\"323.9375\" y2=\"323.9375\"/></a><!--MD5=[b9389687b975829384b498ac4b7476b2]\n",
       "class E8--><a href=\"psysml:3c42eaa7-d0d8-4753-a2b8-0968c7baa502\" target=\"_top\" title=\"psysml:3c42eaa7-d0d8-4753-a2b8-0968c7baa502\" xlink:actuate=\"onRequest\" xlink:href=\"psysml:3c42eaa7-d0d8-4753-a2b8-0968c7baa502\" xlink:show=\"new\" xlink:title=\"psysml:3c42eaa7-d0d8-4753-a2b8-0968c7baa502\" xlink:type=\"simple\"><rect fill=\"#FEFECE\" filter=\"url(#f24h8yzs8tsic)\" height=\"45.9375\" id=\"E8\" rx=\"10\" ry=\"10\" style=\"stroke: #A80036; stroke-width: 1.5;\" width=\"42\" x=\"193.32\" y=\"108\"/><text fill=\"#000000\" font-family=\"sans-serif\" font-size=\"12\" font-style=\"italic\" lengthAdjust=\"spacingAndGlyphs\" textLength=\"40\" x=\"194.32\" y=\"124.1387\">«part»</text><text fill=\"#000000\" font-family=\"sans-serif\" font-size=\"12\" lengthAdjust=\"spacingAndGlyphs\" textLength=\"21\" x=\"201.82\" y=\"138.1074\">z: B</text><line style=\"stroke: #A80036; stroke-width: 1.5;\" x1=\"194.32\" x2=\"234.32\" y1=\"145.9375\" y2=\"145.9375\"/></a><!--MD5=[09b614a08d8cba4a07c9adeb5e0fee81]\n",
       "class E3--><a href=\"psysml:e52e2a8f-f908-40ce-88b1-6459229e6290\" target=\"_top\" title=\"psysml:e52e2a8f-f908-40ce-88b1-6459229e6290\" xlink:actuate=\"onRequest\" xlink:href=\"psysml:e52e2a8f-f908-40ce-88b1-6459229e6290\" xlink:show=\"new\" xlink:title=\"psysml:e52e2a8f-f908-40ce-88b1-6459229e6290\" xlink:type=\"simple\"><rect fill=\"#FEFECE\" filter=\"url(#f24h8yzs8tsic)\" height=\"45.9375\" id=\"E3\" style=\"stroke: #A80036; stroke-width: 1.5;\" width=\"70\" x=\"274.32\" y=\"464\"/><text fill=\"#000000\" font-family=\"sans-serif\" font-size=\"12\" font-style=\"italic\" lengthAdjust=\"spacingAndGlyphs\" textLength=\"68\" x=\"275.32\" y=\"480.1387\">«part  def»</text><text fill=\"#000000\" font-family=\"sans-serif\" font-size=\"12\" lengthAdjust=\"spacingAndGlyphs\" textLength=\"8\" x=\"305.32\" y=\"494.1074\">A</text><line style=\"stroke: #A80036; stroke-width: 1.5;\" x1=\"275.32\" x2=\"343.32\" y1=\"501.9375\" y2=\"501.9375\"/></a><a href=\"psysml:b07c7c49-60b3-45d9-ab30-3f9ccb4621b1\" target=\"_top\" title=\"psysml:b07c7c49-60b3-45d9-ab30-3f9ccb4621b1\" xlink:actuate=\"onRequest\" xlink:href=\"psysml:b07c7c49-60b3-45d9-ab30-3f9ccb4621b1\" xlink:show=\"new\" xlink:title=\"psysml:b07c7c49-60b3-45d9-ab30-3f9ccb4621b1\" xlink:type=\"simple\"><polygon fill=\"#FFFFFF\" filter=\"url(#f24h8yzs8tsic)\" points=\"235.32,282.5,259.32,282.5,266.32,304.7969,273.32,304.7969,273.32,335.0938,235.32,335.0938,235.32,282.5\" style=\"stroke: #000000; stroke-width: 1.5;\"/><line style=\"stroke: #000000; stroke-width: 1.5;\" x1=\"235.32\" x2=\"266.32\" y1=\"304.7969\" y2=\"304.7969\"/><text fill=\"#000000\" font-family=\"sans-serif\" font-size=\"14\" font-weight=\"bold\" lengthAdjust=\"spacingAndGlyphs\" textLength=\"18\" x=\"239.32\" y=\"297.4951\">P2</text></a><!--MD5=[2156ba9850f5573cc1fc38a6a4b2f02b]\n",
       "class E7--><a href=\"psysml:f5eaf228-c184-457d-ba82-3236315ba9d3\" target=\"_top\" title=\"psysml:f5eaf228-c184-457d-ba82-3236315ba9d3\" xlink:actuate=\"onRequest\" xlink:href=\"psysml:f5eaf228-c184-457d-ba82-3236315ba9d3\" xlink:show=\"new\" xlink:title=\"psysml:f5eaf228-c184-457d-ba82-3236315ba9d3\" xlink:type=\"simple\"><rect fill=\"#FEFECE\" filter=\"url(#f24h8yzs8tsic)\" height=\"45.9375\" id=\"E7\" style=\"stroke: #A80036; stroke-width: 1.5;\" width=\"70\" x=\"117.32\" y=\"286\"/><text fill=\"#000000\" font-family=\"sans-serif\" font-size=\"12\" font-style=\"italic\" lengthAdjust=\"spacingAndGlyphs\" textLength=\"68\" x=\"118.32\" y=\"302.1387\">«part  def»</text><text fill=\"#000000\" font-family=\"sans-serif\" font-size=\"12\" lengthAdjust=\"spacingAndGlyphs\" textLength=\"8\" x=\"148.32\" y=\"316.1074\">B</text><line style=\"stroke: #A80036; stroke-width: 1.5;\" x1=\"118.32\" x2=\"186.32\" y1=\"323.9375\" y2=\"323.9375\"/></a><!--MD5=[96f4274e9e20536e775497830990834d]\n",
       "class E10--><a href=\"psysml:bd10993a-8e6e-4149-83fc-2dc02c68e6fc\" target=\"_top\" title=\"psysml:bd10993a-8e6e-4149-83fc-2dc02c68e6fc\" xlink:actuate=\"onRequest\" xlink:href=\"psysml:bd10993a-8e6e-4149-83fc-2dc02c68e6fc\" xlink:show=\"new\" xlink:title=\"psysml:bd10993a-8e6e-4149-83fc-2dc02c68e6fc\" xlink:type=\"simple\"><rect fill=\"#FEFECE\" filter=\"url(#f24h8yzs8tsic)\" height=\"45.9375\" id=\"E10\" rx=\"10\" ry=\"10\" style=\"stroke: #A80036; stroke-width: 1.5;\" width=\"42\" x=\"305.32\" y=\"108\"/><text fill=\"#000000\" font-family=\"sans-serif\" font-size=\"12\" font-style=\"italic\" lengthAdjust=\"spacingAndGlyphs\" textLength=\"40\" x=\"306.32\" y=\"124.1387\">«part»</text><text fill=\"#000000\" font-family=\"sans-serif\" font-size=\"12\" lengthAdjust=\"spacingAndGlyphs\" textLength=\"29\" x=\"309.82\" y=\"138.1074\">z1: A</text><line style=\"stroke: #A80036; stroke-width: 1.5;\" x1=\"306.32\" x2=\"346.32\" y1=\"145.9375\" y2=\"145.9375\"/></a><!--MD5=[185131fc0dcab0a4505a2ebe144e961b]\n",
       "link E4 to E2--><a href=\"psysml:9c76a3dc-4160-42f2-8d03-f28cee99dd8d\" target=\"_top\" title=\"psysml:9c76a3dc-4160-42f2-8d03-f28cee99dd8d\" xlink:actuate=\"onRequest\" xlink:href=\"psysml:9c76a3dc-4160-42f2-8d03-f28cee99dd8d\" xlink:show=\"new\" xlink:title=\"psysml:9c76a3dc-4160-42f2-8d03-f28cee99dd8d\" xlink:type=\"simple\"><path d=\"M244.71,335.52 C240.28,348.61 235.53,364.94 233.32,380 C231.6325,391.49 231.1388,403.7444 231.3534,415.6911 C231.3803,417.1844 231.4182,418.673 231.4662,420.1546 C231.4722,420.3398 231.4784,420.5249 231.4847,420.7099 \" fill=\"none\" id=\"E4-&gt;E2\" style=\"stroke: #A80036; stroke-width: 1.0; stroke-dasharray: 7.0,7.0;\"/><polygon fill=\"#A80036\" points=\"231.4847,420.7099,235.1752,411.5786,231.314,415.7128,227.1798,411.8517,231.4847,420.7099\" style=\"stroke: #A80036; stroke-width: 1.0;\"/><text fill=\"#000000\" font-family=\"sans-serif\" font-size=\"13\" lengthAdjust=\"spacingAndGlyphs\" textLength=\"65\" x=\"234.32\" y=\"393.0669\">«import»*</text></a><!--MD5=[e9be52314489bd878ff4c7144b63c9e1]\n",
       "link E5 to E3--><a href=\"psysml:7e781afb-bb69-45b4-99ca-abeca0fc5181\" target=\"_top\" title=\"psysml:7e781afb-bb69-45b4-99ca-abeca0fc5181\" xlink:actuate=\"onRequest\" xlink:href=\"psysml:7e781afb-bb69-45b4-99ca-abeca0fc5181\" xlink:show=\"new\" xlink:title=\"psysml:7e781afb-bb69-45b4-99ca-abeca0fc5181\" xlink:type=\"simple\"><path d=\"M359.1,332.29 C349.98,360.46 334.1,409.49 322.72,444.61 \" fill=\"none\" id=\"E5-&gt;E3\" style=\"stroke: #A80036; stroke-width: 1.0;\"/><polygon fill=\"#FFFFFF\" points=\"316.48,463.89,315.6693,443.6578,328.9893,447.9678,316.48,463.89\" style=\"stroke: #A80036; stroke-width: 1.0;\"/><ellipse cx=\"319.3269\" cy=\"438.8503\" fill=\"#A80036\" rx=\"2\" ry=\"2\" style=\"stroke: #A80036; stroke-width: 1.0;\"/><ellipse cx=\"328.8413\" cy=\"441.9289\" fill=\"#A80036\" rx=\"2\" ry=\"2\" style=\"stroke: #A80036; stroke-width: 1.0;\"/></a><!--MD5=[ee384bb554873b72f85793eae40e290c]\n",
       "link E1 to E4--><a href=\"psysml:3abfa817-381d-4c68-8935-6fa98a0aa2e6\" target=\"_top\" title=\"psysml:3abfa817-381d-4c68-8935-6fa98a0aa2e6\" xlink:actuate=\"onRequest\" xlink:href=\"psysml:3abfa817-381d-4c68-8935-6fa98a0aa2e6\" xlink:show=\"new\" xlink:title=\"psysml:3abfa817-381d-4c68-8935-6fa98a0aa2e6\" xlink:type=\"simple\"><path d=\"M34.29,132.12 C33.65,134.6 23.75,174.52 42.32,194 C49.33,201.35 77.35,200.04 87.32,202 C113.19,207.09 181.71,211.88 203.32,227 C220.99,239.37 233.85,260.02 242.24,277.37 \" fill=\"none\" id=\"E1-&gt;E4\" style=\"stroke: #A80036; stroke-width: 1.0; stroke-dasharray: 7.0,7.0;\"/><polygon fill=\"#A80036\" points=\"244.49,282.17,244.3071,272.3228,242.3748,277.6394,237.0582,275.7072,244.49,282.17\" style=\"stroke: #A80036; stroke-width: 1.0;\"/><text fill=\"#000000\" font-family=\"sans-serif\" font-size=\"13\" lengthAdjust=\"spacingAndGlyphs\" textLength=\"65\" x=\"183.32\" y=\"215.0669\">«import»*</text></a><!--MD5=[ccbd3af71bf83df0ec2a2db62d6d7130]\n",
       "link E1 to E6--><a href=\"psysml:38071c17-dcc7-47a2-931c-5199b5c10531\" target=\"_top\" title=\"psysml:38071c17-dcc7-47a2-931c-5199b5c10531\" xlink:actuate=\"onRequest\" xlink:href=\"psysml:38071c17-dcc7-47a2-931c-5199b5c10531\" xlink:show=\"new\" xlink:title=\"psysml:38071c17-dcc7-47a2-931c-5199b5c10531\" xlink:type=\"simple\"><path d=\"M26.1693,145.3513 C26.1165,145.4477 26.0635,145.5445 26.0105,145.6418 C25.9044,145.8363 25.7978,146.0325 25.6908,146.2304 C24.8349,147.8133 23.9523,149.5023 23.0614,151.284 C21.2797,154.8473 19.465,158.7813 17.765,162.9775 C10.965,179.7625 6,200.745 12.32,219 C20.295,242.035 36.9675,263.635 52.0413,279.7863 C59.5781,287.8619 66.7153,294.5753 72.1658,299.4248 C72.8471,300.031 73.502,300.6081 74.1281,301.1551 \" fill=\"none\" id=\"E1-&gt;E6\" style=\"stroke: #A80036; stroke-width: 1.0; stroke-dasharray: 7.0,7.0;\"/><polygon fill=\"#A80036\" points=\"74.1281,301.1551,69.982,292.2214,70.3627,297.8655,64.7187,298.2462,74.1281,301.1551\" style=\"stroke: #A80036; stroke-width: 1.0;\"/><text fill=\"#000000\" font-family=\"sans-serif\" font-size=\"13\" lengthAdjust=\"spacingAndGlyphs\" textLength=\"65\" x=\"13.32\" y=\"215.0669\">«import»*</text></a><!--MD5=[bfa3c8b0d15052fdf50ae9310b491027]\n",
       "link E8 to E7--><a href=\"psysml:84039e37-6732-4e81-a24d-af568a8fc4d2\" target=\"_top\" title=\"psysml:84039e37-6732-4e81-a24d-af568a8fc4d2\" xlink:actuate=\"onRequest\" xlink:href=\"psysml:84039e37-6732-4e81-a24d-af568a8fc4d2\" xlink:show=\"new\" xlink:title=\"psysml:84039e37-6732-4e81-a24d-af568a8fc4d2\" xlink:type=\"simple\"><path d=\"M232.99,154.29 C246.61,173.37 260.16,200.59 244.32,219 C228.78,237.06 210.49,212.85 191.32,227 C178.2,236.69 169.29,251.96 163.34,266.65 \" fill=\"none\" id=\"E8-&gt;E7\" style=\"stroke: #A80036; stroke-width: 1.0;\"/><polygon fill=\"#FFFFFF\" points=\"156.95,285.73,156.3404,265.4907,169.617,269.9329,156.95,285.73\" style=\"stroke: #A80036; stroke-width: 1.0;\"/><ellipse cx=\"160.0457\" cy=\"260.7199\" fill=\"#A80036\" rx=\"2\" ry=\"2\" style=\"stroke: #A80036; stroke-width: 1.0;\"/><ellipse cx=\"169.5289\" cy=\"263.8929\" fill=\"#A80036\" rx=\"2\" ry=\"2\" style=\"stroke: #A80036; stroke-width: 1.0;\"/></a><!--MD5=[c2be97adba6ddfe1c8f349fab141c927]\n",
       "link E9 to E4--><a href=\"psysml:f4a7c8b4-50d4-4d21-9428-75951a767795\" target=\"_top\" title=\"psysml:f4a7c8b4-50d4-4d21-9428-75951a767795\" xlink:actuate=\"onRequest\" xlink:href=\"psysml:f4a7c8b4-50d4-4d21-9428-75951a767795\" xlink:show=\"new\" xlink:title=\"psysml:f4a7c8b4-50d4-4d21-9428-75951a767795\" xlink:type=\"simple\"><path d=\"M267.5431,178.2415 C267.5354,178.35 267.5276,178.4585 267.5198,178.5671 C267.3951,180.3034 267.2673,182.0417 267.1366,183.7729 C266.8753,187.2352 266.6025,190.6688 266.32,194 C263.93,222.21 260.49,254.26 257.9,277.18 \" fill=\"none\" id=\"E9-&gt;E4\" style=\"stroke: #A80036; stroke-width: 1.0; stroke-dasharray: 7.0,7.0;\"/><polygon fill=\"#A80036\" points=\"257.33,282.22,262.3075,273.7215,257.8869,277.2511,254.3572,272.8305,257.33,282.22\" style=\"stroke: #A80036; stroke-width: 1.0;\"/><text fill=\"#000000\" font-family=\"sans-serif\" font-size=\"13\" lengthAdjust=\"spacingAndGlyphs\" textLength=\"65\" x=\"266.32\" y=\"215.0669\">«import»*</text></a><!--MD5=[feeac5eb423634930294aa81f2d25a4c]\n",
       "link E10 to E3--><a href=\"psysml:ff7299d7-bc25-43a3-abcf-daa45aa95a4b\" target=\"_top\" title=\"psysml:ff7299d7-bc25-43a3-abcf-daa45aa95a4b\" xlink:actuate=\"onRequest\" xlink:href=\"psysml:ff7299d7-bc25-43a3-abcf-daa45aa95a4b\" xlink:show=\"new\" xlink:title=\"psysml:ff7299d7-bc25-43a3-abcf-daa45aa95a4b\" xlink:type=\"simple\"><path d=\"M345.63,154.11 C359.77,173.07 373.99,200.22 358.32,219 C345.58,234.26 327.2,211.86 314.32,227 C300.64,243.07 304.33,374.79 307.28,443.95 \" fill=\"none\" id=\"E10-&gt;E3\" style=\"stroke: #A80036; stroke-width: 1.0;\"/><polygon fill=\"#FFFFFF\" points=\"308.18,463.98,300.3317,445.3144,314.3175,444.6841,308.18,463.98\" style=\"stroke: #A80036; stroke-width: 1.0;\"/><ellipse cx=\"302.0731\" cy=\"439.5301\" fill=\"#A80036\" rx=\"2\" ry=\"2\" style=\"stroke: #A80036; stroke-width: 1.0;\"/><ellipse cx=\"312.063\" cy=\"439.0799\" fill=\"#A80036\" rx=\"2\" ry=\"2\" style=\"stroke: #A80036; stroke-width: 1.0;\"/></a><!--MD5=[85f57232b988b5560b2e996613067e25]\n",
       "@startuml\r\n",
       "skinparam wrapWidth 300\r\n",
       "hide circle\r\n",
       "\r\n",
       "package \"PrivateImportTest\" as E1  [[psysml:8f933ba8-0ed5-4db5-b82c-58b1e568922b ]]  {\r\n",
       "package \"P1\" as E2  [[psysml:dc5a646f-7a70-4bb5-8a84-dd766b7ca58f ]]  {\r\n",
       "comp def \"A\" as E3  <<(T,blue) part  def>> [[psysml:e52e2a8f-f908-40ce-88b1-6459229e6290 ]] {\r\n",
       "}\r\n",
       "}\r\n",
       "package \"P2\" as E4  [[psysml:b07c7c49-60b3-45d9-ab30-3f9ccb4621b1 ]]  {\r\n",
       "}\r\n",
       "comp usage \"x: A \" as E5  <<(T,blue) part>> [[psysml:ae255e73-333e-4dec-b11e-e996fbedcc54 ]] {\r\n",
       "}\r\n",
       "package \"P3\" as E6  [[psysml:61bbaf9b-44aa-4d19-b1af-9f0be63c5dc6 ]]  {\r\n",
       "comp def \"B\" as E7  <<(T,blue) part  def>> [[psysml:f5eaf228-c184-457d-ba82-3236315ba9d3 ]] {\r\n",
       "}\r\n",
       "}\r\n",
       "comp usage \"z: B \" as E8  <<(T,blue) part>> [[psysml:3c42eaa7-d0d8-4753-a2b8-0968c7baa502 ]] {\r\n",
       "}\r\n",
       "package \"P4\" as E9  [[psysml:826bc35a-2948-4f0f-ac57-a46abe90dd77 ]]  {\r\n",
       "comp usage \"z1: A \" as E10  <<(T,blue) part>> [[psysml:bd10993a-8e6e-4149-83fc-2dc02c68e6fc ]] {\r\n",
       "}\r\n",
       "}\r\n",
       "}\r\n",
       "E4 ..> E2 [[psysml:9c76a3dc-4160-42f2-8d03-f28cee99dd8d ]] : <<import>>*\r\n",
       "E5 - -:|> E3 [[psysml:7e781afb-bb69-45b4-99ca-abeca0fc5181 ]] \r\n",
       "E1 ..> E4 [[psysml:3abfa817-381d-4c68-8935-6fa98a0aa2e6 ]] : <<import>>*\r\n",
       "E1 ..> E6 [[psysml:38071c17-dcc7-47a2-931c-5199b5c10531 ]] : <<import>>*\r\n",
       "E8 - -:|> E7 [[psysml:84039e37-6732-4e81-a24d-af568a8fc4d2 ]] \r\n",
       "E9 ..> E4 [[psysml:f4a7c8b4-50d4-4d21-9428-75951a767795 ]] : <<import>>*\r\n",
       "E10 - -:|> E3 [[psysml:ff7299d7-bc25-43a3-abcf-daa45aa95a4b ]] \r\n",
       "@enduml\r\n",
       "\n",
       "PlantUML version 1.2020.13(Sat Jun 13 12:26:38 UTC 2020)\n",
       "(EPL source distribution)\n",
       "Java Runtime: OpenJDK Runtime Environment\n",
       "JVM: OpenJDK 64-Bit Server VM\n",
       "Default Encoding: UTF-8\n",
       "Language: en\n",
       "Country: null\n",
       "--></g></svg>"
      ]
     },
     "execution_count": 23,
     "metadata": {},
     "output_type": "execute_result"
    }
   ],
   "source": [
    "%viz --style=\"STDCOLOR\" --view=\"Default\" \"PrivateImportTest\""
   ]
  },
  {
   "cell_type": "code",
   "execution_count": 24,
   "id": "860bef81",
   "metadata": {
    "execution": {
     "iopub.execute_input": "2022-08-19T08:19:17.551538Z",
     "iopub.status.busy": "2022-08-19T08:19:17.551091Z",
     "iopub.status.idle": "2022-08-19T08:19:17.594246Z",
     "shell.execute_reply": "2022-08-19T08:19:17.593832Z"
    }
   },
   "outputs": [
    {
     "data": {
      "image/svg+xml": [
       "<?xml version=\"1.0\" encoding=\"UTF-8\" standalone=\"no\"?><svg xmlns=\"http://www.w3.org/2000/svg\" xmlns:xlink=\"http://www.w3.org/1999/xlink\" contentScriptType=\"application/ecmascript\" contentStyleType=\"text/css\" height=\"586px\" preserveAspectRatio=\"none\" style=\"width:433px;height:586px;\" version=\"1.1\" viewBox=\"0 0 433 586\" width=\"433px\" zoomAndPan=\"magnify\"><defs><filter height=\"300%\" id=\"f24h8yzs8tsic\" width=\"300%\" x=\"-1\" y=\"-1\"><feGaussianBlur result=\"blurOut\" stdDeviation=\"2.0\"/><feColorMatrix in=\"blurOut\" result=\"blurOut2\" type=\"matrix\" values=\"0 0 0 0 0 0 0 0 0 0 0 0 0 0 0 0 0 0 .4 0\"/><feOffset dx=\"4.0\" dy=\"4.0\" in=\"blurOut2\" result=\"blurOut3\"/><feBlend in=\"SourceGraphic\" in2=\"blurOut3\" mode=\"normal\"/></filter></defs><g><!--MD5=[fbc87193dbaf4d95561dea2c320d4a47]\n",
       "cluster E1--><a href=\"psysml:8f933ba8-0ed5-4db5-b82c-58b1e568922b\" target=\"_top\" title=\"psysml:8f933ba8-0ed5-4db5-b82c-58b1e568922b\" xlink:actuate=\"onRequest\" xlink:href=\"psysml:8f933ba8-0ed5-4db5-b82c-58b1e568922b\" xlink:show=\"new\" xlink:title=\"psysml:8f933ba8-0ed5-4db5-b82c-58b1e568922b\" xlink:type=\"simple\"><polygon fill=\"#FFFFFF\" filter=\"url(#f24h8yzs8tsic)\" points=\"26.32,6,153.32,6,160.32,28.2969,411.32,28.2969,411.32,574,26.32,574,26.32,6\" style=\"stroke: #000000; stroke-width: 1.5;\"/><line style=\"stroke: #000000; stroke-width: 1.5;\" x1=\"26.32\" x2=\"160.32\" y1=\"28.2969\" y2=\"28.2969\"/><text fill=\"#000000\" font-family=\"sans-serif\" font-size=\"14\" font-weight=\"bold\" lengthAdjust=\"spacingAndGlyphs\" textLength=\"121\" x=\"30.32\" y=\"20.9951\">PrivateImportTest</text></a><!--MD5=[e4f7fae6ed58524ba242bb0b0d3be6b7]\n",
       "cluster E2--><a href=\"psysml:dc5a646f-7a70-4bb5-8a84-dd766b7ca58f\" target=\"_top\" title=\"psysml:dc5a646f-7a70-4bb5-8a84-dd766b7ca58f\" xlink:actuate=\"onRequest\" xlink:href=\"psysml:dc5a646f-7a70-4bb5-8a84-dd766b7ca58f\" xlink:show=\"new\" xlink:title=\"psysml:dc5a646f-7a70-4bb5-8a84-dd766b7ca58f\" xlink:type=\"simple\"><polygon fill=\"#FFFFFF\" filter=\"url(#f24h8yzs8tsic)\" points=\"231.32,421,255.32,421,262.32,443.2969,368.32,443.2969,368.32,534,231.32,534,231.32,421\" style=\"stroke: #000000; stroke-width: 1.5;\"/><line style=\"stroke: #000000; stroke-width: 1.5;\" x1=\"231.32\" x2=\"262.32\" y1=\"443.2969\" y2=\"443.2969\"/><text fill=\"#000000\" font-family=\"sans-serif\" font-size=\"14\" font-weight=\"bold\" lengthAdjust=\"spacingAndGlyphs\" textLength=\"18\" x=\"235.32\" y=\"435.9951\">P1</text></a><!--MD5=[14e3b0961a2654348d326746436168a1]\n",
       "cluster E6--><a href=\"psysml:61bbaf9b-44aa-4d19-b1af-9f0be63c5dc6\" target=\"_top\" title=\"psysml:61bbaf9b-44aa-4d19-b1af-9f0be63c5dc6\" xlink:actuate=\"onRequest\" xlink:href=\"psysml:61bbaf9b-44aa-4d19-b1af-9f0be63c5dc6\" xlink:show=\"new\" xlink:title=\"psysml:61bbaf9b-44aa-4d19-b1af-9f0be63c5dc6\" xlink:type=\"simple\"><polygon fill=\"#FFFFFF\" filter=\"url(#f24h8yzs8tsic)\" points=\"74.32,243,98.32,243,105.32,265.2969,211.32,265.2969,211.32,356,74.32,356,74.32,243\" style=\"stroke: #000000; stroke-width: 1.5;\"/><line style=\"stroke: #000000; stroke-width: 1.5;\" x1=\"74.32\" x2=\"105.32\" y1=\"265.2969\" y2=\"265.2969\"/><text fill=\"#000000\" font-family=\"sans-serif\" font-size=\"14\" font-weight=\"bold\" lengthAdjust=\"spacingAndGlyphs\" textLength=\"18\" x=\"78.32\" y=\"257.9951\">P3</text></a><!--MD5=[7f149f147074ac12df2cb0a7728a5fb0]\n",
       "cluster E9--><a href=\"psysml:826bc35a-2948-4f0f-ac57-a46abe90dd77\" target=\"_top\" title=\"psysml:826bc35a-2948-4f0f-ac57-a46abe90dd77\" xlink:actuate=\"onRequest\" xlink:href=\"psysml:826bc35a-2948-4f0f-ac57-a46abe90dd77\" xlink:show=\"new\" xlink:title=\"psysml:826bc35a-2948-4f0f-ac57-a46abe90dd77\" xlink:type=\"simple\"><polygon fill=\"#FFFFFF\" filter=\"url(#f24h8yzs8tsic)\" points=\"262.32,65,286.32,65,293.32,87.2969,371.32,87.2969,371.32,178,262.32,178,262.32,65\" style=\"stroke: #000000; stroke-width: 1.5;\"/><line style=\"stroke: #000000; stroke-width: 1.5;\" x1=\"262.32\" x2=\"293.32\" y1=\"87.2969\" y2=\"87.2969\"/><text fill=\"#000000\" font-family=\"sans-serif\" font-size=\"14\" font-weight=\"bold\" lengthAdjust=\"spacingAndGlyphs\" textLength=\"18\" x=\"266.32\" y=\"79.9951\">P4</text></a><!--MD5=[270fce915f116d4de14055a7c1d9a0f3]\n",
       "class E5--><a href=\"psysml:ae255e73-333e-4dec-b11e-e996fbedcc54\" target=\"_top\" title=\"psysml:ae255e73-333e-4dec-b11e-e996fbedcc54\" xlink:actuate=\"onRequest\" xlink:href=\"psysml:ae255e73-333e-4dec-b11e-e996fbedcc54\" xlink:show=\"new\" xlink:title=\"psysml:ae255e73-333e-4dec-b11e-e996fbedcc54\" xlink:type=\"simple\"><rect fill=\"#FEFECE\" filter=\"url(#f24h8yzs8tsic)\" height=\"45.9375\" id=\"E5\" rx=\"10\" ry=\"10\" style=\"stroke: #A80036; stroke-width: 1.5;\" width=\"42\" x=\"345.32\" y=\"286\"/><text fill=\"#000000\" font-family=\"sans-serif\" font-size=\"12\" font-style=\"italic\" lengthAdjust=\"spacingAndGlyphs\" textLength=\"40\" x=\"346.32\" y=\"302.1387\">«part»</text><text fill=\"#000000\" font-family=\"sans-serif\" font-size=\"12\" lengthAdjust=\"spacingAndGlyphs\" textLength=\"22\" x=\"353.32\" y=\"316.1074\">x: A</text><line style=\"stroke: #A80036; stroke-width: 1.5;\" x1=\"346.32\" x2=\"386.32\" y1=\"323.9375\" y2=\"323.9375\"/></a><!--MD5=[b9389687b975829384b498ac4b7476b2]\n",
       "class E8--><a href=\"psysml:3c42eaa7-d0d8-4753-a2b8-0968c7baa502\" target=\"_top\" title=\"psysml:3c42eaa7-d0d8-4753-a2b8-0968c7baa502\" xlink:actuate=\"onRequest\" xlink:href=\"psysml:3c42eaa7-d0d8-4753-a2b8-0968c7baa502\" xlink:show=\"new\" xlink:title=\"psysml:3c42eaa7-d0d8-4753-a2b8-0968c7baa502\" xlink:type=\"simple\"><rect fill=\"#FEFECE\" filter=\"url(#f24h8yzs8tsic)\" height=\"45.9375\" id=\"E8\" rx=\"10\" ry=\"10\" style=\"stroke: #A80036; stroke-width: 1.5;\" width=\"42\" x=\"193.32\" y=\"108\"/><text fill=\"#000000\" font-family=\"sans-serif\" font-size=\"12\" font-style=\"italic\" lengthAdjust=\"spacingAndGlyphs\" textLength=\"40\" x=\"194.32\" y=\"124.1387\">«part»</text><text fill=\"#000000\" font-family=\"sans-serif\" font-size=\"12\" lengthAdjust=\"spacingAndGlyphs\" textLength=\"21\" x=\"201.82\" y=\"138.1074\">z: B</text><line style=\"stroke: #A80036; stroke-width: 1.5;\" x1=\"194.32\" x2=\"234.32\" y1=\"145.9375\" y2=\"145.9375\"/></a><!--MD5=[09b614a08d8cba4a07c9adeb5e0fee81]\n",
       "class E3--><a href=\"psysml:e52e2a8f-f908-40ce-88b1-6459229e6290\" target=\"_top\" title=\"psysml:e52e2a8f-f908-40ce-88b1-6459229e6290\" xlink:actuate=\"onRequest\" xlink:href=\"psysml:e52e2a8f-f908-40ce-88b1-6459229e6290\" xlink:show=\"new\" xlink:title=\"psysml:e52e2a8f-f908-40ce-88b1-6459229e6290\" xlink:type=\"simple\"><rect fill=\"#FEFECE\" filter=\"url(#f24h8yzs8tsic)\" height=\"45.9375\" id=\"E3\" style=\"stroke: #A80036; stroke-width: 1.5;\" width=\"70\" x=\"274.32\" y=\"464\"/><text fill=\"#000000\" font-family=\"sans-serif\" font-size=\"12\" font-style=\"italic\" lengthAdjust=\"spacingAndGlyphs\" textLength=\"68\" x=\"275.32\" y=\"480.1387\">«part  def»</text><text fill=\"#000000\" font-family=\"sans-serif\" font-size=\"12\" lengthAdjust=\"spacingAndGlyphs\" textLength=\"8\" x=\"305.32\" y=\"494.1074\">A</text><line style=\"stroke: #A80036; stroke-width: 1.5;\" x1=\"275.32\" x2=\"343.32\" y1=\"501.9375\" y2=\"501.9375\"/></a><a href=\"psysml:b07c7c49-60b3-45d9-ab30-3f9ccb4621b1\" target=\"_top\" title=\"psysml:b07c7c49-60b3-45d9-ab30-3f9ccb4621b1\" xlink:actuate=\"onRequest\" xlink:href=\"psysml:b07c7c49-60b3-45d9-ab30-3f9ccb4621b1\" xlink:show=\"new\" xlink:title=\"psysml:b07c7c49-60b3-45d9-ab30-3f9ccb4621b1\" xlink:type=\"simple\"><polygon fill=\"#FFFFFF\" filter=\"url(#f24h8yzs8tsic)\" points=\"235.32,282.5,259.32,282.5,266.32,304.7969,273.32,304.7969,273.32,335.0938,235.32,335.0938,235.32,282.5\" style=\"stroke: #000000; stroke-width: 1.5;\"/><line style=\"stroke: #000000; stroke-width: 1.5;\" x1=\"235.32\" x2=\"266.32\" y1=\"304.7969\" y2=\"304.7969\"/><text fill=\"#000000\" font-family=\"sans-serif\" font-size=\"14\" font-weight=\"bold\" lengthAdjust=\"spacingAndGlyphs\" textLength=\"18\" x=\"239.32\" y=\"297.4951\">P2</text></a><!--MD5=[2156ba9850f5573cc1fc38a6a4b2f02b]\n",
       "class E7--><a href=\"psysml:f5eaf228-c184-457d-ba82-3236315ba9d3\" target=\"_top\" title=\"psysml:f5eaf228-c184-457d-ba82-3236315ba9d3\" xlink:actuate=\"onRequest\" xlink:href=\"psysml:f5eaf228-c184-457d-ba82-3236315ba9d3\" xlink:show=\"new\" xlink:title=\"psysml:f5eaf228-c184-457d-ba82-3236315ba9d3\" xlink:type=\"simple\"><rect fill=\"#FEFECE\" filter=\"url(#f24h8yzs8tsic)\" height=\"45.9375\" id=\"E7\" style=\"stroke: #A80036; stroke-width: 1.5;\" width=\"70\" x=\"117.32\" y=\"286\"/><text fill=\"#000000\" font-family=\"sans-serif\" font-size=\"12\" font-style=\"italic\" lengthAdjust=\"spacingAndGlyphs\" textLength=\"68\" x=\"118.32\" y=\"302.1387\">«part  def»</text><text fill=\"#000000\" font-family=\"sans-serif\" font-size=\"12\" lengthAdjust=\"spacingAndGlyphs\" textLength=\"8\" x=\"148.32\" y=\"316.1074\">B</text><line style=\"stroke: #A80036; stroke-width: 1.5;\" x1=\"118.32\" x2=\"186.32\" y1=\"323.9375\" y2=\"323.9375\"/></a><!--MD5=[96f4274e9e20536e775497830990834d]\n",
       "class E10--><a href=\"psysml:bd10993a-8e6e-4149-83fc-2dc02c68e6fc\" target=\"_top\" title=\"psysml:bd10993a-8e6e-4149-83fc-2dc02c68e6fc\" xlink:actuate=\"onRequest\" xlink:href=\"psysml:bd10993a-8e6e-4149-83fc-2dc02c68e6fc\" xlink:show=\"new\" xlink:title=\"psysml:bd10993a-8e6e-4149-83fc-2dc02c68e6fc\" xlink:type=\"simple\"><rect fill=\"#FEFECE\" filter=\"url(#f24h8yzs8tsic)\" height=\"45.9375\" id=\"E10\" rx=\"10\" ry=\"10\" style=\"stroke: #A80036; stroke-width: 1.5;\" width=\"42\" x=\"305.32\" y=\"108\"/><text fill=\"#000000\" font-family=\"sans-serif\" font-size=\"12\" font-style=\"italic\" lengthAdjust=\"spacingAndGlyphs\" textLength=\"40\" x=\"306.32\" y=\"124.1387\">«part»</text><text fill=\"#000000\" font-family=\"sans-serif\" font-size=\"12\" lengthAdjust=\"spacingAndGlyphs\" textLength=\"29\" x=\"309.82\" y=\"138.1074\">z1: A</text><line style=\"stroke: #A80036; stroke-width: 1.5;\" x1=\"306.32\" x2=\"346.32\" y1=\"145.9375\" y2=\"145.9375\"/></a><!--MD5=[185131fc0dcab0a4505a2ebe144e961b]\n",
       "link E4 to E2--><a href=\"psysml:9c76a3dc-4160-42f2-8d03-f28cee99dd8d\" target=\"_top\" title=\"psysml:9c76a3dc-4160-42f2-8d03-f28cee99dd8d\" xlink:actuate=\"onRequest\" xlink:href=\"psysml:9c76a3dc-4160-42f2-8d03-f28cee99dd8d\" xlink:show=\"new\" xlink:title=\"psysml:9c76a3dc-4160-42f2-8d03-f28cee99dd8d\" xlink:type=\"simple\"><path d=\"M244.71,335.52 C240.28,348.61 235.53,364.94 233.32,380 C231.6325,391.49 231.1388,403.7444 231.3534,415.6911 C231.3803,417.1844 231.4182,418.673 231.4662,420.1546 C231.4722,420.3398 231.4784,420.5249 231.4847,420.7099 \" fill=\"none\" id=\"E4-&gt;E2\" style=\"stroke: #A80036; stroke-width: 1.0; stroke-dasharray: 7.0,7.0;\"/><polygon fill=\"#A80036\" points=\"231.4847,420.7099,235.1752,411.5786,231.314,415.7128,227.1798,411.8517,231.4847,420.7099\" style=\"stroke: #A80036; stroke-width: 1.0;\"/><text fill=\"#000000\" font-family=\"sans-serif\" font-size=\"13\" lengthAdjust=\"spacingAndGlyphs\" textLength=\"65\" x=\"234.32\" y=\"393.0669\">«import»*</text></a><!--MD5=[e9be52314489bd878ff4c7144b63c9e1]\n",
       "link E5 to E3--><a href=\"psysml:7e781afb-bb69-45b4-99ca-abeca0fc5181\" target=\"_top\" title=\"psysml:7e781afb-bb69-45b4-99ca-abeca0fc5181\" xlink:actuate=\"onRequest\" xlink:href=\"psysml:7e781afb-bb69-45b4-99ca-abeca0fc5181\" xlink:show=\"new\" xlink:title=\"psysml:7e781afb-bb69-45b4-99ca-abeca0fc5181\" xlink:type=\"simple\"><path d=\"M359.1,332.29 C349.98,360.46 334.1,409.49 322.72,444.61 \" fill=\"none\" id=\"E5-&gt;E3\" style=\"stroke: #A80036; stroke-width: 1.0;\"/><polygon fill=\"#FFFFFF\" points=\"316.48,463.89,315.6693,443.6578,328.9893,447.9678,316.48,463.89\" style=\"stroke: #A80036; stroke-width: 1.0;\"/><ellipse cx=\"319.3269\" cy=\"438.8503\" fill=\"#A80036\" rx=\"2\" ry=\"2\" style=\"stroke: #A80036; stroke-width: 1.0;\"/><ellipse cx=\"328.8413\" cy=\"441.9289\" fill=\"#A80036\" rx=\"2\" ry=\"2\" style=\"stroke: #A80036; stroke-width: 1.0;\"/></a><!--MD5=[ee384bb554873b72f85793eae40e290c]\n",
       "link E1 to E4--><a href=\"psysml:3abfa817-381d-4c68-8935-6fa98a0aa2e6\" target=\"_top\" title=\"psysml:3abfa817-381d-4c68-8935-6fa98a0aa2e6\" xlink:actuate=\"onRequest\" xlink:href=\"psysml:3abfa817-381d-4c68-8935-6fa98a0aa2e6\" xlink:show=\"new\" xlink:title=\"psysml:3abfa817-381d-4c68-8935-6fa98a0aa2e6\" xlink:type=\"simple\"><path d=\"M34.29,132.12 C33.65,134.6 23.75,174.52 42.32,194 C49.33,201.35 77.35,200.04 87.32,202 C113.19,207.09 181.71,211.88 203.32,227 C220.99,239.37 233.85,260.02 242.24,277.37 \" fill=\"none\" id=\"E1-&gt;E4\" style=\"stroke: #A80036; stroke-width: 1.0; stroke-dasharray: 7.0,7.0;\"/><polygon fill=\"#A80036\" points=\"244.49,282.17,244.3071,272.3228,242.3748,277.6394,237.0582,275.7072,244.49,282.17\" style=\"stroke: #A80036; stroke-width: 1.0;\"/><text fill=\"#000000\" font-family=\"sans-serif\" font-size=\"13\" lengthAdjust=\"spacingAndGlyphs\" textLength=\"65\" x=\"183.32\" y=\"215.0669\">«import»*</text></a><!--MD5=[ccbd3af71bf83df0ec2a2db62d6d7130]\n",
       "link E1 to E6--><a href=\"psysml:38071c17-dcc7-47a2-931c-5199b5c10531\" target=\"_top\" title=\"psysml:38071c17-dcc7-47a2-931c-5199b5c10531\" xlink:actuate=\"onRequest\" xlink:href=\"psysml:38071c17-dcc7-47a2-931c-5199b5c10531\" xlink:show=\"new\" xlink:title=\"psysml:38071c17-dcc7-47a2-931c-5199b5c10531\" xlink:type=\"simple\"><path d=\"M26.1693,145.3513 C26.1165,145.4477 26.0635,145.5445 26.0105,145.6418 C25.9044,145.8363 25.7978,146.0325 25.6908,146.2304 C24.8349,147.8133 23.9523,149.5023 23.0614,151.284 C21.2797,154.8473 19.465,158.7813 17.765,162.9775 C10.965,179.7625 6,200.745 12.32,219 C20.295,242.035 36.9675,263.635 52.0413,279.7863 C59.5781,287.8619 66.7153,294.5753 72.1658,299.4248 C72.8471,300.031 73.502,300.6081 74.1281,301.1551 \" fill=\"none\" id=\"E1-&gt;E6\" style=\"stroke: #A80036; stroke-width: 1.0; stroke-dasharray: 7.0,7.0;\"/><polygon fill=\"#A80036\" points=\"74.1281,301.1551,69.982,292.2214,70.3627,297.8655,64.7187,298.2462,74.1281,301.1551\" style=\"stroke: #A80036; stroke-width: 1.0;\"/><text fill=\"#000000\" font-family=\"sans-serif\" font-size=\"13\" lengthAdjust=\"spacingAndGlyphs\" textLength=\"65\" x=\"13.32\" y=\"215.0669\">«import»*</text></a><!--MD5=[bfa3c8b0d15052fdf50ae9310b491027]\n",
       "link E8 to E7--><a href=\"psysml:84039e37-6732-4e81-a24d-af568a8fc4d2\" target=\"_top\" title=\"psysml:84039e37-6732-4e81-a24d-af568a8fc4d2\" xlink:actuate=\"onRequest\" xlink:href=\"psysml:84039e37-6732-4e81-a24d-af568a8fc4d2\" xlink:show=\"new\" xlink:title=\"psysml:84039e37-6732-4e81-a24d-af568a8fc4d2\" xlink:type=\"simple\"><path d=\"M232.99,154.29 C246.61,173.37 260.16,200.59 244.32,219 C228.78,237.06 210.49,212.85 191.32,227 C178.2,236.69 169.29,251.96 163.34,266.65 \" fill=\"none\" id=\"E8-&gt;E7\" style=\"stroke: #A80036; stroke-width: 1.0;\"/><polygon fill=\"#FFFFFF\" points=\"156.95,285.73,156.3404,265.4907,169.617,269.9329,156.95,285.73\" style=\"stroke: #A80036; stroke-width: 1.0;\"/><ellipse cx=\"160.0457\" cy=\"260.7199\" fill=\"#A80036\" rx=\"2\" ry=\"2\" style=\"stroke: #A80036; stroke-width: 1.0;\"/><ellipse cx=\"169.5289\" cy=\"263.8929\" fill=\"#A80036\" rx=\"2\" ry=\"2\" style=\"stroke: #A80036; stroke-width: 1.0;\"/></a><!--MD5=[c2be97adba6ddfe1c8f349fab141c927]\n",
       "link E9 to E4--><a href=\"psysml:f4a7c8b4-50d4-4d21-9428-75951a767795\" target=\"_top\" title=\"psysml:f4a7c8b4-50d4-4d21-9428-75951a767795\" xlink:actuate=\"onRequest\" xlink:href=\"psysml:f4a7c8b4-50d4-4d21-9428-75951a767795\" xlink:show=\"new\" xlink:title=\"psysml:f4a7c8b4-50d4-4d21-9428-75951a767795\" xlink:type=\"simple\"><path d=\"M267.5431,178.2415 C267.5354,178.35 267.5276,178.4585 267.5198,178.5671 C267.3951,180.3034 267.2673,182.0417 267.1366,183.7729 C266.8753,187.2352 266.6025,190.6688 266.32,194 C263.93,222.21 260.49,254.26 257.9,277.18 \" fill=\"none\" id=\"E9-&gt;E4\" style=\"stroke: #A80036; stroke-width: 1.0; stroke-dasharray: 7.0,7.0;\"/><polygon fill=\"#A80036\" points=\"257.33,282.22,262.3075,273.7215,257.8869,277.2511,254.3572,272.8305,257.33,282.22\" style=\"stroke: #A80036; stroke-width: 1.0;\"/><text fill=\"#000000\" font-family=\"sans-serif\" font-size=\"13\" lengthAdjust=\"spacingAndGlyphs\" textLength=\"65\" x=\"266.32\" y=\"215.0669\">«import»*</text></a><!--MD5=[feeac5eb423634930294aa81f2d25a4c]\n",
       "link E10 to E3--><a href=\"psysml:ff7299d7-bc25-43a3-abcf-daa45aa95a4b\" target=\"_top\" title=\"psysml:ff7299d7-bc25-43a3-abcf-daa45aa95a4b\" xlink:actuate=\"onRequest\" xlink:href=\"psysml:ff7299d7-bc25-43a3-abcf-daa45aa95a4b\" xlink:show=\"new\" xlink:title=\"psysml:ff7299d7-bc25-43a3-abcf-daa45aa95a4b\" xlink:type=\"simple\"><path d=\"M345.63,154.11 C359.77,173.07 373.99,200.22 358.32,219 C345.58,234.26 327.2,211.86 314.32,227 C300.64,243.07 304.33,374.79 307.28,443.95 \" fill=\"none\" id=\"E10-&gt;E3\" style=\"stroke: #A80036; stroke-width: 1.0;\"/><polygon fill=\"#FFFFFF\" points=\"308.18,463.98,300.3317,445.3144,314.3175,444.6841,308.18,463.98\" style=\"stroke: #A80036; stroke-width: 1.0;\"/><ellipse cx=\"302.0731\" cy=\"439.5301\" fill=\"#A80036\" rx=\"2\" ry=\"2\" style=\"stroke: #A80036; stroke-width: 1.0;\"/><ellipse cx=\"312.063\" cy=\"439.0799\" fill=\"#A80036\" rx=\"2\" ry=\"2\" style=\"stroke: #A80036; stroke-width: 1.0;\"/></a><!--MD5=[85f57232b988b5560b2e996613067e25]\n",
       "@startuml\r\n",
       "skinparam wrapWidth 300\r\n",
       "hide circle\r\n",
       "\r\n",
       "package \"PrivateImportTest\" as E1  [[psysml:8f933ba8-0ed5-4db5-b82c-58b1e568922b ]]  {\r\n",
       "package \"P1\" as E2  [[psysml:dc5a646f-7a70-4bb5-8a84-dd766b7ca58f ]]  {\r\n",
       "comp def \"A\" as E3  <<(T,blue) part  def>> [[psysml:e52e2a8f-f908-40ce-88b1-6459229e6290 ]] {\r\n",
       "}\r\n",
       "}\r\n",
       "package \"P2\" as E4  [[psysml:b07c7c49-60b3-45d9-ab30-3f9ccb4621b1 ]]  {\r\n",
       "}\r\n",
       "comp usage \"x: A \" as E5  <<(T,blue) part>> [[psysml:ae255e73-333e-4dec-b11e-e996fbedcc54 ]] {\r\n",
       "}\r\n",
       "package \"P3\" as E6  [[psysml:61bbaf9b-44aa-4d19-b1af-9f0be63c5dc6 ]]  {\r\n",
       "comp def \"B\" as E7  <<(T,blue) part  def>> [[psysml:f5eaf228-c184-457d-ba82-3236315ba9d3 ]] {\r\n",
       "}\r\n",
       "}\r\n",
       "comp usage \"z: B \" as E8  <<(T,blue) part>> [[psysml:3c42eaa7-d0d8-4753-a2b8-0968c7baa502 ]] {\r\n",
       "}\r\n",
       "package \"P4\" as E9  [[psysml:826bc35a-2948-4f0f-ac57-a46abe90dd77 ]]  {\r\n",
       "comp usage \"z1: A \" as E10  <<(T,blue) part>> [[psysml:bd10993a-8e6e-4149-83fc-2dc02c68e6fc ]] {\r\n",
       "}\r\n",
       "}\r\n",
       "}\r\n",
       "E4 ..> E2 [[psysml:9c76a3dc-4160-42f2-8d03-f28cee99dd8d ]] : <<import>>*\r\n",
       "E5 - -:|> E3 [[psysml:7e781afb-bb69-45b4-99ca-abeca0fc5181 ]] \r\n",
       "E1 ..> E4 [[psysml:3abfa817-381d-4c68-8935-6fa98a0aa2e6 ]] : <<import>>*\r\n",
       "E1 ..> E6 [[psysml:38071c17-dcc7-47a2-931c-5199b5c10531 ]] : <<import>>*\r\n",
       "E8 - -:|> E7 [[psysml:84039e37-6732-4e81-a24d-af568a8fc4d2 ]] \r\n",
       "E9 ..> E4 [[psysml:f4a7c8b4-50d4-4d21-9428-75951a767795 ]] : <<import>>*\r\n",
       "E10 - -:|> E3 [[psysml:ff7299d7-bc25-43a3-abcf-daa45aa95a4b ]] \r\n",
       "@enduml\r\n",
       "\n",
       "PlantUML version 1.2020.13(Sat Jun 13 12:26:38 UTC 2020)\n",
       "(EPL source distribution)\n",
       "Java Runtime: OpenJDK Runtime Environment\n",
       "JVM: OpenJDK 64-Bit Server VM\n",
       "Default Encoding: UTF-8\n",
       "Language: en\n",
       "Country: null\n",
       "--></g></svg>"
      ]
     },
     "execution_count": 24,
     "metadata": {},
     "output_type": "execute_result"
    }
   ],
   "source": [
    "%viz --style=\"STDCOLOR\" --view=\"Tree\" \"PrivateImportTest\""
   ]
  },
  {
   "cell_type": "code",
   "execution_count": 25,
   "id": "6857bc22",
   "metadata": {
    "execution": {
     "iopub.execute_input": "2022-08-19T08:19:17.644082Z",
     "iopub.status.busy": "2022-08-19T08:19:17.643617Z",
     "iopub.status.idle": "2022-08-19T08:19:17.647994Z",
     "shell.execute_reply": "2022-08-19T08:19:17.648312Z"
    }
   },
   "outputs": [
    {
     "data": {
      "image/svg+xml": [
       "<?xml version=\"1.0\" encoding=\"UTF-8\" standalone=\"no\"?><svg xmlns=\"http://www.w3.org/2000/svg\" xmlns:xlink=\"http://www.w3.org/1999/xlink\" contentScriptType=\"application/ecmascript\" contentStyleType=\"text/css\" height=\"12px\" preserveAspectRatio=\"none\" style=\"width:12px;height:12px;\" version=\"1.1\" viewBox=\"0 0 12 12\" width=\"12px\" zoomAndPan=\"magnify\"><defs/><g><!--MD5=[aeeef50f102b80d730deb6443d14f702]\n",
       "@startuml\r\n",
       "skinparam wrapWidth 300\r\n",
       "hide circle\r\n",
       "\r\n",
       "@enduml\r\n",
       "\n",
       "PlantUML version 1.2020.13(Sat Jun 13 12:26:38 UTC 2020)\n",
       "(EPL source distribution)\n",
       "Java Runtime: OpenJDK Runtime Environment\n",
       "JVM: OpenJDK 64-Bit Server VM\n",
       "Default Encoding: UTF-8\n",
       "Language: en\n",
       "Country: null\n",
       "--></g></svg>"
      ]
     },
     "execution_count": 25,
     "metadata": {},
     "output_type": "execute_result"
    }
   ],
   "source": [
    "%viz --style=\"STDCOLOR\" --view=\"State\" \"PrivateImportTest\""
   ]
  },
  {
   "cell_type": "code",
   "execution_count": 26,
   "id": "2568ca05",
   "metadata": {
    "execution": {
     "iopub.execute_input": "2022-08-19T08:19:17.698366Z",
     "iopub.status.busy": "2022-08-19T08:19:17.697919Z",
     "iopub.status.idle": "2022-08-19T08:19:17.738872Z",
     "shell.execute_reply": "2022-08-19T08:19:17.738469Z"
    }
   },
   "outputs": [
    {
     "data": {
      "image/svg+xml": [
       "<?xml version=\"1.0\" encoding=\"UTF-8\" standalone=\"no\"?><svg xmlns=\"http://www.w3.org/2000/svg\" xmlns:xlink=\"http://www.w3.org/1999/xlink\" contentScriptType=\"application/ecmascript\" contentStyleType=\"text/css\" height=\"574px\" preserveAspectRatio=\"none\" style=\"width:446px;height:574px;\" version=\"1.1\" viewBox=\"0 0 446 574\" width=\"446px\" zoomAndPan=\"magnify\"><defs><filter height=\"300%\" id=\"f8tz610jt0km0\" width=\"300%\" x=\"-1\" y=\"-1\"><feGaussianBlur result=\"blurOut\" stdDeviation=\"2.0\"/><feColorMatrix in=\"blurOut\" result=\"blurOut2\" type=\"matrix\" values=\"0 0 0 0 0 0 0 0 0 0 0 0 0 0 0 0 0 0 .4 0\"/><feOffset dx=\"4.0\" dy=\"4.0\" in=\"blurOut2\" result=\"blurOut3\"/><feBlend in=\"SourceGraphic\" in2=\"blurOut3\" mode=\"normal\"/></filter></defs><g><!--MD5=[fbc87193dbaf4d95561dea2c320d4a47]\n",
       "cluster E1--><a href=\"psysml:8f933ba8-0ed5-4db5-b82c-58b1e568922b\" target=\"_top\" title=\"psysml:8f933ba8-0ed5-4db5-b82c-58b1e568922b\" xlink:actuate=\"onRequest\" xlink:href=\"psysml:8f933ba8-0ed5-4db5-b82c-58b1e568922b\" xlink:show=\"new\" xlink:title=\"psysml:8f933ba8-0ed5-4db5-b82c-58b1e568922b\" xlink:type=\"simple\"><polygon fill=\"#FFFFFF\" filter=\"url(#f8tz610jt0km0)\" points=\"26.19,6,153.19,6,160.19,28.2969,424.19,28.2969,424.19,562,26.19,562,26.19,6\" style=\"stroke: #000000; stroke-width: 1.5;\"/><line style=\"stroke: #000000; stroke-width: 1.5;\" x1=\"26.19\" x2=\"160.19\" y1=\"28.2969\" y2=\"28.2969\"/><text fill=\"#000000\" font-family=\"sans-serif\" font-size=\"14\" font-weight=\"bold\" lengthAdjust=\"spacingAndGlyphs\" textLength=\"121\" x=\"30.19\" y=\"20.9951\">PrivateImportTest</text></a><!--MD5=[e4f7fae6ed58524ba242bb0b0d3be6b7]\n",
       "cluster E2--><a href=\"psysml:dc5a646f-7a70-4bb5-8a84-dd766b7ca58f\" target=\"_top\" title=\"psysml:dc5a646f-7a70-4bb5-8a84-dd766b7ca58f\" xlink:actuate=\"onRequest\" xlink:href=\"psysml:dc5a646f-7a70-4bb5-8a84-dd766b7ca58f\" xlink:show=\"new\" xlink:title=\"psysml:dc5a646f-7a70-4bb5-8a84-dd766b7ca58f\" xlink:type=\"simple\"><polygon fill=\"#FFFFFF\" filter=\"url(#f8tz610jt0km0)\" points=\"233.19,412,257.19,412,264.19,434.2969,375.19,434.2969,375.19,522,233.19,522,233.19,412\" style=\"stroke: #000000; stroke-width: 1.5;\"/><line style=\"stroke: #000000; stroke-width: 1.5;\" x1=\"233.19\" x2=\"264.19\" y1=\"434.2969\" y2=\"434.2969\"/><text fill=\"#000000\" font-family=\"sans-serif\" font-size=\"14\" font-weight=\"bold\" lengthAdjust=\"spacingAndGlyphs\" textLength=\"18\" x=\"237.19\" y=\"426.9951\">P1</text></a><!--MD5=[14e3b0961a2654348d326746436168a1]\n",
       "cluster E6--><a href=\"psysml:61bbaf9b-44aa-4d19-b1af-9f0be63c5dc6\" target=\"_top\" title=\"psysml:61bbaf9b-44aa-4d19-b1af-9f0be63c5dc6\" xlink:actuate=\"onRequest\" xlink:href=\"psysml:61bbaf9b-44aa-4d19-b1af-9f0be63c5dc6\" xlink:show=\"new\" xlink:title=\"psysml:61bbaf9b-44aa-4d19-b1af-9f0be63c5dc6\" xlink:type=\"simple\"><polygon fill=\"#FFFFFF\" filter=\"url(#f8tz610jt0km0)\" points=\"74.19,237,98.19,237,105.19,259.2969,216.19,259.2969,216.19,347,74.19,347,74.19,237\" style=\"stroke: #000000; stroke-width: 1.5;\"/><line style=\"stroke: #000000; stroke-width: 1.5;\" x1=\"74.19\" x2=\"105.19\" y1=\"259.2969\" y2=\"259.2969\"/><text fill=\"#000000\" font-family=\"sans-serif\" font-size=\"14\" font-weight=\"bold\" lengthAdjust=\"spacingAndGlyphs\" textLength=\"18\" x=\"78.19\" y=\"251.9951\">P3</text></a><!--MD5=[7f149f147074ac12df2cb0a7728a5fb0]\n",
       "cluster E9--><a href=\"psysml:826bc35a-2948-4f0f-ac57-a46abe90dd77\" target=\"_top\" title=\"psysml:826bc35a-2948-4f0f-ac57-a46abe90dd77\" xlink:actuate=\"onRequest\" xlink:href=\"psysml:826bc35a-2948-4f0f-ac57-a46abe90dd77\" xlink:show=\"new\" xlink:title=\"psysml:826bc35a-2948-4f0f-ac57-a46abe90dd77\" xlink:type=\"simple\"><polygon fill=\"#FFFFFF\" filter=\"url(#f8tz610jt0km0)\" points=\"267.19,65,291.19,65,298.19,87.2969,384.19,87.2969,384.19,172,267.19,172,267.19,65\" style=\"stroke: #000000; stroke-width: 1.5;\"/><line style=\"stroke: #000000; stroke-width: 1.5;\" x1=\"267.19\" x2=\"298.19\" y1=\"87.2969\" y2=\"87.2969\"/><text fill=\"#000000\" font-family=\"sans-serif\" font-size=\"14\" font-weight=\"bold\" lengthAdjust=\"spacingAndGlyphs\" textLength=\"18\" x=\"271.19\" y=\"79.9951\">P4</text></a><g id=\"E1.E2.E3\"><a href=\"psysml:e52e2a8f-f908-40ce-88b1-6459229e6290\" target=\"_top\" title=\"psysml:e52e2a8f-f908-40ce-88b1-6459229e6290\" xlink:actuate=\"onRequest\" xlink:href=\"psysml:e52e2a8f-f908-40ce-88b1-6459229e6290\" xlink:show=\"new\" xlink:title=\"psysml:e52e2a8f-f908-40ce-88b1-6459229e6290\" xlink:type=\"simple\"><rect fill=\"#FEFECE\" filter=\"url(#f8tz610jt0km0)\" height=\"42.9375\" id=\"E3\" style=\"stroke: #A80036; stroke-width: 1.5;\" width=\"75\" x=\"276.69\" y=\"455\"/><text fill=\"#000000\" font-family=\"sans-serif\" font-size=\"12\" font-style=\"italic\" lengthAdjust=\"spacingAndGlyphs\" textLength=\"68\" x=\"280.19\" y=\"471.1387\">«part  def»</text><text fill=\"#000000\" font-family=\"sans-serif\" font-size=\"12\" lengthAdjust=\"spacingAndGlyphs\" textLength=\"8\" x=\"310.19\" y=\"485.1074\">A</text></a></g><a href=\"psysml:b07c7c49-60b3-45d9-ab30-3f9ccb4621b1\" target=\"_top\" title=\"psysml:b07c7c49-60b3-45d9-ab30-3f9ccb4621b1\" xlink:actuate=\"onRequest\" xlink:href=\"psysml:b07c7c49-60b3-45d9-ab30-3f9ccb4621b1\" xlink:show=\"new\" xlink:title=\"psysml:b07c7c49-60b3-45d9-ab30-3f9ccb4621b1\" xlink:type=\"simple\"><polygon fill=\"#FFFFFF\" filter=\"url(#f8tz610jt0km0)\" points=\"240.19,275,264.19,275,271.19,297.2969,278.19,297.2969,278.19,327.5938,240.19,327.5938,240.19,275\" style=\"stroke: #000000; stroke-width: 1.5;\"/><line style=\"stroke: #000000; stroke-width: 1.5;\" x1=\"240.19\" x2=\"271.19\" y1=\"297.2969\" y2=\"297.2969\"/><text fill=\"#000000\" font-family=\"sans-serif\" font-size=\"14\" font-weight=\"bold\" lengthAdjust=\"spacingAndGlyphs\" textLength=\"18\" x=\"244.19\" y=\"289.9951\">P2</text></a><g id=\"E1.E5\"><a href=\"psysml:ae255e73-333e-4dec-b11e-e996fbedcc54\" target=\"_top\" title=\"psysml:ae255e73-333e-4dec-b11e-e996fbedcc54\" xlink:actuate=\"onRequest\" xlink:href=\"psysml:ae255e73-333e-4dec-b11e-e996fbedcc54\" xlink:show=\"new\" xlink:title=\"psysml:ae255e73-333e-4dec-b11e-e996fbedcc54\" xlink:type=\"simple\"><rect fill=\"#FEFECE\" filter=\"url(#f8tz610jt0km0)\" height=\"40\" id=\"E5\" rx=\"10\" ry=\"10\" style=\"stroke: #A80036; stroke-width: 1.5;\" width=\"50\" x=\"350.19\" y=\"281.5\"/><text fill=\"#000000\" font-family=\"sans-serif\" font-size=\"12\" lengthAdjust=\"spacingAndGlyphs\" textLength=\"22\" x=\"364.19\" y=\"297.6387\">x: A</text></a></g><g id=\"E1.E6.E7\"><a href=\"psysml:f5eaf228-c184-457d-ba82-3236315ba9d3\" target=\"_top\" title=\"psysml:f5eaf228-c184-457d-ba82-3236315ba9d3\" xlink:actuate=\"onRequest\" xlink:href=\"psysml:f5eaf228-c184-457d-ba82-3236315ba9d3\" xlink:show=\"new\" xlink:title=\"psysml:f5eaf228-c184-457d-ba82-3236315ba9d3\" xlink:type=\"simple\"><rect fill=\"#FEFECE\" filter=\"url(#f8tz610jt0km0)\" height=\"42.9375\" id=\"E7\" style=\"stroke: #A80036; stroke-width: 1.5;\" width=\"75\" x=\"117.69\" y=\"280\"/><text fill=\"#000000\" font-family=\"sans-serif\" font-size=\"12\" font-style=\"italic\" lengthAdjust=\"spacingAndGlyphs\" textLength=\"68\" x=\"121.19\" y=\"296.1387\">«part  def»</text><text fill=\"#000000\" font-family=\"sans-serif\" font-size=\"12\" lengthAdjust=\"spacingAndGlyphs\" textLength=\"8\" x=\"151.19\" y=\"310.1074\">B</text></a></g><g id=\"E1.E8\"><a href=\"psysml:3c42eaa7-d0d8-4753-a2b8-0968c7baa502\" target=\"_top\" title=\"psysml:3c42eaa7-d0d8-4753-a2b8-0968c7baa502\" xlink:actuate=\"onRequest\" xlink:href=\"psysml:3c42eaa7-d0d8-4753-a2b8-0968c7baa502\" xlink:show=\"new\" xlink:title=\"psysml:3c42eaa7-d0d8-4753-a2b8-0968c7baa502\" xlink:type=\"simple\"><rect fill=\"#FEFECE\" filter=\"url(#f8tz610jt0km0)\" height=\"40\" id=\"E8\" rx=\"10\" ry=\"10\" style=\"stroke: #A80036; stroke-width: 1.5;\" width=\"50\" x=\"190.19\" y=\"108\"/><text fill=\"#000000\" font-family=\"sans-serif\" font-size=\"12\" lengthAdjust=\"spacingAndGlyphs\" textLength=\"21\" x=\"204.69\" y=\"124.1387\">z: B</text></a></g><g id=\"E1.E9.E10\"><a href=\"psysml:bd10993a-8e6e-4149-83fc-2dc02c68e6fc\" target=\"_top\" title=\"psysml:bd10993a-8e6e-4149-83fc-2dc02c68e6fc\" xlink:actuate=\"onRequest\" xlink:href=\"psysml:bd10993a-8e6e-4149-83fc-2dc02c68e6fc\" xlink:show=\"new\" xlink:title=\"psysml:bd10993a-8e6e-4149-83fc-2dc02c68e6fc\" xlink:type=\"simple\"><rect fill=\"#FEFECE\" filter=\"url(#f8tz610jt0km0)\" height=\"40\" id=\"E10\" rx=\"10\" ry=\"10\" style=\"stroke: #A80036; stroke-width: 1.5;\" width=\"50\" x=\"310.19\" y=\"108\"/><text fill=\"#000000\" font-family=\"sans-serif\" font-size=\"12\" lengthAdjust=\"spacingAndGlyphs\" textLength=\"29\" x=\"320.69\" y=\"124.1387\">z1: A</text></a></g><!--MD5=[185131fc0dcab0a4505a2ebe144e961b]\n",
       "link E4 to E2--><a href=\"psysml:9c76a3dc-4160-42f2-8d03-f28cee99dd8d\" target=\"_top\" title=\"psysml:9c76a3dc-4160-42f2-8d03-f28cee99dd8d\" xlink:actuate=\"onRequest\" xlink:href=\"psysml:9c76a3dc-4160-42f2-8d03-f28cee99dd8d\" xlink:show=\"new\" xlink:title=\"psysml:9c76a3dc-4160-42f2-8d03-f28cee99dd8d\" xlink:type=\"simple\"><path d=\"M249.36,328.1 C245,340.8 240.37,356.48 238.19,371 C236.5225,382.1275 235.8388,393.9944 235.76,405.5898 C235.7502,407.0393 235.7498,408.4845 235.7581,409.9234 C235.7602,410.2832 235.7628,410.6425 235.766,411.0015 C235.7675,411.181 235.7692,411.3603 235.7711,411.5396 \" fill=\"none\" id=\"E4-&gt;E2\" style=\"stroke: #A80036; stroke-width: 1.0; stroke-dasharray: 7.0,7.0;\"/><polygon fill=\"#A80036\" points=\"235.7711,411.5396,239.6783,402.4989,235.7196,406.5398,231.6787,402.5812,235.7711,411.5396\" style=\"stroke: #A80036; stroke-width: 1.0;\"/><text fill=\"#000000\" font-family=\"sans-serif\" font-size=\"13\" lengthAdjust=\"spacingAndGlyphs\" textLength=\"65\" x=\"239.19\" y=\"384.0669\">«import»*</text></a><!--MD5=[e9be52314489bd878ff4c7144b63c9e1]\n",
       "link E5 to E3--><a href=\"psysml:7e781afb-bb69-45b4-99ca-abeca0fc5181\" target=\"_top\" title=\"psysml:7e781afb-bb69-45b4-99ca-abeca0fc5181\" xlink:actuate=\"onRequest\" xlink:href=\"psysml:7e781afb-bb69-45b4-99ca-abeca0fc5181\" xlink:show=\"new\" xlink:title=\"psysml:7e781afb-bb69-45b4-99ca-abeca0fc5181\" xlink:type=\"simple\"><path d=\"M368.43,321.68 C358.76,349.11 340.75,400.18 328.15,435.92 \" fill=\"none\" id=\"E5-&gt;E3\" style=\"stroke: #A80036; stroke-width: 1.0;\"/><polygon fill=\"#FFFFFF\" points=\"321.45,454.9,321.1694,434.6535,334.372,439.3109,321.45,454.9\" style=\"stroke: #A80036; stroke-width: 1.0;\"/><ellipse cx=\"324.9518\" cy=\"429.9435\" fill=\"#A80036\" rx=\"2\" ry=\"2\" style=\"stroke: #A80036; stroke-width: 1.0;\"/><ellipse cx=\"334.3822\" cy=\"433.2702\" fill=\"#A80036\" rx=\"2\" ry=\"2\" style=\"stroke: #A80036; stroke-width: 1.0;\"/></a><!--MD5=[ee384bb554873b72f85793eae40e290c]\n",
       "link E1 to E4--><a href=\"psysml:3abfa817-381d-4c68-8935-6fa98a0aa2e6\" target=\"_top\" title=\"psysml:3abfa817-381d-4c68-8935-6fa98a0aa2e6\" xlink:actuate=\"onRequest\" xlink:href=\"psysml:3abfa817-381d-4c68-8935-6fa98a0aa2e6\" xlink:show=\"new\" xlink:title=\"psysml:3abfa817-381d-4c68-8935-6fa98a0aa2e6\" xlink:type=\"simple\"><path d=\"M34.16,129.12 C33.57,131.47 24.44,169.5 42.19,188 C49.22,195.33 77.22,194.08 87.19,196 C114.15,201.18 185.56,205.45 208.19,221 C225.61,232.97 238.41,253.04 246.84,270.01 \" fill=\"none\" id=\"E1-&gt;E4\" style=\"stroke: #A80036; stroke-width: 1.0; stroke-dasharray: 7.0,7.0;\"/><polygon fill=\"#A80036\" points=\"249.1,274.71,248.8034,264.8656,246.9326,270.2042,241.5941,268.3334,249.1,274.71\" style=\"stroke: #A80036; stroke-width: 1.0;\"/><text fill=\"#000000\" font-family=\"sans-serif\" font-size=\"13\" lengthAdjust=\"spacingAndGlyphs\" textLength=\"65\" x=\"190.19\" y=\"209.0669\">«import»*</text></a><!--MD5=[ccbd3af71bf83df0ec2a2db62d6d7130]\n",
       "link E1 to E6--><a href=\"psysml:38071c17-dcc7-47a2-931c-5199b5c10531\" target=\"_top\" title=\"psysml:38071c17-dcc7-47a2-931c-5199b5c10531\" xlink:actuate=\"onRequest\" xlink:href=\"psysml:38071c17-dcc7-47a2-931c-5199b5c10531\" xlink:show=\"new\" xlink:title=\"psysml:38071c17-dcc7-47a2-931c-5199b5c10531\" xlink:type=\"simple\"><path d=\"M26.0931,141.8852 C26.0406,141.9783 25.988,142.0717 25.9352,142.1656 C25.8298,142.3533 25.7239,142.5426 25.6176,142.7336 C24.7671,144.2611 23.8899,145.8912 23.0044,147.6107 C21.2332,151.0498 19.4284,154.8469 17.7363,158.8975 C10.9675,175.1 6,195.36 12.19,213 C20.175,235.765 36.8475,257.005 51.9187,272.8563 C59.4544,280.7819 66.5897,287.3603 72.0386,292.1086 C72.7197,292.7021 73.3745,293.2671 74.0004,293.8025 \" fill=\"none\" id=\"E1-&gt;E6\" style=\"stroke: #A80036; stroke-width: 1.0; stroke-dasharray: 7.0,7.0;\"/><polygon fill=\"#A80036\" points=\"74.0004,293.8025,69.7613,284.9126,70.2008,290.5523,64.5611,290.9918,74.0004,293.8025\" style=\"stroke: #A80036; stroke-width: 1.0;\"/><text fill=\"#000000\" font-family=\"sans-serif\" font-size=\"13\" lengthAdjust=\"spacingAndGlyphs\" textLength=\"65\" x=\"13.19\" y=\"209.0669\">«import»*</text></a><!--MD5=[bfa3c8b0d15052fdf50ae9310b491027]\n",
       "link E8 to E7--><a href=\"psysml:84039e37-6732-4e81-a24d-af568a8fc4d2\" target=\"_top\" title=\"psysml:84039e37-6732-4e81-a24d-af568a8fc4d2\" xlink:actuate=\"onRequest\" xlink:href=\"psysml:84039e37-6732-4e81-a24d-af568a8fc4d2\" xlink:show=\"new\" xlink:title=\"psysml:84039e37-6732-4e81-a24d-af568a8fc4d2\" xlink:type=\"simple\"><path d=\"M231.6,148.32 C245.18,166.74 259.91,194.37 244.19,213 C230.52,229.19 214.35,208.57 197.19,221 C183.72,230.76 174.18,246.16 167.64,260.83 \" fill=\"none\" id=\"E8-&gt;E7\" style=\"stroke: #A80036; stroke-width: 1.0;\"/><polygon fill=\"#FFFFFF\" points=\"160.49,279.77,160.6578,259.5222,173.7541,264.4708,160.49,279.77\" style=\"stroke: #A80036; stroke-width: 1.0;\"/><ellipse cx=\"164.5435\" cy=\"254.8971\" fill=\"#A80036\" rx=\"2\" ry=\"2\" style=\"stroke: #A80036; stroke-width: 1.0;\"/><ellipse cx=\"173.8979\" cy=\"258.4318\" fill=\"#A80036\" rx=\"2\" ry=\"2\" style=\"stroke: #A80036; stroke-width: 1.0;\"/></a><!--MD5=[c2be97adba6ddfe1c8f349fab141c927]\n",
       "link E9 to E4--><a href=\"psysml:f4a7c8b4-50d4-4d21-9428-75951a767795\" target=\"_top\" title=\"psysml:f4a7c8b4-50d4-4d21-9428-75951a767795\" xlink:actuate=\"onRequest\" xlink:href=\"psysml:f4a7c8b4-50d4-4d21-9428-75951a767795\" xlink:show=\"new\" xlink:title=\"psysml:f4a7c8b4-50d4-4d21-9428-75951a767795\" xlink:type=\"simple\"><path d=\"M272.4624,172.0747 C272.4319,172.4874 272.4012,172.9004 272.3704,173.3135 C272.247,174.9658 272.1207,176.6201 271.9919,178.2676 C271.7342,181.5625 271.4663,184.83 271.19,188 C268.78,215.65 265.37,247.06 262.81,269.64 \" fill=\"none\" id=\"E9-&gt;E4\" style=\"stroke: #A80036; stroke-width: 1.0; stroke-dasharray: 7.0,7.0;\"/><polygon fill=\"#A80036\" points=\"262.24,274.61,267.2443,266.1273,262.8126,269.6429,259.297,265.2111,262.24,274.61\" style=\"stroke: #A80036; stroke-width: 1.0;\"/><text fill=\"#000000\" font-family=\"sans-serif\" font-size=\"13\" lengthAdjust=\"spacingAndGlyphs\" textLength=\"65\" x=\"271.19\" y=\"209.0669\">«import»*</text></a><!--MD5=[feeac5eb423634930294aa81f2d25a4c]\n",
       "link E10 to E3--><a href=\"psysml:ff7299d7-bc25-43a3-abcf-daa45aa95a4b\" target=\"_top\" title=\"psysml:ff7299d7-bc25-43a3-abcf-daa45aa95a4b\" xlink:actuate=\"onRequest\" xlink:href=\"psysml:ff7299d7-bc25-43a3-abcf-daa45aa95a4b\" xlink:show=\"new\" xlink:title=\"psysml:ff7299d7-bc25-43a3-abcf-daa45aa95a4b\" xlink:type=\"simple\"><path d=\"M349.14,148.02 C360.83,166.48 373.39,194.37 358.19,213 C347.01,226.71 330.51,207.4 319.19,221 C305.92,236.95 309.43,366.42 312.24,434.3 \" fill=\"none\" id=\"E10-&gt;E3\" style=\"stroke: #A80036; stroke-width: 1.0;\"/><polygon fill=\"#FFFFFF\" points=\"313.14,454.71,305.3057,436.0385,319.2919,435.4187,313.14,454.71\" style=\"stroke: #A80036; stroke-width: 1.0;\"/><ellipse cx=\"307.0513\" cy=\"430.2556\" fill=\"#A80036\" rx=\"2\" ry=\"2\" style=\"stroke: #A80036; stroke-width: 1.0;\"/><ellipse cx=\"317.0415\" cy=\"429.8129\" fill=\"#A80036\" rx=\"2\" ry=\"2\" style=\"stroke: #A80036; stroke-width: 1.0;\"/></a><!--MD5=[eb619e2226f1c3d33d653f60ac78d53c]\n",
       "@startuml\r\n",
       "skinparam ranksep 10\r\n",
       "skinparam rectangle {\r\n",
       " backgroundColor<<block>> LightGreen\r\n",
       "}\r\n",
       "skinparam wrapWidth 300\r\n",
       "hide circle\r\n",
       "\r\n",
       "package \"PrivateImportTest\" as E1  [[psysml:8f933ba8-0ed5-4db5-b82c-58b1e568922b ]]  {\r\n",
       "package \"P1\" as E2  [[psysml:dc5a646f-7a70-4bb5-8a84-dd766b7ca58f ]]  {\r\n",
       "rec def \"A\" as E3  <<(T,blue) part  def>> [[psysml:e52e2a8f-f908-40ce-88b1-6459229e6290 ]] {\r\n",
       "}\r\n",
       "}\r\n",
       "package \"P2\" as E4  [[psysml:b07c7c49-60b3-45d9-ab30-3f9ccb4621b1 ]]  {\r\n",
       "}\r\n",
       "rec usage \"x: A\" as E5  [[psysml:ae255e73-333e-4dec-b11e-e996fbedcc54 ]] {\r\n",
       "}\r\n",
       "package \"P3\" as E6  [[psysml:61bbaf9b-44aa-4d19-b1af-9f0be63c5dc6 ]]  {\r\n",
       "rec def \"B\" as E7  <<(T,blue) part  def>> [[psysml:f5eaf228-c184-457d-ba82-3236315ba9d3 ]] {\r\n",
       "}\r\n",
       "}\r\n",
       "rec usage \"z: B\" as E8  [[psysml:3c42eaa7-d0d8-4753-a2b8-0968c7baa502 ]] {\r\n",
       "}\r\n",
       "package \"P4\" as E9  [[psysml:826bc35a-2948-4f0f-ac57-a46abe90dd77 ]]  {\r\n",
       "rec usage \"z1: A\" as E10  [[psysml:bd10993a-8e6e-4149-83fc-2dc02c68e6fc ]] {\r\n",
       "}\r\n",
       "}\r\n",
       "}\r\n",
       "E4 ..> E2 [[psysml:9c76a3dc-4160-42f2-8d03-f28cee99dd8d ]] : <<import>>*\r\n",
       "E5 - -:|> E3 [[psysml:7e781afb-bb69-45b4-99ca-abeca0fc5181 ]] \r\n",
       "E1 ..> E4 [[psysml:3abfa817-381d-4c68-8935-6fa98a0aa2e6 ]] : <<import>>*\r\n",
       "E1 ..> E6 [[psysml:38071c17-dcc7-47a2-931c-5199b5c10531 ]] : <<import>>*\r\n",
       "E8 - -:|> E7 [[psysml:84039e37-6732-4e81-a24d-af568a8fc4d2 ]] \r\n",
       "E9 ..> E4 [[psysml:f4a7c8b4-50d4-4d21-9428-75951a767795 ]] : <<import>>*\r\n",
       "E10 - -:|> E3 [[psysml:ff7299d7-bc25-43a3-abcf-daa45aa95a4b ]] \r\n",
       "@enduml\r\n",
       "\n",
       "PlantUML version 1.2020.13(Sat Jun 13 12:26:38 UTC 2020)\n",
       "(EPL source distribution)\n",
       "Java Runtime: OpenJDK Runtime Environment\n",
       "JVM: OpenJDK 64-Bit Server VM\n",
       "Default Encoding: UTF-8\n",
       "Language: en\n",
       "Country: null\n",
       "--></g></svg>"
      ]
     },
     "execution_count": 26,
     "metadata": {},
     "output_type": "execute_result"
    }
   ],
   "source": [
    "%viz --style=\"STDCOLOR\" --view=\"Interconnection\" \"PrivateImportTest\""
   ]
  },
  {
   "cell_type": "code",
   "execution_count": 27,
   "id": "e8f4ad03",
   "metadata": {
    "execution": {
     "iopub.execute_input": "2022-08-19T08:19:17.788514Z",
     "iopub.status.busy": "2022-08-19T08:19:17.788045Z",
     "iopub.status.idle": "2022-08-19T08:19:17.792366Z",
     "shell.execute_reply": "2022-08-19T08:19:17.792681Z"
    }
   },
   "outputs": [
    {
     "data": {
      "image/svg+xml": [
       "<?xml version=\"1.0\" encoding=\"UTF-8\" standalone=\"no\"?><svg xmlns=\"http://www.w3.org/2000/svg\" xmlns:xlink=\"http://www.w3.org/1999/xlink\" contentScriptType=\"application/ecmascript\" contentStyleType=\"text/css\" height=\"12px\" preserveAspectRatio=\"none\" style=\"width:12px;height:12px;\" version=\"1.1\" viewBox=\"0 0 12 12\" width=\"12px\" zoomAndPan=\"magnify\"><defs/><g><!--MD5=[9863325348a96a77dacc89509d8ee65e]\n",
       "@startuml\r\n",
       "skinparam ranksep 8\r\n",
       "skinparam wrapWidth 300\r\n",
       "hide circle\r\n",
       "\r\n",
       "@enduml\r\n",
       "\n",
       "PlantUML version 1.2020.13(Sat Jun 13 12:26:38 UTC 2020)\n",
       "(EPL source distribution)\n",
       "Java Runtime: OpenJDK Runtime Environment\n",
       "JVM: OpenJDK 64-Bit Server VM\n",
       "Default Encoding: UTF-8\n",
       "Language: en\n",
       "Country: null\n",
       "--></g></svg>"
      ]
     },
     "execution_count": 27,
     "metadata": {},
     "output_type": "execute_result"
    }
   ],
   "source": [
    "%viz --style=\"STDCOLOR\" --view=\"Action\" \"PrivateImportTest\""
   ]
  },
  {
   "cell_type": "code",
   "execution_count": 28,
   "id": "20af885b",
   "metadata": {
    "execution": {
     "iopub.execute_input": "2022-08-19T08:19:17.842808Z",
     "iopub.status.busy": "2022-08-19T08:19:17.842343Z",
     "iopub.status.idle": "2022-08-19T08:19:17.847122Z",
     "shell.execute_reply": "2022-08-19T08:19:17.847441Z"
    }
   },
   "outputs": [
    {
     "data": {
      "image/svg+xml": [
       "<?xml version=\"1.0\" encoding=\"UTF-8\" standalone=\"no\"?><svg xmlns=\"http://www.w3.org/2000/svg\" xmlns:xlink=\"http://www.w3.org/1999/xlink\" contentScriptType=\"application/ecmascript\" contentStyleType=\"text/css\" height=\"12px\" preserveAspectRatio=\"none\" style=\"width:12px;height:12px;\" version=\"1.1\" viewBox=\"0 0 12 12\" width=\"12px\" zoomAndPan=\"magnify\"><defs/><g><!--MD5=[6c4bca67b4d71758159a5a7f1f1e1fc2]\n",
       "@startuml\r\n",
       "skinparam roundcorner 20\r\n",
       "skinparam BoxPadding 20\r\n",
       "skinparam SequenceBoxBackgroundColor #white\r\n",
       "skinparam style strictuml\r\n",
       "skinparam maxMessageSize 100\r\n",
       "skinparam wrapWidth 300\r\n",
       "hide circle\r\n",
       "\r\n",
       "@enduml\r\n",
       "\n",
       "PlantUML version 1.2020.13(Sat Jun 13 12:26:38 UTC 2020)\n",
       "(EPL source distribution)\n",
       "Java Runtime: OpenJDK Runtime Environment\n",
       "JVM: OpenJDK 64-Bit Server VM\n",
       "Default Encoding: UTF-8\n",
       "Language: en\n",
       "Country: null\n",
       "--></g></svg>"
      ]
     },
     "execution_count": 28,
     "metadata": {},
     "output_type": "execute_result"
    }
   ],
   "source": [
    "%viz --style=\"STDCOLOR\" --view=\"Sequence\" \"PrivateImportTest\""
   ]
  },
  {
   "cell_type": "code",
   "execution_count": 29,
   "id": "58187003",
   "metadata": {
    "execution": {
     "iopub.execute_input": "2022-08-19T08:19:17.897790Z",
     "iopub.status.busy": "2022-08-19T08:19:17.897299Z",
     "iopub.status.idle": "2022-08-19T08:19:17.934197Z",
     "shell.execute_reply": "2022-08-19T08:19:17.932632Z"
    }
   },
   "outputs": [
    {
     "data": {
      "image/svg+xml": [
       "<?xml version=\"1.0\" encoding=\"UTF-8\" standalone=\"no\"?><svg xmlns=\"http://www.w3.org/2000/svg\" xmlns:xlink=\"http://www.w3.org/1999/xlink\" contentScriptType=\"application/ecmascript\" contentStyleType=\"text/css\" height=\"586px\" preserveAspectRatio=\"none\" style=\"width:433px;height:586px;\" version=\"1.1\" viewBox=\"0 0 433 586\" width=\"433px\" zoomAndPan=\"magnify\"><defs><filter height=\"300%\" id=\"f24h8yzs8tsic\" width=\"300%\" x=\"-1\" y=\"-1\"><feGaussianBlur result=\"blurOut\" stdDeviation=\"2.0\"/><feColorMatrix in=\"blurOut\" result=\"blurOut2\" type=\"matrix\" values=\"0 0 0 0 0 0 0 0 0 0 0 0 0 0 0 0 0 0 .4 0\"/><feOffset dx=\"4.0\" dy=\"4.0\" in=\"blurOut2\" result=\"blurOut3\"/><feBlend in=\"SourceGraphic\" in2=\"blurOut3\" mode=\"normal\"/></filter></defs><g><!--MD5=[fbc87193dbaf4d95561dea2c320d4a47]\n",
       "cluster E1--><a href=\"psysml:8f933ba8-0ed5-4db5-b82c-58b1e568922b\" target=\"_top\" title=\"psysml:8f933ba8-0ed5-4db5-b82c-58b1e568922b\" xlink:actuate=\"onRequest\" xlink:href=\"psysml:8f933ba8-0ed5-4db5-b82c-58b1e568922b\" xlink:show=\"new\" xlink:title=\"psysml:8f933ba8-0ed5-4db5-b82c-58b1e568922b\" xlink:type=\"simple\"><polygon fill=\"#FFFFFF\" filter=\"url(#f24h8yzs8tsic)\" points=\"26.32,6,153.32,6,160.32,28.2969,411.32,28.2969,411.32,574,26.32,574,26.32,6\" style=\"stroke: #000000; stroke-width: 1.5;\"/><line style=\"stroke: #000000; stroke-width: 1.5;\" x1=\"26.32\" x2=\"160.32\" y1=\"28.2969\" y2=\"28.2969\"/><text fill=\"#000000\" font-family=\"sans-serif\" font-size=\"14\" font-weight=\"bold\" lengthAdjust=\"spacingAndGlyphs\" textLength=\"121\" x=\"30.32\" y=\"20.9951\">PrivateImportTest</text></a><!--MD5=[e4f7fae6ed58524ba242bb0b0d3be6b7]\n",
       "cluster E2--><a href=\"psysml:dc5a646f-7a70-4bb5-8a84-dd766b7ca58f\" target=\"_top\" title=\"psysml:dc5a646f-7a70-4bb5-8a84-dd766b7ca58f\" xlink:actuate=\"onRequest\" xlink:href=\"psysml:dc5a646f-7a70-4bb5-8a84-dd766b7ca58f\" xlink:show=\"new\" xlink:title=\"psysml:dc5a646f-7a70-4bb5-8a84-dd766b7ca58f\" xlink:type=\"simple\"><polygon fill=\"#FFFFFF\" filter=\"url(#f24h8yzs8tsic)\" points=\"231.32,421,255.32,421,262.32,443.2969,368.32,443.2969,368.32,534,231.32,534,231.32,421\" style=\"stroke: #000000; stroke-width: 1.5;\"/><line style=\"stroke: #000000; stroke-width: 1.5;\" x1=\"231.32\" x2=\"262.32\" y1=\"443.2969\" y2=\"443.2969\"/><text fill=\"#000000\" font-family=\"sans-serif\" font-size=\"14\" font-weight=\"bold\" lengthAdjust=\"spacingAndGlyphs\" textLength=\"18\" x=\"235.32\" y=\"435.9951\">P1</text></a><!--MD5=[14e3b0961a2654348d326746436168a1]\n",
       "cluster E6--><a href=\"psysml:61bbaf9b-44aa-4d19-b1af-9f0be63c5dc6\" target=\"_top\" title=\"psysml:61bbaf9b-44aa-4d19-b1af-9f0be63c5dc6\" xlink:actuate=\"onRequest\" xlink:href=\"psysml:61bbaf9b-44aa-4d19-b1af-9f0be63c5dc6\" xlink:show=\"new\" xlink:title=\"psysml:61bbaf9b-44aa-4d19-b1af-9f0be63c5dc6\" xlink:type=\"simple\"><polygon fill=\"#FFFFFF\" filter=\"url(#f24h8yzs8tsic)\" points=\"74.32,243,98.32,243,105.32,265.2969,211.32,265.2969,211.32,356,74.32,356,74.32,243\" style=\"stroke: #000000; stroke-width: 1.5;\"/><line style=\"stroke: #000000; stroke-width: 1.5;\" x1=\"74.32\" x2=\"105.32\" y1=\"265.2969\" y2=\"265.2969\"/><text fill=\"#000000\" font-family=\"sans-serif\" font-size=\"14\" font-weight=\"bold\" lengthAdjust=\"spacingAndGlyphs\" textLength=\"18\" x=\"78.32\" y=\"257.9951\">P3</text></a><!--MD5=[7f149f147074ac12df2cb0a7728a5fb0]\n",
       "cluster E9--><a href=\"psysml:826bc35a-2948-4f0f-ac57-a46abe90dd77\" target=\"_top\" title=\"psysml:826bc35a-2948-4f0f-ac57-a46abe90dd77\" xlink:actuate=\"onRequest\" xlink:href=\"psysml:826bc35a-2948-4f0f-ac57-a46abe90dd77\" xlink:show=\"new\" xlink:title=\"psysml:826bc35a-2948-4f0f-ac57-a46abe90dd77\" xlink:type=\"simple\"><polygon fill=\"#FFFFFF\" filter=\"url(#f24h8yzs8tsic)\" points=\"262.32,65,286.32,65,293.32,87.2969,371.32,87.2969,371.32,178,262.32,178,262.32,65\" style=\"stroke: #000000; stroke-width: 1.5;\"/><line style=\"stroke: #000000; stroke-width: 1.5;\" x1=\"262.32\" x2=\"293.32\" y1=\"87.2969\" y2=\"87.2969\"/><text fill=\"#000000\" font-family=\"sans-serif\" font-size=\"14\" font-weight=\"bold\" lengthAdjust=\"spacingAndGlyphs\" textLength=\"18\" x=\"266.32\" y=\"79.9951\">P4</text></a><!--MD5=[270fce915f116d4de14055a7c1d9a0f3]\n",
       "class E5--><a href=\"psysml:ae255e73-333e-4dec-b11e-e996fbedcc54\" target=\"_top\" title=\"psysml:ae255e73-333e-4dec-b11e-e996fbedcc54\" xlink:actuate=\"onRequest\" xlink:href=\"psysml:ae255e73-333e-4dec-b11e-e996fbedcc54\" xlink:show=\"new\" xlink:title=\"psysml:ae255e73-333e-4dec-b11e-e996fbedcc54\" xlink:type=\"simple\"><rect fill=\"#FEFECE\" filter=\"url(#f24h8yzs8tsic)\" height=\"45.9375\" id=\"E5\" rx=\"10\" ry=\"10\" style=\"stroke: #A80036; stroke-width: 1.5;\" width=\"42\" x=\"345.32\" y=\"286\"/><text fill=\"#000000\" font-family=\"sans-serif\" font-size=\"12\" font-style=\"italic\" lengthAdjust=\"spacingAndGlyphs\" textLength=\"40\" x=\"346.32\" y=\"302.1387\">«part»</text><text fill=\"#000000\" font-family=\"sans-serif\" font-size=\"12\" lengthAdjust=\"spacingAndGlyphs\" textLength=\"22\" x=\"353.32\" y=\"316.1074\">x: A</text><line style=\"stroke: #A80036; stroke-width: 1.5;\" x1=\"346.32\" x2=\"386.32\" y1=\"323.9375\" y2=\"323.9375\"/></a><!--MD5=[b9389687b975829384b498ac4b7476b2]\n",
       "class E8--><a href=\"psysml:3c42eaa7-d0d8-4753-a2b8-0968c7baa502\" target=\"_top\" title=\"psysml:3c42eaa7-d0d8-4753-a2b8-0968c7baa502\" xlink:actuate=\"onRequest\" xlink:href=\"psysml:3c42eaa7-d0d8-4753-a2b8-0968c7baa502\" xlink:show=\"new\" xlink:title=\"psysml:3c42eaa7-d0d8-4753-a2b8-0968c7baa502\" xlink:type=\"simple\"><rect fill=\"#FEFECE\" filter=\"url(#f24h8yzs8tsic)\" height=\"45.9375\" id=\"E8\" rx=\"10\" ry=\"10\" style=\"stroke: #A80036; stroke-width: 1.5;\" width=\"42\" x=\"193.32\" y=\"108\"/><text fill=\"#000000\" font-family=\"sans-serif\" font-size=\"12\" font-style=\"italic\" lengthAdjust=\"spacingAndGlyphs\" textLength=\"40\" x=\"194.32\" y=\"124.1387\">«part»</text><text fill=\"#000000\" font-family=\"sans-serif\" font-size=\"12\" lengthAdjust=\"spacingAndGlyphs\" textLength=\"21\" x=\"201.82\" y=\"138.1074\">z: B</text><line style=\"stroke: #A80036; stroke-width: 1.5;\" x1=\"194.32\" x2=\"234.32\" y1=\"145.9375\" y2=\"145.9375\"/></a><!--MD5=[09b614a08d8cba4a07c9adeb5e0fee81]\n",
       "class E3--><a href=\"psysml:e52e2a8f-f908-40ce-88b1-6459229e6290\" target=\"_top\" title=\"psysml:e52e2a8f-f908-40ce-88b1-6459229e6290\" xlink:actuate=\"onRequest\" xlink:href=\"psysml:e52e2a8f-f908-40ce-88b1-6459229e6290\" xlink:show=\"new\" xlink:title=\"psysml:e52e2a8f-f908-40ce-88b1-6459229e6290\" xlink:type=\"simple\"><rect fill=\"#FEFECE\" filter=\"url(#f24h8yzs8tsic)\" height=\"45.9375\" id=\"E3\" style=\"stroke: #A80036; stroke-width: 1.5;\" width=\"70\" x=\"274.32\" y=\"464\"/><text fill=\"#000000\" font-family=\"sans-serif\" font-size=\"12\" font-style=\"italic\" lengthAdjust=\"spacingAndGlyphs\" textLength=\"68\" x=\"275.32\" y=\"480.1387\">«part  def»</text><text fill=\"#000000\" font-family=\"sans-serif\" font-size=\"12\" lengthAdjust=\"spacingAndGlyphs\" textLength=\"8\" x=\"305.32\" y=\"494.1074\">A</text><line style=\"stroke: #A80036; stroke-width: 1.5;\" x1=\"275.32\" x2=\"343.32\" y1=\"501.9375\" y2=\"501.9375\"/></a><a href=\"psysml:b07c7c49-60b3-45d9-ab30-3f9ccb4621b1\" target=\"_top\" title=\"psysml:b07c7c49-60b3-45d9-ab30-3f9ccb4621b1\" xlink:actuate=\"onRequest\" xlink:href=\"psysml:b07c7c49-60b3-45d9-ab30-3f9ccb4621b1\" xlink:show=\"new\" xlink:title=\"psysml:b07c7c49-60b3-45d9-ab30-3f9ccb4621b1\" xlink:type=\"simple\"><polygon fill=\"#FFFFFF\" filter=\"url(#f24h8yzs8tsic)\" points=\"235.32,282.5,259.32,282.5,266.32,304.7969,273.32,304.7969,273.32,335.0938,235.32,335.0938,235.32,282.5\" style=\"stroke: #000000; stroke-width: 1.5;\"/><line style=\"stroke: #000000; stroke-width: 1.5;\" x1=\"235.32\" x2=\"266.32\" y1=\"304.7969\" y2=\"304.7969\"/><text fill=\"#000000\" font-family=\"sans-serif\" font-size=\"14\" font-weight=\"bold\" lengthAdjust=\"spacingAndGlyphs\" textLength=\"18\" x=\"239.32\" y=\"297.4951\">P2</text></a><!--MD5=[2156ba9850f5573cc1fc38a6a4b2f02b]\n",
       "class E7--><a href=\"psysml:f5eaf228-c184-457d-ba82-3236315ba9d3\" target=\"_top\" title=\"psysml:f5eaf228-c184-457d-ba82-3236315ba9d3\" xlink:actuate=\"onRequest\" xlink:href=\"psysml:f5eaf228-c184-457d-ba82-3236315ba9d3\" xlink:show=\"new\" xlink:title=\"psysml:f5eaf228-c184-457d-ba82-3236315ba9d3\" xlink:type=\"simple\"><rect fill=\"#FEFECE\" filter=\"url(#f24h8yzs8tsic)\" height=\"45.9375\" id=\"E7\" style=\"stroke: #A80036; stroke-width: 1.5;\" width=\"70\" x=\"117.32\" y=\"286\"/><text fill=\"#000000\" font-family=\"sans-serif\" font-size=\"12\" font-style=\"italic\" lengthAdjust=\"spacingAndGlyphs\" textLength=\"68\" x=\"118.32\" y=\"302.1387\">«part  def»</text><text fill=\"#000000\" font-family=\"sans-serif\" font-size=\"12\" lengthAdjust=\"spacingAndGlyphs\" textLength=\"8\" x=\"148.32\" y=\"316.1074\">B</text><line style=\"stroke: #A80036; stroke-width: 1.5;\" x1=\"118.32\" x2=\"186.32\" y1=\"323.9375\" y2=\"323.9375\"/></a><!--MD5=[96f4274e9e20536e775497830990834d]\n",
       "class E10--><a href=\"psysml:bd10993a-8e6e-4149-83fc-2dc02c68e6fc\" target=\"_top\" title=\"psysml:bd10993a-8e6e-4149-83fc-2dc02c68e6fc\" xlink:actuate=\"onRequest\" xlink:href=\"psysml:bd10993a-8e6e-4149-83fc-2dc02c68e6fc\" xlink:show=\"new\" xlink:title=\"psysml:bd10993a-8e6e-4149-83fc-2dc02c68e6fc\" xlink:type=\"simple\"><rect fill=\"#FEFECE\" filter=\"url(#f24h8yzs8tsic)\" height=\"45.9375\" id=\"E10\" rx=\"10\" ry=\"10\" style=\"stroke: #A80036; stroke-width: 1.5;\" width=\"42\" x=\"305.32\" y=\"108\"/><text fill=\"#000000\" font-family=\"sans-serif\" font-size=\"12\" font-style=\"italic\" lengthAdjust=\"spacingAndGlyphs\" textLength=\"40\" x=\"306.32\" y=\"124.1387\">«part»</text><text fill=\"#000000\" font-family=\"sans-serif\" font-size=\"12\" lengthAdjust=\"spacingAndGlyphs\" textLength=\"29\" x=\"309.82\" y=\"138.1074\">z1: A</text><line style=\"stroke: #A80036; stroke-width: 1.5;\" x1=\"306.32\" x2=\"346.32\" y1=\"145.9375\" y2=\"145.9375\"/></a><!--MD5=[185131fc0dcab0a4505a2ebe144e961b]\n",
       "link E4 to E2--><a href=\"psysml:9c76a3dc-4160-42f2-8d03-f28cee99dd8d\" target=\"_top\" title=\"psysml:9c76a3dc-4160-42f2-8d03-f28cee99dd8d\" xlink:actuate=\"onRequest\" xlink:href=\"psysml:9c76a3dc-4160-42f2-8d03-f28cee99dd8d\" xlink:show=\"new\" xlink:title=\"psysml:9c76a3dc-4160-42f2-8d03-f28cee99dd8d\" xlink:type=\"simple\"><path d=\"M244.71,335.52 C240.28,348.61 235.53,364.94 233.32,380 C231.6325,391.49 231.1388,403.7444 231.3534,415.6911 C231.3803,417.1844 231.4182,418.673 231.4662,420.1546 C231.4722,420.3398 231.4784,420.5249 231.4847,420.7099 \" fill=\"none\" id=\"E4-&gt;E2\" style=\"stroke: #A80036; stroke-width: 1.0; stroke-dasharray: 7.0,7.0;\"/><polygon fill=\"#A80036\" points=\"231.4847,420.7099,235.1752,411.5786,231.314,415.7128,227.1798,411.8517,231.4847,420.7099\" style=\"stroke: #A80036; stroke-width: 1.0;\"/><text fill=\"#000000\" font-family=\"sans-serif\" font-size=\"13\" lengthAdjust=\"spacingAndGlyphs\" textLength=\"65\" x=\"234.32\" y=\"393.0669\">«import»*</text></a><!--MD5=[e9be52314489bd878ff4c7144b63c9e1]\n",
       "link E5 to E3--><a href=\"psysml:7e781afb-bb69-45b4-99ca-abeca0fc5181\" target=\"_top\" title=\"psysml:7e781afb-bb69-45b4-99ca-abeca0fc5181\" xlink:actuate=\"onRequest\" xlink:href=\"psysml:7e781afb-bb69-45b4-99ca-abeca0fc5181\" xlink:show=\"new\" xlink:title=\"psysml:7e781afb-bb69-45b4-99ca-abeca0fc5181\" xlink:type=\"simple\"><path d=\"M359.1,332.29 C349.98,360.46 334.1,409.49 322.72,444.61 \" fill=\"none\" id=\"E5-&gt;E3\" style=\"stroke: #A80036; stroke-width: 1.0;\"/><polygon fill=\"#FFFFFF\" points=\"316.48,463.89,315.6693,443.6578,328.9893,447.9678,316.48,463.89\" style=\"stroke: #A80036; stroke-width: 1.0;\"/><ellipse cx=\"319.3269\" cy=\"438.8503\" fill=\"#A80036\" rx=\"2\" ry=\"2\" style=\"stroke: #A80036; stroke-width: 1.0;\"/><ellipse cx=\"328.8413\" cy=\"441.9289\" fill=\"#A80036\" rx=\"2\" ry=\"2\" style=\"stroke: #A80036; stroke-width: 1.0;\"/></a><!--MD5=[ee384bb554873b72f85793eae40e290c]\n",
       "link E1 to E4--><a href=\"psysml:3abfa817-381d-4c68-8935-6fa98a0aa2e6\" target=\"_top\" title=\"psysml:3abfa817-381d-4c68-8935-6fa98a0aa2e6\" xlink:actuate=\"onRequest\" xlink:href=\"psysml:3abfa817-381d-4c68-8935-6fa98a0aa2e6\" xlink:show=\"new\" xlink:title=\"psysml:3abfa817-381d-4c68-8935-6fa98a0aa2e6\" xlink:type=\"simple\"><path d=\"M34.29,132.12 C33.65,134.6 23.75,174.52 42.32,194 C49.33,201.35 77.35,200.04 87.32,202 C113.19,207.09 181.71,211.88 203.32,227 C220.99,239.37 233.85,260.02 242.24,277.37 \" fill=\"none\" id=\"E1-&gt;E4\" style=\"stroke: #A80036; stroke-width: 1.0; stroke-dasharray: 7.0,7.0;\"/><polygon fill=\"#A80036\" points=\"244.49,282.17,244.3071,272.3228,242.3748,277.6394,237.0582,275.7072,244.49,282.17\" style=\"stroke: #A80036; stroke-width: 1.0;\"/><text fill=\"#000000\" font-family=\"sans-serif\" font-size=\"13\" lengthAdjust=\"spacingAndGlyphs\" textLength=\"65\" x=\"183.32\" y=\"215.0669\">«import»*</text></a><!--MD5=[ccbd3af71bf83df0ec2a2db62d6d7130]\n",
       "link E1 to E6--><a href=\"psysml:38071c17-dcc7-47a2-931c-5199b5c10531\" target=\"_top\" title=\"psysml:38071c17-dcc7-47a2-931c-5199b5c10531\" xlink:actuate=\"onRequest\" xlink:href=\"psysml:38071c17-dcc7-47a2-931c-5199b5c10531\" xlink:show=\"new\" xlink:title=\"psysml:38071c17-dcc7-47a2-931c-5199b5c10531\" xlink:type=\"simple\"><path d=\"M26.1693,145.3513 C26.1165,145.4477 26.0635,145.5445 26.0105,145.6418 C25.9044,145.8363 25.7978,146.0325 25.6908,146.2304 C24.8349,147.8133 23.9523,149.5023 23.0614,151.284 C21.2797,154.8473 19.465,158.7813 17.765,162.9775 C10.965,179.7625 6,200.745 12.32,219 C20.295,242.035 36.9675,263.635 52.0413,279.7863 C59.5781,287.8619 66.7153,294.5753 72.1658,299.4248 C72.8471,300.031 73.502,300.6081 74.1281,301.1551 \" fill=\"none\" id=\"E1-&gt;E6\" style=\"stroke: #A80036; stroke-width: 1.0; stroke-dasharray: 7.0,7.0;\"/><polygon fill=\"#A80036\" points=\"74.1281,301.1551,69.982,292.2214,70.3627,297.8655,64.7187,298.2462,74.1281,301.1551\" style=\"stroke: #A80036; stroke-width: 1.0;\"/><text fill=\"#000000\" font-family=\"sans-serif\" font-size=\"13\" lengthAdjust=\"spacingAndGlyphs\" textLength=\"65\" x=\"13.32\" y=\"215.0669\">«import»*</text></a><!--MD5=[bfa3c8b0d15052fdf50ae9310b491027]\n",
       "link E8 to E7--><a href=\"psysml:84039e37-6732-4e81-a24d-af568a8fc4d2\" target=\"_top\" title=\"psysml:84039e37-6732-4e81-a24d-af568a8fc4d2\" xlink:actuate=\"onRequest\" xlink:href=\"psysml:84039e37-6732-4e81-a24d-af568a8fc4d2\" xlink:show=\"new\" xlink:title=\"psysml:84039e37-6732-4e81-a24d-af568a8fc4d2\" xlink:type=\"simple\"><path d=\"M232.99,154.29 C246.61,173.37 260.16,200.59 244.32,219 C228.78,237.06 210.49,212.85 191.32,227 C178.2,236.69 169.29,251.96 163.34,266.65 \" fill=\"none\" id=\"E8-&gt;E7\" style=\"stroke: #A80036; stroke-width: 1.0;\"/><polygon fill=\"#FFFFFF\" points=\"156.95,285.73,156.3404,265.4907,169.617,269.9329,156.95,285.73\" style=\"stroke: #A80036; stroke-width: 1.0;\"/><ellipse cx=\"160.0457\" cy=\"260.7199\" fill=\"#A80036\" rx=\"2\" ry=\"2\" style=\"stroke: #A80036; stroke-width: 1.0;\"/><ellipse cx=\"169.5289\" cy=\"263.8929\" fill=\"#A80036\" rx=\"2\" ry=\"2\" style=\"stroke: #A80036; stroke-width: 1.0;\"/></a><!--MD5=[c2be97adba6ddfe1c8f349fab141c927]\n",
       "link E9 to E4--><a href=\"psysml:f4a7c8b4-50d4-4d21-9428-75951a767795\" target=\"_top\" title=\"psysml:f4a7c8b4-50d4-4d21-9428-75951a767795\" xlink:actuate=\"onRequest\" xlink:href=\"psysml:f4a7c8b4-50d4-4d21-9428-75951a767795\" xlink:show=\"new\" xlink:title=\"psysml:f4a7c8b4-50d4-4d21-9428-75951a767795\" xlink:type=\"simple\"><path d=\"M267.5431,178.2415 C267.5354,178.35 267.5276,178.4585 267.5198,178.5671 C267.3951,180.3034 267.2673,182.0417 267.1366,183.7729 C266.8753,187.2352 266.6025,190.6688 266.32,194 C263.93,222.21 260.49,254.26 257.9,277.18 \" fill=\"none\" id=\"E9-&gt;E4\" style=\"stroke: #A80036; stroke-width: 1.0; stroke-dasharray: 7.0,7.0;\"/><polygon fill=\"#A80036\" points=\"257.33,282.22,262.3075,273.7215,257.8869,277.2511,254.3572,272.8305,257.33,282.22\" style=\"stroke: #A80036; stroke-width: 1.0;\"/><text fill=\"#000000\" font-family=\"sans-serif\" font-size=\"13\" lengthAdjust=\"spacingAndGlyphs\" textLength=\"65\" x=\"266.32\" y=\"215.0669\">«import»*</text></a><!--MD5=[feeac5eb423634930294aa81f2d25a4c]\n",
       "link E10 to E3--><a href=\"psysml:ff7299d7-bc25-43a3-abcf-daa45aa95a4b\" target=\"_top\" title=\"psysml:ff7299d7-bc25-43a3-abcf-daa45aa95a4b\" xlink:actuate=\"onRequest\" xlink:href=\"psysml:ff7299d7-bc25-43a3-abcf-daa45aa95a4b\" xlink:show=\"new\" xlink:title=\"psysml:ff7299d7-bc25-43a3-abcf-daa45aa95a4b\" xlink:type=\"simple\"><path d=\"M345.63,154.11 C359.77,173.07 373.99,200.22 358.32,219 C345.58,234.26 327.2,211.86 314.32,227 C300.64,243.07 304.33,374.79 307.28,443.95 \" fill=\"none\" id=\"E10-&gt;E3\" style=\"stroke: #A80036; stroke-width: 1.0;\"/><polygon fill=\"#FFFFFF\" points=\"308.18,463.98,300.3317,445.3144,314.3175,444.6841,308.18,463.98\" style=\"stroke: #A80036; stroke-width: 1.0;\"/><ellipse cx=\"302.0731\" cy=\"439.5301\" fill=\"#A80036\" rx=\"2\" ry=\"2\" style=\"stroke: #A80036; stroke-width: 1.0;\"/><ellipse cx=\"312.063\" cy=\"439.0799\" fill=\"#A80036\" rx=\"2\" ry=\"2\" style=\"stroke: #A80036; stroke-width: 1.0;\"/></a><!--MD5=[85f57232b988b5560b2e996613067e25]\n",
       "@startuml\r\n",
       "skinparam wrapWidth 300\r\n",
       "hide circle\r\n",
       "\r\n",
       "package \"PrivateImportTest\" as E1  [[psysml:8f933ba8-0ed5-4db5-b82c-58b1e568922b ]]  {\r\n",
       "package \"P1\" as E2  [[psysml:dc5a646f-7a70-4bb5-8a84-dd766b7ca58f ]]  {\r\n",
       "comp def \"A\" as E3  <<(T,blue) part  def>> [[psysml:e52e2a8f-f908-40ce-88b1-6459229e6290 ]] {\r\n",
       "}\r\n",
       "}\r\n",
       "package \"P2\" as E4  [[psysml:b07c7c49-60b3-45d9-ab30-3f9ccb4621b1 ]]  {\r\n",
       "}\r\n",
       "comp usage \"x: A \" as E5  <<(T,blue) part>> [[psysml:ae255e73-333e-4dec-b11e-e996fbedcc54 ]] {\r\n",
       "}\r\n",
       "package \"P3\" as E6  [[psysml:61bbaf9b-44aa-4d19-b1af-9f0be63c5dc6 ]]  {\r\n",
       "comp def \"B\" as E7  <<(T,blue) part  def>> [[psysml:f5eaf228-c184-457d-ba82-3236315ba9d3 ]] {\r\n",
       "}\r\n",
       "}\r\n",
       "comp usage \"z: B \" as E8  <<(T,blue) part>> [[psysml:3c42eaa7-d0d8-4753-a2b8-0968c7baa502 ]] {\r\n",
       "}\r\n",
       "package \"P4\" as E9  [[psysml:826bc35a-2948-4f0f-ac57-a46abe90dd77 ]]  {\r\n",
       "comp usage \"z1: A \" as E10  <<(T,blue) part>> [[psysml:bd10993a-8e6e-4149-83fc-2dc02c68e6fc ]] {\r\n",
       "}\r\n",
       "}\r\n",
       "}\r\n",
       "E4 ..> E2 [[psysml:9c76a3dc-4160-42f2-8d03-f28cee99dd8d ]] : <<import>>*\r\n",
       "E5 - -:|> E3 [[psysml:7e781afb-bb69-45b4-99ca-abeca0fc5181 ]] \r\n",
       "E1 ..> E4 [[psysml:3abfa817-381d-4c68-8935-6fa98a0aa2e6 ]] : <<import>>*\r\n",
       "E1 ..> E6 [[psysml:38071c17-dcc7-47a2-931c-5199b5c10531 ]] : <<import>>*\r\n",
       "E8 - -:|> E7 [[psysml:84039e37-6732-4e81-a24d-af568a8fc4d2 ]] \r\n",
       "E9 ..> E4 [[psysml:f4a7c8b4-50d4-4d21-9428-75951a767795 ]] : <<import>>*\r\n",
       "E10 - -:|> E3 [[psysml:ff7299d7-bc25-43a3-abcf-daa45aa95a4b ]] \r\n",
       "@enduml\r\n",
       "\n",
       "PlantUML version 1.2020.13(Sat Jun 13 12:26:38 UTC 2020)\n",
       "(EPL source distribution)\n",
       "Java Runtime: OpenJDK Runtime Environment\n",
       "JVM: OpenJDK 64-Bit Server VM\n",
       "Default Encoding: UTF-8\n",
       "Language: en\n",
       "Country: null\n",
       "--></g></svg>"
      ]
     },
     "execution_count": 29,
     "metadata": {},
     "output_type": "execute_result"
    }
   ],
   "source": [
    "%viz --style=\"STDCOLOR\" --view=\"MIXED\" \"PrivateImportTest\""
   ]
  },
  {
   "cell_type": "code",
   "execution_count": 30,
   "id": "94a2417b",
   "metadata": {
    "execution": {
     "iopub.execute_input": "2022-08-19T08:19:17.983550Z",
     "iopub.status.busy": "2022-08-19T08:19:17.983099Z",
     "iopub.status.idle": "2022-08-19T08:19:18.040771Z",
     "shell.execute_reply": "2022-08-19T08:19:18.040375Z"
    }
   },
   "outputs": [
    {
     "data": {
      "image/svg+xml": [
       "<?xml version=\"1.0\" encoding=\"UTF-8\" standalone=\"no\"?><svg xmlns=\"http://www.w3.org/2000/svg\" xmlns:xlink=\"http://www.w3.org/1999/xlink\" contentScriptType=\"application/ecmascript\" contentStyleType=\"text/css\" height=\"574px\" preserveAspectRatio=\"none\" style=\"width:429px;height:574px;\" version=\"1.1\" viewBox=\"0 0 429 574\" width=\"429px\" zoomAndPan=\"magnify\"><defs><filter height=\"300%\" id=\"f1c4736aiwk49t\" width=\"300%\" x=\"-1\" y=\"-1\"><feGaussianBlur result=\"blurOut\" stdDeviation=\"2.0\"/><feColorMatrix in=\"blurOut\" result=\"blurOut2\" type=\"matrix\" values=\"0 0 0 0 0 0 0 0 0 0 0 0 0 0 0 0 0 0 .4 0\"/><feOffset dx=\"4.0\" dy=\"4.0\" in=\"blurOut2\" result=\"blurOut3\"/><feBlend in=\"SourceGraphic\" in2=\"blurOut3\" mode=\"normal\"/></filter></defs><g><!--MD5=[fbc87193dbaf4d95561dea2c320d4a47]\n",
       "cluster E1--><a href=\"psysml:8f933ba8-0ed5-4db5-b82c-58b1e568922b\" target=\"_top\" title=\"psysml:8f933ba8-0ed5-4db5-b82c-58b1e568922b\" xlink:actuate=\"onRequest\" xlink:href=\"psysml:8f933ba8-0ed5-4db5-b82c-58b1e568922b\" xlink:show=\"new\" xlink:title=\"psysml:8f933ba8-0ed5-4db5-b82c-58b1e568922b\" xlink:type=\"simple\"><polygon fill=\"#FFFFFF\" filter=\"url(#f1c4736aiwk49t)\" points=\"26.47,6,153.47,6,160.47,28.2969,407.47,28.2969,407.47,562,26.47,562,26.47,6\" style=\"stroke: #000000; stroke-width: 1.5;\"/><line style=\"stroke: #000000; stroke-width: 1.5;\" x1=\"26.47\" x2=\"160.47\" y1=\"28.2969\" y2=\"28.2969\"/><text fill=\"#000000\" font-family=\"sans-serif\" font-size=\"14\" font-weight=\"bold\" lengthAdjust=\"spacingAndGlyphs\" textLength=\"121\" x=\"30.47\" y=\"20.9951\">PrivateImportTest</text></a><!--MD5=[e4f7fae6ed58524ba242bb0b0d3be6b7]\n",
       "cluster E2--><a href=\"psysml:dc5a646f-7a70-4bb5-8a84-dd766b7ca58f\" target=\"_top\" title=\"psysml:dc5a646f-7a70-4bb5-8a84-dd766b7ca58f\" xlink:actuate=\"onRequest\" xlink:href=\"psysml:dc5a646f-7a70-4bb5-8a84-dd766b7ca58f\" xlink:show=\"new\" xlink:title=\"psysml:dc5a646f-7a70-4bb5-8a84-dd766b7ca58f\" xlink:type=\"simple\"><polygon fill=\"#FFFFFF\" filter=\"url(#f1c4736aiwk49t)\" points=\"216.47,415,240.47,415,247.47,437.2969,323.47,437.2969,323.47,522,216.47,522,216.47,415\" style=\"stroke: #000000; stroke-width: 1.5;\"/><line style=\"stroke: #000000; stroke-width: 1.5;\" x1=\"216.47\" x2=\"247.47\" y1=\"437.2969\" y2=\"437.2969\"/><text fill=\"#000000\" font-family=\"sans-serif\" font-size=\"14\" font-weight=\"bold\" lengthAdjust=\"spacingAndGlyphs\" textLength=\"18\" x=\"220.47\" y=\"429.9951\">P1</text></a><!--MD5=[14e3b0961a2654348d326746436168a1]\n",
       "cluster E6--><a href=\"psysml:61bbaf9b-44aa-4d19-b1af-9f0be63c5dc6\" target=\"_top\" title=\"psysml:61bbaf9b-44aa-4d19-b1af-9f0be63c5dc6\" xlink:actuate=\"onRequest\" xlink:href=\"psysml:61bbaf9b-44aa-4d19-b1af-9f0be63c5dc6\" xlink:show=\"new\" xlink:title=\"psysml:61bbaf9b-44aa-4d19-b1af-9f0be63c5dc6\" xlink:type=\"simple\"><polygon fill=\"#FFFFFF\" filter=\"url(#f1c4736aiwk49t)\" points=\"74.47,243,98.47,243,105.47,265.2969,181.47,265.2969,181.47,350,74.47,350,74.47,243\" style=\"stroke: #000000; stroke-width: 1.5;\"/><line style=\"stroke: #000000; stroke-width: 1.5;\" x1=\"74.47\" x2=\"105.47\" y1=\"265.2969\" y2=\"265.2969\"/><text fill=\"#000000\" font-family=\"sans-serif\" font-size=\"14\" font-weight=\"bold\" lengthAdjust=\"spacingAndGlyphs\" textLength=\"18\" x=\"78.47\" y=\"257.9951\">P3</text></a><!--MD5=[7f149f147074ac12df2cb0a7728a5fb0]\n",
       "cluster E9--><a href=\"psysml:826bc35a-2948-4f0f-ac57-a46abe90dd77\" target=\"_top\" title=\"psysml:826bc35a-2948-4f0f-ac57-a46abe90dd77\" xlink:actuate=\"onRequest\" xlink:href=\"psysml:826bc35a-2948-4f0f-ac57-a46abe90dd77\" xlink:show=\"new\" xlink:title=\"psysml:826bc35a-2948-4f0f-ac57-a46abe90dd77\" xlink:type=\"simple\"><polygon fill=\"#FFFFFF\" filter=\"url(#f1c4736aiwk49t)\" points=\"232.47,65,256.47,65,263.47,87.2969,367.47,87.2969,367.47,178,232.47,178,232.47,65\" style=\"stroke: #000000; stroke-width: 1.5;\"/><line style=\"stroke: #000000; stroke-width: 1.5;\" x1=\"232.47\" x2=\"263.47\" y1=\"87.2969\" y2=\"87.2969\"/><text fill=\"#000000\" font-family=\"sans-serif\" font-size=\"14\" font-weight=\"bold\" lengthAdjust=\"spacingAndGlyphs\" textLength=\"18\" x=\"236.47\" y=\"79.9951\">P4</text></a><!--MD5=[270fce915f116d4de14055a7c1d9a0f3]\n",
       "class E5--><a href=\"psysml:ae255e73-333e-4dec-b11e-e996fbedcc54\" target=\"_top\" title=\"psysml:ae255e73-333e-4dec-b11e-e996fbedcc54\" xlink:actuate=\"onRequest\" xlink:href=\"psysml:ae255e73-333e-4dec-b11e-e996fbedcc54\" xlink:show=\"new\" xlink:title=\"psysml:ae255e73-333e-4dec-b11e-e996fbedcc54\" xlink:type=\"simple\"><rect fill=\"#FEFECE\" filter=\"url(#f1c4736aiwk49t)\" height=\"45.9375\" id=\"E5\" rx=\"10\" ry=\"10\" style=\"stroke: #A80036; stroke-width: 1.5;\" width=\"68\" x=\"315.47\" y=\"283\"/><ellipse cx=\"330.47\" cy=\"301.9688\" fill=\"#32CD32\" rx=\"11\" ry=\"11\" style=\"stroke: #A80036; stroke-width: 1.0;\"/><path d=\"M327.2825,306.9688 L327.2825,296.375 L330.8919,296.375 Q332.1106,296.375 332.9075,296.8125 Q333.7044,297.2344 334.0794,297.9375 Q334.47,298.6406 334.47,299.4844 Q334.47,300.3281 334.095,301.0156 Q333.7356,301.7031 332.9388,302.125 Q332.1575,302.5313 330.97,302.5313 L329.2356,302.5313 L329.2356,306.9688 L327.2825,306.9688 Z M329.2356,300.9375 L330.845,300.9375 Q331.6575,300.9375 332.0794,300.5313 Q332.5013,300.125 332.5013,299.4844 Q332.5013,298.8594 332.0794,298.4531 Q331.6575,298.0469 330.8606,298.0469 L329.2356,298.0469 L329.2356,300.9375 Z \"/><text fill=\"#000000\" font-family=\"sans-serif\" font-size=\"12\" font-style=\"italic\" lengthAdjust=\"spacingAndGlyphs\" textLength=\"40\" x=\"342.47\" y=\"299.1387\">«part»</text><text fill=\"#000000\" font-family=\"sans-serif\" font-size=\"12\" lengthAdjust=\"spacingAndGlyphs\" textLength=\"22\" x=\"349.47\" y=\"313.1074\">x: A</text><line style=\"stroke: #A80036; stroke-width: 1.5;\" x1=\"316.47\" x2=\"382.47\" y1=\"320.9375\" y2=\"320.9375\"/></a><!--MD5=[b9389687b975829384b498ac4b7476b2]\n",
       "class E8--><a href=\"psysml:3c42eaa7-d0d8-4753-a2b8-0968c7baa502\" target=\"_top\" title=\"psysml:3c42eaa7-d0d8-4753-a2b8-0968c7baa502\" xlink:actuate=\"onRequest\" xlink:href=\"psysml:3c42eaa7-d0d8-4753-a2b8-0968c7baa502\" xlink:show=\"new\" xlink:title=\"psysml:3c42eaa7-d0d8-4753-a2b8-0968c7baa502\" xlink:type=\"simple\"><rect fill=\"#FEFECE\" filter=\"url(#f1c4736aiwk49t)\" height=\"45.9375\" id=\"E8\" rx=\"10\" ry=\"10\" style=\"stroke: #A80036; stroke-width: 1.5;\" width=\"68\" x=\"137.47\" y=\"108\"/><ellipse cx=\"152.47\" cy=\"126.9688\" fill=\"#32CD32\" rx=\"11\" ry=\"11\" style=\"stroke: #A80036; stroke-width: 1.0;\"/><path d=\"M149.2825,131.9688 L149.2825,121.375 L152.8919,121.375 Q154.1106,121.375 154.9075,121.8125 Q155.7044,122.2344 156.0794,122.9375 Q156.47,123.6406 156.47,124.4844 Q156.47,125.3281 156.095,126.0156 Q155.7356,126.7031 154.9388,127.125 Q154.1575,127.5313 152.97,127.5313 L151.2356,127.5313 L151.2356,131.9688 L149.2825,131.9688 Z M151.2356,125.9375 L152.845,125.9375 Q153.6575,125.9375 154.0794,125.5313 Q154.5013,125.125 154.5013,124.4844 Q154.5013,123.8594 154.0794,123.4531 Q153.6575,123.0469 152.8606,123.0469 L151.2356,123.0469 L151.2356,125.9375 Z \"/><text fill=\"#000000\" font-family=\"sans-serif\" font-size=\"12\" font-style=\"italic\" lengthAdjust=\"spacingAndGlyphs\" textLength=\"40\" x=\"164.47\" y=\"124.1387\">«part»</text><text fill=\"#000000\" font-family=\"sans-serif\" font-size=\"12\" lengthAdjust=\"spacingAndGlyphs\" textLength=\"21\" x=\"171.97\" y=\"138.1074\">z: B</text><line style=\"stroke: #A80036; stroke-width: 1.5;\" x1=\"138.47\" x2=\"204.47\" y1=\"145.9375\" y2=\"145.9375\"/></a><!--MD5=[09b614a08d8cba4a07c9adeb5e0fee81]\n",
       "class E3--><a href=\"psysml:e52e2a8f-f908-40ce-88b1-6459229e6290\" target=\"_top\" title=\"psysml:e52e2a8f-f908-40ce-88b1-6459229e6290\" xlink:actuate=\"onRequest\" xlink:href=\"psysml:e52e2a8f-f908-40ce-88b1-6459229e6290\" xlink:show=\"new\" xlink:title=\"psysml:e52e2a8f-f908-40ce-88b1-6459229e6290\" xlink:type=\"simple\"><rect fill=\"#FEFECE\" filter=\"url(#f1c4736aiwk49t)\" height=\"40\" id=\"E3\" style=\"stroke: #A80036; stroke-width: 1.5;\" width=\"40\" x=\"259.47\" y=\"458\"/><ellipse cx=\"274.47\" cy=\"474\" fill=\"#008000\" rx=\"11\" ry=\"11\" style=\"stroke: #A80036; stroke-width: 1.0;\"/><path d=\"M271.345,479 L271.345,468.4063 L274.5794,468.4063 Q276.4856,468.4063 277.3919,469.1563 Q278.3138,469.9063 278.3138,471.0781 Q278.3138,471.7656 277.9231,472.4219 Q277.5481,473.0781 276.8294,473.375 Q277.6888,473.75 278.2044,474.4375 Q278.72,475.125 278.72,475.9375 Q278.72,477.3125 277.6888,478.1563 Q276.6731,479 274.5638,479 L271.345,479 Z M273.2669,472.6406 L274.4231,472.6406 Q275.5481,472.6406 275.9544,472.2656 Q276.3763,471.875 276.3763,471.25 Q276.3763,470.6719 275.9544,470.3125 Q275.5325,469.9531 274.595,469.9531 L273.2669,469.9531 L273.2669,472.6406 Z M273.2669,477.4219 L274.7669,477.4219 Q275.6731,477.4219 276.2044,477.0313 Q276.7356,476.6406 276.7356,475.8906 Q276.7356,475.125 276.2356,474.6563 Q275.7356,474.1719 274.47,474.1719 L273.2669,474.1719 L273.2669,477.4219 Z \"/><text fill=\"#000000\" font-family=\"sans-serif\" font-size=\"12\" lengthAdjust=\"spacingAndGlyphs\" textLength=\"8\" x=\"288.47\" y=\"478.1543\">A</text><line style=\"stroke: #A80036; stroke-width: 1.5;\" x1=\"260.47\" x2=\"298.47\" y1=\"490\" y2=\"490\"/></a><a href=\"psysml:b07c7c49-60b3-45d9-ab30-3f9ccb4621b1\" target=\"_top\" title=\"psysml:b07c7c49-60b3-45d9-ab30-3f9ccb4621b1\" xlink:actuate=\"onRequest\" xlink:href=\"psysml:b07c7c49-60b3-45d9-ab30-3f9ccb4621b1\" xlink:show=\"new\" xlink:title=\"psysml:b07c7c49-60b3-45d9-ab30-3f9ccb4621b1\" xlink:type=\"simple\"><polygon fill=\"#FFFFFF\" filter=\"url(#f1c4736aiwk49t)\" points=\"205.47,279.5,229.47,279.5,236.47,301.7969,243.47,301.7969,243.47,332.0938,205.47,332.0938,205.47,279.5\" style=\"stroke: #000000; stroke-width: 1.5;\"/><line style=\"stroke: #000000; stroke-width: 1.5;\" x1=\"205.47\" x2=\"236.47\" y1=\"301.7969\" y2=\"301.7969\"/><text fill=\"#000000\" font-family=\"sans-serif\" font-size=\"14\" font-weight=\"bold\" lengthAdjust=\"spacingAndGlyphs\" textLength=\"18\" x=\"209.47\" y=\"294.4951\">P2</text></a><!--MD5=[2156ba9850f5573cc1fc38a6a4b2f02b]\n",
       "class E7--><a href=\"psysml:f5eaf228-c184-457d-ba82-3236315ba9d3\" target=\"_top\" title=\"psysml:f5eaf228-c184-457d-ba82-3236315ba9d3\" xlink:actuate=\"onRequest\" xlink:href=\"psysml:f5eaf228-c184-457d-ba82-3236315ba9d3\" xlink:show=\"new\" xlink:title=\"psysml:f5eaf228-c184-457d-ba82-3236315ba9d3\" xlink:type=\"simple\"><rect fill=\"#FEFECE\" filter=\"url(#f1c4736aiwk49t)\" height=\"40\" id=\"E7\" style=\"stroke: #A80036; stroke-width: 1.5;\" width=\"40\" x=\"117.47\" y=\"286\"/><ellipse cx=\"132.47\" cy=\"302\" fill=\"#008000\" rx=\"11\" ry=\"11\" style=\"stroke: #A80036; stroke-width: 1.0;\"/><path d=\"M129.345,307 L129.345,296.4063 L132.5794,296.4063 Q134.4856,296.4063 135.3919,297.1563 Q136.3138,297.9063 136.3138,299.0781 Q136.3138,299.7656 135.9231,300.4219 Q135.5481,301.0781 134.8294,301.375 Q135.6888,301.75 136.2044,302.4375 Q136.72,303.125 136.72,303.9375 Q136.72,305.3125 135.6888,306.1563 Q134.6731,307 132.5638,307 L129.345,307 Z M131.2669,300.6406 L132.4231,300.6406 Q133.5481,300.6406 133.9544,300.2656 Q134.3763,299.875 134.3763,299.25 Q134.3763,298.6719 133.9544,298.3125 Q133.5325,297.9531 132.595,297.9531 L131.2669,297.9531 L131.2669,300.6406 Z M131.2669,305.4219 L132.7669,305.4219 Q133.6731,305.4219 134.2044,305.0313 Q134.7356,304.6406 134.7356,303.8906 Q134.7356,303.125 134.2356,302.6563 Q133.7356,302.1719 132.47,302.1719 L131.2669,302.1719 L131.2669,305.4219 Z \"/><text fill=\"#000000\" font-family=\"sans-serif\" font-size=\"12\" lengthAdjust=\"spacingAndGlyphs\" textLength=\"8\" x=\"146.47\" y=\"306.1543\">B</text><line style=\"stroke: #A80036; stroke-width: 1.5;\" x1=\"118.47\" x2=\"156.47\" y1=\"318\" y2=\"318\"/></a><!--MD5=[96f4274e9e20536e775497830990834d]\n",
       "class E10--><a href=\"psysml:bd10993a-8e6e-4149-83fc-2dc02c68e6fc\" target=\"_top\" title=\"psysml:bd10993a-8e6e-4149-83fc-2dc02c68e6fc\" xlink:actuate=\"onRequest\" xlink:href=\"psysml:bd10993a-8e6e-4149-83fc-2dc02c68e6fc\" xlink:show=\"new\" xlink:title=\"psysml:bd10993a-8e6e-4149-83fc-2dc02c68e6fc\" xlink:type=\"simple\"><rect fill=\"#FEFECE\" filter=\"url(#f1c4736aiwk49t)\" height=\"45.9375\" id=\"E10\" rx=\"10\" ry=\"10\" style=\"stroke: #A80036; stroke-width: 1.5;\" width=\"68\" x=\"275.47\" y=\"108\"/><ellipse cx=\"290.47\" cy=\"126.9688\" fill=\"#32CD32\" rx=\"11\" ry=\"11\" style=\"stroke: #A80036; stroke-width: 1.0;\"/><path d=\"M287.2825,131.9688 L287.2825,121.375 L290.8919,121.375 Q292.1106,121.375 292.9075,121.8125 Q293.7044,122.2344 294.0794,122.9375 Q294.47,123.6406 294.47,124.4844 Q294.47,125.3281 294.095,126.0156 Q293.7356,126.7031 292.9388,127.125 Q292.1575,127.5313 290.97,127.5313 L289.2356,127.5313 L289.2356,131.9688 L287.2825,131.9688 Z M289.2356,125.9375 L290.845,125.9375 Q291.6575,125.9375 292.0794,125.5313 Q292.5013,125.125 292.5013,124.4844 Q292.5013,123.8594 292.0794,123.4531 Q291.6575,123.0469 290.8606,123.0469 L289.2356,123.0469 L289.2356,125.9375 Z \"/><text fill=\"#000000\" font-family=\"sans-serif\" font-size=\"12\" font-style=\"italic\" lengthAdjust=\"spacingAndGlyphs\" textLength=\"40\" x=\"302.47\" y=\"124.1387\">«part»</text><text fill=\"#000000\" font-family=\"sans-serif\" font-size=\"12\" lengthAdjust=\"spacingAndGlyphs\" textLength=\"29\" x=\"305.97\" y=\"138.1074\">z1: A</text><line style=\"stroke: #A80036; stroke-width: 1.5;\" x1=\"276.47\" x2=\"342.47\" y1=\"145.9375\" y2=\"145.9375\"/></a><!--MD5=[185131fc0dcab0a4505a2ebe144e961b]\n",
       "link E4 to E2--><a href=\"psysml:9c76a3dc-4160-42f2-8d03-f28cee99dd8d\" target=\"_top\" title=\"psysml:9c76a3dc-4160-42f2-8d03-f28cee99dd8d\" xlink:actuate=\"onRequest\" xlink:href=\"psysml:9c76a3dc-4160-42f2-8d03-f28cee99dd8d\" xlink:show=\"new\" xlink:title=\"psysml:9c76a3dc-4160-42f2-8d03-f28cee99dd8d\" xlink:type=\"simple\"><path d=\"M214.42,332.66 C210.12,344.96 205.61,360.02 203.47,374 C200.045,396.37 204.865,421.235 210.7463,440.93 C212.2166,445.8538 213.7532,450.4544 215.2439,454.6121 C215.6166,455.6515 215.9864,456.6633 216.3516,457.6455 \" fill=\"none\" id=\"E4-&gt;E2\" style=\"stroke: #A80036; stroke-width: 1.0; stroke-dasharray: 7.0,7.0;\"/><polygon fill=\"#A80036\" points=\"216.3516,457.6455,216.9644,447.8157,214.6091,452.9589,209.4659,450.6037,216.3516,457.6455\" style=\"stroke: #A80036; stroke-width: 1.0;\"/><text fill=\"#000000\" font-family=\"sans-serif\" font-size=\"13\" lengthAdjust=\"spacingAndGlyphs\" textLength=\"65\" x=\"204.47\" y=\"387.0669\">«import»*</text></a><!--MD5=[e9be52314489bd878ff4c7144b63c9e1]\n",
       "link E5 to E3--><a href=\"psysml:7e781afb-bb69-45b4-99ca-abeca0fc5181\" target=\"_top\" title=\"psysml:7e781afb-bb69-45b4-99ca-abeca0fc5181\" xlink:actuate=\"onRequest\" xlink:href=\"psysml:7e781afb-bb69-45b4-99ca-abeca0fc5181\" xlink:show=\"new\" xlink:title=\"psysml:7e781afb-bb69-45b4-99ca-abeca0fc5181\" xlink:type=\"simple\"><path d=\"M340.32,329.22 C328.84,357.1 308.98,405.33 295.08,439.08 \" fill=\"none\" id=\"E5-&gt;E3\" style=\"stroke: #A80036; stroke-width: 1.0;\"/><polygon fill=\"#FFFFFF\" points=\"287.33,457.92,288.0884,437.6857,301.0347,443.0142,287.33,457.92\" style=\"stroke: #A80036; stroke-width: 1.0;\"/><ellipse cx=\"292.1073\" cy=\"433.176\" fill=\"#A80036\" rx=\"2\" ry=\"2\" style=\"stroke: #A80036; stroke-width: 1.0;\"/><ellipse cx=\"301.3547\" cy=\"436.982\" fill=\"#A80036\" rx=\"2\" ry=\"2\" style=\"stroke: #A80036; stroke-width: 1.0;\"/></a><!--MD5=[ee384bb554873b72f85793eae40e290c]\n",
       "link E1 to E4--><a href=\"psysml:3abfa817-381d-4c68-8935-6fa98a0aa2e6\" target=\"_top\" title=\"psysml:3abfa817-381d-4c68-8935-6fa98a0aa2e6\" xlink:actuate=\"onRequest\" xlink:href=\"psysml:3abfa817-381d-4c68-8935-6fa98a0aa2e6\" xlink:show=\"new\" xlink:title=\"psysml:3abfa817-381d-4c68-8935-6fa98a0aa2e6\" xlink:type=\"simple\"><path d=\"M34.44,132.12 C33.8,134.6 23.9,174.52 42.47,194 C56.49,208.7 67.69,197.38 87.47,202 C126.23,211.05 141.48,203.31 173.47,227 C189.99,239.23 202.68,258.54 211.26,274.88 \" fill=\"none\" id=\"E1-&gt;E4\" style=\"stroke: #A80036; stroke-width: 1.0; stroke-dasharray: 7.0,7.0;\"/><polygon fill=\"#A80036\" points=\"213.58,279.4,213.0324,269.5664,211.2984,274.9509,205.9139,273.2169,213.58,279.4\" style=\"stroke: #A80036; stroke-width: 1.0;\"/><text fill=\"#000000\" font-family=\"sans-serif\" font-size=\"13\" lengthAdjust=\"spacingAndGlyphs\" textLength=\"65\" x=\"161.47\" y=\"215.0669\">«import»*</text></a><!--MD5=[ccbd3af71bf83df0ec2a2db62d6d7130]\n",
       "link E1 to E6--><a href=\"psysml:38071c17-dcc7-47a2-931c-5199b5c10531\" target=\"_top\" title=\"psysml:38071c17-dcc7-47a2-931c-5199b5c10531\" xlink:actuate=\"onRequest\" xlink:href=\"psysml:38071c17-dcc7-47a2-931c-5199b5c10531\" xlink:show=\"new\" xlink:title=\"psysml:38071c17-dcc7-47a2-931c-5199b5c10531\" xlink:type=\"simple\"><path d=\"M26.4129,145.0882 C26.2009,145.471 25.9871,145.8607 25.7715,146.257 C24.9093,147.8422 24.0204,149.5335 23.1235,151.3174 C21.3297,154.8852 19.5037,158.8231 17.795,163.0225 C10.96,179.82 6,200.8 12.47,219 C20.465,241.49 37.1375,262.37 52.2063,277.9238 C59.7406,285.7006 66.8741,292.1459 72.3214,296.7952 C73.0023,297.3763 73.6569,297.9294 74.2826,298.4535 \" fill=\"none\" id=\"E1-&gt;E6\" style=\"stroke: #A80036; stroke-width: 1.0; stroke-dasharray: 7.0,7.0;\"/><polygon fill=\"#A80036\" points=\"74.2826,298.4535,69.9517,289.608,70.4496,295.2429,64.8147,295.7408,74.2826,298.4535\" style=\"stroke: #A80036; stroke-width: 1.0;\"/><text fill=\"#000000\" font-family=\"sans-serif\" font-size=\"13\" lengthAdjust=\"spacingAndGlyphs\" textLength=\"65\" x=\"13.47\" y=\"215.0669\">«import»*</text></a><!--MD5=[bfa3c8b0d15052fdf50ae9310b491027]\n",
       "link E8 to E7--><a href=\"psysml:84039e37-6732-4e81-a24d-af568a8fc4d2\" target=\"_top\" title=\"psysml:84039e37-6732-4e81-a24d-af568a8fc4d2\" xlink:actuate=\"onRequest\" xlink:href=\"psysml:84039e37-6732-4e81-a24d-af568a8fc4d2\" xlink:show=\"new\" xlink:title=\"psysml:84039e37-6732-4e81-a24d-af568a8fc4d2\" xlink:type=\"simple\"><path d=\"M186.26,154.18 C195.87,167.21 209.39,183.19 224.47,194 C232.25,199.58 239.1,194.07 244.47,202 C248.71,208.26 249.55,213.41 244.47,219 C232.01,232.72 175.83,215.29 161.47,227 C149.88,236.45 143.77,251.37 140.59,265.63 \" fill=\"none\" id=\"E8-&gt;E7\" style=\"stroke: #A80036; stroke-width: 1.0;\"/><polygon fill=\"#FFFFFF\" points=\"137.7,285.68,133.4714,265.878,147.3292,267.8677,137.7,285.68\" style=\"stroke: #A80036; stroke-width: 1.0;\"/><ellipse cx=\"136.2611\" cy=\"260.5201\" fill=\"#A80036\" rx=\"2\" ry=\"2\" style=\"stroke: #A80036; stroke-width: 1.0;\"/><ellipse cx=\"146.1596\" cy=\"261.9413\" fill=\"#A80036\" rx=\"2\" ry=\"2\" style=\"stroke: #A80036; stroke-width: 1.0;\"/></a><!--MD5=[c2be97adba6ddfe1c8f349fab141c927]\n",
       "link E9 to E4--><a href=\"psysml:f4a7c8b4-50d4-4d21-9428-75951a767795\" target=\"_top\" title=\"psysml:f4a7c8b4-50d4-4d21-9428-75951a767795\" xlink:actuate=\"onRequest\" xlink:href=\"psysml:f4a7c8b4-50d4-4d21-9428-75951a767795\" xlink:show=\"new\" xlink:title=\"psysml:f4a7c8b4-50d4-4d21-9428-75951a767795\" xlink:type=\"simple\"><path d=\"M248.7703,178.2043 C248.7876,178.326 248.8048,178.4478 248.822,178.5697 C249.9231,186.3681 250.875,194.395 251.47,202 C252.06,209.53 252.61,211.53 251.47,219 C248.59,237.78 242.37,258.1 236.62,274.27 \" fill=\"none\" id=\"E9-&gt;E4\" style=\"stroke: #A80036; stroke-width: 1.0; stroke-dasharray: 7.0,7.0;\"/><polygon fill=\"#A80036\" points=\"234.86,279.14,241.6827,272.0372,236.5607,274.4381,234.1597,269.3161,234.86,279.14\" style=\"stroke: #A80036; stroke-width: 1.0;\"/><text fill=\"#000000\" font-family=\"sans-serif\" font-size=\"13\" lengthAdjust=\"spacingAndGlyphs\" textLength=\"65\" x=\"252.47\" y=\"215.0669\">«import»*</text></a><!--MD5=[feeac5eb423634930294aa81f2d25a4c]\n",
       "link E10 to E3--><a href=\"psysml:ff7299d7-bc25-43a3-abcf-daa45aa95a4b\" target=\"_top\" title=\"psysml:ff7299d7-bc25-43a3-abcf-daa45aa95a4b\" xlink:actuate=\"onRequest\" xlink:href=\"psysml:ff7299d7-bc25-43a3-abcf-daa45aa95a4b\" xlink:show=\"new\" xlink:title=\"psysml:ff7299d7-bc25-43a3-abcf-daa45aa95a4b\" xlink:type=\"simple\"><path d=\"M336.26,154.07 C355.77,172.75 375.96,199.52 358.47,219 C347.42,231.31 295.64,214.8 284.47,227 C270.64,242.1 274.48,370.79 277.46,437.39 \" fill=\"none\" id=\"E10-&gt;E3\" style=\"stroke: #A80036; stroke-width: 1.0;\"/><polygon fill=\"#FFFFFF\" points=\"278.43,457.71,270.5291,439.0666,284.5131,438.3969,278.43,457.71\" style=\"stroke: #A80036; stroke-width: 1.0;\"/><ellipse cx=\"272.2542\" cy=\"433.2775\" fill=\"#A80036\" rx=\"2\" ry=\"2\" style=\"stroke: #A80036; stroke-width: 1.0;\"/><ellipse cx=\"282.2427\" cy=\"432.7991\" fill=\"#A80036\" rx=\"2\" ry=\"2\" style=\"stroke: #A80036; stroke-width: 1.0;\"/></a><!--MD5=[65b5264cc4b93255019611cfced574a5]\n",
       "@startuml\r\n",
       " \r\n",
       "package \"PrivateImportTest\" as E1  [[psysml:8f933ba8-0ed5-4db5-b82c-58b1e568922b ]]  {\r\n",
       "package \"P1\" as E2  [[psysml:dc5a646f-7a70-4bb5-8a84-dd766b7ca58f ]]  {\r\n",
       "comp def \"A\" as E3 << << (B,green) >> [[psysml:e52e2a8f-f908-40ce-88b1-6459229e6290 ]] {\r\n",
       "}\r\n",
       "}\r\n",
       "package \"P2\" as E4  [[psysml:b07c7c49-60b3-45d9-ab30-3f9ccb4621b1 ]]  {\r\n",
       "}\r\n",
       "comp usage \"x: A \" as E5 << << (P,limegreen) part>> [[psysml:ae255e73-333e-4dec-b11e-e996fbedcc54 ]] {\r\n",
       "}\r\n",
       "package \"P3\" as E6  [[psysml:61bbaf9b-44aa-4d19-b1af-9f0be63c5dc6 ]]  {\r\n",
       "comp def \"B\" as E7 << << (B,green) >> [[psysml:f5eaf228-c184-457d-ba82-3236315ba9d3 ]] {\r\n",
       "}\r\n",
       "}\r\n",
       "comp usage \"z: B \" as E8 << << (P,limegreen) part>> [[psysml:3c42eaa7-d0d8-4753-a2b8-0968c7baa502 ]] {\r\n",
       "}\r\n",
       "package \"P4\" as E9  [[psysml:826bc35a-2948-4f0f-ac57-a46abe90dd77 ]]  {\r\n",
       "comp usage \"z1: A \" as E10 << << (P,limegreen) part>> [[psysml:bd10993a-8e6e-4149-83fc-2dc02c68e6fc ]] {\r\n",
       "}\r\n",
       "}\r\n",
       "}\r\n",
       "E4 ..> E2 [[psysml:9c76a3dc-4160-42f2-8d03-f28cee99dd8d ]] : <<import>>*\r\n",
       "E5 - -:|> E3 [[psysml:7e781afb-bb69-45b4-99ca-abeca0fc5181 ]] \r\n",
       "E1 ..> E4 [[psysml:3abfa817-381d-4c68-8935-6fa98a0aa2e6 ]] : <<import>>*\r\n",
       "E1 ..> E6 [[psysml:38071c17-dcc7-47a2-931c-5199b5c10531 ]] : <<import>>*\r\n",
       "E8 - -:|> E7 [[psysml:84039e37-6732-4e81-a24d-af568a8fc4d2 ]] \r\n",
       "E9 ..> E4 [[psysml:f4a7c8b4-50d4-4d21-9428-75951a767795 ]] : <<import>>*\r\n",
       "E10 - -:|> E3 [[psysml:ff7299d7-bc25-43a3-abcf-daa45aa95a4b ]] \r\n",
       "@enduml\r\n",
       "\n",
       "PlantUML version 1.2020.13(Sat Jun 13 12:26:38 UTC 2020)\n",
       "(EPL source distribution)\n",
       "Java Runtime: OpenJDK Runtime Environment\n",
       "JVM: OpenJDK 64-Bit Server VM\n",
       "Default Encoding: UTF-8\n",
       "Language: en\n",
       "Country: null\n",
       "--></g></svg>"
      ]
     },
     "execution_count": 30,
     "metadata": {},
     "output_type": "execute_result"
    }
   ],
   "source": [
    "%viz --style=\"PLANTUML\" --view=\"Default\" \"PrivateImportTest\""
   ]
  },
  {
   "cell_type": "code",
   "execution_count": 31,
   "id": "0f88eb70",
   "metadata": {
    "execution": {
     "iopub.execute_input": "2022-08-19T08:19:18.090320Z",
     "iopub.status.busy": "2022-08-19T08:19:18.089866Z",
     "iopub.status.idle": "2022-08-19T08:19:18.129605Z",
     "shell.execute_reply": "2022-08-19T08:19:18.128153Z"
    }
   },
   "outputs": [
    {
     "data": {
      "image/svg+xml": [
       "<?xml version=\"1.0\" encoding=\"UTF-8\" standalone=\"no\"?><svg xmlns=\"http://www.w3.org/2000/svg\" xmlns:xlink=\"http://www.w3.org/1999/xlink\" contentScriptType=\"application/ecmascript\" contentStyleType=\"text/css\" height=\"574px\" preserveAspectRatio=\"none\" style=\"width:429px;height:574px;\" version=\"1.1\" viewBox=\"0 0 429 574\" width=\"429px\" zoomAndPan=\"magnify\"><defs><filter height=\"300%\" id=\"f1c4736aiwk49t\" width=\"300%\" x=\"-1\" y=\"-1\"><feGaussianBlur result=\"blurOut\" stdDeviation=\"2.0\"/><feColorMatrix in=\"blurOut\" result=\"blurOut2\" type=\"matrix\" values=\"0 0 0 0 0 0 0 0 0 0 0 0 0 0 0 0 0 0 .4 0\"/><feOffset dx=\"4.0\" dy=\"4.0\" in=\"blurOut2\" result=\"blurOut3\"/><feBlend in=\"SourceGraphic\" in2=\"blurOut3\" mode=\"normal\"/></filter></defs><g><!--MD5=[fbc87193dbaf4d95561dea2c320d4a47]\n",
       "cluster E1--><a href=\"psysml:8f933ba8-0ed5-4db5-b82c-58b1e568922b\" target=\"_top\" title=\"psysml:8f933ba8-0ed5-4db5-b82c-58b1e568922b\" xlink:actuate=\"onRequest\" xlink:href=\"psysml:8f933ba8-0ed5-4db5-b82c-58b1e568922b\" xlink:show=\"new\" xlink:title=\"psysml:8f933ba8-0ed5-4db5-b82c-58b1e568922b\" xlink:type=\"simple\"><polygon fill=\"#FFFFFF\" filter=\"url(#f1c4736aiwk49t)\" points=\"26.47,6,153.47,6,160.47,28.2969,407.47,28.2969,407.47,562,26.47,562,26.47,6\" style=\"stroke: #000000; stroke-width: 1.5;\"/><line style=\"stroke: #000000; stroke-width: 1.5;\" x1=\"26.47\" x2=\"160.47\" y1=\"28.2969\" y2=\"28.2969\"/><text fill=\"#000000\" font-family=\"sans-serif\" font-size=\"14\" font-weight=\"bold\" lengthAdjust=\"spacingAndGlyphs\" textLength=\"121\" x=\"30.47\" y=\"20.9951\">PrivateImportTest</text></a><!--MD5=[e4f7fae6ed58524ba242bb0b0d3be6b7]\n",
       "cluster E2--><a href=\"psysml:dc5a646f-7a70-4bb5-8a84-dd766b7ca58f\" target=\"_top\" title=\"psysml:dc5a646f-7a70-4bb5-8a84-dd766b7ca58f\" xlink:actuate=\"onRequest\" xlink:href=\"psysml:dc5a646f-7a70-4bb5-8a84-dd766b7ca58f\" xlink:show=\"new\" xlink:title=\"psysml:dc5a646f-7a70-4bb5-8a84-dd766b7ca58f\" xlink:type=\"simple\"><polygon fill=\"#FFFFFF\" filter=\"url(#f1c4736aiwk49t)\" points=\"216.47,415,240.47,415,247.47,437.2969,323.47,437.2969,323.47,522,216.47,522,216.47,415\" style=\"stroke: #000000; stroke-width: 1.5;\"/><line style=\"stroke: #000000; stroke-width: 1.5;\" x1=\"216.47\" x2=\"247.47\" y1=\"437.2969\" y2=\"437.2969\"/><text fill=\"#000000\" font-family=\"sans-serif\" font-size=\"14\" font-weight=\"bold\" lengthAdjust=\"spacingAndGlyphs\" textLength=\"18\" x=\"220.47\" y=\"429.9951\">P1</text></a><!--MD5=[14e3b0961a2654348d326746436168a1]\n",
       "cluster E6--><a href=\"psysml:61bbaf9b-44aa-4d19-b1af-9f0be63c5dc6\" target=\"_top\" title=\"psysml:61bbaf9b-44aa-4d19-b1af-9f0be63c5dc6\" xlink:actuate=\"onRequest\" xlink:href=\"psysml:61bbaf9b-44aa-4d19-b1af-9f0be63c5dc6\" xlink:show=\"new\" xlink:title=\"psysml:61bbaf9b-44aa-4d19-b1af-9f0be63c5dc6\" xlink:type=\"simple\"><polygon fill=\"#FFFFFF\" filter=\"url(#f1c4736aiwk49t)\" points=\"74.47,243,98.47,243,105.47,265.2969,181.47,265.2969,181.47,350,74.47,350,74.47,243\" style=\"stroke: #000000; stroke-width: 1.5;\"/><line style=\"stroke: #000000; stroke-width: 1.5;\" x1=\"74.47\" x2=\"105.47\" y1=\"265.2969\" y2=\"265.2969\"/><text fill=\"#000000\" font-family=\"sans-serif\" font-size=\"14\" font-weight=\"bold\" lengthAdjust=\"spacingAndGlyphs\" textLength=\"18\" x=\"78.47\" y=\"257.9951\">P3</text></a><!--MD5=[7f149f147074ac12df2cb0a7728a5fb0]\n",
       "cluster E9--><a href=\"psysml:826bc35a-2948-4f0f-ac57-a46abe90dd77\" target=\"_top\" title=\"psysml:826bc35a-2948-4f0f-ac57-a46abe90dd77\" xlink:actuate=\"onRequest\" xlink:href=\"psysml:826bc35a-2948-4f0f-ac57-a46abe90dd77\" xlink:show=\"new\" xlink:title=\"psysml:826bc35a-2948-4f0f-ac57-a46abe90dd77\" xlink:type=\"simple\"><polygon fill=\"#FFFFFF\" filter=\"url(#f1c4736aiwk49t)\" points=\"232.47,65,256.47,65,263.47,87.2969,367.47,87.2969,367.47,178,232.47,178,232.47,65\" style=\"stroke: #000000; stroke-width: 1.5;\"/><line style=\"stroke: #000000; stroke-width: 1.5;\" x1=\"232.47\" x2=\"263.47\" y1=\"87.2969\" y2=\"87.2969\"/><text fill=\"#000000\" font-family=\"sans-serif\" font-size=\"14\" font-weight=\"bold\" lengthAdjust=\"spacingAndGlyphs\" textLength=\"18\" x=\"236.47\" y=\"79.9951\">P4</text></a><!--MD5=[270fce915f116d4de14055a7c1d9a0f3]\n",
       "class E5--><a href=\"psysml:ae255e73-333e-4dec-b11e-e996fbedcc54\" target=\"_top\" title=\"psysml:ae255e73-333e-4dec-b11e-e996fbedcc54\" xlink:actuate=\"onRequest\" xlink:href=\"psysml:ae255e73-333e-4dec-b11e-e996fbedcc54\" xlink:show=\"new\" xlink:title=\"psysml:ae255e73-333e-4dec-b11e-e996fbedcc54\" xlink:type=\"simple\"><rect fill=\"#FEFECE\" filter=\"url(#f1c4736aiwk49t)\" height=\"45.9375\" id=\"E5\" rx=\"10\" ry=\"10\" style=\"stroke: #A80036; stroke-width: 1.5;\" width=\"68\" x=\"315.47\" y=\"283\"/><ellipse cx=\"330.47\" cy=\"301.9688\" fill=\"#32CD32\" rx=\"11\" ry=\"11\" style=\"stroke: #A80036; stroke-width: 1.0;\"/><path d=\"M327.2825,306.9688 L327.2825,296.375 L330.8919,296.375 Q332.1106,296.375 332.9075,296.8125 Q333.7044,297.2344 334.0794,297.9375 Q334.47,298.6406 334.47,299.4844 Q334.47,300.3281 334.095,301.0156 Q333.7356,301.7031 332.9388,302.125 Q332.1575,302.5313 330.97,302.5313 L329.2356,302.5313 L329.2356,306.9688 L327.2825,306.9688 Z M329.2356,300.9375 L330.845,300.9375 Q331.6575,300.9375 332.0794,300.5313 Q332.5013,300.125 332.5013,299.4844 Q332.5013,298.8594 332.0794,298.4531 Q331.6575,298.0469 330.8606,298.0469 L329.2356,298.0469 L329.2356,300.9375 Z \"/><text fill=\"#000000\" font-family=\"sans-serif\" font-size=\"12\" font-style=\"italic\" lengthAdjust=\"spacingAndGlyphs\" textLength=\"40\" x=\"342.47\" y=\"299.1387\">«part»</text><text fill=\"#000000\" font-family=\"sans-serif\" font-size=\"12\" lengthAdjust=\"spacingAndGlyphs\" textLength=\"22\" x=\"349.47\" y=\"313.1074\">x: A</text><line style=\"stroke: #A80036; stroke-width: 1.5;\" x1=\"316.47\" x2=\"382.47\" y1=\"320.9375\" y2=\"320.9375\"/></a><!--MD5=[b9389687b975829384b498ac4b7476b2]\n",
       "class E8--><a href=\"psysml:3c42eaa7-d0d8-4753-a2b8-0968c7baa502\" target=\"_top\" title=\"psysml:3c42eaa7-d0d8-4753-a2b8-0968c7baa502\" xlink:actuate=\"onRequest\" xlink:href=\"psysml:3c42eaa7-d0d8-4753-a2b8-0968c7baa502\" xlink:show=\"new\" xlink:title=\"psysml:3c42eaa7-d0d8-4753-a2b8-0968c7baa502\" xlink:type=\"simple\"><rect fill=\"#FEFECE\" filter=\"url(#f1c4736aiwk49t)\" height=\"45.9375\" id=\"E8\" rx=\"10\" ry=\"10\" style=\"stroke: #A80036; stroke-width: 1.5;\" width=\"68\" x=\"137.47\" y=\"108\"/><ellipse cx=\"152.47\" cy=\"126.9688\" fill=\"#32CD32\" rx=\"11\" ry=\"11\" style=\"stroke: #A80036; stroke-width: 1.0;\"/><path d=\"M149.2825,131.9688 L149.2825,121.375 L152.8919,121.375 Q154.1106,121.375 154.9075,121.8125 Q155.7044,122.2344 156.0794,122.9375 Q156.47,123.6406 156.47,124.4844 Q156.47,125.3281 156.095,126.0156 Q155.7356,126.7031 154.9388,127.125 Q154.1575,127.5313 152.97,127.5313 L151.2356,127.5313 L151.2356,131.9688 L149.2825,131.9688 Z M151.2356,125.9375 L152.845,125.9375 Q153.6575,125.9375 154.0794,125.5313 Q154.5013,125.125 154.5013,124.4844 Q154.5013,123.8594 154.0794,123.4531 Q153.6575,123.0469 152.8606,123.0469 L151.2356,123.0469 L151.2356,125.9375 Z \"/><text fill=\"#000000\" font-family=\"sans-serif\" font-size=\"12\" font-style=\"italic\" lengthAdjust=\"spacingAndGlyphs\" textLength=\"40\" x=\"164.47\" y=\"124.1387\">«part»</text><text fill=\"#000000\" font-family=\"sans-serif\" font-size=\"12\" lengthAdjust=\"spacingAndGlyphs\" textLength=\"21\" x=\"171.97\" y=\"138.1074\">z: B</text><line style=\"stroke: #A80036; stroke-width: 1.5;\" x1=\"138.47\" x2=\"204.47\" y1=\"145.9375\" y2=\"145.9375\"/></a><!--MD5=[09b614a08d8cba4a07c9adeb5e0fee81]\n",
       "class E3--><a href=\"psysml:e52e2a8f-f908-40ce-88b1-6459229e6290\" target=\"_top\" title=\"psysml:e52e2a8f-f908-40ce-88b1-6459229e6290\" xlink:actuate=\"onRequest\" xlink:href=\"psysml:e52e2a8f-f908-40ce-88b1-6459229e6290\" xlink:show=\"new\" xlink:title=\"psysml:e52e2a8f-f908-40ce-88b1-6459229e6290\" xlink:type=\"simple\"><rect fill=\"#FEFECE\" filter=\"url(#f1c4736aiwk49t)\" height=\"40\" id=\"E3\" style=\"stroke: #A80036; stroke-width: 1.5;\" width=\"40\" x=\"259.47\" y=\"458\"/><ellipse cx=\"274.47\" cy=\"474\" fill=\"#008000\" rx=\"11\" ry=\"11\" style=\"stroke: #A80036; stroke-width: 1.0;\"/><path d=\"M271.345,479 L271.345,468.4063 L274.5794,468.4063 Q276.4856,468.4063 277.3919,469.1563 Q278.3138,469.9063 278.3138,471.0781 Q278.3138,471.7656 277.9231,472.4219 Q277.5481,473.0781 276.8294,473.375 Q277.6888,473.75 278.2044,474.4375 Q278.72,475.125 278.72,475.9375 Q278.72,477.3125 277.6888,478.1563 Q276.6731,479 274.5638,479 L271.345,479 Z M273.2669,472.6406 L274.4231,472.6406 Q275.5481,472.6406 275.9544,472.2656 Q276.3763,471.875 276.3763,471.25 Q276.3763,470.6719 275.9544,470.3125 Q275.5325,469.9531 274.595,469.9531 L273.2669,469.9531 L273.2669,472.6406 Z M273.2669,477.4219 L274.7669,477.4219 Q275.6731,477.4219 276.2044,477.0313 Q276.7356,476.6406 276.7356,475.8906 Q276.7356,475.125 276.2356,474.6563 Q275.7356,474.1719 274.47,474.1719 L273.2669,474.1719 L273.2669,477.4219 Z \"/><text fill=\"#000000\" font-family=\"sans-serif\" font-size=\"12\" lengthAdjust=\"spacingAndGlyphs\" textLength=\"8\" x=\"288.47\" y=\"478.1543\">A</text><line style=\"stroke: #A80036; stroke-width: 1.5;\" x1=\"260.47\" x2=\"298.47\" y1=\"490\" y2=\"490\"/></a><a href=\"psysml:b07c7c49-60b3-45d9-ab30-3f9ccb4621b1\" target=\"_top\" title=\"psysml:b07c7c49-60b3-45d9-ab30-3f9ccb4621b1\" xlink:actuate=\"onRequest\" xlink:href=\"psysml:b07c7c49-60b3-45d9-ab30-3f9ccb4621b1\" xlink:show=\"new\" xlink:title=\"psysml:b07c7c49-60b3-45d9-ab30-3f9ccb4621b1\" xlink:type=\"simple\"><polygon fill=\"#FFFFFF\" filter=\"url(#f1c4736aiwk49t)\" points=\"205.47,279.5,229.47,279.5,236.47,301.7969,243.47,301.7969,243.47,332.0938,205.47,332.0938,205.47,279.5\" style=\"stroke: #000000; stroke-width: 1.5;\"/><line style=\"stroke: #000000; stroke-width: 1.5;\" x1=\"205.47\" x2=\"236.47\" y1=\"301.7969\" y2=\"301.7969\"/><text fill=\"#000000\" font-family=\"sans-serif\" font-size=\"14\" font-weight=\"bold\" lengthAdjust=\"spacingAndGlyphs\" textLength=\"18\" x=\"209.47\" y=\"294.4951\">P2</text></a><!--MD5=[2156ba9850f5573cc1fc38a6a4b2f02b]\n",
       "class E7--><a href=\"psysml:f5eaf228-c184-457d-ba82-3236315ba9d3\" target=\"_top\" title=\"psysml:f5eaf228-c184-457d-ba82-3236315ba9d3\" xlink:actuate=\"onRequest\" xlink:href=\"psysml:f5eaf228-c184-457d-ba82-3236315ba9d3\" xlink:show=\"new\" xlink:title=\"psysml:f5eaf228-c184-457d-ba82-3236315ba9d3\" xlink:type=\"simple\"><rect fill=\"#FEFECE\" filter=\"url(#f1c4736aiwk49t)\" height=\"40\" id=\"E7\" style=\"stroke: #A80036; stroke-width: 1.5;\" width=\"40\" x=\"117.47\" y=\"286\"/><ellipse cx=\"132.47\" cy=\"302\" fill=\"#008000\" rx=\"11\" ry=\"11\" style=\"stroke: #A80036; stroke-width: 1.0;\"/><path d=\"M129.345,307 L129.345,296.4063 L132.5794,296.4063 Q134.4856,296.4063 135.3919,297.1563 Q136.3138,297.9063 136.3138,299.0781 Q136.3138,299.7656 135.9231,300.4219 Q135.5481,301.0781 134.8294,301.375 Q135.6888,301.75 136.2044,302.4375 Q136.72,303.125 136.72,303.9375 Q136.72,305.3125 135.6888,306.1563 Q134.6731,307 132.5638,307 L129.345,307 Z M131.2669,300.6406 L132.4231,300.6406 Q133.5481,300.6406 133.9544,300.2656 Q134.3763,299.875 134.3763,299.25 Q134.3763,298.6719 133.9544,298.3125 Q133.5325,297.9531 132.595,297.9531 L131.2669,297.9531 L131.2669,300.6406 Z M131.2669,305.4219 L132.7669,305.4219 Q133.6731,305.4219 134.2044,305.0313 Q134.7356,304.6406 134.7356,303.8906 Q134.7356,303.125 134.2356,302.6563 Q133.7356,302.1719 132.47,302.1719 L131.2669,302.1719 L131.2669,305.4219 Z \"/><text fill=\"#000000\" font-family=\"sans-serif\" font-size=\"12\" lengthAdjust=\"spacingAndGlyphs\" textLength=\"8\" x=\"146.47\" y=\"306.1543\">B</text><line style=\"stroke: #A80036; stroke-width: 1.5;\" x1=\"118.47\" x2=\"156.47\" y1=\"318\" y2=\"318\"/></a><!--MD5=[96f4274e9e20536e775497830990834d]\n",
       "class E10--><a href=\"psysml:bd10993a-8e6e-4149-83fc-2dc02c68e6fc\" target=\"_top\" title=\"psysml:bd10993a-8e6e-4149-83fc-2dc02c68e6fc\" xlink:actuate=\"onRequest\" xlink:href=\"psysml:bd10993a-8e6e-4149-83fc-2dc02c68e6fc\" xlink:show=\"new\" xlink:title=\"psysml:bd10993a-8e6e-4149-83fc-2dc02c68e6fc\" xlink:type=\"simple\"><rect fill=\"#FEFECE\" filter=\"url(#f1c4736aiwk49t)\" height=\"45.9375\" id=\"E10\" rx=\"10\" ry=\"10\" style=\"stroke: #A80036; stroke-width: 1.5;\" width=\"68\" x=\"275.47\" y=\"108\"/><ellipse cx=\"290.47\" cy=\"126.9688\" fill=\"#32CD32\" rx=\"11\" ry=\"11\" style=\"stroke: #A80036; stroke-width: 1.0;\"/><path d=\"M287.2825,131.9688 L287.2825,121.375 L290.8919,121.375 Q292.1106,121.375 292.9075,121.8125 Q293.7044,122.2344 294.0794,122.9375 Q294.47,123.6406 294.47,124.4844 Q294.47,125.3281 294.095,126.0156 Q293.7356,126.7031 292.9388,127.125 Q292.1575,127.5313 290.97,127.5313 L289.2356,127.5313 L289.2356,131.9688 L287.2825,131.9688 Z M289.2356,125.9375 L290.845,125.9375 Q291.6575,125.9375 292.0794,125.5313 Q292.5013,125.125 292.5013,124.4844 Q292.5013,123.8594 292.0794,123.4531 Q291.6575,123.0469 290.8606,123.0469 L289.2356,123.0469 L289.2356,125.9375 Z \"/><text fill=\"#000000\" font-family=\"sans-serif\" font-size=\"12\" font-style=\"italic\" lengthAdjust=\"spacingAndGlyphs\" textLength=\"40\" x=\"302.47\" y=\"124.1387\">«part»</text><text fill=\"#000000\" font-family=\"sans-serif\" font-size=\"12\" lengthAdjust=\"spacingAndGlyphs\" textLength=\"29\" x=\"305.97\" y=\"138.1074\">z1: A</text><line style=\"stroke: #A80036; stroke-width: 1.5;\" x1=\"276.47\" x2=\"342.47\" y1=\"145.9375\" y2=\"145.9375\"/></a><!--MD5=[185131fc0dcab0a4505a2ebe144e961b]\n",
       "link E4 to E2--><a href=\"psysml:9c76a3dc-4160-42f2-8d03-f28cee99dd8d\" target=\"_top\" title=\"psysml:9c76a3dc-4160-42f2-8d03-f28cee99dd8d\" xlink:actuate=\"onRequest\" xlink:href=\"psysml:9c76a3dc-4160-42f2-8d03-f28cee99dd8d\" xlink:show=\"new\" xlink:title=\"psysml:9c76a3dc-4160-42f2-8d03-f28cee99dd8d\" xlink:type=\"simple\"><path d=\"M214.42,332.66 C210.12,344.96 205.61,360.02 203.47,374 C200.045,396.37 204.865,421.235 210.7463,440.93 C212.2166,445.8538 213.7532,450.4544 215.2439,454.6121 C215.6166,455.6515 215.9864,456.6633 216.3516,457.6455 \" fill=\"none\" id=\"E4-&gt;E2\" style=\"stroke: #A80036; stroke-width: 1.0; stroke-dasharray: 7.0,7.0;\"/><polygon fill=\"#A80036\" points=\"216.3516,457.6455,216.9644,447.8157,214.6091,452.9589,209.4659,450.6037,216.3516,457.6455\" style=\"stroke: #A80036; stroke-width: 1.0;\"/><text fill=\"#000000\" font-family=\"sans-serif\" font-size=\"13\" lengthAdjust=\"spacingAndGlyphs\" textLength=\"65\" x=\"204.47\" y=\"387.0669\">«import»*</text></a><!--MD5=[e9be52314489bd878ff4c7144b63c9e1]\n",
       "link E5 to E3--><a href=\"psysml:7e781afb-bb69-45b4-99ca-abeca0fc5181\" target=\"_top\" title=\"psysml:7e781afb-bb69-45b4-99ca-abeca0fc5181\" xlink:actuate=\"onRequest\" xlink:href=\"psysml:7e781afb-bb69-45b4-99ca-abeca0fc5181\" xlink:show=\"new\" xlink:title=\"psysml:7e781afb-bb69-45b4-99ca-abeca0fc5181\" xlink:type=\"simple\"><path d=\"M340.32,329.22 C328.84,357.1 308.98,405.33 295.08,439.08 \" fill=\"none\" id=\"E5-&gt;E3\" style=\"stroke: #A80036; stroke-width: 1.0;\"/><polygon fill=\"#FFFFFF\" points=\"287.33,457.92,288.0884,437.6857,301.0347,443.0142,287.33,457.92\" style=\"stroke: #A80036; stroke-width: 1.0;\"/><ellipse cx=\"292.1073\" cy=\"433.176\" fill=\"#A80036\" rx=\"2\" ry=\"2\" style=\"stroke: #A80036; stroke-width: 1.0;\"/><ellipse cx=\"301.3547\" cy=\"436.982\" fill=\"#A80036\" rx=\"2\" ry=\"2\" style=\"stroke: #A80036; stroke-width: 1.0;\"/></a><!--MD5=[ee384bb554873b72f85793eae40e290c]\n",
       "link E1 to E4--><a href=\"psysml:3abfa817-381d-4c68-8935-6fa98a0aa2e6\" target=\"_top\" title=\"psysml:3abfa817-381d-4c68-8935-6fa98a0aa2e6\" xlink:actuate=\"onRequest\" xlink:href=\"psysml:3abfa817-381d-4c68-8935-6fa98a0aa2e6\" xlink:show=\"new\" xlink:title=\"psysml:3abfa817-381d-4c68-8935-6fa98a0aa2e6\" xlink:type=\"simple\"><path d=\"M34.44,132.12 C33.8,134.6 23.9,174.52 42.47,194 C56.49,208.7 67.69,197.38 87.47,202 C126.23,211.05 141.48,203.31 173.47,227 C189.99,239.23 202.68,258.54 211.26,274.88 \" fill=\"none\" id=\"E1-&gt;E4\" style=\"stroke: #A80036; stroke-width: 1.0; stroke-dasharray: 7.0,7.0;\"/><polygon fill=\"#A80036\" points=\"213.58,279.4,213.0324,269.5664,211.2984,274.9509,205.9139,273.2169,213.58,279.4\" style=\"stroke: #A80036; stroke-width: 1.0;\"/><text fill=\"#000000\" font-family=\"sans-serif\" font-size=\"13\" lengthAdjust=\"spacingAndGlyphs\" textLength=\"65\" x=\"161.47\" y=\"215.0669\">«import»*</text></a><!--MD5=[ccbd3af71bf83df0ec2a2db62d6d7130]\n",
       "link E1 to E6--><a href=\"psysml:38071c17-dcc7-47a2-931c-5199b5c10531\" target=\"_top\" title=\"psysml:38071c17-dcc7-47a2-931c-5199b5c10531\" xlink:actuate=\"onRequest\" xlink:href=\"psysml:38071c17-dcc7-47a2-931c-5199b5c10531\" xlink:show=\"new\" xlink:title=\"psysml:38071c17-dcc7-47a2-931c-5199b5c10531\" xlink:type=\"simple\"><path d=\"M26.4129,145.0882 C26.2009,145.471 25.9871,145.8607 25.7715,146.257 C24.9093,147.8422 24.0204,149.5335 23.1235,151.3174 C21.3297,154.8852 19.5037,158.8231 17.795,163.0225 C10.96,179.82 6,200.8 12.47,219 C20.465,241.49 37.1375,262.37 52.2063,277.9238 C59.7406,285.7006 66.8741,292.1459 72.3214,296.7952 C73.0023,297.3763 73.6569,297.9294 74.2826,298.4535 \" fill=\"none\" id=\"E1-&gt;E6\" style=\"stroke: #A80036; stroke-width: 1.0; stroke-dasharray: 7.0,7.0;\"/><polygon fill=\"#A80036\" points=\"74.2826,298.4535,69.9517,289.608,70.4496,295.2429,64.8147,295.7408,74.2826,298.4535\" style=\"stroke: #A80036; stroke-width: 1.0;\"/><text fill=\"#000000\" font-family=\"sans-serif\" font-size=\"13\" lengthAdjust=\"spacingAndGlyphs\" textLength=\"65\" x=\"13.47\" y=\"215.0669\">«import»*</text></a><!--MD5=[bfa3c8b0d15052fdf50ae9310b491027]\n",
       "link E8 to E7--><a href=\"psysml:84039e37-6732-4e81-a24d-af568a8fc4d2\" target=\"_top\" title=\"psysml:84039e37-6732-4e81-a24d-af568a8fc4d2\" xlink:actuate=\"onRequest\" xlink:href=\"psysml:84039e37-6732-4e81-a24d-af568a8fc4d2\" xlink:show=\"new\" xlink:title=\"psysml:84039e37-6732-4e81-a24d-af568a8fc4d2\" xlink:type=\"simple\"><path d=\"M186.26,154.18 C195.87,167.21 209.39,183.19 224.47,194 C232.25,199.58 239.1,194.07 244.47,202 C248.71,208.26 249.55,213.41 244.47,219 C232.01,232.72 175.83,215.29 161.47,227 C149.88,236.45 143.77,251.37 140.59,265.63 \" fill=\"none\" id=\"E8-&gt;E7\" style=\"stroke: #A80036; stroke-width: 1.0;\"/><polygon fill=\"#FFFFFF\" points=\"137.7,285.68,133.4714,265.878,147.3292,267.8677,137.7,285.68\" style=\"stroke: #A80036; stroke-width: 1.0;\"/><ellipse cx=\"136.2611\" cy=\"260.5201\" fill=\"#A80036\" rx=\"2\" ry=\"2\" style=\"stroke: #A80036; stroke-width: 1.0;\"/><ellipse cx=\"146.1596\" cy=\"261.9413\" fill=\"#A80036\" rx=\"2\" ry=\"2\" style=\"stroke: #A80036; stroke-width: 1.0;\"/></a><!--MD5=[c2be97adba6ddfe1c8f349fab141c927]\n",
       "link E9 to E4--><a href=\"psysml:f4a7c8b4-50d4-4d21-9428-75951a767795\" target=\"_top\" title=\"psysml:f4a7c8b4-50d4-4d21-9428-75951a767795\" xlink:actuate=\"onRequest\" xlink:href=\"psysml:f4a7c8b4-50d4-4d21-9428-75951a767795\" xlink:show=\"new\" xlink:title=\"psysml:f4a7c8b4-50d4-4d21-9428-75951a767795\" xlink:type=\"simple\"><path d=\"M248.7703,178.2043 C248.7876,178.326 248.8048,178.4478 248.822,178.5697 C249.9231,186.3681 250.875,194.395 251.47,202 C252.06,209.53 252.61,211.53 251.47,219 C248.59,237.78 242.37,258.1 236.62,274.27 \" fill=\"none\" id=\"E9-&gt;E4\" style=\"stroke: #A80036; stroke-width: 1.0; stroke-dasharray: 7.0,7.0;\"/><polygon fill=\"#A80036\" points=\"234.86,279.14,241.6827,272.0372,236.5607,274.4381,234.1597,269.3161,234.86,279.14\" style=\"stroke: #A80036; stroke-width: 1.0;\"/><text fill=\"#000000\" font-family=\"sans-serif\" font-size=\"13\" lengthAdjust=\"spacingAndGlyphs\" textLength=\"65\" x=\"252.47\" y=\"215.0669\">«import»*</text></a><!--MD5=[feeac5eb423634930294aa81f2d25a4c]\n",
       "link E10 to E3--><a href=\"psysml:ff7299d7-bc25-43a3-abcf-daa45aa95a4b\" target=\"_top\" title=\"psysml:ff7299d7-bc25-43a3-abcf-daa45aa95a4b\" xlink:actuate=\"onRequest\" xlink:href=\"psysml:ff7299d7-bc25-43a3-abcf-daa45aa95a4b\" xlink:show=\"new\" xlink:title=\"psysml:ff7299d7-bc25-43a3-abcf-daa45aa95a4b\" xlink:type=\"simple\"><path d=\"M336.26,154.07 C355.77,172.75 375.96,199.52 358.47,219 C347.42,231.31 295.64,214.8 284.47,227 C270.64,242.1 274.48,370.79 277.46,437.39 \" fill=\"none\" id=\"E10-&gt;E3\" style=\"stroke: #A80036; stroke-width: 1.0;\"/><polygon fill=\"#FFFFFF\" points=\"278.43,457.71,270.5291,439.0666,284.5131,438.3969,278.43,457.71\" style=\"stroke: #A80036; stroke-width: 1.0;\"/><ellipse cx=\"272.2542\" cy=\"433.2775\" fill=\"#A80036\" rx=\"2\" ry=\"2\" style=\"stroke: #A80036; stroke-width: 1.0;\"/><ellipse cx=\"282.2427\" cy=\"432.7991\" fill=\"#A80036\" rx=\"2\" ry=\"2\" style=\"stroke: #A80036; stroke-width: 1.0;\"/></a><!--MD5=[65b5264cc4b93255019611cfced574a5]\n",
       "@startuml\r\n",
       " \r\n",
       "package \"PrivateImportTest\" as E1  [[psysml:8f933ba8-0ed5-4db5-b82c-58b1e568922b ]]  {\r\n",
       "package \"P1\" as E2  [[psysml:dc5a646f-7a70-4bb5-8a84-dd766b7ca58f ]]  {\r\n",
       "comp def \"A\" as E3 << << (B,green) >> [[psysml:e52e2a8f-f908-40ce-88b1-6459229e6290 ]] {\r\n",
       "}\r\n",
       "}\r\n",
       "package \"P2\" as E4  [[psysml:b07c7c49-60b3-45d9-ab30-3f9ccb4621b1 ]]  {\r\n",
       "}\r\n",
       "comp usage \"x: A \" as E5 << << (P,limegreen) part>> [[psysml:ae255e73-333e-4dec-b11e-e996fbedcc54 ]] {\r\n",
       "}\r\n",
       "package \"P3\" as E6  [[psysml:61bbaf9b-44aa-4d19-b1af-9f0be63c5dc6 ]]  {\r\n",
       "comp def \"B\" as E7 << << (B,green) >> [[psysml:f5eaf228-c184-457d-ba82-3236315ba9d3 ]] {\r\n",
       "}\r\n",
       "}\r\n",
       "comp usage \"z: B \" as E8 << << (P,limegreen) part>> [[psysml:3c42eaa7-d0d8-4753-a2b8-0968c7baa502 ]] {\r\n",
       "}\r\n",
       "package \"P4\" as E9  [[psysml:826bc35a-2948-4f0f-ac57-a46abe90dd77 ]]  {\r\n",
       "comp usage \"z1: A \" as E10 << << (P,limegreen) part>> [[psysml:bd10993a-8e6e-4149-83fc-2dc02c68e6fc ]] {\r\n",
       "}\r\n",
       "}\r\n",
       "}\r\n",
       "E4 ..> E2 [[psysml:9c76a3dc-4160-42f2-8d03-f28cee99dd8d ]] : <<import>>*\r\n",
       "E5 - -:|> E3 [[psysml:7e781afb-bb69-45b4-99ca-abeca0fc5181 ]] \r\n",
       "E1 ..> E4 [[psysml:3abfa817-381d-4c68-8935-6fa98a0aa2e6 ]] : <<import>>*\r\n",
       "E1 ..> E6 [[psysml:38071c17-dcc7-47a2-931c-5199b5c10531 ]] : <<import>>*\r\n",
       "E8 - -:|> E7 [[psysml:84039e37-6732-4e81-a24d-af568a8fc4d2 ]] \r\n",
       "E9 ..> E4 [[psysml:f4a7c8b4-50d4-4d21-9428-75951a767795 ]] : <<import>>*\r\n",
       "E10 - -:|> E3 [[psysml:ff7299d7-bc25-43a3-abcf-daa45aa95a4b ]] \r\n",
       "@enduml\r\n",
       "\n",
       "PlantUML version 1.2020.13(Sat Jun 13 12:26:38 UTC 2020)\n",
       "(EPL source distribution)\n",
       "Java Runtime: OpenJDK Runtime Environment\n",
       "JVM: OpenJDK 64-Bit Server VM\n",
       "Default Encoding: UTF-8\n",
       "Language: en\n",
       "Country: null\n",
       "--></g></svg>"
      ]
     },
     "execution_count": 31,
     "metadata": {},
     "output_type": "execute_result"
    }
   ],
   "source": [
    "%viz --style=\"PLANTUML\" --view=\"Tree\" \"PrivateImportTest\""
   ]
  },
  {
   "cell_type": "code",
   "execution_count": 32,
   "id": "a172d624",
   "metadata": {
    "execution": {
     "iopub.execute_input": "2022-08-19T08:19:18.179272Z",
     "iopub.status.busy": "2022-08-19T08:19:18.178827Z",
     "iopub.status.idle": "2022-08-19T08:19:18.269868Z",
     "shell.execute_reply": "2022-08-19T08:19:18.267865Z"
    }
   },
   "outputs": [
    {
     "data": {
      "image/svg+xml": [
       "<?xml version=\"1.0\" encoding=\"UTF-8\" standalone=\"no\"?><svg xmlns=\"http://www.w3.org/2000/svg\" xmlns:xlink=\"http://www.w3.org/1999/xlink\" contentScriptType=\"application/ecmascript\" contentStyleType=\"text/css\" height=\"300px\" preserveAspectRatio=\"none\" style=\"width:603px;height:300px;background:#000000;\" version=\"1.1\" viewBox=\"0 0 603 300\" width=\"603px\" zoomAndPan=\"magnify\"><defs/><g><rect fill=\"#07200C\" height=\"1\" style=\"stroke: #07200C; stroke-width: 1.0;\" width=\"1\" x=\"0\" y=\"0\"/><rect fill=\"#FFFFFF\" height=\"202.8012\" style=\"stroke: #FFFFFF; stroke-width: 1.0;\" width=\"602\" x=\"0\" y=\"0\"/><text fill=\"#000000\" font-family=\"sans-serif\" font-size=\"12\" font-weight=\"bold\" lengthAdjust=\"spacingAndGlyphs\" textLength=\"139\" x=\"5\" y=\"16.1387\">Welcome to PlantUML!</text><text fill=\"#000000\" font-family=\"sans-serif\" font-size=\"12\" lengthAdjust=\"spacingAndGlyphs\" textLength=\"0\" x=\"9\" y=\"30.1074\"/><text fill=\"#000000\" font-family=\"sans-serif\" font-size=\"12\" lengthAdjust=\"spacingAndGlyphs\" textLength=\"293\" x=\"5\" y=\"44.0762\">If you use this software, you accept its license.</text><text fill=\"#000000\" font-family=\"sans-serif\" font-size=\"12\" lengthAdjust=\"spacingAndGlyphs\" textLength=\"107\" x=\"5\" y=\"58.0449\">(details by typing</text><text fill=\"#000000\" font-family=\"monospace\" font-size=\"12\" lengthAdjust=\"spacingAndGlyphs\" textLength=\"42\" x=\"116\" y=\"58.595\">license</text><text fill=\"#000000\" font-family=\"sans-serif\" font-size=\"12\" lengthAdjust=\"spacingAndGlyphs\" textLength=\"56\" x=\"162\" y=\"58.0449\">keyword)</text><text fill=\"#000000\" font-family=\"sans-serif\" font-size=\"12\" lengthAdjust=\"spacingAndGlyphs\" textLength=\"0\" x=\"9\" y=\"72.0137\"/><text fill=\"#000000\" font-family=\"sans-serif\" font-size=\"12\" lengthAdjust=\"spacingAndGlyphs\" textLength=\"283\" x=\"5\" y=\"85.9824\">You can start with a simple UML Diagram like:</text><text fill=\"#000000\" font-family=\"sans-serif\" font-size=\"12\" lengthAdjust=\"spacingAndGlyphs\" textLength=\"0\" x=\"9\" y=\"99.9512\"/><text fill=\"#000000\" font-family=\"monospace\" font-size=\"12\" lengthAdjust=\"spacingAndGlyphs\" textLength=\"102\" x=\"5\" y=\"113.0893\">Bob-&gt;Alice: Hello</text><text fill=\"#000000\" font-family=\"sans-serif\" font-size=\"12\" lengthAdjust=\"spacingAndGlyphs\" textLength=\"0\" x=\"9\" y=\"126.508\"/><text fill=\"#000000\" font-family=\"sans-serif\" font-size=\"12\" lengthAdjust=\"spacingAndGlyphs\" textLength=\"14\" x=\"5\" y=\"140.4768\">Or</text><text fill=\"#000000\" font-family=\"sans-serif\" font-size=\"12\" lengthAdjust=\"spacingAndGlyphs\" textLength=\"0\" x=\"9\" y=\"154.4455\"/><text fill=\"#000000\" font-family=\"monospace\" font-size=\"12\" lengthAdjust=\"spacingAndGlyphs\" textLength=\"78\" x=\"5\" y=\"167.5837\">class Example</text><text fill=\"#000000\" font-family=\"sans-serif\" font-size=\"12\" lengthAdjust=\"spacingAndGlyphs\" textLength=\"0\" x=\"9\" y=\"181.0023\"/><text fill=\"#000000\" font-family=\"sans-serif\" font-size=\"12\" lengthAdjust=\"spacingAndGlyphs\" textLength=\"349\" x=\"5\" y=\"194.9711\">You will find more information about PlantUML syntax on</text><text fill=\"#000000\" font-family=\"sans-serif\" font-size=\"12\" lengthAdjust=\"spacingAndGlyphs\" text-decoration=\"underline\" textLength=\"129\" x=\"358\" y=\"194.9711\">https://plantuml.com</text><image height=\"71\" width=\"80\" x=\"516\" xlink:href=\"data:image/png;base64,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\" y=\"6\"/><rect fill=\"#000000\" height=\"96.4844\" style=\"stroke: #000000; stroke-width: 1.0;\" width=\"602\" x=\"0\" y=\"202.8012\"/><rect fill=\"#33FF02\" height=\"21.2969\" style=\"stroke: #33FF02; stroke-width: 1.0;\" width=\"145\" x=\"5\" y=\"207.8012\"/><text fill=\"#000000\" font-family=\"sans-serif\" font-size=\"14\" font-weight=\"bold\" lengthAdjust=\"spacingAndGlyphs\" textLength=\"143\" x=\"6\" y=\"222.8012\">[From string (line 2) ]</text><text fill=\"#33FF02\" font-family=\"sans-serif\" font-size=\"14\" font-weight=\"bold\" lengthAdjust=\"spacingAndGlyphs\" textLength=\"0\" x=\"9\" y=\"243.0981\"/><text fill=\"#33FF02\" font-family=\"sans-serif\" font-size=\"14\" font-weight=\"bold\" lengthAdjust=\"spacingAndGlyphs\" textLength=\"70\" x=\"5\" y=\"259.3949\">@startuml</text><text fill=\"#33FF02\" font-family=\"sans-serif\" font-size=\"14\" font-weight=\"bold\" lengthAdjust=\"spacingAndGlyphs\" textLength=\"0\" x=\"9\" y=\"275.6918\"/><text fill=\"#FF0000\" font-family=\"sans-serif\" font-size=\"14\" font-weight=\"bold\" lengthAdjust=\"spacingAndGlyphs\" textLength=\"124\" x=\"9\" y=\"291.9887\">Empty description</text><!--MD5=[f59edd8218d337f74d0c332fc6737304]\n",
       "@startuml\r\n",
       " \r\n",
       "@enduml\r\n",
       "\n",
       "PlantUML version 1.2020.13(Sat Jun 13 12:26:38 UTC 2020)\n",
       "(EPL source distribution)\n",
       "Java Runtime: OpenJDK Runtime Environment\n",
       "JVM: OpenJDK 64-Bit Server VM\n",
       "Default Encoding: UTF-8\n",
       "Language: en\n",
       "Country: null\n",
       "--></g></svg>"
      ]
     },
     "execution_count": 32,
     "metadata": {},
     "output_type": "execute_result"
    }
   ],
   "source": [
    "%viz --style=\"PLANTUML\" --view=\"State\" \"PrivateImportTest\""
   ]
  },
  {
   "cell_type": "code",
   "execution_count": 33,
   "id": "9056eb93",
   "metadata": {
    "execution": {
     "iopub.execute_input": "2022-08-19T08:19:18.318248Z",
     "iopub.status.busy": "2022-08-19T08:19:18.317935Z",
     "iopub.status.idle": "2022-08-19T08:19:18.344635Z",
     "shell.execute_reply": "2022-08-19T08:19:18.344409Z"
    }
   },
   "outputs": [
    {
     "data": {
      "image/svg+xml": [
       "<?xml version=\"1.0\" encoding=\"UTF-8\" standalone=\"no\"?><svg xmlns=\"http://www.w3.org/2000/svg\" xmlns:xlink=\"http://www.w3.org/1999/xlink\" contentScriptType=\"application/ecmascript\" contentStyleType=\"text/css\" height=\"568px\" preserveAspectRatio=\"none\" style=\"width:431px;height:568px;\" version=\"1.1\" viewBox=\"0 0 431 568\" width=\"431px\" zoomAndPan=\"magnify\"><defs><filter height=\"300%\" id=\"f5xw6zsuciq5l\" width=\"300%\" x=\"-1\" y=\"-1\"><feGaussianBlur result=\"blurOut\" stdDeviation=\"2.0\"/><feColorMatrix in=\"blurOut\" result=\"blurOut2\" type=\"matrix\" values=\"0 0 0 0 0 0 0 0 0 0 0 0 0 0 0 0 0 0 .4 0\"/><feOffset dx=\"4.0\" dy=\"4.0\" in=\"blurOut2\" result=\"blurOut3\"/><feBlend in=\"SourceGraphic\" in2=\"blurOut3\" mode=\"normal\"/></filter></defs><g><!--MD5=[fbc87193dbaf4d95561dea2c320d4a47]\n",
       "cluster E1--><a href=\"psysml:8f933ba8-0ed5-4db5-b82c-58b1e568922b\" target=\"_top\" title=\"psysml:8f933ba8-0ed5-4db5-b82c-58b1e568922b\" xlink:actuate=\"onRequest\" xlink:href=\"psysml:8f933ba8-0ed5-4db5-b82c-58b1e568922b\" xlink:show=\"new\" xlink:title=\"psysml:8f933ba8-0ed5-4db5-b82c-58b1e568922b\" xlink:type=\"simple\"><polygon fill=\"#FFFFFF\" filter=\"url(#f5xw6zsuciq5l)\" points=\"26.26,6,153.26,6,160.26,28.2969,409.26,28.2969,409.26,556,26.26,556,26.26,6\" style=\"stroke: #000000; stroke-width: 1.5;\"/><line style=\"stroke: #000000; stroke-width: 1.5;\" x1=\"26.26\" x2=\"160.26\" y1=\"28.2969\" y2=\"28.2969\"/><text fill=\"#000000\" font-family=\"sans-serif\" font-size=\"14\" font-weight=\"bold\" lengthAdjust=\"spacingAndGlyphs\" textLength=\"121\" x=\"30.26\" y=\"20.9951\">PrivateImportTest</text></a><!--MD5=[e4f7fae6ed58524ba242bb0b0d3be6b7]\n",
       "cluster E2--><a href=\"psysml:dc5a646f-7a70-4bb5-8a84-dd766b7ca58f\" target=\"_top\" title=\"psysml:dc5a646f-7a70-4bb5-8a84-dd766b7ca58f\" xlink:actuate=\"onRequest\" xlink:href=\"psysml:dc5a646f-7a70-4bb5-8a84-dd766b7ca58f\" xlink:show=\"new\" xlink:title=\"psysml:dc5a646f-7a70-4bb5-8a84-dd766b7ca58f\" xlink:type=\"simple\"><polygon fill=\"#FFFFFF\" filter=\"url(#f5xw6zsuciq5l)\" points=\"221.26,409,245.26,409,252.26,431.2969,338.26,431.2969,338.26,516,221.26,516,221.26,409\" style=\"stroke: #000000; stroke-width: 1.5;\"/><line style=\"stroke: #000000; stroke-width: 1.5;\" x1=\"221.26\" x2=\"252.26\" y1=\"431.2969\" y2=\"431.2969\"/><text fill=\"#000000\" font-family=\"sans-serif\" font-size=\"14\" font-weight=\"bold\" lengthAdjust=\"spacingAndGlyphs\" textLength=\"18\" x=\"225.26\" y=\"423.9951\">P1</text></a><!--MD5=[14e3b0961a2654348d326746436168a1]\n",
       "cluster E6--><a href=\"psysml:61bbaf9b-44aa-4d19-b1af-9f0be63c5dc6\" target=\"_top\" title=\"psysml:61bbaf9b-44aa-4d19-b1af-9f0be63c5dc6\" xlink:actuate=\"onRequest\" xlink:href=\"psysml:61bbaf9b-44aa-4d19-b1af-9f0be63c5dc6\" xlink:show=\"new\" xlink:title=\"psysml:61bbaf9b-44aa-4d19-b1af-9f0be63c5dc6\" xlink:type=\"simple\"><polygon fill=\"#FFFFFF\" filter=\"url(#f5xw6zsuciq5l)\" points=\"74.26,237,98.26,237,105.26,259.2969,191.26,259.2969,191.26,344,74.26,344,74.26,237\" style=\"stroke: #000000; stroke-width: 1.5;\"/><line style=\"stroke: #000000; stroke-width: 1.5;\" x1=\"74.26\" x2=\"105.26\" y1=\"259.2969\" y2=\"259.2969\"/><text fill=\"#000000\" font-family=\"sans-serif\" font-size=\"14\" font-weight=\"bold\" lengthAdjust=\"spacingAndGlyphs\" textLength=\"18\" x=\"78.26\" y=\"251.9951\">P3</text></a><!--MD5=[7f149f147074ac12df2cb0a7728a5fb0]\n",
       "cluster E9--><a href=\"psysml:826bc35a-2948-4f0f-ac57-a46abe90dd77\" target=\"_top\" title=\"psysml:826bc35a-2948-4f0f-ac57-a46abe90dd77\" xlink:actuate=\"onRequest\" xlink:href=\"psysml:826bc35a-2948-4f0f-ac57-a46abe90dd77\" xlink:show=\"new\" xlink:title=\"psysml:826bc35a-2948-4f0f-ac57-a46abe90dd77\" xlink:type=\"simple\"><polygon fill=\"#FFFFFF\" filter=\"url(#f5xw6zsuciq5l)\" points=\"236.26,65,260.26,65,267.26,87.2969,369.26,87.2969,369.26,172,236.26,172,236.26,65\" style=\"stroke: #000000; stroke-width: 1.5;\"/><line style=\"stroke: #000000; stroke-width: 1.5;\" x1=\"236.26\" x2=\"267.26\" y1=\"87.2969\" y2=\"87.2969\"/><text fill=\"#000000\" font-family=\"sans-serif\" font-size=\"14\" font-weight=\"bold\" lengthAdjust=\"spacingAndGlyphs\" textLength=\"18\" x=\"240.26\" y=\"79.9951\">P4</text></a><g id=\"E1.E2.E3\"><a href=\"psysml:e52e2a8f-f908-40ce-88b1-6459229e6290\" target=\"_top\" title=\"psysml:e52e2a8f-f908-40ce-88b1-6459229e6290\" xlink:actuate=\"onRequest\" xlink:href=\"psysml:e52e2a8f-f908-40ce-88b1-6459229e6290\" xlink:show=\"new\" xlink:title=\"psysml:e52e2a8f-f908-40ce-88b1-6459229e6290\" xlink:type=\"simple\"><rect fill=\"#FEFECE\" filter=\"url(#f5xw6zsuciq5l)\" height=\"40\" id=\"E3\" style=\"stroke: #A80036; stroke-width: 1.5;\" width=\"50\" x=\"264.26\" y=\"452\"/><ellipse cx=\"283.76\" cy=\"468\" fill=\"#008000\" rx=\"11\" ry=\"11\" style=\"stroke: #A80036; stroke-width: 1.0;\"/><path d=\"M280.635,473 L280.635,462.4063 L283.8694,462.4063 Q285.7756,462.4063 286.6819,463.1563 Q287.6038,463.9063 287.6038,465.0781 Q287.6038,465.7656 287.2131,466.4219 Q286.8381,467.0781 286.1194,467.375 Q286.9788,467.75 287.4944,468.4375 Q288.01,469.125 288.01,469.9375 Q288.01,471.3125 286.9788,472.1563 Q285.9631,473 283.8538,473 L280.635,473 Z M282.5569,466.6406 L283.7131,466.6406 Q284.8381,466.6406 285.2444,466.2656 Q285.6663,465.875 285.6663,465.25 Q285.6663,464.6719 285.2444,464.3125 Q284.8225,463.9531 283.885,463.9531 L282.5569,463.9531 L282.5569,466.6406 Z M282.5569,471.4219 L284.0569,471.4219 Q284.9631,471.4219 285.4944,471.0313 Q286.0256,470.6406 286.0256,469.8906 Q286.0256,469.125 285.5256,468.6563 Q285.0256,468.1719 283.76,468.1719 L282.5569,468.1719 L282.5569,471.4219 Z \"/><text fill=\"#000000\" font-family=\"sans-serif\" font-size=\"12\" lengthAdjust=\"spacingAndGlyphs\" textLength=\"8\" x=\"298.76\" y=\"472.1543\">A</text></a></g><a href=\"psysml:b07c7c49-60b3-45d9-ab30-3f9ccb4621b1\" target=\"_top\" title=\"psysml:b07c7c49-60b3-45d9-ab30-3f9ccb4621b1\" xlink:actuate=\"onRequest\" xlink:href=\"psysml:b07c7c49-60b3-45d9-ab30-3f9ccb4621b1\" xlink:show=\"new\" xlink:title=\"psysml:b07c7c49-60b3-45d9-ab30-3f9ccb4621b1\" xlink:type=\"simple\"><polygon fill=\"#FFFFFF\" filter=\"url(#f5xw6zsuciq5l)\" points=\"215.26,273.5,239.26,273.5,246.26,295.7969,253.26,295.7969,253.26,326.0938,215.26,326.0938,215.26,273.5\" style=\"stroke: #000000; stroke-width: 1.5;\"/><line style=\"stroke: #000000; stroke-width: 1.5;\" x1=\"215.26\" x2=\"246.26\" y1=\"295.7969\" y2=\"295.7969\"/><text fill=\"#000000\" font-family=\"sans-serif\" font-size=\"14\" font-weight=\"bold\" lengthAdjust=\"spacingAndGlyphs\" textLength=\"18\" x=\"219.26\" y=\"288.4951\">P2</text></a><g id=\"E1.E5\"><a href=\"psysml:ae255e73-333e-4dec-b11e-e996fbedcc54\" target=\"_top\" title=\"psysml:ae255e73-333e-4dec-b11e-e996fbedcc54\" xlink:actuate=\"onRequest\" xlink:href=\"psysml:ae255e73-333e-4dec-b11e-e996fbedcc54\" xlink:show=\"new\" xlink:title=\"psysml:ae255e73-333e-4dec-b11e-e996fbedcc54\" xlink:type=\"simple\"><rect fill=\"#FEFECE\" filter=\"url(#f5xw6zsuciq5l)\" height=\"40\" id=\"E5\" rx=\"10\" ry=\"10\" style=\"stroke: #A80036; stroke-width: 1.5;\" width=\"59\" x=\"325.76\" y=\"280\"/><ellipse cx=\"343.01\" cy=\"296\" fill=\"#B6DBBB\" rx=\"11\" ry=\"11\" style=\"stroke: #A80036; stroke-width: 1.0;\"/><path d=\"M342.76,301.4688 Q341.01,301.4688 340.0569,300.4375 Q339.1194,299.3906 339.1194,297.5469 L339.1194,290.6563 L341.1819,290.6563 L341.1819,290.8125 Q341.0881,290.9063 341.0569,291.0469 Q341.0413,291.1719 341.0413,291.4375 L341.0413,297.5625 Q341.0413,298.6563 341.4163,299.2813 Q341.7913,299.9063 342.7756,299.9063 Q343.76,299.9063 344.1506,299.2813 Q344.5413,298.6563 344.5413,297.5156 L344.5413,290.6563 L346.4163,290.6563 L346.4163,297.5 Q346.4163,299.5313 345.385,300.5 Q344.3694,301.4688 342.76,301.4688 Z \"/><text fill=\"#000000\" font-family=\"sans-serif\" font-size=\"12\" lengthAdjust=\"spacingAndGlyphs\" textLength=\"22\" x=\"357.51\" y=\"300.1543\">x: A</text></a></g><g id=\"E1.E6.E7\"><a href=\"psysml:f5eaf228-c184-457d-ba82-3236315ba9d3\" target=\"_top\" title=\"psysml:f5eaf228-c184-457d-ba82-3236315ba9d3\" xlink:actuate=\"onRequest\" xlink:href=\"psysml:f5eaf228-c184-457d-ba82-3236315ba9d3\" xlink:show=\"new\" xlink:title=\"psysml:f5eaf228-c184-457d-ba82-3236315ba9d3\" xlink:type=\"simple\"><rect fill=\"#FEFECE\" filter=\"url(#f5xw6zsuciq5l)\" height=\"40\" id=\"E7\" style=\"stroke: #A80036; stroke-width: 1.5;\" width=\"50\" x=\"117.26\" y=\"280\"/><ellipse cx=\"136.76\" cy=\"296\" fill=\"#008000\" rx=\"11\" ry=\"11\" style=\"stroke: #A80036; stroke-width: 1.0;\"/><path d=\"M133.635,301 L133.635,290.4063 L136.8694,290.4063 Q138.7756,290.4063 139.6819,291.1563 Q140.6038,291.9063 140.6038,293.0781 Q140.6038,293.7656 140.2131,294.4219 Q139.8381,295.0781 139.1194,295.375 Q139.9788,295.75 140.4944,296.4375 Q141.01,297.125 141.01,297.9375 Q141.01,299.3125 139.9788,300.1563 Q138.9631,301 136.8538,301 L133.635,301 Z M135.5569,294.6406 L136.7131,294.6406 Q137.8381,294.6406 138.2444,294.2656 Q138.6663,293.875 138.6663,293.25 Q138.6663,292.6719 138.2444,292.3125 Q137.8225,291.9531 136.885,291.9531 L135.5569,291.9531 L135.5569,294.6406 Z M135.5569,299.4219 L137.0569,299.4219 Q137.9631,299.4219 138.4944,299.0313 Q139.0256,298.6406 139.0256,297.8906 Q139.0256,297.125 138.5256,296.6563 Q138.0256,296.1719 136.76,296.1719 L135.5569,296.1719 L135.5569,299.4219 Z \"/><text fill=\"#000000\" font-family=\"sans-serif\" font-size=\"12\" lengthAdjust=\"spacingAndGlyphs\" textLength=\"8\" x=\"151.76\" y=\"300.1543\">B</text></a></g><g id=\"E1.E8\"><a href=\"psysml:3c42eaa7-d0d8-4753-a2b8-0968c7baa502\" target=\"_top\" title=\"psysml:3c42eaa7-d0d8-4753-a2b8-0968c7baa502\" xlink:actuate=\"onRequest\" xlink:href=\"psysml:3c42eaa7-d0d8-4753-a2b8-0968c7baa502\" xlink:show=\"new\" xlink:title=\"psysml:3c42eaa7-d0d8-4753-a2b8-0968c7baa502\" xlink:type=\"simple\"><rect fill=\"#FEFECE\" filter=\"url(#f5xw6zsuciq5l)\" height=\"40\" id=\"E8\" rx=\"10\" ry=\"10\" style=\"stroke: #A80036; stroke-width: 1.5;\" width=\"58\" x=\"151.26\" y=\"108\"/><ellipse cx=\"168.51\" cy=\"124\" fill=\"#B6DBBB\" rx=\"11\" ry=\"11\" style=\"stroke: #A80036; stroke-width: 1.0;\"/><path d=\"M168.26,129.4688 Q166.51,129.4688 165.5569,128.4375 Q164.6194,127.3906 164.6194,125.5469 L164.6194,118.6563 L166.6819,118.6563 L166.6819,118.8125 Q166.5881,118.9063 166.5569,119.0469 Q166.5413,119.1719 166.5413,119.4375 L166.5413,125.5625 Q166.5413,126.6563 166.9163,127.2813 Q167.2913,127.9063 168.2756,127.9063 Q169.26,127.9063 169.6506,127.2813 Q170.0413,126.6563 170.0413,125.5156 L170.0413,118.6563 L171.9163,118.6563 L171.9163,125.5 Q171.9163,127.5313 170.885,128.5 Q169.8694,129.4688 168.26,129.4688 Z \"/><text fill=\"#000000\" font-family=\"sans-serif\" font-size=\"12\" lengthAdjust=\"spacingAndGlyphs\" textLength=\"21\" x=\"183.01\" y=\"128.1543\">z: B</text></a></g><g id=\"E1.E9.E10\"><a href=\"psysml:bd10993a-8e6e-4149-83fc-2dc02c68e6fc\" target=\"_top\" title=\"psysml:bd10993a-8e6e-4149-83fc-2dc02c68e6fc\" xlink:actuate=\"onRequest\" xlink:href=\"psysml:bd10993a-8e6e-4149-83fc-2dc02c68e6fc\" xlink:show=\"new\" xlink:title=\"psysml:bd10993a-8e6e-4149-83fc-2dc02c68e6fc\" xlink:type=\"simple\"><rect fill=\"#FEFECE\" filter=\"url(#f5xw6zsuciq5l)\" height=\"40\" id=\"E10\" rx=\"10\" ry=\"10\" style=\"stroke: #A80036; stroke-width: 1.5;\" width=\"66\" x=\"279.26\" y=\"108\"/><ellipse cx=\"296.51\" cy=\"124\" fill=\"#B6DBBB\" rx=\"11\" ry=\"11\" style=\"stroke: #A80036; stroke-width: 1.0;\"/><path d=\"M296.26,129.4688 Q294.51,129.4688 293.5569,128.4375 Q292.6194,127.3906 292.6194,125.5469 L292.6194,118.6563 L294.6819,118.6563 L294.6819,118.8125 Q294.5881,118.9063 294.5569,119.0469 Q294.5413,119.1719 294.5413,119.4375 L294.5413,125.5625 Q294.5413,126.6563 294.9163,127.2813 Q295.2913,127.9063 296.2756,127.9063 Q297.26,127.9063 297.6506,127.2813 Q298.0413,126.6563 298.0413,125.5156 L298.0413,118.6563 L299.9163,118.6563 L299.9163,125.5 Q299.9163,127.5313 298.885,128.5 Q297.8694,129.4688 296.26,129.4688 Z \"/><text fill=\"#000000\" font-family=\"sans-serif\" font-size=\"12\" lengthAdjust=\"spacingAndGlyphs\" textLength=\"29\" x=\"311.01\" y=\"128.1543\">z1: A</text></a></g><!--MD5=[185131fc0dcab0a4505a2ebe144e961b]\n",
       "link E4 to E2--><a href=\"psysml:9c76a3dc-4160-42f2-8d03-f28cee99dd8d\" target=\"_top\" title=\"psysml:9c76a3dc-4160-42f2-8d03-f28cee99dd8d\" xlink:actuate=\"onRequest\" xlink:href=\"psysml:9c76a3dc-4160-42f2-8d03-f28cee99dd8d\" xlink:show=\"new\" xlink:title=\"psysml:9c76a3dc-4160-42f2-8d03-f28cee99dd8d\" xlink:type=\"simple\"><path d=\"M224.21,326.66 C219.91,338.96 215.4,354.02 213.26,368 C209.865,390.18 213.5125,415.04 218.1762,434.7787 C218.7592,437.2461 219.3581,439.6334 219.961,441.9255 C220.2625,443.0715 220.565,444.1937 220.8671,445.2902 C220.9426,445.5644 221.0181,445.8369 221.0935,446.1078 C221.1312,446.2432 221.1689,446.3782 221.2066,446.5129 \" fill=\"none\" id=\"E4-&gt;E2\" style=\"stroke: #A80036; stroke-width: 1.0; stroke-dasharray: 7.0,7.0;\"/><polygon fill=\"#A80036\" points=\"221.2066,446.5129,222.632,436.7677,219.8586,441.698,214.9282,438.9246,221.2066,446.5129\" style=\"stroke: #A80036; stroke-width: 1.0;\"/><text fill=\"#000000\" font-family=\"sans-serif\" font-size=\"13\" lengthAdjust=\"spacingAndGlyphs\" textLength=\"65\" x=\"214.26\" y=\"381.0669\">«import»*</text></a><!--MD5=[e9be52314489bd878ff4c7144b63c9e1]\n",
       "link E5 to E3--><a href=\"psysml:7e781afb-bb69-45b4-99ca-abeca0fc5181\" target=\"_top\" title=\"psysml:7e781afb-bb69-45b4-99ca-abeca0fc5181\" xlink:actuate=\"onRequest\" xlink:href=\"psysml:7e781afb-bb69-45b4-99ca-abeca0fc5181\" xlink:show=\"new\" xlink:title=\"psysml:7e781afb-bb69-45b4-99ca-abeca0fc5181\" xlink:type=\"simple\"><path d=\"M347.82,320.17 C337.24,347.41 317.65,397.88 304.05,432.9 \" fill=\"none\" id=\"E5-&gt;E3\" style=\"stroke: #A80036; stroke-width: 1.0;\"/><polygon fill=\"#FFFFFF\" points=\"296.68,451.9,297.0357,431.6547,310.0855,436.7246,296.68,451.9\" style=\"stroke: #A80036; stroke-width: 1.0;\"/><ellipse cx=\"300.9641\" cy=\"427.0658\" fill=\"#A80036\" rx=\"2\" ry=\"2\" style=\"stroke: #A80036; stroke-width: 1.0;\"/><ellipse cx=\"310.2854\" cy=\"430.6872\" fill=\"#A80036\" rx=\"2\" ry=\"2\" style=\"stroke: #A80036; stroke-width: 1.0;\"/></a><!--MD5=[ee384bb554873b72f85793eae40e290c]\n",
       "link E1 to E4--><a href=\"psysml:3abfa817-381d-4c68-8935-6fa98a0aa2e6\" target=\"_top\" title=\"psysml:3abfa817-381d-4c68-8935-6fa98a0aa2e6\" xlink:actuate=\"onRequest\" xlink:href=\"psysml:3abfa817-381d-4c68-8935-6fa98a0aa2e6\" xlink:show=\"new\" xlink:title=\"psysml:3abfa817-381d-4c68-8935-6fa98a0aa2e6\" xlink:type=\"simple\"><path d=\"M34.23,129.12 C33.64,131.47 24.51,169.5 42.26,188 C56.33,202.66 67.42,191.66 87.26,196 C130.33,205.42 147.46,195.27 183.26,221 C199.95,233 212.64,252.3 221.18,268.7 \" fill=\"none\" id=\"E1-&gt;E4\" style=\"stroke: #A80036; stroke-width: 1.0; stroke-dasharray: 7.0,7.0;\"/><polygon fill=\"#A80036\" points=\"223.48,273.24,222.9825,263.4037,221.2211,268.7794,215.8454,267.018,223.48,273.24\" style=\"stroke: #A80036; stroke-width: 1.0;\"/><text fill=\"#000000\" font-family=\"sans-serif\" font-size=\"13\" lengthAdjust=\"spacingAndGlyphs\" textLength=\"65\" x=\"169.26\" y=\"209.0669\">«import»*</text></a><!--MD5=[ccbd3af71bf83df0ec2a2db62d6d7130]\n",
       "link E1 to E6--><a href=\"psysml:38071c17-dcc7-47a2-931c-5199b5c10531\" target=\"_top\" title=\"psysml:38071c17-dcc7-47a2-931c-5199b5c10531\" xlink:actuate=\"onRequest\" xlink:href=\"psysml:38071c17-dcc7-47a2-931c-5199b5c10531\" xlink:show=\"new\" xlink:title=\"psysml:38071c17-dcc7-47a2-931c-5199b5c10531\" xlink:type=\"simple\"><path d=\"M26.1321,141.8991 C26.0794,141.9922 26.0266,142.0858 25.9737,142.1797 C25.8679,142.3675 25.7616,142.557 25.655,142.7481 C24.8015,144.2767 23.9214,145.9078 23.033,147.6283 C21.2563,151.0694 19.4463,154.8681 17.75,158.92 C10.965,175.1275 6,195.385 12.26,213 C20.255,235.49 36.9275,256.37 51.9962,271.9238 C59.5306,279.7006 66.6641,286.1459 72.1114,290.7952 C72.7923,291.3763 73.4469,291.9294 74.0726,292.4535 \" fill=\"none\" id=\"E1-&gt;E6\" style=\"stroke: #A80036; stroke-width: 1.0; stroke-dasharray: 7.0,7.0;\"/><polygon fill=\"#A80036\" points=\"74.0726,292.4535,69.7417,283.608,70.2396,289.2429,64.6047,289.7408,74.0726,292.4535\" style=\"stroke: #A80036; stroke-width: 1.0;\"/><text fill=\"#000000\" font-family=\"sans-serif\" font-size=\"13\" lengthAdjust=\"spacingAndGlyphs\" textLength=\"65\" x=\"13.26\" y=\"209.0669\">«import»*</text></a><!--MD5=[bfa3c8b0d15052fdf50ae9310b491027]\n",
       "link E8 to E7--><a href=\"psysml:84039e37-6732-4e81-a24d-af568a8fc4d2\" target=\"_top\" title=\"psysml:84039e37-6732-4e81-a24d-af568a8fc4d2\" xlink:actuate=\"onRequest\" xlink:href=\"psysml:84039e37-6732-4e81-a24d-af568a8fc4d2\" xlink:show=\"new\" xlink:title=\"psysml:84039e37-6732-4e81-a24d-af568a8fc4d2\" xlink:type=\"simple\"><path d=\"M192.58,148.06 C201.39,160.58 214.15,176.68 228.26,188 C234.46,192.97 240.08,189.24 244.26,196 C248.23,202.43 249.3,207.37 244.26,213 C233.37,225.15 184.13,210.97 171.26,221 C159.02,230.54 151.94,245.82 147.85,260.33 \" fill=\"none\" id=\"E8-&gt;E7\" style=\"stroke: #A80036; stroke-width: 1.0;\"/><polygon fill=\"#FFFFFF\" points=\"143.79,279.97,140.7755,259.9472,154.4865,262.7774,143.79,279.97\" style=\"stroke: #A80036; stroke-width: 1.0;\"/><ellipse cx=\"143.8865\" cy=\"254.7692\" fill=\"#A80036\" rx=\"2\" ry=\"2\" style=\"stroke: #A80036; stroke-width: 1.0;\"/><ellipse cx=\"153.68\" cy=\"256.7908\" fill=\"#A80036\" rx=\"2\" ry=\"2\" style=\"stroke: #A80036; stroke-width: 1.0;\"/></a><!--MD5=[c2be97adba6ddfe1c8f349fab141c927]\n",
       "link E9 to E4--><a href=\"psysml:f4a7c8b4-50d4-4d21-9428-75951a767795\" target=\"_top\" title=\"psysml:f4a7c8b4-50d4-4d21-9428-75951a767795\" xlink:actuate=\"onRequest\" xlink:href=\"psysml:f4a7c8b4-50d4-4d21-9428-75951a767795\" xlink:show=\"new\" xlink:title=\"psysml:f4a7c8b4-50d4-4d21-9428-75951a767795\" xlink:type=\"simple\"><path d=\"M249.445,172.2448 C249.4895,172.709 249.5336,173.1743 249.5773,173.6403 C250.2775,181.0969 250.8825,188.76 251.26,196 C251.65,203.55 252,205.48 251.26,213 C249.45,231.53 245.48,251.99 241.84,268.31 \" fill=\"none\" id=\"E9-&gt;E4\" style=\"stroke: #A80036; stroke-width: 1.0; stroke-dasharray: 7.0,7.0;\"/><polygon fill=\"#A80036\" points=\"240.72,273.23,246.5991,265.3284,241.8182,268.3521,238.7945,263.5712,240.72,273.23\" style=\"stroke: #A80036; stroke-width: 1.0;\"/><text fill=\"#000000\" font-family=\"sans-serif\" font-size=\"13\" lengthAdjust=\"spacingAndGlyphs\" textLength=\"65\" x=\"252.26\" y=\"209.0669\">«import»*</text></a><!--MD5=[feeac5eb423634930294aa81f2d25a4c]\n",
       "link E10 to E3--><a href=\"psysml:ff7299d7-bc25-43a3-abcf-daa45aa95a4b\" target=\"_top\" title=\"psysml:ff7299d7-bc25-43a3-abcf-daa45aa95a4b\" xlink:actuate=\"onRequest\" xlink:href=\"psysml:ff7299d7-bc25-43a3-abcf-daa45aa95a4b\" xlink:show=\"new\" xlink:title=\"psysml:ff7299d7-bc25-43a3-abcf-daa45aa95a4b\" xlink:type=\"simple\"><path d=\"M335.33,148.19 C354.32,166.27 375.54,193.43 358.26,213 C339.29,234.49 313.45,199.7 294.26,221 C280.55,236.22 284.34,364.85 287.27,431.42 \" fill=\"none\" id=\"E10-&gt;E3\" style=\"stroke: #A80036; stroke-width: 1.0;\"/><polygon fill=\"#FFFFFF\" points=\"288.23,451.72,280.3551,433.0656,294.34,432.4154,288.23,451.72\" style=\"stroke: #A80036; stroke-width: 1.0;\"/><ellipse cx=\"282.0882\" cy=\"427.2789\" fill=\"#A80036\" rx=\"2\" ry=\"2\" style=\"stroke: #A80036; stroke-width: 1.0;\"/><ellipse cx=\"292.0774\" cy=\"426.8144\" fill=\"#A80036\" rx=\"2\" ry=\"2\" style=\"stroke: #A80036; stroke-width: 1.0;\"/></a><!--MD5=[d389930e62a913fccf9c672c881a8c00]\n",
       "@startuml\r\n",
       "skinparam ranksep 10\r\n",
       "skinparam rectangle {\r\n",
       " backgroundColor<<block>> LightGreen\r\n",
       "}\r\n",
       " \r\n",
       "package \"PrivateImportTest\" as E1  [[psysml:8f933ba8-0ed5-4db5-b82c-58b1e568922b ]]  {\r\n",
       "package \"P1\" as E2  [[psysml:dc5a646f-7a70-4bb5-8a84-dd766b7ca58f ]]  {\r\n",
       "rec def \"A\" as E3 << << (B,green) >> [[psysml:e52e2a8f-f908-40ce-88b1-6459229e6290 ]] {\r\n",
       "}\r\n",
       "}\r\n",
       "package \"P2\" as E4  [[psysml:b07c7c49-60b3-45d9-ab30-3f9ccb4621b1 ]]  {\r\n",
       "}\r\n",
       "rec usage \"x: A\" as E5  [[psysml:ae255e73-333e-4dec-b11e-e996fbedcc54 ]] {\r\n",
       "}\r\n",
       "package \"P3\" as E6  [[psysml:61bbaf9b-44aa-4d19-b1af-9f0be63c5dc6 ]]  {\r\n",
       "rec def \"B\" as E7 << << (B,green) >> [[psysml:f5eaf228-c184-457d-ba82-3236315ba9d3 ]] {\r\n",
       "}\r\n",
       "}\r\n",
       "rec usage \"z: B\" as E8  [[psysml:3c42eaa7-d0d8-4753-a2b8-0968c7baa502 ]] {\r\n",
       "}\r\n",
       "package \"P4\" as E9  [[psysml:826bc35a-2948-4f0f-ac57-a46abe90dd77 ]]  {\r\n",
       "rec usage \"z1: A\" as E10  [[psysml:bd10993a-8e6e-4149-83fc-2dc02c68e6fc ]] {\r\n",
       "}\r\n",
       "}\r\n",
       "}\r\n",
       "E4 ..> E2 [[psysml:9c76a3dc-4160-42f2-8d03-f28cee99dd8d ]] : <<import>>*\r\n",
       "E5 - -:|> E3 [[psysml:7e781afb-bb69-45b4-99ca-abeca0fc5181 ]] \r\n",
       "E1 ..> E4 [[psysml:3abfa817-381d-4c68-8935-6fa98a0aa2e6 ]] : <<import>>*\r\n",
       "E1 ..> E6 [[psysml:38071c17-dcc7-47a2-931c-5199b5c10531 ]] : <<import>>*\r\n",
       "E8 - -:|> E7 [[psysml:84039e37-6732-4e81-a24d-af568a8fc4d2 ]] \r\n",
       "E9 ..> E4 [[psysml:f4a7c8b4-50d4-4d21-9428-75951a767795 ]] : <<import>>*\r\n",
       "E10 - -:|> E3 [[psysml:ff7299d7-bc25-43a3-abcf-daa45aa95a4b ]] \r\n",
       "@enduml\r\n",
       "\n",
       "PlantUML version 1.2020.13(Sat Jun 13 12:26:38 UTC 2020)\n",
       "(EPL source distribution)\n",
       "Java Runtime: OpenJDK Runtime Environment\n",
       "JVM: OpenJDK 64-Bit Server VM\n",
       "Default Encoding: UTF-8\n",
       "Language: en\n",
       "Country: null\n",
       "--></g></svg>"
      ]
     },
     "execution_count": 33,
     "metadata": {},
     "output_type": "execute_result"
    }
   ],
   "source": [
    "%viz --style=\"PLANTUML\" --view=\"Interconnection\" \"PrivateImportTest\""
   ]
  },
  {
   "cell_type": "code",
   "execution_count": 34,
   "id": "0be902a0",
   "metadata": {
    "execution": {
     "iopub.execute_input": "2022-08-19T08:19:18.394620Z",
     "iopub.status.busy": "2022-08-19T08:19:18.394252Z",
     "iopub.status.idle": "2022-08-19T08:19:18.398073Z",
     "shell.execute_reply": "2022-08-19T08:19:18.397477Z"
    }
   },
   "outputs": [
    {
     "data": {
      "image/svg+xml": [
       "<?xml version=\"1.0\" encoding=\"UTF-8\" standalone=\"no\"?><svg xmlns=\"http://www.w3.org/2000/svg\" xmlns:xlink=\"http://www.w3.org/1999/xlink\" contentScriptType=\"application/ecmascript\" contentStyleType=\"text/css\" height=\"12px\" preserveAspectRatio=\"none\" style=\"width:12px;height:12px;\" version=\"1.1\" viewBox=\"0 0 12 12\" width=\"12px\" zoomAndPan=\"magnify\"><defs/><g><!--MD5=[6a4cb978cab31700e1ce5529f947a75d]\n",
       "@startuml\r\n",
       "skinparam ranksep 8\r\n",
       " \r\n",
       "@enduml\r\n",
       "\n",
       "PlantUML version 1.2020.13(Sat Jun 13 12:26:38 UTC 2020)\n",
       "(EPL source distribution)\n",
       "Java Runtime: OpenJDK Runtime Environment\n",
       "JVM: OpenJDK 64-Bit Server VM\n",
       "Default Encoding: UTF-8\n",
       "Language: en\n",
       "Country: null\n",
       "--></g></svg>"
      ]
     },
     "execution_count": 34,
     "metadata": {},
     "output_type": "execute_result"
    }
   ],
   "source": [
    "%viz --style=\"PLANTUML\" --view=\"Action\" \"PrivateImportTest\""
   ]
  },
  {
   "cell_type": "code",
   "execution_count": 35,
   "id": "522bc49d",
   "metadata": {
    "execution": {
     "iopub.execute_input": "2022-08-19T08:19:18.448191Z",
     "iopub.status.busy": "2022-08-19T08:19:18.447495Z",
     "iopub.status.idle": "2022-08-19T08:19:18.452063Z",
     "shell.execute_reply": "2022-08-19T08:19:18.451515Z"
    }
   },
   "outputs": [
    {
     "data": {
      "image/svg+xml": [
       "<?xml version=\"1.0\" encoding=\"UTF-8\" standalone=\"no\"?><svg xmlns=\"http://www.w3.org/2000/svg\" xmlns:xlink=\"http://www.w3.org/1999/xlink\" contentScriptType=\"application/ecmascript\" contentStyleType=\"text/css\" height=\"12px\" preserveAspectRatio=\"none\" style=\"width:12px;height:12px;\" version=\"1.1\" viewBox=\"0 0 12 12\" width=\"12px\" zoomAndPan=\"magnify\"><defs/><g><!--MD5=[ca4faa0b02def275ea33c14ea7a1a98d]\n",
       "@startuml\r\n",
       "skinparam roundcorner 20\r\n",
       "skinparam BoxPadding 20\r\n",
       "skinparam SequenceBoxBackgroundColor #white\r\n",
       "skinparam style strictuml\r\n",
       "skinparam maxMessageSize 100\r\n",
       " \r\n",
       "@enduml\r\n",
       "\n",
       "PlantUML version 1.2020.13(Sat Jun 13 12:26:38 UTC 2020)\n",
       "(EPL source distribution)\n",
       "Java Runtime: OpenJDK Runtime Environment\n",
       "JVM: OpenJDK 64-Bit Server VM\n",
       "Default Encoding: UTF-8\n",
       "Language: en\n",
       "Country: null\n",
       "--></g></svg>"
      ]
     },
     "execution_count": 35,
     "metadata": {},
     "output_type": "execute_result"
    }
   ],
   "source": [
    "%viz --style=\"PLANTUML\" --view=\"Sequence\" \"PrivateImportTest\""
   ]
  },
  {
   "cell_type": "code",
   "execution_count": 36,
   "id": "bf77a077",
   "metadata": {
    "execution": {
     "iopub.execute_input": "2022-08-19T08:19:18.500915Z",
     "iopub.status.busy": "2022-08-19T08:19:18.500550Z",
     "iopub.status.idle": "2022-08-19T08:19:18.533440Z",
     "shell.execute_reply": "2022-08-19T08:19:18.533125Z"
    }
   },
   "outputs": [
    {
     "data": {
      "image/svg+xml": [
       "<?xml version=\"1.0\" encoding=\"UTF-8\" standalone=\"no\"?><svg xmlns=\"http://www.w3.org/2000/svg\" xmlns:xlink=\"http://www.w3.org/1999/xlink\" contentScriptType=\"application/ecmascript\" contentStyleType=\"text/css\" height=\"574px\" preserveAspectRatio=\"none\" style=\"width:429px;height:574px;\" version=\"1.1\" viewBox=\"0 0 429 574\" width=\"429px\" zoomAndPan=\"magnify\"><defs><filter height=\"300%\" id=\"f1c4736aiwk49t\" width=\"300%\" x=\"-1\" y=\"-1\"><feGaussianBlur result=\"blurOut\" stdDeviation=\"2.0\"/><feColorMatrix in=\"blurOut\" result=\"blurOut2\" type=\"matrix\" values=\"0 0 0 0 0 0 0 0 0 0 0 0 0 0 0 0 0 0 .4 0\"/><feOffset dx=\"4.0\" dy=\"4.0\" in=\"blurOut2\" result=\"blurOut3\"/><feBlend in=\"SourceGraphic\" in2=\"blurOut3\" mode=\"normal\"/></filter></defs><g><!--MD5=[fbc87193dbaf4d95561dea2c320d4a47]\n",
       "cluster E1--><a href=\"psysml:8f933ba8-0ed5-4db5-b82c-58b1e568922b\" target=\"_top\" title=\"psysml:8f933ba8-0ed5-4db5-b82c-58b1e568922b\" xlink:actuate=\"onRequest\" xlink:href=\"psysml:8f933ba8-0ed5-4db5-b82c-58b1e568922b\" xlink:show=\"new\" xlink:title=\"psysml:8f933ba8-0ed5-4db5-b82c-58b1e568922b\" xlink:type=\"simple\"><polygon fill=\"#FFFFFF\" filter=\"url(#f1c4736aiwk49t)\" points=\"26.47,6,153.47,6,160.47,28.2969,407.47,28.2969,407.47,562,26.47,562,26.47,6\" style=\"stroke: #000000; stroke-width: 1.5;\"/><line style=\"stroke: #000000; stroke-width: 1.5;\" x1=\"26.47\" x2=\"160.47\" y1=\"28.2969\" y2=\"28.2969\"/><text fill=\"#000000\" font-family=\"sans-serif\" font-size=\"14\" font-weight=\"bold\" lengthAdjust=\"spacingAndGlyphs\" textLength=\"121\" x=\"30.47\" y=\"20.9951\">PrivateImportTest</text></a><!--MD5=[e4f7fae6ed58524ba242bb0b0d3be6b7]\n",
       "cluster E2--><a href=\"psysml:dc5a646f-7a70-4bb5-8a84-dd766b7ca58f\" target=\"_top\" title=\"psysml:dc5a646f-7a70-4bb5-8a84-dd766b7ca58f\" xlink:actuate=\"onRequest\" xlink:href=\"psysml:dc5a646f-7a70-4bb5-8a84-dd766b7ca58f\" xlink:show=\"new\" xlink:title=\"psysml:dc5a646f-7a70-4bb5-8a84-dd766b7ca58f\" xlink:type=\"simple\"><polygon fill=\"#FFFFFF\" filter=\"url(#f1c4736aiwk49t)\" points=\"216.47,415,240.47,415,247.47,437.2969,323.47,437.2969,323.47,522,216.47,522,216.47,415\" style=\"stroke: #000000; stroke-width: 1.5;\"/><line style=\"stroke: #000000; stroke-width: 1.5;\" x1=\"216.47\" x2=\"247.47\" y1=\"437.2969\" y2=\"437.2969\"/><text fill=\"#000000\" font-family=\"sans-serif\" font-size=\"14\" font-weight=\"bold\" lengthAdjust=\"spacingAndGlyphs\" textLength=\"18\" x=\"220.47\" y=\"429.9951\">P1</text></a><!--MD5=[14e3b0961a2654348d326746436168a1]\n",
       "cluster E6--><a href=\"psysml:61bbaf9b-44aa-4d19-b1af-9f0be63c5dc6\" target=\"_top\" title=\"psysml:61bbaf9b-44aa-4d19-b1af-9f0be63c5dc6\" xlink:actuate=\"onRequest\" xlink:href=\"psysml:61bbaf9b-44aa-4d19-b1af-9f0be63c5dc6\" xlink:show=\"new\" xlink:title=\"psysml:61bbaf9b-44aa-4d19-b1af-9f0be63c5dc6\" xlink:type=\"simple\"><polygon fill=\"#FFFFFF\" filter=\"url(#f1c4736aiwk49t)\" points=\"74.47,243,98.47,243,105.47,265.2969,181.47,265.2969,181.47,350,74.47,350,74.47,243\" style=\"stroke: #000000; stroke-width: 1.5;\"/><line style=\"stroke: #000000; stroke-width: 1.5;\" x1=\"74.47\" x2=\"105.47\" y1=\"265.2969\" y2=\"265.2969\"/><text fill=\"#000000\" font-family=\"sans-serif\" font-size=\"14\" font-weight=\"bold\" lengthAdjust=\"spacingAndGlyphs\" textLength=\"18\" x=\"78.47\" y=\"257.9951\">P3</text></a><!--MD5=[7f149f147074ac12df2cb0a7728a5fb0]\n",
       "cluster E9--><a href=\"psysml:826bc35a-2948-4f0f-ac57-a46abe90dd77\" target=\"_top\" title=\"psysml:826bc35a-2948-4f0f-ac57-a46abe90dd77\" xlink:actuate=\"onRequest\" xlink:href=\"psysml:826bc35a-2948-4f0f-ac57-a46abe90dd77\" xlink:show=\"new\" xlink:title=\"psysml:826bc35a-2948-4f0f-ac57-a46abe90dd77\" xlink:type=\"simple\"><polygon fill=\"#FFFFFF\" filter=\"url(#f1c4736aiwk49t)\" points=\"232.47,65,256.47,65,263.47,87.2969,367.47,87.2969,367.47,178,232.47,178,232.47,65\" style=\"stroke: #000000; stroke-width: 1.5;\"/><line style=\"stroke: #000000; stroke-width: 1.5;\" x1=\"232.47\" x2=\"263.47\" y1=\"87.2969\" y2=\"87.2969\"/><text fill=\"#000000\" font-family=\"sans-serif\" font-size=\"14\" font-weight=\"bold\" lengthAdjust=\"spacingAndGlyphs\" textLength=\"18\" x=\"236.47\" y=\"79.9951\">P4</text></a><!--MD5=[270fce915f116d4de14055a7c1d9a0f3]\n",
       "class E5--><a href=\"psysml:ae255e73-333e-4dec-b11e-e996fbedcc54\" target=\"_top\" title=\"psysml:ae255e73-333e-4dec-b11e-e996fbedcc54\" xlink:actuate=\"onRequest\" xlink:href=\"psysml:ae255e73-333e-4dec-b11e-e996fbedcc54\" xlink:show=\"new\" xlink:title=\"psysml:ae255e73-333e-4dec-b11e-e996fbedcc54\" xlink:type=\"simple\"><rect fill=\"#FEFECE\" filter=\"url(#f1c4736aiwk49t)\" height=\"45.9375\" id=\"E5\" rx=\"10\" ry=\"10\" style=\"stroke: #A80036; stroke-width: 1.5;\" width=\"68\" x=\"315.47\" y=\"283\"/><ellipse cx=\"330.47\" cy=\"301.9688\" fill=\"#32CD32\" rx=\"11\" ry=\"11\" style=\"stroke: #A80036; stroke-width: 1.0;\"/><path d=\"M327.2825,306.9688 L327.2825,296.375 L330.8919,296.375 Q332.1106,296.375 332.9075,296.8125 Q333.7044,297.2344 334.0794,297.9375 Q334.47,298.6406 334.47,299.4844 Q334.47,300.3281 334.095,301.0156 Q333.7356,301.7031 332.9388,302.125 Q332.1575,302.5313 330.97,302.5313 L329.2356,302.5313 L329.2356,306.9688 L327.2825,306.9688 Z M329.2356,300.9375 L330.845,300.9375 Q331.6575,300.9375 332.0794,300.5313 Q332.5013,300.125 332.5013,299.4844 Q332.5013,298.8594 332.0794,298.4531 Q331.6575,298.0469 330.8606,298.0469 L329.2356,298.0469 L329.2356,300.9375 Z \"/><text fill=\"#000000\" font-family=\"sans-serif\" font-size=\"12\" font-style=\"italic\" lengthAdjust=\"spacingAndGlyphs\" textLength=\"40\" x=\"342.47\" y=\"299.1387\">«part»</text><text fill=\"#000000\" font-family=\"sans-serif\" font-size=\"12\" lengthAdjust=\"spacingAndGlyphs\" textLength=\"22\" x=\"349.47\" y=\"313.1074\">x: A</text><line style=\"stroke: #A80036; stroke-width: 1.5;\" x1=\"316.47\" x2=\"382.47\" y1=\"320.9375\" y2=\"320.9375\"/></a><!--MD5=[b9389687b975829384b498ac4b7476b2]\n",
       "class E8--><a href=\"psysml:3c42eaa7-d0d8-4753-a2b8-0968c7baa502\" target=\"_top\" title=\"psysml:3c42eaa7-d0d8-4753-a2b8-0968c7baa502\" xlink:actuate=\"onRequest\" xlink:href=\"psysml:3c42eaa7-d0d8-4753-a2b8-0968c7baa502\" xlink:show=\"new\" xlink:title=\"psysml:3c42eaa7-d0d8-4753-a2b8-0968c7baa502\" xlink:type=\"simple\"><rect fill=\"#FEFECE\" filter=\"url(#f1c4736aiwk49t)\" height=\"45.9375\" id=\"E8\" rx=\"10\" ry=\"10\" style=\"stroke: #A80036; stroke-width: 1.5;\" width=\"68\" x=\"137.47\" y=\"108\"/><ellipse cx=\"152.47\" cy=\"126.9688\" fill=\"#32CD32\" rx=\"11\" ry=\"11\" style=\"stroke: #A80036; stroke-width: 1.0;\"/><path d=\"M149.2825,131.9688 L149.2825,121.375 L152.8919,121.375 Q154.1106,121.375 154.9075,121.8125 Q155.7044,122.2344 156.0794,122.9375 Q156.47,123.6406 156.47,124.4844 Q156.47,125.3281 156.095,126.0156 Q155.7356,126.7031 154.9388,127.125 Q154.1575,127.5313 152.97,127.5313 L151.2356,127.5313 L151.2356,131.9688 L149.2825,131.9688 Z M151.2356,125.9375 L152.845,125.9375 Q153.6575,125.9375 154.0794,125.5313 Q154.5013,125.125 154.5013,124.4844 Q154.5013,123.8594 154.0794,123.4531 Q153.6575,123.0469 152.8606,123.0469 L151.2356,123.0469 L151.2356,125.9375 Z \"/><text fill=\"#000000\" font-family=\"sans-serif\" font-size=\"12\" font-style=\"italic\" lengthAdjust=\"spacingAndGlyphs\" textLength=\"40\" x=\"164.47\" y=\"124.1387\">«part»</text><text fill=\"#000000\" font-family=\"sans-serif\" font-size=\"12\" lengthAdjust=\"spacingAndGlyphs\" textLength=\"21\" x=\"171.97\" y=\"138.1074\">z: B</text><line style=\"stroke: #A80036; stroke-width: 1.5;\" x1=\"138.47\" x2=\"204.47\" y1=\"145.9375\" y2=\"145.9375\"/></a><!--MD5=[09b614a08d8cba4a07c9adeb5e0fee81]\n",
       "class E3--><a href=\"psysml:e52e2a8f-f908-40ce-88b1-6459229e6290\" target=\"_top\" title=\"psysml:e52e2a8f-f908-40ce-88b1-6459229e6290\" xlink:actuate=\"onRequest\" xlink:href=\"psysml:e52e2a8f-f908-40ce-88b1-6459229e6290\" xlink:show=\"new\" xlink:title=\"psysml:e52e2a8f-f908-40ce-88b1-6459229e6290\" xlink:type=\"simple\"><rect fill=\"#FEFECE\" filter=\"url(#f1c4736aiwk49t)\" height=\"40\" id=\"E3\" style=\"stroke: #A80036; stroke-width: 1.5;\" width=\"40\" x=\"259.47\" y=\"458\"/><ellipse cx=\"274.47\" cy=\"474\" fill=\"#008000\" rx=\"11\" ry=\"11\" style=\"stroke: #A80036; stroke-width: 1.0;\"/><path d=\"M271.345,479 L271.345,468.4063 L274.5794,468.4063 Q276.4856,468.4063 277.3919,469.1563 Q278.3138,469.9063 278.3138,471.0781 Q278.3138,471.7656 277.9231,472.4219 Q277.5481,473.0781 276.8294,473.375 Q277.6888,473.75 278.2044,474.4375 Q278.72,475.125 278.72,475.9375 Q278.72,477.3125 277.6888,478.1563 Q276.6731,479 274.5638,479 L271.345,479 Z M273.2669,472.6406 L274.4231,472.6406 Q275.5481,472.6406 275.9544,472.2656 Q276.3763,471.875 276.3763,471.25 Q276.3763,470.6719 275.9544,470.3125 Q275.5325,469.9531 274.595,469.9531 L273.2669,469.9531 L273.2669,472.6406 Z M273.2669,477.4219 L274.7669,477.4219 Q275.6731,477.4219 276.2044,477.0313 Q276.7356,476.6406 276.7356,475.8906 Q276.7356,475.125 276.2356,474.6563 Q275.7356,474.1719 274.47,474.1719 L273.2669,474.1719 L273.2669,477.4219 Z \"/><text fill=\"#000000\" font-family=\"sans-serif\" font-size=\"12\" lengthAdjust=\"spacingAndGlyphs\" textLength=\"8\" x=\"288.47\" y=\"478.1543\">A</text><line style=\"stroke: #A80036; stroke-width: 1.5;\" x1=\"260.47\" x2=\"298.47\" y1=\"490\" y2=\"490\"/></a><a href=\"psysml:b07c7c49-60b3-45d9-ab30-3f9ccb4621b1\" target=\"_top\" title=\"psysml:b07c7c49-60b3-45d9-ab30-3f9ccb4621b1\" xlink:actuate=\"onRequest\" xlink:href=\"psysml:b07c7c49-60b3-45d9-ab30-3f9ccb4621b1\" xlink:show=\"new\" xlink:title=\"psysml:b07c7c49-60b3-45d9-ab30-3f9ccb4621b1\" xlink:type=\"simple\"><polygon fill=\"#FFFFFF\" filter=\"url(#f1c4736aiwk49t)\" points=\"205.47,279.5,229.47,279.5,236.47,301.7969,243.47,301.7969,243.47,332.0938,205.47,332.0938,205.47,279.5\" style=\"stroke: #000000; stroke-width: 1.5;\"/><line style=\"stroke: #000000; stroke-width: 1.5;\" x1=\"205.47\" x2=\"236.47\" y1=\"301.7969\" y2=\"301.7969\"/><text fill=\"#000000\" font-family=\"sans-serif\" font-size=\"14\" font-weight=\"bold\" lengthAdjust=\"spacingAndGlyphs\" textLength=\"18\" x=\"209.47\" y=\"294.4951\">P2</text></a><!--MD5=[2156ba9850f5573cc1fc38a6a4b2f02b]\n",
       "class E7--><a href=\"psysml:f5eaf228-c184-457d-ba82-3236315ba9d3\" target=\"_top\" title=\"psysml:f5eaf228-c184-457d-ba82-3236315ba9d3\" xlink:actuate=\"onRequest\" xlink:href=\"psysml:f5eaf228-c184-457d-ba82-3236315ba9d3\" xlink:show=\"new\" xlink:title=\"psysml:f5eaf228-c184-457d-ba82-3236315ba9d3\" xlink:type=\"simple\"><rect fill=\"#FEFECE\" filter=\"url(#f1c4736aiwk49t)\" height=\"40\" id=\"E7\" style=\"stroke: #A80036; stroke-width: 1.5;\" width=\"40\" x=\"117.47\" y=\"286\"/><ellipse cx=\"132.47\" cy=\"302\" fill=\"#008000\" rx=\"11\" ry=\"11\" style=\"stroke: #A80036; stroke-width: 1.0;\"/><path d=\"M129.345,307 L129.345,296.4063 L132.5794,296.4063 Q134.4856,296.4063 135.3919,297.1563 Q136.3138,297.9063 136.3138,299.0781 Q136.3138,299.7656 135.9231,300.4219 Q135.5481,301.0781 134.8294,301.375 Q135.6888,301.75 136.2044,302.4375 Q136.72,303.125 136.72,303.9375 Q136.72,305.3125 135.6888,306.1563 Q134.6731,307 132.5638,307 L129.345,307 Z M131.2669,300.6406 L132.4231,300.6406 Q133.5481,300.6406 133.9544,300.2656 Q134.3763,299.875 134.3763,299.25 Q134.3763,298.6719 133.9544,298.3125 Q133.5325,297.9531 132.595,297.9531 L131.2669,297.9531 L131.2669,300.6406 Z M131.2669,305.4219 L132.7669,305.4219 Q133.6731,305.4219 134.2044,305.0313 Q134.7356,304.6406 134.7356,303.8906 Q134.7356,303.125 134.2356,302.6563 Q133.7356,302.1719 132.47,302.1719 L131.2669,302.1719 L131.2669,305.4219 Z \"/><text fill=\"#000000\" font-family=\"sans-serif\" font-size=\"12\" lengthAdjust=\"spacingAndGlyphs\" textLength=\"8\" x=\"146.47\" y=\"306.1543\">B</text><line style=\"stroke: #A80036; stroke-width: 1.5;\" x1=\"118.47\" x2=\"156.47\" y1=\"318\" y2=\"318\"/></a><!--MD5=[96f4274e9e20536e775497830990834d]\n",
       "class E10--><a href=\"psysml:bd10993a-8e6e-4149-83fc-2dc02c68e6fc\" target=\"_top\" title=\"psysml:bd10993a-8e6e-4149-83fc-2dc02c68e6fc\" xlink:actuate=\"onRequest\" xlink:href=\"psysml:bd10993a-8e6e-4149-83fc-2dc02c68e6fc\" xlink:show=\"new\" xlink:title=\"psysml:bd10993a-8e6e-4149-83fc-2dc02c68e6fc\" xlink:type=\"simple\"><rect fill=\"#FEFECE\" filter=\"url(#f1c4736aiwk49t)\" height=\"45.9375\" id=\"E10\" rx=\"10\" ry=\"10\" style=\"stroke: #A80036; stroke-width: 1.5;\" width=\"68\" x=\"275.47\" y=\"108\"/><ellipse cx=\"290.47\" cy=\"126.9688\" fill=\"#32CD32\" rx=\"11\" ry=\"11\" style=\"stroke: #A80036; stroke-width: 1.0;\"/><path d=\"M287.2825,131.9688 L287.2825,121.375 L290.8919,121.375 Q292.1106,121.375 292.9075,121.8125 Q293.7044,122.2344 294.0794,122.9375 Q294.47,123.6406 294.47,124.4844 Q294.47,125.3281 294.095,126.0156 Q293.7356,126.7031 292.9388,127.125 Q292.1575,127.5313 290.97,127.5313 L289.2356,127.5313 L289.2356,131.9688 L287.2825,131.9688 Z M289.2356,125.9375 L290.845,125.9375 Q291.6575,125.9375 292.0794,125.5313 Q292.5013,125.125 292.5013,124.4844 Q292.5013,123.8594 292.0794,123.4531 Q291.6575,123.0469 290.8606,123.0469 L289.2356,123.0469 L289.2356,125.9375 Z \"/><text fill=\"#000000\" font-family=\"sans-serif\" font-size=\"12\" font-style=\"italic\" lengthAdjust=\"spacingAndGlyphs\" textLength=\"40\" x=\"302.47\" y=\"124.1387\">«part»</text><text fill=\"#000000\" font-family=\"sans-serif\" font-size=\"12\" lengthAdjust=\"spacingAndGlyphs\" textLength=\"29\" x=\"305.97\" y=\"138.1074\">z1: A</text><line style=\"stroke: #A80036; stroke-width: 1.5;\" x1=\"276.47\" x2=\"342.47\" y1=\"145.9375\" y2=\"145.9375\"/></a><!--MD5=[185131fc0dcab0a4505a2ebe144e961b]\n",
       "link E4 to E2--><a href=\"psysml:9c76a3dc-4160-42f2-8d03-f28cee99dd8d\" target=\"_top\" title=\"psysml:9c76a3dc-4160-42f2-8d03-f28cee99dd8d\" xlink:actuate=\"onRequest\" xlink:href=\"psysml:9c76a3dc-4160-42f2-8d03-f28cee99dd8d\" xlink:show=\"new\" xlink:title=\"psysml:9c76a3dc-4160-42f2-8d03-f28cee99dd8d\" xlink:type=\"simple\"><path d=\"M214.42,332.66 C210.12,344.96 205.61,360.02 203.47,374 C200.045,396.37 204.865,421.235 210.7463,440.93 C212.2166,445.8538 213.7532,450.4544 215.2439,454.6121 C215.6166,455.6515 215.9864,456.6633 216.3516,457.6455 \" fill=\"none\" id=\"E4-&gt;E2\" style=\"stroke: #A80036; stroke-width: 1.0; stroke-dasharray: 7.0,7.0;\"/><polygon fill=\"#A80036\" points=\"216.3516,457.6455,216.9644,447.8157,214.6091,452.9589,209.4659,450.6037,216.3516,457.6455\" style=\"stroke: #A80036; stroke-width: 1.0;\"/><text fill=\"#000000\" font-family=\"sans-serif\" font-size=\"13\" lengthAdjust=\"spacingAndGlyphs\" textLength=\"65\" x=\"204.47\" y=\"387.0669\">«import»*</text></a><!--MD5=[e9be52314489bd878ff4c7144b63c9e1]\n",
       "link E5 to E3--><a href=\"psysml:7e781afb-bb69-45b4-99ca-abeca0fc5181\" target=\"_top\" title=\"psysml:7e781afb-bb69-45b4-99ca-abeca0fc5181\" xlink:actuate=\"onRequest\" xlink:href=\"psysml:7e781afb-bb69-45b4-99ca-abeca0fc5181\" xlink:show=\"new\" xlink:title=\"psysml:7e781afb-bb69-45b4-99ca-abeca0fc5181\" xlink:type=\"simple\"><path d=\"M340.32,329.22 C328.84,357.1 308.98,405.33 295.08,439.08 \" fill=\"none\" id=\"E5-&gt;E3\" style=\"stroke: #A80036; stroke-width: 1.0;\"/><polygon fill=\"#FFFFFF\" points=\"287.33,457.92,288.0884,437.6857,301.0347,443.0142,287.33,457.92\" style=\"stroke: #A80036; stroke-width: 1.0;\"/><ellipse cx=\"292.1073\" cy=\"433.176\" fill=\"#A80036\" rx=\"2\" ry=\"2\" style=\"stroke: #A80036; stroke-width: 1.0;\"/><ellipse cx=\"301.3547\" cy=\"436.982\" fill=\"#A80036\" rx=\"2\" ry=\"2\" style=\"stroke: #A80036; stroke-width: 1.0;\"/></a><!--MD5=[ee384bb554873b72f85793eae40e290c]\n",
       "link E1 to E4--><a href=\"psysml:3abfa817-381d-4c68-8935-6fa98a0aa2e6\" target=\"_top\" title=\"psysml:3abfa817-381d-4c68-8935-6fa98a0aa2e6\" xlink:actuate=\"onRequest\" xlink:href=\"psysml:3abfa817-381d-4c68-8935-6fa98a0aa2e6\" xlink:show=\"new\" xlink:title=\"psysml:3abfa817-381d-4c68-8935-6fa98a0aa2e6\" xlink:type=\"simple\"><path d=\"M34.44,132.12 C33.8,134.6 23.9,174.52 42.47,194 C56.49,208.7 67.69,197.38 87.47,202 C126.23,211.05 141.48,203.31 173.47,227 C189.99,239.23 202.68,258.54 211.26,274.88 \" fill=\"none\" id=\"E1-&gt;E4\" style=\"stroke: #A80036; stroke-width: 1.0; stroke-dasharray: 7.0,7.0;\"/><polygon fill=\"#A80036\" points=\"213.58,279.4,213.0324,269.5664,211.2984,274.9509,205.9139,273.2169,213.58,279.4\" style=\"stroke: #A80036; stroke-width: 1.0;\"/><text fill=\"#000000\" font-family=\"sans-serif\" font-size=\"13\" lengthAdjust=\"spacingAndGlyphs\" textLength=\"65\" x=\"161.47\" y=\"215.0669\">«import»*</text></a><!--MD5=[ccbd3af71bf83df0ec2a2db62d6d7130]\n",
       "link E1 to E6--><a href=\"psysml:38071c17-dcc7-47a2-931c-5199b5c10531\" target=\"_top\" title=\"psysml:38071c17-dcc7-47a2-931c-5199b5c10531\" xlink:actuate=\"onRequest\" xlink:href=\"psysml:38071c17-dcc7-47a2-931c-5199b5c10531\" xlink:show=\"new\" xlink:title=\"psysml:38071c17-dcc7-47a2-931c-5199b5c10531\" xlink:type=\"simple\"><path d=\"M26.4129,145.0882 C26.2009,145.471 25.9871,145.8607 25.7715,146.257 C24.9093,147.8422 24.0204,149.5335 23.1235,151.3174 C21.3297,154.8852 19.5037,158.8231 17.795,163.0225 C10.96,179.82 6,200.8 12.47,219 C20.465,241.49 37.1375,262.37 52.2063,277.9238 C59.7406,285.7006 66.8741,292.1459 72.3214,296.7952 C73.0023,297.3763 73.6569,297.9294 74.2826,298.4535 \" fill=\"none\" id=\"E1-&gt;E6\" style=\"stroke: #A80036; stroke-width: 1.0; stroke-dasharray: 7.0,7.0;\"/><polygon fill=\"#A80036\" points=\"74.2826,298.4535,69.9517,289.608,70.4496,295.2429,64.8147,295.7408,74.2826,298.4535\" style=\"stroke: #A80036; stroke-width: 1.0;\"/><text fill=\"#000000\" font-family=\"sans-serif\" font-size=\"13\" lengthAdjust=\"spacingAndGlyphs\" textLength=\"65\" x=\"13.47\" y=\"215.0669\">«import»*</text></a><!--MD5=[bfa3c8b0d15052fdf50ae9310b491027]\n",
       "link E8 to E7--><a href=\"psysml:84039e37-6732-4e81-a24d-af568a8fc4d2\" target=\"_top\" title=\"psysml:84039e37-6732-4e81-a24d-af568a8fc4d2\" xlink:actuate=\"onRequest\" xlink:href=\"psysml:84039e37-6732-4e81-a24d-af568a8fc4d2\" xlink:show=\"new\" xlink:title=\"psysml:84039e37-6732-4e81-a24d-af568a8fc4d2\" xlink:type=\"simple\"><path d=\"M186.26,154.18 C195.87,167.21 209.39,183.19 224.47,194 C232.25,199.58 239.1,194.07 244.47,202 C248.71,208.26 249.55,213.41 244.47,219 C232.01,232.72 175.83,215.29 161.47,227 C149.88,236.45 143.77,251.37 140.59,265.63 \" fill=\"none\" id=\"E8-&gt;E7\" style=\"stroke: #A80036; stroke-width: 1.0;\"/><polygon fill=\"#FFFFFF\" points=\"137.7,285.68,133.4714,265.878,147.3292,267.8677,137.7,285.68\" style=\"stroke: #A80036; stroke-width: 1.0;\"/><ellipse cx=\"136.2611\" cy=\"260.5201\" fill=\"#A80036\" rx=\"2\" ry=\"2\" style=\"stroke: #A80036; stroke-width: 1.0;\"/><ellipse cx=\"146.1596\" cy=\"261.9413\" fill=\"#A80036\" rx=\"2\" ry=\"2\" style=\"stroke: #A80036; stroke-width: 1.0;\"/></a><!--MD5=[c2be97adba6ddfe1c8f349fab141c927]\n",
       "link E9 to E4--><a href=\"psysml:f4a7c8b4-50d4-4d21-9428-75951a767795\" target=\"_top\" title=\"psysml:f4a7c8b4-50d4-4d21-9428-75951a767795\" xlink:actuate=\"onRequest\" xlink:href=\"psysml:f4a7c8b4-50d4-4d21-9428-75951a767795\" xlink:show=\"new\" xlink:title=\"psysml:f4a7c8b4-50d4-4d21-9428-75951a767795\" xlink:type=\"simple\"><path d=\"M248.7703,178.2043 C248.7876,178.326 248.8048,178.4478 248.822,178.5697 C249.9231,186.3681 250.875,194.395 251.47,202 C252.06,209.53 252.61,211.53 251.47,219 C248.59,237.78 242.37,258.1 236.62,274.27 \" fill=\"none\" id=\"E9-&gt;E4\" style=\"stroke: #A80036; stroke-width: 1.0; stroke-dasharray: 7.0,7.0;\"/><polygon fill=\"#A80036\" points=\"234.86,279.14,241.6827,272.0372,236.5607,274.4381,234.1597,269.3161,234.86,279.14\" style=\"stroke: #A80036; stroke-width: 1.0;\"/><text fill=\"#000000\" font-family=\"sans-serif\" font-size=\"13\" lengthAdjust=\"spacingAndGlyphs\" textLength=\"65\" x=\"252.47\" y=\"215.0669\">«import»*</text></a><!--MD5=[feeac5eb423634930294aa81f2d25a4c]\n",
       "link E10 to E3--><a href=\"psysml:ff7299d7-bc25-43a3-abcf-daa45aa95a4b\" target=\"_top\" title=\"psysml:ff7299d7-bc25-43a3-abcf-daa45aa95a4b\" xlink:actuate=\"onRequest\" xlink:href=\"psysml:ff7299d7-bc25-43a3-abcf-daa45aa95a4b\" xlink:show=\"new\" xlink:title=\"psysml:ff7299d7-bc25-43a3-abcf-daa45aa95a4b\" xlink:type=\"simple\"><path d=\"M336.26,154.07 C355.77,172.75 375.96,199.52 358.47,219 C347.42,231.31 295.64,214.8 284.47,227 C270.64,242.1 274.48,370.79 277.46,437.39 \" fill=\"none\" id=\"E10-&gt;E3\" style=\"stroke: #A80036; stroke-width: 1.0;\"/><polygon fill=\"#FFFFFF\" points=\"278.43,457.71,270.5291,439.0666,284.5131,438.3969,278.43,457.71\" style=\"stroke: #A80036; stroke-width: 1.0;\"/><ellipse cx=\"272.2542\" cy=\"433.2775\" fill=\"#A80036\" rx=\"2\" ry=\"2\" style=\"stroke: #A80036; stroke-width: 1.0;\"/><ellipse cx=\"282.2427\" cy=\"432.7991\" fill=\"#A80036\" rx=\"2\" ry=\"2\" style=\"stroke: #A80036; stroke-width: 1.0;\"/></a><!--MD5=[65b5264cc4b93255019611cfced574a5]\n",
       "@startuml\r\n",
       " \r\n",
       "package \"PrivateImportTest\" as E1  [[psysml:8f933ba8-0ed5-4db5-b82c-58b1e568922b ]]  {\r\n",
       "package \"P1\" as E2  [[psysml:dc5a646f-7a70-4bb5-8a84-dd766b7ca58f ]]  {\r\n",
       "comp def \"A\" as E3 << << (B,green) >> [[psysml:e52e2a8f-f908-40ce-88b1-6459229e6290 ]] {\r\n",
       "}\r\n",
       "}\r\n",
       "package \"P2\" as E4  [[psysml:b07c7c49-60b3-45d9-ab30-3f9ccb4621b1 ]]  {\r\n",
       "}\r\n",
       "comp usage \"x: A \" as E5 << << (P,limegreen) part>> [[psysml:ae255e73-333e-4dec-b11e-e996fbedcc54 ]] {\r\n",
       "}\r\n",
       "package \"P3\" as E6  [[psysml:61bbaf9b-44aa-4d19-b1af-9f0be63c5dc6 ]]  {\r\n",
       "comp def \"B\" as E7 << << (B,green) >> [[psysml:f5eaf228-c184-457d-ba82-3236315ba9d3 ]] {\r\n",
       "}\r\n",
       "}\r\n",
       "comp usage \"z: B \" as E8 << << (P,limegreen) part>> [[psysml:3c42eaa7-d0d8-4753-a2b8-0968c7baa502 ]] {\r\n",
       "}\r\n",
       "package \"P4\" as E9  [[psysml:826bc35a-2948-4f0f-ac57-a46abe90dd77 ]]  {\r\n",
       "comp usage \"z1: A \" as E10 << << (P,limegreen) part>> [[psysml:bd10993a-8e6e-4149-83fc-2dc02c68e6fc ]] {\r\n",
       "}\r\n",
       "}\r\n",
       "}\r\n",
       "E4 ..> E2 [[psysml:9c76a3dc-4160-42f2-8d03-f28cee99dd8d ]] : <<import>>*\r\n",
       "E5 - -:|> E3 [[psysml:7e781afb-bb69-45b4-99ca-abeca0fc5181 ]] \r\n",
       "E1 ..> E4 [[psysml:3abfa817-381d-4c68-8935-6fa98a0aa2e6 ]] : <<import>>*\r\n",
       "E1 ..> E6 [[psysml:38071c17-dcc7-47a2-931c-5199b5c10531 ]] : <<import>>*\r\n",
       "E8 - -:|> E7 [[psysml:84039e37-6732-4e81-a24d-af568a8fc4d2 ]] \r\n",
       "E9 ..> E4 [[psysml:f4a7c8b4-50d4-4d21-9428-75951a767795 ]] : <<import>>*\r\n",
       "E10 - -:|> E3 [[psysml:ff7299d7-bc25-43a3-abcf-daa45aa95a4b ]] \r\n",
       "@enduml\r\n",
       "\n",
       "PlantUML version 1.2020.13(Sat Jun 13 12:26:38 UTC 2020)\n",
       "(EPL source distribution)\n",
       "Java Runtime: OpenJDK Runtime Environment\n",
       "JVM: OpenJDK 64-Bit Server VM\n",
       "Default Encoding: UTF-8\n",
       "Language: en\n",
       "Country: null\n",
       "--></g></svg>"
      ]
     },
     "execution_count": 36,
     "metadata": {},
     "output_type": "execute_result"
    }
   ],
   "source": [
    "%viz --style=\"PLANTUML\" --view=\"MIXED\" \"PrivateImportTest\""
   ]
  },
  {
   "cell_type": "code",
   "execution_count": 37,
   "id": "97a157ef",
   "metadata": {
    "execution": {
     "iopub.execute_input": "2022-08-19T08:19:18.583188Z",
     "iopub.status.busy": "2022-08-19T08:19:18.582834Z",
     "iopub.status.idle": "2022-08-19T08:19:18.618481Z",
     "shell.execute_reply": "2022-08-19T08:19:18.618157Z"
    }
   },
   "outputs": [
    {
     "data": {
      "image/svg+xml": [
       "<?xml version=\"1.0\" encoding=\"UTF-8\" standalone=\"no\"?><svg xmlns=\"http://www.w3.org/2000/svg\" xmlns:xlink=\"http://www.w3.org/1999/xlink\" contentScriptType=\"application/ecmascript\" contentStyleType=\"text/css\" height=\"586px\" preserveAspectRatio=\"none\" style=\"width:433px;height:586px;\" version=\"1.1\" viewBox=\"0 0 433 586\" width=\"433px\" zoomAndPan=\"magnify\"><defs/><g><!--MD5=[fbc87193dbaf4d95561dea2c320d4a47]\n",
       "cluster E1--><a href=\"psysml:8f933ba8-0ed5-4db5-b82c-58b1e568922b\" target=\"_top\" title=\"psysml:8f933ba8-0ed5-4db5-b82c-58b1e568922b\" xlink:actuate=\"onRequest\" xlink:href=\"psysml:8f933ba8-0ed5-4db5-b82c-58b1e568922b\" xlink:show=\"new\" xlink:title=\"psysml:8f933ba8-0ed5-4db5-b82c-58b1e568922b\" xlink:type=\"simple\"><polygon fill=\"#FFFFFF\" points=\"26.32,6,153.32,6,160.32,28.2969,411.32,28.2969,411.32,574,26.32,574,26.32,6\" style=\"stroke: #000000; stroke-width: 1.5;\"/><line style=\"stroke: #000000; stroke-width: 1.5;\" x1=\"26.32\" x2=\"160.32\" y1=\"28.2969\" y2=\"28.2969\"/><text fill=\"#000000\" font-family=\"sans-serif\" font-size=\"14\" font-weight=\"bold\" lengthAdjust=\"spacingAndGlyphs\" textLength=\"121\" x=\"30.32\" y=\"20.9951\">PrivateImportTest</text></a><!--MD5=[e4f7fae6ed58524ba242bb0b0d3be6b7]\n",
       "cluster E2--><a href=\"psysml:dc5a646f-7a70-4bb5-8a84-dd766b7ca58f\" target=\"_top\" title=\"psysml:dc5a646f-7a70-4bb5-8a84-dd766b7ca58f\" xlink:actuate=\"onRequest\" xlink:href=\"psysml:dc5a646f-7a70-4bb5-8a84-dd766b7ca58f\" xlink:show=\"new\" xlink:title=\"psysml:dc5a646f-7a70-4bb5-8a84-dd766b7ca58f\" xlink:type=\"simple\"><polygon fill=\"#FFFFFF\" points=\"231.32,421,255.32,421,262.32,443.2969,368.32,443.2969,368.32,534,231.32,534,231.32,421\" style=\"stroke: #000000; stroke-width: 1.5;\"/><line style=\"stroke: #000000; stroke-width: 1.5;\" x1=\"231.32\" x2=\"262.32\" y1=\"443.2969\" y2=\"443.2969\"/><text fill=\"#000000\" font-family=\"sans-serif\" font-size=\"14\" font-weight=\"bold\" lengthAdjust=\"spacingAndGlyphs\" textLength=\"18\" x=\"235.32\" y=\"435.9951\">P1</text></a><!--MD5=[14e3b0961a2654348d326746436168a1]\n",
       "cluster E6--><a href=\"psysml:61bbaf9b-44aa-4d19-b1af-9f0be63c5dc6\" target=\"_top\" title=\"psysml:61bbaf9b-44aa-4d19-b1af-9f0be63c5dc6\" xlink:actuate=\"onRequest\" xlink:href=\"psysml:61bbaf9b-44aa-4d19-b1af-9f0be63c5dc6\" xlink:show=\"new\" xlink:title=\"psysml:61bbaf9b-44aa-4d19-b1af-9f0be63c5dc6\" xlink:type=\"simple\"><polygon fill=\"#FFFFFF\" points=\"74.32,243,98.32,243,105.32,265.2969,211.32,265.2969,211.32,356,74.32,356,74.32,243\" style=\"stroke: #000000; stroke-width: 1.5;\"/><line style=\"stroke: #000000; stroke-width: 1.5;\" x1=\"74.32\" x2=\"105.32\" y1=\"265.2969\" y2=\"265.2969\"/><text fill=\"#000000\" font-family=\"sans-serif\" font-size=\"14\" font-weight=\"bold\" lengthAdjust=\"spacingAndGlyphs\" textLength=\"18\" x=\"78.32\" y=\"257.9951\">P3</text></a><!--MD5=[7f149f147074ac12df2cb0a7728a5fb0]\n",
       "cluster E9--><a href=\"psysml:826bc35a-2948-4f0f-ac57-a46abe90dd77\" target=\"_top\" title=\"psysml:826bc35a-2948-4f0f-ac57-a46abe90dd77\" xlink:actuate=\"onRequest\" xlink:href=\"psysml:826bc35a-2948-4f0f-ac57-a46abe90dd77\" xlink:show=\"new\" xlink:title=\"psysml:826bc35a-2948-4f0f-ac57-a46abe90dd77\" xlink:type=\"simple\"><polygon fill=\"#FFFFFF\" points=\"262.32,65,286.32,65,293.32,87.2969,371.32,87.2969,371.32,178,262.32,178,262.32,65\" style=\"stroke: #000000; stroke-width: 1.5;\"/><line style=\"stroke: #000000; stroke-width: 1.5;\" x1=\"262.32\" x2=\"293.32\" y1=\"87.2969\" y2=\"87.2969\"/><text fill=\"#000000\" font-family=\"sans-serif\" font-size=\"14\" font-weight=\"bold\" lengthAdjust=\"spacingAndGlyphs\" textLength=\"18\" x=\"266.32\" y=\"79.9951\">P4</text></a><!--MD5=[270fce915f116d4de14055a7c1d9a0f3]\n",
       "class E5--><a href=\"psysml:ae255e73-333e-4dec-b11e-e996fbedcc54\" target=\"_top\" title=\"psysml:ae255e73-333e-4dec-b11e-e996fbedcc54\" xlink:actuate=\"onRequest\" xlink:href=\"psysml:ae255e73-333e-4dec-b11e-e996fbedcc54\" xlink:show=\"new\" xlink:title=\"psysml:ae255e73-333e-4dec-b11e-e996fbedcc54\" xlink:type=\"simple\"><rect fill=\"#FFFFFF\" height=\"45.9375\" id=\"E5\" rx=\"10\" ry=\"10\" style=\"stroke: #383838; stroke-width: 1.5;\" width=\"42\" x=\"345.32\" y=\"286\"/><text fill=\"#000000\" font-family=\"sans-serif\" font-size=\"12\" font-style=\"italic\" lengthAdjust=\"spacingAndGlyphs\" textLength=\"40\" x=\"346.32\" y=\"302.1387\">«part»</text><text fill=\"#000000\" font-family=\"sans-serif\" font-size=\"12\" lengthAdjust=\"spacingAndGlyphs\" textLength=\"22\" x=\"353.32\" y=\"316.1074\">x: A</text><line style=\"stroke: #383838; stroke-width: 1.5;\" x1=\"346.32\" x2=\"386.32\" y1=\"323.9375\" y2=\"323.9375\"/></a><!--MD5=[b9389687b975829384b498ac4b7476b2]\n",
       "class E8--><a href=\"psysml:3c42eaa7-d0d8-4753-a2b8-0968c7baa502\" target=\"_top\" title=\"psysml:3c42eaa7-d0d8-4753-a2b8-0968c7baa502\" xlink:actuate=\"onRequest\" xlink:href=\"psysml:3c42eaa7-d0d8-4753-a2b8-0968c7baa502\" xlink:show=\"new\" xlink:title=\"psysml:3c42eaa7-d0d8-4753-a2b8-0968c7baa502\" xlink:type=\"simple\"><rect fill=\"#FFFFFF\" height=\"45.9375\" id=\"E8\" rx=\"10\" ry=\"10\" style=\"stroke: #383838; stroke-width: 1.5;\" width=\"42\" x=\"193.32\" y=\"108\"/><text fill=\"#000000\" font-family=\"sans-serif\" font-size=\"12\" font-style=\"italic\" lengthAdjust=\"spacingAndGlyphs\" textLength=\"40\" x=\"194.32\" y=\"124.1387\">«part»</text><text fill=\"#000000\" font-family=\"sans-serif\" font-size=\"12\" lengthAdjust=\"spacingAndGlyphs\" textLength=\"21\" x=\"201.82\" y=\"138.1074\">z: B</text><line style=\"stroke: #383838; stroke-width: 1.5;\" x1=\"194.32\" x2=\"234.32\" y1=\"145.9375\" y2=\"145.9375\"/></a><!--MD5=[09b614a08d8cba4a07c9adeb5e0fee81]\n",
       "class E3--><a href=\"psysml:e52e2a8f-f908-40ce-88b1-6459229e6290\" target=\"_top\" title=\"psysml:e52e2a8f-f908-40ce-88b1-6459229e6290\" xlink:actuate=\"onRequest\" xlink:href=\"psysml:e52e2a8f-f908-40ce-88b1-6459229e6290\" xlink:show=\"new\" xlink:title=\"psysml:e52e2a8f-f908-40ce-88b1-6459229e6290\" xlink:type=\"simple\"><rect fill=\"#FFFFFF\" height=\"45.9375\" id=\"E3\" style=\"stroke: #383838; stroke-width: 1.5;\" width=\"70\" x=\"274.32\" y=\"464\"/><text fill=\"#000000\" font-family=\"sans-serif\" font-size=\"12\" font-style=\"italic\" lengthAdjust=\"spacingAndGlyphs\" textLength=\"68\" x=\"275.32\" y=\"480.1387\">«part  def»</text><text fill=\"#000000\" font-family=\"sans-serif\" font-size=\"12\" lengthAdjust=\"spacingAndGlyphs\" textLength=\"8\" x=\"305.32\" y=\"494.1074\">A</text><line style=\"stroke: #383838; stroke-width: 1.5;\" x1=\"275.32\" x2=\"343.32\" y1=\"501.9375\" y2=\"501.9375\"/></a><a href=\"psysml:b07c7c49-60b3-45d9-ab30-3f9ccb4621b1\" target=\"_top\" title=\"psysml:b07c7c49-60b3-45d9-ab30-3f9ccb4621b1\" xlink:actuate=\"onRequest\" xlink:href=\"psysml:b07c7c49-60b3-45d9-ab30-3f9ccb4621b1\" xlink:show=\"new\" xlink:title=\"psysml:b07c7c49-60b3-45d9-ab30-3f9ccb4621b1\" xlink:type=\"simple\"><polygon fill=\"#FFFFFF\" points=\"235.32,282.5,259.32,282.5,266.32,304.7969,273.32,304.7969,273.32,335.0938,235.32,335.0938,235.32,282.5\" style=\"stroke: #000000; stroke-width: 1.5;\"/><line style=\"stroke: #000000; stroke-width: 1.5;\" x1=\"235.32\" x2=\"266.32\" y1=\"304.7969\" y2=\"304.7969\"/><text fill=\"#000000\" font-family=\"sans-serif\" font-size=\"14\" font-weight=\"bold\" lengthAdjust=\"spacingAndGlyphs\" textLength=\"18\" x=\"239.32\" y=\"297.4951\">P2</text></a><!--MD5=[2156ba9850f5573cc1fc38a6a4b2f02b]\n",
       "class E7--><a href=\"psysml:f5eaf228-c184-457d-ba82-3236315ba9d3\" target=\"_top\" title=\"psysml:f5eaf228-c184-457d-ba82-3236315ba9d3\" xlink:actuate=\"onRequest\" xlink:href=\"psysml:f5eaf228-c184-457d-ba82-3236315ba9d3\" xlink:show=\"new\" xlink:title=\"psysml:f5eaf228-c184-457d-ba82-3236315ba9d3\" xlink:type=\"simple\"><rect fill=\"#FFFFFF\" height=\"45.9375\" id=\"E7\" style=\"stroke: #383838; stroke-width: 1.5;\" width=\"70\" x=\"117.32\" y=\"286\"/><text fill=\"#000000\" font-family=\"sans-serif\" font-size=\"12\" font-style=\"italic\" lengthAdjust=\"spacingAndGlyphs\" textLength=\"68\" x=\"118.32\" y=\"302.1387\">«part  def»</text><text fill=\"#000000\" font-family=\"sans-serif\" font-size=\"12\" lengthAdjust=\"spacingAndGlyphs\" textLength=\"8\" x=\"148.32\" y=\"316.1074\">B</text><line style=\"stroke: #383838; stroke-width: 1.5;\" x1=\"118.32\" x2=\"186.32\" y1=\"323.9375\" y2=\"323.9375\"/></a><!--MD5=[96f4274e9e20536e775497830990834d]\n",
       "class E10--><a href=\"psysml:bd10993a-8e6e-4149-83fc-2dc02c68e6fc\" target=\"_top\" title=\"psysml:bd10993a-8e6e-4149-83fc-2dc02c68e6fc\" xlink:actuate=\"onRequest\" xlink:href=\"psysml:bd10993a-8e6e-4149-83fc-2dc02c68e6fc\" xlink:show=\"new\" xlink:title=\"psysml:bd10993a-8e6e-4149-83fc-2dc02c68e6fc\" xlink:type=\"simple\"><rect fill=\"#FFFFFF\" height=\"45.9375\" id=\"E10\" rx=\"10\" ry=\"10\" style=\"stroke: #383838; stroke-width: 1.5;\" width=\"42\" x=\"305.32\" y=\"108\"/><text fill=\"#000000\" font-family=\"sans-serif\" font-size=\"12\" font-style=\"italic\" lengthAdjust=\"spacingAndGlyphs\" textLength=\"40\" x=\"306.32\" y=\"124.1387\">«part»</text><text fill=\"#000000\" font-family=\"sans-serif\" font-size=\"12\" lengthAdjust=\"spacingAndGlyphs\" textLength=\"29\" x=\"309.82\" y=\"138.1074\">z1: A</text><line style=\"stroke: #383838; stroke-width: 1.5;\" x1=\"306.32\" x2=\"346.32\" y1=\"145.9375\" y2=\"145.9375\"/></a><!--MD5=[185131fc0dcab0a4505a2ebe144e961b]\n",
       "link E4 to E2--><a href=\"psysml:9c76a3dc-4160-42f2-8d03-f28cee99dd8d\" target=\"_top\" title=\"psysml:9c76a3dc-4160-42f2-8d03-f28cee99dd8d\" xlink:actuate=\"onRequest\" xlink:href=\"psysml:9c76a3dc-4160-42f2-8d03-f28cee99dd8d\" xlink:show=\"new\" xlink:title=\"psysml:9c76a3dc-4160-42f2-8d03-f28cee99dd8d\" xlink:type=\"simple\"><path d=\"M244.71,335.52 C240.28,348.61 235.53,364.94 233.32,380 C231.6325,391.49 231.1388,403.7444 231.3534,415.6911 C231.3803,417.1844 231.4182,418.673 231.4662,420.1546 C231.4722,420.3398 231.4784,420.5249 231.4847,420.7099 \" fill=\"none\" id=\"E4-&gt;E2\" style=\"stroke: #383838; stroke-width: 1.0; stroke-dasharray: 7.0,7.0;\"/><polygon fill=\"#383838\" points=\"231.4847,420.7099,235.1752,411.5786,231.314,415.7128,227.1798,411.8517,231.4847,420.7099\" style=\"stroke: #383838; stroke-width: 1.0;\"/><text fill=\"#000000\" font-family=\"sans-serif\" font-size=\"13\" lengthAdjust=\"spacingAndGlyphs\" textLength=\"65\" x=\"234.32\" y=\"393.0669\">«import»*</text></a><!--MD5=[e9be52314489bd878ff4c7144b63c9e1]\n",
       "link E5 to E3--><a href=\"psysml:7e781afb-bb69-45b4-99ca-abeca0fc5181\" target=\"_top\" title=\"psysml:7e781afb-bb69-45b4-99ca-abeca0fc5181\" xlink:actuate=\"onRequest\" xlink:href=\"psysml:7e781afb-bb69-45b4-99ca-abeca0fc5181\" xlink:show=\"new\" xlink:title=\"psysml:7e781afb-bb69-45b4-99ca-abeca0fc5181\" xlink:type=\"simple\"><path d=\"M359.1,332.29 C349.98,360.46 334.1,409.49 322.72,444.61 \" fill=\"none\" id=\"E5-&gt;E3\" style=\"stroke: #383838; stroke-width: 1.0;\"/><polygon fill=\"#FFFFFF\" points=\"316.48,463.89,315.6693,443.6578,328.9893,447.9678,316.48,463.89\" style=\"stroke: #383838; stroke-width: 1.0;\"/><ellipse cx=\"319.3269\" cy=\"438.8503\" fill=\"#383838\" rx=\"2\" ry=\"2\" style=\"stroke: #383838; stroke-width: 1.0;\"/><ellipse cx=\"328.8413\" cy=\"441.9289\" fill=\"#383838\" rx=\"2\" ry=\"2\" style=\"stroke: #383838; stroke-width: 1.0;\"/></a><!--MD5=[ee384bb554873b72f85793eae40e290c]\n",
       "link E1 to E4--><a href=\"psysml:3abfa817-381d-4c68-8935-6fa98a0aa2e6\" target=\"_top\" title=\"psysml:3abfa817-381d-4c68-8935-6fa98a0aa2e6\" xlink:actuate=\"onRequest\" xlink:href=\"psysml:3abfa817-381d-4c68-8935-6fa98a0aa2e6\" xlink:show=\"new\" xlink:title=\"psysml:3abfa817-381d-4c68-8935-6fa98a0aa2e6\" xlink:type=\"simple\"><path d=\"M34.29,132.12 C33.65,134.6 23.75,174.52 42.32,194 C49.33,201.35 77.35,200.04 87.32,202 C113.19,207.09 181.71,211.88 203.32,227 C220.99,239.37 233.85,260.02 242.24,277.37 \" fill=\"none\" id=\"E1-&gt;E4\" style=\"stroke: #383838; stroke-width: 1.0; stroke-dasharray: 7.0,7.0;\"/><polygon fill=\"#383838\" points=\"244.49,282.17,244.3071,272.3228,242.3748,277.6394,237.0582,275.7072,244.49,282.17\" style=\"stroke: #383838; stroke-width: 1.0;\"/><text fill=\"#000000\" font-family=\"sans-serif\" font-size=\"13\" lengthAdjust=\"spacingAndGlyphs\" textLength=\"65\" x=\"183.32\" y=\"215.0669\">«import»*</text></a><!--MD5=[ccbd3af71bf83df0ec2a2db62d6d7130]\n",
       "link E1 to E6--><a href=\"psysml:38071c17-dcc7-47a2-931c-5199b5c10531\" target=\"_top\" title=\"psysml:38071c17-dcc7-47a2-931c-5199b5c10531\" xlink:actuate=\"onRequest\" xlink:href=\"psysml:38071c17-dcc7-47a2-931c-5199b5c10531\" xlink:show=\"new\" xlink:title=\"psysml:38071c17-dcc7-47a2-931c-5199b5c10531\" xlink:type=\"simple\"><path d=\"M26.1693,145.3513 C26.1165,145.4477 26.0635,145.5445 26.0105,145.6418 C25.9044,145.8363 25.7978,146.0325 25.6908,146.2304 C24.8349,147.8133 23.9523,149.5023 23.0614,151.284 C21.2797,154.8473 19.465,158.7813 17.765,162.9775 C10.965,179.7625 6,200.745 12.32,219 C20.295,242.035 36.9675,263.635 52.0413,279.7863 C59.5781,287.8619 66.7153,294.5753 72.1658,299.4248 C72.8471,300.031 73.502,300.6081 74.1281,301.1551 \" fill=\"none\" id=\"E1-&gt;E6\" style=\"stroke: #383838; stroke-width: 1.0; stroke-dasharray: 7.0,7.0;\"/><polygon fill=\"#383838\" points=\"74.1281,301.1551,69.982,292.2214,70.3627,297.8655,64.7187,298.2462,74.1281,301.1551\" style=\"stroke: #383838; stroke-width: 1.0;\"/><text fill=\"#000000\" font-family=\"sans-serif\" font-size=\"13\" lengthAdjust=\"spacingAndGlyphs\" textLength=\"65\" x=\"13.32\" y=\"215.0669\">«import»*</text></a><!--MD5=[bfa3c8b0d15052fdf50ae9310b491027]\n",
       "link E8 to E7--><a href=\"psysml:84039e37-6732-4e81-a24d-af568a8fc4d2\" target=\"_top\" title=\"psysml:84039e37-6732-4e81-a24d-af568a8fc4d2\" xlink:actuate=\"onRequest\" xlink:href=\"psysml:84039e37-6732-4e81-a24d-af568a8fc4d2\" xlink:show=\"new\" xlink:title=\"psysml:84039e37-6732-4e81-a24d-af568a8fc4d2\" xlink:type=\"simple\"><path d=\"M232.99,154.29 C246.61,173.37 260.16,200.59 244.32,219 C228.78,237.06 210.49,212.85 191.32,227 C178.2,236.69 169.29,251.96 163.34,266.65 \" fill=\"none\" id=\"E8-&gt;E7\" style=\"stroke: #383838; stroke-width: 1.0;\"/><polygon fill=\"#FFFFFF\" points=\"156.95,285.73,156.3404,265.4907,169.617,269.9329,156.95,285.73\" style=\"stroke: #383838; stroke-width: 1.0;\"/><ellipse cx=\"160.0457\" cy=\"260.7199\" fill=\"#383838\" rx=\"2\" ry=\"2\" style=\"stroke: #383838; stroke-width: 1.0;\"/><ellipse cx=\"169.5289\" cy=\"263.8929\" fill=\"#383838\" rx=\"2\" ry=\"2\" style=\"stroke: #383838; stroke-width: 1.0;\"/></a><!--MD5=[c2be97adba6ddfe1c8f349fab141c927]\n",
       "link E9 to E4--><a href=\"psysml:f4a7c8b4-50d4-4d21-9428-75951a767795\" target=\"_top\" title=\"psysml:f4a7c8b4-50d4-4d21-9428-75951a767795\" xlink:actuate=\"onRequest\" xlink:href=\"psysml:f4a7c8b4-50d4-4d21-9428-75951a767795\" xlink:show=\"new\" xlink:title=\"psysml:f4a7c8b4-50d4-4d21-9428-75951a767795\" xlink:type=\"simple\"><path d=\"M267.5431,178.2415 C267.5354,178.35 267.5276,178.4585 267.5198,178.5671 C267.3951,180.3034 267.2673,182.0417 267.1366,183.7729 C266.8753,187.2352 266.6025,190.6688 266.32,194 C263.93,222.21 260.49,254.26 257.9,277.18 \" fill=\"none\" id=\"E9-&gt;E4\" style=\"stroke: #383838; stroke-width: 1.0; stroke-dasharray: 7.0,7.0;\"/><polygon fill=\"#383838\" points=\"257.33,282.22,262.3075,273.7215,257.8869,277.2511,254.3572,272.8305,257.33,282.22\" style=\"stroke: #383838; stroke-width: 1.0;\"/><text fill=\"#000000\" font-family=\"sans-serif\" font-size=\"13\" lengthAdjust=\"spacingAndGlyphs\" textLength=\"65\" x=\"266.32\" y=\"215.0669\">«import»*</text></a><!--MD5=[feeac5eb423634930294aa81f2d25a4c]\n",
       "link E10 to E3--><a href=\"psysml:ff7299d7-bc25-43a3-abcf-daa45aa95a4b\" target=\"_top\" title=\"psysml:ff7299d7-bc25-43a3-abcf-daa45aa95a4b\" xlink:actuate=\"onRequest\" xlink:href=\"psysml:ff7299d7-bc25-43a3-abcf-daa45aa95a4b\" xlink:show=\"new\" xlink:title=\"psysml:ff7299d7-bc25-43a3-abcf-daa45aa95a4b\" xlink:type=\"simple\"><path d=\"M345.63,154.11 C359.77,173.07 373.99,200.22 358.32,219 C345.58,234.26 327.2,211.86 314.32,227 C300.64,243.07 304.33,374.79 307.28,443.95 \" fill=\"none\" id=\"E10-&gt;E3\" style=\"stroke: #383838; stroke-width: 1.0;\"/><polygon fill=\"#FFFFFF\" points=\"308.18,463.98,300.3317,445.3144,314.3175,444.6841,308.18,463.98\" style=\"stroke: #383838; stroke-width: 1.0;\"/><ellipse cx=\"302.0731\" cy=\"439.5301\" fill=\"#383838\" rx=\"2\" ry=\"2\" style=\"stroke: #383838; stroke-width: 1.0;\"/><ellipse cx=\"312.063\" cy=\"439.0799\" fill=\"#383838\" rx=\"2\" ry=\"2\" style=\"stroke: #383838; stroke-width: 1.0;\"/></a><!--MD5=[f380708a343b677284f9aa8d4051af86]\n",
       "@startuml\r\n",
       "skinparam monochrome true\r\n",
       "skinparam classbackgroundcolor white\r\n",
       "skinparam shadowing false\r\n",
       "skinparam wrapWidth 300\r\n",
       "hide circle\r\n",
       "\r\n",
       "package \"PrivateImportTest\" as E1  [[psysml:8f933ba8-0ed5-4db5-b82c-58b1e568922b ]]  {\r\n",
       "package \"P1\" as E2  [[psysml:dc5a646f-7a70-4bb5-8a84-dd766b7ca58f ]]  {\r\n",
       "comp def \"A\" as E3  <<(T,blue) part  def>> [[psysml:e52e2a8f-f908-40ce-88b1-6459229e6290 ]] {\r\n",
       "}\r\n",
       "}\r\n",
       "package \"P2\" as E4  [[psysml:b07c7c49-60b3-45d9-ab30-3f9ccb4621b1 ]]  {\r\n",
       "}\r\n",
       "comp usage \"x: A \" as E5  <<(T,blue) part>> [[psysml:ae255e73-333e-4dec-b11e-e996fbedcc54 ]] {\r\n",
       "}\r\n",
       "package \"P3\" as E6  [[psysml:61bbaf9b-44aa-4d19-b1af-9f0be63c5dc6 ]]  {\r\n",
       "comp def \"B\" as E7  <<(T,blue) part  def>> [[psysml:f5eaf228-c184-457d-ba82-3236315ba9d3 ]] {\r\n",
       "}\r\n",
       "}\r\n",
       "comp usage \"z: B \" as E8  <<(T,blue) part>> [[psysml:3c42eaa7-d0d8-4753-a2b8-0968c7baa502 ]] {\r\n",
       "}\r\n",
       "package \"P4\" as E9  [[psysml:826bc35a-2948-4f0f-ac57-a46abe90dd77 ]]  {\r\n",
       "comp usage \"z1: A \" as E10  <<(T,blue) part>> [[psysml:bd10993a-8e6e-4149-83fc-2dc02c68e6fc ]] {\r\n",
       "}\r\n",
       "}\r\n",
       "}\r\n",
       "E4 ..> E2 [[psysml:9c76a3dc-4160-42f2-8d03-f28cee99dd8d ]] : <<import>>*\r\n",
       "E5 - -:|> E3 [[psysml:7e781afb-bb69-45b4-99ca-abeca0fc5181 ]] \r\n",
       "E1 ..> E4 [[psysml:3abfa817-381d-4c68-8935-6fa98a0aa2e6 ]] : <<import>>*\r\n",
       "E1 ..> E6 [[psysml:38071c17-dcc7-47a2-931c-5199b5c10531 ]] : <<import>>*\r\n",
       "E8 - -:|> E7 [[psysml:84039e37-6732-4e81-a24d-af568a8fc4d2 ]] \r\n",
       "E9 ..> E4 [[psysml:f4a7c8b4-50d4-4d21-9428-75951a767795 ]] : <<import>>*\r\n",
       "E10 - -:|> E3 [[psysml:ff7299d7-bc25-43a3-abcf-daa45aa95a4b ]] \r\n",
       "@enduml\r\n",
       "\n",
       "PlantUML version 1.2020.13(Sat Jun 13 12:26:38 UTC 2020)\n",
       "(EPL source distribution)\n",
       "Java Runtime: OpenJDK Runtime Environment\n",
       "JVM: OpenJDK 64-Bit Server VM\n",
       "Default Encoding: UTF-8\n",
       "Language: en\n",
       "Country: null\n",
       "--></g></svg>"
      ]
     },
     "execution_count": 37,
     "metadata": {},
     "output_type": "execute_result"
    }
   ],
   "source": [
    "%viz --style=\"DEFAULT\" --view=\"Default\" \"PrivateImportTest\""
   ]
  },
  {
   "cell_type": "code",
   "execution_count": 38,
   "id": "a2eb4744",
   "metadata": {
    "execution": {
     "iopub.execute_input": "2022-08-19T08:19:18.667894Z",
     "iopub.status.busy": "2022-08-19T08:19:18.667599Z",
     "iopub.status.idle": "2022-08-19T08:19:18.705303Z",
     "shell.execute_reply": "2022-08-19T08:19:18.703507Z"
    }
   },
   "outputs": [
    {
     "data": {
      "image/svg+xml": [
       "<?xml version=\"1.0\" encoding=\"UTF-8\" standalone=\"no\"?><svg xmlns=\"http://www.w3.org/2000/svg\" xmlns:xlink=\"http://www.w3.org/1999/xlink\" contentScriptType=\"application/ecmascript\" contentStyleType=\"text/css\" height=\"586px\" preserveAspectRatio=\"none\" style=\"width:433px;height:586px;\" version=\"1.1\" viewBox=\"0 0 433 586\" width=\"433px\" zoomAndPan=\"magnify\"><defs/><g><!--MD5=[fbc87193dbaf4d95561dea2c320d4a47]\n",
       "cluster E1--><a href=\"psysml:8f933ba8-0ed5-4db5-b82c-58b1e568922b\" target=\"_top\" title=\"psysml:8f933ba8-0ed5-4db5-b82c-58b1e568922b\" xlink:actuate=\"onRequest\" xlink:href=\"psysml:8f933ba8-0ed5-4db5-b82c-58b1e568922b\" xlink:show=\"new\" xlink:title=\"psysml:8f933ba8-0ed5-4db5-b82c-58b1e568922b\" xlink:type=\"simple\"><polygon fill=\"#FFFFFF\" points=\"26.32,6,153.32,6,160.32,28.2969,411.32,28.2969,411.32,574,26.32,574,26.32,6\" style=\"stroke: #000000; stroke-width: 1.5;\"/><line style=\"stroke: #000000; stroke-width: 1.5;\" x1=\"26.32\" x2=\"160.32\" y1=\"28.2969\" y2=\"28.2969\"/><text fill=\"#000000\" font-family=\"sans-serif\" font-size=\"14\" font-weight=\"bold\" lengthAdjust=\"spacingAndGlyphs\" textLength=\"121\" x=\"30.32\" y=\"20.9951\">PrivateImportTest</text></a><!--MD5=[e4f7fae6ed58524ba242bb0b0d3be6b7]\n",
       "cluster E2--><a href=\"psysml:dc5a646f-7a70-4bb5-8a84-dd766b7ca58f\" target=\"_top\" title=\"psysml:dc5a646f-7a70-4bb5-8a84-dd766b7ca58f\" xlink:actuate=\"onRequest\" xlink:href=\"psysml:dc5a646f-7a70-4bb5-8a84-dd766b7ca58f\" xlink:show=\"new\" xlink:title=\"psysml:dc5a646f-7a70-4bb5-8a84-dd766b7ca58f\" xlink:type=\"simple\"><polygon fill=\"#FFFFFF\" points=\"231.32,421,255.32,421,262.32,443.2969,368.32,443.2969,368.32,534,231.32,534,231.32,421\" style=\"stroke: #000000; stroke-width: 1.5;\"/><line style=\"stroke: #000000; stroke-width: 1.5;\" x1=\"231.32\" x2=\"262.32\" y1=\"443.2969\" y2=\"443.2969\"/><text fill=\"#000000\" font-family=\"sans-serif\" font-size=\"14\" font-weight=\"bold\" lengthAdjust=\"spacingAndGlyphs\" textLength=\"18\" x=\"235.32\" y=\"435.9951\">P1</text></a><!--MD5=[14e3b0961a2654348d326746436168a1]\n",
       "cluster E6--><a href=\"psysml:61bbaf9b-44aa-4d19-b1af-9f0be63c5dc6\" target=\"_top\" title=\"psysml:61bbaf9b-44aa-4d19-b1af-9f0be63c5dc6\" xlink:actuate=\"onRequest\" xlink:href=\"psysml:61bbaf9b-44aa-4d19-b1af-9f0be63c5dc6\" xlink:show=\"new\" xlink:title=\"psysml:61bbaf9b-44aa-4d19-b1af-9f0be63c5dc6\" xlink:type=\"simple\"><polygon fill=\"#FFFFFF\" points=\"74.32,243,98.32,243,105.32,265.2969,211.32,265.2969,211.32,356,74.32,356,74.32,243\" style=\"stroke: #000000; stroke-width: 1.5;\"/><line style=\"stroke: #000000; stroke-width: 1.5;\" x1=\"74.32\" x2=\"105.32\" y1=\"265.2969\" y2=\"265.2969\"/><text fill=\"#000000\" font-family=\"sans-serif\" font-size=\"14\" font-weight=\"bold\" lengthAdjust=\"spacingAndGlyphs\" textLength=\"18\" x=\"78.32\" y=\"257.9951\">P3</text></a><!--MD5=[7f149f147074ac12df2cb0a7728a5fb0]\n",
       "cluster E9--><a href=\"psysml:826bc35a-2948-4f0f-ac57-a46abe90dd77\" target=\"_top\" title=\"psysml:826bc35a-2948-4f0f-ac57-a46abe90dd77\" xlink:actuate=\"onRequest\" xlink:href=\"psysml:826bc35a-2948-4f0f-ac57-a46abe90dd77\" xlink:show=\"new\" xlink:title=\"psysml:826bc35a-2948-4f0f-ac57-a46abe90dd77\" xlink:type=\"simple\"><polygon fill=\"#FFFFFF\" points=\"262.32,65,286.32,65,293.32,87.2969,371.32,87.2969,371.32,178,262.32,178,262.32,65\" style=\"stroke: #000000; stroke-width: 1.5;\"/><line style=\"stroke: #000000; stroke-width: 1.5;\" x1=\"262.32\" x2=\"293.32\" y1=\"87.2969\" y2=\"87.2969\"/><text fill=\"#000000\" font-family=\"sans-serif\" font-size=\"14\" font-weight=\"bold\" lengthAdjust=\"spacingAndGlyphs\" textLength=\"18\" x=\"266.32\" y=\"79.9951\">P4</text></a><!--MD5=[270fce915f116d4de14055a7c1d9a0f3]\n",
       "class E5--><a href=\"psysml:ae255e73-333e-4dec-b11e-e996fbedcc54\" target=\"_top\" title=\"psysml:ae255e73-333e-4dec-b11e-e996fbedcc54\" xlink:actuate=\"onRequest\" xlink:href=\"psysml:ae255e73-333e-4dec-b11e-e996fbedcc54\" xlink:show=\"new\" xlink:title=\"psysml:ae255e73-333e-4dec-b11e-e996fbedcc54\" xlink:type=\"simple\"><rect fill=\"#FFFFFF\" height=\"45.9375\" id=\"E5\" rx=\"10\" ry=\"10\" style=\"stroke: #383838; stroke-width: 1.5;\" width=\"42\" x=\"345.32\" y=\"286\"/><text fill=\"#000000\" font-family=\"sans-serif\" font-size=\"12\" font-style=\"italic\" lengthAdjust=\"spacingAndGlyphs\" textLength=\"40\" x=\"346.32\" y=\"302.1387\">«part»</text><text fill=\"#000000\" font-family=\"sans-serif\" font-size=\"12\" lengthAdjust=\"spacingAndGlyphs\" textLength=\"22\" x=\"353.32\" y=\"316.1074\">x: A</text><line style=\"stroke: #383838; stroke-width: 1.5;\" x1=\"346.32\" x2=\"386.32\" y1=\"323.9375\" y2=\"323.9375\"/></a><!--MD5=[b9389687b975829384b498ac4b7476b2]\n",
       "class E8--><a href=\"psysml:3c42eaa7-d0d8-4753-a2b8-0968c7baa502\" target=\"_top\" title=\"psysml:3c42eaa7-d0d8-4753-a2b8-0968c7baa502\" xlink:actuate=\"onRequest\" xlink:href=\"psysml:3c42eaa7-d0d8-4753-a2b8-0968c7baa502\" xlink:show=\"new\" xlink:title=\"psysml:3c42eaa7-d0d8-4753-a2b8-0968c7baa502\" xlink:type=\"simple\"><rect fill=\"#FFFFFF\" height=\"45.9375\" id=\"E8\" rx=\"10\" ry=\"10\" style=\"stroke: #383838; stroke-width: 1.5;\" width=\"42\" x=\"193.32\" y=\"108\"/><text fill=\"#000000\" font-family=\"sans-serif\" font-size=\"12\" font-style=\"italic\" lengthAdjust=\"spacingAndGlyphs\" textLength=\"40\" x=\"194.32\" y=\"124.1387\">«part»</text><text fill=\"#000000\" font-family=\"sans-serif\" font-size=\"12\" lengthAdjust=\"spacingAndGlyphs\" textLength=\"21\" x=\"201.82\" y=\"138.1074\">z: B</text><line style=\"stroke: #383838; stroke-width: 1.5;\" x1=\"194.32\" x2=\"234.32\" y1=\"145.9375\" y2=\"145.9375\"/></a><!--MD5=[09b614a08d8cba4a07c9adeb5e0fee81]\n",
       "class E3--><a href=\"psysml:e52e2a8f-f908-40ce-88b1-6459229e6290\" target=\"_top\" title=\"psysml:e52e2a8f-f908-40ce-88b1-6459229e6290\" xlink:actuate=\"onRequest\" xlink:href=\"psysml:e52e2a8f-f908-40ce-88b1-6459229e6290\" xlink:show=\"new\" xlink:title=\"psysml:e52e2a8f-f908-40ce-88b1-6459229e6290\" xlink:type=\"simple\"><rect fill=\"#FFFFFF\" height=\"45.9375\" id=\"E3\" style=\"stroke: #383838; stroke-width: 1.5;\" width=\"70\" x=\"274.32\" y=\"464\"/><text fill=\"#000000\" font-family=\"sans-serif\" font-size=\"12\" font-style=\"italic\" lengthAdjust=\"spacingAndGlyphs\" textLength=\"68\" x=\"275.32\" y=\"480.1387\">«part  def»</text><text fill=\"#000000\" font-family=\"sans-serif\" font-size=\"12\" lengthAdjust=\"spacingAndGlyphs\" textLength=\"8\" x=\"305.32\" y=\"494.1074\">A</text><line style=\"stroke: #383838; stroke-width: 1.5;\" x1=\"275.32\" x2=\"343.32\" y1=\"501.9375\" y2=\"501.9375\"/></a><a href=\"psysml:b07c7c49-60b3-45d9-ab30-3f9ccb4621b1\" target=\"_top\" title=\"psysml:b07c7c49-60b3-45d9-ab30-3f9ccb4621b1\" xlink:actuate=\"onRequest\" xlink:href=\"psysml:b07c7c49-60b3-45d9-ab30-3f9ccb4621b1\" xlink:show=\"new\" xlink:title=\"psysml:b07c7c49-60b3-45d9-ab30-3f9ccb4621b1\" xlink:type=\"simple\"><polygon fill=\"#FFFFFF\" points=\"235.32,282.5,259.32,282.5,266.32,304.7969,273.32,304.7969,273.32,335.0938,235.32,335.0938,235.32,282.5\" style=\"stroke: #000000; stroke-width: 1.5;\"/><line style=\"stroke: #000000; stroke-width: 1.5;\" x1=\"235.32\" x2=\"266.32\" y1=\"304.7969\" y2=\"304.7969\"/><text fill=\"#000000\" font-family=\"sans-serif\" font-size=\"14\" font-weight=\"bold\" lengthAdjust=\"spacingAndGlyphs\" textLength=\"18\" x=\"239.32\" y=\"297.4951\">P2</text></a><!--MD5=[2156ba9850f5573cc1fc38a6a4b2f02b]\n",
       "class E7--><a href=\"psysml:f5eaf228-c184-457d-ba82-3236315ba9d3\" target=\"_top\" title=\"psysml:f5eaf228-c184-457d-ba82-3236315ba9d3\" xlink:actuate=\"onRequest\" xlink:href=\"psysml:f5eaf228-c184-457d-ba82-3236315ba9d3\" xlink:show=\"new\" xlink:title=\"psysml:f5eaf228-c184-457d-ba82-3236315ba9d3\" xlink:type=\"simple\"><rect fill=\"#FFFFFF\" height=\"45.9375\" id=\"E7\" style=\"stroke: #383838; stroke-width: 1.5;\" width=\"70\" x=\"117.32\" y=\"286\"/><text fill=\"#000000\" font-family=\"sans-serif\" font-size=\"12\" font-style=\"italic\" lengthAdjust=\"spacingAndGlyphs\" textLength=\"68\" x=\"118.32\" y=\"302.1387\">«part  def»</text><text fill=\"#000000\" font-family=\"sans-serif\" font-size=\"12\" lengthAdjust=\"spacingAndGlyphs\" textLength=\"8\" x=\"148.32\" y=\"316.1074\">B</text><line style=\"stroke: #383838; stroke-width: 1.5;\" x1=\"118.32\" x2=\"186.32\" y1=\"323.9375\" y2=\"323.9375\"/></a><!--MD5=[96f4274e9e20536e775497830990834d]\n",
       "class E10--><a href=\"psysml:bd10993a-8e6e-4149-83fc-2dc02c68e6fc\" target=\"_top\" title=\"psysml:bd10993a-8e6e-4149-83fc-2dc02c68e6fc\" xlink:actuate=\"onRequest\" xlink:href=\"psysml:bd10993a-8e6e-4149-83fc-2dc02c68e6fc\" xlink:show=\"new\" xlink:title=\"psysml:bd10993a-8e6e-4149-83fc-2dc02c68e6fc\" xlink:type=\"simple\"><rect fill=\"#FFFFFF\" height=\"45.9375\" id=\"E10\" rx=\"10\" ry=\"10\" style=\"stroke: #383838; stroke-width: 1.5;\" width=\"42\" x=\"305.32\" y=\"108\"/><text fill=\"#000000\" font-family=\"sans-serif\" font-size=\"12\" font-style=\"italic\" lengthAdjust=\"spacingAndGlyphs\" textLength=\"40\" x=\"306.32\" y=\"124.1387\">«part»</text><text fill=\"#000000\" font-family=\"sans-serif\" font-size=\"12\" lengthAdjust=\"spacingAndGlyphs\" textLength=\"29\" x=\"309.82\" y=\"138.1074\">z1: A</text><line style=\"stroke: #383838; stroke-width: 1.5;\" x1=\"306.32\" x2=\"346.32\" y1=\"145.9375\" y2=\"145.9375\"/></a><!--MD5=[185131fc0dcab0a4505a2ebe144e961b]\n",
       "link E4 to E2--><a href=\"psysml:9c76a3dc-4160-42f2-8d03-f28cee99dd8d\" target=\"_top\" title=\"psysml:9c76a3dc-4160-42f2-8d03-f28cee99dd8d\" xlink:actuate=\"onRequest\" xlink:href=\"psysml:9c76a3dc-4160-42f2-8d03-f28cee99dd8d\" xlink:show=\"new\" xlink:title=\"psysml:9c76a3dc-4160-42f2-8d03-f28cee99dd8d\" xlink:type=\"simple\"><path d=\"M244.71,335.52 C240.28,348.61 235.53,364.94 233.32,380 C231.6325,391.49 231.1388,403.7444 231.3534,415.6911 C231.3803,417.1844 231.4182,418.673 231.4662,420.1546 C231.4722,420.3398 231.4784,420.5249 231.4847,420.7099 \" fill=\"none\" id=\"E4-&gt;E2\" style=\"stroke: #383838; stroke-width: 1.0; stroke-dasharray: 7.0,7.0;\"/><polygon fill=\"#383838\" points=\"231.4847,420.7099,235.1752,411.5786,231.314,415.7128,227.1798,411.8517,231.4847,420.7099\" style=\"stroke: #383838; stroke-width: 1.0;\"/><text fill=\"#000000\" font-family=\"sans-serif\" font-size=\"13\" lengthAdjust=\"spacingAndGlyphs\" textLength=\"65\" x=\"234.32\" y=\"393.0669\">«import»*</text></a><!--MD5=[e9be52314489bd878ff4c7144b63c9e1]\n",
       "link E5 to E3--><a href=\"psysml:7e781afb-bb69-45b4-99ca-abeca0fc5181\" target=\"_top\" title=\"psysml:7e781afb-bb69-45b4-99ca-abeca0fc5181\" xlink:actuate=\"onRequest\" xlink:href=\"psysml:7e781afb-bb69-45b4-99ca-abeca0fc5181\" xlink:show=\"new\" xlink:title=\"psysml:7e781afb-bb69-45b4-99ca-abeca0fc5181\" xlink:type=\"simple\"><path d=\"M359.1,332.29 C349.98,360.46 334.1,409.49 322.72,444.61 \" fill=\"none\" id=\"E5-&gt;E3\" style=\"stroke: #383838; stroke-width: 1.0;\"/><polygon fill=\"#FFFFFF\" points=\"316.48,463.89,315.6693,443.6578,328.9893,447.9678,316.48,463.89\" style=\"stroke: #383838; stroke-width: 1.0;\"/><ellipse cx=\"319.3269\" cy=\"438.8503\" fill=\"#383838\" rx=\"2\" ry=\"2\" style=\"stroke: #383838; stroke-width: 1.0;\"/><ellipse cx=\"328.8413\" cy=\"441.9289\" fill=\"#383838\" rx=\"2\" ry=\"2\" style=\"stroke: #383838; stroke-width: 1.0;\"/></a><!--MD5=[ee384bb554873b72f85793eae40e290c]\n",
       "link E1 to E4--><a href=\"psysml:3abfa817-381d-4c68-8935-6fa98a0aa2e6\" target=\"_top\" title=\"psysml:3abfa817-381d-4c68-8935-6fa98a0aa2e6\" xlink:actuate=\"onRequest\" xlink:href=\"psysml:3abfa817-381d-4c68-8935-6fa98a0aa2e6\" xlink:show=\"new\" xlink:title=\"psysml:3abfa817-381d-4c68-8935-6fa98a0aa2e6\" xlink:type=\"simple\"><path d=\"M34.29,132.12 C33.65,134.6 23.75,174.52 42.32,194 C49.33,201.35 77.35,200.04 87.32,202 C113.19,207.09 181.71,211.88 203.32,227 C220.99,239.37 233.85,260.02 242.24,277.37 \" fill=\"none\" id=\"E1-&gt;E4\" style=\"stroke: #383838; stroke-width: 1.0; stroke-dasharray: 7.0,7.0;\"/><polygon fill=\"#383838\" points=\"244.49,282.17,244.3071,272.3228,242.3748,277.6394,237.0582,275.7072,244.49,282.17\" style=\"stroke: #383838; stroke-width: 1.0;\"/><text fill=\"#000000\" font-family=\"sans-serif\" font-size=\"13\" lengthAdjust=\"spacingAndGlyphs\" textLength=\"65\" x=\"183.32\" y=\"215.0669\">«import»*</text></a><!--MD5=[ccbd3af71bf83df0ec2a2db62d6d7130]\n",
       "link E1 to E6--><a href=\"psysml:38071c17-dcc7-47a2-931c-5199b5c10531\" target=\"_top\" title=\"psysml:38071c17-dcc7-47a2-931c-5199b5c10531\" xlink:actuate=\"onRequest\" xlink:href=\"psysml:38071c17-dcc7-47a2-931c-5199b5c10531\" xlink:show=\"new\" xlink:title=\"psysml:38071c17-dcc7-47a2-931c-5199b5c10531\" xlink:type=\"simple\"><path d=\"M26.1693,145.3513 C26.1165,145.4477 26.0635,145.5445 26.0105,145.6418 C25.9044,145.8363 25.7978,146.0325 25.6908,146.2304 C24.8349,147.8133 23.9523,149.5023 23.0614,151.284 C21.2797,154.8473 19.465,158.7813 17.765,162.9775 C10.965,179.7625 6,200.745 12.32,219 C20.295,242.035 36.9675,263.635 52.0413,279.7863 C59.5781,287.8619 66.7153,294.5753 72.1658,299.4248 C72.8471,300.031 73.502,300.6081 74.1281,301.1551 \" fill=\"none\" id=\"E1-&gt;E6\" style=\"stroke: #383838; stroke-width: 1.0; stroke-dasharray: 7.0,7.0;\"/><polygon fill=\"#383838\" points=\"74.1281,301.1551,69.982,292.2214,70.3627,297.8655,64.7187,298.2462,74.1281,301.1551\" style=\"stroke: #383838; stroke-width: 1.0;\"/><text fill=\"#000000\" font-family=\"sans-serif\" font-size=\"13\" lengthAdjust=\"spacingAndGlyphs\" textLength=\"65\" x=\"13.32\" y=\"215.0669\">«import»*</text></a><!--MD5=[bfa3c8b0d15052fdf50ae9310b491027]\n",
       "link E8 to E7--><a href=\"psysml:84039e37-6732-4e81-a24d-af568a8fc4d2\" target=\"_top\" title=\"psysml:84039e37-6732-4e81-a24d-af568a8fc4d2\" xlink:actuate=\"onRequest\" xlink:href=\"psysml:84039e37-6732-4e81-a24d-af568a8fc4d2\" xlink:show=\"new\" xlink:title=\"psysml:84039e37-6732-4e81-a24d-af568a8fc4d2\" xlink:type=\"simple\"><path d=\"M232.99,154.29 C246.61,173.37 260.16,200.59 244.32,219 C228.78,237.06 210.49,212.85 191.32,227 C178.2,236.69 169.29,251.96 163.34,266.65 \" fill=\"none\" id=\"E8-&gt;E7\" style=\"stroke: #383838; stroke-width: 1.0;\"/><polygon fill=\"#FFFFFF\" points=\"156.95,285.73,156.3404,265.4907,169.617,269.9329,156.95,285.73\" style=\"stroke: #383838; stroke-width: 1.0;\"/><ellipse cx=\"160.0457\" cy=\"260.7199\" fill=\"#383838\" rx=\"2\" ry=\"2\" style=\"stroke: #383838; stroke-width: 1.0;\"/><ellipse cx=\"169.5289\" cy=\"263.8929\" fill=\"#383838\" rx=\"2\" ry=\"2\" style=\"stroke: #383838; stroke-width: 1.0;\"/></a><!--MD5=[c2be97adba6ddfe1c8f349fab141c927]\n",
       "link E9 to E4--><a href=\"psysml:f4a7c8b4-50d4-4d21-9428-75951a767795\" target=\"_top\" title=\"psysml:f4a7c8b4-50d4-4d21-9428-75951a767795\" xlink:actuate=\"onRequest\" xlink:href=\"psysml:f4a7c8b4-50d4-4d21-9428-75951a767795\" xlink:show=\"new\" xlink:title=\"psysml:f4a7c8b4-50d4-4d21-9428-75951a767795\" xlink:type=\"simple\"><path d=\"M267.5431,178.2415 C267.5354,178.35 267.5276,178.4585 267.5198,178.5671 C267.3951,180.3034 267.2673,182.0417 267.1366,183.7729 C266.8753,187.2352 266.6025,190.6688 266.32,194 C263.93,222.21 260.49,254.26 257.9,277.18 \" fill=\"none\" id=\"E9-&gt;E4\" style=\"stroke: #383838; stroke-width: 1.0; stroke-dasharray: 7.0,7.0;\"/><polygon fill=\"#383838\" points=\"257.33,282.22,262.3075,273.7215,257.8869,277.2511,254.3572,272.8305,257.33,282.22\" style=\"stroke: #383838; stroke-width: 1.0;\"/><text fill=\"#000000\" font-family=\"sans-serif\" font-size=\"13\" lengthAdjust=\"spacingAndGlyphs\" textLength=\"65\" x=\"266.32\" y=\"215.0669\">«import»*</text></a><!--MD5=[feeac5eb423634930294aa81f2d25a4c]\n",
       "link E10 to E3--><a href=\"psysml:ff7299d7-bc25-43a3-abcf-daa45aa95a4b\" target=\"_top\" title=\"psysml:ff7299d7-bc25-43a3-abcf-daa45aa95a4b\" xlink:actuate=\"onRequest\" xlink:href=\"psysml:ff7299d7-bc25-43a3-abcf-daa45aa95a4b\" xlink:show=\"new\" xlink:title=\"psysml:ff7299d7-bc25-43a3-abcf-daa45aa95a4b\" xlink:type=\"simple\"><path d=\"M345.63,154.11 C359.77,173.07 373.99,200.22 358.32,219 C345.58,234.26 327.2,211.86 314.32,227 C300.64,243.07 304.33,374.79 307.28,443.95 \" fill=\"none\" id=\"E10-&gt;E3\" style=\"stroke: #383838; stroke-width: 1.0;\"/><polygon fill=\"#FFFFFF\" points=\"308.18,463.98,300.3317,445.3144,314.3175,444.6841,308.18,463.98\" style=\"stroke: #383838; stroke-width: 1.0;\"/><ellipse cx=\"302.0731\" cy=\"439.5301\" fill=\"#383838\" rx=\"2\" ry=\"2\" style=\"stroke: #383838; stroke-width: 1.0;\"/><ellipse cx=\"312.063\" cy=\"439.0799\" fill=\"#383838\" rx=\"2\" ry=\"2\" style=\"stroke: #383838; stroke-width: 1.0;\"/></a><!--MD5=[f380708a343b677284f9aa8d4051af86]\n",
       "@startuml\r\n",
       "skinparam monochrome true\r\n",
       "skinparam classbackgroundcolor white\r\n",
       "skinparam shadowing false\r\n",
       "skinparam wrapWidth 300\r\n",
       "hide circle\r\n",
       "\r\n",
       "package \"PrivateImportTest\" as E1  [[psysml:8f933ba8-0ed5-4db5-b82c-58b1e568922b ]]  {\r\n",
       "package \"P1\" as E2  [[psysml:dc5a646f-7a70-4bb5-8a84-dd766b7ca58f ]]  {\r\n",
       "comp def \"A\" as E3  <<(T,blue) part  def>> [[psysml:e52e2a8f-f908-40ce-88b1-6459229e6290 ]] {\r\n",
       "}\r\n",
       "}\r\n",
       "package \"P2\" as E4  [[psysml:b07c7c49-60b3-45d9-ab30-3f9ccb4621b1 ]]  {\r\n",
       "}\r\n",
       "comp usage \"x: A \" as E5  <<(T,blue) part>> [[psysml:ae255e73-333e-4dec-b11e-e996fbedcc54 ]] {\r\n",
       "}\r\n",
       "package \"P3\" as E6  [[psysml:61bbaf9b-44aa-4d19-b1af-9f0be63c5dc6 ]]  {\r\n",
       "comp def \"B\" as E7  <<(T,blue) part  def>> [[psysml:f5eaf228-c184-457d-ba82-3236315ba9d3 ]] {\r\n",
       "}\r\n",
       "}\r\n",
       "comp usage \"z: B \" as E8  <<(T,blue) part>> [[psysml:3c42eaa7-d0d8-4753-a2b8-0968c7baa502 ]] {\r\n",
       "}\r\n",
       "package \"P4\" as E9  [[psysml:826bc35a-2948-4f0f-ac57-a46abe90dd77 ]]  {\r\n",
       "comp usage \"z1: A \" as E10  <<(T,blue) part>> [[psysml:bd10993a-8e6e-4149-83fc-2dc02c68e6fc ]] {\r\n",
       "}\r\n",
       "}\r\n",
       "}\r\n",
       "E4 ..> E2 [[psysml:9c76a3dc-4160-42f2-8d03-f28cee99dd8d ]] : <<import>>*\r\n",
       "E5 - -:|> E3 [[psysml:7e781afb-bb69-45b4-99ca-abeca0fc5181 ]] \r\n",
       "E1 ..> E4 [[psysml:3abfa817-381d-4c68-8935-6fa98a0aa2e6 ]] : <<import>>*\r\n",
       "E1 ..> E6 [[psysml:38071c17-dcc7-47a2-931c-5199b5c10531 ]] : <<import>>*\r\n",
       "E8 - -:|> E7 [[psysml:84039e37-6732-4e81-a24d-af568a8fc4d2 ]] \r\n",
       "E9 ..> E4 [[psysml:f4a7c8b4-50d4-4d21-9428-75951a767795 ]] : <<import>>*\r\n",
       "E10 - -:|> E3 [[psysml:ff7299d7-bc25-43a3-abcf-daa45aa95a4b ]] \r\n",
       "@enduml\r\n",
       "\n",
       "PlantUML version 1.2020.13(Sat Jun 13 12:26:38 UTC 2020)\n",
       "(EPL source distribution)\n",
       "Java Runtime: OpenJDK Runtime Environment\n",
       "JVM: OpenJDK 64-Bit Server VM\n",
       "Default Encoding: UTF-8\n",
       "Language: en\n",
       "Country: null\n",
       "--></g></svg>"
      ]
     },
     "execution_count": 38,
     "metadata": {},
     "output_type": "execute_result"
    }
   ],
   "source": [
    "%viz --style=\"DEFAULT\" --view=\"Tree\" \"PrivateImportTest\""
   ]
  },
  {
   "cell_type": "code",
   "execution_count": 39,
   "id": "50b90b34",
   "metadata": {
    "execution": {
     "iopub.execute_input": "2022-08-19T08:19:18.754380Z",
     "iopub.status.busy": "2022-08-19T08:19:18.753919Z",
     "iopub.status.idle": "2022-08-19T08:19:18.758392Z",
     "shell.execute_reply": "2022-08-19T08:19:18.758716Z"
    }
   },
   "outputs": [
    {
     "data": {
      "image/svg+xml": [
       "<?xml version=\"1.0\" encoding=\"UTF-8\" standalone=\"no\"?><svg xmlns=\"http://www.w3.org/2000/svg\" xmlns:xlink=\"http://www.w3.org/1999/xlink\" contentScriptType=\"application/ecmascript\" contentStyleType=\"text/css\" height=\"12px\" preserveAspectRatio=\"none\" style=\"width:12px;height:12px;\" version=\"1.1\" viewBox=\"0 0 12 12\" width=\"12px\" zoomAndPan=\"magnify\"><defs/><g><!--MD5=[c5f280e076d0d61ccf4b0f27871bda1d]\n",
       "@startuml\r\n",
       "skinparam monochrome true\r\n",
       "skinparam classbackgroundcolor white\r\n",
       "skinparam shadowing false\r\n",
       "skinparam wrapWidth 300\r\n",
       "hide circle\r\n",
       "\r\n",
       "@enduml\r\n",
       "\n",
       "PlantUML version 1.2020.13(Sat Jun 13 12:26:38 UTC 2020)\n",
       "(EPL source distribution)\n",
       "Java Runtime: OpenJDK Runtime Environment\n",
       "JVM: OpenJDK 64-Bit Server VM\n",
       "Default Encoding: UTF-8\n",
       "Language: en\n",
       "Country: null\n",
       "--></g></svg>"
      ]
     },
     "execution_count": 39,
     "metadata": {},
     "output_type": "execute_result"
    }
   ],
   "source": [
    "%viz --style=\"DEFAULT\" --view=\"State\" \"PrivateImportTest\""
   ]
  },
  {
   "cell_type": "code",
   "execution_count": 40,
   "id": "cc4fb94c",
   "metadata": {
    "execution": {
     "iopub.execute_input": "2022-08-19T08:19:18.808677Z",
     "iopub.status.busy": "2022-08-19T08:19:18.808219Z",
     "iopub.status.idle": "2022-08-19T08:19:18.843238Z",
     "shell.execute_reply": "2022-08-19T08:19:18.842834Z"
    }
   },
   "outputs": [
    {
     "data": {
      "image/svg+xml": [
       "<?xml version=\"1.0\" encoding=\"UTF-8\" standalone=\"no\"?><svg xmlns=\"http://www.w3.org/2000/svg\" xmlns:xlink=\"http://www.w3.org/1999/xlink\" contentScriptType=\"application/ecmascript\" contentStyleType=\"text/css\" height=\"574px\" preserveAspectRatio=\"none\" style=\"width:446px;height:574px;\" version=\"1.1\" viewBox=\"0 0 446 574\" width=\"446px\" zoomAndPan=\"magnify\"><defs/><g><!--MD5=[fbc87193dbaf4d95561dea2c320d4a47]\n",
       "cluster E1--><a href=\"psysml:8f933ba8-0ed5-4db5-b82c-58b1e568922b\" target=\"_top\" title=\"psysml:8f933ba8-0ed5-4db5-b82c-58b1e568922b\" xlink:actuate=\"onRequest\" xlink:href=\"psysml:8f933ba8-0ed5-4db5-b82c-58b1e568922b\" xlink:show=\"new\" xlink:title=\"psysml:8f933ba8-0ed5-4db5-b82c-58b1e568922b\" xlink:type=\"simple\"><polygon fill=\"#FFFFFF\" points=\"26.19,6,153.19,6,160.19,28.2969,424.19,28.2969,424.19,562,26.19,562,26.19,6\" style=\"stroke: #000000; stroke-width: 1.5;\"/><line style=\"stroke: #000000; stroke-width: 1.5;\" x1=\"26.19\" x2=\"160.19\" y1=\"28.2969\" y2=\"28.2969\"/><text fill=\"#000000\" font-family=\"sans-serif\" font-size=\"14\" font-weight=\"bold\" lengthAdjust=\"spacingAndGlyphs\" textLength=\"121\" x=\"30.19\" y=\"20.9951\">PrivateImportTest</text></a><!--MD5=[e4f7fae6ed58524ba242bb0b0d3be6b7]\n",
       "cluster E2--><a href=\"psysml:dc5a646f-7a70-4bb5-8a84-dd766b7ca58f\" target=\"_top\" title=\"psysml:dc5a646f-7a70-4bb5-8a84-dd766b7ca58f\" xlink:actuate=\"onRequest\" xlink:href=\"psysml:dc5a646f-7a70-4bb5-8a84-dd766b7ca58f\" xlink:show=\"new\" xlink:title=\"psysml:dc5a646f-7a70-4bb5-8a84-dd766b7ca58f\" xlink:type=\"simple\"><polygon fill=\"#FFFFFF\" points=\"233.19,412,257.19,412,264.19,434.2969,375.19,434.2969,375.19,522,233.19,522,233.19,412\" style=\"stroke: #000000; stroke-width: 1.5;\"/><line style=\"stroke: #000000; stroke-width: 1.5;\" x1=\"233.19\" x2=\"264.19\" y1=\"434.2969\" y2=\"434.2969\"/><text fill=\"#000000\" font-family=\"sans-serif\" font-size=\"14\" font-weight=\"bold\" lengthAdjust=\"spacingAndGlyphs\" textLength=\"18\" x=\"237.19\" y=\"426.9951\">P1</text></a><!--MD5=[14e3b0961a2654348d326746436168a1]\n",
       "cluster E6--><a href=\"psysml:61bbaf9b-44aa-4d19-b1af-9f0be63c5dc6\" target=\"_top\" title=\"psysml:61bbaf9b-44aa-4d19-b1af-9f0be63c5dc6\" xlink:actuate=\"onRequest\" xlink:href=\"psysml:61bbaf9b-44aa-4d19-b1af-9f0be63c5dc6\" xlink:show=\"new\" xlink:title=\"psysml:61bbaf9b-44aa-4d19-b1af-9f0be63c5dc6\" xlink:type=\"simple\"><polygon fill=\"#FFFFFF\" points=\"74.19,237,98.19,237,105.19,259.2969,216.19,259.2969,216.19,347,74.19,347,74.19,237\" style=\"stroke: #000000; stroke-width: 1.5;\"/><line style=\"stroke: #000000; stroke-width: 1.5;\" x1=\"74.19\" x2=\"105.19\" y1=\"259.2969\" y2=\"259.2969\"/><text fill=\"#000000\" font-family=\"sans-serif\" font-size=\"14\" font-weight=\"bold\" lengthAdjust=\"spacingAndGlyphs\" textLength=\"18\" x=\"78.19\" y=\"251.9951\">P3</text></a><!--MD5=[7f149f147074ac12df2cb0a7728a5fb0]\n",
       "cluster E9--><a href=\"psysml:826bc35a-2948-4f0f-ac57-a46abe90dd77\" target=\"_top\" title=\"psysml:826bc35a-2948-4f0f-ac57-a46abe90dd77\" xlink:actuate=\"onRequest\" xlink:href=\"psysml:826bc35a-2948-4f0f-ac57-a46abe90dd77\" xlink:show=\"new\" xlink:title=\"psysml:826bc35a-2948-4f0f-ac57-a46abe90dd77\" xlink:type=\"simple\"><polygon fill=\"#FFFFFF\" points=\"267.19,65,291.19,65,298.19,87.2969,384.19,87.2969,384.19,172,267.19,172,267.19,65\" style=\"stroke: #000000; stroke-width: 1.5;\"/><line style=\"stroke: #000000; stroke-width: 1.5;\" x1=\"267.19\" x2=\"298.19\" y1=\"87.2969\" y2=\"87.2969\"/><text fill=\"#000000\" font-family=\"sans-serif\" font-size=\"14\" font-weight=\"bold\" lengthAdjust=\"spacingAndGlyphs\" textLength=\"18\" x=\"271.19\" y=\"79.9951\">P4</text></a><g id=\"E1.E2.E3\"><a href=\"psysml:e52e2a8f-f908-40ce-88b1-6459229e6290\" target=\"_top\" title=\"psysml:e52e2a8f-f908-40ce-88b1-6459229e6290\" xlink:actuate=\"onRequest\" xlink:href=\"psysml:e52e2a8f-f908-40ce-88b1-6459229e6290\" xlink:show=\"new\" xlink:title=\"psysml:e52e2a8f-f908-40ce-88b1-6459229e6290\" xlink:type=\"simple\"><rect fill=\"#FFFFFF\" height=\"42.9375\" id=\"E3\" style=\"stroke: #383838; stroke-width: 1.5;\" width=\"75\" x=\"276.69\" y=\"455\"/><rect fill=\"#F8F8F8\" height=\"37.9375\" style=\"stroke: #383838; stroke-width: 1.5;\" width=\"75\" x=\"276.69\" y=\"455\"/><text fill=\"#000000\" font-family=\"sans-serif\" font-size=\"12\" font-style=\"italic\" lengthAdjust=\"spacingAndGlyphs\" textLength=\"68\" x=\"280.19\" y=\"471.1387\">«part  def»</text><text fill=\"#000000\" font-family=\"sans-serif\" font-size=\"12\" lengthAdjust=\"spacingAndGlyphs\" textLength=\"8\" x=\"310.19\" y=\"485.1074\">A</text></a></g><a href=\"psysml:b07c7c49-60b3-45d9-ab30-3f9ccb4621b1\" target=\"_top\" title=\"psysml:b07c7c49-60b3-45d9-ab30-3f9ccb4621b1\" xlink:actuate=\"onRequest\" xlink:href=\"psysml:b07c7c49-60b3-45d9-ab30-3f9ccb4621b1\" xlink:show=\"new\" xlink:title=\"psysml:b07c7c49-60b3-45d9-ab30-3f9ccb4621b1\" xlink:type=\"simple\"><polygon fill=\"#FFFFFF\" points=\"240.19,275,264.19,275,271.19,297.2969,278.19,297.2969,278.19,327.5938,240.19,327.5938,240.19,275\" style=\"stroke: #000000; stroke-width: 1.5;\"/><line style=\"stroke: #000000; stroke-width: 1.5;\" x1=\"240.19\" x2=\"271.19\" y1=\"297.2969\" y2=\"297.2969\"/><text fill=\"#000000\" font-family=\"sans-serif\" font-size=\"14\" font-weight=\"bold\" lengthAdjust=\"spacingAndGlyphs\" textLength=\"18\" x=\"244.19\" y=\"289.9951\">P2</text></a><g id=\"E1.E5\"><a href=\"psysml:ae255e73-333e-4dec-b11e-e996fbedcc54\" target=\"_top\" title=\"psysml:ae255e73-333e-4dec-b11e-e996fbedcc54\" xlink:actuate=\"onRequest\" xlink:href=\"psysml:ae255e73-333e-4dec-b11e-e996fbedcc54\" xlink:show=\"new\" xlink:title=\"psysml:ae255e73-333e-4dec-b11e-e996fbedcc54\" xlink:type=\"simple\"><rect fill=\"#FFFFFF\" height=\"40\" id=\"E5\" rx=\"10\" ry=\"10\" style=\"stroke: #383838; stroke-width: 1.5;\" width=\"50\" x=\"350.19\" y=\"281.5\"/><rect fill=\"#F8F8F8\" height=\"23.9688\" rx=\"10\" ry=\"10\" style=\"stroke: #F8F8F8; stroke-width: 1.5;\" width=\"50\" x=\"350.19\" y=\"281.5\"/><rect fill=\"#F8F8F8\" height=\"10\" style=\"stroke: #F8F8F8; stroke-width: 1.5;\" width=\"50\" x=\"350.19\" y=\"295.4688\"/><rect fill=\"none\" height=\"40\" id=\"E5\" rx=\"10\" ry=\"10\" style=\"stroke: #383838; stroke-width: 1.5;\" width=\"50\" x=\"350.19\" y=\"281.5\"/><text fill=\"#000000\" font-family=\"sans-serif\" font-size=\"12\" lengthAdjust=\"spacingAndGlyphs\" textLength=\"22\" x=\"364.19\" y=\"297.6387\">x: A</text></a></g><g id=\"E1.E6.E7\"><a href=\"psysml:f5eaf228-c184-457d-ba82-3236315ba9d3\" target=\"_top\" title=\"psysml:f5eaf228-c184-457d-ba82-3236315ba9d3\" xlink:actuate=\"onRequest\" xlink:href=\"psysml:f5eaf228-c184-457d-ba82-3236315ba9d3\" xlink:show=\"new\" xlink:title=\"psysml:f5eaf228-c184-457d-ba82-3236315ba9d3\" xlink:type=\"simple\"><rect fill=\"#FFFFFF\" height=\"42.9375\" id=\"E7\" style=\"stroke: #383838; stroke-width: 1.5;\" width=\"75\" x=\"117.69\" y=\"280\"/><rect fill=\"#F8F8F8\" height=\"37.9375\" style=\"stroke: #383838; stroke-width: 1.5;\" width=\"75\" x=\"117.69\" y=\"280\"/><text fill=\"#000000\" font-family=\"sans-serif\" font-size=\"12\" font-style=\"italic\" lengthAdjust=\"spacingAndGlyphs\" textLength=\"68\" x=\"121.19\" y=\"296.1387\">«part  def»</text><text fill=\"#000000\" font-family=\"sans-serif\" font-size=\"12\" lengthAdjust=\"spacingAndGlyphs\" textLength=\"8\" x=\"151.19\" y=\"310.1074\">B</text></a></g><g id=\"E1.E8\"><a href=\"psysml:3c42eaa7-d0d8-4753-a2b8-0968c7baa502\" target=\"_top\" title=\"psysml:3c42eaa7-d0d8-4753-a2b8-0968c7baa502\" xlink:actuate=\"onRequest\" xlink:href=\"psysml:3c42eaa7-d0d8-4753-a2b8-0968c7baa502\" xlink:show=\"new\" xlink:title=\"psysml:3c42eaa7-d0d8-4753-a2b8-0968c7baa502\" xlink:type=\"simple\"><rect fill=\"#FFFFFF\" height=\"40\" id=\"E8\" rx=\"10\" ry=\"10\" style=\"stroke: #383838; stroke-width: 1.5;\" width=\"50\" x=\"190.19\" y=\"108\"/><rect fill=\"#F8F8F8\" height=\"23.9688\" rx=\"10\" ry=\"10\" style=\"stroke: #F8F8F8; stroke-width: 1.5;\" width=\"50\" x=\"190.19\" y=\"108\"/><rect fill=\"#F8F8F8\" height=\"10\" style=\"stroke: #F8F8F8; stroke-width: 1.5;\" width=\"50\" x=\"190.19\" y=\"121.9688\"/><rect fill=\"none\" height=\"40\" id=\"E8\" rx=\"10\" ry=\"10\" style=\"stroke: #383838; stroke-width: 1.5;\" width=\"50\" x=\"190.19\" y=\"108\"/><text fill=\"#000000\" font-family=\"sans-serif\" font-size=\"12\" lengthAdjust=\"spacingAndGlyphs\" textLength=\"21\" x=\"204.69\" y=\"124.1387\">z: B</text></a></g><g id=\"E1.E9.E10\"><a href=\"psysml:bd10993a-8e6e-4149-83fc-2dc02c68e6fc\" target=\"_top\" title=\"psysml:bd10993a-8e6e-4149-83fc-2dc02c68e6fc\" xlink:actuate=\"onRequest\" xlink:href=\"psysml:bd10993a-8e6e-4149-83fc-2dc02c68e6fc\" xlink:show=\"new\" xlink:title=\"psysml:bd10993a-8e6e-4149-83fc-2dc02c68e6fc\" xlink:type=\"simple\"><rect fill=\"#FFFFFF\" height=\"40\" id=\"E10\" rx=\"10\" ry=\"10\" style=\"stroke: #383838; stroke-width: 1.5;\" width=\"50\" x=\"310.19\" y=\"108\"/><rect fill=\"#F8F8F8\" height=\"23.9688\" rx=\"10\" ry=\"10\" style=\"stroke: #F8F8F8; stroke-width: 1.5;\" width=\"50\" x=\"310.19\" y=\"108\"/><rect fill=\"#F8F8F8\" height=\"10\" style=\"stroke: #F8F8F8; stroke-width: 1.5;\" width=\"50\" x=\"310.19\" y=\"121.9688\"/><rect fill=\"none\" height=\"40\" id=\"E10\" rx=\"10\" ry=\"10\" style=\"stroke: #383838; stroke-width: 1.5;\" width=\"50\" x=\"310.19\" y=\"108\"/><text fill=\"#000000\" font-family=\"sans-serif\" font-size=\"12\" lengthAdjust=\"spacingAndGlyphs\" textLength=\"29\" x=\"320.69\" y=\"124.1387\">z1: A</text></a></g><!--MD5=[185131fc0dcab0a4505a2ebe144e961b]\n",
       "link E4 to E2--><a href=\"psysml:9c76a3dc-4160-42f2-8d03-f28cee99dd8d\" target=\"_top\" title=\"psysml:9c76a3dc-4160-42f2-8d03-f28cee99dd8d\" xlink:actuate=\"onRequest\" xlink:href=\"psysml:9c76a3dc-4160-42f2-8d03-f28cee99dd8d\" xlink:show=\"new\" xlink:title=\"psysml:9c76a3dc-4160-42f2-8d03-f28cee99dd8d\" xlink:type=\"simple\"><path d=\"M249.36,328.1 C245,340.8 240.37,356.48 238.19,371 C236.5225,382.1275 235.8388,393.9944 235.76,405.5898 C235.7502,407.0393 235.7498,408.4845 235.7581,409.9234 C235.7602,410.2832 235.7628,410.6425 235.766,411.0015 C235.7675,411.181 235.7692,411.3603 235.7711,411.5396 \" fill=\"none\" id=\"E4-&gt;E2\" style=\"stroke: #383838; stroke-width: 1.0; stroke-dasharray: 7.0,7.0;\"/><polygon fill=\"#383838\" points=\"235.7711,411.5396,239.6783,402.4989,235.7196,406.5398,231.6787,402.5812,235.7711,411.5396\" style=\"stroke: #383838; stroke-width: 1.0;\"/><text fill=\"#000000\" font-family=\"sans-serif\" font-size=\"13\" lengthAdjust=\"spacingAndGlyphs\" textLength=\"65\" x=\"239.19\" y=\"384.0669\">«import»*</text></a><!--MD5=[e9be52314489bd878ff4c7144b63c9e1]\n",
       "link E5 to E3--><a href=\"psysml:7e781afb-bb69-45b4-99ca-abeca0fc5181\" target=\"_top\" title=\"psysml:7e781afb-bb69-45b4-99ca-abeca0fc5181\" xlink:actuate=\"onRequest\" xlink:href=\"psysml:7e781afb-bb69-45b4-99ca-abeca0fc5181\" xlink:show=\"new\" xlink:title=\"psysml:7e781afb-bb69-45b4-99ca-abeca0fc5181\" xlink:type=\"simple\"><path d=\"M368.43,321.68 C358.76,349.11 340.75,400.18 328.15,435.92 \" fill=\"none\" id=\"E5-&gt;E3\" style=\"stroke: #383838; stroke-width: 1.0;\"/><polygon fill=\"#FFFFFF\" points=\"321.45,454.9,321.1694,434.6535,334.372,439.3109,321.45,454.9\" style=\"stroke: #383838; stroke-width: 1.0;\"/><ellipse cx=\"324.9518\" cy=\"429.9435\" fill=\"#383838\" rx=\"2\" ry=\"2\" style=\"stroke: #383838; stroke-width: 1.0;\"/><ellipse cx=\"334.3822\" cy=\"433.2702\" fill=\"#383838\" rx=\"2\" ry=\"2\" style=\"stroke: #383838; stroke-width: 1.0;\"/></a><!--MD5=[ee384bb554873b72f85793eae40e290c]\n",
       "link E1 to E4--><a href=\"psysml:3abfa817-381d-4c68-8935-6fa98a0aa2e6\" target=\"_top\" title=\"psysml:3abfa817-381d-4c68-8935-6fa98a0aa2e6\" xlink:actuate=\"onRequest\" xlink:href=\"psysml:3abfa817-381d-4c68-8935-6fa98a0aa2e6\" xlink:show=\"new\" xlink:title=\"psysml:3abfa817-381d-4c68-8935-6fa98a0aa2e6\" xlink:type=\"simple\"><path d=\"M34.16,129.12 C33.57,131.47 24.44,169.5 42.19,188 C49.22,195.33 77.22,194.08 87.19,196 C114.15,201.18 185.56,205.45 208.19,221 C225.61,232.97 238.41,253.04 246.84,270.01 \" fill=\"none\" id=\"E1-&gt;E4\" style=\"stroke: #383838; stroke-width: 1.0; stroke-dasharray: 7.0,7.0;\"/><polygon fill=\"#383838\" points=\"249.1,274.71,248.8034,264.8656,246.9326,270.2042,241.5941,268.3334,249.1,274.71\" style=\"stroke: #383838; stroke-width: 1.0;\"/><text fill=\"#000000\" font-family=\"sans-serif\" font-size=\"13\" lengthAdjust=\"spacingAndGlyphs\" textLength=\"65\" x=\"190.19\" y=\"209.0669\">«import»*</text></a><!--MD5=[ccbd3af71bf83df0ec2a2db62d6d7130]\n",
       "link E1 to E6--><a href=\"psysml:38071c17-dcc7-47a2-931c-5199b5c10531\" target=\"_top\" title=\"psysml:38071c17-dcc7-47a2-931c-5199b5c10531\" xlink:actuate=\"onRequest\" xlink:href=\"psysml:38071c17-dcc7-47a2-931c-5199b5c10531\" xlink:show=\"new\" xlink:title=\"psysml:38071c17-dcc7-47a2-931c-5199b5c10531\" xlink:type=\"simple\"><path d=\"M26.0931,141.8852 C26.0406,141.9783 25.988,142.0717 25.9352,142.1656 C25.8298,142.3533 25.7239,142.5426 25.6176,142.7336 C24.7671,144.2611 23.8899,145.8912 23.0044,147.6107 C21.2332,151.0498 19.4284,154.8469 17.7363,158.8975 C10.9675,175.1 6,195.36 12.19,213 C20.175,235.765 36.8475,257.005 51.9187,272.8563 C59.4544,280.7819 66.5897,287.3603 72.0386,292.1086 C72.7197,292.7021 73.3745,293.2671 74.0004,293.8025 \" fill=\"none\" id=\"E1-&gt;E6\" style=\"stroke: #383838; stroke-width: 1.0; stroke-dasharray: 7.0,7.0;\"/><polygon fill=\"#383838\" points=\"74.0004,293.8025,69.7613,284.9126,70.2008,290.5523,64.5611,290.9918,74.0004,293.8025\" style=\"stroke: #383838; stroke-width: 1.0;\"/><text fill=\"#000000\" font-family=\"sans-serif\" font-size=\"13\" lengthAdjust=\"spacingAndGlyphs\" textLength=\"65\" x=\"13.19\" y=\"209.0669\">«import»*</text></a><!--MD5=[bfa3c8b0d15052fdf50ae9310b491027]\n",
       "link E8 to E7--><a href=\"psysml:84039e37-6732-4e81-a24d-af568a8fc4d2\" target=\"_top\" title=\"psysml:84039e37-6732-4e81-a24d-af568a8fc4d2\" xlink:actuate=\"onRequest\" xlink:href=\"psysml:84039e37-6732-4e81-a24d-af568a8fc4d2\" xlink:show=\"new\" xlink:title=\"psysml:84039e37-6732-4e81-a24d-af568a8fc4d2\" xlink:type=\"simple\"><path d=\"M231.6,148.32 C245.18,166.74 259.91,194.37 244.19,213 C230.52,229.19 214.35,208.57 197.19,221 C183.72,230.76 174.18,246.16 167.64,260.83 \" fill=\"none\" id=\"E8-&gt;E7\" style=\"stroke: #383838; stroke-width: 1.0;\"/><polygon fill=\"#FFFFFF\" points=\"160.49,279.77,160.6578,259.5222,173.7541,264.4708,160.49,279.77\" style=\"stroke: #383838; stroke-width: 1.0;\"/><ellipse cx=\"164.5435\" cy=\"254.8971\" fill=\"#383838\" rx=\"2\" ry=\"2\" style=\"stroke: #383838; stroke-width: 1.0;\"/><ellipse cx=\"173.8979\" cy=\"258.4318\" fill=\"#383838\" rx=\"2\" ry=\"2\" style=\"stroke: #383838; stroke-width: 1.0;\"/></a><!--MD5=[c2be97adba6ddfe1c8f349fab141c927]\n",
       "link E9 to E4--><a href=\"psysml:f4a7c8b4-50d4-4d21-9428-75951a767795\" target=\"_top\" title=\"psysml:f4a7c8b4-50d4-4d21-9428-75951a767795\" xlink:actuate=\"onRequest\" xlink:href=\"psysml:f4a7c8b4-50d4-4d21-9428-75951a767795\" xlink:show=\"new\" xlink:title=\"psysml:f4a7c8b4-50d4-4d21-9428-75951a767795\" xlink:type=\"simple\"><path d=\"M272.4624,172.0747 C272.4319,172.4874 272.4012,172.9004 272.3704,173.3135 C272.247,174.9658 272.1207,176.6201 271.9919,178.2676 C271.7342,181.5625 271.4663,184.83 271.19,188 C268.78,215.65 265.37,247.06 262.81,269.64 \" fill=\"none\" id=\"E9-&gt;E4\" style=\"stroke: #383838; stroke-width: 1.0; stroke-dasharray: 7.0,7.0;\"/><polygon fill=\"#383838\" points=\"262.24,274.61,267.2443,266.1273,262.8126,269.6429,259.297,265.2111,262.24,274.61\" style=\"stroke: #383838; stroke-width: 1.0;\"/><text fill=\"#000000\" font-family=\"sans-serif\" font-size=\"13\" lengthAdjust=\"spacingAndGlyphs\" textLength=\"65\" x=\"271.19\" y=\"209.0669\">«import»*</text></a><!--MD5=[feeac5eb423634930294aa81f2d25a4c]\n",
       "link E10 to E3--><a href=\"psysml:ff7299d7-bc25-43a3-abcf-daa45aa95a4b\" target=\"_top\" title=\"psysml:ff7299d7-bc25-43a3-abcf-daa45aa95a4b\" xlink:actuate=\"onRequest\" xlink:href=\"psysml:ff7299d7-bc25-43a3-abcf-daa45aa95a4b\" xlink:show=\"new\" xlink:title=\"psysml:ff7299d7-bc25-43a3-abcf-daa45aa95a4b\" xlink:type=\"simple\"><path d=\"M349.14,148.02 C360.83,166.48 373.39,194.37 358.19,213 C347.01,226.71 330.51,207.4 319.19,221 C305.92,236.95 309.43,366.42 312.24,434.3 \" fill=\"none\" id=\"E10-&gt;E3\" style=\"stroke: #383838; stroke-width: 1.0;\"/><polygon fill=\"#FFFFFF\" points=\"313.14,454.71,305.3057,436.0385,319.2919,435.4187,313.14,454.71\" style=\"stroke: #383838; stroke-width: 1.0;\"/><ellipse cx=\"307.0513\" cy=\"430.2556\" fill=\"#383838\" rx=\"2\" ry=\"2\" style=\"stroke: #383838; stroke-width: 1.0;\"/><ellipse cx=\"317.0415\" cy=\"429.8129\" fill=\"#383838\" rx=\"2\" ry=\"2\" style=\"stroke: #383838; stroke-width: 1.0;\"/></a><!--MD5=[4f4834975ab09e160461b76ad7622fcf]\n",
       "@startuml\r\n",
       "skinparam ranksep 10\r\n",
       "skinparam rectangle {\r\n",
       " backgroundColor<<block>> LightGreen\r\n",
       "}\r\n",
       "skinparam monochrome true\r\n",
       "skinparam classbackgroundcolor white\r\n",
       "skinparam shadowing false\r\n",
       "skinparam wrapWidth 300\r\n",
       "hide circle\r\n",
       "\r\n",
       "package \"PrivateImportTest\" as E1  [[psysml:8f933ba8-0ed5-4db5-b82c-58b1e568922b ]]  {\r\n",
       "package \"P1\" as E2  [[psysml:dc5a646f-7a70-4bb5-8a84-dd766b7ca58f ]]  {\r\n",
       "rec def \"A\" as E3  <<(T,blue) part  def>> [[psysml:e52e2a8f-f908-40ce-88b1-6459229e6290 ]] {\r\n",
       "}\r\n",
       "}\r\n",
       "package \"P2\" as E4  [[psysml:b07c7c49-60b3-45d9-ab30-3f9ccb4621b1 ]]  {\r\n",
       "}\r\n",
       "rec usage \"x: A\" as E5  [[psysml:ae255e73-333e-4dec-b11e-e996fbedcc54 ]] {\r\n",
       "}\r\n",
       "package \"P3\" as E6  [[psysml:61bbaf9b-44aa-4d19-b1af-9f0be63c5dc6 ]]  {\r\n",
       "rec def \"B\" as E7  <<(T,blue) part  def>> [[psysml:f5eaf228-c184-457d-ba82-3236315ba9d3 ]] {\r\n",
       "}\r\n",
       "}\r\n",
       "rec usage \"z: B\" as E8  [[psysml:3c42eaa7-d0d8-4753-a2b8-0968c7baa502 ]] {\r\n",
       "}\r\n",
       "package \"P4\" as E9  [[psysml:826bc35a-2948-4f0f-ac57-a46abe90dd77 ]]  {\r\n",
       "rec usage \"z1: A\" as E10  [[psysml:bd10993a-8e6e-4149-83fc-2dc02c68e6fc ]] {\r\n",
       "}\r\n",
       "}\r\n",
       "}\r\n",
       "E4 ..> E2 [[psysml:9c76a3dc-4160-42f2-8d03-f28cee99dd8d ]] : <<import>>*\r\n",
       "E5 - -:|> E3 [[psysml:7e781afb-bb69-45b4-99ca-abeca0fc5181 ]] \r\n",
       "E1 ..> E4 [[psysml:3abfa817-381d-4c68-8935-6fa98a0aa2e6 ]] : <<import>>*\r\n",
       "E1 ..> E6 [[psysml:38071c17-dcc7-47a2-931c-5199b5c10531 ]] : <<import>>*\r\n",
       "E8 - -:|> E7 [[psysml:84039e37-6732-4e81-a24d-af568a8fc4d2 ]] \r\n",
       "E9 ..> E4 [[psysml:f4a7c8b4-50d4-4d21-9428-75951a767795 ]] : <<import>>*\r\n",
       "E10 - -:|> E3 [[psysml:ff7299d7-bc25-43a3-abcf-daa45aa95a4b ]] \r\n",
       "@enduml\r\n",
       "\n",
       "PlantUML version 1.2020.13(Sat Jun 13 12:26:38 UTC 2020)\n",
       "(EPL source distribution)\n",
       "Java Runtime: OpenJDK Runtime Environment\n",
       "JVM: OpenJDK 64-Bit Server VM\n",
       "Default Encoding: UTF-8\n",
       "Language: en\n",
       "Country: null\n",
       "--></g></svg>"
      ]
     },
     "execution_count": 40,
     "metadata": {},
     "output_type": "execute_result"
    }
   ],
   "source": [
    "%viz --style=\"DEFAULT\" --view=\"Interconnection\" \"PrivateImportTest\""
   ]
  },
  {
   "cell_type": "code",
   "execution_count": 41,
   "id": "1fc40c55",
   "metadata": {
    "execution": {
     "iopub.execute_input": "2022-08-19T08:19:18.892817Z",
     "iopub.status.busy": "2022-08-19T08:19:18.892369Z",
     "iopub.status.idle": "2022-08-19T08:19:18.896536Z",
     "shell.execute_reply": "2022-08-19T08:19:18.896834Z"
    }
   },
   "outputs": [
    {
     "data": {
      "image/svg+xml": [
       "<?xml version=\"1.0\" encoding=\"UTF-8\" standalone=\"no\"?><svg xmlns=\"http://www.w3.org/2000/svg\" xmlns:xlink=\"http://www.w3.org/1999/xlink\" contentScriptType=\"application/ecmascript\" contentStyleType=\"text/css\" height=\"12px\" preserveAspectRatio=\"none\" style=\"width:12px;height:12px;\" version=\"1.1\" viewBox=\"0 0 12 12\" width=\"12px\" zoomAndPan=\"magnify\"><defs/><g><!--MD5=[388f21188e31bfdd97050473b19af356]\n",
       "@startuml\r\n",
       "skinparam ranksep 8\r\n",
       "skinparam monochrome true\r\n",
       "skinparam classbackgroundcolor white\r\n",
       "skinparam shadowing false\r\n",
       "skinparam wrapWidth 300\r\n",
       "hide circle\r\n",
       "\r\n",
       "@enduml\r\n",
       "\n",
       "PlantUML version 1.2020.13(Sat Jun 13 12:26:38 UTC 2020)\n",
       "(EPL source distribution)\n",
       "Java Runtime: OpenJDK Runtime Environment\n",
       "JVM: OpenJDK 64-Bit Server VM\n",
       "Default Encoding: UTF-8\n",
       "Language: en\n",
       "Country: null\n",
       "--></g></svg>"
      ]
     },
     "execution_count": 41,
     "metadata": {},
     "output_type": "execute_result"
    }
   ],
   "source": [
    "%viz --style=\"DEFAULT\" --view=\"Action\" \"PrivateImportTest\""
   ]
  },
  {
   "cell_type": "code",
   "execution_count": 42,
   "id": "4fce56ba",
   "metadata": {
    "execution": {
     "iopub.execute_input": "2022-08-19T08:19:18.947166Z",
     "iopub.status.busy": "2022-08-19T08:19:18.946657Z",
     "iopub.status.idle": "2022-08-19T08:19:18.951677Z",
     "shell.execute_reply": "2022-08-19T08:19:18.951267Z"
    }
   },
   "outputs": [
    {
     "data": {
      "image/svg+xml": [
       "<?xml version=\"1.0\" encoding=\"UTF-8\" standalone=\"no\"?><svg xmlns=\"http://www.w3.org/2000/svg\" xmlns:xlink=\"http://www.w3.org/1999/xlink\" contentScriptType=\"application/ecmascript\" contentStyleType=\"text/css\" height=\"12px\" preserveAspectRatio=\"none\" style=\"width:12px;height:12px;\" version=\"1.1\" viewBox=\"0 0 12 12\" width=\"12px\" zoomAndPan=\"magnify\"><defs/><g><!--MD5=[0b72472770326784bf6c2b53246e1e64]\n",
       "@startuml\r\n",
       "skinparam roundcorner 20\r\n",
       "skinparam BoxPadding 20\r\n",
       "skinparam SequenceBoxBackgroundColor #white\r\n",
       "skinparam style strictuml\r\n",
       "skinparam maxMessageSize 100\r\n",
       "skinparam monochrome true\r\n",
       "skinparam classbackgroundcolor white\r\n",
       "skinparam shadowing false\r\n",
       "skinparam wrapWidth 300\r\n",
       "hide circle\r\n",
       "\r\n",
       "@enduml\r\n",
       "\n",
       "PlantUML version 1.2020.13(Sat Jun 13 12:26:38 UTC 2020)\n",
       "(EPL source distribution)\n",
       "Java Runtime: OpenJDK Runtime Environment\n",
       "JVM: OpenJDK 64-Bit Server VM\n",
       "Default Encoding: UTF-8\n",
       "Language: en\n",
       "Country: null\n",
       "--></g></svg>"
      ]
     },
     "execution_count": 42,
     "metadata": {},
     "output_type": "execute_result"
    }
   ],
   "source": [
    "%viz --style=\"DEFAULT\" --view=\"Sequence\" \"PrivateImportTest\""
   ]
  },
  {
   "cell_type": "code",
   "execution_count": 43,
   "id": "c0a52751",
   "metadata": {
    "execution": {
     "iopub.execute_input": "2022-08-19T08:19:19.001424Z",
     "iopub.status.busy": "2022-08-19T08:19:19.000957Z",
     "iopub.status.idle": "2022-08-19T08:19:19.038458Z",
     "shell.execute_reply": "2022-08-19T08:19:19.036800Z"
    }
   },
   "outputs": [
    {
     "data": {
      "image/svg+xml": [
       "<?xml version=\"1.0\" encoding=\"UTF-8\" standalone=\"no\"?><svg xmlns=\"http://www.w3.org/2000/svg\" xmlns:xlink=\"http://www.w3.org/1999/xlink\" contentScriptType=\"application/ecmascript\" contentStyleType=\"text/css\" height=\"586px\" preserveAspectRatio=\"none\" style=\"width:433px;height:586px;\" version=\"1.1\" viewBox=\"0 0 433 586\" width=\"433px\" zoomAndPan=\"magnify\"><defs/><g><!--MD5=[fbc87193dbaf4d95561dea2c320d4a47]\n",
       "cluster E1--><a href=\"psysml:8f933ba8-0ed5-4db5-b82c-58b1e568922b\" target=\"_top\" title=\"psysml:8f933ba8-0ed5-4db5-b82c-58b1e568922b\" xlink:actuate=\"onRequest\" xlink:href=\"psysml:8f933ba8-0ed5-4db5-b82c-58b1e568922b\" xlink:show=\"new\" xlink:title=\"psysml:8f933ba8-0ed5-4db5-b82c-58b1e568922b\" xlink:type=\"simple\"><polygon fill=\"#FFFFFF\" points=\"26.32,6,153.32,6,160.32,28.2969,411.32,28.2969,411.32,574,26.32,574,26.32,6\" style=\"stroke: #000000; stroke-width: 1.5;\"/><line style=\"stroke: #000000; stroke-width: 1.5;\" x1=\"26.32\" x2=\"160.32\" y1=\"28.2969\" y2=\"28.2969\"/><text fill=\"#000000\" font-family=\"sans-serif\" font-size=\"14\" font-weight=\"bold\" lengthAdjust=\"spacingAndGlyphs\" textLength=\"121\" x=\"30.32\" y=\"20.9951\">PrivateImportTest</text></a><!--MD5=[e4f7fae6ed58524ba242bb0b0d3be6b7]\n",
       "cluster E2--><a href=\"psysml:dc5a646f-7a70-4bb5-8a84-dd766b7ca58f\" target=\"_top\" title=\"psysml:dc5a646f-7a70-4bb5-8a84-dd766b7ca58f\" xlink:actuate=\"onRequest\" xlink:href=\"psysml:dc5a646f-7a70-4bb5-8a84-dd766b7ca58f\" xlink:show=\"new\" xlink:title=\"psysml:dc5a646f-7a70-4bb5-8a84-dd766b7ca58f\" xlink:type=\"simple\"><polygon fill=\"#FFFFFF\" points=\"231.32,421,255.32,421,262.32,443.2969,368.32,443.2969,368.32,534,231.32,534,231.32,421\" style=\"stroke: #000000; stroke-width: 1.5;\"/><line style=\"stroke: #000000; stroke-width: 1.5;\" x1=\"231.32\" x2=\"262.32\" y1=\"443.2969\" y2=\"443.2969\"/><text fill=\"#000000\" font-family=\"sans-serif\" font-size=\"14\" font-weight=\"bold\" lengthAdjust=\"spacingAndGlyphs\" textLength=\"18\" x=\"235.32\" y=\"435.9951\">P1</text></a><!--MD5=[14e3b0961a2654348d326746436168a1]\n",
       "cluster E6--><a href=\"psysml:61bbaf9b-44aa-4d19-b1af-9f0be63c5dc6\" target=\"_top\" title=\"psysml:61bbaf9b-44aa-4d19-b1af-9f0be63c5dc6\" xlink:actuate=\"onRequest\" xlink:href=\"psysml:61bbaf9b-44aa-4d19-b1af-9f0be63c5dc6\" xlink:show=\"new\" xlink:title=\"psysml:61bbaf9b-44aa-4d19-b1af-9f0be63c5dc6\" xlink:type=\"simple\"><polygon fill=\"#FFFFFF\" points=\"74.32,243,98.32,243,105.32,265.2969,211.32,265.2969,211.32,356,74.32,356,74.32,243\" style=\"stroke: #000000; stroke-width: 1.5;\"/><line style=\"stroke: #000000; stroke-width: 1.5;\" x1=\"74.32\" x2=\"105.32\" y1=\"265.2969\" y2=\"265.2969\"/><text fill=\"#000000\" font-family=\"sans-serif\" font-size=\"14\" font-weight=\"bold\" lengthAdjust=\"spacingAndGlyphs\" textLength=\"18\" x=\"78.32\" y=\"257.9951\">P3</text></a><!--MD5=[7f149f147074ac12df2cb0a7728a5fb0]\n",
       "cluster E9--><a href=\"psysml:826bc35a-2948-4f0f-ac57-a46abe90dd77\" target=\"_top\" title=\"psysml:826bc35a-2948-4f0f-ac57-a46abe90dd77\" xlink:actuate=\"onRequest\" xlink:href=\"psysml:826bc35a-2948-4f0f-ac57-a46abe90dd77\" xlink:show=\"new\" xlink:title=\"psysml:826bc35a-2948-4f0f-ac57-a46abe90dd77\" xlink:type=\"simple\"><polygon fill=\"#FFFFFF\" points=\"262.32,65,286.32,65,293.32,87.2969,371.32,87.2969,371.32,178,262.32,178,262.32,65\" style=\"stroke: #000000; stroke-width: 1.5;\"/><line style=\"stroke: #000000; stroke-width: 1.5;\" x1=\"262.32\" x2=\"293.32\" y1=\"87.2969\" y2=\"87.2969\"/><text fill=\"#000000\" font-family=\"sans-serif\" font-size=\"14\" font-weight=\"bold\" lengthAdjust=\"spacingAndGlyphs\" textLength=\"18\" x=\"266.32\" y=\"79.9951\">P4</text></a><!--MD5=[270fce915f116d4de14055a7c1d9a0f3]\n",
       "class E5--><a href=\"psysml:ae255e73-333e-4dec-b11e-e996fbedcc54\" target=\"_top\" title=\"psysml:ae255e73-333e-4dec-b11e-e996fbedcc54\" xlink:actuate=\"onRequest\" xlink:href=\"psysml:ae255e73-333e-4dec-b11e-e996fbedcc54\" xlink:show=\"new\" xlink:title=\"psysml:ae255e73-333e-4dec-b11e-e996fbedcc54\" xlink:type=\"simple\"><rect fill=\"#FFFFFF\" height=\"45.9375\" id=\"E5\" rx=\"10\" ry=\"10\" style=\"stroke: #383838; stroke-width: 1.5;\" width=\"42\" x=\"345.32\" y=\"286\"/><text fill=\"#000000\" font-family=\"sans-serif\" font-size=\"12\" font-style=\"italic\" lengthAdjust=\"spacingAndGlyphs\" textLength=\"40\" x=\"346.32\" y=\"302.1387\">«part»</text><text fill=\"#000000\" font-family=\"sans-serif\" font-size=\"12\" lengthAdjust=\"spacingAndGlyphs\" textLength=\"22\" x=\"353.32\" y=\"316.1074\">x: A</text><line style=\"stroke: #383838; stroke-width: 1.5;\" x1=\"346.32\" x2=\"386.32\" y1=\"323.9375\" y2=\"323.9375\"/></a><!--MD5=[b9389687b975829384b498ac4b7476b2]\n",
       "class E8--><a href=\"psysml:3c42eaa7-d0d8-4753-a2b8-0968c7baa502\" target=\"_top\" title=\"psysml:3c42eaa7-d0d8-4753-a2b8-0968c7baa502\" xlink:actuate=\"onRequest\" xlink:href=\"psysml:3c42eaa7-d0d8-4753-a2b8-0968c7baa502\" xlink:show=\"new\" xlink:title=\"psysml:3c42eaa7-d0d8-4753-a2b8-0968c7baa502\" xlink:type=\"simple\"><rect fill=\"#FFFFFF\" height=\"45.9375\" id=\"E8\" rx=\"10\" ry=\"10\" style=\"stroke: #383838; stroke-width: 1.5;\" width=\"42\" x=\"193.32\" y=\"108\"/><text fill=\"#000000\" font-family=\"sans-serif\" font-size=\"12\" font-style=\"italic\" lengthAdjust=\"spacingAndGlyphs\" textLength=\"40\" x=\"194.32\" y=\"124.1387\">«part»</text><text fill=\"#000000\" font-family=\"sans-serif\" font-size=\"12\" lengthAdjust=\"spacingAndGlyphs\" textLength=\"21\" x=\"201.82\" y=\"138.1074\">z: B</text><line style=\"stroke: #383838; stroke-width: 1.5;\" x1=\"194.32\" x2=\"234.32\" y1=\"145.9375\" y2=\"145.9375\"/></a><!--MD5=[09b614a08d8cba4a07c9adeb5e0fee81]\n",
       "class E3--><a href=\"psysml:e52e2a8f-f908-40ce-88b1-6459229e6290\" target=\"_top\" title=\"psysml:e52e2a8f-f908-40ce-88b1-6459229e6290\" xlink:actuate=\"onRequest\" xlink:href=\"psysml:e52e2a8f-f908-40ce-88b1-6459229e6290\" xlink:show=\"new\" xlink:title=\"psysml:e52e2a8f-f908-40ce-88b1-6459229e6290\" xlink:type=\"simple\"><rect fill=\"#FFFFFF\" height=\"45.9375\" id=\"E3\" style=\"stroke: #383838; stroke-width: 1.5;\" width=\"70\" x=\"274.32\" y=\"464\"/><text fill=\"#000000\" font-family=\"sans-serif\" font-size=\"12\" font-style=\"italic\" lengthAdjust=\"spacingAndGlyphs\" textLength=\"68\" x=\"275.32\" y=\"480.1387\">«part  def»</text><text fill=\"#000000\" font-family=\"sans-serif\" font-size=\"12\" lengthAdjust=\"spacingAndGlyphs\" textLength=\"8\" x=\"305.32\" y=\"494.1074\">A</text><line style=\"stroke: #383838; stroke-width: 1.5;\" x1=\"275.32\" x2=\"343.32\" y1=\"501.9375\" y2=\"501.9375\"/></a><a href=\"psysml:b07c7c49-60b3-45d9-ab30-3f9ccb4621b1\" target=\"_top\" title=\"psysml:b07c7c49-60b3-45d9-ab30-3f9ccb4621b1\" xlink:actuate=\"onRequest\" xlink:href=\"psysml:b07c7c49-60b3-45d9-ab30-3f9ccb4621b1\" xlink:show=\"new\" xlink:title=\"psysml:b07c7c49-60b3-45d9-ab30-3f9ccb4621b1\" xlink:type=\"simple\"><polygon fill=\"#FFFFFF\" points=\"235.32,282.5,259.32,282.5,266.32,304.7969,273.32,304.7969,273.32,335.0938,235.32,335.0938,235.32,282.5\" style=\"stroke: #000000; stroke-width: 1.5;\"/><line style=\"stroke: #000000; stroke-width: 1.5;\" x1=\"235.32\" x2=\"266.32\" y1=\"304.7969\" y2=\"304.7969\"/><text fill=\"#000000\" font-family=\"sans-serif\" font-size=\"14\" font-weight=\"bold\" lengthAdjust=\"spacingAndGlyphs\" textLength=\"18\" x=\"239.32\" y=\"297.4951\">P2</text></a><!--MD5=[2156ba9850f5573cc1fc38a6a4b2f02b]\n",
       "class E7--><a href=\"psysml:f5eaf228-c184-457d-ba82-3236315ba9d3\" target=\"_top\" title=\"psysml:f5eaf228-c184-457d-ba82-3236315ba9d3\" xlink:actuate=\"onRequest\" xlink:href=\"psysml:f5eaf228-c184-457d-ba82-3236315ba9d3\" xlink:show=\"new\" xlink:title=\"psysml:f5eaf228-c184-457d-ba82-3236315ba9d3\" xlink:type=\"simple\"><rect fill=\"#FFFFFF\" height=\"45.9375\" id=\"E7\" style=\"stroke: #383838; stroke-width: 1.5;\" width=\"70\" x=\"117.32\" y=\"286\"/><text fill=\"#000000\" font-family=\"sans-serif\" font-size=\"12\" font-style=\"italic\" lengthAdjust=\"spacingAndGlyphs\" textLength=\"68\" x=\"118.32\" y=\"302.1387\">«part  def»</text><text fill=\"#000000\" font-family=\"sans-serif\" font-size=\"12\" lengthAdjust=\"spacingAndGlyphs\" textLength=\"8\" x=\"148.32\" y=\"316.1074\">B</text><line style=\"stroke: #383838; stroke-width: 1.5;\" x1=\"118.32\" x2=\"186.32\" y1=\"323.9375\" y2=\"323.9375\"/></a><!--MD5=[96f4274e9e20536e775497830990834d]\n",
       "class E10--><a href=\"psysml:bd10993a-8e6e-4149-83fc-2dc02c68e6fc\" target=\"_top\" title=\"psysml:bd10993a-8e6e-4149-83fc-2dc02c68e6fc\" xlink:actuate=\"onRequest\" xlink:href=\"psysml:bd10993a-8e6e-4149-83fc-2dc02c68e6fc\" xlink:show=\"new\" xlink:title=\"psysml:bd10993a-8e6e-4149-83fc-2dc02c68e6fc\" xlink:type=\"simple\"><rect fill=\"#FFFFFF\" height=\"45.9375\" id=\"E10\" rx=\"10\" ry=\"10\" style=\"stroke: #383838; stroke-width: 1.5;\" width=\"42\" x=\"305.32\" y=\"108\"/><text fill=\"#000000\" font-family=\"sans-serif\" font-size=\"12\" font-style=\"italic\" lengthAdjust=\"spacingAndGlyphs\" textLength=\"40\" x=\"306.32\" y=\"124.1387\">«part»</text><text fill=\"#000000\" font-family=\"sans-serif\" font-size=\"12\" lengthAdjust=\"spacingAndGlyphs\" textLength=\"29\" x=\"309.82\" y=\"138.1074\">z1: A</text><line style=\"stroke: #383838; stroke-width: 1.5;\" x1=\"306.32\" x2=\"346.32\" y1=\"145.9375\" y2=\"145.9375\"/></a><!--MD5=[185131fc0dcab0a4505a2ebe144e961b]\n",
       "link E4 to E2--><a href=\"psysml:9c76a3dc-4160-42f2-8d03-f28cee99dd8d\" target=\"_top\" title=\"psysml:9c76a3dc-4160-42f2-8d03-f28cee99dd8d\" xlink:actuate=\"onRequest\" xlink:href=\"psysml:9c76a3dc-4160-42f2-8d03-f28cee99dd8d\" xlink:show=\"new\" xlink:title=\"psysml:9c76a3dc-4160-42f2-8d03-f28cee99dd8d\" xlink:type=\"simple\"><path d=\"M244.71,335.52 C240.28,348.61 235.53,364.94 233.32,380 C231.6325,391.49 231.1388,403.7444 231.3534,415.6911 C231.3803,417.1844 231.4182,418.673 231.4662,420.1546 C231.4722,420.3398 231.4784,420.5249 231.4847,420.7099 \" fill=\"none\" id=\"E4-&gt;E2\" style=\"stroke: #383838; stroke-width: 1.0; stroke-dasharray: 7.0,7.0;\"/><polygon fill=\"#383838\" points=\"231.4847,420.7099,235.1752,411.5786,231.314,415.7128,227.1798,411.8517,231.4847,420.7099\" style=\"stroke: #383838; stroke-width: 1.0;\"/><text fill=\"#000000\" font-family=\"sans-serif\" font-size=\"13\" lengthAdjust=\"spacingAndGlyphs\" textLength=\"65\" x=\"234.32\" y=\"393.0669\">«import»*</text></a><!--MD5=[e9be52314489bd878ff4c7144b63c9e1]\n",
       "link E5 to E3--><a href=\"psysml:7e781afb-bb69-45b4-99ca-abeca0fc5181\" target=\"_top\" title=\"psysml:7e781afb-bb69-45b4-99ca-abeca0fc5181\" xlink:actuate=\"onRequest\" xlink:href=\"psysml:7e781afb-bb69-45b4-99ca-abeca0fc5181\" xlink:show=\"new\" xlink:title=\"psysml:7e781afb-bb69-45b4-99ca-abeca0fc5181\" xlink:type=\"simple\"><path d=\"M359.1,332.29 C349.98,360.46 334.1,409.49 322.72,444.61 \" fill=\"none\" id=\"E5-&gt;E3\" style=\"stroke: #383838; stroke-width: 1.0;\"/><polygon fill=\"#FFFFFF\" points=\"316.48,463.89,315.6693,443.6578,328.9893,447.9678,316.48,463.89\" style=\"stroke: #383838; stroke-width: 1.0;\"/><ellipse cx=\"319.3269\" cy=\"438.8503\" fill=\"#383838\" rx=\"2\" ry=\"2\" style=\"stroke: #383838; stroke-width: 1.0;\"/><ellipse cx=\"328.8413\" cy=\"441.9289\" fill=\"#383838\" rx=\"2\" ry=\"2\" style=\"stroke: #383838; stroke-width: 1.0;\"/></a><!--MD5=[ee384bb554873b72f85793eae40e290c]\n",
       "link E1 to E4--><a href=\"psysml:3abfa817-381d-4c68-8935-6fa98a0aa2e6\" target=\"_top\" title=\"psysml:3abfa817-381d-4c68-8935-6fa98a0aa2e6\" xlink:actuate=\"onRequest\" xlink:href=\"psysml:3abfa817-381d-4c68-8935-6fa98a0aa2e6\" xlink:show=\"new\" xlink:title=\"psysml:3abfa817-381d-4c68-8935-6fa98a0aa2e6\" xlink:type=\"simple\"><path d=\"M34.29,132.12 C33.65,134.6 23.75,174.52 42.32,194 C49.33,201.35 77.35,200.04 87.32,202 C113.19,207.09 181.71,211.88 203.32,227 C220.99,239.37 233.85,260.02 242.24,277.37 \" fill=\"none\" id=\"E1-&gt;E4\" style=\"stroke: #383838; stroke-width: 1.0; stroke-dasharray: 7.0,7.0;\"/><polygon fill=\"#383838\" points=\"244.49,282.17,244.3071,272.3228,242.3748,277.6394,237.0582,275.7072,244.49,282.17\" style=\"stroke: #383838; stroke-width: 1.0;\"/><text fill=\"#000000\" font-family=\"sans-serif\" font-size=\"13\" lengthAdjust=\"spacingAndGlyphs\" textLength=\"65\" x=\"183.32\" y=\"215.0669\">«import»*</text></a><!--MD5=[ccbd3af71bf83df0ec2a2db62d6d7130]\n",
       "link E1 to E6--><a href=\"psysml:38071c17-dcc7-47a2-931c-5199b5c10531\" target=\"_top\" title=\"psysml:38071c17-dcc7-47a2-931c-5199b5c10531\" xlink:actuate=\"onRequest\" xlink:href=\"psysml:38071c17-dcc7-47a2-931c-5199b5c10531\" xlink:show=\"new\" xlink:title=\"psysml:38071c17-dcc7-47a2-931c-5199b5c10531\" xlink:type=\"simple\"><path d=\"M26.1693,145.3513 C26.1165,145.4477 26.0635,145.5445 26.0105,145.6418 C25.9044,145.8363 25.7978,146.0325 25.6908,146.2304 C24.8349,147.8133 23.9523,149.5023 23.0614,151.284 C21.2797,154.8473 19.465,158.7813 17.765,162.9775 C10.965,179.7625 6,200.745 12.32,219 C20.295,242.035 36.9675,263.635 52.0413,279.7863 C59.5781,287.8619 66.7153,294.5753 72.1658,299.4248 C72.8471,300.031 73.502,300.6081 74.1281,301.1551 \" fill=\"none\" id=\"E1-&gt;E6\" style=\"stroke: #383838; stroke-width: 1.0; stroke-dasharray: 7.0,7.0;\"/><polygon fill=\"#383838\" points=\"74.1281,301.1551,69.982,292.2214,70.3627,297.8655,64.7187,298.2462,74.1281,301.1551\" style=\"stroke: #383838; stroke-width: 1.0;\"/><text fill=\"#000000\" font-family=\"sans-serif\" font-size=\"13\" lengthAdjust=\"spacingAndGlyphs\" textLength=\"65\" x=\"13.32\" y=\"215.0669\">«import»*</text></a><!--MD5=[bfa3c8b0d15052fdf50ae9310b491027]\n",
       "link E8 to E7--><a href=\"psysml:84039e37-6732-4e81-a24d-af568a8fc4d2\" target=\"_top\" title=\"psysml:84039e37-6732-4e81-a24d-af568a8fc4d2\" xlink:actuate=\"onRequest\" xlink:href=\"psysml:84039e37-6732-4e81-a24d-af568a8fc4d2\" xlink:show=\"new\" xlink:title=\"psysml:84039e37-6732-4e81-a24d-af568a8fc4d2\" xlink:type=\"simple\"><path d=\"M232.99,154.29 C246.61,173.37 260.16,200.59 244.32,219 C228.78,237.06 210.49,212.85 191.32,227 C178.2,236.69 169.29,251.96 163.34,266.65 \" fill=\"none\" id=\"E8-&gt;E7\" style=\"stroke: #383838; stroke-width: 1.0;\"/><polygon fill=\"#FFFFFF\" points=\"156.95,285.73,156.3404,265.4907,169.617,269.9329,156.95,285.73\" style=\"stroke: #383838; stroke-width: 1.0;\"/><ellipse cx=\"160.0457\" cy=\"260.7199\" fill=\"#383838\" rx=\"2\" ry=\"2\" style=\"stroke: #383838; stroke-width: 1.0;\"/><ellipse cx=\"169.5289\" cy=\"263.8929\" fill=\"#383838\" rx=\"2\" ry=\"2\" style=\"stroke: #383838; stroke-width: 1.0;\"/></a><!--MD5=[c2be97adba6ddfe1c8f349fab141c927]\n",
       "link E9 to E4--><a href=\"psysml:f4a7c8b4-50d4-4d21-9428-75951a767795\" target=\"_top\" title=\"psysml:f4a7c8b4-50d4-4d21-9428-75951a767795\" xlink:actuate=\"onRequest\" xlink:href=\"psysml:f4a7c8b4-50d4-4d21-9428-75951a767795\" xlink:show=\"new\" xlink:title=\"psysml:f4a7c8b4-50d4-4d21-9428-75951a767795\" xlink:type=\"simple\"><path d=\"M267.5431,178.2415 C267.5354,178.35 267.5276,178.4585 267.5198,178.5671 C267.3951,180.3034 267.2673,182.0417 267.1366,183.7729 C266.8753,187.2352 266.6025,190.6688 266.32,194 C263.93,222.21 260.49,254.26 257.9,277.18 \" fill=\"none\" id=\"E9-&gt;E4\" style=\"stroke: #383838; stroke-width: 1.0; stroke-dasharray: 7.0,7.0;\"/><polygon fill=\"#383838\" points=\"257.33,282.22,262.3075,273.7215,257.8869,277.2511,254.3572,272.8305,257.33,282.22\" style=\"stroke: #383838; stroke-width: 1.0;\"/><text fill=\"#000000\" font-family=\"sans-serif\" font-size=\"13\" lengthAdjust=\"spacingAndGlyphs\" textLength=\"65\" x=\"266.32\" y=\"215.0669\">«import»*</text></a><!--MD5=[feeac5eb423634930294aa81f2d25a4c]\n",
       "link E10 to E3--><a href=\"psysml:ff7299d7-bc25-43a3-abcf-daa45aa95a4b\" target=\"_top\" title=\"psysml:ff7299d7-bc25-43a3-abcf-daa45aa95a4b\" xlink:actuate=\"onRequest\" xlink:href=\"psysml:ff7299d7-bc25-43a3-abcf-daa45aa95a4b\" xlink:show=\"new\" xlink:title=\"psysml:ff7299d7-bc25-43a3-abcf-daa45aa95a4b\" xlink:type=\"simple\"><path d=\"M345.63,154.11 C359.77,173.07 373.99,200.22 358.32,219 C345.58,234.26 327.2,211.86 314.32,227 C300.64,243.07 304.33,374.79 307.28,443.95 \" fill=\"none\" id=\"E10-&gt;E3\" style=\"stroke: #383838; stroke-width: 1.0;\"/><polygon fill=\"#FFFFFF\" points=\"308.18,463.98,300.3317,445.3144,314.3175,444.6841,308.18,463.98\" style=\"stroke: #383838; stroke-width: 1.0;\"/><ellipse cx=\"302.0731\" cy=\"439.5301\" fill=\"#383838\" rx=\"2\" ry=\"2\" style=\"stroke: #383838; stroke-width: 1.0;\"/><ellipse cx=\"312.063\" cy=\"439.0799\" fill=\"#383838\" rx=\"2\" ry=\"2\" style=\"stroke: #383838; stroke-width: 1.0;\"/></a><!--MD5=[f380708a343b677284f9aa8d4051af86]\n",
       "@startuml\r\n",
       "skinparam monochrome true\r\n",
       "skinparam classbackgroundcolor white\r\n",
       "skinparam shadowing false\r\n",
       "skinparam wrapWidth 300\r\n",
       "hide circle\r\n",
       "\r\n",
       "package \"PrivateImportTest\" as E1  [[psysml:8f933ba8-0ed5-4db5-b82c-58b1e568922b ]]  {\r\n",
       "package \"P1\" as E2  [[psysml:dc5a646f-7a70-4bb5-8a84-dd766b7ca58f ]]  {\r\n",
       "comp def \"A\" as E3  <<(T,blue) part  def>> [[psysml:e52e2a8f-f908-40ce-88b1-6459229e6290 ]] {\r\n",
       "}\r\n",
       "}\r\n",
       "package \"P2\" as E4  [[psysml:b07c7c49-60b3-45d9-ab30-3f9ccb4621b1 ]]  {\r\n",
       "}\r\n",
       "comp usage \"x: A \" as E5  <<(T,blue) part>> [[psysml:ae255e73-333e-4dec-b11e-e996fbedcc54 ]] {\r\n",
       "}\r\n",
       "package \"P3\" as E6  [[psysml:61bbaf9b-44aa-4d19-b1af-9f0be63c5dc6 ]]  {\r\n",
       "comp def \"B\" as E7  <<(T,blue) part  def>> [[psysml:f5eaf228-c184-457d-ba82-3236315ba9d3 ]] {\r\n",
       "}\r\n",
       "}\r\n",
       "comp usage \"z: B \" as E8  <<(T,blue) part>> [[psysml:3c42eaa7-d0d8-4753-a2b8-0968c7baa502 ]] {\r\n",
       "}\r\n",
       "package \"P4\" as E9  [[psysml:826bc35a-2948-4f0f-ac57-a46abe90dd77 ]]  {\r\n",
       "comp usage \"z1: A \" as E10  <<(T,blue) part>> [[psysml:bd10993a-8e6e-4149-83fc-2dc02c68e6fc ]] {\r\n",
       "}\r\n",
       "}\r\n",
       "}\r\n",
       "E4 ..> E2 [[psysml:9c76a3dc-4160-42f2-8d03-f28cee99dd8d ]] : <<import>>*\r\n",
       "E5 - -:|> E3 [[psysml:7e781afb-bb69-45b4-99ca-abeca0fc5181 ]] \r\n",
       "E1 ..> E4 [[psysml:3abfa817-381d-4c68-8935-6fa98a0aa2e6 ]] : <<import>>*\r\n",
       "E1 ..> E6 [[psysml:38071c17-dcc7-47a2-931c-5199b5c10531 ]] : <<import>>*\r\n",
       "E8 - -:|> E7 [[psysml:84039e37-6732-4e81-a24d-af568a8fc4d2 ]] \r\n",
       "E9 ..> E4 [[psysml:f4a7c8b4-50d4-4d21-9428-75951a767795 ]] : <<import>>*\r\n",
       "E10 - -:|> E3 [[psysml:ff7299d7-bc25-43a3-abcf-daa45aa95a4b ]] \r\n",
       "@enduml\r\n",
       "\n",
       "PlantUML version 1.2020.13(Sat Jun 13 12:26:38 UTC 2020)\n",
       "(EPL source distribution)\n",
       "Java Runtime: OpenJDK Runtime Environment\n",
       "JVM: OpenJDK 64-Bit Server VM\n",
       "Default Encoding: UTF-8\n",
       "Language: en\n",
       "Country: null\n",
       "--></g></svg>"
      ]
     },
     "execution_count": 43,
     "metadata": {},
     "output_type": "execute_result"
    }
   ],
   "source": [
    "%viz --style=\"DEFAULT\" --view=\"MIXED\" \"PrivateImportTest\""
   ]
  },
  {
   "cell_type": "code",
   "execution_count": 44,
   "id": "fbdbe071",
   "metadata": {
    "execution": {
     "iopub.execute_input": "2022-08-19T08:19:19.087739Z",
     "iopub.status.busy": "2022-08-19T08:19:19.087236Z",
     "iopub.status.idle": "2022-08-19T08:19:19.124330Z",
     "shell.execute_reply": "2022-08-19T08:19:19.122725Z"
    }
   },
   "outputs": [
    {
     "data": {
      "image/svg+xml": [
       "<?xml version=\"1.0\" encoding=\"UTF-8\" standalone=\"no\"?><svg xmlns=\"http://www.w3.org/2000/svg\" xmlns:xlink=\"http://www.w3.org/1999/xlink\" contentScriptType=\"application/ecmascript\" contentStyleType=\"text/css\" height=\"586px\" preserveAspectRatio=\"none\" style=\"width:433px;height:586px;\" version=\"1.1\" viewBox=\"0 0 433 586\" width=\"433px\" zoomAndPan=\"magnify\"><defs/><g><!--MD5=[fbc87193dbaf4d95561dea2c320d4a47]\n",
       "cluster E1--><a href=\"psysml:8f933ba8-0ed5-4db5-b82c-58b1e568922b\" target=\"_top\" title=\"psysml:8f933ba8-0ed5-4db5-b82c-58b1e568922b\" xlink:actuate=\"onRequest\" xlink:href=\"psysml:8f933ba8-0ed5-4db5-b82c-58b1e568922b\" xlink:show=\"new\" xlink:title=\"psysml:8f933ba8-0ed5-4db5-b82c-58b1e568922b\" xlink:type=\"simple\"><polygon fill=\"#FFFFFF\" points=\"26.32,6,153.32,6,160.32,28.2969,411.32,28.2969,411.32,574,26.32,574,26.32,6\" style=\"stroke: #000000; stroke-width: 1.5;\"/><line style=\"stroke: #000000; stroke-width: 1.5;\" x1=\"26.32\" x2=\"160.32\" y1=\"28.2969\" y2=\"28.2969\"/><text fill=\"#000000\" font-family=\"sans-serif\" font-size=\"14\" font-weight=\"bold\" lengthAdjust=\"spacingAndGlyphs\" textLength=\"121\" x=\"30.32\" y=\"20.9951\">PrivateImportTest</text></a><!--MD5=[e4f7fae6ed58524ba242bb0b0d3be6b7]\n",
       "cluster E2--><a href=\"psysml:dc5a646f-7a70-4bb5-8a84-dd766b7ca58f\" target=\"_top\" title=\"psysml:dc5a646f-7a70-4bb5-8a84-dd766b7ca58f\" xlink:actuate=\"onRequest\" xlink:href=\"psysml:dc5a646f-7a70-4bb5-8a84-dd766b7ca58f\" xlink:show=\"new\" xlink:title=\"psysml:dc5a646f-7a70-4bb5-8a84-dd766b7ca58f\" xlink:type=\"simple\"><polygon fill=\"#FFFFFF\" points=\"231.32,421,255.32,421,262.32,443.2969,368.32,443.2969,368.32,534,231.32,534,231.32,421\" style=\"stroke: #000000; stroke-width: 1.5;\"/><line style=\"stroke: #000000; stroke-width: 1.5;\" x1=\"231.32\" x2=\"262.32\" y1=\"443.2969\" y2=\"443.2969\"/><text fill=\"#000000\" font-family=\"sans-serif\" font-size=\"14\" font-weight=\"bold\" lengthAdjust=\"spacingAndGlyphs\" textLength=\"18\" x=\"235.32\" y=\"435.9951\">P1</text></a><!--MD5=[14e3b0961a2654348d326746436168a1]\n",
       "cluster E6--><a href=\"psysml:61bbaf9b-44aa-4d19-b1af-9f0be63c5dc6\" target=\"_top\" title=\"psysml:61bbaf9b-44aa-4d19-b1af-9f0be63c5dc6\" xlink:actuate=\"onRequest\" xlink:href=\"psysml:61bbaf9b-44aa-4d19-b1af-9f0be63c5dc6\" xlink:show=\"new\" xlink:title=\"psysml:61bbaf9b-44aa-4d19-b1af-9f0be63c5dc6\" xlink:type=\"simple\"><polygon fill=\"#FFFFFF\" points=\"74.32,243,98.32,243,105.32,265.2969,211.32,265.2969,211.32,356,74.32,356,74.32,243\" style=\"stroke: #000000; stroke-width: 1.5;\"/><line style=\"stroke: #000000; stroke-width: 1.5;\" x1=\"74.32\" x2=\"105.32\" y1=\"265.2969\" y2=\"265.2969\"/><text fill=\"#000000\" font-family=\"sans-serif\" font-size=\"14\" font-weight=\"bold\" lengthAdjust=\"spacingAndGlyphs\" textLength=\"18\" x=\"78.32\" y=\"257.9951\">P3</text></a><!--MD5=[7f149f147074ac12df2cb0a7728a5fb0]\n",
       "cluster E9--><a href=\"psysml:826bc35a-2948-4f0f-ac57-a46abe90dd77\" target=\"_top\" title=\"psysml:826bc35a-2948-4f0f-ac57-a46abe90dd77\" xlink:actuate=\"onRequest\" xlink:href=\"psysml:826bc35a-2948-4f0f-ac57-a46abe90dd77\" xlink:show=\"new\" xlink:title=\"psysml:826bc35a-2948-4f0f-ac57-a46abe90dd77\" xlink:type=\"simple\"><polygon fill=\"#FFFFFF\" points=\"262.32,65,286.32,65,293.32,87.2969,371.32,87.2969,371.32,178,262.32,178,262.32,65\" style=\"stroke: #000000; stroke-width: 1.5;\"/><line style=\"stroke: #000000; stroke-width: 1.5;\" x1=\"262.32\" x2=\"293.32\" y1=\"87.2969\" y2=\"87.2969\"/><text fill=\"#000000\" font-family=\"sans-serif\" font-size=\"14\" font-weight=\"bold\" lengthAdjust=\"spacingAndGlyphs\" textLength=\"18\" x=\"266.32\" y=\"79.9951\">P4</text></a><!--MD5=[270fce915f116d4de14055a7c1d9a0f3]\n",
       "class E5--><a href=\"psysml:ae255e73-333e-4dec-b11e-e996fbedcc54\" target=\"_top\" title=\"psysml:ae255e73-333e-4dec-b11e-e996fbedcc54\" xlink:actuate=\"onRequest\" xlink:href=\"psysml:ae255e73-333e-4dec-b11e-e996fbedcc54\" xlink:show=\"new\" xlink:title=\"psysml:ae255e73-333e-4dec-b11e-e996fbedcc54\" xlink:type=\"simple\"><rect fill=\"#FFFFFF\" height=\"45.9375\" id=\"E5\" rx=\"10\" ry=\"10\" style=\"stroke: #383838; stroke-width: 1.5;\" width=\"42\" x=\"345.32\" y=\"286\"/><text fill=\"#000000\" font-family=\"sans-serif\" font-size=\"12\" font-style=\"italic\" lengthAdjust=\"spacingAndGlyphs\" textLength=\"40\" x=\"346.32\" y=\"302.1387\">«part»</text><text fill=\"#000000\" font-family=\"sans-serif\" font-size=\"12\" lengthAdjust=\"spacingAndGlyphs\" textLength=\"22\" x=\"353.32\" y=\"316.1074\">x: A</text><line style=\"stroke: #383838; stroke-width: 1.5;\" x1=\"346.32\" x2=\"386.32\" y1=\"323.9375\" y2=\"323.9375\"/></a><!--MD5=[b9389687b975829384b498ac4b7476b2]\n",
       "class E8--><a href=\"psysml:3c42eaa7-d0d8-4753-a2b8-0968c7baa502\" target=\"_top\" title=\"psysml:3c42eaa7-d0d8-4753-a2b8-0968c7baa502\" xlink:actuate=\"onRequest\" xlink:href=\"psysml:3c42eaa7-d0d8-4753-a2b8-0968c7baa502\" xlink:show=\"new\" xlink:title=\"psysml:3c42eaa7-d0d8-4753-a2b8-0968c7baa502\" xlink:type=\"simple\"><rect fill=\"#FFFFFF\" height=\"45.9375\" id=\"E8\" rx=\"10\" ry=\"10\" style=\"stroke: #383838; stroke-width: 1.5;\" width=\"42\" x=\"193.32\" y=\"108\"/><text fill=\"#000000\" font-family=\"sans-serif\" font-size=\"12\" font-style=\"italic\" lengthAdjust=\"spacingAndGlyphs\" textLength=\"40\" x=\"194.32\" y=\"124.1387\">«part»</text><text fill=\"#000000\" font-family=\"sans-serif\" font-size=\"12\" lengthAdjust=\"spacingAndGlyphs\" textLength=\"21\" x=\"201.82\" y=\"138.1074\">z: B</text><line style=\"stroke: #383838; stroke-width: 1.5;\" x1=\"194.32\" x2=\"234.32\" y1=\"145.9375\" y2=\"145.9375\"/></a><!--MD5=[09b614a08d8cba4a07c9adeb5e0fee81]\n",
       "class E3--><a href=\"psysml:e52e2a8f-f908-40ce-88b1-6459229e6290\" target=\"_top\" title=\"psysml:e52e2a8f-f908-40ce-88b1-6459229e6290\" xlink:actuate=\"onRequest\" xlink:href=\"psysml:e52e2a8f-f908-40ce-88b1-6459229e6290\" xlink:show=\"new\" xlink:title=\"psysml:e52e2a8f-f908-40ce-88b1-6459229e6290\" xlink:type=\"simple\"><rect fill=\"#FFFFFF\" height=\"45.9375\" id=\"E3\" style=\"stroke: #383838; stroke-width: 1.5;\" width=\"70\" x=\"274.32\" y=\"464\"/><text fill=\"#000000\" font-family=\"sans-serif\" font-size=\"12\" font-style=\"italic\" lengthAdjust=\"spacingAndGlyphs\" textLength=\"68\" x=\"275.32\" y=\"480.1387\">«part  def»</text><text fill=\"#000000\" font-family=\"sans-serif\" font-size=\"12\" lengthAdjust=\"spacingAndGlyphs\" textLength=\"8\" x=\"305.32\" y=\"494.1074\">A</text><line style=\"stroke: #383838; stroke-width: 1.5;\" x1=\"275.32\" x2=\"343.32\" y1=\"501.9375\" y2=\"501.9375\"/></a><a href=\"psysml:b07c7c49-60b3-45d9-ab30-3f9ccb4621b1\" target=\"_top\" title=\"psysml:b07c7c49-60b3-45d9-ab30-3f9ccb4621b1\" xlink:actuate=\"onRequest\" xlink:href=\"psysml:b07c7c49-60b3-45d9-ab30-3f9ccb4621b1\" xlink:show=\"new\" xlink:title=\"psysml:b07c7c49-60b3-45d9-ab30-3f9ccb4621b1\" xlink:type=\"simple\"><polygon fill=\"#FFFFFF\" points=\"235.32,282.5,259.32,282.5,266.32,304.7969,273.32,304.7969,273.32,335.0938,235.32,335.0938,235.32,282.5\" style=\"stroke: #000000; stroke-width: 1.5;\"/><line style=\"stroke: #000000; stroke-width: 1.5;\" x1=\"235.32\" x2=\"266.32\" y1=\"304.7969\" y2=\"304.7969\"/><text fill=\"#000000\" font-family=\"sans-serif\" font-size=\"14\" font-weight=\"bold\" lengthAdjust=\"spacingAndGlyphs\" textLength=\"18\" x=\"239.32\" y=\"297.4951\">P2</text></a><!--MD5=[2156ba9850f5573cc1fc38a6a4b2f02b]\n",
       "class E7--><a href=\"psysml:f5eaf228-c184-457d-ba82-3236315ba9d3\" target=\"_top\" title=\"psysml:f5eaf228-c184-457d-ba82-3236315ba9d3\" xlink:actuate=\"onRequest\" xlink:href=\"psysml:f5eaf228-c184-457d-ba82-3236315ba9d3\" xlink:show=\"new\" xlink:title=\"psysml:f5eaf228-c184-457d-ba82-3236315ba9d3\" xlink:type=\"simple\"><rect fill=\"#FFFFFF\" height=\"45.9375\" id=\"E7\" style=\"stroke: #383838; stroke-width: 1.5;\" width=\"70\" x=\"117.32\" y=\"286\"/><text fill=\"#000000\" font-family=\"sans-serif\" font-size=\"12\" font-style=\"italic\" lengthAdjust=\"spacingAndGlyphs\" textLength=\"68\" x=\"118.32\" y=\"302.1387\">«part  def»</text><text fill=\"#000000\" font-family=\"sans-serif\" font-size=\"12\" lengthAdjust=\"spacingAndGlyphs\" textLength=\"8\" x=\"148.32\" y=\"316.1074\">B</text><line style=\"stroke: #383838; stroke-width: 1.5;\" x1=\"118.32\" x2=\"186.32\" y1=\"323.9375\" y2=\"323.9375\"/></a><!--MD5=[96f4274e9e20536e775497830990834d]\n",
       "class E10--><a href=\"psysml:bd10993a-8e6e-4149-83fc-2dc02c68e6fc\" target=\"_top\" title=\"psysml:bd10993a-8e6e-4149-83fc-2dc02c68e6fc\" xlink:actuate=\"onRequest\" xlink:href=\"psysml:bd10993a-8e6e-4149-83fc-2dc02c68e6fc\" xlink:show=\"new\" xlink:title=\"psysml:bd10993a-8e6e-4149-83fc-2dc02c68e6fc\" xlink:type=\"simple\"><rect fill=\"#FFFFFF\" height=\"45.9375\" id=\"E10\" rx=\"10\" ry=\"10\" style=\"stroke: #383838; stroke-width: 1.5;\" width=\"42\" x=\"305.32\" y=\"108\"/><text fill=\"#000000\" font-family=\"sans-serif\" font-size=\"12\" font-style=\"italic\" lengthAdjust=\"spacingAndGlyphs\" textLength=\"40\" x=\"306.32\" y=\"124.1387\">«part»</text><text fill=\"#000000\" font-family=\"sans-serif\" font-size=\"12\" lengthAdjust=\"spacingAndGlyphs\" textLength=\"29\" x=\"309.82\" y=\"138.1074\">z1: A</text><line style=\"stroke: #383838; stroke-width: 1.5;\" x1=\"306.32\" x2=\"346.32\" y1=\"145.9375\" y2=\"145.9375\"/></a><!--MD5=[185131fc0dcab0a4505a2ebe144e961b]\n",
       "link E4 to E2--><a href=\"psysml:9c76a3dc-4160-42f2-8d03-f28cee99dd8d\" target=\"_top\" title=\"psysml:9c76a3dc-4160-42f2-8d03-f28cee99dd8d\" xlink:actuate=\"onRequest\" xlink:href=\"psysml:9c76a3dc-4160-42f2-8d03-f28cee99dd8d\" xlink:show=\"new\" xlink:title=\"psysml:9c76a3dc-4160-42f2-8d03-f28cee99dd8d\" xlink:type=\"simple\"><path d=\"M244.71,335.52 C240.28,348.61 235.53,364.94 233.32,380 C231.6325,391.49 231.1388,403.7444 231.3534,415.6911 C231.3803,417.1844 231.4182,418.673 231.4662,420.1546 C231.4722,420.3398 231.4784,420.5249 231.4847,420.7099 \" fill=\"none\" id=\"E4-&gt;E2\" style=\"stroke: #383838; stroke-width: 1.0; stroke-dasharray: 7.0,7.0;\"/><polygon fill=\"#383838\" points=\"231.4847,420.7099,235.1752,411.5786,231.314,415.7128,227.1798,411.8517,231.4847,420.7099\" style=\"stroke: #383838; stroke-width: 1.0;\"/><text fill=\"#000000\" font-family=\"sans-serif\" font-size=\"13\" lengthAdjust=\"spacingAndGlyphs\" textLength=\"65\" x=\"234.32\" y=\"393.0669\">«import»*</text></a><!--MD5=[e9be52314489bd878ff4c7144b63c9e1]\n",
       "link E5 to E3--><a href=\"psysml:7e781afb-bb69-45b4-99ca-abeca0fc5181\" target=\"_top\" title=\"psysml:7e781afb-bb69-45b4-99ca-abeca0fc5181\" xlink:actuate=\"onRequest\" xlink:href=\"psysml:7e781afb-bb69-45b4-99ca-abeca0fc5181\" xlink:show=\"new\" xlink:title=\"psysml:7e781afb-bb69-45b4-99ca-abeca0fc5181\" xlink:type=\"simple\"><path d=\"M359.1,332.29 C349.98,360.46 334.1,409.49 322.72,444.61 \" fill=\"none\" id=\"E5-&gt;E3\" style=\"stroke: #383838; stroke-width: 1.0;\"/><polygon fill=\"#FFFFFF\" points=\"316.48,463.89,315.6693,443.6578,328.9893,447.9678,316.48,463.89\" style=\"stroke: #383838; stroke-width: 1.0;\"/><ellipse cx=\"319.3269\" cy=\"438.8503\" fill=\"#383838\" rx=\"2\" ry=\"2\" style=\"stroke: #383838; stroke-width: 1.0;\"/><ellipse cx=\"328.8413\" cy=\"441.9289\" fill=\"#383838\" rx=\"2\" ry=\"2\" style=\"stroke: #383838; stroke-width: 1.0;\"/></a><!--MD5=[ee384bb554873b72f85793eae40e290c]\n",
       "link E1 to E4--><a href=\"psysml:3abfa817-381d-4c68-8935-6fa98a0aa2e6\" target=\"_top\" title=\"psysml:3abfa817-381d-4c68-8935-6fa98a0aa2e6\" xlink:actuate=\"onRequest\" xlink:href=\"psysml:3abfa817-381d-4c68-8935-6fa98a0aa2e6\" xlink:show=\"new\" xlink:title=\"psysml:3abfa817-381d-4c68-8935-6fa98a0aa2e6\" xlink:type=\"simple\"><path d=\"M34.29,132.12 C33.65,134.6 23.75,174.52 42.32,194 C49.33,201.35 77.35,200.04 87.32,202 C113.19,207.09 181.71,211.88 203.32,227 C220.99,239.37 233.85,260.02 242.24,277.37 \" fill=\"none\" id=\"E1-&gt;E4\" style=\"stroke: #383838; stroke-width: 1.0; stroke-dasharray: 7.0,7.0;\"/><polygon fill=\"#383838\" points=\"244.49,282.17,244.3071,272.3228,242.3748,277.6394,237.0582,275.7072,244.49,282.17\" style=\"stroke: #383838; stroke-width: 1.0;\"/><text fill=\"#000000\" font-family=\"sans-serif\" font-size=\"13\" lengthAdjust=\"spacingAndGlyphs\" textLength=\"65\" x=\"183.32\" y=\"215.0669\">«import»*</text></a><!--MD5=[ccbd3af71bf83df0ec2a2db62d6d7130]\n",
       "link E1 to E6--><a href=\"psysml:38071c17-dcc7-47a2-931c-5199b5c10531\" target=\"_top\" title=\"psysml:38071c17-dcc7-47a2-931c-5199b5c10531\" xlink:actuate=\"onRequest\" xlink:href=\"psysml:38071c17-dcc7-47a2-931c-5199b5c10531\" xlink:show=\"new\" xlink:title=\"psysml:38071c17-dcc7-47a2-931c-5199b5c10531\" xlink:type=\"simple\"><path d=\"M26.1693,145.3513 C26.1165,145.4477 26.0635,145.5445 26.0105,145.6418 C25.9044,145.8363 25.7978,146.0325 25.6908,146.2304 C24.8349,147.8133 23.9523,149.5023 23.0614,151.284 C21.2797,154.8473 19.465,158.7813 17.765,162.9775 C10.965,179.7625 6,200.745 12.32,219 C20.295,242.035 36.9675,263.635 52.0413,279.7863 C59.5781,287.8619 66.7153,294.5753 72.1658,299.4248 C72.8471,300.031 73.502,300.6081 74.1281,301.1551 \" fill=\"none\" id=\"E1-&gt;E6\" style=\"stroke: #383838; stroke-width: 1.0; stroke-dasharray: 7.0,7.0;\"/><polygon fill=\"#383838\" points=\"74.1281,301.1551,69.982,292.2214,70.3627,297.8655,64.7187,298.2462,74.1281,301.1551\" style=\"stroke: #383838; stroke-width: 1.0;\"/><text fill=\"#000000\" font-family=\"sans-serif\" font-size=\"13\" lengthAdjust=\"spacingAndGlyphs\" textLength=\"65\" x=\"13.32\" y=\"215.0669\">«import»*</text></a><!--MD5=[bfa3c8b0d15052fdf50ae9310b491027]\n",
       "link E8 to E7--><a href=\"psysml:84039e37-6732-4e81-a24d-af568a8fc4d2\" target=\"_top\" title=\"psysml:84039e37-6732-4e81-a24d-af568a8fc4d2\" xlink:actuate=\"onRequest\" xlink:href=\"psysml:84039e37-6732-4e81-a24d-af568a8fc4d2\" xlink:show=\"new\" xlink:title=\"psysml:84039e37-6732-4e81-a24d-af568a8fc4d2\" xlink:type=\"simple\"><path d=\"M232.99,154.29 C246.61,173.37 260.16,200.59 244.32,219 C228.78,237.06 210.49,212.85 191.32,227 C178.2,236.69 169.29,251.96 163.34,266.65 \" fill=\"none\" id=\"E8-&gt;E7\" style=\"stroke: #383838; stroke-width: 1.0;\"/><polygon fill=\"#FFFFFF\" points=\"156.95,285.73,156.3404,265.4907,169.617,269.9329,156.95,285.73\" style=\"stroke: #383838; stroke-width: 1.0;\"/><ellipse cx=\"160.0457\" cy=\"260.7199\" fill=\"#383838\" rx=\"2\" ry=\"2\" style=\"stroke: #383838; stroke-width: 1.0;\"/><ellipse cx=\"169.5289\" cy=\"263.8929\" fill=\"#383838\" rx=\"2\" ry=\"2\" style=\"stroke: #383838; stroke-width: 1.0;\"/></a><!--MD5=[c2be97adba6ddfe1c8f349fab141c927]\n",
       "link E9 to E4--><a href=\"psysml:f4a7c8b4-50d4-4d21-9428-75951a767795\" target=\"_top\" title=\"psysml:f4a7c8b4-50d4-4d21-9428-75951a767795\" xlink:actuate=\"onRequest\" xlink:href=\"psysml:f4a7c8b4-50d4-4d21-9428-75951a767795\" xlink:show=\"new\" xlink:title=\"psysml:f4a7c8b4-50d4-4d21-9428-75951a767795\" xlink:type=\"simple\"><path d=\"M267.5431,178.2415 C267.5354,178.35 267.5276,178.4585 267.5198,178.5671 C267.3951,180.3034 267.2673,182.0417 267.1366,183.7729 C266.8753,187.2352 266.6025,190.6688 266.32,194 C263.93,222.21 260.49,254.26 257.9,277.18 \" fill=\"none\" id=\"E9-&gt;E4\" style=\"stroke: #383838; stroke-width: 1.0; stroke-dasharray: 7.0,7.0;\"/><polygon fill=\"#383838\" points=\"257.33,282.22,262.3075,273.7215,257.8869,277.2511,254.3572,272.8305,257.33,282.22\" style=\"stroke: #383838; stroke-width: 1.0;\"/><text fill=\"#000000\" font-family=\"sans-serif\" font-size=\"13\" lengthAdjust=\"spacingAndGlyphs\" textLength=\"65\" x=\"266.32\" y=\"215.0669\">«import»*</text></a><!--MD5=[feeac5eb423634930294aa81f2d25a4c]\n",
       "link E10 to E3--><a href=\"psysml:ff7299d7-bc25-43a3-abcf-daa45aa95a4b\" target=\"_top\" title=\"psysml:ff7299d7-bc25-43a3-abcf-daa45aa95a4b\" xlink:actuate=\"onRequest\" xlink:href=\"psysml:ff7299d7-bc25-43a3-abcf-daa45aa95a4b\" xlink:show=\"new\" xlink:title=\"psysml:ff7299d7-bc25-43a3-abcf-daa45aa95a4b\" xlink:type=\"simple\"><path d=\"M345.63,154.11 C359.77,173.07 373.99,200.22 358.32,219 C345.58,234.26 327.2,211.86 314.32,227 C300.64,243.07 304.33,374.79 307.28,443.95 \" fill=\"none\" id=\"E10-&gt;E3\" style=\"stroke: #383838; stroke-width: 1.0;\"/><polygon fill=\"#FFFFFF\" points=\"308.18,463.98,300.3317,445.3144,314.3175,444.6841,308.18,463.98\" style=\"stroke: #383838; stroke-width: 1.0;\"/><ellipse cx=\"302.0731\" cy=\"439.5301\" fill=\"#383838\" rx=\"2\" ry=\"2\" style=\"stroke: #383838; stroke-width: 1.0;\"/><ellipse cx=\"312.063\" cy=\"439.0799\" fill=\"#383838\" rx=\"2\" ry=\"2\" style=\"stroke: #383838; stroke-width: 1.0;\"/></a><!--MD5=[dcf4556deb5a511cc35df9df56689ad0]\n",
       "@startuml\r\n",
       "top to bottom direction\r\n",
       "skinparam monochrome true\r\n",
       "skinparam classbackgroundcolor white\r\n",
       "skinparam shadowing false\r\n",
       "skinparam wrapWidth 300\r\n",
       "hide circle\r\n",
       "\r\n",
       "package \"PrivateImportTest\" as E1  [[psysml:8f933ba8-0ed5-4db5-b82c-58b1e568922b ]]  {\r\n",
       "package \"P1\" as E2  [[psysml:dc5a646f-7a70-4bb5-8a84-dd766b7ca58f ]]  {\r\n",
       "comp def \"A\" as E3  <<(T,blue) part  def>> [[psysml:e52e2a8f-f908-40ce-88b1-6459229e6290 ]] {\r\n",
       "}\r\n",
       "}\r\n",
       "package \"P2\" as E4  [[psysml:b07c7c49-60b3-45d9-ab30-3f9ccb4621b1 ]]  {\r\n",
       "}\r\n",
       "comp usage \"x: A \" as E5  <<(T,blue) part>> [[psysml:ae255e73-333e-4dec-b11e-e996fbedcc54 ]] {\r\n",
       "}\r\n",
       "package \"P3\" as E6  [[psysml:61bbaf9b-44aa-4d19-b1af-9f0be63c5dc6 ]]  {\r\n",
       "comp def \"B\" as E7  <<(T,blue) part  def>> [[psysml:f5eaf228-c184-457d-ba82-3236315ba9d3 ]] {\r\n",
       "}\r\n",
       "}\r\n",
       "comp usage \"z: B \" as E8  <<(T,blue) part>> [[psysml:3c42eaa7-d0d8-4753-a2b8-0968c7baa502 ]] {\r\n",
       "}\r\n",
       "package \"P4\" as E9  [[psysml:826bc35a-2948-4f0f-ac57-a46abe90dd77 ]]  {\r\n",
       "comp usage \"z1: A \" as E10  <<(T,blue) part>> [[psysml:bd10993a-8e6e-4149-83fc-2dc02c68e6fc ]] {\r\n",
       "}\r\n",
       "}\r\n",
       "}\r\n",
       "E4 ..> E2 [[psysml:9c76a3dc-4160-42f2-8d03-f28cee99dd8d ]] : <<import>>*\r\n",
       "E5 - -:|> E3 [[psysml:7e781afb-bb69-45b4-99ca-abeca0fc5181 ]] \r\n",
       "E1 ..> E4 [[psysml:3abfa817-381d-4c68-8935-6fa98a0aa2e6 ]] : <<import>>*\r\n",
       "E1 ..> E6 [[psysml:38071c17-dcc7-47a2-931c-5199b5c10531 ]] : <<import>>*\r\n",
       "E8 - -:|> E7 [[psysml:84039e37-6732-4e81-a24d-af568a8fc4d2 ]] \r\n",
       "E9 ..> E4 [[psysml:f4a7c8b4-50d4-4d21-9428-75951a767795 ]] : <<import>>*\r\n",
       "E10 - -:|> E3 [[psysml:ff7299d7-bc25-43a3-abcf-daa45aa95a4b ]] \r\n",
       "@enduml\r\n",
       "\n",
       "PlantUML version 1.2020.13(Sat Jun 13 12:26:38 UTC 2020)\n",
       "(EPL source distribution)\n",
       "Java Runtime: OpenJDK Runtime Environment\n",
       "JVM: OpenJDK 64-Bit Server VM\n",
       "Default Encoding: UTF-8\n",
       "Language: en\n",
       "Country: null\n",
       "--></g></svg>"
      ]
     },
     "execution_count": 44,
     "metadata": {},
     "output_type": "execute_result"
    }
   ],
   "source": [
    "%viz --style=\"TB\" --view=\"Default\" \"PrivateImportTest\""
   ]
  },
  {
   "cell_type": "code",
   "execution_count": 45,
   "id": "49bb4ef2",
   "metadata": {
    "execution": {
     "iopub.execute_input": "2022-08-19T08:19:19.174182Z",
     "iopub.status.busy": "2022-08-19T08:19:19.173494Z",
     "iopub.status.idle": "2022-08-19T08:19:19.210171Z",
     "shell.execute_reply": "2022-08-19T08:19:19.208585Z"
    }
   },
   "outputs": [
    {
     "data": {
      "image/svg+xml": [
       "<?xml version=\"1.0\" encoding=\"UTF-8\" standalone=\"no\"?><svg xmlns=\"http://www.w3.org/2000/svg\" xmlns:xlink=\"http://www.w3.org/1999/xlink\" contentScriptType=\"application/ecmascript\" contentStyleType=\"text/css\" height=\"586px\" preserveAspectRatio=\"none\" style=\"width:433px;height:586px;\" version=\"1.1\" viewBox=\"0 0 433 586\" width=\"433px\" zoomAndPan=\"magnify\"><defs/><g><!--MD5=[fbc87193dbaf4d95561dea2c320d4a47]\n",
       "cluster E1--><a href=\"psysml:8f933ba8-0ed5-4db5-b82c-58b1e568922b\" target=\"_top\" title=\"psysml:8f933ba8-0ed5-4db5-b82c-58b1e568922b\" xlink:actuate=\"onRequest\" xlink:href=\"psysml:8f933ba8-0ed5-4db5-b82c-58b1e568922b\" xlink:show=\"new\" xlink:title=\"psysml:8f933ba8-0ed5-4db5-b82c-58b1e568922b\" xlink:type=\"simple\"><polygon fill=\"#FFFFFF\" points=\"26.32,6,153.32,6,160.32,28.2969,411.32,28.2969,411.32,574,26.32,574,26.32,6\" style=\"stroke: #000000; stroke-width: 1.5;\"/><line style=\"stroke: #000000; stroke-width: 1.5;\" x1=\"26.32\" x2=\"160.32\" y1=\"28.2969\" y2=\"28.2969\"/><text fill=\"#000000\" font-family=\"sans-serif\" font-size=\"14\" font-weight=\"bold\" lengthAdjust=\"spacingAndGlyphs\" textLength=\"121\" x=\"30.32\" y=\"20.9951\">PrivateImportTest</text></a><!--MD5=[e4f7fae6ed58524ba242bb0b0d3be6b7]\n",
       "cluster E2--><a href=\"psysml:dc5a646f-7a70-4bb5-8a84-dd766b7ca58f\" target=\"_top\" title=\"psysml:dc5a646f-7a70-4bb5-8a84-dd766b7ca58f\" xlink:actuate=\"onRequest\" xlink:href=\"psysml:dc5a646f-7a70-4bb5-8a84-dd766b7ca58f\" xlink:show=\"new\" xlink:title=\"psysml:dc5a646f-7a70-4bb5-8a84-dd766b7ca58f\" xlink:type=\"simple\"><polygon fill=\"#FFFFFF\" points=\"231.32,421,255.32,421,262.32,443.2969,368.32,443.2969,368.32,534,231.32,534,231.32,421\" style=\"stroke: #000000; stroke-width: 1.5;\"/><line style=\"stroke: #000000; stroke-width: 1.5;\" x1=\"231.32\" x2=\"262.32\" y1=\"443.2969\" y2=\"443.2969\"/><text fill=\"#000000\" font-family=\"sans-serif\" font-size=\"14\" font-weight=\"bold\" lengthAdjust=\"spacingAndGlyphs\" textLength=\"18\" x=\"235.32\" y=\"435.9951\">P1</text></a><!--MD5=[14e3b0961a2654348d326746436168a1]\n",
       "cluster E6--><a href=\"psysml:61bbaf9b-44aa-4d19-b1af-9f0be63c5dc6\" target=\"_top\" title=\"psysml:61bbaf9b-44aa-4d19-b1af-9f0be63c5dc6\" xlink:actuate=\"onRequest\" xlink:href=\"psysml:61bbaf9b-44aa-4d19-b1af-9f0be63c5dc6\" xlink:show=\"new\" xlink:title=\"psysml:61bbaf9b-44aa-4d19-b1af-9f0be63c5dc6\" xlink:type=\"simple\"><polygon fill=\"#FFFFFF\" points=\"74.32,243,98.32,243,105.32,265.2969,211.32,265.2969,211.32,356,74.32,356,74.32,243\" style=\"stroke: #000000; stroke-width: 1.5;\"/><line style=\"stroke: #000000; stroke-width: 1.5;\" x1=\"74.32\" x2=\"105.32\" y1=\"265.2969\" y2=\"265.2969\"/><text fill=\"#000000\" font-family=\"sans-serif\" font-size=\"14\" font-weight=\"bold\" lengthAdjust=\"spacingAndGlyphs\" textLength=\"18\" x=\"78.32\" y=\"257.9951\">P3</text></a><!--MD5=[7f149f147074ac12df2cb0a7728a5fb0]\n",
       "cluster E9--><a href=\"psysml:826bc35a-2948-4f0f-ac57-a46abe90dd77\" target=\"_top\" title=\"psysml:826bc35a-2948-4f0f-ac57-a46abe90dd77\" xlink:actuate=\"onRequest\" xlink:href=\"psysml:826bc35a-2948-4f0f-ac57-a46abe90dd77\" xlink:show=\"new\" xlink:title=\"psysml:826bc35a-2948-4f0f-ac57-a46abe90dd77\" xlink:type=\"simple\"><polygon fill=\"#FFFFFF\" points=\"262.32,65,286.32,65,293.32,87.2969,371.32,87.2969,371.32,178,262.32,178,262.32,65\" style=\"stroke: #000000; stroke-width: 1.5;\"/><line style=\"stroke: #000000; stroke-width: 1.5;\" x1=\"262.32\" x2=\"293.32\" y1=\"87.2969\" y2=\"87.2969\"/><text fill=\"#000000\" font-family=\"sans-serif\" font-size=\"14\" font-weight=\"bold\" lengthAdjust=\"spacingAndGlyphs\" textLength=\"18\" x=\"266.32\" y=\"79.9951\">P4</text></a><!--MD5=[270fce915f116d4de14055a7c1d9a0f3]\n",
       "class E5--><a href=\"psysml:ae255e73-333e-4dec-b11e-e996fbedcc54\" target=\"_top\" title=\"psysml:ae255e73-333e-4dec-b11e-e996fbedcc54\" xlink:actuate=\"onRequest\" xlink:href=\"psysml:ae255e73-333e-4dec-b11e-e996fbedcc54\" xlink:show=\"new\" xlink:title=\"psysml:ae255e73-333e-4dec-b11e-e996fbedcc54\" xlink:type=\"simple\"><rect fill=\"#FFFFFF\" height=\"45.9375\" id=\"E5\" rx=\"10\" ry=\"10\" style=\"stroke: #383838; stroke-width: 1.5;\" width=\"42\" x=\"345.32\" y=\"286\"/><text fill=\"#000000\" font-family=\"sans-serif\" font-size=\"12\" font-style=\"italic\" lengthAdjust=\"spacingAndGlyphs\" textLength=\"40\" x=\"346.32\" y=\"302.1387\">«part»</text><text fill=\"#000000\" font-family=\"sans-serif\" font-size=\"12\" lengthAdjust=\"spacingAndGlyphs\" textLength=\"22\" x=\"353.32\" y=\"316.1074\">x: A</text><line style=\"stroke: #383838; stroke-width: 1.5;\" x1=\"346.32\" x2=\"386.32\" y1=\"323.9375\" y2=\"323.9375\"/></a><!--MD5=[b9389687b975829384b498ac4b7476b2]\n",
       "class E8--><a href=\"psysml:3c42eaa7-d0d8-4753-a2b8-0968c7baa502\" target=\"_top\" title=\"psysml:3c42eaa7-d0d8-4753-a2b8-0968c7baa502\" xlink:actuate=\"onRequest\" xlink:href=\"psysml:3c42eaa7-d0d8-4753-a2b8-0968c7baa502\" xlink:show=\"new\" xlink:title=\"psysml:3c42eaa7-d0d8-4753-a2b8-0968c7baa502\" xlink:type=\"simple\"><rect fill=\"#FFFFFF\" height=\"45.9375\" id=\"E8\" rx=\"10\" ry=\"10\" style=\"stroke: #383838; stroke-width: 1.5;\" width=\"42\" x=\"193.32\" y=\"108\"/><text fill=\"#000000\" font-family=\"sans-serif\" font-size=\"12\" font-style=\"italic\" lengthAdjust=\"spacingAndGlyphs\" textLength=\"40\" x=\"194.32\" y=\"124.1387\">«part»</text><text fill=\"#000000\" font-family=\"sans-serif\" font-size=\"12\" lengthAdjust=\"spacingAndGlyphs\" textLength=\"21\" x=\"201.82\" y=\"138.1074\">z: B</text><line style=\"stroke: #383838; stroke-width: 1.5;\" x1=\"194.32\" x2=\"234.32\" y1=\"145.9375\" y2=\"145.9375\"/></a><!--MD5=[09b614a08d8cba4a07c9adeb5e0fee81]\n",
       "class E3--><a href=\"psysml:e52e2a8f-f908-40ce-88b1-6459229e6290\" target=\"_top\" title=\"psysml:e52e2a8f-f908-40ce-88b1-6459229e6290\" xlink:actuate=\"onRequest\" xlink:href=\"psysml:e52e2a8f-f908-40ce-88b1-6459229e6290\" xlink:show=\"new\" xlink:title=\"psysml:e52e2a8f-f908-40ce-88b1-6459229e6290\" xlink:type=\"simple\"><rect fill=\"#FFFFFF\" height=\"45.9375\" id=\"E3\" style=\"stroke: #383838; stroke-width: 1.5;\" width=\"70\" x=\"274.32\" y=\"464\"/><text fill=\"#000000\" font-family=\"sans-serif\" font-size=\"12\" font-style=\"italic\" lengthAdjust=\"spacingAndGlyphs\" textLength=\"68\" x=\"275.32\" y=\"480.1387\">«part  def»</text><text fill=\"#000000\" font-family=\"sans-serif\" font-size=\"12\" lengthAdjust=\"spacingAndGlyphs\" textLength=\"8\" x=\"305.32\" y=\"494.1074\">A</text><line style=\"stroke: #383838; stroke-width: 1.5;\" x1=\"275.32\" x2=\"343.32\" y1=\"501.9375\" y2=\"501.9375\"/></a><a href=\"psysml:b07c7c49-60b3-45d9-ab30-3f9ccb4621b1\" target=\"_top\" title=\"psysml:b07c7c49-60b3-45d9-ab30-3f9ccb4621b1\" xlink:actuate=\"onRequest\" xlink:href=\"psysml:b07c7c49-60b3-45d9-ab30-3f9ccb4621b1\" xlink:show=\"new\" xlink:title=\"psysml:b07c7c49-60b3-45d9-ab30-3f9ccb4621b1\" xlink:type=\"simple\"><polygon fill=\"#FFFFFF\" points=\"235.32,282.5,259.32,282.5,266.32,304.7969,273.32,304.7969,273.32,335.0938,235.32,335.0938,235.32,282.5\" style=\"stroke: #000000; stroke-width: 1.5;\"/><line style=\"stroke: #000000; stroke-width: 1.5;\" x1=\"235.32\" x2=\"266.32\" y1=\"304.7969\" y2=\"304.7969\"/><text fill=\"#000000\" font-family=\"sans-serif\" font-size=\"14\" font-weight=\"bold\" lengthAdjust=\"spacingAndGlyphs\" textLength=\"18\" x=\"239.32\" y=\"297.4951\">P2</text></a><!--MD5=[2156ba9850f5573cc1fc38a6a4b2f02b]\n",
       "class E7--><a href=\"psysml:f5eaf228-c184-457d-ba82-3236315ba9d3\" target=\"_top\" title=\"psysml:f5eaf228-c184-457d-ba82-3236315ba9d3\" xlink:actuate=\"onRequest\" xlink:href=\"psysml:f5eaf228-c184-457d-ba82-3236315ba9d3\" xlink:show=\"new\" xlink:title=\"psysml:f5eaf228-c184-457d-ba82-3236315ba9d3\" xlink:type=\"simple\"><rect fill=\"#FFFFFF\" height=\"45.9375\" id=\"E7\" style=\"stroke: #383838; stroke-width: 1.5;\" width=\"70\" x=\"117.32\" y=\"286\"/><text fill=\"#000000\" font-family=\"sans-serif\" font-size=\"12\" font-style=\"italic\" lengthAdjust=\"spacingAndGlyphs\" textLength=\"68\" x=\"118.32\" y=\"302.1387\">«part  def»</text><text fill=\"#000000\" font-family=\"sans-serif\" font-size=\"12\" lengthAdjust=\"spacingAndGlyphs\" textLength=\"8\" x=\"148.32\" y=\"316.1074\">B</text><line style=\"stroke: #383838; stroke-width: 1.5;\" x1=\"118.32\" x2=\"186.32\" y1=\"323.9375\" y2=\"323.9375\"/></a><!--MD5=[96f4274e9e20536e775497830990834d]\n",
       "class E10--><a href=\"psysml:bd10993a-8e6e-4149-83fc-2dc02c68e6fc\" target=\"_top\" title=\"psysml:bd10993a-8e6e-4149-83fc-2dc02c68e6fc\" xlink:actuate=\"onRequest\" xlink:href=\"psysml:bd10993a-8e6e-4149-83fc-2dc02c68e6fc\" xlink:show=\"new\" xlink:title=\"psysml:bd10993a-8e6e-4149-83fc-2dc02c68e6fc\" xlink:type=\"simple\"><rect fill=\"#FFFFFF\" height=\"45.9375\" id=\"E10\" rx=\"10\" ry=\"10\" style=\"stroke: #383838; stroke-width: 1.5;\" width=\"42\" x=\"305.32\" y=\"108\"/><text fill=\"#000000\" font-family=\"sans-serif\" font-size=\"12\" font-style=\"italic\" lengthAdjust=\"spacingAndGlyphs\" textLength=\"40\" x=\"306.32\" y=\"124.1387\">«part»</text><text fill=\"#000000\" font-family=\"sans-serif\" font-size=\"12\" lengthAdjust=\"spacingAndGlyphs\" textLength=\"29\" x=\"309.82\" y=\"138.1074\">z1: A</text><line style=\"stroke: #383838; stroke-width: 1.5;\" x1=\"306.32\" x2=\"346.32\" y1=\"145.9375\" y2=\"145.9375\"/></a><!--MD5=[185131fc0dcab0a4505a2ebe144e961b]\n",
       "link E4 to E2--><a href=\"psysml:9c76a3dc-4160-42f2-8d03-f28cee99dd8d\" target=\"_top\" title=\"psysml:9c76a3dc-4160-42f2-8d03-f28cee99dd8d\" xlink:actuate=\"onRequest\" xlink:href=\"psysml:9c76a3dc-4160-42f2-8d03-f28cee99dd8d\" xlink:show=\"new\" xlink:title=\"psysml:9c76a3dc-4160-42f2-8d03-f28cee99dd8d\" xlink:type=\"simple\"><path d=\"M244.71,335.52 C240.28,348.61 235.53,364.94 233.32,380 C231.6325,391.49 231.1388,403.7444 231.3534,415.6911 C231.3803,417.1844 231.4182,418.673 231.4662,420.1546 C231.4722,420.3398 231.4784,420.5249 231.4847,420.7099 \" fill=\"none\" id=\"E4-&gt;E2\" style=\"stroke: #383838; stroke-width: 1.0; stroke-dasharray: 7.0,7.0;\"/><polygon fill=\"#383838\" points=\"231.4847,420.7099,235.1752,411.5786,231.314,415.7128,227.1798,411.8517,231.4847,420.7099\" style=\"stroke: #383838; stroke-width: 1.0;\"/><text fill=\"#000000\" font-family=\"sans-serif\" font-size=\"13\" lengthAdjust=\"spacingAndGlyphs\" textLength=\"65\" x=\"234.32\" y=\"393.0669\">«import»*</text></a><!--MD5=[e9be52314489bd878ff4c7144b63c9e1]\n",
       "link E5 to E3--><a href=\"psysml:7e781afb-bb69-45b4-99ca-abeca0fc5181\" target=\"_top\" title=\"psysml:7e781afb-bb69-45b4-99ca-abeca0fc5181\" xlink:actuate=\"onRequest\" xlink:href=\"psysml:7e781afb-bb69-45b4-99ca-abeca0fc5181\" xlink:show=\"new\" xlink:title=\"psysml:7e781afb-bb69-45b4-99ca-abeca0fc5181\" xlink:type=\"simple\"><path d=\"M359.1,332.29 C349.98,360.46 334.1,409.49 322.72,444.61 \" fill=\"none\" id=\"E5-&gt;E3\" style=\"stroke: #383838; stroke-width: 1.0;\"/><polygon fill=\"#FFFFFF\" points=\"316.48,463.89,315.6693,443.6578,328.9893,447.9678,316.48,463.89\" style=\"stroke: #383838; stroke-width: 1.0;\"/><ellipse cx=\"319.3269\" cy=\"438.8503\" fill=\"#383838\" rx=\"2\" ry=\"2\" style=\"stroke: #383838; stroke-width: 1.0;\"/><ellipse cx=\"328.8413\" cy=\"441.9289\" fill=\"#383838\" rx=\"2\" ry=\"2\" style=\"stroke: #383838; stroke-width: 1.0;\"/></a><!--MD5=[ee384bb554873b72f85793eae40e290c]\n",
       "link E1 to E4--><a href=\"psysml:3abfa817-381d-4c68-8935-6fa98a0aa2e6\" target=\"_top\" title=\"psysml:3abfa817-381d-4c68-8935-6fa98a0aa2e6\" xlink:actuate=\"onRequest\" xlink:href=\"psysml:3abfa817-381d-4c68-8935-6fa98a0aa2e6\" xlink:show=\"new\" xlink:title=\"psysml:3abfa817-381d-4c68-8935-6fa98a0aa2e6\" xlink:type=\"simple\"><path d=\"M34.29,132.12 C33.65,134.6 23.75,174.52 42.32,194 C49.33,201.35 77.35,200.04 87.32,202 C113.19,207.09 181.71,211.88 203.32,227 C220.99,239.37 233.85,260.02 242.24,277.37 \" fill=\"none\" id=\"E1-&gt;E4\" style=\"stroke: #383838; stroke-width: 1.0; stroke-dasharray: 7.0,7.0;\"/><polygon fill=\"#383838\" points=\"244.49,282.17,244.3071,272.3228,242.3748,277.6394,237.0582,275.7072,244.49,282.17\" style=\"stroke: #383838; stroke-width: 1.0;\"/><text fill=\"#000000\" font-family=\"sans-serif\" font-size=\"13\" lengthAdjust=\"spacingAndGlyphs\" textLength=\"65\" x=\"183.32\" y=\"215.0669\">«import»*</text></a><!--MD5=[ccbd3af71bf83df0ec2a2db62d6d7130]\n",
       "link E1 to E6--><a href=\"psysml:38071c17-dcc7-47a2-931c-5199b5c10531\" target=\"_top\" title=\"psysml:38071c17-dcc7-47a2-931c-5199b5c10531\" xlink:actuate=\"onRequest\" xlink:href=\"psysml:38071c17-dcc7-47a2-931c-5199b5c10531\" xlink:show=\"new\" xlink:title=\"psysml:38071c17-dcc7-47a2-931c-5199b5c10531\" xlink:type=\"simple\"><path d=\"M26.1693,145.3513 C26.1165,145.4477 26.0635,145.5445 26.0105,145.6418 C25.9044,145.8363 25.7978,146.0325 25.6908,146.2304 C24.8349,147.8133 23.9523,149.5023 23.0614,151.284 C21.2797,154.8473 19.465,158.7813 17.765,162.9775 C10.965,179.7625 6,200.745 12.32,219 C20.295,242.035 36.9675,263.635 52.0413,279.7863 C59.5781,287.8619 66.7153,294.5753 72.1658,299.4248 C72.8471,300.031 73.502,300.6081 74.1281,301.1551 \" fill=\"none\" id=\"E1-&gt;E6\" style=\"stroke: #383838; stroke-width: 1.0; stroke-dasharray: 7.0,7.0;\"/><polygon fill=\"#383838\" points=\"74.1281,301.1551,69.982,292.2214,70.3627,297.8655,64.7187,298.2462,74.1281,301.1551\" style=\"stroke: #383838; stroke-width: 1.0;\"/><text fill=\"#000000\" font-family=\"sans-serif\" font-size=\"13\" lengthAdjust=\"spacingAndGlyphs\" textLength=\"65\" x=\"13.32\" y=\"215.0669\">«import»*</text></a><!--MD5=[bfa3c8b0d15052fdf50ae9310b491027]\n",
       "link E8 to E7--><a href=\"psysml:84039e37-6732-4e81-a24d-af568a8fc4d2\" target=\"_top\" title=\"psysml:84039e37-6732-4e81-a24d-af568a8fc4d2\" xlink:actuate=\"onRequest\" xlink:href=\"psysml:84039e37-6732-4e81-a24d-af568a8fc4d2\" xlink:show=\"new\" xlink:title=\"psysml:84039e37-6732-4e81-a24d-af568a8fc4d2\" xlink:type=\"simple\"><path d=\"M232.99,154.29 C246.61,173.37 260.16,200.59 244.32,219 C228.78,237.06 210.49,212.85 191.32,227 C178.2,236.69 169.29,251.96 163.34,266.65 \" fill=\"none\" id=\"E8-&gt;E7\" style=\"stroke: #383838; stroke-width: 1.0;\"/><polygon fill=\"#FFFFFF\" points=\"156.95,285.73,156.3404,265.4907,169.617,269.9329,156.95,285.73\" style=\"stroke: #383838; stroke-width: 1.0;\"/><ellipse cx=\"160.0457\" cy=\"260.7199\" fill=\"#383838\" rx=\"2\" ry=\"2\" style=\"stroke: #383838; stroke-width: 1.0;\"/><ellipse cx=\"169.5289\" cy=\"263.8929\" fill=\"#383838\" rx=\"2\" ry=\"2\" style=\"stroke: #383838; stroke-width: 1.0;\"/></a><!--MD5=[c2be97adba6ddfe1c8f349fab141c927]\n",
       "link E9 to E4--><a href=\"psysml:f4a7c8b4-50d4-4d21-9428-75951a767795\" target=\"_top\" title=\"psysml:f4a7c8b4-50d4-4d21-9428-75951a767795\" xlink:actuate=\"onRequest\" xlink:href=\"psysml:f4a7c8b4-50d4-4d21-9428-75951a767795\" xlink:show=\"new\" xlink:title=\"psysml:f4a7c8b4-50d4-4d21-9428-75951a767795\" xlink:type=\"simple\"><path d=\"M267.5431,178.2415 C267.5354,178.35 267.5276,178.4585 267.5198,178.5671 C267.3951,180.3034 267.2673,182.0417 267.1366,183.7729 C266.8753,187.2352 266.6025,190.6688 266.32,194 C263.93,222.21 260.49,254.26 257.9,277.18 \" fill=\"none\" id=\"E9-&gt;E4\" style=\"stroke: #383838; stroke-width: 1.0; stroke-dasharray: 7.0,7.0;\"/><polygon fill=\"#383838\" points=\"257.33,282.22,262.3075,273.7215,257.8869,277.2511,254.3572,272.8305,257.33,282.22\" style=\"stroke: #383838; stroke-width: 1.0;\"/><text fill=\"#000000\" font-family=\"sans-serif\" font-size=\"13\" lengthAdjust=\"spacingAndGlyphs\" textLength=\"65\" x=\"266.32\" y=\"215.0669\">«import»*</text></a><!--MD5=[feeac5eb423634930294aa81f2d25a4c]\n",
       "link E10 to E3--><a href=\"psysml:ff7299d7-bc25-43a3-abcf-daa45aa95a4b\" target=\"_top\" title=\"psysml:ff7299d7-bc25-43a3-abcf-daa45aa95a4b\" xlink:actuate=\"onRequest\" xlink:href=\"psysml:ff7299d7-bc25-43a3-abcf-daa45aa95a4b\" xlink:show=\"new\" xlink:title=\"psysml:ff7299d7-bc25-43a3-abcf-daa45aa95a4b\" xlink:type=\"simple\"><path d=\"M345.63,154.11 C359.77,173.07 373.99,200.22 358.32,219 C345.58,234.26 327.2,211.86 314.32,227 C300.64,243.07 304.33,374.79 307.28,443.95 \" fill=\"none\" id=\"E10-&gt;E3\" style=\"stroke: #383838; stroke-width: 1.0;\"/><polygon fill=\"#FFFFFF\" points=\"308.18,463.98,300.3317,445.3144,314.3175,444.6841,308.18,463.98\" style=\"stroke: #383838; stroke-width: 1.0;\"/><ellipse cx=\"302.0731\" cy=\"439.5301\" fill=\"#383838\" rx=\"2\" ry=\"2\" style=\"stroke: #383838; stroke-width: 1.0;\"/><ellipse cx=\"312.063\" cy=\"439.0799\" fill=\"#383838\" rx=\"2\" ry=\"2\" style=\"stroke: #383838; stroke-width: 1.0;\"/></a><!--MD5=[dcf4556deb5a511cc35df9df56689ad0]\n",
       "@startuml\r\n",
       "top to bottom direction\r\n",
       "skinparam monochrome true\r\n",
       "skinparam classbackgroundcolor white\r\n",
       "skinparam shadowing false\r\n",
       "skinparam wrapWidth 300\r\n",
       "hide circle\r\n",
       "\r\n",
       "package \"PrivateImportTest\" as E1  [[psysml:8f933ba8-0ed5-4db5-b82c-58b1e568922b ]]  {\r\n",
       "package \"P1\" as E2  [[psysml:dc5a646f-7a70-4bb5-8a84-dd766b7ca58f ]]  {\r\n",
       "comp def \"A\" as E3  <<(T,blue) part  def>> [[psysml:e52e2a8f-f908-40ce-88b1-6459229e6290 ]] {\r\n",
       "}\r\n",
       "}\r\n",
       "package \"P2\" as E4  [[psysml:b07c7c49-60b3-45d9-ab30-3f9ccb4621b1 ]]  {\r\n",
       "}\r\n",
       "comp usage \"x: A \" as E5  <<(T,blue) part>> [[psysml:ae255e73-333e-4dec-b11e-e996fbedcc54 ]] {\r\n",
       "}\r\n",
       "package \"P3\" as E6  [[psysml:61bbaf9b-44aa-4d19-b1af-9f0be63c5dc6 ]]  {\r\n",
       "comp def \"B\" as E7  <<(T,blue) part  def>> [[psysml:f5eaf228-c184-457d-ba82-3236315ba9d3 ]] {\r\n",
       "}\r\n",
       "}\r\n",
       "comp usage \"z: B \" as E8  <<(T,blue) part>> [[psysml:3c42eaa7-d0d8-4753-a2b8-0968c7baa502 ]] {\r\n",
       "}\r\n",
       "package \"P4\" as E9  [[psysml:826bc35a-2948-4f0f-ac57-a46abe90dd77 ]]  {\r\n",
       "comp usage \"z1: A \" as E10  <<(T,blue) part>> [[psysml:bd10993a-8e6e-4149-83fc-2dc02c68e6fc ]] {\r\n",
       "}\r\n",
       "}\r\n",
       "}\r\n",
       "E4 ..> E2 [[psysml:9c76a3dc-4160-42f2-8d03-f28cee99dd8d ]] : <<import>>*\r\n",
       "E5 - -:|> E3 [[psysml:7e781afb-bb69-45b4-99ca-abeca0fc5181 ]] \r\n",
       "E1 ..> E4 [[psysml:3abfa817-381d-4c68-8935-6fa98a0aa2e6 ]] : <<import>>*\r\n",
       "E1 ..> E6 [[psysml:38071c17-dcc7-47a2-931c-5199b5c10531 ]] : <<import>>*\r\n",
       "E8 - -:|> E7 [[psysml:84039e37-6732-4e81-a24d-af568a8fc4d2 ]] \r\n",
       "E9 ..> E4 [[psysml:f4a7c8b4-50d4-4d21-9428-75951a767795 ]] : <<import>>*\r\n",
       "E10 - -:|> E3 [[psysml:ff7299d7-bc25-43a3-abcf-daa45aa95a4b ]] \r\n",
       "@enduml\r\n",
       "\n",
       "PlantUML version 1.2020.13(Sat Jun 13 12:26:38 UTC 2020)\n",
       "(EPL source distribution)\n",
       "Java Runtime: OpenJDK Runtime Environment\n",
       "JVM: OpenJDK 64-Bit Server VM\n",
       "Default Encoding: UTF-8\n",
       "Language: en\n",
       "Country: null\n",
       "--></g></svg>"
      ]
     },
     "execution_count": 45,
     "metadata": {},
     "output_type": "execute_result"
    }
   ],
   "source": [
    "%viz --style=\"TB\" --view=\"Tree\" \"PrivateImportTest\""
   ]
  },
  {
   "cell_type": "code",
   "execution_count": 46,
   "id": "c3607f90",
   "metadata": {
    "execution": {
     "iopub.execute_input": "2022-08-19T08:19:19.259673Z",
     "iopub.status.busy": "2022-08-19T08:19:19.259176Z",
     "iopub.status.idle": "2022-08-19T08:19:19.263430Z",
     "shell.execute_reply": "2022-08-19T08:19:19.263768Z"
    }
   },
   "outputs": [
    {
     "data": {
      "image/svg+xml": [
       "<?xml version=\"1.0\" encoding=\"UTF-8\" standalone=\"no\"?><svg xmlns=\"http://www.w3.org/2000/svg\" xmlns:xlink=\"http://www.w3.org/1999/xlink\" contentScriptType=\"application/ecmascript\" contentStyleType=\"text/css\" height=\"12px\" preserveAspectRatio=\"none\" style=\"width:12px;height:12px;\" version=\"1.1\" viewBox=\"0 0 12 12\" width=\"12px\" zoomAndPan=\"magnify\"><defs/><g><!--MD5=[f4ee21bc66e489b5061b7c3e9601fdef]\n",
       "@startuml\r\n",
       "top to bottom direction\r\n",
       "skinparam monochrome true\r\n",
       "skinparam classbackgroundcolor white\r\n",
       "skinparam shadowing false\r\n",
       "skinparam wrapWidth 300\r\n",
       "hide circle\r\n",
       "\r\n",
       "@enduml\r\n",
       "\n",
       "PlantUML version 1.2020.13(Sat Jun 13 12:26:38 UTC 2020)\n",
       "(EPL source distribution)\n",
       "Java Runtime: OpenJDK Runtime Environment\n",
       "JVM: OpenJDK 64-Bit Server VM\n",
       "Default Encoding: UTF-8\n",
       "Language: en\n",
       "Country: null\n",
       "--></g></svg>"
      ]
     },
     "execution_count": 46,
     "metadata": {},
     "output_type": "execute_result"
    }
   ],
   "source": [
    "%viz --style=\"TB\" --view=\"State\" \"PrivateImportTest\""
   ]
  },
  {
   "cell_type": "code",
   "execution_count": 47,
   "id": "f42e0c7e",
   "metadata": {
    "execution": {
     "iopub.execute_input": "2022-08-19T08:19:19.313985Z",
     "iopub.status.busy": "2022-08-19T08:19:19.313495Z",
     "iopub.status.idle": "2022-08-19T08:19:19.347612Z",
     "shell.execute_reply": "2022-08-19T08:19:19.347198Z"
    }
   },
   "outputs": [
    {
     "data": {
      "image/svg+xml": [
       "<?xml version=\"1.0\" encoding=\"UTF-8\" standalone=\"no\"?><svg xmlns=\"http://www.w3.org/2000/svg\" xmlns:xlink=\"http://www.w3.org/1999/xlink\" contentScriptType=\"application/ecmascript\" contentStyleType=\"text/css\" height=\"574px\" preserveAspectRatio=\"none\" style=\"width:446px;height:574px;\" version=\"1.1\" viewBox=\"0 0 446 574\" width=\"446px\" zoomAndPan=\"magnify\"><defs/><g><!--MD5=[fbc87193dbaf4d95561dea2c320d4a47]\n",
       "cluster E1--><a href=\"psysml:8f933ba8-0ed5-4db5-b82c-58b1e568922b\" target=\"_top\" title=\"psysml:8f933ba8-0ed5-4db5-b82c-58b1e568922b\" xlink:actuate=\"onRequest\" xlink:href=\"psysml:8f933ba8-0ed5-4db5-b82c-58b1e568922b\" xlink:show=\"new\" xlink:title=\"psysml:8f933ba8-0ed5-4db5-b82c-58b1e568922b\" xlink:type=\"simple\"><polygon fill=\"#FFFFFF\" points=\"26.19,6,153.19,6,160.19,28.2969,424.19,28.2969,424.19,562,26.19,562,26.19,6\" style=\"stroke: #000000; stroke-width: 1.5;\"/><line style=\"stroke: #000000; stroke-width: 1.5;\" x1=\"26.19\" x2=\"160.19\" y1=\"28.2969\" y2=\"28.2969\"/><text fill=\"#000000\" font-family=\"sans-serif\" font-size=\"14\" font-weight=\"bold\" lengthAdjust=\"spacingAndGlyphs\" textLength=\"121\" x=\"30.19\" y=\"20.9951\">PrivateImportTest</text></a><!--MD5=[e4f7fae6ed58524ba242bb0b0d3be6b7]\n",
       "cluster E2--><a href=\"psysml:dc5a646f-7a70-4bb5-8a84-dd766b7ca58f\" target=\"_top\" title=\"psysml:dc5a646f-7a70-4bb5-8a84-dd766b7ca58f\" xlink:actuate=\"onRequest\" xlink:href=\"psysml:dc5a646f-7a70-4bb5-8a84-dd766b7ca58f\" xlink:show=\"new\" xlink:title=\"psysml:dc5a646f-7a70-4bb5-8a84-dd766b7ca58f\" xlink:type=\"simple\"><polygon fill=\"#FFFFFF\" points=\"233.19,412,257.19,412,264.19,434.2969,375.19,434.2969,375.19,522,233.19,522,233.19,412\" style=\"stroke: #000000; stroke-width: 1.5;\"/><line style=\"stroke: #000000; stroke-width: 1.5;\" x1=\"233.19\" x2=\"264.19\" y1=\"434.2969\" y2=\"434.2969\"/><text fill=\"#000000\" font-family=\"sans-serif\" font-size=\"14\" font-weight=\"bold\" lengthAdjust=\"spacingAndGlyphs\" textLength=\"18\" x=\"237.19\" y=\"426.9951\">P1</text></a><!--MD5=[14e3b0961a2654348d326746436168a1]\n",
       "cluster E6--><a href=\"psysml:61bbaf9b-44aa-4d19-b1af-9f0be63c5dc6\" target=\"_top\" title=\"psysml:61bbaf9b-44aa-4d19-b1af-9f0be63c5dc6\" xlink:actuate=\"onRequest\" xlink:href=\"psysml:61bbaf9b-44aa-4d19-b1af-9f0be63c5dc6\" xlink:show=\"new\" xlink:title=\"psysml:61bbaf9b-44aa-4d19-b1af-9f0be63c5dc6\" xlink:type=\"simple\"><polygon fill=\"#FFFFFF\" points=\"74.19,237,98.19,237,105.19,259.2969,216.19,259.2969,216.19,347,74.19,347,74.19,237\" style=\"stroke: #000000; stroke-width: 1.5;\"/><line style=\"stroke: #000000; stroke-width: 1.5;\" x1=\"74.19\" x2=\"105.19\" y1=\"259.2969\" y2=\"259.2969\"/><text fill=\"#000000\" font-family=\"sans-serif\" font-size=\"14\" font-weight=\"bold\" lengthAdjust=\"spacingAndGlyphs\" textLength=\"18\" x=\"78.19\" y=\"251.9951\">P3</text></a><!--MD5=[7f149f147074ac12df2cb0a7728a5fb0]\n",
       "cluster E9--><a href=\"psysml:826bc35a-2948-4f0f-ac57-a46abe90dd77\" target=\"_top\" title=\"psysml:826bc35a-2948-4f0f-ac57-a46abe90dd77\" xlink:actuate=\"onRequest\" xlink:href=\"psysml:826bc35a-2948-4f0f-ac57-a46abe90dd77\" xlink:show=\"new\" xlink:title=\"psysml:826bc35a-2948-4f0f-ac57-a46abe90dd77\" xlink:type=\"simple\"><polygon fill=\"#FFFFFF\" points=\"267.19,65,291.19,65,298.19,87.2969,384.19,87.2969,384.19,172,267.19,172,267.19,65\" style=\"stroke: #000000; stroke-width: 1.5;\"/><line style=\"stroke: #000000; stroke-width: 1.5;\" x1=\"267.19\" x2=\"298.19\" y1=\"87.2969\" y2=\"87.2969\"/><text fill=\"#000000\" font-family=\"sans-serif\" font-size=\"14\" font-weight=\"bold\" lengthAdjust=\"spacingAndGlyphs\" textLength=\"18\" x=\"271.19\" y=\"79.9951\">P4</text></a><g id=\"E1.E2.E3\"><a href=\"psysml:e52e2a8f-f908-40ce-88b1-6459229e6290\" target=\"_top\" title=\"psysml:e52e2a8f-f908-40ce-88b1-6459229e6290\" xlink:actuate=\"onRequest\" xlink:href=\"psysml:e52e2a8f-f908-40ce-88b1-6459229e6290\" xlink:show=\"new\" xlink:title=\"psysml:e52e2a8f-f908-40ce-88b1-6459229e6290\" xlink:type=\"simple\"><rect fill=\"#FFFFFF\" height=\"42.9375\" id=\"E3\" style=\"stroke: #383838; stroke-width: 1.5;\" width=\"75\" x=\"276.69\" y=\"455\"/><rect fill=\"#F8F8F8\" height=\"37.9375\" style=\"stroke: #383838; stroke-width: 1.5;\" width=\"75\" x=\"276.69\" y=\"455\"/><text fill=\"#000000\" font-family=\"sans-serif\" font-size=\"12\" font-style=\"italic\" lengthAdjust=\"spacingAndGlyphs\" textLength=\"68\" x=\"280.19\" y=\"471.1387\">«part  def»</text><text fill=\"#000000\" font-family=\"sans-serif\" font-size=\"12\" lengthAdjust=\"spacingAndGlyphs\" textLength=\"8\" x=\"310.19\" y=\"485.1074\">A</text></a></g><a href=\"psysml:b07c7c49-60b3-45d9-ab30-3f9ccb4621b1\" target=\"_top\" title=\"psysml:b07c7c49-60b3-45d9-ab30-3f9ccb4621b1\" xlink:actuate=\"onRequest\" xlink:href=\"psysml:b07c7c49-60b3-45d9-ab30-3f9ccb4621b1\" xlink:show=\"new\" xlink:title=\"psysml:b07c7c49-60b3-45d9-ab30-3f9ccb4621b1\" xlink:type=\"simple\"><polygon fill=\"#FFFFFF\" points=\"240.19,275,264.19,275,271.19,297.2969,278.19,297.2969,278.19,327.5938,240.19,327.5938,240.19,275\" style=\"stroke: #000000; stroke-width: 1.5;\"/><line style=\"stroke: #000000; stroke-width: 1.5;\" x1=\"240.19\" x2=\"271.19\" y1=\"297.2969\" y2=\"297.2969\"/><text fill=\"#000000\" font-family=\"sans-serif\" font-size=\"14\" font-weight=\"bold\" lengthAdjust=\"spacingAndGlyphs\" textLength=\"18\" x=\"244.19\" y=\"289.9951\">P2</text></a><g id=\"E1.E5\"><a href=\"psysml:ae255e73-333e-4dec-b11e-e996fbedcc54\" target=\"_top\" title=\"psysml:ae255e73-333e-4dec-b11e-e996fbedcc54\" xlink:actuate=\"onRequest\" xlink:href=\"psysml:ae255e73-333e-4dec-b11e-e996fbedcc54\" xlink:show=\"new\" xlink:title=\"psysml:ae255e73-333e-4dec-b11e-e996fbedcc54\" xlink:type=\"simple\"><rect fill=\"#FFFFFF\" height=\"40\" id=\"E5\" rx=\"10\" ry=\"10\" style=\"stroke: #383838; stroke-width: 1.5;\" width=\"50\" x=\"350.19\" y=\"281.5\"/><rect fill=\"#F8F8F8\" height=\"23.9688\" rx=\"10\" ry=\"10\" style=\"stroke: #F8F8F8; stroke-width: 1.5;\" width=\"50\" x=\"350.19\" y=\"281.5\"/><rect fill=\"#F8F8F8\" height=\"10\" style=\"stroke: #F8F8F8; stroke-width: 1.5;\" width=\"50\" x=\"350.19\" y=\"295.4688\"/><rect fill=\"none\" height=\"40\" id=\"E5\" rx=\"10\" ry=\"10\" style=\"stroke: #383838; stroke-width: 1.5;\" width=\"50\" x=\"350.19\" y=\"281.5\"/><text fill=\"#000000\" font-family=\"sans-serif\" font-size=\"12\" lengthAdjust=\"spacingAndGlyphs\" textLength=\"22\" x=\"364.19\" y=\"297.6387\">x: A</text></a></g><g id=\"E1.E6.E7\"><a href=\"psysml:f5eaf228-c184-457d-ba82-3236315ba9d3\" target=\"_top\" title=\"psysml:f5eaf228-c184-457d-ba82-3236315ba9d3\" xlink:actuate=\"onRequest\" xlink:href=\"psysml:f5eaf228-c184-457d-ba82-3236315ba9d3\" xlink:show=\"new\" xlink:title=\"psysml:f5eaf228-c184-457d-ba82-3236315ba9d3\" xlink:type=\"simple\"><rect fill=\"#FFFFFF\" height=\"42.9375\" id=\"E7\" style=\"stroke: #383838; stroke-width: 1.5;\" width=\"75\" x=\"117.69\" y=\"280\"/><rect fill=\"#F8F8F8\" height=\"37.9375\" style=\"stroke: #383838; stroke-width: 1.5;\" width=\"75\" x=\"117.69\" y=\"280\"/><text fill=\"#000000\" font-family=\"sans-serif\" font-size=\"12\" font-style=\"italic\" lengthAdjust=\"spacingAndGlyphs\" textLength=\"68\" x=\"121.19\" y=\"296.1387\">«part  def»</text><text fill=\"#000000\" font-family=\"sans-serif\" font-size=\"12\" lengthAdjust=\"spacingAndGlyphs\" textLength=\"8\" x=\"151.19\" y=\"310.1074\">B</text></a></g><g id=\"E1.E8\"><a href=\"psysml:3c42eaa7-d0d8-4753-a2b8-0968c7baa502\" target=\"_top\" title=\"psysml:3c42eaa7-d0d8-4753-a2b8-0968c7baa502\" xlink:actuate=\"onRequest\" xlink:href=\"psysml:3c42eaa7-d0d8-4753-a2b8-0968c7baa502\" xlink:show=\"new\" xlink:title=\"psysml:3c42eaa7-d0d8-4753-a2b8-0968c7baa502\" xlink:type=\"simple\"><rect fill=\"#FFFFFF\" height=\"40\" id=\"E8\" rx=\"10\" ry=\"10\" style=\"stroke: #383838; stroke-width: 1.5;\" width=\"50\" x=\"190.19\" y=\"108\"/><rect fill=\"#F8F8F8\" height=\"23.9688\" rx=\"10\" ry=\"10\" style=\"stroke: #F8F8F8; stroke-width: 1.5;\" width=\"50\" x=\"190.19\" y=\"108\"/><rect fill=\"#F8F8F8\" height=\"10\" style=\"stroke: #F8F8F8; stroke-width: 1.5;\" width=\"50\" x=\"190.19\" y=\"121.9688\"/><rect fill=\"none\" height=\"40\" id=\"E8\" rx=\"10\" ry=\"10\" style=\"stroke: #383838; stroke-width: 1.5;\" width=\"50\" x=\"190.19\" y=\"108\"/><text fill=\"#000000\" font-family=\"sans-serif\" font-size=\"12\" lengthAdjust=\"spacingAndGlyphs\" textLength=\"21\" x=\"204.69\" y=\"124.1387\">z: B</text></a></g><g id=\"E1.E9.E10\"><a href=\"psysml:bd10993a-8e6e-4149-83fc-2dc02c68e6fc\" target=\"_top\" title=\"psysml:bd10993a-8e6e-4149-83fc-2dc02c68e6fc\" xlink:actuate=\"onRequest\" xlink:href=\"psysml:bd10993a-8e6e-4149-83fc-2dc02c68e6fc\" xlink:show=\"new\" xlink:title=\"psysml:bd10993a-8e6e-4149-83fc-2dc02c68e6fc\" xlink:type=\"simple\"><rect fill=\"#FFFFFF\" height=\"40\" id=\"E10\" rx=\"10\" ry=\"10\" style=\"stroke: #383838; stroke-width: 1.5;\" width=\"50\" x=\"310.19\" y=\"108\"/><rect fill=\"#F8F8F8\" height=\"23.9688\" rx=\"10\" ry=\"10\" style=\"stroke: #F8F8F8; stroke-width: 1.5;\" width=\"50\" x=\"310.19\" y=\"108\"/><rect fill=\"#F8F8F8\" height=\"10\" style=\"stroke: #F8F8F8; stroke-width: 1.5;\" width=\"50\" x=\"310.19\" y=\"121.9688\"/><rect fill=\"none\" height=\"40\" id=\"E10\" rx=\"10\" ry=\"10\" style=\"stroke: #383838; stroke-width: 1.5;\" width=\"50\" x=\"310.19\" y=\"108\"/><text fill=\"#000000\" font-family=\"sans-serif\" font-size=\"12\" lengthAdjust=\"spacingAndGlyphs\" textLength=\"29\" x=\"320.69\" y=\"124.1387\">z1: A</text></a></g><!--MD5=[185131fc0dcab0a4505a2ebe144e961b]\n",
       "link E4 to E2--><a href=\"psysml:9c76a3dc-4160-42f2-8d03-f28cee99dd8d\" target=\"_top\" title=\"psysml:9c76a3dc-4160-42f2-8d03-f28cee99dd8d\" xlink:actuate=\"onRequest\" xlink:href=\"psysml:9c76a3dc-4160-42f2-8d03-f28cee99dd8d\" xlink:show=\"new\" xlink:title=\"psysml:9c76a3dc-4160-42f2-8d03-f28cee99dd8d\" xlink:type=\"simple\"><path d=\"M249.36,328.1 C245,340.8 240.37,356.48 238.19,371 C236.5225,382.1275 235.8388,393.9944 235.76,405.5898 C235.7502,407.0393 235.7498,408.4845 235.7581,409.9234 C235.7602,410.2832 235.7628,410.6425 235.766,411.0015 C235.7675,411.181 235.7692,411.3603 235.7711,411.5396 \" fill=\"none\" id=\"E4-&gt;E2\" style=\"stroke: #383838; stroke-width: 1.0; stroke-dasharray: 7.0,7.0;\"/><polygon fill=\"#383838\" points=\"235.7711,411.5396,239.6783,402.4989,235.7196,406.5398,231.6787,402.5812,235.7711,411.5396\" style=\"stroke: #383838; stroke-width: 1.0;\"/><text fill=\"#000000\" font-family=\"sans-serif\" font-size=\"13\" lengthAdjust=\"spacingAndGlyphs\" textLength=\"65\" x=\"239.19\" y=\"384.0669\">«import»*</text></a><!--MD5=[e9be52314489bd878ff4c7144b63c9e1]\n",
       "link E5 to E3--><a href=\"psysml:7e781afb-bb69-45b4-99ca-abeca0fc5181\" target=\"_top\" title=\"psysml:7e781afb-bb69-45b4-99ca-abeca0fc5181\" xlink:actuate=\"onRequest\" xlink:href=\"psysml:7e781afb-bb69-45b4-99ca-abeca0fc5181\" xlink:show=\"new\" xlink:title=\"psysml:7e781afb-bb69-45b4-99ca-abeca0fc5181\" xlink:type=\"simple\"><path d=\"M368.43,321.68 C358.76,349.11 340.75,400.18 328.15,435.92 \" fill=\"none\" id=\"E5-&gt;E3\" style=\"stroke: #383838; stroke-width: 1.0;\"/><polygon fill=\"#FFFFFF\" points=\"321.45,454.9,321.1694,434.6535,334.372,439.3109,321.45,454.9\" style=\"stroke: #383838; stroke-width: 1.0;\"/><ellipse cx=\"324.9518\" cy=\"429.9435\" fill=\"#383838\" rx=\"2\" ry=\"2\" style=\"stroke: #383838; stroke-width: 1.0;\"/><ellipse cx=\"334.3822\" cy=\"433.2702\" fill=\"#383838\" rx=\"2\" ry=\"2\" style=\"stroke: #383838; stroke-width: 1.0;\"/></a><!--MD5=[ee384bb554873b72f85793eae40e290c]\n",
       "link E1 to E4--><a href=\"psysml:3abfa817-381d-4c68-8935-6fa98a0aa2e6\" target=\"_top\" title=\"psysml:3abfa817-381d-4c68-8935-6fa98a0aa2e6\" xlink:actuate=\"onRequest\" xlink:href=\"psysml:3abfa817-381d-4c68-8935-6fa98a0aa2e6\" xlink:show=\"new\" xlink:title=\"psysml:3abfa817-381d-4c68-8935-6fa98a0aa2e6\" xlink:type=\"simple\"><path d=\"M34.16,129.12 C33.57,131.47 24.44,169.5 42.19,188 C49.22,195.33 77.22,194.08 87.19,196 C114.15,201.18 185.56,205.45 208.19,221 C225.61,232.97 238.41,253.04 246.84,270.01 \" fill=\"none\" id=\"E1-&gt;E4\" style=\"stroke: #383838; stroke-width: 1.0; stroke-dasharray: 7.0,7.0;\"/><polygon fill=\"#383838\" points=\"249.1,274.71,248.8034,264.8656,246.9326,270.2042,241.5941,268.3334,249.1,274.71\" style=\"stroke: #383838; stroke-width: 1.0;\"/><text fill=\"#000000\" font-family=\"sans-serif\" font-size=\"13\" lengthAdjust=\"spacingAndGlyphs\" textLength=\"65\" x=\"190.19\" y=\"209.0669\">«import»*</text></a><!--MD5=[ccbd3af71bf83df0ec2a2db62d6d7130]\n",
       "link E1 to E6--><a href=\"psysml:38071c17-dcc7-47a2-931c-5199b5c10531\" target=\"_top\" title=\"psysml:38071c17-dcc7-47a2-931c-5199b5c10531\" xlink:actuate=\"onRequest\" xlink:href=\"psysml:38071c17-dcc7-47a2-931c-5199b5c10531\" xlink:show=\"new\" xlink:title=\"psysml:38071c17-dcc7-47a2-931c-5199b5c10531\" xlink:type=\"simple\"><path d=\"M26.0931,141.8852 C26.0406,141.9783 25.988,142.0717 25.9352,142.1656 C25.8298,142.3533 25.7239,142.5426 25.6176,142.7336 C24.7671,144.2611 23.8899,145.8912 23.0044,147.6107 C21.2332,151.0498 19.4284,154.8469 17.7363,158.8975 C10.9675,175.1 6,195.36 12.19,213 C20.175,235.765 36.8475,257.005 51.9187,272.8563 C59.4544,280.7819 66.5897,287.3603 72.0386,292.1086 C72.7197,292.7021 73.3745,293.2671 74.0004,293.8025 \" fill=\"none\" id=\"E1-&gt;E6\" style=\"stroke: #383838; stroke-width: 1.0; stroke-dasharray: 7.0,7.0;\"/><polygon fill=\"#383838\" points=\"74.0004,293.8025,69.7613,284.9126,70.2008,290.5523,64.5611,290.9918,74.0004,293.8025\" style=\"stroke: #383838; stroke-width: 1.0;\"/><text fill=\"#000000\" font-family=\"sans-serif\" font-size=\"13\" lengthAdjust=\"spacingAndGlyphs\" textLength=\"65\" x=\"13.19\" y=\"209.0669\">«import»*</text></a><!--MD5=[bfa3c8b0d15052fdf50ae9310b491027]\n",
       "link E8 to E7--><a href=\"psysml:84039e37-6732-4e81-a24d-af568a8fc4d2\" target=\"_top\" title=\"psysml:84039e37-6732-4e81-a24d-af568a8fc4d2\" xlink:actuate=\"onRequest\" xlink:href=\"psysml:84039e37-6732-4e81-a24d-af568a8fc4d2\" xlink:show=\"new\" xlink:title=\"psysml:84039e37-6732-4e81-a24d-af568a8fc4d2\" xlink:type=\"simple\"><path d=\"M231.6,148.32 C245.18,166.74 259.91,194.37 244.19,213 C230.52,229.19 214.35,208.57 197.19,221 C183.72,230.76 174.18,246.16 167.64,260.83 \" fill=\"none\" id=\"E8-&gt;E7\" style=\"stroke: #383838; stroke-width: 1.0;\"/><polygon fill=\"#FFFFFF\" points=\"160.49,279.77,160.6578,259.5222,173.7541,264.4708,160.49,279.77\" style=\"stroke: #383838; stroke-width: 1.0;\"/><ellipse cx=\"164.5435\" cy=\"254.8971\" fill=\"#383838\" rx=\"2\" ry=\"2\" style=\"stroke: #383838; stroke-width: 1.0;\"/><ellipse cx=\"173.8979\" cy=\"258.4318\" fill=\"#383838\" rx=\"2\" ry=\"2\" style=\"stroke: #383838; stroke-width: 1.0;\"/></a><!--MD5=[c2be97adba6ddfe1c8f349fab141c927]\n",
       "link E9 to E4--><a href=\"psysml:f4a7c8b4-50d4-4d21-9428-75951a767795\" target=\"_top\" title=\"psysml:f4a7c8b4-50d4-4d21-9428-75951a767795\" xlink:actuate=\"onRequest\" xlink:href=\"psysml:f4a7c8b4-50d4-4d21-9428-75951a767795\" xlink:show=\"new\" xlink:title=\"psysml:f4a7c8b4-50d4-4d21-9428-75951a767795\" xlink:type=\"simple\"><path d=\"M272.4624,172.0747 C272.4319,172.4874 272.4012,172.9004 272.3704,173.3135 C272.247,174.9658 272.1207,176.6201 271.9919,178.2676 C271.7342,181.5625 271.4663,184.83 271.19,188 C268.78,215.65 265.37,247.06 262.81,269.64 \" fill=\"none\" id=\"E9-&gt;E4\" style=\"stroke: #383838; stroke-width: 1.0; stroke-dasharray: 7.0,7.0;\"/><polygon fill=\"#383838\" points=\"262.24,274.61,267.2443,266.1273,262.8126,269.6429,259.297,265.2111,262.24,274.61\" style=\"stroke: #383838; stroke-width: 1.0;\"/><text fill=\"#000000\" font-family=\"sans-serif\" font-size=\"13\" lengthAdjust=\"spacingAndGlyphs\" textLength=\"65\" x=\"271.19\" y=\"209.0669\">«import»*</text></a><!--MD5=[feeac5eb423634930294aa81f2d25a4c]\n",
       "link E10 to E3--><a href=\"psysml:ff7299d7-bc25-43a3-abcf-daa45aa95a4b\" target=\"_top\" title=\"psysml:ff7299d7-bc25-43a3-abcf-daa45aa95a4b\" xlink:actuate=\"onRequest\" xlink:href=\"psysml:ff7299d7-bc25-43a3-abcf-daa45aa95a4b\" xlink:show=\"new\" xlink:title=\"psysml:ff7299d7-bc25-43a3-abcf-daa45aa95a4b\" xlink:type=\"simple\"><path d=\"M349.14,148.02 C360.83,166.48 373.39,194.37 358.19,213 C347.01,226.71 330.51,207.4 319.19,221 C305.92,236.95 309.43,366.42 312.24,434.3 \" fill=\"none\" id=\"E10-&gt;E3\" style=\"stroke: #383838; stroke-width: 1.0;\"/><polygon fill=\"#FFFFFF\" points=\"313.14,454.71,305.3057,436.0385,319.2919,435.4187,313.14,454.71\" style=\"stroke: #383838; stroke-width: 1.0;\"/><ellipse cx=\"307.0513\" cy=\"430.2556\" fill=\"#383838\" rx=\"2\" ry=\"2\" style=\"stroke: #383838; stroke-width: 1.0;\"/><ellipse cx=\"317.0415\" cy=\"429.8129\" fill=\"#383838\" rx=\"2\" ry=\"2\" style=\"stroke: #383838; stroke-width: 1.0;\"/></a><!--MD5=[7be1264d4b57738d6184a97b6699f848]\n",
       "@startuml\r\n",
       "skinparam ranksep 10\r\n",
       "skinparam rectangle {\r\n",
       " backgroundColor<<block>> LightGreen\r\n",
       "}\r\n",
       "top to bottom direction\r\n",
       "skinparam monochrome true\r\n",
       "skinparam classbackgroundcolor white\r\n",
       "skinparam shadowing false\r\n",
       "skinparam wrapWidth 300\r\n",
       "hide circle\r\n",
       "\r\n",
       "package \"PrivateImportTest\" as E1  [[psysml:8f933ba8-0ed5-4db5-b82c-58b1e568922b ]]  {\r\n",
       "package \"P1\" as E2  [[psysml:dc5a646f-7a70-4bb5-8a84-dd766b7ca58f ]]  {\r\n",
       "rec def \"A\" as E3  <<(T,blue) part  def>> [[psysml:e52e2a8f-f908-40ce-88b1-6459229e6290 ]] {\r\n",
       "}\r\n",
       "}\r\n",
       "package \"P2\" as E4  [[psysml:b07c7c49-60b3-45d9-ab30-3f9ccb4621b1 ]]  {\r\n",
       "}\r\n",
       "rec usage \"x: A\" as E5  [[psysml:ae255e73-333e-4dec-b11e-e996fbedcc54 ]] {\r\n",
       "}\r\n",
       "package \"P3\" as E6  [[psysml:61bbaf9b-44aa-4d19-b1af-9f0be63c5dc6 ]]  {\r\n",
       "rec def \"B\" as E7  <<(T,blue) part  def>> [[psysml:f5eaf228-c184-457d-ba82-3236315ba9d3 ]] {\r\n",
       "}\r\n",
       "}\r\n",
       "rec usage \"z: B\" as E8  [[psysml:3c42eaa7-d0d8-4753-a2b8-0968c7baa502 ]] {\r\n",
       "}\r\n",
       "package \"P4\" as E9  [[psysml:826bc35a-2948-4f0f-ac57-a46abe90dd77 ]]  {\r\n",
       "rec usage \"z1: A\" as E10  [[psysml:bd10993a-8e6e-4149-83fc-2dc02c68e6fc ]] {\r\n",
       "}\r\n",
       "}\r\n",
       "}\r\n",
       "E4 ..> E2 [[psysml:9c76a3dc-4160-42f2-8d03-f28cee99dd8d ]] : <<import>>*\r\n",
       "E5 - -:|> E3 [[psysml:7e781afb-bb69-45b4-99ca-abeca0fc5181 ]] \r\n",
       "E1 ..> E4 [[psysml:3abfa817-381d-4c68-8935-6fa98a0aa2e6 ]] : <<import>>*\r\n",
       "E1 ..> E6 [[psysml:38071c17-dcc7-47a2-931c-5199b5c10531 ]] : <<import>>*\r\n",
       "E8 - -:|> E7 [[psysml:84039e37-6732-4e81-a24d-af568a8fc4d2 ]] \r\n",
       "E9 ..> E4 [[psysml:f4a7c8b4-50d4-4d21-9428-75951a767795 ]] : <<import>>*\r\n",
       "E10 - -:|> E3 [[psysml:ff7299d7-bc25-43a3-abcf-daa45aa95a4b ]] \r\n",
       "@enduml\r\n",
       "\n",
       "PlantUML version 1.2020.13(Sat Jun 13 12:26:38 UTC 2020)\n",
       "(EPL source distribution)\n",
       "Java Runtime: OpenJDK Runtime Environment\n",
       "JVM: OpenJDK 64-Bit Server VM\n",
       "Default Encoding: UTF-8\n",
       "Language: en\n",
       "Country: null\n",
       "--></g></svg>"
      ]
     },
     "execution_count": 47,
     "metadata": {},
     "output_type": "execute_result"
    }
   ],
   "source": [
    "%viz --style=\"TB\" --view=\"Interconnection\" \"PrivateImportTest\""
   ]
  },
  {
   "cell_type": "code",
   "execution_count": 48,
   "id": "9d71c457",
   "metadata": {
    "execution": {
     "iopub.execute_input": "2022-08-19T08:19:19.397456Z",
     "iopub.status.busy": "2022-08-19T08:19:19.396965Z",
     "iopub.status.idle": "2022-08-19T08:19:19.402015Z",
     "shell.execute_reply": "2022-08-19T08:19:19.401629Z"
    }
   },
   "outputs": [
    {
     "data": {
      "image/svg+xml": [
       "<?xml version=\"1.0\" encoding=\"UTF-8\" standalone=\"no\"?><svg xmlns=\"http://www.w3.org/2000/svg\" xmlns:xlink=\"http://www.w3.org/1999/xlink\" contentScriptType=\"application/ecmascript\" contentStyleType=\"text/css\" height=\"12px\" preserveAspectRatio=\"none\" style=\"width:12px;height:12px;\" version=\"1.1\" viewBox=\"0 0 12 12\" width=\"12px\" zoomAndPan=\"magnify\"><defs/><g><!--MD5=[06afc254b03ac5e9d9fb7773b07d0800]\n",
       "@startuml\r\n",
       "skinparam ranksep 8\r\n",
       "top to bottom direction\r\n",
       "skinparam monochrome true\r\n",
       "skinparam classbackgroundcolor white\r\n",
       "skinparam shadowing false\r\n",
       "skinparam wrapWidth 300\r\n",
       "hide circle\r\n",
       "\r\n",
       "@enduml\r\n",
       "\n",
       "PlantUML version 1.2020.13(Sat Jun 13 12:26:38 UTC 2020)\n",
       "(EPL source distribution)\n",
       "Java Runtime: OpenJDK Runtime Environment\n",
       "JVM: OpenJDK 64-Bit Server VM\n",
       "Default Encoding: UTF-8\n",
       "Language: en\n",
       "Country: null\n",
       "--></g></svg>"
      ]
     },
     "execution_count": 48,
     "metadata": {},
     "output_type": "execute_result"
    }
   ],
   "source": [
    "%viz --style=\"TB\" --view=\"Action\" \"PrivateImportTest\""
   ]
  },
  {
   "cell_type": "code",
   "execution_count": 49,
   "id": "8ff9f988",
   "metadata": {
    "execution": {
     "iopub.execute_input": "2022-08-19T08:19:19.452278Z",
     "iopub.status.busy": "2022-08-19T08:19:19.451790Z",
     "iopub.status.idle": "2022-08-19T08:19:19.456545Z",
     "shell.execute_reply": "2022-08-19T08:19:19.456125Z"
    }
   },
   "outputs": [
    {
     "data": {
      "image/svg+xml": [
       "<?xml version=\"1.0\" encoding=\"UTF-8\" standalone=\"no\"?><svg xmlns=\"http://www.w3.org/2000/svg\" xmlns:xlink=\"http://www.w3.org/1999/xlink\" contentScriptType=\"application/ecmascript\" contentStyleType=\"text/css\" height=\"12px\" preserveAspectRatio=\"none\" style=\"width:12px;height:12px;\" version=\"1.1\" viewBox=\"0 0 12 12\" width=\"12px\" zoomAndPan=\"magnify\"><defs/><g><!--MD5=[e1ab0c84c44d2fef8bf5f140f2689906]\n",
       "@startuml\r\n",
       "skinparam roundcorner 20\r\n",
       "skinparam BoxPadding 20\r\n",
       "skinparam SequenceBoxBackgroundColor #white\r\n",
       "skinparam style strictuml\r\n",
       "skinparam maxMessageSize 100\r\n",
       "top to bottom direction\r\n",
       "skinparam monochrome true\r\n",
       "skinparam classbackgroundcolor white\r\n",
       "skinparam shadowing false\r\n",
       "skinparam wrapWidth 300\r\n",
       "hide circle\r\n",
       "\r\n",
       "@enduml\r\n",
       "\n",
       "PlantUML version 1.2020.13(Sat Jun 13 12:26:38 UTC 2020)\n",
       "(EPL source distribution)\n",
       "Java Runtime: OpenJDK Runtime Environment\n",
       "JVM: OpenJDK 64-Bit Server VM\n",
       "Default Encoding: UTF-8\n",
       "Language: en\n",
       "Country: null\n",
       "--></g></svg>"
      ]
     },
     "execution_count": 49,
     "metadata": {},
     "output_type": "execute_result"
    }
   ],
   "source": [
    "%viz --style=\"TB\" --view=\"Sequence\" \"PrivateImportTest\""
   ]
  },
  {
   "cell_type": "code",
   "execution_count": 50,
   "id": "88d3850c",
   "metadata": {
    "execution": {
     "iopub.execute_input": "2022-08-19T08:19:19.506770Z",
     "iopub.status.busy": "2022-08-19T08:19:19.506276Z",
     "iopub.status.idle": "2022-08-19T08:19:19.543295Z",
     "shell.execute_reply": "2022-08-19T08:19:19.541730Z"
    }
   },
   "outputs": [
    {
     "data": {
      "image/svg+xml": [
       "<?xml version=\"1.0\" encoding=\"UTF-8\" standalone=\"no\"?><svg xmlns=\"http://www.w3.org/2000/svg\" xmlns:xlink=\"http://www.w3.org/1999/xlink\" contentScriptType=\"application/ecmascript\" contentStyleType=\"text/css\" height=\"586px\" preserveAspectRatio=\"none\" style=\"width:433px;height:586px;\" version=\"1.1\" viewBox=\"0 0 433 586\" width=\"433px\" zoomAndPan=\"magnify\"><defs/><g><!--MD5=[fbc87193dbaf4d95561dea2c320d4a47]\n",
       "cluster E1--><a href=\"psysml:8f933ba8-0ed5-4db5-b82c-58b1e568922b\" target=\"_top\" title=\"psysml:8f933ba8-0ed5-4db5-b82c-58b1e568922b\" xlink:actuate=\"onRequest\" xlink:href=\"psysml:8f933ba8-0ed5-4db5-b82c-58b1e568922b\" xlink:show=\"new\" xlink:title=\"psysml:8f933ba8-0ed5-4db5-b82c-58b1e568922b\" xlink:type=\"simple\"><polygon fill=\"#FFFFFF\" points=\"26.32,6,153.32,6,160.32,28.2969,411.32,28.2969,411.32,574,26.32,574,26.32,6\" style=\"stroke: #000000; stroke-width: 1.5;\"/><line style=\"stroke: #000000; stroke-width: 1.5;\" x1=\"26.32\" x2=\"160.32\" y1=\"28.2969\" y2=\"28.2969\"/><text fill=\"#000000\" font-family=\"sans-serif\" font-size=\"14\" font-weight=\"bold\" lengthAdjust=\"spacingAndGlyphs\" textLength=\"121\" x=\"30.32\" y=\"20.9951\">PrivateImportTest</text></a><!--MD5=[e4f7fae6ed58524ba242bb0b0d3be6b7]\n",
       "cluster E2--><a href=\"psysml:dc5a646f-7a70-4bb5-8a84-dd766b7ca58f\" target=\"_top\" title=\"psysml:dc5a646f-7a70-4bb5-8a84-dd766b7ca58f\" xlink:actuate=\"onRequest\" xlink:href=\"psysml:dc5a646f-7a70-4bb5-8a84-dd766b7ca58f\" xlink:show=\"new\" xlink:title=\"psysml:dc5a646f-7a70-4bb5-8a84-dd766b7ca58f\" xlink:type=\"simple\"><polygon fill=\"#FFFFFF\" points=\"231.32,421,255.32,421,262.32,443.2969,368.32,443.2969,368.32,534,231.32,534,231.32,421\" style=\"stroke: #000000; stroke-width: 1.5;\"/><line style=\"stroke: #000000; stroke-width: 1.5;\" x1=\"231.32\" x2=\"262.32\" y1=\"443.2969\" y2=\"443.2969\"/><text fill=\"#000000\" font-family=\"sans-serif\" font-size=\"14\" font-weight=\"bold\" lengthAdjust=\"spacingAndGlyphs\" textLength=\"18\" x=\"235.32\" y=\"435.9951\">P1</text></a><!--MD5=[14e3b0961a2654348d326746436168a1]\n",
       "cluster E6--><a href=\"psysml:61bbaf9b-44aa-4d19-b1af-9f0be63c5dc6\" target=\"_top\" title=\"psysml:61bbaf9b-44aa-4d19-b1af-9f0be63c5dc6\" xlink:actuate=\"onRequest\" xlink:href=\"psysml:61bbaf9b-44aa-4d19-b1af-9f0be63c5dc6\" xlink:show=\"new\" xlink:title=\"psysml:61bbaf9b-44aa-4d19-b1af-9f0be63c5dc6\" xlink:type=\"simple\"><polygon fill=\"#FFFFFF\" points=\"74.32,243,98.32,243,105.32,265.2969,211.32,265.2969,211.32,356,74.32,356,74.32,243\" style=\"stroke: #000000; stroke-width: 1.5;\"/><line style=\"stroke: #000000; stroke-width: 1.5;\" x1=\"74.32\" x2=\"105.32\" y1=\"265.2969\" y2=\"265.2969\"/><text fill=\"#000000\" font-family=\"sans-serif\" font-size=\"14\" font-weight=\"bold\" lengthAdjust=\"spacingAndGlyphs\" textLength=\"18\" x=\"78.32\" y=\"257.9951\">P3</text></a><!--MD5=[7f149f147074ac12df2cb0a7728a5fb0]\n",
       "cluster E9--><a href=\"psysml:826bc35a-2948-4f0f-ac57-a46abe90dd77\" target=\"_top\" title=\"psysml:826bc35a-2948-4f0f-ac57-a46abe90dd77\" xlink:actuate=\"onRequest\" xlink:href=\"psysml:826bc35a-2948-4f0f-ac57-a46abe90dd77\" xlink:show=\"new\" xlink:title=\"psysml:826bc35a-2948-4f0f-ac57-a46abe90dd77\" xlink:type=\"simple\"><polygon fill=\"#FFFFFF\" points=\"262.32,65,286.32,65,293.32,87.2969,371.32,87.2969,371.32,178,262.32,178,262.32,65\" style=\"stroke: #000000; stroke-width: 1.5;\"/><line style=\"stroke: #000000; stroke-width: 1.5;\" x1=\"262.32\" x2=\"293.32\" y1=\"87.2969\" y2=\"87.2969\"/><text fill=\"#000000\" font-family=\"sans-serif\" font-size=\"14\" font-weight=\"bold\" lengthAdjust=\"spacingAndGlyphs\" textLength=\"18\" x=\"266.32\" y=\"79.9951\">P4</text></a><!--MD5=[270fce915f116d4de14055a7c1d9a0f3]\n",
       "class E5--><a href=\"psysml:ae255e73-333e-4dec-b11e-e996fbedcc54\" target=\"_top\" title=\"psysml:ae255e73-333e-4dec-b11e-e996fbedcc54\" xlink:actuate=\"onRequest\" xlink:href=\"psysml:ae255e73-333e-4dec-b11e-e996fbedcc54\" xlink:show=\"new\" xlink:title=\"psysml:ae255e73-333e-4dec-b11e-e996fbedcc54\" xlink:type=\"simple\"><rect fill=\"#FFFFFF\" height=\"45.9375\" id=\"E5\" rx=\"10\" ry=\"10\" style=\"stroke: #383838; stroke-width: 1.5;\" width=\"42\" x=\"345.32\" y=\"286\"/><text fill=\"#000000\" font-family=\"sans-serif\" font-size=\"12\" font-style=\"italic\" lengthAdjust=\"spacingAndGlyphs\" textLength=\"40\" x=\"346.32\" y=\"302.1387\">«part»</text><text fill=\"#000000\" font-family=\"sans-serif\" font-size=\"12\" lengthAdjust=\"spacingAndGlyphs\" textLength=\"22\" x=\"353.32\" y=\"316.1074\">x: A</text><line style=\"stroke: #383838; stroke-width: 1.5;\" x1=\"346.32\" x2=\"386.32\" y1=\"323.9375\" y2=\"323.9375\"/></a><!--MD5=[b9389687b975829384b498ac4b7476b2]\n",
       "class E8--><a href=\"psysml:3c42eaa7-d0d8-4753-a2b8-0968c7baa502\" target=\"_top\" title=\"psysml:3c42eaa7-d0d8-4753-a2b8-0968c7baa502\" xlink:actuate=\"onRequest\" xlink:href=\"psysml:3c42eaa7-d0d8-4753-a2b8-0968c7baa502\" xlink:show=\"new\" xlink:title=\"psysml:3c42eaa7-d0d8-4753-a2b8-0968c7baa502\" xlink:type=\"simple\"><rect fill=\"#FFFFFF\" height=\"45.9375\" id=\"E8\" rx=\"10\" ry=\"10\" style=\"stroke: #383838; stroke-width: 1.5;\" width=\"42\" x=\"193.32\" y=\"108\"/><text fill=\"#000000\" font-family=\"sans-serif\" font-size=\"12\" font-style=\"italic\" lengthAdjust=\"spacingAndGlyphs\" textLength=\"40\" x=\"194.32\" y=\"124.1387\">«part»</text><text fill=\"#000000\" font-family=\"sans-serif\" font-size=\"12\" lengthAdjust=\"spacingAndGlyphs\" textLength=\"21\" x=\"201.82\" y=\"138.1074\">z: B</text><line style=\"stroke: #383838; stroke-width: 1.5;\" x1=\"194.32\" x2=\"234.32\" y1=\"145.9375\" y2=\"145.9375\"/></a><!--MD5=[09b614a08d8cba4a07c9adeb5e0fee81]\n",
       "class E3--><a href=\"psysml:e52e2a8f-f908-40ce-88b1-6459229e6290\" target=\"_top\" title=\"psysml:e52e2a8f-f908-40ce-88b1-6459229e6290\" xlink:actuate=\"onRequest\" xlink:href=\"psysml:e52e2a8f-f908-40ce-88b1-6459229e6290\" xlink:show=\"new\" xlink:title=\"psysml:e52e2a8f-f908-40ce-88b1-6459229e6290\" xlink:type=\"simple\"><rect fill=\"#FFFFFF\" height=\"45.9375\" id=\"E3\" style=\"stroke: #383838; stroke-width: 1.5;\" width=\"70\" x=\"274.32\" y=\"464\"/><text fill=\"#000000\" font-family=\"sans-serif\" font-size=\"12\" font-style=\"italic\" lengthAdjust=\"spacingAndGlyphs\" textLength=\"68\" x=\"275.32\" y=\"480.1387\">«part  def»</text><text fill=\"#000000\" font-family=\"sans-serif\" font-size=\"12\" lengthAdjust=\"spacingAndGlyphs\" textLength=\"8\" x=\"305.32\" y=\"494.1074\">A</text><line style=\"stroke: #383838; stroke-width: 1.5;\" x1=\"275.32\" x2=\"343.32\" y1=\"501.9375\" y2=\"501.9375\"/></a><a href=\"psysml:b07c7c49-60b3-45d9-ab30-3f9ccb4621b1\" target=\"_top\" title=\"psysml:b07c7c49-60b3-45d9-ab30-3f9ccb4621b1\" xlink:actuate=\"onRequest\" xlink:href=\"psysml:b07c7c49-60b3-45d9-ab30-3f9ccb4621b1\" xlink:show=\"new\" xlink:title=\"psysml:b07c7c49-60b3-45d9-ab30-3f9ccb4621b1\" xlink:type=\"simple\"><polygon fill=\"#FFFFFF\" points=\"235.32,282.5,259.32,282.5,266.32,304.7969,273.32,304.7969,273.32,335.0938,235.32,335.0938,235.32,282.5\" style=\"stroke: #000000; stroke-width: 1.5;\"/><line style=\"stroke: #000000; stroke-width: 1.5;\" x1=\"235.32\" x2=\"266.32\" y1=\"304.7969\" y2=\"304.7969\"/><text fill=\"#000000\" font-family=\"sans-serif\" font-size=\"14\" font-weight=\"bold\" lengthAdjust=\"spacingAndGlyphs\" textLength=\"18\" x=\"239.32\" y=\"297.4951\">P2</text></a><!--MD5=[2156ba9850f5573cc1fc38a6a4b2f02b]\n",
       "class E7--><a href=\"psysml:f5eaf228-c184-457d-ba82-3236315ba9d3\" target=\"_top\" title=\"psysml:f5eaf228-c184-457d-ba82-3236315ba9d3\" xlink:actuate=\"onRequest\" xlink:href=\"psysml:f5eaf228-c184-457d-ba82-3236315ba9d3\" xlink:show=\"new\" xlink:title=\"psysml:f5eaf228-c184-457d-ba82-3236315ba9d3\" xlink:type=\"simple\"><rect fill=\"#FFFFFF\" height=\"45.9375\" id=\"E7\" style=\"stroke: #383838; stroke-width: 1.5;\" width=\"70\" x=\"117.32\" y=\"286\"/><text fill=\"#000000\" font-family=\"sans-serif\" font-size=\"12\" font-style=\"italic\" lengthAdjust=\"spacingAndGlyphs\" textLength=\"68\" x=\"118.32\" y=\"302.1387\">«part  def»</text><text fill=\"#000000\" font-family=\"sans-serif\" font-size=\"12\" lengthAdjust=\"spacingAndGlyphs\" textLength=\"8\" x=\"148.32\" y=\"316.1074\">B</text><line style=\"stroke: #383838; stroke-width: 1.5;\" x1=\"118.32\" x2=\"186.32\" y1=\"323.9375\" y2=\"323.9375\"/></a><!--MD5=[96f4274e9e20536e775497830990834d]\n",
       "class E10--><a href=\"psysml:bd10993a-8e6e-4149-83fc-2dc02c68e6fc\" target=\"_top\" title=\"psysml:bd10993a-8e6e-4149-83fc-2dc02c68e6fc\" xlink:actuate=\"onRequest\" xlink:href=\"psysml:bd10993a-8e6e-4149-83fc-2dc02c68e6fc\" xlink:show=\"new\" xlink:title=\"psysml:bd10993a-8e6e-4149-83fc-2dc02c68e6fc\" xlink:type=\"simple\"><rect fill=\"#FFFFFF\" height=\"45.9375\" id=\"E10\" rx=\"10\" ry=\"10\" style=\"stroke: #383838; stroke-width: 1.5;\" width=\"42\" x=\"305.32\" y=\"108\"/><text fill=\"#000000\" font-family=\"sans-serif\" font-size=\"12\" font-style=\"italic\" lengthAdjust=\"spacingAndGlyphs\" textLength=\"40\" x=\"306.32\" y=\"124.1387\">«part»</text><text fill=\"#000000\" font-family=\"sans-serif\" font-size=\"12\" lengthAdjust=\"spacingAndGlyphs\" textLength=\"29\" x=\"309.82\" y=\"138.1074\">z1: A</text><line style=\"stroke: #383838; stroke-width: 1.5;\" x1=\"306.32\" x2=\"346.32\" y1=\"145.9375\" y2=\"145.9375\"/></a><!--MD5=[185131fc0dcab0a4505a2ebe144e961b]\n",
       "link E4 to E2--><a href=\"psysml:9c76a3dc-4160-42f2-8d03-f28cee99dd8d\" target=\"_top\" title=\"psysml:9c76a3dc-4160-42f2-8d03-f28cee99dd8d\" xlink:actuate=\"onRequest\" xlink:href=\"psysml:9c76a3dc-4160-42f2-8d03-f28cee99dd8d\" xlink:show=\"new\" xlink:title=\"psysml:9c76a3dc-4160-42f2-8d03-f28cee99dd8d\" xlink:type=\"simple\"><path d=\"M244.71,335.52 C240.28,348.61 235.53,364.94 233.32,380 C231.6325,391.49 231.1388,403.7444 231.3534,415.6911 C231.3803,417.1844 231.4182,418.673 231.4662,420.1546 C231.4722,420.3398 231.4784,420.5249 231.4847,420.7099 \" fill=\"none\" id=\"E4-&gt;E2\" style=\"stroke: #383838; stroke-width: 1.0; stroke-dasharray: 7.0,7.0;\"/><polygon fill=\"#383838\" points=\"231.4847,420.7099,235.1752,411.5786,231.314,415.7128,227.1798,411.8517,231.4847,420.7099\" style=\"stroke: #383838; stroke-width: 1.0;\"/><text fill=\"#000000\" font-family=\"sans-serif\" font-size=\"13\" lengthAdjust=\"spacingAndGlyphs\" textLength=\"65\" x=\"234.32\" y=\"393.0669\">«import»*</text></a><!--MD5=[e9be52314489bd878ff4c7144b63c9e1]\n",
       "link E5 to E3--><a href=\"psysml:7e781afb-bb69-45b4-99ca-abeca0fc5181\" target=\"_top\" title=\"psysml:7e781afb-bb69-45b4-99ca-abeca0fc5181\" xlink:actuate=\"onRequest\" xlink:href=\"psysml:7e781afb-bb69-45b4-99ca-abeca0fc5181\" xlink:show=\"new\" xlink:title=\"psysml:7e781afb-bb69-45b4-99ca-abeca0fc5181\" xlink:type=\"simple\"><path d=\"M359.1,332.29 C349.98,360.46 334.1,409.49 322.72,444.61 \" fill=\"none\" id=\"E5-&gt;E3\" style=\"stroke: #383838; stroke-width: 1.0;\"/><polygon fill=\"#FFFFFF\" points=\"316.48,463.89,315.6693,443.6578,328.9893,447.9678,316.48,463.89\" style=\"stroke: #383838; stroke-width: 1.0;\"/><ellipse cx=\"319.3269\" cy=\"438.8503\" fill=\"#383838\" rx=\"2\" ry=\"2\" style=\"stroke: #383838; stroke-width: 1.0;\"/><ellipse cx=\"328.8413\" cy=\"441.9289\" fill=\"#383838\" rx=\"2\" ry=\"2\" style=\"stroke: #383838; stroke-width: 1.0;\"/></a><!--MD5=[ee384bb554873b72f85793eae40e290c]\n",
       "link E1 to E4--><a href=\"psysml:3abfa817-381d-4c68-8935-6fa98a0aa2e6\" target=\"_top\" title=\"psysml:3abfa817-381d-4c68-8935-6fa98a0aa2e6\" xlink:actuate=\"onRequest\" xlink:href=\"psysml:3abfa817-381d-4c68-8935-6fa98a0aa2e6\" xlink:show=\"new\" xlink:title=\"psysml:3abfa817-381d-4c68-8935-6fa98a0aa2e6\" xlink:type=\"simple\"><path d=\"M34.29,132.12 C33.65,134.6 23.75,174.52 42.32,194 C49.33,201.35 77.35,200.04 87.32,202 C113.19,207.09 181.71,211.88 203.32,227 C220.99,239.37 233.85,260.02 242.24,277.37 \" fill=\"none\" id=\"E1-&gt;E4\" style=\"stroke: #383838; stroke-width: 1.0; stroke-dasharray: 7.0,7.0;\"/><polygon fill=\"#383838\" points=\"244.49,282.17,244.3071,272.3228,242.3748,277.6394,237.0582,275.7072,244.49,282.17\" style=\"stroke: #383838; stroke-width: 1.0;\"/><text fill=\"#000000\" font-family=\"sans-serif\" font-size=\"13\" lengthAdjust=\"spacingAndGlyphs\" textLength=\"65\" x=\"183.32\" y=\"215.0669\">«import»*</text></a><!--MD5=[ccbd3af71bf83df0ec2a2db62d6d7130]\n",
       "link E1 to E6--><a href=\"psysml:38071c17-dcc7-47a2-931c-5199b5c10531\" target=\"_top\" title=\"psysml:38071c17-dcc7-47a2-931c-5199b5c10531\" xlink:actuate=\"onRequest\" xlink:href=\"psysml:38071c17-dcc7-47a2-931c-5199b5c10531\" xlink:show=\"new\" xlink:title=\"psysml:38071c17-dcc7-47a2-931c-5199b5c10531\" xlink:type=\"simple\"><path d=\"M26.1693,145.3513 C26.1165,145.4477 26.0635,145.5445 26.0105,145.6418 C25.9044,145.8363 25.7978,146.0325 25.6908,146.2304 C24.8349,147.8133 23.9523,149.5023 23.0614,151.284 C21.2797,154.8473 19.465,158.7813 17.765,162.9775 C10.965,179.7625 6,200.745 12.32,219 C20.295,242.035 36.9675,263.635 52.0413,279.7863 C59.5781,287.8619 66.7153,294.5753 72.1658,299.4248 C72.8471,300.031 73.502,300.6081 74.1281,301.1551 \" fill=\"none\" id=\"E1-&gt;E6\" style=\"stroke: #383838; stroke-width: 1.0; stroke-dasharray: 7.0,7.0;\"/><polygon fill=\"#383838\" points=\"74.1281,301.1551,69.982,292.2214,70.3627,297.8655,64.7187,298.2462,74.1281,301.1551\" style=\"stroke: #383838; stroke-width: 1.0;\"/><text fill=\"#000000\" font-family=\"sans-serif\" font-size=\"13\" lengthAdjust=\"spacingAndGlyphs\" textLength=\"65\" x=\"13.32\" y=\"215.0669\">«import»*</text></a><!--MD5=[bfa3c8b0d15052fdf50ae9310b491027]\n",
       "link E8 to E7--><a href=\"psysml:84039e37-6732-4e81-a24d-af568a8fc4d2\" target=\"_top\" title=\"psysml:84039e37-6732-4e81-a24d-af568a8fc4d2\" xlink:actuate=\"onRequest\" xlink:href=\"psysml:84039e37-6732-4e81-a24d-af568a8fc4d2\" xlink:show=\"new\" xlink:title=\"psysml:84039e37-6732-4e81-a24d-af568a8fc4d2\" xlink:type=\"simple\"><path d=\"M232.99,154.29 C246.61,173.37 260.16,200.59 244.32,219 C228.78,237.06 210.49,212.85 191.32,227 C178.2,236.69 169.29,251.96 163.34,266.65 \" fill=\"none\" id=\"E8-&gt;E7\" style=\"stroke: #383838; stroke-width: 1.0;\"/><polygon fill=\"#FFFFFF\" points=\"156.95,285.73,156.3404,265.4907,169.617,269.9329,156.95,285.73\" style=\"stroke: #383838; stroke-width: 1.0;\"/><ellipse cx=\"160.0457\" cy=\"260.7199\" fill=\"#383838\" rx=\"2\" ry=\"2\" style=\"stroke: #383838; stroke-width: 1.0;\"/><ellipse cx=\"169.5289\" cy=\"263.8929\" fill=\"#383838\" rx=\"2\" ry=\"2\" style=\"stroke: #383838; stroke-width: 1.0;\"/></a><!--MD5=[c2be97adba6ddfe1c8f349fab141c927]\n",
       "link E9 to E4--><a href=\"psysml:f4a7c8b4-50d4-4d21-9428-75951a767795\" target=\"_top\" title=\"psysml:f4a7c8b4-50d4-4d21-9428-75951a767795\" xlink:actuate=\"onRequest\" xlink:href=\"psysml:f4a7c8b4-50d4-4d21-9428-75951a767795\" xlink:show=\"new\" xlink:title=\"psysml:f4a7c8b4-50d4-4d21-9428-75951a767795\" xlink:type=\"simple\"><path d=\"M267.5431,178.2415 C267.5354,178.35 267.5276,178.4585 267.5198,178.5671 C267.3951,180.3034 267.2673,182.0417 267.1366,183.7729 C266.8753,187.2352 266.6025,190.6688 266.32,194 C263.93,222.21 260.49,254.26 257.9,277.18 \" fill=\"none\" id=\"E9-&gt;E4\" style=\"stroke: #383838; stroke-width: 1.0; stroke-dasharray: 7.0,7.0;\"/><polygon fill=\"#383838\" points=\"257.33,282.22,262.3075,273.7215,257.8869,277.2511,254.3572,272.8305,257.33,282.22\" style=\"stroke: #383838; stroke-width: 1.0;\"/><text fill=\"#000000\" font-family=\"sans-serif\" font-size=\"13\" lengthAdjust=\"spacingAndGlyphs\" textLength=\"65\" x=\"266.32\" y=\"215.0669\">«import»*</text></a><!--MD5=[feeac5eb423634930294aa81f2d25a4c]\n",
       "link E10 to E3--><a href=\"psysml:ff7299d7-bc25-43a3-abcf-daa45aa95a4b\" target=\"_top\" title=\"psysml:ff7299d7-bc25-43a3-abcf-daa45aa95a4b\" xlink:actuate=\"onRequest\" xlink:href=\"psysml:ff7299d7-bc25-43a3-abcf-daa45aa95a4b\" xlink:show=\"new\" xlink:title=\"psysml:ff7299d7-bc25-43a3-abcf-daa45aa95a4b\" xlink:type=\"simple\"><path d=\"M345.63,154.11 C359.77,173.07 373.99,200.22 358.32,219 C345.58,234.26 327.2,211.86 314.32,227 C300.64,243.07 304.33,374.79 307.28,443.95 \" fill=\"none\" id=\"E10-&gt;E3\" style=\"stroke: #383838; stroke-width: 1.0;\"/><polygon fill=\"#FFFFFF\" points=\"308.18,463.98,300.3317,445.3144,314.3175,444.6841,308.18,463.98\" style=\"stroke: #383838; stroke-width: 1.0;\"/><ellipse cx=\"302.0731\" cy=\"439.5301\" fill=\"#383838\" rx=\"2\" ry=\"2\" style=\"stroke: #383838; stroke-width: 1.0;\"/><ellipse cx=\"312.063\" cy=\"439.0799\" fill=\"#383838\" rx=\"2\" ry=\"2\" style=\"stroke: #383838; stroke-width: 1.0;\"/></a><!--MD5=[dcf4556deb5a511cc35df9df56689ad0]\n",
       "@startuml\r\n",
       "top to bottom direction\r\n",
       "skinparam monochrome true\r\n",
       "skinparam classbackgroundcolor white\r\n",
       "skinparam shadowing false\r\n",
       "skinparam wrapWidth 300\r\n",
       "hide circle\r\n",
       "\r\n",
       "package \"PrivateImportTest\" as E1  [[psysml:8f933ba8-0ed5-4db5-b82c-58b1e568922b ]]  {\r\n",
       "package \"P1\" as E2  [[psysml:dc5a646f-7a70-4bb5-8a84-dd766b7ca58f ]]  {\r\n",
       "comp def \"A\" as E3  <<(T,blue) part  def>> [[psysml:e52e2a8f-f908-40ce-88b1-6459229e6290 ]] {\r\n",
       "}\r\n",
       "}\r\n",
       "package \"P2\" as E4  [[psysml:b07c7c49-60b3-45d9-ab30-3f9ccb4621b1 ]]  {\r\n",
       "}\r\n",
       "comp usage \"x: A \" as E5  <<(T,blue) part>> [[psysml:ae255e73-333e-4dec-b11e-e996fbedcc54 ]] {\r\n",
       "}\r\n",
       "package \"P3\" as E6  [[psysml:61bbaf9b-44aa-4d19-b1af-9f0be63c5dc6 ]]  {\r\n",
       "comp def \"B\" as E7  <<(T,blue) part  def>> [[psysml:f5eaf228-c184-457d-ba82-3236315ba9d3 ]] {\r\n",
       "}\r\n",
       "}\r\n",
       "comp usage \"z: B \" as E8  <<(T,blue) part>> [[psysml:3c42eaa7-d0d8-4753-a2b8-0968c7baa502 ]] {\r\n",
       "}\r\n",
       "package \"P4\" as E9  [[psysml:826bc35a-2948-4f0f-ac57-a46abe90dd77 ]]  {\r\n",
       "comp usage \"z1: A \" as E10  <<(T,blue) part>> [[psysml:bd10993a-8e6e-4149-83fc-2dc02c68e6fc ]] {\r\n",
       "}\r\n",
       "}\r\n",
       "}\r\n",
       "E4 ..> E2 [[psysml:9c76a3dc-4160-42f2-8d03-f28cee99dd8d ]] : <<import>>*\r\n",
       "E5 - -:|> E3 [[psysml:7e781afb-bb69-45b4-99ca-abeca0fc5181 ]] \r\n",
       "E1 ..> E4 [[psysml:3abfa817-381d-4c68-8935-6fa98a0aa2e6 ]] : <<import>>*\r\n",
       "E1 ..> E6 [[psysml:38071c17-dcc7-47a2-931c-5199b5c10531 ]] : <<import>>*\r\n",
       "E8 - -:|> E7 [[psysml:84039e37-6732-4e81-a24d-af568a8fc4d2 ]] \r\n",
       "E9 ..> E4 [[psysml:f4a7c8b4-50d4-4d21-9428-75951a767795 ]] : <<import>>*\r\n",
       "E10 - -:|> E3 [[psysml:ff7299d7-bc25-43a3-abcf-daa45aa95a4b ]] \r\n",
       "@enduml\r\n",
       "\n",
       "PlantUML version 1.2020.13(Sat Jun 13 12:26:38 UTC 2020)\n",
       "(EPL source distribution)\n",
       "Java Runtime: OpenJDK Runtime Environment\n",
       "JVM: OpenJDK 64-Bit Server VM\n",
       "Default Encoding: UTF-8\n",
       "Language: en\n",
       "Country: null\n",
       "--></g></svg>"
      ]
     },
     "execution_count": 50,
     "metadata": {},
     "output_type": "execute_result"
    }
   ],
   "source": [
    "%viz --style=\"TB\" --view=\"MIXED\" \"PrivateImportTest\""
   ]
  },
  {
   "cell_type": "code",
   "execution_count": 51,
   "id": "70d52036",
   "metadata": {
    "execution": {
     "iopub.execute_input": "2022-08-19T08:19:19.592457Z",
     "iopub.status.busy": "2022-08-19T08:19:19.592009Z",
     "iopub.status.idle": "2022-08-19T08:19:19.627023Z",
     "shell.execute_reply": "2022-08-19T08:19:19.625594Z"
    }
   },
   "outputs": [
    {
     "data": {
      "image/svg+xml": [
       "<?xml version=\"1.0\" encoding=\"UTF-8\" standalone=\"no\"?><svg xmlns=\"http://www.w3.org/2000/svg\" xmlns:xlink=\"http://www.w3.org/1999/xlink\" contentScriptType=\"application/ecmascript\" contentStyleType=\"text/css\" height=\"586px\" preserveAspectRatio=\"none\" style=\"width:423px;height:586px;\" version=\"1.1\" viewBox=\"0 0 423 586\" width=\"423px\" zoomAndPan=\"magnify\"><defs/><g><!--MD5=[fbc87193dbaf4d95561dea2c320d4a47]\n",
       "cluster E1--><a href=\"psysml:8f933ba8-0ed5-4db5-b82c-58b1e568922b\" target=\"_top\" title=\"psysml:8f933ba8-0ed5-4db5-b82c-58b1e568922b\" xlink:actuate=\"onRequest\" xlink:href=\"psysml:8f933ba8-0ed5-4db5-b82c-58b1e568922b\" xlink:show=\"new\" xlink:title=\"psysml:8f933ba8-0ed5-4db5-b82c-58b1e568922b\" xlink:type=\"simple\"><polygon fill=\"#FFFFFF\" points=\"16,6,143,6,150,28.2969,401,28.2969,401,574,16,574,16,6\" style=\"stroke: #000000; stroke-width: 1.5;\"/><line style=\"stroke: #000000; stroke-width: 1.5;\" x1=\"16\" x2=\"150\" y1=\"28.2969\" y2=\"28.2969\"/><text fill=\"#000000\" font-family=\"sans-serif\" font-size=\"14\" font-weight=\"bold\" lengthAdjust=\"spacingAndGlyphs\" textLength=\"121\" x=\"20\" y=\"20.9951\">PrivateImportTest</text></a><!--MD5=[e4f7fae6ed58524ba242bb0b0d3be6b7]\n",
       "cluster E2--><a href=\"psysml:dc5a646f-7a70-4bb5-8a84-dd766b7ca58f\" target=\"_top\" title=\"psysml:dc5a646f-7a70-4bb5-8a84-dd766b7ca58f\" xlink:actuate=\"onRequest\" xlink:href=\"psysml:dc5a646f-7a70-4bb5-8a84-dd766b7ca58f\" xlink:show=\"new\" xlink:title=\"psysml:dc5a646f-7a70-4bb5-8a84-dd766b7ca58f\" xlink:type=\"simple\"><polygon fill=\"#FFFFFF\" points=\"221,421,245,421,252,443.2969,358,443.2969,358,534,221,534,221,421\" style=\"stroke: #000000; stroke-width: 1.5;\"/><line style=\"stroke: #000000; stroke-width: 1.5;\" x1=\"221\" x2=\"252\" y1=\"443.2969\" y2=\"443.2969\"/><text fill=\"#000000\" font-family=\"sans-serif\" font-size=\"14\" font-weight=\"bold\" lengthAdjust=\"spacingAndGlyphs\" textLength=\"18\" x=\"225\" y=\"435.9951\">P1</text></a><!--MD5=[14e3b0961a2654348d326746436168a1]\n",
       "cluster E6--><a href=\"psysml:61bbaf9b-44aa-4d19-b1af-9f0be63c5dc6\" target=\"_top\" title=\"psysml:61bbaf9b-44aa-4d19-b1af-9f0be63c5dc6\" xlink:actuate=\"onRequest\" xlink:href=\"psysml:61bbaf9b-44aa-4d19-b1af-9f0be63c5dc6\" xlink:show=\"new\" xlink:title=\"psysml:61bbaf9b-44aa-4d19-b1af-9f0be63c5dc6\" xlink:type=\"simple\"><polygon fill=\"#FFFFFF\" points=\"64,243,88,243,95,265.2969,201,265.2969,201,356,64,356,64,243\" style=\"stroke: #000000; stroke-width: 1.5;\"/><line style=\"stroke: #000000; stroke-width: 1.5;\" x1=\"64\" x2=\"95\" y1=\"265.2969\" y2=\"265.2969\"/><text fill=\"#000000\" font-family=\"sans-serif\" font-size=\"14\" font-weight=\"bold\" lengthAdjust=\"spacingAndGlyphs\" textLength=\"18\" x=\"68\" y=\"257.9951\">P3</text></a><!--MD5=[7f149f147074ac12df2cb0a7728a5fb0]\n",
       "cluster E9--><a href=\"psysml:826bc35a-2948-4f0f-ac57-a46abe90dd77\" target=\"_top\" title=\"psysml:826bc35a-2948-4f0f-ac57-a46abe90dd77\" xlink:actuate=\"onRequest\" xlink:href=\"psysml:826bc35a-2948-4f0f-ac57-a46abe90dd77\" xlink:show=\"new\" xlink:title=\"psysml:826bc35a-2948-4f0f-ac57-a46abe90dd77\" xlink:type=\"simple\"><polygon fill=\"#FFFFFF\" points=\"252,65,276,65,283,87.2969,361,87.2969,361,178,252,178,252,65\" style=\"stroke: #000000; stroke-width: 1.5;\"/><line style=\"stroke: #000000; stroke-width: 1.5;\" x1=\"252\" x2=\"283\" y1=\"87.2969\" y2=\"87.2969\"/><text fill=\"#000000\" font-family=\"sans-serif\" font-size=\"14\" font-weight=\"bold\" lengthAdjust=\"spacingAndGlyphs\" textLength=\"18\" x=\"256\" y=\"79.9951\">P4</text></a><!--MD5=[270fce915f116d4de14055a7c1d9a0f3]\n",
       "class E5--><a href=\"psysml:ae255e73-333e-4dec-b11e-e996fbedcc54\" target=\"_top\" title=\"psysml:ae255e73-333e-4dec-b11e-e996fbedcc54\" xlink:actuate=\"onRequest\" xlink:href=\"psysml:ae255e73-333e-4dec-b11e-e996fbedcc54\" xlink:show=\"new\" xlink:title=\"psysml:ae255e73-333e-4dec-b11e-e996fbedcc54\" xlink:type=\"simple\"><rect fill=\"#FFFFFF\" height=\"45.9375\" id=\"E5\" rx=\"10\" ry=\"10\" style=\"stroke: #383838; stroke-width: 1.5;\" width=\"42\" x=\"335\" y=\"286\"/><text fill=\"#000000\" font-family=\"sans-serif\" font-size=\"12\" font-style=\"italic\" lengthAdjust=\"spacingAndGlyphs\" textLength=\"40\" x=\"336\" y=\"302.1387\">«part»</text><text fill=\"#000000\" font-family=\"sans-serif\" font-size=\"12\" lengthAdjust=\"spacingAndGlyphs\" textLength=\"22\" x=\"343\" y=\"316.1074\">x: A</text><line style=\"stroke: #383838; stroke-width: 1.5;\" x1=\"336\" x2=\"376\" y1=\"323.9375\" y2=\"323.9375\"/></a><!--MD5=[b9389687b975829384b498ac4b7476b2]\n",
       "class E8--><a href=\"psysml:3c42eaa7-d0d8-4753-a2b8-0968c7baa502\" target=\"_top\" title=\"psysml:3c42eaa7-d0d8-4753-a2b8-0968c7baa502\" xlink:actuate=\"onRequest\" xlink:href=\"psysml:3c42eaa7-d0d8-4753-a2b8-0968c7baa502\" xlink:show=\"new\" xlink:title=\"psysml:3c42eaa7-d0d8-4753-a2b8-0968c7baa502\" xlink:type=\"simple\"><rect fill=\"#FFFFFF\" height=\"45.9375\" id=\"E8\" rx=\"10\" ry=\"10\" style=\"stroke: #383838; stroke-width: 1.5;\" width=\"42\" x=\"183\" y=\"108\"/><text fill=\"#000000\" font-family=\"sans-serif\" font-size=\"12\" font-style=\"italic\" lengthAdjust=\"spacingAndGlyphs\" textLength=\"40\" x=\"184\" y=\"124.1387\">«part»</text><text fill=\"#000000\" font-family=\"sans-serif\" font-size=\"12\" lengthAdjust=\"spacingAndGlyphs\" textLength=\"21\" x=\"191.5\" y=\"138.1074\">z: B</text><line style=\"stroke: #383838; stroke-width: 1.5;\" x1=\"184\" x2=\"224\" y1=\"145.9375\" y2=\"145.9375\"/></a><!--MD5=[09b614a08d8cba4a07c9adeb5e0fee81]\n",
       "class E3--><a href=\"psysml:e52e2a8f-f908-40ce-88b1-6459229e6290\" target=\"_top\" title=\"psysml:e52e2a8f-f908-40ce-88b1-6459229e6290\" xlink:actuate=\"onRequest\" xlink:href=\"psysml:e52e2a8f-f908-40ce-88b1-6459229e6290\" xlink:show=\"new\" xlink:title=\"psysml:e52e2a8f-f908-40ce-88b1-6459229e6290\" xlink:type=\"simple\"><rect fill=\"#FFFFFF\" height=\"45.9375\" id=\"E3\" style=\"stroke: #383838; stroke-width: 1.5;\" width=\"70\" x=\"264\" y=\"464\"/><text fill=\"#000000\" font-family=\"sans-serif\" font-size=\"12\" font-style=\"italic\" lengthAdjust=\"spacingAndGlyphs\" textLength=\"68\" x=\"265\" y=\"480.1387\">«part  def»</text><text fill=\"#000000\" font-family=\"sans-serif\" font-size=\"12\" lengthAdjust=\"spacingAndGlyphs\" textLength=\"8\" x=\"295\" y=\"494.1074\">A</text><line style=\"stroke: #383838; stroke-width: 1.5;\" x1=\"265\" x2=\"333\" y1=\"501.9375\" y2=\"501.9375\"/></a><a href=\"psysml:b07c7c49-60b3-45d9-ab30-3f9ccb4621b1\" target=\"_top\" title=\"psysml:b07c7c49-60b3-45d9-ab30-3f9ccb4621b1\" xlink:actuate=\"onRequest\" xlink:href=\"psysml:b07c7c49-60b3-45d9-ab30-3f9ccb4621b1\" xlink:show=\"new\" xlink:title=\"psysml:b07c7c49-60b3-45d9-ab30-3f9ccb4621b1\" xlink:type=\"simple\"><polygon fill=\"#FFFFFF\" points=\"225,282.5,249,282.5,256,304.7969,263,304.7969,263,335.0938,225,335.0938,225,282.5\" style=\"stroke: #000000; stroke-width: 1.5;\"/><line style=\"stroke: #000000; stroke-width: 1.5;\" x1=\"225\" x2=\"256\" y1=\"304.7969\" y2=\"304.7969\"/><text fill=\"#000000\" font-family=\"sans-serif\" font-size=\"14\" font-weight=\"bold\" lengthAdjust=\"spacingAndGlyphs\" textLength=\"18\" x=\"229\" y=\"297.4951\">P2</text></a><!--MD5=[2156ba9850f5573cc1fc38a6a4b2f02b]\n",
       "class E7--><a href=\"psysml:f5eaf228-c184-457d-ba82-3236315ba9d3\" target=\"_top\" title=\"psysml:f5eaf228-c184-457d-ba82-3236315ba9d3\" xlink:actuate=\"onRequest\" xlink:href=\"psysml:f5eaf228-c184-457d-ba82-3236315ba9d3\" xlink:show=\"new\" xlink:title=\"psysml:f5eaf228-c184-457d-ba82-3236315ba9d3\" xlink:type=\"simple\"><rect fill=\"#FFFFFF\" height=\"45.9375\" id=\"E7\" style=\"stroke: #383838; stroke-width: 1.5;\" width=\"70\" x=\"107\" y=\"286\"/><text fill=\"#000000\" font-family=\"sans-serif\" font-size=\"12\" font-style=\"italic\" lengthAdjust=\"spacingAndGlyphs\" textLength=\"68\" x=\"108\" y=\"302.1387\">«part  def»</text><text fill=\"#000000\" font-family=\"sans-serif\" font-size=\"12\" lengthAdjust=\"spacingAndGlyphs\" textLength=\"8\" x=\"138\" y=\"316.1074\">B</text><line style=\"stroke: #383838; stroke-width: 1.5;\" x1=\"108\" x2=\"176\" y1=\"323.9375\" y2=\"323.9375\"/></a><!--MD5=[96f4274e9e20536e775497830990834d]\n",
       "class E10--><a href=\"psysml:bd10993a-8e6e-4149-83fc-2dc02c68e6fc\" target=\"_top\" title=\"psysml:bd10993a-8e6e-4149-83fc-2dc02c68e6fc\" xlink:actuate=\"onRequest\" xlink:href=\"psysml:bd10993a-8e6e-4149-83fc-2dc02c68e6fc\" xlink:show=\"new\" xlink:title=\"psysml:bd10993a-8e6e-4149-83fc-2dc02c68e6fc\" xlink:type=\"simple\"><rect fill=\"#FFFFFF\" height=\"45.9375\" id=\"E10\" rx=\"10\" ry=\"10\" style=\"stroke: #383838; stroke-width: 1.5;\" width=\"42\" x=\"295\" y=\"108\"/><text fill=\"#000000\" font-family=\"sans-serif\" font-size=\"12\" font-style=\"italic\" lengthAdjust=\"spacingAndGlyphs\" textLength=\"40\" x=\"296\" y=\"124.1387\">«part»</text><text fill=\"#000000\" font-family=\"sans-serif\" font-size=\"12\" lengthAdjust=\"spacingAndGlyphs\" textLength=\"29\" x=\"299.5\" y=\"138.1074\">z1: A</text><line style=\"stroke: #383838; stroke-width: 1.5;\" x1=\"296\" x2=\"336\" y1=\"145.9375\" y2=\"145.9375\"/></a><!--MD5=[185131fc0dcab0a4505a2ebe144e961b]\n",
       "link E4 to E2--><a href=\"psysml:9c76a3dc-4160-42f2-8d03-f28cee99dd8d\" target=\"_top\" title=\"psysml:9c76a3dc-4160-42f2-8d03-f28cee99dd8d\" xlink:actuate=\"onRequest\" xlink:href=\"psysml:9c76a3dc-4160-42f2-8d03-f28cee99dd8d\" xlink:show=\"new\" xlink:title=\"psysml:9c76a3dc-4160-42f2-8d03-f28cee99dd8d\" xlink:type=\"simple\"><path d=\"M229,335.65 C229,347.4825 229,362.2694 229,377.9309 C229,385.7617 229,393.8112 229,401.8193 C229,405.8234 229,409.8172 229,413.7681 C229,415.7436 229,417.7084 229,419.6584 C229,419.9021 229,420.1456 229,420.3889 \" fill=\"none\" id=\"E4-&gt;E2\" style=\"stroke: #383838; stroke-width: 1.0; stroke-dasharray: 7.0,7.0;\"/><polygon fill=\"#383838\" points=\"229,420.3889,233,411.3889,229,415.3889,225,411.3889,229,420.3889\" style=\"stroke: #383838; stroke-width: 1.0;\"/><text fill=\"#000000\" font-family=\"sans-serif\" font-size=\"13\" lengthAdjust=\"spacingAndGlyphs\" textLength=\"65\" x=\"227\" y=\"393.0669\">«import»*</text></a><!--MD5=[e9be52314489bd878ff4c7144b63c9e1]\n",
       "link E5 to E3--><a href=\"psysml:7e781afb-bb69-45b4-99ca-abeca0fc5181\" target=\"_top\" title=\"psysml:7e781afb-bb69-45b4-99ca-abeca0fc5181\" xlink:actuate=\"onRequest\" xlink:href=\"psysml:7e781afb-bb69-45b4-99ca-abeca0fc5181\" xlink:show=\"new\" xlink:title=\"psysml:7e781afb-bb69-45b4-99ca-abeca0fc5181\" xlink:type=\"simple\"><path d=\"M334.83,309 C327.46,309 321,309 321,309 C321,309 321,443.73 321,443.73 \" fill=\"none\" id=\"E5-&gt;E3\" style=\"stroke: #383838; stroke-width: 1.0;\"/><polygon fill=\"#FFFFFF\" points=\"321,463.73,314,444.73,328,444.73,321,463.73\" style=\"stroke: #383838; stroke-width: 1.0;\"/><ellipse cx=\"316\" cy=\"439.03\" fill=\"#383838\" rx=\"2\" ry=\"2\" style=\"stroke: #383838; stroke-width: 1.0;\"/><ellipse cx=\"326\" cy=\"439.03\" fill=\"#383838\" rx=\"2\" ry=\"2\" style=\"stroke: #383838; stroke-width: 1.0;\"/></a><!--MD5=[ee384bb554873b72f85793eae40e290c]\n",
       "link E1 to E4--><a href=\"psysml:3abfa817-381d-4c68-8935-6fa98a0aa2e6\" target=\"_top\" title=\"psysml:3abfa817-381d-4c68-8935-6fa98a0aa2e6\" xlink:actuate=\"onRequest\" xlink:href=\"psysml:3abfa817-381d-4c68-8935-6fa98a0aa2e6\" xlink:show=\"new\" xlink:title=\"psysml:3abfa817-381d-4c68-8935-6fa98a0aa2e6\" xlink:type=\"simple\"><path d=\"M24,131.56 C24,139.06 24,219 24,219 C24,219 242,219 242,219 C242,219 242,277.48 242,277.48 \" fill=\"none\" id=\"E1-&gt;E4\" style=\"stroke: #383838; stroke-width: 1.0; stroke-dasharray: 7.0,7.0;\"/><polygon fill=\"#383838\" points=\"242,282.48,246,273.48,242,277.48,238,273.48,242,282.48\" style=\"stroke: #383838; stroke-width: 1.0;\"/><text fill=\"#000000\" font-family=\"sans-serif\" font-size=\"13\" lengthAdjust=\"spacingAndGlyphs\" textLength=\"65\" x=\"167\" y=\"215.0669\">«import»*</text></a><!--MD5=[ccbd3af71bf83df0ec2a2db62d6d7130]\n",
       "link E1 to E6--><a href=\"psysml:38071c17-dcc7-47a2-931c-5199b5c10531\" target=\"_top\" title=\"psysml:38071c17-dcc7-47a2-931c-5199b5c10531\" xlink:actuate=\"onRequest\" xlink:href=\"psysml:38071c17-dcc7-47a2-931c-5199b5c10531\" xlink:show=\"new\" xlink:title=\"psysml:38071c17-dcc7-47a2-931c-5199b5c10531\" xlink:type=\"simple\"><path d=\"M24.54,131 C29.81,131 72,131 72,131 C72,131 72,172.7625 72,215.83 C72,221.2134 72,226.6173 72,231.9625 C72,234.6351 72,237.293 72,239.9264 C72,240.5848 72,241.2416 72,241.8967 C72,242.2243 72,242.5514 72,242.8781 \" fill=\"none\" id=\"E1-&gt;E6\" style=\"stroke: #383838; stroke-width: 1.0; stroke-dasharray: 7.0,7.0;\"/><polygon fill=\"#383838\" points=\"72,242.8781,76,233.8781,72,237.8781,68,233.8781,72,242.8781\" style=\"stroke: #383838; stroke-width: 1.0;\"/><text fill=\"#000000\" font-family=\"sans-serif\" font-size=\"13\" lengthAdjust=\"spacingAndGlyphs\" textLength=\"65\" x=\"60\" y=\"215.0669\">«import»*</text></a><!--MD5=[bfa3c8b0d15052fdf50ae9310b491027]\n",
       "link E8 to E7--><a href=\"psysml:84039e37-6732-4e81-a24d-af568a8fc4d2\" target=\"_top\" title=\"psysml:84039e37-6732-4e81-a24d-af568a8fc4d2\" xlink:actuate=\"onRequest\" xlink:href=\"psysml:84039e37-6732-4e81-a24d-af568a8fc4d2\" xlink:show=\"new\" xlink:title=\"psysml:84039e37-6732-4e81-a24d-af568a8fc4d2\" xlink:type=\"simple\"><path d=\"M204,154.27 C204,202.52 204,309 204,309 C204,309 197.35,309 197.35,309 \" fill=\"none\" id=\"E8-&gt;E7\" style=\"stroke: #383838; stroke-width: 1.0;\"/><polygon fill=\"#FFFFFF\" points=\"177.35,309,196.35,302,196.35,316,177.35,309\" style=\"stroke: #383838; stroke-width: 1.0;\"/><ellipse cx=\"202.05\" cy=\"304\" fill=\"#383838\" rx=\"2\" ry=\"2\" style=\"stroke: #383838; stroke-width: 1.0;\"/><ellipse cx=\"202.05\" cy=\"314\" fill=\"#383838\" rx=\"2\" ry=\"2\" style=\"stroke: #383838; stroke-width: 1.0;\"/></a><!--MD5=[c2be97adba6ddfe1c8f349fab141c927]\n",
       "link E9 to E4--><a href=\"psysml:f4a7c8b4-50d4-4d21-9428-75951a767795\" target=\"_top\" title=\"psysml:f4a7c8b4-50d4-4d21-9428-75951a767795\" xlink:actuate=\"onRequest\" xlink:href=\"psysml:f4a7c8b4-50d4-4d21-9428-75951a767795\" xlink:show=\"new\" xlink:title=\"psysml:f4a7c8b4-50d4-4d21-9428-75951a767795\" xlink:type=\"simple\"><path d=\"M260,178.4607 C260,178.7288 260,178.9975 260,179.2667 C260,179.8052 260,180.3457 260,180.8882 C260,181.9731 260,183.0658 260,184.1652 C260,186.364 260,188.5895 260,190.8328 C260,195.3194 260,199.8772 260,204.435 C260,240.8975 260,277.36 260,277.36 \" fill=\"none\" id=\"E9-&gt;E4\" style=\"stroke: #383838; stroke-width: 1.0; stroke-dasharray: 7.0,7.0;\"/><polygon fill=\"#383838\" points=\"260,282.36,264,273.36,260,277.36,256,273.36,260,282.36\" style=\"stroke: #383838; stroke-width: 1.0;\"/><text fill=\"#000000\" font-family=\"sans-serif\" font-size=\"13\" lengthAdjust=\"spacingAndGlyphs\" textLength=\"65\" x=\"281\" y=\"215.0669\">«import»*</text></a><!--MD5=[feeac5eb423634930294aa81f2d25a4c]\n",
       "link E10 to E3--><a href=\"psysml:ff7299d7-bc25-43a3-abcf-daa45aa95a4b\" target=\"_top\" title=\"psysml:ff7299d7-bc25-43a3-abcf-daa45aa95a4b\" xlink:actuate=\"onRequest\" xlink:href=\"psysml:ff7299d7-bc25-43a3-abcf-daa45aa95a4b\" xlink:show=\"new\" xlink:title=\"psysml:ff7299d7-bc25-43a3-abcf-daa45aa95a4b\" xlink:type=\"simple\"><path d=\"M308,154.08 C308,154.08 308,443.97 308,443.97 \" fill=\"none\" id=\"E10-&gt;E3\" style=\"stroke: #383838; stroke-width: 1.0;\"/><polygon fill=\"#FFFFFF\" points=\"308,463.97,301,444.97,315,444.97,308,463.97\" style=\"stroke: #383838; stroke-width: 1.0;\"/><ellipse cx=\"303\" cy=\"439.27\" fill=\"#383838\" rx=\"2\" ry=\"2\" style=\"stroke: #383838; stroke-width: 1.0;\"/><ellipse cx=\"313\" cy=\"439.27\" fill=\"#383838\" rx=\"2\" ry=\"2\" style=\"stroke: #383838; stroke-width: 1.0;\"/></a><!--MD5=[6c181da342a35700dbd1c6f0d845f131]\n",
       "@startuml\r\n",
       "skinparam linetype ortho\r\n",
       "skinparam monochrome true\r\n",
       "skinparam classbackgroundcolor white\r\n",
       "skinparam shadowing false\r\n",
       "skinparam wrapWidth 300\r\n",
       "hide circle\r\n",
       "\r\n",
       "package \"PrivateImportTest\" as E1  [[psysml:8f933ba8-0ed5-4db5-b82c-58b1e568922b ]]  {\r\n",
       "package \"P1\" as E2  [[psysml:dc5a646f-7a70-4bb5-8a84-dd766b7ca58f ]]  {\r\n",
       "comp def \"A\" as E3  <<(T,blue) part  def>> [[psysml:e52e2a8f-f908-40ce-88b1-6459229e6290 ]] {\r\n",
       "}\r\n",
       "}\r\n",
       "package \"P2\" as E4  [[psysml:b07c7c49-60b3-45d9-ab30-3f9ccb4621b1 ]]  {\r\n",
       "}\r\n",
       "comp usage \"x: A \" as E5  <<(T,blue) part>> [[psysml:ae255e73-333e-4dec-b11e-e996fbedcc54 ]] {\r\n",
       "}\r\n",
       "package \"P3\" as E6  [[psysml:61bbaf9b-44aa-4d19-b1af-9f0be63c5dc6 ]]  {\r\n",
       "comp def \"B\" as E7  <<(T,blue) part  def>> [[psysml:f5eaf228-c184-457d-ba82-3236315ba9d3 ]] {\r\n",
       "}\r\n",
       "}\r\n",
       "comp usage \"z: B \" as E8  <<(T,blue) part>> [[psysml:3c42eaa7-d0d8-4753-a2b8-0968c7baa502 ]] {\r\n",
       "}\r\n",
       "package \"P4\" as E9  [[psysml:826bc35a-2948-4f0f-ac57-a46abe90dd77 ]]  {\r\n",
       "comp usage \"z1: A \" as E10  <<(T,blue) part>> [[psysml:bd10993a-8e6e-4149-83fc-2dc02c68e6fc ]] {\r\n",
       "}\r\n",
       "}\r\n",
       "}\r\n",
       "E4 ..> E2 [[psysml:9c76a3dc-4160-42f2-8d03-f28cee99dd8d ]] : <<import>>*\r\n",
       "E5 - -:|> E3 [[psysml:7e781afb-bb69-45b4-99ca-abeca0fc5181 ]] \r\n",
       "E1 ..> E4 [[psysml:3abfa817-381d-4c68-8935-6fa98a0aa2e6 ]] : <<import>>*\r\n",
       "E1 ..> E6 [[psysml:38071c17-dcc7-47a2-931c-5199b5c10531 ]] : <<import>>*\r\n",
       "E8 - -:|> E7 [[psysml:84039e37-6732-4e81-a24d-af568a8fc4d2 ]] \r\n",
       "E9 ..> E4 [[psysml:f4a7c8b4-50d4-4d21-9428-75951a767795 ]] : <<import>>*\r\n",
       "E10 - -:|> E3 [[psysml:ff7299d7-bc25-43a3-abcf-daa45aa95a4b ]] \r\n",
       "@enduml\r\n",
       "\n",
       "PlantUML version 1.2020.13(Sat Jun 13 12:26:38 UTC 2020)\n",
       "(EPL source distribution)\n",
       "Java Runtime: OpenJDK Runtime Environment\n",
       "JVM: OpenJDK 64-Bit Server VM\n",
       "Default Encoding: UTF-8\n",
       "Language: en\n",
       "Country: null\n",
       "--></g></svg>"
      ]
     },
     "execution_count": 51,
     "metadata": {},
     "output_type": "execute_result"
    }
   ],
   "source": [
    "%viz --style=\"ORTHOLINE\" --view=\"Default\" \"PrivateImportTest\""
   ]
  },
  {
   "cell_type": "code",
   "execution_count": 52,
   "id": "18f8de37",
   "metadata": {
    "execution": {
     "iopub.execute_input": "2022-08-19T08:19:19.676467Z",
     "iopub.status.busy": "2022-08-19T08:19:19.676024Z",
     "iopub.status.idle": "2022-08-19T08:19:19.713770Z",
     "shell.execute_reply": "2022-08-19T08:19:19.713368Z"
    }
   },
   "outputs": [
    {
     "data": {
      "image/svg+xml": [
       "<?xml version=\"1.0\" encoding=\"UTF-8\" standalone=\"no\"?><svg xmlns=\"http://www.w3.org/2000/svg\" xmlns:xlink=\"http://www.w3.org/1999/xlink\" contentScriptType=\"application/ecmascript\" contentStyleType=\"text/css\" height=\"586px\" preserveAspectRatio=\"none\" style=\"width:423px;height:586px;\" version=\"1.1\" viewBox=\"0 0 423 586\" width=\"423px\" zoomAndPan=\"magnify\"><defs/><g><!--MD5=[fbc87193dbaf4d95561dea2c320d4a47]\n",
       "cluster E1--><a href=\"psysml:8f933ba8-0ed5-4db5-b82c-58b1e568922b\" target=\"_top\" title=\"psysml:8f933ba8-0ed5-4db5-b82c-58b1e568922b\" xlink:actuate=\"onRequest\" xlink:href=\"psysml:8f933ba8-0ed5-4db5-b82c-58b1e568922b\" xlink:show=\"new\" xlink:title=\"psysml:8f933ba8-0ed5-4db5-b82c-58b1e568922b\" xlink:type=\"simple\"><polygon fill=\"#FFFFFF\" points=\"16,6,143,6,150,28.2969,401,28.2969,401,574,16,574,16,6\" style=\"stroke: #000000; stroke-width: 1.5;\"/><line style=\"stroke: #000000; stroke-width: 1.5;\" x1=\"16\" x2=\"150\" y1=\"28.2969\" y2=\"28.2969\"/><text fill=\"#000000\" font-family=\"sans-serif\" font-size=\"14\" font-weight=\"bold\" lengthAdjust=\"spacingAndGlyphs\" textLength=\"121\" x=\"20\" y=\"20.9951\">PrivateImportTest</text></a><!--MD5=[e4f7fae6ed58524ba242bb0b0d3be6b7]\n",
       "cluster E2--><a href=\"psysml:dc5a646f-7a70-4bb5-8a84-dd766b7ca58f\" target=\"_top\" title=\"psysml:dc5a646f-7a70-4bb5-8a84-dd766b7ca58f\" xlink:actuate=\"onRequest\" xlink:href=\"psysml:dc5a646f-7a70-4bb5-8a84-dd766b7ca58f\" xlink:show=\"new\" xlink:title=\"psysml:dc5a646f-7a70-4bb5-8a84-dd766b7ca58f\" xlink:type=\"simple\"><polygon fill=\"#FFFFFF\" points=\"221,421,245,421,252,443.2969,358,443.2969,358,534,221,534,221,421\" style=\"stroke: #000000; stroke-width: 1.5;\"/><line style=\"stroke: #000000; stroke-width: 1.5;\" x1=\"221\" x2=\"252\" y1=\"443.2969\" y2=\"443.2969\"/><text fill=\"#000000\" font-family=\"sans-serif\" font-size=\"14\" font-weight=\"bold\" lengthAdjust=\"spacingAndGlyphs\" textLength=\"18\" x=\"225\" y=\"435.9951\">P1</text></a><!--MD5=[14e3b0961a2654348d326746436168a1]\n",
       "cluster E6--><a href=\"psysml:61bbaf9b-44aa-4d19-b1af-9f0be63c5dc6\" target=\"_top\" title=\"psysml:61bbaf9b-44aa-4d19-b1af-9f0be63c5dc6\" xlink:actuate=\"onRequest\" xlink:href=\"psysml:61bbaf9b-44aa-4d19-b1af-9f0be63c5dc6\" xlink:show=\"new\" xlink:title=\"psysml:61bbaf9b-44aa-4d19-b1af-9f0be63c5dc6\" xlink:type=\"simple\"><polygon fill=\"#FFFFFF\" points=\"64,243,88,243,95,265.2969,201,265.2969,201,356,64,356,64,243\" style=\"stroke: #000000; stroke-width: 1.5;\"/><line style=\"stroke: #000000; stroke-width: 1.5;\" x1=\"64\" x2=\"95\" y1=\"265.2969\" y2=\"265.2969\"/><text fill=\"#000000\" font-family=\"sans-serif\" font-size=\"14\" font-weight=\"bold\" lengthAdjust=\"spacingAndGlyphs\" textLength=\"18\" x=\"68\" y=\"257.9951\">P3</text></a><!--MD5=[7f149f147074ac12df2cb0a7728a5fb0]\n",
       "cluster E9--><a href=\"psysml:826bc35a-2948-4f0f-ac57-a46abe90dd77\" target=\"_top\" title=\"psysml:826bc35a-2948-4f0f-ac57-a46abe90dd77\" xlink:actuate=\"onRequest\" xlink:href=\"psysml:826bc35a-2948-4f0f-ac57-a46abe90dd77\" xlink:show=\"new\" xlink:title=\"psysml:826bc35a-2948-4f0f-ac57-a46abe90dd77\" xlink:type=\"simple\"><polygon fill=\"#FFFFFF\" points=\"252,65,276,65,283,87.2969,361,87.2969,361,178,252,178,252,65\" style=\"stroke: #000000; stroke-width: 1.5;\"/><line style=\"stroke: #000000; stroke-width: 1.5;\" x1=\"252\" x2=\"283\" y1=\"87.2969\" y2=\"87.2969\"/><text fill=\"#000000\" font-family=\"sans-serif\" font-size=\"14\" font-weight=\"bold\" lengthAdjust=\"spacingAndGlyphs\" textLength=\"18\" x=\"256\" y=\"79.9951\">P4</text></a><!--MD5=[270fce915f116d4de14055a7c1d9a0f3]\n",
       "class E5--><a href=\"psysml:ae255e73-333e-4dec-b11e-e996fbedcc54\" target=\"_top\" title=\"psysml:ae255e73-333e-4dec-b11e-e996fbedcc54\" xlink:actuate=\"onRequest\" xlink:href=\"psysml:ae255e73-333e-4dec-b11e-e996fbedcc54\" xlink:show=\"new\" xlink:title=\"psysml:ae255e73-333e-4dec-b11e-e996fbedcc54\" xlink:type=\"simple\"><rect fill=\"#FFFFFF\" height=\"45.9375\" id=\"E5\" rx=\"10\" ry=\"10\" style=\"stroke: #383838; stroke-width: 1.5;\" width=\"42\" x=\"335\" y=\"286\"/><text fill=\"#000000\" font-family=\"sans-serif\" font-size=\"12\" font-style=\"italic\" lengthAdjust=\"spacingAndGlyphs\" textLength=\"40\" x=\"336\" y=\"302.1387\">«part»</text><text fill=\"#000000\" font-family=\"sans-serif\" font-size=\"12\" lengthAdjust=\"spacingAndGlyphs\" textLength=\"22\" x=\"343\" y=\"316.1074\">x: A</text><line style=\"stroke: #383838; stroke-width: 1.5;\" x1=\"336\" x2=\"376\" y1=\"323.9375\" y2=\"323.9375\"/></a><!--MD5=[b9389687b975829384b498ac4b7476b2]\n",
       "class E8--><a href=\"psysml:3c42eaa7-d0d8-4753-a2b8-0968c7baa502\" target=\"_top\" title=\"psysml:3c42eaa7-d0d8-4753-a2b8-0968c7baa502\" xlink:actuate=\"onRequest\" xlink:href=\"psysml:3c42eaa7-d0d8-4753-a2b8-0968c7baa502\" xlink:show=\"new\" xlink:title=\"psysml:3c42eaa7-d0d8-4753-a2b8-0968c7baa502\" xlink:type=\"simple\"><rect fill=\"#FFFFFF\" height=\"45.9375\" id=\"E8\" rx=\"10\" ry=\"10\" style=\"stroke: #383838; stroke-width: 1.5;\" width=\"42\" x=\"183\" y=\"108\"/><text fill=\"#000000\" font-family=\"sans-serif\" font-size=\"12\" font-style=\"italic\" lengthAdjust=\"spacingAndGlyphs\" textLength=\"40\" x=\"184\" y=\"124.1387\">«part»</text><text fill=\"#000000\" font-family=\"sans-serif\" font-size=\"12\" lengthAdjust=\"spacingAndGlyphs\" textLength=\"21\" x=\"191.5\" y=\"138.1074\">z: B</text><line style=\"stroke: #383838; stroke-width: 1.5;\" x1=\"184\" x2=\"224\" y1=\"145.9375\" y2=\"145.9375\"/></a><!--MD5=[09b614a08d8cba4a07c9adeb5e0fee81]\n",
       "class E3--><a href=\"psysml:e52e2a8f-f908-40ce-88b1-6459229e6290\" target=\"_top\" title=\"psysml:e52e2a8f-f908-40ce-88b1-6459229e6290\" xlink:actuate=\"onRequest\" xlink:href=\"psysml:e52e2a8f-f908-40ce-88b1-6459229e6290\" xlink:show=\"new\" xlink:title=\"psysml:e52e2a8f-f908-40ce-88b1-6459229e6290\" xlink:type=\"simple\"><rect fill=\"#FFFFFF\" height=\"45.9375\" id=\"E3\" style=\"stroke: #383838; stroke-width: 1.5;\" width=\"70\" x=\"264\" y=\"464\"/><text fill=\"#000000\" font-family=\"sans-serif\" font-size=\"12\" font-style=\"italic\" lengthAdjust=\"spacingAndGlyphs\" textLength=\"68\" x=\"265\" y=\"480.1387\">«part  def»</text><text fill=\"#000000\" font-family=\"sans-serif\" font-size=\"12\" lengthAdjust=\"spacingAndGlyphs\" textLength=\"8\" x=\"295\" y=\"494.1074\">A</text><line style=\"stroke: #383838; stroke-width: 1.5;\" x1=\"265\" x2=\"333\" y1=\"501.9375\" y2=\"501.9375\"/></a><a href=\"psysml:b07c7c49-60b3-45d9-ab30-3f9ccb4621b1\" target=\"_top\" title=\"psysml:b07c7c49-60b3-45d9-ab30-3f9ccb4621b1\" xlink:actuate=\"onRequest\" xlink:href=\"psysml:b07c7c49-60b3-45d9-ab30-3f9ccb4621b1\" xlink:show=\"new\" xlink:title=\"psysml:b07c7c49-60b3-45d9-ab30-3f9ccb4621b1\" xlink:type=\"simple\"><polygon fill=\"#FFFFFF\" points=\"225,282.5,249,282.5,256,304.7969,263,304.7969,263,335.0938,225,335.0938,225,282.5\" style=\"stroke: #000000; stroke-width: 1.5;\"/><line style=\"stroke: #000000; stroke-width: 1.5;\" x1=\"225\" x2=\"256\" y1=\"304.7969\" y2=\"304.7969\"/><text fill=\"#000000\" font-family=\"sans-serif\" font-size=\"14\" font-weight=\"bold\" lengthAdjust=\"spacingAndGlyphs\" textLength=\"18\" x=\"229\" y=\"297.4951\">P2</text></a><!--MD5=[2156ba9850f5573cc1fc38a6a4b2f02b]\n",
       "class E7--><a href=\"psysml:f5eaf228-c184-457d-ba82-3236315ba9d3\" target=\"_top\" title=\"psysml:f5eaf228-c184-457d-ba82-3236315ba9d3\" xlink:actuate=\"onRequest\" xlink:href=\"psysml:f5eaf228-c184-457d-ba82-3236315ba9d3\" xlink:show=\"new\" xlink:title=\"psysml:f5eaf228-c184-457d-ba82-3236315ba9d3\" xlink:type=\"simple\"><rect fill=\"#FFFFFF\" height=\"45.9375\" id=\"E7\" style=\"stroke: #383838; stroke-width: 1.5;\" width=\"70\" x=\"107\" y=\"286\"/><text fill=\"#000000\" font-family=\"sans-serif\" font-size=\"12\" font-style=\"italic\" lengthAdjust=\"spacingAndGlyphs\" textLength=\"68\" x=\"108\" y=\"302.1387\">«part  def»</text><text fill=\"#000000\" font-family=\"sans-serif\" font-size=\"12\" lengthAdjust=\"spacingAndGlyphs\" textLength=\"8\" x=\"138\" y=\"316.1074\">B</text><line style=\"stroke: #383838; stroke-width: 1.5;\" x1=\"108\" x2=\"176\" y1=\"323.9375\" y2=\"323.9375\"/></a><!--MD5=[96f4274e9e20536e775497830990834d]\n",
       "class E10--><a href=\"psysml:bd10993a-8e6e-4149-83fc-2dc02c68e6fc\" target=\"_top\" title=\"psysml:bd10993a-8e6e-4149-83fc-2dc02c68e6fc\" xlink:actuate=\"onRequest\" xlink:href=\"psysml:bd10993a-8e6e-4149-83fc-2dc02c68e6fc\" xlink:show=\"new\" xlink:title=\"psysml:bd10993a-8e6e-4149-83fc-2dc02c68e6fc\" xlink:type=\"simple\"><rect fill=\"#FFFFFF\" height=\"45.9375\" id=\"E10\" rx=\"10\" ry=\"10\" style=\"stroke: #383838; stroke-width: 1.5;\" width=\"42\" x=\"295\" y=\"108\"/><text fill=\"#000000\" font-family=\"sans-serif\" font-size=\"12\" font-style=\"italic\" lengthAdjust=\"spacingAndGlyphs\" textLength=\"40\" x=\"296\" y=\"124.1387\">«part»</text><text fill=\"#000000\" font-family=\"sans-serif\" font-size=\"12\" lengthAdjust=\"spacingAndGlyphs\" textLength=\"29\" x=\"299.5\" y=\"138.1074\">z1: A</text><line style=\"stroke: #383838; stroke-width: 1.5;\" x1=\"296\" x2=\"336\" y1=\"145.9375\" y2=\"145.9375\"/></a><!--MD5=[185131fc0dcab0a4505a2ebe144e961b]\n",
       "link E4 to E2--><a href=\"psysml:9c76a3dc-4160-42f2-8d03-f28cee99dd8d\" target=\"_top\" title=\"psysml:9c76a3dc-4160-42f2-8d03-f28cee99dd8d\" xlink:actuate=\"onRequest\" xlink:href=\"psysml:9c76a3dc-4160-42f2-8d03-f28cee99dd8d\" xlink:show=\"new\" xlink:title=\"psysml:9c76a3dc-4160-42f2-8d03-f28cee99dd8d\" xlink:type=\"simple\"><path d=\"M229,335.65 C229,347.4825 229,362.2694 229,377.9309 C229,385.7617 229,393.8112 229,401.8193 C229,405.8234 229,409.8172 229,413.7681 C229,415.7436 229,417.7084 229,419.6584 C229,419.9021 229,420.1456 229,420.3889 \" fill=\"none\" id=\"E4-&gt;E2\" style=\"stroke: #383838; stroke-width: 1.0; stroke-dasharray: 7.0,7.0;\"/><polygon fill=\"#383838\" points=\"229,420.3889,233,411.3889,229,415.3889,225,411.3889,229,420.3889\" style=\"stroke: #383838; stroke-width: 1.0;\"/><text fill=\"#000000\" font-family=\"sans-serif\" font-size=\"13\" lengthAdjust=\"spacingAndGlyphs\" textLength=\"65\" x=\"227\" y=\"393.0669\">«import»*</text></a><!--MD5=[e9be52314489bd878ff4c7144b63c9e1]\n",
       "link E5 to E3--><a href=\"psysml:7e781afb-bb69-45b4-99ca-abeca0fc5181\" target=\"_top\" title=\"psysml:7e781afb-bb69-45b4-99ca-abeca0fc5181\" xlink:actuate=\"onRequest\" xlink:href=\"psysml:7e781afb-bb69-45b4-99ca-abeca0fc5181\" xlink:show=\"new\" xlink:title=\"psysml:7e781afb-bb69-45b4-99ca-abeca0fc5181\" xlink:type=\"simple\"><path d=\"M334.83,309 C327.46,309 321,309 321,309 C321,309 321,443.73 321,443.73 \" fill=\"none\" id=\"E5-&gt;E3\" style=\"stroke: #383838; stroke-width: 1.0;\"/><polygon fill=\"#FFFFFF\" points=\"321,463.73,314,444.73,328,444.73,321,463.73\" style=\"stroke: #383838; stroke-width: 1.0;\"/><ellipse cx=\"316\" cy=\"439.03\" fill=\"#383838\" rx=\"2\" ry=\"2\" style=\"stroke: #383838; stroke-width: 1.0;\"/><ellipse cx=\"326\" cy=\"439.03\" fill=\"#383838\" rx=\"2\" ry=\"2\" style=\"stroke: #383838; stroke-width: 1.0;\"/></a><!--MD5=[ee384bb554873b72f85793eae40e290c]\n",
       "link E1 to E4--><a href=\"psysml:3abfa817-381d-4c68-8935-6fa98a0aa2e6\" target=\"_top\" title=\"psysml:3abfa817-381d-4c68-8935-6fa98a0aa2e6\" xlink:actuate=\"onRequest\" xlink:href=\"psysml:3abfa817-381d-4c68-8935-6fa98a0aa2e6\" xlink:show=\"new\" xlink:title=\"psysml:3abfa817-381d-4c68-8935-6fa98a0aa2e6\" xlink:type=\"simple\"><path d=\"M24,131.56 C24,139.06 24,219 24,219 C24,219 242,219 242,219 C242,219 242,277.48 242,277.48 \" fill=\"none\" id=\"E1-&gt;E4\" style=\"stroke: #383838; stroke-width: 1.0; stroke-dasharray: 7.0,7.0;\"/><polygon fill=\"#383838\" points=\"242,282.48,246,273.48,242,277.48,238,273.48,242,282.48\" style=\"stroke: #383838; stroke-width: 1.0;\"/><text fill=\"#000000\" font-family=\"sans-serif\" font-size=\"13\" lengthAdjust=\"spacingAndGlyphs\" textLength=\"65\" x=\"167\" y=\"215.0669\">«import»*</text></a><!--MD5=[ccbd3af71bf83df0ec2a2db62d6d7130]\n",
       "link E1 to E6--><a href=\"psysml:38071c17-dcc7-47a2-931c-5199b5c10531\" target=\"_top\" title=\"psysml:38071c17-dcc7-47a2-931c-5199b5c10531\" xlink:actuate=\"onRequest\" xlink:href=\"psysml:38071c17-dcc7-47a2-931c-5199b5c10531\" xlink:show=\"new\" xlink:title=\"psysml:38071c17-dcc7-47a2-931c-5199b5c10531\" xlink:type=\"simple\"><path d=\"M24.54,131 C29.81,131 72,131 72,131 C72,131 72,172.7625 72,215.83 C72,221.2134 72,226.6173 72,231.9625 C72,234.6351 72,237.293 72,239.9264 C72,240.5848 72,241.2416 72,241.8967 C72,242.2243 72,242.5514 72,242.8781 \" fill=\"none\" id=\"E1-&gt;E6\" style=\"stroke: #383838; stroke-width: 1.0; stroke-dasharray: 7.0,7.0;\"/><polygon fill=\"#383838\" points=\"72,242.8781,76,233.8781,72,237.8781,68,233.8781,72,242.8781\" style=\"stroke: #383838; stroke-width: 1.0;\"/><text fill=\"#000000\" font-family=\"sans-serif\" font-size=\"13\" lengthAdjust=\"spacingAndGlyphs\" textLength=\"65\" x=\"60\" y=\"215.0669\">«import»*</text></a><!--MD5=[bfa3c8b0d15052fdf50ae9310b491027]\n",
       "link E8 to E7--><a href=\"psysml:84039e37-6732-4e81-a24d-af568a8fc4d2\" target=\"_top\" title=\"psysml:84039e37-6732-4e81-a24d-af568a8fc4d2\" xlink:actuate=\"onRequest\" xlink:href=\"psysml:84039e37-6732-4e81-a24d-af568a8fc4d2\" xlink:show=\"new\" xlink:title=\"psysml:84039e37-6732-4e81-a24d-af568a8fc4d2\" xlink:type=\"simple\"><path d=\"M204,154.27 C204,202.52 204,309 204,309 C204,309 197.35,309 197.35,309 \" fill=\"none\" id=\"E8-&gt;E7\" style=\"stroke: #383838; stroke-width: 1.0;\"/><polygon fill=\"#FFFFFF\" points=\"177.35,309,196.35,302,196.35,316,177.35,309\" style=\"stroke: #383838; stroke-width: 1.0;\"/><ellipse cx=\"202.05\" cy=\"304\" fill=\"#383838\" rx=\"2\" ry=\"2\" style=\"stroke: #383838; stroke-width: 1.0;\"/><ellipse cx=\"202.05\" cy=\"314\" fill=\"#383838\" rx=\"2\" ry=\"2\" style=\"stroke: #383838; stroke-width: 1.0;\"/></a><!--MD5=[c2be97adba6ddfe1c8f349fab141c927]\n",
       "link E9 to E4--><a href=\"psysml:f4a7c8b4-50d4-4d21-9428-75951a767795\" target=\"_top\" title=\"psysml:f4a7c8b4-50d4-4d21-9428-75951a767795\" xlink:actuate=\"onRequest\" xlink:href=\"psysml:f4a7c8b4-50d4-4d21-9428-75951a767795\" xlink:show=\"new\" xlink:title=\"psysml:f4a7c8b4-50d4-4d21-9428-75951a767795\" xlink:type=\"simple\"><path d=\"M260,178.4607 C260,178.7288 260,178.9975 260,179.2667 C260,179.8052 260,180.3457 260,180.8882 C260,181.9731 260,183.0658 260,184.1652 C260,186.364 260,188.5895 260,190.8328 C260,195.3194 260,199.8772 260,204.435 C260,240.8975 260,277.36 260,277.36 \" fill=\"none\" id=\"E9-&gt;E4\" style=\"stroke: #383838; stroke-width: 1.0; stroke-dasharray: 7.0,7.0;\"/><polygon fill=\"#383838\" points=\"260,282.36,264,273.36,260,277.36,256,273.36,260,282.36\" style=\"stroke: #383838; stroke-width: 1.0;\"/><text fill=\"#000000\" font-family=\"sans-serif\" font-size=\"13\" lengthAdjust=\"spacingAndGlyphs\" textLength=\"65\" x=\"281\" y=\"215.0669\">«import»*</text></a><!--MD5=[feeac5eb423634930294aa81f2d25a4c]\n",
       "link E10 to E3--><a href=\"psysml:ff7299d7-bc25-43a3-abcf-daa45aa95a4b\" target=\"_top\" title=\"psysml:ff7299d7-bc25-43a3-abcf-daa45aa95a4b\" xlink:actuate=\"onRequest\" xlink:href=\"psysml:ff7299d7-bc25-43a3-abcf-daa45aa95a4b\" xlink:show=\"new\" xlink:title=\"psysml:ff7299d7-bc25-43a3-abcf-daa45aa95a4b\" xlink:type=\"simple\"><path d=\"M308,154.08 C308,154.08 308,443.97 308,443.97 \" fill=\"none\" id=\"E10-&gt;E3\" style=\"stroke: #383838; stroke-width: 1.0;\"/><polygon fill=\"#FFFFFF\" points=\"308,463.97,301,444.97,315,444.97,308,463.97\" style=\"stroke: #383838; stroke-width: 1.0;\"/><ellipse cx=\"303\" cy=\"439.27\" fill=\"#383838\" rx=\"2\" ry=\"2\" style=\"stroke: #383838; stroke-width: 1.0;\"/><ellipse cx=\"313\" cy=\"439.27\" fill=\"#383838\" rx=\"2\" ry=\"2\" style=\"stroke: #383838; stroke-width: 1.0;\"/></a><!--MD5=[6c181da342a35700dbd1c6f0d845f131]\n",
       "@startuml\r\n",
       "skinparam linetype ortho\r\n",
       "skinparam monochrome true\r\n",
       "skinparam classbackgroundcolor white\r\n",
       "skinparam shadowing false\r\n",
       "skinparam wrapWidth 300\r\n",
       "hide circle\r\n",
       "\r\n",
       "package \"PrivateImportTest\" as E1  [[psysml:8f933ba8-0ed5-4db5-b82c-58b1e568922b ]]  {\r\n",
       "package \"P1\" as E2  [[psysml:dc5a646f-7a70-4bb5-8a84-dd766b7ca58f ]]  {\r\n",
       "comp def \"A\" as E3  <<(T,blue) part  def>> [[psysml:e52e2a8f-f908-40ce-88b1-6459229e6290 ]] {\r\n",
       "}\r\n",
       "}\r\n",
       "package \"P2\" as E4  [[psysml:b07c7c49-60b3-45d9-ab30-3f9ccb4621b1 ]]  {\r\n",
       "}\r\n",
       "comp usage \"x: A \" as E5  <<(T,blue) part>> [[psysml:ae255e73-333e-4dec-b11e-e996fbedcc54 ]] {\r\n",
       "}\r\n",
       "package \"P3\" as E6  [[psysml:61bbaf9b-44aa-4d19-b1af-9f0be63c5dc6 ]]  {\r\n",
       "comp def \"B\" as E7  <<(T,blue) part  def>> [[psysml:f5eaf228-c184-457d-ba82-3236315ba9d3 ]] {\r\n",
       "}\r\n",
       "}\r\n",
       "comp usage \"z: B \" as E8  <<(T,blue) part>> [[psysml:3c42eaa7-d0d8-4753-a2b8-0968c7baa502 ]] {\r\n",
       "}\r\n",
       "package \"P4\" as E9  [[psysml:826bc35a-2948-4f0f-ac57-a46abe90dd77 ]]  {\r\n",
       "comp usage \"z1: A \" as E10  <<(T,blue) part>> [[psysml:bd10993a-8e6e-4149-83fc-2dc02c68e6fc ]] {\r\n",
       "}\r\n",
       "}\r\n",
       "}\r\n",
       "E4 ..> E2 [[psysml:9c76a3dc-4160-42f2-8d03-f28cee99dd8d ]] : <<import>>*\r\n",
       "E5 - -:|> E3 [[psysml:7e781afb-bb69-45b4-99ca-abeca0fc5181 ]] \r\n",
       "E1 ..> E4 [[psysml:3abfa817-381d-4c68-8935-6fa98a0aa2e6 ]] : <<import>>*\r\n",
       "E1 ..> E6 [[psysml:38071c17-dcc7-47a2-931c-5199b5c10531 ]] : <<import>>*\r\n",
       "E8 - -:|> E7 [[psysml:84039e37-6732-4e81-a24d-af568a8fc4d2 ]] \r\n",
       "E9 ..> E4 [[psysml:f4a7c8b4-50d4-4d21-9428-75951a767795 ]] : <<import>>*\r\n",
       "E10 - -:|> E3 [[psysml:ff7299d7-bc25-43a3-abcf-daa45aa95a4b ]] \r\n",
       "@enduml\r\n",
       "\n",
       "PlantUML version 1.2020.13(Sat Jun 13 12:26:38 UTC 2020)\n",
       "(EPL source distribution)\n",
       "Java Runtime: OpenJDK Runtime Environment\n",
       "JVM: OpenJDK 64-Bit Server VM\n",
       "Default Encoding: UTF-8\n",
       "Language: en\n",
       "Country: null\n",
       "--></g></svg>"
      ]
     },
     "execution_count": 52,
     "metadata": {},
     "output_type": "execute_result"
    }
   ],
   "source": [
    "%viz --style=\"ORTHOLINE\" --view=\"Tree\" \"PrivateImportTest\""
   ]
  },
  {
   "cell_type": "code",
   "execution_count": 53,
   "id": "a27b4390",
   "metadata": {
    "execution": {
     "iopub.execute_input": "2022-08-19T08:19:19.763286Z",
     "iopub.status.busy": "2022-08-19T08:19:19.762846Z",
     "iopub.status.idle": "2022-08-19T08:19:19.768366Z",
     "shell.execute_reply": "2022-08-19T08:19:19.767970Z"
    }
   },
   "outputs": [
    {
     "data": {
      "image/svg+xml": [
       "<?xml version=\"1.0\" encoding=\"UTF-8\" standalone=\"no\"?><svg xmlns=\"http://www.w3.org/2000/svg\" xmlns:xlink=\"http://www.w3.org/1999/xlink\" contentScriptType=\"application/ecmascript\" contentStyleType=\"text/css\" height=\"12px\" preserveAspectRatio=\"none\" style=\"width:12px;height:12px;\" version=\"1.1\" viewBox=\"0 0 12 12\" width=\"12px\" zoomAndPan=\"magnify\"><defs/><g><!--MD5=[97d6f38768b311333d388e66b2b27985]\n",
       "@startuml\r\n",
       "skinparam linetype ortho\r\n",
       "skinparam monochrome true\r\n",
       "skinparam classbackgroundcolor white\r\n",
       "skinparam shadowing false\r\n",
       "skinparam wrapWidth 300\r\n",
       "hide circle\r\n",
       "\r\n",
       "@enduml\r\n",
       "\n",
       "PlantUML version 1.2020.13(Sat Jun 13 12:26:38 UTC 2020)\n",
       "(EPL source distribution)\n",
       "Java Runtime: OpenJDK Runtime Environment\n",
       "JVM: OpenJDK 64-Bit Server VM\n",
       "Default Encoding: UTF-8\n",
       "Language: en\n",
       "Country: null\n",
       "--></g></svg>"
      ]
     },
     "execution_count": 53,
     "metadata": {},
     "output_type": "execute_result"
    }
   ],
   "source": [
    "%viz --style=\"ORTHOLINE\" --view=\"State\" \"PrivateImportTest\""
   ]
  },
  {
   "cell_type": "code",
   "execution_count": 54,
   "id": "9ea5a61d",
   "metadata": {
    "execution": {
     "iopub.execute_input": "2022-08-19T08:19:19.818026Z",
     "iopub.status.busy": "2022-08-19T08:19:19.817586Z",
     "iopub.status.idle": "2022-08-19T08:19:19.853967Z",
     "shell.execute_reply": "2022-08-19T08:19:19.852548Z"
    }
   },
   "outputs": [
    {
     "data": {
      "image/svg+xml": [
       "<?xml version=\"1.0\" encoding=\"UTF-8\" standalone=\"no\"?><svg xmlns=\"http://www.w3.org/2000/svg\" xmlns:xlink=\"http://www.w3.org/1999/xlink\" contentScriptType=\"application/ecmascript\" contentStyleType=\"text/css\" height=\"574px\" preserveAspectRatio=\"none\" style=\"width:436px;height:574px;\" version=\"1.1\" viewBox=\"0 0 436 574\" width=\"436px\" zoomAndPan=\"magnify\"><defs/><g><!--MD5=[fbc87193dbaf4d95561dea2c320d4a47]\n",
       "cluster E1--><a href=\"psysml:8f933ba8-0ed5-4db5-b82c-58b1e568922b\" target=\"_top\" title=\"psysml:8f933ba8-0ed5-4db5-b82c-58b1e568922b\" xlink:actuate=\"onRequest\" xlink:href=\"psysml:8f933ba8-0ed5-4db5-b82c-58b1e568922b\" xlink:show=\"new\" xlink:title=\"psysml:8f933ba8-0ed5-4db5-b82c-58b1e568922b\" xlink:type=\"simple\"><polygon fill=\"#FFFFFF\" points=\"16,6,143,6,150,28.2969,414,28.2969,414,562,16,562,16,6\" style=\"stroke: #000000; stroke-width: 1.5;\"/><line style=\"stroke: #000000; stroke-width: 1.5;\" x1=\"16\" x2=\"150\" y1=\"28.2969\" y2=\"28.2969\"/><text fill=\"#000000\" font-family=\"sans-serif\" font-size=\"14\" font-weight=\"bold\" lengthAdjust=\"spacingAndGlyphs\" textLength=\"121\" x=\"20\" y=\"20.9951\">PrivateImportTest</text></a><!--MD5=[e4f7fae6ed58524ba242bb0b0d3be6b7]\n",
       "cluster E2--><a href=\"psysml:dc5a646f-7a70-4bb5-8a84-dd766b7ca58f\" target=\"_top\" title=\"psysml:dc5a646f-7a70-4bb5-8a84-dd766b7ca58f\" xlink:actuate=\"onRequest\" xlink:href=\"psysml:dc5a646f-7a70-4bb5-8a84-dd766b7ca58f\" xlink:show=\"new\" xlink:title=\"psysml:dc5a646f-7a70-4bb5-8a84-dd766b7ca58f\" xlink:type=\"simple\"><polygon fill=\"#FFFFFF\" points=\"223,412,247,412,254,434.2969,365,434.2969,365,522,223,522,223,412\" style=\"stroke: #000000; stroke-width: 1.5;\"/><line style=\"stroke: #000000; stroke-width: 1.5;\" x1=\"223\" x2=\"254\" y1=\"434.2969\" y2=\"434.2969\"/><text fill=\"#000000\" font-family=\"sans-serif\" font-size=\"14\" font-weight=\"bold\" lengthAdjust=\"spacingAndGlyphs\" textLength=\"18\" x=\"227\" y=\"426.9951\">P1</text></a><!--MD5=[14e3b0961a2654348d326746436168a1]\n",
       "cluster E6--><a href=\"psysml:61bbaf9b-44aa-4d19-b1af-9f0be63c5dc6\" target=\"_top\" title=\"psysml:61bbaf9b-44aa-4d19-b1af-9f0be63c5dc6\" xlink:actuate=\"onRequest\" xlink:href=\"psysml:61bbaf9b-44aa-4d19-b1af-9f0be63c5dc6\" xlink:show=\"new\" xlink:title=\"psysml:61bbaf9b-44aa-4d19-b1af-9f0be63c5dc6\" xlink:type=\"simple\"><polygon fill=\"#FFFFFF\" points=\"64,237,88,237,95,259.2969,206,259.2969,206,347,64,347,64,237\" style=\"stroke: #000000; stroke-width: 1.5;\"/><line style=\"stroke: #000000; stroke-width: 1.5;\" x1=\"64\" x2=\"95\" y1=\"259.2969\" y2=\"259.2969\"/><text fill=\"#000000\" font-family=\"sans-serif\" font-size=\"14\" font-weight=\"bold\" lengthAdjust=\"spacingAndGlyphs\" textLength=\"18\" x=\"68\" y=\"251.9951\">P3</text></a><!--MD5=[7f149f147074ac12df2cb0a7728a5fb0]\n",
       "cluster E9--><a href=\"psysml:826bc35a-2948-4f0f-ac57-a46abe90dd77\" target=\"_top\" title=\"psysml:826bc35a-2948-4f0f-ac57-a46abe90dd77\" xlink:actuate=\"onRequest\" xlink:href=\"psysml:826bc35a-2948-4f0f-ac57-a46abe90dd77\" xlink:show=\"new\" xlink:title=\"psysml:826bc35a-2948-4f0f-ac57-a46abe90dd77\" xlink:type=\"simple\"><polygon fill=\"#FFFFFF\" points=\"257,65,281,65,288,87.2969,374,87.2969,374,172,257,172,257,65\" style=\"stroke: #000000; stroke-width: 1.5;\"/><line style=\"stroke: #000000; stroke-width: 1.5;\" x1=\"257\" x2=\"288\" y1=\"87.2969\" y2=\"87.2969\"/><text fill=\"#000000\" font-family=\"sans-serif\" font-size=\"14\" font-weight=\"bold\" lengthAdjust=\"spacingAndGlyphs\" textLength=\"18\" x=\"261\" y=\"79.9951\">P4</text></a><g id=\"E1.E2.E3\"><a href=\"psysml:e52e2a8f-f908-40ce-88b1-6459229e6290\" target=\"_top\" title=\"psysml:e52e2a8f-f908-40ce-88b1-6459229e6290\" xlink:actuate=\"onRequest\" xlink:href=\"psysml:e52e2a8f-f908-40ce-88b1-6459229e6290\" xlink:show=\"new\" xlink:title=\"psysml:e52e2a8f-f908-40ce-88b1-6459229e6290\" xlink:type=\"simple\"><rect fill=\"#FFFFFF\" height=\"42.9375\" id=\"E3\" style=\"stroke: #383838; stroke-width: 1.5;\" width=\"75\" x=\"266.5\" y=\"455\"/><rect fill=\"#F8F8F8\" height=\"37.9375\" style=\"stroke: #383838; stroke-width: 1.5;\" width=\"75\" x=\"266.5\" y=\"455\"/><text fill=\"#000000\" font-family=\"sans-serif\" font-size=\"12\" font-style=\"italic\" lengthAdjust=\"spacingAndGlyphs\" textLength=\"68\" x=\"270\" y=\"471.1387\">«part  def»</text><text fill=\"#000000\" font-family=\"sans-serif\" font-size=\"12\" lengthAdjust=\"spacingAndGlyphs\" textLength=\"8\" x=\"300\" y=\"485.1074\">A</text></a></g><a href=\"psysml:b07c7c49-60b3-45d9-ab30-3f9ccb4621b1\" target=\"_top\" title=\"psysml:b07c7c49-60b3-45d9-ab30-3f9ccb4621b1\" xlink:actuate=\"onRequest\" xlink:href=\"psysml:b07c7c49-60b3-45d9-ab30-3f9ccb4621b1\" xlink:show=\"new\" xlink:title=\"psysml:b07c7c49-60b3-45d9-ab30-3f9ccb4621b1\" xlink:type=\"simple\"><polygon fill=\"#FFFFFF\" points=\"230,275,254,275,261,297.2969,268,297.2969,268,327.5938,230,327.5938,230,275\" style=\"stroke: #000000; stroke-width: 1.5;\"/><line style=\"stroke: #000000; stroke-width: 1.5;\" x1=\"230\" x2=\"261\" y1=\"297.2969\" y2=\"297.2969\"/><text fill=\"#000000\" font-family=\"sans-serif\" font-size=\"14\" font-weight=\"bold\" lengthAdjust=\"spacingAndGlyphs\" textLength=\"18\" x=\"234\" y=\"289.9951\">P2</text></a><g id=\"E1.E5\"><a href=\"psysml:ae255e73-333e-4dec-b11e-e996fbedcc54\" target=\"_top\" title=\"psysml:ae255e73-333e-4dec-b11e-e996fbedcc54\" xlink:actuate=\"onRequest\" xlink:href=\"psysml:ae255e73-333e-4dec-b11e-e996fbedcc54\" xlink:show=\"new\" xlink:title=\"psysml:ae255e73-333e-4dec-b11e-e996fbedcc54\" xlink:type=\"simple\"><rect fill=\"#FFFFFF\" height=\"40\" id=\"E5\" rx=\"10\" ry=\"10\" style=\"stroke: #383838; stroke-width: 1.5;\" width=\"50\" x=\"340\" y=\"281.5\"/><rect fill=\"#F8F8F8\" height=\"23.9688\" rx=\"10\" ry=\"10\" style=\"stroke: #F8F8F8; stroke-width: 1.5;\" width=\"50\" x=\"340\" y=\"281.5\"/><rect fill=\"#F8F8F8\" height=\"10\" style=\"stroke: #F8F8F8; stroke-width: 1.5;\" width=\"50\" x=\"340\" y=\"295.4688\"/><rect fill=\"none\" height=\"40\" id=\"E5\" rx=\"10\" ry=\"10\" style=\"stroke: #383838; stroke-width: 1.5;\" width=\"50\" x=\"340\" y=\"281.5\"/><text fill=\"#000000\" font-family=\"sans-serif\" font-size=\"12\" lengthAdjust=\"spacingAndGlyphs\" textLength=\"22\" x=\"354\" y=\"297.6387\">x: A</text></a></g><g id=\"E1.E6.E7\"><a href=\"psysml:f5eaf228-c184-457d-ba82-3236315ba9d3\" target=\"_top\" title=\"psysml:f5eaf228-c184-457d-ba82-3236315ba9d3\" xlink:actuate=\"onRequest\" xlink:href=\"psysml:f5eaf228-c184-457d-ba82-3236315ba9d3\" xlink:show=\"new\" xlink:title=\"psysml:f5eaf228-c184-457d-ba82-3236315ba9d3\" xlink:type=\"simple\"><rect fill=\"#FFFFFF\" height=\"42.9375\" id=\"E7\" style=\"stroke: #383838; stroke-width: 1.5;\" width=\"75\" x=\"107.5\" y=\"280\"/><rect fill=\"#F8F8F8\" height=\"37.9375\" style=\"stroke: #383838; stroke-width: 1.5;\" width=\"75\" x=\"107.5\" y=\"280\"/><text fill=\"#000000\" font-family=\"sans-serif\" font-size=\"12\" font-style=\"italic\" lengthAdjust=\"spacingAndGlyphs\" textLength=\"68\" x=\"111\" y=\"296.1387\">«part  def»</text><text fill=\"#000000\" font-family=\"sans-serif\" font-size=\"12\" lengthAdjust=\"spacingAndGlyphs\" textLength=\"8\" x=\"141\" y=\"310.1074\">B</text></a></g><g id=\"E1.E8\"><a href=\"psysml:3c42eaa7-d0d8-4753-a2b8-0968c7baa502\" target=\"_top\" title=\"psysml:3c42eaa7-d0d8-4753-a2b8-0968c7baa502\" xlink:actuate=\"onRequest\" xlink:href=\"psysml:3c42eaa7-d0d8-4753-a2b8-0968c7baa502\" xlink:show=\"new\" xlink:title=\"psysml:3c42eaa7-d0d8-4753-a2b8-0968c7baa502\" xlink:type=\"simple\"><rect fill=\"#FFFFFF\" height=\"40\" id=\"E8\" rx=\"10\" ry=\"10\" style=\"stroke: #383838; stroke-width: 1.5;\" width=\"50\" x=\"180\" y=\"108\"/><rect fill=\"#F8F8F8\" height=\"23.9688\" rx=\"10\" ry=\"10\" style=\"stroke: #F8F8F8; stroke-width: 1.5;\" width=\"50\" x=\"180\" y=\"108\"/><rect fill=\"#F8F8F8\" height=\"10\" style=\"stroke: #F8F8F8; stroke-width: 1.5;\" width=\"50\" x=\"180\" y=\"121.9688\"/><rect fill=\"none\" height=\"40\" id=\"E8\" rx=\"10\" ry=\"10\" style=\"stroke: #383838; stroke-width: 1.5;\" width=\"50\" x=\"180\" y=\"108\"/><text fill=\"#000000\" font-family=\"sans-serif\" font-size=\"12\" lengthAdjust=\"spacingAndGlyphs\" textLength=\"21\" x=\"194.5\" y=\"124.1387\">z: B</text></a></g><g id=\"E1.E9.E10\"><a href=\"psysml:bd10993a-8e6e-4149-83fc-2dc02c68e6fc\" target=\"_top\" title=\"psysml:bd10993a-8e6e-4149-83fc-2dc02c68e6fc\" xlink:actuate=\"onRequest\" xlink:href=\"psysml:bd10993a-8e6e-4149-83fc-2dc02c68e6fc\" xlink:show=\"new\" xlink:title=\"psysml:bd10993a-8e6e-4149-83fc-2dc02c68e6fc\" xlink:type=\"simple\"><rect fill=\"#FFFFFF\" height=\"40\" id=\"E10\" rx=\"10\" ry=\"10\" style=\"stroke: #383838; stroke-width: 1.5;\" width=\"50\" x=\"300\" y=\"108\"/><rect fill=\"#F8F8F8\" height=\"23.9688\" rx=\"10\" ry=\"10\" style=\"stroke: #F8F8F8; stroke-width: 1.5;\" width=\"50\" x=\"300\" y=\"108\"/><rect fill=\"#F8F8F8\" height=\"10\" style=\"stroke: #F8F8F8; stroke-width: 1.5;\" width=\"50\" x=\"300\" y=\"121.9688\"/><rect fill=\"none\" height=\"40\" id=\"E10\" rx=\"10\" ry=\"10\" style=\"stroke: #383838; stroke-width: 1.5;\" width=\"50\" x=\"300\" y=\"108\"/><text fill=\"#000000\" font-family=\"sans-serif\" font-size=\"12\" lengthAdjust=\"spacingAndGlyphs\" textLength=\"29\" x=\"310.5\" y=\"124.1387\">z1: A</text></a></g><!--MD5=[185131fc0dcab0a4505a2ebe144e961b]\n",
       "link E4 to E2--><a href=\"psysml:9c76a3dc-4160-42f2-8d03-f28cee99dd8d\" target=\"_top\" title=\"psysml:9c76a3dc-4160-42f2-8d03-f28cee99dd8d\" xlink:actuate=\"onRequest\" xlink:href=\"psysml:9c76a3dc-4160-42f2-8d03-f28cee99dd8d\" xlink:show=\"new\" xlink:title=\"psysml:9c76a3dc-4160-42f2-8d03-f28cee99dd8d\" xlink:type=\"simple\"><path d=\"M231,328.08 C231,339.745 231,354.2781 231,369.6502 C231,377.3362 231,385.2319 231,393.0837 C231,397.0096 231,400.9246 231,404.7968 C231,406.7329 231,408.6584 231,410.5692 C231,411.0469 231,411.5237 231,411.9995 \" fill=\"none\" id=\"E4-&gt;E2\" style=\"stroke: #383838; stroke-width: 1.0; stroke-dasharray: 7.0,7.0;\"/><polygon fill=\"#383838\" points=\"231,411.9995,235,402.9995,231,406.9995,227,402.9995,231,411.9995\" style=\"stroke: #383838; stroke-width: 1.0;\"/><text fill=\"#000000\" font-family=\"sans-serif\" font-size=\"13\" lengthAdjust=\"spacingAndGlyphs\" textLength=\"65\" x=\"232\" y=\"384.0669\">«import»*</text></a><!--MD5=[e9be52314489bd878ff4c7144b63c9e1]\n",
       "link E5 to E3--><a href=\"psysml:7e781afb-bb69-45b4-99ca-abeca0fc5181\" target=\"_top\" title=\"psysml:7e781afb-bb69-45b4-99ca-abeca0fc5181\" xlink:actuate=\"onRequest\" xlink:href=\"psysml:7e781afb-bb69-45b4-99ca-abeca0fc5181\" xlink:show=\"new\" xlink:title=\"psysml:7e781afb-bb69-45b4-99ca-abeca0fc5181\" xlink:type=\"simple\"><path d=\"M339.64,302 C332.52,302 326.67,302 326.67,302 C326.67,302 326.67,434.75 326.67,434.75 \" fill=\"none\" id=\"E5-&gt;E3\" style=\"stroke: #383838; stroke-width: 1.0;\"/><polygon fill=\"#FFFFFF\" points=\"326.67,454.75,319.67,435.75,333.67,435.75,326.67,454.75\" style=\"stroke: #383838; stroke-width: 1.0;\"/><ellipse cx=\"321.67\" cy=\"430.05\" fill=\"#383838\" rx=\"2\" ry=\"2\" style=\"stroke: #383838; stroke-width: 1.0;\"/><ellipse cx=\"331.67\" cy=\"430.05\" fill=\"#383838\" rx=\"2\" ry=\"2\" style=\"stroke: #383838; stroke-width: 1.0;\"/></a><!--MD5=[ee384bb554873b72f85793eae40e290c]\n",
       "link E1 to E4--><a href=\"psysml:3abfa817-381d-4c68-8935-6fa98a0aa2e6\" target=\"_top\" title=\"psysml:3abfa817-381d-4c68-8935-6fa98a0aa2e6\" xlink:actuate=\"onRequest\" xlink:href=\"psysml:3abfa817-381d-4c68-8935-6fa98a0aa2e6\" xlink:show=\"new\" xlink:title=\"psysml:3abfa817-381d-4c68-8935-6fa98a0aa2e6\" xlink:type=\"simple\"><path d=\"M24,127.57 C24,123.4 24,90 24,90 C24,90 247,90 247,90 C247,90 247,269.71 247,269.71 \" fill=\"none\" id=\"E1-&gt;E4\" style=\"stroke: #383838; stroke-width: 1.0; stroke-dasharray: 7.0,7.0;\"/><polygon fill=\"#383838\" points=\"247,274.71,251,265.71,247,269.71,243,265.71,247,274.71\" style=\"stroke: #383838; stroke-width: 1.0;\"/><text fill=\"#000000\" font-family=\"sans-serif\" font-size=\"13\" lengthAdjust=\"spacingAndGlyphs\" textLength=\"65\" x=\"167\" y=\"209.0669\">«import»*</text></a><!--MD5=[ccbd3af71bf83df0ec2a2db62d6d7130]\n",
       "link E1 to E6--><a href=\"psysml:38071c17-dcc7-47a2-931c-5199b5c10531\" target=\"_top\" title=\"psysml:38071c17-dcc7-47a2-931c-5199b5c10531\" xlink:actuate=\"onRequest\" xlink:href=\"psysml:38071c17-dcc7-47a2-931c-5199b5c10531\" xlink:show=\"new\" xlink:title=\"psysml:38071c17-dcc7-47a2-931c-5199b5c10531\" xlink:type=\"simple\"><path d=\"M24,128.5 C24,138.71 24,302 24,302 C24,302 35.2625,302 46.8763,302 C52.6831,302 58.5778,302 63.1964,302 C63.3407,302 63.4838,302 63.6256,302 C63.6965,302 63.7671,302 63.8373,302 \" fill=\"none\" id=\"E1-&gt;E6\" style=\"stroke: #383838; stroke-width: 1.0; stroke-dasharray: 7.0,7.0;\"/><polygon fill=\"#383838\" points=\"63.8373,302,54.8373,298,58.8373,302,54.8373,306,63.8373,302\" style=\"stroke: #383838; stroke-width: 1.0;\"/><text fill=\"#000000\" font-family=\"sans-serif\" font-size=\"13\" lengthAdjust=\"spacingAndGlyphs\" textLength=\"65\" x=\"60\" y=\"209.0669\">«import»*</text></a><!--MD5=[bfa3c8b0d15052fdf50ae9310b491027]\n",
       "link E8 to E7--><a href=\"psysml:84039e37-6732-4e81-a24d-af568a8fc4d2\" target=\"_top\" title=\"psysml:84039e37-6732-4e81-a24d-af568a8fc4d2\" xlink:actuate=\"onRequest\" xlink:href=\"psysml:84039e37-6732-4e81-a24d-af568a8fc4d2\" xlink:show=\"new\" xlink:title=\"psysml:84039e37-6732-4e81-a24d-af568a8fc4d2\" xlink:type=\"simple\"><path d=\"M179.73,139 C162.86,139 143.75,139 143.75,139 C143.75,139 143.75,259.92 143.75,259.92 \" fill=\"none\" id=\"E8-&gt;E7\" style=\"stroke: #383838; stroke-width: 1.0;\"/><polygon fill=\"#FFFFFF\" points=\"143.75,279.92,136.75,260.92,150.75,260.92,143.75,279.92\" style=\"stroke: #383838; stroke-width: 1.0;\"/><ellipse cx=\"138.75\" cy=\"255.22\" fill=\"#383838\" rx=\"2\" ry=\"2\" style=\"stroke: #383838; stroke-width: 1.0;\"/><ellipse cx=\"148.75\" cy=\"255.22\" fill=\"#383838\" rx=\"2\" ry=\"2\" style=\"stroke: #383838; stroke-width: 1.0;\"/></a><!--MD5=[c2be97adba6ddfe1c8f349fab141c927]\n",
       "link E9 to E4--><a href=\"psysml:f4a7c8b4-50d4-4d21-9428-75951a767795\" target=\"_top\" title=\"psysml:f4a7c8b4-50d4-4d21-9428-75951a767795\" xlink:actuate=\"onRequest\" xlink:href=\"psysml:f4a7c8b4-50d4-4d21-9428-75951a767795\" xlink:show=\"new\" xlink:title=\"psysml:f4a7c8b4-50d4-4d21-9428-75951a767795\" xlink:type=\"simple\"><path d=\"M265,172.4368 C265,172.6944 265,172.9526 265,173.2114 C265,181.4912 265,190.3231 265,199.155 C265,234.4825 265,269.81 265,269.81 \" fill=\"none\" id=\"E9-&gt;E4\" style=\"stroke: #383838; stroke-width: 1.0; stroke-dasharray: 7.0,7.0;\"/><polygon fill=\"#383838\" points=\"265,274.81,269,265.81,265,269.81,261,265.81,265,274.81\" style=\"stroke: #383838; stroke-width: 1.0;\"/><text fill=\"#000000\" font-family=\"sans-serif\" font-size=\"13\" lengthAdjust=\"spacingAndGlyphs\" textLength=\"65\" x=\"281\" y=\"209.0669\">«import»*</text></a><!--MD5=[feeac5eb423634930294aa81f2d25a4c]\n",
       "link E10 to E3--><a href=\"psysml:ff7299d7-bc25-43a3-abcf-daa45aa95a4b\" target=\"_top\" title=\"psysml:ff7299d7-bc25-43a3-abcf-daa45aa95a4b\" xlink:actuate=\"onRequest\" xlink:href=\"psysml:ff7299d7-bc25-43a3-abcf-daa45aa95a4b\" xlink:show=\"new\" xlink:title=\"psysml:ff7299d7-bc25-43a3-abcf-daa45aa95a4b\" xlink:type=\"simple\"><path d=\"M313.33,148.24 C313.33,148.24 313.33,434.87 313.33,434.87 \" fill=\"none\" id=\"E10-&gt;E3\" style=\"stroke: #383838; stroke-width: 1.0;\"/><polygon fill=\"#FFFFFF\" points=\"313.33,454.87,306.33,435.87,320.33,435.87,313.33,454.87\" style=\"stroke: #383838; stroke-width: 1.0;\"/><ellipse cx=\"308.33\" cy=\"430.17\" fill=\"#383838\" rx=\"2\" ry=\"2\" style=\"stroke: #383838; stroke-width: 1.0;\"/><ellipse cx=\"318.33\" cy=\"430.17\" fill=\"#383838\" rx=\"2\" ry=\"2\" style=\"stroke: #383838; stroke-width: 1.0;\"/></a><!--MD5=[7d14fcae284e19db1b144c54e5a067bc]\n",
       "@startuml\r\n",
       "skinparam ranksep 10\r\n",
       "skinparam rectangle {\r\n",
       " backgroundColor<<block>> LightGreen\r\n",
       "}\r\n",
       "skinparam linetype ortho\r\n",
       "skinparam monochrome true\r\n",
       "skinparam classbackgroundcolor white\r\n",
       "skinparam shadowing false\r\n",
       "skinparam wrapWidth 300\r\n",
       "hide circle\r\n",
       "\r\n",
       "package \"PrivateImportTest\" as E1  [[psysml:8f933ba8-0ed5-4db5-b82c-58b1e568922b ]]  {\r\n",
       "package \"P1\" as E2  [[psysml:dc5a646f-7a70-4bb5-8a84-dd766b7ca58f ]]  {\r\n",
       "rec def \"A\" as E3  <<(T,blue) part  def>> [[psysml:e52e2a8f-f908-40ce-88b1-6459229e6290 ]] {\r\n",
       "}\r\n",
       "}\r\n",
       "package \"P2\" as E4  [[psysml:b07c7c49-60b3-45d9-ab30-3f9ccb4621b1 ]]  {\r\n",
       "}\r\n",
       "rec usage \"x: A\" as E5  [[psysml:ae255e73-333e-4dec-b11e-e996fbedcc54 ]] {\r\n",
       "}\r\n",
       "package \"P3\" as E6  [[psysml:61bbaf9b-44aa-4d19-b1af-9f0be63c5dc6 ]]  {\r\n",
       "rec def \"B\" as E7  <<(T,blue) part  def>> [[psysml:f5eaf228-c184-457d-ba82-3236315ba9d3 ]] {\r\n",
       "}\r\n",
       "}\r\n",
       "rec usage \"z: B\" as E8  [[psysml:3c42eaa7-d0d8-4753-a2b8-0968c7baa502 ]] {\r\n",
       "}\r\n",
       "package \"P4\" as E9  [[psysml:826bc35a-2948-4f0f-ac57-a46abe90dd77 ]]  {\r\n",
       "rec usage \"z1: A\" as E10  [[psysml:bd10993a-8e6e-4149-83fc-2dc02c68e6fc ]] {\r\n",
       "}\r\n",
       "}\r\n",
       "}\r\n",
       "E4 ..> E2 [[psysml:9c76a3dc-4160-42f2-8d03-f28cee99dd8d ]] : <<import>>*\r\n",
       "E5 - -:|> E3 [[psysml:7e781afb-bb69-45b4-99ca-abeca0fc5181 ]] \r\n",
       "E1 ..> E4 [[psysml:3abfa817-381d-4c68-8935-6fa98a0aa2e6 ]] : <<import>>*\r\n",
       "E1 ..> E6 [[psysml:38071c17-dcc7-47a2-931c-5199b5c10531 ]] : <<import>>*\r\n",
       "E8 - -:|> E7 [[psysml:84039e37-6732-4e81-a24d-af568a8fc4d2 ]] \r\n",
       "E9 ..> E4 [[psysml:f4a7c8b4-50d4-4d21-9428-75951a767795 ]] : <<import>>*\r\n",
       "E10 - -:|> E3 [[psysml:ff7299d7-bc25-43a3-abcf-daa45aa95a4b ]] \r\n",
       "@enduml\r\n",
       "\n",
       "PlantUML version 1.2020.13(Sat Jun 13 12:26:38 UTC 2020)\n",
       "(EPL source distribution)\n",
       "Java Runtime: OpenJDK Runtime Environment\n",
       "JVM: OpenJDK 64-Bit Server VM\n",
       "Default Encoding: UTF-8\n",
       "Language: en\n",
       "Country: null\n",
       "--></g></svg>"
      ]
     },
     "execution_count": 54,
     "metadata": {},
     "output_type": "execute_result"
    }
   ],
   "source": [
    "%viz --style=\"ORTHOLINE\" --view=\"Interconnection\" \"PrivateImportTest\""
   ]
  },
  {
   "cell_type": "code",
   "execution_count": 55,
   "id": "9010de9f",
   "metadata": {
    "execution": {
     "iopub.execute_input": "2022-08-19T08:19:19.903482Z",
     "iopub.status.busy": "2022-08-19T08:19:19.903034Z",
     "iopub.status.idle": "2022-08-19T08:19:19.907925Z",
     "shell.execute_reply": "2022-08-19T08:19:19.907541Z"
    }
   },
   "outputs": [
    {
     "data": {
      "image/svg+xml": [
       "<?xml version=\"1.0\" encoding=\"UTF-8\" standalone=\"no\"?><svg xmlns=\"http://www.w3.org/2000/svg\" xmlns:xlink=\"http://www.w3.org/1999/xlink\" contentScriptType=\"application/ecmascript\" contentStyleType=\"text/css\" height=\"12px\" preserveAspectRatio=\"none\" style=\"width:12px;height:12px;\" version=\"1.1\" viewBox=\"0 0 12 12\" width=\"12px\" zoomAndPan=\"magnify\"><defs/><g><!--MD5=[72934c63077099a26744516a776b4749]\n",
       "@startuml\r\n",
       "skinparam ranksep 8\r\n",
       "skinparam linetype ortho\r\n",
       "skinparam monochrome true\r\n",
       "skinparam classbackgroundcolor white\r\n",
       "skinparam shadowing false\r\n",
       "skinparam wrapWidth 300\r\n",
       "hide circle\r\n",
       "\r\n",
       "@enduml\r\n",
       "\n",
       "PlantUML version 1.2020.13(Sat Jun 13 12:26:38 UTC 2020)\n",
       "(EPL source distribution)\n",
       "Java Runtime: OpenJDK Runtime Environment\n",
       "JVM: OpenJDK 64-Bit Server VM\n",
       "Default Encoding: UTF-8\n",
       "Language: en\n",
       "Country: null\n",
       "--></g></svg>"
      ]
     },
     "execution_count": 55,
     "metadata": {},
     "output_type": "execute_result"
    }
   ],
   "source": [
    "%viz --style=\"ORTHOLINE\" --view=\"Action\" \"PrivateImportTest\""
   ]
  },
  {
   "cell_type": "code",
   "execution_count": 56,
   "id": "fbbcae5a",
   "metadata": {
    "execution": {
     "iopub.execute_input": "2022-08-19T08:19:19.958126Z",
     "iopub.status.busy": "2022-08-19T08:19:19.957629Z",
     "iopub.status.idle": "2022-08-19T08:19:19.962063Z",
     "shell.execute_reply": "2022-08-19T08:19:19.961644Z"
    }
   },
   "outputs": [
    {
     "data": {
      "image/svg+xml": [
       "<?xml version=\"1.0\" encoding=\"UTF-8\" standalone=\"no\"?><svg xmlns=\"http://www.w3.org/2000/svg\" xmlns:xlink=\"http://www.w3.org/1999/xlink\" contentScriptType=\"application/ecmascript\" contentStyleType=\"text/css\" height=\"12px\" preserveAspectRatio=\"none\" style=\"width:12px;height:12px;\" version=\"1.1\" viewBox=\"0 0 12 12\" width=\"12px\" zoomAndPan=\"magnify\"><defs/><g><!--MD5=[30fc1de5121c5abddedd55b44417fde8]\n",
       "@startuml\r\n",
       "skinparam roundcorner 20\r\n",
       "skinparam BoxPadding 20\r\n",
       "skinparam SequenceBoxBackgroundColor #white\r\n",
       "skinparam style strictuml\r\n",
       "skinparam maxMessageSize 100\r\n",
       "skinparam linetype ortho\r\n",
       "skinparam monochrome true\r\n",
       "skinparam classbackgroundcolor white\r\n",
       "skinparam shadowing false\r\n",
       "skinparam wrapWidth 300\r\n",
       "hide circle\r\n",
       "\r\n",
       "@enduml\r\n",
       "\n",
       "PlantUML version 1.2020.13(Sat Jun 13 12:26:38 UTC 2020)\n",
       "(EPL source distribution)\n",
       "Java Runtime: OpenJDK Runtime Environment\n",
       "JVM: OpenJDK 64-Bit Server VM\n",
       "Default Encoding: UTF-8\n",
       "Language: en\n",
       "Country: null\n",
       "--></g></svg>"
      ]
     },
     "execution_count": 56,
     "metadata": {},
     "output_type": "execute_result"
    }
   ],
   "source": [
    "%viz --style=\"ORTHOLINE\" --view=\"Sequence\" \"PrivateImportTest\""
   ]
  },
  {
   "cell_type": "code",
   "execution_count": 57,
   "id": "9e77cd46",
   "metadata": {
    "execution": {
     "iopub.execute_input": "2022-08-19T08:19:20.011884Z",
     "iopub.status.busy": "2022-08-19T08:19:20.011381Z",
     "iopub.status.idle": "2022-08-19T08:19:20.048822Z",
     "shell.execute_reply": "2022-08-19T08:19:20.047196Z"
    }
   },
   "outputs": [
    {
     "data": {
      "image/svg+xml": [
       "<?xml version=\"1.0\" encoding=\"UTF-8\" standalone=\"no\"?><svg xmlns=\"http://www.w3.org/2000/svg\" xmlns:xlink=\"http://www.w3.org/1999/xlink\" contentScriptType=\"application/ecmascript\" contentStyleType=\"text/css\" height=\"586px\" preserveAspectRatio=\"none\" style=\"width:423px;height:586px;\" version=\"1.1\" viewBox=\"0 0 423 586\" width=\"423px\" zoomAndPan=\"magnify\"><defs/><g><!--MD5=[fbc87193dbaf4d95561dea2c320d4a47]\n",
       "cluster E1--><a href=\"psysml:8f933ba8-0ed5-4db5-b82c-58b1e568922b\" target=\"_top\" title=\"psysml:8f933ba8-0ed5-4db5-b82c-58b1e568922b\" xlink:actuate=\"onRequest\" xlink:href=\"psysml:8f933ba8-0ed5-4db5-b82c-58b1e568922b\" xlink:show=\"new\" xlink:title=\"psysml:8f933ba8-0ed5-4db5-b82c-58b1e568922b\" xlink:type=\"simple\"><polygon fill=\"#FFFFFF\" points=\"16,6,143,6,150,28.2969,401,28.2969,401,574,16,574,16,6\" style=\"stroke: #000000; stroke-width: 1.5;\"/><line style=\"stroke: #000000; stroke-width: 1.5;\" x1=\"16\" x2=\"150\" y1=\"28.2969\" y2=\"28.2969\"/><text fill=\"#000000\" font-family=\"sans-serif\" font-size=\"14\" font-weight=\"bold\" lengthAdjust=\"spacingAndGlyphs\" textLength=\"121\" x=\"20\" y=\"20.9951\">PrivateImportTest</text></a><!--MD5=[e4f7fae6ed58524ba242bb0b0d3be6b7]\n",
       "cluster E2--><a href=\"psysml:dc5a646f-7a70-4bb5-8a84-dd766b7ca58f\" target=\"_top\" title=\"psysml:dc5a646f-7a70-4bb5-8a84-dd766b7ca58f\" xlink:actuate=\"onRequest\" xlink:href=\"psysml:dc5a646f-7a70-4bb5-8a84-dd766b7ca58f\" xlink:show=\"new\" xlink:title=\"psysml:dc5a646f-7a70-4bb5-8a84-dd766b7ca58f\" xlink:type=\"simple\"><polygon fill=\"#FFFFFF\" points=\"221,421,245,421,252,443.2969,358,443.2969,358,534,221,534,221,421\" style=\"stroke: #000000; stroke-width: 1.5;\"/><line style=\"stroke: #000000; stroke-width: 1.5;\" x1=\"221\" x2=\"252\" y1=\"443.2969\" y2=\"443.2969\"/><text fill=\"#000000\" font-family=\"sans-serif\" font-size=\"14\" font-weight=\"bold\" lengthAdjust=\"spacingAndGlyphs\" textLength=\"18\" x=\"225\" y=\"435.9951\">P1</text></a><!--MD5=[14e3b0961a2654348d326746436168a1]\n",
       "cluster E6--><a href=\"psysml:61bbaf9b-44aa-4d19-b1af-9f0be63c5dc6\" target=\"_top\" title=\"psysml:61bbaf9b-44aa-4d19-b1af-9f0be63c5dc6\" xlink:actuate=\"onRequest\" xlink:href=\"psysml:61bbaf9b-44aa-4d19-b1af-9f0be63c5dc6\" xlink:show=\"new\" xlink:title=\"psysml:61bbaf9b-44aa-4d19-b1af-9f0be63c5dc6\" xlink:type=\"simple\"><polygon fill=\"#FFFFFF\" points=\"64,243,88,243,95,265.2969,201,265.2969,201,356,64,356,64,243\" style=\"stroke: #000000; stroke-width: 1.5;\"/><line style=\"stroke: #000000; stroke-width: 1.5;\" x1=\"64\" x2=\"95\" y1=\"265.2969\" y2=\"265.2969\"/><text fill=\"#000000\" font-family=\"sans-serif\" font-size=\"14\" font-weight=\"bold\" lengthAdjust=\"spacingAndGlyphs\" textLength=\"18\" x=\"68\" y=\"257.9951\">P3</text></a><!--MD5=[7f149f147074ac12df2cb0a7728a5fb0]\n",
       "cluster E9--><a href=\"psysml:826bc35a-2948-4f0f-ac57-a46abe90dd77\" target=\"_top\" title=\"psysml:826bc35a-2948-4f0f-ac57-a46abe90dd77\" xlink:actuate=\"onRequest\" xlink:href=\"psysml:826bc35a-2948-4f0f-ac57-a46abe90dd77\" xlink:show=\"new\" xlink:title=\"psysml:826bc35a-2948-4f0f-ac57-a46abe90dd77\" xlink:type=\"simple\"><polygon fill=\"#FFFFFF\" points=\"252,65,276,65,283,87.2969,361,87.2969,361,178,252,178,252,65\" style=\"stroke: #000000; stroke-width: 1.5;\"/><line style=\"stroke: #000000; stroke-width: 1.5;\" x1=\"252\" x2=\"283\" y1=\"87.2969\" y2=\"87.2969\"/><text fill=\"#000000\" font-family=\"sans-serif\" font-size=\"14\" font-weight=\"bold\" lengthAdjust=\"spacingAndGlyphs\" textLength=\"18\" x=\"256\" y=\"79.9951\">P4</text></a><!--MD5=[270fce915f116d4de14055a7c1d9a0f3]\n",
       "class E5--><a href=\"psysml:ae255e73-333e-4dec-b11e-e996fbedcc54\" target=\"_top\" title=\"psysml:ae255e73-333e-4dec-b11e-e996fbedcc54\" xlink:actuate=\"onRequest\" xlink:href=\"psysml:ae255e73-333e-4dec-b11e-e996fbedcc54\" xlink:show=\"new\" xlink:title=\"psysml:ae255e73-333e-4dec-b11e-e996fbedcc54\" xlink:type=\"simple\"><rect fill=\"#FFFFFF\" height=\"45.9375\" id=\"E5\" rx=\"10\" ry=\"10\" style=\"stroke: #383838; stroke-width: 1.5;\" width=\"42\" x=\"335\" y=\"286\"/><text fill=\"#000000\" font-family=\"sans-serif\" font-size=\"12\" font-style=\"italic\" lengthAdjust=\"spacingAndGlyphs\" textLength=\"40\" x=\"336\" y=\"302.1387\">«part»</text><text fill=\"#000000\" font-family=\"sans-serif\" font-size=\"12\" lengthAdjust=\"spacingAndGlyphs\" textLength=\"22\" x=\"343\" y=\"316.1074\">x: A</text><line style=\"stroke: #383838; stroke-width: 1.5;\" x1=\"336\" x2=\"376\" y1=\"323.9375\" y2=\"323.9375\"/></a><!--MD5=[b9389687b975829384b498ac4b7476b2]\n",
       "class E8--><a href=\"psysml:3c42eaa7-d0d8-4753-a2b8-0968c7baa502\" target=\"_top\" title=\"psysml:3c42eaa7-d0d8-4753-a2b8-0968c7baa502\" xlink:actuate=\"onRequest\" xlink:href=\"psysml:3c42eaa7-d0d8-4753-a2b8-0968c7baa502\" xlink:show=\"new\" xlink:title=\"psysml:3c42eaa7-d0d8-4753-a2b8-0968c7baa502\" xlink:type=\"simple\"><rect fill=\"#FFFFFF\" height=\"45.9375\" id=\"E8\" rx=\"10\" ry=\"10\" style=\"stroke: #383838; stroke-width: 1.5;\" width=\"42\" x=\"183\" y=\"108\"/><text fill=\"#000000\" font-family=\"sans-serif\" font-size=\"12\" font-style=\"italic\" lengthAdjust=\"spacingAndGlyphs\" textLength=\"40\" x=\"184\" y=\"124.1387\">«part»</text><text fill=\"#000000\" font-family=\"sans-serif\" font-size=\"12\" lengthAdjust=\"spacingAndGlyphs\" textLength=\"21\" x=\"191.5\" y=\"138.1074\">z: B</text><line style=\"stroke: #383838; stroke-width: 1.5;\" x1=\"184\" x2=\"224\" y1=\"145.9375\" y2=\"145.9375\"/></a><!--MD5=[09b614a08d8cba4a07c9adeb5e0fee81]\n",
       "class E3--><a href=\"psysml:e52e2a8f-f908-40ce-88b1-6459229e6290\" target=\"_top\" title=\"psysml:e52e2a8f-f908-40ce-88b1-6459229e6290\" xlink:actuate=\"onRequest\" xlink:href=\"psysml:e52e2a8f-f908-40ce-88b1-6459229e6290\" xlink:show=\"new\" xlink:title=\"psysml:e52e2a8f-f908-40ce-88b1-6459229e6290\" xlink:type=\"simple\"><rect fill=\"#FFFFFF\" height=\"45.9375\" id=\"E3\" style=\"stroke: #383838; stroke-width: 1.5;\" width=\"70\" x=\"264\" y=\"464\"/><text fill=\"#000000\" font-family=\"sans-serif\" font-size=\"12\" font-style=\"italic\" lengthAdjust=\"spacingAndGlyphs\" textLength=\"68\" x=\"265\" y=\"480.1387\">«part  def»</text><text fill=\"#000000\" font-family=\"sans-serif\" font-size=\"12\" lengthAdjust=\"spacingAndGlyphs\" textLength=\"8\" x=\"295\" y=\"494.1074\">A</text><line style=\"stroke: #383838; stroke-width: 1.5;\" x1=\"265\" x2=\"333\" y1=\"501.9375\" y2=\"501.9375\"/></a><a href=\"psysml:b07c7c49-60b3-45d9-ab30-3f9ccb4621b1\" target=\"_top\" title=\"psysml:b07c7c49-60b3-45d9-ab30-3f9ccb4621b1\" xlink:actuate=\"onRequest\" xlink:href=\"psysml:b07c7c49-60b3-45d9-ab30-3f9ccb4621b1\" xlink:show=\"new\" xlink:title=\"psysml:b07c7c49-60b3-45d9-ab30-3f9ccb4621b1\" xlink:type=\"simple\"><polygon fill=\"#FFFFFF\" points=\"225,282.5,249,282.5,256,304.7969,263,304.7969,263,335.0938,225,335.0938,225,282.5\" style=\"stroke: #000000; stroke-width: 1.5;\"/><line style=\"stroke: #000000; stroke-width: 1.5;\" x1=\"225\" x2=\"256\" y1=\"304.7969\" y2=\"304.7969\"/><text fill=\"#000000\" font-family=\"sans-serif\" font-size=\"14\" font-weight=\"bold\" lengthAdjust=\"spacingAndGlyphs\" textLength=\"18\" x=\"229\" y=\"297.4951\">P2</text></a><!--MD5=[2156ba9850f5573cc1fc38a6a4b2f02b]\n",
       "class E7--><a href=\"psysml:f5eaf228-c184-457d-ba82-3236315ba9d3\" target=\"_top\" title=\"psysml:f5eaf228-c184-457d-ba82-3236315ba9d3\" xlink:actuate=\"onRequest\" xlink:href=\"psysml:f5eaf228-c184-457d-ba82-3236315ba9d3\" xlink:show=\"new\" xlink:title=\"psysml:f5eaf228-c184-457d-ba82-3236315ba9d3\" xlink:type=\"simple\"><rect fill=\"#FFFFFF\" height=\"45.9375\" id=\"E7\" style=\"stroke: #383838; stroke-width: 1.5;\" width=\"70\" x=\"107\" y=\"286\"/><text fill=\"#000000\" font-family=\"sans-serif\" font-size=\"12\" font-style=\"italic\" lengthAdjust=\"spacingAndGlyphs\" textLength=\"68\" x=\"108\" y=\"302.1387\">«part  def»</text><text fill=\"#000000\" font-family=\"sans-serif\" font-size=\"12\" lengthAdjust=\"spacingAndGlyphs\" textLength=\"8\" x=\"138\" y=\"316.1074\">B</text><line style=\"stroke: #383838; stroke-width: 1.5;\" x1=\"108\" x2=\"176\" y1=\"323.9375\" y2=\"323.9375\"/></a><!--MD5=[96f4274e9e20536e775497830990834d]\n",
       "class E10--><a href=\"psysml:bd10993a-8e6e-4149-83fc-2dc02c68e6fc\" target=\"_top\" title=\"psysml:bd10993a-8e6e-4149-83fc-2dc02c68e6fc\" xlink:actuate=\"onRequest\" xlink:href=\"psysml:bd10993a-8e6e-4149-83fc-2dc02c68e6fc\" xlink:show=\"new\" xlink:title=\"psysml:bd10993a-8e6e-4149-83fc-2dc02c68e6fc\" xlink:type=\"simple\"><rect fill=\"#FFFFFF\" height=\"45.9375\" id=\"E10\" rx=\"10\" ry=\"10\" style=\"stroke: #383838; stroke-width: 1.5;\" width=\"42\" x=\"295\" y=\"108\"/><text fill=\"#000000\" font-family=\"sans-serif\" font-size=\"12\" font-style=\"italic\" lengthAdjust=\"spacingAndGlyphs\" textLength=\"40\" x=\"296\" y=\"124.1387\">«part»</text><text fill=\"#000000\" font-family=\"sans-serif\" font-size=\"12\" lengthAdjust=\"spacingAndGlyphs\" textLength=\"29\" x=\"299.5\" y=\"138.1074\">z1: A</text><line style=\"stroke: #383838; stroke-width: 1.5;\" x1=\"296\" x2=\"336\" y1=\"145.9375\" y2=\"145.9375\"/></a><!--MD5=[185131fc0dcab0a4505a2ebe144e961b]\n",
       "link E4 to E2--><a href=\"psysml:9c76a3dc-4160-42f2-8d03-f28cee99dd8d\" target=\"_top\" title=\"psysml:9c76a3dc-4160-42f2-8d03-f28cee99dd8d\" xlink:actuate=\"onRequest\" xlink:href=\"psysml:9c76a3dc-4160-42f2-8d03-f28cee99dd8d\" xlink:show=\"new\" xlink:title=\"psysml:9c76a3dc-4160-42f2-8d03-f28cee99dd8d\" xlink:type=\"simple\"><path d=\"M229,335.65 C229,347.4825 229,362.2694 229,377.9309 C229,385.7617 229,393.8112 229,401.8193 C229,405.8234 229,409.8172 229,413.7681 C229,415.7436 229,417.7084 229,419.6584 C229,419.9021 229,420.1456 229,420.3889 \" fill=\"none\" id=\"E4-&gt;E2\" style=\"stroke: #383838; stroke-width: 1.0; stroke-dasharray: 7.0,7.0;\"/><polygon fill=\"#383838\" points=\"229,420.3889,233,411.3889,229,415.3889,225,411.3889,229,420.3889\" style=\"stroke: #383838; stroke-width: 1.0;\"/><text fill=\"#000000\" font-family=\"sans-serif\" font-size=\"13\" lengthAdjust=\"spacingAndGlyphs\" textLength=\"65\" x=\"227\" y=\"393.0669\">«import»*</text></a><!--MD5=[e9be52314489bd878ff4c7144b63c9e1]\n",
       "link E5 to E3--><a href=\"psysml:7e781afb-bb69-45b4-99ca-abeca0fc5181\" target=\"_top\" title=\"psysml:7e781afb-bb69-45b4-99ca-abeca0fc5181\" xlink:actuate=\"onRequest\" xlink:href=\"psysml:7e781afb-bb69-45b4-99ca-abeca0fc5181\" xlink:show=\"new\" xlink:title=\"psysml:7e781afb-bb69-45b4-99ca-abeca0fc5181\" xlink:type=\"simple\"><path d=\"M334.83,309 C327.46,309 321,309 321,309 C321,309 321,443.73 321,443.73 \" fill=\"none\" id=\"E5-&gt;E3\" style=\"stroke: #383838; stroke-width: 1.0;\"/><polygon fill=\"#FFFFFF\" points=\"321,463.73,314,444.73,328,444.73,321,463.73\" style=\"stroke: #383838; stroke-width: 1.0;\"/><ellipse cx=\"316\" cy=\"439.03\" fill=\"#383838\" rx=\"2\" ry=\"2\" style=\"stroke: #383838; stroke-width: 1.0;\"/><ellipse cx=\"326\" cy=\"439.03\" fill=\"#383838\" rx=\"2\" ry=\"2\" style=\"stroke: #383838; stroke-width: 1.0;\"/></a><!--MD5=[ee384bb554873b72f85793eae40e290c]\n",
       "link E1 to E4--><a href=\"psysml:3abfa817-381d-4c68-8935-6fa98a0aa2e6\" target=\"_top\" title=\"psysml:3abfa817-381d-4c68-8935-6fa98a0aa2e6\" xlink:actuate=\"onRequest\" xlink:href=\"psysml:3abfa817-381d-4c68-8935-6fa98a0aa2e6\" xlink:show=\"new\" xlink:title=\"psysml:3abfa817-381d-4c68-8935-6fa98a0aa2e6\" xlink:type=\"simple\"><path d=\"M24,131.56 C24,139.06 24,219 24,219 C24,219 242,219 242,219 C242,219 242,277.48 242,277.48 \" fill=\"none\" id=\"E1-&gt;E4\" style=\"stroke: #383838; stroke-width: 1.0; stroke-dasharray: 7.0,7.0;\"/><polygon fill=\"#383838\" points=\"242,282.48,246,273.48,242,277.48,238,273.48,242,282.48\" style=\"stroke: #383838; stroke-width: 1.0;\"/><text fill=\"#000000\" font-family=\"sans-serif\" font-size=\"13\" lengthAdjust=\"spacingAndGlyphs\" textLength=\"65\" x=\"167\" y=\"215.0669\">«import»*</text></a><!--MD5=[ccbd3af71bf83df0ec2a2db62d6d7130]\n",
       "link E1 to E6--><a href=\"psysml:38071c17-dcc7-47a2-931c-5199b5c10531\" target=\"_top\" title=\"psysml:38071c17-dcc7-47a2-931c-5199b5c10531\" xlink:actuate=\"onRequest\" xlink:href=\"psysml:38071c17-dcc7-47a2-931c-5199b5c10531\" xlink:show=\"new\" xlink:title=\"psysml:38071c17-dcc7-47a2-931c-5199b5c10531\" xlink:type=\"simple\"><path d=\"M24.54,131 C29.81,131 72,131 72,131 C72,131 72,172.7625 72,215.83 C72,221.2134 72,226.6173 72,231.9625 C72,234.6351 72,237.293 72,239.9264 C72,240.5848 72,241.2416 72,241.8967 C72,242.2243 72,242.5514 72,242.8781 \" fill=\"none\" id=\"E1-&gt;E6\" style=\"stroke: #383838; stroke-width: 1.0; stroke-dasharray: 7.0,7.0;\"/><polygon fill=\"#383838\" points=\"72,242.8781,76,233.8781,72,237.8781,68,233.8781,72,242.8781\" style=\"stroke: #383838; stroke-width: 1.0;\"/><text fill=\"#000000\" font-family=\"sans-serif\" font-size=\"13\" lengthAdjust=\"spacingAndGlyphs\" textLength=\"65\" x=\"60\" y=\"215.0669\">«import»*</text></a><!--MD5=[bfa3c8b0d15052fdf50ae9310b491027]\n",
       "link E8 to E7--><a href=\"psysml:84039e37-6732-4e81-a24d-af568a8fc4d2\" target=\"_top\" title=\"psysml:84039e37-6732-4e81-a24d-af568a8fc4d2\" xlink:actuate=\"onRequest\" xlink:href=\"psysml:84039e37-6732-4e81-a24d-af568a8fc4d2\" xlink:show=\"new\" xlink:title=\"psysml:84039e37-6732-4e81-a24d-af568a8fc4d2\" xlink:type=\"simple\"><path d=\"M204,154.27 C204,202.52 204,309 204,309 C204,309 197.35,309 197.35,309 \" fill=\"none\" id=\"E8-&gt;E7\" style=\"stroke: #383838; stroke-width: 1.0;\"/><polygon fill=\"#FFFFFF\" points=\"177.35,309,196.35,302,196.35,316,177.35,309\" style=\"stroke: #383838; stroke-width: 1.0;\"/><ellipse cx=\"202.05\" cy=\"304\" fill=\"#383838\" rx=\"2\" ry=\"2\" style=\"stroke: #383838; stroke-width: 1.0;\"/><ellipse cx=\"202.05\" cy=\"314\" fill=\"#383838\" rx=\"2\" ry=\"2\" style=\"stroke: #383838; stroke-width: 1.0;\"/></a><!--MD5=[c2be97adba6ddfe1c8f349fab141c927]\n",
       "link E9 to E4--><a href=\"psysml:f4a7c8b4-50d4-4d21-9428-75951a767795\" target=\"_top\" title=\"psysml:f4a7c8b4-50d4-4d21-9428-75951a767795\" xlink:actuate=\"onRequest\" xlink:href=\"psysml:f4a7c8b4-50d4-4d21-9428-75951a767795\" xlink:show=\"new\" xlink:title=\"psysml:f4a7c8b4-50d4-4d21-9428-75951a767795\" xlink:type=\"simple\"><path d=\"M260,178.4607 C260,178.7288 260,178.9975 260,179.2667 C260,179.8052 260,180.3457 260,180.8882 C260,181.9731 260,183.0658 260,184.1652 C260,186.364 260,188.5895 260,190.8328 C260,195.3194 260,199.8772 260,204.435 C260,240.8975 260,277.36 260,277.36 \" fill=\"none\" id=\"E9-&gt;E4\" style=\"stroke: #383838; stroke-width: 1.0; stroke-dasharray: 7.0,7.0;\"/><polygon fill=\"#383838\" points=\"260,282.36,264,273.36,260,277.36,256,273.36,260,282.36\" style=\"stroke: #383838; stroke-width: 1.0;\"/><text fill=\"#000000\" font-family=\"sans-serif\" font-size=\"13\" lengthAdjust=\"spacingAndGlyphs\" textLength=\"65\" x=\"281\" y=\"215.0669\">«import»*</text></a><!--MD5=[feeac5eb423634930294aa81f2d25a4c]\n",
       "link E10 to E3--><a href=\"psysml:ff7299d7-bc25-43a3-abcf-daa45aa95a4b\" target=\"_top\" title=\"psysml:ff7299d7-bc25-43a3-abcf-daa45aa95a4b\" xlink:actuate=\"onRequest\" xlink:href=\"psysml:ff7299d7-bc25-43a3-abcf-daa45aa95a4b\" xlink:show=\"new\" xlink:title=\"psysml:ff7299d7-bc25-43a3-abcf-daa45aa95a4b\" xlink:type=\"simple\"><path d=\"M308,154.08 C308,154.08 308,443.97 308,443.97 \" fill=\"none\" id=\"E10-&gt;E3\" style=\"stroke: #383838; stroke-width: 1.0;\"/><polygon fill=\"#FFFFFF\" points=\"308,463.97,301,444.97,315,444.97,308,463.97\" style=\"stroke: #383838; stroke-width: 1.0;\"/><ellipse cx=\"303\" cy=\"439.27\" fill=\"#383838\" rx=\"2\" ry=\"2\" style=\"stroke: #383838; stroke-width: 1.0;\"/><ellipse cx=\"313\" cy=\"439.27\" fill=\"#383838\" rx=\"2\" ry=\"2\" style=\"stroke: #383838; stroke-width: 1.0;\"/></a><!--MD5=[6c181da342a35700dbd1c6f0d845f131]\n",
       "@startuml\r\n",
       "skinparam linetype ortho\r\n",
       "skinparam monochrome true\r\n",
       "skinparam classbackgroundcolor white\r\n",
       "skinparam shadowing false\r\n",
       "skinparam wrapWidth 300\r\n",
       "hide circle\r\n",
       "\r\n",
       "package \"PrivateImportTest\" as E1  [[psysml:8f933ba8-0ed5-4db5-b82c-58b1e568922b ]]  {\r\n",
       "package \"P1\" as E2  [[psysml:dc5a646f-7a70-4bb5-8a84-dd766b7ca58f ]]  {\r\n",
       "comp def \"A\" as E3  <<(T,blue) part  def>> [[psysml:e52e2a8f-f908-40ce-88b1-6459229e6290 ]] {\r\n",
       "}\r\n",
       "}\r\n",
       "package \"P2\" as E4  [[psysml:b07c7c49-60b3-45d9-ab30-3f9ccb4621b1 ]]  {\r\n",
       "}\r\n",
       "comp usage \"x: A \" as E5  <<(T,blue) part>> [[psysml:ae255e73-333e-4dec-b11e-e996fbedcc54 ]] {\r\n",
       "}\r\n",
       "package \"P3\" as E6  [[psysml:61bbaf9b-44aa-4d19-b1af-9f0be63c5dc6 ]]  {\r\n",
       "comp def \"B\" as E7  <<(T,blue) part  def>> [[psysml:f5eaf228-c184-457d-ba82-3236315ba9d3 ]] {\r\n",
       "}\r\n",
       "}\r\n",
       "comp usage \"z: B \" as E8  <<(T,blue) part>> [[psysml:3c42eaa7-d0d8-4753-a2b8-0968c7baa502 ]] {\r\n",
       "}\r\n",
       "package \"P4\" as E9  [[psysml:826bc35a-2948-4f0f-ac57-a46abe90dd77 ]]  {\r\n",
       "comp usage \"z1: A \" as E10  <<(T,blue) part>> [[psysml:bd10993a-8e6e-4149-83fc-2dc02c68e6fc ]] {\r\n",
       "}\r\n",
       "}\r\n",
       "}\r\n",
       "E4 ..> E2 [[psysml:9c76a3dc-4160-42f2-8d03-f28cee99dd8d ]] : <<import>>*\r\n",
       "E5 - -:|> E3 [[psysml:7e781afb-bb69-45b4-99ca-abeca0fc5181 ]] \r\n",
       "E1 ..> E4 [[psysml:3abfa817-381d-4c68-8935-6fa98a0aa2e6 ]] : <<import>>*\r\n",
       "E1 ..> E6 [[psysml:38071c17-dcc7-47a2-931c-5199b5c10531 ]] : <<import>>*\r\n",
       "E8 - -:|> E7 [[psysml:84039e37-6732-4e81-a24d-af568a8fc4d2 ]] \r\n",
       "E9 ..> E4 [[psysml:f4a7c8b4-50d4-4d21-9428-75951a767795 ]] : <<import>>*\r\n",
       "E10 - -:|> E3 [[psysml:ff7299d7-bc25-43a3-abcf-daa45aa95a4b ]] \r\n",
       "@enduml\r\n",
       "\n",
       "PlantUML version 1.2020.13(Sat Jun 13 12:26:38 UTC 2020)\n",
       "(EPL source distribution)\n",
       "Java Runtime: OpenJDK Runtime Environment\n",
       "JVM: OpenJDK 64-Bit Server VM\n",
       "Default Encoding: UTF-8\n",
       "Language: en\n",
       "Country: null\n",
       "--></g></svg>"
      ]
     },
     "execution_count": 57,
     "metadata": {},
     "output_type": "execute_result"
    }
   ],
   "source": [
    "%viz --style=\"ORTHOLINE\" --view=\"MIXED\" \"PrivateImportTest\""
   ]
  }
 ],
 "metadata": {
  "kernelspec": {
   "display_name": "SysML",
   "language": "sysml",
   "name": "sysml"
  },
  "language_info": {
   "codemirror_mode": "sysml",
   "file_extension": ".sysml",
   "mimetype": "text/x-sysml",
   "name": "SysML",
   "pygments_lexer": "java",
   "version": "1.0.0"
  }
 },
 "nbformat": 4,
 "nbformat_minor": 5
}

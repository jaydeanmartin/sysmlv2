{
 "cells": [
  {
   "cell_type": "markdown",
   "id": "5cb62996",
   "metadata": {},
   "source": [
    "# SysML v2 Test Suite\n",
    "\n",
    "This can notebook can be cleared using menu `Edit --> Clear All Outputs` and then all cells can be\n",
    "run using menu `Run --> Run All Cells`.\n",
    "\n",
    "**WARNING**: This file is generated, all modifications here will be ignored.\n"
   ]
  },
  {
   "cell_type": "markdown",
   "id": "3770a4ce",
   "metadata": {},
   "source": [
    "## File: ../../sysml/src/examples/Simple Tests/ConjugationTest.sysml"
   ]
  },
  {
   "cell_type": "code",
   "execution_count": 1,
   "id": "2c677744",
   "metadata": {
    "execution": {
     "iopub.execute_input": "2022-08-19T08:18:10.190040Z",
     "iopub.status.busy": "2022-08-19T08:18:10.189032Z",
     "iopub.status.idle": "2022-08-19T08:18:10.840894Z",
     "shell.execute_reply": "2022-08-19T08:18:10.840525Z"
    }
   },
   "outputs": [
    {
     "data": {
      "text/plain": [
       "Package ConjugationTest (4e179b45-ef84-478c-a2da-b16af7c43fe7)\n"
      ]
     },
     "execution_count": 1,
     "metadata": {},
     "output_type": "execute_result"
    }
   ],
   "source": [
    "package ConjugationTest {\n",
    "\tport def P;\n",
    "\t\n",
    "\tpart def B {\n",
    "\t\tport p1: P;\n",
    "\t\tport p2: ~P;\n",
    "\t}\n",
    "\t\n",
    "\tconnection def A {\n",
    "\t\tend port p1: P;\n",
    "\t\tend port p2: ~P;\n",
    "\t}\n",
    "\t\n",
    "\tinterface def I {\n",
    "\t\tend p1: P;\n",
    "\t\tend p2: ~P;\n",
    "\t}\n",
    "\t\n",
    "\tpart def B1 {\n",
    "\t\tpart p {\n",
    "\t\t\tport p1: P;\n",
    "\t\t\tport p2: ~P;\t\t\n",
    "\t\t}\n",
    "\t\n",
    "\t\tconnection a: A connect p.p1 to p.p2 {\n",
    "\t\t\tend port p3: P;\n",
    "\t\t\tend port p4: ~P;\n",
    "\t\t}\n",
    "\t\tinterface i: I connect p.p1 to p.p2 {\n",
    "\t\t\tend port p3: P;\n",
    "\t\t\tend port p4: ~P;\n",
    "\t\t}\n",
    "\t}\n",
    "\t\n",
    "}"
   ]
  },
  {
   "cell_type": "code",
   "execution_count": 2,
   "id": "86ce64e4",
   "metadata": {
    "execution": {
     "iopub.execute_input": "2022-08-19T08:18:10.892605Z",
     "iopub.status.busy": "2022-08-19T08:18:10.892144Z",
     "iopub.status.idle": "2022-08-19T08:18:11.433353Z",
     "shell.execute_reply": "2022-08-19T08:18:11.431078Z"
    }
   },
   "outputs": [
    {
     "data": {
      "image/svg+xml": [
       "<?xml version=\"1.0\" encoding=\"UTF-8\" standalone=\"no\"?><svg xmlns=\"http://www.w3.org/2000/svg\" xmlns:xlink=\"http://www.w3.org/1999/xlink\" contentScriptType=\"application/ecmascript\" contentStyleType=\"text/css\" height=\"381px\" preserveAspectRatio=\"none\" style=\"width:634px;height:381px;\" version=\"1.1\" viewBox=\"0 0 634 381\" width=\"634px\" zoomAndPan=\"magnify\"><defs/><g><!--MD5=[fbc87193dbaf4d95561dea2c320d4a47]\n",
       "cluster E1--><a href=\"psysml:4e179b45-ef84-478c-a2da-b16af7c43fe7\" target=\"_top\" title=\"psysml:4e179b45-ef84-478c-a2da-b16af7c43fe7\" xlink:actuate=\"onRequest\" xlink:href=\"psysml:4e179b45-ef84-478c-a2da-b16af7c43fe7\" xlink:show=\"new\" xlink:title=\"psysml:4e179b45-ef84-478c-a2da-b16af7c43fe7\" xlink:type=\"simple\"><polygon fill=\"#FFFFFF\" points=\"16,6,136,6,143,28.2969,612,28.2969,612,369,16,369,16,6\" style=\"stroke: #000000; stroke-width: 1.5;\"/><line style=\"stroke: #000000; stroke-width: 1.5;\" x1=\"16\" x2=\"143\" y1=\"28.2969\" y2=\"28.2969\"/><text fill=\"#000000\" font-family=\"sans-serif\" font-size=\"14\" font-weight=\"bold\" lengthAdjust=\"spacingAndGlyphs\" textLength=\"114\" x=\"20\" y=\"20.9951\">ConjugationTest</text></a><!--MD5=[b4997ac47864f28c2f74865a473b2911]\n",
       "class E2--><a href=\"psysml:859d5a2d-b524-488b-9af4-e0f987adcacf\" target=\"_top\" title=\"psysml:859d5a2d-b524-488b-9af4-e0f987adcacf\" xlink:actuate=\"onRequest\" xlink:href=\"psysml:859d5a2d-b524-488b-9af4-e0f987adcacf\" xlink:show=\"new\" xlink:title=\"psysml:859d5a2d-b524-488b-9af4-e0f987adcacf\" xlink:type=\"simple\"><rect fill=\"#FFFFFF\" height=\"45.9375\" id=\"E2\" style=\"stroke: #383838; stroke-width: 1.5;\" width=\"70\" x=\"526\" y=\"81\"/><text fill=\"#000000\" font-family=\"sans-serif\" font-size=\"12\" font-style=\"italic\" lengthAdjust=\"spacingAndGlyphs\" textLength=\"68\" x=\"527\" y=\"97.1387\">«port  def»</text><text fill=\"#000000\" font-family=\"sans-serif\" font-size=\"12\" lengthAdjust=\"spacingAndGlyphs\" textLength=\"8\" x=\"557\" y=\"111.1074\">P</text><line style=\"stroke: #383838; stroke-width: 1.5;\" x1=\"527\" x2=\"595\" y1=\"118.9375\" y2=\"118.9375\"/></a><!--MD5=[09b614a08d8cba4a07c9adeb5e0fee81]\n",
       "class E3--><a href=\"psysml:615e73ac-8544-4e42-b424-8a4747867d0e\" target=\"_top\" title=\"psysml:615e73ac-8544-4e42-b424-8a4747867d0e\" xlink:actuate=\"onRequest\" xlink:href=\"psysml:615e73ac-8544-4e42-b424-8a4747867d0e\" xlink:show=\"new\" xlink:title=\"psysml:615e73ac-8544-4e42-b424-8a4747867d0e\" xlink:type=\"simple\"><rect fill=\"#FFFFFF\" height=\"125.9609\" id=\"E3\" style=\"stroke: #383838; stroke-width: 1.5;\" width=\"70\" x=\"421\" y=\"41\"/><text fill=\"#000000\" font-family=\"sans-serif\" font-size=\"12\" font-style=\"italic\" lengthAdjust=\"spacingAndGlyphs\" textLength=\"68\" x=\"422\" y=\"57.1387\">«part  def»</text><text fill=\"#000000\" font-family=\"sans-serif\" font-size=\"12\" lengthAdjust=\"spacingAndGlyphs\" textLength=\"8\" x=\"452\" y=\"71.1074\">B</text><line style=\"stroke: #383838; stroke-width: 1.5;\" x1=\"422\" x2=\"490\" y1=\"78.9375\" y2=\"78.9375\"/><text fill=\"#000000\" font-family=\"sans-serif\" font-size=\"11\" lengthAdjust=\"spacingAndGlyphs\" textLength=\"29\" x=\"427\" y=\"109.9526\">p1: P</text><line style=\"stroke: #383838; stroke-width: 1.0;\" x1=\"422\" x2=\"441\" y1=\"93.3398\" y2=\"93.3398\"/><text fill=\"#000000\" font-family=\"sans-serif\" font-size=\"11\" lengthAdjust=\"spacingAndGlyphs\" textLength=\"30\" x=\"441\" y=\"96.6479\">ports</text><line style=\"stroke: #383838; stroke-width: 1.0;\" x1=\"471\" x2=\"490\" y1=\"93.3398\" y2=\"93.3398\"/><text fill=\"#000000\" font-family=\"sans-serif\" font-size=\"11\" lengthAdjust=\"spacingAndGlyphs\" textLength=\"0\" x=\"443\" y=\"128.7573\"/><rect fill=\"#FFFFFF\" height=\"2\" style=\"stroke: #000000; stroke-width: 1.0;\" width=\"2\" x=\"436\" y=\"123.9492\"/><line style=\"stroke: #000000; stroke-width: 1.0;\" x1=\"429\" x2=\"437\" y1=\"124.9492\" y2=\"124.9492\"/><line style=\"stroke: #000000; stroke-width: 1.0;\" x1=\"429\" x2=\"429\" y1=\"118.5469\" y2=\"124.9492\"/><text fill=\"#000000\" font-family=\"sans-serif\" font-size=\"11\" lengthAdjust=\"spacingAndGlyphs\" textLength=\"14\" x=\"427\" y=\"144.562\">p2</text><text fill=\"#000000\" font-family=\"sans-serif\" font-size=\"11\" lengthAdjust=\"spacingAndGlyphs\" textLength=\"0\" x=\"443\" y=\"160.3667\"/><rect fill=\"#FFFFFF\" height=\"2\" style=\"stroke: #000000; stroke-width: 1.0;\" width=\"2\" x=\"436\" y=\"155.5586\"/><line style=\"stroke: #000000; stroke-width: 1.0;\" x1=\"429\" x2=\"437\" y1=\"156.5586\" y2=\"156.5586\"/><line style=\"stroke: #000000; stroke-width: 1.0;\" x1=\"429\" x2=\"429\" y1=\"150.1563\" y2=\"156.5586\"/></a><!--MD5=[ebbe1d658d1005bcc118a6aa81145e00]\n",
       "class E4--><a href=\"psysml:5cdadcae-4d33-45cc-84a1-e26eca79ba4d\" target=\"_top\" title=\"psysml:5cdadcae-4d33-45cc-84a1-e26eca79ba4d\" xlink:actuate=\"onRequest\" xlink:href=\"psysml:5cdadcae-4d33-45cc-84a1-e26eca79ba4d\" xlink:show=\"new\" xlink:title=\"psysml:5cdadcae-4d33-45cc-84a1-e26eca79ba4d\" xlink:type=\"simple\"><rect fill=\"#FFFFFF\" height=\"125.9609\" id=\"E4\" style=\"stroke: #383838; stroke-width: 1.5;\" width=\"114\" x=\"272\" y=\"41\"/><text fill=\"#000000\" font-family=\"sans-serif\" font-size=\"12\" font-style=\"italic\" lengthAdjust=\"spacingAndGlyphs\" textLength=\"112\" x=\"273\" y=\"57.1387\">«connection  def»</text><text fill=\"#000000\" font-family=\"sans-serif\" font-size=\"12\" lengthAdjust=\"spacingAndGlyphs\" textLength=\"8\" x=\"325\" y=\"71.1074\">A</text><line style=\"stroke: #383838; stroke-width: 1.5;\" x1=\"273\" x2=\"385\" y1=\"78.9375\" y2=\"78.9375\"/><text fill=\"#000000\" font-family=\"sans-serif\" font-size=\"11\" lengthAdjust=\"spacingAndGlyphs\" textLength=\"29\" x=\"278\" y=\"109.9526\">p1: P</text><line style=\"stroke: #383838; stroke-width: 1.0;\" x1=\"273\" x2=\"314\" y1=\"93.3398\" y2=\"93.3398\"/><text fill=\"#000000\" font-family=\"sans-serif\" font-size=\"11\" lengthAdjust=\"spacingAndGlyphs\" textLength=\"30\" x=\"314\" y=\"96.6479\">ports</text><line style=\"stroke: #383838; stroke-width: 1.0;\" x1=\"344\" x2=\"385\" y1=\"93.3398\" y2=\"93.3398\"/><text fill=\"#000000\" font-family=\"sans-serif\" font-size=\"11\" lengthAdjust=\"spacingAndGlyphs\" textLength=\"0\" x=\"294\" y=\"128.7573\"/><rect fill=\"#FFFFFF\" height=\"2\" style=\"stroke: #000000; stroke-width: 1.0;\" width=\"2\" x=\"287\" y=\"123.9492\"/><line style=\"stroke: #000000; stroke-width: 1.0;\" x1=\"280\" x2=\"288\" y1=\"124.9492\" y2=\"124.9492\"/><line style=\"stroke: #000000; stroke-width: 1.0;\" x1=\"280\" x2=\"280\" y1=\"118.5469\" y2=\"124.9492\"/><text fill=\"#000000\" font-family=\"sans-serif\" font-size=\"11\" lengthAdjust=\"spacingAndGlyphs\" textLength=\"14\" x=\"278\" y=\"144.562\">p2</text><text fill=\"#000000\" font-family=\"sans-serif\" font-size=\"11\" lengthAdjust=\"spacingAndGlyphs\" textLength=\"0\" x=\"294\" y=\"160.3667\"/><rect fill=\"#FFFFFF\" height=\"2\" style=\"stroke: #000000; stroke-width: 1.0;\" width=\"2\" x=\"287\" y=\"155.5586\"/><line style=\"stroke: #000000; stroke-width: 1.0;\" x1=\"280\" x2=\"288\" y1=\"156.5586\" y2=\"156.5586\"/><line style=\"stroke: #000000; stroke-width: 1.0;\" x1=\"280\" x2=\"280\" y1=\"150.1563\" y2=\"156.5586\"/></a><!--MD5=[270fce915f116d4de14055a7c1d9a0f3]\n",
       "class E5--><a href=\"psysml:2bbab23f-cc40-4354-88cc-493e0b41ffd4\" target=\"_top\" title=\"psysml:2bbab23f-cc40-4354-88cc-493e0b41ffd4\" xlink:actuate=\"onRequest\" xlink:href=\"psysml:2bbab23f-cc40-4354-88cc-493e0b41ffd4\" xlink:show=\"new\" xlink:title=\"psysml:2bbab23f-cc40-4354-88cc-493e0b41ffd4\" xlink:type=\"simple\"><rect fill=\"#FFFFFF\" height=\"125.9609\" id=\"E5\" style=\"stroke: #383838; stroke-width: 1.5;\" width=\"100\" x=\"137\" y=\"41\"/><text fill=\"#000000\" font-family=\"sans-serif\" font-size=\"12\" font-style=\"italic\" lengthAdjust=\"spacingAndGlyphs\" textLength=\"98\" x=\"138\" y=\"57.1387\">«interface  def»</text><text fill=\"#000000\" font-family=\"sans-serif\" font-size=\"12\" lengthAdjust=\"spacingAndGlyphs\" textLength=\"3\" x=\"185.5\" y=\"71.1074\">I</text><line style=\"stroke: #383838; stroke-width: 1.5;\" x1=\"138\" x2=\"236\" y1=\"78.9375\" y2=\"78.9375\"/><text fill=\"#000000\" font-family=\"sans-serif\" font-size=\"11\" lengthAdjust=\"spacingAndGlyphs\" textLength=\"29\" x=\"143\" y=\"109.9526\">p1: P</text><line style=\"stroke: #383838; stroke-width: 1.0;\" x1=\"138\" x2=\"172\" y1=\"93.3398\" y2=\"93.3398\"/><text fill=\"#000000\" font-family=\"sans-serif\" font-size=\"11\" lengthAdjust=\"spacingAndGlyphs\" textLength=\"30\" x=\"172\" y=\"96.6479\">ports</text><line style=\"stroke: #383838; stroke-width: 1.0;\" x1=\"202\" x2=\"236\" y1=\"93.3398\" y2=\"93.3398\"/><text fill=\"#000000\" font-family=\"sans-serif\" font-size=\"11\" lengthAdjust=\"spacingAndGlyphs\" textLength=\"0\" x=\"159\" y=\"128.7573\"/><rect fill=\"#FFFFFF\" height=\"2\" style=\"stroke: #000000; stroke-width: 1.0;\" width=\"2\" x=\"152\" y=\"123.9492\"/><line style=\"stroke: #000000; stroke-width: 1.0;\" x1=\"145\" x2=\"153\" y1=\"124.9492\" y2=\"124.9492\"/><line style=\"stroke: #000000; stroke-width: 1.0;\" x1=\"145\" x2=\"145\" y1=\"118.5469\" y2=\"124.9492\"/><text fill=\"#000000\" font-family=\"sans-serif\" font-size=\"11\" lengthAdjust=\"spacingAndGlyphs\" textLength=\"14\" x=\"143\" y=\"144.562\">p2</text><text fill=\"#000000\" font-family=\"sans-serif\" font-size=\"11\" lengthAdjust=\"spacingAndGlyphs\" textLength=\"0\" x=\"159\" y=\"160.3667\"/><rect fill=\"#FFFFFF\" height=\"2\" style=\"stroke: #000000; stroke-width: 1.0;\" width=\"2\" x=\"152\" y=\"155.5586\"/><line style=\"stroke: #000000; stroke-width: 1.0;\" x1=\"145\" x2=\"153\" y1=\"156.5586\" y2=\"156.5586\"/><line style=\"stroke: #000000; stroke-width: 1.0;\" x1=\"145\" x2=\"145\" y1=\"150.1563\" y2=\"156.5586\"/></a><!--MD5=[60a26617385b1d2d0262a64233df1f8d]\n",
       "class E6--><a href=\"psysml:cd0027e5-9ed9-4216-bffa-1e31fa367fb3\" target=\"_top\" title=\"psysml:cd0027e5-9ed9-4216-bffa-1e31fa367fb3\" xlink:actuate=\"onRequest\" xlink:href=\"psysml:cd0027e5-9ed9-4216-bffa-1e31fa367fb3\" xlink:show=\"new\" xlink:title=\"psysml:cd0027e5-9ed9-4216-bffa-1e31fa367fb3\" xlink:type=\"simple\"><rect fill=\"#FFFFFF\" height=\"45.9375\" id=\"E6\" style=\"stroke: #383838; stroke-width: 1.5;\" width=\"70\" x=\"32\" y=\"81\"/><text fill=\"#000000\" font-family=\"sans-serif\" font-size=\"12\" font-style=\"italic\" lengthAdjust=\"spacingAndGlyphs\" textLength=\"68\" x=\"33\" y=\"97.1387\">«part  def»</text><text fill=\"#000000\" font-family=\"sans-serif\" font-size=\"12\" lengthAdjust=\"spacingAndGlyphs\" textLength=\"16\" x=\"59\" y=\"111.1074\">B1</text><line style=\"stroke: #383838; stroke-width: 1.5;\" x1=\"33\" x2=\"101\" y1=\"118.9375\" y2=\"118.9375\"/></a><!--MD5=[2156ba9850f5573cc1fc38a6a4b2f02b]\n",
       "class E7--><a href=\"psysml:3cf8fc76-e05d-49bd-b29f-3b88a47b72de\" target=\"_top\" title=\"psysml:3cf8fc76-e05d-49bd-b29f-3b88a47b72de\" xlink:actuate=\"onRequest\" xlink:href=\"psysml:3cf8fc76-e05d-49bd-b29f-3b88a47b72de\" xlink:show=\"new\" xlink:title=\"psysml:3cf8fc76-e05d-49bd-b29f-3b88a47b72de\" xlink:type=\"simple\"><rect fill=\"#FFFFFF\" height=\"125.9609\" id=\"E7\" rx=\"10\" ry=\"10\" style=\"stroke: #383838; stroke-width: 1.5;\" width=\"42\" x=\"46\" y=\"227\"/><text fill=\"#000000\" font-family=\"sans-serif\" font-size=\"12\" font-style=\"italic\" lengthAdjust=\"spacingAndGlyphs\" textLength=\"40\" x=\"47\" y=\"243.1387\">«part»</text><text fill=\"#000000\" font-family=\"sans-serif\" font-size=\"12\" lengthAdjust=\"spacingAndGlyphs\" textLength=\"8\" x=\"61\" y=\"257.1074\">p</text><line style=\"stroke: #383838; stroke-width: 1.5;\" x1=\"47\" x2=\"87\" y1=\"264.9375\" y2=\"264.9375\"/><text fill=\"#000000\" font-family=\"sans-serif\" font-size=\"11\" lengthAdjust=\"spacingAndGlyphs\" textLength=\"29\" x=\"52\" y=\"295.9526\">p1: P</text><line style=\"stroke: #383838; stroke-width: 1.0;\" x1=\"47\" x2=\"52\" y1=\"279.3398\" y2=\"279.3398\"/><text fill=\"#000000\" font-family=\"sans-serif\" font-size=\"11\" lengthAdjust=\"spacingAndGlyphs\" textLength=\"30\" x=\"52\" y=\"282.6479\">ports</text><line style=\"stroke: #383838; stroke-width: 1.0;\" x1=\"82\" x2=\"87\" y1=\"279.3398\" y2=\"279.3398\"/><text fill=\"#000000\" font-family=\"sans-serif\" font-size=\"11\" lengthAdjust=\"spacingAndGlyphs\" textLength=\"0\" x=\"68\" y=\"314.7573\"/><rect fill=\"#FFFFFF\" height=\"2\" style=\"stroke: #000000; stroke-width: 1.0;\" width=\"2\" x=\"61\" y=\"309.9492\"/><line style=\"stroke: #000000; stroke-width: 1.0;\" x1=\"54\" x2=\"62\" y1=\"310.9492\" y2=\"310.9492\"/><line style=\"stroke: #000000; stroke-width: 1.0;\" x1=\"54\" x2=\"54\" y1=\"304.5469\" y2=\"310.9492\"/><text fill=\"#000000\" font-family=\"sans-serif\" font-size=\"11\" lengthAdjust=\"spacingAndGlyphs\" textLength=\"14\" x=\"52\" y=\"330.562\">p2</text><text fill=\"#000000\" font-family=\"sans-serif\" font-size=\"11\" lengthAdjust=\"spacingAndGlyphs\" textLength=\"0\" x=\"68\" y=\"346.3667\"/><rect fill=\"#FFFFFF\" height=\"2\" style=\"stroke: #000000; stroke-width: 1.0;\" width=\"2\" x=\"61\" y=\"341.5586\"/><line style=\"stroke: #000000; stroke-width: 1.0;\" x1=\"54\" x2=\"62\" y1=\"342.5586\" y2=\"342.5586\"/><line style=\"stroke: #000000; stroke-width: 1.0;\" x1=\"54\" x2=\"54\" y1=\"336.1563\" y2=\"342.5586\"/></a><!--MD5=[3f50a3473f1dfb74d3f76443e03635af]\n",
       "reverse link E6 to E7--><a href=\"psysml:0c56cab0-046e-4827-a921-af226384c943\" target=\"_top\" title=\"psysml:0c56cab0-046e-4827-a921-af226384c943\" xlink:actuate=\"onRequest\" xlink:href=\"psysml:0c56cab0-046e-4827-a921-af226384c943\" xlink:show=\"new\" xlink:title=\"psysml:0c56cab0-046e-4827-a921-af226384c943\" xlink:type=\"simple\"><path d=\"M67,140.49 C67,164.94 67,198.08 67,226.85 \" fill=\"none\" id=\"E6&lt;-E7\" style=\"stroke: #383838; stroke-width: 1.0;\"/><polygon fill=\"#FFFFFF\" points=\"67,127.19,63,133.19,67,139.19,71,133.19,67,127.19\" style=\"stroke: #383838; stroke-width: 1.0;\"/><text fill=\"#000000\" font-family=\"sans-serif\" font-size=\"13\" lengthAdjust=\"spacingAndGlyphs\" textLength=\"8\" x=\"58.5375\" y=\"215.7579\">1</text></a><!--MD5=[e90273a6f58393bb3ce59e92ac983971]\n",
       "@startuml\r\n",
       " skinparam monochrome true\r\n",
       "skinparam classbackgroundcolor white\r\n",
       "skinparam shadowing false\r\n",
       "skinparam wrapWidth 300\r\n",
       "hide circle\r\n",
       "\r\n",
       "package \"ConjugationTest\" as E1  [[psysml:4e179b45-ef84-478c-a2da-b16af7c43fe7 ]]  {\r\n",
       "comp def \"P\" as E2  <<(T,blue) port  def>> [[psysml:859d5a2d-b524-488b-9af4-e0f987adcacf ]] {\r\n",
       "}\r\n",
       "comp def \"B\" as E3  <<(T,blue) part  def>> [[psysml:615e73ac-8544-4e42-b424-8a4747867d0e ]] {\r\n",
       "- - ports - -\r\n",
       "p1: P\r\n",
       "|_ \r\n",
       "p2\r\n",
       "|_ \r\n",
       "}\r\n",
       "comp def \"A\" as E4  <<(T,blue) connection  def>> [[psysml:5cdadcae-4d33-45cc-84a1-e26eca79ba4d ]] {\r\n",
       "- - ports - -\r\n",
       "p1: P\r\n",
       "|_ \r\n",
       "p2\r\n",
       "|_ \r\n",
       "}\r\n",
       "comp def \"I\" as E5  <<(T,blue) interface  def>> [[psysml:2bbab23f-cc40-4354-88cc-493e0b41ffd4 ]] {\r\n",
       "- - ports - -\r\n",
       "p1: P\r\n",
       "|_ \r\n",
       "p2\r\n",
       "|_ \r\n",
       "}\r\n",
       "comp def \"B1\" as E6  <<(T,blue) part  def>> [[psysml:cd0027e5-9ed9-4216-bffa-1e31fa367fb3 ]] {\r\n",
       "}\r\n",
       "comp usage \"p \" as E7  <<(T,blue) part>> [[psysml:3cf8fc76-e05d-49bd-b29f-3b88a47b72de ]] {\r\n",
       "- - ports - -\r\n",
       "p1: P\r\n",
       "|_ \r\n",
       "p2\r\n",
       "|_ \r\n",
       "}\r\n",
       "}\r\n",
       "E6 o- - \"1\"E7 [[psysml:0c56cab0-046e-4827-a921-af226384c943 ]] \r\n",
       "@enduml\r\n",
       "\n",
       "PlantUML version 1.2020.13(Sat Jun 13 12:26:38 UTC 2020)\n",
       "(EPL source distribution)\n",
       "Java Runtime: OpenJDK Runtime Environment\n",
       "JVM: OpenJDK 64-Bit Server VM\n",
       "Default Encoding: UTF-8\n",
       "Language: en\n",
       "Country: null\n",
       "--></g></svg>"
      ]
     },
     "execution_count": 2,
     "metadata": {},
     "output_type": "execute_result"
    }
   ],
   "source": [
    "%viz --style=\"COMPTREE\" --view=\"Default\" \"ConjugationTest\""
   ]
  },
  {
   "cell_type": "code",
   "execution_count": 3,
   "id": "f93fbc72",
   "metadata": {
    "execution": {
     "iopub.execute_input": "2022-08-19T08:18:11.481687Z",
     "iopub.status.busy": "2022-08-19T08:18:11.481189Z",
     "iopub.status.idle": "2022-08-19T08:18:11.607338Z",
     "shell.execute_reply": "2022-08-19T08:18:11.607676Z"
    }
   },
   "outputs": [
    {
     "data": {
      "image/svg+xml": [
       "<?xml version=\"1.0\" encoding=\"UTF-8\" standalone=\"no\"?><svg xmlns=\"http://www.w3.org/2000/svg\" xmlns:xlink=\"http://www.w3.org/1999/xlink\" contentScriptType=\"application/ecmascript\" contentStyleType=\"text/css\" height=\"381px\" preserveAspectRatio=\"none\" style=\"width:634px;height:381px;\" version=\"1.1\" viewBox=\"0 0 634 381\" width=\"634px\" zoomAndPan=\"magnify\"><defs/><g><!--MD5=[fbc87193dbaf4d95561dea2c320d4a47]\n",
       "cluster E1--><a href=\"psysml:4e179b45-ef84-478c-a2da-b16af7c43fe7\" target=\"_top\" title=\"psysml:4e179b45-ef84-478c-a2da-b16af7c43fe7\" xlink:actuate=\"onRequest\" xlink:href=\"psysml:4e179b45-ef84-478c-a2da-b16af7c43fe7\" xlink:show=\"new\" xlink:title=\"psysml:4e179b45-ef84-478c-a2da-b16af7c43fe7\" xlink:type=\"simple\"><polygon fill=\"#FFFFFF\" points=\"16,6,136,6,143,28.2969,612,28.2969,612,369,16,369,16,6\" style=\"stroke: #000000; stroke-width: 1.5;\"/><line style=\"stroke: #000000; stroke-width: 1.5;\" x1=\"16\" x2=\"143\" y1=\"28.2969\" y2=\"28.2969\"/><text fill=\"#000000\" font-family=\"sans-serif\" font-size=\"14\" font-weight=\"bold\" lengthAdjust=\"spacingAndGlyphs\" textLength=\"114\" x=\"20\" y=\"20.9951\">ConjugationTest</text></a><!--MD5=[b4997ac47864f28c2f74865a473b2911]\n",
       "class E2--><a href=\"psysml:859d5a2d-b524-488b-9af4-e0f987adcacf\" target=\"_top\" title=\"psysml:859d5a2d-b524-488b-9af4-e0f987adcacf\" xlink:actuate=\"onRequest\" xlink:href=\"psysml:859d5a2d-b524-488b-9af4-e0f987adcacf\" xlink:show=\"new\" xlink:title=\"psysml:859d5a2d-b524-488b-9af4-e0f987adcacf\" xlink:type=\"simple\"><rect fill=\"#FFFFFF\" height=\"45.9375\" id=\"E2\" style=\"stroke: #383838; stroke-width: 1.5;\" width=\"70\" x=\"526\" y=\"81\"/><text fill=\"#000000\" font-family=\"sans-serif\" font-size=\"12\" font-style=\"italic\" lengthAdjust=\"spacingAndGlyphs\" textLength=\"68\" x=\"527\" y=\"97.1387\">«port  def»</text><text fill=\"#000000\" font-family=\"sans-serif\" font-size=\"12\" lengthAdjust=\"spacingAndGlyphs\" textLength=\"8\" x=\"557\" y=\"111.1074\">P</text><line style=\"stroke: #383838; stroke-width: 1.5;\" x1=\"527\" x2=\"595\" y1=\"118.9375\" y2=\"118.9375\"/></a><!--MD5=[09b614a08d8cba4a07c9adeb5e0fee81]\n",
       "class E3--><a href=\"psysml:615e73ac-8544-4e42-b424-8a4747867d0e\" target=\"_top\" title=\"psysml:615e73ac-8544-4e42-b424-8a4747867d0e\" xlink:actuate=\"onRequest\" xlink:href=\"psysml:615e73ac-8544-4e42-b424-8a4747867d0e\" xlink:show=\"new\" xlink:title=\"psysml:615e73ac-8544-4e42-b424-8a4747867d0e\" xlink:type=\"simple\"><rect fill=\"#FFFFFF\" height=\"125.9609\" id=\"E3\" style=\"stroke: #383838; stroke-width: 1.5;\" width=\"70\" x=\"421\" y=\"41\"/><text fill=\"#000000\" font-family=\"sans-serif\" font-size=\"12\" font-style=\"italic\" lengthAdjust=\"spacingAndGlyphs\" textLength=\"68\" x=\"422\" y=\"57.1387\">«part  def»</text><text fill=\"#000000\" font-family=\"sans-serif\" font-size=\"12\" lengthAdjust=\"spacingAndGlyphs\" textLength=\"8\" x=\"452\" y=\"71.1074\">B</text><line style=\"stroke: #383838; stroke-width: 1.5;\" x1=\"422\" x2=\"490\" y1=\"78.9375\" y2=\"78.9375\"/><text fill=\"#000000\" font-family=\"sans-serif\" font-size=\"11\" lengthAdjust=\"spacingAndGlyphs\" textLength=\"29\" x=\"427\" y=\"109.9526\">p1: P</text><line style=\"stroke: #383838; stroke-width: 1.0;\" x1=\"422\" x2=\"441\" y1=\"93.3398\" y2=\"93.3398\"/><text fill=\"#000000\" font-family=\"sans-serif\" font-size=\"11\" lengthAdjust=\"spacingAndGlyphs\" textLength=\"30\" x=\"441\" y=\"96.6479\">ports</text><line style=\"stroke: #383838; stroke-width: 1.0;\" x1=\"471\" x2=\"490\" y1=\"93.3398\" y2=\"93.3398\"/><text fill=\"#000000\" font-family=\"sans-serif\" font-size=\"11\" lengthAdjust=\"spacingAndGlyphs\" textLength=\"0\" x=\"443\" y=\"128.7573\"/><rect fill=\"#FFFFFF\" height=\"2\" style=\"stroke: #000000; stroke-width: 1.0;\" width=\"2\" x=\"436\" y=\"123.9492\"/><line style=\"stroke: #000000; stroke-width: 1.0;\" x1=\"429\" x2=\"437\" y1=\"124.9492\" y2=\"124.9492\"/><line style=\"stroke: #000000; stroke-width: 1.0;\" x1=\"429\" x2=\"429\" y1=\"118.5469\" y2=\"124.9492\"/><text fill=\"#000000\" font-family=\"sans-serif\" font-size=\"11\" lengthAdjust=\"spacingAndGlyphs\" textLength=\"14\" x=\"427\" y=\"144.562\">p2</text><text fill=\"#000000\" font-family=\"sans-serif\" font-size=\"11\" lengthAdjust=\"spacingAndGlyphs\" textLength=\"0\" x=\"443\" y=\"160.3667\"/><rect fill=\"#FFFFFF\" height=\"2\" style=\"stroke: #000000; stroke-width: 1.0;\" width=\"2\" x=\"436\" y=\"155.5586\"/><line style=\"stroke: #000000; stroke-width: 1.0;\" x1=\"429\" x2=\"437\" y1=\"156.5586\" y2=\"156.5586\"/><line style=\"stroke: #000000; stroke-width: 1.0;\" x1=\"429\" x2=\"429\" y1=\"150.1563\" y2=\"156.5586\"/></a><!--MD5=[ebbe1d658d1005bcc118a6aa81145e00]\n",
       "class E4--><a href=\"psysml:5cdadcae-4d33-45cc-84a1-e26eca79ba4d\" target=\"_top\" title=\"psysml:5cdadcae-4d33-45cc-84a1-e26eca79ba4d\" xlink:actuate=\"onRequest\" xlink:href=\"psysml:5cdadcae-4d33-45cc-84a1-e26eca79ba4d\" xlink:show=\"new\" xlink:title=\"psysml:5cdadcae-4d33-45cc-84a1-e26eca79ba4d\" xlink:type=\"simple\"><rect fill=\"#FFFFFF\" height=\"125.9609\" id=\"E4\" style=\"stroke: #383838; stroke-width: 1.5;\" width=\"114\" x=\"272\" y=\"41\"/><text fill=\"#000000\" font-family=\"sans-serif\" font-size=\"12\" font-style=\"italic\" lengthAdjust=\"spacingAndGlyphs\" textLength=\"112\" x=\"273\" y=\"57.1387\">«connection  def»</text><text fill=\"#000000\" font-family=\"sans-serif\" font-size=\"12\" lengthAdjust=\"spacingAndGlyphs\" textLength=\"8\" x=\"325\" y=\"71.1074\">A</text><line style=\"stroke: #383838; stroke-width: 1.5;\" x1=\"273\" x2=\"385\" y1=\"78.9375\" y2=\"78.9375\"/><text fill=\"#000000\" font-family=\"sans-serif\" font-size=\"11\" lengthAdjust=\"spacingAndGlyphs\" textLength=\"29\" x=\"278\" y=\"109.9526\">p1: P</text><line style=\"stroke: #383838; stroke-width: 1.0;\" x1=\"273\" x2=\"314\" y1=\"93.3398\" y2=\"93.3398\"/><text fill=\"#000000\" font-family=\"sans-serif\" font-size=\"11\" lengthAdjust=\"spacingAndGlyphs\" textLength=\"30\" x=\"314\" y=\"96.6479\">ports</text><line style=\"stroke: #383838; stroke-width: 1.0;\" x1=\"344\" x2=\"385\" y1=\"93.3398\" y2=\"93.3398\"/><text fill=\"#000000\" font-family=\"sans-serif\" font-size=\"11\" lengthAdjust=\"spacingAndGlyphs\" textLength=\"0\" x=\"294\" y=\"128.7573\"/><rect fill=\"#FFFFFF\" height=\"2\" style=\"stroke: #000000; stroke-width: 1.0;\" width=\"2\" x=\"287\" y=\"123.9492\"/><line style=\"stroke: #000000; stroke-width: 1.0;\" x1=\"280\" x2=\"288\" y1=\"124.9492\" y2=\"124.9492\"/><line style=\"stroke: #000000; stroke-width: 1.0;\" x1=\"280\" x2=\"280\" y1=\"118.5469\" y2=\"124.9492\"/><text fill=\"#000000\" font-family=\"sans-serif\" font-size=\"11\" lengthAdjust=\"spacingAndGlyphs\" textLength=\"14\" x=\"278\" y=\"144.562\">p2</text><text fill=\"#000000\" font-family=\"sans-serif\" font-size=\"11\" lengthAdjust=\"spacingAndGlyphs\" textLength=\"0\" x=\"294\" y=\"160.3667\"/><rect fill=\"#FFFFFF\" height=\"2\" style=\"stroke: #000000; stroke-width: 1.0;\" width=\"2\" x=\"287\" y=\"155.5586\"/><line style=\"stroke: #000000; stroke-width: 1.0;\" x1=\"280\" x2=\"288\" y1=\"156.5586\" y2=\"156.5586\"/><line style=\"stroke: #000000; stroke-width: 1.0;\" x1=\"280\" x2=\"280\" y1=\"150.1563\" y2=\"156.5586\"/></a><!--MD5=[270fce915f116d4de14055a7c1d9a0f3]\n",
       "class E5--><a href=\"psysml:2bbab23f-cc40-4354-88cc-493e0b41ffd4\" target=\"_top\" title=\"psysml:2bbab23f-cc40-4354-88cc-493e0b41ffd4\" xlink:actuate=\"onRequest\" xlink:href=\"psysml:2bbab23f-cc40-4354-88cc-493e0b41ffd4\" xlink:show=\"new\" xlink:title=\"psysml:2bbab23f-cc40-4354-88cc-493e0b41ffd4\" xlink:type=\"simple\"><rect fill=\"#FFFFFF\" height=\"125.9609\" id=\"E5\" style=\"stroke: #383838; stroke-width: 1.5;\" width=\"100\" x=\"137\" y=\"41\"/><text fill=\"#000000\" font-family=\"sans-serif\" font-size=\"12\" font-style=\"italic\" lengthAdjust=\"spacingAndGlyphs\" textLength=\"98\" x=\"138\" y=\"57.1387\">«interface  def»</text><text fill=\"#000000\" font-family=\"sans-serif\" font-size=\"12\" lengthAdjust=\"spacingAndGlyphs\" textLength=\"3\" x=\"185.5\" y=\"71.1074\">I</text><line style=\"stroke: #383838; stroke-width: 1.5;\" x1=\"138\" x2=\"236\" y1=\"78.9375\" y2=\"78.9375\"/><text fill=\"#000000\" font-family=\"sans-serif\" font-size=\"11\" lengthAdjust=\"spacingAndGlyphs\" textLength=\"29\" x=\"143\" y=\"109.9526\">p1: P</text><line style=\"stroke: #383838; stroke-width: 1.0;\" x1=\"138\" x2=\"172\" y1=\"93.3398\" y2=\"93.3398\"/><text fill=\"#000000\" font-family=\"sans-serif\" font-size=\"11\" lengthAdjust=\"spacingAndGlyphs\" textLength=\"30\" x=\"172\" y=\"96.6479\">ports</text><line style=\"stroke: #383838; stroke-width: 1.0;\" x1=\"202\" x2=\"236\" y1=\"93.3398\" y2=\"93.3398\"/><text fill=\"#000000\" font-family=\"sans-serif\" font-size=\"11\" lengthAdjust=\"spacingAndGlyphs\" textLength=\"0\" x=\"159\" y=\"128.7573\"/><rect fill=\"#FFFFFF\" height=\"2\" style=\"stroke: #000000; stroke-width: 1.0;\" width=\"2\" x=\"152\" y=\"123.9492\"/><line style=\"stroke: #000000; stroke-width: 1.0;\" x1=\"145\" x2=\"153\" y1=\"124.9492\" y2=\"124.9492\"/><line style=\"stroke: #000000; stroke-width: 1.0;\" x1=\"145\" x2=\"145\" y1=\"118.5469\" y2=\"124.9492\"/><text fill=\"#000000\" font-family=\"sans-serif\" font-size=\"11\" lengthAdjust=\"spacingAndGlyphs\" textLength=\"14\" x=\"143\" y=\"144.562\">p2</text><text fill=\"#000000\" font-family=\"sans-serif\" font-size=\"11\" lengthAdjust=\"spacingAndGlyphs\" textLength=\"0\" x=\"159\" y=\"160.3667\"/><rect fill=\"#FFFFFF\" height=\"2\" style=\"stroke: #000000; stroke-width: 1.0;\" width=\"2\" x=\"152\" y=\"155.5586\"/><line style=\"stroke: #000000; stroke-width: 1.0;\" x1=\"145\" x2=\"153\" y1=\"156.5586\" y2=\"156.5586\"/><line style=\"stroke: #000000; stroke-width: 1.0;\" x1=\"145\" x2=\"145\" y1=\"150.1563\" y2=\"156.5586\"/></a><!--MD5=[60a26617385b1d2d0262a64233df1f8d]\n",
       "class E6--><a href=\"psysml:cd0027e5-9ed9-4216-bffa-1e31fa367fb3\" target=\"_top\" title=\"psysml:cd0027e5-9ed9-4216-bffa-1e31fa367fb3\" xlink:actuate=\"onRequest\" xlink:href=\"psysml:cd0027e5-9ed9-4216-bffa-1e31fa367fb3\" xlink:show=\"new\" xlink:title=\"psysml:cd0027e5-9ed9-4216-bffa-1e31fa367fb3\" xlink:type=\"simple\"><rect fill=\"#FFFFFF\" height=\"45.9375\" id=\"E6\" style=\"stroke: #383838; stroke-width: 1.5;\" width=\"70\" x=\"32\" y=\"81\"/><text fill=\"#000000\" font-family=\"sans-serif\" font-size=\"12\" font-style=\"italic\" lengthAdjust=\"spacingAndGlyphs\" textLength=\"68\" x=\"33\" y=\"97.1387\">«part  def»</text><text fill=\"#000000\" font-family=\"sans-serif\" font-size=\"12\" lengthAdjust=\"spacingAndGlyphs\" textLength=\"16\" x=\"59\" y=\"111.1074\">B1</text><line style=\"stroke: #383838; stroke-width: 1.5;\" x1=\"33\" x2=\"101\" y1=\"118.9375\" y2=\"118.9375\"/></a><!--MD5=[2156ba9850f5573cc1fc38a6a4b2f02b]\n",
       "class E7--><a href=\"psysml:3cf8fc76-e05d-49bd-b29f-3b88a47b72de\" target=\"_top\" title=\"psysml:3cf8fc76-e05d-49bd-b29f-3b88a47b72de\" xlink:actuate=\"onRequest\" xlink:href=\"psysml:3cf8fc76-e05d-49bd-b29f-3b88a47b72de\" xlink:show=\"new\" xlink:title=\"psysml:3cf8fc76-e05d-49bd-b29f-3b88a47b72de\" xlink:type=\"simple\"><rect fill=\"#FFFFFF\" height=\"125.9609\" id=\"E7\" rx=\"10\" ry=\"10\" style=\"stroke: #383838; stroke-width: 1.5;\" width=\"42\" x=\"46\" y=\"227\"/><text fill=\"#000000\" font-family=\"sans-serif\" font-size=\"12\" font-style=\"italic\" lengthAdjust=\"spacingAndGlyphs\" textLength=\"40\" x=\"47\" y=\"243.1387\">«part»</text><text fill=\"#000000\" font-family=\"sans-serif\" font-size=\"12\" lengthAdjust=\"spacingAndGlyphs\" textLength=\"8\" x=\"61\" y=\"257.1074\">p</text><line style=\"stroke: #383838; stroke-width: 1.5;\" x1=\"47\" x2=\"87\" y1=\"264.9375\" y2=\"264.9375\"/><text fill=\"#000000\" font-family=\"sans-serif\" font-size=\"11\" lengthAdjust=\"spacingAndGlyphs\" textLength=\"29\" x=\"52\" y=\"295.9526\">p1: P</text><line style=\"stroke: #383838; stroke-width: 1.0;\" x1=\"47\" x2=\"52\" y1=\"279.3398\" y2=\"279.3398\"/><text fill=\"#000000\" font-family=\"sans-serif\" font-size=\"11\" lengthAdjust=\"spacingAndGlyphs\" textLength=\"30\" x=\"52\" y=\"282.6479\">ports</text><line style=\"stroke: #383838; stroke-width: 1.0;\" x1=\"82\" x2=\"87\" y1=\"279.3398\" y2=\"279.3398\"/><text fill=\"#000000\" font-family=\"sans-serif\" font-size=\"11\" lengthAdjust=\"spacingAndGlyphs\" textLength=\"0\" x=\"68\" y=\"314.7573\"/><rect fill=\"#FFFFFF\" height=\"2\" style=\"stroke: #000000; stroke-width: 1.0;\" width=\"2\" x=\"61\" y=\"309.9492\"/><line style=\"stroke: #000000; stroke-width: 1.0;\" x1=\"54\" x2=\"62\" y1=\"310.9492\" y2=\"310.9492\"/><line style=\"stroke: #000000; stroke-width: 1.0;\" x1=\"54\" x2=\"54\" y1=\"304.5469\" y2=\"310.9492\"/><text fill=\"#000000\" font-family=\"sans-serif\" font-size=\"11\" lengthAdjust=\"spacingAndGlyphs\" textLength=\"14\" x=\"52\" y=\"330.562\">p2</text><text fill=\"#000000\" font-family=\"sans-serif\" font-size=\"11\" lengthAdjust=\"spacingAndGlyphs\" textLength=\"0\" x=\"68\" y=\"346.3667\"/><rect fill=\"#FFFFFF\" height=\"2\" style=\"stroke: #000000; stroke-width: 1.0;\" width=\"2\" x=\"61\" y=\"341.5586\"/><line style=\"stroke: #000000; stroke-width: 1.0;\" x1=\"54\" x2=\"62\" y1=\"342.5586\" y2=\"342.5586\"/><line style=\"stroke: #000000; stroke-width: 1.0;\" x1=\"54\" x2=\"54\" y1=\"336.1563\" y2=\"342.5586\"/></a><!--MD5=[3f50a3473f1dfb74d3f76443e03635af]\n",
       "reverse link E6 to E7--><a href=\"psysml:0c56cab0-046e-4827-a921-af226384c943\" target=\"_top\" title=\"psysml:0c56cab0-046e-4827-a921-af226384c943\" xlink:actuate=\"onRequest\" xlink:href=\"psysml:0c56cab0-046e-4827-a921-af226384c943\" xlink:show=\"new\" xlink:title=\"psysml:0c56cab0-046e-4827-a921-af226384c943\" xlink:type=\"simple\"><path d=\"M67,140.49 C67,164.94 67,198.08 67,226.85 \" fill=\"none\" id=\"E6&lt;-E7\" style=\"stroke: #383838; stroke-width: 1.0;\"/><polygon fill=\"#FFFFFF\" points=\"67,127.19,63,133.19,67,139.19,71,133.19,67,127.19\" style=\"stroke: #383838; stroke-width: 1.0;\"/><text fill=\"#000000\" font-family=\"sans-serif\" font-size=\"13\" lengthAdjust=\"spacingAndGlyphs\" textLength=\"8\" x=\"58.5375\" y=\"215.7579\">1</text></a><!--MD5=[e90273a6f58393bb3ce59e92ac983971]\n",
       "@startuml\r\n",
       " skinparam monochrome true\r\n",
       "skinparam classbackgroundcolor white\r\n",
       "skinparam shadowing false\r\n",
       "skinparam wrapWidth 300\r\n",
       "hide circle\r\n",
       "\r\n",
       "package \"ConjugationTest\" as E1  [[psysml:4e179b45-ef84-478c-a2da-b16af7c43fe7 ]]  {\r\n",
       "comp def \"P\" as E2  <<(T,blue) port  def>> [[psysml:859d5a2d-b524-488b-9af4-e0f987adcacf ]] {\r\n",
       "}\r\n",
       "comp def \"B\" as E3  <<(T,blue) part  def>> [[psysml:615e73ac-8544-4e42-b424-8a4747867d0e ]] {\r\n",
       "- - ports - -\r\n",
       "p1: P\r\n",
       "|_ \r\n",
       "p2\r\n",
       "|_ \r\n",
       "}\r\n",
       "comp def \"A\" as E4  <<(T,blue) connection  def>> [[psysml:5cdadcae-4d33-45cc-84a1-e26eca79ba4d ]] {\r\n",
       "- - ports - -\r\n",
       "p1: P\r\n",
       "|_ \r\n",
       "p2\r\n",
       "|_ \r\n",
       "}\r\n",
       "comp def \"I\" as E5  <<(T,blue) interface  def>> [[psysml:2bbab23f-cc40-4354-88cc-493e0b41ffd4 ]] {\r\n",
       "- - ports - -\r\n",
       "p1: P\r\n",
       "|_ \r\n",
       "p2\r\n",
       "|_ \r\n",
       "}\r\n",
       "comp def \"B1\" as E6  <<(T,blue) part  def>> [[psysml:cd0027e5-9ed9-4216-bffa-1e31fa367fb3 ]] {\r\n",
       "}\r\n",
       "comp usage \"p \" as E7  <<(T,blue) part>> [[psysml:3cf8fc76-e05d-49bd-b29f-3b88a47b72de ]] {\r\n",
       "- - ports - -\r\n",
       "p1: P\r\n",
       "|_ \r\n",
       "p2\r\n",
       "|_ \r\n",
       "}\r\n",
       "}\r\n",
       "E6 o- - \"1\"E7 [[psysml:0c56cab0-046e-4827-a921-af226384c943 ]] \r\n",
       "@enduml\r\n",
       "\n",
       "PlantUML version 1.2020.13(Sat Jun 13 12:26:38 UTC 2020)\n",
       "(EPL source distribution)\n",
       "Java Runtime: OpenJDK Runtime Environment\n",
       "JVM: OpenJDK 64-Bit Server VM\n",
       "Default Encoding: UTF-8\n",
       "Language: en\n",
       "Country: null\n",
       "--></g></svg>"
      ]
     },
     "execution_count": 3,
     "metadata": {},
     "output_type": "execute_result"
    }
   ],
   "source": [
    "%viz --style=\"COMPTREE\" --view=\"Tree\" \"ConjugationTest\""
   ]
  },
  {
   "cell_type": "code",
   "execution_count": 4,
   "id": "73d45ff3",
   "metadata": {
    "execution": {
     "iopub.execute_input": "2022-08-19T08:18:11.657376Z",
     "iopub.status.busy": "2022-08-19T08:18:11.656885Z",
     "iopub.status.idle": "2022-08-19T08:18:11.663049Z",
     "shell.execute_reply": "2022-08-19T08:18:11.662658Z"
    }
   },
   "outputs": [
    {
     "data": {
      "image/svg+xml": [
       "<?xml version=\"1.0\" encoding=\"UTF-8\" standalone=\"no\"?><svg xmlns=\"http://www.w3.org/2000/svg\" xmlns:xlink=\"http://www.w3.org/1999/xlink\" contentScriptType=\"application/ecmascript\" contentStyleType=\"text/css\" height=\"12px\" preserveAspectRatio=\"none\" style=\"width:12px;height:12px;\" version=\"1.1\" viewBox=\"0 0 12 12\" width=\"12px\" zoomAndPan=\"magnify\"><defs/><g><!--MD5=[f19188ef49e11757b5c46753f95d9edc]\n",
       "@startuml\r\n",
       " skinparam monochrome true\r\n",
       "skinparam classbackgroundcolor white\r\n",
       "skinparam shadowing false\r\n",
       "skinparam wrapWidth 300\r\n",
       "hide circle\r\n",
       "\r\n",
       "@enduml\r\n",
       "\n",
       "PlantUML version 1.2020.13(Sat Jun 13 12:26:38 UTC 2020)\n",
       "(EPL source distribution)\n",
       "Java Runtime: OpenJDK Runtime Environment\n",
       "JVM: OpenJDK 64-Bit Server VM\n",
       "Default Encoding: UTF-8\n",
       "Language: en\n",
       "Country: null\n",
       "--></g></svg>"
      ]
     },
     "execution_count": 4,
     "metadata": {},
     "output_type": "execute_result"
    }
   ],
   "source": [
    "%viz --style=\"COMPTREE\" --view=\"State\" \"ConjugationTest\""
   ]
  },
  {
   "cell_type": "code",
   "execution_count": 5,
   "id": "d0fb01d8",
   "metadata": {
    "execution": {
     "iopub.execute_input": "2022-08-19T08:18:11.713105Z",
     "iopub.status.busy": "2022-08-19T08:18:11.712640Z",
     "iopub.status.idle": "2022-08-19T08:18:11.760855Z",
     "shell.execute_reply": "2022-08-19T08:18:11.759333Z"
    }
   },
   "outputs": [
    {
     "data": {
      "image/svg+xml": [
       "<?xml version=\"1.0\" encoding=\"UTF-8\" standalone=\"no\"?><svg xmlns=\"http://www.w3.org/2000/svg\" xmlns:xlink=\"http://www.w3.org/1999/xlink\" contentScriptType=\"application/ecmascript\" contentStyleType=\"text/css\" height=\"299px\" preserveAspectRatio=\"none\" style=\"width:765px;height:299px;\" version=\"1.1\" viewBox=\"0 0 765 299\" width=\"765px\" zoomAndPan=\"magnify\"><defs/><g><!--MD5=[fbc87193dbaf4d95561dea2c320d4a47]\n",
       "cluster E1--><a href=\"psysml:4e179b45-ef84-478c-a2da-b16af7c43fe7\" target=\"_top\" title=\"psysml:4e179b45-ef84-478c-a2da-b16af7c43fe7\" xlink:actuate=\"onRequest\" xlink:href=\"psysml:4e179b45-ef84-478c-a2da-b16af7c43fe7\" xlink:show=\"new\" xlink:title=\"psysml:4e179b45-ef84-478c-a2da-b16af7c43fe7\" xlink:type=\"simple\"><polygon fill=\"#FFFFFF\" points=\"16,6,136,6,143,28.2969,743,28.2969,743,287.36,16,287.36,16,6\" style=\"stroke: #000000; stroke-width: 1.5;\"/><line style=\"stroke: #000000; stroke-width: 1.5;\" x1=\"16\" x2=\"143\" y1=\"28.2969\" y2=\"28.2969\"/><text fill=\"#000000\" font-family=\"sans-serif\" font-size=\"14\" font-weight=\"bold\" lengthAdjust=\"spacingAndGlyphs\" textLength=\"114\" x=\"20\" y=\"20.9951\">ConjugationTest</text></a><!--MD5=[d5e69f78d87373223dbae638b30a9c99]\n",
       "cluster E3--><a href=\"psysml:615e73ac-8544-4e42-b424-8a4747867d0e\" target=\"_top\" title=\"psysml:615e73ac-8544-4e42-b424-8a4747867d0e\" xlink:actuate=\"onRequest\" xlink:href=\"psysml:615e73ac-8544-4e42-b424-8a4747867d0e\" xlink:show=\"new\" xlink:title=\"psysml:615e73ac-8544-4e42-b424-8a4747867d0e\" xlink:type=\"simple\"><rect fill=\"#FFFFFF\" height=\"88.5\" id=\"E3\" style=\"stroke: #383838; stroke-width: 1.5;\" width=\"85\" x=\"600\" y=\"114\"/><rect fill=\"#F8F8F8\" height=\"37.9375\" style=\"stroke: #383838; stroke-width: 1.5;\" width=\"85\" x=\"600\" y=\"114\"/><text fill=\"#000000\" font-family=\"sans-serif\" font-size=\"12\" font-style=\"italic\" lengthAdjust=\"spacingAndGlyphs\" textLength=\"68\" x=\"608.5\" y=\"130.1387\">«part  def»</text><text fill=\"#000000\" font-family=\"sans-serif\" font-size=\"12\" lengthAdjust=\"spacingAndGlyphs\" textLength=\"8\" x=\"638.5\" y=\"144.1074\">B</text></a><!--MD5=[14e3b0961a2654348d326746436168a1]\n",
       "cluster E6--><a href=\"psysml:5cdadcae-4d33-45cc-84a1-e26eca79ba4d\" target=\"_top\" title=\"psysml:5cdadcae-4d33-45cc-84a1-e26eca79ba4d\" xlink:actuate=\"onRequest\" xlink:href=\"psysml:5cdadcae-4d33-45cc-84a1-e26eca79ba4d\" xlink:show=\"new\" xlink:title=\"psysml:5cdadcae-4d33-45cc-84a1-e26eca79ba4d\" xlink:type=\"simple\"><rect fill=\"#FFFFFF\" height=\"88.5\" id=\"E6\" style=\"stroke: #383838; stroke-width: 1.5;\" width=\"152\" x=\"443\" y=\"114\"/><rect fill=\"#F8F8F8\" height=\"37.9375\" style=\"stroke: #383838; stroke-width: 1.5;\" width=\"152\" x=\"443\" y=\"114\"/><text fill=\"#000000\" font-family=\"sans-serif\" font-size=\"12\" font-style=\"italic\" lengthAdjust=\"spacingAndGlyphs\" textLength=\"112\" x=\"463\" y=\"130.1387\">«connection  def»</text><text fill=\"#000000\" font-family=\"sans-serif\" font-size=\"12\" lengthAdjust=\"spacingAndGlyphs\" textLength=\"8\" x=\"515\" y=\"144.1074\">A</text></a><!--MD5=[7f149f147074ac12df2cb0a7728a5fb0]\n",
       "cluster E9--><a href=\"psysml:2bbab23f-cc40-4354-88cc-493e0b41ffd4\" target=\"_top\" title=\"psysml:2bbab23f-cc40-4354-88cc-493e0b41ffd4\" xlink:actuate=\"onRequest\" xlink:href=\"psysml:2bbab23f-cc40-4354-88cc-493e0b41ffd4\" xlink:show=\"new\" xlink:title=\"psysml:2bbab23f-cc40-4354-88cc-493e0b41ffd4\" xlink:type=\"simple\"><rect fill=\"#FFFFFF\" height=\"88.5\" id=\"E9\" style=\"stroke: #383838; stroke-width: 1.5;\" width=\"143\" x=\"270\" y=\"114\"/><rect fill=\"#F8F8F8\" height=\"37.9375\" style=\"stroke: #383838; stroke-width: 1.5;\" width=\"143\" x=\"270\" y=\"114\"/><text fill=\"#000000\" font-family=\"sans-serif\" font-size=\"12\" font-style=\"italic\" lengthAdjust=\"spacingAndGlyphs\" textLength=\"98\" x=\"292.5\" y=\"130.1387\">«interface  def»</text><text fill=\"#000000\" font-family=\"sans-serif\" font-size=\"12\" lengthAdjust=\"spacingAndGlyphs\" textLength=\"3\" x=\"340\" y=\"144.1074\">I</text></a><!--MD5=[47bea60c1a0ac6c1143df232041969c0]\n",
       "cluster E12--><a href=\"psysml:cd0027e5-9ed9-4216-bffa-1e31fa367fb3\" target=\"_top\" title=\"psysml:cd0027e5-9ed9-4216-bffa-1e31fa367fb3\" xlink:actuate=\"onRequest\" xlink:href=\"psysml:cd0027e5-9ed9-4216-bffa-1e31fa367fb3\" xlink:show=\"new\" xlink:title=\"psysml:cd0027e5-9ed9-4216-bffa-1e31fa367fb3\" xlink:type=\"simple\"><rect fill=\"#FFFFFF\" height=\"214.36\" id=\"E12\" style=\"stroke: #383838; stroke-width: 1.5;\" width=\"119\" x=\"122\" y=\"49\"/><rect fill=\"#F8F8F8\" height=\"37.9375\" style=\"stroke: #383838; stroke-width: 1.5;\" width=\"119\" x=\"122\" y=\"49\"/><text fill=\"#000000\" font-family=\"sans-serif\" font-size=\"12\" font-style=\"italic\" lengthAdjust=\"spacingAndGlyphs\" textLength=\"68\" x=\"147.5\" y=\"65.1387\">«part  def»</text><text fill=\"#000000\" font-family=\"sans-serif\" font-size=\"12\" lengthAdjust=\"spacingAndGlyphs\" textLength=\"16\" x=\"173.5\" y=\"79.1074\">B1</text></a><!--MD5=[03104f77b71e2d8d3500c651e6e31181]\n",
       "cluster E13--><a href=\"psysml:3cf8fc76-e05d-49bd-b29f-3b88a47b72de\" target=\"_top\" title=\"psysml:3cf8fc76-e05d-49bd-b29f-3b88a47b72de\" xlink:actuate=\"onRequest\" xlink:href=\"psysml:3cf8fc76-e05d-49bd-b29f-3b88a47b72de\" xlink:show=\"new\" xlink:title=\"psysml:3cf8fc76-e05d-49bd-b29f-3b88a47b72de\" xlink:type=\"simple\"><rect fill=\"#FFFFFF\" height=\"119.36\" id=\"E13\" rx=\"10\" ry=\"10\" style=\"stroke: #383838; stroke-width: 1.5;\" width=\"86\" x=\"139\" y=\"114\"/><rect fill=\"#F8F8F8\" height=\"23.9688\" rx=\"10\" ry=\"10\" style=\"stroke: #F8F8F8; stroke-width: 1.5;\" width=\"86\" x=\"139\" y=\"114\"/><rect fill=\"#F8F8F8\" height=\"10\" style=\"stroke: #F8F8F8; stroke-width: 1.5;\" width=\"86\" x=\"139\" y=\"127.9688\"/><rect fill=\"none\" height=\"119.36\" id=\"E13\" rx=\"10\" ry=\"10\" style=\"stroke: #383838; stroke-width: 1.5;\" width=\"86\" x=\"139\" y=\"114\"/><text fill=\"#000000\" font-family=\"sans-serif\" font-size=\"12\" lengthAdjust=\"spacingAndGlyphs\" textLength=\"8\" x=\"178\" y=\"130.1387\">p</text><line style=\"stroke: #383838; stroke-width: 1.0;\" x1=\"139\" x2=\"225\" y1=\"137.9688\" y2=\"137.9688\"/></a><g id=\"E1.E2\"><a href=\"psysml:859d5a2d-b524-488b-9af4-e0f987adcacf\" target=\"_top\" title=\"psysml:859d5a2d-b524-488b-9af4-e0f987adcacf\" xlink:actuate=\"onRequest\" xlink:href=\"psysml:859d5a2d-b524-488b-9af4-e0f987adcacf\" xlink:show=\"new\" xlink:title=\"psysml:859d5a2d-b524-488b-9af4-e0f987adcacf\" xlink:type=\"simple\"><rect fill=\"#FFFFFF\" height=\"42.9375\" id=\"E2\" style=\"stroke: #383838; stroke-width: 1.5;\" width=\"75\" x=\"31.5\" y=\"92.5\"/><rect fill=\"#F8F8F8\" height=\"37.9375\" style=\"stroke: #383838; stroke-width: 1.5;\" width=\"75\" x=\"31.5\" y=\"92.5\"/><text fill=\"#000000\" font-family=\"sans-serif\" font-size=\"12\" font-style=\"italic\" lengthAdjust=\"spacingAndGlyphs\" textLength=\"68\" x=\"35\" y=\"108.6387\">«port  def»</text><text fill=\"#000000\" font-family=\"sans-serif\" font-size=\"12\" lengthAdjust=\"spacingAndGlyphs\" textLength=\"8\" x=\"65\" y=\"122.6074\">P</text></a></g><text fill=\"#000000\" font-family=\"sans-serif\" font-size=\"14\" lengthAdjust=\"spacingAndGlyphs\" textLength=\"36\" x=\"598\" y=\"92.6982\">p1: P</text><rect fill=\"#383838\" height=\"12\" style=\"stroke: #F8F8F8; stroke-width: 1.5;\" width=\"12\" x=\"612\" y=\"108\"/><text fill=\"#000000\" font-family=\"sans-serif\" font-size=\"14\" lengthAdjust=\"spacingAndGlyphs\" textLength=\"18\" x=\"654\" y=\"92.6982\">p2</text><rect fill=\"#383838\" height=\"12\" style=\"stroke: #F8F8F8; stroke-width: 1.5;\" width=\"12\" x=\"659\" y=\"108\"/><text fill=\"#000000\" font-family=\"sans-serif\" font-size=\"14\" lengthAdjust=\"spacingAndGlyphs\" textLength=\"36\" x=\"441\" y=\"92.6982\">p1: P</text><rect fill=\"#383838\" height=\"12\" style=\"stroke: #F8F8F8; stroke-width: 1.5;\" width=\"12\" x=\"455\" y=\"108\"/><text fill=\"#000000\" font-family=\"sans-serif\" font-size=\"14\" lengthAdjust=\"spacingAndGlyphs\" textLength=\"18\" x=\"497\" y=\"92.6982\">p2</text><rect fill=\"#383838\" height=\"12\" style=\"stroke: #F8F8F8; stroke-width: 1.5;\" width=\"12\" x=\"502\" y=\"108\"/><text fill=\"#000000\" font-family=\"sans-serif\" font-size=\"14\" lengthAdjust=\"spacingAndGlyphs\" textLength=\"36\" x=\"268\" y=\"92.6982\">p1: P</text><rect fill=\"#383838\" height=\"12\" style=\"stroke: #F8F8F8; stroke-width: 1.5;\" width=\"12\" x=\"282\" y=\"108\"/><text fill=\"#000000\" font-family=\"sans-serif\" font-size=\"14\" lengthAdjust=\"spacingAndGlyphs\" textLength=\"18\" x=\"324\" y=\"92.6982\">p2</text><rect fill=\"#383838\" height=\"12\" style=\"stroke: #F8F8F8; stroke-width: 1.5;\" width=\"12\" x=\"329\" y=\"108\"/><text fill=\"#000000\" font-family=\"sans-serif\" font-size=\"14\" lengthAdjust=\"spacingAndGlyphs\" textLength=\"36\" x=\"137\" y=\"252.3551\">p1: P</text><rect fill=\"#383838\" height=\"12\" style=\"stroke: #F8F8F8; stroke-width: 1.5;\" width=\"12\" x=\"151\" y=\"227.36\"/><text fill=\"#000000\" font-family=\"sans-serif\" font-size=\"14\" lengthAdjust=\"spacingAndGlyphs\" textLength=\"18\" x=\"156\" y=\"92.6982\">p2</text><rect fill=\"#383838\" height=\"12\" style=\"stroke: #F8F8F8; stroke-width: 1.5;\" width=\"12\" x=\"161\" y=\"108\"/><!--MD5=[3afbdc645381407e1bc99677323a2513]\n",
       "link E14 to E15--><a href=\"psysml:1f31a0eb-24e7-4abd-8eab-15c525015988\" target=\"_top\" title=\"psysml:1f31a0eb-24e7-4abd-8eab-15c525015988\" xlink:actuate=\"onRequest\" xlink:href=\"psysml:1f31a0eb-24e7-4abd-8eab-15c525015988\" xlink:show=\"new\" xlink:title=\"psysml:1f31a0eb-24e7-4abd-8eab-15c525015988\" xlink:type=\"simple\"><path d=\"M163.22,229.87 C168.78,228 175.08,224.8 179,219.36 C198.71,192.01 192.04,174.59 179,143.5 C173.54,130.48 158.91,120.41 160.88,116.63 \" fill=\"none\" id=\"E14-E15\" style=\"stroke: #383838; stroke-width: 3.0;\"/></a><!--MD5=[3afbdc645381407e1bc99677323a2513]\n",
       "link E14 to E15--><a href=\"psysml:c2fd36d5-55a7-4367-ae55-c3f656adabca\" target=\"_top\" title=\"psysml:c2fd36d5-55a7-4367-ae55-c3f656adabca\" xlink:actuate=\"onRequest\" xlink:href=\"psysml:c2fd36d5-55a7-4367-ae55-c3f656adabca\" xlink:show=\"new\" xlink:title=\"psysml:c2fd36d5-55a7-4367-ae55-c3f656adabca\" xlink:type=\"simple\"><path d=\"M163.24,232.4 C180.98,232.56 204.49,232.56 214,219.36 C233.71,192.01 227.04,174.59 214,143.5 C207.78,128.66 189.64,117.65 173.03,115.42 \" fill=\"none\" id=\"E14-E15-1\" style=\"stroke: #383838; stroke-width: 3.0;\"/></a><!--MD5=[8c29b90aa0820781267ccfc2d95d91d2]\n",
       "@startuml\r\n",
       "skinparam ranksep 10\r\n",
       "skinparam rectangle {\r\n",
       " backgroundColor<<block>> LightGreen\r\n",
       "}\r\n",
       " skinparam monochrome true\r\n",
       "skinparam classbackgroundcolor white\r\n",
       "skinparam shadowing false\r\n",
       "skinparam wrapWidth 300\r\n",
       "hide circle\r\n",
       "\r\n",
       "package \"ConjugationTest\" as E1  [[psysml:4e179b45-ef84-478c-a2da-b16af7c43fe7 ]]  {\r\n",
       "def \"P\" as E2  <<(T,blue) port  def>> [[psysml:859d5a2d-b524-488b-9af4-e0f987adcacf ]] \r\n",
       "rec def \"B\" as E3  <<(T,blue) part  def>> [[psysml:615e73ac-8544-4e42-b424-8a4747867d0e ]] {\r\n",
       "portin \"p1: P \" as E4  <<(T,blue) port>> [[psysml:37d2c32c-e4e6-4c0b-af75-96cd6556dd4d ]] \r\n",
       "portin \"p2 \" as E5  <<(T,blue) port>> [[psysml:a7d82e4a-e12d-4520-9ae6-c89754eb7506 ]] \r\n",
       "}\r\n",
       "rec def \"A\" as E6  <<(T,blue) connection  def>> [[psysml:5cdadcae-4d33-45cc-84a1-e26eca79ba4d ]] {\r\n",
       "portin \"p1: P \" as E7  <<(T,blue) port>> [[psysml:7fb982ae-cae7-41b0-848a-52bb93191ec3 ]] \r\n",
       "portin \"p2 \" as E8  <<(T,blue) port>> [[psysml:5c21b9df-62cf-4ee8-9145-76efb13de7e4 ]] \r\n",
       "}\r\n",
       "rec def \"I\" as E9  <<(T,blue) interface  def>> [[psysml:2bbab23f-cc40-4354-88cc-493e0b41ffd4 ]] {\r\n",
       "portin \"p1: P \" as E10  <<(T,blue) port>> [[psysml:e0785fbe-faad-409c-b39f-62ae49a7d6e0 ]] \r\n",
       "portin \"p2 \" as E11  <<(T,blue) port>> [[psysml:a18508b4-2f12-4bca-8dd1-291939c34d14 ]] \r\n",
       "}\r\n",
       "rec def \"B1\" as E12  <<(T,blue) part  def>> [[psysml:cd0027e5-9ed9-4216-bffa-1e31fa367fb3 ]] {\r\n",
       "rec usage \"p\" as E13  [[psysml:3cf8fc76-e05d-49bd-b29f-3b88a47b72de ]] {\r\n",
       "portout \"p1: P \" as E14  <<(T,blue) port>> [[psysml:6cf362ef-4bb1-44a5-8272-767638a97c43 ]] \r\n",
       "portin \"p2 \" as E15  <<(T,blue) port>> [[psysml:33e7cbb5-c462-4d34-9030-b3438d816b29 ]] \r\n",
       "}\r\n",
       "}\r\n",
       "}\r\n",
       "E14 -[thickness=3]- E15 [[psysml:1f31a0eb-24e7-4abd-8eab-15c525015988 ]] \r\n",
       "E14 -[thickness=3]- E15 [[psysml:c2fd36d5-55a7-4367-ae55-c3f656adabca ]] \r\n",
       "@enduml\r\n",
       "\n",
       "PlantUML version 1.2020.13(Sat Jun 13 12:26:38 UTC 2020)\n",
       "(EPL source distribution)\n",
       "Java Runtime: OpenJDK Runtime Environment\n",
       "JVM: OpenJDK 64-Bit Server VM\n",
       "Default Encoding: UTF-8\n",
       "Language: en\n",
       "Country: null\n",
       "--></g></svg>"
      ]
     },
     "execution_count": 5,
     "metadata": {},
     "output_type": "execute_result"
    }
   ],
   "source": [
    "%viz --style=\"COMPTREE\" --view=\"Interconnection\" \"ConjugationTest\""
   ]
  },
  {
   "cell_type": "code",
   "execution_count": 6,
   "id": "9da74bfc",
   "metadata": {
    "execution": {
     "iopub.execute_input": "2022-08-19T08:18:11.810726Z",
     "iopub.status.busy": "2022-08-19T08:18:11.810266Z",
     "iopub.status.idle": "2022-08-19T08:18:11.818698Z",
     "shell.execute_reply": "2022-08-19T08:18:11.819021Z"
    }
   },
   "outputs": [
    {
     "data": {
      "image/svg+xml": [
       "<?xml version=\"1.0\" encoding=\"UTF-8\" standalone=\"no\"?><svg xmlns=\"http://www.w3.org/2000/svg\" xmlns:xlink=\"http://www.w3.org/1999/xlink\" contentScriptType=\"application/ecmascript\" contentStyleType=\"text/css\" height=\"12px\" preserveAspectRatio=\"none\" style=\"width:12px;height:12px;\" version=\"1.1\" viewBox=\"0 0 12 12\" width=\"12px\" zoomAndPan=\"magnify\"><defs/><g><!--MD5=[655b888544ca4751ea36af1068543f84]\n",
       "@startuml\r\n",
       "skinparam ranksep 8\r\n",
       " skinparam monochrome true\r\n",
       "skinparam classbackgroundcolor white\r\n",
       "skinparam shadowing false\r\n",
       "skinparam wrapWidth 300\r\n",
       "hide circle\r\n",
       "\r\n",
       "@enduml\r\n",
       "\n",
       "PlantUML version 1.2020.13(Sat Jun 13 12:26:38 UTC 2020)\n",
       "(EPL source distribution)\n",
       "Java Runtime: OpenJDK Runtime Environment\n",
       "JVM: OpenJDK 64-Bit Server VM\n",
       "Default Encoding: UTF-8\n",
       "Language: en\n",
       "Country: null\n",
       "--></g></svg>"
      ]
     },
     "execution_count": 6,
     "metadata": {},
     "output_type": "execute_result"
    }
   ],
   "source": [
    "%viz --style=\"COMPTREE\" --view=\"Action\" \"ConjugationTest\""
   ]
  },
  {
   "cell_type": "code",
   "execution_count": 7,
   "id": "927553ed",
   "metadata": {
    "execution": {
     "iopub.execute_input": "2022-08-19T08:18:11.869583Z",
     "iopub.status.busy": "2022-08-19T08:18:11.869146Z",
     "iopub.status.idle": "2022-08-19T08:18:11.883234Z",
     "shell.execute_reply": "2022-08-19T08:18:11.883556Z"
    }
   },
   "outputs": [
    {
     "data": {
      "image/svg+xml": [
       "<?xml version=\"1.0\" encoding=\"UTF-8\" standalone=\"no\"?><svg xmlns=\"http://www.w3.org/2000/svg\" xmlns:xlink=\"http://www.w3.org/1999/xlink\" contentScriptType=\"application/ecmascript\" contentStyleType=\"text/css\" height=\"12px\" preserveAspectRatio=\"none\" style=\"width:12px;height:12px;\" version=\"1.1\" viewBox=\"0 0 12 12\" width=\"12px\" zoomAndPan=\"magnify\"><defs/><g><!--MD5=[803fc46c337be7a5c8a9831e35356779]\n",
       "@startuml\r\n",
       "skinparam roundcorner 20\r\n",
       "skinparam BoxPadding 20\r\n",
       "skinparam SequenceBoxBackgroundColor #white\r\n",
       "skinparam style strictuml\r\n",
       "skinparam maxMessageSize 100\r\n",
       " skinparam monochrome true\r\n",
       "skinparam classbackgroundcolor white\r\n",
       "skinparam shadowing false\r\n",
       "skinparam wrapWidth 300\r\n",
       "hide circle\r\n",
       "\r\n",
       "@enduml\r\n",
       "\n",
       "PlantUML version 1.2020.13(Sat Jun 13 12:26:38 UTC 2020)\n",
       "(EPL source distribution)\n",
       "Java Runtime: OpenJDK Runtime Environment\n",
       "JVM: OpenJDK 64-Bit Server VM\n",
       "Default Encoding: UTF-8\n",
       "Language: en\n",
       "Country: null\n",
       "--></g></svg>"
      ]
     },
     "execution_count": 7,
     "metadata": {},
     "output_type": "execute_result"
    }
   ],
   "source": [
    "%viz --style=\"COMPTREE\" --view=\"Sequence\" \"ConjugationTest\""
   ]
  },
  {
   "cell_type": "code",
   "execution_count": 8,
   "id": "c22b1c93",
   "metadata": {
    "execution": {
     "iopub.execute_input": "2022-08-19T08:18:11.934183Z",
     "iopub.status.busy": "2022-08-19T08:18:11.933714Z",
     "iopub.status.idle": "2022-08-19T08:18:12.051834Z",
     "shell.execute_reply": "2022-08-19T08:18:12.050560Z"
    }
   },
   "outputs": [
    {
     "data": {
      "image/svg+xml": [
       "<?xml version=\"1.0\" encoding=\"UTF-8\" standalone=\"no\"?><svg xmlns=\"http://www.w3.org/2000/svg\" xmlns:xlink=\"http://www.w3.org/1999/xlink\" contentScriptType=\"application/ecmascript\" contentStyleType=\"text/css\" height=\"381px\" preserveAspectRatio=\"none\" style=\"width:634px;height:381px;\" version=\"1.1\" viewBox=\"0 0 634 381\" width=\"634px\" zoomAndPan=\"magnify\"><defs/><g><!--MD5=[fbc87193dbaf4d95561dea2c320d4a47]\n",
       "cluster E1--><a href=\"psysml:4e179b45-ef84-478c-a2da-b16af7c43fe7\" target=\"_top\" title=\"psysml:4e179b45-ef84-478c-a2da-b16af7c43fe7\" xlink:actuate=\"onRequest\" xlink:href=\"psysml:4e179b45-ef84-478c-a2da-b16af7c43fe7\" xlink:show=\"new\" xlink:title=\"psysml:4e179b45-ef84-478c-a2da-b16af7c43fe7\" xlink:type=\"simple\"><polygon fill=\"#FFFFFF\" points=\"16,6,136,6,143,28.2969,612,28.2969,612,369,16,369,16,6\" style=\"stroke: #000000; stroke-width: 1.5;\"/><line style=\"stroke: #000000; stroke-width: 1.5;\" x1=\"16\" x2=\"143\" y1=\"28.2969\" y2=\"28.2969\"/><text fill=\"#000000\" font-family=\"sans-serif\" font-size=\"14\" font-weight=\"bold\" lengthAdjust=\"spacingAndGlyphs\" textLength=\"114\" x=\"20\" y=\"20.9951\">ConjugationTest</text></a><!--MD5=[b4997ac47864f28c2f74865a473b2911]\n",
       "class E2--><a href=\"psysml:859d5a2d-b524-488b-9af4-e0f987adcacf\" target=\"_top\" title=\"psysml:859d5a2d-b524-488b-9af4-e0f987adcacf\" xlink:actuate=\"onRequest\" xlink:href=\"psysml:859d5a2d-b524-488b-9af4-e0f987adcacf\" xlink:show=\"new\" xlink:title=\"psysml:859d5a2d-b524-488b-9af4-e0f987adcacf\" xlink:type=\"simple\"><rect fill=\"#FFFFFF\" height=\"45.9375\" id=\"E2\" style=\"stroke: #383838; stroke-width: 1.5;\" width=\"70\" x=\"526\" y=\"81\"/><text fill=\"#000000\" font-family=\"sans-serif\" font-size=\"12\" font-style=\"italic\" lengthAdjust=\"spacingAndGlyphs\" textLength=\"68\" x=\"527\" y=\"97.1387\">«port  def»</text><text fill=\"#000000\" font-family=\"sans-serif\" font-size=\"12\" lengthAdjust=\"spacingAndGlyphs\" textLength=\"8\" x=\"557\" y=\"111.1074\">P</text><line style=\"stroke: #383838; stroke-width: 1.5;\" x1=\"527\" x2=\"595\" y1=\"118.9375\" y2=\"118.9375\"/></a><!--MD5=[09b614a08d8cba4a07c9adeb5e0fee81]\n",
       "class E3--><a href=\"psysml:615e73ac-8544-4e42-b424-8a4747867d0e\" target=\"_top\" title=\"psysml:615e73ac-8544-4e42-b424-8a4747867d0e\" xlink:actuate=\"onRequest\" xlink:href=\"psysml:615e73ac-8544-4e42-b424-8a4747867d0e\" xlink:show=\"new\" xlink:title=\"psysml:615e73ac-8544-4e42-b424-8a4747867d0e\" xlink:type=\"simple\"><rect fill=\"#FFFFFF\" height=\"125.9609\" id=\"E3\" style=\"stroke: #383838; stroke-width: 1.5;\" width=\"70\" x=\"421\" y=\"41\"/><text fill=\"#000000\" font-family=\"sans-serif\" font-size=\"12\" font-style=\"italic\" lengthAdjust=\"spacingAndGlyphs\" textLength=\"68\" x=\"422\" y=\"57.1387\">«part  def»</text><text fill=\"#000000\" font-family=\"sans-serif\" font-size=\"12\" lengthAdjust=\"spacingAndGlyphs\" textLength=\"8\" x=\"452\" y=\"71.1074\">B</text><line style=\"stroke: #383838; stroke-width: 1.5;\" x1=\"422\" x2=\"490\" y1=\"78.9375\" y2=\"78.9375\"/><text fill=\"#000000\" font-family=\"sans-serif\" font-size=\"11\" lengthAdjust=\"spacingAndGlyphs\" textLength=\"29\" x=\"427\" y=\"109.9526\">p1: P</text><line style=\"stroke: #383838; stroke-width: 1.0;\" x1=\"422\" x2=\"441\" y1=\"93.3398\" y2=\"93.3398\"/><text fill=\"#000000\" font-family=\"sans-serif\" font-size=\"11\" lengthAdjust=\"spacingAndGlyphs\" textLength=\"30\" x=\"441\" y=\"96.6479\">ports</text><line style=\"stroke: #383838; stroke-width: 1.0;\" x1=\"471\" x2=\"490\" y1=\"93.3398\" y2=\"93.3398\"/><text fill=\"#000000\" font-family=\"sans-serif\" font-size=\"11\" lengthAdjust=\"spacingAndGlyphs\" textLength=\"0\" x=\"443\" y=\"128.7573\"/><rect fill=\"#FFFFFF\" height=\"2\" style=\"stroke: #000000; stroke-width: 1.0;\" width=\"2\" x=\"436\" y=\"123.9492\"/><line style=\"stroke: #000000; stroke-width: 1.0;\" x1=\"429\" x2=\"437\" y1=\"124.9492\" y2=\"124.9492\"/><line style=\"stroke: #000000; stroke-width: 1.0;\" x1=\"429\" x2=\"429\" y1=\"118.5469\" y2=\"124.9492\"/><text fill=\"#000000\" font-family=\"sans-serif\" font-size=\"11\" lengthAdjust=\"spacingAndGlyphs\" textLength=\"14\" x=\"427\" y=\"144.562\">p2</text><text fill=\"#000000\" font-family=\"sans-serif\" font-size=\"11\" lengthAdjust=\"spacingAndGlyphs\" textLength=\"0\" x=\"443\" y=\"160.3667\"/><rect fill=\"#FFFFFF\" height=\"2\" style=\"stroke: #000000; stroke-width: 1.0;\" width=\"2\" x=\"436\" y=\"155.5586\"/><line style=\"stroke: #000000; stroke-width: 1.0;\" x1=\"429\" x2=\"437\" y1=\"156.5586\" y2=\"156.5586\"/><line style=\"stroke: #000000; stroke-width: 1.0;\" x1=\"429\" x2=\"429\" y1=\"150.1563\" y2=\"156.5586\"/></a><!--MD5=[ebbe1d658d1005bcc118a6aa81145e00]\n",
       "class E4--><a href=\"psysml:5cdadcae-4d33-45cc-84a1-e26eca79ba4d\" target=\"_top\" title=\"psysml:5cdadcae-4d33-45cc-84a1-e26eca79ba4d\" xlink:actuate=\"onRequest\" xlink:href=\"psysml:5cdadcae-4d33-45cc-84a1-e26eca79ba4d\" xlink:show=\"new\" xlink:title=\"psysml:5cdadcae-4d33-45cc-84a1-e26eca79ba4d\" xlink:type=\"simple\"><rect fill=\"#FFFFFF\" height=\"125.9609\" id=\"E4\" style=\"stroke: #383838; stroke-width: 1.5;\" width=\"114\" x=\"272\" y=\"41\"/><text fill=\"#000000\" font-family=\"sans-serif\" font-size=\"12\" font-style=\"italic\" lengthAdjust=\"spacingAndGlyphs\" textLength=\"112\" x=\"273\" y=\"57.1387\">«connection  def»</text><text fill=\"#000000\" font-family=\"sans-serif\" font-size=\"12\" lengthAdjust=\"spacingAndGlyphs\" textLength=\"8\" x=\"325\" y=\"71.1074\">A</text><line style=\"stroke: #383838; stroke-width: 1.5;\" x1=\"273\" x2=\"385\" y1=\"78.9375\" y2=\"78.9375\"/><text fill=\"#000000\" font-family=\"sans-serif\" font-size=\"11\" lengthAdjust=\"spacingAndGlyphs\" textLength=\"29\" x=\"278\" y=\"109.9526\">p1: P</text><line style=\"stroke: #383838; stroke-width: 1.0;\" x1=\"273\" x2=\"314\" y1=\"93.3398\" y2=\"93.3398\"/><text fill=\"#000000\" font-family=\"sans-serif\" font-size=\"11\" lengthAdjust=\"spacingAndGlyphs\" textLength=\"30\" x=\"314\" y=\"96.6479\">ports</text><line style=\"stroke: #383838; stroke-width: 1.0;\" x1=\"344\" x2=\"385\" y1=\"93.3398\" y2=\"93.3398\"/><text fill=\"#000000\" font-family=\"sans-serif\" font-size=\"11\" lengthAdjust=\"spacingAndGlyphs\" textLength=\"0\" x=\"294\" y=\"128.7573\"/><rect fill=\"#FFFFFF\" height=\"2\" style=\"stroke: #000000; stroke-width: 1.0;\" width=\"2\" x=\"287\" y=\"123.9492\"/><line style=\"stroke: #000000; stroke-width: 1.0;\" x1=\"280\" x2=\"288\" y1=\"124.9492\" y2=\"124.9492\"/><line style=\"stroke: #000000; stroke-width: 1.0;\" x1=\"280\" x2=\"280\" y1=\"118.5469\" y2=\"124.9492\"/><text fill=\"#000000\" font-family=\"sans-serif\" font-size=\"11\" lengthAdjust=\"spacingAndGlyphs\" textLength=\"14\" x=\"278\" y=\"144.562\">p2</text><text fill=\"#000000\" font-family=\"sans-serif\" font-size=\"11\" lengthAdjust=\"spacingAndGlyphs\" textLength=\"0\" x=\"294\" y=\"160.3667\"/><rect fill=\"#FFFFFF\" height=\"2\" style=\"stroke: #000000; stroke-width: 1.0;\" width=\"2\" x=\"287\" y=\"155.5586\"/><line style=\"stroke: #000000; stroke-width: 1.0;\" x1=\"280\" x2=\"288\" y1=\"156.5586\" y2=\"156.5586\"/><line style=\"stroke: #000000; stroke-width: 1.0;\" x1=\"280\" x2=\"280\" y1=\"150.1563\" y2=\"156.5586\"/></a><!--MD5=[270fce915f116d4de14055a7c1d9a0f3]\n",
       "class E5--><a href=\"psysml:2bbab23f-cc40-4354-88cc-493e0b41ffd4\" target=\"_top\" title=\"psysml:2bbab23f-cc40-4354-88cc-493e0b41ffd4\" xlink:actuate=\"onRequest\" xlink:href=\"psysml:2bbab23f-cc40-4354-88cc-493e0b41ffd4\" xlink:show=\"new\" xlink:title=\"psysml:2bbab23f-cc40-4354-88cc-493e0b41ffd4\" xlink:type=\"simple\"><rect fill=\"#FFFFFF\" height=\"125.9609\" id=\"E5\" style=\"stroke: #383838; stroke-width: 1.5;\" width=\"100\" x=\"137\" y=\"41\"/><text fill=\"#000000\" font-family=\"sans-serif\" font-size=\"12\" font-style=\"italic\" lengthAdjust=\"spacingAndGlyphs\" textLength=\"98\" x=\"138\" y=\"57.1387\">«interface  def»</text><text fill=\"#000000\" font-family=\"sans-serif\" font-size=\"12\" lengthAdjust=\"spacingAndGlyphs\" textLength=\"3\" x=\"185.5\" y=\"71.1074\">I</text><line style=\"stroke: #383838; stroke-width: 1.5;\" x1=\"138\" x2=\"236\" y1=\"78.9375\" y2=\"78.9375\"/><text fill=\"#000000\" font-family=\"sans-serif\" font-size=\"11\" lengthAdjust=\"spacingAndGlyphs\" textLength=\"29\" x=\"143\" y=\"109.9526\">p1: P</text><line style=\"stroke: #383838; stroke-width: 1.0;\" x1=\"138\" x2=\"172\" y1=\"93.3398\" y2=\"93.3398\"/><text fill=\"#000000\" font-family=\"sans-serif\" font-size=\"11\" lengthAdjust=\"spacingAndGlyphs\" textLength=\"30\" x=\"172\" y=\"96.6479\">ports</text><line style=\"stroke: #383838; stroke-width: 1.0;\" x1=\"202\" x2=\"236\" y1=\"93.3398\" y2=\"93.3398\"/><text fill=\"#000000\" font-family=\"sans-serif\" font-size=\"11\" lengthAdjust=\"spacingAndGlyphs\" textLength=\"0\" x=\"159\" y=\"128.7573\"/><rect fill=\"#FFFFFF\" height=\"2\" style=\"stroke: #000000; stroke-width: 1.0;\" width=\"2\" x=\"152\" y=\"123.9492\"/><line style=\"stroke: #000000; stroke-width: 1.0;\" x1=\"145\" x2=\"153\" y1=\"124.9492\" y2=\"124.9492\"/><line style=\"stroke: #000000; stroke-width: 1.0;\" x1=\"145\" x2=\"145\" y1=\"118.5469\" y2=\"124.9492\"/><text fill=\"#000000\" font-family=\"sans-serif\" font-size=\"11\" lengthAdjust=\"spacingAndGlyphs\" textLength=\"14\" x=\"143\" y=\"144.562\">p2</text><text fill=\"#000000\" font-family=\"sans-serif\" font-size=\"11\" lengthAdjust=\"spacingAndGlyphs\" textLength=\"0\" x=\"159\" y=\"160.3667\"/><rect fill=\"#FFFFFF\" height=\"2\" style=\"stroke: #000000; stroke-width: 1.0;\" width=\"2\" x=\"152\" y=\"155.5586\"/><line style=\"stroke: #000000; stroke-width: 1.0;\" x1=\"145\" x2=\"153\" y1=\"156.5586\" y2=\"156.5586\"/><line style=\"stroke: #000000; stroke-width: 1.0;\" x1=\"145\" x2=\"145\" y1=\"150.1563\" y2=\"156.5586\"/></a><!--MD5=[60a26617385b1d2d0262a64233df1f8d]\n",
       "class E6--><a href=\"psysml:cd0027e5-9ed9-4216-bffa-1e31fa367fb3\" target=\"_top\" title=\"psysml:cd0027e5-9ed9-4216-bffa-1e31fa367fb3\" xlink:actuate=\"onRequest\" xlink:href=\"psysml:cd0027e5-9ed9-4216-bffa-1e31fa367fb3\" xlink:show=\"new\" xlink:title=\"psysml:cd0027e5-9ed9-4216-bffa-1e31fa367fb3\" xlink:type=\"simple\"><rect fill=\"#FFFFFF\" height=\"45.9375\" id=\"E6\" style=\"stroke: #383838; stroke-width: 1.5;\" width=\"70\" x=\"32\" y=\"81\"/><text fill=\"#000000\" font-family=\"sans-serif\" font-size=\"12\" font-style=\"italic\" lengthAdjust=\"spacingAndGlyphs\" textLength=\"68\" x=\"33\" y=\"97.1387\">«part  def»</text><text fill=\"#000000\" font-family=\"sans-serif\" font-size=\"12\" lengthAdjust=\"spacingAndGlyphs\" textLength=\"16\" x=\"59\" y=\"111.1074\">B1</text><line style=\"stroke: #383838; stroke-width: 1.5;\" x1=\"33\" x2=\"101\" y1=\"118.9375\" y2=\"118.9375\"/></a><!--MD5=[2156ba9850f5573cc1fc38a6a4b2f02b]\n",
       "class E7--><a href=\"psysml:3cf8fc76-e05d-49bd-b29f-3b88a47b72de\" target=\"_top\" title=\"psysml:3cf8fc76-e05d-49bd-b29f-3b88a47b72de\" xlink:actuate=\"onRequest\" xlink:href=\"psysml:3cf8fc76-e05d-49bd-b29f-3b88a47b72de\" xlink:show=\"new\" xlink:title=\"psysml:3cf8fc76-e05d-49bd-b29f-3b88a47b72de\" xlink:type=\"simple\"><rect fill=\"#FFFFFF\" height=\"125.9609\" id=\"E7\" rx=\"10\" ry=\"10\" style=\"stroke: #383838; stroke-width: 1.5;\" width=\"42\" x=\"46\" y=\"227\"/><text fill=\"#000000\" font-family=\"sans-serif\" font-size=\"12\" font-style=\"italic\" lengthAdjust=\"spacingAndGlyphs\" textLength=\"40\" x=\"47\" y=\"243.1387\">«part»</text><text fill=\"#000000\" font-family=\"sans-serif\" font-size=\"12\" lengthAdjust=\"spacingAndGlyphs\" textLength=\"8\" x=\"61\" y=\"257.1074\">p</text><line style=\"stroke: #383838; stroke-width: 1.5;\" x1=\"47\" x2=\"87\" y1=\"264.9375\" y2=\"264.9375\"/><text fill=\"#000000\" font-family=\"sans-serif\" font-size=\"11\" lengthAdjust=\"spacingAndGlyphs\" textLength=\"29\" x=\"52\" y=\"295.9526\">p1: P</text><line style=\"stroke: #383838; stroke-width: 1.0;\" x1=\"47\" x2=\"52\" y1=\"279.3398\" y2=\"279.3398\"/><text fill=\"#000000\" font-family=\"sans-serif\" font-size=\"11\" lengthAdjust=\"spacingAndGlyphs\" textLength=\"30\" x=\"52\" y=\"282.6479\">ports</text><line style=\"stroke: #383838; stroke-width: 1.0;\" x1=\"82\" x2=\"87\" y1=\"279.3398\" y2=\"279.3398\"/><text fill=\"#000000\" font-family=\"sans-serif\" font-size=\"11\" lengthAdjust=\"spacingAndGlyphs\" textLength=\"0\" x=\"68\" y=\"314.7573\"/><rect fill=\"#FFFFFF\" height=\"2\" style=\"stroke: #000000; stroke-width: 1.0;\" width=\"2\" x=\"61\" y=\"309.9492\"/><line style=\"stroke: #000000; stroke-width: 1.0;\" x1=\"54\" x2=\"62\" y1=\"310.9492\" y2=\"310.9492\"/><line style=\"stroke: #000000; stroke-width: 1.0;\" x1=\"54\" x2=\"54\" y1=\"304.5469\" y2=\"310.9492\"/><text fill=\"#000000\" font-family=\"sans-serif\" font-size=\"11\" lengthAdjust=\"spacingAndGlyphs\" textLength=\"14\" x=\"52\" y=\"330.562\">p2</text><text fill=\"#000000\" font-family=\"sans-serif\" font-size=\"11\" lengthAdjust=\"spacingAndGlyphs\" textLength=\"0\" x=\"68\" y=\"346.3667\"/><rect fill=\"#FFFFFF\" height=\"2\" style=\"stroke: #000000; stroke-width: 1.0;\" width=\"2\" x=\"61\" y=\"341.5586\"/><line style=\"stroke: #000000; stroke-width: 1.0;\" x1=\"54\" x2=\"62\" y1=\"342.5586\" y2=\"342.5586\"/><line style=\"stroke: #000000; stroke-width: 1.0;\" x1=\"54\" x2=\"54\" y1=\"336.1563\" y2=\"342.5586\"/></a><!--MD5=[3f50a3473f1dfb74d3f76443e03635af]\n",
       "reverse link E6 to E7--><a href=\"psysml:0c56cab0-046e-4827-a921-af226384c943\" target=\"_top\" title=\"psysml:0c56cab0-046e-4827-a921-af226384c943\" xlink:actuate=\"onRequest\" xlink:href=\"psysml:0c56cab0-046e-4827-a921-af226384c943\" xlink:show=\"new\" xlink:title=\"psysml:0c56cab0-046e-4827-a921-af226384c943\" xlink:type=\"simple\"><path d=\"M67,140.49 C67,164.94 67,198.08 67,226.85 \" fill=\"none\" id=\"E6&lt;-E7\" style=\"stroke: #383838; stroke-width: 1.0;\"/><polygon fill=\"#FFFFFF\" points=\"67,127.19,63,133.19,67,139.19,71,133.19,67,127.19\" style=\"stroke: #383838; stroke-width: 1.0;\"/><text fill=\"#000000\" font-family=\"sans-serif\" font-size=\"13\" lengthAdjust=\"spacingAndGlyphs\" textLength=\"8\" x=\"58.5375\" y=\"215.7579\">1</text></a><!--MD5=[e90273a6f58393bb3ce59e92ac983971]\n",
       "@startuml\r\n",
       " skinparam monochrome true\r\n",
       "skinparam classbackgroundcolor white\r\n",
       "skinparam shadowing false\r\n",
       "skinparam wrapWidth 300\r\n",
       "hide circle\r\n",
       "\r\n",
       "package \"ConjugationTest\" as E1  [[psysml:4e179b45-ef84-478c-a2da-b16af7c43fe7 ]]  {\r\n",
       "comp def \"P\" as E2  <<(T,blue) port  def>> [[psysml:859d5a2d-b524-488b-9af4-e0f987adcacf ]] {\r\n",
       "}\r\n",
       "comp def \"B\" as E3  <<(T,blue) part  def>> [[psysml:615e73ac-8544-4e42-b424-8a4747867d0e ]] {\r\n",
       "- - ports - -\r\n",
       "p1: P\r\n",
       "|_ \r\n",
       "p2\r\n",
       "|_ \r\n",
       "}\r\n",
       "comp def \"A\" as E4  <<(T,blue) connection  def>> [[psysml:5cdadcae-4d33-45cc-84a1-e26eca79ba4d ]] {\r\n",
       "- - ports - -\r\n",
       "p1: P\r\n",
       "|_ \r\n",
       "p2\r\n",
       "|_ \r\n",
       "}\r\n",
       "comp def \"I\" as E5  <<(T,blue) interface  def>> [[psysml:2bbab23f-cc40-4354-88cc-493e0b41ffd4 ]] {\r\n",
       "- - ports - -\r\n",
       "p1: P\r\n",
       "|_ \r\n",
       "p2\r\n",
       "|_ \r\n",
       "}\r\n",
       "comp def \"B1\" as E6  <<(T,blue) part  def>> [[psysml:cd0027e5-9ed9-4216-bffa-1e31fa367fb3 ]] {\r\n",
       "}\r\n",
       "comp usage \"p \" as E7  <<(T,blue) part>> [[psysml:3cf8fc76-e05d-49bd-b29f-3b88a47b72de ]] {\r\n",
       "- - ports - -\r\n",
       "p1: P\r\n",
       "|_ \r\n",
       "p2\r\n",
       "|_ \r\n",
       "}\r\n",
       "}\r\n",
       "E6 o- - \"1\"E7 [[psysml:0c56cab0-046e-4827-a921-af226384c943 ]] \r\n",
       "@enduml\r\n",
       "\n",
       "PlantUML version 1.2020.13(Sat Jun 13 12:26:38 UTC 2020)\n",
       "(EPL source distribution)\n",
       "Java Runtime: OpenJDK Runtime Environment\n",
       "JVM: OpenJDK 64-Bit Server VM\n",
       "Default Encoding: UTF-8\n",
       "Language: en\n",
       "Country: null\n",
       "--></g></svg>"
      ]
     },
     "execution_count": 8,
     "metadata": {},
     "output_type": "execute_result"
    }
   ],
   "source": [
    "%viz --style=\"COMPTREE\" --view=\"MIXED\" \"ConjugationTest\""
   ]
  },
  {
   "cell_type": "code",
   "execution_count": 9,
   "id": "354af740",
   "metadata": {
    "execution": {
     "iopub.execute_input": "2022-08-19T08:18:12.101343Z",
     "iopub.status.busy": "2022-08-19T08:18:12.100993Z",
     "iopub.status.idle": "2022-08-19T08:18:12.154688Z",
     "shell.execute_reply": "2022-08-19T08:18:12.153350Z"
    }
   },
   "outputs": [
    {
     "data": {
      "image/svg+xml": [
       "<?xml version=\"1.0\" encoding=\"UTF-8\" standalone=\"no\"?><svg xmlns=\"http://www.w3.org/2000/svg\" xmlns:xlink=\"http://www.w3.org/1999/xlink\" contentScriptType=\"application/ecmascript\" contentStyleType=\"text/css\" height=\"433px\" preserveAspectRatio=\"none\" style=\"width:611px;height:433px;\" version=\"1.1\" viewBox=\"0 0 611 433\" width=\"611px\" zoomAndPan=\"magnify\"><defs/><g><!--MD5=[fbc87193dbaf4d95561dea2c320d4a47]\n",
       "cluster E1--><a href=\"psysml:4e179b45-ef84-478c-a2da-b16af7c43fe7\" target=\"_top\" title=\"psysml:4e179b45-ef84-478c-a2da-b16af7c43fe7\" xlink:actuate=\"onRequest\" xlink:href=\"psysml:4e179b45-ef84-478c-a2da-b16af7c43fe7\" xlink:show=\"new\" xlink:title=\"psysml:4e179b45-ef84-478c-a2da-b16af7c43fe7\" xlink:type=\"simple\"><polygon fill=\"#FFFFFF\" points=\"16,6,136,6,143,28.2969,589,28.2969,589,421,16,421,16,6\" style=\"stroke: #000000; stroke-width: 1.5;\"/><line style=\"stroke: #000000; stroke-width: 1.5;\" x1=\"16\" x2=\"143\" y1=\"28.2969\" y2=\"28.2969\"/><text fill=\"#000000\" font-family=\"sans-serif\" font-size=\"14\" font-weight=\"bold\" lengthAdjust=\"spacingAndGlyphs\" textLength=\"114\" x=\"20\" y=\"20.9951\">ConjugationTest</text></a><!--MD5=[b4997ac47864f28c2f74865a473b2911]\n",
       "class E2--><a href=\"psysml:859d5a2d-b524-488b-9af4-e0f987adcacf\" target=\"_top\" title=\"psysml:859d5a2d-b524-488b-9af4-e0f987adcacf\" xlink:actuate=\"onRequest\" xlink:href=\"psysml:859d5a2d-b524-488b-9af4-e0f987adcacf\" xlink:show=\"new\" xlink:title=\"psysml:859d5a2d-b524-488b-9af4-e0f987adcacf\" xlink:type=\"simple\"><rect fill=\"#FFFFFF\" height=\"45.9375\" id=\"E2\" style=\"stroke: #383838; stroke-width: 1.5;\" width=\"70\" x=\"216\" y=\"359\"/><text fill=\"#000000\" font-family=\"sans-serif\" font-size=\"12\" font-style=\"italic\" lengthAdjust=\"spacingAndGlyphs\" textLength=\"68\" x=\"217\" y=\"375.1387\">«port  def»</text><text fill=\"#000000\" font-family=\"sans-serif\" font-size=\"12\" lengthAdjust=\"spacingAndGlyphs\" textLength=\"8\" x=\"247\" y=\"389.1074\">P</text><line style=\"stroke: #383838; stroke-width: 1.5;\" x1=\"217\" x2=\"285\" y1=\"396.9375\" y2=\"396.9375\"/></a><!--MD5=[09b614a08d8cba4a07c9adeb5e0fee81]\n",
       "class E3--><a href=\"psysml:615e73ac-8544-4e42-b424-8a4747867d0e\" target=\"_top\" title=\"psysml:615e73ac-8544-4e42-b424-8a4747867d0e\" xlink:actuate=\"onRequest\" xlink:href=\"psysml:615e73ac-8544-4e42-b424-8a4747867d0e\" xlink:show=\"new\" xlink:title=\"psysml:615e73ac-8544-4e42-b424-8a4747867d0e\" xlink:type=\"simple\"><rect fill=\"#FFFFFF\" height=\"45.9375\" id=\"E3\" style=\"stroke: #383838; stroke-width: 1.5;\" width=\"70\" x=\"471\" y=\"147\"/><text fill=\"#000000\" font-family=\"sans-serif\" font-size=\"12\" font-style=\"italic\" lengthAdjust=\"spacingAndGlyphs\" textLength=\"68\" x=\"472\" y=\"163.1387\">«part  def»</text><text fill=\"#000000\" font-family=\"sans-serif\" font-size=\"12\" lengthAdjust=\"spacingAndGlyphs\" textLength=\"8\" x=\"502\" y=\"177.1074\">B</text><line style=\"stroke: #383838; stroke-width: 1.5;\" x1=\"472\" x2=\"540\" y1=\"184.9375\" y2=\"184.9375\"/></a><!--MD5=[ebbe1d658d1005bcc118a6aa81145e00]\n",
       "class E4--><a href=\"psysml:37d2c32c-e4e6-4c0b-af75-96cd6556dd4d\" target=\"_top\" title=\"psysml:37d2c32c-e4e6-4c0b-af75-96cd6556dd4d\" xlink:actuate=\"onRequest\" xlink:href=\"psysml:37d2c32c-e4e6-4c0b-af75-96cd6556dd4d\" xlink:show=\"new\" xlink:title=\"psysml:37d2c32c-e4e6-4c0b-af75-96cd6556dd4d\" xlink:type=\"simple\"><rect fill=\"#FFFFFF\" height=\"45.9375\" id=\"E4\" rx=\"10\" ry=\"10\" style=\"stroke: #383838; stroke-width: 1.5;\" width=\"42\" x=\"454\" y=\"253\"/><text fill=\"#000000\" font-family=\"sans-serif\" font-size=\"12\" font-style=\"italic\" lengthAdjust=\"spacingAndGlyphs\" textLength=\"40\" x=\"455\" y=\"269.1387\">«port»</text><text fill=\"#000000\" font-family=\"sans-serif\" font-size=\"12\" lengthAdjust=\"spacingAndGlyphs\" textLength=\"32\" x=\"457\" y=\"283.1074\">p1: P</text><line style=\"stroke: #383838; stroke-width: 1.5;\" x1=\"455\" x2=\"495\" y1=\"290.9375\" y2=\"290.9375\"/></a><!--MD5=[270fce915f116d4de14055a7c1d9a0f3]\n",
       "class E5--><a href=\"psysml:a7d82e4a-e12d-4520-9ae6-c89754eb7506\" target=\"_top\" title=\"psysml:a7d82e4a-e12d-4520-9ae6-c89754eb7506\" xlink:actuate=\"onRequest\" xlink:href=\"psysml:a7d82e4a-e12d-4520-9ae6-c89754eb7506\" xlink:show=\"new\" xlink:title=\"psysml:a7d82e4a-e12d-4520-9ae6-c89754eb7506\" xlink:type=\"simple\"><rect fill=\"#FFFFFF\" height=\"45.9375\" id=\"E5\" rx=\"10\" ry=\"10\" style=\"stroke: #383838; stroke-width: 1.5;\" width=\"42\" x=\"531\" y=\"253\"/><text fill=\"#000000\" font-family=\"sans-serif\" font-size=\"12\" font-style=\"italic\" lengthAdjust=\"spacingAndGlyphs\" textLength=\"40\" x=\"532\" y=\"269.1387\">«port»</text><text fill=\"#000000\" font-family=\"sans-serif\" font-size=\"12\" lengthAdjust=\"spacingAndGlyphs\" textLength=\"16\" x=\"542\" y=\"283.1074\">p2</text><line style=\"stroke: #383838; stroke-width: 1.5;\" x1=\"532\" x2=\"572\" y1=\"290.9375\" y2=\"290.9375\"/></a><!--MD5=[60a26617385b1d2d0262a64233df1f8d]\n",
       "class E6--><a href=\"psysml:5cdadcae-4d33-45cc-84a1-e26eca79ba4d\" target=\"_top\" title=\"psysml:5cdadcae-4d33-45cc-84a1-e26eca79ba4d\" xlink:actuate=\"onRequest\" xlink:href=\"psysml:5cdadcae-4d33-45cc-84a1-e26eca79ba4d\" xlink:show=\"new\" xlink:title=\"psysml:5cdadcae-4d33-45cc-84a1-e26eca79ba4d\" xlink:type=\"simple\"><rect fill=\"#FFFFFF\" height=\"45.9375\" id=\"E6\" style=\"stroke: #383838; stroke-width: 1.5;\" width=\"114\" x=\"274\" y=\"147\"/><text fill=\"#000000\" font-family=\"sans-serif\" font-size=\"12\" font-style=\"italic\" lengthAdjust=\"spacingAndGlyphs\" textLength=\"112\" x=\"275\" y=\"163.1387\">«connection  def»</text><text fill=\"#000000\" font-family=\"sans-serif\" font-size=\"12\" lengthAdjust=\"spacingAndGlyphs\" textLength=\"8\" x=\"327\" y=\"177.1074\">A</text><line style=\"stroke: #383838; stroke-width: 1.5;\" x1=\"275\" x2=\"387\" y1=\"184.9375\" y2=\"184.9375\"/></a><!--MD5=[2156ba9850f5573cc1fc38a6a4b2f02b]\n",
       "class E7--><a href=\"psysml:7fb982ae-cae7-41b0-848a-52bb93191ec3\" target=\"_top\" title=\"psysml:7fb982ae-cae7-41b0-848a-52bb93191ec3\" xlink:actuate=\"onRequest\" xlink:href=\"psysml:7fb982ae-cae7-41b0-848a-52bb93191ec3\" xlink:show=\"new\" xlink:title=\"psysml:7fb982ae-cae7-41b0-848a-52bb93191ec3\" xlink:type=\"simple\"><rect fill=\"#FFFFFF\" height=\"45.9375\" id=\"E7\" rx=\"10\" ry=\"10\" style=\"stroke: #383838; stroke-width: 1.5;\" width=\"42\" x=\"300\" y=\"253\"/><text fill=\"#000000\" font-family=\"sans-serif\" font-size=\"12\" font-style=\"italic\" lengthAdjust=\"spacingAndGlyphs\" textLength=\"40\" x=\"301\" y=\"269.1387\">«port»</text><text fill=\"#000000\" font-family=\"sans-serif\" font-size=\"12\" lengthAdjust=\"spacingAndGlyphs\" textLength=\"32\" x=\"303\" y=\"283.1074\">p1: P</text><line style=\"stroke: #383838; stroke-width: 1.5;\" x1=\"301\" x2=\"341\" y1=\"290.9375\" y2=\"290.9375\"/></a><!--MD5=[b9389687b975829384b498ac4b7476b2]\n",
       "class E8--><a href=\"psysml:5c21b9df-62cf-4ee8-9145-76efb13de7e4\" target=\"_top\" title=\"psysml:5c21b9df-62cf-4ee8-9145-76efb13de7e4\" xlink:actuate=\"onRequest\" xlink:href=\"psysml:5c21b9df-62cf-4ee8-9145-76efb13de7e4\" xlink:show=\"new\" xlink:title=\"psysml:5c21b9df-62cf-4ee8-9145-76efb13de7e4\" xlink:type=\"simple\"><rect fill=\"#FFFFFF\" height=\"45.9375\" id=\"E8\" rx=\"10\" ry=\"10\" style=\"stroke: #383838; stroke-width: 1.5;\" width=\"42\" x=\"377\" y=\"253\"/><text fill=\"#000000\" font-family=\"sans-serif\" font-size=\"12\" font-style=\"italic\" lengthAdjust=\"spacingAndGlyphs\" textLength=\"40\" x=\"378\" y=\"269.1387\">«port»</text><text fill=\"#000000\" font-family=\"sans-serif\" font-size=\"12\" lengthAdjust=\"spacingAndGlyphs\" textLength=\"16\" x=\"388\" y=\"283.1074\">p2</text><line style=\"stroke: #383838; stroke-width: 1.5;\" x1=\"378\" x2=\"418\" y1=\"290.9375\" y2=\"290.9375\"/></a><!--MD5=[fd4143e9d270a159db93a4ea2a975926]\n",
       "class E9--><a href=\"psysml:2bbab23f-cc40-4354-88cc-493e0b41ffd4\" target=\"_top\" title=\"psysml:2bbab23f-cc40-4354-88cc-493e0b41ffd4\" xlink:actuate=\"onRequest\" xlink:href=\"psysml:2bbab23f-cc40-4354-88cc-493e0b41ffd4\" xlink:show=\"new\" xlink:title=\"psysml:2bbab23f-cc40-4354-88cc-493e0b41ffd4\" xlink:type=\"simple\"><rect fill=\"#FFFFFF\" height=\"45.9375\" id=\"E9\" style=\"stroke: #383838; stroke-width: 1.5;\" width=\"100\" x=\"138\" y=\"147\"/><text fill=\"#000000\" font-family=\"sans-serif\" font-size=\"12\" font-style=\"italic\" lengthAdjust=\"spacingAndGlyphs\" textLength=\"98\" x=\"139\" y=\"163.1387\">«interface  def»</text><text fill=\"#000000\" font-family=\"sans-serif\" font-size=\"12\" lengthAdjust=\"spacingAndGlyphs\" textLength=\"3\" x=\"186.5\" y=\"177.1074\">I</text><line style=\"stroke: #383838; stroke-width: 1.5;\" x1=\"139\" x2=\"237\" y1=\"184.9375\" y2=\"184.9375\"/></a><!--MD5=[96f4274e9e20536e775497830990834d]\n",
       "class E10--><a href=\"psysml:e0785fbe-faad-409c-b39f-62ae49a7d6e0\" target=\"_top\" title=\"psysml:e0785fbe-faad-409c-b39f-62ae49a7d6e0\" xlink:actuate=\"onRequest\" xlink:href=\"psysml:e0785fbe-faad-409c-b39f-62ae49a7d6e0\" xlink:show=\"new\" xlink:title=\"psysml:e0785fbe-faad-409c-b39f-62ae49a7d6e0\" xlink:type=\"simple\"><rect fill=\"#FFFFFF\" height=\"45.9375\" id=\"E10\" rx=\"10\" ry=\"10\" style=\"stroke: #383838; stroke-width: 1.5;\" width=\"42\" x=\"146\" y=\"253\"/><text fill=\"#000000\" font-family=\"sans-serif\" font-size=\"12\" font-style=\"italic\" lengthAdjust=\"spacingAndGlyphs\" textLength=\"40\" x=\"147\" y=\"269.1387\">«port»</text><text fill=\"#000000\" font-family=\"sans-serif\" font-size=\"12\" lengthAdjust=\"spacingAndGlyphs\" textLength=\"32\" x=\"149\" y=\"283.1074\">p1: P</text><line style=\"stroke: #383838; stroke-width: 1.5;\" x1=\"147\" x2=\"187\" y1=\"290.9375\" y2=\"290.9375\"/></a><!--MD5=[1dd1bfd58a279cf63c5f349dbc8fc6a1]\n",
       "class E11--><a href=\"psysml:a18508b4-2f12-4bca-8dd1-291939c34d14\" target=\"_top\" title=\"psysml:a18508b4-2f12-4bca-8dd1-291939c34d14\" xlink:actuate=\"onRequest\" xlink:href=\"psysml:a18508b4-2f12-4bca-8dd1-291939c34d14\" xlink:show=\"new\" xlink:title=\"psysml:a18508b4-2f12-4bca-8dd1-291939c34d14\" xlink:type=\"simple\"><rect fill=\"#FFFFFF\" height=\"45.9375\" id=\"E11\" rx=\"10\" ry=\"10\" style=\"stroke: #383838; stroke-width: 1.5;\" width=\"42\" x=\"223\" y=\"253\"/><text fill=\"#000000\" font-family=\"sans-serif\" font-size=\"12\" font-style=\"italic\" lengthAdjust=\"spacingAndGlyphs\" textLength=\"40\" x=\"224\" y=\"269.1387\">«port»</text><text fill=\"#000000\" font-family=\"sans-serif\" font-size=\"12\" lengthAdjust=\"spacingAndGlyphs\" textLength=\"16\" x=\"234\" y=\"283.1074\">p2</text><line style=\"stroke: #383838; stroke-width: 1.5;\" x1=\"224\" x2=\"264\" y1=\"290.9375\" y2=\"290.9375\"/></a><!--MD5=[49a0ec8f00dab7302a31f22d0f0fe584]\n",
       "class E12--><a href=\"psysml:cd0027e5-9ed9-4216-bffa-1e31fa367fb3\" target=\"_top\" title=\"psysml:cd0027e5-9ed9-4216-bffa-1e31fa367fb3\" xlink:actuate=\"onRequest\" xlink:href=\"psysml:cd0027e5-9ed9-4216-bffa-1e31fa367fb3\" xlink:show=\"new\" xlink:title=\"psysml:cd0027e5-9ed9-4216-bffa-1e31fa367fb3\" xlink:type=\"simple\"><rect fill=\"#FFFFFF\" height=\"45.9375\" id=\"E12\" style=\"stroke: #383838; stroke-width: 1.5;\" width=\"70\" x=\"44\" y=\"41\"/><text fill=\"#000000\" font-family=\"sans-serif\" font-size=\"12\" font-style=\"italic\" lengthAdjust=\"spacingAndGlyphs\" textLength=\"68\" x=\"45\" y=\"57.1387\">«part  def»</text><text fill=\"#000000\" font-family=\"sans-serif\" font-size=\"12\" lengthAdjust=\"spacingAndGlyphs\" textLength=\"16\" x=\"71\" y=\"71.1074\">B1</text><line style=\"stroke: #383838; stroke-width: 1.5;\" x1=\"45\" x2=\"113\" y1=\"78.9375\" y2=\"78.9375\"/></a><!--MD5=[ee3c913d1a06f366521f9ef512b67efe]\n",
       "class E13--><a href=\"psysml:3cf8fc76-e05d-49bd-b29f-3b88a47b72de\" target=\"_top\" title=\"psysml:3cf8fc76-e05d-49bd-b29f-3b88a47b72de\" xlink:actuate=\"onRequest\" xlink:href=\"psysml:3cf8fc76-e05d-49bd-b29f-3b88a47b72de\" xlink:show=\"new\" xlink:title=\"psysml:3cf8fc76-e05d-49bd-b29f-3b88a47b72de\" xlink:type=\"simple\"><rect fill=\"#FFFFFF\" height=\"45.9375\" id=\"E13\" rx=\"10\" ry=\"10\" style=\"stroke: #383838; stroke-width: 1.5;\" width=\"42\" x=\"58\" y=\"147\"/><text fill=\"#000000\" font-family=\"sans-serif\" font-size=\"12\" font-style=\"italic\" lengthAdjust=\"spacingAndGlyphs\" textLength=\"40\" x=\"59\" y=\"163.1387\">«part»</text><text fill=\"#000000\" font-family=\"sans-serif\" font-size=\"12\" lengthAdjust=\"spacingAndGlyphs\" textLength=\"8\" x=\"73\" y=\"177.1074\">p</text><line style=\"stroke: #383838; stroke-width: 1.5;\" x1=\"59\" x2=\"99\" y1=\"184.9375\" y2=\"184.9375\"/></a><!--MD5=[bee11217b2f71d958a27249dc326068c]\n",
       "class E14--><a href=\"psysml:6cf362ef-4bb1-44a5-8272-767638a97c43\" target=\"_top\" title=\"psysml:6cf362ef-4bb1-44a5-8272-767638a97c43\" xlink:actuate=\"onRequest\" xlink:href=\"psysml:6cf362ef-4bb1-44a5-8272-767638a97c43\" xlink:show=\"new\" xlink:title=\"psysml:6cf362ef-4bb1-44a5-8272-767638a97c43\" xlink:type=\"simple\"><rect fill=\"#FFFFFF\" height=\"45.9375\" id=\"E14\" rx=\"10\" ry=\"10\" style=\"stroke: #383838; stroke-width: 1.5;\" width=\"42\" x=\"69\" y=\"253\"/><text fill=\"#000000\" font-family=\"sans-serif\" font-size=\"12\" font-style=\"italic\" lengthAdjust=\"spacingAndGlyphs\" textLength=\"40\" x=\"70\" y=\"269.1387\">«port»</text><text fill=\"#000000\" font-family=\"sans-serif\" font-size=\"12\" lengthAdjust=\"spacingAndGlyphs\" textLength=\"32\" x=\"72\" y=\"283.1074\">p1: P</text><line style=\"stroke: #383838; stroke-width: 1.5;\" x1=\"70\" x2=\"110\" y1=\"290.9375\" y2=\"290.9375\"/></a><!--MD5=[0c48fb7552dae8cbbef69381101a84c8]\n",
       "class E15--><a href=\"psysml:33e7cbb5-c462-4d34-9030-b3438d816b29\" target=\"_top\" title=\"psysml:33e7cbb5-c462-4d34-9030-b3438d816b29\" xlink:actuate=\"onRequest\" xlink:href=\"psysml:33e7cbb5-c462-4d34-9030-b3438d816b29\" xlink:show=\"new\" xlink:title=\"psysml:33e7cbb5-c462-4d34-9030-b3438d816b29\" xlink:type=\"simple\"><rect fill=\"#FFFFFF\" height=\"45.9375\" id=\"E15\" rx=\"10\" ry=\"10\" style=\"stroke: #383838; stroke-width: 1.5;\" width=\"42\" x=\"69\" y=\"359\"/><text fill=\"#000000\" font-family=\"sans-serif\" font-size=\"12\" font-style=\"italic\" lengthAdjust=\"spacingAndGlyphs\" textLength=\"40\" x=\"70\" y=\"375.1387\">«port»</text><text fill=\"#000000\" font-family=\"sans-serif\" font-size=\"12\" lengthAdjust=\"spacingAndGlyphs\" textLength=\"16\" x=\"80\" y=\"389.1074\">p2</text><line style=\"stroke: #383838; stroke-width: 1.5;\" x1=\"70\" x2=\"110\" y1=\"396.9375\" y2=\"396.9375\"/></a><!--MD5=[4672eba38e49728da53d11aeb285b987]\n",
       "reverse link E3 to E4--><a href=\"psysml:e09aa0cf-99c0-4ed5-833c-e6cdd9353c0b\" target=\"_top\" title=\"psysml:e09aa0cf-99c0-4ed5-833c-e6cdd9353c0b\" xlink:actuate=\"onRequest\" xlink:href=\"psysml:e09aa0cf-99c0-4ed5-833c-e6cdd9353c0b\" xlink:show=\"new\" xlink:title=\"psysml:e09aa0cf-99c0-4ed5-833c-e6cdd9353c0b\" xlink:type=\"simple\"><path d=\"M495.58,205.96 C490.95,221.51 485.63,239.33 481.56,252.98 \" fill=\"none\" id=\"E3&lt;-E4\" style=\"stroke: #383838; stroke-width: 1.0;\"/><polygon fill=\"#FFFFFF\" points=\"499.43,193.06,493.8824,197.6669,496.0012,204.5597,501.5488,199.9528,499.43,193.06\" style=\"stroke: #383838; stroke-width: 1.0;\"/><text fill=\"#000000\" font-family=\"sans-serif\" font-size=\"13\" lengthAdjust=\"spacingAndGlyphs\" textLength=\"8\" x=\"474.248\" y=\"241.8709\">1</text></a><!--MD5=[185131fc0dcab0a4505a2ebe144e961b]\n",
       "link E4 to E2--><a href=\"psysml:d96439d0-54ae-42c8-b560-5f0ede470e61\" target=\"_top\" title=\"psysml:d96439d0-54ae-42c8-b560-5f0ede470e61\" xlink:actuate=\"onRequest\" xlink:href=\"psysml:d96439d0-54ae-42c8-b560-5f0ede470e61\" xlink:show=\"new\" xlink:title=\"psysml:d96439d0-54ae-42c8-b560-5f0ede470e61\" xlink:type=\"simple\"><path d=\"M453.78,289.29 C445.07,294.33 437,299 437,299 C437,299 359.69,333.08 304.76,357.3 \" fill=\"none\" id=\"E4-&gt;E2\" style=\"stroke: #383838; stroke-width: 1.0;\"/><polygon fill=\"#FFFFFF\" points=\"286.42,365.38,300.9793,351.3078,306.629,364.1172,286.42,365.38\" style=\"stroke: #383838; stroke-width: 1.0;\"/><ellipse cx=\"307.0017\" cy=\"350.8375\" fill=\"#383838\" rx=\"2\" ry=\"2\" style=\"stroke: #383838; stroke-width: 1.0;\"/><ellipse cx=\"311.0372\" cy=\"359.987\" fill=\"#383838\" rx=\"2\" ry=\"2\" style=\"stroke: #383838; stroke-width: 1.0;\"/></a><!--MD5=[191cde3d490a3f6d7bb551fe3ddca469]\n",
       "reverse link E3 to E5--><a href=\"psysml:880a21a1-46d7-4f3d-9543-241b40e3ab4a\" target=\"_top\" title=\"psysml:880a21a1-46d7-4f3d-9543-241b40e3ab4a\" xlink:actuate=\"onRequest\" xlink:href=\"psysml:880a21a1-46d7-4f3d-9543-241b40e3ab4a\" xlink:show=\"new\" xlink:title=\"psysml:880a21a1-46d7-4f3d-9543-241b40e3ab4a\" xlink:type=\"simple\"><path d=\"M521.05,205.03 C528.02,220.78 536.1,239.06 542.26,252.98 \" fill=\"none\" id=\"E3&lt;-E5\" style=\"stroke: #383838; stroke-width: 1.0;\"/><polygon fill=\"#FFFFFF\" points=\"515.76,193.06,514.5329,200.1659,520.6202,204.0317,521.8473,196.9258,515.76,193.06\" style=\"stroke: #383838; stroke-width: 1.0;\"/><text fill=\"#000000\" font-family=\"sans-serif\" font-size=\"13\" lengthAdjust=\"spacingAndGlyphs\" textLength=\"8\" x=\"530.5674\" y=\"241.8709\">1</text></a><!--MD5=[3f50a3473f1dfb74d3f76443e03635af]\n",
       "reverse link E6 to E7--><a href=\"psysml:98390341-db8e-40b6-aced-fec2311e0a9d\" target=\"_top\" title=\"psysml:98390341-db8e-40b6-aced-fec2311e0a9d\" xlink:actuate=\"onRequest\" xlink:href=\"psysml:98390341-db8e-40b6-aced-fec2311e0a9d\" xlink:show=\"new\" xlink:title=\"psysml:98390341-db8e-40b6-aced-fec2311e0a9d\" xlink:type=\"simple\"><path d=\"M327.59,206.44 C326.11,221.87 324.42,239.47 323.12,252.98 \" fill=\"none\" id=\"E6&lt;-E7\" style=\"stroke: #383838; stroke-width: 1.0;\"/><polygon fill=\"#FFFFFF\" points=\"328.88,193.06,324.3242,198.6497,327.7317,205.0049,332.2875,199.4152,328.88,193.06\" style=\"stroke: #383838; stroke-width: 1.0;\"/><text fill=\"#000000\" font-family=\"sans-serif\" font-size=\"13\" lengthAdjust=\"spacingAndGlyphs\" textLength=\"8\" x=\"314.6148\" y=\"241.8709\">1</text></a><!--MD5=[583832df87f4419a098336a29a52fa00]\n",
       "link E7 to E2--><a href=\"psysml:6f9217eb-859f-4957-bc31-6c1306f83367\" target=\"_top\" title=\"psysml:6f9217eb-859f-4957-bc31-6c1306f83367\" xlink:actuate=\"onRequest\" xlink:href=\"psysml:6f9217eb-859f-4957-bc31-6c1306f83367\" xlink:show=\"new\" xlink:title=\"psysml:6f9217eb-859f-4957-bc31-6c1306f83367\" xlink:type=\"simple\"><path d=\"M306.15,299.06 C297.71,311.6 286.89,327.68 277.07,342.26 \" fill=\"none\" id=\"E7-&gt;E2\" style=\"stroke: #383838; stroke-width: 1.0;\"/><polygon fill=\"#FFFFFF\" points=\"265.82,358.98,270.609,339.306,282.2284,347.1156,265.82,358.98\" style=\"stroke: #383838; stroke-width: 1.0;\"/><ellipse cx=\"275.4486\" cy=\"335.6909\" fill=\"#383838\" rx=\"2\" ry=\"2\" style=\"stroke: #383838; stroke-width: 1.0;\"/><ellipse cx=\"283.7481\" cy=\"341.2692\" fill=\"#383838\" rx=\"2\" ry=\"2\" style=\"stroke: #383838; stroke-width: 1.0;\"/></a><!--MD5=[f4cf0736d43fd73c4ef68817c49d37d5]\n",
       "reverse link E6 to E8--><a href=\"psysml:15a7c7be-761e-4e1c-a126-babbedfba5ca\" target=\"_top\" title=\"psysml:15a7c7be-761e-4e1c-a126-babbedfba5ca\" xlink:actuate=\"onRequest\" xlink:href=\"psysml:15a7c7be-761e-4e1c-a126-babbedfba5ca\" xlink:show=\"new\" xlink:title=\"psysml:15a7c7be-761e-4e1c-a126-babbedfba5ca\" xlink:type=\"simple\"><path d=\"M352.32,204.09 C362.61,220.06 374.67,238.78 383.81,252.98 \" fill=\"none\" id=\"E6&lt;-E8\" style=\"stroke: #383838; stroke-width: 1.0;\"/><polygon fill=\"#FFFFFF\" points=\"345.21,193.06,345.0979,200.2702,351.7104,203.1469,351.8225,195.9366,345.21,193.06\" style=\"stroke: #383838; stroke-width: 1.0;\"/><text fill=\"#000000\" font-family=\"sans-serif\" font-size=\"13\" lengthAdjust=\"spacingAndGlyphs\" textLength=\"8\" x=\"370.9214\" y=\"241.8709\">1</text></a><!--MD5=[23ac544a70576c3e717098101004234c]\n",
       "reverse link E9 to E10--><a href=\"psysml:a15de342-1742-4b99-9b86-ed8c6fb30ab8\" target=\"_top\" title=\"psysml:a15de342-1742-4b99-9b86-ed8c6fb30ab8\" xlink:actuate=\"onRequest\" xlink:href=\"psysml:a15de342-1742-4b99-9b86-ed8c6fb30ab8\" xlink:show=\"new\" xlink:title=\"psysml:a15de342-1742-4b99-9b86-ed8c6fb30ab8\" xlink:type=\"simple\"><path d=\"M180.94,205.96 C177.8,221.51 174.2,239.33 171.45,252.98 \" fill=\"none\" id=\"E9&lt;-E10\" style=\"stroke: #383838; stroke-width: 1.0;\"/><polygon fill=\"#FFFFFF\" points=\"183.55,193.06,178.4422,198.1502,181.1763,204.8229,186.2841,199.7327,183.55,193.06\" style=\"stroke: #383838; stroke-width: 1.0;\"/><text fill=\"#000000\" font-family=\"sans-serif\" font-size=\"13\" lengthAdjust=\"spacingAndGlyphs\" textLength=\"8\" x=\"163.5709\" y=\"241.8709\">1</text></a><!--MD5=[0f36bececdf0dff6e600d6f64214b0f1]\n",
       "link E10 to E2--><a href=\"psysml:81b1dfc1-849b-47a4-a859-9ae7a728ef15\" target=\"_top\" title=\"psysml:81b1dfc1-849b-47a4-a859-9ae7a728ef15\" xlink:actuate=\"onRequest\" xlink:href=\"psysml:81b1dfc1-849b-47a4-a859-9ae7a728ef15\" xlink:show=\"new\" xlink:title=\"psysml:81b1dfc1-849b-47a4-a859-9ae7a728ef15\" xlink:type=\"simple\"><path d=\"M184.81,299.06 C195.17,311.88 208.51,328.39 220.49,343.22 \" fill=\"none\" id=\"E10-&gt;E2\" style=\"stroke: #383838; stroke-width: 1.0;\"/><polygon fill=\"#FFFFFF\" points=\"233.21,358.98,215.8236,348.6016,226.7127,339.8023,233.21,358.98\" style=\"stroke: #383838; stroke-width: 1.0;\"/><ellipse cx=\"213.7966\" cy=\"342.9111\" fill=\"#383838\" rx=\"2\" ry=\"2\" style=\"stroke: #383838; stroke-width: 1.0;\"/><ellipse cx=\"221.5745\" cy=\"336.6259\" fill=\"#383838\" rx=\"2\" ry=\"2\" style=\"stroke: #383838; stroke-width: 1.0;\"/></a><!--MD5=[1fc04a95fd77ad5ce46c1a3027516051]\n",
       "reverse link E9 to E11--><a href=\"psysml:fe2242fc-88cc-4430-bc2f-98e79ba2cc70\" target=\"_top\" title=\"psysml:fe2242fc-88cc-4430-bc2f-98e79ba2cc70\" xlink:actuate=\"onRequest\" xlink:href=\"psysml:fe2242fc-88cc-4430-bc2f-98e79ba2cc70\" xlink:show=\"new\" xlink:title=\"psysml:fe2242fc-88cc-4430-bc2f-98e79ba2cc70\" xlink:type=\"simple\"><path d=\"M206.07,204.56 C214.61,220.42 224.57,238.92 232.14,252.98 \" fill=\"none\" id=\"E9&lt;-E11\" style=\"stroke: #383838; stroke-width: 1.0;\"/><polygon fill=\"#FFFFFF\" points=\"199.88,193.06,199.2038,200.2393,205.5708,203.6248,206.247,196.4455,199.88,193.06\" style=\"stroke: #383838; stroke-width: 1.0;\"/><text fill=\"#000000\" font-family=\"sans-serif\" font-size=\"13\" lengthAdjust=\"spacingAndGlyphs\" textLength=\"8\" x=\"219.8776\" y=\"241.8709\">1</text></a><!--MD5=[062ed86c389d1a88f61c6380d0491e17]\n",
       "reverse link E12 to E13--><a href=\"psysml:0c56cab0-046e-4827-a921-af226384c943\" target=\"_top\" title=\"psysml:0c56cab0-046e-4827-a921-af226384c943\" xlink:actuate=\"onRequest\" xlink:href=\"psysml:0c56cab0-046e-4827-a921-af226384c943\" xlink:show=\"new\" xlink:title=\"psysml:0c56cab0-046e-4827-a921-af226384c943\" xlink:type=\"simple\"><path d=\"M79,100.44 C79,115.87 79,133.47 79,146.98 \" fill=\"none\" id=\"E12&lt;-E13\" style=\"stroke: #383838; stroke-width: 1.0;\"/><polygon fill=\"#FFFFFF\" points=\"79,87.06,75,93.06,79,99.06,83,93.06,79,87.06\" style=\"stroke: #383838; stroke-width: 1.0;\"/><text fill=\"#000000\" font-family=\"sans-serif\" font-size=\"13\" lengthAdjust=\"spacingAndGlyphs\" textLength=\"8\" x=\"69.925\" y=\"135.8709\">1</text></a><!--MD5=[01db00f33b28669d6d9febea71002831]\n",
       "reverse link E13 to E14--><a href=\"psysml:12334834-5f3e-4b20-9f0b-aad671391bfa\" target=\"_top\" title=\"psysml:12334834-5f3e-4b20-9f0b-aad671391bfa\" xlink:actuate=\"onRequest\" xlink:href=\"psysml:12334834-5f3e-4b20-9f0b-aad671391bfa\" xlink:show=\"new\" xlink:title=\"psysml:12334834-5f3e-4b20-9f0b-aad671391bfa\" xlink:type=\"simple\"><path d=\"M82.75,206.44 C84.38,221.87 86.24,239.47 87.67,252.98 \" fill=\"none\" id=\"E13&lt;-E14\" style=\"stroke: #383838; stroke-width: 1.0;\"/><polygon fill=\"#FFFFFF\" points=\"81.33,193.06,77.9783,199.4448,82.5828,204.9944,85.9345,198.6096,81.33,193.06\" style=\"stroke: #383838; stroke-width: 1.0;\"/><text fill=\"#000000\" font-family=\"sans-serif\" font-size=\"13\" lengthAdjust=\"spacingAndGlyphs\" textLength=\"8\" x=\"77.9688\" y=\"241.8709\">1</text></a><!--MD5=[e5566ac99d7714697a7fbc17f6b550fe]\n",
       "link E14 to E2--><a href=\"psysml:f15866fc-26c5-4fac-ba02-f8f796eed5e8\" target=\"_top\" title=\"psysml:f15866fc-26c5-4fac-ba02-f8f796eed5e8\" xlink:actuate=\"onRequest\" xlink:href=\"psysml:f15866fc-26c5-4fac-ba02-f8f796eed5e8\" xlink:show=\"new\" xlink:title=\"psysml:f15866fc-26c5-4fac-ba02-f8f796eed5e8\" xlink:type=\"simple\"><path d=\"M111.05,290.6 C133.49,305.09 169.87,328.59 199.91,348 \" fill=\"none\" id=\"E14-&gt;E2\" style=\"stroke: #383838; stroke-width: 1.0;\"/><polygon fill=\"#FFFFFF\" points=\"216.71,358.85,196.9529,354.4164,204.5518,342.6581,216.71,358.85\" style=\"stroke: #383838; stroke-width: 1.0;\"/><ellipse cx=\"193.2512\" cy=\"349.6428\" fill=\"#383838\" rx=\"2\" ry=\"2\" style=\"stroke: #383838; stroke-width: 1.0;\"/><ellipse cx=\"198.6789\" cy=\"341.244\" fill=\"#383838\" rx=\"2\" ry=\"2\" style=\"stroke: #383838; stroke-width: 1.0;\"/></a><!--MD5=[e9a5e828c71fd2209a11a152f562d491]\n",
       "reverse link E13 to E15--><a href=\"psysml:ce878baa-f80f-4009-adda-6088e19c872e\" target=\"_top\" title=\"psysml:ce878baa-f80f-4009-adda-6088e19c872e\" xlink:actuate=\"onRequest\" xlink:href=\"psysml:ce878baa-f80f-4009-adda-6088e19c872e\" xlink:show=\"new\" xlink:title=\"psysml:ce878baa-f80f-4009-adda-6088e19c872e\" xlink:type=\"simple\"><path d=\"M67.46,206.04 C60.13,228.32 52,253 52,253 C52,253 52,299 52,299 C52,299 68.37,334.31 79.62,358.59 \" fill=\"none\" id=\"E13&lt;-E15\" style=\"stroke: #383838; stroke-width: 1.0;\"/><polygon fill=\"#FFFFFF\" points=\"71.62,193.41,65.9433,197.8569,67.8648,204.8073,73.5415,200.3604,71.62,193.41\" style=\"stroke: #383838; stroke-width: 1.0;\"/><text fill=\"#000000\" font-family=\"sans-serif\" font-size=\"13\" lengthAdjust=\"spacingAndGlyphs\" textLength=\"8\" x=\"67.9351\" y=\"347.7612\">1</text></a><!--MD5=[3afbdc645381407e1bc99677323a2513]\n",
       "link E14 to E15--><a href=\"psysml:1f31a0eb-24e7-4abd-8eab-15c525015988\" target=\"_top\" title=\"psysml:1f31a0eb-24e7-4abd-8eab-15c525015988\" xlink:actuate=\"onRequest\" xlink:href=\"psysml:1f31a0eb-24e7-4abd-8eab-15c525015988\" xlink:show=\"new\" xlink:title=\"psysml:1f31a0eb-24e7-4abd-8eab-15c525015988\" xlink:type=\"simple\"><path d=\"M79.35,299.06 C76.55,316.7 76.55,341.34 79.36,358.98 \" fill=\"none\" id=\"E14-E15\" style=\"stroke: #383838; stroke-width: 3.0;\"/></a><!--MD5=[3afbdc645381407e1bc99677323a2513]\n",
       "link E14 to E15--><a href=\"psysml:c2fd36d5-55a7-4367-ae55-c3f656adabca\" target=\"_top\" title=\"psysml:c2fd36d5-55a7-4367-ae55-c3f656adabca\" xlink:actuate=\"onRequest\" xlink:href=\"psysml:c2fd36d5-55a7-4367-ae55-c3f656adabca\" xlink:show=\"new\" xlink:title=\"psysml:c2fd36d5-55a7-4367-ae55-c3f656adabca\" xlink:type=\"simple\"><path d=\"M101.27,299.06 C104.24,316.7 104.24,341.34 101.27,358.98 \" fill=\"none\" id=\"E14-E15-1\" style=\"stroke: #383838; stroke-width: 3.0;\"/></a><!--MD5=[bb70f261b76a6cadf9c2f92ded21246d]\n",
       "@startuml\r\n",
       "skinparam linetype polyline\r\n",
       "skinparam monochrome true\r\n",
       "skinparam classbackgroundcolor white\r\n",
       "skinparam shadowing false\r\n",
       "skinparam wrapWidth 300\r\n",
       "hide circle\r\n",
       "\r\n",
       "package \"ConjugationTest\" as E1  [[psysml:4e179b45-ef84-478c-a2da-b16af7c43fe7 ]]  {\r\n",
       "comp def \"P\" as E2  <<(T,blue) port  def>> [[psysml:859d5a2d-b524-488b-9af4-e0f987adcacf ]] {\r\n",
       "}\r\n",
       "comp def \"B\" as E3  <<(T,blue) part  def>> [[psysml:615e73ac-8544-4e42-b424-8a4747867d0e ]] {\r\n",
       "}\r\n",
       "comp usage \"p1: P \" as E4  <<(T,blue) port>> [[psysml:37d2c32c-e4e6-4c0b-af75-96cd6556dd4d ]] {\r\n",
       "}\r\n",
       "comp usage \"p2 \" as E5  <<(T,blue) port>> [[psysml:a7d82e4a-e12d-4520-9ae6-c89754eb7506 ]] {\r\n",
       "}\r\n",
       "comp def \"A\" as E6  <<(T,blue) connection  def>> [[psysml:5cdadcae-4d33-45cc-84a1-e26eca79ba4d ]] {\r\n",
       "}\r\n",
       "comp usage \"p1: P \" as E7  <<(T,blue) port>> [[psysml:7fb982ae-cae7-41b0-848a-52bb93191ec3 ]] {\r\n",
       "}\r\n",
       "comp usage \"p2 \" as E8  <<(T,blue) port>> [[psysml:5c21b9df-62cf-4ee8-9145-76efb13de7e4 ]] {\r\n",
       "}\r\n",
       "comp def \"I\" as E9  <<(T,blue) interface  def>> [[psysml:2bbab23f-cc40-4354-88cc-493e0b41ffd4 ]] {\r\n",
       "}\r\n",
       "comp usage \"p1: P \" as E10  <<(T,blue) port>> [[psysml:e0785fbe-faad-409c-b39f-62ae49a7d6e0 ]] {\r\n",
       "}\r\n",
       "comp usage \"p2 \" as E11  <<(T,blue) port>> [[psysml:a18508b4-2f12-4bca-8dd1-291939c34d14 ]] {\r\n",
       "}\r\n",
       "comp def \"B1\" as E12  <<(T,blue) part  def>> [[psysml:cd0027e5-9ed9-4216-bffa-1e31fa367fb3 ]] {\r\n",
       "}\r\n",
       "comp usage \"p \" as E13  <<(T,blue) part>> [[psysml:3cf8fc76-e05d-49bd-b29f-3b88a47b72de ]] {\r\n",
       "}\r\n",
       "comp usage \"p1: P \" as E14  <<(T,blue) port>> [[psysml:6cf362ef-4bb1-44a5-8272-767638a97c43 ]] {\r\n",
       "}\r\n",
       "comp usage \"p2 \" as E15  <<(T,blue) port>> [[psysml:33e7cbb5-c462-4d34-9030-b3438d816b29 ]] {\r\n",
       "}\r\n",
       "}\r\n",
       "E3 o- - \"1\"E4 [[psysml:e09aa0cf-99c0-4ed5-833c-e6cdd9353c0b ]] \r\n",
       "E4 - -:|> E2 [[psysml:d96439d0-54ae-42c8-b560-5f0ede470e61 ]] \r\n",
       "E3 o- - \"1\"E5 [[psysml:880a21a1-46d7-4f3d-9543-241b40e3ab4a ]] \r\n",
       "E6 o- - \"1\"E7 [[psysml:98390341-db8e-40b6-aced-fec2311e0a9d ]] \r\n",
       "E7 - -:|> E2 [[psysml:6f9217eb-859f-4957-bc31-6c1306f83367 ]] \r\n",
       "E6 o- - \"1\"E8 [[psysml:15a7c7be-761e-4e1c-a126-babbedfba5ca ]] \r\n",
       "E9 o- - \"1\"E10 [[psysml:a15de342-1742-4b99-9b86-ed8c6fb30ab8 ]] \r\n",
       "E10 - -:|> E2 [[psysml:81b1dfc1-849b-47a4-a859-9ae7a728ef15 ]] \r\n",
       "E9 o- - \"1\"E11 [[psysml:fe2242fc-88cc-4430-bc2f-98e79ba2cc70 ]] \r\n",
       "E12 o- - \"1\"E13 [[psysml:0c56cab0-046e-4827-a921-af226384c943 ]] \r\n",
       "E13 o- - \"1\"E14 [[psysml:12334834-5f3e-4b20-9f0b-aad671391bfa ]] \r\n",
       "E14 - -:|> E2 [[psysml:f15866fc-26c5-4fac-ba02-f8f796eed5e8 ]] \r\n",
       "E13 o- - \"1\"E15 [[psysml:ce878baa-f80f-4009-adda-6088e19c872e ]] \r\n",
       "E14 -[thickness=3]- E15 [[psysml:1f31a0eb-24e7-4abd-8eab-15c525015988 ]] \r\n",
       "E14 -[thickness=3]- E15 [[psysml:c2fd36d5-55a7-4367-ae55-c3f656adabca ]] \r\n",
       "@enduml\r\n",
       "\n",
       "PlantUML version 1.2020.13(Sat Jun 13 12:26:38 UTC 2020)\n",
       "(EPL source distribution)\n",
       "Java Runtime: OpenJDK Runtime Environment\n",
       "JVM: OpenJDK 64-Bit Server VM\n",
       "Default Encoding: UTF-8\n",
       "Language: en\n",
       "Country: null\n",
       "--></g></svg>"
      ]
     },
     "execution_count": 9,
     "metadata": {},
     "output_type": "execute_result"
    }
   ],
   "source": [
    "%viz --style=\"POLYLINE\" --view=\"Default\" \"ConjugationTest\""
   ]
  },
  {
   "cell_type": "code",
   "execution_count": 10,
   "id": "8702e41f",
   "metadata": {
    "execution": {
     "iopub.execute_input": "2022-08-19T08:18:12.204059Z",
     "iopub.status.busy": "2022-08-19T08:18:12.203769Z",
     "iopub.status.idle": "2022-08-19T08:18:12.269520Z",
     "shell.execute_reply": "2022-08-19T08:18:12.269853Z"
    }
   },
   "outputs": [
    {
     "data": {
      "image/svg+xml": [
       "<?xml version=\"1.0\" encoding=\"UTF-8\" standalone=\"no\"?><svg xmlns=\"http://www.w3.org/2000/svg\" xmlns:xlink=\"http://www.w3.org/1999/xlink\" contentScriptType=\"application/ecmascript\" contentStyleType=\"text/css\" height=\"433px\" preserveAspectRatio=\"none\" style=\"width:611px;height:433px;\" version=\"1.1\" viewBox=\"0 0 611 433\" width=\"611px\" zoomAndPan=\"magnify\"><defs/><g><!--MD5=[fbc87193dbaf4d95561dea2c320d4a47]\n",
       "cluster E1--><a href=\"psysml:4e179b45-ef84-478c-a2da-b16af7c43fe7\" target=\"_top\" title=\"psysml:4e179b45-ef84-478c-a2da-b16af7c43fe7\" xlink:actuate=\"onRequest\" xlink:href=\"psysml:4e179b45-ef84-478c-a2da-b16af7c43fe7\" xlink:show=\"new\" xlink:title=\"psysml:4e179b45-ef84-478c-a2da-b16af7c43fe7\" xlink:type=\"simple\"><polygon fill=\"#FFFFFF\" points=\"16,6,136,6,143,28.2969,589,28.2969,589,421,16,421,16,6\" style=\"stroke: #000000; stroke-width: 1.5;\"/><line style=\"stroke: #000000; stroke-width: 1.5;\" x1=\"16\" x2=\"143\" y1=\"28.2969\" y2=\"28.2969\"/><text fill=\"#000000\" font-family=\"sans-serif\" font-size=\"14\" font-weight=\"bold\" lengthAdjust=\"spacingAndGlyphs\" textLength=\"114\" x=\"20\" y=\"20.9951\">ConjugationTest</text></a><!--MD5=[b4997ac47864f28c2f74865a473b2911]\n",
       "class E2--><a href=\"psysml:859d5a2d-b524-488b-9af4-e0f987adcacf\" target=\"_top\" title=\"psysml:859d5a2d-b524-488b-9af4-e0f987adcacf\" xlink:actuate=\"onRequest\" xlink:href=\"psysml:859d5a2d-b524-488b-9af4-e0f987adcacf\" xlink:show=\"new\" xlink:title=\"psysml:859d5a2d-b524-488b-9af4-e0f987adcacf\" xlink:type=\"simple\"><rect fill=\"#FFFFFF\" height=\"45.9375\" id=\"E2\" style=\"stroke: #383838; stroke-width: 1.5;\" width=\"70\" x=\"216\" y=\"359\"/><text fill=\"#000000\" font-family=\"sans-serif\" font-size=\"12\" font-style=\"italic\" lengthAdjust=\"spacingAndGlyphs\" textLength=\"68\" x=\"217\" y=\"375.1387\">«port  def»</text><text fill=\"#000000\" font-family=\"sans-serif\" font-size=\"12\" lengthAdjust=\"spacingAndGlyphs\" textLength=\"8\" x=\"247\" y=\"389.1074\">P</text><line style=\"stroke: #383838; stroke-width: 1.5;\" x1=\"217\" x2=\"285\" y1=\"396.9375\" y2=\"396.9375\"/></a><!--MD5=[09b614a08d8cba4a07c9adeb5e0fee81]\n",
       "class E3--><a href=\"psysml:615e73ac-8544-4e42-b424-8a4747867d0e\" target=\"_top\" title=\"psysml:615e73ac-8544-4e42-b424-8a4747867d0e\" xlink:actuate=\"onRequest\" xlink:href=\"psysml:615e73ac-8544-4e42-b424-8a4747867d0e\" xlink:show=\"new\" xlink:title=\"psysml:615e73ac-8544-4e42-b424-8a4747867d0e\" xlink:type=\"simple\"><rect fill=\"#FFFFFF\" height=\"45.9375\" id=\"E3\" style=\"stroke: #383838; stroke-width: 1.5;\" width=\"70\" x=\"471\" y=\"147\"/><text fill=\"#000000\" font-family=\"sans-serif\" font-size=\"12\" font-style=\"italic\" lengthAdjust=\"spacingAndGlyphs\" textLength=\"68\" x=\"472\" y=\"163.1387\">«part  def»</text><text fill=\"#000000\" font-family=\"sans-serif\" font-size=\"12\" lengthAdjust=\"spacingAndGlyphs\" textLength=\"8\" x=\"502\" y=\"177.1074\">B</text><line style=\"stroke: #383838; stroke-width: 1.5;\" x1=\"472\" x2=\"540\" y1=\"184.9375\" y2=\"184.9375\"/></a><!--MD5=[ebbe1d658d1005bcc118a6aa81145e00]\n",
       "class E4--><a href=\"psysml:37d2c32c-e4e6-4c0b-af75-96cd6556dd4d\" target=\"_top\" title=\"psysml:37d2c32c-e4e6-4c0b-af75-96cd6556dd4d\" xlink:actuate=\"onRequest\" xlink:href=\"psysml:37d2c32c-e4e6-4c0b-af75-96cd6556dd4d\" xlink:show=\"new\" xlink:title=\"psysml:37d2c32c-e4e6-4c0b-af75-96cd6556dd4d\" xlink:type=\"simple\"><rect fill=\"#FFFFFF\" height=\"45.9375\" id=\"E4\" rx=\"10\" ry=\"10\" style=\"stroke: #383838; stroke-width: 1.5;\" width=\"42\" x=\"454\" y=\"253\"/><text fill=\"#000000\" font-family=\"sans-serif\" font-size=\"12\" font-style=\"italic\" lengthAdjust=\"spacingAndGlyphs\" textLength=\"40\" x=\"455\" y=\"269.1387\">«port»</text><text fill=\"#000000\" font-family=\"sans-serif\" font-size=\"12\" lengthAdjust=\"spacingAndGlyphs\" textLength=\"32\" x=\"457\" y=\"283.1074\">p1: P</text><line style=\"stroke: #383838; stroke-width: 1.5;\" x1=\"455\" x2=\"495\" y1=\"290.9375\" y2=\"290.9375\"/></a><!--MD5=[270fce915f116d4de14055a7c1d9a0f3]\n",
       "class E5--><a href=\"psysml:a7d82e4a-e12d-4520-9ae6-c89754eb7506\" target=\"_top\" title=\"psysml:a7d82e4a-e12d-4520-9ae6-c89754eb7506\" xlink:actuate=\"onRequest\" xlink:href=\"psysml:a7d82e4a-e12d-4520-9ae6-c89754eb7506\" xlink:show=\"new\" xlink:title=\"psysml:a7d82e4a-e12d-4520-9ae6-c89754eb7506\" xlink:type=\"simple\"><rect fill=\"#FFFFFF\" height=\"45.9375\" id=\"E5\" rx=\"10\" ry=\"10\" style=\"stroke: #383838; stroke-width: 1.5;\" width=\"42\" x=\"531\" y=\"253\"/><text fill=\"#000000\" font-family=\"sans-serif\" font-size=\"12\" font-style=\"italic\" lengthAdjust=\"spacingAndGlyphs\" textLength=\"40\" x=\"532\" y=\"269.1387\">«port»</text><text fill=\"#000000\" font-family=\"sans-serif\" font-size=\"12\" lengthAdjust=\"spacingAndGlyphs\" textLength=\"16\" x=\"542\" y=\"283.1074\">p2</text><line style=\"stroke: #383838; stroke-width: 1.5;\" x1=\"532\" x2=\"572\" y1=\"290.9375\" y2=\"290.9375\"/></a><!--MD5=[60a26617385b1d2d0262a64233df1f8d]\n",
       "class E6--><a href=\"psysml:5cdadcae-4d33-45cc-84a1-e26eca79ba4d\" target=\"_top\" title=\"psysml:5cdadcae-4d33-45cc-84a1-e26eca79ba4d\" xlink:actuate=\"onRequest\" xlink:href=\"psysml:5cdadcae-4d33-45cc-84a1-e26eca79ba4d\" xlink:show=\"new\" xlink:title=\"psysml:5cdadcae-4d33-45cc-84a1-e26eca79ba4d\" xlink:type=\"simple\"><rect fill=\"#FFFFFF\" height=\"45.9375\" id=\"E6\" style=\"stroke: #383838; stroke-width: 1.5;\" width=\"114\" x=\"274\" y=\"147\"/><text fill=\"#000000\" font-family=\"sans-serif\" font-size=\"12\" font-style=\"italic\" lengthAdjust=\"spacingAndGlyphs\" textLength=\"112\" x=\"275\" y=\"163.1387\">«connection  def»</text><text fill=\"#000000\" font-family=\"sans-serif\" font-size=\"12\" lengthAdjust=\"spacingAndGlyphs\" textLength=\"8\" x=\"327\" y=\"177.1074\">A</text><line style=\"stroke: #383838; stroke-width: 1.5;\" x1=\"275\" x2=\"387\" y1=\"184.9375\" y2=\"184.9375\"/></a><!--MD5=[2156ba9850f5573cc1fc38a6a4b2f02b]\n",
       "class E7--><a href=\"psysml:7fb982ae-cae7-41b0-848a-52bb93191ec3\" target=\"_top\" title=\"psysml:7fb982ae-cae7-41b0-848a-52bb93191ec3\" xlink:actuate=\"onRequest\" xlink:href=\"psysml:7fb982ae-cae7-41b0-848a-52bb93191ec3\" xlink:show=\"new\" xlink:title=\"psysml:7fb982ae-cae7-41b0-848a-52bb93191ec3\" xlink:type=\"simple\"><rect fill=\"#FFFFFF\" height=\"45.9375\" id=\"E7\" rx=\"10\" ry=\"10\" style=\"stroke: #383838; stroke-width: 1.5;\" width=\"42\" x=\"300\" y=\"253\"/><text fill=\"#000000\" font-family=\"sans-serif\" font-size=\"12\" font-style=\"italic\" lengthAdjust=\"spacingAndGlyphs\" textLength=\"40\" x=\"301\" y=\"269.1387\">«port»</text><text fill=\"#000000\" font-family=\"sans-serif\" font-size=\"12\" lengthAdjust=\"spacingAndGlyphs\" textLength=\"32\" x=\"303\" y=\"283.1074\">p1: P</text><line style=\"stroke: #383838; stroke-width: 1.5;\" x1=\"301\" x2=\"341\" y1=\"290.9375\" y2=\"290.9375\"/></a><!--MD5=[b9389687b975829384b498ac4b7476b2]\n",
       "class E8--><a href=\"psysml:5c21b9df-62cf-4ee8-9145-76efb13de7e4\" target=\"_top\" title=\"psysml:5c21b9df-62cf-4ee8-9145-76efb13de7e4\" xlink:actuate=\"onRequest\" xlink:href=\"psysml:5c21b9df-62cf-4ee8-9145-76efb13de7e4\" xlink:show=\"new\" xlink:title=\"psysml:5c21b9df-62cf-4ee8-9145-76efb13de7e4\" xlink:type=\"simple\"><rect fill=\"#FFFFFF\" height=\"45.9375\" id=\"E8\" rx=\"10\" ry=\"10\" style=\"stroke: #383838; stroke-width: 1.5;\" width=\"42\" x=\"377\" y=\"253\"/><text fill=\"#000000\" font-family=\"sans-serif\" font-size=\"12\" font-style=\"italic\" lengthAdjust=\"spacingAndGlyphs\" textLength=\"40\" x=\"378\" y=\"269.1387\">«port»</text><text fill=\"#000000\" font-family=\"sans-serif\" font-size=\"12\" lengthAdjust=\"spacingAndGlyphs\" textLength=\"16\" x=\"388\" y=\"283.1074\">p2</text><line style=\"stroke: #383838; stroke-width: 1.5;\" x1=\"378\" x2=\"418\" y1=\"290.9375\" y2=\"290.9375\"/></a><!--MD5=[fd4143e9d270a159db93a4ea2a975926]\n",
       "class E9--><a href=\"psysml:2bbab23f-cc40-4354-88cc-493e0b41ffd4\" target=\"_top\" title=\"psysml:2bbab23f-cc40-4354-88cc-493e0b41ffd4\" xlink:actuate=\"onRequest\" xlink:href=\"psysml:2bbab23f-cc40-4354-88cc-493e0b41ffd4\" xlink:show=\"new\" xlink:title=\"psysml:2bbab23f-cc40-4354-88cc-493e0b41ffd4\" xlink:type=\"simple\"><rect fill=\"#FFFFFF\" height=\"45.9375\" id=\"E9\" style=\"stroke: #383838; stroke-width: 1.5;\" width=\"100\" x=\"138\" y=\"147\"/><text fill=\"#000000\" font-family=\"sans-serif\" font-size=\"12\" font-style=\"italic\" lengthAdjust=\"spacingAndGlyphs\" textLength=\"98\" x=\"139\" y=\"163.1387\">«interface  def»</text><text fill=\"#000000\" font-family=\"sans-serif\" font-size=\"12\" lengthAdjust=\"spacingAndGlyphs\" textLength=\"3\" x=\"186.5\" y=\"177.1074\">I</text><line style=\"stroke: #383838; stroke-width: 1.5;\" x1=\"139\" x2=\"237\" y1=\"184.9375\" y2=\"184.9375\"/></a><!--MD5=[96f4274e9e20536e775497830990834d]\n",
       "class E10--><a href=\"psysml:e0785fbe-faad-409c-b39f-62ae49a7d6e0\" target=\"_top\" title=\"psysml:e0785fbe-faad-409c-b39f-62ae49a7d6e0\" xlink:actuate=\"onRequest\" xlink:href=\"psysml:e0785fbe-faad-409c-b39f-62ae49a7d6e0\" xlink:show=\"new\" xlink:title=\"psysml:e0785fbe-faad-409c-b39f-62ae49a7d6e0\" xlink:type=\"simple\"><rect fill=\"#FFFFFF\" height=\"45.9375\" id=\"E10\" rx=\"10\" ry=\"10\" style=\"stroke: #383838; stroke-width: 1.5;\" width=\"42\" x=\"146\" y=\"253\"/><text fill=\"#000000\" font-family=\"sans-serif\" font-size=\"12\" font-style=\"italic\" lengthAdjust=\"spacingAndGlyphs\" textLength=\"40\" x=\"147\" y=\"269.1387\">«port»</text><text fill=\"#000000\" font-family=\"sans-serif\" font-size=\"12\" lengthAdjust=\"spacingAndGlyphs\" textLength=\"32\" x=\"149\" y=\"283.1074\">p1: P</text><line style=\"stroke: #383838; stroke-width: 1.5;\" x1=\"147\" x2=\"187\" y1=\"290.9375\" y2=\"290.9375\"/></a><!--MD5=[1dd1bfd58a279cf63c5f349dbc8fc6a1]\n",
       "class E11--><a href=\"psysml:a18508b4-2f12-4bca-8dd1-291939c34d14\" target=\"_top\" title=\"psysml:a18508b4-2f12-4bca-8dd1-291939c34d14\" xlink:actuate=\"onRequest\" xlink:href=\"psysml:a18508b4-2f12-4bca-8dd1-291939c34d14\" xlink:show=\"new\" xlink:title=\"psysml:a18508b4-2f12-4bca-8dd1-291939c34d14\" xlink:type=\"simple\"><rect fill=\"#FFFFFF\" height=\"45.9375\" id=\"E11\" rx=\"10\" ry=\"10\" style=\"stroke: #383838; stroke-width: 1.5;\" width=\"42\" x=\"223\" y=\"253\"/><text fill=\"#000000\" font-family=\"sans-serif\" font-size=\"12\" font-style=\"italic\" lengthAdjust=\"spacingAndGlyphs\" textLength=\"40\" x=\"224\" y=\"269.1387\">«port»</text><text fill=\"#000000\" font-family=\"sans-serif\" font-size=\"12\" lengthAdjust=\"spacingAndGlyphs\" textLength=\"16\" x=\"234\" y=\"283.1074\">p2</text><line style=\"stroke: #383838; stroke-width: 1.5;\" x1=\"224\" x2=\"264\" y1=\"290.9375\" y2=\"290.9375\"/></a><!--MD5=[49a0ec8f00dab7302a31f22d0f0fe584]\n",
       "class E12--><a href=\"psysml:cd0027e5-9ed9-4216-bffa-1e31fa367fb3\" target=\"_top\" title=\"psysml:cd0027e5-9ed9-4216-bffa-1e31fa367fb3\" xlink:actuate=\"onRequest\" xlink:href=\"psysml:cd0027e5-9ed9-4216-bffa-1e31fa367fb3\" xlink:show=\"new\" xlink:title=\"psysml:cd0027e5-9ed9-4216-bffa-1e31fa367fb3\" xlink:type=\"simple\"><rect fill=\"#FFFFFF\" height=\"45.9375\" id=\"E12\" style=\"stroke: #383838; stroke-width: 1.5;\" width=\"70\" x=\"44\" y=\"41\"/><text fill=\"#000000\" font-family=\"sans-serif\" font-size=\"12\" font-style=\"italic\" lengthAdjust=\"spacingAndGlyphs\" textLength=\"68\" x=\"45\" y=\"57.1387\">«part  def»</text><text fill=\"#000000\" font-family=\"sans-serif\" font-size=\"12\" lengthAdjust=\"spacingAndGlyphs\" textLength=\"16\" x=\"71\" y=\"71.1074\">B1</text><line style=\"stroke: #383838; stroke-width: 1.5;\" x1=\"45\" x2=\"113\" y1=\"78.9375\" y2=\"78.9375\"/></a><!--MD5=[ee3c913d1a06f366521f9ef512b67efe]\n",
       "class E13--><a href=\"psysml:3cf8fc76-e05d-49bd-b29f-3b88a47b72de\" target=\"_top\" title=\"psysml:3cf8fc76-e05d-49bd-b29f-3b88a47b72de\" xlink:actuate=\"onRequest\" xlink:href=\"psysml:3cf8fc76-e05d-49bd-b29f-3b88a47b72de\" xlink:show=\"new\" xlink:title=\"psysml:3cf8fc76-e05d-49bd-b29f-3b88a47b72de\" xlink:type=\"simple\"><rect fill=\"#FFFFFF\" height=\"45.9375\" id=\"E13\" rx=\"10\" ry=\"10\" style=\"stroke: #383838; stroke-width: 1.5;\" width=\"42\" x=\"58\" y=\"147\"/><text fill=\"#000000\" font-family=\"sans-serif\" font-size=\"12\" font-style=\"italic\" lengthAdjust=\"spacingAndGlyphs\" textLength=\"40\" x=\"59\" y=\"163.1387\">«part»</text><text fill=\"#000000\" font-family=\"sans-serif\" font-size=\"12\" lengthAdjust=\"spacingAndGlyphs\" textLength=\"8\" x=\"73\" y=\"177.1074\">p</text><line style=\"stroke: #383838; stroke-width: 1.5;\" x1=\"59\" x2=\"99\" y1=\"184.9375\" y2=\"184.9375\"/></a><!--MD5=[bee11217b2f71d958a27249dc326068c]\n",
       "class E14--><a href=\"psysml:6cf362ef-4bb1-44a5-8272-767638a97c43\" target=\"_top\" title=\"psysml:6cf362ef-4bb1-44a5-8272-767638a97c43\" xlink:actuate=\"onRequest\" xlink:href=\"psysml:6cf362ef-4bb1-44a5-8272-767638a97c43\" xlink:show=\"new\" xlink:title=\"psysml:6cf362ef-4bb1-44a5-8272-767638a97c43\" xlink:type=\"simple\"><rect fill=\"#FFFFFF\" height=\"45.9375\" id=\"E14\" rx=\"10\" ry=\"10\" style=\"stroke: #383838; stroke-width: 1.5;\" width=\"42\" x=\"69\" y=\"253\"/><text fill=\"#000000\" font-family=\"sans-serif\" font-size=\"12\" font-style=\"italic\" lengthAdjust=\"spacingAndGlyphs\" textLength=\"40\" x=\"70\" y=\"269.1387\">«port»</text><text fill=\"#000000\" font-family=\"sans-serif\" font-size=\"12\" lengthAdjust=\"spacingAndGlyphs\" textLength=\"32\" x=\"72\" y=\"283.1074\">p1: P</text><line style=\"stroke: #383838; stroke-width: 1.5;\" x1=\"70\" x2=\"110\" y1=\"290.9375\" y2=\"290.9375\"/></a><!--MD5=[0c48fb7552dae8cbbef69381101a84c8]\n",
       "class E15--><a href=\"psysml:33e7cbb5-c462-4d34-9030-b3438d816b29\" target=\"_top\" title=\"psysml:33e7cbb5-c462-4d34-9030-b3438d816b29\" xlink:actuate=\"onRequest\" xlink:href=\"psysml:33e7cbb5-c462-4d34-9030-b3438d816b29\" xlink:show=\"new\" xlink:title=\"psysml:33e7cbb5-c462-4d34-9030-b3438d816b29\" xlink:type=\"simple\"><rect fill=\"#FFFFFF\" height=\"45.9375\" id=\"E15\" rx=\"10\" ry=\"10\" style=\"stroke: #383838; stroke-width: 1.5;\" width=\"42\" x=\"69\" y=\"359\"/><text fill=\"#000000\" font-family=\"sans-serif\" font-size=\"12\" font-style=\"italic\" lengthAdjust=\"spacingAndGlyphs\" textLength=\"40\" x=\"70\" y=\"375.1387\">«port»</text><text fill=\"#000000\" font-family=\"sans-serif\" font-size=\"12\" lengthAdjust=\"spacingAndGlyphs\" textLength=\"16\" x=\"80\" y=\"389.1074\">p2</text><line style=\"stroke: #383838; stroke-width: 1.5;\" x1=\"70\" x2=\"110\" y1=\"396.9375\" y2=\"396.9375\"/></a><!--MD5=[4672eba38e49728da53d11aeb285b987]\n",
       "reverse link E3 to E4--><a href=\"psysml:e09aa0cf-99c0-4ed5-833c-e6cdd9353c0b\" target=\"_top\" title=\"psysml:e09aa0cf-99c0-4ed5-833c-e6cdd9353c0b\" xlink:actuate=\"onRequest\" xlink:href=\"psysml:e09aa0cf-99c0-4ed5-833c-e6cdd9353c0b\" xlink:show=\"new\" xlink:title=\"psysml:e09aa0cf-99c0-4ed5-833c-e6cdd9353c0b\" xlink:type=\"simple\"><path d=\"M495.58,205.96 C490.95,221.51 485.63,239.33 481.56,252.98 \" fill=\"none\" id=\"E3&lt;-E4\" style=\"stroke: #383838; stroke-width: 1.0;\"/><polygon fill=\"#FFFFFF\" points=\"499.43,193.06,493.8824,197.6669,496.0012,204.5597,501.5488,199.9528,499.43,193.06\" style=\"stroke: #383838; stroke-width: 1.0;\"/><text fill=\"#000000\" font-family=\"sans-serif\" font-size=\"13\" lengthAdjust=\"spacingAndGlyphs\" textLength=\"8\" x=\"474.248\" y=\"241.8709\">1</text></a><!--MD5=[185131fc0dcab0a4505a2ebe144e961b]\n",
       "link E4 to E2--><a href=\"psysml:d96439d0-54ae-42c8-b560-5f0ede470e61\" target=\"_top\" title=\"psysml:d96439d0-54ae-42c8-b560-5f0ede470e61\" xlink:actuate=\"onRequest\" xlink:href=\"psysml:d96439d0-54ae-42c8-b560-5f0ede470e61\" xlink:show=\"new\" xlink:title=\"psysml:d96439d0-54ae-42c8-b560-5f0ede470e61\" xlink:type=\"simple\"><path d=\"M453.78,289.29 C445.07,294.33 437,299 437,299 C437,299 359.69,333.08 304.76,357.3 \" fill=\"none\" id=\"E4-&gt;E2\" style=\"stroke: #383838; stroke-width: 1.0;\"/><polygon fill=\"#FFFFFF\" points=\"286.42,365.38,300.9793,351.3078,306.629,364.1172,286.42,365.38\" style=\"stroke: #383838; stroke-width: 1.0;\"/><ellipse cx=\"307.0017\" cy=\"350.8375\" fill=\"#383838\" rx=\"2\" ry=\"2\" style=\"stroke: #383838; stroke-width: 1.0;\"/><ellipse cx=\"311.0372\" cy=\"359.987\" fill=\"#383838\" rx=\"2\" ry=\"2\" style=\"stroke: #383838; stroke-width: 1.0;\"/></a><!--MD5=[191cde3d490a3f6d7bb551fe3ddca469]\n",
       "reverse link E3 to E5--><a href=\"psysml:880a21a1-46d7-4f3d-9543-241b40e3ab4a\" target=\"_top\" title=\"psysml:880a21a1-46d7-4f3d-9543-241b40e3ab4a\" xlink:actuate=\"onRequest\" xlink:href=\"psysml:880a21a1-46d7-4f3d-9543-241b40e3ab4a\" xlink:show=\"new\" xlink:title=\"psysml:880a21a1-46d7-4f3d-9543-241b40e3ab4a\" xlink:type=\"simple\"><path d=\"M521.05,205.03 C528.02,220.78 536.1,239.06 542.26,252.98 \" fill=\"none\" id=\"E3&lt;-E5\" style=\"stroke: #383838; stroke-width: 1.0;\"/><polygon fill=\"#FFFFFF\" points=\"515.76,193.06,514.5329,200.1659,520.6202,204.0317,521.8473,196.9258,515.76,193.06\" style=\"stroke: #383838; stroke-width: 1.0;\"/><text fill=\"#000000\" font-family=\"sans-serif\" font-size=\"13\" lengthAdjust=\"spacingAndGlyphs\" textLength=\"8\" x=\"530.5674\" y=\"241.8709\">1</text></a><!--MD5=[3f50a3473f1dfb74d3f76443e03635af]\n",
       "reverse link E6 to E7--><a href=\"psysml:98390341-db8e-40b6-aced-fec2311e0a9d\" target=\"_top\" title=\"psysml:98390341-db8e-40b6-aced-fec2311e0a9d\" xlink:actuate=\"onRequest\" xlink:href=\"psysml:98390341-db8e-40b6-aced-fec2311e0a9d\" xlink:show=\"new\" xlink:title=\"psysml:98390341-db8e-40b6-aced-fec2311e0a9d\" xlink:type=\"simple\"><path d=\"M327.59,206.44 C326.11,221.87 324.42,239.47 323.12,252.98 \" fill=\"none\" id=\"E6&lt;-E7\" style=\"stroke: #383838; stroke-width: 1.0;\"/><polygon fill=\"#FFFFFF\" points=\"328.88,193.06,324.3242,198.6497,327.7317,205.0049,332.2875,199.4152,328.88,193.06\" style=\"stroke: #383838; stroke-width: 1.0;\"/><text fill=\"#000000\" font-family=\"sans-serif\" font-size=\"13\" lengthAdjust=\"spacingAndGlyphs\" textLength=\"8\" x=\"314.6148\" y=\"241.8709\">1</text></a><!--MD5=[583832df87f4419a098336a29a52fa00]\n",
       "link E7 to E2--><a href=\"psysml:6f9217eb-859f-4957-bc31-6c1306f83367\" target=\"_top\" title=\"psysml:6f9217eb-859f-4957-bc31-6c1306f83367\" xlink:actuate=\"onRequest\" xlink:href=\"psysml:6f9217eb-859f-4957-bc31-6c1306f83367\" xlink:show=\"new\" xlink:title=\"psysml:6f9217eb-859f-4957-bc31-6c1306f83367\" xlink:type=\"simple\"><path d=\"M306.15,299.06 C297.71,311.6 286.89,327.68 277.07,342.26 \" fill=\"none\" id=\"E7-&gt;E2\" style=\"stroke: #383838; stroke-width: 1.0;\"/><polygon fill=\"#FFFFFF\" points=\"265.82,358.98,270.609,339.306,282.2284,347.1156,265.82,358.98\" style=\"stroke: #383838; stroke-width: 1.0;\"/><ellipse cx=\"275.4486\" cy=\"335.6909\" fill=\"#383838\" rx=\"2\" ry=\"2\" style=\"stroke: #383838; stroke-width: 1.0;\"/><ellipse cx=\"283.7481\" cy=\"341.2692\" fill=\"#383838\" rx=\"2\" ry=\"2\" style=\"stroke: #383838; stroke-width: 1.0;\"/></a><!--MD5=[f4cf0736d43fd73c4ef68817c49d37d5]\n",
       "reverse link E6 to E8--><a href=\"psysml:15a7c7be-761e-4e1c-a126-babbedfba5ca\" target=\"_top\" title=\"psysml:15a7c7be-761e-4e1c-a126-babbedfba5ca\" xlink:actuate=\"onRequest\" xlink:href=\"psysml:15a7c7be-761e-4e1c-a126-babbedfba5ca\" xlink:show=\"new\" xlink:title=\"psysml:15a7c7be-761e-4e1c-a126-babbedfba5ca\" xlink:type=\"simple\"><path d=\"M352.32,204.09 C362.61,220.06 374.67,238.78 383.81,252.98 \" fill=\"none\" id=\"E6&lt;-E8\" style=\"stroke: #383838; stroke-width: 1.0;\"/><polygon fill=\"#FFFFFF\" points=\"345.21,193.06,345.0979,200.2702,351.7104,203.1469,351.8225,195.9366,345.21,193.06\" style=\"stroke: #383838; stroke-width: 1.0;\"/><text fill=\"#000000\" font-family=\"sans-serif\" font-size=\"13\" lengthAdjust=\"spacingAndGlyphs\" textLength=\"8\" x=\"370.9214\" y=\"241.8709\">1</text></a><!--MD5=[23ac544a70576c3e717098101004234c]\n",
       "reverse link E9 to E10--><a href=\"psysml:a15de342-1742-4b99-9b86-ed8c6fb30ab8\" target=\"_top\" title=\"psysml:a15de342-1742-4b99-9b86-ed8c6fb30ab8\" xlink:actuate=\"onRequest\" xlink:href=\"psysml:a15de342-1742-4b99-9b86-ed8c6fb30ab8\" xlink:show=\"new\" xlink:title=\"psysml:a15de342-1742-4b99-9b86-ed8c6fb30ab8\" xlink:type=\"simple\"><path d=\"M180.94,205.96 C177.8,221.51 174.2,239.33 171.45,252.98 \" fill=\"none\" id=\"E9&lt;-E10\" style=\"stroke: #383838; stroke-width: 1.0;\"/><polygon fill=\"#FFFFFF\" points=\"183.55,193.06,178.4422,198.1502,181.1763,204.8229,186.2841,199.7327,183.55,193.06\" style=\"stroke: #383838; stroke-width: 1.0;\"/><text fill=\"#000000\" font-family=\"sans-serif\" font-size=\"13\" lengthAdjust=\"spacingAndGlyphs\" textLength=\"8\" x=\"163.5709\" y=\"241.8709\">1</text></a><!--MD5=[0f36bececdf0dff6e600d6f64214b0f1]\n",
       "link E10 to E2--><a href=\"psysml:81b1dfc1-849b-47a4-a859-9ae7a728ef15\" target=\"_top\" title=\"psysml:81b1dfc1-849b-47a4-a859-9ae7a728ef15\" xlink:actuate=\"onRequest\" xlink:href=\"psysml:81b1dfc1-849b-47a4-a859-9ae7a728ef15\" xlink:show=\"new\" xlink:title=\"psysml:81b1dfc1-849b-47a4-a859-9ae7a728ef15\" xlink:type=\"simple\"><path d=\"M184.81,299.06 C195.17,311.88 208.51,328.39 220.49,343.22 \" fill=\"none\" id=\"E10-&gt;E2\" style=\"stroke: #383838; stroke-width: 1.0;\"/><polygon fill=\"#FFFFFF\" points=\"233.21,358.98,215.8236,348.6016,226.7127,339.8023,233.21,358.98\" style=\"stroke: #383838; stroke-width: 1.0;\"/><ellipse cx=\"213.7966\" cy=\"342.9111\" fill=\"#383838\" rx=\"2\" ry=\"2\" style=\"stroke: #383838; stroke-width: 1.0;\"/><ellipse cx=\"221.5745\" cy=\"336.6259\" fill=\"#383838\" rx=\"2\" ry=\"2\" style=\"stroke: #383838; stroke-width: 1.0;\"/></a><!--MD5=[1fc04a95fd77ad5ce46c1a3027516051]\n",
       "reverse link E9 to E11--><a href=\"psysml:fe2242fc-88cc-4430-bc2f-98e79ba2cc70\" target=\"_top\" title=\"psysml:fe2242fc-88cc-4430-bc2f-98e79ba2cc70\" xlink:actuate=\"onRequest\" xlink:href=\"psysml:fe2242fc-88cc-4430-bc2f-98e79ba2cc70\" xlink:show=\"new\" xlink:title=\"psysml:fe2242fc-88cc-4430-bc2f-98e79ba2cc70\" xlink:type=\"simple\"><path d=\"M206.07,204.56 C214.61,220.42 224.57,238.92 232.14,252.98 \" fill=\"none\" id=\"E9&lt;-E11\" style=\"stroke: #383838; stroke-width: 1.0;\"/><polygon fill=\"#FFFFFF\" points=\"199.88,193.06,199.2038,200.2393,205.5708,203.6248,206.247,196.4455,199.88,193.06\" style=\"stroke: #383838; stroke-width: 1.0;\"/><text fill=\"#000000\" font-family=\"sans-serif\" font-size=\"13\" lengthAdjust=\"spacingAndGlyphs\" textLength=\"8\" x=\"219.8776\" y=\"241.8709\">1</text></a><!--MD5=[062ed86c389d1a88f61c6380d0491e17]\n",
       "reverse link E12 to E13--><a href=\"psysml:0c56cab0-046e-4827-a921-af226384c943\" target=\"_top\" title=\"psysml:0c56cab0-046e-4827-a921-af226384c943\" xlink:actuate=\"onRequest\" xlink:href=\"psysml:0c56cab0-046e-4827-a921-af226384c943\" xlink:show=\"new\" xlink:title=\"psysml:0c56cab0-046e-4827-a921-af226384c943\" xlink:type=\"simple\"><path d=\"M79,100.44 C79,115.87 79,133.47 79,146.98 \" fill=\"none\" id=\"E12&lt;-E13\" style=\"stroke: #383838; stroke-width: 1.0;\"/><polygon fill=\"#FFFFFF\" points=\"79,87.06,75,93.06,79,99.06,83,93.06,79,87.06\" style=\"stroke: #383838; stroke-width: 1.0;\"/><text fill=\"#000000\" font-family=\"sans-serif\" font-size=\"13\" lengthAdjust=\"spacingAndGlyphs\" textLength=\"8\" x=\"69.925\" y=\"135.8709\">1</text></a><!--MD5=[01db00f33b28669d6d9febea71002831]\n",
       "reverse link E13 to E14--><a href=\"psysml:12334834-5f3e-4b20-9f0b-aad671391bfa\" target=\"_top\" title=\"psysml:12334834-5f3e-4b20-9f0b-aad671391bfa\" xlink:actuate=\"onRequest\" xlink:href=\"psysml:12334834-5f3e-4b20-9f0b-aad671391bfa\" xlink:show=\"new\" xlink:title=\"psysml:12334834-5f3e-4b20-9f0b-aad671391bfa\" xlink:type=\"simple\"><path d=\"M82.75,206.44 C84.38,221.87 86.24,239.47 87.67,252.98 \" fill=\"none\" id=\"E13&lt;-E14\" style=\"stroke: #383838; stroke-width: 1.0;\"/><polygon fill=\"#FFFFFF\" points=\"81.33,193.06,77.9783,199.4448,82.5828,204.9944,85.9345,198.6096,81.33,193.06\" style=\"stroke: #383838; stroke-width: 1.0;\"/><text fill=\"#000000\" font-family=\"sans-serif\" font-size=\"13\" lengthAdjust=\"spacingAndGlyphs\" textLength=\"8\" x=\"77.9688\" y=\"241.8709\">1</text></a><!--MD5=[e5566ac99d7714697a7fbc17f6b550fe]\n",
       "link E14 to E2--><a href=\"psysml:f15866fc-26c5-4fac-ba02-f8f796eed5e8\" target=\"_top\" title=\"psysml:f15866fc-26c5-4fac-ba02-f8f796eed5e8\" xlink:actuate=\"onRequest\" xlink:href=\"psysml:f15866fc-26c5-4fac-ba02-f8f796eed5e8\" xlink:show=\"new\" xlink:title=\"psysml:f15866fc-26c5-4fac-ba02-f8f796eed5e8\" xlink:type=\"simple\"><path d=\"M111.05,290.6 C133.49,305.09 169.87,328.59 199.91,348 \" fill=\"none\" id=\"E14-&gt;E2\" style=\"stroke: #383838; stroke-width: 1.0;\"/><polygon fill=\"#FFFFFF\" points=\"216.71,358.85,196.9529,354.4164,204.5518,342.6581,216.71,358.85\" style=\"stroke: #383838; stroke-width: 1.0;\"/><ellipse cx=\"193.2512\" cy=\"349.6428\" fill=\"#383838\" rx=\"2\" ry=\"2\" style=\"stroke: #383838; stroke-width: 1.0;\"/><ellipse cx=\"198.6789\" cy=\"341.244\" fill=\"#383838\" rx=\"2\" ry=\"2\" style=\"stroke: #383838; stroke-width: 1.0;\"/></a><!--MD5=[e9a5e828c71fd2209a11a152f562d491]\n",
       "reverse link E13 to E15--><a href=\"psysml:ce878baa-f80f-4009-adda-6088e19c872e\" target=\"_top\" title=\"psysml:ce878baa-f80f-4009-adda-6088e19c872e\" xlink:actuate=\"onRequest\" xlink:href=\"psysml:ce878baa-f80f-4009-adda-6088e19c872e\" xlink:show=\"new\" xlink:title=\"psysml:ce878baa-f80f-4009-adda-6088e19c872e\" xlink:type=\"simple\"><path d=\"M67.46,206.04 C60.13,228.32 52,253 52,253 C52,253 52,299 52,299 C52,299 68.37,334.31 79.62,358.59 \" fill=\"none\" id=\"E13&lt;-E15\" style=\"stroke: #383838; stroke-width: 1.0;\"/><polygon fill=\"#FFFFFF\" points=\"71.62,193.41,65.9433,197.8569,67.8648,204.8073,73.5415,200.3604,71.62,193.41\" style=\"stroke: #383838; stroke-width: 1.0;\"/><text fill=\"#000000\" font-family=\"sans-serif\" font-size=\"13\" lengthAdjust=\"spacingAndGlyphs\" textLength=\"8\" x=\"67.9351\" y=\"347.7612\">1</text></a><!--MD5=[3afbdc645381407e1bc99677323a2513]\n",
       "link E14 to E15--><a href=\"psysml:1f31a0eb-24e7-4abd-8eab-15c525015988\" target=\"_top\" title=\"psysml:1f31a0eb-24e7-4abd-8eab-15c525015988\" xlink:actuate=\"onRequest\" xlink:href=\"psysml:1f31a0eb-24e7-4abd-8eab-15c525015988\" xlink:show=\"new\" xlink:title=\"psysml:1f31a0eb-24e7-4abd-8eab-15c525015988\" xlink:type=\"simple\"><path d=\"M79.35,299.06 C76.55,316.7 76.55,341.34 79.36,358.98 \" fill=\"none\" id=\"E14-E15\" style=\"stroke: #383838; stroke-width: 3.0;\"/></a><!--MD5=[3afbdc645381407e1bc99677323a2513]\n",
       "link E14 to E15--><a href=\"psysml:c2fd36d5-55a7-4367-ae55-c3f656adabca\" target=\"_top\" title=\"psysml:c2fd36d5-55a7-4367-ae55-c3f656adabca\" xlink:actuate=\"onRequest\" xlink:href=\"psysml:c2fd36d5-55a7-4367-ae55-c3f656adabca\" xlink:show=\"new\" xlink:title=\"psysml:c2fd36d5-55a7-4367-ae55-c3f656adabca\" xlink:type=\"simple\"><path d=\"M101.27,299.06 C104.24,316.7 104.24,341.34 101.27,358.98 \" fill=\"none\" id=\"E14-E15-1\" style=\"stroke: #383838; stroke-width: 3.0;\"/></a><!--MD5=[bb70f261b76a6cadf9c2f92ded21246d]\n",
       "@startuml\r\n",
       "skinparam linetype polyline\r\n",
       "skinparam monochrome true\r\n",
       "skinparam classbackgroundcolor white\r\n",
       "skinparam shadowing false\r\n",
       "skinparam wrapWidth 300\r\n",
       "hide circle\r\n",
       "\r\n",
       "package \"ConjugationTest\" as E1  [[psysml:4e179b45-ef84-478c-a2da-b16af7c43fe7 ]]  {\r\n",
       "comp def \"P\" as E2  <<(T,blue) port  def>> [[psysml:859d5a2d-b524-488b-9af4-e0f987adcacf ]] {\r\n",
       "}\r\n",
       "comp def \"B\" as E3  <<(T,blue) part  def>> [[psysml:615e73ac-8544-4e42-b424-8a4747867d0e ]] {\r\n",
       "}\r\n",
       "comp usage \"p1: P \" as E4  <<(T,blue) port>> [[psysml:37d2c32c-e4e6-4c0b-af75-96cd6556dd4d ]] {\r\n",
       "}\r\n",
       "comp usage \"p2 \" as E5  <<(T,blue) port>> [[psysml:a7d82e4a-e12d-4520-9ae6-c89754eb7506 ]] {\r\n",
       "}\r\n",
       "comp def \"A\" as E6  <<(T,blue) connection  def>> [[psysml:5cdadcae-4d33-45cc-84a1-e26eca79ba4d ]] {\r\n",
       "}\r\n",
       "comp usage \"p1: P \" as E7  <<(T,blue) port>> [[psysml:7fb982ae-cae7-41b0-848a-52bb93191ec3 ]] {\r\n",
       "}\r\n",
       "comp usage \"p2 \" as E8  <<(T,blue) port>> [[psysml:5c21b9df-62cf-4ee8-9145-76efb13de7e4 ]] {\r\n",
       "}\r\n",
       "comp def \"I\" as E9  <<(T,blue) interface  def>> [[psysml:2bbab23f-cc40-4354-88cc-493e0b41ffd4 ]] {\r\n",
       "}\r\n",
       "comp usage \"p1: P \" as E10  <<(T,blue) port>> [[psysml:e0785fbe-faad-409c-b39f-62ae49a7d6e0 ]] {\r\n",
       "}\r\n",
       "comp usage \"p2 \" as E11  <<(T,blue) port>> [[psysml:a18508b4-2f12-4bca-8dd1-291939c34d14 ]] {\r\n",
       "}\r\n",
       "comp def \"B1\" as E12  <<(T,blue) part  def>> [[psysml:cd0027e5-9ed9-4216-bffa-1e31fa367fb3 ]] {\r\n",
       "}\r\n",
       "comp usage \"p \" as E13  <<(T,blue) part>> [[psysml:3cf8fc76-e05d-49bd-b29f-3b88a47b72de ]] {\r\n",
       "}\r\n",
       "comp usage \"p1: P \" as E14  <<(T,blue) port>> [[psysml:6cf362ef-4bb1-44a5-8272-767638a97c43 ]] {\r\n",
       "}\r\n",
       "comp usage \"p2 \" as E15  <<(T,blue) port>> [[psysml:33e7cbb5-c462-4d34-9030-b3438d816b29 ]] {\r\n",
       "}\r\n",
       "}\r\n",
       "E3 o- - \"1\"E4 [[psysml:e09aa0cf-99c0-4ed5-833c-e6cdd9353c0b ]] \r\n",
       "E4 - -:|> E2 [[psysml:d96439d0-54ae-42c8-b560-5f0ede470e61 ]] \r\n",
       "E3 o- - \"1\"E5 [[psysml:880a21a1-46d7-4f3d-9543-241b40e3ab4a ]] \r\n",
       "E6 o- - \"1\"E7 [[psysml:98390341-db8e-40b6-aced-fec2311e0a9d ]] \r\n",
       "E7 - -:|> E2 [[psysml:6f9217eb-859f-4957-bc31-6c1306f83367 ]] \r\n",
       "E6 o- - \"1\"E8 [[psysml:15a7c7be-761e-4e1c-a126-babbedfba5ca ]] \r\n",
       "E9 o- - \"1\"E10 [[psysml:a15de342-1742-4b99-9b86-ed8c6fb30ab8 ]] \r\n",
       "E10 - -:|> E2 [[psysml:81b1dfc1-849b-47a4-a859-9ae7a728ef15 ]] \r\n",
       "E9 o- - \"1\"E11 [[psysml:fe2242fc-88cc-4430-bc2f-98e79ba2cc70 ]] \r\n",
       "E12 o- - \"1\"E13 [[psysml:0c56cab0-046e-4827-a921-af226384c943 ]] \r\n",
       "E13 o- - \"1\"E14 [[psysml:12334834-5f3e-4b20-9f0b-aad671391bfa ]] \r\n",
       "E14 - -:|> E2 [[psysml:f15866fc-26c5-4fac-ba02-f8f796eed5e8 ]] \r\n",
       "E13 o- - \"1\"E15 [[psysml:ce878baa-f80f-4009-adda-6088e19c872e ]] \r\n",
       "E14 -[thickness=3]- E15 [[psysml:1f31a0eb-24e7-4abd-8eab-15c525015988 ]] \r\n",
       "E14 -[thickness=3]- E15 [[psysml:c2fd36d5-55a7-4367-ae55-c3f656adabca ]] \r\n",
       "@enduml\r\n",
       "\n",
       "PlantUML version 1.2020.13(Sat Jun 13 12:26:38 UTC 2020)\n",
       "(EPL source distribution)\n",
       "Java Runtime: OpenJDK Runtime Environment\n",
       "JVM: OpenJDK 64-Bit Server VM\n",
       "Default Encoding: UTF-8\n",
       "Language: en\n",
       "Country: null\n",
       "--></g></svg>"
      ]
     },
     "execution_count": 10,
     "metadata": {},
     "output_type": "execute_result"
    }
   ],
   "source": [
    "%viz --style=\"POLYLINE\" --view=\"Tree\" \"ConjugationTest\""
   ]
  },
  {
   "cell_type": "code",
   "execution_count": 11,
   "id": "4754b974",
   "metadata": {
    "execution": {
     "iopub.execute_input": "2022-08-19T08:18:12.319238Z",
     "iopub.status.busy": "2022-08-19T08:18:12.318786Z",
     "iopub.status.idle": "2022-08-19T08:18:12.332746Z",
     "shell.execute_reply": "2022-08-19T08:18:12.332323Z"
    }
   },
   "outputs": [
    {
     "data": {
      "image/svg+xml": [
       "<?xml version=\"1.0\" encoding=\"UTF-8\" standalone=\"no\"?><svg xmlns=\"http://www.w3.org/2000/svg\" xmlns:xlink=\"http://www.w3.org/1999/xlink\" contentScriptType=\"application/ecmascript\" contentStyleType=\"text/css\" height=\"12px\" preserveAspectRatio=\"none\" style=\"width:12px;height:12px;\" version=\"1.1\" viewBox=\"0 0 12 12\" width=\"12px\" zoomAndPan=\"magnify\"><defs/><g><!--MD5=[896ac0e7a515d8dd7765a661cb4ee08b]\n",
       "@startuml\r\n",
       "skinparam linetype polyline\r\n",
       "skinparam monochrome true\r\n",
       "skinparam classbackgroundcolor white\r\n",
       "skinparam shadowing false\r\n",
       "skinparam wrapWidth 300\r\n",
       "hide circle\r\n",
       "\r\n",
       "@enduml\r\n",
       "\n",
       "PlantUML version 1.2020.13(Sat Jun 13 12:26:38 UTC 2020)\n",
       "(EPL source distribution)\n",
       "Java Runtime: OpenJDK Runtime Environment\n",
       "JVM: OpenJDK 64-Bit Server VM\n",
       "Default Encoding: UTF-8\n",
       "Language: en\n",
       "Country: null\n",
       "--></g></svg>"
      ]
     },
     "execution_count": 11,
     "metadata": {},
     "output_type": "execute_result"
    }
   ],
   "source": [
    "%viz --style=\"POLYLINE\" --view=\"State\" \"ConjugationTest\""
   ]
  },
  {
   "cell_type": "code",
   "execution_count": 12,
   "id": "534a3083",
   "metadata": {
    "execution": {
     "iopub.execute_input": "2022-08-19T08:18:12.382549Z",
     "iopub.status.busy": "2022-08-19T08:18:12.382012Z",
     "iopub.status.idle": "2022-08-19T08:18:12.436086Z",
     "shell.execute_reply": "2022-08-19T08:18:12.435549Z"
    }
   },
   "outputs": [
    {
     "data": {
      "image/svg+xml": [
       "<?xml version=\"1.0\" encoding=\"UTF-8\" standalone=\"no\"?><svg xmlns=\"http://www.w3.org/2000/svg\" xmlns:xlink=\"http://www.w3.org/1999/xlink\" contentScriptType=\"application/ecmascript\" contentStyleType=\"text/css\" height=\"299px\" preserveAspectRatio=\"none\" style=\"width:765px;height:299px;\" version=\"1.1\" viewBox=\"0 0 765 299\" width=\"765px\" zoomAndPan=\"magnify\"><defs/><g><!--MD5=[fbc87193dbaf4d95561dea2c320d4a47]\n",
       "cluster E1--><a href=\"psysml:4e179b45-ef84-478c-a2da-b16af7c43fe7\" target=\"_top\" title=\"psysml:4e179b45-ef84-478c-a2da-b16af7c43fe7\" xlink:actuate=\"onRequest\" xlink:href=\"psysml:4e179b45-ef84-478c-a2da-b16af7c43fe7\" xlink:show=\"new\" xlink:title=\"psysml:4e179b45-ef84-478c-a2da-b16af7c43fe7\" xlink:type=\"simple\"><polygon fill=\"#FFFFFF\" points=\"16,6,136,6,143,28.2969,743,28.2969,743,287.36,16,287.36,16,6\" style=\"stroke: #000000; stroke-width: 1.5;\"/><line style=\"stroke: #000000; stroke-width: 1.5;\" x1=\"16\" x2=\"143\" y1=\"28.2969\" y2=\"28.2969\"/><text fill=\"#000000\" font-family=\"sans-serif\" font-size=\"14\" font-weight=\"bold\" lengthAdjust=\"spacingAndGlyphs\" textLength=\"114\" x=\"20\" y=\"20.9951\">ConjugationTest</text></a><!--MD5=[d5e69f78d87373223dbae638b30a9c99]\n",
       "cluster E3--><a href=\"psysml:615e73ac-8544-4e42-b424-8a4747867d0e\" target=\"_top\" title=\"psysml:615e73ac-8544-4e42-b424-8a4747867d0e\" xlink:actuate=\"onRequest\" xlink:href=\"psysml:615e73ac-8544-4e42-b424-8a4747867d0e\" xlink:show=\"new\" xlink:title=\"psysml:615e73ac-8544-4e42-b424-8a4747867d0e\" xlink:type=\"simple\"><rect fill=\"#FFFFFF\" height=\"88.5\" id=\"E3\" style=\"stroke: #383838; stroke-width: 1.5;\" width=\"85\" x=\"600\" y=\"114\"/><rect fill=\"#F8F8F8\" height=\"37.9375\" style=\"stroke: #383838; stroke-width: 1.5;\" width=\"85\" x=\"600\" y=\"114\"/><text fill=\"#000000\" font-family=\"sans-serif\" font-size=\"12\" font-style=\"italic\" lengthAdjust=\"spacingAndGlyphs\" textLength=\"68\" x=\"608.5\" y=\"130.1387\">«part  def»</text><text fill=\"#000000\" font-family=\"sans-serif\" font-size=\"12\" lengthAdjust=\"spacingAndGlyphs\" textLength=\"8\" x=\"638.5\" y=\"144.1074\">B</text></a><!--MD5=[14e3b0961a2654348d326746436168a1]\n",
       "cluster E6--><a href=\"psysml:5cdadcae-4d33-45cc-84a1-e26eca79ba4d\" target=\"_top\" title=\"psysml:5cdadcae-4d33-45cc-84a1-e26eca79ba4d\" xlink:actuate=\"onRequest\" xlink:href=\"psysml:5cdadcae-4d33-45cc-84a1-e26eca79ba4d\" xlink:show=\"new\" xlink:title=\"psysml:5cdadcae-4d33-45cc-84a1-e26eca79ba4d\" xlink:type=\"simple\"><rect fill=\"#FFFFFF\" height=\"88.5\" id=\"E6\" style=\"stroke: #383838; stroke-width: 1.5;\" width=\"152\" x=\"443\" y=\"114\"/><rect fill=\"#F8F8F8\" height=\"37.9375\" style=\"stroke: #383838; stroke-width: 1.5;\" width=\"152\" x=\"443\" y=\"114\"/><text fill=\"#000000\" font-family=\"sans-serif\" font-size=\"12\" font-style=\"italic\" lengthAdjust=\"spacingAndGlyphs\" textLength=\"112\" x=\"463\" y=\"130.1387\">«connection  def»</text><text fill=\"#000000\" font-family=\"sans-serif\" font-size=\"12\" lengthAdjust=\"spacingAndGlyphs\" textLength=\"8\" x=\"515\" y=\"144.1074\">A</text></a><!--MD5=[7f149f147074ac12df2cb0a7728a5fb0]\n",
       "cluster E9--><a href=\"psysml:2bbab23f-cc40-4354-88cc-493e0b41ffd4\" target=\"_top\" title=\"psysml:2bbab23f-cc40-4354-88cc-493e0b41ffd4\" xlink:actuate=\"onRequest\" xlink:href=\"psysml:2bbab23f-cc40-4354-88cc-493e0b41ffd4\" xlink:show=\"new\" xlink:title=\"psysml:2bbab23f-cc40-4354-88cc-493e0b41ffd4\" xlink:type=\"simple\"><rect fill=\"#FFFFFF\" height=\"88.5\" id=\"E9\" style=\"stroke: #383838; stroke-width: 1.5;\" width=\"143\" x=\"270\" y=\"114\"/><rect fill=\"#F8F8F8\" height=\"37.9375\" style=\"stroke: #383838; stroke-width: 1.5;\" width=\"143\" x=\"270\" y=\"114\"/><text fill=\"#000000\" font-family=\"sans-serif\" font-size=\"12\" font-style=\"italic\" lengthAdjust=\"spacingAndGlyphs\" textLength=\"98\" x=\"292.5\" y=\"130.1387\">«interface  def»</text><text fill=\"#000000\" font-family=\"sans-serif\" font-size=\"12\" lengthAdjust=\"spacingAndGlyphs\" textLength=\"3\" x=\"340\" y=\"144.1074\">I</text></a><!--MD5=[47bea60c1a0ac6c1143df232041969c0]\n",
       "cluster E12--><a href=\"psysml:cd0027e5-9ed9-4216-bffa-1e31fa367fb3\" target=\"_top\" title=\"psysml:cd0027e5-9ed9-4216-bffa-1e31fa367fb3\" xlink:actuate=\"onRequest\" xlink:href=\"psysml:cd0027e5-9ed9-4216-bffa-1e31fa367fb3\" xlink:show=\"new\" xlink:title=\"psysml:cd0027e5-9ed9-4216-bffa-1e31fa367fb3\" xlink:type=\"simple\"><rect fill=\"#FFFFFF\" height=\"214.36\" id=\"E12\" style=\"stroke: #383838; stroke-width: 1.5;\" width=\"119\" x=\"122\" y=\"49\"/><rect fill=\"#F8F8F8\" height=\"37.9375\" style=\"stroke: #383838; stroke-width: 1.5;\" width=\"119\" x=\"122\" y=\"49\"/><text fill=\"#000000\" font-family=\"sans-serif\" font-size=\"12\" font-style=\"italic\" lengthAdjust=\"spacingAndGlyphs\" textLength=\"68\" x=\"147.5\" y=\"65.1387\">«part  def»</text><text fill=\"#000000\" font-family=\"sans-serif\" font-size=\"12\" lengthAdjust=\"spacingAndGlyphs\" textLength=\"16\" x=\"173.5\" y=\"79.1074\">B1</text></a><!--MD5=[03104f77b71e2d8d3500c651e6e31181]\n",
       "cluster E13--><a href=\"psysml:3cf8fc76-e05d-49bd-b29f-3b88a47b72de\" target=\"_top\" title=\"psysml:3cf8fc76-e05d-49bd-b29f-3b88a47b72de\" xlink:actuate=\"onRequest\" xlink:href=\"psysml:3cf8fc76-e05d-49bd-b29f-3b88a47b72de\" xlink:show=\"new\" xlink:title=\"psysml:3cf8fc76-e05d-49bd-b29f-3b88a47b72de\" xlink:type=\"simple\"><rect fill=\"#FFFFFF\" height=\"119.36\" id=\"E13\" rx=\"10\" ry=\"10\" style=\"stroke: #383838; stroke-width: 1.5;\" width=\"86\" x=\"139\" y=\"114\"/><rect fill=\"#F8F8F8\" height=\"23.9688\" rx=\"10\" ry=\"10\" style=\"stroke: #F8F8F8; stroke-width: 1.5;\" width=\"86\" x=\"139\" y=\"114\"/><rect fill=\"#F8F8F8\" height=\"10\" style=\"stroke: #F8F8F8; stroke-width: 1.5;\" width=\"86\" x=\"139\" y=\"127.9688\"/><rect fill=\"none\" height=\"119.36\" id=\"E13\" rx=\"10\" ry=\"10\" style=\"stroke: #383838; stroke-width: 1.5;\" width=\"86\" x=\"139\" y=\"114\"/><text fill=\"#000000\" font-family=\"sans-serif\" font-size=\"12\" lengthAdjust=\"spacingAndGlyphs\" textLength=\"8\" x=\"178\" y=\"130.1387\">p</text><line style=\"stroke: #383838; stroke-width: 1.0;\" x1=\"139\" x2=\"225\" y1=\"137.9688\" y2=\"137.9688\"/></a><g id=\"E1.E2\"><a href=\"psysml:859d5a2d-b524-488b-9af4-e0f987adcacf\" target=\"_top\" title=\"psysml:859d5a2d-b524-488b-9af4-e0f987adcacf\" xlink:actuate=\"onRequest\" xlink:href=\"psysml:859d5a2d-b524-488b-9af4-e0f987adcacf\" xlink:show=\"new\" xlink:title=\"psysml:859d5a2d-b524-488b-9af4-e0f987adcacf\" xlink:type=\"simple\"><rect fill=\"#FFFFFF\" height=\"42.9375\" id=\"E2\" style=\"stroke: #383838; stroke-width: 1.5;\" width=\"75\" x=\"31.5\" y=\"92.5\"/><rect fill=\"#F8F8F8\" height=\"37.9375\" style=\"stroke: #383838; stroke-width: 1.5;\" width=\"75\" x=\"31.5\" y=\"92.5\"/><text fill=\"#000000\" font-family=\"sans-serif\" font-size=\"12\" font-style=\"italic\" lengthAdjust=\"spacingAndGlyphs\" textLength=\"68\" x=\"35\" y=\"108.6387\">«port  def»</text><text fill=\"#000000\" font-family=\"sans-serif\" font-size=\"12\" lengthAdjust=\"spacingAndGlyphs\" textLength=\"8\" x=\"65\" y=\"122.6074\">P</text></a></g><text fill=\"#000000\" font-family=\"sans-serif\" font-size=\"14\" lengthAdjust=\"spacingAndGlyphs\" textLength=\"36\" x=\"598\" y=\"92.6982\">p1: P</text><rect fill=\"#383838\" height=\"12\" style=\"stroke: #F8F8F8; stroke-width: 1.5;\" width=\"12\" x=\"612\" y=\"108\"/><text fill=\"#000000\" font-family=\"sans-serif\" font-size=\"14\" lengthAdjust=\"spacingAndGlyphs\" textLength=\"18\" x=\"654\" y=\"92.6982\">p2</text><rect fill=\"#383838\" height=\"12\" style=\"stroke: #F8F8F8; stroke-width: 1.5;\" width=\"12\" x=\"659\" y=\"108\"/><text fill=\"#000000\" font-family=\"sans-serif\" font-size=\"14\" lengthAdjust=\"spacingAndGlyphs\" textLength=\"36\" x=\"441\" y=\"92.6982\">p1: P</text><rect fill=\"#383838\" height=\"12\" style=\"stroke: #F8F8F8; stroke-width: 1.5;\" width=\"12\" x=\"455\" y=\"108\"/><text fill=\"#000000\" font-family=\"sans-serif\" font-size=\"14\" lengthAdjust=\"spacingAndGlyphs\" textLength=\"18\" x=\"497\" y=\"92.6982\">p2</text><rect fill=\"#383838\" height=\"12\" style=\"stroke: #F8F8F8; stroke-width: 1.5;\" width=\"12\" x=\"502\" y=\"108\"/><text fill=\"#000000\" font-family=\"sans-serif\" font-size=\"14\" lengthAdjust=\"spacingAndGlyphs\" textLength=\"36\" x=\"268\" y=\"92.6982\">p1: P</text><rect fill=\"#383838\" height=\"12\" style=\"stroke: #F8F8F8; stroke-width: 1.5;\" width=\"12\" x=\"282\" y=\"108\"/><text fill=\"#000000\" font-family=\"sans-serif\" font-size=\"14\" lengthAdjust=\"spacingAndGlyphs\" textLength=\"18\" x=\"324\" y=\"92.6982\">p2</text><rect fill=\"#383838\" height=\"12\" style=\"stroke: #F8F8F8; stroke-width: 1.5;\" width=\"12\" x=\"329\" y=\"108\"/><text fill=\"#000000\" font-family=\"sans-serif\" font-size=\"14\" lengthAdjust=\"spacingAndGlyphs\" textLength=\"36\" x=\"137\" y=\"252.3551\">p1: P</text><rect fill=\"#383838\" height=\"12\" style=\"stroke: #F8F8F8; stroke-width: 1.5;\" width=\"12\" x=\"151\" y=\"227.36\"/><text fill=\"#000000\" font-family=\"sans-serif\" font-size=\"14\" lengthAdjust=\"spacingAndGlyphs\" textLength=\"18\" x=\"156\" y=\"92.6982\">p2</text><rect fill=\"#383838\" height=\"12\" style=\"stroke: #F8F8F8; stroke-width: 1.5;\" width=\"12\" x=\"161\" y=\"108\"/><!--MD5=[3afbdc645381407e1bc99677323a2513]\n",
       "link E14 to E15--><a href=\"psysml:1f31a0eb-24e7-4abd-8eab-15c525015988\" target=\"_top\" title=\"psysml:1f31a0eb-24e7-4abd-8eab-15c525015988\" xlink:actuate=\"onRequest\" xlink:href=\"psysml:1f31a0eb-24e7-4abd-8eab-15c525015988\" xlink:show=\"new\" xlink:title=\"psysml:1f31a0eb-24e7-4abd-8eab-15c525015988\" xlink:type=\"simple\"><path d=\"M158.57,227.22 C166.32,223.59 179,219.36 179,219.36 C179,219.36 179,143.5 179,143.5 C179,143.5 163.69,128.46 161.84,120.23 \" fill=\"none\" id=\"E14-E15\" style=\"stroke: #383838; stroke-width: 3.0;\"/></a><!--MD5=[3afbdc645381407e1bc99677323a2513]\n",
       "link E14 to E15--><a href=\"psysml:c2fd36d5-55a7-4367-ae55-c3f656adabca\" target=\"_top\" title=\"psysml:c2fd36d5-55a7-4367-ae55-c3f656adabca\" xlink:actuate=\"onRequest\" xlink:href=\"psysml:c2fd36d5-55a7-4367-ae55-c3f656adabca\" xlink:show=\"new\" xlink:title=\"psysml:c2fd36d5-55a7-4367-ae55-c3f656adabca\" xlink:type=\"simple\"><path d=\"M163.07,231.98 C182.52,229.85 214,219.36 214,219.36 C214,219.36 214,143.5 214,143.5 C214,143.5 191,120.89 173.25,115.95 \" fill=\"none\" id=\"E14-E15-1\" style=\"stroke: #383838; stroke-width: 3.0;\"/></a><!--MD5=[57f61607958fe32f2f1cbf0ea7b480a8]\n",
       "@startuml\r\n",
       "skinparam ranksep 10\r\n",
       "skinparam rectangle {\r\n",
       " backgroundColor<<block>> LightGreen\r\n",
       "}\r\n",
       "skinparam linetype polyline\r\n",
       "skinparam monochrome true\r\n",
       "skinparam classbackgroundcolor white\r\n",
       "skinparam shadowing false\r\n",
       "skinparam wrapWidth 300\r\n",
       "hide circle\r\n",
       "\r\n",
       "package \"ConjugationTest\" as E1  [[psysml:4e179b45-ef84-478c-a2da-b16af7c43fe7 ]]  {\r\n",
       "def \"P\" as E2  <<(T,blue) port  def>> [[psysml:859d5a2d-b524-488b-9af4-e0f987adcacf ]] \r\n",
       "rec def \"B\" as E3  <<(T,blue) part  def>> [[psysml:615e73ac-8544-4e42-b424-8a4747867d0e ]] {\r\n",
       "portin \"p1: P \" as E4  <<(T,blue) port>> [[psysml:37d2c32c-e4e6-4c0b-af75-96cd6556dd4d ]] \r\n",
       "portin \"p2 \" as E5  <<(T,blue) port>> [[psysml:a7d82e4a-e12d-4520-9ae6-c89754eb7506 ]] \r\n",
       "}\r\n",
       "rec def \"A\" as E6  <<(T,blue) connection  def>> [[psysml:5cdadcae-4d33-45cc-84a1-e26eca79ba4d ]] {\r\n",
       "portin \"p1: P \" as E7  <<(T,blue) port>> [[psysml:7fb982ae-cae7-41b0-848a-52bb93191ec3 ]] \r\n",
       "portin \"p2 \" as E8  <<(T,blue) port>> [[psysml:5c21b9df-62cf-4ee8-9145-76efb13de7e4 ]] \r\n",
       "}\r\n",
       "rec def \"I\" as E9  <<(T,blue) interface  def>> [[psysml:2bbab23f-cc40-4354-88cc-493e0b41ffd4 ]] {\r\n",
       "portin \"p1: P \" as E10  <<(T,blue) port>> [[psysml:e0785fbe-faad-409c-b39f-62ae49a7d6e0 ]] \r\n",
       "portin \"p2 \" as E11  <<(T,blue) port>> [[psysml:a18508b4-2f12-4bca-8dd1-291939c34d14 ]] \r\n",
       "}\r\n",
       "rec def \"B1\" as E12  <<(T,blue) part  def>> [[psysml:cd0027e5-9ed9-4216-bffa-1e31fa367fb3 ]] {\r\n",
       "rec usage \"p\" as E13  [[psysml:3cf8fc76-e05d-49bd-b29f-3b88a47b72de ]] {\r\n",
       "portout \"p1: P \" as E14  <<(T,blue) port>> [[psysml:6cf362ef-4bb1-44a5-8272-767638a97c43 ]] \r\n",
       "portin \"p2 \" as E15  <<(T,blue) port>> [[psysml:33e7cbb5-c462-4d34-9030-b3438d816b29 ]] \r\n",
       "}\r\n",
       "}\r\n",
       "}\r\n",
       "E14 -[thickness=3]- E15 [[psysml:1f31a0eb-24e7-4abd-8eab-15c525015988 ]] \r\n",
       "E14 -[thickness=3]- E15 [[psysml:c2fd36d5-55a7-4367-ae55-c3f656adabca ]] \r\n",
       "@enduml\r\n",
       "\n",
       "PlantUML version 1.2020.13(Sat Jun 13 12:26:38 UTC 2020)\n",
       "(EPL source distribution)\n",
       "Java Runtime: OpenJDK Runtime Environment\n",
       "JVM: OpenJDK 64-Bit Server VM\n",
       "Default Encoding: UTF-8\n",
       "Language: en\n",
       "Country: null\n",
       "--></g></svg>"
      ]
     },
     "execution_count": 12,
     "metadata": {},
     "output_type": "execute_result"
    }
   ],
   "source": [
    "%viz --style=\"POLYLINE\" --view=\"Interconnection\" \"ConjugationTest\""
   ]
  },
  {
   "cell_type": "code",
   "execution_count": 13,
   "id": "75d22954",
   "metadata": {
    "execution": {
     "iopub.execute_input": "2022-08-19T08:18:12.486434Z",
     "iopub.status.busy": "2022-08-19T08:18:12.485687Z",
     "iopub.status.idle": "2022-08-19T08:18:12.492956Z",
     "shell.execute_reply": "2022-08-19T08:18:12.493290Z"
    }
   },
   "outputs": [
    {
     "data": {
      "image/svg+xml": [
       "<?xml version=\"1.0\" encoding=\"UTF-8\" standalone=\"no\"?><svg xmlns=\"http://www.w3.org/2000/svg\" xmlns:xlink=\"http://www.w3.org/1999/xlink\" contentScriptType=\"application/ecmascript\" contentStyleType=\"text/css\" height=\"12px\" preserveAspectRatio=\"none\" style=\"width:12px;height:12px;\" version=\"1.1\" viewBox=\"0 0 12 12\" width=\"12px\" zoomAndPan=\"magnify\"><defs/><g><!--MD5=[97bbf32f66ccd50cbc40d92ea8f5a65e]\n",
       "@startuml\r\n",
       "skinparam ranksep 8\r\n",
       "skinparam linetype polyline\r\n",
       "skinparam monochrome true\r\n",
       "skinparam classbackgroundcolor white\r\n",
       "skinparam shadowing false\r\n",
       "skinparam wrapWidth 300\r\n",
       "hide circle\r\n",
       "\r\n",
       "@enduml\r\n",
       "\n",
       "PlantUML version 1.2020.13(Sat Jun 13 12:26:38 UTC 2020)\n",
       "(EPL source distribution)\n",
       "Java Runtime: OpenJDK Runtime Environment\n",
       "JVM: OpenJDK 64-Bit Server VM\n",
       "Default Encoding: UTF-8\n",
       "Language: en\n",
       "Country: null\n",
       "--></g></svg>"
      ]
     },
     "execution_count": 13,
     "metadata": {},
     "output_type": "execute_result"
    }
   ],
   "source": [
    "%viz --style=\"POLYLINE\" --view=\"Action\" \"ConjugationTest\""
   ]
  },
  {
   "cell_type": "code",
   "execution_count": 14,
   "id": "ad8ab043",
   "metadata": {
    "execution": {
     "iopub.execute_input": "2022-08-19T08:18:12.543705Z",
     "iopub.status.busy": "2022-08-19T08:18:12.542983Z",
     "iopub.status.idle": "2022-08-19T08:18:12.550357Z",
     "shell.execute_reply": "2022-08-19T08:18:12.550680Z"
    }
   },
   "outputs": [
    {
     "data": {
      "image/svg+xml": [
       "<?xml version=\"1.0\" encoding=\"UTF-8\" standalone=\"no\"?><svg xmlns=\"http://www.w3.org/2000/svg\" xmlns:xlink=\"http://www.w3.org/1999/xlink\" contentScriptType=\"application/ecmascript\" contentStyleType=\"text/css\" height=\"12px\" preserveAspectRatio=\"none\" style=\"width:12px;height:12px;\" version=\"1.1\" viewBox=\"0 0 12 12\" width=\"12px\" zoomAndPan=\"magnify\"><defs/><g><!--MD5=[dc938048236c351797870c36b62f92ad]\n",
       "@startuml\r\n",
       "skinparam roundcorner 20\r\n",
       "skinparam BoxPadding 20\r\n",
       "skinparam SequenceBoxBackgroundColor #white\r\n",
       "skinparam style strictuml\r\n",
       "skinparam maxMessageSize 100\r\n",
       "skinparam linetype polyline\r\n",
       "skinparam monochrome true\r\n",
       "skinparam classbackgroundcolor white\r\n",
       "skinparam shadowing false\r\n",
       "skinparam wrapWidth 300\r\n",
       "hide circle\r\n",
       "\r\n",
       "@enduml\r\n",
       "\n",
       "PlantUML version 1.2020.13(Sat Jun 13 12:26:38 UTC 2020)\n",
       "(EPL source distribution)\n",
       "Java Runtime: OpenJDK Runtime Environment\n",
       "JVM: OpenJDK 64-Bit Server VM\n",
       "Default Encoding: UTF-8\n",
       "Language: en\n",
       "Country: null\n",
       "--></g></svg>"
      ]
     },
     "execution_count": 14,
     "metadata": {},
     "output_type": "execute_result"
    }
   ],
   "source": [
    "%viz --style=\"POLYLINE\" --view=\"Sequence\" \"ConjugationTest\""
   ]
  },
  {
   "cell_type": "code",
   "execution_count": 15,
   "id": "a192721c",
   "metadata": {
    "execution": {
     "iopub.execute_input": "2022-08-19T08:18:12.601159Z",
     "iopub.status.busy": "2022-08-19T08:18:12.600445Z",
     "iopub.status.idle": "2022-08-19T08:18:12.664026Z",
     "shell.execute_reply": "2022-08-19T08:18:12.663585Z"
    }
   },
   "outputs": [
    {
     "data": {
      "image/svg+xml": [
       "<?xml version=\"1.0\" encoding=\"UTF-8\" standalone=\"no\"?><svg xmlns=\"http://www.w3.org/2000/svg\" xmlns:xlink=\"http://www.w3.org/1999/xlink\" contentScriptType=\"application/ecmascript\" contentStyleType=\"text/css\" height=\"433px\" preserveAspectRatio=\"none\" style=\"width:611px;height:433px;\" version=\"1.1\" viewBox=\"0 0 611 433\" width=\"611px\" zoomAndPan=\"magnify\"><defs/><g><!--MD5=[fbc87193dbaf4d95561dea2c320d4a47]\n",
       "cluster E1--><a href=\"psysml:4e179b45-ef84-478c-a2da-b16af7c43fe7\" target=\"_top\" title=\"psysml:4e179b45-ef84-478c-a2da-b16af7c43fe7\" xlink:actuate=\"onRequest\" xlink:href=\"psysml:4e179b45-ef84-478c-a2da-b16af7c43fe7\" xlink:show=\"new\" xlink:title=\"psysml:4e179b45-ef84-478c-a2da-b16af7c43fe7\" xlink:type=\"simple\"><polygon fill=\"#FFFFFF\" points=\"16,6,136,6,143,28.2969,589,28.2969,589,421,16,421,16,6\" style=\"stroke: #000000; stroke-width: 1.5;\"/><line style=\"stroke: #000000; stroke-width: 1.5;\" x1=\"16\" x2=\"143\" y1=\"28.2969\" y2=\"28.2969\"/><text fill=\"#000000\" font-family=\"sans-serif\" font-size=\"14\" font-weight=\"bold\" lengthAdjust=\"spacingAndGlyphs\" textLength=\"114\" x=\"20\" y=\"20.9951\">ConjugationTest</text></a><!--MD5=[b4997ac47864f28c2f74865a473b2911]\n",
       "class E2--><a href=\"psysml:859d5a2d-b524-488b-9af4-e0f987adcacf\" target=\"_top\" title=\"psysml:859d5a2d-b524-488b-9af4-e0f987adcacf\" xlink:actuate=\"onRequest\" xlink:href=\"psysml:859d5a2d-b524-488b-9af4-e0f987adcacf\" xlink:show=\"new\" xlink:title=\"psysml:859d5a2d-b524-488b-9af4-e0f987adcacf\" xlink:type=\"simple\"><rect fill=\"#FFFFFF\" height=\"45.9375\" id=\"E2\" style=\"stroke: #383838; stroke-width: 1.5;\" width=\"70\" x=\"216\" y=\"359\"/><text fill=\"#000000\" font-family=\"sans-serif\" font-size=\"12\" font-style=\"italic\" lengthAdjust=\"spacingAndGlyphs\" textLength=\"68\" x=\"217\" y=\"375.1387\">«port  def»</text><text fill=\"#000000\" font-family=\"sans-serif\" font-size=\"12\" lengthAdjust=\"spacingAndGlyphs\" textLength=\"8\" x=\"247\" y=\"389.1074\">P</text><line style=\"stroke: #383838; stroke-width: 1.5;\" x1=\"217\" x2=\"285\" y1=\"396.9375\" y2=\"396.9375\"/></a><!--MD5=[09b614a08d8cba4a07c9adeb5e0fee81]\n",
       "class E3--><a href=\"psysml:615e73ac-8544-4e42-b424-8a4747867d0e\" target=\"_top\" title=\"psysml:615e73ac-8544-4e42-b424-8a4747867d0e\" xlink:actuate=\"onRequest\" xlink:href=\"psysml:615e73ac-8544-4e42-b424-8a4747867d0e\" xlink:show=\"new\" xlink:title=\"psysml:615e73ac-8544-4e42-b424-8a4747867d0e\" xlink:type=\"simple\"><rect fill=\"#FFFFFF\" height=\"45.9375\" id=\"E3\" style=\"stroke: #383838; stroke-width: 1.5;\" width=\"70\" x=\"471\" y=\"147\"/><text fill=\"#000000\" font-family=\"sans-serif\" font-size=\"12\" font-style=\"italic\" lengthAdjust=\"spacingAndGlyphs\" textLength=\"68\" x=\"472\" y=\"163.1387\">«part  def»</text><text fill=\"#000000\" font-family=\"sans-serif\" font-size=\"12\" lengthAdjust=\"spacingAndGlyphs\" textLength=\"8\" x=\"502\" y=\"177.1074\">B</text><line style=\"stroke: #383838; stroke-width: 1.5;\" x1=\"472\" x2=\"540\" y1=\"184.9375\" y2=\"184.9375\"/></a><!--MD5=[ebbe1d658d1005bcc118a6aa81145e00]\n",
       "class E4--><a href=\"psysml:37d2c32c-e4e6-4c0b-af75-96cd6556dd4d\" target=\"_top\" title=\"psysml:37d2c32c-e4e6-4c0b-af75-96cd6556dd4d\" xlink:actuate=\"onRequest\" xlink:href=\"psysml:37d2c32c-e4e6-4c0b-af75-96cd6556dd4d\" xlink:show=\"new\" xlink:title=\"psysml:37d2c32c-e4e6-4c0b-af75-96cd6556dd4d\" xlink:type=\"simple\"><rect fill=\"#FFFFFF\" height=\"45.9375\" id=\"E4\" rx=\"10\" ry=\"10\" style=\"stroke: #383838; stroke-width: 1.5;\" width=\"42\" x=\"454\" y=\"253\"/><text fill=\"#000000\" font-family=\"sans-serif\" font-size=\"12\" font-style=\"italic\" lengthAdjust=\"spacingAndGlyphs\" textLength=\"40\" x=\"455\" y=\"269.1387\">«port»</text><text fill=\"#000000\" font-family=\"sans-serif\" font-size=\"12\" lengthAdjust=\"spacingAndGlyphs\" textLength=\"32\" x=\"457\" y=\"283.1074\">p1: P</text><line style=\"stroke: #383838; stroke-width: 1.5;\" x1=\"455\" x2=\"495\" y1=\"290.9375\" y2=\"290.9375\"/></a><!--MD5=[270fce915f116d4de14055a7c1d9a0f3]\n",
       "class E5--><a href=\"psysml:a7d82e4a-e12d-4520-9ae6-c89754eb7506\" target=\"_top\" title=\"psysml:a7d82e4a-e12d-4520-9ae6-c89754eb7506\" xlink:actuate=\"onRequest\" xlink:href=\"psysml:a7d82e4a-e12d-4520-9ae6-c89754eb7506\" xlink:show=\"new\" xlink:title=\"psysml:a7d82e4a-e12d-4520-9ae6-c89754eb7506\" xlink:type=\"simple\"><rect fill=\"#FFFFFF\" height=\"45.9375\" id=\"E5\" rx=\"10\" ry=\"10\" style=\"stroke: #383838; stroke-width: 1.5;\" width=\"42\" x=\"531\" y=\"253\"/><text fill=\"#000000\" font-family=\"sans-serif\" font-size=\"12\" font-style=\"italic\" lengthAdjust=\"spacingAndGlyphs\" textLength=\"40\" x=\"532\" y=\"269.1387\">«port»</text><text fill=\"#000000\" font-family=\"sans-serif\" font-size=\"12\" lengthAdjust=\"spacingAndGlyphs\" textLength=\"16\" x=\"542\" y=\"283.1074\">p2</text><line style=\"stroke: #383838; stroke-width: 1.5;\" x1=\"532\" x2=\"572\" y1=\"290.9375\" y2=\"290.9375\"/></a><!--MD5=[60a26617385b1d2d0262a64233df1f8d]\n",
       "class E6--><a href=\"psysml:5cdadcae-4d33-45cc-84a1-e26eca79ba4d\" target=\"_top\" title=\"psysml:5cdadcae-4d33-45cc-84a1-e26eca79ba4d\" xlink:actuate=\"onRequest\" xlink:href=\"psysml:5cdadcae-4d33-45cc-84a1-e26eca79ba4d\" xlink:show=\"new\" xlink:title=\"psysml:5cdadcae-4d33-45cc-84a1-e26eca79ba4d\" xlink:type=\"simple\"><rect fill=\"#FFFFFF\" height=\"45.9375\" id=\"E6\" style=\"stroke: #383838; stroke-width: 1.5;\" width=\"114\" x=\"274\" y=\"147\"/><text fill=\"#000000\" font-family=\"sans-serif\" font-size=\"12\" font-style=\"italic\" lengthAdjust=\"spacingAndGlyphs\" textLength=\"112\" x=\"275\" y=\"163.1387\">«connection  def»</text><text fill=\"#000000\" font-family=\"sans-serif\" font-size=\"12\" lengthAdjust=\"spacingAndGlyphs\" textLength=\"8\" x=\"327\" y=\"177.1074\">A</text><line style=\"stroke: #383838; stroke-width: 1.5;\" x1=\"275\" x2=\"387\" y1=\"184.9375\" y2=\"184.9375\"/></a><!--MD5=[2156ba9850f5573cc1fc38a6a4b2f02b]\n",
       "class E7--><a href=\"psysml:7fb982ae-cae7-41b0-848a-52bb93191ec3\" target=\"_top\" title=\"psysml:7fb982ae-cae7-41b0-848a-52bb93191ec3\" xlink:actuate=\"onRequest\" xlink:href=\"psysml:7fb982ae-cae7-41b0-848a-52bb93191ec3\" xlink:show=\"new\" xlink:title=\"psysml:7fb982ae-cae7-41b0-848a-52bb93191ec3\" xlink:type=\"simple\"><rect fill=\"#FFFFFF\" height=\"45.9375\" id=\"E7\" rx=\"10\" ry=\"10\" style=\"stroke: #383838; stroke-width: 1.5;\" width=\"42\" x=\"300\" y=\"253\"/><text fill=\"#000000\" font-family=\"sans-serif\" font-size=\"12\" font-style=\"italic\" lengthAdjust=\"spacingAndGlyphs\" textLength=\"40\" x=\"301\" y=\"269.1387\">«port»</text><text fill=\"#000000\" font-family=\"sans-serif\" font-size=\"12\" lengthAdjust=\"spacingAndGlyphs\" textLength=\"32\" x=\"303\" y=\"283.1074\">p1: P</text><line style=\"stroke: #383838; stroke-width: 1.5;\" x1=\"301\" x2=\"341\" y1=\"290.9375\" y2=\"290.9375\"/></a><!--MD5=[b9389687b975829384b498ac4b7476b2]\n",
       "class E8--><a href=\"psysml:5c21b9df-62cf-4ee8-9145-76efb13de7e4\" target=\"_top\" title=\"psysml:5c21b9df-62cf-4ee8-9145-76efb13de7e4\" xlink:actuate=\"onRequest\" xlink:href=\"psysml:5c21b9df-62cf-4ee8-9145-76efb13de7e4\" xlink:show=\"new\" xlink:title=\"psysml:5c21b9df-62cf-4ee8-9145-76efb13de7e4\" xlink:type=\"simple\"><rect fill=\"#FFFFFF\" height=\"45.9375\" id=\"E8\" rx=\"10\" ry=\"10\" style=\"stroke: #383838; stroke-width: 1.5;\" width=\"42\" x=\"377\" y=\"253\"/><text fill=\"#000000\" font-family=\"sans-serif\" font-size=\"12\" font-style=\"italic\" lengthAdjust=\"spacingAndGlyphs\" textLength=\"40\" x=\"378\" y=\"269.1387\">«port»</text><text fill=\"#000000\" font-family=\"sans-serif\" font-size=\"12\" lengthAdjust=\"spacingAndGlyphs\" textLength=\"16\" x=\"388\" y=\"283.1074\">p2</text><line style=\"stroke: #383838; stroke-width: 1.5;\" x1=\"378\" x2=\"418\" y1=\"290.9375\" y2=\"290.9375\"/></a><!--MD5=[fd4143e9d270a159db93a4ea2a975926]\n",
       "class E9--><a href=\"psysml:2bbab23f-cc40-4354-88cc-493e0b41ffd4\" target=\"_top\" title=\"psysml:2bbab23f-cc40-4354-88cc-493e0b41ffd4\" xlink:actuate=\"onRequest\" xlink:href=\"psysml:2bbab23f-cc40-4354-88cc-493e0b41ffd4\" xlink:show=\"new\" xlink:title=\"psysml:2bbab23f-cc40-4354-88cc-493e0b41ffd4\" xlink:type=\"simple\"><rect fill=\"#FFFFFF\" height=\"45.9375\" id=\"E9\" style=\"stroke: #383838; stroke-width: 1.5;\" width=\"100\" x=\"138\" y=\"147\"/><text fill=\"#000000\" font-family=\"sans-serif\" font-size=\"12\" font-style=\"italic\" lengthAdjust=\"spacingAndGlyphs\" textLength=\"98\" x=\"139\" y=\"163.1387\">«interface  def»</text><text fill=\"#000000\" font-family=\"sans-serif\" font-size=\"12\" lengthAdjust=\"spacingAndGlyphs\" textLength=\"3\" x=\"186.5\" y=\"177.1074\">I</text><line style=\"stroke: #383838; stroke-width: 1.5;\" x1=\"139\" x2=\"237\" y1=\"184.9375\" y2=\"184.9375\"/></a><!--MD5=[96f4274e9e20536e775497830990834d]\n",
       "class E10--><a href=\"psysml:e0785fbe-faad-409c-b39f-62ae49a7d6e0\" target=\"_top\" title=\"psysml:e0785fbe-faad-409c-b39f-62ae49a7d6e0\" xlink:actuate=\"onRequest\" xlink:href=\"psysml:e0785fbe-faad-409c-b39f-62ae49a7d6e0\" xlink:show=\"new\" xlink:title=\"psysml:e0785fbe-faad-409c-b39f-62ae49a7d6e0\" xlink:type=\"simple\"><rect fill=\"#FFFFFF\" height=\"45.9375\" id=\"E10\" rx=\"10\" ry=\"10\" style=\"stroke: #383838; stroke-width: 1.5;\" width=\"42\" x=\"146\" y=\"253\"/><text fill=\"#000000\" font-family=\"sans-serif\" font-size=\"12\" font-style=\"italic\" lengthAdjust=\"spacingAndGlyphs\" textLength=\"40\" x=\"147\" y=\"269.1387\">«port»</text><text fill=\"#000000\" font-family=\"sans-serif\" font-size=\"12\" lengthAdjust=\"spacingAndGlyphs\" textLength=\"32\" x=\"149\" y=\"283.1074\">p1: P</text><line style=\"stroke: #383838; stroke-width: 1.5;\" x1=\"147\" x2=\"187\" y1=\"290.9375\" y2=\"290.9375\"/></a><!--MD5=[1dd1bfd58a279cf63c5f349dbc8fc6a1]\n",
       "class E11--><a href=\"psysml:a18508b4-2f12-4bca-8dd1-291939c34d14\" target=\"_top\" title=\"psysml:a18508b4-2f12-4bca-8dd1-291939c34d14\" xlink:actuate=\"onRequest\" xlink:href=\"psysml:a18508b4-2f12-4bca-8dd1-291939c34d14\" xlink:show=\"new\" xlink:title=\"psysml:a18508b4-2f12-4bca-8dd1-291939c34d14\" xlink:type=\"simple\"><rect fill=\"#FFFFFF\" height=\"45.9375\" id=\"E11\" rx=\"10\" ry=\"10\" style=\"stroke: #383838; stroke-width: 1.5;\" width=\"42\" x=\"223\" y=\"253\"/><text fill=\"#000000\" font-family=\"sans-serif\" font-size=\"12\" font-style=\"italic\" lengthAdjust=\"spacingAndGlyphs\" textLength=\"40\" x=\"224\" y=\"269.1387\">«port»</text><text fill=\"#000000\" font-family=\"sans-serif\" font-size=\"12\" lengthAdjust=\"spacingAndGlyphs\" textLength=\"16\" x=\"234\" y=\"283.1074\">p2</text><line style=\"stroke: #383838; stroke-width: 1.5;\" x1=\"224\" x2=\"264\" y1=\"290.9375\" y2=\"290.9375\"/></a><!--MD5=[49a0ec8f00dab7302a31f22d0f0fe584]\n",
       "class E12--><a href=\"psysml:cd0027e5-9ed9-4216-bffa-1e31fa367fb3\" target=\"_top\" title=\"psysml:cd0027e5-9ed9-4216-bffa-1e31fa367fb3\" xlink:actuate=\"onRequest\" xlink:href=\"psysml:cd0027e5-9ed9-4216-bffa-1e31fa367fb3\" xlink:show=\"new\" xlink:title=\"psysml:cd0027e5-9ed9-4216-bffa-1e31fa367fb3\" xlink:type=\"simple\"><rect fill=\"#FFFFFF\" height=\"45.9375\" id=\"E12\" style=\"stroke: #383838; stroke-width: 1.5;\" width=\"70\" x=\"44\" y=\"41\"/><text fill=\"#000000\" font-family=\"sans-serif\" font-size=\"12\" font-style=\"italic\" lengthAdjust=\"spacingAndGlyphs\" textLength=\"68\" x=\"45\" y=\"57.1387\">«part  def»</text><text fill=\"#000000\" font-family=\"sans-serif\" font-size=\"12\" lengthAdjust=\"spacingAndGlyphs\" textLength=\"16\" x=\"71\" y=\"71.1074\">B1</text><line style=\"stroke: #383838; stroke-width: 1.5;\" x1=\"45\" x2=\"113\" y1=\"78.9375\" y2=\"78.9375\"/></a><!--MD5=[ee3c913d1a06f366521f9ef512b67efe]\n",
       "class E13--><a href=\"psysml:3cf8fc76-e05d-49bd-b29f-3b88a47b72de\" target=\"_top\" title=\"psysml:3cf8fc76-e05d-49bd-b29f-3b88a47b72de\" xlink:actuate=\"onRequest\" xlink:href=\"psysml:3cf8fc76-e05d-49bd-b29f-3b88a47b72de\" xlink:show=\"new\" xlink:title=\"psysml:3cf8fc76-e05d-49bd-b29f-3b88a47b72de\" xlink:type=\"simple\"><rect fill=\"#FFFFFF\" height=\"45.9375\" id=\"E13\" rx=\"10\" ry=\"10\" style=\"stroke: #383838; stroke-width: 1.5;\" width=\"42\" x=\"58\" y=\"147\"/><text fill=\"#000000\" font-family=\"sans-serif\" font-size=\"12\" font-style=\"italic\" lengthAdjust=\"spacingAndGlyphs\" textLength=\"40\" x=\"59\" y=\"163.1387\">«part»</text><text fill=\"#000000\" font-family=\"sans-serif\" font-size=\"12\" lengthAdjust=\"spacingAndGlyphs\" textLength=\"8\" x=\"73\" y=\"177.1074\">p</text><line style=\"stroke: #383838; stroke-width: 1.5;\" x1=\"59\" x2=\"99\" y1=\"184.9375\" y2=\"184.9375\"/></a><!--MD5=[bee11217b2f71d958a27249dc326068c]\n",
       "class E14--><a href=\"psysml:6cf362ef-4bb1-44a5-8272-767638a97c43\" target=\"_top\" title=\"psysml:6cf362ef-4bb1-44a5-8272-767638a97c43\" xlink:actuate=\"onRequest\" xlink:href=\"psysml:6cf362ef-4bb1-44a5-8272-767638a97c43\" xlink:show=\"new\" xlink:title=\"psysml:6cf362ef-4bb1-44a5-8272-767638a97c43\" xlink:type=\"simple\"><rect fill=\"#FFFFFF\" height=\"45.9375\" id=\"E14\" rx=\"10\" ry=\"10\" style=\"stroke: #383838; stroke-width: 1.5;\" width=\"42\" x=\"69\" y=\"253\"/><text fill=\"#000000\" font-family=\"sans-serif\" font-size=\"12\" font-style=\"italic\" lengthAdjust=\"spacingAndGlyphs\" textLength=\"40\" x=\"70\" y=\"269.1387\">«port»</text><text fill=\"#000000\" font-family=\"sans-serif\" font-size=\"12\" lengthAdjust=\"spacingAndGlyphs\" textLength=\"32\" x=\"72\" y=\"283.1074\">p1: P</text><line style=\"stroke: #383838; stroke-width: 1.5;\" x1=\"70\" x2=\"110\" y1=\"290.9375\" y2=\"290.9375\"/></a><!--MD5=[0c48fb7552dae8cbbef69381101a84c8]\n",
       "class E15--><a href=\"psysml:33e7cbb5-c462-4d34-9030-b3438d816b29\" target=\"_top\" title=\"psysml:33e7cbb5-c462-4d34-9030-b3438d816b29\" xlink:actuate=\"onRequest\" xlink:href=\"psysml:33e7cbb5-c462-4d34-9030-b3438d816b29\" xlink:show=\"new\" xlink:title=\"psysml:33e7cbb5-c462-4d34-9030-b3438d816b29\" xlink:type=\"simple\"><rect fill=\"#FFFFFF\" height=\"45.9375\" id=\"E15\" rx=\"10\" ry=\"10\" style=\"stroke: #383838; stroke-width: 1.5;\" width=\"42\" x=\"69\" y=\"359\"/><text fill=\"#000000\" font-family=\"sans-serif\" font-size=\"12\" font-style=\"italic\" lengthAdjust=\"spacingAndGlyphs\" textLength=\"40\" x=\"70\" y=\"375.1387\">«port»</text><text fill=\"#000000\" font-family=\"sans-serif\" font-size=\"12\" lengthAdjust=\"spacingAndGlyphs\" textLength=\"16\" x=\"80\" y=\"389.1074\">p2</text><line style=\"stroke: #383838; stroke-width: 1.5;\" x1=\"70\" x2=\"110\" y1=\"396.9375\" y2=\"396.9375\"/></a><!--MD5=[4672eba38e49728da53d11aeb285b987]\n",
       "reverse link E3 to E4--><a href=\"psysml:e09aa0cf-99c0-4ed5-833c-e6cdd9353c0b\" target=\"_top\" title=\"psysml:e09aa0cf-99c0-4ed5-833c-e6cdd9353c0b\" xlink:actuate=\"onRequest\" xlink:href=\"psysml:e09aa0cf-99c0-4ed5-833c-e6cdd9353c0b\" xlink:show=\"new\" xlink:title=\"psysml:e09aa0cf-99c0-4ed5-833c-e6cdd9353c0b\" xlink:type=\"simple\"><path d=\"M495.58,205.96 C490.95,221.51 485.63,239.33 481.56,252.98 \" fill=\"none\" id=\"E3&lt;-E4\" style=\"stroke: #383838; stroke-width: 1.0;\"/><polygon fill=\"#FFFFFF\" points=\"499.43,193.06,493.8824,197.6669,496.0012,204.5597,501.5488,199.9528,499.43,193.06\" style=\"stroke: #383838; stroke-width: 1.0;\"/><text fill=\"#000000\" font-family=\"sans-serif\" font-size=\"13\" lengthAdjust=\"spacingAndGlyphs\" textLength=\"8\" x=\"474.248\" y=\"241.8709\">1</text></a><!--MD5=[185131fc0dcab0a4505a2ebe144e961b]\n",
       "link E4 to E2--><a href=\"psysml:d96439d0-54ae-42c8-b560-5f0ede470e61\" target=\"_top\" title=\"psysml:d96439d0-54ae-42c8-b560-5f0ede470e61\" xlink:actuate=\"onRequest\" xlink:href=\"psysml:d96439d0-54ae-42c8-b560-5f0ede470e61\" xlink:show=\"new\" xlink:title=\"psysml:d96439d0-54ae-42c8-b560-5f0ede470e61\" xlink:type=\"simple\"><path d=\"M453.78,289.29 C445.07,294.33 437,299 437,299 C437,299 359.69,333.08 304.76,357.3 \" fill=\"none\" id=\"E4-&gt;E2\" style=\"stroke: #383838; stroke-width: 1.0;\"/><polygon fill=\"#FFFFFF\" points=\"286.42,365.38,300.9793,351.3078,306.629,364.1172,286.42,365.38\" style=\"stroke: #383838; stroke-width: 1.0;\"/><ellipse cx=\"307.0017\" cy=\"350.8375\" fill=\"#383838\" rx=\"2\" ry=\"2\" style=\"stroke: #383838; stroke-width: 1.0;\"/><ellipse cx=\"311.0372\" cy=\"359.987\" fill=\"#383838\" rx=\"2\" ry=\"2\" style=\"stroke: #383838; stroke-width: 1.0;\"/></a><!--MD5=[191cde3d490a3f6d7bb551fe3ddca469]\n",
       "reverse link E3 to E5--><a href=\"psysml:880a21a1-46d7-4f3d-9543-241b40e3ab4a\" target=\"_top\" title=\"psysml:880a21a1-46d7-4f3d-9543-241b40e3ab4a\" xlink:actuate=\"onRequest\" xlink:href=\"psysml:880a21a1-46d7-4f3d-9543-241b40e3ab4a\" xlink:show=\"new\" xlink:title=\"psysml:880a21a1-46d7-4f3d-9543-241b40e3ab4a\" xlink:type=\"simple\"><path d=\"M521.05,205.03 C528.02,220.78 536.1,239.06 542.26,252.98 \" fill=\"none\" id=\"E3&lt;-E5\" style=\"stroke: #383838; stroke-width: 1.0;\"/><polygon fill=\"#FFFFFF\" points=\"515.76,193.06,514.5329,200.1659,520.6202,204.0317,521.8473,196.9258,515.76,193.06\" style=\"stroke: #383838; stroke-width: 1.0;\"/><text fill=\"#000000\" font-family=\"sans-serif\" font-size=\"13\" lengthAdjust=\"spacingAndGlyphs\" textLength=\"8\" x=\"530.5674\" y=\"241.8709\">1</text></a><!--MD5=[3f50a3473f1dfb74d3f76443e03635af]\n",
       "reverse link E6 to E7--><a href=\"psysml:98390341-db8e-40b6-aced-fec2311e0a9d\" target=\"_top\" title=\"psysml:98390341-db8e-40b6-aced-fec2311e0a9d\" xlink:actuate=\"onRequest\" xlink:href=\"psysml:98390341-db8e-40b6-aced-fec2311e0a9d\" xlink:show=\"new\" xlink:title=\"psysml:98390341-db8e-40b6-aced-fec2311e0a9d\" xlink:type=\"simple\"><path d=\"M327.59,206.44 C326.11,221.87 324.42,239.47 323.12,252.98 \" fill=\"none\" id=\"E6&lt;-E7\" style=\"stroke: #383838; stroke-width: 1.0;\"/><polygon fill=\"#FFFFFF\" points=\"328.88,193.06,324.3242,198.6497,327.7317,205.0049,332.2875,199.4152,328.88,193.06\" style=\"stroke: #383838; stroke-width: 1.0;\"/><text fill=\"#000000\" font-family=\"sans-serif\" font-size=\"13\" lengthAdjust=\"spacingAndGlyphs\" textLength=\"8\" x=\"314.6148\" y=\"241.8709\">1</text></a><!--MD5=[583832df87f4419a098336a29a52fa00]\n",
       "link E7 to E2--><a href=\"psysml:6f9217eb-859f-4957-bc31-6c1306f83367\" target=\"_top\" title=\"psysml:6f9217eb-859f-4957-bc31-6c1306f83367\" xlink:actuate=\"onRequest\" xlink:href=\"psysml:6f9217eb-859f-4957-bc31-6c1306f83367\" xlink:show=\"new\" xlink:title=\"psysml:6f9217eb-859f-4957-bc31-6c1306f83367\" xlink:type=\"simple\"><path d=\"M306.15,299.06 C297.71,311.6 286.89,327.68 277.07,342.26 \" fill=\"none\" id=\"E7-&gt;E2\" style=\"stroke: #383838; stroke-width: 1.0;\"/><polygon fill=\"#FFFFFF\" points=\"265.82,358.98,270.609,339.306,282.2284,347.1156,265.82,358.98\" style=\"stroke: #383838; stroke-width: 1.0;\"/><ellipse cx=\"275.4486\" cy=\"335.6909\" fill=\"#383838\" rx=\"2\" ry=\"2\" style=\"stroke: #383838; stroke-width: 1.0;\"/><ellipse cx=\"283.7481\" cy=\"341.2692\" fill=\"#383838\" rx=\"2\" ry=\"2\" style=\"stroke: #383838; stroke-width: 1.0;\"/></a><!--MD5=[f4cf0736d43fd73c4ef68817c49d37d5]\n",
       "reverse link E6 to E8--><a href=\"psysml:15a7c7be-761e-4e1c-a126-babbedfba5ca\" target=\"_top\" title=\"psysml:15a7c7be-761e-4e1c-a126-babbedfba5ca\" xlink:actuate=\"onRequest\" xlink:href=\"psysml:15a7c7be-761e-4e1c-a126-babbedfba5ca\" xlink:show=\"new\" xlink:title=\"psysml:15a7c7be-761e-4e1c-a126-babbedfba5ca\" xlink:type=\"simple\"><path d=\"M352.32,204.09 C362.61,220.06 374.67,238.78 383.81,252.98 \" fill=\"none\" id=\"E6&lt;-E8\" style=\"stroke: #383838; stroke-width: 1.0;\"/><polygon fill=\"#FFFFFF\" points=\"345.21,193.06,345.0979,200.2702,351.7104,203.1469,351.8225,195.9366,345.21,193.06\" style=\"stroke: #383838; stroke-width: 1.0;\"/><text fill=\"#000000\" font-family=\"sans-serif\" font-size=\"13\" lengthAdjust=\"spacingAndGlyphs\" textLength=\"8\" x=\"370.9214\" y=\"241.8709\">1</text></a><!--MD5=[23ac544a70576c3e717098101004234c]\n",
       "reverse link E9 to E10--><a href=\"psysml:a15de342-1742-4b99-9b86-ed8c6fb30ab8\" target=\"_top\" title=\"psysml:a15de342-1742-4b99-9b86-ed8c6fb30ab8\" xlink:actuate=\"onRequest\" xlink:href=\"psysml:a15de342-1742-4b99-9b86-ed8c6fb30ab8\" xlink:show=\"new\" xlink:title=\"psysml:a15de342-1742-4b99-9b86-ed8c6fb30ab8\" xlink:type=\"simple\"><path d=\"M180.94,205.96 C177.8,221.51 174.2,239.33 171.45,252.98 \" fill=\"none\" id=\"E9&lt;-E10\" style=\"stroke: #383838; stroke-width: 1.0;\"/><polygon fill=\"#FFFFFF\" points=\"183.55,193.06,178.4422,198.1502,181.1763,204.8229,186.2841,199.7327,183.55,193.06\" style=\"stroke: #383838; stroke-width: 1.0;\"/><text fill=\"#000000\" font-family=\"sans-serif\" font-size=\"13\" lengthAdjust=\"spacingAndGlyphs\" textLength=\"8\" x=\"163.5709\" y=\"241.8709\">1</text></a><!--MD5=[0f36bececdf0dff6e600d6f64214b0f1]\n",
       "link E10 to E2--><a href=\"psysml:81b1dfc1-849b-47a4-a859-9ae7a728ef15\" target=\"_top\" title=\"psysml:81b1dfc1-849b-47a4-a859-9ae7a728ef15\" xlink:actuate=\"onRequest\" xlink:href=\"psysml:81b1dfc1-849b-47a4-a859-9ae7a728ef15\" xlink:show=\"new\" xlink:title=\"psysml:81b1dfc1-849b-47a4-a859-9ae7a728ef15\" xlink:type=\"simple\"><path d=\"M184.81,299.06 C195.17,311.88 208.51,328.39 220.49,343.22 \" fill=\"none\" id=\"E10-&gt;E2\" style=\"stroke: #383838; stroke-width: 1.0;\"/><polygon fill=\"#FFFFFF\" points=\"233.21,358.98,215.8236,348.6016,226.7127,339.8023,233.21,358.98\" style=\"stroke: #383838; stroke-width: 1.0;\"/><ellipse cx=\"213.7966\" cy=\"342.9111\" fill=\"#383838\" rx=\"2\" ry=\"2\" style=\"stroke: #383838; stroke-width: 1.0;\"/><ellipse cx=\"221.5745\" cy=\"336.6259\" fill=\"#383838\" rx=\"2\" ry=\"2\" style=\"stroke: #383838; stroke-width: 1.0;\"/></a><!--MD5=[1fc04a95fd77ad5ce46c1a3027516051]\n",
       "reverse link E9 to E11--><a href=\"psysml:fe2242fc-88cc-4430-bc2f-98e79ba2cc70\" target=\"_top\" title=\"psysml:fe2242fc-88cc-4430-bc2f-98e79ba2cc70\" xlink:actuate=\"onRequest\" xlink:href=\"psysml:fe2242fc-88cc-4430-bc2f-98e79ba2cc70\" xlink:show=\"new\" xlink:title=\"psysml:fe2242fc-88cc-4430-bc2f-98e79ba2cc70\" xlink:type=\"simple\"><path d=\"M206.07,204.56 C214.61,220.42 224.57,238.92 232.14,252.98 \" fill=\"none\" id=\"E9&lt;-E11\" style=\"stroke: #383838; stroke-width: 1.0;\"/><polygon fill=\"#FFFFFF\" points=\"199.88,193.06,199.2038,200.2393,205.5708,203.6248,206.247,196.4455,199.88,193.06\" style=\"stroke: #383838; stroke-width: 1.0;\"/><text fill=\"#000000\" font-family=\"sans-serif\" font-size=\"13\" lengthAdjust=\"spacingAndGlyphs\" textLength=\"8\" x=\"219.8776\" y=\"241.8709\">1</text></a><!--MD5=[062ed86c389d1a88f61c6380d0491e17]\n",
       "reverse link E12 to E13--><a href=\"psysml:0c56cab0-046e-4827-a921-af226384c943\" target=\"_top\" title=\"psysml:0c56cab0-046e-4827-a921-af226384c943\" xlink:actuate=\"onRequest\" xlink:href=\"psysml:0c56cab0-046e-4827-a921-af226384c943\" xlink:show=\"new\" xlink:title=\"psysml:0c56cab0-046e-4827-a921-af226384c943\" xlink:type=\"simple\"><path d=\"M79,100.44 C79,115.87 79,133.47 79,146.98 \" fill=\"none\" id=\"E12&lt;-E13\" style=\"stroke: #383838; stroke-width: 1.0;\"/><polygon fill=\"#FFFFFF\" points=\"79,87.06,75,93.06,79,99.06,83,93.06,79,87.06\" style=\"stroke: #383838; stroke-width: 1.0;\"/><text fill=\"#000000\" font-family=\"sans-serif\" font-size=\"13\" lengthAdjust=\"spacingAndGlyphs\" textLength=\"8\" x=\"69.925\" y=\"135.8709\">1</text></a><!--MD5=[01db00f33b28669d6d9febea71002831]\n",
       "reverse link E13 to E14--><a href=\"psysml:12334834-5f3e-4b20-9f0b-aad671391bfa\" target=\"_top\" title=\"psysml:12334834-5f3e-4b20-9f0b-aad671391bfa\" xlink:actuate=\"onRequest\" xlink:href=\"psysml:12334834-5f3e-4b20-9f0b-aad671391bfa\" xlink:show=\"new\" xlink:title=\"psysml:12334834-5f3e-4b20-9f0b-aad671391bfa\" xlink:type=\"simple\"><path d=\"M82.75,206.44 C84.38,221.87 86.24,239.47 87.67,252.98 \" fill=\"none\" id=\"E13&lt;-E14\" style=\"stroke: #383838; stroke-width: 1.0;\"/><polygon fill=\"#FFFFFF\" points=\"81.33,193.06,77.9783,199.4448,82.5828,204.9944,85.9345,198.6096,81.33,193.06\" style=\"stroke: #383838; stroke-width: 1.0;\"/><text fill=\"#000000\" font-family=\"sans-serif\" font-size=\"13\" lengthAdjust=\"spacingAndGlyphs\" textLength=\"8\" x=\"77.9688\" y=\"241.8709\">1</text></a><!--MD5=[e5566ac99d7714697a7fbc17f6b550fe]\n",
       "link E14 to E2--><a href=\"psysml:f15866fc-26c5-4fac-ba02-f8f796eed5e8\" target=\"_top\" title=\"psysml:f15866fc-26c5-4fac-ba02-f8f796eed5e8\" xlink:actuate=\"onRequest\" xlink:href=\"psysml:f15866fc-26c5-4fac-ba02-f8f796eed5e8\" xlink:show=\"new\" xlink:title=\"psysml:f15866fc-26c5-4fac-ba02-f8f796eed5e8\" xlink:type=\"simple\"><path d=\"M111.05,290.6 C133.49,305.09 169.87,328.59 199.91,348 \" fill=\"none\" id=\"E14-&gt;E2\" style=\"stroke: #383838; stroke-width: 1.0;\"/><polygon fill=\"#FFFFFF\" points=\"216.71,358.85,196.9529,354.4164,204.5518,342.6581,216.71,358.85\" style=\"stroke: #383838; stroke-width: 1.0;\"/><ellipse cx=\"193.2512\" cy=\"349.6428\" fill=\"#383838\" rx=\"2\" ry=\"2\" style=\"stroke: #383838; stroke-width: 1.0;\"/><ellipse cx=\"198.6789\" cy=\"341.244\" fill=\"#383838\" rx=\"2\" ry=\"2\" style=\"stroke: #383838; stroke-width: 1.0;\"/></a><!--MD5=[e9a5e828c71fd2209a11a152f562d491]\n",
       "reverse link E13 to E15--><a href=\"psysml:ce878baa-f80f-4009-adda-6088e19c872e\" target=\"_top\" title=\"psysml:ce878baa-f80f-4009-adda-6088e19c872e\" xlink:actuate=\"onRequest\" xlink:href=\"psysml:ce878baa-f80f-4009-adda-6088e19c872e\" xlink:show=\"new\" xlink:title=\"psysml:ce878baa-f80f-4009-adda-6088e19c872e\" xlink:type=\"simple\"><path d=\"M67.46,206.04 C60.13,228.32 52,253 52,253 C52,253 52,299 52,299 C52,299 68.37,334.31 79.62,358.59 \" fill=\"none\" id=\"E13&lt;-E15\" style=\"stroke: #383838; stroke-width: 1.0;\"/><polygon fill=\"#FFFFFF\" points=\"71.62,193.41,65.9433,197.8569,67.8648,204.8073,73.5415,200.3604,71.62,193.41\" style=\"stroke: #383838; stroke-width: 1.0;\"/><text fill=\"#000000\" font-family=\"sans-serif\" font-size=\"13\" lengthAdjust=\"spacingAndGlyphs\" textLength=\"8\" x=\"67.9351\" y=\"347.7612\">1</text></a><!--MD5=[3afbdc645381407e1bc99677323a2513]\n",
       "link E14 to E15--><a href=\"psysml:1f31a0eb-24e7-4abd-8eab-15c525015988\" target=\"_top\" title=\"psysml:1f31a0eb-24e7-4abd-8eab-15c525015988\" xlink:actuate=\"onRequest\" xlink:href=\"psysml:1f31a0eb-24e7-4abd-8eab-15c525015988\" xlink:show=\"new\" xlink:title=\"psysml:1f31a0eb-24e7-4abd-8eab-15c525015988\" xlink:type=\"simple\"><path d=\"M79.35,299.06 C76.55,316.7 76.55,341.34 79.36,358.98 \" fill=\"none\" id=\"E14-E15\" style=\"stroke: #383838; stroke-width: 3.0;\"/></a><!--MD5=[3afbdc645381407e1bc99677323a2513]\n",
       "link E14 to E15--><a href=\"psysml:c2fd36d5-55a7-4367-ae55-c3f656adabca\" target=\"_top\" title=\"psysml:c2fd36d5-55a7-4367-ae55-c3f656adabca\" xlink:actuate=\"onRequest\" xlink:href=\"psysml:c2fd36d5-55a7-4367-ae55-c3f656adabca\" xlink:show=\"new\" xlink:title=\"psysml:c2fd36d5-55a7-4367-ae55-c3f656adabca\" xlink:type=\"simple\"><path d=\"M101.27,299.06 C104.24,316.7 104.24,341.34 101.27,358.98 \" fill=\"none\" id=\"E14-E15-1\" style=\"stroke: #383838; stroke-width: 3.0;\"/></a><!--MD5=[bb70f261b76a6cadf9c2f92ded21246d]\n",
       "@startuml\r\n",
       "skinparam linetype polyline\r\n",
       "skinparam monochrome true\r\n",
       "skinparam classbackgroundcolor white\r\n",
       "skinparam shadowing false\r\n",
       "skinparam wrapWidth 300\r\n",
       "hide circle\r\n",
       "\r\n",
       "package \"ConjugationTest\" as E1  [[psysml:4e179b45-ef84-478c-a2da-b16af7c43fe7 ]]  {\r\n",
       "comp def \"P\" as E2  <<(T,blue) port  def>> [[psysml:859d5a2d-b524-488b-9af4-e0f987adcacf ]] {\r\n",
       "}\r\n",
       "comp def \"B\" as E3  <<(T,blue) part  def>> [[psysml:615e73ac-8544-4e42-b424-8a4747867d0e ]] {\r\n",
       "}\r\n",
       "comp usage \"p1: P \" as E4  <<(T,blue) port>> [[psysml:37d2c32c-e4e6-4c0b-af75-96cd6556dd4d ]] {\r\n",
       "}\r\n",
       "comp usage \"p2 \" as E5  <<(T,blue) port>> [[psysml:a7d82e4a-e12d-4520-9ae6-c89754eb7506 ]] {\r\n",
       "}\r\n",
       "comp def \"A\" as E6  <<(T,blue) connection  def>> [[psysml:5cdadcae-4d33-45cc-84a1-e26eca79ba4d ]] {\r\n",
       "}\r\n",
       "comp usage \"p1: P \" as E7  <<(T,blue) port>> [[psysml:7fb982ae-cae7-41b0-848a-52bb93191ec3 ]] {\r\n",
       "}\r\n",
       "comp usage \"p2 \" as E8  <<(T,blue) port>> [[psysml:5c21b9df-62cf-4ee8-9145-76efb13de7e4 ]] {\r\n",
       "}\r\n",
       "comp def \"I\" as E9  <<(T,blue) interface  def>> [[psysml:2bbab23f-cc40-4354-88cc-493e0b41ffd4 ]] {\r\n",
       "}\r\n",
       "comp usage \"p1: P \" as E10  <<(T,blue) port>> [[psysml:e0785fbe-faad-409c-b39f-62ae49a7d6e0 ]] {\r\n",
       "}\r\n",
       "comp usage \"p2 \" as E11  <<(T,blue) port>> [[psysml:a18508b4-2f12-4bca-8dd1-291939c34d14 ]] {\r\n",
       "}\r\n",
       "comp def \"B1\" as E12  <<(T,blue) part  def>> [[psysml:cd0027e5-9ed9-4216-bffa-1e31fa367fb3 ]] {\r\n",
       "}\r\n",
       "comp usage \"p \" as E13  <<(T,blue) part>> [[psysml:3cf8fc76-e05d-49bd-b29f-3b88a47b72de ]] {\r\n",
       "}\r\n",
       "comp usage \"p1: P \" as E14  <<(T,blue) port>> [[psysml:6cf362ef-4bb1-44a5-8272-767638a97c43 ]] {\r\n",
       "}\r\n",
       "comp usage \"p2 \" as E15  <<(T,blue) port>> [[psysml:33e7cbb5-c462-4d34-9030-b3438d816b29 ]] {\r\n",
       "}\r\n",
       "}\r\n",
       "E3 o- - \"1\"E4 [[psysml:e09aa0cf-99c0-4ed5-833c-e6cdd9353c0b ]] \r\n",
       "E4 - -:|> E2 [[psysml:d96439d0-54ae-42c8-b560-5f0ede470e61 ]] \r\n",
       "E3 o- - \"1\"E5 [[psysml:880a21a1-46d7-4f3d-9543-241b40e3ab4a ]] \r\n",
       "E6 o- - \"1\"E7 [[psysml:98390341-db8e-40b6-aced-fec2311e0a9d ]] \r\n",
       "E7 - -:|> E2 [[psysml:6f9217eb-859f-4957-bc31-6c1306f83367 ]] \r\n",
       "E6 o- - \"1\"E8 [[psysml:15a7c7be-761e-4e1c-a126-babbedfba5ca ]] \r\n",
       "E9 o- - \"1\"E10 [[psysml:a15de342-1742-4b99-9b86-ed8c6fb30ab8 ]] \r\n",
       "E10 - -:|> E2 [[psysml:81b1dfc1-849b-47a4-a859-9ae7a728ef15 ]] \r\n",
       "E9 o- - \"1\"E11 [[psysml:fe2242fc-88cc-4430-bc2f-98e79ba2cc70 ]] \r\n",
       "E12 o- - \"1\"E13 [[psysml:0c56cab0-046e-4827-a921-af226384c943 ]] \r\n",
       "E13 o- - \"1\"E14 [[psysml:12334834-5f3e-4b20-9f0b-aad671391bfa ]] \r\n",
       "E14 - -:|> E2 [[psysml:f15866fc-26c5-4fac-ba02-f8f796eed5e8 ]] \r\n",
       "E13 o- - \"1\"E15 [[psysml:ce878baa-f80f-4009-adda-6088e19c872e ]] \r\n",
       "E14 -[thickness=3]- E15 [[psysml:1f31a0eb-24e7-4abd-8eab-15c525015988 ]] \r\n",
       "E14 -[thickness=3]- E15 [[psysml:c2fd36d5-55a7-4367-ae55-c3f656adabca ]] \r\n",
       "@enduml\r\n",
       "\n",
       "PlantUML version 1.2020.13(Sat Jun 13 12:26:38 UTC 2020)\n",
       "(EPL source distribution)\n",
       "Java Runtime: OpenJDK Runtime Environment\n",
       "JVM: OpenJDK 64-Bit Server VM\n",
       "Default Encoding: UTF-8\n",
       "Language: en\n",
       "Country: null\n",
       "--></g></svg>"
      ]
     },
     "execution_count": 15,
     "metadata": {},
     "output_type": "execute_result"
    }
   ],
   "source": [
    "%viz --style=\"POLYLINE\" --view=\"MIXED\" \"ConjugationTest\""
   ]
  },
  {
   "cell_type": "code",
   "execution_count": 16,
   "id": "6a1e5182",
   "metadata": {
    "execution": {
     "iopub.execute_input": "2022-08-19T08:18:12.714445Z",
     "iopub.status.busy": "2022-08-19T08:18:12.713728Z",
     "iopub.status.idle": "2022-08-19T08:18:12.775322Z",
     "shell.execute_reply": "2022-08-19T08:18:12.774885Z"
    }
   },
   "outputs": [
    {
     "data": {
      "image/svg+xml": [
       "<?xml version=\"1.0\" encoding=\"UTF-8\" standalone=\"no\"?><svg xmlns=\"http://www.w3.org/2000/svg\" xmlns:xlink=\"http://www.w3.org/1999/xlink\" contentScriptType=\"application/ecmascript\" contentStyleType=\"text/css\" height=\"638px\" preserveAspectRatio=\"none\" style=\"width:546px;height:638px;\" version=\"1.1\" viewBox=\"0 0 546 638\" width=\"546px\" zoomAndPan=\"magnify\"><defs/><g><!--MD5=[fbc87193dbaf4d95561dea2c320d4a47]\n",
       "cluster E1--><a href=\"psysml:4e179b45-ef84-478c-a2da-b16af7c43fe7\" target=\"_top\" title=\"psysml:4e179b45-ef84-478c-a2da-b16af7c43fe7\" xlink:actuate=\"onRequest\" xlink:href=\"psysml:4e179b45-ef84-478c-a2da-b16af7c43fe7\" xlink:show=\"new\" xlink:title=\"psysml:4e179b45-ef84-478c-a2da-b16af7c43fe7\" xlink:type=\"simple\"><polygon fill=\"#FFFFFF\" points=\"16,6,136,6,143,28.2969,524,28.2969,524,626,16,626,16,6\" style=\"stroke: #000000; stroke-width: 1.5;\"/><line style=\"stroke: #000000; stroke-width: 1.5;\" x1=\"16\" x2=\"143\" y1=\"28.2969\" y2=\"28.2969\"/><text fill=\"#000000\" font-family=\"sans-serif\" font-size=\"14\" font-weight=\"bold\" lengthAdjust=\"spacingAndGlyphs\" textLength=\"114\" x=\"20\" y=\"20.9951\">ConjugationTest</text></a><!--MD5=[b4997ac47864f28c2f74865a473b2911]\n",
       "class E2--><a href=\"psysml:859d5a2d-b524-488b-9af4-e0f987adcacf\" target=\"_top\" title=\"psysml:859d5a2d-b524-488b-9af4-e0f987adcacf\" xlink:actuate=\"onRequest\" xlink:href=\"psysml:859d5a2d-b524-488b-9af4-e0f987adcacf\" xlink:show=\"new\" xlink:title=\"psysml:859d5a2d-b524-488b-9af4-e0f987adcacf\" xlink:type=\"simple\"><rect fill=\"#FFFFFF\" height=\"45.9375\" id=\"E2\" style=\"stroke: #383838; stroke-width: 1.5;\" width=\"70\" x=\"438\" y=\"365\"/><text fill=\"#000000\" font-family=\"sans-serif\" font-size=\"12\" font-style=\"italic\" lengthAdjust=\"spacingAndGlyphs\" textLength=\"68\" x=\"439\" y=\"381.1387\">«port  def»</text><text fill=\"#000000\" font-family=\"sans-serif\" font-size=\"12\" lengthAdjust=\"spacingAndGlyphs\" textLength=\"8\" x=\"469\" y=\"395.1074\">P</text><line style=\"stroke: #383838; stroke-width: 1.5;\" x1=\"439\" x2=\"507\" y1=\"402.9375\" y2=\"402.9375\"/></a><!--MD5=[09b614a08d8cba4a07c9adeb5e0fee81]\n",
       "class E3--><a href=\"psysml:615e73ac-8544-4e42-b424-8a4747867d0e\" target=\"_top\" title=\"psysml:615e73ac-8544-4e42-b424-8a4747867d0e\" xlink:actuate=\"onRequest\" xlink:href=\"psysml:615e73ac-8544-4e42-b424-8a4747867d0e\" xlink:show=\"new\" xlink:title=\"psysml:615e73ac-8544-4e42-b424-8a4747867d0e\" xlink:type=\"simple\"><rect fill=\"#FFFFFF\" height=\"45.9375\" id=\"E3\" style=\"stroke: #383838; stroke-width: 1.5;\" width=\"70\" x=\"184\" y=\"82\"/><text fill=\"#000000\" font-family=\"sans-serif\" font-size=\"12\" font-style=\"italic\" lengthAdjust=\"spacingAndGlyphs\" textLength=\"68\" x=\"185\" y=\"98.1387\">«part  def»</text><text fill=\"#000000\" font-family=\"sans-serif\" font-size=\"12\" lengthAdjust=\"spacingAndGlyphs\" textLength=\"8\" x=\"215\" y=\"112.1074\">B</text><line style=\"stroke: #383838; stroke-width: 1.5;\" x1=\"185\" x2=\"253\" y1=\"119.9375\" y2=\"119.9375\"/></a><!--MD5=[ebbe1d658d1005bcc118a6aa81145e00]\n",
       "class E4--><a href=\"psysml:37d2c32c-e4e6-4c0b-af75-96cd6556dd4d\" target=\"_top\" title=\"psysml:37d2c32c-e4e6-4c0b-af75-96cd6556dd4d\" xlink:actuate=\"onRequest\" xlink:href=\"psysml:37d2c32c-e4e6-4c0b-af75-96cd6556dd4d\" xlink:show=\"new\" xlink:title=\"psysml:37d2c32c-e4e6-4c0b-af75-96cd6556dd4d\" xlink:type=\"simple\"><rect fill=\"#FFFFFF\" height=\"45.9375\" id=\"E4\" rx=\"10\" ry=\"10\" style=\"stroke: #383838; stroke-width: 1.5;\" width=\"42\" x=\"336\" y=\"122\"/><text fill=\"#000000\" font-family=\"sans-serif\" font-size=\"12\" font-style=\"italic\" lengthAdjust=\"spacingAndGlyphs\" textLength=\"40\" x=\"337\" y=\"138.1387\">«port»</text><text fill=\"#000000\" font-family=\"sans-serif\" font-size=\"12\" lengthAdjust=\"spacingAndGlyphs\" textLength=\"32\" x=\"339\" y=\"152.1074\">p1: P</text><line style=\"stroke: #383838; stroke-width: 1.5;\" x1=\"337\" x2=\"377\" y1=\"159.9375\" y2=\"159.9375\"/></a><!--MD5=[270fce915f116d4de14055a7c1d9a0f3]\n",
       "class E5--><a href=\"psysml:a7d82e4a-e12d-4520-9ae6-c89754eb7506\" target=\"_top\" title=\"psysml:a7d82e4a-e12d-4520-9ae6-c89754eb7506\" xlink:actuate=\"onRequest\" xlink:href=\"psysml:a7d82e4a-e12d-4520-9ae6-c89754eb7506\" xlink:show=\"new\" xlink:title=\"psysml:a7d82e4a-e12d-4520-9ae6-c89754eb7506\" xlink:type=\"simple\"><rect fill=\"#FFFFFF\" height=\"45.9375\" id=\"E5\" rx=\"10\" ry=\"10\" style=\"stroke: #383838; stroke-width: 1.5;\" width=\"42\" x=\"336\" y=\"41\"/><text fill=\"#000000\" font-family=\"sans-serif\" font-size=\"12\" font-style=\"italic\" lengthAdjust=\"spacingAndGlyphs\" textLength=\"40\" x=\"337\" y=\"57.1387\">«port»</text><text fill=\"#000000\" font-family=\"sans-serif\" font-size=\"12\" lengthAdjust=\"spacingAndGlyphs\" textLength=\"16\" x=\"347\" y=\"71.1074\">p2</text><line style=\"stroke: #383838; stroke-width: 1.5;\" x1=\"337\" x2=\"377\" y1=\"78.9375\" y2=\"78.9375\"/></a><!--MD5=[60a26617385b1d2d0262a64233df1f8d]\n",
       "class E6--><a href=\"psysml:5cdadcae-4d33-45cc-84a1-e26eca79ba4d\" target=\"_top\" title=\"psysml:5cdadcae-4d33-45cc-84a1-e26eca79ba4d\" xlink:actuate=\"onRequest\" xlink:href=\"psysml:5cdadcae-4d33-45cc-84a1-e26eca79ba4d\" xlink:show=\"new\" xlink:title=\"psysml:5cdadcae-4d33-45cc-84a1-e26eca79ba4d\" xlink:type=\"simple\"><rect fill=\"#FFFFFF\" height=\"45.9375\" id=\"E6\" style=\"stroke: #383838; stroke-width: 1.5;\" width=\"114\" x=\"162\" y=\"244\"/><text fill=\"#000000\" font-family=\"sans-serif\" font-size=\"12\" font-style=\"italic\" lengthAdjust=\"spacingAndGlyphs\" textLength=\"112\" x=\"163\" y=\"260.1387\">«connection  def»</text><text fill=\"#000000\" font-family=\"sans-serif\" font-size=\"12\" lengthAdjust=\"spacingAndGlyphs\" textLength=\"8\" x=\"215\" y=\"274.1074\">A</text><line style=\"stroke: #383838; stroke-width: 1.5;\" x1=\"163\" x2=\"275\" y1=\"281.9375\" y2=\"281.9375\"/></a><!--MD5=[2156ba9850f5573cc1fc38a6a4b2f02b]\n",
       "class E7--><a href=\"psysml:7fb982ae-cae7-41b0-848a-52bb93191ec3\" target=\"_top\" title=\"psysml:7fb982ae-cae7-41b0-848a-52bb93191ec3\" xlink:actuate=\"onRequest\" xlink:href=\"psysml:7fb982ae-cae7-41b0-848a-52bb93191ec3\" xlink:show=\"new\" xlink:title=\"psysml:7fb982ae-cae7-41b0-848a-52bb93191ec3\" xlink:type=\"simple\"><rect fill=\"#FFFFFF\" height=\"45.9375\" id=\"E7\" rx=\"10\" ry=\"10\" style=\"stroke: #383838; stroke-width: 1.5;\" width=\"42\" x=\"336\" y=\"284\"/><text fill=\"#000000\" font-family=\"sans-serif\" font-size=\"12\" font-style=\"italic\" lengthAdjust=\"spacingAndGlyphs\" textLength=\"40\" x=\"337\" y=\"300.1387\">«port»</text><text fill=\"#000000\" font-family=\"sans-serif\" font-size=\"12\" lengthAdjust=\"spacingAndGlyphs\" textLength=\"32\" x=\"339\" y=\"314.1074\">p1: P</text><line style=\"stroke: #383838; stroke-width: 1.5;\" x1=\"337\" x2=\"377\" y1=\"321.9375\" y2=\"321.9375\"/></a><!--MD5=[b9389687b975829384b498ac4b7476b2]\n",
       "class E8--><a href=\"psysml:5c21b9df-62cf-4ee8-9145-76efb13de7e4\" target=\"_top\" title=\"psysml:5c21b9df-62cf-4ee8-9145-76efb13de7e4\" xlink:actuate=\"onRequest\" xlink:href=\"psysml:5c21b9df-62cf-4ee8-9145-76efb13de7e4\" xlink:show=\"new\" xlink:title=\"psysml:5c21b9df-62cf-4ee8-9145-76efb13de7e4\" xlink:type=\"simple\"><rect fill=\"#FFFFFF\" height=\"45.9375\" id=\"E8\" rx=\"10\" ry=\"10\" style=\"stroke: #383838; stroke-width: 1.5;\" width=\"42\" x=\"336\" y=\"203\"/><text fill=\"#000000\" font-family=\"sans-serif\" font-size=\"12\" font-style=\"italic\" lengthAdjust=\"spacingAndGlyphs\" textLength=\"40\" x=\"337\" y=\"219.1387\">«port»</text><text fill=\"#000000\" font-family=\"sans-serif\" font-size=\"12\" lengthAdjust=\"spacingAndGlyphs\" textLength=\"16\" x=\"347\" y=\"233.1074\">p2</text><line style=\"stroke: #383838; stroke-width: 1.5;\" x1=\"337\" x2=\"377\" y1=\"240.9375\" y2=\"240.9375\"/></a><!--MD5=[fd4143e9d270a159db93a4ea2a975926]\n",
       "class E9--><a href=\"psysml:2bbab23f-cc40-4354-88cc-493e0b41ffd4\" target=\"_top\" title=\"psysml:2bbab23f-cc40-4354-88cc-493e0b41ffd4\" xlink:actuate=\"onRequest\" xlink:href=\"psysml:2bbab23f-cc40-4354-88cc-493e0b41ffd4\" xlink:show=\"new\" xlink:title=\"psysml:2bbab23f-cc40-4354-88cc-493e0b41ffd4\" xlink:type=\"simple\"><rect fill=\"#FFFFFF\" height=\"45.9375\" id=\"E9\" style=\"stroke: #383838; stroke-width: 1.5;\" width=\"100\" x=\"169\" y=\"406\"/><text fill=\"#000000\" font-family=\"sans-serif\" font-size=\"12\" font-style=\"italic\" lengthAdjust=\"spacingAndGlyphs\" textLength=\"98\" x=\"170\" y=\"422.1387\">«interface  def»</text><text fill=\"#000000\" font-family=\"sans-serif\" font-size=\"12\" lengthAdjust=\"spacingAndGlyphs\" textLength=\"3\" x=\"217.5\" y=\"436.1074\">I</text><line style=\"stroke: #383838; stroke-width: 1.5;\" x1=\"170\" x2=\"268\" y1=\"443.9375\" y2=\"443.9375\"/></a><!--MD5=[96f4274e9e20536e775497830990834d]\n",
       "class E10--><a href=\"psysml:e0785fbe-faad-409c-b39f-62ae49a7d6e0\" target=\"_top\" title=\"psysml:e0785fbe-faad-409c-b39f-62ae49a7d6e0\" xlink:actuate=\"onRequest\" xlink:href=\"psysml:e0785fbe-faad-409c-b39f-62ae49a7d6e0\" xlink:show=\"new\" xlink:title=\"psysml:e0785fbe-faad-409c-b39f-62ae49a7d6e0\" xlink:type=\"simple\"><rect fill=\"#FFFFFF\" height=\"45.9375\" id=\"E10\" rx=\"10\" ry=\"10\" style=\"stroke: #383838; stroke-width: 1.5;\" width=\"42\" x=\"336\" y=\"446\"/><text fill=\"#000000\" font-family=\"sans-serif\" font-size=\"12\" font-style=\"italic\" lengthAdjust=\"spacingAndGlyphs\" textLength=\"40\" x=\"337\" y=\"462.1387\">«port»</text><text fill=\"#000000\" font-family=\"sans-serif\" font-size=\"12\" lengthAdjust=\"spacingAndGlyphs\" textLength=\"32\" x=\"339\" y=\"476.1074\">p1: P</text><line style=\"stroke: #383838; stroke-width: 1.5;\" x1=\"337\" x2=\"377\" y1=\"483.9375\" y2=\"483.9375\"/></a><!--MD5=[1dd1bfd58a279cf63c5f349dbc8fc6a1]\n",
       "class E11--><a href=\"psysml:a18508b4-2f12-4bca-8dd1-291939c34d14\" target=\"_top\" title=\"psysml:a18508b4-2f12-4bca-8dd1-291939c34d14\" xlink:actuate=\"onRequest\" xlink:href=\"psysml:a18508b4-2f12-4bca-8dd1-291939c34d14\" xlink:show=\"new\" xlink:title=\"psysml:a18508b4-2f12-4bca-8dd1-291939c34d14\" xlink:type=\"simple\"><rect fill=\"#FFFFFF\" height=\"45.9375\" id=\"E11\" rx=\"10\" ry=\"10\" style=\"stroke: #383838; stroke-width: 1.5;\" width=\"42\" x=\"336\" y=\"365\"/><text fill=\"#000000\" font-family=\"sans-serif\" font-size=\"12\" font-style=\"italic\" lengthAdjust=\"spacingAndGlyphs\" textLength=\"40\" x=\"337\" y=\"381.1387\">«port»</text><text fill=\"#000000\" font-family=\"sans-serif\" font-size=\"12\" lengthAdjust=\"spacingAndGlyphs\" textLength=\"16\" x=\"347\" y=\"395.1074\">p2</text><line style=\"stroke: #383838; stroke-width: 1.5;\" x1=\"337\" x2=\"377\" y1=\"402.9375\" y2=\"402.9375\"/></a><!--MD5=[49a0ec8f00dab7302a31f22d0f0fe584]\n",
       "class E12--><a href=\"psysml:cd0027e5-9ed9-4216-bffa-1e31fa367fb3\" target=\"_top\" title=\"psysml:cd0027e5-9ed9-4216-bffa-1e31fa367fb3\" xlink:actuate=\"onRequest\" xlink:href=\"psysml:cd0027e5-9ed9-4216-bffa-1e31fa367fb3\" xlink:show=\"new\" xlink:title=\"psysml:cd0027e5-9ed9-4216-bffa-1e31fa367fb3\" xlink:type=\"simple\"><rect fill=\"#FFFFFF\" height=\"45.9375\" id=\"E12\" style=\"stroke: #383838; stroke-width: 1.5;\" width=\"70\" x=\"32\" y=\"546\"/><text fill=\"#000000\" font-family=\"sans-serif\" font-size=\"12\" font-style=\"italic\" lengthAdjust=\"spacingAndGlyphs\" textLength=\"68\" x=\"33\" y=\"562.1387\">«part  def»</text><text fill=\"#000000\" font-family=\"sans-serif\" font-size=\"12\" lengthAdjust=\"spacingAndGlyphs\" textLength=\"16\" x=\"59\" y=\"576.1074\">B1</text><line style=\"stroke: #383838; stroke-width: 1.5;\" x1=\"33\" x2=\"101\" y1=\"583.9375\" y2=\"583.9375\"/></a><!--MD5=[ee3c913d1a06f366521f9ef512b67efe]\n",
       "class E13--><a href=\"psysml:3cf8fc76-e05d-49bd-b29f-3b88a47b72de\" target=\"_top\" title=\"psysml:3cf8fc76-e05d-49bd-b29f-3b88a47b72de\" xlink:actuate=\"onRequest\" xlink:href=\"psysml:3cf8fc76-e05d-49bd-b29f-3b88a47b72de\" xlink:show=\"new\" xlink:title=\"psysml:3cf8fc76-e05d-49bd-b29f-3b88a47b72de\" xlink:type=\"simple\"><rect fill=\"#FFFFFF\" height=\"45.9375\" id=\"E13\" rx=\"10\" ry=\"10\" style=\"stroke: #383838; stroke-width: 1.5;\" width=\"42\" x=\"198\" y=\"546\"/><text fill=\"#000000\" font-family=\"sans-serif\" font-size=\"12\" font-style=\"italic\" lengthAdjust=\"spacingAndGlyphs\" textLength=\"40\" x=\"199\" y=\"562.1387\">«part»</text><text fill=\"#000000\" font-family=\"sans-serif\" font-size=\"12\" lengthAdjust=\"spacingAndGlyphs\" textLength=\"8\" x=\"213\" y=\"576.1074\">p</text><line style=\"stroke: #383838; stroke-width: 1.5;\" x1=\"199\" x2=\"239\" y1=\"583.9375\" y2=\"583.9375\"/></a><!--MD5=[bee11217b2f71d958a27249dc326068c]\n",
       "class E14--><a href=\"psysml:6cf362ef-4bb1-44a5-8272-767638a97c43\" target=\"_top\" title=\"psysml:6cf362ef-4bb1-44a5-8272-767638a97c43\" xlink:actuate=\"onRequest\" xlink:href=\"psysml:6cf362ef-4bb1-44a5-8272-767638a97c43\" xlink:show=\"new\" xlink:title=\"psysml:6cf362ef-4bb1-44a5-8272-767638a97c43\" xlink:type=\"simple\"><rect fill=\"#FFFFFF\" height=\"45.9375\" id=\"E14\" rx=\"10\" ry=\"10\" style=\"stroke: #383838; stroke-width: 1.5;\" width=\"42\" x=\"336\" y=\"527\"/><text fill=\"#000000\" font-family=\"sans-serif\" font-size=\"12\" font-style=\"italic\" lengthAdjust=\"spacingAndGlyphs\" textLength=\"40\" x=\"337\" y=\"543.1387\">«port»</text><text fill=\"#000000\" font-family=\"sans-serif\" font-size=\"12\" lengthAdjust=\"spacingAndGlyphs\" textLength=\"32\" x=\"339\" y=\"557.1074\">p1: P</text><line style=\"stroke: #383838; stroke-width: 1.5;\" x1=\"337\" x2=\"377\" y1=\"564.9375\" y2=\"564.9375\"/></a><!--MD5=[0c48fb7552dae8cbbef69381101a84c8]\n",
       "class E15--><a href=\"psysml:33e7cbb5-c462-4d34-9030-b3438d816b29\" target=\"_top\" title=\"psysml:33e7cbb5-c462-4d34-9030-b3438d816b29\" xlink:actuate=\"onRequest\" xlink:href=\"psysml:33e7cbb5-c462-4d34-9030-b3438d816b29\" xlink:show=\"new\" xlink:title=\"psysml:33e7cbb5-c462-4d34-9030-b3438d816b29\" xlink:type=\"simple\"><rect fill=\"#FFFFFF\" height=\"45.9375\" id=\"E15\" rx=\"10\" ry=\"10\" style=\"stroke: #383838; stroke-width: 1.5;\" width=\"42\" x=\"452\" y=\"527\"/><text fill=\"#000000\" font-family=\"sans-serif\" font-size=\"12\" font-style=\"italic\" lengthAdjust=\"spacingAndGlyphs\" textLength=\"40\" x=\"453\" y=\"543.1387\">«port»</text><text fill=\"#000000\" font-family=\"sans-serif\" font-size=\"12\" lengthAdjust=\"spacingAndGlyphs\" textLength=\"16\" x=\"463\" y=\"557.1074\">p2</text><line style=\"stroke: #383838; stroke-width: 1.5;\" x1=\"453\" x2=\"493\" y1=\"564.9375\" y2=\"564.9375\"/></a><!--MD5=[4672eba38e49728da53d11aeb285b987]\n",
       "reverse link E3 to E4--><a href=\"psysml:e09aa0cf-99c0-4ed5-833c-e6cdd9353c0b\" target=\"_top\" title=\"psysml:e09aa0cf-99c0-4ed5-833c-e6cdd9353c0b\" xlink:actuate=\"onRequest\" xlink:href=\"psysml:e09aa0cf-99c0-4ed5-833c-e6cdd9353c0b\" xlink:show=\"new\" xlink:title=\"psysml:e09aa0cf-99c0-4ed5-833c-e6cdd9353c0b\" xlink:type=\"simple\"><path d=\"M266.89,118.79 C290.35,125.69 317.53,133.69 335.65,139.01 \" fill=\"none\" id=\"E3&lt;-E4\" style=\"stroke: #383838; stroke-width: 1.0;\"/><polygon fill=\"#FFFFFF\" points=\"254.32,115.09,258.952,120.6167,265.8351,118.4667,261.2031,112.94,254.32,115.09\" style=\"stroke: #383838; stroke-width: 1.0;\"/><text fill=\"#000000\" font-family=\"sans-serif\" font-size=\"13\" lengthAdjust=\"spacingAndGlyphs\" textLength=\"8\" x=\"319.8866\" y=\"151.5692\">1</text></a><!--MD5=[185131fc0dcab0a4505a2ebe144e961b]\n",
       "link E4 to E2--><a href=\"psysml:d96439d0-54ae-42c8-b560-5f0ede470e61\" target=\"_top\" title=\"psysml:d96439d0-54ae-42c8-b560-5f0ede470e61\" xlink:actuate=\"onRequest\" xlink:href=\"psysml:d96439d0-54ae-42c8-b560-5f0ede470e61\" xlink:show=\"new\" xlink:title=\"psysml:d96439d0-54ae-42c8-b560-5f0ede470e61\" xlink:type=\"simple\"><path d=\"M369.75,168.21 C372.49,173.7 375.37,179.54 378,185 C404.72,240.51 434.42,305.17 453.14,346.32 \" fill=\"none\" id=\"E4-&gt;E2\" style=\"stroke: #383838; stroke-width: 1.0;\"/><polygon fill=\"#FFFFFF\" points=\"461.51,364.76,447.2803,350.3546,460.0275,344.5659,461.51,364.76\" style=\"stroke: #383838; stroke-width: 1.0;\"/><ellipse cx=\"446.7445\" cy=\"344.3377\" fill=\"#383838\" rx=\"2\" ry=\"2\" style=\"stroke: #383838; stroke-width: 1.0;\"/><ellipse cx=\"455.8496\" cy=\"340.2029\" fill=\"#383838\" rx=\"2\" ry=\"2\" style=\"stroke: #383838; stroke-width: 1.0;\"/></a><!--MD5=[191cde3d490a3f6d7bb551fe3ddca469]\n",
       "reverse link E3 to E5--><a href=\"psysml:880a21a1-46d7-4f3d-9543-241b40e3ab4a\" target=\"_top\" title=\"psysml:880a21a1-46d7-4f3d-9543-241b40e3ab4a\" xlink:actuate=\"onRequest\" xlink:href=\"psysml:880a21a1-46d7-4f3d-9543-241b40e3ab4a\" xlink:show=\"new\" xlink:title=\"psysml:880a21a1-46d7-4f3d-9543-241b40e3ab4a\" xlink:type=\"simple\"><path d=\"M266.89,90.86 C290.35,83.79 317.53,75.6 335.65,70.14 \" fill=\"none\" id=\"E3&lt;-E5\" style=\"stroke: #383838; stroke-width: 1.0;\"/><polygon fill=\"#FFFFFF\" points=\"254.32,94.65,261.2201,96.7449,265.8077,91.1813,258.9076,89.0864,254.32,94.65\" style=\"stroke: #383838; stroke-width: 1.0;\"/><text fill=\"#000000\" font-family=\"sans-serif\" font-size=\"13\" lengthAdjust=\"spacingAndGlyphs\" textLength=\"8\" x=\"319.8866\" y=\"86.4141\">1</text></a><!--MD5=[3f50a3473f1dfb74d3f76443e03635af]\n",
       "reverse link E6 to E7--><a href=\"psysml:98390341-db8e-40b6-aced-fec2311e0a9d\" target=\"_top\" title=\"psysml:98390341-db8e-40b6-aced-fec2311e0a9d\" xlink:actuate=\"onRequest\" xlink:href=\"psysml:98390341-db8e-40b6-aced-fec2311e0a9d\" xlink:show=\"new\" xlink:title=\"psysml:98390341-db8e-40b6-aced-fec2311e0a9d\" xlink:type=\"simple\"><path d=\"M288.65,287.19 C305.96,292.28 323.22,297.36 335.93,301.1 \" fill=\"none\" id=\"E6&lt;-E7\" style=\"stroke: #383838; stroke-width: 1.0;\"/><polygon fill=\"#FFFFFF\" points=\"276.1,283.5,280.7262,289.0316,287.6115,286.8889,282.9854,281.3572,276.1,283.5\" style=\"stroke: #383838; stroke-width: 1.0;\"/><text fill=\"#000000\" font-family=\"sans-serif\" font-size=\"13\" lengthAdjust=\"spacingAndGlyphs\" textLength=\"8\" x=\"319.9389\" y=\"313.708\">1</text></a><!--MD5=[583832df87f4419a098336a29a52fa00]\n",
       "link E7 to E2--><a href=\"psysml:6f9217eb-859f-4957-bc31-6c1306f83367\" target=\"_top\" title=\"psysml:6f9217eb-859f-4957-bc31-6c1306f83367\" xlink:actuate=\"onRequest\" xlink:href=\"psysml:6f9217eb-859f-4957-bc31-6c1306f83367\" xlink:show=\"new\" xlink:title=\"psysml:6f9217eb-859f-4957-bc31-6c1306f83367\" xlink:type=\"simple\"><path d=\"M378.12,321.29 C390.67,330.21 407.41,342.1 423.27,353.37 \" fill=\"none\" id=\"E7-&gt;E2\" style=\"stroke: #383838; stroke-width: 1.0;\"/><polygon fill=\"#FFFFFF\" points=\"439.58,364.97,420.0349,359.6794,428.1391,348.2635,439.58,364.97\" style=\"stroke: #383838; stroke-width: 1.0;\"/><ellipse cx=\"416.5448\" cy=\"354.749\" fill=\"#383838\" rx=\"2\" ry=\"2\" style=\"stroke: #383838; stroke-width: 1.0;\"/><ellipse cx=\"422.3335\" cy=\"346.5948\" fill=\"#383838\" rx=\"2\" ry=\"2\" style=\"stroke: #383838; stroke-width: 1.0;\"/></a><!--MD5=[f4cf0736d43fd73c4ef68817c49d37d5]\n",
       "reverse link E6 to E8--><a href=\"psysml:15a7c7be-761e-4e1c-a126-babbedfba5ca\" target=\"_top\" title=\"psysml:15a7c7be-761e-4e1c-a126-babbedfba5ca\" xlink:actuate=\"onRequest\" xlink:href=\"psysml:15a7c7be-761e-4e1c-a126-babbedfba5ca\" xlink:show=\"new\" xlink:title=\"psysml:15a7c7be-761e-4e1c-a126-babbedfba5ca\" xlink:type=\"simple\"><path d=\"M288.65,246.3 C305.96,241.08 323.22,235.88 335.93,232.05 \" fill=\"none\" id=\"E6&lt;-E8\" style=\"stroke: #383838; stroke-width: 1.0;\"/><polygon fill=\"#FFFFFF\" points=\"276.1,250.09,283.0001,252.1849,287.5877,246.6213,280.6876,244.5264,276.1,250.09\" style=\"stroke: #383838; stroke-width: 1.0;\"/><text fill=\"#000000\" font-family=\"sans-serif\" font-size=\"13\" lengthAdjust=\"spacingAndGlyphs\" textLength=\"8\" x=\"319.9389\" y=\"248.4671\">1</text></a><!--MD5=[23ac544a70576c3e717098101004234c]\n",
       "reverse link E9 to E10--><a href=\"psysml:a15de342-1742-4b99-9b86-ed8c6fb30ab8\" target=\"_top\" title=\"psysml:a15de342-1742-4b99-9b86-ed8c6fb30ab8\" xlink:actuate=\"onRequest\" xlink:href=\"psysml:a15de342-1742-4b99-9b86-ed8c6fb30ab8\" xlink:show=\"new\" xlink:title=\"psysml:a15de342-1742-4b99-9b86-ed8c6fb30ab8\" xlink:type=\"simple\"><path d=\"M281.72,447.15 C301.18,452.88 321.34,458.8 335.73,463.04 \" fill=\"none\" id=\"E9&lt;-E10\" style=\"stroke: #383838; stroke-width: 1.0;\"/><polygon fill=\"#FFFFFF\" points=\"269.1,443.44,273.732,448.9667,280.6151,446.8167,275.9831,441.29,269.1,443.44\" style=\"stroke: #383838; stroke-width: 1.0;\"/><text fill=\"#000000\" font-family=\"sans-serif\" font-size=\"13\" lengthAdjust=\"spacingAndGlyphs\" textLength=\"8\" x=\"319.9911\" y=\"475.6084\">1</text></a><!--MD5=[0f36bececdf0dff6e600d6f64214b0f1]\n",
       "link E10 to E2--><a href=\"psysml:81b1dfc1-849b-47a4-a859-9ae7a728ef15\" target=\"_top\" title=\"psysml:81b1dfc1-849b-47a4-a859-9ae7a728ef15\" xlink:actuate=\"onRequest\" xlink:href=\"psysml:81b1dfc1-849b-47a4-a859-9ae7a728ef15\" xlink:show=\"new\" xlink:title=\"psysml:81b1dfc1-849b-47a4-a859-9ae7a728ef15\" xlink:type=\"simple\"><path d=\"M378.12,454.71 C390.67,445.79 407.41,433.9 423.27,422.63 \" fill=\"none\" id=\"E10-&gt;E2\" style=\"stroke: #383838; stroke-width: 1.0;\"/><polygon fill=\"#FFFFFF\" points=\"439.58,411.03,428.1391,427.7365,420.0349,416.3206,439.58,411.03\" style=\"stroke: #383838; stroke-width: 1.0;\"/><ellipse cx=\"422.3335\" cy=\"429.4052\" fill=\"#383838\" rx=\"2\" ry=\"2\" style=\"stroke: #383838; stroke-width: 1.0;\"/><ellipse cx=\"416.5448\" cy=\"421.251\" fill=\"#383838\" rx=\"2\" ry=\"2\" style=\"stroke: #383838; stroke-width: 1.0;\"/></a><!--MD5=[1fc04a95fd77ad5ce46c1a3027516051]\n",
       "reverse link E9 to E11--><a href=\"psysml:fe2242fc-88cc-4430-bc2f-98e79ba2cc70\" target=\"_top\" title=\"psysml:fe2242fc-88cc-4430-bc2f-98e79ba2cc70\" xlink:actuate=\"onRequest\" xlink:href=\"psysml:fe2242fc-88cc-4430-bc2f-98e79ba2cc70\" xlink:show=\"new\" xlink:title=\"psysml:fe2242fc-88cc-4430-bc2f-98e79ba2cc70\" xlink:type=\"simple\"><path d=\"M281.72,410.39 C301.18,404.53 321.34,398.45 335.73,394.11 \" fill=\"none\" id=\"E9&lt;-E11\" style=\"stroke: #383838; stroke-width: 1.0;\"/><polygon fill=\"#FFFFFF\" points=\"269.1,414.2,276.0001,416.2949,280.5877,410.7313,273.6876,408.6364,269.1,414.2\" style=\"stroke: #383838; stroke-width: 1.0;\"/><text fill=\"#000000\" font-family=\"sans-serif\" font-size=\"13\" lengthAdjust=\"spacingAndGlyphs\" textLength=\"8\" x=\"319.9911\" y=\"410.3749\">1</text></a><!--MD5=[062ed86c389d1a88f61c6380d0491e17]\n",
       "reverse link E12 to E13--><a href=\"psysml:0c56cab0-046e-4827-a921-af226384c943\" target=\"_top\" title=\"psysml:0c56cab0-046e-4827-a921-af226384c943\" xlink:actuate=\"onRequest\" xlink:href=\"psysml:0c56cab0-046e-4827-a921-af226384c943\" xlink:show=\"new\" xlink:title=\"psysml:0c56cab0-046e-4827-a921-af226384c943\" xlink:type=\"simple\"><path d=\"M115.15,569 C143.02,569 176.85,569 197.91,569 \" fill=\"none\" id=\"E12&lt;-E13\" style=\"stroke: #383838; stroke-width: 1.0;\"/><polygon fill=\"#FFFFFF\" points=\"102.04,569,108.04,573,114.04,569,108.04,565,102.04,569\" style=\"stroke: #383838; stroke-width: 1.0;\"/><text fill=\"#000000\" font-family=\"sans-serif\" font-size=\"13\" lengthAdjust=\"spacingAndGlyphs\" textLength=\"8\" x=\"181.9126\" y=\"583.4886\">1</text></a><!--MD5=[01db00f33b28669d6d9febea71002831]\n",
       "reverse link E13 to E14--><a href=\"psysml:12334834-5f3e-4b20-9f0b-aad671391bfa\" target=\"_top\" title=\"psysml:12334834-5f3e-4b20-9f0b-aad671391bfa\" xlink:actuate=\"onRequest\" xlink:href=\"psysml:12334834-5f3e-4b20-9f0b-aad671391bfa\" xlink:show=\"new\" xlink:title=\"psysml:12334834-5f3e-4b20-9f0b-aad671391bfa\" xlink:type=\"simple\"><path d=\"M252.98,564.39 C278.85,560.78 314.02,555.86 335.85,552.82 \" fill=\"none\" id=\"E13&lt;-E14\" style=\"stroke: #383838; stroke-width: 1.0;\"/><polygon fill=\"#FFFFFF\" points=\"240.07,566.2,246.5662,569.3305,251.9544,564.538,245.4582,561.4076,240.07,566.2\" style=\"stroke: #383838; stroke-width: 1.0;\"/><text fill=\"#000000\" font-family=\"sans-serif\" font-size=\"13\" lengthAdjust=\"spacingAndGlyphs\" textLength=\"8\" x=\"320.1478\" y=\"568.0773\">1</text></a><!--MD5=[e5566ac99d7714697a7fbc17f6b550fe]\n",
       "link E14 to E2--><a href=\"psysml:f15866fc-26c5-4fac-ba02-f8f796eed5e8\" target=\"_top\" title=\"psysml:f15866fc-26c5-4fac-ba02-f8f796eed5e8\" xlink:actuate=\"onRequest\" xlink:href=\"psysml:f15866fc-26c5-4fac-ba02-f8f796eed5e8\" xlink:show=\"new\" xlink:title=\"psysml:f15866fc-26c5-4fac-ba02-f8f796eed5e8\" xlink:type=\"simple\"><path d=\"M374.33,526.79 C392.53,500.93 422.28,458.66 444.17,427.55 \" fill=\"none\" id=\"E14-&gt;E2\" style=\"stroke: #383838; stroke-width: 1.0;\"/><polygon fill=\"#FFFFFF\" points=\"455.7,411.17,450.4987,430.739,439.046,422.6871,455.7,411.17\" style=\"stroke: #383838; stroke-width: 1.0;\"/><ellipse cx=\"445.5843\" cy=\"434.2517\" fill=\"#383838\" rx=\"2\" ry=\"2\" style=\"stroke: #383838; stroke-width: 1.0;\"/><ellipse cx=\"437.4038\" cy=\"428.5003\" fill=\"#383838\" rx=\"2\" ry=\"2\" style=\"stroke: #383838; stroke-width: 1.0;\"/></a><!--MD5=[e9a5e828c71fd2209a11a152f562d491]\n",
       "reverse link E13 to E15--><a href=\"psysml:ce878baa-f80f-4009-adda-6088e19c872e\" target=\"_top\" title=\"psysml:ce878baa-f80f-4009-adda-6088e19c872e\" xlink:actuate=\"onRequest\" xlink:href=\"psysml:ce878baa-f80f-4009-adda-6088e19c872e\" xlink:show=\"new\" xlink:title=\"psysml:ce878baa-f80f-4009-adda-6088e19c872e\" xlink:type=\"simple\"><path d=\"M252.67,580.07 C284.78,589.41 335.06,599.96 378,591 C404.84,585.4 433.41,571.7 451.91,561.67 \" fill=\"none\" id=\"E13&lt;-E15\" style=\"stroke: #383838; stroke-width: 1.0;\"/><polygon fill=\"#FFFFFF\" points=\"240.1,576.19,244.6565,581.7791,251.5682,579.7227,247.0117,574.1336,240.1,576.19\" style=\"stroke: #383838; stroke-width: 1.0;\"/><text fill=\"#000000\" font-family=\"sans-serif\" font-size=\"13\" lengthAdjust=\"spacingAndGlyphs\" textLength=\"8\" x=\"435.9126\" y=\"579.8785\">1</text></a><!--MD5=[3afbdc645381407e1bc99677323a2513]\n",
       "link E14 to E15--><a href=\"psysml:1f31a0eb-24e7-4abd-8eab-15c525015988\" target=\"_top\" title=\"psysml:1f31a0eb-24e7-4abd-8eab-15c525015988\" xlink:actuate=\"onRequest\" xlink:href=\"psysml:1f31a0eb-24e7-4abd-8eab-15c525015988\" xlink:show=\"new\" xlink:title=\"psysml:1f31a0eb-24e7-4abd-8eab-15c525015988\" xlink:type=\"simple\"><path d=\"M378.12,559.99 C398.83,563.66 430.92,563.67 451.7,560.03 \" fill=\"none\" id=\"E14-E15\" style=\"stroke: #383838; stroke-width: 3.0;\"/></a><!--MD5=[3afbdc645381407e1bc99677323a2513]\n",
       "link E14 to E15--><a href=\"psysml:c2fd36d5-55a7-4367-ae55-c3f656adabca\" target=\"_top\" title=\"psysml:c2fd36d5-55a7-4367-ae55-c3f656adabca\" xlink:actuate=\"onRequest\" xlink:href=\"psysml:c2fd36d5-55a7-4367-ae55-c3f656adabca\" xlink:show=\"new\" xlink:title=\"psysml:c2fd36d5-55a7-4367-ae55-c3f656adabca\" xlink:type=\"simple\"><path d=\"M378.12,539.42 C398.83,535.54 430.92,535.53 451.7,539.38 \" fill=\"none\" id=\"E14-E15-1\" style=\"stroke: #383838; stroke-width: 3.0;\"/></a><!--MD5=[0060d52d958e0c28a396747e76a1b9e5]\n",
       "@startuml\r\n",
       "left to right direction\r\n",
       "skinparam monochrome true\r\n",
       "skinparam classbackgroundcolor white\r\n",
       "skinparam shadowing false\r\n",
       "skinparam wrapWidth 300\r\n",
       "hide circle\r\n",
       "\r\n",
       "package \"ConjugationTest\" as E1  [[psysml:4e179b45-ef84-478c-a2da-b16af7c43fe7 ]]  {\r\n",
       "comp def \"P\" as E2  <<(T,blue) port  def>> [[psysml:859d5a2d-b524-488b-9af4-e0f987adcacf ]] {\r\n",
       "}\r\n",
       "comp def \"B\" as E3  <<(T,blue) part  def>> [[psysml:615e73ac-8544-4e42-b424-8a4747867d0e ]] {\r\n",
       "}\r\n",
       "comp usage \"p1: P \" as E4  <<(T,blue) port>> [[psysml:37d2c32c-e4e6-4c0b-af75-96cd6556dd4d ]] {\r\n",
       "}\r\n",
       "comp usage \"p2 \" as E5  <<(T,blue) port>> [[psysml:a7d82e4a-e12d-4520-9ae6-c89754eb7506 ]] {\r\n",
       "}\r\n",
       "comp def \"A\" as E6  <<(T,blue) connection  def>> [[psysml:5cdadcae-4d33-45cc-84a1-e26eca79ba4d ]] {\r\n",
       "}\r\n",
       "comp usage \"p1: P \" as E7  <<(T,blue) port>> [[psysml:7fb982ae-cae7-41b0-848a-52bb93191ec3 ]] {\r\n",
       "}\r\n",
       "comp usage \"p2 \" as E8  <<(T,blue) port>> [[psysml:5c21b9df-62cf-4ee8-9145-76efb13de7e4 ]] {\r\n",
       "}\r\n",
       "comp def \"I\" as E9  <<(T,blue) interface  def>> [[psysml:2bbab23f-cc40-4354-88cc-493e0b41ffd4 ]] {\r\n",
       "}\r\n",
       "comp usage \"p1: P \" as E10  <<(T,blue) port>> [[psysml:e0785fbe-faad-409c-b39f-62ae49a7d6e0 ]] {\r\n",
       "}\r\n",
       "comp usage \"p2 \" as E11  <<(T,blue) port>> [[psysml:a18508b4-2f12-4bca-8dd1-291939c34d14 ]] {\r\n",
       "}\r\n",
       "comp def \"B1\" as E12  <<(T,blue) part  def>> [[psysml:cd0027e5-9ed9-4216-bffa-1e31fa367fb3 ]] {\r\n",
       "}\r\n",
       "comp usage \"p \" as E13  <<(T,blue) part>> [[psysml:3cf8fc76-e05d-49bd-b29f-3b88a47b72de ]] {\r\n",
       "}\r\n",
       "comp usage \"p1: P \" as E14  <<(T,blue) port>> [[psysml:6cf362ef-4bb1-44a5-8272-767638a97c43 ]] {\r\n",
       "}\r\n",
       "comp usage \"p2 \" as E15  <<(T,blue) port>> [[psysml:33e7cbb5-c462-4d34-9030-b3438d816b29 ]] {\r\n",
       "}\r\n",
       "}\r\n",
       "E3 o- - \"1\"E4 [[psysml:e09aa0cf-99c0-4ed5-833c-e6cdd9353c0b ]] \r\n",
       "E4 - -:|> E2 [[psysml:d96439d0-54ae-42c8-b560-5f0ede470e61 ]] \r\n",
       "E3 o- - \"1\"E5 [[psysml:880a21a1-46d7-4f3d-9543-241b40e3ab4a ]] \r\n",
       "E6 o- - \"1\"E7 [[psysml:98390341-db8e-40b6-aced-fec2311e0a9d ]] \r\n",
       "E7 - -:|> E2 [[psysml:6f9217eb-859f-4957-bc31-6c1306f83367 ]] \r\n",
       "E6 o- - \"1\"E8 [[psysml:15a7c7be-761e-4e1c-a126-babbedfba5ca ]] \r\n",
       "E9 o- - \"1\"E10 [[psysml:a15de342-1742-4b99-9b86-ed8c6fb30ab8 ]] \r\n",
       "E10 - -:|> E2 [[psysml:81b1dfc1-849b-47a4-a859-9ae7a728ef15 ]] \r\n",
       "E9 o- - \"1\"E11 [[psysml:fe2242fc-88cc-4430-bc2f-98e79ba2cc70 ]] \r\n",
       "E12 o- - \"1\"E13 [[psysml:0c56cab0-046e-4827-a921-af226384c943 ]] \r\n",
       "E13 o- - \"1\"E14 [[psysml:12334834-5f3e-4b20-9f0b-aad671391bfa ]] \r\n",
       "E14 - -:|> E2 [[psysml:f15866fc-26c5-4fac-ba02-f8f796eed5e8 ]] \r\n",
       "E13 o- - \"1\"E15 [[psysml:ce878baa-f80f-4009-adda-6088e19c872e ]] \r\n",
       "E14 -[thickness=3]- E15 [[psysml:1f31a0eb-24e7-4abd-8eab-15c525015988 ]] \r\n",
       "E14 -[thickness=3]- E15 [[psysml:c2fd36d5-55a7-4367-ae55-c3f656adabca ]] \r\n",
       "@enduml\r\n",
       "\n",
       "PlantUML version 1.2020.13(Sat Jun 13 12:26:38 UTC 2020)\n",
       "(EPL source distribution)\n",
       "Java Runtime: OpenJDK Runtime Environment\n",
       "JVM: OpenJDK 64-Bit Server VM\n",
       "Default Encoding: UTF-8\n",
       "Language: en\n",
       "Country: null\n",
       "--></g></svg>"
      ]
     },
     "execution_count": 16,
     "metadata": {},
     "output_type": "execute_result"
    }
   ],
   "source": [
    "%viz --style=\"LR\" --view=\"Default\" \"ConjugationTest\""
   ]
  },
  {
   "cell_type": "code",
   "execution_count": 17,
   "id": "93ff708f",
   "metadata": {
    "execution": {
     "iopub.execute_input": "2022-08-19T08:18:12.824739Z",
     "iopub.status.busy": "2022-08-19T08:18:12.824227Z",
     "iopub.status.idle": "2022-08-19T08:18:12.885150Z",
     "shell.execute_reply": "2022-08-19T08:18:12.884735Z"
    }
   },
   "outputs": [
    {
     "data": {
      "image/svg+xml": [
       "<?xml version=\"1.0\" encoding=\"UTF-8\" standalone=\"no\"?><svg xmlns=\"http://www.w3.org/2000/svg\" xmlns:xlink=\"http://www.w3.org/1999/xlink\" contentScriptType=\"application/ecmascript\" contentStyleType=\"text/css\" height=\"638px\" preserveAspectRatio=\"none\" style=\"width:546px;height:638px;\" version=\"1.1\" viewBox=\"0 0 546 638\" width=\"546px\" zoomAndPan=\"magnify\"><defs/><g><!--MD5=[fbc87193dbaf4d95561dea2c320d4a47]\n",
       "cluster E1--><a href=\"psysml:4e179b45-ef84-478c-a2da-b16af7c43fe7\" target=\"_top\" title=\"psysml:4e179b45-ef84-478c-a2da-b16af7c43fe7\" xlink:actuate=\"onRequest\" xlink:href=\"psysml:4e179b45-ef84-478c-a2da-b16af7c43fe7\" xlink:show=\"new\" xlink:title=\"psysml:4e179b45-ef84-478c-a2da-b16af7c43fe7\" xlink:type=\"simple\"><polygon fill=\"#FFFFFF\" points=\"16,6,136,6,143,28.2969,524,28.2969,524,626,16,626,16,6\" style=\"stroke: #000000; stroke-width: 1.5;\"/><line style=\"stroke: #000000; stroke-width: 1.5;\" x1=\"16\" x2=\"143\" y1=\"28.2969\" y2=\"28.2969\"/><text fill=\"#000000\" font-family=\"sans-serif\" font-size=\"14\" font-weight=\"bold\" lengthAdjust=\"spacingAndGlyphs\" textLength=\"114\" x=\"20\" y=\"20.9951\">ConjugationTest</text></a><!--MD5=[b4997ac47864f28c2f74865a473b2911]\n",
       "class E2--><a href=\"psysml:859d5a2d-b524-488b-9af4-e0f987adcacf\" target=\"_top\" title=\"psysml:859d5a2d-b524-488b-9af4-e0f987adcacf\" xlink:actuate=\"onRequest\" xlink:href=\"psysml:859d5a2d-b524-488b-9af4-e0f987adcacf\" xlink:show=\"new\" xlink:title=\"psysml:859d5a2d-b524-488b-9af4-e0f987adcacf\" xlink:type=\"simple\"><rect fill=\"#FFFFFF\" height=\"45.9375\" id=\"E2\" style=\"stroke: #383838; stroke-width: 1.5;\" width=\"70\" x=\"438\" y=\"365\"/><text fill=\"#000000\" font-family=\"sans-serif\" font-size=\"12\" font-style=\"italic\" lengthAdjust=\"spacingAndGlyphs\" textLength=\"68\" x=\"439\" y=\"381.1387\">«port  def»</text><text fill=\"#000000\" font-family=\"sans-serif\" font-size=\"12\" lengthAdjust=\"spacingAndGlyphs\" textLength=\"8\" x=\"469\" y=\"395.1074\">P</text><line style=\"stroke: #383838; stroke-width: 1.5;\" x1=\"439\" x2=\"507\" y1=\"402.9375\" y2=\"402.9375\"/></a><!--MD5=[09b614a08d8cba4a07c9adeb5e0fee81]\n",
       "class E3--><a href=\"psysml:615e73ac-8544-4e42-b424-8a4747867d0e\" target=\"_top\" title=\"psysml:615e73ac-8544-4e42-b424-8a4747867d0e\" xlink:actuate=\"onRequest\" xlink:href=\"psysml:615e73ac-8544-4e42-b424-8a4747867d0e\" xlink:show=\"new\" xlink:title=\"psysml:615e73ac-8544-4e42-b424-8a4747867d0e\" xlink:type=\"simple\"><rect fill=\"#FFFFFF\" height=\"45.9375\" id=\"E3\" style=\"stroke: #383838; stroke-width: 1.5;\" width=\"70\" x=\"184\" y=\"82\"/><text fill=\"#000000\" font-family=\"sans-serif\" font-size=\"12\" font-style=\"italic\" lengthAdjust=\"spacingAndGlyphs\" textLength=\"68\" x=\"185\" y=\"98.1387\">«part  def»</text><text fill=\"#000000\" font-family=\"sans-serif\" font-size=\"12\" lengthAdjust=\"spacingAndGlyphs\" textLength=\"8\" x=\"215\" y=\"112.1074\">B</text><line style=\"stroke: #383838; stroke-width: 1.5;\" x1=\"185\" x2=\"253\" y1=\"119.9375\" y2=\"119.9375\"/></a><!--MD5=[ebbe1d658d1005bcc118a6aa81145e00]\n",
       "class E4--><a href=\"psysml:37d2c32c-e4e6-4c0b-af75-96cd6556dd4d\" target=\"_top\" title=\"psysml:37d2c32c-e4e6-4c0b-af75-96cd6556dd4d\" xlink:actuate=\"onRequest\" xlink:href=\"psysml:37d2c32c-e4e6-4c0b-af75-96cd6556dd4d\" xlink:show=\"new\" xlink:title=\"psysml:37d2c32c-e4e6-4c0b-af75-96cd6556dd4d\" xlink:type=\"simple\"><rect fill=\"#FFFFFF\" height=\"45.9375\" id=\"E4\" rx=\"10\" ry=\"10\" style=\"stroke: #383838; stroke-width: 1.5;\" width=\"42\" x=\"336\" y=\"122\"/><text fill=\"#000000\" font-family=\"sans-serif\" font-size=\"12\" font-style=\"italic\" lengthAdjust=\"spacingAndGlyphs\" textLength=\"40\" x=\"337\" y=\"138.1387\">«port»</text><text fill=\"#000000\" font-family=\"sans-serif\" font-size=\"12\" lengthAdjust=\"spacingAndGlyphs\" textLength=\"32\" x=\"339\" y=\"152.1074\">p1: P</text><line style=\"stroke: #383838; stroke-width: 1.5;\" x1=\"337\" x2=\"377\" y1=\"159.9375\" y2=\"159.9375\"/></a><!--MD5=[270fce915f116d4de14055a7c1d9a0f3]\n",
       "class E5--><a href=\"psysml:a7d82e4a-e12d-4520-9ae6-c89754eb7506\" target=\"_top\" title=\"psysml:a7d82e4a-e12d-4520-9ae6-c89754eb7506\" xlink:actuate=\"onRequest\" xlink:href=\"psysml:a7d82e4a-e12d-4520-9ae6-c89754eb7506\" xlink:show=\"new\" xlink:title=\"psysml:a7d82e4a-e12d-4520-9ae6-c89754eb7506\" xlink:type=\"simple\"><rect fill=\"#FFFFFF\" height=\"45.9375\" id=\"E5\" rx=\"10\" ry=\"10\" style=\"stroke: #383838; stroke-width: 1.5;\" width=\"42\" x=\"336\" y=\"41\"/><text fill=\"#000000\" font-family=\"sans-serif\" font-size=\"12\" font-style=\"italic\" lengthAdjust=\"spacingAndGlyphs\" textLength=\"40\" x=\"337\" y=\"57.1387\">«port»</text><text fill=\"#000000\" font-family=\"sans-serif\" font-size=\"12\" lengthAdjust=\"spacingAndGlyphs\" textLength=\"16\" x=\"347\" y=\"71.1074\">p2</text><line style=\"stroke: #383838; stroke-width: 1.5;\" x1=\"337\" x2=\"377\" y1=\"78.9375\" y2=\"78.9375\"/></a><!--MD5=[60a26617385b1d2d0262a64233df1f8d]\n",
       "class E6--><a href=\"psysml:5cdadcae-4d33-45cc-84a1-e26eca79ba4d\" target=\"_top\" title=\"psysml:5cdadcae-4d33-45cc-84a1-e26eca79ba4d\" xlink:actuate=\"onRequest\" xlink:href=\"psysml:5cdadcae-4d33-45cc-84a1-e26eca79ba4d\" xlink:show=\"new\" xlink:title=\"psysml:5cdadcae-4d33-45cc-84a1-e26eca79ba4d\" xlink:type=\"simple\"><rect fill=\"#FFFFFF\" height=\"45.9375\" id=\"E6\" style=\"stroke: #383838; stroke-width: 1.5;\" width=\"114\" x=\"162\" y=\"244\"/><text fill=\"#000000\" font-family=\"sans-serif\" font-size=\"12\" font-style=\"italic\" lengthAdjust=\"spacingAndGlyphs\" textLength=\"112\" x=\"163\" y=\"260.1387\">«connection  def»</text><text fill=\"#000000\" font-family=\"sans-serif\" font-size=\"12\" lengthAdjust=\"spacingAndGlyphs\" textLength=\"8\" x=\"215\" y=\"274.1074\">A</text><line style=\"stroke: #383838; stroke-width: 1.5;\" x1=\"163\" x2=\"275\" y1=\"281.9375\" y2=\"281.9375\"/></a><!--MD5=[2156ba9850f5573cc1fc38a6a4b2f02b]\n",
       "class E7--><a href=\"psysml:7fb982ae-cae7-41b0-848a-52bb93191ec3\" target=\"_top\" title=\"psysml:7fb982ae-cae7-41b0-848a-52bb93191ec3\" xlink:actuate=\"onRequest\" xlink:href=\"psysml:7fb982ae-cae7-41b0-848a-52bb93191ec3\" xlink:show=\"new\" xlink:title=\"psysml:7fb982ae-cae7-41b0-848a-52bb93191ec3\" xlink:type=\"simple\"><rect fill=\"#FFFFFF\" height=\"45.9375\" id=\"E7\" rx=\"10\" ry=\"10\" style=\"stroke: #383838; stroke-width: 1.5;\" width=\"42\" x=\"336\" y=\"284\"/><text fill=\"#000000\" font-family=\"sans-serif\" font-size=\"12\" font-style=\"italic\" lengthAdjust=\"spacingAndGlyphs\" textLength=\"40\" x=\"337\" y=\"300.1387\">«port»</text><text fill=\"#000000\" font-family=\"sans-serif\" font-size=\"12\" lengthAdjust=\"spacingAndGlyphs\" textLength=\"32\" x=\"339\" y=\"314.1074\">p1: P</text><line style=\"stroke: #383838; stroke-width: 1.5;\" x1=\"337\" x2=\"377\" y1=\"321.9375\" y2=\"321.9375\"/></a><!--MD5=[b9389687b975829384b498ac4b7476b2]\n",
       "class E8--><a href=\"psysml:5c21b9df-62cf-4ee8-9145-76efb13de7e4\" target=\"_top\" title=\"psysml:5c21b9df-62cf-4ee8-9145-76efb13de7e4\" xlink:actuate=\"onRequest\" xlink:href=\"psysml:5c21b9df-62cf-4ee8-9145-76efb13de7e4\" xlink:show=\"new\" xlink:title=\"psysml:5c21b9df-62cf-4ee8-9145-76efb13de7e4\" xlink:type=\"simple\"><rect fill=\"#FFFFFF\" height=\"45.9375\" id=\"E8\" rx=\"10\" ry=\"10\" style=\"stroke: #383838; stroke-width: 1.5;\" width=\"42\" x=\"336\" y=\"203\"/><text fill=\"#000000\" font-family=\"sans-serif\" font-size=\"12\" font-style=\"italic\" lengthAdjust=\"spacingAndGlyphs\" textLength=\"40\" x=\"337\" y=\"219.1387\">«port»</text><text fill=\"#000000\" font-family=\"sans-serif\" font-size=\"12\" lengthAdjust=\"spacingAndGlyphs\" textLength=\"16\" x=\"347\" y=\"233.1074\">p2</text><line style=\"stroke: #383838; stroke-width: 1.5;\" x1=\"337\" x2=\"377\" y1=\"240.9375\" y2=\"240.9375\"/></a><!--MD5=[fd4143e9d270a159db93a4ea2a975926]\n",
       "class E9--><a href=\"psysml:2bbab23f-cc40-4354-88cc-493e0b41ffd4\" target=\"_top\" title=\"psysml:2bbab23f-cc40-4354-88cc-493e0b41ffd4\" xlink:actuate=\"onRequest\" xlink:href=\"psysml:2bbab23f-cc40-4354-88cc-493e0b41ffd4\" xlink:show=\"new\" xlink:title=\"psysml:2bbab23f-cc40-4354-88cc-493e0b41ffd4\" xlink:type=\"simple\"><rect fill=\"#FFFFFF\" height=\"45.9375\" id=\"E9\" style=\"stroke: #383838; stroke-width: 1.5;\" width=\"100\" x=\"169\" y=\"406\"/><text fill=\"#000000\" font-family=\"sans-serif\" font-size=\"12\" font-style=\"italic\" lengthAdjust=\"spacingAndGlyphs\" textLength=\"98\" x=\"170\" y=\"422.1387\">«interface  def»</text><text fill=\"#000000\" font-family=\"sans-serif\" font-size=\"12\" lengthAdjust=\"spacingAndGlyphs\" textLength=\"3\" x=\"217.5\" y=\"436.1074\">I</text><line style=\"stroke: #383838; stroke-width: 1.5;\" x1=\"170\" x2=\"268\" y1=\"443.9375\" y2=\"443.9375\"/></a><!--MD5=[96f4274e9e20536e775497830990834d]\n",
       "class E10--><a href=\"psysml:e0785fbe-faad-409c-b39f-62ae49a7d6e0\" target=\"_top\" title=\"psysml:e0785fbe-faad-409c-b39f-62ae49a7d6e0\" xlink:actuate=\"onRequest\" xlink:href=\"psysml:e0785fbe-faad-409c-b39f-62ae49a7d6e0\" xlink:show=\"new\" xlink:title=\"psysml:e0785fbe-faad-409c-b39f-62ae49a7d6e0\" xlink:type=\"simple\"><rect fill=\"#FFFFFF\" height=\"45.9375\" id=\"E10\" rx=\"10\" ry=\"10\" style=\"stroke: #383838; stroke-width: 1.5;\" width=\"42\" x=\"336\" y=\"446\"/><text fill=\"#000000\" font-family=\"sans-serif\" font-size=\"12\" font-style=\"italic\" lengthAdjust=\"spacingAndGlyphs\" textLength=\"40\" x=\"337\" y=\"462.1387\">«port»</text><text fill=\"#000000\" font-family=\"sans-serif\" font-size=\"12\" lengthAdjust=\"spacingAndGlyphs\" textLength=\"32\" x=\"339\" y=\"476.1074\">p1: P</text><line style=\"stroke: #383838; stroke-width: 1.5;\" x1=\"337\" x2=\"377\" y1=\"483.9375\" y2=\"483.9375\"/></a><!--MD5=[1dd1bfd58a279cf63c5f349dbc8fc6a1]\n",
       "class E11--><a href=\"psysml:a18508b4-2f12-4bca-8dd1-291939c34d14\" target=\"_top\" title=\"psysml:a18508b4-2f12-4bca-8dd1-291939c34d14\" xlink:actuate=\"onRequest\" xlink:href=\"psysml:a18508b4-2f12-4bca-8dd1-291939c34d14\" xlink:show=\"new\" xlink:title=\"psysml:a18508b4-2f12-4bca-8dd1-291939c34d14\" xlink:type=\"simple\"><rect fill=\"#FFFFFF\" height=\"45.9375\" id=\"E11\" rx=\"10\" ry=\"10\" style=\"stroke: #383838; stroke-width: 1.5;\" width=\"42\" x=\"336\" y=\"365\"/><text fill=\"#000000\" font-family=\"sans-serif\" font-size=\"12\" font-style=\"italic\" lengthAdjust=\"spacingAndGlyphs\" textLength=\"40\" x=\"337\" y=\"381.1387\">«port»</text><text fill=\"#000000\" font-family=\"sans-serif\" font-size=\"12\" lengthAdjust=\"spacingAndGlyphs\" textLength=\"16\" x=\"347\" y=\"395.1074\">p2</text><line style=\"stroke: #383838; stroke-width: 1.5;\" x1=\"337\" x2=\"377\" y1=\"402.9375\" y2=\"402.9375\"/></a><!--MD5=[49a0ec8f00dab7302a31f22d0f0fe584]\n",
       "class E12--><a href=\"psysml:cd0027e5-9ed9-4216-bffa-1e31fa367fb3\" target=\"_top\" title=\"psysml:cd0027e5-9ed9-4216-bffa-1e31fa367fb3\" xlink:actuate=\"onRequest\" xlink:href=\"psysml:cd0027e5-9ed9-4216-bffa-1e31fa367fb3\" xlink:show=\"new\" xlink:title=\"psysml:cd0027e5-9ed9-4216-bffa-1e31fa367fb3\" xlink:type=\"simple\"><rect fill=\"#FFFFFF\" height=\"45.9375\" id=\"E12\" style=\"stroke: #383838; stroke-width: 1.5;\" width=\"70\" x=\"32\" y=\"546\"/><text fill=\"#000000\" font-family=\"sans-serif\" font-size=\"12\" font-style=\"italic\" lengthAdjust=\"spacingAndGlyphs\" textLength=\"68\" x=\"33\" y=\"562.1387\">«part  def»</text><text fill=\"#000000\" font-family=\"sans-serif\" font-size=\"12\" lengthAdjust=\"spacingAndGlyphs\" textLength=\"16\" x=\"59\" y=\"576.1074\">B1</text><line style=\"stroke: #383838; stroke-width: 1.5;\" x1=\"33\" x2=\"101\" y1=\"583.9375\" y2=\"583.9375\"/></a><!--MD5=[ee3c913d1a06f366521f9ef512b67efe]\n",
       "class E13--><a href=\"psysml:3cf8fc76-e05d-49bd-b29f-3b88a47b72de\" target=\"_top\" title=\"psysml:3cf8fc76-e05d-49bd-b29f-3b88a47b72de\" xlink:actuate=\"onRequest\" xlink:href=\"psysml:3cf8fc76-e05d-49bd-b29f-3b88a47b72de\" xlink:show=\"new\" xlink:title=\"psysml:3cf8fc76-e05d-49bd-b29f-3b88a47b72de\" xlink:type=\"simple\"><rect fill=\"#FFFFFF\" height=\"45.9375\" id=\"E13\" rx=\"10\" ry=\"10\" style=\"stroke: #383838; stroke-width: 1.5;\" width=\"42\" x=\"198\" y=\"546\"/><text fill=\"#000000\" font-family=\"sans-serif\" font-size=\"12\" font-style=\"italic\" lengthAdjust=\"spacingAndGlyphs\" textLength=\"40\" x=\"199\" y=\"562.1387\">«part»</text><text fill=\"#000000\" font-family=\"sans-serif\" font-size=\"12\" lengthAdjust=\"spacingAndGlyphs\" textLength=\"8\" x=\"213\" y=\"576.1074\">p</text><line style=\"stroke: #383838; stroke-width: 1.5;\" x1=\"199\" x2=\"239\" y1=\"583.9375\" y2=\"583.9375\"/></a><!--MD5=[bee11217b2f71d958a27249dc326068c]\n",
       "class E14--><a href=\"psysml:6cf362ef-4bb1-44a5-8272-767638a97c43\" target=\"_top\" title=\"psysml:6cf362ef-4bb1-44a5-8272-767638a97c43\" xlink:actuate=\"onRequest\" xlink:href=\"psysml:6cf362ef-4bb1-44a5-8272-767638a97c43\" xlink:show=\"new\" xlink:title=\"psysml:6cf362ef-4bb1-44a5-8272-767638a97c43\" xlink:type=\"simple\"><rect fill=\"#FFFFFF\" height=\"45.9375\" id=\"E14\" rx=\"10\" ry=\"10\" style=\"stroke: #383838; stroke-width: 1.5;\" width=\"42\" x=\"336\" y=\"527\"/><text fill=\"#000000\" font-family=\"sans-serif\" font-size=\"12\" font-style=\"italic\" lengthAdjust=\"spacingAndGlyphs\" textLength=\"40\" x=\"337\" y=\"543.1387\">«port»</text><text fill=\"#000000\" font-family=\"sans-serif\" font-size=\"12\" lengthAdjust=\"spacingAndGlyphs\" textLength=\"32\" x=\"339\" y=\"557.1074\">p1: P</text><line style=\"stroke: #383838; stroke-width: 1.5;\" x1=\"337\" x2=\"377\" y1=\"564.9375\" y2=\"564.9375\"/></a><!--MD5=[0c48fb7552dae8cbbef69381101a84c8]\n",
       "class E15--><a href=\"psysml:33e7cbb5-c462-4d34-9030-b3438d816b29\" target=\"_top\" title=\"psysml:33e7cbb5-c462-4d34-9030-b3438d816b29\" xlink:actuate=\"onRequest\" xlink:href=\"psysml:33e7cbb5-c462-4d34-9030-b3438d816b29\" xlink:show=\"new\" xlink:title=\"psysml:33e7cbb5-c462-4d34-9030-b3438d816b29\" xlink:type=\"simple\"><rect fill=\"#FFFFFF\" height=\"45.9375\" id=\"E15\" rx=\"10\" ry=\"10\" style=\"stroke: #383838; stroke-width: 1.5;\" width=\"42\" x=\"452\" y=\"527\"/><text fill=\"#000000\" font-family=\"sans-serif\" font-size=\"12\" font-style=\"italic\" lengthAdjust=\"spacingAndGlyphs\" textLength=\"40\" x=\"453\" y=\"543.1387\">«port»</text><text fill=\"#000000\" font-family=\"sans-serif\" font-size=\"12\" lengthAdjust=\"spacingAndGlyphs\" textLength=\"16\" x=\"463\" y=\"557.1074\">p2</text><line style=\"stroke: #383838; stroke-width: 1.5;\" x1=\"453\" x2=\"493\" y1=\"564.9375\" y2=\"564.9375\"/></a><!--MD5=[4672eba38e49728da53d11aeb285b987]\n",
       "reverse link E3 to E4--><a href=\"psysml:e09aa0cf-99c0-4ed5-833c-e6cdd9353c0b\" target=\"_top\" title=\"psysml:e09aa0cf-99c0-4ed5-833c-e6cdd9353c0b\" xlink:actuate=\"onRequest\" xlink:href=\"psysml:e09aa0cf-99c0-4ed5-833c-e6cdd9353c0b\" xlink:show=\"new\" xlink:title=\"psysml:e09aa0cf-99c0-4ed5-833c-e6cdd9353c0b\" xlink:type=\"simple\"><path d=\"M266.89,118.79 C290.35,125.69 317.53,133.69 335.65,139.01 \" fill=\"none\" id=\"E3&lt;-E4\" style=\"stroke: #383838; stroke-width: 1.0;\"/><polygon fill=\"#FFFFFF\" points=\"254.32,115.09,258.952,120.6167,265.8351,118.4667,261.2031,112.94,254.32,115.09\" style=\"stroke: #383838; stroke-width: 1.0;\"/><text fill=\"#000000\" font-family=\"sans-serif\" font-size=\"13\" lengthAdjust=\"spacingAndGlyphs\" textLength=\"8\" x=\"319.8866\" y=\"151.5692\">1</text></a><!--MD5=[185131fc0dcab0a4505a2ebe144e961b]\n",
       "link E4 to E2--><a href=\"psysml:d96439d0-54ae-42c8-b560-5f0ede470e61\" target=\"_top\" title=\"psysml:d96439d0-54ae-42c8-b560-5f0ede470e61\" xlink:actuate=\"onRequest\" xlink:href=\"psysml:d96439d0-54ae-42c8-b560-5f0ede470e61\" xlink:show=\"new\" xlink:title=\"psysml:d96439d0-54ae-42c8-b560-5f0ede470e61\" xlink:type=\"simple\"><path d=\"M369.75,168.21 C372.49,173.7 375.37,179.54 378,185 C404.72,240.51 434.42,305.17 453.14,346.32 \" fill=\"none\" id=\"E4-&gt;E2\" style=\"stroke: #383838; stroke-width: 1.0;\"/><polygon fill=\"#FFFFFF\" points=\"461.51,364.76,447.2803,350.3546,460.0275,344.5659,461.51,364.76\" style=\"stroke: #383838; stroke-width: 1.0;\"/><ellipse cx=\"446.7445\" cy=\"344.3377\" fill=\"#383838\" rx=\"2\" ry=\"2\" style=\"stroke: #383838; stroke-width: 1.0;\"/><ellipse cx=\"455.8496\" cy=\"340.2029\" fill=\"#383838\" rx=\"2\" ry=\"2\" style=\"stroke: #383838; stroke-width: 1.0;\"/></a><!--MD5=[191cde3d490a3f6d7bb551fe3ddca469]\n",
       "reverse link E3 to E5--><a href=\"psysml:880a21a1-46d7-4f3d-9543-241b40e3ab4a\" target=\"_top\" title=\"psysml:880a21a1-46d7-4f3d-9543-241b40e3ab4a\" xlink:actuate=\"onRequest\" xlink:href=\"psysml:880a21a1-46d7-4f3d-9543-241b40e3ab4a\" xlink:show=\"new\" xlink:title=\"psysml:880a21a1-46d7-4f3d-9543-241b40e3ab4a\" xlink:type=\"simple\"><path d=\"M266.89,90.86 C290.35,83.79 317.53,75.6 335.65,70.14 \" fill=\"none\" id=\"E3&lt;-E5\" style=\"stroke: #383838; stroke-width: 1.0;\"/><polygon fill=\"#FFFFFF\" points=\"254.32,94.65,261.2201,96.7449,265.8077,91.1813,258.9076,89.0864,254.32,94.65\" style=\"stroke: #383838; stroke-width: 1.0;\"/><text fill=\"#000000\" font-family=\"sans-serif\" font-size=\"13\" lengthAdjust=\"spacingAndGlyphs\" textLength=\"8\" x=\"319.8866\" y=\"86.4141\">1</text></a><!--MD5=[3f50a3473f1dfb74d3f76443e03635af]\n",
       "reverse link E6 to E7--><a href=\"psysml:98390341-db8e-40b6-aced-fec2311e0a9d\" target=\"_top\" title=\"psysml:98390341-db8e-40b6-aced-fec2311e0a9d\" xlink:actuate=\"onRequest\" xlink:href=\"psysml:98390341-db8e-40b6-aced-fec2311e0a9d\" xlink:show=\"new\" xlink:title=\"psysml:98390341-db8e-40b6-aced-fec2311e0a9d\" xlink:type=\"simple\"><path d=\"M288.65,287.19 C305.96,292.28 323.22,297.36 335.93,301.1 \" fill=\"none\" id=\"E6&lt;-E7\" style=\"stroke: #383838; stroke-width: 1.0;\"/><polygon fill=\"#FFFFFF\" points=\"276.1,283.5,280.7262,289.0316,287.6115,286.8889,282.9854,281.3572,276.1,283.5\" style=\"stroke: #383838; stroke-width: 1.0;\"/><text fill=\"#000000\" font-family=\"sans-serif\" font-size=\"13\" lengthAdjust=\"spacingAndGlyphs\" textLength=\"8\" x=\"319.9389\" y=\"313.708\">1</text></a><!--MD5=[583832df87f4419a098336a29a52fa00]\n",
       "link E7 to E2--><a href=\"psysml:6f9217eb-859f-4957-bc31-6c1306f83367\" target=\"_top\" title=\"psysml:6f9217eb-859f-4957-bc31-6c1306f83367\" xlink:actuate=\"onRequest\" xlink:href=\"psysml:6f9217eb-859f-4957-bc31-6c1306f83367\" xlink:show=\"new\" xlink:title=\"psysml:6f9217eb-859f-4957-bc31-6c1306f83367\" xlink:type=\"simple\"><path d=\"M378.12,321.29 C390.67,330.21 407.41,342.1 423.27,353.37 \" fill=\"none\" id=\"E7-&gt;E2\" style=\"stroke: #383838; stroke-width: 1.0;\"/><polygon fill=\"#FFFFFF\" points=\"439.58,364.97,420.0349,359.6794,428.1391,348.2635,439.58,364.97\" style=\"stroke: #383838; stroke-width: 1.0;\"/><ellipse cx=\"416.5448\" cy=\"354.749\" fill=\"#383838\" rx=\"2\" ry=\"2\" style=\"stroke: #383838; stroke-width: 1.0;\"/><ellipse cx=\"422.3335\" cy=\"346.5948\" fill=\"#383838\" rx=\"2\" ry=\"2\" style=\"stroke: #383838; stroke-width: 1.0;\"/></a><!--MD5=[f4cf0736d43fd73c4ef68817c49d37d5]\n",
       "reverse link E6 to E8--><a href=\"psysml:15a7c7be-761e-4e1c-a126-babbedfba5ca\" target=\"_top\" title=\"psysml:15a7c7be-761e-4e1c-a126-babbedfba5ca\" xlink:actuate=\"onRequest\" xlink:href=\"psysml:15a7c7be-761e-4e1c-a126-babbedfba5ca\" xlink:show=\"new\" xlink:title=\"psysml:15a7c7be-761e-4e1c-a126-babbedfba5ca\" xlink:type=\"simple\"><path d=\"M288.65,246.3 C305.96,241.08 323.22,235.88 335.93,232.05 \" fill=\"none\" id=\"E6&lt;-E8\" style=\"stroke: #383838; stroke-width: 1.0;\"/><polygon fill=\"#FFFFFF\" points=\"276.1,250.09,283.0001,252.1849,287.5877,246.6213,280.6876,244.5264,276.1,250.09\" style=\"stroke: #383838; stroke-width: 1.0;\"/><text fill=\"#000000\" font-family=\"sans-serif\" font-size=\"13\" lengthAdjust=\"spacingAndGlyphs\" textLength=\"8\" x=\"319.9389\" y=\"248.4671\">1</text></a><!--MD5=[23ac544a70576c3e717098101004234c]\n",
       "reverse link E9 to E10--><a href=\"psysml:a15de342-1742-4b99-9b86-ed8c6fb30ab8\" target=\"_top\" title=\"psysml:a15de342-1742-4b99-9b86-ed8c6fb30ab8\" xlink:actuate=\"onRequest\" xlink:href=\"psysml:a15de342-1742-4b99-9b86-ed8c6fb30ab8\" xlink:show=\"new\" xlink:title=\"psysml:a15de342-1742-4b99-9b86-ed8c6fb30ab8\" xlink:type=\"simple\"><path d=\"M281.72,447.15 C301.18,452.88 321.34,458.8 335.73,463.04 \" fill=\"none\" id=\"E9&lt;-E10\" style=\"stroke: #383838; stroke-width: 1.0;\"/><polygon fill=\"#FFFFFF\" points=\"269.1,443.44,273.732,448.9667,280.6151,446.8167,275.9831,441.29,269.1,443.44\" style=\"stroke: #383838; stroke-width: 1.0;\"/><text fill=\"#000000\" font-family=\"sans-serif\" font-size=\"13\" lengthAdjust=\"spacingAndGlyphs\" textLength=\"8\" x=\"319.9911\" y=\"475.6084\">1</text></a><!--MD5=[0f36bececdf0dff6e600d6f64214b0f1]\n",
       "link E10 to E2--><a href=\"psysml:81b1dfc1-849b-47a4-a859-9ae7a728ef15\" target=\"_top\" title=\"psysml:81b1dfc1-849b-47a4-a859-9ae7a728ef15\" xlink:actuate=\"onRequest\" xlink:href=\"psysml:81b1dfc1-849b-47a4-a859-9ae7a728ef15\" xlink:show=\"new\" xlink:title=\"psysml:81b1dfc1-849b-47a4-a859-9ae7a728ef15\" xlink:type=\"simple\"><path d=\"M378.12,454.71 C390.67,445.79 407.41,433.9 423.27,422.63 \" fill=\"none\" id=\"E10-&gt;E2\" style=\"stroke: #383838; stroke-width: 1.0;\"/><polygon fill=\"#FFFFFF\" points=\"439.58,411.03,428.1391,427.7365,420.0349,416.3206,439.58,411.03\" style=\"stroke: #383838; stroke-width: 1.0;\"/><ellipse cx=\"422.3335\" cy=\"429.4052\" fill=\"#383838\" rx=\"2\" ry=\"2\" style=\"stroke: #383838; stroke-width: 1.0;\"/><ellipse cx=\"416.5448\" cy=\"421.251\" fill=\"#383838\" rx=\"2\" ry=\"2\" style=\"stroke: #383838; stroke-width: 1.0;\"/></a><!--MD5=[1fc04a95fd77ad5ce46c1a3027516051]\n",
       "reverse link E9 to E11--><a href=\"psysml:fe2242fc-88cc-4430-bc2f-98e79ba2cc70\" target=\"_top\" title=\"psysml:fe2242fc-88cc-4430-bc2f-98e79ba2cc70\" xlink:actuate=\"onRequest\" xlink:href=\"psysml:fe2242fc-88cc-4430-bc2f-98e79ba2cc70\" xlink:show=\"new\" xlink:title=\"psysml:fe2242fc-88cc-4430-bc2f-98e79ba2cc70\" xlink:type=\"simple\"><path d=\"M281.72,410.39 C301.18,404.53 321.34,398.45 335.73,394.11 \" fill=\"none\" id=\"E9&lt;-E11\" style=\"stroke: #383838; stroke-width: 1.0;\"/><polygon fill=\"#FFFFFF\" points=\"269.1,414.2,276.0001,416.2949,280.5877,410.7313,273.6876,408.6364,269.1,414.2\" style=\"stroke: #383838; stroke-width: 1.0;\"/><text fill=\"#000000\" font-family=\"sans-serif\" font-size=\"13\" lengthAdjust=\"spacingAndGlyphs\" textLength=\"8\" x=\"319.9911\" y=\"410.3749\">1</text></a><!--MD5=[062ed86c389d1a88f61c6380d0491e17]\n",
       "reverse link E12 to E13--><a href=\"psysml:0c56cab0-046e-4827-a921-af226384c943\" target=\"_top\" title=\"psysml:0c56cab0-046e-4827-a921-af226384c943\" xlink:actuate=\"onRequest\" xlink:href=\"psysml:0c56cab0-046e-4827-a921-af226384c943\" xlink:show=\"new\" xlink:title=\"psysml:0c56cab0-046e-4827-a921-af226384c943\" xlink:type=\"simple\"><path d=\"M115.15,569 C143.02,569 176.85,569 197.91,569 \" fill=\"none\" id=\"E12&lt;-E13\" style=\"stroke: #383838; stroke-width: 1.0;\"/><polygon fill=\"#FFFFFF\" points=\"102.04,569,108.04,573,114.04,569,108.04,565,102.04,569\" style=\"stroke: #383838; stroke-width: 1.0;\"/><text fill=\"#000000\" font-family=\"sans-serif\" font-size=\"13\" lengthAdjust=\"spacingAndGlyphs\" textLength=\"8\" x=\"181.9126\" y=\"583.4886\">1</text></a><!--MD5=[01db00f33b28669d6d9febea71002831]\n",
       "reverse link E13 to E14--><a href=\"psysml:12334834-5f3e-4b20-9f0b-aad671391bfa\" target=\"_top\" title=\"psysml:12334834-5f3e-4b20-9f0b-aad671391bfa\" xlink:actuate=\"onRequest\" xlink:href=\"psysml:12334834-5f3e-4b20-9f0b-aad671391bfa\" xlink:show=\"new\" xlink:title=\"psysml:12334834-5f3e-4b20-9f0b-aad671391bfa\" xlink:type=\"simple\"><path d=\"M252.98,564.39 C278.85,560.78 314.02,555.86 335.85,552.82 \" fill=\"none\" id=\"E13&lt;-E14\" style=\"stroke: #383838; stroke-width: 1.0;\"/><polygon fill=\"#FFFFFF\" points=\"240.07,566.2,246.5662,569.3305,251.9544,564.538,245.4582,561.4076,240.07,566.2\" style=\"stroke: #383838; stroke-width: 1.0;\"/><text fill=\"#000000\" font-family=\"sans-serif\" font-size=\"13\" lengthAdjust=\"spacingAndGlyphs\" textLength=\"8\" x=\"320.1478\" y=\"568.0773\">1</text></a><!--MD5=[e5566ac99d7714697a7fbc17f6b550fe]\n",
       "link E14 to E2--><a href=\"psysml:f15866fc-26c5-4fac-ba02-f8f796eed5e8\" target=\"_top\" title=\"psysml:f15866fc-26c5-4fac-ba02-f8f796eed5e8\" xlink:actuate=\"onRequest\" xlink:href=\"psysml:f15866fc-26c5-4fac-ba02-f8f796eed5e8\" xlink:show=\"new\" xlink:title=\"psysml:f15866fc-26c5-4fac-ba02-f8f796eed5e8\" xlink:type=\"simple\"><path d=\"M374.33,526.79 C392.53,500.93 422.28,458.66 444.17,427.55 \" fill=\"none\" id=\"E14-&gt;E2\" style=\"stroke: #383838; stroke-width: 1.0;\"/><polygon fill=\"#FFFFFF\" points=\"455.7,411.17,450.4987,430.739,439.046,422.6871,455.7,411.17\" style=\"stroke: #383838; stroke-width: 1.0;\"/><ellipse cx=\"445.5843\" cy=\"434.2517\" fill=\"#383838\" rx=\"2\" ry=\"2\" style=\"stroke: #383838; stroke-width: 1.0;\"/><ellipse cx=\"437.4038\" cy=\"428.5003\" fill=\"#383838\" rx=\"2\" ry=\"2\" style=\"stroke: #383838; stroke-width: 1.0;\"/></a><!--MD5=[e9a5e828c71fd2209a11a152f562d491]\n",
       "reverse link E13 to E15--><a href=\"psysml:ce878baa-f80f-4009-adda-6088e19c872e\" target=\"_top\" title=\"psysml:ce878baa-f80f-4009-adda-6088e19c872e\" xlink:actuate=\"onRequest\" xlink:href=\"psysml:ce878baa-f80f-4009-adda-6088e19c872e\" xlink:show=\"new\" xlink:title=\"psysml:ce878baa-f80f-4009-adda-6088e19c872e\" xlink:type=\"simple\"><path d=\"M252.67,580.07 C284.78,589.41 335.06,599.96 378,591 C404.84,585.4 433.41,571.7 451.91,561.67 \" fill=\"none\" id=\"E13&lt;-E15\" style=\"stroke: #383838; stroke-width: 1.0;\"/><polygon fill=\"#FFFFFF\" points=\"240.1,576.19,244.6565,581.7791,251.5682,579.7227,247.0117,574.1336,240.1,576.19\" style=\"stroke: #383838; stroke-width: 1.0;\"/><text fill=\"#000000\" font-family=\"sans-serif\" font-size=\"13\" lengthAdjust=\"spacingAndGlyphs\" textLength=\"8\" x=\"435.9126\" y=\"579.8785\">1</text></a><!--MD5=[3afbdc645381407e1bc99677323a2513]\n",
       "link E14 to E15--><a href=\"psysml:1f31a0eb-24e7-4abd-8eab-15c525015988\" target=\"_top\" title=\"psysml:1f31a0eb-24e7-4abd-8eab-15c525015988\" xlink:actuate=\"onRequest\" xlink:href=\"psysml:1f31a0eb-24e7-4abd-8eab-15c525015988\" xlink:show=\"new\" xlink:title=\"psysml:1f31a0eb-24e7-4abd-8eab-15c525015988\" xlink:type=\"simple\"><path d=\"M378.12,559.99 C398.83,563.66 430.92,563.67 451.7,560.03 \" fill=\"none\" id=\"E14-E15\" style=\"stroke: #383838; stroke-width: 3.0;\"/></a><!--MD5=[3afbdc645381407e1bc99677323a2513]\n",
       "link E14 to E15--><a href=\"psysml:c2fd36d5-55a7-4367-ae55-c3f656adabca\" target=\"_top\" title=\"psysml:c2fd36d5-55a7-4367-ae55-c3f656adabca\" xlink:actuate=\"onRequest\" xlink:href=\"psysml:c2fd36d5-55a7-4367-ae55-c3f656adabca\" xlink:show=\"new\" xlink:title=\"psysml:c2fd36d5-55a7-4367-ae55-c3f656adabca\" xlink:type=\"simple\"><path d=\"M378.12,539.42 C398.83,535.54 430.92,535.53 451.7,539.38 \" fill=\"none\" id=\"E14-E15-1\" style=\"stroke: #383838; stroke-width: 3.0;\"/></a><!--MD5=[0060d52d958e0c28a396747e76a1b9e5]\n",
       "@startuml\r\n",
       "left to right direction\r\n",
       "skinparam monochrome true\r\n",
       "skinparam classbackgroundcolor white\r\n",
       "skinparam shadowing false\r\n",
       "skinparam wrapWidth 300\r\n",
       "hide circle\r\n",
       "\r\n",
       "package \"ConjugationTest\" as E1  [[psysml:4e179b45-ef84-478c-a2da-b16af7c43fe7 ]]  {\r\n",
       "comp def \"P\" as E2  <<(T,blue) port  def>> [[psysml:859d5a2d-b524-488b-9af4-e0f987adcacf ]] {\r\n",
       "}\r\n",
       "comp def \"B\" as E3  <<(T,blue) part  def>> [[psysml:615e73ac-8544-4e42-b424-8a4747867d0e ]] {\r\n",
       "}\r\n",
       "comp usage \"p1: P \" as E4  <<(T,blue) port>> [[psysml:37d2c32c-e4e6-4c0b-af75-96cd6556dd4d ]] {\r\n",
       "}\r\n",
       "comp usage \"p2 \" as E5  <<(T,blue) port>> [[psysml:a7d82e4a-e12d-4520-9ae6-c89754eb7506 ]] {\r\n",
       "}\r\n",
       "comp def \"A\" as E6  <<(T,blue) connection  def>> [[psysml:5cdadcae-4d33-45cc-84a1-e26eca79ba4d ]] {\r\n",
       "}\r\n",
       "comp usage \"p1: P \" as E7  <<(T,blue) port>> [[psysml:7fb982ae-cae7-41b0-848a-52bb93191ec3 ]] {\r\n",
       "}\r\n",
       "comp usage \"p2 \" as E8  <<(T,blue) port>> [[psysml:5c21b9df-62cf-4ee8-9145-76efb13de7e4 ]] {\r\n",
       "}\r\n",
       "comp def \"I\" as E9  <<(T,blue) interface  def>> [[psysml:2bbab23f-cc40-4354-88cc-493e0b41ffd4 ]] {\r\n",
       "}\r\n",
       "comp usage \"p1: P \" as E10  <<(T,blue) port>> [[psysml:e0785fbe-faad-409c-b39f-62ae49a7d6e0 ]] {\r\n",
       "}\r\n",
       "comp usage \"p2 \" as E11  <<(T,blue) port>> [[psysml:a18508b4-2f12-4bca-8dd1-291939c34d14 ]] {\r\n",
       "}\r\n",
       "comp def \"B1\" as E12  <<(T,blue) part  def>> [[psysml:cd0027e5-9ed9-4216-bffa-1e31fa367fb3 ]] {\r\n",
       "}\r\n",
       "comp usage \"p \" as E13  <<(T,blue) part>> [[psysml:3cf8fc76-e05d-49bd-b29f-3b88a47b72de ]] {\r\n",
       "}\r\n",
       "comp usage \"p1: P \" as E14  <<(T,blue) port>> [[psysml:6cf362ef-4bb1-44a5-8272-767638a97c43 ]] {\r\n",
       "}\r\n",
       "comp usage \"p2 \" as E15  <<(T,blue) port>> [[psysml:33e7cbb5-c462-4d34-9030-b3438d816b29 ]] {\r\n",
       "}\r\n",
       "}\r\n",
       "E3 o- - \"1\"E4 [[psysml:e09aa0cf-99c0-4ed5-833c-e6cdd9353c0b ]] \r\n",
       "E4 - -:|> E2 [[psysml:d96439d0-54ae-42c8-b560-5f0ede470e61 ]] \r\n",
       "E3 o- - \"1\"E5 [[psysml:880a21a1-46d7-4f3d-9543-241b40e3ab4a ]] \r\n",
       "E6 o- - \"1\"E7 [[psysml:98390341-db8e-40b6-aced-fec2311e0a9d ]] \r\n",
       "E7 - -:|> E2 [[psysml:6f9217eb-859f-4957-bc31-6c1306f83367 ]] \r\n",
       "E6 o- - \"1\"E8 [[psysml:15a7c7be-761e-4e1c-a126-babbedfba5ca ]] \r\n",
       "E9 o- - \"1\"E10 [[psysml:a15de342-1742-4b99-9b86-ed8c6fb30ab8 ]] \r\n",
       "E10 - -:|> E2 [[psysml:81b1dfc1-849b-47a4-a859-9ae7a728ef15 ]] \r\n",
       "E9 o- - \"1\"E11 [[psysml:fe2242fc-88cc-4430-bc2f-98e79ba2cc70 ]] \r\n",
       "E12 o- - \"1\"E13 [[psysml:0c56cab0-046e-4827-a921-af226384c943 ]] \r\n",
       "E13 o- - \"1\"E14 [[psysml:12334834-5f3e-4b20-9f0b-aad671391bfa ]] \r\n",
       "E14 - -:|> E2 [[psysml:f15866fc-26c5-4fac-ba02-f8f796eed5e8 ]] \r\n",
       "E13 o- - \"1\"E15 [[psysml:ce878baa-f80f-4009-adda-6088e19c872e ]] \r\n",
       "E14 -[thickness=3]- E15 [[psysml:1f31a0eb-24e7-4abd-8eab-15c525015988 ]] \r\n",
       "E14 -[thickness=3]- E15 [[psysml:c2fd36d5-55a7-4367-ae55-c3f656adabca ]] \r\n",
       "@enduml\r\n",
       "\n",
       "PlantUML version 1.2020.13(Sat Jun 13 12:26:38 UTC 2020)\n",
       "(EPL source distribution)\n",
       "Java Runtime: OpenJDK Runtime Environment\n",
       "JVM: OpenJDK 64-Bit Server VM\n",
       "Default Encoding: UTF-8\n",
       "Language: en\n",
       "Country: null\n",
       "--></g></svg>"
      ]
     },
     "execution_count": 17,
     "metadata": {},
     "output_type": "execute_result"
    }
   ],
   "source": [
    "%viz --style=\"LR\" --view=\"Tree\" \"ConjugationTest\""
   ]
  },
  {
   "cell_type": "code",
   "execution_count": 18,
   "id": "7ffc3ab8",
   "metadata": {
    "execution": {
     "iopub.execute_input": "2022-08-19T08:18:12.934564Z",
     "iopub.status.busy": "2022-08-19T08:18:12.934107Z",
     "iopub.status.idle": "2022-08-19T08:18:12.940660Z",
     "shell.execute_reply": "2022-08-19T08:18:12.941035Z"
    }
   },
   "outputs": [
    {
     "data": {
      "image/svg+xml": [
       "<?xml version=\"1.0\" encoding=\"UTF-8\" standalone=\"no\"?><svg xmlns=\"http://www.w3.org/2000/svg\" xmlns:xlink=\"http://www.w3.org/1999/xlink\" contentScriptType=\"application/ecmascript\" contentStyleType=\"text/css\" height=\"12px\" preserveAspectRatio=\"none\" style=\"width:12px;height:12px;\" version=\"1.1\" viewBox=\"0 0 12 12\" width=\"12px\" zoomAndPan=\"magnify\"><defs/><g><!--MD5=[19d285c9d72a204eba4e2cd117d745e8]\n",
       "@startuml\r\n",
       "left to right direction\r\n",
       "skinparam monochrome true\r\n",
       "skinparam classbackgroundcolor white\r\n",
       "skinparam shadowing false\r\n",
       "skinparam wrapWidth 300\r\n",
       "hide circle\r\n",
       "\r\n",
       "@enduml\r\n",
       "\n",
       "PlantUML version 1.2020.13(Sat Jun 13 12:26:38 UTC 2020)\n",
       "(EPL source distribution)\n",
       "Java Runtime: OpenJDK Runtime Environment\n",
       "JVM: OpenJDK 64-Bit Server VM\n",
       "Default Encoding: UTF-8\n",
       "Language: en\n",
       "Country: null\n",
       "--></g></svg>"
      ]
     },
     "execution_count": 18,
     "metadata": {},
     "output_type": "execute_result"
    }
   ],
   "source": [
    "%viz --style=\"LR\" --view=\"State\" \"ConjugationTest\""
   ]
  },
  {
   "cell_type": "code",
   "execution_count": 19,
   "id": "23494a5b",
   "metadata": {
    "execution": {
     "iopub.execute_input": "2022-08-19T08:18:12.991359Z",
     "iopub.status.busy": "2022-08-19T08:18:12.990880Z",
     "iopub.status.idle": "2022-08-19T08:18:13.040428Z",
     "shell.execute_reply": "2022-08-19T08:18:13.040731Z"
    }
   },
   "outputs": [
    {
     "data": {
      "image/svg+xml": [
       "<?xml version=\"1.0\" encoding=\"UTF-8\" standalone=\"no\"?><svg xmlns=\"http://www.w3.org/2000/svg\" xmlns:xlink=\"http://www.w3.org/1999/xlink\" contentScriptType=\"application/ecmascript\" contentStyleType=\"text/css\" height=\"556px\" preserveAspectRatio=\"none\" style=\"width:388px;height:556px;\" version=\"1.1\" viewBox=\"0 0 388 556\" width=\"388px\" zoomAndPan=\"magnify\"><defs/><g><!--MD5=[fbc87193dbaf4d95561dea2c320d4a47]\n",
       "cluster E1--><a href=\"psysml:4e179b45-ef84-478c-a2da-b16af7c43fe7\" target=\"_top\" title=\"psysml:4e179b45-ef84-478c-a2da-b16af7c43fe7\" xlink:actuate=\"onRequest\" xlink:href=\"psysml:4e179b45-ef84-478c-a2da-b16af7c43fe7\" xlink:show=\"new\" xlink:title=\"psysml:4e179b45-ef84-478c-a2da-b16af7c43fe7\" xlink:type=\"simple\"><polygon fill=\"#FFFFFF\" points=\"16,6,136,6,143,28.2969,366.36,28.2969,366.36,544,16,544,16,6\" style=\"stroke: #000000; stroke-width: 1.5;\"/><line style=\"stroke: #000000; stroke-width: 1.5;\" x1=\"16\" x2=\"143\" y1=\"28.2969\" y2=\"28.2969\"/><text fill=\"#000000\" font-family=\"sans-serif\" font-size=\"14\" font-weight=\"bold\" lengthAdjust=\"spacingAndGlyphs\" textLength=\"114\" x=\"20\" y=\"20.9951\">ConjugationTest</text></a><!--MD5=[d5e69f78d87373223dbae638b30a9c99]\n",
       "cluster E3--><a href=\"psysml:615e73ac-8544-4e42-b424-8a4747867d0e\" target=\"_top\" title=\"psysml:615e73ac-8544-4e42-b424-8a4747867d0e\" xlink:actuate=\"onRequest\" xlink:href=\"psysml:615e73ac-8544-4e42-b424-8a4747867d0e\" xlink:show=\"new\" xlink:title=\"psysml:615e73ac-8544-4e42-b424-8a4747867d0e\" xlink:type=\"simple\"><rect fill=\"#FFFFFF\" height=\"47\" id=\"E3\" style=\"stroke: #383838; stroke-width: 1.5;\" width=\"204\" x=\"52\" y=\"55\"/><rect fill=\"#F8F8F8\" height=\"37.9375\" style=\"stroke: #383838; stroke-width: 1.5;\" width=\"204\" x=\"52\" y=\"55\"/><text fill=\"#000000\" font-family=\"sans-serif\" font-size=\"12\" font-style=\"italic\" lengthAdjust=\"spacingAndGlyphs\" textLength=\"68\" x=\"120\" y=\"71.1387\">«part  def»</text><text fill=\"#000000\" font-family=\"sans-serif\" font-size=\"12\" lengthAdjust=\"spacingAndGlyphs\" textLength=\"8\" x=\"150\" y=\"85.1074\">B</text></a><!--MD5=[14e3b0961a2654348d326746436168a1]\n",
       "cluster E6--><a href=\"psysml:5cdadcae-4d33-45cc-84a1-e26eca79ba4d\" target=\"_top\" title=\"psysml:5cdadcae-4d33-45cc-84a1-e26eca79ba4d\" xlink:actuate=\"onRequest\" xlink:href=\"psysml:5cdadcae-4d33-45cc-84a1-e26eca79ba4d\" xlink:show=\"new\" xlink:title=\"psysml:5cdadcae-4d33-45cc-84a1-e26eca79ba4d\" xlink:type=\"simple\"><rect fill=\"#FFFFFF\" height=\"47\" id=\"E6\" style=\"stroke: #383838; stroke-width: 1.5;\" width=\"229.5\" x=\"52\" y=\"149\"/><rect fill=\"#F8F8F8\" height=\"37.9375\" style=\"stroke: #383838; stroke-width: 1.5;\" width=\"229.5\" x=\"52\" y=\"149\"/><text fill=\"#000000\" font-family=\"sans-serif\" font-size=\"12\" font-style=\"italic\" lengthAdjust=\"spacingAndGlyphs\" textLength=\"112\" x=\"110.75\" y=\"165.1387\">«connection  def»</text><text fill=\"#000000\" font-family=\"sans-serif\" font-size=\"12\" lengthAdjust=\"spacingAndGlyphs\" textLength=\"8\" x=\"162.75\" y=\"179.1074\">A</text></a><!--MD5=[7f149f147074ac12df2cb0a7728a5fb0]\n",
       "cluster E9--><a href=\"psysml:2bbab23f-cc40-4354-88cc-493e0b41ffd4\" target=\"_top\" title=\"psysml:2bbab23f-cc40-4354-88cc-493e0b41ffd4\" xlink:actuate=\"onRequest\" xlink:href=\"psysml:2bbab23f-cc40-4354-88cc-493e0b41ffd4\" xlink:show=\"new\" xlink:title=\"psysml:2bbab23f-cc40-4354-88cc-493e0b41ffd4\" xlink:type=\"simple\"><rect fill=\"#FFFFFF\" height=\"47\" id=\"E9\" style=\"stroke: #383838; stroke-width: 1.5;\" width=\"220.5\" x=\"52\" y=\"243\"/><rect fill=\"#F8F8F8\" height=\"37.9375\" style=\"stroke: #383838; stroke-width: 1.5;\" width=\"220.5\" x=\"52\" y=\"243\"/><text fill=\"#000000\" font-family=\"sans-serif\" font-size=\"12\" font-style=\"italic\" lengthAdjust=\"spacingAndGlyphs\" textLength=\"98\" x=\"113.25\" y=\"259.1387\">«interface  def»</text><text fill=\"#000000\" font-family=\"sans-serif\" font-size=\"12\" lengthAdjust=\"spacingAndGlyphs\" textLength=\"3\" x=\"160.75\" y=\"273.1074\">I</text></a><!--MD5=[47bea60c1a0ac6c1143df232041969c0]\n",
       "cluster E12--><a href=\"psysml:cd0027e5-9ed9-4216-bffa-1e31fa367fb3\" target=\"_top\" title=\"psysml:cd0027e5-9ed9-4216-bffa-1e31fa367fb3\" xlink:actuate=\"onRequest\" xlink:href=\"psysml:cd0027e5-9ed9-4216-bffa-1e31fa367fb3\" xlink:show=\"new\" xlink:title=\"psysml:cd0027e5-9ed9-4216-bffa-1e31fa367fb3\" xlink:type=\"simple\"><rect fill=\"#FFFFFF\" height=\"148\" id=\"E12\" style=\"stroke: #383838; stroke-width: 1.5;\" width=\"302.36\" x=\"40\" y=\"320\"/><rect fill=\"#F8F8F8\" height=\"37.9375\" style=\"stroke: #383838; stroke-width: 1.5;\" width=\"302.36\" x=\"40\" y=\"320\"/><text fill=\"#000000\" font-family=\"sans-serif\" font-size=\"12\" font-style=\"italic\" lengthAdjust=\"spacingAndGlyphs\" textLength=\"68\" x=\"157.18\" y=\"336.1387\">«part  def»</text><text fill=\"#000000\" font-family=\"sans-serif\" font-size=\"12\" lengthAdjust=\"spacingAndGlyphs\" textLength=\"16\" x=\"183.18\" y=\"350.1074\">B1</text></a><!--MD5=[03104f77b71e2d8d3500c651e6e31181]\n",
       "cluster E13--><a href=\"psysml:3cf8fc76-e05d-49bd-b29f-3b88a47b72de\" target=\"_top\" title=\"psysml:3cf8fc76-e05d-49bd-b29f-3b88a47b72de\" xlink:actuate=\"onRequest\" xlink:href=\"psysml:3cf8fc76-e05d-49bd-b29f-3b88a47b72de\" xlink:show=\"new\" xlink:title=\"psysml:3cf8fc76-e05d-49bd-b29f-3b88a47b72de\" xlink:type=\"simple\"><rect fill=\"#FFFFFF\" height=\"65\" id=\"E13\" rx=\"10\" ry=\"10\" style=\"stroke: #383838; stroke-width: 1.5;\" width=\"260.36\" x=\"70\" y=\"371\"/><rect fill=\"#F8F8F8\" height=\"23.9688\" rx=\"10\" ry=\"10\" style=\"stroke: #F8F8F8; stroke-width: 1.5;\" width=\"260.36\" x=\"70\" y=\"371\"/><rect fill=\"#F8F8F8\" height=\"10\" style=\"stroke: #F8F8F8; stroke-width: 1.5;\" width=\"260.36\" x=\"70\" y=\"384.9688\"/><rect fill=\"none\" height=\"65\" id=\"E13\" rx=\"10\" ry=\"10\" style=\"stroke: #383838; stroke-width: 1.5;\" width=\"260.36\" x=\"70\" y=\"371\"/><text fill=\"#000000\" font-family=\"sans-serif\" font-size=\"12\" lengthAdjust=\"spacingAndGlyphs\" textLength=\"8\" x=\"196.18\" y=\"387.1387\">p</text><line style=\"stroke: #383838; stroke-width: 1.0;\" x1=\"70\" x2=\"330.36\" y1=\"394.9688\" y2=\"394.9688\"/></a><g id=\"E1.E2\"><a href=\"psysml:859d5a2d-b524-488b-9af4-e0f987adcacf\" target=\"_top\" title=\"psysml:859d5a2d-b524-488b-9af4-e0f987adcacf\" xlink:actuate=\"onRequest\" xlink:href=\"psysml:859d5a2d-b524-488b-9af4-e0f987adcacf\" xlink:show=\"new\" xlink:title=\"psysml:859d5a2d-b524-488b-9af4-e0f987adcacf\" xlink:type=\"simple\"><rect fill=\"#FFFFFF\" height=\"42.9375\" id=\"E2\" style=\"stroke: #383838; stroke-width: 1.5;\" width=\"75\" x=\"32.5\" y=\"484.5\"/><rect fill=\"#F8F8F8\" height=\"37.9375\" style=\"stroke: #383838; stroke-width: 1.5;\" width=\"75\" x=\"32.5\" y=\"484.5\"/><text fill=\"#000000\" font-family=\"sans-serif\" font-size=\"12\" font-style=\"italic\" lengthAdjust=\"spacingAndGlyphs\" textLength=\"68\" x=\"36\" y=\"500.6387\">«port  def»</text><text fill=\"#000000\" font-family=\"sans-serif\" font-size=\"12\" lengthAdjust=\"spacingAndGlyphs\" textLength=\"8\" x=\"66\" y=\"514.6074\">P</text></a></g><text fill=\"#000000\" font-family=\"sans-serif\" font-size=\"14\" lengthAdjust=\"spacingAndGlyphs\" textLength=\"36\" x=\"50\" y=\"120.9951\">p1: P</text><rect fill=\"#383838\" height=\"12\" style=\"stroke: #F8F8F8; stroke-width: 1.5;\" width=\"12\" x=\"64\" y=\"96\"/><text fill=\"#000000\" font-family=\"sans-serif\" font-size=\"14\" lengthAdjust=\"spacingAndGlyphs\" textLength=\"18\" x=\"59\" y=\"33.6982\">p2</text><rect fill=\"#383838\" height=\"12\" style=\"stroke: #F8F8F8; stroke-width: 1.5;\" width=\"12\" x=\"64\" y=\"49\"/><text fill=\"#000000\" font-family=\"sans-serif\" font-size=\"14\" lengthAdjust=\"spacingAndGlyphs\" textLength=\"36\" x=\"50\" y=\"214.9951\">p1: P</text><rect fill=\"#383838\" height=\"12\" style=\"stroke: #F8F8F8; stroke-width: 1.5;\" width=\"12\" x=\"64\" y=\"190\"/><text fill=\"#000000\" font-family=\"sans-serif\" font-size=\"14\" lengthAdjust=\"spacingAndGlyphs\" textLength=\"18\" x=\"59\" y=\"127.6982\">p2</text><rect fill=\"#383838\" height=\"12\" style=\"stroke: #F8F8F8; stroke-width: 1.5;\" width=\"12\" x=\"64\" y=\"143\"/><text fill=\"#000000\" font-family=\"sans-serif\" font-size=\"14\" lengthAdjust=\"spacingAndGlyphs\" textLength=\"36\" x=\"50\" y=\"308.9951\">p1: P</text><rect fill=\"#383838\" height=\"12\" style=\"stroke: #F8F8F8; stroke-width: 1.5;\" width=\"12\" x=\"64\" y=\"284\"/><text fill=\"#000000\" font-family=\"sans-serif\" font-size=\"14\" lengthAdjust=\"spacingAndGlyphs\" textLength=\"18\" x=\"59\" y=\"221.6982\">p2</text><rect fill=\"#383838\" height=\"12\" style=\"stroke: #F8F8F8; stroke-width: 1.5;\" width=\"12\" x=\"64\" y=\"237\"/><text fill=\"#000000\" font-family=\"sans-serif\" font-size=\"14\" lengthAdjust=\"spacingAndGlyphs\" textLength=\"36\" x=\"292.36\" y=\"454.9951\">p1: P</text><rect fill=\"#383838\" height=\"12\" style=\"stroke: #F8F8F8; stroke-width: 1.5;\" width=\"12\" x=\"306.36\" y=\"430\"/><text fill=\"#000000\" font-family=\"sans-serif\" font-size=\"14\" lengthAdjust=\"spacingAndGlyphs\" textLength=\"18\" x=\"59\" y=\"444.9951\">p2</text><rect fill=\"#383838\" height=\"12\" style=\"stroke: #F8F8F8; stroke-width: 1.5;\" width=\"12\" x=\"64\" y=\"420\"/><!--MD5=[3afbdc645381407e1bc99677323a2513]\n",
       "link E14 to E15--><a href=\"psysml:1f31a0eb-24e7-4abd-8eab-15c525015988\" target=\"_top\" title=\"psysml:1f31a0eb-24e7-4abd-8eab-15c525015988\" xlink:actuate=\"onRequest\" xlink:href=\"psysml:1f31a0eb-24e7-4abd-8eab-15c525015988\" xlink:show=\"new\" xlink:title=\"psysml:1f31a0eb-24e7-4abd-8eab-15c525015988\" xlink:type=\"simple\"><path d=\"M307.83,429.83 C305.9,425.19 302.93,420.21 298.36,417 C231.85,370.3 193.95,395.76 115.5,417 C97.88,421.77 80.08,435.45 73.58,432.21 \" fill=\"none\" id=\"E14-E15\" style=\"stroke: #383838; stroke-width: 3.0;\"/></a><!--MD5=[3afbdc645381407e1bc99677323a2513]\n",
       "link E14 to E15--><a href=\"psysml:c2fd36d5-55a7-4367-ae55-c3f656adabca\" target=\"_top\" title=\"psysml:c2fd36d5-55a7-4367-ae55-c3f656adabca\" xlink:actuate=\"onRequest\" xlink:href=\"psysml:c2fd36d5-55a7-4367-ae55-c3f656adabca\" xlink:show=\"new\" xlink:title=\"psysml:c2fd36d5-55a7-4367-ae55-c3f656adabca\" xlink:type=\"simple\"><path d=\"M311.37,429.83 C311.38,412.46 310.76,390.71 298.36,382 C231.85,335.3 193.95,360.76 115.5,382 C95.98,387.28 76.24,403.5 71.89,419.61 \" fill=\"none\" id=\"E14-E15-1\" style=\"stroke: #383838; stroke-width: 3.0;\"/></a><!--MD5=[10c901b0b58989451f3b73ae8876bb3e]\n",
       "@startuml\r\n",
       "skinparam ranksep 10\r\n",
       "skinparam rectangle {\r\n",
       " backgroundColor<<block>> LightGreen\r\n",
       "}\r\n",
       "left to right direction\r\n",
       "skinparam monochrome true\r\n",
       "skinparam classbackgroundcolor white\r\n",
       "skinparam shadowing false\r\n",
       "skinparam wrapWidth 300\r\n",
       "hide circle\r\n",
       "\r\n",
       "package \"ConjugationTest\" as E1  [[psysml:4e179b45-ef84-478c-a2da-b16af7c43fe7 ]]  {\r\n",
       "def \"P\" as E2  <<(T,blue) port  def>> [[psysml:859d5a2d-b524-488b-9af4-e0f987adcacf ]] \r\n",
       "rec def \"B\" as E3  <<(T,blue) part  def>> [[psysml:615e73ac-8544-4e42-b424-8a4747867d0e ]] {\r\n",
       "portin \"p1: P \" as E4  <<(T,blue) port>> [[psysml:37d2c32c-e4e6-4c0b-af75-96cd6556dd4d ]] \r\n",
       "portin \"p2 \" as E5  <<(T,blue) port>> [[psysml:a7d82e4a-e12d-4520-9ae6-c89754eb7506 ]] \r\n",
       "}\r\n",
       "rec def \"A\" as E6  <<(T,blue) connection  def>> [[psysml:5cdadcae-4d33-45cc-84a1-e26eca79ba4d ]] {\r\n",
       "portin \"p1: P \" as E7  <<(T,blue) port>> [[psysml:7fb982ae-cae7-41b0-848a-52bb93191ec3 ]] \r\n",
       "portin \"p2 \" as E8  <<(T,blue) port>> [[psysml:5c21b9df-62cf-4ee8-9145-76efb13de7e4 ]] \r\n",
       "}\r\n",
       "rec def \"I\" as E9  <<(T,blue) interface  def>> [[psysml:2bbab23f-cc40-4354-88cc-493e0b41ffd4 ]] {\r\n",
       "portin \"p1: P \" as E10  <<(T,blue) port>> [[psysml:e0785fbe-faad-409c-b39f-62ae49a7d6e0 ]] \r\n",
       "portin \"p2 \" as E11  <<(T,blue) port>> [[psysml:a18508b4-2f12-4bca-8dd1-291939c34d14 ]] \r\n",
       "}\r\n",
       "rec def \"B1\" as E12  <<(T,blue) part  def>> [[psysml:cd0027e5-9ed9-4216-bffa-1e31fa367fb3 ]] {\r\n",
       "rec usage \"p\" as E13  [[psysml:3cf8fc76-e05d-49bd-b29f-3b88a47b72de ]] {\r\n",
       "portout \"p1: P \" as E14  <<(T,blue) port>> [[psysml:6cf362ef-4bb1-44a5-8272-767638a97c43 ]] \r\n",
       "portin \"p2 \" as E15  <<(T,blue) port>> [[psysml:33e7cbb5-c462-4d34-9030-b3438d816b29 ]] \r\n",
       "}\r\n",
       "}\r\n",
       "}\r\n",
       "E14 -[thickness=3]- E15 [[psysml:1f31a0eb-24e7-4abd-8eab-15c525015988 ]] \r\n",
       "E14 -[thickness=3]- E15 [[psysml:c2fd36d5-55a7-4367-ae55-c3f656adabca ]] \r\n",
       "@enduml\r\n",
       "\n",
       "PlantUML version 1.2020.13(Sat Jun 13 12:26:38 UTC 2020)\n",
       "(EPL source distribution)\n",
       "Java Runtime: OpenJDK Runtime Environment\n",
       "JVM: OpenJDK 64-Bit Server VM\n",
       "Default Encoding: UTF-8\n",
       "Language: en\n",
       "Country: null\n",
       "--></g></svg>"
      ]
     },
     "execution_count": 19,
     "metadata": {},
     "output_type": "execute_result"
    }
   ],
   "source": [
    "%viz --style=\"LR\" --view=\"Interconnection\" \"ConjugationTest\""
   ]
  },
  {
   "cell_type": "code",
   "execution_count": 20,
   "id": "85cc097f",
   "metadata": {
    "execution": {
     "iopub.execute_input": "2022-08-19T08:18:13.090598Z",
     "iopub.status.busy": "2022-08-19T08:18:13.090142Z",
     "iopub.status.idle": "2022-08-19T08:18:13.096922Z",
     "shell.execute_reply": "2022-08-19T08:18:13.096535Z"
    }
   },
   "outputs": [
    {
     "data": {
      "image/svg+xml": [
       "<?xml version=\"1.0\" encoding=\"UTF-8\" standalone=\"no\"?><svg xmlns=\"http://www.w3.org/2000/svg\" xmlns:xlink=\"http://www.w3.org/1999/xlink\" contentScriptType=\"application/ecmascript\" contentStyleType=\"text/css\" height=\"12px\" preserveAspectRatio=\"none\" style=\"width:12px;height:12px;\" version=\"1.1\" viewBox=\"0 0 12 12\" width=\"12px\" zoomAndPan=\"magnify\"><defs/><g><!--MD5=[7aeb398939421629f6affaa4a1a7b125]\n",
       "@startuml\r\n",
       "skinparam ranksep 8\r\n",
       "left to right direction\r\n",
       "skinparam monochrome true\r\n",
       "skinparam classbackgroundcolor white\r\n",
       "skinparam shadowing false\r\n",
       "skinparam wrapWidth 300\r\n",
       "hide circle\r\n",
       "\r\n",
       "@enduml\r\n",
       "\n",
       "PlantUML version 1.2020.13(Sat Jun 13 12:26:38 UTC 2020)\n",
       "(EPL source distribution)\n",
       "Java Runtime: OpenJDK Runtime Environment\n",
       "JVM: OpenJDK 64-Bit Server VM\n",
       "Default Encoding: UTF-8\n",
       "Language: en\n",
       "Country: null\n",
       "--></g></svg>"
      ]
     },
     "execution_count": 20,
     "metadata": {},
     "output_type": "execute_result"
    }
   ],
   "source": [
    "%viz --style=\"LR\" --view=\"Action\" \"ConjugationTest\""
   ]
  },
  {
   "cell_type": "code",
   "execution_count": 21,
   "id": "841fccdd",
   "metadata": {
    "execution": {
     "iopub.execute_input": "2022-08-19T08:18:13.146894Z",
     "iopub.status.busy": "2022-08-19T08:18:13.146436Z",
     "iopub.status.idle": "2022-08-19T08:18:13.152312Z",
     "shell.execute_reply": "2022-08-19T08:18:13.152635Z"
    }
   },
   "outputs": [
    {
     "data": {
      "image/svg+xml": [
       "<?xml version=\"1.0\" encoding=\"UTF-8\" standalone=\"no\"?><svg xmlns=\"http://www.w3.org/2000/svg\" xmlns:xlink=\"http://www.w3.org/1999/xlink\" contentScriptType=\"application/ecmascript\" contentStyleType=\"text/css\" height=\"12px\" preserveAspectRatio=\"none\" style=\"width:12px;height:12px;\" version=\"1.1\" viewBox=\"0 0 12 12\" width=\"12px\" zoomAndPan=\"magnify\"><defs/><g><!--MD5=[238c11ea2002f03115ad6b49a457d50e]\n",
       "@startuml\r\n",
       "skinparam roundcorner 20\r\n",
       "skinparam BoxPadding 20\r\n",
       "skinparam SequenceBoxBackgroundColor #white\r\n",
       "skinparam style strictuml\r\n",
       "skinparam maxMessageSize 100\r\n",
       "left to right direction\r\n",
       "skinparam monochrome true\r\n",
       "skinparam classbackgroundcolor white\r\n",
       "skinparam shadowing false\r\n",
       "skinparam wrapWidth 300\r\n",
       "hide circle\r\n",
       "\r\n",
       "@enduml\r\n",
       "\n",
       "PlantUML version 1.2020.13(Sat Jun 13 12:26:38 UTC 2020)\n",
       "(EPL source distribution)\n",
       "Java Runtime: OpenJDK Runtime Environment\n",
       "JVM: OpenJDK 64-Bit Server VM\n",
       "Default Encoding: UTF-8\n",
       "Language: en\n",
       "Country: null\n",
       "--></g></svg>"
      ]
     },
     "execution_count": 21,
     "metadata": {},
     "output_type": "execute_result"
    }
   ],
   "source": [
    "%viz --style=\"LR\" --view=\"Sequence\" \"ConjugationTest\""
   ]
  },
  {
   "cell_type": "code",
   "execution_count": 22,
   "id": "dbce1758",
   "metadata": {
    "execution": {
     "iopub.execute_input": "2022-08-19T08:18:13.202791Z",
     "iopub.status.busy": "2022-08-19T08:18:13.202321Z",
     "iopub.status.idle": "2022-08-19T08:18:13.262980Z",
     "shell.execute_reply": "2022-08-19T08:18:13.262555Z"
    }
   },
   "outputs": [
    {
     "data": {
      "image/svg+xml": [
       "<?xml version=\"1.0\" encoding=\"UTF-8\" standalone=\"no\"?><svg xmlns=\"http://www.w3.org/2000/svg\" xmlns:xlink=\"http://www.w3.org/1999/xlink\" contentScriptType=\"application/ecmascript\" contentStyleType=\"text/css\" height=\"638px\" preserveAspectRatio=\"none\" style=\"width:546px;height:638px;\" version=\"1.1\" viewBox=\"0 0 546 638\" width=\"546px\" zoomAndPan=\"magnify\"><defs/><g><!--MD5=[fbc87193dbaf4d95561dea2c320d4a47]\n",
       "cluster E1--><a href=\"psysml:4e179b45-ef84-478c-a2da-b16af7c43fe7\" target=\"_top\" title=\"psysml:4e179b45-ef84-478c-a2da-b16af7c43fe7\" xlink:actuate=\"onRequest\" xlink:href=\"psysml:4e179b45-ef84-478c-a2da-b16af7c43fe7\" xlink:show=\"new\" xlink:title=\"psysml:4e179b45-ef84-478c-a2da-b16af7c43fe7\" xlink:type=\"simple\"><polygon fill=\"#FFFFFF\" points=\"16,6,136,6,143,28.2969,524,28.2969,524,626,16,626,16,6\" style=\"stroke: #000000; stroke-width: 1.5;\"/><line style=\"stroke: #000000; stroke-width: 1.5;\" x1=\"16\" x2=\"143\" y1=\"28.2969\" y2=\"28.2969\"/><text fill=\"#000000\" font-family=\"sans-serif\" font-size=\"14\" font-weight=\"bold\" lengthAdjust=\"spacingAndGlyphs\" textLength=\"114\" x=\"20\" y=\"20.9951\">ConjugationTest</text></a><!--MD5=[b4997ac47864f28c2f74865a473b2911]\n",
       "class E2--><a href=\"psysml:859d5a2d-b524-488b-9af4-e0f987adcacf\" target=\"_top\" title=\"psysml:859d5a2d-b524-488b-9af4-e0f987adcacf\" xlink:actuate=\"onRequest\" xlink:href=\"psysml:859d5a2d-b524-488b-9af4-e0f987adcacf\" xlink:show=\"new\" xlink:title=\"psysml:859d5a2d-b524-488b-9af4-e0f987adcacf\" xlink:type=\"simple\"><rect fill=\"#FFFFFF\" height=\"45.9375\" id=\"E2\" style=\"stroke: #383838; stroke-width: 1.5;\" width=\"70\" x=\"438\" y=\"365\"/><text fill=\"#000000\" font-family=\"sans-serif\" font-size=\"12\" font-style=\"italic\" lengthAdjust=\"spacingAndGlyphs\" textLength=\"68\" x=\"439\" y=\"381.1387\">«port  def»</text><text fill=\"#000000\" font-family=\"sans-serif\" font-size=\"12\" lengthAdjust=\"spacingAndGlyphs\" textLength=\"8\" x=\"469\" y=\"395.1074\">P</text><line style=\"stroke: #383838; stroke-width: 1.5;\" x1=\"439\" x2=\"507\" y1=\"402.9375\" y2=\"402.9375\"/></a><!--MD5=[09b614a08d8cba4a07c9adeb5e0fee81]\n",
       "class E3--><a href=\"psysml:615e73ac-8544-4e42-b424-8a4747867d0e\" target=\"_top\" title=\"psysml:615e73ac-8544-4e42-b424-8a4747867d0e\" xlink:actuate=\"onRequest\" xlink:href=\"psysml:615e73ac-8544-4e42-b424-8a4747867d0e\" xlink:show=\"new\" xlink:title=\"psysml:615e73ac-8544-4e42-b424-8a4747867d0e\" xlink:type=\"simple\"><rect fill=\"#FFFFFF\" height=\"45.9375\" id=\"E3\" style=\"stroke: #383838; stroke-width: 1.5;\" width=\"70\" x=\"184\" y=\"82\"/><text fill=\"#000000\" font-family=\"sans-serif\" font-size=\"12\" font-style=\"italic\" lengthAdjust=\"spacingAndGlyphs\" textLength=\"68\" x=\"185\" y=\"98.1387\">«part  def»</text><text fill=\"#000000\" font-family=\"sans-serif\" font-size=\"12\" lengthAdjust=\"spacingAndGlyphs\" textLength=\"8\" x=\"215\" y=\"112.1074\">B</text><line style=\"stroke: #383838; stroke-width: 1.5;\" x1=\"185\" x2=\"253\" y1=\"119.9375\" y2=\"119.9375\"/></a><!--MD5=[ebbe1d658d1005bcc118a6aa81145e00]\n",
       "class E4--><a href=\"psysml:37d2c32c-e4e6-4c0b-af75-96cd6556dd4d\" target=\"_top\" title=\"psysml:37d2c32c-e4e6-4c0b-af75-96cd6556dd4d\" xlink:actuate=\"onRequest\" xlink:href=\"psysml:37d2c32c-e4e6-4c0b-af75-96cd6556dd4d\" xlink:show=\"new\" xlink:title=\"psysml:37d2c32c-e4e6-4c0b-af75-96cd6556dd4d\" xlink:type=\"simple\"><rect fill=\"#FFFFFF\" height=\"45.9375\" id=\"E4\" rx=\"10\" ry=\"10\" style=\"stroke: #383838; stroke-width: 1.5;\" width=\"42\" x=\"336\" y=\"122\"/><text fill=\"#000000\" font-family=\"sans-serif\" font-size=\"12\" font-style=\"italic\" lengthAdjust=\"spacingAndGlyphs\" textLength=\"40\" x=\"337\" y=\"138.1387\">«port»</text><text fill=\"#000000\" font-family=\"sans-serif\" font-size=\"12\" lengthAdjust=\"spacingAndGlyphs\" textLength=\"32\" x=\"339\" y=\"152.1074\">p1: P</text><line style=\"stroke: #383838; stroke-width: 1.5;\" x1=\"337\" x2=\"377\" y1=\"159.9375\" y2=\"159.9375\"/></a><!--MD5=[270fce915f116d4de14055a7c1d9a0f3]\n",
       "class E5--><a href=\"psysml:a7d82e4a-e12d-4520-9ae6-c89754eb7506\" target=\"_top\" title=\"psysml:a7d82e4a-e12d-4520-9ae6-c89754eb7506\" xlink:actuate=\"onRequest\" xlink:href=\"psysml:a7d82e4a-e12d-4520-9ae6-c89754eb7506\" xlink:show=\"new\" xlink:title=\"psysml:a7d82e4a-e12d-4520-9ae6-c89754eb7506\" xlink:type=\"simple\"><rect fill=\"#FFFFFF\" height=\"45.9375\" id=\"E5\" rx=\"10\" ry=\"10\" style=\"stroke: #383838; stroke-width: 1.5;\" width=\"42\" x=\"336\" y=\"41\"/><text fill=\"#000000\" font-family=\"sans-serif\" font-size=\"12\" font-style=\"italic\" lengthAdjust=\"spacingAndGlyphs\" textLength=\"40\" x=\"337\" y=\"57.1387\">«port»</text><text fill=\"#000000\" font-family=\"sans-serif\" font-size=\"12\" lengthAdjust=\"spacingAndGlyphs\" textLength=\"16\" x=\"347\" y=\"71.1074\">p2</text><line style=\"stroke: #383838; stroke-width: 1.5;\" x1=\"337\" x2=\"377\" y1=\"78.9375\" y2=\"78.9375\"/></a><!--MD5=[60a26617385b1d2d0262a64233df1f8d]\n",
       "class E6--><a href=\"psysml:5cdadcae-4d33-45cc-84a1-e26eca79ba4d\" target=\"_top\" title=\"psysml:5cdadcae-4d33-45cc-84a1-e26eca79ba4d\" xlink:actuate=\"onRequest\" xlink:href=\"psysml:5cdadcae-4d33-45cc-84a1-e26eca79ba4d\" xlink:show=\"new\" xlink:title=\"psysml:5cdadcae-4d33-45cc-84a1-e26eca79ba4d\" xlink:type=\"simple\"><rect fill=\"#FFFFFF\" height=\"45.9375\" id=\"E6\" style=\"stroke: #383838; stroke-width: 1.5;\" width=\"114\" x=\"162\" y=\"244\"/><text fill=\"#000000\" font-family=\"sans-serif\" font-size=\"12\" font-style=\"italic\" lengthAdjust=\"spacingAndGlyphs\" textLength=\"112\" x=\"163\" y=\"260.1387\">«connection  def»</text><text fill=\"#000000\" font-family=\"sans-serif\" font-size=\"12\" lengthAdjust=\"spacingAndGlyphs\" textLength=\"8\" x=\"215\" y=\"274.1074\">A</text><line style=\"stroke: #383838; stroke-width: 1.5;\" x1=\"163\" x2=\"275\" y1=\"281.9375\" y2=\"281.9375\"/></a><!--MD5=[2156ba9850f5573cc1fc38a6a4b2f02b]\n",
       "class E7--><a href=\"psysml:7fb982ae-cae7-41b0-848a-52bb93191ec3\" target=\"_top\" title=\"psysml:7fb982ae-cae7-41b0-848a-52bb93191ec3\" xlink:actuate=\"onRequest\" xlink:href=\"psysml:7fb982ae-cae7-41b0-848a-52bb93191ec3\" xlink:show=\"new\" xlink:title=\"psysml:7fb982ae-cae7-41b0-848a-52bb93191ec3\" xlink:type=\"simple\"><rect fill=\"#FFFFFF\" height=\"45.9375\" id=\"E7\" rx=\"10\" ry=\"10\" style=\"stroke: #383838; stroke-width: 1.5;\" width=\"42\" x=\"336\" y=\"284\"/><text fill=\"#000000\" font-family=\"sans-serif\" font-size=\"12\" font-style=\"italic\" lengthAdjust=\"spacingAndGlyphs\" textLength=\"40\" x=\"337\" y=\"300.1387\">«port»</text><text fill=\"#000000\" font-family=\"sans-serif\" font-size=\"12\" lengthAdjust=\"spacingAndGlyphs\" textLength=\"32\" x=\"339\" y=\"314.1074\">p1: P</text><line style=\"stroke: #383838; stroke-width: 1.5;\" x1=\"337\" x2=\"377\" y1=\"321.9375\" y2=\"321.9375\"/></a><!--MD5=[b9389687b975829384b498ac4b7476b2]\n",
       "class E8--><a href=\"psysml:5c21b9df-62cf-4ee8-9145-76efb13de7e4\" target=\"_top\" title=\"psysml:5c21b9df-62cf-4ee8-9145-76efb13de7e4\" xlink:actuate=\"onRequest\" xlink:href=\"psysml:5c21b9df-62cf-4ee8-9145-76efb13de7e4\" xlink:show=\"new\" xlink:title=\"psysml:5c21b9df-62cf-4ee8-9145-76efb13de7e4\" xlink:type=\"simple\"><rect fill=\"#FFFFFF\" height=\"45.9375\" id=\"E8\" rx=\"10\" ry=\"10\" style=\"stroke: #383838; stroke-width: 1.5;\" width=\"42\" x=\"336\" y=\"203\"/><text fill=\"#000000\" font-family=\"sans-serif\" font-size=\"12\" font-style=\"italic\" lengthAdjust=\"spacingAndGlyphs\" textLength=\"40\" x=\"337\" y=\"219.1387\">«port»</text><text fill=\"#000000\" font-family=\"sans-serif\" font-size=\"12\" lengthAdjust=\"spacingAndGlyphs\" textLength=\"16\" x=\"347\" y=\"233.1074\">p2</text><line style=\"stroke: #383838; stroke-width: 1.5;\" x1=\"337\" x2=\"377\" y1=\"240.9375\" y2=\"240.9375\"/></a><!--MD5=[fd4143e9d270a159db93a4ea2a975926]\n",
       "class E9--><a href=\"psysml:2bbab23f-cc40-4354-88cc-493e0b41ffd4\" target=\"_top\" title=\"psysml:2bbab23f-cc40-4354-88cc-493e0b41ffd4\" xlink:actuate=\"onRequest\" xlink:href=\"psysml:2bbab23f-cc40-4354-88cc-493e0b41ffd4\" xlink:show=\"new\" xlink:title=\"psysml:2bbab23f-cc40-4354-88cc-493e0b41ffd4\" xlink:type=\"simple\"><rect fill=\"#FFFFFF\" height=\"45.9375\" id=\"E9\" style=\"stroke: #383838; stroke-width: 1.5;\" width=\"100\" x=\"169\" y=\"406\"/><text fill=\"#000000\" font-family=\"sans-serif\" font-size=\"12\" font-style=\"italic\" lengthAdjust=\"spacingAndGlyphs\" textLength=\"98\" x=\"170\" y=\"422.1387\">«interface  def»</text><text fill=\"#000000\" font-family=\"sans-serif\" font-size=\"12\" lengthAdjust=\"spacingAndGlyphs\" textLength=\"3\" x=\"217.5\" y=\"436.1074\">I</text><line style=\"stroke: #383838; stroke-width: 1.5;\" x1=\"170\" x2=\"268\" y1=\"443.9375\" y2=\"443.9375\"/></a><!--MD5=[96f4274e9e20536e775497830990834d]\n",
       "class E10--><a href=\"psysml:e0785fbe-faad-409c-b39f-62ae49a7d6e0\" target=\"_top\" title=\"psysml:e0785fbe-faad-409c-b39f-62ae49a7d6e0\" xlink:actuate=\"onRequest\" xlink:href=\"psysml:e0785fbe-faad-409c-b39f-62ae49a7d6e0\" xlink:show=\"new\" xlink:title=\"psysml:e0785fbe-faad-409c-b39f-62ae49a7d6e0\" xlink:type=\"simple\"><rect fill=\"#FFFFFF\" height=\"45.9375\" id=\"E10\" rx=\"10\" ry=\"10\" style=\"stroke: #383838; stroke-width: 1.5;\" width=\"42\" x=\"336\" y=\"446\"/><text fill=\"#000000\" font-family=\"sans-serif\" font-size=\"12\" font-style=\"italic\" lengthAdjust=\"spacingAndGlyphs\" textLength=\"40\" x=\"337\" y=\"462.1387\">«port»</text><text fill=\"#000000\" font-family=\"sans-serif\" font-size=\"12\" lengthAdjust=\"spacingAndGlyphs\" textLength=\"32\" x=\"339\" y=\"476.1074\">p1: P</text><line style=\"stroke: #383838; stroke-width: 1.5;\" x1=\"337\" x2=\"377\" y1=\"483.9375\" y2=\"483.9375\"/></a><!--MD5=[1dd1bfd58a279cf63c5f349dbc8fc6a1]\n",
       "class E11--><a href=\"psysml:a18508b4-2f12-4bca-8dd1-291939c34d14\" target=\"_top\" title=\"psysml:a18508b4-2f12-4bca-8dd1-291939c34d14\" xlink:actuate=\"onRequest\" xlink:href=\"psysml:a18508b4-2f12-4bca-8dd1-291939c34d14\" xlink:show=\"new\" xlink:title=\"psysml:a18508b4-2f12-4bca-8dd1-291939c34d14\" xlink:type=\"simple\"><rect fill=\"#FFFFFF\" height=\"45.9375\" id=\"E11\" rx=\"10\" ry=\"10\" style=\"stroke: #383838; stroke-width: 1.5;\" width=\"42\" x=\"336\" y=\"365\"/><text fill=\"#000000\" font-family=\"sans-serif\" font-size=\"12\" font-style=\"italic\" lengthAdjust=\"spacingAndGlyphs\" textLength=\"40\" x=\"337\" y=\"381.1387\">«port»</text><text fill=\"#000000\" font-family=\"sans-serif\" font-size=\"12\" lengthAdjust=\"spacingAndGlyphs\" textLength=\"16\" x=\"347\" y=\"395.1074\">p2</text><line style=\"stroke: #383838; stroke-width: 1.5;\" x1=\"337\" x2=\"377\" y1=\"402.9375\" y2=\"402.9375\"/></a><!--MD5=[49a0ec8f00dab7302a31f22d0f0fe584]\n",
       "class E12--><a href=\"psysml:cd0027e5-9ed9-4216-bffa-1e31fa367fb3\" target=\"_top\" title=\"psysml:cd0027e5-9ed9-4216-bffa-1e31fa367fb3\" xlink:actuate=\"onRequest\" xlink:href=\"psysml:cd0027e5-9ed9-4216-bffa-1e31fa367fb3\" xlink:show=\"new\" xlink:title=\"psysml:cd0027e5-9ed9-4216-bffa-1e31fa367fb3\" xlink:type=\"simple\"><rect fill=\"#FFFFFF\" height=\"45.9375\" id=\"E12\" style=\"stroke: #383838; stroke-width: 1.5;\" width=\"70\" x=\"32\" y=\"546\"/><text fill=\"#000000\" font-family=\"sans-serif\" font-size=\"12\" font-style=\"italic\" lengthAdjust=\"spacingAndGlyphs\" textLength=\"68\" x=\"33\" y=\"562.1387\">«part  def»</text><text fill=\"#000000\" font-family=\"sans-serif\" font-size=\"12\" lengthAdjust=\"spacingAndGlyphs\" textLength=\"16\" x=\"59\" y=\"576.1074\">B1</text><line style=\"stroke: #383838; stroke-width: 1.5;\" x1=\"33\" x2=\"101\" y1=\"583.9375\" y2=\"583.9375\"/></a><!--MD5=[ee3c913d1a06f366521f9ef512b67efe]\n",
       "class E13--><a href=\"psysml:3cf8fc76-e05d-49bd-b29f-3b88a47b72de\" target=\"_top\" title=\"psysml:3cf8fc76-e05d-49bd-b29f-3b88a47b72de\" xlink:actuate=\"onRequest\" xlink:href=\"psysml:3cf8fc76-e05d-49bd-b29f-3b88a47b72de\" xlink:show=\"new\" xlink:title=\"psysml:3cf8fc76-e05d-49bd-b29f-3b88a47b72de\" xlink:type=\"simple\"><rect fill=\"#FFFFFF\" height=\"45.9375\" id=\"E13\" rx=\"10\" ry=\"10\" style=\"stroke: #383838; stroke-width: 1.5;\" width=\"42\" x=\"198\" y=\"546\"/><text fill=\"#000000\" font-family=\"sans-serif\" font-size=\"12\" font-style=\"italic\" lengthAdjust=\"spacingAndGlyphs\" textLength=\"40\" x=\"199\" y=\"562.1387\">«part»</text><text fill=\"#000000\" font-family=\"sans-serif\" font-size=\"12\" lengthAdjust=\"spacingAndGlyphs\" textLength=\"8\" x=\"213\" y=\"576.1074\">p</text><line style=\"stroke: #383838; stroke-width: 1.5;\" x1=\"199\" x2=\"239\" y1=\"583.9375\" y2=\"583.9375\"/></a><!--MD5=[bee11217b2f71d958a27249dc326068c]\n",
       "class E14--><a href=\"psysml:6cf362ef-4bb1-44a5-8272-767638a97c43\" target=\"_top\" title=\"psysml:6cf362ef-4bb1-44a5-8272-767638a97c43\" xlink:actuate=\"onRequest\" xlink:href=\"psysml:6cf362ef-4bb1-44a5-8272-767638a97c43\" xlink:show=\"new\" xlink:title=\"psysml:6cf362ef-4bb1-44a5-8272-767638a97c43\" xlink:type=\"simple\"><rect fill=\"#FFFFFF\" height=\"45.9375\" id=\"E14\" rx=\"10\" ry=\"10\" style=\"stroke: #383838; stroke-width: 1.5;\" width=\"42\" x=\"336\" y=\"527\"/><text fill=\"#000000\" font-family=\"sans-serif\" font-size=\"12\" font-style=\"italic\" lengthAdjust=\"spacingAndGlyphs\" textLength=\"40\" x=\"337\" y=\"543.1387\">«port»</text><text fill=\"#000000\" font-family=\"sans-serif\" font-size=\"12\" lengthAdjust=\"spacingAndGlyphs\" textLength=\"32\" x=\"339\" y=\"557.1074\">p1: P</text><line style=\"stroke: #383838; stroke-width: 1.5;\" x1=\"337\" x2=\"377\" y1=\"564.9375\" y2=\"564.9375\"/></a><!--MD5=[0c48fb7552dae8cbbef69381101a84c8]\n",
       "class E15--><a href=\"psysml:33e7cbb5-c462-4d34-9030-b3438d816b29\" target=\"_top\" title=\"psysml:33e7cbb5-c462-4d34-9030-b3438d816b29\" xlink:actuate=\"onRequest\" xlink:href=\"psysml:33e7cbb5-c462-4d34-9030-b3438d816b29\" xlink:show=\"new\" xlink:title=\"psysml:33e7cbb5-c462-4d34-9030-b3438d816b29\" xlink:type=\"simple\"><rect fill=\"#FFFFFF\" height=\"45.9375\" id=\"E15\" rx=\"10\" ry=\"10\" style=\"stroke: #383838; stroke-width: 1.5;\" width=\"42\" x=\"452\" y=\"527\"/><text fill=\"#000000\" font-family=\"sans-serif\" font-size=\"12\" font-style=\"italic\" lengthAdjust=\"spacingAndGlyphs\" textLength=\"40\" x=\"453\" y=\"543.1387\">«port»</text><text fill=\"#000000\" font-family=\"sans-serif\" font-size=\"12\" lengthAdjust=\"spacingAndGlyphs\" textLength=\"16\" x=\"463\" y=\"557.1074\">p2</text><line style=\"stroke: #383838; stroke-width: 1.5;\" x1=\"453\" x2=\"493\" y1=\"564.9375\" y2=\"564.9375\"/></a><!--MD5=[4672eba38e49728da53d11aeb285b987]\n",
       "reverse link E3 to E4--><a href=\"psysml:e09aa0cf-99c0-4ed5-833c-e6cdd9353c0b\" target=\"_top\" title=\"psysml:e09aa0cf-99c0-4ed5-833c-e6cdd9353c0b\" xlink:actuate=\"onRequest\" xlink:href=\"psysml:e09aa0cf-99c0-4ed5-833c-e6cdd9353c0b\" xlink:show=\"new\" xlink:title=\"psysml:e09aa0cf-99c0-4ed5-833c-e6cdd9353c0b\" xlink:type=\"simple\"><path d=\"M266.89,118.79 C290.35,125.69 317.53,133.69 335.65,139.01 \" fill=\"none\" id=\"E3&lt;-E4\" style=\"stroke: #383838; stroke-width: 1.0;\"/><polygon fill=\"#FFFFFF\" points=\"254.32,115.09,258.952,120.6167,265.8351,118.4667,261.2031,112.94,254.32,115.09\" style=\"stroke: #383838; stroke-width: 1.0;\"/><text fill=\"#000000\" font-family=\"sans-serif\" font-size=\"13\" lengthAdjust=\"spacingAndGlyphs\" textLength=\"8\" x=\"319.8866\" y=\"151.5692\">1</text></a><!--MD5=[185131fc0dcab0a4505a2ebe144e961b]\n",
       "link E4 to E2--><a href=\"psysml:d96439d0-54ae-42c8-b560-5f0ede470e61\" target=\"_top\" title=\"psysml:d96439d0-54ae-42c8-b560-5f0ede470e61\" xlink:actuate=\"onRequest\" xlink:href=\"psysml:d96439d0-54ae-42c8-b560-5f0ede470e61\" xlink:show=\"new\" xlink:title=\"psysml:d96439d0-54ae-42c8-b560-5f0ede470e61\" xlink:type=\"simple\"><path d=\"M369.75,168.21 C372.49,173.7 375.37,179.54 378,185 C404.72,240.51 434.42,305.17 453.14,346.32 \" fill=\"none\" id=\"E4-&gt;E2\" style=\"stroke: #383838; stroke-width: 1.0;\"/><polygon fill=\"#FFFFFF\" points=\"461.51,364.76,447.2803,350.3546,460.0275,344.5659,461.51,364.76\" style=\"stroke: #383838; stroke-width: 1.0;\"/><ellipse cx=\"446.7445\" cy=\"344.3377\" fill=\"#383838\" rx=\"2\" ry=\"2\" style=\"stroke: #383838; stroke-width: 1.0;\"/><ellipse cx=\"455.8496\" cy=\"340.2029\" fill=\"#383838\" rx=\"2\" ry=\"2\" style=\"stroke: #383838; stroke-width: 1.0;\"/></a><!--MD5=[191cde3d490a3f6d7bb551fe3ddca469]\n",
       "reverse link E3 to E5--><a href=\"psysml:880a21a1-46d7-4f3d-9543-241b40e3ab4a\" target=\"_top\" title=\"psysml:880a21a1-46d7-4f3d-9543-241b40e3ab4a\" xlink:actuate=\"onRequest\" xlink:href=\"psysml:880a21a1-46d7-4f3d-9543-241b40e3ab4a\" xlink:show=\"new\" xlink:title=\"psysml:880a21a1-46d7-4f3d-9543-241b40e3ab4a\" xlink:type=\"simple\"><path d=\"M266.89,90.86 C290.35,83.79 317.53,75.6 335.65,70.14 \" fill=\"none\" id=\"E3&lt;-E5\" style=\"stroke: #383838; stroke-width: 1.0;\"/><polygon fill=\"#FFFFFF\" points=\"254.32,94.65,261.2201,96.7449,265.8077,91.1813,258.9076,89.0864,254.32,94.65\" style=\"stroke: #383838; stroke-width: 1.0;\"/><text fill=\"#000000\" font-family=\"sans-serif\" font-size=\"13\" lengthAdjust=\"spacingAndGlyphs\" textLength=\"8\" x=\"319.8866\" y=\"86.4141\">1</text></a><!--MD5=[3f50a3473f1dfb74d3f76443e03635af]\n",
       "reverse link E6 to E7--><a href=\"psysml:98390341-db8e-40b6-aced-fec2311e0a9d\" target=\"_top\" title=\"psysml:98390341-db8e-40b6-aced-fec2311e0a9d\" xlink:actuate=\"onRequest\" xlink:href=\"psysml:98390341-db8e-40b6-aced-fec2311e0a9d\" xlink:show=\"new\" xlink:title=\"psysml:98390341-db8e-40b6-aced-fec2311e0a9d\" xlink:type=\"simple\"><path d=\"M288.65,287.19 C305.96,292.28 323.22,297.36 335.93,301.1 \" fill=\"none\" id=\"E6&lt;-E7\" style=\"stroke: #383838; stroke-width: 1.0;\"/><polygon fill=\"#FFFFFF\" points=\"276.1,283.5,280.7262,289.0316,287.6115,286.8889,282.9854,281.3572,276.1,283.5\" style=\"stroke: #383838; stroke-width: 1.0;\"/><text fill=\"#000000\" font-family=\"sans-serif\" font-size=\"13\" lengthAdjust=\"spacingAndGlyphs\" textLength=\"8\" x=\"319.9389\" y=\"313.708\">1</text></a><!--MD5=[583832df87f4419a098336a29a52fa00]\n",
       "link E7 to E2--><a href=\"psysml:6f9217eb-859f-4957-bc31-6c1306f83367\" target=\"_top\" title=\"psysml:6f9217eb-859f-4957-bc31-6c1306f83367\" xlink:actuate=\"onRequest\" xlink:href=\"psysml:6f9217eb-859f-4957-bc31-6c1306f83367\" xlink:show=\"new\" xlink:title=\"psysml:6f9217eb-859f-4957-bc31-6c1306f83367\" xlink:type=\"simple\"><path d=\"M378.12,321.29 C390.67,330.21 407.41,342.1 423.27,353.37 \" fill=\"none\" id=\"E7-&gt;E2\" style=\"stroke: #383838; stroke-width: 1.0;\"/><polygon fill=\"#FFFFFF\" points=\"439.58,364.97,420.0349,359.6794,428.1391,348.2635,439.58,364.97\" style=\"stroke: #383838; stroke-width: 1.0;\"/><ellipse cx=\"416.5448\" cy=\"354.749\" fill=\"#383838\" rx=\"2\" ry=\"2\" style=\"stroke: #383838; stroke-width: 1.0;\"/><ellipse cx=\"422.3335\" cy=\"346.5948\" fill=\"#383838\" rx=\"2\" ry=\"2\" style=\"stroke: #383838; stroke-width: 1.0;\"/></a><!--MD5=[f4cf0736d43fd73c4ef68817c49d37d5]\n",
       "reverse link E6 to E8--><a href=\"psysml:15a7c7be-761e-4e1c-a126-babbedfba5ca\" target=\"_top\" title=\"psysml:15a7c7be-761e-4e1c-a126-babbedfba5ca\" xlink:actuate=\"onRequest\" xlink:href=\"psysml:15a7c7be-761e-4e1c-a126-babbedfba5ca\" xlink:show=\"new\" xlink:title=\"psysml:15a7c7be-761e-4e1c-a126-babbedfba5ca\" xlink:type=\"simple\"><path d=\"M288.65,246.3 C305.96,241.08 323.22,235.88 335.93,232.05 \" fill=\"none\" id=\"E6&lt;-E8\" style=\"stroke: #383838; stroke-width: 1.0;\"/><polygon fill=\"#FFFFFF\" points=\"276.1,250.09,283.0001,252.1849,287.5877,246.6213,280.6876,244.5264,276.1,250.09\" style=\"stroke: #383838; stroke-width: 1.0;\"/><text fill=\"#000000\" font-family=\"sans-serif\" font-size=\"13\" lengthAdjust=\"spacingAndGlyphs\" textLength=\"8\" x=\"319.9389\" y=\"248.4671\">1</text></a><!--MD5=[23ac544a70576c3e717098101004234c]\n",
       "reverse link E9 to E10--><a href=\"psysml:a15de342-1742-4b99-9b86-ed8c6fb30ab8\" target=\"_top\" title=\"psysml:a15de342-1742-4b99-9b86-ed8c6fb30ab8\" xlink:actuate=\"onRequest\" xlink:href=\"psysml:a15de342-1742-4b99-9b86-ed8c6fb30ab8\" xlink:show=\"new\" xlink:title=\"psysml:a15de342-1742-4b99-9b86-ed8c6fb30ab8\" xlink:type=\"simple\"><path d=\"M281.72,447.15 C301.18,452.88 321.34,458.8 335.73,463.04 \" fill=\"none\" id=\"E9&lt;-E10\" style=\"stroke: #383838; stroke-width: 1.0;\"/><polygon fill=\"#FFFFFF\" points=\"269.1,443.44,273.732,448.9667,280.6151,446.8167,275.9831,441.29,269.1,443.44\" style=\"stroke: #383838; stroke-width: 1.0;\"/><text fill=\"#000000\" font-family=\"sans-serif\" font-size=\"13\" lengthAdjust=\"spacingAndGlyphs\" textLength=\"8\" x=\"319.9911\" y=\"475.6084\">1</text></a><!--MD5=[0f36bececdf0dff6e600d6f64214b0f1]\n",
       "link E10 to E2--><a href=\"psysml:81b1dfc1-849b-47a4-a859-9ae7a728ef15\" target=\"_top\" title=\"psysml:81b1dfc1-849b-47a4-a859-9ae7a728ef15\" xlink:actuate=\"onRequest\" xlink:href=\"psysml:81b1dfc1-849b-47a4-a859-9ae7a728ef15\" xlink:show=\"new\" xlink:title=\"psysml:81b1dfc1-849b-47a4-a859-9ae7a728ef15\" xlink:type=\"simple\"><path d=\"M378.12,454.71 C390.67,445.79 407.41,433.9 423.27,422.63 \" fill=\"none\" id=\"E10-&gt;E2\" style=\"stroke: #383838; stroke-width: 1.0;\"/><polygon fill=\"#FFFFFF\" points=\"439.58,411.03,428.1391,427.7365,420.0349,416.3206,439.58,411.03\" style=\"stroke: #383838; stroke-width: 1.0;\"/><ellipse cx=\"422.3335\" cy=\"429.4052\" fill=\"#383838\" rx=\"2\" ry=\"2\" style=\"stroke: #383838; stroke-width: 1.0;\"/><ellipse cx=\"416.5448\" cy=\"421.251\" fill=\"#383838\" rx=\"2\" ry=\"2\" style=\"stroke: #383838; stroke-width: 1.0;\"/></a><!--MD5=[1fc04a95fd77ad5ce46c1a3027516051]\n",
       "reverse link E9 to E11--><a href=\"psysml:fe2242fc-88cc-4430-bc2f-98e79ba2cc70\" target=\"_top\" title=\"psysml:fe2242fc-88cc-4430-bc2f-98e79ba2cc70\" xlink:actuate=\"onRequest\" xlink:href=\"psysml:fe2242fc-88cc-4430-bc2f-98e79ba2cc70\" xlink:show=\"new\" xlink:title=\"psysml:fe2242fc-88cc-4430-bc2f-98e79ba2cc70\" xlink:type=\"simple\"><path d=\"M281.72,410.39 C301.18,404.53 321.34,398.45 335.73,394.11 \" fill=\"none\" id=\"E9&lt;-E11\" style=\"stroke: #383838; stroke-width: 1.0;\"/><polygon fill=\"#FFFFFF\" points=\"269.1,414.2,276.0001,416.2949,280.5877,410.7313,273.6876,408.6364,269.1,414.2\" style=\"stroke: #383838; stroke-width: 1.0;\"/><text fill=\"#000000\" font-family=\"sans-serif\" font-size=\"13\" lengthAdjust=\"spacingAndGlyphs\" textLength=\"8\" x=\"319.9911\" y=\"410.3749\">1</text></a><!--MD5=[062ed86c389d1a88f61c6380d0491e17]\n",
       "reverse link E12 to E13--><a href=\"psysml:0c56cab0-046e-4827-a921-af226384c943\" target=\"_top\" title=\"psysml:0c56cab0-046e-4827-a921-af226384c943\" xlink:actuate=\"onRequest\" xlink:href=\"psysml:0c56cab0-046e-4827-a921-af226384c943\" xlink:show=\"new\" xlink:title=\"psysml:0c56cab0-046e-4827-a921-af226384c943\" xlink:type=\"simple\"><path d=\"M115.15,569 C143.02,569 176.85,569 197.91,569 \" fill=\"none\" id=\"E12&lt;-E13\" style=\"stroke: #383838; stroke-width: 1.0;\"/><polygon fill=\"#FFFFFF\" points=\"102.04,569,108.04,573,114.04,569,108.04,565,102.04,569\" style=\"stroke: #383838; stroke-width: 1.0;\"/><text fill=\"#000000\" font-family=\"sans-serif\" font-size=\"13\" lengthAdjust=\"spacingAndGlyphs\" textLength=\"8\" x=\"181.9126\" y=\"583.4886\">1</text></a><!--MD5=[01db00f33b28669d6d9febea71002831]\n",
       "reverse link E13 to E14--><a href=\"psysml:12334834-5f3e-4b20-9f0b-aad671391bfa\" target=\"_top\" title=\"psysml:12334834-5f3e-4b20-9f0b-aad671391bfa\" xlink:actuate=\"onRequest\" xlink:href=\"psysml:12334834-5f3e-4b20-9f0b-aad671391bfa\" xlink:show=\"new\" xlink:title=\"psysml:12334834-5f3e-4b20-9f0b-aad671391bfa\" xlink:type=\"simple\"><path d=\"M252.98,564.39 C278.85,560.78 314.02,555.86 335.85,552.82 \" fill=\"none\" id=\"E13&lt;-E14\" style=\"stroke: #383838; stroke-width: 1.0;\"/><polygon fill=\"#FFFFFF\" points=\"240.07,566.2,246.5662,569.3305,251.9544,564.538,245.4582,561.4076,240.07,566.2\" style=\"stroke: #383838; stroke-width: 1.0;\"/><text fill=\"#000000\" font-family=\"sans-serif\" font-size=\"13\" lengthAdjust=\"spacingAndGlyphs\" textLength=\"8\" x=\"320.1478\" y=\"568.0773\">1</text></a><!--MD5=[e5566ac99d7714697a7fbc17f6b550fe]\n",
       "link E14 to E2--><a href=\"psysml:f15866fc-26c5-4fac-ba02-f8f796eed5e8\" target=\"_top\" title=\"psysml:f15866fc-26c5-4fac-ba02-f8f796eed5e8\" xlink:actuate=\"onRequest\" xlink:href=\"psysml:f15866fc-26c5-4fac-ba02-f8f796eed5e8\" xlink:show=\"new\" xlink:title=\"psysml:f15866fc-26c5-4fac-ba02-f8f796eed5e8\" xlink:type=\"simple\"><path d=\"M374.33,526.79 C392.53,500.93 422.28,458.66 444.17,427.55 \" fill=\"none\" id=\"E14-&gt;E2\" style=\"stroke: #383838; stroke-width: 1.0;\"/><polygon fill=\"#FFFFFF\" points=\"455.7,411.17,450.4987,430.739,439.046,422.6871,455.7,411.17\" style=\"stroke: #383838; stroke-width: 1.0;\"/><ellipse cx=\"445.5843\" cy=\"434.2517\" fill=\"#383838\" rx=\"2\" ry=\"2\" style=\"stroke: #383838; stroke-width: 1.0;\"/><ellipse cx=\"437.4038\" cy=\"428.5003\" fill=\"#383838\" rx=\"2\" ry=\"2\" style=\"stroke: #383838; stroke-width: 1.0;\"/></a><!--MD5=[e9a5e828c71fd2209a11a152f562d491]\n",
       "reverse link E13 to E15--><a href=\"psysml:ce878baa-f80f-4009-adda-6088e19c872e\" target=\"_top\" title=\"psysml:ce878baa-f80f-4009-adda-6088e19c872e\" xlink:actuate=\"onRequest\" xlink:href=\"psysml:ce878baa-f80f-4009-adda-6088e19c872e\" xlink:show=\"new\" xlink:title=\"psysml:ce878baa-f80f-4009-adda-6088e19c872e\" xlink:type=\"simple\"><path d=\"M252.67,580.07 C284.78,589.41 335.06,599.96 378,591 C404.84,585.4 433.41,571.7 451.91,561.67 \" fill=\"none\" id=\"E13&lt;-E15\" style=\"stroke: #383838; stroke-width: 1.0;\"/><polygon fill=\"#FFFFFF\" points=\"240.1,576.19,244.6565,581.7791,251.5682,579.7227,247.0117,574.1336,240.1,576.19\" style=\"stroke: #383838; stroke-width: 1.0;\"/><text fill=\"#000000\" font-family=\"sans-serif\" font-size=\"13\" lengthAdjust=\"spacingAndGlyphs\" textLength=\"8\" x=\"435.9126\" y=\"579.8785\">1</text></a><!--MD5=[3afbdc645381407e1bc99677323a2513]\n",
       "link E14 to E15--><a href=\"psysml:1f31a0eb-24e7-4abd-8eab-15c525015988\" target=\"_top\" title=\"psysml:1f31a0eb-24e7-4abd-8eab-15c525015988\" xlink:actuate=\"onRequest\" xlink:href=\"psysml:1f31a0eb-24e7-4abd-8eab-15c525015988\" xlink:show=\"new\" xlink:title=\"psysml:1f31a0eb-24e7-4abd-8eab-15c525015988\" xlink:type=\"simple\"><path d=\"M378.12,559.99 C398.83,563.66 430.92,563.67 451.7,560.03 \" fill=\"none\" id=\"E14-E15\" style=\"stroke: #383838; stroke-width: 3.0;\"/></a><!--MD5=[3afbdc645381407e1bc99677323a2513]\n",
       "link E14 to E15--><a href=\"psysml:c2fd36d5-55a7-4367-ae55-c3f656adabca\" target=\"_top\" title=\"psysml:c2fd36d5-55a7-4367-ae55-c3f656adabca\" xlink:actuate=\"onRequest\" xlink:href=\"psysml:c2fd36d5-55a7-4367-ae55-c3f656adabca\" xlink:show=\"new\" xlink:title=\"psysml:c2fd36d5-55a7-4367-ae55-c3f656adabca\" xlink:type=\"simple\"><path d=\"M378.12,539.42 C398.83,535.54 430.92,535.53 451.7,539.38 \" fill=\"none\" id=\"E14-E15-1\" style=\"stroke: #383838; stroke-width: 3.0;\"/></a><!--MD5=[0060d52d958e0c28a396747e76a1b9e5]\n",
       "@startuml\r\n",
       "left to right direction\r\n",
       "skinparam monochrome true\r\n",
       "skinparam classbackgroundcolor white\r\n",
       "skinparam shadowing false\r\n",
       "skinparam wrapWidth 300\r\n",
       "hide circle\r\n",
       "\r\n",
       "package \"ConjugationTest\" as E1  [[psysml:4e179b45-ef84-478c-a2da-b16af7c43fe7 ]]  {\r\n",
       "comp def \"P\" as E2  <<(T,blue) port  def>> [[psysml:859d5a2d-b524-488b-9af4-e0f987adcacf ]] {\r\n",
       "}\r\n",
       "comp def \"B\" as E3  <<(T,blue) part  def>> [[psysml:615e73ac-8544-4e42-b424-8a4747867d0e ]] {\r\n",
       "}\r\n",
       "comp usage \"p1: P \" as E4  <<(T,blue) port>> [[psysml:37d2c32c-e4e6-4c0b-af75-96cd6556dd4d ]] {\r\n",
       "}\r\n",
       "comp usage \"p2 \" as E5  <<(T,blue) port>> [[psysml:a7d82e4a-e12d-4520-9ae6-c89754eb7506 ]] {\r\n",
       "}\r\n",
       "comp def \"A\" as E6  <<(T,blue) connection  def>> [[psysml:5cdadcae-4d33-45cc-84a1-e26eca79ba4d ]] {\r\n",
       "}\r\n",
       "comp usage \"p1: P \" as E7  <<(T,blue) port>> [[psysml:7fb982ae-cae7-41b0-848a-52bb93191ec3 ]] {\r\n",
       "}\r\n",
       "comp usage \"p2 \" as E8  <<(T,blue) port>> [[psysml:5c21b9df-62cf-4ee8-9145-76efb13de7e4 ]] {\r\n",
       "}\r\n",
       "comp def \"I\" as E9  <<(T,blue) interface  def>> [[psysml:2bbab23f-cc40-4354-88cc-493e0b41ffd4 ]] {\r\n",
       "}\r\n",
       "comp usage \"p1: P \" as E10  <<(T,blue) port>> [[psysml:e0785fbe-faad-409c-b39f-62ae49a7d6e0 ]] {\r\n",
       "}\r\n",
       "comp usage \"p2 \" as E11  <<(T,blue) port>> [[psysml:a18508b4-2f12-4bca-8dd1-291939c34d14 ]] {\r\n",
       "}\r\n",
       "comp def \"B1\" as E12  <<(T,blue) part  def>> [[psysml:cd0027e5-9ed9-4216-bffa-1e31fa367fb3 ]] {\r\n",
       "}\r\n",
       "comp usage \"p \" as E13  <<(T,blue) part>> [[psysml:3cf8fc76-e05d-49bd-b29f-3b88a47b72de ]] {\r\n",
       "}\r\n",
       "comp usage \"p1: P \" as E14  <<(T,blue) port>> [[psysml:6cf362ef-4bb1-44a5-8272-767638a97c43 ]] {\r\n",
       "}\r\n",
       "comp usage \"p2 \" as E15  <<(T,blue) port>> [[psysml:33e7cbb5-c462-4d34-9030-b3438d816b29 ]] {\r\n",
       "}\r\n",
       "}\r\n",
       "E3 o- - \"1\"E4 [[psysml:e09aa0cf-99c0-4ed5-833c-e6cdd9353c0b ]] \r\n",
       "E4 - -:|> E2 [[psysml:d96439d0-54ae-42c8-b560-5f0ede470e61 ]] \r\n",
       "E3 o- - \"1\"E5 [[psysml:880a21a1-46d7-4f3d-9543-241b40e3ab4a ]] \r\n",
       "E6 o- - \"1\"E7 [[psysml:98390341-db8e-40b6-aced-fec2311e0a9d ]] \r\n",
       "E7 - -:|> E2 [[psysml:6f9217eb-859f-4957-bc31-6c1306f83367 ]] \r\n",
       "E6 o- - \"1\"E8 [[psysml:15a7c7be-761e-4e1c-a126-babbedfba5ca ]] \r\n",
       "E9 o- - \"1\"E10 [[psysml:a15de342-1742-4b99-9b86-ed8c6fb30ab8 ]] \r\n",
       "E10 - -:|> E2 [[psysml:81b1dfc1-849b-47a4-a859-9ae7a728ef15 ]] \r\n",
       "E9 o- - \"1\"E11 [[psysml:fe2242fc-88cc-4430-bc2f-98e79ba2cc70 ]] \r\n",
       "E12 o- - \"1\"E13 [[psysml:0c56cab0-046e-4827-a921-af226384c943 ]] \r\n",
       "E13 o- - \"1\"E14 [[psysml:12334834-5f3e-4b20-9f0b-aad671391bfa ]] \r\n",
       "E14 - -:|> E2 [[psysml:f15866fc-26c5-4fac-ba02-f8f796eed5e8 ]] \r\n",
       "E13 o- - \"1\"E15 [[psysml:ce878baa-f80f-4009-adda-6088e19c872e ]] \r\n",
       "E14 -[thickness=3]- E15 [[psysml:1f31a0eb-24e7-4abd-8eab-15c525015988 ]] \r\n",
       "E14 -[thickness=3]- E15 [[psysml:c2fd36d5-55a7-4367-ae55-c3f656adabca ]] \r\n",
       "@enduml\r\n",
       "\n",
       "PlantUML version 1.2020.13(Sat Jun 13 12:26:38 UTC 2020)\n",
       "(EPL source distribution)\n",
       "Java Runtime: OpenJDK Runtime Environment\n",
       "JVM: OpenJDK 64-Bit Server VM\n",
       "Default Encoding: UTF-8\n",
       "Language: en\n",
       "Country: null\n",
       "--></g></svg>"
      ]
     },
     "execution_count": 22,
     "metadata": {},
     "output_type": "execute_result"
    }
   ],
   "source": [
    "%viz --style=\"LR\" --view=\"MIXED\" \"ConjugationTest\""
   ]
  },
  {
   "cell_type": "code",
   "execution_count": 23,
   "id": "ff874c8e",
   "metadata": {
    "execution": {
     "iopub.execute_input": "2022-08-19T08:18:13.312752Z",
     "iopub.status.busy": "2022-08-19T08:18:13.312270Z",
     "iopub.status.idle": "2022-08-19T08:18:13.360258Z",
     "shell.execute_reply": "2022-08-19T08:18:13.358557Z"
    }
   },
   "outputs": [
    {
     "data": {
      "image/svg+xml": [
       "<?xml version=\"1.0\" encoding=\"UTF-8\" standalone=\"no\"?><svg xmlns=\"http://www.w3.org/2000/svg\" xmlns:xlink=\"http://www.w3.org/1999/xlink\" contentScriptType=\"application/ecmascript\" contentStyleType=\"text/css\" height=\"433px\" preserveAspectRatio=\"none\" style=\"width:611px;height:433px;\" version=\"1.1\" viewBox=\"0 0 611 433\" width=\"611px\" zoomAndPan=\"magnify\"><defs><filter height=\"300%\" id=\"f1gbptudeof818\" width=\"300%\" x=\"-1\" y=\"-1\"><feGaussianBlur result=\"blurOut\" stdDeviation=\"2.0\"/><feColorMatrix in=\"blurOut\" result=\"blurOut2\" type=\"matrix\" values=\"0 0 0 0 0 0 0 0 0 0 0 0 0 0 0 0 0 0 .4 0\"/><feOffset dx=\"4.0\" dy=\"4.0\" in=\"blurOut2\" result=\"blurOut3\"/><feBlend in=\"SourceGraphic\" in2=\"blurOut3\" mode=\"normal\"/></filter></defs><g><!--MD5=[fbc87193dbaf4d95561dea2c320d4a47]\n",
       "cluster E1--><a href=\"psysml:4e179b45-ef84-478c-a2da-b16af7c43fe7\" target=\"_top\" title=\"psysml:4e179b45-ef84-478c-a2da-b16af7c43fe7\" xlink:actuate=\"onRequest\" xlink:href=\"psysml:4e179b45-ef84-478c-a2da-b16af7c43fe7\" xlink:show=\"new\" xlink:title=\"psysml:4e179b45-ef84-478c-a2da-b16af7c43fe7\" xlink:type=\"simple\"><polygon fill=\"#FFFFFF\" filter=\"url(#f1gbptudeof818)\" points=\"16,6,136,6,143,28.2969,589,28.2969,589,421,16,421,16,6\" style=\"stroke: #000000; stroke-width: 1.5;\"/><line style=\"stroke: #000000; stroke-width: 1.5;\" x1=\"16\" x2=\"143\" y1=\"28.2969\" y2=\"28.2969\"/><text fill=\"#000000\" font-family=\"sans-serif\" font-size=\"14\" font-weight=\"bold\" lengthAdjust=\"spacingAndGlyphs\" textLength=\"114\" x=\"20\" y=\"20.9951\">ConjugationTest</text></a><!--MD5=[b4997ac47864f28c2f74865a473b2911]\n",
       "class E2--><a href=\"psysml:859d5a2d-b524-488b-9af4-e0f987adcacf\" target=\"_top\" title=\"psysml:859d5a2d-b524-488b-9af4-e0f987adcacf\" xlink:actuate=\"onRequest\" xlink:href=\"psysml:859d5a2d-b524-488b-9af4-e0f987adcacf\" xlink:show=\"new\" xlink:title=\"psysml:859d5a2d-b524-488b-9af4-e0f987adcacf\" xlink:type=\"simple\"><rect fill=\"#FEFECE\" filter=\"url(#f1gbptudeof818)\" height=\"45.9375\" id=\"E2\" style=\"stroke: #A80036; stroke-width: 1.5;\" width=\"70\" x=\"216\" y=\"359\"/><text fill=\"#000000\" font-family=\"sans-serif\" font-size=\"12\" font-style=\"italic\" lengthAdjust=\"spacingAndGlyphs\" textLength=\"68\" x=\"217\" y=\"375.1387\">«port  def»</text><text fill=\"#000000\" font-family=\"sans-serif\" font-size=\"12\" lengthAdjust=\"spacingAndGlyphs\" textLength=\"8\" x=\"247\" y=\"389.1074\">P</text><line style=\"stroke: #A80036; stroke-width: 1.5;\" x1=\"217\" x2=\"285\" y1=\"396.9375\" y2=\"396.9375\"/></a><!--MD5=[09b614a08d8cba4a07c9adeb5e0fee81]\n",
       "class E3--><a href=\"psysml:615e73ac-8544-4e42-b424-8a4747867d0e\" target=\"_top\" title=\"psysml:615e73ac-8544-4e42-b424-8a4747867d0e\" xlink:actuate=\"onRequest\" xlink:href=\"psysml:615e73ac-8544-4e42-b424-8a4747867d0e\" xlink:show=\"new\" xlink:title=\"psysml:615e73ac-8544-4e42-b424-8a4747867d0e\" xlink:type=\"simple\"><rect fill=\"#FEFECE\" filter=\"url(#f1gbptudeof818)\" height=\"45.9375\" id=\"E3\" style=\"stroke: #A80036; stroke-width: 1.5;\" width=\"70\" x=\"471\" y=\"147\"/><text fill=\"#000000\" font-family=\"sans-serif\" font-size=\"12\" font-style=\"italic\" lengthAdjust=\"spacingAndGlyphs\" textLength=\"68\" x=\"472\" y=\"163.1387\">«part  def»</text><text fill=\"#000000\" font-family=\"sans-serif\" font-size=\"12\" lengthAdjust=\"spacingAndGlyphs\" textLength=\"8\" x=\"502\" y=\"177.1074\">B</text><line style=\"stroke: #A80036; stroke-width: 1.5;\" x1=\"472\" x2=\"540\" y1=\"184.9375\" y2=\"184.9375\"/></a><!--MD5=[ebbe1d658d1005bcc118a6aa81145e00]\n",
       "class E4--><a href=\"psysml:37d2c32c-e4e6-4c0b-af75-96cd6556dd4d\" target=\"_top\" title=\"psysml:37d2c32c-e4e6-4c0b-af75-96cd6556dd4d\" xlink:actuate=\"onRequest\" xlink:href=\"psysml:37d2c32c-e4e6-4c0b-af75-96cd6556dd4d\" xlink:show=\"new\" xlink:title=\"psysml:37d2c32c-e4e6-4c0b-af75-96cd6556dd4d\" xlink:type=\"simple\"><rect fill=\"#FEFECE\" filter=\"url(#f1gbptudeof818)\" height=\"45.9375\" id=\"E4\" rx=\"10\" ry=\"10\" style=\"stroke: #A80036; stroke-width: 1.5;\" width=\"42\" x=\"454\" y=\"253\"/><text fill=\"#000000\" font-family=\"sans-serif\" font-size=\"12\" font-style=\"italic\" lengthAdjust=\"spacingAndGlyphs\" textLength=\"40\" x=\"455\" y=\"269.1387\">«port»</text><text fill=\"#000000\" font-family=\"sans-serif\" font-size=\"12\" lengthAdjust=\"spacingAndGlyphs\" textLength=\"32\" x=\"457\" y=\"283.1074\">p1: P</text><line style=\"stroke: #A80036; stroke-width: 1.5;\" x1=\"455\" x2=\"495\" y1=\"290.9375\" y2=\"290.9375\"/></a><!--MD5=[270fce915f116d4de14055a7c1d9a0f3]\n",
       "class E5--><a href=\"psysml:a7d82e4a-e12d-4520-9ae6-c89754eb7506\" target=\"_top\" title=\"psysml:a7d82e4a-e12d-4520-9ae6-c89754eb7506\" xlink:actuate=\"onRequest\" xlink:href=\"psysml:a7d82e4a-e12d-4520-9ae6-c89754eb7506\" xlink:show=\"new\" xlink:title=\"psysml:a7d82e4a-e12d-4520-9ae6-c89754eb7506\" xlink:type=\"simple\"><rect fill=\"#FEFECE\" filter=\"url(#f1gbptudeof818)\" height=\"45.9375\" id=\"E5\" rx=\"10\" ry=\"10\" style=\"stroke: #A80036; stroke-width: 1.5;\" width=\"42\" x=\"531\" y=\"253\"/><text fill=\"#000000\" font-family=\"sans-serif\" font-size=\"12\" font-style=\"italic\" lengthAdjust=\"spacingAndGlyphs\" textLength=\"40\" x=\"532\" y=\"269.1387\">«port»</text><text fill=\"#000000\" font-family=\"sans-serif\" font-size=\"12\" lengthAdjust=\"spacingAndGlyphs\" textLength=\"16\" x=\"542\" y=\"283.1074\">p2</text><line style=\"stroke: #A80036; stroke-width: 1.5;\" x1=\"532\" x2=\"572\" y1=\"290.9375\" y2=\"290.9375\"/></a><!--MD5=[60a26617385b1d2d0262a64233df1f8d]\n",
       "class E6--><a href=\"psysml:5cdadcae-4d33-45cc-84a1-e26eca79ba4d\" target=\"_top\" title=\"psysml:5cdadcae-4d33-45cc-84a1-e26eca79ba4d\" xlink:actuate=\"onRequest\" xlink:href=\"psysml:5cdadcae-4d33-45cc-84a1-e26eca79ba4d\" xlink:show=\"new\" xlink:title=\"psysml:5cdadcae-4d33-45cc-84a1-e26eca79ba4d\" xlink:type=\"simple\"><rect fill=\"#FEFECE\" filter=\"url(#f1gbptudeof818)\" height=\"45.9375\" id=\"E6\" style=\"stroke: #A80036; stroke-width: 1.5;\" width=\"114\" x=\"274\" y=\"147\"/><text fill=\"#000000\" font-family=\"sans-serif\" font-size=\"12\" font-style=\"italic\" lengthAdjust=\"spacingAndGlyphs\" textLength=\"112\" x=\"275\" y=\"163.1387\">«connection  def»</text><text fill=\"#000000\" font-family=\"sans-serif\" font-size=\"12\" lengthAdjust=\"spacingAndGlyphs\" textLength=\"8\" x=\"327\" y=\"177.1074\">A</text><line style=\"stroke: #A80036; stroke-width: 1.5;\" x1=\"275\" x2=\"387\" y1=\"184.9375\" y2=\"184.9375\"/></a><!--MD5=[2156ba9850f5573cc1fc38a6a4b2f02b]\n",
       "class E7--><a href=\"psysml:7fb982ae-cae7-41b0-848a-52bb93191ec3\" target=\"_top\" title=\"psysml:7fb982ae-cae7-41b0-848a-52bb93191ec3\" xlink:actuate=\"onRequest\" xlink:href=\"psysml:7fb982ae-cae7-41b0-848a-52bb93191ec3\" xlink:show=\"new\" xlink:title=\"psysml:7fb982ae-cae7-41b0-848a-52bb93191ec3\" xlink:type=\"simple\"><rect fill=\"#FEFECE\" filter=\"url(#f1gbptudeof818)\" height=\"45.9375\" id=\"E7\" rx=\"10\" ry=\"10\" style=\"stroke: #A80036; stroke-width: 1.5;\" width=\"42\" x=\"300\" y=\"253\"/><text fill=\"#000000\" font-family=\"sans-serif\" font-size=\"12\" font-style=\"italic\" lengthAdjust=\"spacingAndGlyphs\" textLength=\"40\" x=\"301\" y=\"269.1387\">«port»</text><text fill=\"#000000\" font-family=\"sans-serif\" font-size=\"12\" lengthAdjust=\"spacingAndGlyphs\" textLength=\"32\" x=\"303\" y=\"283.1074\">p1: P</text><line style=\"stroke: #A80036; stroke-width: 1.5;\" x1=\"301\" x2=\"341\" y1=\"290.9375\" y2=\"290.9375\"/></a><!--MD5=[b9389687b975829384b498ac4b7476b2]\n",
       "class E8--><a href=\"psysml:5c21b9df-62cf-4ee8-9145-76efb13de7e4\" target=\"_top\" title=\"psysml:5c21b9df-62cf-4ee8-9145-76efb13de7e4\" xlink:actuate=\"onRequest\" xlink:href=\"psysml:5c21b9df-62cf-4ee8-9145-76efb13de7e4\" xlink:show=\"new\" xlink:title=\"psysml:5c21b9df-62cf-4ee8-9145-76efb13de7e4\" xlink:type=\"simple\"><rect fill=\"#FEFECE\" filter=\"url(#f1gbptudeof818)\" height=\"45.9375\" id=\"E8\" rx=\"10\" ry=\"10\" style=\"stroke: #A80036; stroke-width: 1.5;\" width=\"42\" x=\"377\" y=\"253\"/><text fill=\"#000000\" font-family=\"sans-serif\" font-size=\"12\" font-style=\"italic\" lengthAdjust=\"spacingAndGlyphs\" textLength=\"40\" x=\"378\" y=\"269.1387\">«port»</text><text fill=\"#000000\" font-family=\"sans-serif\" font-size=\"12\" lengthAdjust=\"spacingAndGlyphs\" textLength=\"16\" x=\"388\" y=\"283.1074\">p2</text><line style=\"stroke: #A80036; stroke-width: 1.5;\" x1=\"378\" x2=\"418\" y1=\"290.9375\" y2=\"290.9375\"/></a><!--MD5=[fd4143e9d270a159db93a4ea2a975926]\n",
       "class E9--><a href=\"psysml:2bbab23f-cc40-4354-88cc-493e0b41ffd4\" target=\"_top\" title=\"psysml:2bbab23f-cc40-4354-88cc-493e0b41ffd4\" xlink:actuate=\"onRequest\" xlink:href=\"psysml:2bbab23f-cc40-4354-88cc-493e0b41ffd4\" xlink:show=\"new\" xlink:title=\"psysml:2bbab23f-cc40-4354-88cc-493e0b41ffd4\" xlink:type=\"simple\"><rect fill=\"#FEFECE\" filter=\"url(#f1gbptudeof818)\" height=\"45.9375\" id=\"E9\" style=\"stroke: #A80036; stroke-width: 1.5;\" width=\"100\" x=\"138\" y=\"147\"/><text fill=\"#000000\" font-family=\"sans-serif\" font-size=\"12\" font-style=\"italic\" lengthAdjust=\"spacingAndGlyphs\" textLength=\"98\" x=\"139\" y=\"163.1387\">«interface  def»</text><text fill=\"#000000\" font-family=\"sans-serif\" font-size=\"12\" lengthAdjust=\"spacingAndGlyphs\" textLength=\"3\" x=\"186.5\" y=\"177.1074\">I</text><line style=\"stroke: #A80036; stroke-width: 1.5;\" x1=\"139\" x2=\"237\" y1=\"184.9375\" y2=\"184.9375\"/></a><!--MD5=[96f4274e9e20536e775497830990834d]\n",
       "class E10--><a href=\"psysml:e0785fbe-faad-409c-b39f-62ae49a7d6e0\" target=\"_top\" title=\"psysml:e0785fbe-faad-409c-b39f-62ae49a7d6e0\" xlink:actuate=\"onRequest\" xlink:href=\"psysml:e0785fbe-faad-409c-b39f-62ae49a7d6e0\" xlink:show=\"new\" xlink:title=\"psysml:e0785fbe-faad-409c-b39f-62ae49a7d6e0\" xlink:type=\"simple\"><rect fill=\"#FEFECE\" filter=\"url(#f1gbptudeof818)\" height=\"45.9375\" id=\"E10\" rx=\"10\" ry=\"10\" style=\"stroke: #A80036; stroke-width: 1.5;\" width=\"42\" x=\"146\" y=\"253\"/><text fill=\"#000000\" font-family=\"sans-serif\" font-size=\"12\" font-style=\"italic\" lengthAdjust=\"spacingAndGlyphs\" textLength=\"40\" x=\"147\" y=\"269.1387\">«port»</text><text fill=\"#000000\" font-family=\"sans-serif\" font-size=\"12\" lengthAdjust=\"spacingAndGlyphs\" textLength=\"32\" x=\"149\" y=\"283.1074\">p1: P</text><line style=\"stroke: #A80036; stroke-width: 1.5;\" x1=\"147\" x2=\"187\" y1=\"290.9375\" y2=\"290.9375\"/></a><!--MD5=[1dd1bfd58a279cf63c5f349dbc8fc6a1]\n",
       "class E11--><a href=\"psysml:a18508b4-2f12-4bca-8dd1-291939c34d14\" target=\"_top\" title=\"psysml:a18508b4-2f12-4bca-8dd1-291939c34d14\" xlink:actuate=\"onRequest\" xlink:href=\"psysml:a18508b4-2f12-4bca-8dd1-291939c34d14\" xlink:show=\"new\" xlink:title=\"psysml:a18508b4-2f12-4bca-8dd1-291939c34d14\" xlink:type=\"simple\"><rect fill=\"#FEFECE\" filter=\"url(#f1gbptudeof818)\" height=\"45.9375\" id=\"E11\" rx=\"10\" ry=\"10\" style=\"stroke: #A80036; stroke-width: 1.5;\" width=\"42\" x=\"223\" y=\"253\"/><text fill=\"#000000\" font-family=\"sans-serif\" font-size=\"12\" font-style=\"italic\" lengthAdjust=\"spacingAndGlyphs\" textLength=\"40\" x=\"224\" y=\"269.1387\">«port»</text><text fill=\"#000000\" font-family=\"sans-serif\" font-size=\"12\" lengthAdjust=\"spacingAndGlyphs\" textLength=\"16\" x=\"234\" y=\"283.1074\">p2</text><line style=\"stroke: #A80036; stroke-width: 1.5;\" x1=\"224\" x2=\"264\" y1=\"290.9375\" y2=\"290.9375\"/></a><!--MD5=[49a0ec8f00dab7302a31f22d0f0fe584]\n",
       "class E12--><a href=\"psysml:cd0027e5-9ed9-4216-bffa-1e31fa367fb3\" target=\"_top\" title=\"psysml:cd0027e5-9ed9-4216-bffa-1e31fa367fb3\" xlink:actuate=\"onRequest\" xlink:href=\"psysml:cd0027e5-9ed9-4216-bffa-1e31fa367fb3\" xlink:show=\"new\" xlink:title=\"psysml:cd0027e5-9ed9-4216-bffa-1e31fa367fb3\" xlink:type=\"simple\"><rect fill=\"#FEFECE\" filter=\"url(#f1gbptudeof818)\" height=\"45.9375\" id=\"E12\" style=\"stroke: #A80036; stroke-width: 1.5;\" width=\"70\" x=\"44\" y=\"41\"/><text fill=\"#000000\" font-family=\"sans-serif\" font-size=\"12\" font-style=\"italic\" lengthAdjust=\"spacingAndGlyphs\" textLength=\"68\" x=\"45\" y=\"57.1387\">«part  def»</text><text fill=\"#000000\" font-family=\"sans-serif\" font-size=\"12\" lengthAdjust=\"spacingAndGlyphs\" textLength=\"16\" x=\"71\" y=\"71.1074\">B1</text><line style=\"stroke: #A80036; stroke-width: 1.5;\" x1=\"45\" x2=\"113\" y1=\"78.9375\" y2=\"78.9375\"/></a><!--MD5=[ee3c913d1a06f366521f9ef512b67efe]\n",
       "class E13--><a href=\"psysml:3cf8fc76-e05d-49bd-b29f-3b88a47b72de\" target=\"_top\" title=\"psysml:3cf8fc76-e05d-49bd-b29f-3b88a47b72de\" xlink:actuate=\"onRequest\" xlink:href=\"psysml:3cf8fc76-e05d-49bd-b29f-3b88a47b72de\" xlink:show=\"new\" xlink:title=\"psysml:3cf8fc76-e05d-49bd-b29f-3b88a47b72de\" xlink:type=\"simple\"><rect fill=\"#FEFECE\" filter=\"url(#f1gbptudeof818)\" height=\"45.9375\" id=\"E13\" rx=\"10\" ry=\"10\" style=\"stroke: #A80036; stroke-width: 1.5;\" width=\"42\" x=\"58\" y=\"147\"/><text fill=\"#000000\" font-family=\"sans-serif\" font-size=\"12\" font-style=\"italic\" lengthAdjust=\"spacingAndGlyphs\" textLength=\"40\" x=\"59\" y=\"163.1387\">«part»</text><text fill=\"#000000\" font-family=\"sans-serif\" font-size=\"12\" lengthAdjust=\"spacingAndGlyphs\" textLength=\"8\" x=\"73\" y=\"177.1074\">p</text><line style=\"stroke: #A80036; stroke-width: 1.5;\" x1=\"59\" x2=\"99\" y1=\"184.9375\" y2=\"184.9375\"/></a><!--MD5=[bee11217b2f71d958a27249dc326068c]\n",
       "class E14--><a href=\"psysml:6cf362ef-4bb1-44a5-8272-767638a97c43\" target=\"_top\" title=\"psysml:6cf362ef-4bb1-44a5-8272-767638a97c43\" xlink:actuate=\"onRequest\" xlink:href=\"psysml:6cf362ef-4bb1-44a5-8272-767638a97c43\" xlink:show=\"new\" xlink:title=\"psysml:6cf362ef-4bb1-44a5-8272-767638a97c43\" xlink:type=\"simple\"><rect fill=\"#FEFECE\" filter=\"url(#f1gbptudeof818)\" height=\"45.9375\" id=\"E14\" rx=\"10\" ry=\"10\" style=\"stroke: #A80036; stroke-width: 1.5;\" width=\"42\" x=\"69\" y=\"253\"/><text fill=\"#000000\" font-family=\"sans-serif\" font-size=\"12\" font-style=\"italic\" lengthAdjust=\"spacingAndGlyphs\" textLength=\"40\" x=\"70\" y=\"269.1387\">«port»</text><text fill=\"#000000\" font-family=\"sans-serif\" font-size=\"12\" lengthAdjust=\"spacingAndGlyphs\" textLength=\"32\" x=\"72\" y=\"283.1074\">p1: P</text><line style=\"stroke: #A80036; stroke-width: 1.5;\" x1=\"70\" x2=\"110\" y1=\"290.9375\" y2=\"290.9375\"/></a><!--MD5=[0c48fb7552dae8cbbef69381101a84c8]\n",
       "class E15--><a href=\"psysml:33e7cbb5-c462-4d34-9030-b3438d816b29\" target=\"_top\" title=\"psysml:33e7cbb5-c462-4d34-9030-b3438d816b29\" xlink:actuate=\"onRequest\" xlink:href=\"psysml:33e7cbb5-c462-4d34-9030-b3438d816b29\" xlink:show=\"new\" xlink:title=\"psysml:33e7cbb5-c462-4d34-9030-b3438d816b29\" xlink:type=\"simple\"><rect fill=\"#FEFECE\" filter=\"url(#f1gbptudeof818)\" height=\"45.9375\" id=\"E15\" rx=\"10\" ry=\"10\" style=\"stroke: #A80036; stroke-width: 1.5;\" width=\"42\" x=\"69\" y=\"359\"/><text fill=\"#000000\" font-family=\"sans-serif\" font-size=\"12\" font-style=\"italic\" lengthAdjust=\"spacingAndGlyphs\" textLength=\"40\" x=\"70\" y=\"375.1387\">«port»</text><text fill=\"#000000\" font-family=\"sans-serif\" font-size=\"12\" lengthAdjust=\"spacingAndGlyphs\" textLength=\"16\" x=\"80\" y=\"389.1074\">p2</text><line style=\"stroke: #A80036; stroke-width: 1.5;\" x1=\"70\" x2=\"110\" y1=\"396.9375\" y2=\"396.9375\"/></a><!--MD5=[4672eba38e49728da53d11aeb285b987]\n",
       "reverse link E3 to E4--><a href=\"psysml:e09aa0cf-99c0-4ed5-833c-e6cdd9353c0b\" target=\"_top\" title=\"psysml:e09aa0cf-99c0-4ed5-833c-e6cdd9353c0b\" xlink:actuate=\"onRequest\" xlink:href=\"psysml:e09aa0cf-99c0-4ed5-833c-e6cdd9353c0b\" xlink:show=\"new\" xlink:title=\"psysml:e09aa0cf-99c0-4ed5-833c-e6cdd9353c0b\" xlink:type=\"simple\"><path d=\"M495.58,205.96 C490.95,221.51 485.63,239.33 481.56,252.98 \" fill=\"none\" id=\"E3&lt;-E4\" style=\"stroke: #A80036; stroke-width: 1.0;\"/><polygon fill=\"#FFFFFF\" points=\"499.43,193.06,493.8824,197.6669,496.0012,204.5597,501.5488,199.9528,499.43,193.06\" style=\"stroke: #A80036; stroke-width: 1.0;\"/><text fill=\"#000000\" font-family=\"sans-serif\" font-size=\"13\" lengthAdjust=\"spacingAndGlyphs\" textLength=\"8\" x=\"474.248\" y=\"241.8709\">1</text></a><!--MD5=[185131fc0dcab0a4505a2ebe144e961b]\n",
       "link E4 to E2--><a href=\"psysml:d96439d0-54ae-42c8-b560-5f0ede470e61\" target=\"_top\" title=\"psysml:d96439d0-54ae-42c8-b560-5f0ede470e61\" xlink:actuate=\"onRequest\" xlink:href=\"psysml:d96439d0-54ae-42c8-b560-5f0ede470e61\" xlink:show=\"new\" xlink:title=\"psysml:d96439d0-54ae-42c8-b560-5f0ede470e61\" xlink:type=\"simple\"><path d=\"M453.92,289.75 C448.47,292.89 442.57,296.17 437,299 C393.29,321.2 342.25,343.45 304.71,359.16 \" fill=\"none\" id=\"E4-&gt;E2\" style=\"stroke: #A80036; stroke-width: 1.0;\"/><polygon fill=\"#FFFFFF\" points=\"286.15,366.85,301.0211,353.1077,306.3823,366.0405,286.15,366.85\" style=\"stroke: #A80036; stroke-width: 1.0;\"/><ellipse cx=\"307.0525\" cy=\"352.7725\" fill=\"#A80036\" rx=\"2\" ry=\"2\" style=\"stroke: #A80036; stroke-width: 1.0;\"/><ellipse cx=\"310.8819\" cy=\"362.0102\" fill=\"#A80036\" rx=\"2\" ry=\"2\" style=\"stroke: #A80036; stroke-width: 1.0;\"/></a><!--MD5=[191cde3d490a3f6d7bb551fe3ddca469]\n",
       "reverse link E3 to E5--><a href=\"psysml:880a21a1-46d7-4f3d-9543-241b40e3ab4a\" target=\"_top\" title=\"psysml:880a21a1-46d7-4f3d-9543-241b40e3ab4a\" xlink:actuate=\"onRequest\" xlink:href=\"psysml:880a21a1-46d7-4f3d-9543-241b40e3ab4a\" xlink:show=\"new\" xlink:title=\"psysml:880a21a1-46d7-4f3d-9543-241b40e3ab4a\" xlink:type=\"simple\"><path d=\"M521.05,205.03 C528.02,220.78 536.1,239.06 542.26,252.98 \" fill=\"none\" id=\"E3&lt;-E5\" style=\"stroke: #A80036; stroke-width: 1.0;\"/><polygon fill=\"#FFFFFF\" points=\"515.76,193.06,514.5329,200.1659,520.6202,204.0317,521.8473,196.9258,515.76,193.06\" style=\"stroke: #A80036; stroke-width: 1.0;\"/><text fill=\"#000000\" font-family=\"sans-serif\" font-size=\"13\" lengthAdjust=\"spacingAndGlyphs\" textLength=\"8\" x=\"530.5674\" y=\"241.8709\">1</text></a><!--MD5=[3f50a3473f1dfb74d3f76443e03635af]\n",
       "reverse link E6 to E7--><a href=\"psysml:98390341-db8e-40b6-aced-fec2311e0a9d\" target=\"_top\" title=\"psysml:98390341-db8e-40b6-aced-fec2311e0a9d\" xlink:actuate=\"onRequest\" xlink:href=\"psysml:98390341-db8e-40b6-aced-fec2311e0a9d\" xlink:show=\"new\" xlink:title=\"psysml:98390341-db8e-40b6-aced-fec2311e0a9d\" xlink:type=\"simple\"><path d=\"M327.59,206.44 C326.11,221.87 324.42,239.47 323.12,252.98 \" fill=\"none\" id=\"E6&lt;-E7\" style=\"stroke: #A80036; stroke-width: 1.0;\"/><polygon fill=\"#FFFFFF\" points=\"328.88,193.06,324.3242,198.6497,327.7317,205.0049,332.2875,199.4152,328.88,193.06\" style=\"stroke: #A80036; stroke-width: 1.0;\"/><text fill=\"#000000\" font-family=\"sans-serif\" font-size=\"13\" lengthAdjust=\"spacingAndGlyphs\" textLength=\"8\" x=\"314.6148\" y=\"241.8709\">1</text></a><!--MD5=[583832df87f4419a098336a29a52fa00]\n",
       "link E7 to E2--><a href=\"psysml:6f9217eb-859f-4957-bc31-6c1306f83367\" target=\"_top\" title=\"psysml:6f9217eb-859f-4957-bc31-6c1306f83367\" xlink:actuate=\"onRequest\" xlink:href=\"psysml:6f9217eb-859f-4957-bc31-6c1306f83367\" xlink:show=\"new\" xlink:title=\"psysml:6f9217eb-859f-4957-bc31-6c1306f83367\" xlink:type=\"simple\"><path d=\"M306.15,299.06 C297.71,311.6 286.89,327.68 277.07,342.26 \" fill=\"none\" id=\"E7-&gt;E2\" style=\"stroke: #A80036; stroke-width: 1.0;\"/><polygon fill=\"#FFFFFF\" points=\"265.82,358.98,270.609,339.306,282.2284,347.1156,265.82,358.98\" style=\"stroke: #A80036; stroke-width: 1.0;\"/><ellipse cx=\"275.4486\" cy=\"335.6909\" fill=\"#A80036\" rx=\"2\" ry=\"2\" style=\"stroke: #A80036; stroke-width: 1.0;\"/><ellipse cx=\"283.7481\" cy=\"341.2692\" fill=\"#A80036\" rx=\"2\" ry=\"2\" style=\"stroke: #A80036; stroke-width: 1.0;\"/></a><!--MD5=[f4cf0736d43fd73c4ef68817c49d37d5]\n",
       "reverse link E6 to E8--><a href=\"psysml:15a7c7be-761e-4e1c-a126-babbedfba5ca\" target=\"_top\" title=\"psysml:15a7c7be-761e-4e1c-a126-babbedfba5ca\" xlink:actuate=\"onRequest\" xlink:href=\"psysml:15a7c7be-761e-4e1c-a126-babbedfba5ca\" xlink:show=\"new\" xlink:title=\"psysml:15a7c7be-761e-4e1c-a126-babbedfba5ca\" xlink:type=\"simple\"><path d=\"M352.32,204.09 C362.61,220.06 374.67,238.78 383.81,252.98 \" fill=\"none\" id=\"E6&lt;-E8\" style=\"stroke: #A80036; stroke-width: 1.0;\"/><polygon fill=\"#FFFFFF\" points=\"345.21,193.06,345.0979,200.2702,351.7104,203.1469,351.8225,195.9366,345.21,193.06\" style=\"stroke: #A80036; stroke-width: 1.0;\"/><text fill=\"#000000\" font-family=\"sans-serif\" font-size=\"13\" lengthAdjust=\"spacingAndGlyphs\" textLength=\"8\" x=\"370.9214\" y=\"241.8709\">1</text></a><!--MD5=[23ac544a70576c3e717098101004234c]\n",
       "reverse link E9 to E10--><a href=\"psysml:a15de342-1742-4b99-9b86-ed8c6fb30ab8\" target=\"_top\" title=\"psysml:a15de342-1742-4b99-9b86-ed8c6fb30ab8\" xlink:actuate=\"onRequest\" xlink:href=\"psysml:a15de342-1742-4b99-9b86-ed8c6fb30ab8\" xlink:show=\"new\" xlink:title=\"psysml:a15de342-1742-4b99-9b86-ed8c6fb30ab8\" xlink:type=\"simple\"><path d=\"M180.94,205.96 C177.8,221.51 174.2,239.33 171.45,252.98 \" fill=\"none\" id=\"E9&lt;-E10\" style=\"stroke: #A80036; stroke-width: 1.0;\"/><polygon fill=\"#FFFFFF\" points=\"183.55,193.06,178.4422,198.1502,181.1763,204.8229,186.2841,199.7327,183.55,193.06\" style=\"stroke: #A80036; stroke-width: 1.0;\"/><text fill=\"#000000\" font-family=\"sans-serif\" font-size=\"13\" lengthAdjust=\"spacingAndGlyphs\" textLength=\"8\" x=\"163.5709\" y=\"241.8709\">1</text></a><!--MD5=[0f36bececdf0dff6e600d6f64214b0f1]\n",
       "link E10 to E2--><a href=\"psysml:81b1dfc1-849b-47a4-a859-9ae7a728ef15\" target=\"_top\" title=\"psysml:81b1dfc1-849b-47a4-a859-9ae7a728ef15\" xlink:actuate=\"onRequest\" xlink:href=\"psysml:81b1dfc1-849b-47a4-a859-9ae7a728ef15\" xlink:show=\"new\" xlink:title=\"psysml:81b1dfc1-849b-47a4-a859-9ae7a728ef15\" xlink:type=\"simple\"><path d=\"M184.81,299.06 C195.17,311.88 208.51,328.39 220.49,343.22 \" fill=\"none\" id=\"E10-&gt;E2\" style=\"stroke: #A80036; stroke-width: 1.0;\"/><polygon fill=\"#FFFFFF\" points=\"233.21,358.98,215.8236,348.6016,226.7127,339.8023,233.21,358.98\" style=\"stroke: #A80036; stroke-width: 1.0;\"/><ellipse cx=\"213.7966\" cy=\"342.9111\" fill=\"#A80036\" rx=\"2\" ry=\"2\" style=\"stroke: #A80036; stroke-width: 1.0;\"/><ellipse cx=\"221.5745\" cy=\"336.6259\" fill=\"#A80036\" rx=\"2\" ry=\"2\" style=\"stroke: #A80036; stroke-width: 1.0;\"/></a><!--MD5=[1fc04a95fd77ad5ce46c1a3027516051]\n",
       "reverse link E9 to E11--><a href=\"psysml:fe2242fc-88cc-4430-bc2f-98e79ba2cc70\" target=\"_top\" title=\"psysml:fe2242fc-88cc-4430-bc2f-98e79ba2cc70\" xlink:actuate=\"onRequest\" xlink:href=\"psysml:fe2242fc-88cc-4430-bc2f-98e79ba2cc70\" xlink:show=\"new\" xlink:title=\"psysml:fe2242fc-88cc-4430-bc2f-98e79ba2cc70\" xlink:type=\"simple\"><path d=\"M206.07,204.56 C214.61,220.42 224.57,238.92 232.14,252.98 \" fill=\"none\" id=\"E9&lt;-E11\" style=\"stroke: #A80036; stroke-width: 1.0;\"/><polygon fill=\"#FFFFFF\" points=\"199.88,193.06,199.2038,200.2393,205.5708,203.6248,206.247,196.4455,199.88,193.06\" style=\"stroke: #A80036; stroke-width: 1.0;\"/><text fill=\"#000000\" font-family=\"sans-serif\" font-size=\"13\" lengthAdjust=\"spacingAndGlyphs\" textLength=\"8\" x=\"219.8776\" y=\"241.8709\">1</text></a><!--MD5=[062ed86c389d1a88f61c6380d0491e17]\n",
       "reverse link E12 to E13--><a href=\"psysml:0c56cab0-046e-4827-a921-af226384c943\" target=\"_top\" title=\"psysml:0c56cab0-046e-4827-a921-af226384c943\" xlink:actuate=\"onRequest\" xlink:href=\"psysml:0c56cab0-046e-4827-a921-af226384c943\" xlink:show=\"new\" xlink:title=\"psysml:0c56cab0-046e-4827-a921-af226384c943\" xlink:type=\"simple\"><path d=\"M79,100.44 C79,115.87 79,133.47 79,146.98 \" fill=\"none\" id=\"E12&lt;-E13\" style=\"stroke: #A80036; stroke-width: 1.0;\"/><polygon fill=\"#FFFFFF\" points=\"79,87.06,75,93.06,79,99.06,83,93.06,79,87.06\" style=\"stroke: #A80036; stroke-width: 1.0;\"/><text fill=\"#000000\" font-family=\"sans-serif\" font-size=\"13\" lengthAdjust=\"spacingAndGlyphs\" textLength=\"8\" x=\"69.925\" y=\"135.8709\">1</text></a><!--MD5=[01db00f33b28669d6d9febea71002831]\n",
       "reverse link E13 to E14--><a href=\"psysml:12334834-5f3e-4b20-9f0b-aad671391bfa\" target=\"_top\" title=\"psysml:12334834-5f3e-4b20-9f0b-aad671391bfa\" xlink:actuate=\"onRequest\" xlink:href=\"psysml:12334834-5f3e-4b20-9f0b-aad671391bfa\" xlink:show=\"new\" xlink:title=\"psysml:12334834-5f3e-4b20-9f0b-aad671391bfa\" xlink:type=\"simple\"><path d=\"M82.75,206.44 C84.38,221.87 86.24,239.47 87.67,252.98 \" fill=\"none\" id=\"E13&lt;-E14\" style=\"stroke: #A80036; stroke-width: 1.0;\"/><polygon fill=\"#FFFFFF\" points=\"81.33,193.06,77.9783,199.4448,82.5828,204.9944,85.9345,198.6096,81.33,193.06\" style=\"stroke: #A80036; stroke-width: 1.0;\"/><text fill=\"#000000\" font-family=\"sans-serif\" font-size=\"13\" lengthAdjust=\"spacingAndGlyphs\" textLength=\"8\" x=\"77.9688\" y=\"241.8709\">1</text></a><!--MD5=[e5566ac99d7714697a7fbc17f6b550fe]\n",
       "link E14 to E2--><a href=\"psysml:f15866fc-26c5-4fac-ba02-f8f796eed5e8\" target=\"_top\" title=\"psysml:f15866fc-26c5-4fac-ba02-f8f796eed5e8\" xlink:actuate=\"onRequest\" xlink:href=\"psysml:f15866fc-26c5-4fac-ba02-f8f796eed5e8\" xlink:show=\"new\" xlink:title=\"psysml:f15866fc-26c5-4fac-ba02-f8f796eed5e8\" xlink:type=\"simple\"><path d=\"M111.05,290.6 C133.49,305.09 169.87,328.59 199.91,348 \" fill=\"none\" id=\"E14-&gt;E2\" style=\"stroke: #A80036; stroke-width: 1.0;\"/><polygon fill=\"#FFFFFF\" points=\"216.71,358.85,196.9529,354.4164,204.5518,342.6581,216.71,358.85\" style=\"stroke: #A80036; stroke-width: 1.0;\"/><ellipse cx=\"193.2512\" cy=\"349.6428\" fill=\"#A80036\" rx=\"2\" ry=\"2\" style=\"stroke: #A80036; stroke-width: 1.0;\"/><ellipse cx=\"198.6789\" cy=\"341.244\" fill=\"#A80036\" rx=\"2\" ry=\"2\" style=\"stroke: #A80036; stroke-width: 1.0;\"/></a><!--MD5=[e9a5e828c71fd2209a11a152f562d491]\n",
       "reverse link E13 to E15--><a href=\"psysml:ce878baa-f80f-4009-adda-6088e19c872e\" target=\"_top\" title=\"psysml:ce878baa-f80f-4009-adda-6088e19c872e\" xlink:actuate=\"onRequest\" xlink:href=\"psysml:ce878baa-f80f-4009-adda-6088e19c872e\" xlink:show=\"new\" xlink:title=\"psysml:ce878baa-f80f-4009-adda-6088e19c872e\" xlink:type=\"simple\"><path d=\"M63.75,205.34 C54.23,231.13 45.02,267.31 52,299 C56.73,320.45 67.65,342.96 76.58,358.96 \" fill=\"none\" id=\"E13&lt;-E15\" style=\"stroke: #A80036; stroke-width: 1.0;\"/><polygon fill=\"#FFFFFF\" points=\"68.52,193.23,62.5978,197.3443,64.1179,204.3934,70.0401,200.2791,68.52,193.23\" style=\"stroke: #A80036; stroke-width: 1.0;\"/><text fill=\"#000000\" font-family=\"sans-serif\" font-size=\"13\" lengthAdjust=\"spacingAndGlyphs\" textLength=\"8\" x=\"63.8984\" y=\"347.8455\">1</text></a><!--MD5=[3afbdc645381407e1bc99677323a2513]\n",
       "link E14 to E15--><a href=\"psysml:1f31a0eb-24e7-4abd-8eab-15c525015988\" target=\"_top\" title=\"psysml:1f31a0eb-24e7-4abd-8eab-15c525015988\" xlink:actuate=\"onRequest\" xlink:href=\"psysml:1f31a0eb-24e7-4abd-8eab-15c525015988\" xlink:show=\"new\" xlink:title=\"psysml:1f31a0eb-24e7-4abd-8eab-15c525015988\" xlink:type=\"simple\"><path d=\"M79.35,299.06 C76.55,316.7 76.55,341.34 79.36,358.98 \" fill=\"none\" id=\"E14-E15\" style=\"stroke: #A80036; stroke-width: 3.0;\"/></a><!--MD5=[3afbdc645381407e1bc99677323a2513]\n",
       "link E14 to E15--><a href=\"psysml:c2fd36d5-55a7-4367-ae55-c3f656adabca\" target=\"_top\" title=\"psysml:c2fd36d5-55a7-4367-ae55-c3f656adabca\" xlink:actuate=\"onRequest\" xlink:href=\"psysml:c2fd36d5-55a7-4367-ae55-c3f656adabca\" xlink:show=\"new\" xlink:title=\"psysml:c2fd36d5-55a7-4367-ae55-c3f656adabca\" xlink:type=\"simple\"><path d=\"M101.27,299.06 C104.24,316.7 104.24,341.34 101.27,358.98 \" fill=\"none\" id=\"E14-E15-1\" style=\"stroke: #A80036; stroke-width: 3.0;\"/></a><!--MD5=[db6c98b167a0791bd35c38245f9498a4]\n",
       "@startuml\r\n",
       "skinparam wrapWidth 300\r\n",
       "hide circle\r\n",
       "\r\n",
       "package \"ConjugationTest\" as E1  [[psysml:4e179b45-ef84-478c-a2da-b16af7c43fe7 ]]  {\r\n",
       "comp def \"P\" as E2  <<(T,blue) port  def>> [[psysml:859d5a2d-b524-488b-9af4-e0f987adcacf ]] {\r\n",
       "}\r\n",
       "comp def \"B\" as E3  <<(T,blue) part  def>> [[psysml:615e73ac-8544-4e42-b424-8a4747867d0e ]] {\r\n",
       "}\r\n",
       "comp usage \"p1: P \" as E4  <<(T,blue) port>> [[psysml:37d2c32c-e4e6-4c0b-af75-96cd6556dd4d ]] {\r\n",
       "}\r\n",
       "comp usage \"p2 \" as E5  <<(T,blue) port>> [[psysml:a7d82e4a-e12d-4520-9ae6-c89754eb7506 ]] {\r\n",
       "}\r\n",
       "comp def \"A\" as E6  <<(T,blue) connection  def>> [[psysml:5cdadcae-4d33-45cc-84a1-e26eca79ba4d ]] {\r\n",
       "}\r\n",
       "comp usage \"p1: P \" as E7  <<(T,blue) port>> [[psysml:7fb982ae-cae7-41b0-848a-52bb93191ec3 ]] {\r\n",
       "}\r\n",
       "comp usage \"p2 \" as E8  <<(T,blue) port>> [[psysml:5c21b9df-62cf-4ee8-9145-76efb13de7e4 ]] {\r\n",
       "}\r\n",
       "comp def \"I\" as E9  <<(T,blue) interface  def>> [[psysml:2bbab23f-cc40-4354-88cc-493e0b41ffd4 ]] {\r\n",
       "}\r\n",
       "comp usage \"p1: P \" as E10  <<(T,blue) port>> [[psysml:e0785fbe-faad-409c-b39f-62ae49a7d6e0 ]] {\r\n",
       "}\r\n",
       "comp usage \"p2 \" as E11  <<(T,blue) port>> [[psysml:a18508b4-2f12-4bca-8dd1-291939c34d14 ]] {\r\n",
       "}\r\n",
       "comp def \"B1\" as E12  <<(T,blue) part  def>> [[psysml:cd0027e5-9ed9-4216-bffa-1e31fa367fb3 ]] {\r\n",
       "}\r\n",
       "comp usage \"p \" as E13  <<(T,blue) part>> [[psysml:3cf8fc76-e05d-49bd-b29f-3b88a47b72de ]] {\r\n",
       "}\r\n",
       "comp usage \"p1: P \" as E14  <<(T,blue) port>> [[psysml:6cf362ef-4bb1-44a5-8272-767638a97c43 ]] {\r\n",
       "}\r\n",
       "comp usage \"p2 \" as E15  <<(T,blue) port>> [[psysml:33e7cbb5-c462-4d34-9030-b3438d816b29 ]] {\r\n",
       "}\r\n",
       "}\r\n",
       "E3 o- - \"1\"E4 [[psysml:e09aa0cf-99c0-4ed5-833c-e6cdd9353c0b ]] \r\n",
       "E4 - -:|> E2 [[psysml:d96439d0-54ae-42c8-b560-5f0ede470e61 ]] \r\n",
       "E3 o- - \"1\"E5 [[psysml:880a21a1-46d7-4f3d-9543-241b40e3ab4a ]] \r\n",
       "E6 o- - \"1\"E7 [[psysml:98390341-db8e-40b6-aced-fec2311e0a9d ]] \r\n",
       "E7 - -:|> E2 [[psysml:6f9217eb-859f-4957-bc31-6c1306f83367 ]] \r\n",
       "E6 o- - \"1\"E8 [[psysml:15a7c7be-761e-4e1c-a126-babbedfba5ca ]] \r\n",
       "E9 o- - \"1\"E10 [[psysml:a15de342-1742-4b99-9b86-ed8c6fb30ab8 ]] \r\n",
       "E10 - -:|> E2 [[psysml:81b1dfc1-849b-47a4-a859-9ae7a728ef15 ]] \r\n",
       "E9 o- - \"1\"E11 [[psysml:fe2242fc-88cc-4430-bc2f-98e79ba2cc70 ]] \r\n",
       "E12 o- - \"1\"E13 [[psysml:0c56cab0-046e-4827-a921-af226384c943 ]] \r\n",
       "E13 o- - \"1\"E14 [[psysml:12334834-5f3e-4b20-9f0b-aad671391bfa ]] \r\n",
       "E14 - -:|> E2 [[psysml:f15866fc-26c5-4fac-ba02-f8f796eed5e8 ]] \r\n",
       "E13 o- - \"1\"E15 [[psysml:ce878baa-f80f-4009-adda-6088e19c872e ]] \r\n",
       "E14 -[thickness=3]- E15 [[psysml:1f31a0eb-24e7-4abd-8eab-15c525015988 ]] \r\n",
       "E14 -[thickness=3]- E15 [[psysml:c2fd36d5-55a7-4367-ae55-c3f656adabca ]] \r\n",
       "@enduml\r\n",
       "\n",
       "PlantUML version 1.2020.13(Sat Jun 13 12:26:38 UTC 2020)\n",
       "(EPL source distribution)\n",
       "Java Runtime: OpenJDK Runtime Environment\n",
       "JVM: OpenJDK 64-Bit Server VM\n",
       "Default Encoding: UTF-8\n",
       "Language: en\n",
       "Country: null\n",
       "--></g></svg>"
      ]
     },
     "execution_count": 23,
     "metadata": {},
     "output_type": "execute_result"
    }
   ],
   "source": [
    "%viz --style=\"STDCOLOR\" --view=\"Default\" \"ConjugationTest\""
   ]
  },
  {
   "cell_type": "code",
   "execution_count": 24,
   "id": "823d25f4",
   "metadata": {
    "execution": {
     "iopub.execute_input": "2022-08-19T08:18:13.409765Z",
     "iopub.status.busy": "2022-08-19T08:18:13.409315Z",
     "iopub.status.idle": "2022-08-19T08:18:13.455505Z",
     "shell.execute_reply": "2022-08-19T08:18:13.455102Z"
    }
   },
   "outputs": [
    {
     "data": {
      "image/svg+xml": [
       "<?xml version=\"1.0\" encoding=\"UTF-8\" standalone=\"no\"?><svg xmlns=\"http://www.w3.org/2000/svg\" xmlns:xlink=\"http://www.w3.org/1999/xlink\" contentScriptType=\"application/ecmascript\" contentStyleType=\"text/css\" height=\"433px\" preserveAspectRatio=\"none\" style=\"width:611px;height:433px;\" version=\"1.1\" viewBox=\"0 0 611 433\" width=\"611px\" zoomAndPan=\"magnify\"><defs><filter height=\"300%\" id=\"f1gbptudeof818\" width=\"300%\" x=\"-1\" y=\"-1\"><feGaussianBlur result=\"blurOut\" stdDeviation=\"2.0\"/><feColorMatrix in=\"blurOut\" result=\"blurOut2\" type=\"matrix\" values=\"0 0 0 0 0 0 0 0 0 0 0 0 0 0 0 0 0 0 .4 0\"/><feOffset dx=\"4.0\" dy=\"4.0\" in=\"blurOut2\" result=\"blurOut3\"/><feBlend in=\"SourceGraphic\" in2=\"blurOut3\" mode=\"normal\"/></filter></defs><g><!--MD5=[fbc87193dbaf4d95561dea2c320d4a47]\n",
       "cluster E1--><a href=\"psysml:4e179b45-ef84-478c-a2da-b16af7c43fe7\" target=\"_top\" title=\"psysml:4e179b45-ef84-478c-a2da-b16af7c43fe7\" xlink:actuate=\"onRequest\" xlink:href=\"psysml:4e179b45-ef84-478c-a2da-b16af7c43fe7\" xlink:show=\"new\" xlink:title=\"psysml:4e179b45-ef84-478c-a2da-b16af7c43fe7\" xlink:type=\"simple\"><polygon fill=\"#FFFFFF\" filter=\"url(#f1gbptudeof818)\" points=\"16,6,136,6,143,28.2969,589,28.2969,589,421,16,421,16,6\" style=\"stroke: #000000; stroke-width: 1.5;\"/><line style=\"stroke: #000000; stroke-width: 1.5;\" x1=\"16\" x2=\"143\" y1=\"28.2969\" y2=\"28.2969\"/><text fill=\"#000000\" font-family=\"sans-serif\" font-size=\"14\" font-weight=\"bold\" lengthAdjust=\"spacingAndGlyphs\" textLength=\"114\" x=\"20\" y=\"20.9951\">ConjugationTest</text></a><!--MD5=[b4997ac47864f28c2f74865a473b2911]\n",
       "class E2--><a href=\"psysml:859d5a2d-b524-488b-9af4-e0f987adcacf\" target=\"_top\" title=\"psysml:859d5a2d-b524-488b-9af4-e0f987adcacf\" xlink:actuate=\"onRequest\" xlink:href=\"psysml:859d5a2d-b524-488b-9af4-e0f987adcacf\" xlink:show=\"new\" xlink:title=\"psysml:859d5a2d-b524-488b-9af4-e0f987adcacf\" xlink:type=\"simple\"><rect fill=\"#FEFECE\" filter=\"url(#f1gbptudeof818)\" height=\"45.9375\" id=\"E2\" style=\"stroke: #A80036; stroke-width: 1.5;\" width=\"70\" x=\"216\" y=\"359\"/><text fill=\"#000000\" font-family=\"sans-serif\" font-size=\"12\" font-style=\"italic\" lengthAdjust=\"spacingAndGlyphs\" textLength=\"68\" x=\"217\" y=\"375.1387\">«port  def»</text><text fill=\"#000000\" font-family=\"sans-serif\" font-size=\"12\" lengthAdjust=\"spacingAndGlyphs\" textLength=\"8\" x=\"247\" y=\"389.1074\">P</text><line style=\"stroke: #A80036; stroke-width: 1.5;\" x1=\"217\" x2=\"285\" y1=\"396.9375\" y2=\"396.9375\"/></a><!--MD5=[09b614a08d8cba4a07c9adeb5e0fee81]\n",
       "class E3--><a href=\"psysml:615e73ac-8544-4e42-b424-8a4747867d0e\" target=\"_top\" title=\"psysml:615e73ac-8544-4e42-b424-8a4747867d0e\" xlink:actuate=\"onRequest\" xlink:href=\"psysml:615e73ac-8544-4e42-b424-8a4747867d0e\" xlink:show=\"new\" xlink:title=\"psysml:615e73ac-8544-4e42-b424-8a4747867d0e\" xlink:type=\"simple\"><rect fill=\"#FEFECE\" filter=\"url(#f1gbptudeof818)\" height=\"45.9375\" id=\"E3\" style=\"stroke: #A80036; stroke-width: 1.5;\" width=\"70\" x=\"471\" y=\"147\"/><text fill=\"#000000\" font-family=\"sans-serif\" font-size=\"12\" font-style=\"italic\" lengthAdjust=\"spacingAndGlyphs\" textLength=\"68\" x=\"472\" y=\"163.1387\">«part  def»</text><text fill=\"#000000\" font-family=\"sans-serif\" font-size=\"12\" lengthAdjust=\"spacingAndGlyphs\" textLength=\"8\" x=\"502\" y=\"177.1074\">B</text><line style=\"stroke: #A80036; stroke-width: 1.5;\" x1=\"472\" x2=\"540\" y1=\"184.9375\" y2=\"184.9375\"/></a><!--MD5=[ebbe1d658d1005bcc118a6aa81145e00]\n",
       "class E4--><a href=\"psysml:37d2c32c-e4e6-4c0b-af75-96cd6556dd4d\" target=\"_top\" title=\"psysml:37d2c32c-e4e6-4c0b-af75-96cd6556dd4d\" xlink:actuate=\"onRequest\" xlink:href=\"psysml:37d2c32c-e4e6-4c0b-af75-96cd6556dd4d\" xlink:show=\"new\" xlink:title=\"psysml:37d2c32c-e4e6-4c0b-af75-96cd6556dd4d\" xlink:type=\"simple\"><rect fill=\"#FEFECE\" filter=\"url(#f1gbptudeof818)\" height=\"45.9375\" id=\"E4\" rx=\"10\" ry=\"10\" style=\"stroke: #A80036; stroke-width: 1.5;\" width=\"42\" x=\"454\" y=\"253\"/><text fill=\"#000000\" font-family=\"sans-serif\" font-size=\"12\" font-style=\"italic\" lengthAdjust=\"spacingAndGlyphs\" textLength=\"40\" x=\"455\" y=\"269.1387\">«port»</text><text fill=\"#000000\" font-family=\"sans-serif\" font-size=\"12\" lengthAdjust=\"spacingAndGlyphs\" textLength=\"32\" x=\"457\" y=\"283.1074\">p1: P</text><line style=\"stroke: #A80036; stroke-width: 1.5;\" x1=\"455\" x2=\"495\" y1=\"290.9375\" y2=\"290.9375\"/></a><!--MD5=[270fce915f116d4de14055a7c1d9a0f3]\n",
       "class E5--><a href=\"psysml:a7d82e4a-e12d-4520-9ae6-c89754eb7506\" target=\"_top\" title=\"psysml:a7d82e4a-e12d-4520-9ae6-c89754eb7506\" xlink:actuate=\"onRequest\" xlink:href=\"psysml:a7d82e4a-e12d-4520-9ae6-c89754eb7506\" xlink:show=\"new\" xlink:title=\"psysml:a7d82e4a-e12d-4520-9ae6-c89754eb7506\" xlink:type=\"simple\"><rect fill=\"#FEFECE\" filter=\"url(#f1gbptudeof818)\" height=\"45.9375\" id=\"E5\" rx=\"10\" ry=\"10\" style=\"stroke: #A80036; stroke-width: 1.5;\" width=\"42\" x=\"531\" y=\"253\"/><text fill=\"#000000\" font-family=\"sans-serif\" font-size=\"12\" font-style=\"italic\" lengthAdjust=\"spacingAndGlyphs\" textLength=\"40\" x=\"532\" y=\"269.1387\">«port»</text><text fill=\"#000000\" font-family=\"sans-serif\" font-size=\"12\" lengthAdjust=\"spacingAndGlyphs\" textLength=\"16\" x=\"542\" y=\"283.1074\">p2</text><line style=\"stroke: #A80036; stroke-width: 1.5;\" x1=\"532\" x2=\"572\" y1=\"290.9375\" y2=\"290.9375\"/></a><!--MD5=[60a26617385b1d2d0262a64233df1f8d]\n",
       "class E6--><a href=\"psysml:5cdadcae-4d33-45cc-84a1-e26eca79ba4d\" target=\"_top\" title=\"psysml:5cdadcae-4d33-45cc-84a1-e26eca79ba4d\" xlink:actuate=\"onRequest\" xlink:href=\"psysml:5cdadcae-4d33-45cc-84a1-e26eca79ba4d\" xlink:show=\"new\" xlink:title=\"psysml:5cdadcae-4d33-45cc-84a1-e26eca79ba4d\" xlink:type=\"simple\"><rect fill=\"#FEFECE\" filter=\"url(#f1gbptudeof818)\" height=\"45.9375\" id=\"E6\" style=\"stroke: #A80036; stroke-width: 1.5;\" width=\"114\" x=\"274\" y=\"147\"/><text fill=\"#000000\" font-family=\"sans-serif\" font-size=\"12\" font-style=\"italic\" lengthAdjust=\"spacingAndGlyphs\" textLength=\"112\" x=\"275\" y=\"163.1387\">«connection  def»</text><text fill=\"#000000\" font-family=\"sans-serif\" font-size=\"12\" lengthAdjust=\"spacingAndGlyphs\" textLength=\"8\" x=\"327\" y=\"177.1074\">A</text><line style=\"stroke: #A80036; stroke-width: 1.5;\" x1=\"275\" x2=\"387\" y1=\"184.9375\" y2=\"184.9375\"/></a><!--MD5=[2156ba9850f5573cc1fc38a6a4b2f02b]\n",
       "class E7--><a href=\"psysml:7fb982ae-cae7-41b0-848a-52bb93191ec3\" target=\"_top\" title=\"psysml:7fb982ae-cae7-41b0-848a-52bb93191ec3\" xlink:actuate=\"onRequest\" xlink:href=\"psysml:7fb982ae-cae7-41b0-848a-52bb93191ec3\" xlink:show=\"new\" xlink:title=\"psysml:7fb982ae-cae7-41b0-848a-52bb93191ec3\" xlink:type=\"simple\"><rect fill=\"#FEFECE\" filter=\"url(#f1gbptudeof818)\" height=\"45.9375\" id=\"E7\" rx=\"10\" ry=\"10\" style=\"stroke: #A80036; stroke-width: 1.5;\" width=\"42\" x=\"300\" y=\"253\"/><text fill=\"#000000\" font-family=\"sans-serif\" font-size=\"12\" font-style=\"italic\" lengthAdjust=\"spacingAndGlyphs\" textLength=\"40\" x=\"301\" y=\"269.1387\">«port»</text><text fill=\"#000000\" font-family=\"sans-serif\" font-size=\"12\" lengthAdjust=\"spacingAndGlyphs\" textLength=\"32\" x=\"303\" y=\"283.1074\">p1: P</text><line style=\"stroke: #A80036; stroke-width: 1.5;\" x1=\"301\" x2=\"341\" y1=\"290.9375\" y2=\"290.9375\"/></a><!--MD5=[b9389687b975829384b498ac4b7476b2]\n",
       "class E8--><a href=\"psysml:5c21b9df-62cf-4ee8-9145-76efb13de7e4\" target=\"_top\" title=\"psysml:5c21b9df-62cf-4ee8-9145-76efb13de7e4\" xlink:actuate=\"onRequest\" xlink:href=\"psysml:5c21b9df-62cf-4ee8-9145-76efb13de7e4\" xlink:show=\"new\" xlink:title=\"psysml:5c21b9df-62cf-4ee8-9145-76efb13de7e4\" xlink:type=\"simple\"><rect fill=\"#FEFECE\" filter=\"url(#f1gbptudeof818)\" height=\"45.9375\" id=\"E8\" rx=\"10\" ry=\"10\" style=\"stroke: #A80036; stroke-width: 1.5;\" width=\"42\" x=\"377\" y=\"253\"/><text fill=\"#000000\" font-family=\"sans-serif\" font-size=\"12\" font-style=\"italic\" lengthAdjust=\"spacingAndGlyphs\" textLength=\"40\" x=\"378\" y=\"269.1387\">«port»</text><text fill=\"#000000\" font-family=\"sans-serif\" font-size=\"12\" lengthAdjust=\"spacingAndGlyphs\" textLength=\"16\" x=\"388\" y=\"283.1074\">p2</text><line style=\"stroke: #A80036; stroke-width: 1.5;\" x1=\"378\" x2=\"418\" y1=\"290.9375\" y2=\"290.9375\"/></a><!--MD5=[fd4143e9d270a159db93a4ea2a975926]\n",
       "class E9--><a href=\"psysml:2bbab23f-cc40-4354-88cc-493e0b41ffd4\" target=\"_top\" title=\"psysml:2bbab23f-cc40-4354-88cc-493e0b41ffd4\" xlink:actuate=\"onRequest\" xlink:href=\"psysml:2bbab23f-cc40-4354-88cc-493e0b41ffd4\" xlink:show=\"new\" xlink:title=\"psysml:2bbab23f-cc40-4354-88cc-493e0b41ffd4\" xlink:type=\"simple\"><rect fill=\"#FEFECE\" filter=\"url(#f1gbptudeof818)\" height=\"45.9375\" id=\"E9\" style=\"stroke: #A80036; stroke-width: 1.5;\" width=\"100\" x=\"138\" y=\"147\"/><text fill=\"#000000\" font-family=\"sans-serif\" font-size=\"12\" font-style=\"italic\" lengthAdjust=\"spacingAndGlyphs\" textLength=\"98\" x=\"139\" y=\"163.1387\">«interface  def»</text><text fill=\"#000000\" font-family=\"sans-serif\" font-size=\"12\" lengthAdjust=\"spacingAndGlyphs\" textLength=\"3\" x=\"186.5\" y=\"177.1074\">I</text><line style=\"stroke: #A80036; stroke-width: 1.5;\" x1=\"139\" x2=\"237\" y1=\"184.9375\" y2=\"184.9375\"/></a><!--MD5=[96f4274e9e20536e775497830990834d]\n",
       "class E10--><a href=\"psysml:e0785fbe-faad-409c-b39f-62ae49a7d6e0\" target=\"_top\" title=\"psysml:e0785fbe-faad-409c-b39f-62ae49a7d6e0\" xlink:actuate=\"onRequest\" xlink:href=\"psysml:e0785fbe-faad-409c-b39f-62ae49a7d6e0\" xlink:show=\"new\" xlink:title=\"psysml:e0785fbe-faad-409c-b39f-62ae49a7d6e0\" xlink:type=\"simple\"><rect fill=\"#FEFECE\" filter=\"url(#f1gbptudeof818)\" height=\"45.9375\" id=\"E10\" rx=\"10\" ry=\"10\" style=\"stroke: #A80036; stroke-width: 1.5;\" width=\"42\" x=\"146\" y=\"253\"/><text fill=\"#000000\" font-family=\"sans-serif\" font-size=\"12\" font-style=\"italic\" lengthAdjust=\"spacingAndGlyphs\" textLength=\"40\" x=\"147\" y=\"269.1387\">«port»</text><text fill=\"#000000\" font-family=\"sans-serif\" font-size=\"12\" lengthAdjust=\"spacingAndGlyphs\" textLength=\"32\" x=\"149\" y=\"283.1074\">p1: P</text><line style=\"stroke: #A80036; stroke-width: 1.5;\" x1=\"147\" x2=\"187\" y1=\"290.9375\" y2=\"290.9375\"/></a><!--MD5=[1dd1bfd58a279cf63c5f349dbc8fc6a1]\n",
       "class E11--><a href=\"psysml:a18508b4-2f12-4bca-8dd1-291939c34d14\" target=\"_top\" title=\"psysml:a18508b4-2f12-4bca-8dd1-291939c34d14\" xlink:actuate=\"onRequest\" xlink:href=\"psysml:a18508b4-2f12-4bca-8dd1-291939c34d14\" xlink:show=\"new\" xlink:title=\"psysml:a18508b4-2f12-4bca-8dd1-291939c34d14\" xlink:type=\"simple\"><rect fill=\"#FEFECE\" filter=\"url(#f1gbptudeof818)\" height=\"45.9375\" id=\"E11\" rx=\"10\" ry=\"10\" style=\"stroke: #A80036; stroke-width: 1.5;\" width=\"42\" x=\"223\" y=\"253\"/><text fill=\"#000000\" font-family=\"sans-serif\" font-size=\"12\" font-style=\"italic\" lengthAdjust=\"spacingAndGlyphs\" textLength=\"40\" x=\"224\" y=\"269.1387\">«port»</text><text fill=\"#000000\" font-family=\"sans-serif\" font-size=\"12\" lengthAdjust=\"spacingAndGlyphs\" textLength=\"16\" x=\"234\" y=\"283.1074\">p2</text><line style=\"stroke: #A80036; stroke-width: 1.5;\" x1=\"224\" x2=\"264\" y1=\"290.9375\" y2=\"290.9375\"/></a><!--MD5=[49a0ec8f00dab7302a31f22d0f0fe584]\n",
       "class E12--><a href=\"psysml:cd0027e5-9ed9-4216-bffa-1e31fa367fb3\" target=\"_top\" title=\"psysml:cd0027e5-9ed9-4216-bffa-1e31fa367fb3\" xlink:actuate=\"onRequest\" xlink:href=\"psysml:cd0027e5-9ed9-4216-bffa-1e31fa367fb3\" xlink:show=\"new\" xlink:title=\"psysml:cd0027e5-9ed9-4216-bffa-1e31fa367fb3\" xlink:type=\"simple\"><rect fill=\"#FEFECE\" filter=\"url(#f1gbptudeof818)\" height=\"45.9375\" id=\"E12\" style=\"stroke: #A80036; stroke-width: 1.5;\" width=\"70\" x=\"44\" y=\"41\"/><text fill=\"#000000\" font-family=\"sans-serif\" font-size=\"12\" font-style=\"italic\" lengthAdjust=\"spacingAndGlyphs\" textLength=\"68\" x=\"45\" y=\"57.1387\">«part  def»</text><text fill=\"#000000\" font-family=\"sans-serif\" font-size=\"12\" lengthAdjust=\"spacingAndGlyphs\" textLength=\"16\" x=\"71\" y=\"71.1074\">B1</text><line style=\"stroke: #A80036; stroke-width: 1.5;\" x1=\"45\" x2=\"113\" y1=\"78.9375\" y2=\"78.9375\"/></a><!--MD5=[ee3c913d1a06f366521f9ef512b67efe]\n",
       "class E13--><a href=\"psysml:3cf8fc76-e05d-49bd-b29f-3b88a47b72de\" target=\"_top\" title=\"psysml:3cf8fc76-e05d-49bd-b29f-3b88a47b72de\" xlink:actuate=\"onRequest\" xlink:href=\"psysml:3cf8fc76-e05d-49bd-b29f-3b88a47b72de\" xlink:show=\"new\" xlink:title=\"psysml:3cf8fc76-e05d-49bd-b29f-3b88a47b72de\" xlink:type=\"simple\"><rect fill=\"#FEFECE\" filter=\"url(#f1gbptudeof818)\" height=\"45.9375\" id=\"E13\" rx=\"10\" ry=\"10\" style=\"stroke: #A80036; stroke-width: 1.5;\" width=\"42\" x=\"58\" y=\"147\"/><text fill=\"#000000\" font-family=\"sans-serif\" font-size=\"12\" font-style=\"italic\" lengthAdjust=\"spacingAndGlyphs\" textLength=\"40\" x=\"59\" y=\"163.1387\">«part»</text><text fill=\"#000000\" font-family=\"sans-serif\" font-size=\"12\" lengthAdjust=\"spacingAndGlyphs\" textLength=\"8\" x=\"73\" y=\"177.1074\">p</text><line style=\"stroke: #A80036; stroke-width: 1.5;\" x1=\"59\" x2=\"99\" y1=\"184.9375\" y2=\"184.9375\"/></a><!--MD5=[bee11217b2f71d958a27249dc326068c]\n",
       "class E14--><a href=\"psysml:6cf362ef-4bb1-44a5-8272-767638a97c43\" target=\"_top\" title=\"psysml:6cf362ef-4bb1-44a5-8272-767638a97c43\" xlink:actuate=\"onRequest\" xlink:href=\"psysml:6cf362ef-4bb1-44a5-8272-767638a97c43\" xlink:show=\"new\" xlink:title=\"psysml:6cf362ef-4bb1-44a5-8272-767638a97c43\" xlink:type=\"simple\"><rect fill=\"#FEFECE\" filter=\"url(#f1gbptudeof818)\" height=\"45.9375\" id=\"E14\" rx=\"10\" ry=\"10\" style=\"stroke: #A80036; stroke-width: 1.5;\" width=\"42\" x=\"69\" y=\"253\"/><text fill=\"#000000\" font-family=\"sans-serif\" font-size=\"12\" font-style=\"italic\" lengthAdjust=\"spacingAndGlyphs\" textLength=\"40\" x=\"70\" y=\"269.1387\">«port»</text><text fill=\"#000000\" font-family=\"sans-serif\" font-size=\"12\" lengthAdjust=\"spacingAndGlyphs\" textLength=\"32\" x=\"72\" y=\"283.1074\">p1: P</text><line style=\"stroke: #A80036; stroke-width: 1.5;\" x1=\"70\" x2=\"110\" y1=\"290.9375\" y2=\"290.9375\"/></a><!--MD5=[0c48fb7552dae8cbbef69381101a84c8]\n",
       "class E15--><a href=\"psysml:33e7cbb5-c462-4d34-9030-b3438d816b29\" target=\"_top\" title=\"psysml:33e7cbb5-c462-4d34-9030-b3438d816b29\" xlink:actuate=\"onRequest\" xlink:href=\"psysml:33e7cbb5-c462-4d34-9030-b3438d816b29\" xlink:show=\"new\" xlink:title=\"psysml:33e7cbb5-c462-4d34-9030-b3438d816b29\" xlink:type=\"simple\"><rect fill=\"#FEFECE\" filter=\"url(#f1gbptudeof818)\" height=\"45.9375\" id=\"E15\" rx=\"10\" ry=\"10\" style=\"stroke: #A80036; stroke-width: 1.5;\" width=\"42\" x=\"69\" y=\"359\"/><text fill=\"#000000\" font-family=\"sans-serif\" font-size=\"12\" font-style=\"italic\" lengthAdjust=\"spacingAndGlyphs\" textLength=\"40\" x=\"70\" y=\"375.1387\">«port»</text><text fill=\"#000000\" font-family=\"sans-serif\" font-size=\"12\" lengthAdjust=\"spacingAndGlyphs\" textLength=\"16\" x=\"80\" y=\"389.1074\">p2</text><line style=\"stroke: #A80036; stroke-width: 1.5;\" x1=\"70\" x2=\"110\" y1=\"396.9375\" y2=\"396.9375\"/></a><!--MD5=[4672eba38e49728da53d11aeb285b987]\n",
       "reverse link E3 to E4--><a href=\"psysml:e09aa0cf-99c0-4ed5-833c-e6cdd9353c0b\" target=\"_top\" title=\"psysml:e09aa0cf-99c0-4ed5-833c-e6cdd9353c0b\" xlink:actuate=\"onRequest\" xlink:href=\"psysml:e09aa0cf-99c0-4ed5-833c-e6cdd9353c0b\" xlink:show=\"new\" xlink:title=\"psysml:e09aa0cf-99c0-4ed5-833c-e6cdd9353c0b\" xlink:type=\"simple\"><path d=\"M495.58,205.96 C490.95,221.51 485.63,239.33 481.56,252.98 \" fill=\"none\" id=\"E3&lt;-E4\" style=\"stroke: #A80036; stroke-width: 1.0;\"/><polygon fill=\"#FFFFFF\" points=\"499.43,193.06,493.8824,197.6669,496.0012,204.5597,501.5488,199.9528,499.43,193.06\" style=\"stroke: #A80036; stroke-width: 1.0;\"/><text fill=\"#000000\" font-family=\"sans-serif\" font-size=\"13\" lengthAdjust=\"spacingAndGlyphs\" textLength=\"8\" x=\"474.248\" y=\"241.8709\">1</text></a><!--MD5=[185131fc0dcab0a4505a2ebe144e961b]\n",
       "link E4 to E2--><a href=\"psysml:d96439d0-54ae-42c8-b560-5f0ede470e61\" target=\"_top\" title=\"psysml:d96439d0-54ae-42c8-b560-5f0ede470e61\" xlink:actuate=\"onRequest\" xlink:href=\"psysml:d96439d0-54ae-42c8-b560-5f0ede470e61\" xlink:show=\"new\" xlink:title=\"psysml:d96439d0-54ae-42c8-b560-5f0ede470e61\" xlink:type=\"simple\"><path d=\"M453.92,289.75 C448.47,292.89 442.57,296.17 437,299 C393.29,321.2 342.25,343.45 304.71,359.16 \" fill=\"none\" id=\"E4-&gt;E2\" style=\"stroke: #A80036; stroke-width: 1.0;\"/><polygon fill=\"#FFFFFF\" points=\"286.15,366.85,301.0211,353.1077,306.3823,366.0405,286.15,366.85\" style=\"stroke: #A80036; stroke-width: 1.0;\"/><ellipse cx=\"307.0525\" cy=\"352.7725\" fill=\"#A80036\" rx=\"2\" ry=\"2\" style=\"stroke: #A80036; stroke-width: 1.0;\"/><ellipse cx=\"310.8819\" cy=\"362.0102\" fill=\"#A80036\" rx=\"2\" ry=\"2\" style=\"stroke: #A80036; stroke-width: 1.0;\"/></a><!--MD5=[191cde3d490a3f6d7bb551fe3ddca469]\n",
       "reverse link E3 to E5--><a href=\"psysml:880a21a1-46d7-4f3d-9543-241b40e3ab4a\" target=\"_top\" title=\"psysml:880a21a1-46d7-4f3d-9543-241b40e3ab4a\" xlink:actuate=\"onRequest\" xlink:href=\"psysml:880a21a1-46d7-4f3d-9543-241b40e3ab4a\" xlink:show=\"new\" xlink:title=\"psysml:880a21a1-46d7-4f3d-9543-241b40e3ab4a\" xlink:type=\"simple\"><path d=\"M521.05,205.03 C528.02,220.78 536.1,239.06 542.26,252.98 \" fill=\"none\" id=\"E3&lt;-E5\" style=\"stroke: #A80036; stroke-width: 1.0;\"/><polygon fill=\"#FFFFFF\" points=\"515.76,193.06,514.5329,200.1659,520.6202,204.0317,521.8473,196.9258,515.76,193.06\" style=\"stroke: #A80036; stroke-width: 1.0;\"/><text fill=\"#000000\" font-family=\"sans-serif\" font-size=\"13\" lengthAdjust=\"spacingAndGlyphs\" textLength=\"8\" x=\"530.5674\" y=\"241.8709\">1</text></a><!--MD5=[3f50a3473f1dfb74d3f76443e03635af]\n",
       "reverse link E6 to E7--><a href=\"psysml:98390341-db8e-40b6-aced-fec2311e0a9d\" target=\"_top\" title=\"psysml:98390341-db8e-40b6-aced-fec2311e0a9d\" xlink:actuate=\"onRequest\" xlink:href=\"psysml:98390341-db8e-40b6-aced-fec2311e0a9d\" xlink:show=\"new\" xlink:title=\"psysml:98390341-db8e-40b6-aced-fec2311e0a9d\" xlink:type=\"simple\"><path d=\"M327.59,206.44 C326.11,221.87 324.42,239.47 323.12,252.98 \" fill=\"none\" id=\"E6&lt;-E7\" style=\"stroke: #A80036; stroke-width: 1.0;\"/><polygon fill=\"#FFFFFF\" points=\"328.88,193.06,324.3242,198.6497,327.7317,205.0049,332.2875,199.4152,328.88,193.06\" style=\"stroke: #A80036; stroke-width: 1.0;\"/><text fill=\"#000000\" font-family=\"sans-serif\" font-size=\"13\" lengthAdjust=\"spacingAndGlyphs\" textLength=\"8\" x=\"314.6148\" y=\"241.8709\">1</text></a><!--MD5=[583832df87f4419a098336a29a52fa00]\n",
       "link E7 to E2--><a href=\"psysml:6f9217eb-859f-4957-bc31-6c1306f83367\" target=\"_top\" title=\"psysml:6f9217eb-859f-4957-bc31-6c1306f83367\" xlink:actuate=\"onRequest\" xlink:href=\"psysml:6f9217eb-859f-4957-bc31-6c1306f83367\" xlink:show=\"new\" xlink:title=\"psysml:6f9217eb-859f-4957-bc31-6c1306f83367\" xlink:type=\"simple\"><path d=\"M306.15,299.06 C297.71,311.6 286.89,327.68 277.07,342.26 \" fill=\"none\" id=\"E7-&gt;E2\" style=\"stroke: #A80036; stroke-width: 1.0;\"/><polygon fill=\"#FFFFFF\" points=\"265.82,358.98,270.609,339.306,282.2284,347.1156,265.82,358.98\" style=\"stroke: #A80036; stroke-width: 1.0;\"/><ellipse cx=\"275.4486\" cy=\"335.6909\" fill=\"#A80036\" rx=\"2\" ry=\"2\" style=\"stroke: #A80036; stroke-width: 1.0;\"/><ellipse cx=\"283.7481\" cy=\"341.2692\" fill=\"#A80036\" rx=\"2\" ry=\"2\" style=\"stroke: #A80036; stroke-width: 1.0;\"/></a><!--MD5=[f4cf0736d43fd73c4ef68817c49d37d5]\n",
       "reverse link E6 to E8--><a href=\"psysml:15a7c7be-761e-4e1c-a126-babbedfba5ca\" target=\"_top\" title=\"psysml:15a7c7be-761e-4e1c-a126-babbedfba5ca\" xlink:actuate=\"onRequest\" xlink:href=\"psysml:15a7c7be-761e-4e1c-a126-babbedfba5ca\" xlink:show=\"new\" xlink:title=\"psysml:15a7c7be-761e-4e1c-a126-babbedfba5ca\" xlink:type=\"simple\"><path d=\"M352.32,204.09 C362.61,220.06 374.67,238.78 383.81,252.98 \" fill=\"none\" id=\"E6&lt;-E8\" style=\"stroke: #A80036; stroke-width: 1.0;\"/><polygon fill=\"#FFFFFF\" points=\"345.21,193.06,345.0979,200.2702,351.7104,203.1469,351.8225,195.9366,345.21,193.06\" style=\"stroke: #A80036; stroke-width: 1.0;\"/><text fill=\"#000000\" font-family=\"sans-serif\" font-size=\"13\" lengthAdjust=\"spacingAndGlyphs\" textLength=\"8\" x=\"370.9214\" y=\"241.8709\">1</text></a><!--MD5=[23ac544a70576c3e717098101004234c]\n",
       "reverse link E9 to E10--><a href=\"psysml:a15de342-1742-4b99-9b86-ed8c6fb30ab8\" target=\"_top\" title=\"psysml:a15de342-1742-4b99-9b86-ed8c6fb30ab8\" xlink:actuate=\"onRequest\" xlink:href=\"psysml:a15de342-1742-4b99-9b86-ed8c6fb30ab8\" xlink:show=\"new\" xlink:title=\"psysml:a15de342-1742-4b99-9b86-ed8c6fb30ab8\" xlink:type=\"simple\"><path d=\"M180.94,205.96 C177.8,221.51 174.2,239.33 171.45,252.98 \" fill=\"none\" id=\"E9&lt;-E10\" style=\"stroke: #A80036; stroke-width: 1.0;\"/><polygon fill=\"#FFFFFF\" points=\"183.55,193.06,178.4422,198.1502,181.1763,204.8229,186.2841,199.7327,183.55,193.06\" style=\"stroke: #A80036; stroke-width: 1.0;\"/><text fill=\"#000000\" font-family=\"sans-serif\" font-size=\"13\" lengthAdjust=\"spacingAndGlyphs\" textLength=\"8\" x=\"163.5709\" y=\"241.8709\">1</text></a><!--MD5=[0f36bececdf0dff6e600d6f64214b0f1]\n",
       "link E10 to E2--><a href=\"psysml:81b1dfc1-849b-47a4-a859-9ae7a728ef15\" target=\"_top\" title=\"psysml:81b1dfc1-849b-47a4-a859-9ae7a728ef15\" xlink:actuate=\"onRequest\" xlink:href=\"psysml:81b1dfc1-849b-47a4-a859-9ae7a728ef15\" xlink:show=\"new\" xlink:title=\"psysml:81b1dfc1-849b-47a4-a859-9ae7a728ef15\" xlink:type=\"simple\"><path d=\"M184.81,299.06 C195.17,311.88 208.51,328.39 220.49,343.22 \" fill=\"none\" id=\"E10-&gt;E2\" style=\"stroke: #A80036; stroke-width: 1.0;\"/><polygon fill=\"#FFFFFF\" points=\"233.21,358.98,215.8236,348.6016,226.7127,339.8023,233.21,358.98\" style=\"stroke: #A80036; stroke-width: 1.0;\"/><ellipse cx=\"213.7966\" cy=\"342.9111\" fill=\"#A80036\" rx=\"2\" ry=\"2\" style=\"stroke: #A80036; stroke-width: 1.0;\"/><ellipse cx=\"221.5745\" cy=\"336.6259\" fill=\"#A80036\" rx=\"2\" ry=\"2\" style=\"stroke: #A80036; stroke-width: 1.0;\"/></a><!--MD5=[1fc04a95fd77ad5ce46c1a3027516051]\n",
       "reverse link E9 to E11--><a href=\"psysml:fe2242fc-88cc-4430-bc2f-98e79ba2cc70\" target=\"_top\" title=\"psysml:fe2242fc-88cc-4430-bc2f-98e79ba2cc70\" xlink:actuate=\"onRequest\" xlink:href=\"psysml:fe2242fc-88cc-4430-bc2f-98e79ba2cc70\" xlink:show=\"new\" xlink:title=\"psysml:fe2242fc-88cc-4430-bc2f-98e79ba2cc70\" xlink:type=\"simple\"><path d=\"M206.07,204.56 C214.61,220.42 224.57,238.92 232.14,252.98 \" fill=\"none\" id=\"E9&lt;-E11\" style=\"stroke: #A80036; stroke-width: 1.0;\"/><polygon fill=\"#FFFFFF\" points=\"199.88,193.06,199.2038,200.2393,205.5708,203.6248,206.247,196.4455,199.88,193.06\" style=\"stroke: #A80036; stroke-width: 1.0;\"/><text fill=\"#000000\" font-family=\"sans-serif\" font-size=\"13\" lengthAdjust=\"spacingAndGlyphs\" textLength=\"8\" x=\"219.8776\" y=\"241.8709\">1</text></a><!--MD5=[062ed86c389d1a88f61c6380d0491e17]\n",
       "reverse link E12 to E13--><a href=\"psysml:0c56cab0-046e-4827-a921-af226384c943\" target=\"_top\" title=\"psysml:0c56cab0-046e-4827-a921-af226384c943\" xlink:actuate=\"onRequest\" xlink:href=\"psysml:0c56cab0-046e-4827-a921-af226384c943\" xlink:show=\"new\" xlink:title=\"psysml:0c56cab0-046e-4827-a921-af226384c943\" xlink:type=\"simple\"><path d=\"M79,100.44 C79,115.87 79,133.47 79,146.98 \" fill=\"none\" id=\"E12&lt;-E13\" style=\"stroke: #A80036; stroke-width: 1.0;\"/><polygon fill=\"#FFFFFF\" points=\"79,87.06,75,93.06,79,99.06,83,93.06,79,87.06\" style=\"stroke: #A80036; stroke-width: 1.0;\"/><text fill=\"#000000\" font-family=\"sans-serif\" font-size=\"13\" lengthAdjust=\"spacingAndGlyphs\" textLength=\"8\" x=\"69.925\" y=\"135.8709\">1</text></a><!--MD5=[01db00f33b28669d6d9febea71002831]\n",
       "reverse link E13 to E14--><a href=\"psysml:12334834-5f3e-4b20-9f0b-aad671391bfa\" target=\"_top\" title=\"psysml:12334834-5f3e-4b20-9f0b-aad671391bfa\" xlink:actuate=\"onRequest\" xlink:href=\"psysml:12334834-5f3e-4b20-9f0b-aad671391bfa\" xlink:show=\"new\" xlink:title=\"psysml:12334834-5f3e-4b20-9f0b-aad671391bfa\" xlink:type=\"simple\"><path d=\"M82.75,206.44 C84.38,221.87 86.24,239.47 87.67,252.98 \" fill=\"none\" id=\"E13&lt;-E14\" style=\"stroke: #A80036; stroke-width: 1.0;\"/><polygon fill=\"#FFFFFF\" points=\"81.33,193.06,77.9783,199.4448,82.5828,204.9944,85.9345,198.6096,81.33,193.06\" style=\"stroke: #A80036; stroke-width: 1.0;\"/><text fill=\"#000000\" font-family=\"sans-serif\" font-size=\"13\" lengthAdjust=\"spacingAndGlyphs\" textLength=\"8\" x=\"77.9688\" y=\"241.8709\">1</text></a><!--MD5=[e5566ac99d7714697a7fbc17f6b550fe]\n",
       "link E14 to E2--><a href=\"psysml:f15866fc-26c5-4fac-ba02-f8f796eed5e8\" target=\"_top\" title=\"psysml:f15866fc-26c5-4fac-ba02-f8f796eed5e8\" xlink:actuate=\"onRequest\" xlink:href=\"psysml:f15866fc-26c5-4fac-ba02-f8f796eed5e8\" xlink:show=\"new\" xlink:title=\"psysml:f15866fc-26c5-4fac-ba02-f8f796eed5e8\" xlink:type=\"simple\"><path d=\"M111.05,290.6 C133.49,305.09 169.87,328.59 199.91,348 \" fill=\"none\" id=\"E14-&gt;E2\" style=\"stroke: #A80036; stroke-width: 1.0;\"/><polygon fill=\"#FFFFFF\" points=\"216.71,358.85,196.9529,354.4164,204.5518,342.6581,216.71,358.85\" style=\"stroke: #A80036; stroke-width: 1.0;\"/><ellipse cx=\"193.2512\" cy=\"349.6428\" fill=\"#A80036\" rx=\"2\" ry=\"2\" style=\"stroke: #A80036; stroke-width: 1.0;\"/><ellipse cx=\"198.6789\" cy=\"341.244\" fill=\"#A80036\" rx=\"2\" ry=\"2\" style=\"stroke: #A80036; stroke-width: 1.0;\"/></a><!--MD5=[e9a5e828c71fd2209a11a152f562d491]\n",
       "reverse link E13 to E15--><a href=\"psysml:ce878baa-f80f-4009-adda-6088e19c872e\" target=\"_top\" title=\"psysml:ce878baa-f80f-4009-adda-6088e19c872e\" xlink:actuate=\"onRequest\" xlink:href=\"psysml:ce878baa-f80f-4009-adda-6088e19c872e\" xlink:show=\"new\" xlink:title=\"psysml:ce878baa-f80f-4009-adda-6088e19c872e\" xlink:type=\"simple\"><path d=\"M63.75,205.34 C54.23,231.13 45.02,267.31 52,299 C56.73,320.45 67.65,342.96 76.58,358.96 \" fill=\"none\" id=\"E13&lt;-E15\" style=\"stroke: #A80036; stroke-width: 1.0;\"/><polygon fill=\"#FFFFFF\" points=\"68.52,193.23,62.5978,197.3443,64.1179,204.3934,70.0401,200.2791,68.52,193.23\" style=\"stroke: #A80036; stroke-width: 1.0;\"/><text fill=\"#000000\" font-family=\"sans-serif\" font-size=\"13\" lengthAdjust=\"spacingAndGlyphs\" textLength=\"8\" x=\"63.8984\" y=\"347.8455\">1</text></a><!--MD5=[3afbdc645381407e1bc99677323a2513]\n",
       "link E14 to E15--><a href=\"psysml:1f31a0eb-24e7-4abd-8eab-15c525015988\" target=\"_top\" title=\"psysml:1f31a0eb-24e7-4abd-8eab-15c525015988\" xlink:actuate=\"onRequest\" xlink:href=\"psysml:1f31a0eb-24e7-4abd-8eab-15c525015988\" xlink:show=\"new\" xlink:title=\"psysml:1f31a0eb-24e7-4abd-8eab-15c525015988\" xlink:type=\"simple\"><path d=\"M79.35,299.06 C76.55,316.7 76.55,341.34 79.36,358.98 \" fill=\"none\" id=\"E14-E15\" style=\"stroke: #A80036; stroke-width: 3.0;\"/></a><!--MD5=[3afbdc645381407e1bc99677323a2513]\n",
       "link E14 to E15--><a href=\"psysml:c2fd36d5-55a7-4367-ae55-c3f656adabca\" target=\"_top\" title=\"psysml:c2fd36d5-55a7-4367-ae55-c3f656adabca\" xlink:actuate=\"onRequest\" xlink:href=\"psysml:c2fd36d5-55a7-4367-ae55-c3f656adabca\" xlink:show=\"new\" xlink:title=\"psysml:c2fd36d5-55a7-4367-ae55-c3f656adabca\" xlink:type=\"simple\"><path d=\"M101.27,299.06 C104.24,316.7 104.24,341.34 101.27,358.98 \" fill=\"none\" id=\"E14-E15-1\" style=\"stroke: #A80036; stroke-width: 3.0;\"/></a><!--MD5=[db6c98b167a0791bd35c38245f9498a4]\n",
       "@startuml\r\n",
       "skinparam wrapWidth 300\r\n",
       "hide circle\r\n",
       "\r\n",
       "package \"ConjugationTest\" as E1  [[psysml:4e179b45-ef84-478c-a2da-b16af7c43fe7 ]]  {\r\n",
       "comp def \"P\" as E2  <<(T,blue) port  def>> [[psysml:859d5a2d-b524-488b-9af4-e0f987adcacf ]] {\r\n",
       "}\r\n",
       "comp def \"B\" as E3  <<(T,blue) part  def>> [[psysml:615e73ac-8544-4e42-b424-8a4747867d0e ]] {\r\n",
       "}\r\n",
       "comp usage \"p1: P \" as E4  <<(T,blue) port>> [[psysml:37d2c32c-e4e6-4c0b-af75-96cd6556dd4d ]] {\r\n",
       "}\r\n",
       "comp usage \"p2 \" as E5  <<(T,blue) port>> [[psysml:a7d82e4a-e12d-4520-9ae6-c89754eb7506 ]] {\r\n",
       "}\r\n",
       "comp def \"A\" as E6  <<(T,blue) connection  def>> [[psysml:5cdadcae-4d33-45cc-84a1-e26eca79ba4d ]] {\r\n",
       "}\r\n",
       "comp usage \"p1: P \" as E7  <<(T,blue) port>> [[psysml:7fb982ae-cae7-41b0-848a-52bb93191ec3 ]] {\r\n",
       "}\r\n",
       "comp usage \"p2 \" as E8  <<(T,blue) port>> [[psysml:5c21b9df-62cf-4ee8-9145-76efb13de7e4 ]] {\r\n",
       "}\r\n",
       "comp def \"I\" as E9  <<(T,blue) interface  def>> [[psysml:2bbab23f-cc40-4354-88cc-493e0b41ffd4 ]] {\r\n",
       "}\r\n",
       "comp usage \"p1: P \" as E10  <<(T,blue) port>> [[psysml:e0785fbe-faad-409c-b39f-62ae49a7d6e0 ]] {\r\n",
       "}\r\n",
       "comp usage \"p2 \" as E11  <<(T,blue) port>> [[psysml:a18508b4-2f12-4bca-8dd1-291939c34d14 ]] {\r\n",
       "}\r\n",
       "comp def \"B1\" as E12  <<(T,blue) part  def>> [[psysml:cd0027e5-9ed9-4216-bffa-1e31fa367fb3 ]] {\r\n",
       "}\r\n",
       "comp usage \"p \" as E13  <<(T,blue) part>> [[psysml:3cf8fc76-e05d-49bd-b29f-3b88a47b72de ]] {\r\n",
       "}\r\n",
       "comp usage \"p1: P \" as E14  <<(T,blue) port>> [[psysml:6cf362ef-4bb1-44a5-8272-767638a97c43 ]] {\r\n",
       "}\r\n",
       "comp usage \"p2 \" as E15  <<(T,blue) port>> [[psysml:33e7cbb5-c462-4d34-9030-b3438d816b29 ]] {\r\n",
       "}\r\n",
       "}\r\n",
       "E3 o- - \"1\"E4 [[psysml:e09aa0cf-99c0-4ed5-833c-e6cdd9353c0b ]] \r\n",
       "E4 - -:|> E2 [[psysml:d96439d0-54ae-42c8-b560-5f0ede470e61 ]] \r\n",
       "E3 o- - \"1\"E5 [[psysml:880a21a1-46d7-4f3d-9543-241b40e3ab4a ]] \r\n",
       "E6 o- - \"1\"E7 [[psysml:98390341-db8e-40b6-aced-fec2311e0a9d ]] \r\n",
       "E7 - -:|> E2 [[psysml:6f9217eb-859f-4957-bc31-6c1306f83367 ]] \r\n",
       "E6 o- - \"1\"E8 [[psysml:15a7c7be-761e-4e1c-a126-babbedfba5ca ]] \r\n",
       "E9 o- - \"1\"E10 [[psysml:a15de342-1742-4b99-9b86-ed8c6fb30ab8 ]] \r\n",
       "E10 - -:|> E2 [[psysml:81b1dfc1-849b-47a4-a859-9ae7a728ef15 ]] \r\n",
       "E9 o- - \"1\"E11 [[psysml:fe2242fc-88cc-4430-bc2f-98e79ba2cc70 ]] \r\n",
       "E12 o- - \"1\"E13 [[psysml:0c56cab0-046e-4827-a921-af226384c943 ]] \r\n",
       "E13 o- - \"1\"E14 [[psysml:12334834-5f3e-4b20-9f0b-aad671391bfa ]] \r\n",
       "E14 - -:|> E2 [[psysml:f15866fc-26c5-4fac-ba02-f8f796eed5e8 ]] \r\n",
       "E13 o- - \"1\"E15 [[psysml:ce878baa-f80f-4009-adda-6088e19c872e ]] \r\n",
       "E14 -[thickness=3]- E15 [[psysml:1f31a0eb-24e7-4abd-8eab-15c525015988 ]] \r\n",
       "E14 -[thickness=3]- E15 [[psysml:c2fd36d5-55a7-4367-ae55-c3f656adabca ]] \r\n",
       "@enduml\r\n",
       "\n",
       "PlantUML version 1.2020.13(Sat Jun 13 12:26:38 UTC 2020)\n",
       "(EPL source distribution)\n",
       "Java Runtime: OpenJDK Runtime Environment\n",
       "JVM: OpenJDK 64-Bit Server VM\n",
       "Default Encoding: UTF-8\n",
       "Language: en\n",
       "Country: null\n",
       "--></g></svg>"
      ]
     },
     "execution_count": 24,
     "metadata": {},
     "output_type": "execute_result"
    }
   ],
   "source": [
    "%viz --style=\"STDCOLOR\" --view=\"Tree\" \"ConjugationTest\""
   ]
  },
  {
   "cell_type": "code",
   "execution_count": 25,
   "id": "6d2e113b",
   "metadata": {
    "execution": {
     "iopub.execute_input": "2022-08-19T08:18:13.505066Z",
     "iopub.status.busy": "2022-08-19T08:18:13.504619Z",
     "iopub.status.idle": "2022-08-19T08:18:13.509510Z",
     "shell.execute_reply": "2022-08-19T08:18:13.509827Z"
    }
   },
   "outputs": [
    {
     "data": {
      "image/svg+xml": [
       "<?xml version=\"1.0\" encoding=\"UTF-8\" standalone=\"no\"?><svg xmlns=\"http://www.w3.org/2000/svg\" xmlns:xlink=\"http://www.w3.org/1999/xlink\" contentScriptType=\"application/ecmascript\" contentStyleType=\"text/css\" height=\"12px\" preserveAspectRatio=\"none\" style=\"width:12px;height:12px;\" version=\"1.1\" viewBox=\"0 0 12 12\" width=\"12px\" zoomAndPan=\"magnify\"><defs/><g><!--MD5=[aeeef50f102b80d730deb6443d14f702]\n",
       "@startuml\r\n",
       "skinparam wrapWidth 300\r\n",
       "hide circle\r\n",
       "\r\n",
       "@enduml\r\n",
       "\n",
       "PlantUML version 1.2020.13(Sat Jun 13 12:26:38 UTC 2020)\n",
       "(EPL source distribution)\n",
       "Java Runtime: OpenJDK Runtime Environment\n",
       "JVM: OpenJDK 64-Bit Server VM\n",
       "Default Encoding: UTF-8\n",
       "Language: en\n",
       "Country: null\n",
       "--></g></svg>"
      ]
     },
     "execution_count": 25,
     "metadata": {},
     "output_type": "execute_result"
    }
   ],
   "source": [
    "%viz --style=\"STDCOLOR\" --view=\"State\" \"ConjugationTest\""
   ]
  },
  {
   "cell_type": "code",
   "execution_count": 26,
   "id": "12a3d22b",
   "metadata": {
    "execution": {
     "iopub.execute_input": "2022-08-19T08:18:13.560047Z",
     "iopub.status.busy": "2022-08-19T08:18:13.559580Z",
     "iopub.status.idle": "2022-08-19T08:18:13.610222Z",
     "shell.execute_reply": "2022-08-19T08:18:13.609754Z"
    }
   },
   "outputs": [
    {
     "data": {
      "image/svg+xml": [
       "<?xml version=\"1.0\" encoding=\"UTF-8\" standalone=\"no\"?><svg xmlns=\"http://www.w3.org/2000/svg\" xmlns:xlink=\"http://www.w3.org/1999/xlink\" contentScriptType=\"application/ecmascript\" contentStyleType=\"text/css\" height=\"299px\" preserveAspectRatio=\"none\" style=\"width:765px;height:299px;\" version=\"1.1\" viewBox=\"0 0 765 299\" width=\"765px\" zoomAndPan=\"magnify\"><defs><filter height=\"300%\" id=\"f1roffob0n0v33\" width=\"300%\" x=\"-1\" y=\"-1\"><feGaussianBlur result=\"blurOut\" stdDeviation=\"2.0\"/><feColorMatrix in=\"blurOut\" result=\"blurOut2\" type=\"matrix\" values=\"0 0 0 0 0 0 0 0 0 0 0 0 0 0 0 0 0 0 .4 0\"/><feOffset dx=\"4.0\" dy=\"4.0\" in=\"blurOut2\" result=\"blurOut3\"/><feBlend in=\"SourceGraphic\" in2=\"blurOut3\" mode=\"normal\"/></filter></defs><g><!--MD5=[fbc87193dbaf4d95561dea2c320d4a47]\n",
       "cluster E1--><a href=\"psysml:4e179b45-ef84-478c-a2da-b16af7c43fe7\" target=\"_top\" title=\"psysml:4e179b45-ef84-478c-a2da-b16af7c43fe7\" xlink:actuate=\"onRequest\" xlink:href=\"psysml:4e179b45-ef84-478c-a2da-b16af7c43fe7\" xlink:show=\"new\" xlink:title=\"psysml:4e179b45-ef84-478c-a2da-b16af7c43fe7\" xlink:type=\"simple\"><polygon fill=\"#FFFFFF\" filter=\"url(#f1roffob0n0v33)\" points=\"16,6,136,6,143,28.2969,743,28.2969,743,287.36,16,287.36,16,6\" style=\"stroke: #000000; stroke-width: 1.5;\"/><line style=\"stroke: #000000; stroke-width: 1.5;\" x1=\"16\" x2=\"143\" y1=\"28.2969\" y2=\"28.2969\"/><text fill=\"#000000\" font-family=\"sans-serif\" font-size=\"14\" font-weight=\"bold\" lengthAdjust=\"spacingAndGlyphs\" textLength=\"114\" x=\"20\" y=\"20.9951\">ConjugationTest</text></a><!--MD5=[d5e69f78d87373223dbae638b30a9c99]\n",
       "cluster E3--><a href=\"psysml:615e73ac-8544-4e42-b424-8a4747867d0e\" target=\"_top\" title=\"psysml:615e73ac-8544-4e42-b424-8a4747867d0e\" xlink:actuate=\"onRequest\" xlink:href=\"psysml:615e73ac-8544-4e42-b424-8a4747867d0e\" xlink:show=\"new\" xlink:title=\"psysml:615e73ac-8544-4e42-b424-8a4747867d0e\" xlink:type=\"simple\"><rect fill=\"#FFFFFF\" filter=\"url(#f1roffob0n0v33)\" height=\"88.5\" id=\"E3\" style=\"stroke: #A80036; stroke-width: 1.5;\" width=\"85\" x=\"600\" y=\"114\"/><rect fill=\"#FEFECE\" height=\"37.9375\" style=\"stroke: #A80036; stroke-width: 1.5;\" width=\"85\" x=\"600\" y=\"114\"/><text fill=\"#000000\" font-family=\"sans-serif\" font-size=\"12\" font-style=\"italic\" lengthAdjust=\"spacingAndGlyphs\" textLength=\"68\" x=\"608.5\" y=\"130.1387\">«part  def»</text><text fill=\"#000000\" font-family=\"sans-serif\" font-size=\"12\" lengthAdjust=\"spacingAndGlyphs\" textLength=\"8\" x=\"638.5\" y=\"144.1074\">B</text></a><!--MD5=[14e3b0961a2654348d326746436168a1]\n",
       "cluster E6--><a href=\"psysml:5cdadcae-4d33-45cc-84a1-e26eca79ba4d\" target=\"_top\" title=\"psysml:5cdadcae-4d33-45cc-84a1-e26eca79ba4d\" xlink:actuate=\"onRequest\" xlink:href=\"psysml:5cdadcae-4d33-45cc-84a1-e26eca79ba4d\" xlink:show=\"new\" xlink:title=\"psysml:5cdadcae-4d33-45cc-84a1-e26eca79ba4d\" xlink:type=\"simple\"><rect fill=\"#FFFFFF\" filter=\"url(#f1roffob0n0v33)\" height=\"88.5\" id=\"E6\" style=\"stroke: #A80036; stroke-width: 1.5;\" width=\"152\" x=\"443\" y=\"114\"/><rect fill=\"#FEFECE\" height=\"37.9375\" style=\"stroke: #A80036; stroke-width: 1.5;\" width=\"152\" x=\"443\" y=\"114\"/><text fill=\"#000000\" font-family=\"sans-serif\" font-size=\"12\" font-style=\"italic\" lengthAdjust=\"spacingAndGlyphs\" textLength=\"112\" x=\"463\" y=\"130.1387\">«connection  def»</text><text fill=\"#000000\" font-family=\"sans-serif\" font-size=\"12\" lengthAdjust=\"spacingAndGlyphs\" textLength=\"8\" x=\"515\" y=\"144.1074\">A</text></a><!--MD5=[7f149f147074ac12df2cb0a7728a5fb0]\n",
       "cluster E9--><a href=\"psysml:2bbab23f-cc40-4354-88cc-493e0b41ffd4\" target=\"_top\" title=\"psysml:2bbab23f-cc40-4354-88cc-493e0b41ffd4\" xlink:actuate=\"onRequest\" xlink:href=\"psysml:2bbab23f-cc40-4354-88cc-493e0b41ffd4\" xlink:show=\"new\" xlink:title=\"psysml:2bbab23f-cc40-4354-88cc-493e0b41ffd4\" xlink:type=\"simple\"><rect fill=\"#FFFFFF\" filter=\"url(#f1roffob0n0v33)\" height=\"88.5\" id=\"E9\" style=\"stroke: #A80036; stroke-width: 1.5;\" width=\"143\" x=\"270\" y=\"114\"/><rect fill=\"#FEFECE\" height=\"37.9375\" style=\"stroke: #A80036; stroke-width: 1.5;\" width=\"143\" x=\"270\" y=\"114\"/><text fill=\"#000000\" font-family=\"sans-serif\" font-size=\"12\" font-style=\"italic\" lengthAdjust=\"spacingAndGlyphs\" textLength=\"98\" x=\"292.5\" y=\"130.1387\">«interface  def»</text><text fill=\"#000000\" font-family=\"sans-serif\" font-size=\"12\" lengthAdjust=\"spacingAndGlyphs\" textLength=\"3\" x=\"340\" y=\"144.1074\">I</text></a><!--MD5=[47bea60c1a0ac6c1143df232041969c0]\n",
       "cluster E12--><a href=\"psysml:cd0027e5-9ed9-4216-bffa-1e31fa367fb3\" target=\"_top\" title=\"psysml:cd0027e5-9ed9-4216-bffa-1e31fa367fb3\" xlink:actuate=\"onRequest\" xlink:href=\"psysml:cd0027e5-9ed9-4216-bffa-1e31fa367fb3\" xlink:show=\"new\" xlink:title=\"psysml:cd0027e5-9ed9-4216-bffa-1e31fa367fb3\" xlink:type=\"simple\"><rect fill=\"#FFFFFF\" filter=\"url(#f1roffob0n0v33)\" height=\"214.36\" id=\"E12\" style=\"stroke: #A80036; stroke-width: 1.5;\" width=\"119\" x=\"122\" y=\"49\"/><rect fill=\"#FEFECE\" height=\"37.9375\" style=\"stroke: #A80036; stroke-width: 1.5;\" width=\"119\" x=\"122\" y=\"49\"/><text fill=\"#000000\" font-family=\"sans-serif\" font-size=\"12\" font-style=\"italic\" lengthAdjust=\"spacingAndGlyphs\" textLength=\"68\" x=\"147.5\" y=\"65.1387\">«part  def»</text><text fill=\"#000000\" font-family=\"sans-serif\" font-size=\"12\" lengthAdjust=\"spacingAndGlyphs\" textLength=\"16\" x=\"173.5\" y=\"79.1074\">B1</text></a><!--MD5=[03104f77b71e2d8d3500c651e6e31181]\n",
       "cluster E13--><a href=\"psysml:3cf8fc76-e05d-49bd-b29f-3b88a47b72de\" target=\"_top\" title=\"psysml:3cf8fc76-e05d-49bd-b29f-3b88a47b72de\" xlink:actuate=\"onRequest\" xlink:href=\"psysml:3cf8fc76-e05d-49bd-b29f-3b88a47b72de\" xlink:show=\"new\" xlink:title=\"psysml:3cf8fc76-e05d-49bd-b29f-3b88a47b72de\" xlink:type=\"simple\"><rect fill=\"#FFFFFF\" filter=\"url(#f1roffob0n0v33)\" height=\"119.36\" id=\"E13\" rx=\"10\" ry=\"10\" style=\"stroke: #A80036; stroke-width: 1.5;\" width=\"86\" x=\"139\" y=\"114\"/><rect fill=\"#FEFECE\" height=\"23.9688\" rx=\"10\" ry=\"10\" style=\"stroke: #FEFECE; stroke-width: 1.5;\" width=\"86\" x=\"139\" y=\"114\"/><rect fill=\"#FEFECE\" height=\"10\" style=\"stroke: #FEFECE; stroke-width: 1.5;\" width=\"86\" x=\"139\" y=\"127.9688\"/><rect fill=\"none\" height=\"119.36\" id=\"E13\" rx=\"10\" ry=\"10\" style=\"stroke: #A80036; stroke-width: 1.5;\" width=\"86\" x=\"139\" y=\"114\"/><text fill=\"#000000\" font-family=\"sans-serif\" font-size=\"12\" lengthAdjust=\"spacingAndGlyphs\" textLength=\"8\" x=\"178\" y=\"130.1387\">p</text><line style=\"stroke: #A80036; stroke-width: 1.0;\" x1=\"139\" x2=\"225\" y1=\"137.9688\" y2=\"137.9688\"/></a><g id=\"E1.E2\"><a href=\"psysml:859d5a2d-b524-488b-9af4-e0f987adcacf\" target=\"_top\" title=\"psysml:859d5a2d-b524-488b-9af4-e0f987adcacf\" xlink:actuate=\"onRequest\" xlink:href=\"psysml:859d5a2d-b524-488b-9af4-e0f987adcacf\" xlink:show=\"new\" xlink:title=\"psysml:859d5a2d-b524-488b-9af4-e0f987adcacf\" xlink:type=\"simple\"><rect fill=\"#FEFECE\" filter=\"url(#f1roffob0n0v33)\" height=\"42.9375\" id=\"E2\" style=\"stroke: #A80036; stroke-width: 1.5;\" width=\"75\" x=\"31.5\" y=\"92.5\"/><text fill=\"#000000\" font-family=\"sans-serif\" font-size=\"12\" font-style=\"italic\" lengthAdjust=\"spacingAndGlyphs\" textLength=\"68\" x=\"35\" y=\"108.6387\">«port  def»</text><text fill=\"#000000\" font-family=\"sans-serif\" font-size=\"12\" lengthAdjust=\"spacingAndGlyphs\" textLength=\"8\" x=\"65\" y=\"122.6074\">P</text></a></g><text fill=\"#000000\" font-family=\"sans-serif\" font-size=\"14\" lengthAdjust=\"spacingAndGlyphs\" textLength=\"36\" x=\"598\" y=\"92.6982\">p1: P</text><rect fill=\"#A80036\" height=\"12\" style=\"stroke: #FEFECE; stroke-width: 1.5;\" width=\"12\" x=\"612\" y=\"108\"/><text fill=\"#000000\" font-family=\"sans-serif\" font-size=\"14\" lengthAdjust=\"spacingAndGlyphs\" textLength=\"18\" x=\"654\" y=\"92.6982\">p2</text><rect fill=\"#A80036\" height=\"12\" style=\"stroke: #FEFECE; stroke-width: 1.5;\" width=\"12\" x=\"659\" y=\"108\"/><text fill=\"#000000\" font-family=\"sans-serif\" font-size=\"14\" lengthAdjust=\"spacingAndGlyphs\" textLength=\"36\" x=\"441\" y=\"92.6982\">p1: P</text><rect fill=\"#A80036\" height=\"12\" style=\"stroke: #FEFECE; stroke-width: 1.5;\" width=\"12\" x=\"455\" y=\"108\"/><text fill=\"#000000\" font-family=\"sans-serif\" font-size=\"14\" lengthAdjust=\"spacingAndGlyphs\" textLength=\"18\" x=\"497\" y=\"92.6982\">p2</text><rect fill=\"#A80036\" height=\"12\" style=\"stroke: #FEFECE; stroke-width: 1.5;\" width=\"12\" x=\"502\" y=\"108\"/><text fill=\"#000000\" font-family=\"sans-serif\" font-size=\"14\" lengthAdjust=\"spacingAndGlyphs\" textLength=\"36\" x=\"268\" y=\"92.6982\">p1: P</text><rect fill=\"#A80036\" height=\"12\" style=\"stroke: #FEFECE; stroke-width: 1.5;\" width=\"12\" x=\"282\" y=\"108\"/><text fill=\"#000000\" font-family=\"sans-serif\" font-size=\"14\" lengthAdjust=\"spacingAndGlyphs\" textLength=\"18\" x=\"324\" y=\"92.6982\">p2</text><rect fill=\"#A80036\" height=\"12\" style=\"stroke: #FEFECE; stroke-width: 1.5;\" width=\"12\" x=\"329\" y=\"108\"/><text fill=\"#000000\" font-family=\"sans-serif\" font-size=\"14\" lengthAdjust=\"spacingAndGlyphs\" textLength=\"36\" x=\"137\" y=\"252.3551\">p1: P</text><rect fill=\"#A80036\" height=\"12\" style=\"stroke: #FEFECE; stroke-width: 1.5;\" width=\"12\" x=\"151\" y=\"227.36\"/><text fill=\"#000000\" font-family=\"sans-serif\" font-size=\"14\" lengthAdjust=\"spacingAndGlyphs\" textLength=\"18\" x=\"156\" y=\"92.6982\">p2</text><rect fill=\"#A80036\" height=\"12\" style=\"stroke: #FEFECE; stroke-width: 1.5;\" width=\"12\" x=\"161\" y=\"108\"/><!--MD5=[3afbdc645381407e1bc99677323a2513]\n",
       "link E14 to E15--><a href=\"psysml:1f31a0eb-24e7-4abd-8eab-15c525015988\" target=\"_top\" title=\"psysml:1f31a0eb-24e7-4abd-8eab-15c525015988\" xlink:actuate=\"onRequest\" xlink:href=\"psysml:1f31a0eb-24e7-4abd-8eab-15c525015988\" xlink:show=\"new\" xlink:title=\"psysml:1f31a0eb-24e7-4abd-8eab-15c525015988\" xlink:type=\"simple\"><path d=\"M163.22,229.87 C168.78,228 175.08,224.8 179,219.36 C198.71,192.01 192.04,174.59 179,143.5 C173.54,130.48 158.91,120.41 160.88,116.63 \" fill=\"none\" id=\"E14-E15\" style=\"stroke: #A80036; stroke-width: 3.0;\"/></a><!--MD5=[3afbdc645381407e1bc99677323a2513]\n",
       "link E14 to E15--><a href=\"psysml:c2fd36d5-55a7-4367-ae55-c3f656adabca\" target=\"_top\" title=\"psysml:c2fd36d5-55a7-4367-ae55-c3f656adabca\" xlink:actuate=\"onRequest\" xlink:href=\"psysml:c2fd36d5-55a7-4367-ae55-c3f656adabca\" xlink:show=\"new\" xlink:title=\"psysml:c2fd36d5-55a7-4367-ae55-c3f656adabca\" xlink:type=\"simple\"><path d=\"M163.24,232.4 C180.98,232.56 204.49,232.56 214,219.36 C233.71,192.01 227.04,174.59 214,143.5 C207.78,128.66 189.64,117.65 173.03,115.42 \" fill=\"none\" id=\"E14-E15-1\" style=\"stroke: #A80036; stroke-width: 3.0;\"/></a><!--MD5=[efa9c57f20095f47823a91b4c09c6c45]\n",
       "@startuml\r\n",
       "skinparam ranksep 10\r\n",
       "skinparam rectangle {\r\n",
       " backgroundColor<<block>> LightGreen\r\n",
       "}\r\n",
       "skinparam wrapWidth 300\r\n",
       "hide circle\r\n",
       "\r\n",
       "package \"ConjugationTest\" as E1  [[psysml:4e179b45-ef84-478c-a2da-b16af7c43fe7 ]]  {\r\n",
       "def \"P\" as E2  <<(T,blue) port  def>> [[psysml:859d5a2d-b524-488b-9af4-e0f987adcacf ]] \r\n",
       "rec def \"B\" as E3  <<(T,blue) part  def>> [[psysml:615e73ac-8544-4e42-b424-8a4747867d0e ]] {\r\n",
       "portin \"p1: P \" as E4  <<(T,blue) port>> [[psysml:37d2c32c-e4e6-4c0b-af75-96cd6556dd4d ]] \r\n",
       "portin \"p2 \" as E5  <<(T,blue) port>> [[psysml:a7d82e4a-e12d-4520-9ae6-c89754eb7506 ]] \r\n",
       "}\r\n",
       "rec def \"A\" as E6  <<(T,blue) connection  def>> [[psysml:5cdadcae-4d33-45cc-84a1-e26eca79ba4d ]] {\r\n",
       "portin \"p1: P \" as E7  <<(T,blue) port>> [[psysml:7fb982ae-cae7-41b0-848a-52bb93191ec3 ]] \r\n",
       "portin \"p2 \" as E8  <<(T,blue) port>> [[psysml:5c21b9df-62cf-4ee8-9145-76efb13de7e4 ]] \r\n",
       "}\r\n",
       "rec def \"I\" as E9  <<(T,blue) interface  def>> [[psysml:2bbab23f-cc40-4354-88cc-493e0b41ffd4 ]] {\r\n",
       "portin \"p1: P \" as E10  <<(T,blue) port>> [[psysml:e0785fbe-faad-409c-b39f-62ae49a7d6e0 ]] \r\n",
       "portin \"p2 \" as E11  <<(T,blue) port>> [[psysml:a18508b4-2f12-4bca-8dd1-291939c34d14 ]] \r\n",
       "}\r\n",
       "rec def \"B1\" as E12  <<(T,blue) part  def>> [[psysml:cd0027e5-9ed9-4216-bffa-1e31fa367fb3 ]] {\r\n",
       "rec usage \"p\" as E13  [[psysml:3cf8fc76-e05d-49bd-b29f-3b88a47b72de ]] {\r\n",
       "portout \"p1: P \" as E14  <<(T,blue) port>> [[psysml:6cf362ef-4bb1-44a5-8272-767638a97c43 ]] \r\n",
       "portin \"p2 \" as E15  <<(T,blue) port>> [[psysml:33e7cbb5-c462-4d34-9030-b3438d816b29 ]] \r\n",
       "}\r\n",
       "}\r\n",
       "}\r\n",
       "E14 -[thickness=3]- E15 [[psysml:1f31a0eb-24e7-4abd-8eab-15c525015988 ]] \r\n",
       "E14 -[thickness=3]- E15 [[psysml:c2fd36d5-55a7-4367-ae55-c3f656adabca ]] \r\n",
       "@enduml\r\n",
       "\n",
       "PlantUML version 1.2020.13(Sat Jun 13 12:26:38 UTC 2020)\n",
       "(EPL source distribution)\n",
       "Java Runtime: OpenJDK Runtime Environment\n",
       "JVM: OpenJDK 64-Bit Server VM\n",
       "Default Encoding: UTF-8\n",
       "Language: en\n",
       "Country: null\n",
       "--></g></svg>"
      ]
     },
     "execution_count": 26,
     "metadata": {},
     "output_type": "execute_result"
    }
   ],
   "source": [
    "%viz --style=\"STDCOLOR\" --view=\"Interconnection\" \"ConjugationTest\""
   ]
  },
  {
   "cell_type": "code",
   "execution_count": 27,
   "id": "16415ccd",
   "metadata": {
    "execution": {
     "iopub.execute_input": "2022-08-19T08:18:13.659734Z",
     "iopub.status.busy": "2022-08-19T08:18:13.659278Z",
     "iopub.status.idle": "2022-08-19T08:18:13.664260Z",
     "shell.execute_reply": "2022-08-19T08:18:13.664577Z"
    }
   },
   "outputs": [
    {
     "data": {
      "image/svg+xml": [
       "<?xml version=\"1.0\" encoding=\"UTF-8\" standalone=\"no\"?><svg xmlns=\"http://www.w3.org/2000/svg\" xmlns:xlink=\"http://www.w3.org/1999/xlink\" contentScriptType=\"application/ecmascript\" contentStyleType=\"text/css\" height=\"12px\" preserveAspectRatio=\"none\" style=\"width:12px;height:12px;\" version=\"1.1\" viewBox=\"0 0 12 12\" width=\"12px\" zoomAndPan=\"magnify\"><defs/><g><!--MD5=[9863325348a96a77dacc89509d8ee65e]\n",
       "@startuml\r\n",
       "skinparam ranksep 8\r\n",
       "skinparam wrapWidth 300\r\n",
       "hide circle\r\n",
       "\r\n",
       "@enduml\r\n",
       "\n",
       "PlantUML version 1.2020.13(Sat Jun 13 12:26:38 UTC 2020)\n",
       "(EPL source distribution)\n",
       "Java Runtime: OpenJDK Runtime Environment\n",
       "JVM: OpenJDK 64-Bit Server VM\n",
       "Default Encoding: UTF-8\n",
       "Language: en\n",
       "Country: null\n",
       "--></g></svg>"
      ]
     },
     "execution_count": 27,
     "metadata": {},
     "output_type": "execute_result"
    }
   ],
   "source": [
    "%viz --style=\"STDCOLOR\" --view=\"Action\" \"ConjugationTest\""
   ]
  },
  {
   "cell_type": "code",
   "execution_count": 28,
   "id": "ca35f382",
   "metadata": {
    "execution": {
     "iopub.execute_input": "2022-08-19T08:18:13.714745Z",
     "iopub.status.busy": "2022-08-19T08:18:13.714303Z",
     "iopub.status.idle": "2022-08-19T08:18:13.719749Z",
     "shell.execute_reply": "2022-08-19T08:18:13.720059Z"
    }
   },
   "outputs": [
    {
     "data": {
      "image/svg+xml": [
       "<?xml version=\"1.0\" encoding=\"UTF-8\" standalone=\"no\"?><svg xmlns=\"http://www.w3.org/2000/svg\" xmlns:xlink=\"http://www.w3.org/1999/xlink\" contentScriptType=\"application/ecmascript\" contentStyleType=\"text/css\" height=\"12px\" preserveAspectRatio=\"none\" style=\"width:12px;height:12px;\" version=\"1.1\" viewBox=\"0 0 12 12\" width=\"12px\" zoomAndPan=\"magnify\"><defs/><g><!--MD5=[6c4bca67b4d71758159a5a7f1f1e1fc2]\n",
       "@startuml\r\n",
       "skinparam roundcorner 20\r\n",
       "skinparam BoxPadding 20\r\n",
       "skinparam SequenceBoxBackgroundColor #white\r\n",
       "skinparam style strictuml\r\n",
       "skinparam maxMessageSize 100\r\n",
       "skinparam wrapWidth 300\r\n",
       "hide circle\r\n",
       "\r\n",
       "@enduml\r\n",
       "\n",
       "PlantUML version 1.2020.13(Sat Jun 13 12:26:38 UTC 2020)\n",
       "(EPL source distribution)\n",
       "Java Runtime: OpenJDK Runtime Environment\n",
       "JVM: OpenJDK 64-Bit Server VM\n",
       "Default Encoding: UTF-8\n",
       "Language: en\n",
       "Country: null\n",
       "--></g></svg>"
      ]
     },
     "execution_count": 28,
     "metadata": {},
     "output_type": "execute_result"
    }
   ],
   "source": [
    "%viz --style=\"STDCOLOR\" --view=\"Sequence\" \"ConjugationTest\""
   ]
  },
  {
   "cell_type": "code",
   "execution_count": 29,
   "id": "f8b5e476",
   "metadata": {
    "execution": {
     "iopub.execute_input": "2022-08-19T08:18:13.770108Z",
     "iopub.status.busy": "2022-08-19T08:18:13.769665Z",
     "iopub.status.idle": "2022-08-19T08:18:13.819593Z",
     "shell.execute_reply": "2022-08-19T08:18:13.819918Z"
    }
   },
   "outputs": [
    {
     "data": {
      "image/svg+xml": [
       "<?xml version=\"1.0\" encoding=\"UTF-8\" standalone=\"no\"?><svg xmlns=\"http://www.w3.org/2000/svg\" xmlns:xlink=\"http://www.w3.org/1999/xlink\" contentScriptType=\"application/ecmascript\" contentStyleType=\"text/css\" height=\"433px\" preserveAspectRatio=\"none\" style=\"width:611px;height:433px;\" version=\"1.1\" viewBox=\"0 0 611 433\" width=\"611px\" zoomAndPan=\"magnify\"><defs><filter height=\"300%\" id=\"f1gbptudeof818\" width=\"300%\" x=\"-1\" y=\"-1\"><feGaussianBlur result=\"blurOut\" stdDeviation=\"2.0\"/><feColorMatrix in=\"blurOut\" result=\"blurOut2\" type=\"matrix\" values=\"0 0 0 0 0 0 0 0 0 0 0 0 0 0 0 0 0 0 .4 0\"/><feOffset dx=\"4.0\" dy=\"4.0\" in=\"blurOut2\" result=\"blurOut3\"/><feBlend in=\"SourceGraphic\" in2=\"blurOut3\" mode=\"normal\"/></filter></defs><g><!--MD5=[fbc87193dbaf4d95561dea2c320d4a47]\n",
       "cluster E1--><a href=\"psysml:4e179b45-ef84-478c-a2da-b16af7c43fe7\" target=\"_top\" title=\"psysml:4e179b45-ef84-478c-a2da-b16af7c43fe7\" xlink:actuate=\"onRequest\" xlink:href=\"psysml:4e179b45-ef84-478c-a2da-b16af7c43fe7\" xlink:show=\"new\" xlink:title=\"psysml:4e179b45-ef84-478c-a2da-b16af7c43fe7\" xlink:type=\"simple\"><polygon fill=\"#FFFFFF\" filter=\"url(#f1gbptudeof818)\" points=\"16,6,136,6,143,28.2969,589,28.2969,589,421,16,421,16,6\" style=\"stroke: #000000; stroke-width: 1.5;\"/><line style=\"stroke: #000000; stroke-width: 1.5;\" x1=\"16\" x2=\"143\" y1=\"28.2969\" y2=\"28.2969\"/><text fill=\"#000000\" font-family=\"sans-serif\" font-size=\"14\" font-weight=\"bold\" lengthAdjust=\"spacingAndGlyphs\" textLength=\"114\" x=\"20\" y=\"20.9951\">ConjugationTest</text></a><!--MD5=[b4997ac47864f28c2f74865a473b2911]\n",
       "class E2--><a href=\"psysml:859d5a2d-b524-488b-9af4-e0f987adcacf\" target=\"_top\" title=\"psysml:859d5a2d-b524-488b-9af4-e0f987adcacf\" xlink:actuate=\"onRequest\" xlink:href=\"psysml:859d5a2d-b524-488b-9af4-e0f987adcacf\" xlink:show=\"new\" xlink:title=\"psysml:859d5a2d-b524-488b-9af4-e0f987adcacf\" xlink:type=\"simple\"><rect fill=\"#FEFECE\" filter=\"url(#f1gbptudeof818)\" height=\"45.9375\" id=\"E2\" style=\"stroke: #A80036; stroke-width: 1.5;\" width=\"70\" x=\"216\" y=\"359\"/><text fill=\"#000000\" font-family=\"sans-serif\" font-size=\"12\" font-style=\"italic\" lengthAdjust=\"spacingAndGlyphs\" textLength=\"68\" x=\"217\" y=\"375.1387\">«port  def»</text><text fill=\"#000000\" font-family=\"sans-serif\" font-size=\"12\" lengthAdjust=\"spacingAndGlyphs\" textLength=\"8\" x=\"247\" y=\"389.1074\">P</text><line style=\"stroke: #A80036; stroke-width: 1.5;\" x1=\"217\" x2=\"285\" y1=\"396.9375\" y2=\"396.9375\"/></a><!--MD5=[09b614a08d8cba4a07c9adeb5e0fee81]\n",
       "class E3--><a href=\"psysml:615e73ac-8544-4e42-b424-8a4747867d0e\" target=\"_top\" title=\"psysml:615e73ac-8544-4e42-b424-8a4747867d0e\" xlink:actuate=\"onRequest\" xlink:href=\"psysml:615e73ac-8544-4e42-b424-8a4747867d0e\" xlink:show=\"new\" xlink:title=\"psysml:615e73ac-8544-4e42-b424-8a4747867d0e\" xlink:type=\"simple\"><rect fill=\"#FEFECE\" filter=\"url(#f1gbptudeof818)\" height=\"45.9375\" id=\"E3\" style=\"stroke: #A80036; stroke-width: 1.5;\" width=\"70\" x=\"471\" y=\"147\"/><text fill=\"#000000\" font-family=\"sans-serif\" font-size=\"12\" font-style=\"italic\" lengthAdjust=\"spacingAndGlyphs\" textLength=\"68\" x=\"472\" y=\"163.1387\">«part  def»</text><text fill=\"#000000\" font-family=\"sans-serif\" font-size=\"12\" lengthAdjust=\"spacingAndGlyphs\" textLength=\"8\" x=\"502\" y=\"177.1074\">B</text><line style=\"stroke: #A80036; stroke-width: 1.5;\" x1=\"472\" x2=\"540\" y1=\"184.9375\" y2=\"184.9375\"/></a><!--MD5=[ebbe1d658d1005bcc118a6aa81145e00]\n",
       "class E4--><a href=\"psysml:37d2c32c-e4e6-4c0b-af75-96cd6556dd4d\" target=\"_top\" title=\"psysml:37d2c32c-e4e6-4c0b-af75-96cd6556dd4d\" xlink:actuate=\"onRequest\" xlink:href=\"psysml:37d2c32c-e4e6-4c0b-af75-96cd6556dd4d\" xlink:show=\"new\" xlink:title=\"psysml:37d2c32c-e4e6-4c0b-af75-96cd6556dd4d\" xlink:type=\"simple\"><rect fill=\"#FEFECE\" filter=\"url(#f1gbptudeof818)\" height=\"45.9375\" id=\"E4\" rx=\"10\" ry=\"10\" style=\"stroke: #A80036; stroke-width: 1.5;\" width=\"42\" x=\"454\" y=\"253\"/><text fill=\"#000000\" font-family=\"sans-serif\" font-size=\"12\" font-style=\"italic\" lengthAdjust=\"spacingAndGlyphs\" textLength=\"40\" x=\"455\" y=\"269.1387\">«port»</text><text fill=\"#000000\" font-family=\"sans-serif\" font-size=\"12\" lengthAdjust=\"spacingAndGlyphs\" textLength=\"32\" x=\"457\" y=\"283.1074\">p1: P</text><line style=\"stroke: #A80036; stroke-width: 1.5;\" x1=\"455\" x2=\"495\" y1=\"290.9375\" y2=\"290.9375\"/></a><!--MD5=[270fce915f116d4de14055a7c1d9a0f3]\n",
       "class E5--><a href=\"psysml:a7d82e4a-e12d-4520-9ae6-c89754eb7506\" target=\"_top\" title=\"psysml:a7d82e4a-e12d-4520-9ae6-c89754eb7506\" xlink:actuate=\"onRequest\" xlink:href=\"psysml:a7d82e4a-e12d-4520-9ae6-c89754eb7506\" xlink:show=\"new\" xlink:title=\"psysml:a7d82e4a-e12d-4520-9ae6-c89754eb7506\" xlink:type=\"simple\"><rect fill=\"#FEFECE\" filter=\"url(#f1gbptudeof818)\" height=\"45.9375\" id=\"E5\" rx=\"10\" ry=\"10\" style=\"stroke: #A80036; stroke-width: 1.5;\" width=\"42\" x=\"531\" y=\"253\"/><text fill=\"#000000\" font-family=\"sans-serif\" font-size=\"12\" font-style=\"italic\" lengthAdjust=\"spacingAndGlyphs\" textLength=\"40\" x=\"532\" y=\"269.1387\">«port»</text><text fill=\"#000000\" font-family=\"sans-serif\" font-size=\"12\" lengthAdjust=\"spacingAndGlyphs\" textLength=\"16\" x=\"542\" y=\"283.1074\">p2</text><line style=\"stroke: #A80036; stroke-width: 1.5;\" x1=\"532\" x2=\"572\" y1=\"290.9375\" y2=\"290.9375\"/></a><!--MD5=[60a26617385b1d2d0262a64233df1f8d]\n",
       "class E6--><a href=\"psysml:5cdadcae-4d33-45cc-84a1-e26eca79ba4d\" target=\"_top\" title=\"psysml:5cdadcae-4d33-45cc-84a1-e26eca79ba4d\" xlink:actuate=\"onRequest\" xlink:href=\"psysml:5cdadcae-4d33-45cc-84a1-e26eca79ba4d\" xlink:show=\"new\" xlink:title=\"psysml:5cdadcae-4d33-45cc-84a1-e26eca79ba4d\" xlink:type=\"simple\"><rect fill=\"#FEFECE\" filter=\"url(#f1gbptudeof818)\" height=\"45.9375\" id=\"E6\" style=\"stroke: #A80036; stroke-width: 1.5;\" width=\"114\" x=\"274\" y=\"147\"/><text fill=\"#000000\" font-family=\"sans-serif\" font-size=\"12\" font-style=\"italic\" lengthAdjust=\"spacingAndGlyphs\" textLength=\"112\" x=\"275\" y=\"163.1387\">«connection  def»</text><text fill=\"#000000\" font-family=\"sans-serif\" font-size=\"12\" lengthAdjust=\"spacingAndGlyphs\" textLength=\"8\" x=\"327\" y=\"177.1074\">A</text><line style=\"stroke: #A80036; stroke-width: 1.5;\" x1=\"275\" x2=\"387\" y1=\"184.9375\" y2=\"184.9375\"/></a><!--MD5=[2156ba9850f5573cc1fc38a6a4b2f02b]\n",
       "class E7--><a href=\"psysml:7fb982ae-cae7-41b0-848a-52bb93191ec3\" target=\"_top\" title=\"psysml:7fb982ae-cae7-41b0-848a-52bb93191ec3\" xlink:actuate=\"onRequest\" xlink:href=\"psysml:7fb982ae-cae7-41b0-848a-52bb93191ec3\" xlink:show=\"new\" xlink:title=\"psysml:7fb982ae-cae7-41b0-848a-52bb93191ec3\" xlink:type=\"simple\"><rect fill=\"#FEFECE\" filter=\"url(#f1gbptudeof818)\" height=\"45.9375\" id=\"E7\" rx=\"10\" ry=\"10\" style=\"stroke: #A80036; stroke-width: 1.5;\" width=\"42\" x=\"300\" y=\"253\"/><text fill=\"#000000\" font-family=\"sans-serif\" font-size=\"12\" font-style=\"italic\" lengthAdjust=\"spacingAndGlyphs\" textLength=\"40\" x=\"301\" y=\"269.1387\">«port»</text><text fill=\"#000000\" font-family=\"sans-serif\" font-size=\"12\" lengthAdjust=\"spacingAndGlyphs\" textLength=\"32\" x=\"303\" y=\"283.1074\">p1: P</text><line style=\"stroke: #A80036; stroke-width: 1.5;\" x1=\"301\" x2=\"341\" y1=\"290.9375\" y2=\"290.9375\"/></a><!--MD5=[b9389687b975829384b498ac4b7476b2]\n",
       "class E8--><a href=\"psysml:5c21b9df-62cf-4ee8-9145-76efb13de7e4\" target=\"_top\" title=\"psysml:5c21b9df-62cf-4ee8-9145-76efb13de7e4\" xlink:actuate=\"onRequest\" xlink:href=\"psysml:5c21b9df-62cf-4ee8-9145-76efb13de7e4\" xlink:show=\"new\" xlink:title=\"psysml:5c21b9df-62cf-4ee8-9145-76efb13de7e4\" xlink:type=\"simple\"><rect fill=\"#FEFECE\" filter=\"url(#f1gbptudeof818)\" height=\"45.9375\" id=\"E8\" rx=\"10\" ry=\"10\" style=\"stroke: #A80036; stroke-width: 1.5;\" width=\"42\" x=\"377\" y=\"253\"/><text fill=\"#000000\" font-family=\"sans-serif\" font-size=\"12\" font-style=\"italic\" lengthAdjust=\"spacingAndGlyphs\" textLength=\"40\" x=\"378\" y=\"269.1387\">«port»</text><text fill=\"#000000\" font-family=\"sans-serif\" font-size=\"12\" lengthAdjust=\"spacingAndGlyphs\" textLength=\"16\" x=\"388\" y=\"283.1074\">p2</text><line style=\"stroke: #A80036; stroke-width: 1.5;\" x1=\"378\" x2=\"418\" y1=\"290.9375\" y2=\"290.9375\"/></a><!--MD5=[fd4143e9d270a159db93a4ea2a975926]\n",
       "class E9--><a href=\"psysml:2bbab23f-cc40-4354-88cc-493e0b41ffd4\" target=\"_top\" title=\"psysml:2bbab23f-cc40-4354-88cc-493e0b41ffd4\" xlink:actuate=\"onRequest\" xlink:href=\"psysml:2bbab23f-cc40-4354-88cc-493e0b41ffd4\" xlink:show=\"new\" xlink:title=\"psysml:2bbab23f-cc40-4354-88cc-493e0b41ffd4\" xlink:type=\"simple\"><rect fill=\"#FEFECE\" filter=\"url(#f1gbptudeof818)\" height=\"45.9375\" id=\"E9\" style=\"stroke: #A80036; stroke-width: 1.5;\" width=\"100\" x=\"138\" y=\"147\"/><text fill=\"#000000\" font-family=\"sans-serif\" font-size=\"12\" font-style=\"italic\" lengthAdjust=\"spacingAndGlyphs\" textLength=\"98\" x=\"139\" y=\"163.1387\">«interface  def»</text><text fill=\"#000000\" font-family=\"sans-serif\" font-size=\"12\" lengthAdjust=\"spacingAndGlyphs\" textLength=\"3\" x=\"186.5\" y=\"177.1074\">I</text><line style=\"stroke: #A80036; stroke-width: 1.5;\" x1=\"139\" x2=\"237\" y1=\"184.9375\" y2=\"184.9375\"/></a><!--MD5=[96f4274e9e20536e775497830990834d]\n",
       "class E10--><a href=\"psysml:e0785fbe-faad-409c-b39f-62ae49a7d6e0\" target=\"_top\" title=\"psysml:e0785fbe-faad-409c-b39f-62ae49a7d6e0\" xlink:actuate=\"onRequest\" xlink:href=\"psysml:e0785fbe-faad-409c-b39f-62ae49a7d6e0\" xlink:show=\"new\" xlink:title=\"psysml:e0785fbe-faad-409c-b39f-62ae49a7d6e0\" xlink:type=\"simple\"><rect fill=\"#FEFECE\" filter=\"url(#f1gbptudeof818)\" height=\"45.9375\" id=\"E10\" rx=\"10\" ry=\"10\" style=\"stroke: #A80036; stroke-width: 1.5;\" width=\"42\" x=\"146\" y=\"253\"/><text fill=\"#000000\" font-family=\"sans-serif\" font-size=\"12\" font-style=\"italic\" lengthAdjust=\"spacingAndGlyphs\" textLength=\"40\" x=\"147\" y=\"269.1387\">«port»</text><text fill=\"#000000\" font-family=\"sans-serif\" font-size=\"12\" lengthAdjust=\"spacingAndGlyphs\" textLength=\"32\" x=\"149\" y=\"283.1074\">p1: P</text><line style=\"stroke: #A80036; stroke-width: 1.5;\" x1=\"147\" x2=\"187\" y1=\"290.9375\" y2=\"290.9375\"/></a><!--MD5=[1dd1bfd58a279cf63c5f349dbc8fc6a1]\n",
       "class E11--><a href=\"psysml:a18508b4-2f12-4bca-8dd1-291939c34d14\" target=\"_top\" title=\"psysml:a18508b4-2f12-4bca-8dd1-291939c34d14\" xlink:actuate=\"onRequest\" xlink:href=\"psysml:a18508b4-2f12-4bca-8dd1-291939c34d14\" xlink:show=\"new\" xlink:title=\"psysml:a18508b4-2f12-4bca-8dd1-291939c34d14\" xlink:type=\"simple\"><rect fill=\"#FEFECE\" filter=\"url(#f1gbptudeof818)\" height=\"45.9375\" id=\"E11\" rx=\"10\" ry=\"10\" style=\"stroke: #A80036; stroke-width: 1.5;\" width=\"42\" x=\"223\" y=\"253\"/><text fill=\"#000000\" font-family=\"sans-serif\" font-size=\"12\" font-style=\"italic\" lengthAdjust=\"spacingAndGlyphs\" textLength=\"40\" x=\"224\" y=\"269.1387\">«port»</text><text fill=\"#000000\" font-family=\"sans-serif\" font-size=\"12\" lengthAdjust=\"spacingAndGlyphs\" textLength=\"16\" x=\"234\" y=\"283.1074\">p2</text><line style=\"stroke: #A80036; stroke-width: 1.5;\" x1=\"224\" x2=\"264\" y1=\"290.9375\" y2=\"290.9375\"/></a><!--MD5=[49a0ec8f00dab7302a31f22d0f0fe584]\n",
       "class E12--><a href=\"psysml:cd0027e5-9ed9-4216-bffa-1e31fa367fb3\" target=\"_top\" title=\"psysml:cd0027e5-9ed9-4216-bffa-1e31fa367fb3\" xlink:actuate=\"onRequest\" xlink:href=\"psysml:cd0027e5-9ed9-4216-bffa-1e31fa367fb3\" xlink:show=\"new\" xlink:title=\"psysml:cd0027e5-9ed9-4216-bffa-1e31fa367fb3\" xlink:type=\"simple\"><rect fill=\"#FEFECE\" filter=\"url(#f1gbptudeof818)\" height=\"45.9375\" id=\"E12\" style=\"stroke: #A80036; stroke-width: 1.5;\" width=\"70\" x=\"44\" y=\"41\"/><text fill=\"#000000\" font-family=\"sans-serif\" font-size=\"12\" font-style=\"italic\" lengthAdjust=\"spacingAndGlyphs\" textLength=\"68\" x=\"45\" y=\"57.1387\">«part  def»</text><text fill=\"#000000\" font-family=\"sans-serif\" font-size=\"12\" lengthAdjust=\"spacingAndGlyphs\" textLength=\"16\" x=\"71\" y=\"71.1074\">B1</text><line style=\"stroke: #A80036; stroke-width: 1.5;\" x1=\"45\" x2=\"113\" y1=\"78.9375\" y2=\"78.9375\"/></a><!--MD5=[ee3c913d1a06f366521f9ef512b67efe]\n",
       "class E13--><a href=\"psysml:3cf8fc76-e05d-49bd-b29f-3b88a47b72de\" target=\"_top\" title=\"psysml:3cf8fc76-e05d-49bd-b29f-3b88a47b72de\" xlink:actuate=\"onRequest\" xlink:href=\"psysml:3cf8fc76-e05d-49bd-b29f-3b88a47b72de\" xlink:show=\"new\" xlink:title=\"psysml:3cf8fc76-e05d-49bd-b29f-3b88a47b72de\" xlink:type=\"simple\"><rect fill=\"#FEFECE\" filter=\"url(#f1gbptudeof818)\" height=\"45.9375\" id=\"E13\" rx=\"10\" ry=\"10\" style=\"stroke: #A80036; stroke-width: 1.5;\" width=\"42\" x=\"58\" y=\"147\"/><text fill=\"#000000\" font-family=\"sans-serif\" font-size=\"12\" font-style=\"italic\" lengthAdjust=\"spacingAndGlyphs\" textLength=\"40\" x=\"59\" y=\"163.1387\">«part»</text><text fill=\"#000000\" font-family=\"sans-serif\" font-size=\"12\" lengthAdjust=\"spacingAndGlyphs\" textLength=\"8\" x=\"73\" y=\"177.1074\">p</text><line style=\"stroke: #A80036; stroke-width: 1.5;\" x1=\"59\" x2=\"99\" y1=\"184.9375\" y2=\"184.9375\"/></a><!--MD5=[bee11217b2f71d958a27249dc326068c]\n",
       "class E14--><a href=\"psysml:6cf362ef-4bb1-44a5-8272-767638a97c43\" target=\"_top\" title=\"psysml:6cf362ef-4bb1-44a5-8272-767638a97c43\" xlink:actuate=\"onRequest\" xlink:href=\"psysml:6cf362ef-4bb1-44a5-8272-767638a97c43\" xlink:show=\"new\" xlink:title=\"psysml:6cf362ef-4bb1-44a5-8272-767638a97c43\" xlink:type=\"simple\"><rect fill=\"#FEFECE\" filter=\"url(#f1gbptudeof818)\" height=\"45.9375\" id=\"E14\" rx=\"10\" ry=\"10\" style=\"stroke: #A80036; stroke-width: 1.5;\" width=\"42\" x=\"69\" y=\"253\"/><text fill=\"#000000\" font-family=\"sans-serif\" font-size=\"12\" font-style=\"italic\" lengthAdjust=\"spacingAndGlyphs\" textLength=\"40\" x=\"70\" y=\"269.1387\">«port»</text><text fill=\"#000000\" font-family=\"sans-serif\" font-size=\"12\" lengthAdjust=\"spacingAndGlyphs\" textLength=\"32\" x=\"72\" y=\"283.1074\">p1: P</text><line style=\"stroke: #A80036; stroke-width: 1.5;\" x1=\"70\" x2=\"110\" y1=\"290.9375\" y2=\"290.9375\"/></a><!--MD5=[0c48fb7552dae8cbbef69381101a84c8]\n",
       "class E15--><a href=\"psysml:33e7cbb5-c462-4d34-9030-b3438d816b29\" target=\"_top\" title=\"psysml:33e7cbb5-c462-4d34-9030-b3438d816b29\" xlink:actuate=\"onRequest\" xlink:href=\"psysml:33e7cbb5-c462-4d34-9030-b3438d816b29\" xlink:show=\"new\" xlink:title=\"psysml:33e7cbb5-c462-4d34-9030-b3438d816b29\" xlink:type=\"simple\"><rect fill=\"#FEFECE\" filter=\"url(#f1gbptudeof818)\" height=\"45.9375\" id=\"E15\" rx=\"10\" ry=\"10\" style=\"stroke: #A80036; stroke-width: 1.5;\" width=\"42\" x=\"69\" y=\"359\"/><text fill=\"#000000\" font-family=\"sans-serif\" font-size=\"12\" font-style=\"italic\" lengthAdjust=\"spacingAndGlyphs\" textLength=\"40\" x=\"70\" y=\"375.1387\">«port»</text><text fill=\"#000000\" font-family=\"sans-serif\" font-size=\"12\" lengthAdjust=\"spacingAndGlyphs\" textLength=\"16\" x=\"80\" y=\"389.1074\">p2</text><line style=\"stroke: #A80036; stroke-width: 1.5;\" x1=\"70\" x2=\"110\" y1=\"396.9375\" y2=\"396.9375\"/></a><!--MD5=[4672eba38e49728da53d11aeb285b987]\n",
       "reverse link E3 to E4--><a href=\"psysml:e09aa0cf-99c0-4ed5-833c-e6cdd9353c0b\" target=\"_top\" title=\"psysml:e09aa0cf-99c0-4ed5-833c-e6cdd9353c0b\" xlink:actuate=\"onRequest\" xlink:href=\"psysml:e09aa0cf-99c0-4ed5-833c-e6cdd9353c0b\" xlink:show=\"new\" xlink:title=\"psysml:e09aa0cf-99c0-4ed5-833c-e6cdd9353c0b\" xlink:type=\"simple\"><path d=\"M495.58,205.96 C490.95,221.51 485.63,239.33 481.56,252.98 \" fill=\"none\" id=\"E3&lt;-E4\" style=\"stroke: #A80036; stroke-width: 1.0;\"/><polygon fill=\"#FFFFFF\" points=\"499.43,193.06,493.8824,197.6669,496.0012,204.5597,501.5488,199.9528,499.43,193.06\" style=\"stroke: #A80036; stroke-width: 1.0;\"/><text fill=\"#000000\" font-family=\"sans-serif\" font-size=\"13\" lengthAdjust=\"spacingAndGlyphs\" textLength=\"8\" x=\"474.248\" y=\"241.8709\">1</text></a><!--MD5=[185131fc0dcab0a4505a2ebe144e961b]\n",
       "link E4 to E2--><a href=\"psysml:d96439d0-54ae-42c8-b560-5f0ede470e61\" target=\"_top\" title=\"psysml:d96439d0-54ae-42c8-b560-5f0ede470e61\" xlink:actuate=\"onRequest\" xlink:href=\"psysml:d96439d0-54ae-42c8-b560-5f0ede470e61\" xlink:show=\"new\" xlink:title=\"psysml:d96439d0-54ae-42c8-b560-5f0ede470e61\" xlink:type=\"simple\"><path d=\"M453.92,289.75 C448.47,292.89 442.57,296.17 437,299 C393.29,321.2 342.25,343.45 304.71,359.16 \" fill=\"none\" id=\"E4-&gt;E2\" style=\"stroke: #A80036; stroke-width: 1.0;\"/><polygon fill=\"#FFFFFF\" points=\"286.15,366.85,301.0211,353.1077,306.3823,366.0405,286.15,366.85\" style=\"stroke: #A80036; stroke-width: 1.0;\"/><ellipse cx=\"307.0525\" cy=\"352.7725\" fill=\"#A80036\" rx=\"2\" ry=\"2\" style=\"stroke: #A80036; stroke-width: 1.0;\"/><ellipse cx=\"310.8819\" cy=\"362.0102\" fill=\"#A80036\" rx=\"2\" ry=\"2\" style=\"stroke: #A80036; stroke-width: 1.0;\"/></a><!--MD5=[191cde3d490a3f6d7bb551fe3ddca469]\n",
       "reverse link E3 to E5--><a href=\"psysml:880a21a1-46d7-4f3d-9543-241b40e3ab4a\" target=\"_top\" title=\"psysml:880a21a1-46d7-4f3d-9543-241b40e3ab4a\" xlink:actuate=\"onRequest\" xlink:href=\"psysml:880a21a1-46d7-4f3d-9543-241b40e3ab4a\" xlink:show=\"new\" xlink:title=\"psysml:880a21a1-46d7-4f3d-9543-241b40e3ab4a\" xlink:type=\"simple\"><path d=\"M521.05,205.03 C528.02,220.78 536.1,239.06 542.26,252.98 \" fill=\"none\" id=\"E3&lt;-E5\" style=\"stroke: #A80036; stroke-width: 1.0;\"/><polygon fill=\"#FFFFFF\" points=\"515.76,193.06,514.5329,200.1659,520.6202,204.0317,521.8473,196.9258,515.76,193.06\" style=\"stroke: #A80036; stroke-width: 1.0;\"/><text fill=\"#000000\" font-family=\"sans-serif\" font-size=\"13\" lengthAdjust=\"spacingAndGlyphs\" textLength=\"8\" x=\"530.5674\" y=\"241.8709\">1</text></a><!--MD5=[3f50a3473f1dfb74d3f76443e03635af]\n",
       "reverse link E6 to E7--><a href=\"psysml:98390341-db8e-40b6-aced-fec2311e0a9d\" target=\"_top\" title=\"psysml:98390341-db8e-40b6-aced-fec2311e0a9d\" xlink:actuate=\"onRequest\" xlink:href=\"psysml:98390341-db8e-40b6-aced-fec2311e0a9d\" xlink:show=\"new\" xlink:title=\"psysml:98390341-db8e-40b6-aced-fec2311e0a9d\" xlink:type=\"simple\"><path d=\"M327.59,206.44 C326.11,221.87 324.42,239.47 323.12,252.98 \" fill=\"none\" id=\"E6&lt;-E7\" style=\"stroke: #A80036; stroke-width: 1.0;\"/><polygon fill=\"#FFFFFF\" points=\"328.88,193.06,324.3242,198.6497,327.7317,205.0049,332.2875,199.4152,328.88,193.06\" style=\"stroke: #A80036; stroke-width: 1.0;\"/><text fill=\"#000000\" font-family=\"sans-serif\" font-size=\"13\" lengthAdjust=\"spacingAndGlyphs\" textLength=\"8\" x=\"314.6148\" y=\"241.8709\">1</text></a><!--MD5=[583832df87f4419a098336a29a52fa00]\n",
       "link E7 to E2--><a href=\"psysml:6f9217eb-859f-4957-bc31-6c1306f83367\" target=\"_top\" title=\"psysml:6f9217eb-859f-4957-bc31-6c1306f83367\" xlink:actuate=\"onRequest\" xlink:href=\"psysml:6f9217eb-859f-4957-bc31-6c1306f83367\" xlink:show=\"new\" xlink:title=\"psysml:6f9217eb-859f-4957-bc31-6c1306f83367\" xlink:type=\"simple\"><path d=\"M306.15,299.06 C297.71,311.6 286.89,327.68 277.07,342.26 \" fill=\"none\" id=\"E7-&gt;E2\" style=\"stroke: #A80036; stroke-width: 1.0;\"/><polygon fill=\"#FFFFFF\" points=\"265.82,358.98,270.609,339.306,282.2284,347.1156,265.82,358.98\" style=\"stroke: #A80036; stroke-width: 1.0;\"/><ellipse cx=\"275.4486\" cy=\"335.6909\" fill=\"#A80036\" rx=\"2\" ry=\"2\" style=\"stroke: #A80036; stroke-width: 1.0;\"/><ellipse cx=\"283.7481\" cy=\"341.2692\" fill=\"#A80036\" rx=\"2\" ry=\"2\" style=\"stroke: #A80036; stroke-width: 1.0;\"/></a><!--MD5=[f4cf0736d43fd73c4ef68817c49d37d5]\n",
       "reverse link E6 to E8--><a href=\"psysml:15a7c7be-761e-4e1c-a126-babbedfba5ca\" target=\"_top\" title=\"psysml:15a7c7be-761e-4e1c-a126-babbedfba5ca\" xlink:actuate=\"onRequest\" xlink:href=\"psysml:15a7c7be-761e-4e1c-a126-babbedfba5ca\" xlink:show=\"new\" xlink:title=\"psysml:15a7c7be-761e-4e1c-a126-babbedfba5ca\" xlink:type=\"simple\"><path d=\"M352.32,204.09 C362.61,220.06 374.67,238.78 383.81,252.98 \" fill=\"none\" id=\"E6&lt;-E8\" style=\"stroke: #A80036; stroke-width: 1.0;\"/><polygon fill=\"#FFFFFF\" points=\"345.21,193.06,345.0979,200.2702,351.7104,203.1469,351.8225,195.9366,345.21,193.06\" style=\"stroke: #A80036; stroke-width: 1.0;\"/><text fill=\"#000000\" font-family=\"sans-serif\" font-size=\"13\" lengthAdjust=\"spacingAndGlyphs\" textLength=\"8\" x=\"370.9214\" y=\"241.8709\">1</text></a><!--MD5=[23ac544a70576c3e717098101004234c]\n",
       "reverse link E9 to E10--><a href=\"psysml:a15de342-1742-4b99-9b86-ed8c6fb30ab8\" target=\"_top\" title=\"psysml:a15de342-1742-4b99-9b86-ed8c6fb30ab8\" xlink:actuate=\"onRequest\" xlink:href=\"psysml:a15de342-1742-4b99-9b86-ed8c6fb30ab8\" xlink:show=\"new\" xlink:title=\"psysml:a15de342-1742-4b99-9b86-ed8c6fb30ab8\" xlink:type=\"simple\"><path d=\"M180.94,205.96 C177.8,221.51 174.2,239.33 171.45,252.98 \" fill=\"none\" id=\"E9&lt;-E10\" style=\"stroke: #A80036; stroke-width: 1.0;\"/><polygon fill=\"#FFFFFF\" points=\"183.55,193.06,178.4422,198.1502,181.1763,204.8229,186.2841,199.7327,183.55,193.06\" style=\"stroke: #A80036; stroke-width: 1.0;\"/><text fill=\"#000000\" font-family=\"sans-serif\" font-size=\"13\" lengthAdjust=\"spacingAndGlyphs\" textLength=\"8\" x=\"163.5709\" y=\"241.8709\">1</text></a><!--MD5=[0f36bececdf0dff6e600d6f64214b0f1]\n",
       "link E10 to E2--><a href=\"psysml:81b1dfc1-849b-47a4-a859-9ae7a728ef15\" target=\"_top\" title=\"psysml:81b1dfc1-849b-47a4-a859-9ae7a728ef15\" xlink:actuate=\"onRequest\" xlink:href=\"psysml:81b1dfc1-849b-47a4-a859-9ae7a728ef15\" xlink:show=\"new\" xlink:title=\"psysml:81b1dfc1-849b-47a4-a859-9ae7a728ef15\" xlink:type=\"simple\"><path d=\"M184.81,299.06 C195.17,311.88 208.51,328.39 220.49,343.22 \" fill=\"none\" id=\"E10-&gt;E2\" style=\"stroke: #A80036; stroke-width: 1.0;\"/><polygon fill=\"#FFFFFF\" points=\"233.21,358.98,215.8236,348.6016,226.7127,339.8023,233.21,358.98\" style=\"stroke: #A80036; stroke-width: 1.0;\"/><ellipse cx=\"213.7966\" cy=\"342.9111\" fill=\"#A80036\" rx=\"2\" ry=\"2\" style=\"stroke: #A80036; stroke-width: 1.0;\"/><ellipse cx=\"221.5745\" cy=\"336.6259\" fill=\"#A80036\" rx=\"2\" ry=\"2\" style=\"stroke: #A80036; stroke-width: 1.0;\"/></a><!--MD5=[1fc04a95fd77ad5ce46c1a3027516051]\n",
       "reverse link E9 to E11--><a href=\"psysml:fe2242fc-88cc-4430-bc2f-98e79ba2cc70\" target=\"_top\" title=\"psysml:fe2242fc-88cc-4430-bc2f-98e79ba2cc70\" xlink:actuate=\"onRequest\" xlink:href=\"psysml:fe2242fc-88cc-4430-bc2f-98e79ba2cc70\" xlink:show=\"new\" xlink:title=\"psysml:fe2242fc-88cc-4430-bc2f-98e79ba2cc70\" xlink:type=\"simple\"><path d=\"M206.07,204.56 C214.61,220.42 224.57,238.92 232.14,252.98 \" fill=\"none\" id=\"E9&lt;-E11\" style=\"stroke: #A80036; stroke-width: 1.0;\"/><polygon fill=\"#FFFFFF\" points=\"199.88,193.06,199.2038,200.2393,205.5708,203.6248,206.247,196.4455,199.88,193.06\" style=\"stroke: #A80036; stroke-width: 1.0;\"/><text fill=\"#000000\" font-family=\"sans-serif\" font-size=\"13\" lengthAdjust=\"spacingAndGlyphs\" textLength=\"8\" x=\"219.8776\" y=\"241.8709\">1</text></a><!--MD5=[062ed86c389d1a88f61c6380d0491e17]\n",
       "reverse link E12 to E13--><a href=\"psysml:0c56cab0-046e-4827-a921-af226384c943\" target=\"_top\" title=\"psysml:0c56cab0-046e-4827-a921-af226384c943\" xlink:actuate=\"onRequest\" xlink:href=\"psysml:0c56cab0-046e-4827-a921-af226384c943\" xlink:show=\"new\" xlink:title=\"psysml:0c56cab0-046e-4827-a921-af226384c943\" xlink:type=\"simple\"><path d=\"M79,100.44 C79,115.87 79,133.47 79,146.98 \" fill=\"none\" id=\"E12&lt;-E13\" style=\"stroke: #A80036; stroke-width: 1.0;\"/><polygon fill=\"#FFFFFF\" points=\"79,87.06,75,93.06,79,99.06,83,93.06,79,87.06\" style=\"stroke: #A80036; stroke-width: 1.0;\"/><text fill=\"#000000\" font-family=\"sans-serif\" font-size=\"13\" lengthAdjust=\"spacingAndGlyphs\" textLength=\"8\" x=\"69.925\" y=\"135.8709\">1</text></a><!--MD5=[01db00f33b28669d6d9febea71002831]\n",
       "reverse link E13 to E14--><a href=\"psysml:12334834-5f3e-4b20-9f0b-aad671391bfa\" target=\"_top\" title=\"psysml:12334834-5f3e-4b20-9f0b-aad671391bfa\" xlink:actuate=\"onRequest\" xlink:href=\"psysml:12334834-5f3e-4b20-9f0b-aad671391bfa\" xlink:show=\"new\" xlink:title=\"psysml:12334834-5f3e-4b20-9f0b-aad671391bfa\" xlink:type=\"simple\"><path d=\"M82.75,206.44 C84.38,221.87 86.24,239.47 87.67,252.98 \" fill=\"none\" id=\"E13&lt;-E14\" style=\"stroke: #A80036; stroke-width: 1.0;\"/><polygon fill=\"#FFFFFF\" points=\"81.33,193.06,77.9783,199.4448,82.5828,204.9944,85.9345,198.6096,81.33,193.06\" style=\"stroke: #A80036; stroke-width: 1.0;\"/><text fill=\"#000000\" font-family=\"sans-serif\" font-size=\"13\" lengthAdjust=\"spacingAndGlyphs\" textLength=\"8\" x=\"77.9688\" y=\"241.8709\">1</text></a><!--MD5=[e5566ac99d7714697a7fbc17f6b550fe]\n",
       "link E14 to E2--><a href=\"psysml:f15866fc-26c5-4fac-ba02-f8f796eed5e8\" target=\"_top\" title=\"psysml:f15866fc-26c5-4fac-ba02-f8f796eed5e8\" xlink:actuate=\"onRequest\" xlink:href=\"psysml:f15866fc-26c5-4fac-ba02-f8f796eed5e8\" xlink:show=\"new\" xlink:title=\"psysml:f15866fc-26c5-4fac-ba02-f8f796eed5e8\" xlink:type=\"simple\"><path d=\"M111.05,290.6 C133.49,305.09 169.87,328.59 199.91,348 \" fill=\"none\" id=\"E14-&gt;E2\" style=\"stroke: #A80036; stroke-width: 1.0;\"/><polygon fill=\"#FFFFFF\" points=\"216.71,358.85,196.9529,354.4164,204.5518,342.6581,216.71,358.85\" style=\"stroke: #A80036; stroke-width: 1.0;\"/><ellipse cx=\"193.2512\" cy=\"349.6428\" fill=\"#A80036\" rx=\"2\" ry=\"2\" style=\"stroke: #A80036; stroke-width: 1.0;\"/><ellipse cx=\"198.6789\" cy=\"341.244\" fill=\"#A80036\" rx=\"2\" ry=\"2\" style=\"stroke: #A80036; stroke-width: 1.0;\"/></a><!--MD5=[e9a5e828c71fd2209a11a152f562d491]\n",
       "reverse link E13 to E15--><a href=\"psysml:ce878baa-f80f-4009-adda-6088e19c872e\" target=\"_top\" title=\"psysml:ce878baa-f80f-4009-adda-6088e19c872e\" xlink:actuate=\"onRequest\" xlink:href=\"psysml:ce878baa-f80f-4009-adda-6088e19c872e\" xlink:show=\"new\" xlink:title=\"psysml:ce878baa-f80f-4009-adda-6088e19c872e\" xlink:type=\"simple\"><path d=\"M63.75,205.34 C54.23,231.13 45.02,267.31 52,299 C56.73,320.45 67.65,342.96 76.58,358.96 \" fill=\"none\" id=\"E13&lt;-E15\" style=\"stroke: #A80036; stroke-width: 1.0;\"/><polygon fill=\"#FFFFFF\" points=\"68.52,193.23,62.5978,197.3443,64.1179,204.3934,70.0401,200.2791,68.52,193.23\" style=\"stroke: #A80036; stroke-width: 1.0;\"/><text fill=\"#000000\" font-family=\"sans-serif\" font-size=\"13\" lengthAdjust=\"spacingAndGlyphs\" textLength=\"8\" x=\"63.8984\" y=\"347.8455\">1</text></a><!--MD5=[3afbdc645381407e1bc99677323a2513]\n",
       "link E14 to E15--><a href=\"psysml:1f31a0eb-24e7-4abd-8eab-15c525015988\" target=\"_top\" title=\"psysml:1f31a0eb-24e7-4abd-8eab-15c525015988\" xlink:actuate=\"onRequest\" xlink:href=\"psysml:1f31a0eb-24e7-4abd-8eab-15c525015988\" xlink:show=\"new\" xlink:title=\"psysml:1f31a0eb-24e7-4abd-8eab-15c525015988\" xlink:type=\"simple\"><path d=\"M79.35,299.06 C76.55,316.7 76.55,341.34 79.36,358.98 \" fill=\"none\" id=\"E14-E15\" style=\"stroke: #A80036; stroke-width: 3.0;\"/></a><!--MD5=[3afbdc645381407e1bc99677323a2513]\n",
       "link E14 to E15--><a href=\"psysml:c2fd36d5-55a7-4367-ae55-c3f656adabca\" target=\"_top\" title=\"psysml:c2fd36d5-55a7-4367-ae55-c3f656adabca\" xlink:actuate=\"onRequest\" xlink:href=\"psysml:c2fd36d5-55a7-4367-ae55-c3f656adabca\" xlink:show=\"new\" xlink:title=\"psysml:c2fd36d5-55a7-4367-ae55-c3f656adabca\" xlink:type=\"simple\"><path d=\"M101.27,299.06 C104.24,316.7 104.24,341.34 101.27,358.98 \" fill=\"none\" id=\"E14-E15-1\" style=\"stroke: #A80036; stroke-width: 3.0;\"/></a><!--MD5=[db6c98b167a0791bd35c38245f9498a4]\n",
       "@startuml\r\n",
       "skinparam wrapWidth 300\r\n",
       "hide circle\r\n",
       "\r\n",
       "package \"ConjugationTest\" as E1  [[psysml:4e179b45-ef84-478c-a2da-b16af7c43fe7 ]]  {\r\n",
       "comp def \"P\" as E2  <<(T,blue) port  def>> [[psysml:859d5a2d-b524-488b-9af4-e0f987adcacf ]] {\r\n",
       "}\r\n",
       "comp def \"B\" as E3  <<(T,blue) part  def>> [[psysml:615e73ac-8544-4e42-b424-8a4747867d0e ]] {\r\n",
       "}\r\n",
       "comp usage \"p1: P \" as E4  <<(T,blue) port>> [[psysml:37d2c32c-e4e6-4c0b-af75-96cd6556dd4d ]] {\r\n",
       "}\r\n",
       "comp usage \"p2 \" as E5  <<(T,blue) port>> [[psysml:a7d82e4a-e12d-4520-9ae6-c89754eb7506 ]] {\r\n",
       "}\r\n",
       "comp def \"A\" as E6  <<(T,blue) connection  def>> [[psysml:5cdadcae-4d33-45cc-84a1-e26eca79ba4d ]] {\r\n",
       "}\r\n",
       "comp usage \"p1: P \" as E7  <<(T,blue) port>> [[psysml:7fb982ae-cae7-41b0-848a-52bb93191ec3 ]] {\r\n",
       "}\r\n",
       "comp usage \"p2 \" as E8  <<(T,blue) port>> [[psysml:5c21b9df-62cf-4ee8-9145-76efb13de7e4 ]] {\r\n",
       "}\r\n",
       "comp def \"I\" as E9  <<(T,blue) interface  def>> [[psysml:2bbab23f-cc40-4354-88cc-493e0b41ffd4 ]] {\r\n",
       "}\r\n",
       "comp usage \"p1: P \" as E10  <<(T,blue) port>> [[psysml:e0785fbe-faad-409c-b39f-62ae49a7d6e0 ]] {\r\n",
       "}\r\n",
       "comp usage \"p2 \" as E11  <<(T,blue) port>> [[psysml:a18508b4-2f12-4bca-8dd1-291939c34d14 ]] {\r\n",
       "}\r\n",
       "comp def \"B1\" as E12  <<(T,blue) part  def>> [[psysml:cd0027e5-9ed9-4216-bffa-1e31fa367fb3 ]] {\r\n",
       "}\r\n",
       "comp usage \"p \" as E13  <<(T,blue) part>> [[psysml:3cf8fc76-e05d-49bd-b29f-3b88a47b72de ]] {\r\n",
       "}\r\n",
       "comp usage \"p1: P \" as E14  <<(T,blue) port>> [[psysml:6cf362ef-4bb1-44a5-8272-767638a97c43 ]] {\r\n",
       "}\r\n",
       "comp usage \"p2 \" as E15  <<(T,blue) port>> [[psysml:33e7cbb5-c462-4d34-9030-b3438d816b29 ]] {\r\n",
       "}\r\n",
       "}\r\n",
       "E3 o- - \"1\"E4 [[psysml:e09aa0cf-99c0-4ed5-833c-e6cdd9353c0b ]] \r\n",
       "E4 - -:|> E2 [[psysml:d96439d0-54ae-42c8-b560-5f0ede470e61 ]] \r\n",
       "E3 o- - \"1\"E5 [[psysml:880a21a1-46d7-4f3d-9543-241b40e3ab4a ]] \r\n",
       "E6 o- - \"1\"E7 [[psysml:98390341-db8e-40b6-aced-fec2311e0a9d ]] \r\n",
       "E7 - -:|> E2 [[psysml:6f9217eb-859f-4957-bc31-6c1306f83367 ]] \r\n",
       "E6 o- - \"1\"E8 [[psysml:15a7c7be-761e-4e1c-a126-babbedfba5ca ]] \r\n",
       "E9 o- - \"1\"E10 [[psysml:a15de342-1742-4b99-9b86-ed8c6fb30ab8 ]] \r\n",
       "E10 - -:|> E2 [[psysml:81b1dfc1-849b-47a4-a859-9ae7a728ef15 ]] \r\n",
       "E9 o- - \"1\"E11 [[psysml:fe2242fc-88cc-4430-bc2f-98e79ba2cc70 ]] \r\n",
       "E12 o- - \"1\"E13 [[psysml:0c56cab0-046e-4827-a921-af226384c943 ]] \r\n",
       "E13 o- - \"1\"E14 [[psysml:12334834-5f3e-4b20-9f0b-aad671391bfa ]] \r\n",
       "E14 - -:|> E2 [[psysml:f15866fc-26c5-4fac-ba02-f8f796eed5e8 ]] \r\n",
       "E13 o- - \"1\"E15 [[psysml:ce878baa-f80f-4009-adda-6088e19c872e ]] \r\n",
       "E14 -[thickness=3]- E15 [[psysml:1f31a0eb-24e7-4abd-8eab-15c525015988 ]] \r\n",
       "E14 -[thickness=3]- E15 [[psysml:c2fd36d5-55a7-4367-ae55-c3f656adabca ]] \r\n",
       "@enduml\r\n",
       "\n",
       "PlantUML version 1.2020.13(Sat Jun 13 12:26:38 UTC 2020)\n",
       "(EPL source distribution)\n",
       "Java Runtime: OpenJDK Runtime Environment\n",
       "JVM: OpenJDK 64-Bit Server VM\n",
       "Default Encoding: UTF-8\n",
       "Language: en\n",
       "Country: null\n",
       "--></g></svg>"
      ]
     },
     "execution_count": 29,
     "metadata": {},
     "output_type": "execute_result"
    }
   ],
   "source": [
    "%viz --style=\"STDCOLOR\" --view=\"MIXED\" \"ConjugationTest\""
   ]
  },
  {
   "cell_type": "code",
   "execution_count": 30,
   "id": "ed690e99",
   "metadata": {
    "execution": {
     "iopub.execute_input": "2022-08-19T08:18:13.869575Z",
     "iopub.status.busy": "2022-08-19T08:18:13.869135Z",
     "iopub.status.idle": "2022-08-19T08:18:13.954150Z",
     "shell.execute_reply": "2022-08-19T08:18:13.953750Z"
    }
   },
   "outputs": [
    {
     "data": {
      "image/svg+xml": [
       "<?xml version=\"1.0\" encoding=\"UTF-8\" standalone=\"no\"?><svg xmlns=\"http://www.w3.org/2000/svg\" xmlns:xlink=\"http://www.w3.org/1999/xlink\" contentScriptType=\"application/ecmascript\" contentStyleType=\"text/css\" height=\"427px\" preserveAspectRatio=\"none\" style=\"width:793px;height:427px;\" version=\"1.1\" viewBox=\"0 0 793 427\" width=\"793px\" zoomAndPan=\"magnify\"><defs><filter height=\"300%\" id=\"f12xh1nrzw1oka\" width=\"300%\" x=\"-1\" y=\"-1\"><feGaussianBlur result=\"blurOut\" stdDeviation=\"2.0\"/><feColorMatrix in=\"blurOut\" result=\"blurOut2\" type=\"matrix\" values=\"0 0 0 0 0 0 0 0 0 0 0 0 0 0 0 0 0 0 .4 0\"/><feOffset dx=\"4.0\" dy=\"4.0\" in=\"blurOut2\" result=\"blurOut3\"/><feBlend in=\"SourceGraphic\" in2=\"blurOut3\" mode=\"normal\"/></filter></defs><g><!--MD5=[fbc87193dbaf4d95561dea2c320d4a47]\n",
       "cluster E1--><a href=\"psysml:4e179b45-ef84-478c-a2da-b16af7c43fe7\" target=\"_top\" title=\"psysml:4e179b45-ef84-478c-a2da-b16af7c43fe7\" xlink:actuate=\"onRequest\" xlink:href=\"psysml:4e179b45-ef84-478c-a2da-b16af7c43fe7\" xlink:show=\"new\" xlink:title=\"psysml:4e179b45-ef84-478c-a2da-b16af7c43fe7\" xlink:type=\"simple\"><polygon fill=\"#FFFFFF\" filter=\"url(#f12xh1nrzw1oka)\" points=\"16,6,136,6,143,28.2969,771,28.2969,771,415,16,415,16,6\" style=\"stroke: #000000; stroke-width: 1.5;\"/><line style=\"stroke: #000000; stroke-width: 1.5;\" x1=\"16\" x2=\"143\" y1=\"28.2969\" y2=\"28.2969\"/><text fill=\"#000000\" font-family=\"sans-serif\" font-size=\"14\" font-weight=\"bold\" lengthAdjust=\"spacingAndGlyphs\" textLength=\"114\" x=\"20\" y=\"20.9951\">ConjugationTest</text></a><!--MD5=[b4997ac47864f28c2f74865a473b2911]\n",
       "class E2--><a href=\"psysml:859d5a2d-b524-488b-9af4-e0f987adcacf\" target=\"_top\" title=\"psysml:859d5a2d-b524-488b-9af4-e0f987adcacf\" xlink:actuate=\"onRequest\" xlink:href=\"psysml:859d5a2d-b524-488b-9af4-e0f987adcacf\" xlink:show=\"new\" xlink:title=\"psysml:859d5a2d-b524-488b-9af4-e0f987adcacf\" xlink:type=\"simple\"><rect fill=\"#FEFECE\" filter=\"url(#f12xh1nrzw1oka)\" height=\"45.9375\" id=\"E2\" style=\"stroke: #A80036; stroke-width: 1.5;\" width=\"96\" x=\"268\" y=\"353\"/><ellipse cx=\"283\" cy=\"371.9688\" fill=\"#A52A2A\" rx=\"11\" ry=\"11\" style=\"stroke: #A80036; stroke-width: 1.0;\"/><path d=\"M280.2188,376.9688 L280.2188,366.375 L282.9531,366.375 Q284.3438,366.375 285.1094,366.7656 Q285.8906,367.1406 286.4219,367.8438 Q286.9531,368.5469 287.25,369.5469 Q287.5469,370.5313 287.5469,371.75 Q287.5,373.3438 287,374.5313 Q286.5156,375.7031 285.4688,376.3438 Q284.4375,376.9688 282.75,376.9688 L280.2188,376.9688 Z M282.0781,375.4688 L282.7031,375.4688 Q283.7813,375.4688 284.4375,375.0156 Q285.0938,374.5625 285.375,373.7344 Q285.6719,372.8906 285.6563,371.7656 Q285.6563,370.5938 285.4063,369.7344 Q285.1563,368.8594 284.5469,368.3906 Q283.9375,367.9063 282.8906,367.9063 L282.0781,367.9063 L282.0781,375.4688 Z \"/><text fill=\"#000000\" font-family=\"sans-serif\" font-size=\"12\" font-style=\"italic\" lengthAdjust=\"spacingAndGlyphs\" textLength=\"68\" x=\"295\" y=\"369.1387\">«port  def»</text><text fill=\"#000000\" font-family=\"sans-serif\" font-size=\"12\" lengthAdjust=\"spacingAndGlyphs\" textLength=\"8\" x=\"325\" y=\"383.1074\">P</text><line style=\"stroke: #A80036; stroke-width: 1.5;\" x1=\"269\" x2=\"363\" y1=\"390.9375\" y2=\"390.9375\"/></a><!--MD5=[09b614a08d8cba4a07c9adeb5e0fee81]\n",
       "class E3--><a href=\"psysml:615e73ac-8544-4e42-b424-8a4747867d0e\" target=\"_top\" title=\"psysml:615e73ac-8544-4e42-b424-8a4747867d0e\" xlink:actuate=\"onRequest\" xlink:href=\"psysml:615e73ac-8544-4e42-b424-8a4747867d0e\" xlink:show=\"new\" xlink:title=\"psysml:615e73ac-8544-4e42-b424-8a4747867d0e\" xlink:type=\"simple\"><rect fill=\"#FEFECE\" filter=\"url(#f12xh1nrzw1oka)\" height=\"40\" id=\"E3\" style=\"stroke: #A80036; stroke-width: 1.5;\" width=\"40\" x=\"649\" y=\"144\"/><ellipse cx=\"664\" cy=\"160\" fill=\"#008000\" rx=\"11\" ry=\"11\" style=\"stroke: #A80036; stroke-width: 1.0;\"/><path d=\"M660.875,165 L660.875,154.4063 L664.1094,154.4063 Q666.0156,154.4063 666.9219,155.1563 Q667.8438,155.9063 667.8438,157.0781 Q667.8438,157.7656 667.4531,158.4219 Q667.0781,159.0781 666.3594,159.375 Q667.2188,159.75 667.7344,160.4375 Q668.25,161.125 668.25,161.9375 Q668.25,163.3125 667.2188,164.1563 Q666.2031,165 664.0938,165 L660.875,165 Z M662.7969,158.6406 L663.9531,158.6406 Q665.0781,158.6406 665.4844,158.2656 Q665.9063,157.875 665.9063,157.25 Q665.9063,156.6719 665.4844,156.3125 Q665.0625,155.9531 664.125,155.9531 L662.7969,155.9531 L662.7969,158.6406 Z M662.7969,163.4219 L664.2969,163.4219 Q665.2031,163.4219 665.7344,163.0313 Q666.2656,162.6406 666.2656,161.8906 Q666.2656,161.125 665.7656,160.6563 Q665.2656,160.1719 664,160.1719 L662.7969,160.1719 L662.7969,163.4219 Z \"/><text fill=\"#000000\" font-family=\"sans-serif\" font-size=\"12\" lengthAdjust=\"spacingAndGlyphs\" textLength=\"8\" x=\"678\" y=\"164.1543\">B</text><line style=\"stroke: #A80036; stroke-width: 1.5;\" x1=\"650\" x2=\"688\" y1=\"176\" y2=\"176\"/></a><!--MD5=[ebbe1d658d1005bcc118a6aa81145e00]\n",
       "class E4--><a href=\"psysml:37d2c32c-e4e6-4c0b-af75-96cd6556dd4d\" target=\"_top\" title=\"psysml:37d2c32c-e4e6-4c0b-af75-96cd6556dd4d\" xlink:actuate=\"onRequest\" xlink:href=\"psysml:37d2c32c-e4e6-4c0b-af75-96cd6556dd4d\" xlink:show=\"new\" xlink:title=\"psysml:37d2c32c-e4e6-4c0b-af75-96cd6556dd4d\" xlink:type=\"simple\"><rect fill=\"#FEFECE\" filter=\"url(#f12xh1nrzw1oka)\" height=\"45.9375\" id=\"E4\" rx=\"10\" ry=\"10\" style=\"stroke: #A80036; stroke-width: 1.5;\" width=\"68\" x=\"584\" y=\"247\"/><ellipse cx=\"599\" cy=\"265.9688\" fill=\"#0000FF\" rx=\"11\" ry=\"11\" style=\"stroke: #A80036; stroke-width: 1.0;\"/><path d=\"M595.8125,270.9688 L595.8125,260.375 L599.4219,260.375 Q600.6406,260.375 601.4375,260.8125 Q602.2344,261.2344 602.6094,261.9375 Q603,262.6406 603,263.4844 Q603,264.3281 602.625,265.0156 Q602.2656,265.7031 601.4688,266.125 Q600.6875,266.5313 599.5,266.5313 L597.7656,266.5313 L597.7656,270.9688 L595.8125,270.9688 Z M597.7656,264.9375 L599.375,264.9375 Q600.1875,264.9375 600.6094,264.5313 Q601.0313,264.125 601.0313,263.4844 Q601.0313,262.8594 600.6094,262.4531 Q600.1875,262.0469 599.3906,262.0469 L597.7656,262.0469 L597.7656,264.9375 Z \"/><text fill=\"#000000\" font-family=\"sans-serif\" font-size=\"12\" font-style=\"italic\" lengthAdjust=\"spacingAndGlyphs\" textLength=\"40\" x=\"611\" y=\"263.1387\">«port»</text><text fill=\"#000000\" font-family=\"sans-serif\" font-size=\"12\" lengthAdjust=\"spacingAndGlyphs\" textLength=\"32\" x=\"613\" y=\"277.1074\">p1: P</text><line style=\"stroke: #A80036; stroke-width: 1.5;\" x1=\"585\" x2=\"651\" y1=\"284.9375\" y2=\"284.9375\"/></a><!--MD5=[270fce915f116d4de14055a7c1d9a0f3]\n",
       "class E5--><a href=\"psysml:a7d82e4a-e12d-4520-9ae6-c89754eb7506\" target=\"_top\" title=\"psysml:a7d82e4a-e12d-4520-9ae6-c89754eb7506\" xlink:actuate=\"onRequest\" xlink:href=\"psysml:a7d82e4a-e12d-4520-9ae6-c89754eb7506\" xlink:show=\"new\" xlink:title=\"psysml:a7d82e4a-e12d-4520-9ae6-c89754eb7506\" xlink:type=\"simple\"><rect fill=\"#FEFECE\" filter=\"url(#f12xh1nrzw1oka)\" height=\"45.9375\" id=\"E5\" rx=\"10\" ry=\"10\" style=\"stroke: #A80036; stroke-width: 1.5;\" width=\"68\" x=\"687\" y=\"247\"/><ellipse cx=\"702\" cy=\"265.9688\" fill=\"#0000FF\" rx=\"11\" ry=\"11\" style=\"stroke: #A80036; stroke-width: 1.0;\"/><path d=\"M698.8125,270.9688 L698.8125,260.375 L702.4219,260.375 Q703.6406,260.375 704.4375,260.8125 Q705.2344,261.2344 705.6094,261.9375 Q706,262.6406 706,263.4844 Q706,264.3281 705.625,265.0156 Q705.2656,265.7031 704.4688,266.125 Q703.6875,266.5313 702.5,266.5313 L700.7656,266.5313 L700.7656,270.9688 L698.8125,270.9688 Z M700.7656,264.9375 L702.375,264.9375 Q703.1875,264.9375 703.6094,264.5313 Q704.0313,264.125 704.0313,263.4844 Q704.0313,262.8594 703.6094,262.4531 Q703.1875,262.0469 702.3906,262.0469 L700.7656,262.0469 L700.7656,264.9375 Z \"/><text fill=\"#000000\" font-family=\"sans-serif\" font-size=\"12\" font-style=\"italic\" lengthAdjust=\"spacingAndGlyphs\" textLength=\"40\" x=\"714\" y=\"263.1387\">«port»</text><text fill=\"#000000\" font-family=\"sans-serif\" font-size=\"12\" lengthAdjust=\"spacingAndGlyphs\" textLength=\"16\" x=\"724\" y=\"277.1074\">p2</text><line style=\"stroke: #A80036; stroke-width: 1.5;\" x1=\"688\" x2=\"754\" y1=\"284.9375\" y2=\"284.9375\"/></a><!--MD5=[60a26617385b1d2d0262a64233df1f8d]\n",
       "class E6--><a href=\"psysml:5cdadcae-4d33-45cc-84a1-e26eca79ba4d\" target=\"_top\" title=\"psysml:5cdadcae-4d33-45cc-84a1-e26eca79ba4d\" xlink:actuate=\"onRequest\" xlink:href=\"psysml:5cdadcae-4d33-45cc-84a1-e26eca79ba4d\" xlink:show=\"new\" xlink:title=\"psysml:5cdadcae-4d33-45cc-84a1-e26eca79ba4d\" xlink:type=\"simple\"><rect fill=\"#FEFECE\" filter=\"url(#f12xh1nrzw1oka)\" height=\"40\" id=\"E6\" style=\"stroke: #A80036; stroke-width: 1.5;\" width=\"40\" x=\"443\" y=\"144\"/><ellipse cx=\"458\" cy=\"160\" fill=\"#008000\" rx=\"11\" ry=\"11\" style=\"stroke: #A80036; stroke-width: 1.0;\"/><path d=\"M454.875,165 L454.875,154.4063 L458.1094,154.4063 Q460.0156,154.4063 460.9219,155.1563 Q461.8438,155.9063 461.8438,157.0781 Q461.8438,157.7656 461.4531,158.4219 Q461.0781,159.0781 460.3594,159.375 Q461.2188,159.75 461.7344,160.4375 Q462.25,161.125 462.25,161.9375 Q462.25,163.3125 461.2188,164.1563 Q460.2031,165 458.0938,165 L454.875,165 Z M456.7969,158.6406 L457.9531,158.6406 Q459.0781,158.6406 459.4844,158.2656 Q459.9063,157.875 459.9063,157.25 Q459.9063,156.6719 459.4844,156.3125 Q459.0625,155.9531 458.125,155.9531 L456.7969,155.9531 L456.7969,158.6406 Z M456.7969,163.4219 L458.2969,163.4219 Q459.2031,163.4219 459.7344,163.0313 Q460.2656,162.6406 460.2656,161.8906 Q460.2656,161.125 459.7656,160.6563 Q459.2656,160.1719 458,160.1719 L456.7969,160.1719 L456.7969,163.4219 Z \"/><text fill=\"#000000\" font-family=\"sans-serif\" font-size=\"12\" lengthAdjust=\"spacingAndGlyphs\" textLength=\"8\" x=\"472\" y=\"164.1543\">A</text><line style=\"stroke: #A80036; stroke-width: 1.5;\" x1=\"444\" x2=\"482\" y1=\"176\" y2=\"176\"/></a><!--MD5=[2156ba9850f5573cc1fc38a6a4b2f02b]\n",
       "class E7--><a href=\"psysml:7fb982ae-cae7-41b0-848a-52bb93191ec3\" target=\"_top\" title=\"psysml:7fb982ae-cae7-41b0-848a-52bb93191ec3\" xlink:actuate=\"onRequest\" xlink:href=\"psysml:7fb982ae-cae7-41b0-848a-52bb93191ec3\" xlink:show=\"new\" xlink:title=\"psysml:7fb982ae-cae7-41b0-848a-52bb93191ec3\" xlink:type=\"simple\"><rect fill=\"#FEFECE\" filter=\"url(#f12xh1nrzw1oka)\" height=\"45.9375\" id=\"E7\" rx=\"10\" ry=\"10\" style=\"stroke: #A80036; stroke-width: 1.5;\" width=\"68\" x=\"378\" y=\"247\"/><ellipse cx=\"393\" cy=\"265.9688\" fill=\"#0000FF\" rx=\"11\" ry=\"11\" style=\"stroke: #A80036; stroke-width: 1.0;\"/><path d=\"M389.8125,270.9688 L389.8125,260.375 L393.4219,260.375 Q394.6406,260.375 395.4375,260.8125 Q396.2344,261.2344 396.6094,261.9375 Q397,262.6406 397,263.4844 Q397,264.3281 396.625,265.0156 Q396.2656,265.7031 395.4688,266.125 Q394.6875,266.5313 393.5,266.5313 L391.7656,266.5313 L391.7656,270.9688 L389.8125,270.9688 Z M391.7656,264.9375 L393.375,264.9375 Q394.1875,264.9375 394.6094,264.5313 Q395.0313,264.125 395.0313,263.4844 Q395.0313,262.8594 394.6094,262.4531 Q394.1875,262.0469 393.3906,262.0469 L391.7656,262.0469 L391.7656,264.9375 Z \"/><text fill=\"#000000\" font-family=\"sans-serif\" font-size=\"12\" font-style=\"italic\" lengthAdjust=\"spacingAndGlyphs\" textLength=\"40\" x=\"405\" y=\"263.1387\">«port»</text><text fill=\"#000000\" font-family=\"sans-serif\" font-size=\"12\" lengthAdjust=\"spacingAndGlyphs\" textLength=\"32\" x=\"407\" y=\"277.1074\">p1: P</text><line style=\"stroke: #A80036; stroke-width: 1.5;\" x1=\"379\" x2=\"445\" y1=\"284.9375\" y2=\"284.9375\"/></a><!--MD5=[b9389687b975829384b498ac4b7476b2]\n",
       "class E8--><a href=\"psysml:5c21b9df-62cf-4ee8-9145-76efb13de7e4\" target=\"_top\" title=\"psysml:5c21b9df-62cf-4ee8-9145-76efb13de7e4\" xlink:actuate=\"onRequest\" xlink:href=\"psysml:5c21b9df-62cf-4ee8-9145-76efb13de7e4\" xlink:show=\"new\" xlink:title=\"psysml:5c21b9df-62cf-4ee8-9145-76efb13de7e4\" xlink:type=\"simple\"><rect fill=\"#FEFECE\" filter=\"url(#f12xh1nrzw1oka)\" height=\"45.9375\" id=\"E8\" rx=\"10\" ry=\"10\" style=\"stroke: #A80036; stroke-width: 1.5;\" width=\"68\" x=\"481\" y=\"247\"/><ellipse cx=\"496\" cy=\"265.9688\" fill=\"#0000FF\" rx=\"11\" ry=\"11\" style=\"stroke: #A80036; stroke-width: 1.0;\"/><path d=\"M492.8125,270.9688 L492.8125,260.375 L496.4219,260.375 Q497.6406,260.375 498.4375,260.8125 Q499.2344,261.2344 499.6094,261.9375 Q500,262.6406 500,263.4844 Q500,264.3281 499.625,265.0156 Q499.2656,265.7031 498.4688,266.125 Q497.6875,266.5313 496.5,266.5313 L494.7656,266.5313 L494.7656,270.9688 L492.8125,270.9688 Z M494.7656,264.9375 L496.375,264.9375 Q497.1875,264.9375 497.6094,264.5313 Q498.0313,264.125 498.0313,263.4844 Q498.0313,262.8594 497.6094,262.4531 Q497.1875,262.0469 496.3906,262.0469 L494.7656,262.0469 L494.7656,264.9375 Z \"/><text fill=\"#000000\" font-family=\"sans-serif\" font-size=\"12\" font-style=\"italic\" lengthAdjust=\"spacingAndGlyphs\" textLength=\"40\" x=\"508\" y=\"263.1387\">«port»</text><text fill=\"#000000\" font-family=\"sans-serif\" font-size=\"12\" lengthAdjust=\"spacingAndGlyphs\" textLength=\"16\" x=\"518\" y=\"277.1074\">p2</text><line style=\"stroke: #A80036; stroke-width: 1.5;\" x1=\"482\" x2=\"548\" y1=\"284.9375\" y2=\"284.9375\"/></a><!--MD5=[fd4143e9d270a159db93a4ea2a975926]\n",
       "class E9--><a href=\"psysml:2bbab23f-cc40-4354-88cc-493e0b41ffd4\" target=\"_top\" title=\"psysml:2bbab23f-cc40-4354-88cc-493e0b41ffd4\" xlink:actuate=\"onRequest\" xlink:href=\"psysml:2bbab23f-cc40-4354-88cc-493e0b41ffd4\" xlink:show=\"new\" xlink:title=\"psysml:2bbab23f-cc40-4354-88cc-493e0b41ffd4\" xlink:type=\"simple\"><rect fill=\"#FEFECE\" filter=\"url(#f12xh1nrzw1oka)\" height=\"40\" id=\"E9\" style=\"stroke: #A80036; stroke-width: 1.5;\" width=\"35\" x=\"239.5\" y=\"144\"/><ellipse cx=\"254.5\" cy=\"160\" fill=\"#008000\" rx=\"11\" ry=\"11\" style=\"stroke: #A80036; stroke-width: 1.0;\"/><path d=\"M251.375,165 L251.375,154.4063 L254.6094,154.4063 Q256.5156,154.4063 257.4219,155.1563 Q258.3438,155.9063 258.3438,157.0781 Q258.3438,157.7656 257.9531,158.4219 Q257.5781,159.0781 256.8594,159.375 Q257.7188,159.75 258.2344,160.4375 Q258.75,161.125 258.75,161.9375 Q258.75,163.3125 257.7188,164.1563 Q256.7031,165 254.5938,165 L251.375,165 Z M253.2969,158.6406 L254.4531,158.6406 Q255.5781,158.6406 255.9844,158.2656 Q256.4063,157.875 256.4063,157.25 Q256.4063,156.6719 255.9844,156.3125 Q255.5625,155.9531 254.625,155.9531 L253.2969,155.9531 L253.2969,158.6406 Z M253.2969,163.4219 L254.7969,163.4219 Q255.7031,163.4219 256.2344,163.0313 Q256.7656,162.6406 256.7656,161.8906 Q256.7656,161.125 256.2656,160.6563 Q255.7656,160.1719 254.5,160.1719 L253.2969,160.1719 L253.2969,163.4219 Z \"/><text fill=\"#000000\" font-family=\"sans-serif\" font-size=\"12\" lengthAdjust=\"spacingAndGlyphs\" textLength=\"3\" x=\"268.5\" y=\"164.1543\">I</text><line style=\"stroke: #A80036; stroke-width: 1.5;\" x1=\"240.5\" x2=\"273.5\" y1=\"176\" y2=\"176\"/></a><!--MD5=[96f4274e9e20536e775497830990834d]\n",
       "class E10--><a href=\"psysml:e0785fbe-faad-409c-b39f-62ae49a7d6e0\" target=\"_top\" title=\"psysml:e0785fbe-faad-409c-b39f-62ae49a7d6e0\" xlink:actuate=\"onRequest\" xlink:href=\"psysml:e0785fbe-faad-409c-b39f-62ae49a7d6e0\" xlink:show=\"new\" xlink:title=\"psysml:e0785fbe-faad-409c-b39f-62ae49a7d6e0\" xlink:type=\"simple\"><rect fill=\"#FEFECE\" filter=\"url(#f12xh1nrzw1oka)\" height=\"45.9375\" id=\"E10\" rx=\"10\" ry=\"10\" style=\"stroke: #A80036; stroke-width: 1.5;\" width=\"68\" x=\"172\" y=\"247\"/><ellipse cx=\"187\" cy=\"265.9688\" fill=\"#0000FF\" rx=\"11\" ry=\"11\" style=\"stroke: #A80036; stroke-width: 1.0;\"/><path d=\"M183.8125,270.9688 L183.8125,260.375 L187.4219,260.375 Q188.6406,260.375 189.4375,260.8125 Q190.2344,261.2344 190.6094,261.9375 Q191,262.6406 191,263.4844 Q191,264.3281 190.625,265.0156 Q190.2656,265.7031 189.4688,266.125 Q188.6875,266.5313 187.5,266.5313 L185.7656,266.5313 L185.7656,270.9688 L183.8125,270.9688 Z M185.7656,264.9375 L187.375,264.9375 Q188.1875,264.9375 188.6094,264.5313 Q189.0313,264.125 189.0313,263.4844 Q189.0313,262.8594 188.6094,262.4531 Q188.1875,262.0469 187.3906,262.0469 L185.7656,262.0469 L185.7656,264.9375 Z \"/><text fill=\"#000000\" font-family=\"sans-serif\" font-size=\"12\" font-style=\"italic\" lengthAdjust=\"spacingAndGlyphs\" textLength=\"40\" x=\"199\" y=\"263.1387\">«port»</text><text fill=\"#000000\" font-family=\"sans-serif\" font-size=\"12\" lengthAdjust=\"spacingAndGlyphs\" textLength=\"32\" x=\"201\" y=\"277.1074\">p1: P</text><line style=\"stroke: #A80036; stroke-width: 1.5;\" x1=\"173\" x2=\"239\" y1=\"284.9375\" y2=\"284.9375\"/></a><!--MD5=[1dd1bfd58a279cf63c5f349dbc8fc6a1]\n",
       "class E11--><a href=\"psysml:a18508b4-2f12-4bca-8dd1-291939c34d14\" target=\"_top\" title=\"psysml:a18508b4-2f12-4bca-8dd1-291939c34d14\" xlink:actuate=\"onRequest\" xlink:href=\"psysml:a18508b4-2f12-4bca-8dd1-291939c34d14\" xlink:show=\"new\" xlink:title=\"psysml:a18508b4-2f12-4bca-8dd1-291939c34d14\" xlink:type=\"simple\"><rect fill=\"#FEFECE\" filter=\"url(#f12xh1nrzw1oka)\" height=\"45.9375\" id=\"E11\" rx=\"10\" ry=\"10\" style=\"stroke: #A80036; stroke-width: 1.5;\" width=\"68\" x=\"275\" y=\"247\"/><ellipse cx=\"290\" cy=\"265.9688\" fill=\"#0000FF\" rx=\"11\" ry=\"11\" style=\"stroke: #A80036; stroke-width: 1.0;\"/><path d=\"M286.8125,270.9688 L286.8125,260.375 L290.4219,260.375 Q291.6406,260.375 292.4375,260.8125 Q293.2344,261.2344 293.6094,261.9375 Q294,262.6406 294,263.4844 Q294,264.3281 293.625,265.0156 Q293.2656,265.7031 292.4688,266.125 Q291.6875,266.5313 290.5,266.5313 L288.7656,266.5313 L288.7656,270.9688 L286.8125,270.9688 Z M288.7656,264.9375 L290.375,264.9375 Q291.1875,264.9375 291.6094,264.5313 Q292.0313,264.125 292.0313,263.4844 Q292.0313,262.8594 291.6094,262.4531 Q291.1875,262.0469 290.3906,262.0469 L288.7656,262.0469 L288.7656,264.9375 Z \"/><text fill=\"#000000\" font-family=\"sans-serif\" font-size=\"12\" font-style=\"italic\" lengthAdjust=\"spacingAndGlyphs\" textLength=\"40\" x=\"302\" y=\"263.1387\">«port»</text><text fill=\"#000000\" font-family=\"sans-serif\" font-size=\"12\" lengthAdjust=\"spacingAndGlyphs\" textLength=\"16\" x=\"312\" y=\"277.1074\">p2</text><line style=\"stroke: #A80036; stroke-width: 1.5;\" x1=\"276\" x2=\"342\" y1=\"284.9375\" y2=\"284.9375\"/></a><!--MD5=[49a0ec8f00dab7302a31f22d0f0fe584]\n",
       "class E12--><a href=\"psysml:cd0027e5-9ed9-4216-bffa-1e31fa367fb3\" target=\"_top\" title=\"psysml:cd0027e5-9ed9-4216-bffa-1e31fa367fb3\" xlink:actuate=\"onRequest\" xlink:href=\"psysml:cd0027e5-9ed9-4216-bffa-1e31fa367fb3\" xlink:show=\"new\" xlink:title=\"psysml:cd0027e5-9ed9-4216-bffa-1e31fa367fb3\" xlink:type=\"simple\"><rect fill=\"#FEFECE\" filter=\"url(#f12xh1nrzw1oka)\" height=\"40\" id=\"E12\" style=\"stroke: #A80036; stroke-width: 1.5;\" width=\"48\" x=\"60\" y=\"41\"/><ellipse cx=\"75\" cy=\"57\" fill=\"#008000\" rx=\"11\" ry=\"11\" style=\"stroke: #A80036; stroke-width: 1.0;\"/><path d=\"M71.875,62 L71.875,51.4063 L75.1094,51.4063 Q77.0156,51.4063 77.9219,52.1563 Q78.8438,52.9063 78.8438,54.0781 Q78.8438,54.7656 78.4531,55.4219 Q78.0781,56.0781 77.3594,56.375 Q78.2188,56.75 78.7344,57.4375 Q79.25,58.125 79.25,58.9375 Q79.25,60.3125 78.2188,61.1563 Q77.2031,62 75.0938,62 L71.875,62 Z M73.7969,55.6406 L74.9531,55.6406 Q76.0781,55.6406 76.4844,55.2656 Q76.9063,54.875 76.9063,54.25 Q76.9063,53.6719 76.4844,53.3125 Q76.0625,52.9531 75.125,52.9531 L73.7969,52.9531 L73.7969,55.6406 Z M73.7969,60.4219 L75.2969,60.4219 Q76.2031,60.4219 76.7344,60.0313 Q77.2656,59.6406 77.2656,58.8906 Q77.2656,58.125 76.7656,57.6563 Q76.2656,57.1719 75,57.1719 L73.7969,57.1719 L73.7969,60.4219 Z \"/><text fill=\"#000000\" font-family=\"sans-serif\" font-size=\"12\" lengthAdjust=\"spacingAndGlyphs\" textLength=\"16\" x=\"89\" y=\"61.1543\">B1</text><line style=\"stroke: #A80036; stroke-width: 1.5;\" x1=\"61\" x2=\"107\" y1=\"73\" y2=\"73\"/></a><!--MD5=[ee3c913d1a06f366521f9ef512b67efe]\n",
       "class E13--><a href=\"psysml:3cf8fc76-e05d-49bd-b29f-3b88a47b72de\" target=\"_top\" title=\"psysml:3cf8fc76-e05d-49bd-b29f-3b88a47b72de\" xlink:actuate=\"onRequest\" xlink:href=\"psysml:3cf8fc76-e05d-49bd-b29f-3b88a47b72de\" xlink:show=\"new\" xlink:title=\"psysml:3cf8fc76-e05d-49bd-b29f-3b88a47b72de\" xlink:type=\"simple\"><rect fill=\"#FEFECE\" filter=\"url(#f12xh1nrzw1oka)\" height=\"45.9375\" id=\"E13\" rx=\"10\" ry=\"10\" style=\"stroke: #A80036; stroke-width: 1.5;\" width=\"68\" x=\"50\" y=\"141\"/><ellipse cx=\"65\" cy=\"159.9688\" fill=\"#32CD32\" rx=\"11\" ry=\"11\" style=\"stroke: #A80036; stroke-width: 1.0;\"/><path d=\"M61.8125,164.9688 L61.8125,154.375 L65.4219,154.375 Q66.6406,154.375 67.4375,154.8125 Q68.2344,155.2344 68.6094,155.9375 Q69,156.6406 69,157.4844 Q69,158.3281 68.625,159.0156 Q68.2656,159.7031 67.4688,160.125 Q66.6875,160.5313 65.5,160.5313 L63.7656,160.5313 L63.7656,164.9688 L61.8125,164.9688 Z M63.7656,158.9375 L65.375,158.9375 Q66.1875,158.9375 66.6094,158.5313 Q67.0313,158.125 67.0313,157.4844 Q67.0313,156.8594 66.6094,156.4531 Q66.1875,156.0469 65.3906,156.0469 L63.7656,156.0469 L63.7656,158.9375 Z \"/><text fill=\"#000000\" font-family=\"sans-serif\" font-size=\"12\" font-style=\"italic\" lengthAdjust=\"spacingAndGlyphs\" textLength=\"40\" x=\"77\" y=\"157.1387\">«part»</text><text fill=\"#000000\" font-family=\"sans-serif\" font-size=\"12\" lengthAdjust=\"spacingAndGlyphs\" textLength=\"8\" x=\"91\" y=\"171.1074\">p</text><line style=\"stroke: #A80036; stroke-width: 1.5;\" x1=\"51\" x2=\"117\" y1=\"178.9375\" y2=\"178.9375\"/></a><!--MD5=[bee11217b2f71d958a27249dc326068c]\n",
       "class E14--><a href=\"psysml:6cf362ef-4bb1-44a5-8272-767638a97c43\" target=\"_top\" title=\"psysml:6cf362ef-4bb1-44a5-8272-767638a97c43\" xlink:actuate=\"onRequest\" xlink:href=\"psysml:6cf362ef-4bb1-44a5-8272-767638a97c43\" xlink:show=\"new\" xlink:title=\"psysml:6cf362ef-4bb1-44a5-8272-767638a97c43\" xlink:type=\"simple\"><rect fill=\"#FEFECE\" filter=\"url(#f12xh1nrzw1oka)\" height=\"45.9375\" id=\"E14\" rx=\"10\" ry=\"10\" style=\"stroke: #A80036; stroke-width: 1.5;\" width=\"68\" x=\"69\" y=\"247\"/><ellipse cx=\"84\" cy=\"265.9688\" fill=\"#0000FF\" rx=\"11\" ry=\"11\" style=\"stroke: #A80036; stroke-width: 1.0;\"/><path d=\"M80.8125,270.9688 L80.8125,260.375 L84.4219,260.375 Q85.6406,260.375 86.4375,260.8125 Q87.2344,261.2344 87.6094,261.9375 Q88,262.6406 88,263.4844 Q88,264.3281 87.625,265.0156 Q87.2656,265.7031 86.4688,266.125 Q85.6875,266.5313 84.5,266.5313 L82.7656,266.5313 L82.7656,270.9688 L80.8125,270.9688 Z M82.7656,264.9375 L84.375,264.9375 Q85.1875,264.9375 85.6094,264.5313 Q86.0313,264.125 86.0313,263.4844 Q86.0313,262.8594 85.6094,262.4531 Q85.1875,262.0469 84.3906,262.0469 L82.7656,262.0469 L82.7656,264.9375 Z \"/><text fill=\"#000000\" font-family=\"sans-serif\" font-size=\"12\" font-style=\"italic\" lengthAdjust=\"spacingAndGlyphs\" textLength=\"40\" x=\"96\" y=\"263.1387\">«port»</text><text fill=\"#000000\" font-family=\"sans-serif\" font-size=\"12\" lengthAdjust=\"spacingAndGlyphs\" textLength=\"32\" x=\"98\" y=\"277.1074\">p1: P</text><line style=\"stroke: #A80036; stroke-width: 1.5;\" x1=\"70\" x2=\"136\" y1=\"284.9375\" y2=\"284.9375\"/></a><!--MD5=[0c48fb7552dae8cbbef69381101a84c8]\n",
       "class E15--><a href=\"psysml:33e7cbb5-c462-4d34-9030-b3438d816b29\" target=\"_top\" title=\"psysml:33e7cbb5-c462-4d34-9030-b3438d816b29\" xlink:actuate=\"onRequest\" xlink:href=\"psysml:33e7cbb5-c462-4d34-9030-b3438d816b29\" xlink:show=\"new\" xlink:title=\"psysml:33e7cbb5-c462-4d34-9030-b3438d816b29\" xlink:type=\"simple\"><rect fill=\"#FEFECE\" filter=\"url(#f12xh1nrzw1oka)\" height=\"45.9375\" id=\"E15\" rx=\"10\" ry=\"10\" style=\"stroke: #A80036; stroke-width: 1.5;\" width=\"68\" x=\"69\" y=\"353\"/><ellipse cx=\"84\" cy=\"371.9688\" fill=\"#0000FF\" rx=\"11\" ry=\"11\" style=\"stroke: #A80036; stroke-width: 1.0;\"/><path d=\"M80.8125,376.9688 L80.8125,366.375 L84.4219,366.375 Q85.6406,366.375 86.4375,366.8125 Q87.2344,367.2344 87.6094,367.9375 Q88,368.6406 88,369.4844 Q88,370.3281 87.625,371.0156 Q87.2656,371.7031 86.4688,372.125 Q85.6875,372.5313 84.5,372.5313 L82.7656,372.5313 L82.7656,376.9688 L80.8125,376.9688 Z M82.7656,370.9375 L84.375,370.9375 Q85.1875,370.9375 85.6094,370.5313 Q86.0313,370.125 86.0313,369.4844 Q86.0313,368.8594 85.6094,368.4531 Q85.1875,368.0469 84.3906,368.0469 L82.7656,368.0469 L82.7656,370.9375 Z \"/><text fill=\"#000000\" font-family=\"sans-serif\" font-size=\"12\" font-style=\"italic\" lengthAdjust=\"spacingAndGlyphs\" textLength=\"40\" x=\"96\" y=\"369.1387\">«port»</text><text fill=\"#000000\" font-family=\"sans-serif\" font-size=\"12\" lengthAdjust=\"spacingAndGlyphs\" textLength=\"16\" x=\"106\" y=\"383.1074\">p2</text><line style=\"stroke: #A80036; stroke-width: 1.5;\" x1=\"70\" x2=\"136\" y1=\"390.9375\" y2=\"390.9375\"/></a><!--MD5=[4672eba38e49728da53d11aeb285b987]\n",
       "reverse link E3 to E4--><a href=\"psysml:e09aa0cf-99c0-4ed5-833c-e6cdd9353c0b\" target=\"_top\" title=\"psysml:e09aa0cf-99c0-4ed5-833c-e6cdd9353c0b\" xlink:actuate=\"onRequest\" xlink:href=\"psysml:e09aa0cf-99c0-4ed5-833c-e6cdd9353c0b\" xlink:show=\"new\" xlink:title=\"psysml:e09aa0cf-99c0-4ed5-833c-e6cdd9353c0b\" xlink:type=\"simple\"><path d=\"M653.9,195.8 C645.87,212.18 636.18,231.94 628.89,246.8 \" fill=\"none\" id=\"E3&lt;-E4\" style=\"stroke: #A80036; stroke-width: 1.0;\"/><polygon fill=\"#FFFFFF\" points=\"659.65,184.08,653.4156,187.7038,654.3627,194.8524,660.5971,191.2286,659.65,184.08\" style=\"stroke: #A80036; stroke-width: 1.0;\"/><text fill=\"#000000\" font-family=\"sans-serif\" font-size=\"13\" lengthAdjust=\"spacingAndGlyphs\" textLength=\"8\" x=\"622.6556\" y=\"236.025\">1</text></a><!--MD5=[185131fc0dcab0a4505a2ebe144e961b]\n",
       "link E4 to E2--><a href=\"psysml:d96439d0-54ae-42c8-b560-5f0ede470e61\" target=\"_top\" title=\"psysml:d96439d0-54ae-42c8-b560-5f0ede470e61\" xlink:actuate=\"onRequest\" xlink:href=\"psysml:d96439d0-54ae-42c8-b560-5f0ede470e61\" xlink:show=\"new\" xlink:title=\"psysml:d96439d0-54ae-42c8-b560-5f0ede470e61\" xlink:type=\"simple\"><path d=\"M583.88,286.23 C578.28,288.58 572.5,290.92 567,293 C505.62,316.21 434.41,339.1 383.55,354.77 \" fill=\"none\" id=\"E4-&gt;E2\" style=\"stroke: #A80036; stroke-width: 1.0;\"/><polygon fill=\"#FFFFFF\" points=\"364.1,360.72,380.2154,348.4605,384.3171,361.8462,364.1,360.72\" style=\"stroke: #A80036; stroke-width: 1.0;\"/><ellipse cx=\"386.2512\" cy=\"348.7028\" fill=\"#A80036\" rx=\"2\" ry=\"2\" style=\"stroke: #A80036; stroke-width: 1.0;\"/><ellipse cx=\"389.181\" cy=\"358.264\" fill=\"#A80036\" rx=\"2\" ry=\"2\" style=\"stroke: #A80036; stroke-width: 1.0;\"/></a><!--MD5=[191cde3d490a3f6d7bb551fe3ddca469]\n",
       "reverse link E3 to E5--><a href=\"psysml:880a21a1-46d7-4f3d-9543-241b40e3ab4a\" target=\"_top\" title=\"psysml:880a21a1-46d7-4f3d-9543-241b40e3ab4a\" xlink:actuate=\"onRequest\" xlink:href=\"psysml:880a21a1-46d7-4f3d-9543-241b40e3ab4a\" xlink:show=\"new\" xlink:title=\"psysml:880a21a1-46d7-4f3d-9543-241b40e3ab4a\" xlink:type=\"simple\"><path d=\"M684.4,195.8 C692.59,212.18 702.47,231.94 709.9,246.8 \" fill=\"none\" id=\"E3&lt;-E5\" style=\"stroke: #A80036; stroke-width: 1.0;\"/><polygon fill=\"#FFFFFF\" points=\"678.54,184.08,677.6456,191.2354,683.9066,194.8131,684.801,187.6577,678.54,184.08\" style=\"stroke: #A80036; stroke-width: 1.0;\"/><text fill=\"#000000\" font-family=\"sans-serif\" font-size=\"13\" lengthAdjust=\"spacingAndGlyphs\" textLength=\"8\" x=\"698.0306\" y=\"236.025\">1</text></a><!--MD5=[3f50a3473f1dfb74d3f76443e03635af]\n",
       "reverse link E6 to E7--><a href=\"psysml:98390341-db8e-40b6-aced-fec2311e0a9d\" target=\"_top\" title=\"psysml:98390341-db8e-40b6-aced-fec2311e0a9d\" xlink:actuate=\"onRequest\" xlink:href=\"psysml:98390341-db8e-40b6-aced-fec2311e0a9d\" xlink:show=\"new\" xlink:title=\"psysml:98390341-db8e-40b6-aced-fec2311e0a9d\" xlink:type=\"simple\"><path d=\"M447.9,195.8 C439.87,212.18 430.18,231.94 422.89,246.8 \" fill=\"none\" id=\"E6&lt;-E7\" style=\"stroke: #A80036; stroke-width: 1.0;\"/><polygon fill=\"#FFFFFF\" points=\"453.65,184.08,447.4156,187.7038,448.3627,194.8524,454.5971,191.2286,453.65,184.08\" style=\"stroke: #A80036; stroke-width: 1.0;\"/><text fill=\"#000000\" font-family=\"sans-serif\" font-size=\"13\" lengthAdjust=\"spacingAndGlyphs\" textLength=\"8\" x=\"416.6556\" y=\"236.025\">1</text></a><!--MD5=[583832df87f4419a098336a29a52fa00]\n",
       "link E7 to E2--><a href=\"psysml:6f9217eb-859f-4957-bc31-6c1306f83367\" target=\"_top\" title=\"psysml:6f9217eb-859f-4957-bc31-6c1306f83367\" xlink:actuate=\"onRequest\" xlink:href=\"psysml:6f9217eb-859f-4957-bc31-6c1306f83367\" xlink:show=\"new\" xlink:title=\"psysml:6f9217eb-859f-4957-bc31-6c1306f83367\" xlink:type=\"simple\"><path d=\"M391.64,293.06 C379.55,306.15 363.91,323.1 349.99,338.18 \" fill=\"none\" id=\"E7-&gt;E2\" style=\"stroke: #A80036; stroke-width: 1.0;\"/><polygon fill=\"#FFFFFF\" points=\"336.33,352.98,344.0752,334.2714,354.3617,343.7682,336.33,352.98\" style=\"stroke: #A80036; stroke-width: 1.0;\"/><ellipse cx=\"349.4112\" cy=\"331.44\" fill=\"#A80036\" rx=\"2\" ry=\"2\" style=\"stroke: #A80036; stroke-width: 1.0;\"/><ellipse cx=\"356.7587\" cy=\"338.2234\" fill=\"#A80036\" rx=\"2\" ry=\"2\" style=\"stroke: #A80036; stroke-width: 1.0;\"/></a><!--MD5=[f4cf0736d43fd73c4ef68817c49d37d5]\n",
       "reverse link E6 to E8--><a href=\"psysml:15a7c7be-761e-4e1c-a126-babbedfba5ca\" target=\"_top\" title=\"psysml:15a7c7be-761e-4e1c-a126-babbedfba5ca\" xlink:actuate=\"onRequest\" xlink:href=\"psysml:15a7c7be-761e-4e1c-a126-babbedfba5ca\" xlink:show=\"new\" xlink:title=\"psysml:15a7c7be-761e-4e1c-a126-babbedfba5ca\" xlink:type=\"simple\"><path d=\"M478.4,195.8 C486.59,212.18 496.47,231.94 503.9,246.8 \" fill=\"none\" id=\"E6&lt;-E8\" style=\"stroke: #A80036; stroke-width: 1.0;\"/><polygon fill=\"#FFFFFF\" points=\"472.54,184.08,471.6456,191.2354,477.9066,194.8131,478.801,187.6577,472.54,184.08\" style=\"stroke: #A80036; stroke-width: 1.0;\"/><text fill=\"#000000\" font-family=\"sans-serif\" font-size=\"13\" lengthAdjust=\"spacingAndGlyphs\" textLength=\"8\" x=\"492.0306\" y=\"236.025\">1</text></a><!--MD5=[23ac544a70576c3e717098101004234c]\n",
       "reverse link E9 to E10--><a href=\"psysml:a15de342-1742-4b99-9b86-ed8c6fb30ab8\" target=\"_top\" title=\"psysml:a15de342-1742-4b99-9b86-ed8c6fb30ab8\" xlink:actuate=\"onRequest\" xlink:href=\"psysml:a15de342-1742-4b99-9b86-ed8c6fb30ab8\" xlink:show=\"new\" xlink:title=\"psysml:a15de342-1742-4b99-9b86-ed8c6fb30ab8\" xlink:type=\"simple\"><path d=\"M241.9,195.8 C233.87,212.18 224.18,231.94 216.89,246.8 \" fill=\"none\" id=\"E9&lt;-E10\" style=\"stroke: #A80036; stroke-width: 1.0;\"/><polygon fill=\"#FFFFFF\" points=\"247.65,184.08,241.4156,187.7038,242.3627,194.8524,248.5971,191.2286,247.65,184.08\" style=\"stroke: #A80036; stroke-width: 1.0;\"/><text fill=\"#000000\" font-family=\"sans-serif\" font-size=\"13\" lengthAdjust=\"spacingAndGlyphs\" textLength=\"8\" x=\"210.6556\" y=\"236.025\">1</text></a><!--MD5=[0f36bececdf0dff6e600d6f64214b0f1]\n",
       "link E10 to E2--><a href=\"psysml:81b1dfc1-849b-47a4-a859-9ae7a728ef15\" target=\"_top\" title=\"psysml:81b1dfc1-849b-47a4-a859-9ae7a728ef15\" xlink:actuate=\"onRequest\" xlink:href=\"psysml:81b1dfc1-849b-47a4-a859-9ae7a728ef15\" xlink:show=\"new\" xlink:title=\"psysml:81b1dfc1-849b-47a4-a859-9ae7a728ef15\" xlink:type=\"simple\"><path d=\"M229.33,293.06 C243.47,306.43 261.86,323.81 278.06,339.13 \" fill=\"none\" id=\"E10-&gt;E2\" style=\"stroke: #A80036; stroke-width: 1.0;\"/><polygon fill=\"#FFFFFF\" points=\"292.71,352.98,274.0966,345.0087,283.7172,334.838,292.71,352.98\" style=\"stroke: #A80036; stroke-width: 1.0;\"/><ellipse cx=\"271.33\" cy=\"339.6388\" fill=\"#A80036\" rx=\"2\" ry=\"2\" style=\"stroke: #A80036; stroke-width: 1.0;\"/><ellipse cx=\"278.2019\" cy=\"332.374\" fill=\"#A80036\" rx=\"2\" ry=\"2\" style=\"stroke: #A80036; stroke-width: 1.0;\"/></a><!--MD5=[1fc04a95fd77ad5ce46c1a3027516051]\n",
       "reverse link E9 to E11--><a href=\"psysml:fe2242fc-88cc-4430-bc2f-98e79ba2cc70\" target=\"_top\" title=\"psysml:fe2242fc-88cc-4430-bc2f-98e79ba2cc70\" xlink:actuate=\"onRequest\" xlink:href=\"psysml:fe2242fc-88cc-4430-bc2f-98e79ba2cc70\" xlink:show=\"new\" xlink:title=\"psysml:fe2242fc-88cc-4430-bc2f-98e79ba2cc70\" xlink:type=\"simple\"><path d=\"M272.4,195.8 C280.59,212.18 290.47,231.94 297.9,246.8 \" fill=\"none\" id=\"E9&lt;-E11\" style=\"stroke: #A80036; stroke-width: 1.0;\"/><polygon fill=\"#FFFFFF\" points=\"266.54,184.08,265.6456,191.2354,271.9066,194.8131,272.801,187.6577,266.54,184.08\" style=\"stroke: #A80036; stroke-width: 1.0;\"/><text fill=\"#000000\" font-family=\"sans-serif\" font-size=\"13\" lengthAdjust=\"spacingAndGlyphs\" textLength=\"8\" x=\"286.0306\" y=\"236.025\">1</text></a><!--MD5=[062ed86c389d1a88f61c6380d0491e17]\n",
       "reverse link E12 to E13--><a href=\"psysml:0c56cab0-046e-4827-a921-af226384c943\" target=\"_top\" title=\"psysml:0c56cab0-046e-4827-a921-af226384c943\" xlink:actuate=\"onRequest\" xlink:href=\"psysml:0c56cab0-046e-4827-a921-af226384c943\" xlink:show=\"new\" xlink:title=\"psysml:0c56cab0-046e-4827-a921-af226384c943\" xlink:type=\"simple\"><path d=\"M84,94.47 C84,109.59 84,127.2 84,140.77 \" fill=\"none\" id=\"E12&lt;-E13\" style=\"stroke: #A80036; stroke-width: 1.0;\"/><polygon fill=\"#FFFFFF\" points=\"84,81.47,80,87.47,84,93.47,88,87.47,84,81.47\" style=\"stroke: #A80036; stroke-width: 1.0;\"/><text fill=\"#000000\" font-family=\"sans-serif\" font-size=\"13\" lengthAdjust=\"spacingAndGlyphs\" textLength=\"8\" x=\"74.975\" y=\"129.9874\">1</text></a><!--MD5=[01db00f33b28669d6d9febea71002831]\n",
       "reverse link E13 to E14--><a href=\"psysml:12334834-5f3e-4b20-9f0b-aad671391bfa\" target=\"_top\" title=\"psysml:12334834-5f3e-4b20-9f0b-aad671391bfa\" xlink:actuate=\"onRequest\" xlink:href=\"psysml:12334834-5f3e-4b20-9f0b-aad671391bfa\" xlink:show=\"new\" xlink:title=\"psysml:12334834-5f3e-4b20-9f0b-aad671391bfa\" xlink:type=\"simple\"><path d=\"M90.39,199.96 C93.23,215.51 96.48,233.33 98.98,246.98 \" fill=\"none\" id=\"E13&lt;-E14\" style=\"stroke: #A80036; stroke-width: 1.0;\"/><polygon fill=\"#FFFFFF\" points=\"88.03,187.06,85.1698,193.6796,90.1801,198.8658,93.0403,192.2462,88.03,187.06\" style=\"stroke: #A80036; stroke-width: 1.0;\"/><text fill=\"#000000\" font-family=\"sans-serif\" font-size=\"13\" lengthAdjust=\"spacingAndGlyphs\" textLength=\"8\" x=\"88.8246\" y=\"235.8709\">1</text></a><!--MD5=[e5566ac99d7714697a7fbc17f6b550fe]\n",
       "link E14 to E2--><a href=\"psysml:f15866fc-26c5-4fac-ba02-f8f796eed5e8\" target=\"_top\" title=\"psysml:f15866fc-26c5-4fac-ba02-f8f796eed5e8\" xlink:actuate=\"onRequest\" xlink:href=\"psysml:f15866fc-26c5-4fac-ba02-f8f796eed5e8\" xlink:show=\"new\" xlink:title=\"psysml:f15866fc-26c5-4fac-ba02-f8f796eed5e8\" xlink:type=\"simple\"><path d=\"M137.22,287.71 C168.28,302.87 214.86,325.62 252.69,344.09 \" fill=\"none\" id=\"E14-&gt;E2\" style=\"stroke: #A80036; stroke-width: 1.0;\"/><polygon fill=\"#FFFFFF\" points=\"270.72,352.89,250.5749,350.8469,256.7156,338.2655,270.72,352.89\" style=\"stroke: #A80036; stroke-width: 1.0;\"/><ellipse cx=\"246.3297\" cy=\"346.5494\" fill=\"#A80036\" rx=\"2\" ry=\"2\" style=\"stroke: #A80036; stroke-width: 1.0;\"/><ellipse cx=\"250.7159\" cy=\"337.5627\" fill=\"#A80036\" rx=\"2\" ry=\"2\" style=\"stroke: #A80036; stroke-width: 1.0;\"/></a><!--MD5=[e9a5e828c71fd2209a11a152f562d491]\n",
       "reverse link E13 to E15--><a href=\"psysml:ce878baa-f80f-4009-adda-6088e19c872e\" target=\"_top\" title=\"psysml:ce878baa-f80f-4009-adda-6088e19c872e\" xlink:actuate=\"onRequest\" xlink:href=\"psysml:ce878baa-f80f-4009-adda-6088e19c872e\" xlink:show=\"new\" xlink:title=\"psysml:ce878baa-f80f-4009-adda-6088e19c872e\" xlink:type=\"simple\"><path d=\"M65.17,199.1 C53.3,224.98 41.82,261.37 51,293 C57.44,315.18 71.88,337.1 83.91,352.69 \" fill=\"none\" id=\"E13&lt;-E15\" style=\"stroke: #A80036; stroke-width: 1.0;\"/><polygon fill=\"#FFFFFF\" points=\"70.93,187.31,64.7009,190.9429,65.6585,198.0902,71.8876,194.4572,70.93,187.31\" style=\"stroke: #A80036; stroke-width: 1.0;\"/><text fill=\"#000000\" font-family=\"sans-serif\" font-size=\"13\" lengthAdjust=\"spacingAndGlyphs\" textLength=\"8\" x=\"69.9932\" y=\"341.8869\">1</text></a><!--MD5=[3afbdc645381407e1bc99677323a2513]\n",
       "link E14 to E15--><a href=\"psysml:1f31a0eb-24e7-4abd-8eab-15c525015988\" target=\"_top\" title=\"psysml:1f31a0eb-24e7-4abd-8eab-15c525015988\" xlink:actuate=\"onRequest\" xlink:href=\"psysml:1f31a0eb-24e7-4abd-8eab-15c525015988\" xlink:show=\"new\" xlink:title=\"psysml:1f31a0eb-24e7-4abd-8eab-15c525015988\" xlink:type=\"simple\"><path d=\"M92.35,293.06 C89.55,310.7 89.55,335.34 92.36,352.98 \" fill=\"none\" id=\"E14-E15\" style=\"stroke: #A80036; stroke-width: 3.0;\"/></a><!--MD5=[3afbdc645381407e1bc99677323a2513]\n",
       "link E14 to E15--><a href=\"psysml:c2fd36d5-55a7-4367-ae55-c3f656adabca\" target=\"_top\" title=\"psysml:c2fd36d5-55a7-4367-ae55-c3f656adabca\" xlink:actuate=\"onRequest\" xlink:href=\"psysml:c2fd36d5-55a7-4367-ae55-c3f656adabca\" xlink:show=\"new\" xlink:title=\"psysml:c2fd36d5-55a7-4367-ae55-c3f656adabca\" xlink:type=\"simple\"><path d=\"M114.27,293.06 C117.24,310.7 117.24,335.34 114.27,352.98 \" fill=\"none\" id=\"E14-E15-1\" style=\"stroke: #A80036; stroke-width: 3.0;\"/></a><!--MD5=[0956b968b2325195e3ebb9813e517712]\n",
       "@startuml\r\n",
       " \r\n",
       "package \"ConjugationTest\" as E1  [[psysml:4e179b45-ef84-478c-a2da-b16af7c43fe7 ]]  {\r\n",
       "comp def \"P\" as E2 << <<(D,brown) port  def>> [[psysml:859d5a2d-b524-488b-9af4-e0f987adcacf ]] {\r\n",
       "}\r\n",
       "comp def \"B\" as E3 << << (B,green) >> [[psysml:615e73ac-8544-4e42-b424-8a4747867d0e ]] {\r\n",
       "}\r\n",
       "comp usage \"p1: P \" as E4 << << (P,blue) port>> [[psysml:37d2c32c-e4e6-4c0b-af75-96cd6556dd4d ]] {\r\n",
       "}\r\n",
       "comp usage \"p2 \" as E5 << << (P,blue) port>> [[psysml:a7d82e4a-e12d-4520-9ae6-c89754eb7506 ]] {\r\n",
       "}\r\n",
       "comp def \"A\" as E6 << << (B,green) >> [[psysml:5cdadcae-4d33-45cc-84a1-e26eca79ba4d ]] {\r\n",
       "}\r\n",
       "comp usage \"p1: P \" as E7 << << (P,blue) port>> [[psysml:7fb982ae-cae7-41b0-848a-52bb93191ec3 ]] {\r\n",
       "}\r\n",
       "comp usage \"p2 \" as E8 << << (P,blue) port>> [[psysml:5c21b9df-62cf-4ee8-9145-76efb13de7e4 ]] {\r\n",
       "}\r\n",
       "comp def \"I\" as E9 << << (B,green) >> [[psysml:2bbab23f-cc40-4354-88cc-493e0b41ffd4 ]] {\r\n",
       "}\r\n",
       "comp usage \"p1: P \" as E10 << << (P,blue) port>> [[psysml:e0785fbe-faad-409c-b39f-62ae49a7d6e0 ]] {\r\n",
       "}\r\n",
       "comp usage \"p2 \" as E11 << << (P,blue) port>> [[psysml:a18508b4-2f12-4bca-8dd1-291939c34d14 ]] {\r\n",
       "}\r\n",
       "comp def \"B1\" as E12 << << (B,green) >> [[psysml:cd0027e5-9ed9-4216-bffa-1e31fa367fb3 ]] {\r\n",
       "}\r\n",
       "comp usage \"p \" as E13 << << (P,limegreen) part>> [[psysml:3cf8fc76-e05d-49bd-b29f-3b88a47b72de ]] {\r\n",
       "}\r\n",
       "comp usage \"p1: P \" as E14 << << (P,blue) port>> [[psysml:6cf362ef-4bb1-44a5-8272-767638a97c43 ]] {\r\n",
       "}\r\n",
       "comp usage \"p2 \" as E15 << << (P,blue) port>> [[psysml:33e7cbb5-c462-4d34-9030-b3438d816b29 ]] {\r\n",
       "}\r\n",
       "}\r\n",
       "E3 o- - \"1\"E4 [[psysml:e09aa0cf-99c0-4ed5-833c-e6cdd9353c0b ]] \r\n",
       "E4 - -:|> E2 [[psysml:d96439d0-54ae-42c8-b560-5f0ede470e61 ]] \r\n",
       "E3 o- - \"1\"E5 [[psysml:880a21a1-46d7-4f3d-9543-241b40e3ab4a ]] \r\n",
       "E6 o- - \"1\"E7 [[psysml:98390341-db8e-40b6-aced-fec2311e0a9d ]] \r\n",
       "E7 - -:|> E2 [[psysml:6f9217eb-859f-4957-bc31-6c1306f83367 ]] \r\n",
       "E6 o- - \"1\"E8 [[psysml:15a7c7be-761e-4e1c-a126-babbedfba5ca ]] \r\n",
       "E9 o- - \"1\"E10 [[psysml:a15de342-1742-4b99-9b86-ed8c6fb30ab8 ]] \r\n",
       "E10 - -:|> E2 [[psysml:81b1dfc1-849b-47a4-a859-9ae7a728ef15 ]] \r\n",
       "E9 o- - \"1\"E11 [[psysml:fe2242fc-88cc-4430-bc2f-98e79ba2cc70 ]] \r\n",
       "E12 o- - \"1\"E13 [[psysml:0c56cab0-046e-4827-a921-af226384c943 ]] \r\n",
       "E13 o- - \"1\"E14 [[psysml:12334834-5f3e-4b20-9f0b-aad671391bfa ]] \r\n",
       "E14 - -:|> E2 [[psysml:f15866fc-26c5-4fac-ba02-f8f796eed5e8 ]] \r\n",
       "E13 o- - \"1\"E15 [[psysml:ce878baa-f80f-4009-adda-6088e19c872e ]] \r\n",
       "E14 -[thickness=3]- E15 [[psysml:1f31a0eb-24e7-4abd-8eab-15c525015988 ]] \r\n",
       "E14 -[thickness=3]- E15 [[psysml:c2fd36d5-55a7-4367-ae55-c3f656adabca ]] \r\n",
       "@enduml\r\n",
       "\n",
       "PlantUML version 1.2020.13(Sat Jun 13 12:26:38 UTC 2020)\n",
       "(EPL source distribution)\n",
       "Java Runtime: OpenJDK Runtime Environment\n",
       "JVM: OpenJDK 64-Bit Server VM\n",
       "Default Encoding: UTF-8\n",
       "Language: en\n",
       "Country: null\n",
       "--></g></svg>"
      ]
     },
     "execution_count": 30,
     "metadata": {},
     "output_type": "execute_result"
    }
   ],
   "source": [
    "%viz --style=\"PLANTUML\" --view=\"Default\" \"ConjugationTest\""
   ]
  },
  {
   "cell_type": "code",
   "execution_count": 31,
   "id": "5c721c7c",
   "metadata": {
    "execution": {
     "iopub.execute_input": "2022-08-19T08:18:14.003356Z",
     "iopub.status.busy": "2022-08-19T08:18:14.002917Z",
     "iopub.status.idle": "2022-08-19T08:18:14.055928Z",
     "shell.execute_reply": "2022-08-19T08:18:14.055507Z"
    }
   },
   "outputs": [
    {
     "data": {
      "image/svg+xml": [
       "<?xml version=\"1.0\" encoding=\"UTF-8\" standalone=\"no\"?><svg xmlns=\"http://www.w3.org/2000/svg\" xmlns:xlink=\"http://www.w3.org/1999/xlink\" contentScriptType=\"application/ecmascript\" contentStyleType=\"text/css\" height=\"427px\" preserveAspectRatio=\"none\" style=\"width:793px;height:427px;\" version=\"1.1\" viewBox=\"0 0 793 427\" width=\"793px\" zoomAndPan=\"magnify\"><defs><filter height=\"300%\" id=\"f12xh1nrzw1oka\" width=\"300%\" x=\"-1\" y=\"-1\"><feGaussianBlur result=\"blurOut\" stdDeviation=\"2.0\"/><feColorMatrix in=\"blurOut\" result=\"blurOut2\" type=\"matrix\" values=\"0 0 0 0 0 0 0 0 0 0 0 0 0 0 0 0 0 0 .4 0\"/><feOffset dx=\"4.0\" dy=\"4.0\" in=\"blurOut2\" result=\"blurOut3\"/><feBlend in=\"SourceGraphic\" in2=\"blurOut3\" mode=\"normal\"/></filter></defs><g><!--MD5=[fbc87193dbaf4d95561dea2c320d4a47]\n",
       "cluster E1--><a href=\"psysml:4e179b45-ef84-478c-a2da-b16af7c43fe7\" target=\"_top\" title=\"psysml:4e179b45-ef84-478c-a2da-b16af7c43fe7\" xlink:actuate=\"onRequest\" xlink:href=\"psysml:4e179b45-ef84-478c-a2da-b16af7c43fe7\" xlink:show=\"new\" xlink:title=\"psysml:4e179b45-ef84-478c-a2da-b16af7c43fe7\" xlink:type=\"simple\"><polygon fill=\"#FFFFFF\" filter=\"url(#f12xh1nrzw1oka)\" points=\"16,6,136,6,143,28.2969,771,28.2969,771,415,16,415,16,6\" style=\"stroke: #000000; stroke-width: 1.5;\"/><line style=\"stroke: #000000; stroke-width: 1.5;\" x1=\"16\" x2=\"143\" y1=\"28.2969\" y2=\"28.2969\"/><text fill=\"#000000\" font-family=\"sans-serif\" font-size=\"14\" font-weight=\"bold\" lengthAdjust=\"spacingAndGlyphs\" textLength=\"114\" x=\"20\" y=\"20.9951\">ConjugationTest</text></a><!--MD5=[b4997ac47864f28c2f74865a473b2911]\n",
       "class E2--><a href=\"psysml:859d5a2d-b524-488b-9af4-e0f987adcacf\" target=\"_top\" title=\"psysml:859d5a2d-b524-488b-9af4-e0f987adcacf\" xlink:actuate=\"onRequest\" xlink:href=\"psysml:859d5a2d-b524-488b-9af4-e0f987adcacf\" xlink:show=\"new\" xlink:title=\"psysml:859d5a2d-b524-488b-9af4-e0f987adcacf\" xlink:type=\"simple\"><rect fill=\"#FEFECE\" filter=\"url(#f12xh1nrzw1oka)\" height=\"45.9375\" id=\"E2\" style=\"stroke: #A80036; stroke-width: 1.5;\" width=\"96\" x=\"268\" y=\"353\"/><ellipse cx=\"283\" cy=\"371.9688\" fill=\"#A52A2A\" rx=\"11\" ry=\"11\" style=\"stroke: #A80036; stroke-width: 1.0;\"/><path d=\"M280.2188,376.9688 L280.2188,366.375 L282.9531,366.375 Q284.3438,366.375 285.1094,366.7656 Q285.8906,367.1406 286.4219,367.8438 Q286.9531,368.5469 287.25,369.5469 Q287.5469,370.5313 287.5469,371.75 Q287.5,373.3438 287,374.5313 Q286.5156,375.7031 285.4688,376.3438 Q284.4375,376.9688 282.75,376.9688 L280.2188,376.9688 Z M282.0781,375.4688 L282.7031,375.4688 Q283.7813,375.4688 284.4375,375.0156 Q285.0938,374.5625 285.375,373.7344 Q285.6719,372.8906 285.6563,371.7656 Q285.6563,370.5938 285.4063,369.7344 Q285.1563,368.8594 284.5469,368.3906 Q283.9375,367.9063 282.8906,367.9063 L282.0781,367.9063 L282.0781,375.4688 Z \"/><text fill=\"#000000\" font-family=\"sans-serif\" font-size=\"12\" font-style=\"italic\" lengthAdjust=\"spacingAndGlyphs\" textLength=\"68\" x=\"295\" y=\"369.1387\">«port  def»</text><text fill=\"#000000\" font-family=\"sans-serif\" font-size=\"12\" lengthAdjust=\"spacingAndGlyphs\" textLength=\"8\" x=\"325\" y=\"383.1074\">P</text><line style=\"stroke: #A80036; stroke-width: 1.5;\" x1=\"269\" x2=\"363\" y1=\"390.9375\" y2=\"390.9375\"/></a><!--MD5=[09b614a08d8cba4a07c9adeb5e0fee81]\n",
       "class E3--><a href=\"psysml:615e73ac-8544-4e42-b424-8a4747867d0e\" target=\"_top\" title=\"psysml:615e73ac-8544-4e42-b424-8a4747867d0e\" xlink:actuate=\"onRequest\" xlink:href=\"psysml:615e73ac-8544-4e42-b424-8a4747867d0e\" xlink:show=\"new\" xlink:title=\"psysml:615e73ac-8544-4e42-b424-8a4747867d0e\" xlink:type=\"simple\"><rect fill=\"#FEFECE\" filter=\"url(#f12xh1nrzw1oka)\" height=\"40\" id=\"E3\" style=\"stroke: #A80036; stroke-width: 1.5;\" width=\"40\" x=\"649\" y=\"144\"/><ellipse cx=\"664\" cy=\"160\" fill=\"#008000\" rx=\"11\" ry=\"11\" style=\"stroke: #A80036; stroke-width: 1.0;\"/><path d=\"M660.875,165 L660.875,154.4063 L664.1094,154.4063 Q666.0156,154.4063 666.9219,155.1563 Q667.8438,155.9063 667.8438,157.0781 Q667.8438,157.7656 667.4531,158.4219 Q667.0781,159.0781 666.3594,159.375 Q667.2188,159.75 667.7344,160.4375 Q668.25,161.125 668.25,161.9375 Q668.25,163.3125 667.2188,164.1563 Q666.2031,165 664.0938,165 L660.875,165 Z M662.7969,158.6406 L663.9531,158.6406 Q665.0781,158.6406 665.4844,158.2656 Q665.9063,157.875 665.9063,157.25 Q665.9063,156.6719 665.4844,156.3125 Q665.0625,155.9531 664.125,155.9531 L662.7969,155.9531 L662.7969,158.6406 Z M662.7969,163.4219 L664.2969,163.4219 Q665.2031,163.4219 665.7344,163.0313 Q666.2656,162.6406 666.2656,161.8906 Q666.2656,161.125 665.7656,160.6563 Q665.2656,160.1719 664,160.1719 L662.7969,160.1719 L662.7969,163.4219 Z \"/><text fill=\"#000000\" font-family=\"sans-serif\" font-size=\"12\" lengthAdjust=\"spacingAndGlyphs\" textLength=\"8\" x=\"678\" y=\"164.1543\">B</text><line style=\"stroke: #A80036; stroke-width: 1.5;\" x1=\"650\" x2=\"688\" y1=\"176\" y2=\"176\"/></a><!--MD5=[ebbe1d658d1005bcc118a6aa81145e00]\n",
       "class E4--><a href=\"psysml:37d2c32c-e4e6-4c0b-af75-96cd6556dd4d\" target=\"_top\" title=\"psysml:37d2c32c-e4e6-4c0b-af75-96cd6556dd4d\" xlink:actuate=\"onRequest\" xlink:href=\"psysml:37d2c32c-e4e6-4c0b-af75-96cd6556dd4d\" xlink:show=\"new\" xlink:title=\"psysml:37d2c32c-e4e6-4c0b-af75-96cd6556dd4d\" xlink:type=\"simple\"><rect fill=\"#FEFECE\" filter=\"url(#f12xh1nrzw1oka)\" height=\"45.9375\" id=\"E4\" rx=\"10\" ry=\"10\" style=\"stroke: #A80036; stroke-width: 1.5;\" width=\"68\" x=\"584\" y=\"247\"/><ellipse cx=\"599\" cy=\"265.9688\" fill=\"#0000FF\" rx=\"11\" ry=\"11\" style=\"stroke: #A80036; stroke-width: 1.0;\"/><path d=\"M595.8125,270.9688 L595.8125,260.375 L599.4219,260.375 Q600.6406,260.375 601.4375,260.8125 Q602.2344,261.2344 602.6094,261.9375 Q603,262.6406 603,263.4844 Q603,264.3281 602.625,265.0156 Q602.2656,265.7031 601.4688,266.125 Q600.6875,266.5313 599.5,266.5313 L597.7656,266.5313 L597.7656,270.9688 L595.8125,270.9688 Z M597.7656,264.9375 L599.375,264.9375 Q600.1875,264.9375 600.6094,264.5313 Q601.0313,264.125 601.0313,263.4844 Q601.0313,262.8594 600.6094,262.4531 Q600.1875,262.0469 599.3906,262.0469 L597.7656,262.0469 L597.7656,264.9375 Z \"/><text fill=\"#000000\" font-family=\"sans-serif\" font-size=\"12\" font-style=\"italic\" lengthAdjust=\"spacingAndGlyphs\" textLength=\"40\" x=\"611\" y=\"263.1387\">«port»</text><text fill=\"#000000\" font-family=\"sans-serif\" font-size=\"12\" lengthAdjust=\"spacingAndGlyphs\" textLength=\"32\" x=\"613\" y=\"277.1074\">p1: P</text><line style=\"stroke: #A80036; stroke-width: 1.5;\" x1=\"585\" x2=\"651\" y1=\"284.9375\" y2=\"284.9375\"/></a><!--MD5=[270fce915f116d4de14055a7c1d9a0f3]\n",
       "class E5--><a href=\"psysml:a7d82e4a-e12d-4520-9ae6-c89754eb7506\" target=\"_top\" title=\"psysml:a7d82e4a-e12d-4520-9ae6-c89754eb7506\" xlink:actuate=\"onRequest\" xlink:href=\"psysml:a7d82e4a-e12d-4520-9ae6-c89754eb7506\" xlink:show=\"new\" xlink:title=\"psysml:a7d82e4a-e12d-4520-9ae6-c89754eb7506\" xlink:type=\"simple\"><rect fill=\"#FEFECE\" filter=\"url(#f12xh1nrzw1oka)\" height=\"45.9375\" id=\"E5\" rx=\"10\" ry=\"10\" style=\"stroke: #A80036; stroke-width: 1.5;\" width=\"68\" x=\"687\" y=\"247\"/><ellipse cx=\"702\" cy=\"265.9688\" fill=\"#0000FF\" rx=\"11\" ry=\"11\" style=\"stroke: #A80036; stroke-width: 1.0;\"/><path d=\"M698.8125,270.9688 L698.8125,260.375 L702.4219,260.375 Q703.6406,260.375 704.4375,260.8125 Q705.2344,261.2344 705.6094,261.9375 Q706,262.6406 706,263.4844 Q706,264.3281 705.625,265.0156 Q705.2656,265.7031 704.4688,266.125 Q703.6875,266.5313 702.5,266.5313 L700.7656,266.5313 L700.7656,270.9688 L698.8125,270.9688 Z M700.7656,264.9375 L702.375,264.9375 Q703.1875,264.9375 703.6094,264.5313 Q704.0313,264.125 704.0313,263.4844 Q704.0313,262.8594 703.6094,262.4531 Q703.1875,262.0469 702.3906,262.0469 L700.7656,262.0469 L700.7656,264.9375 Z \"/><text fill=\"#000000\" font-family=\"sans-serif\" font-size=\"12\" font-style=\"italic\" lengthAdjust=\"spacingAndGlyphs\" textLength=\"40\" x=\"714\" y=\"263.1387\">«port»</text><text fill=\"#000000\" font-family=\"sans-serif\" font-size=\"12\" lengthAdjust=\"spacingAndGlyphs\" textLength=\"16\" x=\"724\" y=\"277.1074\">p2</text><line style=\"stroke: #A80036; stroke-width: 1.5;\" x1=\"688\" x2=\"754\" y1=\"284.9375\" y2=\"284.9375\"/></a><!--MD5=[60a26617385b1d2d0262a64233df1f8d]\n",
       "class E6--><a href=\"psysml:5cdadcae-4d33-45cc-84a1-e26eca79ba4d\" target=\"_top\" title=\"psysml:5cdadcae-4d33-45cc-84a1-e26eca79ba4d\" xlink:actuate=\"onRequest\" xlink:href=\"psysml:5cdadcae-4d33-45cc-84a1-e26eca79ba4d\" xlink:show=\"new\" xlink:title=\"psysml:5cdadcae-4d33-45cc-84a1-e26eca79ba4d\" xlink:type=\"simple\"><rect fill=\"#FEFECE\" filter=\"url(#f12xh1nrzw1oka)\" height=\"40\" id=\"E6\" style=\"stroke: #A80036; stroke-width: 1.5;\" width=\"40\" x=\"443\" y=\"144\"/><ellipse cx=\"458\" cy=\"160\" fill=\"#008000\" rx=\"11\" ry=\"11\" style=\"stroke: #A80036; stroke-width: 1.0;\"/><path d=\"M454.875,165 L454.875,154.4063 L458.1094,154.4063 Q460.0156,154.4063 460.9219,155.1563 Q461.8438,155.9063 461.8438,157.0781 Q461.8438,157.7656 461.4531,158.4219 Q461.0781,159.0781 460.3594,159.375 Q461.2188,159.75 461.7344,160.4375 Q462.25,161.125 462.25,161.9375 Q462.25,163.3125 461.2188,164.1563 Q460.2031,165 458.0938,165 L454.875,165 Z M456.7969,158.6406 L457.9531,158.6406 Q459.0781,158.6406 459.4844,158.2656 Q459.9063,157.875 459.9063,157.25 Q459.9063,156.6719 459.4844,156.3125 Q459.0625,155.9531 458.125,155.9531 L456.7969,155.9531 L456.7969,158.6406 Z M456.7969,163.4219 L458.2969,163.4219 Q459.2031,163.4219 459.7344,163.0313 Q460.2656,162.6406 460.2656,161.8906 Q460.2656,161.125 459.7656,160.6563 Q459.2656,160.1719 458,160.1719 L456.7969,160.1719 L456.7969,163.4219 Z \"/><text fill=\"#000000\" font-family=\"sans-serif\" font-size=\"12\" lengthAdjust=\"spacingAndGlyphs\" textLength=\"8\" x=\"472\" y=\"164.1543\">A</text><line style=\"stroke: #A80036; stroke-width: 1.5;\" x1=\"444\" x2=\"482\" y1=\"176\" y2=\"176\"/></a><!--MD5=[2156ba9850f5573cc1fc38a6a4b2f02b]\n",
       "class E7--><a href=\"psysml:7fb982ae-cae7-41b0-848a-52bb93191ec3\" target=\"_top\" title=\"psysml:7fb982ae-cae7-41b0-848a-52bb93191ec3\" xlink:actuate=\"onRequest\" xlink:href=\"psysml:7fb982ae-cae7-41b0-848a-52bb93191ec3\" xlink:show=\"new\" xlink:title=\"psysml:7fb982ae-cae7-41b0-848a-52bb93191ec3\" xlink:type=\"simple\"><rect fill=\"#FEFECE\" filter=\"url(#f12xh1nrzw1oka)\" height=\"45.9375\" id=\"E7\" rx=\"10\" ry=\"10\" style=\"stroke: #A80036; stroke-width: 1.5;\" width=\"68\" x=\"378\" y=\"247\"/><ellipse cx=\"393\" cy=\"265.9688\" fill=\"#0000FF\" rx=\"11\" ry=\"11\" style=\"stroke: #A80036; stroke-width: 1.0;\"/><path d=\"M389.8125,270.9688 L389.8125,260.375 L393.4219,260.375 Q394.6406,260.375 395.4375,260.8125 Q396.2344,261.2344 396.6094,261.9375 Q397,262.6406 397,263.4844 Q397,264.3281 396.625,265.0156 Q396.2656,265.7031 395.4688,266.125 Q394.6875,266.5313 393.5,266.5313 L391.7656,266.5313 L391.7656,270.9688 L389.8125,270.9688 Z M391.7656,264.9375 L393.375,264.9375 Q394.1875,264.9375 394.6094,264.5313 Q395.0313,264.125 395.0313,263.4844 Q395.0313,262.8594 394.6094,262.4531 Q394.1875,262.0469 393.3906,262.0469 L391.7656,262.0469 L391.7656,264.9375 Z \"/><text fill=\"#000000\" font-family=\"sans-serif\" font-size=\"12\" font-style=\"italic\" lengthAdjust=\"spacingAndGlyphs\" textLength=\"40\" x=\"405\" y=\"263.1387\">«port»</text><text fill=\"#000000\" font-family=\"sans-serif\" font-size=\"12\" lengthAdjust=\"spacingAndGlyphs\" textLength=\"32\" x=\"407\" y=\"277.1074\">p1: P</text><line style=\"stroke: #A80036; stroke-width: 1.5;\" x1=\"379\" x2=\"445\" y1=\"284.9375\" y2=\"284.9375\"/></a><!--MD5=[b9389687b975829384b498ac4b7476b2]\n",
       "class E8--><a href=\"psysml:5c21b9df-62cf-4ee8-9145-76efb13de7e4\" target=\"_top\" title=\"psysml:5c21b9df-62cf-4ee8-9145-76efb13de7e4\" xlink:actuate=\"onRequest\" xlink:href=\"psysml:5c21b9df-62cf-4ee8-9145-76efb13de7e4\" xlink:show=\"new\" xlink:title=\"psysml:5c21b9df-62cf-4ee8-9145-76efb13de7e4\" xlink:type=\"simple\"><rect fill=\"#FEFECE\" filter=\"url(#f12xh1nrzw1oka)\" height=\"45.9375\" id=\"E8\" rx=\"10\" ry=\"10\" style=\"stroke: #A80036; stroke-width: 1.5;\" width=\"68\" x=\"481\" y=\"247\"/><ellipse cx=\"496\" cy=\"265.9688\" fill=\"#0000FF\" rx=\"11\" ry=\"11\" style=\"stroke: #A80036; stroke-width: 1.0;\"/><path d=\"M492.8125,270.9688 L492.8125,260.375 L496.4219,260.375 Q497.6406,260.375 498.4375,260.8125 Q499.2344,261.2344 499.6094,261.9375 Q500,262.6406 500,263.4844 Q500,264.3281 499.625,265.0156 Q499.2656,265.7031 498.4688,266.125 Q497.6875,266.5313 496.5,266.5313 L494.7656,266.5313 L494.7656,270.9688 L492.8125,270.9688 Z M494.7656,264.9375 L496.375,264.9375 Q497.1875,264.9375 497.6094,264.5313 Q498.0313,264.125 498.0313,263.4844 Q498.0313,262.8594 497.6094,262.4531 Q497.1875,262.0469 496.3906,262.0469 L494.7656,262.0469 L494.7656,264.9375 Z \"/><text fill=\"#000000\" font-family=\"sans-serif\" font-size=\"12\" font-style=\"italic\" lengthAdjust=\"spacingAndGlyphs\" textLength=\"40\" x=\"508\" y=\"263.1387\">«port»</text><text fill=\"#000000\" font-family=\"sans-serif\" font-size=\"12\" lengthAdjust=\"spacingAndGlyphs\" textLength=\"16\" x=\"518\" y=\"277.1074\">p2</text><line style=\"stroke: #A80036; stroke-width: 1.5;\" x1=\"482\" x2=\"548\" y1=\"284.9375\" y2=\"284.9375\"/></a><!--MD5=[fd4143e9d270a159db93a4ea2a975926]\n",
       "class E9--><a href=\"psysml:2bbab23f-cc40-4354-88cc-493e0b41ffd4\" target=\"_top\" title=\"psysml:2bbab23f-cc40-4354-88cc-493e0b41ffd4\" xlink:actuate=\"onRequest\" xlink:href=\"psysml:2bbab23f-cc40-4354-88cc-493e0b41ffd4\" xlink:show=\"new\" xlink:title=\"psysml:2bbab23f-cc40-4354-88cc-493e0b41ffd4\" xlink:type=\"simple\"><rect fill=\"#FEFECE\" filter=\"url(#f12xh1nrzw1oka)\" height=\"40\" id=\"E9\" style=\"stroke: #A80036; stroke-width: 1.5;\" width=\"35\" x=\"239.5\" y=\"144\"/><ellipse cx=\"254.5\" cy=\"160\" fill=\"#008000\" rx=\"11\" ry=\"11\" style=\"stroke: #A80036; stroke-width: 1.0;\"/><path d=\"M251.375,165 L251.375,154.4063 L254.6094,154.4063 Q256.5156,154.4063 257.4219,155.1563 Q258.3438,155.9063 258.3438,157.0781 Q258.3438,157.7656 257.9531,158.4219 Q257.5781,159.0781 256.8594,159.375 Q257.7188,159.75 258.2344,160.4375 Q258.75,161.125 258.75,161.9375 Q258.75,163.3125 257.7188,164.1563 Q256.7031,165 254.5938,165 L251.375,165 Z M253.2969,158.6406 L254.4531,158.6406 Q255.5781,158.6406 255.9844,158.2656 Q256.4063,157.875 256.4063,157.25 Q256.4063,156.6719 255.9844,156.3125 Q255.5625,155.9531 254.625,155.9531 L253.2969,155.9531 L253.2969,158.6406 Z M253.2969,163.4219 L254.7969,163.4219 Q255.7031,163.4219 256.2344,163.0313 Q256.7656,162.6406 256.7656,161.8906 Q256.7656,161.125 256.2656,160.6563 Q255.7656,160.1719 254.5,160.1719 L253.2969,160.1719 L253.2969,163.4219 Z \"/><text fill=\"#000000\" font-family=\"sans-serif\" font-size=\"12\" lengthAdjust=\"spacingAndGlyphs\" textLength=\"3\" x=\"268.5\" y=\"164.1543\">I</text><line style=\"stroke: #A80036; stroke-width: 1.5;\" x1=\"240.5\" x2=\"273.5\" y1=\"176\" y2=\"176\"/></a><!--MD5=[96f4274e9e20536e775497830990834d]\n",
       "class E10--><a href=\"psysml:e0785fbe-faad-409c-b39f-62ae49a7d6e0\" target=\"_top\" title=\"psysml:e0785fbe-faad-409c-b39f-62ae49a7d6e0\" xlink:actuate=\"onRequest\" xlink:href=\"psysml:e0785fbe-faad-409c-b39f-62ae49a7d6e0\" xlink:show=\"new\" xlink:title=\"psysml:e0785fbe-faad-409c-b39f-62ae49a7d6e0\" xlink:type=\"simple\"><rect fill=\"#FEFECE\" filter=\"url(#f12xh1nrzw1oka)\" height=\"45.9375\" id=\"E10\" rx=\"10\" ry=\"10\" style=\"stroke: #A80036; stroke-width: 1.5;\" width=\"68\" x=\"172\" y=\"247\"/><ellipse cx=\"187\" cy=\"265.9688\" fill=\"#0000FF\" rx=\"11\" ry=\"11\" style=\"stroke: #A80036; stroke-width: 1.0;\"/><path d=\"M183.8125,270.9688 L183.8125,260.375 L187.4219,260.375 Q188.6406,260.375 189.4375,260.8125 Q190.2344,261.2344 190.6094,261.9375 Q191,262.6406 191,263.4844 Q191,264.3281 190.625,265.0156 Q190.2656,265.7031 189.4688,266.125 Q188.6875,266.5313 187.5,266.5313 L185.7656,266.5313 L185.7656,270.9688 L183.8125,270.9688 Z M185.7656,264.9375 L187.375,264.9375 Q188.1875,264.9375 188.6094,264.5313 Q189.0313,264.125 189.0313,263.4844 Q189.0313,262.8594 188.6094,262.4531 Q188.1875,262.0469 187.3906,262.0469 L185.7656,262.0469 L185.7656,264.9375 Z \"/><text fill=\"#000000\" font-family=\"sans-serif\" font-size=\"12\" font-style=\"italic\" lengthAdjust=\"spacingAndGlyphs\" textLength=\"40\" x=\"199\" y=\"263.1387\">«port»</text><text fill=\"#000000\" font-family=\"sans-serif\" font-size=\"12\" lengthAdjust=\"spacingAndGlyphs\" textLength=\"32\" x=\"201\" y=\"277.1074\">p1: P</text><line style=\"stroke: #A80036; stroke-width: 1.5;\" x1=\"173\" x2=\"239\" y1=\"284.9375\" y2=\"284.9375\"/></a><!--MD5=[1dd1bfd58a279cf63c5f349dbc8fc6a1]\n",
       "class E11--><a href=\"psysml:a18508b4-2f12-4bca-8dd1-291939c34d14\" target=\"_top\" title=\"psysml:a18508b4-2f12-4bca-8dd1-291939c34d14\" xlink:actuate=\"onRequest\" xlink:href=\"psysml:a18508b4-2f12-4bca-8dd1-291939c34d14\" xlink:show=\"new\" xlink:title=\"psysml:a18508b4-2f12-4bca-8dd1-291939c34d14\" xlink:type=\"simple\"><rect fill=\"#FEFECE\" filter=\"url(#f12xh1nrzw1oka)\" height=\"45.9375\" id=\"E11\" rx=\"10\" ry=\"10\" style=\"stroke: #A80036; stroke-width: 1.5;\" width=\"68\" x=\"275\" y=\"247\"/><ellipse cx=\"290\" cy=\"265.9688\" fill=\"#0000FF\" rx=\"11\" ry=\"11\" style=\"stroke: #A80036; stroke-width: 1.0;\"/><path d=\"M286.8125,270.9688 L286.8125,260.375 L290.4219,260.375 Q291.6406,260.375 292.4375,260.8125 Q293.2344,261.2344 293.6094,261.9375 Q294,262.6406 294,263.4844 Q294,264.3281 293.625,265.0156 Q293.2656,265.7031 292.4688,266.125 Q291.6875,266.5313 290.5,266.5313 L288.7656,266.5313 L288.7656,270.9688 L286.8125,270.9688 Z M288.7656,264.9375 L290.375,264.9375 Q291.1875,264.9375 291.6094,264.5313 Q292.0313,264.125 292.0313,263.4844 Q292.0313,262.8594 291.6094,262.4531 Q291.1875,262.0469 290.3906,262.0469 L288.7656,262.0469 L288.7656,264.9375 Z \"/><text fill=\"#000000\" font-family=\"sans-serif\" font-size=\"12\" font-style=\"italic\" lengthAdjust=\"spacingAndGlyphs\" textLength=\"40\" x=\"302\" y=\"263.1387\">«port»</text><text fill=\"#000000\" font-family=\"sans-serif\" font-size=\"12\" lengthAdjust=\"spacingAndGlyphs\" textLength=\"16\" x=\"312\" y=\"277.1074\">p2</text><line style=\"stroke: #A80036; stroke-width: 1.5;\" x1=\"276\" x2=\"342\" y1=\"284.9375\" y2=\"284.9375\"/></a><!--MD5=[49a0ec8f00dab7302a31f22d0f0fe584]\n",
       "class E12--><a href=\"psysml:cd0027e5-9ed9-4216-bffa-1e31fa367fb3\" target=\"_top\" title=\"psysml:cd0027e5-9ed9-4216-bffa-1e31fa367fb3\" xlink:actuate=\"onRequest\" xlink:href=\"psysml:cd0027e5-9ed9-4216-bffa-1e31fa367fb3\" xlink:show=\"new\" xlink:title=\"psysml:cd0027e5-9ed9-4216-bffa-1e31fa367fb3\" xlink:type=\"simple\"><rect fill=\"#FEFECE\" filter=\"url(#f12xh1nrzw1oka)\" height=\"40\" id=\"E12\" style=\"stroke: #A80036; stroke-width: 1.5;\" width=\"48\" x=\"60\" y=\"41\"/><ellipse cx=\"75\" cy=\"57\" fill=\"#008000\" rx=\"11\" ry=\"11\" style=\"stroke: #A80036; stroke-width: 1.0;\"/><path d=\"M71.875,62 L71.875,51.4063 L75.1094,51.4063 Q77.0156,51.4063 77.9219,52.1563 Q78.8438,52.9063 78.8438,54.0781 Q78.8438,54.7656 78.4531,55.4219 Q78.0781,56.0781 77.3594,56.375 Q78.2188,56.75 78.7344,57.4375 Q79.25,58.125 79.25,58.9375 Q79.25,60.3125 78.2188,61.1563 Q77.2031,62 75.0938,62 L71.875,62 Z M73.7969,55.6406 L74.9531,55.6406 Q76.0781,55.6406 76.4844,55.2656 Q76.9063,54.875 76.9063,54.25 Q76.9063,53.6719 76.4844,53.3125 Q76.0625,52.9531 75.125,52.9531 L73.7969,52.9531 L73.7969,55.6406 Z M73.7969,60.4219 L75.2969,60.4219 Q76.2031,60.4219 76.7344,60.0313 Q77.2656,59.6406 77.2656,58.8906 Q77.2656,58.125 76.7656,57.6563 Q76.2656,57.1719 75,57.1719 L73.7969,57.1719 L73.7969,60.4219 Z \"/><text fill=\"#000000\" font-family=\"sans-serif\" font-size=\"12\" lengthAdjust=\"spacingAndGlyphs\" textLength=\"16\" x=\"89\" y=\"61.1543\">B1</text><line style=\"stroke: #A80036; stroke-width: 1.5;\" x1=\"61\" x2=\"107\" y1=\"73\" y2=\"73\"/></a><!--MD5=[ee3c913d1a06f366521f9ef512b67efe]\n",
       "class E13--><a href=\"psysml:3cf8fc76-e05d-49bd-b29f-3b88a47b72de\" target=\"_top\" title=\"psysml:3cf8fc76-e05d-49bd-b29f-3b88a47b72de\" xlink:actuate=\"onRequest\" xlink:href=\"psysml:3cf8fc76-e05d-49bd-b29f-3b88a47b72de\" xlink:show=\"new\" xlink:title=\"psysml:3cf8fc76-e05d-49bd-b29f-3b88a47b72de\" xlink:type=\"simple\"><rect fill=\"#FEFECE\" filter=\"url(#f12xh1nrzw1oka)\" height=\"45.9375\" id=\"E13\" rx=\"10\" ry=\"10\" style=\"stroke: #A80036; stroke-width: 1.5;\" width=\"68\" x=\"50\" y=\"141\"/><ellipse cx=\"65\" cy=\"159.9688\" fill=\"#32CD32\" rx=\"11\" ry=\"11\" style=\"stroke: #A80036; stroke-width: 1.0;\"/><path d=\"M61.8125,164.9688 L61.8125,154.375 L65.4219,154.375 Q66.6406,154.375 67.4375,154.8125 Q68.2344,155.2344 68.6094,155.9375 Q69,156.6406 69,157.4844 Q69,158.3281 68.625,159.0156 Q68.2656,159.7031 67.4688,160.125 Q66.6875,160.5313 65.5,160.5313 L63.7656,160.5313 L63.7656,164.9688 L61.8125,164.9688 Z M63.7656,158.9375 L65.375,158.9375 Q66.1875,158.9375 66.6094,158.5313 Q67.0313,158.125 67.0313,157.4844 Q67.0313,156.8594 66.6094,156.4531 Q66.1875,156.0469 65.3906,156.0469 L63.7656,156.0469 L63.7656,158.9375 Z \"/><text fill=\"#000000\" font-family=\"sans-serif\" font-size=\"12\" font-style=\"italic\" lengthAdjust=\"spacingAndGlyphs\" textLength=\"40\" x=\"77\" y=\"157.1387\">«part»</text><text fill=\"#000000\" font-family=\"sans-serif\" font-size=\"12\" lengthAdjust=\"spacingAndGlyphs\" textLength=\"8\" x=\"91\" y=\"171.1074\">p</text><line style=\"stroke: #A80036; stroke-width: 1.5;\" x1=\"51\" x2=\"117\" y1=\"178.9375\" y2=\"178.9375\"/></a><!--MD5=[bee11217b2f71d958a27249dc326068c]\n",
       "class E14--><a href=\"psysml:6cf362ef-4bb1-44a5-8272-767638a97c43\" target=\"_top\" title=\"psysml:6cf362ef-4bb1-44a5-8272-767638a97c43\" xlink:actuate=\"onRequest\" xlink:href=\"psysml:6cf362ef-4bb1-44a5-8272-767638a97c43\" xlink:show=\"new\" xlink:title=\"psysml:6cf362ef-4bb1-44a5-8272-767638a97c43\" xlink:type=\"simple\"><rect fill=\"#FEFECE\" filter=\"url(#f12xh1nrzw1oka)\" height=\"45.9375\" id=\"E14\" rx=\"10\" ry=\"10\" style=\"stroke: #A80036; stroke-width: 1.5;\" width=\"68\" x=\"69\" y=\"247\"/><ellipse cx=\"84\" cy=\"265.9688\" fill=\"#0000FF\" rx=\"11\" ry=\"11\" style=\"stroke: #A80036; stroke-width: 1.0;\"/><path d=\"M80.8125,270.9688 L80.8125,260.375 L84.4219,260.375 Q85.6406,260.375 86.4375,260.8125 Q87.2344,261.2344 87.6094,261.9375 Q88,262.6406 88,263.4844 Q88,264.3281 87.625,265.0156 Q87.2656,265.7031 86.4688,266.125 Q85.6875,266.5313 84.5,266.5313 L82.7656,266.5313 L82.7656,270.9688 L80.8125,270.9688 Z M82.7656,264.9375 L84.375,264.9375 Q85.1875,264.9375 85.6094,264.5313 Q86.0313,264.125 86.0313,263.4844 Q86.0313,262.8594 85.6094,262.4531 Q85.1875,262.0469 84.3906,262.0469 L82.7656,262.0469 L82.7656,264.9375 Z \"/><text fill=\"#000000\" font-family=\"sans-serif\" font-size=\"12\" font-style=\"italic\" lengthAdjust=\"spacingAndGlyphs\" textLength=\"40\" x=\"96\" y=\"263.1387\">«port»</text><text fill=\"#000000\" font-family=\"sans-serif\" font-size=\"12\" lengthAdjust=\"spacingAndGlyphs\" textLength=\"32\" x=\"98\" y=\"277.1074\">p1: P</text><line style=\"stroke: #A80036; stroke-width: 1.5;\" x1=\"70\" x2=\"136\" y1=\"284.9375\" y2=\"284.9375\"/></a><!--MD5=[0c48fb7552dae8cbbef69381101a84c8]\n",
       "class E15--><a href=\"psysml:33e7cbb5-c462-4d34-9030-b3438d816b29\" target=\"_top\" title=\"psysml:33e7cbb5-c462-4d34-9030-b3438d816b29\" xlink:actuate=\"onRequest\" xlink:href=\"psysml:33e7cbb5-c462-4d34-9030-b3438d816b29\" xlink:show=\"new\" xlink:title=\"psysml:33e7cbb5-c462-4d34-9030-b3438d816b29\" xlink:type=\"simple\"><rect fill=\"#FEFECE\" filter=\"url(#f12xh1nrzw1oka)\" height=\"45.9375\" id=\"E15\" rx=\"10\" ry=\"10\" style=\"stroke: #A80036; stroke-width: 1.5;\" width=\"68\" x=\"69\" y=\"353\"/><ellipse cx=\"84\" cy=\"371.9688\" fill=\"#0000FF\" rx=\"11\" ry=\"11\" style=\"stroke: #A80036; stroke-width: 1.0;\"/><path d=\"M80.8125,376.9688 L80.8125,366.375 L84.4219,366.375 Q85.6406,366.375 86.4375,366.8125 Q87.2344,367.2344 87.6094,367.9375 Q88,368.6406 88,369.4844 Q88,370.3281 87.625,371.0156 Q87.2656,371.7031 86.4688,372.125 Q85.6875,372.5313 84.5,372.5313 L82.7656,372.5313 L82.7656,376.9688 L80.8125,376.9688 Z M82.7656,370.9375 L84.375,370.9375 Q85.1875,370.9375 85.6094,370.5313 Q86.0313,370.125 86.0313,369.4844 Q86.0313,368.8594 85.6094,368.4531 Q85.1875,368.0469 84.3906,368.0469 L82.7656,368.0469 L82.7656,370.9375 Z \"/><text fill=\"#000000\" font-family=\"sans-serif\" font-size=\"12\" font-style=\"italic\" lengthAdjust=\"spacingAndGlyphs\" textLength=\"40\" x=\"96\" y=\"369.1387\">«port»</text><text fill=\"#000000\" font-family=\"sans-serif\" font-size=\"12\" lengthAdjust=\"spacingAndGlyphs\" textLength=\"16\" x=\"106\" y=\"383.1074\">p2</text><line style=\"stroke: #A80036; stroke-width: 1.5;\" x1=\"70\" x2=\"136\" y1=\"390.9375\" y2=\"390.9375\"/></a><!--MD5=[4672eba38e49728da53d11aeb285b987]\n",
       "reverse link E3 to E4--><a href=\"psysml:e09aa0cf-99c0-4ed5-833c-e6cdd9353c0b\" target=\"_top\" title=\"psysml:e09aa0cf-99c0-4ed5-833c-e6cdd9353c0b\" xlink:actuate=\"onRequest\" xlink:href=\"psysml:e09aa0cf-99c0-4ed5-833c-e6cdd9353c0b\" xlink:show=\"new\" xlink:title=\"psysml:e09aa0cf-99c0-4ed5-833c-e6cdd9353c0b\" xlink:type=\"simple\"><path d=\"M653.9,195.8 C645.87,212.18 636.18,231.94 628.89,246.8 \" fill=\"none\" id=\"E3&lt;-E4\" style=\"stroke: #A80036; stroke-width: 1.0;\"/><polygon fill=\"#FFFFFF\" points=\"659.65,184.08,653.4156,187.7038,654.3627,194.8524,660.5971,191.2286,659.65,184.08\" style=\"stroke: #A80036; stroke-width: 1.0;\"/><text fill=\"#000000\" font-family=\"sans-serif\" font-size=\"13\" lengthAdjust=\"spacingAndGlyphs\" textLength=\"8\" x=\"622.6556\" y=\"236.025\">1</text></a><!--MD5=[185131fc0dcab0a4505a2ebe144e961b]\n",
       "link E4 to E2--><a href=\"psysml:d96439d0-54ae-42c8-b560-5f0ede470e61\" target=\"_top\" title=\"psysml:d96439d0-54ae-42c8-b560-5f0ede470e61\" xlink:actuate=\"onRequest\" xlink:href=\"psysml:d96439d0-54ae-42c8-b560-5f0ede470e61\" xlink:show=\"new\" xlink:title=\"psysml:d96439d0-54ae-42c8-b560-5f0ede470e61\" xlink:type=\"simple\"><path d=\"M583.88,286.23 C578.28,288.58 572.5,290.92 567,293 C505.62,316.21 434.41,339.1 383.55,354.77 \" fill=\"none\" id=\"E4-&gt;E2\" style=\"stroke: #A80036; stroke-width: 1.0;\"/><polygon fill=\"#FFFFFF\" points=\"364.1,360.72,380.2154,348.4605,384.3171,361.8462,364.1,360.72\" style=\"stroke: #A80036; stroke-width: 1.0;\"/><ellipse cx=\"386.2512\" cy=\"348.7028\" fill=\"#A80036\" rx=\"2\" ry=\"2\" style=\"stroke: #A80036; stroke-width: 1.0;\"/><ellipse cx=\"389.181\" cy=\"358.264\" fill=\"#A80036\" rx=\"2\" ry=\"2\" style=\"stroke: #A80036; stroke-width: 1.0;\"/></a><!--MD5=[191cde3d490a3f6d7bb551fe3ddca469]\n",
       "reverse link E3 to E5--><a href=\"psysml:880a21a1-46d7-4f3d-9543-241b40e3ab4a\" target=\"_top\" title=\"psysml:880a21a1-46d7-4f3d-9543-241b40e3ab4a\" xlink:actuate=\"onRequest\" xlink:href=\"psysml:880a21a1-46d7-4f3d-9543-241b40e3ab4a\" xlink:show=\"new\" xlink:title=\"psysml:880a21a1-46d7-4f3d-9543-241b40e3ab4a\" xlink:type=\"simple\"><path d=\"M684.4,195.8 C692.59,212.18 702.47,231.94 709.9,246.8 \" fill=\"none\" id=\"E3&lt;-E5\" style=\"stroke: #A80036; stroke-width: 1.0;\"/><polygon fill=\"#FFFFFF\" points=\"678.54,184.08,677.6456,191.2354,683.9066,194.8131,684.801,187.6577,678.54,184.08\" style=\"stroke: #A80036; stroke-width: 1.0;\"/><text fill=\"#000000\" font-family=\"sans-serif\" font-size=\"13\" lengthAdjust=\"spacingAndGlyphs\" textLength=\"8\" x=\"698.0306\" y=\"236.025\">1</text></a><!--MD5=[3f50a3473f1dfb74d3f76443e03635af]\n",
       "reverse link E6 to E7--><a href=\"psysml:98390341-db8e-40b6-aced-fec2311e0a9d\" target=\"_top\" title=\"psysml:98390341-db8e-40b6-aced-fec2311e0a9d\" xlink:actuate=\"onRequest\" xlink:href=\"psysml:98390341-db8e-40b6-aced-fec2311e0a9d\" xlink:show=\"new\" xlink:title=\"psysml:98390341-db8e-40b6-aced-fec2311e0a9d\" xlink:type=\"simple\"><path d=\"M447.9,195.8 C439.87,212.18 430.18,231.94 422.89,246.8 \" fill=\"none\" id=\"E6&lt;-E7\" style=\"stroke: #A80036; stroke-width: 1.0;\"/><polygon fill=\"#FFFFFF\" points=\"453.65,184.08,447.4156,187.7038,448.3627,194.8524,454.5971,191.2286,453.65,184.08\" style=\"stroke: #A80036; stroke-width: 1.0;\"/><text fill=\"#000000\" font-family=\"sans-serif\" font-size=\"13\" lengthAdjust=\"spacingAndGlyphs\" textLength=\"8\" x=\"416.6556\" y=\"236.025\">1</text></a><!--MD5=[583832df87f4419a098336a29a52fa00]\n",
       "link E7 to E2--><a href=\"psysml:6f9217eb-859f-4957-bc31-6c1306f83367\" target=\"_top\" title=\"psysml:6f9217eb-859f-4957-bc31-6c1306f83367\" xlink:actuate=\"onRequest\" xlink:href=\"psysml:6f9217eb-859f-4957-bc31-6c1306f83367\" xlink:show=\"new\" xlink:title=\"psysml:6f9217eb-859f-4957-bc31-6c1306f83367\" xlink:type=\"simple\"><path d=\"M391.64,293.06 C379.55,306.15 363.91,323.1 349.99,338.18 \" fill=\"none\" id=\"E7-&gt;E2\" style=\"stroke: #A80036; stroke-width: 1.0;\"/><polygon fill=\"#FFFFFF\" points=\"336.33,352.98,344.0752,334.2714,354.3617,343.7682,336.33,352.98\" style=\"stroke: #A80036; stroke-width: 1.0;\"/><ellipse cx=\"349.4112\" cy=\"331.44\" fill=\"#A80036\" rx=\"2\" ry=\"2\" style=\"stroke: #A80036; stroke-width: 1.0;\"/><ellipse cx=\"356.7587\" cy=\"338.2234\" fill=\"#A80036\" rx=\"2\" ry=\"2\" style=\"stroke: #A80036; stroke-width: 1.0;\"/></a><!--MD5=[f4cf0736d43fd73c4ef68817c49d37d5]\n",
       "reverse link E6 to E8--><a href=\"psysml:15a7c7be-761e-4e1c-a126-babbedfba5ca\" target=\"_top\" title=\"psysml:15a7c7be-761e-4e1c-a126-babbedfba5ca\" xlink:actuate=\"onRequest\" xlink:href=\"psysml:15a7c7be-761e-4e1c-a126-babbedfba5ca\" xlink:show=\"new\" xlink:title=\"psysml:15a7c7be-761e-4e1c-a126-babbedfba5ca\" xlink:type=\"simple\"><path d=\"M478.4,195.8 C486.59,212.18 496.47,231.94 503.9,246.8 \" fill=\"none\" id=\"E6&lt;-E8\" style=\"stroke: #A80036; stroke-width: 1.0;\"/><polygon fill=\"#FFFFFF\" points=\"472.54,184.08,471.6456,191.2354,477.9066,194.8131,478.801,187.6577,472.54,184.08\" style=\"stroke: #A80036; stroke-width: 1.0;\"/><text fill=\"#000000\" font-family=\"sans-serif\" font-size=\"13\" lengthAdjust=\"spacingAndGlyphs\" textLength=\"8\" x=\"492.0306\" y=\"236.025\">1</text></a><!--MD5=[23ac544a70576c3e717098101004234c]\n",
       "reverse link E9 to E10--><a href=\"psysml:a15de342-1742-4b99-9b86-ed8c6fb30ab8\" target=\"_top\" title=\"psysml:a15de342-1742-4b99-9b86-ed8c6fb30ab8\" xlink:actuate=\"onRequest\" xlink:href=\"psysml:a15de342-1742-4b99-9b86-ed8c6fb30ab8\" xlink:show=\"new\" xlink:title=\"psysml:a15de342-1742-4b99-9b86-ed8c6fb30ab8\" xlink:type=\"simple\"><path d=\"M241.9,195.8 C233.87,212.18 224.18,231.94 216.89,246.8 \" fill=\"none\" id=\"E9&lt;-E10\" style=\"stroke: #A80036; stroke-width: 1.0;\"/><polygon fill=\"#FFFFFF\" points=\"247.65,184.08,241.4156,187.7038,242.3627,194.8524,248.5971,191.2286,247.65,184.08\" style=\"stroke: #A80036; stroke-width: 1.0;\"/><text fill=\"#000000\" font-family=\"sans-serif\" font-size=\"13\" lengthAdjust=\"spacingAndGlyphs\" textLength=\"8\" x=\"210.6556\" y=\"236.025\">1</text></a><!--MD5=[0f36bececdf0dff6e600d6f64214b0f1]\n",
       "link E10 to E2--><a href=\"psysml:81b1dfc1-849b-47a4-a859-9ae7a728ef15\" target=\"_top\" title=\"psysml:81b1dfc1-849b-47a4-a859-9ae7a728ef15\" xlink:actuate=\"onRequest\" xlink:href=\"psysml:81b1dfc1-849b-47a4-a859-9ae7a728ef15\" xlink:show=\"new\" xlink:title=\"psysml:81b1dfc1-849b-47a4-a859-9ae7a728ef15\" xlink:type=\"simple\"><path d=\"M229.33,293.06 C243.47,306.43 261.86,323.81 278.06,339.13 \" fill=\"none\" id=\"E10-&gt;E2\" style=\"stroke: #A80036; stroke-width: 1.0;\"/><polygon fill=\"#FFFFFF\" points=\"292.71,352.98,274.0966,345.0087,283.7172,334.838,292.71,352.98\" style=\"stroke: #A80036; stroke-width: 1.0;\"/><ellipse cx=\"271.33\" cy=\"339.6388\" fill=\"#A80036\" rx=\"2\" ry=\"2\" style=\"stroke: #A80036; stroke-width: 1.0;\"/><ellipse cx=\"278.2019\" cy=\"332.374\" fill=\"#A80036\" rx=\"2\" ry=\"2\" style=\"stroke: #A80036; stroke-width: 1.0;\"/></a><!--MD5=[1fc04a95fd77ad5ce46c1a3027516051]\n",
       "reverse link E9 to E11--><a href=\"psysml:fe2242fc-88cc-4430-bc2f-98e79ba2cc70\" target=\"_top\" title=\"psysml:fe2242fc-88cc-4430-bc2f-98e79ba2cc70\" xlink:actuate=\"onRequest\" xlink:href=\"psysml:fe2242fc-88cc-4430-bc2f-98e79ba2cc70\" xlink:show=\"new\" xlink:title=\"psysml:fe2242fc-88cc-4430-bc2f-98e79ba2cc70\" xlink:type=\"simple\"><path d=\"M272.4,195.8 C280.59,212.18 290.47,231.94 297.9,246.8 \" fill=\"none\" id=\"E9&lt;-E11\" style=\"stroke: #A80036; stroke-width: 1.0;\"/><polygon fill=\"#FFFFFF\" points=\"266.54,184.08,265.6456,191.2354,271.9066,194.8131,272.801,187.6577,266.54,184.08\" style=\"stroke: #A80036; stroke-width: 1.0;\"/><text fill=\"#000000\" font-family=\"sans-serif\" font-size=\"13\" lengthAdjust=\"spacingAndGlyphs\" textLength=\"8\" x=\"286.0306\" y=\"236.025\">1</text></a><!--MD5=[062ed86c389d1a88f61c6380d0491e17]\n",
       "reverse link E12 to E13--><a href=\"psysml:0c56cab0-046e-4827-a921-af226384c943\" target=\"_top\" title=\"psysml:0c56cab0-046e-4827-a921-af226384c943\" xlink:actuate=\"onRequest\" xlink:href=\"psysml:0c56cab0-046e-4827-a921-af226384c943\" xlink:show=\"new\" xlink:title=\"psysml:0c56cab0-046e-4827-a921-af226384c943\" xlink:type=\"simple\"><path d=\"M84,94.47 C84,109.59 84,127.2 84,140.77 \" fill=\"none\" id=\"E12&lt;-E13\" style=\"stroke: #A80036; stroke-width: 1.0;\"/><polygon fill=\"#FFFFFF\" points=\"84,81.47,80,87.47,84,93.47,88,87.47,84,81.47\" style=\"stroke: #A80036; stroke-width: 1.0;\"/><text fill=\"#000000\" font-family=\"sans-serif\" font-size=\"13\" lengthAdjust=\"spacingAndGlyphs\" textLength=\"8\" x=\"74.975\" y=\"129.9874\">1</text></a><!--MD5=[01db00f33b28669d6d9febea71002831]\n",
       "reverse link E13 to E14--><a href=\"psysml:12334834-5f3e-4b20-9f0b-aad671391bfa\" target=\"_top\" title=\"psysml:12334834-5f3e-4b20-9f0b-aad671391bfa\" xlink:actuate=\"onRequest\" xlink:href=\"psysml:12334834-5f3e-4b20-9f0b-aad671391bfa\" xlink:show=\"new\" xlink:title=\"psysml:12334834-5f3e-4b20-9f0b-aad671391bfa\" xlink:type=\"simple\"><path d=\"M90.39,199.96 C93.23,215.51 96.48,233.33 98.98,246.98 \" fill=\"none\" id=\"E13&lt;-E14\" style=\"stroke: #A80036; stroke-width: 1.0;\"/><polygon fill=\"#FFFFFF\" points=\"88.03,187.06,85.1698,193.6796,90.1801,198.8658,93.0403,192.2462,88.03,187.06\" style=\"stroke: #A80036; stroke-width: 1.0;\"/><text fill=\"#000000\" font-family=\"sans-serif\" font-size=\"13\" lengthAdjust=\"spacingAndGlyphs\" textLength=\"8\" x=\"88.8246\" y=\"235.8709\">1</text></a><!--MD5=[e5566ac99d7714697a7fbc17f6b550fe]\n",
       "link E14 to E2--><a href=\"psysml:f15866fc-26c5-4fac-ba02-f8f796eed5e8\" target=\"_top\" title=\"psysml:f15866fc-26c5-4fac-ba02-f8f796eed5e8\" xlink:actuate=\"onRequest\" xlink:href=\"psysml:f15866fc-26c5-4fac-ba02-f8f796eed5e8\" xlink:show=\"new\" xlink:title=\"psysml:f15866fc-26c5-4fac-ba02-f8f796eed5e8\" xlink:type=\"simple\"><path d=\"M137.22,287.71 C168.28,302.87 214.86,325.62 252.69,344.09 \" fill=\"none\" id=\"E14-&gt;E2\" style=\"stroke: #A80036; stroke-width: 1.0;\"/><polygon fill=\"#FFFFFF\" points=\"270.72,352.89,250.5749,350.8469,256.7156,338.2655,270.72,352.89\" style=\"stroke: #A80036; stroke-width: 1.0;\"/><ellipse cx=\"246.3297\" cy=\"346.5494\" fill=\"#A80036\" rx=\"2\" ry=\"2\" style=\"stroke: #A80036; stroke-width: 1.0;\"/><ellipse cx=\"250.7159\" cy=\"337.5627\" fill=\"#A80036\" rx=\"2\" ry=\"2\" style=\"stroke: #A80036; stroke-width: 1.0;\"/></a><!--MD5=[e9a5e828c71fd2209a11a152f562d491]\n",
       "reverse link E13 to E15--><a href=\"psysml:ce878baa-f80f-4009-adda-6088e19c872e\" target=\"_top\" title=\"psysml:ce878baa-f80f-4009-adda-6088e19c872e\" xlink:actuate=\"onRequest\" xlink:href=\"psysml:ce878baa-f80f-4009-adda-6088e19c872e\" xlink:show=\"new\" xlink:title=\"psysml:ce878baa-f80f-4009-adda-6088e19c872e\" xlink:type=\"simple\"><path d=\"M65.17,199.1 C53.3,224.98 41.82,261.37 51,293 C57.44,315.18 71.88,337.1 83.91,352.69 \" fill=\"none\" id=\"E13&lt;-E15\" style=\"stroke: #A80036; stroke-width: 1.0;\"/><polygon fill=\"#FFFFFF\" points=\"70.93,187.31,64.7009,190.9429,65.6585,198.0902,71.8876,194.4572,70.93,187.31\" style=\"stroke: #A80036; stroke-width: 1.0;\"/><text fill=\"#000000\" font-family=\"sans-serif\" font-size=\"13\" lengthAdjust=\"spacingAndGlyphs\" textLength=\"8\" x=\"69.9932\" y=\"341.8869\">1</text></a><!--MD5=[3afbdc645381407e1bc99677323a2513]\n",
       "link E14 to E15--><a href=\"psysml:1f31a0eb-24e7-4abd-8eab-15c525015988\" target=\"_top\" title=\"psysml:1f31a0eb-24e7-4abd-8eab-15c525015988\" xlink:actuate=\"onRequest\" xlink:href=\"psysml:1f31a0eb-24e7-4abd-8eab-15c525015988\" xlink:show=\"new\" xlink:title=\"psysml:1f31a0eb-24e7-4abd-8eab-15c525015988\" xlink:type=\"simple\"><path d=\"M92.35,293.06 C89.55,310.7 89.55,335.34 92.36,352.98 \" fill=\"none\" id=\"E14-E15\" style=\"stroke: #A80036; stroke-width: 3.0;\"/></a><!--MD5=[3afbdc645381407e1bc99677323a2513]\n",
       "link E14 to E15--><a href=\"psysml:c2fd36d5-55a7-4367-ae55-c3f656adabca\" target=\"_top\" title=\"psysml:c2fd36d5-55a7-4367-ae55-c3f656adabca\" xlink:actuate=\"onRequest\" xlink:href=\"psysml:c2fd36d5-55a7-4367-ae55-c3f656adabca\" xlink:show=\"new\" xlink:title=\"psysml:c2fd36d5-55a7-4367-ae55-c3f656adabca\" xlink:type=\"simple\"><path d=\"M114.27,293.06 C117.24,310.7 117.24,335.34 114.27,352.98 \" fill=\"none\" id=\"E14-E15-1\" style=\"stroke: #A80036; stroke-width: 3.0;\"/></a><!--MD5=[0956b968b2325195e3ebb9813e517712]\n",
       "@startuml\r\n",
       " \r\n",
       "package \"ConjugationTest\" as E1  [[psysml:4e179b45-ef84-478c-a2da-b16af7c43fe7 ]]  {\r\n",
       "comp def \"P\" as E2 << <<(D,brown) port  def>> [[psysml:859d5a2d-b524-488b-9af4-e0f987adcacf ]] {\r\n",
       "}\r\n",
       "comp def \"B\" as E3 << << (B,green) >> [[psysml:615e73ac-8544-4e42-b424-8a4747867d0e ]] {\r\n",
       "}\r\n",
       "comp usage \"p1: P \" as E4 << << (P,blue) port>> [[psysml:37d2c32c-e4e6-4c0b-af75-96cd6556dd4d ]] {\r\n",
       "}\r\n",
       "comp usage \"p2 \" as E5 << << (P,blue) port>> [[psysml:a7d82e4a-e12d-4520-9ae6-c89754eb7506 ]] {\r\n",
       "}\r\n",
       "comp def \"A\" as E6 << << (B,green) >> [[psysml:5cdadcae-4d33-45cc-84a1-e26eca79ba4d ]] {\r\n",
       "}\r\n",
       "comp usage \"p1: P \" as E7 << << (P,blue) port>> [[psysml:7fb982ae-cae7-41b0-848a-52bb93191ec3 ]] {\r\n",
       "}\r\n",
       "comp usage \"p2 \" as E8 << << (P,blue) port>> [[psysml:5c21b9df-62cf-4ee8-9145-76efb13de7e4 ]] {\r\n",
       "}\r\n",
       "comp def \"I\" as E9 << << (B,green) >> [[psysml:2bbab23f-cc40-4354-88cc-493e0b41ffd4 ]] {\r\n",
       "}\r\n",
       "comp usage \"p1: P \" as E10 << << (P,blue) port>> [[psysml:e0785fbe-faad-409c-b39f-62ae49a7d6e0 ]] {\r\n",
       "}\r\n",
       "comp usage \"p2 \" as E11 << << (P,blue) port>> [[psysml:a18508b4-2f12-4bca-8dd1-291939c34d14 ]] {\r\n",
       "}\r\n",
       "comp def \"B1\" as E12 << << (B,green) >> [[psysml:cd0027e5-9ed9-4216-bffa-1e31fa367fb3 ]] {\r\n",
       "}\r\n",
       "comp usage \"p \" as E13 << << (P,limegreen) part>> [[psysml:3cf8fc76-e05d-49bd-b29f-3b88a47b72de ]] {\r\n",
       "}\r\n",
       "comp usage \"p1: P \" as E14 << << (P,blue) port>> [[psysml:6cf362ef-4bb1-44a5-8272-767638a97c43 ]] {\r\n",
       "}\r\n",
       "comp usage \"p2 \" as E15 << << (P,blue) port>> [[psysml:33e7cbb5-c462-4d34-9030-b3438d816b29 ]] {\r\n",
       "}\r\n",
       "}\r\n",
       "E3 o- - \"1\"E4 [[psysml:e09aa0cf-99c0-4ed5-833c-e6cdd9353c0b ]] \r\n",
       "E4 - -:|> E2 [[psysml:d96439d0-54ae-42c8-b560-5f0ede470e61 ]] \r\n",
       "E3 o- - \"1\"E5 [[psysml:880a21a1-46d7-4f3d-9543-241b40e3ab4a ]] \r\n",
       "E6 o- - \"1\"E7 [[psysml:98390341-db8e-40b6-aced-fec2311e0a9d ]] \r\n",
       "E7 - -:|> E2 [[psysml:6f9217eb-859f-4957-bc31-6c1306f83367 ]] \r\n",
       "E6 o- - \"1\"E8 [[psysml:15a7c7be-761e-4e1c-a126-babbedfba5ca ]] \r\n",
       "E9 o- - \"1\"E10 [[psysml:a15de342-1742-4b99-9b86-ed8c6fb30ab8 ]] \r\n",
       "E10 - -:|> E2 [[psysml:81b1dfc1-849b-47a4-a859-9ae7a728ef15 ]] \r\n",
       "E9 o- - \"1\"E11 [[psysml:fe2242fc-88cc-4430-bc2f-98e79ba2cc70 ]] \r\n",
       "E12 o- - \"1\"E13 [[psysml:0c56cab0-046e-4827-a921-af226384c943 ]] \r\n",
       "E13 o- - \"1\"E14 [[psysml:12334834-5f3e-4b20-9f0b-aad671391bfa ]] \r\n",
       "E14 - -:|> E2 [[psysml:f15866fc-26c5-4fac-ba02-f8f796eed5e8 ]] \r\n",
       "E13 o- - \"1\"E15 [[psysml:ce878baa-f80f-4009-adda-6088e19c872e ]] \r\n",
       "E14 -[thickness=3]- E15 [[psysml:1f31a0eb-24e7-4abd-8eab-15c525015988 ]] \r\n",
       "E14 -[thickness=3]- E15 [[psysml:c2fd36d5-55a7-4367-ae55-c3f656adabca ]] \r\n",
       "@enduml\r\n",
       "\n",
       "PlantUML version 1.2020.13(Sat Jun 13 12:26:38 UTC 2020)\n",
       "(EPL source distribution)\n",
       "Java Runtime: OpenJDK Runtime Environment\n",
       "JVM: OpenJDK 64-Bit Server VM\n",
       "Default Encoding: UTF-8\n",
       "Language: en\n",
       "Country: null\n",
       "--></g></svg>"
      ]
     },
     "execution_count": 31,
     "metadata": {},
     "output_type": "execute_result"
    }
   ],
   "source": [
    "%viz --style=\"PLANTUML\" --view=\"Tree\" \"ConjugationTest\""
   ]
  },
  {
   "cell_type": "code",
   "execution_count": 32,
   "id": "d8bbcc10",
   "metadata": {
    "execution": {
     "iopub.execute_input": "2022-08-19T08:18:14.105298Z",
     "iopub.status.busy": "2022-08-19T08:18:14.104847Z",
     "iopub.status.idle": "2022-08-19T08:18:14.189900Z",
     "shell.execute_reply": "2022-08-19T08:18:14.188620Z"
    }
   },
   "outputs": [
    {
     "data": {
      "image/svg+xml": [
       "<?xml version=\"1.0\" encoding=\"UTF-8\" standalone=\"no\"?><svg xmlns=\"http://www.w3.org/2000/svg\" xmlns:xlink=\"http://www.w3.org/1999/xlink\" contentScriptType=\"application/ecmascript\" contentStyleType=\"text/css\" height=\"300px\" preserveAspectRatio=\"none\" style=\"width:603px;height:300px;background:#000000;\" version=\"1.1\" viewBox=\"0 0 603 300\" width=\"603px\" zoomAndPan=\"magnify\"><defs/><g><rect fill=\"#1B2221\" height=\"1\" style=\"stroke: #1B2221; stroke-width: 1.0;\" width=\"1\" x=\"0\" y=\"0\"/><rect fill=\"#FFFFFF\" height=\"202.8012\" style=\"stroke: #FFFFFF; stroke-width: 1.0;\" width=\"602\" x=\"0\" y=\"0\"/><text fill=\"#000000\" font-family=\"sans-serif\" font-size=\"12\" font-weight=\"bold\" lengthAdjust=\"spacingAndGlyphs\" textLength=\"139\" x=\"5\" y=\"16.1387\">Welcome to PlantUML!</text><text fill=\"#000000\" font-family=\"sans-serif\" font-size=\"12\" lengthAdjust=\"spacingAndGlyphs\" textLength=\"0\" x=\"9\" y=\"30.1074\"/><text fill=\"#000000\" font-family=\"sans-serif\" font-size=\"12\" lengthAdjust=\"spacingAndGlyphs\" textLength=\"293\" x=\"5\" y=\"44.0762\">If you use this software, you accept its license.</text><text fill=\"#000000\" font-family=\"sans-serif\" font-size=\"12\" lengthAdjust=\"spacingAndGlyphs\" textLength=\"107\" x=\"5\" y=\"58.0449\">(details by typing</text><text fill=\"#000000\" font-family=\"monospace\" font-size=\"12\" lengthAdjust=\"spacingAndGlyphs\" textLength=\"42\" x=\"116\" y=\"58.595\">license</text><text fill=\"#000000\" font-family=\"sans-serif\" font-size=\"12\" lengthAdjust=\"spacingAndGlyphs\" textLength=\"56\" x=\"162\" y=\"58.0449\">keyword)</text><text fill=\"#000000\" font-family=\"sans-serif\" font-size=\"12\" lengthAdjust=\"spacingAndGlyphs\" textLength=\"0\" x=\"9\" y=\"72.0137\"/><text fill=\"#000000\" font-family=\"sans-serif\" font-size=\"12\" lengthAdjust=\"spacingAndGlyphs\" textLength=\"283\" x=\"5\" y=\"85.9824\">You can start with a simple UML Diagram like:</text><text fill=\"#000000\" font-family=\"sans-serif\" font-size=\"12\" lengthAdjust=\"spacingAndGlyphs\" textLength=\"0\" x=\"9\" y=\"99.9512\"/><text fill=\"#000000\" font-family=\"monospace\" font-size=\"12\" lengthAdjust=\"spacingAndGlyphs\" textLength=\"102\" x=\"5\" y=\"113.0893\">Bob-&gt;Alice: Hello</text><text fill=\"#000000\" font-family=\"sans-serif\" font-size=\"12\" lengthAdjust=\"spacingAndGlyphs\" textLength=\"0\" x=\"9\" y=\"126.508\"/><text fill=\"#000000\" font-family=\"sans-serif\" font-size=\"12\" lengthAdjust=\"spacingAndGlyphs\" textLength=\"14\" x=\"5\" y=\"140.4768\">Or</text><text fill=\"#000000\" font-family=\"sans-serif\" font-size=\"12\" lengthAdjust=\"spacingAndGlyphs\" textLength=\"0\" x=\"9\" y=\"154.4455\"/><text fill=\"#000000\" font-family=\"monospace\" font-size=\"12\" lengthAdjust=\"spacingAndGlyphs\" textLength=\"78\" x=\"5\" y=\"167.5837\">class Example</text><text fill=\"#000000\" font-family=\"sans-serif\" font-size=\"12\" lengthAdjust=\"spacingAndGlyphs\" textLength=\"0\" x=\"9\" y=\"181.0023\"/><text fill=\"#000000\" font-family=\"sans-serif\" font-size=\"12\" lengthAdjust=\"spacingAndGlyphs\" textLength=\"349\" x=\"5\" y=\"194.9711\">You will find more information about PlantUML syntax on</text><text fill=\"#000000\" font-family=\"sans-serif\" font-size=\"12\" lengthAdjust=\"spacingAndGlyphs\" text-decoration=\"underline\" textLength=\"129\" x=\"358\" y=\"194.9711\">https://plantuml.com</text><image height=\"71\" width=\"80\" x=\"516\" xlink:href=\"data:image/png;base64,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\" y=\"6\"/><rect fill=\"#000000\" height=\"96.4844\" style=\"stroke: #000000; stroke-width: 1.0;\" width=\"602\" x=\"0\" y=\"202.8012\"/><rect fill=\"#33FF02\" height=\"21.2969\" style=\"stroke: #33FF02; stroke-width: 1.0;\" width=\"145\" x=\"5\" y=\"207.8012\"/><text fill=\"#000000\" font-family=\"sans-serif\" font-size=\"14\" font-weight=\"bold\" lengthAdjust=\"spacingAndGlyphs\" textLength=\"143\" x=\"6\" y=\"222.8012\">[From string (line 2) ]</text><text fill=\"#33FF02\" font-family=\"sans-serif\" font-size=\"14\" font-weight=\"bold\" lengthAdjust=\"spacingAndGlyphs\" textLength=\"0\" x=\"9\" y=\"243.0981\"/><text fill=\"#33FF02\" font-family=\"sans-serif\" font-size=\"14\" font-weight=\"bold\" lengthAdjust=\"spacingAndGlyphs\" textLength=\"70\" x=\"5\" y=\"259.3949\">@startuml</text><text fill=\"#33FF02\" font-family=\"sans-serif\" font-size=\"14\" font-weight=\"bold\" lengthAdjust=\"spacingAndGlyphs\" textLength=\"0\" x=\"9\" y=\"275.6918\"/><text fill=\"#FF0000\" font-family=\"sans-serif\" font-size=\"14\" font-weight=\"bold\" lengthAdjust=\"spacingAndGlyphs\" textLength=\"124\" x=\"9\" y=\"291.9887\">Empty description</text><!--MD5=[f59edd8218d337f74d0c332fc6737304]\n",
       "@startuml\r\n",
       " \r\n",
       "@enduml\r\n",
       "\n",
       "PlantUML version 1.2020.13(Sat Jun 13 12:26:38 UTC 2020)\n",
       "(EPL source distribution)\n",
       "Java Runtime: OpenJDK Runtime Environment\n",
       "JVM: OpenJDK 64-Bit Server VM\n",
       "Default Encoding: UTF-8\n",
       "Language: en\n",
       "Country: null\n",
       "--></g></svg>"
      ]
     },
     "execution_count": 32,
     "metadata": {},
     "output_type": "execute_result"
    }
   ],
   "source": [
    "%viz --style=\"PLANTUML\" --view=\"State\" \"ConjugationTest\""
   ]
  },
  {
   "cell_type": "code",
   "execution_count": 33,
   "id": "b6b20e76",
   "metadata": {
    "execution": {
     "iopub.execute_input": "2022-08-19T08:18:14.240249Z",
     "iopub.status.busy": "2022-08-19T08:18:14.239602Z",
     "iopub.status.idle": "2022-08-19T08:18:14.271418Z",
     "shell.execute_reply": "2022-08-19T08:18:14.269904Z"
    }
   },
   "outputs": [
    {
     "data": {
      "image/svg+xml": [
       "<?xml version=\"1.0\" encoding=\"UTF-8\" standalone=\"no\"?><svg xmlns=\"http://www.w3.org/2000/svg\" xmlns:xlink=\"http://www.w3.org/1999/xlink\" contentScriptType=\"application/ecmascript\" contentStyleType=\"text/css\" height=\"267px\" preserveAspectRatio=\"none\" style=\"width:586px;height:267px;\" version=\"1.1\" viewBox=\"0 0 586 267\" width=\"586px\" zoomAndPan=\"magnify\"><defs><filter height=\"300%\" id=\"f1ct9l14ohuonn\" width=\"300%\" x=\"-1\" y=\"-1\"><feGaussianBlur result=\"blurOut\" stdDeviation=\"2.0\"/><feColorMatrix in=\"blurOut\" result=\"blurOut2\" type=\"matrix\" values=\"0 0 0 0 0 0 0 0 0 0 0 0 0 0 0 0 0 0 .4 0\"/><feOffset dx=\"4.0\" dy=\"4.0\" in=\"blurOut2\" result=\"blurOut3\"/><feBlend in=\"SourceGraphic\" in2=\"blurOut3\" mode=\"normal\"/></filter></defs><g><!--MD5=[fbc87193dbaf4d95561dea2c320d4a47]\n",
       "cluster E1--><a href=\"psysml:4e179b45-ef84-478c-a2da-b16af7c43fe7\" target=\"_top\" title=\"psysml:4e179b45-ef84-478c-a2da-b16af7c43fe7\" xlink:actuate=\"onRequest\" xlink:href=\"psysml:4e179b45-ef84-478c-a2da-b16af7c43fe7\" xlink:show=\"new\" xlink:title=\"psysml:4e179b45-ef84-478c-a2da-b16af7c43fe7\" xlink:type=\"simple\"><polygon fill=\"#FFFFFF\" filter=\"url(#f1ct9l14ohuonn)\" points=\"16,6,136,6,143,28.2969,564,28.2969,564,255.36,16,255.36,16,6\" style=\"stroke: #000000; stroke-width: 1.5;\"/><line style=\"stroke: #000000; stroke-width: 1.5;\" x1=\"16\" x2=\"143\" y1=\"28.2969\" y2=\"28.2969\"/><text fill=\"#000000\" font-family=\"sans-serif\" font-size=\"14\" font-weight=\"bold\" lengthAdjust=\"spacingAndGlyphs\" textLength=\"114\" x=\"20\" y=\"20.9951\">ConjugationTest</text></a><!--MD5=[d5e69f78d87373223dbae638b30a9c99]\n",
       "cluster E3--><a href=\"psysml:615e73ac-8544-4e42-b424-8a4747867d0e\" target=\"_top\" title=\"psysml:615e73ac-8544-4e42-b424-8a4747867d0e\" xlink:actuate=\"onRequest\" xlink:href=\"psysml:615e73ac-8544-4e42-b424-8a4747867d0e\" xlink:show=\"new\" xlink:title=\"psysml:615e73ac-8544-4e42-b424-8a4747867d0e\" xlink:type=\"simple\"><rect fill=\"#FFFFFF\" filter=\"url(#f1ct9l14ohuonn)\" height=\"72.5\" id=\"E3\" style=\"stroke: #A80036; stroke-width: 1.5;\" width=\"83\" x=\"469\" y=\"98\"/><rect fill=\"#FEFECE\" height=\"23.9688\" style=\"stroke: #A80036; stroke-width: 1.5;\" width=\"83\" x=\"469\" y=\"98\"/><text fill=\"#000000\" font-family=\"sans-serif\" font-size=\"12\" lengthAdjust=\"spacingAndGlyphs\" textLength=\"8\" x=\"506.5\" y=\"114.1387\">B</text></a><!--MD5=[14e3b0961a2654348d326746436168a1]\n",
       "cluster E6--><a href=\"psysml:5cdadcae-4d33-45cc-84a1-e26eca79ba4d\" target=\"_top\" title=\"psysml:5cdadcae-4d33-45cc-84a1-e26eca79ba4d\" xlink:actuate=\"onRequest\" xlink:href=\"psysml:5cdadcae-4d33-45cc-84a1-e26eca79ba4d\" xlink:show=\"new\" xlink:title=\"psysml:5cdadcae-4d33-45cc-84a1-e26eca79ba4d\" xlink:type=\"simple\"><rect fill=\"#FFFFFF\" filter=\"url(#f1ct9l14ohuonn)\" height=\"72.5\" id=\"E6\" style=\"stroke: #A80036; stroke-width: 1.5;\" width=\"83\" x=\"375\" y=\"98\"/><rect fill=\"#FEFECE\" height=\"23.9688\" style=\"stroke: #A80036; stroke-width: 1.5;\" width=\"83\" x=\"375\" y=\"98\"/><text fill=\"#000000\" font-family=\"sans-serif\" font-size=\"12\" lengthAdjust=\"spacingAndGlyphs\" textLength=\"8\" x=\"412.5\" y=\"114.1387\">A</text></a><!--MD5=[7f149f147074ac12df2cb0a7728a5fb0]\n",
       "cluster E9--><a href=\"psysml:2bbab23f-cc40-4354-88cc-493e0b41ffd4\" target=\"_top\" title=\"psysml:2bbab23f-cc40-4354-88cc-493e0b41ffd4\" xlink:actuate=\"onRequest\" xlink:href=\"psysml:2bbab23f-cc40-4354-88cc-493e0b41ffd4\" xlink:show=\"new\" xlink:title=\"psysml:2bbab23f-cc40-4354-88cc-493e0b41ffd4\" xlink:type=\"simple\"><rect fill=\"#FFFFFF\" filter=\"url(#f1ct9l14ohuonn)\" height=\"72.5\" id=\"E9\" style=\"stroke: #A80036; stroke-width: 1.5;\" width=\"83\" x=\"281\" y=\"98\"/><rect fill=\"#FEFECE\" height=\"23.9688\" style=\"stroke: #A80036; stroke-width: 1.5;\" width=\"83\" x=\"281\" y=\"98\"/><text fill=\"#000000\" font-family=\"sans-serif\" font-size=\"12\" lengthAdjust=\"spacingAndGlyphs\" textLength=\"3\" x=\"321\" y=\"114.1387\">I</text></a><!--MD5=[47bea60c1a0ac6c1143df232041969c0]\n",
       "cluster E12--><a href=\"psysml:cd0027e5-9ed9-4216-bffa-1e31fa367fb3\" target=\"_top\" title=\"psysml:cd0027e5-9ed9-4216-bffa-1e31fa367fb3\" xlink:actuate=\"onRequest\" xlink:href=\"psysml:cd0027e5-9ed9-4216-bffa-1e31fa367fb3\" xlink:show=\"new\" xlink:title=\"psysml:cd0027e5-9ed9-4216-bffa-1e31fa367fb3\" xlink:type=\"simple\"><rect fill=\"#FFFFFF\" filter=\"url(#f1ct9l14ohuonn)\" height=\"182.36\" id=\"E12\" style=\"stroke: #A80036; stroke-width: 1.5;\" width=\"119\" x=\"150\" y=\"49\"/><rect fill=\"#FEFECE\" height=\"23.9688\" style=\"stroke: #A80036; stroke-width: 1.5;\" width=\"119\" x=\"150\" y=\"49\"/><text fill=\"#000000\" font-family=\"sans-serif\" font-size=\"12\" lengthAdjust=\"spacingAndGlyphs\" textLength=\"16\" x=\"201.5\" y=\"65.1387\">B1</text></a><!--MD5=[03104f77b71e2d8d3500c651e6e31181]\n",
       "cluster E13--><a href=\"psysml:3cf8fc76-e05d-49bd-b29f-3b88a47b72de\" target=\"_top\" title=\"psysml:3cf8fc76-e05d-49bd-b29f-3b88a47b72de\" xlink:actuate=\"onRequest\" xlink:href=\"psysml:3cf8fc76-e05d-49bd-b29f-3b88a47b72de\" xlink:show=\"new\" xlink:title=\"psysml:3cf8fc76-e05d-49bd-b29f-3b88a47b72de\" xlink:type=\"simple\"><rect fill=\"#FFFFFF\" filter=\"url(#f1ct9l14ohuonn)\" height=\"103.36\" id=\"E13\" rx=\"10\" ry=\"10\" style=\"stroke: #A80036; stroke-width: 1.5;\" width=\"86\" x=\"167\" y=\"98\"/><rect fill=\"#FEFECE\" height=\"23.9688\" rx=\"10\" ry=\"10\" style=\"stroke: #FEFECE; stroke-width: 1.5;\" width=\"86\" x=\"167\" y=\"98\"/><rect fill=\"#FEFECE\" height=\"10\" style=\"stroke: #FEFECE; stroke-width: 1.5;\" width=\"86\" x=\"167\" y=\"111.9688\"/><rect fill=\"none\" height=\"103.36\" id=\"E13\" rx=\"10\" ry=\"10\" style=\"stroke: #A80036; stroke-width: 1.5;\" width=\"86\" x=\"167\" y=\"98\"/><text fill=\"#000000\" font-family=\"sans-serif\" font-size=\"12\" lengthAdjust=\"spacingAndGlyphs\" textLength=\"8\" x=\"206\" y=\"114.1387\">p</text><line style=\"stroke: #A80036; stroke-width: 1.0;\" x1=\"167\" x2=\"253\" y1=\"121.9688\" y2=\"121.9688\"/></a><g id=\"E1.E2\"><a href=\"psysml:859d5a2d-b524-488b-9af4-e0f987adcacf\" target=\"_top\" title=\"psysml:859d5a2d-b524-488b-9af4-e0f987adcacf\" xlink:actuate=\"onRequest\" xlink:href=\"psysml:859d5a2d-b524-488b-9af4-e0f987adcacf\" xlink:show=\"new\" xlink:title=\"psysml:859d5a2d-b524-488b-9af4-e0f987adcacf\" xlink:type=\"simple\"><rect fill=\"#FEFECE\" filter=\"url(#f1ct9l14ohuonn)\" height=\"42.9375\" id=\"E2\" style=\"stroke: #A80036; stroke-width: 1.5;\" width=\"101\" x=\"32.5\" y=\"76.5\"/><ellipse cx=\"49.75\" cy=\"95.4688\" fill=\"#A52A2A\" rx=\"11\" ry=\"11\" style=\"stroke: #A80036; stroke-width: 1.0;\"/><path d=\"M46.9688,100.4688 L46.9688,89.875 L49.7031,89.875 Q51.0938,89.875 51.8594,90.2656 Q52.6406,90.6406 53.1719,91.3438 Q53.7031,92.0469 54,93.0469 Q54.2969,94.0313 54.2969,95.25 Q54.25,96.8438 53.75,98.0313 Q53.2656,99.2031 52.2188,99.8438 Q51.1875,100.4688 49.5,100.4688 L46.9688,100.4688 Z M48.8281,98.9688 L49.4531,98.9688 Q50.5313,98.9688 51.1875,98.5156 Q51.8438,98.0625 52.125,97.2344 Q52.4219,96.3906 52.4063,95.2656 Q52.4063,94.0938 52.1563,93.2344 Q51.9063,92.3594 51.2969,91.8906 Q50.6875,91.4063 49.6406,91.4063 L48.8281,91.4063 L48.8281,98.9688 Z \"/><text fill=\"#000000\" font-family=\"sans-serif\" font-size=\"12\" font-style=\"italic\" lengthAdjust=\"spacingAndGlyphs\" textLength=\"68\" x=\"62.25\" y=\"92.6387\">«port  def»</text><text fill=\"#000000\" font-family=\"sans-serif\" font-size=\"12\" lengthAdjust=\"spacingAndGlyphs\" textLength=\"8\" x=\"92.25\" y=\"106.6074\">P</text></a></g><text fill=\"#000000\" font-family=\"sans-serif\" font-size=\"14\" lengthAdjust=\"spacingAndGlyphs\" textLength=\"36\" x=\"467\" y=\"76.6982\">p1: P</text><rect fill=\"#A80036\" height=\"12\" style=\"stroke: #FEFECE; stroke-width: 1.5;\" width=\"12\" x=\"481\" y=\"92\"/><text fill=\"#000000\" font-family=\"sans-serif\" font-size=\"14\" lengthAdjust=\"spacingAndGlyphs\" textLength=\"18\" x=\"523\" y=\"76.6982\">p2</text><rect fill=\"#A80036\" height=\"12\" style=\"stroke: #FEFECE; stroke-width: 1.5;\" width=\"12\" x=\"528\" y=\"92\"/><text fill=\"#000000\" font-family=\"sans-serif\" font-size=\"14\" lengthAdjust=\"spacingAndGlyphs\" textLength=\"36\" x=\"373\" y=\"76.6982\">p1: P</text><rect fill=\"#A80036\" height=\"12\" style=\"stroke: #FEFECE; stroke-width: 1.5;\" width=\"12\" x=\"387\" y=\"92\"/><text fill=\"#000000\" font-family=\"sans-serif\" font-size=\"14\" lengthAdjust=\"spacingAndGlyphs\" textLength=\"18\" x=\"429\" y=\"76.6982\">p2</text><rect fill=\"#A80036\" height=\"12\" style=\"stroke: #FEFECE; stroke-width: 1.5;\" width=\"12\" x=\"434\" y=\"92\"/><text fill=\"#000000\" font-family=\"sans-serif\" font-size=\"14\" lengthAdjust=\"spacingAndGlyphs\" textLength=\"36\" x=\"279\" y=\"76.6982\">p1: P</text><rect fill=\"#A80036\" height=\"12\" style=\"stroke: #FEFECE; stroke-width: 1.5;\" width=\"12\" x=\"293\" y=\"92\"/><text fill=\"#000000\" font-family=\"sans-serif\" font-size=\"14\" lengthAdjust=\"spacingAndGlyphs\" textLength=\"18\" x=\"335\" y=\"76.6982\">p2</text><rect fill=\"#A80036\" height=\"12\" style=\"stroke: #FEFECE; stroke-width: 1.5;\" width=\"12\" x=\"340\" y=\"92\"/><text fill=\"#000000\" font-family=\"sans-serif\" font-size=\"14\" lengthAdjust=\"spacingAndGlyphs\" textLength=\"36\" x=\"165\" y=\"220.3551\">p1: P</text><rect fill=\"#A80036\" height=\"12\" style=\"stroke: #FEFECE; stroke-width: 1.5;\" width=\"12\" x=\"179\" y=\"195.36\"/><text fill=\"#000000\" font-family=\"sans-serif\" font-size=\"14\" lengthAdjust=\"spacingAndGlyphs\" textLength=\"18\" x=\"184\" y=\"76.6982\">p2</text><rect fill=\"#A80036\" height=\"12\" style=\"stroke: #FEFECE; stroke-width: 1.5;\" width=\"12\" x=\"189\" y=\"92\"/><!--MD5=[3afbdc645381407e1bc99677323a2513]\n",
       "link E14 to E15--><a href=\"psysml:1f31a0eb-24e7-4abd-8eab-15c525015988\" target=\"_top\" title=\"psysml:1f31a0eb-24e7-4abd-8eab-15c525015988\" xlink:actuate=\"onRequest\" xlink:href=\"psysml:1f31a0eb-24e7-4abd-8eab-15c525015988\" xlink:show=\"new\" xlink:title=\"psysml:1f31a0eb-24e7-4abd-8eab-15c525015988\" xlink:type=\"simple\"><path d=\"M191.22,197.87 C196.78,196 203.08,192.8 207,187.36 C222.56,165.78 217.29,152.03 207,127.5 C201.54,114.48 186.91,104.41 188.88,100.63 \" fill=\"none\" id=\"E14-E15\" style=\"stroke: #A80036; stroke-width: 3.0;\"/></a><!--MD5=[3afbdc645381407e1bc99677323a2513]\n",
       "link E14 to E15--><a href=\"psysml:c2fd36d5-55a7-4367-ae55-c3f656adabca\" target=\"_top\" title=\"psysml:c2fd36d5-55a7-4367-ae55-c3f656adabca\" xlink:actuate=\"onRequest\" xlink:href=\"psysml:c2fd36d5-55a7-4367-ae55-c3f656adabca\" xlink:show=\"new\" xlink:title=\"psysml:c2fd36d5-55a7-4367-ae55-c3f656adabca\" xlink:type=\"simple\"><path d=\"M191.24,200.4 C208.98,200.56 232.49,200.56 242,187.36 C257.56,165.78 252.29,152.03 242,127.5 C235.78,112.66 217.64,101.65 201.03,99.42 \" fill=\"none\" id=\"E14-E15-1\" style=\"stroke: #A80036; stroke-width: 3.0;\"/></a><!--MD5=[34e1c89ac3dd49e57ba41299adb89504]\n",
       "@startuml\r\n",
       "skinparam ranksep 10\r\n",
       "skinparam rectangle {\r\n",
       " backgroundColor<<block>> LightGreen\r\n",
       "}\r\n",
       " \r\n",
       "package \"ConjugationTest\" as E1  [[psysml:4e179b45-ef84-478c-a2da-b16af7c43fe7 ]]  {\r\n",
       "def \"P\" as E2 << <<(D,brown) port  def>> [[psysml:859d5a2d-b524-488b-9af4-e0f987adcacf ]] \r\n",
       "rec def \"B\" as E3 << << (B,green) >> [[psysml:615e73ac-8544-4e42-b424-8a4747867d0e ]] {\r\n",
       "portin \"p1: P \" as E4 << << (P,blue) port>> [[psysml:37d2c32c-e4e6-4c0b-af75-96cd6556dd4d ]] \r\n",
       "portin \"p2 \" as E5 << << (P,blue) port>> [[psysml:a7d82e4a-e12d-4520-9ae6-c89754eb7506 ]] \r\n",
       "}\r\n",
       "rec def \"A\" as E6 << << (B,green) >> [[psysml:5cdadcae-4d33-45cc-84a1-e26eca79ba4d ]] {\r\n",
       "portin \"p1: P \" as E7 << << (P,blue) port>> [[psysml:7fb982ae-cae7-41b0-848a-52bb93191ec3 ]] \r\n",
       "portin \"p2 \" as E8 << << (P,blue) port>> [[psysml:5c21b9df-62cf-4ee8-9145-76efb13de7e4 ]] \r\n",
       "}\r\n",
       "rec def \"I\" as E9 << << (B,green) >> [[psysml:2bbab23f-cc40-4354-88cc-493e0b41ffd4 ]] {\r\n",
       "portin \"p1: P \" as E10 << << (P,blue) port>> [[psysml:e0785fbe-faad-409c-b39f-62ae49a7d6e0 ]] \r\n",
       "portin \"p2 \" as E11 << << (P,blue) port>> [[psysml:a18508b4-2f12-4bca-8dd1-291939c34d14 ]] \r\n",
       "}\r\n",
       "rec def \"B1\" as E12 << << (B,green) >> [[psysml:cd0027e5-9ed9-4216-bffa-1e31fa367fb3 ]] {\r\n",
       "rec usage \"p\" as E13  [[psysml:3cf8fc76-e05d-49bd-b29f-3b88a47b72de ]] {\r\n",
       "portout \"p1: P \" as E14 << << (P,blue) port>> [[psysml:6cf362ef-4bb1-44a5-8272-767638a97c43 ]] \r\n",
       "portin \"p2 \" as E15 << << (P,blue) port>> [[psysml:33e7cbb5-c462-4d34-9030-b3438d816b29 ]] \r\n",
       "}\r\n",
       "}\r\n",
       "}\r\n",
       "E14 -[thickness=3]- E15 [[psysml:1f31a0eb-24e7-4abd-8eab-15c525015988 ]] \r\n",
       "E14 -[thickness=3]- E15 [[psysml:c2fd36d5-55a7-4367-ae55-c3f656adabca ]] \r\n",
       "@enduml\r\n",
       "\n",
       "PlantUML version 1.2020.13(Sat Jun 13 12:26:38 UTC 2020)\n",
       "(EPL source distribution)\n",
       "Java Runtime: OpenJDK Runtime Environment\n",
       "JVM: OpenJDK 64-Bit Server VM\n",
       "Default Encoding: UTF-8\n",
       "Language: en\n",
       "Country: null\n",
       "--></g></svg>"
      ]
     },
     "execution_count": 33,
     "metadata": {},
     "output_type": "execute_result"
    }
   ],
   "source": [
    "%viz --style=\"PLANTUML\" --view=\"Interconnection\" \"ConjugationTest\""
   ]
  },
  {
   "cell_type": "code",
   "execution_count": 34,
   "id": "9abeeb3b",
   "metadata": {
    "execution": {
     "iopub.execute_input": "2022-08-19T08:18:14.320754Z",
     "iopub.status.busy": "2022-08-19T08:18:14.320293Z",
     "iopub.status.idle": "2022-08-19T08:18:14.325347Z",
     "shell.execute_reply": "2022-08-19T08:18:14.324971Z"
    }
   },
   "outputs": [
    {
     "data": {
      "image/svg+xml": [
       "<?xml version=\"1.0\" encoding=\"UTF-8\" standalone=\"no\"?><svg xmlns=\"http://www.w3.org/2000/svg\" xmlns:xlink=\"http://www.w3.org/1999/xlink\" contentScriptType=\"application/ecmascript\" contentStyleType=\"text/css\" height=\"12px\" preserveAspectRatio=\"none\" style=\"width:12px;height:12px;\" version=\"1.1\" viewBox=\"0 0 12 12\" width=\"12px\" zoomAndPan=\"magnify\"><defs/><g><!--MD5=[6a4cb978cab31700e1ce5529f947a75d]\n",
       "@startuml\r\n",
       "skinparam ranksep 8\r\n",
       " \r\n",
       "@enduml\r\n",
       "\n",
       "PlantUML version 1.2020.13(Sat Jun 13 12:26:38 UTC 2020)\n",
       "(EPL source distribution)\n",
       "Java Runtime: OpenJDK Runtime Environment\n",
       "JVM: OpenJDK 64-Bit Server VM\n",
       "Default Encoding: UTF-8\n",
       "Language: en\n",
       "Country: null\n",
       "--></g></svg>"
      ]
     },
     "execution_count": 34,
     "metadata": {},
     "output_type": "execute_result"
    }
   ],
   "source": [
    "%viz --style=\"PLANTUML\" --view=\"Action\" \"ConjugationTest\""
   ]
  },
  {
   "cell_type": "code",
   "execution_count": 35,
   "id": "42e50dc5",
   "metadata": {
    "execution": {
     "iopub.execute_input": "2022-08-19T08:18:14.375328Z",
     "iopub.status.busy": "2022-08-19T08:18:14.374826Z",
     "iopub.status.idle": "2022-08-19T08:18:14.380097Z",
     "shell.execute_reply": "2022-08-19T08:18:14.379679Z"
    }
   },
   "outputs": [
    {
     "data": {
      "image/svg+xml": [
       "<?xml version=\"1.0\" encoding=\"UTF-8\" standalone=\"no\"?><svg xmlns=\"http://www.w3.org/2000/svg\" xmlns:xlink=\"http://www.w3.org/1999/xlink\" contentScriptType=\"application/ecmascript\" contentStyleType=\"text/css\" height=\"12px\" preserveAspectRatio=\"none\" style=\"width:12px;height:12px;\" version=\"1.1\" viewBox=\"0 0 12 12\" width=\"12px\" zoomAndPan=\"magnify\"><defs/><g><!--MD5=[ca4faa0b02def275ea33c14ea7a1a98d]\n",
       "@startuml\r\n",
       "skinparam roundcorner 20\r\n",
       "skinparam BoxPadding 20\r\n",
       "skinparam SequenceBoxBackgroundColor #white\r\n",
       "skinparam style strictuml\r\n",
       "skinparam maxMessageSize 100\r\n",
       " \r\n",
       "@enduml\r\n",
       "\n",
       "PlantUML version 1.2020.13(Sat Jun 13 12:26:38 UTC 2020)\n",
       "(EPL source distribution)\n",
       "Java Runtime: OpenJDK Runtime Environment\n",
       "JVM: OpenJDK 64-Bit Server VM\n",
       "Default Encoding: UTF-8\n",
       "Language: en\n",
       "Country: null\n",
       "--></g></svg>"
      ]
     },
     "execution_count": 35,
     "metadata": {},
     "output_type": "execute_result"
    }
   ],
   "source": [
    "%viz --style=\"PLANTUML\" --view=\"Sequence\" \"ConjugationTest\""
   ]
  },
  {
   "cell_type": "code",
   "execution_count": 36,
   "id": "c618743c",
   "metadata": {
    "execution": {
     "iopub.execute_input": "2022-08-19T08:18:14.429492Z",
     "iopub.status.busy": "2022-08-19T08:18:14.429040Z",
     "iopub.status.idle": "2022-08-19T08:18:14.481024Z",
     "shell.execute_reply": "2022-08-19T08:18:14.479246Z"
    }
   },
   "outputs": [
    {
     "data": {
      "image/svg+xml": [
       "<?xml version=\"1.0\" encoding=\"UTF-8\" standalone=\"no\"?><svg xmlns=\"http://www.w3.org/2000/svg\" xmlns:xlink=\"http://www.w3.org/1999/xlink\" contentScriptType=\"application/ecmascript\" contentStyleType=\"text/css\" height=\"427px\" preserveAspectRatio=\"none\" style=\"width:793px;height:427px;\" version=\"1.1\" viewBox=\"0 0 793 427\" width=\"793px\" zoomAndPan=\"magnify\"><defs><filter height=\"300%\" id=\"f12xh1nrzw1oka\" width=\"300%\" x=\"-1\" y=\"-1\"><feGaussianBlur result=\"blurOut\" stdDeviation=\"2.0\"/><feColorMatrix in=\"blurOut\" result=\"blurOut2\" type=\"matrix\" values=\"0 0 0 0 0 0 0 0 0 0 0 0 0 0 0 0 0 0 .4 0\"/><feOffset dx=\"4.0\" dy=\"4.0\" in=\"blurOut2\" result=\"blurOut3\"/><feBlend in=\"SourceGraphic\" in2=\"blurOut3\" mode=\"normal\"/></filter></defs><g><!--MD5=[fbc87193dbaf4d95561dea2c320d4a47]\n",
       "cluster E1--><a href=\"psysml:4e179b45-ef84-478c-a2da-b16af7c43fe7\" target=\"_top\" title=\"psysml:4e179b45-ef84-478c-a2da-b16af7c43fe7\" xlink:actuate=\"onRequest\" xlink:href=\"psysml:4e179b45-ef84-478c-a2da-b16af7c43fe7\" xlink:show=\"new\" xlink:title=\"psysml:4e179b45-ef84-478c-a2da-b16af7c43fe7\" xlink:type=\"simple\"><polygon fill=\"#FFFFFF\" filter=\"url(#f12xh1nrzw1oka)\" points=\"16,6,136,6,143,28.2969,771,28.2969,771,415,16,415,16,6\" style=\"stroke: #000000; stroke-width: 1.5;\"/><line style=\"stroke: #000000; stroke-width: 1.5;\" x1=\"16\" x2=\"143\" y1=\"28.2969\" y2=\"28.2969\"/><text fill=\"#000000\" font-family=\"sans-serif\" font-size=\"14\" font-weight=\"bold\" lengthAdjust=\"spacingAndGlyphs\" textLength=\"114\" x=\"20\" y=\"20.9951\">ConjugationTest</text></a><!--MD5=[b4997ac47864f28c2f74865a473b2911]\n",
       "class E2--><a href=\"psysml:859d5a2d-b524-488b-9af4-e0f987adcacf\" target=\"_top\" title=\"psysml:859d5a2d-b524-488b-9af4-e0f987adcacf\" xlink:actuate=\"onRequest\" xlink:href=\"psysml:859d5a2d-b524-488b-9af4-e0f987adcacf\" xlink:show=\"new\" xlink:title=\"psysml:859d5a2d-b524-488b-9af4-e0f987adcacf\" xlink:type=\"simple\"><rect fill=\"#FEFECE\" filter=\"url(#f12xh1nrzw1oka)\" height=\"45.9375\" id=\"E2\" style=\"stroke: #A80036; stroke-width: 1.5;\" width=\"96\" x=\"268\" y=\"353\"/><ellipse cx=\"283\" cy=\"371.9688\" fill=\"#A52A2A\" rx=\"11\" ry=\"11\" style=\"stroke: #A80036; stroke-width: 1.0;\"/><path d=\"M280.2188,376.9688 L280.2188,366.375 L282.9531,366.375 Q284.3438,366.375 285.1094,366.7656 Q285.8906,367.1406 286.4219,367.8438 Q286.9531,368.5469 287.25,369.5469 Q287.5469,370.5313 287.5469,371.75 Q287.5,373.3438 287,374.5313 Q286.5156,375.7031 285.4688,376.3438 Q284.4375,376.9688 282.75,376.9688 L280.2188,376.9688 Z M282.0781,375.4688 L282.7031,375.4688 Q283.7813,375.4688 284.4375,375.0156 Q285.0938,374.5625 285.375,373.7344 Q285.6719,372.8906 285.6563,371.7656 Q285.6563,370.5938 285.4063,369.7344 Q285.1563,368.8594 284.5469,368.3906 Q283.9375,367.9063 282.8906,367.9063 L282.0781,367.9063 L282.0781,375.4688 Z \"/><text fill=\"#000000\" font-family=\"sans-serif\" font-size=\"12\" font-style=\"italic\" lengthAdjust=\"spacingAndGlyphs\" textLength=\"68\" x=\"295\" y=\"369.1387\">«port  def»</text><text fill=\"#000000\" font-family=\"sans-serif\" font-size=\"12\" lengthAdjust=\"spacingAndGlyphs\" textLength=\"8\" x=\"325\" y=\"383.1074\">P</text><line style=\"stroke: #A80036; stroke-width: 1.5;\" x1=\"269\" x2=\"363\" y1=\"390.9375\" y2=\"390.9375\"/></a><!--MD5=[09b614a08d8cba4a07c9adeb5e0fee81]\n",
       "class E3--><a href=\"psysml:615e73ac-8544-4e42-b424-8a4747867d0e\" target=\"_top\" title=\"psysml:615e73ac-8544-4e42-b424-8a4747867d0e\" xlink:actuate=\"onRequest\" xlink:href=\"psysml:615e73ac-8544-4e42-b424-8a4747867d0e\" xlink:show=\"new\" xlink:title=\"psysml:615e73ac-8544-4e42-b424-8a4747867d0e\" xlink:type=\"simple\"><rect fill=\"#FEFECE\" filter=\"url(#f12xh1nrzw1oka)\" height=\"40\" id=\"E3\" style=\"stroke: #A80036; stroke-width: 1.5;\" width=\"40\" x=\"649\" y=\"144\"/><ellipse cx=\"664\" cy=\"160\" fill=\"#008000\" rx=\"11\" ry=\"11\" style=\"stroke: #A80036; stroke-width: 1.0;\"/><path d=\"M660.875,165 L660.875,154.4063 L664.1094,154.4063 Q666.0156,154.4063 666.9219,155.1563 Q667.8438,155.9063 667.8438,157.0781 Q667.8438,157.7656 667.4531,158.4219 Q667.0781,159.0781 666.3594,159.375 Q667.2188,159.75 667.7344,160.4375 Q668.25,161.125 668.25,161.9375 Q668.25,163.3125 667.2188,164.1563 Q666.2031,165 664.0938,165 L660.875,165 Z M662.7969,158.6406 L663.9531,158.6406 Q665.0781,158.6406 665.4844,158.2656 Q665.9063,157.875 665.9063,157.25 Q665.9063,156.6719 665.4844,156.3125 Q665.0625,155.9531 664.125,155.9531 L662.7969,155.9531 L662.7969,158.6406 Z M662.7969,163.4219 L664.2969,163.4219 Q665.2031,163.4219 665.7344,163.0313 Q666.2656,162.6406 666.2656,161.8906 Q666.2656,161.125 665.7656,160.6563 Q665.2656,160.1719 664,160.1719 L662.7969,160.1719 L662.7969,163.4219 Z \"/><text fill=\"#000000\" font-family=\"sans-serif\" font-size=\"12\" lengthAdjust=\"spacingAndGlyphs\" textLength=\"8\" x=\"678\" y=\"164.1543\">B</text><line style=\"stroke: #A80036; stroke-width: 1.5;\" x1=\"650\" x2=\"688\" y1=\"176\" y2=\"176\"/></a><!--MD5=[ebbe1d658d1005bcc118a6aa81145e00]\n",
       "class E4--><a href=\"psysml:37d2c32c-e4e6-4c0b-af75-96cd6556dd4d\" target=\"_top\" title=\"psysml:37d2c32c-e4e6-4c0b-af75-96cd6556dd4d\" xlink:actuate=\"onRequest\" xlink:href=\"psysml:37d2c32c-e4e6-4c0b-af75-96cd6556dd4d\" xlink:show=\"new\" xlink:title=\"psysml:37d2c32c-e4e6-4c0b-af75-96cd6556dd4d\" xlink:type=\"simple\"><rect fill=\"#FEFECE\" filter=\"url(#f12xh1nrzw1oka)\" height=\"45.9375\" id=\"E4\" rx=\"10\" ry=\"10\" style=\"stroke: #A80036; stroke-width: 1.5;\" width=\"68\" x=\"584\" y=\"247\"/><ellipse cx=\"599\" cy=\"265.9688\" fill=\"#0000FF\" rx=\"11\" ry=\"11\" style=\"stroke: #A80036; stroke-width: 1.0;\"/><path d=\"M595.8125,270.9688 L595.8125,260.375 L599.4219,260.375 Q600.6406,260.375 601.4375,260.8125 Q602.2344,261.2344 602.6094,261.9375 Q603,262.6406 603,263.4844 Q603,264.3281 602.625,265.0156 Q602.2656,265.7031 601.4688,266.125 Q600.6875,266.5313 599.5,266.5313 L597.7656,266.5313 L597.7656,270.9688 L595.8125,270.9688 Z M597.7656,264.9375 L599.375,264.9375 Q600.1875,264.9375 600.6094,264.5313 Q601.0313,264.125 601.0313,263.4844 Q601.0313,262.8594 600.6094,262.4531 Q600.1875,262.0469 599.3906,262.0469 L597.7656,262.0469 L597.7656,264.9375 Z \"/><text fill=\"#000000\" font-family=\"sans-serif\" font-size=\"12\" font-style=\"italic\" lengthAdjust=\"spacingAndGlyphs\" textLength=\"40\" x=\"611\" y=\"263.1387\">«port»</text><text fill=\"#000000\" font-family=\"sans-serif\" font-size=\"12\" lengthAdjust=\"spacingAndGlyphs\" textLength=\"32\" x=\"613\" y=\"277.1074\">p1: P</text><line style=\"stroke: #A80036; stroke-width: 1.5;\" x1=\"585\" x2=\"651\" y1=\"284.9375\" y2=\"284.9375\"/></a><!--MD5=[270fce915f116d4de14055a7c1d9a0f3]\n",
       "class E5--><a href=\"psysml:a7d82e4a-e12d-4520-9ae6-c89754eb7506\" target=\"_top\" title=\"psysml:a7d82e4a-e12d-4520-9ae6-c89754eb7506\" xlink:actuate=\"onRequest\" xlink:href=\"psysml:a7d82e4a-e12d-4520-9ae6-c89754eb7506\" xlink:show=\"new\" xlink:title=\"psysml:a7d82e4a-e12d-4520-9ae6-c89754eb7506\" xlink:type=\"simple\"><rect fill=\"#FEFECE\" filter=\"url(#f12xh1nrzw1oka)\" height=\"45.9375\" id=\"E5\" rx=\"10\" ry=\"10\" style=\"stroke: #A80036; stroke-width: 1.5;\" width=\"68\" x=\"687\" y=\"247\"/><ellipse cx=\"702\" cy=\"265.9688\" fill=\"#0000FF\" rx=\"11\" ry=\"11\" style=\"stroke: #A80036; stroke-width: 1.0;\"/><path d=\"M698.8125,270.9688 L698.8125,260.375 L702.4219,260.375 Q703.6406,260.375 704.4375,260.8125 Q705.2344,261.2344 705.6094,261.9375 Q706,262.6406 706,263.4844 Q706,264.3281 705.625,265.0156 Q705.2656,265.7031 704.4688,266.125 Q703.6875,266.5313 702.5,266.5313 L700.7656,266.5313 L700.7656,270.9688 L698.8125,270.9688 Z M700.7656,264.9375 L702.375,264.9375 Q703.1875,264.9375 703.6094,264.5313 Q704.0313,264.125 704.0313,263.4844 Q704.0313,262.8594 703.6094,262.4531 Q703.1875,262.0469 702.3906,262.0469 L700.7656,262.0469 L700.7656,264.9375 Z \"/><text fill=\"#000000\" font-family=\"sans-serif\" font-size=\"12\" font-style=\"italic\" lengthAdjust=\"spacingAndGlyphs\" textLength=\"40\" x=\"714\" y=\"263.1387\">«port»</text><text fill=\"#000000\" font-family=\"sans-serif\" font-size=\"12\" lengthAdjust=\"spacingAndGlyphs\" textLength=\"16\" x=\"724\" y=\"277.1074\">p2</text><line style=\"stroke: #A80036; stroke-width: 1.5;\" x1=\"688\" x2=\"754\" y1=\"284.9375\" y2=\"284.9375\"/></a><!--MD5=[60a26617385b1d2d0262a64233df1f8d]\n",
       "class E6--><a href=\"psysml:5cdadcae-4d33-45cc-84a1-e26eca79ba4d\" target=\"_top\" title=\"psysml:5cdadcae-4d33-45cc-84a1-e26eca79ba4d\" xlink:actuate=\"onRequest\" xlink:href=\"psysml:5cdadcae-4d33-45cc-84a1-e26eca79ba4d\" xlink:show=\"new\" xlink:title=\"psysml:5cdadcae-4d33-45cc-84a1-e26eca79ba4d\" xlink:type=\"simple\"><rect fill=\"#FEFECE\" filter=\"url(#f12xh1nrzw1oka)\" height=\"40\" id=\"E6\" style=\"stroke: #A80036; stroke-width: 1.5;\" width=\"40\" x=\"443\" y=\"144\"/><ellipse cx=\"458\" cy=\"160\" fill=\"#008000\" rx=\"11\" ry=\"11\" style=\"stroke: #A80036; stroke-width: 1.0;\"/><path d=\"M454.875,165 L454.875,154.4063 L458.1094,154.4063 Q460.0156,154.4063 460.9219,155.1563 Q461.8438,155.9063 461.8438,157.0781 Q461.8438,157.7656 461.4531,158.4219 Q461.0781,159.0781 460.3594,159.375 Q461.2188,159.75 461.7344,160.4375 Q462.25,161.125 462.25,161.9375 Q462.25,163.3125 461.2188,164.1563 Q460.2031,165 458.0938,165 L454.875,165 Z M456.7969,158.6406 L457.9531,158.6406 Q459.0781,158.6406 459.4844,158.2656 Q459.9063,157.875 459.9063,157.25 Q459.9063,156.6719 459.4844,156.3125 Q459.0625,155.9531 458.125,155.9531 L456.7969,155.9531 L456.7969,158.6406 Z M456.7969,163.4219 L458.2969,163.4219 Q459.2031,163.4219 459.7344,163.0313 Q460.2656,162.6406 460.2656,161.8906 Q460.2656,161.125 459.7656,160.6563 Q459.2656,160.1719 458,160.1719 L456.7969,160.1719 L456.7969,163.4219 Z \"/><text fill=\"#000000\" font-family=\"sans-serif\" font-size=\"12\" lengthAdjust=\"spacingAndGlyphs\" textLength=\"8\" x=\"472\" y=\"164.1543\">A</text><line style=\"stroke: #A80036; stroke-width: 1.5;\" x1=\"444\" x2=\"482\" y1=\"176\" y2=\"176\"/></a><!--MD5=[2156ba9850f5573cc1fc38a6a4b2f02b]\n",
       "class E7--><a href=\"psysml:7fb982ae-cae7-41b0-848a-52bb93191ec3\" target=\"_top\" title=\"psysml:7fb982ae-cae7-41b0-848a-52bb93191ec3\" xlink:actuate=\"onRequest\" xlink:href=\"psysml:7fb982ae-cae7-41b0-848a-52bb93191ec3\" xlink:show=\"new\" xlink:title=\"psysml:7fb982ae-cae7-41b0-848a-52bb93191ec3\" xlink:type=\"simple\"><rect fill=\"#FEFECE\" filter=\"url(#f12xh1nrzw1oka)\" height=\"45.9375\" id=\"E7\" rx=\"10\" ry=\"10\" style=\"stroke: #A80036; stroke-width: 1.5;\" width=\"68\" x=\"378\" y=\"247\"/><ellipse cx=\"393\" cy=\"265.9688\" fill=\"#0000FF\" rx=\"11\" ry=\"11\" style=\"stroke: #A80036; stroke-width: 1.0;\"/><path d=\"M389.8125,270.9688 L389.8125,260.375 L393.4219,260.375 Q394.6406,260.375 395.4375,260.8125 Q396.2344,261.2344 396.6094,261.9375 Q397,262.6406 397,263.4844 Q397,264.3281 396.625,265.0156 Q396.2656,265.7031 395.4688,266.125 Q394.6875,266.5313 393.5,266.5313 L391.7656,266.5313 L391.7656,270.9688 L389.8125,270.9688 Z M391.7656,264.9375 L393.375,264.9375 Q394.1875,264.9375 394.6094,264.5313 Q395.0313,264.125 395.0313,263.4844 Q395.0313,262.8594 394.6094,262.4531 Q394.1875,262.0469 393.3906,262.0469 L391.7656,262.0469 L391.7656,264.9375 Z \"/><text fill=\"#000000\" font-family=\"sans-serif\" font-size=\"12\" font-style=\"italic\" lengthAdjust=\"spacingAndGlyphs\" textLength=\"40\" x=\"405\" y=\"263.1387\">«port»</text><text fill=\"#000000\" font-family=\"sans-serif\" font-size=\"12\" lengthAdjust=\"spacingAndGlyphs\" textLength=\"32\" x=\"407\" y=\"277.1074\">p1: P</text><line style=\"stroke: #A80036; stroke-width: 1.5;\" x1=\"379\" x2=\"445\" y1=\"284.9375\" y2=\"284.9375\"/></a><!--MD5=[b9389687b975829384b498ac4b7476b2]\n",
       "class E8--><a href=\"psysml:5c21b9df-62cf-4ee8-9145-76efb13de7e4\" target=\"_top\" title=\"psysml:5c21b9df-62cf-4ee8-9145-76efb13de7e4\" xlink:actuate=\"onRequest\" xlink:href=\"psysml:5c21b9df-62cf-4ee8-9145-76efb13de7e4\" xlink:show=\"new\" xlink:title=\"psysml:5c21b9df-62cf-4ee8-9145-76efb13de7e4\" xlink:type=\"simple\"><rect fill=\"#FEFECE\" filter=\"url(#f12xh1nrzw1oka)\" height=\"45.9375\" id=\"E8\" rx=\"10\" ry=\"10\" style=\"stroke: #A80036; stroke-width: 1.5;\" width=\"68\" x=\"481\" y=\"247\"/><ellipse cx=\"496\" cy=\"265.9688\" fill=\"#0000FF\" rx=\"11\" ry=\"11\" style=\"stroke: #A80036; stroke-width: 1.0;\"/><path d=\"M492.8125,270.9688 L492.8125,260.375 L496.4219,260.375 Q497.6406,260.375 498.4375,260.8125 Q499.2344,261.2344 499.6094,261.9375 Q500,262.6406 500,263.4844 Q500,264.3281 499.625,265.0156 Q499.2656,265.7031 498.4688,266.125 Q497.6875,266.5313 496.5,266.5313 L494.7656,266.5313 L494.7656,270.9688 L492.8125,270.9688 Z M494.7656,264.9375 L496.375,264.9375 Q497.1875,264.9375 497.6094,264.5313 Q498.0313,264.125 498.0313,263.4844 Q498.0313,262.8594 497.6094,262.4531 Q497.1875,262.0469 496.3906,262.0469 L494.7656,262.0469 L494.7656,264.9375 Z \"/><text fill=\"#000000\" font-family=\"sans-serif\" font-size=\"12\" font-style=\"italic\" lengthAdjust=\"spacingAndGlyphs\" textLength=\"40\" x=\"508\" y=\"263.1387\">«port»</text><text fill=\"#000000\" font-family=\"sans-serif\" font-size=\"12\" lengthAdjust=\"spacingAndGlyphs\" textLength=\"16\" x=\"518\" y=\"277.1074\">p2</text><line style=\"stroke: #A80036; stroke-width: 1.5;\" x1=\"482\" x2=\"548\" y1=\"284.9375\" y2=\"284.9375\"/></a><!--MD5=[fd4143e9d270a159db93a4ea2a975926]\n",
       "class E9--><a href=\"psysml:2bbab23f-cc40-4354-88cc-493e0b41ffd4\" target=\"_top\" title=\"psysml:2bbab23f-cc40-4354-88cc-493e0b41ffd4\" xlink:actuate=\"onRequest\" xlink:href=\"psysml:2bbab23f-cc40-4354-88cc-493e0b41ffd4\" xlink:show=\"new\" xlink:title=\"psysml:2bbab23f-cc40-4354-88cc-493e0b41ffd4\" xlink:type=\"simple\"><rect fill=\"#FEFECE\" filter=\"url(#f12xh1nrzw1oka)\" height=\"40\" id=\"E9\" style=\"stroke: #A80036; stroke-width: 1.5;\" width=\"35\" x=\"239.5\" y=\"144\"/><ellipse cx=\"254.5\" cy=\"160\" fill=\"#008000\" rx=\"11\" ry=\"11\" style=\"stroke: #A80036; stroke-width: 1.0;\"/><path d=\"M251.375,165 L251.375,154.4063 L254.6094,154.4063 Q256.5156,154.4063 257.4219,155.1563 Q258.3438,155.9063 258.3438,157.0781 Q258.3438,157.7656 257.9531,158.4219 Q257.5781,159.0781 256.8594,159.375 Q257.7188,159.75 258.2344,160.4375 Q258.75,161.125 258.75,161.9375 Q258.75,163.3125 257.7188,164.1563 Q256.7031,165 254.5938,165 L251.375,165 Z M253.2969,158.6406 L254.4531,158.6406 Q255.5781,158.6406 255.9844,158.2656 Q256.4063,157.875 256.4063,157.25 Q256.4063,156.6719 255.9844,156.3125 Q255.5625,155.9531 254.625,155.9531 L253.2969,155.9531 L253.2969,158.6406 Z M253.2969,163.4219 L254.7969,163.4219 Q255.7031,163.4219 256.2344,163.0313 Q256.7656,162.6406 256.7656,161.8906 Q256.7656,161.125 256.2656,160.6563 Q255.7656,160.1719 254.5,160.1719 L253.2969,160.1719 L253.2969,163.4219 Z \"/><text fill=\"#000000\" font-family=\"sans-serif\" font-size=\"12\" lengthAdjust=\"spacingAndGlyphs\" textLength=\"3\" x=\"268.5\" y=\"164.1543\">I</text><line style=\"stroke: #A80036; stroke-width: 1.5;\" x1=\"240.5\" x2=\"273.5\" y1=\"176\" y2=\"176\"/></a><!--MD5=[96f4274e9e20536e775497830990834d]\n",
       "class E10--><a href=\"psysml:e0785fbe-faad-409c-b39f-62ae49a7d6e0\" target=\"_top\" title=\"psysml:e0785fbe-faad-409c-b39f-62ae49a7d6e0\" xlink:actuate=\"onRequest\" xlink:href=\"psysml:e0785fbe-faad-409c-b39f-62ae49a7d6e0\" xlink:show=\"new\" xlink:title=\"psysml:e0785fbe-faad-409c-b39f-62ae49a7d6e0\" xlink:type=\"simple\"><rect fill=\"#FEFECE\" filter=\"url(#f12xh1nrzw1oka)\" height=\"45.9375\" id=\"E10\" rx=\"10\" ry=\"10\" style=\"stroke: #A80036; stroke-width: 1.5;\" width=\"68\" x=\"172\" y=\"247\"/><ellipse cx=\"187\" cy=\"265.9688\" fill=\"#0000FF\" rx=\"11\" ry=\"11\" style=\"stroke: #A80036; stroke-width: 1.0;\"/><path d=\"M183.8125,270.9688 L183.8125,260.375 L187.4219,260.375 Q188.6406,260.375 189.4375,260.8125 Q190.2344,261.2344 190.6094,261.9375 Q191,262.6406 191,263.4844 Q191,264.3281 190.625,265.0156 Q190.2656,265.7031 189.4688,266.125 Q188.6875,266.5313 187.5,266.5313 L185.7656,266.5313 L185.7656,270.9688 L183.8125,270.9688 Z M185.7656,264.9375 L187.375,264.9375 Q188.1875,264.9375 188.6094,264.5313 Q189.0313,264.125 189.0313,263.4844 Q189.0313,262.8594 188.6094,262.4531 Q188.1875,262.0469 187.3906,262.0469 L185.7656,262.0469 L185.7656,264.9375 Z \"/><text fill=\"#000000\" font-family=\"sans-serif\" font-size=\"12\" font-style=\"italic\" lengthAdjust=\"spacingAndGlyphs\" textLength=\"40\" x=\"199\" y=\"263.1387\">«port»</text><text fill=\"#000000\" font-family=\"sans-serif\" font-size=\"12\" lengthAdjust=\"spacingAndGlyphs\" textLength=\"32\" x=\"201\" y=\"277.1074\">p1: P</text><line style=\"stroke: #A80036; stroke-width: 1.5;\" x1=\"173\" x2=\"239\" y1=\"284.9375\" y2=\"284.9375\"/></a><!--MD5=[1dd1bfd58a279cf63c5f349dbc8fc6a1]\n",
       "class E11--><a href=\"psysml:a18508b4-2f12-4bca-8dd1-291939c34d14\" target=\"_top\" title=\"psysml:a18508b4-2f12-4bca-8dd1-291939c34d14\" xlink:actuate=\"onRequest\" xlink:href=\"psysml:a18508b4-2f12-4bca-8dd1-291939c34d14\" xlink:show=\"new\" xlink:title=\"psysml:a18508b4-2f12-4bca-8dd1-291939c34d14\" xlink:type=\"simple\"><rect fill=\"#FEFECE\" filter=\"url(#f12xh1nrzw1oka)\" height=\"45.9375\" id=\"E11\" rx=\"10\" ry=\"10\" style=\"stroke: #A80036; stroke-width: 1.5;\" width=\"68\" x=\"275\" y=\"247\"/><ellipse cx=\"290\" cy=\"265.9688\" fill=\"#0000FF\" rx=\"11\" ry=\"11\" style=\"stroke: #A80036; stroke-width: 1.0;\"/><path d=\"M286.8125,270.9688 L286.8125,260.375 L290.4219,260.375 Q291.6406,260.375 292.4375,260.8125 Q293.2344,261.2344 293.6094,261.9375 Q294,262.6406 294,263.4844 Q294,264.3281 293.625,265.0156 Q293.2656,265.7031 292.4688,266.125 Q291.6875,266.5313 290.5,266.5313 L288.7656,266.5313 L288.7656,270.9688 L286.8125,270.9688 Z M288.7656,264.9375 L290.375,264.9375 Q291.1875,264.9375 291.6094,264.5313 Q292.0313,264.125 292.0313,263.4844 Q292.0313,262.8594 291.6094,262.4531 Q291.1875,262.0469 290.3906,262.0469 L288.7656,262.0469 L288.7656,264.9375 Z \"/><text fill=\"#000000\" font-family=\"sans-serif\" font-size=\"12\" font-style=\"italic\" lengthAdjust=\"spacingAndGlyphs\" textLength=\"40\" x=\"302\" y=\"263.1387\">«port»</text><text fill=\"#000000\" font-family=\"sans-serif\" font-size=\"12\" lengthAdjust=\"spacingAndGlyphs\" textLength=\"16\" x=\"312\" y=\"277.1074\">p2</text><line style=\"stroke: #A80036; stroke-width: 1.5;\" x1=\"276\" x2=\"342\" y1=\"284.9375\" y2=\"284.9375\"/></a><!--MD5=[49a0ec8f00dab7302a31f22d0f0fe584]\n",
       "class E12--><a href=\"psysml:cd0027e5-9ed9-4216-bffa-1e31fa367fb3\" target=\"_top\" title=\"psysml:cd0027e5-9ed9-4216-bffa-1e31fa367fb3\" xlink:actuate=\"onRequest\" xlink:href=\"psysml:cd0027e5-9ed9-4216-bffa-1e31fa367fb3\" xlink:show=\"new\" xlink:title=\"psysml:cd0027e5-9ed9-4216-bffa-1e31fa367fb3\" xlink:type=\"simple\"><rect fill=\"#FEFECE\" filter=\"url(#f12xh1nrzw1oka)\" height=\"40\" id=\"E12\" style=\"stroke: #A80036; stroke-width: 1.5;\" width=\"48\" x=\"60\" y=\"41\"/><ellipse cx=\"75\" cy=\"57\" fill=\"#008000\" rx=\"11\" ry=\"11\" style=\"stroke: #A80036; stroke-width: 1.0;\"/><path d=\"M71.875,62 L71.875,51.4063 L75.1094,51.4063 Q77.0156,51.4063 77.9219,52.1563 Q78.8438,52.9063 78.8438,54.0781 Q78.8438,54.7656 78.4531,55.4219 Q78.0781,56.0781 77.3594,56.375 Q78.2188,56.75 78.7344,57.4375 Q79.25,58.125 79.25,58.9375 Q79.25,60.3125 78.2188,61.1563 Q77.2031,62 75.0938,62 L71.875,62 Z M73.7969,55.6406 L74.9531,55.6406 Q76.0781,55.6406 76.4844,55.2656 Q76.9063,54.875 76.9063,54.25 Q76.9063,53.6719 76.4844,53.3125 Q76.0625,52.9531 75.125,52.9531 L73.7969,52.9531 L73.7969,55.6406 Z M73.7969,60.4219 L75.2969,60.4219 Q76.2031,60.4219 76.7344,60.0313 Q77.2656,59.6406 77.2656,58.8906 Q77.2656,58.125 76.7656,57.6563 Q76.2656,57.1719 75,57.1719 L73.7969,57.1719 L73.7969,60.4219 Z \"/><text fill=\"#000000\" font-family=\"sans-serif\" font-size=\"12\" lengthAdjust=\"spacingAndGlyphs\" textLength=\"16\" x=\"89\" y=\"61.1543\">B1</text><line style=\"stroke: #A80036; stroke-width: 1.5;\" x1=\"61\" x2=\"107\" y1=\"73\" y2=\"73\"/></a><!--MD5=[ee3c913d1a06f366521f9ef512b67efe]\n",
       "class E13--><a href=\"psysml:3cf8fc76-e05d-49bd-b29f-3b88a47b72de\" target=\"_top\" title=\"psysml:3cf8fc76-e05d-49bd-b29f-3b88a47b72de\" xlink:actuate=\"onRequest\" xlink:href=\"psysml:3cf8fc76-e05d-49bd-b29f-3b88a47b72de\" xlink:show=\"new\" xlink:title=\"psysml:3cf8fc76-e05d-49bd-b29f-3b88a47b72de\" xlink:type=\"simple\"><rect fill=\"#FEFECE\" filter=\"url(#f12xh1nrzw1oka)\" height=\"45.9375\" id=\"E13\" rx=\"10\" ry=\"10\" style=\"stroke: #A80036; stroke-width: 1.5;\" width=\"68\" x=\"50\" y=\"141\"/><ellipse cx=\"65\" cy=\"159.9688\" fill=\"#32CD32\" rx=\"11\" ry=\"11\" style=\"stroke: #A80036; stroke-width: 1.0;\"/><path d=\"M61.8125,164.9688 L61.8125,154.375 L65.4219,154.375 Q66.6406,154.375 67.4375,154.8125 Q68.2344,155.2344 68.6094,155.9375 Q69,156.6406 69,157.4844 Q69,158.3281 68.625,159.0156 Q68.2656,159.7031 67.4688,160.125 Q66.6875,160.5313 65.5,160.5313 L63.7656,160.5313 L63.7656,164.9688 L61.8125,164.9688 Z M63.7656,158.9375 L65.375,158.9375 Q66.1875,158.9375 66.6094,158.5313 Q67.0313,158.125 67.0313,157.4844 Q67.0313,156.8594 66.6094,156.4531 Q66.1875,156.0469 65.3906,156.0469 L63.7656,156.0469 L63.7656,158.9375 Z \"/><text fill=\"#000000\" font-family=\"sans-serif\" font-size=\"12\" font-style=\"italic\" lengthAdjust=\"spacingAndGlyphs\" textLength=\"40\" x=\"77\" y=\"157.1387\">«part»</text><text fill=\"#000000\" font-family=\"sans-serif\" font-size=\"12\" lengthAdjust=\"spacingAndGlyphs\" textLength=\"8\" x=\"91\" y=\"171.1074\">p</text><line style=\"stroke: #A80036; stroke-width: 1.5;\" x1=\"51\" x2=\"117\" y1=\"178.9375\" y2=\"178.9375\"/></a><!--MD5=[bee11217b2f71d958a27249dc326068c]\n",
       "class E14--><a href=\"psysml:6cf362ef-4bb1-44a5-8272-767638a97c43\" target=\"_top\" title=\"psysml:6cf362ef-4bb1-44a5-8272-767638a97c43\" xlink:actuate=\"onRequest\" xlink:href=\"psysml:6cf362ef-4bb1-44a5-8272-767638a97c43\" xlink:show=\"new\" xlink:title=\"psysml:6cf362ef-4bb1-44a5-8272-767638a97c43\" xlink:type=\"simple\"><rect fill=\"#FEFECE\" filter=\"url(#f12xh1nrzw1oka)\" height=\"45.9375\" id=\"E14\" rx=\"10\" ry=\"10\" style=\"stroke: #A80036; stroke-width: 1.5;\" width=\"68\" x=\"69\" y=\"247\"/><ellipse cx=\"84\" cy=\"265.9688\" fill=\"#0000FF\" rx=\"11\" ry=\"11\" style=\"stroke: #A80036; stroke-width: 1.0;\"/><path d=\"M80.8125,270.9688 L80.8125,260.375 L84.4219,260.375 Q85.6406,260.375 86.4375,260.8125 Q87.2344,261.2344 87.6094,261.9375 Q88,262.6406 88,263.4844 Q88,264.3281 87.625,265.0156 Q87.2656,265.7031 86.4688,266.125 Q85.6875,266.5313 84.5,266.5313 L82.7656,266.5313 L82.7656,270.9688 L80.8125,270.9688 Z M82.7656,264.9375 L84.375,264.9375 Q85.1875,264.9375 85.6094,264.5313 Q86.0313,264.125 86.0313,263.4844 Q86.0313,262.8594 85.6094,262.4531 Q85.1875,262.0469 84.3906,262.0469 L82.7656,262.0469 L82.7656,264.9375 Z \"/><text fill=\"#000000\" font-family=\"sans-serif\" font-size=\"12\" font-style=\"italic\" lengthAdjust=\"spacingAndGlyphs\" textLength=\"40\" x=\"96\" y=\"263.1387\">«port»</text><text fill=\"#000000\" font-family=\"sans-serif\" font-size=\"12\" lengthAdjust=\"spacingAndGlyphs\" textLength=\"32\" x=\"98\" y=\"277.1074\">p1: P</text><line style=\"stroke: #A80036; stroke-width: 1.5;\" x1=\"70\" x2=\"136\" y1=\"284.9375\" y2=\"284.9375\"/></a><!--MD5=[0c48fb7552dae8cbbef69381101a84c8]\n",
       "class E15--><a href=\"psysml:33e7cbb5-c462-4d34-9030-b3438d816b29\" target=\"_top\" title=\"psysml:33e7cbb5-c462-4d34-9030-b3438d816b29\" xlink:actuate=\"onRequest\" xlink:href=\"psysml:33e7cbb5-c462-4d34-9030-b3438d816b29\" xlink:show=\"new\" xlink:title=\"psysml:33e7cbb5-c462-4d34-9030-b3438d816b29\" xlink:type=\"simple\"><rect fill=\"#FEFECE\" filter=\"url(#f12xh1nrzw1oka)\" height=\"45.9375\" id=\"E15\" rx=\"10\" ry=\"10\" style=\"stroke: #A80036; stroke-width: 1.5;\" width=\"68\" x=\"69\" y=\"353\"/><ellipse cx=\"84\" cy=\"371.9688\" fill=\"#0000FF\" rx=\"11\" ry=\"11\" style=\"stroke: #A80036; stroke-width: 1.0;\"/><path d=\"M80.8125,376.9688 L80.8125,366.375 L84.4219,366.375 Q85.6406,366.375 86.4375,366.8125 Q87.2344,367.2344 87.6094,367.9375 Q88,368.6406 88,369.4844 Q88,370.3281 87.625,371.0156 Q87.2656,371.7031 86.4688,372.125 Q85.6875,372.5313 84.5,372.5313 L82.7656,372.5313 L82.7656,376.9688 L80.8125,376.9688 Z M82.7656,370.9375 L84.375,370.9375 Q85.1875,370.9375 85.6094,370.5313 Q86.0313,370.125 86.0313,369.4844 Q86.0313,368.8594 85.6094,368.4531 Q85.1875,368.0469 84.3906,368.0469 L82.7656,368.0469 L82.7656,370.9375 Z \"/><text fill=\"#000000\" font-family=\"sans-serif\" font-size=\"12\" font-style=\"italic\" lengthAdjust=\"spacingAndGlyphs\" textLength=\"40\" x=\"96\" y=\"369.1387\">«port»</text><text fill=\"#000000\" font-family=\"sans-serif\" font-size=\"12\" lengthAdjust=\"spacingAndGlyphs\" textLength=\"16\" x=\"106\" y=\"383.1074\">p2</text><line style=\"stroke: #A80036; stroke-width: 1.5;\" x1=\"70\" x2=\"136\" y1=\"390.9375\" y2=\"390.9375\"/></a><!--MD5=[4672eba38e49728da53d11aeb285b987]\n",
       "reverse link E3 to E4--><a href=\"psysml:e09aa0cf-99c0-4ed5-833c-e6cdd9353c0b\" target=\"_top\" title=\"psysml:e09aa0cf-99c0-4ed5-833c-e6cdd9353c0b\" xlink:actuate=\"onRequest\" xlink:href=\"psysml:e09aa0cf-99c0-4ed5-833c-e6cdd9353c0b\" xlink:show=\"new\" xlink:title=\"psysml:e09aa0cf-99c0-4ed5-833c-e6cdd9353c0b\" xlink:type=\"simple\"><path d=\"M653.9,195.8 C645.87,212.18 636.18,231.94 628.89,246.8 \" fill=\"none\" id=\"E3&lt;-E4\" style=\"stroke: #A80036; stroke-width: 1.0;\"/><polygon fill=\"#FFFFFF\" points=\"659.65,184.08,653.4156,187.7038,654.3627,194.8524,660.5971,191.2286,659.65,184.08\" style=\"stroke: #A80036; stroke-width: 1.0;\"/><text fill=\"#000000\" font-family=\"sans-serif\" font-size=\"13\" lengthAdjust=\"spacingAndGlyphs\" textLength=\"8\" x=\"622.6556\" y=\"236.025\">1</text></a><!--MD5=[185131fc0dcab0a4505a2ebe144e961b]\n",
       "link E4 to E2--><a href=\"psysml:d96439d0-54ae-42c8-b560-5f0ede470e61\" target=\"_top\" title=\"psysml:d96439d0-54ae-42c8-b560-5f0ede470e61\" xlink:actuate=\"onRequest\" xlink:href=\"psysml:d96439d0-54ae-42c8-b560-5f0ede470e61\" xlink:show=\"new\" xlink:title=\"psysml:d96439d0-54ae-42c8-b560-5f0ede470e61\" xlink:type=\"simple\"><path d=\"M583.88,286.23 C578.28,288.58 572.5,290.92 567,293 C505.62,316.21 434.41,339.1 383.55,354.77 \" fill=\"none\" id=\"E4-&gt;E2\" style=\"stroke: #A80036; stroke-width: 1.0;\"/><polygon fill=\"#FFFFFF\" points=\"364.1,360.72,380.2154,348.4605,384.3171,361.8462,364.1,360.72\" style=\"stroke: #A80036; stroke-width: 1.0;\"/><ellipse cx=\"386.2512\" cy=\"348.7028\" fill=\"#A80036\" rx=\"2\" ry=\"2\" style=\"stroke: #A80036; stroke-width: 1.0;\"/><ellipse cx=\"389.181\" cy=\"358.264\" fill=\"#A80036\" rx=\"2\" ry=\"2\" style=\"stroke: #A80036; stroke-width: 1.0;\"/></a><!--MD5=[191cde3d490a3f6d7bb551fe3ddca469]\n",
       "reverse link E3 to E5--><a href=\"psysml:880a21a1-46d7-4f3d-9543-241b40e3ab4a\" target=\"_top\" title=\"psysml:880a21a1-46d7-4f3d-9543-241b40e3ab4a\" xlink:actuate=\"onRequest\" xlink:href=\"psysml:880a21a1-46d7-4f3d-9543-241b40e3ab4a\" xlink:show=\"new\" xlink:title=\"psysml:880a21a1-46d7-4f3d-9543-241b40e3ab4a\" xlink:type=\"simple\"><path d=\"M684.4,195.8 C692.59,212.18 702.47,231.94 709.9,246.8 \" fill=\"none\" id=\"E3&lt;-E5\" style=\"stroke: #A80036; stroke-width: 1.0;\"/><polygon fill=\"#FFFFFF\" points=\"678.54,184.08,677.6456,191.2354,683.9066,194.8131,684.801,187.6577,678.54,184.08\" style=\"stroke: #A80036; stroke-width: 1.0;\"/><text fill=\"#000000\" font-family=\"sans-serif\" font-size=\"13\" lengthAdjust=\"spacingAndGlyphs\" textLength=\"8\" x=\"698.0306\" y=\"236.025\">1</text></a><!--MD5=[3f50a3473f1dfb74d3f76443e03635af]\n",
       "reverse link E6 to E7--><a href=\"psysml:98390341-db8e-40b6-aced-fec2311e0a9d\" target=\"_top\" title=\"psysml:98390341-db8e-40b6-aced-fec2311e0a9d\" xlink:actuate=\"onRequest\" xlink:href=\"psysml:98390341-db8e-40b6-aced-fec2311e0a9d\" xlink:show=\"new\" xlink:title=\"psysml:98390341-db8e-40b6-aced-fec2311e0a9d\" xlink:type=\"simple\"><path d=\"M447.9,195.8 C439.87,212.18 430.18,231.94 422.89,246.8 \" fill=\"none\" id=\"E6&lt;-E7\" style=\"stroke: #A80036; stroke-width: 1.0;\"/><polygon fill=\"#FFFFFF\" points=\"453.65,184.08,447.4156,187.7038,448.3627,194.8524,454.5971,191.2286,453.65,184.08\" style=\"stroke: #A80036; stroke-width: 1.0;\"/><text fill=\"#000000\" font-family=\"sans-serif\" font-size=\"13\" lengthAdjust=\"spacingAndGlyphs\" textLength=\"8\" x=\"416.6556\" y=\"236.025\">1</text></a><!--MD5=[583832df87f4419a098336a29a52fa00]\n",
       "link E7 to E2--><a href=\"psysml:6f9217eb-859f-4957-bc31-6c1306f83367\" target=\"_top\" title=\"psysml:6f9217eb-859f-4957-bc31-6c1306f83367\" xlink:actuate=\"onRequest\" xlink:href=\"psysml:6f9217eb-859f-4957-bc31-6c1306f83367\" xlink:show=\"new\" xlink:title=\"psysml:6f9217eb-859f-4957-bc31-6c1306f83367\" xlink:type=\"simple\"><path d=\"M391.64,293.06 C379.55,306.15 363.91,323.1 349.99,338.18 \" fill=\"none\" id=\"E7-&gt;E2\" style=\"stroke: #A80036; stroke-width: 1.0;\"/><polygon fill=\"#FFFFFF\" points=\"336.33,352.98,344.0752,334.2714,354.3617,343.7682,336.33,352.98\" style=\"stroke: #A80036; stroke-width: 1.0;\"/><ellipse cx=\"349.4112\" cy=\"331.44\" fill=\"#A80036\" rx=\"2\" ry=\"2\" style=\"stroke: #A80036; stroke-width: 1.0;\"/><ellipse cx=\"356.7587\" cy=\"338.2234\" fill=\"#A80036\" rx=\"2\" ry=\"2\" style=\"stroke: #A80036; stroke-width: 1.0;\"/></a><!--MD5=[f4cf0736d43fd73c4ef68817c49d37d5]\n",
       "reverse link E6 to E8--><a href=\"psysml:15a7c7be-761e-4e1c-a126-babbedfba5ca\" target=\"_top\" title=\"psysml:15a7c7be-761e-4e1c-a126-babbedfba5ca\" xlink:actuate=\"onRequest\" xlink:href=\"psysml:15a7c7be-761e-4e1c-a126-babbedfba5ca\" xlink:show=\"new\" xlink:title=\"psysml:15a7c7be-761e-4e1c-a126-babbedfba5ca\" xlink:type=\"simple\"><path d=\"M478.4,195.8 C486.59,212.18 496.47,231.94 503.9,246.8 \" fill=\"none\" id=\"E6&lt;-E8\" style=\"stroke: #A80036; stroke-width: 1.0;\"/><polygon fill=\"#FFFFFF\" points=\"472.54,184.08,471.6456,191.2354,477.9066,194.8131,478.801,187.6577,472.54,184.08\" style=\"stroke: #A80036; stroke-width: 1.0;\"/><text fill=\"#000000\" font-family=\"sans-serif\" font-size=\"13\" lengthAdjust=\"spacingAndGlyphs\" textLength=\"8\" x=\"492.0306\" y=\"236.025\">1</text></a><!--MD5=[23ac544a70576c3e717098101004234c]\n",
       "reverse link E9 to E10--><a href=\"psysml:a15de342-1742-4b99-9b86-ed8c6fb30ab8\" target=\"_top\" title=\"psysml:a15de342-1742-4b99-9b86-ed8c6fb30ab8\" xlink:actuate=\"onRequest\" xlink:href=\"psysml:a15de342-1742-4b99-9b86-ed8c6fb30ab8\" xlink:show=\"new\" xlink:title=\"psysml:a15de342-1742-4b99-9b86-ed8c6fb30ab8\" xlink:type=\"simple\"><path d=\"M241.9,195.8 C233.87,212.18 224.18,231.94 216.89,246.8 \" fill=\"none\" id=\"E9&lt;-E10\" style=\"stroke: #A80036; stroke-width: 1.0;\"/><polygon fill=\"#FFFFFF\" points=\"247.65,184.08,241.4156,187.7038,242.3627,194.8524,248.5971,191.2286,247.65,184.08\" style=\"stroke: #A80036; stroke-width: 1.0;\"/><text fill=\"#000000\" font-family=\"sans-serif\" font-size=\"13\" lengthAdjust=\"spacingAndGlyphs\" textLength=\"8\" x=\"210.6556\" y=\"236.025\">1</text></a><!--MD5=[0f36bececdf0dff6e600d6f64214b0f1]\n",
       "link E10 to E2--><a href=\"psysml:81b1dfc1-849b-47a4-a859-9ae7a728ef15\" target=\"_top\" title=\"psysml:81b1dfc1-849b-47a4-a859-9ae7a728ef15\" xlink:actuate=\"onRequest\" xlink:href=\"psysml:81b1dfc1-849b-47a4-a859-9ae7a728ef15\" xlink:show=\"new\" xlink:title=\"psysml:81b1dfc1-849b-47a4-a859-9ae7a728ef15\" xlink:type=\"simple\"><path d=\"M229.33,293.06 C243.47,306.43 261.86,323.81 278.06,339.13 \" fill=\"none\" id=\"E10-&gt;E2\" style=\"stroke: #A80036; stroke-width: 1.0;\"/><polygon fill=\"#FFFFFF\" points=\"292.71,352.98,274.0966,345.0087,283.7172,334.838,292.71,352.98\" style=\"stroke: #A80036; stroke-width: 1.0;\"/><ellipse cx=\"271.33\" cy=\"339.6388\" fill=\"#A80036\" rx=\"2\" ry=\"2\" style=\"stroke: #A80036; stroke-width: 1.0;\"/><ellipse cx=\"278.2019\" cy=\"332.374\" fill=\"#A80036\" rx=\"2\" ry=\"2\" style=\"stroke: #A80036; stroke-width: 1.0;\"/></a><!--MD5=[1fc04a95fd77ad5ce46c1a3027516051]\n",
       "reverse link E9 to E11--><a href=\"psysml:fe2242fc-88cc-4430-bc2f-98e79ba2cc70\" target=\"_top\" title=\"psysml:fe2242fc-88cc-4430-bc2f-98e79ba2cc70\" xlink:actuate=\"onRequest\" xlink:href=\"psysml:fe2242fc-88cc-4430-bc2f-98e79ba2cc70\" xlink:show=\"new\" xlink:title=\"psysml:fe2242fc-88cc-4430-bc2f-98e79ba2cc70\" xlink:type=\"simple\"><path d=\"M272.4,195.8 C280.59,212.18 290.47,231.94 297.9,246.8 \" fill=\"none\" id=\"E9&lt;-E11\" style=\"stroke: #A80036; stroke-width: 1.0;\"/><polygon fill=\"#FFFFFF\" points=\"266.54,184.08,265.6456,191.2354,271.9066,194.8131,272.801,187.6577,266.54,184.08\" style=\"stroke: #A80036; stroke-width: 1.0;\"/><text fill=\"#000000\" font-family=\"sans-serif\" font-size=\"13\" lengthAdjust=\"spacingAndGlyphs\" textLength=\"8\" x=\"286.0306\" y=\"236.025\">1</text></a><!--MD5=[062ed86c389d1a88f61c6380d0491e17]\n",
       "reverse link E12 to E13--><a href=\"psysml:0c56cab0-046e-4827-a921-af226384c943\" target=\"_top\" title=\"psysml:0c56cab0-046e-4827-a921-af226384c943\" xlink:actuate=\"onRequest\" xlink:href=\"psysml:0c56cab0-046e-4827-a921-af226384c943\" xlink:show=\"new\" xlink:title=\"psysml:0c56cab0-046e-4827-a921-af226384c943\" xlink:type=\"simple\"><path d=\"M84,94.47 C84,109.59 84,127.2 84,140.77 \" fill=\"none\" id=\"E12&lt;-E13\" style=\"stroke: #A80036; stroke-width: 1.0;\"/><polygon fill=\"#FFFFFF\" points=\"84,81.47,80,87.47,84,93.47,88,87.47,84,81.47\" style=\"stroke: #A80036; stroke-width: 1.0;\"/><text fill=\"#000000\" font-family=\"sans-serif\" font-size=\"13\" lengthAdjust=\"spacingAndGlyphs\" textLength=\"8\" x=\"74.975\" y=\"129.9874\">1</text></a><!--MD5=[01db00f33b28669d6d9febea71002831]\n",
       "reverse link E13 to E14--><a href=\"psysml:12334834-5f3e-4b20-9f0b-aad671391bfa\" target=\"_top\" title=\"psysml:12334834-5f3e-4b20-9f0b-aad671391bfa\" xlink:actuate=\"onRequest\" xlink:href=\"psysml:12334834-5f3e-4b20-9f0b-aad671391bfa\" xlink:show=\"new\" xlink:title=\"psysml:12334834-5f3e-4b20-9f0b-aad671391bfa\" xlink:type=\"simple\"><path d=\"M90.39,199.96 C93.23,215.51 96.48,233.33 98.98,246.98 \" fill=\"none\" id=\"E13&lt;-E14\" style=\"stroke: #A80036; stroke-width: 1.0;\"/><polygon fill=\"#FFFFFF\" points=\"88.03,187.06,85.1698,193.6796,90.1801,198.8658,93.0403,192.2462,88.03,187.06\" style=\"stroke: #A80036; stroke-width: 1.0;\"/><text fill=\"#000000\" font-family=\"sans-serif\" font-size=\"13\" lengthAdjust=\"spacingAndGlyphs\" textLength=\"8\" x=\"88.8246\" y=\"235.8709\">1</text></a><!--MD5=[e5566ac99d7714697a7fbc17f6b550fe]\n",
       "link E14 to E2--><a href=\"psysml:f15866fc-26c5-4fac-ba02-f8f796eed5e8\" target=\"_top\" title=\"psysml:f15866fc-26c5-4fac-ba02-f8f796eed5e8\" xlink:actuate=\"onRequest\" xlink:href=\"psysml:f15866fc-26c5-4fac-ba02-f8f796eed5e8\" xlink:show=\"new\" xlink:title=\"psysml:f15866fc-26c5-4fac-ba02-f8f796eed5e8\" xlink:type=\"simple\"><path d=\"M137.22,287.71 C168.28,302.87 214.86,325.62 252.69,344.09 \" fill=\"none\" id=\"E14-&gt;E2\" style=\"stroke: #A80036; stroke-width: 1.0;\"/><polygon fill=\"#FFFFFF\" points=\"270.72,352.89,250.5749,350.8469,256.7156,338.2655,270.72,352.89\" style=\"stroke: #A80036; stroke-width: 1.0;\"/><ellipse cx=\"246.3297\" cy=\"346.5494\" fill=\"#A80036\" rx=\"2\" ry=\"2\" style=\"stroke: #A80036; stroke-width: 1.0;\"/><ellipse cx=\"250.7159\" cy=\"337.5627\" fill=\"#A80036\" rx=\"2\" ry=\"2\" style=\"stroke: #A80036; stroke-width: 1.0;\"/></a><!--MD5=[e9a5e828c71fd2209a11a152f562d491]\n",
       "reverse link E13 to E15--><a href=\"psysml:ce878baa-f80f-4009-adda-6088e19c872e\" target=\"_top\" title=\"psysml:ce878baa-f80f-4009-adda-6088e19c872e\" xlink:actuate=\"onRequest\" xlink:href=\"psysml:ce878baa-f80f-4009-adda-6088e19c872e\" xlink:show=\"new\" xlink:title=\"psysml:ce878baa-f80f-4009-adda-6088e19c872e\" xlink:type=\"simple\"><path d=\"M65.17,199.1 C53.3,224.98 41.82,261.37 51,293 C57.44,315.18 71.88,337.1 83.91,352.69 \" fill=\"none\" id=\"E13&lt;-E15\" style=\"stroke: #A80036; stroke-width: 1.0;\"/><polygon fill=\"#FFFFFF\" points=\"70.93,187.31,64.7009,190.9429,65.6585,198.0902,71.8876,194.4572,70.93,187.31\" style=\"stroke: #A80036; stroke-width: 1.0;\"/><text fill=\"#000000\" font-family=\"sans-serif\" font-size=\"13\" lengthAdjust=\"spacingAndGlyphs\" textLength=\"8\" x=\"69.9932\" y=\"341.8869\">1</text></a><!--MD5=[3afbdc645381407e1bc99677323a2513]\n",
       "link E14 to E15--><a href=\"psysml:1f31a0eb-24e7-4abd-8eab-15c525015988\" target=\"_top\" title=\"psysml:1f31a0eb-24e7-4abd-8eab-15c525015988\" xlink:actuate=\"onRequest\" xlink:href=\"psysml:1f31a0eb-24e7-4abd-8eab-15c525015988\" xlink:show=\"new\" xlink:title=\"psysml:1f31a0eb-24e7-4abd-8eab-15c525015988\" xlink:type=\"simple\"><path d=\"M92.35,293.06 C89.55,310.7 89.55,335.34 92.36,352.98 \" fill=\"none\" id=\"E14-E15\" style=\"stroke: #A80036; stroke-width: 3.0;\"/></a><!--MD5=[3afbdc645381407e1bc99677323a2513]\n",
       "link E14 to E15--><a href=\"psysml:c2fd36d5-55a7-4367-ae55-c3f656adabca\" target=\"_top\" title=\"psysml:c2fd36d5-55a7-4367-ae55-c3f656adabca\" xlink:actuate=\"onRequest\" xlink:href=\"psysml:c2fd36d5-55a7-4367-ae55-c3f656adabca\" xlink:show=\"new\" xlink:title=\"psysml:c2fd36d5-55a7-4367-ae55-c3f656adabca\" xlink:type=\"simple\"><path d=\"M114.27,293.06 C117.24,310.7 117.24,335.34 114.27,352.98 \" fill=\"none\" id=\"E14-E15-1\" style=\"stroke: #A80036; stroke-width: 3.0;\"/></a><!--MD5=[0956b968b2325195e3ebb9813e517712]\n",
       "@startuml\r\n",
       " \r\n",
       "package \"ConjugationTest\" as E1  [[psysml:4e179b45-ef84-478c-a2da-b16af7c43fe7 ]]  {\r\n",
       "comp def \"P\" as E2 << <<(D,brown) port  def>> [[psysml:859d5a2d-b524-488b-9af4-e0f987adcacf ]] {\r\n",
       "}\r\n",
       "comp def \"B\" as E3 << << (B,green) >> [[psysml:615e73ac-8544-4e42-b424-8a4747867d0e ]] {\r\n",
       "}\r\n",
       "comp usage \"p1: P \" as E4 << << (P,blue) port>> [[psysml:37d2c32c-e4e6-4c0b-af75-96cd6556dd4d ]] {\r\n",
       "}\r\n",
       "comp usage \"p2 \" as E5 << << (P,blue) port>> [[psysml:a7d82e4a-e12d-4520-9ae6-c89754eb7506 ]] {\r\n",
       "}\r\n",
       "comp def \"A\" as E6 << << (B,green) >> [[psysml:5cdadcae-4d33-45cc-84a1-e26eca79ba4d ]] {\r\n",
       "}\r\n",
       "comp usage \"p1: P \" as E7 << << (P,blue) port>> [[psysml:7fb982ae-cae7-41b0-848a-52bb93191ec3 ]] {\r\n",
       "}\r\n",
       "comp usage \"p2 \" as E8 << << (P,blue) port>> [[psysml:5c21b9df-62cf-4ee8-9145-76efb13de7e4 ]] {\r\n",
       "}\r\n",
       "comp def \"I\" as E9 << << (B,green) >> [[psysml:2bbab23f-cc40-4354-88cc-493e0b41ffd4 ]] {\r\n",
       "}\r\n",
       "comp usage \"p1: P \" as E10 << << (P,blue) port>> [[psysml:e0785fbe-faad-409c-b39f-62ae49a7d6e0 ]] {\r\n",
       "}\r\n",
       "comp usage \"p2 \" as E11 << << (P,blue) port>> [[psysml:a18508b4-2f12-4bca-8dd1-291939c34d14 ]] {\r\n",
       "}\r\n",
       "comp def \"B1\" as E12 << << (B,green) >> [[psysml:cd0027e5-9ed9-4216-bffa-1e31fa367fb3 ]] {\r\n",
       "}\r\n",
       "comp usage \"p \" as E13 << << (P,limegreen) part>> [[psysml:3cf8fc76-e05d-49bd-b29f-3b88a47b72de ]] {\r\n",
       "}\r\n",
       "comp usage \"p1: P \" as E14 << << (P,blue) port>> [[psysml:6cf362ef-4bb1-44a5-8272-767638a97c43 ]] {\r\n",
       "}\r\n",
       "comp usage \"p2 \" as E15 << << (P,blue) port>> [[psysml:33e7cbb5-c462-4d34-9030-b3438d816b29 ]] {\r\n",
       "}\r\n",
       "}\r\n",
       "E3 o- - \"1\"E4 [[psysml:e09aa0cf-99c0-4ed5-833c-e6cdd9353c0b ]] \r\n",
       "E4 - -:|> E2 [[psysml:d96439d0-54ae-42c8-b560-5f0ede470e61 ]] \r\n",
       "E3 o- - \"1\"E5 [[psysml:880a21a1-46d7-4f3d-9543-241b40e3ab4a ]] \r\n",
       "E6 o- - \"1\"E7 [[psysml:98390341-db8e-40b6-aced-fec2311e0a9d ]] \r\n",
       "E7 - -:|> E2 [[psysml:6f9217eb-859f-4957-bc31-6c1306f83367 ]] \r\n",
       "E6 o- - \"1\"E8 [[psysml:15a7c7be-761e-4e1c-a126-babbedfba5ca ]] \r\n",
       "E9 o- - \"1\"E10 [[psysml:a15de342-1742-4b99-9b86-ed8c6fb30ab8 ]] \r\n",
       "E10 - -:|> E2 [[psysml:81b1dfc1-849b-47a4-a859-9ae7a728ef15 ]] \r\n",
       "E9 o- - \"1\"E11 [[psysml:fe2242fc-88cc-4430-bc2f-98e79ba2cc70 ]] \r\n",
       "E12 o- - \"1\"E13 [[psysml:0c56cab0-046e-4827-a921-af226384c943 ]] \r\n",
       "E13 o- - \"1\"E14 [[psysml:12334834-5f3e-4b20-9f0b-aad671391bfa ]] \r\n",
       "E14 - -:|> E2 [[psysml:f15866fc-26c5-4fac-ba02-f8f796eed5e8 ]] \r\n",
       "E13 o- - \"1\"E15 [[psysml:ce878baa-f80f-4009-adda-6088e19c872e ]] \r\n",
       "E14 -[thickness=3]- E15 [[psysml:1f31a0eb-24e7-4abd-8eab-15c525015988 ]] \r\n",
       "E14 -[thickness=3]- E15 [[psysml:c2fd36d5-55a7-4367-ae55-c3f656adabca ]] \r\n",
       "@enduml\r\n",
       "\n",
       "PlantUML version 1.2020.13(Sat Jun 13 12:26:38 UTC 2020)\n",
       "(EPL source distribution)\n",
       "Java Runtime: OpenJDK Runtime Environment\n",
       "JVM: OpenJDK 64-Bit Server VM\n",
       "Default Encoding: UTF-8\n",
       "Language: en\n",
       "Country: null\n",
       "--></g></svg>"
      ]
     },
     "execution_count": 36,
     "metadata": {},
     "output_type": "execute_result"
    }
   ],
   "source": [
    "%viz --style=\"PLANTUML\" --view=\"MIXED\" \"ConjugationTest\""
   ]
  },
  {
   "cell_type": "code",
   "execution_count": 37,
   "id": "92422459",
   "metadata": {
    "execution": {
     "iopub.execute_input": "2022-08-19T08:18:14.530181Z",
     "iopub.status.busy": "2022-08-19T08:18:14.529733Z",
     "iopub.status.idle": "2022-08-19T08:18:14.579157Z",
     "shell.execute_reply": "2022-08-19T08:18:14.578735Z"
    }
   },
   "outputs": [
    {
     "data": {
      "image/svg+xml": [
       "<?xml version=\"1.0\" encoding=\"UTF-8\" standalone=\"no\"?><svg xmlns=\"http://www.w3.org/2000/svg\" xmlns:xlink=\"http://www.w3.org/1999/xlink\" contentScriptType=\"application/ecmascript\" contentStyleType=\"text/css\" height=\"433px\" preserveAspectRatio=\"none\" style=\"width:611px;height:433px;\" version=\"1.1\" viewBox=\"0 0 611 433\" width=\"611px\" zoomAndPan=\"magnify\"><defs/><g><!--MD5=[fbc87193dbaf4d95561dea2c320d4a47]\n",
       "cluster E1--><a href=\"psysml:4e179b45-ef84-478c-a2da-b16af7c43fe7\" target=\"_top\" title=\"psysml:4e179b45-ef84-478c-a2da-b16af7c43fe7\" xlink:actuate=\"onRequest\" xlink:href=\"psysml:4e179b45-ef84-478c-a2da-b16af7c43fe7\" xlink:show=\"new\" xlink:title=\"psysml:4e179b45-ef84-478c-a2da-b16af7c43fe7\" xlink:type=\"simple\"><polygon fill=\"#FFFFFF\" points=\"16,6,136,6,143,28.2969,589,28.2969,589,421,16,421,16,6\" style=\"stroke: #000000; stroke-width: 1.5;\"/><line style=\"stroke: #000000; stroke-width: 1.5;\" x1=\"16\" x2=\"143\" y1=\"28.2969\" y2=\"28.2969\"/><text fill=\"#000000\" font-family=\"sans-serif\" font-size=\"14\" font-weight=\"bold\" lengthAdjust=\"spacingAndGlyphs\" textLength=\"114\" x=\"20\" y=\"20.9951\">ConjugationTest</text></a><!--MD5=[b4997ac47864f28c2f74865a473b2911]\n",
       "class E2--><a href=\"psysml:859d5a2d-b524-488b-9af4-e0f987adcacf\" target=\"_top\" title=\"psysml:859d5a2d-b524-488b-9af4-e0f987adcacf\" xlink:actuate=\"onRequest\" xlink:href=\"psysml:859d5a2d-b524-488b-9af4-e0f987adcacf\" xlink:show=\"new\" xlink:title=\"psysml:859d5a2d-b524-488b-9af4-e0f987adcacf\" xlink:type=\"simple\"><rect fill=\"#FFFFFF\" height=\"45.9375\" id=\"E2\" style=\"stroke: #383838; stroke-width: 1.5;\" width=\"70\" x=\"216\" y=\"359\"/><text fill=\"#000000\" font-family=\"sans-serif\" font-size=\"12\" font-style=\"italic\" lengthAdjust=\"spacingAndGlyphs\" textLength=\"68\" x=\"217\" y=\"375.1387\">«port  def»</text><text fill=\"#000000\" font-family=\"sans-serif\" font-size=\"12\" lengthAdjust=\"spacingAndGlyphs\" textLength=\"8\" x=\"247\" y=\"389.1074\">P</text><line style=\"stroke: #383838; stroke-width: 1.5;\" x1=\"217\" x2=\"285\" y1=\"396.9375\" y2=\"396.9375\"/></a><!--MD5=[09b614a08d8cba4a07c9adeb5e0fee81]\n",
       "class E3--><a href=\"psysml:615e73ac-8544-4e42-b424-8a4747867d0e\" target=\"_top\" title=\"psysml:615e73ac-8544-4e42-b424-8a4747867d0e\" xlink:actuate=\"onRequest\" xlink:href=\"psysml:615e73ac-8544-4e42-b424-8a4747867d0e\" xlink:show=\"new\" xlink:title=\"psysml:615e73ac-8544-4e42-b424-8a4747867d0e\" xlink:type=\"simple\"><rect fill=\"#FFFFFF\" height=\"45.9375\" id=\"E3\" style=\"stroke: #383838; stroke-width: 1.5;\" width=\"70\" x=\"471\" y=\"147\"/><text fill=\"#000000\" font-family=\"sans-serif\" font-size=\"12\" font-style=\"italic\" lengthAdjust=\"spacingAndGlyphs\" textLength=\"68\" x=\"472\" y=\"163.1387\">«part  def»</text><text fill=\"#000000\" font-family=\"sans-serif\" font-size=\"12\" lengthAdjust=\"spacingAndGlyphs\" textLength=\"8\" x=\"502\" y=\"177.1074\">B</text><line style=\"stroke: #383838; stroke-width: 1.5;\" x1=\"472\" x2=\"540\" y1=\"184.9375\" y2=\"184.9375\"/></a><!--MD5=[ebbe1d658d1005bcc118a6aa81145e00]\n",
       "class E4--><a href=\"psysml:37d2c32c-e4e6-4c0b-af75-96cd6556dd4d\" target=\"_top\" title=\"psysml:37d2c32c-e4e6-4c0b-af75-96cd6556dd4d\" xlink:actuate=\"onRequest\" xlink:href=\"psysml:37d2c32c-e4e6-4c0b-af75-96cd6556dd4d\" xlink:show=\"new\" xlink:title=\"psysml:37d2c32c-e4e6-4c0b-af75-96cd6556dd4d\" xlink:type=\"simple\"><rect fill=\"#FFFFFF\" height=\"45.9375\" id=\"E4\" rx=\"10\" ry=\"10\" style=\"stroke: #383838; stroke-width: 1.5;\" width=\"42\" x=\"454\" y=\"253\"/><text fill=\"#000000\" font-family=\"sans-serif\" font-size=\"12\" font-style=\"italic\" lengthAdjust=\"spacingAndGlyphs\" textLength=\"40\" x=\"455\" y=\"269.1387\">«port»</text><text fill=\"#000000\" font-family=\"sans-serif\" font-size=\"12\" lengthAdjust=\"spacingAndGlyphs\" textLength=\"32\" x=\"457\" y=\"283.1074\">p1: P</text><line style=\"stroke: #383838; stroke-width: 1.5;\" x1=\"455\" x2=\"495\" y1=\"290.9375\" y2=\"290.9375\"/></a><!--MD5=[270fce915f116d4de14055a7c1d9a0f3]\n",
       "class E5--><a href=\"psysml:a7d82e4a-e12d-4520-9ae6-c89754eb7506\" target=\"_top\" title=\"psysml:a7d82e4a-e12d-4520-9ae6-c89754eb7506\" xlink:actuate=\"onRequest\" xlink:href=\"psysml:a7d82e4a-e12d-4520-9ae6-c89754eb7506\" xlink:show=\"new\" xlink:title=\"psysml:a7d82e4a-e12d-4520-9ae6-c89754eb7506\" xlink:type=\"simple\"><rect fill=\"#FFFFFF\" height=\"45.9375\" id=\"E5\" rx=\"10\" ry=\"10\" style=\"stroke: #383838; stroke-width: 1.5;\" width=\"42\" x=\"531\" y=\"253\"/><text fill=\"#000000\" font-family=\"sans-serif\" font-size=\"12\" font-style=\"italic\" lengthAdjust=\"spacingAndGlyphs\" textLength=\"40\" x=\"532\" y=\"269.1387\">«port»</text><text fill=\"#000000\" font-family=\"sans-serif\" font-size=\"12\" lengthAdjust=\"spacingAndGlyphs\" textLength=\"16\" x=\"542\" y=\"283.1074\">p2</text><line style=\"stroke: #383838; stroke-width: 1.5;\" x1=\"532\" x2=\"572\" y1=\"290.9375\" y2=\"290.9375\"/></a><!--MD5=[60a26617385b1d2d0262a64233df1f8d]\n",
       "class E6--><a href=\"psysml:5cdadcae-4d33-45cc-84a1-e26eca79ba4d\" target=\"_top\" title=\"psysml:5cdadcae-4d33-45cc-84a1-e26eca79ba4d\" xlink:actuate=\"onRequest\" xlink:href=\"psysml:5cdadcae-4d33-45cc-84a1-e26eca79ba4d\" xlink:show=\"new\" xlink:title=\"psysml:5cdadcae-4d33-45cc-84a1-e26eca79ba4d\" xlink:type=\"simple\"><rect fill=\"#FFFFFF\" height=\"45.9375\" id=\"E6\" style=\"stroke: #383838; stroke-width: 1.5;\" width=\"114\" x=\"274\" y=\"147\"/><text fill=\"#000000\" font-family=\"sans-serif\" font-size=\"12\" font-style=\"italic\" lengthAdjust=\"spacingAndGlyphs\" textLength=\"112\" x=\"275\" y=\"163.1387\">«connection  def»</text><text fill=\"#000000\" font-family=\"sans-serif\" font-size=\"12\" lengthAdjust=\"spacingAndGlyphs\" textLength=\"8\" x=\"327\" y=\"177.1074\">A</text><line style=\"stroke: #383838; stroke-width: 1.5;\" x1=\"275\" x2=\"387\" y1=\"184.9375\" y2=\"184.9375\"/></a><!--MD5=[2156ba9850f5573cc1fc38a6a4b2f02b]\n",
       "class E7--><a href=\"psysml:7fb982ae-cae7-41b0-848a-52bb93191ec3\" target=\"_top\" title=\"psysml:7fb982ae-cae7-41b0-848a-52bb93191ec3\" xlink:actuate=\"onRequest\" xlink:href=\"psysml:7fb982ae-cae7-41b0-848a-52bb93191ec3\" xlink:show=\"new\" xlink:title=\"psysml:7fb982ae-cae7-41b0-848a-52bb93191ec3\" xlink:type=\"simple\"><rect fill=\"#FFFFFF\" height=\"45.9375\" id=\"E7\" rx=\"10\" ry=\"10\" style=\"stroke: #383838; stroke-width: 1.5;\" width=\"42\" x=\"300\" y=\"253\"/><text fill=\"#000000\" font-family=\"sans-serif\" font-size=\"12\" font-style=\"italic\" lengthAdjust=\"spacingAndGlyphs\" textLength=\"40\" x=\"301\" y=\"269.1387\">«port»</text><text fill=\"#000000\" font-family=\"sans-serif\" font-size=\"12\" lengthAdjust=\"spacingAndGlyphs\" textLength=\"32\" x=\"303\" y=\"283.1074\">p1: P</text><line style=\"stroke: #383838; stroke-width: 1.5;\" x1=\"301\" x2=\"341\" y1=\"290.9375\" y2=\"290.9375\"/></a><!--MD5=[b9389687b975829384b498ac4b7476b2]\n",
       "class E8--><a href=\"psysml:5c21b9df-62cf-4ee8-9145-76efb13de7e4\" target=\"_top\" title=\"psysml:5c21b9df-62cf-4ee8-9145-76efb13de7e4\" xlink:actuate=\"onRequest\" xlink:href=\"psysml:5c21b9df-62cf-4ee8-9145-76efb13de7e4\" xlink:show=\"new\" xlink:title=\"psysml:5c21b9df-62cf-4ee8-9145-76efb13de7e4\" xlink:type=\"simple\"><rect fill=\"#FFFFFF\" height=\"45.9375\" id=\"E8\" rx=\"10\" ry=\"10\" style=\"stroke: #383838; stroke-width: 1.5;\" width=\"42\" x=\"377\" y=\"253\"/><text fill=\"#000000\" font-family=\"sans-serif\" font-size=\"12\" font-style=\"italic\" lengthAdjust=\"spacingAndGlyphs\" textLength=\"40\" x=\"378\" y=\"269.1387\">«port»</text><text fill=\"#000000\" font-family=\"sans-serif\" font-size=\"12\" lengthAdjust=\"spacingAndGlyphs\" textLength=\"16\" x=\"388\" y=\"283.1074\">p2</text><line style=\"stroke: #383838; stroke-width: 1.5;\" x1=\"378\" x2=\"418\" y1=\"290.9375\" y2=\"290.9375\"/></a><!--MD5=[fd4143e9d270a159db93a4ea2a975926]\n",
       "class E9--><a href=\"psysml:2bbab23f-cc40-4354-88cc-493e0b41ffd4\" target=\"_top\" title=\"psysml:2bbab23f-cc40-4354-88cc-493e0b41ffd4\" xlink:actuate=\"onRequest\" xlink:href=\"psysml:2bbab23f-cc40-4354-88cc-493e0b41ffd4\" xlink:show=\"new\" xlink:title=\"psysml:2bbab23f-cc40-4354-88cc-493e0b41ffd4\" xlink:type=\"simple\"><rect fill=\"#FFFFFF\" height=\"45.9375\" id=\"E9\" style=\"stroke: #383838; stroke-width: 1.5;\" width=\"100\" x=\"138\" y=\"147\"/><text fill=\"#000000\" font-family=\"sans-serif\" font-size=\"12\" font-style=\"italic\" lengthAdjust=\"spacingAndGlyphs\" textLength=\"98\" x=\"139\" y=\"163.1387\">«interface  def»</text><text fill=\"#000000\" font-family=\"sans-serif\" font-size=\"12\" lengthAdjust=\"spacingAndGlyphs\" textLength=\"3\" x=\"186.5\" y=\"177.1074\">I</text><line style=\"stroke: #383838; stroke-width: 1.5;\" x1=\"139\" x2=\"237\" y1=\"184.9375\" y2=\"184.9375\"/></a><!--MD5=[96f4274e9e20536e775497830990834d]\n",
       "class E10--><a href=\"psysml:e0785fbe-faad-409c-b39f-62ae49a7d6e0\" target=\"_top\" title=\"psysml:e0785fbe-faad-409c-b39f-62ae49a7d6e0\" xlink:actuate=\"onRequest\" xlink:href=\"psysml:e0785fbe-faad-409c-b39f-62ae49a7d6e0\" xlink:show=\"new\" xlink:title=\"psysml:e0785fbe-faad-409c-b39f-62ae49a7d6e0\" xlink:type=\"simple\"><rect fill=\"#FFFFFF\" height=\"45.9375\" id=\"E10\" rx=\"10\" ry=\"10\" style=\"stroke: #383838; stroke-width: 1.5;\" width=\"42\" x=\"146\" y=\"253\"/><text fill=\"#000000\" font-family=\"sans-serif\" font-size=\"12\" font-style=\"italic\" lengthAdjust=\"spacingAndGlyphs\" textLength=\"40\" x=\"147\" y=\"269.1387\">«port»</text><text fill=\"#000000\" font-family=\"sans-serif\" font-size=\"12\" lengthAdjust=\"spacingAndGlyphs\" textLength=\"32\" x=\"149\" y=\"283.1074\">p1: P</text><line style=\"stroke: #383838; stroke-width: 1.5;\" x1=\"147\" x2=\"187\" y1=\"290.9375\" y2=\"290.9375\"/></a><!--MD5=[1dd1bfd58a279cf63c5f349dbc8fc6a1]\n",
       "class E11--><a href=\"psysml:a18508b4-2f12-4bca-8dd1-291939c34d14\" target=\"_top\" title=\"psysml:a18508b4-2f12-4bca-8dd1-291939c34d14\" xlink:actuate=\"onRequest\" xlink:href=\"psysml:a18508b4-2f12-4bca-8dd1-291939c34d14\" xlink:show=\"new\" xlink:title=\"psysml:a18508b4-2f12-4bca-8dd1-291939c34d14\" xlink:type=\"simple\"><rect fill=\"#FFFFFF\" height=\"45.9375\" id=\"E11\" rx=\"10\" ry=\"10\" style=\"stroke: #383838; stroke-width: 1.5;\" width=\"42\" x=\"223\" y=\"253\"/><text fill=\"#000000\" font-family=\"sans-serif\" font-size=\"12\" font-style=\"italic\" lengthAdjust=\"spacingAndGlyphs\" textLength=\"40\" x=\"224\" y=\"269.1387\">«port»</text><text fill=\"#000000\" font-family=\"sans-serif\" font-size=\"12\" lengthAdjust=\"spacingAndGlyphs\" textLength=\"16\" x=\"234\" y=\"283.1074\">p2</text><line style=\"stroke: #383838; stroke-width: 1.5;\" x1=\"224\" x2=\"264\" y1=\"290.9375\" y2=\"290.9375\"/></a><!--MD5=[49a0ec8f00dab7302a31f22d0f0fe584]\n",
       "class E12--><a href=\"psysml:cd0027e5-9ed9-4216-bffa-1e31fa367fb3\" target=\"_top\" title=\"psysml:cd0027e5-9ed9-4216-bffa-1e31fa367fb3\" xlink:actuate=\"onRequest\" xlink:href=\"psysml:cd0027e5-9ed9-4216-bffa-1e31fa367fb3\" xlink:show=\"new\" xlink:title=\"psysml:cd0027e5-9ed9-4216-bffa-1e31fa367fb3\" xlink:type=\"simple\"><rect fill=\"#FFFFFF\" height=\"45.9375\" id=\"E12\" style=\"stroke: #383838; stroke-width: 1.5;\" width=\"70\" x=\"44\" y=\"41\"/><text fill=\"#000000\" font-family=\"sans-serif\" font-size=\"12\" font-style=\"italic\" lengthAdjust=\"spacingAndGlyphs\" textLength=\"68\" x=\"45\" y=\"57.1387\">«part  def»</text><text fill=\"#000000\" font-family=\"sans-serif\" font-size=\"12\" lengthAdjust=\"spacingAndGlyphs\" textLength=\"16\" x=\"71\" y=\"71.1074\">B1</text><line style=\"stroke: #383838; stroke-width: 1.5;\" x1=\"45\" x2=\"113\" y1=\"78.9375\" y2=\"78.9375\"/></a><!--MD5=[ee3c913d1a06f366521f9ef512b67efe]\n",
       "class E13--><a href=\"psysml:3cf8fc76-e05d-49bd-b29f-3b88a47b72de\" target=\"_top\" title=\"psysml:3cf8fc76-e05d-49bd-b29f-3b88a47b72de\" xlink:actuate=\"onRequest\" xlink:href=\"psysml:3cf8fc76-e05d-49bd-b29f-3b88a47b72de\" xlink:show=\"new\" xlink:title=\"psysml:3cf8fc76-e05d-49bd-b29f-3b88a47b72de\" xlink:type=\"simple\"><rect fill=\"#FFFFFF\" height=\"45.9375\" id=\"E13\" rx=\"10\" ry=\"10\" style=\"stroke: #383838; stroke-width: 1.5;\" width=\"42\" x=\"58\" y=\"147\"/><text fill=\"#000000\" font-family=\"sans-serif\" font-size=\"12\" font-style=\"italic\" lengthAdjust=\"spacingAndGlyphs\" textLength=\"40\" x=\"59\" y=\"163.1387\">«part»</text><text fill=\"#000000\" font-family=\"sans-serif\" font-size=\"12\" lengthAdjust=\"spacingAndGlyphs\" textLength=\"8\" x=\"73\" y=\"177.1074\">p</text><line style=\"stroke: #383838; stroke-width: 1.5;\" x1=\"59\" x2=\"99\" y1=\"184.9375\" y2=\"184.9375\"/></a><!--MD5=[bee11217b2f71d958a27249dc326068c]\n",
       "class E14--><a href=\"psysml:6cf362ef-4bb1-44a5-8272-767638a97c43\" target=\"_top\" title=\"psysml:6cf362ef-4bb1-44a5-8272-767638a97c43\" xlink:actuate=\"onRequest\" xlink:href=\"psysml:6cf362ef-4bb1-44a5-8272-767638a97c43\" xlink:show=\"new\" xlink:title=\"psysml:6cf362ef-4bb1-44a5-8272-767638a97c43\" xlink:type=\"simple\"><rect fill=\"#FFFFFF\" height=\"45.9375\" id=\"E14\" rx=\"10\" ry=\"10\" style=\"stroke: #383838; stroke-width: 1.5;\" width=\"42\" x=\"69\" y=\"253\"/><text fill=\"#000000\" font-family=\"sans-serif\" font-size=\"12\" font-style=\"italic\" lengthAdjust=\"spacingAndGlyphs\" textLength=\"40\" x=\"70\" y=\"269.1387\">«port»</text><text fill=\"#000000\" font-family=\"sans-serif\" font-size=\"12\" lengthAdjust=\"spacingAndGlyphs\" textLength=\"32\" x=\"72\" y=\"283.1074\">p1: P</text><line style=\"stroke: #383838; stroke-width: 1.5;\" x1=\"70\" x2=\"110\" y1=\"290.9375\" y2=\"290.9375\"/></a><!--MD5=[0c48fb7552dae8cbbef69381101a84c8]\n",
       "class E15--><a href=\"psysml:33e7cbb5-c462-4d34-9030-b3438d816b29\" target=\"_top\" title=\"psysml:33e7cbb5-c462-4d34-9030-b3438d816b29\" xlink:actuate=\"onRequest\" xlink:href=\"psysml:33e7cbb5-c462-4d34-9030-b3438d816b29\" xlink:show=\"new\" xlink:title=\"psysml:33e7cbb5-c462-4d34-9030-b3438d816b29\" xlink:type=\"simple\"><rect fill=\"#FFFFFF\" height=\"45.9375\" id=\"E15\" rx=\"10\" ry=\"10\" style=\"stroke: #383838; stroke-width: 1.5;\" width=\"42\" x=\"69\" y=\"359\"/><text fill=\"#000000\" font-family=\"sans-serif\" font-size=\"12\" font-style=\"italic\" lengthAdjust=\"spacingAndGlyphs\" textLength=\"40\" x=\"70\" y=\"375.1387\">«port»</text><text fill=\"#000000\" font-family=\"sans-serif\" font-size=\"12\" lengthAdjust=\"spacingAndGlyphs\" textLength=\"16\" x=\"80\" y=\"389.1074\">p2</text><line style=\"stroke: #383838; stroke-width: 1.5;\" x1=\"70\" x2=\"110\" y1=\"396.9375\" y2=\"396.9375\"/></a><!--MD5=[4672eba38e49728da53d11aeb285b987]\n",
       "reverse link E3 to E4--><a href=\"psysml:e09aa0cf-99c0-4ed5-833c-e6cdd9353c0b\" target=\"_top\" title=\"psysml:e09aa0cf-99c0-4ed5-833c-e6cdd9353c0b\" xlink:actuate=\"onRequest\" xlink:href=\"psysml:e09aa0cf-99c0-4ed5-833c-e6cdd9353c0b\" xlink:show=\"new\" xlink:title=\"psysml:e09aa0cf-99c0-4ed5-833c-e6cdd9353c0b\" xlink:type=\"simple\"><path d=\"M495.58,205.96 C490.95,221.51 485.63,239.33 481.56,252.98 \" fill=\"none\" id=\"E3&lt;-E4\" style=\"stroke: #383838; stroke-width: 1.0;\"/><polygon fill=\"#FFFFFF\" points=\"499.43,193.06,493.8824,197.6669,496.0012,204.5597,501.5488,199.9528,499.43,193.06\" style=\"stroke: #383838; stroke-width: 1.0;\"/><text fill=\"#000000\" font-family=\"sans-serif\" font-size=\"13\" lengthAdjust=\"spacingAndGlyphs\" textLength=\"8\" x=\"474.248\" y=\"241.8709\">1</text></a><!--MD5=[185131fc0dcab0a4505a2ebe144e961b]\n",
       "link E4 to E2--><a href=\"psysml:d96439d0-54ae-42c8-b560-5f0ede470e61\" target=\"_top\" title=\"psysml:d96439d0-54ae-42c8-b560-5f0ede470e61\" xlink:actuate=\"onRequest\" xlink:href=\"psysml:d96439d0-54ae-42c8-b560-5f0ede470e61\" xlink:show=\"new\" xlink:title=\"psysml:d96439d0-54ae-42c8-b560-5f0ede470e61\" xlink:type=\"simple\"><path d=\"M453.92,289.75 C448.47,292.89 442.57,296.17 437,299 C393.29,321.2 342.25,343.45 304.71,359.16 \" fill=\"none\" id=\"E4-&gt;E2\" style=\"stroke: #383838; stroke-width: 1.0;\"/><polygon fill=\"#FFFFFF\" points=\"286.15,366.85,301.0211,353.1077,306.3823,366.0405,286.15,366.85\" style=\"stroke: #383838; stroke-width: 1.0;\"/><ellipse cx=\"307.0525\" cy=\"352.7725\" fill=\"#383838\" rx=\"2\" ry=\"2\" style=\"stroke: #383838; stroke-width: 1.0;\"/><ellipse cx=\"310.8819\" cy=\"362.0102\" fill=\"#383838\" rx=\"2\" ry=\"2\" style=\"stroke: #383838; stroke-width: 1.0;\"/></a><!--MD5=[191cde3d490a3f6d7bb551fe3ddca469]\n",
       "reverse link E3 to E5--><a href=\"psysml:880a21a1-46d7-4f3d-9543-241b40e3ab4a\" target=\"_top\" title=\"psysml:880a21a1-46d7-4f3d-9543-241b40e3ab4a\" xlink:actuate=\"onRequest\" xlink:href=\"psysml:880a21a1-46d7-4f3d-9543-241b40e3ab4a\" xlink:show=\"new\" xlink:title=\"psysml:880a21a1-46d7-4f3d-9543-241b40e3ab4a\" xlink:type=\"simple\"><path d=\"M521.05,205.03 C528.02,220.78 536.1,239.06 542.26,252.98 \" fill=\"none\" id=\"E3&lt;-E5\" style=\"stroke: #383838; stroke-width: 1.0;\"/><polygon fill=\"#FFFFFF\" points=\"515.76,193.06,514.5329,200.1659,520.6202,204.0317,521.8473,196.9258,515.76,193.06\" style=\"stroke: #383838; stroke-width: 1.0;\"/><text fill=\"#000000\" font-family=\"sans-serif\" font-size=\"13\" lengthAdjust=\"spacingAndGlyphs\" textLength=\"8\" x=\"530.5674\" y=\"241.8709\">1</text></a><!--MD5=[3f50a3473f1dfb74d3f76443e03635af]\n",
       "reverse link E6 to E7--><a href=\"psysml:98390341-db8e-40b6-aced-fec2311e0a9d\" target=\"_top\" title=\"psysml:98390341-db8e-40b6-aced-fec2311e0a9d\" xlink:actuate=\"onRequest\" xlink:href=\"psysml:98390341-db8e-40b6-aced-fec2311e0a9d\" xlink:show=\"new\" xlink:title=\"psysml:98390341-db8e-40b6-aced-fec2311e0a9d\" xlink:type=\"simple\"><path d=\"M327.59,206.44 C326.11,221.87 324.42,239.47 323.12,252.98 \" fill=\"none\" id=\"E6&lt;-E7\" style=\"stroke: #383838; stroke-width: 1.0;\"/><polygon fill=\"#FFFFFF\" points=\"328.88,193.06,324.3242,198.6497,327.7317,205.0049,332.2875,199.4152,328.88,193.06\" style=\"stroke: #383838; stroke-width: 1.0;\"/><text fill=\"#000000\" font-family=\"sans-serif\" font-size=\"13\" lengthAdjust=\"spacingAndGlyphs\" textLength=\"8\" x=\"314.6148\" y=\"241.8709\">1</text></a><!--MD5=[583832df87f4419a098336a29a52fa00]\n",
       "link E7 to E2--><a href=\"psysml:6f9217eb-859f-4957-bc31-6c1306f83367\" target=\"_top\" title=\"psysml:6f9217eb-859f-4957-bc31-6c1306f83367\" xlink:actuate=\"onRequest\" xlink:href=\"psysml:6f9217eb-859f-4957-bc31-6c1306f83367\" xlink:show=\"new\" xlink:title=\"psysml:6f9217eb-859f-4957-bc31-6c1306f83367\" xlink:type=\"simple\"><path d=\"M306.15,299.06 C297.71,311.6 286.89,327.68 277.07,342.26 \" fill=\"none\" id=\"E7-&gt;E2\" style=\"stroke: #383838; stroke-width: 1.0;\"/><polygon fill=\"#FFFFFF\" points=\"265.82,358.98,270.609,339.306,282.2284,347.1156,265.82,358.98\" style=\"stroke: #383838; stroke-width: 1.0;\"/><ellipse cx=\"275.4486\" cy=\"335.6909\" fill=\"#383838\" rx=\"2\" ry=\"2\" style=\"stroke: #383838; stroke-width: 1.0;\"/><ellipse cx=\"283.7481\" cy=\"341.2692\" fill=\"#383838\" rx=\"2\" ry=\"2\" style=\"stroke: #383838; stroke-width: 1.0;\"/></a><!--MD5=[f4cf0736d43fd73c4ef68817c49d37d5]\n",
       "reverse link E6 to E8--><a href=\"psysml:15a7c7be-761e-4e1c-a126-babbedfba5ca\" target=\"_top\" title=\"psysml:15a7c7be-761e-4e1c-a126-babbedfba5ca\" xlink:actuate=\"onRequest\" xlink:href=\"psysml:15a7c7be-761e-4e1c-a126-babbedfba5ca\" xlink:show=\"new\" xlink:title=\"psysml:15a7c7be-761e-4e1c-a126-babbedfba5ca\" xlink:type=\"simple\"><path d=\"M352.32,204.09 C362.61,220.06 374.67,238.78 383.81,252.98 \" fill=\"none\" id=\"E6&lt;-E8\" style=\"stroke: #383838; stroke-width: 1.0;\"/><polygon fill=\"#FFFFFF\" points=\"345.21,193.06,345.0979,200.2702,351.7104,203.1469,351.8225,195.9366,345.21,193.06\" style=\"stroke: #383838; stroke-width: 1.0;\"/><text fill=\"#000000\" font-family=\"sans-serif\" font-size=\"13\" lengthAdjust=\"spacingAndGlyphs\" textLength=\"8\" x=\"370.9214\" y=\"241.8709\">1</text></a><!--MD5=[23ac544a70576c3e717098101004234c]\n",
       "reverse link E9 to E10--><a href=\"psysml:a15de342-1742-4b99-9b86-ed8c6fb30ab8\" target=\"_top\" title=\"psysml:a15de342-1742-4b99-9b86-ed8c6fb30ab8\" xlink:actuate=\"onRequest\" xlink:href=\"psysml:a15de342-1742-4b99-9b86-ed8c6fb30ab8\" xlink:show=\"new\" xlink:title=\"psysml:a15de342-1742-4b99-9b86-ed8c6fb30ab8\" xlink:type=\"simple\"><path d=\"M180.94,205.96 C177.8,221.51 174.2,239.33 171.45,252.98 \" fill=\"none\" id=\"E9&lt;-E10\" style=\"stroke: #383838; stroke-width: 1.0;\"/><polygon fill=\"#FFFFFF\" points=\"183.55,193.06,178.4422,198.1502,181.1763,204.8229,186.2841,199.7327,183.55,193.06\" style=\"stroke: #383838; stroke-width: 1.0;\"/><text fill=\"#000000\" font-family=\"sans-serif\" font-size=\"13\" lengthAdjust=\"spacingAndGlyphs\" textLength=\"8\" x=\"163.5709\" y=\"241.8709\">1</text></a><!--MD5=[0f36bececdf0dff6e600d6f64214b0f1]\n",
       "link E10 to E2--><a href=\"psysml:81b1dfc1-849b-47a4-a859-9ae7a728ef15\" target=\"_top\" title=\"psysml:81b1dfc1-849b-47a4-a859-9ae7a728ef15\" xlink:actuate=\"onRequest\" xlink:href=\"psysml:81b1dfc1-849b-47a4-a859-9ae7a728ef15\" xlink:show=\"new\" xlink:title=\"psysml:81b1dfc1-849b-47a4-a859-9ae7a728ef15\" xlink:type=\"simple\"><path d=\"M184.81,299.06 C195.17,311.88 208.51,328.39 220.49,343.22 \" fill=\"none\" id=\"E10-&gt;E2\" style=\"stroke: #383838; stroke-width: 1.0;\"/><polygon fill=\"#FFFFFF\" points=\"233.21,358.98,215.8236,348.6016,226.7127,339.8023,233.21,358.98\" style=\"stroke: #383838; stroke-width: 1.0;\"/><ellipse cx=\"213.7966\" cy=\"342.9111\" fill=\"#383838\" rx=\"2\" ry=\"2\" style=\"stroke: #383838; stroke-width: 1.0;\"/><ellipse cx=\"221.5745\" cy=\"336.6259\" fill=\"#383838\" rx=\"2\" ry=\"2\" style=\"stroke: #383838; stroke-width: 1.0;\"/></a><!--MD5=[1fc04a95fd77ad5ce46c1a3027516051]\n",
       "reverse link E9 to E11--><a href=\"psysml:fe2242fc-88cc-4430-bc2f-98e79ba2cc70\" target=\"_top\" title=\"psysml:fe2242fc-88cc-4430-bc2f-98e79ba2cc70\" xlink:actuate=\"onRequest\" xlink:href=\"psysml:fe2242fc-88cc-4430-bc2f-98e79ba2cc70\" xlink:show=\"new\" xlink:title=\"psysml:fe2242fc-88cc-4430-bc2f-98e79ba2cc70\" xlink:type=\"simple\"><path d=\"M206.07,204.56 C214.61,220.42 224.57,238.92 232.14,252.98 \" fill=\"none\" id=\"E9&lt;-E11\" style=\"stroke: #383838; stroke-width: 1.0;\"/><polygon fill=\"#FFFFFF\" points=\"199.88,193.06,199.2038,200.2393,205.5708,203.6248,206.247,196.4455,199.88,193.06\" style=\"stroke: #383838; stroke-width: 1.0;\"/><text fill=\"#000000\" font-family=\"sans-serif\" font-size=\"13\" lengthAdjust=\"spacingAndGlyphs\" textLength=\"8\" x=\"219.8776\" y=\"241.8709\">1</text></a><!--MD5=[062ed86c389d1a88f61c6380d0491e17]\n",
       "reverse link E12 to E13--><a href=\"psysml:0c56cab0-046e-4827-a921-af226384c943\" target=\"_top\" title=\"psysml:0c56cab0-046e-4827-a921-af226384c943\" xlink:actuate=\"onRequest\" xlink:href=\"psysml:0c56cab0-046e-4827-a921-af226384c943\" xlink:show=\"new\" xlink:title=\"psysml:0c56cab0-046e-4827-a921-af226384c943\" xlink:type=\"simple\"><path d=\"M79,100.44 C79,115.87 79,133.47 79,146.98 \" fill=\"none\" id=\"E12&lt;-E13\" style=\"stroke: #383838; stroke-width: 1.0;\"/><polygon fill=\"#FFFFFF\" points=\"79,87.06,75,93.06,79,99.06,83,93.06,79,87.06\" style=\"stroke: #383838; stroke-width: 1.0;\"/><text fill=\"#000000\" font-family=\"sans-serif\" font-size=\"13\" lengthAdjust=\"spacingAndGlyphs\" textLength=\"8\" x=\"69.925\" y=\"135.8709\">1</text></a><!--MD5=[01db00f33b28669d6d9febea71002831]\n",
       "reverse link E13 to E14--><a href=\"psysml:12334834-5f3e-4b20-9f0b-aad671391bfa\" target=\"_top\" title=\"psysml:12334834-5f3e-4b20-9f0b-aad671391bfa\" xlink:actuate=\"onRequest\" xlink:href=\"psysml:12334834-5f3e-4b20-9f0b-aad671391bfa\" xlink:show=\"new\" xlink:title=\"psysml:12334834-5f3e-4b20-9f0b-aad671391bfa\" xlink:type=\"simple\"><path d=\"M82.75,206.44 C84.38,221.87 86.24,239.47 87.67,252.98 \" fill=\"none\" id=\"E13&lt;-E14\" style=\"stroke: #383838; stroke-width: 1.0;\"/><polygon fill=\"#FFFFFF\" points=\"81.33,193.06,77.9783,199.4448,82.5828,204.9944,85.9345,198.6096,81.33,193.06\" style=\"stroke: #383838; stroke-width: 1.0;\"/><text fill=\"#000000\" font-family=\"sans-serif\" font-size=\"13\" lengthAdjust=\"spacingAndGlyphs\" textLength=\"8\" x=\"77.9688\" y=\"241.8709\">1</text></a><!--MD5=[e5566ac99d7714697a7fbc17f6b550fe]\n",
       "link E14 to E2--><a href=\"psysml:f15866fc-26c5-4fac-ba02-f8f796eed5e8\" target=\"_top\" title=\"psysml:f15866fc-26c5-4fac-ba02-f8f796eed5e8\" xlink:actuate=\"onRequest\" xlink:href=\"psysml:f15866fc-26c5-4fac-ba02-f8f796eed5e8\" xlink:show=\"new\" xlink:title=\"psysml:f15866fc-26c5-4fac-ba02-f8f796eed5e8\" xlink:type=\"simple\"><path d=\"M111.05,290.6 C133.49,305.09 169.87,328.59 199.91,348 \" fill=\"none\" id=\"E14-&gt;E2\" style=\"stroke: #383838; stroke-width: 1.0;\"/><polygon fill=\"#FFFFFF\" points=\"216.71,358.85,196.9529,354.4164,204.5518,342.6581,216.71,358.85\" style=\"stroke: #383838; stroke-width: 1.0;\"/><ellipse cx=\"193.2512\" cy=\"349.6428\" fill=\"#383838\" rx=\"2\" ry=\"2\" style=\"stroke: #383838; stroke-width: 1.0;\"/><ellipse cx=\"198.6789\" cy=\"341.244\" fill=\"#383838\" rx=\"2\" ry=\"2\" style=\"stroke: #383838; stroke-width: 1.0;\"/></a><!--MD5=[e9a5e828c71fd2209a11a152f562d491]\n",
       "reverse link E13 to E15--><a href=\"psysml:ce878baa-f80f-4009-adda-6088e19c872e\" target=\"_top\" title=\"psysml:ce878baa-f80f-4009-adda-6088e19c872e\" xlink:actuate=\"onRequest\" xlink:href=\"psysml:ce878baa-f80f-4009-adda-6088e19c872e\" xlink:show=\"new\" xlink:title=\"psysml:ce878baa-f80f-4009-adda-6088e19c872e\" xlink:type=\"simple\"><path d=\"M63.75,205.34 C54.23,231.13 45.02,267.31 52,299 C56.73,320.45 67.65,342.96 76.58,358.96 \" fill=\"none\" id=\"E13&lt;-E15\" style=\"stroke: #383838; stroke-width: 1.0;\"/><polygon fill=\"#FFFFFF\" points=\"68.52,193.23,62.5978,197.3443,64.1179,204.3934,70.0401,200.2791,68.52,193.23\" style=\"stroke: #383838; stroke-width: 1.0;\"/><text fill=\"#000000\" font-family=\"sans-serif\" font-size=\"13\" lengthAdjust=\"spacingAndGlyphs\" textLength=\"8\" x=\"63.8984\" y=\"347.8455\">1</text></a><!--MD5=[3afbdc645381407e1bc99677323a2513]\n",
       "link E14 to E15--><a href=\"psysml:1f31a0eb-24e7-4abd-8eab-15c525015988\" target=\"_top\" title=\"psysml:1f31a0eb-24e7-4abd-8eab-15c525015988\" xlink:actuate=\"onRequest\" xlink:href=\"psysml:1f31a0eb-24e7-4abd-8eab-15c525015988\" xlink:show=\"new\" xlink:title=\"psysml:1f31a0eb-24e7-4abd-8eab-15c525015988\" xlink:type=\"simple\"><path d=\"M79.35,299.06 C76.55,316.7 76.55,341.34 79.36,358.98 \" fill=\"none\" id=\"E14-E15\" style=\"stroke: #383838; stroke-width: 3.0;\"/></a><!--MD5=[3afbdc645381407e1bc99677323a2513]\n",
       "link E14 to E15--><a href=\"psysml:c2fd36d5-55a7-4367-ae55-c3f656adabca\" target=\"_top\" title=\"psysml:c2fd36d5-55a7-4367-ae55-c3f656adabca\" xlink:actuate=\"onRequest\" xlink:href=\"psysml:c2fd36d5-55a7-4367-ae55-c3f656adabca\" xlink:show=\"new\" xlink:title=\"psysml:c2fd36d5-55a7-4367-ae55-c3f656adabca\" xlink:type=\"simple\"><path d=\"M101.27,299.06 C104.24,316.7 104.24,341.34 101.27,358.98 \" fill=\"none\" id=\"E14-E15-1\" style=\"stroke: #383838; stroke-width: 3.0;\"/></a><!--MD5=[77b6c103d87ec1dff4994508715f95b3]\n",
       "@startuml\r\n",
       "skinparam monochrome true\r\n",
       "skinparam classbackgroundcolor white\r\n",
       "skinparam shadowing false\r\n",
       "skinparam wrapWidth 300\r\n",
       "hide circle\r\n",
       "\r\n",
       "package \"ConjugationTest\" as E1  [[psysml:4e179b45-ef84-478c-a2da-b16af7c43fe7 ]]  {\r\n",
       "comp def \"P\" as E2  <<(T,blue) port  def>> [[psysml:859d5a2d-b524-488b-9af4-e0f987adcacf ]] {\r\n",
       "}\r\n",
       "comp def \"B\" as E3  <<(T,blue) part  def>> [[psysml:615e73ac-8544-4e42-b424-8a4747867d0e ]] {\r\n",
       "}\r\n",
       "comp usage \"p1: P \" as E4  <<(T,blue) port>> [[psysml:37d2c32c-e4e6-4c0b-af75-96cd6556dd4d ]] {\r\n",
       "}\r\n",
       "comp usage \"p2 \" as E5  <<(T,blue) port>> [[psysml:a7d82e4a-e12d-4520-9ae6-c89754eb7506 ]] {\r\n",
       "}\r\n",
       "comp def \"A\" as E6  <<(T,blue) connection  def>> [[psysml:5cdadcae-4d33-45cc-84a1-e26eca79ba4d ]] {\r\n",
       "}\r\n",
       "comp usage \"p1: P \" as E7  <<(T,blue) port>> [[psysml:7fb982ae-cae7-41b0-848a-52bb93191ec3 ]] {\r\n",
       "}\r\n",
       "comp usage \"p2 \" as E8  <<(T,blue) port>> [[psysml:5c21b9df-62cf-4ee8-9145-76efb13de7e4 ]] {\r\n",
       "}\r\n",
       "comp def \"I\" as E9  <<(T,blue) interface  def>> [[psysml:2bbab23f-cc40-4354-88cc-493e0b41ffd4 ]] {\r\n",
       "}\r\n",
       "comp usage \"p1: P \" as E10  <<(T,blue) port>> [[psysml:e0785fbe-faad-409c-b39f-62ae49a7d6e0 ]] {\r\n",
       "}\r\n",
       "comp usage \"p2 \" as E11  <<(T,blue) port>> [[psysml:a18508b4-2f12-4bca-8dd1-291939c34d14 ]] {\r\n",
       "}\r\n",
       "comp def \"B1\" as E12  <<(T,blue) part  def>> [[psysml:cd0027e5-9ed9-4216-bffa-1e31fa367fb3 ]] {\r\n",
       "}\r\n",
       "comp usage \"p \" as E13  <<(T,blue) part>> [[psysml:3cf8fc76-e05d-49bd-b29f-3b88a47b72de ]] {\r\n",
       "}\r\n",
       "comp usage \"p1: P \" as E14  <<(T,blue) port>> [[psysml:6cf362ef-4bb1-44a5-8272-767638a97c43 ]] {\r\n",
       "}\r\n",
       "comp usage \"p2 \" as E15  <<(T,blue) port>> [[psysml:33e7cbb5-c462-4d34-9030-b3438d816b29 ]] {\r\n",
       "}\r\n",
       "}\r\n",
       "E3 o- - \"1\"E4 [[psysml:e09aa0cf-99c0-4ed5-833c-e6cdd9353c0b ]] \r\n",
       "E4 - -:|> E2 [[psysml:d96439d0-54ae-42c8-b560-5f0ede470e61 ]] \r\n",
       "E3 o- - \"1\"E5 [[psysml:880a21a1-46d7-4f3d-9543-241b40e3ab4a ]] \r\n",
       "E6 o- - \"1\"E7 [[psysml:98390341-db8e-40b6-aced-fec2311e0a9d ]] \r\n",
       "E7 - -:|> E2 [[psysml:6f9217eb-859f-4957-bc31-6c1306f83367 ]] \r\n",
       "E6 o- - \"1\"E8 [[psysml:15a7c7be-761e-4e1c-a126-babbedfba5ca ]] \r\n",
       "E9 o- - \"1\"E10 [[psysml:a15de342-1742-4b99-9b86-ed8c6fb30ab8 ]] \r\n",
       "E10 - -:|> E2 [[psysml:81b1dfc1-849b-47a4-a859-9ae7a728ef15 ]] \r\n",
       "E9 o- - \"1\"E11 [[psysml:fe2242fc-88cc-4430-bc2f-98e79ba2cc70 ]] \r\n",
       "E12 o- - \"1\"E13 [[psysml:0c56cab0-046e-4827-a921-af226384c943 ]] \r\n",
       "E13 o- - \"1\"E14 [[psysml:12334834-5f3e-4b20-9f0b-aad671391bfa ]] \r\n",
       "E14 - -:|> E2 [[psysml:f15866fc-26c5-4fac-ba02-f8f796eed5e8 ]] \r\n",
       "E13 o- - \"1\"E15 [[psysml:ce878baa-f80f-4009-adda-6088e19c872e ]] \r\n",
       "E14 -[thickness=3]- E15 [[psysml:1f31a0eb-24e7-4abd-8eab-15c525015988 ]] \r\n",
       "E14 -[thickness=3]- E15 [[psysml:c2fd36d5-55a7-4367-ae55-c3f656adabca ]] \r\n",
       "@enduml\r\n",
       "\n",
       "PlantUML version 1.2020.13(Sat Jun 13 12:26:38 UTC 2020)\n",
       "(EPL source distribution)\n",
       "Java Runtime: OpenJDK Runtime Environment\n",
       "JVM: OpenJDK 64-Bit Server VM\n",
       "Default Encoding: UTF-8\n",
       "Language: en\n",
       "Country: null\n",
       "--></g></svg>"
      ]
     },
     "execution_count": 37,
     "metadata": {},
     "output_type": "execute_result"
    }
   ],
   "source": [
    "%viz --style=\"DEFAULT\" --view=\"Default\" \"ConjugationTest\""
   ]
  },
  {
   "cell_type": "code",
   "execution_count": 38,
   "id": "9a55d89d",
   "metadata": {
    "execution": {
     "iopub.execute_input": "2022-08-19T08:18:14.628711Z",
     "iopub.status.busy": "2022-08-19T08:18:14.628240Z",
     "iopub.status.idle": "2022-08-19T08:18:14.676382Z",
     "shell.execute_reply": "2022-08-19T08:18:14.675963Z"
    }
   },
   "outputs": [
    {
     "data": {
      "image/svg+xml": [
       "<?xml version=\"1.0\" encoding=\"UTF-8\" standalone=\"no\"?><svg xmlns=\"http://www.w3.org/2000/svg\" xmlns:xlink=\"http://www.w3.org/1999/xlink\" contentScriptType=\"application/ecmascript\" contentStyleType=\"text/css\" height=\"433px\" preserveAspectRatio=\"none\" style=\"width:611px;height:433px;\" version=\"1.1\" viewBox=\"0 0 611 433\" width=\"611px\" zoomAndPan=\"magnify\"><defs/><g><!--MD5=[fbc87193dbaf4d95561dea2c320d4a47]\n",
       "cluster E1--><a href=\"psysml:4e179b45-ef84-478c-a2da-b16af7c43fe7\" target=\"_top\" title=\"psysml:4e179b45-ef84-478c-a2da-b16af7c43fe7\" xlink:actuate=\"onRequest\" xlink:href=\"psysml:4e179b45-ef84-478c-a2da-b16af7c43fe7\" xlink:show=\"new\" xlink:title=\"psysml:4e179b45-ef84-478c-a2da-b16af7c43fe7\" xlink:type=\"simple\"><polygon fill=\"#FFFFFF\" points=\"16,6,136,6,143,28.2969,589,28.2969,589,421,16,421,16,6\" style=\"stroke: #000000; stroke-width: 1.5;\"/><line style=\"stroke: #000000; stroke-width: 1.5;\" x1=\"16\" x2=\"143\" y1=\"28.2969\" y2=\"28.2969\"/><text fill=\"#000000\" font-family=\"sans-serif\" font-size=\"14\" font-weight=\"bold\" lengthAdjust=\"spacingAndGlyphs\" textLength=\"114\" x=\"20\" y=\"20.9951\">ConjugationTest</text></a><!--MD5=[b4997ac47864f28c2f74865a473b2911]\n",
       "class E2--><a href=\"psysml:859d5a2d-b524-488b-9af4-e0f987adcacf\" target=\"_top\" title=\"psysml:859d5a2d-b524-488b-9af4-e0f987adcacf\" xlink:actuate=\"onRequest\" xlink:href=\"psysml:859d5a2d-b524-488b-9af4-e0f987adcacf\" xlink:show=\"new\" xlink:title=\"psysml:859d5a2d-b524-488b-9af4-e0f987adcacf\" xlink:type=\"simple\"><rect fill=\"#FFFFFF\" height=\"45.9375\" id=\"E2\" style=\"stroke: #383838; stroke-width: 1.5;\" width=\"70\" x=\"216\" y=\"359\"/><text fill=\"#000000\" font-family=\"sans-serif\" font-size=\"12\" font-style=\"italic\" lengthAdjust=\"spacingAndGlyphs\" textLength=\"68\" x=\"217\" y=\"375.1387\">«port  def»</text><text fill=\"#000000\" font-family=\"sans-serif\" font-size=\"12\" lengthAdjust=\"spacingAndGlyphs\" textLength=\"8\" x=\"247\" y=\"389.1074\">P</text><line style=\"stroke: #383838; stroke-width: 1.5;\" x1=\"217\" x2=\"285\" y1=\"396.9375\" y2=\"396.9375\"/></a><!--MD5=[09b614a08d8cba4a07c9adeb5e0fee81]\n",
       "class E3--><a href=\"psysml:615e73ac-8544-4e42-b424-8a4747867d0e\" target=\"_top\" title=\"psysml:615e73ac-8544-4e42-b424-8a4747867d0e\" xlink:actuate=\"onRequest\" xlink:href=\"psysml:615e73ac-8544-4e42-b424-8a4747867d0e\" xlink:show=\"new\" xlink:title=\"psysml:615e73ac-8544-4e42-b424-8a4747867d0e\" xlink:type=\"simple\"><rect fill=\"#FFFFFF\" height=\"45.9375\" id=\"E3\" style=\"stroke: #383838; stroke-width: 1.5;\" width=\"70\" x=\"471\" y=\"147\"/><text fill=\"#000000\" font-family=\"sans-serif\" font-size=\"12\" font-style=\"italic\" lengthAdjust=\"spacingAndGlyphs\" textLength=\"68\" x=\"472\" y=\"163.1387\">«part  def»</text><text fill=\"#000000\" font-family=\"sans-serif\" font-size=\"12\" lengthAdjust=\"spacingAndGlyphs\" textLength=\"8\" x=\"502\" y=\"177.1074\">B</text><line style=\"stroke: #383838; stroke-width: 1.5;\" x1=\"472\" x2=\"540\" y1=\"184.9375\" y2=\"184.9375\"/></a><!--MD5=[ebbe1d658d1005bcc118a6aa81145e00]\n",
       "class E4--><a href=\"psysml:37d2c32c-e4e6-4c0b-af75-96cd6556dd4d\" target=\"_top\" title=\"psysml:37d2c32c-e4e6-4c0b-af75-96cd6556dd4d\" xlink:actuate=\"onRequest\" xlink:href=\"psysml:37d2c32c-e4e6-4c0b-af75-96cd6556dd4d\" xlink:show=\"new\" xlink:title=\"psysml:37d2c32c-e4e6-4c0b-af75-96cd6556dd4d\" xlink:type=\"simple\"><rect fill=\"#FFFFFF\" height=\"45.9375\" id=\"E4\" rx=\"10\" ry=\"10\" style=\"stroke: #383838; stroke-width: 1.5;\" width=\"42\" x=\"454\" y=\"253\"/><text fill=\"#000000\" font-family=\"sans-serif\" font-size=\"12\" font-style=\"italic\" lengthAdjust=\"spacingAndGlyphs\" textLength=\"40\" x=\"455\" y=\"269.1387\">«port»</text><text fill=\"#000000\" font-family=\"sans-serif\" font-size=\"12\" lengthAdjust=\"spacingAndGlyphs\" textLength=\"32\" x=\"457\" y=\"283.1074\">p1: P</text><line style=\"stroke: #383838; stroke-width: 1.5;\" x1=\"455\" x2=\"495\" y1=\"290.9375\" y2=\"290.9375\"/></a><!--MD5=[270fce915f116d4de14055a7c1d9a0f3]\n",
       "class E5--><a href=\"psysml:a7d82e4a-e12d-4520-9ae6-c89754eb7506\" target=\"_top\" title=\"psysml:a7d82e4a-e12d-4520-9ae6-c89754eb7506\" xlink:actuate=\"onRequest\" xlink:href=\"psysml:a7d82e4a-e12d-4520-9ae6-c89754eb7506\" xlink:show=\"new\" xlink:title=\"psysml:a7d82e4a-e12d-4520-9ae6-c89754eb7506\" xlink:type=\"simple\"><rect fill=\"#FFFFFF\" height=\"45.9375\" id=\"E5\" rx=\"10\" ry=\"10\" style=\"stroke: #383838; stroke-width: 1.5;\" width=\"42\" x=\"531\" y=\"253\"/><text fill=\"#000000\" font-family=\"sans-serif\" font-size=\"12\" font-style=\"italic\" lengthAdjust=\"spacingAndGlyphs\" textLength=\"40\" x=\"532\" y=\"269.1387\">«port»</text><text fill=\"#000000\" font-family=\"sans-serif\" font-size=\"12\" lengthAdjust=\"spacingAndGlyphs\" textLength=\"16\" x=\"542\" y=\"283.1074\">p2</text><line style=\"stroke: #383838; stroke-width: 1.5;\" x1=\"532\" x2=\"572\" y1=\"290.9375\" y2=\"290.9375\"/></a><!--MD5=[60a26617385b1d2d0262a64233df1f8d]\n",
       "class E6--><a href=\"psysml:5cdadcae-4d33-45cc-84a1-e26eca79ba4d\" target=\"_top\" title=\"psysml:5cdadcae-4d33-45cc-84a1-e26eca79ba4d\" xlink:actuate=\"onRequest\" xlink:href=\"psysml:5cdadcae-4d33-45cc-84a1-e26eca79ba4d\" xlink:show=\"new\" xlink:title=\"psysml:5cdadcae-4d33-45cc-84a1-e26eca79ba4d\" xlink:type=\"simple\"><rect fill=\"#FFFFFF\" height=\"45.9375\" id=\"E6\" style=\"stroke: #383838; stroke-width: 1.5;\" width=\"114\" x=\"274\" y=\"147\"/><text fill=\"#000000\" font-family=\"sans-serif\" font-size=\"12\" font-style=\"italic\" lengthAdjust=\"spacingAndGlyphs\" textLength=\"112\" x=\"275\" y=\"163.1387\">«connection  def»</text><text fill=\"#000000\" font-family=\"sans-serif\" font-size=\"12\" lengthAdjust=\"spacingAndGlyphs\" textLength=\"8\" x=\"327\" y=\"177.1074\">A</text><line style=\"stroke: #383838; stroke-width: 1.5;\" x1=\"275\" x2=\"387\" y1=\"184.9375\" y2=\"184.9375\"/></a><!--MD5=[2156ba9850f5573cc1fc38a6a4b2f02b]\n",
       "class E7--><a href=\"psysml:7fb982ae-cae7-41b0-848a-52bb93191ec3\" target=\"_top\" title=\"psysml:7fb982ae-cae7-41b0-848a-52bb93191ec3\" xlink:actuate=\"onRequest\" xlink:href=\"psysml:7fb982ae-cae7-41b0-848a-52bb93191ec3\" xlink:show=\"new\" xlink:title=\"psysml:7fb982ae-cae7-41b0-848a-52bb93191ec3\" xlink:type=\"simple\"><rect fill=\"#FFFFFF\" height=\"45.9375\" id=\"E7\" rx=\"10\" ry=\"10\" style=\"stroke: #383838; stroke-width: 1.5;\" width=\"42\" x=\"300\" y=\"253\"/><text fill=\"#000000\" font-family=\"sans-serif\" font-size=\"12\" font-style=\"italic\" lengthAdjust=\"spacingAndGlyphs\" textLength=\"40\" x=\"301\" y=\"269.1387\">«port»</text><text fill=\"#000000\" font-family=\"sans-serif\" font-size=\"12\" lengthAdjust=\"spacingAndGlyphs\" textLength=\"32\" x=\"303\" y=\"283.1074\">p1: P</text><line style=\"stroke: #383838; stroke-width: 1.5;\" x1=\"301\" x2=\"341\" y1=\"290.9375\" y2=\"290.9375\"/></a><!--MD5=[b9389687b975829384b498ac4b7476b2]\n",
       "class E8--><a href=\"psysml:5c21b9df-62cf-4ee8-9145-76efb13de7e4\" target=\"_top\" title=\"psysml:5c21b9df-62cf-4ee8-9145-76efb13de7e4\" xlink:actuate=\"onRequest\" xlink:href=\"psysml:5c21b9df-62cf-4ee8-9145-76efb13de7e4\" xlink:show=\"new\" xlink:title=\"psysml:5c21b9df-62cf-4ee8-9145-76efb13de7e4\" xlink:type=\"simple\"><rect fill=\"#FFFFFF\" height=\"45.9375\" id=\"E8\" rx=\"10\" ry=\"10\" style=\"stroke: #383838; stroke-width: 1.5;\" width=\"42\" x=\"377\" y=\"253\"/><text fill=\"#000000\" font-family=\"sans-serif\" font-size=\"12\" font-style=\"italic\" lengthAdjust=\"spacingAndGlyphs\" textLength=\"40\" x=\"378\" y=\"269.1387\">«port»</text><text fill=\"#000000\" font-family=\"sans-serif\" font-size=\"12\" lengthAdjust=\"spacingAndGlyphs\" textLength=\"16\" x=\"388\" y=\"283.1074\">p2</text><line style=\"stroke: #383838; stroke-width: 1.5;\" x1=\"378\" x2=\"418\" y1=\"290.9375\" y2=\"290.9375\"/></a><!--MD5=[fd4143e9d270a159db93a4ea2a975926]\n",
       "class E9--><a href=\"psysml:2bbab23f-cc40-4354-88cc-493e0b41ffd4\" target=\"_top\" title=\"psysml:2bbab23f-cc40-4354-88cc-493e0b41ffd4\" xlink:actuate=\"onRequest\" xlink:href=\"psysml:2bbab23f-cc40-4354-88cc-493e0b41ffd4\" xlink:show=\"new\" xlink:title=\"psysml:2bbab23f-cc40-4354-88cc-493e0b41ffd4\" xlink:type=\"simple\"><rect fill=\"#FFFFFF\" height=\"45.9375\" id=\"E9\" style=\"stroke: #383838; stroke-width: 1.5;\" width=\"100\" x=\"138\" y=\"147\"/><text fill=\"#000000\" font-family=\"sans-serif\" font-size=\"12\" font-style=\"italic\" lengthAdjust=\"spacingAndGlyphs\" textLength=\"98\" x=\"139\" y=\"163.1387\">«interface  def»</text><text fill=\"#000000\" font-family=\"sans-serif\" font-size=\"12\" lengthAdjust=\"spacingAndGlyphs\" textLength=\"3\" x=\"186.5\" y=\"177.1074\">I</text><line style=\"stroke: #383838; stroke-width: 1.5;\" x1=\"139\" x2=\"237\" y1=\"184.9375\" y2=\"184.9375\"/></a><!--MD5=[96f4274e9e20536e775497830990834d]\n",
       "class E10--><a href=\"psysml:e0785fbe-faad-409c-b39f-62ae49a7d6e0\" target=\"_top\" title=\"psysml:e0785fbe-faad-409c-b39f-62ae49a7d6e0\" xlink:actuate=\"onRequest\" xlink:href=\"psysml:e0785fbe-faad-409c-b39f-62ae49a7d6e0\" xlink:show=\"new\" xlink:title=\"psysml:e0785fbe-faad-409c-b39f-62ae49a7d6e0\" xlink:type=\"simple\"><rect fill=\"#FFFFFF\" height=\"45.9375\" id=\"E10\" rx=\"10\" ry=\"10\" style=\"stroke: #383838; stroke-width: 1.5;\" width=\"42\" x=\"146\" y=\"253\"/><text fill=\"#000000\" font-family=\"sans-serif\" font-size=\"12\" font-style=\"italic\" lengthAdjust=\"spacingAndGlyphs\" textLength=\"40\" x=\"147\" y=\"269.1387\">«port»</text><text fill=\"#000000\" font-family=\"sans-serif\" font-size=\"12\" lengthAdjust=\"spacingAndGlyphs\" textLength=\"32\" x=\"149\" y=\"283.1074\">p1: P</text><line style=\"stroke: #383838; stroke-width: 1.5;\" x1=\"147\" x2=\"187\" y1=\"290.9375\" y2=\"290.9375\"/></a><!--MD5=[1dd1bfd58a279cf63c5f349dbc8fc6a1]\n",
       "class E11--><a href=\"psysml:a18508b4-2f12-4bca-8dd1-291939c34d14\" target=\"_top\" title=\"psysml:a18508b4-2f12-4bca-8dd1-291939c34d14\" xlink:actuate=\"onRequest\" xlink:href=\"psysml:a18508b4-2f12-4bca-8dd1-291939c34d14\" xlink:show=\"new\" xlink:title=\"psysml:a18508b4-2f12-4bca-8dd1-291939c34d14\" xlink:type=\"simple\"><rect fill=\"#FFFFFF\" height=\"45.9375\" id=\"E11\" rx=\"10\" ry=\"10\" style=\"stroke: #383838; stroke-width: 1.5;\" width=\"42\" x=\"223\" y=\"253\"/><text fill=\"#000000\" font-family=\"sans-serif\" font-size=\"12\" font-style=\"italic\" lengthAdjust=\"spacingAndGlyphs\" textLength=\"40\" x=\"224\" y=\"269.1387\">«port»</text><text fill=\"#000000\" font-family=\"sans-serif\" font-size=\"12\" lengthAdjust=\"spacingAndGlyphs\" textLength=\"16\" x=\"234\" y=\"283.1074\">p2</text><line style=\"stroke: #383838; stroke-width: 1.5;\" x1=\"224\" x2=\"264\" y1=\"290.9375\" y2=\"290.9375\"/></a><!--MD5=[49a0ec8f00dab7302a31f22d0f0fe584]\n",
       "class E12--><a href=\"psysml:cd0027e5-9ed9-4216-bffa-1e31fa367fb3\" target=\"_top\" title=\"psysml:cd0027e5-9ed9-4216-bffa-1e31fa367fb3\" xlink:actuate=\"onRequest\" xlink:href=\"psysml:cd0027e5-9ed9-4216-bffa-1e31fa367fb3\" xlink:show=\"new\" xlink:title=\"psysml:cd0027e5-9ed9-4216-bffa-1e31fa367fb3\" xlink:type=\"simple\"><rect fill=\"#FFFFFF\" height=\"45.9375\" id=\"E12\" style=\"stroke: #383838; stroke-width: 1.5;\" width=\"70\" x=\"44\" y=\"41\"/><text fill=\"#000000\" font-family=\"sans-serif\" font-size=\"12\" font-style=\"italic\" lengthAdjust=\"spacingAndGlyphs\" textLength=\"68\" x=\"45\" y=\"57.1387\">«part  def»</text><text fill=\"#000000\" font-family=\"sans-serif\" font-size=\"12\" lengthAdjust=\"spacingAndGlyphs\" textLength=\"16\" x=\"71\" y=\"71.1074\">B1</text><line style=\"stroke: #383838; stroke-width: 1.5;\" x1=\"45\" x2=\"113\" y1=\"78.9375\" y2=\"78.9375\"/></a><!--MD5=[ee3c913d1a06f366521f9ef512b67efe]\n",
       "class E13--><a href=\"psysml:3cf8fc76-e05d-49bd-b29f-3b88a47b72de\" target=\"_top\" title=\"psysml:3cf8fc76-e05d-49bd-b29f-3b88a47b72de\" xlink:actuate=\"onRequest\" xlink:href=\"psysml:3cf8fc76-e05d-49bd-b29f-3b88a47b72de\" xlink:show=\"new\" xlink:title=\"psysml:3cf8fc76-e05d-49bd-b29f-3b88a47b72de\" xlink:type=\"simple\"><rect fill=\"#FFFFFF\" height=\"45.9375\" id=\"E13\" rx=\"10\" ry=\"10\" style=\"stroke: #383838; stroke-width: 1.5;\" width=\"42\" x=\"58\" y=\"147\"/><text fill=\"#000000\" font-family=\"sans-serif\" font-size=\"12\" font-style=\"italic\" lengthAdjust=\"spacingAndGlyphs\" textLength=\"40\" x=\"59\" y=\"163.1387\">«part»</text><text fill=\"#000000\" font-family=\"sans-serif\" font-size=\"12\" lengthAdjust=\"spacingAndGlyphs\" textLength=\"8\" x=\"73\" y=\"177.1074\">p</text><line style=\"stroke: #383838; stroke-width: 1.5;\" x1=\"59\" x2=\"99\" y1=\"184.9375\" y2=\"184.9375\"/></a><!--MD5=[bee11217b2f71d958a27249dc326068c]\n",
       "class E14--><a href=\"psysml:6cf362ef-4bb1-44a5-8272-767638a97c43\" target=\"_top\" title=\"psysml:6cf362ef-4bb1-44a5-8272-767638a97c43\" xlink:actuate=\"onRequest\" xlink:href=\"psysml:6cf362ef-4bb1-44a5-8272-767638a97c43\" xlink:show=\"new\" xlink:title=\"psysml:6cf362ef-4bb1-44a5-8272-767638a97c43\" xlink:type=\"simple\"><rect fill=\"#FFFFFF\" height=\"45.9375\" id=\"E14\" rx=\"10\" ry=\"10\" style=\"stroke: #383838; stroke-width: 1.5;\" width=\"42\" x=\"69\" y=\"253\"/><text fill=\"#000000\" font-family=\"sans-serif\" font-size=\"12\" font-style=\"italic\" lengthAdjust=\"spacingAndGlyphs\" textLength=\"40\" x=\"70\" y=\"269.1387\">«port»</text><text fill=\"#000000\" font-family=\"sans-serif\" font-size=\"12\" lengthAdjust=\"spacingAndGlyphs\" textLength=\"32\" x=\"72\" y=\"283.1074\">p1: P</text><line style=\"stroke: #383838; stroke-width: 1.5;\" x1=\"70\" x2=\"110\" y1=\"290.9375\" y2=\"290.9375\"/></a><!--MD5=[0c48fb7552dae8cbbef69381101a84c8]\n",
       "class E15--><a href=\"psysml:33e7cbb5-c462-4d34-9030-b3438d816b29\" target=\"_top\" title=\"psysml:33e7cbb5-c462-4d34-9030-b3438d816b29\" xlink:actuate=\"onRequest\" xlink:href=\"psysml:33e7cbb5-c462-4d34-9030-b3438d816b29\" xlink:show=\"new\" xlink:title=\"psysml:33e7cbb5-c462-4d34-9030-b3438d816b29\" xlink:type=\"simple\"><rect fill=\"#FFFFFF\" height=\"45.9375\" id=\"E15\" rx=\"10\" ry=\"10\" style=\"stroke: #383838; stroke-width: 1.5;\" width=\"42\" x=\"69\" y=\"359\"/><text fill=\"#000000\" font-family=\"sans-serif\" font-size=\"12\" font-style=\"italic\" lengthAdjust=\"spacingAndGlyphs\" textLength=\"40\" x=\"70\" y=\"375.1387\">«port»</text><text fill=\"#000000\" font-family=\"sans-serif\" font-size=\"12\" lengthAdjust=\"spacingAndGlyphs\" textLength=\"16\" x=\"80\" y=\"389.1074\">p2</text><line style=\"stroke: #383838; stroke-width: 1.5;\" x1=\"70\" x2=\"110\" y1=\"396.9375\" y2=\"396.9375\"/></a><!--MD5=[4672eba38e49728da53d11aeb285b987]\n",
       "reverse link E3 to E4--><a href=\"psysml:e09aa0cf-99c0-4ed5-833c-e6cdd9353c0b\" target=\"_top\" title=\"psysml:e09aa0cf-99c0-4ed5-833c-e6cdd9353c0b\" xlink:actuate=\"onRequest\" xlink:href=\"psysml:e09aa0cf-99c0-4ed5-833c-e6cdd9353c0b\" xlink:show=\"new\" xlink:title=\"psysml:e09aa0cf-99c0-4ed5-833c-e6cdd9353c0b\" xlink:type=\"simple\"><path d=\"M495.58,205.96 C490.95,221.51 485.63,239.33 481.56,252.98 \" fill=\"none\" id=\"E3&lt;-E4\" style=\"stroke: #383838; stroke-width: 1.0;\"/><polygon fill=\"#FFFFFF\" points=\"499.43,193.06,493.8824,197.6669,496.0012,204.5597,501.5488,199.9528,499.43,193.06\" style=\"stroke: #383838; stroke-width: 1.0;\"/><text fill=\"#000000\" font-family=\"sans-serif\" font-size=\"13\" lengthAdjust=\"spacingAndGlyphs\" textLength=\"8\" x=\"474.248\" y=\"241.8709\">1</text></a><!--MD5=[185131fc0dcab0a4505a2ebe144e961b]\n",
       "link E4 to E2--><a href=\"psysml:d96439d0-54ae-42c8-b560-5f0ede470e61\" target=\"_top\" title=\"psysml:d96439d0-54ae-42c8-b560-5f0ede470e61\" xlink:actuate=\"onRequest\" xlink:href=\"psysml:d96439d0-54ae-42c8-b560-5f0ede470e61\" xlink:show=\"new\" xlink:title=\"psysml:d96439d0-54ae-42c8-b560-5f0ede470e61\" xlink:type=\"simple\"><path d=\"M453.92,289.75 C448.47,292.89 442.57,296.17 437,299 C393.29,321.2 342.25,343.45 304.71,359.16 \" fill=\"none\" id=\"E4-&gt;E2\" style=\"stroke: #383838; stroke-width: 1.0;\"/><polygon fill=\"#FFFFFF\" points=\"286.15,366.85,301.0211,353.1077,306.3823,366.0405,286.15,366.85\" style=\"stroke: #383838; stroke-width: 1.0;\"/><ellipse cx=\"307.0525\" cy=\"352.7725\" fill=\"#383838\" rx=\"2\" ry=\"2\" style=\"stroke: #383838; stroke-width: 1.0;\"/><ellipse cx=\"310.8819\" cy=\"362.0102\" fill=\"#383838\" rx=\"2\" ry=\"2\" style=\"stroke: #383838; stroke-width: 1.0;\"/></a><!--MD5=[191cde3d490a3f6d7bb551fe3ddca469]\n",
       "reverse link E3 to E5--><a href=\"psysml:880a21a1-46d7-4f3d-9543-241b40e3ab4a\" target=\"_top\" title=\"psysml:880a21a1-46d7-4f3d-9543-241b40e3ab4a\" xlink:actuate=\"onRequest\" xlink:href=\"psysml:880a21a1-46d7-4f3d-9543-241b40e3ab4a\" xlink:show=\"new\" xlink:title=\"psysml:880a21a1-46d7-4f3d-9543-241b40e3ab4a\" xlink:type=\"simple\"><path d=\"M521.05,205.03 C528.02,220.78 536.1,239.06 542.26,252.98 \" fill=\"none\" id=\"E3&lt;-E5\" style=\"stroke: #383838; stroke-width: 1.0;\"/><polygon fill=\"#FFFFFF\" points=\"515.76,193.06,514.5329,200.1659,520.6202,204.0317,521.8473,196.9258,515.76,193.06\" style=\"stroke: #383838; stroke-width: 1.0;\"/><text fill=\"#000000\" font-family=\"sans-serif\" font-size=\"13\" lengthAdjust=\"spacingAndGlyphs\" textLength=\"8\" x=\"530.5674\" y=\"241.8709\">1</text></a><!--MD5=[3f50a3473f1dfb74d3f76443e03635af]\n",
       "reverse link E6 to E7--><a href=\"psysml:98390341-db8e-40b6-aced-fec2311e0a9d\" target=\"_top\" title=\"psysml:98390341-db8e-40b6-aced-fec2311e0a9d\" xlink:actuate=\"onRequest\" xlink:href=\"psysml:98390341-db8e-40b6-aced-fec2311e0a9d\" xlink:show=\"new\" xlink:title=\"psysml:98390341-db8e-40b6-aced-fec2311e0a9d\" xlink:type=\"simple\"><path d=\"M327.59,206.44 C326.11,221.87 324.42,239.47 323.12,252.98 \" fill=\"none\" id=\"E6&lt;-E7\" style=\"stroke: #383838; stroke-width: 1.0;\"/><polygon fill=\"#FFFFFF\" points=\"328.88,193.06,324.3242,198.6497,327.7317,205.0049,332.2875,199.4152,328.88,193.06\" style=\"stroke: #383838; stroke-width: 1.0;\"/><text fill=\"#000000\" font-family=\"sans-serif\" font-size=\"13\" lengthAdjust=\"spacingAndGlyphs\" textLength=\"8\" x=\"314.6148\" y=\"241.8709\">1</text></a><!--MD5=[583832df87f4419a098336a29a52fa00]\n",
       "link E7 to E2--><a href=\"psysml:6f9217eb-859f-4957-bc31-6c1306f83367\" target=\"_top\" title=\"psysml:6f9217eb-859f-4957-bc31-6c1306f83367\" xlink:actuate=\"onRequest\" xlink:href=\"psysml:6f9217eb-859f-4957-bc31-6c1306f83367\" xlink:show=\"new\" xlink:title=\"psysml:6f9217eb-859f-4957-bc31-6c1306f83367\" xlink:type=\"simple\"><path d=\"M306.15,299.06 C297.71,311.6 286.89,327.68 277.07,342.26 \" fill=\"none\" id=\"E7-&gt;E2\" style=\"stroke: #383838; stroke-width: 1.0;\"/><polygon fill=\"#FFFFFF\" points=\"265.82,358.98,270.609,339.306,282.2284,347.1156,265.82,358.98\" style=\"stroke: #383838; stroke-width: 1.0;\"/><ellipse cx=\"275.4486\" cy=\"335.6909\" fill=\"#383838\" rx=\"2\" ry=\"2\" style=\"stroke: #383838; stroke-width: 1.0;\"/><ellipse cx=\"283.7481\" cy=\"341.2692\" fill=\"#383838\" rx=\"2\" ry=\"2\" style=\"stroke: #383838; stroke-width: 1.0;\"/></a><!--MD5=[f4cf0736d43fd73c4ef68817c49d37d5]\n",
       "reverse link E6 to E8--><a href=\"psysml:15a7c7be-761e-4e1c-a126-babbedfba5ca\" target=\"_top\" title=\"psysml:15a7c7be-761e-4e1c-a126-babbedfba5ca\" xlink:actuate=\"onRequest\" xlink:href=\"psysml:15a7c7be-761e-4e1c-a126-babbedfba5ca\" xlink:show=\"new\" xlink:title=\"psysml:15a7c7be-761e-4e1c-a126-babbedfba5ca\" xlink:type=\"simple\"><path d=\"M352.32,204.09 C362.61,220.06 374.67,238.78 383.81,252.98 \" fill=\"none\" id=\"E6&lt;-E8\" style=\"stroke: #383838; stroke-width: 1.0;\"/><polygon fill=\"#FFFFFF\" points=\"345.21,193.06,345.0979,200.2702,351.7104,203.1469,351.8225,195.9366,345.21,193.06\" style=\"stroke: #383838; stroke-width: 1.0;\"/><text fill=\"#000000\" font-family=\"sans-serif\" font-size=\"13\" lengthAdjust=\"spacingAndGlyphs\" textLength=\"8\" x=\"370.9214\" y=\"241.8709\">1</text></a><!--MD5=[23ac544a70576c3e717098101004234c]\n",
       "reverse link E9 to E10--><a href=\"psysml:a15de342-1742-4b99-9b86-ed8c6fb30ab8\" target=\"_top\" title=\"psysml:a15de342-1742-4b99-9b86-ed8c6fb30ab8\" xlink:actuate=\"onRequest\" xlink:href=\"psysml:a15de342-1742-4b99-9b86-ed8c6fb30ab8\" xlink:show=\"new\" xlink:title=\"psysml:a15de342-1742-4b99-9b86-ed8c6fb30ab8\" xlink:type=\"simple\"><path d=\"M180.94,205.96 C177.8,221.51 174.2,239.33 171.45,252.98 \" fill=\"none\" id=\"E9&lt;-E10\" style=\"stroke: #383838; stroke-width: 1.0;\"/><polygon fill=\"#FFFFFF\" points=\"183.55,193.06,178.4422,198.1502,181.1763,204.8229,186.2841,199.7327,183.55,193.06\" style=\"stroke: #383838; stroke-width: 1.0;\"/><text fill=\"#000000\" font-family=\"sans-serif\" font-size=\"13\" lengthAdjust=\"spacingAndGlyphs\" textLength=\"8\" x=\"163.5709\" y=\"241.8709\">1</text></a><!--MD5=[0f36bececdf0dff6e600d6f64214b0f1]\n",
       "link E10 to E2--><a href=\"psysml:81b1dfc1-849b-47a4-a859-9ae7a728ef15\" target=\"_top\" title=\"psysml:81b1dfc1-849b-47a4-a859-9ae7a728ef15\" xlink:actuate=\"onRequest\" xlink:href=\"psysml:81b1dfc1-849b-47a4-a859-9ae7a728ef15\" xlink:show=\"new\" xlink:title=\"psysml:81b1dfc1-849b-47a4-a859-9ae7a728ef15\" xlink:type=\"simple\"><path d=\"M184.81,299.06 C195.17,311.88 208.51,328.39 220.49,343.22 \" fill=\"none\" id=\"E10-&gt;E2\" style=\"stroke: #383838; stroke-width: 1.0;\"/><polygon fill=\"#FFFFFF\" points=\"233.21,358.98,215.8236,348.6016,226.7127,339.8023,233.21,358.98\" style=\"stroke: #383838; stroke-width: 1.0;\"/><ellipse cx=\"213.7966\" cy=\"342.9111\" fill=\"#383838\" rx=\"2\" ry=\"2\" style=\"stroke: #383838; stroke-width: 1.0;\"/><ellipse cx=\"221.5745\" cy=\"336.6259\" fill=\"#383838\" rx=\"2\" ry=\"2\" style=\"stroke: #383838; stroke-width: 1.0;\"/></a><!--MD5=[1fc04a95fd77ad5ce46c1a3027516051]\n",
       "reverse link E9 to E11--><a href=\"psysml:fe2242fc-88cc-4430-bc2f-98e79ba2cc70\" target=\"_top\" title=\"psysml:fe2242fc-88cc-4430-bc2f-98e79ba2cc70\" xlink:actuate=\"onRequest\" xlink:href=\"psysml:fe2242fc-88cc-4430-bc2f-98e79ba2cc70\" xlink:show=\"new\" xlink:title=\"psysml:fe2242fc-88cc-4430-bc2f-98e79ba2cc70\" xlink:type=\"simple\"><path d=\"M206.07,204.56 C214.61,220.42 224.57,238.92 232.14,252.98 \" fill=\"none\" id=\"E9&lt;-E11\" style=\"stroke: #383838; stroke-width: 1.0;\"/><polygon fill=\"#FFFFFF\" points=\"199.88,193.06,199.2038,200.2393,205.5708,203.6248,206.247,196.4455,199.88,193.06\" style=\"stroke: #383838; stroke-width: 1.0;\"/><text fill=\"#000000\" font-family=\"sans-serif\" font-size=\"13\" lengthAdjust=\"spacingAndGlyphs\" textLength=\"8\" x=\"219.8776\" y=\"241.8709\">1</text></a><!--MD5=[062ed86c389d1a88f61c6380d0491e17]\n",
       "reverse link E12 to E13--><a href=\"psysml:0c56cab0-046e-4827-a921-af226384c943\" target=\"_top\" title=\"psysml:0c56cab0-046e-4827-a921-af226384c943\" xlink:actuate=\"onRequest\" xlink:href=\"psysml:0c56cab0-046e-4827-a921-af226384c943\" xlink:show=\"new\" xlink:title=\"psysml:0c56cab0-046e-4827-a921-af226384c943\" xlink:type=\"simple\"><path d=\"M79,100.44 C79,115.87 79,133.47 79,146.98 \" fill=\"none\" id=\"E12&lt;-E13\" style=\"stroke: #383838; stroke-width: 1.0;\"/><polygon fill=\"#FFFFFF\" points=\"79,87.06,75,93.06,79,99.06,83,93.06,79,87.06\" style=\"stroke: #383838; stroke-width: 1.0;\"/><text fill=\"#000000\" font-family=\"sans-serif\" font-size=\"13\" lengthAdjust=\"spacingAndGlyphs\" textLength=\"8\" x=\"69.925\" y=\"135.8709\">1</text></a><!--MD5=[01db00f33b28669d6d9febea71002831]\n",
       "reverse link E13 to E14--><a href=\"psysml:12334834-5f3e-4b20-9f0b-aad671391bfa\" target=\"_top\" title=\"psysml:12334834-5f3e-4b20-9f0b-aad671391bfa\" xlink:actuate=\"onRequest\" xlink:href=\"psysml:12334834-5f3e-4b20-9f0b-aad671391bfa\" xlink:show=\"new\" xlink:title=\"psysml:12334834-5f3e-4b20-9f0b-aad671391bfa\" xlink:type=\"simple\"><path d=\"M82.75,206.44 C84.38,221.87 86.24,239.47 87.67,252.98 \" fill=\"none\" id=\"E13&lt;-E14\" style=\"stroke: #383838; stroke-width: 1.0;\"/><polygon fill=\"#FFFFFF\" points=\"81.33,193.06,77.9783,199.4448,82.5828,204.9944,85.9345,198.6096,81.33,193.06\" style=\"stroke: #383838; stroke-width: 1.0;\"/><text fill=\"#000000\" font-family=\"sans-serif\" font-size=\"13\" lengthAdjust=\"spacingAndGlyphs\" textLength=\"8\" x=\"77.9688\" y=\"241.8709\">1</text></a><!--MD5=[e5566ac99d7714697a7fbc17f6b550fe]\n",
       "link E14 to E2--><a href=\"psysml:f15866fc-26c5-4fac-ba02-f8f796eed5e8\" target=\"_top\" title=\"psysml:f15866fc-26c5-4fac-ba02-f8f796eed5e8\" xlink:actuate=\"onRequest\" xlink:href=\"psysml:f15866fc-26c5-4fac-ba02-f8f796eed5e8\" xlink:show=\"new\" xlink:title=\"psysml:f15866fc-26c5-4fac-ba02-f8f796eed5e8\" xlink:type=\"simple\"><path d=\"M111.05,290.6 C133.49,305.09 169.87,328.59 199.91,348 \" fill=\"none\" id=\"E14-&gt;E2\" style=\"stroke: #383838; stroke-width: 1.0;\"/><polygon fill=\"#FFFFFF\" points=\"216.71,358.85,196.9529,354.4164,204.5518,342.6581,216.71,358.85\" style=\"stroke: #383838; stroke-width: 1.0;\"/><ellipse cx=\"193.2512\" cy=\"349.6428\" fill=\"#383838\" rx=\"2\" ry=\"2\" style=\"stroke: #383838; stroke-width: 1.0;\"/><ellipse cx=\"198.6789\" cy=\"341.244\" fill=\"#383838\" rx=\"2\" ry=\"2\" style=\"stroke: #383838; stroke-width: 1.0;\"/></a><!--MD5=[e9a5e828c71fd2209a11a152f562d491]\n",
       "reverse link E13 to E15--><a href=\"psysml:ce878baa-f80f-4009-adda-6088e19c872e\" target=\"_top\" title=\"psysml:ce878baa-f80f-4009-adda-6088e19c872e\" xlink:actuate=\"onRequest\" xlink:href=\"psysml:ce878baa-f80f-4009-adda-6088e19c872e\" xlink:show=\"new\" xlink:title=\"psysml:ce878baa-f80f-4009-adda-6088e19c872e\" xlink:type=\"simple\"><path d=\"M63.75,205.34 C54.23,231.13 45.02,267.31 52,299 C56.73,320.45 67.65,342.96 76.58,358.96 \" fill=\"none\" id=\"E13&lt;-E15\" style=\"stroke: #383838; stroke-width: 1.0;\"/><polygon fill=\"#FFFFFF\" points=\"68.52,193.23,62.5978,197.3443,64.1179,204.3934,70.0401,200.2791,68.52,193.23\" style=\"stroke: #383838; stroke-width: 1.0;\"/><text fill=\"#000000\" font-family=\"sans-serif\" font-size=\"13\" lengthAdjust=\"spacingAndGlyphs\" textLength=\"8\" x=\"63.8984\" y=\"347.8455\">1</text></a><!--MD5=[3afbdc645381407e1bc99677323a2513]\n",
       "link E14 to E15--><a href=\"psysml:1f31a0eb-24e7-4abd-8eab-15c525015988\" target=\"_top\" title=\"psysml:1f31a0eb-24e7-4abd-8eab-15c525015988\" xlink:actuate=\"onRequest\" xlink:href=\"psysml:1f31a0eb-24e7-4abd-8eab-15c525015988\" xlink:show=\"new\" xlink:title=\"psysml:1f31a0eb-24e7-4abd-8eab-15c525015988\" xlink:type=\"simple\"><path d=\"M79.35,299.06 C76.55,316.7 76.55,341.34 79.36,358.98 \" fill=\"none\" id=\"E14-E15\" style=\"stroke: #383838; stroke-width: 3.0;\"/></a><!--MD5=[3afbdc645381407e1bc99677323a2513]\n",
       "link E14 to E15--><a href=\"psysml:c2fd36d5-55a7-4367-ae55-c3f656adabca\" target=\"_top\" title=\"psysml:c2fd36d5-55a7-4367-ae55-c3f656adabca\" xlink:actuate=\"onRequest\" xlink:href=\"psysml:c2fd36d5-55a7-4367-ae55-c3f656adabca\" xlink:show=\"new\" xlink:title=\"psysml:c2fd36d5-55a7-4367-ae55-c3f656adabca\" xlink:type=\"simple\"><path d=\"M101.27,299.06 C104.24,316.7 104.24,341.34 101.27,358.98 \" fill=\"none\" id=\"E14-E15-1\" style=\"stroke: #383838; stroke-width: 3.0;\"/></a><!--MD5=[77b6c103d87ec1dff4994508715f95b3]\n",
       "@startuml\r\n",
       "skinparam monochrome true\r\n",
       "skinparam classbackgroundcolor white\r\n",
       "skinparam shadowing false\r\n",
       "skinparam wrapWidth 300\r\n",
       "hide circle\r\n",
       "\r\n",
       "package \"ConjugationTest\" as E1  [[psysml:4e179b45-ef84-478c-a2da-b16af7c43fe7 ]]  {\r\n",
       "comp def \"P\" as E2  <<(T,blue) port  def>> [[psysml:859d5a2d-b524-488b-9af4-e0f987adcacf ]] {\r\n",
       "}\r\n",
       "comp def \"B\" as E3  <<(T,blue) part  def>> [[psysml:615e73ac-8544-4e42-b424-8a4747867d0e ]] {\r\n",
       "}\r\n",
       "comp usage \"p1: P \" as E4  <<(T,blue) port>> [[psysml:37d2c32c-e4e6-4c0b-af75-96cd6556dd4d ]] {\r\n",
       "}\r\n",
       "comp usage \"p2 \" as E5  <<(T,blue) port>> [[psysml:a7d82e4a-e12d-4520-9ae6-c89754eb7506 ]] {\r\n",
       "}\r\n",
       "comp def \"A\" as E6  <<(T,blue) connection  def>> [[psysml:5cdadcae-4d33-45cc-84a1-e26eca79ba4d ]] {\r\n",
       "}\r\n",
       "comp usage \"p1: P \" as E7  <<(T,blue) port>> [[psysml:7fb982ae-cae7-41b0-848a-52bb93191ec3 ]] {\r\n",
       "}\r\n",
       "comp usage \"p2 \" as E8  <<(T,blue) port>> [[psysml:5c21b9df-62cf-4ee8-9145-76efb13de7e4 ]] {\r\n",
       "}\r\n",
       "comp def \"I\" as E9  <<(T,blue) interface  def>> [[psysml:2bbab23f-cc40-4354-88cc-493e0b41ffd4 ]] {\r\n",
       "}\r\n",
       "comp usage \"p1: P \" as E10  <<(T,blue) port>> [[psysml:e0785fbe-faad-409c-b39f-62ae49a7d6e0 ]] {\r\n",
       "}\r\n",
       "comp usage \"p2 \" as E11  <<(T,blue) port>> [[psysml:a18508b4-2f12-4bca-8dd1-291939c34d14 ]] {\r\n",
       "}\r\n",
       "comp def \"B1\" as E12  <<(T,blue) part  def>> [[psysml:cd0027e5-9ed9-4216-bffa-1e31fa367fb3 ]] {\r\n",
       "}\r\n",
       "comp usage \"p \" as E13  <<(T,blue) part>> [[psysml:3cf8fc76-e05d-49bd-b29f-3b88a47b72de ]] {\r\n",
       "}\r\n",
       "comp usage \"p1: P \" as E14  <<(T,blue) port>> [[psysml:6cf362ef-4bb1-44a5-8272-767638a97c43 ]] {\r\n",
       "}\r\n",
       "comp usage \"p2 \" as E15  <<(T,blue) port>> [[psysml:33e7cbb5-c462-4d34-9030-b3438d816b29 ]] {\r\n",
       "}\r\n",
       "}\r\n",
       "E3 o- - \"1\"E4 [[psysml:e09aa0cf-99c0-4ed5-833c-e6cdd9353c0b ]] \r\n",
       "E4 - -:|> E2 [[psysml:d96439d0-54ae-42c8-b560-5f0ede470e61 ]] \r\n",
       "E3 o- - \"1\"E5 [[psysml:880a21a1-46d7-4f3d-9543-241b40e3ab4a ]] \r\n",
       "E6 o- - \"1\"E7 [[psysml:98390341-db8e-40b6-aced-fec2311e0a9d ]] \r\n",
       "E7 - -:|> E2 [[psysml:6f9217eb-859f-4957-bc31-6c1306f83367 ]] \r\n",
       "E6 o- - \"1\"E8 [[psysml:15a7c7be-761e-4e1c-a126-babbedfba5ca ]] \r\n",
       "E9 o- - \"1\"E10 [[psysml:a15de342-1742-4b99-9b86-ed8c6fb30ab8 ]] \r\n",
       "E10 - -:|> E2 [[psysml:81b1dfc1-849b-47a4-a859-9ae7a728ef15 ]] \r\n",
       "E9 o- - \"1\"E11 [[psysml:fe2242fc-88cc-4430-bc2f-98e79ba2cc70 ]] \r\n",
       "E12 o- - \"1\"E13 [[psysml:0c56cab0-046e-4827-a921-af226384c943 ]] \r\n",
       "E13 o- - \"1\"E14 [[psysml:12334834-5f3e-4b20-9f0b-aad671391bfa ]] \r\n",
       "E14 - -:|> E2 [[psysml:f15866fc-26c5-4fac-ba02-f8f796eed5e8 ]] \r\n",
       "E13 o- - \"1\"E15 [[psysml:ce878baa-f80f-4009-adda-6088e19c872e ]] \r\n",
       "E14 -[thickness=3]- E15 [[psysml:1f31a0eb-24e7-4abd-8eab-15c525015988 ]] \r\n",
       "E14 -[thickness=3]- E15 [[psysml:c2fd36d5-55a7-4367-ae55-c3f656adabca ]] \r\n",
       "@enduml\r\n",
       "\n",
       "PlantUML version 1.2020.13(Sat Jun 13 12:26:38 UTC 2020)\n",
       "(EPL source distribution)\n",
       "Java Runtime: OpenJDK Runtime Environment\n",
       "JVM: OpenJDK 64-Bit Server VM\n",
       "Default Encoding: UTF-8\n",
       "Language: en\n",
       "Country: null\n",
       "--></g></svg>"
      ]
     },
     "execution_count": 38,
     "metadata": {},
     "output_type": "execute_result"
    }
   ],
   "source": [
    "%viz --style=\"DEFAULT\" --view=\"Tree\" \"ConjugationTest\""
   ]
  },
  {
   "cell_type": "code",
   "execution_count": 39,
   "id": "02e42a1b",
   "metadata": {
    "execution": {
     "iopub.execute_input": "2022-08-19T08:18:14.725732Z",
     "iopub.status.busy": "2022-08-19T08:18:14.725281Z",
     "iopub.status.idle": "2022-08-19T08:18:14.729817Z",
     "shell.execute_reply": "2022-08-19T08:18:14.730136Z"
    }
   },
   "outputs": [
    {
     "data": {
      "image/svg+xml": [
       "<?xml version=\"1.0\" encoding=\"UTF-8\" standalone=\"no\"?><svg xmlns=\"http://www.w3.org/2000/svg\" xmlns:xlink=\"http://www.w3.org/1999/xlink\" contentScriptType=\"application/ecmascript\" contentStyleType=\"text/css\" height=\"12px\" preserveAspectRatio=\"none\" style=\"width:12px;height:12px;\" version=\"1.1\" viewBox=\"0 0 12 12\" width=\"12px\" zoomAndPan=\"magnify\"><defs/><g><!--MD5=[c5f280e076d0d61ccf4b0f27871bda1d]\n",
       "@startuml\r\n",
       "skinparam monochrome true\r\n",
       "skinparam classbackgroundcolor white\r\n",
       "skinparam shadowing false\r\n",
       "skinparam wrapWidth 300\r\n",
       "hide circle\r\n",
       "\r\n",
       "@enduml\r\n",
       "\n",
       "PlantUML version 1.2020.13(Sat Jun 13 12:26:38 UTC 2020)\n",
       "(EPL source distribution)\n",
       "Java Runtime: OpenJDK Runtime Environment\n",
       "JVM: OpenJDK 64-Bit Server VM\n",
       "Default Encoding: UTF-8\n",
       "Language: en\n",
       "Country: null\n",
       "--></g></svg>"
      ]
     },
     "execution_count": 39,
     "metadata": {},
     "output_type": "execute_result"
    }
   ],
   "source": [
    "%viz --style=\"DEFAULT\" --view=\"State\" \"ConjugationTest\""
   ]
  },
  {
   "cell_type": "code",
   "execution_count": 40,
   "id": "fc5c05ec",
   "metadata": {
    "execution": {
     "iopub.execute_input": "2022-08-19T08:18:14.780478Z",
     "iopub.status.busy": "2022-08-19T08:18:14.779845Z",
     "iopub.status.idle": "2022-08-19T08:18:14.833059Z",
     "shell.execute_reply": "2022-08-19T08:18:14.831526Z"
    }
   },
   "outputs": [
    {
     "data": {
      "image/svg+xml": [
       "<?xml version=\"1.0\" encoding=\"UTF-8\" standalone=\"no\"?><svg xmlns=\"http://www.w3.org/2000/svg\" xmlns:xlink=\"http://www.w3.org/1999/xlink\" contentScriptType=\"application/ecmascript\" contentStyleType=\"text/css\" height=\"299px\" preserveAspectRatio=\"none\" style=\"width:765px;height:299px;\" version=\"1.1\" viewBox=\"0 0 765 299\" width=\"765px\" zoomAndPan=\"magnify\"><defs/><g><!--MD5=[fbc87193dbaf4d95561dea2c320d4a47]\n",
       "cluster E1--><a href=\"psysml:4e179b45-ef84-478c-a2da-b16af7c43fe7\" target=\"_top\" title=\"psysml:4e179b45-ef84-478c-a2da-b16af7c43fe7\" xlink:actuate=\"onRequest\" xlink:href=\"psysml:4e179b45-ef84-478c-a2da-b16af7c43fe7\" xlink:show=\"new\" xlink:title=\"psysml:4e179b45-ef84-478c-a2da-b16af7c43fe7\" xlink:type=\"simple\"><polygon fill=\"#FFFFFF\" points=\"16,6,136,6,143,28.2969,743,28.2969,743,287.36,16,287.36,16,6\" style=\"stroke: #000000; stroke-width: 1.5;\"/><line style=\"stroke: #000000; stroke-width: 1.5;\" x1=\"16\" x2=\"143\" y1=\"28.2969\" y2=\"28.2969\"/><text fill=\"#000000\" font-family=\"sans-serif\" font-size=\"14\" font-weight=\"bold\" lengthAdjust=\"spacingAndGlyphs\" textLength=\"114\" x=\"20\" y=\"20.9951\">ConjugationTest</text></a><!--MD5=[d5e69f78d87373223dbae638b30a9c99]\n",
       "cluster E3--><a href=\"psysml:615e73ac-8544-4e42-b424-8a4747867d0e\" target=\"_top\" title=\"psysml:615e73ac-8544-4e42-b424-8a4747867d0e\" xlink:actuate=\"onRequest\" xlink:href=\"psysml:615e73ac-8544-4e42-b424-8a4747867d0e\" xlink:show=\"new\" xlink:title=\"psysml:615e73ac-8544-4e42-b424-8a4747867d0e\" xlink:type=\"simple\"><rect fill=\"#FFFFFF\" height=\"88.5\" id=\"E3\" style=\"stroke: #383838; stroke-width: 1.5;\" width=\"85\" x=\"600\" y=\"114\"/><rect fill=\"#F8F8F8\" height=\"37.9375\" style=\"stroke: #383838; stroke-width: 1.5;\" width=\"85\" x=\"600\" y=\"114\"/><text fill=\"#000000\" font-family=\"sans-serif\" font-size=\"12\" font-style=\"italic\" lengthAdjust=\"spacingAndGlyphs\" textLength=\"68\" x=\"608.5\" y=\"130.1387\">«part  def»</text><text fill=\"#000000\" font-family=\"sans-serif\" font-size=\"12\" lengthAdjust=\"spacingAndGlyphs\" textLength=\"8\" x=\"638.5\" y=\"144.1074\">B</text></a><!--MD5=[14e3b0961a2654348d326746436168a1]\n",
       "cluster E6--><a href=\"psysml:5cdadcae-4d33-45cc-84a1-e26eca79ba4d\" target=\"_top\" title=\"psysml:5cdadcae-4d33-45cc-84a1-e26eca79ba4d\" xlink:actuate=\"onRequest\" xlink:href=\"psysml:5cdadcae-4d33-45cc-84a1-e26eca79ba4d\" xlink:show=\"new\" xlink:title=\"psysml:5cdadcae-4d33-45cc-84a1-e26eca79ba4d\" xlink:type=\"simple\"><rect fill=\"#FFFFFF\" height=\"88.5\" id=\"E6\" style=\"stroke: #383838; stroke-width: 1.5;\" width=\"152\" x=\"443\" y=\"114\"/><rect fill=\"#F8F8F8\" height=\"37.9375\" style=\"stroke: #383838; stroke-width: 1.5;\" width=\"152\" x=\"443\" y=\"114\"/><text fill=\"#000000\" font-family=\"sans-serif\" font-size=\"12\" font-style=\"italic\" lengthAdjust=\"spacingAndGlyphs\" textLength=\"112\" x=\"463\" y=\"130.1387\">«connection  def»</text><text fill=\"#000000\" font-family=\"sans-serif\" font-size=\"12\" lengthAdjust=\"spacingAndGlyphs\" textLength=\"8\" x=\"515\" y=\"144.1074\">A</text></a><!--MD5=[7f149f147074ac12df2cb0a7728a5fb0]\n",
       "cluster E9--><a href=\"psysml:2bbab23f-cc40-4354-88cc-493e0b41ffd4\" target=\"_top\" title=\"psysml:2bbab23f-cc40-4354-88cc-493e0b41ffd4\" xlink:actuate=\"onRequest\" xlink:href=\"psysml:2bbab23f-cc40-4354-88cc-493e0b41ffd4\" xlink:show=\"new\" xlink:title=\"psysml:2bbab23f-cc40-4354-88cc-493e0b41ffd4\" xlink:type=\"simple\"><rect fill=\"#FFFFFF\" height=\"88.5\" id=\"E9\" style=\"stroke: #383838; stroke-width: 1.5;\" width=\"143\" x=\"270\" y=\"114\"/><rect fill=\"#F8F8F8\" height=\"37.9375\" style=\"stroke: #383838; stroke-width: 1.5;\" width=\"143\" x=\"270\" y=\"114\"/><text fill=\"#000000\" font-family=\"sans-serif\" font-size=\"12\" font-style=\"italic\" lengthAdjust=\"spacingAndGlyphs\" textLength=\"98\" x=\"292.5\" y=\"130.1387\">«interface  def»</text><text fill=\"#000000\" font-family=\"sans-serif\" font-size=\"12\" lengthAdjust=\"spacingAndGlyphs\" textLength=\"3\" x=\"340\" y=\"144.1074\">I</text></a><!--MD5=[47bea60c1a0ac6c1143df232041969c0]\n",
       "cluster E12--><a href=\"psysml:cd0027e5-9ed9-4216-bffa-1e31fa367fb3\" target=\"_top\" title=\"psysml:cd0027e5-9ed9-4216-bffa-1e31fa367fb3\" xlink:actuate=\"onRequest\" xlink:href=\"psysml:cd0027e5-9ed9-4216-bffa-1e31fa367fb3\" xlink:show=\"new\" xlink:title=\"psysml:cd0027e5-9ed9-4216-bffa-1e31fa367fb3\" xlink:type=\"simple\"><rect fill=\"#FFFFFF\" height=\"214.36\" id=\"E12\" style=\"stroke: #383838; stroke-width: 1.5;\" width=\"119\" x=\"122\" y=\"49\"/><rect fill=\"#F8F8F8\" height=\"37.9375\" style=\"stroke: #383838; stroke-width: 1.5;\" width=\"119\" x=\"122\" y=\"49\"/><text fill=\"#000000\" font-family=\"sans-serif\" font-size=\"12\" font-style=\"italic\" lengthAdjust=\"spacingAndGlyphs\" textLength=\"68\" x=\"147.5\" y=\"65.1387\">«part  def»</text><text fill=\"#000000\" font-family=\"sans-serif\" font-size=\"12\" lengthAdjust=\"spacingAndGlyphs\" textLength=\"16\" x=\"173.5\" y=\"79.1074\">B1</text></a><!--MD5=[03104f77b71e2d8d3500c651e6e31181]\n",
       "cluster E13--><a href=\"psysml:3cf8fc76-e05d-49bd-b29f-3b88a47b72de\" target=\"_top\" title=\"psysml:3cf8fc76-e05d-49bd-b29f-3b88a47b72de\" xlink:actuate=\"onRequest\" xlink:href=\"psysml:3cf8fc76-e05d-49bd-b29f-3b88a47b72de\" xlink:show=\"new\" xlink:title=\"psysml:3cf8fc76-e05d-49bd-b29f-3b88a47b72de\" xlink:type=\"simple\"><rect fill=\"#FFFFFF\" height=\"119.36\" id=\"E13\" rx=\"10\" ry=\"10\" style=\"stroke: #383838; stroke-width: 1.5;\" width=\"86\" x=\"139\" y=\"114\"/><rect fill=\"#F8F8F8\" height=\"23.9688\" rx=\"10\" ry=\"10\" style=\"stroke: #F8F8F8; stroke-width: 1.5;\" width=\"86\" x=\"139\" y=\"114\"/><rect fill=\"#F8F8F8\" height=\"10\" style=\"stroke: #F8F8F8; stroke-width: 1.5;\" width=\"86\" x=\"139\" y=\"127.9688\"/><rect fill=\"none\" height=\"119.36\" id=\"E13\" rx=\"10\" ry=\"10\" style=\"stroke: #383838; stroke-width: 1.5;\" width=\"86\" x=\"139\" y=\"114\"/><text fill=\"#000000\" font-family=\"sans-serif\" font-size=\"12\" lengthAdjust=\"spacingAndGlyphs\" textLength=\"8\" x=\"178\" y=\"130.1387\">p</text><line style=\"stroke: #383838; stroke-width: 1.0;\" x1=\"139\" x2=\"225\" y1=\"137.9688\" y2=\"137.9688\"/></a><g id=\"E1.E2\"><a href=\"psysml:859d5a2d-b524-488b-9af4-e0f987adcacf\" target=\"_top\" title=\"psysml:859d5a2d-b524-488b-9af4-e0f987adcacf\" xlink:actuate=\"onRequest\" xlink:href=\"psysml:859d5a2d-b524-488b-9af4-e0f987adcacf\" xlink:show=\"new\" xlink:title=\"psysml:859d5a2d-b524-488b-9af4-e0f987adcacf\" xlink:type=\"simple\"><rect fill=\"#FFFFFF\" height=\"42.9375\" id=\"E2\" style=\"stroke: #383838; stroke-width: 1.5;\" width=\"75\" x=\"31.5\" y=\"92.5\"/><rect fill=\"#F8F8F8\" height=\"37.9375\" style=\"stroke: #383838; stroke-width: 1.5;\" width=\"75\" x=\"31.5\" y=\"92.5\"/><text fill=\"#000000\" font-family=\"sans-serif\" font-size=\"12\" font-style=\"italic\" lengthAdjust=\"spacingAndGlyphs\" textLength=\"68\" x=\"35\" y=\"108.6387\">«port  def»</text><text fill=\"#000000\" font-family=\"sans-serif\" font-size=\"12\" lengthAdjust=\"spacingAndGlyphs\" textLength=\"8\" x=\"65\" y=\"122.6074\">P</text></a></g><text fill=\"#000000\" font-family=\"sans-serif\" font-size=\"14\" lengthAdjust=\"spacingAndGlyphs\" textLength=\"36\" x=\"598\" y=\"92.6982\">p1: P</text><rect fill=\"#383838\" height=\"12\" style=\"stroke: #F8F8F8; stroke-width: 1.5;\" width=\"12\" x=\"612\" y=\"108\"/><text fill=\"#000000\" font-family=\"sans-serif\" font-size=\"14\" lengthAdjust=\"spacingAndGlyphs\" textLength=\"18\" x=\"654\" y=\"92.6982\">p2</text><rect fill=\"#383838\" height=\"12\" style=\"stroke: #F8F8F8; stroke-width: 1.5;\" width=\"12\" x=\"659\" y=\"108\"/><text fill=\"#000000\" font-family=\"sans-serif\" font-size=\"14\" lengthAdjust=\"spacingAndGlyphs\" textLength=\"36\" x=\"441\" y=\"92.6982\">p1: P</text><rect fill=\"#383838\" height=\"12\" style=\"stroke: #F8F8F8; stroke-width: 1.5;\" width=\"12\" x=\"455\" y=\"108\"/><text fill=\"#000000\" font-family=\"sans-serif\" font-size=\"14\" lengthAdjust=\"spacingAndGlyphs\" textLength=\"18\" x=\"497\" y=\"92.6982\">p2</text><rect fill=\"#383838\" height=\"12\" style=\"stroke: #F8F8F8; stroke-width: 1.5;\" width=\"12\" x=\"502\" y=\"108\"/><text fill=\"#000000\" font-family=\"sans-serif\" font-size=\"14\" lengthAdjust=\"spacingAndGlyphs\" textLength=\"36\" x=\"268\" y=\"92.6982\">p1: P</text><rect fill=\"#383838\" height=\"12\" style=\"stroke: #F8F8F8; stroke-width: 1.5;\" width=\"12\" x=\"282\" y=\"108\"/><text fill=\"#000000\" font-family=\"sans-serif\" font-size=\"14\" lengthAdjust=\"spacingAndGlyphs\" textLength=\"18\" x=\"324\" y=\"92.6982\">p2</text><rect fill=\"#383838\" height=\"12\" style=\"stroke: #F8F8F8; stroke-width: 1.5;\" width=\"12\" x=\"329\" y=\"108\"/><text fill=\"#000000\" font-family=\"sans-serif\" font-size=\"14\" lengthAdjust=\"spacingAndGlyphs\" textLength=\"36\" x=\"137\" y=\"252.3551\">p1: P</text><rect fill=\"#383838\" height=\"12\" style=\"stroke: #F8F8F8; stroke-width: 1.5;\" width=\"12\" x=\"151\" y=\"227.36\"/><text fill=\"#000000\" font-family=\"sans-serif\" font-size=\"14\" lengthAdjust=\"spacingAndGlyphs\" textLength=\"18\" x=\"156\" y=\"92.6982\">p2</text><rect fill=\"#383838\" height=\"12\" style=\"stroke: #F8F8F8; stroke-width: 1.5;\" width=\"12\" x=\"161\" y=\"108\"/><!--MD5=[3afbdc645381407e1bc99677323a2513]\n",
       "link E14 to E15--><a href=\"psysml:1f31a0eb-24e7-4abd-8eab-15c525015988\" target=\"_top\" title=\"psysml:1f31a0eb-24e7-4abd-8eab-15c525015988\" xlink:actuate=\"onRequest\" xlink:href=\"psysml:1f31a0eb-24e7-4abd-8eab-15c525015988\" xlink:show=\"new\" xlink:title=\"psysml:1f31a0eb-24e7-4abd-8eab-15c525015988\" xlink:type=\"simple\"><path d=\"M163.22,229.87 C168.78,228 175.08,224.8 179,219.36 C198.71,192.01 192.04,174.59 179,143.5 C173.54,130.48 158.91,120.41 160.88,116.63 \" fill=\"none\" id=\"E14-E15\" style=\"stroke: #383838; stroke-width: 3.0;\"/></a><!--MD5=[3afbdc645381407e1bc99677323a2513]\n",
       "link E14 to E15--><a href=\"psysml:c2fd36d5-55a7-4367-ae55-c3f656adabca\" target=\"_top\" title=\"psysml:c2fd36d5-55a7-4367-ae55-c3f656adabca\" xlink:actuate=\"onRequest\" xlink:href=\"psysml:c2fd36d5-55a7-4367-ae55-c3f656adabca\" xlink:show=\"new\" xlink:title=\"psysml:c2fd36d5-55a7-4367-ae55-c3f656adabca\" xlink:type=\"simple\"><path d=\"M163.24,232.4 C180.98,232.56 204.49,232.56 214,219.36 C233.71,192.01 227.04,174.59 214,143.5 C207.78,128.66 189.64,117.65 173.03,115.42 \" fill=\"none\" id=\"E14-E15-1\" style=\"stroke: #383838; stroke-width: 3.0;\"/></a><!--MD5=[07ce465374192dcfcd4bf93ec9a32e97]\n",
       "@startuml\r\n",
       "skinparam ranksep 10\r\n",
       "skinparam rectangle {\r\n",
       " backgroundColor<<block>> LightGreen\r\n",
       "}\r\n",
       "skinparam monochrome true\r\n",
       "skinparam classbackgroundcolor white\r\n",
       "skinparam shadowing false\r\n",
       "skinparam wrapWidth 300\r\n",
       "hide circle\r\n",
       "\r\n",
       "package \"ConjugationTest\" as E1  [[psysml:4e179b45-ef84-478c-a2da-b16af7c43fe7 ]]  {\r\n",
       "def \"P\" as E2  <<(T,blue) port  def>> [[psysml:859d5a2d-b524-488b-9af4-e0f987adcacf ]] \r\n",
       "rec def \"B\" as E3  <<(T,blue) part  def>> [[psysml:615e73ac-8544-4e42-b424-8a4747867d0e ]] {\r\n",
       "portin \"p1: P \" as E4  <<(T,blue) port>> [[psysml:37d2c32c-e4e6-4c0b-af75-96cd6556dd4d ]] \r\n",
       "portin \"p2 \" as E5  <<(T,blue) port>> [[psysml:a7d82e4a-e12d-4520-9ae6-c89754eb7506 ]] \r\n",
       "}\r\n",
       "rec def \"A\" as E6  <<(T,blue) connection  def>> [[psysml:5cdadcae-4d33-45cc-84a1-e26eca79ba4d ]] {\r\n",
       "portin \"p1: P \" as E7  <<(T,blue) port>> [[psysml:7fb982ae-cae7-41b0-848a-52bb93191ec3 ]] \r\n",
       "portin \"p2 \" as E8  <<(T,blue) port>> [[psysml:5c21b9df-62cf-4ee8-9145-76efb13de7e4 ]] \r\n",
       "}\r\n",
       "rec def \"I\" as E9  <<(T,blue) interface  def>> [[psysml:2bbab23f-cc40-4354-88cc-493e0b41ffd4 ]] {\r\n",
       "portin \"p1: P \" as E10  <<(T,blue) port>> [[psysml:e0785fbe-faad-409c-b39f-62ae49a7d6e0 ]] \r\n",
       "portin \"p2 \" as E11  <<(T,blue) port>> [[psysml:a18508b4-2f12-4bca-8dd1-291939c34d14 ]] \r\n",
       "}\r\n",
       "rec def \"B1\" as E12  <<(T,blue) part  def>> [[psysml:cd0027e5-9ed9-4216-bffa-1e31fa367fb3 ]] {\r\n",
       "rec usage \"p\" as E13  [[psysml:3cf8fc76-e05d-49bd-b29f-3b88a47b72de ]] {\r\n",
       "portout \"p1: P \" as E14  <<(T,blue) port>> [[psysml:6cf362ef-4bb1-44a5-8272-767638a97c43 ]] \r\n",
       "portin \"p2 \" as E15  <<(T,blue) port>> [[psysml:33e7cbb5-c462-4d34-9030-b3438d816b29 ]] \r\n",
       "}\r\n",
       "}\r\n",
       "}\r\n",
       "E14 -[thickness=3]- E15 [[psysml:1f31a0eb-24e7-4abd-8eab-15c525015988 ]] \r\n",
       "E14 -[thickness=3]- E15 [[psysml:c2fd36d5-55a7-4367-ae55-c3f656adabca ]] \r\n",
       "@enduml\r\n",
       "\n",
       "PlantUML version 1.2020.13(Sat Jun 13 12:26:38 UTC 2020)\n",
       "(EPL source distribution)\n",
       "Java Runtime: OpenJDK Runtime Environment\n",
       "JVM: OpenJDK 64-Bit Server VM\n",
       "Default Encoding: UTF-8\n",
       "Language: en\n",
       "Country: null\n",
       "--></g></svg>"
      ]
     },
     "execution_count": 40,
     "metadata": {},
     "output_type": "execute_result"
    }
   ],
   "source": [
    "%viz --style=\"DEFAULT\" --view=\"Interconnection\" \"ConjugationTest\""
   ]
  },
  {
   "cell_type": "code",
   "execution_count": 41,
   "id": "3f52c8a6",
   "metadata": {
    "execution": {
     "iopub.execute_input": "2022-08-19T08:18:14.882304Z",
     "iopub.status.busy": "2022-08-19T08:18:14.881776Z",
     "iopub.status.idle": "2022-08-19T08:18:14.886424Z",
     "shell.execute_reply": "2022-08-19T08:18:14.886742Z"
    }
   },
   "outputs": [
    {
     "data": {
      "image/svg+xml": [
       "<?xml version=\"1.0\" encoding=\"UTF-8\" standalone=\"no\"?><svg xmlns=\"http://www.w3.org/2000/svg\" xmlns:xlink=\"http://www.w3.org/1999/xlink\" contentScriptType=\"application/ecmascript\" contentStyleType=\"text/css\" height=\"12px\" preserveAspectRatio=\"none\" style=\"width:12px;height:12px;\" version=\"1.1\" viewBox=\"0 0 12 12\" width=\"12px\" zoomAndPan=\"magnify\"><defs/><g><!--MD5=[388f21188e31bfdd97050473b19af356]\n",
       "@startuml\r\n",
       "skinparam ranksep 8\r\n",
       "skinparam monochrome true\r\n",
       "skinparam classbackgroundcolor white\r\n",
       "skinparam shadowing false\r\n",
       "skinparam wrapWidth 300\r\n",
       "hide circle\r\n",
       "\r\n",
       "@enduml\r\n",
       "\n",
       "PlantUML version 1.2020.13(Sat Jun 13 12:26:38 UTC 2020)\n",
       "(EPL source distribution)\n",
       "Java Runtime: OpenJDK Runtime Environment\n",
       "JVM: OpenJDK 64-Bit Server VM\n",
       "Default Encoding: UTF-8\n",
       "Language: en\n",
       "Country: null\n",
       "--></g></svg>"
      ]
     },
     "execution_count": 41,
     "metadata": {},
     "output_type": "execute_result"
    }
   ],
   "source": [
    "%viz --style=\"DEFAULT\" --view=\"Action\" \"ConjugationTest\""
   ]
  },
  {
   "cell_type": "code",
   "execution_count": 42,
   "id": "db4ee929",
   "metadata": {
    "execution": {
     "iopub.execute_input": "2022-08-19T08:18:14.936819Z",
     "iopub.status.busy": "2022-08-19T08:18:14.936355Z",
     "iopub.status.idle": "2022-08-19T08:18:14.940841Z",
     "shell.execute_reply": "2022-08-19T08:18:14.941135Z"
    }
   },
   "outputs": [
    {
     "data": {
      "image/svg+xml": [
       "<?xml version=\"1.0\" encoding=\"UTF-8\" standalone=\"no\"?><svg xmlns=\"http://www.w3.org/2000/svg\" xmlns:xlink=\"http://www.w3.org/1999/xlink\" contentScriptType=\"application/ecmascript\" contentStyleType=\"text/css\" height=\"12px\" preserveAspectRatio=\"none\" style=\"width:12px;height:12px;\" version=\"1.1\" viewBox=\"0 0 12 12\" width=\"12px\" zoomAndPan=\"magnify\"><defs/><g><!--MD5=[0b72472770326784bf6c2b53246e1e64]\n",
       "@startuml\r\n",
       "skinparam roundcorner 20\r\n",
       "skinparam BoxPadding 20\r\n",
       "skinparam SequenceBoxBackgroundColor #white\r\n",
       "skinparam style strictuml\r\n",
       "skinparam maxMessageSize 100\r\n",
       "skinparam monochrome true\r\n",
       "skinparam classbackgroundcolor white\r\n",
       "skinparam shadowing false\r\n",
       "skinparam wrapWidth 300\r\n",
       "hide circle\r\n",
       "\r\n",
       "@enduml\r\n",
       "\n",
       "PlantUML version 1.2020.13(Sat Jun 13 12:26:38 UTC 2020)\n",
       "(EPL source distribution)\n",
       "Java Runtime: OpenJDK Runtime Environment\n",
       "JVM: OpenJDK 64-Bit Server VM\n",
       "Default Encoding: UTF-8\n",
       "Language: en\n",
       "Country: null\n",
       "--></g></svg>"
      ]
     },
     "execution_count": 42,
     "metadata": {},
     "output_type": "execute_result"
    }
   ],
   "source": [
    "%viz --style=\"DEFAULT\" --view=\"Sequence\" \"ConjugationTest\""
   ]
  },
  {
   "cell_type": "code",
   "execution_count": 43,
   "id": "44d5c22a",
   "metadata": {
    "execution": {
     "iopub.execute_input": "2022-08-19T08:18:14.991178Z",
     "iopub.status.busy": "2022-08-19T08:18:14.990677Z",
     "iopub.status.idle": "2022-08-19T08:18:15.037793Z",
     "shell.execute_reply": "2022-08-19T08:18:15.036139Z"
    }
   },
   "outputs": [
    {
     "data": {
      "image/svg+xml": [
       "<?xml version=\"1.0\" encoding=\"UTF-8\" standalone=\"no\"?><svg xmlns=\"http://www.w3.org/2000/svg\" xmlns:xlink=\"http://www.w3.org/1999/xlink\" contentScriptType=\"application/ecmascript\" contentStyleType=\"text/css\" height=\"433px\" preserveAspectRatio=\"none\" style=\"width:611px;height:433px;\" version=\"1.1\" viewBox=\"0 0 611 433\" width=\"611px\" zoomAndPan=\"magnify\"><defs/><g><!--MD5=[fbc87193dbaf4d95561dea2c320d4a47]\n",
       "cluster E1--><a href=\"psysml:4e179b45-ef84-478c-a2da-b16af7c43fe7\" target=\"_top\" title=\"psysml:4e179b45-ef84-478c-a2da-b16af7c43fe7\" xlink:actuate=\"onRequest\" xlink:href=\"psysml:4e179b45-ef84-478c-a2da-b16af7c43fe7\" xlink:show=\"new\" xlink:title=\"psysml:4e179b45-ef84-478c-a2da-b16af7c43fe7\" xlink:type=\"simple\"><polygon fill=\"#FFFFFF\" points=\"16,6,136,6,143,28.2969,589,28.2969,589,421,16,421,16,6\" style=\"stroke: #000000; stroke-width: 1.5;\"/><line style=\"stroke: #000000; stroke-width: 1.5;\" x1=\"16\" x2=\"143\" y1=\"28.2969\" y2=\"28.2969\"/><text fill=\"#000000\" font-family=\"sans-serif\" font-size=\"14\" font-weight=\"bold\" lengthAdjust=\"spacingAndGlyphs\" textLength=\"114\" x=\"20\" y=\"20.9951\">ConjugationTest</text></a><!--MD5=[b4997ac47864f28c2f74865a473b2911]\n",
       "class E2--><a href=\"psysml:859d5a2d-b524-488b-9af4-e0f987adcacf\" target=\"_top\" title=\"psysml:859d5a2d-b524-488b-9af4-e0f987adcacf\" xlink:actuate=\"onRequest\" xlink:href=\"psysml:859d5a2d-b524-488b-9af4-e0f987adcacf\" xlink:show=\"new\" xlink:title=\"psysml:859d5a2d-b524-488b-9af4-e0f987adcacf\" xlink:type=\"simple\"><rect fill=\"#FFFFFF\" height=\"45.9375\" id=\"E2\" style=\"stroke: #383838; stroke-width: 1.5;\" width=\"70\" x=\"216\" y=\"359\"/><text fill=\"#000000\" font-family=\"sans-serif\" font-size=\"12\" font-style=\"italic\" lengthAdjust=\"spacingAndGlyphs\" textLength=\"68\" x=\"217\" y=\"375.1387\">«port  def»</text><text fill=\"#000000\" font-family=\"sans-serif\" font-size=\"12\" lengthAdjust=\"spacingAndGlyphs\" textLength=\"8\" x=\"247\" y=\"389.1074\">P</text><line style=\"stroke: #383838; stroke-width: 1.5;\" x1=\"217\" x2=\"285\" y1=\"396.9375\" y2=\"396.9375\"/></a><!--MD5=[09b614a08d8cba4a07c9adeb5e0fee81]\n",
       "class E3--><a href=\"psysml:615e73ac-8544-4e42-b424-8a4747867d0e\" target=\"_top\" title=\"psysml:615e73ac-8544-4e42-b424-8a4747867d0e\" xlink:actuate=\"onRequest\" xlink:href=\"psysml:615e73ac-8544-4e42-b424-8a4747867d0e\" xlink:show=\"new\" xlink:title=\"psysml:615e73ac-8544-4e42-b424-8a4747867d0e\" xlink:type=\"simple\"><rect fill=\"#FFFFFF\" height=\"45.9375\" id=\"E3\" style=\"stroke: #383838; stroke-width: 1.5;\" width=\"70\" x=\"471\" y=\"147\"/><text fill=\"#000000\" font-family=\"sans-serif\" font-size=\"12\" font-style=\"italic\" lengthAdjust=\"spacingAndGlyphs\" textLength=\"68\" x=\"472\" y=\"163.1387\">«part  def»</text><text fill=\"#000000\" font-family=\"sans-serif\" font-size=\"12\" lengthAdjust=\"spacingAndGlyphs\" textLength=\"8\" x=\"502\" y=\"177.1074\">B</text><line style=\"stroke: #383838; stroke-width: 1.5;\" x1=\"472\" x2=\"540\" y1=\"184.9375\" y2=\"184.9375\"/></a><!--MD5=[ebbe1d658d1005bcc118a6aa81145e00]\n",
       "class E4--><a href=\"psysml:37d2c32c-e4e6-4c0b-af75-96cd6556dd4d\" target=\"_top\" title=\"psysml:37d2c32c-e4e6-4c0b-af75-96cd6556dd4d\" xlink:actuate=\"onRequest\" xlink:href=\"psysml:37d2c32c-e4e6-4c0b-af75-96cd6556dd4d\" xlink:show=\"new\" xlink:title=\"psysml:37d2c32c-e4e6-4c0b-af75-96cd6556dd4d\" xlink:type=\"simple\"><rect fill=\"#FFFFFF\" height=\"45.9375\" id=\"E4\" rx=\"10\" ry=\"10\" style=\"stroke: #383838; stroke-width: 1.5;\" width=\"42\" x=\"454\" y=\"253\"/><text fill=\"#000000\" font-family=\"sans-serif\" font-size=\"12\" font-style=\"italic\" lengthAdjust=\"spacingAndGlyphs\" textLength=\"40\" x=\"455\" y=\"269.1387\">«port»</text><text fill=\"#000000\" font-family=\"sans-serif\" font-size=\"12\" lengthAdjust=\"spacingAndGlyphs\" textLength=\"32\" x=\"457\" y=\"283.1074\">p1: P</text><line style=\"stroke: #383838; stroke-width: 1.5;\" x1=\"455\" x2=\"495\" y1=\"290.9375\" y2=\"290.9375\"/></a><!--MD5=[270fce915f116d4de14055a7c1d9a0f3]\n",
       "class E5--><a href=\"psysml:a7d82e4a-e12d-4520-9ae6-c89754eb7506\" target=\"_top\" title=\"psysml:a7d82e4a-e12d-4520-9ae6-c89754eb7506\" xlink:actuate=\"onRequest\" xlink:href=\"psysml:a7d82e4a-e12d-4520-9ae6-c89754eb7506\" xlink:show=\"new\" xlink:title=\"psysml:a7d82e4a-e12d-4520-9ae6-c89754eb7506\" xlink:type=\"simple\"><rect fill=\"#FFFFFF\" height=\"45.9375\" id=\"E5\" rx=\"10\" ry=\"10\" style=\"stroke: #383838; stroke-width: 1.5;\" width=\"42\" x=\"531\" y=\"253\"/><text fill=\"#000000\" font-family=\"sans-serif\" font-size=\"12\" font-style=\"italic\" lengthAdjust=\"spacingAndGlyphs\" textLength=\"40\" x=\"532\" y=\"269.1387\">«port»</text><text fill=\"#000000\" font-family=\"sans-serif\" font-size=\"12\" lengthAdjust=\"spacingAndGlyphs\" textLength=\"16\" x=\"542\" y=\"283.1074\">p2</text><line style=\"stroke: #383838; stroke-width: 1.5;\" x1=\"532\" x2=\"572\" y1=\"290.9375\" y2=\"290.9375\"/></a><!--MD5=[60a26617385b1d2d0262a64233df1f8d]\n",
       "class E6--><a href=\"psysml:5cdadcae-4d33-45cc-84a1-e26eca79ba4d\" target=\"_top\" title=\"psysml:5cdadcae-4d33-45cc-84a1-e26eca79ba4d\" xlink:actuate=\"onRequest\" xlink:href=\"psysml:5cdadcae-4d33-45cc-84a1-e26eca79ba4d\" xlink:show=\"new\" xlink:title=\"psysml:5cdadcae-4d33-45cc-84a1-e26eca79ba4d\" xlink:type=\"simple\"><rect fill=\"#FFFFFF\" height=\"45.9375\" id=\"E6\" style=\"stroke: #383838; stroke-width: 1.5;\" width=\"114\" x=\"274\" y=\"147\"/><text fill=\"#000000\" font-family=\"sans-serif\" font-size=\"12\" font-style=\"italic\" lengthAdjust=\"spacingAndGlyphs\" textLength=\"112\" x=\"275\" y=\"163.1387\">«connection  def»</text><text fill=\"#000000\" font-family=\"sans-serif\" font-size=\"12\" lengthAdjust=\"spacingAndGlyphs\" textLength=\"8\" x=\"327\" y=\"177.1074\">A</text><line style=\"stroke: #383838; stroke-width: 1.5;\" x1=\"275\" x2=\"387\" y1=\"184.9375\" y2=\"184.9375\"/></a><!--MD5=[2156ba9850f5573cc1fc38a6a4b2f02b]\n",
       "class E7--><a href=\"psysml:7fb982ae-cae7-41b0-848a-52bb93191ec3\" target=\"_top\" title=\"psysml:7fb982ae-cae7-41b0-848a-52bb93191ec3\" xlink:actuate=\"onRequest\" xlink:href=\"psysml:7fb982ae-cae7-41b0-848a-52bb93191ec3\" xlink:show=\"new\" xlink:title=\"psysml:7fb982ae-cae7-41b0-848a-52bb93191ec3\" xlink:type=\"simple\"><rect fill=\"#FFFFFF\" height=\"45.9375\" id=\"E7\" rx=\"10\" ry=\"10\" style=\"stroke: #383838; stroke-width: 1.5;\" width=\"42\" x=\"300\" y=\"253\"/><text fill=\"#000000\" font-family=\"sans-serif\" font-size=\"12\" font-style=\"italic\" lengthAdjust=\"spacingAndGlyphs\" textLength=\"40\" x=\"301\" y=\"269.1387\">«port»</text><text fill=\"#000000\" font-family=\"sans-serif\" font-size=\"12\" lengthAdjust=\"spacingAndGlyphs\" textLength=\"32\" x=\"303\" y=\"283.1074\">p1: P</text><line style=\"stroke: #383838; stroke-width: 1.5;\" x1=\"301\" x2=\"341\" y1=\"290.9375\" y2=\"290.9375\"/></a><!--MD5=[b9389687b975829384b498ac4b7476b2]\n",
       "class E8--><a href=\"psysml:5c21b9df-62cf-4ee8-9145-76efb13de7e4\" target=\"_top\" title=\"psysml:5c21b9df-62cf-4ee8-9145-76efb13de7e4\" xlink:actuate=\"onRequest\" xlink:href=\"psysml:5c21b9df-62cf-4ee8-9145-76efb13de7e4\" xlink:show=\"new\" xlink:title=\"psysml:5c21b9df-62cf-4ee8-9145-76efb13de7e4\" xlink:type=\"simple\"><rect fill=\"#FFFFFF\" height=\"45.9375\" id=\"E8\" rx=\"10\" ry=\"10\" style=\"stroke: #383838; stroke-width: 1.5;\" width=\"42\" x=\"377\" y=\"253\"/><text fill=\"#000000\" font-family=\"sans-serif\" font-size=\"12\" font-style=\"italic\" lengthAdjust=\"spacingAndGlyphs\" textLength=\"40\" x=\"378\" y=\"269.1387\">«port»</text><text fill=\"#000000\" font-family=\"sans-serif\" font-size=\"12\" lengthAdjust=\"spacingAndGlyphs\" textLength=\"16\" x=\"388\" y=\"283.1074\">p2</text><line style=\"stroke: #383838; stroke-width: 1.5;\" x1=\"378\" x2=\"418\" y1=\"290.9375\" y2=\"290.9375\"/></a><!--MD5=[fd4143e9d270a159db93a4ea2a975926]\n",
       "class E9--><a href=\"psysml:2bbab23f-cc40-4354-88cc-493e0b41ffd4\" target=\"_top\" title=\"psysml:2bbab23f-cc40-4354-88cc-493e0b41ffd4\" xlink:actuate=\"onRequest\" xlink:href=\"psysml:2bbab23f-cc40-4354-88cc-493e0b41ffd4\" xlink:show=\"new\" xlink:title=\"psysml:2bbab23f-cc40-4354-88cc-493e0b41ffd4\" xlink:type=\"simple\"><rect fill=\"#FFFFFF\" height=\"45.9375\" id=\"E9\" style=\"stroke: #383838; stroke-width: 1.5;\" width=\"100\" x=\"138\" y=\"147\"/><text fill=\"#000000\" font-family=\"sans-serif\" font-size=\"12\" font-style=\"italic\" lengthAdjust=\"spacingAndGlyphs\" textLength=\"98\" x=\"139\" y=\"163.1387\">«interface  def»</text><text fill=\"#000000\" font-family=\"sans-serif\" font-size=\"12\" lengthAdjust=\"spacingAndGlyphs\" textLength=\"3\" x=\"186.5\" y=\"177.1074\">I</text><line style=\"stroke: #383838; stroke-width: 1.5;\" x1=\"139\" x2=\"237\" y1=\"184.9375\" y2=\"184.9375\"/></a><!--MD5=[96f4274e9e20536e775497830990834d]\n",
       "class E10--><a href=\"psysml:e0785fbe-faad-409c-b39f-62ae49a7d6e0\" target=\"_top\" title=\"psysml:e0785fbe-faad-409c-b39f-62ae49a7d6e0\" xlink:actuate=\"onRequest\" xlink:href=\"psysml:e0785fbe-faad-409c-b39f-62ae49a7d6e0\" xlink:show=\"new\" xlink:title=\"psysml:e0785fbe-faad-409c-b39f-62ae49a7d6e0\" xlink:type=\"simple\"><rect fill=\"#FFFFFF\" height=\"45.9375\" id=\"E10\" rx=\"10\" ry=\"10\" style=\"stroke: #383838; stroke-width: 1.5;\" width=\"42\" x=\"146\" y=\"253\"/><text fill=\"#000000\" font-family=\"sans-serif\" font-size=\"12\" font-style=\"italic\" lengthAdjust=\"spacingAndGlyphs\" textLength=\"40\" x=\"147\" y=\"269.1387\">«port»</text><text fill=\"#000000\" font-family=\"sans-serif\" font-size=\"12\" lengthAdjust=\"spacingAndGlyphs\" textLength=\"32\" x=\"149\" y=\"283.1074\">p1: P</text><line style=\"stroke: #383838; stroke-width: 1.5;\" x1=\"147\" x2=\"187\" y1=\"290.9375\" y2=\"290.9375\"/></a><!--MD5=[1dd1bfd58a279cf63c5f349dbc8fc6a1]\n",
       "class E11--><a href=\"psysml:a18508b4-2f12-4bca-8dd1-291939c34d14\" target=\"_top\" title=\"psysml:a18508b4-2f12-4bca-8dd1-291939c34d14\" xlink:actuate=\"onRequest\" xlink:href=\"psysml:a18508b4-2f12-4bca-8dd1-291939c34d14\" xlink:show=\"new\" xlink:title=\"psysml:a18508b4-2f12-4bca-8dd1-291939c34d14\" xlink:type=\"simple\"><rect fill=\"#FFFFFF\" height=\"45.9375\" id=\"E11\" rx=\"10\" ry=\"10\" style=\"stroke: #383838; stroke-width: 1.5;\" width=\"42\" x=\"223\" y=\"253\"/><text fill=\"#000000\" font-family=\"sans-serif\" font-size=\"12\" font-style=\"italic\" lengthAdjust=\"spacingAndGlyphs\" textLength=\"40\" x=\"224\" y=\"269.1387\">«port»</text><text fill=\"#000000\" font-family=\"sans-serif\" font-size=\"12\" lengthAdjust=\"spacingAndGlyphs\" textLength=\"16\" x=\"234\" y=\"283.1074\">p2</text><line style=\"stroke: #383838; stroke-width: 1.5;\" x1=\"224\" x2=\"264\" y1=\"290.9375\" y2=\"290.9375\"/></a><!--MD5=[49a0ec8f00dab7302a31f22d0f0fe584]\n",
       "class E12--><a href=\"psysml:cd0027e5-9ed9-4216-bffa-1e31fa367fb3\" target=\"_top\" title=\"psysml:cd0027e5-9ed9-4216-bffa-1e31fa367fb3\" xlink:actuate=\"onRequest\" xlink:href=\"psysml:cd0027e5-9ed9-4216-bffa-1e31fa367fb3\" xlink:show=\"new\" xlink:title=\"psysml:cd0027e5-9ed9-4216-bffa-1e31fa367fb3\" xlink:type=\"simple\"><rect fill=\"#FFFFFF\" height=\"45.9375\" id=\"E12\" style=\"stroke: #383838; stroke-width: 1.5;\" width=\"70\" x=\"44\" y=\"41\"/><text fill=\"#000000\" font-family=\"sans-serif\" font-size=\"12\" font-style=\"italic\" lengthAdjust=\"spacingAndGlyphs\" textLength=\"68\" x=\"45\" y=\"57.1387\">«part  def»</text><text fill=\"#000000\" font-family=\"sans-serif\" font-size=\"12\" lengthAdjust=\"spacingAndGlyphs\" textLength=\"16\" x=\"71\" y=\"71.1074\">B1</text><line style=\"stroke: #383838; stroke-width: 1.5;\" x1=\"45\" x2=\"113\" y1=\"78.9375\" y2=\"78.9375\"/></a><!--MD5=[ee3c913d1a06f366521f9ef512b67efe]\n",
       "class E13--><a href=\"psysml:3cf8fc76-e05d-49bd-b29f-3b88a47b72de\" target=\"_top\" title=\"psysml:3cf8fc76-e05d-49bd-b29f-3b88a47b72de\" xlink:actuate=\"onRequest\" xlink:href=\"psysml:3cf8fc76-e05d-49bd-b29f-3b88a47b72de\" xlink:show=\"new\" xlink:title=\"psysml:3cf8fc76-e05d-49bd-b29f-3b88a47b72de\" xlink:type=\"simple\"><rect fill=\"#FFFFFF\" height=\"45.9375\" id=\"E13\" rx=\"10\" ry=\"10\" style=\"stroke: #383838; stroke-width: 1.5;\" width=\"42\" x=\"58\" y=\"147\"/><text fill=\"#000000\" font-family=\"sans-serif\" font-size=\"12\" font-style=\"italic\" lengthAdjust=\"spacingAndGlyphs\" textLength=\"40\" x=\"59\" y=\"163.1387\">«part»</text><text fill=\"#000000\" font-family=\"sans-serif\" font-size=\"12\" lengthAdjust=\"spacingAndGlyphs\" textLength=\"8\" x=\"73\" y=\"177.1074\">p</text><line style=\"stroke: #383838; stroke-width: 1.5;\" x1=\"59\" x2=\"99\" y1=\"184.9375\" y2=\"184.9375\"/></a><!--MD5=[bee11217b2f71d958a27249dc326068c]\n",
       "class E14--><a href=\"psysml:6cf362ef-4bb1-44a5-8272-767638a97c43\" target=\"_top\" title=\"psysml:6cf362ef-4bb1-44a5-8272-767638a97c43\" xlink:actuate=\"onRequest\" xlink:href=\"psysml:6cf362ef-4bb1-44a5-8272-767638a97c43\" xlink:show=\"new\" xlink:title=\"psysml:6cf362ef-4bb1-44a5-8272-767638a97c43\" xlink:type=\"simple\"><rect fill=\"#FFFFFF\" height=\"45.9375\" id=\"E14\" rx=\"10\" ry=\"10\" style=\"stroke: #383838; stroke-width: 1.5;\" width=\"42\" x=\"69\" y=\"253\"/><text fill=\"#000000\" font-family=\"sans-serif\" font-size=\"12\" font-style=\"italic\" lengthAdjust=\"spacingAndGlyphs\" textLength=\"40\" x=\"70\" y=\"269.1387\">«port»</text><text fill=\"#000000\" font-family=\"sans-serif\" font-size=\"12\" lengthAdjust=\"spacingAndGlyphs\" textLength=\"32\" x=\"72\" y=\"283.1074\">p1: P</text><line style=\"stroke: #383838; stroke-width: 1.5;\" x1=\"70\" x2=\"110\" y1=\"290.9375\" y2=\"290.9375\"/></a><!--MD5=[0c48fb7552dae8cbbef69381101a84c8]\n",
       "class E15--><a href=\"psysml:33e7cbb5-c462-4d34-9030-b3438d816b29\" target=\"_top\" title=\"psysml:33e7cbb5-c462-4d34-9030-b3438d816b29\" xlink:actuate=\"onRequest\" xlink:href=\"psysml:33e7cbb5-c462-4d34-9030-b3438d816b29\" xlink:show=\"new\" xlink:title=\"psysml:33e7cbb5-c462-4d34-9030-b3438d816b29\" xlink:type=\"simple\"><rect fill=\"#FFFFFF\" height=\"45.9375\" id=\"E15\" rx=\"10\" ry=\"10\" style=\"stroke: #383838; stroke-width: 1.5;\" width=\"42\" x=\"69\" y=\"359\"/><text fill=\"#000000\" font-family=\"sans-serif\" font-size=\"12\" font-style=\"italic\" lengthAdjust=\"spacingAndGlyphs\" textLength=\"40\" x=\"70\" y=\"375.1387\">«port»</text><text fill=\"#000000\" font-family=\"sans-serif\" font-size=\"12\" lengthAdjust=\"spacingAndGlyphs\" textLength=\"16\" x=\"80\" y=\"389.1074\">p2</text><line style=\"stroke: #383838; stroke-width: 1.5;\" x1=\"70\" x2=\"110\" y1=\"396.9375\" y2=\"396.9375\"/></a><!--MD5=[4672eba38e49728da53d11aeb285b987]\n",
       "reverse link E3 to E4--><a href=\"psysml:e09aa0cf-99c0-4ed5-833c-e6cdd9353c0b\" target=\"_top\" title=\"psysml:e09aa0cf-99c0-4ed5-833c-e6cdd9353c0b\" xlink:actuate=\"onRequest\" xlink:href=\"psysml:e09aa0cf-99c0-4ed5-833c-e6cdd9353c0b\" xlink:show=\"new\" xlink:title=\"psysml:e09aa0cf-99c0-4ed5-833c-e6cdd9353c0b\" xlink:type=\"simple\"><path d=\"M495.58,205.96 C490.95,221.51 485.63,239.33 481.56,252.98 \" fill=\"none\" id=\"E3&lt;-E4\" style=\"stroke: #383838; stroke-width: 1.0;\"/><polygon fill=\"#FFFFFF\" points=\"499.43,193.06,493.8824,197.6669,496.0012,204.5597,501.5488,199.9528,499.43,193.06\" style=\"stroke: #383838; stroke-width: 1.0;\"/><text fill=\"#000000\" font-family=\"sans-serif\" font-size=\"13\" lengthAdjust=\"spacingAndGlyphs\" textLength=\"8\" x=\"474.248\" y=\"241.8709\">1</text></a><!--MD5=[185131fc0dcab0a4505a2ebe144e961b]\n",
       "link E4 to E2--><a href=\"psysml:d96439d0-54ae-42c8-b560-5f0ede470e61\" target=\"_top\" title=\"psysml:d96439d0-54ae-42c8-b560-5f0ede470e61\" xlink:actuate=\"onRequest\" xlink:href=\"psysml:d96439d0-54ae-42c8-b560-5f0ede470e61\" xlink:show=\"new\" xlink:title=\"psysml:d96439d0-54ae-42c8-b560-5f0ede470e61\" xlink:type=\"simple\"><path d=\"M453.92,289.75 C448.47,292.89 442.57,296.17 437,299 C393.29,321.2 342.25,343.45 304.71,359.16 \" fill=\"none\" id=\"E4-&gt;E2\" style=\"stroke: #383838; stroke-width: 1.0;\"/><polygon fill=\"#FFFFFF\" points=\"286.15,366.85,301.0211,353.1077,306.3823,366.0405,286.15,366.85\" style=\"stroke: #383838; stroke-width: 1.0;\"/><ellipse cx=\"307.0525\" cy=\"352.7725\" fill=\"#383838\" rx=\"2\" ry=\"2\" style=\"stroke: #383838; stroke-width: 1.0;\"/><ellipse cx=\"310.8819\" cy=\"362.0102\" fill=\"#383838\" rx=\"2\" ry=\"2\" style=\"stroke: #383838; stroke-width: 1.0;\"/></a><!--MD5=[191cde3d490a3f6d7bb551fe3ddca469]\n",
       "reverse link E3 to E5--><a href=\"psysml:880a21a1-46d7-4f3d-9543-241b40e3ab4a\" target=\"_top\" title=\"psysml:880a21a1-46d7-4f3d-9543-241b40e3ab4a\" xlink:actuate=\"onRequest\" xlink:href=\"psysml:880a21a1-46d7-4f3d-9543-241b40e3ab4a\" xlink:show=\"new\" xlink:title=\"psysml:880a21a1-46d7-4f3d-9543-241b40e3ab4a\" xlink:type=\"simple\"><path d=\"M521.05,205.03 C528.02,220.78 536.1,239.06 542.26,252.98 \" fill=\"none\" id=\"E3&lt;-E5\" style=\"stroke: #383838; stroke-width: 1.0;\"/><polygon fill=\"#FFFFFF\" points=\"515.76,193.06,514.5329,200.1659,520.6202,204.0317,521.8473,196.9258,515.76,193.06\" style=\"stroke: #383838; stroke-width: 1.0;\"/><text fill=\"#000000\" font-family=\"sans-serif\" font-size=\"13\" lengthAdjust=\"spacingAndGlyphs\" textLength=\"8\" x=\"530.5674\" y=\"241.8709\">1</text></a><!--MD5=[3f50a3473f1dfb74d3f76443e03635af]\n",
       "reverse link E6 to E7--><a href=\"psysml:98390341-db8e-40b6-aced-fec2311e0a9d\" target=\"_top\" title=\"psysml:98390341-db8e-40b6-aced-fec2311e0a9d\" xlink:actuate=\"onRequest\" xlink:href=\"psysml:98390341-db8e-40b6-aced-fec2311e0a9d\" xlink:show=\"new\" xlink:title=\"psysml:98390341-db8e-40b6-aced-fec2311e0a9d\" xlink:type=\"simple\"><path d=\"M327.59,206.44 C326.11,221.87 324.42,239.47 323.12,252.98 \" fill=\"none\" id=\"E6&lt;-E7\" style=\"stroke: #383838; stroke-width: 1.0;\"/><polygon fill=\"#FFFFFF\" points=\"328.88,193.06,324.3242,198.6497,327.7317,205.0049,332.2875,199.4152,328.88,193.06\" style=\"stroke: #383838; stroke-width: 1.0;\"/><text fill=\"#000000\" font-family=\"sans-serif\" font-size=\"13\" lengthAdjust=\"spacingAndGlyphs\" textLength=\"8\" x=\"314.6148\" y=\"241.8709\">1</text></a><!--MD5=[583832df87f4419a098336a29a52fa00]\n",
       "link E7 to E2--><a href=\"psysml:6f9217eb-859f-4957-bc31-6c1306f83367\" target=\"_top\" title=\"psysml:6f9217eb-859f-4957-bc31-6c1306f83367\" xlink:actuate=\"onRequest\" xlink:href=\"psysml:6f9217eb-859f-4957-bc31-6c1306f83367\" xlink:show=\"new\" xlink:title=\"psysml:6f9217eb-859f-4957-bc31-6c1306f83367\" xlink:type=\"simple\"><path d=\"M306.15,299.06 C297.71,311.6 286.89,327.68 277.07,342.26 \" fill=\"none\" id=\"E7-&gt;E2\" style=\"stroke: #383838; stroke-width: 1.0;\"/><polygon fill=\"#FFFFFF\" points=\"265.82,358.98,270.609,339.306,282.2284,347.1156,265.82,358.98\" style=\"stroke: #383838; stroke-width: 1.0;\"/><ellipse cx=\"275.4486\" cy=\"335.6909\" fill=\"#383838\" rx=\"2\" ry=\"2\" style=\"stroke: #383838; stroke-width: 1.0;\"/><ellipse cx=\"283.7481\" cy=\"341.2692\" fill=\"#383838\" rx=\"2\" ry=\"2\" style=\"stroke: #383838; stroke-width: 1.0;\"/></a><!--MD5=[f4cf0736d43fd73c4ef68817c49d37d5]\n",
       "reverse link E6 to E8--><a href=\"psysml:15a7c7be-761e-4e1c-a126-babbedfba5ca\" target=\"_top\" title=\"psysml:15a7c7be-761e-4e1c-a126-babbedfba5ca\" xlink:actuate=\"onRequest\" xlink:href=\"psysml:15a7c7be-761e-4e1c-a126-babbedfba5ca\" xlink:show=\"new\" xlink:title=\"psysml:15a7c7be-761e-4e1c-a126-babbedfba5ca\" xlink:type=\"simple\"><path d=\"M352.32,204.09 C362.61,220.06 374.67,238.78 383.81,252.98 \" fill=\"none\" id=\"E6&lt;-E8\" style=\"stroke: #383838; stroke-width: 1.0;\"/><polygon fill=\"#FFFFFF\" points=\"345.21,193.06,345.0979,200.2702,351.7104,203.1469,351.8225,195.9366,345.21,193.06\" style=\"stroke: #383838; stroke-width: 1.0;\"/><text fill=\"#000000\" font-family=\"sans-serif\" font-size=\"13\" lengthAdjust=\"spacingAndGlyphs\" textLength=\"8\" x=\"370.9214\" y=\"241.8709\">1</text></a><!--MD5=[23ac544a70576c3e717098101004234c]\n",
       "reverse link E9 to E10--><a href=\"psysml:a15de342-1742-4b99-9b86-ed8c6fb30ab8\" target=\"_top\" title=\"psysml:a15de342-1742-4b99-9b86-ed8c6fb30ab8\" xlink:actuate=\"onRequest\" xlink:href=\"psysml:a15de342-1742-4b99-9b86-ed8c6fb30ab8\" xlink:show=\"new\" xlink:title=\"psysml:a15de342-1742-4b99-9b86-ed8c6fb30ab8\" xlink:type=\"simple\"><path d=\"M180.94,205.96 C177.8,221.51 174.2,239.33 171.45,252.98 \" fill=\"none\" id=\"E9&lt;-E10\" style=\"stroke: #383838; stroke-width: 1.0;\"/><polygon fill=\"#FFFFFF\" points=\"183.55,193.06,178.4422,198.1502,181.1763,204.8229,186.2841,199.7327,183.55,193.06\" style=\"stroke: #383838; stroke-width: 1.0;\"/><text fill=\"#000000\" font-family=\"sans-serif\" font-size=\"13\" lengthAdjust=\"spacingAndGlyphs\" textLength=\"8\" x=\"163.5709\" y=\"241.8709\">1</text></a><!--MD5=[0f36bececdf0dff6e600d6f64214b0f1]\n",
       "link E10 to E2--><a href=\"psysml:81b1dfc1-849b-47a4-a859-9ae7a728ef15\" target=\"_top\" title=\"psysml:81b1dfc1-849b-47a4-a859-9ae7a728ef15\" xlink:actuate=\"onRequest\" xlink:href=\"psysml:81b1dfc1-849b-47a4-a859-9ae7a728ef15\" xlink:show=\"new\" xlink:title=\"psysml:81b1dfc1-849b-47a4-a859-9ae7a728ef15\" xlink:type=\"simple\"><path d=\"M184.81,299.06 C195.17,311.88 208.51,328.39 220.49,343.22 \" fill=\"none\" id=\"E10-&gt;E2\" style=\"stroke: #383838; stroke-width: 1.0;\"/><polygon fill=\"#FFFFFF\" points=\"233.21,358.98,215.8236,348.6016,226.7127,339.8023,233.21,358.98\" style=\"stroke: #383838; stroke-width: 1.0;\"/><ellipse cx=\"213.7966\" cy=\"342.9111\" fill=\"#383838\" rx=\"2\" ry=\"2\" style=\"stroke: #383838; stroke-width: 1.0;\"/><ellipse cx=\"221.5745\" cy=\"336.6259\" fill=\"#383838\" rx=\"2\" ry=\"2\" style=\"stroke: #383838; stroke-width: 1.0;\"/></a><!--MD5=[1fc04a95fd77ad5ce46c1a3027516051]\n",
       "reverse link E9 to E11--><a href=\"psysml:fe2242fc-88cc-4430-bc2f-98e79ba2cc70\" target=\"_top\" title=\"psysml:fe2242fc-88cc-4430-bc2f-98e79ba2cc70\" xlink:actuate=\"onRequest\" xlink:href=\"psysml:fe2242fc-88cc-4430-bc2f-98e79ba2cc70\" xlink:show=\"new\" xlink:title=\"psysml:fe2242fc-88cc-4430-bc2f-98e79ba2cc70\" xlink:type=\"simple\"><path d=\"M206.07,204.56 C214.61,220.42 224.57,238.92 232.14,252.98 \" fill=\"none\" id=\"E9&lt;-E11\" style=\"stroke: #383838; stroke-width: 1.0;\"/><polygon fill=\"#FFFFFF\" points=\"199.88,193.06,199.2038,200.2393,205.5708,203.6248,206.247,196.4455,199.88,193.06\" style=\"stroke: #383838; stroke-width: 1.0;\"/><text fill=\"#000000\" font-family=\"sans-serif\" font-size=\"13\" lengthAdjust=\"spacingAndGlyphs\" textLength=\"8\" x=\"219.8776\" y=\"241.8709\">1</text></a><!--MD5=[062ed86c389d1a88f61c6380d0491e17]\n",
       "reverse link E12 to E13--><a href=\"psysml:0c56cab0-046e-4827-a921-af226384c943\" target=\"_top\" title=\"psysml:0c56cab0-046e-4827-a921-af226384c943\" xlink:actuate=\"onRequest\" xlink:href=\"psysml:0c56cab0-046e-4827-a921-af226384c943\" xlink:show=\"new\" xlink:title=\"psysml:0c56cab0-046e-4827-a921-af226384c943\" xlink:type=\"simple\"><path d=\"M79,100.44 C79,115.87 79,133.47 79,146.98 \" fill=\"none\" id=\"E12&lt;-E13\" style=\"stroke: #383838; stroke-width: 1.0;\"/><polygon fill=\"#FFFFFF\" points=\"79,87.06,75,93.06,79,99.06,83,93.06,79,87.06\" style=\"stroke: #383838; stroke-width: 1.0;\"/><text fill=\"#000000\" font-family=\"sans-serif\" font-size=\"13\" lengthAdjust=\"spacingAndGlyphs\" textLength=\"8\" x=\"69.925\" y=\"135.8709\">1</text></a><!--MD5=[01db00f33b28669d6d9febea71002831]\n",
       "reverse link E13 to E14--><a href=\"psysml:12334834-5f3e-4b20-9f0b-aad671391bfa\" target=\"_top\" title=\"psysml:12334834-5f3e-4b20-9f0b-aad671391bfa\" xlink:actuate=\"onRequest\" xlink:href=\"psysml:12334834-5f3e-4b20-9f0b-aad671391bfa\" xlink:show=\"new\" xlink:title=\"psysml:12334834-5f3e-4b20-9f0b-aad671391bfa\" xlink:type=\"simple\"><path d=\"M82.75,206.44 C84.38,221.87 86.24,239.47 87.67,252.98 \" fill=\"none\" id=\"E13&lt;-E14\" style=\"stroke: #383838; stroke-width: 1.0;\"/><polygon fill=\"#FFFFFF\" points=\"81.33,193.06,77.9783,199.4448,82.5828,204.9944,85.9345,198.6096,81.33,193.06\" style=\"stroke: #383838; stroke-width: 1.0;\"/><text fill=\"#000000\" font-family=\"sans-serif\" font-size=\"13\" lengthAdjust=\"spacingAndGlyphs\" textLength=\"8\" x=\"77.9688\" y=\"241.8709\">1</text></a><!--MD5=[e5566ac99d7714697a7fbc17f6b550fe]\n",
       "link E14 to E2--><a href=\"psysml:f15866fc-26c5-4fac-ba02-f8f796eed5e8\" target=\"_top\" title=\"psysml:f15866fc-26c5-4fac-ba02-f8f796eed5e8\" xlink:actuate=\"onRequest\" xlink:href=\"psysml:f15866fc-26c5-4fac-ba02-f8f796eed5e8\" xlink:show=\"new\" xlink:title=\"psysml:f15866fc-26c5-4fac-ba02-f8f796eed5e8\" xlink:type=\"simple\"><path d=\"M111.05,290.6 C133.49,305.09 169.87,328.59 199.91,348 \" fill=\"none\" id=\"E14-&gt;E2\" style=\"stroke: #383838; stroke-width: 1.0;\"/><polygon fill=\"#FFFFFF\" points=\"216.71,358.85,196.9529,354.4164,204.5518,342.6581,216.71,358.85\" style=\"stroke: #383838; stroke-width: 1.0;\"/><ellipse cx=\"193.2512\" cy=\"349.6428\" fill=\"#383838\" rx=\"2\" ry=\"2\" style=\"stroke: #383838; stroke-width: 1.0;\"/><ellipse cx=\"198.6789\" cy=\"341.244\" fill=\"#383838\" rx=\"2\" ry=\"2\" style=\"stroke: #383838; stroke-width: 1.0;\"/></a><!--MD5=[e9a5e828c71fd2209a11a152f562d491]\n",
       "reverse link E13 to E15--><a href=\"psysml:ce878baa-f80f-4009-adda-6088e19c872e\" target=\"_top\" title=\"psysml:ce878baa-f80f-4009-adda-6088e19c872e\" xlink:actuate=\"onRequest\" xlink:href=\"psysml:ce878baa-f80f-4009-adda-6088e19c872e\" xlink:show=\"new\" xlink:title=\"psysml:ce878baa-f80f-4009-adda-6088e19c872e\" xlink:type=\"simple\"><path d=\"M63.75,205.34 C54.23,231.13 45.02,267.31 52,299 C56.73,320.45 67.65,342.96 76.58,358.96 \" fill=\"none\" id=\"E13&lt;-E15\" style=\"stroke: #383838; stroke-width: 1.0;\"/><polygon fill=\"#FFFFFF\" points=\"68.52,193.23,62.5978,197.3443,64.1179,204.3934,70.0401,200.2791,68.52,193.23\" style=\"stroke: #383838; stroke-width: 1.0;\"/><text fill=\"#000000\" font-family=\"sans-serif\" font-size=\"13\" lengthAdjust=\"spacingAndGlyphs\" textLength=\"8\" x=\"63.8984\" y=\"347.8455\">1</text></a><!--MD5=[3afbdc645381407e1bc99677323a2513]\n",
       "link E14 to E15--><a href=\"psysml:1f31a0eb-24e7-4abd-8eab-15c525015988\" target=\"_top\" title=\"psysml:1f31a0eb-24e7-4abd-8eab-15c525015988\" xlink:actuate=\"onRequest\" xlink:href=\"psysml:1f31a0eb-24e7-4abd-8eab-15c525015988\" xlink:show=\"new\" xlink:title=\"psysml:1f31a0eb-24e7-4abd-8eab-15c525015988\" xlink:type=\"simple\"><path d=\"M79.35,299.06 C76.55,316.7 76.55,341.34 79.36,358.98 \" fill=\"none\" id=\"E14-E15\" style=\"stroke: #383838; stroke-width: 3.0;\"/></a><!--MD5=[3afbdc645381407e1bc99677323a2513]\n",
       "link E14 to E15--><a href=\"psysml:c2fd36d5-55a7-4367-ae55-c3f656adabca\" target=\"_top\" title=\"psysml:c2fd36d5-55a7-4367-ae55-c3f656adabca\" xlink:actuate=\"onRequest\" xlink:href=\"psysml:c2fd36d5-55a7-4367-ae55-c3f656adabca\" xlink:show=\"new\" xlink:title=\"psysml:c2fd36d5-55a7-4367-ae55-c3f656adabca\" xlink:type=\"simple\"><path d=\"M101.27,299.06 C104.24,316.7 104.24,341.34 101.27,358.98 \" fill=\"none\" id=\"E14-E15-1\" style=\"stroke: #383838; stroke-width: 3.0;\"/></a><!--MD5=[77b6c103d87ec1dff4994508715f95b3]\n",
       "@startuml\r\n",
       "skinparam monochrome true\r\n",
       "skinparam classbackgroundcolor white\r\n",
       "skinparam shadowing false\r\n",
       "skinparam wrapWidth 300\r\n",
       "hide circle\r\n",
       "\r\n",
       "package \"ConjugationTest\" as E1  [[psysml:4e179b45-ef84-478c-a2da-b16af7c43fe7 ]]  {\r\n",
       "comp def \"P\" as E2  <<(T,blue) port  def>> [[psysml:859d5a2d-b524-488b-9af4-e0f987adcacf ]] {\r\n",
       "}\r\n",
       "comp def \"B\" as E3  <<(T,blue) part  def>> [[psysml:615e73ac-8544-4e42-b424-8a4747867d0e ]] {\r\n",
       "}\r\n",
       "comp usage \"p1: P \" as E4  <<(T,blue) port>> [[psysml:37d2c32c-e4e6-4c0b-af75-96cd6556dd4d ]] {\r\n",
       "}\r\n",
       "comp usage \"p2 \" as E5  <<(T,blue) port>> [[psysml:a7d82e4a-e12d-4520-9ae6-c89754eb7506 ]] {\r\n",
       "}\r\n",
       "comp def \"A\" as E6  <<(T,blue) connection  def>> [[psysml:5cdadcae-4d33-45cc-84a1-e26eca79ba4d ]] {\r\n",
       "}\r\n",
       "comp usage \"p1: P \" as E7  <<(T,blue) port>> [[psysml:7fb982ae-cae7-41b0-848a-52bb93191ec3 ]] {\r\n",
       "}\r\n",
       "comp usage \"p2 \" as E8  <<(T,blue) port>> [[psysml:5c21b9df-62cf-4ee8-9145-76efb13de7e4 ]] {\r\n",
       "}\r\n",
       "comp def \"I\" as E9  <<(T,blue) interface  def>> [[psysml:2bbab23f-cc40-4354-88cc-493e0b41ffd4 ]] {\r\n",
       "}\r\n",
       "comp usage \"p1: P \" as E10  <<(T,blue) port>> [[psysml:e0785fbe-faad-409c-b39f-62ae49a7d6e0 ]] {\r\n",
       "}\r\n",
       "comp usage \"p2 \" as E11  <<(T,blue) port>> [[psysml:a18508b4-2f12-4bca-8dd1-291939c34d14 ]] {\r\n",
       "}\r\n",
       "comp def \"B1\" as E12  <<(T,blue) part  def>> [[psysml:cd0027e5-9ed9-4216-bffa-1e31fa367fb3 ]] {\r\n",
       "}\r\n",
       "comp usage \"p \" as E13  <<(T,blue) part>> [[psysml:3cf8fc76-e05d-49bd-b29f-3b88a47b72de ]] {\r\n",
       "}\r\n",
       "comp usage \"p1: P \" as E14  <<(T,blue) port>> [[psysml:6cf362ef-4bb1-44a5-8272-767638a97c43 ]] {\r\n",
       "}\r\n",
       "comp usage \"p2 \" as E15  <<(T,blue) port>> [[psysml:33e7cbb5-c462-4d34-9030-b3438d816b29 ]] {\r\n",
       "}\r\n",
       "}\r\n",
       "E3 o- - \"1\"E4 [[psysml:e09aa0cf-99c0-4ed5-833c-e6cdd9353c0b ]] \r\n",
       "E4 - -:|> E2 [[psysml:d96439d0-54ae-42c8-b560-5f0ede470e61 ]] \r\n",
       "E3 o- - \"1\"E5 [[psysml:880a21a1-46d7-4f3d-9543-241b40e3ab4a ]] \r\n",
       "E6 o- - \"1\"E7 [[psysml:98390341-db8e-40b6-aced-fec2311e0a9d ]] \r\n",
       "E7 - -:|> E2 [[psysml:6f9217eb-859f-4957-bc31-6c1306f83367 ]] \r\n",
       "E6 o- - \"1\"E8 [[psysml:15a7c7be-761e-4e1c-a126-babbedfba5ca ]] \r\n",
       "E9 o- - \"1\"E10 [[psysml:a15de342-1742-4b99-9b86-ed8c6fb30ab8 ]] \r\n",
       "E10 - -:|> E2 [[psysml:81b1dfc1-849b-47a4-a859-9ae7a728ef15 ]] \r\n",
       "E9 o- - \"1\"E11 [[psysml:fe2242fc-88cc-4430-bc2f-98e79ba2cc70 ]] \r\n",
       "E12 o- - \"1\"E13 [[psysml:0c56cab0-046e-4827-a921-af226384c943 ]] \r\n",
       "E13 o- - \"1\"E14 [[psysml:12334834-5f3e-4b20-9f0b-aad671391bfa ]] \r\n",
       "E14 - -:|> E2 [[psysml:f15866fc-26c5-4fac-ba02-f8f796eed5e8 ]] \r\n",
       "E13 o- - \"1\"E15 [[psysml:ce878baa-f80f-4009-adda-6088e19c872e ]] \r\n",
       "E14 -[thickness=3]- E15 [[psysml:1f31a0eb-24e7-4abd-8eab-15c525015988 ]] \r\n",
       "E14 -[thickness=3]- E15 [[psysml:c2fd36d5-55a7-4367-ae55-c3f656adabca ]] \r\n",
       "@enduml\r\n",
       "\n",
       "PlantUML version 1.2020.13(Sat Jun 13 12:26:38 UTC 2020)\n",
       "(EPL source distribution)\n",
       "Java Runtime: OpenJDK Runtime Environment\n",
       "JVM: OpenJDK 64-Bit Server VM\n",
       "Default Encoding: UTF-8\n",
       "Language: en\n",
       "Country: null\n",
       "--></g></svg>"
      ]
     },
     "execution_count": 43,
     "metadata": {},
     "output_type": "execute_result"
    }
   ],
   "source": [
    "%viz --style=\"DEFAULT\" --view=\"MIXED\" \"ConjugationTest\""
   ]
  },
  {
   "cell_type": "code",
   "execution_count": 44,
   "id": "7b86d5b6",
   "metadata": {
    "execution": {
     "iopub.execute_input": "2022-08-19T08:18:15.087176Z",
     "iopub.status.busy": "2022-08-19T08:18:15.086678Z",
     "iopub.status.idle": "2022-08-19T08:18:15.135140Z",
     "shell.execute_reply": "2022-08-19T08:18:15.134732Z"
    }
   },
   "outputs": [
    {
     "data": {
      "image/svg+xml": [
       "<?xml version=\"1.0\" encoding=\"UTF-8\" standalone=\"no\"?><svg xmlns=\"http://www.w3.org/2000/svg\" xmlns:xlink=\"http://www.w3.org/1999/xlink\" contentScriptType=\"application/ecmascript\" contentStyleType=\"text/css\" height=\"433px\" preserveAspectRatio=\"none\" style=\"width:611px;height:433px;\" version=\"1.1\" viewBox=\"0 0 611 433\" width=\"611px\" zoomAndPan=\"magnify\"><defs/><g><!--MD5=[fbc87193dbaf4d95561dea2c320d4a47]\n",
       "cluster E1--><a href=\"psysml:4e179b45-ef84-478c-a2da-b16af7c43fe7\" target=\"_top\" title=\"psysml:4e179b45-ef84-478c-a2da-b16af7c43fe7\" xlink:actuate=\"onRequest\" xlink:href=\"psysml:4e179b45-ef84-478c-a2da-b16af7c43fe7\" xlink:show=\"new\" xlink:title=\"psysml:4e179b45-ef84-478c-a2da-b16af7c43fe7\" xlink:type=\"simple\"><polygon fill=\"#FFFFFF\" points=\"16,6,136,6,143,28.2969,589,28.2969,589,421,16,421,16,6\" style=\"stroke: #000000; stroke-width: 1.5;\"/><line style=\"stroke: #000000; stroke-width: 1.5;\" x1=\"16\" x2=\"143\" y1=\"28.2969\" y2=\"28.2969\"/><text fill=\"#000000\" font-family=\"sans-serif\" font-size=\"14\" font-weight=\"bold\" lengthAdjust=\"spacingAndGlyphs\" textLength=\"114\" x=\"20\" y=\"20.9951\">ConjugationTest</text></a><!--MD5=[b4997ac47864f28c2f74865a473b2911]\n",
       "class E2--><a href=\"psysml:859d5a2d-b524-488b-9af4-e0f987adcacf\" target=\"_top\" title=\"psysml:859d5a2d-b524-488b-9af4-e0f987adcacf\" xlink:actuate=\"onRequest\" xlink:href=\"psysml:859d5a2d-b524-488b-9af4-e0f987adcacf\" xlink:show=\"new\" xlink:title=\"psysml:859d5a2d-b524-488b-9af4-e0f987adcacf\" xlink:type=\"simple\"><rect fill=\"#FFFFFF\" height=\"45.9375\" id=\"E2\" style=\"stroke: #383838; stroke-width: 1.5;\" width=\"70\" x=\"216\" y=\"359\"/><text fill=\"#000000\" font-family=\"sans-serif\" font-size=\"12\" font-style=\"italic\" lengthAdjust=\"spacingAndGlyphs\" textLength=\"68\" x=\"217\" y=\"375.1387\">«port  def»</text><text fill=\"#000000\" font-family=\"sans-serif\" font-size=\"12\" lengthAdjust=\"spacingAndGlyphs\" textLength=\"8\" x=\"247\" y=\"389.1074\">P</text><line style=\"stroke: #383838; stroke-width: 1.5;\" x1=\"217\" x2=\"285\" y1=\"396.9375\" y2=\"396.9375\"/></a><!--MD5=[09b614a08d8cba4a07c9adeb5e0fee81]\n",
       "class E3--><a href=\"psysml:615e73ac-8544-4e42-b424-8a4747867d0e\" target=\"_top\" title=\"psysml:615e73ac-8544-4e42-b424-8a4747867d0e\" xlink:actuate=\"onRequest\" xlink:href=\"psysml:615e73ac-8544-4e42-b424-8a4747867d0e\" xlink:show=\"new\" xlink:title=\"psysml:615e73ac-8544-4e42-b424-8a4747867d0e\" xlink:type=\"simple\"><rect fill=\"#FFFFFF\" height=\"45.9375\" id=\"E3\" style=\"stroke: #383838; stroke-width: 1.5;\" width=\"70\" x=\"471\" y=\"147\"/><text fill=\"#000000\" font-family=\"sans-serif\" font-size=\"12\" font-style=\"italic\" lengthAdjust=\"spacingAndGlyphs\" textLength=\"68\" x=\"472\" y=\"163.1387\">«part  def»</text><text fill=\"#000000\" font-family=\"sans-serif\" font-size=\"12\" lengthAdjust=\"spacingAndGlyphs\" textLength=\"8\" x=\"502\" y=\"177.1074\">B</text><line style=\"stroke: #383838; stroke-width: 1.5;\" x1=\"472\" x2=\"540\" y1=\"184.9375\" y2=\"184.9375\"/></a><!--MD5=[ebbe1d658d1005bcc118a6aa81145e00]\n",
       "class E4--><a href=\"psysml:37d2c32c-e4e6-4c0b-af75-96cd6556dd4d\" target=\"_top\" title=\"psysml:37d2c32c-e4e6-4c0b-af75-96cd6556dd4d\" xlink:actuate=\"onRequest\" xlink:href=\"psysml:37d2c32c-e4e6-4c0b-af75-96cd6556dd4d\" xlink:show=\"new\" xlink:title=\"psysml:37d2c32c-e4e6-4c0b-af75-96cd6556dd4d\" xlink:type=\"simple\"><rect fill=\"#FFFFFF\" height=\"45.9375\" id=\"E4\" rx=\"10\" ry=\"10\" style=\"stroke: #383838; stroke-width: 1.5;\" width=\"42\" x=\"454\" y=\"253\"/><text fill=\"#000000\" font-family=\"sans-serif\" font-size=\"12\" font-style=\"italic\" lengthAdjust=\"spacingAndGlyphs\" textLength=\"40\" x=\"455\" y=\"269.1387\">«port»</text><text fill=\"#000000\" font-family=\"sans-serif\" font-size=\"12\" lengthAdjust=\"spacingAndGlyphs\" textLength=\"32\" x=\"457\" y=\"283.1074\">p1: P</text><line style=\"stroke: #383838; stroke-width: 1.5;\" x1=\"455\" x2=\"495\" y1=\"290.9375\" y2=\"290.9375\"/></a><!--MD5=[270fce915f116d4de14055a7c1d9a0f3]\n",
       "class E5--><a href=\"psysml:a7d82e4a-e12d-4520-9ae6-c89754eb7506\" target=\"_top\" title=\"psysml:a7d82e4a-e12d-4520-9ae6-c89754eb7506\" xlink:actuate=\"onRequest\" xlink:href=\"psysml:a7d82e4a-e12d-4520-9ae6-c89754eb7506\" xlink:show=\"new\" xlink:title=\"psysml:a7d82e4a-e12d-4520-9ae6-c89754eb7506\" xlink:type=\"simple\"><rect fill=\"#FFFFFF\" height=\"45.9375\" id=\"E5\" rx=\"10\" ry=\"10\" style=\"stroke: #383838; stroke-width: 1.5;\" width=\"42\" x=\"531\" y=\"253\"/><text fill=\"#000000\" font-family=\"sans-serif\" font-size=\"12\" font-style=\"italic\" lengthAdjust=\"spacingAndGlyphs\" textLength=\"40\" x=\"532\" y=\"269.1387\">«port»</text><text fill=\"#000000\" font-family=\"sans-serif\" font-size=\"12\" lengthAdjust=\"spacingAndGlyphs\" textLength=\"16\" x=\"542\" y=\"283.1074\">p2</text><line style=\"stroke: #383838; stroke-width: 1.5;\" x1=\"532\" x2=\"572\" y1=\"290.9375\" y2=\"290.9375\"/></a><!--MD5=[60a26617385b1d2d0262a64233df1f8d]\n",
       "class E6--><a href=\"psysml:5cdadcae-4d33-45cc-84a1-e26eca79ba4d\" target=\"_top\" title=\"psysml:5cdadcae-4d33-45cc-84a1-e26eca79ba4d\" xlink:actuate=\"onRequest\" xlink:href=\"psysml:5cdadcae-4d33-45cc-84a1-e26eca79ba4d\" xlink:show=\"new\" xlink:title=\"psysml:5cdadcae-4d33-45cc-84a1-e26eca79ba4d\" xlink:type=\"simple\"><rect fill=\"#FFFFFF\" height=\"45.9375\" id=\"E6\" style=\"stroke: #383838; stroke-width: 1.5;\" width=\"114\" x=\"274\" y=\"147\"/><text fill=\"#000000\" font-family=\"sans-serif\" font-size=\"12\" font-style=\"italic\" lengthAdjust=\"spacingAndGlyphs\" textLength=\"112\" x=\"275\" y=\"163.1387\">«connection  def»</text><text fill=\"#000000\" font-family=\"sans-serif\" font-size=\"12\" lengthAdjust=\"spacingAndGlyphs\" textLength=\"8\" x=\"327\" y=\"177.1074\">A</text><line style=\"stroke: #383838; stroke-width: 1.5;\" x1=\"275\" x2=\"387\" y1=\"184.9375\" y2=\"184.9375\"/></a><!--MD5=[2156ba9850f5573cc1fc38a6a4b2f02b]\n",
       "class E7--><a href=\"psysml:7fb982ae-cae7-41b0-848a-52bb93191ec3\" target=\"_top\" title=\"psysml:7fb982ae-cae7-41b0-848a-52bb93191ec3\" xlink:actuate=\"onRequest\" xlink:href=\"psysml:7fb982ae-cae7-41b0-848a-52bb93191ec3\" xlink:show=\"new\" xlink:title=\"psysml:7fb982ae-cae7-41b0-848a-52bb93191ec3\" xlink:type=\"simple\"><rect fill=\"#FFFFFF\" height=\"45.9375\" id=\"E7\" rx=\"10\" ry=\"10\" style=\"stroke: #383838; stroke-width: 1.5;\" width=\"42\" x=\"300\" y=\"253\"/><text fill=\"#000000\" font-family=\"sans-serif\" font-size=\"12\" font-style=\"italic\" lengthAdjust=\"spacingAndGlyphs\" textLength=\"40\" x=\"301\" y=\"269.1387\">«port»</text><text fill=\"#000000\" font-family=\"sans-serif\" font-size=\"12\" lengthAdjust=\"spacingAndGlyphs\" textLength=\"32\" x=\"303\" y=\"283.1074\">p1: P</text><line style=\"stroke: #383838; stroke-width: 1.5;\" x1=\"301\" x2=\"341\" y1=\"290.9375\" y2=\"290.9375\"/></a><!--MD5=[b9389687b975829384b498ac4b7476b2]\n",
       "class E8--><a href=\"psysml:5c21b9df-62cf-4ee8-9145-76efb13de7e4\" target=\"_top\" title=\"psysml:5c21b9df-62cf-4ee8-9145-76efb13de7e4\" xlink:actuate=\"onRequest\" xlink:href=\"psysml:5c21b9df-62cf-4ee8-9145-76efb13de7e4\" xlink:show=\"new\" xlink:title=\"psysml:5c21b9df-62cf-4ee8-9145-76efb13de7e4\" xlink:type=\"simple\"><rect fill=\"#FFFFFF\" height=\"45.9375\" id=\"E8\" rx=\"10\" ry=\"10\" style=\"stroke: #383838; stroke-width: 1.5;\" width=\"42\" x=\"377\" y=\"253\"/><text fill=\"#000000\" font-family=\"sans-serif\" font-size=\"12\" font-style=\"italic\" lengthAdjust=\"spacingAndGlyphs\" textLength=\"40\" x=\"378\" y=\"269.1387\">«port»</text><text fill=\"#000000\" font-family=\"sans-serif\" font-size=\"12\" lengthAdjust=\"spacingAndGlyphs\" textLength=\"16\" x=\"388\" y=\"283.1074\">p2</text><line style=\"stroke: #383838; stroke-width: 1.5;\" x1=\"378\" x2=\"418\" y1=\"290.9375\" y2=\"290.9375\"/></a><!--MD5=[fd4143e9d270a159db93a4ea2a975926]\n",
       "class E9--><a href=\"psysml:2bbab23f-cc40-4354-88cc-493e0b41ffd4\" target=\"_top\" title=\"psysml:2bbab23f-cc40-4354-88cc-493e0b41ffd4\" xlink:actuate=\"onRequest\" xlink:href=\"psysml:2bbab23f-cc40-4354-88cc-493e0b41ffd4\" xlink:show=\"new\" xlink:title=\"psysml:2bbab23f-cc40-4354-88cc-493e0b41ffd4\" xlink:type=\"simple\"><rect fill=\"#FFFFFF\" height=\"45.9375\" id=\"E9\" style=\"stroke: #383838; stroke-width: 1.5;\" width=\"100\" x=\"138\" y=\"147\"/><text fill=\"#000000\" font-family=\"sans-serif\" font-size=\"12\" font-style=\"italic\" lengthAdjust=\"spacingAndGlyphs\" textLength=\"98\" x=\"139\" y=\"163.1387\">«interface  def»</text><text fill=\"#000000\" font-family=\"sans-serif\" font-size=\"12\" lengthAdjust=\"spacingAndGlyphs\" textLength=\"3\" x=\"186.5\" y=\"177.1074\">I</text><line style=\"stroke: #383838; stroke-width: 1.5;\" x1=\"139\" x2=\"237\" y1=\"184.9375\" y2=\"184.9375\"/></a><!--MD5=[96f4274e9e20536e775497830990834d]\n",
       "class E10--><a href=\"psysml:e0785fbe-faad-409c-b39f-62ae49a7d6e0\" target=\"_top\" title=\"psysml:e0785fbe-faad-409c-b39f-62ae49a7d6e0\" xlink:actuate=\"onRequest\" xlink:href=\"psysml:e0785fbe-faad-409c-b39f-62ae49a7d6e0\" xlink:show=\"new\" xlink:title=\"psysml:e0785fbe-faad-409c-b39f-62ae49a7d6e0\" xlink:type=\"simple\"><rect fill=\"#FFFFFF\" height=\"45.9375\" id=\"E10\" rx=\"10\" ry=\"10\" style=\"stroke: #383838; stroke-width: 1.5;\" width=\"42\" x=\"146\" y=\"253\"/><text fill=\"#000000\" font-family=\"sans-serif\" font-size=\"12\" font-style=\"italic\" lengthAdjust=\"spacingAndGlyphs\" textLength=\"40\" x=\"147\" y=\"269.1387\">«port»</text><text fill=\"#000000\" font-family=\"sans-serif\" font-size=\"12\" lengthAdjust=\"spacingAndGlyphs\" textLength=\"32\" x=\"149\" y=\"283.1074\">p1: P</text><line style=\"stroke: #383838; stroke-width: 1.5;\" x1=\"147\" x2=\"187\" y1=\"290.9375\" y2=\"290.9375\"/></a><!--MD5=[1dd1bfd58a279cf63c5f349dbc8fc6a1]\n",
       "class E11--><a href=\"psysml:a18508b4-2f12-4bca-8dd1-291939c34d14\" target=\"_top\" title=\"psysml:a18508b4-2f12-4bca-8dd1-291939c34d14\" xlink:actuate=\"onRequest\" xlink:href=\"psysml:a18508b4-2f12-4bca-8dd1-291939c34d14\" xlink:show=\"new\" xlink:title=\"psysml:a18508b4-2f12-4bca-8dd1-291939c34d14\" xlink:type=\"simple\"><rect fill=\"#FFFFFF\" height=\"45.9375\" id=\"E11\" rx=\"10\" ry=\"10\" style=\"stroke: #383838; stroke-width: 1.5;\" width=\"42\" x=\"223\" y=\"253\"/><text fill=\"#000000\" font-family=\"sans-serif\" font-size=\"12\" font-style=\"italic\" lengthAdjust=\"spacingAndGlyphs\" textLength=\"40\" x=\"224\" y=\"269.1387\">«port»</text><text fill=\"#000000\" font-family=\"sans-serif\" font-size=\"12\" lengthAdjust=\"spacingAndGlyphs\" textLength=\"16\" x=\"234\" y=\"283.1074\">p2</text><line style=\"stroke: #383838; stroke-width: 1.5;\" x1=\"224\" x2=\"264\" y1=\"290.9375\" y2=\"290.9375\"/></a><!--MD5=[49a0ec8f00dab7302a31f22d0f0fe584]\n",
       "class E12--><a href=\"psysml:cd0027e5-9ed9-4216-bffa-1e31fa367fb3\" target=\"_top\" title=\"psysml:cd0027e5-9ed9-4216-bffa-1e31fa367fb3\" xlink:actuate=\"onRequest\" xlink:href=\"psysml:cd0027e5-9ed9-4216-bffa-1e31fa367fb3\" xlink:show=\"new\" xlink:title=\"psysml:cd0027e5-9ed9-4216-bffa-1e31fa367fb3\" xlink:type=\"simple\"><rect fill=\"#FFFFFF\" height=\"45.9375\" id=\"E12\" style=\"stroke: #383838; stroke-width: 1.5;\" width=\"70\" x=\"44\" y=\"41\"/><text fill=\"#000000\" font-family=\"sans-serif\" font-size=\"12\" font-style=\"italic\" lengthAdjust=\"spacingAndGlyphs\" textLength=\"68\" x=\"45\" y=\"57.1387\">«part  def»</text><text fill=\"#000000\" font-family=\"sans-serif\" font-size=\"12\" lengthAdjust=\"spacingAndGlyphs\" textLength=\"16\" x=\"71\" y=\"71.1074\">B1</text><line style=\"stroke: #383838; stroke-width: 1.5;\" x1=\"45\" x2=\"113\" y1=\"78.9375\" y2=\"78.9375\"/></a><!--MD5=[ee3c913d1a06f366521f9ef512b67efe]\n",
       "class E13--><a href=\"psysml:3cf8fc76-e05d-49bd-b29f-3b88a47b72de\" target=\"_top\" title=\"psysml:3cf8fc76-e05d-49bd-b29f-3b88a47b72de\" xlink:actuate=\"onRequest\" xlink:href=\"psysml:3cf8fc76-e05d-49bd-b29f-3b88a47b72de\" xlink:show=\"new\" xlink:title=\"psysml:3cf8fc76-e05d-49bd-b29f-3b88a47b72de\" xlink:type=\"simple\"><rect fill=\"#FFFFFF\" height=\"45.9375\" id=\"E13\" rx=\"10\" ry=\"10\" style=\"stroke: #383838; stroke-width: 1.5;\" width=\"42\" x=\"58\" y=\"147\"/><text fill=\"#000000\" font-family=\"sans-serif\" font-size=\"12\" font-style=\"italic\" lengthAdjust=\"spacingAndGlyphs\" textLength=\"40\" x=\"59\" y=\"163.1387\">«part»</text><text fill=\"#000000\" font-family=\"sans-serif\" font-size=\"12\" lengthAdjust=\"spacingAndGlyphs\" textLength=\"8\" x=\"73\" y=\"177.1074\">p</text><line style=\"stroke: #383838; stroke-width: 1.5;\" x1=\"59\" x2=\"99\" y1=\"184.9375\" y2=\"184.9375\"/></a><!--MD5=[bee11217b2f71d958a27249dc326068c]\n",
       "class E14--><a href=\"psysml:6cf362ef-4bb1-44a5-8272-767638a97c43\" target=\"_top\" title=\"psysml:6cf362ef-4bb1-44a5-8272-767638a97c43\" xlink:actuate=\"onRequest\" xlink:href=\"psysml:6cf362ef-4bb1-44a5-8272-767638a97c43\" xlink:show=\"new\" xlink:title=\"psysml:6cf362ef-4bb1-44a5-8272-767638a97c43\" xlink:type=\"simple\"><rect fill=\"#FFFFFF\" height=\"45.9375\" id=\"E14\" rx=\"10\" ry=\"10\" style=\"stroke: #383838; stroke-width: 1.5;\" width=\"42\" x=\"69\" y=\"253\"/><text fill=\"#000000\" font-family=\"sans-serif\" font-size=\"12\" font-style=\"italic\" lengthAdjust=\"spacingAndGlyphs\" textLength=\"40\" x=\"70\" y=\"269.1387\">«port»</text><text fill=\"#000000\" font-family=\"sans-serif\" font-size=\"12\" lengthAdjust=\"spacingAndGlyphs\" textLength=\"32\" x=\"72\" y=\"283.1074\">p1: P</text><line style=\"stroke: #383838; stroke-width: 1.5;\" x1=\"70\" x2=\"110\" y1=\"290.9375\" y2=\"290.9375\"/></a><!--MD5=[0c48fb7552dae8cbbef69381101a84c8]\n",
       "class E15--><a href=\"psysml:33e7cbb5-c462-4d34-9030-b3438d816b29\" target=\"_top\" title=\"psysml:33e7cbb5-c462-4d34-9030-b3438d816b29\" xlink:actuate=\"onRequest\" xlink:href=\"psysml:33e7cbb5-c462-4d34-9030-b3438d816b29\" xlink:show=\"new\" xlink:title=\"psysml:33e7cbb5-c462-4d34-9030-b3438d816b29\" xlink:type=\"simple\"><rect fill=\"#FFFFFF\" height=\"45.9375\" id=\"E15\" rx=\"10\" ry=\"10\" style=\"stroke: #383838; stroke-width: 1.5;\" width=\"42\" x=\"69\" y=\"359\"/><text fill=\"#000000\" font-family=\"sans-serif\" font-size=\"12\" font-style=\"italic\" lengthAdjust=\"spacingAndGlyphs\" textLength=\"40\" x=\"70\" y=\"375.1387\">«port»</text><text fill=\"#000000\" font-family=\"sans-serif\" font-size=\"12\" lengthAdjust=\"spacingAndGlyphs\" textLength=\"16\" x=\"80\" y=\"389.1074\">p2</text><line style=\"stroke: #383838; stroke-width: 1.5;\" x1=\"70\" x2=\"110\" y1=\"396.9375\" y2=\"396.9375\"/></a><!--MD5=[4672eba38e49728da53d11aeb285b987]\n",
       "reverse link E3 to E4--><a href=\"psysml:e09aa0cf-99c0-4ed5-833c-e6cdd9353c0b\" target=\"_top\" title=\"psysml:e09aa0cf-99c0-4ed5-833c-e6cdd9353c0b\" xlink:actuate=\"onRequest\" xlink:href=\"psysml:e09aa0cf-99c0-4ed5-833c-e6cdd9353c0b\" xlink:show=\"new\" xlink:title=\"psysml:e09aa0cf-99c0-4ed5-833c-e6cdd9353c0b\" xlink:type=\"simple\"><path d=\"M495.58,205.96 C490.95,221.51 485.63,239.33 481.56,252.98 \" fill=\"none\" id=\"E3&lt;-E4\" style=\"stroke: #383838; stroke-width: 1.0;\"/><polygon fill=\"#FFFFFF\" points=\"499.43,193.06,493.8824,197.6669,496.0012,204.5597,501.5488,199.9528,499.43,193.06\" style=\"stroke: #383838; stroke-width: 1.0;\"/><text fill=\"#000000\" font-family=\"sans-serif\" font-size=\"13\" lengthAdjust=\"spacingAndGlyphs\" textLength=\"8\" x=\"474.248\" y=\"241.8709\">1</text></a><!--MD5=[185131fc0dcab0a4505a2ebe144e961b]\n",
       "link E4 to E2--><a href=\"psysml:d96439d0-54ae-42c8-b560-5f0ede470e61\" target=\"_top\" title=\"psysml:d96439d0-54ae-42c8-b560-5f0ede470e61\" xlink:actuate=\"onRequest\" xlink:href=\"psysml:d96439d0-54ae-42c8-b560-5f0ede470e61\" xlink:show=\"new\" xlink:title=\"psysml:d96439d0-54ae-42c8-b560-5f0ede470e61\" xlink:type=\"simple\"><path d=\"M453.92,289.75 C448.47,292.89 442.57,296.17 437,299 C393.29,321.2 342.25,343.45 304.71,359.16 \" fill=\"none\" id=\"E4-&gt;E2\" style=\"stroke: #383838; stroke-width: 1.0;\"/><polygon fill=\"#FFFFFF\" points=\"286.15,366.85,301.0211,353.1077,306.3823,366.0405,286.15,366.85\" style=\"stroke: #383838; stroke-width: 1.0;\"/><ellipse cx=\"307.0525\" cy=\"352.7725\" fill=\"#383838\" rx=\"2\" ry=\"2\" style=\"stroke: #383838; stroke-width: 1.0;\"/><ellipse cx=\"310.8819\" cy=\"362.0102\" fill=\"#383838\" rx=\"2\" ry=\"2\" style=\"stroke: #383838; stroke-width: 1.0;\"/></a><!--MD5=[191cde3d490a3f6d7bb551fe3ddca469]\n",
       "reverse link E3 to E5--><a href=\"psysml:880a21a1-46d7-4f3d-9543-241b40e3ab4a\" target=\"_top\" title=\"psysml:880a21a1-46d7-4f3d-9543-241b40e3ab4a\" xlink:actuate=\"onRequest\" xlink:href=\"psysml:880a21a1-46d7-4f3d-9543-241b40e3ab4a\" xlink:show=\"new\" xlink:title=\"psysml:880a21a1-46d7-4f3d-9543-241b40e3ab4a\" xlink:type=\"simple\"><path d=\"M521.05,205.03 C528.02,220.78 536.1,239.06 542.26,252.98 \" fill=\"none\" id=\"E3&lt;-E5\" style=\"stroke: #383838; stroke-width: 1.0;\"/><polygon fill=\"#FFFFFF\" points=\"515.76,193.06,514.5329,200.1659,520.6202,204.0317,521.8473,196.9258,515.76,193.06\" style=\"stroke: #383838; stroke-width: 1.0;\"/><text fill=\"#000000\" font-family=\"sans-serif\" font-size=\"13\" lengthAdjust=\"spacingAndGlyphs\" textLength=\"8\" x=\"530.5674\" y=\"241.8709\">1</text></a><!--MD5=[3f50a3473f1dfb74d3f76443e03635af]\n",
       "reverse link E6 to E7--><a href=\"psysml:98390341-db8e-40b6-aced-fec2311e0a9d\" target=\"_top\" title=\"psysml:98390341-db8e-40b6-aced-fec2311e0a9d\" xlink:actuate=\"onRequest\" xlink:href=\"psysml:98390341-db8e-40b6-aced-fec2311e0a9d\" xlink:show=\"new\" xlink:title=\"psysml:98390341-db8e-40b6-aced-fec2311e0a9d\" xlink:type=\"simple\"><path d=\"M327.59,206.44 C326.11,221.87 324.42,239.47 323.12,252.98 \" fill=\"none\" id=\"E6&lt;-E7\" style=\"stroke: #383838; stroke-width: 1.0;\"/><polygon fill=\"#FFFFFF\" points=\"328.88,193.06,324.3242,198.6497,327.7317,205.0049,332.2875,199.4152,328.88,193.06\" style=\"stroke: #383838; stroke-width: 1.0;\"/><text fill=\"#000000\" font-family=\"sans-serif\" font-size=\"13\" lengthAdjust=\"spacingAndGlyphs\" textLength=\"8\" x=\"314.6148\" y=\"241.8709\">1</text></a><!--MD5=[583832df87f4419a098336a29a52fa00]\n",
       "link E7 to E2--><a href=\"psysml:6f9217eb-859f-4957-bc31-6c1306f83367\" target=\"_top\" title=\"psysml:6f9217eb-859f-4957-bc31-6c1306f83367\" xlink:actuate=\"onRequest\" xlink:href=\"psysml:6f9217eb-859f-4957-bc31-6c1306f83367\" xlink:show=\"new\" xlink:title=\"psysml:6f9217eb-859f-4957-bc31-6c1306f83367\" xlink:type=\"simple\"><path d=\"M306.15,299.06 C297.71,311.6 286.89,327.68 277.07,342.26 \" fill=\"none\" id=\"E7-&gt;E2\" style=\"stroke: #383838; stroke-width: 1.0;\"/><polygon fill=\"#FFFFFF\" points=\"265.82,358.98,270.609,339.306,282.2284,347.1156,265.82,358.98\" style=\"stroke: #383838; stroke-width: 1.0;\"/><ellipse cx=\"275.4486\" cy=\"335.6909\" fill=\"#383838\" rx=\"2\" ry=\"2\" style=\"stroke: #383838; stroke-width: 1.0;\"/><ellipse cx=\"283.7481\" cy=\"341.2692\" fill=\"#383838\" rx=\"2\" ry=\"2\" style=\"stroke: #383838; stroke-width: 1.0;\"/></a><!--MD5=[f4cf0736d43fd73c4ef68817c49d37d5]\n",
       "reverse link E6 to E8--><a href=\"psysml:15a7c7be-761e-4e1c-a126-babbedfba5ca\" target=\"_top\" title=\"psysml:15a7c7be-761e-4e1c-a126-babbedfba5ca\" xlink:actuate=\"onRequest\" xlink:href=\"psysml:15a7c7be-761e-4e1c-a126-babbedfba5ca\" xlink:show=\"new\" xlink:title=\"psysml:15a7c7be-761e-4e1c-a126-babbedfba5ca\" xlink:type=\"simple\"><path d=\"M352.32,204.09 C362.61,220.06 374.67,238.78 383.81,252.98 \" fill=\"none\" id=\"E6&lt;-E8\" style=\"stroke: #383838; stroke-width: 1.0;\"/><polygon fill=\"#FFFFFF\" points=\"345.21,193.06,345.0979,200.2702,351.7104,203.1469,351.8225,195.9366,345.21,193.06\" style=\"stroke: #383838; stroke-width: 1.0;\"/><text fill=\"#000000\" font-family=\"sans-serif\" font-size=\"13\" lengthAdjust=\"spacingAndGlyphs\" textLength=\"8\" x=\"370.9214\" y=\"241.8709\">1</text></a><!--MD5=[23ac544a70576c3e717098101004234c]\n",
       "reverse link E9 to E10--><a href=\"psysml:a15de342-1742-4b99-9b86-ed8c6fb30ab8\" target=\"_top\" title=\"psysml:a15de342-1742-4b99-9b86-ed8c6fb30ab8\" xlink:actuate=\"onRequest\" xlink:href=\"psysml:a15de342-1742-4b99-9b86-ed8c6fb30ab8\" xlink:show=\"new\" xlink:title=\"psysml:a15de342-1742-4b99-9b86-ed8c6fb30ab8\" xlink:type=\"simple\"><path d=\"M180.94,205.96 C177.8,221.51 174.2,239.33 171.45,252.98 \" fill=\"none\" id=\"E9&lt;-E10\" style=\"stroke: #383838; stroke-width: 1.0;\"/><polygon fill=\"#FFFFFF\" points=\"183.55,193.06,178.4422,198.1502,181.1763,204.8229,186.2841,199.7327,183.55,193.06\" style=\"stroke: #383838; stroke-width: 1.0;\"/><text fill=\"#000000\" font-family=\"sans-serif\" font-size=\"13\" lengthAdjust=\"spacingAndGlyphs\" textLength=\"8\" x=\"163.5709\" y=\"241.8709\">1</text></a><!--MD5=[0f36bececdf0dff6e600d6f64214b0f1]\n",
       "link E10 to E2--><a href=\"psysml:81b1dfc1-849b-47a4-a859-9ae7a728ef15\" target=\"_top\" title=\"psysml:81b1dfc1-849b-47a4-a859-9ae7a728ef15\" xlink:actuate=\"onRequest\" xlink:href=\"psysml:81b1dfc1-849b-47a4-a859-9ae7a728ef15\" xlink:show=\"new\" xlink:title=\"psysml:81b1dfc1-849b-47a4-a859-9ae7a728ef15\" xlink:type=\"simple\"><path d=\"M184.81,299.06 C195.17,311.88 208.51,328.39 220.49,343.22 \" fill=\"none\" id=\"E10-&gt;E2\" style=\"stroke: #383838; stroke-width: 1.0;\"/><polygon fill=\"#FFFFFF\" points=\"233.21,358.98,215.8236,348.6016,226.7127,339.8023,233.21,358.98\" style=\"stroke: #383838; stroke-width: 1.0;\"/><ellipse cx=\"213.7966\" cy=\"342.9111\" fill=\"#383838\" rx=\"2\" ry=\"2\" style=\"stroke: #383838; stroke-width: 1.0;\"/><ellipse cx=\"221.5745\" cy=\"336.6259\" fill=\"#383838\" rx=\"2\" ry=\"2\" style=\"stroke: #383838; stroke-width: 1.0;\"/></a><!--MD5=[1fc04a95fd77ad5ce46c1a3027516051]\n",
       "reverse link E9 to E11--><a href=\"psysml:fe2242fc-88cc-4430-bc2f-98e79ba2cc70\" target=\"_top\" title=\"psysml:fe2242fc-88cc-4430-bc2f-98e79ba2cc70\" xlink:actuate=\"onRequest\" xlink:href=\"psysml:fe2242fc-88cc-4430-bc2f-98e79ba2cc70\" xlink:show=\"new\" xlink:title=\"psysml:fe2242fc-88cc-4430-bc2f-98e79ba2cc70\" xlink:type=\"simple\"><path d=\"M206.07,204.56 C214.61,220.42 224.57,238.92 232.14,252.98 \" fill=\"none\" id=\"E9&lt;-E11\" style=\"stroke: #383838; stroke-width: 1.0;\"/><polygon fill=\"#FFFFFF\" points=\"199.88,193.06,199.2038,200.2393,205.5708,203.6248,206.247,196.4455,199.88,193.06\" style=\"stroke: #383838; stroke-width: 1.0;\"/><text fill=\"#000000\" font-family=\"sans-serif\" font-size=\"13\" lengthAdjust=\"spacingAndGlyphs\" textLength=\"8\" x=\"219.8776\" y=\"241.8709\">1</text></a><!--MD5=[062ed86c389d1a88f61c6380d0491e17]\n",
       "reverse link E12 to E13--><a href=\"psysml:0c56cab0-046e-4827-a921-af226384c943\" target=\"_top\" title=\"psysml:0c56cab0-046e-4827-a921-af226384c943\" xlink:actuate=\"onRequest\" xlink:href=\"psysml:0c56cab0-046e-4827-a921-af226384c943\" xlink:show=\"new\" xlink:title=\"psysml:0c56cab0-046e-4827-a921-af226384c943\" xlink:type=\"simple\"><path d=\"M79,100.44 C79,115.87 79,133.47 79,146.98 \" fill=\"none\" id=\"E12&lt;-E13\" style=\"stroke: #383838; stroke-width: 1.0;\"/><polygon fill=\"#FFFFFF\" points=\"79,87.06,75,93.06,79,99.06,83,93.06,79,87.06\" style=\"stroke: #383838; stroke-width: 1.0;\"/><text fill=\"#000000\" font-family=\"sans-serif\" font-size=\"13\" lengthAdjust=\"spacingAndGlyphs\" textLength=\"8\" x=\"69.925\" y=\"135.8709\">1</text></a><!--MD5=[01db00f33b28669d6d9febea71002831]\n",
       "reverse link E13 to E14--><a href=\"psysml:12334834-5f3e-4b20-9f0b-aad671391bfa\" target=\"_top\" title=\"psysml:12334834-5f3e-4b20-9f0b-aad671391bfa\" xlink:actuate=\"onRequest\" xlink:href=\"psysml:12334834-5f3e-4b20-9f0b-aad671391bfa\" xlink:show=\"new\" xlink:title=\"psysml:12334834-5f3e-4b20-9f0b-aad671391bfa\" xlink:type=\"simple\"><path d=\"M82.75,206.44 C84.38,221.87 86.24,239.47 87.67,252.98 \" fill=\"none\" id=\"E13&lt;-E14\" style=\"stroke: #383838; stroke-width: 1.0;\"/><polygon fill=\"#FFFFFF\" points=\"81.33,193.06,77.9783,199.4448,82.5828,204.9944,85.9345,198.6096,81.33,193.06\" style=\"stroke: #383838; stroke-width: 1.0;\"/><text fill=\"#000000\" font-family=\"sans-serif\" font-size=\"13\" lengthAdjust=\"spacingAndGlyphs\" textLength=\"8\" x=\"77.9688\" y=\"241.8709\">1</text></a><!--MD5=[e5566ac99d7714697a7fbc17f6b550fe]\n",
       "link E14 to E2--><a href=\"psysml:f15866fc-26c5-4fac-ba02-f8f796eed5e8\" target=\"_top\" title=\"psysml:f15866fc-26c5-4fac-ba02-f8f796eed5e8\" xlink:actuate=\"onRequest\" xlink:href=\"psysml:f15866fc-26c5-4fac-ba02-f8f796eed5e8\" xlink:show=\"new\" xlink:title=\"psysml:f15866fc-26c5-4fac-ba02-f8f796eed5e8\" xlink:type=\"simple\"><path d=\"M111.05,290.6 C133.49,305.09 169.87,328.59 199.91,348 \" fill=\"none\" id=\"E14-&gt;E2\" style=\"stroke: #383838; stroke-width: 1.0;\"/><polygon fill=\"#FFFFFF\" points=\"216.71,358.85,196.9529,354.4164,204.5518,342.6581,216.71,358.85\" style=\"stroke: #383838; stroke-width: 1.0;\"/><ellipse cx=\"193.2512\" cy=\"349.6428\" fill=\"#383838\" rx=\"2\" ry=\"2\" style=\"stroke: #383838; stroke-width: 1.0;\"/><ellipse cx=\"198.6789\" cy=\"341.244\" fill=\"#383838\" rx=\"2\" ry=\"2\" style=\"stroke: #383838; stroke-width: 1.0;\"/></a><!--MD5=[e9a5e828c71fd2209a11a152f562d491]\n",
       "reverse link E13 to E15--><a href=\"psysml:ce878baa-f80f-4009-adda-6088e19c872e\" target=\"_top\" title=\"psysml:ce878baa-f80f-4009-adda-6088e19c872e\" xlink:actuate=\"onRequest\" xlink:href=\"psysml:ce878baa-f80f-4009-adda-6088e19c872e\" xlink:show=\"new\" xlink:title=\"psysml:ce878baa-f80f-4009-adda-6088e19c872e\" xlink:type=\"simple\"><path d=\"M63.75,205.34 C54.23,231.13 45.02,267.31 52,299 C56.73,320.45 67.65,342.96 76.58,358.96 \" fill=\"none\" id=\"E13&lt;-E15\" style=\"stroke: #383838; stroke-width: 1.0;\"/><polygon fill=\"#FFFFFF\" points=\"68.52,193.23,62.5978,197.3443,64.1179,204.3934,70.0401,200.2791,68.52,193.23\" style=\"stroke: #383838; stroke-width: 1.0;\"/><text fill=\"#000000\" font-family=\"sans-serif\" font-size=\"13\" lengthAdjust=\"spacingAndGlyphs\" textLength=\"8\" x=\"63.8984\" y=\"347.8455\">1</text></a><!--MD5=[3afbdc645381407e1bc99677323a2513]\n",
       "link E14 to E15--><a href=\"psysml:1f31a0eb-24e7-4abd-8eab-15c525015988\" target=\"_top\" title=\"psysml:1f31a0eb-24e7-4abd-8eab-15c525015988\" xlink:actuate=\"onRequest\" xlink:href=\"psysml:1f31a0eb-24e7-4abd-8eab-15c525015988\" xlink:show=\"new\" xlink:title=\"psysml:1f31a0eb-24e7-4abd-8eab-15c525015988\" xlink:type=\"simple\"><path d=\"M79.35,299.06 C76.55,316.7 76.55,341.34 79.36,358.98 \" fill=\"none\" id=\"E14-E15\" style=\"stroke: #383838; stroke-width: 3.0;\"/></a><!--MD5=[3afbdc645381407e1bc99677323a2513]\n",
       "link E14 to E15--><a href=\"psysml:c2fd36d5-55a7-4367-ae55-c3f656adabca\" target=\"_top\" title=\"psysml:c2fd36d5-55a7-4367-ae55-c3f656adabca\" xlink:actuate=\"onRequest\" xlink:href=\"psysml:c2fd36d5-55a7-4367-ae55-c3f656adabca\" xlink:show=\"new\" xlink:title=\"psysml:c2fd36d5-55a7-4367-ae55-c3f656adabca\" xlink:type=\"simple\"><path d=\"M101.27,299.06 C104.24,316.7 104.24,341.34 101.27,358.98 \" fill=\"none\" id=\"E14-E15-1\" style=\"stroke: #383838; stroke-width: 3.0;\"/></a><!--MD5=[d006ab9dab3b99fbd1d5a3e2a0268c41]\n",
       "@startuml\r\n",
       "top to bottom direction\r\n",
       "skinparam monochrome true\r\n",
       "skinparam classbackgroundcolor white\r\n",
       "skinparam shadowing false\r\n",
       "skinparam wrapWidth 300\r\n",
       "hide circle\r\n",
       "\r\n",
       "package \"ConjugationTest\" as E1  [[psysml:4e179b45-ef84-478c-a2da-b16af7c43fe7 ]]  {\r\n",
       "comp def \"P\" as E2  <<(T,blue) port  def>> [[psysml:859d5a2d-b524-488b-9af4-e0f987adcacf ]] {\r\n",
       "}\r\n",
       "comp def \"B\" as E3  <<(T,blue) part  def>> [[psysml:615e73ac-8544-4e42-b424-8a4747867d0e ]] {\r\n",
       "}\r\n",
       "comp usage \"p1: P \" as E4  <<(T,blue) port>> [[psysml:37d2c32c-e4e6-4c0b-af75-96cd6556dd4d ]] {\r\n",
       "}\r\n",
       "comp usage \"p2 \" as E5  <<(T,blue) port>> [[psysml:a7d82e4a-e12d-4520-9ae6-c89754eb7506 ]] {\r\n",
       "}\r\n",
       "comp def \"A\" as E6  <<(T,blue) connection  def>> [[psysml:5cdadcae-4d33-45cc-84a1-e26eca79ba4d ]] {\r\n",
       "}\r\n",
       "comp usage \"p1: P \" as E7  <<(T,blue) port>> [[psysml:7fb982ae-cae7-41b0-848a-52bb93191ec3 ]] {\r\n",
       "}\r\n",
       "comp usage \"p2 \" as E8  <<(T,blue) port>> [[psysml:5c21b9df-62cf-4ee8-9145-76efb13de7e4 ]] {\r\n",
       "}\r\n",
       "comp def \"I\" as E9  <<(T,blue) interface  def>> [[psysml:2bbab23f-cc40-4354-88cc-493e0b41ffd4 ]] {\r\n",
       "}\r\n",
       "comp usage \"p1: P \" as E10  <<(T,blue) port>> [[psysml:e0785fbe-faad-409c-b39f-62ae49a7d6e0 ]] {\r\n",
       "}\r\n",
       "comp usage \"p2 \" as E11  <<(T,blue) port>> [[psysml:a18508b4-2f12-4bca-8dd1-291939c34d14 ]] {\r\n",
       "}\r\n",
       "comp def \"B1\" as E12  <<(T,blue) part  def>> [[psysml:cd0027e5-9ed9-4216-bffa-1e31fa367fb3 ]] {\r\n",
       "}\r\n",
       "comp usage \"p \" as E13  <<(T,blue) part>> [[psysml:3cf8fc76-e05d-49bd-b29f-3b88a47b72de ]] {\r\n",
       "}\r\n",
       "comp usage \"p1: P \" as E14  <<(T,blue) port>> [[psysml:6cf362ef-4bb1-44a5-8272-767638a97c43 ]] {\r\n",
       "}\r\n",
       "comp usage \"p2 \" as E15  <<(T,blue) port>> [[psysml:33e7cbb5-c462-4d34-9030-b3438d816b29 ]] {\r\n",
       "}\r\n",
       "}\r\n",
       "E3 o- - \"1\"E4 [[psysml:e09aa0cf-99c0-4ed5-833c-e6cdd9353c0b ]] \r\n",
       "E4 - -:|> E2 [[psysml:d96439d0-54ae-42c8-b560-5f0ede470e61 ]] \r\n",
       "E3 o- - \"1\"E5 [[psysml:880a21a1-46d7-4f3d-9543-241b40e3ab4a ]] \r\n",
       "E6 o- - \"1\"E7 [[psysml:98390341-db8e-40b6-aced-fec2311e0a9d ]] \r\n",
       "E7 - -:|> E2 [[psysml:6f9217eb-859f-4957-bc31-6c1306f83367 ]] \r\n",
       "E6 o- - \"1\"E8 [[psysml:15a7c7be-761e-4e1c-a126-babbedfba5ca ]] \r\n",
       "E9 o- - \"1\"E10 [[psysml:a15de342-1742-4b99-9b86-ed8c6fb30ab8 ]] \r\n",
       "E10 - -:|> E2 [[psysml:81b1dfc1-849b-47a4-a859-9ae7a728ef15 ]] \r\n",
       "E9 o- - \"1\"E11 [[psysml:fe2242fc-88cc-4430-bc2f-98e79ba2cc70 ]] \r\n",
       "E12 o- - \"1\"E13 [[psysml:0c56cab0-046e-4827-a921-af226384c943 ]] \r\n",
       "E13 o- - \"1\"E14 [[psysml:12334834-5f3e-4b20-9f0b-aad671391bfa ]] \r\n",
       "E14 - -:|> E2 [[psysml:f15866fc-26c5-4fac-ba02-f8f796eed5e8 ]] \r\n",
       "E13 o- - \"1\"E15 [[psysml:ce878baa-f80f-4009-adda-6088e19c872e ]] \r\n",
       "E14 -[thickness=3]- E15 [[psysml:1f31a0eb-24e7-4abd-8eab-15c525015988 ]] \r\n",
       "E14 -[thickness=3]- E15 [[psysml:c2fd36d5-55a7-4367-ae55-c3f656adabca ]] \r\n",
       "@enduml\r\n",
       "\n",
       "PlantUML version 1.2020.13(Sat Jun 13 12:26:38 UTC 2020)\n",
       "(EPL source distribution)\n",
       "Java Runtime: OpenJDK Runtime Environment\n",
       "JVM: OpenJDK 64-Bit Server VM\n",
       "Default Encoding: UTF-8\n",
       "Language: en\n",
       "Country: null\n",
       "--></g></svg>"
      ]
     },
     "execution_count": 44,
     "metadata": {},
     "output_type": "execute_result"
    }
   ],
   "source": [
    "%viz --style=\"TB\" --view=\"Default\" \"ConjugationTest\""
   ]
  },
  {
   "cell_type": "code",
   "execution_count": 45,
   "id": "58ad089c",
   "metadata": {
    "execution": {
     "iopub.execute_input": "2022-08-19T08:18:15.184356Z",
     "iopub.status.busy": "2022-08-19T08:18:15.183908Z",
     "iopub.status.idle": "2022-08-19T08:18:15.231481Z",
     "shell.execute_reply": "2022-08-19T08:18:15.229826Z"
    }
   },
   "outputs": [
    {
     "data": {
      "image/svg+xml": [
       "<?xml version=\"1.0\" encoding=\"UTF-8\" standalone=\"no\"?><svg xmlns=\"http://www.w3.org/2000/svg\" xmlns:xlink=\"http://www.w3.org/1999/xlink\" contentScriptType=\"application/ecmascript\" contentStyleType=\"text/css\" height=\"433px\" preserveAspectRatio=\"none\" style=\"width:611px;height:433px;\" version=\"1.1\" viewBox=\"0 0 611 433\" width=\"611px\" zoomAndPan=\"magnify\"><defs/><g><!--MD5=[fbc87193dbaf4d95561dea2c320d4a47]\n",
       "cluster E1--><a href=\"psysml:4e179b45-ef84-478c-a2da-b16af7c43fe7\" target=\"_top\" title=\"psysml:4e179b45-ef84-478c-a2da-b16af7c43fe7\" xlink:actuate=\"onRequest\" xlink:href=\"psysml:4e179b45-ef84-478c-a2da-b16af7c43fe7\" xlink:show=\"new\" xlink:title=\"psysml:4e179b45-ef84-478c-a2da-b16af7c43fe7\" xlink:type=\"simple\"><polygon fill=\"#FFFFFF\" points=\"16,6,136,6,143,28.2969,589,28.2969,589,421,16,421,16,6\" style=\"stroke: #000000; stroke-width: 1.5;\"/><line style=\"stroke: #000000; stroke-width: 1.5;\" x1=\"16\" x2=\"143\" y1=\"28.2969\" y2=\"28.2969\"/><text fill=\"#000000\" font-family=\"sans-serif\" font-size=\"14\" font-weight=\"bold\" lengthAdjust=\"spacingAndGlyphs\" textLength=\"114\" x=\"20\" y=\"20.9951\">ConjugationTest</text></a><!--MD5=[b4997ac47864f28c2f74865a473b2911]\n",
       "class E2--><a href=\"psysml:859d5a2d-b524-488b-9af4-e0f987adcacf\" target=\"_top\" title=\"psysml:859d5a2d-b524-488b-9af4-e0f987adcacf\" xlink:actuate=\"onRequest\" xlink:href=\"psysml:859d5a2d-b524-488b-9af4-e0f987adcacf\" xlink:show=\"new\" xlink:title=\"psysml:859d5a2d-b524-488b-9af4-e0f987adcacf\" xlink:type=\"simple\"><rect fill=\"#FFFFFF\" height=\"45.9375\" id=\"E2\" style=\"stroke: #383838; stroke-width: 1.5;\" width=\"70\" x=\"216\" y=\"359\"/><text fill=\"#000000\" font-family=\"sans-serif\" font-size=\"12\" font-style=\"italic\" lengthAdjust=\"spacingAndGlyphs\" textLength=\"68\" x=\"217\" y=\"375.1387\">«port  def»</text><text fill=\"#000000\" font-family=\"sans-serif\" font-size=\"12\" lengthAdjust=\"spacingAndGlyphs\" textLength=\"8\" x=\"247\" y=\"389.1074\">P</text><line style=\"stroke: #383838; stroke-width: 1.5;\" x1=\"217\" x2=\"285\" y1=\"396.9375\" y2=\"396.9375\"/></a><!--MD5=[09b614a08d8cba4a07c9adeb5e0fee81]\n",
       "class E3--><a href=\"psysml:615e73ac-8544-4e42-b424-8a4747867d0e\" target=\"_top\" title=\"psysml:615e73ac-8544-4e42-b424-8a4747867d0e\" xlink:actuate=\"onRequest\" xlink:href=\"psysml:615e73ac-8544-4e42-b424-8a4747867d0e\" xlink:show=\"new\" xlink:title=\"psysml:615e73ac-8544-4e42-b424-8a4747867d0e\" xlink:type=\"simple\"><rect fill=\"#FFFFFF\" height=\"45.9375\" id=\"E3\" style=\"stroke: #383838; stroke-width: 1.5;\" width=\"70\" x=\"471\" y=\"147\"/><text fill=\"#000000\" font-family=\"sans-serif\" font-size=\"12\" font-style=\"italic\" lengthAdjust=\"spacingAndGlyphs\" textLength=\"68\" x=\"472\" y=\"163.1387\">«part  def»</text><text fill=\"#000000\" font-family=\"sans-serif\" font-size=\"12\" lengthAdjust=\"spacingAndGlyphs\" textLength=\"8\" x=\"502\" y=\"177.1074\">B</text><line style=\"stroke: #383838; stroke-width: 1.5;\" x1=\"472\" x2=\"540\" y1=\"184.9375\" y2=\"184.9375\"/></a><!--MD5=[ebbe1d658d1005bcc118a6aa81145e00]\n",
       "class E4--><a href=\"psysml:37d2c32c-e4e6-4c0b-af75-96cd6556dd4d\" target=\"_top\" title=\"psysml:37d2c32c-e4e6-4c0b-af75-96cd6556dd4d\" xlink:actuate=\"onRequest\" xlink:href=\"psysml:37d2c32c-e4e6-4c0b-af75-96cd6556dd4d\" xlink:show=\"new\" xlink:title=\"psysml:37d2c32c-e4e6-4c0b-af75-96cd6556dd4d\" xlink:type=\"simple\"><rect fill=\"#FFFFFF\" height=\"45.9375\" id=\"E4\" rx=\"10\" ry=\"10\" style=\"stroke: #383838; stroke-width: 1.5;\" width=\"42\" x=\"454\" y=\"253\"/><text fill=\"#000000\" font-family=\"sans-serif\" font-size=\"12\" font-style=\"italic\" lengthAdjust=\"spacingAndGlyphs\" textLength=\"40\" x=\"455\" y=\"269.1387\">«port»</text><text fill=\"#000000\" font-family=\"sans-serif\" font-size=\"12\" lengthAdjust=\"spacingAndGlyphs\" textLength=\"32\" x=\"457\" y=\"283.1074\">p1: P</text><line style=\"stroke: #383838; stroke-width: 1.5;\" x1=\"455\" x2=\"495\" y1=\"290.9375\" y2=\"290.9375\"/></a><!--MD5=[270fce915f116d4de14055a7c1d9a0f3]\n",
       "class E5--><a href=\"psysml:a7d82e4a-e12d-4520-9ae6-c89754eb7506\" target=\"_top\" title=\"psysml:a7d82e4a-e12d-4520-9ae6-c89754eb7506\" xlink:actuate=\"onRequest\" xlink:href=\"psysml:a7d82e4a-e12d-4520-9ae6-c89754eb7506\" xlink:show=\"new\" xlink:title=\"psysml:a7d82e4a-e12d-4520-9ae6-c89754eb7506\" xlink:type=\"simple\"><rect fill=\"#FFFFFF\" height=\"45.9375\" id=\"E5\" rx=\"10\" ry=\"10\" style=\"stroke: #383838; stroke-width: 1.5;\" width=\"42\" x=\"531\" y=\"253\"/><text fill=\"#000000\" font-family=\"sans-serif\" font-size=\"12\" font-style=\"italic\" lengthAdjust=\"spacingAndGlyphs\" textLength=\"40\" x=\"532\" y=\"269.1387\">«port»</text><text fill=\"#000000\" font-family=\"sans-serif\" font-size=\"12\" lengthAdjust=\"spacingAndGlyphs\" textLength=\"16\" x=\"542\" y=\"283.1074\">p2</text><line style=\"stroke: #383838; stroke-width: 1.5;\" x1=\"532\" x2=\"572\" y1=\"290.9375\" y2=\"290.9375\"/></a><!--MD5=[60a26617385b1d2d0262a64233df1f8d]\n",
       "class E6--><a href=\"psysml:5cdadcae-4d33-45cc-84a1-e26eca79ba4d\" target=\"_top\" title=\"psysml:5cdadcae-4d33-45cc-84a1-e26eca79ba4d\" xlink:actuate=\"onRequest\" xlink:href=\"psysml:5cdadcae-4d33-45cc-84a1-e26eca79ba4d\" xlink:show=\"new\" xlink:title=\"psysml:5cdadcae-4d33-45cc-84a1-e26eca79ba4d\" xlink:type=\"simple\"><rect fill=\"#FFFFFF\" height=\"45.9375\" id=\"E6\" style=\"stroke: #383838; stroke-width: 1.5;\" width=\"114\" x=\"274\" y=\"147\"/><text fill=\"#000000\" font-family=\"sans-serif\" font-size=\"12\" font-style=\"italic\" lengthAdjust=\"spacingAndGlyphs\" textLength=\"112\" x=\"275\" y=\"163.1387\">«connection  def»</text><text fill=\"#000000\" font-family=\"sans-serif\" font-size=\"12\" lengthAdjust=\"spacingAndGlyphs\" textLength=\"8\" x=\"327\" y=\"177.1074\">A</text><line style=\"stroke: #383838; stroke-width: 1.5;\" x1=\"275\" x2=\"387\" y1=\"184.9375\" y2=\"184.9375\"/></a><!--MD5=[2156ba9850f5573cc1fc38a6a4b2f02b]\n",
       "class E7--><a href=\"psysml:7fb982ae-cae7-41b0-848a-52bb93191ec3\" target=\"_top\" title=\"psysml:7fb982ae-cae7-41b0-848a-52bb93191ec3\" xlink:actuate=\"onRequest\" xlink:href=\"psysml:7fb982ae-cae7-41b0-848a-52bb93191ec3\" xlink:show=\"new\" xlink:title=\"psysml:7fb982ae-cae7-41b0-848a-52bb93191ec3\" xlink:type=\"simple\"><rect fill=\"#FFFFFF\" height=\"45.9375\" id=\"E7\" rx=\"10\" ry=\"10\" style=\"stroke: #383838; stroke-width: 1.5;\" width=\"42\" x=\"300\" y=\"253\"/><text fill=\"#000000\" font-family=\"sans-serif\" font-size=\"12\" font-style=\"italic\" lengthAdjust=\"spacingAndGlyphs\" textLength=\"40\" x=\"301\" y=\"269.1387\">«port»</text><text fill=\"#000000\" font-family=\"sans-serif\" font-size=\"12\" lengthAdjust=\"spacingAndGlyphs\" textLength=\"32\" x=\"303\" y=\"283.1074\">p1: P</text><line style=\"stroke: #383838; stroke-width: 1.5;\" x1=\"301\" x2=\"341\" y1=\"290.9375\" y2=\"290.9375\"/></a><!--MD5=[b9389687b975829384b498ac4b7476b2]\n",
       "class E8--><a href=\"psysml:5c21b9df-62cf-4ee8-9145-76efb13de7e4\" target=\"_top\" title=\"psysml:5c21b9df-62cf-4ee8-9145-76efb13de7e4\" xlink:actuate=\"onRequest\" xlink:href=\"psysml:5c21b9df-62cf-4ee8-9145-76efb13de7e4\" xlink:show=\"new\" xlink:title=\"psysml:5c21b9df-62cf-4ee8-9145-76efb13de7e4\" xlink:type=\"simple\"><rect fill=\"#FFFFFF\" height=\"45.9375\" id=\"E8\" rx=\"10\" ry=\"10\" style=\"stroke: #383838; stroke-width: 1.5;\" width=\"42\" x=\"377\" y=\"253\"/><text fill=\"#000000\" font-family=\"sans-serif\" font-size=\"12\" font-style=\"italic\" lengthAdjust=\"spacingAndGlyphs\" textLength=\"40\" x=\"378\" y=\"269.1387\">«port»</text><text fill=\"#000000\" font-family=\"sans-serif\" font-size=\"12\" lengthAdjust=\"spacingAndGlyphs\" textLength=\"16\" x=\"388\" y=\"283.1074\">p2</text><line style=\"stroke: #383838; stroke-width: 1.5;\" x1=\"378\" x2=\"418\" y1=\"290.9375\" y2=\"290.9375\"/></a><!--MD5=[fd4143e9d270a159db93a4ea2a975926]\n",
       "class E9--><a href=\"psysml:2bbab23f-cc40-4354-88cc-493e0b41ffd4\" target=\"_top\" title=\"psysml:2bbab23f-cc40-4354-88cc-493e0b41ffd4\" xlink:actuate=\"onRequest\" xlink:href=\"psysml:2bbab23f-cc40-4354-88cc-493e0b41ffd4\" xlink:show=\"new\" xlink:title=\"psysml:2bbab23f-cc40-4354-88cc-493e0b41ffd4\" xlink:type=\"simple\"><rect fill=\"#FFFFFF\" height=\"45.9375\" id=\"E9\" style=\"stroke: #383838; stroke-width: 1.5;\" width=\"100\" x=\"138\" y=\"147\"/><text fill=\"#000000\" font-family=\"sans-serif\" font-size=\"12\" font-style=\"italic\" lengthAdjust=\"spacingAndGlyphs\" textLength=\"98\" x=\"139\" y=\"163.1387\">«interface  def»</text><text fill=\"#000000\" font-family=\"sans-serif\" font-size=\"12\" lengthAdjust=\"spacingAndGlyphs\" textLength=\"3\" x=\"186.5\" y=\"177.1074\">I</text><line style=\"stroke: #383838; stroke-width: 1.5;\" x1=\"139\" x2=\"237\" y1=\"184.9375\" y2=\"184.9375\"/></a><!--MD5=[96f4274e9e20536e775497830990834d]\n",
       "class E10--><a href=\"psysml:e0785fbe-faad-409c-b39f-62ae49a7d6e0\" target=\"_top\" title=\"psysml:e0785fbe-faad-409c-b39f-62ae49a7d6e0\" xlink:actuate=\"onRequest\" xlink:href=\"psysml:e0785fbe-faad-409c-b39f-62ae49a7d6e0\" xlink:show=\"new\" xlink:title=\"psysml:e0785fbe-faad-409c-b39f-62ae49a7d6e0\" xlink:type=\"simple\"><rect fill=\"#FFFFFF\" height=\"45.9375\" id=\"E10\" rx=\"10\" ry=\"10\" style=\"stroke: #383838; stroke-width: 1.5;\" width=\"42\" x=\"146\" y=\"253\"/><text fill=\"#000000\" font-family=\"sans-serif\" font-size=\"12\" font-style=\"italic\" lengthAdjust=\"spacingAndGlyphs\" textLength=\"40\" x=\"147\" y=\"269.1387\">«port»</text><text fill=\"#000000\" font-family=\"sans-serif\" font-size=\"12\" lengthAdjust=\"spacingAndGlyphs\" textLength=\"32\" x=\"149\" y=\"283.1074\">p1: P</text><line style=\"stroke: #383838; stroke-width: 1.5;\" x1=\"147\" x2=\"187\" y1=\"290.9375\" y2=\"290.9375\"/></a><!--MD5=[1dd1bfd58a279cf63c5f349dbc8fc6a1]\n",
       "class E11--><a href=\"psysml:a18508b4-2f12-4bca-8dd1-291939c34d14\" target=\"_top\" title=\"psysml:a18508b4-2f12-4bca-8dd1-291939c34d14\" xlink:actuate=\"onRequest\" xlink:href=\"psysml:a18508b4-2f12-4bca-8dd1-291939c34d14\" xlink:show=\"new\" xlink:title=\"psysml:a18508b4-2f12-4bca-8dd1-291939c34d14\" xlink:type=\"simple\"><rect fill=\"#FFFFFF\" height=\"45.9375\" id=\"E11\" rx=\"10\" ry=\"10\" style=\"stroke: #383838; stroke-width: 1.5;\" width=\"42\" x=\"223\" y=\"253\"/><text fill=\"#000000\" font-family=\"sans-serif\" font-size=\"12\" font-style=\"italic\" lengthAdjust=\"spacingAndGlyphs\" textLength=\"40\" x=\"224\" y=\"269.1387\">«port»</text><text fill=\"#000000\" font-family=\"sans-serif\" font-size=\"12\" lengthAdjust=\"spacingAndGlyphs\" textLength=\"16\" x=\"234\" y=\"283.1074\">p2</text><line style=\"stroke: #383838; stroke-width: 1.5;\" x1=\"224\" x2=\"264\" y1=\"290.9375\" y2=\"290.9375\"/></a><!--MD5=[49a0ec8f00dab7302a31f22d0f0fe584]\n",
       "class E12--><a href=\"psysml:cd0027e5-9ed9-4216-bffa-1e31fa367fb3\" target=\"_top\" title=\"psysml:cd0027e5-9ed9-4216-bffa-1e31fa367fb3\" xlink:actuate=\"onRequest\" xlink:href=\"psysml:cd0027e5-9ed9-4216-bffa-1e31fa367fb3\" xlink:show=\"new\" xlink:title=\"psysml:cd0027e5-9ed9-4216-bffa-1e31fa367fb3\" xlink:type=\"simple\"><rect fill=\"#FFFFFF\" height=\"45.9375\" id=\"E12\" style=\"stroke: #383838; stroke-width: 1.5;\" width=\"70\" x=\"44\" y=\"41\"/><text fill=\"#000000\" font-family=\"sans-serif\" font-size=\"12\" font-style=\"italic\" lengthAdjust=\"spacingAndGlyphs\" textLength=\"68\" x=\"45\" y=\"57.1387\">«part  def»</text><text fill=\"#000000\" font-family=\"sans-serif\" font-size=\"12\" lengthAdjust=\"spacingAndGlyphs\" textLength=\"16\" x=\"71\" y=\"71.1074\">B1</text><line style=\"stroke: #383838; stroke-width: 1.5;\" x1=\"45\" x2=\"113\" y1=\"78.9375\" y2=\"78.9375\"/></a><!--MD5=[ee3c913d1a06f366521f9ef512b67efe]\n",
       "class E13--><a href=\"psysml:3cf8fc76-e05d-49bd-b29f-3b88a47b72de\" target=\"_top\" title=\"psysml:3cf8fc76-e05d-49bd-b29f-3b88a47b72de\" xlink:actuate=\"onRequest\" xlink:href=\"psysml:3cf8fc76-e05d-49bd-b29f-3b88a47b72de\" xlink:show=\"new\" xlink:title=\"psysml:3cf8fc76-e05d-49bd-b29f-3b88a47b72de\" xlink:type=\"simple\"><rect fill=\"#FFFFFF\" height=\"45.9375\" id=\"E13\" rx=\"10\" ry=\"10\" style=\"stroke: #383838; stroke-width: 1.5;\" width=\"42\" x=\"58\" y=\"147\"/><text fill=\"#000000\" font-family=\"sans-serif\" font-size=\"12\" font-style=\"italic\" lengthAdjust=\"spacingAndGlyphs\" textLength=\"40\" x=\"59\" y=\"163.1387\">«part»</text><text fill=\"#000000\" font-family=\"sans-serif\" font-size=\"12\" lengthAdjust=\"spacingAndGlyphs\" textLength=\"8\" x=\"73\" y=\"177.1074\">p</text><line style=\"stroke: #383838; stroke-width: 1.5;\" x1=\"59\" x2=\"99\" y1=\"184.9375\" y2=\"184.9375\"/></a><!--MD5=[bee11217b2f71d958a27249dc326068c]\n",
       "class E14--><a href=\"psysml:6cf362ef-4bb1-44a5-8272-767638a97c43\" target=\"_top\" title=\"psysml:6cf362ef-4bb1-44a5-8272-767638a97c43\" xlink:actuate=\"onRequest\" xlink:href=\"psysml:6cf362ef-4bb1-44a5-8272-767638a97c43\" xlink:show=\"new\" xlink:title=\"psysml:6cf362ef-4bb1-44a5-8272-767638a97c43\" xlink:type=\"simple\"><rect fill=\"#FFFFFF\" height=\"45.9375\" id=\"E14\" rx=\"10\" ry=\"10\" style=\"stroke: #383838; stroke-width: 1.5;\" width=\"42\" x=\"69\" y=\"253\"/><text fill=\"#000000\" font-family=\"sans-serif\" font-size=\"12\" font-style=\"italic\" lengthAdjust=\"spacingAndGlyphs\" textLength=\"40\" x=\"70\" y=\"269.1387\">«port»</text><text fill=\"#000000\" font-family=\"sans-serif\" font-size=\"12\" lengthAdjust=\"spacingAndGlyphs\" textLength=\"32\" x=\"72\" y=\"283.1074\">p1: P</text><line style=\"stroke: #383838; stroke-width: 1.5;\" x1=\"70\" x2=\"110\" y1=\"290.9375\" y2=\"290.9375\"/></a><!--MD5=[0c48fb7552dae8cbbef69381101a84c8]\n",
       "class E15--><a href=\"psysml:33e7cbb5-c462-4d34-9030-b3438d816b29\" target=\"_top\" title=\"psysml:33e7cbb5-c462-4d34-9030-b3438d816b29\" xlink:actuate=\"onRequest\" xlink:href=\"psysml:33e7cbb5-c462-4d34-9030-b3438d816b29\" xlink:show=\"new\" xlink:title=\"psysml:33e7cbb5-c462-4d34-9030-b3438d816b29\" xlink:type=\"simple\"><rect fill=\"#FFFFFF\" height=\"45.9375\" id=\"E15\" rx=\"10\" ry=\"10\" style=\"stroke: #383838; stroke-width: 1.5;\" width=\"42\" x=\"69\" y=\"359\"/><text fill=\"#000000\" font-family=\"sans-serif\" font-size=\"12\" font-style=\"italic\" lengthAdjust=\"spacingAndGlyphs\" textLength=\"40\" x=\"70\" y=\"375.1387\">«port»</text><text fill=\"#000000\" font-family=\"sans-serif\" font-size=\"12\" lengthAdjust=\"spacingAndGlyphs\" textLength=\"16\" x=\"80\" y=\"389.1074\">p2</text><line style=\"stroke: #383838; stroke-width: 1.5;\" x1=\"70\" x2=\"110\" y1=\"396.9375\" y2=\"396.9375\"/></a><!--MD5=[4672eba38e49728da53d11aeb285b987]\n",
       "reverse link E3 to E4--><a href=\"psysml:e09aa0cf-99c0-4ed5-833c-e6cdd9353c0b\" target=\"_top\" title=\"psysml:e09aa0cf-99c0-4ed5-833c-e6cdd9353c0b\" xlink:actuate=\"onRequest\" xlink:href=\"psysml:e09aa0cf-99c0-4ed5-833c-e6cdd9353c0b\" xlink:show=\"new\" xlink:title=\"psysml:e09aa0cf-99c0-4ed5-833c-e6cdd9353c0b\" xlink:type=\"simple\"><path d=\"M495.58,205.96 C490.95,221.51 485.63,239.33 481.56,252.98 \" fill=\"none\" id=\"E3&lt;-E4\" style=\"stroke: #383838; stroke-width: 1.0;\"/><polygon fill=\"#FFFFFF\" points=\"499.43,193.06,493.8824,197.6669,496.0012,204.5597,501.5488,199.9528,499.43,193.06\" style=\"stroke: #383838; stroke-width: 1.0;\"/><text fill=\"#000000\" font-family=\"sans-serif\" font-size=\"13\" lengthAdjust=\"spacingAndGlyphs\" textLength=\"8\" x=\"474.248\" y=\"241.8709\">1</text></a><!--MD5=[185131fc0dcab0a4505a2ebe144e961b]\n",
       "link E4 to E2--><a href=\"psysml:d96439d0-54ae-42c8-b560-5f0ede470e61\" target=\"_top\" title=\"psysml:d96439d0-54ae-42c8-b560-5f0ede470e61\" xlink:actuate=\"onRequest\" xlink:href=\"psysml:d96439d0-54ae-42c8-b560-5f0ede470e61\" xlink:show=\"new\" xlink:title=\"psysml:d96439d0-54ae-42c8-b560-5f0ede470e61\" xlink:type=\"simple\"><path d=\"M453.92,289.75 C448.47,292.89 442.57,296.17 437,299 C393.29,321.2 342.25,343.45 304.71,359.16 \" fill=\"none\" id=\"E4-&gt;E2\" style=\"stroke: #383838; stroke-width: 1.0;\"/><polygon fill=\"#FFFFFF\" points=\"286.15,366.85,301.0211,353.1077,306.3823,366.0405,286.15,366.85\" style=\"stroke: #383838; stroke-width: 1.0;\"/><ellipse cx=\"307.0525\" cy=\"352.7725\" fill=\"#383838\" rx=\"2\" ry=\"2\" style=\"stroke: #383838; stroke-width: 1.0;\"/><ellipse cx=\"310.8819\" cy=\"362.0102\" fill=\"#383838\" rx=\"2\" ry=\"2\" style=\"stroke: #383838; stroke-width: 1.0;\"/></a><!--MD5=[191cde3d490a3f6d7bb551fe3ddca469]\n",
       "reverse link E3 to E5--><a href=\"psysml:880a21a1-46d7-4f3d-9543-241b40e3ab4a\" target=\"_top\" title=\"psysml:880a21a1-46d7-4f3d-9543-241b40e3ab4a\" xlink:actuate=\"onRequest\" xlink:href=\"psysml:880a21a1-46d7-4f3d-9543-241b40e3ab4a\" xlink:show=\"new\" xlink:title=\"psysml:880a21a1-46d7-4f3d-9543-241b40e3ab4a\" xlink:type=\"simple\"><path d=\"M521.05,205.03 C528.02,220.78 536.1,239.06 542.26,252.98 \" fill=\"none\" id=\"E3&lt;-E5\" style=\"stroke: #383838; stroke-width: 1.0;\"/><polygon fill=\"#FFFFFF\" points=\"515.76,193.06,514.5329,200.1659,520.6202,204.0317,521.8473,196.9258,515.76,193.06\" style=\"stroke: #383838; stroke-width: 1.0;\"/><text fill=\"#000000\" font-family=\"sans-serif\" font-size=\"13\" lengthAdjust=\"spacingAndGlyphs\" textLength=\"8\" x=\"530.5674\" y=\"241.8709\">1</text></a><!--MD5=[3f50a3473f1dfb74d3f76443e03635af]\n",
       "reverse link E6 to E7--><a href=\"psysml:98390341-db8e-40b6-aced-fec2311e0a9d\" target=\"_top\" title=\"psysml:98390341-db8e-40b6-aced-fec2311e0a9d\" xlink:actuate=\"onRequest\" xlink:href=\"psysml:98390341-db8e-40b6-aced-fec2311e0a9d\" xlink:show=\"new\" xlink:title=\"psysml:98390341-db8e-40b6-aced-fec2311e0a9d\" xlink:type=\"simple\"><path d=\"M327.59,206.44 C326.11,221.87 324.42,239.47 323.12,252.98 \" fill=\"none\" id=\"E6&lt;-E7\" style=\"stroke: #383838; stroke-width: 1.0;\"/><polygon fill=\"#FFFFFF\" points=\"328.88,193.06,324.3242,198.6497,327.7317,205.0049,332.2875,199.4152,328.88,193.06\" style=\"stroke: #383838; stroke-width: 1.0;\"/><text fill=\"#000000\" font-family=\"sans-serif\" font-size=\"13\" lengthAdjust=\"spacingAndGlyphs\" textLength=\"8\" x=\"314.6148\" y=\"241.8709\">1</text></a><!--MD5=[583832df87f4419a098336a29a52fa00]\n",
       "link E7 to E2--><a href=\"psysml:6f9217eb-859f-4957-bc31-6c1306f83367\" target=\"_top\" title=\"psysml:6f9217eb-859f-4957-bc31-6c1306f83367\" xlink:actuate=\"onRequest\" xlink:href=\"psysml:6f9217eb-859f-4957-bc31-6c1306f83367\" xlink:show=\"new\" xlink:title=\"psysml:6f9217eb-859f-4957-bc31-6c1306f83367\" xlink:type=\"simple\"><path d=\"M306.15,299.06 C297.71,311.6 286.89,327.68 277.07,342.26 \" fill=\"none\" id=\"E7-&gt;E2\" style=\"stroke: #383838; stroke-width: 1.0;\"/><polygon fill=\"#FFFFFF\" points=\"265.82,358.98,270.609,339.306,282.2284,347.1156,265.82,358.98\" style=\"stroke: #383838; stroke-width: 1.0;\"/><ellipse cx=\"275.4486\" cy=\"335.6909\" fill=\"#383838\" rx=\"2\" ry=\"2\" style=\"stroke: #383838; stroke-width: 1.0;\"/><ellipse cx=\"283.7481\" cy=\"341.2692\" fill=\"#383838\" rx=\"2\" ry=\"2\" style=\"stroke: #383838; stroke-width: 1.0;\"/></a><!--MD5=[f4cf0736d43fd73c4ef68817c49d37d5]\n",
       "reverse link E6 to E8--><a href=\"psysml:15a7c7be-761e-4e1c-a126-babbedfba5ca\" target=\"_top\" title=\"psysml:15a7c7be-761e-4e1c-a126-babbedfba5ca\" xlink:actuate=\"onRequest\" xlink:href=\"psysml:15a7c7be-761e-4e1c-a126-babbedfba5ca\" xlink:show=\"new\" xlink:title=\"psysml:15a7c7be-761e-4e1c-a126-babbedfba5ca\" xlink:type=\"simple\"><path d=\"M352.32,204.09 C362.61,220.06 374.67,238.78 383.81,252.98 \" fill=\"none\" id=\"E6&lt;-E8\" style=\"stroke: #383838; stroke-width: 1.0;\"/><polygon fill=\"#FFFFFF\" points=\"345.21,193.06,345.0979,200.2702,351.7104,203.1469,351.8225,195.9366,345.21,193.06\" style=\"stroke: #383838; stroke-width: 1.0;\"/><text fill=\"#000000\" font-family=\"sans-serif\" font-size=\"13\" lengthAdjust=\"spacingAndGlyphs\" textLength=\"8\" x=\"370.9214\" y=\"241.8709\">1</text></a><!--MD5=[23ac544a70576c3e717098101004234c]\n",
       "reverse link E9 to E10--><a href=\"psysml:a15de342-1742-4b99-9b86-ed8c6fb30ab8\" target=\"_top\" title=\"psysml:a15de342-1742-4b99-9b86-ed8c6fb30ab8\" xlink:actuate=\"onRequest\" xlink:href=\"psysml:a15de342-1742-4b99-9b86-ed8c6fb30ab8\" xlink:show=\"new\" xlink:title=\"psysml:a15de342-1742-4b99-9b86-ed8c6fb30ab8\" xlink:type=\"simple\"><path d=\"M180.94,205.96 C177.8,221.51 174.2,239.33 171.45,252.98 \" fill=\"none\" id=\"E9&lt;-E10\" style=\"stroke: #383838; stroke-width: 1.0;\"/><polygon fill=\"#FFFFFF\" points=\"183.55,193.06,178.4422,198.1502,181.1763,204.8229,186.2841,199.7327,183.55,193.06\" style=\"stroke: #383838; stroke-width: 1.0;\"/><text fill=\"#000000\" font-family=\"sans-serif\" font-size=\"13\" lengthAdjust=\"spacingAndGlyphs\" textLength=\"8\" x=\"163.5709\" y=\"241.8709\">1</text></a><!--MD5=[0f36bececdf0dff6e600d6f64214b0f1]\n",
       "link E10 to E2--><a href=\"psysml:81b1dfc1-849b-47a4-a859-9ae7a728ef15\" target=\"_top\" title=\"psysml:81b1dfc1-849b-47a4-a859-9ae7a728ef15\" xlink:actuate=\"onRequest\" xlink:href=\"psysml:81b1dfc1-849b-47a4-a859-9ae7a728ef15\" xlink:show=\"new\" xlink:title=\"psysml:81b1dfc1-849b-47a4-a859-9ae7a728ef15\" xlink:type=\"simple\"><path d=\"M184.81,299.06 C195.17,311.88 208.51,328.39 220.49,343.22 \" fill=\"none\" id=\"E10-&gt;E2\" style=\"stroke: #383838; stroke-width: 1.0;\"/><polygon fill=\"#FFFFFF\" points=\"233.21,358.98,215.8236,348.6016,226.7127,339.8023,233.21,358.98\" style=\"stroke: #383838; stroke-width: 1.0;\"/><ellipse cx=\"213.7966\" cy=\"342.9111\" fill=\"#383838\" rx=\"2\" ry=\"2\" style=\"stroke: #383838; stroke-width: 1.0;\"/><ellipse cx=\"221.5745\" cy=\"336.6259\" fill=\"#383838\" rx=\"2\" ry=\"2\" style=\"stroke: #383838; stroke-width: 1.0;\"/></a><!--MD5=[1fc04a95fd77ad5ce46c1a3027516051]\n",
       "reverse link E9 to E11--><a href=\"psysml:fe2242fc-88cc-4430-bc2f-98e79ba2cc70\" target=\"_top\" title=\"psysml:fe2242fc-88cc-4430-bc2f-98e79ba2cc70\" xlink:actuate=\"onRequest\" xlink:href=\"psysml:fe2242fc-88cc-4430-bc2f-98e79ba2cc70\" xlink:show=\"new\" xlink:title=\"psysml:fe2242fc-88cc-4430-bc2f-98e79ba2cc70\" xlink:type=\"simple\"><path d=\"M206.07,204.56 C214.61,220.42 224.57,238.92 232.14,252.98 \" fill=\"none\" id=\"E9&lt;-E11\" style=\"stroke: #383838; stroke-width: 1.0;\"/><polygon fill=\"#FFFFFF\" points=\"199.88,193.06,199.2038,200.2393,205.5708,203.6248,206.247,196.4455,199.88,193.06\" style=\"stroke: #383838; stroke-width: 1.0;\"/><text fill=\"#000000\" font-family=\"sans-serif\" font-size=\"13\" lengthAdjust=\"spacingAndGlyphs\" textLength=\"8\" x=\"219.8776\" y=\"241.8709\">1</text></a><!--MD5=[062ed86c389d1a88f61c6380d0491e17]\n",
       "reverse link E12 to E13--><a href=\"psysml:0c56cab0-046e-4827-a921-af226384c943\" target=\"_top\" title=\"psysml:0c56cab0-046e-4827-a921-af226384c943\" xlink:actuate=\"onRequest\" xlink:href=\"psysml:0c56cab0-046e-4827-a921-af226384c943\" xlink:show=\"new\" xlink:title=\"psysml:0c56cab0-046e-4827-a921-af226384c943\" xlink:type=\"simple\"><path d=\"M79,100.44 C79,115.87 79,133.47 79,146.98 \" fill=\"none\" id=\"E12&lt;-E13\" style=\"stroke: #383838; stroke-width: 1.0;\"/><polygon fill=\"#FFFFFF\" points=\"79,87.06,75,93.06,79,99.06,83,93.06,79,87.06\" style=\"stroke: #383838; stroke-width: 1.0;\"/><text fill=\"#000000\" font-family=\"sans-serif\" font-size=\"13\" lengthAdjust=\"spacingAndGlyphs\" textLength=\"8\" x=\"69.925\" y=\"135.8709\">1</text></a><!--MD5=[01db00f33b28669d6d9febea71002831]\n",
       "reverse link E13 to E14--><a href=\"psysml:12334834-5f3e-4b20-9f0b-aad671391bfa\" target=\"_top\" title=\"psysml:12334834-5f3e-4b20-9f0b-aad671391bfa\" xlink:actuate=\"onRequest\" xlink:href=\"psysml:12334834-5f3e-4b20-9f0b-aad671391bfa\" xlink:show=\"new\" xlink:title=\"psysml:12334834-5f3e-4b20-9f0b-aad671391bfa\" xlink:type=\"simple\"><path d=\"M82.75,206.44 C84.38,221.87 86.24,239.47 87.67,252.98 \" fill=\"none\" id=\"E13&lt;-E14\" style=\"stroke: #383838; stroke-width: 1.0;\"/><polygon fill=\"#FFFFFF\" points=\"81.33,193.06,77.9783,199.4448,82.5828,204.9944,85.9345,198.6096,81.33,193.06\" style=\"stroke: #383838; stroke-width: 1.0;\"/><text fill=\"#000000\" font-family=\"sans-serif\" font-size=\"13\" lengthAdjust=\"spacingAndGlyphs\" textLength=\"8\" x=\"77.9688\" y=\"241.8709\">1</text></a><!--MD5=[e5566ac99d7714697a7fbc17f6b550fe]\n",
       "link E14 to E2--><a href=\"psysml:f15866fc-26c5-4fac-ba02-f8f796eed5e8\" target=\"_top\" title=\"psysml:f15866fc-26c5-4fac-ba02-f8f796eed5e8\" xlink:actuate=\"onRequest\" xlink:href=\"psysml:f15866fc-26c5-4fac-ba02-f8f796eed5e8\" xlink:show=\"new\" xlink:title=\"psysml:f15866fc-26c5-4fac-ba02-f8f796eed5e8\" xlink:type=\"simple\"><path d=\"M111.05,290.6 C133.49,305.09 169.87,328.59 199.91,348 \" fill=\"none\" id=\"E14-&gt;E2\" style=\"stroke: #383838; stroke-width: 1.0;\"/><polygon fill=\"#FFFFFF\" points=\"216.71,358.85,196.9529,354.4164,204.5518,342.6581,216.71,358.85\" style=\"stroke: #383838; stroke-width: 1.0;\"/><ellipse cx=\"193.2512\" cy=\"349.6428\" fill=\"#383838\" rx=\"2\" ry=\"2\" style=\"stroke: #383838; stroke-width: 1.0;\"/><ellipse cx=\"198.6789\" cy=\"341.244\" fill=\"#383838\" rx=\"2\" ry=\"2\" style=\"stroke: #383838; stroke-width: 1.0;\"/></a><!--MD5=[e9a5e828c71fd2209a11a152f562d491]\n",
       "reverse link E13 to E15--><a href=\"psysml:ce878baa-f80f-4009-adda-6088e19c872e\" target=\"_top\" title=\"psysml:ce878baa-f80f-4009-adda-6088e19c872e\" xlink:actuate=\"onRequest\" xlink:href=\"psysml:ce878baa-f80f-4009-adda-6088e19c872e\" xlink:show=\"new\" xlink:title=\"psysml:ce878baa-f80f-4009-adda-6088e19c872e\" xlink:type=\"simple\"><path d=\"M63.75,205.34 C54.23,231.13 45.02,267.31 52,299 C56.73,320.45 67.65,342.96 76.58,358.96 \" fill=\"none\" id=\"E13&lt;-E15\" style=\"stroke: #383838; stroke-width: 1.0;\"/><polygon fill=\"#FFFFFF\" points=\"68.52,193.23,62.5978,197.3443,64.1179,204.3934,70.0401,200.2791,68.52,193.23\" style=\"stroke: #383838; stroke-width: 1.0;\"/><text fill=\"#000000\" font-family=\"sans-serif\" font-size=\"13\" lengthAdjust=\"spacingAndGlyphs\" textLength=\"8\" x=\"63.8984\" y=\"347.8455\">1</text></a><!--MD5=[3afbdc645381407e1bc99677323a2513]\n",
       "link E14 to E15--><a href=\"psysml:1f31a0eb-24e7-4abd-8eab-15c525015988\" target=\"_top\" title=\"psysml:1f31a0eb-24e7-4abd-8eab-15c525015988\" xlink:actuate=\"onRequest\" xlink:href=\"psysml:1f31a0eb-24e7-4abd-8eab-15c525015988\" xlink:show=\"new\" xlink:title=\"psysml:1f31a0eb-24e7-4abd-8eab-15c525015988\" xlink:type=\"simple\"><path d=\"M79.35,299.06 C76.55,316.7 76.55,341.34 79.36,358.98 \" fill=\"none\" id=\"E14-E15\" style=\"stroke: #383838; stroke-width: 3.0;\"/></a><!--MD5=[3afbdc645381407e1bc99677323a2513]\n",
       "link E14 to E15--><a href=\"psysml:c2fd36d5-55a7-4367-ae55-c3f656adabca\" target=\"_top\" title=\"psysml:c2fd36d5-55a7-4367-ae55-c3f656adabca\" xlink:actuate=\"onRequest\" xlink:href=\"psysml:c2fd36d5-55a7-4367-ae55-c3f656adabca\" xlink:show=\"new\" xlink:title=\"psysml:c2fd36d5-55a7-4367-ae55-c3f656adabca\" xlink:type=\"simple\"><path d=\"M101.27,299.06 C104.24,316.7 104.24,341.34 101.27,358.98 \" fill=\"none\" id=\"E14-E15-1\" style=\"stroke: #383838; stroke-width: 3.0;\"/></a><!--MD5=[d006ab9dab3b99fbd1d5a3e2a0268c41]\n",
       "@startuml\r\n",
       "top to bottom direction\r\n",
       "skinparam monochrome true\r\n",
       "skinparam classbackgroundcolor white\r\n",
       "skinparam shadowing false\r\n",
       "skinparam wrapWidth 300\r\n",
       "hide circle\r\n",
       "\r\n",
       "package \"ConjugationTest\" as E1  [[psysml:4e179b45-ef84-478c-a2da-b16af7c43fe7 ]]  {\r\n",
       "comp def \"P\" as E2  <<(T,blue) port  def>> [[psysml:859d5a2d-b524-488b-9af4-e0f987adcacf ]] {\r\n",
       "}\r\n",
       "comp def \"B\" as E3  <<(T,blue) part  def>> [[psysml:615e73ac-8544-4e42-b424-8a4747867d0e ]] {\r\n",
       "}\r\n",
       "comp usage \"p1: P \" as E4  <<(T,blue) port>> [[psysml:37d2c32c-e4e6-4c0b-af75-96cd6556dd4d ]] {\r\n",
       "}\r\n",
       "comp usage \"p2 \" as E5  <<(T,blue) port>> [[psysml:a7d82e4a-e12d-4520-9ae6-c89754eb7506 ]] {\r\n",
       "}\r\n",
       "comp def \"A\" as E6  <<(T,blue) connection  def>> [[psysml:5cdadcae-4d33-45cc-84a1-e26eca79ba4d ]] {\r\n",
       "}\r\n",
       "comp usage \"p1: P \" as E7  <<(T,blue) port>> [[psysml:7fb982ae-cae7-41b0-848a-52bb93191ec3 ]] {\r\n",
       "}\r\n",
       "comp usage \"p2 \" as E8  <<(T,blue) port>> [[psysml:5c21b9df-62cf-4ee8-9145-76efb13de7e4 ]] {\r\n",
       "}\r\n",
       "comp def \"I\" as E9  <<(T,blue) interface  def>> [[psysml:2bbab23f-cc40-4354-88cc-493e0b41ffd4 ]] {\r\n",
       "}\r\n",
       "comp usage \"p1: P \" as E10  <<(T,blue) port>> [[psysml:e0785fbe-faad-409c-b39f-62ae49a7d6e0 ]] {\r\n",
       "}\r\n",
       "comp usage \"p2 \" as E11  <<(T,blue) port>> [[psysml:a18508b4-2f12-4bca-8dd1-291939c34d14 ]] {\r\n",
       "}\r\n",
       "comp def \"B1\" as E12  <<(T,blue) part  def>> [[psysml:cd0027e5-9ed9-4216-bffa-1e31fa367fb3 ]] {\r\n",
       "}\r\n",
       "comp usage \"p \" as E13  <<(T,blue) part>> [[psysml:3cf8fc76-e05d-49bd-b29f-3b88a47b72de ]] {\r\n",
       "}\r\n",
       "comp usage \"p1: P \" as E14  <<(T,blue) port>> [[psysml:6cf362ef-4bb1-44a5-8272-767638a97c43 ]] {\r\n",
       "}\r\n",
       "comp usage \"p2 \" as E15  <<(T,blue) port>> [[psysml:33e7cbb5-c462-4d34-9030-b3438d816b29 ]] {\r\n",
       "}\r\n",
       "}\r\n",
       "E3 o- - \"1\"E4 [[psysml:e09aa0cf-99c0-4ed5-833c-e6cdd9353c0b ]] \r\n",
       "E4 - -:|> E2 [[psysml:d96439d0-54ae-42c8-b560-5f0ede470e61 ]] \r\n",
       "E3 o- - \"1\"E5 [[psysml:880a21a1-46d7-4f3d-9543-241b40e3ab4a ]] \r\n",
       "E6 o- - \"1\"E7 [[psysml:98390341-db8e-40b6-aced-fec2311e0a9d ]] \r\n",
       "E7 - -:|> E2 [[psysml:6f9217eb-859f-4957-bc31-6c1306f83367 ]] \r\n",
       "E6 o- - \"1\"E8 [[psysml:15a7c7be-761e-4e1c-a126-babbedfba5ca ]] \r\n",
       "E9 o- - \"1\"E10 [[psysml:a15de342-1742-4b99-9b86-ed8c6fb30ab8 ]] \r\n",
       "E10 - -:|> E2 [[psysml:81b1dfc1-849b-47a4-a859-9ae7a728ef15 ]] \r\n",
       "E9 o- - \"1\"E11 [[psysml:fe2242fc-88cc-4430-bc2f-98e79ba2cc70 ]] \r\n",
       "E12 o- - \"1\"E13 [[psysml:0c56cab0-046e-4827-a921-af226384c943 ]] \r\n",
       "E13 o- - \"1\"E14 [[psysml:12334834-5f3e-4b20-9f0b-aad671391bfa ]] \r\n",
       "E14 - -:|> E2 [[psysml:f15866fc-26c5-4fac-ba02-f8f796eed5e8 ]] \r\n",
       "E13 o- - \"1\"E15 [[psysml:ce878baa-f80f-4009-adda-6088e19c872e ]] \r\n",
       "E14 -[thickness=3]- E15 [[psysml:1f31a0eb-24e7-4abd-8eab-15c525015988 ]] \r\n",
       "E14 -[thickness=3]- E15 [[psysml:c2fd36d5-55a7-4367-ae55-c3f656adabca ]] \r\n",
       "@enduml\r\n",
       "\n",
       "PlantUML version 1.2020.13(Sat Jun 13 12:26:38 UTC 2020)\n",
       "(EPL source distribution)\n",
       "Java Runtime: OpenJDK Runtime Environment\n",
       "JVM: OpenJDK 64-Bit Server VM\n",
       "Default Encoding: UTF-8\n",
       "Language: en\n",
       "Country: null\n",
       "--></g></svg>"
      ]
     },
     "execution_count": 45,
     "metadata": {},
     "output_type": "execute_result"
    }
   ],
   "source": [
    "%viz --style=\"TB\" --view=\"Tree\" \"ConjugationTest\""
   ]
  },
  {
   "cell_type": "code",
   "execution_count": 46,
   "id": "a348a80b",
   "metadata": {
    "execution": {
     "iopub.execute_input": "2022-08-19T08:18:15.280789Z",
     "iopub.status.busy": "2022-08-19T08:18:15.280344Z",
     "iopub.status.idle": "2022-08-19T08:18:15.284821Z",
     "shell.execute_reply": "2022-08-19T08:18:15.284449Z"
    }
   },
   "outputs": [
    {
     "data": {
      "image/svg+xml": [
       "<?xml version=\"1.0\" encoding=\"UTF-8\" standalone=\"no\"?><svg xmlns=\"http://www.w3.org/2000/svg\" xmlns:xlink=\"http://www.w3.org/1999/xlink\" contentScriptType=\"application/ecmascript\" contentStyleType=\"text/css\" height=\"12px\" preserveAspectRatio=\"none\" style=\"width:12px;height:12px;\" version=\"1.1\" viewBox=\"0 0 12 12\" width=\"12px\" zoomAndPan=\"magnify\"><defs/><g><!--MD5=[f4ee21bc66e489b5061b7c3e9601fdef]\n",
       "@startuml\r\n",
       "top to bottom direction\r\n",
       "skinparam monochrome true\r\n",
       "skinparam classbackgroundcolor white\r\n",
       "skinparam shadowing false\r\n",
       "skinparam wrapWidth 300\r\n",
       "hide circle\r\n",
       "\r\n",
       "@enduml\r\n",
       "\n",
       "PlantUML version 1.2020.13(Sat Jun 13 12:26:38 UTC 2020)\n",
       "(EPL source distribution)\n",
       "Java Runtime: OpenJDK Runtime Environment\n",
       "JVM: OpenJDK 64-Bit Server VM\n",
       "Default Encoding: UTF-8\n",
       "Language: en\n",
       "Country: null\n",
       "--></g></svg>"
      ]
     },
     "execution_count": 46,
     "metadata": {},
     "output_type": "execute_result"
    }
   ],
   "source": [
    "%viz --style=\"TB\" --view=\"State\" \"ConjugationTest\""
   ]
  },
  {
   "cell_type": "code",
   "execution_count": 47,
   "id": "e7456d78",
   "metadata": {
    "execution": {
     "iopub.execute_input": "2022-08-19T08:18:15.334832Z",
     "iopub.status.busy": "2022-08-19T08:18:15.334391Z",
     "iopub.status.idle": "2022-08-19T08:18:15.382181Z",
     "shell.execute_reply": "2022-08-19T08:18:15.380759Z"
    }
   },
   "outputs": [
    {
     "data": {
      "image/svg+xml": [
       "<?xml version=\"1.0\" encoding=\"UTF-8\" standalone=\"no\"?><svg xmlns=\"http://www.w3.org/2000/svg\" xmlns:xlink=\"http://www.w3.org/1999/xlink\" contentScriptType=\"application/ecmascript\" contentStyleType=\"text/css\" height=\"299px\" preserveAspectRatio=\"none\" style=\"width:765px;height:299px;\" version=\"1.1\" viewBox=\"0 0 765 299\" width=\"765px\" zoomAndPan=\"magnify\"><defs/><g><!--MD5=[fbc87193dbaf4d95561dea2c320d4a47]\n",
       "cluster E1--><a href=\"psysml:4e179b45-ef84-478c-a2da-b16af7c43fe7\" target=\"_top\" title=\"psysml:4e179b45-ef84-478c-a2da-b16af7c43fe7\" xlink:actuate=\"onRequest\" xlink:href=\"psysml:4e179b45-ef84-478c-a2da-b16af7c43fe7\" xlink:show=\"new\" xlink:title=\"psysml:4e179b45-ef84-478c-a2da-b16af7c43fe7\" xlink:type=\"simple\"><polygon fill=\"#FFFFFF\" points=\"16,6,136,6,143,28.2969,743,28.2969,743,287.36,16,287.36,16,6\" style=\"stroke: #000000; stroke-width: 1.5;\"/><line style=\"stroke: #000000; stroke-width: 1.5;\" x1=\"16\" x2=\"143\" y1=\"28.2969\" y2=\"28.2969\"/><text fill=\"#000000\" font-family=\"sans-serif\" font-size=\"14\" font-weight=\"bold\" lengthAdjust=\"spacingAndGlyphs\" textLength=\"114\" x=\"20\" y=\"20.9951\">ConjugationTest</text></a><!--MD5=[d5e69f78d87373223dbae638b30a9c99]\n",
       "cluster E3--><a href=\"psysml:615e73ac-8544-4e42-b424-8a4747867d0e\" target=\"_top\" title=\"psysml:615e73ac-8544-4e42-b424-8a4747867d0e\" xlink:actuate=\"onRequest\" xlink:href=\"psysml:615e73ac-8544-4e42-b424-8a4747867d0e\" xlink:show=\"new\" xlink:title=\"psysml:615e73ac-8544-4e42-b424-8a4747867d0e\" xlink:type=\"simple\"><rect fill=\"#FFFFFF\" height=\"88.5\" id=\"E3\" style=\"stroke: #383838; stroke-width: 1.5;\" width=\"85\" x=\"600\" y=\"114\"/><rect fill=\"#F8F8F8\" height=\"37.9375\" style=\"stroke: #383838; stroke-width: 1.5;\" width=\"85\" x=\"600\" y=\"114\"/><text fill=\"#000000\" font-family=\"sans-serif\" font-size=\"12\" font-style=\"italic\" lengthAdjust=\"spacingAndGlyphs\" textLength=\"68\" x=\"608.5\" y=\"130.1387\">«part  def»</text><text fill=\"#000000\" font-family=\"sans-serif\" font-size=\"12\" lengthAdjust=\"spacingAndGlyphs\" textLength=\"8\" x=\"638.5\" y=\"144.1074\">B</text></a><!--MD5=[14e3b0961a2654348d326746436168a1]\n",
       "cluster E6--><a href=\"psysml:5cdadcae-4d33-45cc-84a1-e26eca79ba4d\" target=\"_top\" title=\"psysml:5cdadcae-4d33-45cc-84a1-e26eca79ba4d\" xlink:actuate=\"onRequest\" xlink:href=\"psysml:5cdadcae-4d33-45cc-84a1-e26eca79ba4d\" xlink:show=\"new\" xlink:title=\"psysml:5cdadcae-4d33-45cc-84a1-e26eca79ba4d\" xlink:type=\"simple\"><rect fill=\"#FFFFFF\" height=\"88.5\" id=\"E6\" style=\"stroke: #383838; stroke-width: 1.5;\" width=\"152\" x=\"443\" y=\"114\"/><rect fill=\"#F8F8F8\" height=\"37.9375\" style=\"stroke: #383838; stroke-width: 1.5;\" width=\"152\" x=\"443\" y=\"114\"/><text fill=\"#000000\" font-family=\"sans-serif\" font-size=\"12\" font-style=\"italic\" lengthAdjust=\"spacingAndGlyphs\" textLength=\"112\" x=\"463\" y=\"130.1387\">«connection  def»</text><text fill=\"#000000\" font-family=\"sans-serif\" font-size=\"12\" lengthAdjust=\"spacingAndGlyphs\" textLength=\"8\" x=\"515\" y=\"144.1074\">A</text></a><!--MD5=[7f149f147074ac12df2cb0a7728a5fb0]\n",
       "cluster E9--><a href=\"psysml:2bbab23f-cc40-4354-88cc-493e0b41ffd4\" target=\"_top\" title=\"psysml:2bbab23f-cc40-4354-88cc-493e0b41ffd4\" xlink:actuate=\"onRequest\" xlink:href=\"psysml:2bbab23f-cc40-4354-88cc-493e0b41ffd4\" xlink:show=\"new\" xlink:title=\"psysml:2bbab23f-cc40-4354-88cc-493e0b41ffd4\" xlink:type=\"simple\"><rect fill=\"#FFFFFF\" height=\"88.5\" id=\"E9\" style=\"stroke: #383838; stroke-width: 1.5;\" width=\"143\" x=\"270\" y=\"114\"/><rect fill=\"#F8F8F8\" height=\"37.9375\" style=\"stroke: #383838; stroke-width: 1.5;\" width=\"143\" x=\"270\" y=\"114\"/><text fill=\"#000000\" font-family=\"sans-serif\" font-size=\"12\" font-style=\"italic\" lengthAdjust=\"spacingAndGlyphs\" textLength=\"98\" x=\"292.5\" y=\"130.1387\">«interface  def»</text><text fill=\"#000000\" font-family=\"sans-serif\" font-size=\"12\" lengthAdjust=\"spacingAndGlyphs\" textLength=\"3\" x=\"340\" y=\"144.1074\">I</text></a><!--MD5=[47bea60c1a0ac6c1143df232041969c0]\n",
       "cluster E12--><a href=\"psysml:cd0027e5-9ed9-4216-bffa-1e31fa367fb3\" target=\"_top\" title=\"psysml:cd0027e5-9ed9-4216-bffa-1e31fa367fb3\" xlink:actuate=\"onRequest\" xlink:href=\"psysml:cd0027e5-9ed9-4216-bffa-1e31fa367fb3\" xlink:show=\"new\" xlink:title=\"psysml:cd0027e5-9ed9-4216-bffa-1e31fa367fb3\" xlink:type=\"simple\"><rect fill=\"#FFFFFF\" height=\"214.36\" id=\"E12\" style=\"stroke: #383838; stroke-width: 1.5;\" width=\"119\" x=\"122\" y=\"49\"/><rect fill=\"#F8F8F8\" height=\"37.9375\" style=\"stroke: #383838; stroke-width: 1.5;\" width=\"119\" x=\"122\" y=\"49\"/><text fill=\"#000000\" font-family=\"sans-serif\" font-size=\"12\" font-style=\"italic\" lengthAdjust=\"spacingAndGlyphs\" textLength=\"68\" x=\"147.5\" y=\"65.1387\">«part  def»</text><text fill=\"#000000\" font-family=\"sans-serif\" font-size=\"12\" lengthAdjust=\"spacingAndGlyphs\" textLength=\"16\" x=\"173.5\" y=\"79.1074\">B1</text></a><!--MD5=[03104f77b71e2d8d3500c651e6e31181]\n",
       "cluster E13--><a href=\"psysml:3cf8fc76-e05d-49bd-b29f-3b88a47b72de\" target=\"_top\" title=\"psysml:3cf8fc76-e05d-49bd-b29f-3b88a47b72de\" xlink:actuate=\"onRequest\" xlink:href=\"psysml:3cf8fc76-e05d-49bd-b29f-3b88a47b72de\" xlink:show=\"new\" xlink:title=\"psysml:3cf8fc76-e05d-49bd-b29f-3b88a47b72de\" xlink:type=\"simple\"><rect fill=\"#FFFFFF\" height=\"119.36\" id=\"E13\" rx=\"10\" ry=\"10\" style=\"stroke: #383838; stroke-width: 1.5;\" width=\"86\" x=\"139\" y=\"114\"/><rect fill=\"#F8F8F8\" height=\"23.9688\" rx=\"10\" ry=\"10\" style=\"stroke: #F8F8F8; stroke-width: 1.5;\" width=\"86\" x=\"139\" y=\"114\"/><rect fill=\"#F8F8F8\" height=\"10\" style=\"stroke: #F8F8F8; stroke-width: 1.5;\" width=\"86\" x=\"139\" y=\"127.9688\"/><rect fill=\"none\" height=\"119.36\" id=\"E13\" rx=\"10\" ry=\"10\" style=\"stroke: #383838; stroke-width: 1.5;\" width=\"86\" x=\"139\" y=\"114\"/><text fill=\"#000000\" font-family=\"sans-serif\" font-size=\"12\" lengthAdjust=\"spacingAndGlyphs\" textLength=\"8\" x=\"178\" y=\"130.1387\">p</text><line style=\"stroke: #383838; stroke-width: 1.0;\" x1=\"139\" x2=\"225\" y1=\"137.9688\" y2=\"137.9688\"/></a><g id=\"E1.E2\"><a href=\"psysml:859d5a2d-b524-488b-9af4-e0f987adcacf\" target=\"_top\" title=\"psysml:859d5a2d-b524-488b-9af4-e0f987adcacf\" xlink:actuate=\"onRequest\" xlink:href=\"psysml:859d5a2d-b524-488b-9af4-e0f987adcacf\" xlink:show=\"new\" xlink:title=\"psysml:859d5a2d-b524-488b-9af4-e0f987adcacf\" xlink:type=\"simple\"><rect fill=\"#FFFFFF\" height=\"42.9375\" id=\"E2\" style=\"stroke: #383838; stroke-width: 1.5;\" width=\"75\" x=\"31.5\" y=\"92.5\"/><rect fill=\"#F8F8F8\" height=\"37.9375\" style=\"stroke: #383838; stroke-width: 1.5;\" width=\"75\" x=\"31.5\" y=\"92.5\"/><text fill=\"#000000\" font-family=\"sans-serif\" font-size=\"12\" font-style=\"italic\" lengthAdjust=\"spacingAndGlyphs\" textLength=\"68\" x=\"35\" y=\"108.6387\">«port  def»</text><text fill=\"#000000\" font-family=\"sans-serif\" font-size=\"12\" lengthAdjust=\"spacingAndGlyphs\" textLength=\"8\" x=\"65\" y=\"122.6074\">P</text></a></g><text fill=\"#000000\" font-family=\"sans-serif\" font-size=\"14\" lengthAdjust=\"spacingAndGlyphs\" textLength=\"36\" x=\"598\" y=\"92.6982\">p1: P</text><rect fill=\"#383838\" height=\"12\" style=\"stroke: #F8F8F8; stroke-width: 1.5;\" width=\"12\" x=\"612\" y=\"108\"/><text fill=\"#000000\" font-family=\"sans-serif\" font-size=\"14\" lengthAdjust=\"spacingAndGlyphs\" textLength=\"18\" x=\"654\" y=\"92.6982\">p2</text><rect fill=\"#383838\" height=\"12\" style=\"stroke: #F8F8F8; stroke-width: 1.5;\" width=\"12\" x=\"659\" y=\"108\"/><text fill=\"#000000\" font-family=\"sans-serif\" font-size=\"14\" lengthAdjust=\"spacingAndGlyphs\" textLength=\"36\" x=\"441\" y=\"92.6982\">p1: P</text><rect fill=\"#383838\" height=\"12\" style=\"stroke: #F8F8F8; stroke-width: 1.5;\" width=\"12\" x=\"455\" y=\"108\"/><text fill=\"#000000\" font-family=\"sans-serif\" font-size=\"14\" lengthAdjust=\"spacingAndGlyphs\" textLength=\"18\" x=\"497\" y=\"92.6982\">p2</text><rect fill=\"#383838\" height=\"12\" style=\"stroke: #F8F8F8; stroke-width: 1.5;\" width=\"12\" x=\"502\" y=\"108\"/><text fill=\"#000000\" font-family=\"sans-serif\" font-size=\"14\" lengthAdjust=\"spacingAndGlyphs\" textLength=\"36\" x=\"268\" y=\"92.6982\">p1: P</text><rect fill=\"#383838\" height=\"12\" style=\"stroke: #F8F8F8; stroke-width: 1.5;\" width=\"12\" x=\"282\" y=\"108\"/><text fill=\"#000000\" font-family=\"sans-serif\" font-size=\"14\" lengthAdjust=\"spacingAndGlyphs\" textLength=\"18\" x=\"324\" y=\"92.6982\">p2</text><rect fill=\"#383838\" height=\"12\" style=\"stroke: #F8F8F8; stroke-width: 1.5;\" width=\"12\" x=\"329\" y=\"108\"/><text fill=\"#000000\" font-family=\"sans-serif\" font-size=\"14\" lengthAdjust=\"spacingAndGlyphs\" textLength=\"36\" x=\"137\" y=\"252.3551\">p1: P</text><rect fill=\"#383838\" height=\"12\" style=\"stroke: #F8F8F8; stroke-width: 1.5;\" width=\"12\" x=\"151\" y=\"227.36\"/><text fill=\"#000000\" font-family=\"sans-serif\" font-size=\"14\" lengthAdjust=\"spacingAndGlyphs\" textLength=\"18\" x=\"156\" y=\"92.6982\">p2</text><rect fill=\"#383838\" height=\"12\" style=\"stroke: #F8F8F8; stroke-width: 1.5;\" width=\"12\" x=\"161\" y=\"108\"/><!--MD5=[3afbdc645381407e1bc99677323a2513]\n",
       "link E14 to E15--><a href=\"psysml:1f31a0eb-24e7-4abd-8eab-15c525015988\" target=\"_top\" title=\"psysml:1f31a0eb-24e7-4abd-8eab-15c525015988\" xlink:actuate=\"onRequest\" xlink:href=\"psysml:1f31a0eb-24e7-4abd-8eab-15c525015988\" xlink:show=\"new\" xlink:title=\"psysml:1f31a0eb-24e7-4abd-8eab-15c525015988\" xlink:type=\"simple\"><path d=\"M163.22,229.87 C168.78,228 175.08,224.8 179,219.36 C198.71,192.01 192.04,174.59 179,143.5 C173.54,130.48 158.91,120.41 160.88,116.63 \" fill=\"none\" id=\"E14-E15\" style=\"stroke: #383838; stroke-width: 3.0;\"/></a><!--MD5=[3afbdc645381407e1bc99677323a2513]\n",
       "link E14 to E15--><a href=\"psysml:c2fd36d5-55a7-4367-ae55-c3f656adabca\" target=\"_top\" title=\"psysml:c2fd36d5-55a7-4367-ae55-c3f656adabca\" xlink:actuate=\"onRequest\" xlink:href=\"psysml:c2fd36d5-55a7-4367-ae55-c3f656adabca\" xlink:show=\"new\" xlink:title=\"psysml:c2fd36d5-55a7-4367-ae55-c3f656adabca\" xlink:type=\"simple\"><path d=\"M163.24,232.4 C180.98,232.56 204.49,232.56 214,219.36 C233.71,192.01 227.04,174.59 214,143.5 C207.78,128.66 189.64,117.65 173.03,115.42 \" fill=\"none\" id=\"E14-E15-1\" style=\"stroke: #383838; stroke-width: 3.0;\"/></a><!--MD5=[70259f8385c3c13087e32b3ab55ec6a8]\n",
       "@startuml\r\n",
       "skinparam ranksep 10\r\n",
       "skinparam rectangle {\r\n",
       " backgroundColor<<block>> LightGreen\r\n",
       "}\r\n",
       "top to bottom direction\r\n",
       "skinparam monochrome true\r\n",
       "skinparam classbackgroundcolor white\r\n",
       "skinparam shadowing false\r\n",
       "skinparam wrapWidth 300\r\n",
       "hide circle\r\n",
       "\r\n",
       "package \"ConjugationTest\" as E1  [[psysml:4e179b45-ef84-478c-a2da-b16af7c43fe7 ]]  {\r\n",
       "def \"P\" as E2  <<(T,blue) port  def>> [[psysml:859d5a2d-b524-488b-9af4-e0f987adcacf ]] \r\n",
       "rec def \"B\" as E3  <<(T,blue) part  def>> [[psysml:615e73ac-8544-4e42-b424-8a4747867d0e ]] {\r\n",
       "portin \"p1: P \" as E4  <<(T,blue) port>> [[psysml:37d2c32c-e4e6-4c0b-af75-96cd6556dd4d ]] \r\n",
       "portin \"p2 \" as E5  <<(T,blue) port>> [[psysml:a7d82e4a-e12d-4520-9ae6-c89754eb7506 ]] \r\n",
       "}\r\n",
       "rec def \"A\" as E6  <<(T,blue) connection  def>> [[psysml:5cdadcae-4d33-45cc-84a1-e26eca79ba4d ]] {\r\n",
       "portin \"p1: P \" as E7  <<(T,blue) port>> [[psysml:7fb982ae-cae7-41b0-848a-52bb93191ec3 ]] \r\n",
       "portin \"p2 \" as E8  <<(T,blue) port>> [[psysml:5c21b9df-62cf-4ee8-9145-76efb13de7e4 ]] \r\n",
       "}\r\n",
       "rec def \"I\" as E9  <<(T,blue) interface  def>> [[psysml:2bbab23f-cc40-4354-88cc-493e0b41ffd4 ]] {\r\n",
       "portin \"p1: P \" as E10  <<(T,blue) port>> [[psysml:e0785fbe-faad-409c-b39f-62ae49a7d6e0 ]] \r\n",
       "portin \"p2 \" as E11  <<(T,blue) port>> [[psysml:a18508b4-2f12-4bca-8dd1-291939c34d14 ]] \r\n",
       "}\r\n",
       "rec def \"B1\" as E12  <<(T,blue) part  def>> [[psysml:cd0027e5-9ed9-4216-bffa-1e31fa367fb3 ]] {\r\n",
       "rec usage \"p\" as E13  [[psysml:3cf8fc76-e05d-49bd-b29f-3b88a47b72de ]] {\r\n",
       "portout \"p1: P \" as E14  <<(T,blue) port>> [[psysml:6cf362ef-4bb1-44a5-8272-767638a97c43 ]] \r\n",
       "portin \"p2 \" as E15  <<(T,blue) port>> [[psysml:33e7cbb5-c462-4d34-9030-b3438d816b29 ]] \r\n",
       "}\r\n",
       "}\r\n",
       "}\r\n",
       "E14 -[thickness=3]- E15 [[psysml:1f31a0eb-24e7-4abd-8eab-15c525015988 ]] \r\n",
       "E14 -[thickness=3]- E15 [[psysml:c2fd36d5-55a7-4367-ae55-c3f656adabca ]] \r\n",
       "@enduml\r\n",
       "\n",
       "PlantUML version 1.2020.13(Sat Jun 13 12:26:38 UTC 2020)\n",
       "(EPL source distribution)\n",
       "Java Runtime: OpenJDK Runtime Environment\n",
       "JVM: OpenJDK 64-Bit Server VM\n",
       "Default Encoding: UTF-8\n",
       "Language: en\n",
       "Country: null\n",
       "--></g></svg>"
      ]
     },
     "execution_count": 47,
     "metadata": {},
     "output_type": "execute_result"
    }
   ],
   "source": [
    "%viz --style=\"TB\" --view=\"Interconnection\" \"ConjugationTest\""
   ]
  },
  {
   "cell_type": "code",
   "execution_count": 48,
   "id": "dde03799",
   "metadata": {
    "execution": {
     "iopub.execute_input": "2022-08-19T08:18:15.431733Z",
     "iopub.status.busy": "2022-08-19T08:18:15.431276Z",
     "iopub.status.idle": "2022-08-19T08:18:15.436582Z",
     "shell.execute_reply": "2022-08-19T08:18:15.436133Z"
    }
   },
   "outputs": [
    {
     "data": {
      "image/svg+xml": [
       "<?xml version=\"1.0\" encoding=\"UTF-8\" standalone=\"no\"?><svg xmlns=\"http://www.w3.org/2000/svg\" xmlns:xlink=\"http://www.w3.org/1999/xlink\" contentScriptType=\"application/ecmascript\" contentStyleType=\"text/css\" height=\"12px\" preserveAspectRatio=\"none\" style=\"width:12px;height:12px;\" version=\"1.1\" viewBox=\"0 0 12 12\" width=\"12px\" zoomAndPan=\"magnify\"><defs/><g><!--MD5=[06afc254b03ac5e9d9fb7773b07d0800]\n",
       "@startuml\r\n",
       "skinparam ranksep 8\r\n",
       "top to bottom direction\r\n",
       "skinparam monochrome true\r\n",
       "skinparam classbackgroundcolor white\r\n",
       "skinparam shadowing false\r\n",
       "skinparam wrapWidth 300\r\n",
       "hide circle\r\n",
       "\r\n",
       "@enduml\r\n",
       "\n",
       "PlantUML version 1.2020.13(Sat Jun 13 12:26:38 UTC 2020)\n",
       "(EPL source distribution)\n",
       "Java Runtime: OpenJDK Runtime Environment\n",
       "JVM: OpenJDK 64-Bit Server VM\n",
       "Default Encoding: UTF-8\n",
       "Language: en\n",
       "Country: null\n",
       "--></g></svg>"
      ]
     },
     "execution_count": 48,
     "metadata": {},
     "output_type": "execute_result"
    }
   ],
   "source": [
    "%viz --style=\"TB\" --view=\"Action\" \"ConjugationTest\""
   ]
  },
  {
   "cell_type": "code",
   "execution_count": 49,
   "id": "4e77123b",
   "metadata": {
    "execution": {
     "iopub.execute_input": "2022-08-19T08:18:15.486628Z",
     "iopub.status.busy": "2022-08-19T08:18:15.486168Z",
     "iopub.status.idle": "2022-08-19T08:18:15.491559Z",
     "shell.execute_reply": "2022-08-19T08:18:15.491187Z"
    }
   },
   "outputs": [
    {
     "data": {
      "image/svg+xml": [
       "<?xml version=\"1.0\" encoding=\"UTF-8\" standalone=\"no\"?><svg xmlns=\"http://www.w3.org/2000/svg\" xmlns:xlink=\"http://www.w3.org/1999/xlink\" contentScriptType=\"application/ecmascript\" contentStyleType=\"text/css\" height=\"12px\" preserveAspectRatio=\"none\" style=\"width:12px;height:12px;\" version=\"1.1\" viewBox=\"0 0 12 12\" width=\"12px\" zoomAndPan=\"magnify\"><defs/><g><!--MD5=[e1ab0c84c44d2fef8bf5f140f2689906]\n",
       "@startuml\r\n",
       "skinparam roundcorner 20\r\n",
       "skinparam BoxPadding 20\r\n",
       "skinparam SequenceBoxBackgroundColor #white\r\n",
       "skinparam style strictuml\r\n",
       "skinparam maxMessageSize 100\r\n",
       "top to bottom direction\r\n",
       "skinparam monochrome true\r\n",
       "skinparam classbackgroundcolor white\r\n",
       "skinparam shadowing false\r\n",
       "skinparam wrapWidth 300\r\n",
       "hide circle\r\n",
       "\r\n",
       "@enduml\r\n",
       "\n",
       "PlantUML version 1.2020.13(Sat Jun 13 12:26:38 UTC 2020)\n",
       "(EPL source distribution)\n",
       "Java Runtime: OpenJDK Runtime Environment\n",
       "JVM: OpenJDK 64-Bit Server VM\n",
       "Default Encoding: UTF-8\n",
       "Language: en\n",
       "Country: null\n",
       "--></g></svg>"
      ]
     },
     "execution_count": 49,
     "metadata": {},
     "output_type": "execute_result"
    }
   ],
   "source": [
    "%viz --style=\"TB\" --view=\"Sequence\" \"ConjugationTest\""
   ]
  },
  {
   "cell_type": "code",
   "execution_count": 50,
   "id": "f6b65b18",
   "metadata": {
    "execution": {
     "iopub.execute_input": "2022-08-19T08:18:15.541690Z",
     "iopub.status.busy": "2022-08-19T08:18:15.541250Z",
     "iopub.status.idle": "2022-08-19T08:18:15.588081Z",
     "shell.execute_reply": "2022-08-19T08:18:15.586435Z"
    }
   },
   "outputs": [
    {
     "data": {
      "image/svg+xml": [
       "<?xml version=\"1.0\" encoding=\"UTF-8\" standalone=\"no\"?><svg xmlns=\"http://www.w3.org/2000/svg\" xmlns:xlink=\"http://www.w3.org/1999/xlink\" contentScriptType=\"application/ecmascript\" contentStyleType=\"text/css\" height=\"433px\" preserveAspectRatio=\"none\" style=\"width:611px;height:433px;\" version=\"1.1\" viewBox=\"0 0 611 433\" width=\"611px\" zoomAndPan=\"magnify\"><defs/><g><!--MD5=[fbc87193dbaf4d95561dea2c320d4a47]\n",
       "cluster E1--><a href=\"psysml:4e179b45-ef84-478c-a2da-b16af7c43fe7\" target=\"_top\" title=\"psysml:4e179b45-ef84-478c-a2da-b16af7c43fe7\" xlink:actuate=\"onRequest\" xlink:href=\"psysml:4e179b45-ef84-478c-a2da-b16af7c43fe7\" xlink:show=\"new\" xlink:title=\"psysml:4e179b45-ef84-478c-a2da-b16af7c43fe7\" xlink:type=\"simple\"><polygon fill=\"#FFFFFF\" points=\"16,6,136,6,143,28.2969,589,28.2969,589,421,16,421,16,6\" style=\"stroke: #000000; stroke-width: 1.5;\"/><line style=\"stroke: #000000; stroke-width: 1.5;\" x1=\"16\" x2=\"143\" y1=\"28.2969\" y2=\"28.2969\"/><text fill=\"#000000\" font-family=\"sans-serif\" font-size=\"14\" font-weight=\"bold\" lengthAdjust=\"spacingAndGlyphs\" textLength=\"114\" x=\"20\" y=\"20.9951\">ConjugationTest</text></a><!--MD5=[b4997ac47864f28c2f74865a473b2911]\n",
       "class E2--><a href=\"psysml:859d5a2d-b524-488b-9af4-e0f987adcacf\" target=\"_top\" title=\"psysml:859d5a2d-b524-488b-9af4-e0f987adcacf\" xlink:actuate=\"onRequest\" xlink:href=\"psysml:859d5a2d-b524-488b-9af4-e0f987adcacf\" xlink:show=\"new\" xlink:title=\"psysml:859d5a2d-b524-488b-9af4-e0f987adcacf\" xlink:type=\"simple\"><rect fill=\"#FFFFFF\" height=\"45.9375\" id=\"E2\" style=\"stroke: #383838; stroke-width: 1.5;\" width=\"70\" x=\"216\" y=\"359\"/><text fill=\"#000000\" font-family=\"sans-serif\" font-size=\"12\" font-style=\"italic\" lengthAdjust=\"spacingAndGlyphs\" textLength=\"68\" x=\"217\" y=\"375.1387\">«port  def»</text><text fill=\"#000000\" font-family=\"sans-serif\" font-size=\"12\" lengthAdjust=\"spacingAndGlyphs\" textLength=\"8\" x=\"247\" y=\"389.1074\">P</text><line style=\"stroke: #383838; stroke-width: 1.5;\" x1=\"217\" x2=\"285\" y1=\"396.9375\" y2=\"396.9375\"/></a><!--MD5=[09b614a08d8cba4a07c9adeb5e0fee81]\n",
       "class E3--><a href=\"psysml:615e73ac-8544-4e42-b424-8a4747867d0e\" target=\"_top\" title=\"psysml:615e73ac-8544-4e42-b424-8a4747867d0e\" xlink:actuate=\"onRequest\" xlink:href=\"psysml:615e73ac-8544-4e42-b424-8a4747867d0e\" xlink:show=\"new\" xlink:title=\"psysml:615e73ac-8544-4e42-b424-8a4747867d0e\" xlink:type=\"simple\"><rect fill=\"#FFFFFF\" height=\"45.9375\" id=\"E3\" style=\"stroke: #383838; stroke-width: 1.5;\" width=\"70\" x=\"471\" y=\"147\"/><text fill=\"#000000\" font-family=\"sans-serif\" font-size=\"12\" font-style=\"italic\" lengthAdjust=\"spacingAndGlyphs\" textLength=\"68\" x=\"472\" y=\"163.1387\">«part  def»</text><text fill=\"#000000\" font-family=\"sans-serif\" font-size=\"12\" lengthAdjust=\"spacingAndGlyphs\" textLength=\"8\" x=\"502\" y=\"177.1074\">B</text><line style=\"stroke: #383838; stroke-width: 1.5;\" x1=\"472\" x2=\"540\" y1=\"184.9375\" y2=\"184.9375\"/></a><!--MD5=[ebbe1d658d1005bcc118a6aa81145e00]\n",
       "class E4--><a href=\"psysml:37d2c32c-e4e6-4c0b-af75-96cd6556dd4d\" target=\"_top\" title=\"psysml:37d2c32c-e4e6-4c0b-af75-96cd6556dd4d\" xlink:actuate=\"onRequest\" xlink:href=\"psysml:37d2c32c-e4e6-4c0b-af75-96cd6556dd4d\" xlink:show=\"new\" xlink:title=\"psysml:37d2c32c-e4e6-4c0b-af75-96cd6556dd4d\" xlink:type=\"simple\"><rect fill=\"#FFFFFF\" height=\"45.9375\" id=\"E4\" rx=\"10\" ry=\"10\" style=\"stroke: #383838; stroke-width: 1.5;\" width=\"42\" x=\"454\" y=\"253\"/><text fill=\"#000000\" font-family=\"sans-serif\" font-size=\"12\" font-style=\"italic\" lengthAdjust=\"spacingAndGlyphs\" textLength=\"40\" x=\"455\" y=\"269.1387\">«port»</text><text fill=\"#000000\" font-family=\"sans-serif\" font-size=\"12\" lengthAdjust=\"spacingAndGlyphs\" textLength=\"32\" x=\"457\" y=\"283.1074\">p1: P</text><line style=\"stroke: #383838; stroke-width: 1.5;\" x1=\"455\" x2=\"495\" y1=\"290.9375\" y2=\"290.9375\"/></a><!--MD5=[270fce915f116d4de14055a7c1d9a0f3]\n",
       "class E5--><a href=\"psysml:a7d82e4a-e12d-4520-9ae6-c89754eb7506\" target=\"_top\" title=\"psysml:a7d82e4a-e12d-4520-9ae6-c89754eb7506\" xlink:actuate=\"onRequest\" xlink:href=\"psysml:a7d82e4a-e12d-4520-9ae6-c89754eb7506\" xlink:show=\"new\" xlink:title=\"psysml:a7d82e4a-e12d-4520-9ae6-c89754eb7506\" xlink:type=\"simple\"><rect fill=\"#FFFFFF\" height=\"45.9375\" id=\"E5\" rx=\"10\" ry=\"10\" style=\"stroke: #383838; stroke-width: 1.5;\" width=\"42\" x=\"531\" y=\"253\"/><text fill=\"#000000\" font-family=\"sans-serif\" font-size=\"12\" font-style=\"italic\" lengthAdjust=\"spacingAndGlyphs\" textLength=\"40\" x=\"532\" y=\"269.1387\">«port»</text><text fill=\"#000000\" font-family=\"sans-serif\" font-size=\"12\" lengthAdjust=\"spacingAndGlyphs\" textLength=\"16\" x=\"542\" y=\"283.1074\">p2</text><line style=\"stroke: #383838; stroke-width: 1.5;\" x1=\"532\" x2=\"572\" y1=\"290.9375\" y2=\"290.9375\"/></a><!--MD5=[60a26617385b1d2d0262a64233df1f8d]\n",
       "class E6--><a href=\"psysml:5cdadcae-4d33-45cc-84a1-e26eca79ba4d\" target=\"_top\" title=\"psysml:5cdadcae-4d33-45cc-84a1-e26eca79ba4d\" xlink:actuate=\"onRequest\" xlink:href=\"psysml:5cdadcae-4d33-45cc-84a1-e26eca79ba4d\" xlink:show=\"new\" xlink:title=\"psysml:5cdadcae-4d33-45cc-84a1-e26eca79ba4d\" xlink:type=\"simple\"><rect fill=\"#FFFFFF\" height=\"45.9375\" id=\"E6\" style=\"stroke: #383838; stroke-width: 1.5;\" width=\"114\" x=\"274\" y=\"147\"/><text fill=\"#000000\" font-family=\"sans-serif\" font-size=\"12\" font-style=\"italic\" lengthAdjust=\"spacingAndGlyphs\" textLength=\"112\" x=\"275\" y=\"163.1387\">«connection  def»</text><text fill=\"#000000\" font-family=\"sans-serif\" font-size=\"12\" lengthAdjust=\"spacingAndGlyphs\" textLength=\"8\" x=\"327\" y=\"177.1074\">A</text><line style=\"stroke: #383838; stroke-width: 1.5;\" x1=\"275\" x2=\"387\" y1=\"184.9375\" y2=\"184.9375\"/></a><!--MD5=[2156ba9850f5573cc1fc38a6a4b2f02b]\n",
       "class E7--><a href=\"psysml:7fb982ae-cae7-41b0-848a-52bb93191ec3\" target=\"_top\" title=\"psysml:7fb982ae-cae7-41b0-848a-52bb93191ec3\" xlink:actuate=\"onRequest\" xlink:href=\"psysml:7fb982ae-cae7-41b0-848a-52bb93191ec3\" xlink:show=\"new\" xlink:title=\"psysml:7fb982ae-cae7-41b0-848a-52bb93191ec3\" xlink:type=\"simple\"><rect fill=\"#FFFFFF\" height=\"45.9375\" id=\"E7\" rx=\"10\" ry=\"10\" style=\"stroke: #383838; stroke-width: 1.5;\" width=\"42\" x=\"300\" y=\"253\"/><text fill=\"#000000\" font-family=\"sans-serif\" font-size=\"12\" font-style=\"italic\" lengthAdjust=\"spacingAndGlyphs\" textLength=\"40\" x=\"301\" y=\"269.1387\">«port»</text><text fill=\"#000000\" font-family=\"sans-serif\" font-size=\"12\" lengthAdjust=\"spacingAndGlyphs\" textLength=\"32\" x=\"303\" y=\"283.1074\">p1: P</text><line style=\"stroke: #383838; stroke-width: 1.5;\" x1=\"301\" x2=\"341\" y1=\"290.9375\" y2=\"290.9375\"/></a><!--MD5=[b9389687b975829384b498ac4b7476b2]\n",
       "class E8--><a href=\"psysml:5c21b9df-62cf-4ee8-9145-76efb13de7e4\" target=\"_top\" title=\"psysml:5c21b9df-62cf-4ee8-9145-76efb13de7e4\" xlink:actuate=\"onRequest\" xlink:href=\"psysml:5c21b9df-62cf-4ee8-9145-76efb13de7e4\" xlink:show=\"new\" xlink:title=\"psysml:5c21b9df-62cf-4ee8-9145-76efb13de7e4\" xlink:type=\"simple\"><rect fill=\"#FFFFFF\" height=\"45.9375\" id=\"E8\" rx=\"10\" ry=\"10\" style=\"stroke: #383838; stroke-width: 1.5;\" width=\"42\" x=\"377\" y=\"253\"/><text fill=\"#000000\" font-family=\"sans-serif\" font-size=\"12\" font-style=\"italic\" lengthAdjust=\"spacingAndGlyphs\" textLength=\"40\" x=\"378\" y=\"269.1387\">«port»</text><text fill=\"#000000\" font-family=\"sans-serif\" font-size=\"12\" lengthAdjust=\"spacingAndGlyphs\" textLength=\"16\" x=\"388\" y=\"283.1074\">p2</text><line style=\"stroke: #383838; stroke-width: 1.5;\" x1=\"378\" x2=\"418\" y1=\"290.9375\" y2=\"290.9375\"/></a><!--MD5=[fd4143e9d270a159db93a4ea2a975926]\n",
       "class E9--><a href=\"psysml:2bbab23f-cc40-4354-88cc-493e0b41ffd4\" target=\"_top\" title=\"psysml:2bbab23f-cc40-4354-88cc-493e0b41ffd4\" xlink:actuate=\"onRequest\" xlink:href=\"psysml:2bbab23f-cc40-4354-88cc-493e0b41ffd4\" xlink:show=\"new\" xlink:title=\"psysml:2bbab23f-cc40-4354-88cc-493e0b41ffd4\" xlink:type=\"simple\"><rect fill=\"#FFFFFF\" height=\"45.9375\" id=\"E9\" style=\"stroke: #383838; stroke-width: 1.5;\" width=\"100\" x=\"138\" y=\"147\"/><text fill=\"#000000\" font-family=\"sans-serif\" font-size=\"12\" font-style=\"italic\" lengthAdjust=\"spacingAndGlyphs\" textLength=\"98\" x=\"139\" y=\"163.1387\">«interface  def»</text><text fill=\"#000000\" font-family=\"sans-serif\" font-size=\"12\" lengthAdjust=\"spacingAndGlyphs\" textLength=\"3\" x=\"186.5\" y=\"177.1074\">I</text><line style=\"stroke: #383838; stroke-width: 1.5;\" x1=\"139\" x2=\"237\" y1=\"184.9375\" y2=\"184.9375\"/></a><!--MD5=[96f4274e9e20536e775497830990834d]\n",
       "class E10--><a href=\"psysml:e0785fbe-faad-409c-b39f-62ae49a7d6e0\" target=\"_top\" title=\"psysml:e0785fbe-faad-409c-b39f-62ae49a7d6e0\" xlink:actuate=\"onRequest\" xlink:href=\"psysml:e0785fbe-faad-409c-b39f-62ae49a7d6e0\" xlink:show=\"new\" xlink:title=\"psysml:e0785fbe-faad-409c-b39f-62ae49a7d6e0\" xlink:type=\"simple\"><rect fill=\"#FFFFFF\" height=\"45.9375\" id=\"E10\" rx=\"10\" ry=\"10\" style=\"stroke: #383838; stroke-width: 1.5;\" width=\"42\" x=\"146\" y=\"253\"/><text fill=\"#000000\" font-family=\"sans-serif\" font-size=\"12\" font-style=\"italic\" lengthAdjust=\"spacingAndGlyphs\" textLength=\"40\" x=\"147\" y=\"269.1387\">«port»</text><text fill=\"#000000\" font-family=\"sans-serif\" font-size=\"12\" lengthAdjust=\"spacingAndGlyphs\" textLength=\"32\" x=\"149\" y=\"283.1074\">p1: P</text><line style=\"stroke: #383838; stroke-width: 1.5;\" x1=\"147\" x2=\"187\" y1=\"290.9375\" y2=\"290.9375\"/></a><!--MD5=[1dd1bfd58a279cf63c5f349dbc8fc6a1]\n",
       "class E11--><a href=\"psysml:a18508b4-2f12-4bca-8dd1-291939c34d14\" target=\"_top\" title=\"psysml:a18508b4-2f12-4bca-8dd1-291939c34d14\" xlink:actuate=\"onRequest\" xlink:href=\"psysml:a18508b4-2f12-4bca-8dd1-291939c34d14\" xlink:show=\"new\" xlink:title=\"psysml:a18508b4-2f12-4bca-8dd1-291939c34d14\" xlink:type=\"simple\"><rect fill=\"#FFFFFF\" height=\"45.9375\" id=\"E11\" rx=\"10\" ry=\"10\" style=\"stroke: #383838; stroke-width: 1.5;\" width=\"42\" x=\"223\" y=\"253\"/><text fill=\"#000000\" font-family=\"sans-serif\" font-size=\"12\" font-style=\"italic\" lengthAdjust=\"spacingAndGlyphs\" textLength=\"40\" x=\"224\" y=\"269.1387\">«port»</text><text fill=\"#000000\" font-family=\"sans-serif\" font-size=\"12\" lengthAdjust=\"spacingAndGlyphs\" textLength=\"16\" x=\"234\" y=\"283.1074\">p2</text><line style=\"stroke: #383838; stroke-width: 1.5;\" x1=\"224\" x2=\"264\" y1=\"290.9375\" y2=\"290.9375\"/></a><!--MD5=[49a0ec8f00dab7302a31f22d0f0fe584]\n",
       "class E12--><a href=\"psysml:cd0027e5-9ed9-4216-bffa-1e31fa367fb3\" target=\"_top\" title=\"psysml:cd0027e5-9ed9-4216-bffa-1e31fa367fb3\" xlink:actuate=\"onRequest\" xlink:href=\"psysml:cd0027e5-9ed9-4216-bffa-1e31fa367fb3\" xlink:show=\"new\" xlink:title=\"psysml:cd0027e5-9ed9-4216-bffa-1e31fa367fb3\" xlink:type=\"simple\"><rect fill=\"#FFFFFF\" height=\"45.9375\" id=\"E12\" style=\"stroke: #383838; stroke-width: 1.5;\" width=\"70\" x=\"44\" y=\"41\"/><text fill=\"#000000\" font-family=\"sans-serif\" font-size=\"12\" font-style=\"italic\" lengthAdjust=\"spacingAndGlyphs\" textLength=\"68\" x=\"45\" y=\"57.1387\">«part  def»</text><text fill=\"#000000\" font-family=\"sans-serif\" font-size=\"12\" lengthAdjust=\"spacingAndGlyphs\" textLength=\"16\" x=\"71\" y=\"71.1074\">B1</text><line style=\"stroke: #383838; stroke-width: 1.5;\" x1=\"45\" x2=\"113\" y1=\"78.9375\" y2=\"78.9375\"/></a><!--MD5=[ee3c913d1a06f366521f9ef512b67efe]\n",
       "class E13--><a href=\"psysml:3cf8fc76-e05d-49bd-b29f-3b88a47b72de\" target=\"_top\" title=\"psysml:3cf8fc76-e05d-49bd-b29f-3b88a47b72de\" xlink:actuate=\"onRequest\" xlink:href=\"psysml:3cf8fc76-e05d-49bd-b29f-3b88a47b72de\" xlink:show=\"new\" xlink:title=\"psysml:3cf8fc76-e05d-49bd-b29f-3b88a47b72de\" xlink:type=\"simple\"><rect fill=\"#FFFFFF\" height=\"45.9375\" id=\"E13\" rx=\"10\" ry=\"10\" style=\"stroke: #383838; stroke-width: 1.5;\" width=\"42\" x=\"58\" y=\"147\"/><text fill=\"#000000\" font-family=\"sans-serif\" font-size=\"12\" font-style=\"italic\" lengthAdjust=\"spacingAndGlyphs\" textLength=\"40\" x=\"59\" y=\"163.1387\">«part»</text><text fill=\"#000000\" font-family=\"sans-serif\" font-size=\"12\" lengthAdjust=\"spacingAndGlyphs\" textLength=\"8\" x=\"73\" y=\"177.1074\">p</text><line style=\"stroke: #383838; stroke-width: 1.5;\" x1=\"59\" x2=\"99\" y1=\"184.9375\" y2=\"184.9375\"/></a><!--MD5=[bee11217b2f71d958a27249dc326068c]\n",
       "class E14--><a href=\"psysml:6cf362ef-4bb1-44a5-8272-767638a97c43\" target=\"_top\" title=\"psysml:6cf362ef-4bb1-44a5-8272-767638a97c43\" xlink:actuate=\"onRequest\" xlink:href=\"psysml:6cf362ef-4bb1-44a5-8272-767638a97c43\" xlink:show=\"new\" xlink:title=\"psysml:6cf362ef-4bb1-44a5-8272-767638a97c43\" xlink:type=\"simple\"><rect fill=\"#FFFFFF\" height=\"45.9375\" id=\"E14\" rx=\"10\" ry=\"10\" style=\"stroke: #383838; stroke-width: 1.5;\" width=\"42\" x=\"69\" y=\"253\"/><text fill=\"#000000\" font-family=\"sans-serif\" font-size=\"12\" font-style=\"italic\" lengthAdjust=\"spacingAndGlyphs\" textLength=\"40\" x=\"70\" y=\"269.1387\">«port»</text><text fill=\"#000000\" font-family=\"sans-serif\" font-size=\"12\" lengthAdjust=\"spacingAndGlyphs\" textLength=\"32\" x=\"72\" y=\"283.1074\">p1: P</text><line style=\"stroke: #383838; stroke-width: 1.5;\" x1=\"70\" x2=\"110\" y1=\"290.9375\" y2=\"290.9375\"/></a><!--MD5=[0c48fb7552dae8cbbef69381101a84c8]\n",
       "class E15--><a href=\"psysml:33e7cbb5-c462-4d34-9030-b3438d816b29\" target=\"_top\" title=\"psysml:33e7cbb5-c462-4d34-9030-b3438d816b29\" xlink:actuate=\"onRequest\" xlink:href=\"psysml:33e7cbb5-c462-4d34-9030-b3438d816b29\" xlink:show=\"new\" xlink:title=\"psysml:33e7cbb5-c462-4d34-9030-b3438d816b29\" xlink:type=\"simple\"><rect fill=\"#FFFFFF\" height=\"45.9375\" id=\"E15\" rx=\"10\" ry=\"10\" style=\"stroke: #383838; stroke-width: 1.5;\" width=\"42\" x=\"69\" y=\"359\"/><text fill=\"#000000\" font-family=\"sans-serif\" font-size=\"12\" font-style=\"italic\" lengthAdjust=\"spacingAndGlyphs\" textLength=\"40\" x=\"70\" y=\"375.1387\">«port»</text><text fill=\"#000000\" font-family=\"sans-serif\" font-size=\"12\" lengthAdjust=\"spacingAndGlyphs\" textLength=\"16\" x=\"80\" y=\"389.1074\">p2</text><line style=\"stroke: #383838; stroke-width: 1.5;\" x1=\"70\" x2=\"110\" y1=\"396.9375\" y2=\"396.9375\"/></a><!--MD5=[4672eba38e49728da53d11aeb285b987]\n",
       "reverse link E3 to E4--><a href=\"psysml:e09aa0cf-99c0-4ed5-833c-e6cdd9353c0b\" target=\"_top\" title=\"psysml:e09aa0cf-99c0-4ed5-833c-e6cdd9353c0b\" xlink:actuate=\"onRequest\" xlink:href=\"psysml:e09aa0cf-99c0-4ed5-833c-e6cdd9353c0b\" xlink:show=\"new\" xlink:title=\"psysml:e09aa0cf-99c0-4ed5-833c-e6cdd9353c0b\" xlink:type=\"simple\"><path d=\"M495.58,205.96 C490.95,221.51 485.63,239.33 481.56,252.98 \" fill=\"none\" id=\"E3&lt;-E4\" style=\"stroke: #383838; stroke-width: 1.0;\"/><polygon fill=\"#FFFFFF\" points=\"499.43,193.06,493.8824,197.6669,496.0012,204.5597,501.5488,199.9528,499.43,193.06\" style=\"stroke: #383838; stroke-width: 1.0;\"/><text fill=\"#000000\" font-family=\"sans-serif\" font-size=\"13\" lengthAdjust=\"spacingAndGlyphs\" textLength=\"8\" x=\"474.248\" y=\"241.8709\">1</text></a><!--MD5=[185131fc0dcab0a4505a2ebe144e961b]\n",
       "link E4 to E2--><a href=\"psysml:d96439d0-54ae-42c8-b560-5f0ede470e61\" target=\"_top\" title=\"psysml:d96439d0-54ae-42c8-b560-5f0ede470e61\" xlink:actuate=\"onRequest\" xlink:href=\"psysml:d96439d0-54ae-42c8-b560-5f0ede470e61\" xlink:show=\"new\" xlink:title=\"psysml:d96439d0-54ae-42c8-b560-5f0ede470e61\" xlink:type=\"simple\"><path d=\"M453.92,289.75 C448.47,292.89 442.57,296.17 437,299 C393.29,321.2 342.25,343.45 304.71,359.16 \" fill=\"none\" id=\"E4-&gt;E2\" style=\"stroke: #383838; stroke-width: 1.0;\"/><polygon fill=\"#FFFFFF\" points=\"286.15,366.85,301.0211,353.1077,306.3823,366.0405,286.15,366.85\" style=\"stroke: #383838; stroke-width: 1.0;\"/><ellipse cx=\"307.0525\" cy=\"352.7725\" fill=\"#383838\" rx=\"2\" ry=\"2\" style=\"stroke: #383838; stroke-width: 1.0;\"/><ellipse cx=\"310.8819\" cy=\"362.0102\" fill=\"#383838\" rx=\"2\" ry=\"2\" style=\"stroke: #383838; stroke-width: 1.0;\"/></a><!--MD5=[191cde3d490a3f6d7bb551fe3ddca469]\n",
       "reverse link E3 to E5--><a href=\"psysml:880a21a1-46d7-4f3d-9543-241b40e3ab4a\" target=\"_top\" title=\"psysml:880a21a1-46d7-4f3d-9543-241b40e3ab4a\" xlink:actuate=\"onRequest\" xlink:href=\"psysml:880a21a1-46d7-4f3d-9543-241b40e3ab4a\" xlink:show=\"new\" xlink:title=\"psysml:880a21a1-46d7-4f3d-9543-241b40e3ab4a\" xlink:type=\"simple\"><path d=\"M521.05,205.03 C528.02,220.78 536.1,239.06 542.26,252.98 \" fill=\"none\" id=\"E3&lt;-E5\" style=\"stroke: #383838; stroke-width: 1.0;\"/><polygon fill=\"#FFFFFF\" points=\"515.76,193.06,514.5329,200.1659,520.6202,204.0317,521.8473,196.9258,515.76,193.06\" style=\"stroke: #383838; stroke-width: 1.0;\"/><text fill=\"#000000\" font-family=\"sans-serif\" font-size=\"13\" lengthAdjust=\"spacingAndGlyphs\" textLength=\"8\" x=\"530.5674\" y=\"241.8709\">1</text></a><!--MD5=[3f50a3473f1dfb74d3f76443e03635af]\n",
       "reverse link E6 to E7--><a href=\"psysml:98390341-db8e-40b6-aced-fec2311e0a9d\" target=\"_top\" title=\"psysml:98390341-db8e-40b6-aced-fec2311e0a9d\" xlink:actuate=\"onRequest\" xlink:href=\"psysml:98390341-db8e-40b6-aced-fec2311e0a9d\" xlink:show=\"new\" xlink:title=\"psysml:98390341-db8e-40b6-aced-fec2311e0a9d\" xlink:type=\"simple\"><path d=\"M327.59,206.44 C326.11,221.87 324.42,239.47 323.12,252.98 \" fill=\"none\" id=\"E6&lt;-E7\" style=\"stroke: #383838; stroke-width: 1.0;\"/><polygon fill=\"#FFFFFF\" points=\"328.88,193.06,324.3242,198.6497,327.7317,205.0049,332.2875,199.4152,328.88,193.06\" style=\"stroke: #383838; stroke-width: 1.0;\"/><text fill=\"#000000\" font-family=\"sans-serif\" font-size=\"13\" lengthAdjust=\"spacingAndGlyphs\" textLength=\"8\" x=\"314.6148\" y=\"241.8709\">1</text></a><!--MD5=[583832df87f4419a098336a29a52fa00]\n",
       "link E7 to E2--><a href=\"psysml:6f9217eb-859f-4957-bc31-6c1306f83367\" target=\"_top\" title=\"psysml:6f9217eb-859f-4957-bc31-6c1306f83367\" xlink:actuate=\"onRequest\" xlink:href=\"psysml:6f9217eb-859f-4957-bc31-6c1306f83367\" xlink:show=\"new\" xlink:title=\"psysml:6f9217eb-859f-4957-bc31-6c1306f83367\" xlink:type=\"simple\"><path d=\"M306.15,299.06 C297.71,311.6 286.89,327.68 277.07,342.26 \" fill=\"none\" id=\"E7-&gt;E2\" style=\"stroke: #383838; stroke-width: 1.0;\"/><polygon fill=\"#FFFFFF\" points=\"265.82,358.98,270.609,339.306,282.2284,347.1156,265.82,358.98\" style=\"stroke: #383838; stroke-width: 1.0;\"/><ellipse cx=\"275.4486\" cy=\"335.6909\" fill=\"#383838\" rx=\"2\" ry=\"2\" style=\"stroke: #383838; stroke-width: 1.0;\"/><ellipse cx=\"283.7481\" cy=\"341.2692\" fill=\"#383838\" rx=\"2\" ry=\"2\" style=\"stroke: #383838; stroke-width: 1.0;\"/></a><!--MD5=[f4cf0736d43fd73c4ef68817c49d37d5]\n",
       "reverse link E6 to E8--><a href=\"psysml:15a7c7be-761e-4e1c-a126-babbedfba5ca\" target=\"_top\" title=\"psysml:15a7c7be-761e-4e1c-a126-babbedfba5ca\" xlink:actuate=\"onRequest\" xlink:href=\"psysml:15a7c7be-761e-4e1c-a126-babbedfba5ca\" xlink:show=\"new\" xlink:title=\"psysml:15a7c7be-761e-4e1c-a126-babbedfba5ca\" xlink:type=\"simple\"><path d=\"M352.32,204.09 C362.61,220.06 374.67,238.78 383.81,252.98 \" fill=\"none\" id=\"E6&lt;-E8\" style=\"stroke: #383838; stroke-width: 1.0;\"/><polygon fill=\"#FFFFFF\" points=\"345.21,193.06,345.0979,200.2702,351.7104,203.1469,351.8225,195.9366,345.21,193.06\" style=\"stroke: #383838; stroke-width: 1.0;\"/><text fill=\"#000000\" font-family=\"sans-serif\" font-size=\"13\" lengthAdjust=\"spacingAndGlyphs\" textLength=\"8\" x=\"370.9214\" y=\"241.8709\">1</text></a><!--MD5=[23ac544a70576c3e717098101004234c]\n",
       "reverse link E9 to E10--><a href=\"psysml:a15de342-1742-4b99-9b86-ed8c6fb30ab8\" target=\"_top\" title=\"psysml:a15de342-1742-4b99-9b86-ed8c6fb30ab8\" xlink:actuate=\"onRequest\" xlink:href=\"psysml:a15de342-1742-4b99-9b86-ed8c6fb30ab8\" xlink:show=\"new\" xlink:title=\"psysml:a15de342-1742-4b99-9b86-ed8c6fb30ab8\" xlink:type=\"simple\"><path d=\"M180.94,205.96 C177.8,221.51 174.2,239.33 171.45,252.98 \" fill=\"none\" id=\"E9&lt;-E10\" style=\"stroke: #383838; stroke-width: 1.0;\"/><polygon fill=\"#FFFFFF\" points=\"183.55,193.06,178.4422,198.1502,181.1763,204.8229,186.2841,199.7327,183.55,193.06\" style=\"stroke: #383838; stroke-width: 1.0;\"/><text fill=\"#000000\" font-family=\"sans-serif\" font-size=\"13\" lengthAdjust=\"spacingAndGlyphs\" textLength=\"8\" x=\"163.5709\" y=\"241.8709\">1</text></a><!--MD5=[0f36bececdf0dff6e600d6f64214b0f1]\n",
       "link E10 to E2--><a href=\"psysml:81b1dfc1-849b-47a4-a859-9ae7a728ef15\" target=\"_top\" title=\"psysml:81b1dfc1-849b-47a4-a859-9ae7a728ef15\" xlink:actuate=\"onRequest\" xlink:href=\"psysml:81b1dfc1-849b-47a4-a859-9ae7a728ef15\" xlink:show=\"new\" xlink:title=\"psysml:81b1dfc1-849b-47a4-a859-9ae7a728ef15\" xlink:type=\"simple\"><path d=\"M184.81,299.06 C195.17,311.88 208.51,328.39 220.49,343.22 \" fill=\"none\" id=\"E10-&gt;E2\" style=\"stroke: #383838; stroke-width: 1.0;\"/><polygon fill=\"#FFFFFF\" points=\"233.21,358.98,215.8236,348.6016,226.7127,339.8023,233.21,358.98\" style=\"stroke: #383838; stroke-width: 1.0;\"/><ellipse cx=\"213.7966\" cy=\"342.9111\" fill=\"#383838\" rx=\"2\" ry=\"2\" style=\"stroke: #383838; stroke-width: 1.0;\"/><ellipse cx=\"221.5745\" cy=\"336.6259\" fill=\"#383838\" rx=\"2\" ry=\"2\" style=\"stroke: #383838; stroke-width: 1.0;\"/></a><!--MD5=[1fc04a95fd77ad5ce46c1a3027516051]\n",
       "reverse link E9 to E11--><a href=\"psysml:fe2242fc-88cc-4430-bc2f-98e79ba2cc70\" target=\"_top\" title=\"psysml:fe2242fc-88cc-4430-bc2f-98e79ba2cc70\" xlink:actuate=\"onRequest\" xlink:href=\"psysml:fe2242fc-88cc-4430-bc2f-98e79ba2cc70\" xlink:show=\"new\" xlink:title=\"psysml:fe2242fc-88cc-4430-bc2f-98e79ba2cc70\" xlink:type=\"simple\"><path d=\"M206.07,204.56 C214.61,220.42 224.57,238.92 232.14,252.98 \" fill=\"none\" id=\"E9&lt;-E11\" style=\"stroke: #383838; stroke-width: 1.0;\"/><polygon fill=\"#FFFFFF\" points=\"199.88,193.06,199.2038,200.2393,205.5708,203.6248,206.247,196.4455,199.88,193.06\" style=\"stroke: #383838; stroke-width: 1.0;\"/><text fill=\"#000000\" font-family=\"sans-serif\" font-size=\"13\" lengthAdjust=\"spacingAndGlyphs\" textLength=\"8\" x=\"219.8776\" y=\"241.8709\">1</text></a><!--MD5=[062ed86c389d1a88f61c6380d0491e17]\n",
       "reverse link E12 to E13--><a href=\"psysml:0c56cab0-046e-4827-a921-af226384c943\" target=\"_top\" title=\"psysml:0c56cab0-046e-4827-a921-af226384c943\" xlink:actuate=\"onRequest\" xlink:href=\"psysml:0c56cab0-046e-4827-a921-af226384c943\" xlink:show=\"new\" xlink:title=\"psysml:0c56cab0-046e-4827-a921-af226384c943\" xlink:type=\"simple\"><path d=\"M79,100.44 C79,115.87 79,133.47 79,146.98 \" fill=\"none\" id=\"E12&lt;-E13\" style=\"stroke: #383838; stroke-width: 1.0;\"/><polygon fill=\"#FFFFFF\" points=\"79,87.06,75,93.06,79,99.06,83,93.06,79,87.06\" style=\"stroke: #383838; stroke-width: 1.0;\"/><text fill=\"#000000\" font-family=\"sans-serif\" font-size=\"13\" lengthAdjust=\"spacingAndGlyphs\" textLength=\"8\" x=\"69.925\" y=\"135.8709\">1</text></a><!--MD5=[01db00f33b28669d6d9febea71002831]\n",
       "reverse link E13 to E14--><a href=\"psysml:12334834-5f3e-4b20-9f0b-aad671391bfa\" target=\"_top\" title=\"psysml:12334834-5f3e-4b20-9f0b-aad671391bfa\" xlink:actuate=\"onRequest\" xlink:href=\"psysml:12334834-5f3e-4b20-9f0b-aad671391bfa\" xlink:show=\"new\" xlink:title=\"psysml:12334834-5f3e-4b20-9f0b-aad671391bfa\" xlink:type=\"simple\"><path d=\"M82.75,206.44 C84.38,221.87 86.24,239.47 87.67,252.98 \" fill=\"none\" id=\"E13&lt;-E14\" style=\"stroke: #383838; stroke-width: 1.0;\"/><polygon fill=\"#FFFFFF\" points=\"81.33,193.06,77.9783,199.4448,82.5828,204.9944,85.9345,198.6096,81.33,193.06\" style=\"stroke: #383838; stroke-width: 1.0;\"/><text fill=\"#000000\" font-family=\"sans-serif\" font-size=\"13\" lengthAdjust=\"spacingAndGlyphs\" textLength=\"8\" x=\"77.9688\" y=\"241.8709\">1</text></a><!--MD5=[e5566ac99d7714697a7fbc17f6b550fe]\n",
       "link E14 to E2--><a href=\"psysml:f15866fc-26c5-4fac-ba02-f8f796eed5e8\" target=\"_top\" title=\"psysml:f15866fc-26c5-4fac-ba02-f8f796eed5e8\" xlink:actuate=\"onRequest\" xlink:href=\"psysml:f15866fc-26c5-4fac-ba02-f8f796eed5e8\" xlink:show=\"new\" xlink:title=\"psysml:f15866fc-26c5-4fac-ba02-f8f796eed5e8\" xlink:type=\"simple\"><path d=\"M111.05,290.6 C133.49,305.09 169.87,328.59 199.91,348 \" fill=\"none\" id=\"E14-&gt;E2\" style=\"stroke: #383838; stroke-width: 1.0;\"/><polygon fill=\"#FFFFFF\" points=\"216.71,358.85,196.9529,354.4164,204.5518,342.6581,216.71,358.85\" style=\"stroke: #383838; stroke-width: 1.0;\"/><ellipse cx=\"193.2512\" cy=\"349.6428\" fill=\"#383838\" rx=\"2\" ry=\"2\" style=\"stroke: #383838; stroke-width: 1.0;\"/><ellipse cx=\"198.6789\" cy=\"341.244\" fill=\"#383838\" rx=\"2\" ry=\"2\" style=\"stroke: #383838; stroke-width: 1.0;\"/></a><!--MD5=[e9a5e828c71fd2209a11a152f562d491]\n",
       "reverse link E13 to E15--><a href=\"psysml:ce878baa-f80f-4009-adda-6088e19c872e\" target=\"_top\" title=\"psysml:ce878baa-f80f-4009-adda-6088e19c872e\" xlink:actuate=\"onRequest\" xlink:href=\"psysml:ce878baa-f80f-4009-adda-6088e19c872e\" xlink:show=\"new\" xlink:title=\"psysml:ce878baa-f80f-4009-adda-6088e19c872e\" xlink:type=\"simple\"><path d=\"M63.75,205.34 C54.23,231.13 45.02,267.31 52,299 C56.73,320.45 67.65,342.96 76.58,358.96 \" fill=\"none\" id=\"E13&lt;-E15\" style=\"stroke: #383838; stroke-width: 1.0;\"/><polygon fill=\"#FFFFFF\" points=\"68.52,193.23,62.5978,197.3443,64.1179,204.3934,70.0401,200.2791,68.52,193.23\" style=\"stroke: #383838; stroke-width: 1.0;\"/><text fill=\"#000000\" font-family=\"sans-serif\" font-size=\"13\" lengthAdjust=\"spacingAndGlyphs\" textLength=\"8\" x=\"63.8984\" y=\"347.8455\">1</text></a><!--MD5=[3afbdc645381407e1bc99677323a2513]\n",
       "link E14 to E15--><a href=\"psysml:1f31a0eb-24e7-4abd-8eab-15c525015988\" target=\"_top\" title=\"psysml:1f31a0eb-24e7-4abd-8eab-15c525015988\" xlink:actuate=\"onRequest\" xlink:href=\"psysml:1f31a0eb-24e7-4abd-8eab-15c525015988\" xlink:show=\"new\" xlink:title=\"psysml:1f31a0eb-24e7-4abd-8eab-15c525015988\" xlink:type=\"simple\"><path d=\"M79.35,299.06 C76.55,316.7 76.55,341.34 79.36,358.98 \" fill=\"none\" id=\"E14-E15\" style=\"stroke: #383838; stroke-width: 3.0;\"/></a><!--MD5=[3afbdc645381407e1bc99677323a2513]\n",
       "link E14 to E15--><a href=\"psysml:c2fd36d5-55a7-4367-ae55-c3f656adabca\" target=\"_top\" title=\"psysml:c2fd36d5-55a7-4367-ae55-c3f656adabca\" xlink:actuate=\"onRequest\" xlink:href=\"psysml:c2fd36d5-55a7-4367-ae55-c3f656adabca\" xlink:show=\"new\" xlink:title=\"psysml:c2fd36d5-55a7-4367-ae55-c3f656adabca\" xlink:type=\"simple\"><path d=\"M101.27,299.06 C104.24,316.7 104.24,341.34 101.27,358.98 \" fill=\"none\" id=\"E14-E15-1\" style=\"stroke: #383838; stroke-width: 3.0;\"/></a><!--MD5=[d006ab9dab3b99fbd1d5a3e2a0268c41]\n",
       "@startuml\r\n",
       "top to bottom direction\r\n",
       "skinparam monochrome true\r\n",
       "skinparam classbackgroundcolor white\r\n",
       "skinparam shadowing false\r\n",
       "skinparam wrapWidth 300\r\n",
       "hide circle\r\n",
       "\r\n",
       "package \"ConjugationTest\" as E1  [[psysml:4e179b45-ef84-478c-a2da-b16af7c43fe7 ]]  {\r\n",
       "comp def \"P\" as E2  <<(T,blue) port  def>> [[psysml:859d5a2d-b524-488b-9af4-e0f987adcacf ]] {\r\n",
       "}\r\n",
       "comp def \"B\" as E3  <<(T,blue) part  def>> [[psysml:615e73ac-8544-4e42-b424-8a4747867d0e ]] {\r\n",
       "}\r\n",
       "comp usage \"p1: P \" as E4  <<(T,blue) port>> [[psysml:37d2c32c-e4e6-4c0b-af75-96cd6556dd4d ]] {\r\n",
       "}\r\n",
       "comp usage \"p2 \" as E5  <<(T,blue) port>> [[psysml:a7d82e4a-e12d-4520-9ae6-c89754eb7506 ]] {\r\n",
       "}\r\n",
       "comp def \"A\" as E6  <<(T,blue) connection  def>> [[psysml:5cdadcae-4d33-45cc-84a1-e26eca79ba4d ]] {\r\n",
       "}\r\n",
       "comp usage \"p1: P \" as E7  <<(T,blue) port>> [[psysml:7fb982ae-cae7-41b0-848a-52bb93191ec3 ]] {\r\n",
       "}\r\n",
       "comp usage \"p2 \" as E8  <<(T,blue) port>> [[psysml:5c21b9df-62cf-4ee8-9145-76efb13de7e4 ]] {\r\n",
       "}\r\n",
       "comp def \"I\" as E9  <<(T,blue) interface  def>> [[psysml:2bbab23f-cc40-4354-88cc-493e0b41ffd4 ]] {\r\n",
       "}\r\n",
       "comp usage \"p1: P \" as E10  <<(T,blue) port>> [[psysml:e0785fbe-faad-409c-b39f-62ae49a7d6e0 ]] {\r\n",
       "}\r\n",
       "comp usage \"p2 \" as E11  <<(T,blue) port>> [[psysml:a18508b4-2f12-4bca-8dd1-291939c34d14 ]] {\r\n",
       "}\r\n",
       "comp def \"B1\" as E12  <<(T,blue) part  def>> [[psysml:cd0027e5-9ed9-4216-bffa-1e31fa367fb3 ]] {\r\n",
       "}\r\n",
       "comp usage \"p \" as E13  <<(T,blue) part>> [[psysml:3cf8fc76-e05d-49bd-b29f-3b88a47b72de ]] {\r\n",
       "}\r\n",
       "comp usage \"p1: P \" as E14  <<(T,blue) port>> [[psysml:6cf362ef-4bb1-44a5-8272-767638a97c43 ]] {\r\n",
       "}\r\n",
       "comp usage \"p2 \" as E15  <<(T,blue) port>> [[psysml:33e7cbb5-c462-4d34-9030-b3438d816b29 ]] {\r\n",
       "}\r\n",
       "}\r\n",
       "E3 o- - \"1\"E4 [[psysml:e09aa0cf-99c0-4ed5-833c-e6cdd9353c0b ]] \r\n",
       "E4 - -:|> E2 [[psysml:d96439d0-54ae-42c8-b560-5f0ede470e61 ]] \r\n",
       "E3 o- - \"1\"E5 [[psysml:880a21a1-46d7-4f3d-9543-241b40e3ab4a ]] \r\n",
       "E6 o- - \"1\"E7 [[psysml:98390341-db8e-40b6-aced-fec2311e0a9d ]] \r\n",
       "E7 - -:|> E2 [[psysml:6f9217eb-859f-4957-bc31-6c1306f83367 ]] \r\n",
       "E6 o- - \"1\"E8 [[psysml:15a7c7be-761e-4e1c-a126-babbedfba5ca ]] \r\n",
       "E9 o- - \"1\"E10 [[psysml:a15de342-1742-4b99-9b86-ed8c6fb30ab8 ]] \r\n",
       "E10 - -:|> E2 [[psysml:81b1dfc1-849b-47a4-a859-9ae7a728ef15 ]] \r\n",
       "E9 o- - \"1\"E11 [[psysml:fe2242fc-88cc-4430-bc2f-98e79ba2cc70 ]] \r\n",
       "E12 o- - \"1\"E13 [[psysml:0c56cab0-046e-4827-a921-af226384c943 ]] \r\n",
       "E13 o- - \"1\"E14 [[psysml:12334834-5f3e-4b20-9f0b-aad671391bfa ]] \r\n",
       "E14 - -:|> E2 [[psysml:f15866fc-26c5-4fac-ba02-f8f796eed5e8 ]] \r\n",
       "E13 o- - \"1\"E15 [[psysml:ce878baa-f80f-4009-adda-6088e19c872e ]] \r\n",
       "E14 -[thickness=3]- E15 [[psysml:1f31a0eb-24e7-4abd-8eab-15c525015988 ]] \r\n",
       "E14 -[thickness=3]- E15 [[psysml:c2fd36d5-55a7-4367-ae55-c3f656adabca ]] \r\n",
       "@enduml\r\n",
       "\n",
       "PlantUML version 1.2020.13(Sat Jun 13 12:26:38 UTC 2020)\n",
       "(EPL source distribution)\n",
       "Java Runtime: OpenJDK Runtime Environment\n",
       "JVM: OpenJDK 64-Bit Server VM\n",
       "Default Encoding: UTF-8\n",
       "Language: en\n",
       "Country: null\n",
       "--></g></svg>"
      ]
     },
     "execution_count": 50,
     "metadata": {},
     "output_type": "execute_result"
    }
   ],
   "source": [
    "%viz --style=\"TB\" --view=\"MIXED\" \"ConjugationTest\""
   ]
  },
  {
   "cell_type": "code",
   "execution_count": 51,
   "id": "4ddb0873",
   "metadata": {
    "execution": {
     "iopub.execute_input": "2022-08-19T08:18:15.637317Z",
     "iopub.status.busy": "2022-08-19T08:18:15.636863Z",
     "iopub.status.idle": "2022-08-19T08:18:15.680747Z",
     "shell.execute_reply": "2022-08-19T08:18:15.679097Z"
    }
   },
   "outputs": [
    {
     "data": {
      "image/svg+xml": [
       "<?xml version=\"1.0\" encoding=\"UTF-8\" standalone=\"no\"?><svg xmlns=\"http://www.w3.org/2000/svg\" xmlns:xlink=\"http://www.w3.org/1999/xlink\" contentScriptType=\"application/ecmascript\" contentStyleType=\"text/css\" height=\"433px\" preserveAspectRatio=\"none\" style=\"width:611px;height:433px;\" version=\"1.1\" viewBox=\"0 0 611 433\" width=\"611px\" zoomAndPan=\"magnify\"><defs/><g><!--MD5=[fbc87193dbaf4d95561dea2c320d4a47]\n",
       "cluster E1--><a href=\"psysml:4e179b45-ef84-478c-a2da-b16af7c43fe7\" target=\"_top\" title=\"psysml:4e179b45-ef84-478c-a2da-b16af7c43fe7\" xlink:actuate=\"onRequest\" xlink:href=\"psysml:4e179b45-ef84-478c-a2da-b16af7c43fe7\" xlink:show=\"new\" xlink:title=\"psysml:4e179b45-ef84-478c-a2da-b16af7c43fe7\" xlink:type=\"simple\"><polygon fill=\"#FFFFFF\" points=\"16,6,136,6,143,28.2969,589,28.2969,589,421,16,421,16,6\" style=\"stroke: #000000; stroke-width: 1.5;\"/><line style=\"stroke: #000000; stroke-width: 1.5;\" x1=\"16\" x2=\"143\" y1=\"28.2969\" y2=\"28.2969\"/><text fill=\"#000000\" font-family=\"sans-serif\" font-size=\"14\" font-weight=\"bold\" lengthAdjust=\"spacingAndGlyphs\" textLength=\"114\" x=\"20\" y=\"20.9951\">ConjugationTest</text></a><!--MD5=[b4997ac47864f28c2f74865a473b2911]\n",
       "class E2--><a href=\"psysml:859d5a2d-b524-488b-9af4-e0f987adcacf\" target=\"_top\" title=\"psysml:859d5a2d-b524-488b-9af4-e0f987adcacf\" xlink:actuate=\"onRequest\" xlink:href=\"psysml:859d5a2d-b524-488b-9af4-e0f987adcacf\" xlink:show=\"new\" xlink:title=\"psysml:859d5a2d-b524-488b-9af4-e0f987adcacf\" xlink:type=\"simple\"><rect fill=\"#FFFFFF\" height=\"45.9375\" id=\"E2\" style=\"stroke: #383838; stroke-width: 1.5;\" width=\"70\" x=\"216\" y=\"359\"/><text fill=\"#000000\" font-family=\"sans-serif\" font-size=\"12\" font-style=\"italic\" lengthAdjust=\"spacingAndGlyphs\" textLength=\"68\" x=\"217\" y=\"375.1387\">«port  def»</text><text fill=\"#000000\" font-family=\"sans-serif\" font-size=\"12\" lengthAdjust=\"spacingAndGlyphs\" textLength=\"8\" x=\"247\" y=\"389.1074\">P</text><line style=\"stroke: #383838; stroke-width: 1.5;\" x1=\"217\" x2=\"285\" y1=\"396.9375\" y2=\"396.9375\"/></a><!--MD5=[09b614a08d8cba4a07c9adeb5e0fee81]\n",
       "class E3--><a href=\"psysml:615e73ac-8544-4e42-b424-8a4747867d0e\" target=\"_top\" title=\"psysml:615e73ac-8544-4e42-b424-8a4747867d0e\" xlink:actuate=\"onRequest\" xlink:href=\"psysml:615e73ac-8544-4e42-b424-8a4747867d0e\" xlink:show=\"new\" xlink:title=\"psysml:615e73ac-8544-4e42-b424-8a4747867d0e\" xlink:type=\"simple\"><rect fill=\"#FFFFFF\" height=\"45.9375\" id=\"E3\" style=\"stroke: #383838; stroke-width: 1.5;\" width=\"70\" x=\"471\" y=\"147\"/><text fill=\"#000000\" font-family=\"sans-serif\" font-size=\"12\" font-style=\"italic\" lengthAdjust=\"spacingAndGlyphs\" textLength=\"68\" x=\"472\" y=\"163.1387\">«part  def»</text><text fill=\"#000000\" font-family=\"sans-serif\" font-size=\"12\" lengthAdjust=\"spacingAndGlyphs\" textLength=\"8\" x=\"502\" y=\"177.1074\">B</text><line style=\"stroke: #383838; stroke-width: 1.5;\" x1=\"472\" x2=\"540\" y1=\"184.9375\" y2=\"184.9375\"/></a><!--MD5=[ebbe1d658d1005bcc118a6aa81145e00]\n",
       "class E4--><a href=\"psysml:37d2c32c-e4e6-4c0b-af75-96cd6556dd4d\" target=\"_top\" title=\"psysml:37d2c32c-e4e6-4c0b-af75-96cd6556dd4d\" xlink:actuate=\"onRequest\" xlink:href=\"psysml:37d2c32c-e4e6-4c0b-af75-96cd6556dd4d\" xlink:show=\"new\" xlink:title=\"psysml:37d2c32c-e4e6-4c0b-af75-96cd6556dd4d\" xlink:type=\"simple\"><rect fill=\"#FFFFFF\" height=\"45.9375\" id=\"E4\" rx=\"10\" ry=\"10\" style=\"stroke: #383838; stroke-width: 1.5;\" width=\"42\" x=\"454\" y=\"253\"/><text fill=\"#000000\" font-family=\"sans-serif\" font-size=\"12\" font-style=\"italic\" lengthAdjust=\"spacingAndGlyphs\" textLength=\"40\" x=\"455\" y=\"269.1387\">«port»</text><text fill=\"#000000\" font-family=\"sans-serif\" font-size=\"12\" lengthAdjust=\"spacingAndGlyphs\" textLength=\"32\" x=\"457\" y=\"283.1074\">p1: P</text><line style=\"stroke: #383838; stroke-width: 1.5;\" x1=\"455\" x2=\"495\" y1=\"290.9375\" y2=\"290.9375\"/></a><!--MD5=[270fce915f116d4de14055a7c1d9a0f3]\n",
       "class E5--><a href=\"psysml:a7d82e4a-e12d-4520-9ae6-c89754eb7506\" target=\"_top\" title=\"psysml:a7d82e4a-e12d-4520-9ae6-c89754eb7506\" xlink:actuate=\"onRequest\" xlink:href=\"psysml:a7d82e4a-e12d-4520-9ae6-c89754eb7506\" xlink:show=\"new\" xlink:title=\"psysml:a7d82e4a-e12d-4520-9ae6-c89754eb7506\" xlink:type=\"simple\"><rect fill=\"#FFFFFF\" height=\"45.9375\" id=\"E5\" rx=\"10\" ry=\"10\" style=\"stroke: #383838; stroke-width: 1.5;\" width=\"42\" x=\"531\" y=\"253\"/><text fill=\"#000000\" font-family=\"sans-serif\" font-size=\"12\" font-style=\"italic\" lengthAdjust=\"spacingAndGlyphs\" textLength=\"40\" x=\"532\" y=\"269.1387\">«port»</text><text fill=\"#000000\" font-family=\"sans-serif\" font-size=\"12\" lengthAdjust=\"spacingAndGlyphs\" textLength=\"16\" x=\"542\" y=\"283.1074\">p2</text><line style=\"stroke: #383838; stroke-width: 1.5;\" x1=\"532\" x2=\"572\" y1=\"290.9375\" y2=\"290.9375\"/></a><!--MD5=[60a26617385b1d2d0262a64233df1f8d]\n",
       "class E6--><a href=\"psysml:5cdadcae-4d33-45cc-84a1-e26eca79ba4d\" target=\"_top\" title=\"psysml:5cdadcae-4d33-45cc-84a1-e26eca79ba4d\" xlink:actuate=\"onRequest\" xlink:href=\"psysml:5cdadcae-4d33-45cc-84a1-e26eca79ba4d\" xlink:show=\"new\" xlink:title=\"psysml:5cdadcae-4d33-45cc-84a1-e26eca79ba4d\" xlink:type=\"simple\"><rect fill=\"#FFFFFF\" height=\"45.9375\" id=\"E6\" style=\"stroke: #383838; stroke-width: 1.5;\" width=\"114\" x=\"274\" y=\"147\"/><text fill=\"#000000\" font-family=\"sans-serif\" font-size=\"12\" font-style=\"italic\" lengthAdjust=\"spacingAndGlyphs\" textLength=\"112\" x=\"275\" y=\"163.1387\">«connection  def»</text><text fill=\"#000000\" font-family=\"sans-serif\" font-size=\"12\" lengthAdjust=\"spacingAndGlyphs\" textLength=\"8\" x=\"327\" y=\"177.1074\">A</text><line style=\"stroke: #383838; stroke-width: 1.5;\" x1=\"275\" x2=\"387\" y1=\"184.9375\" y2=\"184.9375\"/></a><!--MD5=[2156ba9850f5573cc1fc38a6a4b2f02b]\n",
       "class E7--><a href=\"psysml:7fb982ae-cae7-41b0-848a-52bb93191ec3\" target=\"_top\" title=\"psysml:7fb982ae-cae7-41b0-848a-52bb93191ec3\" xlink:actuate=\"onRequest\" xlink:href=\"psysml:7fb982ae-cae7-41b0-848a-52bb93191ec3\" xlink:show=\"new\" xlink:title=\"psysml:7fb982ae-cae7-41b0-848a-52bb93191ec3\" xlink:type=\"simple\"><rect fill=\"#FFFFFF\" height=\"45.9375\" id=\"E7\" rx=\"10\" ry=\"10\" style=\"stroke: #383838; stroke-width: 1.5;\" width=\"42\" x=\"300\" y=\"253\"/><text fill=\"#000000\" font-family=\"sans-serif\" font-size=\"12\" font-style=\"italic\" lengthAdjust=\"spacingAndGlyphs\" textLength=\"40\" x=\"301\" y=\"269.1387\">«port»</text><text fill=\"#000000\" font-family=\"sans-serif\" font-size=\"12\" lengthAdjust=\"spacingAndGlyphs\" textLength=\"32\" x=\"303\" y=\"283.1074\">p1: P</text><line style=\"stroke: #383838; stroke-width: 1.5;\" x1=\"301\" x2=\"341\" y1=\"290.9375\" y2=\"290.9375\"/></a><!--MD5=[b9389687b975829384b498ac4b7476b2]\n",
       "class E8--><a href=\"psysml:5c21b9df-62cf-4ee8-9145-76efb13de7e4\" target=\"_top\" title=\"psysml:5c21b9df-62cf-4ee8-9145-76efb13de7e4\" xlink:actuate=\"onRequest\" xlink:href=\"psysml:5c21b9df-62cf-4ee8-9145-76efb13de7e4\" xlink:show=\"new\" xlink:title=\"psysml:5c21b9df-62cf-4ee8-9145-76efb13de7e4\" xlink:type=\"simple\"><rect fill=\"#FFFFFF\" height=\"45.9375\" id=\"E8\" rx=\"10\" ry=\"10\" style=\"stroke: #383838; stroke-width: 1.5;\" width=\"42\" x=\"377\" y=\"253\"/><text fill=\"#000000\" font-family=\"sans-serif\" font-size=\"12\" font-style=\"italic\" lengthAdjust=\"spacingAndGlyphs\" textLength=\"40\" x=\"378\" y=\"269.1387\">«port»</text><text fill=\"#000000\" font-family=\"sans-serif\" font-size=\"12\" lengthAdjust=\"spacingAndGlyphs\" textLength=\"16\" x=\"388\" y=\"283.1074\">p2</text><line style=\"stroke: #383838; stroke-width: 1.5;\" x1=\"378\" x2=\"418\" y1=\"290.9375\" y2=\"290.9375\"/></a><!--MD5=[fd4143e9d270a159db93a4ea2a975926]\n",
       "class E9--><a href=\"psysml:2bbab23f-cc40-4354-88cc-493e0b41ffd4\" target=\"_top\" title=\"psysml:2bbab23f-cc40-4354-88cc-493e0b41ffd4\" xlink:actuate=\"onRequest\" xlink:href=\"psysml:2bbab23f-cc40-4354-88cc-493e0b41ffd4\" xlink:show=\"new\" xlink:title=\"psysml:2bbab23f-cc40-4354-88cc-493e0b41ffd4\" xlink:type=\"simple\"><rect fill=\"#FFFFFF\" height=\"45.9375\" id=\"E9\" style=\"stroke: #383838; stroke-width: 1.5;\" width=\"100\" x=\"138\" y=\"147\"/><text fill=\"#000000\" font-family=\"sans-serif\" font-size=\"12\" font-style=\"italic\" lengthAdjust=\"spacingAndGlyphs\" textLength=\"98\" x=\"139\" y=\"163.1387\">«interface  def»</text><text fill=\"#000000\" font-family=\"sans-serif\" font-size=\"12\" lengthAdjust=\"spacingAndGlyphs\" textLength=\"3\" x=\"186.5\" y=\"177.1074\">I</text><line style=\"stroke: #383838; stroke-width: 1.5;\" x1=\"139\" x2=\"237\" y1=\"184.9375\" y2=\"184.9375\"/></a><!--MD5=[96f4274e9e20536e775497830990834d]\n",
       "class E10--><a href=\"psysml:e0785fbe-faad-409c-b39f-62ae49a7d6e0\" target=\"_top\" title=\"psysml:e0785fbe-faad-409c-b39f-62ae49a7d6e0\" xlink:actuate=\"onRequest\" xlink:href=\"psysml:e0785fbe-faad-409c-b39f-62ae49a7d6e0\" xlink:show=\"new\" xlink:title=\"psysml:e0785fbe-faad-409c-b39f-62ae49a7d6e0\" xlink:type=\"simple\"><rect fill=\"#FFFFFF\" height=\"45.9375\" id=\"E10\" rx=\"10\" ry=\"10\" style=\"stroke: #383838; stroke-width: 1.5;\" width=\"42\" x=\"146\" y=\"253\"/><text fill=\"#000000\" font-family=\"sans-serif\" font-size=\"12\" font-style=\"italic\" lengthAdjust=\"spacingAndGlyphs\" textLength=\"40\" x=\"147\" y=\"269.1387\">«port»</text><text fill=\"#000000\" font-family=\"sans-serif\" font-size=\"12\" lengthAdjust=\"spacingAndGlyphs\" textLength=\"32\" x=\"149\" y=\"283.1074\">p1: P</text><line style=\"stroke: #383838; stroke-width: 1.5;\" x1=\"147\" x2=\"187\" y1=\"290.9375\" y2=\"290.9375\"/></a><!--MD5=[1dd1bfd58a279cf63c5f349dbc8fc6a1]\n",
       "class E11--><a href=\"psysml:a18508b4-2f12-4bca-8dd1-291939c34d14\" target=\"_top\" title=\"psysml:a18508b4-2f12-4bca-8dd1-291939c34d14\" xlink:actuate=\"onRequest\" xlink:href=\"psysml:a18508b4-2f12-4bca-8dd1-291939c34d14\" xlink:show=\"new\" xlink:title=\"psysml:a18508b4-2f12-4bca-8dd1-291939c34d14\" xlink:type=\"simple\"><rect fill=\"#FFFFFF\" height=\"45.9375\" id=\"E11\" rx=\"10\" ry=\"10\" style=\"stroke: #383838; stroke-width: 1.5;\" width=\"42\" x=\"223\" y=\"253\"/><text fill=\"#000000\" font-family=\"sans-serif\" font-size=\"12\" font-style=\"italic\" lengthAdjust=\"spacingAndGlyphs\" textLength=\"40\" x=\"224\" y=\"269.1387\">«port»</text><text fill=\"#000000\" font-family=\"sans-serif\" font-size=\"12\" lengthAdjust=\"spacingAndGlyphs\" textLength=\"16\" x=\"234\" y=\"283.1074\">p2</text><line style=\"stroke: #383838; stroke-width: 1.5;\" x1=\"224\" x2=\"264\" y1=\"290.9375\" y2=\"290.9375\"/></a><!--MD5=[49a0ec8f00dab7302a31f22d0f0fe584]\n",
       "class E12--><a href=\"psysml:cd0027e5-9ed9-4216-bffa-1e31fa367fb3\" target=\"_top\" title=\"psysml:cd0027e5-9ed9-4216-bffa-1e31fa367fb3\" xlink:actuate=\"onRequest\" xlink:href=\"psysml:cd0027e5-9ed9-4216-bffa-1e31fa367fb3\" xlink:show=\"new\" xlink:title=\"psysml:cd0027e5-9ed9-4216-bffa-1e31fa367fb3\" xlink:type=\"simple\"><rect fill=\"#FFFFFF\" height=\"45.9375\" id=\"E12\" style=\"stroke: #383838; stroke-width: 1.5;\" width=\"70\" x=\"44\" y=\"41\"/><text fill=\"#000000\" font-family=\"sans-serif\" font-size=\"12\" font-style=\"italic\" lengthAdjust=\"spacingAndGlyphs\" textLength=\"68\" x=\"45\" y=\"57.1387\">«part  def»</text><text fill=\"#000000\" font-family=\"sans-serif\" font-size=\"12\" lengthAdjust=\"spacingAndGlyphs\" textLength=\"16\" x=\"71\" y=\"71.1074\">B1</text><line style=\"stroke: #383838; stroke-width: 1.5;\" x1=\"45\" x2=\"113\" y1=\"78.9375\" y2=\"78.9375\"/></a><!--MD5=[ee3c913d1a06f366521f9ef512b67efe]\n",
       "class E13--><a href=\"psysml:3cf8fc76-e05d-49bd-b29f-3b88a47b72de\" target=\"_top\" title=\"psysml:3cf8fc76-e05d-49bd-b29f-3b88a47b72de\" xlink:actuate=\"onRequest\" xlink:href=\"psysml:3cf8fc76-e05d-49bd-b29f-3b88a47b72de\" xlink:show=\"new\" xlink:title=\"psysml:3cf8fc76-e05d-49bd-b29f-3b88a47b72de\" xlink:type=\"simple\"><rect fill=\"#FFFFFF\" height=\"45.9375\" id=\"E13\" rx=\"10\" ry=\"10\" style=\"stroke: #383838; stroke-width: 1.5;\" width=\"42\" x=\"58\" y=\"147\"/><text fill=\"#000000\" font-family=\"sans-serif\" font-size=\"12\" font-style=\"italic\" lengthAdjust=\"spacingAndGlyphs\" textLength=\"40\" x=\"59\" y=\"163.1387\">«part»</text><text fill=\"#000000\" font-family=\"sans-serif\" font-size=\"12\" lengthAdjust=\"spacingAndGlyphs\" textLength=\"8\" x=\"73\" y=\"177.1074\">p</text><line style=\"stroke: #383838; stroke-width: 1.5;\" x1=\"59\" x2=\"99\" y1=\"184.9375\" y2=\"184.9375\"/></a><!--MD5=[bee11217b2f71d958a27249dc326068c]\n",
       "class E14--><a href=\"psysml:6cf362ef-4bb1-44a5-8272-767638a97c43\" target=\"_top\" title=\"psysml:6cf362ef-4bb1-44a5-8272-767638a97c43\" xlink:actuate=\"onRequest\" xlink:href=\"psysml:6cf362ef-4bb1-44a5-8272-767638a97c43\" xlink:show=\"new\" xlink:title=\"psysml:6cf362ef-4bb1-44a5-8272-767638a97c43\" xlink:type=\"simple\"><rect fill=\"#FFFFFF\" height=\"45.9375\" id=\"E14\" rx=\"10\" ry=\"10\" style=\"stroke: #383838; stroke-width: 1.5;\" width=\"42\" x=\"69\" y=\"253\"/><text fill=\"#000000\" font-family=\"sans-serif\" font-size=\"12\" font-style=\"italic\" lengthAdjust=\"spacingAndGlyphs\" textLength=\"40\" x=\"70\" y=\"269.1387\">«port»</text><text fill=\"#000000\" font-family=\"sans-serif\" font-size=\"12\" lengthAdjust=\"spacingAndGlyphs\" textLength=\"32\" x=\"72\" y=\"283.1074\">p1: P</text><line style=\"stroke: #383838; stroke-width: 1.5;\" x1=\"70\" x2=\"110\" y1=\"290.9375\" y2=\"290.9375\"/></a><!--MD5=[0c48fb7552dae8cbbef69381101a84c8]\n",
       "class E15--><a href=\"psysml:33e7cbb5-c462-4d34-9030-b3438d816b29\" target=\"_top\" title=\"psysml:33e7cbb5-c462-4d34-9030-b3438d816b29\" xlink:actuate=\"onRequest\" xlink:href=\"psysml:33e7cbb5-c462-4d34-9030-b3438d816b29\" xlink:show=\"new\" xlink:title=\"psysml:33e7cbb5-c462-4d34-9030-b3438d816b29\" xlink:type=\"simple\"><rect fill=\"#FFFFFF\" height=\"45.9375\" id=\"E15\" rx=\"10\" ry=\"10\" style=\"stroke: #383838; stroke-width: 1.5;\" width=\"42\" x=\"69\" y=\"359\"/><text fill=\"#000000\" font-family=\"sans-serif\" font-size=\"12\" font-style=\"italic\" lengthAdjust=\"spacingAndGlyphs\" textLength=\"40\" x=\"70\" y=\"375.1387\">«port»</text><text fill=\"#000000\" font-family=\"sans-serif\" font-size=\"12\" lengthAdjust=\"spacingAndGlyphs\" textLength=\"16\" x=\"80\" y=\"389.1074\">p2</text><line style=\"stroke: #383838; stroke-width: 1.5;\" x1=\"70\" x2=\"110\" y1=\"396.9375\" y2=\"396.9375\"/></a><!--MD5=[4672eba38e49728da53d11aeb285b987]\n",
       "reverse link E3 to E4--><a href=\"psysml:e09aa0cf-99c0-4ed5-833c-e6cdd9353c0b\" target=\"_top\" title=\"psysml:e09aa0cf-99c0-4ed5-833c-e6cdd9353c0b\" xlink:actuate=\"onRequest\" xlink:href=\"psysml:e09aa0cf-99c0-4ed5-833c-e6cdd9353c0b\" xlink:show=\"new\" xlink:title=\"psysml:e09aa0cf-99c0-4ed5-833c-e6cdd9353c0b\" xlink:type=\"simple\"><path d=\"M483.5,206 C483.5,206 483.5,252.68 483.5,252.68 \" fill=\"none\" id=\"E3&lt;-E4\" style=\"stroke: #383838; stroke-width: 1.0;\"/><polygon fill=\"#FFFFFF\" points=\"483.5,193,479.5,199,483.5,205,487.5,199,483.5,193\" style=\"stroke: #383838; stroke-width: 1.0;\"/><text fill=\"#000000\" font-family=\"sans-serif\" font-size=\"13\" lengthAdjust=\"spacingAndGlyphs\" textLength=\"8\" x=\"476.6531\" y=\"241.8743\">1</text></a><!--MD5=[185131fc0dcab0a4505a2ebe144e961b]\n",
       "link E4 to E2--><a href=\"psysml:d96439d0-54ae-42c8-b560-5f0ede470e61\" target=\"_top\" title=\"psysml:d96439d0-54ae-42c8-b560-5f0ede470e61\" xlink:actuate=\"onRequest\" xlink:href=\"psysml:d96439d0-54ae-42c8-b560-5f0ede470e61\" xlink:show=\"new\" xlink:title=\"psysml:d96439d0-54ae-42c8-b560-5f0ede470e61\" xlink:type=\"simple\"><path d=\"M475,299 C475,330.18 475,382 475,382 C475,382 306.49,382 306.49,382 \" fill=\"none\" id=\"E4-&gt;E2\" style=\"stroke: #383838; stroke-width: 1.0;\"/><polygon fill=\"#FFFFFF\" points=\"286.49,382,305.49,375,305.49,389,286.49,382\" style=\"stroke: #383838; stroke-width: 1.0;\"/><ellipse cx=\"311.19\" cy=\"377\" fill=\"#383838\" rx=\"2\" ry=\"2\" style=\"stroke: #383838; stroke-width: 1.0;\"/><ellipse cx=\"311.19\" cy=\"387\" fill=\"#383838\" rx=\"2\" ry=\"2\" style=\"stroke: #383838; stroke-width: 1.0;\"/></a><!--MD5=[191cde3d490a3f6d7bb551fe3ddca469]\n",
       "reverse link E3 to E5--><a href=\"psysml:880a21a1-46d7-4f3d-9543-241b40e3ab4a\" target=\"_top\" title=\"psysml:880a21a1-46d7-4f3d-9543-241b40e3ab4a\" xlink:actuate=\"onRequest\" xlink:href=\"psysml:880a21a1-46d7-4f3d-9543-241b40e3ab4a\" xlink:show=\"new\" xlink:title=\"psysml:880a21a1-46d7-4f3d-9543-241b40e3ab4a\" xlink:type=\"simple\"><path d=\"M536,206 C536,206 536,252.68 536,252.68 \" fill=\"none\" id=\"E3&lt;-E5\" style=\"stroke: #383838; stroke-width: 1.0;\"/><polygon fill=\"#FFFFFF\" points=\"536,193,532,199,536,205,540,199,536,193\" style=\"stroke: #383838; stroke-width: 1.0;\"/><text fill=\"#000000\" font-family=\"sans-serif\" font-size=\"13\" lengthAdjust=\"spacingAndGlyphs\" textLength=\"8\" x=\"522.875\" y=\"241.8743\">1</text></a><!--MD5=[3f50a3473f1dfb74d3f76443e03635af]\n",
       "reverse link E6 to E7--><a href=\"psysml:98390341-db8e-40b6-aced-fec2311e0a9d\" target=\"_top\" title=\"psysml:98390341-db8e-40b6-aced-fec2311e0a9d\" xlink:actuate=\"onRequest\" xlink:href=\"psysml:98390341-db8e-40b6-aced-fec2311e0a9d\" xlink:show=\"new\" xlink:title=\"psysml:98390341-db8e-40b6-aced-fec2311e0a9d\" xlink:type=\"simple\"><path d=\"M321,206 C321,206 321,252.68 321,252.68 \" fill=\"none\" id=\"E6&lt;-E7\" style=\"stroke: #383838; stroke-width: 1.0;\"/><polygon fill=\"#FFFFFF\" points=\"321,193,317,199,321,205,325,199,321,193\" style=\"stroke: #383838; stroke-width: 1.0;\"/><text fill=\"#000000\" font-family=\"sans-serif\" font-size=\"13\" lengthAdjust=\"spacingAndGlyphs\" textLength=\"8\" x=\"311.975\" y=\"241.8743\">1</text></a><!--MD5=[583832df87f4419a098336a29a52fa00]\n",
       "link E7 to E2--><a href=\"psysml:6f9217eb-859f-4957-bc31-6c1306f83367\" target=\"_top\" title=\"psysml:6f9217eb-859f-4957-bc31-6c1306f83367\" xlink:actuate=\"onRequest\" xlink:href=\"psysml:6f9217eb-859f-4957-bc31-6c1306f83367\" xlink:show=\"new\" xlink:title=\"psysml:6f9217eb-859f-4957-bc31-6c1306f83367\" xlink:type=\"simple\"><path d=\"M299.54,276 C289.62,276 280,276 280,276 C280,276 280,339 280,339 \" fill=\"none\" id=\"E7-&gt;E2\" style=\"stroke: #383838; stroke-width: 1.0;\"/><polygon fill=\"#FFFFFF\" points=\"280,359,273,340,287,340,280,359\" style=\"stroke: #383838; stroke-width: 1.0;\"/><ellipse cx=\"275\" cy=\"334.3\" fill=\"#383838\" rx=\"2\" ry=\"2\" style=\"stroke: #383838; stroke-width: 1.0;\"/><ellipse cx=\"285\" cy=\"334.3\" fill=\"#383838\" rx=\"2\" ry=\"2\" style=\"stroke: #383838; stroke-width: 1.0;\"/></a><!--MD5=[f4cf0736d43fd73c4ef68817c49d37d5]\n",
       "reverse link E6 to E8--><a href=\"psysml:15a7c7be-761e-4e1c-a126-babbedfba5ca\" target=\"_top\" title=\"psysml:15a7c7be-761e-4e1c-a126-babbedfba5ca\" xlink:actuate=\"onRequest\" xlink:href=\"psysml:15a7c7be-761e-4e1c-a126-babbedfba5ca\" xlink:show=\"new\" xlink:title=\"psysml:15a7c7be-761e-4e1c-a126-babbedfba5ca\" xlink:type=\"simple\"><path d=\"M382.5,206 C382.5,206 382.5,252.68 382.5,252.68 \" fill=\"none\" id=\"E6&lt;-E8\" style=\"stroke: #383838; stroke-width: 1.0;\"/><polygon fill=\"#FFFFFF\" points=\"382.5,193,378.5,199,382.5,205,386.5,199,382.5,193\" style=\"stroke: #383838; stroke-width: 1.0;\"/><text fill=\"#000000\" font-family=\"sans-serif\" font-size=\"13\" lengthAdjust=\"spacingAndGlyphs\" textLength=\"8\" x=\"369.5031\" y=\"241.8743\">1</text></a><!--MD5=[23ac544a70576c3e717098101004234c]\n",
       "reverse link E9 to E10--><a href=\"psysml:a15de342-1742-4b99-9b86-ed8c6fb30ab8\" target=\"_top\" title=\"psysml:a15de342-1742-4b99-9b86-ed8c6fb30ab8\" xlink:actuate=\"onRequest\" xlink:href=\"psysml:a15de342-1742-4b99-9b86-ed8c6fb30ab8\" xlink:show=\"new\" xlink:title=\"psysml:a15de342-1742-4b99-9b86-ed8c6fb30ab8\" xlink:type=\"simple\"><path d=\"M167,206 C167,206 167,252.68 167,252.68 \" fill=\"none\" id=\"E9&lt;-E10\" style=\"stroke: #383838; stroke-width: 1.0;\"/><polygon fill=\"#FFFFFF\" points=\"167,193,163,199,167,205,171,199,167,193\" style=\"stroke: #383838; stroke-width: 1.0;\"/><text fill=\"#000000\" font-family=\"sans-serif\" font-size=\"13\" lengthAdjust=\"spacingAndGlyphs\" textLength=\"8\" x=\"157.975\" y=\"241.8743\">1</text></a><!--MD5=[0f36bececdf0dff6e600d6f64214b0f1]\n",
       "link E10 to E2--><a href=\"psysml:81b1dfc1-849b-47a4-a859-9ae7a728ef15\" target=\"_top\" title=\"psysml:81b1dfc1-849b-47a4-a859-9ae7a728ef15\" xlink:actuate=\"onRequest\" xlink:href=\"psysml:81b1dfc1-849b-47a4-a859-9ae7a728ef15\" xlink:show=\"new\" xlink:title=\"psysml:81b1dfc1-849b-47a4-a859-9ae7a728ef15\" xlink:type=\"simple\"><path d=\"M188.21,276 C203.21,276 220.67,276 220.67,276 C220.67,276 220.67,339 220.67,339 \" fill=\"none\" id=\"E10-&gt;E2\" style=\"stroke: #383838; stroke-width: 1.0;\"/><polygon fill=\"#FFFFFF\" points=\"220.67,359,213.67,340,227.67,340,220.67,359\" style=\"stroke: #383838; stroke-width: 1.0;\"/><ellipse cx=\"215.67\" cy=\"334.3\" fill=\"#383838\" rx=\"2\" ry=\"2\" style=\"stroke: #383838; stroke-width: 1.0;\"/><ellipse cx=\"225.67\" cy=\"334.3\" fill=\"#383838\" rx=\"2\" ry=\"2\" style=\"stroke: #383838; stroke-width: 1.0;\"/></a><!--MD5=[1fc04a95fd77ad5ce46c1a3027516051]\n",
       "reverse link E9 to E11--><a href=\"psysml:fe2242fc-88cc-4430-bc2f-98e79ba2cc70\" target=\"_top\" title=\"psysml:fe2242fc-88cc-4430-bc2f-98e79ba2cc70\" xlink:actuate=\"onRequest\" xlink:href=\"psysml:fe2242fc-88cc-4430-bc2f-98e79ba2cc70\" xlink:show=\"new\" xlink:title=\"psysml:fe2242fc-88cc-4430-bc2f-98e79ba2cc70\" xlink:type=\"simple\"><path d=\"M230.5,206 C230.5,206 230.5,252.68 230.5,252.68 \" fill=\"none\" id=\"E9&lt;-E11\" style=\"stroke: #383838; stroke-width: 1.0;\"/><polygon fill=\"#FFFFFF\" points=\"230.5,193,226.5,199,230.5,205,234.5,199,230.5,193\" style=\"stroke: #383838; stroke-width: 1.0;\"/><text fill=\"#000000\" font-family=\"sans-serif\" font-size=\"13\" lengthAdjust=\"spacingAndGlyphs\" textLength=\"8\" x=\"218.0156\" y=\"241.8743\">1</text></a><!--MD5=[062ed86c389d1a88f61c6380d0491e17]\n",
       "reverse link E12 to E13--><a href=\"psysml:0c56cab0-046e-4827-a921-af226384c943\" target=\"_top\" title=\"psysml:0c56cab0-046e-4827-a921-af226384c943\" xlink:actuate=\"onRequest\" xlink:href=\"psysml:0c56cab0-046e-4827-a921-af226384c943\" xlink:show=\"new\" xlink:title=\"psysml:0c56cab0-046e-4827-a921-af226384c943\" xlink:type=\"simple\"><path d=\"M79,100 C79,100 79,146.68 79,146.68 \" fill=\"none\" id=\"E12&lt;-E13\" style=\"stroke: #383838; stroke-width: 1.0;\"/><polygon fill=\"#FFFFFF\" points=\"79,87,75,93,79,99,83,93,79,87\" style=\"stroke: #383838; stroke-width: 1.0;\"/><text fill=\"#000000\" font-family=\"sans-serif\" font-size=\"13\" lengthAdjust=\"spacingAndGlyphs\" textLength=\"8\" x=\"69.975\" y=\"135.8743\">1</text></a><!--MD5=[01db00f33b28669d6d9febea71002831]\n",
       "reverse link E13 to E14--><a href=\"psysml:12334834-5f3e-4b20-9f0b-aad671391bfa\" target=\"_top\" title=\"psysml:12334834-5f3e-4b20-9f0b-aad671391bfa\" xlink:actuate=\"onRequest\" xlink:href=\"psysml:12334834-5f3e-4b20-9f0b-aad671391bfa\" xlink:show=\"new\" xlink:title=\"psysml:12334834-5f3e-4b20-9f0b-aad671391bfa\" xlink:type=\"simple\"><path d=\"M84.5,206 C84.5,206 84.5,252.68 84.5,252.68 \" fill=\"none\" id=\"E13&lt;-E14\" style=\"stroke: #383838; stroke-width: 1.0;\"/><polygon fill=\"#FFFFFF\" points=\"84.5,193,80.5,199,84.5,205,88.5,199,84.5,193\" style=\"stroke: #383838; stroke-width: 1.0;\"/><text fill=\"#000000\" font-family=\"sans-serif\" font-size=\"13\" lengthAdjust=\"spacingAndGlyphs\" textLength=\"8\" x=\"74.0656\" y=\"241.8743\">1</text></a><!--MD5=[e5566ac99d7714697a7fbc17f6b550fe]\n",
       "link E14 to E2--><a href=\"psysml:f15866fc-26c5-4fac-ba02-f8f796eed5e8\" target=\"_top\" title=\"psysml:f15866fc-26c5-4fac-ba02-f8f796eed5e8\" xlink:actuate=\"onRequest\" xlink:href=\"psysml:f15866fc-26c5-4fac-ba02-f8f796eed5e8\" xlink:show=\"new\" xlink:title=\"psysml:f15866fc-26c5-4fac-ba02-f8f796eed5e8\" xlink:type=\"simple\"><path d=\"M100.5,299.09 C100.5,313.37 100.5,329 100.5,329 C100.5,329 218.33,329 218.33,329 C218.33,329 218.33,338.91 218.33,338.91 \" fill=\"none\" id=\"E14-&gt;E2\" style=\"stroke: #383838; stroke-width: 1.0;\"/><polygon fill=\"#FFFFFF\" points=\"218.33,358.91,211.33,339.91,225.33,339.91,218.33,358.91\" style=\"stroke: #383838; stroke-width: 1.0;\"/><ellipse cx=\"213.33\" cy=\"334.21\" fill=\"#383838\" rx=\"2\" ry=\"2\" style=\"stroke: #383838; stroke-width: 1.0;\"/><ellipse cx=\"223.33\" cy=\"334.21\" fill=\"#383838\" rx=\"2\" ry=\"2\" style=\"stroke: #383838; stroke-width: 1.0;\"/></a><!--MD5=[e9a5e828c71fd2209a11a152f562d491]\n",
       "reverse link E13 to E15--><a href=\"psysml:ce878baa-f80f-4009-adda-6088e19c872e\" target=\"_top\" title=\"psysml:ce878baa-f80f-4009-adda-6088e19c872e\" xlink:actuate=\"onRequest\" xlink:href=\"psysml:ce878baa-f80f-4009-adda-6088e19c872e\" xlink:show=\"new\" xlink:title=\"psysml:ce878baa-f80f-4009-adda-6088e19c872e\" xlink:type=\"simple\"><path d=\"M63.5,206.09 C63.5,206.09 63.5,382 63.5,382 C63.5,382 65.71,382 68.86,382 \" fill=\"none\" id=\"E13&lt;-E15\" style=\"stroke: #383838; stroke-width: 1.0;\"/><polygon fill=\"#FFFFFF\" points=\"63.5,193.09,59.5,199.09,63.5,205.09,67.5,199.09,63.5,193.09\" style=\"stroke: #383838; stroke-width: 1.0;\"/><text fill=\"#000000\" font-family=\"sans-serif\" font-size=\"13\" lengthAdjust=\"spacingAndGlyphs\" textLength=\"8\" x=\"52.8466\" y=\"376.7074\">1</text></a><!--MD5=[3afbdc645381407e1bc99677323a2513]\n",
       "link E14 to E15--><a href=\"psysml:1f31a0eb-24e7-4abd-8eab-15c525015988\" target=\"_top\" title=\"psysml:1f31a0eb-24e7-4abd-8eab-15c525015988\" xlink:actuate=\"onRequest\" xlink:href=\"psysml:1f31a0eb-24e7-4abd-8eab-15c525015988\" xlink:show=\"new\" xlink:title=\"psysml:1f31a0eb-24e7-4abd-8eab-15c525015988\" xlink:type=\"simple\"><path d=\"M79.5,299 C79.5,316.66 79.5,340.94 79.5,358.68 \" fill=\"none\" id=\"E14-E15\" style=\"stroke: #383838; stroke-width: 3.0;\"/></a><!--MD5=[3afbdc645381407e1bc99677323a2513]\n",
       "link E14 to E15--><a href=\"psysml:c2fd36d5-55a7-4367-ae55-c3f656adabca\" target=\"_top\" title=\"psysml:c2fd36d5-55a7-4367-ae55-c3f656adabca\" xlink:actuate=\"onRequest\" xlink:href=\"psysml:c2fd36d5-55a7-4367-ae55-c3f656adabca\" xlink:show=\"new\" xlink:title=\"psysml:c2fd36d5-55a7-4367-ae55-c3f656adabca\" xlink:type=\"simple\"><path d=\"M90,299 C90,316.66 90,340.94 90,358.68 \" fill=\"none\" id=\"E14-E15-1\" style=\"stroke: #383838; stroke-width: 3.0;\"/></a><!--MD5=[6ee8b0af359f4fad123e005141dd0a8e]\n",
       "@startuml\r\n",
       "skinparam linetype ortho\r\n",
       "skinparam monochrome true\r\n",
       "skinparam classbackgroundcolor white\r\n",
       "skinparam shadowing false\r\n",
       "skinparam wrapWidth 300\r\n",
       "hide circle\r\n",
       "\r\n",
       "package \"ConjugationTest\" as E1  [[psysml:4e179b45-ef84-478c-a2da-b16af7c43fe7 ]]  {\r\n",
       "comp def \"P\" as E2  <<(T,blue) port  def>> [[psysml:859d5a2d-b524-488b-9af4-e0f987adcacf ]] {\r\n",
       "}\r\n",
       "comp def \"B\" as E3  <<(T,blue) part  def>> [[psysml:615e73ac-8544-4e42-b424-8a4747867d0e ]] {\r\n",
       "}\r\n",
       "comp usage \"p1: P \" as E4  <<(T,blue) port>> [[psysml:37d2c32c-e4e6-4c0b-af75-96cd6556dd4d ]] {\r\n",
       "}\r\n",
       "comp usage \"p2 \" as E5  <<(T,blue) port>> [[psysml:a7d82e4a-e12d-4520-9ae6-c89754eb7506 ]] {\r\n",
       "}\r\n",
       "comp def \"A\" as E6  <<(T,blue) connection  def>> [[psysml:5cdadcae-4d33-45cc-84a1-e26eca79ba4d ]] {\r\n",
       "}\r\n",
       "comp usage \"p1: P \" as E7  <<(T,blue) port>> [[psysml:7fb982ae-cae7-41b0-848a-52bb93191ec3 ]] {\r\n",
       "}\r\n",
       "comp usage \"p2 \" as E8  <<(T,blue) port>> [[psysml:5c21b9df-62cf-4ee8-9145-76efb13de7e4 ]] {\r\n",
       "}\r\n",
       "comp def \"I\" as E9  <<(T,blue) interface  def>> [[psysml:2bbab23f-cc40-4354-88cc-493e0b41ffd4 ]] {\r\n",
       "}\r\n",
       "comp usage \"p1: P \" as E10  <<(T,blue) port>> [[psysml:e0785fbe-faad-409c-b39f-62ae49a7d6e0 ]] {\r\n",
       "}\r\n",
       "comp usage \"p2 \" as E11  <<(T,blue) port>> [[psysml:a18508b4-2f12-4bca-8dd1-291939c34d14 ]] {\r\n",
       "}\r\n",
       "comp def \"B1\" as E12  <<(T,blue) part  def>> [[psysml:cd0027e5-9ed9-4216-bffa-1e31fa367fb3 ]] {\r\n",
       "}\r\n",
       "comp usage \"p \" as E13  <<(T,blue) part>> [[psysml:3cf8fc76-e05d-49bd-b29f-3b88a47b72de ]] {\r\n",
       "}\r\n",
       "comp usage \"p1: P \" as E14  <<(T,blue) port>> [[psysml:6cf362ef-4bb1-44a5-8272-767638a97c43 ]] {\r\n",
       "}\r\n",
       "comp usage \"p2 \" as E15  <<(T,blue) port>> [[psysml:33e7cbb5-c462-4d34-9030-b3438d816b29 ]] {\r\n",
       "}\r\n",
       "}\r\n",
       "E3 o- - \"1\"E4 [[psysml:e09aa0cf-99c0-4ed5-833c-e6cdd9353c0b ]] \r\n",
       "E4 - -:|> E2 [[psysml:d96439d0-54ae-42c8-b560-5f0ede470e61 ]] \r\n",
       "E3 o- - \"1\"E5 [[psysml:880a21a1-46d7-4f3d-9543-241b40e3ab4a ]] \r\n",
       "E6 o- - \"1\"E7 [[psysml:98390341-db8e-40b6-aced-fec2311e0a9d ]] \r\n",
       "E7 - -:|> E2 [[psysml:6f9217eb-859f-4957-bc31-6c1306f83367 ]] \r\n",
       "E6 o- - \"1\"E8 [[psysml:15a7c7be-761e-4e1c-a126-babbedfba5ca ]] \r\n",
       "E9 o- - \"1\"E10 [[psysml:a15de342-1742-4b99-9b86-ed8c6fb30ab8 ]] \r\n",
       "E10 - -:|> E2 [[psysml:81b1dfc1-849b-47a4-a859-9ae7a728ef15 ]] \r\n",
       "E9 o- - \"1\"E11 [[psysml:fe2242fc-88cc-4430-bc2f-98e79ba2cc70 ]] \r\n",
       "E12 o- - \"1\"E13 [[psysml:0c56cab0-046e-4827-a921-af226384c943 ]] \r\n",
       "E13 o- - \"1\"E14 [[psysml:12334834-5f3e-4b20-9f0b-aad671391bfa ]] \r\n",
       "E14 - -:|> E2 [[psysml:f15866fc-26c5-4fac-ba02-f8f796eed5e8 ]] \r\n",
       "E13 o- - \"1\"E15 [[psysml:ce878baa-f80f-4009-adda-6088e19c872e ]] \r\n",
       "E14 -[thickness=3]- E15 [[psysml:1f31a0eb-24e7-4abd-8eab-15c525015988 ]] \r\n",
       "E14 -[thickness=3]- E15 [[psysml:c2fd36d5-55a7-4367-ae55-c3f656adabca ]] \r\n",
       "@enduml\r\n",
       "\n",
       "PlantUML version 1.2020.13(Sat Jun 13 12:26:38 UTC 2020)\n",
       "(EPL source distribution)\n",
       "Java Runtime: OpenJDK Runtime Environment\n",
       "JVM: OpenJDK 64-Bit Server VM\n",
       "Default Encoding: UTF-8\n",
       "Language: en\n",
       "Country: null\n",
       "--></g></svg>"
      ]
     },
     "execution_count": 51,
     "metadata": {},
     "output_type": "execute_result"
    }
   ],
   "source": [
    "%viz --style=\"ORTHOLINE\" --view=\"Default\" \"ConjugationTest\""
   ]
  },
  {
   "cell_type": "code",
   "execution_count": 52,
   "id": "2071b146",
   "metadata": {
    "execution": {
     "iopub.execute_input": "2022-08-19T08:18:15.729744Z",
     "iopub.status.busy": "2022-08-19T08:18:15.729304Z",
     "iopub.status.idle": "2022-08-19T08:18:15.774185Z",
     "shell.execute_reply": "2022-08-19T08:18:15.773717Z"
    }
   },
   "outputs": [
    {
     "data": {
      "image/svg+xml": [
       "<?xml version=\"1.0\" encoding=\"UTF-8\" standalone=\"no\"?><svg xmlns=\"http://www.w3.org/2000/svg\" xmlns:xlink=\"http://www.w3.org/1999/xlink\" contentScriptType=\"application/ecmascript\" contentStyleType=\"text/css\" height=\"433px\" preserveAspectRatio=\"none\" style=\"width:611px;height:433px;\" version=\"1.1\" viewBox=\"0 0 611 433\" width=\"611px\" zoomAndPan=\"magnify\"><defs/><g><!--MD5=[fbc87193dbaf4d95561dea2c320d4a47]\n",
       "cluster E1--><a href=\"psysml:4e179b45-ef84-478c-a2da-b16af7c43fe7\" target=\"_top\" title=\"psysml:4e179b45-ef84-478c-a2da-b16af7c43fe7\" xlink:actuate=\"onRequest\" xlink:href=\"psysml:4e179b45-ef84-478c-a2da-b16af7c43fe7\" xlink:show=\"new\" xlink:title=\"psysml:4e179b45-ef84-478c-a2da-b16af7c43fe7\" xlink:type=\"simple\"><polygon fill=\"#FFFFFF\" points=\"16,6,136,6,143,28.2969,589,28.2969,589,421,16,421,16,6\" style=\"stroke: #000000; stroke-width: 1.5;\"/><line style=\"stroke: #000000; stroke-width: 1.5;\" x1=\"16\" x2=\"143\" y1=\"28.2969\" y2=\"28.2969\"/><text fill=\"#000000\" font-family=\"sans-serif\" font-size=\"14\" font-weight=\"bold\" lengthAdjust=\"spacingAndGlyphs\" textLength=\"114\" x=\"20\" y=\"20.9951\">ConjugationTest</text></a><!--MD5=[b4997ac47864f28c2f74865a473b2911]\n",
       "class E2--><a href=\"psysml:859d5a2d-b524-488b-9af4-e0f987adcacf\" target=\"_top\" title=\"psysml:859d5a2d-b524-488b-9af4-e0f987adcacf\" xlink:actuate=\"onRequest\" xlink:href=\"psysml:859d5a2d-b524-488b-9af4-e0f987adcacf\" xlink:show=\"new\" xlink:title=\"psysml:859d5a2d-b524-488b-9af4-e0f987adcacf\" xlink:type=\"simple\"><rect fill=\"#FFFFFF\" height=\"45.9375\" id=\"E2\" style=\"stroke: #383838; stroke-width: 1.5;\" width=\"70\" x=\"216\" y=\"359\"/><text fill=\"#000000\" font-family=\"sans-serif\" font-size=\"12\" font-style=\"italic\" lengthAdjust=\"spacingAndGlyphs\" textLength=\"68\" x=\"217\" y=\"375.1387\">«port  def»</text><text fill=\"#000000\" font-family=\"sans-serif\" font-size=\"12\" lengthAdjust=\"spacingAndGlyphs\" textLength=\"8\" x=\"247\" y=\"389.1074\">P</text><line style=\"stroke: #383838; stroke-width: 1.5;\" x1=\"217\" x2=\"285\" y1=\"396.9375\" y2=\"396.9375\"/></a><!--MD5=[09b614a08d8cba4a07c9adeb5e0fee81]\n",
       "class E3--><a href=\"psysml:615e73ac-8544-4e42-b424-8a4747867d0e\" target=\"_top\" title=\"psysml:615e73ac-8544-4e42-b424-8a4747867d0e\" xlink:actuate=\"onRequest\" xlink:href=\"psysml:615e73ac-8544-4e42-b424-8a4747867d0e\" xlink:show=\"new\" xlink:title=\"psysml:615e73ac-8544-4e42-b424-8a4747867d0e\" xlink:type=\"simple\"><rect fill=\"#FFFFFF\" height=\"45.9375\" id=\"E3\" style=\"stroke: #383838; stroke-width: 1.5;\" width=\"70\" x=\"471\" y=\"147\"/><text fill=\"#000000\" font-family=\"sans-serif\" font-size=\"12\" font-style=\"italic\" lengthAdjust=\"spacingAndGlyphs\" textLength=\"68\" x=\"472\" y=\"163.1387\">«part  def»</text><text fill=\"#000000\" font-family=\"sans-serif\" font-size=\"12\" lengthAdjust=\"spacingAndGlyphs\" textLength=\"8\" x=\"502\" y=\"177.1074\">B</text><line style=\"stroke: #383838; stroke-width: 1.5;\" x1=\"472\" x2=\"540\" y1=\"184.9375\" y2=\"184.9375\"/></a><!--MD5=[ebbe1d658d1005bcc118a6aa81145e00]\n",
       "class E4--><a href=\"psysml:37d2c32c-e4e6-4c0b-af75-96cd6556dd4d\" target=\"_top\" title=\"psysml:37d2c32c-e4e6-4c0b-af75-96cd6556dd4d\" xlink:actuate=\"onRequest\" xlink:href=\"psysml:37d2c32c-e4e6-4c0b-af75-96cd6556dd4d\" xlink:show=\"new\" xlink:title=\"psysml:37d2c32c-e4e6-4c0b-af75-96cd6556dd4d\" xlink:type=\"simple\"><rect fill=\"#FFFFFF\" height=\"45.9375\" id=\"E4\" rx=\"10\" ry=\"10\" style=\"stroke: #383838; stroke-width: 1.5;\" width=\"42\" x=\"454\" y=\"253\"/><text fill=\"#000000\" font-family=\"sans-serif\" font-size=\"12\" font-style=\"italic\" lengthAdjust=\"spacingAndGlyphs\" textLength=\"40\" x=\"455\" y=\"269.1387\">«port»</text><text fill=\"#000000\" font-family=\"sans-serif\" font-size=\"12\" lengthAdjust=\"spacingAndGlyphs\" textLength=\"32\" x=\"457\" y=\"283.1074\">p1: P</text><line style=\"stroke: #383838; stroke-width: 1.5;\" x1=\"455\" x2=\"495\" y1=\"290.9375\" y2=\"290.9375\"/></a><!--MD5=[270fce915f116d4de14055a7c1d9a0f3]\n",
       "class E5--><a href=\"psysml:a7d82e4a-e12d-4520-9ae6-c89754eb7506\" target=\"_top\" title=\"psysml:a7d82e4a-e12d-4520-9ae6-c89754eb7506\" xlink:actuate=\"onRequest\" xlink:href=\"psysml:a7d82e4a-e12d-4520-9ae6-c89754eb7506\" xlink:show=\"new\" xlink:title=\"psysml:a7d82e4a-e12d-4520-9ae6-c89754eb7506\" xlink:type=\"simple\"><rect fill=\"#FFFFFF\" height=\"45.9375\" id=\"E5\" rx=\"10\" ry=\"10\" style=\"stroke: #383838; stroke-width: 1.5;\" width=\"42\" x=\"531\" y=\"253\"/><text fill=\"#000000\" font-family=\"sans-serif\" font-size=\"12\" font-style=\"italic\" lengthAdjust=\"spacingAndGlyphs\" textLength=\"40\" x=\"532\" y=\"269.1387\">«port»</text><text fill=\"#000000\" font-family=\"sans-serif\" font-size=\"12\" lengthAdjust=\"spacingAndGlyphs\" textLength=\"16\" x=\"542\" y=\"283.1074\">p2</text><line style=\"stroke: #383838; stroke-width: 1.5;\" x1=\"532\" x2=\"572\" y1=\"290.9375\" y2=\"290.9375\"/></a><!--MD5=[60a26617385b1d2d0262a64233df1f8d]\n",
       "class E6--><a href=\"psysml:5cdadcae-4d33-45cc-84a1-e26eca79ba4d\" target=\"_top\" title=\"psysml:5cdadcae-4d33-45cc-84a1-e26eca79ba4d\" xlink:actuate=\"onRequest\" xlink:href=\"psysml:5cdadcae-4d33-45cc-84a1-e26eca79ba4d\" xlink:show=\"new\" xlink:title=\"psysml:5cdadcae-4d33-45cc-84a1-e26eca79ba4d\" xlink:type=\"simple\"><rect fill=\"#FFFFFF\" height=\"45.9375\" id=\"E6\" style=\"stroke: #383838; stroke-width: 1.5;\" width=\"114\" x=\"274\" y=\"147\"/><text fill=\"#000000\" font-family=\"sans-serif\" font-size=\"12\" font-style=\"italic\" lengthAdjust=\"spacingAndGlyphs\" textLength=\"112\" x=\"275\" y=\"163.1387\">«connection  def»</text><text fill=\"#000000\" font-family=\"sans-serif\" font-size=\"12\" lengthAdjust=\"spacingAndGlyphs\" textLength=\"8\" x=\"327\" y=\"177.1074\">A</text><line style=\"stroke: #383838; stroke-width: 1.5;\" x1=\"275\" x2=\"387\" y1=\"184.9375\" y2=\"184.9375\"/></a><!--MD5=[2156ba9850f5573cc1fc38a6a4b2f02b]\n",
       "class E7--><a href=\"psysml:7fb982ae-cae7-41b0-848a-52bb93191ec3\" target=\"_top\" title=\"psysml:7fb982ae-cae7-41b0-848a-52bb93191ec3\" xlink:actuate=\"onRequest\" xlink:href=\"psysml:7fb982ae-cae7-41b0-848a-52bb93191ec3\" xlink:show=\"new\" xlink:title=\"psysml:7fb982ae-cae7-41b0-848a-52bb93191ec3\" xlink:type=\"simple\"><rect fill=\"#FFFFFF\" height=\"45.9375\" id=\"E7\" rx=\"10\" ry=\"10\" style=\"stroke: #383838; stroke-width: 1.5;\" width=\"42\" x=\"300\" y=\"253\"/><text fill=\"#000000\" font-family=\"sans-serif\" font-size=\"12\" font-style=\"italic\" lengthAdjust=\"spacingAndGlyphs\" textLength=\"40\" x=\"301\" y=\"269.1387\">«port»</text><text fill=\"#000000\" font-family=\"sans-serif\" font-size=\"12\" lengthAdjust=\"spacingAndGlyphs\" textLength=\"32\" x=\"303\" y=\"283.1074\">p1: P</text><line style=\"stroke: #383838; stroke-width: 1.5;\" x1=\"301\" x2=\"341\" y1=\"290.9375\" y2=\"290.9375\"/></a><!--MD5=[b9389687b975829384b498ac4b7476b2]\n",
       "class E8--><a href=\"psysml:5c21b9df-62cf-4ee8-9145-76efb13de7e4\" target=\"_top\" title=\"psysml:5c21b9df-62cf-4ee8-9145-76efb13de7e4\" xlink:actuate=\"onRequest\" xlink:href=\"psysml:5c21b9df-62cf-4ee8-9145-76efb13de7e4\" xlink:show=\"new\" xlink:title=\"psysml:5c21b9df-62cf-4ee8-9145-76efb13de7e4\" xlink:type=\"simple\"><rect fill=\"#FFFFFF\" height=\"45.9375\" id=\"E8\" rx=\"10\" ry=\"10\" style=\"stroke: #383838; stroke-width: 1.5;\" width=\"42\" x=\"377\" y=\"253\"/><text fill=\"#000000\" font-family=\"sans-serif\" font-size=\"12\" font-style=\"italic\" lengthAdjust=\"spacingAndGlyphs\" textLength=\"40\" x=\"378\" y=\"269.1387\">«port»</text><text fill=\"#000000\" font-family=\"sans-serif\" font-size=\"12\" lengthAdjust=\"spacingAndGlyphs\" textLength=\"16\" x=\"388\" y=\"283.1074\">p2</text><line style=\"stroke: #383838; stroke-width: 1.5;\" x1=\"378\" x2=\"418\" y1=\"290.9375\" y2=\"290.9375\"/></a><!--MD5=[fd4143e9d270a159db93a4ea2a975926]\n",
       "class E9--><a href=\"psysml:2bbab23f-cc40-4354-88cc-493e0b41ffd4\" target=\"_top\" title=\"psysml:2bbab23f-cc40-4354-88cc-493e0b41ffd4\" xlink:actuate=\"onRequest\" xlink:href=\"psysml:2bbab23f-cc40-4354-88cc-493e0b41ffd4\" xlink:show=\"new\" xlink:title=\"psysml:2bbab23f-cc40-4354-88cc-493e0b41ffd4\" xlink:type=\"simple\"><rect fill=\"#FFFFFF\" height=\"45.9375\" id=\"E9\" style=\"stroke: #383838; stroke-width: 1.5;\" width=\"100\" x=\"138\" y=\"147\"/><text fill=\"#000000\" font-family=\"sans-serif\" font-size=\"12\" font-style=\"italic\" lengthAdjust=\"spacingAndGlyphs\" textLength=\"98\" x=\"139\" y=\"163.1387\">«interface  def»</text><text fill=\"#000000\" font-family=\"sans-serif\" font-size=\"12\" lengthAdjust=\"spacingAndGlyphs\" textLength=\"3\" x=\"186.5\" y=\"177.1074\">I</text><line style=\"stroke: #383838; stroke-width: 1.5;\" x1=\"139\" x2=\"237\" y1=\"184.9375\" y2=\"184.9375\"/></a><!--MD5=[96f4274e9e20536e775497830990834d]\n",
       "class E10--><a href=\"psysml:e0785fbe-faad-409c-b39f-62ae49a7d6e0\" target=\"_top\" title=\"psysml:e0785fbe-faad-409c-b39f-62ae49a7d6e0\" xlink:actuate=\"onRequest\" xlink:href=\"psysml:e0785fbe-faad-409c-b39f-62ae49a7d6e0\" xlink:show=\"new\" xlink:title=\"psysml:e0785fbe-faad-409c-b39f-62ae49a7d6e0\" xlink:type=\"simple\"><rect fill=\"#FFFFFF\" height=\"45.9375\" id=\"E10\" rx=\"10\" ry=\"10\" style=\"stroke: #383838; stroke-width: 1.5;\" width=\"42\" x=\"146\" y=\"253\"/><text fill=\"#000000\" font-family=\"sans-serif\" font-size=\"12\" font-style=\"italic\" lengthAdjust=\"spacingAndGlyphs\" textLength=\"40\" x=\"147\" y=\"269.1387\">«port»</text><text fill=\"#000000\" font-family=\"sans-serif\" font-size=\"12\" lengthAdjust=\"spacingAndGlyphs\" textLength=\"32\" x=\"149\" y=\"283.1074\">p1: P</text><line style=\"stroke: #383838; stroke-width: 1.5;\" x1=\"147\" x2=\"187\" y1=\"290.9375\" y2=\"290.9375\"/></a><!--MD5=[1dd1bfd58a279cf63c5f349dbc8fc6a1]\n",
       "class E11--><a href=\"psysml:a18508b4-2f12-4bca-8dd1-291939c34d14\" target=\"_top\" title=\"psysml:a18508b4-2f12-4bca-8dd1-291939c34d14\" xlink:actuate=\"onRequest\" xlink:href=\"psysml:a18508b4-2f12-4bca-8dd1-291939c34d14\" xlink:show=\"new\" xlink:title=\"psysml:a18508b4-2f12-4bca-8dd1-291939c34d14\" xlink:type=\"simple\"><rect fill=\"#FFFFFF\" height=\"45.9375\" id=\"E11\" rx=\"10\" ry=\"10\" style=\"stroke: #383838; stroke-width: 1.5;\" width=\"42\" x=\"223\" y=\"253\"/><text fill=\"#000000\" font-family=\"sans-serif\" font-size=\"12\" font-style=\"italic\" lengthAdjust=\"spacingAndGlyphs\" textLength=\"40\" x=\"224\" y=\"269.1387\">«port»</text><text fill=\"#000000\" font-family=\"sans-serif\" font-size=\"12\" lengthAdjust=\"spacingAndGlyphs\" textLength=\"16\" x=\"234\" y=\"283.1074\">p2</text><line style=\"stroke: #383838; stroke-width: 1.5;\" x1=\"224\" x2=\"264\" y1=\"290.9375\" y2=\"290.9375\"/></a><!--MD5=[49a0ec8f00dab7302a31f22d0f0fe584]\n",
       "class E12--><a href=\"psysml:cd0027e5-9ed9-4216-bffa-1e31fa367fb3\" target=\"_top\" title=\"psysml:cd0027e5-9ed9-4216-bffa-1e31fa367fb3\" xlink:actuate=\"onRequest\" xlink:href=\"psysml:cd0027e5-9ed9-4216-bffa-1e31fa367fb3\" xlink:show=\"new\" xlink:title=\"psysml:cd0027e5-9ed9-4216-bffa-1e31fa367fb3\" xlink:type=\"simple\"><rect fill=\"#FFFFFF\" height=\"45.9375\" id=\"E12\" style=\"stroke: #383838; stroke-width: 1.5;\" width=\"70\" x=\"44\" y=\"41\"/><text fill=\"#000000\" font-family=\"sans-serif\" font-size=\"12\" font-style=\"italic\" lengthAdjust=\"spacingAndGlyphs\" textLength=\"68\" x=\"45\" y=\"57.1387\">«part  def»</text><text fill=\"#000000\" font-family=\"sans-serif\" font-size=\"12\" lengthAdjust=\"spacingAndGlyphs\" textLength=\"16\" x=\"71\" y=\"71.1074\">B1</text><line style=\"stroke: #383838; stroke-width: 1.5;\" x1=\"45\" x2=\"113\" y1=\"78.9375\" y2=\"78.9375\"/></a><!--MD5=[ee3c913d1a06f366521f9ef512b67efe]\n",
       "class E13--><a href=\"psysml:3cf8fc76-e05d-49bd-b29f-3b88a47b72de\" target=\"_top\" title=\"psysml:3cf8fc76-e05d-49bd-b29f-3b88a47b72de\" xlink:actuate=\"onRequest\" xlink:href=\"psysml:3cf8fc76-e05d-49bd-b29f-3b88a47b72de\" xlink:show=\"new\" xlink:title=\"psysml:3cf8fc76-e05d-49bd-b29f-3b88a47b72de\" xlink:type=\"simple\"><rect fill=\"#FFFFFF\" height=\"45.9375\" id=\"E13\" rx=\"10\" ry=\"10\" style=\"stroke: #383838; stroke-width: 1.5;\" width=\"42\" x=\"58\" y=\"147\"/><text fill=\"#000000\" font-family=\"sans-serif\" font-size=\"12\" font-style=\"italic\" lengthAdjust=\"spacingAndGlyphs\" textLength=\"40\" x=\"59\" y=\"163.1387\">«part»</text><text fill=\"#000000\" font-family=\"sans-serif\" font-size=\"12\" lengthAdjust=\"spacingAndGlyphs\" textLength=\"8\" x=\"73\" y=\"177.1074\">p</text><line style=\"stroke: #383838; stroke-width: 1.5;\" x1=\"59\" x2=\"99\" y1=\"184.9375\" y2=\"184.9375\"/></a><!--MD5=[bee11217b2f71d958a27249dc326068c]\n",
       "class E14--><a href=\"psysml:6cf362ef-4bb1-44a5-8272-767638a97c43\" target=\"_top\" title=\"psysml:6cf362ef-4bb1-44a5-8272-767638a97c43\" xlink:actuate=\"onRequest\" xlink:href=\"psysml:6cf362ef-4bb1-44a5-8272-767638a97c43\" xlink:show=\"new\" xlink:title=\"psysml:6cf362ef-4bb1-44a5-8272-767638a97c43\" xlink:type=\"simple\"><rect fill=\"#FFFFFF\" height=\"45.9375\" id=\"E14\" rx=\"10\" ry=\"10\" style=\"stroke: #383838; stroke-width: 1.5;\" width=\"42\" x=\"69\" y=\"253\"/><text fill=\"#000000\" font-family=\"sans-serif\" font-size=\"12\" font-style=\"italic\" lengthAdjust=\"spacingAndGlyphs\" textLength=\"40\" x=\"70\" y=\"269.1387\">«port»</text><text fill=\"#000000\" font-family=\"sans-serif\" font-size=\"12\" lengthAdjust=\"spacingAndGlyphs\" textLength=\"32\" x=\"72\" y=\"283.1074\">p1: P</text><line style=\"stroke: #383838; stroke-width: 1.5;\" x1=\"70\" x2=\"110\" y1=\"290.9375\" y2=\"290.9375\"/></a><!--MD5=[0c48fb7552dae8cbbef69381101a84c8]\n",
       "class E15--><a href=\"psysml:33e7cbb5-c462-4d34-9030-b3438d816b29\" target=\"_top\" title=\"psysml:33e7cbb5-c462-4d34-9030-b3438d816b29\" xlink:actuate=\"onRequest\" xlink:href=\"psysml:33e7cbb5-c462-4d34-9030-b3438d816b29\" xlink:show=\"new\" xlink:title=\"psysml:33e7cbb5-c462-4d34-9030-b3438d816b29\" xlink:type=\"simple\"><rect fill=\"#FFFFFF\" height=\"45.9375\" id=\"E15\" rx=\"10\" ry=\"10\" style=\"stroke: #383838; stroke-width: 1.5;\" width=\"42\" x=\"69\" y=\"359\"/><text fill=\"#000000\" font-family=\"sans-serif\" font-size=\"12\" font-style=\"italic\" lengthAdjust=\"spacingAndGlyphs\" textLength=\"40\" x=\"70\" y=\"375.1387\">«port»</text><text fill=\"#000000\" font-family=\"sans-serif\" font-size=\"12\" lengthAdjust=\"spacingAndGlyphs\" textLength=\"16\" x=\"80\" y=\"389.1074\">p2</text><line style=\"stroke: #383838; stroke-width: 1.5;\" x1=\"70\" x2=\"110\" y1=\"396.9375\" y2=\"396.9375\"/></a><!--MD5=[4672eba38e49728da53d11aeb285b987]\n",
       "reverse link E3 to E4--><a href=\"psysml:e09aa0cf-99c0-4ed5-833c-e6cdd9353c0b\" target=\"_top\" title=\"psysml:e09aa0cf-99c0-4ed5-833c-e6cdd9353c0b\" xlink:actuate=\"onRequest\" xlink:href=\"psysml:e09aa0cf-99c0-4ed5-833c-e6cdd9353c0b\" xlink:show=\"new\" xlink:title=\"psysml:e09aa0cf-99c0-4ed5-833c-e6cdd9353c0b\" xlink:type=\"simple\"><path d=\"M483.5,206 C483.5,206 483.5,252.68 483.5,252.68 \" fill=\"none\" id=\"E3&lt;-E4\" style=\"stroke: #383838; stroke-width: 1.0;\"/><polygon fill=\"#FFFFFF\" points=\"483.5,193,479.5,199,483.5,205,487.5,199,483.5,193\" style=\"stroke: #383838; stroke-width: 1.0;\"/><text fill=\"#000000\" font-family=\"sans-serif\" font-size=\"13\" lengthAdjust=\"spacingAndGlyphs\" textLength=\"8\" x=\"476.6531\" y=\"241.8743\">1</text></a><!--MD5=[185131fc0dcab0a4505a2ebe144e961b]\n",
       "link E4 to E2--><a href=\"psysml:d96439d0-54ae-42c8-b560-5f0ede470e61\" target=\"_top\" title=\"psysml:d96439d0-54ae-42c8-b560-5f0ede470e61\" xlink:actuate=\"onRequest\" xlink:href=\"psysml:d96439d0-54ae-42c8-b560-5f0ede470e61\" xlink:show=\"new\" xlink:title=\"psysml:d96439d0-54ae-42c8-b560-5f0ede470e61\" xlink:type=\"simple\"><path d=\"M475,299 C475,330.18 475,382 475,382 C475,382 306.49,382 306.49,382 \" fill=\"none\" id=\"E4-&gt;E2\" style=\"stroke: #383838; stroke-width: 1.0;\"/><polygon fill=\"#FFFFFF\" points=\"286.49,382,305.49,375,305.49,389,286.49,382\" style=\"stroke: #383838; stroke-width: 1.0;\"/><ellipse cx=\"311.19\" cy=\"377\" fill=\"#383838\" rx=\"2\" ry=\"2\" style=\"stroke: #383838; stroke-width: 1.0;\"/><ellipse cx=\"311.19\" cy=\"387\" fill=\"#383838\" rx=\"2\" ry=\"2\" style=\"stroke: #383838; stroke-width: 1.0;\"/></a><!--MD5=[191cde3d490a3f6d7bb551fe3ddca469]\n",
       "reverse link E3 to E5--><a href=\"psysml:880a21a1-46d7-4f3d-9543-241b40e3ab4a\" target=\"_top\" title=\"psysml:880a21a1-46d7-4f3d-9543-241b40e3ab4a\" xlink:actuate=\"onRequest\" xlink:href=\"psysml:880a21a1-46d7-4f3d-9543-241b40e3ab4a\" xlink:show=\"new\" xlink:title=\"psysml:880a21a1-46d7-4f3d-9543-241b40e3ab4a\" xlink:type=\"simple\"><path d=\"M536,206 C536,206 536,252.68 536,252.68 \" fill=\"none\" id=\"E3&lt;-E5\" style=\"stroke: #383838; stroke-width: 1.0;\"/><polygon fill=\"#FFFFFF\" points=\"536,193,532,199,536,205,540,199,536,193\" style=\"stroke: #383838; stroke-width: 1.0;\"/><text fill=\"#000000\" font-family=\"sans-serif\" font-size=\"13\" lengthAdjust=\"spacingAndGlyphs\" textLength=\"8\" x=\"522.875\" y=\"241.8743\">1</text></a><!--MD5=[3f50a3473f1dfb74d3f76443e03635af]\n",
       "reverse link E6 to E7--><a href=\"psysml:98390341-db8e-40b6-aced-fec2311e0a9d\" target=\"_top\" title=\"psysml:98390341-db8e-40b6-aced-fec2311e0a9d\" xlink:actuate=\"onRequest\" xlink:href=\"psysml:98390341-db8e-40b6-aced-fec2311e0a9d\" xlink:show=\"new\" xlink:title=\"psysml:98390341-db8e-40b6-aced-fec2311e0a9d\" xlink:type=\"simple\"><path d=\"M321,206 C321,206 321,252.68 321,252.68 \" fill=\"none\" id=\"E6&lt;-E7\" style=\"stroke: #383838; stroke-width: 1.0;\"/><polygon fill=\"#FFFFFF\" points=\"321,193,317,199,321,205,325,199,321,193\" style=\"stroke: #383838; stroke-width: 1.0;\"/><text fill=\"#000000\" font-family=\"sans-serif\" font-size=\"13\" lengthAdjust=\"spacingAndGlyphs\" textLength=\"8\" x=\"311.975\" y=\"241.8743\">1</text></a><!--MD5=[583832df87f4419a098336a29a52fa00]\n",
       "link E7 to E2--><a href=\"psysml:6f9217eb-859f-4957-bc31-6c1306f83367\" target=\"_top\" title=\"psysml:6f9217eb-859f-4957-bc31-6c1306f83367\" xlink:actuate=\"onRequest\" xlink:href=\"psysml:6f9217eb-859f-4957-bc31-6c1306f83367\" xlink:show=\"new\" xlink:title=\"psysml:6f9217eb-859f-4957-bc31-6c1306f83367\" xlink:type=\"simple\"><path d=\"M299.54,276 C289.62,276 280,276 280,276 C280,276 280,339 280,339 \" fill=\"none\" id=\"E7-&gt;E2\" style=\"stroke: #383838; stroke-width: 1.0;\"/><polygon fill=\"#FFFFFF\" points=\"280,359,273,340,287,340,280,359\" style=\"stroke: #383838; stroke-width: 1.0;\"/><ellipse cx=\"275\" cy=\"334.3\" fill=\"#383838\" rx=\"2\" ry=\"2\" style=\"stroke: #383838; stroke-width: 1.0;\"/><ellipse cx=\"285\" cy=\"334.3\" fill=\"#383838\" rx=\"2\" ry=\"2\" style=\"stroke: #383838; stroke-width: 1.0;\"/></a><!--MD5=[f4cf0736d43fd73c4ef68817c49d37d5]\n",
       "reverse link E6 to E8--><a href=\"psysml:15a7c7be-761e-4e1c-a126-babbedfba5ca\" target=\"_top\" title=\"psysml:15a7c7be-761e-4e1c-a126-babbedfba5ca\" xlink:actuate=\"onRequest\" xlink:href=\"psysml:15a7c7be-761e-4e1c-a126-babbedfba5ca\" xlink:show=\"new\" xlink:title=\"psysml:15a7c7be-761e-4e1c-a126-babbedfba5ca\" xlink:type=\"simple\"><path d=\"M382.5,206 C382.5,206 382.5,252.68 382.5,252.68 \" fill=\"none\" id=\"E6&lt;-E8\" style=\"stroke: #383838; stroke-width: 1.0;\"/><polygon fill=\"#FFFFFF\" points=\"382.5,193,378.5,199,382.5,205,386.5,199,382.5,193\" style=\"stroke: #383838; stroke-width: 1.0;\"/><text fill=\"#000000\" font-family=\"sans-serif\" font-size=\"13\" lengthAdjust=\"spacingAndGlyphs\" textLength=\"8\" x=\"369.5031\" y=\"241.8743\">1</text></a><!--MD5=[23ac544a70576c3e717098101004234c]\n",
       "reverse link E9 to E10--><a href=\"psysml:a15de342-1742-4b99-9b86-ed8c6fb30ab8\" target=\"_top\" title=\"psysml:a15de342-1742-4b99-9b86-ed8c6fb30ab8\" xlink:actuate=\"onRequest\" xlink:href=\"psysml:a15de342-1742-4b99-9b86-ed8c6fb30ab8\" xlink:show=\"new\" xlink:title=\"psysml:a15de342-1742-4b99-9b86-ed8c6fb30ab8\" xlink:type=\"simple\"><path d=\"M167,206 C167,206 167,252.68 167,252.68 \" fill=\"none\" id=\"E9&lt;-E10\" style=\"stroke: #383838; stroke-width: 1.0;\"/><polygon fill=\"#FFFFFF\" points=\"167,193,163,199,167,205,171,199,167,193\" style=\"stroke: #383838; stroke-width: 1.0;\"/><text fill=\"#000000\" font-family=\"sans-serif\" font-size=\"13\" lengthAdjust=\"spacingAndGlyphs\" textLength=\"8\" x=\"157.975\" y=\"241.8743\">1</text></a><!--MD5=[0f36bececdf0dff6e600d6f64214b0f1]\n",
       "link E10 to E2--><a href=\"psysml:81b1dfc1-849b-47a4-a859-9ae7a728ef15\" target=\"_top\" title=\"psysml:81b1dfc1-849b-47a4-a859-9ae7a728ef15\" xlink:actuate=\"onRequest\" xlink:href=\"psysml:81b1dfc1-849b-47a4-a859-9ae7a728ef15\" xlink:show=\"new\" xlink:title=\"psysml:81b1dfc1-849b-47a4-a859-9ae7a728ef15\" xlink:type=\"simple\"><path d=\"M188.21,276 C203.21,276 220.67,276 220.67,276 C220.67,276 220.67,339 220.67,339 \" fill=\"none\" id=\"E10-&gt;E2\" style=\"stroke: #383838; stroke-width: 1.0;\"/><polygon fill=\"#FFFFFF\" points=\"220.67,359,213.67,340,227.67,340,220.67,359\" style=\"stroke: #383838; stroke-width: 1.0;\"/><ellipse cx=\"215.67\" cy=\"334.3\" fill=\"#383838\" rx=\"2\" ry=\"2\" style=\"stroke: #383838; stroke-width: 1.0;\"/><ellipse cx=\"225.67\" cy=\"334.3\" fill=\"#383838\" rx=\"2\" ry=\"2\" style=\"stroke: #383838; stroke-width: 1.0;\"/></a><!--MD5=[1fc04a95fd77ad5ce46c1a3027516051]\n",
       "reverse link E9 to E11--><a href=\"psysml:fe2242fc-88cc-4430-bc2f-98e79ba2cc70\" target=\"_top\" title=\"psysml:fe2242fc-88cc-4430-bc2f-98e79ba2cc70\" xlink:actuate=\"onRequest\" xlink:href=\"psysml:fe2242fc-88cc-4430-bc2f-98e79ba2cc70\" xlink:show=\"new\" xlink:title=\"psysml:fe2242fc-88cc-4430-bc2f-98e79ba2cc70\" xlink:type=\"simple\"><path d=\"M230.5,206 C230.5,206 230.5,252.68 230.5,252.68 \" fill=\"none\" id=\"E9&lt;-E11\" style=\"stroke: #383838; stroke-width: 1.0;\"/><polygon fill=\"#FFFFFF\" points=\"230.5,193,226.5,199,230.5,205,234.5,199,230.5,193\" style=\"stroke: #383838; stroke-width: 1.0;\"/><text fill=\"#000000\" font-family=\"sans-serif\" font-size=\"13\" lengthAdjust=\"spacingAndGlyphs\" textLength=\"8\" x=\"218.0156\" y=\"241.8743\">1</text></a><!--MD5=[062ed86c389d1a88f61c6380d0491e17]\n",
       "reverse link E12 to E13--><a href=\"psysml:0c56cab0-046e-4827-a921-af226384c943\" target=\"_top\" title=\"psysml:0c56cab0-046e-4827-a921-af226384c943\" xlink:actuate=\"onRequest\" xlink:href=\"psysml:0c56cab0-046e-4827-a921-af226384c943\" xlink:show=\"new\" xlink:title=\"psysml:0c56cab0-046e-4827-a921-af226384c943\" xlink:type=\"simple\"><path d=\"M79,100 C79,100 79,146.68 79,146.68 \" fill=\"none\" id=\"E12&lt;-E13\" style=\"stroke: #383838; stroke-width: 1.0;\"/><polygon fill=\"#FFFFFF\" points=\"79,87,75,93,79,99,83,93,79,87\" style=\"stroke: #383838; stroke-width: 1.0;\"/><text fill=\"#000000\" font-family=\"sans-serif\" font-size=\"13\" lengthAdjust=\"spacingAndGlyphs\" textLength=\"8\" x=\"69.975\" y=\"135.8743\">1</text></a><!--MD5=[01db00f33b28669d6d9febea71002831]\n",
       "reverse link E13 to E14--><a href=\"psysml:12334834-5f3e-4b20-9f0b-aad671391bfa\" target=\"_top\" title=\"psysml:12334834-5f3e-4b20-9f0b-aad671391bfa\" xlink:actuate=\"onRequest\" xlink:href=\"psysml:12334834-5f3e-4b20-9f0b-aad671391bfa\" xlink:show=\"new\" xlink:title=\"psysml:12334834-5f3e-4b20-9f0b-aad671391bfa\" xlink:type=\"simple\"><path d=\"M84.5,206 C84.5,206 84.5,252.68 84.5,252.68 \" fill=\"none\" id=\"E13&lt;-E14\" style=\"stroke: #383838; stroke-width: 1.0;\"/><polygon fill=\"#FFFFFF\" points=\"84.5,193,80.5,199,84.5,205,88.5,199,84.5,193\" style=\"stroke: #383838; stroke-width: 1.0;\"/><text fill=\"#000000\" font-family=\"sans-serif\" font-size=\"13\" lengthAdjust=\"spacingAndGlyphs\" textLength=\"8\" x=\"74.0656\" y=\"241.8743\">1</text></a><!--MD5=[e5566ac99d7714697a7fbc17f6b550fe]\n",
       "link E14 to E2--><a href=\"psysml:f15866fc-26c5-4fac-ba02-f8f796eed5e8\" target=\"_top\" title=\"psysml:f15866fc-26c5-4fac-ba02-f8f796eed5e8\" xlink:actuate=\"onRequest\" xlink:href=\"psysml:f15866fc-26c5-4fac-ba02-f8f796eed5e8\" xlink:show=\"new\" xlink:title=\"psysml:f15866fc-26c5-4fac-ba02-f8f796eed5e8\" xlink:type=\"simple\"><path d=\"M100.5,299.09 C100.5,313.37 100.5,329 100.5,329 C100.5,329 218.33,329 218.33,329 C218.33,329 218.33,338.91 218.33,338.91 \" fill=\"none\" id=\"E14-&gt;E2\" style=\"stroke: #383838; stroke-width: 1.0;\"/><polygon fill=\"#FFFFFF\" points=\"218.33,358.91,211.33,339.91,225.33,339.91,218.33,358.91\" style=\"stroke: #383838; stroke-width: 1.0;\"/><ellipse cx=\"213.33\" cy=\"334.21\" fill=\"#383838\" rx=\"2\" ry=\"2\" style=\"stroke: #383838; stroke-width: 1.0;\"/><ellipse cx=\"223.33\" cy=\"334.21\" fill=\"#383838\" rx=\"2\" ry=\"2\" style=\"stroke: #383838; stroke-width: 1.0;\"/></a><!--MD5=[e9a5e828c71fd2209a11a152f562d491]\n",
       "reverse link E13 to E15--><a href=\"psysml:ce878baa-f80f-4009-adda-6088e19c872e\" target=\"_top\" title=\"psysml:ce878baa-f80f-4009-adda-6088e19c872e\" xlink:actuate=\"onRequest\" xlink:href=\"psysml:ce878baa-f80f-4009-adda-6088e19c872e\" xlink:show=\"new\" xlink:title=\"psysml:ce878baa-f80f-4009-adda-6088e19c872e\" xlink:type=\"simple\"><path d=\"M63.5,206.09 C63.5,206.09 63.5,382 63.5,382 C63.5,382 65.71,382 68.86,382 \" fill=\"none\" id=\"E13&lt;-E15\" style=\"stroke: #383838; stroke-width: 1.0;\"/><polygon fill=\"#FFFFFF\" points=\"63.5,193.09,59.5,199.09,63.5,205.09,67.5,199.09,63.5,193.09\" style=\"stroke: #383838; stroke-width: 1.0;\"/><text fill=\"#000000\" font-family=\"sans-serif\" font-size=\"13\" lengthAdjust=\"spacingAndGlyphs\" textLength=\"8\" x=\"52.8466\" y=\"376.7074\">1</text></a><!--MD5=[3afbdc645381407e1bc99677323a2513]\n",
       "link E14 to E15--><a href=\"psysml:1f31a0eb-24e7-4abd-8eab-15c525015988\" target=\"_top\" title=\"psysml:1f31a0eb-24e7-4abd-8eab-15c525015988\" xlink:actuate=\"onRequest\" xlink:href=\"psysml:1f31a0eb-24e7-4abd-8eab-15c525015988\" xlink:show=\"new\" xlink:title=\"psysml:1f31a0eb-24e7-4abd-8eab-15c525015988\" xlink:type=\"simple\"><path d=\"M79.5,299 C79.5,316.66 79.5,340.94 79.5,358.68 \" fill=\"none\" id=\"E14-E15\" style=\"stroke: #383838; stroke-width: 3.0;\"/></a><!--MD5=[3afbdc645381407e1bc99677323a2513]\n",
       "link E14 to E15--><a href=\"psysml:c2fd36d5-55a7-4367-ae55-c3f656adabca\" target=\"_top\" title=\"psysml:c2fd36d5-55a7-4367-ae55-c3f656adabca\" xlink:actuate=\"onRequest\" xlink:href=\"psysml:c2fd36d5-55a7-4367-ae55-c3f656adabca\" xlink:show=\"new\" xlink:title=\"psysml:c2fd36d5-55a7-4367-ae55-c3f656adabca\" xlink:type=\"simple\"><path d=\"M90,299 C90,316.66 90,340.94 90,358.68 \" fill=\"none\" id=\"E14-E15-1\" style=\"stroke: #383838; stroke-width: 3.0;\"/></a><!--MD5=[6ee8b0af359f4fad123e005141dd0a8e]\n",
       "@startuml\r\n",
       "skinparam linetype ortho\r\n",
       "skinparam monochrome true\r\n",
       "skinparam classbackgroundcolor white\r\n",
       "skinparam shadowing false\r\n",
       "skinparam wrapWidth 300\r\n",
       "hide circle\r\n",
       "\r\n",
       "package \"ConjugationTest\" as E1  [[psysml:4e179b45-ef84-478c-a2da-b16af7c43fe7 ]]  {\r\n",
       "comp def \"P\" as E2  <<(T,blue) port  def>> [[psysml:859d5a2d-b524-488b-9af4-e0f987adcacf ]] {\r\n",
       "}\r\n",
       "comp def \"B\" as E3  <<(T,blue) part  def>> [[psysml:615e73ac-8544-4e42-b424-8a4747867d0e ]] {\r\n",
       "}\r\n",
       "comp usage \"p1: P \" as E4  <<(T,blue) port>> [[psysml:37d2c32c-e4e6-4c0b-af75-96cd6556dd4d ]] {\r\n",
       "}\r\n",
       "comp usage \"p2 \" as E5  <<(T,blue) port>> [[psysml:a7d82e4a-e12d-4520-9ae6-c89754eb7506 ]] {\r\n",
       "}\r\n",
       "comp def \"A\" as E6  <<(T,blue) connection  def>> [[psysml:5cdadcae-4d33-45cc-84a1-e26eca79ba4d ]] {\r\n",
       "}\r\n",
       "comp usage \"p1: P \" as E7  <<(T,blue) port>> [[psysml:7fb982ae-cae7-41b0-848a-52bb93191ec3 ]] {\r\n",
       "}\r\n",
       "comp usage \"p2 \" as E8  <<(T,blue) port>> [[psysml:5c21b9df-62cf-4ee8-9145-76efb13de7e4 ]] {\r\n",
       "}\r\n",
       "comp def \"I\" as E9  <<(T,blue) interface  def>> [[psysml:2bbab23f-cc40-4354-88cc-493e0b41ffd4 ]] {\r\n",
       "}\r\n",
       "comp usage \"p1: P \" as E10  <<(T,blue) port>> [[psysml:e0785fbe-faad-409c-b39f-62ae49a7d6e0 ]] {\r\n",
       "}\r\n",
       "comp usage \"p2 \" as E11  <<(T,blue) port>> [[psysml:a18508b4-2f12-4bca-8dd1-291939c34d14 ]] {\r\n",
       "}\r\n",
       "comp def \"B1\" as E12  <<(T,blue) part  def>> [[psysml:cd0027e5-9ed9-4216-bffa-1e31fa367fb3 ]] {\r\n",
       "}\r\n",
       "comp usage \"p \" as E13  <<(T,blue) part>> [[psysml:3cf8fc76-e05d-49bd-b29f-3b88a47b72de ]] {\r\n",
       "}\r\n",
       "comp usage \"p1: P \" as E14  <<(T,blue) port>> [[psysml:6cf362ef-4bb1-44a5-8272-767638a97c43 ]] {\r\n",
       "}\r\n",
       "comp usage \"p2 \" as E15  <<(T,blue) port>> [[psysml:33e7cbb5-c462-4d34-9030-b3438d816b29 ]] {\r\n",
       "}\r\n",
       "}\r\n",
       "E3 o- - \"1\"E4 [[psysml:e09aa0cf-99c0-4ed5-833c-e6cdd9353c0b ]] \r\n",
       "E4 - -:|> E2 [[psysml:d96439d0-54ae-42c8-b560-5f0ede470e61 ]] \r\n",
       "E3 o- - \"1\"E5 [[psysml:880a21a1-46d7-4f3d-9543-241b40e3ab4a ]] \r\n",
       "E6 o- - \"1\"E7 [[psysml:98390341-db8e-40b6-aced-fec2311e0a9d ]] \r\n",
       "E7 - -:|> E2 [[psysml:6f9217eb-859f-4957-bc31-6c1306f83367 ]] \r\n",
       "E6 o- - \"1\"E8 [[psysml:15a7c7be-761e-4e1c-a126-babbedfba5ca ]] \r\n",
       "E9 o- - \"1\"E10 [[psysml:a15de342-1742-4b99-9b86-ed8c6fb30ab8 ]] \r\n",
       "E10 - -:|> E2 [[psysml:81b1dfc1-849b-47a4-a859-9ae7a728ef15 ]] \r\n",
       "E9 o- - \"1\"E11 [[psysml:fe2242fc-88cc-4430-bc2f-98e79ba2cc70 ]] \r\n",
       "E12 o- - \"1\"E13 [[psysml:0c56cab0-046e-4827-a921-af226384c943 ]] \r\n",
       "E13 o- - \"1\"E14 [[psysml:12334834-5f3e-4b20-9f0b-aad671391bfa ]] \r\n",
       "E14 - -:|> E2 [[psysml:f15866fc-26c5-4fac-ba02-f8f796eed5e8 ]] \r\n",
       "E13 o- - \"1\"E15 [[psysml:ce878baa-f80f-4009-adda-6088e19c872e ]] \r\n",
       "E14 -[thickness=3]- E15 [[psysml:1f31a0eb-24e7-4abd-8eab-15c525015988 ]] \r\n",
       "E14 -[thickness=3]- E15 [[psysml:c2fd36d5-55a7-4367-ae55-c3f656adabca ]] \r\n",
       "@enduml\r\n",
       "\n",
       "PlantUML version 1.2020.13(Sat Jun 13 12:26:38 UTC 2020)\n",
       "(EPL source distribution)\n",
       "Java Runtime: OpenJDK Runtime Environment\n",
       "JVM: OpenJDK 64-Bit Server VM\n",
       "Default Encoding: UTF-8\n",
       "Language: en\n",
       "Country: null\n",
       "--></g></svg>"
      ]
     },
     "execution_count": 52,
     "metadata": {},
     "output_type": "execute_result"
    }
   ],
   "source": [
    "%viz --style=\"ORTHOLINE\" --view=\"Tree\" \"ConjugationTest\""
   ]
  },
  {
   "cell_type": "code",
   "execution_count": 53,
   "id": "a0242e60",
   "metadata": {
    "execution": {
     "iopub.execute_input": "2022-08-19T08:18:15.823879Z",
     "iopub.status.busy": "2022-08-19T08:18:15.823409Z",
     "iopub.status.idle": "2022-08-19T08:18:15.828689Z",
     "shell.execute_reply": "2022-08-19T08:18:15.828293Z"
    }
   },
   "outputs": [
    {
     "data": {
      "image/svg+xml": [
       "<?xml version=\"1.0\" encoding=\"UTF-8\" standalone=\"no\"?><svg xmlns=\"http://www.w3.org/2000/svg\" xmlns:xlink=\"http://www.w3.org/1999/xlink\" contentScriptType=\"application/ecmascript\" contentStyleType=\"text/css\" height=\"12px\" preserveAspectRatio=\"none\" style=\"width:12px;height:12px;\" version=\"1.1\" viewBox=\"0 0 12 12\" width=\"12px\" zoomAndPan=\"magnify\"><defs/><g><!--MD5=[97d6f38768b311333d388e66b2b27985]\n",
       "@startuml\r\n",
       "skinparam linetype ortho\r\n",
       "skinparam monochrome true\r\n",
       "skinparam classbackgroundcolor white\r\n",
       "skinparam shadowing false\r\n",
       "skinparam wrapWidth 300\r\n",
       "hide circle\r\n",
       "\r\n",
       "@enduml\r\n",
       "\n",
       "PlantUML version 1.2020.13(Sat Jun 13 12:26:38 UTC 2020)\n",
       "(EPL source distribution)\n",
       "Java Runtime: OpenJDK Runtime Environment\n",
       "JVM: OpenJDK 64-Bit Server VM\n",
       "Default Encoding: UTF-8\n",
       "Language: en\n",
       "Country: null\n",
       "--></g></svg>"
      ]
     },
     "execution_count": 53,
     "metadata": {},
     "output_type": "execute_result"
    }
   ],
   "source": [
    "%viz --style=\"ORTHOLINE\" --view=\"State\" \"ConjugationTest\""
   ]
  },
  {
   "cell_type": "code",
   "execution_count": 54,
   "id": "b7ece15f",
   "metadata": {
    "execution": {
     "iopub.execute_input": "2022-08-19T08:18:15.878107Z",
     "iopub.status.busy": "2022-08-19T08:18:15.877656Z",
     "iopub.status.idle": "2022-08-19T08:18:15.919827Z",
     "shell.execute_reply": "2022-08-19T08:18:15.918400Z"
    }
   },
   "outputs": [
    {
     "data": {
      "image/svg+xml": [
       "<?xml version=\"1.0\" encoding=\"UTF-8\" standalone=\"no\"?><svg xmlns=\"http://www.w3.org/2000/svg\" xmlns:xlink=\"http://www.w3.org/1999/xlink\" contentScriptType=\"application/ecmascript\" contentStyleType=\"text/css\" height=\"299px\" preserveAspectRatio=\"none\" style=\"width:765px;height:299px;\" version=\"1.1\" viewBox=\"0 0 765 299\" width=\"765px\" zoomAndPan=\"magnify\"><defs/><g><!--MD5=[fbc87193dbaf4d95561dea2c320d4a47]\n",
       "cluster E1--><a href=\"psysml:4e179b45-ef84-478c-a2da-b16af7c43fe7\" target=\"_top\" title=\"psysml:4e179b45-ef84-478c-a2da-b16af7c43fe7\" xlink:actuate=\"onRequest\" xlink:href=\"psysml:4e179b45-ef84-478c-a2da-b16af7c43fe7\" xlink:show=\"new\" xlink:title=\"psysml:4e179b45-ef84-478c-a2da-b16af7c43fe7\" xlink:type=\"simple\"><polygon fill=\"#FFFFFF\" points=\"16,6,136,6,143,28.2969,743,28.2969,743,287.36,16,287.36,16,6\" style=\"stroke: #000000; stroke-width: 1.5;\"/><line style=\"stroke: #000000; stroke-width: 1.5;\" x1=\"16\" x2=\"143\" y1=\"28.2969\" y2=\"28.2969\"/><text fill=\"#000000\" font-family=\"sans-serif\" font-size=\"14\" font-weight=\"bold\" lengthAdjust=\"spacingAndGlyphs\" textLength=\"114\" x=\"20\" y=\"20.9951\">ConjugationTest</text></a><!--MD5=[d5e69f78d87373223dbae638b30a9c99]\n",
       "cluster E3--><a href=\"psysml:615e73ac-8544-4e42-b424-8a4747867d0e\" target=\"_top\" title=\"psysml:615e73ac-8544-4e42-b424-8a4747867d0e\" xlink:actuate=\"onRequest\" xlink:href=\"psysml:615e73ac-8544-4e42-b424-8a4747867d0e\" xlink:show=\"new\" xlink:title=\"psysml:615e73ac-8544-4e42-b424-8a4747867d0e\" xlink:type=\"simple\"><rect fill=\"#FFFFFF\" height=\"88.5\" id=\"E3\" style=\"stroke: #383838; stroke-width: 1.5;\" width=\"85\" x=\"600\" y=\"114\"/><rect fill=\"#F8F8F8\" height=\"37.9375\" style=\"stroke: #383838; stroke-width: 1.5;\" width=\"85\" x=\"600\" y=\"114\"/><text fill=\"#000000\" font-family=\"sans-serif\" font-size=\"12\" font-style=\"italic\" lengthAdjust=\"spacingAndGlyphs\" textLength=\"68\" x=\"608.5\" y=\"130.1387\">«part  def»</text><text fill=\"#000000\" font-family=\"sans-serif\" font-size=\"12\" lengthAdjust=\"spacingAndGlyphs\" textLength=\"8\" x=\"638.5\" y=\"144.1074\">B</text></a><!--MD5=[14e3b0961a2654348d326746436168a1]\n",
       "cluster E6--><a href=\"psysml:5cdadcae-4d33-45cc-84a1-e26eca79ba4d\" target=\"_top\" title=\"psysml:5cdadcae-4d33-45cc-84a1-e26eca79ba4d\" xlink:actuate=\"onRequest\" xlink:href=\"psysml:5cdadcae-4d33-45cc-84a1-e26eca79ba4d\" xlink:show=\"new\" xlink:title=\"psysml:5cdadcae-4d33-45cc-84a1-e26eca79ba4d\" xlink:type=\"simple\"><rect fill=\"#FFFFFF\" height=\"88.5\" id=\"E6\" style=\"stroke: #383838; stroke-width: 1.5;\" width=\"152\" x=\"443\" y=\"114\"/><rect fill=\"#F8F8F8\" height=\"37.9375\" style=\"stroke: #383838; stroke-width: 1.5;\" width=\"152\" x=\"443\" y=\"114\"/><text fill=\"#000000\" font-family=\"sans-serif\" font-size=\"12\" font-style=\"italic\" lengthAdjust=\"spacingAndGlyphs\" textLength=\"112\" x=\"463\" y=\"130.1387\">«connection  def»</text><text fill=\"#000000\" font-family=\"sans-serif\" font-size=\"12\" lengthAdjust=\"spacingAndGlyphs\" textLength=\"8\" x=\"515\" y=\"144.1074\">A</text></a><!--MD5=[7f149f147074ac12df2cb0a7728a5fb0]\n",
       "cluster E9--><a href=\"psysml:2bbab23f-cc40-4354-88cc-493e0b41ffd4\" target=\"_top\" title=\"psysml:2bbab23f-cc40-4354-88cc-493e0b41ffd4\" xlink:actuate=\"onRequest\" xlink:href=\"psysml:2bbab23f-cc40-4354-88cc-493e0b41ffd4\" xlink:show=\"new\" xlink:title=\"psysml:2bbab23f-cc40-4354-88cc-493e0b41ffd4\" xlink:type=\"simple\"><rect fill=\"#FFFFFF\" height=\"88.5\" id=\"E9\" style=\"stroke: #383838; stroke-width: 1.5;\" width=\"143\" x=\"270\" y=\"114\"/><rect fill=\"#F8F8F8\" height=\"37.9375\" style=\"stroke: #383838; stroke-width: 1.5;\" width=\"143\" x=\"270\" y=\"114\"/><text fill=\"#000000\" font-family=\"sans-serif\" font-size=\"12\" font-style=\"italic\" lengthAdjust=\"spacingAndGlyphs\" textLength=\"98\" x=\"292.5\" y=\"130.1387\">«interface  def»</text><text fill=\"#000000\" font-family=\"sans-serif\" font-size=\"12\" lengthAdjust=\"spacingAndGlyphs\" textLength=\"3\" x=\"340\" y=\"144.1074\">I</text></a><!--MD5=[47bea60c1a0ac6c1143df232041969c0]\n",
       "cluster E12--><a href=\"psysml:cd0027e5-9ed9-4216-bffa-1e31fa367fb3\" target=\"_top\" title=\"psysml:cd0027e5-9ed9-4216-bffa-1e31fa367fb3\" xlink:actuate=\"onRequest\" xlink:href=\"psysml:cd0027e5-9ed9-4216-bffa-1e31fa367fb3\" xlink:show=\"new\" xlink:title=\"psysml:cd0027e5-9ed9-4216-bffa-1e31fa367fb3\" xlink:type=\"simple\"><rect fill=\"#FFFFFF\" height=\"214.36\" id=\"E12\" style=\"stroke: #383838; stroke-width: 1.5;\" width=\"119\" x=\"122\" y=\"49\"/><rect fill=\"#F8F8F8\" height=\"37.9375\" style=\"stroke: #383838; stroke-width: 1.5;\" width=\"119\" x=\"122\" y=\"49\"/><text fill=\"#000000\" font-family=\"sans-serif\" font-size=\"12\" font-style=\"italic\" lengthAdjust=\"spacingAndGlyphs\" textLength=\"68\" x=\"147.5\" y=\"65.1387\">«part  def»</text><text fill=\"#000000\" font-family=\"sans-serif\" font-size=\"12\" lengthAdjust=\"spacingAndGlyphs\" textLength=\"16\" x=\"173.5\" y=\"79.1074\">B1</text></a><!--MD5=[03104f77b71e2d8d3500c651e6e31181]\n",
       "cluster E13--><a href=\"psysml:3cf8fc76-e05d-49bd-b29f-3b88a47b72de\" target=\"_top\" title=\"psysml:3cf8fc76-e05d-49bd-b29f-3b88a47b72de\" xlink:actuate=\"onRequest\" xlink:href=\"psysml:3cf8fc76-e05d-49bd-b29f-3b88a47b72de\" xlink:show=\"new\" xlink:title=\"psysml:3cf8fc76-e05d-49bd-b29f-3b88a47b72de\" xlink:type=\"simple\"><rect fill=\"#FFFFFF\" height=\"119.36\" id=\"E13\" rx=\"10\" ry=\"10\" style=\"stroke: #383838; stroke-width: 1.5;\" width=\"86\" x=\"139\" y=\"114\"/><rect fill=\"#F8F8F8\" height=\"23.9688\" rx=\"10\" ry=\"10\" style=\"stroke: #F8F8F8; stroke-width: 1.5;\" width=\"86\" x=\"139\" y=\"114\"/><rect fill=\"#F8F8F8\" height=\"10\" style=\"stroke: #F8F8F8; stroke-width: 1.5;\" width=\"86\" x=\"139\" y=\"127.9688\"/><rect fill=\"none\" height=\"119.36\" id=\"E13\" rx=\"10\" ry=\"10\" style=\"stroke: #383838; stroke-width: 1.5;\" width=\"86\" x=\"139\" y=\"114\"/><text fill=\"#000000\" font-family=\"sans-serif\" font-size=\"12\" lengthAdjust=\"spacingAndGlyphs\" textLength=\"8\" x=\"178\" y=\"130.1387\">p</text><line style=\"stroke: #383838; stroke-width: 1.0;\" x1=\"139\" x2=\"225\" y1=\"137.9688\" y2=\"137.9688\"/></a><g id=\"E1.E2\"><a href=\"psysml:859d5a2d-b524-488b-9af4-e0f987adcacf\" target=\"_top\" title=\"psysml:859d5a2d-b524-488b-9af4-e0f987adcacf\" xlink:actuate=\"onRequest\" xlink:href=\"psysml:859d5a2d-b524-488b-9af4-e0f987adcacf\" xlink:show=\"new\" xlink:title=\"psysml:859d5a2d-b524-488b-9af4-e0f987adcacf\" xlink:type=\"simple\"><rect fill=\"#FFFFFF\" height=\"42.9375\" id=\"E2\" style=\"stroke: #383838; stroke-width: 1.5;\" width=\"75\" x=\"31.5\" y=\"92.5\"/><rect fill=\"#F8F8F8\" height=\"37.9375\" style=\"stroke: #383838; stroke-width: 1.5;\" width=\"75\" x=\"31.5\" y=\"92.5\"/><text fill=\"#000000\" font-family=\"sans-serif\" font-size=\"12\" font-style=\"italic\" lengthAdjust=\"spacingAndGlyphs\" textLength=\"68\" x=\"35\" y=\"108.6387\">«port  def»</text><text fill=\"#000000\" font-family=\"sans-serif\" font-size=\"12\" lengthAdjust=\"spacingAndGlyphs\" textLength=\"8\" x=\"65\" y=\"122.6074\">P</text></a></g><text fill=\"#000000\" font-family=\"sans-serif\" font-size=\"14\" lengthAdjust=\"spacingAndGlyphs\" textLength=\"36\" x=\"598\" y=\"92.6982\">p1: P</text><rect fill=\"#383838\" height=\"12\" style=\"stroke: #F8F8F8; stroke-width: 1.5;\" width=\"12\" x=\"612\" y=\"108\"/><text fill=\"#000000\" font-family=\"sans-serif\" font-size=\"14\" lengthAdjust=\"spacingAndGlyphs\" textLength=\"18\" x=\"654\" y=\"92.6982\">p2</text><rect fill=\"#383838\" height=\"12\" style=\"stroke: #F8F8F8; stroke-width: 1.5;\" width=\"12\" x=\"659\" y=\"108\"/><text fill=\"#000000\" font-family=\"sans-serif\" font-size=\"14\" lengthAdjust=\"spacingAndGlyphs\" textLength=\"36\" x=\"441\" y=\"92.6982\">p1: P</text><rect fill=\"#383838\" height=\"12\" style=\"stroke: #F8F8F8; stroke-width: 1.5;\" width=\"12\" x=\"455\" y=\"108\"/><text fill=\"#000000\" font-family=\"sans-serif\" font-size=\"14\" lengthAdjust=\"spacingAndGlyphs\" textLength=\"18\" x=\"497\" y=\"92.6982\">p2</text><rect fill=\"#383838\" height=\"12\" style=\"stroke: #F8F8F8; stroke-width: 1.5;\" width=\"12\" x=\"502\" y=\"108\"/><text fill=\"#000000\" font-family=\"sans-serif\" font-size=\"14\" lengthAdjust=\"spacingAndGlyphs\" textLength=\"36\" x=\"268\" y=\"92.6982\">p1: P</text><rect fill=\"#383838\" height=\"12\" style=\"stroke: #F8F8F8; stroke-width: 1.5;\" width=\"12\" x=\"282\" y=\"108\"/><text fill=\"#000000\" font-family=\"sans-serif\" font-size=\"14\" lengthAdjust=\"spacingAndGlyphs\" textLength=\"18\" x=\"324\" y=\"92.6982\">p2</text><rect fill=\"#383838\" height=\"12\" style=\"stroke: #F8F8F8; stroke-width: 1.5;\" width=\"12\" x=\"329\" y=\"108\"/><text fill=\"#000000\" font-family=\"sans-serif\" font-size=\"14\" lengthAdjust=\"spacingAndGlyphs\" textLength=\"36\" x=\"137\" y=\"252.3551\">p1: P</text><rect fill=\"#383838\" height=\"12\" style=\"stroke: #F8F8F8; stroke-width: 1.5;\" width=\"12\" x=\"151\" y=\"227.36\"/><text fill=\"#000000\" font-family=\"sans-serif\" font-size=\"14\" lengthAdjust=\"spacingAndGlyphs\" textLength=\"18\" x=\"156\" y=\"92.6982\">p2</text><rect fill=\"#383838\" height=\"12\" style=\"stroke: #F8F8F8; stroke-width: 1.5;\" width=\"12\" x=\"161\" y=\"108\"/><!--MD5=[3afbdc645381407e1bc99677323a2513]\n",
       "link E14 to E15--><a href=\"psysml:1f31a0eb-24e7-4abd-8eab-15c525015988\" target=\"_top\" title=\"psysml:1f31a0eb-24e7-4abd-8eab-15c525015988\" xlink:actuate=\"onRequest\" xlink:href=\"psysml:1f31a0eb-24e7-4abd-8eab-15c525015988\" xlink:show=\"new\" xlink:title=\"psysml:1f31a0eb-24e7-4abd-8eab-15c525015988\" xlink:type=\"simple\"><path d=\"M150.86,231.36 C144.72,231.36 136.17,231.36 136.17,231.36 C136.17,231.36 136.17,116.36 136.17,116.36 C136.17,116.36 151.75,116.36 160.76,116.36 \" fill=\"none\" id=\"E14-E15\" style=\"stroke: #383838; stroke-width: 3.0;\"/></a><!--MD5=[3afbdc645381407e1bc99677323a2513]\n",
       "link E14 to E15--><a href=\"psysml:c2fd36d5-55a7-4367-ae55-c3f656adabca\" target=\"_top\" title=\"psysml:c2fd36d5-55a7-4367-ae55-c3f656adabca\" xlink:actuate=\"onRequest\" xlink:href=\"psysml:c2fd36d5-55a7-4367-ae55-c3f656adabca\" xlink:show=\"new\" xlink:title=\"psysml:c2fd36d5-55a7-4367-ae55-c3f656adabca\" xlink:type=\"simple\"><path d=\"M150.79,235.36 C140.57,235.36 121.33,235.36 121.33,235.36 C121.33,235.36 121.33,112.36 121.33,112.36 C121.33,112.36 148.1,112.36 160.65,112.36 \" fill=\"none\" id=\"E14-E15-1\" style=\"stroke: #383838; stroke-width: 3.0;\"/></a><!--MD5=[635c4b8a0741378e14cd6180176e030b]\n",
       "@startuml\r\n",
       "skinparam ranksep 10\r\n",
       "skinparam rectangle {\r\n",
       " backgroundColor<<block>> LightGreen\r\n",
       "}\r\n",
       "skinparam linetype ortho\r\n",
       "skinparam monochrome true\r\n",
       "skinparam classbackgroundcolor white\r\n",
       "skinparam shadowing false\r\n",
       "skinparam wrapWidth 300\r\n",
       "hide circle\r\n",
       "\r\n",
       "package \"ConjugationTest\" as E1  [[psysml:4e179b45-ef84-478c-a2da-b16af7c43fe7 ]]  {\r\n",
       "def \"P\" as E2  <<(T,blue) port  def>> [[psysml:859d5a2d-b524-488b-9af4-e0f987adcacf ]] \r\n",
       "rec def \"B\" as E3  <<(T,blue) part  def>> [[psysml:615e73ac-8544-4e42-b424-8a4747867d0e ]] {\r\n",
       "portin \"p1: P \" as E4  <<(T,blue) port>> [[psysml:37d2c32c-e4e6-4c0b-af75-96cd6556dd4d ]] \r\n",
       "portin \"p2 \" as E5  <<(T,blue) port>> [[psysml:a7d82e4a-e12d-4520-9ae6-c89754eb7506 ]] \r\n",
       "}\r\n",
       "rec def \"A\" as E6  <<(T,blue) connection  def>> [[psysml:5cdadcae-4d33-45cc-84a1-e26eca79ba4d ]] {\r\n",
       "portin \"p1: P \" as E7  <<(T,blue) port>> [[psysml:7fb982ae-cae7-41b0-848a-52bb93191ec3 ]] \r\n",
       "portin \"p2 \" as E8  <<(T,blue) port>> [[psysml:5c21b9df-62cf-4ee8-9145-76efb13de7e4 ]] \r\n",
       "}\r\n",
       "rec def \"I\" as E9  <<(T,blue) interface  def>> [[psysml:2bbab23f-cc40-4354-88cc-493e0b41ffd4 ]] {\r\n",
       "portin \"p1: P \" as E10  <<(T,blue) port>> [[psysml:e0785fbe-faad-409c-b39f-62ae49a7d6e0 ]] \r\n",
       "portin \"p2 \" as E11  <<(T,blue) port>> [[psysml:a18508b4-2f12-4bca-8dd1-291939c34d14 ]] \r\n",
       "}\r\n",
       "rec def \"B1\" as E12  <<(T,blue) part  def>> [[psysml:cd0027e5-9ed9-4216-bffa-1e31fa367fb3 ]] {\r\n",
       "rec usage \"p\" as E13  [[psysml:3cf8fc76-e05d-49bd-b29f-3b88a47b72de ]] {\r\n",
       "portout \"p1: P \" as E14  <<(T,blue) port>> [[psysml:6cf362ef-4bb1-44a5-8272-767638a97c43 ]] \r\n",
       "portin \"p2 \" as E15  <<(T,blue) port>> [[psysml:33e7cbb5-c462-4d34-9030-b3438d816b29 ]] \r\n",
       "}\r\n",
       "}\r\n",
       "}\r\n",
       "E14 -[thickness=3]- E15 [[psysml:1f31a0eb-24e7-4abd-8eab-15c525015988 ]] \r\n",
       "E14 -[thickness=3]- E15 [[psysml:c2fd36d5-55a7-4367-ae55-c3f656adabca ]] \r\n",
       "@enduml\r\n",
       "\n",
       "PlantUML version 1.2020.13(Sat Jun 13 12:26:38 UTC 2020)\n",
       "(EPL source distribution)\n",
       "Java Runtime: OpenJDK Runtime Environment\n",
       "JVM: OpenJDK 64-Bit Server VM\n",
       "Default Encoding: UTF-8\n",
       "Language: en\n",
       "Country: null\n",
       "--></g></svg>"
      ]
     },
     "execution_count": 54,
     "metadata": {},
     "output_type": "execute_result"
    }
   ],
   "source": [
    "%viz --style=\"ORTHOLINE\" --view=\"Interconnection\" \"ConjugationTest\""
   ]
  },
  {
   "cell_type": "code",
   "execution_count": 55,
   "id": "e1a25fe5",
   "metadata": {
    "execution": {
     "iopub.execute_input": "2022-08-19T08:18:15.969254Z",
     "iopub.status.busy": "2022-08-19T08:18:15.968809Z",
     "iopub.status.idle": "2022-08-19T08:18:15.973947Z",
     "shell.execute_reply": "2022-08-19T08:18:15.973573Z"
    }
   },
   "outputs": [
    {
     "data": {
      "image/svg+xml": [
       "<?xml version=\"1.0\" encoding=\"UTF-8\" standalone=\"no\"?><svg xmlns=\"http://www.w3.org/2000/svg\" xmlns:xlink=\"http://www.w3.org/1999/xlink\" contentScriptType=\"application/ecmascript\" contentStyleType=\"text/css\" height=\"12px\" preserveAspectRatio=\"none\" style=\"width:12px;height:12px;\" version=\"1.1\" viewBox=\"0 0 12 12\" width=\"12px\" zoomAndPan=\"magnify\"><defs/><g><!--MD5=[72934c63077099a26744516a776b4749]\n",
       "@startuml\r\n",
       "skinparam ranksep 8\r\n",
       "skinparam linetype ortho\r\n",
       "skinparam monochrome true\r\n",
       "skinparam classbackgroundcolor white\r\n",
       "skinparam shadowing false\r\n",
       "skinparam wrapWidth 300\r\n",
       "hide circle\r\n",
       "\r\n",
       "@enduml\r\n",
       "\n",
       "PlantUML version 1.2020.13(Sat Jun 13 12:26:38 UTC 2020)\n",
       "(EPL source distribution)\n",
       "Java Runtime: OpenJDK Runtime Environment\n",
       "JVM: OpenJDK 64-Bit Server VM\n",
       "Default Encoding: UTF-8\n",
       "Language: en\n",
       "Country: null\n",
       "--></g></svg>"
      ]
     },
     "execution_count": 55,
     "metadata": {},
     "output_type": "execute_result"
    }
   ],
   "source": [
    "%viz --style=\"ORTHOLINE\" --view=\"Action\" \"ConjugationTest\""
   ]
  },
  {
   "cell_type": "code",
   "execution_count": 56,
   "id": "f4917e39",
   "metadata": {
    "execution": {
     "iopub.execute_input": "2022-08-19T08:18:16.023888Z",
     "iopub.status.busy": "2022-08-19T08:18:16.023433Z",
     "iopub.status.idle": "2022-08-19T08:18:16.028304Z",
     "shell.execute_reply": "2022-08-19T08:18:16.027914Z"
    }
   },
   "outputs": [
    {
     "data": {
      "image/svg+xml": [
       "<?xml version=\"1.0\" encoding=\"UTF-8\" standalone=\"no\"?><svg xmlns=\"http://www.w3.org/2000/svg\" xmlns:xlink=\"http://www.w3.org/1999/xlink\" contentScriptType=\"application/ecmascript\" contentStyleType=\"text/css\" height=\"12px\" preserveAspectRatio=\"none\" style=\"width:12px;height:12px;\" version=\"1.1\" viewBox=\"0 0 12 12\" width=\"12px\" zoomAndPan=\"magnify\"><defs/><g><!--MD5=[30fc1de5121c5abddedd55b44417fde8]\n",
       "@startuml\r\n",
       "skinparam roundcorner 20\r\n",
       "skinparam BoxPadding 20\r\n",
       "skinparam SequenceBoxBackgroundColor #white\r\n",
       "skinparam style strictuml\r\n",
       "skinparam maxMessageSize 100\r\n",
       "skinparam linetype ortho\r\n",
       "skinparam monochrome true\r\n",
       "skinparam classbackgroundcolor white\r\n",
       "skinparam shadowing false\r\n",
       "skinparam wrapWidth 300\r\n",
       "hide circle\r\n",
       "\r\n",
       "@enduml\r\n",
       "\n",
       "PlantUML version 1.2020.13(Sat Jun 13 12:26:38 UTC 2020)\n",
       "(EPL source distribution)\n",
       "Java Runtime: OpenJDK Runtime Environment\n",
       "JVM: OpenJDK 64-Bit Server VM\n",
       "Default Encoding: UTF-8\n",
       "Language: en\n",
       "Country: null\n",
       "--></g></svg>"
      ]
     },
     "execution_count": 56,
     "metadata": {},
     "output_type": "execute_result"
    }
   ],
   "source": [
    "%viz --style=\"ORTHOLINE\" --view=\"Sequence\" \"ConjugationTest\""
   ]
  },
  {
   "cell_type": "code",
   "execution_count": 57,
   "id": "41008186",
   "metadata": {
    "execution": {
     "iopub.execute_input": "2022-08-19T08:18:16.078155Z",
     "iopub.status.busy": "2022-08-19T08:18:16.077715Z",
     "iopub.status.idle": "2022-08-19T08:18:16.119519Z",
     "shell.execute_reply": "2022-08-19T08:18:16.119120Z"
    }
   },
   "outputs": [
    {
     "data": {
      "image/svg+xml": [
       "<?xml version=\"1.0\" encoding=\"UTF-8\" standalone=\"no\"?><svg xmlns=\"http://www.w3.org/2000/svg\" xmlns:xlink=\"http://www.w3.org/1999/xlink\" contentScriptType=\"application/ecmascript\" contentStyleType=\"text/css\" height=\"433px\" preserveAspectRatio=\"none\" style=\"width:611px;height:433px;\" version=\"1.1\" viewBox=\"0 0 611 433\" width=\"611px\" zoomAndPan=\"magnify\"><defs/><g><!--MD5=[fbc87193dbaf4d95561dea2c320d4a47]\n",
       "cluster E1--><a href=\"psysml:4e179b45-ef84-478c-a2da-b16af7c43fe7\" target=\"_top\" title=\"psysml:4e179b45-ef84-478c-a2da-b16af7c43fe7\" xlink:actuate=\"onRequest\" xlink:href=\"psysml:4e179b45-ef84-478c-a2da-b16af7c43fe7\" xlink:show=\"new\" xlink:title=\"psysml:4e179b45-ef84-478c-a2da-b16af7c43fe7\" xlink:type=\"simple\"><polygon fill=\"#FFFFFF\" points=\"16,6,136,6,143,28.2969,589,28.2969,589,421,16,421,16,6\" style=\"stroke: #000000; stroke-width: 1.5;\"/><line style=\"stroke: #000000; stroke-width: 1.5;\" x1=\"16\" x2=\"143\" y1=\"28.2969\" y2=\"28.2969\"/><text fill=\"#000000\" font-family=\"sans-serif\" font-size=\"14\" font-weight=\"bold\" lengthAdjust=\"spacingAndGlyphs\" textLength=\"114\" x=\"20\" y=\"20.9951\">ConjugationTest</text></a><!--MD5=[b4997ac47864f28c2f74865a473b2911]\n",
       "class E2--><a href=\"psysml:859d5a2d-b524-488b-9af4-e0f987adcacf\" target=\"_top\" title=\"psysml:859d5a2d-b524-488b-9af4-e0f987adcacf\" xlink:actuate=\"onRequest\" xlink:href=\"psysml:859d5a2d-b524-488b-9af4-e0f987adcacf\" xlink:show=\"new\" xlink:title=\"psysml:859d5a2d-b524-488b-9af4-e0f987adcacf\" xlink:type=\"simple\"><rect fill=\"#FFFFFF\" height=\"45.9375\" id=\"E2\" style=\"stroke: #383838; stroke-width: 1.5;\" width=\"70\" x=\"216\" y=\"359\"/><text fill=\"#000000\" font-family=\"sans-serif\" font-size=\"12\" font-style=\"italic\" lengthAdjust=\"spacingAndGlyphs\" textLength=\"68\" x=\"217\" y=\"375.1387\">«port  def»</text><text fill=\"#000000\" font-family=\"sans-serif\" font-size=\"12\" lengthAdjust=\"spacingAndGlyphs\" textLength=\"8\" x=\"247\" y=\"389.1074\">P</text><line style=\"stroke: #383838; stroke-width: 1.5;\" x1=\"217\" x2=\"285\" y1=\"396.9375\" y2=\"396.9375\"/></a><!--MD5=[09b614a08d8cba4a07c9adeb5e0fee81]\n",
       "class E3--><a href=\"psysml:615e73ac-8544-4e42-b424-8a4747867d0e\" target=\"_top\" title=\"psysml:615e73ac-8544-4e42-b424-8a4747867d0e\" xlink:actuate=\"onRequest\" xlink:href=\"psysml:615e73ac-8544-4e42-b424-8a4747867d0e\" xlink:show=\"new\" xlink:title=\"psysml:615e73ac-8544-4e42-b424-8a4747867d0e\" xlink:type=\"simple\"><rect fill=\"#FFFFFF\" height=\"45.9375\" id=\"E3\" style=\"stroke: #383838; stroke-width: 1.5;\" width=\"70\" x=\"471\" y=\"147\"/><text fill=\"#000000\" font-family=\"sans-serif\" font-size=\"12\" font-style=\"italic\" lengthAdjust=\"spacingAndGlyphs\" textLength=\"68\" x=\"472\" y=\"163.1387\">«part  def»</text><text fill=\"#000000\" font-family=\"sans-serif\" font-size=\"12\" lengthAdjust=\"spacingAndGlyphs\" textLength=\"8\" x=\"502\" y=\"177.1074\">B</text><line style=\"stroke: #383838; stroke-width: 1.5;\" x1=\"472\" x2=\"540\" y1=\"184.9375\" y2=\"184.9375\"/></a><!--MD5=[ebbe1d658d1005bcc118a6aa81145e00]\n",
       "class E4--><a href=\"psysml:37d2c32c-e4e6-4c0b-af75-96cd6556dd4d\" target=\"_top\" title=\"psysml:37d2c32c-e4e6-4c0b-af75-96cd6556dd4d\" xlink:actuate=\"onRequest\" xlink:href=\"psysml:37d2c32c-e4e6-4c0b-af75-96cd6556dd4d\" xlink:show=\"new\" xlink:title=\"psysml:37d2c32c-e4e6-4c0b-af75-96cd6556dd4d\" xlink:type=\"simple\"><rect fill=\"#FFFFFF\" height=\"45.9375\" id=\"E4\" rx=\"10\" ry=\"10\" style=\"stroke: #383838; stroke-width: 1.5;\" width=\"42\" x=\"454\" y=\"253\"/><text fill=\"#000000\" font-family=\"sans-serif\" font-size=\"12\" font-style=\"italic\" lengthAdjust=\"spacingAndGlyphs\" textLength=\"40\" x=\"455\" y=\"269.1387\">«port»</text><text fill=\"#000000\" font-family=\"sans-serif\" font-size=\"12\" lengthAdjust=\"spacingAndGlyphs\" textLength=\"32\" x=\"457\" y=\"283.1074\">p1: P</text><line style=\"stroke: #383838; stroke-width: 1.5;\" x1=\"455\" x2=\"495\" y1=\"290.9375\" y2=\"290.9375\"/></a><!--MD5=[270fce915f116d4de14055a7c1d9a0f3]\n",
       "class E5--><a href=\"psysml:a7d82e4a-e12d-4520-9ae6-c89754eb7506\" target=\"_top\" title=\"psysml:a7d82e4a-e12d-4520-9ae6-c89754eb7506\" xlink:actuate=\"onRequest\" xlink:href=\"psysml:a7d82e4a-e12d-4520-9ae6-c89754eb7506\" xlink:show=\"new\" xlink:title=\"psysml:a7d82e4a-e12d-4520-9ae6-c89754eb7506\" xlink:type=\"simple\"><rect fill=\"#FFFFFF\" height=\"45.9375\" id=\"E5\" rx=\"10\" ry=\"10\" style=\"stroke: #383838; stroke-width: 1.5;\" width=\"42\" x=\"531\" y=\"253\"/><text fill=\"#000000\" font-family=\"sans-serif\" font-size=\"12\" font-style=\"italic\" lengthAdjust=\"spacingAndGlyphs\" textLength=\"40\" x=\"532\" y=\"269.1387\">«port»</text><text fill=\"#000000\" font-family=\"sans-serif\" font-size=\"12\" lengthAdjust=\"spacingAndGlyphs\" textLength=\"16\" x=\"542\" y=\"283.1074\">p2</text><line style=\"stroke: #383838; stroke-width: 1.5;\" x1=\"532\" x2=\"572\" y1=\"290.9375\" y2=\"290.9375\"/></a><!--MD5=[60a26617385b1d2d0262a64233df1f8d]\n",
       "class E6--><a href=\"psysml:5cdadcae-4d33-45cc-84a1-e26eca79ba4d\" target=\"_top\" title=\"psysml:5cdadcae-4d33-45cc-84a1-e26eca79ba4d\" xlink:actuate=\"onRequest\" xlink:href=\"psysml:5cdadcae-4d33-45cc-84a1-e26eca79ba4d\" xlink:show=\"new\" xlink:title=\"psysml:5cdadcae-4d33-45cc-84a1-e26eca79ba4d\" xlink:type=\"simple\"><rect fill=\"#FFFFFF\" height=\"45.9375\" id=\"E6\" style=\"stroke: #383838; stroke-width: 1.5;\" width=\"114\" x=\"274\" y=\"147\"/><text fill=\"#000000\" font-family=\"sans-serif\" font-size=\"12\" font-style=\"italic\" lengthAdjust=\"spacingAndGlyphs\" textLength=\"112\" x=\"275\" y=\"163.1387\">«connection  def»</text><text fill=\"#000000\" font-family=\"sans-serif\" font-size=\"12\" lengthAdjust=\"spacingAndGlyphs\" textLength=\"8\" x=\"327\" y=\"177.1074\">A</text><line style=\"stroke: #383838; stroke-width: 1.5;\" x1=\"275\" x2=\"387\" y1=\"184.9375\" y2=\"184.9375\"/></a><!--MD5=[2156ba9850f5573cc1fc38a6a4b2f02b]\n",
       "class E7--><a href=\"psysml:7fb982ae-cae7-41b0-848a-52bb93191ec3\" target=\"_top\" title=\"psysml:7fb982ae-cae7-41b0-848a-52bb93191ec3\" xlink:actuate=\"onRequest\" xlink:href=\"psysml:7fb982ae-cae7-41b0-848a-52bb93191ec3\" xlink:show=\"new\" xlink:title=\"psysml:7fb982ae-cae7-41b0-848a-52bb93191ec3\" xlink:type=\"simple\"><rect fill=\"#FFFFFF\" height=\"45.9375\" id=\"E7\" rx=\"10\" ry=\"10\" style=\"stroke: #383838; stroke-width: 1.5;\" width=\"42\" x=\"300\" y=\"253\"/><text fill=\"#000000\" font-family=\"sans-serif\" font-size=\"12\" font-style=\"italic\" lengthAdjust=\"spacingAndGlyphs\" textLength=\"40\" x=\"301\" y=\"269.1387\">«port»</text><text fill=\"#000000\" font-family=\"sans-serif\" font-size=\"12\" lengthAdjust=\"spacingAndGlyphs\" textLength=\"32\" x=\"303\" y=\"283.1074\">p1: P</text><line style=\"stroke: #383838; stroke-width: 1.5;\" x1=\"301\" x2=\"341\" y1=\"290.9375\" y2=\"290.9375\"/></a><!--MD5=[b9389687b975829384b498ac4b7476b2]\n",
       "class E8--><a href=\"psysml:5c21b9df-62cf-4ee8-9145-76efb13de7e4\" target=\"_top\" title=\"psysml:5c21b9df-62cf-4ee8-9145-76efb13de7e4\" xlink:actuate=\"onRequest\" xlink:href=\"psysml:5c21b9df-62cf-4ee8-9145-76efb13de7e4\" xlink:show=\"new\" xlink:title=\"psysml:5c21b9df-62cf-4ee8-9145-76efb13de7e4\" xlink:type=\"simple\"><rect fill=\"#FFFFFF\" height=\"45.9375\" id=\"E8\" rx=\"10\" ry=\"10\" style=\"stroke: #383838; stroke-width: 1.5;\" width=\"42\" x=\"377\" y=\"253\"/><text fill=\"#000000\" font-family=\"sans-serif\" font-size=\"12\" font-style=\"italic\" lengthAdjust=\"spacingAndGlyphs\" textLength=\"40\" x=\"378\" y=\"269.1387\">«port»</text><text fill=\"#000000\" font-family=\"sans-serif\" font-size=\"12\" lengthAdjust=\"spacingAndGlyphs\" textLength=\"16\" x=\"388\" y=\"283.1074\">p2</text><line style=\"stroke: #383838; stroke-width: 1.5;\" x1=\"378\" x2=\"418\" y1=\"290.9375\" y2=\"290.9375\"/></a><!--MD5=[fd4143e9d270a159db93a4ea2a975926]\n",
       "class E9--><a href=\"psysml:2bbab23f-cc40-4354-88cc-493e0b41ffd4\" target=\"_top\" title=\"psysml:2bbab23f-cc40-4354-88cc-493e0b41ffd4\" xlink:actuate=\"onRequest\" xlink:href=\"psysml:2bbab23f-cc40-4354-88cc-493e0b41ffd4\" xlink:show=\"new\" xlink:title=\"psysml:2bbab23f-cc40-4354-88cc-493e0b41ffd4\" xlink:type=\"simple\"><rect fill=\"#FFFFFF\" height=\"45.9375\" id=\"E9\" style=\"stroke: #383838; stroke-width: 1.5;\" width=\"100\" x=\"138\" y=\"147\"/><text fill=\"#000000\" font-family=\"sans-serif\" font-size=\"12\" font-style=\"italic\" lengthAdjust=\"spacingAndGlyphs\" textLength=\"98\" x=\"139\" y=\"163.1387\">«interface  def»</text><text fill=\"#000000\" font-family=\"sans-serif\" font-size=\"12\" lengthAdjust=\"spacingAndGlyphs\" textLength=\"3\" x=\"186.5\" y=\"177.1074\">I</text><line style=\"stroke: #383838; stroke-width: 1.5;\" x1=\"139\" x2=\"237\" y1=\"184.9375\" y2=\"184.9375\"/></a><!--MD5=[96f4274e9e20536e775497830990834d]\n",
       "class E10--><a href=\"psysml:e0785fbe-faad-409c-b39f-62ae49a7d6e0\" target=\"_top\" title=\"psysml:e0785fbe-faad-409c-b39f-62ae49a7d6e0\" xlink:actuate=\"onRequest\" xlink:href=\"psysml:e0785fbe-faad-409c-b39f-62ae49a7d6e0\" xlink:show=\"new\" xlink:title=\"psysml:e0785fbe-faad-409c-b39f-62ae49a7d6e0\" xlink:type=\"simple\"><rect fill=\"#FFFFFF\" height=\"45.9375\" id=\"E10\" rx=\"10\" ry=\"10\" style=\"stroke: #383838; stroke-width: 1.5;\" width=\"42\" x=\"146\" y=\"253\"/><text fill=\"#000000\" font-family=\"sans-serif\" font-size=\"12\" font-style=\"italic\" lengthAdjust=\"spacingAndGlyphs\" textLength=\"40\" x=\"147\" y=\"269.1387\">«port»</text><text fill=\"#000000\" font-family=\"sans-serif\" font-size=\"12\" lengthAdjust=\"spacingAndGlyphs\" textLength=\"32\" x=\"149\" y=\"283.1074\">p1: P</text><line style=\"stroke: #383838; stroke-width: 1.5;\" x1=\"147\" x2=\"187\" y1=\"290.9375\" y2=\"290.9375\"/></a><!--MD5=[1dd1bfd58a279cf63c5f349dbc8fc6a1]\n",
       "class E11--><a href=\"psysml:a18508b4-2f12-4bca-8dd1-291939c34d14\" target=\"_top\" title=\"psysml:a18508b4-2f12-4bca-8dd1-291939c34d14\" xlink:actuate=\"onRequest\" xlink:href=\"psysml:a18508b4-2f12-4bca-8dd1-291939c34d14\" xlink:show=\"new\" xlink:title=\"psysml:a18508b4-2f12-4bca-8dd1-291939c34d14\" xlink:type=\"simple\"><rect fill=\"#FFFFFF\" height=\"45.9375\" id=\"E11\" rx=\"10\" ry=\"10\" style=\"stroke: #383838; stroke-width: 1.5;\" width=\"42\" x=\"223\" y=\"253\"/><text fill=\"#000000\" font-family=\"sans-serif\" font-size=\"12\" font-style=\"italic\" lengthAdjust=\"spacingAndGlyphs\" textLength=\"40\" x=\"224\" y=\"269.1387\">«port»</text><text fill=\"#000000\" font-family=\"sans-serif\" font-size=\"12\" lengthAdjust=\"spacingAndGlyphs\" textLength=\"16\" x=\"234\" y=\"283.1074\">p2</text><line style=\"stroke: #383838; stroke-width: 1.5;\" x1=\"224\" x2=\"264\" y1=\"290.9375\" y2=\"290.9375\"/></a><!--MD5=[49a0ec8f00dab7302a31f22d0f0fe584]\n",
       "class E12--><a href=\"psysml:cd0027e5-9ed9-4216-bffa-1e31fa367fb3\" target=\"_top\" title=\"psysml:cd0027e5-9ed9-4216-bffa-1e31fa367fb3\" xlink:actuate=\"onRequest\" xlink:href=\"psysml:cd0027e5-9ed9-4216-bffa-1e31fa367fb3\" xlink:show=\"new\" xlink:title=\"psysml:cd0027e5-9ed9-4216-bffa-1e31fa367fb3\" xlink:type=\"simple\"><rect fill=\"#FFFFFF\" height=\"45.9375\" id=\"E12\" style=\"stroke: #383838; stroke-width: 1.5;\" width=\"70\" x=\"44\" y=\"41\"/><text fill=\"#000000\" font-family=\"sans-serif\" font-size=\"12\" font-style=\"italic\" lengthAdjust=\"spacingAndGlyphs\" textLength=\"68\" x=\"45\" y=\"57.1387\">«part  def»</text><text fill=\"#000000\" font-family=\"sans-serif\" font-size=\"12\" lengthAdjust=\"spacingAndGlyphs\" textLength=\"16\" x=\"71\" y=\"71.1074\">B1</text><line style=\"stroke: #383838; stroke-width: 1.5;\" x1=\"45\" x2=\"113\" y1=\"78.9375\" y2=\"78.9375\"/></a><!--MD5=[ee3c913d1a06f366521f9ef512b67efe]\n",
       "class E13--><a href=\"psysml:3cf8fc76-e05d-49bd-b29f-3b88a47b72de\" target=\"_top\" title=\"psysml:3cf8fc76-e05d-49bd-b29f-3b88a47b72de\" xlink:actuate=\"onRequest\" xlink:href=\"psysml:3cf8fc76-e05d-49bd-b29f-3b88a47b72de\" xlink:show=\"new\" xlink:title=\"psysml:3cf8fc76-e05d-49bd-b29f-3b88a47b72de\" xlink:type=\"simple\"><rect fill=\"#FFFFFF\" height=\"45.9375\" id=\"E13\" rx=\"10\" ry=\"10\" style=\"stroke: #383838; stroke-width: 1.5;\" width=\"42\" x=\"58\" y=\"147\"/><text fill=\"#000000\" font-family=\"sans-serif\" font-size=\"12\" font-style=\"italic\" lengthAdjust=\"spacingAndGlyphs\" textLength=\"40\" x=\"59\" y=\"163.1387\">«part»</text><text fill=\"#000000\" font-family=\"sans-serif\" font-size=\"12\" lengthAdjust=\"spacingAndGlyphs\" textLength=\"8\" x=\"73\" y=\"177.1074\">p</text><line style=\"stroke: #383838; stroke-width: 1.5;\" x1=\"59\" x2=\"99\" y1=\"184.9375\" y2=\"184.9375\"/></a><!--MD5=[bee11217b2f71d958a27249dc326068c]\n",
       "class E14--><a href=\"psysml:6cf362ef-4bb1-44a5-8272-767638a97c43\" target=\"_top\" title=\"psysml:6cf362ef-4bb1-44a5-8272-767638a97c43\" xlink:actuate=\"onRequest\" xlink:href=\"psysml:6cf362ef-4bb1-44a5-8272-767638a97c43\" xlink:show=\"new\" xlink:title=\"psysml:6cf362ef-4bb1-44a5-8272-767638a97c43\" xlink:type=\"simple\"><rect fill=\"#FFFFFF\" height=\"45.9375\" id=\"E14\" rx=\"10\" ry=\"10\" style=\"stroke: #383838; stroke-width: 1.5;\" width=\"42\" x=\"69\" y=\"253\"/><text fill=\"#000000\" font-family=\"sans-serif\" font-size=\"12\" font-style=\"italic\" lengthAdjust=\"spacingAndGlyphs\" textLength=\"40\" x=\"70\" y=\"269.1387\">«port»</text><text fill=\"#000000\" font-family=\"sans-serif\" font-size=\"12\" lengthAdjust=\"spacingAndGlyphs\" textLength=\"32\" x=\"72\" y=\"283.1074\">p1: P</text><line style=\"stroke: #383838; stroke-width: 1.5;\" x1=\"70\" x2=\"110\" y1=\"290.9375\" y2=\"290.9375\"/></a><!--MD5=[0c48fb7552dae8cbbef69381101a84c8]\n",
       "class E15--><a href=\"psysml:33e7cbb5-c462-4d34-9030-b3438d816b29\" target=\"_top\" title=\"psysml:33e7cbb5-c462-4d34-9030-b3438d816b29\" xlink:actuate=\"onRequest\" xlink:href=\"psysml:33e7cbb5-c462-4d34-9030-b3438d816b29\" xlink:show=\"new\" xlink:title=\"psysml:33e7cbb5-c462-4d34-9030-b3438d816b29\" xlink:type=\"simple\"><rect fill=\"#FFFFFF\" height=\"45.9375\" id=\"E15\" rx=\"10\" ry=\"10\" style=\"stroke: #383838; stroke-width: 1.5;\" width=\"42\" x=\"69\" y=\"359\"/><text fill=\"#000000\" font-family=\"sans-serif\" font-size=\"12\" font-style=\"italic\" lengthAdjust=\"spacingAndGlyphs\" textLength=\"40\" x=\"70\" y=\"375.1387\">«port»</text><text fill=\"#000000\" font-family=\"sans-serif\" font-size=\"12\" lengthAdjust=\"spacingAndGlyphs\" textLength=\"16\" x=\"80\" y=\"389.1074\">p2</text><line style=\"stroke: #383838; stroke-width: 1.5;\" x1=\"70\" x2=\"110\" y1=\"396.9375\" y2=\"396.9375\"/></a><!--MD5=[4672eba38e49728da53d11aeb285b987]\n",
       "reverse link E3 to E4--><a href=\"psysml:e09aa0cf-99c0-4ed5-833c-e6cdd9353c0b\" target=\"_top\" title=\"psysml:e09aa0cf-99c0-4ed5-833c-e6cdd9353c0b\" xlink:actuate=\"onRequest\" xlink:href=\"psysml:e09aa0cf-99c0-4ed5-833c-e6cdd9353c0b\" xlink:show=\"new\" xlink:title=\"psysml:e09aa0cf-99c0-4ed5-833c-e6cdd9353c0b\" xlink:type=\"simple\"><path d=\"M483.5,206 C483.5,206 483.5,252.68 483.5,252.68 \" fill=\"none\" id=\"E3&lt;-E4\" style=\"stroke: #383838; stroke-width: 1.0;\"/><polygon fill=\"#FFFFFF\" points=\"483.5,193,479.5,199,483.5,205,487.5,199,483.5,193\" style=\"stroke: #383838; stroke-width: 1.0;\"/><text fill=\"#000000\" font-family=\"sans-serif\" font-size=\"13\" lengthAdjust=\"spacingAndGlyphs\" textLength=\"8\" x=\"476.6531\" y=\"241.8743\">1</text></a><!--MD5=[185131fc0dcab0a4505a2ebe144e961b]\n",
       "link E4 to E2--><a href=\"psysml:d96439d0-54ae-42c8-b560-5f0ede470e61\" target=\"_top\" title=\"psysml:d96439d0-54ae-42c8-b560-5f0ede470e61\" xlink:actuate=\"onRequest\" xlink:href=\"psysml:d96439d0-54ae-42c8-b560-5f0ede470e61\" xlink:show=\"new\" xlink:title=\"psysml:d96439d0-54ae-42c8-b560-5f0ede470e61\" xlink:type=\"simple\"><path d=\"M475,299 C475,330.18 475,382 475,382 C475,382 306.49,382 306.49,382 \" fill=\"none\" id=\"E4-&gt;E2\" style=\"stroke: #383838; stroke-width: 1.0;\"/><polygon fill=\"#FFFFFF\" points=\"286.49,382,305.49,375,305.49,389,286.49,382\" style=\"stroke: #383838; stroke-width: 1.0;\"/><ellipse cx=\"311.19\" cy=\"377\" fill=\"#383838\" rx=\"2\" ry=\"2\" style=\"stroke: #383838; stroke-width: 1.0;\"/><ellipse cx=\"311.19\" cy=\"387\" fill=\"#383838\" rx=\"2\" ry=\"2\" style=\"stroke: #383838; stroke-width: 1.0;\"/></a><!--MD5=[191cde3d490a3f6d7bb551fe3ddca469]\n",
       "reverse link E3 to E5--><a href=\"psysml:880a21a1-46d7-4f3d-9543-241b40e3ab4a\" target=\"_top\" title=\"psysml:880a21a1-46d7-4f3d-9543-241b40e3ab4a\" xlink:actuate=\"onRequest\" xlink:href=\"psysml:880a21a1-46d7-4f3d-9543-241b40e3ab4a\" xlink:show=\"new\" xlink:title=\"psysml:880a21a1-46d7-4f3d-9543-241b40e3ab4a\" xlink:type=\"simple\"><path d=\"M536,206 C536,206 536,252.68 536,252.68 \" fill=\"none\" id=\"E3&lt;-E5\" style=\"stroke: #383838; stroke-width: 1.0;\"/><polygon fill=\"#FFFFFF\" points=\"536,193,532,199,536,205,540,199,536,193\" style=\"stroke: #383838; stroke-width: 1.0;\"/><text fill=\"#000000\" font-family=\"sans-serif\" font-size=\"13\" lengthAdjust=\"spacingAndGlyphs\" textLength=\"8\" x=\"522.875\" y=\"241.8743\">1</text></a><!--MD5=[3f50a3473f1dfb74d3f76443e03635af]\n",
       "reverse link E6 to E7--><a href=\"psysml:98390341-db8e-40b6-aced-fec2311e0a9d\" target=\"_top\" title=\"psysml:98390341-db8e-40b6-aced-fec2311e0a9d\" xlink:actuate=\"onRequest\" xlink:href=\"psysml:98390341-db8e-40b6-aced-fec2311e0a9d\" xlink:show=\"new\" xlink:title=\"psysml:98390341-db8e-40b6-aced-fec2311e0a9d\" xlink:type=\"simple\"><path d=\"M321,206 C321,206 321,252.68 321,252.68 \" fill=\"none\" id=\"E6&lt;-E7\" style=\"stroke: #383838; stroke-width: 1.0;\"/><polygon fill=\"#FFFFFF\" points=\"321,193,317,199,321,205,325,199,321,193\" style=\"stroke: #383838; stroke-width: 1.0;\"/><text fill=\"#000000\" font-family=\"sans-serif\" font-size=\"13\" lengthAdjust=\"spacingAndGlyphs\" textLength=\"8\" x=\"311.975\" y=\"241.8743\">1</text></a><!--MD5=[583832df87f4419a098336a29a52fa00]\n",
       "link E7 to E2--><a href=\"psysml:6f9217eb-859f-4957-bc31-6c1306f83367\" target=\"_top\" title=\"psysml:6f9217eb-859f-4957-bc31-6c1306f83367\" xlink:actuate=\"onRequest\" xlink:href=\"psysml:6f9217eb-859f-4957-bc31-6c1306f83367\" xlink:show=\"new\" xlink:title=\"psysml:6f9217eb-859f-4957-bc31-6c1306f83367\" xlink:type=\"simple\"><path d=\"M299.54,276 C289.62,276 280,276 280,276 C280,276 280,339 280,339 \" fill=\"none\" id=\"E7-&gt;E2\" style=\"stroke: #383838; stroke-width: 1.0;\"/><polygon fill=\"#FFFFFF\" points=\"280,359,273,340,287,340,280,359\" style=\"stroke: #383838; stroke-width: 1.0;\"/><ellipse cx=\"275\" cy=\"334.3\" fill=\"#383838\" rx=\"2\" ry=\"2\" style=\"stroke: #383838; stroke-width: 1.0;\"/><ellipse cx=\"285\" cy=\"334.3\" fill=\"#383838\" rx=\"2\" ry=\"2\" style=\"stroke: #383838; stroke-width: 1.0;\"/></a><!--MD5=[f4cf0736d43fd73c4ef68817c49d37d5]\n",
       "reverse link E6 to E8--><a href=\"psysml:15a7c7be-761e-4e1c-a126-babbedfba5ca\" target=\"_top\" title=\"psysml:15a7c7be-761e-4e1c-a126-babbedfba5ca\" xlink:actuate=\"onRequest\" xlink:href=\"psysml:15a7c7be-761e-4e1c-a126-babbedfba5ca\" xlink:show=\"new\" xlink:title=\"psysml:15a7c7be-761e-4e1c-a126-babbedfba5ca\" xlink:type=\"simple\"><path d=\"M382.5,206 C382.5,206 382.5,252.68 382.5,252.68 \" fill=\"none\" id=\"E6&lt;-E8\" style=\"stroke: #383838; stroke-width: 1.0;\"/><polygon fill=\"#FFFFFF\" points=\"382.5,193,378.5,199,382.5,205,386.5,199,382.5,193\" style=\"stroke: #383838; stroke-width: 1.0;\"/><text fill=\"#000000\" font-family=\"sans-serif\" font-size=\"13\" lengthAdjust=\"spacingAndGlyphs\" textLength=\"8\" x=\"369.5031\" y=\"241.8743\">1</text></a><!--MD5=[23ac544a70576c3e717098101004234c]\n",
       "reverse link E9 to E10--><a href=\"psysml:a15de342-1742-4b99-9b86-ed8c6fb30ab8\" target=\"_top\" title=\"psysml:a15de342-1742-4b99-9b86-ed8c6fb30ab8\" xlink:actuate=\"onRequest\" xlink:href=\"psysml:a15de342-1742-4b99-9b86-ed8c6fb30ab8\" xlink:show=\"new\" xlink:title=\"psysml:a15de342-1742-4b99-9b86-ed8c6fb30ab8\" xlink:type=\"simple\"><path d=\"M167,206 C167,206 167,252.68 167,252.68 \" fill=\"none\" id=\"E9&lt;-E10\" style=\"stroke: #383838; stroke-width: 1.0;\"/><polygon fill=\"#FFFFFF\" points=\"167,193,163,199,167,205,171,199,167,193\" style=\"stroke: #383838; stroke-width: 1.0;\"/><text fill=\"#000000\" font-family=\"sans-serif\" font-size=\"13\" lengthAdjust=\"spacingAndGlyphs\" textLength=\"8\" x=\"157.975\" y=\"241.8743\">1</text></a><!--MD5=[0f36bececdf0dff6e600d6f64214b0f1]\n",
       "link E10 to E2--><a href=\"psysml:81b1dfc1-849b-47a4-a859-9ae7a728ef15\" target=\"_top\" title=\"psysml:81b1dfc1-849b-47a4-a859-9ae7a728ef15\" xlink:actuate=\"onRequest\" xlink:href=\"psysml:81b1dfc1-849b-47a4-a859-9ae7a728ef15\" xlink:show=\"new\" xlink:title=\"psysml:81b1dfc1-849b-47a4-a859-9ae7a728ef15\" xlink:type=\"simple\"><path d=\"M188.21,276 C203.21,276 220.67,276 220.67,276 C220.67,276 220.67,339 220.67,339 \" fill=\"none\" id=\"E10-&gt;E2\" style=\"stroke: #383838; stroke-width: 1.0;\"/><polygon fill=\"#FFFFFF\" points=\"220.67,359,213.67,340,227.67,340,220.67,359\" style=\"stroke: #383838; stroke-width: 1.0;\"/><ellipse cx=\"215.67\" cy=\"334.3\" fill=\"#383838\" rx=\"2\" ry=\"2\" style=\"stroke: #383838; stroke-width: 1.0;\"/><ellipse cx=\"225.67\" cy=\"334.3\" fill=\"#383838\" rx=\"2\" ry=\"2\" style=\"stroke: #383838; stroke-width: 1.0;\"/></a><!--MD5=[1fc04a95fd77ad5ce46c1a3027516051]\n",
       "reverse link E9 to E11--><a href=\"psysml:fe2242fc-88cc-4430-bc2f-98e79ba2cc70\" target=\"_top\" title=\"psysml:fe2242fc-88cc-4430-bc2f-98e79ba2cc70\" xlink:actuate=\"onRequest\" xlink:href=\"psysml:fe2242fc-88cc-4430-bc2f-98e79ba2cc70\" xlink:show=\"new\" xlink:title=\"psysml:fe2242fc-88cc-4430-bc2f-98e79ba2cc70\" xlink:type=\"simple\"><path d=\"M230.5,206 C230.5,206 230.5,252.68 230.5,252.68 \" fill=\"none\" id=\"E9&lt;-E11\" style=\"stroke: #383838; stroke-width: 1.0;\"/><polygon fill=\"#FFFFFF\" points=\"230.5,193,226.5,199,230.5,205,234.5,199,230.5,193\" style=\"stroke: #383838; stroke-width: 1.0;\"/><text fill=\"#000000\" font-family=\"sans-serif\" font-size=\"13\" lengthAdjust=\"spacingAndGlyphs\" textLength=\"8\" x=\"218.0156\" y=\"241.8743\">1</text></a><!--MD5=[062ed86c389d1a88f61c6380d0491e17]\n",
       "reverse link E12 to E13--><a href=\"psysml:0c56cab0-046e-4827-a921-af226384c943\" target=\"_top\" title=\"psysml:0c56cab0-046e-4827-a921-af226384c943\" xlink:actuate=\"onRequest\" xlink:href=\"psysml:0c56cab0-046e-4827-a921-af226384c943\" xlink:show=\"new\" xlink:title=\"psysml:0c56cab0-046e-4827-a921-af226384c943\" xlink:type=\"simple\"><path d=\"M79,100 C79,100 79,146.68 79,146.68 \" fill=\"none\" id=\"E12&lt;-E13\" style=\"stroke: #383838; stroke-width: 1.0;\"/><polygon fill=\"#FFFFFF\" points=\"79,87,75,93,79,99,83,93,79,87\" style=\"stroke: #383838; stroke-width: 1.0;\"/><text fill=\"#000000\" font-family=\"sans-serif\" font-size=\"13\" lengthAdjust=\"spacingAndGlyphs\" textLength=\"8\" x=\"69.975\" y=\"135.8743\">1</text></a><!--MD5=[01db00f33b28669d6d9febea71002831]\n",
       "reverse link E13 to E14--><a href=\"psysml:12334834-5f3e-4b20-9f0b-aad671391bfa\" target=\"_top\" title=\"psysml:12334834-5f3e-4b20-9f0b-aad671391bfa\" xlink:actuate=\"onRequest\" xlink:href=\"psysml:12334834-5f3e-4b20-9f0b-aad671391bfa\" xlink:show=\"new\" xlink:title=\"psysml:12334834-5f3e-4b20-9f0b-aad671391bfa\" xlink:type=\"simple\"><path d=\"M84.5,206 C84.5,206 84.5,252.68 84.5,252.68 \" fill=\"none\" id=\"E13&lt;-E14\" style=\"stroke: #383838; stroke-width: 1.0;\"/><polygon fill=\"#FFFFFF\" points=\"84.5,193,80.5,199,84.5,205,88.5,199,84.5,193\" style=\"stroke: #383838; stroke-width: 1.0;\"/><text fill=\"#000000\" font-family=\"sans-serif\" font-size=\"13\" lengthAdjust=\"spacingAndGlyphs\" textLength=\"8\" x=\"74.0656\" y=\"241.8743\">1</text></a><!--MD5=[e5566ac99d7714697a7fbc17f6b550fe]\n",
       "link E14 to E2--><a href=\"psysml:f15866fc-26c5-4fac-ba02-f8f796eed5e8\" target=\"_top\" title=\"psysml:f15866fc-26c5-4fac-ba02-f8f796eed5e8\" xlink:actuate=\"onRequest\" xlink:href=\"psysml:f15866fc-26c5-4fac-ba02-f8f796eed5e8\" xlink:show=\"new\" xlink:title=\"psysml:f15866fc-26c5-4fac-ba02-f8f796eed5e8\" xlink:type=\"simple\"><path d=\"M100.5,299.09 C100.5,313.37 100.5,329 100.5,329 C100.5,329 218.33,329 218.33,329 C218.33,329 218.33,338.91 218.33,338.91 \" fill=\"none\" id=\"E14-&gt;E2\" style=\"stroke: #383838; stroke-width: 1.0;\"/><polygon fill=\"#FFFFFF\" points=\"218.33,358.91,211.33,339.91,225.33,339.91,218.33,358.91\" style=\"stroke: #383838; stroke-width: 1.0;\"/><ellipse cx=\"213.33\" cy=\"334.21\" fill=\"#383838\" rx=\"2\" ry=\"2\" style=\"stroke: #383838; stroke-width: 1.0;\"/><ellipse cx=\"223.33\" cy=\"334.21\" fill=\"#383838\" rx=\"2\" ry=\"2\" style=\"stroke: #383838; stroke-width: 1.0;\"/></a><!--MD5=[e9a5e828c71fd2209a11a152f562d491]\n",
       "reverse link E13 to E15--><a href=\"psysml:ce878baa-f80f-4009-adda-6088e19c872e\" target=\"_top\" title=\"psysml:ce878baa-f80f-4009-adda-6088e19c872e\" xlink:actuate=\"onRequest\" xlink:href=\"psysml:ce878baa-f80f-4009-adda-6088e19c872e\" xlink:show=\"new\" xlink:title=\"psysml:ce878baa-f80f-4009-adda-6088e19c872e\" xlink:type=\"simple\"><path d=\"M63.5,206.09 C63.5,206.09 63.5,382 63.5,382 C63.5,382 65.71,382 68.86,382 \" fill=\"none\" id=\"E13&lt;-E15\" style=\"stroke: #383838; stroke-width: 1.0;\"/><polygon fill=\"#FFFFFF\" points=\"63.5,193.09,59.5,199.09,63.5,205.09,67.5,199.09,63.5,193.09\" style=\"stroke: #383838; stroke-width: 1.0;\"/><text fill=\"#000000\" font-family=\"sans-serif\" font-size=\"13\" lengthAdjust=\"spacingAndGlyphs\" textLength=\"8\" x=\"52.8466\" y=\"376.7074\">1</text></a><!--MD5=[3afbdc645381407e1bc99677323a2513]\n",
       "link E14 to E15--><a href=\"psysml:1f31a0eb-24e7-4abd-8eab-15c525015988\" target=\"_top\" title=\"psysml:1f31a0eb-24e7-4abd-8eab-15c525015988\" xlink:actuate=\"onRequest\" xlink:href=\"psysml:1f31a0eb-24e7-4abd-8eab-15c525015988\" xlink:show=\"new\" xlink:title=\"psysml:1f31a0eb-24e7-4abd-8eab-15c525015988\" xlink:type=\"simple\"><path d=\"M79.5,299 C79.5,316.66 79.5,340.94 79.5,358.68 \" fill=\"none\" id=\"E14-E15\" style=\"stroke: #383838; stroke-width: 3.0;\"/></a><!--MD5=[3afbdc645381407e1bc99677323a2513]\n",
       "link E14 to E15--><a href=\"psysml:c2fd36d5-55a7-4367-ae55-c3f656adabca\" target=\"_top\" title=\"psysml:c2fd36d5-55a7-4367-ae55-c3f656adabca\" xlink:actuate=\"onRequest\" xlink:href=\"psysml:c2fd36d5-55a7-4367-ae55-c3f656adabca\" xlink:show=\"new\" xlink:title=\"psysml:c2fd36d5-55a7-4367-ae55-c3f656adabca\" xlink:type=\"simple\"><path d=\"M90,299 C90,316.66 90,340.94 90,358.68 \" fill=\"none\" id=\"E14-E15-1\" style=\"stroke: #383838; stroke-width: 3.0;\"/></a><!--MD5=[6ee8b0af359f4fad123e005141dd0a8e]\n",
       "@startuml\r\n",
       "skinparam linetype ortho\r\n",
       "skinparam monochrome true\r\n",
       "skinparam classbackgroundcolor white\r\n",
       "skinparam shadowing false\r\n",
       "skinparam wrapWidth 300\r\n",
       "hide circle\r\n",
       "\r\n",
       "package \"ConjugationTest\" as E1  [[psysml:4e179b45-ef84-478c-a2da-b16af7c43fe7 ]]  {\r\n",
       "comp def \"P\" as E2  <<(T,blue) port  def>> [[psysml:859d5a2d-b524-488b-9af4-e0f987adcacf ]] {\r\n",
       "}\r\n",
       "comp def \"B\" as E3  <<(T,blue) part  def>> [[psysml:615e73ac-8544-4e42-b424-8a4747867d0e ]] {\r\n",
       "}\r\n",
       "comp usage \"p1: P \" as E4  <<(T,blue) port>> [[psysml:37d2c32c-e4e6-4c0b-af75-96cd6556dd4d ]] {\r\n",
       "}\r\n",
       "comp usage \"p2 \" as E5  <<(T,blue) port>> [[psysml:a7d82e4a-e12d-4520-9ae6-c89754eb7506 ]] {\r\n",
       "}\r\n",
       "comp def \"A\" as E6  <<(T,blue) connection  def>> [[psysml:5cdadcae-4d33-45cc-84a1-e26eca79ba4d ]] {\r\n",
       "}\r\n",
       "comp usage \"p1: P \" as E7  <<(T,blue) port>> [[psysml:7fb982ae-cae7-41b0-848a-52bb93191ec3 ]] {\r\n",
       "}\r\n",
       "comp usage \"p2 \" as E8  <<(T,blue) port>> [[psysml:5c21b9df-62cf-4ee8-9145-76efb13de7e4 ]] {\r\n",
       "}\r\n",
       "comp def \"I\" as E9  <<(T,blue) interface  def>> [[psysml:2bbab23f-cc40-4354-88cc-493e0b41ffd4 ]] {\r\n",
       "}\r\n",
       "comp usage \"p1: P \" as E10  <<(T,blue) port>> [[psysml:e0785fbe-faad-409c-b39f-62ae49a7d6e0 ]] {\r\n",
       "}\r\n",
       "comp usage \"p2 \" as E11  <<(T,blue) port>> [[psysml:a18508b4-2f12-4bca-8dd1-291939c34d14 ]] {\r\n",
       "}\r\n",
       "comp def \"B1\" as E12  <<(T,blue) part  def>> [[psysml:cd0027e5-9ed9-4216-bffa-1e31fa367fb3 ]] {\r\n",
       "}\r\n",
       "comp usage \"p \" as E13  <<(T,blue) part>> [[psysml:3cf8fc76-e05d-49bd-b29f-3b88a47b72de ]] {\r\n",
       "}\r\n",
       "comp usage \"p1: P \" as E14  <<(T,blue) port>> [[psysml:6cf362ef-4bb1-44a5-8272-767638a97c43 ]] {\r\n",
       "}\r\n",
       "comp usage \"p2 \" as E15  <<(T,blue) port>> [[psysml:33e7cbb5-c462-4d34-9030-b3438d816b29 ]] {\r\n",
       "}\r\n",
       "}\r\n",
       "E3 o- - \"1\"E4 [[psysml:e09aa0cf-99c0-4ed5-833c-e6cdd9353c0b ]] \r\n",
       "E4 - -:|> E2 [[psysml:d96439d0-54ae-42c8-b560-5f0ede470e61 ]] \r\n",
       "E3 o- - \"1\"E5 [[psysml:880a21a1-46d7-4f3d-9543-241b40e3ab4a ]] \r\n",
       "E6 o- - \"1\"E7 [[psysml:98390341-db8e-40b6-aced-fec2311e0a9d ]] \r\n",
       "E7 - -:|> E2 [[psysml:6f9217eb-859f-4957-bc31-6c1306f83367 ]] \r\n",
       "E6 o- - \"1\"E8 [[psysml:15a7c7be-761e-4e1c-a126-babbedfba5ca ]] \r\n",
       "E9 o- - \"1\"E10 [[psysml:a15de342-1742-4b99-9b86-ed8c6fb30ab8 ]] \r\n",
       "E10 - -:|> E2 [[psysml:81b1dfc1-849b-47a4-a859-9ae7a728ef15 ]] \r\n",
       "E9 o- - \"1\"E11 [[psysml:fe2242fc-88cc-4430-bc2f-98e79ba2cc70 ]] \r\n",
       "E12 o- - \"1\"E13 [[psysml:0c56cab0-046e-4827-a921-af226384c943 ]] \r\n",
       "E13 o- - \"1\"E14 [[psysml:12334834-5f3e-4b20-9f0b-aad671391bfa ]] \r\n",
       "E14 - -:|> E2 [[psysml:f15866fc-26c5-4fac-ba02-f8f796eed5e8 ]] \r\n",
       "E13 o- - \"1\"E15 [[psysml:ce878baa-f80f-4009-adda-6088e19c872e ]] \r\n",
       "E14 -[thickness=3]- E15 [[psysml:1f31a0eb-24e7-4abd-8eab-15c525015988 ]] \r\n",
       "E14 -[thickness=3]- E15 [[psysml:c2fd36d5-55a7-4367-ae55-c3f656adabca ]] \r\n",
       "@enduml\r\n",
       "\n",
       "PlantUML version 1.2020.13(Sat Jun 13 12:26:38 UTC 2020)\n",
       "(EPL source distribution)\n",
       "Java Runtime: OpenJDK Runtime Environment\n",
       "JVM: OpenJDK 64-Bit Server VM\n",
       "Default Encoding: UTF-8\n",
       "Language: en\n",
       "Country: null\n",
       "--></g></svg>"
      ]
     },
     "execution_count": 57,
     "metadata": {},
     "output_type": "execute_result"
    }
   ],
   "source": [
    "%viz --style=\"ORTHOLINE\" --view=\"MIXED\" \"ConjugationTest\""
   ]
  }
 ],
 "metadata": {
  "kernelspec": {
   "display_name": "SysML",
   "language": "sysml",
   "name": "sysml"
  },
  "language_info": {
   "codemirror_mode": "sysml",
   "file_extension": ".sysml",
   "mimetype": "text/x-sysml",
   "name": "SysML",
   "pygments_lexer": "java",
   "version": "1.0.0"
  }
 },
 "nbformat": 4,
 "nbformat_minor": 5
}

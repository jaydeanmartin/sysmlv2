{
 "cells": [
  {
   "cell_type": "markdown",
   "id": "502048c6",
   "metadata": {},
   "source": [
    "# SysML v2 Test Suite\n",
    "\n",
    "This can notebook can be cleared using menu `Edit --> Clear All Outputs` and then all cells can be\n",
    "run using menu `Run --> Run All Cells`.\n",
    "\n",
    "**WARNING**: This file is generated, all modifications here will be ignored.\n"
   ]
  },
  {
   "cell_type": "markdown",
   "id": "7291f57f",
   "metadata": {},
   "source": [
    "## File: ../../sysml/src/examples/Simple Tests/BlockTest.sysml"
   ]
  },
  {
   "cell_type": "code",
   "execution_count": 1,
   "id": "f5d569d2",
   "metadata": {
    "execution": {
     "iopub.execute_input": "2021-08-04T06:27:29.685547Z",
     "iopub.status.busy": "2021-08-04T06:27:29.684300Z",
     "iopub.status.idle": "2021-08-04T06:27:29.888183Z",
     "shell.execute_reply": "2021-08-04T06:27:29.887888Z"
    }
   },
   "outputs": [
    {
     "name": "stderr",
     "output_type": "stream",
     "text": [
      "ERROR:no viable alternative at input 'import' (1.sysml line : 18 column : 3)\n"
     ]
    },
    {
     "name": "stderr",
     "output_type": "stream",
     "text": [
      "ERROR:no viable alternative at input 'as' (1.sysml line : 18 column : 12)\n"
     ]
    },
    {
     "name": "stderr",
     "output_type": "stream",
     "text": [
      "ERROR:mismatched input 'as' expecting 'for' (1.sysml line : 19 column : 11)\n"
     ]
    },
    {
     "data": {
      "text/plain": []
     },
     "execution_count": 1,
     "metadata": {},
     "output_type": "execute_result"
    }
   ],
   "source": [
    "package BlockTest {\n",
    "\t\n",
    "\tpart f: A;\n",
    "\n",
    "\tpublic block A {\n",
    "\t\tpart b: B;\n",
    "\t\tprotected port c: C;\n",
    "\t}\n",
    "\t\n",
    "\tabstract block B {\n",
    "\t\tpublic abstract part a: A;\n",
    "\t\tport x: ~C;\n",
    "\t\tpackage P { }\n",
    "\t}\n",
    "\t\n",
    "\tprivate port def C {\n",
    "\t\tprivate in ref y: A, B;\n",
    "\t\timport y as z1;\n",
    "\t\talias y as z2;\n",
    "\t}\n",
    "\t\n",
    "}"
   ]
  },
  {
   "cell_type": "code",
   "execution_count": 2,
   "id": "2750df9a",
   "metadata": {
    "execution": {
     "iopub.execute_input": "2021-08-04T06:27:29.940005Z",
     "iopub.status.busy": "2021-08-04T06:27:29.939566Z",
     "iopub.status.idle": "2021-08-04T06:27:29.944688Z",
     "shell.execute_reply": "2021-08-04T06:27:29.944301Z"
    }
   },
   "outputs": [
    {
     "data": {
      "text/plain": [
       "ERROR:Couldn't resolve reference to Element 'BlockTest'\n"
      ]
     },
     "execution_count": 2,
     "metadata": {},
     "output_type": "execute_result"
    }
   ],
   "source": [
    "%viz --style=\"COMPTREE\" --view=\"Default\" \"BlockTest\""
   ]
  },
  {
   "cell_type": "code",
   "execution_count": 3,
   "id": "89a5a40d",
   "metadata": {
    "execution": {
     "iopub.execute_input": "2021-08-04T06:27:29.994840Z",
     "iopub.status.busy": "2021-08-04T06:27:29.994429Z",
     "iopub.status.idle": "2021-08-04T06:27:29.995915Z",
     "shell.execute_reply": "2021-08-04T06:27:29.996227Z"
    }
   },
   "outputs": [
    {
     "data": {
      "text/plain": [
       "ERROR:Couldn't resolve reference to Element 'BlockTest'\n"
      ]
     },
     "execution_count": 3,
     "metadata": {},
     "output_type": "execute_result"
    }
   ],
   "source": [
    "%viz --style=\"COMPTREE\" --view=\"Tree\" \"BlockTest\""
   ]
  },
  {
   "cell_type": "code",
   "execution_count": 4,
   "id": "ade0d010",
   "metadata": {
    "execution": {
     "iopub.execute_input": "2021-08-04T06:27:30.046558Z",
     "iopub.status.busy": "2021-08-04T06:27:30.046151Z",
     "iopub.status.idle": "2021-08-04T06:27:30.047617Z",
     "shell.execute_reply": "2021-08-04T06:27:30.047928Z"
    }
   },
   "outputs": [
    {
     "data": {
      "text/plain": [
       "ERROR:Couldn't resolve reference to Element 'BlockTest'\n"
      ]
     },
     "execution_count": 4,
     "metadata": {},
     "output_type": "execute_result"
    }
   ],
   "source": [
    "%viz --style=\"COMPTREE\" --view=\"State\" \"BlockTest\""
   ]
  },
  {
   "cell_type": "code",
   "execution_count": 5,
   "id": "2c44a6e9",
   "metadata": {
    "execution": {
     "iopub.execute_input": "2021-08-04T06:27:30.098815Z",
     "iopub.status.busy": "2021-08-04T06:27:30.098419Z",
     "iopub.status.idle": "2021-08-04T06:27:30.100551Z",
     "shell.execute_reply": "2021-08-04T06:27:30.100237Z"
    }
   },
   "outputs": [
    {
     "data": {
      "text/plain": [
       "ERROR:Couldn't resolve reference to Element 'BlockTest'\n"
      ]
     },
     "execution_count": 5,
     "metadata": {},
     "output_type": "execute_result"
    }
   ],
   "source": [
    "%viz --style=\"COMPTREE\" --view=\"Interconnection\" \"BlockTest\""
   ]
  },
  {
   "cell_type": "code",
   "execution_count": 6,
   "id": "f9894d3f",
   "metadata": {
    "execution": {
     "iopub.execute_input": "2021-08-04T06:27:30.151557Z",
     "iopub.status.busy": "2021-08-04T06:27:30.151129Z",
     "iopub.status.idle": "2021-08-04T06:27:30.153560Z",
     "shell.execute_reply": "2021-08-04T06:27:30.153155Z"
    }
   },
   "outputs": [
    {
     "data": {
      "text/plain": [
       "ERROR:Couldn't resolve reference to Element 'BlockTest'\n"
      ]
     },
     "execution_count": 6,
     "metadata": {},
     "output_type": "execute_result"
    }
   ],
   "source": [
    "%viz --style=\"COMPTREE\" --view=\"Action\" \"BlockTest\""
   ]
  },
  {
   "cell_type": "code",
   "execution_count": 7,
   "id": "892c3639",
   "metadata": {
    "execution": {
     "iopub.execute_input": "2021-08-04T06:27:30.204715Z",
     "iopub.status.busy": "2021-08-04T06:27:30.204308Z",
     "iopub.status.idle": "2021-08-04T06:27:30.205980Z",
     "shell.execute_reply": "2021-08-04T06:27:30.206286Z"
    }
   },
   "outputs": [
    {
     "data": {
      "text/plain": [
       "ERROR:Couldn't resolve reference to Element 'BlockTest'\n"
      ]
     },
     "execution_count": 7,
     "metadata": {},
     "output_type": "execute_result"
    }
   ],
   "source": [
    "%viz --style=\"COMPTREE\" --view=\"Sequence\" \"BlockTest\""
   ]
  },
  {
   "cell_type": "code",
   "execution_count": 8,
   "id": "31e4ab2c",
   "metadata": {
    "execution": {
     "iopub.execute_input": "2021-08-04T06:27:30.257113Z",
     "iopub.status.busy": "2021-08-04T06:27:30.256712Z",
     "iopub.status.idle": "2021-08-04T06:27:30.258206Z",
     "shell.execute_reply": "2021-08-04T06:27:30.258514Z"
    }
   },
   "outputs": [
    {
     "data": {
      "text/plain": [
       "ERROR:Couldn't resolve reference to Element 'BlockTest'\n"
      ]
     },
     "execution_count": 8,
     "metadata": {},
     "output_type": "execute_result"
    }
   ],
   "source": [
    "%viz --style=\"COMPTREE\" --view=\"MIXED\" \"BlockTest\""
   ]
  },
  {
   "cell_type": "code",
   "execution_count": 9,
   "id": "f8c99179",
   "metadata": {
    "execution": {
     "iopub.execute_input": "2021-08-04T06:27:30.309165Z",
     "iopub.status.busy": "2021-08-04T06:27:30.308769Z",
     "iopub.status.idle": "2021-08-04T06:27:30.310423Z",
     "shell.execute_reply": "2021-08-04T06:27:30.310729Z"
    }
   },
   "outputs": [
    {
     "data": {
      "text/plain": [
       "ERROR:Couldn't resolve reference to Element 'BlockTest'\n"
      ]
     },
     "execution_count": 9,
     "metadata": {},
     "output_type": "execute_result"
    }
   ],
   "source": [
    "%viz --style=\"POLYLINE\" --view=\"Default\" \"BlockTest\""
   ]
  },
  {
   "cell_type": "code",
   "execution_count": 10,
   "id": "6697b648",
   "metadata": {
    "execution": {
     "iopub.execute_input": "2021-08-04T06:27:30.361384Z",
     "iopub.status.busy": "2021-08-04T06:27:30.360990Z",
     "iopub.status.idle": "2021-08-04T06:27:30.362431Z",
     "shell.execute_reply": "2021-08-04T06:27:30.362740Z"
    }
   },
   "outputs": [
    {
     "data": {
      "text/plain": [
       "ERROR:Couldn't resolve reference to Element 'BlockTest'\n"
      ]
     },
     "execution_count": 10,
     "metadata": {},
     "output_type": "execute_result"
    }
   ],
   "source": [
    "%viz --style=\"POLYLINE\" --view=\"Tree\" \"BlockTest\""
   ]
  },
  {
   "cell_type": "code",
   "execution_count": 11,
   "id": "9b39f5ed",
   "metadata": {
    "execution": {
     "iopub.execute_input": "2021-08-04T06:27:30.413432Z",
     "iopub.status.busy": "2021-08-04T06:27:30.413044Z",
     "iopub.status.idle": "2021-08-04T06:27:30.414481Z",
     "shell.execute_reply": "2021-08-04T06:27:30.414786Z"
    }
   },
   "outputs": [
    {
     "data": {
      "text/plain": [
       "ERROR:Couldn't resolve reference to Element 'BlockTest'\n"
      ]
     },
     "execution_count": 11,
     "metadata": {},
     "output_type": "execute_result"
    }
   ],
   "source": [
    "%viz --style=\"POLYLINE\" --view=\"State\" \"BlockTest\""
   ]
  },
  {
   "cell_type": "code",
   "execution_count": 12,
   "id": "3a524586",
   "metadata": {
    "execution": {
     "iopub.execute_input": "2021-08-04T06:27:30.465269Z",
     "iopub.status.busy": "2021-08-04T06:27:30.464874Z",
     "iopub.status.idle": "2021-08-04T06:27:30.466649Z",
     "shell.execute_reply": "2021-08-04T06:27:30.466336Z"
    }
   },
   "outputs": [
    {
     "data": {
      "text/plain": [
       "ERROR:Couldn't resolve reference to Element 'BlockTest'\n"
      ]
     },
     "execution_count": 12,
     "metadata": {},
     "output_type": "execute_result"
    }
   ],
   "source": [
    "%viz --style=\"POLYLINE\" --view=\"Interconnection\" \"BlockTest\""
   ]
  },
  {
   "cell_type": "code",
   "execution_count": 13,
   "id": "4ecce281",
   "metadata": {
    "execution": {
     "iopub.execute_input": "2021-08-04T06:27:30.517243Z",
     "iopub.status.busy": "2021-08-04T06:27:30.516845Z",
     "iopub.status.idle": "2021-08-04T06:27:30.518608Z",
     "shell.execute_reply": "2021-08-04T06:27:30.518270Z"
    }
   },
   "outputs": [
    {
     "data": {
      "text/plain": [
       "ERROR:Couldn't resolve reference to Element 'BlockTest'\n"
      ]
     },
     "execution_count": 13,
     "metadata": {},
     "output_type": "execute_result"
    }
   ],
   "source": [
    "%viz --style=\"POLYLINE\" --view=\"Action\" \"BlockTest\""
   ]
  },
  {
   "cell_type": "code",
   "execution_count": 14,
   "id": "718350a8",
   "metadata": {
    "execution": {
     "iopub.execute_input": "2021-08-04T06:27:30.568889Z",
     "iopub.status.busy": "2021-08-04T06:27:30.568484Z",
     "iopub.status.idle": "2021-08-04T06:27:30.570256Z",
     "shell.execute_reply": "2021-08-04T06:27:30.569919Z"
    }
   },
   "outputs": [
    {
     "data": {
      "text/plain": [
       "ERROR:Couldn't resolve reference to Element 'BlockTest'\n"
      ]
     },
     "execution_count": 14,
     "metadata": {},
     "output_type": "execute_result"
    }
   ],
   "source": [
    "%viz --style=\"POLYLINE\" --view=\"Sequence\" \"BlockTest\""
   ]
  },
  {
   "cell_type": "code",
   "execution_count": 15,
   "id": "479b0cfc",
   "metadata": {
    "execution": {
     "iopub.execute_input": "2021-08-04T06:27:30.620605Z",
     "iopub.status.busy": "2021-08-04T06:27:30.620218Z",
     "iopub.status.idle": "2021-08-04T06:27:30.621971Z",
     "shell.execute_reply": "2021-08-04T06:27:30.621651Z"
    }
   },
   "outputs": [
    {
     "data": {
      "text/plain": [
       "ERROR:Couldn't resolve reference to Element 'BlockTest'\n"
      ]
     },
     "execution_count": 15,
     "metadata": {},
     "output_type": "execute_result"
    }
   ],
   "source": [
    "%viz --style=\"POLYLINE\" --view=\"MIXED\" \"BlockTest\""
   ]
  },
  {
   "cell_type": "code",
   "execution_count": 16,
   "id": "ac7b2d4b",
   "metadata": {
    "execution": {
     "iopub.execute_input": "2021-08-04T06:27:30.672666Z",
     "iopub.status.busy": "2021-08-04T06:27:30.672260Z",
     "iopub.status.idle": "2021-08-04T06:27:30.674311Z",
     "shell.execute_reply": "2021-08-04T06:27:30.673971Z"
    }
   },
   "outputs": [
    {
     "data": {
      "text/plain": [
       "ERROR:Couldn't resolve reference to Element 'BlockTest'\n"
      ]
     },
     "execution_count": 16,
     "metadata": {},
     "output_type": "execute_result"
    }
   ],
   "source": [
    "%viz --style=\"LR\" --view=\"Default\" \"BlockTest\""
   ]
  },
  {
   "cell_type": "code",
   "execution_count": 17,
   "id": "78d7a3d7",
   "metadata": {
    "execution": {
     "iopub.execute_input": "2021-08-04T06:27:30.724290Z",
     "iopub.status.busy": "2021-08-04T06:27:30.723897Z",
     "iopub.status.idle": "2021-08-04T06:27:30.725401Z",
     "shell.execute_reply": "2021-08-04T06:27:30.725708Z"
    }
   },
   "outputs": [
    {
     "data": {
      "text/plain": [
       "ERROR:Couldn't resolve reference to Element 'BlockTest'\n"
      ]
     },
     "execution_count": 17,
     "metadata": {},
     "output_type": "execute_result"
    }
   ],
   "source": [
    "%viz --style=\"LR\" --view=\"Tree\" \"BlockTest\""
   ]
  },
  {
   "cell_type": "code",
   "execution_count": 18,
   "id": "4df328a4",
   "metadata": {
    "execution": {
     "iopub.execute_input": "2021-08-04T06:27:30.776057Z",
     "iopub.status.busy": "2021-08-04T06:27:30.775660Z",
     "iopub.status.idle": "2021-08-04T06:27:30.777424Z",
     "shell.execute_reply": "2021-08-04T06:27:30.777104Z"
    }
   },
   "outputs": [
    {
     "data": {
      "text/plain": [
       "ERROR:Couldn't resolve reference to Element 'BlockTest'\n"
      ]
     },
     "execution_count": 18,
     "metadata": {},
     "output_type": "execute_result"
    }
   ],
   "source": [
    "%viz --style=\"LR\" --view=\"State\" \"BlockTest\""
   ]
  },
  {
   "cell_type": "code",
   "execution_count": 19,
   "id": "dd997888",
   "metadata": {
    "execution": {
     "iopub.execute_input": "2021-08-04T06:27:30.827636Z",
     "iopub.status.busy": "2021-08-04T06:27:30.827246Z",
     "iopub.status.idle": "2021-08-04T06:27:30.829015Z",
     "shell.execute_reply": "2021-08-04T06:27:30.828674Z"
    }
   },
   "outputs": [
    {
     "data": {
      "text/plain": [
       "ERROR:Couldn't resolve reference to Element 'BlockTest'\n"
      ]
     },
     "execution_count": 19,
     "metadata": {},
     "output_type": "execute_result"
    }
   ],
   "source": [
    "%viz --style=\"LR\" --view=\"Interconnection\" \"BlockTest\""
   ]
  },
  {
   "cell_type": "code",
   "execution_count": 20,
   "id": "e3964f60",
   "metadata": {
    "execution": {
     "iopub.execute_input": "2021-08-04T06:27:30.879068Z",
     "iopub.status.busy": "2021-08-04T06:27:30.878671Z",
     "iopub.status.idle": "2021-08-04T06:27:30.880440Z",
     "shell.execute_reply": "2021-08-04T06:27:30.880098Z"
    }
   },
   "outputs": [
    {
     "data": {
      "text/plain": [
       "ERROR:Couldn't resolve reference to Element 'BlockTest'\n"
      ]
     },
     "execution_count": 20,
     "metadata": {},
     "output_type": "execute_result"
    }
   ],
   "source": [
    "%viz --style=\"LR\" --view=\"Action\" \"BlockTest\""
   ]
  },
  {
   "cell_type": "code",
   "execution_count": 21,
   "id": "e2d0ef22",
   "metadata": {
    "execution": {
     "iopub.execute_input": "2021-08-04T06:27:30.930412Z",
     "iopub.status.busy": "2021-08-04T06:27:30.930011Z",
     "iopub.status.idle": "2021-08-04T06:27:30.931778Z",
     "shell.execute_reply": "2021-08-04T06:27:30.931441Z"
    }
   },
   "outputs": [
    {
     "data": {
      "text/plain": [
       "ERROR:Couldn't resolve reference to Element 'BlockTest'\n"
      ]
     },
     "execution_count": 21,
     "metadata": {},
     "output_type": "execute_result"
    }
   ],
   "source": [
    "%viz --style=\"LR\" --view=\"Sequence\" \"BlockTest\""
   ]
  },
  {
   "cell_type": "code",
   "execution_count": 22,
   "id": "56ffb588",
   "metadata": {
    "execution": {
     "iopub.execute_input": "2021-08-04T06:27:30.981777Z",
     "iopub.status.busy": "2021-08-04T06:27:30.981381Z",
     "iopub.status.idle": "2021-08-04T06:27:30.983150Z",
     "shell.execute_reply": "2021-08-04T06:27:30.982810Z"
    }
   },
   "outputs": [
    {
     "data": {
      "text/plain": [
       "ERROR:Couldn't resolve reference to Element 'BlockTest'\n"
      ]
     },
     "execution_count": 22,
     "metadata": {},
     "output_type": "execute_result"
    }
   ],
   "source": [
    "%viz --style=\"LR\" --view=\"MIXED\" \"BlockTest\""
   ]
  },
  {
   "cell_type": "code",
   "execution_count": 23,
   "id": "dd84e201",
   "metadata": {
    "execution": {
     "iopub.execute_input": "2021-08-04T06:27:31.033217Z",
     "iopub.status.busy": "2021-08-04T06:27:31.032828Z",
     "iopub.status.idle": "2021-08-04T06:27:31.034251Z",
     "shell.execute_reply": "2021-08-04T06:27:31.034557Z"
    }
   },
   "outputs": [
    {
     "data": {
      "text/plain": [
       "ERROR:Couldn't resolve reference to Element 'BlockTest'\n"
      ]
     },
     "execution_count": 23,
     "metadata": {},
     "output_type": "execute_result"
    }
   ],
   "source": [
    "%viz --style=\"STDCOLOR\" --view=\"Default\" \"BlockTest\""
   ]
  },
  {
   "cell_type": "code",
   "execution_count": 24,
   "id": "999c72b1",
   "metadata": {
    "execution": {
     "iopub.execute_input": "2021-08-04T06:27:31.084877Z",
     "iopub.status.busy": "2021-08-04T06:27:31.084470Z",
     "iopub.status.idle": "2021-08-04T06:27:31.086239Z",
     "shell.execute_reply": "2021-08-04T06:27:31.085901Z"
    }
   },
   "outputs": [
    {
     "data": {
      "text/plain": [
       "ERROR:Couldn't resolve reference to Element 'BlockTest'\n"
      ]
     },
     "execution_count": 24,
     "metadata": {},
     "output_type": "execute_result"
    }
   ],
   "source": [
    "%viz --style=\"STDCOLOR\" --view=\"Tree\" \"BlockTest\""
   ]
  },
  {
   "cell_type": "code",
   "execution_count": 25,
   "id": "85d8e369",
   "metadata": {
    "execution": {
     "iopub.execute_input": "2021-08-04T06:27:31.136398Z",
     "iopub.status.busy": "2021-08-04T06:27:31.136005Z",
     "iopub.status.idle": "2021-08-04T06:27:31.137777Z",
     "shell.execute_reply": "2021-08-04T06:27:31.137439Z"
    }
   },
   "outputs": [
    {
     "data": {
      "text/plain": [
       "ERROR:Couldn't resolve reference to Element 'BlockTest'\n"
      ]
     },
     "execution_count": 25,
     "metadata": {},
     "output_type": "execute_result"
    }
   ],
   "source": [
    "%viz --style=\"STDCOLOR\" --view=\"State\" \"BlockTest\""
   ]
  },
  {
   "cell_type": "code",
   "execution_count": 26,
   "id": "0a750322",
   "metadata": {
    "execution": {
     "iopub.execute_input": "2021-08-04T06:27:31.188012Z",
     "iopub.status.busy": "2021-08-04T06:27:31.187615Z",
     "iopub.status.idle": "2021-08-04T06:27:31.189443Z",
     "shell.execute_reply": "2021-08-04T06:27:31.189085Z"
    }
   },
   "outputs": [
    {
     "data": {
      "text/plain": [
       "ERROR:Couldn't resolve reference to Element 'BlockTest'\n"
      ]
     },
     "execution_count": 26,
     "metadata": {},
     "output_type": "execute_result"
    }
   ],
   "source": [
    "%viz --style=\"STDCOLOR\" --view=\"Interconnection\" \"BlockTest\""
   ]
  },
  {
   "cell_type": "code",
   "execution_count": 27,
   "id": "ba1b00f7",
   "metadata": {
    "execution": {
     "iopub.execute_input": "2021-08-04T06:27:31.239445Z",
     "iopub.status.busy": "2021-08-04T06:27:31.239026Z",
     "iopub.status.idle": "2021-08-04T06:27:31.240826Z",
     "shell.execute_reply": "2021-08-04T06:27:31.240464Z"
    }
   },
   "outputs": [
    {
     "data": {
      "text/plain": [
       "ERROR:Couldn't resolve reference to Element 'BlockTest'\n"
      ]
     },
     "execution_count": 27,
     "metadata": {},
     "output_type": "execute_result"
    }
   ],
   "source": [
    "%viz --style=\"STDCOLOR\" --view=\"Action\" \"BlockTest\""
   ]
  },
  {
   "cell_type": "code",
   "execution_count": 28,
   "id": "ac7cc650",
   "metadata": {
    "execution": {
     "iopub.execute_input": "2021-08-04T06:27:31.290871Z",
     "iopub.status.busy": "2021-08-04T06:27:31.290479Z",
     "iopub.status.idle": "2021-08-04T06:27:31.292229Z",
     "shell.execute_reply": "2021-08-04T06:27:31.291892Z"
    }
   },
   "outputs": [
    {
     "data": {
      "text/plain": [
       "ERROR:Couldn't resolve reference to Element 'BlockTest'\n"
      ]
     },
     "execution_count": 28,
     "metadata": {},
     "output_type": "execute_result"
    }
   ],
   "source": [
    "%viz --style=\"STDCOLOR\" --view=\"Sequence\" \"BlockTest\""
   ]
  },
  {
   "cell_type": "code",
   "execution_count": 29,
   "id": "5cc13a32",
   "metadata": {
    "execution": {
     "iopub.execute_input": "2021-08-04T06:27:31.342330Z",
     "iopub.status.busy": "2021-08-04T06:27:31.341939Z",
     "iopub.status.idle": "2021-08-04T06:27:31.343682Z",
     "shell.execute_reply": "2021-08-04T06:27:31.343343Z"
    }
   },
   "outputs": [
    {
     "data": {
      "text/plain": [
       "ERROR:Couldn't resolve reference to Element 'BlockTest'\n"
      ]
     },
     "execution_count": 29,
     "metadata": {},
     "output_type": "execute_result"
    }
   ],
   "source": [
    "%viz --style=\"STDCOLOR\" --view=\"MIXED\" \"BlockTest\""
   ]
  },
  {
   "cell_type": "code",
   "execution_count": 30,
   "id": "81682cac",
   "metadata": {
    "execution": {
     "iopub.execute_input": "2021-08-04T06:27:31.393746Z",
     "iopub.status.busy": "2021-08-04T06:27:31.393360Z",
     "iopub.status.idle": "2021-08-04T06:27:31.395100Z",
     "shell.execute_reply": "2021-08-04T06:27:31.394765Z"
    }
   },
   "outputs": [
    {
     "data": {
      "text/plain": [
       "ERROR:Couldn't resolve reference to Element 'BlockTest'\n"
      ]
     },
     "execution_count": 30,
     "metadata": {},
     "output_type": "execute_result"
    }
   ],
   "source": [
    "%viz --style=\"PLANTUML\" --view=\"Default\" \"BlockTest\""
   ]
  },
  {
   "cell_type": "code",
   "execution_count": 31,
   "id": "c7b08beb",
   "metadata": {
    "execution": {
     "iopub.execute_input": "2021-08-04T06:27:31.445289Z",
     "iopub.status.busy": "2021-08-04T06:27:31.444895Z",
     "iopub.status.idle": "2021-08-04T06:27:31.446651Z",
     "shell.execute_reply": "2021-08-04T06:27:31.446312Z"
    }
   },
   "outputs": [
    {
     "data": {
      "text/plain": [
       "ERROR:Couldn't resolve reference to Element 'BlockTest'\n"
      ]
     },
     "execution_count": 31,
     "metadata": {},
     "output_type": "execute_result"
    }
   ],
   "source": [
    "%viz --style=\"PLANTUML\" --view=\"Tree\" \"BlockTest\""
   ]
  },
  {
   "cell_type": "code",
   "execution_count": 32,
   "id": "8cd375ef",
   "metadata": {
    "execution": {
     "iopub.execute_input": "2021-08-04T06:27:31.496793Z",
     "iopub.status.busy": "2021-08-04T06:27:31.496387Z",
     "iopub.status.idle": "2021-08-04T06:27:31.498150Z",
     "shell.execute_reply": "2021-08-04T06:27:31.497813Z"
    }
   },
   "outputs": [
    {
     "data": {
      "text/plain": [
       "ERROR:Couldn't resolve reference to Element 'BlockTest'\n"
      ]
     },
     "execution_count": 32,
     "metadata": {},
     "output_type": "execute_result"
    }
   ],
   "source": [
    "%viz --style=\"PLANTUML\" --view=\"State\" \"BlockTest\""
   ]
  },
  {
   "cell_type": "code",
   "execution_count": 33,
   "id": "2fc4ccad",
   "metadata": {
    "execution": {
     "iopub.execute_input": "2021-08-04T06:27:31.548314Z",
     "iopub.status.busy": "2021-08-04T06:27:31.547922Z",
     "iopub.status.idle": "2021-08-04T06:27:31.549681Z",
     "shell.execute_reply": "2021-08-04T06:27:31.549344Z"
    }
   },
   "outputs": [
    {
     "data": {
      "text/plain": [
       "ERROR:Couldn't resolve reference to Element 'BlockTest'\n"
      ]
     },
     "execution_count": 33,
     "metadata": {},
     "output_type": "execute_result"
    }
   ],
   "source": [
    "%viz --style=\"PLANTUML\" --view=\"Interconnection\" \"BlockTest\""
   ]
  },
  {
   "cell_type": "code",
   "execution_count": 34,
   "id": "ffa49a82",
   "metadata": {
    "execution": {
     "iopub.execute_input": "2021-08-04T06:27:31.599779Z",
     "iopub.status.busy": "2021-08-04T06:27:31.599392Z",
     "iopub.status.idle": "2021-08-04T06:27:31.601420Z",
     "shell.execute_reply": "2021-08-04T06:27:31.601082Z"
    }
   },
   "outputs": [
    {
     "data": {
      "text/plain": [
       "ERROR:Couldn't resolve reference to Element 'BlockTest'\n"
      ]
     },
     "execution_count": 34,
     "metadata": {},
     "output_type": "execute_result"
    }
   ],
   "source": [
    "%viz --style=\"PLANTUML\" --view=\"Action\" \"BlockTest\""
   ]
  },
  {
   "cell_type": "code",
   "execution_count": 35,
   "id": "45a99424",
   "metadata": {
    "execution": {
     "iopub.execute_input": "2021-08-04T06:27:31.651241Z",
     "iopub.status.busy": "2021-08-04T06:27:31.650848Z",
     "iopub.status.idle": "2021-08-04T06:27:31.652600Z",
     "shell.execute_reply": "2021-08-04T06:27:31.652262Z"
    }
   },
   "outputs": [
    {
     "data": {
      "text/plain": [
       "ERROR:Couldn't resolve reference to Element 'BlockTest'\n"
      ]
     },
     "execution_count": 35,
     "metadata": {},
     "output_type": "execute_result"
    }
   ],
   "source": [
    "%viz --style=\"PLANTUML\" --view=\"Sequence\" \"BlockTest\""
   ]
  },
  {
   "cell_type": "code",
   "execution_count": 36,
   "id": "30bcda70",
   "metadata": {
    "execution": {
     "iopub.execute_input": "2021-08-04T06:27:31.702708Z",
     "iopub.status.busy": "2021-08-04T06:27:31.702313Z",
     "iopub.status.idle": "2021-08-04T06:27:31.704065Z",
     "shell.execute_reply": "2021-08-04T06:27:31.703730Z"
    }
   },
   "outputs": [
    {
     "data": {
      "text/plain": [
       "ERROR:Couldn't resolve reference to Element 'BlockTest'\n"
      ]
     },
     "execution_count": 36,
     "metadata": {},
     "output_type": "execute_result"
    }
   ],
   "source": [
    "%viz --style=\"PLANTUML\" --view=\"MIXED\" \"BlockTest\""
   ]
  },
  {
   "cell_type": "code",
   "execution_count": 37,
   "id": "969bf63e",
   "metadata": {
    "execution": {
     "iopub.execute_input": "2021-08-04T06:27:31.754219Z",
     "iopub.status.busy": "2021-08-04T06:27:31.753824Z",
     "iopub.status.idle": "2021-08-04T06:27:31.755579Z",
     "shell.execute_reply": "2021-08-04T06:27:31.755242Z"
    }
   },
   "outputs": [
    {
     "data": {
      "text/plain": [
       "ERROR:Couldn't resolve reference to Element 'BlockTest'\n"
      ]
     },
     "execution_count": 37,
     "metadata": {},
     "output_type": "execute_result"
    }
   ],
   "source": [
    "%viz --style=\"DEFAULT\" --view=\"Default\" \"BlockTest\""
   ]
  },
  {
   "cell_type": "code",
   "execution_count": 38,
   "id": "712f0c40",
   "metadata": {
    "execution": {
     "iopub.execute_input": "2021-08-04T06:27:31.805650Z",
     "iopub.status.busy": "2021-08-04T06:27:31.805259Z",
     "iopub.status.idle": "2021-08-04T06:27:31.807009Z",
     "shell.execute_reply": "2021-08-04T06:27:31.806673Z"
    }
   },
   "outputs": [
    {
     "data": {
      "text/plain": [
       "ERROR:Couldn't resolve reference to Element 'BlockTest'\n"
      ]
     },
     "execution_count": 38,
     "metadata": {},
     "output_type": "execute_result"
    }
   ],
   "source": [
    "%viz --style=\"DEFAULT\" --view=\"Tree\" \"BlockTest\""
   ]
  },
  {
   "cell_type": "code",
   "execution_count": 39,
   "id": "56cec92d",
   "metadata": {
    "execution": {
     "iopub.execute_input": "2021-08-04T06:27:31.857127Z",
     "iopub.status.busy": "2021-08-04T06:27:31.856729Z",
     "iopub.status.idle": "2021-08-04T06:27:31.858496Z",
     "shell.execute_reply": "2021-08-04T06:27:31.858153Z"
    }
   },
   "outputs": [
    {
     "data": {
      "text/plain": [
       "ERROR:Couldn't resolve reference to Element 'BlockTest'\n"
      ]
     },
     "execution_count": 39,
     "metadata": {},
     "output_type": "execute_result"
    }
   ],
   "source": [
    "%viz --style=\"DEFAULT\" --view=\"State\" \"BlockTest\""
   ]
  },
  {
   "cell_type": "code",
   "execution_count": 40,
   "id": "61d030bd",
   "metadata": {
    "execution": {
     "iopub.execute_input": "2021-08-04T06:27:31.908522Z",
     "iopub.status.busy": "2021-08-04T06:27:31.908128Z",
     "iopub.status.idle": "2021-08-04T06:27:31.909901Z",
     "shell.execute_reply": "2021-08-04T06:27:31.909561Z"
    }
   },
   "outputs": [
    {
     "data": {
      "text/plain": [
       "ERROR:Couldn't resolve reference to Element 'BlockTest'\n"
      ]
     },
     "execution_count": 40,
     "metadata": {},
     "output_type": "execute_result"
    }
   ],
   "source": [
    "%viz --style=\"DEFAULT\" --view=\"Interconnection\" \"BlockTest\""
   ]
  },
  {
   "cell_type": "code",
   "execution_count": 41,
   "id": "13d4fba7",
   "metadata": {
    "execution": {
     "iopub.execute_input": "2021-08-04T06:27:31.959880Z",
     "iopub.status.busy": "2021-08-04T06:27:31.959487Z",
     "iopub.status.idle": "2021-08-04T06:27:31.961251Z",
     "shell.execute_reply": "2021-08-04T06:27:31.960908Z"
    }
   },
   "outputs": [
    {
     "data": {
      "text/plain": [
       "ERROR:Couldn't resolve reference to Element 'BlockTest'\n"
      ]
     },
     "execution_count": 41,
     "metadata": {},
     "output_type": "execute_result"
    }
   ],
   "source": [
    "%viz --style=\"DEFAULT\" --view=\"Action\" \"BlockTest\""
   ]
  },
  {
   "cell_type": "code",
   "execution_count": 42,
   "id": "066273bb",
   "metadata": {
    "execution": {
     "iopub.execute_input": "2021-08-04T06:27:32.011202Z",
     "iopub.status.busy": "2021-08-04T06:27:32.010816Z",
     "iopub.status.idle": "2021-08-04T06:27:32.012553Z",
     "shell.execute_reply": "2021-08-04T06:27:32.012216Z"
    }
   },
   "outputs": [
    {
     "data": {
      "text/plain": [
       "ERROR:Couldn't resolve reference to Element 'BlockTest'\n"
      ]
     },
     "execution_count": 42,
     "metadata": {},
     "output_type": "execute_result"
    }
   ],
   "source": [
    "%viz --style=\"DEFAULT\" --view=\"Sequence\" \"BlockTest\""
   ]
  },
  {
   "cell_type": "code",
   "execution_count": 43,
   "id": "5dd01612",
   "metadata": {
    "execution": {
     "iopub.execute_input": "2021-08-04T06:27:32.062619Z",
     "iopub.status.busy": "2021-08-04T06:27:32.062226Z",
     "iopub.status.idle": "2021-08-04T06:27:32.063974Z",
     "shell.execute_reply": "2021-08-04T06:27:32.063637Z"
    }
   },
   "outputs": [
    {
     "data": {
      "text/plain": [
       "ERROR:Couldn't resolve reference to Element 'BlockTest'\n"
      ]
     },
     "execution_count": 43,
     "metadata": {},
     "output_type": "execute_result"
    }
   ],
   "source": [
    "%viz --style=\"DEFAULT\" --view=\"MIXED\" \"BlockTest\""
   ]
  },
  {
   "cell_type": "code",
   "execution_count": 44,
   "id": "eb1c5448",
   "metadata": {
    "execution": {
     "iopub.execute_input": "2021-08-04T06:27:32.114006Z",
     "iopub.status.busy": "2021-08-04T06:27:32.113620Z",
     "iopub.status.idle": "2021-08-04T06:27:32.115361Z",
     "shell.execute_reply": "2021-08-04T06:27:32.115027Z"
    }
   },
   "outputs": [
    {
     "data": {
      "text/plain": [
       "ERROR:Couldn't resolve reference to Element 'BlockTest'\n"
      ]
     },
     "execution_count": 44,
     "metadata": {},
     "output_type": "execute_result"
    }
   ],
   "source": [
    "%viz --style=\"TB\" --view=\"Default\" \"BlockTest\""
   ]
  },
  {
   "cell_type": "code",
   "execution_count": 45,
   "id": "8dbba82f",
   "metadata": {
    "execution": {
     "iopub.execute_input": "2021-08-04T06:27:32.165485Z",
     "iopub.status.busy": "2021-08-04T06:27:32.165092Z",
     "iopub.status.idle": "2021-08-04T06:27:32.166850Z",
     "shell.execute_reply": "2021-08-04T06:27:32.166510Z"
    }
   },
   "outputs": [
    {
     "data": {
      "text/plain": [
       "ERROR:Couldn't resolve reference to Element 'BlockTest'\n"
      ]
     },
     "execution_count": 45,
     "metadata": {},
     "output_type": "execute_result"
    }
   ],
   "source": [
    "%viz --style=\"TB\" --view=\"Tree\" \"BlockTest\""
   ]
  },
  {
   "cell_type": "code",
   "execution_count": 46,
   "id": "e4beada1",
   "metadata": {
    "execution": {
     "iopub.execute_input": "2021-08-04T06:27:32.216739Z",
     "iopub.status.busy": "2021-08-04T06:27:32.216334Z",
     "iopub.status.idle": "2021-08-04T06:27:32.218095Z",
     "shell.execute_reply": "2021-08-04T06:27:32.217755Z"
    }
   },
   "outputs": [
    {
     "data": {
      "text/plain": [
       "ERROR:Couldn't resolve reference to Element 'BlockTest'\n"
      ]
     },
     "execution_count": 46,
     "metadata": {},
     "output_type": "execute_result"
    }
   ],
   "source": [
    "%viz --style=\"TB\" --view=\"State\" \"BlockTest\""
   ]
  },
  {
   "cell_type": "code",
   "execution_count": 47,
   "id": "50360caf",
   "metadata": {
    "execution": {
     "iopub.execute_input": "2021-08-04T06:27:32.268153Z",
     "iopub.status.busy": "2021-08-04T06:27:32.267762Z",
     "iopub.status.idle": "2021-08-04T06:27:32.269512Z",
     "shell.execute_reply": "2021-08-04T06:27:32.269177Z"
    }
   },
   "outputs": [
    {
     "data": {
      "text/plain": [
       "ERROR:Couldn't resolve reference to Element 'BlockTest'\n"
      ]
     },
     "execution_count": 47,
     "metadata": {},
     "output_type": "execute_result"
    }
   ],
   "source": [
    "%viz --style=\"TB\" --view=\"Interconnection\" \"BlockTest\""
   ]
  },
  {
   "cell_type": "code",
   "execution_count": 48,
   "id": "7d670620",
   "metadata": {
    "execution": {
     "iopub.execute_input": "2021-08-04T06:27:32.319527Z",
     "iopub.status.busy": "2021-08-04T06:27:32.319140Z",
     "iopub.status.idle": "2021-08-04T06:27:32.320889Z",
     "shell.execute_reply": "2021-08-04T06:27:32.320537Z"
    }
   },
   "outputs": [
    {
     "data": {
      "text/plain": [
       "ERROR:Couldn't resolve reference to Element 'BlockTest'\n"
      ]
     },
     "execution_count": 48,
     "metadata": {},
     "output_type": "execute_result"
    }
   ],
   "source": [
    "%viz --style=\"TB\" --view=\"Action\" \"BlockTest\""
   ]
  },
  {
   "cell_type": "code",
   "execution_count": 49,
   "id": "db5a18f7",
   "metadata": {
    "execution": {
     "iopub.execute_input": "2021-08-04T06:27:32.371125Z",
     "iopub.status.busy": "2021-08-04T06:27:32.370733Z",
     "iopub.status.idle": "2021-08-04T06:27:32.372476Z",
     "shell.execute_reply": "2021-08-04T06:27:32.372144Z"
    }
   },
   "outputs": [
    {
     "data": {
      "text/plain": [
       "ERROR:Couldn't resolve reference to Element 'BlockTest'\n"
      ]
     },
     "execution_count": 49,
     "metadata": {},
     "output_type": "execute_result"
    }
   ],
   "source": [
    "%viz --style=\"TB\" --view=\"Sequence\" \"BlockTest\""
   ]
  },
  {
   "cell_type": "code",
   "execution_count": 50,
   "id": "8f8e25ec",
   "metadata": {
    "execution": {
     "iopub.execute_input": "2021-08-04T06:27:32.422350Z",
     "iopub.status.busy": "2021-08-04T06:27:32.421958Z",
     "iopub.status.idle": "2021-08-04T06:27:32.423706Z",
     "shell.execute_reply": "2021-08-04T06:27:32.423365Z"
    }
   },
   "outputs": [
    {
     "data": {
      "text/plain": [
       "ERROR:Couldn't resolve reference to Element 'BlockTest'\n"
      ]
     },
     "execution_count": 50,
     "metadata": {},
     "output_type": "execute_result"
    }
   ],
   "source": [
    "%viz --style=\"TB\" --view=\"MIXED\" \"BlockTest\""
   ]
  },
  {
   "cell_type": "code",
   "execution_count": 51,
   "id": "7d30125c",
   "metadata": {
    "execution": {
     "iopub.execute_input": "2021-08-04T06:27:32.473639Z",
     "iopub.status.busy": "2021-08-04T06:27:32.473245Z",
     "iopub.status.idle": "2021-08-04T06:27:32.475005Z",
     "shell.execute_reply": "2021-08-04T06:27:32.474666Z"
    }
   },
   "outputs": [
    {
     "data": {
      "text/plain": [
       "ERROR:Couldn't resolve reference to Element 'BlockTest'\n"
      ]
     },
     "execution_count": 51,
     "metadata": {},
     "output_type": "execute_result"
    }
   ],
   "source": [
    "%viz --style=\"ORTHOLINE\" --view=\"Default\" \"BlockTest\""
   ]
  },
  {
   "cell_type": "code",
   "execution_count": 52,
   "id": "c2b5729b",
   "metadata": {
    "execution": {
     "iopub.execute_input": "2021-08-04T06:27:32.524769Z",
     "iopub.status.busy": "2021-08-04T06:27:32.524371Z",
     "iopub.status.idle": "2021-08-04T06:27:32.526404Z",
     "shell.execute_reply": "2021-08-04T06:27:32.526064Z"
    }
   },
   "outputs": [
    {
     "data": {
      "text/plain": [
       "ERROR:Couldn't resolve reference to Element 'BlockTest'\n"
      ]
     },
     "execution_count": 52,
     "metadata": {},
     "output_type": "execute_result"
    }
   ],
   "source": [
    "%viz --style=\"ORTHOLINE\" --view=\"Tree\" \"BlockTest\""
   ]
  },
  {
   "cell_type": "code",
   "execution_count": 53,
   "id": "38de07a6",
   "metadata": {
    "execution": {
     "iopub.execute_input": "2021-08-04T06:27:32.575869Z",
     "iopub.status.busy": "2021-08-04T06:27:32.575473Z",
     "iopub.status.idle": "2021-08-04T06:27:32.577250Z",
     "shell.execute_reply": "2021-08-04T06:27:32.576910Z"
    }
   },
   "outputs": [
    {
     "data": {
      "text/plain": [
       "ERROR:Couldn't resolve reference to Element 'BlockTest'\n"
      ]
     },
     "execution_count": 53,
     "metadata": {},
     "output_type": "execute_result"
    }
   ],
   "source": [
    "%viz --style=\"ORTHOLINE\" --view=\"State\" \"BlockTest\""
   ]
  },
  {
   "cell_type": "code",
   "execution_count": 54,
   "id": "401790a4",
   "metadata": {
    "execution": {
     "iopub.execute_input": "2021-08-04T06:27:32.626978Z",
     "iopub.status.busy": "2021-08-04T06:27:32.626586Z",
     "iopub.status.idle": "2021-08-04T06:27:32.628338Z",
     "shell.execute_reply": "2021-08-04T06:27:32.628001Z"
    }
   },
   "outputs": [
    {
     "data": {
      "text/plain": [
       "ERROR:Couldn't resolve reference to Element 'BlockTest'\n"
      ]
     },
     "execution_count": 54,
     "metadata": {},
     "output_type": "execute_result"
    }
   ],
   "source": [
    "%viz --style=\"ORTHOLINE\" --view=\"Interconnection\" \"BlockTest\""
   ]
  },
  {
   "cell_type": "code",
   "execution_count": 55,
   "id": "cad24af2",
   "metadata": {
    "execution": {
     "iopub.execute_input": "2021-08-04T06:27:32.678331Z",
     "iopub.status.busy": "2021-08-04T06:27:32.677894Z",
     "iopub.status.idle": "2021-08-04T06:27:32.679651Z",
     "shell.execute_reply": "2021-08-04T06:27:32.678722Z"
    }
   },
   "outputs": [
    {
     "data": {
      "text/plain": [
       "ERROR:Couldn't resolve reference to Element 'BlockTest'\n"
      ]
     },
     "execution_count": 55,
     "metadata": {},
     "output_type": "execute_result"
    }
   ],
   "source": [
    "%viz --style=\"ORTHOLINE\" --view=\"Action\" \"BlockTest\""
   ]
  },
  {
   "cell_type": "code",
   "execution_count": 56,
   "id": "f60152cc",
   "metadata": {
    "execution": {
     "iopub.execute_input": "2021-08-04T06:27:32.729443Z",
     "iopub.status.busy": "2021-08-04T06:27:32.728994Z",
     "iopub.status.idle": "2021-08-04T06:27:32.730746Z",
     "shell.execute_reply": "2021-08-04T06:27:32.729807Z"
    }
   },
   "outputs": [
    {
     "data": {
      "text/plain": [
       "ERROR:Couldn't resolve reference to Element 'BlockTest'\n"
      ]
     },
     "execution_count": 56,
     "metadata": {},
     "output_type": "execute_result"
    }
   ],
   "source": [
    "%viz --style=\"ORTHOLINE\" --view=\"Sequence\" \"BlockTest\""
   ]
  },
  {
   "cell_type": "code",
   "execution_count": 57,
   "id": "c86f9da4",
   "metadata": {
    "execution": {
     "iopub.execute_input": "2021-08-04T06:27:32.780424Z",
     "iopub.status.busy": "2021-08-04T06:27:32.780023Z",
     "iopub.status.idle": "2021-08-04T06:27:32.781814Z",
     "shell.execute_reply": "2021-08-04T06:27:32.781473Z"
    }
   },
   "outputs": [
    {
     "data": {
      "text/plain": [
       "ERROR:Couldn't resolve reference to Element 'BlockTest'\n"
      ]
     },
     "execution_count": 57,
     "metadata": {},
     "output_type": "execute_result"
    }
   ],
   "source": [
    "%viz --style=\"ORTHOLINE\" --view=\"MIXED\" \"BlockTest\""
   ]
  }
 ],
 "metadata": {
  "kernelspec": {
   "display_name": "SysML",
   "language": "sysml",
   "name": "sysml"
  },
  "language_info": {
   "codemirror_mode": "sysml",
   "file_extension": ".sysml",
   "mimetype": "text/x-sysml",
   "name": "SysML",
   "pygments_lexer": "java",
   "version": "1.0.0"
  }
 },
 "nbformat": 4,
 "nbformat_minor": 5
}

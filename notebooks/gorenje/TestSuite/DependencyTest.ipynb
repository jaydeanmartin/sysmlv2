{
 "cells": [
  {
   "cell_type": "markdown",
   "id": "f48b7721",
   "metadata": {},
   "source": [
    "# SysML v2 Test Suite\n",
    "\n",
    "This can notebook can be cleared using menu `Edit --> Clear All Outputs` and then all cells can be\n",
    "run using menu `Run --> Run All Cells`.\n",
    "\n",
    "**WARNING**: This file is generated, all modifications here will be ignored.\n"
   ]
  },
  {
   "cell_type": "markdown",
   "id": "bb61c96e",
   "metadata": {},
   "source": [
    "## File: ../../sysml/src/examples/Simple Tests/DependencyTest.sysml"
   ]
  },
  {
   "cell_type": "code",
   "execution_count": 1,
   "id": "5d30fc33",
   "metadata": {
    "execution": {
     "iopub.execute_input": "2022-08-19T08:17:09.933143Z",
     "iopub.status.busy": "2022-08-19T08:17:09.932100Z",
     "iopub.status.idle": "2022-08-19T08:17:10.020146Z",
     "shell.execute_reply": "2022-08-19T08:17:10.019402Z"
    }
   },
   "outputs": [
    {
     "data": {
      "text/plain": [
       "Package DependencyTest (0f0f2110-3be1-453e-862d-cec3a7a71a7a)\n"
      ]
     },
     "execution_count": 1,
     "metadata": {},
     "output_type": "execute_result"
    }
   ],
   "source": [
    "package DependencyTest {\n",
    "\t\n",
    "\tpackage System {\n",
    "\t\tpackage 'Application Layer';\n",
    "\t\tpackage 'Service Layer';\n",
    "\t\tpackage 'Data Layer';\n",
    "\t}\n",
    "\t\n",
    "\timport System::*;\n",
    "\t\n",
    "\tdependency Use from 'Application Layer' to 'Service Layer';\n",
    "\tdependency from 'Service Layer' to 'Data Layer';\n",
    "\t\n",
    "\tattribute x;\n",
    "\tattribute y;\n",
    "\tattribute z;\n",
    "\t\n",
    "\tdependency z to x, y;\n",
    "\t\n",
    "}"
   ]
  },
  {
   "cell_type": "code",
   "execution_count": 2,
   "id": "30d7176e",
   "metadata": {
    "execution": {
     "iopub.execute_input": "2022-08-19T08:17:10.070937Z",
     "iopub.status.busy": "2022-08-19T08:17:10.070436Z",
     "iopub.status.idle": "2022-08-19T08:17:10.539701Z",
     "shell.execute_reply": "2022-08-19T08:17:10.538035Z"
    }
   },
   "outputs": [
    {
     "data": {
      "image/svg+xml": [
       "<?xml version=\"1.0\" encoding=\"UTF-8\" standalone=\"no\"?><svg xmlns=\"http://www.w3.org/2000/svg\" xmlns:xlink=\"http://www.w3.org/1999/xlink\" contentScriptType=\"application/ecmascript\" contentStyleType=\"text/css\" height=\"552px\" preserveAspectRatio=\"none\" style=\"width:536px;height:552px;\" version=\"1.1\" viewBox=\"0 0 536 552\" width=\"536px\" zoomAndPan=\"magnify\"><defs/><g><!--MD5=[fbc87193dbaf4d95561dea2c320d4a47]\n",
       "cluster E1--><a href=\"psysml:0f0f2110-3be1-453e-862d-cec3a7a71a7a\" target=\"_top\" title=\"psysml:0f0f2110-3be1-453e-862d-cec3a7a71a7a\" xlink:actuate=\"onRequest\" xlink:href=\"psysml:0f0f2110-3be1-453e-862d-cec3a7a71a7a\" xlink:show=\"new\" xlink:title=\"psysml:0f0f2110-3be1-453e-862d-cec3a7a71a7a\" xlink:type=\"simple\"><polygon fill=\"#FFFFFF\" points=\"16,6,142,6,149,28.2969,514,28.2969,514,540.72,16,540.72,16,6\" style=\"stroke: #000000; stroke-width: 1.5;\"/><line style=\"stroke: #000000; stroke-width: 1.5;\" x1=\"16\" x2=\"149\" y1=\"28.2969\" y2=\"28.2969\"/><text fill=\"#000000\" font-family=\"sans-serif\" font-size=\"14\" font-weight=\"bold\" lengthAdjust=\"spacingAndGlyphs\" textLength=\"120\" x=\"20\" y=\"20.9951\">DependencyTest</text></a><!--MD5=[e4f7fae6ed58524ba242bb0b0d3be6b7]\n",
       "cluster E2--><a href=\"psysml:c508d22c-e466-4361-9854-fd4393e1e853\" target=\"_top\" title=\"psysml:c508d22c-e466-4361-9854-fd4393e1e853\" xlink:actuate=\"onRequest\" xlink:href=\"psysml:c508d22c-e466-4361-9854-fd4393e1e853\" xlink:show=\"new\" xlink:title=\"psysml:c508d22c-e466-4361-9854-fd4393e1e853\" xlink:type=\"simple\"><polygon fill=\"#FFFFFF\" points=\"271,120.72,328,120.72,335,143.0169,474,143.0169,474,500.72,271,500.72,271,120.72\" style=\"stroke: #000000; stroke-width: 1.5;\"/><line style=\"stroke: #000000; stroke-width: 1.5;\" x1=\"271\" x2=\"335\" y1=\"143.0169\" y2=\"143.0169\"/><text fill=\"#000000\" font-family=\"sans-serif\" font-size=\"14\" font-weight=\"bold\" lengthAdjust=\"spacingAndGlyphs\" textLength=\"51\" x=\"275\" y=\"135.7151\">System</text></a><!--MD5=[60a26617385b1d2d0262a64233df1f8d]\n",
       "class E6--><a href=\"psysml:2188fd29-8e87-4428-b2da-0b81f77b2176\" target=\"_top\" title=\"psysml:2188fd29-8e87-4428-b2da-0b81f77b2176\" xlink:actuate=\"onRequest\" xlink:href=\"psysml:2188fd29-8e87-4428-b2da-0b81f77b2176\" xlink:show=\"new\" xlink:title=\"psysml:2188fd29-8e87-4428-b2da-0b81f77b2176\" xlink:type=\"simple\"><rect fill=\"#FFFFFF\" height=\"45.9375\" id=\"E6\" rx=\"10\" ry=\"10\" style=\"stroke: #383838; stroke-width: 1.5;\" width=\"71\" x=\"40.5\" y=\"297.22\"/><text fill=\"#000000\" font-family=\"sans-serif\" font-size=\"12\" font-style=\"italic\" lengthAdjust=\"spacingAndGlyphs\" textLength=\"69\" x=\"41.5\" y=\"313.3587\">«attribute»</text><text fill=\"#000000\" font-family=\"sans-serif\" font-size=\"12\" lengthAdjust=\"spacingAndGlyphs\" textLength=\"6\" x=\"71\" y=\"327.3274\">x</text><line style=\"stroke: #383838; stroke-width: 1.5;\" x1=\"41.5\" x2=\"110.5\" y1=\"335.1575\" y2=\"335.1575\"/></a><!--MD5=[2156ba9850f5573cc1fc38a6a4b2f02b]\n",
       "class E7--><a href=\"psysml:b1dded97-ff7b-4726-be9f-c0b539bbd77d\" target=\"_top\" title=\"psysml:b1dded97-ff7b-4726-be9f-c0b539bbd77d\" xlink:actuate=\"onRequest\" xlink:href=\"psysml:b1dded97-ff7b-4726-be9f-c0b539bbd77d\" xlink:show=\"new\" xlink:title=\"psysml:b1dded97-ff7b-4726-be9f-c0b539bbd77d\" xlink:type=\"simple\"><rect fill=\"#FFFFFF\" height=\"45.9375\" id=\"E7\" rx=\"10\" ry=\"10\" style=\"stroke: #383838; stroke-width: 1.5;\" width=\"71\" x=\"146.5\" y=\"297.22\"/><text fill=\"#000000\" font-family=\"sans-serif\" font-size=\"12\" font-style=\"italic\" lengthAdjust=\"spacingAndGlyphs\" textLength=\"69\" x=\"147.5\" y=\"313.3587\">«attribute»</text><text fill=\"#000000\" font-family=\"sans-serif\" font-size=\"12\" lengthAdjust=\"spacingAndGlyphs\" textLength=\"6\" x=\"177\" y=\"327.3274\">y</text><line style=\"stroke: #383838; stroke-width: 1.5;\" x1=\"147.5\" x2=\"216.5\" y1=\"335.1575\" y2=\"335.1575\"/></a><!--MD5=[b9389687b975829384b498ac4b7476b2]\n",
       "class E8--><a href=\"psysml:215a3247-a6dc-4d80-9cbe-6a95158331ec\" target=\"_top\" title=\"psysml:215a3247-a6dc-4d80-9cbe-6a95158331ec\" xlink:actuate=\"onRequest\" xlink:href=\"psysml:215a3247-a6dc-4d80-9cbe-6a95158331ec\" xlink:show=\"new\" xlink:title=\"psysml:215a3247-a6dc-4d80-9cbe-6a95158331ec\" xlink:type=\"simple\"><rect fill=\"#FFFFFF\" height=\"45.9375\" id=\"E8\" rx=\"10\" ry=\"10\" style=\"stroke: #383838; stroke-width: 1.5;\" width=\"71\" x=\"92.5\" y=\"167.22\"/><text fill=\"#000000\" font-family=\"sans-serif\" font-size=\"12\" font-style=\"italic\" lengthAdjust=\"spacingAndGlyphs\" textLength=\"69\" x=\"93.5\" y=\"183.3587\">«attribute»</text><text fill=\"#000000\" font-family=\"sans-serif\" font-size=\"12\" lengthAdjust=\"spacingAndGlyphs\" textLength=\"5\" x=\"123.5\" y=\"197.3274\">z</text><line style=\"stroke: #383838; stroke-width: 1.5;\" x1=\"93.5\" x2=\"162.5\" y1=\"205.1575\" y2=\"205.1575\"/></a><a href=\"psysml:a9507a9e-eb7a-4860-b8c9-7900feca47e0\" target=\"_top\" title=\"psysml:a9507a9e-eb7a-4860-b8c9-7900feca47e0\" xlink:actuate=\"onRequest\" xlink:href=\"psysml:a9507a9e-eb7a-4860-b8c9-7900feca47e0\" xlink:show=\"new\" xlink:title=\"psysml:a9507a9e-eb7a-4860-b8c9-7900feca47e0\" xlink:type=\"simple\"><polygon fill=\"#FFFFFF\" points=\"314.5,163.72,435.5,163.72,442.5,186.0169,449.5,186.0169,449.5,216.3138,314.5,216.3138,314.5,163.72\" style=\"stroke: #000000; stroke-width: 1.5;\"/><line style=\"stroke: #000000; stroke-width: 1.5;\" x1=\"314.5\" x2=\"442.5\" y1=\"186.0169\" y2=\"186.0169\"/><text fill=\"#000000\" font-family=\"sans-serif\" font-size=\"14\" font-weight=\"bold\" lengthAdjust=\"spacingAndGlyphs\" textLength=\"115\" x=\"318.5\" y=\"178.7151\">Application Layer</text></a><a href=\"psysml:709ed33a-9ff9-4f13-a4b1-f82f2d0ae0d9\" target=\"_top\" title=\"psysml:709ed33a-9ff9-4f13-a4b1-f82f2d0ae0d9\" xlink:actuate=\"onRequest\" xlink:href=\"psysml:709ed33a-9ff9-4f13-a4b1-f82f2d0ae0d9\" xlink:show=\"new\" xlink:title=\"psysml:709ed33a-9ff9-4f13-a4b1-f82f2d0ae0d9\" xlink:type=\"simple\"><polygon fill=\"#FFFFFF\" points=\"327,293.72,423,293.72,430,316.0169,437,316.0169,437,346.3138,327,346.3138,327,293.72\" style=\"stroke: #000000; stroke-width: 1.5;\"/><line style=\"stroke: #000000; stroke-width: 1.5;\" x1=\"327\" x2=\"430\" y1=\"316.0169\" y2=\"316.0169\"/><text fill=\"#000000\" font-family=\"sans-serif\" font-size=\"14\" font-weight=\"bold\" lengthAdjust=\"spacingAndGlyphs\" textLength=\"90\" x=\"331\" y=\"308.7151\">Service Layer</text></a><a href=\"psysml:babd67af-01b8-42b4-9186-2fee6f5cc047\" target=\"_top\" title=\"psysml:babd67af-01b8-42b4-9186-2fee6f5cc047\" xlink:actuate=\"onRequest\" xlink:href=\"psysml:babd67af-01b8-42b4-9186-2fee6f5cc047\" xlink:show=\"new\" xlink:title=\"psysml:babd67af-01b8-42b4-9186-2fee6f5cc047\" xlink:type=\"simple\"><polygon fill=\"#FFFFFF\" points=\"336,423.72,414,423.72,421,446.0169,428,446.0169,428,476.3138,336,476.3138,336,423.72\" style=\"stroke: #000000; stroke-width: 1.5;\"/><line style=\"stroke: #000000; stroke-width: 1.5;\" x1=\"336\" x2=\"421\" y1=\"446.0169\" y2=\"446.0169\"/><text fill=\"#000000\" font-family=\"sans-serif\" font-size=\"14\" font-weight=\"bold\" lengthAdjust=\"spacingAndGlyphs\" textLength=\"72\" x=\"340\" y=\"438.7151\">Data Layer</text></a><!--MD5=[1f1cd8e6dd4c1b2ca2aaccc9b9bcea6e]\n",
       "link E1 to E2--><a href=\"psysml:8155982a-39d3-4776-bb66-97608c5c0d21\" target=\"_top\" title=\"psysml:8155982a-39d3-4776-bb66-97608c5c0d21\" xlink:actuate=\"onRequest\" xlink:href=\"psysml:8155982a-39d3-4776-bb66-97608c5c0d21\" xlink:show=\"new\" xlink:title=\"psysml:8155982a-39d3-4776-bb66-97608c5c0d21\" xlink:type=\"simple\"><path d=\"M279,33.83 C279,36.15 279,73.83 279,111.5 C279,113.8544 279,116.2087 279,118.5544 C279,119.1408 279,119.7267 279,120.3119 \" fill=\"none\" id=\"E1-&gt;E2\" style=\"stroke: #383838; stroke-width: 1.0; stroke-dasharray: 7.0,7.0;\"/><polygon fill=\"#383838\" points=\"279,120.3119,283,111.3119,279,115.3119,275,111.3119,279,120.3119\" style=\"stroke: #383838; stroke-width: 1.0;\"/><text fill=\"#000000\" font-family=\"sans-serif\" font-size=\"13\" lengthAdjust=\"spacingAndGlyphs\" textLength=\"65\" x=\"280\" y=\"76.7869\">«import»*</text></a><!--MD5=[af87c684e3b0d8be13c1a698a818ef1e]\n",
       "link E3 to E4--><a href=\"psysml:339645be-1a7b-490e-bb9e-fc7090e144b0\" target=\"_top\" title=\"psysml:339645be-1a7b-490e-bb9e-fc7090e144b0\" xlink:actuate=\"onRequest\" xlink:href=\"psysml:339645be-1a7b-490e-bb9e-fc7090e144b0\" xlink:show=\"new\" xlink:title=\"psysml:339645be-1a7b-490e-bb9e-fc7090e144b0\" xlink:type=\"simple\"><path d=\"M382,216.82 C382,236.52 382,263.94 382,285.45 \" fill=\"none\" id=\"E3-&gt;E4\" style=\"stroke: #383838; stroke-width: 1.0; stroke-dasharray: 7.0,7.0;\"/><polygon fill=\"#383838\" points=\"382,293.67,385,285.67,379,285.67,382,293.67\" style=\"stroke: #383838; stroke-width: 1.0;\"/><text fill=\"#000000\" font-family=\"sans-serif\" font-size=\"13\" lengthAdjust=\"spacingAndGlyphs\" textLength=\"64\" x=\"383\" y=\"259.7869\">«depend»</text></a><!--MD5=[1b7591eae5389033d8d09a9d6721a717]\n",
       "link E4 to E5--><a href=\"psysml:cd6419af-0f56-471f-8341-f3995db2a676\" target=\"_top\" title=\"psysml:cd6419af-0f56-471f-8341-f3995db2a676\" xlink:actuate=\"onRequest\" xlink:href=\"psysml:cd6419af-0f56-471f-8341-f3995db2a676\" xlink:show=\"new\" xlink:title=\"psysml:cd6419af-0f56-471f-8341-f3995db2a676\" xlink:type=\"simple\"><path d=\"M382,346.82 C382,366.52 382,393.94 382,415.45 \" fill=\"none\" id=\"E4-&gt;E5\" style=\"stroke: #383838; stroke-width: 1.0; stroke-dasharray: 7.0,7.0;\"/><polygon fill=\"#383838\" points=\"382,423.67,385,415.67,379,415.67,382,423.67\" style=\"stroke: #383838; stroke-width: 1.0;\"/><text fill=\"#000000\" font-family=\"sans-serif\" font-size=\"13\" lengthAdjust=\"spacingAndGlyphs\" textLength=\"64\" x=\"383\" y=\"389.7869\">«depend»</text></a><!--MD5=[c5e8897d989ce984f93528998a7150fe]\n",
       "link E8 to E6--><a href=\"psysml:974879a0-be0c-4725-ba74-b00c4a2eaada\" target=\"_top\" title=\"psysml:974879a0-be0c-4725-ba74-b00c4a2eaada\" xlink:actuate=\"onRequest\" xlink:href=\"psysml:974879a0-be0c-4725-ba74-b00c4a2eaada\" xlink:show=\"new\" xlink:title=\"psysml:974879a0-be0c-4725-ba74-b00c4a2eaada\" xlink:type=\"simple\"><path d=\"M97.42,213.32 C87.35,222.4 77.37,233.83 72,246.72 C66.5,259.92 66.66,275.66 68.54,289.1 \" fill=\"none\" id=\"E8-&gt;E6\" style=\"stroke: #383838; stroke-width: 1.0; stroke-dasharray: 7.0,7.0;\"/><polygon fill=\"#383838\" points=\"69.9,297.12,71.517,288.7304,65.6018,289.7359,69.9,297.12\" style=\"stroke: #383838; stroke-width: 1.0;\"/><text fill=\"#000000\" font-family=\"sans-serif\" font-size=\"13\" lengthAdjust=\"spacingAndGlyphs\" textLength=\"64\" x=\"73\" y=\"259.7869\">«depend»</text></a><!--MD5=[bfa3c8b0d15052fdf50ae9310b491027]\n",
       "link E8 to E7--><a href=\"psysml:974879a0-be0c-4725-ba74-b00c4a2eaada\" target=\"_top\" title=\"psysml:974879a0-be0c-4725-ba74-b00c4a2eaada\" xlink:actuate=\"onRequest\" xlink:href=\"psysml:974879a0-be0c-4725-ba74-b00c4a2eaada\" xlink:show=\"new\" xlink:title=\"psysml:974879a0-be0c-4725-ba74-b00c4a2eaada\" xlink:type=\"simple\"><path d=\"M137.28,213.22 C146.17,234.29 159.64,266.22 169.47,289.53 \" fill=\"none\" id=\"E8-&gt;E7\" style=\"stroke: #383838; stroke-width: 1.0; stroke-dasharray: 7.0,7.0;\"/><polygon fill=\"#383838\" points=\"172.66,297.07,172.3241,288.5326,166.7933,290.8585,172.66,297.07\" style=\"stroke: #383838; stroke-width: 1.0;\"/><text fill=\"#000000\" font-family=\"sans-serif\" font-size=\"13\" lengthAdjust=\"spacingAndGlyphs\" textLength=\"64\" x=\"159\" y=\"259.7869\">«depend»</text></a><!--MD5=[4c00749f7aa9e6c7e616a24111219f43]\n",
       "@startuml\r\n",
       " skinparam monochrome true\r\n",
       "skinparam classbackgroundcolor white\r\n",
       "skinparam shadowing false\r\n",
       "skinparam wrapWidth 300\r\n",
       "hide circle\r\n",
       "\r\n",
       "package \"DependencyTest\" as E1  [[psysml:0f0f2110-3be1-453e-862d-cec3a7a71a7a ]]  {\r\n",
       "package \"System\" as E2  [[psysml:c508d22c-e466-4361-9854-fd4393e1e853 ]]  {\r\n",
       "package \"Application Layer\" as E3  [[psysml:a9507a9e-eb7a-4860-b8c9-7900feca47e0 ]]  {\r\n",
       "}\r\n",
       "package \"Service Layer\" as E4  [[psysml:709ed33a-9ff9-4f13-a4b1-f82f2d0ae0d9 ]]  {\r\n",
       "}\r\n",
       "package \"Data Layer\" as E5  [[psysml:babd67af-01b8-42b4-9186-2fee6f5cc047 ]]  {\r\n",
       "}\r\n",
       "}\r\n",
       "comp usage \"x \" as E6  <<(T,blue) attribute>> [[psysml:2188fd29-8e87-4428-b2da-0b81f77b2176 ]] {\r\n",
       "}\r\n",
       "comp usage \"y \" as E7  <<(T,blue) attribute>> [[psysml:b1dded97-ff7b-4726-be9f-c0b539bbd77d ]] {\r\n",
       "}\r\n",
       "comp usage \"z \" as E8  <<(T,blue) attribute>> [[psysml:215a3247-a6dc-4d80-9cbe-6a95158331ec ]] {\r\n",
       "}\r\n",
       "}\r\n",
       "E1 ..> E2 [[psysml:8155982a-39d3-4776-bb66-97608c5c0d21 ]] : <<import>>*\r\n",
       "E3 ..>> E4 [[psysml:339645be-1a7b-490e-bb9e-fc7090e144b0 ]] : <<depend>>\r\n",
       "E4 ..>> E5 [[psysml:cd6419af-0f56-471f-8341-f3995db2a676 ]] : <<depend>>\r\n",
       "E8 ..>> E6 [[psysml:974879a0-be0c-4725-ba74-b00c4a2eaada ]] : <<depend>>\r\n",
       "E8 ..>> E7 [[psysml:974879a0-be0c-4725-ba74-b00c4a2eaada ]] : <<depend>>\r\n",
       "@enduml\r\n",
       "\n",
       "PlantUML version 1.2020.13(Sat Jun 13 12:26:38 UTC 2020)\n",
       "(EPL source distribution)\n",
       "Java Runtime: OpenJDK Runtime Environment\n",
       "JVM: OpenJDK 64-Bit Server VM\n",
       "Default Encoding: UTF-8\n",
       "Language: en\n",
       "Country: null\n",
       "--></g></svg>"
      ]
     },
     "execution_count": 2,
     "metadata": {},
     "output_type": "execute_result"
    }
   ],
   "source": [
    "%viz --style=\"COMPTREE\" --view=\"Default\" \"DependencyTest\""
   ]
  },
  {
   "cell_type": "code",
   "execution_count": 3,
   "id": "e6acf4f7",
   "metadata": {
    "execution": {
     "iopub.execute_input": "2022-08-19T08:17:10.589342Z",
     "iopub.status.busy": "2022-08-19T08:17:10.588853Z",
     "iopub.status.idle": "2022-08-19T08:17:10.655779Z",
     "shell.execute_reply": "2022-08-19T08:17:10.656246Z"
    }
   },
   "outputs": [
    {
     "data": {
      "image/svg+xml": [
       "<?xml version=\"1.0\" encoding=\"UTF-8\" standalone=\"no\"?><svg xmlns=\"http://www.w3.org/2000/svg\" xmlns:xlink=\"http://www.w3.org/1999/xlink\" contentScriptType=\"application/ecmascript\" contentStyleType=\"text/css\" height=\"552px\" preserveAspectRatio=\"none\" style=\"width:536px;height:552px;\" version=\"1.1\" viewBox=\"0 0 536 552\" width=\"536px\" zoomAndPan=\"magnify\"><defs/><g><!--MD5=[fbc87193dbaf4d95561dea2c320d4a47]\n",
       "cluster E1--><a href=\"psysml:0f0f2110-3be1-453e-862d-cec3a7a71a7a\" target=\"_top\" title=\"psysml:0f0f2110-3be1-453e-862d-cec3a7a71a7a\" xlink:actuate=\"onRequest\" xlink:href=\"psysml:0f0f2110-3be1-453e-862d-cec3a7a71a7a\" xlink:show=\"new\" xlink:title=\"psysml:0f0f2110-3be1-453e-862d-cec3a7a71a7a\" xlink:type=\"simple\"><polygon fill=\"#FFFFFF\" points=\"16,6,142,6,149,28.2969,514,28.2969,514,540.72,16,540.72,16,6\" style=\"stroke: #000000; stroke-width: 1.5;\"/><line style=\"stroke: #000000; stroke-width: 1.5;\" x1=\"16\" x2=\"149\" y1=\"28.2969\" y2=\"28.2969\"/><text fill=\"#000000\" font-family=\"sans-serif\" font-size=\"14\" font-weight=\"bold\" lengthAdjust=\"spacingAndGlyphs\" textLength=\"120\" x=\"20\" y=\"20.9951\">DependencyTest</text></a><!--MD5=[e4f7fae6ed58524ba242bb0b0d3be6b7]\n",
       "cluster E2--><a href=\"psysml:c508d22c-e466-4361-9854-fd4393e1e853\" target=\"_top\" title=\"psysml:c508d22c-e466-4361-9854-fd4393e1e853\" xlink:actuate=\"onRequest\" xlink:href=\"psysml:c508d22c-e466-4361-9854-fd4393e1e853\" xlink:show=\"new\" xlink:title=\"psysml:c508d22c-e466-4361-9854-fd4393e1e853\" xlink:type=\"simple\"><polygon fill=\"#FFFFFF\" points=\"271,120.72,328,120.72,335,143.0169,474,143.0169,474,500.72,271,500.72,271,120.72\" style=\"stroke: #000000; stroke-width: 1.5;\"/><line style=\"stroke: #000000; stroke-width: 1.5;\" x1=\"271\" x2=\"335\" y1=\"143.0169\" y2=\"143.0169\"/><text fill=\"#000000\" font-family=\"sans-serif\" font-size=\"14\" font-weight=\"bold\" lengthAdjust=\"spacingAndGlyphs\" textLength=\"51\" x=\"275\" y=\"135.7151\">System</text></a><!--MD5=[60a26617385b1d2d0262a64233df1f8d]\n",
       "class E6--><a href=\"psysml:2188fd29-8e87-4428-b2da-0b81f77b2176\" target=\"_top\" title=\"psysml:2188fd29-8e87-4428-b2da-0b81f77b2176\" xlink:actuate=\"onRequest\" xlink:href=\"psysml:2188fd29-8e87-4428-b2da-0b81f77b2176\" xlink:show=\"new\" xlink:title=\"psysml:2188fd29-8e87-4428-b2da-0b81f77b2176\" xlink:type=\"simple\"><rect fill=\"#FFFFFF\" height=\"45.9375\" id=\"E6\" rx=\"10\" ry=\"10\" style=\"stroke: #383838; stroke-width: 1.5;\" width=\"71\" x=\"40.5\" y=\"297.22\"/><text fill=\"#000000\" font-family=\"sans-serif\" font-size=\"12\" font-style=\"italic\" lengthAdjust=\"spacingAndGlyphs\" textLength=\"69\" x=\"41.5\" y=\"313.3587\">«attribute»</text><text fill=\"#000000\" font-family=\"sans-serif\" font-size=\"12\" lengthAdjust=\"spacingAndGlyphs\" textLength=\"6\" x=\"71\" y=\"327.3274\">x</text><line style=\"stroke: #383838; stroke-width: 1.5;\" x1=\"41.5\" x2=\"110.5\" y1=\"335.1575\" y2=\"335.1575\"/></a><!--MD5=[2156ba9850f5573cc1fc38a6a4b2f02b]\n",
       "class E7--><a href=\"psysml:b1dded97-ff7b-4726-be9f-c0b539bbd77d\" target=\"_top\" title=\"psysml:b1dded97-ff7b-4726-be9f-c0b539bbd77d\" xlink:actuate=\"onRequest\" xlink:href=\"psysml:b1dded97-ff7b-4726-be9f-c0b539bbd77d\" xlink:show=\"new\" xlink:title=\"psysml:b1dded97-ff7b-4726-be9f-c0b539bbd77d\" xlink:type=\"simple\"><rect fill=\"#FFFFFF\" height=\"45.9375\" id=\"E7\" rx=\"10\" ry=\"10\" style=\"stroke: #383838; stroke-width: 1.5;\" width=\"71\" x=\"146.5\" y=\"297.22\"/><text fill=\"#000000\" font-family=\"sans-serif\" font-size=\"12\" font-style=\"italic\" lengthAdjust=\"spacingAndGlyphs\" textLength=\"69\" x=\"147.5\" y=\"313.3587\">«attribute»</text><text fill=\"#000000\" font-family=\"sans-serif\" font-size=\"12\" lengthAdjust=\"spacingAndGlyphs\" textLength=\"6\" x=\"177\" y=\"327.3274\">y</text><line style=\"stroke: #383838; stroke-width: 1.5;\" x1=\"147.5\" x2=\"216.5\" y1=\"335.1575\" y2=\"335.1575\"/></a><!--MD5=[b9389687b975829384b498ac4b7476b2]\n",
       "class E8--><a href=\"psysml:215a3247-a6dc-4d80-9cbe-6a95158331ec\" target=\"_top\" title=\"psysml:215a3247-a6dc-4d80-9cbe-6a95158331ec\" xlink:actuate=\"onRequest\" xlink:href=\"psysml:215a3247-a6dc-4d80-9cbe-6a95158331ec\" xlink:show=\"new\" xlink:title=\"psysml:215a3247-a6dc-4d80-9cbe-6a95158331ec\" xlink:type=\"simple\"><rect fill=\"#FFFFFF\" height=\"45.9375\" id=\"E8\" rx=\"10\" ry=\"10\" style=\"stroke: #383838; stroke-width: 1.5;\" width=\"71\" x=\"92.5\" y=\"167.22\"/><text fill=\"#000000\" font-family=\"sans-serif\" font-size=\"12\" font-style=\"italic\" lengthAdjust=\"spacingAndGlyphs\" textLength=\"69\" x=\"93.5\" y=\"183.3587\">«attribute»</text><text fill=\"#000000\" font-family=\"sans-serif\" font-size=\"12\" lengthAdjust=\"spacingAndGlyphs\" textLength=\"5\" x=\"123.5\" y=\"197.3274\">z</text><line style=\"stroke: #383838; stroke-width: 1.5;\" x1=\"93.5\" x2=\"162.5\" y1=\"205.1575\" y2=\"205.1575\"/></a><a href=\"psysml:a9507a9e-eb7a-4860-b8c9-7900feca47e0\" target=\"_top\" title=\"psysml:a9507a9e-eb7a-4860-b8c9-7900feca47e0\" xlink:actuate=\"onRequest\" xlink:href=\"psysml:a9507a9e-eb7a-4860-b8c9-7900feca47e0\" xlink:show=\"new\" xlink:title=\"psysml:a9507a9e-eb7a-4860-b8c9-7900feca47e0\" xlink:type=\"simple\"><polygon fill=\"#FFFFFF\" points=\"314.5,163.72,435.5,163.72,442.5,186.0169,449.5,186.0169,449.5,216.3138,314.5,216.3138,314.5,163.72\" style=\"stroke: #000000; stroke-width: 1.5;\"/><line style=\"stroke: #000000; stroke-width: 1.5;\" x1=\"314.5\" x2=\"442.5\" y1=\"186.0169\" y2=\"186.0169\"/><text fill=\"#000000\" font-family=\"sans-serif\" font-size=\"14\" font-weight=\"bold\" lengthAdjust=\"spacingAndGlyphs\" textLength=\"115\" x=\"318.5\" y=\"178.7151\">Application Layer</text></a><a href=\"psysml:709ed33a-9ff9-4f13-a4b1-f82f2d0ae0d9\" target=\"_top\" title=\"psysml:709ed33a-9ff9-4f13-a4b1-f82f2d0ae0d9\" xlink:actuate=\"onRequest\" xlink:href=\"psysml:709ed33a-9ff9-4f13-a4b1-f82f2d0ae0d9\" xlink:show=\"new\" xlink:title=\"psysml:709ed33a-9ff9-4f13-a4b1-f82f2d0ae0d9\" xlink:type=\"simple\"><polygon fill=\"#FFFFFF\" points=\"327,293.72,423,293.72,430,316.0169,437,316.0169,437,346.3138,327,346.3138,327,293.72\" style=\"stroke: #000000; stroke-width: 1.5;\"/><line style=\"stroke: #000000; stroke-width: 1.5;\" x1=\"327\" x2=\"430\" y1=\"316.0169\" y2=\"316.0169\"/><text fill=\"#000000\" font-family=\"sans-serif\" font-size=\"14\" font-weight=\"bold\" lengthAdjust=\"spacingAndGlyphs\" textLength=\"90\" x=\"331\" y=\"308.7151\">Service Layer</text></a><a href=\"psysml:babd67af-01b8-42b4-9186-2fee6f5cc047\" target=\"_top\" title=\"psysml:babd67af-01b8-42b4-9186-2fee6f5cc047\" xlink:actuate=\"onRequest\" xlink:href=\"psysml:babd67af-01b8-42b4-9186-2fee6f5cc047\" xlink:show=\"new\" xlink:title=\"psysml:babd67af-01b8-42b4-9186-2fee6f5cc047\" xlink:type=\"simple\"><polygon fill=\"#FFFFFF\" points=\"336,423.72,414,423.72,421,446.0169,428,446.0169,428,476.3138,336,476.3138,336,423.72\" style=\"stroke: #000000; stroke-width: 1.5;\"/><line style=\"stroke: #000000; stroke-width: 1.5;\" x1=\"336\" x2=\"421\" y1=\"446.0169\" y2=\"446.0169\"/><text fill=\"#000000\" font-family=\"sans-serif\" font-size=\"14\" font-weight=\"bold\" lengthAdjust=\"spacingAndGlyphs\" textLength=\"72\" x=\"340\" y=\"438.7151\">Data Layer</text></a><!--MD5=[1f1cd8e6dd4c1b2ca2aaccc9b9bcea6e]\n",
       "link E1 to E2--><a href=\"psysml:8155982a-39d3-4776-bb66-97608c5c0d21\" target=\"_top\" title=\"psysml:8155982a-39d3-4776-bb66-97608c5c0d21\" xlink:actuate=\"onRequest\" xlink:href=\"psysml:8155982a-39d3-4776-bb66-97608c5c0d21\" xlink:show=\"new\" xlink:title=\"psysml:8155982a-39d3-4776-bb66-97608c5c0d21\" xlink:type=\"simple\"><path d=\"M279,33.83 C279,36.15 279,73.83 279,111.5 C279,113.8544 279,116.2087 279,118.5544 C279,119.1408 279,119.7267 279,120.3119 \" fill=\"none\" id=\"E1-&gt;E2\" style=\"stroke: #383838; stroke-width: 1.0; stroke-dasharray: 7.0,7.0;\"/><polygon fill=\"#383838\" points=\"279,120.3119,283,111.3119,279,115.3119,275,111.3119,279,120.3119\" style=\"stroke: #383838; stroke-width: 1.0;\"/><text fill=\"#000000\" font-family=\"sans-serif\" font-size=\"13\" lengthAdjust=\"spacingAndGlyphs\" textLength=\"65\" x=\"280\" y=\"76.7869\">«import»*</text></a><!--MD5=[af87c684e3b0d8be13c1a698a818ef1e]\n",
       "link E3 to E4--><a href=\"psysml:339645be-1a7b-490e-bb9e-fc7090e144b0\" target=\"_top\" title=\"psysml:339645be-1a7b-490e-bb9e-fc7090e144b0\" xlink:actuate=\"onRequest\" xlink:href=\"psysml:339645be-1a7b-490e-bb9e-fc7090e144b0\" xlink:show=\"new\" xlink:title=\"psysml:339645be-1a7b-490e-bb9e-fc7090e144b0\" xlink:type=\"simple\"><path d=\"M382,216.82 C382,236.52 382,263.94 382,285.45 \" fill=\"none\" id=\"E3-&gt;E4\" style=\"stroke: #383838; stroke-width: 1.0; stroke-dasharray: 7.0,7.0;\"/><polygon fill=\"#383838\" points=\"382,293.67,385,285.67,379,285.67,382,293.67\" style=\"stroke: #383838; stroke-width: 1.0;\"/><text fill=\"#000000\" font-family=\"sans-serif\" font-size=\"13\" lengthAdjust=\"spacingAndGlyphs\" textLength=\"64\" x=\"383\" y=\"259.7869\">«depend»</text></a><!--MD5=[1b7591eae5389033d8d09a9d6721a717]\n",
       "link E4 to E5--><a href=\"psysml:cd6419af-0f56-471f-8341-f3995db2a676\" target=\"_top\" title=\"psysml:cd6419af-0f56-471f-8341-f3995db2a676\" xlink:actuate=\"onRequest\" xlink:href=\"psysml:cd6419af-0f56-471f-8341-f3995db2a676\" xlink:show=\"new\" xlink:title=\"psysml:cd6419af-0f56-471f-8341-f3995db2a676\" xlink:type=\"simple\"><path d=\"M382,346.82 C382,366.52 382,393.94 382,415.45 \" fill=\"none\" id=\"E4-&gt;E5\" style=\"stroke: #383838; stroke-width: 1.0; stroke-dasharray: 7.0,7.0;\"/><polygon fill=\"#383838\" points=\"382,423.67,385,415.67,379,415.67,382,423.67\" style=\"stroke: #383838; stroke-width: 1.0;\"/><text fill=\"#000000\" font-family=\"sans-serif\" font-size=\"13\" lengthAdjust=\"spacingAndGlyphs\" textLength=\"64\" x=\"383\" y=\"389.7869\">«depend»</text></a><!--MD5=[c5e8897d989ce984f93528998a7150fe]\n",
       "link E8 to E6--><a href=\"psysml:974879a0-be0c-4725-ba74-b00c4a2eaada\" target=\"_top\" title=\"psysml:974879a0-be0c-4725-ba74-b00c4a2eaada\" xlink:actuate=\"onRequest\" xlink:href=\"psysml:974879a0-be0c-4725-ba74-b00c4a2eaada\" xlink:show=\"new\" xlink:title=\"psysml:974879a0-be0c-4725-ba74-b00c4a2eaada\" xlink:type=\"simple\"><path d=\"M97.42,213.32 C87.35,222.4 77.37,233.83 72,246.72 C66.5,259.92 66.66,275.66 68.54,289.1 \" fill=\"none\" id=\"E8-&gt;E6\" style=\"stroke: #383838; stroke-width: 1.0; stroke-dasharray: 7.0,7.0;\"/><polygon fill=\"#383838\" points=\"69.9,297.12,71.517,288.7304,65.6018,289.7359,69.9,297.12\" style=\"stroke: #383838; stroke-width: 1.0;\"/><text fill=\"#000000\" font-family=\"sans-serif\" font-size=\"13\" lengthAdjust=\"spacingAndGlyphs\" textLength=\"64\" x=\"73\" y=\"259.7869\">«depend»</text></a><!--MD5=[bfa3c8b0d15052fdf50ae9310b491027]\n",
       "link E8 to E7--><a href=\"psysml:974879a0-be0c-4725-ba74-b00c4a2eaada\" target=\"_top\" title=\"psysml:974879a0-be0c-4725-ba74-b00c4a2eaada\" xlink:actuate=\"onRequest\" xlink:href=\"psysml:974879a0-be0c-4725-ba74-b00c4a2eaada\" xlink:show=\"new\" xlink:title=\"psysml:974879a0-be0c-4725-ba74-b00c4a2eaada\" xlink:type=\"simple\"><path d=\"M137.28,213.22 C146.17,234.29 159.64,266.22 169.47,289.53 \" fill=\"none\" id=\"E8-&gt;E7\" style=\"stroke: #383838; stroke-width: 1.0; stroke-dasharray: 7.0,7.0;\"/><polygon fill=\"#383838\" points=\"172.66,297.07,172.3241,288.5326,166.7933,290.8585,172.66,297.07\" style=\"stroke: #383838; stroke-width: 1.0;\"/><text fill=\"#000000\" font-family=\"sans-serif\" font-size=\"13\" lengthAdjust=\"spacingAndGlyphs\" textLength=\"64\" x=\"159\" y=\"259.7869\">«depend»</text></a><!--MD5=[4c00749f7aa9e6c7e616a24111219f43]\n",
       "@startuml\r\n",
       " skinparam monochrome true\r\n",
       "skinparam classbackgroundcolor white\r\n",
       "skinparam shadowing false\r\n",
       "skinparam wrapWidth 300\r\n",
       "hide circle\r\n",
       "\r\n",
       "package \"DependencyTest\" as E1  [[psysml:0f0f2110-3be1-453e-862d-cec3a7a71a7a ]]  {\r\n",
       "package \"System\" as E2  [[psysml:c508d22c-e466-4361-9854-fd4393e1e853 ]]  {\r\n",
       "package \"Application Layer\" as E3  [[psysml:a9507a9e-eb7a-4860-b8c9-7900feca47e0 ]]  {\r\n",
       "}\r\n",
       "package \"Service Layer\" as E4  [[psysml:709ed33a-9ff9-4f13-a4b1-f82f2d0ae0d9 ]]  {\r\n",
       "}\r\n",
       "package \"Data Layer\" as E5  [[psysml:babd67af-01b8-42b4-9186-2fee6f5cc047 ]]  {\r\n",
       "}\r\n",
       "}\r\n",
       "comp usage \"x \" as E6  <<(T,blue) attribute>> [[psysml:2188fd29-8e87-4428-b2da-0b81f77b2176 ]] {\r\n",
       "}\r\n",
       "comp usage \"y \" as E7  <<(T,blue) attribute>> [[psysml:b1dded97-ff7b-4726-be9f-c0b539bbd77d ]] {\r\n",
       "}\r\n",
       "comp usage \"z \" as E8  <<(T,blue) attribute>> [[psysml:215a3247-a6dc-4d80-9cbe-6a95158331ec ]] {\r\n",
       "}\r\n",
       "}\r\n",
       "E1 ..> E2 [[psysml:8155982a-39d3-4776-bb66-97608c5c0d21 ]] : <<import>>*\r\n",
       "E3 ..>> E4 [[psysml:339645be-1a7b-490e-bb9e-fc7090e144b0 ]] : <<depend>>\r\n",
       "E4 ..>> E5 [[psysml:cd6419af-0f56-471f-8341-f3995db2a676 ]] : <<depend>>\r\n",
       "E8 ..>> E6 [[psysml:974879a0-be0c-4725-ba74-b00c4a2eaada ]] : <<depend>>\r\n",
       "E8 ..>> E7 [[psysml:974879a0-be0c-4725-ba74-b00c4a2eaada ]] : <<depend>>\r\n",
       "@enduml\r\n",
       "\n",
       "PlantUML version 1.2020.13(Sat Jun 13 12:26:38 UTC 2020)\n",
       "(EPL source distribution)\n",
       "Java Runtime: OpenJDK Runtime Environment\n",
       "JVM: OpenJDK 64-Bit Server VM\n",
       "Default Encoding: UTF-8\n",
       "Language: en\n",
       "Country: null\n",
       "--></g></svg>"
      ]
     },
     "execution_count": 3,
     "metadata": {},
     "output_type": "execute_result"
    }
   ],
   "source": [
    "%viz --style=\"COMPTREE\" --view=\"Tree\" \"DependencyTest\""
   ]
  },
  {
   "cell_type": "code",
   "execution_count": 4,
   "id": "0c614f2c",
   "metadata": {
    "execution": {
     "iopub.execute_input": "2022-08-19T08:17:10.706128Z",
     "iopub.status.busy": "2022-08-19T08:17:10.705629Z",
     "iopub.status.idle": "2022-08-19T08:17:10.714465Z",
     "shell.execute_reply": "2022-08-19T08:17:10.714798Z"
    }
   },
   "outputs": [
    {
     "data": {
      "image/svg+xml": [
       "<?xml version=\"1.0\" encoding=\"UTF-8\" standalone=\"no\"?><svg xmlns=\"http://www.w3.org/2000/svg\" xmlns:xlink=\"http://www.w3.org/1999/xlink\" contentScriptType=\"application/ecmascript\" contentStyleType=\"text/css\" height=\"12px\" preserveAspectRatio=\"none\" style=\"width:12px;height:12px;\" version=\"1.1\" viewBox=\"0 0 12 12\" width=\"12px\" zoomAndPan=\"magnify\"><defs/><g><!--MD5=[f19188ef49e11757b5c46753f95d9edc]\n",
       "@startuml\r\n",
       " skinparam monochrome true\r\n",
       "skinparam classbackgroundcolor white\r\n",
       "skinparam shadowing false\r\n",
       "skinparam wrapWidth 300\r\n",
       "hide circle\r\n",
       "\r\n",
       "@enduml\r\n",
       "\n",
       "PlantUML version 1.2020.13(Sat Jun 13 12:26:38 UTC 2020)\n",
       "(EPL source distribution)\n",
       "Java Runtime: OpenJDK Runtime Environment\n",
       "JVM: OpenJDK 64-Bit Server VM\n",
       "Default Encoding: UTF-8\n",
       "Language: en\n",
       "Country: null\n",
       "--></g></svg>"
      ]
     },
     "execution_count": 4,
     "metadata": {},
     "output_type": "execute_result"
    }
   ],
   "source": [
    "%viz --style=\"COMPTREE\" --view=\"State\" \"DependencyTest\""
   ]
  },
  {
   "cell_type": "code",
   "execution_count": 5,
   "id": "2c1aaeb4",
   "metadata": {
    "execution": {
     "iopub.execute_input": "2022-08-19T08:17:10.765258Z",
     "iopub.status.busy": "2022-08-19T08:17:10.764769Z",
     "iopub.status.idle": "2022-08-19T08:17:10.823890Z",
     "shell.execute_reply": "2022-08-19T08:17:10.823468Z"
    }
   },
   "outputs": [
    {
     "data": {
      "image/svg+xml": [
       "<?xml version=\"1.0\" encoding=\"UTF-8\" standalone=\"no\"?><svg xmlns=\"http://www.w3.org/2000/svg\" xmlns:xlink=\"http://www.w3.org/1999/xlink\" contentScriptType=\"application/ecmascript\" contentStyleType=\"text/css\" height=\"442px\" preserveAspectRatio=\"none\" style=\"width:536px;height:442px;\" version=\"1.1\" viewBox=\"0 0 536 442\" width=\"536px\" zoomAndPan=\"magnify\"><defs/><g><!--MD5=[fbc87193dbaf4d95561dea2c320d4a47]\n",
       "cluster E1--><a href=\"psysml:0f0f2110-3be1-453e-862d-cec3a7a71a7a\" target=\"_top\" title=\"psysml:0f0f2110-3be1-453e-862d-cec3a7a71a7a\" xlink:actuate=\"onRequest\" xlink:href=\"psysml:0f0f2110-3be1-453e-862d-cec3a7a71a7a\" xlink:show=\"new\" xlink:title=\"psysml:0f0f2110-3be1-453e-862d-cec3a7a71a7a\" xlink:type=\"simple\"><polygon fill=\"#FFFFFF\" points=\"16,6,142,6,149,28.2969,514,28.2969,514,430.72,16,430.72,16,6\" style=\"stroke: #000000; stroke-width: 1.5;\"/><line style=\"stroke: #000000; stroke-width: 1.5;\" x1=\"16\" x2=\"149\" y1=\"28.2969\" y2=\"28.2969\"/><text fill=\"#000000\" font-family=\"sans-serif\" font-size=\"14\" font-weight=\"bold\" lengthAdjust=\"spacingAndGlyphs\" textLength=\"120\" x=\"20\" y=\"20.9951\">DependencyTest</text></a><!--MD5=[e4f7fae6ed58524ba242bb0b0d3be6b7]\n",
       "cluster E2--><a href=\"psysml:c508d22c-e466-4361-9854-fd4393e1e853\" target=\"_top\" title=\"psysml:c508d22c-e466-4361-9854-fd4393e1e853\" xlink:actuate=\"onRequest\" xlink:href=\"psysml:c508d22c-e466-4361-9854-fd4393e1e853\" xlink:show=\"new\" xlink:title=\"psysml:c508d22c-e466-4361-9854-fd4393e1e853\" xlink:type=\"simple\"><polygon fill=\"#FFFFFF\" points=\"271,98.72,328,98.72,335,121.0169,474,121.0169,474,390.72,271,390.72,271,98.72\" style=\"stroke: #000000; stroke-width: 1.5;\"/><line style=\"stroke: #000000; stroke-width: 1.5;\" x1=\"271\" x2=\"335\" y1=\"121.0169\" y2=\"121.0169\"/><text fill=\"#000000\" font-family=\"sans-serif\" font-size=\"14\" font-weight=\"bold\" lengthAdjust=\"spacingAndGlyphs\" textLength=\"51\" x=\"275\" y=\"113.7151\">System</text></a><!--MD5=[60a26617385b1d2d0262a64233df1f8d]\n",
       "class E6--><a href=\"psysml:2188fd29-8e87-4428-b2da-0b81f77b2176\" target=\"_top\" title=\"psysml:2188fd29-8e87-4428-b2da-0b81f77b2176\" xlink:actuate=\"onRequest\" xlink:href=\"psysml:2188fd29-8e87-4428-b2da-0b81f77b2176\" xlink:show=\"new\" xlink:title=\"psysml:2188fd29-8e87-4428-b2da-0b81f77b2176\" xlink:type=\"simple\"><rect fill=\"#FFFFFF\" height=\"45.9375\" id=\"E6\" rx=\"10\" ry=\"10\" style=\"stroke: #383838; stroke-width: 1.5;\" width=\"71\" x=\"40.5\" y=\"231.22\"/><text fill=\"#000000\" font-family=\"sans-serif\" font-size=\"12\" font-style=\"italic\" lengthAdjust=\"spacingAndGlyphs\" textLength=\"69\" x=\"41.5\" y=\"247.3587\">«attribute»</text><text fill=\"#000000\" font-family=\"sans-serif\" font-size=\"12\" lengthAdjust=\"spacingAndGlyphs\" textLength=\"6\" x=\"71\" y=\"261.3274\">x</text><line style=\"stroke: #383838; stroke-width: 1.5;\" x1=\"41.5\" x2=\"110.5\" y1=\"269.1575\" y2=\"269.1575\"/></a><!--MD5=[2156ba9850f5573cc1fc38a6a4b2f02b]\n",
       "class E7--><a href=\"psysml:b1dded97-ff7b-4726-be9f-c0b539bbd77d\" target=\"_top\" title=\"psysml:b1dded97-ff7b-4726-be9f-c0b539bbd77d\" xlink:actuate=\"onRequest\" xlink:href=\"psysml:b1dded97-ff7b-4726-be9f-c0b539bbd77d\" xlink:show=\"new\" xlink:title=\"psysml:b1dded97-ff7b-4726-be9f-c0b539bbd77d\" xlink:type=\"simple\"><rect fill=\"#FFFFFF\" height=\"45.9375\" id=\"E7\" rx=\"10\" ry=\"10\" style=\"stroke: #383838; stroke-width: 1.5;\" width=\"71\" x=\"146.5\" y=\"231.22\"/><text fill=\"#000000\" font-family=\"sans-serif\" font-size=\"12\" font-style=\"italic\" lengthAdjust=\"spacingAndGlyphs\" textLength=\"69\" x=\"147.5\" y=\"247.3587\">«attribute»</text><text fill=\"#000000\" font-family=\"sans-serif\" font-size=\"12\" lengthAdjust=\"spacingAndGlyphs\" textLength=\"6\" x=\"177\" y=\"261.3274\">y</text><line style=\"stroke: #383838; stroke-width: 1.5;\" x1=\"147.5\" x2=\"216.5\" y1=\"269.1575\" y2=\"269.1575\"/></a><!--MD5=[b9389687b975829384b498ac4b7476b2]\n",
       "class E8--><a href=\"psysml:215a3247-a6dc-4d80-9cbe-6a95158331ec\" target=\"_top\" title=\"psysml:215a3247-a6dc-4d80-9cbe-6a95158331ec\" xlink:actuate=\"onRequest\" xlink:href=\"psysml:215a3247-a6dc-4d80-9cbe-6a95158331ec\" xlink:show=\"new\" xlink:title=\"psysml:215a3247-a6dc-4d80-9cbe-6a95158331ec\" xlink:type=\"simple\"><rect fill=\"#FFFFFF\" height=\"45.9375\" id=\"E8\" rx=\"10\" ry=\"10\" style=\"stroke: #383838; stroke-width: 1.5;\" width=\"71\" x=\"92.5\" y=\"145.22\"/><text fill=\"#000000\" font-family=\"sans-serif\" font-size=\"12\" font-style=\"italic\" lengthAdjust=\"spacingAndGlyphs\" textLength=\"69\" x=\"93.5\" y=\"161.3587\">«attribute»</text><text fill=\"#000000\" font-family=\"sans-serif\" font-size=\"12\" lengthAdjust=\"spacingAndGlyphs\" textLength=\"5\" x=\"123.5\" y=\"175.3274\">z</text><line style=\"stroke: #383838; stroke-width: 1.5;\" x1=\"93.5\" x2=\"162.5\" y1=\"183.1575\" y2=\"183.1575\"/></a><a href=\"psysml:a9507a9e-eb7a-4860-b8c9-7900feca47e0\" target=\"_top\" title=\"psysml:a9507a9e-eb7a-4860-b8c9-7900feca47e0\" xlink:actuate=\"onRequest\" xlink:href=\"psysml:a9507a9e-eb7a-4860-b8c9-7900feca47e0\" xlink:show=\"new\" xlink:title=\"psysml:a9507a9e-eb7a-4860-b8c9-7900feca47e0\" xlink:type=\"simple\"><polygon fill=\"#FFFFFF\" points=\"314.5,141.72,435.5,141.72,442.5,164.0169,449.5,164.0169,449.5,194.3138,314.5,194.3138,314.5,141.72\" style=\"stroke: #000000; stroke-width: 1.5;\"/><line style=\"stroke: #000000; stroke-width: 1.5;\" x1=\"314.5\" x2=\"442.5\" y1=\"164.0169\" y2=\"164.0169\"/><text fill=\"#000000\" font-family=\"sans-serif\" font-size=\"14\" font-weight=\"bold\" lengthAdjust=\"spacingAndGlyphs\" textLength=\"115\" x=\"318.5\" y=\"156.7151\">Application Layer</text></a><a href=\"psysml:709ed33a-9ff9-4f13-a4b1-f82f2d0ae0d9\" target=\"_top\" title=\"psysml:709ed33a-9ff9-4f13-a4b1-f82f2d0ae0d9\" xlink:actuate=\"onRequest\" xlink:href=\"psysml:709ed33a-9ff9-4f13-a4b1-f82f2d0ae0d9\" xlink:show=\"new\" xlink:title=\"psysml:709ed33a-9ff9-4f13-a4b1-f82f2d0ae0d9\" xlink:type=\"simple\"><polygon fill=\"#FFFFFF\" points=\"327,227.72,423,227.72,430,250.0169,437,250.0169,437,280.3138,327,280.3138,327,227.72\" style=\"stroke: #000000; stroke-width: 1.5;\"/><line style=\"stroke: #000000; stroke-width: 1.5;\" x1=\"327\" x2=\"430\" y1=\"250.0169\" y2=\"250.0169\"/><text fill=\"#000000\" font-family=\"sans-serif\" font-size=\"14\" font-weight=\"bold\" lengthAdjust=\"spacingAndGlyphs\" textLength=\"90\" x=\"331\" y=\"242.7151\">Service Layer</text></a><a href=\"psysml:babd67af-01b8-42b4-9186-2fee6f5cc047\" target=\"_top\" title=\"psysml:babd67af-01b8-42b4-9186-2fee6f5cc047\" xlink:actuate=\"onRequest\" xlink:href=\"psysml:babd67af-01b8-42b4-9186-2fee6f5cc047\" xlink:show=\"new\" xlink:title=\"psysml:babd67af-01b8-42b4-9186-2fee6f5cc047\" xlink:type=\"simple\"><polygon fill=\"#FFFFFF\" points=\"336,313.72,414,313.72,421,336.0169,428,336.0169,428,366.3138,336,366.3138,336,313.72\" style=\"stroke: #000000; stroke-width: 1.5;\"/><line style=\"stroke: #000000; stroke-width: 1.5;\" x1=\"336\" x2=\"421\" y1=\"336.0169\" y2=\"336.0169\"/><text fill=\"#000000\" font-family=\"sans-serif\" font-size=\"14\" font-weight=\"bold\" lengthAdjust=\"spacingAndGlyphs\" textLength=\"72\" x=\"340\" y=\"328.7151\">Data Layer</text></a><!--MD5=[1f1cd8e6dd4c1b2ca2aaccc9b9bcea6e]\n",
       "link E1 to E2--><a href=\"psysml:8155982a-39d3-4776-bb66-97608c5c0d21\" target=\"_top\" title=\"psysml:8155982a-39d3-4776-bb66-97608c5c0d21\" xlink:actuate=\"onRequest\" xlink:href=\"psysml:8155982a-39d3-4776-bb66-97608c5c0d21\" xlink:show=\"new\" xlink:title=\"psysml:8155982a-39d3-4776-bb66-97608c5c0d21\" xlink:type=\"simple\"><path d=\"M279,33.82 C279,34.815 279,43.3994 279,55.7775 C279,61.9666 279,69.1041 279,76.7155 C279,80.5213 279,84.4455 279,88.429 C279,90.4207 279,92.4272 279,94.4411 C279,95.448 279,96.4568 279,97.4665 C279,97.719 279,97.9714 279,98.224 \" fill=\"none\" id=\"E1-&gt;E2\" style=\"stroke: #383838; stroke-width: 1.0; stroke-dasharray: 7.0,7.0;\"/><polygon fill=\"#383838\" points=\"279,98.224,283,89.224,279,93.224,275,89.224,279,98.224\" style=\"stroke: #383838; stroke-width: 1.0;\"/><text fill=\"#000000\" font-family=\"sans-serif\" font-size=\"13\" lengthAdjust=\"spacingAndGlyphs\" textLength=\"65\" x=\"280\" y=\"54.7869\">«import»*</text></a><!--MD5=[af87c684e3b0d8be13c1a698a818ef1e]\n",
       "link E3 to E4--><a href=\"psysml:339645be-1a7b-490e-bb9e-fc7090e144b0\" target=\"_top\" title=\"psysml:339645be-1a7b-490e-bb9e-fc7090e144b0\" xlink:actuate=\"onRequest\" xlink:href=\"psysml:339645be-1a7b-490e-bb9e-fc7090e144b0\" xlink:show=\"new\" xlink:title=\"psysml:339645be-1a7b-490e-bb9e-fc7090e144b0\" xlink:type=\"simple\"><path d=\"M382,194.88 C382,202.7 382,211.41 382,219.66 \" fill=\"none\" id=\"E3-&gt;E4\" style=\"stroke: #383838; stroke-width: 1.0; stroke-dasharray: 7.0,7.0;\"/><polygon fill=\"#383838\" points=\"382,227.72,385,219.72,379,219.72,382,227.72\" style=\"stroke: #383838; stroke-width: 1.0;\"/><text fill=\"#000000\" font-family=\"sans-serif\" font-size=\"13\" lengthAdjust=\"spacingAndGlyphs\" textLength=\"64\" x=\"383\" y=\"215.7869\">«depend»</text></a><!--MD5=[1b7591eae5389033d8d09a9d6721a717]\n",
       "link E4 to E5--><a href=\"psysml:cd6419af-0f56-471f-8341-f3995db2a676\" target=\"_top\" title=\"psysml:cd6419af-0f56-471f-8341-f3995db2a676\" xlink:actuate=\"onRequest\" xlink:href=\"psysml:cd6419af-0f56-471f-8341-f3995db2a676\" xlink:show=\"new\" xlink:title=\"psysml:cd6419af-0f56-471f-8341-f3995db2a676\" xlink:type=\"simple\"><path d=\"M382,280.88 C382,288.7 382,297.41 382,305.66 \" fill=\"none\" id=\"E4-&gt;E5\" style=\"stroke: #383838; stroke-width: 1.0; stroke-dasharray: 7.0,7.0;\"/><polygon fill=\"#383838\" points=\"382,313.72,385,305.72,379,305.72,382,313.72\" style=\"stroke: #383838; stroke-width: 1.0;\"/><text fill=\"#000000\" font-family=\"sans-serif\" font-size=\"13\" lengthAdjust=\"spacingAndGlyphs\" textLength=\"64\" x=\"383\" y=\"301.7869\">«depend»</text></a><!--MD5=[c5e8897d989ce984f93528998a7150fe]\n",
       "link E8 to E6--><a href=\"psysml:974879a0-be0c-4725-ba74-b00c4a2eaada\" target=\"_top\" title=\"psysml:974879a0-be0c-4725-ba74-b00c4a2eaada\" xlink:actuate=\"onRequest\" xlink:href=\"psysml:974879a0-be0c-4725-ba74-b00c4a2eaada\" xlink:show=\"new\" xlink:title=\"psysml:974879a0-be0c-4725-ba74-b00c4a2eaada\" xlink:type=\"simple\"><path d=\"M92.49,183.06 C84.34,187.99 76.69,194.44 72,202.72 C68.54,208.82 67.62,216.03 68,223.05 \" fill=\"none\" id=\"E8-&gt;E6\" style=\"stroke: #383838; stroke-width: 1.0; stroke-dasharray: 7.0,7.0;\"/><polygon fill=\"#383838\" points=\"68.97,231.14,71.0061,222.8421,65.0479,223.5494,68.97,231.14\" style=\"stroke: #383838; stroke-width: 1.0;\"/><text fill=\"#000000\" font-family=\"sans-serif\" font-size=\"13\" lengthAdjust=\"spacingAndGlyphs\" textLength=\"64\" x=\"73\" y=\"215.7869\">«depend»</text></a><!--MD5=[bfa3c8b0d15052fdf50ae9310b491027]\n",
       "link E8 to E7--><a href=\"psysml:974879a0-be0c-4725-ba74-b00c4a2eaada\" target=\"_top\" title=\"psysml:974879a0-be0c-4725-ba74-b00c4a2eaada\" xlink:actuate=\"onRequest\" xlink:href=\"psysml:974879a0-be0c-4725-ba74-b00c4a2eaada\" xlink:show=\"new\" xlink:title=\"psysml:974879a0-be0c-4725-ba74-b00c4a2eaada\" xlink:type=\"simple\"><path d=\"M142.19,191.29 C148.65,201.34 156.38,213.37 163.31,224.14 \" fill=\"none\" id=\"E8-&gt;E7\" style=\"stroke: #383838; stroke-width: 1.0; stroke-dasharray: 7.0,7.0;\"/><polygon fill=\"#383838\" points=\"167.72,231.01,165.9148,222.6589,160.8688,225.905,167.72,231.01\" style=\"stroke: #383838; stroke-width: 1.0;\"/><text fill=\"#000000\" font-family=\"sans-serif\" font-size=\"13\" lengthAdjust=\"spacingAndGlyphs\" textLength=\"64\" x=\"160\" y=\"215.7869\">«depend»</text></a><!--MD5=[78e199ab346b4e138f9bcc3ffe2fab5d]\n",
       "@startuml\r\n",
       "skinparam ranksep 10\r\n",
       "skinparam rectangle {\r\n",
       " backgroundColor<<block>> LightGreen\r\n",
       "}\r\n",
       " skinparam monochrome true\r\n",
       "skinparam classbackgroundcolor white\r\n",
       "skinparam shadowing false\r\n",
       "skinparam wrapWidth 300\r\n",
       "hide circle\r\n",
       "\r\n",
       "package \"DependencyTest\" as E1  [[psysml:0f0f2110-3be1-453e-862d-cec3a7a71a7a ]]  {\r\n",
       "package \"System\" as E2  [[psysml:c508d22c-e466-4361-9854-fd4393e1e853 ]]  {\r\n",
       "package \"Application Layer\" as E3  [[psysml:a9507a9e-eb7a-4860-b8c9-7900feca47e0 ]]  {\r\n",
       "}\r\n",
       "package \"Service Layer\" as E4  [[psysml:709ed33a-9ff9-4f13-a4b1-f82f2d0ae0d9 ]]  {\r\n",
       "}\r\n",
       "package \"Data Layer\" as E5  [[psysml:babd67af-01b8-42b4-9186-2fee6f5cc047 ]]  {\r\n",
       "}\r\n",
       "}\r\n",
       "comp usage \"x \" as E6  <<(T,blue) attribute>> [[psysml:2188fd29-8e87-4428-b2da-0b81f77b2176 ]] {\r\n",
       "}\r\n",
       "comp usage \"y \" as E7  <<(T,blue) attribute>> [[psysml:b1dded97-ff7b-4726-be9f-c0b539bbd77d ]] {\r\n",
       "}\r\n",
       "comp usage \"z \" as E8  <<(T,blue) attribute>> [[psysml:215a3247-a6dc-4d80-9cbe-6a95158331ec ]] {\r\n",
       "}\r\n",
       "}\r\n",
       "E1 ..> E2 [[psysml:8155982a-39d3-4776-bb66-97608c5c0d21 ]] : <<import>>*\r\n",
       "E3 ..>> E4 [[psysml:339645be-1a7b-490e-bb9e-fc7090e144b0 ]] : <<depend>>\r\n",
       "E4 ..>> E5 [[psysml:cd6419af-0f56-471f-8341-f3995db2a676 ]] : <<depend>>\r\n",
       "E8 ..>> E6 [[psysml:974879a0-be0c-4725-ba74-b00c4a2eaada ]] : <<depend>>\r\n",
       "E8 ..>> E7 [[psysml:974879a0-be0c-4725-ba74-b00c4a2eaada ]] : <<depend>>\r\n",
       "@enduml\r\n",
       "\n",
       "PlantUML version 1.2020.13(Sat Jun 13 12:26:38 UTC 2020)\n",
       "(EPL source distribution)\n",
       "Java Runtime: OpenJDK Runtime Environment\n",
       "JVM: OpenJDK 64-Bit Server VM\n",
       "Default Encoding: UTF-8\n",
       "Language: en\n",
       "Country: null\n",
       "--></g></svg>"
      ]
     },
     "execution_count": 5,
     "metadata": {},
     "output_type": "execute_result"
    }
   ],
   "source": [
    "%viz --style=\"COMPTREE\" --view=\"Interconnection\" \"DependencyTest\""
   ]
  },
  {
   "cell_type": "code",
   "execution_count": 6,
   "id": "582e4019",
   "metadata": {
    "execution": {
     "iopub.execute_input": "2022-08-19T08:17:10.873705Z",
     "iopub.status.busy": "2022-08-19T08:17:10.873252Z",
     "iopub.status.idle": "2022-08-19T08:17:10.881398Z",
     "shell.execute_reply": "2022-08-19T08:17:10.881722Z"
    }
   },
   "outputs": [
    {
     "data": {
      "image/svg+xml": [
       "<?xml version=\"1.0\" encoding=\"UTF-8\" standalone=\"no\"?><svg xmlns=\"http://www.w3.org/2000/svg\" xmlns:xlink=\"http://www.w3.org/1999/xlink\" contentScriptType=\"application/ecmascript\" contentStyleType=\"text/css\" height=\"12px\" preserveAspectRatio=\"none\" style=\"width:12px;height:12px;\" version=\"1.1\" viewBox=\"0 0 12 12\" width=\"12px\" zoomAndPan=\"magnify\"><defs/><g><!--MD5=[655b888544ca4751ea36af1068543f84]\n",
       "@startuml\r\n",
       "skinparam ranksep 8\r\n",
       " skinparam monochrome true\r\n",
       "skinparam classbackgroundcolor white\r\n",
       "skinparam shadowing false\r\n",
       "skinparam wrapWidth 300\r\n",
       "hide circle\r\n",
       "\r\n",
       "@enduml\r\n",
       "\n",
       "PlantUML version 1.2020.13(Sat Jun 13 12:26:38 UTC 2020)\n",
       "(EPL source distribution)\n",
       "Java Runtime: OpenJDK Runtime Environment\n",
       "JVM: OpenJDK 64-Bit Server VM\n",
       "Default Encoding: UTF-8\n",
       "Language: en\n",
       "Country: null\n",
       "--></g></svg>"
      ]
     },
     "execution_count": 6,
     "metadata": {},
     "output_type": "execute_result"
    }
   ],
   "source": [
    "%viz --style=\"COMPTREE\" --view=\"Action\" \"DependencyTest\""
   ]
  },
  {
   "cell_type": "code",
   "execution_count": 7,
   "id": "e1140715",
   "metadata": {
    "execution": {
     "iopub.execute_input": "2022-08-19T08:17:10.932156Z",
     "iopub.status.busy": "2022-08-19T08:17:10.931614Z",
     "iopub.status.idle": "2022-08-19T08:17:10.944323Z",
     "shell.execute_reply": "2022-08-19T08:17:10.944649Z"
    }
   },
   "outputs": [
    {
     "data": {
      "image/svg+xml": [
       "<?xml version=\"1.0\" encoding=\"UTF-8\" standalone=\"no\"?><svg xmlns=\"http://www.w3.org/2000/svg\" xmlns:xlink=\"http://www.w3.org/1999/xlink\" contentScriptType=\"application/ecmascript\" contentStyleType=\"text/css\" height=\"12px\" preserveAspectRatio=\"none\" style=\"width:12px;height:12px;\" version=\"1.1\" viewBox=\"0 0 12 12\" width=\"12px\" zoomAndPan=\"magnify\"><defs/><g><!--MD5=[803fc46c337be7a5c8a9831e35356779]\n",
       "@startuml\r\n",
       "skinparam roundcorner 20\r\n",
       "skinparam BoxPadding 20\r\n",
       "skinparam SequenceBoxBackgroundColor #white\r\n",
       "skinparam style strictuml\r\n",
       "skinparam maxMessageSize 100\r\n",
       " skinparam monochrome true\r\n",
       "skinparam classbackgroundcolor white\r\n",
       "skinparam shadowing false\r\n",
       "skinparam wrapWidth 300\r\n",
       "hide circle\r\n",
       "\r\n",
       "@enduml\r\n",
       "\n",
       "PlantUML version 1.2020.13(Sat Jun 13 12:26:38 UTC 2020)\n",
       "(EPL source distribution)\n",
       "Java Runtime: OpenJDK Runtime Environment\n",
       "JVM: OpenJDK 64-Bit Server VM\n",
       "Default Encoding: UTF-8\n",
       "Language: en\n",
       "Country: null\n",
       "--></g></svg>"
      ]
     },
     "execution_count": 7,
     "metadata": {},
     "output_type": "execute_result"
    }
   ],
   "source": [
    "%viz --style=\"COMPTREE\" --view=\"Sequence\" \"DependencyTest\""
   ]
  },
  {
   "cell_type": "code",
   "execution_count": 8,
   "id": "aa04cf95",
   "metadata": {
    "execution": {
     "iopub.execute_input": "2022-08-19T08:17:10.995208Z",
     "iopub.status.busy": "2022-08-19T08:17:10.994734Z",
     "iopub.status.idle": "2022-08-19T08:17:11.047389Z",
     "shell.execute_reply": "2022-08-19T08:17:11.046976Z"
    }
   },
   "outputs": [
    {
     "data": {
      "image/svg+xml": [
       "<?xml version=\"1.0\" encoding=\"UTF-8\" standalone=\"no\"?><svg xmlns=\"http://www.w3.org/2000/svg\" xmlns:xlink=\"http://www.w3.org/1999/xlink\" contentScriptType=\"application/ecmascript\" contentStyleType=\"text/css\" height=\"552px\" preserveAspectRatio=\"none\" style=\"width:536px;height:552px;\" version=\"1.1\" viewBox=\"0 0 536 552\" width=\"536px\" zoomAndPan=\"magnify\"><defs/><g><!--MD5=[fbc87193dbaf4d95561dea2c320d4a47]\n",
       "cluster E1--><a href=\"psysml:0f0f2110-3be1-453e-862d-cec3a7a71a7a\" target=\"_top\" title=\"psysml:0f0f2110-3be1-453e-862d-cec3a7a71a7a\" xlink:actuate=\"onRequest\" xlink:href=\"psysml:0f0f2110-3be1-453e-862d-cec3a7a71a7a\" xlink:show=\"new\" xlink:title=\"psysml:0f0f2110-3be1-453e-862d-cec3a7a71a7a\" xlink:type=\"simple\"><polygon fill=\"#FFFFFF\" points=\"16,6,142,6,149,28.2969,514,28.2969,514,540.72,16,540.72,16,6\" style=\"stroke: #000000; stroke-width: 1.5;\"/><line style=\"stroke: #000000; stroke-width: 1.5;\" x1=\"16\" x2=\"149\" y1=\"28.2969\" y2=\"28.2969\"/><text fill=\"#000000\" font-family=\"sans-serif\" font-size=\"14\" font-weight=\"bold\" lengthAdjust=\"spacingAndGlyphs\" textLength=\"120\" x=\"20\" y=\"20.9951\">DependencyTest</text></a><!--MD5=[e4f7fae6ed58524ba242bb0b0d3be6b7]\n",
       "cluster E2--><a href=\"psysml:c508d22c-e466-4361-9854-fd4393e1e853\" target=\"_top\" title=\"psysml:c508d22c-e466-4361-9854-fd4393e1e853\" xlink:actuate=\"onRequest\" xlink:href=\"psysml:c508d22c-e466-4361-9854-fd4393e1e853\" xlink:show=\"new\" xlink:title=\"psysml:c508d22c-e466-4361-9854-fd4393e1e853\" xlink:type=\"simple\"><polygon fill=\"#FFFFFF\" points=\"271,120.72,328,120.72,335,143.0169,474,143.0169,474,500.72,271,500.72,271,120.72\" style=\"stroke: #000000; stroke-width: 1.5;\"/><line style=\"stroke: #000000; stroke-width: 1.5;\" x1=\"271\" x2=\"335\" y1=\"143.0169\" y2=\"143.0169\"/><text fill=\"#000000\" font-family=\"sans-serif\" font-size=\"14\" font-weight=\"bold\" lengthAdjust=\"spacingAndGlyphs\" textLength=\"51\" x=\"275\" y=\"135.7151\">System</text></a><!--MD5=[60a26617385b1d2d0262a64233df1f8d]\n",
       "class E6--><a href=\"psysml:2188fd29-8e87-4428-b2da-0b81f77b2176\" target=\"_top\" title=\"psysml:2188fd29-8e87-4428-b2da-0b81f77b2176\" xlink:actuate=\"onRequest\" xlink:href=\"psysml:2188fd29-8e87-4428-b2da-0b81f77b2176\" xlink:show=\"new\" xlink:title=\"psysml:2188fd29-8e87-4428-b2da-0b81f77b2176\" xlink:type=\"simple\"><rect fill=\"#FFFFFF\" height=\"45.9375\" id=\"E6\" rx=\"10\" ry=\"10\" style=\"stroke: #383838; stroke-width: 1.5;\" width=\"71\" x=\"40.5\" y=\"297.22\"/><text fill=\"#000000\" font-family=\"sans-serif\" font-size=\"12\" font-style=\"italic\" lengthAdjust=\"spacingAndGlyphs\" textLength=\"69\" x=\"41.5\" y=\"313.3587\">«attribute»</text><text fill=\"#000000\" font-family=\"sans-serif\" font-size=\"12\" lengthAdjust=\"spacingAndGlyphs\" textLength=\"6\" x=\"71\" y=\"327.3274\">x</text><line style=\"stroke: #383838; stroke-width: 1.5;\" x1=\"41.5\" x2=\"110.5\" y1=\"335.1575\" y2=\"335.1575\"/></a><!--MD5=[2156ba9850f5573cc1fc38a6a4b2f02b]\n",
       "class E7--><a href=\"psysml:b1dded97-ff7b-4726-be9f-c0b539bbd77d\" target=\"_top\" title=\"psysml:b1dded97-ff7b-4726-be9f-c0b539bbd77d\" xlink:actuate=\"onRequest\" xlink:href=\"psysml:b1dded97-ff7b-4726-be9f-c0b539bbd77d\" xlink:show=\"new\" xlink:title=\"psysml:b1dded97-ff7b-4726-be9f-c0b539bbd77d\" xlink:type=\"simple\"><rect fill=\"#FFFFFF\" height=\"45.9375\" id=\"E7\" rx=\"10\" ry=\"10\" style=\"stroke: #383838; stroke-width: 1.5;\" width=\"71\" x=\"146.5\" y=\"297.22\"/><text fill=\"#000000\" font-family=\"sans-serif\" font-size=\"12\" font-style=\"italic\" lengthAdjust=\"spacingAndGlyphs\" textLength=\"69\" x=\"147.5\" y=\"313.3587\">«attribute»</text><text fill=\"#000000\" font-family=\"sans-serif\" font-size=\"12\" lengthAdjust=\"spacingAndGlyphs\" textLength=\"6\" x=\"177\" y=\"327.3274\">y</text><line style=\"stroke: #383838; stroke-width: 1.5;\" x1=\"147.5\" x2=\"216.5\" y1=\"335.1575\" y2=\"335.1575\"/></a><!--MD5=[b9389687b975829384b498ac4b7476b2]\n",
       "class E8--><a href=\"psysml:215a3247-a6dc-4d80-9cbe-6a95158331ec\" target=\"_top\" title=\"psysml:215a3247-a6dc-4d80-9cbe-6a95158331ec\" xlink:actuate=\"onRequest\" xlink:href=\"psysml:215a3247-a6dc-4d80-9cbe-6a95158331ec\" xlink:show=\"new\" xlink:title=\"psysml:215a3247-a6dc-4d80-9cbe-6a95158331ec\" xlink:type=\"simple\"><rect fill=\"#FFFFFF\" height=\"45.9375\" id=\"E8\" rx=\"10\" ry=\"10\" style=\"stroke: #383838; stroke-width: 1.5;\" width=\"71\" x=\"92.5\" y=\"167.22\"/><text fill=\"#000000\" font-family=\"sans-serif\" font-size=\"12\" font-style=\"italic\" lengthAdjust=\"spacingAndGlyphs\" textLength=\"69\" x=\"93.5\" y=\"183.3587\">«attribute»</text><text fill=\"#000000\" font-family=\"sans-serif\" font-size=\"12\" lengthAdjust=\"spacingAndGlyphs\" textLength=\"5\" x=\"123.5\" y=\"197.3274\">z</text><line style=\"stroke: #383838; stroke-width: 1.5;\" x1=\"93.5\" x2=\"162.5\" y1=\"205.1575\" y2=\"205.1575\"/></a><a href=\"psysml:a9507a9e-eb7a-4860-b8c9-7900feca47e0\" target=\"_top\" title=\"psysml:a9507a9e-eb7a-4860-b8c9-7900feca47e0\" xlink:actuate=\"onRequest\" xlink:href=\"psysml:a9507a9e-eb7a-4860-b8c9-7900feca47e0\" xlink:show=\"new\" xlink:title=\"psysml:a9507a9e-eb7a-4860-b8c9-7900feca47e0\" xlink:type=\"simple\"><polygon fill=\"#FFFFFF\" points=\"314.5,163.72,435.5,163.72,442.5,186.0169,449.5,186.0169,449.5,216.3138,314.5,216.3138,314.5,163.72\" style=\"stroke: #000000; stroke-width: 1.5;\"/><line style=\"stroke: #000000; stroke-width: 1.5;\" x1=\"314.5\" x2=\"442.5\" y1=\"186.0169\" y2=\"186.0169\"/><text fill=\"#000000\" font-family=\"sans-serif\" font-size=\"14\" font-weight=\"bold\" lengthAdjust=\"spacingAndGlyphs\" textLength=\"115\" x=\"318.5\" y=\"178.7151\">Application Layer</text></a><a href=\"psysml:709ed33a-9ff9-4f13-a4b1-f82f2d0ae0d9\" target=\"_top\" title=\"psysml:709ed33a-9ff9-4f13-a4b1-f82f2d0ae0d9\" xlink:actuate=\"onRequest\" xlink:href=\"psysml:709ed33a-9ff9-4f13-a4b1-f82f2d0ae0d9\" xlink:show=\"new\" xlink:title=\"psysml:709ed33a-9ff9-4f13-a4b1-f82f2d0ae0d9\" xlink:type=\"simple\"><polygon fill=\"#FFFFFF\" points=\"327,293.72,423,293.72,430,316.0169,437,316.0169,437,346.3138,327,346.3138,327,293.72\" style=\"stroke: #000000; stroke-width: 1.5;\"/><line style=\"stroke: #000000; stroke-width: 1.5;\" x1=\"327\" x2=\"430\" y1=\"316.0169\" y2=\"316.0169\"/><text fill=\"#000000\" font-family=\"sans-serif\" font-size=\"14\" font-weight=\"bold\" lengthAdjust=\"spacingAndGlyphs\" textLength=\"90\" x=\"331\" y=\"308.7151\">Service Layer</text></a><a href=\"psysml:babd67af-01b8-42b4-9186-2fee6f5cc047\" target=\"_top\" title=\"psysml:babd67af-01b8-42b4-9186-2fee6f5cc047\" xlink:actuate=\"onRequest\" xlink:href=\"psysml:babd67af-01b8-42b4-9186-2fee6f5cc047\" xlink:show=\"new\" xlink:title=\"psysml:babd67af-01b8-42b4-9186-2fee6f5cc047\" xlink:type=\"simple\"><polygon fill=\"#FFFFFF\" points=\"336,423.72,414,423.72,421,446.0169,428,446.0169,428,476.3138,336,476.3138,336,423.72\" style=\"stroke: #000000; stroke-width: 1.5;\"/><line style=\"stroke: #000000; stroke-width: 1.5;\" x1=\"336\" x2=\"421\" y1=\"446.0169\" y2=\"446.0169\"/><text fill=\"#000000\" font-family=\"sans-serif\" font-size=\"14\" font-weight=\"bold\" lengthAdjust=\"spacingAndGlyphs\" textLength=\"72\" x=\"340\" y=\"438.7151\">Data Layer</text></a><!--MD5=[1f1cd8e6dd4c1b2ca2aaccc9b9bcea6e]\n",
       "link E1 to E2--><a href=\"psysml:8155982a-39d3-4776-bb66-97608c5c0d21\" target=\"_top\" title=\"psysml:8155982a-39d3-4776-bb66-97608c5c0d21\" xlink:actuate=\"onRequest\" xlink:href=\"psysml:8155982a-39d3-4776-bb66-97608c5c0d21\" xlink:show=\"new\" xlink:title=\"psysml:8155982a-39d3-4776-bb66-97608c5c0d21\" xlink:type=\"simple\"><path d=\"M279,33.83 C279,36.15 279,73.83 279,111.5 C279,113.8544 279,116.2087 279,118.5544 C279,119.1408 279,119.7267 279,120.3119 \" fill=\"none\" id=\"E1-&gt;E2\" style=\"stroke: #383838; stroke-width: 1.0; stroke-dasharray: 7.0,7.0;\"/><polygon fill=\"#383838\" points=\"279,120.3119,283,111.3119,279,115.3119,275,111.3119,279,120.3119\" style=\"stroke: #383838; stroke-width: 1.0;\"/><text fill=\"#000000\" font-family=\"sans-serif\" font-size=\"13\" lengthAdjust=\"spacingAndGlyphs\" textLength=\"65\" x=\"280\" y=\"76.7869\">«import»*</text></a><!--MD5=[af87c684e3b0d8be13c1a698a818ef1e]\n",
       "link E3 to E4--><a href=\"psysml:339645be-1a7b-490e-bb9e-fc7090e144b0\" target=\"_top\" title=\"psysml:339645be-1a7b-490e-bb9e-fc7090e144b0\" xlink:actuate=\"onRequest\" xlink:href=\"psysml:339645be-1a7b-490e-bb9e-fc7090e144b0\" xlink:show=\"new\" xlink:title=\"psysml:339645be-1a7b-490e-bb9e-fc7090e144b0\" xlink:type=\"simple\"><path d=\"M382,216.82 C382,236.52 382,263.94 382,285.45 \" fill=\"none\" id=\"E3-&gt;E4\" style=\"stroke: #383838; stroke-width: 1.0; stroke-dasharray: 7.0,7.0;\"/><polygon fill=\"#383838\" points=\"382,293.67,385,285.67,379,285.67,382,293.67\" style=\"stroke: #383838; stroke-width: 1.0;\"/><text fill=\"#000000\" font-family=\"sans-serif\" font-size=\"13\" lengthAdjust=\"spacingAndGlyphs\" textLength=\"64\" x=\"383\" y=\"259.7869\">«depend»</text></a><!--MD5=[1b7591eae5389033d8d09a9d6721a717]\n",
       "link E4 to E5--><a href=\"psysml:cd6419af-0f56-471f-8341-f3995db2a676\" target=\"_top\" title=\"psysml:cd6419af-0f56-471f-8341-f3995db2a676\" xlink:actuate=\"onRequest\" xlink:href=\"psysml:cd6419af-0f56-471f-8341-f3995db2a676\" xlink:show=\"new\" xlink:title=\"psysml:cd6419af-0f56-471f-8341-f3995db2a676\" xlink:type=\"simple\"><path d=\"M382,346.82 C382,366.52 382,393.94 382,415.45 \" fill=\"none\" id=\"E4-&gt;E5\" style=\"stroke: #383838; stroke-width: 1.0; stroke-dasharray: 7.0,7.0;\"/><polygon fill=\"#383838\" points=\"382,423.67,385,415.67,379,415.67,382,423.67\" style=\"stroke: #383838; stroke-width: 1.0;\"/><text fill=\"#000000\" font-family=\"sans-serif\" font-size=\"13\" lengthAdjust=\"spacingAndGlyphs\" textLength=\"64\" x=\"383\" y=\"389.7869\">«depend»</text></a><!--MD5=[c5e8897d989ce984f93528998a7150fe]\n",
       "link E8 to E6--><a href=\"psysml:974879a0-be0c-4725-ba74-b00c4a2eaada\" target=\"_top\" title=\"psysml:974879a0-be0c-4725-ba74-b00c4a2eaada\" xlink:actuate=\"onRequest\" xlink:href=\"psysml:974879a0-be0c-4725-ba74-b00c4a2eaada\" xlink:show=\"new\" xlink:title=\"psysml:974879a0-be0c-4725-ba74-b00c4a2eaada\" xlink:type=\"simple\"><path d=\"M97.42,213.32 C87.35,222.4 77.37,233.83 72,246.72 C66.5,259.92 66.66,275.66 68.54,289.1 \" fill=\"none\" id=\"E8-&gt;E6\" style=\"stroke: #383838; stroke-width: 1.0; stroke-dasharray: 7.0,7.0;\"/><polygon fill=\"#383838\" points=\"69.9,297.12,71.517,288.7304,65.6018,289.7359,69.9,297.12\" style=\"stroke: #383838; stroke-width: 1.0;\"/><text fill=\"#000000\" font-family=\"sans-serif\" font-size=\"13\" lengthAdjust=\"spacingAndGlyphs\" textLength=\"64\" x=\"73\" y=\"259.7869\">«depend»</text></a><!--MD5=[bfa3c8b0d15052fdf50ae9310b491027]\n",
       "link E8 to E7--><a href=\"psysml:974879a0-be0c-4725-ba74-b00c4a2eaada\" target=\"_top\" title=\"psysml:974879a0-be0c-4725-ba74-b00c4a2eaada\" xlink:actuate=\"onRequest\" xlink:href=\"psysml:974879a0-be0c-4725-ba74-b00c4a2eaada\" xlink:show=\"new\" xlink:title=\"psysml:974879a0-be0c-4725-ba74-b00c4a2eaada\" xlink:type=\"simple\"><path d=\"M137.28,213.22 C146.17,234.29 159.64,266.22 169.47,289.53 \" fill=\"none\" id=\"E8-&gt;E7\" style=\"stroke: #383838; stroke-width: 1.0; stroke-dasharray: 7.0,7.0;\"/><polygon fill=\"#383838\" points=\"172.66,297.07,172.3241,288.5326,166.7933,290.8585,172.66,297.07\" style=\"stroke: #383838; stroke-width: 1.0;\"/><text fill=\"#000000\" font-family=\"sans-serif\" font-size=\"13\" lengthAdjust=\"spacingAndGlyphs\" textLength=\"64\" x=\"159\" y=\"259.7869\">«depend»</text></a><!--MD5=[4c00749f7aa9e6c7e616a24111219f43]\n",
       "@startuml\r\n",
       " skinparam monochrome true\r\n",
       "skinparam classbackgroundcolor white\r\n",
       "skinparam shadowing false\r\n",
       "skinparam wrapWidth 300\r\n",
       "hide circle\r\n",
       "\r\n",
       "package \"DependencyTest\" as E1  [[psysml:0f0f2110-3be1-453e-862d-cec3a7a71a7a ]]  {\r\n",
       "package \"System\" as E2  [[psysml:c508d22c-e466-4361-9854-fd4393e1e853 ]]  {\r\n",
       "package \"Application Layer\" as E3  [[psysml:a9507a9e-eb7a-4860-b8c9-7900feca47e0 ]]  {\r\n",
       "}\r\n",
       "package \"Service Layer\" as E4  [[psysml:709ed33a-9ff9-4f13-a4b1-f82f2d0ae0d9 ]]  {\r\n",
       "}\r\n",
       "package \"Data Layer\" as E5  [[psysml:babd67af-01b8-42b4-9186-2fee6f5cc047 ]]  {\r\n",
       "}\r\n",
       "}\r\n",
       "comp usage \"x \" as E6  <<(T,blue) attribute>> [[psysml:2188fd29-8e87-4428-b2da-0b81f77b2176 ]] {\r\n",
       "}\r\n",
       "comp usage \"y \" as E7  <<(T,blue) attribute>> [[psysml:b1dded97-ff7b-4726-be9f-c0b539bbd77d ]] {\r\n",
       "}\r\n",
       "comp usage \"z \" as E8  <<(T,blue) attribute>> [[psysml:215a3247-a6dc-4d80-9cbe-6a95158331ec ]] {\r\n",
       "}\r\n",
       "}\r\n",
       "E1 ..> E2 [[psysml:8155982a-39d3-4776-bb66-97608c5c0d21 ]] : <<import>>*\r\n",
       "E3 ..>> E4 [[psysml:339645be-1a7b-490e-bb9e-fc7090e144b0 ]] : <<depend>>\r\n",
       "E4 ..>> E5 [[psysml:cd6419af-0f56-471f-8341-f3995db2a676 ]] : <<depend>>\r\n",
       "E8 ..>> E6 [[psysml:974879a0-be0c-4725-ba74-b00c4a2eaada ]] : <<depend>>\r\n",
       "E8 ..>> E7 [[psysml:974879a0-be0c-4725-ba74-b00c4a2eaada ]] : <<depend>>\r\n",
       "@enduml\r\n",
       "\n",
       "PlantUML version 1.2020.13(Sat Jun 13 12:26:38 UTC 2020)\n",
       "(EPL source distribution)\n",
       "Java Runtime: OpenJDK Runtime Environment\n",
       "JVM: OpenJDK 64-Bit Server VM\n",
       "Default Encoding: UTF-8\n",
       "Language: en\n",
       "Country: null\n",
       "--></g></svg>"
      ]
     },
     "execution_count": 8,
     "metadata": {},
     "output_type": "execute_result"
    }
   ],
   "source": [
    "%viz --style=\"COMPTREE\" --view=\"MIXED\" \"DependencyTest\""
   ]
  },
  {
   "cell_type": "code",
   "execution_count": 9,
   "id": "22fd1efc",
   "metadata": {
    "execution": {
     "iopub.execute_input": "2022-08-19T08:17:11.097494Z",
     "iopub.status.busy": "2022-08-19T08:17:11.097024Z",
     "iopub.status.idle": "2022-08-19T08:17:11.144364Z",
     "shell.execute_reply": "2022-08-19T08:17:11.143955Z"
    }
   },
   "outputs": [
    {
     "data": {
      "image/svg+xml": [
       "<?xml version=\"1.0\" encoding=\"UTF-8\" standalone=\"no\"?><svg xmlns=\"http://www.w3.org/2000/svg\" xmlns:xlink=\"http://www.w3.org/1999/xlink\" contentScriptType=\"application/ecmascript\" contentStyleType=\"text/css\" height=\"552px\" preserveAspectRatio=\"none\" style=\"width:536px;height:552px;\" version=\"1.1\" viewBox=\"0 0 536 552\" width=\"536px\" zoomAndPan=\"magnify\"><defs/><g><!--MD5=[fbc87193dbaf4d95561dea2c320d4a47]\n",
       "cluster E1--><a href=\"psysml:0f0f2110-3be1-453e-862d-cec3a7a71a7a\" target=\"_top\" title=\"psysml:0f0f2110-3be1-453e-862d-cec3a7a71a7a\" xlink:actuate=\"onRequest\" xlink:href=\"psysml:0f0f2110-3be1-453e-862d-cec3a7a71a7a\" xlink:show=\"new\" xlink:title=\"psysml:0f0f2110-3be1-453e-862d-cec3a7a71a7a\" xlink:type=\"simple\"><polygon fill=\"#FFFFFF\" points=\"16,6,142,6,149,28.2969,514,28.2969,514,540.72,16,540.72,16,6\" style=\"stroke: #000000; stroke-width: 1.5;\"/><line style=\"stroke: #000000; stroke-width: 1.5;\" x1=\"16\" x2=\"149\" y1=\"28.2969\" y2=\"28.2969\"/><text fill=\"#000000\" font-family=\"sans-serif\" font-size=\"14\" font-weight=\"bold\" lengthAdjust=\"spacingAndGlyphs\" textLength=\"120\" x=\"20\" y=\"20.9951\">DependencyTest</text></a><!--MD5=[e4f7fae6ed58524ba242bb0b0d3be6b7]\n",
       "cluster E2--><a href=\"psysml:c508d22c-e466-4361-9854-fd4393e1e853\" target=\"_top\" title=\"psysml:c508d22c-e466-4361-9854-fd4393e1e853\" xlink:actuate=\"onRequest\" xlink:href=\"psysml:c508d22c-e466-4361-9854-fd4393e1e853\" xlink:show=\"new\" xlink:title=\"psysml:c508d22c-e466-4361-9854-fd4393e1e853\" xlink:type=\"simple\"><polygon fill=\"#FFFFFF\" points=\"271,120.72,328,120.72,335,143.0169,474,143.0169,474,500.72,271,500.72,271,120.72\" style=\"stroke: #000000; stroke-width: 1.5;\"/><line style=\"stroke: #000000; stroke-width: 1.5;\" x1=\"271\" x2=\"335\" y1=\"143.0169\" y2=\"143.0169\"/><text fill=\"#000000\" font-family=\"sans-serif\" font-size=\"14\" font-weight=\"bold\" lengthAdjust=\"spacingAndGlyphs\" textLength=\"51\" x=\"275\" y=\"135.7151\">System</text></a><!--MD5=[60a26617385b1d2d0262a64233df1f8d]\n",
       "class E6--><a href=\"psysml:2188fd29-8e87-4428-b2da-0b81f77b2176\" target=\"_top\" title=\"psysml:2188fd29-8e87-4428-b2da-0b81f77b2176\" xlink:actuate=\"onRequest\" xlink:href=\"psysml:2188fd29-8e87-4428-b2da-0b81f77b2176\" xlink:show=\"new\" xlink:title=\"psysml:2188fd29-8e87-4428-b2da-0b81f77b2176\" xlink:type=\"simple\"><rect fill=\"#FFFFFF\" height=\"45.9375\" id=\"E6\" rx=\"10\" ry=\"10\" style=\"stroke: #383838; stroke-width: 1.5;\" width=\"71\" x=\"40.5\" y=\"297.22\"/><text fill=\"#000000\" font-family=\"sans-serif\" font-size=\"12\" font-style=\"italic\" lengthAdjust=\"spacingAndGlyphs\" textLength=\"69\" x=\"41.5\" y=\"313.3587\">«attribute»</text><text fill=\"#000000\" font-family=\"sans-serif\" font-size=\"12\" lengthAdjust=\"spacingAndGlyphs\" textLength=\"6\" x=\"71\" y=\"327.3274\">x</text><line style=\"stroke: #383838; stroke-width: 1.5;\" x1=\"41.5\" x2=\"110.5\" y1=\"335.1575\" y2=\"335.1575\"/></a><!--MD5=[2156ba9850f5573cc1fc38a6a4b2f02b]\n",
       "class E7--><a href=\"psysml:b1dded97-ff7b-4726-be9f-c0b539bbd77d\" target=\"_top\" title=\"psysml:b1dded97-ff7b-4726-be9f-c0b539bbd77d\" xlink:actuate=\"onRequest\" xlink:href=\"psysml:b1dded97-ff7b-4726-be9f-c0b539bbd77d\" xlink:show=\"new\" xlink:title=\"psysml:b1dded97-ff7b-4726-be9f-c0b539bbd77d\" xlink:type=\"simple\"><rect fill=\"#FFFFFF\" height=\"45.9375\" id=\"E7\" rx=\"10\" ry=\"10\" style=\"stroke: #383838; stroke-width: 1.5;\" width=\"71\" x=\"146.5\" y=\"297.22\"/><text fill=\"#000000\" font-family=\"sans-serif\" font-size=\"12\" font-style=\"italic\" lengthAdjust=\"spacingAndGlyphs\" textLength=\"69\" x=\"147.5\" y=\"313.3587\">«attribute»</text><text fill=\"#000000\" font-family=\"sans-serif\" font-size=\"12\" lengthAdjust=\"spacingAndGlyphs\" textLength=\"6\" x=\"177\" y=\"327.3274\">y</text><line style=\"stroke: #383838; stroke-width: 1.5;\" x1=\"147.5\" x2=\"216.5\" y1=\"335.1575\" y2=\"335.1575\"/></a><!--MD5=[b9389687b975829384b498ac4b7476b2]\n",
       "class E8--><a href=\"psysml:215a3247-a6dc-4d80-9cbe-6a95158331ec\" target=\"_top\" title=\"psysml:215a3247-a6dc-4d80-9cbe-6a95158331ec\" xlink:actuate=\"onRequest\" xlink:href=\"psysml:215a3247-a6dc-4d80-9cbe-6a95158331ec\" xlink:show=\"new\" xlink:title=\"psysml:215a3247-a6dc-4d80-9cbe-6a95158331ec\" xlink:type=\"simple\"><rect fill=\"#FFFFFF\" height=\"45.9375\" id=\"E8\" rx=\"10\" ry=\"10\" style=\"stroke: #383838; stroke-width: 1.5;\" width=\"71\" x=\"92.5\" y=\"167.22\"/><text fill=\"#000000\" font-family=\"sans-serif\" font-size=\"12\" font-style=\"italic\" lengthAdjust=\"spacingAndGlyphs\" textLength=\"69\" x=\"93.5\" y=\"183.3587\">«attribute»</text><text fill=\"#000000\" font-family=\"sans-serif\" font-size=\"12\" lengthAdjust=\"spacingAndGlyphs\" textLength=\"5\" x=\"123.5\" y=\"197.3274\">z</text><line style=\"stroke: #383838; stroke-width: 1.5;\" x1=\"93.5\" x2=\"162.5\" y1=\"205.1575\" y2=\"205.1575\"/></a><a href=\"psysml:a9507a9e-eb7a-4860-b8c9-7900feca47e0\" target=\"_top\" title=\"psysml:a9507a9e-eb7a-4860-b8c9-7900feca47e0\" xlink:actuate=\"onRequest\" xlink:href=\"psysml:a9507a9e-eb7a-4860-b8c9-7900feca47e0\" xlink:show=\"new\" xlink:title=\"psysml:a9507a9e-eb7a-4860-b8c9-7900feca47e0\" xlink:type=\"simple\"><polygon fill=\"#FFFFFF\" points=\"314.5,163.72,435.5,163.72,442.5,186.0169,449.5,186.0169,449.5,216.3138,314.5,216.3138,314.5,163.72\" style=\"stroke: #000000; stroke-width: 1.5;\"/><line style=\"stroke: #000000; stroke-width: 1.5;\" x1=\"314.5\" x2=\"442.5\" y1=\"186.0169\" y2=\"186.0169\"/><text fill=\"#000000\" font-family=\"sans-serif\" font-size=\"14\" font-weight=\"bold\" lengthAdjust=\"spacingAndGlyphs\" textLength=\"115\" x=\"318.5\" y=\"178.7151\">Application Layer</text></a><a href=\"psysml:709ed33a-9ff9-4f13-a4b1-f82f2d0ae0d9\" target=\"_top\" title=\"psysml:709ed33a-9ff9-4f13-a4b1-f82f2d0ae0d9\" xlink:actuate=\"onRequest\" xlink:href=\"psysml:709ed33a-9ff9-4f13-a4b1-f82f2d0ae0d9\" xlink:show=\"new\" xlink:title=\"psysml:709ed33a-9ff9-4f13-a4b1-f82f2d0ae0d9\" xlink:type=\"simple\"><polygon fill=\"#FFFFFF\" points=\"327,293.72,423,293.72,430,316.0169,437,316.0169,437,346.3138,327,346.3138,327,293.72\" style=\"stroke: #000000; stroke-width: 1.5;\"/><line style=\"stroke: #000000; stroke-width: 1.5;\" x1=\"327\" x2=\"430\" y1=\"316.0169\" y2=\"316.0169\"/><text fill=\"#000000\" font-family=\"sans-serif\" font-size=\"14\" font-weight=\"bold\" lengthAdjust=\"spacingAndGlyphs\" textLength=\"90\" x=\"331\" y=\"308.7151\">Service Layer</text></a><a href=\"psysml:babd67af-01b8-42b4-9186-2fee6f5cc047\" target=\"_top\" title=\"psysml:babd67af-01b8-42b4-9186-2fee6f5cc047\" xlink:actuate=\"onRequest\" xlink:href=\"psysml:babd67af-01b8-42b4-9186-2fee6f5cc047\" xlink:show=\"new\" xlink:title=\"psysml:babd67af-01b8-42b4-9186-2fee6f5cc047\" xlink:type=\"simple\"><polygon fill=\"#FFFFFF\" points=\"336,423.72,414,423.72,421,446.0169,428,446.0169,428,476.3138,336,476.3138,336,423.72\" style=\"stroke: #000000; stroke-width: 1.5;\"/><line style=\"stroke: #000000; stroke-width: 1.5;\" x1=\"336\" x2=\"421\" y1=\"446.0169\" y2=\"446.0169\"/><text fill=\"#000000\" font-family=\"sans-serif\" font-size=\"14\" font-weight=\"bold\" lengthAdjust=\"spacingAndGlyphs\" textLength=\"72\" x=\"340\" y=\"438.7151\">Data Layer</text></a><!--MD5=[1f1cd8e6dd4c1b2ca2aaccc9b9bcea6e]\n",
       "link E1 to E2--><a href=\"psysml:8155982a-39d3-4776-bb66-97608c5c0d21\" target=\"_top\" title=\"psysml:8155982a-39d3-4776-bb66-97608c5c0d21\" xlink:actuate=\"onRequest\" xlink:href=\"psysml:8155982a-39d3-4776-bb66-97608c5c0d21\" xlink:show=\"new\" xlink:title=\"psysml:8155982a-39d3-4776-bb66-97608c5c0d21\" xlink:type=\"simple\"><path d=\"M279,33.83 C279,36.15 279,73.83 279,111.5 C279,113.8544 279,116.2087 279,118.5544 C279,119.1408 279,119.7267 279,120.3119 \" fill=\"none\" id=\"E1-&gt;E2\" style=\"stroke: #383838; stroke-width: 1.0; stroke-dasharray: 7.0,7.0;\"/><polygon fill=\"#383838\" points=\"279,120.3119,283,111.3119,279,115.3119,275,111.3119,279,120.3119\" style=\"stroke: #383838; stroke-width: 1.0;\"/><text fill=\"#000000\" font-family=\"sans-serif\" font-size=\"13\" lengthAdjust=\"spacingAndGlyphs\" textLength=\"65\" x=\"280\" y=\"76.7869\">«import»*</text></a><!--MD5=[af87c684e3b0d8be13c1a698a818ef1e]\n",
       "link E3 to E4--><a href=\"psysml:339645be-1a7b-490e-bb9e-fc7090e144b0\" target=\"_top\" title=\"psysml:339645be-1a7b-490e-bb9e-fc7090e144b0\" xlink:actuate=\"onRequest\" xlink:href=\"psysml:339645be-1a7b-490e-bb9e-fc7090e144b0\" xlink:show=\"new\" xlink:title=\"psysml:339645be-1a7b-490e-bb9e-fc7090e144b0\" xlink:type=\"simple\"><path d=\"M382,216.82 C382,236.52 382,263.94 382,285.45 \" fill=\"none\" id=\"E3-&gt;E4\" style=\"stroke: #383838; stroke-width: 1.0; stroke-dasharray: 7.0,7.0;\"/><polygon fill=\"#383838\" points=\"382,293.67,385,285.67,379,285.67,382,293.67\" style=\"stroke: #383838; stroke-width: 1.0;\"/><text fill=\"#000000\" font-family=\"sans-serif\" font-size=\"13\" lengthAdjust=\"spacingAndGlyphs\" textLength=\"64\" x=\"383\" y=\"259.7869\">«depend»</text></a><!--MD5=[1b7591eae5389033d8d09a9d6721a717]\n",
       "link E4 to E5--><a href=\"psysml:cd6419af-0f56-471f-8341-f3995db2a676\" target=\"_top\" title=\"psysml:cd6419af-0f56-471f-8341-f3995db2a676\" xlink:actuate=\"onRequest\" xlink:href=\"psysml:cd6419af-0f56-471f-8341-f3995db2a676\" xlink:show=\"new\" xlink:title=\"psysml:cd6419af-0f56-471f-8341-f3995db2a676\" xlink:type=\"simple\"><path d=\"M382,346.82 C382,366.52 382,393.94 382,415.45 \" fill=\"none\" id=\"E4-&gt;E5\" style=\"stroke: #383838; stroke-width: 1.0; stroke-dasharray: 7.0,7.0;\"/><polygon fill=\"#383838\" points=\"382,423.67,385,415.67,379,415.67,382,423.67\" style=\"stroke: #383838; stroke-width: 1.0;\"/><text fill=\"#000000\" font-family=\"sans-serif\" font-size=\"13\" lengthAdjust=\"spacingAndGlyphs\" textLength=\"64\" x=\"383\" y=\"389.7869\">«depend»</text></a><!--MD5=[c5e8897d989ce984f93528998a7150fe]\n",
       "link E8 to E6--><a href=\"psysml:974879a0-be0c-4725-ba74-b00c4a2eaada\" target=\"_top\" title=\"psysml:974879a0-be0c-4725-ba74-b00c4a2eaada\" xlink:actuate=\"onRequest\" xlink:href=\"psysml:974879a0-be0c-4725-ba74-b00c4a2eaada\" xlink:show=\"new\" xlink:title=\"psysml:974879a0-be0c-4725-ba74-b00c4a2eaada\" xlink:type=\"simple\"><path d=\"M105.55,213.47 C89.97,228.91 72,246.72 72,246.72 C72,246.72 72,263.72 72,263.72 C72,263.72 72.88,275.93 73.81,288.9 \" fill=\"none\" id=\"E8-&gt;E6\" style=\"stroke: #383838; stroke-width: 1.0; stroke-dasharray: 7.0,7.0;\"/><polygon fill=\"#383838\" points=\"74.4,296.97,76.8203,288.776,70.8357,289.205,74.4,296.97\" style=\"stroke: #383838; stroke-width: 1.0;\"/><text fill=\"#000000\" font-family=\"sans-serif\" font-size=\"13\" lengthAdjust=\"spacingAndGlyphs\" textLength=\"64\" x=\"73\" y=\"259.7869\">«depend»</text></a><!--MD5=[bfa3c8b0d15052fdf50ae9310b491027]\n",
       "link E8 to E7--><a href=\"psysml:974879a0-be0c-4725-ba74-b00c4a2eaada\" target=\"_top\" title=\"psysml:974879a0-be0c-4725-ba74-b00c4a2eaada\" xlink:actuate=\"onRequest\" xlink:href=\"psysml:974879a0-be0c-4725-ba74-b00c4a2eaada\" xlink:show=\"new\" xlink:title=\"psysml:974879a0-be0c-4725-ba74-b00c4a2eaada\" xlink:type=\"simple\"><path d=\"M137.28,213.22 C146.17,234.29 159.64,266.22 169.47,289.53 \" fill=\"none\" id=\"E8-&gt;E7\" style=\"stroke: #383838; stroke-width: 1.0; stroke-dasharray: 7.0,7.0;\"/><polygon fill=\"#383838\" points=\"172.66,297.07,172.3241,288.5326,166.7933,290.8585,172.66,297.07\" style=\"stroke: #383838; stroke-width: 1.0;\"/><text fill=\"#000000\" font-family=\"sans-serif\" font-size=\"13\" lengthAdjust=\"spacingAndGlyphs\" textLength=\"64\" x=\"159\" y=\"259.7869\">«depend»</text></a><!--MD5=[6bb8eb447b939b2b5e62be174acdcee4]\n",
       "@startuml\r\n",
       "skinparam linetype polyline\r\n",
       "skinparam monochrome true\r\n",
       "skinparam classbackgroundcolor white\r\n",
       "skinparam shadowing false\r\n",
       "skinparam wrapWidth 300\r\n",
       "hide circle\r\n",
       "\r\n",
       "package \"DependencyTest\" as E1  [[psysml:0f0f2110-3be1-453e-862d-cec3a7a71a7a ]]  {\r\n",
       "package \"System\" as E2  [[psysml:c508d22c-e466-4361-9854-fd4393e1e853 ]]  {\r\n",
       "package \"Application Layer\" as E3  [[psysml:a9507a9e-eb7a-4860-b8c9-7900feca47e0 ]]  {\r\n",
       "}\r\n",
       "package \"Service Layer\" as E4  [[psysml:709ed33a-9ff9-4f13-a4b1-f82f2d0ae0d9 ]]  {\r\n",
       "}\r\n",
       "package \"Data Layer\" as E5  [[psysml:babd67af-01b8-42b4-9186-2fee6f5cc047 ]]  {\r\n",
       "}\r\n",
       "}\r\n",
       "comp usage \"x \" as E6  <<(T,blue) attribute>> [[psysml:2188fd29-8e87-4428-b2da-0b81f77b2176 ]] {\r\n",
       "}\r\n",
       "comp usage \"y \" as E7  <<(T,blue) attribute>> [[psysml:b1dded97-ff7b-4726-be9f-c0b539bbd77d ]] {\r\n",
       "}\r\n",
       "comp usage \"z \" as E8  <<(T,blue) attribute>> [[psysml:215a3247-a6dc-4d80-9cbe-6a95158331ec ]] {\r\n",
       "}\r\n",
       "}\r\n",
       "E1 ..> E2 [[psysml:8155982a-39d3-4776-bb66-97608c5c0d21 ]] : <<import>>*\r\n",
       "E3 ..>> E4 [[psysml:339645be-1a7b-490e-bb9e-fc7090e144b0 ]] : <<depend>>\r\n",
       "E4 ..>> E5 [[psysml:cd6419af-0f56-471f-8341-f3995db2a676 ]] : <<depend>>\r\n",
       "E8 ..>> E6 [[psysml:974879a0-be0c-4725-ba74-b00c4a2eaada ]] : <<depend>>\r\n",
       "E8 ..>> E7 [[psysml:974879a0-be0c-4725-ba74-b00c4a2eaada ]] : <<depend>>\r\n",
       "@enduml\r\n",
       "\n",
       "PlantUML version 1.2020.13(Sat Jun 13 12:26:38 UTC 2020)\n",
       "(EPL source distribution)\n",
       "Java Runtime: OpenJDK Runtime Environment\n",
       "JVM: OpenJDK 64-Bit Server VM\n",
       "Default Encoding: UTF-8\n",
       "Language: en\n",
       "Country: null\n",
       "--></g></svg>"
      ]
     },
     "execution_count": 9,
     "metadata": {},
     "output_type": "execute_result"
    }
   ],
   "source": [
    "%viz --style=\"POLYLINE\" --view=\"Default\" \"DependencyTest\""
   ]
  },
  {
   "cell_type": "code",
   "execution_count": 10,
   "id": "f01f119c",
   "metadata": {
    "execution": {
     "iopub.execute_input": "2022-08-19T08:17:11.193895Z",
     "iopub.status.busy": "2022-08-19T08:17:11.193400Z",
     "iopub.status.idle": "2022-08-19T08:17:11.230603Z",
     "shell.execute_reply": "2022-08-19T08:17:11.230153Z"
    }
   },
   "outputs": [
    {
     "data": {
      "image/svg+xml": [
       "<?xml version=\"1.0\" encoding=\"UTF-8\" standalone=\"no\"?><svg xmlns=\"http://www.w3.org/2000/svg\" xmlns:xlink=\"http://www.w3.org/1999/xlink\" contentScriptType=\"application/ecmascript\" contentStyleType=\"text/css\" height=\"552px\" preserveAspectRatio=\"none\" style=\"width:536px;height:552px;\" version=\"1.1\" viewBox=\"0 0 536 552\" width=\"536px\" zoomAndPan=\"magnify\"><defs/><g><!--MD5=[fbc87193dbaf4d95561dea2c320d4a47]\n",
       "cluster E1--><a href=\"psysml:0f0f2110-3be1-453e-862d-cec3a7a71a7a\" target=\"_top\" title=\"psysml:0f0f2110-3be1-453e-862d-cec3a7a71a7a\" xlink:actuate=\"onRequest\" xlink:href=\"psysml:0f0f2110-3be1-453e-862d-cec3a7a71a7a\" xlink:show=\"new\" xlink:title=\"psysml:0f0f2110-3be1-453e-862d-cec3a7a71a7a\" xlink:type=\"simple\"><polygon fill=\"#FFFFFF\" points=\"16,6,142,6,149,28.2969,514,28.2969,514,540.72,16,540.72,16,6\" style=\"stroke: #000000; stroke-width: 1.5;\"/><line style=\"stroke: #000000; stroke-width: 1.5;\" x1=\"16\" x2=\"149\" y1=\"28.2969\" y2=\"28.2969\"/><text fill=\"#000000\" font-family=\"sans-serif\" font-size=\"14\" font-weight=\"bold\" lengthAdjust=\"spacingAndGlyphs\" textLength=\"120\" x=\"20\" y=\"20.9951\">DependencyTest</text></a><!--MD5=[e4f7fae6ed58524ba242bb0b0d3be6b7]\n",
       "cluster E2--><a href=\"psysml:c508d22c-e466-4361-9854-fd4393e1e853\" target=\"_top\" title=\"psysml:c508d22c-e466-4361-9854-fd4393e1e853\" xlink:actuate=\"onRequest\" xlink:href=\"psysml:c508d22c-e466-4361-9854-fd4393e1e853\" xlink:show=\"new\" xlink:title=\"psysml:c508d22c-e466-4361-9854-fd4393e1e853\" xlink:type=\"simple\"><polygon fill=\"#FFFFFF\" points=\"271,120.72,328,120.72,335,143.0169,474,143.0169,474,500.72,271,500.72,271,120.72\" style=\"stroke: #000000; stroke-width: 1.5;\"/><line style=\"stroke: #000000; stroke-width: 1.5;\" x1=\"271\" x2=\"335\" y1=\"143.0169\" y2=\"143.0169\"/><text fill=\"#000000\" font-family=\"sans-serif\" font-size=\"14\" font-weight=\"bold\" lengthAdjust=\"spacingAndGlyphs\" textLength=\"51\" x=\"275\" y=\"135.7151\">System</text></a><!--MD5=[60a26617385b1d2d0262a64233df1f8d]\n",
       "class E6--><a href=\"psysml:2188fd29-8e87-4428-b2da-0b81f77b2176\" target=\"_top\" title=\"psysml:2188fd29-8e87-4428-b2da-0b81f77b2176\" xlink:actuate=\"onRequest\" xlink:href=\"psysml:2188fd29-8e87-4428-b2da-0b81f77b2176\" xlink:show=\"new\" xlink:title=\"psysml:2188fd29-8e87-4428-b2da-0b81f77b2176\" xlink:type=\"simple\"><rect fill=\"#FFFFFF\" height=\"45.9375\" id=\"E6\" rx=\"10\" ry=\"10\" style=\"stroke: #383838; stroke-width: 1.5;\" width=\"71\" x=\"40.5\" y=\"297.22\"/><text fill=\"#000000\" font-family=\"sans-serif\" font-size=\"12\" font-style=\"italic\" lengthAdjust=\"spacingAndGlyphs\" textLength=\"69\" x=\"41.5\" y=\"313.3587\">«attribute»</text><text fill=\"#000000\" font-family=\"sans-serif\" font-size=\"12\" lengthAdjust=\"spacingAndGlyphs\" textLength=\"6\" x=\"71\" y=\"327.3274\">x</text><line style=\"stroke: #383838; stroke-width: 1.5;\" x1=\"41.5\" x2=\"110.5\" y1=\"335.1575\" y2=\"335.1575\"/></a><!--MD5=[2156ba9850f5573cc1fc38a6a4b2f02b]\n",
       "class E7--><a href=\"psysml:b1dded97-ff7b-4726-be9f-c0b539bbd77d\" target=\"_top\" title=\"psysml:b1dded97-ff7b-4726-be9f-c0b539bbd77d\" xlink:actuate=\"onRequest\" xlink:href=\"psysml:b1dded97-ff7b-4726-be9f-c0b539bbd77d\" xlink:show=\"new\" xlink:title=\"psysml:b1dded97-ff7b-4726-be9f-c0b539bbd77d\" xlink:type=\"simple\"><rect fill=\"#FFFFFF\" height=\"45.9375\" id=\"E7\" rx=\"10\" ry=\"10\" style=\"stroke: #383838; stroke-width: 1.5;\" width=\"71\" x=\"146.5\" y=\"297.22\"/><text fill=\"#000000\" font-family=\"sans-serif\" font-size=\"12\" font-style=\"italic\" lengthAdjust=\"spacingAndGlyphs\" textLength=\"69\" x=\"147.5\" y=\"313.3587\">«attribute»</text><text fill=\"#000000\" font-family=\"sans-serif\" font-size=\"12\" lengthAdjust=\"spacingAndGlyphs\" textLength=\"6\" x=\"177\" y=\"327.3274\">y</text><line style=\"stroke: #383838; stroke-width: 1.5;\" x1=\"147.5\" x2=\"216.5\" y1=\"335.1575\" y2=\"335.1575\"/></a><!--MD5=[b9389687b975829384b498ac4b7476b2]\n",
       "class E8--><a href=\"psysml:215a3247-a6dc-4d80-9cbe-6a95158331ec\" target=\"_top\" title=\"psysml:215a3247-a6dc-4d80-9cbe-6a95158331ec\" xlink:actuate=\"onRequest\" xlink:href=\"psysml:215a3247-a6dc-4d80-9cbe-6a95158331ec\" xlink:show=\"new\" xlink:title=\"psysml:215a3247-a6dc-4d80-9cbe-6a95158331ec\" xlink:type=\"simple\"><rect fill=\"#FFFFFF\" height=\"45.9375\" id=\"E8\" rx=\"10\" ry=\"10\" style=\"stroke: #383838; stroke-width: 1.5;\" width=\"71\" x=\"92.5\" y=\"167.22\"/><text fill=\"#000000\" font-family=\"sans-serif\" font-size=\"12\" font-style=\"italic\" lengthAdjust=\"spacingAndGlyphs\" textLength=\"69\" x=\"93.5\" y=\"183.3587\">«attribute»</text><text fill=\"#000000\" font-family=\"sans-serif\" font-size=\"12\" lengthAdjust=\"spacingAndGlyphs\" textLength=\"5\" x=\"123.5\" y=\"197.3274\">z</text><line style=\"stroke: #383838; stroke-width: 1.5;\" x1=\"93.5\" x2=\"162.5\" y1=\"205.1575\" y2=\"205.1575\"/></a><a href=\"psysml:a9507a9e-eb7a-4860-b8c9-7900feca47e0\" target=\"_top\" title=\"psysml:a9507a9e-eb7a-4860-b8c9-7900feca47e0\" xlink:actuate=\"onRequest\" xlink:href=\"psysml:a9507a9e-eb7a-4860-b8c9-7900feca47e0\" xlink:show=\"new\" xlink:title=\"psysml:a9507a9e-eb7a-4860-b8c9-7900feca47e0\" xlink:type=\"simple\"><polygon fill=\"#FFFFFF\" points=\"314.5,163.72,435.5,163.72,442.5,186.0169,449.5,186.0169,449.5,216.3138,314.5,216.3138,314.5,163.72\" style=\"stroke: #000000; stroke-width: 1.5;\"/><line style=\"stroke: #000000; stroke-width: 1.5;\" x1=\"314.5\" x2=\"442.5\" y1=\"186.0169\" y2=\"186.0169\"/><text fill=\"#000000\" font-family=\"sans-serif\" font-size=\"14\" font-weight=\"bold\" lengthAdjust=\"spacingAndGlyphs\" textLength=\"115\" x=\"318.5\" y=\"178.7151\">Application Layer</text></a><a href=\"psysml:709ed33a-9ff9-4f13-a4b1-f82f2d0ae0d9\" target=\"_top\" title=\"psysml:709ed33a-9ff9-4f13-a4b1-f82f2d0ae0d9\" xlink:actuate=\"onRequest\" xlink:href=\"psysml:709ed33a-9ff9-4f13-a4b1-f82f2d0ae0d9\" xlink:show=\"new\" xlink:title=\"psysml:709ed33a-9ff9-4f13-a4b1-f82f2d0ae0d9\" xlink:type=\"simple\"><polygon fill=\"#FFFFFF\" points=\"327,293.72,423,293.72,430,316.0169,437,316.0169,437,346.3138,327,346.3138,327,293.72\" style=\"stroke: #000000; stroke-width: 1.5;\"/><line style=\"stroke: #000000; stroke-width: 1.5;\" x1=\"327\" x2=\"430\" y1=\"316.0169\" y2=\"316.0169\"/><text fill=\"#000000\" font-family=\"sans-serif\" font-size=\"14\" font-weight=\"bold\" lengthAdjust=\"spacingAndGlyphs\" textLength=\"90\" x=\"331\" y=\"308.7151\">Service Layer</text></a><a href=\"psysml:babd67af-01b8-42b4-9186-2fee6f5cc047\" target=\"_top\" title=\"psysml:babd67af-01b8-42b4-9186-2fee6f5cc047\" xlink:actuate=\"onRequest\" xlink:href=\"psysml:babd67af-01b8-42b4-9186-2fee6f5cc047\" xlink:show=\"new\" xlink:title=\"psysml:babd67af-01b8-42b4-9186-2fee6f5cc047\" xlink:type=\"simple\"><polygon fill=\"#FFFFFF\" points=\"336,423.72,414,423.72,421,446.0169,428,446.0169,428,476.3138,336,476.3138,336,423.72\" style=\"stroke: #000000; stroke-width: 1.5;\"/><line style=\"stroke: #000000; stroke-width: 1.5;\" x1=\"336\" x2=\"421\" y1=\"446.0169\" y2=\"446.0169\"/><text fill=\"#000000\" font-family=\"sans-serif\" font-size=\"14\" font-weight=\"bold\" lengthAdjust=\"spacingAndGlyphs\" textLength=\"72\" x=\"340\" y=\"438.7151\">Data Layer</text></a><!--MD5=[1f1cd8e6dd4c1b2ca2aaccc9b9bcea6e]\n",
       "link E1 to E2--><a href=\"psysml:8155982a-39d3-4776-bb66-97608c5c0d21\" target=\"_top\" title=\"psysml:8155982a-39d3-4776-bb66-97608c5c0d21\" xlink:actuate=\"onRequest\" xlink:href=\"psysml:8155982a-39d3-4776-bb66-97608c5c0d21\" xlink:show=\"new\" xlink:title=\"psysml:8155982a-39d3-4776-bb66-97608c5c0d21\" xlink:type=\"simple\"><path d=\"M279,33.83 C279,36.15 279,73.83 279,111.5 C279,113.8544 279,116.2087 279,118.5544 C279,119.1408 279,119.7267 279,120.3119 \" fill=\"none\" id=\"E1-&gt;E2\" style=\"stroke: #383838; stroke-width: 1.0; stroke-dasharray: 7.0,7.0;\"/><polygon fill=\"#383838\" points=\"279,120.3119,283,111.3119,279,115.3119,275,111.3119,279,120.3119\" style=\"stroke: #383838; stroke-width: 1.0;\"/><text fill=\"#000000\" font-family=\"sans-serif\" font-size=\"13\" lengthAdjust=\"spacingAndGlyphs\" textLength=\"65\" x=\"280\" y=\"76.7869\">«import»*</text></a><!--MD5=[af87c684e3b0d8be13c1a698a818ef1e]\n",
       "link E3 to E4--><a href=\"psysml:339645be-1a7b-490e-bb9e-fc7090e144b0\" target=\"_top\" title=\"psysml:339645be-1a7b-490e-bb9e-fc7090e144b0\" xlink:actuate=\"onRequest\" xlink:href=\"psysml:339645be-1a7b-490e-bb9e-fc7090e144b0\" xlink:show=\"new\" xlink:title=\"psysml:339645be-1a7b-490e-bb9e-fc7090e144b0\" xlink:type=\"simple\"><path d=\"M382,216.82 C382,236.52 382,263.94 382,285.45 \" fill=\"none\" id=\"E3-&gt;E4\" style=\"stroke: #383838; stroke-width: 1.0; stroke-dasharray: 7.0,7.0;\"/><polygon fill=\"#383838\" points=\"382,293.67,385,285.67,379,285.67,382,293.67\" style=\"stroke: #383838; stroke-width: 1.0;\"/><text fill=\"#000000\" font-family=\"sans-serif\" font-size=\"13\" lengthAdjust=\"spacingAndGlyphs\" textLength=\"64\" x=\"383\" y=\"259.7869\">«depend»</text></a><!--MD5=[1b7591eae5389033d8d09a9d6721a717]\n",
       "link E4 to E5--><a href=\"psysml:cd6419af-0f56-471f-8341-f3995db2a676\" target=\"_top\" title=\"psysml:cd6419af-0f56-471f-8341-f3995db2a676\" xlink:actuate=\"onRequest\" xlink:href=\"psysml:cd6419af-0f56-471f-8341-f3995db2a676\" xlink:show=\"new\" xlink:title=\"psysml:cd6419af-0f56-471f-8341-f3995db2a676\" xlink:type=\"simple\"><path d=\"M382,346.82 C382,366.52 382,393.94 382,415.45 \" fill=\"none\" id=\"E4-&gt;E5\" style=\"stroke: #383838; stroke-width: 1.0; stroke-dasharray: 7.0,7.0;\"/><polygon fill=\"#383838\" points=\"382,423.67,385,415.67,379,415.67,382,423.67\" style=\"stroke: #383838; stroke-width: 1.0;\"/><text fill=\"#000000\" font-family=\"sans-serif\" font-size=\"13\" lengthAdjust=\"spacingAndGlyphs\" textLength=\"64\" x=\"383\" y=\"389.7869\">«depend»</text></a><!--MD5=[c5e8897d989ce984f93528998a7150fe]\n",
       "link E8 to E6--><a href=\"psysml:974879a0-be0c-4725-ba74-b00c4a2eaada\" target=\"_top\" title=\"psysml:974879a0-be0c-4725-ba74-b00c4a2eaada\" xlink:actuate=\"onRequest\" xlink:href=\"psysml:974879a0-be0c-4725-ba74-b00c4a2eaada\" xlink:show=\"new\" xlink:title=\"psysml:974879a0-be0c-4725-ba74-b00c4a2eaada\" xlink:type=\"simple\"><path d=\"M105.55,213.47 C89.97,228.91 72,246.72 72,246.72 C72,246.72 72,263.72 72,263.72 C72,263.72 72.88,275.93 73.81,288.9 \" fill=\"none\" id=\"E8-&gt;E6\" style=\"stroke: #383838; stroke-width: 1.0; stroke-dasharray: 7.0,7.0;\"/><polygon fill=\"#383838\" points=\"74.4,296.97,76.8203,288.776,70.8357,289.205,74.4,296.97\" style=\"stroke: #383838; stroke-width: 1.0;\"/><text fill=\"#000000\" font-family=\"sans-serif\" font-size=\"13\" lengthAdjust=\"spacingAndGlyphs\" textLength=\"64\" x=\"73\" y=\"259.7869\">«depend»</text></a><!--MD5=[bfa3c8b0d15052fdf50ae9310b491027]\n",
       "link E8 to E7--><a href=\"psysml:974879a0-be0c-4725-ba74-b00c4a2eaada\" target=\"_top\" title=\"psysml:974879a0-be0c-4725-ba74-b00c4a2eaada\" xlink:actuate=\"onRequest\" xlink:href=\"psysml:974879a0-be0c-4725-ba74-b00c4a2eaada\" xlink:show=\"new\" xlink:title=\"psysml:974879a0-be0c-4725-ba74-b00c4a2eaada\" xlink:type=\"simple\"><path d=\"M137.28,213.22 C146.17,234.29 159.64,266.22 169.47,289.53 \" fill=\"none\" id=\"E8-&gt;E7\" style=\"stroke: #383838; stroke-width: 1.0; stroke-dasharray: 7.0,7.0;\"/><polygon fill=\"#383838\" points=\"172.66,297.07,172.3241,288.5326,166.7933,290.8585,172.66,297.07\" style=\"stroke: #383838; stroke-width: 1.0;\"/><text fill=\"#000000\" font-family=\"sans-serif\" font-size=\"13\" lengthAdjust=\"spacingAndGlyphs\" textLength=\"64\" x=\"159\" y=\"259.7869\">«depend»</text></a><!--MD5=[6bb8eb447b939b2b5e62be174acdcee4]\n",
       "@startuml\r\n",
       "skinparam linetype polyline\r\n",
       "skinparam monochrome true\r\n",
       "skinparam classbackgroundcolor white\r\n",
       "skinparam shadowing false\r\n",
       "skinparam wrapWidth 300\r\n",
       "hide circle\r\n",
       "\r\n",
       "package \"DependencyTest\" as E1  [[psysml:0f0f2110-3be1-453e-862d-cec3a7a71a7a ]]  {\r\n",
       "package \"System\" as E2  [[psysml:c508d22c-e466-4361-9854-fd4393e1e853 ]]  {\r\n",
       "package \"Application Layer\" as E3  [[psysml:a9507a9e-eb7a-4860-b8c9-7900feca47e0 ]]  {\r\n",
       "}\r\n",
       "package \"Service Layer\" as E4  [[psysml:709ed33a-9ff9-4f13-a4b1-f82f2d0ae0d9 ]]  {\r\n",
       "}\r\n",
       "package \"Data Layer\" as E5  [[psysml:babd67af-01b8-42b4-9186-2fee6f5cc047 ]]  {\r\n",
       "}\r\n",
       "}\r\n",
       "comp usage \"x \" as E6  <<(T,blue) attribute>> [[psysml:2188fd29-8e87-4428-b2da-0b81f77b2176 ]] {\r\n",
       "}\r\n",
       "comp usage \"y \" as E7  <<(T,blue) attribute>> [[psysml:b1dded97-ff7b-4726-be9f-c0b539bbd77d ]] {\r\n",
       "}\r\n",
       "comp usage \"z \" as E8  <<(T,blue) attribute>> [[psysml:215a3247-a6dc-4d80-9cbe-6a95158331ec ]] {\r\n",
       "}\r\n",
       "}\r\n",
       "E1 ..> E2 [[psysml:8155982a-39d3-4776-bb66-97608c5c0d21 ]] : <<import>>*\r\n",
       "E3 ..>> E4 [[psysml:339645be-1a7b-490e-bb9e-fc7090e144b0 ]] : <<depend>>\r\n",
       "E4 ..>> E5 [[psysml:cd6419af-0f56-471f-8341-f3995db2a676 ]] : <<depend>>\r\n",
       "E8 ..>> E6 [[psysml:974879a0-be0c-4725-ba74-b00c4a2eaada ]] : <<depend>>\r\n",
       "E8 ..>> E7 [[psysml:974879a0-be0c-4725-ba74-b00c4a2eaada ]] : <<depend>>\r\n",
       "@enduml\r\n",
       "\n",
       "PlantUML version 1.2020.13(Sat Jun 13 12:26:38 UTC 2020)\n",
       "(EPL source distribution)\n",
       "Java Runtime: OpenJDK Runtime Environment\n",
       "JVM: OpenJDK 64-Bit Server VM\n",
       "Default Encoding: UTF-8\n",
       "Language: en\n",
       "Country: null\n",
       "--></g></svg>"
      ]
     },
     "execution_count": 10,
     "metadata": {},
     "output_type": "execute_result"
    }
   ],
   "source": [
    "%viz --style=\"POLYLINE\" --view=\"Tree\" \"DependencyTest\""
   ]
  },
  {
   "cell_type": "code",
   "execution_count": 11,
   "id": "c84ecc09",
   "metadata": {
    "execution": {
     "iopub.execute_input": "2022-08-19T08:17:11.280140Z",
     "iopub.status.busy": "2022-08-19T08:17:11.279667Z",
     "iopub.status.idle": "2022-08-19T08:17:11.286451Z",
     "shell.execute_reply": "2022-08-19T08:17:11.286770Z"
    }
   },
   "outputs": [
    {
     "data": {
      "image/svg+xml": [
       "<?xml version=\"1.0\" encoding=\"UTF-8\" standalone=\"no\"?><svg xmlns=\"http://www.w3.org/2000/svg\" xmlns:xlink=\"http://www.w3.org/1999/xlink\" contentScriptType=\"application/ecmascript\" contentStyleType=\"text/css\" height=\"12px\" preserveAspectRatio=\"none\" style=\"width:12px;height:12px;\" version=\"1.1\" viewBox=\"0 0 12 12\" width=\"12px\" zoomAndPan=\"magnify\"><defs/><g><!--MD5=[896ac0e7a515d8dd7765a661cb4ee08b]\n",
       "@startuml\r\n",
       "skinparam linetype polyline\r\n",
       "skinparam monochrome true\r\n",
       "skinparam classbackgroundcolor white\r\n",
       "skinparam shadowing false\r\n",
       "skinparam wrapWidth 300\r\n",
       "hide circle\r\n",
       "\r\n",
       "@enduml\r\n",
       "\n",
       "PlantUML version 1.2020.13(Sat Jun 13 12:26:38 UTC 2020)\n",
       "(EPL source distribution)\n",
       "Java Runtime: OpenJDK Runtime Environment\n",
       "JVM: OpenJDK 64-Bit Server VM\n",
       "Default Encoding: UTF-8\n",
       "Language: en\n",
       "Country: null\n",
       "--></g></svg>"
      ]
     },
     "execution_count": 11,
     "metadata": {},
     "output_type": "execute_result"
    }
   ],
   "source": [
    "%viz --style=\"POLYLINE\" --view=\"State\" \"DependencyTest\""
   ]
  },
  {
   "cell_type": "code",
   "execution_count": 12,
   "id": "60487b1c",
   "metadata": {
    "execution": {
     "iopub.execute_input": "2022-08-19T08:17:11.337131Z",
     "iopub.status.busy": "2022-08-19T08:17:11.336688Z",
     "iopub.status.idle": "2022-08-19T08:17:11.409609Z",
     "shell.execute_reply": "2022-08-19T08:17:11.409025Z"
    }
   },
   "outputs": [
    {
     "data": {
      "image/svg+xml": [
       "<?xml version=\"1.0\" encoding=\"UTF-8\" standalone=\"no\"?><svg xmlns=\"http://www.w3.org/2000/svg\" xmlns:xlink=\"http://www.w3.org/1999/xlink\" contentScriptType=\"application/ecmascript\" contentStyleType=\"text/css\" height=\"442px\" preserveAspectRatio=\"none\" style=\"width:536px;height:442px;\" version=\"1.1\" viewBox=\"0 0 536 442\" width=\"536px\" zoomAndPan=\"magnify\"><defs/><g><!--MD5=[fbc87193dbaf4d95561dea2c320d4a47]\n",
       "cluster E1--><a href=\"psysml:0f0f2110-3be1-453e-862d-cec3a7a71a7a\" target=\"_top\" title=\"psysml:0f0f2110-3be1-453e-862d-cec3a7a71a7a\" xlink:actuate=\"onRequest\" xlink:href=\"psysml:0f0f2110-3be1-453e-862d-cec3a7a71a7a\" xlink:show=\"new\" xlink:title=\"psysml:0f0f2110-3be1-453e-862d-cec3a7a71a7a\" xlink:type=\"simple\"><polygon fill=\"#FFFFFF\" points=\"16,6,142,6,149,28.2969,514,28.2969,514,430.72,16,430.72,16,6\" style=\"stroke: #000000; stroke-width: 1.5;\"/><line style=\"stroke: #000000; stroke-width: 1.5;\" x1=\"16\" x2=\"149\" y1=\"28.2969\" y2=\"28.2969\"/><text fill=\"#000000\" font-family=\"sans-serif\" font-size=\"14\" font-weight=\"bold\" lengthAdjust=\"spacingAndGlyphs\" textLength=\"120\" x=\"20\" y=\"20.9951\">DependencyTest</text></a><!--MD5=[e4f7fae6ed58524ba242bb0b0d3be6b7]\n",
       "cluster E2--><a href=\"psysml:c508d22c-e466-4361-9854-fd4393e1e853\" target=\"_top\" title=\"psysml:c508d22c-e466-4361-9854-fd4393e1e853\" xlink:actuate=\"onRequest\" xlink:href=\"psysml:c508d22c-e466-4361-9854-fd4393e1e853\" xlink:show=\"new\" xlink:title=\"psysml:c508d22c-e466-4361-9854-fd4393e1e853\" xlink:type=\"simple\"><polygon fill=\"#FFFFFF\" points=\"271,98.72,328,98.72,335,121.0169,474,121.0169,474,390.72,271,390.72,271,98.72\" style=\"stroke: #000000; stroke-width: 1.5;\"/><line style=\"stroke: #000000; stroke-width: 1.5;\" x1=\"271\" x2=\"335\" y1=\"121.0169\" y2=\"121.0169\"/><text fill=\"#000000\" font-family=\"sans-serif\" font-size=\"14\" font-weight=\"bold\" lengthAdjust=\"spacingAndGlyphs\" textLength=\"51\" x=\"275\" y=\"113.7151\">System</text></a><!--MD5=[60a26617385b1d2d0262a64233df1f8d]\n",
       "class E6--><a href=\"psysml:2188fd29-8e87-4428-b2da-0b81f77b2176\" target=\"_top\" title=\"psysml:2188fd29-8e87-4428-b2da-0b81f77b2176\" xlink:actuate=\"onRequest\" xlink:href=\"psysml:2188fd29-8e87-4428-b2da-0b81f77b2176\" xlink:show=\"new\" xlink:title=\"psysml:2188fd29-8e87-4428-b2da-0b81f77b2176\" xlink:type=\"simple\"><rect fill=\"#FFFFFF\" height=\"45.9375\" id=\"E6\" rx=\"10\" ry=\"10\" style=\"stroke: #383838; stroke-width: 1.5;\" width=\"71\" x=\"40.5\" y=\"231.22\"/><text fill=\"#000000\" font-family=\"sans-serif\" font-size=\"12\" font-style=\"italic\" lengthAdjust=\"spacingAndGlyphs\" textLength=\"69\" x=\"41.5\" y=\"247.3587\">«attribute»</text><text fill=\"#000000\" font-family=\"sans-serif\" font-size=\"12\" lengthAdjust=\"spacingAndGlyphs\" textLength=\"6\" x=\"71\" y=\"261.3274\">x</text><line style=\"stroke: #383838; stroke-width: 1.5;\" x1=\"41.5\" x2=\"110.5\" y1=\"269.1575\" y2=\"269.1575\"/></a><!--MD5=[2156ba9850f5573cc1fc38a6a4b2f02b]\n",
       "class E7--><a href=\"psysml:b1dded97-ff7b-4726-be9f-c0b539bbd77d\" target=\"_top\" title=\"psysml:b1dded97-ff7b-4726-be9f-c0b539bbd77d\" xlink:actuate=\"onRequest\" xlink:href=\"psysml:b1dded97-ff7b-4726-be9f-c0b539bbd77d\" xlink:show=\"new\" xlink:title=\"psysml:b1dded97-ff7b-4726-be9f-c0b539bbd77d\" xlink:type=\"simple\"><rect fill=\"#FFFFFF\" height=\"45.9375\" id=\"E7\" rx=\"10\" ry=\"10\" style=\"stroke: #383838; stroke-width: 1.5;\" width=\"71\" x=\"146.5\" y=\"231.22\"/><text fill=\"#000000\" font-family=\"sans-serif\" font-size=\"12\" font-style=\"italic\" lengthAdjust=\"spacingAndGlyphs\" textLength=\"69\" x=\"147.5\" y=\"247.3587\">«attribute»</text><text fill=\"#000000\" font-family=\"sans-serif\" font-size=\"12\" lengthAdjust=\"spacingAndGlyphs\" textLength=\"6\" x=\"177\" y=\"261.3274\">y</text><line style=\"stroke: #383838; stroke-width: 1.5;\" x1=\"147.5\" x2=\"216.5\" y1=\"269.1575\" y2=\"269.1575\"/></a><!--MD5=[b9389687b975829384b498ac4b7476b2]\n",
       "class E8--><a href=\"psysml:215a3247-a6dc-4d80-9cbe-6a95158331ec\" target=\"_top\" title=\"psysml:215a3247-a6dc-4d80-9cbe-6a95158331ec\" xlink:actuate=\"onRequest\" xlink:href=\"psysml:215a3247-a6dc-4d80-9cbe-6a95158331ec\" xlink:show=\"new\" xlink:title=\"psysml:215a3247-a6dc-4d80-9cbe-6a95158331ec\" xlink:type=\"simple\"><rect fill=\"#FFFFFF\" height=\"45.9375\" id=\"E8\" rx=\"10\" ry=\"10\" style=\"stroke: #383838; stroke-width: 1.5;\" width=\"71\" x=\"92.5\" y=\"145.22\"/><text fill=\"#000000\" font-family=\"sans-serif\" font-size=\"12\" font-style=\"italic\" lengthAdjust=\"spacingAndGlyphs\" textLength=\"69\" x=\"93.5\" y=\"161.3587\">«attribute»</text><text fill=\"#000000\" font-family=\"sans-serif\" font-size=\"12\" lengthAdjust=\"spacingAndGlyphs\" textLength=\"5\" x=\"123.5\" y=\"175.3274\">z</text><line style=\"stroke: #383838; stroke-width: 1.5;\" x1=\"93.5\" x2=\"162.5\" y1=\"183.1575\" y2=\"183.1575\"/></a><a href=\"psysml:a9507a9e-eb7a-4860-b8c9-7900feca47e0\" target=\"_top\" title=\"psysml:a9507a9e-eb7a-4860-b8c9-7900feca47e0\" xlink:actuate=\"onRequest\" xlink:href=\"psysml:a9507a9e-eb7a-4860-b8c9-7900feca47e0\" xlink:show=\"new\" xlink:title=\"psysml:a9507a9e-eb7a-4860-b8c9-7900feca47e0\" xlink:type=\"simple\"><polygon fill=\"#FFFFFF\" points=\"314.5,141.72,435.5,141.72,442.5,164.0169,449.5,164.0169,449.5,194.3138,314.5,194.3138,314.5,141.72\" style=\"stroke: #000000; stroke-width: 1.5;\"/><line style=\"stroke: #000000; stroke-width: 1.5;\" x1=\"314.5\" x2=\"442.5\" y1=\"164.0169\" y2=\"164.0169\"/><text fill=\"#000000\" font-family=\"sans-serif\" font-size=\"14\" font-weight=\"bold\" lengthAdjust=\"spacingAndGlyphs\" textLength=\"115\" x=\"318.5\" y=\"156.7151\">Application Layer</text></a><a href=\"psysml:709ed33a-9ff9-4f13-a4b1-f82f2d0ae0d9\" target=\"_top\" title=\"psysml:709ed33a-9ff9-4f13-a4b1-f82f2d0ae0d9\" xlink:actuate=\"onRequest\" xlink:href=\"psysml:709ed33a-9ff9-4f13-a4b1-f82f2d0ae0d9\" xlink:show=\"new\" xlink:title=\"psysml:709ed33a-9ff9-4f13-a4b1-f82f2d0ae0d9\" xlink:type=\"simple\"><polygon fill=\"#FFFFFF\" points=\"327,227.72,423,227.72,430,250.0169,437,250.0169,437,280.3138,327,280.3138,327,227.72\" style=\"stroke: #000000; stroke-width: 1.5;\"/><line style=\"stroke: #000000; stroke-width: 1.5;\" x1=\"327\" x2=\"430\" y1=\"250.0169\" y2=\"250.0169\"/><text fill=\"#000000\" font-family=\"sans-serif\" font-size=\"14\" font-weight=\"bold\" lengthAdjust=\"spacingAndGlyphs\" textLength=\"90\" x=\"331\" y=\"242.7151\">Service Layer</text></a><a href=\"psysml:babd67af-01b8-42b4-9186-2fee6f5cc047\" target=\"_top\" title=\"psysml:babd67af-01b8-42b4-9186-2fee6f5cc047\" xlink:actuate=\"onRequest\" xlink:href=\"psysml:babd67af-01b8-42b4-9186-2fee6f5cc047\" xlink:show=\"new\" xlink:title=\"psysml:babd67af-01b8-42b4-9186-2fee6f5cc047\" xlink:type=\"simple\"><polygon fill=\"#FFFFFF\" points=\"336,313.72,414,313.72,421,336.0169,428,336.0169,428,366.3138,336,366.3138,336,313.72\" style=\"stroke: #000000; stroke-width: 1.5;\"/><line style=\"stroke: #000000; stroke-width: 1.5;\" x1=\"336\" x2=\"421\" y1=\"336.0169\" y2=\"336.0169\"/><text fill=\"#000000\" font-family=\"sans-serif\" font-size=\"14\" font-weight=\"bold\" lengthAdjust=\"spacingAndGlyphs\" textLength=\"72\" x=\"340\" y=\"328.7151\">Data Layer</text></a><!--MD5=[1f1cd8e6dd4c1b2ca2aaccc9b9bcea6e]\n",
       "link E1 to E2--><a href=\"psysml:8155982a-39d3-4776-bb66-97608c5c0d21\" target=\"_top\" title=\"psysml:8155982a-39d3-4776-bb66-97608c5c0d21\" xlink:actuate=\"onRequest\" xlink:href=\"psysml:8155982a-39d3-4776-bb66-97608c5c0d21\" xlink:show=\"new\" xlink:title=\"psysml:8155982a-39d3-4776-bb66-97608c5c0d21\" xlink:type=\"simple\"><path d=\"M279,33.82 C279,34.815 279,43.3994 279,55.7775 C279,61.9666 279,69.1041 279,76.7155 C279,80.5213 279,84.4455 279,88.429 C279,90.4207 279,92.4272 279,94.4411 C279,95.448 279,96.4568 279,97.4665 C279,97.719 279,97.9714 279,98.224 \" fill=\"none\" id=\"E1-&gt;E2\" style=\"stroke: #383838; stroke-width: 1.0; stroke-dasharray: 7.0,7.0;\"/><polygon fill=\"#383838\" points=\"279,98.224,283,89.224,279,93.224,275,89.224,279,98.224\" style=\"stroke: #383838; stroke-width: 1.0;\"/><text fill=\"#000000\" font-family=\"sans-serif\" font-size=\"13\" lengthAdjust=\"spacingAndGlyphs\" textLength=\"65\" x=\"280\" y=\"54.7869\">«import»*</text></a><!--MD5=[af87c684e3b0d8be13c1a698a818ef1e]\n",
       "link E3 to E4--><a href=\"psysml:339645be-1a7b-490e-bb9e-fc7090e144b0\" target=\"_top\" title=\"psysml:339645be-1a7b-490e-bb9e-fc7090e144b0\" xlink:actuate=\"onRequest\" xlink:href=\"psysml:339645be-1a7b-490e-bb9e-fc7090e144b0\" xlink:show=\"new\" xlink:title=\"psysml:339645be-1a7b-490e-bb9e-fc7090e144b0\" xlink:type=\"simple\"><path d=\"M382,194.88 C382,202.7 382,211.41 382,219.66 \" fill=\"none\" id=\"E3-&gt;E4\" style=\"stroke: #383838; stroke-width: 1.0; stroke-dasharray: 7.0,7.0;\"/><polygon fill=\"#383838\" points=\"382,227.72,385,219.72,379,219.72,382,227.72\" style=\"stroke: #383838; stroke-width: 1.0;\"/><text fill=\"#000000\" font-family=\"sans-serif\" font-size=\"13\" lengthAdjust=\"spacingAndGlyphs\" textLength=\"64\" x=\"383\" y=\"215.7869\">«depend»</text></a><!--MD5=[1b7591eae5389033d8d09a9d6721a717]\n",
       "link E4 to E5--><a href=\"psysml:cd6419af-0f56-471f-8341-f3995db2a676\" target=\"_top\" title=\"psysml:cd6419af-0f56-471f-8341-f3995db2a676\" xlink:actuate=\"onRequest\" xlink:href=\"psysml:cd6419af-0f56-471f-8341-f3995db2a676\" xlink:show=\"new\" xlink:title=\"psysml:cd6419af-0f56-471f-8341-f3995db2a676\" xlink:type=\"simple\"><path d=\"M382,280.88 C382,288.7 382,297.41 382,305.66 \" fill=\"none\" id=\"E4-&gt;E5\" style=\"stroke: #383838; stroke-width: 1.0; stroke-dasharray: 7.0,7.0;\"/><polygon fill=\"#383838\" points=\"382,313.72,385,305.72,379,305.72,382,313.72\" style=\"stroke: #383838; stroke-width: 1.0;\"/><text fill=\"#000000\" font-family=\"sans-serif\" font-size=\"13\" lengthAdjust=\"spacingAndGlyphs\" textLength=\"64\" x=\"383\" y=\"301.7869\">«depend»</text></a><!--MD5=[c5e8897d989ce984f93528998a7150fe]\n",
       "link E8 to E6--><a href=\"psysml:974879a0-be0c-4725-ba74-b00c4a2eaada\" target=\"_top\" title=\"psysml:974879a0-be0c-4725-ba74-b00c4a2eaada\" xlink:actuate=\"onRequest\" xlink:href=\"psysml:974879a0-be0c-4725-ba74-b00c4a2eaada\" xlink:show=\"new\" xlink:title=\"psysml:974879a0-be0c-4725-ba74-b00c4a2eaada\" xlink:type=\"simple\"><path d=\"M92.22,190.63 C81.24,197.19 72,202.72 72,202.72 C72,202.72 72,219.72 72,219.72 C72,219.72 72.15,221 72.4,223.05 \" fill=\"none\" id=\"E8-&gt;E6\" style=\"stroke: #383838; stroke-width: 1.0; stroke-dasharray: 7.0,7.0;\"/><polygon fill=\"#383838\" points=\"73.35,231.06,75.3861,222.7621,69.4279,223.4694,73.35,231.06\" style=\"stroke: #383838; stroke-width: 1.0;\"/><text fill=\"#000000\" font-family=\"sans-serif\" font-size=\"13\" lengthAdjust=\"spacingAndGlyphs\" textLength=\"64\" x=\"73\" y=\"215.7869\">«depend»</text></a><!--MD5=[bfa3c8b0d15052fdf50ae9310b491027]\n",
       "link E8 to E7--><a href=\"psysml:974879a0-be0c-4725-ba74-b00c4a2eaada\" target=\"_top\" title=\"psysml:974879a0-be0c-4725-ba74-b00c4a2eaada\" xlink:actuate=\"onRequest\" xlink:href=\"psysml:974879a0-be0c-4725-ba74-b00c4a2eaada\" xlink:show=\"new\" xlink:title=\"psysml:974879a0-be0c-4725-ba74-b00c4a2eaada\" xlink:type=\"simple\"><path d=\"M142.19,191.29 C148.65,201.34 156.38,213.37 163.31,224.14 \" fill=\"none\" id=\"E8-&gt;E7\" style=\"stroke: #383838; stroke-width: 1.0; stroke-dasharray: 7.0,7.0;\"/><polygon fill=\"#383838\" points=\"167.72,231.01,165.9148,222.6589,160.8688,225.905,167.72,231.01\" style=\"stroke: #383838; stroke-width: 1.0;\"/><text fill=\"#000000\" font-family=\"sans-serif\" font-size=\"13\" lengthAdjust=\"spacingAndGlyphs\" textLength=\"64\" x=\"160\" y=\"215.7869\">«depend»</text></a><!--MD5=[434457841f9c55877bc17701ee534dfa]\n",
       "@startuml\r\n",
       "skinparam ranksep 10\r\n",
       "skinparam rectangle {\r\n",
       " backgroundColor<<block>> LightGreen\r\n",
       "}\r\n",
       "skinparam linetype polyline\r\n",
       "skinparam monochrome true\r\n",
       "skinparam classbackgroundcolor white\r\n",
       "skinparam shadowing false\r\n",
       "skinparam wrapWidth 300\r\n",
       "hide circle\r\n",
       "\r\n",
       "package \"DependencyTest\" as E1  [[psysml:0f0f2110-3be1-453e-862d-cec3a7a71a7a ]]  {\r\n",
       "package \"System\" as E2  [[psysml:c508d22c-e466-4361-9854-fd4393e1e853 ]]  {\r\n",
       "package \"Application Layer\" as E3  [[psysml:a9507a9e-eb7a-4860-b8c9-7900feca47e0 ]]  {\r\n",
       "}\r\n",
       "package \"Service Layer\" as E4  [[psysml:709ed33a-9ff9-4f13-a4b1-f82f2d0ae0d9 ]]  {\r\n",
       "}\r\n",
       "package \"Data Layer\" as E5  [[psysml:babd67af-01b8-42b4-9186-2fee6f5cc047 ]]  {\r\n",
       "}\r\n",
       "}\r\n",
       "comp usage \"x \" as E6  <<(T,blue) attribute>> [[psysml:2188fd29-8e87-4428-b2da-0b81f77b2176 ]] {\r\n",
       "}\r\n",
       "comp usage \"y \" as E7  <<(T,blue) attribute>> [[psysml:b1dded97-ff7b-4726-be9f-c0b539bbd77d ]] {\r\n",
       "}\r\n",
       "comp usage \"z \" as E8  <<(T,blue) attribute>> [[psysml:215a3247-a6dc-4d80-9cbe-6a95158331ec ]] {\r\n",
       "}\r\n",
       "}\r\n",
       "E1 ..> E2 [[psysml:8155982a-39d3-4776-bb66-97608c5c0d21 ]] : <<import>>*\r\n",
       "E3 ..>> E4 [[psysml:339645be-1a7b-490e-bb9e-fc7090e144b0 ]] : <<depend>>\r\n",
       "E4 ..>> E5 [[psysml:cd6419af-0f56-471f-8341-f3995db2a676 ]] : <<depend>>\r\n",
       "E8 ..>> E6 [[psysml:974879a0-be0c-4725-ba74-b00c4a2eaada ]] : <<depend>>\r\n",
       "E8 ..>> E7 [[psysml:974879a0-be0c-4725-ba74-b00c4a2eaada ]] : <<depend>>\r\n",
       "@enduml\r\n",
       "\n",
       "PlantUML version 1.2020.13(Sat Jun 13 12:26:38 UTC 2020)\n",
       "(EPL source distribution)\n",
       "Java Runtime: OpenJDK Runtime Environment\n",
       "JVM: OpenJDK 64-Bit Server VM\n",
       "Default Encoding: UTF-8\n",
       "Language: en\n",
       "Country: null\n",
       "--></g></svg>"
      ]
     },
     "execution_count": 12,
     "metadata": {},
     "output_type": "execute_result"
    }
   ],
   "source": [
    "%viz --style=\"POLYLINE\" --view=\"Interconnection\" \"DependencyTest\""
   ]
  },
  {
   "cell_type": "code",
   "execution_count": 13,
   "id": "0818fd0a",
   "metadata": {
    "execution": {
     "iopub.execute_input": "2022-08-19T08:17:11.459479Z",
     "iopub.status.busy": "2022-08-19T08:17:11.458814Z",
     "iopub.status.idle": "2022-08-19T08:17:11.465539Z",
     "shell.execute_reply": "2022-08-19T08:17:11.465931Z"
    }
   },
   "outputs": [
    {
     "data": {
      "image/svg+xml": [
       "<?xml version=\"1.0\" encoding=\"UTF-8\" standalone=\"no\"?><svg xmlns=\"http://www.w3.org/2000/svg\" xmlns:xlink=\"http://www.w3.org/1999/xlink\" contentScriptType=\"application/ecmascript\" contentStyleType=\"text/css\" height=\"12px\" preserveAspectRatio=\"none\" style=\"width:12px;height:12px;\" version=\"1.1\" viewBox=\"0 0 12 12\" width=\"12px\" zoomAndPan=\"magnify\"><defs/><g><!--MD5=[97bbf32f66ccd50cbc40d92ea8f5a65e]\n",
       "@startuml\r\n",
       "skinparam ranksep 8\r\n",
       "skinparam linetype polyline\r\n",
       "skinparam monochrome true\r\n",
       "skinparam classbackgroundcolor white\r\n",
       "skinparam shadowing false\r\n",
       "skinparam wrapWidth 300\r\n",
       "hide circle\r\n",
       "\r\n",
       "@enduml\r\n",
       "\n",
       "PlantUML version 1.2020.13(Sat Jun 13 12:26:38 UTC 2020)\n",
       "(EPL source distribution)\n",
       "Java Runtime: OpenJDK Runtime Environment\n",
       "JVM: OpenJDK 64-Bit Server VM\n",
       "Default Encoding: UTF-8\n",
       "Language: en\n",
       "Country: null\n",
       "--></g></svg>"
      ]
     },
     "execution_count": 13,
     "metadata": {},
     "output_type": "execute_result"
    }
   ],
   "source": [
    "%viz --style=\"POLYLINE\" --view=\"Action\" \"DependencyTest\""
   ]
  },
  {
   "cell_type": "code",
   "execution_count": 14,
   "id": "5a58eba1",
   "metadata": {
    "execution": {
     "iopub.execute_input": "2022-08-19T08:17:11.515578Z",
     "iopub.status.busy": "2022-08-19T08:17:11.515301Z",
     "iopub.status.idle": "2022-08-19T08:17:11.522095Z",
     "shell.execute_reply": "2022-08-19T08:17:11.522446Z"
    }
   },
   "outputs": [
    {
     "data": {
      "image/svg+xml": [
       "<?xml version=\"1.0\" encoding=\"UTF-8\" standalone=\"no\"?><svg xmlns=\"http://www.w3.org/2000/svg\" xmlns:xlink=\"http://www.w3.org/1999/xlink\" contentScriptType=\"application/ecmascript\" contentStyleType=\"text/css\" height=\"12px\" preserveAspectRatio=\"none\" style=\"width:12px;height:12px;\" version=\"1.1\" viewBox=\"0 0 12 12\" width=\"12px\" zoomAndPan=\"magnify\"><defs/><g><!--MD5=[dc938048236c351797870c36b62f92ad]\n",
       "@startuml\r\n",
       "skinparam roundcorner 20\r\n",
       "skinparam BoxPadding 20\r\n",
       "skinparam SequenceBoxBackgroundColor #white\r\n",
       "skinparam style strictuml\r\n",
       "skinparam maxMessageSize 100\r\n",
       "skinparam linetype polyline\r\n",
       "skinparam monochrome true\r\n",
       "skinparam classbackgroundcolor white\r\n",
       "skinparam shadowing false\r\n",
       "skinparam wrapWidth 300\r\n",
       "hide circle\r\n",
       "\r\n",
       "@enduml\r\n",
       "\n",
       "PlantUML version 1.2020.13(Sat Jun 13 12:26:38 UTC 2020)\n",
       "(EPL source distribution)\n",
       "Java Runtime: OpenJDK Runtime Environment\n",
       "JVM: OpenJDK 64-Bit Server VM\n",
       "Default Encoding: UTF-8\n",
       "Language: en\n",
       "Country: null\n",
       "--></g></svg>"
      ]
     },
     "execution_count": 14,
     "metadata": {},
     "output_type": "execute_result"
    }
   ],
   "source": [
    "%viz --style=\"POLYLINE\" --view=\"Sequence\" \"DependencyTest\""
   ]
  },
  {
   "cell_type": "code",
   "execution_count": 15,
   "id": "7afc6c87",
   "metadata": {
    "execution": {
     "iopub.execute_input": "2022-08-19T08:17:11.572863Z",
     "iopub.status.busy": "2022-08-19T08:17:11.572342Z",
     "iopub.status.idle": "2022-08-19T08:17:11.615932Z",
     "shell.execute_reply": "2022-08-19T08:17:11.615470Z"
    }
   },
   "outputs": [
    {
     "data": {
      "image/svg+xml": [
       "<?xml version=\"1.0\" encoding=\"UTF-8\" standalone=\"no\"?><svg xmlns=\"http://www.w3.org/2000/svg\" xmlns:xlink=\"http://www.w3.org/1999/xlink\" contentScriptType=\"application/ecmascript\" contentStyleType=\"text/css\" height=\"552px\" preserveAspectRatio=\"none\" style=\"width:536px;height:552px;\" version=\"1.1\" viewBox=\"0 0 536 552\" width=\"536px\" zoomAndPan=\"magnify\"><defs/><g><!--MD5=[fbc87193dbaf4d95561dea2c320d4a47]\n",
       "cluster E1--><a href=\"psysml:0f0f2110-3be1-453e-862d-cec3a7a71a7a\" target=\"_top\" title=\"psysml:0f0f2110-3be1-453e-862d-cec3a7a71a7a\" xlink:actuate=\"onRequest\" xlink:href=\"psysml:0f0f2110-3be1-453e-862d-cec3a7a71a7a\" xlink:show=\"new\" xlink:title=\"psysml:0f0f2110-3be1-453e-862d-cec3a7a71a7a\" xlink:type=\"simple\"><polygon fill=\"#FFFFFF\" points=\"16,6,142,6,149,28.2969,514,28.2969,514,540.72,16,540.72,16,6\" style=\"stroke: #000000; stroke-width: 1.5;\"/><line style=\"stroke: #000000; stroke-width: 1.5;\" x1=\"16\" x2=\"149\" y1=\"28.2969\" y2=\"28.2969\"/><text fill=\"#000000\" font-family=\"sans-serif\" font-size=\"14\" font-weight=\"bold\" lengthAdjust=\"spacingAndGlyphs\" textLength=\"120\" x=\"20\" y=\"20.9951\">DependencyTest</text></a><!--MD5=[e4f7fae6ed58524ba242bb0b0d3be6b7]\n",
       "cluster E2--><a href=\"psysml:c508d22c-e466-4361-9854-fd4393e1e853\" target=\"_top\" title=\"psysml:c508d22c-e466-4361-9854-fd4393e1e853\" xlink:actuate=\"onRequest\" xlink:href=\"psysml:c508d22c-e466-4361-9854-fd4393e1e853\" xlink:show=\"new\" xlink:title=\"psysml:c508d22c-e466-4361-9854-fd4393e1e853\" xlink:type=\"simple\"><polygon fill=\"#FFFFFF\" points=\"271,120.72,328,120.72,335,143.0169,474,143.0169,474,500.72,271,500.72,271,120.72\" style=\"stroke: #000000; stroke-width: 1.5;\"/><line style=\"stroke: #000000; stroke-width: 1.5;\" x1=\"271\" x2=\"335\" y1=\"143.0169\" y2=\"143.0169\"/><text fill=\"#000000\" font-family=\"sans-serif\" font-size=\"14\" font-weight=\"bold\" lengthAdjust=\"spacingAndGlyphs\" textLength=\"51\" x=\"275\" y=\"135.7151\">System</text></a><!--MD5=[60a26617385b1d2d0262a64233df1f8d]\n",
       "class E6--><a href=\"psysml:2188fd29-8e87-4428-b2da-0b81f77b2176\" target=\"_top\" title=\"psysml:2188fd29-8e87-4428-b2da-0b81f77b2176\" xlink:actuate=\"onRequest\" xlink:href=\"psysml:2188fd29-8e87-4428-b2da-0b81f77b2176\" xlink:show=\"new\" xlink:title=\"psysml:2188fd29-8e87-4428-b2da-0b81f77b2176\" xlink:type=\"simple\"><rect fill=\"#FFFFFF\" height=\"45.9375\" id=\"E6\" rx=\"10\" ry=\"10\" style=\"stroke: #383838; stroke-width: 1.5;\" width=\"71\" x=\"40.5\" y=\"297.22\"/><text fill=\"#000000\" font-family=\"sans-serif\" font-size=\"12\" font-style=\"italic\" lengthAdjust=\"spacingAndGlyphs\" textLength=\"69\" x=\"41.5\" y=\"313.3587\">«attribute»</text><text fill=\"#000000\" font-family=\"sans-serif\" font-size=\"12\" lengthAdjust=\"spacingAndGlyphs\" textLength=\"6\" x=\"71\" y=\"327.3274\">x</text><line style=\"stroke: #383838; stroke-width: 1.5;\" x1=\"41.5\" x2=\"110.5\" y1=\"335.1575\" y2=\"335.1575\"/></a><!--MD5=[2156ba9850f5573cc1fc38a6a4b2f02b]\n",
       "class E7--><a href=\"psysml:b1dded97-ff7b-4726-be9f-c0b539bbd77d\" target=\"_top\" title=\"psysml:b1dded97-ff7b-4726-be9f-c0b539bbd77d\" xlink:actuate=\"onRequest\" xlink:href=\"psysml:b1dded97-ff7b-4726-be9f-c0b539bbd77d\" xlink:show=\"new\" xlink:title=\"psysml:b1dded97-ff7b-4726-be9f-c0b539bbd77d\" xlink:type=\"simple\"><rect fill=\"#FFFFFF\" height=\"45.9375\" id=\"E7\" rx=\"10\" ry=\"10\" style=\"stroke: #383838; stroke-width: 1.5;\" width=\"71\" x=\"146.5\" y=\"297.22\"/><text fill=\"#000000\" font-family=\"sans-serif\" font-size=\"12\" font-style=\"italic\" lengthAdjust=\"spacingAndGlyphs\" textLength=\"69\" x=\"147.5\" y=\"313.3587\">«attribute»</text><text fill=\"#000000\" font-family=\"sans-serif\" font-size=\"12\" lengthAdjust=\"spacingAndGlyphs\" textLength=\"6\" x=\"177\" y=\"327.3274\">y</text><line style=\"stroke: #383838; stroke-width: 1.5;\" x1=\"147.5\" x2=\"216.5\" y1=\"335.1575\" y2=\"335.1575\"/></a><!--MD5=[b9389687b975829384b498ac4b7476b2]\n",
       "class E8--><a href=\"psysml:215a3247-a6dc-4d80-9cbe-6a95158331ec\" target=\"_top\" title=\"psysml:215a3247-a6dc-4d80-9cbe-6a95158331ec\" xlink:actuate=\"onRequest\" xlink:href=\"psysml:215a3247-a6dc-4d80-9cbe-6a95158331ec\" xlink:show=\"new\" xlink:title=\"psysml:215a3247-a6dc-4d80-9cbe-6a95158331ec\" xlink:type=\"simple\"><rect fill=\"#FFFFFF\" height=\"45.9375\" id=\"E8\" rx=\"10\" ry=\"10\" style=\"stroke: #383838; stroke-width: 1.5;\" width=\"71\" x=\"92.5\" y=\"167.22\"/><text fill=\"#000000\" font-family=\"sans-serif\" font-size=\"12\" font-style=\"italic\" lengthAdjust=\"spacingAndGlyphs\" textLength=\"69\" x=\"93.5\" y=\"183.3587\">«attribute»</text><text fill=\"#000000\" font-family=\"sans-serif\" font-size=\"12\" lengthAdjust=\"spacingAndGlyphs\" textLength=\"5\" x=\"123.5\" y=\"197.3274\">z</text><line style=\"stroke: #383838; stroke-width: 1.5;\" x1=\"93.5\" x2=\"162.5\" y1=\"205.1575\" y2=\"205.1575\"/></a><a href=\"psysml:a9507a9e-eb7a-4860-b8c9-7900feca47e0\" target=\"_top\" title=\"psysml:a9507a9e-eb7a-4860-b8c9-7900feca47e0\" xlink:actuate=\"onRequest\" xlink:href=\"psysml:a9507a9e-eb7a-4860-b8c9-7900feca47e0\" xlink:show=\"new\" xlink:title=\"psysml:a9507a9e-eb7a-4860-b8c9-7900feca47e0\" xlink:type=\"simple\"><polygon fill=\"#FFFFFF\" points=\"314.5,163.72,435.5,163.72,442.5,186.0169,449.5,186.0169,449.5,216.3138,314.5,216.3138,314.5,163.72\" style=\"stroke: #000000; stroke-width: 1.5;\"/><line style=\"stroke: #000000; stroke-width: 1.5;\" x1=\"314.5\" x2=\"442.5\" y1=\"186.0169\" y2=\"186.0169\"/><text fill=\"#000000\" font-family=\"sans-serif\" font-size=\"14\" font-weight=\"bold\" lengthAdjust=\"spacingAndGlyphs\" textLength=\"115\" x=\"318.5\" y=\"178.7151\">Application Layer</text></a><a href=\"psysml:709ed33a-9ff9-4f13-a4b1-f82f2d0ae0d9\" target=\"_top\" title=\"psysml:709ed33a-9ff9-4f13-a4b1-f82f2d0ae0d9\" xlink:actuate=\"onRequest\" xlink:href=\"psysml:709ed33a-9ff9-4f13-a4b1-f82f2d0ae0d9\" xlink:show=\"new\" xlink:title=\"psysml:709ed33a-9ff9-4f13-a4b1-f82f2d0ae0d9\" xlink:type=\"simple\"><polygon fill=\"#FFFFFF\" points=\"327,293.72,423,293.72,430,316.0169,437,316.0169,437,346.3138,327,346.3138,327,293.72\" style=\"stroke: #000000; stroke-width: 1.5;\"/><line style=\"stroke: #000000; stroke-width: 1.5;\" x1=\"327\" x2=\"430\" y1=\"316.0169\" y2=\"316.0169\"/><text fill=\"#000000\" font-family=\"sans-serif\" font-size=\"14\" font-weight=\"bold\" lengthAdjust=\"spacingAndGlyphs\" textLength=\"90\" x=\"331\" y=\"308.7151\">Service Layer</text></a><a href=\"psysml:babd67af-01b8-42b4-9186-2fee6f5cc047\" target=\"_top\" title=\"psysml:babd67af-01b8-42b4-9186-2fee6f5cc047\" xlink:actuate=\"onRequest\" xlink:href=\"psysml:babd67af-01b8-42b4-9186-2fee6f5cc047\" xlink:show=\"new\" xlink:title=\"psysml:babd67af-01b8-42b4-9186-2fee6f5cc047\" xlink:type=\"simple\"><polygon fill=\"#FFFFFF\" points=\"336,423.72,414,423.72,421,446.0169,428,446.0169,428,476.3138,336,476.3138,336,423.72\" style=\"stroke: #000000; stroke-width: 1.5;\"/><line style=\"stroke: #000000; stroke-width: 1.5;\" x1=\"336\" x2=\"421\" y1=\"446.0169\" y2=\"446.0169\"/><text fill=\"#000000\" font-family=\"sans-serif\" font-size=\"14\" font-weight=\"bold\" lengthAdjust=\"spacingAndGlyphs\" textLength=\"72\" x=\"340\" y=\"438.7151\">Data Layer</text></a><!--MD5=[1f1cd8e6dd4c1b2ca2aaccc9b9bcea6e]\n",
       "link E1 to E2--><a href=\"psysml:8155982a-39d3-4776-bb66-97608c5c0d21\" target=\"_top\" title=\"psysml:8155982a-39d3-4776-bb66-97608c5c0d21\" xlink:actuate=\"onRequest\" xlink:href=\"psysml:8155982a-39d3-4776-bb66-97608c5c0d21\" xlink:show=\"new\" xlink:title=\"psysml:8155982a-39d3-4776-bb66-97608c5c0d21\" xlink:type=\"simple\"><path d=\"M279,33.83 C279,36.15 279,73.83 279,111.5 C279,113.8544 279,116.2087 279,118.5544 C279,119.1408 279,119.7267 279,120.3119 \" fill=\"none\" id=\"E1-&gt;E2\" style=\"stroke: #383838; stroke-width: 1.0; stroke-dasharray: 7.0,7.0;\"/><polygon fill=\"#383838\" points=\"279,120.3119,283,111.3119,279,115.3119,275,111.3119,279,120.3119\" style=\"stroke: #383838; stroke-width: 1.0;\"/><text fill=\"#000000\" font-family=\"sans-serif\" font-size=\"13\" lengthAdjust=\"spacingAndGlyphs\" textLength=\"65\" x=\"280\" y=\"76.7869\">«import»*</text></a><!--MD5=[af87c684e3b0d8be13c1a698a818ef1e]\n",
       "link E3 to E4--><a href=\"psysml:339645be-1a7b-490e-bb9e-fc7090e144b0\" target=\"_top\" title=\"psysml:339645be-1a7b-490e-bb9e-fc7090e144b0\" xlink:actuate=\"onRequest\" xlink:href=\"psysml:339645be-1a7b-490e-bb9e-fc7090e144b0\" xlink:show=\"new\" xlink:title=\"psysml:339645be-1a7b-490e-bb9e-fc7090e144b0\" xlink:type=\"simple\"><path d=\"M382,216.82 C382,236.52 382,263.94 382,285.45 \" fill=\"none\" id=\"E3-&gt;E4\" style=\"stroke: #383838; stroke-width: 1.0; stroke-dasharray: 7.0,7.0;\"/><polygon fill=\"#383838\" points=\"382,293.67,385,285.67,379,285.67,382,293.67\" style=\"stroke: #383838; stroke-width: 1.0;\"/><text fill=\"#000000\" font-family=\"sans-serif\" font-size=\"13\" lengthAdjust=\"spacingAndGlyphs\" textLength=\"64\" x=\"383\" y=\"259.7869\">«depend»</text></a><!--MD5=[1b7591eae5389033d8d09a9d6721a717]\n",
       "link E4 to E5--><a href=\"psysml:cd6419af-0f56-471f-8341-f3995db2a676\" target=\"_top\" title=\"psysml:cd6419af-0f56-471f-8341-f3995db2a676\" xlink:actuate=\"onRequest\" xlink:href=\"psysml:cd6419af-0f56-471f-8341-f3995db2a676\" xlink:show=\"new\" xlink:title=\"psysml:cd6419af-0f56-471f-8341-f3995db2a676\" xlink:type=\"simple\"><path d=\"M382,346.82 C382,366.52 382,393.94 382,415.45 \" fill=\"none\" id=\"E4-&gt;E5\" style=\"stroke: #383838; stroke-width: 1.0; stroke-dasharray: 7.0,7.0;\"/><polygon fill=\"#383838\" points=\"382,423.67,385,415.67,379,415.67,382,423.67\" style=\"stroke: #383838; stroke-width: 1.0;\"/><text fill=\"#000000\" font-family=\"sans-serif\" font-size=\"13\" lengthAdjust=\"spacingAndGlyphs\" textLength=\"64\" x=\"383\" y=\"389.7869\">«depend»</text></a><!--MD5=[c5e8897d989ce984f93528998a7150fe]\n",
       "link E8 to E6--><a href=\"psysml:974879a0-be0c-4725-ba74-b00c4a2eaada\" target=\"_top\" title=\"psysml:974879a0-be0c-4725-ba74-b00c4a2eaada\" xlink:actuate=\"onRequest\" xlink:href=\"psysml:974879a0-be0c-4725-ba74-b00c4a2eaada\" xlink:show=\"new\" xlink:title=\"psysml:974879a0-be0c-4725-ba74-b00c4a2eaada\" xlink:type=\"simple\"><path d=\"M105.55,213.47 C89.97,228.91 72,246.72 72,246.72 C72,246.72 72,263.72 72,263.72 C72,263.72 72.88,275.93 73.81,288.9 \" fill=\"none\" id=\"E8-&gt;E6\" style=\"stroke: #383838; stroke-width: 1.0; stroke-dasharray: 7.0,7.0;\"/><polygon fill=\"#383838\" points=\"74.4,296.97,76.8203,288.776,70.8357,289.205,74.4,296.97\" style=\"stroke: #383838; stroke-width: 1.0;\"/><text fill=\"#000000\" font-family=\"sans-serif\" font-size=\"13\" lengthAdjust=\"spacingAndGlyphs\" textLength=\"64\" x=\"73\" y=\"259.7869\">«depend»</text></a><!--MD5=[bfa3c8b0d15052fdf50ae9310b491027]\n",
       "link E8 to E7--><a href=\"psysml:974879a0-be0c-4725-ba74-b00c4a2eaada\" target=\"_top\" title=\"psysml:974879a0-be0c-4725-ba74-b00c4a2eaada\" xlink:actuate=\"onRequest\" xlink:href=\"psysml:974879a0-be0c-4725-ba74-b00c4a2eaada\" xlink:show=\"new\" xlink:title=\"psysml:974879a0-be0c-4725-ba74-b00c4a2eaada\" xlink:type=\"simple\"><path d=\"M137.28,213.22 C146.17,234.29 159.64,266.22 169.47,289.53 \" fill=\"none\" id=\"E8-&gt;E7\" style=\"stroke: #383838; stroke-width: 1.0; stroke-dasharray: 7.0,7.0;\"/><polygon fill=\"#383838\" points=\"172.66,297.07,172.3241,288.5326,166.7933,290.8585,172.66,297.07\" style=\"stroke: #383838; stroke-width: 1.0;\"/><text fill=\"#000000\" font-family=\"sans-serif\" font-size=\"13\" lengthAdjust=\"spacingAndGlyphs\" textLength=\"64\" x=\"159\" y=\"259.7869\">«depend»</text></a><!--MD5=[6bb8eb447b939b2b5e62be174acdcee4]\n",
       "@startuml\r\n",
       "skinparam linetype polyline\r\n",
       "skinparam monochrome true\r\n",
       "skinparam classbackgroundcolor white\r\n",
       "skinparam shadowing false\r\n",
       "skinparam wrapWidth 300\r\n",
       "hide circle\r\n",
       "\r\n",
       "package \"DependencyTest\" as E1  [[psysml:0f0f2110-3be1-453e-862d-cec3a7a71a7a ]]  {\r\n",
       "package \"System\" as E2  [[psysml:c508d22c-e466-4361-9854-fd4393e1e853 ]]  {\r\n",
       "package \"Application Layer\" as E3  [[psysml:a9507a9e-eb7a-4860-b8c9-7900feca47e0 ]]  {\r\n",
       "}\r\n",
       "package \"Service Layer\" as E4  [[psysml:709ed33a-9ff9-4f13-a4b1-f82f2d0ae0d9 ]]  {\r\n",
       "}\r\n",
       "package \"Data Layer\" as E5  [[psysml:babd67af-01b8-42b4-9186-2fee6f5cc047 ]]  {\r\n",
       "}\r\n",
       "}\r\n",
       "comp usage \"x \" as E6  <<(T,blue) attribute>> [[psysml:2188fd29-8e87-4428-b2da-0b81f77b2176 ]] {\r\n",
       "}\r\n",
       "comp usage \"y \" as E7  <<(T,blue) attribute>> [[psysml:b1dded97-ff7b-4726-be9f-c0b539bbd77d ]] {\r\n",
       "}\r\n",
       "comp usage \"z \" as E8  <<(T,blue) attribute>> [[psysml:215a3247-a6dc-4d80-9cbe-6a95158331ec ]] {\r\n",
       "}\r\n",
       "}\r\n",
       "E1 ..> E2 [[psysml:8155982a-39d3-4776-bb66-97608c5c0d21 ]] : <<import>>*\r\n",
       "E3 ..>> E4 [[psysml:339645be-1a7b-490e-bb9e-fc7090e144b0 ]] : <<depend>>\r\n",
       "E4 ..>> E5 [[psysml:cd6419af-0f56-471f-8341-f3995db2a676 ]] : <<depend>>\r\n",
       "E8 ..>> E6 [[psysml:974879a0-be0c-4725-ba74-b00c4a2eaada ]] : <<depend>>\r\n",
       "E8 ..>> E7 [[psysml:974879a0-be0c-4725-ba74-b00c4a2eaada ]] : <<depend>>\r\n",
       "@enduml\r\n",
       "\n",
       "PlantUML version 1.2020.13(Sat Jun 13 12:26:38 UTC 2020)\n",
       "(EPL source distribution)\n",
       "Java Runtime: OpenJDK Runtime Environment\n",
       "JVM: OpenJDK 64-Bit Server VM\n",
       "Default Encoding: UTF-8\n",
       "Language: en\n",
       "Country: null\n",
       "--></g></svg>"
      ]
     },
     "execution_count": 15,
     "metadata": {},
     "output_type": "execute_result"
    }
   ],
   "source": [
    "%viz --style=\"POLYLINE\" --view=\"MIXED\" \"DependencyTest\""
   ]
  },
  {
   "cell_type": "code",
   "execution_count": 16,
   "id": "60da9bf5",
   "metadata": {
    "execution": {
     "iopub.execute_input": "2022-08-19T08:17:11.665772Z",
     "iopub.status.busy": "2022-08-19T08:17:11.665323Z",
     "iopub.status.idle": "2022-08-19T08:17:11.709116Z",
     "shell.execute_reply": "2022-08-19T08:17:11.708650Z"
    }
   },
   "outputs": [
    {
     "data": {
      "image/svg+xml": [
       "<?xml version=\"1.0\" encoding=\"UTF-8\" standalone=\"no\"?><svg xmlns=\"http://www.w3.org/2000/svg\" xmlns:xlink=\"http://www.w3.org/1999/xlink\" contentScriptType=\"application/ecmascript\" contentStyleType=\"text/css\" height=\"392px\" preserveAspectRatio=\"none\" style=\"width:860px;height:392px;\" version=\"1.1\" viewBox=\"0 0 860 392\" width=\"860px\" zoomAndPan=\"magnify\"><defs/><g><!--MD5=[fbc87193dbaf4d95561dea2c320d4a47]\n",
       "cluster E1--><a href=\"psysml:0f0f2110-3be1-453e-862d-cec3a7a71a7a\" target=\"_top\" title=\"psysml:0f0f2110-3be1-453e-862d-cec3a7a71a7a\" xlink:actuate=\"onRequest\" xlink:href=\"psysml:0f0f2110-3be1-453e-862d-cec3a7a71a7a\" xlink:show=\"new\" xlink:title=\"psysml:0f0f2110-3be1-453e-862d-cec3a7a71a7a\" xlink:type=\"simple\"><polygon fill=\"#FFFFFF\" points=\"16,6,142,6,149,28.2969,838.72,28.2969,838.72,380,16,380,16,6\" style=\"stroke: #000000; stroke-width: 1.5;\"/><line style=\"stroke: #000000; stroke-width: 1.5;\" x1=\"16\" x2=\"149\" y1=\"28.2969\" y2=\"28.2969\"/><text fill=\"#000000\" font-family=\"sans-serif\" font-size=\"14\" font-weight=\"bold\" lengthAdjust=\"spacingAndGlyphs\" textLength=\"120\" x=\"20\" y=\"20.9951\">DependencyTest</text></a><!--MD5=[e4f7fae6ed58524ba242bb0b0d3be6b7]\n",
       "cluster E2--><a href=\"psysml:c508d22c-e466-4361-9854-fd4393e1e853\" target=\"_top\" title=\"psysml:c508d22c-e466-4361-9854-fd4393e1e853\" xlink:actuate=\"onRequest\" xlink:href=\"psysml:c508d22c-e466-4361-9854-fd4393e1e853\" xlink:show=\"new\" xlink:title=\"psysml:c508d22c-e466-4361-9854-fd4393e1e853\" xlink:type=\"simple\"><polygon fill=\"#FFFFFF\" points=\"161.72,65,218.72,65,225.72,87.2969,798.72,87.2969,798.72,205,161.72,205,161.72,65\" style=\"stroke: #000000; stroke-width: 1.5;\"/><line style=\"stroke: #000000; stroke-width: 1.5;\" x1=\"161.72\" x2=\"225.72\" y1=\"87.2969\" y2=\"87.2969\"/><text fill=\"#000000\" font-family=\"sans-serif\" font-size=\"14\" font-weight=\"bold\" lengthAdjust=\"spacingAndGlyphs\" textLength=\"51\" x=\"165.72\" y=\"79.9951\">System</text></a><!--MD5=[60a26617385b1d2d0262a64233df1f8d]\n",
       "class E6--><a href=\"psysml:2188fd29-8e87-4428-b2da-0b81f77b2176\" target=\"_top\" title=\"psysml:2188fd29-8e87-4428-b2da-0b81f77b2176\" xlink:actuate=\"onRequest\" xlink:href=\"psysml:2188fd29-8e87-4428-b2da-0b81f77b2176\" xlink:show=\"new\" xlink:title=\"psysml:2188fd29-8e87-4428-b2da-0b81f77b2176\" xlink:type=\"simple\"><rect fill=\"#FFFFFF\" height=\"45.9375\" id=\"E6\" rx=\"10\" ry=\"10\" style=\"stroke: #383838; stroke-width: 1.5;\" width=\"71\" x=\"466.22\" y=\"310\"/><text fill=\"#000000\" font-family=\"sans-serif\" font-size=\"12\" font-style=\"italic\" lengthAdjust=\"spacingAndGlyphs\" textLength=\"69\" x=\"467.22\" y=\"326.1387\">«attribute»</text><text fill=\"#000000\" font-family=\"sans-serif\" font-size=\"12\" lengthAdjust=\"spacingAndGlyphs\" textLength=\"6\" x=\"496.72\" y=\"340.1074\">x</text><line style=\"stroke: #383838; stroke-width: 1.5;\" x1=\"467.22\" x2=\"536.22\" y1=\"347.9375\" y2=\"347.9375\"/></a><!--MD5=[2156ba9850f5573cc1fc38a6a4b2f02b]\n",
       "class E7--><a href=\"psysml:b1dded97-ff7b-4726-be9f-c0b539bbd77d\" target=\"_top\" title=\"psysml:b1dded97-ff7b-4726-be9f-c0b539bbd77d\" xlink:actuate=\"onRequest\" xlink:href=\"psysml:b1dded97-ff7b-4726-be9f-c0b539bbd77d\" xlink:show=\"new\" xlink:title=\"psysml:b1dded97-ff7b-4726-be9f-c0b539bbd77d\" xlink:type=\"simple\"><rect fill=\"#FFFFFF\" height=\"45.9375\" id=\"E7\" rx=\"10\" ry=\"10\" style=\"stroke: #383838; stroke-width: 1.5;\" width=\"71\" x=\"466.22\" y=\"229\"/><text fill=\"#000000\" font-family=\"sans-serif\" font-size=\"12\" font-style=\"italic\" lengthAdjust=\"spacingAndGlyphs\" textLength=\"69\" x=\"467.22\" y=\"245.1387\">«attribute»</text><text fill=\"#000000\" font-family=\"sans-serif\" font-size=\"12\" lengthAdjust=\"spacingAndGlyphs\" textLength=\"6\" x=\"496.72\" y=\"259.1074\">y</text><line style=\"stroke: #383838; stroke-width: 1.5;\" x1=\"467.22\" x2=\"536.22\" y1=\"266.9375\" y2=\"266.9375\"/></a><!--MD5=[b9389687b975829384b498ac4b7476b2]\n",
       "class E8--><a href=\"psysml:215a3247-a6dc-4d80-9cbe-6a95158331ec\" target=\"_top\" title=\"psysml:215a3247-a6dc-4d80-9cbe-6a95158331ec\" xlink:actuate=\"onRequest\" xlink:href=\"psysml:215a3247-a6dc-4d80-9cbe-6a95158331ec\" xlink:show=\"new\" xlink:title=\"psysml:215a3247-a6dc-4d80-9cbe-6a95158331ec\" xlink:type=\"simple\"><rect fill=\"#FFFFFF\" height=\"45.9375\" id=\"E8\" rx=\"10\" ry=\"10\" style=\"stroke: #383838; stroke-width: 1.5;\" width=\"71\" x=\"217.72\" y=\"262\"/><text fill=\"#000000\" font-family=\"sans-serif\" font-size=\"12\" font-style=\"italic\" lengthAdjust=\"spacingAndGlyphs\" textLength=\"69\" x=\"218.72\" y=\"278.1387\">«attribute»</text><text fill=\"#000000\" font-family=\"sans-serif\" font-size=\"12\" lengthAdjust=\"spacingAndGlyphs\" textLength=\"5\" x=\"248.72\" y=\"292.1074\">z</text><line style=\"stroke: #383838; stroke-width: 1.5;\" x1=\"218.72\" x2=\"287.72\" y1=\"299.9375\" y2=\"299.9375\"/></a><a href=\"psysml:a9507a9e-eb7a-4860-b8c9-7900feca47e0\" target=\"_top\" title=\"psysml:a9507a9e-eb7a-4860-b8c9-7900feca47e0\" xlink:actuate=\"onRequest\" xlink:href=\"psysml:a9507a9e-eb7a-4860-b8c9-7900feca47e0\" xlink:show=\"new\" xlink:title=\"psysml:a9507a9e-eb7a-4860-b8c9-7900feca47e0\" xlink:type=\"simple\"><polygon fill=\"#FFFFFF\" points=\"185.72,108.5,306.72,108.5,313.72,130.7969,320.72,130.7969,320.72,161.0938,185.72,161.0938,185.72,108.5\" style=\"stroke: #000000; stroke-width: 1.5;\"/><line style=\"stroke: #000000; stroke-width: 1.5;\" x1=\"185.72\" x2=\"313.72\" y1=\"130.7969\" y2=\"130.7969\"/><text fill=\"#000000\" font-family=\"sans-serif\" font-size=\"14\" font-weight=\"bold\" lengthAdjust=\"spacingAndGlyphs\" textLength=\"115\" x=\"189.72\" y=\"123.4951\">Application Layer</text></a><a href=\"psysml:709ed33a-9ff9-4f13-a4b1-f82f2d0ae0d9\" target=\"_top\" title=\"psysml:709ed33a-9ff9-4f13-a4b1-f82f2d0ae0d9\" xlink:actuate=\"onRequest\" xlink:href=\"psysml:709ed33a-9ff9-4f13-a4b1-f82f2d0ae0d9\" xlink:show=\"new\" xlink:title=\"psysml:709ed33a-9ff9-4f13-a4b1-f82f2d0ae0d9\" xlink:type=\"simple\"><polygon fill=\"#FFFFFF\" points=\"446.72,108.5,542.72,108.5,549.72,130.7969,556.72,130.7969,556.72,161.0938,446.72,161.0938,446.72,108.5\" style=\"stroke: #000000; stroke-width: 1.5;\"/><line style=\"stroke: #000000; stroke-width: 1.5;\" x1=\"446.72\" x2=\"549.72\" y1=\"130.7969\" y2=\"130.7969\"/><text fill=\"#000000\" font-family=\"sans-serif\" font-size=\"14\" font-weight=\"bold\" lengthAdjust=\"spacingAndGlyphs\" textLength=\"90\" x=\"450.72\" y=\"123.4951\">Service Layer</text></a><a href=\"psysml:babd67af-01b8-42b4-9186-2fee6f5cc047\" target=\"_top\" title=\"psysml:babd67af-01b8-42b4-9186-2fee6f5cc047\" xlink:actuate=\"onRequest\" xlink:href=\"psysml:babd67af-01b8-42b4-9186-2fee6f5cc047\" xlink:show=\"new\" xlink:title=\"psysml:babd67af-01b8-42b4-9186-2fee6f5cc047\" xlink:type=\"simple\"><polygon fill=\"#FFFFFF\" points=\"682.72,108.5,760.72,108.5,767.72,130.7969,774.72,130.7969,774.72,161.0938,682.72,161.0938,682.72,108.5\" style=\"stroke: #000000; stroke-width: 1.5;\"/><line style=\"stroke: #000000; stroke-width: 1.5;\" x1=\"682.72\" x2=\"767.72\" y1=\"130.7969\" y2=\"130.7969\"/><text fill=\"#000000\" font-family=\"sans-serif\" font-size=\"14\" font-weight=\"bold\" lengthAdjust=\"spacingAndGlyphs\" textLength=\"72\" x=\"686.72\" y=\"123.4951\">Data Layer</text></a><!--MD5=[1f1cd8e6dd4c1b2ca2aaccc9b9bcea6e]\n",
       "link E1 to E2--><a href=\"psysml:8155982a-39d3-4776-bb66-97608c5c0d21\" target=\"_top\" title=\"psysml:8155982a-39d3-4776-bb66-97608c5c0d21\" xlink:actuate=\"onRequest\" xlink:href=\"psysml:8155982a-39d3-4776-bb66-97608c5c0d21\" xlink:show=\"new\" xlink:title=\"psysml:8155982a-39d3-4776-bb66-97608c5c0d21\" xlink:type=\"simple\"><path d=\"M24.88,197 C28.275,197 83.4,197 138.5113,197 C145.4002,197 152.2888,197 159.0763,197 C159.9247,197 160.7715,197 161.6166,197 \" fill=\"none\" id=\"E1-&gt;E2\" style=\"stroke: #383838; stroke-width: 1.0; stroke-dasharray: 7.0,7.0;\"/><polygon fill=\"#383838\" points=\"161.6166,197,152.6166,193,156.6166,197,152.6166,201,161.6166,197\" style=\"stroke: #383838; stroke-width: 1.0;\"/><text fill=\"#000000\" font-family=\"sans-serif\" font-size=\"13\" lengthAdjust=\"spacingAndGlyphs\" textLength=\"65\" x=\"55.72\" y=\"193.0669\">«import»*</text></a><!--MD5=[af87c684e3b0d8be13c1a698a818ef1e]\n",
       "link E3 to E4--><a href=\"psysml:339645be-1a7b-490e-bb9e-fc7090e144b0\" target=\"_top\" title=\"psysml:339645be-1a7b-490e-bb9e-fc7090e144b0\" xlink:actuate=\"onRequest\" xlink:href=\"psysml:339645be-1a7b-490e-bb9e-fc7090e144b0\" xlink:show=\"new\" xlink:title=\"psysml:339645be-1a7b-490e-bb9e-fc7090e144b0\" xlink:type=\"simple\"><path d=\"M320.93,135 C357.36,135 402.21,135 438,135 \" fill=\"none\" id=\"E3-&gt;E4\" style=\"stroke: #383838; stroke-width: 1.0; stroke-dasharray: 7.0,7.0;\"/><polygon fill=\"#383838\" points=\"446.42,135,438.42,132,438.42,138,446.42,135\" style=\"stroke: #383838; stroke-width: 1.0;\"/><text fill=\"#000000\" font-family=\"sans-serif\" font-size=\"13\" lengthAdjust=\"spacingAndGlyphs\" textLength=\"64\" x=\"351.72\" y=\"131.0669\">«depend»</text></a><!--MD5=[1b7591eae5389033d8d09a9d6721a717]\n",
       "link E4 to E5--><a href=\"psysml:cd6419af-0f56-471f-8341-f3995db2a676\" target=\"_top\" title=\"psysml:cd6419af-0f56-471f-8341-f3995db2a676\" xlink:actuate=\"onRequest\" xlink:href=\"psysml:cd6419af-0f56-471f-8341-f3995db2a676\" xlink:show=\"new\" xlink:title=\"psysml:cd6419af-0f56-471f-8341-f3995db2a676\" xlink:type=\"simple\"><path d=\"M556.9,135 C592.53,135 638.96,135 674.41,135 \" fill=\"none\" id=\"E4-&gt;E5\" style=\"stroke: #383838; stroke-width: 1.0; stroke-dasharray: 7.0,7.0;\"/><polygon fill=\"#383838\" points=\"682.72,135,674.72,132,674.72,138,682.72,135\" style=\"stroke: #383838; stroke-width: 1.0;\"/><text fill=\"#000000\" font-family=\"sans-serif\" font-size=\"13\" lengthAdjust=\"spacingAndGlyphs\" textLength=\"64\" x=\"587.72\" y=\"131.0669\">«depend»</text></a><!--MD5=[c5e8897d989ce984f93528998a7150fe]\n",
       "link E8 to E6--><a href=\"psysml:974879a0-be0c-4725-ba74-b00c4a2eaada\" target=\"_top\" title=\"psysml:974879a0-be0c-4725-ba74-b00c4a2eaada\" xlink:actuate=\"onRequest\" xlink:href=\"psysml:974879a0-be0c-4725-ba74-b00c4a2eaada\" xlink:show=\"new\" xlink:title=\"psysml:974879a0-be0c-4725-ba74-b00c4a2eaada\" xlink:type=\"simple\"><path d=\"M288.75,291.72 C333.09,300.36 410.02,315.34 458,324.68 \" fill=\"none\" id=\"E8-&gt;E6\" style=\"stroke: #383838; stroke-width: 1.0; stroke-dasharray: 7.0,7.0;\"/><polygon fill=\"#383838\" points=\"466.02,326.24,458.7416,321.765,457.5938,327.6542,466.02,326.24\" style=\"stroke: #383838; stroke-width: 1.0;\"/><text fill=\"#000000\" font-family=\"sans-serif\" font-size=\"13\" lengthAdjust=\"spacingAndGlyphs\" textLength=\"64\" x=\"351.72\" y=\"301.0669\">«depend»</text></a><!--MD5=[bfa3c8b0d15052fdf50ae9310b491027]\n",
       "link E8 to E7--><a href=\"psysml:974879a0-be0c-4725-ba74-b00c4a2eaada\" target=\"_top\" title=\"psysml:974879a0-be0c-4725-ba74-b00c4a2eaada\" xlink:actuate=\"onRequest\" xlink:href=\"psysml:974879a0-be0c-4725-ba74-b00c4a2eaada\" xlink:show=\"new\" xlink:title=\"psysml:974879a0-be0c-4725-ba74-b00c4a2eaada\" xlink:type=\"simple\"><path d=\"M288.75,280.38 C333.09,274.44 410.02,264.14 458,257.72 \" fill=\"none\" id=\"E8-&gt;E7\" style=\"stroke: #383838; stroke-width: 1.0; stroke-dasharray: 7.0,7.0;\"/><polygon fill=\"#383838\" points=\"466.02,256.65,457.6937,254.7336,458.4867,260.681,466.02,256.65\" style=\"stroke: #383838; stroke-width: 1.0;\"/><text fill=\"#000000\" font-family=\"sans-serif\" font-size=\"13\" lengthAdjust=\"spacingAndGlyphs\" textLength=\"64\" x=\"351.72\" y=\"260.0669\">«depend»</text></a><!--MD5=[8e68835d0686aae1db8bbf8ccf03bfc2]\n",
       "@startuml\r\n",
       "left to right direction\r\n",
       "skinparam monochrome true\r\n",
       "skinparam classbackgroundcolor white\r\n",
       "skinparam shadowing false\r\n",
       "skinparam wrapWidth 300\r\n",
       "hide circle\r\n",
       "\r\n",
       "package \"DependencyTest\" as E1  [[psysml:0f0f2110-3be1-453e-862d-cec3a7a71a7a ]]  {\r\n",
       "package \"System\" as E2  [[psysml:c508d22c-e466-4361-9854-fd4393e1e853 ]]  {\r\n",
       "package \"Application Layer\" as E3  [[psysml:a9507a9e-eb7a-4860-b8c9-7900feca47e0 ]]  {\r\n",
       "}\r\n",
       "package \"Service Layer\" as E4  [[psysml:709ed33a-9ff9-4f13-a4b1-f82f2d0ae0d9 ]]  {\r\n",
       "}\r\n",
       "package \"Data Layer\" as E5  [[psysml:babd67af-01b8-42b4-9186-2fee6f5cc047 ]]  {\r\n",
       "}\r\n",
       "}\r\n",
       "comp usage \"x \" as E6  <<(T,blue) attribute>> [[psysml:2188fd29-8e87-4428-b2da-0b81f77b2176 ]] {\r\n",
       "}\r\n",
       "comp usage \"y \" as E7  <<(T,blue) attribute>> [[psysml:b1dded97-ff7b-4726-be9f-c0b539bbd77d ]] {\r\n",
       "}\r\n",
       "comp usage \"z \" as E8  <<(T,blue) attribute>> [[psysml:215a3247-a6dc-4d80-9cbe-6a95158331ec ]] {\r\n",
       "}\r\n",
       "}\r\n",
       "E1 ..> E2 [[psysml:8155982a-39d3-4776-bb66-97608c5c0d21 ]] : <<import>>*\r\n",
       "E3 ..>> E4 [[psysml:339645be-1a7b-490e-bb9e-fc7090e144b0 ]] : <<depend>>\r\n",
       "E4 ..>> E5 [[psysml:cd6419af-0f56-471f-8341-f3995db2a676 ]] : <<depend>>\r\n",
       "E8 ..>> E6 [[psysml:974879a0-be0c-4725-ba74-b00c4a2eaada ]] : <<depend>>\r\n",
       "E8 ..>> E7 [[psysml:974879a0-be0c-4725-ba74-b00c4a2eaada ]] : <<depend>>\r\n",
       "@enduml\r\n",
       "\n",
       "PlantUML version 1.2020.13(Sat Jun 13 12:26:38 UTC 2020)\n",
       "(EPL source distribution)\n",
       "Java Runtime: OpenJDK Runtime Environment\n",
       "JVM: OpenJDK 64-Bit Server VM\n",
       "Default Encoding: UTF-8\n",
       "Language: en\n",
       "Country: null\n",
       "--></g></svg>"
      ]
     },
     "execution_count": 16,
     "metadata": {},
     "output_type": "execute_result"
    }
   ],
   "source": [
    "%viz --style=\"LR\" --view=\"Default\" \"DependencyTest\""
   ]
  },
  {
   "cell_type": "code",
   "execution_count": 17,
   "id": "013fe010",
   "metadata": {
    "execution": {
     "iopub.execute_input": "2022-08-19T08:17:11.758109Z",
     "iopub.status.busy": "2022-08-19T08:17:11.757639Z",
     "iopub.status.idle": "2022-08-19T08:17:11.800019Z",
     "shell.execute_reply": "2022-08-19T08:17:11.799566Z"
    }
   },
   "outputs": [
    {
     "data": {
      "image/svg+xml": [
       "<?xml version=\"1.0\" encoding=\"UTF-8\" standalone=\"no\"?><svg xmlns=\"http://www.w3.org/2000/svg\" xmlns:xlink=\"http://www.w3.org/1999/xlink\" contentScriptType=\"application/ecmascript\" contentStyleType=\"text/css\" height=\"392px\" preserveAspectRatio=\"none\" style=\"width:860px;height:392px;\" version=\"1.1\" viewBox=\"0 0 860 392\" width=\"860px\" zoomAndPan=\"magnify\"><defs/><g><!--MD5=[fbc87193dbaf4d95561dea2c320d4a47]\n",
       "cluster E1--><a href=\"psysml:0f0f2110-3be1-453e-862d-cec3a7a71a7a\" target=\"_top\" title=\"psysml:0f0f2110-3be1-453e-862d-cec3a7a71a7a\" xlink:actuate=\"onRequest\" xlink:href=\"psysml:0f0f2110-3be1-453e-862d-cec3a7a71a7a\" xlink:show=\"new\" xlink:title=\"psysml:0f0f2110-3be1-453e-862d-cec3a7a71a7a\" xlink:type=\"simple\"><polygon fill=\"#FFFFFF\" points=\"16,6,142,6,149,28.2969,838.72,28.2969,838.72,380,16,380,16,6\" style=\"stroke: #000000; stroke-width: 1.5;\"/><line style=\"stroke: #000000; stroke-width: 1.5;\" x1=\"16\" x2=\"149\" y1=\"28.2969\" y2=\"28.2969\"/><text fill=\"#000000\" font-family=\"sans-serif\" font-size=\"14\" font-weight=\"bold\" lengthAdjust=\"spacingAndGlyphs\" textLength=\"120\" x=\"20\" y=\"20.9951\">DependencyTest</text></a><!--MD5=[e4f7fae6ed58524ba242bb0b0d3be6b7]\n",
       "cluster E2--><a href=\"psysml:c508d22c-e466-4361-9854-fd4393e1e853\" target=\"_top\" title=\"psysml:c508d22c-e466-4361-9854-fd4393e1e853\" xlink:actuate=\"onRequest\" xlink:href=\"psysml:c508d22c-e466-4361-9854-fd4393e1e853\" xlink:show=\"new\" xlink:title=\"psysml:c508d22c-e466-4361-9854-fd4393e1e853\" xlink:type=\"simple\"><polygon fill=\"#FFFFFF\" points=\"161.72,65,218.72,65,225.72,87.2969,798.72,87.2969,798.72,205,161.72,205,161.72,65\" style=\"stroke: #000000; stroke-width: 1.5;\"/><line style=\"stroke: #000000; stroke-width: 1.5;\" x1=\"161.72\" x2=\"225.72\" y1=\"87.2969\" y2=\"87.2969\"/><text fill=\"#000000\" font-family=\"sans-serif\" font-size=\"14\" font-weight=\"bold\" lengthAdjust=\"spacingAndGlyphs\" textLength=\"51\" x=\"165.72\" y=\"79.9951\">System</text></a><!--MD5=[60a26617385b1d2d0262a64233df1f8d]\n",
       "class E6--><a href=\"psysml:2188fd29-8e87-4428-b2da-0b81f77b2176\" target=\"_top\" title=\"psysml:2188fd29-8e87-4428-b2da-0b81f77b2176\" xlink:actuate=\"onRequest\" xlink:href=\"psysml:2188fd29-8e87-4428-b2da-0b81f77b2176\" xlink:show=\"new\" xlink:title=\"psysml:2188fd29-8e87-4428-b2da-0b81f77b2176\" xlink:type=\"simple\"><rect fill=\"#FFFFFF\" height=\"45.9375\" id=\"E6\" rx=\"10\" ry=\"10\" style=\"stroke: #383838; stroke-width: 1.5;\" width=\"71\" x=\"466.22\" y=\"310\"/><text fill=\"#000000\" font-family=\"sans-serif\" font-size=\"12\" font-style=\"italic\" lengthAdjust=\"spacingAndGlyphs\" textLength=\"69\" x=\"467.22\" y=\"326.1387\">«attribute»</text><text fill=\"#000000\" font-family=\"sans-serif\" font-size=\"12\" lengthAdjust=\"spacingAndGlyphs\" textLength=\"6\" x=\"496.72\" y=\"340.1074\">x</text><line style=\"stroke: #383838; stroke-width: 1.5;\" x1=\"467.22\" x2=\"536.22\" y1=\"347.9375\" y2=\"347.9375\"/></a><!--MD5=[2156ba9850f5573cc1fc38a6a4b2f02b]\n",
       "class E7--><a href=\"psysml:b1dded97-ff7b-4726-be9f-c0b539bbd77d\" target=\"_top\" title=\"psysml:b1dded97-ff7b-4726-be9f-c0b539bbd77d\" xlink:actuate=\"onRequest\" xlink:href=\"psysml:b1dded97-ff7b-4726-be9f-c0b539bbd77d\" xlink:show=\"new\" xlink:title=\"psysml:b1dded97-ff7b-4726-be9f-c0b539bbd77d\" xlink:type=\"simple\"><rect fill=\"#FFFFFF\" height=\"45.9375\" id=\"E7\" rx=\"10\" ry=\"10\" style=\"stroke: #383838; stroke-width: 1.5;\" width=\"71\" x=\"466.22\" y=\"229\"/><text fill=\"#000000\" font-family=\"sans-serif\" font-size=\"12\" font-style=\"italic\" lengthAdjust=\"spacingAndGlyphs\" textLength=\"69\" x=\"467.22\" y=\"245.1387\">«attribute»</text><text fill=\"#000000\" font-family=\"sans-serif\" font-size=\"12\" lengthAdjust=\"spacingAndGlyphs\" textLength=\"6\" x=\"496.72\" y=\"259.1074\">y</text><line style=\"stroke: #383838; stroke-width: 1.5;\" x1=\"467.22\" x2=\"536.22\" y1=\"266.9375\" y2=\"266.9375\"/></a><!--MD5=[b9389687b975829384b498ac4b7476b2]\n",
       "class E8--><a href=\"psysml:215a3247-a6dc-4d80-9cbe-6a95158331ec\" target=\"_top\" title=\"psysml:215a3247-a6dc-4d80-9cbe-6a95158331ec\" xlink:actuate=\"onRequest\" xlink:href=\"psysml:215a3247-a6dc-4d80-9cbe-6a95158331ec\" xlink:show=\"new\" xlink:title=\"psysml:215a3247-a6dc-4d80-9cbe-6a95158331ec\" xlink:type=\"simple\"><rect fill=\"#FFFFFF\" height=\"45.9375\" id=\"E8\" rx=\"10\" ry=\"10\" style=\"stroke: #383838; stroke-width: 1.5;\" width=\"71\" x=\"217.72\" y=\"262\"/><text fill=\"#000000\" font-family=\"sans-serif\" font-size=\"12\" font-style=\"italic\" lengthAdjust=\"spacingAndGlyphs\" textLength=\"69\" x=\"218.72\" y=\"278.1387\">«attribute»</text><text fill=\"#000000\" font-family=\"sans-serif\" font-size=\"12\" lengthAdjust=\"spacingAndGlyphs\" textLength=\"5\" x=\"248.72\" y=\"292.1074\">z</text><line style=\"stroke: #383838; stroke-width: 1.5;\" x1=\"218.72\" x2=\"287.72\" y1=\"299.9375\" y2=\"299.9375\"/></a><a href=\"psysml:a9507a9e-eb7a-4860-b8c9-7900feca47e0\" target=\"_top\" title=\"psysml:a9507a9e-eb7a-4860-b8c9-7900feca47e0\" xlink:actuate=\"onRequest\" xlink:href=\"psysml:a9507a9e-eb7a-4860-b8c9-7900feca47e0\" xlink:show=\"new\" xlink:title=\"psysml:a9507a9e-eb7a-4860-b8c9-7900feca47e0\" xlink:type=\"simple\"><polygon fill=\"#FFFFFF\" points=\"185.72,108.5,306.72,108.5,313.72,130.7969,320.72,130.7969,320.72,161.0938,185.72,161.0938,185.72,108.5\" style=\"stroke: #000000; stroke-width: 1.5;\"/><line style=\"stroke: #000000; stroke-width: 1.5;\" x1=\"185.72\" x2=\"313.72\" y1=\"130.7969\" y2=\"130.7969\"/><text fill=\"#000000\" font-family=\"sans-serif\" font-size=\"14\" font-weight=\"bold\" lengthAdjust=\"spacingAndGlyphs\" textLength=\"115\" x=\"189.72\" y=\"123.4951\">Application Layer</text></a><a href=\"psysml:709ed33a-9ff9-4f13-a4b1-f82f2d0ae0d9\" target=\"_top\" title=\"psysml:709ed33a-9ff9-4f13-a4b1-f82f2d0ae0d9\" xlink:actuate=\"onRequest\" xlink:href=\"psysml:709ed33a-9ff9-4f13-a4b1-f82f2d0ae0d9\" xlink:show=\"new\" xlink:title=\"psysml:709ed33a-9ff9-4f13-a4b1-f82f2d0ae0d9\" xlink:type=\"simple\"><polygon fill=\"#FFFFFF\" points=\"446.72,108.5,542.72,108.5,549.72,130.7969,556.72,130.7969,556.72,161.0938,446.72,161.0938,446.72,108.5\" style=\"stroke: #000000; stroke-width: 1.5;\"/><line style=\"stroke: #000000; stroke-width: 1.5;\" x1=\"446.72\" x2=\"549.72\" y1=\"130.7969\" y2=\"130.7969\"/><text fill=\"#000000\" font-family=\"sans-serif\" font-size=\"14\" font-weight=\"bold\" lengthAdjust=\"spacingAndGlyphs\" textLength=\"90\" x=\"450.72\" y=\"123.4951\">Service Layer</text></a><a href=\"psysml:babd67af-01b8-42b4-9186-2fee6f5cc047\" target=\"_top\" title=\"psysml:babd67af-01b8-42b4-9186-2fee6f5cc047\" xlink:actuate=\"onRequest\" xlink:href=\"psysml:babd67af-01b8-42b4-9186-2fee6f5cc047\" xlink:show=\"new\" xlink:title=\"psysml:babd67af-01b8-42b4-9186-2fee6f5cc047\" xlink:type=\"simple\"><polygon fill=\"#FFFFFF\" points=\"682.72,108.5,760.72,108.5,767.72,130.7969,774.72,130.7969,774.72,161.0938,682.72,161.0938,682.72,108.5\" style=\"stroke: #000000; stroke-width: 1.5;\"/><line style=\"stroke: #000000; stroke-width: 1.5;\" x1=\"682.72\" x2=\"767.72\" y1=\"130.7969\" y2=\"130.7969\"/><text fill=\"#000000\" font-family=\"sans-serif\" font-size=\"14\" font-weight=\"bold\" lengthAdjust=\"spacingAndGlyphs\" textLength=\"72\" x=\"686.72\" y=\"123.4951\">Data Layer</text></a><!--MD5=[1f1cd8e6dd4c1b2ca2aaccc9b9bcea6e]\n",
       "link E1 to E2--><a href=\"psysml:8155982a-39d3-4776-bb66-97608c5c0d21\" target=\"_top\" title=\"psysml:8155982a-39d3-4776-bb66-97608c5c0d21\" xlink:actuate=\"onRequest\" xlink:href=\"psysml:8155982a-39d3-4776-bb66-97608c5c0d21\" xlink:show=\"new\" xlink:title=\"psysml:8155982a-39d3-4776-bb66-97608c5c0d21\" xlink:type=\"simple\"><path d=\"M24.88,197 C28.275,197 83.4,197 138.5113,197 C145.4002,197 152.2888,197 159.0763,197 C159.9247,197 160.7715,197 161.6166,197 \" fill=\"none\" id=\"E1-&gt;E2\" style=\"stroke: #383838; stroke-width: 1.0; stroke-dasharray: 7.0,7.0;\"/><polygon fill=\"#383838\" points=\"161.6166,197,152.6166,193,156.6166,197,152.6166,201,161.6166,197\" style=\"stroke: #383838; stroke-width: 1.0;\"/><text fill=\"#000000\" font-family=\"sans-serif\" font-size=\"13\" lengthAdjust=\"spacingAndGlyphs\" textLength=\"65\" x=\"55.72\" y=\"193.0669\">«import»*</text></a><!--MD5=[af87c684e3b0d8be13c1a698a818ef1e]\n",
       "link E3 to E4--><a href=\"psysml:339645be-1a7b-490e-bb9e-fc7090e144b0\" target=\"_top\" title=\"psysml:339645be-1a7b-490e-bb9e-fc7090e144b0\" xlink:actuate=\"onRequest\" xlink:href=\"psysml:339645be-1a7b-490e-bb9e-fc7090e144b0\" xlink:show=\"new\" xlink:title=\"psysml:339645be-1a7b-490e-bb9e-fc7090e144b0\" xlink:type=\"simple\"><path d=\"M320.93,135 C357.36,135 402.21,135 438,135 \" fill=\"none\" id=\"E3-&gt;E4\" style=\"stroke: #383838; stroke-width: 1.0; stroke-dasharray: 7.0,7.0;\"/><polygon fill=\"#383838\" points=\"446.42,135,438.42,132,438.42,138,446.42,135\" style=\"stroke: #383838; stroke-width: 1.0;\"/><text fill=\"#000000\" font-family=\"sans-serif\" font-size=\"13\" lengthAdjust=\"spacingAndGlyphs\" textLength=\"64\" x=\"351.72\" y=\"131.0669\">«depend»</text></a><!--MD5=[1b7591eae5389033d8d09a9d6721a717]\n",
       "link E4 to E5--><a href=\"psysml:cd6419af-0f56-471f-8341-f3995db2a676\" target=\"_top\" title=\"psysml:cd6419af-0f56-471f-8341-f3995db2a676\" xlink:actuate=\"onRequest\" xlink:href=\"psysml:cd6419af-0f56-471f-8341-f3995db2a676\" xlink:show=\"new\" xlink:title=\"psysml:cd6419af-0f56-471f-8341-f3995db2a676\" xlink:type=\"simple\"><path d=\"M556.9,135 C592.53,135 638.96,135 674.41,135 \" fill=\"none\" id=\"E4-&gt;E5\" style=\"stroke: #383838; stroke-width: 1.0; stroke-dasharray: 7.0,7.0;\"/><polygon fill=\"#383838\" points=\"682.72,135,674.72,132,674.72,138,682.72,135\" style=\"stroke: #383838; stroke-width: 1.0;\"/><text fill=\"#000000\" font-family=\"sans-serif\" font-size=\"13\" lengthAdjust=\"spacingAndGlyphs\" textLength=\"64\" x=\"587.72\" y=\"131.0669\">«depend»</text></a><!--MD5=[c5e8897d989ce984f93528998a7150fe]\n",
       "link E8 to E6--><a href=\"psysml:974879a0-be0c-4725-ba74-b00c4a2eaada\" target=\"_top\" title=\"psysml:974879a0-be0c-4725-ba74-b00c4a2eaada\" xlink:actuate=\"onRequest\" xlink:href=\"psysml:974879a0-be0c-4725-ba74-b00c4a2eaada\" xlink:show=\"new\" xlink:title=\"psysml:974879a0-be0c-4725-ba74-b00c4a2eaada\" xlink:type=\"simple\"><path d=\"M288.75,291.72 C333.09,300.36 410.02,315.34 458,324.68 \" fill=\"none\" id=\"E8-&gt;E6\" style=\"stroke: #383838; stroke-width: 1.0; stroke-dasharray: 7.0,7.0;\"/><polygon fill=\"#383838\" points=\"466.02,326.24,458.7416,321.765,457.5938,327.6542,466.02,326.24\" style=\"stroke: #383838; stroke-width: 1.0;\"/><text fill=\"#000000\" font-family=\"sans-serif\" font-size=\"13\" lengthAdjust=\"spacingAndGlyphs\" textLength=\"64\" x=\"351.72\" y=\"301.0669\">«depend»</text></a><!--MD5=[bfa3c8b0d15052fdf50ae9310b491027]\n",
       "link E8 to E7--><a href=\"psysml:974879a0-be0c-4725-ba74-b00c4a2eaada\" target=\"_top\" title=\"psysml:974879a0-be0c-4725-ba74-b00c4a2eaada\" xlink:actuate=\"onRequest\" xlink:href=\"psysml:974879a0-be0c-4725-ba74-b00c4a2eaada\" xlink:show=\"new\" xlink:title=\"psysml:974879a0-be0c-4725-ba74-b00c4a2eaada\" xlink:type=\"simple\"><path d=\"M288.75,280.38 C333.09,274.44 410.02,264.14 458,257.72 \" fill=\"none\" id=\"E8-&gt;E7\" style=\"stroke: #383838; stroke-width: 1.0; stroke-dasharray: 7.0,7.0;\"/><polygon fill=\"#383838\" points=\"466.02,256.65,457.6937,254.7336,458.4867,260.681,466.02,256.65\" style=\"stroke: #383838; stroke-width: 1.0;\"/><text fill=\"#000000\" font-family=\"sans-serif\" font-size=\"13\" lengthAdjust=\"spacingAndGlyphs\" textLength=\"64\" x=\"351.72\" y=\"260.0669\">«depend»</text></a><!--MD5=[8e68835d0686aae1db8bbf8ccf03bfc2]\n",
       "@startuml\r\n",
       "left to right direction\r\n",
       "skinparam monochrome true\r\n",
       "skinparam classbackgroundcolor white\r\n",
       "skinparam shadowing false\r\n",
       "skinparam wrapWidth 300\r\n",
       "hide circle\r\n",
       "\r\n",
       "package \"DependencyTest\" as E1  [[psysml:0f0f2110-3be1-453e-862d-cec3a7a71a7a ]]  {\r\n",
       "package \"System\" as E2  [[psysml:c508d22c-e466-4361-9854-fd4393e1e853 ]]  {\r\n",
       "package \"Application Layer\" as E3  [[psysml:a9507a9e-eb7a-4860-b8c9-7900feca47e0 ]]  {\r\n",
       "}\r\n",
       "package \"Service Layer\" as E4  [[psysml:709ed33a-9ff9-4f13-a4b1-f82f2d0ae0d9 ]]  {\r\n",
       "}\r\n",
       "package \"Data Layer\" as E5  [[psysml:babd67af-01b8-42b4-9186-2fee6f5cc047 ]]  {\r\n",
       "}\r\n",
       "}\r\n",
       "comp usage \"x \" as E6  <<(T,blue) attribute>> [[psysml:2188fd29-8e87-4428-b2da-0b81f77b2176 ]] {\r\n",
       "}\r\n",
       "comp usage \"y \" as E7  <<(T,blue) attribute>> [[psysml:b1dded97-ff7b-4726-be9f-c0b539bbd77d ]] {\r\n",
       "}\r\n",
       "comp usage \"z \" as E8  <<(T,blue) attribute>> [[psysml:215a3247-a6dc-4d80-9cbe-6a95158331ec ]] {\r\n",
       "}\r\n",
       "}\r\n",
       "E1 ..> E2 [[psysml:8155982a-39d3-4776-bb66-97608c5c0d21 ]] : <<import>>*\r\n",
       "E3 ..>> E4 [[psysml:339645be-1a7b-490e-bb9e-fc7090e144b0 ]] : <<depend>>\r\n",
       "E4 ..>> E5 [[psysml:cd6419af-0f56-471f-8341-f3995db2a676 ]] : <<depend>>\r\n",
       "E8 ..>> E6 [[psysml:974879a0-be0c-4725-ba74-b00c4a2eaada ]] : <<depend>>\r\n",
       "E8 ..>> E7 [[psysml:974879a0-be0c-4725-ba74-b00c4a2eaada ]] : <<depend>>\r\n",
       "@enduml\r\n",
       "\n",
       "PlantUML version 1.2020.13(Sat Jun 13 12:26:38 UTC 2020)\n",
       "(EPL source distribution)\n",
       "Java Runtime: OpenJDK Runtime Environment\n",
       "JVM: OpenJDK 64-Bit Server VM\n",
       "Default Encoding: UTF-8\n",
       "Language: en\n",
       "Country: null\n",
       "--></g></svg>"
      ]
     },
     "execution_count": 17,
     "metadata": {},
     "output_type": "execute_result"
    }
   ],
   "source": [
    "%viz --style=\"LR\" --view=\"Tree\" \"DependencyTest\""
   ]
  },
  {
   "cell_type": "code",
   "execution_count": 18,
   "id": "83b1e0a4",
   "metadata": {
    "execution": {
     "iopub.execute_input": "2022-08-19T08:17:11.849995Z",
     "iopub.status.busy": "2022-08-19T08:17:11.849475Z",
     "iopub.status.idle": "2022-08-19T08:17:11.855522Z",
     "shell.execute_reply": "2022-08-19T08:17:11.855892Z"
    }
   },
   "outputs": [
    {
     "data": {
      "image/svg+xml": [
       "<?xml version=\"1.0\" encoding=\"UTF-8\" standalone=\"no\"?><svg xmlns=\"http://www.w3.org/2000/svg\" xmlns:xlink=\"http://www.w3.org/1999/xlink\" contentScriptType=\"application/ecmascript\" contentStyleType=\"text/css\" height=\"12px\" preserveAspectRatio=\"none\" style=\"width:12px;height:12px;\" version=\"1.1\" viewBox=\"0 0 12 12\" width=\"12px\" zoomAndPan=\"magnify\"><defs/><g><!--MD5=[19d285c9d72a204eba4e2cd117d745e8]\n",
       "@startuml\r\n",
       "left to right direction\r\n",
       "skinparam monochrome true\r\n",
       "skinparam classbackgroundcolor white\r\n",
       "skinparam shadowing false\r\n",
       "skinparam wrapWidth 300\r\n",
       "hide circle\r\n",
       "\r\n",
       "@enduml\r\n",
       "\n",
       "PlantUML version 1.2020.13(Sat Jun 13 12:26:38 UTC 2020)\n",
       "(EPL source distribution)\n",
       "Java Runtime: OpenJDK Runtime Environment\n",
       "JVM: OpenJDK 64-Bit Server VM\n",
       "Default Encoding: UTF-8\n",
       "Language: en\n",
       "Country: null\n",
       "--></g></svg>"
      ]
     },
     "execution_count": 18,
     "metadata": {},
     "output_type": "execute_result"
    }
   ],
   "source": [
    "%viz --style=\"LR\" --view=\"State\" \"DependencyTest\""
   ]
  },
  {
   "cell_type": "code",
   "execution_count": 19,
   "id": "733a38ae",
   "metadata": {
    "execution": {
     "iopub.execute_input": "2022-08-19T08:17:11.906139Z",
     "iopub.status.busy": "2022-08-19T08:17:11.905551Z",
     "iopub.status.idle": "2022-08-19T08:17:11.948649Z",
     "shell.execute_reply": "2022-08-19T08:17:11.948985Z"
    }
   },
   "outputs": [
    {
     "data": {
      "image/svg+xml": [
       "<?xml version=\"1.0\" encoding=\"UTF-8\" standalone=\"no\"?><svg xmlns=\"http://www.w3.org/2000/svg\" xmlns:xlink=\"http://www.w3.org/1999/xlink\" contentScriptType=\"application/ecmascript\" contentStyleType=\"text/css\" height=\"392px\" preserveAspectRatio=\"none\" style=\"width:750px;height:392px;\" version=\"1.1\" viewBox=\"0 0 750 392\" width=\"750px\" zoomAndPan=\"magnify\"><defs/><g><!--MD5=[fbc87193dbaf4d95561dea2c320d4a47]\n",
       "cluster E1--><a href=\"psysml:0f0f2110-3be1-453e-862d-cec3a7a71a7a\" target=\"_top\" title=\"psysml:0f0f2110-3be1-453e-862d-cec3a7a71a7a\" xlink:actuate=\"onRequest\" xlink:href=\"psysml:0f0f2110-3be1-453e-862d-cec3a7a71a7a\" xlink:show=\"new\" xlink:title=\"psysml:0f0f2110-3be1-453e-862d-cec3a7a71a7a\" xlink:type=\"simple\"><polygon fill=\"#FFFFFF\" points=\"16,6,142,6,149,28.2969,728.72,28.2969,728.72,380,16,380,16,6\" style=\"stroke: #000000; stroke-width: 1.5;\"/><line style=\"stroke: #000000; stroke-width: 1.5;\" x1=\"16\" x2=\"149\" y1=\"28.2969\" y2=\"28.2969\"/><text fill=\"#000000\" font-family=\"sans-serif\" font-size=\"14\" font-weight=\"bold\" lengthAdjust=\"spacingAndGlyphs\" textLength=\"120\" x=\"20\" y=\"20.9951\">DependencyTest</text></a><!--MD5=[e4f7fae6ed58524ba242bb0b0d3be6b7]\n",
       "cluster E2--><a href=\"psysml:c508d22c-e466-4361-9854-fd4393e1e853\" target=\"_top\" title=\"psysml:c508d22c-e466-4361-9854-fd4393e1e853\" xlink:actuate=\"onRequest\" xlink:href=\"psysml:c508d22c-e466-4361-9854-fd4393e1e853\" xlink:show=\"new\" xlink:title=\"psysml:c508d22c-e466-4361-9854-fd4393e1e853\" xlink:type=\"simple\"><polygon fill=\"#FFFFFF\" points=\"139.72,65,196.72,65,203.72,87.2969,688.72,87.2969,688.72,205,139.72,205,139.72,65\" style=\"stroke: #000000; stroke-width: 1.5;\"/><line style=\"stroke: #000000; stroke-width: 1.5;\" x1=\"139.72\" x2=\"203.72\" y1=\"87.2969\" y2=\"87.2969\"/><text fill=\"#000000\" font-family=\"sans-serif\" font-size=\"14\" font-weight=\"bold\" lengthAdjust=\"spacingAndGlyphs\" textLength=\"51\" x=\"143.72\" y=\"79.9951\">System</text></a><!--MD5=[60a26617385b1d2d0262a64233df1f8d]\n",
       "class E6--><a href=\"psysml:2188fd29-8e87-4428-b2da-0b81f77b2176\" target=\"_top\" title=\"psysml:2188fd29-8e87-4428-b2da-0b81f77b2176\" xlink:actuate=\"onRequest\" xlink:href=\"psysml:2188fd29-8e87-4428-b2da-0b81f77b2176\" xlink:show=\"new\" xlink:title=\"psysml:2188fd29-8e87-4428-b2da-0b81f77b2176\" xlink:type=\"simple\"><rect fill=\"#FFFFFF\" height=\"45.9375\" id=\"E6\" rx=\"10\" ry=\"10\" style=\"stroke: #383838; stroke-width: 1.5;\" width=\"71\" x=\"400.22\" y=\"310\"/><text fill=\"#000000\" font-family=\"sans-serif\" font-size=\"12\" font-style=\"italic\" lengthAdjust=\"spacingAndGlyphs\" textLength=\"69\" x=\"401.22\" y=\"326.1387\">«attribute»</text><text fill=\"#000000\" font-family=\"sans-serif\" font-size=\"12\" lengthAdjust=\"spacingAndGlyphs\" textLength=\"6\" x=\"430.72\" y=\"340.1074\">x</text><line style=\"stroke: #383838; stroke-width: 1.5;\" x1=\"401.22\" x2=\"470.22\" y1=\"347.9375\" y2=\"347.9375\"/></a><!--MD5=[2156ba9850f5573cc1fc38a6a4b2f02b]\n",
       "class E7--><a href=\"psysml:b1dded97-ff7b-4726-be9f-c0b539bbd77d\" target=\"_top\" title=\"psysml:b1dded97-ff7b-4726-be9f-c0b539bbd77d\" xlink:actuate=\"onRequest\" xlink:href=\"psysml:b1dded97-ff7b-4726-be9f-c0b539bbd77d\" xlink:show=\"new\" xlink:title=\"psysml:b1dded97-ff7b-4726-be9f-c0b539bbd77d\" xlink:type=\"simple\"><rect fill=\"#FFFFFF\" height=\"45.9375\" id=\"E7\" rx=\"10\" ry=\"10\" style=\"stroke: #383838; stroke-width: 1.5;\" width=\"71\" x=\"400.22\" y=\"229\"/><text fill=\"#000000\" font-family=\"sans-serif\" font-size=\"12\" font-style=\"italic\" lengthAdjust=\"spacingAndGlyphs\" textLength=\"69\" x=\"401.22\" y=\"245.1387\">«attribute»</text><text fill=\"#000000\" font-family=\"sans-serif\" font-size=\"12\" lengthAdjust=\"spacingAndGlyphs\" textLength=\"6\" x=\"430.72\" y=\"259.1074\">y</text><line style=\"stroke: #383838; stroke-width: 1.5;\" x1=\"401.22\" x2=\"470.22\" y1=\"266.9375\" y2=\"266.9375\"/></a><!--MD5=[b9389687b975829384b498ac4b7476b2]\n",
       "class E8--><a href=\"psysml:215a3247-a6dc-4d80-9cbe-6a95158331ec\" target=\"_top\" title=\"psysml:215a3247-a6dc-4d80-9cbe-6a95158331ec\" xlink:actuate=\"onRequest\" xlink:href=\"psysml:215a3247-a6dc-4d80-9cbe-6a95158331ec\" xlink:show=\"new\" xlink:title=\"psysml:215a3247-a6dc-4d80-9cbe-6a95158331ec\" xlink:type=\"simple\"><rect fill=\"#FFFFFF\" height=\"45.9375\" id=\"E8\" rx=\"10\" ry=\"10\" style=\"stroke: #383838; stroke-width: 1.5;\" width=\"71\" x=\"195.72\" y=\"262\"/><text fill=\"#000000\" font-family=\"sans-serif\" font-size=\"12\" font-style=\"italic\" lengthAdjust=\"spacingAndGlyphs\" textLength=\"69\" x=\"196.72\" y=\"278.1387\">«attribute»</text><text fill=\"#000000\" font-family=\"sans-serif\" font-size=\"12\" lengthAdjust=\"spacingAndGlyphs\" textLength=\"5\" x=\"226.72\" y=\"292.1074\">z</text><line style=\"stroke: #383838; stroke-width: 1.5;\" x1=\"196.72\" x2=\"265.72\" y1=\"299.9375\" y2=\"299.9375\"/></a><a href=\"psysml:a9507a9e-eb7a-4860-b8c9-7900feca47e0\" target=\"_top\" title=\"psysml:a9507a9e-eb7a-4860-b8c9-7900feca47e0\" xlink:actuate=\"onRequest\" xlink:href=\"psysml:a9507a9e-eb7a-4860-b8c9-7900feca47e0\" xlink:show=\"new\" xlink:title=\"psysml:a9507a9e-eb7a-4860-b8c9-7900feca47e0\" xlink:type=\"simple\"><polygon fill=\"#FFFFFF\" points=\"163.72,108.5,284.72,108.5,291.72,130.7969,298.72,130.7969,298.72,161.0938,163.72,161.0938,163.72,108.5\" style=\"stroke: #000000; stroke-width: 1.5;\"/><line style=\"stroke: #000000; stroke-width: 1.5;\" x1=\"163.72\" x2=\"291.72\" y1=\"130.7969\" y2=\"130.7969\"/><text fill=\"#000000\" font-family=\"sans-serif\" font-size=\"14\" font-weight=\"bold\" lengthAdjust=\"spacingAndGlyphs\" textLength=\"115\" x=\"167.72\" y=\"123.4951\">Application Layer</text></a><a href=\"psysml:709ed33a-9ff9-4f13-a4b1-f82f2d0ae0d9\" target=\"_top\" title=\"psysml:709ed33a-9ff9-4f13-a4b1-f82f2d0ae0d9\" xlink:actuate=\"onRequest\" xlink:href=\"psysml:709ed33a-9ff9-4f13-a4b1-f82f2d0ae0d9\" xlink:show=\"new\" xlink:title=\"psysml:709ed33a-9ff9-4f13-a4b1-f82f2d0ae0d9\" xlink:type=\"simple\"><polygon fill=\"#FFFFFF\" points=\"380.72,108.5,476.72,108.5,483.72,130.7969,490.72,130.7969,490.72,161.0938,380.72,161.0938,380.72,108.5\" style=\"stroke: #000000; stroke-width: 1.5;\"/><line style=\"stroke: #000000; stroke-width: 1.5;\" x1=\"380.72\" x2=\"483.72\" y1=\"130.7969\" y2=\"130.7969\"/><text fill=\"#000000\" font-family=\"sans-serif\" font-size=\"14\" font-weight=\"bold\" lengthAdjust=\"spacingAndGlyphs\" textLength=\"90\" x=\"384.72\" y=\"123.4951\">Service Layer</text></a><a href=\"psysml:babd67af-01b8-42b4-9186-2fee6f5cc047\" target=\"_top\" title=\"psysml:babd67af-01b8-42b4-9186-2fee6f5cc047\" xlink:actuate=\"onRequest\" xlink:href=\"psysml:babd67af-01b8-42b4-9186-2fee6f5cc047\" xlink:show=\"new\" xlink:title=\"psysml:babd67af-01b8-42b4-9186-2fee6f5cc047\" xlink:type=\"simple\"><polygon fill=\"#FFFFFF\" points=\"572.72,108.5,650.72,108.5,657.72,130.7969,664.72,130.7969,664.72,161.0938,572.72,161.0938,572.72,108.5\" style=\"stroke: #000000; stroke-width: 1.5;\"/><line style=\"stroke: #000000; stroke-width: 1.5;\" x1=\"572.72\" x2=\"657.72\" y1=\"130.7969\" y2=\"130.7969\"/><text fill=\"#000000\" font-family=\"sans-serif\" font-size=\"14\" font-weight=\"bold\" lengthAdjust=\"spacingAndGlyphs\" textLength=\"72\" x=\"576.72\" y=\"123.4951\">Data Layer</text></a><!--MD5=[1f1cd8e6dd4c1b2ca2aaccc9b9bcea6e]\n",
       "link E1 to E2--><a href=\"psysml:8155982a-39d3-4776-bb66-97608c5c0d21\" target=\"_top\" title=\"psysml:8155982a-39d3-4776-bb66-97608c5c0d21\" xlink:actuate=\"onRequest\" xlink:href=\"psysml:8155982a-39d3-4776-bb66-97608c5c0d21\" xlink:show=\"new\" xlink:title=\"psysml:8155982a-39d3-4776-bb66-97608c5c0d21\" xlink:type=\"simple\"><path d=\"M24.87,197 C27.93,197 77.7225,197 127.505,197 C130.6164,197 133.7278,197 136.8277,197 C137.6027,197 138.3769,197 139.1503,197 \" fill=\"none\" id=\"E1-&gt;E2\" style=\"stroke: #383838; stroke-width: 1.0; stroke-dasharray: 7.0,7.0;\"/><polygon fill=\"#383838\" points=\"139.1503,197,130.1503,193,134.1503,197,130.1503,201,139.1503,197\" style=\"stroke: #383838; stroke-width: 1.0;\"/><text fill=\"#000000\" font-family=\"sans-serif\" font-size=\"13\" lengthAdjust=\"spacingAndGlyphs\" textLength=\"65\" x=\"33.72\" y=\"193.0669\">«import»*</text></a><!--MD5=[af87c684e3b0d8be13c1a698a818ef1e]\n",
       "link E3 to E4--><a href=\"psysml:339645be-1a7b-490e-bb9e-fc7090e144b0\" target=\"_top\" title=\"psysml:339645be-1a7b-490e-bb9e-fc7090e144b0\" xlink:actuate=\"onRequest\" xlink:href=\"psysml:339645be-1a7b-490e-bb9e-fc7090e144b0\" xlink:show=\"new\" xlink:title=\"psysml:339645be-1a7b-490e-bb9e-fc7090e144b0\" xlink:type=\"simple\"><path d=\"M298.81,135 C322.52,135 349.13,135 372.47,135 \" fill=\"none\" id=\"E3-&gt;E4\" style=\"stroke: #383838; stroke-width: 1.0; stroke-dasharray: 7.0,7.0;\"/><polygon fill=\"#383838\" points=\"380.58,135,372.58,132,372.58,138,380.58,135\" style=\"stroke: #383838; stroke-width: 1.0;\"/><text fill=\"#000000\" font-family=\"sans-serif\" font-size=\"13\" lengthAdjust=\"spacingAndGlyphs\" textLength=\"64\" x=\"307.72\" y=\"131.0669\">«depend»</text></a><!--MD5=[1b7591eae5389033d8d09a9d6721a717]\n",
       "link E4 to E5--><a href=\"psysml:cd6419af-0f56-471f-8341-f3995db2a676\" target=\"_top\" title=\"psysml:cd6419af-0f56-471f-8341-f3995db2a676\" xlink:actuate=\"onRequest\" xlink:href=\"psysml:cd6419af-0f56-471f-8341-f3995db2a676\" xlink:show=\"new\" xlink:title=\"psysml:cd6419af-0f56-471f-8341-f3995db2a676\" xlink:type=\"simple\"><path d=\"M491.03,135 C514.31,135 541.43,135 564.58,135 \" fill=\"none\" id=\"E4-&gt;E5\" style=\"stroke: #383838; stroke-width: 1.0; stroke-dasharray: 7.0,7.0;\"/><polygon fill=\"#383838\" points=\"572.6,135,564.6,132,564.6,138,572.6,135\" style=\"stroke: #383838; stroke-width: 1.0;\"/><text fill=\"#000000\" font-family=\"sans-serif\" font-size=\"13\" lengthAdjust=\"spacingAndGlyphs\" textLength=\"64\" x=\"499.72\" y=\"131.0669\">«depend»</text></a><!--MD5=[c5e8897d989ce984f93528998a7150fe]\n",
       "link E8 to E6--><a href=\"psysml:974879a0-be0c-4725-ba74-b00c4a2eaada\" target=\"_top\" title=\"psysml:974879a0-be0c-4725-ba74-b00c4a2eaada\" xlink:actuate=\"onRequest\" xlink:href=\"psysml:974879a0-be0c-4725-ba74-b00c4a2eaada\" xlink:show=\"new\" xlink:title=\"psysml:974879a0-be0c-4725-ba74-b00c4a2eaada\" xlink:type=\"simple\"><path d=\"M267.03,293.25 C301.62,301.45 354.73,314.04 391.88,322.85 \" fill=\"none\" id=\"E8-&gt;E6\" style=\"stroke: #383838; stroke-width: 1.0; stroke-dasharray: 7.0,7.0;\"/><polygon fill=\"#383838\" points=\"400.03,324.78,392.9444,320.0057,391.5522,325.8419,400.03,324.78\" style=\"stroke: #383838; stroke-width: 1.0;\"/><text fill=\"#000000\" font-family=\"sans-serif\" font-size=\"13\" lengthAdjust=\"spacingAndGlyphs\" textLength=\"64\" x=\"307.72\" y=\"300.0669\">«depend»</text></a><!--MD5=[bfa3c8b0d15052fdf50ae9310b491027]\n",
       "link E8 to E7--><a href=\"psysml:974879a0-be0c-4725-ba74-b00c4a2eaada\" target=\"_top\" title=\"psysml:974879a0-be0c-4725-ba74-b00c4a2eaada\" xlink:actuate=\"onRequest\" xlink:href=\"psysml:974879a0-be0c-4725-ba74-b00c4a2eaada\" xlink:show=\"new\" xlink:title=\"psysml:974879a0-be0c-4725-ba74-b00c4a2eaada\" xlink:type=\"simple\"><path d=\"M267.03,279.33 C301.62,273.69 354.73,265.04 391.88,258.98 \" fill=\"none\" id=\"E8-&gt;E7\" style=\"stroke: #383838; stroke-width: 1.0; stroke-dasharray: 7.0,7.0;\"/><polygon fill=\"#383838\" points=\"400.03,257.65,391.6515,255.9764,392.617,261.8983,400.03,257.65\" style=\"stroke: #383838; stroke-width: 1.0;\"/><text fill=\"#000000\" font-family=\"sans-serif\" font-size=\"13\" lengthAdjust=\"spacingAndGlyphs\" textLength=\"64\" x=\"307.72\" y=\"259.0669\">«depend»</text></a><!--MD5=[d118c39b35b59b370d9e604da5b4b4ef]\n",
       "@startuml\r\n",
       "skinparam ranksep 10\r\n",
       "skinparam rectangle {\r\n",
       " backgroundColor<<block>> LightGreen\r\n",
       "}\r\n",
       "left to right direction\r\n",
       "skinparam monochrome true\r\n",
       "skinparam classbackgroundcolor white\r\n",
       "skinparam shadowing false\r\n",
       "skinparam wrapWidth 300\r\n",
       "hide circle\r\n",
       "\r\n",
       "package \"DependencyTest\" as E1  [[psysml:0f0f2110-3be1-453e-862d-cec3a7a71a7a ]]  {\r\n",
       "package \"System\" as E2  [[psysml:c508d22c-e466-4361-9854-fd4393e1e853 ]]  {\r\n",
       "package \"Application Layer\" as E3  [[psysml:a9507a9e-eb7a-4860-b8c9-7900feca47e0 ]]  {\r\n",
       "}\r\n",
       "package \"Service Layer\" as E4  [[psysml:709ed33a-9ff9-4f13-a4b1-f82f2d0ae0d9 ]]  {\r\n",
       "}\r\n",
       "package \"Data Layer\" as E5  [[psysml:babd67af-01b8-42b4-9186-2fee6f5cc047 ]]  {\r\n",
       "}\r\n",
       "}\r\n",
       "comp usage \"x \" as E6  <<(T,blue) attribute>> [[psysml:2188fd29-8e87-4428-b2da-0b81f77b2176 ]] {\r\n",
       "}\r\n",
       "comp usage \"y \" as E7  <<(T,blue) attribute>> [[psysml:b1dded97-ff7b-4726-be9f-c0b539bbd77d ]] {\r\n",
       "}\r\n",
       "comp usage \"z \" as E8  <<(T,blue) attribute>> [[psysml:215a3247-a6dc-4d80-9cbe-6a95158331ec ]] {\r\n",
       "}\r\n",
       "}\r\n",
       "E1 ..> E2 [[psysml:8155982a-39d3-4776-bb66-97608c5c0d21 ]] : <<import>>*\r\n",
       "E3 ..>> E4 [[psysml:339645be-1a7b-490e-bb9e-fc7090e144b0 ]] : <<depend>>\r\n",
       "E4 ..>> E5 [[psysml:cd6419af-0f56-471f-8341-f3995db2a676 ]] : <<depend>>\r\n",
       "E8 ..>> E6 [[psysml:974879a0-be0c-4725-ba74-b00c4a2eaada ]] : <<depend>>\r\n",
       "E8 ..>> E7 [[psysml:974879a0-be0c-4725-ba74-b00c4a2eaada ]] : <<depend>>\r\n",
       "@enduml\r\n",
       "\n",
       "PlantUML version 1.2020.13(Sat Jun 13 12:26:38 UTC 2020)\n",
       "(EPL source distribution)\n",
       "Java Runtime: OpenJDK Runtime Environment\n",
       "JVM: OpenJDK 64-Bit Server VM\n",
       "Default Encoding: UTF-8\n",
       "Language: en\n",
       "Country: null\n",
       "--></g></svg>"
      ]
     },
     "execution_count": 19,
     "metadata": {},
     "output_type": "execute_result"
    }
   ],
   "source": [
    "%viz --style=\"LR\" --view=\"Interconnection\" \"DependencyTest\""
   ]
  },
  {
   "cell_type": "code",
   "execution_count": 20,
   "id": "5a29f47f",
   "metadata": {
    "execution": {
     "iopub.execute_input": "2022-08-19T08:17:11.999059Z",
     "iopub.status.busy": "2022-08-19T08:17:11.998480Z",
     "iopub.status.idle": "2022-08-19T08:17:12.004573Z",
     "shell.execute_reply": "2022-08-19T08:17:12.004902Z"
    }
   },
   "outputs": [
    {
     "data": {
      "image/svg+xml": [
       "<?xml version=\"1.0\" encoding=\"UTF-8\" standalone=\"no\"?><svg xmlns=\"http://www.w3.org/2000/svg\" xmlns:xlink=\"http://www.w3.org/1999/xlink\" contentScriptType=\"application/ecmascript\" contentStyleType=\"text/css\" height=\"12px\" preserveAspectRatio=\"none\" style=\"width:12px;height:12px;\" version=\"1.1\" viewBox=\"0 0 12 12\" width=\"12px\" zoomAndPan=\"magnify\"><defs/><g><!--MD5=[7aeb398939421629f6affaa4a1a7b125]\n",
       "@startuml\r\n",
       "skinparam ranksep 8\r\n",
       "left to right direction\r\n",
       "skinparam monochrome true\r\n",
       "skinparam classbackgroundcolor white\r\n",
       "skinparam shadowing false\r\n",
       "skinparam wrapWidth 300\r\n",
       "hide circle\r\n",
       "\r\n",
       "@enduml\r\n",
       "\n",
       "PlantUML version 1.2020.13(Sat Jun 13 12:26:38 UTC 2020)\n",
       "(EPL source distribution)\n",
       "Java Runtime: OpenJDK Runtime Environment\n",
       "JVM: OpenJDK 64-Bit Server VM\n",
       "Default Encoding: UTF-8\n",
       "Language: en\n",
       "Country: null\n",
       "--></g></svg>"
      ]
     },
     "execution_count": 20,
     "metadata": {},
     "output_type": "execute_result"
    }
   ],
   "source": [
    "%viz --style=\"LR\" --view=\"Action\" \"DependencyTest\""
   ]
  },
  {
   "cell_type": "code",
   "execution_count": 21,
   "id": "16462103",
   "metadata": {
    "execution": {
     "iopub.execute_input": "2022-08-19T08:17:12.055022Z",
     "iopub.status.busy": "2022-08-19T08:17:12.054565Z",
     "iopub.status.idle": "2022-08-19T08:17:12.060615Z",
     "shell.execute_reply": "2022-08-19T08:17:12.060940Z"
    }
   },
   "outputs": [
    {
     "data": {
      "image/svg+xml": [
       "<?xml version=\"1.0\" encoding=\"UTF-8\" standalone=\"no\"?><svg xmlns=\"http://www.w3.org/2000/svg\" xmlns:xlink=\"http://www.w3.org/1999/xlink\" contentScriptType=\"application/ecmascript\" contentStyleType=\"text/css\" height=\"12px\" preserveAspectRatio=\"none\" style=\"width:12px;height:12px;\" version=\"1.1\" viewBox=\"0 0 12 12\" width=\"12px\" zoomAndPan=\"magnify\"><defs/><g><!--MD5=[238c11ea2002f03115ad6b49a457d50e]\n",
       "@startuml\r\n",
       "skinparam roundcorner 20\r\n",
       "skinparam BoxPadding 20\r\n",
       "skinparam SequenceBoxBackgroundColor #white\r\n",
       "skinparam style strictuml\r\n",
       "skinparam maxMessageSize 100\r\n",
       "left to right direction\r\n",
       "skinparam monochrome true\r\n",
       "skinparam classbackgroundcolor white\r\n",
       "skinparam shadowing false\r\n",
       "skinparam wrapWidth 300\r\n",
       "hide circle\r\n",
       "\r\n",
       "@enduml\r\n",
       "\n",
       "PlantUML version 1.2020.13(Sat Jun 13 12:26:38 UTC 2020)\n",
       "(EPL source distribution)\n",
       "Java Runtime: OpenJDK Runtime Environment\n",
       "JVM: OpenJDK 64-Bit Server VM\n",
       "Default Encoding: UTF-8\n",
       "Language: en\n",
       "Country: null\n",
       "--></g></svg>"
      ]
     },
     "execution_count": 21,
     "metadata": {},
     "output_type": "execute_result"
    }
   ],
   "source": [
    "%viz --style=\"LR\" --view=\"Sequence\" \"DependencyTest\""
   ]
  },
  {
   "cell_type": "code",
   "execution_count": 22,
   "id": "b527e1a4",
   "metadata": {
    "execution": {
     "iopub.execute_input": "2022-08-19T08:17:12.111247Z",
     "iopub.status.busy": "2022-08-19T08:17:12.110794Z",
     "iopub.status.idle": "2022-08-19T08:17:12.153399Z",
     "shell.execute_reply": "2022-08-19T08:17:12.152846Z"
    }
   },
   "outputs": [
    {
     "data": {
      "image/svg+xml": [
       "<?xml version=\"1.0\" encoding=\"UTF-8\" standalone=\"no\"?><svg xmlns=\"http://www.w3.org/2000/svg\" xmlns:xlink=\"http://www.w3.org/1999/xlink\" contentScriptType=\"application/ecmascript\" contentStyleType=\"text/css\" height=\"392px\" preserveAspectRatio=\"none\" style=\"width:860px;height:392px;\" version=\"1.1\" viewBox=\"0 0 860 392\" width=\"860px\" zoomAndPan=\"magnify\"><defs/><g><!--MD5=[fbc87193dbaf4d95561dea2c320d4a47]\n",
       "cluster E1--><a href=\"psysml:0f0f2110-3be1-453e-862d-cec3a7a71a7a\" target=\"_top\" title=\"psysml:0f0f2110-3be1-453e-862d-cec3a7a71a7a\" xlink:actuate=\"onRequest\" xlink:href=\"psysml:0f0f2110-3be1-453e-862d-cec3a7a71a7a\" xlink:show=\"new\" xlink:title=\"psysml:0f0f2110-3be1-453e-862d-cec3a7a71a7a\" xlink:type=\"simple\"><polygon fill=\"#FFFFFF\" points=\"16,6,142,6,149,28.2969,838.72,28.2969,838.72,380,16,380,16,6\" style=\"stroke: #000000; stroke-width: 1.5;\"/><line style=\"stroke: #000000; stroke-width: 1.5;\" x1=\"16\" x2=\"149\" y1=\"28.2969\" y2=\"28.2969\"/><text fill=\"#000000\" font-family=\"sans-serif\" font-size=\"14\" font-weight=\"bold\" lengthAdjust=\"spacingAndGlyphs\" textLength=\"120\" x=\"20\" y=\"20.9951\">DependencyTest</text></a><!--MD5=[e4f7fae6ed58524ba242bb0b0d3be6b7]\n",
       "cluster E2--><a href=\"psysml:c508d22c-e466-4361-9854-fd4393e1e853\" target=\"_top\" title=\"psysml:c508d22c-e466-4361-9854-fd4393e1e853\" xlink:actuate=\"onRequest\" xlink:href=\"psysml:c508d22c-e466-4361-9854-fd4393e1e853\" xlink:show=\"new\" xlink:title=\"psysml:c508d22c-e466-4361-9854-fd4393e1e853\" xlink:type=\"simple\"><polygon fill=\"#FFFFFF\" points=\"161.72,65,218.72,65,225.72,87.2969,798.72,87.2969,798.72,205,161.72,205,161.72,65\" style=\"stroke: #000000; stroke-width: 1.5;\"/><line style=\"stroke: #000000; stroke-width: 1.5;\" x1=\"161.72\" x2=\"225.72\" y1=\"87.2969\" y2=\"87.2969\"/><text fill=\"#000000\" font-family=\"sans-serif\" font-size=\"14\" font-weight=\"bold\" lengthAdjust=\"spacingAndGlyphs\" textLength=\"51\" x=\"165.72\" y=\"79.9951\">System</text></a><!--MD5=[60a26617385b1d2d0262a64233df1f8d]\n",
       "class E6--><a href=\"psysml:2188fd29-8e87-4428-b2da-0b81f77b2176\" target=\"_top\" title=\"psysml:2188fd29-8e87-4428-b2da-0b81f77b2176\" xlink:actuate=\"onRequest\" xlink:href=\"psysml:2188fd29-8e87-4428-b2da-0b81f77b2176\" xlink:show=\"new\" xlink:title=\"psysml:2188fd29-8e87-4428-b2da-0b81f77b2176\" xlink:type=\"simple\"><rect fill=\"#FFFFFF\" height=\"45.9375\" id=\"E6\" rx=\"10\" ry=\"10\" style=\"stroke: #383838; stroke-width: 1.5;\" width=\"71\" x=\"466.22\" y=\"310\"/><text fill=\"#000000\" font-family=\"sans-serif\" font-size=\"12\" font-style=\"italic\" lengthAdjust=\"spacingAndGlyphs\" textLength=\"69\" x=\"467.22\" y=\"326.1387\">«attribute»</text><text fill=\"#000000\" font-family=\"sans-serif\" font-size=\"12\" lengthAdjust=\"spacingAndGlyphs\" textLength=\"6\" x=\"496.72\" y=\"340.1074\">x</text><line style=\"stroke: #383838; stroke-width: 1.5;\" x1=\"467.22\" x2=\"536.22\" y1=\"347.9375\" y2=\"347.9375\"/></a><!--MD5=[2156ba9850f5573cc1fc38a6a4b2f02b]\n",
       "class E7--><a href=\"psysml:b1dded97-ff7b-4726-be9f-c0b539bbd77d\" target=\"_top\" title=\"psysml:b1dded97-ff7b-4726-be9f-c0b539bbd77d\" xlink:actuate=\"onRequest\" xlink:href=\"psysml:b1dded97-ff7b-4726-be9f-c0b539bbd77d\" xlink:show=\"new\" xlink:title=\"psysml:b1dded97-ff7b-4726-be9f-c0b539bbd77d\" xlink:type=\"simple\"><rect fill=\"#FFFFFF\" height=\"45.9375\" id=\"E7\" rx=\"10\" ry=\"10\" style=\"stroke: #383838; stroke-width: 1.5;\" width=\"71\" x=\"466.22\" y=\"229\"/><text fill=\"#000000\" font-family=\"sans-serif\" font-size=\"12\" font-style=\"italic\" lengthAdjust=\"spacingAndGlyphs\" textLength=\"69\" x=\"467.22\" y=\"245.1387\">«attribute»</text><text fill=\"#000000\" font-family=\"sans-serif\" font-size=\"12\" lengthAdjust=\"spacingAndGlyphs\" textLength=\"6\" x=\"496.72\" y=\"259.1074\">y</text><line style=\"stroke: #383838; stroke-width: 1.5;\" x1=\"467.22\" x2=\"536.22\" y1=\"266.9375\" y2=\"266.9375\"/></a><!--MD5=[b9389687b975829384b498ac4b7476b2]\n",
       "class E8--><a href=\"psysml:215a3247-a6dc-4d80-9cbe-6a95158331ec\" target=\"_top\" title=\"psysml:215a3247-a6dc-4d80-9cbe-6a95158331ec\" xlink:actuate=\"onRequest\" xlink:href=\"psysml:215a3247-a6dc-4d80-9cbe-6a95158331ec\" xlink:show=\"new\" xlink:title=\"psysml:215a3247-a6dc-4d80-9cbe-6a95158331ec\" xlink:type=\"simple\"><rect fill=\"#FFFFFF\" height=\"45.9375\" id=\"E8\" rx=\"10\" ry=\"10\" style=\"stroke: #383838; stroke-width: 1.5;\" width=\"71\" x=\"217.72\" y=\"262\"/><text fill=\"#000000\" font-family=\"sans-serif\" font-size=\"12\" font-style=\"italic\" lengthAdjust=\"spacingAndGlyphs\" textLength=\"69\" x=\"218.72\" y=\"278.1387\">«attribute»</text><text fill=\"#000000\" font-family=\"sans-serif\" font-size=\"12\" lengthAdjust=\"spacingAndGlyphs\" textLength=\"5\" x=\"248.72\" y=\"292.1074\">z</text><line style=\"stroke: #383838; stroke-width: 1.5;\" x1=\"218.72\" x2=\"287.72\" y1=\"299.9375\" y2=\"299.9375\"/></a><a href=\"psysml:a9507a9e-eb7a-4860-b8c9-7900feca47e0\" target=\"_top\" title=\"psysml:a9507a9e-eb7a-4860-b8c9-7900feca47e0\" xlink:actuate=\"onRequest\" xlink:href=\"psysml:a9507a9e-eb7a-4860-b8c9-7900feca47e0\" xlink:show=\"new\" xlink:title=\"psysml:a9507a9e-eb7a-4860-b8c9-7900feca47e0\" xlink:type=\"simple\"><polygon fill=\"#FFFFFF\" points=\"185.72,108.5,306.72,108.5,313.72,130.7969,320.72,130.7969,320.72,161.0938,185.72,161.0938,185.72,108.5\" style=\"stroke: #000000; stroke-width: 1.5;\"/><line style=\"stroke: #000000; stroke-width: 1.5;\" x1=\"185.72\" x2=\"313.72\" y1=\"130.7969\" y2=\"130.7969\"/><text fill=\"#000000\" font-family=\"sans-serif\" font-size=\"14\" font-weight=\"bold\" lengthAdjust=\"spacingAndGlyphs\" textLength=\"115\" x=\"189.72\" y=\"123.4951\">Application Layer</text></a><a href=\"psysml:709ed33a-9ff9-4f13-a4b1-f82f2d0ae0d9\" target=\"_top\" title=\"psysml:709ed33a-9ff9-4f13-a4b1-f82f2d0ae0d9\" xlink:actuate=\"onRequest\" xlink:href=\"psysml:709ed33a-9ff9-4f13-a4b1-f82f2d0ae0d9\" xlink:show=\"new\" xlink:title=\"psysml:709ed33a-9ff9-4f13-a4b1-f82f2d0ae0d9\" xlink:type=\"simple\"><polygon fill=\"#FFFFFF\" points=\"446.72,108.5,542.72,108.5,549.72,130.7969,556.72,130.7969,556.72,161.0938,446.72,161.0938,446.72,108.5\" style=\"stroke: #000000; stroke-width: 1.5;\"/><line style=\"stroke: #000000; stroke-width: 1.5;\" x1=\"446.72\" x2=\"549.72\" y1=\"130.7969\" y2=\"130.7969\"/><text fill=\"#000000\" font-family=\"sans-serif\" font-size=\"14\" font-weight=\"bold\" lengthAdjust=\"spacingAndGlyphs\" textLength=\"90\" x=\"450.72\" y=\"123.4951\">Service Layer</text></a><a href=\"psysml:babd67af-01b8-42b4-9186-2fee6f5cc047\" target=\"_top\" title=\"psysml:babd67af-01b8-42b4-9186-2fee6f5cc047\" xlink:actuate=\"onRequest\" xlink:href=\"psysml:babd67af-01b8-42b4-9186-2fee6f5cc047\" xlink:show=\"new\" xlink:title=\"psysml:babd67af-01b8-42b4-9186-2fee6f5cc047\" xlink:type=\"simple\"><polygon fill=\"#FFFFFF\" points=\"682.72,108.5,760.72,108.5,767.72,130.7969,774.72,130.7969,774.72,161.0938,682.72,161.0938,682.72,108.5\" style=\"stroke: #000000; stroke-width: 1.5;\"/><line style=\"stroke: #000000; stroke-width: 1.5;\" x1=\"682.72\" x2=\"767.72\" y1=\"130.7969\" y2=\"130.7969\"/><text fill=\"#000000\" font-family=\"sans-serif\" font-size=\"14\" font-weight=\"bold\" lengthAdjust=\"spacingAndGlyphs\" textLength=\"72\" x=\"686.72\" y=\"123.4951\">Data Layer</text></a><!--MD5=[1f1cd8e6dd4c1b2ca2aaccc9b9bcea6e]\n",
       "link E1 to E2--><a href=\"psysml:8155982a-39d3-4776-bb66-97608c5c0d21\" target=\"_top\" title=\"psysml:8155982a-39d3-4776-bb66-97608c5c0d21\" xlink:actuate=\"onRequest\" xlink:href=\"psysml:8155982a-39d3-4776-bb66-97608c5c0d21\" xlink:show=\"new\" xlink:title=\"psysml:8155982a-39d3-4776-bb66-97608c5c0d21\" xlink:type=\"simple\"><path d=\"M24.88,197 C28.275,197 83.4,197 138.5113,197 C145.4002,197 152.2888,197 159.0763,197 C159.9247,197 160.7715,197 161.6166,197 \" fill=\"none\" id=\"E1-&gt;E2\" style=\"stroke: #383838; stroke-width: 1.0; stroke-dasharray: 7.0,7.0;\"/><polygon fill=\"#383838\" points=\"161.6166,197,152.6166,193,156.6166,197,152.6166,201,161.6166,197\" style=\"stroke: #383838; stroke-width: 1.0;\"/><text fill=\"#000000\" font-family=\"sans-serif\" font-size=\"13\" lengthAdjust=\"spacingAndGlyphs\" textLength=\"65\" x=\"55.72\" y=\"193.0669\">«import»*</text></a><!--MD5=[af87c684e3b0d8be13c1a698a818ef1e]\n",
       "link E3 to E4--><a href=\"psysml:339645be-1a7b-490e-bb9e-fc7090e144b0\" target=\"_top\" title=\"psysml:339645be-1a7b-490e-bb9e-fc7090e144b0\" xlink:actuate=\"onRequest\" xlink:href=\"psysml:339645be-1a7b-490e-bb9e-fc7090e144b0\" xlink:show=\"new\" xlink:title=\"psysml:339645be-1a7b-490e-bb9e-fc7090e144b0\" xlink:type=\"simple\"><path d=\"M320.93,135 C357.36,135 402.21,135 438,135 \" fill=\"none\" id=\"E3-&gt;E4\" style=\"stroke: #383838; stroke-width: 1.0; stroke-dasharray: 7.0,7.0;\"/><polygon fill=\"#383838\" points=\"446.42,135,438.42,132,438.42,138,446.42,135\" style=\"stroke: #383838; stroke-width: 1.0;\"/><text fill=\"#000000\" font-family=\"sans-serif\" font-size=\"13\" lengthAdjust=\"spacingAndGlyphs\" textLength=\"64\" x=\"351.72\" y=\"131.0669\">«depend»</text></a><!--MD5=[1b7591eae5389033d8d09a9d6721a717]\n",
       "link E4 to E5--><a href=\"psysml:cd6419af-0f56-471f-8341-f3995db2a676\" target=\"_top\" title=\"psysml:cd6419af-0f56-471f-8341-f3995db2a676\" xlink:actuate=\"onRequest\" xlink:href=\"psysml:cd6419af-0f56-471f-8341-f3995db2a676\" xlink:show=\"new\" xlink:title=\"psysml:cd6419af-0f56-471f-8341-f3995db2a676\" xlink:type=\"simple\"><path d=\"M556.9,135 C592.53,135 638.96,135 674.41,135 \" fill=\"none\" id=\"E4-&gt;E5\" style=\"stroke: #383838; stroke-width: 1.0; stroke-dasharray: 7.0,7.0;\"/><polygon fill=\"#383838\" points=\"682.72,135,674.72,132,674.72,138,682.72,135\" style=\"stroke: #383838; stroke-width: 1.0;\"/><text fill=\"#000000\" font-family=\"sans-serif\" font-size=\"13\" lengthAdjust=\"spacingAndGlyphs\" textLength=\"64\" x=\"587.72\" y=\"131.0669\">«depend»</text></a><!--MD5=[c5e8897d989ce984f93528998a7150fe]\n",
       "link E8 to E6--><a href=\"psysml:974879a0-be0c-4725-ba74-b00c4a2eaada\" target=\"_top\" title=\"psysml:974879a0-be0c-4725-ba74-b00c4a2eaada\" xlink:actuate=\"onRequest\" xlink:href=\"psysml:974879a0-be0c-4725-ba74-b00c4a2eaada\" xlink:show=\"new\" xlink:title=\"psysml:974879a0-be0c-4725-ba74-b00c4a2eaada\" xlink:type=\"simple\"><path d=\"M288.75,291.72 C333.09,300.36 410.02,315.34 458,324.68 \" fill=\"none\" id=\"E8-&gt;E6\" style=\"stroke: #383838; stroke-width: 1.0; stroke-dasharray: 7.0,7.0;\"/><polygon fill=\"#383838\" points=\"466.02,326.24,458.7416,321.765,457.5938,327.6542,466.02,326.24\" style=\"stroke: #383838; stroke-width: 1.0;\"/><text fill=\"#000000\" font-family=\"sans-serif\" font-size=\"13\" lengthAdjust=\"spacingAndGlyphs\" textLength=\"64\" x=\"351.72\" y=\"301.0669\">«depend»</text></a><!--MD5=[bfa3c8b0d15052fdf50ae9310b491027]\n",
       "link E8 to E7--><a href=\"psysml:974879a0-be0c-4725-ba74-b00c4a2eaada\" target=\"_top\" title=\"psysml:974879a0-be0c-4725-ba74-b00c4a2eaada\" xlink:actuate=\"onRequest\" xlink:href=\"psysml:974879a0-be0c-4725-ba74-b00c4a2eaada\" xlink:show=\"new\" xlink:title=\"psysml:974879a0-be0c-4725-ba74-b00c4a2eaada\" xlink:type=\"simple\"><path d=\"M288.75,280.38 C333.09,274.44 410.02,264.14 458,257.72 \" fill=\"none\" id=\"E8-&gt;E7\" style=\"stroke: #383838; stroke-width: 1.0; stroke-dasharray: 7.0,7.0;\"/><polygon fill=\"#383838\" points=\"466.02,256.65,457.6937,254.7336,458.4867,260.681,466.02,256.65\" style=\"stroke: #383838; stroke-width: 1.0;\"/><text fill=\"#000000\" font-family=\"sans-serif\" font-size=\"13\" lengthAdjust=\"spacingAndGlyphs\" textLength=\"64\" x=\"351.72\" y=\"260.0669\">«depend»</text></a><!--MD5=[8e68835d0686aae1db8bbf8ccf03bfc2]\n",
       "@startuml\r\n",
       "left to right direction\r\n",
       "skinparam monochrome true\r\n",
       "skinparam classbackgroundcolor white\r\n",
       "skinparam shadowing false\r\n",
       "skinparam wrapWidth 300\r\n",
       "hide circle\r\n",
       "\r\n",
       "package \"DependencyTest\" as E1  [[psysml:0f0f2110-3be1-453e-862d-cec3a7a71a7a ]]  {\r\n",
       "package \"System\" as E2  [[psysml:c508d22c-e466-4361-9854-fd4393e1e853 ]]  {\r\n",
       "package \"Application Layer\" as E3  [[psysml:a9507a9e-eb7a-4860-b8c9-7900feca47e0 ]]  {\r\n",
       "}\r\n",
       "package \"Service Layer\" as E4  [[psysml:709ed33a-9ff9-4f13-a4b1-f82f2d0ae0d9 ]]  {\r\n",
       "}\r\n",
       "package \"Data Layer\" as E5  [[psysml:babd67af-01b8-42b4-9186-2fee6f5cc047 ]]  {\r\n",
       "}\r\n",
       "}\r\n",
       "comp usage \"x \" as E6  <<(T,blue) attribute>> [[psysml:2188fd29-8e87-4428-b2da-0b81f77b2176 ]] {\r\n",
       "}\r\n",
       "comp usage \"y \" as E7  <<(T,blue) attribute>> [[psysml:b1dded97-ff7b-4726-be9f-c0b539bbd77d ]] {\r\n",
       "}\r\n",
       "comp usage \"z \" as E8  <<(T,blue) attribute>> [[psysml:215a3247-a6dc-4d80-9cbe-6a95158331ec ]] {\r\n",
       "}\r\n",
       "}\r\n",
       "E1 ..> E2 [[psysml:8155982a-39d3-4776-bb66-97608c5c0d21 ]] : <<import>>*\r\n",
       "E3 ..>> E4 [[psysml:339645be-1a7b-490e-bb9e-fc7090e144b0 ]] : <<depend>>\r\n",
       "E4 ..>> E5 [[psysml:cd6419af-0f56-471f-8341-f3995db2a676 ]] : <<depend>>\r\n",
       "E8 ..>> E6 [[psysml:974879a0-be0c-4725-ba74-b00c4a2eaada ]] : <<depend>>\r\n",
       "E8 ..>> E7 [[psysml:974879a0-be0c-4725-ba74-b00c4a2eaada ]] : <<depend>>\r\n",
       "@enduml\r\n",
       "\n",
       "PlantUML version 1.2020.13(Sat Jun 13 12:26:38 UTC 2020)\n",
       "(EPL source distribution)\n",
       "Java Runtime: OpenJDK Runtime Environment\n",
       "JVM: OpenJDK 64-Bit Server VM\n",
       "Default Encoding: UTF-8\n",
       "Language: en\n",
       "Country: null\n",
       "--></g></svg>"
      ]
     },
     "execution_count": 22,
     "metadata": {},
     "output_type": "execute_result"
    }
   ],
   "source": [
    "%viz --style=\"LR\" --view=\"MIXED\" \"DependencyTest\""
   ]
  },
  {
   "cell_type": "code",
   "execution_count": 23,
   "id": "411989b5",
   "metadata": {
    "execution": {
     "iopub.execute_input": "2022-08-19T08:17:12.202392Z",
     "iopub.status.busy": "2022-08-19T08:17:12.201932Z",
     "iopub.status.idle": "2022-08-19T08:17:12.241381Z",
     "shell.execute_reply": "2022-08-19T08:17:12.239064Z"
    }
   },
   "outputs": [
    {
     "data": {
      "image/svg+xml": [
       "<?xml version=\"1.0\" encoding=\"UTF-8\" standalone=\"no\"?><svg xmlns=\"http://www.w3.org/2000/svg\" xmlns:xlink=\"http://www.w3.org/1999/xlink\" contentScriptType=\"application/ecmascript\" contentStyleType=\"text/css\" height=\"552px\" preserveAspectRatio=\"none\" style=\"width:536px;height:552px;\" version=\"1.1\" viewBox=\"0 0 536 552\" width=\"536px\" zoomAndPan=\"magnify\"><defs><filter height=\"300%\" id=\"f1xpsxbd77uxru\" width=\"300%\" x=\"-1\" y=\"-1\"><feGaussianBlur result=\"blurOut\" stdDeviation=\"2.0\"/><feColorMatrix in=\"blurOut\" result=\"blurOut2\" type=\"matrix\" values=\"0 0 0 0 0 0 0 0 0 0 0 0 0 0 0 0 0 0 .4 0\"/><feOffset dx=\"4.0\" dy=\"4.0\" in=\"blurOut2\" result=\"blurOut3\"/><feBlend in=\"SourceGraphic\" in2=\"blurOut3\" mode=\"normal\"/></filter></defs><g><!--MD5=[fbc87193dbaf4d95561dea2c320d4a47]\n",
       "cluster E1--><a href=\"psysml:0f0f2110-3be1-453e-862d-cec3a7a71a7a\" target=\"_top\" title=\"psysml:0f0f2110-3be1-453e-862d-cec3a7a71a7a\" xlink:actuate=\"onRequest\" xlink:href=\"psysml:0f0f2110-3be1-453e-862d-cec3a7a71a7a\" xlink:show=\"new\" xlink:title=\"psysml:0f0f2110-3be1-453e-862d-cec3a7a71a7a\" xlink:type=\"simple\"><polygon fill=\"#FFFFFF\" filter=\"url(#f1xpsxbd77uxru)\" points=\"16,6,142,6,149,28.2969,514,28.2969,514,540.72,16,540.72,16,6\" style=\"stroke: #000000; stroke-width: 1.5;\"/><line style=\"stroke: #000000; stroke-width: 1.5;\" x1=\"16\" x2=\"149\" y1=\"28.2969\" y2=\"28.2969\"/><text fill=\"#000000\" font-family=\"sans-serif\" font-size=\"14\" font-weight=\"bold\" lengthAdjust=\"spacingAndGlyphs\" textLength=\"120\" x=\"20\" y=\"20.9951\">DependencyTest</text></a><!--MD5=[e4f7fae6ed58524ba242bb0b0d3be6b7]\n",
       "cluster E2--><a href=\"psysml:c508d22c-e466-4361-9854-fd4393e1e853\" target=\"_top\" title=\"psysml:c508d22c-e466-4361-9854-fd4393e1e853\" xlink:actuate=\"onRequest\" xlink:href=\"psysml:c508d22c-e466-4361-9854-fd4393e1e853\" xlink:show=\"new\" xlink:title=\"psysml:c508d22c-e466-4361-9854-fd4393e1e853\" xlink:type=\"simple\"><polygon fill=\"#FFFFFF\" filter=\"url(#f1xpsxbd77uxru)\" points=\"271,120.72,328,120.72,335,143.0169,474,143.0169,474,500.72,271,500.72,271,120.72\" style=\"stroke: #000000; stroke-width: 1.5;\"/><line style=\"stroke: #000000; stroke-width: 1.5;\" x1=\"271\" x2=\"335\" y1=\"143.0169\" y2=\"143.0169\"/><text fill=\"#000000\" font-family=\"sans-serif\" font-size=\"14\" font-weight=\"bold\" lengthAdjust=\"spacingAndGlyphs\" textLength=\"51\" x=\"275\" y=\"135.7151\">System</text></a><!--MD5=[60a26617385b1d2d0262a64233df1f8d]\n",
       "class E6--><a href=\"psysml:2188fd29-8e87-4428-b2da-0b81f77b2176\" target=\"_top\" title=\"psysml:2188fd29-8e87-4428-b2da-0b81f77b2176\" xlink:actuate=\"onRequest\" xlink:href=\"psysml:2188fd29-8e87-4428-b2da-0b81f77b2176\" xlink:show=\"new\" xlink:title=\"psysml:2188fd29-8e87-4428-b2da-0b81f77b2176\" xlink:type=\"simple\"><rect fill=\"#FEFECE\" filter=\"url(#f1xpsxbd77uxru)\" height=\"45.9375\" id=\"E6\" rx=\"10\" ry=\"10\" style=\"stroke: #A80036; stroke-width: 1.5;\" width=\"71\" x=\"40.5\" y=\"297.22\"/><text fill=\"#000000\" font-family=\"sans-serif\" font-size=\"12\" font-style=\"italic\" lengthAdjust=\"spacingAndGlyphs\" textLength=\"69\" x=\"41.5\" y=\"313.3587\">«attribute»</text><text fill=\"#000000\" font-family=\"sans-serif\" font-size=\"12\" lengthAdjust=\"spacingAndGlyphs\" textLength=\"6\" x=\"71\" y=\"327.3274\">x</text><line style=\"stroke: #A80036; stroke-width: 1.5;\" x1=\"41.5\" x2=\"110.5\" y1=\"335.1575\" y2=\"335.1575\"/></a><!--MD5=[2156ba9850f5573cc1fc38a6a4b2f02b]\n",
       "class E7--><a href=\"psysml:b1dded97-ff7b-4726-be9f-c0b539bbd77d\" target=\"_top\" title=\"psysml:b1dded97-ff7b-4726-be9f-c0b539bbd77d\" xlink:actuate=\"onRequest\" xlink:href=\"psysml:b1dded97-ff7b-4726-be9f-c0b539bbd77d\" xlink:show=\"new\" xlink:title=\"psysml:b1dded97-ff7b-4726-be9f-c0b539bbd77d\" xlink:type=\"simple\"><rect fill=\"#FEFECE\" filter=\"url(#f1xpsxbd77uxru)\" height=\"45.9375\" id=\"E7\" rx=\"10\" ry=\"10\" style=\"stroke: #A80036; stroke-width: 1.5;\" width=\"71\" x=\"146.5\" y=\"297.22\"/><text fill=\"#000000\" font-family=\"sans-serif\" font-size=\"12\" font-style=\"italic\" lengthAdjust=\"spacingAndGlyphs\" textLength=\"69\" x=\"147.5\" y=\"313.3587\">«attribute»</text><text fill=\"#000000\" font-family=\"sans-serif\" font-size=\"12\" lengthAdjust=\"spacingAndGlyphs\" textLength=\"6\" x=\"177\" y=\"327.3274\">y</text><line style=\"stroke: #A80036; stroke-width: 1.5;\" x1=\"147.5\" x2=\"216.5\" y1=\"335.1575\" y2=\"335.1575\"/></a><!--MD5=[b9389687b975829384b498ac4b7476b2]\n",
       "class E8--><a href=\"psysml:215a3247-a6dc-4d80-9cbe-6a95158331ec\" target=\"_top\" title=\"psysml:215a3247-a6dc-4d80-9cbe-6a95158331ec\" xlink:actuate=\"onRequest\" xlink:href=\"psysml:215a3247-a6dc-4d80-9cbe-6a95158331ec\" xlink:show=\"new\" xlink:title=\"psysml:215a3247-a6dc-4d80-9cbe-6a95158331ec\" xlink:type=\"simple\"><rect fill=\"#FEFECE\" filter=\"url(#f1xpsxbd77uxru)\" height=\"45.9375\" id=\"E8\" rx=\"10\" ry=\"10\" style=\"stroke: #A80036; stroke-width: 1.5;\" width=\"71\" x=\"92.5\" y=\"167.22\"/><text fill=\"#000000\" font-family=\"sans-serif\" font-size=\"12\" font-style=\"italic\" lengthAdjust=\"spacingAndGlyphs\" textLength=\"69\" x=\"93.5\" y=\"183.3587\">«attribute»</text><text fill=\"#000000\" font-family=\"sans-serif\" font-size=\"12\" lengthAdjust=\"spacingAndGlyphs\" textLength=\"5\" x=\"123.5\" y=\"197.3274\">z</text><line style=\"stroke: #A80036; stroke-width: 1.5;\" x1=\"93.5\" x2=\"162.5\" y1=\"205.1575\" y2=\"205.1575\"/></a><a href=\"psysml:a9507a9e-eb7a-4860-b8c9-7900feca47e0\" target=\"_top\" title=\"psysml:a9507a9e-eb7a-4860-b8c9-7900feca47e0\" xlink:actuate=\"onRequest\" xlink:href=\"psysml:a9507a9e-eb7a-4860-b8c9-7900feca47e0\" xlink:show=\"new\" xlink:title=\"psysml:a9507a9e-eb7a-4860-b8c9-7900feca47e0\" xlink:type=\"simple\"><polygon fill=\"#FFFFFF\" filter=\"url(#f1xpsxbd77uxru)\" points=\"314.5,163.72,435.5,163.72,442.5,186.0169,449.5,186.0169,449.5,216.3138,314.5,216.3138,314.5,163.72\" style=\"stroke: #000000; stroke-width: 1.5;\"/><line style=\"stroke: #000000; stroke-width: 1.5;\" x1=\"314.5\" x2=\"442.5\" y1=\"186.0169\" y2=\"186.0169\"/><text fill=\"#000000\" font-family=\"sans-serif\" font-size=\"14\" font-weight=\"bold\" lengthAdjust=\"spacingAndGlyphs\" textLength=\"115\" x=\"318.5\" y=\"178.7151\">Application Layer</text></a><a href=\"psysml:709ed33a-9ff9-4f13-a4b1-f82f2d0ae0d9\" target=\"_top\" title=\"psysml:709ed33a-9ff9-4f13-a4b1-f82f2d0ae0d9\" xlink:actuate=\"onRequest\" xlink:href=\"psysml:709ed33a-9ff9-4f13-a4b1-f82f2d0ae0d9\" xlink:show=\"new\" xlink:title=\"psysml:709ed33a-9ff9-4f13-a4b1-f82f2d0ae0d9\" xlink:type=\"simple\"><polygon fill=\"#FFFFFF\" filter=\"url(#f1xpsxbd77uxru)\" points=\"327,293.72,423,293.72,430,316.0169,437,316.0169,437,346.3138,327,346.3138,327,293.72\" style=\"stroke: #000000; stroke-width: 1.5;\"/><line style=\"stroke: #000000; stroke-width: 1.5;\" x1=\"327\" x2=\"430\" y1=\"316.0169\" y2=\"316.0169\"/><text fill=\"#000000\" font-family=\"sans-serif\" font-size=\"14\" font-weight=\"bold\" lengthAdjust=\"spacingAndGlyphs\" textLength=\"90\" x=\"331\" y=\"308.7151\">Service Layer</text></a><a href=\"psysml:babd67af-01b8-42b4-9186-2fee6f5cc047\" target=\"_top\" title=\"psysml:babd67af-01b8-42b4-9186-2fee6f5cc047\" xlink:actuate=\"onRequest\" xlink:href=\"psysml:babd67af-01b8-42b4-9186-2fee6f5cc047\" xlink:show=\"new\" xlink:title=\"psysml:babd67af-01b8-42b4-9186-2fee6f5cc047\" xlink:type=\"simple\"><polygon fill=\"#FFFFFF\" filter=\"url(#f1xpsxbd77uxru)\" points=\"336,423.72,414,423.72,421,446.0169,428,446.0169,428,476.3138,336,476.3138,336,423.72\" style=\"stroke: #000000; stroke-width: 1.5;\"/><line style=\"stroke: #000000; stroke-width: 1.5;\" x1=\"336\" x2=\"421\" y1=\"446.0169\" y2=\"446.0169\"/><text fill=\"#000000\" font-family=\"sans-serif\" font-size=\"14\" font-weight=\"bold\" lengthAdjust=\"spacingAndGlyphs\" textLength=\"72\" x=\"340\" y=\"438.7151\">Data Layer</text></a><!--MD5=[1f1cd8e6dd4c1b2ca2aaccc9b9bcea6e]\n",
       "link E1 to E2--><a href=\"psysml:8155982a-39d3-4776-bb66-97608c5c0d21\" target=\"_top\" title=\"psysml:8155982a-39d3-4776-bb66-97608c5c0d21\" xlink:actuate=\"onRequest\" xlink:href=\"psysml:8155982a-39d3-4776-bb66-97608c5c0d21\" xlink:show=\"new\" xlink:title=\"psysml:8155982a-39d3-4776-bb66-97608c5c0d21\" xlink:type=\"simple\"><path d=\"M279,33.83 C279,36.15 279,73.83 279,111.5 C279,113.8544 279,116.2087 279,118.5544 C279,119.1408 279,119.7267 279,120.3119 \" fill=\"none\" id=\"E1-&gt;E2\" style=\"stroke: #A80036; stroke-width: 1.0; stroke-dasharray: 7.0,7.0;\"/><polygon fill=\"#A80036\" points=\"279,120.3119,283,111.3119,279,115.3119,275,111.3119,279,120.3119\" style=\"stroke: #A80036; stroke-width: 1.0;\"/><text fill=\"#000000\" font-family=\"sans-serif\" font-size=\"13\" lengthAdjust=\"spacingAndGlyphs\" textLength=\"65\" x=\"280\" y=\"76.7869\">«import»*</text></a><!--MD5=[af87c684e3b0d8be13c1a698a818ef1e]\n",
       "link E3 to E4--><a href=\"psysml:339645be-1a7b-490e-bb9e-fc7090e144b0\" target=\"_top\" title=\"psysml:339645be-1a7b-490e-bb9e-fc7090e144b0\" xlink:actuate=\"onRequest\" xlink:href=\"psysml:339645be-1a7b-490e-bb9e-fc7090e144b0\" xlink:show=\"new\" xlink:title=\"psysml:339645be-1a7b-490e-bb9e-fc7090e144b0\" xlink:type=\"simple\"><path d=\"M382,216.82 C382,236.52 382,263.94 382,285.45 \" fill=\"none\" id=\"E3-&gt;E4\" style=\"stroke: #A80036; stroke-width: 1.0; stroke-dasharray: 7.0,7.0;\"/><polygon fill=\"#A80036\" points=\"382,293.67,385,285.67,379,285.67,382,293.67\" style=\"stroke: #A80036; stroke-width: 1.0;\"/><text fill=\"#000000\" font-family=\"sans-serif\" font-size=\"13\" lengthAdjust=\"spacingAndGlyphs\" textLength=\"64\" x=\"383\" y=\"259.7869\">«depend»</text></a><!--MD5=[1b7591eae5389033d8d09a9d6721a717]\n",
       "link E4 to E5--><a href=\"psysml:cd6419af-0f56-471f-8341-f3995db2a676\" target=\"_top\" title=\"psysml:cd6419af-0f56-471f-8341-f3995db2a676\" xlink:actuate=\"onRequest\" xlink:href=\"psysml:cd6419af-0f56-471f-8341-f3995db2a676\" xlink:show=\"new\" xlink:title=\"psysml:cd6419af-0f56-471f-8341-f3995db2a676\" xlink:type=\"simple\"><path d=\"M382,346.82 C382,366.52 382,393.94 382,415.45 \" fill=\"none\" id=\"E4-&gt;E5\" style=\"stroke: #A80036; stroke-width: 1.0; stroke-dasharray: 7.0,7.0;\"/><polygon fill=\"#A80036\" points=\"382,423.67,385,415.67,379,415.67,382,423.67\" style=\"stroke: #A80036; stroke-width: 1.0;\"/><text fill=\"#000000\" font-family=\"sans-serif\" font-size=\"13\" lengthAdjust=\"spacingAndGlyphs\" textLength=\"64\" x=\"383\" y=\"389.7869\">«depend»</text></a><!--MD5=[c5e8897d989ce984f93528998a7150fe]\n",
       "link E8 to E6--><a href=\"psysml:974879a0-be0c-4725-ba74-b00c4a2eaada\" target=\"_top\" title=\"psysml:974879a0-be0c-4725-ba74-b00c4a2eaada\" xlink:actuate=\"onRequest\" xlink:href=\"psysml:974879a0-be0c-4725-ba74-b00c4a2eaada\" xlink:show=\"new\" xlink:title=\"psysml:974879a0-be0c-4725-ba74-b00c4a2eaada\" xlink:type=\"simple\"><path d=\"M97.42,213.32 C87.35,222.4 77.37,233.83 72,246.72 C66.5,259.92 66.66,275.66 68.54,289.1 \" fill=\"none\" id=\"E8-&gt;E6\" style=\"stroke: #A80036; stroke-width: 1.0; stroke-dasharray: 7.0,7.0;\"/><polygon fill=\"#A80036\" points=\"69.9,297.12,71.517,288.7304,65.6018,289.7359,69.9,297.12\" style=\"stroke: #A80036; stroke-width: 1.0;\"/><text fill=\"#000000\" font-family=\"sans-serif\" font-size=\"13\" lengthAdjust=\"spacingAndGlyphs\" textLength=\"64\" x=\"73\" y=\"259.7869\">«depend»</text></a><!--MD5=[bfa3c8b0d15052fdf50ae9310b491027]\n",
       "link E8 to E7--><a href=\"psysml:974879a0-be0c-4725-ba74-b00c4a2eaada\" target=\"_top\" title=\"psysml:974879a0-be0c-4725-ba74-b00c4a2eaada\" xlink:actuate=\"onRequest\" xlink:href=\"psysml:974879a0-be0c-4725-ba74-b00c4a2eaada\" xlink:show=\"new\" xlink:title=\"psysml:974879a0-be0c-4725-ba74-b00c4a2eaada\" xlink:type=\"simple\"><path d=\"M137.28,213.22 C146.17,234.29 159.64,266.22 169.47,289.53 \" fill=\"none\" id=\"E8-&gt;E7\" style=\"stroke: #A80036; stroke-width: 1.0; stroke-dasharray: 7.0,7.0;\"/><polygon fill=\"#A80036\" points=\"172.66,297.07,172.3241,288.5326,166.7933,290.8585,172.66,297.07\" style=\"stroke: #A80036; stroke-width: 1.0;\"/><text fill=\"#000000\" font-family=\"sans-serif\" font-size=\"13\" lengthAdjust=\"spacingAndGlyphs\" textLength=\"64\" x=\"159\" y=\"259.7869\">«depend»</text></a><!--MD5=[7a71b5f27d1be94137045f59d09d5804]\n",
       "@startuml\r\n",
       "skinparam wrapWidth 300\r\n",
       "hide circle\r\n",
       "\r\n",
       "package \"DependencyTest\" as E1  [[psysml:0f0f2110-3be1-453e-862d-cec3a7a71a7a ]]  {\r\n",
       "package \"System\" as E2  [[psysml:c508d22c-e466-4361-9854-fd4393e1e853 ]]  {\r\n",
       "package \"Application Layer\" as E3  [[psysml:a9507a9e-eb7a-4860-b8c9-7900feca47e0 ]]  {\r\n",
       "}\r\n",
       "package \"Service Layer\" as E4  [[psysml:709ed33a-9ff9-4f13-a4b1-f82f2d0ae0d9 ]]  {\r\n",
       "}\r\n",
       "package \"Data Layer\" as E5  [[psysml:babd67af-01b8-42b4-9186-2fee6f5cc047 ]]  {\r\n",
       "}\r\n",
       "}\r\n",
       "comp usage \"x \" as E6  <<(T,blue) attribute>> [[psysml:2188fd29-8e87-4428-b2da-0b81f77b2176 ]] {\r\n",
       "}\r\n",
       "comp usage \"y \" as E7  <<(T,blue) attribute>> [[psysml:b1dded97-ff7b-4726-be9f-c0b539bbd77d ]] {\r\n",
       "}\r\n",
       "comp usage \"z \" as E8  <<(T,blue) attribute>> [[psysml:215a3247-a6dc-4d80-9cbe-6a95158331ec ]] {\r\n",
       "}\r\n",
       "}\r\n",
       "E1 ..> E2 [[psysml:8155982a-39d3-4776-bb66-97608c5c0d21 ]] : <<import>>*\r\n",
       "E3 ..>> E4 [[psysml:339645be-1a7b-490e-bb9e-fc7090e144b0 ]] : <<depend>>\r\n",
       "E4 ..>> E5 [[psysml:cd6419af-0f56-471f-8341-f3995db2a676 ]] : <<depend>>\r\n",
       "E8 ..>> E6 [[psysml:974879a0-be0c-4725-ba74-b00c4a2eaada ]] : <<depend>>\r\n",
       "E8 ..>> E7 [[psysml:974879a0-be0c-4725-ba74-b00c4a2eaada ]] : <<depend>>\r\n",
       "@enduml\r\n",
       "\n",
       "PlantUML version 1.2020.13(Sat Jun 13 12:26:38 UTC 2020)\n",
       "(EPL source distribution)\n",
       "Java Runtime: OpenJDK Runtime Environment\n",
       "JVM: OpenJDK 64-Bit Server VM\n",
       "Default Encoding: UTF-8\n",
       "Language: en\n",
       "Country: null\n",
       "--></g></svg>"
      ]
     },
     "execution_count": 23,
     "metadata": {},
     "output_type": "execute_result"
    }
   ],
   "source": [
    "%viz --style=\"STDCOLOR\" --view=\"Default\" \"DependencyTest\""
   ]
  },
  {
   "cell_type": "code",
   "execution_count": 24,
   "id": "e5f98a81",
   "metadata": {
    "execution": {
     "iopub.execute_input": "2022-08-19T08:17:12.290663Z",
     "iopub.status.busy": "2022-08-19T08:17:12.289960Z",
     "iopub.status.idle": "2022-08-19T08:17:12.327533Z",
     "shell.execute_reply": "2022-08-19T08:17:12.327097Z"
    }
   },
   "outputs": [
    {
     "data": {
      "image/svg+xml": [
       "<?xml version=\"1.0\" encoding=\"UTF-8\" standalone=\"no\"?><svg xmlns=\"http://www.w3.org/2000/svg\" xmlns:xlink=\"http://www.w3.org/1999/xlink\" contentScriptType=\"application/ecmascript\" contentStyleType=\"text/css\" height=\"552px\" preserveAspectRatio=\"none\" style=\"width:536px;height:552px;\" version=\"1.1\" viewBox=\"0 0 536 552\" width=\"536px\" zoomAndPan=\"magnify\"><defs><filter height=\"300%\" id=\"f1xpsxbd77uxru\" width=\"300%\" x=\"-1\" y=\"-1\"><feGaussianBlur result=\"blurOut\" stdDeviation=\"2.0\"/><feColorMatrix in=\"blurOut\" result=\"blurOut2\" type=\"matrix\" values=\"0 0 0 0 0 0 0 0 0 0 0 0 0 0 0 0 0 0 .4 0\"/><feOffset dx=\"4.0\" dy=\"4.0\" in=\"blurOut2\" result=\"blurOut3\"/><feBlend in=\"SourceGraphic\" in2=\"blurOut3\" mode=\"normal\"/></filter></defs><g><!--MD5=[fbc87193dbaf4d95561dea2c320d4a47]\n",
       "cluster E1--><a href=\"psysml:0f0f2110-3be1-453e-862d-cec3a7a71a7a\" target=\"_top\" title=\"psysml:0f0f2110-3be1-453e-862d-cec3a7a71a7a\" xlink:actuate=\"onRequest\" xlink:href=\"psysml:0f0f2110-3be1-453e-862d-cec3a7a71a7a\" xlink:show=\"new\" xlink:title=\"psysml:0f0f2110-3be1-453e-862d-cec3a7a71a7a\" xlink:type=\"simple\"><polygon fill=\"#FFFFFF\" filter=\"url(#f1xpsxbd77uxru)\" points=\"16,6,142,6,149,28.2969,514,28.2969,514,540.72,16,540.72,16,6\" style=\"stroke: #000000; stroke-width: 1.5;\"/><line style=\"stroke: #000000; stroke-width: 1.5;\" x1=\"16\" x2=\"149\" y1=\"28.2969\" y2=\"28.2969\"/><text fill=\"#000000\" font-family=\"sans-serif\" font-size=\"14\" font-weight=\"bold\" lengthAdjust=\"spacingAndGlyphs\" textLength=\"120\" x=\"20\" y=\"20.9951\">DependencyTest</text></a><!--MD5=[e4f7fae6ed58524ba242bb0b0d3be6b7]\n",
       "cluster E2--><a href=\"psysml:c508d22c-e466-4361-9854-fd4393e1e853\" target=\"_top\" title=\"psysml:c508d22c-e466-4361-9854-fd4393e1e853\" xlink:actuate=\"onRequest\" xlink:href=\"psysml:c508d22c-e466-4361-9854-fd4393e1e853\" xlink:show=\"new\" xlink:title=\"psysml:c508d22c-e466-4361-9854-fd4393e1e853\" xlink:type=\"simple\"><polygon fill=\"#FFFFFF\" filter=\"url(#f1xpsxbd77uxru)\" points=\"271,120.72,328,120.72,335,143.0169,474,143.0169,474,500.72,271,500.72,271,120.72\" style=\"stroke: #000000; stroke-width: 1.5;\"/><line style=\"stroke: #000000; stroke-width: 1.5;\" x1=\"271\" x2=\"335\" y1=\"143.0169\" y2=\"143.0169\"/><text fill=\"#000000\" font-family=\"sans-serif\" font-size=\"14\" font-weight=\"bold\" lengthAdjust=\"spacingAndGlyphs\" textLength=\"51\" x=\"275\" y=\"135.7151\">System</text></a><!--MD5=[60a26617385b1d2d0262a64233df1f8d]\n",
       "class E6--><a href=\"psysml:2188fd29-8e87-4428-b2da-0b81f77b2176\" target=\"_top\" title=\"psysml:2188fd29-8e87-4428-b2da-0b81f77b2176\" xlink:actuate=\"onRequest\" xlink:href=\"psysml:2188fd29-8e87-4428-b2da-0b81f77b2176\" xlink:show=\"new\" xlink:title=\"psysml:2188fd29-8e87-4428-b2da-0b81f77b2176\" xlink:type=\"simple\"><rect fill=\"#FEFECE\" filter=\"url(#f1xpsxbd77uxru)\" height=\"45.9375\" id=\"E6\" rx=\"10\" ry=\"10\" style=\"stroke: #A80036; stroke-width: 1.5;\" width=\"71\" x=\"40.5\" y=\"297.22\"/><text fill=\"#000000\" font-family=\"sans-serif\" font-size=\"12\" font-style=\"italic\" lengthAdjust=\"spacingAndGlyphs\" textLength=\"69\" x=\"41.5\" y=\"313.3587\">«attribute»</text><text fill=\"#000000\" font-family=\"sans-serif\" font-size=\"12\" lengthAdjust=\"spacingAndGlyphs\" textLength=\"6\" x=\"71\" y=\"327.3274\">x</text><line style=\"stroke: #A80036; stroke-width: 1.5;\" x1=\"41.5\" x2=\"110.5\" y1=\"335.1575\" y2=\"335.1575\"/></a><!--MD5=[2156ba9850f5573cc1fc38a6a4b2f02b]\n",
       "class E7--><a href=\"psysml:b1dded97-ff7b-4726-be9f-c0b539bbd77d\" target=\"_top\" title=\"psysml:b1dded97-ff7b-4726-be9f-c0b539bbd77d\" xlink:actuate=\"onRequest\" xlink:href=\"psysml:b1dded97-ff7b-4726-be9f-c0b539bbd77d\" xlink:show=\"new\" xlink:title=\"psysml:b1dded97-ff7b-4726-be9f-c0b539bbd77d\" xlink:type=\"simple\"><rect fill=\"#FEFECE\" filter=\"url(#f1xpsxbd77uxru)\" height=\"45.9375\" id=\"E7\" rx=\"10\" ry=\"10\" style=\"stroke: #A80036; stroke-width: 1.5;\" width=\"71\" x=\"146.5\" y=\"297.22\"/><text fill=\"#000000\" font-family=\"sans-serif\" font-size=\"12\" font-style=\"italic\" lengthAdjust=\"spacingAndGlyphs\" textLength=\"69\" x=\"147.5\" y=\"313.3587\">«attribute»</text><text fill=\"#000000\" font-family=\"sans-serif\" font-size=\"12\" lengthAdjust=\"spacingAndGlyphs\" textLength=\"6\" x=\"177\" y=\"327.3274\">y</text><line style=\"stroke: #A80036; stroke-width: 1.5;\" x1=\"147.5\" x2=\"216.5\" y1=\"335.1575\" y2=\"335.1575\"/></a><!--MD5=[b9389687b975829384b498ac4b7476b2]\n",
       "class E8--><a href=\"psysml:215a3247-a6dc-4d80-9cbe-6a95158331ec\" target=\"_top\" title=\"psysml:215a3247-a6dc-4d80-9cbe-6a95158331ec\" xlink:actuate=\"onRequest\" xlink:href=\"psysml:215a3247-a6dc-4d80-9cbe-6a95158331ec\" xlink:show=\"new\" xlink:title=\"psysml:215a3247-a6dc-4d80-9cbe-6a95158331ec\" xlink:type=\"simple\"><rect fill=\"#FEFECE\" filter=\"url(#f1xpsxbd77uxru)\" height=\"45.9375\" id=\"E8\" rx=\"10\" ry=\"10\" style=\"stroke: #A80036; stroke-width: 1.5;\" width=\"71\" x=\"92.5\" y=\"167.22\"/><text fill=\"#000000\" font-family=\"sans-serif\" font-size=\"12\" font-style=\"italic\" lengthAdjust=\"spacingAndGlyphs\" textLength=\"69\" x=\"93.5\" y=\"183.3587\">«attribute»</text><text fill=\"#000000\" font-family=\"sans-serif\" font-size=\"12\" lengthAdjust=\"spacingAndGlyphs\" textLength=\"5\" x=\"123.5\" y=\"197.3274\">z</text><line style=\"stroke: #A80036; stroke-width: 1.5;\" x1=\"93.5\" x2=\"162.5\" y1=\"205.1575\" y2=\"205.1575\"/></a><a href=\"psysml:a9507a9e-eb7a-4860-b8c9-7900feca47e0\" target=\"_top\" title=\"psysml:a9507a9e-eb7a-4860-b8c9-7900feca47e0\" xlink:actuate=\"onRequest\" xlink:href=\"psysml:a9507a9e-eb7a-4860-b8c9-7900feca47e0\" xlink:show=\"new\" xlink:title=\"psysml:a9507a9e-eb7a-4860-b8c9-7900feca47e0\" xlink:type=\"simple\"><polygon fill=\"#FFFFFF\" filter=\"url(#f1xpsxbd77uxru)\" points=\"314.5,163.72,435.5,163.72,442.5,186.0169,449.5,186.0169,449.5,216.3138,314.5,216.3138,314.5,163.72\" style=\"stroke: #000000; stroke-width: 1.5;\"/><line style=\"stroke: #000000; stroke-width: 1.5;\" x1=\"314.5\" x2=\"442.5\" y1=\"186.0169\" y2=\"186.0169\"/><text fill=\"#000000\" font-family=\"sans-serif\" font-size=\"14\" font-weight=\"bold\" lengthAdjust=\"spacingAndGlyphs\" textLength=\"115\" x=\"318.5\" y=\"178.7151\">Application Layer</text></a><a href=\"psysml:709ed33a-9ff9-4f13-a4b1-f82f2d0ae0d9\" target=\"_top\" title=\"psysml:709ed33a-9ff9-4f13-a4b1-f82f2d0ae0d9\" xlink:actuate=\"onRequest\" xlink:href=\"psysml:709ed33a-9ff9-4f13-a4b1-f82f2d0ae0d9\" xlink:show=\"new\" xlink:title=\"psysml:709ed33a-9ff9-4f13-a4b1-f82f2d0ae0d9\" xlink:type=\"simple\"><polygon fill=\"#FFFFFF\" filter=\"url(#f1xpsxbd77uxru)\" points=\"327,293.72,423,293.72,430,316.0169,437,316.0169,437,346.3138,327,346.3138,327,293.72\" style=\"stroke: #000000; stroke-width: 1.5;\"/><line style=\"stroke: #000000; stroke-width: 1.5;\" x1=\"327\" x2=\"430\" y1=\"316.0169\" y2=\"316.0169\"/><text fill=\"#000000\" font-family=\"sans-serif\" font-size=\"14\" font-weight=\"bold\" lengthAdjust=\"spacingAndGlyphs\" textLength=\"90\" x=\"331\" y=\"308.7151\">Service Layer</text></a><a href=\"psysml:babd67af-01b8-42b4-9186-2fee6f5cc047\" target=\"_top\" title=\"psysml:babd67af-01b8-42b4-9186-2fee6f5cc047\" xlink:actuate=\"onRequest\" xlink:href=\"psysml:babd67af-01b8-42b4-9186-2fee6f5cc047\" xlink:show=\"new\" xlink:title=\"psysml:babd67af-01b8-42b4-9186-2fee6f5cc047\" xlink:type=\"simple\"><polygon fill=\"#FFFFFF\" filter=\"url(#f1xpsxbd77uxru)\" points=\"336,423.72,414,423.72,421,446.0169,428,446.0169,428,476.3138,336,476.3138,336,423.72\" style=\"stroke: #000000; stroke-width: 1.5;\"/><line style=\"stroke: #000000; stroke-width: 1.5;\" x1=\"336\" x2=\"421\" y1=\"446.0169\" y2=\"446.0169\"/><text fill=\"#000000\" font-family=\"sans-serif\" font-size=\"14\" font-weight=\"bold\" lengthAdjust=\"spacingAndGlyphs\" textLength=\"72\" x=\"340\" y=\"438.7151\">Data Layer</text></a><!--MD5=[1f1cd8e6dd4c1b2ca2aaccc9b9bcea6e]\n",
       "link E1 to E2--><a href=\"psysml:8155982a-39d3-4776-bb66-97608c5c0d21\" target=\"_top\" title=\"psysml:8155982a-39d3-4776-bb66-97608c5c0d21\" xlink:actuate=\"onRequest\" xlink:href=\"psysml:8155982a-39d3-4776-bb66-97608c5c0d21\" xlink:show=\"new\" xlink:title=\"psysml:8155982a-39d3-4776-bb66-97608c5c0d21\" xlink:type=\"simple\"><path d=\"M279,33.83 C279,36.15 279,73.83 279,111.5 C279,113.8544 279,116.2087 279,118.5544 C279,119.1408 279,119.7267 279,120.3119 \" fill=\"none\" id=\"E1-&gt;E2\" style=\"stroke: #A80036; stroke-width: 1.0; stroke-dasharray: 7.0,7.0;\"/><polygon fill=\"#A80036\" points=\"279,120.3119,283,111.3119,279,115.3119,275,111.3119,279,120.3119\" style=\"stroke: #A80036; stroke-width: 1.0;\"/><text fill=\"#000000\" font-family=\"sans-serif\" font-size=\"13\" lengthAdjust=\"spacingAndGlyphs\" textLength=\"65\" x=\"280\" y=\"76.7869\">«import»*</text></a><!--MD5=[af87c684e3b0d8be13c1a698a818ef1e]\n",
       "link E3 to E4--><a href=\"psysml:339645be-1a7b-490e-bb9e-fc7090e144b0\" target=\"_top\" title=\"psysml:339645be-1a7b-490e-bb9e-fc7090e144b0\" xlink:actuate=\"onRequest\" xlink:href=\"psysml:339645be-1a7b-490e-bb9e-fc7090e144b0\" xlink:show=\"new\" xlink:title=\"psysml:339645be-1a7b-490e-bb9e-fc7090e144b0\" xlink:type=\"simple\"><path d=\"M382,216.82 C382,236.52 382,263.94 382,285.45 \" fill=\"none\" id=\"E3-&gt;E4\" style=\"stroke: #A80036; stroke-width: 1.0; stroke-dasharray: 7.0,7.0;\"/><polygon fill=\"#A80036\" points=\"382,293.67,385,285.67,379,285.67,382,293.67\" style=\"stroke: #A80036; stroke-width: 1.0;\"/><text fill=\"#000000\" font-family=\"sans-serif\" font-size=\"13\" lengthAdjust=\"spacingAndGlyphs\" textLength=\"64\" x=\"383\" y=\"259.7869\">«depend»</text></a><!--MD5=[1b7591eae5389033d8d09a9d6721a717]\n",
       "link E4 to E5--><a href=\"psysml:cd6419af-0f56-471f-8341-f3995db2a676\" target=\"_top\" title=\"psysml:cd6419af-0f56-471f-8341-f3995db2a676\" xlink:actuate=\"onRequest\" xlink:href=\"psysml:cd6419af-0f56-471f-8341-f3995db2a676\" xlink:show=\"new\" xlink:title=\"psysml:cd6419af-0f56-471f-8341-f3995db2a676\" xlink:type=\"simple\"><path d=\"M382,346.82 C382,366.52 382,393.94 382,415.45 \" fill=\"none\" id=\"E4-&gt;E5\" style=\"stroke: #A80036; stroke-width: 1.0; stroke-dasharray: 7.0,7.0;\"/><polygon fill=\"#A80036\" points=\"382,423.67,385,415.67,379,415.67,382,423.67\" style=\"stroke: #A80036; stroke-width: 1.0;\"/><text fill=\"#000000\" font-family=\"sans-serif\" font-size=\"13\" lengthAdjust=\"spacingAndGlyphs\" textLength=\"64\" x=\"383\" y=\"389.7869\">«depend»</text></a><!--MD5=[c5e8897d989ce984f93528998a7150fe]\n",
       "link E8 to E6--><a href=\"psysml:974879a0-be0c-4725-ba74-b00c4a2eaada\" target=\"_top\" title=\"psysml:974879a0-be0c-4725-ba74-b00c4a2eaada\" xlink:actuate=\"onRequest\" xlink:href=\"psysml:974879a0-be0c-4725-ba74-b00c4a2eaada\" xlink:show=\"new\" xlink:title=\"psysml:974879a0-be0c-4725-ba74-b00c4a2eaada\" xlink:type=\"simple\"><path d=\"M97.42,213.32 C87.35,222.4 77.37,233.83 72,246.72 C66.5,259.92 66.66,275.66 68.54,289.1 \" fill=\"none\" id=\"E8-&gt;E6\" style=\"stroke: #A80036; stroke-width: 1.0; stroke-dasharray: 7.0,7.0;\"/><polygon fill=\"#A80036\" points=\"69.9,297.12,71.517,288.7304,65.6018,289.7359,69.9,297.12\" style=\"stroke: #A80036; stroke-width: 1.0;\"/><text fill=\"#000000\" font-family=\"sans-serif\" font-size=\"13\" lengthAdjust=\"spacingAndGlyphs\" textLength=\"64\" x=\"73\" y=\"259.7869\">«depend»</text></a><!--MD5=[bfa3c8b0d15052fdf50ae9310b491027]\n",
       "link E8 to E7--><a href=\"psysml:974879a0-be0c-4725-ba74-b00c4a2eaada\" target=\"_top\" title=\"psysml:974879a0-be0c-4725-ba74-b00c4a2eaada\" xlink:actuate=\"onRequest\" xlink:href=\"psysml:974879a0-be0c-4725-ba74-b00c4a2eaada\" xlink:show=\"new\" xlink:title=\"psysml:974879a0-be0c-4725-ba74-b00c4a2eaada\" xlink:type=\"simple\"><path d=\"M137.28,213.22 C146.17,234.29 159.64,266.22 169.47,289.53 \" fill=\"none\" id=\"E8-&gt;E7\" style=\"stroke: #A80036; stroke-width: 1.0; stroke-dasharray: 7.0,7.0;\"/><polygon fill=\"#A80036\" points=\"172.66,297.07,172.3241,288.5326,166.7933,290.8585,172.66,297.07\" style=\"stroke: #A80036; stroke-width: 1.0;\"/><text fill=\"#000000\" font-family=\"sans-serif\" font-size=\"13\" lengthAdjust=\"spacingAndGlyphs\" textLength=\"64\" x=\"159\" y=\"259.7869\">«depend»</text></a><!--MD5=[7a71b5f27d1be94137045f59d09d5804]\n",
       "@startuml\r\n",
       "skinparam wrapWidth 300\r\n",
       "hide circle\r\n",
       "\r\n",
       "package \"DependencyTest\" as E1  [[psysml:0f0f2110-3be1-453e-862d-cec3a7a71a7a ]]  {\r\n",
       "package \"System\" as E2  [[psysml:c508d22c-e466-4361-9854-fd4393e1e853 ]]  {\r\n",
       "package \"Application Layer\" as E3  [[psysml:a9507a9e-eb7a-4860-b8c9-7900feca47e0 ]]  {\r\n",
       "}\r\n",
       "package \"Service Layer\" as E4  [[psysml:709ed33a-9ff9-4f13-a4b1-f82f2d0ae0d9 ]]  {\r\n",
       "}\r\n",
       "package \"Data Layer\" as E5  [[psysml:babd67af-01b8-42b4-9186-2fee6f5cc047 ]]  {\r\n",
       "}\r\n",
       "}\r\n",
       "comp usage \"x \" as E6  <<(T,blue) attribute>> [[psysml:2188fd29-8e87-4428-b2da-0b81f77b2176 ]] {\r\n",
       "}\r\n",
       "comp usage \"y \" as E7  <<(T,blue) attribute>> [[psysml:b1dded97-ff7b-4726-be9f-c0b539bbd77d ]] {\r\n",
       "}\r\n",
       "comp usage \"z \" as E8  <<(T,blue) attribute>> [[psysml:215a3247-a6dc-4d80-9cbe-6a95158331ec ]] {\r\n",
       "}\r\n",
       "}\r\n",
       "E1 ..> E2 [[psysml:8155982a-39d3-4776-bb66-97608c5c0d21 ]] : <<import>>*\r\n",
       "E3 ..>> E4 [[psysml:339645be-1a7b-490e-bb9e-fc7090e144b0 ]] : <<depend>>\r\n",
       "E4 ..>> E5 [[psysml:cd6419af-0f56-471f-8341-f3995db2a676 ]] : <<depend>>\r\n",
       "E8 ..>> E6 [[psysml:974879a0-be0c-4725-ba74-b00c4a2eaada ]] : <<depend>>\r\n",
       "E8 ..>> E7 [[psysml:974879a0-be0c-4725-ba74-b00c4a2eaada ]] : <<depend>>\r\n",
       "@enduml\r\n",
       "\n",
       "PlantUML version 1.2020.13(Sat Jun 13 12:26:38 UTC 2020)\n",
       "(EPL source distribution)\n",
       "Java Runtime: OpenJDK Runtime Environment\n",
       "JVM: OpenJDK 64-Bit Server VM\n",
       "Default Encoding: UTF-8\n",
       "Language: en\n",
       "Country: null\n",
       "--></g></svg>"
      ]
     },
     "execution_count": 24,
     "metadata": {},
     "output_type": "execute_result"
    }
   ],
   "source": [
    "%viz --style=\"STDCOLOR\" --view=\"Tree\" \"DependencyTest\""
   ]
  },
  {
   "cell_type": "code",
   "execution_count": 25,
   "id": "a9312b94",
   "metadata": {
    "execution": {
     "iopub.execute_input": "2022-08-19T08:17:12.376913Z",
     "iopub.status.busy": "2022-08-19T08:17:12.376450Z",
     "iopub.status.idle": "2022-08-19T08:17:12.381398Z",
     "shell.execute_reply": "2022-08-19T08:17:12.381724Z"
    }
   },
   "outputs": [
    {
     "data": {
      "image/svg+xml": [
       "<?xml version=\"1.0\" encoding=\"UTF-8\" standalone=\"no\"?><svg xmlns=\"http://www.w3.org/2000/svg\" xmlns:xlink=\"http://www.w3.org/1999/xlink\" contentScriptType=\"application/ecmascript\" contentStyleType=\"text/css\" height=\"12px\" preserveAspectRatio=\"none\" style=\"width:12px;height:12px;\" version=\"1.1\" viewBox=\"0 0 12 12\" width=\"12px\" zoomAndPan=\"magnify\"><defs/><g><!--MD5=[aeeef50f102b80d730deb6443d14f702]\n",
       "@startuml\r\n",
       "skinparam wrapWidth 300\r\n",
       "hide circle\r\n",
       "\r\n",
       "@enduml\r\n",
       "\n",
       "PlantUML version 1.2020.13(Sat Jun 13 12:26:38 UTC 2020)\n",
       "(EPL source distribution)\n",
       "Java Runtime: OpenJDK Runtime Environment\n",
       "JVM: OpenJDK 64-Bit Server VM\n",
       "Default Encoding: UTF-8\n",
       "Language: en\n",
       "Country: null\n",
       "--></g></svg>"
      ]
     },
     "execution_count": 25,
     "metadata": {},
     "output_type": "execute_result"
    }
   ],
   "source": [
    "%viz --style=\"STDCOLOR\" --view=\"State\" \"DependencyTest\""
   ]
  },
  {
   "cell_type": "code",
   "execution_count": 26,
   "id": "541ecb59",
   "metadata": {
    "execution": {
     "iopub.execute_input": "2022-08-19T08:17:12.432312Z",
     "iopub.status.busy": "2022-08-19T08:17:12.431803Z",
     "iopub.status.idle": "2022-08-19T08:17:12.477226Z",
     "shell.execute_reply": "2022-08-19T08:17:12.475623Z"
    }
   },
   "outputs": [
    {
     "data": {
      "image/svg+xml": [
       "<?xml version=\"1.0\" encoding=\"UTF-8\" standalone=\"no\"?><svg xmlns=\"http://www.w3.org/2000/svg\" xmlns:xlink=\"http://www.w3.org/1999/xlink\" contentScriptType=\"application/ecmascript\" contentStyleType=\"text/css\" height=\"442px\" preserveAspectRatio=\"none\" style=\"width:536px;height:442px;\" version=\"1.1\" viewBox=\"0 0 536 442\" width=\"536px\" zoomAndPan=\"magnify\"><defs><filter height=\"300%\" id=\"f1rk1nr5b2h3xh\" width=\"300%\" x=\"-1\" y=\"-1\"><feGaussianBlur result=\"blurOut\" stdDeviation=\"2.0\"/><feColorMatrix in=\"blurOut\" result=\"blurOut2\" type=\"matrix\" values=\"0 0 0 0 0 0 0 0 0 0 0 0 0 0 0 0 0 0 .4 0\"/><feOffset dx=\"4.0\" dy=\"4.0\" in=\"blurOut2\" result=\"blurOut3\"/><feBlend in=\"SourceGraphic\" in2=\"blurOut3\" mode=\"normal\"/></filter></defs><g><!--MD5=[fbc87193dbaf4d95561dea2c320d4a47]\n",
       "cluster E1--><a href=\"psysml:0f0f2110-3be1-453e-862d-cec3a7a71a7a\" target=\"_top\" title=\"psysml:0f0f2110-3be1-453e-862d-cec3a7a71a7a\" xlink:actuate=\"onRequest\" xlink:href=\"psysml:0f0f2110-3be1-453e-862d-cec3a7a71a7a\" xlink:show=\"new\" xlink:title=\"psysml:0f0f2110-3be1-453e-862d-cec3a7a71a7a\" xlink:type=\"simple\"><polygon fill=\"#FFFFFF\" filter=\"url(#f1rk1nr5b2h3xh)\" points=\"16,6,142,6,149,28.2969,514,28.2969,514,430.72,16,430.72,16,6\" style=\"stroke: #000000; stroke-width: 1.5;\"/><line style=\"stroke: #000000; stroke-width: 1.5;\" x1=\"16\" x2=\"149\" y1=\"28.2969\" y2=\"28.2969\"/><text fill=\"#000000\" font-family=\"sans-serif\" font-size=\"14\" font-weight=\"bold\" lengthAdjust=\"spacingAndGlyphs\" textLength=\"120\" x=\"20\" y=\"20.9951\">DependencyTest</text></a><!--MD5=[e4f7fae6ed58524ba242bb0b0d3be6b7]\n",
       "cluster E2--><a href=\"psysml:c508d22c-e466-4361-9854-fd4393e1e853\" target=\"_top\" title=\"psysml:c508d22c-e466-4361-9854-fd4393e1e853\" xlink:actuate=\"onRequest\" xlink:href=\"psysml:c508d22c-e466-4361-9854-fd4393e1e853\" xlink:show=\"new\" xlink:title=\"psysml:c508d22c-e466-4361-9854-fd4393e1e853\" xlink:type=\"simple\"><polygon fill=\"#FFFFFF\" filter=\"url(#f1rk1nr5b2h3xh)\" points=\"271,98.72,328,98.72,335,121.0169,474,121.0169,474,390.72,271,390.72,271,98.72\" style=\"stroke: #000000; stroke-width: 1.5;\"/><line style=\"stroke: #000000; stroke-width: 1.5;\" x1=\"271\" x2=\"335\" y1=\"121.0169\" y2=\"121.0169\"/><text fill=\"#000000\" font-family=\"sans-serif\" font-size=\"14\" font-weight=\"bold\" lengthAdjust=\"spacingAndGlyphs\" textLength=\"51\" x=\"275\" y=\"113.7151\">System</text></a><!--MD5=[60a26617385b1d2d0262a64233df1f8d]\n",
       "class E6--><a href=\"psysml:2188fd29-8e87-4428-b2da-0b81f77b2176\" target=\"_top\" title=\"psysml:2188fd29-8e87-4428-b2da-0b81f77b2176\" xlink:actuate=\"onRequest\" xlink:href=\"psysml:2188fd29-8e87-4428-b2da-0b81f77b2176\" xlink:show=\"new\" xlink:title=\"psysml:2188fd29-8e87-4428-b2da-0b81f77b2176\" xlink:type=\"simple\"><rect fill=\"#FEFECE\" filter=\"url(#f1rk1nr5b2h3xh)\" height=\"45.9375\" id=\"E6\" rx=\"10\" ry=\"10\" style=\"stroke: #A80036; stroke-width: 1.5;\" width=\"71\" x=\"40.5\" y=\"231.22\"/><text fill=\"#000000\" font-family=\"sans-serif\" font-size=\"12\" font-style=\"italic\" lengthAdjust=\"spacingAndGlyphs\" textLength=\"69\" x=\"41.5\" y=\"247.3587\">«attribute»</text><text fill=\"#000000\" font-family=\"sans-serif\" font-size=\"12\" lengthAdjust=\"spacingAndGlyphs\" textLength=\"6\" x=\"71\" y=\"261.3274\">x</text><line style=\"stroke: #A80036; stroke-width: 1.5;\" x1=\"41.5\" x2=\"110.5\" y1=\"269.1575\" y2=\"269.1575\"/></a><!--MD5=[2156ba9850f5573cc1fc38a6a4b2f02b]\n",
       "class E7--><a href=\"psysml:b1dded97-ff7b-4726-be9f-c0b539bbd77d\" target=\"_top\" title=\"psysml:b1dded97-ff7b-4726-be9f-c0b539bbd77d\" xlink:actuate=\"onRequest\" xlink:href=\"psysml:b1dded97-ff7b-4726-be9f-c0b539bbd77d\" xlink:show=\"new\" xlink:title=\"psysml:b1dded97-ff7b-4726-be9f-c0b539bbd77d\" xlink:type=\"simple\"><rect fill=\"#FEFECE\" filter=\"url(#f1rk1nr5b2h3xh)\" height=\"45.9375\" id=\"E7\" rx=\"10\" ry=\"10\" style=\"stroke: #A80036; stroke-width: 1.5;\" width=\"71\" x=\"146.5\" y=\"231.22\"/><text fill=\"#000000\" font-family=\"sans-serif\" font-size=\"12\" font-style=\"italic\" lengthAdjust=\"spacingAndGlyphs\" textLength=\"69\" x=\"147.5\" y=\"247.3587\">«attribute»</text><text fill=\"#000000\" font-family=\"sans-serif\" font-size=\"12\" lengthAdjust=\"spacingAndGlyphs\" textLength=\"6\" x=\"177\" y=\"261.3274\">y</text><line style=\"stroke: #A80036; stroke-width: 1.5;\" x1=\"147.5\" x2=\"216.5\" y1=\"269.1575\" y2=\"269.1575\"/></a><!--MD5=[b9389687b975829384b498ac4b7476b2]\n",
       "class E8--><a href=\"psysml:215a3247-a6dc-4d80-9cbe-6a95158331ec\" target=\"_top\" title=\"psysml:215a3247-a6dc-4d80-9cbe-6a95158331ec\" xlink:actuate=\"onRequest\" xlink:href=\"psysml:215a3247-a6dc-4d80-9cbe-6a95158331ec\" xlink:show=\"new\" xlink:title=\"psysml:215a3247-a6dc-4d80-9cbe-6a95158331ec\" xlink:type=\"simple\"><rect fill=\"#FEFECE\" filter=\"url(#f1rk1nr5b2h3xh)\" height=\"45.9375\" id=\"E8\" rx=\"10\" ry=\"10\" style=\"stroke: #A80036; stroke-width: 1.5;\" width=\"71\" x=\"92.5\" y=\"145.22\"/><text fill=\"#000000\" font-family=\"sans-serif\" font-size=\"12\" font-style=\"italic\" lengthAdjust=\"spacingAndGlyphs\" textLength=\"69\" x=\"93.5\" y=\"161.3587\">«attribute»</text><text fill=\"#000000\" font-family=\"sans-serif\" font-size=\"12\" lengthAdjust=\"spacingAndGlyphs\" textLength=\"5\" x=\"123.5\" y=\"175.3274\">z</text><line style=\"stroke: #A80036; stroke-width: 1.5;\" x1=\"93.5\" x2=\"162.5\" y1=\"183.1575\" y2=\"183.1575\"/></a><a href=\"psysml:a9507a9e-eb7a-4860-b8c9-7900feca47e0\" target=\"_top\" title=\"psysml:a9507a9e-eb7a-4860-b8c9-7900feca47e0\" xlink:actuate=\"onRequest\" xlink:href=\"psysml:a9507a9e-eb7a-4860-b8c9-7900feca47e0\" xlink:show=\"new\" xlink:title=\"psysml:a9507a9e-eb7a-4860-b8c9-7900feca47e0\" xlink:type=\"simple\"><polygon fill=\"#FFFFFF\" filter=\"url(#f1rk1nr5b2h3xh)\" points=\"314.5,141.72,435.5,141.72,442.5,164.0169,449.5,164.0169,449.5,194.3138,314.5,194.3138,314.5,141.72\" style=\"stroke: #000000; stroke-width: 1.5;\"/><line style=\"stroke: #000000; stroke-width: 1.5;\" x1=\"314.5\" x2=\"442.5\" y1=\"164.0169\" y2=\"164.0169\"/><text fill=\"#000000\" font-family=\"sans-serif\" font-size=\"14\" font-weight=\"bold\" lengthAdjust=\"spacingAndGlyphs\" textLength=\"115\" x=\"318.5\" y=\"156.7151\">Application Layer</text></a><a href=\"psysml:709ed33a-9ff9-4f13-a4b1-f82f2d0ae0d9\" target=\"_top\" title=\"psysml:709ed33a-9ff9-4f13-a4b1-f82f2d0ae0d9\" xlink:actuate=\"onRequest\" xlink:href=\"psysml:709ed33a-9ff9-4f13-a4b1-f82f2d0ae0d9\" xlink:show=\"new\" xlink:title=\"psysml:709ed33a-9ff9-4f13-a4b1-f82f2d0ae0d9\" xlink:type=\"simple\"><polygon fill=\"#FFFFFF\" filter=\"url(#f1rk1nr5b2h3xh)\" points=\"327,227.72,423,227.72,430,250.0169,437,250.0169,437,280.3138,327,280.3138,327,227.72\" style=\"stroke: #000000; stroke-width: 1.5;\"/><line style=\"stroke: #000000; stroke-width: 1.5;\" x1=\"327\" x2=\"430\" y1=\"250.0169\" y2=\"250.0169\"/><text fill=\"#000000\" font-family=\"sans-serif\" font-size=\"14\" font-weight=\"bold\" lengthAdjust=\"spacingAndGlyphs\" textLength=\"90\" x=\"331\" y=\"242.7151\">Service Layer</text></a><a href=\"psysml:babd67af-01b8-42b4-9186-2fee6f5cc047\" target=\"_top\" title=\"psysml:babd67af-01b8-42b4-9186-2fee6f5cc047\" xlink:actuate=\"onRequest\" xlink:href=\"psysml:babd67af-01b8-42b4-9186-2fee6f5cc047\" xlink:show=\"new\" xlink:title=\"psysml:babd67af-01b8-42b4-9186-2fee6f5cc047\" xlink:type=\"simple\"><polygon fill=\"#FFFFFF\" filter=\"url(#f1rk1nr5b2h3xh)\" points=\"336,313.72,414,313.72,421,336.0169,428,336.0169,428,366.3138,336,366.3138,336,313.72\" style=\"stroke: #000000; stroke-width: 1.5;\"/><line style=\"stroke: #000000; stroke-width: 1.5;\" x1=\"336\" x2=\"421\" y1=\"336.0169\" y2=\"336.0169\"/><text fill=\"#000000\" font-family=\"sans-serif\" font-size=\"14\" font-weight=\"bold\" lengthAdjust=\"spacingAndGlyphs\" textLength=\"72\" x=\"340\" y=\"328.7151\">Data Layer</text></a><!--MD5=[1f1cd8e6dd4c1b2ca2aaccc9b9bcea6e]\n",
       "link E1 to E2--><a href=\"psysml:8155982a-39d3-4776-bb66-97608c5c0d21\" target=\"_top\" title=\"psysml:8155982a-39d3-4776-bb66-97608c5c0d21\" xlink:actuate=\"onRequest\" xlink:href=\"psysml:8155982a-39d3-4776-bb66-97608c5c0d21\" xlink:show=\"new\" xlink:title=\"psysml:8155982a-39d3-4776-bb66-97608c5c0d21\" xlink:type=\"simple\"><path d=\"M279,33.82 C279,34.815 279,43.3994 279,55.7775 C279,61.9666 279,69.1041 279,76.7155 C279,80.5213 279,84.4455 279,88.429 C279,90.4207 279,92.4272 279,94.4411 C279,95.448 279,96.4568 279,97.4665 C279,97.719 279,97.9714 279,98.224 \" fill=\"none\" id=\"E1-&gt;E2\" style=\"stroke: #A80036; stroke-width: 1.0; stroke-dasharray: 7.0,7.0;\"/><polygon fill=\"#A80036\" points=\"279,98.224,283,89.224,279,93.224,275,89.224,279,98.224\" style=\"stroke: #A80036; stroke-width: 1.0;\"/><text fill=\"#000000\" font-family=\"sans-serif\" font-size=\"13\" lengthAdjust=\"spacingAndGlyphs\" textLength=\"65\" x=\"280\" y=\"54.7869\">«import»*</text></a><!--MD5=[af87c684e3b0d8be13c1a698a818ef1e]\n",
       "link E3 to E4--><a href=\"psysml:339645be-1a7b-490e-bb9e-fc7090e144b0\" target=\"_top\" title=\"psysml:339645be-1a7b-490e-bb9e-fc7090e144b0\" xlink:actuate=\"onRequest\" xlink:href=\"psysml:339645be-1a7b-490e-bb9e-fc7090e144b0\" xlink:show=\"new\" xlink:title=\"psysml:339645be-1a7b-490e-bb9e-fc7090e144b0\" xlink:type=\"simple\"><path d=\"M382,194.88 C382,202.7 382,211.41 382,219.66 \" fill=\"none\" id=\"E3-&gt;E4\" style=\"stroke: #A80036; stroke-width: 1.0; stroke-dasharray: 7.0,7.0;\"/><polygon fill=\"#A80036\" points=\"382,227.72,385,219.72,379,219.72,382,227.72\" style=\"stroke: #A80036; stroke-width: 1.0;\"/><text fill=\"#000000\" font-family=\"sans-serif\" font-size=\"13\" lengthAdjust=\"spacingAndGlyphs\" textLength=\"64\" x=\"383\" y=\"215.7869\">«depend»</text></a><!--MD5=[1b7591eae5389033d8d09a9d6721a717]\n",
       "link E4 to E5--><a href=\"psysml:cd6419af-0f56-471f-8341-f3995db2a676\" target=\"_top\" title=\"psysml:cd6419af-0f56-471f-8341-f3995db2a676\" xlink:actuate=\"onRequest\" xlink:href=\"psysml:cd6419af-0f56-471f-8341-f3995db2a676\" xlink:show=\"new\" xlink:title=\"psysml:cd6419af-0f56-471f-8341-f3995db2a676\" xlink:type=\"simple\"><path d=\"M382,280.88 C382,288.7 382,297.41 382,305.66 \" fill=\"none\" id=\"E4-&gt;E5\" style=\"stroke: #A80036; stroke-width: 1.0; stroke-dasharray: 7.0,7.0;\"/><polygon fill=\"#A80036\" points=\"382,313.72,385,305.72,379,305.72,382,313.72\" style=\"stroke: #A80036; stroke-width: 1.0;\"/><text fill=\"#000000\" font-family=\"sans-serif\" font-size=\"13\" lengthAdjust=\"spacingAndGlyphs\" textLength=\"64\" x=\"383\" y=\"301.7869\">«depend»</text></a><!--MD5=[c5e8897d989ce984f93528998a7150fe]\n",
       "link E8 to E6--><a href=\"psysml:974879a0-be0c-4725-ba74-b00c4a2eaada\" target=\"_top\" title=\"psysml:974879a0-be0c-4725-ba74-b00c4a2eaada\" xlink:actuate=\"onRequest\" xlink:href=\"psysml:974879a0-be0c-4725-ba74-b00c4a2eaada\" xlink:show=\"new\" xlink:title=\"psysml:974879a0-be0c-4725-ba74-b00c4a2eaada\" xlink:type=\"simple\"><path d=\"M92.49,183.06 C84.34,187.99 76.69,194.44 72,202.72 C68.54,208.82 67.62,216.03 68,223.05 \" fill=\"none\" id=\"E8-&gt;E6\" style=\"stroke: #A80036; stroke-width: 1.0; stroke-dasharray: 7.0,7.0;\"/><polygon fill=\"#A80036\" points=\"68.97,231.14,71.0061,222.8421,65.0479,223.5494,68.97,231.14\" style=\"stroke: #A80036; stroke-width: 1.0;\"/><text fill=\"#000000\" font-family=\"sans-serif\" font-size=\"13\" lengthAdjust=\"spacingAndGlyphs\" textLength=\"64\" x=\"73\" y=\"215.7869\">«depend»</text></a><!--MD5=[bfa3c8b0d15052fdf50ae9310b491027]\n",
       "link E8 to E7--><a href=\"psysml:974879a0-be0c-4725-ba74-b00c4a2eaada\" target=\"_top\" title=\"psysml:974879a0-be0c-4725-ba74-b00c4a2eaada\" xlink:actuate=\"onRequest\" xlink:href=\"psysml:974879a0-be0c-4725-ba74-b00c4a2eaada\" xlink:show=\"new\" xlink:title=\"psysml:974879a0-be0c-4725-ba74-b00c4a2eaada\" xlink:type=\"simple\"><path d=\"M142.19,191.29 C148.65,201.34 156.38,213.37 163.31,224.14 \" fill=\"none\" id=\"E8-&gt;E7\" style=\"stroke: #A80036; stroke-width: 1.0; stroke-dasharray: 7.0,7.0;\"/><polygon fill=\"#A80036\" points=\"167.72,231.01,165.9148,222.6589,160.8688,225.905,167.72,231.01\" style=\"stroke: #A80036; stroke-width: 1.0;\"/><text fill=\"#000000\" font-family=\"sans-serif\" font-size=\"13\" lengthAdjust=\"spacingAndGlyphs\" textLength=\"64\" x=\"160\" y=\"215.7869\">«depend»</text></a><!--MD5=[ac8fb5644446b77b07db81ac03874ca4]\n",
       "@startuml\r\n",
       "skinparam ranksep 10\r\n",
       "skinparam rectangle {\r\n",
       " backgroundColor<<block>> LightGreen\r\n",
       "}\r\n",
       "skinparam wrapWidth 300\r\n",
       "hide circle\r\n",
       "\r\n",
       "package \"DependencyTest\" as E1  [[psysml:0f0f2110-3be1-453e-862d-cec3a7a71a7a ]]  {\r\n",
       "package \"System\" as E2  [[psysml:c508d22c-e466-4361-9854-fd4393e1e853 ]]  {\r\n",
       "package \"Application Layer\" as E3  [[psysml:a9507a9e-eb7a-4860-b8c9-7900feca47e0 ]]  {\r\n",
       "}\r\n",
       "package \"Service Layer\" as E4  [[psysml:709ed33a-9ff9-4f13-a4b1-f82f2d0ae0d9 ]]  {\r\n",
       "}\r\n",
       "package \"Data Layer\" as E5  [[psysml:babd67af-01b8-42b4-9186-2fee6f5cc047 ]]  {\r\n",
       "}\r\n",
       "}\r\n",
       "comp usage \"x \" as E6  <<(T,blue) attribute>> [[psysml:2188fd29-8e87-4428-b2da-0b81f77b2176 ]] {\r\n",
       "}\r\n",
       "comp usage \"y \" as E7  <<(T,blue) attribute>> [[psysml:b1dded97-ff7b-4726-be9f-c0b539bbd77d ]] {\r\n",
       "}\r\n",
       "comp usage \"z \" as E8  <<(T,blue) attribute>> [[psysml:215a3247-a6dc-4d80-9cbe-6a95158331ec ]] {\r\n",
       "}\r\n",
       "}\r\n",
       "E1 ..> E2 [[psysml:8155982a-39d3-4776-bb66-97608c5c0d21 ]] : <<import>>*\r\n",
       "E3 ..>> E4 [[psysml:339645be-1a7b-490e-bb9e-fc7090e144b0 ]] : <<depend>>\r\n",
       "E4 ..>> E5 [[psysml:cd6419af-0f56-471f-8341-f3995db2a676 ]] : <<depend>>\r\n",
       "E8 ..>> E6 [[psysml:974879a0-be0c-4725-ba74-b00c4a2eaada ]] : <<depend>>\r\n",
       "E8 ..>> E7 [[psysml:974879a0-be0c-4725-ba74-b00c4a2eaada ]] : <<depend>>\r\n",
       "@enduml\r\n",
       "\n",
       "PlantUML version 1.2020.13(Sat Jun 13 12:26:38 UTC 2020)\n",
       "(EPL source distribution)\n",
       "Java Runtime: OpenJDK Runtime Environment\n",
       "JVM: OpenJDK 64-Bit Server VM\n",
       "Default Encoding: UTF-8\n",
       "Language: en\n",
       "Country: null\n",
       "--></g></svg>"
      ]
     },
     "execution_count": 26,
     "metadata": {},
     "output_type": "execute_result"
    }
   ],
   "source": [
    "%viz --style=\"STDCOLOR\" --view=\"Interconnection\" \"DependencyTest\""
   ]
  },
  {
   "cell_type": "code",
   "execution_count": 27,
   "id": "2125f1f7",
   "metadata": {
    "execution": {
     "iopub.execute_input": "2022-08-19T08:17:12.527333Z",
     "iopub.status.busy": "2022-08-19T08:17:12.526630Z",
     "iopub.status.idle": "2022-08-19T08:17:12.532260Z",
     "shell.execute_reply": "2022-08-19T08:17:12.531833Z"
    }
   },
   "outputs": [
    {
     "data": {
      "image/svg+xml": [
       "<?xml version=\"1.0\" encoding=\"UTF-8\" standalone=\"no\"?><svg xmlns=\"http://www.w3.org/2000/svg\" xmlns:xlink=\"http://www.w3.org/1999/xlink\" contentScriptType=\"application/ecmascript\" contentStyleType=\"text/css\" height=\"12px\" preserveAspectRatio=\"none\" style=\"width:12px;height:12px;\" version=\"1.1\" viewBox=\"0 0 12 12\" width=\"12px\" zoomAndPan=\"magnify\"><defs/><g><!--MD5=[9863325348a96a77dacc89509d8ee65e]\n",
       "@startuml\r\n",
       "skinparam ranksep 8\r\n",
       "skinparam wrapWidth 300\r\n",
       "hide circle\r\n",
       "\r\n",
       "@enduml\r\n",
       "\n",
       "PlantUML version 1.2020.13(Sat Jun 13 12:26:38 UTC 2020)\n",
       "(EPL source distribution)\n",
       "Java Runtime: OpenJDK Runtime Environment\n",
       "JVM: OpenJDK 64-Bit Server VM\n",
       "Default Encoding: UTF-8\n",
       "Language: en\n",
       "Country: null\n",
       "--></g></svg>"
      ]
     },
     "execution_count": 27,
     "metadata": {},
     "output_type": "execute_result"
    }
   ],
   "source": [
    "%viz --style=\"STDCOLOR\" --view=\"Action\" \"DependencyTest\""
   ]
  },
  {
   "cell_type": "code",
   "execution_count": 28,
   "id": "db3f6f0f",
   "metadata": {
    "execution": {
     "iopub.execute_input": "2022-08-19T08:17:12.582559Z",
     "iopub.status.busy": "2022-08-19T08:17:12.581875Z",
     "iopub.status.idle": "2022-08-19T08:17:12.587549Z",
     "shell.execute_reply": "2022-08-19T08:17:12.587149Z"
    }
   },
   "outputs": [
    {
     "data": {
      "image/svg+xml": [
       "<?xml version=\"1.0\" encoding=\"UTF-8\" standalone=\"no\"?><svg xmlns=\"http://www.w3.org/2000/svg\" xmlns:xlink=\"http://www.w3.org/1999/xlink\" contentScriptType=\"application/ecmascript\" contentStyleType=\"text/css\" height=\"12px\" preserveAspectRatio=\"none\" style=\"width:12px;height:12px;\" version=\"1.1\" viewBox=\"0 0 12 12\" width=\"12px\" zoomAndPan=\"magnify\"><defs/><g><!--MD5=[6c4bca67b4d71758159a5a7f1f1e1fc2]\n",
       "@startuml\r\n",
       "skinparam roundcorner 20\r\n",
       "skinparam BoxPadding 20\r\n",
       "skinparam SequenceBoxBackgroundColor #white\r\n",
       "skinparam style strictuml\r\n",
       "skinparam maxMessageSize 100\r\n",
       "skinparam wrapWidth 300\r\n",
       "hide circle\r\n",
       "\r\n",
       "@enduml\r\n",
       "\n",
       "PlantUML version 1.2020.13(Sat Jun 13 12:26:38 UTC 2020)\n",
       "(EPL source distribution)\n",
       "Java Runtime: OpenJDK Runtime Environment\n",
       "JVM: OpenJDK 64-Bit Server VM\n",
       "Default Encoding: UTF-8\n",
       "Language: en\n",
       "Country: null\n",
       "--></g></svg>"
      ]
     },
     "execution_count": 28,
     "metadata": {},
     "output_type": "execute_result"
    }
   ],
   "source": [
    "%viz --style=\"STDCOLOR\" --view=\"Sequence\" \"DependencyTest\""
   ]
  },
  {
   "cell_type": "code",
   "execution_count": 29,
   "id": "9ff1d887",
   "metadata": {
    "execution": {
     "iopub.execute_input": "2022-08-19T08:17:12.637892Z",
     "iopub.status.busy": "2022-08-19T08:17:12.637184Z",
     "iopub.status.idle": "2022-08-19T08:17:12.675484Z",
     "shell.execute_reply": "2022-08-19T08:17:12.674904Z"
    }
   },
   "outputs": [
    {
     "data": {
      "image/svg+xml": [
       "<?xml version=\"1.0\" encoding=\"UTF-8\" standalone=\"no\"?><svg xmlns=\"http://www.w3.org/2000/svg\" xmlns:xlink=\"http://www.w3.org/1999/xlink\" contentScriptType=\"application/ecmascript\" contentStyleType=\"text/css\" height=\"552px\" preserveAspectRatio=\"none\" style=\"width:536px;height:552px;\" version=\"1.1\" viewBox=\"0 0 536 552\" width=\"536px\" zoomAndPan=\"magnify\"><defs><filter height=\"300%\" id=\"f1xpsxbd77uxru\" width=\"300%\" x=\"-1\" y=\"-1\"><feGaussianBlur result=\"blurOut\" stdDeviation=\"2.0\"/><feColorMatrix in=\"blurOut\" result=\"blurOut2\" type=\"matrix\" values=\"0 0 0 0 0 0 0 0 0 0 0 0 0 0 0 0 0 0 .4 0\"/><feOffset dx=\"4.0\" dy=\"4.0\" in=\"blurOut2\" result=\"blurOut3\"/><feBlend in=\"SourceGraphic\" in2=\"blurOut3\" mode=\"normal\"/></filter></defs><g><!--MD5=[fbc87193dbaf4d95561dea2c320d4a47]\n",
       "cluster E1--><a href=\"psysml:0f0f2110-3be1-453e-862d-cec3a7a71a7a\" target=\"_top\" title=\"psysml:0f0f2110-3be1-453e-862d-cec3a7a71a7a\" xlink:actuate=\"onRequest\" xlink:href=\"psysml:0f0f2110-3be1-453e-862d-cec3a7a71a7a\" xlink:show=\"new\" xlink:title=\"psysml:0f0f2110-3be1-453e-862d-cec3a7a71a7a\" xlink:type=\"simple\"><polygon fill=\"#FFFFFF\" filter=\"url(#f1xpsxbd77uxru)\" points=\"16,6,142,6,149,28.2969,514,28.2969,514,540.72,16,540.72,16,6\" style=\"stroke: #000000; stroke-width: 1.5;\"/><line style=\"stroke: #000000; stroke-width: 1.5;\" x1=\"16\" x2=\"149\" y1=\"28.2969\" y2=\"28.2969\"/><text fill=\"#000000\" font-family=\"sans-serif\" font-size=\"14\" font-weight=\"bold\" lengthAdjust=\"spacingAndGlyphs\" textLength=\"120\" x=\"20\" y=\"20.9951\">DependencyTest</text></a><!--MD5=[e4f7fae6ed58524ba242bb0b0d3be6b7]\n",
       "cluster E2--><a href=\"psysml:c508d22c-e466-4361-9854-fd4393e1e853\" target=\"_top\" title=\"psysml:c508d22c-e466-4361-9854-fd4393e1e853\" xlink:actuate=\"onRequest\" xlink:href=\"psysml:c508d22c-e466-4361-9854-fd4393e1e853\" xlink:show=\"new\" xlink:title=\"psysml:c508d22c-e466-4361-9854-fd4393e1e853\" xlink:type=\"simple\"><polygon fill=\"#FFFFFF\" filter=\"url(#f1xpsxbd77uxru)\" points=\"271,120.72,328,120.72,335,143.0169,474,143.0169,474,500.72,271,500.72,271,120.72\" style=\"stroke: #000000; stroke-width: 1.5;\"/><line style=\"stroke: #000000; stroke-width: 1.5;\" x1=\"271\" x2=\"335\" y1=\"143.0169\" y2=\"143.0169\"/><text fill=\"#000000\" font-family=\"sans-serif\" font-size=\"14\" font-weight=\"bold\" lengthAdjust=\"spacingAndGlyphs\" textLength=\"51\" x=\"275\" y=\"135.7151\">System</text></a><!--MD5=[60a26617385b1d2d0262a64233df1f8d]\n",
       "class E6--><a href=\"psysml:2188fd29-8e87-4428-b2da-0b81f77b2176\" target=\"_top\" title=\"psysml:2188fd29-8e87-4428-b2da-0b81f77b2176\" xlink:actuate=\"onRequest\" xlink:href=\"psysml:2188fd29-8e87-4428-b2da-0b81f77b2176\" xlink:show=\"new\" xlink:title=\"psysml:2188fd29-8e87-4428-b2da-0b81f77b2176\" xlink:type=\"simple\"><rect fill=\"#FEFECE\" filter=\"url(#f1xpsxbd77uxru)\" height=\"45.9375\" id=\"E6\" rx=\"10\" ry=\"10\" style=\"stroke: #A80036; stroke-width: 1.5;\" width=\"71\" x=\"40.5\" y=\"297.22\"/><text fill=\"#000000\" font-family=\"sans-serif\" font-size=\"12\" font-style=\"italic\" lengthAdjust=\"spacingAndGlyphs\" textLength=\"69\" x=\"41.5\" y=\"313.3587\">«attribute»</text><text fill=\"#000000\" font-family=\"sans-serif\" font-size=\"12\" lengthAdjust=\"spacingAndGlyphs\" textLength=\"6\" x=\"71\" y=\"327.3274\">x</text><line style=\"stroke: #A80036; stroke-width: 1.5;\" x1=\"41.5\" x2=\"110.5\" y1=\"335.1575\" y2=\"335.1575\"/></a><!--MD5=[2156ba9850f5573cc1fc38a6a4b2f02b]\n",
       "class E7--><a href=\"psysml:b1dded97-ff7b-4726-be9f-c0b539bbd77d\" target=\"_top\" title=\"psysml:b1dded97-ff7b-4726-be9f-c0b539bbd77d\" xlink:actuate=\"onRequest\" xlink:href=\"psysml:b1dded97-ff7b-4726-be9f-c0b539bbd77d\" xlink:show=\"new\" xlink:title=\"psysml:b1dded97-ff7b-4726-be9f-c0b539bbd77d\" xlink:type=\"simple\"><rect fill=\"#FEFECE\" filter=\"url(#f1xpsxbd77uxru)\" height=\"45.9375\" id=\"E7\" rx=\"10\" ry=\"10\" style=\"stroke: #A80036; stroke-width: 1.5;\" width=\"71\" x=\"146.5\" y=\"297.22\"/><text fill=\"#000000\" font-family=\"sans-serif\" font-size=\"12\" font-style=\"italic\" lengthAdjust=\"spacingAndGlyphs\" textLength=\"69\" x=\"147.5\" y=\"313.3587\">«attribute»</text><text fill=\"#000000\" font-family=\"sans-serif\" font-size=\"12\" lengthAdjust=\"spacingAndGlyphs\" textLength=\"6\" x=\"177\" y=\"327.3274\">y</text><line style=\"stroke: #A80036; stroke-width: 1.5;\" x1=\"147.5\" x2=\"216.5\" y1=\"335.1575\" y2=\"335.1575\"/></a><!--MD5=[b9389687b975829384b498ac4b7476b2]\n",
       "class E8--><a href=\"psysml:215a3247-a6dc-4d80-9cbe-6a95158331ec\" target=\"_top\" title=\"psysml:215a3247-a6dc-4d80-9cbe-6a95158331ec\" xlink:actuate=\"onRequest\" xlink:href=\"psysml:215a3247-a6dc-4d80-9cbe-6a95158331ec\" xlink:show=\"new\" xlink:title=\"psysml:215a3247-a6dc-4d80-9cbe-6a95158331ec\" xlink:type=\"simple\"><rect fill=\"#FEFECE\" filter=\"url(#f1xpsxbd77uxru)\" height=\"45.9375\" id=\"E8\" rx=\"10\" ry=\"10\" style=\"stroke: #A80036; stroke-width: 1.5;\" width=\"71\" x=\"92.5\" y=\"167.22\"/><text fill=\"#000000\" font-family=\"sans-serif\" font-size=\"12\" font-style=\"italic\" lengthAdjust=\"spacingAndGlyphs\" textLength=\"69\" x=\"93.5\" y=\"183.3587\">«attribute»</text><text fill=\"#000000\" font-family=\"sans-serif\" font-size=\"12\" lengthAdjust=\"spacingAndGlyphs\" textLength=\"5\" x=\"123.5\" y=\"197.3274\">z</text><line style=\"stroke: #A80036; stroke-width: 1.5;\" x1=\"93.5\" x2=\"162.5\" y1=\"205.1575\" y2=\"205.1575\"/></a><a href=\"psysml:a9507a9e-eb7a-4860-b8c9-7900feca47e0\" target=\"_top\" title=\"psysml:a9507a9e-eb7a-4860-b8c9-7900feca47e0\" xlink:actuate=\"onRequest\" xlink:href=\"psysml:a9507a9e-eb7a-4860-b8c9-7900feca47e0\" xlink:show=\"new\" xlink:title=\"psysml:a9507a9e-eb7a-4860-b8c9-7900feca47e0\" xlink:type=\"simple\"><polygon fill=\"#FFFFFF\" filter=\"url(#f1xpsxbd77uxru)\" points=\"314.5,163.72,435.5,163.72,442.5,186.0169,449.5,186.0169,449.5,216.3138,314.5,216.3138,314.5,163.72\" style=\"stroke: #000000; stroke-width: 1.5;\"/><line style=\"stroke: #000000; stroke-width: 1.5;\" x1=\"314.5\" x2=\"442.5\" y1=\"186.0169\" y2=\"186.0169\"/><text fill=\"#000000\" font-family=\"sans-serif\" font-size=\"14\" font-weight=\"bold\" lengthAdjust=\"spacingAndGlyphs\" textLength=\"115\" x=\"318.5\" y=\"178.7151\">Application Layer</text></a><a href=\"psysml:709ed33a-9ff9-4f13-a4b1-f82f2d0ae0d9\" target=\"_top\" title=\"psysml:709ed33a-9ff9-4f13-a4b1-f82f2d0ae0d9\" xlink:actuate=\"onRequest\" xlink:href=\"psysml:709ed33a-9ff9-4f13-a4b1-f82f2d0ae0d9\" xlink:show=\"new\" xlink:title=\"psysml:709ed33a-9ff9-4f13-a4b1-f82f2d0ae0d9\" xlink:type=\"simple\"><polygon fill=\"#FFFFFF\" filter=\"url(#f1xpsxbd77uxru)\" points=\"327,293.72,423,293.72,430,316.0169,437,316.0169,437,346.3138,327,346.3138,327,293.72\" style=\"stroke: #000000; stroke-width: 1.5;\"/><line style=\"stroke: #000000; stroke-width: 1.5;\" x1=\"327\" x2=\"430\" y1=\"316.0169\" y2=\"316.0169\"/><text fill=\"#000000\" font-family=\"sans-serif\" font-size=\"14\" font-weight=\"bold\" lengthAdjust=\"spacingAndGlyphs\" textLength=\"90\" x=\"331\" y=\"308.7151\">Service Layer</text></a><a href=\"psysml:babd67af-01b8-42b4-9186-2fee6f5cc047\" target=\"_top\" title=\"psysml:babd67af-01b8-42b4-9186-2fee6f5cc047\" xlink:actuate=\"onRequest\" xlink:href=\"psysml:babd67af-01b8-42b4-9186-2fee6f5cc047\" xlink:show=\"new\" xlink:title=\"psysml:babd67af-01b8-42b4-9186-2fee6f5cc047\" xlink:type=\"simple\"><polygon fill=\"#FFFFFF\" filter=\"url(#f1xpsxbd77uxru)\" points=\"336,423.72,414,423.72,421,446.0169,428,446.0169,428,476.3138,336,476.3138,336,423.72\" style=\"stroke: #000000; stroke-width: 1.5;\"/><line style=\"stroke: #000000; stroke-width: 1.5;\" x1=\"336\" x2=\"421\" y1=\"446.0169\" y2=\"446.0169\"/><text fill=\"#000000\" font-family=\"sans-serif\" font-size=\"14\" font-weight=\"bold\" lengthAdjust=\"spacingAndGlyphs\" textLength=\"72\" x=\"340\" y=\"438.7151\">Data Layer</text></a><!--MD5=[1f1cd8e6dd4c1b2ca2aaccc9b9bcea6e]\n",
       "link E1 to E2--><a href=\"psysml:8155982a-39d3-4776-bb66-97608c5c0d21\" target=\"_top\" title=\"psysml:8155982a-39d3-4776-bb66-97608c5c0d21\" xlink:actuate=\"onRequest\" xlink:href=\"psysml:8155982a-39d3-4776-bb66-97608c5c0d21\" xlink:show=\"new\" xlink:title=\"psysml:8155982a-39d3-4776-bb66-97608c5c0d21\" xlink:type=\"simple\"><path d=\"M279,33.83 C279,36.15 279,73.83 279,111.5 C279,113.8544 279,116.2087 279,118.5544 C279,119.1408 279,119.7267 279,120.3119 \" fill=\"none\" id=\"E1-&gt;E2\" style=\"stroke: #A80036; stroke-width: 1.0; stroke-dasharray: 7.0,7.0;\"/><polygon fill=\"#A80036\" points=\"279,120.3119,283,111.3119,279,115.3119,275,111.3119,279,120.3119\" style=\"stroke: #A80036; stroke-width: 1.0;\"/><text fill=\"#000000\" font-family=\"sans-serif\" font-size=\"13\" lengthAdjust=\"spacingAndGlyphs\" textLength=\"65\" x=\"280\" y=\"76.7869\">«import»*</text></a><!--MD5=[af87c684e3b0d8be13c1a698a818ef1e]\n",
       "link E3 to E4--><a href=\"psysml:339645be-1a7b-490e-bb9e-fc7090e144b0\" target=\"_top\" title=\"psysml:339645be-1a7b-490e-bb9e-fc7090e144b0\" xlink:actuate=\"onRequest\" xlink:href=\"psysml:339645be-1a7b-490e-bb9e-fc7090e144b0\" xlink:show=\"new\" xlink:title=\"psysml:339645be-1a7b-490e-bb9e-fc7090e144b0\" xlink:type=\"simple\"><path d=\"M382,216.82 C382,236.52 382,263.94 382,285.45 \" fill=\"none\" id=\"E3-&gt;E4\" style=\"stroke: #A80036; stroke-width: 1.0; stroke-dasharray: 7.0,7.0;\"/><polygon fill=\"#A80036\" points=\"382,293.67,385,285.67,379,285.67,382,293.67\" style=\"stroke: #A80036; stroke-width: 1.0;\"/><text fill=\"#000000\" font-family=\"sans-serif\" font-size=\"13\" lengthAdjust=\"spacingAndGlyphs\" textLength=\"64\" x=\"383\" y=\"259.7869\">«depend»</text></a><!--MD5=[1b7591eae5389033d8d09a9d6721a717]\n",
       "link E4 to E5--><a href=\"psysml:cd6419af-0f56-471f-8341-f3995db2a676\" target=\"_top\" title=\"psysml:cd6419af-0f56-471f-8341-f3995db2a676\" xlink:actuate=\"onRequest\" xlink:href=\"psysml:cd6419af-0f56-471f-8341-f3995db2a676\" xlink:show=\"new\" xlink:title=\"psysml:cd6419af-0f56-471f-8341-f3995db2a676\" xlink:type=\"simple\"><path d=\"M382,346.82 C382,366.52 382,393.94 382,415.45 \" fill=\"none\" id=\"E4-&gt;E5\" style=\"stroke: #A80036; stroke-width: 1.0; stroke-dasharray: 7.0,7.0;\"/><polygon fill=\"#A80036\" points=\"382,423.67,385,415.67,379,415.67,382,423.67\" style=\"stroke: #A80036; stroke-width: 1.0;\"/><text fill=\"#000000\" font-family=\"sans-serif\" font-size=\"13\" lengthAdjust=\"spacingAndGlyphs\" textLength=\"64\" x=\"383\" y=\"389.7869\">«depend»</text></a><!--MD5=[c5e8897d989ce984f93528998a7150fe]\n",
       "link E8 to E6--><a href=\"psysml:974879a0-be0c-4725-ba74-b00c4a2eaada\" target=\"_top\" title=\"psysml:974879a0-be0c-4725-ba74-b00c4a2eaada\" xlink:actuate=\"onRequest\" xlink:href=\"psysml:974879a0-be0c-4725-ba74-b00c4a2eaada\" xlink:show=\"new\" xlink:title=\"psysml:974879a0-be0c-4725-ba74-b00c4a2eaada\" xlink:type=\"simple\"><path d=\"M97.42,213.32 C87.35,222.4 77.37,233.83 72,246.72 C66.5,259.92 66.66,275.66 68.54,289.1 \" fill=\"none\" id=\"E8-&gt;E6\" style=\"stroke: #A80036; stroke-width: 1.0; stroke-dasharray: 7.0,7.0;\"/><polygon fill=\"#A80036\" points=\"69.9,297.12,71.517,288.7304,65.6018,289.7359,69.9,297.12\" style=\"stroke: #A80036; stroke-width: 1.0;\"/><text fill=\"#000000\" font-family=\"sans-serif\" font-size=\"13\" lengthAdjust=\"spacingAndGlyphs\" textLength=\"64\" x=\"73\" y=\"259.7869\">«depend»</text></a><!--MD5=[bfa3c8b0d15052fdf50ae9310b491027]\n",
       "link E8 to E7--><a href=\"psysml:974879a0-be0c-4725-ba74-b00c4a2eaada\" target=\"_top\" title=\"psysml:974879a0-be0c-4725-ba74-b00c4a2eaada\" xlink:actuate=\"onRequest\" xlink:href=\"psysml:974879a0-be0c-4725-ba74-b00c4a2eaada\" xlink:show=\"new\" xlink:title=\"psysml:974879a0-be0c-4725-ba74-b00c4a2eaada\" xlink:type=\"simple\"><path d=\"M137.28,213.22 C146.17,234.29 159.64,266.22 169.47,289.53 \" fill=\"none\" id=\"E8-&gt;E7\" style=\"stroke: #A80036; stroke-width: 1.0; stroke-dasharray: 7.0,7.0;\"/><polygon fill=\"#A80036\" points=\"172.66,297.07,172.3241,288.5326,166.7933,290.8585,172.66,297.07\" style=\"stroke: #A80036; stroke-width: 1.0;\"/><text fill=\"#000000\" font-family=\"sans-serif\" font-size=\"13\" lengthAdjust=\"spacingAndGlyphs\" textLength=\"64\" x=\"159\" y=\"259.7869\">«depend»</text></a><!--MD5=[7a71b5f27d1be94137045f59d09d5804]\n",
       "@startuml\r\n",
       "skinparam wrapWidth 300\r\n",
       "hide circle\r\n",
       "\r\n",
       "package \"DependencyTest\" as E1  [[psysml:0f0f2110-3be1-453e-862d-cec3a7a71a7a ]]  {\r\n",
       "package \"System\" as E2  [[psysml:c508d22c-e466-4361-9854-fd4393e1e853 ]]  {\r\n",
       "package \"Application Layer\" as E3  [[psysml:a9507a9e-eb7a-4860-b8c9-7900feca47e0 ]]  {\r\n",
       "}\r\n",
       "package \"Service Layer\" as E4  [[psysml:709ed33a-9ff9-4f13-a4b1-f82f2d0ae0d9 ]]  {\r\n",
       "}\r\n",
       "package \"Data Layer\" as E5  [[psysml:babd67af-01b8-42b4-9186-2fee6f5cc047 ]]  {\r\n",
       "}\r\n",
       "}\r\n",
       "comp usage \"x \" as E6  <<(T,blue) attribute>> [[psysml:2188fd29-8e87-4428-b2da-0b81f77b2176 ]] {\r\n",
       "}\r\n",
       "comp usage \"y \" as E7  <<(T,blue) attribute>> [[psysml:b1dded97-ff7b-4726-be9f-c0b539bbd77d ]] {\r\n",
       "}\r\n",
       "comp usage \"z \" as E8  <<(T,blue) attribute>> [[psysml:215a3247-a6dc-4d80-9cbe-6a95158331ec ]] {\r\n",
       "}\r\n",
       "}\r\n",
       "E1 ..> E2 [[psysml:8155982a-39d3-4776-bb66-97608c5c0d21 ]] : <<import>>*\r\n",
       "E3 ..>> E4 [[psysml:339645be-1a7b-490e-bb9e-fc7090e144b0 ]] : <<depend>>\r\n",
       "E4 ..>> E5 [[psysml:cd6419af-0f56-471f-8341-f3995db2a676 ]] : <<depend>>\r\n",
       "E8 ..>> E6 [[psysml:974879a0-be0c-4725-ba74-b00c4a2eaada ]] : <<depend>>\r\n",
       "E8 ..>> E7 [[psysml:974879a0-be0c-4725-ba74-b00c4a2eaada ]] : <<depend>>\r\n",
       "@enduml\r\n",
       "\n",
       "PlantUML version 1.2020.13(Sat Jun 13 12:26:38 UTC 2020)\n",
       "(EPL source distribution)\n",
       "Java Runtime: OpenJDK Runtime Environment\n",
       "JVM: OpenJDK 64-Bit Server VM\n",
       "Default Encoding: UTF-8\n",
       "Language: en\n",
       "Country: null\n",
       "--></g></svg>"
      ]
     },
     "execution_count": 29,
     "metadata": {},
     "output_type": "execute_result"
    }
   ],
   "source": [
    "%viz --style=\"STDCOLOR\" --view=\"MIXED\" \"DependencyTest\""
   ]
  },
  {
   "cell_type": "code",
   "execution_count": 30,
   "id": "eeb092e2",
   "metadata": {
    "execution": {
     "iopub.execute_input": "2022-08-19T08:17:12.724118Z",
     "iopub.status.busy": "2022-08-19T08:17:12.723624Z",
     "iopub.status.idle": "2022-08-19T08:17:12.782650Z",
     "shell.execute_reply": "2022-08-19T08:17:12.782237Z"
    }
   },
   "outputs": [
    {
     "data": {
      "image/svg+xml": [
       "<?xml version=\"1.0\" encoding=\"UTF-8\" standalone=\"no\"?><svg xmlns=\"http://www.w3.org/2000/svg\" xmlns:xlink=\"http://www.w3.org/1999/xlink\" contentScriptType=\"application/ecmascript\" contentStyleType=\"text/css\" height=\"552px\" preserveAspectRatio=\"none\" style=\"width:557px;height:552px;\" version=\"1.1\" viewBox=\"0 0 557 552\" width=\"557px\" zoomAndPan=\"magnify\"><defs><filter height=\"300%\" id=\"f1ry8guw4x5z30\" width=\"300%\" x=\"-1\" y=\"-1\"><feGaussianBlur result=\"blurOut\" stdDeviation=\"2.0\"/><feColorMatrix in=\"blurOut\" result=\"blurOut2\" type=\"matrix\" values=\"0 0 0 0 0 0 0 0 0 0 0 0 0 0 0 0 0 0 .4 0\"/><feOffset dx=\"4.0\" dy=\"4.0\" in=\"blurOut2\" result=\"blurOut3\"/><feBlend in=\"SourceGraphic\" in2=\"blurOut3\" mode=\"normal\"/></filter></defs><g><!--MD5=[fbc87193dbaf4d95561dea2c320d4a47]\n",
       "cluster E1--><a href=\"psysml:0f0f2110-3be1-453e-862d-cec3a7a71a7a\" target=\"_top\" title=\"psysml:0f0f2110-3be1-453e-862d-cec3a7a71a7a\" xlink:actuate=\"onRequest\" xlink:href=\"psysml:0f0f2110-3be1-453e-862d-cec3a7a71a7a\" xlink:show=\"new\" xlink:title=\"psysml:0f0f2110-3be1-453e-862d-cec3a7a71a7a\" xlink:type=\"simple\"><polygon fill=\"#FFFFFF\" filter=\"url(#f1ry8guw4x5z30)\" points=\"16,6,142,6,149,28.2969,535,28.2969,535,540.72,16,540.72,16,6\" style=\"stroke: #000000; stroke-width: 1.5;\"/><line style=\"stroke: #000000; stroke-width: 1.5;\" x1=\"16\" x2=\"149\" y1=\"28.2969\" y2=\"28.2969\"/><text fill=\"#000000\" font-family=\"sans-serif\" font-size=\"14\" font-weight=\"bold\" lengthAdjust=\"spacingAndGlyphs\" textLength=\"120\" x=\"20\" y=\"20.9951\">DependencyTest</text></a><!--MD5=[e4f7fae6ed58524ba242bb0b0d3be6b7]\n",
       "cluster E2--><a href=\"psysml:c508d22c-e466-4361-9854-fd4393e1e853\" target=\"_top\" title=\"psysml:c508d22c-e466-4361-9854-fd4393e1e853\" xlink:actuate=\"onRequest\" xlink:href=\"psysml:c508d22c-e466-4361-9854-fd4393e1e853\" xlink:show=\"new\" xlink:title=\"psysml:c508d22c-e466-4361-9854-fd4393e1e853\" xlink:type=\"simple\"><polygon fill=\"#FFFFFF\" filter=\"url(#f1ry8guw4x5z30)\" points=\"292,120.72,349,120.72,356,143.0169,495,143.0169,495,500.72,292,500.72,292,120.72\" style=\"stroke: #000000; stroke-width: 1.5;\"/><line style=\"stroke: #000000; stroke-width: 1.5;\" x1=\"292\" x2=\"356\" y1=\"143.0169\" y2=\"143.0169\"/><text fill=\"#000000\" font-family=\"sans-serif\" font-size=\"14\" font-weight=\"bold\" lengthAdjust=\"spacingAndGlyphs\" textLength=\"51\" x=\"296\" y=\"135.7151\">System</text></a><!--MD5=[60a26617385b1d2d0262a64233df1f8d]\n",
       "class E6--><a href=\"psysml:2188fd29-8e87-4428-b2da-0b81f77b2176\" target=\"_top\" title=\"psysml:2188fd29-8e87-4428-b2da-0b81f77b2176\" xlink:actuate=\"onRequest\" xlink:href=\"psysml:2188fd29-8e87-4428-b2da-0b81f77b2176\" xlink:show=\"new\" xlink:title=\"psysml:2188fd29-8e87-4428-b2da-0b81f77b2176\" xlink:type=\"simple\"><rect fill=\"#FEFECE\" filter=\"url(#f1ry8guw4x5z30)\" height=\"45.9375\" id=\"E6\" rx=\"10\" ry=\"10\" style=\"stroke: #A80036; stroke-width: 1.5;\" width=\"97\" x=\"39.5\" y=\"297.22\"/><ellipse cx=\"54.5\" cy=\"316.1888\" fill=\"#FFA500\" rx=\"11\" ry=\"11\" style=\"stroke: #A80036; stroke-width: 1.0;\"/><path d=\"M54.25,321.6575 Q52.5,321.6575 51.5469,320.6263 Q50.6094,319.5794 50.6094,317.7356 L50.6094,310.845 L52.6719,310.845 L52.6719,311.0013 Q52.5781,311.095 52.5469,311.2356 Q52.5313,311.3606 52.5313,311.6263 L52.5313,317.7513 Q52.5313,318.845 52.9063,319.47 Q53.2813,320.095 54.2656,320.095 Q55.25,320.095 55.6406,319.47 Q56.0313,318.845 56.0313,317.7044 L56.0313,310.845 L57.9063,310.845 L57.9063,317.6888 Q57.9063,319.72 56.875,320.6888 Q55.8594,321.6575 54.25,321.6575 Z \"/><text fill=\"#000000\" font-family=\"sans-serif\" font-size=\"12\" font-style=\"italic\" lengthAdjust=\"spacingAndGlyphs\" textLength=\"69\" x=\"66.5\" y=\"313.3587\">«attribute»</text><text fill=\"#000000\" font-family=\"sans-serif\" font-size=\"12\" lengthAdjust=\"spacingAndGlyphs\" textLength=\"6\" x=\"96\" y=\"327.3274\">x</text><line style=\"stroke: #A80036; stroke-width: 1.5;\" x1=\"40.5\" x2=\"135.5\" y1=\"335.1575\" y2=\"335.1575\"/></a><!--MD5=[2156ba9850f5573cc1fc38a6a4b2f02b]\n",
       "class E7--><a href=\"psysml:b1dded97-ff7b-4726-be9f-c0b539bbd77d\" target=\"_top\" title=\"psysml:b1dded97-ff7b-4726-be9f-c0b539bbd77d\" xlink:actuate=\"onRequest\" xlink:href=\"psysml:b1dded97-ff7b-4726-be9f-c0b539bbd77d\" xlink:show=\"new\" xlink:title=\"psysml:b1dded97-ff7b-4726-be9f-c0b539bbd77d\" xlink:type=\"simple\"><rect fill=\"#FEFECE\" filter=\"url(#f1ry8guw4x5z30)\" height=\"45.9375\" id=\"E7\" rx=\"10\" ry=\"10\" style=\"stroke: #A80036; stroke-width: 1.5;\" width=\"97\" x=\"171.5\" y=\"297.22\"/><ellipse cx=\"186.5\" cy=\"316.1888\" fill=\"#FFA500\" rx=\"11\" ry=\"11\" style=\"stroke: #A80036; stroke-width: 1.0;\"/><path d=\"M186.25,321.6575 Q184.5,321.6575 183.5469,320.6263 Q182.6094,319.5794 182.6094,317.7356 L182.6094,310.845 L184.6719,310.845 L184.6719,311.0013 Q184.5781,311.095 184.5469,311.2356 Q184.5313,311.3606 184.5313,311.6263 L184.5313,317.7513 Q184.5313,318.845 184.9063,319.47 Q185.2813,320.095 186.2656,320.095 Q187.25,320.095 187.6406,319.47 Q188.0313,318.845 188.0313,317.7044 L188.0313,310.845 L189.9063,310.845 L189.9063,317.6888 Q189.9063,319.72 188.875,320.6888 Q187.8594,321.6575 186.25,321.6575 Z \"/><text fill=\"#000000\" font-family=\"sans-serif\" font-size=\"12\" font-style=\"italic\" lengthAdjust=\"spacingAndGlyphs\" textLength=\"69\" x=\"198.5\" y=\"313.3587\">«attribute»</text><text fill=\"#000000\" font-family=\"sans-serif\" font-size=\"12\" lengthAdjust=\"spacingAndGlyphs\" textLength=\"6\" x=\"228\" y=\"327.3274\">y</text><line style=\"stroke: #A80036; stroke-width: 1.5;\" x1=\"172.5\" x2=\"267.5\" y1=\"335.1575\" y2=\"335.1575\"/></a><!--MD5=[b9389687b975829384b498ac4b7476b2]\n",
       "class E8--><a href=\"psysml:215a3247-a6dc-4d80-9cbe-6a95158331ec\" target=\"_top\" title=\"psysml:215a3247-a6dc-4d80-9cbe-6a95158331ec\" xlink:actuate=\"onRequest\" xlink:href=\"psysml:215a3247-a6dc-4d80-9cbe-6a95158331ec\" xlink:show=\"new\" xlink:title=\"psysml:215a3247-a6dc-4d80-9cbe-6a95158331ec\" xlink:type=\"simple\"><rect fill=\"#FEFECE\" filter=\"url(#f1ry8guw4x5z30)\" height=\"45.9375\" id=\"E8\" rx=\"10\" ry=\"10\" style=\"stroke: #A80036; stroke-width: 1.5;\" width=\"97\" x=\"92.5\" y=\"167.22\"/><ellipse cx=\"107.5\" cy=\"186.1888\" fill=\"#FFA500\" rx=\"11\" ry=\"11\" style=\"stroke: #A80036; stroke-width: 1.0;\"/><path d=\"M107.25,191.6575 Q105.5,191.6575 104.5469,190.6263 Q103.6094,189.5794 103.6094,187.7356 L103.6094,180.845 L105.6719,180.845 L105.6719,181.0013 Q105.5781,181.095 105.5469,181.2356 Q105.5313,181.3606 105.5313,181.6263 L105.5313,187.7513 Q105.5313,188.845 105.9063,189.47 Q106.2813,190.095 107.2656,190.095 Q108.25,190.095 108.6406,189.47 Q109.0313,188.845 109.0313,187.7044 L109.0313,180.845 L110.9063,180.845 L110.9063,187.6888 Q110.9063,189.72 109.875,190.6888 Q108.8594,191.6575 107.25,191.6575 Z \"/><text fill=\"#000000\" font-family=\"sans-serif\" font-size=\"12\" font-style=\"italic\" lengthAdjust=\"spacingAndGlyphs\" textLength=\"69\" x=\"119.5\" y=\"183.3587\">«attribute»</text><text fill=\"#000000\" font-family=\"sans-serif\" font-size=\"12\" lengthAdjust=\"spacingAndGlyphs\" textLength=\"5\" x=\"149.5\" y=\"197.3274\">z</text><line style=\"stroke: #A80036; stroke-width: 1.5;\" x1=\"93.5\" x2=\"188.5\" y1=\"205.1575\" y2=\"205.1575\"/></a><a href=\"psysml:a9507a9e-eb7a-4860-b8c9-7900feca47e0\" target=\"_top\" title=\"psysml:a9507a9e-eb7a-4860-b8c9-7900feca47e0\" xlink:actuate=\"onRequest\" xlink:href=\"psysml:a9507a9e-eb7a-4860-b8c9-7900feca47e0\" xlink:show=\"new\" xlink:title=\"psysml:a9507a9e-eb7a-4860-b8c9-7900feca47e0\" xlink:type=\"simple\"><polygon fill=\"#FFFFFF\" filter=\"url(#f1ry8guw4x5z30)\" points=\"335.5,163.72,456.5,163.72,463.5,186.0169,470.5,186.0169,470.5,216.3138,335.5,216.3138,335.5,163.72\" style=\"stroke: #000000; stroke-width: 1.5;\"/><line style=\"stroke: #000000; stroke-width: 1.5;\" x1=\"335.5\" x2=\"463.5\" y1=\"186.0169\" y2=\"186.0169\"/><text fill=\"#000000\" font-family=\"sans-serif\" font-size=\"14\" font-weight=\"bold\" lengthAdjust=\"spacingAndGlyphs\" textLength=\"115\" x=\"339.5\" y=\"178.7151\">Application Layer</text></a><a href=\"psysml:709ed33a-9ff9-4f13-a4b1-f82f2d0ae0d9\" target=\"_top\" title=\"psysml:709ed33a-9ff9-4f13-a4b1-f82f2d0ae0d9\" xlink:actuate=\"onRequest\" xlink:href=\"psysml:709ed33a-9ff9-4f13-a4b1-f82f2d0ae0d9\" xlink:show=\"new\" xlink:title=\"psysml:709ed33a-9ff9-4f13-a4b1-f82f2d0ae0d9\" xlink:type=\"simple\"><polygon fill=\"#FFFFFF\" filter=\"url(#f1ry8guw4x5z30)\" points=\"348,293.72,444,293.72,451,316.0169,458,316.0169,458,346.3138,348,346.3138,348,293.72\" style=\"stroke: #000000; stroke-width: 1.5;\"/><line style=\"stroke: #000000; stroke-width: 1.5;\" x1=\"348\" x2=\"451\" y1=\"316.0169\" y2=\"316.0169\"/><text fill=\"#000000\" font-family=\"sans-serif\" font-size=\"14\" font-weight=\"bold\" lengthAdjust=\"spacingAndGlyphs\" textLength=\"90\" x=\"352\" y=\"308.7151\">Service Layer</text></a><a href=\"psysml:babd67af-01b8-42b4-9186-2fee6f5cc047\" target=\"_top\" title=\"psysml:babd67af-01b8-42b4-9186-2fee6f5cc047\" xlink:actuate=\"onRequest\" xlink:href=\"psysml:babd67af-01b8-42b4-9186-2fee6f5cc047\" xlink:show=\"new\" xlink:title=\"psysml:babd67af-01b8-42b4-9186-2fee6f5cc047\" xlink:type=\"simple\"><polygon fill=\"#FFFFFF\" filter=\"url(#f1ry8guw4x5z30)\" points=\"357,423.72,435,423.72,442,446.0169,449,446.0169,449,476.3138,357,476.3138,357,423.72\" style=\"stroke: #000000; stroke-width: 1.5;\"/><line style=\"stroke: #000000; stroke-width: 1.5;\" x1=\"357\" x2=\"442\" y1=\"446.0169\" y2=\"446.0169\"/><text fill=\"#000000\" font-family=\"sans-serif\" font-size=\"14\" font-weight=\"bold\" lengthAdjust=\"spacingAndGlyphs\" textLength=\"72\" x=\"361\" y=\"438.7151\">Data Layer</text></a><!--MD5=[1f1cd8e6dd4c1b2ca2aaccc9b9bcea6e]\n",
       "link E1 to E2--><a href=\"psysml:8155982a-39d3-4776-bb66-97608c5c0d21\" target=\"_top\" title=\"psysml:8155982a-39d3-4776-bb66-97608c5c0d21\" xlink:actuate=\"onRequest\" xlink:href=\"psysml:8155982a-39d3-4776-bb66-97608c5c0d21\" xlink:show=\"new\" xlink:title=\"psysml:8155982a-39d3-4776-bb66-97608c5c0d21\" xlink:type=\"simple\"><path d=\"M300,33.83 C300,36.15 300,73.83 300,111.5 C300,113.8544 300,116.2087 300,118.5544 C300,119.1408 300,119.7267 300,120.3119 \" fill=\"none\" id=\"E1-&gt;E2\" style=\"stroke: #A80036; stroke-width: 1.0; stroke-dasharray: 7.0,7.0;\"/><polygon fill=\"#A80036\" points=\"300,120.3119,304,111.3119,300,115.3119,296,111.3119,300,120.3119\" style=\"stroke: #A80036; stroke-width: 1.0;\"/><text fill=\"#000000\" font-family=\"sans-serif\" font-size=\"13\" lengthAdjust=\"spacingAndGlyphs\" textLength=\"65\" x=\"301\" y=\"76.7869\">«import»*</text></a><!--MD5=[af87c684e3b0d8be13c1a698a818ef1e]\n",
       "link E3 to E4--><a href=\"psysml:339645be-1a7b-490e-bb9e-fc7090e144b0\" target=\"_top\" title=\"psysml:339645be-1a7b-490e-bb9e-fc7090e144b0\" xlink:actuate=\"onRequest\" xlink:href=\"psysml:339645be-1a7b-490e-bb9e-fc7090e144b0\" xlink:show=\"new\" xlink:title=\"psysml:339645be-1a7b-490e-bb9e-fc7090e144b0\" xlink:type=\"simple\"><path d=\"M403,216.82 C403,236.52 403,263.94 403,285.45 \" fill=\"none\" id=\"E3-&gt;E4\" style=\"stroke: #A80036; stroke-width: 1.0; stroke-dasharray: 7.0,7.0;\"/><polygon fill=\"#A80036\" points=\"403,293.67,406,285.67,400,285.67,403,293.67\" style=\"stroke: #A80036; stroke-width: 1.0;\"/><text fill=\"#000000\" font-family=\"sans-serif\" font-size=\"13\" lengthAdjust=\"spacingAndGlyphs\" textLength=\"64\" x=\"404\" y=\"259.7869\">«depend»</text></a><!--MD5=[1b7591eae5389033d8d09a9d6721a717]\n",
       "link E4 to E5--><a href=\"psysml:cd6419af-0f56-471f-8341-f3995db2a676\" target=\"_top\" title=\"psysml:cd6419af-0f56-471f-8341-f3995db2a676\" xlink:actuate=\"onRequest\" xlink:href=\"psysml:cd6419af-0f56-471f-8341-f3995db2a676\" xlink:show=\"new\" xlink:title=\"psysml:cd6419af-0f56-471f-8341-f3995db2a676\" xlink:type=\"simple\"><path d=\"M403,346.82 C403,366.52 403,393.94 403,415.45 \" fill=\"none\" id=\"E4-&gt;E5\" style=\"stroke: #A80036; stroke-width: 1.0; stroke-dasharray: 7.0,7.0;\"/><polygon fill=\"#A80036\" points=\"403,423.67,406,415.67,400,415.67,403,423.67\" style=\"stroke: #A80036; stroke-width: 1.0;\"/><text fill=\"#000000\" font-family=\"sans-serif\" font-size=\"13\" lengthAdjust=\"spacingAndGlyphs\" textLength=\"64\" x=\"404\" y=\"389.7869\">«depend»</text></a><!--MD5=[c5e8897d989ce984f93528998a7150fe]\n",
       "link E8 to E6--><a href=\"psysml:974879a0-be0c-4725-ba74-b00c4a2eaada\" target=\"_top\" title=\"psysml:974879a0-be0c-4725-ba74-b00c4a2eaada\" xlink:actuate=\"onRequest\" xlink:href=\"psysml:974879a0-be0c-4725-ba74-b00c4a2eaada\" xlink:show=\"new\" xlink:title=\"psysml:974879a0-be0c-4725-ba74-b00c4a2eaada\" xlink:type=\"simple\"><path d=\"M114.44,213.48 C105.3,222.73 96.09,234.23 91,246.72 C85.6,259.95 84.4,275.7 84.73,289.13 \" fill=\"none\" id=\"E8-&gt;E6\" style=\"stroke: #A80036; stroke-width: 1.0; stroke-dasharray: 7.0,7.0;\"/><polygon fill=\"#A80036\" points=\"85.12,297.15,87.7306,289.0146,81.7375,289.304,85.12,297.15\" style=\"stroke: #A80036; stroke-width: 1.0;\"/><text fill=\"#000000\" font-family=\"sans-serif\" font-size=\"13\" lengthAdjust=\"spacingAndGlyphs\" textLength=\"64\" x=\"92\" y=\"259.7869\">«depend»</text></a><!--MD5=[bfa3c8b0d15052fdf50ae9310b491027]\n",
       "link E8 to E7--><a href=\"psysml:974879a0-be0c-4725-ba74-b00c4a2eaada\" target=\"_top\" title=\"psysml:974879a0-be0c-4725-ba74-b00c4a2eaada\" xlink:actuate=\"onRequest\" xlink:href=\"psysml:974879a0-be0c-4725-ba74-b00c4a2eaada\" xlink:show=\"new\" xlink:title=\"psysml:974879a0-be0c-4725-ba74-b00c4a2eaada\" xlink:type=\"simple\"><path d=\"M154.58,213.22 C167.69,234.47 187.63,266.77 202.05,290.13 \" fill=\"none\" id=\"E8-&gt;E7\" style=\"stroke: #A80036; stroke-width: 1.0; stroke-dasharray: 7.0,7.0;\"/><polygon fill=\"#A80036\" points=\"206.33,297.07,204.6785,288.6871,199.5737,291.8401,206.33,297.07\" style=\"stroke: #A80036; stroke-width: 1.0;\"/><text fill=\"#000000\" font-family=\"sans-serif\" font-size=\"13\" lengthAdjust=\"spacingAndGlyphs\" textLength=\"64\" x=\"186\" y=\"259.7869\">«depend»</text></a><!--MD5=[69760f86bfc1b6c631b7e31d23db09b3]\n",
       "@startuml\r\n",
       " \r\n",
       "package \"DependencyTest\" as E1  [[psysml:0f0f2110-3be1-453e-862d-cec3a7a71a7a ]]  {\r\n",
       "package \"System\" as E2  [[psysml:c508d22c-e466-4361-9854-fd4393e1e853 ]]  {\r\n",
       "package \"Application Layer\" as E3  [[psysml:a9507a9e-eb7a-4860-b8c9-7900feca47e0 ]]  {\r\n",
       "}\r\n",
       "package \"Service Layer\" as E4  [[psysml:709ed33a-9ff9-4f13-a4b1-f82f2d0ae0d9 ]]  {\r\n",
       "}\r\n",
       "package \"Data Layer\" as E5  [[psysml:babd67af-01b8-42b4-9186-2fee6f5cc047 ]]  {\r\n",
       "}\r\n",
       "}\r\n",
       "comp usage \"x \" as E6 << <<(U,orange) attribute>> [[psysml:2188fd29-8e87-4428-b2da-0b81f77b2176 ]] {\r\n",
       "}\r\n",
       "comp usage \"y \" as E7 << <<(U,orange) attribute>> [[psysml:b1dded97-ff7b-4726-be9f-c0b539bbd77d ]] {\r\n",
       "}\r\n",
       "comp usage \"z \" as E8 << <<(U,orange) attribute>> [[psysml:215a3247-a6dc-4d80-9cbe-6a95158331ec ]] {\r\n",
       "}\r\n",
       "}\r\n",
       "E1 ..> E2 [[psysml:8155982a-39d3-4776-bb66-97608c5c0d21 ]] : <<import>>*\r\n",
       "E3 ..>> E4 [[psysml:339645be-1a7b-490e-bb9e-fc7090e144b0 ]] : <<depend>>\r\n",
       "E4 ..>> E5 [[psysml:cd6419af-0f56-471f-8341-f3995db2a676 ]] : <<depend>>\r\n",
       "E8 ..>> E6 [[psysml:974879a0-be0c-4725-ba74-b00c4a2eaada ]] : <<depend>>\r\n",
       "E8 ..>> E7 [[psysml:974879a0-be0c-4725-ba74-b00c4a2eaada ]] : <<depend>>\r\n",
       "@enduml\r\n",
       "\n",
       "PlantUML version 1.2020.13(Sat Jun 13 12:26:38 UTC 2020)\n",
       "(EPL source distribution)\n",
       "Java Runtime: OpenJDK Runtime Environment\n",
       "JVM: OpenJDK 64-Bit Server VM\n",
       "Default Encoding: UTF-8\n",
       "Language: en\n",
       "Country: null\n",
       "--></g></svg>"
      ]
     },
     "execution_count": 30,
     "metadata": {},
     "output_type": "execute_result"
    }
   ],
   "source": [
    "%viz --style=\"PLANTUML\" --view=\"Default\" \"DependencyTest\""
   ]
  },
  {
   "cell_type": "code",
   "execution_count": 31,
   "id": "91710ff5",
   "metadata": {
    "execution": {
     "iopub.execute_input": "2022-08-19T08:17:12.832261Z",
     "iopub.status.busy": "2022-08-19T08:17:12.831807Z",
     "iopub.status.idle": "2022-08-19T08:17:12.875268Z",
     "shell.execute_reply": "2022-08-19T08:17:12.874848Z"
    }
   },
   "outputs": [
    {
     "data": {
      "image/svg+xml": [
       "<?xml version=\"1.0\" encoding=\"UTF-8\" standalone=\"no\"?><svg xmlns=\"http://www.w3.org/2000/svg\" xmlns:xlink=\"http://www.w3.org/1999/xlink\" contentScriptType=\"application/ecmascript\" contentStyleType=\"text/css\" height=\"552px\" preserveAspectRatio=\"none\" style=\"width:557px;height:552px;\" version=\"1.1\" viewBox=\"0 0 557 552\" width=\"557px\" zoomAndPan=\"magnify\"><defs><filter height=\"300%\" id=\"f1ry8guw4x5z30\" width=\"300%\" x=\"-1\" y=\"-1\"><feGaussianBlur result=\"blurOut\" stdDeviation=\"2.0\"/><feColorMatrix in=\"blurOut\" result=\"blurOut2\" type=\"matrix\" values=\"0 0 0 0 0 0 0 0 0 0 0 0 0 0 0 0 0 0 .4 0\"/><feOffset dx=\"4.0\" dy=\"4.0\" in=\"blurOut2\" result=\"blurOut3\"/><feBlend in=\"SourceGraphic\" in2=\"blurOut3\" mode=\"normal\"/></filter></defs><g><!--MD5=[fbc87193dbaf4d95561dea2c320d4a47]\n",
       "cluster E1--><a href=\"psysml:0f0f2110-3be1-453e-862d-cec3a7a71a7a\" target=\"_top\" title=\"psysml:0f0f2110-3be1-453e-862d-cec3a7a71a7a\" xlink:actuate=\"onRequest\" xlink:href=\"psysml:0f0f2110-3be1-453e-862d-cec3a7a71a7a\" xlink:show=\"new\" xlink:title=\"psysml:0f0f2110-3be1-453e-862d-cec3a7a71a7a\" xlink:type=\"simple\"><polygon fill=\"#FFFFFF\" filter=\"url(#f1ry8guw4x5z30)\" points=\"16,6,142,6,149,28.2969,535,28.2969,535,540.72,16,540.72,16,6\" style=\"stroke: #000000; stroke-width: 1.5;\"/><line style=\"stroke: #000000; stroke-width: 1.5;\" x1=\"16\" x2=\"149\" y1=\"28.2969\" y2=\"28.2969\"/><text fill=\"#000000\" font-family=\"sans-serif\" font-size=\"14\" font-weight=\"bold\" lengthAdjust=\"spacingAndGlyphs\" textLength=\"120\" x=\"20\" y=\"20.9951\">DependencyTest</text></a><!--MD5=[e4f7fae6ed58524ba242bb0b0d3be6b7]\n",
       "cluster E2--><a href=\"psysml:c508d22c-e466-4361-9854-fd4393e1e853\" target=\"_top\" title=\"psysml:c508d22c-e466-4361-9854-fd4393e1e853\" xlink:actuate=\"onRequest\" xlink:href=\"psysml:c508d22c-e466-4361-9854-fd4393e1e853\" xlink:show=\"new\" xlink:title=\"psysml:c508d22c-e466-4361-9854-fd4393e1e853\" xlink:type=\"simple\"><polygon fill=\"#FFFFFF\" filter=\"url(#f1ry8guw4x5z30)\" points=\"292,120.72,349,120.72,356,143.0169,495,143.0169,495,500.72,292,500.72,292,120.72\" style=\"stroke: #000000; stroke-width: 1.5;\"/><line style=\"stroke: #000000; stroke-width: 1.5;\" x1=\"292\" x2=\"356\" y1=\"143.0169\" y2=\"143.0169\"/><text fill=\"#000000\" font-family=\"sans-serif\" font-size=\"14\" font-weight=\"bold\" lengthAdjust=\"spacingAndGlyphs\" textLength=\"51\" x=\"296\" y=\"135.7151\">System</text></a><!--MD5=[60a26617385b1d2d0262a64233df1f8d]\n",
       "class E6--><a href=\"psysml:2188fd29-8e87-4428-b2da-0b81f77b2176\" target=\"_top\" title=\"psysml:2188fd29-8e87-4428-b2da-0b81f77b2176\" xlink:actuate=\"onRequest\" xlink:href=\"psysml:2188fd29-8e87-4428-b2da-0b81f77b2176\" xlink:show=\"new\" xlink:title=\"psysml:2188fd29-8e87-4428-b2da-0b81f77b2176\" xlink:type=\"simple\"><rect fill=\"#FEFECE\" filter=\"url(#f1ry8guw4x5z30)\" height=\"45.9375\" id=\"E6\" rx=\"10\" ry=\"10\" style=\"stroke: #A80036; stroke-width: 1.5;\" width=\"97\" x=\"39.5\" y=\"297.22\"/><ellipse cx=\"54.5\" cy=\"316.1888\" fill=\"#FFA500\" rx=\"11\" ry=\"11\" style=\"stroke: #A80036; stroke-width: 1.0;\"/><path d=\"M54.25,321.6575 Q52.5,321.6575 51.5469,320.6263 Q50.6094,319.5794 50.6094,317.7356 L50.6094,310.845 L52.6719,310.845 L52.6719,311.0013 Q52.5781,311.095 52.5469,311.2356 Q52.5313,311.3606 52.5313,311.6263 L52.5313,317.7513 Q52.5313,318.845 52.9063,319.47 Q53.2813,320.095 54.2656,320.095 Q55.25,320.095 55.6406,319.47 Q56.0313,318.845 56.0313,317.7044 L56.0313,310.845 L57.9063,310.845 L57.9063,317.6888 Q57.9063,319.72 56.875,320.6888 Q55.8594,321.6575 54.25,321.6575 Z \"/><text fill=\"#000000\" font-family=\"sans-serif\" font-size=\"12\" font-style=\"italic\" lengthAdjust=\"spacingAndGlyphs\" textLength=\"69\" x=\"66.5\" y=\"313.3587\">«attribute»</text><text fill=\"#000000\" font-family=\"sans-serif\" font-size=\"12\" lengthAdjust=\"spacingAndGlyphs\" textLength=\"6\" x=\"96\" y=\"327.3274\">x</text><line style=\"stroke: #A80036; stroke-width: 1.5;\" x1=\"40.5\" x2=\"135.5\" y1=\"335.1575\" y2=\"335.1575\"/></a><!--MD5=[2156ba9850f5573cc1fc38a6a4b2f02b]\n",
       "class E7--><a href=\"psysml:b1dded97-ff7b-4726-be9f-c0b539bbd77d\" target=\"_top\" title=\"psysml:b1dded97-ff7b-4726-be9f-c0b539bbd77d\" xlink:actuate=\"onRequest\" xlink:href=\"psysml:b1dded97-ff7b-4726-be9f-c0b539bbd77d\" xlink:show=\"new\" xlink:title=\"psysml:b1dded97-ff7b-4726-be9f-c0b539bbd77d\" xlink:type=\"simple\"><rect fill=\"#FEFECE\" filter=\"url(#f1ry8guw4x5z30)\" height=\"45.9375\" id=\"E7\" rx=\"10\" ry=\"10\" style=\"stroke: #A80036; stroke-width: 1.5;\" width=\"97\" x=\"171.5\" y=\"297.22\"/><ellipse cx=\"186.5\" cy=\"316.1888\" fill=\"#FFA500\" rx=\"11\" ry=\"11\" style=\"stroke: #A80036; stroke-width: 1.0;\"/><path d=\"M186.25,321.6575 Q184.5,321.6575 183.5469,320.6263 Q182.6094,319.5794 182.6094,317.7356 L182.6094,310.845 L184.6719,310.845 L184.6719,311.0013 Q184.5781,311.095 184.5469,311.2356 Q184.5313,311.3606 184.5313,311.6263 L184.5313,317.7513 Q184.5313,318.845 184.9063,319.47 Q185.2813,320.095 186.2656,320.095 Q187.25,320.095 187.6406,319.47 Q188.0313,318.845 188.0313,317.7044 L188.0313,310.845 L189.9063,310.845 L189.9063,317.6888 Q189.9063,319.72 188.875,320.6888 Q187.8594,321.6575 186.25,321.6575 Z \"/><text fill=\"#000000\" font-family=\"sans-serif\" font-size=\"12\" font-style=\"italic\" lengthAdjust=\"spacingAndGlyphs\" textLength=\"69\" x=\"198.5\" y=\"313.3587\">«attribute»</text><text fill=\"#000000\" font-family=\"sans-serif\" font-size=\"12\" lengthAdjust=\"spacingAndGlyphs\" textLength=\"6\" x=\"228\" y=\"327.3274\">y</text><line style=\"stroke: #A80036; stroke-width: 1.5;\" x1=\"172.5\" x2=\"267.5\" y1=\"335.1575\" y2=\"335.1575\"/></a><!--MD5=[b9389687b975829384b498ac4b7476b2]\n",
       "class E8--><a href=\"psysml:215a3247-a6dc-4d80-9cbe-6a95158331ec\" target=\"_top\" title=\"psysml:215a3247-a6dc-4d80-9cbe-6a95158331ec\" xlink:actuate=\"onRequest\" xlink:href=\"psysml:215a3247-a6dc-4d80-9cbe-6a95158331ec\" xlink:show=\"new\" xlink:title=\"psysml:215a3247-a6dc-4d80-9cbe-6a95158331ec\" xlink:type=\"simple\"><rect fill=\"#FEFECE\" filter=\"url(#f1ry8guw4x5z30)\" height=\"45.9375\" id=\"E8\" rx=\"10\" ry=\"10\" style=\"stroke: #A80036; stroke-width: 1.5;\" width=\"97\" x=\"92.5\" y=\"167.22\"/><ellipse cx=\"107.5\" cy=\"186.1888\" fill=\"#FFA500\" rx=\"11\" ry=\"11\" style=\"stroke: #A80036; stroke-width: 1.0;\"/><path d=\"M107.25,191.6575 Q105.5,191.6575 104.5469,190.6263 Q103.6094,189.5794 103.6094,187.7356 L103.6094,180.845 L105.6719,180.845 L105.6719,181.0013 Q105.5781,181.095 105.5469,181.2356 Q105.5313,181.3606 105.5313,181.6263 L105.5313,187.7513 Q105.5313,188.845 105.9063,189.47 Q106.2813,190.095 107.2656,190.095 Q108.25,190.095 108.6406,189.47 Q109.0313,188.845 109.0313,187.7044 L109.0313,180.845 L110.9063,180.845 L110.9063,187.6888 Q110.9063,189.72 109.875,190.6888 Q108.8594,191.6575 107.25,191.6575 Z \"/><text fill=\"#000000\" font-family=\"sans-serif\" font-size=\"12\" font-style=\"italic\" lengthAdjust=\"spacingAndGlyphs\" textLength=\"69\" x=\"119.5\" y=\"183.3587\">«attribute»</text><text fill=\"#000000\" font-family=\"sans-serif\" font-size=\"12\" lengthAdjust=\"spacingAndGlyphs\" textLength=\"5\" x=\"149.5\" y=\"197.3274\">z</text><line style=\"stroke: #A80036; stroke-width: 1.5;\" x1=\"93.5\" x2=\"188.5\" y1=\"205.1575\" y2=\"205.1575\"/></a><a href=\"psysml:a9507a9e-eb7a-4860-b8c9-7900feca47e0\" target=\"_top\" title=\"psysml:a9507a9e-eb7a-4860-b8c9-7900feca47e0\" xlink:actuate=\"onRequest\" xlink:href=\"psysml:a9507a9e-eb7a-4860-b8c9-7900feca47e0\" xlink:show=\"new\" xlink:title=\"psysml:a9507a9e-eb7a-4860-b8c9-7900feca47e0\" xlink:type=\"simple\"><polygon fill=\"#FFFFFF\" filter=\"url(#f1ry8guw4x5z30)\" points=\"335.5,163.72,456.5,163.72,463.5,186.0169,470.5,186.0169,470.5,216.3138,335.5,216.3138,335.5,163.72\" style=\"stroke: #000000; stroke-width: 1.5;\"/><line style=\"stroke: #000000; stroke-width: 1.5;\" x1=\"335.5\" x2=\"463.5\" y1=\"186.0169\" y2=\"186.0169\"/><text fill=\"#000000\" font-family=\"sans-serif\" font-size=\"14\" font-weight=\"bold\" lengthAdjust=\"spacingAndGlyphs\" textLength=\"115\" x=\"339.5\" y=\"178.7151\">Application Layer</text></a><a href=\"psysml:709ed33a-9ff9-4f13-a4b1-f82f2d0ae0d9\" target=\"_top\" title=\"psysml:709ed33a-9ff9-4f13-a4b1-f82f2d0ae0d9\" xlink:actuate=\"onRequest\" xlink:href=\"psysml:709ed33a-9ff9-4f13-a4b1-f82f2d0ae0d9\" xlink:show=\"new\" xlink:title=\"psysml:709ed33a-9ff9-4f13-a4b1-f82f2d0ae0d9\" xlink:type=\"simple\"><polygon fill=\"#FFFFFF\" filter=\"url(#f1ry8guw4x5z30)\" points=\"348,293.72,444,293.72,451,316.0169,458,316.0169,458,346.3138,348,346.3138,348,293.72\" style=\"stroke: #000000; stroke-width: 1.5;\"/><line style=\"stroke: #000000; stroke-width: 1.5;\" x1=\"348\" x2=\"451\" y1=\"316.0169\" y2=\"316.0169\"/><text fill=\"#000000\" font-family=\"sans-serif\" font-size=\"14\" font-weight=\"bold\" lengthAdjust=\"spacingAndGlyphs\" textLength=\"90\" x=\"352\" y=\"308.7151\">Service Layer</text></a><a href=\"psysml:babd67af-01b8-42b4-9186-2fee6f5cc047\" target=\"_top\" title=\"psysml:babd67af-01b8-42b4-9186-2fee6f5cc047\" xlink:actuate=\"onRequest\" xlink:href=\"psysml:babd67af-01b8-42b4-9186-2fee6f5cc047\" xlink:show=\"new\" xlink:title=\"psysml:babd67af-01b8-42b4-9186-2fee6f5cc047\" xlink:type=\"simple\"><polygon fill=\"#FFFFFF\" filter=\"url(#f1ry8guw4x5z30)\" points=\"357,423.72,435,423.72,442,446.0169,449,446.0169,449,476.3138,357,476.3138,357,423.72\" style=\"stroke: #000000; stroke-width: 1.5;\"/><line style=\"stroke: #000000; stroke-width: 1.5;\" x1=\"357\" x2=\"442\" y1=\"446.0169\" y2=\"446.0169\"/><text fill=\"#000000\" font-family=\"sans-serif\" font-size=\"14\" font-weight=\"bold\" lengthAdjust=\"spacingAndGlyphs\" textLength=\"72\" x=\"361\" y=\"438.7151\">Data Layer</text></a><!--MD5=[1f1cd8e6dd4c1b2ca2aaccc9b9bcea6e]\n",
       "link E1 to E2--><a href=\"psysml:8155982a-39d3-4776-bb66-97608c5c0d21\" target=\"_top\" title=\"psysml:8155982a-39d3-4776-bb66-97608c5c0d21\" xlink:actuate=\"onRequest\" xlink:href=\"psysml:8155982a-39d3-4776-bb66-97608c5c0d21\" xlink:show=\"new\" xlink:title=\"psysml:8155982a-39d3-4776-bb66-97608c5c0d21\" xlink:type=\"simple\"><path d=\"M300,33.83 C300,36.15 300,73.83 300,111.5 C300,113.8544 300,116.2087 300,118.5544 C300,119.1408 300,119.7267 300,120.3119 \" fill=\"none\" id=\"E1-&gt;E2\" style=\"stroke: #A80036; stroke-width: 1.0; stroke-dasharray: 7.0,7.0;\"/><polygon fill=\"#A80036\" points=\"300,120.3119,304,111.3119,300,115.3119,296,111.3119,300,120.3119\" style=\"stroke: #A80036; stroke-width: 1.0;\"/><text fill=\"#000000\" font-family=\"sans-serif\" font-size=\"13\" lengthAdjust=\"spacingAndGlyphs\" textLength=\"65\" x=\"301\" y=\"76.7869\">«import»*</text></a><!--MD5=[af87c684e3b0d8be13c1a698a818ef1e]\n",
       "link E3 to E4--><a href=\"psysml:339645be-1a7b-490e-bb9e-fc7090e144b0\" target=\"_top\" title=\"psysml:339645be-1a7b-490e-bb9e-fc7090e144b0\" xlink:actuate=\"onRequest\" xlink:href=\"psysml:339645be-1a7b-490e-bb9e-fc7090e144b0\" xlink:show=\"new\" xlink:title=\"psysml:339645be-1a7b-490e-bb9e-fc7090e144b0\" xlink:type=\"simple\"><path d=\"M403,216.82 C403,236.52 403,263.94 403,285.45 \" fill=\"none\" id=\"E3-&gt;E4\" style=\"stroke: #A80036; stroke-width: 1.0; stroke-dasharray: 7.0,7.0;\"/><polygon fill=\"#A80036\" points=\"403,293.67,406,285.67,400,285.67,403,293.67\" style=\"stroke: #A80036; stroke-width: 1.0;\"/><text fill=\"#000000\" font-family=\"sans-serif\" font-size=\"13\" lengthAdjust=\"spacingAndGlyphs\" textLength=\"64\" x=\"404\" y=\"259.7869\">«depend»</text></a><!--MD5=[1b7591eae5389033d8d09a9d6721a717]\n",
       "link E4 to E5--><a href=\"psysml:cd6419af-0f56-471f-8341-f3995db2a676\" target=\"_top\" title=\"psysml:cd6419af-0f56-471f-8341-f3995db2a676\" xlink:actuate=\"onRequest\" xlink:href=\"psysml:cd6419af-0f56-471f-8341-f3995db2a676\" xlink:show=\"new\" xlink:title=\"psysml:cd6419af-0f56-471f-8341-f3995db2a676\" xlink:type=\"simple\"><path d=\"M403,346.82 C403,366.52 403,393.94 403,415.45 \" fill=\"none\" id=\"E4-&gt;E5\" style=\"stroke: #A80036; stroke-width: 1.0; stroke-dasharray: 7.0,7.0;\"/><polygon fill=\"#A80036\" points=\"403,423.67,406,415.67,400,415.67,403,423.67\" style=\"stroke: #A80036; stroke-width: 1.0;\"/><text fill=\"#000000\" font-family=\"sans-serif\" font-size=\"13\" lengthAdjust=\"spacingAndGlyphs\" textLength=\"64\" x=\"404\" y=\"389.7869\">«depend»</text></a><!--MD5=[c5e8897d989ce984f93528998a7150fe]\n",
       "link E8 to E6--><a href=\"psysml:974879a0-be0c-4725-ba74-b00c4a2eaada\" target=\"_top\" title=\"psysml:974879a0-be0c-4725-ba74-b00c4a2eaada\" xlink:actuate=\"onRequest\" xlink:href=\"psysml:974879a0-be0c-4725-ba74-b00c4a2eaada\" xlink:show=\"new\" xlink:title=\"psysml:974879a0-be0c-4725-ba74-b00c4a2eaada\" xlink:type=\"simple\"><path d=\"M114.44,213.48 C105.3,222.73 96.09,234.23 91,246.72 C85.6,259.95 84.4,275.7 84.73,289.13 \" fill=\"none\" id=\"E8-&gt;E6\" style=\"stroke: #A80036; stroke-width: 1.0; stroke-dasharray: 7.0,7.0;\"/><polygon fill=\"#A80036\" points=\"85.12,297.15,87.7306,289.0146,81.7375,289.304,85.12,297.15\" style=\"stroke: #A80036; stroke-width: 1.0;\"/><text fill=\"#000000\" font-family=\"sans-serif\" font-size=\"13\" lengthAdjust=\"spacingAndGlyphs\" textLength=\"64\" x=\"92\" y=\"259.7869\">«depend»</text></a><!--MD5=[bfa3c8b0d15052fdf50ae9310b491027]\n",
       "link E8 to E7--><a href=\"psysml:974879a0-be0c-4725-ba74-b00c4a2eaada\" target=\"_top\" title=\"psysml:974879a0-be0c-4725-ba74-b00c4a2eaada\" xlink:actuate=\"onRequest\" xlink:href=\"psysml:974879a0-be0c-4725-ba74-b00c4a2eaada\" xlink:show=\"new\" xlink:title=\"psysml:974879a0-be0c-4725-ba74-b00c4a2eaada\" xlink:type=\"simple\"><path d=\"M154.58,213.22 C167.69,234.47 187.63,266.77 202.05,290.13 \" fill=\"none\" id=\"E8-&gt;E7\" style=\"stroke: #A80036; stroke-width: 1.0; stroke-dasharray: 7.0,7.0;\"/><polygon fill=\"#A80036\" points=\"206.33,297.07,204.6785,288.6871,199.5737,291.8401,206.33,297.07\" style=\"stroke: #A80036; stroke-width: 1.0;\"/><text fill=\"#000000\" font-family=\"sans-serif\" font-size=\"13\" lengthAdjust=\"spacingAndGlyphs\" textLength=\"64\" x=\"186\" y=\"259.7869\">«depend»</text></a><!--MD5=[69760f86bfc1b6c631b7e31d23db09b3]\n",
       "@startuml\r\n",
       " \r\n",
       "package \"DependencyTest\" as E1  [[psysml:0f0f2110-3be1-453e-862d-cec3a7a71a7a ]]  {\r\n",
       "package \"System\" as E2  [[psysml:c508d22c-e466-4361-9854-fd4393e1e853 ]]  {\r\n",
       "package \"Application Layer\" as E3  [[psysml:a9507a9e-eb7a-4860-b8c9-7900feca47e0 ]]  {\r\n",
       "}\r\n",
       "package \"Service Layer\" as E4  [[psysml:709ed33a-9ff9-4f13-a4b1-f82f2d0ae0d9 ]]  {\r\n",
       "}\r\n",
       "package \"Data Layer\" as E5  [[psysml:babd67af-01b8-42b4-9186-2fee6f5cc047 ]]  {\r\n",
       "}\r\n",
       "}\r\n",
       "comp usage \"x \" as E6 << <<(U,orange) attribute>> [[psysml:2188fd29-8e87-4428-b2da-0b81f77b2176 ]] {\r\n",
       "}\r\n",
       "comp usage \"y \" as E7 << <<(U,orange) attribute>> [[psysml:b1dded97-ff7b-4726-be9f-c0b539bbd77d ]] {\r\n",
       "}\r\n",
       "comp usage \"z \" as E8 << <<(U,orange) attribute>> [[psysml:215a3247-a6dc-4d80-9cbe-6a95158331ec ]] {\r\n",
       "}\r\n",
       "}\r\n",
       "E1 ..> E2 [[psysml:8155982a-39d3-4776-bb66-97608c5c0d21 ]] : <<import>>*\r\n",
       "E3 ..>> E4 [[psysml:339645be-1a7b-490e-bb9e-fc7090e144b0 ]] : <<depend>>\r\n",
       "E4 ..>> E5 [[psysml:cd6419af-0f56-471f-8341-f3995db2a676 ]] : <<depend>>\r\n",
       "E8 ..>> E6 [[psysml:974879a0-be0c-4725-ba74-b00c4a2eaada ]] : <<depend>>\r\n",
       "E8 ..>> E7 [[psysml:974879a0-be0c-4725-ba74-b00c4a2eaada ]] : <<depend>>\r\n",
       "@enduml\r\n",
       "\n",
       "PlantUML version 1.2020.13(Sat Jun 13 12:26:38 UTC 2020)\n",
       "(EPL source distribution)\n",
       "Java Runtime: OpenJDK Runtime Environment\n",
       "JVM: OpenJDK 64-Bit Server VM\n",
       "Default Encoding: UTF-8\n",
       "Language: en\n",
       "Country: null\n",
       "--></g></svg>"
      ]
     },
     "execution_count": 31,
     "metadata": {},
     "output_type": "execute_result"
    }
   ],
   "source": [
    "%viz --style=\"PLANTUML\" --view=\"Tree\" \"DependencyTest\""
   ]
  },
  {
   "cell_type": "code",
   "execution_count": 32,
   "id": "cfd85ecb",
   "metadata": {
    "execution": {
     "iopub.execute_input": "2022-08-19T08:17:12.924875Z",
     "iopub.status.busy": "2022-08-19T08:17:12.924428Z",
     "iopub.status.idle": "2022-08-19T08:17:12.999565Z",
     "shell.execute_reply": "2022-08-19T08:17:12.997922Z"
    }
   },
   "outputs": [
    {
     "data": {
      "image/svg+xml": [
       "<?xml version=\"1.0\" encoding=\"UTF-8\" standalone=\"no\"?><svg xmlns=\"http://www.w3.org/2000/svg\" xmlns:xlink=\"http://www.w3.org/1999/xlink\" contentScriptType=\"application/ecmascript\" contentStyleType=\"text/css\" height=\"300px\" preserveAspectRatio=\"none\" style=\"width:603px;height:300px;background:#000000;\" version=\"1.1\" viewBox=\"0 0 603 300\" width=\"603px\" zoomAndPan=\"magnify\"><defs/><g><rect fill=\"#262503\" height=\"1\" style=\"stroke: #262503; stroke-width: 1.0;\" width=\"1\" x=\"0\" y=\"0\"/><rect fill=\"#FFFFFF\" height=\"202.8012\" style=\"stroke: #FFFFFF; stroke-width: 1.0;\" width=\"602\" x=\"0\" y=\"0\"/><text fill=\"#000000\" font-family=\"sans-serif\" font-size=\"12\" font-weight=\"bold\" lengthAdjust=\"spacingAndGlyphs\" textLength=\"139\" x=\"5\" y=\"16.1387\">Welcome to PlantUML!</text><text fill=\"#000000\" font-family=\"sans-serif\" font-size=\"12\" lengthAdjust=\"spacingAndGlyphs\" textLength=\"0\" x=\"9\" y=\"30.1074\"/><text fill=\"#000000\" font-family=\"sans-serif\" font-size=\"12\" lengthAdjust=\"spacingAndGlyphs\" textLength=\"293\" x=\"5\" y=\"44.0762\">If you use this software, you accept its license.</text><text fill=\"#000000\" font-family=\"sans-serif\" font-size=\"12\" lengthAdjust=\"spacingAndGlyphs\" textLength=\"107\" x=\"5\" y=\"58.0449\">(details by typing</text><text fill=\"#000000\" font-family=\"monospace\" font-size=\"12\" lengthAdjust=\"spacingAndGlyphs\" textLength=\"42\" x=\"116\" y=\"58.595\">license</text><text fill=\"#000000\" font-family=\"sans-serif\" font-size=\"12\" lengthAdjust=\"spacingAndGlyphs\" textLength=\"56\" x=\"162\" y=\"58.0449\">keyword)</text><text fill=\"#000000\" font-family=\"sans-serif\" font-size=\"12\" lengthAdjust=\"spacingAndGlyphs\" textLength=\"0\" x=\"9\" y=\"72.0137\"/><text fill=\"#000000\" font-family=\"sans-serif\" font-size=\"12\" lengthAdjust=\"spacingAndGlyphs\" textLength=\"283\" x=\"5\" y=\"85.9824\">You can start with a simple UML Diagram like:</text><text fill=\"#000000\" font-family=\"sans-serif\" font-size=\"12\" lengthAdjust=\"spacingAndGlyphs\" textLength=\"0\" x=\"9\" y=\"99.9512\"/><text fill=\"#000000\" font-family=\"monospace\" font-size=\"12\" lengthAdjust=\"spacingAndGlyphs\" textLength=\"102\" x=\"5\" y=\"113.0893\">Bob-&gt;Alice: Hello</text><text fill=\"#000000\" font-family=\"sans-serif\" font-size=\"12\" lengthAdjust=\"spacingAndGlyphs\" textLength=\"0\" x=\"9\" y=\"126.508\"/><text fill=\"#000000\" font-family=\"sans-serif\" font-size=\"12\" lengthAdjust=\"spacingAndGlyphs\" textLength=\"14\" x=\"5\" y=\"140.4768\">Or</text><text fill=\"#000000\" font-family=\"sans-serif\" font-size=\"12\" lengthAdjust=\"spacingAndGlyphs\" textLength=\"0\" x=\"9\" y=\"154.4455\"/><text fill=\"#000000\" font-family=\"monospace\" font-size=\"12\" lengthAdjust=\"spacingAndGlyphs\" textLength=\"78\" x=\"5\" y=\"167.5837\">class Example</text><text fill=\"#000000\" font-family=\"sans-serif\" font-size=\"12\" lengthAdjust=\"spacingAndGlyphs\" textLength=\"0\" x=\"9\" y=\"181.0023\"/><text fill=\"#000000\" font-family=\"sans-serif\" font-size=\"12\" lengthAdjust=\"spacingAndGlyphs\" textLength=\"349\" x=\"5\" y=\"194.9711\">You will find more information about PlantUML syntax on</text><text fill=\"#000000\" font-family=\"sans-serif\" font-size=\"12\" lengthAdjust=\"spacingAndGlyphs\" text-decoration=\"underline\" textLength=\"129\" x=\"358\" y=\"194.9711\">https://plantuml.com</text><image height=\"71\" width=\"80\" x=\"516\" xlink:href=\"data:image/png;base64,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\" y=\"6\"/><rect fill=\"#000000\" height=\"96.4844\" style=\"stroke: #000000; stroke-width: 1.0;\" width=\"602\" x=\"0\" y=\"202.8012\"/><rect fill=\"#33FF02\" height=\"21.2969\" style=\"stroke: #33FF02; stroke-width: 1.0;\" width=\"145\" x=\"5\" y=\"207.8012\"/><text fill=\"#000000\" font-family=\"sans-serif\" font-size=\"14\" font-weight=\"bold\" lengthAdjust=\"spacingAndGlyphs\" textLength=\"143\" x=\"6\" y=\"222.8012\">[From string (line 2) ]</text><text fill=\"#33FF02\" font-family=\"sans-serif\" font-size=\"14\" font-weight=\"bold\" lengthAdjust=\"spacingAndGlyphs\" textLength=\"0\" x=\"9\" y=\"243.0981\"/><text fill=\"#33FF02\" font-family=\"sans-serif\" font-size=\"14\" font-weight=\"bold\" lengthAdjust=\"spacingAndGlyphs\" textLength=\"70\" x=\"5\" y=\"259.3949\">@startuml</text><text fill=\"#33FF02\" font-family=\"sans-serif\" font-size=\"14\" font-weight=\"bold\" lengthAdjust=\"spacingAndGlyphs\" textLength=\"0\" x=\"9\" y=\"275.6918\"/><text fill=\"#FF0000\" font-family=\"sans-serif\" font-size=\"14\" font-weight=\"bold\" lengthAdjust=\"spacingAndGlyphs\" textLength=\"124\" x=\"9\" y=\"291.9887\">Empty description</text><!--MD5=[f59edd8218d337f74d0c332fc6737304]\n",
       "@startuml\r\n",
       " \r\n",
       "@enduml\r\n",
       "\n",
       "PlantUML version 1.2020.13(Sat Jun 13 12:26:38 UTC 2020)\n",
       "(EPL source distribution)\n",
       "Java Runtime: OpenJDK Runtime Environment\n",
       "JVM: OpenJDK 64-Bit Server VM\n",
       "Default Encoding: UTF-8\n",
       "Language: en\n",
       "Country: null\n",
       "--></g></svg>"
      ]
     },
     "execution_count": 32,
     "metadata": {},
     "output_type": "execute_result"
    }
   ],
   "source": [
    "%viz --style=\"PLANTUML\" --view=\"State\" \"DependencyTest\""
   ]
  },
  {
   "cell_type": "code",
   "execution_count": 33,
   "id": "823b4122",
   "metadata": {
    "execution": {
     "iopub.execute_input": "2022-08-19T08:17:13.048941Z",
     "iopub.status.busy": "2022-08-19T08:17:13.048448Z",
     "iopub.status.idle": "2022-08-19T08:17:13.079296Z",
     "shell.execute_reply": "2022-08-19T08:17:13.077622Z"
    }
   },
   "outputs": [
    {
     "data": {
      "image/svg+xml": [
       "<?xml version=\"1.0\" encoding=\"UTF-8\" standalone=\"no\"?><svg xmlns=\"http://www.w3.org/2000/svg\" xmlns:xlink=\"http://www.w3.org/1999/xlink\" contentScriptType=\"application/ecmascript\" contentStyleType=\"text/css\" height=\"442px\" preserveAspectRatio=\"none\" style=\"width:557px;height:442px;\" version=\"1.1\" viewBox=\"0 0 557 442\" width=\"557px\" zoomAndPan=\"magnify\"><defs><filter height=\"300%\" id=\"fqso595jom8m1\" width=\"300%\" x=\"-1\" y=\"-1\"><feGaussianBlur result=\"blurOut\" stdDeviation=\"2.0\"/><feColorMatrix in=\"blurOut\" result=\"blurOut2\" type=\"matrix\" values=\"0 0 0 0 0 0 0 0 0 0 0 0 0 0 0 0 0 0 .4 0\"/><feOffset dx=\"4.0\" dy=\"4.0\" in=\"blurOut2\" result=\"blurOut3\"/><feBlend in=\"SourceGraphic\" in2=\"blurOut3\" mode=\"normal\"/></filter></defs><g><!--MD5=[fbc87193dbaf4d95561dea2c320d4a47]\n",
       "cluster E1--><a href=\"psysml:0f0f2110-3be1-453e-862d-cec3a7a71a7a\" target=\"_top\" title=\"psysml:0f0f2110-3be1-453e-862d-cec3a7a71a7a\" xlink:actuate=\"onRequest\" xlink:href=\"psysml:0f0f2110-3be1-453e-862d-cec3a7a71a7a\" xlink:show=\"new\" xlink:title=\"psysml:0f0f2110-3be1-453e-862d-cec3a7a71a7a\" xlink:type=\"simple\"><polygon fill=\"#FFFFFF\" filter=\"url(#fqso595jom8m1)\" points=\"16,6,142,6,149,28.2969,535,28.2969,535,430.72,16,430.72,16,6\" style=\"stroke: #000000; stroke-width: 1.5;\"/><line style=\"stroke: #000000; stroke-width: 1.5;\" x1=\"16\" x2=\"149\" y1=\"28.2969\" y2=\"28.2969\"/><text fill=\"#000000\" font-family=\"sans-serif\" font-size=\"14\" font-weight=\"bold\" lengthAdjust=\"spacingAndGlyphs\" textLength=\"120\" x=\"20\" y=\"20.9951\">DependencyTest</text></a><!--MD5=[e4f7fae6ed58524ba242bb0b0d3be6b7]\n",
       "cluster E2--><a href=\"psysml:c508d22c-e466-4361-9854-fd4393e1e853\" target=\"_top\" title=\"psysml:c508d22c-e466-4361-9854-fd4393e1e853\" xlink:actuate=\"onRequest\" xlink:href=\"psysml:c508d22c-e466-4361-9854-fd4393e1e853\" xlink:show=\"new\" xlink:title=\"psysml:c508d22c-e466-4361-9854-fd4393e1e853\" xlink:type=\"simple\"><polygon fill=\"#FFFFFF\" filter=\"url(#fqso595jom8m1)\" points=\"292,98.72,349,98.72,356,121.0169,495,121.0169,495,390.72,292,390.72,292,98.72\" style=\"stroke: #000000; stroke-width: 1.5;\"/><line style=\"stroke: #000000; stroke-width: 1.5;\" x1=\"292\" x2=\"356\" y1=\"121.0169\" y2=\"121.0169\"/><text fill=\"#000000\" font-family=\"sans-serif\" font-size=\"14\" font-weight=\"bold\" lengthAdjust=\"spacingAndGlyphs\" textLength=\"51\" x=\"296\" y=\"113.7151\">System</text></a><!--MD5=[60a26617385b1d2d0262a64233df1f8d]\n",
       "class E6--><a href=\"psysml:2188fd29-8e87-4428-b2da-0b81f77b2176\" target=\"_top\" title=\"psysml:2188fd29-8e87-4428-b2da-0b81f77b2176\" xlink:actuate=\"onRequest\" xlink:href=\"psysml:2188fd29-8e87-4428-b2da-0b81f77b2176\" xlink:show=\"new\" xlink:title=\"psysml:2188fd29-8e87-4428-b2da-0b81f77b2176\" xlink:type=\"simple\"><rect fill=\"#FEFECE\" filter=\"url(#fqso595jom8m1)\" height=\"45.9375\" id=\"E6\" rx=\"10\" ry=\"10\" style=\"stroke: #A80036; stroke-width: 1.5;\" width=\"97\" x=\"39.5\" y=\"231.22\"/><ellipse cx=\"54.5\" cy=\"250.1888\" fill=\"#FFA500\" rx=\"11\" ry=\"11\" style=\"stroke: #A80036; stroke-width: 1.0;\"/><path d=\"M54.25,255.6575 Q52.5,255.6575 51.5469,254.6263 Q50.6094,253.5794 50.6094,251.7356 L50.6094,244.845 L52.6719,244.845 L52.6719,245.0013 Q52.5781,245.095 52.5469,245.2356 Q52.5313,245.3606 52.5313,245.6263 L52.5313,251.7513 Q52.5313,252.845 52.9063,253.47 Q53.2813,254.095 54.2656,254.095 Q55.25,254.095 55.6406,253.47 Q56.0313,252.845 56.0313,251.7044 L56.0313,244.845 L57.9063,244.845 L57.9063,251.6888 Q57.9063,253.72 56.875,254.6888 Q55.8594,255.6575 54.25,255.6575 Z \"/><text fill=\"#000000\" font-family=\"sans-serif\" font-size=\"12\" font-style=\"italic\" lengthAdjust=\"spacingAndGlyphs\" textLength=\"69\" x=\"66.5\" y=\"247.3587\">«attribute»</text><text fill=\"#000000\" font-family=\"sans-serif\" font-size=\"12\" lengthAdjust=\"spacingAndGlyphs\" textLength=\"6\" x=\"96\" y=\"261.3274\">x</text><line style=\"stroke: #A80036; stroke-width: 1.5;\" x1=\"40.5\" x2=\"135.5\" y1=\"269.1575\" y2=\"269.1575\"/></a><!--MD5=[2156ba9850f5573cc1fc38a6a4b2f02b]\n",
       "class E7--><a href=\"psysml:b1dded97-ff7b-4726-be9f-c0b539bbd77d\" target=\"_top\" title=\"psysml:b1dded97-ff7b-4726-be9f-c0b539bbd77d\" xlink:actuate=\"onRequest\" xlink:href=\"psysml:b1dded97-ff7b-4726-be9f-c0b539bbd77d\" xlink:show=\"new\" xlink:title=\"psysml:b1dded97-ff7b-4726-be9f-c0b539bbd77d\" xlink:type=\"simple\"><rect fill=\"#FEFECE\" filter=\"url(#fqso595jom8m1)\" height=\"45.9375\" id=\"E7\" rx=\"10\" ry=\"10\" style=\"stroke: #A80036; stroke-width: 1.5;\" width=\"97\" x=\"171.5\" y=\"231.22\"/><ellipse cx=\"186.5\" cy=\"250.1888\" fill=\"#FFA500\" rx=\"11\" ry=\"11\" style=\"stroke: #A80036; stroke-width: 1.0;\"/><path d=\"M186.25,255.6575 Q184.5,255.6575 183.5469,254.6263 Q182.6094,253.5794 182.6094,251.7356 L182.6094,244.845 L184.6719,244.845 L184.6719,245.0013 Q184.5781,245.095 184.5469,245.2356 Q184.5313,245.3606 184.5313,245.6263 L184.5313,251.7513 Q184.5313,252.845 184.9063,253.47 Q185.2813,254.095 186.2656,254.095 Q187.25,254.095 187.6406,253.47 Q188.0313,252.845 188.0313,251.7044 L188.0313,244.845 L189.9063,244.845 L189.9063,251.6888 Q189.9063,253.72 188.875,254.6888 Q187.8594,255.6575 186.25,255.6575 Z \"/><text fill=\"#000000\" font-family=\"sans-serif\" font-size=\"12\" font-style=\"italic\" lengthAdjust=\"spacingAndGlyphs\" textLength=\"69\" x=\"198.5\" y=\"247.3587\">«attribute»</text><text fill=\"#000000\" font-family=\"sans-serif\" font-size=\"12\" lengthAdjust=\"spacingAndGlyphs\" textLength=\"6\" x=\"228\" y=\"261.3274\">y</text><line style=\"stroke: #A80036; stroke-width: 1.5;\" x1=\"172.5\" x2=\"267.5\" y1=\"269.1575\" y2=\"269.1575\"/></a><!--MD5=[b9389687b975829384b498ac4b7476b2]\n",
       "class E8--><a href=\"psysml:215a3247-a6dc-4d80-9cbe-6a95158331ec\" target=\"_top\" title=\"psysml:215a3247-a6dc-4d80-9cbe-6a95158331ec\" xlink:actuate=\"onRequest\" xlink:href=\"psysml:215a3247-a6dc-4d80-9cbe-6a95158331ec\" xlink:show=\"new\" xlink:title=\"psysml:215a3247-a6dc-4d80-9cbe-6a95158331ec\" xlink:type=\"simple\"><rect fill=\"#FEFECE\" filter=\"url(#fqso595jom8m1)\" height=\"45.9375\" id=\"E8\" rx=\"10\" ry=\"10\" style=\"stroke: #A80036; stroke-width: 1.5;\" width=\"97\" x=\"92.5\" y=\"145.22\"/><ellipse cx=\"107.5\" cy=\"164.1888\" fill=\"#FFA500\" rx=\"11\" ry=\"11\" style=\"stroke: #A80036; stroke-width: 1.0;\"/><path d=\"M107.25,169.6575 Q105.5,169.6575 104.5469,168.6263 Q103.6094,167.5794 103.6094,165.7356 L103.6094,158.845 L105.6719,158.845 L105.6719,159.0013 Q105.5781,159.095 105.5469,159.2356 Q105.5313,159.3606 105.5313,159.6263 L105.5313,165.7513 Q105.5313,166.845 105.9063,167.47 Q106.2813,168.095 107.2656,168.095 Q108.25,168.095 108.6406,167.47 Q109.0313,166.845 109.0313,165.7044 L109.0313,158.845 L110.9063,158.845 L110.9063,165.6888 Q110.9063,167.72 109.875,168.6888 Q108.8594,169.6575 107.25,169.6575 Z \"/><text fill=\"#000000\" font-family=\"sans-serif\" font-size=\"12\" font-style=\"italic\" lengthAdjust=\"spacingAndGlyphs\" textLength=\"69\" x=\"119.5\" y=\"161.3587\">«attribute»</text><text fill=\"#000000\" font-family=\"sans-serif\" font-size=\"12\" lengthAdjust=\"spacingAndGlyphs\" textLength=\"5\" x=\"149.5\" y=\"175.3274\">z</text><line style=\"stroke: #A80036; stroke-width: 1.5;\" x1=\"93.5\" x2=\"188.5\" y1=\"183.1575\" y2=\"183.1575\"/></a><a href=\"psysml:a9507a9e-eb7a-4860-b8c9-7900feca47e0\" target=\"_top\" title=\"psysml:a9507a9e-eb7a-4860-b8c9-7900feca47e0\" xlink:actuate=\"onRequest\" xlink:href=\"psysml:a9507a9e-eb7a-4860-b8c9-7900feca47e0\" xlink:show=\"new\" xlink:title=\"psysml:a9507a9e-eb7a-4860-b8c9-7900feca47e0\" xlink:type=\"simple\"><polygon fill=\"#FFFFFF\" filter=\"url(#fqso595jom8m1)\" points=\"335.5,141.72,456.5,141.72,463.5,164.0169,470.5,164.0169,470.5,194.3138,335.5,194.3138,335.5,141.72\" style=\"stroke: #000000; stroke-width: 1.5;\"/><line style=\"stroke: #000000; stroke-width: 1.5;\" x1=\"335.5\" x2=\"463.5\" y1=\"164.0169\" y2=\"164.0169\"/><text fill=\"#000000\" font-family=\"sans-serif\" font-size=\"14\" font-weight=\"bold\" lengthAdjust=\"spacingAndGlyphs\" textLength=\"115\" x=\"339.5\" y=\"156.7151\">Application Layer</text></a><a href=\"psysml:709ed33a-9ff9-4f13-a4b1-f82f2d0ae0d9\" target=\"_top\" title=\"psysml:709ed33a-9ff9-4f13-a4b1-f82f2d0ae0d9\" xlink:actuate=\"onRequest\" xlink:href=\"psysml:709ed33a-9ff9-4f13-a4b1-f82f2d0ae0d9\" xlink:show=\"new\" xlink:title=\"psysml:709ed33a-9ff9-4f13-a4b1-f82f2d0ae0d9\" xlink:type=\"simple\"><polygon fill=\"#FFFFFF\" filter=\"url(#fqso595jom8m1)\" points=\"348,227.72,444,227.72,451,250.0169,458,250.0169,458,280.3138,348,280.3138,348,227.72\" style=\"stroke: #000000; stroke-width: 1.5;\"/><line style=\"stroke: #000000; stroke-width: 1.5;\" x1=\"348\" x2=\"451\" y1=\"250.0169\" y2=\"250.0169\"/><text fill=\"#000000\" font-family=\"sans-serif\" font-size=\"14\" font-weight=\"bold\" lengthAdjust=\"spacingAndGlyphs\" textLength=\"90\" x=\"352\" y=\"242.7151\">Service Layer</text></a><a href=\"psysml:babd67af-01b8-42b4-9186-2fee6f5cc047\" target=\"_top\" title=\"psysml:babd67af-01b8-42b4-9186-2fee6f5cc047\" xlink:actuate=\"onRequest\" xlink:href=\"psysml:babd67af-01b8-42b4-9186-2fee6f5cc047\" xlink:show=\"new\" xlink:title=\"psysml:babd67af-01b8-42b4-9186-2fee6f5cc047\" xlink:type=\"simple\"><polygon fill=\"#FFFFFF\" filter=\"url(#fqso595jom8m1)\" points=\"357,313.72,435,313.72,442,336.0169,449,336.0169,449,366.3138,357,366.3138,357,313.72\" style=\"stroke: #000000; stroke-width: 1.5;\"/><line style=\"stroke: #000000; stroke-width: 1.5;\" x1=\"357\" x2=\"442\" y1=\"336.0169\" y2=\"336.0169\"/><text fill=\"#000000\" font-family=\"sans-serif\" font-size=\"14\" font-weight=\"bold\" lengthAdjust=\"spacingAndGlyphs\" textLength=\"72\" x=\"361\" y=\"328.7151\">Data Layer</text></a><!--MD5=[1f1cd8e6dd4c1b2ca2aaccc9b9bcea6e]\n",
       "link E1 to E2--><a href=\"psysml:8155982a-39d3-4776-bb66-97608c5c0d21\" target=\"_top\" title=\"psysml:8155982a-39d3-4776-bb66-97608c5c0d21\" xlink:actuate=\"onRequest\" xlink:href=\"psysml:8155982a-39d3-4776-bb66-97608c5c0d21\" xlink:show=\"new\" xlink:title=\"psysml:8155982a-39d3-4776-bb66-97608c5c0d21\" xlink:type=\"simple\"><path d=\"M300,33.82 C300,34.815 300,43.3994 300,55.7775 C300,61.9666 300,69.1041 300,76.7155 C300,80.5213 300,84.4455 300,88.429 C300,90.4207 300,92.4272 300,94.4411 C300,95.448 300,96.4568 300,97.4665 C300,97.719 300,97.9714 300,98.224 \" fill=\"none\" id=\"E1-&gt;E2\" style=\"stroke: #A80036; stroke-width: 1.0; stroke-dasharray: 7.0,7.0;\"/><polygon fill=\"#A80036\" points=\"300,98.224,304,89.224,300,93.224,296,89.224,300,98.224\" style=\"stroke: #A80036; stroke-width: 1.0;\"/><text fill=\"#000000\" font-family=\"sans-serif\" font-size=\"13\" lengthAdjust=\"spacingAndGlyphs\" textLength=\"65\" x=\"301\" y=\"54.7869\">«import»*</text></a><!--MD5=[af87c684e3b0d8be13c1a698a818ef1e]\n",
       "link E3 to E4--><a href=\"psysml:339645be-1a7b-490e-bb9e-fc7090e144b0\" target=\"_top\" title=\"psysml:339645be-1a7b-490e-bb9e-fc7090e144b0\" xlink:actuate=\"onRequest\" xlink:href=\"psysml:339645be-1a7b-490e-bb9e-fc7090e144b0\" xlink:show=\"new\" xlink:title=\"psysml:339645be-1a7b-490e-bb9e-fc7090e144b0\" xlink:type=\"simple\"><path d=\"M403,194.88 C403,202.7 403,211.41 403,219.66 \" fill=\"none\" id=\"E3-&gt;E4\" style=\"stroke: #A80036; stroke-width: 1.0; stroke-dasharray: 7.0,7.0;\"/><polygon fill=\"#A80036\" points=\"403,227.72,406,219.72,400,219.72,403,227.72\" style=\"stroke: #A80036; stroke-width: 1.0;\"/><text fill=\"#000000\" font-family=\"sans-serif\" font-size=\"13\" lengthAdjust=\"spacingAndGlyphs\" textLength=\"64\" x=\"404\" y=\"215.7869\">«depend»</text></a><!--MD5=[1b7591eae5389033d8d09a9d6721a717]\n",
       "link E4 to E5--><a href=\"psysml:cd6419af-0f56-471f-8341-f3995db2a676\" target=\"_top\" title=\"psysml:cd6419af-0f56-471f-8341-f3995db2a676\" xlink:actuate=\"onRequest\" xlink:href=\"psysml:cd6419af-0f56-471f-8341-f3995db2a676\" xlink:show=\"new\" xlink:title=\"psysml:cd6419af-0f56-471f-8341-f3995db2a676\" xlink:type=\"simple\"><path d=\"M403,280.88 C403,288.7 403,297.41 403,305.66 \" fill=\"none\" id=\"E4-&gt;E5\" style=\"stroke: #A80036; stroke-width: 1.0; stroke-dasharray: 7.0,7.0;\"/><polygon fill=\"#A80036\" points=\"403,313.72,406,305.72,400,305.72,403,313.72\" style=\"stroke: #A80036; stroke-width: 1.0;\"/><text fill=\"#000000\" font-family=\"sans-serif\" font-size=\"13\" lengthAdjust=\"spacingAndGlyphs\" textLength=\"64\" x=\"404\" y=\"301.7869\">«depend»</text></a><!--MD5=[c5e8897d989ce984f93528998a7150fe]\n",
       "link E8 to E6--><a href=\"psysml:974879a0-be0c-4725-ba74-b00c4a2eaada\" target=\"_top\" title=\"psysml:974879a0-be0c-4725-ba74-b00c4a2eaada\" xlink:actuate=\"onRequest\" xlink:href=\"psysml:974879a0-be0c-4725-ba74-b00c4a2eaada\" xlink:show=\"new\" xlink:title=\"psysml:974879a0-be0c-4725-ba74-b00c4a2eaada\" xlink:type=\"simple\"><path d=\"M100.08,191.44 C96.53,194.79 93.39,198.55 91,202.72 C87.52,208.8 85.92,216 85.36,223.02 \" fill=\"none\" id=\"E8-&gt;E6\" style=\"stroke: #A80036; stroke-width: 1.0; stroke-dasharray: 7.0,7.0;\"/><polygon fill=\"#A80036\" points=\"85.14,231.11,88.3531,223.1932,82.3553,223.0325,85.14,231.11\" style=\"stroke: #A80036; stroke-width: 1.0;\"/><text fill=\"#000000\" font-family=\"sans-serif\" font-size=\"13\" lengthAdjust=\"spacingAndGlyphs\" textLength=\"64\" x=\"92\" y=\"215.7869\">«depend»</text></a><!--MD5=[bfa3c8b0d15052fdf50ae9310b491027]\n",
       "link E8 to E7--><a href=\"psysml:974879a0-be0c-4725-ba74-b00c4a2eaada\" target=\"_top\" title=\"psysml:974879a0-be0c-4725-ba74-b00c4a2eaada\" xlink:actuate=\"onRequest\" xlink:href=\"psysml:974879a0-be0c-4725-ba74-b00c4a2eaada\" xlink:show=\"new\" xlink:title=\"psysml:974879a0-be0c-4725-ba74-b00c4a2eaada\" xlink:type=\"simple\"><path d=\"M161.76,191.29 C171.48,201.63 183.17,214.06 193.52,225.06 \" fill=\"none\" id=\"E8-&gt;E7\" style=\"stroke: #A80036; stroke-width: 1.0; stroke-dasharray: 7.0,7.0;\"/><polygon fill=\"#A80036\" points=\"199.11,231.01,195.8117,223.1283,191.4425,227.2405,199.11,231.01\" style=\"stroke: #A80036; stroke-width: 1.0;\"/><text fill=\"#000000\" font-family=\"sans-serif\" font-size=\"13\" lengthAdjust=\"spacingAndGlyphs\" textLength=\"64\" x=\"188\" y=\"215.7869\">«depend»</text></a><!--MD5=[b6cb371243d71f3117380fcdb5e877b8]\n",
       "@startuml\r\n",
       "skinparam ranksep 10\r\n",
       "skinparam rectangle {\r\n",
       " backgroundColor<<block>> LightGreen\r\n",
       "}\r\n",
       " \r\n",
       "package \"DependencyTest\" as E1  [[psysml:0f0f2110-3be1-453e-862d-cec3a7a71a7a ]]  {\r\n",
       "package \"System\" as E2  [[psysml:c508d22c-e466-4361-9854-fd4393e1e853 ]]  {\r\n",
       "package \"Application Layer\" as E3  [[psysml:a9507a9e-eb7a-4860-b8c9-7900feca47e0 ]]  {\r\n",
       "}\r\n",
       "package \"Service Layer\" as E4  [[psysml:709ed33a-9ff9-4f13-a4b1-f82f2d0ae0d9 ]]  {\r\n",
       "}\r\n",
       "package \"Data Layer\" as E5  [[psysml:babd67af-01b8-42b4-9186-2fee6f5cc047 ]]  {\r\n",
       "}\r\n",
       "}\r\n",
       "comp usage \"x \" as E6 << <<(U,orange) attribute>> [[psysml:2188fd29-8e87-4428-b2da-0b81f77b2176 ]] {\r\n",
       "}\r\n",
       "comp usage \"y \" as E7 << <<(U,orange) attribute>> [[psysml:b1dded97-ff7b-4726-be9f-c0b539bbd77d ]] {\r\n",
       "}\r\n",
       "comp usage \"z \" as E8 << <<(U,orange) attribute>> [[psysml:215a3247-a6dc-4d80-9cbe-6a95158331ec ]] {\r\n",
       "}\r\n",
       "}\r\n",
       "E1 ..> E2 [[psysml:8155982a-39d3-4776-bb66-97608c5c0d21 ]] : <<import>>*\r\n",
       "E3 ..>> E4 [[psysml:339645be-1a7b-490e-bb9e-fc7090e144b0 ]] : <<depend>>\r\n",
       "E4 ..>> E5 [[psysml:cd6419af-0f56-471f-8341-f3995db2a676 ]] : <<depend>>\r\n",
       "E8 ..>> E6 [[psysml:974879a0-be0c-4725-ba74-b00c4a2eaada ]] : <<depend>>\r\n",
       "E8 ..>> E7 [[psysml:974879a0-be0c-4725-ba74-b00c4a2eaada ]] : <<depend>>\r\n",
       "@enduml\r\n",
       "\n",
       "PlantUML version 1.2020.13(Sat Jun 13 12:26:38 UTC 2020)\n",
       "(EPL source distribution)\n",
       "Java Runtime: OpenJDK Runtime Environment\n",
       "JVM: OpenJDK 64-Bit Server VM\n",
       "Default Encoding: UTF-8\n",
       "Language: en\n",
       "Country: null\n",
       "--></g></svg>"
      ]
     },
     "execution_count": 33,
     "metadata": {},
     "output_type": "execute_result"
    }
   ],
   "source": [
    "%viz --style=\"PLANTUML\" --view=\"Interconnection\" \"DependencyTest\""
   ]
  },
  {
   "cell_type": "code",
   "execution_count": 34,
   "id": "e221fa65",
   "metadata": {
    "execution": {
     "iopub.execute_input": "2022-08-19T08:17:13.128238Z",
     "iopub.status.busy": "2022-08-19T08:17:13.127781Z",
     "iopub.status.idle": "2022-08-19T08:17:13.131081Z",
     "shell.execute_reply": "2022-08-19T08:17:13.130674Z"
    }
   },
   "outputs": [
    {
     "data": {
      "image/svg+xml": [
       "<?xml version=\"1.0\" encoding=\"UTF-8\" standalone=\"no\"?><svg xmlns=\"http://www.w3.org/2000/svg\" xmlns:xlink=\"http://www.w3.org/1999/xlink\" contentScriptType=\"application/ecmascript\" contentStyleType=\"text/css\" height=\"12px\" preserveAspectRatio=\"none\" style=\"width:12px;height:12px;\" version=\"1.1\" viewBox=\"0 0 12 12\" width=\"12px\" zoomAndPan=\"magnify\"><defs/><g><!--MD5=[6a4cb978cab31700e1ce5529f947a75d]\n",
       "@startuml\r\n",
       "skinparam ranksep 8\r\n",
       " \r\n",
       "@enduml\r\n",
       "\n",
       "PlantUML version 1.2020.13(Sat Jun 13 12:26:38 UTC 2020)\n",
       "(EPL source distribution)\n",
       "Java Runtime: OpenJDK Runtime Environment\n",
       "JVM: OpenJDK 64-Bit Server VM\n",
       "Default Encoding: UTF-8\n",
       "Language: en\n",
       "Country: null\n",
       "--></g></svg>"
      ]
     },
     "execution_count": 34,
     "metadata": {},
     "output_type": "execute_result"
    }
   ],
   "source": [
    "%viz --style=\"PLANTUML\" --view=\"Action\" \"DependencyTest\""
   ]
  },
  {
   "cell_type": "code",
   "execution_count": 35,
   "id": "655b295f",
   "metadata": {
    "execution": {
     "iopub.execute_input": "2022-08-19T08:17:13.180812Z",
     "iopub.status.busy": "2022-08-19T08:17:13.180358Z",
     "iopub.status.idle": "2022-08-19T08:17:13.184426Z",
     "shell.execute_reply": "2022-08-19T08:17:13.184044Z"
    }
   },
   "outputs": [
    {
     "data": {
      "image/svg+xml": [
       "<?xml version=\"1.0\" encoding=\"UTF-8\" standalone=\"no\"?><svg xmlns=\"http://www.w3.org/2000/svg\" xmlns:xlink=\"http://www.w3.org/1999/xlink\" contentScriptType=\"application/ecmascript\" contentStyleType=\"text/css\" height=\"12px\" preserveAspectRatio=\"none\" style=\"width:12px;height:12px;\" version=\"1.1\" viewBox=\"0 0 12 12\" width=\"12px\" zoomAndPan=\"magnify\"><defs/><g><!--MD5=[ca4faa0b02def275ea33c14ea7a1a98d]\n",
       "@startuml\r\n",
       "skinparam roundcorner 20\r\n",
       "skinparam BoxPadding 20\r\n",
       "skinparam SequenceBoxBackgroundColor #white\r\n",
       "skinparam style strictuml\r\n",
       "skinparam maxMessageSize 100\r\n",
       " \r\n",
       "@enduml\r\n",
       "\n",
       "PlantUML version 1.2020.13(Sat Jun 13 12:26:38 UTC 2020)\n",
       "(EPL source distribution)\n",
       "Java Runtime: OpenJDK Runtime Environment\n",
       "JVM: OpenJDK 64-Bit Server VM\n",
       "Default Encoding: UTF-8\n",
       "Language: en\n",
       "Country: null\n",
       "--></g></svg>"
      ]
     },
     "execution_count": 35,
     "metadata": {},
     "output_type": "execute_result"
    }
   ],
   "source": [
    "%viz --style=\"PLANTUML\" --view=\"Sequence\" \"DependencyTest\""
   ]
  },
  {
   "cell_type": "code",
   "execution_count": 36,
   "id": "81b15a5b",
   "metadata": {
    "execution": {
     "iopub.execute_input": "2022-08-19T08:17:13.234385Z",
     "iopub.status.busy": "2022-08-19T08:17:13.233916Z",
     "iopub.status.idle": "2022-08-19T08:17:13.270323Z",
     "shell.execute_reply": "2022-08-19T08:17:13.267651Z"
    }
   },
   "outputs": [
    {
     "data": {
      "image/svg+xml": [
       "<?xml version=\"1.0\" encoding=\"UTF-8\" standalone=\"no\"?><svg xmlns=\"http://www.w3.org/2000/svg\" xmlns:xlink=\"http://www.w3.org/1999/xlink\" contentScriptType=\"application/ecmascript\" contentStyleType=\"text/css\" height=\"552px\" preserveAspectRatio=\"none\" style=\"width:557px;height:552px;\" version=\"1.1\" viewBox=\"0 0 557 552\" width=\"557px\" zoomAndPan=\"magnify\"><defs><filter height=\"300%\" id=\"f1ry8guw4x5z30\" width=\"300%\" x=\"-1\" y=\"-1\"><feGaussianBlur result=\"blurOut\" stdDeviation=\"2.0\"/><feColorMatrix in=\"blurOut\" result=\"blurOut2\" type=\"matrix\" values=\"0 0 0 0 0 0 0 0 0 0 0 0 0 0 0 0 0 0 .4 0\"/><feOffset dx=\"4.0\" dy=\"4.0\" in=\"blurOut2\" result=\"blurOut3\"/><feBlend in=\"SourceGraphic\" in2=\"blurOut3\" mode=\"normal\"/></filter></defs><g><!--MD5=[fbc87193dbaf4d95561dea2c320d4a47]\n",
       "cluster E1--><a href=\"psysml:0f0f2110-3be1-453e-862d-cec3a7a71a7a\" target=\"_top\" title=\"psysml:0f0f2110-3be1-453e-862d-cec3a7a71a7a\" xlink:actuate=\"onRequest\" xlink:href=\"psysml:0f0f2110-3be1-453e-862d-cec3a7a71a7a\" xlink:show=\"new\" xlink:title=\"psysml:0f0f2110-3be1-453e-862d-cec3a7a71a7a\" xlink:type=\"simple\"><polygon fill=\"#FFFFFF\" filter=\"url(#f1ry8guw4x5z30)\" points=\"16,6,142,6,149,28.2969,535,28.2969,535,540.72,16,540.72,16,6\" style=\"stroke: #000000; stroke-width: 1.5;\"/><line style=\"stroke: #000000; stroke-width: 1.5;\" x1=\"16\" x2=\"149\" y1=\"28.2969\" y2=\"28.2969\"/><text fill=\"#000000\" font-family=\"sans-serif\" font-size=\"14\" font-weight=\"bold\" lengthAdjust=\"spacingAndGlyphs\" textLength=\"120\" x=\"20\" y=\"20.9951\">DependencyTest</text></a><!--MD5=[e4f7fae6ed58524ba242bb0b0d3be6b7]\n",
       "cluster E2--><a href=\"psysml:c508d22c-e466-4361-9854-fd4393e1e853\" target=\"_top\" title=\"psysml:c508d22c-e466-4361-9854-fd4393e1e853\" xlink:actuate=\"onRequest\" xlink:href=\"psysml:c508d22c-e466-4361-9854-fd4393e1e853\" xlink:show=\"new\" xlink:title=\"psysml:c508d22c-e466-4361-9854-fd4393e1e853\" xlink:type=\"simple\"><polygon fill=\"#FFFFFF\" filter=\"url(#f1ry8guw4x5z30)\" points=\"292,120.72,349,120.72,356,143.0169,495,143.0169,495,500.72,292,500.72,292,120.72\" style=\"stroke: #000000; stroke-width: 1.5;\"/><line style=\"stroke: #000000; stroke-width: 1.5;\" x1=\"292\" x2=\"356\" y1=\"143.0169\" y2=\"143.0169\"/><text fill=\"#000000\" font-family=\"sans-serif\" font-size=\"14\" font-weight=\"bold\" lengthAdjust=\"spacingAndGlyphs\" textLength=\"51\" x=\"296\" y=\"135.7151\">System</text></a><!--MD5=[60a26617385b1d2d0262a64233df1f8d]\n",
       "class E6--><a href=\"psysml:2188fd29-8e87-4428-b2da-0b81f77b2176\" target=\"_top\" title=\"psysml:2188fd29-8e87-4428-b2da-0b81f77b2176\" xlink:actuate=\"onRequest\" xlink:href=\"psysml:2188fd29-8e87-4428-b2da-0b81f77b2176\" xlink:show=\"new\" xlink:title=\"psysml:2188fd29-8e87-4428-b2da-0b81f77b2176\" xlink:type=\"simple\"><rect fill=\"#FEFECE\" filter=\"url(#f1ry8guw4x5z30)\" height=\"45.9375\" id=\"E6\" rx=\"10\" ry=\"10\" style=\"stroke: #A80036; stroke-width: 1.5;\" width=\"97\" x=\"39.5\" y=\"297.22\"/><ellipse cx=\"54.5\" cy=\"316.1888\" fill=\"#FFA500\" rx=\"11\" ry=\"11\" style=\"stroke: #A80036; stroke-width: 1.0;\"/><path d=\"M54.25,321.6575 Q52.5,321.6575 51.5469,320.6263 Q50.6094,319.5794 50.6094,317.7356 L50.6094,310.845 L52.6719,310.845 L52.6719,311.0013 Q52.5781,311.095 52.5469,311.2356 Q52.5313,311.3606 52.5313,311.6263 L52.5313,317.7513 Q52.5313,318.845 52.9063,319.47 Q53.2813,320.095 54.2656,320.095 Q55.25,320.095 55.6406,319.47 Q56.0313,318.845 56.0313,317.7044 L56.0313,310.845 L57.9063,310.845 L57.9063,317.6888 Q57.9063,319.72 56.875,320.6888 Q55.8594,321.6575 54.25,321.6575 Z \"/><text fill=\"#000000\" font-family=\"sans-serif\" font-size=\"12\" font-style=\"italic\" lengthAdjust=\"spacingAndGlyphs\" textLength=\"69\" x=\"66.5\" y=\"313.3587\">«attribute»</text><text fill=\"#000000\" font-family=\"sans-serif\" font-size=\"12\" lengthAdjust=\"spacingAndGlyphs\" textLength=\"6\" x=\"96\" y=\"327.3274\">x</text><line style=\"stroke: #A80036; stroke-width: 1.5;\" x1=\"40.5\" x2=\"135.5\" y1=\"335.1575\" y2=\"335.1575\"/></a><!--MD5=[2156ba9850f5573cc1fc38a6a4b2f02b]\n",
       "class E7--><a href=\"psysml:b1dded97-ff7b-4726-be9f-c0b539bbd77d\" target=\"_top\" title=\"psysml:b1dded97-ff7b-4726-be9f-c0b539bbd77d\" xlink:actuate=\"onRequest\" xlink:href=\"psysml:b1dded97-ff7b-4726-be9f-c0b539bbd77d\" xlink:show=\"new\" xlink:title=\"psysml:b1dded97-ff7b-4726-be9f-c0b539bbd77d\" xlink:type=\"simple\"><rect fill=\"#FEFECE\" filter=\"url(#f1ry8guw4x5z30)\" height=\"45.9375\" id=\"E7\" rx=\"10\" ry=\"10\" style=\"stroke: #A80036; stroke-width: 1.5;\" width=\"97\" x=\"171.5\" y=\"297.22\"/><ellipse cx=\"186.5\" cy=\"316.1888\" fill=\"#FFA500\" rx=\"11\" ry=\"11\" style=\"stroke: #A80036; stroke-width: 1.0;\"/><path d=\"M186.25,321.6575 Q184.5,321.6575 183.5469,320.6263 Q182.6094,319.5794 182.6094,317.7356 L182.6094,310.845 L184.6719,310.845 L184.6719,311.0013 Q184.5781,311.095 184.5469,311.2356 Q184.5313,311.3606 184.5313,311.6263 L184.5313,317.7513 Q184.5313,318.845 184.9063,319.47 Q185.2813,320.095 186.2656,320.095 Q187.25,320.095 187.6406,319.47 Q188.0313,318.845 188.0313,317.7044 L188.0313,310.845 L189.9063,310.845 L189.9063,317.6888 Q189.9063,319.72 188.875,320.6888 Q187.8594,321.6575 186.25,321.6575 Z \"/><text fill=\"#000000\" font-family=\"sans-serif\" font-size=\"12\" font-style=\"italic\" lengthAdjust=\"spacingAndGlyphs\" textLength=\"69\" x=\"198.5\" y=\"313.3587\">«attribute»</text><text fill=\"#000000\" font-family=\"sans-serif\" font-size=\"12\" lengthAdjust=\"spacingAndGlyphs\" textLength=\"6\" x=\"228\" y=\"327.3274\">y</text><line style=\"stroke: #A80036; stroke-width: 1.5;\" x1=\"172.5\" x2=\"267.5\" y1=\"335.1575\" y2=\"335.1575\"/></a><!--MD5=[b9389687b975829384b498ac4b7476b2]\n",
       "class E8--><a href=\"psysml:215a3247-a6dc-4d80-9cbe-6a95158331ec\" target=\"_top\" title=\"psysml:215a3247-a6dc-4d80-9cbe-6a95158331ec\" xlink:actuate=\"onRequest\" xlink:href=\"psysml:215a3247-a6dc-4d80-9cbe-6a95158331ec\" xlink:show=\"new\" xlink:title=\"psysml:215a3247-a6dc-4d80-9cbe-6a95158331ec\" xlink:type=\"simple\"><rect fill=\"#FEFECE\" filter=\"url(#f1ry8guw4x5z30)\" height=\"45.9375\" id=\"E8\" rx=\"10\" ry=\"10\" style=\"stroke: #A80036; stroke-width: 1.5;\" width=\"97\" x=\"92.5\" y=\"167.22\"/><ellipse cx=\"107.5\" cy=\"186.1888\" fill=\"#FFA500\" rx=\"11\" ry=\"11\" style=\"stroke: #A80036; stroke-width: 1.0;\"/><path d=\"M107.25,191.6575 Q105.5,191.6575 104.5469,190.6263 Q103.6094,189.5794 103.6094,187.7356 L103.6094,180.845 L105.6719,180.845 L105.6719,181.0013 Q105.5781,181.095 105.5469,181.2356 Q105.5313,181.3606 105.5313,181.6263 L105.5313,187.7513 Q105.5313,188.845 105.9063,189.47 Q106.2813,190.095 107.2656,190.095 Q108.25,190.095 108.6406,189.47 Q109.0313,188.845 109.0313,187.7044 L109.0313,180.845 L110.9063,180.845 L110.9063,187.6888 Q110.9063,189.72 109.875,190.6888 Q108.8594,191.6575 107.25,191.6575 Z \"/><text fill=\"#000000\" font-family=\"sans-serif\" font-size=\"12\" font-style=\"italic\" lengthAdjust=\"spacingAndGlyphs\" textLength=\"69\" x=\"119.5\" y=\"183.3587\">«attribute»</text><text fill=\"#000000\" font-family=\"sans-serif\" font-size=\"12\" lengthAdjust=\"spacingAndGlyphs\" textLength=\"5\" x=\"149.5\" y=\"197.3274\">z</text><line style=\"stroke: #A80036; stroke-width: 1.5;\" x1=\"93.5\" x2=\"188.5\" y1=\"205.1575\" y2=\"205.1575\"/></a><a href=\"psysml:a9507a9e-eb7a-4860-b8c9-7900feca47e0\" target=\"_top\" title=\"psysml:a9507a9e-eb7a-4860-b8c9-7900feca47e0\" xlink:actuate=\"onRequest\" xlink:href=\"psysml:a9507a9e-eb7a-4860-b8c9-7900feca47e0\" xlink:show=\"new\" xlink:title=\"psysml:a9507a9e-eb7a-4860-b8c9-7900feca47e0\" xlink:type=\"simple\"><polygon fill=\"#FFFFFF\" filter=\"url(#f1ry8guw4x5z30)\" points=\"335.5,163.72,456.5,163.72,463.5,186.0169,470.5,186.0169,470.5,216.3138,335.5,216.3138,335.5,163.72\" style=\"stroke: #000000; stroke-width: 1.5;\"/><line style=\"stroke: #000000; stroke-width: 1.5;\" x1=\"335.5\" x2=\"463.5\" y1=\"186.0169\" y2=\"186.0169\"/><text fill=\"#000000\" font-family=\"sans-serif\" font-size=\"14\" font-weight=\"bold\" lengthAdjust=\"spacingAndGlyphs\" textLength=\"115\" x=\"339.5\" y=\"178.7151\">Application Layer</text></a><a href=\"psysml:709ed33a-9ff9-4f13-a4b1-f82f2d0ae0d9\" target=\"_top\" title=\"psysml:709ed33a-9ff9-4f13-a4b1-f82f2d0ae0d9\" xlink:actuate=\"onRequest\" xlink:href=\"psysml:709ed33a-9ff9-4f13-a4b1-f82f2d0ae0d9\" xlink:show=\"new\" xlink:title=\"psysml:709ed33a-9ff9-4f13-a4b1-f82f2d0ae0d9\" xlink:type=\"simple\"><polygon fill=\"#FFFFFF\" filter=\"url(#f1ry8guw4x5z30)\" points=\"348,293.72,444,293.72,451,316.0169,458,316.0169,458,346.3138,348,346.3138,348,293.72\" style=\"stroke: #000000; stroke-width: 1.5;\"/><line style=\"stroke: #000000; stroke-width: 1.5;\" x1=\"348\" x2=\"451\" y1=\"316.0169\" y2=\"316.0169\"/><text fill=\"#000000\" font-family=\"sans-serif\" font-size=\"14\" font-weight=\"bold\" lengthAdjust=\"spacingAndGlyphs\" textLength=\"90\" x=\"352\" y=\"308.7151\">Service Layer</text></a><a href=\"psysml:babd67af-01b8-42b4-9186-2fee6f5cc047\" target=\"_top\" title=\"psysml:babd67af-01b8-42b4-9186-2fee6f5cc047\" xlink:actuate=\"onRequest\" xlink:href=\"psysml:babd67af-01b8-42b4-9186-2fee6f5cc047\" xlink:show=\"new\" xlink:title=\"psysml:babd67af-01b8-42b4-9186-2fee6f5cc047\" xlink:type=\"simple\"><polygon fill=\"#FFFFFF\" filter=\"url(#f1ry8guw4x5z30)\" points=\"357,423.72,435,423.72,442,446.0169,449,446.0169,449,476.3138,357,476.3138,357,423.72\" style=\"stroke: #000000; stroke-width: 1.5;\"/><line style=\"stroke: #000000; stroke-width: 1.5;\" x1=\"357\" x2=\"442\" y1=\"446.0169\" y2=\"446.0169\"/><text fill=\"#000000\" font-family=\"sans-serif\" font-size=\"14\" font-weight=\"bold\" lengthAdjust=\"spacingAndGlyphs\" textLength=\"72\" x=\"361\" y=\"438.7151\">Data Layer</text></a><!--MD5=[1f1cd8e6dd4c1b2ca2aaccc9b9bcea6e]\n",
       "link E1 to E2--><a href=\"psysml:8155982a-39d3-4776-bb66-97608c5c0d21\" target=\"_top\" title=\"psysml:8155982a-39d3-4776-bb66-97608c5c0d21\" xlink:actuate=\"onRequest\" xlink:href=\"psysml:8155982a-39d3-4776-bb66-97608c5c0d21\" xlink:show=\"new\" xlink:title=\"psysml:8155982a-39d3-4776-bb66-97608c5c0d21\" xlink:type=\"simple\"><path d=\"M300,33.83 C300,36.15 300,73.83 300,111.5 C300,113.8544 300,116.2087 300,118.5544 C300,119.1408 300,119.7267 300,120.3119 \" fill=\"none\" id=\"E1-&gt;E2\" style=\"stroke: #A80036; stroke-width: 1.0; stroke-dasharray: 7.0,7.0;\"/><polygon fill=\"#A80036\" points=\"300,120.3119,304,111.3119,300,115.3119,296,111.3119,300,120.3119\" style=\"stroke: #A80036; stroke-width: 1.0;\"/><text fill=\"#000000\" font-family=\"sans-serif\" font-size=\"13\" lengthAdjust=\"spacingAndGlyphs\" textLength=\"65\" x=\"301\" y=\"76.7869\">«import»*</text></a><!--MD5=[af87c684e3b0d8be13c1a698a818ef1e]\n",
       "link E3 to E4--><a href=\"psysml:339645be-1a7b-490e-bb9e-fc7090e144b0\" target=\"_top\" title=\"psysml:339645be-1a7b-490e-bb9e-fc7090e144b0\" xlink:actuate=\"onRequest\" xlink:href=\"psysml:339645be-1a7b-490e-bb9e-fc7090e144b0\" xlink:show=\"new\" xlink:title=\"psysml:339645be-1a7b-490e-bb9e-fc7090e144b0\" xlink:type=\"simple\"><path d=\"M403,216.82 C403,236.52 403,263.94 403,285.45 \" fill=\"none\" id=\"E3-&gt;E4\" style=\"stroke: #A80036; stroke-width: 1.0; stroke-dasharray: 7.0,7.0;\"/><polygon fill=\"#A80036\" points=\"403,293.67,406,285.67,400,285.67,403,293.67\" style=\"stroke: #A80036; stroke-width: 1.0;\"/><text fill=\"#000000\" font-family=\"sans-serif\" font-size=\"13\" lengthAdjust=\"spacingAndGlyphs\" textLength=\"64\" x=\"404\" y=\"259.7869\">«depend»</text></a><!--MD5=[1b7591eae5389033d8d09a9d6721a717]\n",
       "link E4 to E5--><a href=\"psysml:cd6419af-0f56-471f-8341-f3995db2a676\" target=\"_top\" title=\"psysml:cd6419af-0f56-471f-8341-f3995db2a676\" xlink:actuate=\"onRequest\" xlink:href=\"psysml:cd6419af-0f56-471f-8341-f3995db2a676\" xlink:show=\"new\" xlink:title=\"psysml:cd6419af-0f56-471f-8341-f3995db2a676\" xlink:type=\"simple\"><path d=\"M403,346.82 C403,366.52 403,393.94 403,415.45 \" fill=\"none\" id=\"E4-&gt;E5\" style=\"stroke: #A80036; stroke-width: 1.0; stroke-dasharray: 7.0,7.0;\"/><polygon fill=\"#A80036\" points=\"403,423.67,406,415.67,400,415.67,403,423.67\" style=\"stroke: #A80036; stroke-width: 1.0;\"/><text fill=\"#000000\" font-family=\"sans-serif\" font-size=\"13\" lengthAdjust=\"spacingAndGlyphs\" textLength=\"64\" x=\"404\" y=\"389.7869\">«depend»</text></a><!--MD5=[c5e8897d989ce984f93528998a7150fe]\n",
       "link E8 to E6--><a href=\"psysml:974879a0-be0c-4725-ba74-b00c4a2eaada\" target=\"_top\" title=\"psysml:974879a0-be0c-4725-ba74-b00c4a2eaada\" xlink:actuate=\"onRequest\" xlink:href=\"psysml:974879a0-be0c-4725-ba74-b00c4a2eaada\" xlink:show=\"new\" xlink:title=\"psysml:974879a0-be0c-4725-ba74-b00c4a2eaada\" xlink:type=\"simple\"><path d=\"M114.44,213.48 C105.3,222.73 96.09,234.23 91,246.72 C85.6,259.95 84.4,275.7 84.73,289.13 \" fill=\"none\" id=\"E8-&gt;E6\" style=\"stroke: #A80036; stroke-width: 1.0; stroke-dasharray: 7.0,7.0;\"/><polygon fill=\"#A80036\" points=\"85.12,297.15,87.7306,289.0146,81.7375,289.304,85.12,297.15\" style=\"stroke: #A80036; stroke-width: 1.0;\"/><text fill=\"#000000\" font-family=\"sans-serif\" font-size=\"13\" lengthAdjust=\"spacingAndGlyphs\" textLength=\"64\" x=\"92\" y=\"259.7869\">«depend»</text></a><!--MD5=[bfa3c8b0d15052fdf50ae9310b491027]\n",
       "link E8 to E7--><a href=\"psysml:974879a0-be0c-4725-ba74-b00c4a2eaada\" target=\"_top\" title=\"psysml:974879a0-be0c-4725-ba74-b00c4a2eaada\" xlink:actuate=\"onRequest\" xlink:href=\"psysml:974879a0-be0c-4725-ba74-b00c4a2eaada\" xlink:show=\"new\" xlink:title=\"psysml:974879a0-be0c-4725-ba74-b00c4a2eaada\" xlink:type=\"simple\"><path d=\"M154.58,213.22 C167.69,234.47 187.63,266.77 202.05,290.13 \" fill=\"none\" id=\"E8-&gt;E7\" style=\"stroke: #A80036; stroke-width: 1.0; stroke-dasharray: 7.0,7.0;\"/><polygon fill=\"#A80036\" points=\"206.33,297.07,204.6785,288.6871,199.5737,291.8401,206.33,297.07\" style=\"stroke: #A80036; stroke-width: 1.0;\"/><text fill=\"#000000\" font-family=\"sans-serif\" font-size=\"13\" lengthAdjust=\"spacingAndGlyphs\" textLength=\"64\" x=\"186\" y=\"259.7869\">«depend»</text></a><!--MD5=[69760f86bfc1b6c631b7e31d23db09b3]\n",
       "@startuml\r\n",
       " \r\n",
       "package \"DependencyTest\" as E1  [[psysml:0f0f2110-3be1-453e-862d-cec3a7a71a7a ]]  {\r\n",
       "package \"System\" as E2  [[psysml:c508d22c-e466-4361-9854-fd4393e1e853 ]]  {\r\n",
       "package \"Application Layer\" as E3  [[psysml:a9507a9e-eb7a-4860-b8c9-7900feca47e0 ]]  {\r\n",
       "}\r\n",
       "package \"Service Layer\" as E4  [[psysml:709ed33a-9ff9-4f13-a4b1-f82f2d0ae0d9 ]]  {\r\n",
       "}\r\n",
       "package \"Data Layer\" as E5  [[psysml:babd67af-01b8-42b4-9186-2fee6f5cc047 ]]  {\r\n",
       "}\r\n",
       "}\r\n",
       "comp usage \"x \" as E6 << <<(U,orange) attribute>> [[psysml:2188fd29-8e87-4428-b2da-0b81f77b2176 ]] {\r\n",
       "}\r\n",
       "comp usage \"y \" as E7 << <<(U,orange) attribute>> [[psysml:b1dded97-ff7b-4726-be9f-c0b539bbd77d ]] {\r\n",
       "}\r\n",
       "comp usage \"z \" as E8 << <<(U,orange) attribute>> [[psysml:215a3247-a6dc-4d80-9cbe-6a95158331ec ]] {\r\n",
       "}\r\n",
       "}\r\n",
       "E1 ..> E2 [[psysml:8155982a-39d3-4776-bb66-97608c5c0d21 ]] : <<import>>*\r\n",
       "E3 ..>> E4 [[psysml:339645be-1a7b-490e-bb9e-fc7090e144b0 ]] : <<depend>>\r\n",
       "E4 ..>> E5 [[psysml:cd6419af-0f56-471f-8341-f3995db2a676 ]] : <<depend>>\r\n",
       "E8 ..>> E6 [[psysml:974879a0-be0c-4725-ba74-b00c4a2eaada ]] : <<depend>>\r\n",
       "E8 ..>> E7 [[psysml:974879a0-be0c-4725-ba74-b00c4a2eaada ]] : <<depend>>\r\n",
       "@enduml\r\n",
       "\n",
       "PlantUML version 1.2020.13(Sat Jun 13 12:26:38 UTC 2020)\n",
       "(EPL source distribution)\n",
       "Java Runtime: OpenJDK Runtime Environment\n",
       "JVM: OpenJDK 64-Bit Server VM\n",
       "Default Encoding: UTF-8\n",
       "Language: en\n",
       "Country: null\n",
       "--></g></svg>"
      ]
     },
     "execution_count": 36,
     "metadata": {},
     "output_type": "execute_result"
    }
   ],
   "source": [
    "%viz --style=\"PLANTUML\" --view=\"MIXED\" \"DependencyTest\""
   ]
  },
  {
   "cell_type": "code",
   "execution_count": 37,
   "id": "e81081a4",
   "metadata": {
    "execution": {
     "iopub.execute_input": "2022-08-19T08:17:13.318496Z",
     "iopub.status.busy": "2022-08-19T08:17:13.318009Z",
     "iopub.status.idle": "2022-08-19T08:17:13.354168Z",
     "shell.execute_reply": "2022-08-19T08:17:13.353543Z"
    }
   },
   "outputs": [
    {
     "data": {
      "image/svg+xml": [
       "<?xml version=\"1.0\" encoding=\"UTF-8\" standalone=\"no\"?><svg xmlns=\"http://www.w3.org/2000/svg\" xmlns:xlink=\"http://www.w3.org/1999/xlink\" contentScriptType=\"application/ecmascript\" contentStyleType=\"text/css\" height=\"552px\" preserveAspectRatio=\"none\" style=\"width:536px;height:552px;\" version=\"1.1\" viewBox=\"0 0 536 552\" width=\"536px\" zoomAndPan=\"magnify\"><defs/><g><!--MD5=[fbc87193dbaf4d95561dea2c320d4a47]\n",
       "cluster E1--><a href=\"psysml:0f0f2110-3be1-453e-862d-cec3a7a71a7a\" target=\"_top\" title=\"psysml:0f0f2110-3be1-453e-862d-cec3a7a71a7a\" xlink:actuate=\"onRequest\" xlink:href=\"psysml:0f0f2110-3be1-453e-862d-cec3a7a71a7a\" xlink:show=\"new\" xlink:title=\"psysml:0f0f2110-3be1-453e-862d-cec3a7a71a7a\" xlink:type=\"simple\"><polygon fill=\"#FFFFFF\" points=\"16,6,142,6,149,28.2969,514,28.2969,514,540.72,16,540.72,16,6\" style=\"stroke: #000000; stroke-width: 1.5;\"/><line style=\"stroke: #000000; stroke-width: 1.5;\" x1=\"16\" x2=\"149\" y1=\"28.2969\" y2=\"28.2969\"/><text fill=\"#000000\" font-family=\"sans-serif\" font-size=\"14\" font-weight=\"bold\" lengthAdjust=\"spacingAndGlyphs\" textLength=\"120\" x=\"20\" y=\"20.9951\">DependencyTest</text></a><!--MD5=[e4f7fae6ed58524ba242bb0b0d3be6b7]\n",
       "cluster E2--><a href=\"psysml:c508d22c-e466-4361-9854-fd4393e1e853\" target=\"_top\" title=\"psysml:c508d22c-e466-4361-9854-fd4393e1e853\" xlink:actuate=\"onRequest\" xlink:href=\"psysml:c508d22c-e466-4361-9854-fd4393e1e853\" xlink:show=\"new\" xlink:title=\"psysml:c508d22c-e466-4361-9854-fd4393e1e853\" xlink:type=\"simple\"><polygon fill=\"#FFFFFF\" points=\"271,120.72,328,120.72,335,143.0169,474,143.0169,474,500.72,271,500.72,271,120.72\" style=\"stroke: #000000; stroke-width: 1.5;\"/><line style=\"stroke: #000000; stroke-width: 1.5;\" x1=\"271\" x2=\"335\" y1=\"143.0169\" y2=\"143.0169\"/><text fill=\"#000000\" font-family=\"sans-serif\" font-size=\"14\" font-weight=\"bold\" lengthAdjust=\"spacingAndGlyphs\" textLength=\"51\" x=\"275\" y=\"135.7151\">System</text></a><!--MD5=[60a26617385b1d2d0262a64233df1f8d]\n",
       "class E6--><a href=\"psysml:2188fd29-8e87-4428-b2da-0b81f77b2176\" target=\"_top\" title=\"psysml:2188fd29-8e87-4428-b2da-0b81f77b2176\" xlink:actuate=\"onRequest\" xlink:href=\"psysml:2188fd29-8e87-4428-b2da-0b81f77b2176\" xlink:show=\"new\" xlink:title=\"psysml:2188fd29-8e87-4428-b2da-0b81f77b2176\" xlink:type=\"simple\"><rect fill=\"#FFFFFF\" height=\"45.9375\" id=\"E6\" rx=\"10\" ry=\"10\" style=\"stroke: #383838; stroke-width: 1.5;\" width=\"71\" x=\"40.5\" y=\"297.22\"/><text fill=\"#000000\" font-family=\"sans-serif\" font-size=\"12\" font-style=\"italic\" lengthAdjust=\"spacingAndGlyphs\" textLength=\"69\" x=\"41.5\" y=\"313.3587\">«attribute»</text><text fill=\"#000000\" font-family=\"sans-serif\" font-size=\"12\" lengthAdjust=\"spacingAndGlyphs\" textLength=\"6\" x=\"71\" y=\"327.3274\">x</text><line style=\"stroke: #383838; stroke-width: 1.5;\" x1=\"41.5\" x2=\"110.5\" y1=\"335.1575\" y2=\"335.1575\"/></a><!--MD5=[2156ba9850f5573cc1fc38a6a4b2f02b]\n",
       "class E7--><a href=\"psysml:b1dded97-ff7b-4726-be9f-c0b539bbd77d\" target=\"_top\" title=\"psysml:b1dded97-ff7b-4726-be9f-c0b539bbd77d\" xlink:actuate=\"onRequest\" xlink:href=\"psysml:b1dded97-ff7b-4726-be9f-c0b539bbd77d\" xlink:show=\"new\" xlink:title=\"psysml:b1dded97-ff7b-4726-be9f-c0b539bbd77d\" xlink:type=\"simple\"><rect fill=\"#FFFFFF\" height=\"45.9375\" id=\"E7\" rx=\"10\" ry=\"10\" style=\"stroke: #383838; stroke-width: 1.5;\" width=\"71\" x=\"146.5\" y=\"297.22\"/><text fill=\"#000000\" font-family=\"sans-serif\" font-size=\"12\" font-style=\"italic\" lengthAdjust=\"spacingAndGlyphs\" textLength=\"69\" x=\"147.5\" y=\"313.3587\">«attribute»</text><text fill=\"#000000\" font-family=\"sans-serif\" font-size=\"12\" lengthAdjust=\"spacingAndGlyphs\" textLength=\"6\" x=\"177\" y=\"327.3274\">y</text><line style=\"stroke: #383838; stroke-width: 1.5;\" x1=\"147.5\" x2=\"216.5\" y1=\"335.1575\" y2=\"335.1575\"/></a><!--MD5=[b9389687b975829384b498ac4b7476b2]\n",
       "class E8--><a href=\"psysml:215a3247-a6dc-4d80-9cbe-6a95158331ec\" target=\"_top\" title=\"psysml:215a3247-a6dc-4d80-9cbe-6a95158331ec\" xlink:actuate=\"onRequest\" xlink:href=\"psysml:215a3247-a6dc-4d80-9cbe-6a95158331ec\" xlink:show=\"new\" xlink:title=\"psysml:215a3247-a6dc-4d80-9cbe-6a95158331ec\" xlink:type=\"simple\"><rect fill=\"#FFFFFF\" height=\"45.9375\" id=\"E8\" rx=\"10\" ry=\"10\" style=\"stroke: #383838; stroke-width: 1.5;\" width=\"71\" x=\"92.5\" y=\"167.22\"/><text fill=\"#000000\" font-family=\"sans-serif\" font-size=\"12\" font-style=\"italic\" lengthAdjust=\"spacingAndGlyphs\" textLength=\"69\" x=\"93.5\" y=\"183.3587\">«attribute»</text><text fill=\"#000000\" font-family=\"sans-serif\" font-size=\"12\" lengthAdjust=\"spacingAndGlyphs\" textLength=\"5\" x=\"123.5\" y=\"197.3274\">z</text><line style=\"stroke: #383838; stroke-width: 1.5;\" x1=\"93.5\" x2=\"162.5\" y1=\"205.1575\" y2=\"205.1575\"/></a><a href=\"psysml:a9507a9e-eb7a-4860-b8c9-7900feca47e0\" target=\"_top\" title=\"psysml:a9507a9e-eb7a-4860-b8c9-7900feca47e0\" xlink:actuate=\"onRequest\" xlink:href=\"psysml:a9507a9e-eb7a-4860-b8c9-7900feca47e0\" xlink:show=\"new\" xlink:title=\"psysml:a9507a9e-eb7a-4860-b8c9-7900feca47e0\" xlink:type=\"simple\"><polygon fill=\"#FFFFFF\" points=\"314.5,163.72,435.5,163.72,442.5,186.0169,449.5,186.0169,449.5,216.3138,314.5,216.3138,314.5,163.72\" style=\"stroke: #000000; stroke-width: 1.5;\"/><line style=\"stroke: #000000; stroke-width: 1.5;\" x1=\"314.5\" x2=\"442.5\" y1=\"186.0169\" y2=\"186.0169\"/><text fill=\"#000000\" font-family=\"sans-serif\" font-size=\"14\" font-weight=\"bold\" lengthAdjust=\"spacingAndGlyphs\" textLength=\"115\" x=\"318.5\" y=\"178.7151\">Application Layer</text></a><a href=\"psysml:709ed33a-9ff9-4f13-a4b1-f82f2d0ae0d9\" target=\"_top\" title=\"psysml:709ed33a-9ff9-4f13-a4b1-f82f2d0ae0d9\" xlink:actuate=\"onRequest\" xlink:href=\"psysml:709ed33a-9ff9-4f13-a4b1-f82f2d0ae0d9\" xlink:show=\"new\" xlink:title=\"psysml:709ed33a-9ff9-4f13-a4b1-f82f2d0ae0d9\" xlink:type=\"simple\"><polygon fill=\"#FFFFFF\" points=\"327,293.72,423,293.72,430,316.0169,437,316.0169,437,346.3138,327,346.3138,327,293.72\" style=\"stroke: #000000; stroke-width: 1.5;\"/><line style=\"stroke: #000000; stroke-width: 1.5;\" x1=\"327\" x2=\"430\" y1=\"316.0169\" y2=\"316.0169\"/><text fill=\"#000000\" font-family=\"sans-serif\" font-size=\"14\" font-weight=\"bold\" lengthAdjust=\"spacingAndGlyphs\" textLength=\"90\" x=\"331\" y=\"308.7151\">Service Layer</text></a><a href=\"psysml:babd67af-01b8-42b4-9186-2fee6f5cc047\" target=\"_top\" title=\"psysml:babd67af-01b8-42b4-9186-2fee6f5cc047\" xlink:actuate=\"onRequest\" xlink:href=\"psysml:babd67af-01b8-42b4-9186-2fee6f5cc047\" xlink:show=\"new\" xlink:title=\"psysml:babd67af-01b8-42b4-9186-2fee6f5cc047\" xlink:type=\"simple\"><polygon fill=\"#FFFFFF\" points=\"336,423.72,414,423.72,421,446.0169,428,446.0169,428,476.3138,336,476.3138,336,423.72\" style=\"stroke: #000000; stroke-width: 1.5;\"/><line style=\"stroke: #000000; stroke-width: 1.5;\" x1=\"336\" x2=\"421\" y1=\"446.0169\" y2=\"446.0169\"/><text fill=\"#000000\" font-family=\"sans-serif\" font-size=\"14\" font-weight=\"bold\" lengthAdjust=\"spacingAndGlyphs\" textLength=\"72\" x=\"340\" y=\"438.7151\">Data Layer</text></a><!--MD5=[1f1cd8e6dd4c1b2ca2aaccc9b9bcea6e]\n",
       "link E1 to E2--><a href=\"psysml:8155982a-39d3-4776-bb66-97608c5c0d21\" target=\"_top\" title=\"psysml:8155982a-39d3-4776-bb66-97608c5c0d21\" xlink:actuate=\"onRequest\" xlink:href=\"psysml:8155982a-39d3-4776-bb66-97608c5c0d21\" xlink:show=\"new\" xlink:title=\"psysml:8155982a-39d3-4776-bb66-97608c5c0d21\" xlink:type=\"simple\"><path d=\"M279,33.83 C279,36.15 279,73.83 279,111.5 C279,113.8544 279,116.2087 279,118.5544 C279,119.1408 279,119.7267 279,120.3119 \" fill=\"none\" id=\"E1-&gt;E2\" style=\"stroke: #383838; stroke-width: 1.0; stroke-dasharray: 7.0,7.0;\"/><polygon fill=\"#383838\" points=\"279,120.3119,283,111.3119,279,115.3119,275,111.3119,279,120.3119\" style=\"stroke: #383838; stroke-width: 1.0;\"/><text fill=\"#000000\" font-family=\"sans-serif\" font-size=\"13\" lengthAdjust=\"spacingAndGlyphs\" textLength=\"65\" x=\"280\" y=\"76.7869\">«import»*</text></a><!--MD5=[af87c684e3b0d8be13c1a698a818ef1e]\n",
       "link E3 to E4--><a href=\"psysml:339645be-1a7b-490e-bb9e-fc7090e144b0\" target=\"_top\" title=\"psysml:339645be-1a7b-490e-bb9e-fc7090e144b0\" xlink:actuate=\"onRequest\" xlink:href=\"psysml:339645be-1a7b-490e-bb9e-fc7090e144b0\" xlink:show=\"new\" xlink:title=\"psysml:339645be-1a7b-490e-bb9e-fc7090e144b0\" xlink:type=\"simple\"><path d=\"M382,216.82 C382,236.52 382,263.94 382,285.45 \" fill=\"none\" id=\"E3-&gt;E4\" style=\"stroke: #383838; stroke-width: 1.0; stroke-dasharray: 7.0,7.0;\"/><polygon fill=\"#383838\" points=\"382,293.67,385,285.67,379,285.67,382,293.67\" style=\"stroke: #383838; stroke-width: 1.0;\"/><text fill=\"#000000\" font-family=\"sans-serif\" font-size=\"13\" lengthAdjust=\"spacingAndGlyphs\" textLength=\"64\" x=\"383\" y=\"259.7869\">«depend»</text></a><!--MD5=[1b7591eae5389033d8d09a9d6721a717]\n",
       "link E4 to E5--><a href=\"psysml:cd6419af-0f56-471f-8341-f3995db2a676\" target=\"_top\" title=\"psysml:cd6419af-0f56-471f-8341-f3995db2a676\" xlink:actuate=\"onRequest\" xlink:href=\"psysml:cd6419af-0f56-471f-8341-f3995db2a676\" xlink:show=\"new\" xlink:title=\"psysml:cd6419af-0f56-471f-8341-f3995db2a676\" xlink:type=\"simple\"><path d=\"M382,346.82 C382,366.52 382,393.94 382,415.45 \" fill=\"none\" id=\"E4-&gt;E5\" style=\"stroke: #383838; stroke-width: 1.0; stroke-dasharray: 7.0,7.0;\"/><polygon fill=\"#383838\" points=\"382,423.67,385,415.67,379,415.67,382,423.67\" style=\"stroke: #383838; stroke-width: 1.0;\"/><text fill=\"#000000\" font-family=\"sans-serif\" font-size=\"13\" lengthAdjust=\"spacingAndGlyphs\" textLength=\"64\" x=\"383\" y=\"389.7869\">«depend»</text></a><!--MD5=[c5e8897d989ce984f93528998a7150fe]\n",
       "link E8 to E6--><a href=\"psysml:974879a0-be0c-4725-ba74-b00c4a2eaada\" target=\"_top\" title=\"psysml:974879a0-be0c-4725-ba74-b00c4a2eaada\" xlink:actuate=\"onRequest\" xlink:href=\"psysml:974879a0-be0c-4725-ba74-b00c4a2eaada\" xlink:show=\"new\" xlink:title=\"psysml:974879a0-be0c-4725-ba74-b00c4a2eaada\" xlink:type=\"simple\"><path d=\"M97.42,213.32 C87.35,222.4 77.37,233.83 72,246.72 C66.5,259.92 66.66,275.66 68.54,289.1 \" fill=\"none\" id=\"E8-&gt;E6\" style=\"stroke: #383838; stroke-width: 1.0; stroke-dasharray: 7.0,7.0;\"/><polygon fill=\"#383838\" points=\"69.9,297.12,71.517,288.7304,65.6018,289.7359,69.9,297.12\" style=\"stroke: #383838; stroke-width: 1.0;\"/><text fill=\"#000000\" font-family=\"sans-serif\" font-size=\"13\" lengthAdjust=\"spacingAndGlyphs\" textLength=\"64\" x=\"73\" y=\"259.7869\">«depend»</text></a><!--MD5=[bfa3c8b0d15052fdf50ae9310b491027]\n",
       "link E8 to E7--><a href=\"psysml:974879a0-be0c-4725-ba74-b00c4a2eaada\" target=\"_top\" title=\"psysml:974879a0-be0c-4725-ba74-b00c4a2eaada\" xlink:actuate=\"onRequest\" xlink:href=\"psysml:974879a0-be0c-4725-ba74-b00c4a2eaada\" xlink:show=\"new\" xlink:title=\"psysml:974879a0-be0c-4725-ba74-b00c4a2eaada\" xlink:type=\"simple\"><path d=\"M137.28,213.22 C146.17,234.29 159.64,266.22 169.47,289.53 \" fill=\"none\" id=\"E8-&gt;E7\" style=\"stroke: #383838; stroke-width: 1.0; stroke-dasharray: 7.0,7.0;\"/><polygon fill=\"#383838\" points=\"172.66,297.07,172.3241,288.5326,166.7933,290.8585,172.66,297.07\" style=\"stroke: #383838; stroke-width: 1.0;\"/><text fill=\"#000000\" font-family=\"sans-serif\" font-size=\"13\" lengthAdjust=\"spacingAndGlyphs\" textLength=\"64\" x=\"159\" y=\"259.7869\">«depend»</text></a><!--MD5=[8a2a94c6cf3eed073e5190e2a85e9b2d]\n",
       "@startuml\r\n",
       "skinparam monochrome true\r\n",
       "skinparam classbackgroundcolor white\r\n",
       "skinparam shadowing false\r\n",
       "skinparam wrapWidth 300\r\n",
       "hide circle\r\n",
       "\r\n",
       "package \"DependencyTest\" as E1  [[psysml:0f0f2110-3be1-453e-862d-cec3a7a71a7a ]]  {\r\n",
       "package \"System\" as E2  [[psysml:c508d22c-e466-4361-9854-fd4393e1e853 ]]  {\r\n",
       "package \"Application Layer\" as E3  [[psysml:a9507a9e-eb7a-4860-b8c9-7900feca47e0 ]]  {\r\n",
       "}\r\n",
       "package \"Service Layer\" as E4  [[psysml:709ed33a-9ff9-4f13-a4b1-f82f2d0ae0d9 ]]  {\r\n",
       "}\r\n",
       "package \"Data Layer\" as E5  [[psysml:babd67af-01b8-42b4-9186-2fee6f5cc047 ]]  {\r\n",
       "}\r\n",
       "}\r\n",
       "comp usage \"x \" as E6  <<(T,blue) attribute>> [[psysml:2188fd29-8e87-4428-b2da-0b81f77b2176 ]] {\r\n",
       "}\r\n",
       "comp usage \"y \" as E7  <<(T,blue) attribute>> [[psysml:b1dded97-ff7b-4726-be9f-c0b539bbd77d ]] {\r\n",
       "}\r\n",
       "comp usage \"z \" as E8  <<(T,blue) attribute>> [[psysml:215a3247-a6dc-4d80-9cbe-6a95158331ec ]] {\r\n",
       "}\r\n",
       "}\r\n",
       "E1 ..> E2 [[psysml:8155982a-39d3-4776-bb66-97608c5c0d21 ]] : <<import>>*\r\n",
       "E3 ..>> E4 [[psysml:339645be-1a7b-490e-bb9e-fc7090e144b0 ]] : <<depend>>\r\n",
       "E4 ..>> E5 [[psysml:cd6419af-0f56-471f-8341-f3995db2a676 ]] : <<depend>>\r\n",
       "E8 ..>> E6 [[psysml:974879a0-be0c-4725-ba74-b00c4a2eaada ]] : <<depend>>\r\n",
       "E8 ..>> E7 [[psysml:974879a0-be0c-4725-ba74-b00c4a2eaada ]] : <<depend>>\r\n",
       "@enduml\r\n",
       "\n",
       "PlantUML version 1.2020.13(Sat Jun 13 12:26:38 UTC 2020)\n",
       "(EPL source distribution)\n",
       "Java Runtime: OpenJDK Runtime Environment\n",
       "JVM: OpenJDK 64-Bit Server VM\n",
       "Default Encoding: UTF-8\n",
       "Language: en\n",
       "Country: null\n",
       "--></g></svg>"
      ]
     },
     "execution_count": 37,
     "metadata": {},
     "output_type": "execute_result"
    }
   ],
   "source": [
    "%viz --style=\"DEFAULT\" --view=\"Default\" \"DependencyTest\""
   ]
  },
  {
   "cell_type": "code",
   "execution_count": 38,
   "id": "c753c5a3",
   "metadata": {
    "execution": {
     "iopub.execute_input": "2022-08-19T08:17:13.402862Z",
     "iopub.status.busy": "2022-08-19T08:17:13.402369Z",
     "iopub.status.idle": "2022-08-19T08:17:13.437869Z",
     "shell.execute_reply": "2022-08-19T08:17:13.437434Z"
    }
   },
   "outputs": [
    {
     "data": {
      "image/svg+xml": [
       "<?xml version=\"1.0\" encoding=\"UTF-8\" standalone=\"no\"?><svg xmlns=\"http://www.w3.org/2000/svg\" xmlns:xlink=\"http://www.w3.org/1999/xlink\" contentScriptType=\"application/ecmascript\" contentStyleType=\"text/css\" height=\"552px\" preserveAspectRatio=\"none\" style=\"width:536px;height:552px;\" version=\"1.1\" viewBox=\"0 0 536 552\" width=\"536px\" zoomAndPan=\"magnify\"><defs/><g><!--MD5=[fbc87193dbaf4d95561dea2c320d4a47]\n",
       "cluster E1--><a href=\"psysml:0f0f2110-3be1-453e-862d-cec3a7a71a7a\" target=\"_top\" title=\"psysml:0f0f2110-3be1-453e-862d-cec3a7a71a7a\" xlink:actuate=\"onRequest\" xlink:href=\"psysml:0f0f2110-3be1-453e-862d-cec3a7a71a7a\" xlink:show=\"new\" xlink:title=\"psysml:0f0f2110-3be1-453e-862d-cec3a7a71a7a\" xlink:type=\"simple\"><polygon fill=\"#FFFFFF\" points=\"16,6,142,6,149,28.2969,514,28.2969,514,540.72,16,540.72,16,6\" style=\"stroke: #000000; stroke-width: 1.5;\"/><line style=\"stroke: #000000; stroke-width: 1.5;\" x1=\"16\" x2=\"149\" y1=\"28.2969\" y2=\"28.2969\"/><text fill=\"#000000\" font-family=\"sans-serif\" font-size=\"14\" font-weight=\"bold\" lengthAdjust=\"spacingAndGlyphs\" textLength=\"120\" x=\"20\" y=\"20.9951\">DependencyTest</text></a><!--MD5=[e4f7fae6ed58524ba242bb0b0d3be6b7]\n",
       "cluster E2--><a href=\"psysml:c508d22c-e466-4361-9854-fd4393e1e853\" target=\"_top\" title=\"psysml:c508d22c-e466-4361-9854-fd4393e1e853\" xlink:actuate=\"onRequest\" xlink:href=\"psysml:c508d22c-e466-4361-9854-fd4393e1e853\" xlink:show=\"new\" xlink:title=\"psysml:c508d22c-e466-4361-9854-fd4393e1e853\" xlink:type=\"simple\"><polygon fill=\"#FFFFFF\" points=\"271,120.72,328,120.72,335,143.0169,474,143.0169,474,500.72,271,500.72,271,120.72\" style=\"stroke: #000000; stroke-width: 1.5;\"/><line style=\"stroke: #000000; stroke-width: 1.5;\" x1=\"271\" x2=\"335\" y1=\"143.0169\" y2=\"143.0169\"/><text fill=\"#000000\" font-family=\"sans-serif\" font-size=\"14\" font-weight=\"bold\" lengthAdjust=\"spacingAndGlyphs\" textLength=\"51\" x=\"275\" y=\"135.7151\">System</text></a><!--MD5=[60a26617385b1d2d0262a64233df1f8d]\n",
       "class E6--><a href=\"psysml:2188fd29-8e87-4428-b2da-0b81f77b2176\" target=\"_top\" title=\"psysml:2188fd29-8e87-4428-b2da-0b81f77b2176\" xlink:actuate=\"onRequest\" xlink:href=\"psysml:2188fd29-8e87-4428-b2da-0b81f77b2176\" xlink:show=\"new\" xlink:title=\"psysml:2188fd29-8e87-4428-b2da-0b81f77b2176\" xlink:type=\"simple\"><rect fill=\"#FFFFFF\" height=\"45.9375\" id=\"E6\" rx=\"10\" ry=\"10\" style=\"stroke: #383838; stroke-width: 1.5;\" width=\"71\" x=\"40.5\" y=\"297.22\"/><text fill=\"#000000\" font-family=\"sans-serif\" font-size=\"12\" font-style=\"italic\" lengthAdjust=\"spacingAndGlyphs\" textLength=\"69\" x=\"41.5\" y=\"313.3587\">«attribute»</text><text fill=\"#000000\" font-family=\"sans-serif\" font-size=\"12\" lengthAdjust=\"spacingAndGlyphs\" textLength=\"6\" x=\"71\" y=\"327.3274\">x</text><line style=\"stroke: #383838; stroke-width: 1.5;\" x1=\"41.5\" x2=\"110.5\" y1=\"335.1575\" y2=\"335.1575\"/></a><!--MD5=[2156ba9850f5573cc1fc38a6a4b2f02b]\n",
       "class E7--><a href=\"psysml:b1dded97-ff7b-4726-be9f-c0b539bbd77d\" target=\"_top\" title=\"psysml:b1dded97-ff7b-4726-be9f-c0b539bbd77d\" xlink:actuate=\"onRequest\" xlink:href=\"psysml:b1dded97-ff7b-4726-be9f-c0b539bbd77d\" xlink:show=\"new\" xlink:title=\"psysml:b1dded97-ff7b-4726-be9f-c0b539bbd77d\" xlink:type=\"simple\"><rect fill=\"#FFFFFF\" height=\"45.9375\" id=\"E7\" rx=\"10\" ry=\"10\" style=\"stroke: #383838; stroke-width: 1.5;\" width=\"71\" x=\"146.5\" y=\"297.22\"/><text fill=\"#000000\" font-family=\"sans-serif\" font-size=\"12\" font-style=\"italic\" lengthAdjust=\"spacingAndGlyphs\" textLength=\"69\" x=\"147.5\" y=\"313.3587\">«attribute»</text><text fill=\"#000000\" font-family=\"sans-serif\" font-size=\"12\" lengthAdjust=\"spacingAndGlyphs\" textLength=\"6\" x=\"177\" y=\"327.3274\">y</text><line style=\"stroke: #383838; stroke-width: 1.5;\" x1=\"147.5\" x2=\"216.5\" y1=\"335.1575\" y2=\"335.1575\"/></a><!--MD5=[b9389687b975829384b498ac4b7476b2]\n",
       "class E8--><a href=\"psysml:215a3247-a6dc-4d80-9cbe-6a95158331ec\" target=\"_top\" title=\"psysml:215a3247-a6dc-4d80-9cbe-6a95158331ec\" xlink:actuate=\"onRequest\" xlink:href=\"psysml:215a3247-a6dc-4d80-9cbe-6a95158331ec\" xlink:show=\"new\" xlink:title=\"psysml:215a3247-a6dc-4d80-9cbe-6a95158331ec\" xlink:type=\"simple\"><rect fill=\"#FFFFFF\" height=\"45.9375\" id=\"E8\" rx=\"10\" ry=\"10\" style=\"stroke: #383838; stroke-width: 1.5;\" width=\"71\" x=\"92.5\" y=\"167.22\"/><text fill=\"#000000\" font-family=\"sans-serif\" font-size=\"12\" font-style=\"italic\" lengthAdjust=\"spacingAndGlyphs\" textLength=\"69\" x=\"93.5\" y=\"183.3587\">«attribute»</text><text fill=\"#000000\" font-family=\"sans-serif\" font-size=\"12\" lengthAdjust=\"spacingAndGlyphs\" textLength=\"5\" x=\"123.5\" y=\"197.3274\">z</text><line style=\"stroke: #383838; stroke-width: 1.5;\" x1=\"93.5\" x2=\"162.5\" y1=\"205.1575\" y2=\"205.1575\"/></a><a href=\"psysml:a9507a9e-eb7a-4860-b8c9-7900feca47e0\" target=\"_top\" title=\"psysml:a9507a9e-eb7a-4860-b8c9-7900feca47e0\" xlink:actuate=\"onRequest\" xlink:href=\"psysml:a9507a9e-eb7a-4860-b8c9-7900feca47e0\" xlink:show=\"new\" xlink:title=\"psysml:a9507a9e-eb7a-4860-b8c9-7900feca47e0\" xlink:type=\"simple\"><polygon fill=\"#FFFFFF\" points=\"314.5,163.72,435.5,163.72,442.5,186.0169,449.5,186.0169,449.5,216.3138,314.5,216.3138,314.5,163.72\" style=\"stroke: #000000; stroke-width: 1.5;\"/><line style=\"stroke: #000000; stroke-width: 1.5;\" x1=\"314.5\" x2=\"442.5\" y1=\"186.0169\" y2=\"186.0169\"/><text fill=\"#000000\" font-family=\"sans-serif\" font-size=\"14\" font-weight=\"bold\" lengthAdjust=\"spacingAndGlyphs\" textLength=\"115\" x=\"318.5\" y=\"178.7151\">Application Layer</text></a><a href=\"psysml:709ed33a-9ff9-4f13-a4b1-f82f2d0ae0d9\" target=\"_top\" title=\"psysml:709ed33a-9ff9-4f13-a4b1-f82f2d0ae0d9\" xlink:actuate=\"onRequest\" xlink:href=\"psysml:709ed33a-9ff9-4f13-a4b1-f82f2d0ae0d9\" xlink:show=\"new\" xlink:title=\"psysml:709ed33a-9ff9-4f13-a4b1-f82f2d0ae0d9\" xlink:type=\"simple\"><polygon fill=\"#FFFFFF\" points=\"327,293.72,423,293.72,430,316.0169,437,316.0169,437,346.3138,327,346.3138,327,293.72\" style=\"stroke: #000000; stroke-width: 1.5;\"/><line style=\"stroke: #000000; stroke-width: 1.5;\" x1=\"327\" x2=\"430\" y1=\"316.0169\" y2=\"316.0169\"/><text fill=\"#000000\" font-family=\"sans-serif\" font-size=\"14\" font-weight=\"bold\" lengthAdjust=\"spacingAndGlyphs\" textLength=\"90\" x=\"331\" y=\"308.7151\">Service Layer</text></a><a href=\"psysml:babd67af-01b8-42b4-9186-2fee6f5cc047\" target=\"_top\" title=\"psysml:babd67af-01b8-42b4-9186-2fee6f5cc047\" xlink:actuate=\"onRequest\" xlink:href=\"psysml:babd67af-01b8-42b4-9186-2fee6f5cc047\" xlink:show=\"new\" xlink:title=\"psysml:babd67af-01b8-42b4-9186-2fee6f5cc047\" xlink:type=\"simple\"><polygon fill=\"#FFFFFF\" points=\"336,423.72,414,423.72,421,446.0169,428,446.0169,428,476.3138,336,476.3138,336,423.72\" style=\"stroke: #000000; stroke-width: 1.5;\"/><line style=\"stroke: #000000; stroke-width: 1.5;\" x1=\"336\" x2=\"421\" y1=\"446.0169\" y2=\"446.0169\"/><text fill=\"#000000\" font-family=\"sans-serif\" font-size=\"14\" font-weight=\"bold\" lengthAdjust=\"spacingAndGlyphs\" textLength=\"72\" x=\"340\" y=\"438.7151\">Data Layer</text></a><!--MD5=[1f1cd8e6dd4c1b2ca2aaccc9b9bcea6e]\n",
       "link E1 to E2--><a href=\"psysml:8155982a-39d3-4776-bb66-97608c5c0d21\" target=\"_top\" title=\"psysml:8155982a-39d3-4776-bb66-97608c5c0d21\" xlink:actuate=\"onRequest\" xlink:href=\"psysml:8155982a-39d3-4776-bb66-97608c5c0d21\" xlink:show=\"new\" xlink:title=\"psysml:8155982a-39d3-4776-bb66-97608c5c0d21\" xlink:type=\"simple\"><path d=\"M279,33.83 C279,36.15 279,73.83 279,111.5 C279,113.8544 279,116.2087 279,118.5544 C279,119.1408 279,119.7267 279,120.3119 \" fill=\"none\" id=\"E1-&gt;E2\" style=\"stroke: #383838; stroke-width: 1.0; stroke-dasharray: 7.0,7.0;\"/><polygon fill=\"#383838\" points=\"279,120.3119,283,111.3119,279,115.3119,275,111.3119,279,120.3119\" style=\"stroke: #383838; stroke-width: 1.0;\"/><text fill=\"#000000\" font-family=\"sans-serif\" font-size=\"13\" lengthAdjust=\"spacingAndGlyphs\" textLength=\"65\" x=\"280\" y=\"76.7869\">«import»*</text></a><!--MD5=[af87c684e3b0d8be13c1a698a818ef1e]\n",
       "link E3 to E4--><a href=\"psysml:339645be-1a7b-490e-bb9e-fc7090e144b0\" target=\"_top\" title=\"psysml:339645be-1a7b-490e-bb9e-fc7090e144b0\" xlink:actuate=\"onRequest\" xlink:href=\"psysml:339645be-1a7b-490e-bb9e-fc7090e144b0\" xlink:show=\"new\" xlink:title=\"psysml:339645be-1a7b-490e-bb9e-fc7090e144b0\" xlink:type=\"simple\"><path d=\"M382,216.82 C382,236.52 382,263.94 382,285.45 \" fill=\"none\" id=\"E3-&gt;E4\" style=\"stroke: #383838; stroke-width: 1.0; stroke-dasharray: 7.0,7.0;\"/><polygon fill=\"#383838\" points=\"382,293.67,385,285.67,379,285.67,382,293.67\" style=\"stroke: #383838; stroke-width: 1.0;\"/><text fill=\"#000000\" font-family=\"sans-serif\" font-size=\"13\" lengthAdjust=\"spacingAndGlyphs\" textLength=\"64\" x=\"383\" y=\"259.7869\">«depend»</text></a><!--MD5=[1b7591eae5389033d8d09a9d6721a717]\n",
       "link E4 to E5--><a href=\"psysml:cd6419af-0f56-471f-8341-f3995db2a676\" target=\"_top\" title=\"psysml:cd6419af-0f56-471f-8341-f3995db2a676\" xlink:actuate=\"onRequest\" xlink:href=\"psysml:cd6419af-0f56-471f-8341-f3995db2a676\" xlink:show=\"new\" xlink:title=\"psysml:cd6419af-0f56-471f-8341-f3995db2a676\" xlink:type=\"simple\"><path d=\"M382,346.82 C382,366.52 382,393.94 382,415.45 \" fill=\"none\" id=\"E4-&gt;E5\" style=\"stroke: #383838; stroke-width: 1.0; stroke-dasharray: 7.0,7.0;\"/><polygon fill=\"#383838\" points=\"382,423.67,385,415.67,379,415.67,382,423.67\" style=\"stroke: #383838; stroke-width: 1.0;\"/><text fill=\"#000000\" font-family=\"sans-serif\" font-size=\"13\" lengthAdjust=\"spacingAndGlyphs\" textLength=\"64\" x=\"383\" y=\"389.7869\">«depend»</text></a><!--MD5=[c5e8897d989ce984f93528998a7150fe]\n",
       "link E8 to E6--><a href=\"psysml:974879a0-be0c-4725-ba74-b00c4a2eaada\" target=\"_top\" title=\"psysml:974879a0-be0c-4725-ba74-b00c4a2eaada\" xlink:actuate=\"onRequest\" xlink:href=\"psysml:974879a0-be0c-4725-ba74-b00c4a2eaada\" xlink:show=\"new\" xlink:title=\"psysml:974879a0-be0c-4725-ba74-b00c4a2eaada\" xlink:type=\"simple\"><path d=\"M97.42,213.32 C87.35,222.4 77.37,233.83 72,246.72 C66.5,259.92 66.66,275.66 68.54,289.1 \" fill=\"none\" id=\"E8-&gt;E6\" style=\"stroke: #383838; stroke-width: 1.0; stroke-dasharray: 7.0,7.0;\"/><polygon fill=\"#383838\" points=\"69.9,297.12,71.517,288.7304,65.6018,289.7359,69.9,297.12\" style=\"stroke: #383838; stroke-width: 1.0;\"/><text fill=\"#000000\" font-family=\"sans-serif\" font-size=\"13\" lengthAdjust=\"spacingAndGlyphs\" textLength=\"64\" x=\"73\" y=\"259.7869\">«depend»</text></a><!--MD5=[bfa3c8b0d15052fdf50ae9310b491027]\n",
       "link E8 to E7--><a href=\"psysml:974879a0-be0c-4725-ba74-b00c4a2eaada\" target=\"_top\" title=\"psysml:974879a0-be0c-4725-ba74-b00c4a2eaada\" xlink:actuate=\"onRequest\" xlink:href=\"psysml:974879a0-be0c-4725-ba74-b00c4a2eaada\" xlink:show=\"new\" xlink:title=\"psysml:974879a0-be0c-4725-ba74-b00c4a2eaada\" xlink:type=\"simple\"><path d=\"M137.28,213.22 C146.17,234.29 159.64,266.22 169.47,289.53 \" fill=\"none\" id=\"E8-&gt;E7\" style=\"stroke: #383838; stroke-width: 1.0; stroke-dasharray: 7.0,7.0;\"/><polygon fill=\"#383838\" points=\"172.66,297.07,172.3241,288.5326,166.7933,290.8585,172.66,297.07\" style=\"stroke: #383838; stroke-width: 1.0;\"/><text fill=\"#000000\" font-family=\"sans-serif\" font-size=\"13\" lengthAdjust=\"spacingAndGlyphs\" textLength=\"64\" x=\"159\" y=\"259.7869\">«depend»</text></a><!--MD5=[8a2a94c6cf3eed073e5190e2a85e9b2d]\n",
       "@startuml\r\n",
       "skinparam monochrome true\r\n",
       "skinparam classbackgroundcolor white\r\n",
       "skinparam shadowing false\r\n",
       "skinparam wrapWidth 300\r\n",
       "hide circle\r\n",
       "\r\n",
       "package \"DependencyTest\" as E1  [[psysml:0f0f2110-3be1-453e-862d-cec3a7a71a7a ]]  {\r\n",
       "package \"System\" as E2  [[psysml:c508d22c-e466-4361-9854-fd4393e1e853 ]]  {\r\n",
       "package \"Application Layer\" as E3  [[psysml:a9507a9e-eb7a-4860-b8c9-7900feca47e0 ]]  {\r\n",
       "}\r\n",
       "package \"Service Layer\" as E4  [[psysml:709ed33a-9ff9-4f13-a4b1-f82f2d0ae0d9 ]]  {\r\n",
       "}\r\n",
       "package \"Data Layer\" as E5  [[psysml:babd67af-01b8-42b4-9186-2fee6f5cc047 ]]  {\r\n",
       "}\r\n",
       "}\r\n",
       "comp usage \"x \" as E6  <<(T,blue) attribute>> [[psysml:2188fd29-8e87-4428-b2da-0b81f77b2176 ]] {\r\n",
       "}\r\n",
       "comp usage \"y \" as E7  <<(T,blue) attribute>> [[psysml:b1dded97-ff7b-4726-be9f-c0b539bbd77d ]] {\r\n",
       "}\r\n",
       "comp usage \"z \" as E8  <<(T,blue) attribute>> [[psysml:215a3247-a6dc-4d80-9cbe-6a95158331ec ]] {\r\n",
       "}\r\n",
       "}\r\n",
       "E1 ..> E2 [[psysml:8155982a-39d3-4776-bb66-97608c5c0d21 ]] : <<import>>*\r\n",
       "E3 ..>> E4 [[psysml:339645be-1a7b-490e-bb9e-fc7090e144b0 ]] : <<depend>>\r\n",
       "E4 ..>> E5 [[psysml:cd6419af-0f56-471f-8341-f3995db2a676 ]] : <<depend>>\r\n",
       "E8 ..>> E6 [[psysml:974879a0-be0c-4725-ba74-b00c4a2eaada ]] : <<depend>>\r\n",
       "E8 ..>> E7 [[psysml:974879a0-be0c-4725-ba74-b00c4a2eaada ]] : <<depend>>\r\n",
       "@enduml\r\n",
       "\n",
       "PlantUML version 1.2020.13(Sat Jun 13 12:26:38 UTC 2020)\n",
       "(EPL source distribution)\n",
       "Java Runtime: OpenJDK Runtime Environment\n",
       "JVM: OpenJDK 64-Bit Server VM\n",
       "Default Encoding: UTF-8\n",
       "Language: en\n",
       "Country: null\n",
       "--></g></svg>"
      ]
     },
     "execution_count": 38,
     "metadata": {},
     "output_type": "execute_result"
    }
   ],
   "source": [
    "%viz --style=\"DEFAULT\" --view=\"Tree\" \"DependencyTest\""
   ]
  },
  {
   "cell_type": "code",
   "execution_count": 39,
   "id": "976ae9e8",
   "metadata": {
    "execution": {
     "iopub.execute_input": "2022-08-19T08:17:13.487534Z",
     "iopub.status.busy": "2022-08-19T08:17:13.486853Z",
     "iopub.status.idle": "2022-08-19T08:17:13.491861Z",
     "shell.execute_reply": "2022-08-19T08:17:13.492167Z"
    }
   },
   "outputs": [
    {
     "data": {
      "image/svg+xml": [
       "<?xml version=\"1.0\" encoding=\"UTF-8\" standalone=\"no\"?><svg xmlns=\"http://www.w3.org/2000/svg\" xmlns:xlink=\"http://www.w3.org/1999/xlink\" contentScriptType=\"application/ecmascript\" contentStyleType=\"text/css\" height=\"12px\" preserveAspectRatio=\"none\" style=\"width:12px;height:12px;\" version=\"1.1\" viewBox=\"0 0 12 12\" width=\"12px\" zoomAndPan=\"magnify\"><defs/><g><!--MD5=[c5f280e076d0d61ccf4b0f27871bda1d]\n",
       "@startuml\r\n",
       "skinparam monochrome true\r\n",
       "skinparam classbackgroundcolor white\r\n",
       "skinparam shadowing false\r\n",
       "skinparam wrapWidth 300\r\n",
       "hide circle\r\n",
       "\r\n",
       "@enduml\r\n",
       "\n",
       "PlantUML version 1.2020.13(Sat Jun 13 12:26:38 UTC 2020)\n",
       "(EPL source distribution)\n",
       "Java Runtime: OpenJDK Runtime Environment\n",
       "JVM: OpenJDK 64-Bit Server VM\n",
       "Default Encoding: UTF-8\n",
       "Language: en\n",
       "Country: null\n",
       "--></g></svg>"
      ]
     },
     "execution_count": 39,
     "metadata": {},
     "output_type": "execute_result"
    }
   ],
   "source": [
    "%viz --style=\"DEFAULT\" --view=\"State\" \"DependencyTest\""
   ]
  },
  {
   "cell_type": "code",
   "execution_count": 40,
   "id": "17f26ac1",
   "metadata": {
    "execution": {
     "iopub.execute_input": "2022-08-19T08:17:13.542661Z",
     "iopub.status.busy": "2022-08-19T08:17:13.541954Z",
     "iopub.status.idle": "2022-08-19T08:17:13.577681Z",
     "shell.execute_reply": "2022-08-19T08:17:13.577219Z"
    }
   },
   "outputs": [
    {
     "data": {
      "image/svg+xml": [
       "<?xml version=\"1.0\" encoding=\"UTF-8\" standalone=\"no\"?><svg xmlns=\"http://www.w3.org/2000/svg\" xmlns:xlink=\"http://www.w3.org/1999/xlink\" contentScriptType=\"application/ecmascript\" contentStyleType=\"text/css\" height=\"442px\" preserveAspectRatio=\"none\" style=\"width:536px;height:442px;\" version=\"1.1\" viewBox=\"0 0 536 442\" width=\"536px\" zoomAndPan=\"magnify\"><defs/><g><!--MD5=[fbc87193dbaf4d95561dea2c320d4a47]\n",
       "cluster E1--><a href=\"psysml:0f0f2110-3be1-453e-862d-cec3a7a71a7a\" target=\"_top\" title=\"psysml:0f0f2110-3be1-453e-862d-cec3a7a71a7a\" xlink:actuate=\"onRequest\" xlink:href=\"psysml:0f0f2110-3be1-453e-862d-cec3a7a71a7a\" xlink:show=\"new\" xlink:title=\"psysml:0f0f2110-3be1-453e-862d-cec3a7a71a7a\" xlink:type=\"simple\"><polygon fill=\"#FFFFFF\" points=\"16,6,142,6,149,28.2969,514,28.2969,514,430.72,16,430.72,16,6\" style=\"stroke: #000000; stroke-width: 1.5;\"/><line style=\"stroke: #000000; stroke-width: 1.5;\" x1=\"16\" x2=\"149\" y1=\"28.2969\" y2=\"28.2969\"/><text fill=\"#000000\" font-family=\"sans-serif\" font-size=\"14\" font-weight=\"bold\" lengthAdjust=\"spacingAndGlyphs\" textLength=\"120\" x=\"20\" y=\"20.9951\">DependencyTest</text></a><!--MD5=[e4f7fae6ed58524ba242bb0b0d3be6b7]\n",
       "cluster E2--><a href=\"psysml:c508d22c-e466-4361-9854-fd4393e1e853\" target=\"_top\" title=\"psysml:c508d22c-e466-4361-9854-fd4393e1e853\" xlink:actuate=\"onRequest\" xlink:href=\"psysml:c508d22c-e466-4361-9854-fd4393e1e853\" xlink:show=\"new\" xlink:title=\"psysml:c508d22c-e466-4361-9854-fd4393e1e853\" xlink:type=\"simple\"><polygon fill=\"#FFFFFF\" points=\"271,98.72,328,98.72,335,121.0169,474,121.0169,474,390.72,271,390.72,271,98.72\" style=\"stroke: #000000; stroke-width: 1.5;\"/><line style=\"stroke: #000000; stroke-width: 1.5;\" x1=\"271\" x2=\"335\" y1=\"121.0169\" y2=\"121.0169\"/><text fill=\"#000000\" font-family=\"sans-serif\" font-size=\"14\" font-weight=\"bold\" lengthAdjust=\"spacingAndGlyphs\" textLength=\"51\" x=\"275\" y=\"113.7151\">System</text></a><!--MD5=[60a26617385b1d2d0262a64233df1f8d]\n",
       "class E6--><a href=\"psysml:2188fd29-8e87-4428-b2da-0b81f77b2176\" target=\"_top\" title=\"psysml:2188fd29-8e87-4428-b2da-0b81f77b2176\" xlink:actuate=\"onRequest\" xlink:href=\"psysml:2188fd29-8e87-4428-b2da-0b81f77b2176\" xlink:show=\"new\" xlink:title=\"psysml:2188fd29-8e87-4428-b2da-0b81f77b2176\" xlink:type=\"simple\"><rect fill=\"#FFFFFF\" height=\"45.9375\" id=\"E6\" rx=\"10\" ry=\"10\" style=\"stroke: #383838; stroke-width: 1.5;\" width=\"71\" x=\"40.5\" y=\"231.22\"/><text fill=\"#000000\" font-family=\"sans-serif\" font-size=\"12\" font-style=\"italic\" lengthAdjust=\"spacingAndGlyphs\" textLength=\"69\" x=\"41.5\" y=\"247.3587\">«attribute»</text><text fill=\"#000000\" font-family=\"sans-serif\" font-size=\"12\" lengthAdjust=\"spacingAndGlyphs\" textLength=\"6\" x=\"71\" y=\"261.3274\">x</text><line style=\"stroke: #383838; stroke-width: 1.5;\" x1=\"41.5\" x2=\"110.5\" y1=\"269.1575\" y2=\"269.1575\"/></a><!--MD5=[2156ba9850f5573cc1fc38a6a4b2f02b]\n",
       "class E7--><a href=\"psysml:b1dded97-ff7b-4726-be9f-c0b539bbd77d\" target=\"_top\" title=\"psysml:b1dded97-ff7b-4726-be9f-c0b539bbd77d\" xlink:actuate=\"onRequest\" xlink:href=\"psysml:b1dded97-ff7b-4726-be9f-c0b539bbd77d\" xlink:show=\"new\" xlink:title=\"psysml:b1dded97-ff7b-4726-be9f-c0b539bbd77d\" xlink:type=\"simple\"><rect fill=\"#FFFFFF\" height=\"45.9375\" id=\"E7\" rx=\"10\" ry=\"10\" style=\"stroke: #383838; stroke-width: 1.5;\" width=\"71\" x=\"146.5\" y=\"231.22\"/><text fill=\"#000000\" font-family=\"sans-serif\" font-size=\"12\" font-style=\"italic\" lengthAdjust=\"spacingAndGlyphs\" textLength=\"69\" x=\"147.5\" y=\"247.3587\">«attribute»</text><text fill=\"#000000\" font-family=\"sans-serif\" font-size=\"12\" lengthAdjust=\"spacingAndGlyphs\" textLength=\"6\" x=\"177\" y=\"261.3274\">y</text><line style=\"stroke: #383838; stroke-width: 1.5;\" x1=\"147.5\" x2=\"216.5\" y1=\"269.1575\" y2=\"269.1575\"/></a><!--MD5=[b9389687b975829384b498ac4b7476b2]\n",
       "class E8--><a href=\"psysml:215a3247-a6dc-4d80-9cbe-6a95158331ec\" target=\"_top\" title=\"psysml:215a3247-a6dc-4d80-9cbe-6a95158331ec\" xlink:actuate=\"onRequest\" xlink:href=\"psysml:215a3247-a6dc-4d80-9cbe-6a95158331ec\" xlink:show=\"new\" xlink:title=\"psysml:215a3247-a6dc-4d80-9cbe-6a95158331ec\" xlink:type=\"simple\"><rect fill=\"#FFFFFF\" height=\"45.9375\" id=\"E8\" rx=\"10\" ry=\"10\" style=\"stroke: #383838; stroke-width: 1.5;\" width=\"71\" x=\"92.5\" y=\"145.22\"/><text fill=\"#000000\" font-family=\"sans-serif\" font-size=\"12\" font-style=\"italic\" lengthAdjust=\"spacingAndGlyphs\" textLength=\"69\" x=\"93.5\" y=\"161.3587\">«attribute»</text><text fill=\"#000000\" font-family=\"sans-serif\" font-size=\"12\" lengthAdjust=\"spacingAndGlyphs\" textLength=\"5\" x=\"123.5\" y=\"175.3274\">z</text><line style=\"stroke: #383838; stroke-width: 1.5;\" x1=\"93.5\" x2=\"162.5\" y1=\"183.1575\" y2=\"183.1575\"/></a><a href=\"psysml:a9507a9e-eb7a-4860-b8c9-7900feca47e0\" target=\"_top\" title=\"psysml:a9507a9e-eb7a-4860-b8c9-7900feca47e0\" xlink:actuate=\"onRequest\" xlink:href=\"psysml:a9507a9e-eb7a-4860-b8c9-7900feca47e0\" xlink:show=\"new\" xlink:title=\"psysml:a9507a9e-eb7a-4860-b8c9-7900feca47e0\" xlink:type=\"simple\"><polygon fill=\"#FFFFFF\" points=\"314.5,141.72,435.5,141.72,442.5,164.0169,449.5,164.0169,449.5,194.3138,314.5,194.3138,314.5,141.72\" style=\"stroke: #000000; stroke-width: 1.5;\"/><line style=\"stroke: #000000; stroke-width: 1.5;\" x1=\"314.5\" x2=\"442.5\" y1=\"164.0169\" y2=\"164.0169\"/><text fill=\"#000000\" font-family=\"sans-serif\" font-size=\"14\" font-weight=\"bold\" lengthAdjust=\"spacingAndGlyphs\" textLength=\"115\" x=\"318.5\" y=\"156.7151\">Application Layer</text></a><a href=\"psysml:709ed33a-9ff9-4f13-a4b1-f82f2d0ae0d9\" target=\"_top\" title=\"psysml:709ed33a-9ff9-4f13-a4b1-f82f2d0ae0d9\" xlink:actuate=\"onRequest\" xlink:href=\"psysml:709ed33a-9ff9-4f13-a4b1-f82f2d0ae0d9\" xlink:show=\"new\" xlink:title=\"psysml:709ed33a-9ff9-4f13-a4b1-f82f2d0ae0d9\" xlink:type=\"simple\"><polygon fill=\"#FFFFFF\" points=\"327,227.72,423,227.72,430,250.0169,437,250.0169,437,280.3138,327,280.3138,327,227.72\" style=\"stroke: #000000; stroke-width: 1.5;\"/><line style=\"stroke: #000000; stroke-width: 1.5;\" x1=\"327\" x2=\"430\" y1=\"250.0169\" y2=\"250.0169\"/><text fill=\"#000000\" font-family=\"sans-serif\" font-size=\"14\" font-weight=\"bold\" lengthAdjust=\"spacingAndGlyphs\" textLength=\"90\" x=\"331\" y=\"242.7151\">Service Layer</text></a><a href=\"psysml:babd67af-01b8-42b4-9186-2fee6f5cc047\" target=\"_top\" title=\"psysml:babd67af-01b8-42b4-9186-2fee6f5cc047\" xlink:actuate=\"onRequest\" xlink:href=\"psysml:babd67af-01b8-42b4-9186-2fee6f5cc047\" xlink:show=\"new\" xlink:title=\"psysml:babd67af-01b8-42b4-9186-2fee6f5cc047\" xlink:type=\"simple\"><polygon fill=\"#FFFFFF\" points=\"336,313.72,414,313.72,421,336.0169,428,336.0169,428,366.3138,336,366.3138,336,313.72\" style=\"stroke: #000000; stroke-width: 1.5;\"/><line style=\"stroke: #000000; stroke-width: 1.5;\" x1=\"336\" x2=\"421\" y1=\"336.0169\" y2=\"336.0169\"/><text fill=\"#000000\" font-family=\"sans-serif\" font-size=\"14\" font-weight=\"bold\" lengthAdjust=\"spacingAndGlyphs\" textLength=\"72\" x=\"340\" y=\"328.7151\">Data Layer</text></a><!--MD5=[1f1cd8e6dd4c1b2ca2aaccc9b9bcea6e]\n",
       "link E1 to E2--><a href=\"psysml:8155982a-39d3-4776-bb66-97608c5c0d21\" target=\"_top\" title=\"psysml:8155982a-39d3-4776-bb66-97608c5c0d21\" xlink:actuate=\"onRequest\" xlink:href=\"psysml:8155982a-39d3-4776-bb66-97608c5c0d21\" xlink:show=\"new\" xlink:title=\"psysml:8155982a-39d3-4776-bb66-97608c5c0d21\" xlink:type=\"simple\"><path d=\"M279,33.82 C279,34.815 279,43.3994 279,55.7775 C279,61.9666 279,69.1041 279,76.7155 C279,80.5213 279,84.4455 279,88.429 C279,90.4207 279,92.4272 279,94.4411 C279,95.448 279,96.4568 279,97.4665 C279,97.719 279,97.9714 279,98.224 \" fill=\"none\" id=\"E1-&gt;E2\" style=\"stroke: #383838; stroke-width: 1.0; stroke-dasharray: 7.0,7.0;\"/><polygon fill=\"#383838\" points=\"279,98.224,283,89.224,279,93.224,275,89.224,279,98.224\" style=\"stroke: #383838; stroke-width: 1.0;\"/><text fill=\"#000000\" font-family=\"sans-serif\" font-size=\"13\" lengthAdjust=\"spacingAndGlyphs\" textLength=\"65\" x=\"280\" y=\"54.7869\">«import»*</text></a><!--MD5=[af87c684e3b0d8be13c1a698a818ef1e]\n",
       "link E3 to E4--><a href=\"psysml:339645be-1a7b-490e-bb9e-fc7090e144b0\" target=\"_top\" title=\"psysml:339645be-1a7b-490e-bb9e-fc7090e144b0\" xlink:actuate=\"onRequest\" xlink:href=\"psysml:339645be-1a7b-490e-bb9e-fc7090e144b0\" xlink:show=\"new\" xlink:title=\"psysml:339645be-1a7b-490e-bb9e-fc7090e144b0\" xlink:type=\"simple\"><path d=\"M382,194.88 C382,202.7 382,211.41 382,219.66 \" fill=\"none\" id=\"E3-&gt;E4\" style=\"stroke: #383838; stroke-width: 1.0; stroke-dasharray: 7.0,7.0;\"/><polygon fill=\"#383838\" points=\"382,227.72,385,219.72,379,219.72,382,227.72\" style=\"stroke: #383838; stroke-width: 1.0;\"/><text fill=\"#000000\" font-family=\"sans-serif\" font-size=\"13\" lengthAdjust=\"spacingAndGlyphs\" textLength=\"64\" x=\"383\" y=\"215.7869\">«depend»</text></a><!--MD5=[1b7591eae5389033d8d09a9d6721a717]\n",
       "link E4 to E5--><a href=\"psysml:cd6419af-0f56-471f-8341-f3995db2a676\" target=\"_top\" title=\"psysml:cd6419af-0f56-471f-8341-f3995db2a676\" xlink:actuate=\"onRequest\" xlink:href=\"psysml:cd6419af-0f56-471f-8341-f3995db2a676\" xlink:show=\"new\" xlink:title=\"psysml:cd6419af-0f56-471f-8341-f3995db2a676\" xlink:type=\"simple\"><path d=\"M382,280.88 C382,288.7 382,297.41 382,305.66 \" fill=\"none\" id=\"E4-&gt;E5\" style=\"stroke: #383838; stroke-width: 1.0; stroke-dasharray: 7.0,7.0;\"/><polygon fill=\"#383838\" points=\"382,313.72,385,305.72,379,305.72,382,313.72\" style=\"stroke: #383838; stroke-width: 1.0;\"/><text fill=\"#000000\" font-family=\"sans-serif\" font-size=\"13\" lengthAdjust=\"spacingAndGlyphs\" textLength=\"64\" x=\"383\" y=\"301.7869\">«depend»</text></a><!--MD5=[c5e8897d989ce984f93528998a7150fe]\n",
       "link E8 to E6--><a href=\"psysml:974879a0-be0c-4725-ba74-b00c4a2eaada\" target=\"_top\" title=\"psysml:974879a0-be0c-4725-ba74-b00c4a2eaada\" xlink:actuate=\"onRequest\" xlink:href=\"psysml:974879a0-be0c-4725-ba74-b00c4a2eaada\" xlink:show=\"new\" xlink:title=\"psysml:974879a0-be0c-4725-ba74-b00c4a2eaada\" xlink:type=\"simple\"><path d=\"M92.49,183.06 C84.34,187.99 76.69,194.44 72,202.72 C68.54,208.82 67.62,216.03 68,223.05 \" fill=\"none\" id=\"E8-&gt;E6\" style=\"stroke: #383838; stroke-width: 1.0; stroke-dasharray: 7.0,7.0;\"/><polygon fill=\"#383838\" points=\"68.97,231.14,71.0061,222.8421,65.0479,223.5494,68.97,231.14\" style=\"stroke: #383838; stroke-width: 1.0;\"/><text fill=\"#000000\" font-family=\"sans-serif\" font-size=\"13\" lengthAdjust=\"spacingAndGlyphs\" textLength=\"64\" x=\"73\" y=\"215.7869\">«depend»</text></a><!--MD5=[bfa3c8b0d15052fdf50ae9310b491027]\n",
       "link E8 to E7--><a href=\"psysml:974879a0-be0c-4725-ba74-b00c4a2eaada\" target=\"_top\" title=\"psysml:974879a0-be0c-4725-ba74-b00c4a2eaada\" xlink:actuate=\"onRequest\" xlink:href=\"psysml:974879a0-be0c-4725-ba74-b00c4a2eaada\" xlink:show=\"new\" xlink:title=\"psysml:974879a0-be0c-4725-ba74-b00c4a2eaada\" xlink:type=\"simple\"><path d=\"M142.19,191.29 C148.65,201.34 156.38,213.37 163.31,224.14 \" fill=\"none\" id=\"E8-&gt;E7\" style=\"stroke: #383838; stroke-width: 1.0; stroke-dasharray: 7.0,7.0;\"/><polygon fill=\"#383838\" points=\"167.72,231.01,165.9148,222.6589,160.8688,225.905,167.72,231.01\" style=\"stroke: #383838; stroke-width: 1.0;\"/><text fill=\"#000000\" font-family=\"sans-serif\" font-size=\"13\" lengthAdjust=\"spacingAndGlyphs\" textLength=\"64\" x=\"160\" y=\"215.7869\">«depend»</text></a><!--MD5=[ed6e7f8a4a388cd2cdd29d03f5b426b6]\n",
       "@startuml\r\n",
       "skinparam ranksep 10\r\n",
       "skinparam rectangle {\r\n",
       " backgroundColor<<block>> LightGreen\r\n",
       "}\r\n",
       "skinparam monochrome true\r\n",
       "skinparam classbackgroundcolor white\r\n",
       "skinparam shadowing false\r\n",
       "skinparam wrapWidth 300\r\n",
       "hide circle\r\n",
       "\r\n",
       "package \"DependencyTest\" as E1  [[psysml:0f0f2110-3be1-453e-862d-cec3a7a71a7a ]]  {\r\n",
       "package \"System\" as E2  [[psysml:c508d22c-e466-4361-9854-fd4393e1e853 ]]  {\r\n",
       "package \"Application Layer\" as E3  [[psysml:a9507a9e-eb7a-4860-b8c9-7900feca47e0 ]]  {\r\n",
       "}\r\n",
       "package \"Service Layer\" as E4  [[psysml:709ed33a-9ff9-4f13-a4b1-f82f2d0ae0d9 ]]  {\r\n",
       "}\r\n",
       "package \"Data Layer\" as E5  [[psysml:babd67af-01b8-42b4-9186-2fee6f5cc047 ]]  {\r\n",
       "}\r\n",
       "}\r\n",
       "comp usage \"x \" as E6  <<(T,blue) attribute>> [[psysml:2188fd29-8e87-4428-b2da-0b81f77b2176 ]] {\r\n",
       "}\r\n",
       "comp usage \"y \" as E7  <<(T,blue) attribute>> [[psysml:b1dded97-ff7b-4726-be9f-c0b539bbd77d ]] {\r\n",
       "}\r\n",
       "comp usage \"z \" as E8  <<(T,blue) attribute>> [[psysml:215a3247-a6dc-4d80-9cbe-6a95158331ec ]] {\r\n",
       "}\r\n",
       "}\r\n",
       "E1 ..> E2 [[psysml:8155982a-39d3-4776-bb66-97608c5c0d21 ]] : <<import>>*\r\n",
       "E3 ..>> E4 [[psysml:339645be-1a7b-490e-bb9e-fc7090e144b0 ]] : <<depend>>\r\n",
       "E4 ..>> E5 [[psysml:cd6419af-0f56-471f-8341-f3995db2a676 ]] : <<depend>>\r\n",
       "E8 ..>> E6 [[psysml:974879a0-be0c-4725-ba74-b00c4a2eaada ]] : <<depend>>\r\n",
       "E8 ..>> E7 [[psysml:974879a0-be0c-4725-ba74-b00c4a2eaada ]] : <<depend>>\r\n",
       "@enduml\r\n",
       "\n",
       "PlantUML version 1.2020.13(Sat Jun 13 12:26:38 UTC 2020)\n",
       "(EPL source distribution)\n",
       "Java Runtime: OpenJDK Runtime Environment\n",
       "JVM: OpenJDK 64-Bit Server VM\n",
       "Default Encoding: UTF-8\n",
       "Language: en\n",
       "Country: null\n",
       "--></g></svg>"
      ]
     },
     "execution_count": 40,
     "metadata": {},
     "output_type": "execute_result"
    }
   ],
   "source": [
    "%viz --style=\"DEFAULT\" --view=\"Interconnection\" \"DependencyTest\""
   ]
  },
  {
   "cell_type": "code",
   "execution_count": 41,
   "id": "3981d112",
   "metadata": {
    "execution": {
     "iopub.execute_input": "2022-08-19T08:17:13.627339Z",
     "iopub.status.busy": "2022-08-19T08:17:13.626669Z",
     "iopub.status.idle": "2022-08-19T08:17:13.631949Z",
     "shell.execute_reply": "2022-08-19T08:17:13.631543Z"
    }
   },
   "outputs": [
    {
     "data": {
      "image/svg+xml": [
       "<?xml version=\"1.0\" encoding=\"UTF-8\" standalone=\"no\"?><svg xmlns=\"http://www.w3.org/2000/svg\" xmlns:xlink=\"http://www.w3.org/1999/xlink\" contentScriptType=\"application/ecmascript\" contentStyleType=\"text/css\" height=\"12px\" preserveAspectRatio=\"none\" style=\"width:12px;height:12px;\" version=\"1.1\" viewBox=\"0 0 12 12\" width=\"12px\" zoomAndPan=\"magnify\"><defs/><g><!--MD5=[388f21188e31bfdd97050473b19af356]\n",
       "@startuml\r\n",
       "skinparam ranksep 8\r\n",
       "skinparam monochrome true\r\n",
       "skinparam classbackgroundcolor white\r\n",
       "skinparam shadowing false\r\n",
       "skinparam wrapWidth 300\r\n",
       "hide circle\r\n",
       "\r\n",
       "@enduml\r\n",
       "\n",
       "PlantUML version 1.2020.13(Sat Jun 13 12:26:38 UTC 2020)\n",
       "(EPL source distribution)\n",
       "Java Runtime: OpenJDK Runtime Environment\n",
       "JVM: OpenJDK 64-Bit Server VM\n",
       "Default Encoding: UTF-8\n",
       "Language: en\n",
       "Country: null\n",
       "--></g></svg>"
      ]
     },
     "execution_count": 41,
     "metadata": {},
     "output_type": "execute_result"
    }
   ],
   "source": [
    "%viz --style=\"DEFAULT\" --view=\"Action\" \"DependencyTest\""
   ]
  },
  {
   "cell_type": "code",
   "execution_count": 42,
   "id": "2be57328",
   "metadata": {
    "execution": {
     "iopub.execute_input": "2022-08-19T08:17:13.682204Z",
     "iopub.status.busy": "2022-08-19T08:17:13.681520Z",
     "iopub.status.idle": "2022-08-19T08:17:13.687009Z",
     "shell.execute_reply": "2022-08-19T08:17:13.686618Z"
    }
   },
   "outputs": [
    {
     "data": {
      "image/svg+xml": [
       "<?xml version=\"1.0\" encoding=\"UTF-8\" standalone=\"no\"?><svg xmlns=\"http://www.w3.org/2000/svg\" xmlns:xlink=\"http://www.w3.org/1999/xlink\" contentScriptType=\"application/ecmascript\" contentStyleType=\"text/css\" height=\"12px\" preserveAspectRatio=\"none\" style=\"width:12px;height:12px;\" version=\"1.1\" viewBox=\"0 0 12 12\" width=\"12px\" zoomAndPan=\"magnify\"><defs/><g><!--MD5=[0b72472770326784bf6c2b53246e1e64]\n",
       "@startuml\r\n",
       "skinparam roundcorner 20\r\n",
       "skinparam BoxPadding 20\r\n",
       "skinparam SequenceBoxBackgroundColor #white\r\n",
       "skinparam style strictuml\r\n",
       "skinparam maxMessageSize 100\r\n",
       "skinparam monochrome true\r\n",
       "skinparam classbackgroundcolor white\r\n",
       "skinparam shadowing false\r\n",
       "skinparam wrapWidth 300\r\n",
       "hide circle\r\n",
       "\r\n",
       "@enduml\r\n",
       "\n",
       "PlantUML version 1.2020.13(Sat Jun 13 12:26:38 UTC 2020)\n",
       "(EPL source distribution)\n",
       "Java Runtime: OpenJDK Runtime Environment\n",
       "JVM: OpenJDK 64-Bit Server VM\n",
       "Default Encoding: UTF-8\n",
       "Language: en\n",
       "Country: null\n",
       "--></g></svg>"
      ]
     },
     "execution_count": 42,
     "metadata": {},
     "output_type": "execute_result"
    }
   ],
   "source": [
    "%viz --style=\"DEFAULT\" --view=\"Sequence\" \"DependencyTest\""
   ]
  },
  {
   "cell_type": "code",
   "execution_count": 43,
   "id": "8d6c3380",
   "metadata": {
    "execution": {
     "iopub.execute_input": "2022-08-19T08:17:13.737293Z",
     "iopub.status.busy": "2022-08-19T08:17:13.736578Z",
     "iopub.status.idle": "2022-08-19T08:17:13.771098Z",
     "shell.execute_reply": "2022-08-19T08:17:13.770508Z"
    }
   },
   "outputs": [
    {
     "data": {
      "image/svg+xml": [
       "<?xml version=\"1.0\" encoding=\"UTF-8\" standalone=\"no\"?><svg xmlns=\"http://www.w3.org/2000/svg\" xmlns:xlink=\"http://www.w3.org/1999/xlink\" contentScriptType=\"application/ecmascript\" contentStyleType=\"text/css\" height=\"552px\" preserveAspectRatio=\"none\" style=\"width:536px;height:552px;\" version=\"1.1\" viewBox=\"0 0 536 552\" width=\"536px\" zoomAndPan=\"magnify\"><defs/><g><!--MD5=[fbc87193dbaf4d95561dea2c320d4a47]\n",
       "cluster E1--><a href=\"psysml:0f0f2110-3be1-453e-862d-cec3a7a71a7a\" target=\"_top\" title=\"psysml:0f0f2110-3be1-453e-862d-cec3a7a71a7a\" xlink:actuate=\"onRequest\" xlink:href=\"psysml:0f0f2110-3be1-453e-862d-cec3a7a71a7a\" xlink:show=\"new\" xlink:title=\"psysml:0f0f2110-3be1-453e-862d-cec3a7a71a7a\" xlink:type=\"simple\"><polygon fill=\"#FFFFFF\" points=\"16,6,142,6,149,28.2969,514,28.2969,514,540.72,16,540.72,16,6\" style=\"stroke: #000000; stroke-width: 1.5;\"/><line style=\"stroke: #000000; stroke-width: 1.5;\" x1=\"16\" x2=\"149\" y1=\"28.2969\" y2=\"28.2969\"/><text fill=\"#000000\" font-family=\"sans-serif\" font-size=\"14\" font-weight=\"bold\" lengthAdjust=\"spacingAndGlyphs\" textLength=\"120\" x=\"20\" y=\"20.9951\">DependencyTest</text></a><!--MD5=[e4f7fae6ed58524ba242bb0b0d3be6b7]\n",
       "cluster E2--><a href=\"psysml:c508d22c-e466-4361-9854-fd4393e1e853\" target=\"_top\" title=\"psysml:c508d22c-e466-4361-9854-fd4393e1e853\" xlink:actuate=\"onRequest\" xlink:href=\"psysml:c508d22c-e466-4361-9854-fd4393e1e853\" xlink:show=\"new\" xlink:title=\"psysml:c508d22c-e466-4361-9854-fd4393e1e853\" xlink:type=\"simple\"><polygon fill=\"#FFFFFF\" points=\"271,120.72,328,120.72,335,143.0169,474,143.0169,474,500.72,271,500.72,271,120.72\" style=\"stroke: #000000; stroke-width: 1.5;\"/><line style=\"stroke: #000000; stroke-width: 1.5;\" x1=\"271\" x2=\"335\" y1=\"143.0169\" y2=\"143.0169\"/><text fill=\"#000000\" font-family=\"sans-serif\" font-size=\"14\" font-weight=\"bold\" lengthAdjust=\"spacingAndGlyphs\" textLength=\"51\" x=\"275\" y=\"135.7151\">System</text></a><!--MD5=[60a26617385b1d2d0262a64233df1f8d]\n",
       "class E6--><a href=\"psysml:2188fd29-8e87-4428-b2da-0b81f77b2176\" target=\"_top\" title=\"psysml:2188fd29-8e87-4428-b2da-0b81f77b2176\" xlink:actuate=\"onRequest\" xlink:href=\"psysml:2188fd29-8e87-4428-b2da-0b81f77b2176\" xlink:show=\"new\" xlink:title=\"psysml:2188fd29-8e87-4428-b2da-0b81f77b2176\" xlink:type=\"simple\"><rect fill=\"#FFFFFF\" height=\"45.9375\" id=\"E6\" rx=\"10\" ry=\"10\" style=\"stroke: #383838; stroke-width: 1.5;\" width=\"71\" x=\"40.5\" y=\"297.22\"/><text fill=\"#000000\" font-family=\"sans-serif\" font-size=\"12\" font-style=\"italic\" lengthAdjust=\"spacingAndGlyphs\" textLength=\"69\" x=\"41.5\" y=\"313.3587\">«attribute»</text><text fill=\"#000000\" font-family=\"sans-serif\" font-size=\"12\" lengthAdjust=\"spacingAndGlyphs\" textLength=\"6\" x=\"71\" y=\"327.3274\">x</text><line style=\"stroke: #383838; stroke-width: 1.5;\" x1=\"41.5\" x2=\"110.5\" y1=\"335.1575\" y2=\"335.1575\"/></a><!--MD5=[2156ba9850f5573cc1fc38a6a4b2f02b]\n",
       "class E7--><a href=\"psysml:b1dded97-ff7b-4726-be9f-c0b539bbd77d\" target=\"_top\" title=\"psysml:b1dded97-ff7b-4726-be9f-c0b539bbd77d\" xlink:actuate=\"onRequest\" xlink:href=\"psysml:b1dded97-ff7b-4726-be9f-c0b539bbd77d\" xlink:show=\"new\" xlink:title=\"psysml:b1dded97-ff7b-4726-be9f-c0b539bbd77d\" xlink:type=\"simple\"><rect fill=\"#FFFFFF\" height=\"45.9375\" id=\"E7\" rx=\"10\" ry=\"10\" style=\"stroke: #383838; stroke-width: 1.5;\" width=\"71\" x=\"146.5\" y=\"297.22\"/><text fill=\"#000000\" font-family=\"sans-serif\" font-size=\"12\" font-style=\"italic\" lengthAdjust=\"spacingAndGlyphs\" textLength=\"69\" x=\"147.5\" y=\"313.3587\">«attribute»</text><text fill=\"#000000\" font-family=\"sans-serif\" font-size=\"12\" lengthAdjust=\"spacingAndGlyphs\" textLength=\"6\" x=\"177\" y=\"327.3274\">y</text><line style=\"stroke: #383838; stroke-width: 1.5;\" x1=\"147.5\" x2=\"216.5\" y1=\"335.1575\" y2=\"335.1575\"/></a><!--MD5=[b9389687b975829384b498ac4b7476b2]\n",
       "class E8--><a href=\"psysml:215a3247-a6dc-4d80-9cbe-6a95158331ec\" target=\"_top\" title=\"psysml:215a3247-a6dc-4d80-9cbe-6a95158331ec\" xlink:actuate=\"onRequest\" xlink:href=\"psysml:215a3247-a6dc-4d80-9cbe-6a95158331ec\" xlink:show=\"new\" xlink:title=\"psysml:215a3247-a6dc-4d80-9cbe-6a95158331ec\" xlink:type=\"simple\"><rect fill=\"#FFFFFF\" height=\"45.9375\" id=\"E8\" rx=\"10\" ry=\"10\" style=\"stroke: #383838; stroke-width: 1.5;\" width=\"71\" x=\"92.5\" y=\"167.22\"/><text fill=\"#000000\" font-family=\"sans-serif\" font-size=\"12\" font-style=\"italic\" lengthAdjust=\"spacingAndGlyphs\" textLength=\"69\" x=\"93.5\" y=\"183.3587\">«attribute»</text><text fill=\"#000000\" font-family=\"sans-serif\" font-size=\"12\" lengthAdjust=\"spacingAndGlyphs\" textLength=\"5\" x=\"123.5\" y=\"197.3274\">z</text><line style=\"stroke: #383838; stroke-width: 1.5;\" x1=\"93.5\" x2=\"162.5\" y1=\"205.1575\" y2=\"205.1575\"/></a><a href=\"psysml:a9507a9e-eb7a-4860-b8c9-7900feca47e0\" target=\"_top\" title=\"psysml:a9507a9e-eb7a-4860-b8c9-7900feca47e0\" xlink:actuate=\"onRequest\" xlink:href=\"psysml:a9507a9e-eb7a-4860-b8c9-7900feca47e0\" xlink:show=\"new\" xlink:title=\"psysml:a9507a9e-eb7a-4860-b8c9-7900feca47e0\" xlink:type=\"simple\"><polygon fill=\"#FFFFFF\" points=\"314.5,163.72,435.5,163.72,442.5,186.0169,449.5,186.0169,449.5,216.3138,314.5,216.3138,314.5,163.72\" style=\"stroke: #000000; stroke-width: 1.5;\"/><line style=\"stroke: #000000; stroke-width: 1.5;\" x1=\"314.5\" x2=\"442.5\" y1=\"186.0169\" y2=\"186.0169\"/><text fill=\"#000000\" font-family=\"sans-serif\" font-size=\"14\" font-weight=\"bold\" lengthAdjust=\"spacingAndGlyphs\" textLength=\"115\" x=\"318.5\" y=\"178.7151\">Application Layer</text></a><a href=\"psysml:709ed33a-9ff9-4f13-a4b1-f82f2d0ae0d9\" target=\"_top\" title=\"psysml:709ed33a-9ff9-4f13-a4b1-f82f2d0ae0d9\" xlink:actuate=\"onRequest\" xlink:href=\"psysml:709ed33a-9ff9-4f13-a4b1-f82f2d0ae0d9\" xlink:show=\"new\" xlink:title=\"psysml:709ed33a-9ff9-4f13-a4b1-f82f2d0ae0d9\" xlink:type=\"simple\"><polygon fill=\"#FFFFFF\" points=\"327,293.72,423,293.72,430,316.0169,437,316.0169,437,346.3138,327,346.3138,327,293.72\" style=\"stroke: #000000; stroke-width: 1.5;\"/><line style=\"stroke: #000000; stroke-width: 1.5;\" x1=\"327\" x2=\"430\" y1=\"316.0169\" y2=\"316.0169\"/><text fill=\"#000000\" font-family=\"sans-serif\" font-size=\"14\" font-weight=\"bold\" lengthAdjust=\"spacingAndGlyphs\" textLength=\"90\" x=\"331\" y=\"308.7151\">Service Layer</text></a><a href=\"psysml:babd67af-01b8-42b4-9186-2fee6f5cc047\" target=\"_top\" title=\"psysml:babd67af-01b8-42b4-9186-2fee6f5cc047\" xlink:actuate=\"onRequest\" xlink:href=\"psysml:babd67af-01b8-42b4-9186-2fee6f5cc047\" xlink:show=\"new\" xlink:title=\"psysml:babd67af-01b8-42b4-9186-2fee6f5cc047\" xlink:type=\"simple\"><polygon fill=\"#FFFFFF\" points=\"336,423.72,414,423.72,421,446.0169,428,446.0169,428,476.3138,336,476.3138,336,423.72\" style=\"stroke: #000000; stroke-width: 1.5;\"/><line style=\"stroke: #000000; stroke-width: 1.5;\" x1=\"336\" x2=\"421\" y1=\"446.0169\" y2=\"446.0169\"/><text fill=\"#000000\" font-family=\"sans-serif\" font-size=\"14\" font-weight=\"bold\" lengthAdjust=\"spacingAndGlyphs\" textLength=\"72\" x=\"340\" y=\"438.7151\">Data Layer</text></a><!--MD5=[1f1cd8e6dd4c1b2ca2aaccc9b9bcea6e]\n",
       "link E1 to E2--><a href=\"psysml:8155982a-39d3-4776-bb66-97608c5c0d21\" target=\"_top\" title=\"psysml:8155982a-39d3-4776-bb66-97608c5c0d21\" xlink:actuate=\"onRequest\" xlink:href=\"psysml:8155982a-39d3-4776-bb66-97608c5c0d21\" xlink:show=\"new\" xlink:title=\"psysml:8155982a-39d3-4776-bb66-97608c5c0d21\" xlink:type=\"simple\"><path d=\"M279,33.83 C279,36.15 279,73.83 279,111.5 C279,113.8544 279,116.2087 279,118.5544 C279,119.1408 279,119.7267 279,120.3119 \" fill=\"none\" id=\"E1-&gt;E2\" style=\"stroke: #383838; stroke-width: 1.0; stroke-dasharray: 7.0,7.0;\"/><polygon fill=\"#383838\" points=\"279,120.3119,283,111.3119,279,115.3119,275,111.3119,279,120.3119\" style=\"stroke: #383838; stroke-width: 1.0;\"/><text fill=\"#000000\" font-family=\"sans-serif\" font-size=\"13\" lengthAdjust=\"spacingAndGlyphs\" textLength=\"65\" x=\"280\" y=\"76.7869\">«import»*</text></a><!--MD5=[af87c684e3b0d8be13c1a698a818ef1e]\n",
       "link E3 to E4--><a href=\"psysml:339645be-1a7b-490e-bb9e-fc7090e144b0\" target=\"_top\" title=\"psysml:339645be-1a7b-490e-bb9e-fc7090e144b0\" xlink:actuate=\"onRequest\" xlink:href=\"psysml:339645be-1a7b-490e-bb9e-fc7090e144b0\" xlink:show=\"new\" xlink:title=\"psysml:339645be-1a7b-490e-bb9e-fc7090e144b0\" xlink:type=\"simple\"><path d=\"M382,216.82 C382,236.52 382,263.94 382,285.45 \" fill=\"none\" id=\"E3-&gt;E4\" style=\"stroke: #383838; stroke-width: 1.0; stroke-dasharray: 7.0,7.0;\"/><polygon fill=\"#383838\" points=\"382,293.67,385,285.67,379,285.67,382,293.67\" style=\"stroke: #383838; stroke-width: 1.0;\"/><text fill=\"#000000\" font-family=\"sans-serif\" font-size=\"13\" lengthAdjust=\"spacingAndGlyphs\" textLength=\"64\" x=\"383\" y=\"259.7869\">«depend»</text></a><!--MD5=[1b7591eae5389033d8d09a9d6721a717]\n",
       "link E4 to E5--><a href=\"psysml:cd6419af-0f56-471f-8341-f3995db2a676\" target=\"_top\" title=\"psysml:cd6419af-0f56-471f-8341-f3995db2a676\" xlink:actuate=\"onRequest\" xlink:href=\"psysml:cd6419af-0f56-471f-8341-f3995db2a676\" xlink:show=\"new\" xlink:title=\"psysml:cd6419af-0f56-471f-8341-f3995db2a676\" xlink:type=\"simple\"><path d=\"M382,346.82 C382,366.52 382,393.94 382,415.45 \" fill=\"none\" id=\"E4-&gt;E5\" style=\"stroke: #383838; stroke-width: 1.0; stroke-dasharray: 7.0,7.0;\"/><polygon fill=\"#383838\" points=\"382,423.67,385,415.67,379,415.67,382,423.67\" style=\"stroke: #383838; stroke-width: 1.0;\"/><text fill=\"#000000\" font-family=\"sans-serif\" font-size=\"13\" lengthAdjust=\"spacingAndGlyphs\" textLength=\"64\" x=\"383\" y=\"389.7869\">«depend»</text></a><!--MD5=[c5e8897d989ce984f93528998a7150fe]\n",
       "link E8 to E6--><a href=\"psysml:974879a0-be0c-4725-ba74-b00c4a2eaada\" target=\"_top\" title=\"psysml:974879a0-be0c-4725-ba74-b00c4a2eaada\" xlink:actuate=\"onRequest\" xlink:href=\"psysml:974879a0-be0c-4725-ba74-b00c4a2eaada\" xlink:show=\"new\" xlink:title=\"psysml:974879a0-be0c-4725-ba74-b00c4a2eaada\" xlink:type=\"simple\"><path d=\"M97.42,213.32 C87.35,222.4 77.37,233.83 72,246.72 C66.5,259.92 66.66,275.66 68.54,289.1 \" fill=\"none\" id=\"E8-&gt;E6\" style=\"stroke: #383838; stroke-width: 1.0; stroke-dasharray: 7.0,7.0;\"/><polygon fill=\"#383838\" points=\"69.9,297.12,71.517,288.7304,65.6018,289.7359,69.9,297.12\" style=\"stroke: #383838; stroke-width: 1.0;\"/><text fill=\"#000000\" font-family=\"sans-serif\" font-size=\"13\" lengthAdjust=\"spacingAndGlyphs\" textLength=\"64\" x=\"73\" y=\"259.7869\">«depend»</text></a><!--MD5=[bfa3c8b0d15052fdf50ae9310b491027]\n",
       "link E8 to E7--><a href=\"psysml:974879a0-be0c-4725-ba74-b00c4a2eaada\" target=\"_top\" title=\"psysml:974879a0-be0c-4725-ba74-b00c4a2eaada\" xlink:actuate=\"onRequest\" xlink:href=\"psysml:974879a0-be0c-4725-ba74-b00c4a2eaada\" xlink:show=\"new\" xlink:title=\"psysml:974879a0-be0c-4725-ba74-b00c4a2eaada\" xlink:type=\"simple\"><path d=\"M137.28,213.22 C146.17,234.29 159.64,266.22 169.47,289.53 \" fill=\"none\" id=\"E8-&gt;E7\" style=\"stroke: #383838; stroke-width: 1.0; stroke-dasharray: 7.0,7.0;\"/><polygon fill=\"#383838\" points=\"172.66,297.07,172.3241,288.5326,166.7933,290.8585,172.66,297.07\" style=\"stroke: #383838; stroke-width: 1.0;\"/><text fill=\"#000000\" font-family=\"sans-serif\" font-size=\"13\" lengthAdjust=\"spacingAndGlyphs\" textLength=\"64\" x=\"159\" y=\"259.7869\">«depend»</text></a><!--MD5=[8a2a94c6cf3eed073e5190e2a85e9b2d]\n",
       "@startuml\r\n",
       "skinparam monochrome true\r\n",
       "skinparam classbackgroundcolor white\r\n",
       "skinparam shadowing false\r\n",
       "skinparam wrapWidth 300\r\n",
       "hide circle\r\n",
       "\r\n",
       "package \"DependencyTest\" as E1  [[psysml:0f0f2110-3be1-453e-862d-cec3a7a71a7a ]]  {\r\n",
       "package \"System\" as E2  [[psysml:c508d22c-e466-4361-9854-fd4393e1e853 ]]  {\r\n",
       "package \"Application Layer\" as E3  [[psysml:a9507a9e-eb7a-4860-b8c9-7900feca47e0 ]]  {\r\n",
       "}\r\n",
       "package \"Service Layer\" as E4  [[psysml:709ed33a-9ff9-4f13-a4b1-f82f2d0ae0d9 ]]  {\r\n",
       "}\r\n",
       "package \"Data Layer\" as E5  [[psysml:babd67af-01b8-42b4-9186-2fee6f5cc047 ]]  {\r\n",
       "}\r\n",
       "}\r\n",
       "comp usage \"x \" as E6  <<(T,blue) attribute>> [[psysml:2188fd29-8e87-4428-b2da-0b81f77b2176 ]] {\r\n",
       "}\r\n",
       "comp usage \"y \" as E7  <<(T,blue) attribute>> [[psysml:b1dded97-ff7b-4726-be9f-c0b539bbd77d ]] {\r\n",
       "}\r\n",
       "comp usage \"z \" as E8  <<(T,blue) attribute>> [[psysml:215a3247-a6dc-4d80-9cbe-6a95158331ec ]] {\r\n",
       "}\r\n",
       "}\r\n",
       "E1 ..> E2 [[psysml:8155982a-39d3-4776-bb66-97608c5c0d21 ]] : <<import>>*\r\n",
       "E3 ..>> E4 [[psysml:339645be-1a7b-490e-bb9e-fc7090e144b0 ]] : <<depend>>\r\n",
       "E4 ..>> E5 [[psysml:cd6419af-0f56-471f-8341-f3995db2a676 ]] : <<depend>>\r\n",
       "E8 ..>> E6 [[psysml:974879a0-be0c-4725-ba74-b00c4a2eaada ]] : <<depend>>\r\n",
       "E8 ..>> E7 [[psysml:974879a0-be0c-4725-ba74-b00c4a2eaada ]] : <<depend>>\r\n",
       "@enduml\r\n",
       "\n",
       "PlantUML version 1.2020.13(Sat Jun 13 12:26:38 UTC 2020)\n",
       "(EPL source distribution)\n",
       "Java Runtime: OpenJDK Runtime Environment\n",
       "JVM: OpenJDK 64-Bit Server VM\n",
       "Default Encoding: UTF-8\n",
       "Language: en\n",
       "Country: null\n",
       "--></g></svg>"
      ]
     },
     "execution_count": 43,
     "metadata": {},
     "output_type": "execute_result"
    }
   ],
   "source": [
    "%viz --style=\"DEFAULT\" --view=\"MIXED\" \"DependencyTest\""
   ]
  },
  {
   "cell_type": "code",
   "execution_count": 44,
   "id": "d05abfb5",
   "metadata": {
    "execution": {
     "iopub.execute_input": "2022-08-19T08:17:13.820075Z",
     "iopub.status.busy": "2022-08-19T08:17:13.819571Z",
     "iopub.status.idle": "2022-08-19T08:17:13.852461Z",
     "shell.execute_reply": "2022-08-19T08:17:13.852012Z"
    }
   },
   "outputs": [
    {
     "data": {
      "image/svg+xml": [
       "<?xml version=\"1.0\" encoding=\"UTF-8\" standalone=\"no\"?><svg xmlns=\"http://www.w3.org/2000/svg\" xmlns:xlink=\"http://www.w3.org/1999/xlink\" contentScriptType=\"application/ecmascript\" contentStyleType=\"text/css\" height=\"552px\" preserveAspectRatio=\"none\" style=\"width:536px;height:552px;\" version=\"1.1\" viewBox=\"0 0 536 552\" width=\"536px\" zoomAndPan=\"magnify\"><defs/><g><!--MD5=[fbc87193dbaf4d95561dea2c320d4a47]\n",
       "cluster E1--><a href=\"psysml:0f0f2110-3be1-453e-862d-cec3a7a71a7a\" target=\"_top\" title=\"psysml:0f0f2110-3be1-453e-862d-cec3a7a71a7a\" xlink:actuate=\"onRequest\" xlink:href=\"psysml:0f0f2110-3be1-453e-862d-cec3a7a71a7a\" xlink:show=\"new\" xlink:title=\"psysml:0f0f2110-3be1-453e-862d-cec3a7a71a7a\" xlink:type=\"simple\"><polygon fill=\"#FFFFFF\" points=\"16,6,142,6,149,28.2969,514,28.2969,514,540.72,16,540.72,16,6\" style=\"stroke: #000000; stroke-width: 1.5;\"/><line style=\"stroke: #000000; stroke-width: 1.5;\" x1=\"16\" x2=\"149\" y1=\"28.2969\" y2=\"28.2969\"/><text fill=\"#000000\" font-family=\"sans-serif\" font-size=\"14\" font-weight=\"bold\" lengthAdjust=\"spacingAndGlyphs\" textLength=\"120\" x=\"20\" y=\"20.9951\">DependencyTest</text></a><!--MD5=[e4f7fae6ed58524ba242bb0b0d3be6b7]\n",
       "cluster E2--><a href=\"psysml:c508d22c-e466-4361-9854-fd4393e1e853\" target=\"_top\" title=\"psysml:c508d22c-e466-4361-9854-fd4393e1e853\" xlink:actuate=\"onRequest\" xlink:href=\"psysml:c508d22c-e466-4361-9854-fd4393e1e853\" xlink:show=\"new\" xlink:title=\"psysml:c508d22c-e466-4361-9854-fd4393e1e853\" xlink:type=\"simple\"><polygon fill=\"#FFFFFF\" points=\"271,120.72,328,120.72,335,143.0169,474,143.0169,474,500.72,271,500.72,271,120.72\" style=\"stroke: #000000; stroke-width: 1.5;\"/><line style=\"stroke: #000000; stroke-width: 1.5;\" x1=\"271\" x2=\"335\" y1=\"143.0169\" y2=\"143.0169\"/><text fill=\"#000000\" font-family=\"sans-serif\" font-size=\"14\" font-weight=\"bold\" lengthAdjust=\"spacingAndGlyphs\" textLength=\"51\" x=\"275\" y=\"135.7151\">System</text></a><!--MD5=[60a26617385b1d2d0262a64233df1f8d]\n",
       "class E6--><a href=\"psysml:2188fd29-8e87-4428-b2da-0b81f77b2176\" target=\"_top\" title=\"psysml:2188fd29-8e87-4428-b2da-0b81f77b2176\" xlink:actuate=\"onRequest\" xlink:href=\"psysml:2188fd29-8e87-4428-b2da-0b81f77b2176\" xlink:show=\"new\" xlink:title=\"psysml:2188fd29-8e87-4428-b2da-0b81f77b2176\" xlink:type=\"simple\"><rect fill=\"#FFFFFF\" height=\"45.9375\" id=\"E6\" rx=\"10\" ry=\"10\" style=\"stroke: #383838; stroke-width: 1.5;\" width=\"71\" x=\"40.5\" y=\"297.22\"/><text fill=\"#000000\" font-family=\"sans-serif\" font-size=\"12\" font-style=\"italic\" lengthAdjust=\"spacingAndGlyphs\" textLength=\"69\" x=\"41.5\" y=\"313.3587\">«attribute»</text><text fill=\"#000000\" font-family=\"sans-serif\" font-size=\"12\" lengthAdjust=\"spacingAndGlyphs\" textLength=\"6\" x=\"71\" y=\"327.3274\">x</text><line style=\"stroke: #383838; stroke-width: 1.5;\" x1=\"41.5\" x2=\"110.5\" y1=\"335.1575\" y2=\"335.1575\"/></a><!--MD5=[2156ba9850f5573cc1fc38a6a4b2f02b]\n",
       "class E7--><a href=\"psysml:b1dded97-ff7b-4726-be9f-c0b539bbd77d\" target=\"_top\" title=\"psysml:b1dded97-ff7b-4726-be9f-c0b539bbd77d\" xlink:actuate=\"onRequest\" xlink:href=\"psysml:b1dded97-ff7b-4726-be9f-c0b539bbd77d\" xlink:show=\"new\" xlink:title=\"psysml:b1dded97-ff7b-4726-be9f-c0b539bbd77d\" xlink:type=\"simple\"><rect fill=\"#FFFFFF\" height=\"45.9375\" id=\"E7\" rx=\"10\" ry=\"10\" style=\"stroke: #383838; stroke-width: 1.5;\" width=\"71\" x=\"146.5\" y=\"297.22\"/><text fill=\"#000000\" font-family=\"sans-serif\" font-size=\"12\" font-style=\"italic\" lengthAdjust=\"spacingAndGlyphs\" textLength=\"69\" x=\"147.5\" y=\"313.3587\">«attribute»</text><text fill=\"#000000\" font-family=\"sans-serif\" font-size=\"12\" lengthAdjust=\"spacingAndGlyphs\" textLength=\"6\" x=\"177\" y=\"327.3274\">y</text><line style=\"stroke: #383838; stroke-width: 1.5;\" x1=\"147.5\" x2=\"216.5\" y1=\"335.1575\" y2=\"335.1575\"/></a><!--MD5=[b9389687b975829384b498ac4b7476b2]\n",
       "class E8--><a href=\"psysml:215a3247-a6dc-4d80-9cbe-6a95158331ec\" target=\"_top\" title=\"psysml:215a3247-a6dc-4d80-9cbe-6a95158331ec\" xlink:actuate=\"onRequest\" xlink:href=\"psysml:215a3247-a6dc-4d80-9cbe-6a95158331ec\" xlink:show=\"new\" xlink:title=\"psysml:215a3247-a6dc-4d80-9cbe-6a95158331ec\" xlink:type=\"simple\"><rect fill=\"#FFFFFF\" height=\"45.9375\" id=\"E8\" rx=\"10\" ry=\"10\" style=\"stroke: #383838; stroke-width: 1.5;\" width=\"71\" x=\"92.5\" y=\"167.22\"/><text fill=\"#000000\" font-family=\"sans-serif\" font-size=\"12\" font-style=\"italic\" lengthAdjust=\"spacingAndGlyphs\" textLength=\"69\" x=\"93.5\" y=\"183.3587\">«attribute»</text><text fill=\"#000000\" font-family=\"sans-serif\" font-size=\"12\" lengthAdjust=\"spacingAndGlyphs\" textLength=\"5\" x=\"123.5\" y=\"197.3274\">z</text><line style=\"stroke: #383838; stroke-width: 1.5;\" x1=\"93.5\" x2=\"162.5\" y1=\"205.1575\" y2=\"205.1575\"/></a><a href=\"psysml:a9507a9e-eb7a-4860-b8c9-7900feca47e0\" target=\"_top\" title=\"psysml:a9507a9e-eb7a-4860-b8c9-7900feca47e0\" xlink:actuate=\"onRequest\" xlink:href=\"psysml:a9507a9e-eb7a-4860-b8c9-7900feca47e0\" xlink:show=\"new\" xlink:title=\"psysml:a9507a9e-eb7a-4860-b8c9-7900feca47e0\" xlink:type=\"simple\"><polygon fill=\"#FFFFFF\" points=\"314.5,163.72,435.5,163.72,442.5,186.0169,449.5,186.0169,449.5,216.3138,314.5,216.3138,314.5,163.72\" style=\"stroke: #000000; stroke-width: 1.5;\"/><line style=\"stroke: #000000; stroke-width: 1.5;\" x1=\"314.5\" x2=\"442.5\" y1=\"186.0169\" y2=\"186.0169\"/><text fill=\"#000000\" font-family=\"sans-serif\" font-size=\"14\" font-weight=\"bold\" lengthAdjust=\"spacingAndGlyphs\" textLength=\"115\" x=\"318.5\" y=\"178.7151\">Application Layer</text></a><a href=\"psysml:709ed33a-9ff9-4f13-a4b1-f82f2d0ae0d9\" target=\"_top\" title=\"psysml:709ed33a-9ff9-4f13-a4b1-f82f2d0ae0d9\" xlink:actuate=\"onRequest\" xlink:href=\"psysml:709ed33a-9ff9-4f13-a4b1-f82f2d0ae0d9\" xlink:show=\"new\" xlink:title=\"psysml:709ed33a-9ff9-4f13-a4b1-f82f2d0ae0d9\" xlink:type=\"simple\"><polygon fill=\"#FFFFFF\" points=\"327,293.72,423,293.72,430,316.0169,437,316.0169,437,346.3138,327,346.3138,327,293.72\" style=\"stroke: #000000; stroke-width: 1.5;\"/><line style=\"stroke: #000000; stroke-width: 1.5;\" x1=\"327\" x2=\"430\" y1=\"316.0169\" y2=\"316.0169\"/><text fill=\"#000000\" font-family=\"sans-serif\" font-size=\"14\" font-weight=\"bold\" lengthAdjust=\"spacingAndGlyphs\" textLength=\"90\" x=\"331\" y=\"308.7151\">Service Layer</text></a><a href=\"psysml:babd67af-01b8-42b4-9186-2fee6f5cc047\" target=\"_top\" title=\"psysml:babd67af-01b8-42b4-9186-2fee6f5cc047\" xlink:actuate=\"onRequest\" xlink:href=\"psysml:babd67af-01b8-42b4-9186-2fee6f5cc047\" xlink:show=\"new\" xlink:title=\"psysml:babd67af-01b8-42b4-9186-2fee6f5cc047\" xlink:type=\"simple\"><polygon fill=\"#FFFFFF\" points=\"336,423.72,414,423.72,421,446.0169,428,446.0169,428,476.3138,336,476.3138,336,423.72\" style=\"stroke: #000000; stroke-width: 1.5;\"/><line style=\"stroke: #000000; stroke-width: 1.5;\" x1=\"336\" x2=\"421\" y1=\"446.0169\" y2=\"446.0169\"/><text fill=\"#000000\" font-family=\"sans-serif\" font-size=\"14\" font-weight=\"bold\" lengthAdjust=\"spacingAndGlyphs\" textLength=\"72\" x=\"340\" y=\"438.7151\">Data Layer</text></a><!--MD5=[1f1cd8e6dd4c1b2ca2aaccc9b9bcea6e]\n",
       "link E1 to E2--><a href=\"psysml:8155982a-39d3-4776-bb66-97608c5c0d21\" target=\"_top\" title=\"psysml:8155982a-39d3-4776-bb66-97608c5c0d21\" xlink:actuate=\"onRequest\" xlink:href=\"psysml:8155982a-39d3-4776-bb66-97608c5c0d21\" xlink:show=\"new\" xlink:title=\"psysml:8155982a-39d3-4776-bb66-97608c5c0d21\" xlink:type=\"simple\"><path d=\"M279,33.83 C279,36.15 279,73.83 279,111.5 C279,113.8544 279,116.2087 279,118.5544 C279,119.1408 279,119.7267 279,120.3119 \" fill=\"none\" id=\"E1-&gt;E2\" style=\"stroke: #383838; stroke-width: 1.0; stroke-dasharray: 7.0,7.0;\"/><polygon fill=\"#383838\" points=\"279,120.3119,283,111.3119,279,115.3119,275,111.3119,279,120.3119\" style=\"stroke: #383838; stroke-width: 1.0;\"/><text fill=\"#000000\" font-family=\"sans-serif\" font-size=\"13\" lengthAdjust=\"spacingAndGlyphs\" textLength=\"65\" x=\"280\" y=\"76.7869\">«import»*</text></a><!--MD5=[af87c684e3b0d8be13c1a698a818ef1e]\n",
       "link E3 to E4--><a href=\"psysml:339645be-1a7b-490e-bb9e-fc7090e144b0\" target=\"_top\" title=\"psysml:339645be-1a7b-490e-bb9e-fc7090e144b0\" xlink:actuate=\"onRequest\" xlink:href=\"psysml:339645be-1a7b-490e-bb9e-fc7090e144b0\" xlink:show=\"new\" xlink:title=\"psysml:339645be-1a7b-490e-bb9e-fc7090e144b0\" xlink:type=\"simple\"><path d=\"M382,216.82 C382,236.52 382,263.94 382,285.45 \" fill=\"none\" id=\"E3-&gt;E4\" style=\"stroke: #383838; stroke-width: 1.0; stroke-dasharray: 7.0,7.0;\"/><polygon fill=\"#383838\" points=\"382,293.67,385,285.67,379,285.67,382,293.67\" style=\"stroke: #383838; stroke-width: 1.0;\"/><text fill=\"#000000\" font-family=\"sans-serif\" font-size=\"13\" lengthAdjust=\"spacingAndGlyphs\" textLength=\"64\" x=\"383\" y=\"259.7869\">«depend»</text></a><!--MD5=[1b7591eae5389033d8d09a9d6721a717]\n",
       "link E4 to E5--><a href=\"psysml:cd6419af-0f56-471f-8341-f3995db2a676\" target=\"_top\" title=\"psysml:cd6419af-0f56-471f-8341-f3995db2a676\" xlink:actuate=\"onRequest\" xlink:href=\"psysml:cd6419af-0f56-471f-8341-f3995db2a676\" xlink:show=\"new\" xlink:title=\"psysml:cd6419af-0f56-471f-8341-f3995db2a676\" xlink:type=\"simple\"><path d=\"M382,346.82 C382,366.52 382,393.94 382,415.45 \" fill=\"none\" id=\"E4-&gt;E5\" style=\"stroke: #383838; stroke-width: 1.0; stroke-dasharray: 7.0,7.0;\"/><polygon fill=\"#383838\" points=\"382,423.67,385,415.67,379,415.67,382,423.67\" style=\"stroke: #383838; stroke-width: 1.0;\"/><text fill=\"#000000\" font-family=\"sans-serif\" font-size=\"13\" lengthAdjust=\"spacingAndGlyphs\" textLength=\"64\" x=\"383\" y=\"389.7869\">«depend»</text></a><!--MD5=[c5e8897d989ce984f93528998a7150fe]\n",
       "link E8 to E6--><a href=\"psysml:974879a0-be0c-4725-ba74-b00c4a2eaada\" target=\"_top\" title=\"psysml:974879a0-be0c-4725-ba74-b00c4a2eaada\" xlink:actuate=\"onRequest\" xlink:href=\"psysml:974879a0-be0c-4725-ba74-b00c4a2eaada\" xlink:show=\"new\" xlink:title=\"psysml:974879a0-be0c-4725-ba74-b00c4a2eaada\" xlink:type=\"simple\"><path d=\"M97.42,213.32 C87.35,222.4 77.37,233.83 72,246.72 C66.5,259.92 66.66,275.66 68.54,289.1 \" fill=\"none\" id=\"E8-&gt;E6\" style=\"stroke: #383838; stroke-width: 1.0; stroke-dasharray: 7.0,7.0;\"/><polygon fill=\"#383838\" points=\"69.9,297.12,71.517,288.7304,65.6018,289.7359,69.9,297.12\" style=\"stroke: #383838; stroke-width: 1.0;\"/><text fill=\"#000000\" font-family=\"sans-serif\" font-size=\"13\" lengthAdjust=\"spacingAndGlyphs\" textLength=\"64\" x=\"73\" y=\"259.7869\">«depend»</text></a><!--MD5=[bfa3c8b0d15052fdf50ae9310b491027]\n",
       "link E8 to E7--><a href=\"psysml:974879a0-be0c-4725-ba74-b00c4a2eaada\" target=\"_top\" title=\"psysml:974879a0-be0c-4725-ba74-b00c4a2eaada\" xlink:actuate=\"onRequest\" xlink:href=\"psysml:974879a0-be0c-4725-ba74-b00c4a2eaada\" xlink:show=\"new\" xlink:title=\"psysml:974879a0-be0c-4725-ba74-b00c4a2eaada\" xlink:type=\"simple\"><path d=\"M137.28,213.22 C146.17,234.29 159.64,266.22 169.47,289.53 \" fill=\"none\" id=\"E8-&gt;E7\" style=\"stroke: #383838; stroke-width: 1.0; stroke-dasharray: 7.0,7.0;\"/><polygon fill=\"#383838\" points=\"172.66,297.07,172.3241,288.5326,166.7933,290.8585,172.66,297.07\" style=\"stroke: #383838; stroke-width: 1.0;\"/><text fill=\"#000000\" font-family=\"sans-serif\" font-size=\"13\" lengthAdjust=\"spacingAndGlyphs\" textLength=\"64\" x=\"159\" y=\"259.7869\">«depend»</text></a><!--MD5=[0e992e7b5eeb88534baa8ca3dc45a193]\n",
       "@startuml\r\n",
       "top to bottom direction\r\n",
       "skinparam monochrome true\r\n",
       "skinparam classbackgroundcolor white\r\n",
       "skinparam shadowing false\r\n",
       "skinparam wrapWidth 300\r\n",
       "hide circle\r\n",
       "\r\n",
       "package \"DependencyTest\" as E1  [[psysml:0f0f2110-3be1-453e-862d-cec3a7a71a7a ]]  {\r\n",
       "package \"System\" as E2  [[psysml:c508d22c-e466-4361-9854-fd4393e1e853 ]]  {\r\n",
       "package \"Application Layer\" as E3  [[psysml:a9507a9e-eb7a-4860-b8c9-7900feca47e0 ]]  {\r\n",
       "}\r\n",
       "package \"Service Layer\" as E4  [[psysml:709ed33a-9ff9-4f13-a4b1-f82f2d0ae0d9 ]]  {\r\n",
       "}\r\n",
       "package \"Data Layer\" as E5  [[psysml:babd67af-01b8-42b4-9186-2fee6f5cc047 ]]  {\r\n",
       "}\r\n",
       "}\r\n",
       "comp usage \"x \" as E6  <<(T,blue) attribute>> [[psysml:2188fd29-8e87-4428-b2da-0b81f77b2176 ]] {\r\n",
       "}\r\n",
       "comp usage \"y \" as E7  <<(T,blue) attribute>> [[psysml:b1dded97-ff7b-4726-be9f-c0b539bbd77d ]] {\r\n",
       "}\r\n",
       "comp usage \"z \" as E8  <<(T,blue) attribute>> [[psysml:215a3247-a6dc-4d80-9cbe-6a95158331ec ]] {\r\n",
       "}\r\n",
       "}\r\n",
       "E1 ..> E2 [[psysml:8155982a-39d3-4776-bb66-97608c5c0d21 ]] : <<import>>*\r\n",
       "E3 ..>> E4 [[psysml:339645be-1a7b-490e-bb9e-fc7090e144b0 ]] : <<depend>>\r\n",
       "E4 ..>> E5 [[psysml:cd6419af-0f56-471f-8341-f3995db2a676 ]] : <<depend>>\r\n",
       "E8 ..>> E6 [[psysml:974879a0-be0c-4725-ba74-b00c4a2eaada ]] : <<depend>>\r\n",
       "E8 ..>> E7 [[psysml:974879a0-be0c-4725-ba74-b00c4a2eaada ]] : <<depend>>\r\n",
       "@enduml\r\n",
       "\n",
       "PlantUML version 1.2020.13(Sat Jun 13 12:26:38 UTC 2020)\n",
       "(EPL source distribution)\n",
       "Java Runtime: OpenJDK Runtime Environment\n",
       "JVM: OpenJDK 64-Bit Server VM\n",
       "Default Encoding: UTF-8\n",
       "Language: en\n",
       "Country: null\n",
       "--></g></svg>"
      ]
     },
     "execution_count": 44,
     "metadata": {},
     "output_type": "execute_result"
    }
   ],
   "source": [
    "%viz --style=\"TB\" --view=\"Default\" \"DependencyTest\""
   ]
  },
  {
   "cell_type": "code",
   "execution_count": 45,
   "id": "1192f331",
   "metadata": {
    "execution": {
     "iopub.execute_input": "2022-08-19T08:17:13.901867Z",
     "iopub.status.busy": "2022-08-19T08:17:13.901417Z",
     "iopub.status.idle": "2022-08-19T08:17:13.939179Z",
     "shell.execute_reply": "2022-08-19T08:17:13.938776Z"
    }
   },
   "outputs": [
    {
     "data": {
      "image/svg+xml": [
       "<?xml version=\"1.0\" encoding=\"UTF-8\" standalone=\"no\"?><svg xmlns=\"http://www.w3.org/2000/svg\" xmlns:xlink=\"http://www.w3.org/1999/xlink\" contentScriptType=\"application/ecmascript\" contentStyleType=\"text/css\" height=\"552px\" preserveAspectRatio=\"none\" style=\"width:536px;height:552px;\" version=\"1.1\" viewBox=\"0 0 536 552\" width=\"536px\" zoomAndPan=\"magnify\"><defs/><g><!--MD5=[fbc87193dbaf4d95561dea2c320d4a47]\n",
       "cluster E1--><a href=\"psysml:0f0f2110-3be1-453e-862d-cec3a7a71a7a\" target=\"_top\" title=\"psysml:0f0f2110-3be1-453e-862d-cec3a7a71a7a\" xlink:actuate=\"onRequest\" xlink:href=\"psysml:0f0f2110-3be1-453e-862d-cec3a7a71a7a\" xlink:show=\"new\" xlink:title=\"psysml:0f0f2110-3be1-453e-862d-cec3a7a71a7a\" xlink:type=\"simple\"><polygon fill=\"#FFFFFF\" points=\"16,6,142,6,149,28.2969,514,28.2969,514,540.72,16,540.72,16,6\" style=\"stroke: #000000; stroke-width: 1.5;\"/><line style=\"stroke: #000000; stroke-width: 1.5;\" x1=\"16\" x2=\"149\" y1=\"28.2969\" y2=\"28.2969\"/><text fill=\"#000000\" font-family=\"sans-serif\" font-size=\"14\" font-weight=\"bold\" lengthAdjust=\"spacingAndGlyphs\" textLength=\"120\" x=\"20\" y=\"20.9951\">DependencyTest</text></a><!--MD5=[e4f7fae6ed58524ba242bb0b0d3be6b7]\n",
       "cluster E2--><a href=\"psysml:c508d22c-e466-4361-9854-fd4393e1e853\" target=\"_top\" title=\"psysml:c508d22c-e466-4361-9854-fd4393e1e853\" xlink:actuate=\"onRequest\" xlink:href=\"psysml:c508d22c-e466-4361-9854-fd4393e1e853\" xlink:show=\"new\" xlink:title=\"psysml:c508d22c-e466-4361-9854-fd4393e1e853\" xlink:type=\"simple\"><polygon fill=\"#FFFFFF\" points=\"271,120.72,328,120.72,335,143.0169,474,143.0169,474,500.72,271,500.72,271,120.72\" style=\"stroke: #000000; stroke-width: 1.5;\"/><line style=\"stroke: #000000; stroke-width: 1.5;\" x1=\"271\" x2=\"335\" y1=\"143.0169\" y2=\"143.0169\"/><text fill=\"#000000\" font-family=\"sans-serif\" font-size=\"14\" font-weight=\"bold\" lengthAdjust=\"spacingAndGlyphs\" textLength=\"51\" x=\"275\" y=\"135.7151\">System</text></a><!--MD5=[60a26617385b1d2d0262a64233df1f8d]\n",
       "class E6--><a href=\"psysml:2188fd29-8e87-4428-b2da-0b81f77b2176\" target=\"_top\" title=\"psysml:2188fd29-8e87-4428-b2da-0b81f77b2176\" xlink:actuate=\"onRequest\" xlink:href=\"psysml:2188fd29-8e87-4428-b2da-0b81f77b2176\" xlink:show=\"new\" xlink:title=\"psysml:2188fd29-8e87-4428-b2da-0b81f77b2176\" xlink:type=\"simple\"><rect fill=\"#FFFFFF\" height=\"45.9375\" id=\"E6\" rx=\"10\" ry=\"10\" style=\"stroke: #383838; stroke-width: 1.5;\" width=\"71\" x=\"40.5\" y=\"297.22\"/><text fill=\"#000000\" font-family=\"sans-serif\" font-size=\"12\" font-style=\"italic\" lengthAdjust=\"spacingAndGlyphs\" textLength=\"69\" x=\"41.5\" y=\"313.3587\">«attribute»</text><text fill=\"#000000\" font-family=\"sans-serif\" font-size=\"12\" lengthAdjust=\"spacingAndGlyphs\" textLength=\"6\" x=\"71\" y=\"327.3274\">x</text><line style=\"stroke: #383838; stroke-width: 1.5;\" x1=\"41.5\" x2=\"110.5\" y1=\"335.1575\" y2=\"335.1575\"/></a><!--MD5=[2156ba9850f5573cc1fc38a6a4b2f02b]\n",
       "class E7--><a href=\"psysml:b1dded97-ff7b-4726-be9f-c0b539bbd77d\" target=\"_top\" title=\"psysml:b1dded97-ff7b-4726-be9f-c0b539bbd77d\" xlink:actuate=\"onRequest\" xlink:href=\"psysml:b1dded97-ff7b-4726-be9f-c0b539bbd77d\" xlink:show=\"new\" xlink:title=\"psysml:b1dded97-ff7b-4726-be9f-c0b539bbd77d\" xlink:type=\"simple\"><rect fill=\"#FFFFFF\" height=\"45.9375\" id=\"E7\" rx=\"10\" ry=\"10\" style=\"stroke: #383838; stroke-width: 1.5;\" width=\"71\" x=\"146.5\" y=\"297.22\"/><text fill=\"#000000\" font-family=\"sans-serif\" font-size=\"12\" font-style=\"italic\" lengthAdjust=\"spacingAndGlyphs\" textLength=\"69\" x=\"147.5\" y=\"313.3587\">«attribute»</text><text fill=\"#000000\" font-family=\"sans-serif\" font-size=\"12\" lengthAdjust=\"spacingAndGlyphs\" textLength=\"6\" x=\"177\" y=\"327.3274\">y</text><line style=\"stroke: #383838; stroke-width: 1.5;\" x1=\"147.5\" x2=\"216.5\" y1=\"335.1575\" y2=\"335.1575\"/></a><!--MD5=[b9389687b975829384b498ac4b7476b2]\n",
       "class E8--><a href=\"psysml:215a3247-a6dc-4d80-9cbe-6a95158331ec\" target=\"_top\" title=\"psysml:215a3247-a6dc-4d80-9cbe-6a95158331ec\" xlink:actuate=\"onRequest\" xlink:href=\"psysml:215a3247-a6dc-4d80-9cbe-6a95158331ec\" xlink:show=\"new\" xlink:title=\"psysml:215a3247-a6dc-4d80-9cbe-6a95158331ec\" xlink:type=\"simple\"><rect fill=\"#FFFFFF\" height=\"45.9375\" id=\"E8\" rx=\"10\" ry=\"10\" style=\"stroke: #383838; stroke-width: 1.5;\" width=\"71\" x=\"92.5\" y=\"167.22\"/><text fill=\"#000000\" font-family=\"sans-serif\" font-size=\"12\" font-style=\"italic\" lengthAdjust=\"spacingAndGlyphs\" textLength=\"69\" x=\"93.5\" y=\"183.3587\">«attribute»</text><text fill=\"#000000\" font-family=\"sans-serif\" font-size=\"12\" lengthAdjust=\"spacingAndGlyphs\" textLength=\"5\" x=\"123.5\" y=\"197.3274\">z</text><line style=\"stroke: #383838; stroke-width: 1.5;\" x1=\"93.5\" x2=\"162.5\" y1=\"205.1575\" y2=\"205.1575\"/></a><a href=\"psysml:a9507a9e-eb7a-4860-b8c9-7900feca47e0\" target=\"_top\" title=\"psysml:a9507a9e-eb7a-4860-b8c9-7900feca47e0\" xlink:actuate=\"onRequest\" xlink:href=\"psysml:a9507a9e-eb7a-4860-b8c9-7900feca47e0\" xlink:show=\"new\" xlink:title=\"psysml:a9507a9e-eb7a-4860-b8c9-7900feca47e0\" xlink:type=\"simple\"><polygon fill=\"#FFFFFF\" points=\"314.5,163.72,435.5,163.72,442.5,186.0169,449.5,186.0169,449.5,216.3138,314.5,216.3138,314.5,163.72\" style=\"stroke: #000000; stroke-width: 1.5;\"/><line style=\"stroke: #000000; stroke-width: 1.5;\" x1=\"314.5\" x2=\"442.5\" y1=\"186.0169\" y2=\"186.0169\"/><text fill=\"#000000\" font-family=\"sans-serif\" font-size=\"14\" font-weight=\"bold\" lengthAdjust=\"spacingAndGlyphs\" textLength=\"115\" x=\"318.5\" y=\"178.7151\">Application Layer</text></a><a href=\"psysml:709ed33a-9ff9-4f13-a4b1-f82f2d0ae0d9\" target=\"_top\" title=\"psysml:709ed33a-9ff9-4f13-a4b1-f82f2d0ae0d9\" xlink:actuate=\"onRequest\" xlink:href=\"psysml:709ed33a-9ff9-4f13-a4b1-f82f2d0ae0d9\" xlink:show=\"new\" xlink:title=\"psysml:709ed33a-9ff9-4f13-a4b1-f82f2d0ae0d9\" xlink:type=\"simple\"><polygon fill=\"#FFFFFF\" points=\"327,293.72,423,293.72,430,316.0169,437,316.0169,437,346.3138,327,346.3138,327,293.72\" style=\"stroke: #000000; stroke-width: 1.5;\"/><line style=\"stroke: #000000; stroke-width: 1.5;\" x1=\"327\" x2=\"430\" y1=\"316.0169\" y2=\"316.0169\"/><text fill=\"#000000\" font-family=\"sans-serif\" font-size=\"14\" font-weight=\"bold\" lengthAdjust=\"spacingAndGlyphs\" textLength=\"90\" x=\"331\" y=\"308.7151\">Service Layer</text></a><a href=\"psysml:babd67af-01b8-42b4-9186-2fee6f5cc047\" target=\"_top\" title=\"psysml:babd67af-01b8-42b4-9186-2fee6f5cc047\" xlink:actuate=\"onRequest\" xlink:href=\"psysml:babd67af-01b8-42b4-9186-2fee6f5cc047\" xlink:show=\"new\" xlink:title=\"psysml:babd67af-01b8-42b4-9186-2fee6f5cc047\" xlink:type=\"simple\"><polygon fill=\"#FFFFFF\" points=\"336,423.72,414,423.72,421,446.0169,428,446.0169,428,476.3138,336,476.3138,336,423.72\" style=\"stroke: #000000; stroke-width: 1.5;\"/><line style=\"stroke: #000000; stroke-width: 1.5;\" x1=\"336\" x2=\"421\" y1=\"446.0169\" y2=\"446.0169\"/><text fill=\"#000000\" font-family=\"sans-serif\" font-size=\"14\" font-weight=\"bold\" lengthAdjust=\"spacingAndGlyphs\" textLength=\"72\" x=\"340\" y=\"438.7151\">Data Layer</text></a><!--MD5=[1f1cd8e6dd4c1b2ca2aaccc9b9bcea6e]\n",
       "link E1 to E2--><a href=\"psysml:8155982a-39d3-4776-bb66-97608c5c0d21\" target=\"_top\" title=\"psysml:8155982a-39d3-4776-bb66-97608c5c0d21\" xlink:actuate=\"onRequest\" xlink:href=\"psysml:8155982a-39d3-4776-bb66-97608c5c0d21\" xlink:show=\"new\" xlink:title=\"psysml:8155982a-39d3-4776-bb66-97608c5c0d21\" xlink:type=\"simple\"><path d=\"M279,33.83 C279,36.15 279,73.83 279,111.5 C279,113.8544 279,116.2087 279,118.5544 C279,119.1408 279,119.7267 279,120.3119 \" fill=\"none\" id=\"E1-&gt;E2\" style=\"stroke: #383838; stroke-width: 1.0; stroke-dasharray: 7.0,7.0;\"/><polygon fill=\"#383838\" points=\"279,120.3119,283,111.3119,279,115.3119,275,111.3119,279,120.3119\" style=\"stroke: #383838; stroke-width: 1.0;\"/><text fill=\"#000000\" font-family=\"sans-serif\" font-size=\"13\" lengthAdjust=\"spacingAndGlyphs\" textLength=\"65\" x=\"280\" y=\"76.7869\">«import»*</text></a><!--MD5=[af87c684e3b0d8be13c1a698a818ef1e]\n",
       "link E3 to E4--><a href=\"psysml:339645be-1a7b-490e-bb9e-fc7090e144b0\" target=\"_top\" title=\"psysml:339645be-1a7b-490e-bb9e-fc7090e144b0\" xlink:actuate=\"onRequest\" xlink:href=\"psysml:339645be-1a7b-490e-bb9e-fc7090e144b0\" xlink:show=\"new\" xlink:title=\"psysml:339645be-1a7b-490e-bb9e-fc7090e144b0\" xlink:type=\"simple\"><path d=\"M382,216.82 C382,236.52 382,263.94 382,285.45 \" fill=\"none\" id=\"E3-&gt;E4\" style=\"stroke: #383838; stroke-width: 1.0; stroke-dasharray: 7.0,7.0;\"/><polygon fill=\"#383838\" points=\"382,293.67,385,285.67,379,285.67,382,293.67\" style=\"stroke: #383838; stroke-width: 1.0;\"/><text fill=\"#000000\" font-family=\"sans-serif\" font-size=\"13\" lengthAdjust=\"spacingAndGlyphs\" textLength=\"64\" x=\"383\" y=\"259.7869\">«depend»</text></a><!--MD5=[1b7591eae5389033d8d09a9d6721a717]\n",
       "link E4 to E5--><a href=\"psysml:cd6419af-0f56-471f-8341-f3995db2a676\" target=\"_top\" title=\"psysml:cd6419af-0f56-471f-8341-f3995db2a676\" xlink:actuate=\"onRequest\" xlink:href=\"psysml:cd6419af-0f56-471f-8341-f3995db2a676\" xlink:show=\"new\" xlink:title=\"psysml:cd6419af-0f56-471f-8341-f3995db2a676\" xlink:type=\"simple\"><path d=\"M382,346.82 C382,366.52 382,393.94 382,415.45 \" fill=\"none\" id=\"E4-&gt;E5\" style=\"stroke: #383838; stroke-width: 1.0; stroke-dasharray: 7.0,7.0;\"/><polygon fill=\"#383838\" points=\"382,423.67,385,415.67,379,415.67,382,423.67\" style=\"stroke: #383838; stroke-width: 1.0;\"/><text fill=\"#000000\" font-family=\"sans-serif\" font-size=\"13\" lengthAdjust=\"spacingAndGlyphs\" textLength=\"64\" x=\"383\" y=\"389.7869\">«depend»</text></a><!--MD5=[c5e8897d989ce984f93528998a7150fe]\n",
       "link E8 to E6--><a href=\"psysml:974879a0-be0c-4725-ba74-b00c4a2eaada\" target=\"_top\" title=\"psysml:974879a0-be0c-4725-ba74-b00c4a2eaada\" xlink:actuate=\"onRequest\" xlink:href=\"psysml:974879a0-be0c-4725-ba74-b00c4a2eaada\" xlink:show=\"new\" xlink:title=\"psysml:974879a0-be0c-4725-ba74-b00c4a2eaada\" xlink:type=\"simple\"><path d=\"M97.42,213.32 C87.35,222.4 77.37,233.83 72,246.72 C66.5,259.92 66.66,275.66 68.54,289.1 \" fill=\"none\" id=\"E8-&gt;E6\" style=\"stroke: #383838; stroke-width: 1.0; stroke-dasharray: 7.0,7.0;\"/><polygon fill=\"#383838\" points=\"69.9,297.12,71.517,288.7304,65.6018,289.7359,69.9,297.12\" style=\"stroke: #383838; stroke-width: 1.0;\"/><text fill=\"#000000\" font-family=\"sans-serif\" font-size=\"13\" lengthAdjust=\"spacingAndGlyphs\" textLength=\"64\" x=\"73\" y=\"259.7869\">«depend»</text></a><!--MD5=[bfa3c8b0d15052fdf50ae9310b491027]\n",
       "link E8 to E7--><a href=\"psysml:974879a0-be0c-4725-ba74-b00c4a2eaada\" target=\"_top\" title=\"psysml:974879a0-be0c-4725-ba74-b00c4a2eaada\" xlink:actuate=\"onRequest\" xlink:href=\"psysml:974879a0-be0c-4725-ba74-b00c4a2eaada\" xlink:show=\"new\" xlink:title=\"psysml:974879a0-be0c-4725-ba74-b00c4a2eaada\" xlink:type=\"simple\"><path d=\"M137.28,213.22 C146.17,234.29 159.64,266.22 169.47,289.53 \" fill=\"none\" id=\"E8-&gt;E7\" style=\"stroke: #383838; stroke-width: 1.0; stroke-dasharray: 7.0,7.0;\"/><polygon fill=\"#383838\" points=\"172.66,297.07,172.3241,288.5326,166.7933,290.8585,172.66,297.07\" style=\"stroke: #383838; stroke-width: 1.0;\"/><text fill=\"#000000\" font-family=\"sans-serif\" font-size=\"13\" lengthAdjust=\"spacingAndGlyphs\" textLength=\"64\" x=\"159\" y=\"259.7869\">«depend»</text></a><!--MD5=[0e992e7b5eeb88534baa8ca3dc45a193]\n",
       "@startuml\r\n",
       "top to bottom direction\r\n",
       "skinparam monochrome true\r\n",
       "skinparam classbackgroundcolor white\r\n",
       "skinparam shadowing false\r\n",
       "skinparam wrapWidth 300\r\n",
       "hide circle\r\n",
       "\r\n",
       "package \"DependencyTest\" as E1  [[psysml:0f0f2110-3be1-453e-862d-cec3a7a71a7a ]]  {\r\n",
       "package \"System\" as E2  [[psysml:c508d22c-e466-4361-9854-fd4393e1e853 ]]  {\r\n",
       "package \"Application Layer\" as E3  [[psysml:a9507a9e-eb7a-4860-b8c9-7900feca47e0 ]]  {\r\n",
       "}\r\n",
       "package \"Service Layer\" as E4  [[psysml:709ed33a-9ff9-4f13-a4b1-f82f2d0ae0d9 ]]  {\r\n",
       "}\r\n",
       "package \"Data Layer\" as E5  [[psysml:babd67af-01b8-42b4-9186-2fee6f5cc047 ]]  {\r\n",
       "}\r\n",
       "}\r\n",
       "comp usage \"x \" as E6  <<(T,blue) attribute>> [[psysml:2188fd29-8e87-4428-b2da-0b81f77b2176 ]] {\r\n",
       "}\r\n",
       "comp usage \"y \" as E7  <<(T,blue) attribute>> [[psysml:b1dded97-ff7b-4726-be9f-c0b539bbd77d ]] {\r\n",
       "}\r\n",
       "comp usage \"z \" as E8  <<(T,blue) attribute>> [[psysml:215a3247-a6dc-4d80-9cbe-6a95158331ec ]] {\r\n",
       "}\r\n",
       "}\r\n",
       "E1 ..> E2 [[psysml:8155982a-39d3-4776-bb66-97608c5c0d21 ]] : <<import>>*\r\n",
       "E3 ..>> E4 [[psysml:339645be-1a7b-490e-bb9e-fc7090e144b0 ]] : <<depend>>\r\n",
       "E4 ..>> E5 [[psysml:cd6419af-0f56-471f-8341-f3995db2a676 ]] : <<depend>>\r\n",
       "E8 ..>> E6 [[psysml:974879a0-be0c-4725-ba74-b00c4a2eaada ]] : <<depend>>\r\n",
       "E8 ..>> E7 [[psysml:974879a0-be0c-4725-ba74-b00c4a2eaada ]] : <<depend>>\r\n",
       "@enduml\r\n",
       "\n",
       "PlantUML version 1.2020.13(Sat Jun 13 12:26:38 UTC 2020)\n",
       "(EPL source distribution)\n",
       "Java Runtime: OpenJDK Runtime Environment\n",
       "JVM: OpenJDK 64-Bit Server VM\n",
       "Default Encoding: UTF-8\n",
       "Language: en\n",
       "Country: null\n",
       "--></g></svg>"
      ]
     },
     "execution_count": 45,
     "metadata": {},
     "output_type": "execute_result"
    }
   ],
   "source": [
    "%viz --style=\"TB\" --view=\"Tree\" \"DependencyTest\""
   ]
  },
  {
   "cell_type": "code",
   "execution_count": 46,
   "id": "456ec0cb",
   "metadata": {
    "execution": {
     "iopub.execute_input": "2022-08-19T08:17:13.988946Z",
     "iopub.status.busy": "2022-08-19T08:17:13.988504Z",
     "iopub.status.idle": "2022-08-19T08:17:13.992668Z",
     "shell.execute_reply": "2022-08-19T08:17:13.992985Z"
    }
   },
   "outputs": [
    {
     "data": {
      "image/svg+xml": [
       "<?xml version=\"1.0\" encoding=\"UTF-8\" standalone=\"no\"?><svg xmlns=\"http://www.w3.org/2000/svg\" xmlns:xlink=\"http://www.w3.org/1999/xlink\" contentScriptType=\"application/ecmascript\" contentStyleType=\"text/css\" height=\"12px\" preserveAspectRatio=\"none\" style=\"width:12px;height:12px;\" version=\"1.1\" viewBox=\"0 0 12 12\" width=\"12px\" zoomAndPan=\"magnify\"><defs/><g><!--MD5=[f4ee21bc66e489b5061b7c3e9601fdef]\n",
       "@startuml\r\n",
       "top to bottom direction\r\n",
       "skinparam monochrome true\r\n",
       "skinparam classbackgroundcolor white\r\n",
       "skinparam shadowing false\r\n",
       "skinparam wrapWidth 300\r\n",
       "hide circle\r\n",
       "\r\n",
       "@enduml\r\n",
       "\n",
       "PlantUML version 1.2020.13(Sat Jun 13 12:26:38 UTC 2020)\n",
       "(EPL source distribution)\n",
       "Java Runtime: OpenJDK Runtime Environment\n",
       "JVM: OpenJDK 64-Bit Server VM\n",
       "Default Encoding: UTF-8\n",
       "Language: en\n",
       "Country: null\n",
       "--></g></svg>"
      ]
     },
     "execution_count": 46,
     "metadata": {},
     "output_type": "execute_result"
    }
   ],
   "source": [
    "%viz --style=\"TB\" --view=\"State\" \"DependencyTest\""
   ]
  },
  {
   "cell_type": "code",
   "execution_count": 47,
   "id": "ca9215ad",
   "metadata": {
    "execution": {
     "iopub.execute_input": "2022-08-19T08:17:14.042927Z",
     "iopub.status.busy": "2022-08-19T08:17:14.042487Z",
     "iopub.status.idle": "2022-08-19T08:17:14.075516Z",
     "shell.execute_reply": "2022-08-19T08:17:14.074111Z"
    }
   },
   "outputs": [
    {
     "data": {
      "image/svg+xml": [
       "<?xml version=\"1.0\" encoding=\"UTF-8\" standalone=\"no\"?><svg xmlns=\"http://www.w3.org/2000/svg\" xmlns:xlink=\"http://www.w3.org/1999/xlink\" contentScriptType=\"application/ecmascript\" contentStyleType=\"text/css\" height=\"442px\" preserveAspectRatio=\"none\" style=\"width:536px;height:442px;\" version=\"1.1\" viewBox=\"0 0 536 442\" width=\"536px\" zoomAndPan=\"magnify\"><defs/><g><!--MD5=[fbc87193dbaf4d95561dea2c320d4a47]\n",
       "cluster E1--><a href=\"psysml:0f0f2110-3be1-453e-862d-cec3a7a71a7a\" target=\"_top\" title=\"psysml:0f0f2110-3be1-453e-862d-cec3a7a71a7a\" xlink:actuate=\"onRequest\" xlink:href=\"psysml:0f0f2110-3be1-453e-862d-cec3a7a71a7a\" xlink:show=\"new\" xlink:title=\"psysml:0f0f2110-3be1-453e-862d-cec3a7a71a7a\" xlink:type=\"simple\"><polygon fill=\"#FFFFFF\" points=\"16,6,142,6,149,28.2969,514,28.2969,514,430.72,16,430.72,16,6\" style=\"stroke: #000000; stroke-width: 1.5;\"/><line style=\"stroke: #000000; stroke-width: 1.5;\" x1=\"16\" x2=\"149\" y1=\"28.2969\" y2=\"28.2969\"/><text fill=\"#000000\" font-family=\"sans-serif\" font-size=\"14\" font-weight=\"bold\" lengthAdjust=\"spacingAndGlyphs\" textLength=\"120\" x=\"20\" y=\"20.9951\">DependencyTest</text></a><!--MD5=[e4f7fae6ed58524ba242bb0b0d3be6b7]\n",
       "cluster E2--><a href=\"psysml:c508d22c-e466-4361-9854-fd4393e1e853\" target=\"_top\" title=\"psysml:c508d22c-e466-4361-9854-fd4393e1e853\" xlink:actuate=\"onRequest\" xlink:href=\"psysml:c508d22c-e466-4361-9854-fd4393e1e853\" xlink:show=\"new\" xlink:title=\"psysml:c508d22c-e466-4361-9854-fd4393e1e853\" xlink:type=\"simple\"><polygon fill=\"#FFFFFF\" points=\"271,98.72,328,98.72,335,121.0169,474,121.0169,474,390.72,271,390.72,271,98.72\" style=\"stroke: #000000; stroke-width: 1.5;\"/><line style=\"stroke: #000000; stroke-width: 1.5;\" x1=\"271\" x2=\"335\" y1=\"121.0169\" y2=\"121.0169\"/><text fill=\"#000000\" font-family=\"sans-serif\" font-size=\"14\" font-weight=\"bold\" lengthAdjust=\"spacingAndGlyphs\" textLength=\"51\" x=\"275\" y=\"113.7151\">System</text></a><!--MD5=[60a26617385b1d2d0262a64233df1f8d]\n",
       "class E6--><a href=\"psysml:2188fd29-8e87-4428-b2da-0b81f77b2176\" target=\"_top\" title=\"psysml:2188fd29-8e87-4428-b2da-0b81f77b2176\" xlink:actuate=\"onRequest\" xlink:href=\"psysml:2188fd29-8e87-4428-b2da-0b81f77b2176\" xlink:show=\"new\" xlink:title=\"psysml:2188fd29-8e87-4428-b2da-0b81f77b2176\" xlink:type=\"simple\"><rect fill=\"#FFFFFF\" height=\"45.9375\" id=\"E6\" rx=\"10\" ry=\"10\" style=\"stroke: #383838; stroke-width: 1.5;\" width=\"71\" x=\"40.5\" y=\"231.22\"/><text fill=\"#000000\" font-family=\"sans-serif\" font-size=\"12\" font-style=\"italic\" lengthAdjust=\"spacingAndGlyphs\" textLength=\"69\" x=\"41.5\" y=\"247.3587\">«attribute»</text><text fill=\"#000000\" font-family=\"sans-serif\" font-size=\"12\" lengthAdjust=\"spacingAndGlyphs\" textLength=\"6\" x=\"71\" y=\"261.3274\">x</text><line style=\"stroke: #383838; stroke-width: 1.5;\" x1=\"41.5\" x2=\"110.5\" y1=\"269.1575\" y2=\"269.1575\"/></a><!--MD5=[2156ba9850f5573cc1fc38a6a4b2f02b]\n",
       "class E7--><a href=\"psysml:b1dded97-ff7b-4726-be9f-c0b539bbd77d\" target=\"_top\" title=\"psysml:b1dded97-ff7b-4726-be9f-c0b539bbd77d\" xlink:actuate=\"onRequest\" xlink:href=\"psysml:b1dded97-ff7b-4726-be9f-c0b539bbd77d\" xlink:show=\"new\" xlink:title=\"psysml:b1dded97-ff7b-4726-be9f-c0b539bbd77d\" xlink:type=\"simple\"><rect fill=\"#FFFFFF\" height=\"45.9375\" id=\"E7\" rx=\"10\" ry=\"10\" style=\"stroke: #383838; stroke-width: 1.5;\" width=\"71\" x=\"146.5\" y=\"231.22\"/><text fill=\"#000000\" font-family=\"sans-serif\" font-size=\"12\" font-style=\"italic\" lengthAdjust=\"spacingAndGlyphs\" textLength=\"69\" x=\"147.5\" y=\"247.3587\">«attribute»</text><text fill=\"#000000\" font-family=\"sans-serif\" font-size=\"12\" lengthAdjust=\"spacingAndGlyphs\" textLength=\"6\" x=\"177\" y=\"261.3274\">y</text><line style=\"stroke: #383838; stroke-width: 1.5;\" x1=\"147.5\" x2=\"216.5\" y1=\"269.1575\" y2=\"269.1575\"/></a><!--MD5=[b9389687b975829384b498ac4b7476b2]\n",
       "class E8--><a href=\"psysml:215a3247-a6dc-4d80-9cbe-6a95158331ec\" target=\"_top\" title=\"psysml:215a3247-a6dc-4d80-9cbe-6a95158331ec\" xlink:actuate=\"onRequest\" xlink:href=\"psysml:215a3247-a6dc-4d80-9cbe-6a95158331ec\" xlink:show=\"new\" xlink:title=\"psysml:215a3247-a6dc-4d80-9cbe-6a95158331ec\" xlink:type=\"simple\"><rect fill=\"#FFFFFF\" height=\"45.9375\" id=\"E8\" rx=\"10\" ry=\"10\" style=\"stroke: #383838; stroke-width: 1.5;\" width=\"71\" x=\"92.5\" y=\"145.22\"/><text fill=\"#000000\" font-family=\"sans-serif\" font-size=\"12\" font-style=\"italic\" lengthAdjust=\"spacingAndGlyphs\" textLength=\"69\" x=\"93.5\" y=\"161.3587\">«attribute»</text><text fill=\"#000000\" font-family=\"sans-serif\" font-size=\"12\" lengthAdjust=\"spacingAndGlyphs\" textLength=\"5\" x=\"123.5\" y=\"175.3274\">z</text><line style=\"stroke: #383838; stroke-width: 1.5;\" x1=\"93.5\" x2=\"162.5\" y1=\"183.1575\" y2=\"183.1575\"/></a><a href=\"psysml:a9507a9e-eb7a-4860-b8c9-7900feca47e0\" target=\"_top\" title=\"psysml:a9507a9e-eb7a-4860-b8c9-7900feca47e0\" xlink:actuate=\"onRequest\" xlink:href=\"psysml:a9507a9e-eb7a-4860-b8c9-7900feca47e0\" xlink:show=\"new\" xlink:title=\"psysml:a9507a9e-eb7a-4860-b8c9-7900feca47e0\" xlink:type=\"simple\"><polygon fill=\"#FFFFFF\" points=\"314.5,141.72,435.5,141.72,442.5,164.0169,449.5,164.0169,449.5,194.3138,314.5,194.3138,314.5,141.72\" style=\"stroke: #000000; stroke-width: 1.5;\"/><line style=\"stroke: #000000; stroke-width: 1.5;\" x1=\"314.5\" x2=\"442.5\" y1=\"164.0169\" y2=\"164.0169\"/><text fill=\"#000000\" font-family=\"sans-serif\" font-size=\"14\" font-weight=\"bold\" lengthAdjust=\"spacingAndGlyphs\" textLength=\"115\" x=\"318.5\" y=\"156.7151\">Application Layer</text></a><a href=\"psysml:709ed33a-9ff9-4f13-a4b1-f82f2d0ae0d9\" target=\"_top\" title=\"psysml:709ed33a-9ff9-4f13-a4b1-f82f2d0ae0d9\" xlink:actuate=\"onRequest\" xlink:href=\"psysml:709ed33a-9ff9-4f13-a4b1-f82f2d0ae0d9\" xlink:show=\"new\" xlink:title=\"psysml:709ed33a-9ff9-4f13-a4b1-f82f2d0ae0d9\" xlink:type=\"simple\"><polygon fill=\"#FFFFFF\" points=\"327,227.72,423,227.72,430,250.0169,437,250.0169,437,280.3138,327,280.3138,327,227.72\" style=\"stroke: #000000; stroke-width: 1.5;\"/><line style=\"stroke: #000000; stroke-width: 1.5;\" x1=\"327\" x2=\"430\" y1=\"250.0169\" y2=\"250.0169\"/><text fill=\"#000000\" font-family=\"sans-serif\" font-size=\"14\" font-weight=\"bold\" lengthAdjust=\"spacingAndGlyphs\" textLength=\"90\" x=\"331\" y=\"242.7151\">Service Layer</text></a><a href=\"psysml:babd67af-01b8-42b4-9186-2fee6f5cc047\" target=\"_top\" title=\"psysml:babd67af-01b8-42b4-9186-2fee6f5cc047\" xlink:actuate=\"onRequest\" xlink:href=\"psysml:babd67af-01b8-42b4-9186-2fee6f5cc047\" xlink:show=\"new\" xlink:title=\"psysml:babd67af-01b8-42b4-9186-2fee6f5cc047\" xlink:type=\"simple\"><polygon fill=\"#FFFFFF\" points=\"336,313.72,414,313.72,421,336.0169,428,336.0169,428,366.3138,336,366.3138,336,313.72\" style=\"stroke: #000000; stroke-width: 1.5;\"/><line style=\"stroke: #000000; stroke-width: 1.5;\" x1=\"336\" x2=\"421\" y1=\"336.0169\" y2=\"336.0169\"/><text fill=\"#000000\" font-family=\"sans-serif\" font-size=\"14\" font-weight=\"bold\" lengthAdjust=\"spacingAndGlyphs\" textLength=\"72\" x=\"340\" y=\"328.7151\">Data Layer</text></a><!--MD5=[1f1cd8e6dd4c1b2ca2aaccc9b9bcea6e]\n",
       "link E1 to E2--><a href=\"psysml:8155982a-39d3-4776-bb66-97608c5c0d21\" target=\"_top\" title=\"psysml:8155982a-39d3-4776-bb66-97608c5c0d21\" xlink:actuate=\"onRequest\" xlink:href=\"psysml:8155982a-39d3-4776-bb66-97608c5c0d21\" xlink:show=\"new\" xlink:title=\"psysml:8155982a-39d3-4776-bb66-97608c5c0d21\" xlink:type=\"simple\"><path d=\"M279,33.82 C279,34.815 279,43.3994 279,55.7775 C279,61.9666 279,69.1041 279,76.7155 C279,80.5213 279,84.4455 279,88.429 C279,90.4207 279,92.4272 279,94.4411 C279,95.448 279,96.4568 279,97.4665 C279,97.719 279,97.9714 279,98.224 \" fill=\"none\" id=\"E1-&gt;E2\" style=\"stroke: #383838; stroke-width: 1.0; stroke-dasharray: 7.0,7.0;\"/><polygon fill=\"#383838\" points=\"279,98.224,283,89.224,279,93.224,275,89.224,279,98.224\" style=\"stroke: #383838; stroke-width: 1.0;\"/><text fill=\"#000000\" font-family=\"sans-serif\" font-size=\"13\" lengthAdjust=\"spacingAndGlyphs\" textLength=\"65\" x=\"280\" y=\"54.7869\">«import»*</text></a><!--MD5=[af87c684e3b0d8be13c1a698a818ef1e]\n",
       "link E3 to E4--><a href=\"psysml:339645be-1a7b-490e-bb9e-fc7090e144b0\" target=\"_top\" title=\"psysml:339645be-1a7b-490e-bb9e-fc7090e144b0\" xlink:actuate=\"onRequest\" xlink:href=\"psysml:339645be-1a7b-490e-bb9e-fc7090e144b0\" xlink:show=\"new\" xlink:title=\"psysml:339645be-1a7b-490e-bb9e-fc7090e144b0\" xlink:type=\"simple\"><path d=\"M382,194.88 C382,202.7 382,211.41 382,219.66 \" fill=\"none\" id=\"E3-&gt;E4\" style=\"stroke: #383838; stroke-width: 1.0; stroke-dasharray: 7.0,7.0;\"/><polygon fill=\"#383838\" points=\"382,227.72,385,219.72,379,219.72,382,227.72\" style=\"stroke: #383838; stroke-width: 1.0;\"/><text fill=\"#000000\" font-family=\"sans-serif\" font-size=\"13\" lengthAdjust=\"spacingAndGlyphs\" textLength=\"64\" x=\"383\" y=\"215.7869\">«depend»</text></a><!--MD5=[1b7591eae5389033d8d09a9d6721a717]\n",
       "link E4 to E5--><a href=\"psysml:cd6419af-0f56-471f-8341-f3995db2a676\" target=\"_top\" title=\"psysml:cd6419af-0f56-471f-8341-f3995db2a676\" xlink:actuate=\"onRequest\" xlink:href=\"psysml:cd6419af-0f56-471f-8341-f3995db2a676\" xlink:show=\"new\" xlink:title=\"psysml:cd6419af-0f56-471f-8341-f3995db2a676\" xlink:type=\"simple\"><path d=\"M382,280.88 C382,288.7 382,297.41 382,305.66 \" fill=\"none\" id=\"E4-&gt;E5\" style=\"stroke: #383838; stroke-width: 1.0; stroke-dasharray: 7.0,7.0;\"/><polygon fill=\"#383838\" points=\"382,313.72,385,305.72,379,305.72,382,313.72\" style=\"stroke: #383838; stroke-width: 1.0;\"/><text fill=\"#000000\" font-family=\"sans-serif\" font-size=\"13\" lengthAdjust=\"spacingAndGlyphs\" textLength=\"64\" x=\"383\" y=\"301.7869\">«depend»</text></a><!--MD5=[c5e8897d989ce984f93528998a7150fe]\n",
       "link E8 to E6--><a href=\"psysml:974879a0-be0c-4725-ba74-b00c4a2eaada\" target=\"_top\" title=\"psysml:974879a0-be0c-4725-ba74-b00c4a2eaada\" xlink:actuate=\"onRequest\" xlink:href=\"psysml:974879a0-be0c-4725-ba74-b00c4a2eaada\" xlink:show=\"new\" xlink:title=\"psysml:974879a0-be0c-4725-ba74-b00c4a2eaada\" xlink:type=\"simple\"><path d=\"M92.49,183.06 C84.34,187.99 76.69,194.44 72,202.72 C68.54,208.82 67.62,216.03 68,223.05 \" fill=\"none\" id=\"E8-&gt;E6\" style=\"stroke: #383838; stroke-width: 1.0; stroke-dasharray: 7.0,7.0;\"/><polygon fill=\"#383838\" points=\"68.97,231.14,71.0061,222.8421,65.0479,223.5494,68.97,231.14\" style=\"stroke: #383838; stroke-width: 1.0;\"/><text fill=\"#000000\" font-family=\"sans-serif\" font-size=\"13\" lengthAdjust=\"spacingAndGlyphs\" textLength=\"64\" x=\"73\" y=\"215.7869\">«depend»</text></a><!--MD5=[bfa3c8b0d15052fdf50ae9310b491027]\n",
       "link E8 to E7--><a href=\"psysml:974879a0-be0c-4725-ba74-b00c4a2eaada\" target=\"_top\" title=\"psysml:974879a0-be0c-4725-ba74-b00c4a2eaada\" xlink:actuate=\"onRequest\" xlink:href=\"psysml:974879a0-be0c-4725-ba74-b00c4a2eaada\" xlink:show=\"new\" xlink:title=\"psysml:974879a0-be0c-4725-ba74-b00c4a2eaada\" xlink:type=\"simple\"><path d=\"M142.19,191.29 C148.65,201.34 156.38,213.37 163.31,224.14 \" fill=\"none\" id=\"E8-&gt;E7\" style=\"stroke: #383838; stroke-width: 1.0; stroke-dasharray: 7.0,7.0;\"/><polygon fill=\"#383838\" points=\"167.72,231.01,165.9148,222.6589,160.8688,225.905,167.72,231.01\" style=\"stroke: #383838; stroke-width: 1.0;\"/><text fill=\"#000000\" font-family=\"sans-serif\" font-size=\"13\" lengthAdjust=\"spacingAndGlyphs\" textLength=\"64\" x=\"160\" y=\"215.7869\">«depend»</text></a><!--MD5=[26f76028a948badecff642db1526f7ea]\n",
       "@startuml\r\n",
       "skinparam ranksep 10\r\n",
       "skinparam rectangle {\r\n",
       " backgroundColor<<block>> LightGreen\r\n",
       "}\r\n",
       "top to bottom direction\r\n",
       "skinparam monochrome true\r\n",
       "skinparam classbackgroundcolor white\r\n",
       "skinparam shadowing false\r\n",
       "skinparam wrapWidth 300\r\n",
       "hide circle\r\n",
       "\r\n",
       "package \"DependencyTest\" as E1  [[psysml:0f0f2110-3be1-453e-862d-cec3a7a71a7a ]]  {\r\n",
       "package \"System\" as E2  [[psysml:c508d22c-e466-4361-9854-fd4393e1e853 ]]  {\r\n",
       "package \"Application Layer\" as E3  [[psysml:a9507a9e-eb7a-4860-b8c9-7900feca47e0 ]]  {\r\n",
       "}\r\n",
       "package \"Service Layer\" as E4  [[psysml:709ed33a-9ff9-4f13-a4b1-f82f2d0ae0d9 ]]  {\r\n",
       "}\r\n",
       "package \"Data Layer\" as E5  [[psysml:babd67af-01b8-42b4-9186-2fee6f5cc047 ]]  {\r\n",
       "}\r\n",
       "}\r\n",
       "comp usage \"x \" as E6  <<(T,blue) attribute>> [[psysml:2188fd29-8e87-4428-b2da-0b81f77b2176 ]] {\r\n",
       "}\r\n",
       "comp usage \"y \" as E7  <<(T,blue) attribute>> [[psysml:b1dded97-ff7b-4726-be9f-c0b539bbd77d ]] {\r\n",
       "}\r\n",
       "comp usage \"z \" as E8  <<(T,blue) attribute>> [[psysml:215a3247-a6dc-4d80-9cbe-6a95158331ec ]] {\r\n",
       "}\r\n",
       "}\r\n",
       "E1 ..> E2 [[psysml:8155982a-39d3-4776-bb66-97608c5c0d21 ]] : <<import>>*\r\n",
       "E3 ..>> E4 [[psysml:339645be-1a7b-490e-bb9e-fc7090e144b0 ]] : <<depend>>\r\n",
       "E4 ..>> E5 [[psysml:cd6419af-0f56-471f-8341-f3995db2a676 ]] : <<depend>>\r\n",
       "E8 ..>> E6 [[psysml:974879a0-be0c-4725-ba74-b00c4a2eaada ]] : <<depend>>\r\n",
       "E8 ..>> E7 [[psysml:974879a0-be0c-4725-ba74-b00c4a2eaada ]] : <<depend>>\r\n",
       "@enduml\r\n",
       "\n",
       "PlantUML version 1.2020.13(Sat Jun 13 12:26:38 UTC 2020)\n",
       "(EPL source distribution)\n",
       "Java Runtime: OpenJDK Runtime Environment\n",
       "JVM: OpenJDK 64-Bit Server VM\n",
       "Default Encoding: UTF-8\n",
       "Language: en\n",
       "Country: null\n",
       "--></g></svg>"
      ]
     },
     "execution_count": 47,
     "metadata": {},
     "output_type": "execute_result"
    }
   ],
   "source": [
    "%viz --style=\"TB\" --view=\"Interconnection\" \"DependencyTest\""
   ]
  },
  {
   "cell_type": "code",
   "execution_count": 48,
   "id": "de5ab417",
   "metadata": {
    "execution": {
     "iopub.execute_input": "2022-08-19T08:17:14.125227Z",
     "iopub.status.busy": "2022-08-19T08:17:14.124771Z",
     "iopub.status.idle": "2022-08-19T08:17:14.129867Z",
     "shell.execute_reply": "2022-08-19T08:17:14.130188Z"
    }
   },
   "outputs": [
    {
     "data": {
      "image/svg+xml": [
       "<?xml version=\"1.0\" encoding=\"UTF-8\" standalone=\"no\"?><svg xmlns=\"http://www.w3.org/2000/svg\" xmlns:xlink=\"http://www.w3.org/1999/xlink\" contentScriptType=\"application/ecmascript\" contentStyleType=\"text/css\" height=\"12px\" preserveAspectRatio=\"none\" style=\"width:12px;height:12px;\" version=\"1.1\" viewBox=\"0 0 12 12\" width=\"12px\" zoomAndPan=\"magnify\"><defs/><g><!--MD5=[06afc254b03ac5e9d9fb7773b07d0800]\n",
       "@startuml\r\n",
       "skinparam ranksep 8\r\n",
       "top to bottom direction\r\n",
       "skinparam monochrome true\r\n",
       "skinparam classbackgroundcolor white\r\n",
       "skinparam shadowing false\r\n",
       "skinparam wrapWidth 300\r\n",
       "hide circle\r\n",
       "\r\n",
       "@enduml\r\n",
       "\n",
       "PlantUML version 1.2020.13(Sat Jun 13 12:26:38 UTC 2020)\n",
       "(EPL source distribution)\n",
       "Java Runtime: OpenJDK Runtime Environment\n",
       "JVM: OpenJDK 64-Bit Server VM\n",
       "Default Encoding: UTF-8\n",
       "Language: en\n",
       "Country: null\n",
       "--></g></svg>"
      ]
     },
     "execution_count": 48,
     "metadata": {},
     "output_type": "execute_result"
    }
   ],
   "source": [
    "%viz --style=\"TB\" --view=\"Action\" \"DependencyTest\""
   ]
  },
  {
   "cell_type": "code",
   "execution_count": 49,
   "id": "6bf93adc",
   "metadata": {
    "execution": {
     "iopub.execute_input": "2022-08-19T08:17:14.180487Z",
     "iopub.status.busy": "2022-08-19T08:17:14.180033Z",
     "iopub.status.idle": "2022-08-19T08:17:14.185654Z",
     "shell.execute_reply": "2022-08-19T08:17:14.185253Z"
    }
   },
   "outputs": [
    {
     "data": {
      "image/svg+xml": [
       "<?xml version=\"1.0\" encoding=\"UTF-8\" standalone=\"no\"?><svg xmlns=\"http://www.w3.org/2000/svg\" xmlns:xlink=\"http://www.w3.org/1999/xlink\" contentScriptType=\"application/ecmascript\" contentStyleType=\"text/css\" height=\"12px\" preserveAspectRatio=\"none\" style=\"width:12px;height:12px;\" version=\"1.1\" viewBox=\"0 0 12 12\" width=\"12px\" zoomAndPan=\"magnify\"><defs/><g><!--MD5=[e1ab0c84c44d2fef8bf5f140f2689906]\n",
       "@startuml\r\n",
       "skinparam roundcorner 20\r\n",
       "skinparam BoxPadding 20\r\n",
       "skinparam SequenceBoxBackgroundColor #white\r\n",
       "skinparam style strictuml\r\n",
       "skinparam maxMessageSize 100\r\n",
       "top to bottom direction\r\n",
       "skinparam monochrome true\r\n",
       "skinparam classbackgroundcolor white\r\n",
       "skinparam shadowing false\r\n",
       "skinparam wrapWidth 300\r\n",
       "hide circle\r\n",
       "\r\n",
       "@enduml\r\n",
       "\n",
       "PlantUML version 1.2020.13(Sat Jun 13 12:26:38 UTC 2020)\n",
       "(EPL source distribution)\n",
       "Java Runtime: OpenJDK Runtime Environment\n",
       "JVM: OpenJDK 64-Bit Server VM\n",
       "Default Encoding: UTF-8\n",
       "Language: en\n",
       "Country: null\n",
       "--></g></svg>"
      ]
     },
     "execution_count": 49,
     "metadata": {},
     "output_type": "execute_result"
    }
   ],
   "source": [
    "%viz --style=\"TB\" --view=\"Sequence\" \"DependencyTest\""
   ]
  },
  {
   "cell_type": "code",
   "execution_count": 50,
   "id": "75281c49",
   "metadata": {
    "execution": {
     "iopub.execute_input": "2022-08-19T08:17:14.235661Z",
     "iopub.status.busy": "2022-08-19T08:17:14.235213Z",
     "iopub.status.idle": "2022-08-19T08:17:14.266033Z",
     "shell.execute_reply": "2022-08-19T08:17:14.264650Z"
    }
   },
   "outputs": [
    {
     "data": {
      "image/svg+xml": [
       "<?xml version=\"1.0\" encoding=\"UTF-8\" standalone=\"no\"?><svg xmlns=\"http://www.w3.org/2000/svg\" xmlns:xlink=\"http://www.w3.org/1999/xlink\" contentScriptType=\"application/ecmascript\" contentStyleType=\"text/css\" height=\"552px\" preserveAspectRatio=\"none\" style=\"width:536px;height:552px;\" version=\"1.1\" viewBox=\"0 0 536 552\" width=\"536px\" zoomAndPan=\"magnify\"><defs/><g><!--MD5=[fbc87193dbaf4d95561dea2c320d4a47]\n",
       "cluster E1--><a href=\"psysml:0f0f2110-3be1-453e-862d-cec3a7a71a7a\" target=\"_top\" title=\"psysml:0f0f2110-3be1-453e-862d-cec3a7a71a7a\" xlink:actuate=\"onRequest\" xlink:href=\"psysml:0f0f2110-3be1-453e-862d-cec3a7a71a7a\" xlink:show=\"new\" xlink:title=\"psysml:0f0f2110-3be1-453e-862d-cec3a7a71a7a\" xlink:type=\"simple\"><polygon fill=\"#FFFFFF\" points=\"16,6,142,6,149,28.2969,514,28.2969,514,540.72,16,540.72,16,6\" style=\"stroke: #000000; stroke-width: 1.5;\"/><line style=\"stroke: #000000; stroke-width: 1.5;\" x1=\"16\" x2=\"149\" y1=\"28.2969\" y2=\"28.2969\"/><text fill=\"#000000\" font-family=\"sans-serif\" font-size=\"14\" font-weight=\"bold\" lengthAdjust=\"spacingAndGlyphs\" textLength=\"120\" x=\"20\" y=\"20.9951\">DependencyTest</text></a><!--MD5=[e4f7fae6ed58524ba242bb0b0d3be6b7]\n",
       "cluster E2--><a href=\"psysml:c508d22c-e466-4361-9854-fd4393e1e853\" target=\"_top\" title=\"psysml:c508d22c-e466-4361-9854-fd4393e1e853\" xlink:actuate=\"onRequest\" xlink:href=\"psysml:c508d22c-e466-4361-9854-fd4393e1e853\" xlink:show=\"new\" xlink:title=\"psysml:c508d22c-e466-4361-9854-fd4393e1e853\" xlink:type=\"simple\"><polygon fill=\"#FFFFFF\" points=\"271,120.72,328,120.72,335,143.0169,474,143.0169,474,500.72,271,500.72,271,120.72\" style=\"stroke: #000000; stroke-width: 1.5;\"/><line style=\"stroke: #000000; stroke-width: 1.5;\" x1=\"271\" x2=\"335\" y1=\"143.0169\" y2=\"143.0169\"/><text fill=\"#000000\" font-family=\"sans-serif\" font-size=\"14\" font-weight=\"bold\" lengthAdjust=\"spacingAndGlyphs\" textLength=\"51\" x=\"275\" y=\"135.7151\">System</text></a><!--MD5=[60a26617385b1d2d0262a64233df1f8d]\n",
       "class E6--><a href=\"psysml:2188fd29-8e87-4428-b2da-0b81f77b2176\" target=\"_top\" title=\"psysml:2188fd29-8e87-4428-b2da-0b81f77b2176\" xlink:actuate=\"onRequest\" xlink:href=\"psysml:2188fd29-8e87-4428-b2da-0b81f77b2176\" xlink:show=\"new\" xlink:title=\"psysml:2188fd29-8e87-4428-b2da-0b81f77b2176\" xlink:type=\"simple\"><rect fill=\"#FFFFFF\" height=\"45.9375\" id=\"E6\" rx=\"10\" ry=\"10\" style=\"stroke: #383838; stroke-width: 1.5;\" width=\"71\" x=\"40.5\" y=\"297.22\"/><text fill=\"#000000\" font-family=\"sans-serif\" font-size=\"12\" font-style=\"italic\" lengthAdjust=\"spacingAndGlyphs\" textLength=\"69\" x=\"41.5\" y=\"313.3587\">«attribute»</text><text fill=\"#000000\" font-family=\"sans-serif\" font-size=\"12\" lengthAdjust=\"spacingAndGlyphs\" textLength=\"6\" x=\"71\" y=\"327.3274\">x</text><line style=\"stroke: #383838; stroke-width: 1.5;\" x1=\"41.5\" x2=\"110.5\" y1=\"335.1575\" y2=\"335.1575\"/></a><!--MD5=[2156ba9850f5573cc1fc38a6a4b2f02b]\n",
       "class E7--><a href=\"psysml:b1dded97-ff7b-4726-be9f-c0b539bbd77d\" target=\"_top\" title=\"psysml:b1dded97-ff7b-4726-be9f-c0b539bbd77d\" xlink:actuate=\"onRequest\" xlink:href=\"psysml:b1dded97-ff7b-4726-be9f-c0b539bbd77d\" xlink:show=\"new\" xlink:title=\"psysml:b1dded97-ff7b-4726-be9f-c0b539bbd77d\" xlink:type=\"simple\"><rect fill=\"#FFFFFF\" height=\"45.9375\" id=\"E7\" rx=\"10\" ry=\"10\" style=\"stroke: #383838; stroke-width: 1.5;\" width=\"71\" x=\"146.5\" y=\"297.22\"/><text fill=\"#000000\" font-family=\"sans-serif\" font-size=\"12\" font-style=\"italic\" lengthAdjust=\"spacingAndGlyphs\" textLength=\"69\" x=\"147.5\" y=\"313.3587\">«attribute»</text><text fill=\"#000000\" font-family=\"sans-serif\" font-size=\"12\" lengthAdjust=\"spacingAndGlyphs\" textLength=\"6\" x=\"177\" y=\"327.3274\">y</text><line style=\"stroke: #383838; stroke-width: 1.5;\" x1=\"147.5\" x2=\"216.5\" y1=\"335.1575\" y2=\"335.1575\"/></a><!--MD5=[b9389687b975829384b498ac4b7476b2]\n",
       "class E8--><a href=\"psysml:215a3247-a6dc-4d80-9cbe-6a95158331ec\" target=\"_top\" title=\"psysml:215a3247-a6dc-4d80-9cbe-6a95158331ec\" xlink:actuate=\"onRequest\" xlink:href=\"psysml:215a3247-a6dc-4d80-9cbe-6a95158331ec\" xlink:show=\"new\" xlink:title=\"psysml:215a3247-a6dc-4d80-9cbe-6a95158331ec\" xlink:type=\"simple\"><rect fill=\"#FFFFFF\" height=\"45.9375\" id=\"E8\" rx=\"10\" ry=\"10\" style=\"stroke: #383838; stroke-width: 1.5;\" width=\"71\" x=\"92.5\" y=\"167.22\"/><text fill=\"#000000\" font-family=\"sans-serif\" font-size=\"12\" font-style=\"italic\" lengthAdjust=\"spacingAndGlyphs\" textLength=\"69\" x=\"93.5\" y=\"183.3587\">«attribute»</text><text fill=\"#000000\" font-family=\"sans-serif\" font-size=\"12\" lengthAdjust=\"spacingAndGlyphs\" textLength=\"5\" x=\"123.5\" y=\"197.3274\">z</text><line style=\"stroke: #383838; stroke-width: 1.5;\" x1=\"93.5\" x2=\"162.5\" y1=\"205.1575\" y2=\"205.1575\"/></a><a href=\"psysml:a9507a9e-eb7a-4860-b8c9-7900feca47e0\" target=\"_top\" title=\"psysml:a9507a9e-eb7a-4860-b8c9-7900feca47e0\" xlink:actuate=\"onRequest\" xlink:href=\"psysml:a9507a9e-eb7a-4860-b8c9-7900feca47e0\" xlink:show=\"new\" xlink:title=\"psysml:a9507a9e-eb7a-4860-b8c9-7900feca47e0\" xlink:type=\"simple\"><polygon fill=\"#FFFFFF\" points=\"314.5,163.72,435.5,163.72,442.5,186.0169,449.5,186.0169,449.5,216.3138,314.5,216.3138,314.5,163.72\" style=\"stroke: #000000; stroke-width: 1.5;\"/><line style=\"stroke: #000000; stroke-width: 1.5;\" x1=\"314.5\" x2=\"442.5\" y1=\"186.0169\" y2=\"186.0169\"/><text fill=\"#000000\" font-family=\"sans-serif\" font-size=\"14\" font-weight=\"bold\" lengthAdjust=\"spacingAndGlyphs\" textLength=\"115\" x=\"318.5\" y=\"178.7151\">Application Layer</text></a><a href=\"psysml:709ed33a-9ff9-4f13-a4b1-f82f2d0ae0d9\" target=\"_top\" title=\"psysml:709ed33a-9ff9-4f13-a4b1-f82f2d0ae0d9\" xlink:actuate=\"onRequest\" xlink:href=\"psysml:709ed33a-9ff9-4f13-a4b1-f82f2d0ae0d9\" xlink:show=\"new\" xlink:title=\"psysml:709ed33a-9ff9-4f13-a4b1-f82f2d0ae0d9\" xlink:type=\"simple\"><polygon fill=\"#FFFFFF\" points=\"327,293.72,423,293.72,430,316.0169,437,316.0169,437,346.3138,327,346.3138,327,293.72\" style=\"stroke: #000000; stroke-width: 1.5;\"/><line style=\"stroke: #000000; stroke-width: 1.5;\" x1=\"327\" x2=\"430\" y1=\"316.0169\" y2=\"316.0169\"/><text fill=\"#000000\" font-family=\"sans-serif\" font-size=\"14\" font-weight=\"bold\" lengthAdjust=\"spacingAndGlyphs\" textLength=\"90\" x=\"331\" y=\"308.7151\">Service Layer</text></a><a href=\"psysml:babd67af-01b8-42b4-9186-2fee6f5cc047\" target=\"_top\" title=\"psysml:babd67af-01b8-42b4-9186-2fee6f5cc047\" xlink:actuate=\"onRequest\" xlink:href=\"psysml:babd67af-01b8-42b4-9186-2fee6f5cc047\" xlink:show=\"new\" xlink:title=\"psysml:babd67af-01b8-42b4-9186-2fee6f5cc047\" xlink:type=\"simple\"><polygon fill=\"#FFFFFF\" points=\"336,423.72,414,423.72,421,446.0169,428,446.0169,428,476.3138,336,476.3138,336,423.72\" style=\"stroke: #000000; stroke-width: 1.5;\"/><line style=\"stroke: #000000; stroke-width: 1.5;\" x1=\"336\" x2=\"421\" y1=\"446.0169\" y2=\"446.0169\"/><text fill=\"#000000\" font-family=\"sans-serif\" font-size=\"14\" font-weight=\"bold\" lengthAdjust=\"spacingAndGlyphs\" textLength=\"72\" x=\"340\" y=\"438.7151\">Data Layer</text></a><!--MD5=[1f1cd8e6dd4c1b2ca2aaccc9b9bcea6e]\n",
       "link E1 to E2--><a href=\"psysml:8155982a-39d3-4776-bb66-97608c5c0d21\" target=\"_top\" title=\"psysml:8155982a-39d3-4776-bb66-97608c5c0d21\" xlink:actuate=\"onRequest\" xlink:href=\"psysml:8155982a-39d3-4776-bb66-97608c5c0d21\" xlink:show=\"new\" xlink:title=\"psysml:8155982a-39d3-4776-bb66-97608c5c0d21\" xlink:type=\"simple\"><path d=\"M279,33.83 C279,36.15 279,73.83 279,111.5 C279,113.8544 279,116.2087 279,118.5544 C279,119.1408 279,119.7267 279,120.3119 \" fill=\"none\" id=\"E1-&gt;E2\" style=\"stroke: #383838; stroke-width: 1.0; stroke-dasharray: 7.0,7.0;\"/><polygon fill=\"#383838\" points=\"279,120.3119,283,111.3119,279,115.3119,275,111.3119,279,120.3119\" style=\"stroke: #383838; stroke-width: 1.0;\"/><text fill=\"#000000\" font-family=\"sans-serif\" font-size=\"13\" lengthAdjust=\"spacingAndGlyphs\" textLength=\"65\" x=\"280\" y=\"76.7869\">«import»*</text></a><!--MD5=[af87c684e3b0d8be13c1a698a818ef1e]\n",
       "link E3 to E4--><a href=\"psysml:339645be-1a7b-490e-bb9e-fc7090e144b0\" target=\"_top\" title=\"psysml:339645be-1a7b-490e-bb9e-fc7090e144b0\" xlink:actuate=\"onRequest\" xlink:href=\"psysml:339645be-1a7b-490e-bb9e-fc7090e144b0\" xlink:show=\"new\" xlink:title=\"psysml:339645be-1a7b-490e-bb9e-fc7090e144b0\" xlink:type=\"simple\"><path d=\"M382,216.82 C382,236.52 382,263.94 382,285.45 \" fill=\"none\" id=\"E3-&gt;E4\" style=\"stroke: #383838; stroke-width: 1.0; stroke-dasharray: 7.0,7.0;\"/><polygon fill=\"#383838\" points=\"382,293.67,385,285.67,379,285.67,382,293.67\" style=\"stroke: #383838; stroke-width: 1.0;\"/><text fill=\"#000000\" font-family=\"sans-serif\" font-size=\"13\" lengthAdjust=\"spacingAndGlyphs\" textLength=\"64\" x=\"383\" y=\"259.7869\">«depend»</text></a><!--MD5=[1b7591eae5389033d8d09a9d6721a717]\n",
       "link E4 to E5--><a href=\"psysml:cd6419af-0f56-471f-8341-f3995db2a676\" target=\"_top\" title=\"psysml:cd6419af-0f56-471f-8341-f3995db2a676\" xlink:actuate=\"onRequest\" xlink:href=\"psysml:cd6419af-0f56-471f-8341-f3995db2a676\" xlink:show=\"new\" xlink:title=\"psysml:cd6419af-0f56-471f-8341-f3995db2a676\" xlink:type=\"simple\"><path d=\"M382,346.82 C382,366.52 382,393.94 382,415.45 \" fill=\"none\" id=\"E4-&gt;E5\" style=\"stroke: #383838; stroke-width: 1.0; stroke-dasharray: 7.0,7.0;\"/><polygon fill=\"#383838\" points=\"382,423.67,385,415.67,379,415.67,382,423.67\" style=\"stroke: #383838; stroke-width: 1.0;\"/><text fill=\"#000000\" font-family=\"sans-serif\" font-size=\"13\" lengthAdjust=\"spacingAndGlyphs\" textLength=\"64\" x=\"383\" y=\"389.7869\">«depend»</text></a><!--MD5=[c5e8897d989ce984f93528998a7150fe]\n",
       "link E8 to E6--><a href=\"psysml:974879a0-be0c-4725-ba74-b00c4a2eaada\" target=\"_top\" title=\"psysml:974879a0-be0c-4725-ba74-b00c4a2eaada\" xlink:actuate=\"onRequest\" xlink:href=\"psysml:974879a0-be0c-4725-ba74-b00c4a2eaada\" xlink:show=\"new\" xlink:title=\"psysml:974879a0-be0c-4725-ba74-b00c4a2eaada\" xlink:type=\"simple\"><path d=\"M97.42,213.32 C87.35,222.4 77.37,233.83 72,246.72 C66.5,259.92 66.66,275.66 68.54,289.1 \" fill=\"none\" id=\"E8-&gt;E6\" style=\"stroke: #383838; stroke-width: 1.0; stroke-dasharray: 7.0,7.0;\"/><polygon fill=\"#383838\" points=\"69.9,297.12,71.517,288.7304,65.6018,289.7359,69.9,297.12\" style=\"stroke: #383838; stroke-width: 1.0;\"/><text fill=\"#000000\" font-family=\"sans-serif\" font-size=\"13\" lengthAdjust=\"spacingAndGlyphs\" textLength=\"64\" x=\"73\" y=\"259.7869\">«depend»</text></a><!--MD5=[bfa3c8b0d15052fdf50ae9310b491027]\n",
       "link E8 to E7--><a href=\"psysml:974879a0-be0c-4725-ba74-b00c4a2eaada\" target=\"_top\" title=\"psysml:974879a0-be0c-4725-ba74-b00c4a2eaada\" xlink:actuate=\"onRequest\" xlink:href=\"psysml:974879a0-be0c-4725-ba74-b00c4a2eaada\" xlink:show=\"new\" xlink:title=\"psysml:974879a0-be0c-4725-ba74-b00c4a2eaada\" xlink:type=\"simple\"><path d=\"M137.28,213.22 C146.17,234.29 159.64,266.22 169.47,289.53 \" fill=\"none\" id=\"E8-&gt;E7\" style=\"stroke: #383838; stroke-width: 1.0; stroke-dasharray: 7.0,7.0;\"/><polygon fill=\"#383838\" points=\"172.66,297.07,172.3241,288.5326,166.7933,290.8585,172.66,297.07\" style=\"stroke: #383838; stroke-width: 1.0;\"/><text fill=\"#000000\" font-family=\"sans-serif\" font-size=\"13\" lengthAdjust=\"spacingAndGlyphs\" textLength=\"64\" x=\"159\" y=\"259.7869\">«depend»</text></a><!--MD5=[0e992e7b5eeb88534baa8ca3dc45a193]\n",
       "@startuml\r\n",
       "top to bottom direction\r\n",
       "skinparam monochrome true\r\n",
       "skinparam classbackgroundcolor white\r\n",
       "skinparam shadowing false\r\n",
       "skinparam wrapWidth 300\r\n",
       "hide circle\r\n",
       "\r\n",
       "package \"DependencyTest\" as E1  [[psysml:0f0f2110-3be1-453e-862d-cec3a7a71a7a ]]  {\r\n",
       "package \"System\" as E2  [[psysml:c508d22c-e466-4361-9854-fd4393e1e853 ]]  {\r\n",
       "package \"Application Layer\" as E3  [[psysml:a9507a9e-eb7a-4860-b8c9-7900feca47e0 ]]  {\r\n",
       "}\r\n",
       "package \"Service Layer\" as E4  [[psysml:709ed33a-9ff9-4f13-a4b1-f82f2d0ae0d9 ]]  {\r\n",
       "}\r\n",
       "package \"Data Layer\" as E5  [[psysml:babd67af-01b8-42b4-9186-2fee6f5cc047 ]]  {\r\n",
       "}\r\n",
       "}\r\n",
       "comp usage \"x \" as E6  <<(T,blue) attribute>> [[psysml:2188fd29-8e87-4428-b2da-0b81f77b2176 ]] {\r\n",
       "}\r\n",
       "comp usage \"y \" as E7  <<(T,blue) attribute>> [[psysml:b1dded97-ff7b-4726-be9f-c0b539bbd77d ]] {\r\n",
       "}\r\n",
       "comp usage \"z \" as E8  <<(T,blue) attribute>> [[psysml:215a3247-a6dc-4d80-9cbe-6a95158331ec ]] {\r\n",
       "}\r\n",
       "}\r\n",
       "E1 ..> E2 [[psysml:8155982a-39d3-4776-bb66-97608c5c0d21 ]] : <<import>>*\r\n",
       "E3 ..>> E4 [[psysml:339645be-1a7b-490e-bb9e-fc7090e144b0 ]] : <<depend>>\r\n",
       "E4 ..>> E5 [[psysml:cd6419af-0f56-471f-8341-f3995db2a676 ]] : <<depend>>\r\n",
       "E8 ..>> E6 [[psysml:974879a0-be0c-4725-ba74-b00c4a2eaada ]] : <<depend>>\r\n",
       "E8 ..>> E7 [[psysml:974879a0-be0c-4725-ba74-b00c4a2eaada ]] : <<depend>>\r\n",
       "@enduml\r\n",
       "\n",
       "PlantUML version 1.2020.13(Sat Jun 13 12:26:38 UTC 2020)\n",
       "(EPL source distribution)\n",
       "Java Runtime: OpenJDK Runtime Environment\n",
       "JVM: OpenJDK 64-Bit Server VM\n",
       "Default Encoding: UTF-8\n",
       "Language: en\n",
       "Country: null\n",
       "--></g></svg>"
      ]
     },
     "execution_count": 50,
     "metadata": {},
     "output_type": "execute_result"
    }
   ],
   "source": [
    "%viz --style=\"TB\" --view=\"MIXED\" \"DependencyTest\""
   ]
  },
  {
   "cell_type": "code",
   "execution_count": 51,
   "id": "7903c855",
   "metadata": {
    "execution": {
     "iopub.execute_input": "2022-08-19T08:17:14.315575Z",
     "iopub.status.busy": "2022-08-19T08:17:14.315124Z",
     "iopub.status.idle": "2022-08-19T08:17:14.346652Z",
     "shell.execute_reply": "2022-08-19T08:17:14.345269Z"
    }
   },
   "outputs": [
    {
     "data": {
      "image/svg+xml": [
       "<?xml version=\"1.0\" encoding=\"UTF-8\" standalone=\"no\"?><svg xmlns=\"http://www.w3.org/2000/svg\" xmlns:xlink=\"http://www.w3.org/1999/xlink\" contentScriptType=\"application/ecmascript\" contentStyleType=\"text/css\" height=\"552px\" preserveAspectRatio=\"none\" style=\"width:536px;height:552px;\" version=\"1.1\" viewBox=\"0 0 536 552\" width=\"536px\" zoomAndPan=\"magnify\"><defs/><g><!--MD5=[fbc87193dbaf4d95561dea2c320d4a47]\n",
       "cluster E1--><a href=\"psysml:0f0f2110-3be1-453e-862d-cec3a7a71a7a\" target=\"_top\" title=\"psysml:0f0f2110-3be1-453e-862d-cec3a7a71a7a\" xlink:actuate=\"onRequest\" xlink:href=\"psysml:0f0f2110-3be1-453e-862d-cec3a7a71a7a\" xlink:show=\"new\" xlink:title=\"psysml:0f0f2110-3be1-453e-862d-cec3a7a71a7a\" xlink:type=\"simple\"><polygon fill=\"#FFFFFF\" points=\"16,6,142,6,149,28.2969,514,28.2969,514,540.72,16,540.72,16,6\" style=\"stroke: #000000; stroke-width: 1.5;\"/><line style=\"stroke: #000000; stroke-width: 1.5;\" x1=\"16\" x2=\"149\" y1=\"28.2969\" y2=\"28.2969\"/><text fill=\"#000000\" font-family=\"sans-serif\" font-size=\"14\" font-weight=\"bold\" lengthAdjust=\"spacingAndGlyphs\" textLength=\"120\" x=\"20\" y=\"20.9951\">DependencyTest</text></a><!--MD5=[e4f7fae6ed58524ba242bb0b0d3be6b7]\n",
       "cluster E2--><a href=\"psysml:c508d22c-e466-4361-9854-fd4393e1e853\" target=\"_top\" title=\"psysml:c508d22c-e466-4361-9854-fd4393e1e853\" xlink:actuate=\"onRequest\" xlink:href=\"psysml:c508d22c-e466-4361-9854-fd4393e1e853\" xlink:show=\"new\" xlink:title=\"psysml:c508d22c-e466-4361-9854-fd4393e1e853\" xlink:type=\"simple\"><polygon fill=\"#FFFFFF\" points=\"271,120.72,328,120.72,335,143.0169,474,143.0169,474,500.72,271,500.72,271,120.72\" style=\"stroke: #000000; stroke-width: 1.5;\"/><line style=\"stroke: #000000; stroke-width: 1.5;\" x1=\"271\" x2=\"335\" y1=\"143.0169\" y2=\"143.0169\"/><text fill=\"#000000\" font-family=\"sans-serif\" font-size=\"14\" font-weight=\"bold\" lengthAdjust=\"spacingAndGlyphs\" textLength=\"51\" x=\"275\" y=\"135.7151\">System</text></a><!--MD5=[60a26617385b1d2d0262a64233df1f8d]\n",
       "class E6--><a href=\"psysml:2188fd29-8e87-4428-b2da-0b81f77b2176\" target=\"_top\" title=\"psysml:2188fd29-8e87-4428-b2da-0b81f77b2176\" xlink:actuate=\"onRequest\" xlink:href=\"psysml:2188fd29-8e87-4428-b2da-0b81f77b2176\" xlink:show=\"new\" xlink:title=\"psysml:2188fd29-8e87-4428-b2da-0b81f77b2176\" xlink:type=\"simple\"><rect fill=\"#FFFFFF\" height=\"45.9375\" id=\"E6\" rx=\"10\" ry=\"10\" style=\"stroke: #383838; stroke-width: 1.5;\" width=\"71\" x=\"40.5\" y=\"297.22\"/><text fill=\"#000000\" font-family=\"sans-serif\" font-size=\"12\" font-style=\"italic\" lengthAdjust=\"spacingAndGlyphs\" textLength=\"69\" x=\"41.5\" y=\"313.3587\">«attribute»</text><text fill=\"#000000\" font-family=\"sans-serif\" font-size=\"12\" lengthAdjust=\"spacingAndGlyphs\" textLength=\"6\" x=\"71\" y=\"327.3274\">x</text><line style=\"stroke: #383838; stroke-width: 1.5;\" x1=\"41.5\" x2=\"110.5\" y1=\"335.1575\" y2=\"335.1575\"/></a><!--MD5=[2156ba9850f5573cc1fc38a6a4b2f02b]\n",
       "class E7--><a href=\"psysml:b1dded97-ff7b-4726-be9f-c0b539bbd77d\" target=\"_top\" title=\"psysml:b1dded97-ff7b-4726-be9f-c0b539bbd77d\" xlink:actuate=\"onRequest\" xlink:href=\"psysml:b1dded97-ff7b-4726-be9f-c0b539bbd77d\" xlink:show=\"new\" xlink:title=\"psysml:b1dded97-ff7b-4726-be9f-c0b539bbd77d\" xlink:type=\"simple\"><rect fill=\"#FFFFFF\" height=\"45.9375\" id=\"E7\" rx=\"10\" ry=\"10\" style=\"stroke: #383838; stroke-width: 1.5;\" width=\"71\" x=\"146.5\" y=\"297.22\"/><text fill=\"#000000\" font-family=\"sans-serif\" font-size=\"12\" font-style=\"italic\" lengthAdjust=\"spacingAndGlyphs\" textLength=\"69\" x=\"147.5\" y=\"313.3587\">«attribute»</text><text fill=\"#000000\" font-family=\"sans-serif\" font-size=\"12\" lengthAdjust=\"spacingAndGlyphs\" textLength=\"6\" x=\"177\" y=\"327.3274\">y</text><line style=\"stroke: #383838; stroke-width: 1.5;\" x1=\"147.5\" x2=\"216.5\" y1=\"335.1575\" y2=\"335.1575\"/></a><!--MD5=[b9389687b975829384b498ac4b7476b2]\n",
       "class E8--><a href=\"psysml:215a3247-a6dc-4d80-9cbe-6a95158331ec\" target=\"_top\" title=\"psysml:215a3247-a6dc-4d80-9cbe-6a95158331ec\" xlink:actuate=\"onRequest\" xlink:href=\"psysml:215a3247-a6dc-4d80-9cbe-6a95158331ec\" xlink:show=\"new\" xlink:title=\"psysml:215a3247-a6dc-4d80-9cbe-6a95158331ec\" xlink:type=\"simple\"><rect fill=\"#FFFFFF\" height=\"45.9375\" id=\"E8\" rx=\"10\" ry=\"10\" style=\"stroke: #383838; stroke-width: 1.5;\" width=\"71\" x=\"92.5\" y=\"167.22\"/><text fill=\"#000000\" font-family=\"sans-serif\" font-size=\"12\" font-style=\"italic\" lengthAdjust=\"spacingAndGlyphs\" textLength=\"69\" x=\"93.5\" y=\"183.3587\">«attribute»</text><text fill=\"#000000\" font-family=\"sans-serif\" font-size=\"12\" lengthAdjust=\"spacingAndGlyphs\" textLength=\"5\" x=\"123.5\" y=\"197.3274\">z</text><line style=\"stroke: #383838; stroke-width: 1.5;\" x1=\"93.5\" x2=\"162.5\" y1=\"205.1575\" y2=\"205.1575\"/></a><a href=\"psysml:a9507a9e-eb7a-4860-b8c9-7900feca47e0\" target=\"_top\" title=\"psysml:a9507a9e-eb7a-4860-b8c9-7900feca47e0\" xlink:actuate=\"onRequest\" xlink:href=\"psysml:a9507a9e-eb7a-4860-b8c9-7900feca47e0\" xlink:show=\"new\" xlink:title=\"psysml:a9507a9e-eb7a-4860-b8c9-7900feca47e0\" xlink:type=\"simple\"><polygon fill=\"#FFFFFF\" points=\"314.5,163.72,435.5,163.72,442.5,186.0169,449.5,186.0169,449.5,216.3138,314.5,216.3138,314.5,163.72\" style=\"stroke: #000000; stroke-width: 1.5;\"/><line style=\"stroke: #000000; stroke-width: 1.5;\" x1=\"314.5\" x2=\"442.5\" y1=\"186.0169\" y2=\"186.0169\"/><text fill=\"#000000\" font-family=\"sans-serif\" font-size=\"14\" font-weight=\"bold\" lengthAdjust=\"spacingAndGlyphs\" textLength=\"115\" x=\"318.5\" y=\"178.7151\">Application Layer</text></a><a href=\"psysml:709ed33a-9ff9-4f13-a4b1-f82f2d0ae0d9\" target=\"_top\" title=\"psysml:709ed33a-9ff9-4f13-a4b1-f82f2d0ae0d9\" xlink:actuate=\"onRequest\" xlink:href=\"psysml:709ed33a-9ff9-4f13-a4b1-f82f2d0ae0d9\" xlink:show=\"new\" xlink:title=\"psysml:709ed33a-9ff9-4f13-a4b1-f82f2d0ae0d9\" xlink:type=\"simple\"><polygon fill=\"#FFFFFF\" points=\"327,293.72,423,293.72,430,316.0169,437,316.0169,437,346.3138,327,346.3138,327,293.72\" style=\"stroke: #000000; stroke-width: 1.5;\"/><line style=\"stroke: #000000; stroke-width: 1.5;\" x1=\"327\" x2=\"430\" y1=\"316.0169\" y2=\"316.0169\"/><text fill=\"#000000\" font-family=\"sans-serif\" font-size=\"14\" font-weight=\"bold\" lengthAdjust=\"spacingAndGlyphs\" textLength=\"90\" x=\"331\" y=\"308.7151\">Service Layer</text></a><a href=\"psysml:babd67af-01b8-42b4-9186-2fee6f5cc047\" target=\"_top\" title=\"psysml:babd67af-01b8-42b4-9186-2fee6f5cc047\" xlink:actuate=\"onRequest\" xlink:href=\"psysml:babd67af-01b8-42b4-9186-2fee6f5cc047\" xlink:show=\"new\" xlink:title=\"psysml:babd67af-01b8-42b4-9186-2fee6f5cc047\" xlink:type=\"simple\"><polygon fill=\"#FFFFFF\" points=\"336,423.72,414,423.72,421,446.0169,428,446.0169,428,476.3138,336,476.3138,336,423.72\" style=\"stroke: #000000; stroke-width: 1.5;\"/><line style=\"stroke: #000000; stroke-width: 1.5;\" x1=\"336\" x2=\"421\" y1=\"446.0169\" y2=\"446.0169\"/><text fill=\"#000000\" font-family=\"sans-serif\" font-size=\"14\" font-weight=\"bold\" lengthAdjust=\"spacingAndGlyphs\" textLength=\"72\" x=\"340\" y=\"438.7151\">Data Layer</text></a><!--MD5=[1f1cd8e6dd4c1b2ca2aaccc9b9bcea6e]\n",
       "link E1 to E2--><a href=\"psysml:8155982a-39d3-4776-bb66-97608c5c0d21\" target=\"_top\" title=\"psysml:8155982a-39d3-4776-bb66-97608c5c0d21\" xlink:actuate=\"onRequest\" xlink:href=\"psysml:8155982a-39d3-4776-bb66-97608c5c0d21\" xlink:show=\"new\" xlink:title=\"psysml:8155982a-39d3-4776-bb66-97608c5c0d21\" xlink:type=\"simple\"><path d=\"M279,33.81 C279,38.265 279,75.1 279,111.9025 C279,114.2027 279,116.5027 279,118.7947 C279,119.3677 279,119.9402 279,120.512 \" fill=\"none\" id=\"E1-&gt;E2\" style=\"stroke: #383838; stroke-width: 1.0; stroke-dasharray: 7.0,7.0;\"/><polygon fill=\"#383838\" points=\"279,120.512,283,111.512,279,115.512,275,111.512,279,120.512\" style=\"stroke: #383838; stroke-width: 1.0;\"/><text fill=\"#000000\" font-family=\"sans-serif\" font-size=\"13\" lengthAdjust=\"spacingAndGlyphs\" textLength=\"65\" x=\"280\" y=\"76.7869\">«import»*</text></a><!--MD5=[af87c684e3b0d8be13c1a698a818ef1e]\n",
       "link E3 to E4--><a href=\"psysml:339645be-1a7b-490e-bb9e-fc7090e144b0\" target=\"_top\" title=\"psysml:339645be-1a7b-490e-bb9e-fc7090e144b0\" xlink:actuate=\"onRequest\" xlink:href=\"psysml:339645be-1a7b-490e-bb9e-fc7090e144b0\" xlink:show=\"new\" xlink:title=\"psysml:339645be-1a7b-490e-bb9e-fc7090e144b0\" xlink:type=\"simple\"><path d=\"M382,216.84 C382,216.84 382,285.63 382,285.63 \" fill=\"none\" id=\"E3-&gt;E4\" style=\"stroke: #383838; stroke-width: 1.0; stroke-dasharray: 7.0,7.0;\"/><polygon fill=\"#383838\" points=\"382,293.63,385,285.63,379,285.63,382,293.63\" style=\"stroke: #383838; stroke-width: 1.0;\"/><text fill=\"#000000\" font-family=\"sans-serif\" font-size=\"13\" lengthAdjust=\"spacingAndGlyphs\" textLength=\"64\" x=\"383\" y=\"259.7869\">«depend»</text></a><!--MD5=[1b7591eae5389033d8d09a9d6721a717]\n",
       "link E4 to E5--><a href=\"psysml:cd6419af-0f56-471f-8341-f3995db2a676\" target=\"_top\" title=\"psysml:cd6419af-0f56-471f-8341-f3995db2a676\" xlink:actuate=\"onRequest\" xlink:href=\"psysml:cd6419af-0f56-471f-8341-f3995db2a676\" xlink:show=\"new\" xlink:title=\"psysml:cd6419af-0f56-471f-8341-f3995db2a676\" xlink:type=\"simple\"><path d=\"M382,346.84 C382,346.84 382,415.63 382,415.63 \" fill=\"none\" id=\"E4-&gt;E5\" style=\"stroke: #383838; stroke-width: 1.0; stroke-dasharray: 7.0,7.0;\"/><polygon fill=\"#383838\" points=\"382,423.63,385,415.63,379,415.63,382,423.63\" style=\"stroke: #383838; stroke-width: 1.0;\"/><text fill=\"#000000\" font-family=\"sans-serif\" font-size=\"13\" lengthAdjust=\"spacingAndGlyphs\" textLength=\"64\" x=\"383\" y=\"389.7869\">«depend»</text></a><!--MD5=[c5e8897d989ce984f93528998a7150fe]\n",
       "link E8 to E6--><a href=\"psysml:974879a0-be0c-4725-ba74-b00c4a2eaada\" target=\"_top\" title=\"psysml:974879a0-be0c-4725-ba74-b00c4a2eaada\" xlink:actuate=\"onRequest\" xlink:href=\"psysml:974879a0-be0c-4725-ba74-b00c4a2eaada\" xlink:show=\"new\" xlink:title=\"psysml:974879a0-be0c-4725-ba74-b00c4a2eaada\" xlink:type=\"simple\"><path d=\"M102,213.46 C102,213.46 102,289.18 102,289.18 \" fill=\"none\" id=\"E8-&gt;E6\" style=\"stroke: #383838; stroke-width: 1.0; stroke-dasharray: 7.0,7.0;\"/><polygon fill=\"#383838\" points=\"102,297.18,105,289.18,99,289.18,102,297.18\" style=\"stroke: #383838; stroke-width: 1.0;\"/><text fill=\"#000000\" font-family=\"sans-serif\" font-size=\"13\" lengthAdjust=\"spacingAndGlyphs\" textLength=\"64\" x=\"76\" y=\"259.7869\">«depend»</text></a><!--MD5=[bfa3c8b0d15052fdf50ae9310b491027]\n",
       "link E8 to E7--><a href=\"psysml:974879a0-be0c-4725-ba74-b00c4a2eaada\" target=\"_top\" title=\"psysml:974879a0-be0c-4725-ba74-b00c4a2eaada\" xlink:actuate=\"onRequest\" xlink:href=\"psysml:974879a0-be0c-4725-ba74-b00c4a2eaada\" xlink:show=\"new\" xlink:title=\"psysml:974879a0-be0c-4725-ba74-b00c4a2eaada\" xlink:type=\"simple\"><path d=\"M155,213.46 C155,213.46 155,289.18 155,289.18 \" fill=\"none\" id=\"E8-&gt;E7\" style=\"stroke: #383838; stroke-width: 1.0; stroke-dasharray: 7.0,7.0;\"/><polygon fill=\"#383838\" points=\"155,297.18,158,289.18,152,289.18,155,297.18\" style=\"stroke: #383838; stroke-width: 1.0;\"/><text fill=\"#000000\" font-family=\"sans-serif\" font-size=\"13\" lengthAdjust=\"spacingAndGlyphs\" textLength=\"64\" x=\"182\" y=\"259.7869\">«depend»</text></a><!--MD5=[a2c4082f9dc0bfe474d4d803178d1341]\n",
       "@startuml\r\n",
       "skinparam linetype ortho\r\n",
       "skinparam monochrome true\r\n",
       "skinparam classbackgroundcolor white\r\n",
       "skinparam shadowing false\r\n",
       "skinparam wrapWidth 300\r\n",
       "hide circle\r\n",
       "\r\n",
       "package \"DependencyTest\" as E1  [[psysml:0f0f2110-3be1-453e-862d-cec3a7a71a7a ]]  {\r\n",
       "package \"System\" as E2  [[psysml:c508d22c-e466-4361-9854-fd4393e1e853 ]]  {\r\n",
       "package \"Application Layer\" as E3  [[psysml:a9507a9e-eb7a-4860-b8c9-7900feca47e0 ]]  {\r\n",
       "}\r\n",
       "package \"Service Layer\" as E4  [[psysml:709ed33a-9ff9-4f13-a4b1-f82f2d0ae0d9 ]]  {\r\n",
       "}\r\n",
       "package \"Data Layer\" as E5  [[psysml:babd67af-01b8-42b4-9186-2fee6f5cc047 ]]  {\r\n",
       "}\r\n",
       "}\r\n",
       "comp usage \"x \" as E6  <<(T,blue) attribute>> [[psysml:2188fd29-8e87-4428-b2da-0b81f77b2176 ]] {\r\n",
       "}\r\n",
       "comp usage \"y \" as E7  <<(T,blue) attribute>> [[psysml:b1dded97-ff7b-4726-be9f-c0b539bbd77d ]] {\r\n",
       "}\r\n",
       "comp usage \"z \" as E8  <<(T,blue) attribute>> [[psysml:215a3247-a6dc-4d80-9cbe-6a95158331ec ]] {\r\n",
       "}\r\n",
       "}\r\n",
       "E1 ..> E2 [[psysml:8155982a-39d3-4776-bb66-97608c5c0d21 ]] : <<import>>*\r\n",
       "E3 ..>> E4 [[psysml:339645be-1a7b-490e-bb9e-fc7090e144b0 ]] : <<depend>>\r\n",
       "E4 ..>> E5 [[psysml:cd6419af-0f56-471f-8341-f3995db2a676 ]] : <<depend>>\r\n",
       "E8 ..>> E6 [[psysml:974879a0-be0c-4725-ba74-b00c4a2eaada ]] : <<depend>>\r\n",
       "E8 ..>> E7 [[psysml:974879a0-be0c-4725-ba74-b00c4a2eaada ]] : <<depend>>\r\n",
       "@enduml\r\n",
       "\n",
       "PlantUML version 1.2020.13(Sat Jun 13 12:26:38 UTC 2020)\n",
       "(EPL source distribution)\n",
       "Java Runtime: OpenJDK Runtime Environment\n",
       "JVM: OpenJDK 64-Bit Server VM\n",
       "Default Encoding: UTF-8\n",
       "Language: en\n",
       "Country: null\n",
       "--></g></svg>"
      ]
     },
     "execution_count": 51,
     "metadata": {},
     "output_type": "execute_result"
    }
   ],
   "source": [
    "%viz --style=\"ORTHOLINE\" --view=\"Default\" \"DependencyTest\""
   ]
  },
  {
   "cell_type": "code",
   "execution_count": 52,
   "id": "6ff316b3",
   "metadata": {
    "execution": {
     "iopub.execute_input": "2022-08-19T08:17:14.396180Z",
     "iopub.status.busy": "2022-08-19T08:17:14.395732Z",
     "iopub.status.idle": "2022-08-19T08:17:14.425752Z",
     "shell.execute_reply": "2022-08-19T08:17:14.425320Z"
    }
   },
   "outputs": [
    {
     "data": {
      "image/svg+xml": [
       "<?xml version=\"1.0\" encoding=\"UTF-8\" standalone=\"no\"?><svg xmlns=\"http://www.w3.org/2000/svg\" xmlns:xlink=\"http://www.w3.org/1999/xlink\" contentScriptType=\"application/ecmascript\" contentStyleType=\"text/css\" height=\"552px\" preserveAspectRatio=\"none\" style=\"width:536px;height:552px;\" version=\"1.1\" viewBox=\"0 0 536 552\" width=\"536px\" zoomAndPan=\"magnify\"><defs/><g><!--MD5=[fbc87193dbaf4d95561dea2c320d4a47]\n",
       "cluster E1--><a href=\"psysml:0f0f2110-3be1-453e-862d-cec3a7a71a7a\" target=\"_top\" title=\"psysml:0f0f2110-3be1-453e-862d-cec3a7a71a7a\" xlink:actuate=\"onRequest\" xlink:href=\"psysml:0f0f2110-3be1-453e-862d-cec3a7a71a7a\" xlink:show=\"new\" xlink:title=\"psysml:0f0f2110-3be1-453e-862d-cec3a7a71a7a\" xlink:type=\"simple\"><polygon fill=\"#FFFFFF\" points=\"16,6,142,6,149,28.2969,514,28.2969,514,540.72,16,540.72,16,6\" style=\"stroke: #000000; stroke-width: 1.5;\"/><line style=\"stroke: #000000; stroke-width: 1.5;\" x1=\"16\" x2=\"149\" y1=\"28.2969\" y2=\"28.2969\"/><text fill=\"#000000\" font-family=\"sans-serif\" font-size=\"14\" font-weight=\"bold\" lengthAdjust=\"spacingAndGlyphs\" textLength=\"120\" x=\"20\" y=\"20.9951\">DependencyTest</text></a><!--MD5=[e4f7fae6ed58524ba242bb0b0d3be6b7]\n",
       "cluster E2--><a href=\"psysml:c508d22c-e466-4361-9854-fd4393e1e853\" target=\"_top\" title=\"psysml:c508d22c-e466-4361-9854-fd4393e1e853\" xlink:actuate=\"onRequest\" xlink:href=\"psysml:c508d22c-e466-4361-9854-fd4393e1e853\" xlink:show=\"new\" xlink:title=\"psysml:c508d22c-e466-4361-9854-fd4393e1e853\" xlink:type=\"simple\"><polygon fill=\"#FFFFFF\" points=\"271,120.72,328,120.72,335,143.0169,474,143.0169,474,500.72,271,500.72,271,120.72\" style=\"stroke: #000000; stroke-width: 1.5;\"/><line style=\"stroke: #000000; stroke-width: 1.5;\" x1=\"271\" x2=\"335\" y1=\"143.0169\" y2=\"143.0169\"/><text fill=\"#000000\" font-family=\"sans-serif\" font-size=\"14\" font-weight=\"bold\" lengthAdjust=\"spacingAndGlyphs\" textLength=\"51\" x=\"275\" y=\"135.7151\">System</text></a><!--MD5=[60a26617385b1d2d0262a64233df1f8d]\n",
       "class E6--><a href=\"psysml:2188fd29-8e87-4428-b2da-0b81f77b2176\" target=\"_top\" title=\"psysml:2188fd29-8e87-4428-b2da-0b81f77b2176\" xlink:actuate=\"onRequest\" xlink:href=\"psysml:2188fd29-8e87-4428-b2da-0b81f77b2176\" xlink:show=\"new\" xlink:title=\"psysml:2188fd29-8e87-4428-b2da-0b81f77b2176\" xlink:type=\"simple\"><rect fill=\"#FFFFFF\" height=\"45.9375\" id=\"E6\" rx=\"10\" ry=\"10\" style=\"stroke: #383838; stroke-width: 1.5;\" width=\"71\" x=\"40.5\" y=\"297.22\"/><text fill=\"#000000\" font-family=\"sans-serif\" font-size=\"12\" font-style=\"italic\" lengthAdjust=\"spacingAndGlyphs\" textLength=\"69\" x=\"41.5\" y=\"313.3587\">«attribute»</text><text fill=\"#000000\" font-family=\"sans-serif\" font-size=\"12\" lengthAdjust=\"spacingAndGlyphs\" textLength=\"6\" x=\"71\" y=\"327.3274\">x</text><line style=\"stroke: #383838; stroke-width: 1.5;\" x1=\"41.5\" x2=\"110.5\" y1=\"335.1575\" y2=\"335.1575\"/></a><!--MD5=[2156ba9850f5573cc1fc38a6a4b2f02b]\n",
       "class E7--><a href=\"psysml:b1dded97-ff7b-4726-be9f-c0b539bbd77d\" target=\"_top\" title=\"psysml:b1dded97-ff7b-4726-be9f-c0b539bbd77d\" xlink:actuate=\"onRequest\" xlink:href=\"psysml:b1dded97-ff7b-4726-be9f-c0b539bbd77d\" xlink:show=\"new\" xlink:title=\"psysml:b1dded97-ff7b-4726-be9f-c0b539bbd77d\" xlink:type=\"simple\"><rect fill=\"#FFFFFF\" height=\"45.9375\" id=\"E7\" rx=\"10\" ry=\"10\" style=\"stroke: #383838; stroke-width: 1.5;\" width=\"71\" x=\"146.5\" y=\"297.22\"/><text fill=\"#000000\" font-family=\"sans-serif\" font-size=\"12\" font-style=\"italic\" lengthAdjust=\"spacingAndGlyphs\" textLength=\"69\" x=\"147.5\" y=\"313.3587\">«attribute»</text><text fill=\"#000000\" font-family=\"sans-serif\" font-size=\"12\" lengthAdjust=\"spacingAndGlyphs\" textLength=\"6\" x=\"177\" y=\"327.3274\">y</text><line style=\"stroke: #383838; stroke-width: 1.5;\" x1=\"147.5\" x2=\"216.5\" y1=\"335.1575\" y2=\"335.1575\"/></a><!--MD5=[b9389687b975829384b498ac4b7476b2]\n",
       "class E8--><a href=\"psysml:215a3247-a6dc-4d80-9cbe-6a95158331ec\" target=\"_top\" title=\"psysml:215a3247-a6dc-4d80-9cbe-6a95158331ec\" xlink:actuate=\"onRequest\" xlink:href=\"psysml:215a3247-a6dc-4d80-9cbe-6a95158331ec\" xlink:show=\"new\" xlink:title=\"psysml:215a3247-a6dc-4d80-9cbe-6a95158331ec\" xlink:type=\"simple\"><rect fill=\"#FFFFFF\" height=\"45.9375\" id=\"E8\" rx=\"10\" ry=\"10\" style=\"stroke: #383838; stroke-width: 1.5;\" width=\"71\" x=\"92.5\" y=\"167.22\"/><text fill=\"#000000\" font-family=\"sans-serif\" font-size=\"12\" font-style=\"italic\" lengthAdjust=\"spacingAndGlyphs\" textLength=\"69\" x=\"93.5\" y=\"183.3587\">«attribute»</text><text fill=\"#000000\" font-family=\"sans-serif\" font-size=\"12\" lengthAdjust=\"spacingAndGlyphs\" textLength=\"5\" x=\"123.5\" y=\"197.3274\">z</text><line style=\"stroke: #383838; stroke-width: 1.5;\" x1=\"93.5\" x2=\"162.5\" y1=\"205.1575\" y2=\"205.1575\"/></a><a href=\"psysml:a9507a9e-eb7a-4860-b8c9-7900feca47e0\" target=\"_top\" title=\"psysml:a9507a9e-eb7a-4860-b8c9-7900feca47e0\" xlink:actuate=\"onRequest\" xlink:href=\"psysml:a9507a9e-eb7a-4860-b8c9-7900feca47e0\" xlink:show=\"new\" xlink:title=\"psysml:a9507a9e-eb7a-4860-b8c9-7900feca47e0\" xlink:type=\"simple\"><polygon fill=\"#FFFFFF\" points=\"314.5,163.72,435.5,163.72,442.5,186.0169,449.5,186.0169,449.5,216.3138,314.5,216.3138,314.5,163.72\" style=\"stroke: #000000; stroke-width: 1.5;\"/><line style=\"stroke: #000000; stroke-width: 1.5;\" x1=\"314.5\" x2=\"442.5\" y1=\"186.0169\" y2=\"186.0169\"/><text fill=\"#000000\" font-family=\"sans-serif\" font-size=\"14\" font-weight=\"bold\" lengthAdjust=\"spacingAndGlyphs\" textLength=\"115\" x=\"318.5\" y=\"178.7151\">Application Layer</text></a><a href=\"psysml:709ed33a-9ff9-4f13-a4b1-f82f2d0ae0d9\" target=\"_top\" title=\"psysml:709ed33a-9ff9-4f13-a4b1-f82f2d0ae0d9\" xlink:actuate=\"onRequest\" xlink:href=\"psysml:709ed33a-9ff9-4f13-a4b1-f82f2d0ae0d9\" xlink:show=\"new\" xlink:title=\"psysml:709ed33a-9ff9-4f13-a4b1-f82f2d0ae0d9\" xlink:type=\"simple\"><polygon fill=\"#FFFFFF\" points=\"327,293.72,423,293.72,430,316.0169,437,316.0169,437,346.3138,327,346.3138,327,293.72\" style=\"stroke: #000000; stroke-width: 1.5;\"/><line style=\"stroke: #000000; stroke-width: 1.5;\" x1=\"327\" x2=\"430\" y1=\"316.0169\" y2=\"316.0169\"/><text fill=\"#000000\" font-family=\"sans-serif\" font-size=\"14\" font-weight=\"bold\" lengthAdjust=\"spacingAndGlyphs\" textLength=\"90\" x=\"331\" y=\"308.7151\">Service Layer</text></a><a href=\"psysml:babd67af-01b8-42b4-9186-2fee6f5cc047\" target=\"_top\" title=\"psysml:babd67af-01b8-42b4-9186-2fee6f5cc047\" xlink:actuate=\"onRequest\" xlink:href=\"psysml:babd67af-01b8-42b4-9186-2fee6f5cc047\" xlink:show=\"new\" xlink:title=\"psysml:babd67af-01b8-42b4-9186-2fee6f5cc047\" xlink:type=\"simple\"><polygon fill=\"#FFFFFF\" points=\"336,423.72,414,423.72,421,446.0169,428,446.0169,428,476.3138,336,476.3138,336,423.72\" style=\"stroke: #000000; stroke-width: 1.5;\"/><line style=\"stroke: #000000; stroke-width: 1.5;\" x1=\"336\" x2=\"421\" y1=\"446.0169\" y2=\"446.0169\"/><text fill=\"#000000\" font-family=\"sans-serif\" font-size=\"14\" font-weight=\"bold\" lengthAdjust=\"spacingAndGlyphs\" textLength=\"72\" x=\"340\" y=\"438.7151\">Data Layer</text></a><!--MD5=[1f1cd8e6dd4c1b2ca2aaccc9b9bcea6e]\n",
       "link E1 to E2--><a href=\"psysml:8155982a-39d3-4776-bb66-97608c5c0d21\" target=\"_top\" title=\"psysml:8155982a-39d3-4776-bb66-97608c5c0d21\" xlink:actuate=\"onRequest\" xlink:href=\"psysml:8155982a-39d3-4776-bb66-97608c5c0d21\" xlink:show=\"new\" xlink:title=\"psysml:8155982a-39d3-4776-bb66-97608c5c0d21\" xlink:type=\"simple\"><path d=\"M279,33.81 C279,38.265 279,75.1 279,111.9025 C279,114.2027 279,116.5027 279,118.7947 C279,119.3677 279,119.9402 279,120.512 \" fill=\"none\" id=\"E1-&gt;E2\" style=\"stroke: #383838; stroke-width: 1.0; stroke-dasharray: 7.0,7.0;\"/><polygon fill=\"#383838\" points=\"279,120.512,283,111.512,279,115.512,275,111.512,279,120.512\" style=\"stroke: #383838; stroke-width: 1.0;\"/><text fill=\"#000000\" font-family=\"sans-serif\" font-size=\"13\" lengthAdjust=\"spacingAndGlyphs\" textLength=\"65\" x=\"280\" y=\"76.7869\">«import»*</text></a><!--MD5=[af87c684e3b0d8be13c1a698a818ef1e]\n",
       "link E3 to E4--><a href=\"psysml:339645be-1a7b-490e-bb9e-fc7090e144b0\" target=\"_top\" title=\"psysml:339645be-1a7b-490e-bb9e-fc7090e144b0\" xlink:actuate=\"onRequest\" xlink:href=\"psysml:339645be-1a7b-490e-bb9e-fc7090e144b0\" xlink:show=\"new\" xlink:title=\"psysml:339645be-1a7b-490e-bb9e-fc7090e144b0\" xlink:type=\"simple\"><path d=\"M382,216.84 C382,216.84 382,285.63 382,285.63 \" fill=\"none\" id=\"E3-&gt;E4\" style=\"stroke: #383838; stroke-width: 1.0; stroke-dasharray: 7.0,7.0;\"/><polygon fill=\"#383838\" points=\"382,293.63,385,285.63,379,285.63,382,293.63\" style=\"stroke: #383838; stroke-width: 1.0;\"/><text fill=\"#000000\" font-family=\"sans-serif\" font-size=\"13\" lengthAdjust=\"spacingAndGlyphs\" textLength=\"64\" x=\"383\" y=\"259.7869\">«depend»</text></a><!--MD5=[1b7591eae5389033d8d09a9d6721a717]\n",
       "link E4 to E5--><a href=\"psysml:cd6419af-0f56-471f-8341-f3995db2a676\" target=\"_top\" title=\"psysml:cd6419af-0f56-471f-8341-f3995db2a676\" xlink:actuate=\"onRequest\" xlink:href=\"psysml:cd6419af-0f56-471f-8341-f3995db2a676\" xlink:show=\"new\" xlink:title=\"psysml:cd6419af-0f56-471f-8341-f3995db2a676\" xlink:type=\"simple\"><path d=\"M382,346.84 C382,346.84 382,415.63 382,415.63 \" fill=\"none\" id=\"E4-&gt;E5\" style=\"stroke: #383838; stroke-width: 1.0; stroke-dasharray: 7.0,7.0;\"/><polygon fill=\"#383838\" points=\"382,423.63,385,415.63,379,415.63,382,423.63\" style=\"stroke: #383838; stroke-width: 1.0;\"/><text fill=\"#000000\" font-family=\"sans-serif\" font-size=\"13\" lengthAdjust=\"spacingAndGlyphs\" textLength=\"64\" x=\"383\" y=\"389.7869\">«depend»</text></a><!--MD5=[c5e8897d989ce984f93528998a7150fe]\n",
       "link E8 to E6--><a href=\"psysml:974879a0-be0c-4725-ba74-b00c4a2eaada\" target=\"_top\" title=\"psysml:974879a0-be0c-4725-ba74-b00c4a2eaada\" xlink:actuate=\"onRequest\" xlink:href=\"psysml:974879a0-be0c-4725-ba74-b00c4a2eaada\" xlink:show=\"new\" xlink:title=\"psysml:974879a0-be0c-4725-ba74-b00c4a2eaada\" xlink:type=\"simple\"><path d=\"M102,213.46 C102,213.46 102,289.18 102,289.18 \" fill=\"none\" id=\"E8-&gt;E6\" style=\"stroke: #383838; stroke-width: 1.0; stroke-dasharray: 7.0,7.0;\"/><polygon fill=\"#383838\" points=\"102,297.18,105,289.18,99,289.18,102,297.18\" style=\"stroke: #383838; stroke-width: 1.0;\"/><text fill=\"#000000\" font-family=\"sans-serif\" font-size=\"13\" lengthAdjust=\"spacingAndGlyphs\" textLength=\"64\" x=\"76\" y=\"259.7869\">«depend»</text></a><!--MD5=[bfa3c8b0d15052fdf50ae9310b491027]\n",
       "link E8 to E7--><a href=\"psysml:974879a0-be0c-4725-ba74-b00c4a2eaada\" target=\"_top\" title=\"psysml:974879a0-be0c-4725-ba74-b00c4a2eaada\" xlink:actuate=\"onRequest\" xlink:href=\"psysml:974879a0-be0c-4725-ba74-b00c4a2eaada\" xlink:show=\"new\" xlink:title=\"psysml:974879a0-be0c-4725-ba74-b00c4a2eaada\" xlink:type=\"simple\"><path d=\"M155,213.46 C155,213.46 155,289.18 155,289.18 \" fill=\"none\" id=\"E8-&gt;E7\" style=\"stroke: #383838; stroke-width: 1.0; stroke-dasharray: 7.0,7.0;\"/><polygon fill=\"#383838\" points=\"155,297.18,158,289.18,152,289.18,155,297.18\" style=\"stroke: #383838; stroke-width: 1.0;\"/><text fill=\"#000000\" font-family=\"sans-serif\" font-size=\"13\" lengthAdjust=\"spacingAndGlyphs\" textLength=\"64\" x=\"182\" y=\"259.7869\">«depend»</text></a><!--MD5=[a2c4082f9dc0bfe474d4d803178d1341]\n",
       "@startuml\r\n",
       "skinparam linetype ortho\r\n",
       "skinparam monochrome true\r\n",
       "skinparam classbackgroundcolor white\r\n",
       "skinparam shadowing false\r\n",
       "skinparam wrapWidth 300\r\n",
       "hide circle\r\n",
       "\r\n",
       "package \"DependencyTest\" as E1  [[psysml:0f0f2110-3be1-453e-862d-cec3a7a71a7a ]]  {\r\n",
       "package \"System\" as E2  [[psysml:c508d22c-e466-4361-9854-fd4393e1e853 ]]  {\r\n",
       "package \"Application Layer\" as E3  [[psysml:a9507a9e-eb7a-4860-b8c9-7900feca47e0 ]]  {\r\n",
       "}\r\n",
       "package \"Service Layer\" as E4  [[psysml:709ed33a-9ff9-4f13-a4b1-f82f2d0ae0d9 ]]  {\r\n",
       "}\r\n",
       "package \"Data Layer\" as E5  [[psysml:babd67af-01b8-42b4-9186-2fee6f5cc047 ]]  {\r\n",
       "}\r\n",
       "}\r\n",
       "comp usage \"x \" as E6  <<(T,blue) attribute>> [[psysml:2188fd29-8e87-4428-b2da-0b81f77b2176 ]] {\r\n",
       "}\r\n",
       "comp usage \"y \" as E7  <<(T,blue) attribute>> [[psysml:b1dded97-ff7b-4726-be9f-c0b539bbd77d ]] {\r\n",
       "}\r\n",
       "comp usage \"z \" as E8  <<(T,blue) attribute>> [[psysml:215a3247-a6dc-4d80-9cbe-6a95158331ec ]] {\r\n",
       "}\r\n",
       "}\r\n",
       "E1 ..> E2 [[psysml:8155982a-39d3-4776-bb66-97608c5c0d21 ]] : <<import>>*\r\n",
       "E3 ..>> E4 [[psysml:339645be-1a7b-490e-bb9e-fc7090e144b0 ]] : <<depend>>\r\n",
       "E4 ..>> E5 [[psysml:cd6419af-0f56-471f-8341-f3995db2a676 ]] : <<depend>>\r\n",
       "E8 ..>> E6 [[psysml:974879a0-be0c-4725-ba74-b00c4a2eaada ]] : <<depend>>\r\n",
       "E8 ..>> E7 [[psysml:974879a0-be0c-4725-ba74-b00c4a2eaada ]] : <<depend>>\r\n",
       "@enduml\r\n",
       "\n",
       "PlantUML version 1.2020.13(Sat Jun 13 12:26:38 UTC 2020)\n",
       "(EPL source distribution)\n",
       "Java Runtime: OpenJDK Runtime Environment\n",
       "JVM: OpenJDK 64-Bit Server VM\n",
       "Default Encoding: UTF-8\n",
       "Language: en\n",
       "Country: null\n",
       "--></g></svg>"
      ]
     },
     "execution_count": 52,
     "metadata": {},
     "output_type": "execute_result"
    }
   ],
   "source": [
    "%viz --style=\"ORTHOLINE\" --view=\"Tree\" \"DependencyTest\""
   ]
  },
  {
   "cell_type": "code",
   "execution_count": 53,
   "id": "4eb34a89",
   "metadata": {
    "execution": {
     "iopub.execute_input": "2022-08-19T08:17:14.475372Z",
     "iopub.status.busy": "2022-08-19T08:17:14.474926Z",
     "iopub.status.idle": "2022-08-19T08:17:14.479985Z",
     "shell.execute_reply": "2022-08-19T08:17:14.479576Z"
    }
   },
   "outputs": [
    {
     "data": {
      "image/svg+xml": [
       "<?xml version=\"1.0\" encoding=\"UTF-8\" standalone=\"no\"?><svg xmlns=\"http://www.w3.org/2000/svg\" xmlns:xlink=\"http://www.w3.org/1999/xlink\" contentScriptType=\"application/ecmascript\" contentStyleType=\"text/css\" height=\"12px\" preserveAspectRatio=\"none\" style=\"width:12px;height:12px;\" version=\"1.1\" viewBox=\"0 0 12 12\" width=\"12px\" zoomAndPan=\"magnify\"><defs/><g><!--MD5=[97d6f38768b311333d388e66b2b27985]\n",
       "@startuml\r\n",
       "skinparam linetype ortho\r\n",
       "skinparam monochrome true\r\n",
       "skinparam classbackgroundcolor white\r\n",
       "skinparam shadowing false\r\n",
       "skinparam wrapWidth 300\r\n",
       "hide circle\r\n",
       "\r\n",
       "@enduml\r\n",
       "\n",
       "PlantUML version 1.2020.13(Sat Jun 13 12:26:38 UTC 2020)\n",
       "(EPL source distribution)\n",
       "Java Runtime: OpenJDK Runtime Environment\n",
       "JVM: OpenJDK 64-Bit Server VM\n",
       "Default Encoding: UTF-8\n",
       "Language: en\n",
       "Country: null\n",
       "--></g></svg>"
      ]
     },
     "execution_count": 53,
     "metadata": {},
     "output_type": "execute_result"
    }
   ],
   "source": [
    "%viz --style=\"ORTHOLINE\" --view=\"State\" \"DependencyTest\""
   ]
  },
  {
   "cell_type": "code",
   "execution_count": 54,
   "id": "2163e77b",
   "metadata": {
    "execution": {
     "iopub.execute_input": "2022-08-19T08:17:14.529753Z",
     "iopub.status.busy": "2022-08-19T08:17:14.529313Z",
     "iopub.status.idle": "2022-08-19T08:17:14.561214Z",
     "shell.execute_reply": "2022-08-19T08:17:14.559530Z"
    }
   },
   "outputs": [
    {
     "data": {
      "image/svg+xml": [
       "<?xml version=\"1.0\" encoding=\"UTF-8\" standalone=\"no\"?><svg xmlns=\"http://www.w3.org/2000/svg\" xmlns:xlink=\"http://www.w3.org/1999/xlink\" contentScriptType=\"application/ecmascript\" contentStyleType=\"text/css\" height=\"442px\" preserveAspectRatio=\"none\" style=\"width:536px;height:442px;\" version=\"1.1\" viewBox=\"0 0 536 442\" width=\"536px\" zoomAndPan=\"magnify\"><defs/><g><!--MD5=[fbc87193dbaf4d95561dea2c320d4a47]\n",
       "cluster E1--><a href=\"psysml:0f0f2110-3be1-453e-862d-cec3a7a71a7a\" target=\"_top\" title=\"psysml:0f0f2110-3be1-453e-862d-cec3a7a71a7a\" xlink:actuate=\"onRequest\" xlink:href=\"psysml:0f0f2110-3be1-453e-862d-cec3a7a71a7a\" xlink:show=\"new\" xlink:title=\"psysml:0f0f2110-3be1-453e-862d-cec3a7a71a7a\" xlink:type=\"simple\"><polygon fill=\"#FFFFFF\" points=\"16,6,142,6,149,28.2969,514,28.2969,514,430.72,16,430.72,16,6\" style=\"stroke: #000000; stroke-width: 1.5;\"/><line style=\"stroke: #000000; stroke-width: 1.5;\" x1=\"16\" x2=\"149\" y1=\"28.2969\" y2=\"28.2969\"/><text fill=\"#000000\" font-family=\"sans-serif\" font-size=\"14\" font-weight=\"bold\" lengthAdjust=\"spacingAndGlyphs\" textLength=\"120\" x=\"20\" y=\"20.9951\">DependencyTest</text></a><!--MD5=[e4f7fae6ed58524ba242bb0b0d3be6b7]\n",
       "cluster E2--><a href=\"psysml:c508d22c-e466-4361-9854-fd4393e1e853\" target=\"_top\" title=\"psysml:c508d22c-e466-4361-9854-fd4393e1e853\" xlink:actuate=\"onRequest\" xlink:href=\"psysml:c508d22c-e466-4361-9854-fd4393e1e853\" xlink:show=\"new\" xlink:title=\"psysml:c508d22c-e466-4361-9854-fd4393e1e853\" xlink:type=\"simple\"><polygon fill=\"#FFFFFF\" points=\"271,98.72,328,98.72,335,121.0169,474,121.0169,474,390.72,271,390.72,271,98.72\" style=\"stroke: #000000; stroke-width: 1.5;\"/><line style=\"stroke: #000000; stroke-width: 1.5;\" x1=\"271\" x2=\"335\" y1=\"121.0169\" y2=\"121.0169\"/><text fill=\"#000000\" font-family=\"sans-serif\" font-size=\"14\" font-weight=\"bold\" lengthAdjust=\"spacingAndGlyphs\" textLength=\"51\" x=\"275\" y=\"113.7151\">System</text></a><!--MD5=[60a26617385b1d2d0262a64233df1f8d]\n",
       "class E6--><a href=\"psysml:2188fd29-8e87-4428-b2da-0b81f77b2176\" target=\"_top\" title=\"psysml:2188fd29-8e87-4428-b2da-0b81f77b2176\" xlink:actuate=\"onRequest\" xlink:href=\"psysml:2188fd29-8e87-4428-b2da-0b81f77b2176\" xlink:show=\"new\" xlink:title=\"psysml:2188fd29-8e87-4428-b2da-0b81f77b2176\" xlink:type=\"simple\"><rect fill=\"#FFFFFF\" height=\"45.9375\" id=\"E6\" rx=\"10\" ry=\"10\" style=\"stroke: #383838; stroke-width: 1.5;\" width=\"71\" x=\"40.5\" y=\"231.22\"/><text fill=\"#000000\" font-family=\"sans-serif\" font-size=\"12\" font-style=\"italic\" lengthAdjust=\"spacingAndGlyphs\" textLength=\"69\" x=\"41.5\" y=\"247.3587\">«attribute»</text><text fill=\"#000000\" font-family=\"sans-serif\" font-size=\"12\" lengthAdjust=\"spacingAndGlyphs\" textLength=\"6\" x=\"71\" y=\"261.3274\">x</text><line style=\"stroke: #383838; stroke-width: 1.5;\" x1=\"41.5\" x2=\"110.5\" y1=\"269.1575\" y2=\"269.1575\"/></a><!--MD5=[2156ba9850f5573cc1fc38a6a4b2f02b]\n",
       "class E7--><a href=\"psysml:b1dded97-ff7b-4726-be9f-c0b539bbd77d\" target=\"_top\" title=\"psysml:b1dded97-ff7b-4726-be9f-c0b539bbd77d\" xlink:actuate=\"onRequest\" xlink:href=\"psysml:b1dded97-ff7b-4726-be9f-c0b539bbd77d\" xlink:show=\"new\" xlink:title=\"psysml:b1dded97-ff7b-4726-be9f-c0b539bbd77d\" xlink:type=\"simple\"><rect fill=\"#FFFFFF\" height=\"45.9375\" id=\"E7\" rx=\"10\" ry=\"10\" style=\"stroke: #383838; stroke-width: 1.5;\" width=\"71\" x=\"146.5\" y=\"231.22\"/><text fill=\"#000000\" font-family=\"sans-serif\" font-size=\"12\" font-style=\"italic\" lengthAdjust=\"spacingAndGlyphs\" textLength=\"69\" x=\"147.5\" y=\"247.3587\">«attribute»</text><text fill=\"#000000\" font-family=\"sans-serif\" font-size=\"12\" lengthAdjust=\"spacingAndGlyphs\" textLength=\"6\" x=\"177\" y=\"261.3274\">y</text><line style=\"stroke: #383838; stroke-width: 1.5;\" x1=\"147.5\" x2=\"216.5\" y1=\"269.1575\" y2=\"269.1575\"/></a><!--MD5=[b9389687b975829384b498ac4b7476b2]\n",
       "class E8--><a href=\"psysml:215a3247-a6dc-4d80-9cbe-6a95158331ec\" target=\"_top\" title=\"psysml:215a3247-a6dc-4d80-9cbe-6a95158331ec\" xlink:actuate=\"onRequest\" xlink:href=\"psysml:215a3247-a6dc-4d80-9cbe-6a95158331ec\" xlink:show=\"new\" xlink:title=\"psysml:215a3247-a6dc-4d80-9cbe-6a95158331ec\" xlink:type=\"simple\"><rect fill=\"#FFFFFF\" height=\"45.9375\" id=\"E8\" rx=\"10\" ry=\"10\" style=\"stroke: #383838; stroke-width: 1.5;\" width=\"71\" x=\"92.5\" y=\"145.22\"/><text fill=\"#000000\" font-family=\"sans-serif\" font-size=\"12\" font-style=\"italic\" lengthAdjust=\"spacingAndGlyphs\" textLength=\"69\" x=\"93.5\" y=\"161.3587\">«attribute»</text><text fill=\"#000000\" font-family=\"sans-serif\" font-size=\"12\" lengthAdjust=\"spacingAndGlyphs\" textLength=\"5\" x=\"123.5\" y=\"175.3274\">z</text><line style=\"stroke: #383838; stroke-width: 1.5;\" x1=\"93.5\" x2=\"162.5\" y1=\"183.1575\" y2=\"183.1575\"/></a><a href=\"psysml:a9507a9e-eb7a-4860-b8c9-7900feca47e0\" target=\"_top\" title=\"psysml:a9507a9e-eb7a-4860-b8c9-7900feca47e0\" xlink:actuate=\"onRequest\" xlink:href=\"psysml:a9507a9e-eb7a-4860-b8c9-7900feca47e0\" xlink:show=\"new\" xlink:title=\"psysml:a9507a9e-eb7a-4860-b8c9-7900feca47e0\" xlink:type=\"simple\"><polygon fill=\"#FFFFFF\" points=\"314.5,141.72,435.5,141.72,442.5,164.0169,449.5,164.0169,449.5,194.3138,314.5,194.3138,314.5,141.72\" style=\"stroke: #000000; stroke-width: 1.5;\"/><line style=\"stroke: #000000; stroke-width: 1.5;\" x1=\"314.5\" x2=\"442.5\" y1=\"164.0169\" y2=\"164.0169\"/><text fill=\"#000000\" font-family=\"sans-serif\" font-size=\"14\" font-weight=\"bold\" lengthAdjust=\"spacingAndGlyphs\" textLength=\"115\" x=\"318.5\" y=\"156.7151\">Application Layer</text></a><a href=\"psysml:709ed33a-9ff9-4f13-a4b1-f82f2d0ae0d9\" target=\"_top\" title=\"psysml:709ed33a-9ff9-4f13-a4b1-f82f2d0ae0d9\" xlink:actuate=\"onRequest\" xlink:href=\"psysml:709ed33a-9ff9-4f13-a4b1-f82f2d0ae0d9\" xlink:show=\"new\" xlink:title=\"psysml:709ed33a-9ff9-4f13-a4b1-f82f2d0ae0d9\" xlink:type=\"simple\"><polygon fill=\"#FFFFFF\" points=\"327,227.72,423,227.72,430,250.0169,437,250.0169,437,280.3138,327,280.3138,327,227.72\" style=\"stroke: #000000; stroke-width: 1.5;\"/><line style=\"stroke: #000000; stroke-width: 1.5;\" x1=\"327\" x2=\"430\" y1=\"250.0169\" y2=\"250.0169\"/><text fill=\"#000000\" font-family=\"sans-serif\" font-size=\"14\" font-weight=\"bold\" lengthAdjust=\"spacingAndGlyphs\" textLength=\"90\" x=\"331\" y=\"242.7151\">Service Layer</text></a><a href=\"psysml:babd67af-01b8-42b4-9186-2fee6f5cc047\" target=\"_top\" title=\"psysml:babd67af-01b8-42b4-9186-2fee6f5cc047\" xlink:actuate=\"onRequest\" xlink:href=\"psysml:babd67af-01b8-42b4-9186-2fee6f5cc047\" xlink:show=\"new\" xlink:title=\"psysml:babd67af-01b8-42b4-9186-2fee6f5cc047\" xlink:type=\"simple\"><polygon fill=\"#FFFFFF\" points=\"336,313.72,414,313.72,421,336.0169,428,336.0169,428,366.3138,336,366.3138,336,313.72\" style=\"stroke: #000000; stroke-width: 1.5;\"/><line style=\"stroke: #000000; stroke-width: 1.5;\" x1=\"336\" x2=\"421\" y1=\"336.0169\" y2=\"336.0169\"/><text fill=\"#000000\" font-family=\"sans-serif\" font-size=\"14\" font-weight=\"bold\" lengthAdjust=\"spacingAndGlyphs\" textLength=\"72\" x=\"340\" y=\"328.7151\">Data Layer</text></a><!--MD5=[1f1cd8e6dd4c1b2ca2aaccc9b9bcea6e]\n",
       "link E1 to E2--><a href=\"psysml:8155982a-39d3-4776-bb66-97608c5c0d21\" target=\"_top\" title=\"psysml:8155982a-39d3-4776-bb66-97608c5c0d21\" xlink:actuate=\"onRequest\" xlink:href=\"psysml:8155982a-39d3-4776-bb66-97608c5c0d21\" xlink:show=\"new\" xlink:title=\"psysml:8155982a-39d3-4776-bb66-97608c5c0d21\" xlink:type=\"simple\"><path d=\"M279,33.75 C279,35.665 279,44.54 279,56.8914 C279,63.0671 279,70.1119 279,77.5904 C279,81.3296 279,85.1772 279,89.0789 C279,91.0297 279,92.994 279,94.965 C279,95.9505 279,96.9377 279,97.9256 C279,98.1726 279,98.4197 279,98.6668 \" fill=\"none\" id=\"E1-&gt;E2\" style=\"stroke: #383838; stroke-width: 1.0; stroke-dasharray: 7.0,7.0;\"/><polygon fill=\"#383838\" points=\"279,98.6668,283,89.6668,279,93.6668,275,89.6668,279,98.6668\" style=\"stroke: #383838; stroke-width: 1.0;\"/><text fill=\"#000000\" font-family=\"sans-serif\" font-size=\"13\" lengthAdjust=\"spacingAndGlyphs\" textLength=\"65\" x=\"280\" y=\"54.7869\">«import»*</text></a><!--MD5=[af87c684e3b0d8be13c1a698a818ef1e]\n",
       "link E3 to E4--><a href=\"psysml:339645be-1a7b-490e-bb9e-fc7090e144b0\" target=\"_top\" title=\"psysml:339645be-1a7b-490e-bb9e-fc7090e144b0\" xlink:actuate=\"onRequest\" xlink:href=\"psysml:339645be-1a7b-490e-bb9e-fc7090e144b0\" xlink:show=\"new\" xlink:title=\"psysml:339645be-1a7b-490e-bb9e-fc7090e144b0\" xlink:type=\"simple\"><path d=\"M382,194.96 C382,194.96 382,219.5 382,219.5 \" fill=\"none\" id=\"E3-&gt;E4\" style=\"stroke: #383838; stroke-width: 1.0; stroke-dasharray: 7.0,7.0;\"/><polygon fill=\"#383838\" points=\"382,227.5,385,219.5,379,219.5,382,227.5\" style=\"stroke: #383838; stroke-width: 1.0;\"/><text fill=\"#000000\" font-family=\"sans-serif\" font-size=\"13\" lengthAdjust=\"spacingAndGlyphs\" textLength=\"64\" x=\"383\" y=\"215.7869\">«depend»</text></a><!--MD5=[1b7591eae5389033d8d09a9d6721a717]\n",
       "link E4 to E5--><a href=\"psysml:cd6419af-0f56-471f-8341-f3995db2a676\" target=\"_top\" title=\"psysml:cd6419af-0f56-471f-8341-f3995db2a676\" xlink:actuate=\"onRequest\" xlink:href=\"psysml:cd6419af-0f56-471f-8341-f3995db2a676\" xlink:show=\"new\" xlink:title=\"psysml:cd6419af-0f56-471f-8341-f3995db2a676\" xlink:type=\"simple\"><path d=\"M382,280.96 C382,280.96 382,305.5 382,305.5 \" fill=\"none\" id=\"E4-&gt;E5\" style=\"stroke: #383838; stroke-width: 1.0; stroke-dasharray: 7.0,7.0;\"/><polygon fill=\"#383838\" points=\"382,313.5,385,305.5,379,305.5,382,313.5\" style=\"stroke: #383838; stroke-width: 1.0;\"/><text fill=\"#000000\" font-family=\"sans-serif\" font-size=\"13\" lengthAdjust=\"spacingAndGlyphs\" textLength=\"64\" x=\"383\" y=\"301.7869\">«depend»</text></a><!--MD5=[c5e8897d989ce984f93528998a7150fe]\n",
       "link E8 to E6--><a href=\"psysml:974879a0-be0c-4725-ba74-b00c4a2eaada\" target=\"_top\" title=\"psysml:974879a0-be0c-4725-ba74-b00c4a2eaada\" xlink:actuate=\"onRequest\" xlink:href=\"psysml:974879a0-be0c-4725-ba74-b00c4a2eaada\" xlink:show=\"new\" xlink:title=\"psysml:974879a0-be0c-4725-ba74-b00c4a2eaada\" xlink:type=\"simple\"><path d=\"M102,191.27 C102,191.27 102,223.11 102,223.11 \" fill=\"none\" id=\"E8-&gt;E6\" style=\"stroke: #383838; stroke-width: 1.0; stroke-dasharray: 7.0,7.0;\"/><polygon fill=\"#383838\" points=\"102,231.11,105,223.11,99,223.11,102,231.11\" style=\"stroke: #383838; stroke-width: 1.0;\"/><text fill=\"#000000\" font-family=\"sans-serif\" font-size=\"13\" lengthAdjust=\"spacingAndGlyphs\" textLength=\"64\" x=\"76\" y=\"215.7869\">«depend»</text></a><!--MD5=[bfa3c8b0d15052fdf50ae9310b491027]\n",
       "link E8 to E7--><a href=\"psysml:974879a0-be0c-4725-ba74-b00c4a2eaada\" target=\"_top\" title=\"psysml:974879a0-be0c-4725-ba74-b00c4a2eaada\" xlink:actuate=\"onRequest\" xlink:href=\"psysml:974879a0-be0c-4725-ba74-b00c4a2eaada\" xlink:show=\"new\" xlink:title=\"psysml:974879a0-be0c-4725-ba74-b00c4a2eaada\" xlink:type=\"simple\"><path d=\"M155,191.27 C155,191.27 155,223.11 155,223.11 \" fill=\"none\" id=\"E8-&gt;E7\" style=\"stroke: #383838; stroke-width: 1.0; stroke-dasharray: 7.0,7.0;\"/><polygon fill=\"#383838\" points=\"155,231.11,158,223.11,152,223.11,155,231.11\" style=\"stroke: #383838; stroke-width: 1.0;\"/><text fill=\"#000000\" font-family=\"sans-serif\" font-size=\"13\" lengthAdjust=\"spacingAndGlyphs\" textLength=\"64\" x=\"182\" y=\"215.7869\">«depend»</text></a><!--MD5=[15573f196a2ad57646f1853800ae2a08]\n",
       "@startuml\r\n",
       "skinparam ranksep 10\r\n",
       "skinparam rectangle {\r\n",
       " backgroundColor<<block>> LightGreen\r\n",
       "}\r\n",
       "skinparam linetype ortho\r\n",
       "skinparam monochrome true\r\n",
       "skinparam classbackgroundcolor white\r\n",
       "skinparam shadowing false\r\n",
       "skinparam wrapWidth 300\r\n",
       "hide circle\r\n",
       "\r\n",
       "package \"DependencyTest\" as E1  [[psysml:0f0f2110-3be1-453e-862d-cec3a7a71a7a ]]  {\r\n",
       "package \"System\" as E2  [[psysml:c508d22c-e466-4361-9854-fd4393e1e853 ]]  {\r\n",
       "package \"Application Layer\" as E3  [[psysml:a9507a9e-eb7a-4860-b8c9-7900feca47e0 ]]  {\r\n",
       "}\r\n",
       "package \"Service Layer\" as E4  [[psysml:709ed33a-9ff9-4f13-a4b1-f82f2d0ae0d9 ]]  {\r\n",
       "}\r\n",
       "package \"Data Layer\" as E5  [[psysml:babd67af-01b8-42b4-9186-2fee6f5cc047 ]]  {\r\n",
       "}\r\n",
       "}\r\n",
       "comp usage \"x \" as E6  <<(T,blue) attribute>> [[psysml:2188fd29-8e87-4428-b2da-0b81f77b2176 ]] {\r\n",
       "}\r\n",
       "comp usage \"y \" as E7  <<(T,blue) attribute>> [[psysml:b1dded97-ff7b-4726-be9f-c0b539bbd77d ]] {\r\n",
       "}\r\n",
       "comp usage \"z \" as E8  <<(T,blue) attribute>> [[psysml:215a3247-a6dc-4d80-9cbe-6a95158331ec ]] {\r\n",
       "}\r\n",
       "}\r\n",
       "E1 ..> E2 [[psysml:8155982a-39d3-4776-bb66-97608c5c0d21 ]] : <<import>>*\r\n",
       "E3 ..>> E4 [[psysml:339645be-1a7b-490e-bb9e-fc7090e144b0 ]] : <<depend>>\r\n",
       "E4 ..>> E5 [[psysml:cd6419af-0f56-471f-8341-f3995db2a676 ]] : <<depend>>\r\n",
       "E8 ..>> E6 [[psysml:974879a0-be0c-4725-ba74-b00c4a2eaada ]] : <<depend>>\r\n",
       "E8 ..>> E7 [[psysml:974879a0-be0c-4725-ba74-b00c4a2eaada ]] : <<depend>>\r\n",
       "@enduml\r\n",
       "\n",
       "PlantUML version 1.2020.13(Sat Jun 13 12:26:38 UTC 2020)\n",
       "(EPL source distribution)\n",
       "Java Runtime: OpenJDK Runtime Environment\n",
       "JVM: OpenJDK 64-Bit Server VM\n",
       "Default Encoding: UTF-8\n",
       "Language: en\n",
       "Country: null\n",
       "--></g></svg>"
      ]
     },
     "execution_count": 54,
     "metadata": {},
     "output_type": "execute_result"
    }
   ],
   "source": [
    "%viz --style=\"ORTHOLINE\" --view=\"Interconnection\" \"DependencyTest\""
   ]
  },
  {
   "cell_type": "code",
   "execution_count": 55,
   "id": "5dc2ccfa",
   "metadata": {
    "execution": {
     "iopub.execute_input": "2022-08-19T08:17:14.610435Z",
     "iopub.status.busy": "2022-08-19T08:17:14.609978Z",
     "iopub.status.idle": "2022-08-19T08:17:14.614134Z",
     "shell.execute_reply": "2022-08-19T08:17:14.613734Z"
    }
   },
   "outputs": [
    {
     "data": {
      "image/svg+xml": [
       "<?xml version=\"1.0\" encoding=\"UTF-8\" standalone=\"no\"?><svg xmlns=\"http://www.w3.org/2000/svg\" xmlns:xlink=\"http://www.w3.org/1999/xlink\" contentScriptType=\"application/ecmascript\" contentStyleType=\"text/css\" height=\"12px\" preserveAspectRatio=\"none\" style=\"width:12px;height:12px;\" version=\"1.1\" viewBox=\"0 0 12 12\" width=\"12px\" zoomAndPan=\"magnify\"><defs/><g><!--MD5=[72934c63077099a26744516a776b4749]\n",
       "@startuml\r\n",
       "skinparam ranksep 8\r\n",
       "skinparam linetype ortho\r\n",
       "skinparam monochrome true\r\n",
       "skinparam classbackgroundcolor white\r\n",
       "skinparam shadowing false\r\n",
       "skinparam wrapWidth 300\r\n",
       "hide circle\r\n",
       "\r\n",
       "@enduml\r\n",
       "\n",
       "PlantUML version 1.2020.13(Sat Jun 13 12:26:38 UTC 2020)\n",
       "(EPL source distribution)\n",
       "Java Runtime: OpenJDK Runtime Environment\n",
       "JVM: OpenJDK 64-Bit Server VM\n",
       "Default Encoding: UTF-8\n",
       "Language: en\n",
       "Country: null\n",
       "--></g></svg>"
      ]
     },
     "execution_count": 55,
     "metadata": {},
     "output_type": "execute_result"
    }
   ],
   "source": [
    "%viz --style=\"ORTHOLINE\" --view=\"Action\" \"DependencyTest\""
   ]
  },
  {
   "cell_type": "code",
   "execution_count": 56,
   "id": "d6f9b26a",
   "metadata": {
    "execution": {
     "iopub.execute_input": "2022-08-19T08:17:14.663847Z",
     "iopub.status.busy": "2022-08-19T08:17:14.663387Z",
     "iopub.status.idle": "2022-08-19T08:17:14.668243Z",
     "shell.execute_reply": "2022-08-19T08:17:14.667848Z"
    }
   },
   "outputs": [
    {
     "data": {
      "image/svg+xml": [
       "<?xml version=\"1.0\" encoding=\"UTF-8\" standalone=\"no\"?><svg xmlns=\"http://www.w3.org/2000/svg\" xmlns:xlink=\"http://www.w3.org/1999/xlink\" contentScriptType=\"application/ecmascript\" contentStyleType=\"text/css\" height=\"12px\" preserveAspectRatio=\"none\" style=\"width:12px;height:12px;\" version=\"1.1\" viewBox=\"0 0 12 12\" width=\"12px\" zoomAndPan=\"magnify\"><defs/><g><!--MD5=[30fc1de5121c5abddedd55b44417fde8]\n",
       "@startuml\r\n",
       "skinparam roundcorner 20\r\n",
       "skinparam BoxPadding 20\r\n",
       "skinparam SequenceBoxBackgroundColor #white\r\n",
       "skinparam style strictuml\r\n",
       "skinparam maxMessageSize 100\r\n",
       "skinparam linetype ortho\r\n",
       "skinparam monochrome true\r\n",
       "skinparam classbackgroundcolor white\r\n",
       "skinparam shadowing false\r\n",
       "skinparam wrapWidth 300\r\n",
       "hide circle\r\n",
       "\r\n",
       "@enduml\r\n",
       "\n",
       "PlantUML version 1.2020.13(Sat Jun 13 12:26:38 UTC 2020)\n",
       "(EPL source distribution)\n",
       "Java Runtime: OpenJDK Runtime Environment\n",
       "JVM: OpenJDK 64-Bit Server VM\n",
       "Default Encoding: UTF-8\n",
       "Language: en\n",
       "Country: null\n",
       "--></g></svg>"
      ]
     },
     "execution_count": 56,
     "metadata": {},
     "output_type": "execute_result"
    }
   ],
   "source": [
    "%viz --style=\"ORTHOLINE\" --view=\"Sequence\" \"DependencyTest\""
   ]
  },
  {
   "cell_type": "code",
   "execution_count": 57,
   "id": "c42b38a5",
   "metadata": {
    "execution": {
     "iopub.execute_input": "2022-08-19T08:17:14.717997Z",
     "iopub.status.busy": "2022-08-19T08:17:14.717553Z",
     "iopub.status.idle": "2022-08-19T08:17:14.750451Z",
     "shell.execute_reply": "2022-08-19T08:17:14.749081Z"
    }
   },
   "outputs": [
    {
     "data": {
      "image/svg+xml": [
       "<?xml version=\"1.0\" encoding=\"UTF-8\" standalone=\"no\"?><svg xmlns=\"http://www.w3.org/2000/svg\" xmlns:xlink=\"http://www.w3.org/1999/xlink\" contentScriptType=\"application/ecmascript\" contentStyleType=\"text/css\" height=\"552px\" preserveAspectRatio=\"none\" style=\"width:536px;height:552px;\" version=\"1.1\" viewBox=\"0 0 536 552\" width=\"536px\" zoomAndPan=\"magnify\"><defs/><g><!--MD5=[fbc87193dbaf4d95561dea2c320d4a47]\n",
       "cluster E1--><a href=\"psysml:0f0f2110-3be1-453e-862d-cec3a7a71a7a\" target=\"_top\" title=\"psysml:0f0f2110-3be1-453e-862d-cec3a7a71a7a\" xlink:actuate=\"onRequest\" xlink:href=\"psysml:0f0f2110-3be1-453e-862d-cec3a7a71a7a\" xlink:show=\"new\" xlink:title=\"psysml:0f0f2110-3be1-453e-862d-cec3a7a71a7a\" xlink:type=\"simple\"><polygon fill=\"#FFFFFF\" points=\"16,6,142,6,149,28.2969,514,28.2969,514,540.72,16,540.72,16,6\" style=\"stroke: #000000; stroke-width: 1.5;\"/><line style=\"stroke: #000000; stroke-width: 1.5;\" x1=\"16\" x2=\"149\" y1=\"28.2969\" y2=\"28.2969\"/><text fill=\"#000000\" font-family=\"sans-serif\" font-size=\"14\" font-weight=\"bold\" lengthAdjust=\"spacingAndGlyphs\" textLength=\"120\" x=\"20\" y=\"20.9951\">DependencyTest</text></a><!--MD5=[e4f7fae6ed58524ba242bb0b0d3be6b7]\n",
       "cluster E2--><a href=\"psysml:c508d22c-e466-4361-9854-fd4393e1e853\" target=\"_top\" title=\"psysml:c508d22c-e466-4361-9854-fd4393e1e853\" xlink:actuate=\"onRequest\" xlink:href=\"psysml:c508d22c-e466-4361-9854-fd4393e1e853\" xlink:show=\"new\" xlink:title=\"psysml:c508d22c-e466-4361-9854-fd4393e1e853\" xlink:type=\"simple\"><polygon fill=\"#FFFFFF\" points=\"271,120.72,328,120.72,335,143.0169,474,143.0169,474,500.72,271,500.72,271,120.72\" style=\"stroke: #000000; stroke-width: 1.5;\"/><line style=\"stroke: #000000; stroke-width: 1.5;\" x1=\"271\" x2=\"335\" y1=\"143.0169\" y2=\"143.0169\"/><text fill=\"#000000\" font-family=\"sans-serif\" font-size=\"14\" font-weight=\"bold\" lengthAdjust=\"spacingAndGlyphs\" textLength=\"51\" x=\"275\" y=\"135.7151\">System</text></a><!--MD5=[60a26617385b1d2d0262a64233df1f8d]\n",
       "class E6--><a href=\"psysml:2188fd29-8e87-4428-b2da-0b81f77b2176\" target=\"_top\" title=\"psysml:2188fd29-8e87-4428-b2da-0b81f77b2176\" xlink:actuate=\"onRequest\" xlink:href=\"psysml:2188fd29-8e87-4428-b2da-0b81f77b2176\" xlink:show=\"new\" xlink:title=\"psysml:2188fd29-8e87-4428-b2da-0b81f77b2176\" xlink:type=\"simple\"><rect fill=\"#FFFFFF\" height=\"45.9375\" id=\"E6\" rx=\"10\" ry=\"10\" style=\"stroke: #383838; stroke-width: 1.5;\" width=\"71\" x=\"40.5\" y=\"297.22\"/><text fill=\"#000000\" font-family=\"sans-serif\" font-size=\"12\" font-style=\"italic\" lengthAdjust=\"spacingAndGlyphs\" textLength=\"69\" x=\"41.5\" y=\"313.3587\">«attribute»</text><text fill=\"#000000\" font-family=\"sans-serif\" font-size=\"12\" lengthAdjust=\"spacingAndGlyphs\" textLength=\"6\" x=\"71\" y=\"327.3274\">x</text><line style=\"stroke: #383838; stroke-width: 1.5;\" x1=\"41.5\" x2=\"110.5\" y1=\"335.1575\" y2=\"335.1575\"/></a><!--MD5=[2156ba9850f5573cc1fc38a6a4b2f02b]\n",
       "class E7--><a href=\"psysml:b1dded97-ff7b-4726-be9f-c0b539bbd77d\" target=\"_top\" title=\"psysml:b1dded97-ff7b-4726-be9f-c0b539bbd77d\" xlink:actuate=\"onRequest\" xlink:href=\"psysml:b1dded97-ff7b-4726-be9f-c0b539bbd77d\" xlink:show=\"new\" xlink:title=\"psysml:b1dded97-ff7b-4726-be9f-c0b539bbd77d\" xlink:type=\"simple\"><rect fill=\"#FFFFFF\" height=\"45.9375\" id=\"E7\" rx=\"10\" ry=\"10\" style=\"stroke: #383838; stroke-width: 1.5;\" width=\"71\" x=\"146.5\" y=\"297.22\"/><text fill=\"#000000\" font-family=\"sans-serif\" font-size=\"12\" font-style=\"italic\" lengthAdjust=\"spacingAndGlyphs\" textLength=\"69\" x=\"147.5\" y=\"313.3587\">«attribute»</text><text fill=\"#000000\" font-family=\"sans-serif\" font-size=\"12\" lengthAdjust=\"spacingAndGlyphs\" textLength=\"6\" x=\"177\" y=\"327.3274\">y</text><line style=\"stroke: #383838; stroke-width: 1.5;\" x1=\"147.5\" x2=\"216.5\" y1=\"335.1575\" y2=\"335.1575\"/></a><!--MD5=[b9389687b975829384b498ac4b7476b2]\n",
       "class E8--><a href=\"psysml:215a3247-a6dc-4d80-9cbe-6a95158331ec\" target=\"_top\" title=\"psysml:215a3247-a6dc-4d80-9cbe-6a95158331ec\" xlink:actuate=\"onRequest\" xlink:href=\"psysml:215a3247-a6dc-4d80-9cbe-6a95158331ec\" xlink:show=\"new\" xlink:title=\"psysml:215a3247-a6dc-4d80-9cbe-6a95158331ec\" xlink:type=\"simple\"><rect fill=\"#FFFFFF\" height=\"45.9375\" id=\"E8\" rx=\"10\" ry=\"10\" style=\"stroke: #383838; stroke-width: 1.5;\" width=\"71\" x=\"92.5\" y=\"167.22\"/><text fill=\"#000000\" font-family=\"sans-serif\" font-size=\"12\" font-style=\"italic\" lengthAdjust=\"spacingAndGlyphs\" textLength=\"69\" x=\"93.5\" y=\"183.3587\">«attribute»</text><text fill=\"#000000\" font-family=\"sans-serif\" font-size=\"12\" lengthAdjust=\"spacingAndGlyphs\" textLength=\"5\" x=\"123.5\" y=\"197.3274\">z</text><line style=\"stroke: #383838; stroke-width: 1.5;\" x1=\"93.5\" x2=\"162.5\" y1=\"205.1575\" y2=\"205.1575\"/></a><a href=\"psysml:a9507a9e-eb7a-4860-b8c9-7900feca47e0\" target=\"_top\" title=\"psysml:a9507a9e-eb7a-4860-b8c9-7900feca47e0\" xlink:actuate=\"onRequest\" xlink:href=\"psysml:a9507a9e-eb7a-4860-b8c9-7900feca47e0\" xlink:show=\"new\" xlink:title=\"psysml:a9507a9e-eb7a-4860-b8c9-7900feca47e0\" xlink:type=\"simple\"><polygon fill=\"#FFFFFF\" points=\"314.5,163.72,435.5,163.72,442.5,186.0169,449.5,186.0169,449.5,216.3138,314.5,216.3138,314.5,163.72\" style=\"stroke: #000000; stroke-width: 1.5;\"/><line style=\"stroke: #000000; stroke-width: 1.5;\" x1=\"314.5\" x2=\"442.5\" y1=\"186.0169\" y2=\"186.0169\"/><text fill=\"#000000\" font-family=\"sans-serif\" font-size=\"14\" font-weight=\"bold\" lengthAdjust=\"spacingAndGlyphs\" textLength=\"115\" x=\"318.5\" y=\"178.7151\">Application Layer</text></a><a href=\"psysml:709ed33a-9ff9-4f13-a4b1-f82f2d0ae0d9\" target=\"_top\" title=\"psysml:709ed33a-9ff9-4f13-a4b1-f82f2d0ae0d9\" xlink:actuate=\"onRequest\" xlink:href=\"psysml:709ed33a-9ff9-4f13-a4b1-f82f2d0ae0d9\" xlink:show=\"new\" xlink:title=\"psysml:709ed33a-9ff9-4f13-a4b1-f82f2d0ae0d9\" xlink:type=\"simple\"><polygon fill=\"#FFFFFF\" points=\"327,293.72,423,293.72,430,316.0169,437,316.0169,437,346.3138,327,346.3138,327,293.72\" style=\"stroke: #000000; stroke-width: 1.5;\"/><line style=\"stroke: #000000; stroke-width: 1.5;\" x1=\"327\" x2=\"430\" y1=\"316.0169\" y2=\"316.0169\"/><text fill=\"#000000\" font-family=\"sans-serif\" font-size=\"14\" font-weight=\"bold\" lengthAdjust=\"spacingAndGlyphs\" textLength=\"90\" x=\"331\" y=\"308.7151\">Service Layer</text></a><a href=\"psysml:babd67af-01b8-42b4-9186-2fee6f5cc047\" target=\"_top\" title=\"psysml:babd67af-01b8-42b4-9186-2fee6f5cc047\" xlink:actuate=\"onRequest\" xlink:href=\"psysml:babd67af-01b8-42b4-9186-2fee6f5cc047\" xlink:show=\"new\" xlink:title=\"psysml:babd67af-01b8-42b4-9186-2fee6f5cc047\" xlink:type=\"simple\"><polygon fill=\"#FFFFFF\" points=\"336,423.72,414,423.72,421,446.0169,428,446.0169,428,476.3138,336,476.3138,336,423.72\" style=\"stroke: #000000; stroke-width: 1.5;\"/><line style=\"stroke: #000000; stroke-width: 1.5;\" x1=\"336\" x2=\"421\" y1=\"446.0169\" y2=\"446.0169\"/><text fill=\"#000000\" font-family=\"sans-serif\" font-size=\"14\" font-weight=\"bold\" lengthAdjust=\"spacingAndGlyphs\" textLength=\"72\" x=\"340\" y=\"438.7151\">Data Layer</text></a><!--MD5=[1f1cd8e6dd4c1b2ca2aaccc9b9bcea6e]\n",
       "link E1 to E2--><a href=\"psysml:8155982a-39d3-4776-bb66-97608c5c0d21\" target=\"_top\" title=\"psysml:8155982a-39d3-4776-bb66-97608c5c0d21\" xlink:actuate=\"onRequest\" xlink:href=\"psysml:8155982a-39d3-4776-bb66-97608c5c0d21\" xlink:show=\"new\" xlink:title=\"psysml:8155982a-39d3-4776-bb66-97608c5c0d21\" xlink:type=\"simple\"><path d=\"M279,33.81 C279,38.265 279,75.1 279,111.9025 C279,114.2027 279,116.5027 279,118.7947 C279,119.3677 279,119.9402 279,120.512 \" fill=\"none\" id=\"E1-&gt;E2\" style=\"stroke: #383838; stroke-width: 1.0; stroke-dasharray: 7.0,7.0;\"/><polygon fill=\"#383838\" points=\"279,120.512,283,111.512,279,115.512,275,111.512,279,120.512\" style=\"stroke: #383838; stroke-width: 1.0;\"/><text fill=\"#000000\" font-family=\"sans-serif\" font-size=\"13\" lengthAdjust=\"spacingAndGlyphs\" textLength=\"65\" x=\"280\" y=\"76.7869\">«import»*</text></a><!--MD5=[af87c684e3b0d8be13c1a698a818ef1e]\n",
       "link E3 to E4--><a href=\"psysml:339645be-1a7b-490e-bb9e-fc7090e144b0\" target=\"_top\" title=\"psysml:339645be-1a7b-490e-bb9e-fc7090e144b0\" xlink:actuate=\"onRequest\" xlink:href=\"psysml:339645be-1a7b-490e-bb9e-fc7090e144b0\" xlink:show=\"new\" xlink:title=\"psysml:339645be-1a7b-490e-bb9e-fc7090e144b0\" xlink:type=\"simple\"><path d=\"M382,216.84 C382,216.84 382,285.63 382,285.63 \" fill=\"none\" id=\"E3-&gt;E4\" style=\"stroke: #383838; stroke-width: 1.0; stroke-dasharray: 7.0,7.0;\"/><polygon fill=\"#383838\" points=\"382,293.63,385,285.63,379,285.63,382,293.63\" style=\"stroke: #383838; stroke-width: 1.0;\"/><text fill=\"#000000\" font-family=\"sans-serif\" font-size=\"13\" lengthAdjust=\"spacingAndGlyphs\" textLength=\"64\" x=\"383\" y=\"259.7869\">«depend»</text></a><!--MD5=[1b7591eae5389033d8d09a9d6721a717]\n",
       "link E4 to E5--><a href=\"psysml:cd6419af-0f56-471f-8341-f3995db2a676\" target=\"_top\" title=\"psysml:cd6419af-0f56-471f-8341-f3995db2a676\" xlink:actuate=\"onRequest\" xlink:href=\"psysml:cd6419af-0f56-471f-8341-f3995db2a676\" xlink:show=\"new\" xlink:title=\"psysml:cd6419af-0f56-471f-8341-f3995db2a676\" xlink:type=\"simple\"><path d=\"M382,346.84 C382,346.84 382,415.63 382,415.63 \" fill=\"none\" id=\"E4-&gt;E5\" style=\"stroke: #383838; stroke-width: 1.0; stroke-dasharray: 7.0,7.0;\"/><polygon fill=\"#383838\" points=\"382,423.63,385,415.63,379,415.63,382,423.63\" style=\"stroke: #383838; stroke-width: 1.0;\"/><text fill=\"#000000\" font-family=\"sans-serif\" font-size=\"13\" lengthAdjust=\"spacingAndGlyphs\" textLength=\"64\" x=\"383\" y=\"389.7869\">«depend»</text></a><!--MD5=[c5e8897d989ce984f93528998a7150fe]\n",
       "link E8 to E6--><a href=\"psysml:974879a0-be0c-4725-ba74-b00c4a2eaada\" target=\"_top\" title=\"psysml:974879a0-be0c-4725-ba74-b00c4a2eaada\" xlink:actuate=\"onRequest\" xlink:href=\"psysml:974879a0-be0c-4725-ba74-b00c4a2eaada\" xlink:show=\"new\" xlink:title=\"psysml:974879a0-be0c-4725-ba74-b00c4a2eaada\" xlink:type=\"simple\"><path d=\"M102,213.46 C102,213.46 102,289.18 102,289.18 \" fill=\"none\" id=\"E8-&gt;E6\" style=\"stroke: #383838; stroke-width: 1.0; stroke-dasharray: 7.0,7.0;\"/><polygon fill=\"#383838\" points=\"102,297.18,105,289.18,99,289.18,102,297.18\" style=\"stroke: #383838; stroke-width: 1.0;\"/><text fill=\"#000000\" font-family=\"sans-serif\" font-size=\"13\" lengthAdjust=\"spacingAndGlyphs\" textLength=\"64\" x=\"76\" y=\"259.7869\">«depend»</text></a><!--MD5=[bfa3c8b0d15052fdf50ae9310b491027]\n",
       "link E8 to E7--><a href=\"psysml:974879a0-be0c-4725-ba74-b00c4a2eaada\" target=\"_top\" title=\"psysml:974879a0-be0c-4725-ba74-b00c4a2eaada\" xlink:actuate=\"onRequest\" xlink:href=\"psysml:974879a0-be0c-4725-ba74-b00c4a2eaada\" xlink:show=\"new\" xlink:title=\"psysml:974879a0-be0c-4725-ba74-b00c4a2eaada\" xlink:type=\"simple\"><path d=\"M155,213.46 C155,213.46 155,289.18 155,289.18 \" fill=\"none\" id=\"E8-&gt;E7\" style=\"stroke: #383838; stroke-width: 1.0; stroke-dasharray: 7.0,7.0;\"/><polygon fill=\"#383838\" points=\"155,297.18,158,289.18,152,289.18,155,297.18\" style=\"stroke: #383838; stroke-width: 1.0;\"/><text fill=\"#000000\" font-family=\"sans-serif\" font-size=\"13\" lengthAdjust=\"spacingAndGlyphs\" textLength=\"64\" x=\"182\" y=\"259.7869\">«depend»</text></a><!--MD5=[a2c4082f9dc0bfe474d4d803178d1341]\n",
       "@startuml\r\n",
       "skinparam linetype ortho\r\n",
       "skinparam monochrome true\r\n",
       "skinparam classbackgroundcolor white\r\n",
       "skinparam shadowing false\r\n",
       "skinparam wrapWidth 300\r\n",
       "hide circle\r\n",
       "\r\n",
       "package \"DependencyTest\" as E1  [[psysml:0f0f2110-3be1-453e-862d-cec3a7a71a7a ]]  {\r\n",
       "package \"System\" as E2  [[psysml:c508d22c-e466-4361-9854-fd4393e1e853 ]]  {\r\n",
       "package \"Application Layer\" as E3  [[psysml:a9507a9e-eb7a-4860-b8c9-7900feca47e0 ]]  {\r\n",
       "}\r\n",
       "package \"Service Layer\" as E4  [[psysml:709ed33a-9ff9-4f13-a4b1-f82f2d0ae0d9 ]]  {\r\n",
       "}\r\n",
       "package \"Data Layer\" as E5  [[psysml:babd67af-01b8-42b4-9186-2fee6f5cc047 ]]  {\r\n",
       "}\r\n",
       "}\r\n",
       "comp usage \"x \" as E6  <<(T,blue) attribute>> [[psysml:2188fd29-8e87-4428-b2da-0b81f77b2176 ]] {\r\n",
       "}\r\n",
       "comp usage \"y \" as E7  <<(T,blue) attribute>> [[psysml:b1dded97-ff7b-4726-be9f-c0b539bbd77d ]] {\r\n",
       "}\r\n",
       "comp usage \"z \" as E8  <<(T,blue) attribute>> [[psysml:215a3247-a6dc-4d80-9cbe-6a95158331ec ]] {\r\n",
       "}\r\n",
       "}\r\n",
       "E1 ..> E2 [[psysml:8155982a-39d3-4776-bb66-97608c5c0d21 ]] : <<import>>*\r\n",
       "E3 ..>> E4 [[psysml:339645be-1a7b-490e-bb9e-fc7090e144b0 ]] : <<depend>>\r\n",
       "E4 ..>> E5 [[psysml:cd6419af-0f56-471f-8341-f3995db2a676 ]] : <<depend>>\r\n",
       "E8 ..>> E6 [[psysml:974879a0-be0c-4725-ba74-b00c4a2eaada ]] : <<depend>>\r\n",
       "E8 ..>> E7 [[psysml:974879a0-be0c-4725-ba74-b00c4a2eaada ]] : <<depend>>\r\n",
       "@enduml\r\n",
       "\n",
       "PlantUML version 1.2020.13(Sat Jun 13 12:26:38 UTC 2020)\n",
       "(EPL source distribution)\n",
       "Java Runtime: OpenJDK Runtime Environment\n",
       "JVM: OpenJDK 64-Bit Server VM\n",
       "Default Encoding: UTF-8\n",
       "Language: en\n",
       "Country: null\n",
       "--></g></svg>"
      ]
     },
     "execution_count": 57,
     "metadata": {},
     "output_type": "execute_result"
    }
   ],
   "source": [
    "%viz --style=\"ORTHOLINE\" --view=\"MIXED\" \"DependencyTest\""
   ]
  }
 ],
 "metadata": {
  "kernelspec": {
   "display_name": "SysML",
   "language": "sysml",
   "name": "sysml"
  },
  "language_info": {
   "codemirror_mode": "sysml",
   "file_extension": ".sysml",
   "mimetype": "text/x-sysml",
   "name": "SysML",
   "pygments_lexer": "java",
   "version": "1.0.0"
  }
 },
 "nbformat": 4,
 "nbformat_minor": 5
}

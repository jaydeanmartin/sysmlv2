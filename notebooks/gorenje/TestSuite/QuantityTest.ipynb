{
 "cells": [
  {
   "cell_type": "markdown",
   "id": "6b0c74b3",
   "metadata": {},
   "source": [
    "# SysML v2 Test Suite\n",
    "\n",
    "This can notebook can be cleared using menu `Edit --> Clear All Outputs` and then all cells can be\n",
    "run using menu `Run --> Run All Cells`.\n",
    "\n",
    "**WARNING**: This file is generated, all modifications here will be ignored.\n"
   ]
  },
  {
   "cell_type": "markdown",
   "id": "82af312a",
   "metadata": {},
   "source": [
    "## File: ../../sysml/src/examples/Simple Tests/QuantityTest.sysml"
   ]
  },
  {
   "cell_type": "code",
   "execution_count": 1,
   "id": "551c37d1",
   "metadata": {
    "execution": {
     "iopub.execute_input": "2021-08-04T06:26:05.859356Z",
     "iopub.status.busy": "2021-08-04T06:26:05.858495Z",
     "iopub.status.idle": "2021-08-04T06:26:05.942991Z",
     "shell.execute_reply": "2021-08-04T06:26:05.942618Z"
    }
   },
   "outputs": [
    {
     "name": "stderr",
     "output_type": "stream",
     "text": [
      "ERROR:no viable alternative at input 'as' (1.sysml line : 2 column : 9)\n"
     ]
    },
    {
     "name": "stderr",
     "output_type": "stream",
     "text": [
      "ERROR:no viable alternative at input '::' (1.sysml line : 2 column : 19)\n"
     ]
    },
    {
     "name": "stderr",
     "output_type": "stream",
     "text": [
      "ERROR:no viable alternative at input 'as' (1.sysml line : 2 column : 32)\n"
     ]
    },
    {
     "data": {
      "text/plain": []
     },
     "execution_count": 1,
     "metadata": {},
     "output_type": "execute_result"
    }
   ],
   "source": [
    "package QuantityTest {\n",
    "\timport Quantities::quantities as quantities;\n",
    "\t\n",
    "\tattribute q :> quantities;\n",
    "\t\n",
    "}"
   ]
  },
  {
   "cell_type": "code",
   "execution_count": 2,
   "id": "9fb23f43",
   "metadata": {
    "execution": {
     "iopub.execute_input": "2021-08-04T06:26:05.994486Z",
     "iopub.status.busy": "2021-08-04T06:26:05.994165Z",
     "iopub.status.idle": "2021-08-04T06:26:06.000406Z",
     "shell.execute_reply": "2021-08-04T06:26:06.000087Z"
    }
   },
   "outputs": [
    {
     "data": {
      "text/plain": [
       "ERROR:Couldn't resolve reference to Element 'QuantityTest'\n"
      ]
     },
     "execution_count": 2,
     "metadata": {},
     "output_type": "execute_result"
    }
   ],
   "source": [
    "%viz --style=\"COMPTREE\" --view=\"Default\" \"QuantityTest\""
   ]
  },
  {
   "cell_type": "code",
   "execution_count": 3,
   "id": "d63b56de",
   "metadata": {
    "execution": {
     "iopub.execute_input": "2021-08-04T06:26:06.051495Z",
     "iopub.status.busy": "2021-08-04T06:26:06.051236Z",
     "iopub.status.idle": "2021-08-04T06:26:06.053423Z",
     "shell.execute_reply": "2021-08-04T06:26:06.053802Z"
    }
   },
   "outputs": [
    {
     "data": {
      "text/plain": [
       "ERROR:Couldn't resolve reference to Element 'QuantityTest'\n"
      ]
     },
     "execution_count": 3,
     "metadata": {},
     "output_type": "execute_result"
    }
   ],
   "source": [
    "%viz --style=\"COMPTREE\" --view=\"Tree\" \"QuantityTest\""
   ]
  },
  {
   "cell_type": "code",
   "execution_count": 4,
   "id": "006727ed",
   "metadata": {
    "execution": {
     "iopub.execute_input": "2021-08-04T06:26:06.104770Z",
     "iopub.status.busy": "2021-08-04T06:26:06.104264Z",
     "iopub.status.idle": "2021-08-04T06:26:06.106316Z",
     "shell.execute_reply": "2021-08-04T06:26:06.106636Z"
    }
   },
   "outputs": [
    {
     "data": {
      "text/plain": [
       "ERROR:Couldn't resolve reference to Element 'QuantityTest'\n"
      ]
     },
     "execution_count": 4,
     "metadata": {},
     "output_type": "execute_result"
    }
   ],
   "source": [
    "%viz --style=\"COMPTREE\" --view=\"State\" \"QuantityTest\""
   ]
  },
  {
   "cell_type": "code",
   "execution_count": 5,
   "id": "f9980cb6",
   "metadata": {
    "execution": {
     "iopub.execute_input": "2021-08-04T06:26:06.157402Z",
     "iopub.status.busy": "2021-08-04T06:26:06.156943Z",
     "iopub.status.idle": "2021-08-04T06:26:06.158780Z",
     "shell.execute_reply": "2021-08-04T06:26:06.159095Z"
    }
   },
   "outputs": [
    {
     "data": {
      "text/plain": [
       "ERROR:Couldn't resolve reference to Element 'QuantityTest'\n"
      ]
     },
     "execution_count": 5,
     "metadata": {},
     "output_type": "execute_result"
    }
   ],
   "source": [
    "%viz --style=\"COMPTREE\" --view=\"Interconnection\" \"QuantityTest\""
   ]
  },
  {
   "cell_type": "code",
   "execution_count": 6,
   "id": "fe90b29a",
   "metadata": {
    "execution": {
     "iopub.execute_input": "2021-08-04T06:26:06.209942Z",
     "iopub.status.busy": "2021-08-04T06:26:06.209526Z",
     "iopub.status.idle": "2021-08-04T06:26:06.211330Z",
     "shell.execute_reply": "2021-08-04T06:26:06.211643Z"
    }
   },
   "outputs": [
    {
     "data": {
      "text/plain": [
       "ERROR:Couldn't resolve reference to Element 'QuantityTest'\n"
      ]
     },
     "execution_count": 6,
     "metadata": {},
     "output_type": "execute_result"
    }
   ],
   "source": [
    "%viz --style=\"COMPTREE\" --view=\"Action\" \"QuantityTest\""
   ]
  },
  {
   "cell_type": "code",
   "execution_count": 7,
   "id": "a1d92916",
   "metadata": {
    "execution": {
     "iopub.execute_input": "2021-08-04T06:26:06.262290Z",
     "iopub.status.busy": "2021-08-04T06:26:06.261844Z",
     "iopub.status.idle": "2021-08-04T06:26:06.263554Z",
     "shell.execute_reply": "2021-08-04T06:26:06.263868Z"
    }
   },
   "outputs": [
    {
     "data": {
      "text/plain": [
       "ERROR:Couldn't resolve reference to Element 'QuantityTest'\n"
      ]
     },
     "execution_count": 7,
     "metadata": {},
     "output_type": "execute_result"
    }
   ],
   "source": [
    "%viz --style=\"COMPTREE\" --view=\"Sequence\" \"QuantityTest\""
   ]
  },
  {
   "cell_type": "code",
   "execution_count": 8,
   "id": "da7b4553",
   "metadata": {
    "execution": {
     "iopub.execute_input": "2021-08-04T06:26:06.314404Z",
     "iopub.status.busy": "2021-08-04T06:26:06.313912Z",
     "iopub.status.idle": "2021-08-04T06:26:06.315993Z",
     "shell.execute_reply": "2021-08-04T06:26:06.315608Z"
    }
   },
   "outputs": [
    {
     "data": {
      "text/plain": [
       "ERROR:Couldn't resolve reference to Element 'QuantityTest'\n"
      ]
     },
     "execution_count": 8,
     "metadata": {},
     "output_type": "execute_result"
    }
   ],
   "source": [
    "%viz --style=\"COMPTREE\" --view=\"MIXED\" \"QuantityTest\""
   ]
  },
  {
   "cell_type": "code",
   "execution_count": 9,
   "id": "704975d7",
   "metadata": {
    "execution": {
     "iopub.execute_input": "2021-08-04T06:26:06.366350Z",
     "iopub.status.busy": "2021-08-04T06:26:06.365859Z",
     "iopub.status.idle": "2021-08-04T06:26:06.367900Z",
     "shell.execute_reply": "2021-08-04T06:26:06.367556Z"
    }
   },
   "outputs": [
    {
     "data": {
      "text/plain": [
       "ERROR:Couldn't resolve reference to Element 'QuantityTest'\n"
      ]
     },
     "execution_count": 9,
     "metadata": {},
     "output_type": "execute_result"
    }
   ],
   "source": [
    "%viz --style=\"POLYLINE\" --view=\"Default\" \"QuantityTest\""
   ]
  },
  {
   "cell_type": "code",
   "execution_count": 10,
   "id": "fbcb1910",
   "metadata": {
    "execution": {
     "iopub.execute_input": "2021-08-04T06:26:06.418207Z",
     "iopub.status.busy": "2021-08-04T06:26:06.417724Z",
     "iopub.status.idle": "2021-08-04T06:26:06.419750Z",
     "shell.execute_reply": "2021-08-04T06:26:06.419422Z"
    }
   },
   "outputs": [
    {
     "data": {
      "text/plain": [
       "ERROR:Couldn't resolve reference to Element 'QuantityTest'\n"
      ]
     },
     "execution_count": 10,
     "metadata": {},
     "output_type": "execute_result"
    }
   ],
   "source": [
    "%viz --style=\"POLYLINE\" --view=\"Tree\" \"QuantityTest\""
   ]
  },
  {
   "cell_type": "code",
   "execution_count": 11,
   "id": "d9d1f511",
   "metadata": {
    "execution": {
     "iopub.execute_input": "2021-08-04T06:26:06.470329Z",
     "iopub.status.busy": "2021-08-04T06:26:06.469786Z",
     "iopub.status.idle": "2021-08-04T06:26:06.471810Z",
     "shell.execute_reply": "2021-08-04T06:26:06.471466Z"
    }
   },
   "outputs": [
    {
     "data": {
      "text/plain": [
       "ERROR:Couldn't resolve reference to Element 'QuantityTest'\n"
      ]
     },
     "execution_count": 11,
     "metadata": {},
     "output_type": "execute_result"
    }
   ],
   "source": [
    "%viz --style=\"POLYLINE\" --view=\"State\" \"QuantityTest\""
   ]
  },
  {
   "cell_type": "code",
   "execution_count": 12,
   "id": "8fdb4b63",
   "metadata": {
    "execution": {
     "iopub.execute_input": "2021-08-04T06:26:06.522134Z",
     "iopub.status.busy": "2021-08-04T06:26:06.521663Z",
     "iopub.status.idle": "2021-08-04T06:26:06.523334Z",
     "shell.execute_reply": "2021-08-04T06:26:06.523619Z"
    }
   },
   "outputs": [
    {
     "data": {
      "text/plain": [
       "ERROR:Couldn't resolve reference to Element 'QuantityTest'\n"
      ]
     },
     "execution_count": 12,
     "metadata": {},
     "output_type": "execute_result"
    }
   ],
   "source": [
    "%viz --style=\"POLYLINE\" --view=\"Interconnection\" \"QuantityTest\""
   ]
  },
  {
   "cell_type": "code",
   "execution_count": 13,
   "id": "17abbc7f",
   "metadata": {
    "execution": {
     "iopub.execute_input": "2021-08-04T06:26:06.574073Z",
     "iopub.status.busy": "2021-08-04T06:26:06.573508Z",
     "iopub.status.idle": "2021-08-04T06:26:06.575550Z",
     "shell.execute_reply": "2021-08-04T06:26:06.575163Z"
    }
   },
   "outputs": [
    {
     "data": {
      "text/plain": [
       "ERROR:Couldn't resolve reference to Element 'QuantityTest'\n"
      ]
     },
     "execution_count": 13,
     "metadata": {},
     "output_type": "execute_result"
    }
   ],
   "source": [
    "%viz --style=\"POLYLINE\" --view=\"Action\" \"QuantityTest\""
   ]
  },
  {
   "cell_type": "code",
   "execution_count": 14,
   "id": "b4e03559",
   "metadata": {
    "execution": {
     "iopub.execute_input": "2021-08-04T06:26:06.625715Z",
     "iopub.status.busy": "2021-08-04T06:26:06.625139Z",
     "iopub.status.idle": "2021-08-04T06:26:06.627179Z",
     "shell.execute_reply": "2021-08-04T06:26:06.626830Z"
    }
   },
   "outputs": [
    {
     "data": {
      "text/plain": [
       "ERROR:Couldn't resolve reference to Element 'QuantityTest'\n"
      ]
     },
     "execution_count": 14,
     "metadata": {},
     "output_type": "execute_result"
    }
   ],
   "source": [
    "%viz --style=\"POLYLINE\" --view=\"Sequence\" \"QuantityTest\""
   ]
  },
  {
   "cell_type": "code",
   "execution_count": 15,
   "id": "7fbd51b9",
   "metadata": {
    "execution": {
     "iopub.execute_input": "2021-08-04T06:26:06.677385Z",
     "iopub.status.busy": "2021-08-04T06:26:06.676819Z",
     "iopub.status.idle": "2021-08-04T06:26:06.678806Z",
     "shell.execute_reply": "2021-08-04T06:26:06.678458Z"
    }
   },
   "outputs": [
    {
     "data": {
      "text/plain": [
       "ERROR:Couldn't resolve reference to Element 'QuantityTest'\n"
      ]
     },
     "execution_count": 15,
     "metadata": {},
     "output_type": "execute_result"
    }
   ],
   "source": [
    "%viz --style=\"POLYLINE\" --view=\"MIXED\" \"QuantityTest\""
   ]
  },
  {
   "cell_type": "code",
   "execution_count": 16,
   "id": "73dee9ed",
   "metadata": {
    "execution": {
     "iopub.execute_input": "2021-08-04T06:26:06.729250Z",
     "iopub.status.busy": "2021-08-04T06:26:06.728679Z",
     "iopub.status.idle": "2021-08-04T06:26:06.730678Z",
     "shell.execute_reply": "2021-08-04T06:26:06.730337Z"
    }
   },
   "outputs": [
    {
     "data": {
      "text/plain": [
       "ERROR:Couldn't resolve reference to Element 'QuantityTest'\n"
      ]
     },
     "execution_count": 16,
     "metadata": {},
     "output_type": "execute_result"
    }
   ],
   "source": [
    "%viz --style=\"LR\" --view=\"Default\" \"QuantityTest\""
   ]
  },
  {
   "cell_type": "code",
   "execution_count": 17,
   "id": "f8a01436",
   "metadata": {
    "execution": {
     "iopub.execute_input": "2021-08-04T06:26:06.780795Z",
     "iopub.status.busy": "2021-08-04T06:26:06.780319Z",
     "iopub.status.idle": "2021-08-04T06:26:06.782329Z",
     "shell.execute_reply": "2021-08-04T06:26:06.781994Z"
    }
   },
   "outputs": [
    {
     "data": {
      "text/plain": [
       "ERROR:Couldn't resolve reference to Element 'QuantityTest'\n"
      ]
     },
     "execution_count": 17,
     "metadata": {},
     "output_type": "execute_result"
    }
   ],
   "source": [
    "%viz --style=\"LR\" --view=\"Tree\" \"QuantityTest\""
   ]
  },
  {
   "cell_type": "code",
   "execution_count": 18,
   "id": "fb2de173",
   "metadata": {
    "execution": {
     "iopub.execute_input": "2021-08-04T06:26:06.832503Z",
     "iopub.status.busy": "2021-08-04T06:26:06.832050Z",
     "iopub.status.idle": "2021-08-04T06:26:06.834259Z",
     "shell.execute_reply": "2021-08-04T06:26:06.834573Z"
    }
   },
   "outputs": [
    {
     "data": {
      "text/plain": [
       "ERROR:Couldn't resolve reference to Element 'QuantityTest'\n"
      ]
     },
     "execution_count": 18,
     "metadata": {},
     "output_type": "execute_result"
    }
   ],
   "source": [
    "%viz --style=\"LR\" --view=\"State\" \"QuantityTest\""
   ]
  },
  {
   "cell_type": "code",
   "execution_count": 19,
   "id": "fe371ac3",
   "metadata": {
    "execution": {
     "iopub.execute_input": "2021-08-04T06:26:06.884853Z",
     "iopub.status.busy": "2021-08-04T06:26:06.884279Z",
     "iopub.status.idle": "2021-08-04T06:26:06.886276Z",
     "shell.execute_reply": "2021-08-04T06:26:06.885932Z"
    }
   },
   "outputs": [
    {
     "data": {
      "text/plain": [
       "ERROR:Couldn't resolve reference to Element 'QuantityTest'\n"
      ]
     },
     "execution_count": 19,
     "metadata": {},
     "output_type": "execute_result"
    }
   ],
   "source": [
    "%viz --style=\"LR\" --view=\"Interconnection\" \"QuantityTest\""
   ]
  },
  {
   "cell_type": "code",
   "execution_count": 20,
   "id": "d594841c",
   "metadata": {
    "execution": {
     "iopub.execute_input": "2021-08-04T06:26:06.936365Z",
     "iopub.status.busy": "2021-08-04T06:26:06.935797Z",
     "iopub.status.idle": "2021-08-04T06:26:06.937782Z",
     "shell.execute_reply": "2021-08-04T06:26:06.937440Z"
    }
   },
   "outputs": [
    {
     "data": {
      "text/plain": [
       "ERROR:Couldn't resolve reference to Element 'QuantityTest'\n"
      ]
     },
     "execution_count": 20,
     "metadata": {},
     "output_type": "execute_result"
    }
   ],
   "source": [
    "%viz --style=\"LR\" --view=\"Action\" \"QuantityTest\""
   ]
  },
  {
   "cell_type": "code",
   "execution_count": 21,
   "id": "a86fa13b",
   "metadata": {
    "execution": {
     "iopub.execute_input": "2021-08-04T06:26:06.987818Z",
     "iopub.status.busy": "2021-08-04T06:26:06.987264Z",
     "iopub.status.idle": "2021-08-04T06:26:06.989225Z",
     "shell.execute_reply": "2021-08-04T06:26:06.988882Z"
    }
   },
   "outputs": [
    {
     "data": {
      "text/plain": [
       "ERROR:Couldn't resolve reference to Element 'QuantityTest'\n"
      ]
     },
     "execution_count": 21,
     "metadata": {},
     "output_type": "execute_result"
    }
   ],
   "source": [
    "%viz --style=\"LR\" --view=\"Sequence\" \"QuantityTest\""
   ]
  },
  {
   "cell_type": "code",
   "execution_count": 22,
   "id": "c8341ab8",
   "metadata": {
    "execution": {
     "iopub.execute_input": "2021-08-04T06:26:07.039253Z",
     "iopub.status.busy": "2021-08-04T06:26:07.038709Z",
     "iopub.status.idle": "2021-08-04T06:26:07.040674Z",
     "shell.execute_reply": "2021-08-04T06:26:07.040317Z"
    }
   },
   "outputs": [
    {
     "data": {
      "text/plain": [
       "ERROR:Couldn't resolve reference to Element 'QuantityTest'\n"
      ]
     },
     "execution_count": 22,
     "metadata": {},
     "output_type": "execute_result"
    }
   ],
   "source": [
    "%viz --style=\"LR\" --view=\"MIXED\" \"QuantityTest\""
   ]
  },
  {
   "cell_type": "code",
   "execution_count": 23,
   "id": "9ca0a689",
   "metadata": {
    "execution": {
     "iopub.execute_input": "2021-08-04T06:26:07.090768Z",
     "iopub.status.busy": "2021-08-04T06:26:07.090225Z",
     "iopub.status.idle": "2021-08-04T06:26:07.092178Z",
     "shell.execute_reply": "2021-08-04T06:26:07.091836Z"
    }
   },
   "outputs": [
    {
     "data": {
      "text/plain": [
       "ERROR:Couldn't resolve reference to Element 'QuantityTest'\n"
      ]
     },
     "execution_count": 23,
     "metadata": {},
     "output_type": "execute_result"
    }
   ],
   "source": [
    "%viz --style=\"STDCOLOR\" --view=\"Default\" \"QuantityTest\""
   ]
  },
  {
   "cell_type": "code",
   "execution_count": 24,
   "id": "ed9fa699",
   "metadata": {
    "execution": {
     "iopub.execute_input": "2021-08-04T06:26:07.142316Z",
     "iopub.status.busy": "2021-08-04T06:26:07.141768Z",
     "iopub.status.idle": "2021-08-04T06:26:07.143713Z",
     "shell.execute_reply": "2021-08-04T06:26:07.143370Z"
    }
   },
   "outputs": [
    {
     "data": {
      "text/plain": [
       "ERROR:Couldn't resolve reference to Element 'QuantityTest'\n"
      ]
     },
     "execution_count": 24,
     "metadata": {},
     "output_type": "execute_result"
    }
   ],
   "source": [
    "%viz --style=\"STDCOLOR\" --view=\"Tree\" \"QuantityTest\""
   ]
  },
  {
   "cell_type": "code",
   "execution_count": 25,
   "id": "1702cd80",
   "metadata": {
    "execution": {
     "iopub.execute_input": "2021-08-04T06:26:07.193500Z",
     "iopub.status.busy": "2021-08-04T06:26:07.192961Z",
     "iopub.status.idle": "2021-08-04T06:26:07.194886Z",
     "shell.execute_reply": "2021-08-04T06:26:07.194546Z"
    }
   },
   "outputs": [
    {
     "data": {
      "text/plain": [
       "ERROR:Couldn't resolve reference to Element 'QuantityTest'\n"
      ]
     },
     "execution_count": 25,
     "metadata": {},
     "output_type": "execute_result"
    }
   ],
   "source": [
    "%viz --style=\"STDCOLOR\" --view=\"State\" \"QuantityTest\""
   ]
  },
  {
   "cell_type": "code",
   "execution_count": 26,
   "id": "69f51dd0",
   "metadata": {
    "execution": {
     "iopub.execute_input": "2021-08-04T06:26:07.244772Z",
     "iopub.status.busy": "2021-08-04T06:26:07.244231Z",
     "iopub.status.idle": "2021-08-04T06:26:07.246156Z",
     "shell.execute_reply": "2021-08-04T06:26:07.245817Z"
    }
   },
   "outputs": [
    {
     "data": {
      "text/plain": [
       "ERROR:Couldn't resolve reference to Element 'QuantityTest'\n"
      ]
     },
     "execution_count": 26,
     "metadata": {},
     "output_type": "execute_result"
    }
   ],
   "source": [
    "%viz --style=\"STDCOLOR\" --view=\"Interconnection\" \"QuantityTest\""
   ]
  },
  {
   "cell_type": "code",
   "execution_count": 27,
   "id": "63bb7e44",
   "metadata": {
    "execution": {
     "iopub.execute_input": "2021-08-04T06:26:07.295994Z",
     "iopub.status.busy": "2021-08-04T06:26:07.295473Z",
     "iopub.status.idle": "2021-08-04T06:26:07.297392Z",
     "shell.execute_reply": "2021-08-04T06:26:07.297053Z"
    }
   },
   "outputs": [
    {
     "data": {
      "text/plain": [
       "ERROR:Couldn't resolve reference to Element 'QuantityTest'\n"
      ]
     },
     "execution_count": 27,
     "metadata": {},
     "output_type": "execute_result"
    }
   ],
   "source": [
    "%viz --style=\"STDCOLOR\" --view=\"Action\" \"QuantityTest\""
   ]
  },
  {
   "cell_type": "code",
   "execution_count": 28,
   "id": "4f4fe546",
   "metadata": {
    "execution": {
     "iopub.execute_input": "2021-08-04T06:26:07.347389Z",
     "iopub.status.busy": "2021-08-04T06:26:07.346906Z",
     "iopub.status.idle": "2021-08-04T06:26:07.348811Z",
     "shell.execute_reply": "2021-08-04T06:26:07.347758Z"
    }
   },
   "outputs": [
    {
     "data": {
      "text/plain": [
       "ERROR:Couldn't resolve reference to Element 'QuantityTest'\n"
      ]
     },
     "execution_count": 28,
     "metadata": {},
     "output_type": "execute_result"
    }
   ],
   "source": [
    "%viz --style=\"STDCOLOR\" --view=\"Sequence\" \"QuantityTest\""
   ]
  },
  {
   "cell_type": "code",
   "execution_count": 29,
   "id": "ebac2cfb",
   "metadata": {
    "execution": {
     "iopub.execute_input": "2021-08-04T06:26:07.398352Z",
     "iopub.status.busy": "2021-08-04T06:26:07.397953Z",
     "iopub.status.idle": "2021-08-04T06:26:07.399750Z",
     "shell.execute_reply": "2021-08-04T06:26:07.399404Z"
    }
   },
   "outputs": [
    {
     "data": {
      "text/plain": [
       "ERROR:Couldn't resolve reference to Element 'QuantityTest'\n"
      ]
     },
     "execution_count": 29,
     "metadata": {},
     "output_type": "execute_result"
    }
   ],
   "source": [
    "%viz --style=\"STDCOLOR\" --view=\"MIXED\" \"QuantityTest\""
   ]
  },
  {
   "cell_type": "code",
   "execution_count": 30,
   "id": "c7428bc5",
   "metadata": {
    "execution": {
     "iopub.execute_input": "2021-08-04T06:26:07.449569Z",
     "iopub.status.busy": "2021-08-04T06:26:07.449181Z",
     "iopub.status.idle": "2021-08-04T06:26:07.450952Z",
     "shell.execute_reply": "2021-08-04T06:26:07.450607Z"
    }
   },
   "outputs": [
    {
     "data": {
      "text/plain": [
       "ERROR:Couldn't resolve reference to Element 'QuantityTest'\n"
      ]
     },
     "execution_count": 30,
     "metadata": {},
     "output_type": "execute_result"
    }
   ],
   "source": [
    "%viz --style=\"PLANTUML\" --view=\"Default\" \"QuantityTest\""
   ]
  },
  {
   "cell_type": "code",
   "execution_count": 31,
   "id": "1375ade0",
   "metadata": {
    "execution": {
     "iopub.execute_input": "2021-08-04T06:26:07.500920Z",
     "iopub.status.busy": "2021-08-04T06:26:07.500494Z",
     "iopub.status.idle": "2021-08-04T06:26:07.502300Z",
     "shell.execute_reply": "2021-08-04T06:26:07.501958Z"
    }
   },
   "outputs": [
    {
     "data": {
      "text/plain": [
       "ERROR:Couldn't resolve reference to Element 'QuantityTest'\n"
      ]
     },
     "execution_count": 31,
     "metadata": {},
     "output_type": "execute_result"
    }
   ],
   "source": [
    "%viz --style=\"PLANTUML\" --view=\"Tree\" \"QuantityTest\""
   ]
  },
  {
   "cell_type": "code",
   "execution_count": 32,
   "id": "49062b8f",
   "metadata": {
    "execution": {
     "iopub.execute_input": "2021-08-04T06:26:07.552558Z",
     "iopub.status.busy": "2021-08-04T06:26:07.551947Z",
     "iopub.status.idle": "2021-08-04T06:26:07.553929Z",
     "shell.execute_reply": "2021-08-04T06:26:07.552966Z"
    }
   },
   "outputs": [
    {
     "data": {
      "text/plain": [
       "ERROR:Couldn't resolve reference to Element 'QuantityTest'\n"
      ]
     },
     "execution_count": 32,
     "metadata": {},
     "output_type": "execute_result"
    }
   ],
   "source": [
    "%viz --style=\"PLANTUML\" --view=\"State\" \"QuantityTest\""
   ]
  },
  {
   "cell_type": "code",
   "execution_count": 33,
   "id": "1c4377f0",
   "metadata": {
    "execution": {
     "iopub.execute_input": "2021-08-04T06:26:07.603637Z",
     "iopub.status.busy": "2021-08-04T06:26:07.603158Z",
     "iopub.status.idle": "2021-08-04T06:26:07.605187Z",
     "shell.execute_reply": "2021-08-04T06:26:07.604841Z"
    }
   },
   "outputs": [
    {
     "data": {
      "text/plain": [
       "ERROR:Couldn't resolve reference to Element 'QuantityTest'\n"
      ]
     },
     "execution_count": 33,
     "metadata": {},
     "output_type": "execute_result"
    }
   ],
   "source": [
    "%viz --style=\"PLANTUML\" --view=\"Interconnection\" \"QuantityTest\""
   ]
  },
  {
   "cell_type": "code",
   "execution_count": 34,
   "id": "443f5adb",
   "metadata": {
    "execution": {
     "iopub.execute_input": "2021-08-04T06:26:07.655209Z",
     "iopub.status.busy": "2021-08-04T06:26:07.654757Z",
     "iopub.status.idle": "2021-08-04T06:26:07.656593Z",
     "shell.execute_reply": "2021-08-04T06:26:07.656251Z"
    }
   },
   "outputs": [
    {
     "data": {
      "text/plain": [
       "ERROR:Couldn't resolve reference to Element 'QuantityTest'\n"
      ]
     },
     "execution_count": 34,
     "metadata": {},
     "output_type": "execute_result"
    }
   ],
   "source": [
    "%viz --style=\"PLANTUML\" --view=\"Action\" \"QuantityTest\""
   ]
  },
  {
   "cell_type": "code",
   "execution_count": 35,
   "id": "aa0343cd",
   "metadata": {
    "execution": {
     "iopub.execute_input": "2021-08-04T06:26:07.706488Z",
     "iopub.status.busy": "2021-08-04T06:26:07.706069Z",
     "iopub.status.idle": "2021-08-04T06:26:07.707874Z",
     "shell.execute_reply": "2021-08-04T06:26:07.707529Z"
    }
   },
   "outputs": [
    {
     "data": {
      "text/plain": [
       "ERROR:Couldn't resolve reference to Element 'QuantityTest'\n"
      ]
     },
     "execution_count": 35,
     "metadata": {},
     "output_type": "execute_result"
    }
   ],
   "source": [
    "%viz --style=\"PLANTUML\" --view=\"Sequence\" \"QuantityTest\""
   ]
  },
  {
   "cell_type": "code",
   "execution_count": 36,
   "id": "1abc4bbf",
   "metadata": {
    "execution": {
     "iopub.execute_input": "2021-08-04T06:26:07.757720Z",
     "iopub.status.busy": "2021-08-04T06:26:07.757304Z",
     "iopub.status.idle": "2021-08-04T06:26:07.759421Z",
     "shell.execute_reply": "2021-08-04T06:26:07.759073Z"
    }
   },
   "outputs": [
    {
     "data": {
      "text/plain": [
       "ERROR:Couldn't resolve reference to Element 'QuantityTest'\n"
      ]
     },
     "execution_count": 36,
     "metadata": {},
     "output_type": "execute_result"
    }
   ],
   "source": [
    "%viz --style=\"PLANTUML\" --view=\"MIXED\" \"QuantityTest\""
   ]
  },
  {
   "cell_type": "code",
   "execution_count": 37,
   "id": "4dfb52ea",
   "metadata": {
    "execution": {
     "iopub.execute_input": "2021-08-04T06:26:07.808833Z",
     "iopub.status.busy": "2021-08-04T06:26:07.808404Z",
     "iopub.status.idle": "2021-08-04T06:26:07.810209Z",
     "shell.execute_reply": "2021-08-04T06:26:07.809866Z"
    }
   },
   "outputs": [
    {
     "data": {
      "text/plain": [
       "ERROR:Couldn't resolve reference to Element 'QuantityTest'\n"
      ]
     },
     "execution_count": 37,
     "metadata": {},
     "output_type": "execute_result"
    }
   ],
   "source": [
    "%viz --style=\"DEFAULT\" --view=\"Default\" \"QuantityTest\""
   ]
  },
  {
   "cell_type": "code",
   "execution_count": 38,
   "id": "0aba46e0",
   "metadata": {
    "execution": {
     "iopub.execute_input": "2021-08-04T06:26:07.860420Z",
     "iopub.status.busy": "2021-08-04T06:26:07.859791Z",
     "iopub.status.idle": "2021-08-04T06:26:07.861800Z",
     "shell.execute_reply": "2021-08-04T06:26:07.860832Z"
    }
   },
   "outputs": [
    {
     "data": {
      "text/plain": [
       "ERROR:Couldn't resolve reference to Element 'QuantityTest'\n"
      ]
     },
     "execution_count": 38,
     "metadata": {},
     "output_type": "execute_result"
    }
   ],
   "source": [
    "%viz --style=\"DEFAULT\" --view=\"Tree\" \"QuantityTest\""
   ]
  },
  {
   "cell_type": "code",
   "execution_count": 39,
   "id": "4777de3b",
   "metadata": {
    "execution": {
     "iopub.execute_input": "2021-08-04T06:26:07.911225Z",
     "iopub.status.busy": "2021-08-04T06:26:07.910825Z",
     "iopub.status.idle": "2021-08-04T06:26:07.912607Z",
     "shell.execute_reply": "2021-08-04T06:26:07.912265Z"
    }
   },
   "outputs": [
    {
     "data": {
      "text/plain": [
       "ERROR:Couldn't resolve reference to Element 'QuantityTest'\n"
      ]
     },
     "execution_count": 39,
     "metadata": {},
     "output_type": "execute_result"
    }
   ],
   "source": [
    "%viz --style=\"DEFAULT\" --view=\"State\" \"QuantityTest\""
   ]
  },
  {
   "cell_type": "code",
   "execution_count": 40,
   "id": "cb78aece",
   "metadata": {
    "execution": {
     "iopub.execute_input": "2021-08-04T06:26:07.962775Z",
     "iopub.status.busy": "2021-08-04T06:26:07.962120Z",
     "iopub.status.idle": "2021-08-04T06:26:07.964152Z",
     "shell.execute_reply": "2021-08-04T06:26:07.963190Z"
    }
   },
   "outputs": [
    {
     "data": {
      "text/plain": [
       "ERROR:Couldn't resolve reference to Element 'QuantityTest'\n"
      ]
     },
     "execution_count": 40,
     "metadata": {},
     "output_type": "execute_result"
    }
   ],
   "source": [
    "%viz --style=\"DEFAULT\" --view=\"Interconnection\" \"QuantityTest\""
   ]
  },
  {
   "cell_type": "code",
   "execution_count": 41,
   "id": "dc9e39ca",
   "metadata": {
    "execution": {
     "iopub.execute_input": "2021-08-04T06:26:08.013666Z",
     "iopub.status.busy": "2021-08-04T06:26:08.013139Z",
     "iopub.status.idle": "2021-08-04T06:26:08.015128Z",
     "shell.execute_reply": "2021-08-04T06:26:08.014786Z"
    }
   },
   "outputs": [
    {
     "data": {
      "text/plain": [
       "ERROR:Couldn't resolve reference to Element 'QuantityTest'\n"
      ]
     },
     "execution_count": 41,
     "metadata": {},
     "output_type": "execute_result"
    }
   ],
   "source": [
    "%viz --style=\"DEFAULT\" --view=\"Action\" \"QuantityTest\""
   ]
  },
  {
   "cell_type": "code",
   "execution_count": 42,
   "id": "8cbba812",
   "metadata": {
    "execution": {
     "iopub.execute_input": "2021-08-04T06:26:08.065145Z",
     "iopub.status.busy": "2021-08-04T06:26:08.064499Z",
     "iopub.status.idle": "2021-08-04T06:26:08.066635Z",
     "shell.execute_reply": "2021-08-04T06:26:08.065650Z"
    }
   },
   "outputs": [
    {
     "data": {
      "text/plain": [
       "ERROR:Couldn't resolve reference to Element 'QuantityTest'\n"
      ]
     },
     "execution_count": 42,
     "metadata": {},
     "output_type": "execute_result"
    }
   ],
   "source": [
    "%viz --style=\"DEFAULT\" --view=\"Sequence\" \"QuantityTest\""
   ]
  },
  {
   "cell_type": "code",
   "execution_count": 43,
   "id": "9e7aa650",
   "metadata": {
    "execution": {
     "iopub.execute_input": "2021-08-04T06:26:08.116114Z",
     "iopub.status.busy": "2021-08-04T06:26:08.115504Z",
     "iopub.status.idle": "2021-08-04T06:26:08.117738Z",
     "shell.execute_reply": "2021-08-04T06:26:08.116665Z"
    }
   },
   "outputs": [
    {
     "data": {
      "text/plain": [
       "ERROR:Couldn't resolve reference to Element 'QuantityTest'\n"
      ]
     },
     "execution_count": 43,
     "metadata": {},
     "output_type": "execute_result"
    }
   ],
   "source": [
    "%viz --style=\"DEFAULT\" --view=\"MIXED\" \"QuantityTest\""
   ]
  },
  {
   "cell_type": "code",
   "execution_count": 44,
   "id": "2a194041",
   "metadata": {
    "execution": {
     "iopub.execute_input": "2021-08-04T06:26:08.167028Z",
     "iopub.status.busy": "2021-08-04T06:26:08.166515Z",
     "iopub.status.idle": "2021-08-04T06:26:08.168513Z",
     "shell.execute_reply": "2021-08-04T06:26:08.168171Z"
    }
   },
   "outputs": [
    {
     "data": {
      "text/plain": [
       "ERROR:Couldn't resolve reference to Element 'QuantityTest'\n"
      ]
     },
     "execution_count": 44,
     "metadata": {},
     "output_type": "execute_result"
    }
   ],
   "source": [
    "%viz --style=\"TB\" --view=\"Default\" \"QuantityTest\""
   ]
  },
  {
   "cell_type": "code",
   "execution_count": 45,
   "id": "d0fd97e0",
   "metadata": {
    "execution": {
     "iopub.execute_input": "2021-08-04T06:26:08.218191Z",
     "iopub.status.busy": "2021-08-04T06:26:08.217656Z",
     "iopub.status.idle": "2021-08-04T06:26:08.219536Z",
     "shell.execute_reply": "2021-08-04T06:26:08.218597Z"
    }
   },
   "outputs": [
    {
     "data": {
      "text/plain": [
       "ERROR:Couldn't resolve reference to Element 'QuantityTest'\n"
      ]
     },
     "execution_count": 45,
     "metadata": {},
     "output_type": "execute_result"
    }
   ],
   "source": [
    "%viz --style=\"TB\" --view=\"Tree\" \"QuantityTest\""
   ]
  },
  {
   "cell_type": "code",
   "execution_count": 46,
   "id": "7fd44f46",
   "metadata": {
    "execution": {
     "iopub.execute_input": "2021-08-04T06:26:08.269100Z",
     "iopub.status.busy": "2021-08-04T06:26:08.268690Z",
     "iopub.status.idle": "2021-08-04T06:26:08.270453Z",
     "shell.execute_reply": "2021-08-04T06:26:08.270086Z"
    }
   },
   "outputs": [
    {
     "data": {
      "text/plain": [
       "ERROR:Couldn't resolve reference to Element 'QuantityTest'\n"
      ]
     },
     "execution_count": 46,
     "metadata": {},
     "output_type": "execute_result"
    }
   ],
   "source": [
    "%viz --style=\"TB\" --view=\"State\" \"QuantityTest\""
   ]
  },
  {
   "cell_type": "code",
   "execution_count": 47,
   "id": "63ebfa6a",
   "metadata": {
    "execution": {
     "iopub.execute_input": "2021-08-04T06:26:08.320477Z",
     "iopub.status.busy": "2021-08-04T06:26:08.319898Z",
     "iopub.status.idle": "2021-08-04T06:26:08.321819Z",
     "shell.execute_reply": "2021-08-04T06:26:08.320865Z"
    }
   },
   "outputs": [
    {
     "data": {
      "text/plain": [
       "ERROR:Couldn't resolve reference to Element 'QuantityTest'\n"
      ]
     },
     "execution_count": 47,
     "metadata": {},
     "output_type": "execute_result"
    }
   ],
   "source": [
    "%viz --style=\"TB\" --view=\"Interconnection\" \"QuantityTest\""
   ]
  },
  {
   "cell_type": "code",
   "execution_count": 48,
   "id": "084377ed",
   "metadata": {
    "execution": {
     "iopub.execute_input": "2021-08-04T06:26:08.371749Z",
     "iopub.status.busy": "2021-08-04T06:26:08.371109Z",
     "iopub.status.idle": "2021-08-04T06:26:08.373131Z",
     "shell.execute_reply": "2021-08-04T06:26:08.372159Z"
    }
   },
   "outputs": [
    {
     "data": {
      "text/plain": [
       "ERROR:Couldn't resolve reference to Element 'QuantityTest'\n"
      ]
     },
     "execution_count": 48,
     "metadata": {},
     "output_type": "execute_result"
    }
   ],
   "source": [
    "%viz --style=\"TB\" --view=\"Action\" \"QuantityTest\""
   ]
  },
  {
   "cell_type": "code",
   "execution_count": 49,
   "id": "59319331",
   "metadata": {
    "execution": {
     "iopub.execute_input": "2021-08-04T06:26:08.422926Z",
     "iopub.status.busy": "2021-08-04T06:26:08.422465Z",
     "iopub.status.idle": "2021-08-04T06:26:08.424232Z",
     "shell.execute_reply": "2021-08-04T06:26:08.423287Z"
    }
   },
   "outputs": [
    {
     "data": {
      "text/plain": [
       "ERROR:Couldn't resolve reference to Element 'QuantityTest'\n"
      ]
     },
     "execution_count": 49,
     "metadata": {},
     "output_type": "execute_result"
    }
   ],
   "source": [
    "%viz --style=\"TB\" --view=\"Sequence\" \"QuantityTest\""
   ]
  },
  {
   "cell_type": "code",
   "execution_count": 50,
   "id": "2c5200eb",
   "metadata": {
    "execution": {
     "iopub.execute_input": "2021-08-04T06:26:08.473898Z",
     "iopub.status.busy": "2021-08-04T06:26:08.473439Z",
     "iopub.status.idle": "2021-08-04T06:26:08.475211Z",
     "shell.execute_reply": "2021-08-04T06:26:08.474259Z"
    }
   },
   "outputs": [
    {
     "data": {
      "text/plain": [
       "ERROR:Couldn't resolve reference to Element 'QuantityTest'\n"
      ]
     },
     "execution_count": 50,
     "metadata": {},
     "output_type": "execute_result"
    }
   ],
   "source": [
    "%viz --style=\"TB\" --view=\"MIXED\" \"QuantityTest\""
   ]
  },
  {
   "cell_type": "code",
   "execution_count": 51,
   "id": "449005fe",
   "metadata": {
    "execution": {
     "iopub.execute_input": "2021-08-04T06:26:08.524857Z",
     "iopub.status.busy": "2021-08-04T06:26:08.524393Z",
     "iopub.status.idle": "2021-08-04T06:26:08.526158Z",
     "shell.execute_reply": "2021-08-04T06:26:08.525216Z"
    }
   },
   "outputs": [
    {
     "data": {
      "text/plain": [
       "ERROR:Couldn't resolve reference to Element 'QuantityTest'\n"
      ]
     },
     "execution_count": 51,
     "metadata": {},
     "output_type": "execute_result"
    }
   ],
   "source": [
    "%viz --style=\"ORTHOLINE\" --view=\"Default\" \"QuantityTest\""
   ]
  },
  {
   "cell_type": "code",
   "execution_count": 52,
   "id": "98ec4d35",
   "metadata": {
    "execution": {
     "iopub.execute_input": "2021-08-04T06:26:08.575825Z",
     "iopub.status.busy": "2021-08-04T06:26:08.575374Z",
     "iopub.status.idle": "2021-08-04T06:26:08.577141Z",
     "shell.execute_reply": "2021-08-04T06:26:08.576183Z"
    }
   },
   "outputs": [
    {
     "data": {
      "text/plain": [
       "ERROR:Couldn't resolve reference to Element 'QuantityTest'\n"
      ]
     },
     "execution_count": 52,
     "metadata": {},
     "output_type": "execute_result"
    }
   ],
   "source": [
    "%viz --style=\"ORTHOLINE\" --view=\"Tree\" \"QuantityTest\""
   ]
  },
  {
   "cell_type": "code",
   "execution_count": 53,
   "id": "2785dbf6",
   "metadata": {
    "execution": {
     "iopub.execute_input": "2021-08-04T06:26:08.626994Z",
     "iopub.status.busy": "2021-08-04T06:26:08.626395Z",
     "iopub.status.idle": "2021-08-04T06:26:08.628321Z",
     "shell.execute_reply": "2021-08-04T06:26:08.627366Z"
    }
   },
   "outputs": [
    {
     "data": {
      "text/plain": [
       "ERROR:Couldn't resolve reference to Element 'QuantityTest'\n"
      ]
     },
     "execution_count": 53,
     "metadata": {},
     "output_type": "execute_result"
    }
   ],
   "source": [
    "%viz --style=\"ORTHOLINE\" --view=\"State\" \"QuantityTest\""
   ]
  },
  {
   "cell_type": "code",
   "execution_count": 54,
   "id": "44cc1475",
   "metadata": {
    "execution": {
     "iopub.execute_input": "2021-08-04T06:26:08.677685Z",
     "iopub.status.busy": "2021-08-04T06:26:08.677152Z",
     "iopub.status.idle": "2021-08-04T06:26:08.679319Z",
     "shell.execute_reply": "2021-08-04T06:26:08.678088Z"
    }
   },
   "outputs": [
    {
     "data": {
      "text/plain": [
       "ERROR:Couldn't resolve reference to Element 'QuantityTest'\n"
      ]
     },
     "execution_count": 54,
     "metadata": {},
     "output_type": "execute_result"
    }
   ],
   "source": [
    "%viz --style=\"ORTHOLINE\" --view=\"Interconnection\" \"QuantityTest\""
   ]
  },
  {
   "cell_type": "code",
   "execution_count": 55,
   "id": "7c6e35a1",
   "metadata": {
    "execution": {
     "iopub.execute_input": "2021-08-04T06:26:08.728584Z",
     "iopub.status.busy": "2021-08-04T06:26:08.728133Z",
     "iopub.status.idle": "2021-08-04T06:26:08.729919Z",
     "shell.execute_reply": "2021-08-04T06:26:08.728965Z"
    }
   },
   "outputs": [
    {
     "data": {
      "text/plain": [
       "ERROR:Couldn't resolve reference to Element 'QuantityTest'\n"
      ]
     },
     "execution_count": 55,
     "metadata": {},
     "output_type": "execute_result"
    }
   ],
   "source": [
    "%viz --style=\"ORTHOLINE\" --view=\"Action\" \"QuantityTest\""
   ]
  },
  {
   "cell_type": "code",
   "execution_count": 56,
   "id": "0baa3b48",
   "metadata": {
    "execution": {
     "iopub.execute_input": "2021-08-04T06:26:08.779466Z",
     "iopub.status.busy": "2021-08-04T06:26:08.779015Z",
     "iopub.status.idle": "2021-08-04T06:26:08.780797Z",
     "shell.execute_reply": "2021-08-04T06:26:08.779830Z"
    }
   },
   "outputs": [
    {
     "data": {
      "text/plain": [
       "ERROR:Couldn't resolve reference to Element 'QuantityTest'\n"
      ]
     },
     "execution_count": 56,
     "metadata": {},
     "output_type": "execute_result"
    }
   ],
   "source": [
    "%viz --style=\"ORTHOLINE\" --view=\"Sequence\" \"QuantityTest\""
   ]
  },
  {
   "cell_type": "code",
   "execution_count": 57,
   "id": "432022f7",
   "metadata": {
    "execution": {
     "iopub.execute_input": "2021-08-04T06:26:08.830349Z",
     "iopub.status.busy": "2021-08-04T06:26:08.829898Z",
     "iopub.status.idle": "2021-08-04T06:26:08.831659Z",
     "shell.execute_reply": "2021-08-04T06:26:08.830712Z"
    }
   },
   "outputs": [
    {
     "data": {
      "text/plain": [
       "ERROR:Couldn't resolve reference to Element 'QuantityTest'\n"
      ]
     },
     "execution_count": 57,
     "metadata": {},
     "output_type": "execute_result"
    }
   ],
   "source": [
    "%viz --style=\"ORTHOLINE\" --view=\"MIXED\" \"QuantityTest\""
   ]
  }
 ],
 "metadata": {
  "kernelspec": {
   "display_name": "SysML",
   "language": "sysml",
   "name": "sysml"
  },
  "language_info": {
   "codemirror_mode": "sysml",
   "file_extension": ".sysml",
   "mimetype": "text/x-sysml",
   "name": "SysML",
   "pygments_lexer": "java",
   "version": "1.0.0"
  }
 },
 "nbformat": 4,
 "nbformat_minor": 5
}

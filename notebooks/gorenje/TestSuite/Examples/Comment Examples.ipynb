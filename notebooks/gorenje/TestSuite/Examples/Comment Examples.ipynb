{
 "cells": [
  {
   "cell_type": "markdown",
   "id": "1c6d237f",
   "metadata": {},
   "source": [
    "# SysML v2 Test Suite\n",
    "\n",
    "This can notebook can be cleared using menu `Edit --> Clear All Outputs` and then all cells can be\n",
    "run using menu `Run --> Run All Cells`.\n",
    "\n",
    "**WARNING**: This file is generated, all modifications here will be ignored.\n"
   ]
  },
  {
   "cell_type": "markdown",
   "id": "587ba17b",
   "metadata": {},
   "source": [
    "## Base Example Directory: ../../sysml/src/examples/Comment Examples"
   ]
  },
  {
   "cell_type": "markdown",
   "id": "202e044e",
   "metadata": {},
   "source": [
    "## File: Comments.sysml"
   ]
  },
  {
   "cell_type": "code",
   "execution_count": 1,
   "id": "d514eec2",
   "metadata": {
    "execution": {
     "iopub.execute_input": "2022-08-19T08:22:30.399721Z",
     "iopub.status.busy": "2022-08-19T08:22:30.398779Z",
     "iopub.status.idle": "2022-08-19T08:22:30.597830Z",
     "shell.execute_reply": "2022-08-19T08:22:30.596997Z"
    }
   },
   "outputs": [
    {
     "data": {
      "text/plain": [
       "Package Comments (a8970335-f8eb-438d-a77d-025c8f36e400)\n"
      ]
     },
     "execution_count": 1,
     "metadata": {},
     "output_type": "execute_result"
    }
   ],
   "source": [
    "package Comments {\n",
    "\tdoc /* Documentation Comment */\n",
    "\n",
    "\tdoc /* Documentation about Package */\n",
    "\n",
    "\tcomment cmt /* Named Comment */\t\n",
    "\tcomment cmt_cmt about cmt /* Comment about Comment */\n",
    "\t\n",
    "\tcomment about C /* Documention Comment on Part Def */\n",
    "\tpart def C {\n",
    "\t\tdoc /* Documentation in Part Def */\n",
    "\t\tcomment /* Comment in Part Def */\n",
    "\t\tcomment about Comments /* Comment about Package */\n",
    "\t}\n",
    "}"
   ]
  }
 ],
 "metadata": {
  "kernelspec": {
   "display_name": "SysML",
   "language": "sysml",
   "name": "sysml"
  },
  "language_info": {
   "codemirror_mode": "sysml",
   "file_extension": ".sysml",
   "mimetype": "text/x-sysml",
   "name": "SysML",
   "pygments_lexer": "java",
   "version": "1.0.0"
  }
 },
 "nbformat": 4,
 "nbformat_minor": 5
}

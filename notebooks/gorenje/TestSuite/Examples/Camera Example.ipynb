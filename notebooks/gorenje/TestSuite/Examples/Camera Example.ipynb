{
 "cells": [
  {
   "cell_type": "markdown",
   "id": "67ab23c0",
   "metadata": {},
   "source": [
    "# SysML v2 Test Suite\n",
    "\n",
    "This can notebook can be cleared using menu `Edit --> Clear All Outputs` and then all cells can be\n",
    "run using menu `Run --> Run All Cells`.\n",
    "\n",
    "**WARNING**: This file is generated, all modifications here will be ignored.\n"
   ]
  },
  {
   "cell_type": "markdown",
   "id": "4b26c7eb",
   "metadata": {},
   "source": [
    "## Base Example Directory: ../../sysml/src/examples/Camera Example"
   ]
  },
  {
   "cell_type": "markdown",
   "id": "a0a9bb1b",
   "metadata": {},
   "source": [
    "## File: PictureTaking.sysml"
   ]
  },
  {
   "cell_type": "code",
   "execution_count": 1,
   "id": "7eadb278",
   "metadata": {
    "execution": {
     "iopub.execute_input": "2022-08-19T08:23:59.074370Z",
     "iopub.status.busy": "2022-08-19T08:23:59.073225Z",
     "iopub.status.idle": "2022-08-19T08:23:59.961654Z",
     "shell.execute_reply": "2022-08-19T08:23:59.962195Z"
    }
   },
   "outputs": [
    {
     "data": {
      "text/plain": [
       "Package PictureTaking (207ee83f-13eb-449f-a6a8-de6bc443b741)\n"
      ]
     },
     "execution_count": 1,
     "metadata": {},
     "output_type": "execute_result"
    }
   ],
   "source": [
    "package PictureTaking {\n",
    "\tpart def Exposure;\n",
    "\t\n",
    "\taction def Focus { out xrsl: Exposure; }\n",
    "\taction def Shoot { in xsf: Exposure; }\t\n",
    "\t\t\n",
    "\taction takePicture {\t\t\n",
    "\t\taction focus: Focus[1];\n",
    "\t\tflow focus.xrsl to shoot.xsf;\n",
    "\t\taction shoot: Shoot[1];\n",
    "\t}\n",
    "}"
   ]
  },
  {
   "cell_type": "markdown",
   "id": "aa27b39f",
   "metadata": {},
   "source": [
    "## File: Camera.sysml"
   ]
  },
  {
   "cell_type": "code",
   "execution_count": 2,
   "id": "ddf4804a",
   "metadata": {
    "execution": {
     "iopub.execute_input": "2022-08-19T08:24:00.012434Z",
     "iopub.status.busy": "2022-08-19T08:24:00.012030Z",
     "iopub.status.idle": "2022-08-19T08:24:00.076518Z",
     "shell.execute_reply": "2022-08-19T08:24:00.076876Z"
    }
   },
   "outputs": [
    {
     "data": {
      "text/plain": [
       "PartDefinition Camera (d3e6ade4-7707-4741-8f76-b349593a6b5d)\n"
      ]
     },
     "execution_count": 2,
     "metadata": {},
     "output_type": "execute_result"
    }
   ],
   "source": [
    "part def Camera {\n",
    "\timport PictureTaking::*;\n",
    "\t\n",
    "\tperform action takePicture[*] :> PictureTaking::takePicture;\n",
    "\t\n",
    "\tpart focusingSubsystem {\n",
    "\t\tperform takePicture.focus;\n",
    "\t}\n",
    "\t\n",
    "\tpart imagingSubsystem {\n",
    "\t\tperform takePicture.shoot;\n",
    "\t}\n",
    "\t\n",
    "}"
   ]
  }
 ],
 "metadata": {
  "kernelspec": {
   "display_name": "SysML",
   "language": "sysml",
   "name": "sysml"
  },
  "language_info": {
   "codemirror_mode": "sysml",
   "file_extension": ".sysml",
   "mimetype": "text/x-sysml",
   "name": "SysML",
   "pygments_lexer": "java",
   "version": "1.0.0"
  }
 },
 "nbformat": 4,
 "nbformat_minor": 5
}

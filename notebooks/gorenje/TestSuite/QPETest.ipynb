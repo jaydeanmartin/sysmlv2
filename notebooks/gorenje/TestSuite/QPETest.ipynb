{
 "cells": [
  {
   "cell_type": "markdown",
   "id": "fd0fcec5",
   "metadata": {},
   "source": [
    "# SysML v2 Test Suite\n",
    "\n",
    "This can notebook can be cleared using menu `Edit --> Clear All Outputs` and then all cells can be\n",
    "run using menu `Run --> Run All Cells`.\n",
    "\n",
    "**WARNING**: This file is generated, all modifications here will be ignored.\n"
   ]
  },
  {
   "cell_type": "markdown",
   "id": "ce07c337",
   "metadata": {},
   "source": [
    "## File: ../../sysml/src/examples/Simple Tests/QPETest.sysml"
   ]
  },
  {
   "cell_type": "code",
   "execution_count": 1,
   "id": "6811bcf8",
   "metadata": {
    "execution": {
     "iopub.execute_input": "2021-08-04T06:27:46.141931Z",
     "iopub.status.busy": "2021-08-04T06:27:46.140938Z",
     "iopub.status.idle": "2021-08-04T06:27:46.433419Z",
     "shell.execute_reply": "2021-08-04T06:27:46.433035Z"
    }
   },
   "outputs": [
    {
     "name": "stderr",
     "output_type": "stream",
     "text": [
      "ERROR:For input string: \".\" (1.sysml line : 6 column : 14)\n"
     ]
    },
    {
     "data": {
      "text/plain": []
     },
     "execution_count": 1,
     "metadata": {},
     "output_type": "execute_result"
    }
   ],
   "source": [
    "package Q {\n",
    "  part f {\n",
    "  \tpart a;\n",
    "  }\n",
    "  part def C {\n",
    "    part g = ./f/a; \n",
    "  }\n",
    "}\n"
   ]
  },
  {
   "cell_type": "code",
   "execution_count": 2,
   "id": "86404ee6",
   "metadata": {
    "execution": {
     "iopub.execute_input": "2021-08-04T06:27:46.484753Z",
     "iopub.status.busy": "2021-08-04T06:27:46.484439Z",
     "iopub.status.idle": "2021-08-04T06:27:46.488564Z",
     "shell.execute_reply": "2021-08-04T06:27:46.488333Z"
    }
   },
   "outputs": [
    {
     "data": {
      "text/plain": [
       "ERROR:Couldn't resolve reference to Element 'Q'\n"
      ]
     },
     "execution_count": 2,
     "metadata": {},
     "output_type": "execute_result"
    }
   ],
   "source": [
    "%viz --style=\"COMPTREE\" --view=\"Default\" \"Q\""
   ]
  },
  {
   "cell_type": "code",
   "execution_count": 3,
   "id": "9ddbf9e9",
   "metadata": {
    "execution": {
     "iopub.execute_input": "2021-08-04T06:27:46.539619Z",
     "iopub.status.busy": "2021-08-04T06:27:46.539213Z",
     "iopub.status.idle": "2021-08-04T06:27:46.541209Z",
     "shell.execute_reply": "2021-08-04T06:27:46.540876Z"
    }
   },
   "outputs": [
    {
     "data": {
      "text/plain": [
       "ERROR:Couldn't resolve reference to Element 'Q'\n"
      ]
     },
     "execution_count": 3,
     "metadata": {},
     "output_type": "execute_result"
    }
   ],
   "source": [
    "%viz --style=\"COMPTREE\" --view=\"Tree\" \"Q\""
   ]
  },
  {
   "cell_type": "code",
   "execution_count": 4,
   "id": "81adb36c",
   "metadata": {
    "execution": {
     "iopub.execute_input": "2021-08-04T06:27:46.591777Z",
     "iopub.status.busy": "2021-08-04T06:27:46.591358Z",
     "iopub.status.idle": "2021-08-04T06:27:46.592925Z",
     "shell.execute_reply": "2021-08-04T06:27:46.593242Z"
    }
   },
   "outputs": [
    {
     "data": {
      "text/plain": [
       "ERROR:Couldn't resolve reference to Element 'Q'\n"
      ]
     },
     "execution_count": 4,
     "metadata": {},
     "output_type": "execute_result"
    }
   ],
   "source": [
    "%viz --style=\"COMPTREE\" --view=\"State\" \"Q\""
   ]
  },
  {
   "cell_type": "code",
   "execution_count": 5,
   "id": "9d3f203f",
   "metadata": {
    "execution": {
     "iopub.execute_input": "2021-08-04T06:27:46.643932Z",
     "iopub.status.busy": "2021-08-04T06:27:46.643535Z",
     "iopub.status.idle": "2021-08-04T06:27:46.645299Z",
     "shell.execute_reply": "2021-08-04T06:27:46.645611Z"
    }
   },
   "outputs": [
    {
     "data": {
      "text/plain": [
       "ERROR:Couldn't resolve reference to Element 'Q'\n"
      ]
     },
     "execution_count": 5,
     "metadata": {},
     "output_type": "execute_result"
    }
   ],
   "source": [
    "%viz --style=\"COMPTREE\" --view=\"Interconnection\" \"Q\""
   ]
  },
  {
   "cell_type": "code",
   "execution_count": 6,
   "id": "1bd669d5",
   "metadata": {
    "execution": {
     "iopub.execute_input": "2021-08-04T06:27:46.696603Z",
     "iopub.status.busy": "2021-08-04T06:27:46.696198Z",
     "iopub.status.idle": "2021-08-04T06:27:46.697792Z",
     "shell.execute_reply": "2021-08-04T06:27:46.698103Z"
    }
   },
   "outputs": [
    {
     "data": {
      "text/plain": [
       "ERROR:Couldn't resolve reference to Element 'Q'\n"
      ]
     },
     "execution_count": 6,
     "metadata": {},
     "output_type": "execute_result"
    }
   ],
   "source": [
    "%viz --style=\"COMPTREE\" --view=\"Action\" \"Q\""
   ]
  },
  {
   "cell_type": "code",
   "execution_count": 7,
   "id": "893b7c2e",
   "metadata": {
    "execution": {
     "iopub.execute_input": "2021-08-04T06:27:46.749169Z",
     "iopub.status.busy": "2021-08-04T06:27:46.748778Z",
     "iopub.status.idle": "2021-08-04T06:27:46.750321Z",
     "shell.execute_reply": "2021-08-04T06:27:46.750629Z"
    }
   },
   "outputs": [
    {
     "data": {
      "text/plain": [
       "ERROR:Couldn't resolve reference to Element 'Q'\n"
      ]
     },
     "execution_count": 7,
     "metadata": {},
     "output_type": "execute_result"
    }
   ],
   "source": [
    "%viz --style=\"COMPTREE\" --view=\"Sequence\" \"Q\""
   ]
  },
  {
   "cell_type": "code",
   "execution_count": 8,
   "id": "20fceb0c",
   "metadata": {
    "execution": {
     "iopub.execute_input": "2021-08-04T06:27:46.801384Z",
     "iopub.status.busy": "2021-08-04T06:27:46.800992Z",
     "iopub.status.idle": "2021-08-04T06:27:46.802624Z",
     "shell.execute_reply": "2021-08-04T06:27:46.802931Z"
    }
   },
   "outputs": [
    {
     "data": {
      "text/plain": [
       "ERROR:Couldn't resolve reference to Element 'Q'\n"
      ]
     },
     "execution_count": 8,
     "metadata": {},
     "output_type": "execute_result"
    }
   ],
   "source": [
    "%viz --style=\"COMPTREE\" --view=\"MIXED\" \"Q\""
   ]
  },
  {
   "cell_type": "code",
   "execution_count": 9,
   "id": "397f5006",
   "metadata": {
    "execution": {
     "iopub.execute_input": "2021-08-04T06:27:46.853739Z",
     "iopub.status.busy": "2021-08-04T06:27:46.853346Z",
     "iopub.status.idle": "2021-08-04T06:27:46.854833Z",
     "shell.execute_reply": "2021-08-04T06:27:46.855142Z"
    }
   },
   "outputs": [
    {
     "data": {
      "text/plain": [
       "ERROR:Couldn't resolve reference to Element 'Q'\n"
      ]
     },
     "execution_count": 9,
     "metadata": {},
     "output_type": "execute_result"
    }
   ],
   "source": [
    "%viz --style=\"POLYLINE\" --view=\"Default\" \"Q\""
   ]
  },
  {
   "cell_type": "code",
   "execution_count": 10,
   "id": "906915a6",
   "metadata": {
    "execution": {
     "iopub.execute_input": "2021-08-04T06:27:46.905719Z",
     "iopub.status.busy": "2021-08-04T06:27:46.905325Z",
     "iopub.status.idle": "2021-08-04T06:27:46.906842Z",
     "shell.execute_reply": "2021-08-04T06:27:46.907149Z"
    }
   },
   "outputs": [
    {
     "data": {
      "text/plain": [
       "ERROR:Couldn't resolve reference to Element 'Q'\n"
      ]
     },
     "execution_count": 10,
     "metadata": {},
     "output_type": "execute_result"
    }
   ],
   "source": [
    "%viz --style=\"POLYLINE\" --view=\"Tree\" \"Q\""
   ]
  },
  {
   "cell_type": "code",
   "execution_count": 11,
   "id": "2f264c78",
   "metadata": {
    "execution": {
     "iopub.execute_input": "2021-08-04T06:27:46.957874Z",
     "iopub.status.busy": "2021-08-04T06:27:46.957486Z",
     "iopub.status.idle": "2021-08-04T06:27:46.959084Z",
     "shell.execute_reply": "2021-08-04T06:27:46.959389Z"
    }
   },
   "outputs": [
    {
     "data": {
      "text/plain": [
       "ERROR:Couldn't resolve reference to Element 'Q'\n"
      ]
     },
     "execution_count": 11,
     "metadata": {},
     "output_type": "execute_result"
    }
   ],
   "source": [
    "%viz --style=\"POLYLINE\" --view=\"State\" \"Q\""
   ]
  },
  {
   "cell_type": "code",
   "execution_count": 12,
   "id": "aced6b92",
   "metadata": {
    "execution": {
     "iopub.execute_input": "2021-08-04T06:27:47.010121Z",
     "iopub.status.busy": "2021-08-04T06:27:47.009678Z",
     "iopub.status.idle": "2021-08-04T06:27:47.011492Z",
     "shell.execute_reply": "2021-08-04T06:27:47.011172Z"
    }
   },
   "outputs": [
    {
     "data": {
      "text/plain": [
       "ERROR:Couldn't resolve reference to Element 'Q'\n"
      ]
     },
     "execution_count": 12,
     "metadata": {},
     "output_type": "execute_result"
    }
   ],
   "source": [
    "%viz --style=\"POLYLINE\" --view=\"Interconnection\" \"Q\""
   ]
  },
  {
   "cell_type": "code",
   "execution_count": 13,
   "id": "e1a55498",
   "metadata": {
    "execution": {
     "iopub.execute_input": "2021-08-04T06:27:47.062005Z",
     "iopub.status.busy": "2021-08-04T06:27:47.061618Z",
     "iopub.status.idle": "2021-08-04T06:27:47.063136Z",
     "shell.execute_reply": "2021-08-04T06:27:47.063441Z"
    }
   },
   "outputs": [
    {
     "data": {
      "text/plain": [
       "ERROR:Couldn't resolve reference to Element 'Q'\n"
      ]
     },
     "execution_count": 13,
     "metadata": {},
     "output_type": "execute_result"
    }
   ],
   "source": [
    "%viz --style=\"POLYLINE\" --view=\"Action\" \"Q\""
   ]
  },
  {
   "cell_type": "code",
   "execution_count": 14,
   "id": "221c9b2f",
   "metadata": {
    "execution": {
     "iopub.execute_input": "2021-08-04T06:27:47.114091Z",
     "iopub.status.busy": "2021-08-04T06:27:47.113701Z",
     "iopub.status.idle": "2021-08-04T06:27:47.115158Z",
     "shell.execute_reply": "2021-08-04T06:27:47.115461Z"
    }
   },
   "outputs": [
    {
     "data": {
      "text/plain": [
       "ERROR:Couldn't resolve reference to Element 'Q'\n"
      ]
     },
     "execution_count": 14,
     "metadata": {},
     "output_type": "execute_result"
    }
   ],
   "source": [
    "%viz --style=\"POLYLINE\" --view=\"Sequence\" \"Q\""
   ]
  },
  {
   "cell_type": "code",
   "execution_count": 15,
   "id": "c4ac321c",
   "metadata": {
    "execution": {
     "iopub.execute_input": "2021-08-04T06:27:47.166147Z",
     "iopub.status.busy": "2021-08-04T06:27:47.165754Z",
     "iopub.status.idle": "2021-08-04T06:27:47.167189Z",
     "shell.execute_reply": "2021-08-04T06:27:47.167498Z"
    }
   },
   "outputs": [
    {
     "data": {
      "text/plain": [
       "ERROR:Couldn't resolve reference to Element 'Q'\n"
      ]
     },
     "execution_count": 15,
     "metadata": {},
     "output_type": "execute_result"
    }
   ],
   "source": [
    "%viz --style=\"POLYLINE\" --view=\"MIXED\" \"Q\""
   ]
  },
  {
   "cell_type": "code",
   "execution_count": 16,
   "id": "a008bea3",
   "metadata": {
    "execution": {
     "iopub.execute_input": "2021-08-04T06:27:47.218272Z",
     "iopub.status.busy": "2021-08-04T06:27:47.217888Z",
     "iopub.status.idle": "2021-08-04T06:27:47.219313Z",
     "shell.execute_reply": "2021-08-04T06:27:47.219617Z"
    }
   },
   "outputs": [
    {
     "data": {
      "text/plain": [
       "ERROR:Couldn't resolve reference to Element 'Q'\n"
      ]
     },
     "execution_count": 16,
     "metadata": {},
     "output_type": "execute_result"
    }
   ],
   "source": [
    "%viz --style=\"LR\" --view=\"Default\" \"Q\""
   ]
  },
  {
   "cell_type": "code",
   "execution_count": 17,
   "id": "4aa8f1e0",
   "metadata": {
    "execution": {
     "iopub.execute_input": "2021-08-04T06:27:47.270098Z",
     "iopub.status.busy": "2021-08-04T06:27:47.269674Z",
     "iopub.status.idle": "2021-08-04T06:27:47.271323Z",
     "shell.execute_reply": "2021-08-04T06:27:47.271627Z"
    }
   },
   "outputs": [
    {
     "data": {
      "text/plain": [
       "ERROR:Couldn't resolve reference to Element 'Q'\n"
      ]
     },
     "execution_count": 17,
     "metadata": {},
     "output_type": "execute_result"
    }
   ],
   "source": [
    "%viz --style=\"LR\" --view=\"Tree\" \"Q\""
   ]
  },
  {
   "cell_type": "code",
   "execution_count": 18,
   "id": "042428b7",
   "metadata": {
    "execution": {
     "iopub.execute_input": "2021-08-04T06:27:47.321966Z",
     "iopub.status.busy": "2021-08-04T06:27:47.321577Z",
     "iopub.status.idle": "2021-08-04T06:27:47.323277Z",
     "shell.execute_reply": "2021-08-04T06:27:47.323584Z"
    }
   },
   "outputs": [
    {
     "data": {
      "text/plain": [
       "ERROR:Couldn't resolve reference to Element 'Q'\n"
      ]
     },
     "execution_count": 18,
     "metadata": {},
     "output_type": "execute_result"
    }
   ],
   "source": [
    "%viz --style=\"LR\" --view=\"State\" \"Q\""
   ]
  },
  {
   "cell_type": "code",
   "execution_count": 19,
   "id": "b78c52ce",
   "metadata": {
    "execution": {
     "iopub.execute_input": "2021-08-04T06:27:47.373829Z",
     "iopub.status.busy": "2021-08-04T06:27:47.373438Z",
     "iopub.status.idle": "2021-08-04T06:27:47.374873Z",
     "shell.execute_reply": "2021-08-04T06:27:47.375181Z"
    }
   },
   "outputs": [
    {
     "data": {
      "text/plain": [
       "ERROR:Couldn't resolve reference to Element 'Q'\n"
      ]
     },
     "execution_count": 19,
     "metadata": {},
     "output_type": "execute_result"
    }
   ],
   "source": [
    "%viz --style=\"LR\" --view=\"Interconnection\" \"Q\""
   ]
  },
  {
   "cell_type": "code",
   "execution_count": 20,
   "id": "d21503bd",
   "metadata": {
    "execution": {
     "iopub.execute_input": "2021-08-04T06:27:47.425544Z",
     "iopub.status.busy": "2021-08-04T06:27:47.425147Z",
     "iopub.status.idle": "2021-08-04T06:27:47.426919Z",
     "shell.execute_reply": "2021-08-04T06:27:47.426577Z"
    }
   },
   "outputs": [
    {
     "data": {
      "text/plain": [
       "ERROR:Couldn't resolve reference to Element 'Q'\n"
      ]
     },
     "execution_count": 20,
     "metadata": {},
     "output_type": "execute_result"
    }
   ],
   "source": [
    "%viz --style=\"LR\" --view=\"Action\" \"Q\""
   ]
  },
  {
   "cell_type": "code",
   "execution_count": 21,
   "id": "cc784c01",
   "metadata": {
    "execution": {
     "iopub.execute_input": "2021-08-04T06:27:47.476997Z",
     "iopub.status.busy": "2021-08-04T06:27:47.476597Z",
     "iopub.status.idle": "2021-08-04T06:27:47.478359Z",
     "shell.execute_reply": "2021-08-04T06:27:47.478020Z"
    }
   },
   "outputs": [
    {
     "data": {
      "text/plain": [
       "ERROR:Couldn't resolve reference to Element 'Q'\n"
      ]
     },
     "execution_count": 21,
     "metadata": {},
     "output_type": "execute_result"
    }
   ],
   "source": [
    "%viz --style=\"LR\" --view=\"Sequence\" \"Q\""
   ]
  },
  {
   "cell_type": "code",
   "execution_count": 22,
   "id": "f1576c34",
   "metadata": {
    "execution": {
     "iopub.execute_input": "2021-08-04T06:27:47.528361Z",
     "iopub.status.busy": "2021-08-04T06:27:47.527972Z",
     "iopub.status.idle": "2021-08-04T06:27:47.529744Z",
     "shell.execute_reply": "2021-08-04T06:27:47.529398Z"
    }
   },
   "outputs": [
    {
     "data": {
      "text/plain": [
       "ERROR:Couldn't resolve reference to Element 'Q'\n"
      ]
     },
     "execution_count": 22,
     "metadata": {},
     "output_type": "execute_result"
    }
   ],
   "source": [
    "%viz --style=\"LR\" --view=\"MIXED\" \"Q\""
   ]
  },
  {
   "cell_type": "code",
   "execution_count": 23,
   "id": "019b51a6",
   "metadata": {
    "execution": {
     "iopub.execute_input": "2021-08-04T06:27:47.579939Z",
     "iopub.status.busy": "2021-08-04T06:27:47.579544Z",
     "iopub.status.idle": "2021-08-04T06:27:47.581322Z",
     "shell.execute_reply": "2021-08-04T06:27:47.580977Z"
    }
   },
   "outputs": [
    {
     "data": {
      "text/plain": [
       "ERROR:Couldn't resolve reference to Element 'Q'\n"
      ]
     },
     "execution_count": 23,
     "metadata": {},
     "output_type": "execute_result"
    }
   ],
   "source": [
    "%viz --style=\"STDCOLOR\" --view=\"Default\" \"Q\""
   ]
  },
  {
   "cell_type": "code",
   "execution_count": 24,
   "id": "91de2a85",
   "metadata": {
    "execution": {
     "iopub.execute_input": "2021-08-04T06:27:47.631443Z",
     "iopub.status.busy": "2021-08-04T06:27:47.631053Z",
     "iopub.status.idle": "2021-08-04T06:27:47.632823Z",
     "shell.execute_reply": "2021-08-04T06:27:47.632470Z"
    }
   },
   "outputs": [
    {
     "data": {
      "text/plain": [
       "ERROR:Couldn't resolve reference to Element 'Q'\n"
      ]
     },
     "execution_count": 24,
     "metadata": {},
     "output_type": "execute_result"
    }
   ],
   "source": [
    "%viz --style=\"STDCOLOR\" --view=\"Tree\" \"Q\""
   ]
  },
  {
   "cell_type": "code",
   "execution_count": 25,
   "id": "c1927627",
   "metadata": {
    "execution": {
     "iopub.execute_input": "2021-08-04T06:27:47.682706Z",
     "iopub.status.busy": "2021-08-04T06:27:47.682322Z",
     "iopub.status.idle": "2021-08-04T06:27:47.684070Z",
     "shell.execute_reply": "2021-08-04T06:27:47.683729Z"
    }
   },
   "outputs": [
    {
     "data": {
      "text/plain": [
       "ERROR:Couldn't resolve reference to Element 'Q'\n"
      ]
     },
     "execution_count": 25,
     "metadata": {},
     "output_type": "execute_result"
    }
   ],
   "source": [
    "%viz --style=\"STDCOLOR\" --view=\"State\" \"Q\""
   ]
  },
  {
   "cell_type": "code",
   "execution_count": 26,
   "id": "0ef525f9",
   "metadata": {
    "execution": {
     "iopub.execute_input": "2021-08-04T06:27:47.734043Z",
     "iopub.status.busy": "2021-08-04T06:27:47.733651Z",
     "iopub.status.idle": "2021-08-04T06:27:47.735412Z",
     "shell.execute_reply": "2021-08-04T06:27:47.735072Z"
    }
   },
   "outputs": [
    {
     "data": {
      "text/plain": [
       "ERROR:Couldn't resolve reference to Element 'Q'\n"
      ]
     },
     "execution_count": 26,
     "metadata": {},
     "output_type": "execute_result"
    }
   ],
   "source": [
    "%viz --style=\"STDCOLOR\" --view=\"Interconnection\" \"Q\""
   ]
  },
  {
   "cell_type": "code",
   "execution_count": 27,
   "id": "63a6d290",
   "metadata": {
    "execution": {
     "iopub.execute_input": "2021-08-04T06:27:47.785364Z",
     "iopub.status.busy": "2021-08-04T06:27:47.784969Z",
     "iopub.status.idle": "2021-08-04T06:27:47.786723Z",
     "shell.execute_reply": "2021-08-04T06:27:47.786385Z"
    }
   },
   "outputs": [
    {
     "data": {
      "text/plain": [
       "ERROR:Couldn't resolve reference to Element 'Q'\n"
      ]
     },
     "execution_count": 27,
     "metadata": {},
     "output_type": "execute_result"
    }
   ],
   "source": [
    "%viz --style=\"STDCOLOR\" --view=\"Action\" \"Q\""
   ]
  },
  {
   "cell_type": "code",
   "execution_count": 28,
   "id": "269c53df",
   "metadata": {
    "execution": {
     "iopub.execute_input": "2021-08-04T06:27:47.836719Z",
     "iopub.status.busy": "2021-08-04T06:27:47.836308Z",
     "iopub.status.idle": "2021-08-04T06:27:47.838077Z",
     "shell.execute_reply": "2021-08-04T06:27:47.837738Z"
    }
   },
   "outputs": [
    {
     "data": {
      "text/plain": [
       "ERROR:Couldn't resolve reference to Element 'Q'\n"
      ]
     },
     "execution_count": 28,
     "metadata": {},
     "output_type": "execute_result"
    }
   ],
   "source": [
    "%viz --style=\"STDCOLOR\" --view=\"Sequence\" \"Q\""
   ]
  },
  {
   "cell_type": "code",
   "execution_count": 29,
   "id": "e24cfb23",
   "metadata": {
    "execution": {
     "iopub.execute_input": "2021-08-04T06:27:47.888099Z",
     "iopub.status.busy": "2021-08-04T06:27:47.887702Z",
     "iopub.status.idle": "2021-08-04T06:27:47.889477Z",
     "shell.execute_reply": "2021-08-04T06:27:47.889141Z"
    }
   },
   "outputs": [
    {
     "data": {
      "text/plain": [
       "ERROR:Couldn't resolve reference to Element 'Q'\n"
      ]
     },
     "execution_count": 29,
     "metadata": {},
     "output_type": "execute_result"
    }
   ],
   "source": [
    "%viz --style=\"STDCOLOR\" --view=\"MIXED\" \"Q\""
   ]
  },
  {
   "cell_type": "code",
   "execution_count": 30,
   "id": "6847715c",
   "metadata": {
    "execution": {
     "iopub.execute_input": "2021-08-04T06:27:47.939343Z",
     "iopub.status.busy": "2021-08-04T06:27:47.938949Z",
     "iopub.status.idle": "2021-08-04T06:27:47.940718Z",
     "shell.execute_reply": "2021-08-04T06:27:47.940362Z"
    }
   },
   "outputs": [
    {
     "data": {
      "text/plain": [
       "ERROR:Couldn't resolve reference to Element 'Q'\n"
      ]
     },
     "execution_count": 30,
     "metadata": {},
     "output_type": "execute_result"
    }
   ],
   "source": [
    "%viz --style=\"PLANTUML\" --view=\"Default\" \"Q\""
   ]
  },
  {
   "cell_type": "code",
   "execution_count": 31,
   "id": "f46d5443",
   "metadata": {
    "execution": {
     "iopub.execute_input": "2021-08-04T06:27:47.990583Z",
     "iopub.status.busy": "2021-08-04T06:27:47.990194Z",
     "iopub.status.idle": "2021-08-04T06:27:47.991957Z",
     "shell.execute_reply": "2021-08-04T06:27:47.991618Z"
    }
   },
   "outputs": [
    {
     "data": {
      "text/plain": [
       "ERROR:Couldn't resolve reference to Element 'Q'\n"
      ]
     },
     "execution_count": 31,
     "metadata": {},
     "output_type": "execute_result"
    }
   ],
   "source": [
    "%viz --style=\"PLANTUML\" --view=\"Tree\" \"Q\""
   ]
  },
  {
   "cell_type": "code",
   "execution_count": 32,
   "id": "bc869a00",
   "metadata": {
    "execution": {
     "iopub.execute_input": "2021-08-04T06:27:48.042039Z",
     "iopub.status.busy": "2021-08-04T06:27:48.041646Z",
     "iopub.status.idle": "2021-08-04T06:27:48.043420Z",
     "shell.execute_reply": "2021-08-04T06:27:48.043081Z"
    }
   },
   "outputs": [
    {
     "data": {
      "text/plain": [
       "ERROR:Couldn't resolve reference to Element 'Q'\n"
      ]
     },
     "execution_count": 32,
     "metadata": {},
     "output_type": "execute_result"
    }
   ],
   "source": [
    "%viz --style=\"PLANTUML\" --view=\"State\" \"Q\""
   ]
  },
  {
   "cell_type": "code",
   "execution_count": 33,
   "id": "8ce4226d",
   "metadata": {
    "execution": {
     "iopub.execute_input": "2021-08-04T06:27:48.093214Z",
     "iopub.status.busy": "2021-08-04T06:27:48.092823Z",
     "iopub.status.idle": "2021-08-04T06:27:48.094582Z",
     "shell.execute_reply": "2021-08-04T06:27:48.094243Z"
    }
   },
   "outputs": [
    {
     "data": {
      "text/plain": [
       "ERROR:Couldn't resolve reference to Element 'Q'\n"
      ]
     },
     "execution_count": 33,
     "metadata": {},
     "output_type": "execute_result"
    }
   ],
   "source": [
    "%viz --style=\"PLANTUML\" --view=\"Interconnection\" \"Q\""
   ]
  },
  {
   "cell_type": "code",
   "execution_count": 34,
   "id": "8a11d9cf",
   "metadata": {
    "execution": {
     "iopub.execute_input": "2021-08-04T06:27:48.144440Z",
     "iopub.status.busy": "2021-08-04T06:27:48.144050Z",
     "iopub.status.idle": "2021-08-04T06:27:48.145834Z",
     "shell.execute_reply": "2021-08-04T06:27:48.145488Z"
    }
   },
   "outputs": [
    {
     "data": {
      "text/plain": [
       "ERROR:Couldn't resolve reference to Element 'Q'\n"
      ]
     },
     "execution_count": 34,
     "metadata": {},
     "output_type": "execute_result"
    }
   ],
   "source": [
    "%viz --style=\"PLANTUML\" --view=\"Action\" \"Q\""
   ]
  },
  {
   "cell_type": "code",
   "execution_count": 35,
   "id": "8f13b6c5",
   "metadata": {
    "execution": {
     "iopub.execute_input": "2021-08-04T06:27:48.195791Z",
     "iopub.status.busy": "2021-08-04T06:27:48.195399Z",
     "iopub.status.idle": "2021-08-04T06:27:48.197190Z",
     "shell.execute_reply": "2021-08-04T06:27:48.196847Z"
    }
   },
   "outputs": [
    {
     "data": {
      "text/plain": [
       "ERROR:Couldn't resolve reference to Element 'Q'\n"
      ]
     },
     "execution_count": 35,
     "metadata": {},
     "output_type": "execute_result"
    }
   ],
   "source": [
    "%viz --style=\"PLANTUML\" --view=\"Sequence\" \"Q\""
   ]
  },
  {
   "cell_type": "code",
   "execution_count": 36,
   "id": "45d60d88",
   "metadata": {
    "execution": {
     "iopub.execute_input": "2021-08-04T06:27:48.247005Z",
     "iopub.status.busy": "2021-08-04T06:27:48.246614Z",
     "iopub.status.idle": "2021-08-04T06:27:48.248677Z",
     "shell.execute_reply": "2021-08-04T06:27:48.248326Z"
    }
   },
   "outputs": [
    {
     "data": {
      "text/plain": [
       "ERROR:Couldn't resolve reference to Element 'Q'\n"
      ]
     },
     "execution_count": 36,
     "metadata": {},
     "output_type": "execute_result"
    }
   ],
   "source": [
    "%viz --style=\"PLANTUML\" --view=\"MIXED\" \"Q\""
   ]
  },
  {
   "cell_type": "code",
   "execution_count": 37,
   "id": "171e1981",
   "metadata": {
    "execution": {
     "iopub.execute_input": "2021-08-04T06:27:48.298225Z",
     "iopub.status.busy": "2021-08-04T06:27:48.297834Z",
     "iopub.status.idle": "2021-08-04T06:27:48.299592Z",
     "shell.execute_reply": "2021-08-04T06:27:48.299250Z"
    }
   },
   "outputs": [
    {
     "data": {
      "text/plain": [
       "ERROR:Couldn't resolve reference to Element 'Q'\n"
      ]
     },
     "execution_count": 37,
     "metadata": {},
     "output_type": "execute_result"
    }
   ],
   "source": [
    "%viz --style=\"DEFAULT\" --view=\"Default\" \"Q\""
   ]
  },
  {
   "cell_type": "code",
   "execution_count": 38,
   "id": "4355b30a",
   "metadata": {
    "execution": {
     "iopub.execute_input": "2021-08-04T06:27:48.349561Z",
     "iopub.status.busy": "2021-08-04T06:27:48.349164Z",
     "iopub.status.idle": "2021-08-04T06:27:48.350943Z",
     "shell.execute_reply": "2021-08-04T06:27:48.350590Z"
    }
   },
   "outputs": [
    {
     "data": {
      "text/plain": [
       "ERROR:Couldn't resolve reference to Element 'Q'\n"
      ]
     },
     "execution_count": 38,
     "metadata": {},
     "output_type": "execute_result"
    }
   ],
   "source": [
    "%viz --style=\"DEFAULT\" --view=\"Tree\" \"Q\""
   ]
  },
  {
   "cell_type": "code",
   "execution_count": 39,
   "id": "f9cfc66a",
   "metadata": {
    "execution": {
     "iopub.execute_input": "2021-08-04T06:27:48.400978Z",
     "iopub.status.busy": "2021-08-04T06:27:48.400574Z",
     "iopub.status.idle": "2021-08-04T06:27:48.402358Z",
     "shell.execute_reply": "2021-08-04T06:27:48.402018Z"
    }
   },
   "outputs": [
    {
     "data": {
      "text/plain": [
       "ERROR:Couldn't resolve reference to Element 'Q'\n"
      ]
     },
     "execution_count": 39,
     "metadata": {},
     "output_type": "execute_result"
    }
   ],
   "source": [
    "%viz --style=\"DEFAULT\" --view=\"State\" \"Q\""
   ]
  },
  {
   "cell_type": "code",
   "execution_count": 40,
   "id": "5befe6cf",
   "metadata": {
    "execution": {
     "iopub.execute_input": "2021-08-04T06:27:48.452250Z",
     "iopub.status.busy": "2021-08-04T06:27:48.451859Z",
     "iopub.status.idle": "2021-08-04T06:27:48.453630Z",
     "shell.execute_reply": "2021-08-04T06:27:48.453281Z"
    }
   },
   "outputs": [
    {
     "data": {
      "text/plain": [
       "ERROR:Couldn't resolve reference to Element 'Q'\n"
      ]
     },
     "execution_count": 40,
     "metadata": {},
     "output_type": "execute_result"
    }
   ],
   "source": [
    "%viz --style=\"DEFAULT\" --view=\"Interconnection\" \"Q\""
   ]
  },
  {
   "cell_type": "code",
   "execution_count": 41,
   "id": "36a1054d",
   "metadata": {
    "execution": {
     "iopub.execute_input": "2021-08-04T06:27:48.503748Z",
     "iopub.status.busy": "2021-08-04T06:27:48.503232Z",
     "iopub.status.idle": "2021-08-04T06:27:48.505161Z",
     "shell.execute_reply": "2021-08-04T06:27:48.504817Z"
    }
   },
   "outputs": [
    {
     "data": {
      "text/plain": [
       "ERROR:Couldn't resolve reference to Element 'Q'\n"
      ]
     },
     "execution_count": 41,
     "metadata": {},
     "output_type": "execute_result"
    }
   ],
   "source": [
    "%viz --style=\"DEFAULT\" --view=\"Action\" \"Q\""
   ]
  },
  {
   "cell_type": "code",
   "execution_count": 42,
   "id": "67b70b06",
   "metadata": {
    "execution": {
     "iopub.execute_input": "2021-08-04T06:27:48.555008Z",
     "iopub.status.busy": "2021-08-04T06:27:48.554462Z",
     "iopub.status.idle": "2021-08-04T06:27:48.556392Z",
     "shell.execute_reply": "2021-08-04T06:27:48.555405Z"
    }
   },
   "outputs": [
    {
     "data": {
      "text/plain": [
       "ERROR:Couldn't resolve reference to Element 'Q'\n"
      ]
     },
     "execution_count": 42,
     "metadata": {},
     "output_type": "execute_result"
    }
   ],
   "source": [
    "%viz --style=\"DEFAULT\" --view=\"Sequence\" \"Q\""
   ]
  },
  {
   "cell_type": "code",
   "execution_count": 43,
   "id": "25bc9d48",
   "metadata": {
    "execution": {
     "iopub.execute_input": "2021-08-04T06:27:48.606245Z",
     "iopub.status.busy": "2021-08-04T06:27:48.605716Z",
     "iopub.status.idle": "2021-08-04T06:27:48.607576Z",
     "shell.execute_reply": "2021-08-04T06:27:48.606640Z"
    }
   },
   "outputs": [
    {
     "data": {
      "text/plain": [
       "ERROR:Couldn't resolve reference to Element 'Q'\n"
      ]
     },
     "execution_count": 43,
     "metadata": {},
     "output_type": "execute_result"
    }
   ],
   "source": [
    "%viz --style=\"DEFAULT\" --view=\"MIXED\" \"Q\""
   ]
  },
  {
   "cell_type": "code",
   "execution_count": 44,
   "id": "5a02a502",
   "metadata": {
    "execution": {
     "iopub.execute_input": "2021-08-04T06:27:48.657412Z",
     "iopub.status.busy": "2021-08-04T06:27:48.656886Z",
     "iopub.status.idle": "2021-08-04T06:27:48.658735Z",
     "shell.execute_reply": "2021-08-04T06:27:48.657806Z"
    }
   },
   "outputs": [
    {
     "data": {
      "text/plain": [
       "ERROR:Couldn't resolve reference to Element 'Q'\n"
      ]
     },
     "execution_count": 44,
     "metadata": {},
     "output_type": "execute_result"
    }
   ],
   "source": [
    "%viz --style=\"TB\" --view=\"Default\" \"Q\""
   ]
  },
  {
   "cell_type": "code",
   "execution_count": 45,
   "id": "d272d2a1",
   "metadata": {
    "execution": {
     "iopub.execute_input": "2021-08-04T06:27:48.708675Z",
     "iopub.status.busy": "2021-08-04T06:27:48.708122Z",
     "iopub.status.idle": "2021-08-04T06:27:48.709990Z",
     "shell.execute_reply": "2021-08-04T06:27:48.709044Z"
    }
   },
   "outputs": [
    {
     "data": {
      "text/plain": [
       "ERROR:Couldn't resolve reference to Element 'Q'\n"
      ]
     },
     "execution_count": 45,
     "metadata": {},
     "output_type": "execute_result"
    }
   ],
   "source": [
    "%viz --style=\"TB\" --view=\"Tree\" \"Q\""
   ]
  },
  {
   "cell_type": "code",
   "execution_count": 46,
   "id": "22958764",
   "metadata": {
    "execution": {
     "iopub.execute_input": "2021-08-04T06:27:48.759779Z",
     "iopub.status.busy": "2021-08-04T06:27:48.759277Z",
     "iopub.status.idle": "2021-08-04T06:27:48.761103Z",
     "shell.execute_reply": "2021-08-04T06:27:48.760139Z"
    }
   },
   "outputs": [
    {
     "data": {
      "text/plain": [
       "ERROR:Couldn't resolve reference to Element 'Q'\n"
      ]
     },
     "execution_count": 46,
     "metadata": {},
     "output_type": "execute_result"
    }
   ],
   "source": [
    "%viz --style=\"TB\" --view=\"State\" \"Q\""
   ]
  },
  {
   "cell_type": "code",
   "execution_count": 47,
   "id": "5977d17c",
   "metadata": {
    "execution": {
     "iopub.execute_input": "2021-08-04T06:27:48.810846Z",
     "iopub.status.busy": "2021-08-04T06:27:48.810335Z",
     "iopub.status.idle": "2021-08-04T06:27:48.812157Z",
     "shell.execute_reply": "2021-08-04T06:27:48.811206Z"
    }
   },
   "outputs": [
    {
     "data": {
      "text/plain": [
       "ERROR:Couldn't resolve reference to Element 'Q'\n"
      ]
     },
     "execution_count": 47,
     "metadata": {},
     "output_type": "execute_result"
    }
   ],
   "source": [
    "%viz --style=\"TB\" --view=\"Interconnection\" \"Q\""
   ]
  },
  {
   "cell_type": "code",
   "execution_count": 48,
   "id": "cb3d75d9",
   "metadata": {
    "execution": {
     "iopub.execute_input": "2021-08-04T06:27:48.861994Z",
     "iopub.status.busy": "2021-08-04T06:27:48.861469Z",
     "iopub.status.idle": "2021-08-04T06:27:48.863334Z",
     "shell.execute_reply": "2021-08-04T06:27:48.862353Z"
    }
   },
   "outputs": [
    {
     "data": {
      "text/plain": [
       "ERROR:Couldn't resolve reference to Element 'Q'\n"
      ]
     },
     "execution_count": 48,
     "metadata": {},
     "output_type": "execute_result"
    }
   ],
   "source": [
    "%viz --style=\"TB\" --view=\"Action\" \"Q\""
   ]
  },
  {
   "cell_type": "code",
   "execution_count": 49,
   "id": "9ab3c0d0",
   "metadata": {
    "execution": {
     "iopub.execute_input": "2021-08-04T06:27:48.913179Z",
     "iopub.status.busy": "2021-08-04T06:27:48.912630Z",
     "iopub.status.idle": "2021-08-04T06:27:48.914525Z",
     "shell.execute_reply": "2021-08-04T06:27:48.913586Z"
    }
   },
   "outputs": [
    {
     "data": {
      "text/plain": [
       "ERROR:Couldn't resolve reference to Element 'Q'\n"
      ]
     },
     "execution_count": 49,
     "metadata": {},
     "output_type": "execute_result"
    }
   ],
   "source": [
    "%viz --style=\"TB\" --view=\"Sequence\" \"Q\""
   ]
  },
  {
   "cell_type": "code",
   "execution_count": 50,
   "id": "9d286b50",
   "metadata": {
    "execution": {
     "iopub.execute_input": "2021-08-04T06:27:48.964353Z",
     "iopub.status.busy": "2021-08-04T06:27:48.963886Z",
     "iopub.status.idle": "2021-08-04T06:27:48.965765Z",
     "shell.execute_reply": "2021-08-04T06:27:48.964779Z"
    }
   },
   "outputs": [
    {
     "data": {
      "text/plain": [
       "ERROR:Couldn't resolve reference to Element 'Q'\n"
      ]
     },
     "execution_count": 50,
     "metadata": {},
     "output_type": "execute_result"
    }
   ],
   "source": [
    "%viz --style=\"TB\" --view=\"MIXED\" \"Q\""
   ]
  },
  {
   "cell_type": "code",
   "execution_count": 51,
   "id": "a7fee748",
   "metadata": {
    "execution": {
     "iopub.execute_input": "2021-08-04T06:27:49.015233Z",
     "iopub.status.busy": "2021-08-04T06:27:49.014737Z",
     "iopub.status.idle": "2021-08-04T06:27:49.016575Z",
     "shell.execute_reply": "2021-08-04T06:27:49.015597Z"
    }
   },
   "outputs": [
    {
     "data": {
      "text/plain": [
       "ERROR:Couldn't resolve reference to Element 'Q'\n"
      ]
     },
     "execution_count": 51,
     "metadata": {},
     "output_type": "execute_result"
    }
   ],
   "source": [
    "%viz --style=\"ORTHOLINE\" --view=\"Default\" \"Q\""
   ]
  },
  {
   "cell_type": "code",
   "execution_count": 52,
   "id": "efc98310",
   "metadata": {
    "execution": {
     "iopub.execute_input": "2021-08-04T06:27:49.066009Z",
     "iopub.status.busy": "2021-08-04T06:27:49.065536Z",
     "iopub.status.idle": "2021-08-04T06:27:49.067358Z",
     "shell.execute_reply": "2021-08-04T06:27:49.066410Z"
    }
   },
   "outputs": [
    {
     "data": {
      "text/plain": [
       "ERROR:Couldn't resolve reference to Element 'Q'\n"
      ]
     },
     "execution_count": 52,
     "metadata": {},
     "output_type": "execute_result"
    }
   ],
   "source": [
    "%viz --style=\"ORTHOLINE\" --view=\"Tree\" \"Q\""
   ]
  },
  {
   "cell_type": "code",
   "execution_count": 53,
   "id": "51748850",
   "metadata": {
    "execution": {
     "iopub.execute_input": "2021-08-04T06:27:49.116891Z",
     "iopub.status.busy": "2021-08-04T06:27:49.116409Z",
     "iopub.status.idle": "2021-08-04T06:27:49.118197Z",
     "shell.execute_reply": "2021-08-04T06:27:49.117251Z"
    }
   },
   "outputs": [
    {
     "data": {
      "text/plain": [
       "ERROR:Couldn't resolve reference to Element 'Q'\n"
      ]
     },
     "execution_count": 53,
     "metadata": {},
     "output_type": "execute_result"
    }
   ],
   "source": [
    "%viz --style=\"ORTHOLINE\" --view=\"State\" \"Q\""
   ]
  },
  {
   "cell_type": "code",
   "execution_count": 54,
   "id": "43c611a8",
   "metadata": {
    "execution": {
     "iopub.execute_input": "2021-08-04T06:27:49.167793Z",
     "iopub.status.busy": "2021-08-04T06:27:49.167278Z",
     "iopub.status.idle": "2021-08-04T06:27:49.169435Z",
     "shell.execute_reply": "2021-08-04T06:27:49.168154Z"
    }
   },
   "outputs": [
    {
     "data": {
      "text/plain": [
       "ERROR:Couldn't resolve reference to Element 'Q'\n"
      ]
     },
     "execution_count": 54,
     "metadata": {},
     "output_type": "execute_result"
    }
   ],
   "source": [
    "%viz --style=\"ORTHOLINE\" --view=\"Interconnection\" \"Q\""
   ]
  },
  {
   "cell_type": "code",
   "execution_count": 55,
   "id": "7ffce4e0",
   "metadata": {
    "execution": {
     "iopub.execute_input": "2021-08-04T06:27:49.218806Z",
     "iopub.status.busy": "2021-08-04T06:27:49.218319Z",
     "iopub.status.idle": "2021-08-04T06:27:49.220118Z",
     "shell.execute_reply": "2021-08-04T06:27:49.219169Z"
    }
   },
   "outputs": [
    {
     "data": {
      "text/plain": [
       "ERROR:Couldn't resolve reference to Element 'Q'\n"
      ]
     },
     "execution_count": 55,
     "metadata": {},
     "output_type": "execute_result"
    }
   ],
   "source": [
    "%viz --style=\"ORTHOLINE\" --view=\"Action\" \"Q\""
   ]
  },
  {
   "cell_type": "code",
   "execution_count": 56,
   "id": "6b3e732c",
   "metadata": {
    "execution": {
     "iopub.execute_input": "2021-08-04T06:27:49.269708Z",
     "iopub.status.busy": "2021-08-04T06:27:49.269247Z",
     "iopub.status.idle": "2021-08-04T06:27:49.271020Z",
     "shell.execute_reply": "2021-08-04T06:27:49.270072Z"
    }
   },
   "outputs": [
    {
     "data": {
      "text/plain": [
       "ERROR:Couldn't resolve reference to Element 'Q'\n"
      ]
     },
     "execution_count": 56,
     "metadata": {},
     "output_type": "execute_result"
    }
   ],
   "source": [
    "%viz --style=\"ORTHOLINE\" --view=\"Sequence\" \"Q\""
   ]
  },
  {
   "cell_type": "code",
   "execution_count": 57,
   "id": "622a832b",
   "metadata": {
    "execution": {
     "iopub.execute_input": "2021-08-04T06:27:49.320549Z",
     "iopub.status.busy": "2021-08-04T06:27:49.320085Z",
     "iopub.status.idle": "2021-08-04T06:27:49.321880Z",
     "shell.execute_reply": "2021-08-04T06:27:49.320932Z"
    }
   },
   "outputs": [
    {
     "data": {
      "text/plain": [
       "ERROR:Couldn't resolve reference to Element 'Q'\n"
      ]
     },
     "execution_count": 57,
     "metadata": {},
     "output_type": "execute_result"
    }
   ],
   "source": [
    "%viz --style=\"ORTHOLINE\" --view=\"MIXED\" \"Q\""
   ]
  }
 ],
 "metadata": {
  "kernelspec": {
   "display_name": "SysML",
   "language": "sysml",
   "name": "sysml"
  },
  "language_info": {
   "codemirror_mode": "sysml",
   "file_extension": ".sysml",
   "mimetype": "text/x-sysml",
   "name": "SysML",
   "pygments_lexer": "java",
   "version": "1.0.0"
  }
 },
 "nbformat": 4,
 "nbformat_minor": 5
}

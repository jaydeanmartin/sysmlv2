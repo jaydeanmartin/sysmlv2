{
 "cells": [
  {
   "cell_type": "markdown",
   "id": "a4476b17",
   "metadata": {},
   "source": [
    "# SysML v2 Test Suite\n",
    "\n",
    "This can notebook can be cleared using menu `Edit --> Clear All Outputs` and then all cells can be\n",
    "run using menu `Run --> Run All Cells`.\n",
    "\n",
    "**WARNING**: This file is generated, all modifications here will be ignored.\n"
   ]
  },
  {
   "cell_type": "markdown",
   "id": "0d0c7609",
   "metadata": {},
   "source": [
    "## File: ../../sysml/src/examples/Simple Tests/ItemTest.sysml"
   ]
  },
  {
   "cell_type": "code",
   "execution_count": 1,
   "id": "85de554e",
   "metadata": {
    "execution": {
     "iopub.execute_input": "2022-08-19T08:17:26.522995Z",
     "iopub.status.busy": "2022-08-19T08:17:26.521821Z",
     "iopub.status.idle": "2022-08-19T08:17:26.802942Z",
     "shell.execute_reply": "2022-08-19T08:17:26.803431Z"
    }
   },
   "outputs": [
    {
     "data": {
      "text/plain": [
       "Package ItemTest (ae8f2d08-e2f6-41ef-ae81-a483692b435b)\n"
      ]
     },
     "execution_count": 1,
     "metadata": {},
     "output_type": "execute_result"
    }
   ],
   "source": [
    "package ItemTest {\n",
    "\t\n",
    "\titem f: A;\n",
    "\n",
    "\tpublic item def A {\n",
    "\t\titem b: B;\n",
    "\t\tprotected ref part c: C;\n",
    "\t}\n",
    "\t\n",
    "\tabstract item def B {\n",
    "\t\tpublic abstract part a: A;\n",
    "\t}\n",
    "\t\n",
    "\tprivate part def C {\n",
    "\t\tprivate in ref y: A, B;\n",
    "\t}\n",
    "\t\n",
    "\tport def P {\n",
    "\t\tin item a1: A;\n",
    "\t\tout item a2: A;\n",
    "\t}\n",
    "\t\n",
    "}"
   ]
  },
  {
   "cell_type": "code",
   "execution_count": 2,
   "id": "15451644",
   "metadata": {
    "execution": {
     "iopub.execute_input": "2022-08-19T08:17:26.853825Z",
     "iopub.status.busy": "2022-08-19T08:17:26.853383Z",
     "iopub.status.idle": "2022-08-19T08:17:27.344661Z",
     "shell.execute_reply": "2022-08-19T08:17:27.344206Z"
    }
   },
   "outputs": [
    {
     "data": {
      "image/svg+xml": [
       "<?xml version=\"1.0\" encoding=\"UTF-8\" standalone=\"no\"?><svg xmlns=\"http://www.w3.org/2000/svg\" xmlns:xlink=\"http://www.w3.org/1999/xlink\" contentScriptType=\"application/ecmascript\" contentStyleType=\"text/css\" height=\"818px\" preserveAspectRatio=\"none\" style=\"width:270px;height:818px;\" version=\"1.1\" viewBox=\"0 0 270 818\" width=\"270px\" zoomAndPan=\"magnify\"><defs/><g><!--MD5=[fbc87193dbaf4d95561dea2c320d4a47]\n",
       "cluster E1--><a href=\"psysml:ae8f2d08-e2f6-41ef-ae81-a483692b435b\" target=\"_top\" title=\"psysml:ae8f2d08-e2f6-41ef-ae81-a483692b435b\" xlink:actuate=\"onRequest\" xlink:href=\"psysml:ae8f2d08-e2f6-41ef-ae81-a483692b435b\" xlink:show=\"new\" xlink:title=\"psysml:ae8f2d08-e2f6-41ef-ae81-a483692b435b\" xlink:type=\"simple\"><polygon fill=\"#FFFFFF\" points=\"16,6,83,6,90,28.2969,248,28.2969,248,806,16,806,16,6\" style=\"stroke: #000000; stroke-width: 1.5;\"/><line style=\"stroke: #000000; stroke-width: 1.5;\" x1=\"16\" x2=\"90\" y1=\"28.2969\" y2=\"28.2969\"/><text fill=\"#000000\" font-family=\"sans-serif\" font-size=\"14\" font-weight=\"bold\" lengthAdjust=\"spacingAndGlyphs\" textLength=\"61\" x=\"20\" y=\"20.9951\">ItemTest</text></a><!--MD5=[b4997ac47864f28c2f74865a473b2911]\n",
       "class E2--><a href=\"psysml:cbd0bd62-e912-4912-a2fb-da1e68d4f615\" target=\"_top\" title=\"psysml:cbd0bd62-e912-4912-a2fb-da1e68d4f615\" xlink:actuate=\"onRequest\" xlink:href=\"psysml:cbd0bd62-e912-4912-a2fb-da1e68d4f615\" xlink:show=\"new\" xlink:title=\"psysml:cbd0bd62-e912-4912-a2fb-da1e68d4f615\" xlink:type=\"simple\"><rect fill=\"#FFFFFF\" height=\"45.9375\" id=\"E2\" rx=\"10\" ry=\"10\" style=\"stroke: #383838; stroke-width: 1.5;\" width=\"43\" x=\"188.5\" y=\"148\"/><text fill=\"#000000\" font-family=\"sans-serif\" font-size=\"12\" font-style=\"italic\" lengthAdjust=\"spacingAndGlyphs\" textLength=\"41\" x=\"189.5\" y=\"164.1387\">«item»</text><text fill=\"#000000\" font-family=\"sans-serif\" font-size=\"12\" lengthAdjust=\"spacingAndGlyphs\" textLength=\"20\" x=\"198\" y=\"178.1074\">f: A</text><line style=\"stroke: #383838; stroke-width: 1.5;\" x1=\"189.5\" x2=\"230.5\" y1=\"185.9375\" y2=\"185.9375\"/></a><!--MD5=[09b614a08d8cba4a07c9adeb5e0fee81]\n",
       "class E3--><a href=\"psysml:2b189b42-edf1-49d6-a72b-40b548d68a1d\" target=\"_top\" title=\"psysml:2b189b42-edf1-49d6-a72b-40b548d68a1d\" xlink:actuate=\"onRequest\" xlink:href=\"psysml:2b189b42-edf1-49d6-a72b-40b548d68a1d\" xlink:show=\"new\" xlink:title=\"psysml:2b189b42-edf1-49d6-a72b-40b548d68a1d\" xlink:type=\"simple\"><rect fill=\"#FFFFFF\" height=\"45.9375\" id=\"E3\" style=\"stroke: #383838; stroke-width: 1.5;\" width=\"71\" x=\"96.5\" y=\"255\"/><text fill=\"#000000\" font-family=\"sans-serif\" font-size=\"12\" font-style=\"italic\" lengthAdjust=\"spacingAndGlyphs\" textLength=\"69\" x=\"97.5\" y=\"271.1387\">«item  def»</text><text fill=\"#000000\" font-family=\"sans-serif\" font-size=\"12\" lengthAdjust=\"spacingAndGlyphs\" textLength=\"8\" x=\"128\" y=\"285.1074\">A</text><line style=\"stroke: #383838; stroke-width: 1.5;\" x1=\"97.5\" x2=\"166.5\" y1=\"292.9375\" y2=\"292.9375\"/></a><!--MD5=[ebbe1d658d1005bcc118a6aa81145e00]\n",
       "class E4--><a href=\"psysml:94aeed99-fa0f-4cf3-9a3c-c07fcd3df143\" target=\"_top\" title=\"psysml:94aeed99-fa0f-4cf3-9a3c-c07fcd3df143\" xlink:actuate=\"onRequest\" xlink:href=\"psysml:94aeed99-fa0f-4cf3-9a3c-c07fcd3df143\" xlink:show=\"new\" xlink:title=\"psysml:94aeed99-fa0f-4cf3-9a3c-c07fcd3df143\" xlink:type=\"simple\"><rect fill=\"#FFFFFF\" height=\"45.9375\" id=\"E4\" rx=\"10\" ry=\"10\" style=\"stroke: #383838; stroke-width: 1.5;\" width=\"43\" x=\"45.5\" y=\"438\"/><text fill=\"#000000\" font-family=\"sans-serif\" font-size=\"12\" font-style=\"italic\" lengthAdjust=\"spacingAndGlyphs\" textLength=\"41\" x=\"46.5\" y=\"454.1387\">«item»</text><text fill=\"#000000\" font-family=\"sans-serif\" font-size=\"12\" lengthAdjust=\"spacingAndGlyphs\" textLength=\"24\" x=\"53\" y=\"468.1074\">b: B</text><line style=\"stroke: #383838; stroke-width: 1.5;\" x1=\"46.5\" x2=\"87.5\" y1=\"475.9375\" y2=\"475.9375\"/></a><!--MD5=[270fce915f116d4de14055a7c1d9a0f3]\n",
       "class E5--><a href=\"psysml:74f7fd5f-8520-4aae-9a17-942775661558\" target=\"_top\" title=\"psysml:74f7fd5f-8520-4aae-9a17-942775661558\" xlink:actuate=\"onRequest\" xlink:href=\"psysml:74f7fd5f-8520-4aae-9a17-942775661558\" xlink:show=\"new\" xlink:title=\"psysml:74f7fd5f-8520-4aae-9a17-942775661558\" xlink:type=\"simple\"><rect fill=\"#FFFFFF\" height=\"45.9375\" id=\"E5\" rx=\"10\" ry=\"10\" style=\"stroke: #383838; stroke-width: 1.5;\" width=\"42\" x=\"151\" y=\"362\"/><text fill=\"#000000\" font-family=\"sans-serif\" font-size=\"12\" font-style=\"italic\" lengthAdjust=\"spacingAndGlyphs\" textLength=\"40\" x=\"152\" y=\"378.1387\">«part»</text><text fill=\"#000000\" font-family=\"sans-serif\" font-size=\"12\" lengthAdjust=\"spacingAndGlyphs\" textLength=\"23\" x=\"158.5\" y=\"392.1074\">c: C</text><line style=\"stroke: #383838; stroke-width: 1.5;\" x1=\"152\" x2=\"192\" y1=\"399.9375\" y2=\"399.9375\"/></a><!--MD5=[60a26617385b1d2d0262a64233df1f8d]\n",
       "class E6--><a href=\"psysml:f1885442-e1dd-46d9-92aa-2427019de9de\" target=\"_top\" title=\"psysml:f1885442-e1dd-46d9-92aa-2427019de9de\" xlink:actuate=\"onRequest\" xlink:href=\"psysml:f1885442-e1dd-46d9-92aa-2427019de9de\" xlink:show=\"new\" xlink:title=\"psysml:f1885442-e1dd-46d9-92aa-2427019de9de\" xlink:type=\"simple\"><rect fill=\"#FFFFFF\" height=\"45.9375\" id=\"E6\" style=\"stroke: #383838; stroke-width: 1.5;\" width=\"71\" x=\"112.5\" y=\"637\"/><text fill=\"#000000\" font-family=\"sans-serif\" font-size=\"12\" font-style=\"italic\" lengthAdjust=\"spacingAndGlyphs\" textLength=\"69\" x=\"113.5\" y=\"653.1387\">«item  def»</text><text fill=\"#000000\" font-family=\"sans-serif\" font-size=\"12\" font-style=\"italic\" lengthAdjust=\"spacingAndGlyphs\" textLength=\"8\" x=\"144\" y=\"667.1074\">B</text><line style=\"stroke: #383838; stroke-width: 1.5;\" x1=\"113.5\" x2=\"182.5\" y1=\"674.9375\" y2=\"674.9375\"/></a><!--MD5=[2156ba9850f5573cc1fc38a6a4b2f02b]\n",
       "class E7--><a href=\"psysml:cc0b7000-21b2-4abb-bead-e88feeed0b85\" target=\"_top\" title=\"psysml:cc0b7000-21b2-4abb-bead-e88feeed0b85\" xlink:actuate=\"onRequest\" xlink:href=\"psysml:cc0b7000-21b2-4abb-bead-e88feeed0b85\" xlink:show=\"new\" xlink:title=\"psysml:cc0b7000-21b2-4abb-bead-e88feeed0b85\" xlink:type=\"simple\"><rect fill=\"#FFFFFF\" height=\"45.9375\" id=\"E7\" rx=\"10\" ry=\"10\" style=\"stroke: #383838; stroke-width: 1.5;\" width=\"42\" x=\"159\" y=\"744\"/><text fill=\"#000000\" font-family=\"sans-serif\" font-size=\"12\" font-style=\"italic\" lengthAdjust=\"spacingAndGlyphs\" textLength=\"40\" x=\"160\" y=\"760.1387\">«part»</text><text fill=\"#000000\" font-family=\"sans-serif\" font-size=\"12\" font-style=\"italic\" lengthAdjust=\"spacingAndGlyphs\" textLength=\"8\" x=\"166\" y=\"774.1074\">a</text><text fill=\"#000000\" font-family=\"sans-serif\" font-size=\"12\" lengthAdjust=\"spacingAndGlyphs\" textLength=\"16\" x=\"174\" y=\"774.1074\">: A</text><line style=\"stroke: #383838; stroke-width: 1.5;\" x1=\"160\" x2=\"200\" y1=\"781.9375\" y2=\"781.9375\"/></a><!--MD5=[b9389687b975829384b498ac4b7476b2]\n",
       "class E8--><a href=\"psysml:6db780a5-cf23-40f2-9df9-03150cb096d0\" target=\"_top\" title=\"psysml:6db780a5-cf23-40f2-9df9-03150cb096d0\" xlink:actuate=\"onRequest\" xlink:href=\"psysml:6db780a5-cf23-40f2-9df9-03150cb096d0\" xlink:show=\"new\" xlink:title=\"psysml:6db780a5-cf23-40f2-9df9-03150cb096d0\" xlink:type=\"simple\"><rect fill=\"#FFFFFF\" height=\"45.9375\" id=\"E8\" style=\"stroke: #383838; stroke-width: 1.5;\" width=\"70\" x=\"113\" y=\"514\"/><text fill=\"#000000\" font-family=\"sans-serif\" font-size=\"12\" font-style=\"italic\" lengthAdjust=\"spacingAndGlyphs\" textLength=\"68\" x=\"114\" y=\"530.1387\">«part  def»</text><text fill=\"#000000\" font-family=\"sans-serif\" font-size=\"12\" lengthAdjust=\"spacingAndGlyphs\" textLength=\"8\" x=\"144\" y=\"544.1074\">C</text><line style=\"stroke: #383838; stroke-width: 1.5;\" x1=\"114\" x2=\"182\" y1=\"551.9375\" y2=\"551.9375\"/></a><!--MD5=[fd4143e9d270a159db93a4ea2a975926]\n",
       "class E9--><a href=\"psysml:587854cf-6fe1-483d-a698-c7fca9a0c13c\" target=\"_top\" title=\"psysml:587854cf-6fe1-483d-a698-c7fca9a0c13c\" xlink:actuate=\"onRequest\" xlink:href=\"psysml:587854cf-6fe1-483d-a698-c7fca9a0c13c\" xlink:show=\"new\" xlink:title=\"psysml:587854cf-6fe1-483d-a698-c7fca9a0c13c\" xlink:type=\"simple\"><rect fill=\"#FFFFFF\" height=\"45.9375\" id=\"E9\" style=\"stroke: #383838; stroke-width: 1.5;\" width=\"70\" x=\"64\" y=\"41\"/><text fill=\"#000000\" font-family=\"sans-serif\" font-size=\"12\" font-style=\"italic\" lengthAdjust=\"spacingAndGlyphs\" textLength=\"68\" x=\"65\" y=\"57.1387\">«port  def»</text><text fill=\"#000000\" font-family=\"sans-serif\" font-size=\"12\" lengthAdjust=\"spacingAndGlyphs\" textLength=\"8\" x=\"95\" y=\"71.1074\">P</text><line style=\"stroke: #383838; stroke-width: 1.5;\" x1=\"65\" x2=\"133\" y1=\"78.9375\" y2=\"78.9375\"/></a><!--MD5=[96f4274e9e20536e775497830990834d]\n",
       "class E10--><a href=\"psysml:f73739ed-5364-4403-8254-d4f943238dfa\" target=\"_top\" title=\"psysml:f73739ed-5364-4403-8254-d4f943238dfa\" xlink:actuate=\"onRequest\" xlink:href=\"psysml:f73739ed-5364-4403-8254-d4f943238dfa\" xlink:show=\"new\" xlink:title=\"psysml:f73739ed-5364-4403-8254-d4f943238dfa\" xlink:type=\"simple\"><rect fill=\"#FFFFFF\" height=\"45.9375\" id=\"E10\" rx=\"10\" ry=\"10\" style=\"stroke: #383838; stroke-width: 1.5;\" width=\"43\" x=\"32.5\" y=\"148\"/><text fill=\"#000000\" font-family=\"sans-serif\" font-size=\"12\" font-style=\"italic\" lengthAdjust=\"spacingAndGlyphs\" textLength=\"41\" x=\"33.5\" y=\"164.1387\">«item»</text><text fill=\"#000000\" font-family=\"sans-serif\" font-size=\"12\" lengthAdjust=\"spacingAndGlyphs\" textLength=\"32\" x=\"36\" y=\"178.1074\">a1: A</text><line style=\"stroke: #383838; stroke-width: 1.5;\" x1=\"33.5\" x2=\"74.5\" y1=\"185.9375\" y2=\"185.9375\"/></a><!--MD5=[1dd1bfd58a279cf63c5f349dbc8fc6a1]\n",
       "class E11--><a href=\"psysml:6a7a2def-0eff-4194-80a2-af7f6b4a129e\" target=\"_top\" title=\"psysml:6a7a2def-0eff-4194-80a2-af7f6b4a129e\" xlink:actuate=\"onRequest\" xlink:href=\"psysml:6a7a2def-0eff-4194-80a2-af7f6b4a129e\" xlink:show=\"new\" xlink:title=\"psysml:6a7a2def-0eff-4194-80a2-af7f6b4a129e\" xlink:type=\"simple\"><rect fill=\"#FFFFFF\" height=\"45.9375\" id=\"E11\" rx=\"10\" ry=\"10\" style=\"stroke: #383838; stroke-width: 1.5;\" width=\"43\" x=\"110.5\" y=\"148\"/><text fill=\"#000000\" font-family=\"sans-serif\" font-size=\"12\" font-style=\"italic\" lengthAdjust=\"spacingAndGlyphs\" textLength=\"41\" x=\"111.5\" y=\"164.1387\">«item»</text><text fill=\"#000000\" font-family=\"sans-serif\" font-size=\"12\" lengthAdjust=\"spacingAndGlyphs\" textLength=\"32\" x=\"114\" y=\"178.1074\">a2: A</text><line style=\"stroke: #383838; stroke-width: 1.5;\" x1=\"111.5\" x2=\"152.5\" y1=\"185.9375\" y2=\"185.9375\"/></a><!--MD5=[2720a5a1f2c3fca2055b230370638851]\n",
       "link E2 to E3--><a href=\"psysml:8851b494-fad9-483d-8771-6e667cb982eb\" target=\"_top\" title=\"psysml:8851b494-fad9-483d-8771-6e667cb982eb\" xlink:actuate=\"onRequest\" xlink:href=\"psysml:8851b494-fad9-483d-8771-6e667cb982eb\" xlink:show=\"new\" xlink:title=\"psysml:8851b494-fad9-483d-8771-6e667cb982eb\" xlink:type=\"simple\"><path d=\"M193.65,194.01 C184.14,206.81 171.89,223.3 160.82,238.2 \" fill=\"none\" id=\"E2-&gt;E3\" style=\"stroke: #383838; stroke-width: 1.0;\"/><polygon fill=\"#FFFFFF\" points=\"148.6,254.66,154.3195,235.2361,165.5543,243.5896,148.6,254.66\" style=\"stroke: #383838; stroke-width: 1.0;\"/><ellipse cx=\"159.3256\" cy=\"231.8554\" fill=\"#383838\" rx=\"2\" ry=\"2\" style=\"stroke: #383838; stroke-width: 1.0;\"/><ellipse cx=\"167.3504\" cy=\"237.8221\" fill=\"#383838\" rx=\"2\" ry=\"2\" style=\"stroke: #383838; stroke-width: 1.0;\"/></a><!--MD5=[4672eba38e49728da53d11aeb285b987]\n",
       "reverse link E3 to E4--><a href=\"psysml:bbc4490d-4884-4bf2-8394-3cd2641c3130\" target=\"_top\" title=\"psysml:bbc4490d-4884-4bf2-8394-3cd2641c3130\" xlink:actuate=\"onRequest\" xlink:href=\"psysml:bbc4490d-4884-4bf2-8394-3cd2641c3130\" xlink:show=\"new\" xlink:title=\"psysml:bbc4490d-4884-4bf2-8394-3cd2641c3130\" xlink:type=\"simple\"><path d=\"M97.11,310.9 C84.08,325.11 70.81,342.94 64,362 C55.12,386.85 58.09,417.53 61.82,437.88 \" fill=\"none\" id=\"E3&lt;-E4\" style=\"stroke: #383838; stroke-width: 1.0;\"/><polygon fill=\"#FFFFFF\" points=\"106.46,301.23,99.4153,302.7703,98.1277,309.8655,105.1724,308.3252,106.46,301.23\" style=\"stroke: #383838; stroke-width: 1.0;\"/><text fill=\"#000000\" font-family=\"sans-serif\" font-size=\"13\" lengthAdjust=\"spacingAndGlyphs\" textLength=\"8\" x=\"51.3529\" y=\"426.744\">1</text></a><!--MD5=[191cde3d490a3f6d7bb551fe3ddca469]\n",
       "reverse link E3 to E5--><a href=\"psysml:896e58a4-3d4e-4523-9980-c4907a158d3f\" target=\"_top\" title=\"psysml:896e58a4-3d4e-4523-9980-c4907a158d3f\" xlink:actuate=\"onRequest\" xlink:href=\"psysml:896e58a4-3d4e-4523-9980-c4907a158d3f\" xlink:show=\"new\" xlink:title=\"psysml:896e58a4-3d4e-4523-9980-c4907a158d3f\" xlink:type=\"simple\"><path d=\"M145.17,313.57 C151.2,329.39 158.16,347.68 163.49,361.66 \" fill=\"none\" id=\"E3&lt;-E5\" style=\"stroke: #383838; stroke-width: 1.0;\"/><polygon fill=\"#FFFFFF\" points=\"140.39,301.01,138.7866,308.0406,144.6598,312.2247,146.2631,305.1941,140.39,301.01\" style=\"stroke: #383838; stroke-width: 1.0;\"/><text fill=\"#000000\" font-family=\"sans-serif\" font-size=\"13\" lengthAdjust=\"spacingAndGlyphs\" textLength=\"8\" x=\"152.2843\" y=\"350.8492\">1</text></a><!--MD5=[79568f1e445c3877b6a54524624ccc7d]\n",
       "link E4 to E6--><a href=\"psysml:ae089d5e-98d2-4386-a1f6-d9056ad7f1db\" target=\"_top\" title=\"psysml:ae089d5e-98d2-4386-a1f6-d9056ad7f1db\" xlink:actuate=\"onRequest\" xlink:href=\"psysml:ae089d5e-98d2-4386-a1f6-d9056ad7f1db\" xlink:show=\"new\" xlink:title=\"psysml:ae089d5e-98d2-4386-a1f6-d9056ad7f1db\" xlink:type=\"simple\"><path d=\"M72.25,484.22 C77.31,504.36 85.72,534.68 96,560 C104.15,580.08 115.08,601.47 124.82,619.21 \" fill=\"none\" id=\"E4-&gt;E6\" style=\"stroke: #383838; stroke-width: 1.0;\"/><polygon fill=\"#FFFFFF\" points=\"134.72,636.8,119.2979,623.6791,131.4967,616.8097,134.72,636.8\" style=\"stroke: #383838; stroke-width: 1.0;\"/><ellipse cx=\"118.2438\" cy=\"617.7311\" fill=\"#383838\" rx=\"2\" ry=\"2\" style=\"stroke: #383838; stroke-width: 1.0;\"/><ellipse cx=\"126.9572\" cy=\"612.8244\" fill=\"#383838\" rx=\"2\" ry=\"2\" style=\"stroke: #383838; stroke-width: 1.0;\"/></a><!--MD5=[3f50a3473f1dfb74d3f76443e03635af]\n",
       "reverse link E6 to E7--><a href=\"psysml:f93e67a1-8e91-4b72-abc4-aff48dcc0ebf\" target=\"_top\" title=\"psysml:f93e67a1-8e91-4b72-abc4-aff48dcc0ebf\" xlink:actuate=\"onRequest\" xlink:href=\"psysml:f93e67a1-8e91-4b72-abc4-aff48dcc0ebf\" xlink:show=\"new\" xlink:title=\"psysml:f93e67a1-8e91-4b72-abc4-aff48dcc0ebf\" xlink:type=\"simple\"><path d=\"M158.54,695.57 C163.36,711.39 168.93,729.68 173.19,743.66 \" fill=\"none\" id=\"E6&lt;-E7\" style=\"stroke: #383838; stroke-width: 1.0;\"/><polygon fill=\"#FFFFFF\" points=\"154.71,683.01,152.6319,689.9152,158.2066,694.4893,160.2847,687.5841,154.71,683.01\" style=\"stroke: #383838; stroke-width: 1.0;\"/><text fill=\"#000000\" font-family=\"sans-serif\" font-size=\"13\" lengthAdjust=\"spacingAndGlyphs\" textLength=\"8\" x=\"162.4199\" y=\"732.8492\">1</text></a><!--MD5=[14ccda38c055a5c0da953d572bc50960]\n",
       "link E7 to E3--><a href=\"psysml:729e96ed-f9a8-4349-a416-61bf2a977bd8\" target=\"_top\" title=\"psysml:729e96ed-f9a8-4349-a416-61bf2a977bd8\" xlink:actuate=\"onRequest\" xlink:href=\"psysml:729e96ed-f9a8-4349-a416-61bf2a977bd8\" xlink:show=\"new\" xlink:title=\"psysml:729e96ed-f9a8-4349-a416-61bf2a977bd8\" xlink:type=\"simple\"><path d=\"M197.41,743.63 C211.5,723.27 229,691.78 229,661 C229,384 229,384 229,384 C229,353.7 206.93,328.42 183.85,310.26 \" fill=\"none\" id=\"E7-&gt;E3\" style=\"stroke: #383838; stroke-width: 1.0;\"/><polygon fill=\"#FFFFFF\" points=\"167.57,298.59,187.0929,303.9617,178.9414,315.3438,167.57,298.59\" style=\"stroke: #383838; stroke-width: 1.0;\"/><ellipse cx=\"190.5626\" cy=\"308.9066\" fill=\"#383838\" rx=\"2\" ry=\"2\" style=\"stroke: #383838; stroke-width: 1.0;\"/><ellipse cx=\"184.7401\" cy=\"317.0367\" fill=\"#383838\" rx=\"2\" ry=\"2\" style=\"stroke: #383838; stroke-width: 1.0;\"/></a><!--MD5=[dfaffb906826c3e5aca635516100ff21]\n",
       "link E5 to E8--><a href=\"psysml:8b27b07a-ba61-4df4-814a-c4b9eba72255\" target=\"_top\" title=\"psysml:8b27b07a-ba61-4df4-814a-c4b9eba72255\" xlink:actuate=\"onRequest\" xlink:href=\"psysml:8b27b07a-ba61-4df4-814a-c4b9eba72255\" xlink:show=\"new\" xlink:title=\"psysml:8b27b07a-ba61-4df4-814a-c4b9eba72255\" xlink:type=\"simple\"><path d=\"M168.46,408.13 C164.86,430.62 159.2,466.01 154.74,493.87 \" fill=\"none\" id=\"E5-&gt;E8\" style=\"stroke: #383838; stroke-width: 1.0;\"/><polygon fill=\"#FFFFFF\" points=\"151.56,513.78,147.6458,493.9135,161.4704,496.1226,151.56,513.78\" style=\"stroke: #383838; stroke-width: 1.0;\"/><ellipse cx=\"150.5202\" cy=\"488.6005\" fill=\"#383838\" rx=\"2\" ry=\"2\" style=\"stroke: #383838; stroke-width: 1.0;\"/><ellipse cx=\"160.3949\" cy=\"490.1784\" fill=\"#383838\" rx=\"2\" ry=\"2\" style=\"stroke: #383838; stroke-width: 1.0;\"/></a><!--MD5=[03c8294790d3c57651a1993cecff665f]\n",
       "reverse link E8 to E3--><a href=\"psysml:2fa26767-edf9-4f1d-8702-6d0b4fb1afcf\" target=\"_top\" title=\"psysml:2fa26767-edf9-4f1d-8702-6d0b4fb1afcf\" xlink:actuate=\"onRequest\" xlink:href=\"psysml:2fa26767-edf9-4f1d-8702-6d0b4fb1afcf\" xlink:show=\"new\" xlink:title=\"psysml:2fa26767-edf9-4f1d-8702-6d0b4fb1afcf\" xlink:type=\"simple\"><path d=\"M140.02,501.22 C134.57,475.6 127.84,439.84 125,408 C123.18,387.64 124.14,382.43 125,362 C125.87,341.34 127.95,317.86 129.62,301.16 \" fill=\"none\" id=\"E8&lt;-E3\" style=\"stroke: #383838; stroke-width: 1.0;\"/><polygon fill=\"#FFFFFF\" points=\"142.81,513.96,145.4388,507.2451,140.2515,502.2359,137.6227,508.9508,142.81,513.96\" style=\"stroke: #383838; stroke-width: 1.0;\"/><text fill=\"#000000\" font-family=\"sans-serif\" font-size=\"13\" lengthAdjust=\"spacingAndGlyphs\" textLength=\"7\" x=\"126\" y=\"389.5669\">y</text></a><!--MD5=[0d75d2178373a6a4568e5dc728f58aef]\n",
       "reverse link E8 to E6--><a href=\"psysml:2fa26767-edf9-4f1d-8702-6d0b4fb1afcf\" target=\"_top\" title=\"psysml:2fa26767-edf9-4f1d-8702-6d0b4fb1afcf\" xlink:actuate=\"onRequest\" xlink:href=\"psysml:2fa26767-edf9-4f1d-8702-6d0b4fb1afcf\" xlink:show=\"new\" xlink:title=\"psysml:2fa26767-edf9-4f1d-8702-6d0b4fb1afcf\" xlink:type=\"simple\"><path d=\"M148,573.22 C148,593.81 148,619.16 148,636.95 \" fill=\"none\" id=\"E8&lt;-E6\" style=\"stroke: #383838; stroke-width: 1.0;\"/><polygon fill=\"#FFFFFF\" points=\"148,560.19,144,566.19,148,572.19,152,566.19,148,560.19\" style=\"stroke: #383838; stroke-width: 1.0;\"/><text fill=\"#000000\" font-family=\"sans-serif\" font-size=\"13\" lengthAdjust=\"spacingAndGlyphs\" textLength=\"7\" x=\"149\" y=\"603.0669\">y</text></a><!--MD5=[23ac544a70576c3e717098101004234c]\n",
       "reverse link E9 to E10--><a href=\"psysml:2a8d2925-3f72-4e1c-849d-9e3943fa1d15\" target=\"_top\" title=\"psysml:2a8d2925-3f72-4e1c-849d-9e3943fa1d15\" xlink:actuate=\"onRequest\" xlink:href=\"psysml:2a8d2925-3f72-4e1c-849d-9e3943fa1d15\" xlink:show=\"new\" xlink:title=\"psysml:2a8d2925-3f72-4e1c-849d-9e3943fa1d15\" xlink:type=\"simple\"><path d=\"M84.39,99.1 C77.56,115.03 69.63,133.54 63.58,147.66 \" fill=\"none\" id=\"E9&lt;-E10\" style=\"stroke: #383838; stroke-width: 1.0;\"/><polygon fill=\"#FFFFFF\" points=\"89.57,87.01,83.5327,90.9535,84.8509,98.0431,90.8882,94.0996,89.57,87.01\" style=\"stroke: #383838; stroke-width: 1.0;\"/><text fill=\"#000000\" font-family=\"sans-serif\" font-size=\"13\" lengthAdjust=\"spacingAndGlyphs\" textLength=\"8\" x=\"57.0099\" y=\"136.8492\">1</text></a><!--MD5=[feeac5eb423634930294aa81f2d25a4c]\n",
       "link E10 to E3--><a href=\"psysml:be0eb1db-3a2d-4525-bfbd-aed22db095bf\" target=\"_top\" title=\"psysml:be0eb1db-3a2d-4525-bfbd-aed22db095bf\" xlink:actuate=\"onRequest\" xlink:href=\"psysml:be0eb1db-3a2d-4525-bfbd-aed22db095bf\" xlink:show=\"new\" xlink:title=\"psysml:be0eb1db-3a2d-4525-bfbd-aed22db095bf\" xlink:type=\"simple\"><path d=\"M70.35,194.01 C79.86,206.81 92.11,223.3 103.18,238.2 \" fill=\"none\" id=\"E10-&gt;E3\" style=\"stroke: #383838; stroke-width: 1.0;\"/><polygon fill=\"#FFFFFF\" points=\"115.4,254.66,98.4457,243.5896,109.6805,235.2361,115.4,254.66\" style=\"stroke: #383838; stroke-width: 1.0;\"/><ellipse cx=\"96.6496\" cy=\"237.8221\" fill=\"#383838\" rx=\"2\" ry=\"2\" style=\"stroke: #383838; stroke-width: 1.0;\"/><ellipse cx=\"104.6744\" cy=\"231.8554\" fill=\"#383838\" rx=\"2\" ry=\"2\" style=\"stroke: #383838; stroke-width: 1.0;\"/></a><!--MD5=[1fc04a95fd77ad5ce46c1a3027516051]\n",
       "reverse link E9 to E11--><a href=\"psysml:4a4899a0-cca2-49ff-ba55-d15caf476c4f\" target=\"_top\" title=\"psysml:4a4899a0-cca2-49ff-ba55-d15caf476c4f\" xlink:actuate=\"onRequest\" xlink:href=\"psysml:4a4899a0-cca2-49ff-ba55-d15caf476c4f\" xlink:show=\"new\" xlink:title=\"psysml:4a4899a0-cca2-49ff-ba55-d15caf476c4f\" xlink:type=\"simple\"><path d=\"M109.87,99.57 C114.84,115.39 120.59,133.68 124.98,147.66 \" fill=\"none\" id=\"E9&lt;-E11\" style=\"stroke: #383838; stroke-width: 1.0;\"/><polygon fill=\"#FFFFFF\" points=\"105.92,87.01,103.9044,93.9337,109.5203,98.4572,111.5359,91.5335,105.92,87.01\" style=\"stroke: #383838; stroke-width: 1.0;\"/><text fill=\"#000000\" font-family=\"sans-serif\" font-size=\"13\" lengthAdjust=\"spacingAndGlyphs\" textLength=\"8\" x=\"114.1561\" y=\"136.8492\">1</text></a><!--MD5=[0517f1ce58c4d5483948f93845c45e26]\n",
       "link E11 to E3--><a href=\"psysml:8ddae6f0-112f-4ded-9c4d-74dd6bca1f55\" target=\"_top\" title=\"psysml:8ddae6f0-112f-4ded-9c4d-74dd6bca1f55\" xlink:actuate=\"onRequest\" xlink:href=\"psysml:8ddae6f0-112f-4ded-9c4d-74dd6bca1f55\" xlink:show=\"new\" xlink:title=\"psysml:8ddae6f0-112f-4ded-9c4d-74dd6bca1f55\" xlink:type=\"simple\"><path d=\"M132,194.01 C132,205.69 132,220.46 132,234.28 \" fill=\"none\" id=\"E11-&gt;E3\" style=\"stroke: #383838; stroke-width: 1.0;\"/><polygon fill=\"#FFFFFF\" points=\"132,254.66,125,235.66,139,235.66,132,254.66\" style=\"stroke: #383838; stroke-width: 1.0;\"/><ellipse cx=\"127\" cy=\"229.96\" fill=\"#383838\" rx=\"2\" ry=\"2\" style=\"stroke: #383838; stroke-width: 1.0;\"/><ellipse cx=\"137\" cy=\"229.96\" fill=\"#383838\" rx=\"2\" ry=\"2\" style=\"stroke: #383838; stroke-width: 1.0;\"/></a><!--MD5=[a7499d78be803a075c94a105adb25889]\n",
       "@startuml\r\n",
       " skinparam monochrome true\r\n",
       "skinparam classbackgroundcolor white\r\n",
       "skinparam shadowing false\r\n",
       "skinparam wrapWidth 300\r\n",
       "hide circle\r\n",
       "\r\n",
       "package \"ItemTest\" as E1  [[psysml:ae8f2d08-e2f6-41ef-ae81-a483692b435b ]]  {\r\n",
       "comp usage \"f: A \" as E2  <<(T,blue) item>> [[psysml:cbd0bd62-e912-4912-a2fb-da1e68d4f615 ]] {\r\n",
       "}\r\n",
       "comp def \"A\" as E3  <<(T,blue) item  def>> [[psysml:2b189b42-edf1-49d6-a72b-40b548d68a1d ]] {\r\n",
       "}\r\n",
       "comp usage \"b: B \" as E4  <<(T,blue) item>> [[psysml:94aeed99-fa0f-4cf3-9a3c-c07fcd3df143 ]] {\r\n",
       "}\r\n",
       "comp usage \"c: C \" as E5  <<(T,blue) part>> [[psysml:74f7fd5f-8520-4aae-9a17-942775661558 ]] {\r\n",
       "}\r\n",
       "comp def \"<i>B</i>\" as E6  <<(T,blue) item  def>> [[psysml:f1885442-e1dd-46d9-92aa-2427019de9de ]] {\r\n",
       "}\r\n",
       "comp usage \"<i>a</i>: A \" as E7  <<(T,blue) part>> [[psysml:cc0b7000-21b2-4abb-bead-e88feeed0b85 ]] {\r\n",
       "}\r\n",
       "comp def \"C\" as E8  <<(T,blue) part  def>> [[psysml:6db780a5-cf23-40f2-9df9-03150cb096d0 ]] {\r\n",
       "}\r\n",
       "comp def \"P\" as E9  <<(T,blue) port  def>> [[psysml:587854cf-6fe1-483d-a698-c7fca9a0c13c ]] {\r\n",
       "}\r\n",
       "comp usage \"a1: A \" as E10  <<(T,blue) item>> [[psysml:f73739ed-5364-4403-8254-d4f943238dfa ]] {\r\n",
       "}\r\n",
       "comp usage \"a2: A \" as E11  <<(T,blue) item>> [[psysml:6a7a2def-0eff-4194-80a2-af7f6b4a129e ]] {\r\n",
       "}\r\n",
       "}\r\n",
       "E2 - -:|> E3 [[psysml:8851b494-fad9-483d-8771-6e667cb982eb ]] \r\n",
       "E3 o- - \"1\"E4 [[psysml:bbc4490d-4884-4bf2-8394-3cd2641c3130 ]] \r\n",
       "E3 o- - \"1\"E5 [[psysml:896e58a4-3d4e-4523-9980-c4907a158d3f ]] \r\n",
       "E4 - -:|> E6 [[psysml:ae089d5e-98d2-4386-a1f6-d9056ad7f1db ]] \r\n",
       "E6 o- - \"1\"E7 [[psysml:f93e67a1-8e91-4b72-abc4-aff48dcc0ebf ]] \r\n",
       "E7 - -:|> E3 [[psysml:729e96ed-f9a8-4349-a416-61bf2a977bd8 ]] \r\n",
       "E5 - -:|> E8 [[psysml:8b27b07a-ba61-4df4-814a-c4b9eba72255 ]] \r\n",
       "E8 o- - E3 [[psysml:2fa26767-edf9-4f1d-8702-6d0b4fb1afcf ]] : y\r\n",
       "E8 o- - E6 [[psysml:2fa26767-edf9-4f1d-8702-6d0b4fb1afcf ]] : y\r\n",
       "E9 o- - \"1\"E10 [[psysml:2a8d2925-3f72-4e1c-849d-9e3943fa1d15 ]] \r\n",
       "E10 - -:|> E3 [[psysml:be0eb1db-3a2d-4525-bfbd-aed22db095bf ]] \r\n",
       "E9 o- - \"1\"E11 [[psysml:4a4899a0-cca2-49ff-ba55-d15caf476c4f ]] \r\n",
       "E11 - -:|> E3 [[psysml:8ddae6f0-112f-4ded-9c4d-74dd6bca1f55 ]] \r\n",
       "@enduml\r\n",
       "\n",
       "PlantUML version 1.2020.13(Sat Jun 13 12:26:38 UTC 2020)\n",
       "(EPL source distribution)\n",
       "Java Runtime: OpenJDK Runtime Environment\n",
       "JVM: OpenJDK 64-Bit Server VM\n",
       "Default Encoding: UTF-8\n",
       "Language: en\n",
       "Country: null\n",
       "--></g></svg>"
      ]
     },
     "execution_count": 2,
     "metadata": {},
     "output_type": "execute_result"
    }
   ],
   "source": [
    "%viz --style=\"COMPTREE\" --view=\"Default\" \"ItemTest\""
   ]
  },
  {
   "cell_type": "code",
   "execution_count": 3,
   "id": "e75d5094",
   "metadata": {
    "execution": {
     "iopub.execute_input": "2022-08-19T08:17:27.394490Z",
     "iopub.status.busy": "2022-08-19T08:17:27.394006Z",
     "iopub.status.idle": "2022-08-19T08:17:27.495353Z",
     "shell.execute_reply": "2022-08-19T08:17:27.495702Z"
    }
   },
   "outputs": [
    {
     "data": {
      "image/svg+xml": [
       "<?xml version=\"1.0\" encoding=\"UTF-8\" standalone=\"no\"?><svg xmlns=\"http://www.w3.org/2000/svg\" xmlns:xlink=\"http://www.w3.org/1999/xlink\" contentScriptType=\"application/ecmascript\" contentStyleType=\"text/css\" height=\"818px\" preserveAspectRatio=\"none\" style=\"width:270px;height:818px;\" version=\"1.1\" viewBox=\"0 0 270 818\" width=\"270px\" zoomAndPan=\"magnify\"><defs/><g><!--MD5=[fbc87193dbaf4d95561dea2c320d4a47]\n",
       "cluster E1--><a href=\"psysml:ae8f2d08-e2f6-41ef-ae81-a483692b435b\" target=\"_top\" title=\"psysml:ae8f2d08-e2f6-41ef-ae81-a483692b435b\" xlink:actuate=\"onRequest\" xlink:href=\"psysml:ae8f2d08-e2f6-41ef-ae81-a483692b435b\" xlink:show=\"new\" xlink:title=\"psysml:ae8f2d08-e2f6-41ef-ae81-a483692b435b\" xlink:type=\"simple\"><polygon fill=\"#FFFFFF\" points=\"16,6,83,6,90,28.2969,248,28.2969,248,806,16,806,16,6\" style=\"stroke: #000000; stroke-width: 1.5;\"/><line style=\"stroke: #000000; stroke-width: 1.5;\" x1=\"16\" x2=\"90\" y1=\"28.2969\" y2=\"28.2969\"/><text fill=\"#000000\" font-family=\"sans-serif\" font-size=\"14\" font-weight=\"bold\" lengthAdjust=\"spacingAndGlyphs\" textLength=\"61\" x=\"20\" y=\"20.9951\">ItemTest</text></a><!--MD5=[b4997ac47864f28c2f74865a473b2911]\n",
       "class E2--><a href=\"psysml:cbd0bd62-e912-4912-a2fb-da1e68d4f615\" target=\"_top\" title=\"psysml:cbd0bd62-e912-4912-a2fb-da1e68d4f615\" xlink:actuate=\"onRequest\" xlink:href=\"psysml:cbd0bd62-e912-4912-a2fb-da1e68d4f615\" xlink:show=\"new\" xlink:title=\"psysml:cbd0bd62-e912-4912-a2fb-da1e68d4f615\" xlink:type=\"simple\"><rect fill=\"#FFFFFF\" height=\"45.9375\" id=\"E2\" rx=\"10\" ry=\"10\" style=\"stroke: #383838; stroke-width: 1.5;\" width=\"43\" x=\"188.5\" y=\"148\"/><text fill=\"#000000\" font-family=\"sans-serif\" font-size=\"12\" font-style=\"italic\" lengthAdjust=\"spacingAndGlyphs\" textLength=\"41\" x=\"189.5\" y=\"164.1387\">«item»</text><text fill=\"#000000\" font-family=\"sans-serif\" font-size=\"12\" lengthAdjust=\"spacingAndGlyphs\" textLength=\"20\" x=\"198\" y=\"178.1074\">f: A</text><line style=\"stroke: #383838; stroke-width: 1.5;\" x1=\"189.5\" x2=\"230.5\" y1=\"185.9375\" y2=\"185.9375\"/></a><!--MD5=[09b614a08d8cba4a07c9adeb5e0fee81]\n",
       "class E3--><a href=\"psysml:2b189b42-edf1-49d6-a72b-40b548d68a1d\" target=\"_top\" title=\"psysml:2b189b42-edf1-49d6-a72b-40b548d68a1d\" xlink:actuate=\"onRequest\" xlink:href=\"psysml:2b189b42-edf1-49d6-a72b-40b548d68a1d\" xlink:show=\"new\" xlink:title=\"psysml:2b189b42-edf1-49d6-a72b-40b548d68a1d\" xlink:type=\"simple\"><rect fill=\"#FFFFFF\" height=\"45.9375\" id=\"E3\" style=\"stroke: #383838; stroke-width: 1.5;\" width=\"71\" x=\"96.5\" y=\"255\"/><text fill=\"#000000\" font-family=\"sans-serif\" font-size=\"12\" font-style=\"italic\" lengthAdjust=\"spacingAndGlyphs\" textLength=\"69\" x=\"97.5\" y=\"271.1387\">«item  def»</text><text fill=\"#000000\" font-family=\"sans-serif\" font-size=\"12\" lengthAdjust=\"spacingAndGlyphs\" textLength=\"8\" x=\"128\" y=\"285.1074\">A</text><line style=\"stroke: #383838; stroke-width: 1.5;\" x1=\"97.5\" x2=\"166.5\" y1=\"292.9375\" y2=\"292.9375\"/></a><!--MD5=[ebbe1d658d1005bcc118a6aa81145e00]\n",
       "class E4--><a href=\"psysml:94aeed99-fa0f-4cf3-9a3c-c07fcd3df143\" target=\"_top\" title=\"psysml:94aeed99-fa0f-4cf3-9a3c-c07fcd3df143\" xlink:actuate=\"onRequest\" xlink:href=\"psysml:94aeed99-fa0f-4cf3-9a3c-c07fcd3df143\" xlink:show=\"new\" xlink:title=\"psysml:94aeed99-fa0f-4cf3-9a3c-c07fcd3df143\" xlink:type=\"simple\"><rect fill=\"#FFFFFF\" height=\"45.9375\" id=\"E4\" rx=\"10\" ry=\"10\" style=\"stroke: #383838; stroke-width: 1.5;\" width=\"43\" x=\"45.5\" y=\"438\"/><text fill=\"#000000\" font-family=\"sans-serif\" font-size=\"12\" font-style=\"italic\" lengthAdjust=\"spacingAndGlyphs\" textLength=\"41\" x=\"46.5\" y=\"454.1387\">«item»</text><text fill=\"#000000\" font-family=\"sans-serif\" font-size=\"12\" lengthAdjust=\"spacingAndGlyphs\" textLength=\"24\" x=\"53\" y=\"468.1074\">b: B</text><line style=\"stroke: #383838; stroke-width: 1.5;\" x1=\"46.5\" x2=\"87.5\" y1=\"475.9375\" y2=\"475.9375\"/></a><!--MD5=[270fce915f116d4de14055a7c1d9a0f3]\n",
       "class E5--><a href=\"psysml:74f7fd5f-8520-4aae-9a17-942775661558\" target=\"_top\" title=\"psysml:74f7fd5f-8520-4aae-9a17-942775661558\" xlink:actuate=\"onRequest\" xlink:href=\"psysml:74f7fd5f-8520-4aae-9a17-942775661558\" xlink:show=\"new\" xlink:title=\"psysml:74f7fd5f-8520-4aae-9a17-942775661558\" xlink:type=\"simple\"><rect fill=\"#FFFFFF\" height=\"45.9375\" id=\"E5\" rx=\"10\" ry=\"10\" style=\"stroke: #383838; stroke-width: 1.5;\" width=\"42\" x=\"151\" y=\"362\"/><text fill=\"#000000\" font-family=\"sans-serif\" font-size=\"12\" font-style=\"italic\" lengthAdjust=\"spacingAndGlyphs\" textLength=\"40\" x=\"152\" y=\"378.1387\">«part»</text><text fill=\"#000000\" font-family=\"sans-serif\" font-size=\"12\" lengthAdjust=\"spacingAndGlyphs\" textLength=\"23\" x=\"158.5\" y=\"392.1074\">c: C</text><line style=\"stroke: #383838; stroke-width: 1.5;\" x1=\"152\" x2=\"192\" y1=\"399.9375\" y2=\"399.9375\"/></a><!--MD5=[60a26617385b1d2d0262a64233df1f8d]\n",
       "class E6--><a href=\"psysml:f1885442-e1dd-46d9-92aa-2427019de9de\" target=\"_top\" title=\"psysml:f1885442-e1dd-46d9-92aa-2427019de9de\" xlink:actuate=\"onRequest\" xlink:href=\"psysml:f1885442-e1dd-46d9-92aa-2427019de9de\" xlink:show=\"new\" xlink:title=\"psysml:f1885442-e1dd-46d9-92aa-2427019de9de\" xlink:type=\"simple\"><rect fill=\"#FFFFFF\" height=\"45.9375\" id=\"E6\" style=\"stroke: #383838; stroke-width: 1.5;\" width=\"71\" x=\"112.5\" y=\"637\"/><text fill=\"#000000\" font-family=\"sans-serif\" font-size=\"12\" font-style=\"italic\" lengthAdjust=\"spacingAndGlyphs\" textLength=\"69\" x=\"113.5\" y=\"653.1387\">«item  def»</text><text fill=\"#000000\" font-family=\"sans-serif\" font-size=\"12\" font-style=\"italic\" lengthAdjust=\"spacingAndGlyphs\" textLength=\"8\" x=\"144\" y=\"667.1074\">B</text><line style=\"stroke: #383838; stroke-width: 1.5;\" x1=\"113.5\" x2=\"182.5\" y1=\"674.9375\" y2=\"674.9375\"/></a><!--MD5=[2156ba9850f5573cc1fc38a6a4b2f02b]\n",
       "class E7--><a href=\"psysml:cc0b7000-21b2-4abb-bead-e88feeed0b85\" target=\"_top\" title=\"psysml:cc0b7000-21b2-4abb-bead-e88feeed0b85\" xlink:actuate=\"onRequest\" xlink:href=\"psysml:cc0b7000-21b2-4abb-bead-e88feeed0b85\" xlink:show=\"new\" xlink:title=\"psysml:cc0b7000-21b2-4abb-bead-e88feeed0b85\" xlink:type=\"simple\"><rect fill=\"#FFFFFF\" height=\"45.9375\" id=\"E7\" rx=\"10\" ry=\"10\" style=\"stroke: #383838; stroke-width: 1.5;\" width=\"42\" x=\"159\" y=\"744\"/><text fill=\"#000000\" font-family=\"sans-serif\" font-size=\"12\" font-style=\"italic\" lengthAdjust=\"spacingAndGlyphs\" textLength=\"40\" x=\"160\" y=\"760.1387\">«part»</text><text fill=\"#000000\" font-family=\"sans-serif\" font-size=\"12\" font-style=\"italic\" lengthAdjust=\"spacingAndGlyphs\" textLength=\"8\" x=\"166\" y=\"774.1074\">a</text><text fill=\"#000000\" font-family=\"sans-serif\" font-size=\"12\" lengthAdjust=\"spacingAndGlyphs\" textLength=\"16\" x=\"174\" y=\"774.1074\">: A</text><line style=\"stroke: #383838; stroke-width: 1.5;\" x1=\"160\" x2=\"200\" y1=\"781.9375\" y2=\"781.9375\"/></a><!--MD5=[b9389687b975829384b498ac4b7476b2]\n",
       "class E8--><a href=\"psysml:6db780a5-cf23-40f2-9df9-03150cb096d0\" target=\"_top\" title=\"psysml:6db780a5-cf23-40f2-9df9-03150cb096d0\" xlink:actuate=\"onRequest\" xlink:href=\"psysml:6db780a5-cf23-40f2-9df9-03150cb096d0\" xlink:show=\"new\" xlink:title=\"psysml:6db780a5-cf23-40f2-9df9-03150cb096d0\" xlink:type=\"simple\"><rect fill=\"#FFFFFF\" height=\"45.9375\" id=\"E8\" style=\"stroke: #383838; stroke-width: 1.5;\" width=\"70\" x=\"113\" y=\"514\"/><text fill=\"#000000\" font-family=\"sans-serif\" font-size=\"12\" font-style=\"italic\" lengthAdjust=\"spacingAndGlyphs\" textLength=\"68\" x=\"114\" y=\"530.1387\">«part  def»</text><text fill=\"#000000\" font-family=\"sans-serif\" font-size=\"12\" lengthAdjust=\"spacingAndGlyphs\" textLength=\"8\" x=\"144\" y=\"544.1074\">C</text><line style=\"stroke: #383838; stroke-width: 1.5;\" x1=\"114\" x2=\"182\" y1=\"551.9375\" y2=\"551.9375\"/></a><!--MD5=[fd4143e9d270a159db93a4ea2a975926]\n",
       "class E9--><a href=\"psysml:587854cf-6fe1-483d-a698-c7fca9a0c13c\" target=\"_top\" title=\"psysml:587854cf-6fe1-483d-a698-c7fca9a0c13c\" xlink:actuate=\"onRequest\" xlink:href=\"psysml:587854cf-6fe1-483d-a698-c7fca9a0c13c\" xlink:show=\"new\" xlink:title=\"psysml:587854cf-6fe1-483d-a698-c7fca9a0c13c\" xlink:type=\"simple\"><rect fill=\"#FFFFFF\" height=\"45.9375\" id=\"E9\" style=\"stroke: #383838; stroke-width: 1.5;\" width=\"70\" x=\"64\" y=\"41\"/><text fill=\"#000000\" font-family=\"sans-serif\" font-size=\"12\" font-style=\"italic\" lengthAdjust=\"spacingAndGlyphs\" textLength=\"68\" x=\"65\" y=\"57.1387\">«port  def»</text><text fill=\"#000000\" font-family=\"sans-serif\" font-size=\"12\" lengthAdjust=\"spacingAndGlyphs\" textLength=\"8\" x=\"95\" y=\"71.1074\">P</text><line style=\"stroke: #383838; stroke-width: 1.5;\" x1=\"65\" x2=\"133\" y1=\"78.9375\" y2=\"78.9375\"/></a><!--MD5=[96f4274e9e20536e775497830990834d]\n",
       "class E10--><a href=\"psysml:f73739ed-5364-4403-8254-d4f943238dfa\" target=\"_top\" title=\"psysml:f73739ed-5364-4403-8254-d4f943238dfa\" xlink:actuate=\"onRequest\" xlink:href=\"psysml:f73739ed-5364-4403-8254-d4f943238dfa\" xlink:show=\"new\" xlink:title=\"psysml:f73739ed-5364-4403-8254-d4f943238dfa\" xlink:type=\"simple\"><rect fill=\"#FFFFFF\" height=\"45.9375\" id=\"E10\" rx=\"10\" ry=\"10\" style=\"stroke: #383838; stroke-width: 1.5;\" width=\"43\" x=\"32.5\" y=\"148\"/><text fill=\"#000000\" font-family=\"sans-serif\" font-size=\"12\" font-style=\"italic\" lengthAdjust=\"spacingAndGlyphs\" textLength=\"41\" x=\"33.5\" y=\"164.1387\">«item»</text><text fill=\"#000000\" font-family=\"sans-serif\" font-size=\"12\" lengthAdjust=\"spacingAndGlyphs\" textLength=\"32\" x=\"36\" y=\"178.1074\">a1: A</text><line style=\"stroke: #383838; stroke-width: 1.5;\" x1=\"33.5\" x2=\"74.5\" y1=\"185.9375\" y2=\"185.9375\"/></a><!--MD5=[1dd1bfd58a279cf63c5f349dbc8fc6a1]\n",
       "class E11--><a href=\"psysml:6a7a2def-0eff-4194-80a2-af7f6b4a129e\" target=\"_top\" title=\"psysml:6a7a2def-0eff-4194-80a2-af7f6b4a129e\" xlink:actuate=\"onRequest\" xlink:href=\"psysml:6a7a2def-0eff-4194-80a2-af7f6b4a129e\" xlink:show=\"new\" xlink:title=\"psysml:6a7a2def-0eff-4194-80a2-af7f6b4a129e\" xlink:type=\"simple\"><rect fill=\"#FFFFFF\" height=\"45.9375\" id=\"E11\" rx=\"10\" ry=\"10\" style=\"stroke: #383838; stroke-width: 1.5;\" width=\"43\" x=\"110.5\" y=\"148\"/><text fill=\"#000000\" font-family=\"sans-serif\" font-size=\"12\" font-style=\"italic\" lengthAdjust=\"spacingAndGlyphs\" textLength=\"41\" x=\"111.5\" y=\"164.1387\">«item»</text><text fill=\"#000000\" font-family=\"sans-serif\" font-size=\"12\" lengthAdjust=\"spacingAndGlyphs\" textLength=\"32\" x=\"114\" y=\"178.1074\">a2: A</text><line style=\"stroke: #383838; stroke-width: 1.5;\" x1=\"111.5\" x2=\"152.5\" y1=\"185.9375\" y2=\"185.9375\"/></a><!--MD5=[2720a5a1f2c3fca2055b230370638851]\n",
       "link E2 to E3--><a href=\"psysml:8851b494-fad9-483d-8771-6e667cb982eb\" target=\"_top\" title=\"psysml:8851b494-fad9-483d-8771-6e667cb982eb\" xlink:actuate=\"onRequest\" xlink:href=\"psysml:8851b494-fad9-483d-8771-6e667cb982eb\" xlink:show=\"new\" xlink:title=\"psysml:8851b494-fad9-483d-8771-6e667cb982eb\" xlink:type=\"simple\"><path d=\"M193.65,194.01 C184.14,206.81 171.89,223.3 160.82,238.2 \" fill=\"none\" id=\"E2-&gt;E3\" style=\"stroke: #383838; stroke-width: 1.0;\"/><polygon fill=\"#FFFFFF\" points=\"148.6,254.66,154.3195,235.2361,165.5543,243.5896,148.6,254.66\" style=\"stroke: #383838; stroke-width: 1.0;\"/><ellipse cx=\"159.3256\" cy=\"231.8554\" fill=\"#383838\" rx=\"2\" ry=\"2\" style=\"stroke: #383838; stroke-width: 1.0;\"/><ellipse cx=\"167.3504\" cy=\"237.8221\" fill=\"#383838\" rx=\"2\" ry=\"2\" style=\"stroke: #383838; stroke-width: 1.0;\"/></a><!--MD5=[4672eba38e49728da53d11aeb285b987]\n",
       "reverse link E3 to E4--><a href=\"psysml:bbc4490d-4884-4bf2-8394-3cd2641c3130\" target=\"_top\" title=\"psysml:bbc4490d-4884-4bf2-8394-3cd2641c3130\" xlink:actuate=\"onRequest\" xlink:href=\"psysml:bbc4490d-4884-4bf2-8394-3cd2641c3130\" xlink:show=\"new\" xlink:title=\"psysml:bbc4490d-4884-4bf2-8394-3cd2641c3130\" xlink:type=\"simple\"><path d=\"M97.11,310.9 C84.08,325.11 70.81,342.94 64,362 C55.12,386.85 58.09,417.53 61.82,437.88 \" fill=\"none\" id=\"E3&lt;-E4\" style=\"stroke: #383838; stroke-width: 1.0;\"/><polygon fill=\"#FFFFFF\" points=\"106.46,301.23,99.4153,302.7703,98.1277,309.8655,105.1724,308.3252,106.46,301.23\" style=\"stroke: #383838; stroke-width: 1.0;\"/><text fill=\"#000000\" font-family=\"sans-serif\" font-size=\"13\" lengthAdjust=\"spacingAndGlyphs\" textLength=\"8\" x=\"51.3529\" y=\"426.744\">1</text></a><!--MD5=[191cde3d490a3f6d7bb551fe3ddca469]\n",
       "reverse link E3 to E5--><a href=\"psysml:896e58a4-3d4e-4523-9980-c4907a158d3f\" target=\"_top\" title=\"psysml:896e58a4-3d4e-4523-9980-c4907a158d3f\" xlink:actuate=\"onRequest\" xlink:href=\"psysml:896e58a4-3d4e-4523-9980-c4907a158d3f\" xlink:show=\"new\" xlink:title=\"psysml:896e58a4-3d4e-4523-9980-c4907a158d3f\" xlink:type=\"simple\"><path d=\"M145.17,313.57 C151.2,329.39 158.16,347.68 163.49,361.66 \" fill=\"none\" id=\"E3&lt;-E5\" style=\"stroke: #383838; stroke-width: 1.0;\"/><polygon fill=\"#FFFFFF\" points=\"140.39,301.01,138.7866,308.0406,144.6598,312.2247,146.2631,305.1941,140.39,301.01\" style=\"stroke: #383838; stroke-width: 1.0;\"/><text fill=\"#000000\" font-family=\"sans-serif\" font-size=\"13\" lengthAdjust=\"spacingAndGlyphs\" textLength=\"8\" x=\"152.2843\" y=\"350.8492\">1</text></a><!--MD5=[79568f1e445c3877b6a54524624ccc7d]\n",
       "link E4 to E6--><a href=\"psysml:ae089d5e-98d2-4386-a1f6-d9056ad7f1db\" target=\"_top\" title=\"psysml:ae089d5e-98d2-4386-a1f6-d9056ad7f1db\" xlink:actuate=\"onRequest\" xlink:href=\"psysml:ae089d5e-98d2-4386-a1f6-d9056ad7f1db\" xlink:show=\"new\" xlink:title=\"psysml:ae089d5e-98d2-4386-a1f6-d9056ad7f1db\" xlink:type=\"simple\"><path d=\"M72.25,484.22 C77.31,504.36 85.72,534.68 96,560 C104.15,580.08 115.08,601.47 124.82,619.21 \" fill=\"none\" id=\"E4-&gt;E6\" style=\"stroke: #383838; stroke-width: 1.0;\"/><polygon fill=\"#FFFFFF\" points=\"134.72,636.8,119.2979,623.6791,131.4967,616.8097,134.72,636.8\" style=\"stroke: #383838; stroke-width: 1.0;\"/><ellipse cx=\"118.2438\" cy=\"617.7311\" fill=\"#383838\" rx=\"2\" ry=\"2\" style=\"stroke: #383838; stroke-width: 1.0;\"/><ellipse cx=\"126.9572\" cy=\"612.8244\" fill=\"#383838\" rx=\"2\" ry=\"2\" style=\"stroke: #383838; stroke-width: 1.0;\"/></a><!--MD5=[3f50a3473f1dfb74d3f76443e03635af]\n",
       "reverse link E6 to E7--><a href=\"psysml:f93e67a1-8e91-4b72-abc4-aff48dcc0ebf\" target=\"_top\" title=\"psysml:f93e67a1-8e91-4b72-abc4-aff48dcc0ebf\" xlink:actuate=\"onRequest\" xlink:href=\"psysml:f93e67a1-8e91-4b72-abc4-aff48dcc0ebf\" xlink:show=\"new\" xlink:title=\"psysml:f93e67a1-8e91-4b72-abc4-aff48dcc0ebf\" xlink:type=\"simple\"><path d=\"M158.54,695.57 C163.36,711.39 168.93,729.68 173.19,743.66 \" fill=\"none\" id=\"E6&lt;-E7\" style=\"stroke: #383838; stroke-width: 1.0;\"/><polygon fill=\"#FFFFFF\" points=\"154.71,683.01,152.6319,689.9152,158.2066,694.4893,160.2847,687.5841,154.71,683.01\" style=\"stroke: #383838; stroke-width: 1.0;\"/><text fill=\"#000000\" font-family=\"sans-serif\" font-size=\"13\" lengthAdjust=\"spacingAndGlyphs\" textLength=\"8\" x=\"162.4199\" y=\"732.8492\">1</text></a><!--MD5=[14ccda38c055a5c0da953d572bc50960]\n",
       "link E7 to E3--><a href=\"psysml:729e96ed-f9a8-4349-a416-61bf2a977bd8\" target=\"_top\" title=\"psysml:729e96ed-f9a8-4349-a416-61bf2a977bd8\" xlink:actuate=\"onRequest\" xlink:href=\"psysml:729e96ed-f9a8-4349-a416-61bf2a977bd8\" xlink:show=\"new\" xlink:title=\"psysml:729e96ed-f9a8-4349-a416-61bf2a977bd8\" xlink:type=\"simple\"><path d=\"M197.41,743.63 C211.5,723.27 229,691.78 229,661 C229,384 229,384 229,384 C229,353.7 206.93,328.42 183.85,310.26 \" fill=\"none\" id=\"E7-&gt;E3\" style=\"stroke: #383838; stroke-width: 1.0;\"/><polygon fill=\"#FFFFFF\" points=\"167.57,298.59,187.0929,303.9617,178.9414,315.3438,167.57,298.59\" style=\"stroke: #383838; stroke-width: 1.0;\"/><ellipse cx=\"190.5626\" cy=\"308.9066\" fill=\"#383838\" rx=\"2\" ry=\"2\" style=\"stroke: #383838; stroke-width: 1.0;\"/><ellipse cx=\"184.7401\" cy=\"317.0367\" fill=\"#383838\" rx=\"2\" ry=\"2\" style=\"stroke: #383838; stroke-width: 1.0;\"/></a><!--MD5=[dfaffb906826c3e5aca635516100ff21]\n",
       "link E5 to E8--><a href=\"psysml:8b27b07a-ba61-4df4-814a-c4b9eba72255\" target=\"_top\" title=\"psysml:8b27b07a-ba61-4df4-814a-c4b9eba72255\" xlink:actuate=\"onRequest\" xlink:href=\"psysml:8b27b07a-ba61-4df4-814a-c4b9eba72255\" xlink:show=\"new\" xlink:title=\"psysml:8b27b07a-ba61-4df4-814a-c4b9eba72255\" xlink:type=\"simple\"><path d=\"M168.46,408.13 C164.86,430.62 159.2,466.01 154.74,493.87 \" fill=\"none\" id=\"E5-&gt;E8\" style=\"stroke: #383838; stroke-width: 1.0;\"/><polygon fill=\"#FFFFFF\" points=\"151.56,513.78,147.6458,493.9135,161.4704,496.1226,151.56,513.78\" style=\"stroke: #383838; stroke-width: 1.0;\"/><ellipse cx=\"150.5202\" cy=\"488.6005\" fill=\"#383838\" rx=\"2\" ry=\"2\" style=\"stroke: #383838; stroke-width: 1.0;\"/><ellipse cx=\"160.3949\" cy=\"490.1784\" fill=\"#383838\" rx=\"2\" ry=\"2\" style=\"stroke: #383838; stroke-width: 1.0;\"/></a><!--MD5=[03c8294790d3c57651a1993cecff665f]\n",
       "reverse link E8 to E3--><a href=\"psysml:2fa26767-edf9-4f1d-8702-6d0b4fb1afcf\" target=\"_top\" title=\"psysml:2fa26767-edf9-4f1d-8702-6d0b4fb1afcf\" xlink:actuate=\"onRequest\" xlink:href=\"psysml:2fa26767-edf9-4f1d-8702-6d0b4fb1afcf\" xlink:show=\"new\" xlink:title=\"psysml:2fa26767-edf9-4f1d-8702-6d0b4fb1afcf\" xlink:type=\"simple\"><path d=\"M140.02,501.22 C134.57,475.6 127.84,439.84 125,408 C123.18,387.64 124.14,382.43 125,362 C125.87,341.34 127.95,317.86 129.62,301.16 \" fill=\"none\" id=\"E8&lt;-E3\" style=\"stroke: #383838; stroke-width: 1.0;\"/><polygon fill=\"#FFFFFF\" points=\"142.81,513.96,145.4388,507.2451,140.2515,502.2359,137.6227,508.9508,142.81,513.96\" style=\"stroke: #383838; stroke-width: 1.0;\"/><text fill=\"#000000\" font-family=\"sans-serif\" font-size=\"13\" lengthAdjust=\"spacingAndGlyphs\" textLength=\"7\" x=\"126\" y=\"389.5669\">y</text></a><!--MD5=[0d75d2178373a6a4568e5dc728f58aef]\n",
       "reverse link E8 to E6--><a href=\"psysml:2fa26767-edf9-4f1d-8702-6d0b4fb1afcf\" target=\"_top\" title=\"psysml:2fa26767-edf9-4f1d-8702-6d0b4fb1afcf\" xlink:actuate=\"onRequest\" xlink:href=\"psysml:2fa26767-edf9-4f1d-8702-6d0b4fb1afcf\" xlink:show=\"new\" xlink:title=\"psysml:2fa26767-edf9-4f1d-8702-6d0b4fb1afcf\" xlink:type=\"simple\"><path d=\"M148,573.22 C148,593.81 148,619.16 148,636.95 \" fill=\"none\" id=\"E8&lt;-E6\" style=\"stroke: #383838; stroke-width: 1.0;\"/><polygon fill=\"#FFFFFF\" points=\"148,560.19,144,566.19,148,572.19,152,566.19,148,560.19\" style=\"stroke: #383838; stroke-width: 1.0;\"/><text fill=\"#000000\" font-family=\"sans-serif\" font-size=\"13\" lengthAdjust=\"spacingAndGlyphs\" textLength=\"7\" x=\"149\" y=\"603.0669\">y</text></a><!--MD5=[23ac544a70576c3e717098101004234c]\n",
       "reverse link E9 to E10--><a href=\"psysml:2a8d2925-3f72-4e1c-849d-9e3943fa1d15\" target=\"_top\" title=\"psysml:2a8d2925-3f72-4e1c-849d-9e3943fa1d15\" xlink:actuate=\"onRequest\" xlink:href=\"psysml:2a8d2925-3f72-4e1c-849d-9e3943fa1d15\" xlink:show=\"new\" xlink:title=\"psysml:2a8d2925-3f72-4e1c-849d-9e3943fa1d15\" xlink:type=\"simple\"><path d=\"M84.39,99.1 C77.56,115.03 69.63,133.54 63.58,147.66 \" fill=\"none\" id=\"E9&lt;-E10\" style=\"stroke: #383838; stroke-width: 1.0;\"/><polygon fill=\"#FFFFFF\" points=\"89.57,87.01,83.5327,90.9535,84.8509,98.0431,90.8882,94.0996,89.57,87.01\" style=\"stroke: #383838; stroke-width: 1.0;\"/><text fill=\"#000000\" font-family=\"sans-serif\" font-size=\"13\" lengthAdjust=\"spacingAndGlyphs\" textLength=\"8\" x=\"57.0099\" y=\"136.8492\">1</text></a><!--MD5=[feeac5eb423634930294aa81f2d25a4c]\n",
       "link E10 to E3--><a href=\"psysml:be0eb1db-3a2d-4525-bfbd-aed22db095bf\" target=\"_top\" title=\"psysml:be0eb1db-3a2d-4525-bfbd-aed22db095bf\" xlink:actuate=\"onRequest\" xlink:href=\"psysml:be0eb1db-3a2d-4525-bfbd-aed22db095bf\" xlink:show=\"new\" xlink:title=\"psysml:be0eb1db-3a2d-4525-bfbd-aed22db095bf\" xlink:type=\"simple\"><path d=\"M70.35,194.01 C79.86,206.81 92.11,223.3 103.18,238.2 \" fill=\"none\" id=\"E10-&gt;E3\" style=\"stroke: #383838; stroke-width: 1.0;\"/><polygon fill=\"#FFFFFF\" points=\"115.4,254.66,98.4457,243.5896,109.6805,235.2361,115.4,254.66\" style=\"stroke: #383838; stroke-width: 1.0;\"/><ellipse cx=\"96.6496\" cy=\"237.8221\" fill=\"#383838\" rx=\"2\" ry=\"2\" style=\"stroke: #383838; stroke-width: 1.0;\"/><ellipse cx=\"104.6744\" cy=\"231.8554\" fill=\"#383838\" rx=\"2\" ry=\"2\" style=\"stroke: #383838; stroke-width: 1.0;\"/></a><!--MD5=[1fc04a95fd77ad5ce46c1a3027516051]\n",
       "reverse link E9 to E11--><a href=\"psysml:4a4899a0-cca2-49ff-ba55-d15caf476c4f\" target=\"_top\" title=\"psysml:4a4899a0-cca2-49ff-ba55-d15caf476c4f\" xlink:actuate=\"onRequest\" xlink:href=\"psysml:4a4899a0-cca2-49ff-ba55-d15caf476c4f\" xlink:show=\"new\" xlink:title=\"psysml:4a4899a0-cca2-49ff-ba55-d15caf476c4f\" xlink:type=\"simple\"><path d=\"M109.87,99.57 C114.84,115.39 120.59,133.68 124.98,147.66 \" fill=\"none\" id=\"E9&lt;-E11\" style=\"stroke: #383838; stroke-width: 1.0;\"/><polygon fill=\"#FFFFFF\" points=\"105.92,87.01,103.9044,93.9337,109.5203,98.4572,111.5359,91.5335,105.92,87.01\" style=\"stroke: #383838; stroke-width: 1.0;\"/><text fill=\"#000000\" font-family=\"sans-serif\" font-size=\"13\" lengthAdjust=\"spacingAndGlyphs\" textLength=\"8\" x=\"114.1561\" y=\"136.8492\">1</text></a><!--MD5=[0517f1ce58c4d5483948f93845c45e26]\n",
       "link E11 to E3--><a href=\"psysml:8ddae6f0-112f-4ded-9c4d-74dd6bca1f55\" target=\"_top\" title=\"psysml:8ddae6f0-112f-4ded-9c4d-74dd6bca1f55\" xlink:actuate=\"onRequest\" xlink:href=\"psysml:8ddae6f0-112f-4ded-9c4d-74dd6bca1f55\" xlink:show=\"new\" xlink:title=\"psysml:8ddae6f0-112f-4ded-9c4d-74dd6bca1f55\" xlink:type=\"simple\"><path d=\"M132,194.01 C132,205.69 132,220.46 132,234.28 \" fill=\"none\" id=\"E11-&gt;E3\" style=\"stroke: #383838; stroke-width: 1.0;\"/><polygon fill=\"#FFFFFF\" points=\"132,254.66,125,235.66,139,235.66,132,254.66\" style=\"stroke: #383838; stroke-width: 1.0;\"/><ellipse cx=\"127\" cy=\"229.96\" fill=\"#383838\" rx=\"2\" ry=\"2\" style=\"stroke: #383838; stroke-width: 1.0;\"/><ellipse cx=\"137\" cy=\"229.96\" fill=\"#383838\" rx=\"2\" ry=\"2\" style=\"stroke: #383838; stroke-width: 1.0;\"/></a><!--MD5=[a7499d78be803a075c94a105adb25889]\n",
       "@startuml\r\n",
       " skinparam monochrome true\r\n",
       "skinparam classbackgroundcolor white\r\n",
       "skinparam shadowing false\r\n",
       "skinparam wrapWidth 300\r\n",
       "hide circle\r\n",
       "\r\n",
       "package \"ItemTest\" as E1  [[psysml:ae8f2d08-e2f6-41ef-ae81-a483692b435b ]]  {\r\n",
       "comp usage \"f: A \" as E2  <<(T,blue) item>> [[psysml:cbd0bd62-e912-4912-a2fb-da1e68d4f615 ]] {\r\n",
       "}\r\n",
       "comp def \"A\" as E3  <<(T,blue) item  def>> [[psysml:2b189b42-edf1-49d6-a72b-40b548d68a1d ]] {\r\n",
       "}\r\n",
       "comp usage \"b: B \" as E4  <<(T,blue) item>> [[psysml:94aeed99-fa0f-4cf3-9a3c-c07fcd3df143 ]] {\r\n",
       "}\r\n",
       "comp usage \"c: C \" as E5  <<(T,blue) part>> [[psysml:74f7fd5f-8520-4aae-9a17-942775661558 ]] {\r\n",
       "}\r\n",
       "comp def \"<i>B</i>\" as E6  <<(T,blue) item  def>> [[psysml:f1885442-e1dd-46d9-92aa-2427019de9de ]] {\r\n",
       "}\r\n",
       "comp usage \"<i>a</i>: A \" as E7  <<(T,blue) part>> [[psysml:cc0b7000-21b2-4abb-bead-e88feeed0b85 ]] {\r\n",
       "}\r\n",
       "comp def \"C\" as E8  <<(T,blue) part  def>> [[psysml:6db780a5-cf23-40f2-9df9-03150cb096d0 ]] {\r\n",
       "}\r\n",
       "comp def \"P\" as E9  <<(T,blue) port  def>> [[psysml:587854cf-6fe1-483d-a698-c7fca9a0c13c ]] {\r\n",
       "}\r\n",
       "comp usage \"a1: A \" as E10  <<(T,blue) item>> [[psysml:f73739ed-5364-4403-8254-d4f943238dfa ]] {\r\n",
       "}\r\n",
       "comp usage \"a2: A \" as E11  <<(T,blue) item>> [[psysml:6a7a2def-0eff-4194-80a2-af7f6b4a129e ]] {\r\n",
       "}\r\n",
       "}\r\n",
       "E2 - -:|> E3 [[psysml:8851b494-fad9-483d-8771-6e667cb982eb ]] \r\n",
       "E3 o- - \"1\"E4 [[psysml:bbc4490d-4884-4bf2-8394-3cd2641c3130 ]] \r\n",
       "E3 o- - \"1\"E5 [[psysml:896e58a4-3d4e-4523-9980-c4907a158d3f ]] \r\n",
       "E4 - -:|> E6 [[psysml:ae089d5e-98d2-4386-a1f6-d9056ad7f1db ]] \r\n",
       "E6 o- - \"1\"E7 [[psysml:f93e67a1-8e91-4b72-abc4-aff48dcc0ebf ]] \r\n",
       "E7 - -:|> E3 [[psysml:729e96ed-f9a8-4349-a416-61bf2a977bd8 ]] \r\n",
       "E5 - -:|> E8 [[psysml:8b27b07a-ba61-4df4-814a-c4b9eba72255 ]] \r\n",
       "E8 o- - E3 [[psysml:2fa26767-edf9-4f1d-8702-6d0b4fb1afcf ]] : y\r\n",
       "E8 o- - E6 [[psysml:2fa26767-edf9-4f1d-8702-6d0b4fb1afcf ]] : y\r\n",
       "E9 o- - \"1\"E10 [[psysml:2a8d2925-3f72-4e1c-849d-9e3943fa1d15 ]] \r\n",
       "E10 - -:|> E3 [[psysml:be0eb1db-3a2d-4525-bfbd-aed22db095bf ]] \r\n",
       "E9 o- - \"1\"E11 [[psysml:4a4899a0-cca2-49ff-ba55-d15caf476c4f ]] \r\n",
       "E11 - -:|> E3 [[psysml:8ddae6f0-112f-4ded-9c4d-74dd6bca1f55 ]] \r\n",
       "@enduml\r\n",
       "\n",
       "PlantUML version 1.2020.13(Sat Jun 13 12:26:38 UTC 2020)\n",
       "(EPL source distribution)\n",
       "Java Runtime: OpenJDK Runtime Environment\n",
       "JVM: OpenJDK 64-Bit Server VM\n",
       "Default Encoding: UTF-8\n",
       "Language: en\n",
       "Country: null\n",
       "--></g></svg>"
      ]
     },
     "execution_count": 3,
     "metadata": {},
     "output_type": "execute_result"
    }
   ],
   "source": [
    "%viz --style=\"COMPTREE\" --view=\"Tree\" \"ItemTest\""
   ]
  },
  {
   "cell_type": "code",
   "execution_count": 4,
   "id": "1d339dd5",
   "metadata": {
    "execution": {
     "iopub.execute_input": "2022-08-19T08:17:27.546342Z",
     "iopub.status.busy": "2022-08-19T08:17:27.545718Z",
     "iopub.status.idle": "2022-08-19T08:17:27.554445Z",
     "shell.execute_reply": "2022-08-19T08:17:27.554777Z"
    }
   },
   "outputs": [
    {
     "data": {
      "image/svg+xml": [
       "<?xml version=\"1.0\" encoding=\"UTF-8\" standalone=\"no\"?><svg xmlns=\"http://www.w3.org/2000/svg\" xmlns:xlink=\"http://www.w3.org/1999/xlink\" contentScriptType=\"application/ecmascript\" contentStyleType=\"text/css\" height=\"12px\" preserveAspectRatio=\"none\" style=\"width:12px;height:12px;\" version=\"1.1\" viewBox=\"0 0 12 12\" width=\"12px\" zoomAndPan=\"magnify\"><defs/><g><!--MD5=[f19188ef49e11757b5c46753f95d9edc]\n",
       "@startuml\r\n",
       " skinparam monochrome true\r\n",
       "skinparam classbackgroundcolor white\r\n",
       "skinparam shadowing false\r\n",
       "skinparam wrapWidth 300\r\n",
       "hide circle\r\n",
       "\r\n",
       "@enduml\r\n",
       "\n",
       "PlantUML version 1.2020.13(Sat Jun 13 12:26:38 UTC 2020)\n",
       "(EPL source distribution)\n",
       "Java Runtime: OpenJDK Runtime Environment\n",
       "JVM: OpenJDK 64-Bit Server VM\n",
       "Default Encoding: UTF-8\n",
       "Language: en\n",
       "Country: null\n",
       "--></g></svg>"
      ]
     },
     "execution_count": 4,
     "metadata": {},
     "output_type": "execute_result"
    }
   ],
   "source": [
    "%viz --style=\"COMPTREE\" --view=\"State\" \"ItemTest\""
   ]
  },
  {
   "cell_type": "code",
   "execution_count": 5,
   "id": "b1ce0efa",
   "metadata": {
    "execution": {
     "iopub.execute_input": "2022-08-19T08:17:27.605108Z",
     "iopub.status.busy": "2022-08-19T08:17:27.604634Z",
     "iopub.status.idle": "2022-08-19T08:17:27.659139Z",
     "shell.execute_reply": "2022-08-19T08:17:27.659474Z"
    }
   },
   "outputs": [
    {
     "data": {
      "image/svg+xml": [
       "<?xml version=\"1.0\" encoding=\"UTF-8\" standalone=\"no\"?><svg xmlns=\"http://www.w3.org/2000/svg\" xmlns:xlink=\"http://www.w3.org/1999/xlink\" contentScriptType=\"application/ecmascript\" contentStyleType=\"text/css\" height=\"246px\" preserveAspectRatio=\"none\" style=\"width:483px;height:246px;\" version=\"1.1\" viewBox=\"0 0 483 246\" width=\"483px\" zoomAndPan=\"magnify\"><defs/><g><!--MD5=[fbc87193dbaf4d95561dea2c320d4a47]\n",
       "cluster E1--><a href=\"psysml:ae8f2d08-e2f6-41ef-ae81-a483692b435b\" target=\"_top\" title=\"psysml:ae8f2d08-e2f6-41ef-ae81-a483692b435b\" xlink:actuate=\"onRequest\" xlink:href=\"psysml:ae8f2d08-e2f6-41ef-ae81-a483692b435b\" xlink:show=\"new\" xlink:title=\"psysml:ae8f2d08-e2f6-41ef-ae81-a483692b435b\" xlink:type=\"simple\"><polygon fill=\"#FFFFFF\" points=\"16,6,83,6,90,28.2969,461,28.2969,461,234,16,234,16,6\" style=\"stroke: #000000; stroke-width: 1.5;\"/><line style=\"stroke: #000000; stroke-width: 1.5;\" x1=\"16\" x2=\"90\" y1=\"28.2969\" y2=\"28.2969\"/><text fill=\"#000000\" font-family=\"sans-serif\" font-size=\"14\" font-weight=\"bold\" lengthAdjust=\"spacingAndGlyphs\" textLength=\"61\" x=\"20\" y=\"20.9951\">ItemTest</text></a><!--MD5=[de5ec2e2e8f62f467e546659f5068c88]\n",
       "cluster E5--><a href=\"psysml:6db780a5-cf23-40f2-9df9-03150cb096d0\" target=\"_top\" title=\"psysml:6db780a5-cf23-40f2-9df9-03150cb096d0\" xlink:actuate=\"onRequest\" xlink:href=\"psysml:6db780a5-cf23-40f2-9df9-03150cb096d0\" xlink:show=\"new\" xlink:title=\"psysml:6db780a5-cf23-40f2-9df9-03150cb096d0\" xlink:type=\"simple\"><rect fill=\"#FFFFFF\" height=\"110\" id=\"E5\" style=\"stroke: #383838; stroke-width: 1.5;\" width=\"114\" x=\"323\" y=\"49\"/><rect fill=\"#F8F8F8\" height=\"37.9375\" style=\"stroke: #383838; stroke-width: 1.5;\" width=\"114\" x=\"323\" y=\"49\"/><text fill=\"#000000\" font-family=\"sans-serif\" font-size=\"12\" font-style=\"italic\" lengthAdjust=\"spacingAndGlyphs\" textLength=\"68\" x=\"346\" y=\"65.1387\">«part  def»</text><text fill=\"#000000\" font-family=\"sans-serif\" font-size=\"12\" lengthAdjust=\"spacingAndGlyphs\" textLength=\"8\" x=\"376\" y=\"79.1074\">C</text></a><g id=\"E1.E3\"><a href=\"psysml:2b189b42-edf1-49d6-a72b-40b548d68a1d\" target=\"_top\" title=\"psysml:2b189b42-edf1-49d6-a72b-40b548d68a1d\" xlink:actuate=\"onRequest\" xlink:href=\"psysml:2b189b42-edf1-49d6-a72b-40b548d68a1d\" xlink:show=\"new\" xlink:title=\"psysml:2b189b42-edf1-49d6-a72b-40b548d68a1d\" xlink:type=\"simple\"><rect fill=\"#FFFFFF\" height=\"42.9375\" id=\"E3\" style=\"stroke: #383838; stroke-width: 1.5;\" width=\"76\" x=\"32\" y=\"175\"/><rect fill=\"#F8F8F8\" height=\"37.9375\" style=\"stroke: #383838; stroke-width: 1.5;\" width=\"76\" x=\"32\" y=\"175\"/><text fill=\"#000000\" font-family=\"sans-serif\" font-size=\"12\" font-style=\"italic\" lengthAdjust=\"spacingAndGlyphs\" textLength=\"69\" x=\"35.5\" y=\"191.1387\">«item  def»</text><text fill=\"#000000\" font-family=\"sans-serif\" font-size=\"12\" lengthAdjust=\"spacingAndGlyphs\" textLength=\"8\" x=\"66\" y=\"205.1074\">A</text></a></g><g id=\"E1.E4\"><a href=\"psysml:f1885442-e1dd-46d9-92aa-2427019de9de\" target=\"_top\" title=\"psysml:f1885442-e1dd-46d9-92aa-2427019de9de\" xlink:actuate=\"onRequest\" xlink:href=\"psysml:f1885442-e1dd-46d9-92aa-2427019de9de\" xlink:show=\"new\" xlink:title=\"psysml:f1885442-e1dd-46d9-92aa-2427019de9de\" xlink:type=\"simple\"><rect fill=\"#FFFFFF\" height=\"42.9375\" id=\"E4\" style=\"stroke: #383838; stroke-width: 1.5;\" width=\"76\" x=\"228\" y=\"100\"/><rect fill=\"#F8F8F8\" height=\"37.9375\" style=\"stroke: #383838; stroke-width: 1.5;\" width=\"76\" x=\"228\" y=\"100\"/><text fill=\"#000000\" font-family=\"sans-serif\" font-size=\"12\" font-style=\"italic\" lengthAdjust=\"spacingAndGlyphs\" textLength=\"69\" x=\"231.5\" y=\"116.1387\">«item  def»</text><text fill=\"#000000\" font-family=\"sans-serif\" font-size=\"12\" font-style=\"italic\" lengthAdjust=\"spacingAndGlyphs\" textLength=\"8\" x=\"262\" y=\"130.1074\">B</text></a></g><g id=\"E1.E7\"><a href=\"psysml:587854cf-6fe1-483d-a698-c7fca9a0c13c\" target=\"_top\" title=\"psysml:587854cf-6fe1-483d-a698-c7fca9a0c13c\" xlink:actuate=\"onRequest\" xlink:href=\"psysml:587854cf-6fe1-483d-a698-c7fca9a0c13c\" xlink:show=\"new\" xlink:title=\"psysml:587854cf-6fe1-483d-a698-c7fca9a0c13c\" xlink:type=\"simple\"><rect fill=\"#FFFFFF\" height=\"42.9375\" id=\"E7\" style=\"stroke: #383838; stroke-width: 1.5;\" width=\"75\" x=\"117.5\" y=\"100\"/><rect fill=\"#F8F8F8\" height=\"37.9375\" style=\"stroke: #383838; stroke-width: 1.5;\" width=\"75\" x=\"117.5\" y=\"100\"/><text fill=\"#000000\" font-family=\"sans-serif\" font-size=\"12\" font-style=\"italic\" lengthAdjust=\"spacingAndGlyphs\" textLength=\"68\" x=\"121\" y=\"116.1387\">«port  def»</text><text fill=\"#000000\" font-family=\"sans-serif\" font-size=\"12\" lengthAdjust=\"spacingAndGlyphs\" textLength=\"8\" x=\"151\" y=\"130.1074\">P</text></a></g><g id=\"E1.E2\"><a href=\"psysml:cbd0bd62-e912-4912-a2fb-da1e68d4f615\" target=\"_top\" title=\"psysml:cbd0bd62-e912-4912-a2fb-da1e68d4f615\" xlink:actuate=\"onRequest\" xlink:href=\"psysml:cbd0bd62-e912-4912-a2fb-da1e68d4f615\" xlink:show=\"new\" xlink:title=\"psysml:cbd0bd62-e912-4912-a2fb-da1e68d4f615\" xlink:type=\"simple\"><rect fill=\"#FFFFFF\" height=\"42.9375\" id=\"E2\" rx=\"10\" ry=\"10\" style=\"stroke: #383838; stroke-width: 1.5;\" width=\"50\" x=\"32\" y=\"100\"/><rect fill=\"#F8F8F8\" height=\"37.9375\" rx=\"10\" ry=\"10\" style=\"stroke: #F8F8F8; stroke-width: 1.5;\" width=\"50\" x=\"32\" y=\"100\"/><rect fill=\"#F8F8F8\" height=\"10\" style=\"stroke: #F8F8F8; stroke-width: 1.5;\" width=\"50\" x=\"32\" y=\"127.9375\"/><rect fill=\"none\" height=\"42.9375\" id=\"E2\" rx=\"10\" ry=\"10\" style=\"stroke: #383838; stroke-width: 1.5;\" width=\"50\" x=\"32\" y=\"100\"/><text fill=\"#000000\" font-family=\"sans-serif\" font-size=\"12\" font-style=\"italic\" lengthAdjust=\"spacingAndGlyphs\" textLength=\"41\" x=\"36.5\" y=\"116.1387\">«item»</text><text fill=\"#000000\" font-family=\"sans-serif\" font-size=\"12\" lengthAdjust=\"spacingAndGlyphs\" textLength=\"20\" x=\"47\" y=\"130.1074\">f: A</text></a></g><g id=\"E1.E5.E6\"><a href=\"psysml:2fa26767-edf9-4f1d-8702-6d0b4fb1afcf\" target=\"_top\" title=\"psysml:2fa26767-edf9-4f1d-8702-6d0b4fb1afcf\" xlink:actuate=\"onRequest\" xlink:href=\"psysml:2fa26767-edf9-4f1d-8702-6d0b4fb1afcf\" xlink:show=\"new\" xlink:title=\"psysml:2fa26767-edf9-4f1d-8702-6d0b4fb1afcf\" xlink:type=\"simple\"><rect fill=\"#FFFFFF\" height=\"42.9375\" id=\"E6\" rx=\"10\" ry=\"10\" style=\"stroke: #383838; stroke-width: 1.5;\" width=\"82\" x=\"339\" y=\"100\"/><rect fill=\"#F8F8F8\" height=\"37.9375\" rx=\"10\" ry=\"10\" style=\"stroke: #F8F8F8; stroke-width: 1.5;\" width=\"82\" x=\"339\" y=\"100\"/><rect fill=\"#F8F8F8\" height=\"10\" style=\"stroke: #F8F8F8; stroke-width: 1.5;\" width=\"82\" x=\"339\" y=\"127.9375\"/><rect fill=\"none\" height=\"42.9375\" id=\"E6\" rx=\"10\" ry=\"10\" style=\"stroke: #383838; stroke-width: 1.5;\" width=\"82\" x=\"339\" y=\"100\"/><text fill=\"#000000\" font-family=\"sans-serif\" font-size=\"12\" font-style=\"italic\" lengthAdjust=\"spacingAndGlyphs\" textLength=\"75\" x=\"342.5\" y=\"116.1387\">«reference»</text><text fill=\"#000000\" font-family=\"sans-serif\" font-size=\"12\" lengthAdjust=\"spacingAndGlyphs\" textLength=\"38\" x=\"359\" y=\"130.1074\">y: A, B</text></a></g><!--MD5=[2720a5a1f2c3fca2055b230370638851]\n",
       "link E2 to E3--><a href=\"psysml:8851b494-fad9-483d-8771-6e667cb982eb\" target=\"_top\" title=\"psysml:8851b494-fad9-483d-8771-6e667cb982eb\" xlink:actuate=\"onRequest\" xlink:href=\"psysml:8851b494-fad9-483d-8771-6e667cb982eb\" xlink:show=\"new\" xlink:title=\"psysml:8851b494-fad9-483d-8771-6e667cb982eb\" xlink:type=\"simple\"><path d=\"M60.69,143.22 C61.37,147.03 62.1,151.12 62.84,155.28 \" fill=\"none\" id=\"E2-&gt;E3\" style=\"stroke: #383838; stroke-width: 1.0;\"/><polygon fill=\"#FFFFFF\" points=\"66.35,174.98,56.1322,157.4987,69.916,155.048,66.35,174.98\" style=\"stroke: #383838; stroke-width: 1.0;\"/><ellipse cx=\"57.1035\" cy=\"151.5366\" fill=\"#383838\" rx=\"2\" ry=\"2\" style=\"stroke: #383838; stroke-width: 1.0;\"/><ellipse cx=\"66.9491\" cy=\"149.7861\" fill=\"#383838\" rx=\"2\" ry=\"2\" style=\"stroke: #383838; stroke-width: 1.0;\"/></a><!--MD5=[fe828efd8edb25ffb57076b891afe09f]\n",
       "@startuml\r\n",
       "skinparam ranksep 10\r\n",
       "skinparam rectangle {\r\n",
       " backgroundColor<<block>> LightGreen\r\n",
       "}\r\n",
       " skinparam monochrome true\r\n",
       "skinparam classbackgroundcolor white\r\n",
       "skinparam shadowing false\r\n",
       "skinparam wrapWidth 300\r\n",
       "hide circle\r\n",
       "\r\n",
       "package \"ItemTest\" as E1  [[psysml:ae8f2d08-e2f6-41ef-ae81-a483692b435b ]]  {\r\n",
       "rec usage \"f: A\" as E2  <<(T,blue) item>> [[psysml:cbd0bd62-e912-4912-a2fb-da1e68d4f615 ]] {\r\n",
       "}\r\n",
       "def \"A\" as E3  <<(T,blue) item  def>> [[psysml:2b189b42-edf1-49d6-a72b-40b548d68a1d ]] \r\n",
       "def \"<i>B</i>\" as E4  <<(T,blue) item  def>> [[psysml:f1885442-e1dd-46d9-92aa-2427019de9de ]] \r\n",
       "rec def \"C\" as E5  <<(T,blue) part  def>> [[psysml:6db780a5-cf23-40f2-9df9-03150cb096d0 ]] {\r\n",
       "rec usage \"y: A, B \" as E6  <<(T,blue) reference>> [[psysml:2fa26767-edf9-4f1d-8702-6d0b4fb1afcf ]] {\r\n",
       "}\r\n",
       "\r\n",
       "}\r\n",
       "def \"P\" as E7  <<(T,blue) port  def>> [[psysml:587854cf-6fe1-483d-a698-c7fca9a0c13c ]] \r\n",
       "}\r\n",
       "E2 - -:|> E3 [[psysml:8851b494-fad9-483d-8771-6e667cb982eb ]] \r\n",
       "@enduml\r\n",
       "\n",
       "PlantUML version 1.2020.13(Sat Jun 13 12:26:38 UTC 2020)\n",
       "(EPL source distribution)\n",
       "Java Runtime: OpenJDK Runtime Environment\n",
       "JVM: OpenJDK 64-Bit Server VM\n",
       "Default Encoding: UTF-8\n",
       "Language: en\n",
       "Country: null\n",
       "--></g></svg>"
      ]
     },
     "execution_count": 5,
     "metadata": {},
     "output_type": "execute_result"
    }
   ],
   "source": [
    "%viz --style=\"COMPTREE\" --view=\"Interconnection\" \"ItemTest\""
   ]
  },
  {
   "cell_type": "code",
   "execution_count": 6,
   "id": "21975f7c",
   "metadata": {
    "execution": {
     "iopub.execute_input": "2022-08-19T08:17:27.709348Z",
     "iopub.status.busy": "2022-08-19T08:17:27.708857Z",
     "iopub.status.idle": "2022-08-19T08:17:27.717764Z",
     "shell.execute_reply": "2022-08-19T08:17:27.718224Z"
    }
   },
   "outputs": [
    {
     "data": {
      "image/svg+xml": [
       "<?xml version=\"1.0\" encoding=\"UTF-8\" standalone=\"no\"?><svg xmlns=\"http://www.w3.org/2000/svg\" xmlns:xlink=\"http://www.w3.org/1999/xlink\" contentScriptType=\"application/ecmascript\" contentStyleType=\"text/css\" height=\"12px\" preserveAspectRatio=\"none\" style=\"width:12px;height:12px;\" version=\"1.1\" viewBox=\"0 0 12 12\" width=\"12px\" zoomAndPan=\"magnify\"><defs/><g><!--MD5=[655b888544ca4751ea36af1068543f84]\n",
       "@startuml\r\n",
       "skinparam ranksep 8\r\n",
       " skinparam monochrome true\r\n",
       "skinparam classbackgroundcolor white\r\n",
       "skinparam shadowing false\r\n",
       "skinparam wrapWidth 300\r\n",
       "hide circle\r\n",
       "\r\n",
       "@enduml\r\n",
       "\n",
       "PlantUML version 1.2020.13(Sat Jun 13 12:26:38 UTC 2020)\n",
       "(EPL source distribution)\n",
       "Java Runtime: OpenJDK Runtime Environment\n",
       "JVM: OpenJDK 64-Bit Server VM\n",
       "Default Encoding: UTF-8\n",
       "Language: en\n",
       "Country: null\n",
       "--></g></svg>"
      ]
     },
     "execution_count": 6,
     "metadata": {},
     "output_type": "execute_result"
    }
   ],
   "source": [
    "%viz --style=\"COMPTREE\" --view=\"Action\" \"ItemTest\""
   ]
  },
  {
   "cell_type": "code",
   "execution_count": 7,
   "id": "7a32ea9b",
   "metadata": {
    "execution": {
     "iopub.execute_input": "2022-08-19T08:17:27.768534Z",
     "iopub.status.busy": "2022-08-19T08:17:27.768040Z",
     "iopub.status.idle": "2022-08-19T08:17:27.781140Z",
     "shell.execute_reply": "2022-08-19T08:17:27.781478Z"
    }
   },
   "outputs": [
    {
     "data": {
      "image/svg+xml": [
       "<?xml version=\"1.0\" encoding=\"UTF-8\" standalone=\"no\"?><svg xmlns=\"http://www.w3.org/2000/svg\" xmlns:xlink=\"http://www.w3.org/1999/xlink\" contentScriptType=\"application/ecmascript\" contentStyleType=\"text/css\" height=\"12px\" preserveAspectRatio=\"none\" style=\"width:12px;height:12px;\" version=\"1.1\" viewBox=\"0 0 12 12\" width=\"12px\" zoomAndPan=\"magnify\"><defs/><g><!--MD5=[803fc46c337be7a5c8a9831e35356779]\n",
       "@startuml\r\n",
       "skinparam roundcorner 20\r\n",
       "skinparam BoxPadding 20\r\n",
       "skinparam SequenceBoxBackgroundColor #white\r\n",
       "skinparam style strictuml\r\n",
       "skinparam maxMessageSize 100\r\n",
       " skinparam monochrome true\r\n",
       "skinparam classbackgroundcolor white\r\n",
       "skinparam shadowing false\r\n",
       "skinparam wrapWidth 300\r\n",
       "hide circle\r\n",
       "\r\n",
       "@enduml\r\n",
       "\n",
       "PlantUML version 1.2020.13(Sat Jun 13 12:26:38 UTC 2020)\n",
       "(EPL source distribution)\n",
       "Java Runtime: OpenJDK Runtime Environment\n",
       "JVM: OpenJDK 64-Bit Server VM\n",
       "Default Encoding: UTF-8\n",
       "Language: en\n",
       "Country: null\n",
       "--></g></svg>"
      ]
     },
     "execution_count": 7,
     "metadata": {},
     "output_type": "execute_result"
    }
   ],
   "source": [
    "%viz --style=\"COMPTREE\" --view=\"Sequence\" \"ItemTest\""
   ]
  },
  {
   "cell_type": "code",
   "execution_count": 8,
   "id": "34b79d57",
   "metadata": {
    "execution": {
     "iopub.execute_input": "2022-08-19T08:17:27.831711Z",
     "iopub.status.busy": "2022-08-19T08:17:27.831237Z",
     "iopub.status.idle": "2022-08-19T08:17:27.896026Z",
     "shell.execute_reply": "2022-08-19T08:17:27.895669Z"
    }
   },
   "outputs": [
    {
     "data": {
      "image/svg+xml": [
       "<?xml version=\"1.0\" encoding=\"UTF-8\" standalone=\"no\"?><svg xmlns=\"http://www.w3.org/2000/svg\" xmlns:xlink=\"http://www.w3.org/1999/xlink\" contentScriptType=\"application/ecmascript\" contentStyleType=\"text/css\" height=\"818px\" preserveAspectRatio=\"none\" style=\"width:270px;height:818px;\" version=\"1.1\" viewBox=\"0 0 270 818\" width=\"270px\" zoomAndPan=\"magnify\"><defs/><g><!--MD5=[fbc87193dbaf4d95561dea2c320d4a47]\n",
       "cluster E1--><a href=\"psysml:ae8f2d08-e2f6-41ef-ae81-a483692b435b\" target=\"_top\" title=\"psysml:ae8f2d08-e2f6-41ef-ae81-a483692b435b\" xlink:actuate=\"onRequest\" xlink:href=\"psysml:ae8f2d08-e2f6-41ef-ae81-a483692b435b\" xlink:show=\"new\" xlink:title=\"psysml:ae8f2d08-e2f6-41ef-ae81-a483692b435b\" xlink:type=\"simple\"><polygon fill=\"#FFFFFF\" points=\"16,6,83,6,90,28.2969,248,28.2969,248,806,16,806,16,6\" style=\"stroke: #000000; stroke-width: 1.5;\"/><line style=\"stroke: #000000; stroke-width: 1.5;\" x1=\"16\" x2=\"90\" y1=\"28.2969\" y2=\"28.2969\"/><text fill=\"#000000\" font-family=\"sans-serif\" font-size=\"14\" font-weight=\"bold\" lengthAdjust=\"spacingAndGlyphs\" textLength=\"61\" x=\"20\" y=\"20.9951\">ItemTest</text></a><!--MD5=[b4997ac47864f28c2f74865a473b2911]\n",
       "class E2--><a href=\"psysml:cbd0bd62-e912-4912-a2fb-da1e68d4f615\" target=\"_top\" title=\"psysml:cbd0bd62-e912-4912-a2fb-da1e68d4f615\" xlink:actuate=\"onRequest\" xlink:href=\"psysml:cbd0bd62-e912-4912-a2fb-da1e68d4f615\" xlink:show=\"new\" xlink:title=\"psysml:cbd0bd62-e912-4912-a2fb-da1e68d4f615\" xlink:type=\"simple\"><rect fill=\"#FFFFFF\" height=\"45.9375\" id=\"E2\" rx=\"10\" ry=\"10\" style=\"stroke: #383838; stroke-width: 1.5;\" width=\"43\" x=\"188.5\" y=\"148\"/><text fill=\"#000000\" font-family=\"sans-serif\" font-size=\"12\" font-style=\"italic\" lengthAdjust=\"spacingAndGlyphs\" textLength=\"41\" x=\"189.5\" y=\"164.1387\">«item»</text><text fill=\"#000000\" font-family=\"sans-serif\" font-size=\"12\" lengthAdjust=\"spacingAndGlyphs\" textLength=\"20\" x=\"198\" y=\"178.1074\">f: A</text><line style=\"stroke: #383838; stroke-width: 1.5;\" x1=\"189.5\" x2=\"230.5\" y1=\"185.9375\" y2=\"185.9375\"/></a><!--MD5=[09b614a08d8cba4a07c9adeb5e0fee81]\n",
       "class E3--><a href=\"psysml:2b189b42-edf1-49d6-a72b-40b548d68a1d\" target=\"_top\" title=\"psysml:2b189b42-edf1-49d6-a72b-40b548d68a1d\" xlink:actuate=\"onRequest\" xlink:href=\"psysml:2b189b42-edf1-49d6-a72b-40b548d68a1d\" xlink:show=\"new\" xlink:title=\"psysml:2b189b42-edf1-49d6-a72b-40b548d68a1d\" xlink:type=\"simple\"><rect fill=\"#FFFFFF\" height=\"45.9375\" id=\"E3\" style=\"stroke: #383838; stroke-width: 1.5;\" width=\"71\" x=\"96.5\" y=\"255\"/><text fill=\"#000000\" font-family=\"sans-serif\" font-size=\"12\" font-style=\"italic\" lengthAdjust=\"spacingAndGlyphs\" textLength=\"69\" x=\"97.5\" y=\"271.1387\">«item  def»</text><text fill=\"#000000\" font-family=\"sans-serif\" font-size=\"12\" lengthAdjust=\"spacingAndGlyphs\" textLength=\"8\" x=\"128\" y=\"285.1074\">A</text><line style=\"stroke: #383838; stroke-width: 1.5;\" x1=\"97.5\" x2=\"166.5\" y1=\"292.9375\" y2=\"292.9375\"/></a><!--MD5=[ebbe1d658d1005bcc118a6aa81145e00]\n",
       "class E4--><a href=\"psysml:94aeed99-fa0f-4cf3-9a3c-c07fcd3df143\" target=\"_top\" title=\"psysml:94aeed99-fa0f-4cf3-9a3c-c07fcd3df143\" xlink:actuate=\"onRequest\" xlink:href=\"psysml:94aeed99-fa0f-4cf3-9a3c-c07fcd3df143\" xlink:show=\"new\" xlink:title=\"psysml:94aeed99-fa0f-4cf3-9a3c-c07fcd3df143\" xlink:type=\"simple\"><rect fill=\"#FFFFFF\" height=\"45.9375\" id=\"E4\" rx=\"10\" ry=\"10\" style=\"stroke: #383838; stroke-width: 1.5;\" width=\"43\" x=\"45.5\" y=\"438\"/><text fill=\"#000000\" font-family=\"sans-serif\" font-size=\"12\" font-style=\"italic\" lengthAdjust=\"spacingAndGlyphs\" textLength=\"41\" x=\"46.5\" y=\"454.1387\">«item»</text><text fill=\"#000000\" font-family=\"sans-serif\" font-size=\"12\" lengthAdjust=\"spacingAndGlyphs\" textLength=\"24\" x=\"53\" y=\"468.1074\">b: B</text><line style=\"stroke: #383838; stroke-width: 1.5;\" x1=\"46.5\" x2=\"87.5\" y1=\"475.9375\" y2=\"475.9375\"/></a><!--MD5=[270fce915f116d4de14055a7c1d9a0f3]\n",
       "class E5--><a href=\"psysml:74f7fd5f-8520-4aae-9a17-942775661558\" target=\"_top\" title=\"psysml:74f7fd5f-8520-4aae-9a17-942775661558\" xlink:actuate=\"onRequest\" xlink:href=\"psysml:74f7fd5f-8520-4aae-9a17-942775661558\" xlink:show=\"new\" xlink:title=\"psysml:74f7fd5f-8520-4aae-9a17-942775661558\" xlink:type=\"simple\"><rect fill=\"#FFFFFF\" height=\"45.9375\" id=\"E5\" rx=\"10\" ry=\"10\" style=\"stroke: #383838; stroke-width: 1.5;\" width=\"42\" x=\"151\" y=\"362\"/><text fill=\"#000000\" font-family=\"sans-serif\" font-size=\"12\" font-style=\"italic\" lengthAdjust=\"spacingAndGlyphs\" textLength=\"40\" x=\"152\" y=\"378.1387\">«part»</text><text fill=\"#000000\" font-family=\"sans-serif\" font-size=\"12\" lengthAdjust=\"spacingAndGlyphs\" textLength=\"23\" x=\"158.5\" y=\"392.1074\">c: C</text><line style=\"stroke: #383838; stroke-width: 1.5;\" x1=\"152\" x2=\"192\" y1=\"399.9375\" y2=\"399.9375\"/></a><!--MD5=[60a26617385b1d2d0262a64233df1f8d]\n",
       "class E6--><a href=\"psysml:f1885442-e1dd-46d9-92aa-2427019de9de\" target=\"_top\" title=\"psysml:f1885442-e1dd-46d9-92aa-2427019de9de\" xlink:actuate=\"onRequest\" xlink:href=\"psysml:f1885442-e1dd-46d9-92aa-2427019de9de\" xlink:show=\"new\" xlink:title=\"psysml:f1885442-e1dd-46d9-92aa-2427019de9de\" xlink:type=\"simple\"><rect fill=\"#FFFFFF\" height=\"45.9375\" id=\"E6\" style=\"stroke: #383838; stroke-width: 1.5;\" width=\"71\" x=\"112.5\" y=\"637\"/><text fill=\"#000000\" font-family=\"sans-serif\" font-size=\"12\" font-style=\"italic\" lengthAdjust=\"spacingAndGlyphs\" textLength=\"69\" x=\"113.5\" y=\"653.1387\">«item  def»</text><text fill=\"#000000\" font-family=\"sans-serif\" font-size=\"12\" font-style=\"italic\" lengthAdjust=\"spacingAndGlyphs\" textLength=\"8\" x=\"144\" y=\"667.1074\">B</text><line style=\"stroke: #383838; stroke-width: 1.5;\" x1=\"113.5\" x2=\"182.5\" y1=\"674.9375\" y2=\"674.9375\"/></a><!--MD5=[2156ba9850f5573cc1fc38a6a4b2f02b]\n",
       "class E7--><a href=\"psysml:cc0b7000-21b2-4abb-bead-e88feeed0b85\" target=\"_top\" title=\"psysml:cc0b7000-21b2-4abb-bead-e88feeed0b85\" xlink:actuate=\"onRequest\" xlink:href=\"psysml:cc0b7000-21b2-4abb-bead-e88feeed0b85\" xlink:show=\"new\" xlink:title=\"psysml:cc0b7000-21b2-4abb-bead-e88feeed0b85\" xlink:type=\"simple\"><rect fill=\"#FFFFFF\" height=\"45.9375\" id=\"E7\" rx=\"10\" ry=\"10\" style=\"stroke: #383838; stroke-width: 1.5;\" width=\"42\" x=\"159\" y=\"744\"/><text fill=\"#000000\" font-family=\"sans-serif\" font-size=\"12\" font-style=\"italic\" lengthAdjust=\"spacingAndGlyphs\" textLength=\"40\" x=\"160\" y=\"760.1387\">«part»</text><text fill=\"#000000\" font-family=\"sans-serif\" font-size=\"12\" font-style=\"italic\" lengthAdjust=\"spacingAndGlyphs\" textLength=\"8\" x=\"166\" y=\"774.1074\">a</text><text fill=\"#000000\" font-family=\"sans-serif\" font-size=\"12\" lengthAdjust=\"spacingAndGlyphs\" textLength=\"16\" x=\"174\" y=\"774.1074\">: A</text><line style=\"stroke: #383838; stroke-width: 1.5;\" x1=\"160\" x2=\"200\" y1=\"781.9375\" y2=\"781.9375\"/></a><!--MD5=[b9389687b975829384b498ac4b7476b2]\n",
       "class E8--><a href=\"psysml:6db780a5-cf23-40f2-9df9-03150cb096d0\" target=\"_top\" title=\"psysml:6db780a5-cf23-40f2-9df9-03150cb096d0\" xlink:actuate=\"onRequest\" xlink:href=\"psysml:6db780a5-cf23-40f2-9df9-03150cb096d0\" xlink:show=\"new\" xlink:title=\"psysml:6db780a5-cf23-40f2-9df9-03150cb096d0\" xlink:type=\"simple\"><rect fill=\"#FFFFFF\" height=\"45.9375\" id=\"E8\" style=\"stroke: #383838; stroke-width: 1.5;\" width=\"70\" x=\"113\" y=\"514\"/><text fill=\"#000000\" font-family=\"sans-serif\" font-size=\"12\" font-style=\"italic\" lengthAdjust=\"spacingAndGlyphs\" textLength=\"68\" x=\"114\" y=\"530.1387\">«part  def»</text><text fill=\"#000000\" font-family=\"sans-serif\" font-size=\"12\" lengthAdjust=\"spacingAndGlyphs\" textLength=\"8\" x=\"144\" y=\"544.1074\">C</text><line style=\"stroke: #383838; stroke-width: 1.5;\" x1=\"114\" x2=\"182\" y1=\"551.9375\" y2=\"551.9375\"/></a><!--MD5=[fd4143e9d270a159db93a4ea2a975926]\n",
       "class E9--><a href=\"psysml:587854cf-6fe1-483d-a698-c7fca9a0c13c\" target=\"_top\" title=\"psysml:587854cf-6fe1-483d-a698-c7fca9a0c13c\" xlink:actuate=\"onRequest\" xlink:href=\"psysml:587854cf-6fe1-483d-a698-c7fca9a0c13c\" xlink:show=\"new\" xlink:title=\"psysml:587854cf-6fe1-483d-a698-c7fca9a0c13c\" xlink:type=\"simple\"><rect fill=\"#FFFFFF\" height=\"45.9375\" id=\"E9\" style=\"stroke: #383838; stroke-width: 1.5;\" width=\"70\" x=\"64\" y=\"41\"/><text fill=\"#000000\" font-family=\"sans-serif\" font-size=\"12\" font-style=\"italic\" lengthAdjust=\"spacingAndGlyphs\" textLength=\"68\" x=\"65\" y=\"57.1387\">«port  def»</text><text fill=\"#000000\" font-family=\"sans-serif\" font-size=\"12\" lengthAdjust=\"spacingAndGlyphs\" textLength=\"8\" x=\"95\" y=\"71.1074\">P</text><line style=\"stroke: #383838; stroke-width: 1.5;\" x1=\"65\" x2=\"133\" y1=\"78.9375\" y2=\"78.9375\"/></a><!--MD5=[96f4274e9e20536e775497830990834d]\n",
       "class E10--><a href=\"psysml:f73739ed-5364-4403-8254-d4f943238dfa\" target=\"_top\" title=\"psysml:f73739ed-5364-4403-8254-d4f943238dfa\" xlink:actuate=\"onRequest\" xlink:href=\"psysml:f73739ed-5364-4403-8254-d4f943238dfa\" xlink:show=\"new\" xlink:title=\"psysml:f73739ed-5364-4403-8254-d4f943238dfa\" xlink:type=\"simple\"><rect fill=\"#FFFFFF\" height=\"45.9375\" id=\"E10\" rx=\"10\" ry=\"10\" style=\"stroke: #383838; stroke-width: 1.5;\" width=\"43\" x=\"32.5\" y=\"148\"/><text fill=\"#000000\" font-family=\"sans-serif\" font-size=\"12\" font-style=\"italic\" lengthAdjust=\"spacingAndGlyphs\" textLength=\"41\" x=\"33.5\" y=\"164.1387\">«item»</text><text fill=\"#000000\" font-family=\"sans-serif\" font-size=\"12\" lengthAdjust=\"spacingAndGlyphs\" textLength=\"32\" x=\"36\" y=\"178.1074\">a1: A</text><line style=\"stroke: #383838; stroke-width: 1.5;\" x1=\"33.5\" x2=\"74.5\" y1=\"185.9375\" y2=\"185.9375\"/></a><!--MD5=[1dd1bfd58a279cf63c5f349dbc8fc6a1]\n",
       "class E11--><a href=\"psysml:6a7a2def-0eff-4194-80a2-af7f6b4a129e\" target=\"_top\" title=\"psysml:6a7a2def-0eff-4194-80a2-af7f6b4a129e\" xlink:actuate=\"onRequest\" xlink:href=\"psysml:6a7a2def-0eff-4194-80a2-af7f6b4a129e\" xlink:show=\"new\" xlink:title=\"psysml:6a7a2def-0eff-4194-80a2-af7f6b4a129e\" xlink:type=\"simple\"><rect fill=\"#FFFFFF\" height=\"45.9375\" id=\"E11\" rx=\"10\" ry=\"10\" style=\"stroke: #383838; stroke-width: 1.5;\" width=\"43\" x=\"110.5\" y=\"148\"/><text fill=\"#000000\" font-family=\"sans-serif\" font-size=\"12\" font-style=\"italic\" lengthAdjust=\"spacingAndGlyphs\" textLength=\"41\" x=\"111.5\" y=\"164.1387\">«item»</text><text fill=\"#000000\" font-family=\"sans-serif\" font-size=\"12\" lengthAdjust=\"spacingAndGlyphs\" textLength=\"32\" x=\"114\" y=\"178.1074\">a2: A</text><line style=\"stroke: #383838; stroke-width: 1.5;\" x1=\"111.5\" x2=\"152.5\" y1=\"185.9375\" y2=\"185.9375\"/></a><!--MD5=[2720a5a1f2c3fca2055b230370638851]\n",
       "link E2 to E3--><a href=\"psysml:8851b494-fad9-483d-8771-6e667cb982eb\" target=\"_top\" title=\"psysml:8851b494-fad9-483d-8771-6e667cb982eb\" xlink:actuate=\"onRequest\" xlink:href=\"psysml:8851b494-fad9-483d-8771-6e667cb982eb\" xlink:show=\"new\" xlink:title=\"psysml:8851b494-fad9-483d-8771-6e667cb982eb\" xlink:type=\"simple\"><path d=\"M193.65,194.01 C184.14,206.81 171.89,223.3 160.82,238.2 \" fill=\"none\" id=\"E2-&gt;E3\" style=\"stroke: #383838; stroke-width: 1.0;\"/><polygon fill=\"#FFFFFF\" points=\"148.6,254.66,154.3195,235.2361,165.5543,243.5896,148.6,254.66\" style=\"stroke: #383838; stroke-width: 1.0;\"/><ellipse cx=\"159.3256\" cy=\"231.8554\" fill=\"#383838\" rx=\"2\" ry=\"2\" style=\"stroke: #383838; stroke-width: 1.0;\"/><ellipse cx=\"167.3504\" cy=\"237.8221\" fill=\"#383838\" rx=\"2\" ry=\"2\" style=\"stroke: #383838; stroke-width: 1.0;\"/></a><!--MD5=[4672eba38e49728da53d11aeb285b987]\n",
       "reverse link E3 to E4--><a href=\"psysml:bbc4490d-4884-4bf2-8394-3cd2641c3130\" target=\"_top\" title=\"psysml:bbc4490d-4884-4bf2-8394-3cd2641c3130\" xlink:actuate=\"onRequest\" xlink:href=\"psysml:bbc4490d-4884-4bf2-8394-3cd2641c3130\" xlink:show=\"new\" xlink:title=\"psysml:bbc4490d-4884-4bf2-8394-3cd2641c3130\" xlink:type=\"simple\"><path d=\"M97.11,310.9 C84.08,325.11 70.81,342.94 64,362 C55.12,386.85 58.09,417.53 61.82,437.88 \" fill=\"none\" id=\"E3&lt;-E4\" style=\"stroke: #383838; stroke-width: 1.0;\"/><polygon fill=\"#FFFFFF\" points=\"106.46,301.23,99.4153,302.7703,98.1277,309.8655,105.1724,308.3252,106.46,301.23\" style=\"stroke: #383838; stroke-width: 1.0;\"/><text fill=\"#000000\" font-family=\"sans-serif\" font-size=\"13\" lengthAdjust=\"spacingAndGlyphs\" textLength=\"8\" x=\"51.3529\" y=\"426.744\">1</text></a><!--MD5=[191cde3d490a3f6d7bb551fe3ddca469]\n",
       "reverse link E3 to E5--><a href=\"psysml:896e58a4-3d4e-4523-9980-c4907a158d3f\" target=\"_top\" title=\"psysml:896e58a4-3d4e-4523-9980-c4907a158d3f\" xlink:actuate=\"onRequest\" xlink:href=\"psysml:896e58a4-3d4e-4523-9980-c4907a158d3f\" xlink:show=\"new\" xlink:title=\"psysml:896e58a4-3d4e-4523-9980-c4907a158d3f\" xlink:type=\"simple\"><path d=\"M145.17,313.57 C151.2,329.39 158.16,347.68 163.49,361.66 \" fill=\"none\" id=\"E3&lt;-E5\" style=\"stroke: #383838; stroke-width: 1.0;\"/><polygon fill=\"#FFFFFF\" points=\"140.39,301.01,138.7866,308.0406,144.6598,312.2247,146.2631,305.1941,140.39,301.01\" style=\"stroke: #383838; stroke-width: 1.0;\"/><text fill=\"#000000\" font-family=\"sans-serif\" font-size=\"13\" lengthAdjust=\"spacingAndGlyphs\" textLength=\"8\" x=\"152.2843\" y=\"350.8492\">1</text></a><!--MD5=[79568f1e445c3877b6a54524624ccc7d]\n",
       "link E4 to E6--><a href=\"psysml:ae089d5e-98d2-4386-a1f6-d9056ad7f1db\" target=\"_top\" title=\"psysml:ae089d5e-98d2-4386-a1f6-d9056ad7f1db\" xlink:actuate=\"onRequest\" xlink:href=\"psysml:ae089d5e-98d2-4386-a1f6-d9056ad7f1db\" xlink:show=\"new\" xlink:title=\"psysml:ae089d5e-98d2-4386-a1f6-d9056ad7f1db\" xlink:type=\"simple\"><path d=\"M72.25,484.22 C77.31,504.36 85.72,534.68 96,560 C104.15,580.08 115.08,601.47 124.82,619.21 \" fill=\"none\" id=\"E4-&gt;E6\" style=\"stroke: #383838; stroke-width: 1.0;\"/><polygon fill=\"#FFFFFF\" points=\"134.72,636.8,119.2979,623.6791,131.4967,616.8097,134.72,636.8\" style=\"stroke: #383838; stroke-width: 1.0;\"/><ellipse cx=\"118.2438\" cy=\"617.7311\" fill=\"#383838\" rx=\"2\" ry=\"2\" style=\"stroke: #383838; stroke-width: 1.0;\"/><ellipse cx=\"126.9572\" cy=\"612.8244\" fill=\"#383838\" rx=\"2\" ry=\"2\" style=\"stroke: #383838; stroke-width: 1.0;\"/></a><!--MD5=[3f50a3473f1dfb74d3f76443e03635af]\n",
       "reverse link E6 to E7--><a href=\"psysml:f93e67a1-8e91-4b72-abc4-aff48dcc0ebf\" target=\"_top\" title=\"psysml:f93e67a1-8e91-4b72-abc4-aff48dcc0ebf\" xlink:actuate=\"onRequest\" xlink:href=\"psysml:f93e67a1-8e91-4b72-abc4-aff48dcc0ebf\" xlink:show=\"new\" xlink:title=\"psysml:f93e67a1-8e91-4b72-abc4-aff48dcc0ebf\" xlink:type=\"simple\"><path d=\"M158.54,695.57 C163.36,711.39 168.93,729.68 173.19,743.66 \" fill=\"none\" id=\"E6&lt;-E7\" style=\"stroke: #383838; stroke-width: 1.0;\"/><polygon fill=\"#FFFFFF\" points=\"154.71,683.01,152.6319,689.9152,158.2066,694.4893,160.2847,687.5841,154.71,683.01\" style=\"stroke: #383838; stroke-width: 1.0;\"/><text fill=\"#000000\" font-family=\"sans-serif\" font-size=\"13\" lengthAdjust=\"spacingAndGlyphs\" textLength=\"8\" x=\"162.4199\" y=\"732.8492\">1</text></a><!--MD5=[14ccda38c055a5c0da953d572bc50960]\n",
       "link E7 to E3--><a href=\"psysml:729e96ed-f9a8-4349-a416-61bf2a977bd8\" target=\"_top\" title=\"psysml:729e96ed-f9a8-4349-a416-61bf2a977bd8\" xlink:actuate=\"onRequest\" xlink:href=\"psysml:729e96ed-f9a8-4349-a416-61bf2a977bd8\" xlink:show=\"new\" xlink:title=\"psysml:729e96ed-f9a8-4349-a416-61bf2a977bd8\" xlink:type=\"simple\"><path d=\"M197.41,743.63 C211.5,723.27 229,691.78 229,661 C229,384 229,384 229,384 C229,353.7 206.93,328.42 183.85,310.26 \" fill=\"none\" id=\"E7-&gt;E3\" style=\"stroke: #383838; stroke-width: 1.0;\"/><polygon fill=\"#FFFFFF\" points=\"167.57,298.59,187.0929,303.9617,178.9414,315.3438,167.57,298.59\" style=\"stroke: #383838; stroke-width: 1.0;\"/><ellipse cx=\"190.5626\" cy=\"308.9066\" fill=\"#383838\" rx=\"2\" ry=\"2\" style=\"stroke: #383838; stroke-width: 1.0;\"/><ellipse cx=\"184.7401\" cy=\"317.0367\" fill=\"#383838\" rx=\"2\" ry=\"2\" style=\"stroke: #383838; stroke-width: 1.0;\"/></a><!--MD5=[dfaffb906826c3e5aca635516100ff21]\n",
       "link E5 to E8--><a href=\"psysml:8b27b07a-ba61-4df4-814a-c4b9eba72255\" target=\"_top\" title=\"psysml:8b27b07a-ba61-4df4-814a-c4b9eba72255\" xlink:actuate=\"onRequest\" xlink:href=\"psysml:8b27b07a-ba61-4df4-814a-c4b9eba72255\" xlink:show=\"new\" xlink:title=\"psysml:8b27b07a-ba61-4df4-814a-c4b9eba72255\" xlink:type=\"simple\"><path d=\"M168.46,408.13 C164.86,430.62 159.2,466.01 154.74,493.87 \" fill=\"none\" id=\"E5-&gt;E8\" style=\"stroke: #383838; stroke-width: 1.0;\"/><polygon fill=\"#FFFFFF\" points=\"151.56,513.78,147.6458,493.9135,161.4704,496.1226,151.56,513.78\" style=\"stroke: #383838; stroke-width: 1.0;\"/><ellipse cx=\"150.5202\" cy=\"488.6005\" fill=\"#383838\" rx=\"2\" ry=\"2\" style=\"stroke: #383838; stroke-width: 1.0;\"/><ellipse cx=\"160.3949\" cy=\"490.1784\" fill=\"#383838\" rx=\"2\" ry=\"2\" style=\"stroke: #383838; stroke-width: 1.0;\"/></a><!--MD5=[03c8294790d3c57651a1993cecff665f]\n",
       "reverse link E8 to E3--><a href=\"psysml:2fa26767-edf9-4f1d-8702-6d0b4fb1afcf\" target=\"_top\" title=\"psysml:2fa26767-edf9-4f1d-8702-6d0b4fb1afcf\" xlink:actuate=\"onRequest\" xlink:href=\"psysml:2fa26767-edf9-4f1d-8702-6d0b4fb1afcf\" xlink:show=\"new\" xlink:title=\"psysml:2fa26767-edf9-4f1d-8702-6d0b4fb1afcf\" xlink:type=\"simple\"><path d=\"M140.02,501.22 C134.57,475.6 127.84,439.84 125,408 C123.18,387.64 124.14,382.43 125,362 C125.87,341.34 127.95,317.86 129.62,301.16 \" fill=\"none\" id=\"E8&lt;-E3\" style=\"stroke: #383838; stroke-width: 1.0;\"/><polygon fill=\"#FFFFFF\" points=\"142.81,513.96,145.4388,507.2451,140.2515,502.2359,137.6227,508.9508,142.81,513.96\" style=\"stroke: #383838; stroke-width: 1.0;\"/><text fill=\"#000000\" font-family=\"sans-serif\" font-size=\"13\" lengthAdjust=\"spacingAndGlyphs\" textLength=\"7\" x=\"126\" y=\"389.5669\">y</text></a><!--MD5=[0d75d2178373a6a4568e5dc728f58aef]\n",
       "reverse link E8 to E6--><a href=\"psysml:2fa26767-edf9-4f1d-8702-6d0b4fb1afcf\" target=\"_top\" title=\"psysml:2fa26767-edf9-4f1d-8702-6d0b4fb1afcf\" xlink:actuate=\"onRequest\" xlink:href=\"psysml:2fa26767-edf9-4f1d-8702-6d0b4fb1afcf\" xlink:show=\"new\" xlink:title=\"psysml:2fa26767-edf9-4f1d-8702-6d0b4fb1afcf\" xlink:type=\"simple\"><path d=\"M148,573.22 C148,593.81 148,619.16 148,636.95 \" fill=\"none\" id=\"E8&lt;-E6\" style=\"stroke: #383838; stroke-width: 1.0;\"/><polygon fill=\"#FFFFFF\" points=\"148,560.19,144,566.19,148,572.19,152,566.19,148,560.19\" style=\"stroke: #383838; stroke-width: 1.0;\"/><text fill=\"#000000\" font-family=\"sans-serif\" font-size=\"13\" lengthAdjust=\"spacingAndGlyphs\" textLength=\"7\" x=\"149\" y=\"603.0669\">y</text></a><!--MD5=[23ac544a70576c3e717098101004234c]\n",
       "reverse link E9 to E10--><a href=\"psysml:2a8d2925-3f72-4e1c-849d-9e3943fa1d15\" target=\"_top\" title=\"psysml:2a8d2925-3f72-4e1c-849d-9e3943fa1d15\" xlink:actuate=\"onRequest\" xlink:href=\"psysml:2a8d2925-3f72-4e1c-849d-9e3943fa1d15\" xlink:show=\"new\" xlink:title=\"psysml:2a8d2925-3f72-4e1c-849d-9e3943fa1d15\" xlink:type=\"simple\"><path d=\"M84.39,99.1 C77.56,115.03 69.63,133.54 63.58,147.66 \" fill=\"none\" id=\"E9&lt;-E10\" style=\"stroke: #383838; stroke-width: 1.0;\"/><polygon fill=\"#FFFFFF\" points=\"89.57,87.01,83.5327,90.9535,84.8509,98.0431,90.8882,94.0996,89.57,87.01\" style=\"stroke: #383838; stroke-width: 1.0;\"/><text fill=\"#000000\" font-family=\"sans-serif\" font-size=\"13\" lengthAdjust=\"spacingAndGlyphs\" textLength=\"8\" x=\"57.0099\" y=\"136.8492\">1</text></a><!--MD5=[feeac5eb423634930294aa81f2d25a4c]\n",
       "link E10 to E3--><a href=\"psysml:be0eb1db-3a2d-4525-bfbd-aed22db095bf\" target=\"_top\" title=\"psysml:be0eb1db-3a2d-4525-bfbd-aed22db095bf\" xlink:actuate=\"onRequest\" xlink:href=\"psysml:be0eb1db-3a2d-4525-bfbd-aed22db095bf\" xlink:show=\"new\" xlink:title=\"psysml:be0eb1db-3a2d-4525-bfbd-aed22db095bf\" xlink:type=\"simple\"><path d=\"M70.35,194.01 C79.86,206.81 92.11,223.3 103.18,238.2 \" fill=\"none\" id=\"E10-&gt;E3\" style=\"stroke: #383838; stroke-width: 1.0;\"/><polygon fill=\"#FFFFFF\" points=\"115.4,254.66,98.4457,243.5896,109.6805,235.2361,115.4,254.66\" style=\"stroke: #383838; stroke-width: 1.0;\"/><ellipse cx=\"96.6496\" cy=\"237.8221\" fill=\"#383838\" rx=\"2\" ry=\"2\" style=\"stroke: #383838; stroke-width: 1.0;\"/><ellipse cx=\"104.6744\" cy=\"231.8554\" fill=\"#383838\" rx=\"2\" ry=\"2\" style=\"stroke: #383838; stroke-width: 1.0;\"/></a><!--MD5=[1fc04a95fd77ad5ce46c1a3027516051]\n",
       "reverse link E9 to E11--><a href=\"psysml:4a4899a0-cca2-49ff-ba55-d15caf476c4f\" target=\"_top\" title=\"psysml:4a4899a0-cca2-49ff-ba55-d15caf476c4f\" xlink:actuate=\"onRequest\" xlink:href=\"psysml:4a4899a0-cca2-49ff-ba55-d15caf476c4f\" xlink:show=\"new\" xlink:title=\"psysml:4a4899a0-cca2-49ff-ba55-d15caf476c4f\" xlink:type=\"simple\"><path d=\"M109.87,99.57 C114.84,115.39 120.59,133.68 124.98,147.66 \" fill=\"none\" id=\"E9&lt;-E11\" style=\"stroke: #383838; stroke-width: 1.0;\"/><polygon fill=\"#FFFFFF\" points=\"105.92,87.01,103.9044,93.9337,109.5203,98.4572,111.5359,91.5335,105.92,87.01\" style=\"stroke: #383838; stroke-width: 1.0;\"/><text fill=\"#000000\" font-family=\"sans-serif\" font-size=\"13\" lengthAdjust=\"spacingAndGlyphs\" textLength=\"8\" x=\"114.1561\" y=\"136.8492\">1</text></a><!--MD5=[0517f1ce58c4d5483948f93845c45e26]\n",
       "link E11 to E3--><a href=\"psysml:8ddae6f0-112f-4ded-9c4d-74dd6bca1f55\" target=\"_top\" title=\"psysml:8ddae6f0-112f-4ded-9c4d-74dd6bca1f55\" xlink:actuate=\"onRequest\" xlink:href=\"psysml:8ddae6f0-112f-4ded-9c4d-74dd6bca1f55\" xlink:show=\"new\" xlink:title=\"psysml:8ddae6f0-112f-4ded-9c4d-74dd6bca1f55\" xlink:type=\"simple\"><path d=\"M132,194.01 C132,205.69 132,220.46 132,234.28 \" fill=\"none\" id=\"E11-&gt;E3\" style=\"stroke: #383838; stroke-width: 1.0;\"/><polygon fill=\"#FFFFFF\" points=\"132,254.66,125,235.66,139,235.66,132,254.66\" style=\"stroke: #383838; stroke-width: 1.0;\"/><ellipse cx=\"127\" cy=\"229.96\" fill=\"#383838\" rx=\"2\" ry=\"2\" style=\"stroke: #383838; stroke-width: 1.0;\"/><ellipse cx=\"137\" cy=\"229.96\" fill=\"#383838\" rx=\"2\" ry=\"2\" style=\"stroke: #383838; stroke-width: 1.0;\"/></a><!--MD5=[a7499d78be803a075c94a105adb25889]\n",
       "@startuml\r\n",
       " skinparam monochrome true\r\n",
       "skinparam classbackgroundcolor white\r\n",
       "skinparam shadowing false\r\n",
       "skinparam wrapWidth 300\r\n",
       "hide circle\r\n",
       "\r\n",
       "package \"ItemTest\" as E1  [[psysml:ae8f2d08-e2f6-41ef-ae81-a483692b435b ]]  {\r\n",
       "comp usage \"f: A \" as E2  <<(T,blue) item>> [[psysml:cbd0bd62-e912-4912-a2fb-da1e68d4f615 ]] {\r\n",
       "}\r\n",
       "comp def \"A\" as E3  <<(T,blue) item  def>> [[psysml:2b189b42-edf1-49d6-a72b-40b548d68a1d ]] {\r\n",
       "}\r\n",
       "comp usage \"b: B \" as E4  <<(T,blue) item>> [[psysml:94aeed99-fa0f-4cf3-9a3c-c07fcd3df143 ]] {\r\n",
       "}\r\n",
       "comp usage \"c: C \" as E5  <<(T,blue) part>> [[psysml:74f7fd5f-8520-4aae-9a17-942775661558 ]] {\r\n",
       "}\r\n",
       "comp def \"<i>B</i>\" as E6  <<(T,blue) item  def>> [[psysml:f1885442-e1dd-46d9-92aa-2427019de9de ]] {\r\n",
       "}\r\n",
       "comp usage \"<i>a</i>: A \" as E7  <<(T,blue) part>> [[psysml:cc0b7000-21b2-4abb-bead-e88feeed0b85 ]] {\r\n",
       "}\r\n",
       "comp def \"C\" as E8  <<(T,blue) part  def>> [[psysml:6db780a5-cf23-40f2-9df9-03150cb096d0 ]] {\r\n",
       "}\r\n",
       "comp def \"P\" as E9  <<(T,blue) port  def>> [[psysml:587854cf-6fe1-483d-a698-c7fca9a0c13c ]] {\r\n",
       "}\r\n",
       "comp usage \"a1: A \" as E10  <<(T,blue) item>> [[psysml:f73739ed-5364-4403-8254-d4f943238dfa ]] {\r\n",
       "}\r\n",
       "comp usage \"a2: A \" as E11  <<(T,blue) item>> [[psysml:6a7a2def-0eff-4194-80a2-af7f6b4a129e ]] {\r\n",
       "}\r\n",
       "}\r\n",
       "E2 - -:|> E3 [[psysml:8851b494-fad9-483d-8771-6e667cb982eb ]] \r\n",
       "E3 o- - \"1\"E4 [[psysml:bbc4490d-4884-4bf2-8394-3cd2641c3130 ]] \r\n",
       "E3 o- - \"1\"E5 [[psysml:896e58a4-3d4e-4523-9980-c4907a158d3f ]] \r\n",
       "E4 - -:|> E6 [[psysml:ae089d5e-98d2-4386-a1f6-d9056ad7f1db ]] \r\n",
       "E6 o- - \"1\"E7 [[psysml:f93e67a1-8e91-4b72-abc4-aff48dcc0ebf ]] \r\n",
       "E7 - -:|> E3 [[psysml:729e96ed-f9a8-4349-a416-61bf2a977bd8 ]] \r\n",
       "E5 - -:|> E8 [[psysml:8b27b07a-ba61-4df4-814a-c4b9eba72255 ]] \r\n",
       "E8 o- - E3 [[psysml:2fa26767-edf9-4f1d-8702-6d0b4fb1afcf ]] : y\r\n",
       "E8 o- - E6 [[psysml:2fa26767-edf9-4f1d-8702-6d0b4fb1afcf ]] : y\r\n",
       "E9 o- - \"1\"E10 [[psysml:2a8d2925-3f72-4e1c-849d-9e3943fa1d15 ]] \r\n",
       "E10 - -:|> E3 [[psysml:be0eb1db-3a2d-4525-bfbd-aed22db095bf ]] \r\n",
       "E9 o- - \"1\"E11 [[psysml:4a4899a0-cca2-49ff-ba55-d15caf476c4f ]] \r\n",
       "E11 - -:|> E3 [[psysml:8ddae6f0-112f-4ded-9c4d-74dd6bca1f55 ]] \r\n",
       "@enduml\r\n",
       "\n",
       "PlantUML version 1.2020.13(Sat Jun 13 12:26:38 UTC 2020)\n",
       "(EPL source distribution)\n",
       "Java Runtime: OpenJDK Runtime Environment\n",
       "JVM: OpenJDK 64-Bit Server VM\n",
       "Default Encoding: UTF-8\n",
       "Language: en\n",
       "Country: null\n",
       "--></g></svg>"
      ]
     },
     "execution_count": 8,
     "metadata": {},
     "output_type": "execute_result"
    }
   ],
   "source": [
    "%viz --style=\"COMPTREE\" --view=\"MIXED\" \"ItemTest\""
   ]
  },
  {
   "cell_type": "code",
   "execution_count": 9,
   "id": "5d240aea",
   "metadata": {
    "execution": {
     "iopub.execute_input": "2022-08-19T08:17:27.946242Z",
     "iopub.status.busy": "2022-08-19T08:17:27.945499Z",
     "iopub.status.idle": "2022-08-19T08:17:28.013759Z",
     "shell.execute_reply": "2022-08-19T08:17:28.014072Z"
    }
   },
   "outputs": [
    {
     "data": {
      "image/svg+xml": [
       "<?xml version=\"1.0\" encoding=\"UTF-8\" standalone=\"no\"?><svg xmlns=\"http://www.w3.org/2000/svg\" xmlns:xlink=\"http://www.w3.org/1999/xlink\" contentScriptType=\"application/ecmascript\" contentStyleType=\"text/css\" height=\"818px\" preserveAspectRatio=\"none\" style=\"width:270px;height:818px;\" version=\"1.1\" viewBox=\"0 0 270 818\" width=\"270px\" zoomAndPan=\"magnify\"><defs/><g><!--MD5=[fbc87193dbaf4d95561dea2c320d4a47]\n",
       "cluster E1--><a href=\"psysml:ae8f2d08-e2f6-41ef-ae81-a483692b435b\" target=\"_top\" title=\"psysml:ae8f2d08-e2f6-41ef-ae81-a483692b435b\" xlink:actuate=\"onRequest\" xlink:href=\"psysml:ae8f2d08-e2f6-41ef-ae81-a483692b435b\" xlink:show=\"new\" xlink:title=\"psysml:ae8f2d08-e2f6-41ef-ae81-a483692b435b\" xlink:type=\"simple\"><polygon fill=\"#FFFFFF\" points=\"16,6,83,6,90,28.2969,248,28.2969,248,806,16,806,16,6\" style=\"stroke: #000000; stroke-width: 1.5;\"/><line style=\"stroke: #000000; stroke-width: 1.5;\" x1=\"16\" x2=\"90\" y1=\"28.2969\" y2=\"28.2969\"/><text fill=\"#000000\" font-family=\"sans-serif\" font-size=\"14\" font-weight=\"bold\" lengthAdjust=\"spacingAndGlyphs\" textLength=\"61\" x=\"20\" y=\"20.9951\">ItemTest</text></a><!--MD5=[b4997ac47864f28c2f74865a473b2911]\n",
       "class E2--><a href=\"psysml:cbd0bd62-e912-4912-a2fb-da1e68d4f615\" target=\"_top\" title=\"psysml:cbd0bd62-e912-4912-a2fb-da1e68d4f615\" xlink:actuate=\"onRequest\" xlink:href=\"psysml:cbd0bd62-e912-4912-a2fb-da1e68d4f615\" xlink:show=\"new\" xlink:title=\"psysml:cbd0bd62-e912-4912-a2fb-da1e68d4f615\" xlink:type=\"simple\"><rect fill=\"#FFFFFF\" height=\"45.9375\" id=\"E2\" rx=\"10\" ry=\"10\" style=\"stroke: #383838; stroke-width: 1.5;\" width=\"43\" x=\"188.5\" y=\"148\"/><text fill=\"#000000\" font-family=\"sans-serif\" font-size=\"12\" font-style=\"italic\" lengthAdjust=\"spacingAndGlyphs\" textLength=\"41\" x=\"189.5\" y=\"164.1387\">«item»</text><text fill=\"#000000\" font-family=\"sans-serif\" font-size=\"12\" lengthAdjust=\"spacingAndGlyphs\" textLength=\"20\" x=\"198\" y=\"178.1074\">f: A</text><line style=\"stroke: #383838; stroke-width: 1.5;\" x1=\"189.5\" x2=\"230.5\" y1=\"185.9375\" y2=\"185.9375\"/></a><!--MD5=[09b614a08d8cba4a07c9adeb5e0fee81]\n",
       "class E3--><a href=\"psysml:2b189b42-edf1-49d6-a72b-40b548d68a1d\" target=\"_top\" title=\"psysml:2b189b42-edf1-49d6-a72b-40b548d68a1d\" xlink:actuate=\"onRequest\" xlink:href=\"psysml:2b189b42-edf1-49d6-a72b-40b548d68a1d\" xlink:show=\"new\" xlink:title=\"psysml:2b189b42-edf1-49d6-a72b-40b548d68a1d\" xlink:type=\"simple\"><rect fill=\"#FFFFFF\" height=\"45.9375\" id=\"E3\" style=\"stroke: #383838; stroke-width: 1.5;\" width=\"71\" x=\"96.5\" y=\"255\"/><text fill=\"#000000\" font-family=\"sans-serif\" font-size=\"12\" font-style=\"italic\" lengthAdjust=\"spacingAndGlyphs\" textLength=\"69\" x=\"97.5\" y=\"271.1387\">«item  def»</text><text fill=\"#000000\" font-family=\"sans-serif\" font-size=\"12\" lengthAdjust=\"spacingAndGlyphs\" textLength=\"8\" x=\"128\" y=\"285.1074\">A</text><line style=\"stroke: #383838; stroke-width: 1.5;\" x1=\"97.5\" x2=\"166.5\" y1=\"292.9375\" y2=\"292.9375\"/></a><!--MD5=[ebbe1d658d1005bcc118a6aa81145e00]\n",
       "class E4--><a href=\"psysml:94aeed99-fa0f-4cf3-9a3c-c07fcd3df143\" target=\"_top\" title=\"psysml:94aeed99-fa0f-4cf3-9a3c-c07fcd3df143\" xlink:actuate=\"onRequest\" xlink:href=\"psysml:94aeed99-fa0f-4cf3-9a3c-c07fcd3df143\" xlink:show=\"new\" xlink:title=\"psysml:94aeed99-fa0f-4cf3-9a3c-c07fcd3df143\" xlink:type=\"simple\"><rect fill=\"#FFFFFF\" height=\"45.9375\" id=\"E4\" rx=\"10\" ry=\"10\" style=\"stroke: #383838; stroke-width: 1.5;\" width=\"43\" x=\"45.5\" y=\"438\"/><text fill=\"#000000\" font-family=\"sans-serif\" font-size=\"12\" font-style=\"italic\" lengthAdjust=\"spacingAndGlyphs\" textLength=\"41\" x=\"46.5\" y=\"454.1387\">«item»</text><text fill=\"#000000\" font-family=\"sans-serif\" font-size=\"12\" lengthAdjust=\"spacingAndGlyphs\" textLength=\"24\" x=\"53\" y=\"468.1074\">b: B</text><line style=\"stroke: #383838; stroke-width: 1.5;\" x1=\"46.5\" x2=\"87.5\" y1=\"475.9375\" y2=\"475.9375\"/></a><!--MD5=[270fce915f116d4de14055a7c1d9a0f3]\n",
       "class E5--><a href=\"psysml:74f7fd5f-8520-4aae-9a17-942775661558\" target=\"_top\" title=\"psysml:74f7fd5f-8520-4aae-9a17-942775661558\" xlink:actuate=\"onRequest\" xlink:href=\"psysml:74f7fd5f-8520-4aae-9a17-942775661558\" xlink:show=\"new\" xlink:title=\"psysml:74f7fd5f-8520-4aae-9a17-942775661558\" xlink:type=\"simple\"><rect fill=\"#FFFFFF\" height=\"45.9375\" id=\"E5\" rx=\"10\" ry=\"10\" style=\"stroke: #383838; stroke-width: 1.5;\" width=\"42\" x=\"151\" y=\"362\"/><text fill=\"#000000\" font-family=\"sans-serif\" font-size=\"12\" font-style=\"italic\" lengthAdjust=\"spacingAndGlyphs\" textLength=\"40\" x=\"152\" y=\"378.1387\">«part»</text><text fill=\"#000000\" font-family=\"sans-serif\" font-size=\"12\" lengthAdjust=\"spacingAndGlyphs\" textLength=\"23\" x=\"158.5\" y=\"392.1074\">c: C</text><line style=\"stroke: #383838; stroke-width: 1.5;\" x1=\"152\" x2=\"192\" y1=\"399.9375\" y2=\"399.9375\"/></a><!--MD5=[60a26617385b1d2d0262a64233df1f8d]\n",
       "class E6--><a href=\"psysml:f1885442-e1dd-46d9-92aa-2427019de9de\" target=\"_top\" title=\"psysml:f1885442-e1dd-46d9-92aa-2427019de9de\" xlink:actuate=\"onRequest\" xlink:href=\"psysml:f1885442-e1dd-46d9-92aa-2427019de9de\" xlink:show=\"new\" xlink:title=\"psysml:f1885442-e1dd-46d9-92aa-2427019de9de\" xlink:type=\"simple\"><rect fill=\"#FFFFFF\" height=\"45.9375\" id=\"E6\" style=\"stroke: #383838; stroke-width: 1.5;\" width=\"71\" x=\"112.5\" y=\"637\"/><text fill=\"#000000\" font-family=\"sans-serif\" font-size=\"12\" font-style=\"italic\" lengthAdjust=\"spacingAndGlyphs\" textLength=\"69\" x=\"113.5\" y=\"653.1387\">«item  def»</text><text fill=\"#000000\" font-family=\"sans-serif\" font-size=\"12\" font-style=\"italic\" lengthAdjust=\"spacingAndGlyphs\" textLength=\"8\" x=\"144\" y=\"667.1074\">B</text><line style=\"stroke: #383838; stroke-width: 1.5;\" x1=\"113.5\" x2=\"182.5\" y1=\"674.9375\" y2=\"674.9375\"/></a><!--MD5=[2156ba9850f5573cc1fc38a6a4b2f02b]\n",
       "class E7--><a href=\"psysml:cc0b7000-21b2-4abb-bead-e88feeed0b85\" target=\"_top\" title=\"psysml:cc0b7000-21b2-4abb-bead-e88feeed0b85\" xlink:actuate=\"onRequest\" xlink:href=\"psysml:cc0b7000-21b2-4abb-bead-e88feeed0b85\" xlink:show=\"new\" xlink:title=\"psysml:cc0b7000-21b2-4abb-bead-e88feeed0b85\" xlink:type=\"simple\"><rect fill=\"#FFFFFF\" height=\"45.9375\" id=\"E7\" rx=\"10\" ry=\"10\" style=\"stroke: #383838; stroke-width: 1.5;\" width=\"42\" x=\"159\" y=\"744\"/><text fill=\"#000000\" font-family=\"sans-serif\" font-size=\"12\" font-style=\"italic\" lengthAdjust=\"spacingAndGlyphs\" textLength=\"40\" x=\"160\" y=\"760.1387\">«part»</text><text fill=\"#000000\" font-family=\"sans-serif\" font-size=\"12\" font-style=\"italic\" lengthAdjust=\"spacingAndGlyphs\" textLength=\"8\" x=\"166\" y=\"774.1074\">a</text><text fill=\"#000000\" font-family=\"sans-serif\" font-size=\"12\" lengthAdjust=\"spacingAndGlyphs\" textLength=\"16\" x=\"174\" y=\"774.1074\">: A</text><line style=\"stroke: #383838; stroke-width: 1.5;\" x1=\"160\" x2=\"200\" y1=\"781.9375\" y2=\"781.9375\"/></a><!--MD5=[b9389687b975829384b498ac4b7476b2]\n",
       "class E8--><a href=\"psysml:6db780a5-cf23-40f2-9df9-03150cb096d0\" target=\"_top\" title=\"psysml:6db780a5-cf23-40f2-9df9-03150cb096d0\" xlink:actuate=\"onRequest\" xlink:href=\"psysml:6db780a5-cf23-40f2-9df9-03150cb096d0\" xlink:show=\"new\" xlink:title=\"psysml:6db780a5-cf23-40f2-9df9-03150cb096d0\" xlink:type=\"simple\"><rect fill=\"#FFFFFF\" height=\"45.9375\" id=\"E8\" style=\"stroke: #383838; stroke-width: 1.5;\" width=\"70\" x=\"113\" y=\"514\"/><text fill=\"#000000\" font-family=\"sans-serif\" font-size=\"12\" font-style=\"italic\" lengthAdjust=\"spacingAndGlyphs\" textLength=\"68\" x=\"114\" y=\"530.1387\">«part  def»</text><text fill=\"#000000\" font-family=\"sans-serif\" font-size=\"12\" lengthAdjust=\"spacingAndGlyphs\" textLength=\"8\" x=\"144\" y=\"544.1074\">C</text><line style=\"stroke: #383838; stroke-width: 1.5;\" x1=\"114\" x2=\"182\" y1=\"551.9375\" y2=\"551.9375\"/></a><!--MD5=[fd4143e9d270a159db93a4ea2a975926]\n",
       "class E9--><a href=\"psysml:587854cf-6fe1-483d-a698-c7fca9a0c13c\" target=\"_top\" title=\"psysml:587854cf-6fe1-483d-a698-c7fca9a0c13c\" xlink:actuate=\"onRequest\" xlink:href=\"psysml:587854cf-6fe1-483d-a698-c7fca9a0c13c\" xlink:show=\"new\" xlink:title=\"psysml:587854cf-6fe1-483d-a698-c7fca9a0c13c\" xlink:type=\"simple\"><rect fill=\"#FFFFFF\" height=\"45.9375\" id=\"E9\" style=\"stroke: #383838; stroke-width: 1.5;\" width=\"70\" x=\"64\" y=\"41\"/><text fill=\"#000000\" font-family=\"sans-serif\" font-size=\"12\" font-style=\"italic\" lengthAdjust=\"spacingAndGlyphs\" textLength=\"68\" x=\"65\" y=\"57.1387\">«port  def»</text><text fill=\"#000000\" font-family=\"sans-serif\" font-size=\"12\" lengthAdjust=\"spacingAndGlyphs\" textLength=\"8\" x=\"95\" y=\"71.1074\">P</text><line style=\"stroke: #383838; stroke-width: 1.5;\" x1=\"65\" x2=\"133\" y1=\"78.9375\" y2=\"78.9375\"/></a><!--MD5=[96f4274e9e20536e775497830990834d]\n",
       "class E10--><a href=\"psysml:f73739ed-5364-4403-8254-d4f943238dfa\" target=\"_top\" title=\"psysml:f73739ed-5364-4403-8254-d4f943238dfa\" xlink:actuate=\"onRequest\" xlink:href=\"psysml:f73739ed-5364-4403-8254-d4f943238dfa\" xlink:show=\"new\" xlink:title=\"psysml:f73739ed-5364-4403-8254-d4f943238dfa\" xlink:type=\"simple\"><rect fill=\"#FFFFFF\" height=\"45.9375\" id=\"E10\" rx=\"10\" ry=\"10\" style=\"stroke: #383838; stroke-width: 1.5;\" width=\"43\" x=\"32.5\" y=\"148\"/><text fill=\"#000000\" font-family=\"sans-serif\" font-size=\"12\" font-style=\"italic\" lengthAdjust=\"spacingAndGlyphs\" textLength=\"41\" x=\"33.5\" y=\"164.1387\">«item»</text><text fill=\"#000000\" font-family=\"sans-serif\" font-size=\"12\" lengthAdjust=\"spacingAndGlyphs\" textLength=\"32\" x=\"36\" y=\"178.1074\">a1: A</text><line style=\"stroke: #383838; stroke-width: 1.5;\" x1=\"33.5\" x2=\"74.5\" y1=\"185.9375\" y2=\"185.9375\"/></a><!--MD5=[1dd1bfd58a279cf63c5f349dbc8fc6a1]\n",
       "class E11--><a href=\"psysml:6a7a2def-0eff-4194-80a2-af7f6b4a129e\" target=\"_top\" title=\"psysml:6a7a2def-0eff-4194-80a2-af7f6b4a129e\" xlink:actuate=\"onRequest\" xlink:href=\"psysml:6a7a2def-0eff-4194-80a2-af7f6b4a129e\" xlink:show=\"new\" xlink:title=\"psysml:6a7a2def-0eff-4194-80a2-af7f6b4a129e\" xlink:type=\"simple\"><rect fill=\"#FFFFFF\" height=\"45.9375\" id=\"E11\" rx=\"10\" ry=\"10\" style=\"stroke: #383838; stroke-width: 1.5;\" width=\"43\" x=\"110.5\" y=\"148\"/><text fill=\"#000000\" font-family=\"sans-serif\" font-size=\"12\" font-style=\"italic\" lengthAdjust=\"spacingAndGlyphs\" textLength=\"41\" x=\"111.5\" y=\"164.1387\">«item»</text><text fill=\"#000000\" font-family=\"sans-serif\" font-size=\"12\" lengthAdjust=\"spacingAndGlyphs\" textLength=\"32\" x=\"114\" y=\"178.1074\">a2: A</text><line style=\"stroke: #383838; stroke-width: 1.5;\" x1=\"111.5\" x2=\"152.5\" y1=\"185.9375\" y2=\"185.9375\"/></a><!--MD5=[2720a5a1f2c3fca2055b230370638851]\n",
       "link E2 to E3--><a href=\"psysml:8851b494-fad9-483d-8771-6e667cb982eb\" target=\"_top\" title=\"psysml:8851b494-fad9-483d-8771-6e667cb982eb\" xlink:actuate=\"onRequest\" xlink:href=\"psysml:8851b494-fad9-483d-8771-6e667cb982eb\" xlink:show=\"new\" xlink:title=\"psysml:8851b494-fad9-483d-8771-6e667cb982eb\" xlink:type=\"simple\"><path d=\"M193.65,194.01 C184.14,206.81 171.89,223.3 160.82,238.2 \" fill=\"none\" id=\"E2-&gt;E3\" style=\"stroke: #383838; stroke-width: 1.0;\"/><polygon fill=\"#FFFFFF\" points=\"148.6,254.66,154.3195,235.2361,165.5543,243.5896,148.6,254.66\" style=\"stroke: #383838; stroke-width: 1.0;\"/><ellipse cx=\"159.3256\" cy=\"231.8554\" fill=\"#383838\" rx=\"2\" ry=\"2\" style=\"stroke: #383838; stroke-width: 1.0;\"/><ellipse cx=\"167.3504\" cy=\"237.8221\" fill=\"#383838\" rx=\"2\" ry=\"2\" style=\"stroke: #383838; stroke-width: 1.0;\"/></a><!--MD5=[4672eba38e49728da53d11aeb285b987]\n",
       "reverse link E3 to E4--><a href=\"psysml:bbc4490d-4884-4bf2-8394-3cd2641c3130\" target=\"_top\" title=\"psysml:bbc4490d-4884-4bf2-8394-3cd2641c3130\" xlink:actuate=\"onRequest\" xlink:href=\"psysml:bbc4490d-4884-4bf2-8394-3cd2641c3130\" xlink:show=\"new\" xlink:title=\"psysml:bbc4490d-4884-4bf2-8394-3cd2641c3130\" xlink:type=\"simple\"><path d=\"M105.34,311.54 C86.29,334.8 64,362 64,362 C64,362 64,408 64,408 C64,408 64.91,423.77 65.73,437.95 \" fill=\"none\" id=\"E3&lt;-E4\" style=\"stroke: #383838; stroke-width: 1.0;\"/><polygon fill=\"#FFFFFF\" points=\"113.78,301.24,106.883,303.3449,106.1733,310.521,113.0703,308.4161,113.78,301.24\" style=\"stroke: #383838; stroke-width: 1.0;\"/><text fill=\"#000000\" font-family=\"sans-serif\" font-size=\"13\" lengthAdjust=\"spacingAndGlyphs\" textLength=\"8\" x=\"56.3137\" y=\"426.8328\">1</text></a><!--MD5=[191cde3d490a3f6d7bb551fe3ddca469]\n",
       "reverse link E3 to E5--><a href=\"psysml:896e58a4-3d4e-4523-9980-c4907a158d3f\" target=\"_top\" title=\"psysml:896e58a4-3d4e-4523-9980-c4907a158d3f\" xlink:actuate=\"onRequest\" xlink:href=\"psysml:896e58a4-3d4e-4523-9980-c4907a158d3f\" xlink:show=\"new\" xlink:title=\"psysml:896e58a4-3d4e-4523-9980-c4907a158d3f\" xlink:type=\"simple\"><path d=\"M145.17,313.57 C151.2,329.39 158.16,347.68 163.49,361.66 \" fill=\"none\" id=\"E3&lt;-E5\" style=\"stroke: #383838; stroke-width: 1.0;\"/><polygon fill=\"#FFFFFF\" points=\"140.39,301.01,138.7866,308.0406,144.6598,312.2247,146.2631,305.1941,140.39,301.01\" style=\"stroke: #383838; stroke-width: 1.0;\"/><text fill=\"#000000\" font-family=\"sans-serif\" font-size=\"13\" lengthAdjust=\"spacingAndGlyphs\" textLength=\"8\" x=\"152.2843\" y=\"350.8492\">1</text></a><!--MD5=[79568f1e445c3877b6a54524624ccc7d]\n",
       "link E4 to E6--><a href=\"psysml:ae089d5e-98d2-4386-a1f6-d9056ad7f1db\" target=\"_top\" title=\"psysml:ae089d5e-98d2-4386-a1f6-d9056ad7f1db\" xlink:actuate=\"onRequest\" xlink:href=\"psysml:ae089d5e-98d2-4386-a1f6-d9056ad7f1db\" xlink:show=\"new\" xlink:title=\"psysml:ae089d5e-98d2-4386-a1f6-d9056ad7f1db\" xlink:type=\"simple\"><path d=\"M73.58,484.24 C82.14,513.15 96,560 96,560 C96,560 112.41,591.24 126.79,618.63 \" fill=\"none\" id=\"E4-&gt;E6\" style=\"stroke: #383838; stroke-width: 1.0;\"/><polygon fill=\"#FFFFFF\" points=\"136.2,636.54,121.1704,622.9713,133.5659,616.4636,136.2,636.54\" style=\"stroke: #383838; stroke-width: 1.0;\"/><ellipse cx=\"120.2916\" cy=\"616.9948\" fill=\"#383838\" rx=\"2\" ry=\"2\" style=\"stroke: #383838; stroke-width: 1.0;\"/><ellipse cx=\"129.1456\" cy=\"612.3465\" fill=\"#383838\" rx=\"2\" ry=\"2\" style=\"stroke: #383838; stroke-width: 1.0;\"/></a><!--MD5=[3f50a3473f1dfb74d3f76443e03635af]\n",
       "reverse link E6 to E7--><a href=\"psysml:f93e67a1-8e91-4b72-abc4-aff48dcc0ebf\" target=\"_top\" title=\"psysml:f93e67a1-8e91-4b72-abc4-aff48dcc0ebf\" xlink:actuate=\"onRequest\" xlink:href=\"psysml:f93e67a1-8e91-4b72-abc4-aff48dcc0ebf\" xlink:show=\"new\" xlink:title=\"psysml:f93e67a1-8e91-4b72-abc4-aff48dcc0ebf\" xlink:type=\"simple\"><path d=\"M158.54,695.57 C163.36,711.39 168.93,729.68 173.19,743.66 \" fill=\"none\" id=\"E6&lt;-E7\" style=\"stroke: #383838; stroke-width: 1.0;\"/><polygon fill=\"#FFFFFF\" points=\"154.71,683.01,152.6319,689.9152,158.2066,694.4893,160.2847,687.5841,154.71,683.01\" style=\"stroke: #383838; stroke-width: 1.0;\"/><text fill=\"#000000\" font-family=\"sans-serif\" font-size=\"13\" lengthAdjust=\"spacingAndGlyphs\" textLength=\"8\" x=\"162.4199\" y=\"732.8492\">1</text></a><!--MD5=[14ccda38c055a5c0da953d572bc50960]\n",
       "link E7 to E3--><a href=\"psysml:729e96ed-f9a8-4349-a416-61bf2a977bd8\" target=\"_top\" title=\"psysml:729e96ed-f9a8-4349-a416-61bf2a977bd8\" xlink:actuate=\"onRequest\" xlink:href=\"psysml:729e96ed-f9a8-4349-a416-61bf2a977bd8\" xlink:show=\"new\" xlink:title=\"psysml:729e96ed-f9a8-4349-a416-61bf2a977bd8\" xlink:type=\"simple\"><path d=\"M190.27,743.99 C204.64,713.2 229,661 229,661 C229,384 229,384 229,384 C229,384 211,362 211,362 C211,362 188.27,338.12 167.2,315.98 \" fill=\"none\" id=\"E7-&gt;E3\" style=\"stroke: #383838; stroke-width: 1.0;\"/><polygon fill=\"#FFFFFF\" points=\"153.17,301.24,171.3437,310.1683,161.2072,319.825,153.17,301.24\" style=\"stroke: #383838; stroke-width: 1.0;\"/><ellipse cx=\"173.8273\" cy=\"315.6749\" fill=\"#383838\" rx=\"2\" ry=\"2\" style=\"stroke: #383838; stroke-width: 1.0;\"/><ellipse cx=\"166.5869\" cy=\"322.5725\" fill=\"#383838\" rx=\"2\" ry=\"2\" style=\"stroke: #383838; stroke-width: 1.0;\"/></a><!--MD5=[dfaffb906826c3e5aca635516100ff21]\n",
       "link E5 to E8--><a href=\"psysml:8b27b07a-ba61-4df4-814a-c4b9eba72255\" target=\"_top\" title=\"psysml:8b27b07a-ba61-4df4-814a-c4b9eba72255\" xlink:actuate=\"onRequest\" xlink:href=\"psysml:8b27b07a-ba61-4df4-814a-c4b9eba72255\" xlink:show=\"new\" xlink:title=\"psysml:8b27b07a-ba61-4df4-814a-c4b9eba72255\" xlink:type=\"simple\"><path d=\"M168.46,408.13 C164.86,430.62 159.2,466.01 154.74,493.87 \" fill=\"none\" id=\"E5-&gt;E8\" style=\"stroke: #383838; stroke-width: 1.0;\"/><polygon fill=\"#FFFFFF\" points=\"151.56,513.78,147.6458,493.9135,161.4704,496.1226,151.56,513.78\" style=\"stroke: #383838; stroke-width: 1.0;\"/><ellipse cx=\"150.5202\" cy=\"488.6005\" fill=\"#383838\" rx=\"2\" ry=\"2\" style=\"stroke: #383838; stroke-width: 1.0;\"/><ellipse cx=\"160.3949\" cy=\"490.1784\" fill=\"#383838\" rx=\"2\" ry=\"2\" style=\"stroke: #383838; stroke-width: 1.0;\"/></a><!--MD5=[03c8294790d3c57651a1993cecff665f]\n",
       "reverse link E8 to E3--><a href=\"psysml:2fa26767-edf9-4f1d-8702-6d0b4fb1afcf\" target=\"_top\" title=\"psysml:2fa26767-edf9-4f1d-8702-6d0b4fb1afcf\" xlink:actuate=\"onRequest\" xlink:href=\"psysml:2fa26767-edf9-4f1d-8702-6d0b4fb1afcf\" xlink:show=\"new\" xlink:title=\"psysml:2fa26767-edf9-4f1d-8702-6d0b4fb1afcf\" xlink:type=\"simple\"><path d=\"M141.7,500.94 C134.89,463.05 125,408 125,408 C125,408 125,362 125,362 C125,362 128.05,325.83 130.12,301.24 \" fill=\"none\" id=\"E8&lt;-E3\" style=\"stroke: #383838; stroke-width: 1.0;\"/><polygon fill=\"#FFFFFF\" points=\"144.05,514,146.9258,507.3872,141.9277,502.1892,139.0519,508.802,144.05,514\" style=\"stroke: #383838; stroke-width: 1.0;\"/><text fill=\"#000000\" font-family=\"sans-serif\" font-size=\"13\" lengthAdjust=\"spacingAndGlyphs\" textLength=\"7\" x=\"126\" y=\"389.5669\">y</text></a><!--MD5=[0d75d2178373a6a4568e5dc728f58aef]\n",
       "reverse link E8 to E6--><a href=\"psysml:2fa26767-edf9-4f1d-8702-6d0b4fb1afcf\" target=\"_top\" title=\"psysml:2fa26767-edf9-4f1d-8702-6d0b4fb1afcf\" xlink:actuate=\"onRequest\" xlink:href=\"psysml:2fa26767-edf9-4f1d-8702-6d0b4fb1afcf\" xlink:show=\"new\" xlink:title=\"psysml:2fa26767-edf9-4f1d-8702-6d0b4fb1afcf\" xlink:type=\"simple\"><path d=\"M148,573.22 C148,593.81 148,619.16 148,636.95 \" fill=\"none\" id=\"E8&lt;-E6\" style=\"stroke: #383838; stroke-width: 1.0;\"/><polygon fill=\"#FFFFFF\" points=\"148,560.19,144,566.19,148,572.19,152,566.19,148,560.19\" style=\"stroke: #383838; stroke-width: 1.0;\"/><text fill=\"#000000\" font-family=\"sans-serif\" font-size=\"13\" lengthAdjust=\"spacingAndGlyphs\" textLength=\"7\" x=\"149\" y=\"603.0669\">y</text></a><!--MD5=[23ac544a70576c3e717098101004234c]\n",
       "reverse link E9 to E10--><a href=\"psysml:2a8d2925-3f72-4e1c-849d-9e3943fa1d15\" target=\"_top\" title=\"psysml:2a8d2925-3f72-4e1c-849d-9e3943fa1d15\" xlink:actuate=\"onRequest\" xlink:href=\"psysml:2a8d2925-3f72-4e1c-849d-9e3943fa1d15\" xlink:show=\"new\" xlink:title=\"psysml:2a8d2925-3f72-4e1c-849d-9e3943fa1d15\" xlink:type=\"simple\"><path d=\"M84.39,99.1 C77.56,115.03 69.63,133.54 63.58,147.66 \" fill=\"none\" id=\"E9&lt;-E10\" style=\"stroke: #383838; stroke-width: 1.0;\"/><polygon fill=\"#FFFFFF\" points=\"89.57,87.01,83.5327,90.9535,84.8509,98.0431,90.8882,94.0996,89.57,87.01\" style=\"stroke: #383838; stroke-width: 1.0;\"/><text fill=\"#000000\" font-family=\"sans-serif\" font-size=\"13\" lengthAdjust=\"spacingAndGlyphs\" textLength=\"8\" x=\"57.0099\" y=\"136.8492\">1</text></a><!--MD5=[feeac5eb423634930294aa81f2d25a4c]\n",
       "link E10 to E3--><a href=\"psysml:be0eb1db-3a2d-4525-bfbd-aed22db095bf\" target=\"_top\" title=\"psysml:be0eb1db-3a2d-4525-bfbd-aed22db095bf\" xlink:actuate=\"onRequest\" xlink:href=\"psysml:be0eb1db-3a2d-4525-bfbd-aed22db095bf\" xlink:show=\"new\" xlink:title=\"psysml:be0eb1db-3a2d-4525-bfbd-aed22db095bf\" xlink:type=\"simple\"><path d=\"M70.35,194.01 C79.86,206.81 92.11,223.3 103.18,238.2 \" fill=\"none\" id=\"E10-&gt;E3\" style=\"stroke: #383838; stroke-width: 1.0;\"/><polygon fill=\"#FFFFFF\" points=\"115.4,254.66,98.4457,243.5896,109.6805,235.2361,115.4,254.66\" style=\"stroke: #383838; stroke-width: 1.0;\"/><ellipse cx=\"96.6496\" cy=\"237.8221\" fill=\"#383838\" rx=\"2\" ry=\"2\" style=\"stroke: #383838; stroke-width: 1.0;\"/><ellipse cx=\"104.6744\" cy=\"231.8554\" fill=\"#383838\" rx=\"2\" ry=\"2\" style=\"stroke: #383838; stroke-width: 1.0;\"/></a><!--MD5=[1fc04a95fd77ad5ce46c1a3027516051]\n",
       "reverse link E9 to E11--><a href=\"psysml:4a4899a0-cca2-49ff-ba55-d15caf476c4f\" target=\"_top\" title=\"psysml:4a4899a0-cca2-49ff-ba55-d15caf476c4f\" xlink:actuate=\"onRequest\" xlink:href=\"psysml:4a4899a0-cca2-49ff-ba55-d15caf476c4f\" xlink:show=\"new\" xlink:title=\"psysml:4a4899a0-cca2-49ff-ba55-d15caf476c4f\" xlink:type=\"simple\"><path d=\"M109.87,99.57 C114.84,115.39 120.59,133.68 124.98,147.66 \" fill=\"none\" id=\"E9&lt;-E11\" style=\"stroke: #383838; stroke-width: 1.0;\"/><polygon fill=\"#FFFFFF\" points=\"105.92,87.01,103.9044,93.9337,109.5203,98.4572,111.5359,91.5335,105.92,87.01\" style=\"stroke: #383838; stroke-width: 1.0;\"/><text fill=\"#000000\" font-family=\"sans-serif\" font-size=\"13\" lengthAdjust=\"spacingAndGlyphs\" textLength=\"8\" x=\"114.1561\" y=\"136.8492\">1</text></a><!--MD5=[0517f1ce58c4d5483948f93845c45e26]\n",
       "link E11 to E3--><a href=\"psysml:8ddae6f0-112f-4ded-9c4d-74dd6bca1f55\" target=\"_top\" title=\"psysml:8ddae6f0-112f-4ded-9c4d-74dd6bca1f55\" xlink:actuate=\"onRequest\" xlink:href=\"psysml:8ddae6f0-112f-4ded-9c4d-74dd6bca1f55\" xlink:show=\"new\" xlink:title=\"psysml:8ddae6f0-112f-4ded-9c4d-74dd6bca1f55\" xlink:type=\"simple\"><path d=\"M132,194.01 C132,205.69 132,220.46 132,234.28 \" fill=\"none\" id=\"E11-&gt;E3\" style=\"stroke: #383838; stroke-width: 1.0;\"/><polygon fill=\"#FFFFFF\" points=\"132,254.66,125,235.66,139,235.66,132,254.66\" style=\"stroke: #383838; stroke-width: 1.0;\"/><ellipse cx=\"127\" cy=\"229.96\" fill=\"#383838\" rx=\"2\" ry=\"2\" style=\"stroke: #383838; stroke-width: 1.0;\"/><ellipse cx=\"137\" cy=\"229.96\" fill=\"#383838\" rx=\"2\" ry=\"2\" style=\"stroke: #383838; stroke-width: 1.0;\"/></a><!--MD5=[fbc13d32898ccddf28dff8260e9510fd]\n",
       "@startuml\r\n",
       "skinparam linetype polyline\r\n",
       "skinparam monochrome true\r\n",
       "skinparam classbackgroundcolor white\r\n",
       "skinparam shadowing false\r\n",
       "skinparam wrapWidth 300\r\n",
       "hide circle\r\n",
       "\r\n",
       "package \"ItemTest\" as E1  [[psysml:ae8f2d08-e2f6-41ef-ae81-a483692b435b ]]  {\r\n",
       "comp usage \"f: A \" as E2  <<(T,blue) item>> [[psysml:cbd0bd62-e912-4912-a2fb-da1e68d4f615 ]] {\r\n",
       "}\r\n",
       "comp def \"A\" as E3  <<(T,blue) item  def>> [[psysml:2b189b42-edf1-49d6-a72b-40b548d68a1d ]] {\r\n",
       "}\r\n",
       "comp usage \"b: B \" as E4  <<(T,blue) item>> [[psysml:94aeed99-fa0f-4cf3-9a3c-c07fcd3df143 ]] {\r\n",
       "}\r\n",
       "comp usage \"c: C \" as E5  <<(T,blue) part>> [[psysml:74f7fd5f-8520-4aae-9a17-942775661558 ]] {\r\n",
       "}\r\n",
       "comp def \"<i>B</i>\" as E6  <<(T,blue) item  def>> [[psysml:f1885442-e1dd-46d9-92aa-2427019de9de ]] {\r\n",
       "}\r\n",
       "comp usage \"<i>a</i>: A \" as E7  <<(T,blue) part>> [[psysml:cc0b7000-21b2-4abb-bead-e88feeed0b85 ]] {\r\n",
       "}\r\n",
       "comp def \"C\" as E8  <<(T,blue) part  def>> [[psysml:6db780a5-cf23-40f2-9df9-03150cb096d0 ]] {\r\n",
       "}\r\n",
       "comp def \"P\" as E9  <<(T,blue) port  def>> [[psysml:587854cf-6fe1-483d-a698-c7fca9a0c13c ]] {\r\n",
       "}\r\n",
       "comp usage \"a1: A \" as E10  <<(T,blue) item>> [[psysml:f73739ed-5364-4403-8254-d4f943238dfa ]] {\r\n",
       "}\r\n",
       "comp usage \"a2: A \" as E11  <<(T,blue) item>> [[psysml:6a7a2def-0eff-4194-80a2-af7f6b4a129e ]] {\r\n",
       "}\r\n",
       "}\r\n",
       "E2 - -:|> E3 [[psysml:8851b494-fad9-483d-8771-6e667cb982eb ]] \r\n",
       "E3 o- - \"1\"E4 [[psysml:bbc4490d-4884-4bf2-8394-3cd2641c3130 ]] \r\n",
       "E3 o- - \"1\"E5 [[psysml:896e58a4-3d4e-4523-9980-c4907a158d3f ]] \r\n",
       "E4 - -:|> E6 [[psysml:ae089d5e-98d2-4386-a1f6-d9056ad7f1db ]] \r\n",
       "E6 o- - \"1\"E7 [[psysml:f93e67a1-8e91-4b72-abc4-aff48dcc0ebf ]] \r\n",
       "E7 - -:|> E3 [[psysml:729e96ed-f9a8-4349-a416-61bf2a977bd8 ]] \r\n",
       "E5 - -:|> E8 [[psysml:8b27b07a-ba61-4df4-814a-c4b9eba72255 ]] \r\n",
       "E8 o- - E3 [[psysml:2fa26767-edf9-4f1d-8702-6d0b4fb1afcf ]] : y\r\n",
       "E8 o- - E6 [[psysml:2fa26767-edf9-4f1d-8702-6d0b4fb1afcf ]] : y\r\n",
       "E9 o- - \"1\"E10 [[psysml:2a8d2925-3f72-4e1c-849d-9e3943fa1d15 ]] \r\n",
       "E10 - -:|> E3 [[psysml:be0eb1db-3a2d-4525-bfbd-aed22db095bf ]] \r\n",
       "E9 o- - \"1\"E11 [[psysml:4a4899a0-cca2-49ff-ba55-d15caf476c4f ]] \r\n",
       "E11 - -:|> E3 [[psysml:8ddae6f0-112f-4ded-9c4d-74dd6bca1f55 ]] \r\n",
       "@enduml\r\n",
       "\n",
       "PlantUML version 1.2020.13(Sat Jun 13 12:26:38 UTC 2020)\n",
       "(EPL source distribution)\n",
       "Java Runtime: OpenJDK Runtime Environment\n",
       "JVM: OpenJDK 64-Bit Server VM\n",
       "Default Encoding: UTF-8\n",
       "Language: en\n",
       "Country: null\n",
       "--></g></svg>"
      ]
     },
     "execution_count": 9,
     "metadata": {},
     "output_type": "execute_result"
    }
   ],
   "source": [
    "%viz --style=\"POLYLINE\" --view=\"Default\" \"ItemTest\""
   ]
  },
  {
   "cell_type": "code",
   "execution_count": 10,
   "id": "17409835",
   "metadata": {
    "execution": {
     "iopub.execute_input": "2022-08-19T08:17:28.063716Z",
     "iopub.status.busy": "2022-08-19T08:17:28.063247Z",
     "iopub.status.idle": "2022-08-19T08:17:28.132507Z",
     "shell.execute_reply": "2022-08-19T08:17:28.132053Z"
    }
   },
   "outputs": [
    {
     "data": {
      "image/svg+xml": [
       "<?xml version=\"1.0\" encoding=\"UTF-8\" standalone=\"no\"?><svg xmlns=\"http://www.w3.org/2000/svg\" xmlns:xlink=\"http://www.w3.org/1999/xlink\" contentScriptType=\"application/ecmascript\" contentStyleType=\"text/css\" height=\"818px\" preserveAspectRatio=\"none\" style=\"width:270px;height:818px;\" version=\"1.1\" viewBox=\"0 0 270 818\" width=\"270px\" zoomAndPan=\"magnify\"><defs/><g><!--MD5=[fbc87193dbaf4d95561dea2c320d4a47]\n",
       "cluster E1--><a href=\"psysml:ae8f2d08-e2f6-41ef-ae81-a483692b435b\" target=\"_top\" title=\"psysml:ae8f2d08-e2f6-41ef-ae81-a483692b435b\" xlink:actuate=\"onRequest\" xlink:href=\"psysml:ae8f2d08-e2f6-41ef-ae81-a483692b435b\" xlink:show=\"new\" xlink:title=\"psysml:ae8f2d08-e2f6-41ef-ae81-a483692b435b\" xlink:type=\"simple\"><polygon fill=\"#FFFFFF\" points=\"16,6,83,6,90,28.2969,248,28.2969,248,806,16,806,16,6\" style=\"stroke: #000000; stroke-width: 1.5;\"/><line style=\"stroke: #000000; stroke-width: 1.5;\" x1=\"16\" x2=\"90\" y1=\"28.2969\" y2=\"28.2969\"/><text fill=\"#000000\" font-family=\"sans-serif\" font-size=\"14\" font-weight=\"bold\" lengthAdjust=\"spacingAndGlyphs\" textLength=\"61\" x=\"20\" y=\"20.9951\">ItemTest</text></a><!--MD5=[b4997ac47864f28c2f74865a473b2911]\n",
       "class E2--><a href=\"psysml:cbd0bd62-e912-4912-a2fb-da1e68d4f615\" target=\"_top\" title=\"psysml:cbd0bd62-e912-4912-a2fb-da1e68d4f615\" xlink:actuate=\"onRequest\" xlink:href=\"psysml:cbd0bd62-e912-4912-a2fb-da1e68d4f615\" xlink:show=\"new\" xlink:title=\"psysml:cbd0bd62-e912-4912-a2fb-da1e68d4f615\" xlink:type=\"simple\"><rect fill=\"#FFFFFF\" height=\"45.9375\" id=\"E2\" rx=\"10\" ry=\"10\" style=\"stroke: #383838; stroke-width: 1.5;\" width=\"43\" x=\"188.5\" y=\"148\"/><text fill=\"#000000\" font-family=\"sans-serif\" font-size=\"12\" font-style=\"italic\" lengthAdjust=\"spacingAndGlyphs\" textLength=\"41\" x=\"189.5\" y=\"164.1387\">«item»</text><text fill=\"#000000\" font-family=\"sans-serif\" font-size=\"12\" lengthAdjust=\"spacingAndGlyphs\" textLength=\"20\" x=\"198\" y=\"178.1074\">f: A</text><line style=\"stroke: #383838; stroke-width: 1.5;\" x1=\"189.5\" x2=\"230.5\" y1=\"185.9375\" y2=\"185.9375\"/></a><!--MD5=[09b614a08d8cba4a07c9adeb5e0fee81]\n",
       "class E3--><a href=\"psysml:2b189b42-edf1-49d6-a72b-40b548d68a1d\" target=\"_top\" title=\"psysml:2b189b42-edf1-49d6-a72b-40b548d68a1d\" xlink:actuate=\"onRequest\" xlink:href=\"psysml:2b189b42-edf1-49d6-a72b-40b548d68a1d\" xlink:show=\"new\" xlink:title=\"psysml:2b189b42-edf1-49d6-a72b-40b548d68a1d\" xlink:type=\"simple\"><rect fill=\"#FFFFFF\" height=\"45.9375\" id=\"E3\" style=\"stroke: #383838; stroke-width: 1.5;\" width=\"71\" x=\"96.5\" y=\"255\"/><text fill=\"#000000\" font-family=\"sans-serif\" font-size=\"12\" font-style=\"italic\" lengthAdjust=\"spacingAndGlyphs\" textLength=\"69\" x=\"97.5\" y=\"271.1387\">«item  def»</text><text fill=\"#000000\" font-family=\"sans-serif\" font-size=\"12\" lengthAdjust=\"spacingAndGlyphs\" textLength=\"8\" x=\"128\" y=\"285.1074\">A</text><line style=\"stroke: #383838; stroke-width: 1.5;\" x1=\"97.5\" x2=\"166.5\" y1=\"292.9375\" y2=\"292.9375\"/></a><!--MD5=[ebbe1d658d1005bcc118a6aa81145e00]\n",
       "class E4--><a href=\"psysml:94aeed99-fa0f-4cf3-9a3c-c07fcd3df143\" target=\"_top\" title=\"psysml:94aeed99-fa0f-4cf3-9a3c-c07fcd3df143\" xlink:actuate=\"onRequest\" xlink:href=\"psysml:94aeed99-fa0f-4cf3-9a3c-c07fcd3df143\" xlink:show=\"new\" xlink:title=\"psysml:94aeed99-fa0f-4cf3-9a3c-c07fcd3df143\" xlink:type=\"simple\"><rect fill=\"#FFFFFF\" height=\"45.9375\" id=\"E4\" rx=\"10\" ry=\"10\" style=\"stroke: #383838; stroke-width: 1.5;\" width=\"43\" x=\"45.5\" y=\"438\"/><text fill=\"#000000\" font-family=\"sans-serif\" font-size=\"12\" font-style=\"italic\" lengthAdjust=\"spacingAndGlyphs\" textLength=\"41\" x=\"46.5\" y=\"454.1387\">«item»</text><text fill=\"#000000\" font-family=\"sans-serif\" font-size=\"12\" lengthAdjust=\"spacingAndGlyphs\" textLength=\"24\" x=\"53\" y=\"468.1074\">b: B</text><line style=\"stroke: #383838; stroke-width: 1.5;\" x1=\"46.5\" x2=\"87.5\" y1=\"475.9375\" y2=\"475.9375\"/></a><!--MD5=[270fce915f116d4de14055a7c1d9a0f3]\n",
       "class E5--><a href=\"psysml:74f7fd5f-8520-4aae-9a17-942775661558\" target=\"_top\" title=\"psysml:74f7fd5f-8520-4aae-9a17-942775661558\" xlink:actuate=\"onRequest\" xlink:href=\"psysml:74f7fd5f-8520-4aae-9a17-942775661558\" xlink:show=\"new\" xlink:title=\"psysml:74f7fd5f-8520-4aae-9a17-942775661558\" xlink:type=\"simple\"><rect fill=\"#FFFFFF\" height=\"45.9375\" id=\"E5\" rx=\"10\" ry=\"10\" style=\"stroke: #383838; stroke-width: 1.5;\" width=\"42\" x=\"151\" y=\"362\"/><text fill=\"#000000\" font-family=\"sans-serif\" font-size=\"12\" font-style=\"italic\" lengthAdjust=\"spacingAndGlyphs\" textLength=\"40\" x=\"152\" y=\"378.1387\">«part»</text><text fill=\"#000000\" font-family=\"sans-serif\" font-size=\"12\" lengthAdjust=\"spacingAndGlyphs\" textLength=\"23\" x=\"158.5\" y=\"392.1074\">c: C</text><line style=\"stroke: #383838; stroke-width: 1.5;\" x1=\"152\" x2=\"192\" y1=\"399.9375\" y2=\"399.9375\"/></a><!--MD5=[60a26617385b1d2d0262a64233df1f8d]\n",
       "class E6--><a href=\"psysml:f1885442-e1dd-46d9-92aa-2427019de9de\" target=\"_top\" title=\"psysml:f1885442-e1dd-46d9-92aa-2427019de9de\" xlink:actuate=\"onRequest\" xlink:href=\"psysml:f1885442-e1dd-46d9-92aa-2427019de9de\" xlink:show=\"new\" xlink:title=\"psysml:f1885442-e1dd-46d9-92aa-2427019de9de\" xlink:type=\"simple\"><rect fill=\"#FFFFFF\" height=\"45.9375\" id=\"E6\" style=\"stroke: #383838; stroke-width: 1.5;\" width=\"71\" x=\"112.5\" y=\"637\"/><text fill=\"#000000\" font-family=\"sans-serif\" font-size=\"12\" font-style=\"italic\" lengthAdjust=\"spacingAndGlyphs\" textLength=\"69\" x=\"113.5\" y=\"653.1387\">«item  def»</text><text fill=\"#000000\" font-family=\"sans-serif\" font-size=\"12\" font-style=\"italic\" lengthAdjust=\"spacingAndGlyphs\" textLength=\"8\" x=\"144\" y=\"667.1074\">B</text><line style=\"stroke: #383838; stroke-width: 1.5;\" x1=\"113.5\" x2=\"182.5\" y1=\"674.9375\" y2=\"674.9375\"/></a><!--MD5=[2156ba9850f5573cc1fc38a6a4b2f02b]\n",
       "class E7--><a href=\"psysml:cc0b7000-21b2-4abb-bead-e88feeed0b85\" target=\"_top\" title=\"psysml:cc0b7000-21b2-4abb-bead-e88feeed0b85\" xlink:actuate=\"onRequest\" xlink:href=\"psysml:cc0b7000-21b2-4abb-bead-e88feeed0b85\" xlink:show=\"new\" xlink:title=\"psysml:cc0b7000-21b2-4abb-bead-e88feeed0b85\" xlink:type=\"simple\"><rect fill=\"#FFFFFF\" height=\"45.9375\" id=\"E7\" rx=\"10\" ry=\"10\" style=\"stroke: #383838; stroke-width: 1.5;\" width=\"42\" x=\"159\" y=\"744\"/><text fill=\"#000000\" font-family=\"sans-serif\" font-size=\"12\" font-style=\"italic\" lengthAdjust=\"spacingAndGlyphs\" textLength=\"40\" x=\"160\" y=\"760.1387\">«part»</text><text fill=\"#000000\" font-family=\"sans-serif\" font-size=\"12\" font-style=\"italic\" lengthAdjust=\"spacingAndGlyphs\" textLength=\"8\" x=\"166\" y=\"774.1074\">a</text><text fill=\"#000000\" font-family=\"sans-serif\" font-size=\"12\" lengthAdjust=\"spacingAndGlyphs\" textLength=\"16\" x=\"174\" y=\"774.1074\">: A</text><line style=\"stroke: #383838; stroke-width: 1.5;\" x1=\"160\" x2=\"200\" y1=\"781.9375\" y2=\"781.9375\"/></a><!--MD5=[b9389687b975829384b498ac4b7476b2]\n",
       "class E8--><a href=\"psysml:6db780a5-cf23-40f2-9df9-03150cb096d0\" target=\"_top\" title=\"psysml:6db780a5-cf23-40f2-9df9-03150cb096d0\" xlink:actuate=\"onRequest\" xlink:href=\"psysml:6db780a5-cf23-40f2-9df9-03150cb096d0\" xlink:show=\"new\" xlink:title=\"psysml:6db780a5-cf23-40f2-9df9-03150cb096d0\" xlink:type=\"simple\"><rect fill=\"#FFFFFF\" height=\"45.9375\" id=\"E8\" style=\"stroke: #383838; stroke-width: 1.5;\" width=\"70\" x=\"113\" y=\"514\"/><text fill=\"#000000\" font-family=\"sans-serif\" font-size=\"12\" font-style=\"italic\" lengthAdjust=\"spacingAndGlyphs\" textLength=\"68\" x=\"114\" y=\"530.1387\">«part  def»</text><text fill=\"#000000\" font-family=\"sans-serif\" font-size=\"12\" lengthAdjust=\"spacingAndGlyphs\" textLength=\"8\" x=\"144\" y=\"544.1074\">C</text><line style=\"stroke: #383838; stroke-width: 1.5;\" x1=\"114\" x2=\"182\" y1=\"551.9375\" y2=\"551.9375\"/></a><!--MD5=[fd4143e9d270a159db93a4ea2a975926]\n",
       "class E9--><a href=\"psysml:587854cf-6fe1-483d-a698-c7fca9a0c13c\" target=\"_top\" title=\"psysml:587854cf-6fe1-483d-a698-c7fca9a0c13c\" xlink:actuate=\"onRequest\" xlink:href=\"psysml:587854cf-6fe1-483d-a698-c7fca9a0c13c\" xlink:show=\"new\" xlink:title=\"psysml:587854cf-6fe1-483d-a698-c7fca9a0c13c\" xlink:type=\"simple\"><rect fill=\"#FFFFFF\" height=\"45.9375\" id=\"E9\" style=\"stroke: #383838; stroke-width: 1.5;\" width=\"70\" x=\"64\" y=\"41\"/><text fill=\"#000000\" font-family=\"sans-serif\" font-size=\"12\" font-style=\"italic\" lengthAdjust=\"spacingAndGlyphs\" textLength=\"68\" x=\"65\" y=\"57.1387\">«port  def»</text><text fill=\"#000000\" font-family=\"sans-serif\" font-size=\"12\" lengthAdjust=\"spacingAndGlyphs\" textLength=\"8\" x=\"95\" y=\"71.1074\">P</text><line style=\"stroke: #383838; stroke-width: 1.5;\" x1=\"65\" x2=\"133\" y1=\"78.9375\" y2=\"78.9375\"/></a><!--MD5=[96f4274e9e20536e775497830990834d]\n",
       "class E10--><a href=\"psysml:f73739ed-5364-4403-8254-d4f943238dfa\" target=\"_top\" title=\"psysml:f73739ed-5364-4403-8254-d4f943238dfa\" xlink:actuate=\"onRequest\" xlink:href=\"psysml:f73739ed-5364-4403-8254-d4f943238dfa\" xlink:show=\"new\" xlink:title=\"psysml:f73739ed-5364-4403-8254-d4f943238dfa\" xlink:type=\"simple\"><rect fill=\"#FFFFFF\" height=\"45.9375\" id=\"E10\" rx=\"10\" ry=\"10\" style=\"stroke: #383838; stroke-width: 1.5;\" width=\"43\" x=\"32.5\" y=\"148\"/><text fill=\"#000000\" font-family=\"sans-serif\" font-size=\"12\" font-style=\"italic\" lengthAdjust=\"spacingAndGlyphs\" textLength=\"41\" x=\"33.5\" y=\"164.1387\">«item»</text><text fill=\"#000000\" font-family=\"sans-serif\" font-size=\"12\" lengthAdjust=\"spacingAndGlyphs\" textLength=\"32\" x=\"36\" y=\"178.1074\">a1: A</text><line style=\"stroke: #383838; stroke-width: 1.5;\" x1=\"33.5\" x2=\"74.5\" y1=\"185.9375\" y2=\"185.9375\"/></a><!--MD5=[1dd1bfd58a279cf63c5f349dbc8fc6a1]\n",
       "class E11--><a href=\"psysml:6a7a2def-0eff-4194-80a2-af7f6b4a129e\" target=\"_top\" title=\"psysml:6a7a2def-0eff-4194-80a2-af7f6b4a129e\" xlink:actuate=\"onRequest\" xlink:href=\"psysml:6a7a2def-0eff-4194-80a2-af7f6b4a129e\" xlink:show=\"new\" xlink:title=\"psysml:6a7a2def-0eff-4194-80a2-af7f6b4a129e\" xlink:type=\"simple\"><rect fill=\"#FFFFFF\" height=\"45.9375\" id=\"E11\" rx=\"10\" ry=\"10\" style=\"stroke: #383838; stroke-width: 1.5;\" width=\"43\" x=\"110.5\" y=\"148\"/><text fill=\"#000000\" font-family=\"sans-serif\" font-size=\"12\" font-style=\"italic\" lengthAdjust=\"spacingAndGlyphs\" textLength=\"41\" x=\"111.5\" y=\"164.1387\">«item»</text><text fill=\"#000000\" font-family=\"sans-serif\" font-size=\"12\" lengthAdjust=\"spacingAndGlyphs\" textLength=\"32\" x=\"114\" y=\"178.1074\">a2: A</text><line style=\"stroke: #383838; stroke-width: 1.5;\" x1=\"111.5\" x2=\"152.5\" y1=\"185.9375\" y2=\"185.9375\"/></a><!--MD5=[2720a5a1f2c3fca2055b230370638851]\n",
       "link E2 to E3--><a href=\"psysml:8851b494-fad9-483d-8771-6e667cb982eb\" target=\"_top\" title=\"psysml:8851b494-fad9-483d-8771-6e667cb982eb\" xlink:actuate=\"onRequest\" xlink:href=\"psysml:8851b494-fad9-483d-8771-6e667cb982eb\" xlink:show=\"new\" xlink:title=\"psysml:8851b494-fad9-483d-8771-6e667cb982eb\" xlink:type=\"simple\"><path d=\"M193.65,194.01 C184.14,206.81 171.89,223.3 160.82,238.2 \" fill=\"none\" id=\"E2-&gt;E3\" style=\"stroke: #383838; stroke-width: 1.0;\"/><polygon fill=\"#FFFFFF\" points=\"148.6,254.66,154.3195,235.2361,165.5543,243.5896,148.6,254.66\" style=\"stroke: #383838; stroke-width: 1.0;\"/><ellipse cx=\"159.3256\" cy=\"231.8554\" fill=\"#383838\" rx=\"2\" ry=\"2\" style=\"stroke: #383838; stroke-width: 1.0;\"/><ellipse cx=\"167.3504\" cy=\"237.8221\" fill=\"#383838\" rx=\"2\" ry=\"2\" style=\"stroke: #383838; stroke-width: 1.0;\"/></a><!--MD5=[4672eba38e49728da53d11aeb285b987]\n",
       "reverse link E3 to E4--><a href=\"psysml:bbc4490d-4884-4bf2-8394-3cd2641c3130\" target=\"_top\" title=\"psysml:bbc4490d-4884-4bf2-8394-3cd2641c3130\" xlink:actuate=\"onRequest\" xlink:href=\"psysml:bbc4490d-4884-4bf2-8394-3cd2641c3130\" xlink:show=\"new\" xlink:title=\"psysml:bbc4490d-4884-4bf2-8394-3cd2641c3130\" xlink:type=\"simple\"><path d=\"M105.34,311.54 C86.29,334.8 64,362 64,362 C64,362 64,408 64,408 C64,408 64.91,423.77 65.73,437.95 \" fill=\"none\" id=\"E3&lt;-E4\" style=\"stroke: #383838; stroke-width: 1.0;\"/><polygon fill=\"#FFFFFF\" points=\"113.78,301.24,106.883,303.3449,106.1733,310.521,113.0703,308.4161,113.78,301.24\" style=\"stroke: #383838; stroke-width: 1.0;\"/><text fill=\"#000000\" font-family=\"sans-serif\" font-size=\"13\" lengthAdjust=\"spacingAndGlyphs\" textLength=\"8\" x=\"56.3137\" y=\"426.8328\">1</text></a><!--MD5=[191cde3d490a3f6d7bb551fe3ddca469]\n",
       "reverse link E3 to E5--><a href=\"psysml:896e58a4-3d4e-4523-9980-c4907a158d3f\" target=\"_top\" title=\"psysml:896e58a4-3d4e-4523-9980-c4907a158d3f\" xlink:actuate=\"onRequest\" xlink:href=\"psysml:896e58a4-3d4e-4523-9980-c4907a158d3f\" xlink:show=\"new\" xlink:title=\"psysml:896e58a4-3d4e-4523-9980-c4907a158d3f\" xlink:type=\"simple\"><path d=\"M145.17,313.57 C151.2,329.39 158.16,347.68 163.49,361.66 \" fill=\"none\" id=\"E3&lt;-E5\" style=\"stroke: #383838; stroke-width: 1.0;\"/><polygon fill=\"#FFFFFF\" points=\"140.39,301.01,138.7866,308.0406,144.6598,312.2247,146.2631,305.1941,140.39,301.01\" style=\"stroke: #383838; stroke-width: 1.0;\"/><text fill=\"#000000\" font-family=\"sans-serif\" font-size=\"13\" lengthAdjust=\"spacingAndGlyphs\" textLength=\"8\" x=\"152.2843\" y=\"350.8492\">1</text></a><!--MD5=[79568f1e445c3877b6a54524624ccc7d]\n",
       "link E4 to E6--><a href=\"psysml:ae089d5e-98d2-4386-a1f6-d9056ad7f1db\" target=\"_top\" title=\"psysml:ae089d5e-98d2-4386-a1f6-d9056ad7f1db\" xlink:actuate=\"onRequest\" xlink:href=\"psysml:ae089d5e-98d2-4386-a1f6-d9056ad7f1db\" xlink:show=\"new\" xlink:title=\"psysml:ae089d5e-98d2-4386-a1f6-d9056ad7f1db\" xlink:type=\"simple\"><path d=\"M73.58,484.24 C82.14,513.15 96,560 96,560 C96,560 112.41,591.24 126.79,618.63 \" fill=\"none\" id=\"E4-&gt;E6\" style=\"stroke: #383838; stroke-width: 1.0;\"/><polygon fill=\"#FFFFFF\" points=\"136.2,636.54,121.1704,622.9713,133.5659,616.4636,136.2,636.54\" style=\"stroke: #383838; stroke-width: 1.0;\"/><ellipse cx=\"120.2916\" cy=\"616.9948\" fill=\"#383838\" rx=\"2\" ry=\"2\" style=\"stroke: #383838; stroke-width: 1.0;\"/><ellipse cx=\"129.1456\" cy=\"612.3465\" fill=\"#383838\" rx=\"2\" ry=\"2\" style=\"stroke: #383838; stroke-width: 1.0;\"/></a><!--MD5=[3f50a3473f1dfb74d3f76443e03635af]\n",
       "reverse link E6 to E7--><a href=\"psysml:f93e67a1-8e91-4b72-abc4-aff48dcc0ebf\" target=\"_top\" title=\"psysml:f93e67a1-8e91-4b72-abc4-aff48dcc0ebf\" xlink:actuate=\"onRequest\" xlink:href=\"psysml:f93e67a1-8e91-4b72-abc4-aff48dcc0ebf\" xlink:show=\"new\" xlink:title=\"psysml:f93e67a1-8e91-4b72-abc4-aff48dcc0ebf\" xlink:type=\"simple\"><path d=\"M158.54,695.57 C163.36,711.39 168.93,729.68 173.19,743.66 \" fill=\"none\" id=\"E6&lt;-E7\" style=\"stroke: #383838; stroke-width: 1.0;\"/><polygon fill=\"#FFFFFF\" points=\"154.71,683.01,152.6319,689.9152,158.2066,694.4893,160.2847,687.5841,154.71,683.01\" style=\"stroke: #383838; stroke-width: 1.0;\"/><text fill=\"#000000\" font-family=\"sans-serif\" font-size=\"13\" lengthAdjust=\"spacingAndGlyphs\" textLength=\"8\" x=\"162.4199\" y=\"732.8492\">1</text></a><!--MD5=[14ccda38c055a5c0da953d572bc50960]\n",
       "link E7 to E3--><a href=\"psysml:729e96ed-f9a8-4349-a416-61bf2a977bd8\" target=\"_top\" title=\"psysml:729e96ed-f9a8-4349-a416-61bf2a977bd8\" xlink:actuate=\"onRequest\" xlink:href=\"psysml:729e96ed-f9a8-4349-a416-61bf2a977bd8\" xlink:show=\"new\" xlink:title=\"psysml:729e96ed-f9a8-4349-a416-61bf2a977bd8\" xlink:type=\"simple\"><path d=\"M190.27,743.99 C204.64,713.2 229,661 229,661 C229,384 229,384 229,384 C229,384 211,362 211,362 C211,362 188.27,338.12 167.2,315.98 \" fill=\"none\" id=\"E7-&gt;E3\" style=\"stroke: #383838; stroke-width: 1.0;\"/><polygon fill=\"#FFFFFF\" points=\"153.17,301.24,171.3437,310.1683,161.2072,319.825,153.17,301.24\" style=\"stroke: #383838; stroke-width: 1.0;\"/><ellipse cx=\"173.8273\" cy=\"315.6749\" fill=\"#383838\" rx=\"2\" ry=\"2\" style=\"stroke: #383838; stroke-width: 1.0;\"/><ellipse cx=\"166.5869\" cy=\"322.5725\" fill=\"#383838\" rx=\"2\" ry=\"2\" style=\"stroke: #383838; stroke-width: 1.0;\"/></a><!--MD5=[dfaffb906826c3e5aca635516100ff21]\n",
       "link E5 to E8--><a href=\"psysml:8b27b07a-ba61-4df4-814a-c4b9eba72255\" target=\"_top\" title=\"psysml:8b27b07a-ba61-4df4-814a-c4b9eba72255\" xlink:actuate=\"onRequest\" xlink:href=\"psysml:8b27b07a-ba61-4df4-814a-c4b9eba72255\" xlink:show=\"new\" xlink:title=\"psysml:8b27b07a-ba61-4df4-814a-c4b9eba72255\" xlink:type=\"simple\"><path d=\"M168.46,408.13 C164.86,430.62 159.2,466.01 154.74,493.87 \" fill=\"none\" id=\"E5-&gt;E8\" style=\"stroke: #383838; stroke-width: 1.0;\"/><polygon fill=\"#FFFFFF\" points=\"151.56,513.78,147.6458,493.9135,161.4704,496.1226,151.56,513.78\" style=\"stroke: #383838; stroke-width: 1.0;\"/><ellipse cx=\"150.5202\" cy=\"488.6005\" fill=\"#383838\" rx=\"2\" ry=\"2\" style=\"stroke: #383838; stroke-width: 1.0;\"/><ellipse cx=\"160.3949\" cy=\"490.1784\" fill=\"#383838\" rx=\"2\" ry=\"2\" style=\"stroke: #383838; stroke-width: 1.0;\"/></a><!--MD5=[03c8294790d3c57651a1993cecff665f]\n",
       "reverse link E8 to E3--><a href=\"psysml:2fa26767-edf9-4f1d-8702-6d0b4fb1afcf\" target=\"_top\" title=\"psysml:2fa26767-edf9-4f1d-8702-6d0b4fb1afcf\" xlink:actuate=\"onRequest\" xlink:href=\"psysml:2fa26767-edf9-4f1d-8702-6d0b4fb1afcf\" xlink:show=\"new\" xlink:title=\"psysml:2fa26767-edf9-4f1d-8702-6d0b4fb1afcf\" xlink:type=\"simple\"><path d=\"M141.7,500.94 C134.89,463.05 125,408 125,408 C125,408 125,362 125,362 C125,362 128.05,325.83 130.12,301.24 \" fill=\"none\" id=\"E8&lt;-E3\" style=\"stroke: #383838; stroke-width: 1.0;\"/><polygon fill=\"#FFFFFF\" points=\"144.05,514,146.9258,507.3872,141.9277,502.1892,139.0519,508.802,144.05,514\" style=\"stroke: #383838; stroke-width: 1.0;\"/><text fill=\"#000000\" font-family=\"sans-serif\" font-size=\"13\" lengthAdjust=\"spacingAndGlyphs\" textLength=\"7\" x=\"126\" y=\"389.5669\">y</text></a><!--MD5=[0d75d2178373a6a4568e5dc728f58aef]\n",
       "reverse link E8 to E6--><a href=\"psysml:2fa26767-edf9-4f1d-8702-6d0b4fb1afcf\" target=\"_top\" title=\"psysml:2fa26767-edf9-4f1d-8702-6d0b4fb1afcf\" xlink:actuate=\"onRequest\" xlink:href=\"psysml:2fa26767-edf9-4f1d-8702-6d0b4fb1afcf\" xlink:show=\"new\" xlink:title=\"psysml:2fa26767-edf9-4f1d-8702-6d0b4fb1afcf\" xlink:type=\"simple\"><path d=\"M148,573.22 C148,593.81 148,619.16 148,636.95 \" fill=\"none\" id=\"E8&lt;-E6\" style=\"stroke: #383838; stroke-width: 1.0;\"/><polygon fill=\"#FFFFFF\" points=\"148,560.19,144,566.19,148,572.19,152,566.19,148,560.19\" style=\"stroke: #383838; stroke-width: 1.0;\"/><text fill=\"#000000\" font-family=\"sans-serif\" font-size=\"13\" lengthAdjust=\"spacingAndGlyphs\" textLength=\"7\" x=\"149\" y=\"603.0669\">y</text></a><!--MD5=[23ac544a70576c3e717098101004234c]\n",
       "reverse link E9 to E10--><a href=\"psysml:2a8d2925-3f72-4e1c-849d-9e3943fa1d15\" target=\"_top\" title=\"psysml:2a8d2925-3f72-4e1c-849d-9e3943fa1d15\" xlink:actuate=\"onRequest\" xlink:href=\"psysml:2a8d2925-3f72-4e1c-849d-9e3943fa1d15\" xlink:show=\"new\" xlink:title=\"psysml:2a8d2925-3f72-4e1c-849d-9e3943fa1d15\" xlink:type=\"simple\"><path d=\"M84.39,99.1 C77.56,115.03 69.63,133.54 63.58,147.66 \" fill=\"none\" id=\"E9&lt;-E10\" style=\"stroke: #383838; stroke-width: 1.0;\"/><polygon fill=\"#FFFFFF\" points=\"89.57,87.01,83.5327,90.9535,84.8509,98.0431,90.8882,94.0996,89.57,87.01\" style=\"stroke: #383838; stroke-width: 1.0;\"/><text fill=\"#000000\" font-family=\"sans-serif\" font-size=\"13\" lengthAdjust=\"spacingAndGlyphs\" textLength=\"8\" x=\"57.0099\" y=\"136.8492\">1</text></a><!--MD5=[feeac5eb423634930294aa81f2d25a4c]\n",
       "link E10 to E3--><a href=\"psysml:be0eb1db-3a2d-4525-bfbd-aed22db095bf\" target=\"_top\" title=\"psysml:be0eb1db-3a2d-4525-bfbd-aed22db095bf\" xlink:actuate=\"onRequest\" xlink:href=\"psysml:be0eb1db-3a2d-4525-bfbd-aed22db095bf\" xlink:show=\"new\" xlink:title=\"psysml:be0eb1db-3a2d-4525-bfbd-aed22db095bf\" xlink:type=\"simple\"><path d=\"M70.35,194.01 C79.86,206.81 92.11,223.3 103.18,238.2 \" fill=\"none\" id=\"E10-&gt;E3\" style=\"stroke: #383838; stroke-width: 1.0;\"/><polygon fill=\"#FFFFFF\" points=\"115.4,254.66,98.4457,243.5896,109.6805,235.2361,115.4,254.66\" style=\"stroke: #383838; stroke-width: 1.0;\"/><ellipse cx=\"96.6496\" cy=\"237.8221\" fill=\"#383838\" rx=\"2\" ry=\"2\" style=\"stroke: #383838; stroke-width: 1.0;\"/><ellipse cx=\"104.6744\" cy=\"231.8554\" fill=\"#383838\" rx=\"2\" ry=\"2\" style=\"stroke: #383838; stroke-width: 1.0;\"/></a><!--MD5=[1fc04a95fd77ad5ce46c1a3027516051]\n",
       "reverse link E9 to E11--><a href=\"psysml:4a4899a0-cca2-49ff-ba55-d15caf476c4f\" target=\"_top\" title=\"psysml:4a4899a0-cca2-49ff-ba55-d15caf476c4f\" xlink:actuate=\"onRequest\" xlink:href=\"psysml:4a4899a0-cca2-49ff-ba55-d15caf476c4f\" xlink:show=\"new\" xlink:title=\"psysml:4a4899a0-cca2-49ff-ba55-d15caf476c4f\" xlink:type=\"simple\"><path d=\"M109.87,99.57 C114.84,115.39 120.59,133.68 124.98,147.66 \" fill=\"none\" id=\"E9&lt;-E11\" style=\"stroke: #383838; stroke-width: 1.0;\"/><polygon fill=\"#FFFFFF\" points=\"105.92,87.01,103.9044,93.9337,109.5203,98.4572,111.5359,91.5335,105.92,87.01\" style=\"stroke: #383838; stroke-width: 1.0;\"/><text fill=\"#000000\" font-family=\"sans-serif\" font-size=\"13\" lengthAdjust=\"spacingAndGlyphs\" textLength=\"8\" x=\"114.1561\" y=\"136.8492\">1</text></a><!--MD5=[0517f1ce58c4d5483948f93845c45e26]\n",
       "link E11 to E3--><a href=\"psysml:8ddae6f0-112f-4ded-9c4d-74dd6bca1f55\" target=\"_top\" title=\"psysml:8ddae6f0-112f-4ded-9c4d-74dd6bca1f55\" xlink:actuate=\"onRequest\" xlink:href=\"psysml:8ddae6f0-112f-4ded-9c4d-74dd6bca1f55\" xlink:show=\"new\" xlink:title=\"psysml:8ddae6f0-112f-4ded-9c4d-74dd6bca1f55\" xlink:type=\"simple\"><path d=\"M132,194.01 C132,205.69 132,220.46 132,234.28 \" fill=\"none\" id=\"E11-&gt;E3\" style=\"stroke: #383838; stroke-width: 1.0;\"/><polygon fill=\"#FFFFFF\" points=\"132,254.66,125,235.66,139,235.66,132,254.66\" style=\"stroke: #383838; stroke-width: 1.0;\"/><ellipse cx=\"127\" cy=\"229.96\" fill=\"#383838\" rx=\"2\" ry=\"2\" style=\"stroke: #383838; stroke-width: 1.0;\"/><ellipse cx=\"137\" cy=\"229.96\" fill=\"#383838\" rx=\"2\" ry=\"2\" style=\"stroke: #383838; stroke-width: 1.0;\"/></a><!--MD5=[fbc13d32898ccddf28dff8260e9510fd]\n",
       "@startuml\r\n",
       "skinparam linetype polyline\r\n",
       "skinparam monochrome true\r\n",
       "skinparam classbackgroundcolor white\r\n",
       "skinparam shadowing false\r\n",
       "skinparam wrapWidth 300\r\n",
       "hide circle\r\n",
       "\r\n",
       "package \"ItemTest\" as E1  [[psysml:ae8f2d08-e2f6-41ef-ae81-a483692b435b ]]  {\r\n",
       "comp usage \"f: A \" as E2  <<(T,blue) item>> [[psysml:cbd0bd62-e912-4912-a2fb-da1e68d4f615 ]] {\r\n",
       "}\r\n",
       "comp def \"A\" as E3  <<(T,blue) item  def>> [[psysml:2b189b42-edf1-49d6-a72b-40b548d68a1d ]] {\r\n",
       "}\r\n",
       "comp usage \"b: B \" as E4  <<(T,blue) item>> [[psysml:94aeed99-fa0f-4cf3-9a3c-c07fcd3df143 ]] {\r\n",
       "}\r\n",
       "comp usage \"c: C \" as E5  <<(T,blue) part>> [[psysml:74f7fd5f-8520-4aae-9a17-942775661558 ]] {\r\n",
       "}\r\n",
       "comp def \"<i>B</i>\" as E6  <<(T,blue) item  def>> [[psysml:f1885442-e1dd-46d9-92aa-2427019de9de ]] {\r\n",
       "}\r\n",
       "comp usage \"<i>a</i>: A \" as E7  <<(T,blue) part>> [[psysml:cc0b7000-21b2-4abb-bead-e88feeed0b85 ]] {\r\n",
       "}\r\n",
       "comp def \"C\" as E8  <<(T,blue) part  def>> [[psysml:6db780a5-cf23-40f2-9df9-03150cb096d0 ]] {\r\n",
       "}\r\n",
       "comp def \"P\" as E9  <<(T,blue) port  def>> [[psysml:587854cf-6fe1-483d-a698-c7fca9a0c13c ]] {\r\n",
       "}\r\n",
       "comp usage \"a1: A \" as E10  <<(T,blue) item>> [[psysml:f73739ed-5364-4403-8254-d4f943238dfa ]] {\r\n",
       "}\r\n",
       "comp usage \"a2: A \" as E11  <<(T,blue) item>> [[psysml:6a7a2def-0eff-4194-80a2-af7f6b4a129e ]] {\r\n",
       "}\r\n",
       "}\r\n",
       "E2 - -:|> E3 [[psysml:8851b494-fad9-483d-8771-6e667cb982eb ]] \r\n",
       "E3 o- - \"1\"E4 [[psysml:bbc4490d-4884-4bf2-8394-3cd2641c3130 ]] \r\n",
       "E3 o- - \"1\"E5 [[psysml:896e58a4-3d4e-4523-9980-c4907a158d3f ]] \r\n",
       "E4 - -:|> E6 [[psysml:ae089d5e-98d2-4386-a1f6-d9056ad7f1db ]] \r\n",
       "E6 o- - \"1\"E7 [[psysml:f93e67a1-8e91-4b72-abc4-aff48dcc0ebf ]] \r\n",
       "E7 - -:|> E3 [[psysml:729e96ed-f9a8-4349-a416-61bf2a977bd8 ]] \r\n",
       "E5 - -:|> E8 [[psysml:8b27b07a-ba61-4df4-814a-c4b9eba72255 ]] \r\n",
       "E8 o- - E3 [[psysml:2fa26767-edf9-4f1d-8702-6d0b4fb1afcf ]] : y\r\n",
       "E8 o- - E6 [[psysml:2fa26767-edf9-4f1d-8702-6d0b4fb1afcf ]] : y\r\n",
       "E9 o- - \"1\"E10 [[psysml:2a8d2925-3f72-4e1c-849d-9e3943fa1d15 ]] \r\n",
       "E10 - -:|> E3 [[psysml:be0eb1db-3a2d-4525-bfbd-aed22db095bf ]] \r\n",
       "E9 o- - \"1\"E11 [[psysml:4a4899a0-cca2-49ff-ba55-d15caf476c4f ]] \r\n",
       "E11 - -:|> E3 [[psysml:8ddae6f0-112f-4ded-9c4d-74dd6bca1f55 ]] \r\n",
       "@enduml\r\n",
       "\n",
       "PlantUML version 1.2020.13(Sat Jun 13 12:26:38 UTC 2020)\n",
       "(EPL source distribution)\n",
       "Java Runtime: OpenJDK Runtime Environment\n",
       "JVM: OpenJDK 64-Bit Server VM\n",
       "Default Encoding: UTF-8\n",
       "Language: en\n",
       "Country: null\n",
       "--></g></svg>"
      ]
     },
     "execution_count": 10,
     "metadata": {},
     "output_type": "execute_result"
    }
   ],
   "source": [
    "%viz --style=\"POLYLINE\" --view=\"Tree\" \"ItemTest\""
   ]
  },
  {
   "cell_type": "code",
   "execution_count": 11,
   "id": "337b8802",
   "metadata": {
    "execution": {
     "iopub.execute_input": "2022-08-19T08:17:28.181942Z",
     "iopub.status.busy": "2022-08-19T08:17:28.181440Z",
     "iopub.status.idle": "2022-08-19T08:17:28.189138Z",
     "shell.execute_reply": "2022-08-19T08:17:28.189461Z"
    }
   },
   "outputs": [
    {
     "data": {
      "image/svg+xml": [
       "<?xml version=\"1.0\" encoding=\"UTF-8\" standalone=\"no\"?><svg xmlns=\"http://www.w3.org/2000/svg\" xmlns:xlink=\"http://www.w3.org/1999/xlink\" contentScriptType=\"application/ecmascript\" contentStyleType=\"text/css\" height=\"12px\" preserveAspectRatio=\"none\" style=\"width:12px;height:12px;\" version=\"1.1\" viewBox=\"0 0 12 12\" width=\"12px\" zoomAndPan=\"magnify\"><defs/><g><!--MD5=[896ac0e7a515d8dd7765a661cb4ee08b]\n",
       "@startuml\r\n",
       "skinparam linetype polyline\r\n",
       "skinparam monochrome true\r\n",
       "skinparam classbackgroundcolor white\r\n",
       "skinparam shadowing false\r\n",
       "skinparam wrapWidth 300\r\n",
       "hide circle\r\n",
       "\r\n",
       "@enduml\r\n",
       "\n",
       "PlantUML version 1.2020.13(Sat Jun 13 12:26:38 UTC 2020)\n",
       "(EPL source distribution)\n",
       "Java Runtime: OpenJDK Runtime Environment\n",
       "JVM: OpenJDK 64-Bit Server VM\n",
       "Default Encoding: UTF-8\n",
       "Language: en\n",
       "Country: null\n",
       "--></g></svg>"
      ]
     },
     "execution_count": 11,
     "metadata": {},
     "output_type": "execute_result"
    }
   ],
   "source": [
    "%viz --style=\"POLYLINE\" --view=\"State\" \"ItemTest\""
   ]
  },
  {
   "cell_type": "code",
   "execution_count": 12,
   "id": "3eff4c11",
   "metadata": {
    "execution": {
     "iopub.execute_input": "2022-08-19T08:17:28.239707Z",
     "iopub.status.busy": "2022-08-19T08:17:28.239223Z",
     "iopub.status.idle": "2022-08-19T08:17:28.279170Z",
     "shell.execute_reply": "2022-08-19T08:17:28.278765Z"
    }
   },
   "outputs": [
    {
     "data": {
      "image/svg+xml": [
       "<?xml version=\"1.0\" encoding=\"UTF-8\" standalone=\"no\"?><svg xmlns=\"http://www.w3.org/2000/svg\" xmlns:xlink=\"http://www.w3.org/1999/xlink\" contentScriptType=\"application/ecmascript\" contentStyleType=\"text/css\" height=\"246px\" preserveAspectRatio=\"none\" style=\"width:483px;height:246px;\" version=\"1.1\" viewBox=\"0 0 483 246\" width=\"483px\" zoomAndPan=\"magnify\"><defs/><g><!--MD5=[fbc87193dbaf4d95561dea2c320d4a47]\n",
       "cluster E1--><a href=\"psysml:ae8f2d08-e2f6-41ef-ae81-a483692b435b\" target=\"_top\" title=\"psysml:ae8f2d08-e2f6-41ef-ae81-a483692b435b\" xlink:actuate=\"onRequest\" xlink:href=\"psysml:ae8f2d08-e2f6-41ef-ae81-a483692b435b\" xlink:show=\"new\" xlink:title=\"psysml:ae8f2d08-e2f6-41ef-ae81-a483692b435b\" xlink:type=\"simple\"><polygon fill=\"#FFFFFF\" points=\"16,6,83,6,90,28.2969,461,28.2969,461,234,16,234,16,6\" style=\"stroke: #000000; stroke-width: 1.5;\"/><line style=\"stroke: #000000; stroke-width: 1.5;\" x1=\"16\" x2=\"90\" y1=\"28.2969\" y2=\"28.2969\"/><text fill=\"#000000\" font-family=\"sans-serif\" font-size=\"14\" font-weight=\"bold\" lengthAdjust=\"spacingAndGlyphs\" textLength=\"61\" x=\"20\" y=\"20.9951\">ItemTest</text></a><!--MD5=[de5ec2e2e8f62f467e546659f5068c88]\n",
       "cluster E5--><a href=\"psysml:6db780a5-cf23-40f2-9df9-03150cb096d0\" target=\"_top\" title=\"psysml:6db780a5-cf23-40f2-9df9-03150cb096d0\" xlink:actuate=\"onRequest\" xlink:href=\"psysml:6db780a5-cf23-40f2-9df9-03150cb096d0\" xlink:show=\"new\" xlink:title=\"psysml:6db780a5-cf23-40f2-9df9-03150cb096d0\" xlink:type=\"simple\"><rect fill=\"#FFFFFF\" height=\"110\" id=\"E5\" style=\"stroke: #383838; stroke-width: 1.5;\" width=\"114\" x=\"323\" y=\"49\"/><rect fill=\"#F8F8F8\" height=\"37.9375\" style=\"stroke: #383838; stroke-width: 1.5;\" width=\"114\" x=\"323\" y=\"49\"/><text fill=\"#000000\" font-family=\"sans-serif\" font-size=\"12\" font-style=\"italic\" lengthAdjust=\"spacingAndGlyphs\" textLength=\"68\" x=\"346\" y=\"65.1387\">«part  def»</text><text fill=\"#000000\" font-family=\"sans-serif\" font-size=\"12\" lengthAdjust=\"spacingAndGlyphs\" textLength=\"8\" x=\"376\" y=\"79.1074\">C</text></a><g id=\"E1.E3\"><a href=\"psysml:2b189b42-edf1-49d6-a72b-40b548d68a1d\" target=\"_top\" title=\"psysml:2b189b42-edf1-49d6-a72b-40b548d68a1d\" xlink:actuate=\"onRequest\" xlink:href=\"psysml:2b189b42-edf1-49d6-a72b-40b548d68a1d\" xlink:show=\"new\" xlink:title=\"psysml:2b189b42-edf1-49d6-a72b-40b548d68a1d\" xlink:type=\"simple\"><rect fill=\"#FFFFFF\" height=\"42.9375\" id=\"E3\" style=\"stroke: #383838; stroke-width: 1.5;\" width=\"76\" x=\"32\" y=\"175\"/><rect fill=\"#F8F8F8\" height=\"37.9375\" style=\"stroke: #383838; stroke-width: 1.5;\" width=\"76\" x=\"32\" y=\"175\"/><text fill=\"#000000\" font-family=\"sans-serif\" font-size=\"12\" font-style=\"italic\" lengthAdjust=\"spacingAndGlyphs\" textLength=\"69\" x=\"35.5\" y=\"191.1387\">«item  def»</text><text fill=\"#000000\" font-family=\"sans-serif\" font-size=\"12\" lengthAdjust=\"spacingAndGlyphs\" textLength=\"8\" x=\"66\" y=\"205.1074\">A</text></a></g><g id=\"E1.E4\"><a href=\"psysml:f1885442-e1dd-46d9-92aa-2427019de9de\" target=\"_top\" title=\"psysml:f1885442-e1dd-46d9-92aa-2427019de9de\" xlink:actuate=\"onRequest\" xlink:href=\"psysml:f1885442-e1dd-46d9-92aa-2427019de9de\" xlink:show=\"new\" xlink:title=\"psysml:f1885442-e1dd-46d9-92aa-2427019de9de\" xlink:type=\"simple\"><rect fill=\"#FFFFFF\" height=\"42.9375\" id=\"E4\" style=\"stroke: #383838; stroke-width: 1.5;\" width=\"76\" x=\"228\" y=\"100\"/><rect fill=\"#F8F8F8\" height=\"37.9375\" style=\"stroke: #383838; stroke-width: 1.5;\" width=\"76\" x=\"228\" y=\"100\"/><text fill=\"#000000\" font-family=\"sans-serif\" font-size=\"12\" font-style=\"italic\" lengthAdjust=\"spacingAndGlyphs\" textLength=\"69\" x=\"231.5\" y=\"116.1387\">«item  def»</text><text fill=\"#000000\" font-family=\"sans-serif\" font-size=\"12\" font-style=\"italic\" lengthAdjust=\"spacingAndGlyphs\" textLength=\"8\" x=\"262\" y=\"130.1074\">B</text></a></g><g id=\"E1.E7\"><a href=\"psysml:587854cf-6fe1-483d-a698-c7fca9a0c13c\" target=\"_top\" title=\"psysml:587854cf-6fe1-483d-a698-c7fca9a0c13c\" xlink:actuate=\"onRequest\" xlink:href=\"psysml:587854cf-6fe1-483d-a698-c7fca9a0c13c\" xlink:show=\"new\" xlink:title=\"psysml:587854cf-6fe1-483d-a698-c7fca9a0c13c\" xlink:type=\"simple\"><rect fill=\"#FFFFFF\" height=\"42.9375\" id=\"E7\" style=\"stroke: #383838; stroke-width: 1.5;\" width=\"75\" x=\"117.5\" y=\"100\"/><rect fill=\"#F8F8F8\" height=\"37.9375\" style=\"stroke: #383838; stroke-width: 1.5;\" width=\"75\" x=\"117.5\" y=\"100\"/><text fill=\"#000000\" font-family=\"sans-serif\" font-size=\"12\" font-style=\"italic\" lengthAdjust=\"spacingAndGlyphs\" textLength=\"68\" x=\"121\" y=\"116.1387\">«port  def»</text><text fill=\"#000000\" font-family=\"sans-serif\" font-size=\"12\" lengthAdjust=\"spacingAndGlyphs\" textLength=\"8\" x=\"151\" y=\"130.1074\">P</text></a></g><g id=\"E1.E2\"><a href=\"psysml:cbd0bd62-e912-4912-a2fb-da1e68d4f615\" target=\"_top\" title=\"psysml:cbd0bd62-e912-4912-a2fb-da1e68d4f615\" xlink:actuate=\"onRequest\" xlink:href=\"psysml:cbd0bd62-e912-4912-a2fb-da1e68d4f615\" xlink:show=\"new\" xlink:title=\"psysml:cbd0bd62-e912-4912-a2fb-da1e68d4f615\" xlink:type=\"simple\"><rect fill=\"#FFFFFF\" height=\"42.9375\" id=\"E2\" rx=\"10\" ry=\"10\" style=\"stroke: #383838; stroke-width: 1.5;\" width=\"50\" x=\"32\" y=\"100\"/><rect fill=\"#F8F8F8\" height=\"37.9375\" rx=\"10\" ry=\"10\" style=\"stroke: #F8F8F8; stroke-width: 1.5;\" width=\"50\" x=\"32\" y=\"100\"/><rect fill=\"#F8F8F8\" height=\"10\" style=\"stroke: #F8F8F8; stroke-width: 1.5;\" width=\"50\" x=\"32\" y=\"127.9375\"/><rect fill=\"none\" height=\"42.9375\" id=\"E2\" rx=\"10\" ry=\"10\" style=\"stroke: #383838; stroke-width: 1.5;\" width=\"50\" x=\"32\" y=\"100\"/><text fill=\"#000000\" font-family=\"sans-serif\" font-size=\"12\" font-style=\"italic\" lengthAdjust=\"spacingAndGlyphs\" textLength=\"41\" x=\"36.5\" y=\"116.1387\">«item»</text><text fill=\"#000000\" font-family=\"sans-serif\" font-size=\"12\" lengthAdjust=\"spacingAndGlyphs\" textLength=\"20\" x=\"47\" y=\"130.1074\">f: A</text></a></g><g id=\"E1.E5.E6\"><a href=\"psysml:2fa26767-edf9-4f1d-8702-6d0b4fb1afcf\" target=\"_top\" title=\"psysml:2fa26767-edf9-4f1d-8702-6d0b4fb1afcf\" xlink:actuate=\"onRequest\" xlink:href=\"psysml:2fa26767-edf9-4f1d-8702-6d0b4fb1afcf\" xlink:show=\"new\" xlink:title=\"psysml:2fa26767-edf9-4f1d-8702-6d0b4fb1afcf\" xlink:type=\"simple\"><rect fill=\"#FFFFFF\" height=\"42.9375\" id=\"E6\" rx=\"10\" ry=\"10\" style=\"stroke: #383838; stroke-width: 1.5;\" width=\"82\" x=\"339\" y=\"100\"/><rect fill=\"#F8F8F8\" height=\"37.9375\" rx=\"10\" ry=\"10\" style=\"stroke: #F8F8F8; stroke-width: 1.5;\" width=\"82\" x=\"339\" y=\"100\"/><rect fill=\"#F8F8F8\" height=\"10\" style=\"stroke: #F8F8F8; stroke-width: 1.5;\" width=\"82\" x=\"339\" y=\"127.9375\"/><rect fill=\"none\" height=\"42.9375\" id=\"E6\" rx=\"10\" ry=\"10\" style=\"stroke: #383838; stroke-width: 1.5;\" width=\"82\" x=\"339\" y=\"100\"/><text fill=\"#000000\" font-family=\"sans-serif\" font-size=\"12\" font-style=\"italic\" lengthAdjust=\"spacingAndGlyphs\" textLength=\"75\" x=\"342.5\" y=\"116.1387\">«reference»</text><text fill=\"#000000\" font-family=\"sans-serif\" font-size=\"12\" lengthAdjust=\"spacingAndGlyphs\" textLength=\"38\" x=\"359\" y=\"130.1074\">y: A, B</text></a></g><!--MD5=[2720a5a1f2c3fca2055b230370638851]\n",
       "link E2 to E3--><a href=\"psysml:8851b494-fad9-483d-8771-6e667cb982eb\" target=\"_top\" title=\"psysml:8851b494-fad9-483d-8771-6e667cb982eb\" xlink:actuate=\"onRequest\" xlink:href=\"psysml:8851b494-fad9-483d-8771-6e667cb982eb\" xlink:show=\"new\" xlink:title=\"psysml:8851b494-fad9-483d-8771-6e667cb982eb\" xlink:type=\"simple\"><path d=\"M60.69,143.22 C61.37,147.03 62.1,151.12 62.84,155.28 \" fill=\"none\" id=\"E2-&gt;E3\" style=\"stroke: #383838; stroke-width: 1.0;\"/><polygon fill=\"#FFFFFF\" points=\"66.35,174.98,56.1322,157.4987,69.916,155.048,66.35,174.98\" style=\"stroke: #383838; stroke-width: 1.0;\"/><ellipse cx=\"57.1035\" cy=\"151.5366\" fill=\"#383838\" rx=\"2\" ry=\"2\" style=\"stroke: #383838; stroke-width: 1.0;\"/><ellipse cx=\"66.9491\" cy=\"149.7861\" fill=\"#383838\" rx=\"2\" ry=\"2\" style=\"stroke: #383838; stroke-width: 1.0;\"/></a><!--MD5=[7902b278bf7a350742a6f5b852e2a64b]\n",
       "@startuml\r\n",
       "skinparam ranksep 10\r\n",
       "skinparam rectangle {\r\n",
       " backgroundColor<<block>> LightGreen\r\n",
       "}\r\n",
       "skinparam linetype polyline\r\n",
       "skinparam monochrome true\r\n",
       "skinparam classbackgroundcolor white\r\n",
       "skinparam shadowing false\r\n",
       "skinparam wrapWidth 300\r\n",
       "hide circle\r\n",
       "\r\n",
       "package \"ItemTest\" as E1  [[psysml:ae8f2d08-e2f6-41ef-ae81-a483692b435b ]]  {\r\n",
       "rec usage \"f: A\" as E2  <<(T,blue) item>> [[psysml:cbd0bd62-e912-4912-a2fb-da1e68d4f615 ]] {\r\n",
       "}\r\n",
       "def \"A\" as E3  <<(T,blue) item  def>> [[psysml:2b189b42-edf1-49d6-a72b-40b548d68a1d ]] \r\n",
       "def \"<i>B</i>\" as E4  <<(T,blue) item  def>> [[psysml:f1885442-e1dd-46d9-92aa-2427019de9de ]] \r\n",
       "rec def \"C\" as E5  <<(T,blue) part  def>> [[psysml:6db780a5-cf23-40f2-9df9-03150cb096d0 ]] {\r\n",
       "rec usage \"y: A, B \" as E6  <<(T,blue) reference>> [[psysml:2fa26767-edf9-4f1d-8702-6d0b4fb1afcf ]] {\r\n",
       "}\r\n",
       "\r\n",
       "}\r\n",
       "def \"P\" as E7  <<(T,blue) port  def>> [[psysml:587854cf-6fe1-483d-a698-c7fca9a0c13c ]] \r\n",
       "}\r\n",
       "E2 - -:|> E3 [[psysml:8851b494-fad9-483d-8771-6e667cb982eb ]] \r\n",
       "@enduml\r\n",
       "\n",
       "PlantUML version 1.2020.13(Sat Jun 13 12:26:38 UTC 2020)\n",
       "(EPL source distribution)\n",
       "Java Runtime: OpenJDK Runtime Environment\n",
       "JVM: OpenJDK 64-Bit Server VM\n",
       "Default Encoding: UTF-8\n",
       "Language: en\n",
       "Country: null\n",
       "--></g></svg>"
      ]
     },
     "execution_count": 12,
     "metadata": {},
     "output_type": "execute_result"
    }
   ],
   "source": [
    "%viz --style=\"POLYLINE\" --view=\"Interconnection\" \"ItemTest\""
   ]
  },
  {
   "cell_type": "code",
   "execution_count": 13,
   "id": "8142f8da",
   "metadata": {
    "execution": {
     "iopub.execute_input": "2022-08-19T08:17:28.329070Z",
     "iopub.status.busy": "2022-08-19T08:17:28.328517Z",
     "iopub.status.idle": "2022-08-19T08:17:28.334971Z",
     "shell.execute_reply": "2022-08-19T08:17:28.335307Z"
    }
   },
   "outputs": [
    {
     "data": {
      "image/svg+xml": [
       "<?xml version=\"1.0\" encoding=\"UTF-8\" standalone=\"no\"?><svg xmlns=\"http://www.w3.org/2000/svg\" xmlns:xlink=\"http://www.w3.org/1999/xlink\" contentScriptType=\"application/ecmascript\" contentStyleType=\"text/css\" height=\"12px\" preserveAspectRatio=\"none\" style=\"width:12px;height:12px;\" version=\"1.1\" viewBox=\"0 0 12 12\" width=\"12px\" zoomAndPan=\"magnify\"><defs/><g><!--MD5=[97bbf32f66ccd50cbc40d92ea8f5a65e]\n",
       "@startuml\r\n",
       "skinparam ranksep 8\r\n",
       "skinparam linetype polyline\r\n",
       "skinparam monochrome true\r\n",
       "skinparam classbackgroundcolor white\r\n",
       "skinparam shadowing false\r\n",
       "skinparam wrapWidth 300\r\n",
       "hide circle\r\n",
       "\r\n",
       "@enduml\r\n",
       "\n",
       "PlantUML version 1.2020.13(Sat Jun 13 12:26:38 UTC 2020)\n",
       "(EPL source distribution)\n",
       "Java Runtime: OpenJDK Runtime Environment\n",
       "JVM: OpenJDK 64-Bit Server VM\n",
       "Default Encoding: UTF-8\n",
       "Language: en\n",
       "Country: null\n",
       "--></g></svg>"
      ]
     },
     "execution_count": 13,
     "metadata": {},
     "output_type": "execute_result"
    }
   ],
   "source": [
    "%viz --style=\"POLYLINE\" --view=\"Action\" \"ItemTest\""
   ]
  },
  {
   "cell_type": "code",
   "execution_count": 14,
   "id": "b1ddcfeb",
   "metadata": {
    "execution": {
     "iopub.execute_input": "2022-08-19T08:17:28.385287Z",
     "iopub.status.busy": "2022-08-19T08:17:28.384788Z",
     "iopub.status.idle": "2022-08-19T08:17:28.390978Z",
     "shell.execute_reply": "2022-08-19T08:17:28.391307Z"
    }
   },
   "outputs": [
    {
     "data": {
      "image/svg+xml": [
       "<?xml version=\"1.0\" encoding=\"UTF-8\" standalone=\"no\"?><svg xmlns=\"http://www.w3.org/2000/svg\" xmlns:xlink=\"http://www.w3.org/1999/xlink\" contentScriptType=\"application/ecmascript\" contentStyleType=\"text/css\" height=\"12px\" preserveAspectRatio=\"none\" style=\"width:12px;height:12px;\" version=\"1.1\" viewBox=\"0 0 12 12\" width=\"12px\" zoomAndPan=\"magnify\"><defs/><g><!--MD5=[dc938048236c351797870c36b62f92ad]\n",
       "@startuml\r\n",
       "skinparam roundcorner 20\r\n",
       "skinparam BoxPadding 20\r\n",
       "skinparam SequenceBoxBackgroundColor #white\r\n",
       "skinparam style strictuml\r\n",
       "skinparam maxMessageSize 100\r\n",
       "skinparam linetype polyline\r\n",
       "skinparam monochrome true\r\n",
       "skinparam classbackgroundcolor white\r\n",
       "skinparam shadowing false\r\n",
       "skinparam wrapWidth 300\r\n",
       "hide circle\r\n",
       "\r\n",
       "@enduml\r\n",
       "\n",
       "PlantUML version 1.2020.13(Sat Jun 13 12:26:38 UTC 2020)\n",
       "(EPL source distribution)\n",
       "Java Runtime: OpenJDK Runtime Environment\n",
       "JVM: OpenJDK 64-Bit Server VM\n",
       "Default Encoding: UTF-8\n",
       "Language: en\n",
       "Country: null\n",
       "--></g></svg>"
      ]
     },
     "execution_count": 14,
     "metadata": {},
     "output_type": "execute_result"
    }
   ],
   "source": [
    "%viz --style=\"POLYLINE\" --view=\"Sequence\" \"ItemTest\""
   ]
  },
  {
   "cell_type": "code",
   "execution_count": 15,
   "id": "03211e26",
   "metadata": {
    "execution": {
     "iopub.execute_input": "2022-08-19T08:17:28.441289Z",
     "iopub.status.busy": "2022-08-19T08:17:28.440778Z",
     "iopub.status.idle": "2022-08-19T08:17:28.497091Z",
     "shell.execute_reply": "2022-08-19T08:17:28.496667Z"
    }
   },
   "outputs": [
    {
     "data": {
      "image/svg+xml": [
       "<?xml version=\"1.0\" encoding=\"UTF-8\" standalone=\"no\"?><svg xmlns=\"http://www.w3.org/2000/svg\" xmlns:xlink=\"http://www.w3.org/1999/xlink\" contentScriptType=\"application/ecmascript\" contentStyleType=\"text/css\" height=\"818px\" preserveAspectRatio=\"none\" style=\"width:270px;height:818px;\" version=\"1.1\" viewBox=\"0 0 270 818\" width=\"270px\" zoomAndPan=\"magnify\"><defs/><g><!--MD5=[fbc87193dbaf4d95561dea2c320d4a47]\n",
       "cluster E1--><a href=\"psysml:ae8f2d08-e2f6-41ef-ae81-a483692b435b\" target=\"_top\" title=\"psysml:ae8f2d08-e2f6-41ef-ae81-a483692b435b\" xlink:actuate=\"onRequest\" xlink:href=\"psysml:ae8f2d08-e2f6-41ef-ae81-a483692b435b\" xlink:show=\"new\" xlink:title=\"psysml:ae8f2d08-e2f6-41ef-ae81-a483692b435b\" xlink:type=\"simple\"><polygon fill=\"#FFFFFF\" points=\"16,6,83,6,90,28.2969,248,28.2969,248,806,16,806,16,6\" style=\"stroke: #000000; stroke-width: 1.5;\"/><line style=\"stroke: #000000; stroke-width: 1.5;\" x1=\"16\" x2=\"90\" y1=\"28.2969\" y2=\"28.2969\"/><text fill=\"#000000\" font-family=\"sans-serif\" font-size=\"14\" font-weight=\"bold\" lengthAdjust=\"spacingAndGlyphs\" textLength=\"61\" x=\"20\" y=\"20.9951\">ItemTest</text></a><!--MD5=[b4997ac47864f28c2f74865a473b2911]\n",
       "class E2--><a href=\"psysml:cbd0bd62-e912-4912-a2fb-da1e68d4f615\" target=\"_top\" title=\"psysml:cbd0bd62-e912-4912-a2fb-da1e68d4f615\" xlink:actuate=\"onRequest\" xlink:href=\"psysml:cbd0bd62-e912-4912-a2fb-da1e68d4f615\" xlink:show=\"new\" xlink:title=\"psysml:cbd0bd62-e912-4912-a2fb-da1e68d4f615\" xlink:type=\"simple\"><rect fill=\"#FFFFFF\" height=\"45.9375\" id=\"E2\" rx=\"10\" ry=\"10\" style=\"stroke: #383838; stroke-width: 1.5;\" width=\"43\" x=\"188.5\" y=\"148\"/><text fill=\"#000000\" font-family=\"sans-serif\" font-size=\"12\" font-style=\"italic\" lengthAdjust=\"spacingAndGlyphs\" textLength=\"41\" x=\"189.5\" y=\"164.1387\">«item»</text><text fill=\"#000000\" font-family=\"sans-serif\" font-size=\"12\" lengthAdjust=\"spacingAndGlyphs\" textLength=\"20\" x=\"198\" y=\"178.1074\">f: A</text><line style=\"stroke: #383838; stroke-width: 1.5;\" x1=\"189.5\" x2=\"230.5\" y1=\"185.9375\" y2=\"185.9375\"/></a><!--MD5=[09b614a08d8cba4a07c9adeb5e0fee81]\n",
       "class E3--><a href=\"psysml:2b189b42-edf1-49d6-a72b-40b548d68a1d\" target=\"_top\" title=\"psysml:2b189b42-edf1-49d6-a72b-40b548d68a1d\" xlink:actuate=\"onRequest\" xlink:href=\"psysml:2b189b42-edf1-49d6-a72b-40b548d68a1d\" xlink:show=\"new\" xlink:title=\"psysml:2b189b42-edf1-49d6-a72b-40b548d68a1d\" xlink:type=\"simple\"><rect fill=\"#FFFFFF\" height=\"45.9375\" id=\"E3\" style=\"stroke: #383838; stroke-width: 1.5;\" width=\"71\" x=\"96.5\" y=\"255\"/><text fill=\"#000000\" font-family=\"sans-serif\" font-size=\"12\" font-style=\"italic\" lengthAdjust=\"spacingAndGlyphs\" textLength=\"69\" x=\"97.5\" y=\"271.1387\">«item  def»</text><text fill=\"#000000\" font-family=\"sans-serif\" font-size=\"12\" lengthAdjust=\"spacingAndGlyphs\" textLength=\"8\" x=\"128\" y=\"285.1074\">A</text><line style=\"stroke: #383838; stroke-width: 1.5;\" x1=\"97.5\" x2=\"166.5\" y1=\"292.9375\" y2=\"292.9375\"/></a><!--MD5=[ebbe1d658d1005bcc118a6aa81145e00]\n",
       "class E4--><a href=\"psysml:94aeed99-fa0f-4cf3-9a3c-c07fcd3df143\" target=\"_top\" title=\"psysml:94aeed99-fa0f-4cf3-9a3c-c07fcd3df143\" xlink:actuate=\"onRequest\" xlink:href=\"psysml:94aeed99-fa0f-4cf3-9a3c-c07fcd3df143\" xlink:show=\"new\" xlink:title=\"psysml:94aeed99-fa0f-4cf3-9a3c-c07fcd3df143\" xlink:type=\"simple\"><rect fill=\"#FFFFFF\" height=\"45.9375\" id=\"E4\" rx=\"10\" ry=\"10\" style=\"stroke: #383838; stroke-width: 1.5;\" width=\"43\" x=\"45.5\" y=\"438\"/><text fill=\"#000000\" font-family=\"sans-serif\" font-size=\"12\" font-style=\"italic\" lengthAdjust=\"spacingAndGlyphs\" textLength=\"41\" x=\"46.5\" y=\"454.1387\">«item»</text><text fill=\"#000000\" font-family=\"sans-serif\" font-size=\"12\" lengthAdjust=\"spacingAndGlyphs\" textLength=\"24\" x=\"53\" y=\"468.1074\">b: B</text><line style=\"stroke: #383838; stroke-width: 1.5;\" x1=\"46.5\" x2=\"87.5\" y1=\"475.9375\" y2=\"475.9375\"/></a><!--MD5=[270fce915f116d4de14055a7c1d9a0f3]\n",
       "class E5--><a href=\"psysml:74f7fd5f-8520-4aae-9a17-942775661558\" target=\"_top\" title=\"psysml:74f7fd5f-8520-4aae-9a17-942775661558\" xlink:actuate=\"onRequest\" xlink:href=\"psysml:74f7fd5f-8520-4aae-9a17-942775661558\" xlink:show=\"new\" xlink:title=\"psysml:74f7fd5f-8520-4aae-9a17-942775661558\" xlink:type=\"simple\"><rect fill=\"#FFFFFF\" height=\"45.9375\" id=\"E5\" rx=\"10\" ry=\"10\" style=\"stroke: #383838; stroke-width: 1.5;\" width=\"42\" x=\"151\" y=\"362\"/><text fill=\"#000000\" font-family=\"sans-serif\" font-size=\"12\" font-style=\"italic\" lengthAdjust=\"spacingAndGlyphs\" textLength=\"40\" x=\"152\" y=\"378.1387\">«part»</text><text fill=\"#000000\" font-family=\"sans-serif\" font-size=\"12\" lengthAdjust=\"spacingAndGlyphs\" textLength=\"23\" x=\"158.5\" y=\"392.1074\">c: C</text><line style=\"stroke: #383838; stroke-width: 1.5;\" x1=\"152\" x2=\"192\" y1=\"399.9375\" y2=\"399.9375\"/></a><!--MD5=[60a26617385b1d2d0262a64233df1f8d]\n",
       "class E6--><a href=\"psysml:f1885442-e1dd-46d9-92aa-2427019de9de\" target=\"_top\" title=\"psysml:f1885442-e1dd-46d9-92aa-2427019de9de\" xlink:actuate=\"onRequest\" xlink:href=\"psysml:f1885442-e1dd-46d9-92aa-2427019de9de\" xlink:show=\"new\" xlink:title=\"psysml:f1885442-e1dd-46d9-92aa-2427019de9de\" xlink:type=\"simple\"><rect fill=\"#FFFFFF\" height=\"45.9375\" id=\"E6\" style=\"stroke: #383838; stroke-width: 1.5;\" width=\"71\" x=\"112.5\" y=\"637\"/><text fill=\"#000000\" font-family=\"sans-serif\" font-size=\"12\" font-style=\"italic\" lengthAdjust=\"spacingAndGlyphs\" textLength=\"69\" x=\"113.5\" y=\"653.1387\">«item  def»</text><text fill=\"#000000\" font-family=\"sans-serif\" font-size=\"12\" font-style=\"italic\" lengthAdjust=\"spacingAndGlyphs\" textLength=\"8\" x=\"144\" y=\"667.1074\">B</text><line style=\"stroke: #383838; stroke-width: 1.5;\" x1=\"113.5\" x2=\"182.5\" y1=\"674.9375\" y2=\"674.9375\"/></a><!--MD5=[2156ba9850f5573cc1fc38a6a4b2f02b]\n",
       "class E7--><a href=\"psysml:cc0b7000-21b2-4abb-bead-e88feeed0b85\" target=\"_top\" title=\"psysml:cc0b7000-21b2-4abb-bead-e88feeed0b85\" xlink:actuate=\"onRequest\" xlink:href=\"psysml:cc0b7000-21b2-4abb-bead-e88feeed0b85\" xlink:show=\"new\" xlink:title=\"psysml:cc0b7000-21b2-4abb-bead-e88feeed0b85\" xlink:type=\"simple\"><rect fill=\"#FFFFFF\" height=\"45.9375\" id=\"E7\" rx=\"10\" ry=\"10\" style=\"stroke: #383838; stroke-width: 1.5;\" width=\"42\" x=\"159\" y=\"744\"/><text fill=\"#000000\" font-family=\"sans-serif\" font-size=\"12\" font-style=\"italic\" lengthAdjust=\"spacingAndGlyphs\" textLength=\"40\" x=\"160\" y=\"760.1387\">«part»</text><text fill=\"#000000\" font-family=\"sans-serif\" font-size=\"12\" font-style=\"italic\" lengthAdjust=\"spacingAndGlyphs\" textLength=\"8\" x=\"166\" y=\"774.1074\">a</text><text fill=\"#000000\" font-family=\"sans-serif\" font-size=\"12\" lengthAdjust=\"spacingAndGlyphs\" textLength=\"16\" x=\"174\" y=\"774.1074\">: A</text><line style=\"stroke: #383838; stroke-width: 1.5;\" x1=\"160\" x2=\"200\" y1=\"781.9375\" y2=\"781.9375\"/></a><!--MD5=[b9389687b975829384b498ac4b7476b2]\n",
       "class E8--><a href=\"psysml:6db780a5-cf23-40f2-9df9-03150cb096d0\" target=\"_top\" title=\"psysml:6db780a5-cf23-40f2-9df9-03150cb096d0\" xlink:actuate=\"onRequest\" xlink:href=\"psysml:6db780a5-cf23-40f2-9df9-03150cb096d0\" xlink:show=\"new\" xlink:title=\"psysml:6db780a5-cf23-40f2-9df9-03150cb096d0\" xlink:type=\"simple\"><rect fill=\"#FFFFFF\" height=\"45.9375\" id=\"E8\" style=\"stroke: #383838; stroke-width: 1.5;\" width=\"70\" x=\"113\" y=\"514\"/><text fill=\"#000000\" font-family=\"sans-serif\" font-size=\"12\" font-style=\"italic\" lengthAdjust=\"spacingAndGlyphs\" textLength=\"68\" x=\"114\" y=\"530.1387\">«part  def»</text><text fill=\"#000000\" font-family=\"sans-serif\" font-size=\"12\" lengthAdjust=\"spacingAndGlyphs\" textLength=\"8\" x=\"144\" y=\"544.1074\">C</text><line style=\"stroke: #383838; stroke-width: 1.5;\" x1=\"114\" x2=\"182\" y1=\"551.9375\" y2=\"551.9375\"/></a><!--MD5=[fd4143e9d270a159db93a4ea2a975926]\n",
       "class E9--><a href=\"psysml:587854cf-6fe1-483d-a698-c7fca9a0c13c\" target=\"_top\" title=\"psysml:587854cf-6fe1-483d-a698-c7fca9a0c13c\" xlink:actuate=\"onRequest\" xlink:href=\"psysml:587854cf-6fe1-483d-a698-c7fca9a0c13c\" xlink:show=\"new\" xlink:title=\"psysml:587854cf-6fe1-483d-a698-c7fca9a0c13c\" xlink:type=\"simple\"><rect fill=\"#FFFFFF\" height=\"45.9375\" id=\"E9\" style=\"stroke: #383838; stroke-width: 1.5;\" width=\"70\" x=\"64\" y=\"41\"/><text fill=\"#000000\" font-family=\"sans-serif\" font-size=\"12\" font-style=\"italic\" lengthAdjust=\"spacingAndGlyphs\" textLength=\"68\" x=\"65\" y=\"57.1387\">«port  def»</text><text fill=\"#000000\" font-family=\"sans-serif\" font-size=\"12\" lengthAdjust=\"spacingAndGlyphs\" textLength=\"8\" x=\"95\" y=\"71.1074\">P</text><line style=\"stroke: #383838; stroke-width: 1.5;\" x1=\"65\" x2=\"133\" y1=\"78.9375\" y2=\"78.9375\"/></a><!--MD5=[96f4274e9e20536e775497830990834d]\n",
       "class E10--><a href=\"psysml:f73739ed-5364-4403-8254-d4f943238dfa\" target=\"_top\" title=\"psysml:f73739ed-5364-4403-8254-d4f943238dfa\" xlink:actuate=\"onRequest\" xlink:href=\"psysml:f73739ed-5364-4403-8254-d4f943238dfa\" xlink:show=\"new\" xlink:title=\"psysml:f73739ed-5364-4403-8254-d4f943238dfa\" xlink:type=\"simple\"><rect fill=\"#FFFFFF\" height=\"45.9375\" id=\"E10\" rx=\"10\" ry=\"10\" style=\"stroke: #383838; stroke-width: 1.5;\" width=\"43\" x=\"32.5\" y=\"148\"/><text fill=\"#000000\" font-family=\"sans-serif\" font-size=\"12\" font-style=\"italic\" lengthAdjust=\"spacingAndGlyphs\" textLength=\"41\" x=\"33.5\" y=\"164.1387\">«item»</text><text fill=\"#000000\" font-family=\"sans-serif\" font-size=\"12\" lengthAdjust=\"spacingAndGlyphs\" textLength=\"32\" x=\"36\" y=\"178.1074\">a1: A</text><line style=\"stroke: #383838; stroke-width: 1.5;\" x1=\"33.5\" x2=\"74.5\" y1=\"185.9375\" y2=\"185.9375\"/></a><!--MD5=[1dd1bfd58a279cf63c5f349dbc8fc6a1]\n",
       "class E11--><a href=\"psysml:6a7a2def-0eff-4194-80a2-af7f6b4a129e\" target=\"_top\" title=\"psysml:6a7a2def-0eff-4194-80a2-af7f6b4a129e\" xlink:actuate=\"onRequest\" xlink:href=\"psysml:6a7a2def-0eff-4194-80a2-af7f6b4a129e\" xlink:show=\"new\" xlink:title=\"psysml:6a7a2def-0eff-4194-80a2-af7f6b4a129e\" xlink:type=\"simple\"><rect fill=\"#FFFFFF\" height=\"45.9375\" id=\"E11\" rx=\"10\" ry=\"10\" style=\"stroke: #383838; stroke-width: 1.5;\" width=\"43\" x=\"110.5\" y=\"148\"/><text fill=\"#000000\" font-family=\"sans-serif\" font-size=\"12\" font-style=\"italic\" lengthAdjust=\"spacingAndGlyphs\" textLength=\"41\" x=\"111.5\" y=\"164.1387\">«item»</text><text fill=\"#000000\" font-family=\"sans-serif\" font-size=\"12\" lengthAdjust=\"spacingAndGlyphs\" textLength=\"32\" x=\"114\" y=\"178.1074\">a2: A</text><line style=\"stroke: #383838; stroke-width: 1.5;\" x1=\"111.5\" x2=\"152.5\" y1=\"185.9375\" y2=\"185.9375\"/></a><!--MD5=[2720a5a1f2c3fca2055b230370638851]\n",
       "link E2 to E3--><a href=\"psysml:8851b494-fad9-483d-8771-6e667cb982eb\" target=\"_top\" title=\"psysml:8851b494-fad9-483d-8771-6e667cb982eb\" xlink:actuate=\"onRequest\" xlink:href=\"psysml:8851b494-fad9-483d-8771-6e667cb982eb\" xlink:show=\"new\" xlink:title=\"psysml:8851b494-fad9-483d-8771-6e667cb982eb\" xlink:type=\"simple\"><path d=\"M193.65,194.01 C184.14,206.81 171.89,223.3 160.82,238.2 \" fill=\"none\" id=\"E2-&gt;E3\" style=\"stroke: #383838; stroke-width: 1.0;\"/><polygon fill=\"#FFFFFF\" points=\"148.6,254.66,154.3195,235.2361,165.5543,243.5896,148.6,254.66\" style=\"stroke: #383838; stroke-width: 1.0;\"/><ellipse cx=\"159.3256\" cy=\"231.8554\" fill=\"#383838\" rx=\"2\" ry=\"2\" style=\"stroke: #383838; stroke-width: 1.0;\"/><ellipse cx=\"167.3504\" cy=\"237.8221\" fill=\"#383838\" rx=\"2\" ry=\"2\" style=\"stroke: #383838; stroke-width: 1.0;\"/></a><!--MD5=[4672eba38e49728da53d11aeb285b987]\n",
       "reverse link E3 to E4--><a href=\"psysml:bbc4490d-4884-4bf2-8394-3cd2641c3130\" target=\"_top\" title=\"psysml:bbc4490d-4884-4bf2-8394-3cd2641c3130\" xlink:actuate=\"onRequest\" xlink:href=\"psysml:bbc4490d-4884-4bf2-8394-3cd2641c3130\" xlink:show=\"new\" xlink:title=\"psysml:bbc4490d-4884-4bf2-8394-3cd2641c3130\" xlink:type=\"simple\"><path d=\"M105.34,311.54 C86.29,334.8 64,362 64,362 C64,362 64,408 64,408 C64,408 64.91,423.77 65.73,437.95 \" fill=\"none\" id=\"E3&lt;-E4\" style=\"stroke: #383838; stroke-width: 1.0;\"/><polygon fill=\"#FFFFFF\" points=\"113.78,301.24,106.883,303.3449,106.1733,310.521,113.0703,308.4161,113.78,301.24\" style=\"stroke: #383838; stroke-width: 1.0;\"/><text fill=\"#000000\" font-family=\"sans-serif\" font-size=\"13\" lengthAdjust=\"spacingAndGlyphs\" textLength=\"8\" x=\"56.3137\" y=\"426.8328\">1</text></a><!--MD5=[191cde3d490a3f6d7bb551fe3ddca469]\n",
       "reverse link E3 to E5--><a href=\"psysml:896e58a4-3d4e-4523-9980-c4907a158d3f\" target=\"_top\" title=\"psysml:896e58a4-3d4e-4523-9980-c4907a158d3f\" xlink:actuate=\"onRequest\" xlink:href=\"psysml:896e58a4-3d4e-4523-9980-c4907a158d3f\" xlink:show=\"new\" xlink:title=\"psysml:896e58a4-3d4e-4523-9980-c4907a158d3f\" xlink:type=\"simple\"><path d=\"M145.17,313.57 C151.2,329.39 158.16,347.68 163.49,361.66 \" fill=\"none\" id=\"E3&lt;-E5\" style=\"stroke: #383838; stroke-width: 1.0;\"/><polygon fill=\"#FFFFFF\" points=\"140.39,301.01,138.7866,308.0406,144.6598,312.2247,146.2631,305.1941,140.39,301.01\" style=\"stroke: #383838; stroke-width: 1.0;\"/><text fill=\"#000000\" font-family=\"sans-serif\" font-size=\"13\" lengthAdjust=\"spacingAndGlyphs\" textLength=\"8\" x=\"152.2843\" y=\"350.8492\">1</text></a><!--MD5=[79568f1e445c3877b6a54524624ccc7d]\n",
       "link E4 to E6--><a href=\"psysml:ae089d5e-98d2-4386-a1f6-d9056ad7f1db\" target=\"_top\" title=\"psysml:ae089d5e-98d2-4386-a1f6-d9056ad7f1db\" xlink:actuate=\"onRequest\" xlink:href=\"psysml:ae089d5e-98d2-4386-a1f6-d9056ad7f1db\" xlink:show=\"new\" xlink:title=\"psysml:ae089d5e-98d2-4386-a1f6-d9056ad7f1db\" xlink:type=\"simple\"><path d=\"M73.58,484.24 C82.14,513.15 96,560 96,560 C96,560 112.41,591.24 126.79,618.63 \" fill=\"none\" id=\"E4-&gt;E6\" style=\"stroke: #383838; stroke-width: 1.0;\"/><polygon fill=\"#FFFFFF\" points=\"136.2,636.54,121.1704,622.9713,133.5659,616.4636,136.2,636.54\" style=\"stroke: #383838; stroke-width: 1.0;\"/><ellipse cx=\"120.2916\" cy=\"616.9948\" fill=\"#383838\" rx=\"2\" ry=\"2\" style=\"stroke: #383838; stroke-width: 1.0;\"/><ellipse cx=\"129.1456\" cy=\"612.3465\" fill=\"#383838\" rx=\"2\" ry=\"2\" style=\"stroke: #383838; stroke-width: 1.0;\"/></a><!--MD5=[3f50a3473f1dfb74d3f76443e03635af]\n",
       "reverse link E6 to E7--><a href=\"psysml:f93e67a1-8e91-4b72-abc4-aff48dcc0ebf\" target=\"_top\" title=\"psysml:f93e67a1-8e91-4b72-abc4-aff48dcc0ebf\" xlink:actuate=\"onRequest\" xlink:href=\"psysml:f93e67a1-8e91-4b72-abc4-aff48dcc0ebf\" xlink:show=\"new\" xlink:title=\"psysml:f93e67a1-8e91-4b72-abc4-aff48dcc0ebf\" xlink:type=\"simple\"><path d=\"M158.54,695.57 C163.36,711.39 168.93,729.68 173.19,743.66 \" fill=\"none\" id=\"E6&lt;-E7\" style=\"stroke: #383838; stroke-width: 1.0;\"/><polygon fill=\"#FFFFFF\" points=\"154.71,683.01,152.6319,689.9152,158.2066,694.4893,160.2847,687.5841,154.71,683.01\" style=\"stroke: #383838; stroke-width: 1.0;\"/><text fill=\"#000000\" font-family=\"sans-serif\" font-size=\"13\" lengthAdjust=\"spacingAndGlyphs\" textLength=\"8\" x=\"162.4199\" y=\"732.8492\">1</text></a><!--MD5=[14ccda38c055a5c0da953d572bc50960]\n",
       "link E7 to E3--><a href=\"psysml:729e96ed-f9a8-4349-a416-61bf2a977bd8\" target=\"_top\" title=\"psysml:729e96ed-f9a8-4349-a416-61bf2a977bd8\" xlink:actuate=\"onRequest\" xlink:href=\"psysml:729e96ed-f9a8-4349-a416-61bf2a977bd8\" xlink:show=\"new\" xlink:title=\"psysml:729e96ed-f9a8-4349-a416-61bf2a977bd8\" xlink:type=\"simple\"><path d=\"M190.27,743.99 C204.64,713.2 229,661 229,661 C229,384 229,384 229,384 C229,384 211,362 211,362 C211,362 188.27,338.12 167.2,315.98 \" fill=\"none\" id=\"E7-&gt;E3\" style=\"stroke: #383838; stroke-width: 1.0;\"/><polygon fill=\"#FFFFFF\" points=\"153.17,301.24,171.3437,310.1683,161.2072,319.825,153.17,301.24\" style=\"stroke: #383838; stroke-width: 1.0;\"/><ellipse cx=\"173.8273\" cy=\"315.6749\" fill=\"#383838\" rx=\"2\" ry=\"2\" style=\"stroke: #383838; stroke-width: 1.0;\"/><ellipse cx=\"166.5869\" cy=\"322.5725\" fill=\"#383838\" rx=\"2\" ry=\"2\" style=\"stroke: #383838; stroke-width: 1.0;\"/></a><!--MD5=[dfaffb906826c3e5aca635516100ff21]\n",
       "link E5 to E8--><a href=\"psysml:8b27b07a-ba61-4df4-814a-c4b9eba72255\" target=\"_top\" title=\"psysml:8b27b07a-ba61-4df4-814a-c4b9eba72255\" xlink:actuate=\"onRequest\" xlink:href=\"psysml:8b27b07a-ba61-4df4-814a-c4b9eba72255\" xlink:show=\"new\" xlink:title=\"psysml:8b27b07a-ba61-4df4-814a-c4b9eba72255\" xlink:type=\"simple\"><path d=\"M168.46,408.13 C164.86,430.62 159.2,466.01 154.74,493.87 \" fill=\"none\" id=\"E5-&gt;E8\" style=\"stroke: #383838; stroke-width: 1.0;\"/><polygon fill=\"#FFFFFF\" points=\"151.56,513.78,147.6458,493.9135,161.4704,496.1226,151.56,513.78\" style=\"stroke: #383838; stroke-width: 1.0;\"/><ellipse cx=\"150.5202\" cy=\"488.6005\" fill=\"#383838\" rx=\"2\" ry=\"2\" style=\"stroke: #383838; stroke-width: 1.0;\"/><ellipse cx=\"160.3949\" cy=\"490.1784\" fill=\"#383838\" rx=\"2\" ry=\"2\" style=\"stroke: #383838; stroke-width: 1.0;\"/></a><!--MD5=[03c8294790d3c57651a1993cecff665f]\n",
       "reverse link E8 to E3--><a href=\"psysml:2fa26767-edf9-4f1d-8702-6d0b4fb1afcf\" target=\"_top\" title=\"psysml:2fa26767-edf9-4f1d-8702-6d0b4fb1afcf\" xlink:actuate=\"onRequest\" xlink:href=\"psysml:2fa26767-edf9-4f1d-8702-6d0b4fb1afcf\" xlink:show=\"new\" xlink:title=\"psysml:2fa26767-edf9-4f1d-8702-6d0b4fb1afcf\" xlink:type=\"simple\"><path d=\"M141.7,500.94 C134.89,463.05 125,408 125,408 C125,408 125,362 125,362 C125,362 128.05,325.83 130.12,301.24 \" fill=\"none\" id=\"E8&lt;-E3\" style=\"stroke: #383838; stroke-width: 1.0;\"/><polygon fill=\"#FFFFFF\" points=\"144.05,514,146.9258,507.3872,141.9277,502.1892,139.0519,508.802,144.05,514\" style=\"stroke: #383838; stroke-width: 1.0;\"/><text fill=\"#000000\" font-family=\"sans-serif\" font-size=\"13\" lengthAdjust=\"spacingAndGlyphs\" textLength=\"7\" x=\"126\" y=\"389.5669\">y</text></a><!--MD5=[0d75d2178373a6a4568e5dc728f58aef]\n",
       "reverse link E8 to E6--><a href=\"psysml:2fa26767-edf9-4f1d-8702-6d0b4fb1afcf\" target=\"_top\" title=\"psysml:2fa26767-edf9-4f1d-8702-6d0b4fb1afcf\" xlink:actuate=\"onRequest\" xlink:href=\"psysml:2fa26767-edf9-4f1d-8702-6d0b4fb1afcf\" xlink:show=\"new\" xlink:title=\"psysml:2fa26767-edf9-4f1d-8702-6d0b4fb1afcf\" xlink:type=\"simple\"><path d=\"M148,573.22 C148,593.81 148,619.16 148,636.95 \" fill=\"none\" id=\"E8&lt;-E6\" style=\"stroke: #383838; stroke-width: 1.0;\"/><polygon fill=\"#FFFFFF\" points=\"148,560.19,144,566.19,148,572.19,152,566.19,148,560.19\" style=\"stroke: #383838; stroke-width: 1.0;\"/><text fill=\"#000000\" font-family=\"sans-serif\" font-size=\"13\" lengthAdjust=\"spacingAndGlyphs\" textLength=\"7\" x=\"149\" y=\"603.0669\">y</text></a><!--MD5=[23ac544a70576c3e717098101004234c]\n",
       "reverse link E9 to E10--><a href=\"psysml:2a8d2925-3f72-4e1c-849d-9e3943fa1d15\" target=\"_top\" title=\"psysml:2a8d2925-3f72-4e1c-849d-9e3943fa1d15\" xlink:actuate=\"onRequest\" xlink:href=\"psysml:2a8d2925-3f72-4e1c-849d-9e3943fa1d15\" xlink:show=\"new\" xlink:title=\"psysml:2a8d2925-3f72-4e1c-849d-9e3943fa1d15\" xlink:type=\"simple\"><path d=\"M84.39,99.1 C77.56,115.03 69.63,133.54 63.58,147.66 \" fill=\"none\" id=\"E9&lt;-E10\" style=\"stroke: #383838; stroke-width: 1.0;\"/><polygon fill=\"#FFFFFF\" points=\"89.57,87.01,83.5327,90.9535,84.8509,98.0431,90.8882,94.0996,89.57,87.01\" style=\"stroke: #383838; stroke-width: 1.0;\"/><text fill=\"#000000\" font-family=\"sans-serif\" font-size=\"13\" lengthAdjust=\"spacingAndGlyphs\" textLength=\"8\" x=\"57.0099\" y=\"136.8492\">1</text></a><!--MD5=[feeac5eb423634930294aa81f2d25a4c]\n",
       "link E10 to E3--><a href=\"psysml:be0eb1db-3a2d-4525-bfbd-aed22db095bf\" target=\"_top\" title=\"psysml:be0eb1db-3a2d-4525-bfbd-aed22db095bf\" xlink:actuate=\"onRequest\" xlink:href=\"psysml:be0eb1db-3a2d-4525-bfbd-aed22db095bf\" xlink:show=\"new\" xlink:title=\"psysml:be0eb1db-3a2d-4525-bfbd-aed22db095bf\" xlink:type=\"simple\"><path d=\"M70.35,194.01 C79.86,206.81 92.11,223.3 103.18,238.2 \" fill=\"none\" id=\"E10-&gt;E3\" style=\"stroke: #383838; stroke-width: 1.0;\"/><polygon fill=\"#FFFFFF\" points=\"115.4,254.66,98.4457,243.5896,109.6805,235.2361,115.4,254.66\" style=\"stroke: #383838; stroke-width: 1.0;\"/><ellipse cx=\"96.6496\" cy=\"237.8221\" fill=\"#383838\" rx=\"2\" ry=\"2\" style=\"stroke: #383838; stroke-width: 1.0;\"/><ellipse cx=\"104.6744\" cy=\"231.8554\" fill=\"#383838\" rx=\"2\" ry=\"2\" style=\"stroke: #383838; stroke-width: 1.0;\"/></a><!--MD5=[1fc04a95fd77ad5ce46c1a3027516051]\n",
       "reverse link E9 to E11--><a href=\"psysml:4a4899a0-cca2-49ff-ba55-d15caf476c4f\" target=\"_top\" title=\"psysml:4a4899a0-cca2-49ff-ba55-d15caf476c4f\" xlink:actuate=\"onRequest\" xlink:href=\"psysml:4a4899a0-cca2-49ff-ba55-d15caf476c4f\" xlink:show=\"new\" xlink:title=\"psysml:4a4899a0-cca2-49ff-ba55-d15caf476c4f\" xlink:type=\"simple\"><path d=\"M109.87,99.57 C114.84,115.39 120.59,133.68 124.98,147.66 \" fill=\"none\" id=\"E9&lt;-E11\" style=\"stroke: #383838; stroke-width: 1.0;\"/><polygon fill=\"#FFFFFF\" points=\"105.92,87.01,103.9044,93.9337,109.5203,98.4572,111.5359,91.5335,105.92,87.01\" style=\"stroke: #383838; stroke-width: 1.0;\"/><text fill=\"#000000\" font-family=\"sans-serif\" font-size=\"13\" lengthAdjust=\"spacingAndGlyphs\" textLength=\"8\" x=\"114.1561\" y=\"136.8492\">1</text></a><!--MD5=[0517f1ce58c4d5483948f93845c45e26]\n",
       "link E11 to E3--><a href=\"psysml:8ddae6f0-112f-4ded-9c4d-74dd6bca1f55\" target=\"_top\" title=\"psysml:8ddae6f0-112f-4ded-9c4d-74dd6bca1f55\" xlink:actuate=\"onRequest\" xlink:href=\"psysml:8ddae6f0-112f-4ded-9c4d-74dd6bca1f55\" xlink:show=\"new\" xlink:title=\"psysml:8ddae6f0-112f-4ded-9c4d-74dd6bca1f55\" xlink:type=\"simple\"><path d=\"M132,194.01 C132,205.69 132,220.46 132,234.28 \" fill=\"none\" id=\"E11-&gt;E3\" style=\"stroke: #383838; stroke-width: 1.0;\"/><polygon fill=\"#FFFFFF\" points=\"132,254.66,125,235.66,139,235.66,132,254.66\" style=\"stroke: #383838; stroke-width: 1.0;\"/><ellipse cx=\"127\" cy=\"229.96\" fill=\"#383838\" rx=\"2\" ry=\"2\" style=\"stroke: #383838; stroke-width: 1.0;\"/><ellipse cx=\"137\" cy=\"229.96\" fill=\"#383838\" rx=\"2\" ry=\"2\" style=\"stroke: #383838; stroke-width: 1.0;\"/></a><!--MD5=[fbc13d32898ccddf28dff8260e9510fd]\n",
       "@startuml\r\n",
       "skinparam linetype polyline\r\n",
       "skinparam monochrome true\r\n",
       "skinparam classbackgroundcolor white\r\n",
       "skinparam shadowing false\r\n",
       "skinparam wrapWidth 300\r\n",
       "hide circle\r\n",
       "\r\n",
       "package \"ItemTest\" as E1  [[psysml:ae8f2d08-e2f6-41ef-ae81-a483692b435b ]]  {\r\n",
       "comp usage \"f: A \" as E2  <<(T,blue) item>> [[psysml:cbd0bd62-e912-4912-a2fb-da1e68d4f615 ]] {\r\n",
       "}\r\n",
       "comp def \"A\" as E3  <<(T,blue) item  def>> [[psysml:2b189b42-edf1-49d6-a72b-40b548d68a1d ]] {\r\n",
       "}\r\n",
       "comp usage \"b: B \" as E4  <<(T,blue) item>> [[psysml:94aeed99-fa0f-4cf3-9a3c-c07fcd3df143 ]] {\r\n",
       "}\r\n",
       "comp usage \"c: C \" as E5  <<(T,blue) part>> [[psysml:74f7fd5f-8520-4aae-9a17-942775661558 ]] {\r\n",
       "}\r\n",
       "comp def \"<i>B</i>\" as E6  <<(T,blue) item  def>> [[psysml:f1885442-e1dd-46d9-92aa-2427019de9de ]] {\r\n",
       "}\r\n",
       "comp usage \"<i>a</i>: A \" as E7  <<(T,blue) part>> [[psysml:cc0b7000-21b2-4abb-bead-e88feeed0b85 ]] {\r\n",
       "}\r\n",
       "comp def \"C\" as E8  <<(T,blue) part  def>> [[psysml:6db780a5-cf23-40f2-9df9-03150cb096d0 ]] {\r\n",
       "}\r\n",
       "comp def \"P\" as E9  <<(T,blue) port  def>> [[psysml:587854cf-6fe1-483d-a698-c7fca9a0c13c ]] {\r\n",
       "}\r\n",
       "comp usage \"a1: A \" as E10  <<(T,blue) item>> [[psysml:f73739ed-5364-4403-8254-d4f943238dfa ]] {\r\n",
       "}\r\n",
       "comp usage \"a2: A \" as E11  <<(T,blue) item>> [[psysml:6a7a2def-0eff-4194-80a2-af7f6b4a129e ]] {\r\n",
       "}\r\n",
       "}\r\n",
       "E2 - -:|> E3 [[psysml:8851b494-fad9-483d-8771-6e667cb982eb ]] \r\n",
       "E3 o- - \"1\"E4 [[psysml:bbc4490d-4884-4bf2-8394-3cd2641c3130 ]] \r\n",
       "E3 o- - \"1\"E5 [[psysml:896e58a4-3d4e-4523-9980-c4907a158d3f ]] \r\n",
       "E4 - -:|> E6 [[psysml:ae089d5e-98d2-4386-a1f6-d9056ad7f1db ]] \r\n",
       "E6 o- - \"1\"E7 [[psysml:f93e67a1-8e91-4b72-abc4-aff48dcc0ebf ]] \r\n",
       "E7 - -:|> E3 [[psysml:729e96ed-f9a8-4349-a416-61bf2a977bd8 ]] \r\n",
       "E5 - -:|> E8 [[psysml:8b27b07a-ba61-4df4-814a-c4b9eba72255 ]] \r\n",
       "E8 o- - E3 [[psysml:2fa26767-edf9-4f1d-8702-6d0b4fb1afcf ]] : y\r\n",
       "E8 o- - E6 [[psysml:2fa26767-edf9-4f1d-8702-6d0b4fb1afcf ]] : y\r\n",
       "E9 o- - \"1\"E10 [[psysml:2a8d2925-3f72-4e1c-849d-9e3943fa1d15 ]] \r\n",
       "E10 - -:|> E3 [[psysml:be0eb1db-3a2d-4525-bfbd-aed22db095bf ]] \r\n",
       "E9 o- - \"1\"E11 [[psysml:4a4899a0-cca2-49ff-ba55-d15caf476c4f ]] \r\n",
       "E11 - -:|> E3 [[psysml:8ddae6f0-112f-4ded-9c4d-74dd6bca1f55 ]] \r\n",
       "@enduml\r\n",
       "\n",
       "PlantUML version 1.2020.13(Sat Jun 13 12:26:38 UTC 2020)\n",
       "(EPL source distribution)\n",
       "Java Runtime: OpenJDK Runtime Environment\n",
       "JVM: OpenJDK 64-Bit Server VM\n",
       "Default Encoding: UTF-8\n",
       "Language: en\n",
       "Country: null\n",
       "--></g></svg>"
      ]
     },
     "execution_count": 15,
     "metadata": {},
     "output_type": "execute_result"
    }
   ],
   "source": [
    "%viz --style=\"POLYLINE\" --view=\"MIXED\" \"ItemTest\""
   ]
  },
  {
   "cell_type": "code",
   "execution_count": 16,
   "id": "28e21773",
   "metadata": {
    "execution": {
     "iopub.execute_input": "2022-08-19T08:17:28.547291Z",
     "iopub.status.busy": "2022-08-19T08:17:28.546658Z",
     "iopub.status.idle": "2022-08-19T08:17:28.616787Z",
     "shell.execute_reply": "2022-08-19T08:17:28.615085Z"
    }
   },
   "outputs": [
    {
     "data": {
      "image/svg+xml": [
       "<?xml version=\"1.0\" encoding=\"UTF-8\" standalone=\"no\"?><svg xmlns=\"http://www.w3.org/2000/svg\" xmlns:xlink=\"http://www.w3.org/1999/xlink\" contentScriptType=\"application/ecmascript\" contentStyleType=\"text/css\" height=\"277px\" preserveAspectRatio=\"none\" style=\"width:895px;height:277px;\" version=\"1.1\" viewBox=\"0 0 895 277\" width=\"895px\" zoomAndPan=\"magnify\"><defs/><g><!--MD5=[fbc87193dbaf4d95561dea2c320d4a47]\n",
       "cluster E1--><a href=\"psysml:ae8f2d08-e2f6-41ef-ae81-a483692b435b\" target=\"_top\" title=\"psysml:ae8f2d08-e2f6-41ef-ae81-a483692b435b\" xlink:actuate=\"onRequest\" xlink:href=\"psysml:ae8f2d08-e2f6-41ef-ae81-a483692b435b\" xlink:show=\"new\" xlink:title=\"psysml:ae8f2d08-e2f6-41ef-ae81-a483692b435b\" xlink:type=\"simple\"><polygon fill=\"#FFFFFF\" points=\"16,6,83,6,90,28.2969,873,28.2969,873,265,16,265,16,6\" style=\"stroke: #000000; stroke-width: 1.5;\"/><line style=\"stroke: #000000; stroke-width: 1.5;\" x1=\"16\" x2=\"90\" y1=\"28.2969\" y2=\"28.2969\"/><text fill=\"#000000\" font-family=\"sans-serif\" font-size=\"14\" font-weight=\"bold\" lengthAdjust=\"spacingAndGlyphs\" textLength=\"61\" x=\"20\" y=\"20.9951\">ItemTest</text></a><!--MD5=[b4997ac47864f28c2f74865a473b2911]\n",
       "class E2--><a href=\"psysml:cbd0bd62-e912-4912-a2fb-da1e68d4f615\" target=\"_top\" title=\"psysml:cbd0bd62-e912-4912-a2fb-da1e68d4f615\" xlink:actuate=\"onRequest\" xlink:href=\"psysml:cbd0bd62-e912-4912-a2fb-da1e68d4f615\" xlink:show=\"new\" xlink:title=\"psysml:cbd0bd62-e912-4912-a2fb-da1e68d4f615\" xlink:type=\"simple\"><rect fill=\"#FFFFFF\" height=\"45.9375\" id=\"E2\" rx=\"10\" ry=\"10\" style=\"stroke: #383838; stroke-width: 1.5;\" width=\"43\" x=\"163\" y=\"41\"/><text fill=\"#000000\" font-family=\"sans-serif\" font-size=\"12\" font-style=\"italic\" lengthAdjust=\"spacingAndGlyphs\" textLength=\"41\" x=\"164\" y=\"57.1387\">«item»</text><text fill=\"#000000\" font-family=\"sans-serif\" font-size=\"12\" lengthAdjust=\"spacingAndGlyphs\" textLength=\"20\" x=\"172.5\" y=\"71.1074\">f: A</text><line style=\"stroke: #383838; stroke-width: 1.5;\" x1=\"164\" x2=\"205\" y1=\"78.9375\" y2=\"78.9375\"/></a><!--MD5=[09b614a08d8cba4a07c9adeb5e0fee81]\n",
       "class E3--><a href=\"psysml:2b189b42-edf1-49d6-a72b-40b548d68a1d\" target=\"_top\" title=\"psysml:2b189b42-edf1-49d6-a72b-40b548d68a1d\" xlink:actuate=\"onRequest\" xlink:href=\"psysml:2b189b42-edf1-49d6-a72b-40b548d68a1d\" xlink:show=\"new\" xlink:title=\"psysml:2b189b42-edf1-49d6-a72b-40b548d68a1d\" xlink:type=\"simple\"><rect fill=\"#FFFFFF\" height=\"45.9375\" id=\"E3\" style=\"stroke: #383838; stroke-width: 1.5;\" width=\"71\" x=\"267\" y=\"122\"/><text fill=\"#000000\" font-family=\"sans-serif\" font-size=\"12\" font-style=\"italic\" lengthAdjust=\"spacingAndGlyphs\" textLength=\"69\" x=\"268\" y=\"138.1387\">«item  def»</text><text fill=\"#000000\" font-family=\"sans-serif\" font-size=\"12\" lengthAdjust=\"spacingAndGlyphs\" textLength=\"8\" x=\"298.5\" y=\"152.1074\">A</text><line style=\"stroke: #383838; stroke-width: 1.5;\" x1=\"268\" x2=\"337\" y1=\"159.9375\" y2=\"159.9375\"/></a><!--MD5=[ebbe1d658d1005bcc118a6aa81145e00]\n",
       "class E4--><a href=\"psysml:94aeed99-fa0f-4cf3-9a3c-c07fcd3df143\" target=\"_top\" title=\"psysml:94aeed99-fa0f-4cf3-9a3c-c07fcd3df143\" xlink:actuate=\"onRequest\" xlink:href=\"psysml:94aeed99-fa0f-4cf3-9a3c-c07fcd3df143\" xlink:show=\"new\" xlink:title=\"psysml:94aeed99-fa0f-4cf3-9a3c-c07fcd3df143\" xlink:type=\"simple\"><rect fill=\"#FFFFFF\" height=\"45.9375\" id=\"E4\" rx=\"10\" ry=\"10\" style=\"stroke: #383838; stroke-width: 1.5;\" width=\"43\" x=\"471\" y=\"192\"/><text fill=\"#000000\" font-family=\"sans-serif\" font-size=\"12\" font-style=\"italic\" lengthAdjust=\"spacingAndGlyphs\" textLength=\"41\" x=\"472\" y=\"208.1387\">«item»</text><text fill=\"#000000\" font-family=\"sans-serif\" font-size=\"12\" lengthAdjust=\"spacingAndGlyphs\" textLength=\"24\" x=\"478.5\" y=\"222.1074\">b: B</text><line style=\"stroke: #383838; stroke-width: 1.5;\" x1=\"472\" x2=\"513\" y1=\"229.9375\" y2=\"229.9375\"/></a><!--MD5=[270fce915f116d4de14055a7c1d9a0f3]\n",
       "class E5--><a href=\"psysml:74f7fd5f-8520-4aae-9a17-942775661558\" target=\"_top\" title=\"psysml:74f7fd5f-8520-4aae-9a17-942775661558\" xlink:actuate=\"onRequest\" xlink:href=\"psysml:74f7fd5f-8520-4aae-9a17-942775661558\" xlink:show=\"new\" xlink:title=\"psysml:74f7fd5f-8520-4aae-9a17-942775661558\" xlink:type=\"simple\"><rect fill=\"#FFFFFF\" height=\"45.9375\" id=\"E5\" rx=\"10\" ry=\"10\" style=\"stroke: #383838; stroke-width: 1.5;\" width=\"42\" x=\"399\" y=\"78\"/><text fill=\"#000000\" font-family=\"sans-serif\" font-size=\"12\" font-style=\"italic\" lengthAdjust=\"spacingAndGlyphs\" textLength=\"40\" x=\"400\" y=\"94.1387\">«part»</text><text fill=\"#000000\" font-family=\"sans-serif\" font-size=\"12\" lengthAdjust=\"spacingAndGlyphs\" textLength=\"23\" x=\"406.5\" y=\"108.1074\">c: C</text><line style=\"stroke: #383838; stroke-width: 1.5;\" x1=\"400\" x2=\"440\" y1=\"115.9375\" y2=\"115.9375\"/></a><!--MD5=[60a26617385b1d2d0262a64233df1f8d]\n",
       "class E6--><a href=\"psysml:f1885442-e1dd-46d9-92aa-2427019de9de\" target=\"_top\" title=\"psysml:f1885442-e1dd-46d9-92aa-2427019de9de\" xlink:actuate=\"onRequest\" xlink:href=\"psysml:f1885442-e1dd-46d9-92aa-2427019de9de\" xlink:show=\"new\" xlink:title=\"psysml:f1885442-e1dd-46d9-92aa-2427019de9de\" xlink:type=\"simple\"><rect fill=\"#FFFFFF\" height=\"45.9375\" id=\"E6\" style=\"stroke: #383838; stroke-width: 1.5;\" width=\"71\" x=\"683\" y=\"105\"/><text fill=\"#000000\" font-family=\"sans-serif\" font-size=\"12\" font-style=\"italic\" lengthAdjust=\"spacingAndGlyphs\" textLength=\"69\" x=\"684\" y=\"121.1387\">«item  def»</text><text fill=\"#000000\" font-family=\"sans-serif\" font-size=\"12\" font-style=\"italic\" lengthAdjust=\"spacingAndGlyphs\" textLength=\"8\" x=\"714.5\" y=\"135.1074\">B</text><line style=\"stroke: #383838; stroke-width: 1.5;\" x1=\"684\" x2=\"753\" y1=\"142.9375\" y2=\"142.9375\"/></a><!--MD5=[2156ba9850f5573cc1fc38a6a4b2f02b]\n",
       "class E7--><a href=\"psysml:cc0b7000-21b2-4abb-bead-e88feeed0b85\" target=\"_top\" title=\"psysml:cc0b7000-21b2-4abb-bead-e88feeed0b85\" xlink:actuate=\"onRequest\" xlink:href=\"psysml:cc0b7000-21b2-4abb-bead-e88feeed0b85\" xlink:show=\"new\" xlink:title=\"psysml:cc0b7000-21b2-4abb-bead-e88feeed0b85\" xlink:type=\"simple\"><rect fill=\"#FFFFFF\" height=\"45.9375\" id=\"E7\" rx=\"10\" ry=\"10\" style=\"stroke: #383838; stroke-width: 1.5;\" width=\"42\" x=\"815\" y=\"73\"/><text fill=\"#000000\" font-family=\"sans-serif\" font-size=\"12\" font-style=\"italic\" lengthAdjust=\"spacingAndGlyphs\" textLength=\"40\" x=\"816\" y=\"89.1387\">«part»</text><text fill=\"#000000\" font-family=\"sans-serif\" font-size=\"12\" font-style=\"italic\" lengthAdjust=\"spacingAndGlyphs\" textLength=\"8\" x=\"822\" y=\"103.1074\">a</text><text fill=\"#000000\" font-family=\"sans-serif\" font-size=\"12\" lengthAdjust=\"spacingAndGlyphs\" textLength=\"16\" x=\"830\" y=\"103.1074\">: A</text><line style=\"stroke: #383838; stroke-width: 1.5;\" x1=\"816\" x2=\"856\" y1=\"110.9375\" y2=\"110.9375\"/></a><!--MD5=[b9389687b975829384b498ac4b7476b2]\n",
       "class E8--><a href=\"psysml:6db780a5-cf23-40f2-9df9-03150cb096d0\" target=\"_top\" title=\"psysml:6db780a5-cf23-40f2-9df9-03150cb096d0\" xlink:actuate=\"onRequest\" xlink:href=\"psysml:6db780a5-cf23-40f2-9df9-03150cb096d0\" xlink:show=\"new\" xlink:title=\"psysml:6db780a5-cf23-40f2-9df9-03150cb096d0\" xlink:type=\"simple\"><rect fill=\"#FFFFFF\" height=\"45.9375\" id=\"E8\" style=\"stroke: #383838; stroke-width: 1.5;\" width=\"70\" x=\"544\" y=\"105\"/><text fill=\"#000000\" font-family=\"sans-serif\" font-size=\"12\" font-style=\"italic\" lengthAdjust=\"spacingAndGlyphs\" textLength=\"68\" x=\"545\" y=\"121.1387\">«part  def»</text><text fill=\"#000000\" font-family=\"sans-serif\" font-size=\"12\" lengthAdjust=\"spacingAndGlyphs\" textLength=\"8\" x=\"575\" y=\"135.1074\">C</text><line style=\"stroke: #383838; stroke-width: 1.5;\" x1=\"545\" x2=\"613\" y1=\"142.9375\" y2=\"142.9375\"/></a><!--MD5=[fd4143e9d270a159db93a4ea2a975926]\n",
       "class E9--><a href=\"psysml:587854cf-6fe1-483d-a698-c7fca9a0c13c\" target=\"_top\" title=\"psysml:587854cf-6fe1-483d-a698-c7fca9a0c13c\" xlink:actuate=\"onRequest\" xlink:href=\"psysml:587854cf-6fe1-483d-a698-c7fca9a0c13c\" xlink:show=\"new\" xlink:title=\"psysml:587854cf-6fe1-483d-a698-c7fca9a0c13c\" xlink:type=\"simple\"><rect fill=\"#FFFFFF\" height=\"45.9375\" id=\"E9\" style=\"stroke: #383838; stroke-width: 1.5;\" width=\"70\" x=\"32\" y=\"163\"/><text fill=\"#000000\" font-family=\"sans-serif\" font-size=\"12\" font-style=\"italic\" lengthAdjust=\"spacingAndGlyphs\" textLength=\"68\" x=\"33\" y=\"179.1387\">«port  def»</text><text fill=\"#000000\" font-family=\"sans-serif\" font-size=\"12\" lengthAdjust=\"spacingAndGlyphs\" textLength=\"8\" x=\"63\" y=\"193.1074\">P</text><line style=\"stroke: #383838; stroke-width: 1.5;\" x1=\"33\" x2=\"101\" y1=\"200.9375\" y2=\"200.9375\"/></a><!--MD5=[96f4274e9e20536e775497830990834d]\n",
       "class E10--><a href=\"psysml:f73739ed-5364-4403-8254-d4f943238dfa\" target=\"_top\" title=\"psysml:f73739ed-5364-4403-8254-d4f943238dfa\" xlink:actuate=\"onRequest\" xlink:href=\"psysml:f73739ed-5364-4403-8254-d4f943238dfa\" xlink:show=\"new\" xlink:title=\"psysml:f73739ed-5364-4403-8254-d4f943238dfa\" xlink:type=\"simple\"><rect fill=\"#FFFFFF\" height=\"45.9375\" id=\"E10\" rx=\"10\" ry=\"10\" style=\"stroke: #383838; stroke-width: 1.5;\" width=\"43\" x=\"163\" y=\"203\"/><text fill=\"#000000\" font-family=\"sans-serif\" font-size=\"12\" font-style=\"italic\" lengthAdjust=\"spacingAndGlyphs\" textLength=\"41\" x=\"164\" y=\"219.1387\">«item»</text><text fill=\"#000000\" font-family=\"sans-serif\" font-size=\"12\" lengthAdjust=\"spacingAndGlyphs\" textLength=\"32\" x=\"166.5\" y=\"233.1074\">a1: A</text><line style=\"stroke: #383838; stroke-width: 1.5;\" x1=\"164\" x2=\"205\" y1=\"240.9375\" y2=\"240.9375\"/></a><!--MD5=[1dd1bfd58a279cf63c5f349dbc8fc6a1]\n",
       "class E11--><a href=\"psysml:6a7a2def-0eff-4194-80a2-af7f6b4a129e\" target=\"_top\" title=\"psysml:6a7a2def-0eff-4194-80a2-af7f6b4a129e\" xlink:actuate=\"onRequest\" xlink:href=\"psysml:6a7a2def-0eff-4194-80a2-af7f6b4a129e\" xlink:show=\"new\" xlink:title=\"psysml:6a7a2def-0eff-4194-80a2-af7f6b4a129e\" xlink:type=\"simple\"><rect fill=\"#FFFFFF\" height=\"45.9375\" id=\"E11\" rx=\"10\" ry=\"10\" style=\"stroke: #383838; stroke-width: 1.5;\" width=\"43\" x=\"163\" y=\"122\"/><text fill=\"#000000\" font-family=\"sans-serif\" font-size=\"12\" font-style=\"italic\" lengthAdjust=\"spacingAndGlyphs\" textLength=\"41\" x=\"164\" y=\"138.1387\">«item»</text><text fill=\"#000000\" font-family=\"sans-serif\" font-size=\"12\" lengthAdjust=\"spacingAndGlyphs\" textLength=\"32\" x=\"166.5\" y=\"152.1074\">a2: A</text><line style=\"stroke: #383838; stroke-width: 1.5;\" x1=\"164\" x2=\"205\" y1=\"159.9375\" y2=\"159.9375\"/></a><!--MD5=[2720a5a1f2c3fca2055b230370638851]\n",
       "link E2 to E3--><a href=\"psysml:8851b494-fad9-483d-8771-6e667cb982eb\" target=\"_top\" title=\"psysml:8851b494-fad9-483d-8771-6e667cb982eb\" xlink:actuate=\"onRequest\" xlink:href=\"psysml:8851b494-fad9-483d-8771-6e667cb982eb\" xlink:show=\"new\" xlink:title=\"psysml:8851b494-fad9-483d-8771-6e667cb982eb\" xlink:type=\"simple\"><path d=\"M206.24,78.48 C218.94,87.35 235.78,99.11 251.76,110.27 \" fill=\"none\" id=\"E2-&gt;E3\" style=\"stroke: #383838; stroke-width: 1.0;\"/><polygon fill=\"#FFFFFF\" points=\"268.21,121.75,248.6276,116.5992,256.6501,105.1257,268.21,121.75\" style=\"stroke: #383838; stroke-width: 1.0;\"/><ellipse cx=\"245.1024\" cy=\"111.6938\" fill=\"#383838\" rx=\"2\" ry=\"2\" style=\"stroke: #383838; stroke-width: 1.0;\"/><ellipse cx=\"250.8327\" cy=\"103.4985\" fill=\"#383838\" rx=\"2\" ry=\"2\" style=\"stroke: #383838; stroke-width: 1.0;\"/></a><!--MD5=[4672eba38e49728da53d11aeb285b987]\n",
       "reverse link E3 to E4--><a href=\"psysml:bbc4490d-4884-4bf2-8394-3cd2641c3130\" target=\"_top\" title=\"psysml:bbc4490d-4884-4bf2-8394-3cd2641c3130\" xlink:actuate=\"onRequest\" xlink:href=\"psysml:bbc4490d-4884-4bf2-8394-3cd2641c3130\" xlink:show=\"new\" xlink:title=\"psysml:bbc4490d-4884-4bf2-8394-3cd2641c3130\" xlink:type=\"simple\"><path d=\"M333.98,177.13 C351.32,193.04 374.45,210.6 399,219 C422.57,227.06 451.51,223.9 470.67,220.14 \" fill=\"none\" id=\"E3&lt;-E4\" style=\"stroke: #383838; stroke-width: 1.0;\"/><polygon fill=\"#FFFFFF\" points=\"324.47,168.03,326.0431,175.0674,333.1443,176.322,331.5711,169.2846,324.47,168.03\" style=\"stroke: #383838; stroke-width: 1.0;\"/><text fill=\"#000000\" font-family=\"sans-serif\" font-size=\"13\" lengthAdjust=\"spacingAndGlyphs\" textLength=\"8\" x=\"455.0824\" y=\"235.9486\">1</text></a><!--MD5=[191cde3d490a3f6d7bb551fe3ddca469]\n",
       "reverse link E3 to E5--><a href=\"psysml:896e58a4-3d4e-4523-9980-c4907a158d3f\" target=\"_top\" title=\"psysml:896e58a4-3d4e-4523-9980-c4907a158d3f\" xlink:actuate=\"onRequest\" xlink:href=\"psysml:896e58a4-3d4e-4523-9980-c4907a158d3f\" xlink:show=\"new\" xlink:title=\"psysml:896e58a4-3d4e-4523-9980-c4907a158d3f\" xlink:type=\"simple\"><path d=\"M350.66,127.03 C367.46,120.64 385.49,113.77 398.81,108.69 \" fill=\"none\" id=\"E3&lt;-E5\" style=\"stroke: #383838; stroke-width: 1.0;\"/><polygon fill=\"#FFFFFF\" points=\"338.15,131.8,345.1812,133.4006,349.363,127.5259,342.3318,125.9253,338.15,131.8\" style=\"stroke: #383838; stroke-width: 1.0;\"/><text fill=\"#000000\" font-family=\"sans-serif\" font-size=\"13\" lengthAdjust=\"spacingAndGlyphs\" textLength=\"8\" x=\"383.0956\" y=\"125.4387\">1</text></a><!--MD5=[79568f1e445c3877b6a54524624ccc7d]\n",
       "link E4 to E6--><a href=\"psysml:ae089d5e-98d2-4386-a1f6-d9056ad7f1db\" target=\"_top\" title=\"psysml:ae089d5e-98d2-4386-a1f6-d9056ad7f1db\" xlink:actuate=\"onRequest\" xlink:href=\"psysml:ae089d5e-98d2-4386-a1f6-d9056ad7f1db\" xlink:show=\"new\" xlink:title=\"psysml:ae089d5e-98d2-4386-a1f6-d9056ad7f1db\" xlink:type=\"simple\"><path d=\"M514.17,206.97 C547.89,193.88 615.78,167.51 663.82,148.85 \" fill=\"none\" id=\"E4-&gt;E6\" style=\"stroke: #383838; stroke-width: 1.0;\"/><polygon fill=\"#FFFFFF\" points=\"682.72,141.51,667.5446,154.9155,662.4747,141.8657,682.72,141.51\" style=\"stroke: #383838; stroke-width: 1.0;\"/><ellipse cx=\"661.5072\" cy=\"155.1154\" fill=\"#383838\" rx=\"2\" ry=\"2\" style=\"stroke: #383838; stroke-width: 1.0;\"/><ellipse cx=\"657.8858\" cy=\"145.7941\" fill=\"#383838\" rx=\"2\" ry=\"2\" style=\"stroke: #383838; stroke-width: 1.0;\"/></a><!--MD5=[3f50a3473f1dfb74d3f76443e03635af]\n",
       "reverse link E6 to E7--><a href=\"psysml:f93e67a1-8e91-4b72-abc4-aff48dcc0ebf\" target=\"_top\" title=\"psysml:f93e67a1-8e91-4b72-abc4-aff48dcc0ebf\" xlink:actuate=\"onRequest\" xlink:href=\"psysml:f93e67a1-8e91-4b72-abc4-aff48dcc0ebf\" xlink:show=\"new\" xlink:title=\"psysml:f93e67a1-8e91-4b72-abc4-aff48dcc0ebf\" xlink:type=\"simple\"><path d=\"M767.15,114.8 C783.81,110.18 801.62,105.25 814.81,101.59 \" fill=\"none\" id=\"E6&lt;-E7\" style=\"stroke: #383838; stroke-width: 1.0;\"/><polygon fill=\"#FFFFFF\" points=\"754.15,118.4,761.0002,120.6526,765.7143,115.1958,758.8641,112.9431,754.15,118.4\" style=\"stroke: #383838; stroke-width: 1.0;\"/><text fill=\"#000000\" font-family=\"sans-serif\" font-size=\"13\" lengthAdjust=\"spacingAndGlyphs\" textLength=\"8\" x=\"799.0956\" y=\"117.6956\">1</text></a><!--MD5=[14ccda38c055a5c0da953d572bc50960]\n",
       "link E7 to E3--><a href=\"psysml:729e96ed-f9a8-4349-a416-61bf2a977bd8\" target=\"_top\" title=\"psysml:729e96ed-f9a8-4349-a416-61bf2a977bd8\" xlink:actuate=\"onRequest\" xlink:href=\"psysml:729e96ed-f9a8-4349-a416-61bf2a977bd8\" xlink:show=\"new\" xlink:title=\"psysml:729e96ed-f9a8-4349-a416-61bf2a977bd8\" xlink:type=\"simple\"><path d=\"M814.63,79.8 C792.54,63.89 755.58,42 719.5,42 C419,42 419,42 419,42 C379.51,42 347.29,75.96 327.01,104.88 \" fill=\"none\" id=\"E7-&gt;E3\" style=\"stroke: #383838; stroke-width: 1.0;\"/><polygon fill=\"#FFFFFF\" points=\"315.97,121.88,320.4427,102.1317,332.1859,109.7538,315.97,121.88\" style=\"stroke: #383838; stroke-width: 1.0;\"/><ellipse cx=\"325.2235\" cy=\"98.4394\" fill=\"#383838\" rx=\"2\" ry=\"2\" style=\"stroke: #383838; stroke-width: 1.0;\"/><ellipse cx=\"333.6116\" cy=\"103.8838\" fill=\"#383838\" rx=\"2\" ry=\"2\" style=\"stroke: #383838; stroke-width: 1.0;\"/></a><!--MD5=[dfaffb906826c3e5aca635516100ff21]\n",
       "link E5 to E8--><a href=\"psysml:8b27b07a-ba61-4df4-814a-c4b9eba72255\" target=\"_top\" title=\"psysml:8b27b07a-ba61-4df4-814a-c4b9eba72255\" xlink:actuate=\"onRequest\" xlink:href=\"psysml:8b27b07a-ba61-4df4-814a-c4b9eba72255\" xlink:show=\"new\" xlink:title=\"psysml:8b27b07a-ba61-4df4-814a-c4b9eba72255\" xlink:type=\"simple\"><path d=\"M441.2,104.47 C462.06,108.06 495.5,113.81 524.1,118.73 \" fill=\"none\" id=\"E5-&gt;E8\" style=\"stroke: #383838; stroke-width: 1.0;\"/><polygon fill=\"#FFFFFF\" points=\"543.82,122.12,523.9093,125.803,526.279,112.005,543.82,122.12\" style=\"stroke: #383838; stroke-width: 1.0;\"/><ellipse cx=\"518.6301\" cy=\"122.8671\" fill=\"#383838\" rx=\"2\" ry=\"2\" style=\"stroke: #383838; stroke-width: 1.0;\"/><ellipse cx=\"520.3227\" cy=\"113.0114\" fill=\"#383838\" rx=\"2\" ry=\"2\" style=\"stroke: #383838; stroke-width: 1.0;\"/></a><!--MD5=[03c8294790d3c57651a1993cecff665f]\n",
       "reverse link E8 to E3--><a href=\"psysml:2fa26767-edf9-4f1d-8702-6d0b4fb1afcf\" target=\"_top\" title=\"psysml:2fa26767-edf9-4f1d-8702-6d0b4fb1afcf\" xlink:actuate=\"onRequest\" xlink:href=\"psysml:2fa26767-edf9-4f1d-8702-6d0b4fb1afcf\" xlink:show=\"new\" xlink:title=\"psysml:2fa26767-edf9-4f1d-8702-6d0b4fb1afcf\" xlink:type=\"simple\"><path d=\"M531.34,140.84 C505.03,147.41 471.44,154.71 441,158 C422.44,160.01 417.62,159.26 399,158 C378.8,156.63 356.36,153.65 338.31,150.89 \" fill=\"none\" id=\"E8&lt;-E3\" style=\"stroke: #383838; stroke-width: 1.0;\"/><polygon fill=\"#FFFFFF\" points=\"543.99,137.59,537.1849,135.2045,532.3655,140.5686,539.1706,142.9541,543.99,137.59\" style=\"stroke: #383838; stroke-width: 1.0;\"/><text fill=\"#000000\" font-family=\"sans-serif\" font-size=\"13\" lengthAdjust=\"spacingAndGlyphs\" textLength=\"7\" x=\"416.5\" y=\"154.0669\">y</text></a><!--MD5=[0d75d2178373a6a4568e5dc728f58aef]\n",
       "reverse link E8 to E6--><a href=\"psysml:2fa26767-edf9-4f1d-8702-6d0b4fb1afcf\" target=\"_top\" title=\"psysml:2fa26767-edf9-4f1d-8702-6d0b4fb1afcf\" xlink:actuate=\"onRequest\" xlink:href=\"psysml:2fa26767-edf9-4f1d-8702-6d0b4fb1afcf\" xlink:show=\"new\" xlink:title=\"psysml:2fa26767-edf9-4f1d-8702-6d0b4fb1afcf\" xlink:type=\"simple\"><path d=\"M627.39,128 C645.53,128 665.88,128 682.64,128 \" fill=\"none\" id=\"E8&lt;-E6\" style=\"stroke: #383838; stroke-width: 1.0;\"/><polygon fill=\"#FFFFFF\" points=\"614.34,128,620.34,132,626.34,128,620.34,124,614.34,128\" style=\"stroke: #383838; stroke-width: 1.0;\"/><text fill=\"#000000\" font-family=\"sans-serif\" font-size=\"13\" lengthAdjust=\"spacingAndGlyphs\" textLength=\"7\" x=\"645\" y=\"124.0669\">y</text></a><!--MD5=[23ac544a70576c3e717098101004234c]\n",
       "reverse link E9 to E10--><a href=\"psysml:2a8d2925-3f72-4e1c-849d-9e3943fa1d15\" target=\"_top\" title=\"psysml:2a8d2925-3f72-4e1c-849d-9e3943fa1d15\" xlink:actuate=\"onRequest\" xlink:href=\"psysml:2a8d2925-3f72-4e1c-849d-9e3943fa1d15\" xlink:show=\"new\" xlink:title=\"psysml:2a8d2925-3f72-4e1c-849d-9e3943fa1d15\" xlink:type=\"simple\"><path d=\"M114.48,202.1 C131.24,207.9 149.31,214.16 162.75,218.81 \" fill=\"none\" id=\"E9&lt;-E10\" style=\"stroke: #383838; stroke-width: 1.0;\"/><polygon fill=\"#FFFFFF\" points=\"102.03,197.78,106.3896,203.524,113.3686,201.7089,109.0089,195.9649,102.03,197.78\" style=\"stroke: #383838; stroke-width: 1.0;\"/><text fill=\"#000000\" font-family=\"sans-serif\" font-size=\"13\" lengthAdjust=\"spacingAndGlyphs\" textLength=\"8\" x=\"146.8641\" y=\"231.0017\">1</text></a><!--MD5=[feeac5eb423634930294aa81f2d25a4c]\n",
       "link E10 to E3--><a href=\"psysml:be0eb1db-3a2d-4525-bfbd-aed22db095bf\" target=\"_top\" title=\"psysml:be0eb1db-3a2d-4525-bfbd-aed22db095bf\" xlink:actuate=\"onRequest\" xlink:href=\"psysml:be0eb1db-3a2d-4525-bfbd-aed22db095bf\" xlink:show=\"new\" xlink:title=\"psysml:be0eb1db-3a2d-4525-bfbd-aed22db095bf\" xlink:type=\"simple\"><path d=\"M206.24,211.52 C218.94,202.65 235.78,190.89 251.76,179.73 \" fill=\"none\" id=\"E10-&gt;E3\" style=\"stroke: #383838; stroke-width: 1.0;\"/><polygon fill=\"#FFFFFF\" points=\"268.21,168.25,256.6501,184.8743,248.6276,173.4008,268.21,168.25\" style=\"stroke: #383838; stroke-width: 1.0;\"/><ellipse cx=\"250.8327\" cy=\"186.5015\" fill=\"#383838\" rx=\"2\" ry=\"2\" style=\"stroke: #383838; stroke-width: 1.0;\"/><ellipse cx=\"245.1024\" cy=\"178.3062\" fill=\"#383838\" rx=\"2\" ry=\"2\" style=\"stroke: #383838; stroke-width: 1.0;\"/></a><!--MD5=[1fc04a95fd77ad5ce46c1a3027516051]\n",
       "reverse link E9 to E11--><a href=\"psysml:4a4899a0-cca2-49ff-ba55-d15caf476c4f\" target=\"_top\" title=\"psysml:4a4899a0-cca2-49ff-ba55-d15caf476c4f\" xlink:actuate=\"onRequest\" xlink:href=\"psysml:4a4899a0-cca2-49ff-ba55-d15caf476c4f\" xlink:show=\"new\" xlink:title=\"psysml:4a4899a0-cca2-49ff-ba55-d15caf476c4f\" xlink:type=\"simple\"><path d=\"M114.48,169.5 C131.24,163.55 149.31,157.14 162.75,152.37 \" fill=\"none\" id=\"E9&lt;-E11\" style=\"stroke: #383838; stroke-width: 1.0;\"/><polygon fill=\"#FFFFFF\" points=\"102.03,173.92,109.0214,175.6865,113.341,169.9124,106.3496,168.1458,102.03,173.92\" style=\"stroke: #383838; stroke-width: 1.0;\"/><text fill=\"#000000\" font-family=\"sans-serif\" font-size=\"13\" lengthAdjust=\"spacingAndGlyphs\" textLength=\"8\" x=\"146.8641\" y=\"169.0207\">1</text></a><!--MD5=[0517f1ce58c4d5483948f93845c45e26]\n",
       "link E11 to E3--><a href=\"psysml:8ddae6f0-112f-4ded-9c4d-74dd6bca1f55\" target=\"_top\" title=\"psysml:8ddae6f0-112f-4ded-9c4d-74dd6bca1f55\" xlink:actuate=\"onRequest\" xlink:href=\"psysml:8ddae6f0-112f-4ded-9c4d-74dd6bca1f55\" xlink:show=\"new\" xlink:title=\"psysml:8ddae6f0-112f-4ded-9c4d-74dd6bca1f55\" xlink:type=\"simple\"><path d=\"M206.24,145 C217.53,145 232.1,145 246.43,145 \" fill=\"none\" id=\"E11-&gt;E3\" style=\"stroke: #383838; stroke-width: 1.0;\"/><polygon fill=\"#FFFFFF\" points=\"266.84,145,247.84,152,247.84,138,266.84,145\" style=\"stroke: #383838; stroke-width: 1.0;\"/><ellipse cx=\"242.14\" cy=\"150\" fill=\"#383838\" rx=\"2\" ry=\"2\" style=\"stroke: #383838; stroke-width: 1.0;\"/><ellipse cx=\"242.14\" cy=\"140\" fill=\"#383838\" rx=\"2\" ry=\"2\" style=\"stroke: #383838; stroke-width: 1.0;\"/></a><!--MD5=[c1abe45082ce587347c5e725cd9b252d]\n",
       "@startuml\r\n",
       "left to right direction\r\n",
       "skinparam monochrome true\r\n",
       "skinparam classbackgroundcolor white\r\n",
       "skinparam shadowing false\r\n",
       "skinparam wrapWidth 300\r\n",
       "hide circle\r\n",
       "\r\n",
       "package \"ItemTest\" as E1  [[psysml:ae8f2d08-e2f6-41ef-ae81-a483692b435b ]]  {\r\n",
       "comp usage \"f: A \" as E2  <<(T,blue) item>> [[psysml:cbd0bd62-e912-4912-a2fb-da1e68d4f615 ]] {\r\n",
       "}\r\n",
       "comp def \"A\" as E3  <<(T,blue) item  def>> [[psysml:2b189b42-edf1-49d6-a72b-40b548d68a1d ]] {\r\n",
       "}\r\n",
       "comp usage \"b: B \" as E4  <<(T,blue) item>> [[psysml:94aeed99-fa0f-4cf3-9a3c-c07fcd3df143 ]] {\r\n",
       "}\r\n",
       "comp usage \"c: C \" as E5  <<(T,blue) part>> [[psysml:74f7fd5f-8520-4aae-9a17-942775661558 ]] {\r\n",
       "}\r\n",
       "comp def \"<i>B</i>\" as E6  <<(T,blue) item  def>> [[psysml:f1885442-e1dd-46d9-92aa-2427019de9de ]] {\r\n",
       "}\r\n",
       "comp usage \"<i>a</i>: A \" as E7  <<(T,blue) part>> [[psysml:cc0b7000-21b2-4abb-bead-e88feeed0b85 ]] {\r\n",
       "}\r\n",
       "comp def \"C\" as E8  <<(T,blue) part  def>> [[psysml:6db780a5-cf23-40f2-9df9-03150cb096d0 ]] {\r\n",
       "}\r\n",
       "comp def \"P\" as E9  <<(T,blue) port  def>> [[psysml:587854cf-6fe1-483d-a698-c7fca9a0c13c ]] {\r\n",
       "}\r\n",
       "comp usage \"a1: A \" as E10  <<(T,blue) item>> [[psysml:f73739ed-5364-4403-8254-d4f943238dfa ]] {\r\n",
       "}\r\n",
       "comp usage \"a2: A \" as E11  <<(T,blue) item>> [[psysml:6a7a2def-0eff-4194-80a2-af7f6b4a129e ]] {\r\n",
       "}\r\n",
       "}\r\n",
       "E2 - -:|> E3 [[psysml:8851b494-fad9-483d-8771-6e667cb982eb ]] \r\n",
       "E3 o- - \"1\"E4 [[psysml:bbc4490d-4884-4bf2-8394-3cd2641c3130 ]] \r\n",
       "E3 o- - \"1\"E5 [[psysml:896e58a4-3d4e-4523-9980-c4907a158d3f ]] \r\n",
       "E4 - -:|> E6 [[psysml:ae089d5e-98d2-4386-a1f6-d9056ad7f1db ]] \r\n",
       "E6 o- - \"1\"E7 [[psysml:f93e67a1-8e91-4b72-abc4-aff48dcc0ebf ]] \r\n",
       "E7 - -:|> E3 [[psysml:729e96ed-f9a8-4349-a416-61bf2a977bd8 ]] \r\n",
       "E5 - -:|> E8 [[psysml:8b27b07a-ba61-4df4-814a-c4b9eba72255 ]] \r\n",
       "E8 o- - E3 [[psysml:2fa26767-edf9-4f1d-8702-6d0b4fb1afcf ]] : y\r\n",
       "E8 o- - E6 [[psysml:2fa26767-edf9-4f1d-8702-6d0b4fb1afcf ]] : y\r\n",
       "E9 o- - \"1\"E10 [[psysml:2a8d2925-3f72-4e1c-849d-9e3943fa1d15 ]] \r\n",
       "E10 - -:|> E3 [[psysml:be0eb1db-3a2d-4525-bfbd-aed22db095bf ]] \r\n",
       "E9 o- - \"1\"E11 [[psysml:4a4899a0-cca2-49ff-ba55-d15caf476c4f ]] \r\n",
       "E11 - -:|> E3 [[psysml:8ddae6f0-112f-4ded-9c4d-74dd6bca1f55 ]] \r\n",
       "@enduml\r\n",
       "\n",
       "PlantUML version 1.2020.13(Sat Jun 13 12:26:38 UTC 2020)\n",
       "(EPL source distribution)\n",
       "Java Runtime: OpenJDK Runtime Environment\n",
       "JVM: OpenJDK 64-Bit Server VM\n",
       "Default Encoding: UTF-8\n",
       "Language: en\n",
       "Country: null\n",
       "--></g></svg>"
      ]
     },
     "execution_count": 16,
     "metadata": {},
     "output_type": "execute_result"
    }
   ],
   "source": [
    "%viz --style=\"LR\" --view=\"Default\" \"ItemTest\""
   ]
  },
  {
   "cell_type": "code",
   "execution_count": 17,
   "id": "3519f19b",
   "metadata": {
    "execution": {
     "iopub.execute_input": "2022-08-19T08:17:28.666415Z",
     "iopub.status.busy": "2022-08-19T08:17:28.665834Z",
     "iopub.status.idle": "2022-08-19T08:17:28.724836Z",
     "shell.execute_reply": "2022-08-19T08:17:28.724410Z"
    }
   },
   "outputs": [
    {
     "data": {
      "image/svg+xml": [
       "<?xml version=\"1.0\" encoding=\"UTF-8\" standalone=\"no\"?><svg xmlns=\"http://www.w3.org/2000/svg\" xmlns:xlink=\"http://www.w3.org/1999/xlink\" contentScriptType=\"application/ecmascript\" contentStyleType=\"text/css\" height=\"277px\" preserveAspectRatio=\"none\" style=\"width:895px;height:277px;\" version=\"1.1\" viewBox=\"0 0 895 277\" width=\"895px\" zoomAndPan=\"magnify\"><defs/><g><!--MD5=[fbc87193dbaf4d95561dea2c320d4a47]\n",
       "cluster E1--><a href=\"psysml:ae8f2d08-e2f6-41ef-ae81-a483692b435b\" target=\"_top\" title=\"psysml:ae8f2d08-e2f6-41ef-ae81-a483692b435b\" xlink:actuate=\"onRequest\" xlink:href=\"psysml:ae8f2d08-e2f6-41ef-ae81-a483692b435b\" xlink:show=\"new\" xlink:title=\"psysml:ae8f2d08-e2f6-41ef-ae81-a483692b435b\" xlink:type=\"simple\"><polygon fill=\"#FFFFFF\" points=\"16,6,83,6,90,28.2969,873,28.2969,873,265,16,265,16,6\" style=\"stroke: #000000; stroke-width: 1.5;\"/><line style=\"stroke: #000000; stroke-width: 1.5;\" x1=\"16\" x2=\"90\" y1=\"28.2969\" y2=\"28.2969\"/><text fill=\"#000000\" font-family=\"sans-serif\" font-size=\"14\" font-weight=\"bold\" lengthAdjust=\"spacingAndGlyphs\" textLength=\"61\" x=\"20\" y=\"20.9951\">ItemTest</text></a><!--MD5=[b4997ac47864f28c2f74865a473b2911]\n",
       "class E2--><a href=\"psysml:cbd0bd62-e912-4912-a2fb-da1e68d4f615\" target=\"_top\" title=\"psysml:cbd0bd62-e912-4912-a2fb-da1e68d4f615\" xlink:actuate=\"onRequest\" xlink:href=\"psysml:cbd0bd62-e912-4912-a2fb-da1e68d4f615\" xlink:show=\"new\" xlink:title=\"psysml:cbd0bd62-e912-4912-a2fb-da1e68d4f615\" xlink:type=\"simple\"><rect fill=\"#FFFFFF\" height=\"45.9375\" id=\"E2\" rx=\"10\" ry=\"10\" style=\"stroke: #383838; stroke-width: 1.5;\" width=\"43\" x=\"163\" y=\"41\"/><text fill=\"#000000\" font-family=\"sans-serif\" font-size=\"12\" font-style=\"italic\" lengthAdjust=\"spacingAndGlyphs\" textLength=\"41\" x=\"164\" y=\"57.1387\">«item»</text><text fill=\"#000000\" font-family=\"sans-serif\" font-size=\"12\" lengthAdjust=\"spacingAndGlyphs\" textLength=\"20\" x=\"172.5\" y=\"71.1074\">f: A</text><line style=\"stroke: #383838; stroke-width: 1.5;\" x1=\"164\" x2=\"205\" y1=\"78.9375\" y2=\"78.9375\"/></a><!--MD5=[09b614a08d8cba4a07c9adeb5e0fee81]\n",
       "class E3--><a href=\"psysml:2b189b42-edf1-49d6-a72b-40b548d68a1d\" target=\"_top\" title=\"psysml:2b189b42-edf1-49d6-a72b-40b548d68a1d\" xlink:actuate=\"onRequest\" xlink:href=\"psysml:2b189b42-edf1-49d6-a72b-40b548d68a1d\" xlink:show=\"new\" xlink:title=\"psysml:2b189b42-edf1-49d6-a72b-40b548d68a1d\" xlink:type=\"simple\"><rect fill=\"#FFFFFF\" height=\"45.9375\" id=\"E3\" style=\"stroke: #383838; stroke-width: 1.5;\" width=\"71\" x=\"267\" y=\"122\"/><text fill=\"#000000\" font-family=\"sans-serif\" font-size=\"12\" font-style=\"italic\" lengthAdjust=\"spacingAndGlyphs\" textLength=\"69\" x=\"268\" y=\"138.1387\">«item  def»</text><text fill=\"#000000\" font-family=\"sans-serif\" font-size=\"12\" lengthAdjust=\"spacingAndGlyphs\" textLength=\"8\" x=\"298.5\" y=\"152.1074\">A</text><line style=\"stroke: #383838; stroke-width: 1.5;\" x1=\"268\" x2=\"337\" y1=\"159.9375\" y2=\"159.9375\"/></a><!--MD5=[ebbe1d658d1005bcc118a6aa81145e00]\n",
       "class E4--><a href=\"psysml:94aeed99-fa0f-4cf3-9a3c-c07fcd3df143\" target=\"_top\" title=\"psysml:94aeed99-fa0f-4cf3-9a3c-c07fcd3df143\" xlink:actuate=\"onRequest\" xlink:href=\"psysml:94aeed99-fa0f-4cf3-9a3c-c07fcd3df143\" xlink:show=\"new\" xlink:title=\"psysml:94aeed99-fa0f-4cf3-9a3c-c07fcd3df143\" xlink:type=\"simple\"><rect fill=\"#FFFFFF\" height=\"45.9375\" id=\"E4\" rx=\"10\" ry=\"10\" style=\"stroke: #383838; stroke-width: 1.5;\" width=\"43\" x=\"471\" y=\"192\"/><text fill=\"#000000\" font-family=\"sans-serif\" font-size=\"12\" font-style=\"italic\" lengthAdjust=\"spacingAndGlyphs\" textLength=\"41\" x=\"472\" y=\"208.1387\">«item»</text><text fill=\"#000000\" font-family=\"sans-serif\" font-size=\"12\" lengthAdjust=\"spacingAndGlyphs\" textLength=\"24\" x=\"478.5\" y=\"222.1074\">b: B</text><line style=\"stroke: #383838; stroke-width: 1.5;\" x1=\"472\" x2=\"513\" y1=\"229.9375\" y2=\"229.9375\"/></a><!--MD5=[270fce915f116d4de14055a7c1d9a0f3]\n",
       "class E5--><a href=\"psysml:74f7fd5f-8520-4aae-9a17-942775661558\" target=\"_top\" title=\"psysml:74f7fd5f-8520-4aae-9a17-942775661558\" xlink:actuate=\"onRequest\" xlink:href=\"psysml:74f7fd5f-8520-4aae-9a17-942775661558\" xlink:show=\"new\" xlink:title=\"psysml:74f7fd5f-8520-4aae-9a17-942775661558\" xlink:type=\"simple\"><rect fill=\"#FFFFFF\" height=\"45.9375\" id=\"E5\" rx=\"10\" ry=\"10\" style=\"stroke: #383838; stroke-width: 1.5;\" width=\"42\" x=\"399\" y=\"78\"/><text fill=\"#000000\" font-family=\"sans-serif\" font-size=\"12\" font-style=\"italic\" lengthAdjust=\"spacingAndGlyphs\" textLength=\"40\" x=\"400\" y=\"94.1387\">«part»</text><text fill=\"#000000\" font-family=\"sans-serif\" font-size=\"12\" lengthAdjust=\"spacingAndGlyphs\" textLength=\"23\" x=\"406.5\" y=\"108.1074\">c: C</text><line style=\"stroke: #383838; stroke-width: 1.5;\" x1=\"400\" x2=\"440\" y1=\"115.9375\" y2=\"115.9375\"/></a><!--MD5=[60a26617385b1d2d0262a64233df1f8d]\n",
       "class E6--><a href=\"psysml:f1885442-e1dd-46d9-92aa-2427019de9de\" target=\"_top\" title=\"psysml:f1885442-e1dd-46d9-92aa-2427019de9de\" xlink:actuate=\"onRequest\" xlink:href=\"psysml:f1885442-e1dd-46d9-92aa-2427019de9de\" xlink:show=\"new\" xlink:title=\"psysml:f1885442-e1dd-46d9-92aa-2427019de9de\" xlink:type=\"simple\"><rect fill=\"#FFFFFF\" height=\"45.9375\" id=\"E6\" style=\"stroke: #383838; stroke-width: 1.5;\" width=\"71\" x=\"683\" y=\"105\"/><text fill=\"#000000\" font-family=\"sans-serif\" font-size=\"12\" font-style=\"italic\" lengthAdjust=\"spacingAndGlyphs\" textLength=\"69\" x=\"684\" y=\"121.1387\">«item  def»</text><text fill=\"#000000\" font-family=\"sans-serif\" font-size=\"12\" font-style=\"italic\" lengthAdjust=\"spacingAndGlyphs\" textLength=\"8\" x=\"714.5\" y=\"135.1074\">B</text><line style=\"stroke: #383838; stroke-width: 1.5;\" x1=\"684\" x2=\"753\" y1=\"142.9375\" y2=\"142.9375\"/></a><!--MD5=[2156ba9850f5573cc1fc38a6a4b2f02b]\n",
       "class E7--><a href=\"psysml:cc0b7000-21b2-4abb-bead-e88feeed0b85\" target=\"_top\" title=\"psysml:cc0b7000-21b2-4abb-bead-e88feeed0b85\" xlink:actuate=\"onRequest\" xlink:href=\"psysml:cc0b7000-21b2-4abb-bead-e88feeed0b85\" xlink:show=\"new\" xlink:title=\"psysml:cc0b7000-21b2-4abb-bead-e88feeed0b85\" xlink:type=\"simple\"><rect fill=\"#FFFFFF\" height=\"45.9375\" id=\"E7\" rx=\"10\" ry=\"10\" style=\"stroke: #383838; stroke-width: 1.5;\" width=\"42\" x=\"815\" y=\"73\"/><text fill=\"#000000\" font-family=\"sans-serif\" font-size=\"12\" font-style=\"italic\" lengthAdjust=\"spacingAndGlyphs\" textLength=\"40\" x=\"816\" y=\"89.1387\">«part»</text><text fill=\"#000000\" font-family=\"sans-serif\" font-size=\"12\" font-style=\"italic\" lengthAdjust=\"spacingAndGlyphs\" textLength=\"8\" x=\"822\" y=\"103.1074\">a</text><text fill=\"#000000\" font-family=\"sans-serif\" font-size=\"12\" lengthAdjust=\"spacingAndGlyphs\" textLength=\"16\" x=\"830\" y=\"103.1074\">: A</text><line style=\"stroke: #383838; stroke-width: 1.5;\" x1=\"816\" x2=\"856\" y1=\"110.9375\" y2=\"110.9375\"/></a><!--MD5=[b9389687b975829384b498ac4b7476b2]\n",
       "class E8--><a href=\"psysml:6db780a5-cf23-40f2-9df9-03150cb096d0\" target=\"_top\" title=\"psysml:6db780a5-cf23-40f2-9df9-03150cb096d0\" xlink:actuate=\"onRequest\" xlink:href=\"psysml:6db780a5-cf23-40f2-9df9-03150cb096d0\" xlink:show=\"new\" xlink:title=\"psysml:6db780a5-cf23-40f2-9df9-03150cb096d0\" xlink:type=\"simple\"><rect fill=\"#FFFFFF\" height=\"45.9375\" id=\"E8\" style=\"stroke: #383838; stroke-width: 1.5;\" width=\"70\" x=\"544\" y=\"105\"/><text fill=\"#000000\" font-family=\"sans-serif\" font-size=\"12\" font-style=\"italic\" lengthAdjust=\"spacingAndGlyphs\" textLength=\"68\" x=\"545\" y=\"121.1387\">«part  def»</text><text fill=\"#000000\" font-family=\"sans-serif\" font-size=\"12\" lengthAdjust=\"spacingAndGlyphs\" textLength=\"8\" x=\"575\" y=\"135.1074\">C</text><line style=\"stroke: #383838; stroke-width: 1.5;\" x1=\"545\" x2=\"613\" y1=\"142.9375\" y2=\"142.9375\"/></a><!--MD5=[fd4143e9d270a159db93a4ea2a975926]\n",
       "class E9--><a href=\"psysml:587854cf-6fe1-483d-a698-c7fca9a0c13c\" target=\"_top\" title=\"psysml:587854cf-6fe1-483d-a698-c7fca9a0c13c\" xlink:actuate=\"onRequest\" xlink:href=\"psysml:587854cf-6fe1-483d-a698-c7fca9a0c13c\" xlink:show=\"new\" xlink:title=\"psysml:587854cf-6fe1-483d-a698-c7fca9a0c13c\" xlink:type=\"simple\"><rect fill=\"#FFFFFF\" height=\"45.9375\" id=\"E9\" style=\"stroke: #383838; stroke-width: 1.5;\" width=\"70\" x=\"32\" y=\"163\"/><text fill=\"#000000\" font-family=\"sans-serif\" font-size=\"12\" font-style=\"italic\" lengthAdjust=\"spacingAndGlyphs\" textLength=\"68\" x=\"33\" y=\"179.1387\">«port  def»</text><text fill=\"#000000\" font-family=\"sans-serif\" font-size=\"12\" lengthAdjust=\"spacingAndGlyphs\" textLength=\"8\" x=\"63\" y=\"193.1074\">P</text><line style=\"stroke: #383838; stroke-width: 1.5;\" x1=\"33\" x2=\"101\" y1=\"200.9375\" y2=\"200.9375\"/></a><!--MD5=[96f4274e9e20536e775497830990834d]\n",
       "class E10--><a href=\"psysml:f73739ed-5364-4403-8254-d4f943238dfa\" target=\"_top\" title=\"psysml:f73739ed-5364-4403-8254-d4f943238dfa\" xlink:actuate=\"onRequest\" xlink:href=\"psysml:f73739ed-5364-4403-8254-d4f943238dfa\" xlink:show=\"new\" xlink:title=\"psysml:f73739ed-5364-4403-8254-d4f943238dfa\" xlink:type=\"simple\"><rect fill=\"#FFFFFF\" height=\"45.9375\" id=\"E10\" rx=\"10\" ry=\"10\" style=\"stroke: #383838; stroke-width: 1.5;\" width=\"43\" x=\"163\" y=\"203\"/><text fill=\"#000000\" font-family=\"sans-serif\" font-size=\"12\" font-style=\"italic\" lengthAdjust=\"spacingAndGlyphs\" textLength=\"41\" x=\"164\" y=\"219.1387\">«item»</text><text fill=\"#000000\" font-family=\"sans-serif\" font-size=\"12\" lengthAdjust=\"spacingAndGlyphs\" textLength=\"32\" x=\"166.5\" y=\"233.1074\">a1: A</text><line style=\"stroke: #383838; stroke-width: 1.5;\" x1=\"164\" x2=\"205\" y1=\"240.9375\" y2=\"240.9375\"/></a><!--MD5=[1dd1bfd58a279cf63c5f349dbc8fc6a1]\n",
       "class E11--><a href=\"psysml:6a7a2def-0eff-4194-80a2-af7f6b4a129e\" target=\"_top\" title=\"psysml:6a7a2def-0eff-4194-80a2-af7f6b4a129e\" xlink:actuate=\"onRequest\" xlink:href=\"psysml:6a7a2def-0eff-4194-80a2-af7f6b4a129e\" xlink:show=\"new\" xlink:title=\"psysml:6a7a2def-0eff-4194-80a2-af7f6b4a129e\" xlink:type=\"simple\"><rect fill=\"#FFFFFF\" height=\"45.9375\" id=\"E11\" rx=\"10\" ry=\"10\" style=\"stroke: #383838; stroke-width: 1.5;\" width=\"43\" x=\"163\" y=\"122\"/><text fill=\"#000000\" font-family=\"sans-serif\" font-size=\"12\" font-style=\"italic\" lengthAdjust=\"spacingAndGlyphs\" textLength=\"41\" x=\"164\" y=\"138.1387\">«item»</text><text fill=\"#000000\" font-family=\"sans-serif\" font-size=\"12\" lengthAdjust=\"spacingAndGlyphs\" textLength=\"32\" x=\"166.5\" y=\"152.1074\">a2: A</text><line style=\"stroke: #383838; stroke-width: 1.5;\" x1=\"164\" x2=\"205\" y1=\"159.9375\" y2=\"159.9375\"/></a><!--MD5=[2720a5a1f2c3fca2055b230370638851]\n",
       "link E2 to E3--><a href=\"psysml:8851b494-fad9-483d-8771-6e667cb982eb\" target=\"_top\" title=\"psysml:8851b494-fad9-483d-8771-6e667cb982eb\" xlink:actuate=\"onRequest\" xlink:href=\"psysml:8851b494-fad9-483d-8771-6e667cb982eb\" xlink:show=\"new\" xlink:title=\"psysml:8851b494-fad9-483d-8771-6e667cb982eb\" xlink:type=\"simple\"><path d=\"M206.24,78.48 C218.94,87.35 235.78,99.11 251.76,110.27 \" fill=\"none\" id=\"E2-&gt;E3\" style=\"stroke: #383838; stroke-width: 1.0;\"/><polygon fill=\"#FFFFFF\" points=\"268.21,121.75,248.6276,116.5992,256.6501,105.1257,268.21,121.75\" style=\"stroke: #383838; stroke-width: 1.0;\"/><ellipse cx=\"245.1024\" cy=\"111.6938\" fill=\"#383838\" rx=\"2\" ry=\"2\" style=\"stroke: #383838; stroke-width: 1.0;\"/><ellipse cx=\"250.8327\" cy=\"103.4985\" fill=\"#383838\" rx=\"2\" ry=\"2\" style=\"stroke: #383838; stroke-width: 1.0;\"/></a><!--MD5=[4672eba38e49728da53d11aeb285b987]\n",
       "reverse link E3 to E4--><a href=\"psysml:bbc4490d-4884-4bf2-8394-3cd2641c3130\" target=\"_top\" title=\"psysml:bbc4490d-4884-4bf2-8394-3cd2641c3130\" xlink:actuate=\"onRequest\" xlink:href=\"psysml:bbc4490d-4884-4bf2-8394-3cd2641c3130\" xlink:show=\"new\" xlink:title=\"psysml:bbc4490d-4884-4bf2-8394-3cd2641c3130\" xlink:type=\"simple\"><path d=\"M333.98,177.13 C351.32,193.04 374.45,210.6 399,219 C422.57,227.06 451.51,223.9 470.67,220.14 \" fill=\"none\" id=\"E3&lt;-E4\" style=\"stroke: #383838; stroke-width: 1.0;\"/><polygon fill=\"#FFFFFF\" points=\"324.47,168.03,326.0431,175.0674,333.1443,176.322,331.5711,169.2846,324.47,168.03\" style=\"stroke: #383838; stroke-width: 1.0;\"/><text fill=\"#000000\" font-family=\"sans-serif\" font-size=\"13\" lengthAdjust=\"spacingAndGlyphs\" textLength=\"8\" x=\"455.0824\" y=\"235.9486\">1</text></a><!--MD5=[191cde3d490a3f6d7bb551fe3ddca469]\n",
       "reverse link E3 to E5--><a href=\"psysml:896e58a4-3d4e-4523-9980-c4907a158d3f\" target=\"_top\" title=\"psysml:896e58a4-3d4e-4523-9980-c4907a158d3f\" xlink:actuate=\"onRequest\" xlink:href=\"psysml:896e58a4-3d4e-4523-9980-c4907a158d3f\" xlink:show=\"new\" xlink:title=\"psysml:896e58a4-3d4e-4523-9980-c4907a158d3f\" xlink:type=\"simple\"><path d=\"M350.66,127.03 C367.46,120.64 385.49,113.77 398.81,108.69 \" fill=\"none\" id=\"E3&lt;-E5\" style=\"stroke: #383838; stroke-width: 1.0;\"/><polygon fill=\"#FFFFFF\" points=\"338.15,131.8,345.1812,133.4006,349.363,127.5259,342.3318,125.9253,338.15,131.8\" style=\"stroke: #383838; stroke-width: 1.0;\"/><text fill=\"#000000\" font-family=\"sans-serif\" font-size=\"13\" lengthAdjust=\"spacingAndGlyphs\" textLength=\"8\" x=\"383.0956\" y=\"125.4387\">1</text></a><!--MD5=[79568f1e445c3877b6a54524624ccc7d]\n",
       "link E4 to E6--><a href=\"psysml:ae089d5e-98d2-4386-a1f6-d9056ad7f1db\" target=\"_top\" title=\"psysml:ae089d5e-98d2-4386-a1f6-d9056ad7f1db\" xlink:actuate=\"onRequest\" xlink:href=\"psysml:ae089d5e-98d2-4386-a1f6-d9056ad7f1db\" xlink:show=\"new\" xlink:title=\"psysml:ae089d5e-98d2-4386-a1f6-d9056ad7f1db\" xlink:type=\"simple\"><path d=\"M514.17,206.97 C547.89,193.88 615.78,167.51 663.82,148.85 \" fill=\"none\" id=\"E4-&gt;E6\" style=\"stroke: #383838; stroke-width: 1.0;\"/><polygon fill=\"#FFFFFF\" points=\"682.72,141.51,667.5446,154.9155,662.4747,141.8657,682.72,141.51\" style=\"stroke: #383838; stroke-width: 1.0;\"/><ellipse cx=\"661.5072\" cy=\"155.1154\" fill=\"#383838\" rx=\"2\" ry=\"2\" style=\"stroke: #383838; stroke-width: 1.0;\"/><ellipse cx=\"657.8858\" cy=\"145.7941\" fill=\"#383838\" rx=\"2\" ry=\"2\" style=\"stroke: #383838; stroke-width: 1.0;\"/></a><!--MD5=[3f50a3473f1dfb74d3f76443e03635af]\n",
       "reverse link E6 to E7--><a href=\"psysml:f93e67a1-8e91-4b72-abc4-aff48dcc0ebf\" target=\"_top\" title=\"psysml:f93e67a1-8e91-4b72-abc4-aff48dcc0ebf\" xlink:actuate=\"onRequest\" xlink:href=\"psysml:f93e67a1-8e91-4b72-abc4-aff48dcc0ebf\" xlink:show=\"new\" xlink:title=\"psysml:f93e67a1-8e91-4b72-abc4-aff48dcc0ebf\" xlink:type=\"simple\"><path d=\"M767.15,114.8 C783.81,110.18 801.62,105.25 814.81,101.59 \" fill=\"none\" id=\"E6&lt;-E7\" style=\"stroke: #383838; stroke-width: 1.0;\"/><polygon fill=\"#FFFFFF\" points=\"754.15,118.4,761.0002,120.6526,765.7143,115.1958,758.8641,112.9431,754.15,118.4\" style=\"stroke: #383838; stroke-width: 1.0;\"/><text fill=\"#000000\" font-family=\"sans-serif\" font-size=\"13\" lengthAdjust=\"spacingAndGlyphs\" textLength=\"8\" x=\"799.0956\" y=\"117.6956\">1</text></a><!--MD5=[14ccda38c055a5c0da953d572bc50960]\n",
       "link E7 to E3--><a href=\"psysml:729e96ed-f9a8-4349-a416-61bf2a977bd8\" target=\"_top\" title=\"psysml:729e96ed-f9a8-4349-a416-61bf2a977bd8\" xlink:actuate=\"onRequest\" xlink:href=\"psysml:729e96ed-f9a8-4349-a416-61bf2a977bd8\" xlink:show=\"new\" xlink:title=\"psysml:729e96ed-f9a8-4349-a416-61bf2a977bd8\" xlink:type=\"simple\"><path d=\"M814.63,79.8 C792.54,63.89 755.58,42 719.5,42 C419,42 419,42 419,42 C379.51,42 347.29,75.96 327.01,104.88 \" fill=\"none\" id=\"E7-&gt;E3\" style=\"stroke: #383838; stroke-width: 1.0;\"/><polygon fill=\"#FFFFFF\" points=\"315.97,121.88,320.4427,102.1317,332.1859,109.7538,315.97,121.88\" style=\"stroke: #383838; stroke-width: 1.0;\"/><ellipse cx=\"325.2235\" cy=\"98.4394\" fill=\"#383838\" rx=\"2\" ry=\"2\" style=\"stroke: #383838; stroke-width: 1.0;\"/><ellipse cx=\"333.6116\" cy=\"103.8838\" fill=\"#383838\" rx=\"2\" ry=\"2\" style=\"stroke: #383838; stroke-width: 1.0;\"/></a><!--MD5=[dfaffb906826c3e5aca635516100ff21]\n",
       "link E5 to E8--><a href=\"psysml:8b27b07a-ba61-4df4-814a-c4b9eba72255\" target=\"_top\" title=\"psysml:8b27b07a-ba61-4df4-814a-c4b9eba72255\" xlink:actuate=\"onRequest\" xlink:href=\"psysml:8b27b07a-ba61-4df4-814a-c4b9eba72255\" xlink:show=\"new\" xlink:title=\"psysml:8b27b07a-ba61-4df4-814a-c4b9eba72255\" xlink:type=\"simple\"><path d=\"M441.2,104.47 C462.06,108.06 495.5,113.81 524.1,118.73 \" fill=\"none\" id=\"E5-&gt;E8\" style=\"stroke: #383838; stroke-width: 1.0;\"/><polygon fill=\"#FFFFFF\" points=\"543.82,122.12,523.9093,125.803,526.279,112.005,543.82,122.12\" style=\"stroke: #383838; stroke-width: 1.0;\"/><ellipse cx=\"518.6301\" cy=\"122.8671\" fill=\"#383838\" rx=\"2\" ry=\"2\" style=\"stroke: #383838; stroke-width: 1.0;\"/><ellipse cx=\"520.3227\" cy=\"113.0114\" fill=\"#383838\" rx=\"2\" ry=\"2\" style=\"stroke: #383838; stroke-width: 1.0;\"/></a><!--MD5=[03c8294790d3c57651a1993cecff665f]\n",
       "reverse link E8 to E3--><a href=\"psysml:2fa26767-edf9-4f1d-8702-6d0b4fb1afcf\" target=\"_top\" title=\"psysml:2fa26767-edf9-4f1d-8702-6d0b4fb1afcf\" xlink:actuate=\"onRequest\" xlink:href=\"psysml:2fa26767-edf9-4f1d-8702-6d0b4fb1afcf\" xlink:show=\"new\" xlink:title=\"psysml:2fa26767-edf9-4f1d-8702-6d0b4fb1afcf\" xlink:type=\"simple\"><path d=\"M531.34,140.84 C505.03,147.41 471.44,154.71 441,158 C422.44,160.01 417.62,159.26 399,158 C378.8,156.63 356.36,153.65 338.31,150.89 \" fill=\"none\" id=\"E8&lt;-E3\" style=\"stroke: #383838; stroke-width: 1.0;\"/><polygon fill=\"#FFFFFF\" points=\"543.99,137.59,537.1849,135.2045,532.3655,140.5686,539.1706,142.9541,543.99,137.59\" style=\"stroke: #383838; stroke-width: 1.0;\"/><text fill=\"#000000\" font-family=\"sans-serif\" font-size=\"13\" lengthAdjust=\"spacingAndGlyphs\" textLength=\"7\" x=\"416.5\" y=\"154.0669\">y</text></a><!--MD5=[0d75d2178373a6a4568e5dc728f58aef]\n",
       "reverse link E8 to E6--><a href=\"psysml:2fa26767-edf9-4f1d-8702-6d0b4fb1afcf\" target=\"_top\" title=\"psysml:2fa26767-edf9-4f1d-8702-6d0b4fb1afcf\" xlink:actuate=\"onRequest\" xlink:href=\"psysml:2fa26767-edf9-4f1d-8702-6d0b4fb1afcf\" xlink:show=\"new\" xlink:title=\"psysml:2fa26767-edf9-4f1d-8702-6d0b4fb1afcf\" xlink:type=\"simple\"><path d=\"M627.39,128 C645.53,128 665.88,128 682.64,128 \" fill=\"none\" id=\"E8&lt;-E6\" style=\"stroke: #383838; stroke-width: 1.0;\"/><polygon fill=\"#FFFFFF\" points=\"614.34,128,620.34,132,626.34,128,620.34,124,614.34,128\" style=\"stroke: #383838; stroke-width: 1.0;\"/><text fill=\"#000000\" font-family=\"sans-serif\" font-size=\"13\" lengthAdjust=\"spacingAndGlyphs\" textLength=\"7\" x=\"645\" y=\"124.0669\">y</text></a><!--MD5=[23ac544a70576c3e717098101004234c]\n",
       "reverse link E9 to E10--><a href=\"psysml:2a8d2925-3f72-4e1c-849d-9e3943fa1d15\" target=\"_top\" title=\"psysml:2a8d2925-3f72-4e1c-849d-9e3943fa1d15\" xlink:actuate=\"onRequest\" xlink:href=\"psysml:2a8d2925-3f72-4e1c-849d-9e3943fa1d15\" xlink:show=\"new\" xlink:title=\"psysml:2a8d2925-3f72-4e1c-849d-9e3943fa1d15\" xlink:type=\"simple\"><path d=\"M114.48,202.1 C131.24,207.9 149.31,214.16 162.75,218.81 \" fill=\"none\" id=\"E9&lt;-E10\" style=\"stroke: #383838; stroke-width: 1.0;\"/><polygon fill=\"#FFFFFF\" points=\"102.03,197.78,106.3896,203.524,113.3686,201.7089,109.0089,195.9649,102.03,197.78\" style=\"stroke: #383838; stroke-width: 1.0;\"/><text fill=\"#000000\" font-family=\"sans-serif\" font-size=\"13\" lengthAdjust=\"spacingAndGlyphs\" textLength=\"8\" x=\"146.8641\" y=\"231.0017\">1</text></a><!--MD5=[feeac5eb423634930294aa81f2d25a4c]\n",
       "link E10 to E3--><a href=\"psysml:be0eb1db-3a2d-4525-bfbd-aed22db095bf\" target=\"_top\" title=\"psysml:be0eb1db-3a2d-4525-bfbd-aed22db095bf\" xlink:actuate=\"onRequest\" xlink:href=\"psysml:be0eb1db-3a2d-4525-bfbd-aed22db095bf\" xlink:show=\"new\" xlink:title=\"psysml:be0eb1db-3a2d-4525-bfbd-aed22db095bf\" xlink:type=\"simple\"><path d=\"M206.24,211.52 C218.94,202.65 235.78,190.89 251.76,179.73 \" fill=\"none\" id=\"E10-&gt;E3\" style=\"stroke: #383838; stroke-width: 1.0;\"/><polygon fill=\"#FFFFFF\" points=\"268.21,168.25,256.6501,184.8743,248.6276,173.4008,268.21,168.25\" style=\"stroke: #383838; stroke-width: 1.0;\"/><ellipse cx=\"250.8327\" cy=\"186.5015\" fill=\"#383838\" rx=\"2\" ry=\"2\" style=\"stroke: #383838; stroke-width: 1.0;\"/><ellipse cx=\"245.1024\" cy=\"178.3062\" fill=\"#383838\" rx=\"2\" ry=\"2\" style=\"stroke: #383838; stroke-width: 1.0;\"/></a><!--MD5=[1fc04a95fd77ad5ce46c1a3027516051]\n",
       "reverse link E9 to E11--><a href=\"psysml:4a4899a0-cca2-49ff-ba55-d15caf476c4f\" target=\"_top\" title=\"psysml:4a4899a0-cca2-49ff-ba55-d15caf476c4f\" xlink:actuate=\"onRequest\" xlink:href=\"psysml:4a4899a0-cca2-49ff-ba55-d15caf476c4f\" xlink:show=\"new\" xlink:title=\"psysml:4a4899a0-cca2-49ff-ba55-d15caf476c4f\" xlink:type=\"simple\"><path d=\"M114.48,169.5 C131.24,163.55 149.31,157.14 162.75,152.37 \" fill=\"none\" id=\"E9&lt;-E11\" style=\"stroke: #383838; stroke-width: 1.0;\"/><polygon fill=\"#FFFFFF\" points=\"102.03,173.92,109.0214,175.6865,113.341,169.9124,106.3496,168.1458,102.03,173.92\" style=\"stroke: #383838; stroke-width: 1.0;\"/><text fill=\"#000000\" font-family=\"sans-serif\" font-size=\"13\" lengthAdjust=\"spacingAndGlyphs\" textLength=\"8\" x=\"146.8641\" y=\"169.0207\">1</text></a><!--MD5=[0517f1ce58c4d5483948f93845c45e26]\n",
       "link E11 to E3--><a href=\"psysml:8ddae6f0-112f-4ded-9c4d-74dd6bca1f55\" target=\"_top\" title=\"psysml:8ddae6f0-112f-4ded-9c4d-74dd6bca1f55\" xlink:actuate=\"onRequest\" xlink:href=\"psysml:8ddae6f0-112f-4ded-9c4d-74dd6bca1f55\" xlink:show=\"new\" xlink:title=\"psysml:8ddae6f0-112f-4ded-9c4d-74dd6bca1f55\" xlink:type=\"simple\"><path d=\"M206.24,145 C217.53,145 232.1,145 246.43,145 \" fill=\"none\" id=\"E11-&gt;E3\" style=\"stroke: #383838; stroke-width: 1.0;\"/><polygon fill=\"#FFFFFF\" points=\"266.84,145,247.84,152,247.84,138,266.84,145\" style=\"stroke: #383838; stroke-width: 1.0;\"/><ellipse cx=\"242.14\" cy=\"150\" fill=\"#383838\" rx=\"2\" ry=\"2\" style=\"stroke: #383838; stroke-width: 1.0;\"/><ellipse cx=\"242.14\" cy=\"140\" fill=\"#383838\" rx=\"2\" ry=\"2\" style=\"stroke: #383838; stroke-width: 1.0;\"/></a><!--MD5=[c1abe45082ce587347c5e725cd9b252d]\n",
       "@startuml\r\n",
       "left to right direction\r\n",
       "skinparam monochrome true\r\n",
       "skinparam classbackgroundcolor white\r\n",
       "skinparam shadowing false\r\n",
       "skinparam wrapWidth 300\r\n",
       "hide circle\r\n",
       "\r\n",
       "package \"ItemTest\" as E1  [[psysml:ae8f2d08-e2f6-41ef-ae81-a483692b435b ]]  {\r\n",
       "comp usage \"f: A \" as E2  <<(T,blue) item>> [[psysml:cbd0bd62-e912-4912-a2fb-da1e68d4f615 ]] {\r\n",
       "}\r\n",
       "comp def \"A\" as E3  <<(T,blue) item  def>> [[psysml:2b189b42-edf1-49d6-a72b-40b548d68a1d ]] {\r\n",
       "}\r\n",
       "comp usage \"b: B \" as E4  <<(T,blue) item>> [[psysml:94aeed99-fa0f-4cf3-9a3c-c07fcd3df143 ]] {\r\n",
       "}\r\n",
       "comp usage \"c: C \" as E5  <<(T,blue) part>> [[psysml:74f7fd5f-8520-4aae-9a17-942775661558 ]] {\r\n",
       "}\r\n",
       "comp def \"<i>B</i>\" as E6  <<(T,blue) item  def>> [[psysml:f1885442-e1dd-46d9-92aa-2427019de9de ]] {\r\n",
       "}\r\n",
       "comp usage \"<i>a</i>: A \" as E7  <<(T,blue) part>> [[psysml:cc0b7000-21b2-4abb-bead-e88feeed0b85 ]] {\r\n",
       "}\r\n",
       "comp def \"C\" as E8  <<(T,blue) part  def>> [[psysml:6db780a5-cf23-40f2-9df9-03150cb096d0 ]] {\r\n",
       "}\r\n",
       "comp def \"P\" as E9  <<(T,blue) port  def>> [[psysml:587854cf-6fe1-483d-a698-c7fca9a0c13c ]] {\r\n",
       "}\r\n",
       "comp usage \"a1: A \" as E10  <<(T,blue) item>> [[psysml:f73739ed-5364-4403-8254-d4f943238dfa ]] {\r\n",
       "}\r\n",
       "comp usage \"a2: A \" as E11  <<(T,blue) item>> [[psysml:6a7a2def-0eff-4194-80a2-af7f6b4a129e ]] {\r\n",
       "}\r\n",
       "}\r\n",
       "E2 - -:|> E3 [[psysml:8851b494-fad9-483d-8771-6e667cb982eb ]] \r\n",
       "E3 o- - \"1\"E4 [[psysml:bbc4490d-4884-4bf2-8394-3cd2641c3130 ]] \r\n",
       "E3 o- - \"1\"E5 [[psysml:896e58a4-3d4e-4523-9980-c4907a158d3f ]] \r\n",
       "E4 - -:|> E6 [[psysml:ae089d5e-98d2-4386-a1f6-d9056ad7f1db ]] \r\n",
       "E6 o- - \"1\"E7 [[psysml:f93e67a1-8e91-4b72-abc4-aff48dcc0ebf ]] \r\n",
       "E7 - -:|> E3 [[psysml:729e96ed-f9a8-4349-a416-61bf2a977bd8 ]] \r\n",
       "E5 - -:|> E8 [[psysml:8b27b07a-ba61-4df4-814a-c4b9eba72255 ]] \r\n",
       "E8 o- - E3 [[psysml:2fa26767-edf9-4f1d-8702-6d0b4fb1afcf ]] : y\r\n",
       "E8 o- - E6 [[psysml:2fa26767-edf9-4f1d-8702-6d0b4fb1afcf ]] : y\r\n",
       "E9 o- - \"1\"E10 [[psysml:2a8d2925-3f72-4e1c-849d-9e3943fa1d15 ]] \r\n",
       "E10 - -:|> E3 [[psysml:be0eb1db-3a2d-4525-bfbd-aed22db095bf ]] \r\n",
       "E9 o- - \"1\"E11 [[psysml:4a4899a0-cca2-49ff-ba55-d15caf476c4f ]] \r\n",
       "E11 - -:|> E3 [[psysml:8ddae6f0-112f-4ded-9c4d-74dd6bca1f55 ]] \r\n",
       "@enduml\r\n",
       "\n",
       "PlantUML version 1.2020.13(Sat Jun 13 12:26:38 UTC 2020)\n",
       "(EPL source distribution)\n",
       "Java Runtime: OpenJDK Runtime Environment\n",
       "JVM: OpenJDK 64-Bit Server VM\n",
       "Default Encoding: UTF-8\n",
       "Language: en\n",
       "Country: null\n",
       "--></g></svg>"
      ]
     },
     "execution_count": 17,
     "metadata": {},
     "output_type": "execute_result"
    }
   ],
   "source": [
    "%viz --style=\"LR\" --view=\"Tree\" \"ItemTest\""
   ]
  },
  {
   "cell_type": "code",
   "execution_count": 18,
   "id": "42d6f74e",
   "metadata": {
    "execution": {
     "iopub.execute_input": "2022-08-19T08:17:28.774372Z",
     "iopub.status.busy": "2022-08-19T08:17:28.773758Z",
     "iopub.status.idle": "2022-08-19T08:17:28.779671Z",
     "shell.execute_reply": "2022-08-19T08:17:28.780026Z"
    }
   },
   "outputs": [
    {
     "data": {
      "image/svg+xml": [
       "<?xml version=\"1.0\" encoding=\"UTF-8\" standalone=\"no\"?><svg xmlns=\"http://www.w3.org/2000/svg\" xmlns:xlink=\"http://www.w3.org/1999/xlink\" contentScriptType=\"application/ecmascript\" contentStyleType=\"text/css\" height=\"12px\" preserveAspectRatio=\"none\" style=\"width:12px;height:12px;\" version=\"1.1\" viewBox=\"0 0 12 12\" width=\"12px\" zoomAndPan=\"magnify\"><defs/><g><!--MD5=[19d285c9d72a204eba4e2cd117d745e8]\n",
       "@startuml\r\n",
       "left to right direction\r\n",
       "skinparam monochrome true\r\n",
       "skinparam classbackgroundcolor white\r\n",
       "skinparam shadowing false\r\n",
       "skinparam wrapWidth 300\r\n",
       "hide circle\r\n",
       "\r\n",
       "@enduml\r\n",
       "\n",
       "PlantUML version 1.2020.13(Sat Jun 13 12:26:38 UTC 2020)\n",
       "(EPL source distribution)\n",
       "Java Runtime: OpenJDK Runtime Environment\n",
       "JVM: OpenJDK 64-Bit Server VM\n",
       "Default Encoding: UTF-8\n",
       "Language: en\n",
       "Country: null\n",
       "--></g></svg>"
      ]
     },
     "execution_count": 18,
     "metadata": {},
     "output_type": "execute_result"
    }
   ],
   "source": [
    "%viz --style=\"LR\" --view=\"State\" \"ItemTest\""
   ]
  },
  {
   "cell_type": "code",
   "execution_count": 19,
   "id": "a843d425",
   "metadata": {
    "execution": {
     "iopub.execute_input": "2022-08-19T08:17:28.829765Z",
     "iopub.status.busy": "2022-08-19T08:17:28.829306Z",
     "iopub.status.idle": "2022-08-19T08:17:28.864781Z",
     "shell.execute_reply": "2022-08-19T08:17:28.863339Z"
    }
   },
   "outputs": [
    {
     "data": {
      "image/svg+xml": [
       "<?xml version=\"1.0\" encoding=\"UTF-8\" standalone=\"no\"?><svg xmlns=\"http://www.w3.org/2000/svg\" xmlns:xlink=\"http://www.w3.org/1999/xlink\" contentScriptType=\"application/ecmascript\" contentStyleType=\"text/css\" height=\"406px\" preserveAspectRatio=\"none\" style=\"width:284px;height:406px;\" version=\"1.1\" viewBox=\"0 0 284 406\" width=\"284px\" zoomAndPan=\"magnify\"><defs/><g><!--MD5=[fbc87193dbaf4d95561dea2c320d4a47]\n",
       "cluster E1--><a href=\"psysml:ae8f2d08-e2f6-41ef-ae81-a483692b435b\" target=\"_top\" title=\"psysml:ae8f2d08-e2f6-41ef-ae81-a483692b435b\" xlink:actuate=\"onRequest\" xlink:href=\"psysml:ae8f2d08-e2f6-41ef-ae81-a483692b435b\" xlink:show=\"new\" xlink:title=\"psysml:ae8f2d08-e2f6-41ef-ae81-a483692b435b\" xlink:type=\"simple\"><polygon fill=\"#FFFFFF\" points=\"16,6,83,6,90,28.2969,262,28.2969,262,394,16,394,16,6\" style=\"stroke: #000000; stroke-width: 1.5;\"/><line style=\"stroke: #000000; stroke-width: 1.5;\" x1=\"16\" x2=\"90\" y1=\"28.2969\" y2=\"28.2969\"/><text fill=\"#000000\" font-family=\"sans-serif\" font-size=\"14\" font-weight=\"bold\" lengthAdjust=\"spacingAndGlyphs\" textLength=\"61\" x=\"20\" y=\"20.9951\">ItemTest</text></a><!--MD5=[de5ec2e2e8f62f467e546659f5068c88]\n",
       "cluster E5--><a href=\"psysml:6db780a5-cf23-40f2-9df9-03150cb096d0\" target=\"_top\" title=\"psysml:6db780a5-cf23-40f2-9df9-03150cb096d0\" xlink:actuate=\"onRequest\" xlink:href=\"psysml:6db780a5-cf23-40f2-9df9-03150cb096d0\" xlink:show=\"new\" xlink:title=\"psysml:6db780a5-cf23-40f2-9df9-03150cb096d0\" xlink:type=\"simple\"><rect fill=\"#FFFFFF\" height=\"111\" id=\"E5\" style=\"stroke: #383838; stroke-width: 1.5;\" width=\"114\" x=\"40\" y=\"49\"/><rect fill=\"#F8F8F8\" height=\"37.9375\" style=\"stroke: #383838; stroke-width: 1.5;\" width=\"114\" x=\"40\" y=\"49\"/><text fill=\"#000000\" font-family=\"sans-serif\" font-size=\"12\" font-style=\"italic\" lengthAdjust=\"spacingAndGlyphs\" textLength=\"68\" x=\"63\" y=\"65.1387\">«part  def»</text><text fill=\"#000000\" font-family=\"sans-serif\" font-size=\"12\" lengthAdjust=\"spacingAndGlyphs\" textLength=\"8\" x=\"93\" y=\"79.1074\">C</text></a><g id=\"E1.E3\"><a href=\"psysml:2b189b42-edf1-49d6-a72b-40b548d68a1d\" target=\"_top\" title=\"psysml:2b189b42-edf1-49d6-a72b-40b548d68a1d\" xlink:actuate=\"onRequest\" xlink:href=\"psysml:2b189b42-edf1-49d6-a72b-40b548d68a1d\" xlink:show=\"new\" xlink:title=\"psysml:2b189b42-edf1-49d6-a72b-40b548d68a1d\" xlink:type=\"simple\"><rect fill=\"#FFFFFF\" height=\"42.9375\" id=\"E3\" style=\"stroke: #383838; stroke-width: 1.5;\" width=\"76\" x=\"170\" y=\"334.5\"/><rect fill=\"#F8F8F8\" height=\"37.9375\" style=\"stroke: #383838; stroke-width: 1.5;\" width=\"76\" x=\"170\" y=\"334.5\"/><text fill=\"#000000\" font-family=\"sans-serif\" font-size=\"12\" font-style=\"italic\" lengthAdjust=\"spacingAndGlyphs\" textLength=\"69\" x=\"173.5\" y=\"350.6387\">«item  def»</text><text fill=\"#000000\" font-family=\"sans-serif\" font-size=\"12\" lengthAdjust=\"spacingAndGlyphs\" textLength=\"8\" x=\"204\" y=\"364.6074\">A</text></a></g><g id=\"E1.E4\"><a href=\"psysml:f1885442-e1dd-46d9-92aa-2427019de9de\" target=\"_top\" title=\"psysml:f1885442-e1dd-46d9-92aa-2427019de9de\" xlink:actuate=\"onRequest\" xlink:href=\"psysml:f1885442-e1dd-46d9-92aa-2427019de9de\" xlink:show=\"new\" xlink:title=\"psysml:f1885442-e1dd-46d9-92aa-2427019de9de\" xlink:type=\"simple\"><rect fill=\"#FFFFFF\" height=\"42.9375\" id=\"E4\" style=\"stroke: #383838; stroke-width: 1.5;\" width=\"76\" x=\"59\" y=\"178.5\"/><rect fill=\"#F8F8F8\" height=\"37.9375\" style=\"stroke: #383838; stroke-width: 1.5;\" width=\"76\" x=\"59\" y=\"178.5\"/><text fill=\"#000000\" font-family=\"sans-serif\" font-size=\"12\" font-style=\"italic\" lengthAdjust=\"spacingAndGlyphs\" textLength=\"69\" x=\"62.5\" y=\"194.6387\">«item  def»</text><text fill=\"#000000\" font-family=\"sans-serif\" font-size=\"12\" font-style=\"italic\" lengthAdjust=\"spacingAndGlyphs\" textLength=\"8\" x=\"93\" y=\"208.6074\">B</text></a></g><g id=\"E1.E7\"><a href=\"psysml:587854cf-6fe1-483d-a698-c7fca9a0c13c\" target=\"_top\" title=\"psysml:587854cf-6fe1-483d-a698-c7fca9a0c13c\" xlink:actuate=\"onRequest\" xlink:href=\"psysml:587854cf-6fe1-483d-a698-c7fca9a0c13c\" xlink:show=\"new\" xlink:title=\"psysml:587854cf-6fe1-483d-a698-c7fca9a0c13c\" xlink:type=\"simple\"><rect fill=\"#FFFFFF\" height=\"42.9375\" id=\"E7\" style=\"stroke: #383838; stroke-width: 1.5;\" width=\"75\" x=\"59.5\" y=\"256.5\"/><rect fill=\"#F8F8F8\" height=\"37.9375\" style=\"stroke: #383838; stroke-width: 1.5;\" width=\"75\" x=\"59.5\" y=\"256.5\"/><text fill=\"#000000\" font-family=\"sans-serif\" font-size=\"12\" font-style=\"italic\" lengthAdjust=\"spacingAndGlyphs\" textLength=\"68\" x=\"63\" y=\"272.6387\">«port  def»</text><text fill=\"#000000\" font-family=\"sans-serif\" font-size=\"12\" lengthAdjust=\"spacingAndGlyphs\" textLength=\"8\" x=\"93\" y=\"286.6074\">P</text></a></g><g id=\"E1.E2\"><a href=\"psysml:cbd0bd62-e912-4912-a2fb-da1e68d4f615\" target=\"_top\" title=\"psysml:cbd0bd62-e912-4912-a2fb-da1e68d4f615\" xlink:actuate=\"onRequest\" xlink:href=\"psysml:cbd0bd62-e912-4912-a2fb-da1e68d4f615\" xlink:show=\"new\" xlink:title=\"psysml:cbd0bd62-e912-4912-a2fb-da1e68d4f615\" xlink:type=\"simple\"><rect fill=\"#FFFFFF\" height=\"42.9375\" id=\"E2\" rx=\"10\" ry=\"10\" style=\"stroke: #383838; stroke-width: 1.5;\" width=\"50\" x=\"72\" y=\"334.5\"/><rect fill=\"#F8F8F8\" height=\"37.9375\" rx=\"10\" ry=\"10\" style=\"stroke: #F8F8F8; stroke-width: 1.5;\" width=\"50\" x=\"72\" y=\"334.5\"/><rect fill=\"#F8F8F8\" height=\"10\" style=\"stroke: #F8F8F8; stroke-width: 1.5;\" width=\"50\" x=\"72\" y=\"362.4375\"/><rect fill=\"none\" height=\"42.9375\" id=\"E2\" rx=\"10\" ry=\"10\" style=\"stroke: #383838; stroke-width: 1.5;\" width=\"50\" x=\"72\" y=\"334.5\"/><text fill=\"#000000\" font-family=\"sans-serif\" font-size=\"12\" font-style=\"italic\" lengthAdjust=\"spacingAndGlyphs\" textLength=\"41\" x=\"76.5\" y=\"350.6387\">«item»</text><text fill=\"#000000\" font-family=\"sans-serif\" font-size=\"12\" lengthAdjust=\"spacingAndGlyphs\" textLength=\"20\" x=\"87\" y=\"364.6074\">f: A</text></a></g><g id=\"E1.E5.E6\"><a href=\"psysml:2fa26767-edf9-4f1d-8702-6d0b4fb1afcf\" target=\"_top\" title=\"psysml:2fa26767-edf9-4f1d-8702-6d0b4fb1afcf\" xlink:actuate=\"onRequest\" xlink:href=\"psysml:2fa26767-edf9-4f1d-8702-6d0b4fb1afcf\" xlink:show=\"new\" xlink:title=\"psysml:2fa26767-edf9-4f1d-8702-6d0b4fb1afcf\" xlink:type=\"simple\"><rect fill=\"#FFFFFF\" height=\"42.9375\" id=\"E6\" rx=\"10\" ry=\"10\" style=\"stroke: #383838; stroke-width: 1.5;\" width=\"82\" x=\"56\" y=\"100.5\"/><rect fill=\"#F8F8F8\" height=\"37.9375\" rx=\"10\" ry=\"10\" style=\"stroke: #F8F8F8; stroke-width: 1.5;\" width=\"82\" x=\"56\" y=\"100.5\"/><rect fill=\"#F8F8F8\" height=\"10\" style=\"stroke: #F8F8F8; stroke-width: 1.5;\" width=\"82\" x=\"56\" y=\"128.4375\"/><rect fill=\"none\" height=\"42.9375\" id=\"E6\" rx=\"10\" ry=\"10\" style=\"stroke: #383838; stroke-width: 1.5;\" width=\"82\" x=\"56\" y=\"100.5\"/><text fill=\"#000000\" font-family=\"sans-serif\" font-size=\"12\" font-style=\"italic\" lengthAdjust=\"spacingAndGlyphs\" textLength=\"75\" x=\"59.5\" y=\"116.6387\">«reference»</text><text fill=\"#000000\" font-family=\"sans-serif\" font-size=\"12\" lengthAdjust=\"spacingAndGlyphs\" textLength=\"38\" x=\"76\" y=\"130.6074\">y: A, B</text></a></g><!--MD5=[2720a5a1f2c3fca2055b230370638851]\n",
       "link E2 to E3--><a href=\"psysml:8851b494-fad9-483d-8771-6e667cb982eb\" target=\"_top\" title=\"psysml:8851b494-fad9-483d-8771-6e667cb982eb\" xlink:actuate=\"onRequest\" xlink:href=\"psysml:8851b494-fad9-483d-8771-6e667cb982eb\" xlink:show=\"new\" xlink:title=\"psysml:8851b494-fad9-483d-8771-6e667cb982eb\" xlink:type=\"simple\"><path d=\"M122.19,356 C130.35,356 139.84,356 149.45,356 \" fill=\"none\" id=\"E2-&gt;E3\" style=\"stroke: #383838; stroke-width: 1.0;\"/><polygon fill=\"#FFFFFF\" points=\"169.6,356,150.6,363,150.6,349,169.6,356\" style=\"stroke: #383838; stroke-width: 1.0;\"/><ellipse cx=\"144.9\" cy=\"361\" fill=\"#383838\" rx=\"2\" ry=\"2\" style=\"stroke: #383838; stroke-width: 1.0;\"/><ellipse cx=\"144.9\" cy=\"351\" fill=\"#383838\" rx=\"2\" ry=\"2\" style=\"stroke: #383838; stroke-width: 1.0;\"/></a><!--MD5=[4be108a5ac4a241feea38b9248411ffe]\n",
       "@startuml\r\n",
       "skinparam ranksep 10\r\n",
       "skinparam rectangle {\r\n",
       " backgroundColor<<block>> LightGreen\r\n",
       "}\r\n",
       "left to right direction\r\n",
       "skinparam monochrome true\r\n",
       "skinparam classbackgroundcolor white\r\n",
       "skinparam shadowing false\r\n",
       "skinparam wrapWidth 300\r\n",
       "hide circle\r\n",
       "\r\n",
       "package \"ItemTest\" as E1  [[psysml:ae8f2d08-e2f6-41ef-ae81-a483692b435b ]]  {\r\n",
       "rec usage \"f: A\" as E2  <<(T,blue) item>> [[psysml:cbd0bd62-e912-4912-a2fb-da1e68d4f615 ]] {\r\n",
       "}\r\n",
       "def \"A\" as E3  <<(T,blue) item  def>> [[psysml:2b189b42-edf1-49d6-a72b-40b548d68a1d ]] \r\n",
       "def \"<i>B</i>\" as E4  <<(T,blue) item  def>> [[psysml:f1885442-e1dd-46d9-92aa-2427019de9de ]] \r\n",
       "rec def \"C\" as E5  <<(T,blue) part  def>> [[psysml:6db780a5-cf23-40f2-9df9-03150cb096d0 ]] {\r\n",
       "rec usage \"y: A, B \" as E6  <<(T,blue) reference>> [[psysml:2fa26767-edf9-4f1d-8702-6d0b4fb1afcf ]] {\r\n",
       "}\r\n",
       "\r\n",
       "}\r\n",
       "def \"P\" as E7  <<(T,blue) port  def>> [[psysml:587854cf-6fe1-483d-a698-c7fca9a0c13c ]] \r\n",
       "}\r\n",
       "E2 - -:|> E3 [[psysml:8851b494-fad9-483d-8771-6e667cb982eb ]] \r\n",
       "@enduml\r\n",
       "\n",
       "PlantUML version 1.2020.13(Sat Jun 13 12:26:38 UTC 2020)\n",
       "(EPL source distribution)\n",
       "Java Runtime: OpenJDK Runtime Environment\n",
       "JVM: OpenJDK 64-Bit Server VM\n",
       "Default Encoding: UTF-8\n",
       "Language: en\n",
       "Country: null\n",
       "--></g></svg>"
      ]
     },
     "execution_count": 19,
     "metadata": {},
     "output_type": "execute_result"
    }
   ],
   "source": [
    "%viz --style=\"LR\" --view=\"Interconnection\" \"ItemTest\""
   ]
  },
  {
   "cell_type": "code",
   "execution_count": 20,
   "id": "7d99cbb2",
   "metadata": {
    "execution": {
     "iopub.execute_input": "2022-08-19T08:17:28.914340Z",
     "iopub.status.busy": "2022-08-19T08:17:28.913888Z",
     "iopub.status.idle": "2022-08-19T08:17:28.919378Z",
     "shell.execute_reply": "2022-08-19T08:17:28.919706Z"
    }
   },
   "outputs": [
    {
     "data": {
      "image/svg+xml": [
       "<?xml version=\"1.0\" encoding=\"UTF-8\" standalone=\"no\"?><svg xmlns=\"http://www.w3.org/2000/svg\" xmlns:xlink=\"http://www.w3.org/1999/xlink\" contentScriptType=\"application/ecmascript\" contentStyleType=\"text/css\" height=\"12px\" preserveAspectRatio=\"none\" style=\"width:12px;height:12px;\" version=\"1.1\" viewBox=\"0 0 12 12\" width=\"12px\" zoomAndPan=\"magnify\"><defs/><g><!--MD5=[7aeb398939421629f6affaa4a1a7b125]\n",
       "@startuml\r\n",
       "skinparam ranksep 8\r\n",
       "left to right direction\r\n",
       "skinparam monochrome true\r\n",
       "skinparam classbackgroundcolor white\r\n",
       "skinparam shadowing false\r\n",
       "skinparam wrapWidth 300\r\n",
       "hide circle\r\n",
       "\r\n",
       "@enduml\r\n",
       "\n",
       "PlantUML version 1.2020.13(Sat Jun 13 12:26:38 UTC 2020)\n",
       "(EPL source distribution)\n",
       "Java Runtime: OpenJDK Runtime Environment\n",
       "JVM: OpenJDK 64-Bit Server VM\n",
       "Default Encoding: UTF-8\n",
       "Language: en\n",
       "Country: null\n",
       "--></g></svg>"
      ]
     },
     "execution_count": 20,
     "metadata": {},
     "output_type": "execute_result"
    }
   ],
   "source": [
    "%viz --style=\"LR\" --view=\"Action\" \"ItemTest\""
   ]
  },
  {
   "cell_type": "code",
   "execution_count": 21,
   "id": "6cae3b05",
   "metadata": {
    "execution": {
     "iopub.execute_input": "2022-08-19T08:17:28.969863Z",
     "iopub.status.busy": "2022-08-19T08:17:28.969416Z",
     "iopub.status.idle": "2022-08-19T08:17:28.975233Z",
     "shell.execute_reply": "2022-08-19T08:17:28.975550Z"
    }
   },
   "outputs": [
    {
     "data": {
      "image/svg+xml": [
       "<?xml version=\"1.0\" encoding=\"UTF-8\" standalone=\"no\"?><svg xmlns=\"http://www.w3.org/2000/svg\" xmlns:xlink=\"http://www.w3.org/1999/xlink\" contentScriptType=\"application/ecmascript\" contentStyleType=\"text/css\" height=\"12px\" preserveAspectRatio=\"none\" style=\"width:12px;height:12px;\" version=\"1.1\" viewBox=\"0 0 12 12\" width=\"12px\" zoomAndPan=\"magnify\"><defs/><g><!--MD5=[238c11ea2002f03115ad6b49a457d50e]\n",
       "@startuml\r\n",
       "skinparam roundcorner 20\r\n",
       "skinparam BoxPadding 20\r\n",
       "skinparam SequenceBoxBackgroundColor #white\r\n",
       "skinparam style strictuml\r\n",
       "skinparam maxMessageSize 100\r\n",
       "left to right direction\r\n",
       "skinparam monochrome true\r\n",
       "skinparam classbackgroundcolor white\r\n",
       "skinparam shadowing false\r\n",
       "skinparam wrapWidth 300\r\n",
       "hide circle\r\n",
       "\r\n",
       "@enduml\r\n",
       "\n",
       "PlantUML version 1.2020.13(Sat Jun 13 12:26:38 UTC 2020)\n",
       "(EPL source distribution)\n",
       "Java Runtime: OpenJDK Runtime Environment\n",
       "JVM: OpenJDK 64-Bit Server VM\n",
       "Default Encoding: UTF-8\n",
       "Language: en\n",
       "Country: null\n",
       "--></g></svg>"
      ]
     },
     "execution_count": 21,
     "metadata": {},
     "output_type": "execute_result"
    }
   ],
   "source": [
    "%viz --style=\"LR\" --view=\"Sequence\" \"ItemTest\""
   ]
  },
  {
   "cell_type": "code",
   "execution_count": 22,
   "id": "b269616e",
   "metadata": {
    "execution": {
     "iopub.execute_input": "2022-08-19T08:17:29.025646Z",
     "iopub.status.busy": "2022-08-19T08:17:29.025201Z",
     "iopub.status.idle": "2022-08-19T08:17:29.076628Z",
     "shell.execute_reply": "2022-08-19T08:17:29.076212Z"
    }
   },
   "outputs": [
    {
     "data": {
      "image/svg+xml": [
       "<?xml version=\"1.0\" encoding=\"UTF-8\" standalone=\"no\"?><svg xmlns=\"http://www.w3.org/2000/svg\" xmlns:xlink=\"http://www.w3.org/1999/xlink\" contentScriptType=\"application/ecmascript\" contentStyleType=\"text/css\" height=\"277px\" preserveAspectRatio=\"none\" style=\"width:895px;height:277px;\" version=\"1.1\" viewBox=\"0 0 895 277\" width=\"895px\" zoomAndPan=\"magnify\"><defs/><g><!--MD5=[fbc87193dbaf4d95561dea2c320d4a47]\n",
       "cluster E1--><a href=\"psysml:ae8f2d08-e2f6-41ef-ae81-a483692b435b\" target=\"_top\" title=\"psysml:ae8f2d08-e2f6-41ef-ae81-a483692b435b\" xlink:actuate=\"onRequest\" xlink:href=\"psysml:ae8f2d08-e2f6-41ef-ae81-a483692b435b\" xlink:show=\"new\" xlink:title=\"psysml:ae8f2d08-e2f6-41ef-ae81-a483692b435b\" xlink:type=\"simple\"><polygon fill=\"#FFFFFF\" points=\"16,6,83,6,90,28.2969,873,28.2969,873,265,16,265,16,6\" style=\"stroke: #000000; stroke-width: 1.5;\"/><line style=\"stroke: #000000; stroke-width: 1.5;\" x1=\"16\" x2=\"90\" y1=\"28.2969\" y2=\"28.2969\"/><text fill=\"#000000\" font-family=\"sans-serif\" font-size=\"14\" font-weight=\"bold\" lengthAdjust=\"spacingAndGlyphs\" textLength=\"61\" x=\"20\" y=\"20.9951\">ItemTest</text></a><!--MD5=[b4997ac47864f28c2f74865a473b2911]\n",
       "class E2--><a href=\"psysml:cbd0bd62-e912-4912-a2fb-da1e68d4f615\" target=\"_top\" title=\"psysml:cbd0bd62-e912-4912-a2fb-da1e68d4f615\" xlink:actuate=\"onRequest\" xlink:href=\"psysml:cbd0bd62-e912-4912-a2fb-da1e68d4f615\" xlink:show=\"new\" xlink:title=\"psysml:cbd0bd62-e912-4912-a2fb-da1e68d4f615\" xlink:type=\"simple\"><rect fill=\"#FFFFFF\" height=\"45.9375\" id=\"E2\" rx=\"10\" ry=\"10\" style=\"stroke: #383838; stroke-width: 1.5;\" width=\"43\" x=\"163\" y=\"41\"/><text fill=\"#000000\" font-family=\"sans-serif\" font-size=\"12\" font-style=\"italic\" lengthAdjust=\"spacingAndGlyphs\" textLength=\"41\" x=\"164\" y=\"57.1387\">«item»</text><text fill=\"#000000\" font-family=\"sans-serif\" font-size=\"12\" lengthAdjust=\"spacingAndGlyphs\" textLength=\"20\" x=\"172.5\" y=\"71.1074\">f: A</text><line style=\"stroke: #383838; stroke-width: 1.5;\" x1=\"164\" x2=\"205\" y1=\"78.9375\" y2=\"78.9375\"/></a><!--MD5=[09b614a08d8cba4a07c9adeb5e0fee81]\n",
       "class E3--><a href=\"psysml:2b189b42-edf1-49d6-a72b-40b548d68a1d\" target=\"_top\" title=\"psysml:2b189b42-edf1-49d6-a72b-40b548d68a1d\" xlink:actuate=\"onRequest\" xlink:href=\"psysml:2b189b42-edf1-49d6-a72b-40b548d68a1d\" xlink:show=\"new\" xlink:title=\"psysml:2b189b42-edf1-49d6-a72b-40b548d68a1d\" xlink:type=\"simple\"><rect fill=\"#FFFFFF\" height=\"45.9375\" id=\"E3\" style=\"stroke: #383838; stroke-width: 1.5;\" width=\"71\" x=\"267\" y=\"122\"/><text fill=\"#000000\" font-family=\"sans-serif\" font-size=\"12\" font-style=\"italic\" lengthAdjust=\"spacingAndGlyphs\" textLength=\"69\" x=\"268\" y=\"138.1387\">«item  def»</text><text fill=\"#000000\" font-family=\"sans-serif\" font-size=\"12\" lengthAdjust=\"spacingAndGlyphs\" textLength=\"8\" x=\"298.5\" y=\"152.1074\">A</text><line style=\"stroke: #383838; stroke-width: 1.5;\" x1=\"268\" x2=\"337\" y1=\"159.9375\" y2=\"159.9375\"/></a><!--MD5=[ebbe1d658d1005bcc118a6aa81145e00]\n",
       "class E4--><a href=\"psysml:94aeed99-fa0f-4cf3-9a3c-c07fcd3df143\" target=\"_top\" title=\"psysml:94aeed99-fa0f-4cf3-9a3c-c07fcd3df143\" xlink:actuate=\"onRequest\" xlink:href=\"psysml:94aeed99-fa0f-4cf3-9a3c-c07fcd3df143\" xlink:show=\"new\" xlink:title=\"psysml:94aeed99-fa0f-4cf3-9a3c-c07fcd3df143\" xlink:type=\"simple\"><rect fill=\"#FFFFFF\" height=\"45.9375\" id=\"E4\" rx=\"10\" ry=\"10\" style=\"stroke: #383838; stroke-width: 1.5;\" width=\"43\" x=\"471\" y=\"192\"/><text fill=\"#000000\" font-family=\"sans-serif\" font-size=\"12\" font-style=\"italic\" lengthAdjust=\"spacingAndGlyphs\" textLength=\"41\" x=\"472\" y=\"208.1387\">«item»</text><text fill=\"#000000\" font-family=\"sans-serif\" font-size=\"12\" lengthAdjust=\"spacingAndGlyphs\" textLength=\"24\" x=\"478.5\" y=\"222.1074\">b: B</text><line style=\"stroke: #383838; stroke-width: 1.5;\" x1=\"472\" x2=\"513\" y1=\"229.9375\" y2=\"229.9375\"/></a><!--MD5=[270fce915f116d4de14055a7c1d9a0f3]\n",
       "class E5--><a href=\"psysml:74f7fd5f-8520-4aae-9a17-942775661558\" target=\"_top\" title=\"psysml:74f7fd5f-8520-4aae-9a17-942775661558\" xlink:actuate=\"onRequest\" xlink:href=\"psysml:74f7fd5f-8520-4aae-9a17-942775661558\" xlink:show=\"new\" xlink:title=\"psysml:74f7fd5f-8520-4aae-9a17-942775661558\" xlink:type=\"simple\"><rect fill=\"#FFFFFF\" height=\"45.9375\" id=\"E5\" rx=\"10\" ry=\"10\" style=\"stroke: #383838; stroke-width: 1.5;\" width=\"42\" x=\"399\" y=\"78\"/><text fill=\"#000000\" font-family=\"sans-serif\" font-size=\"12\" font-style=\"italic\" lengthAdjust=\"spacingAndGlyphs\" textLength=\"40\" x=\"400\" y=\"94.1387\">«part»</text><text fill=\"#000000\" font-family=\"sans-serif\" font-size=\"12\" lengthAdjust=\"spacingAndGlyphs\" textLength=\"23\" x=\"406.5\" y=\"108.1074\">c: C</text><line style=\"stroke: #383838; stroke-width: 1.5;\" x1=\"400\" x2=\"440\" y1=\"115.9375\" y2=\"115.9375\"/></a><!--MD5=[60a26617385b1d2d0262a64233df1f8d]\n",
       "class E6--><a href=\"psysml:f1885442-e1dd-46d9-92aa-2427019de9de\" target=\"_top\" title=\"psysml:f1885442-e1dd-46d9-92aa-2427019de9de\" xlink:actuate=\"onRequest\" xlink:href=\"psysml:f1885442-e1dd-46d9-92aa-2427019de9de\" xlink:show=\"new\" xlink:title=\"psysml:f1885442-e1dd-46d9-92aa-2427019de9de\" xlink:type=\"simple\"><rect fill=\"#FFFFFF\" height=\"45.9375\" id=\"E6\" style=\"stroke: #383838; stroke-width: 1.5;\" width=\"71\" x=\"683\" y=\"105\"/><text fill=\"#000000\" font-family=\"sans-serif\" font-size=\"12\" font-style=\"italic\" lengthAdjust=\"spacingAndGlyphs\" textLength=\"69\" x=\"684\" y=\"121.1387\">«item  def»</text><text fill=\"#000000\" font-family=\"sans-serif\" font-size=\"12\" font-style=\"italic\" lengthAdjust=\"spacingAndGlyphs\" textLength=\"8\" x=\"714.5\" y=\"135.1074\">B</text><line style=\"stroke: #383838; stroke-width: 1.5;\" x1=\"684\" x2=\"753\" y1=\"142.9375\" y2=\"142.9375\"/></a><!--MD5=[2156ba9850f5573cc1fc38a6a4b2f02b]\n",
       "class E7--><a href=\"psysml:cc0b7000-21b2-4abb-bead-e88feeed0b85\" target=\"_top\" title=\"psysml:cc0b7000-21b2-4abb-bead-e88feeed0b85\" xlink:actuate=\"onRequest\" xlink:href=\"psysml:cc0b7000-21b2-4abb-bead-e88feeed0b85\" xlink:show=\"new\" xlink:title=\"psysml:cc0b7000-21b2-4abb-bead-e88feeed0b85\" xlink:type=\"simple\"><rect fill=\"#FFFFFF\" height=\"45.9375\" id=\"E7\" rx=\"10\" ry=\"10\" style=\"stroke: #383838; stroke-width: 1.5;\" width=\"42\" x=\"815\" y=\"73\"/><text fill=\"#000000\" font-family=\"sans-serif\" font-size=\"12\" font-style=\"italic\" lengthAdjust=\"spacingAndGlyphs\" textLength=\"40\" x=\"816\" y=\"89.1387\">«part»</text><text fill=\"#000000\" font-family=\"sans-serif\" font-size=\"12\" font-style=\"italic\" lengthAdjust=\"spacingAndGlyphs\" textLength=\"8\" x=\"822\" y=\"103.1074\">a</text><text fill=\"#000000\" font-family=\"sans-serif\" font-size=\"12\" lengthAdjust=\"spacingAndGlyphs\" textLength=\"16\" x=\"830\" y=\"103.1074\">: A</text><line style=\"stroke: #383838; stroke-width: 1.5;\" x1=\"816\" x2=\"856\" y1=\"110.9375\" y2=\"110.9375\"/></a><!--MD5=[b9389687b975829384b498ac4b7476b2]\n",
       "class E8--><a href=\"psysml:6db780a5-cf23-40f2-9df9-03150cb096d0\" target=\"_top\" title=\"psysml:6db780a5-cf23-40f2-9df9-03150cb096d0\" xlink:actuate=\"onRequest\" xlink:href=\"psysml:6db780a5-cf23-40f2-9df9-03150cb096d0\" xlink:show=\"new\" xlink:title=\"psysml:6db780a5-cf23-40f2-9df9-03150cb096d0\" xlink:type=\"simple\"><rect fill=\"#FFFFFF\" height=\"45.9375\" id=\"E8\" style=\"stroke: #383838; stroke-width: 1.5;\" width=\"70\" x=\"544\" y=\"105\"/><text fill=\"#000000\" font-family=\"sans-serif\" font-size=\"12\" font-style=\"italic\" lengthAdjust=\"spacingAndGlyphs\" textLength=\"68\" x=\"545\" y=\"121.1387\">«part  def»</text><text fill=\"#000000\" font-family=\"sans-serif\" font-size=\"12\" lengthAdjust=\"spacingAndGlyphs\" textLength=\"8\" x=\"575\" y=\"135.1074\">C</text><line style=\"stroke: #383838; stroke-width: 1.5;\" x1=\"545\" x2=\"613\" y1=\"142.9375\" y2=\"142.9375\"/></a><!--MD5=[fd4143e9d270a159db93a4ea2a975926]\n",
       "class E9--><a href=\"psysml:587854cf-6fe1-483d-a698-c7fca9a0c13c\" target=\"_top\" title=\"psysml:587854cf-6fe1-483d-a698-c7fca9a0c13c\" xlink:actuate=\"onRequest\" xlink:href=\"psysml:587854cf-6fe1-483d-a698-c7fca9a0c13c\" xlink:show=\"new\" xlink:title=\"psysml:587854cf-6fe1-483d-a698-c7fca9a0c13c\" xlink:type=\"simple\"><rect fill=\"#FFFFFF\" height=\"45.9375\" id=\"E9\" style=\"stroke: #383838; stroke-width: 1.5;\" width=\"70\" x=\"32\" y=\"163\"/><text fill=\"#000000\" font-family=\"sans-serif\" font-size=\"12\" font-style=\"italic\" lengthAdjust=\"spacingAndGlyphs\" textLength=\"68\" x=\"33\" y=\"179.1387\">«port  def»</text><text fill=\"#000000\" font-family=\"sans-serif\" font-size=\"12\" lengthAdjust=\"spacingAndGlyphs\" textLength=\"8\" x=\"63\" y=\"193.1074\">P</text><line style=\"stroke: #383838; stroke-width: 1.5;\" x1=\"33\" x2=\"101\" y1=\"200.9375\" y2=\"200.9375\"/></a><!--MD5=[96f4274e9e20536e775497830990834d]\n",
       "class E10--><a href=\"psysml:f73739ed-5364-4403-8254-d4f943238dfa\" target=\"_top\" title=\"psysml:f73739ed-5364-4403-8254-d4f943238dfa\" xlink:actuate=\"onRequest\" xlink:href=\"psysml:f73739ed-5364-4403-8254-d4f943238dfa\" xlink:show=\"new\" xlink:title=\"psysml:f73739ed-5364-4403-8254-d4f943238dfa\" xlink:type=\"simple\"><rect fill=\"#FFFFFF\" height=\"45.9375\" id=\"E10\" rx=\"10\" ry=\"10\" style=\"stroke: #383838; stroke-width: 1.5;\" width=\"43\" x=\"163\" y=\"203\"/><text fill=\"#000000\" font-family=\"sans-serif\" font-size=\"12\" font-style=\"italic\" lengthAdjust=\"spacingAndGlyphs\" textLength=\"41\" x=\"164\" y=\"219.1387\">«item»</text><text fill=\"#000000\" font-family=\"sans-serif\" font-size=\"12\" lengthAdjust=\"spacingAndGlyphs\" textLength=\"32\" x=\"166.5\" y=\"233.1074\">a1: A</text><line style=\"stroke: #383838; stroke-width: 1.5;\" x1=\"164\" x2=\"205\" y1=\"240.9375\" y2=\"240.9375\"/></a><!--MD5=[1dd1bfd58a279cf63c5f349dbc8fc6a1]\n",
       "class E11--><a href=\"psysml:6a7a2def-0eff-4194-80a2-af7f6b4a129e\" target=\"_top\" title=\"psysml:6a7a2def-0eff-4194-80a2-af7f6b4a129e\" xlink:actuate=\"onRequest\" xlink:href=\"psysml:6a7a2def-0eff-4194-80a2-af7f6b4a129e\" xlink:show=\"new\" xlink:title=\"psysml:6a7a2def-0eff-4194-80a2-af7f6b4a129e\" xlink:type=\"simple\"><rect fill=\"#FFFFFF\" height=\"45.9375\" id=\"E11\" rx=\"10\" ry=\"10\" style=\"stroke: #383838; stroke-width: 1.5;\" width=\"43\" x=\"163\" y=\"122\"/><text fill=\"#000000\" font-family=\"sans-serif\" font-size=\"12\" font-style=\"italic\" lengthAdjust=\"spacingAndGlyphs\" textLength=\"41\" x=\"164\" y=\"138.1387\">«item»</text><text fill=\"#000000\" font-family=\"sans-serif\" font-size=\"12\" lengthAdjust=\"spacingAndGlyphs\" textLength=\"32\" x=\"166.5\" y=\"152.1074\">a2: A</text><line style=\"stroke: #383838; stroke-width: 1.5;\" x1=\"164\" x2=\"205\" y1=\"159.9375\" y2=\"159.9375\"/></a><!--MD5=[2720a5a1f2c3fca2055b230370638851]\n",
       "link E2 to E3--><a href=\"psysml:8851b494-fad9-483d-8771-6e667cb982eb\" target=\"_top\" title=\"psysml:8851b494-fad9-483d-8771-6e667cb982eb\" xlink:actuate=\"onRequest\" xlink:href=\"psysml:8851b494-fad9-483d-8771-6e667cb982eb\" xlink:show=\"new\" xlink:title=\"psysml:8851b494-fad9-483d-8771-6e667cb982eb\" xlink:type=\"simple\"><path d=\"M206.24,78.48 C218.94,87.35 235.78,99.11 251.76,110.27 \" fill=\"none\" id=\"E2-&gt;E3\" style=\"stroke: #383838; stroke-width: 1.0;\"/><polygon fill=\"#FFFFFF\" points=\"268.21,121.75,248.6276,116.5992,256.6501,105.1257,268.21,121.75\" style=\"stroke: #383838; stroke-width: 1.0;\"/><ellipse cx=\"245.1024\" cy=\"111.6938\" fill=\"#383838\" rx=\"2\" ry=\"2\" style=\"stroke: #383838; stroke-width: 1.0;\"/><ellipse cx=\"250.8327\" cy=\"103.4985\" fill=\"#383838\" rx=\"2\" ry=\"2\" style=\"stroke: #383838; stroke-width: 1.0;\"/></a><!--MD5=[4672eba38e49728da53d11aeb285b987]\n",
       "reverse link E3 to E4--><a href=\"psysml:bbc4490d-4884-4bf2-8394-3cd2641c3130\" target=\"_top\" title=\"psysml:bbc4490d-4884-4bf2-8394-3cd2641c3130\" xlink:actuate=\"onRequest\" xlink:href=\"psysml:bbc4490d-4884-4bf2-8394-3cd2641c3130\" xlink:show=\"new\" xlink:title=\"psysml:bbc4490d-4884-4bf2-8394-3cd2641c3130\" xlink:type=\"simple\"><path d=\"M333.98,177.13 C351.32,193.04 374.45,210.6 399,219 C422.57,227.06 451.51,223.9 470.67,220.14 \" fill=\"none\" id=\"E3&lt;-E4\" style=\"stroke: #383838; stroke-width: 1.0;\"/><polygon fill=\"#FFFFFF\" points=\"324.47,168.03,326.0431,175.0674,333.1443,176.322,331.5711,169.2846,324.47,168.03\" style=\"stroke: #383838; stroke-width: 1.0;\"/><text fill=\"#000000\" font-family=\"sans-serif\" font-size=\"13\" lengthAdjust=\"spacingAndGlyphs\" textLength=\"8\" x=\"455.0824\" y=\"235.9486\">1</text></a><!--MD5=[191cde3d490a3f6d7bb551fe3ddca469]\n",
       "reverse link E3 to E5--><a href=\"psysml:896e58a4-3d4e-4523-9980-c4907a158d3f\" target=\"_top\" title=\"psysml:896e58a4-3d4e-4523-9980-c4907a158d3f\" xlink:actuate=\"onRequest\" xlink:href=\"psysml:896e58a4-3d4e-4523-9980-c4907a158d3f\" xlink:show=\"new\" xlink:title=\"psysml:896e58a4-3d4e-4523-9980-c4907a158d3f\" xlink:type=\"simple\"><path d=\"M350.66,127.03 C367.46,120.64 385.49,113.77 398.81,108.69 \" fill=\"none\" id=\"E3&lt;-E5\" style=\"stroke: #383838; stroke-width: 1.0;\"/><polygon fill=\"#FFFFFF\" points=\"338.15,131.8,345.1812,133.4006,349.363,127.5259,342.3318,125.9253,338.15,131.8\" style=\"stroke: #383838; stroke-width: 1.0;\"/><text fill=\"#000000\" font-family=\"sans-serif\" font-size=\"13\" lengthAdjust=\"spacingAndGlyphs\" textLength=\"8\" x=\"383.0956\" y=\"125.4387\">1</text></a><!--MD5=[79568f1e445c3877b6a54524624ccc7d]\n",
       "link E4 to E6--><a href=\"psysml:ae089d5e-98d2-4386-a1f6-d9056ad7f1db\" target=\"_top\" title=\"psysml:ae089d5e-98d2-4386-a1f6-d9056ad7f1db\" xlink:actuate=\"onRequest\" xlink:href=\"psysml:ae089d5e-98d2-4386-a1f6-d9056ad7f1db\" xlink:show=\"new\" xlink:title=\"psysml:ae089d5e-98d2-4386-a1f6-d9056ad7f1db\" xlink:type=\"simple\"><path d=\"M514.17,206.97 C547.89,193.88 615.78,167.51 663.82,148.85 \" fill=\"none\" id=\"E4-&gt;E6\" style=\"stroke: #383838; stroke-width: 1.0;\"/><polygon fill=\"#FFFFFF\" points=\"682.72,141.51,667.5446,154.9155,662.4747,141.8657,682.72,141.51\" style=\"stroke: #383838; stroke-width: 1.0;\"/><ellipse cx=\"661.5072\" cy=\"155.1154\" fill=\"#383838\" rx=\"2\" ry=\"2\" style=\"stroke: #383838; stroke-width: 1.0;\"/><ellipse cx=\"657.8858\" cy=\"145.7941\" fill=\"#383838\" rx=\"2\" ry=\"2\" style=\"stroke: #383838; stroke-width: 1.0;\"/></a><!--MD5=[3f50a3473f1dfb74d3f76443e03635af]\n",
       "reverse link E6 to E7--><a href=\"psysml:f93e67a1-8e91-4b72-abc4-aff48dcc0ebf\" target=\"_top\" title=\"psysml:f93e67a1-8e91-4b72-abc4-aff48dcc0ebf\" xlink:actuate=\"onRequest\" xlink:href=\"psysml:f93e67a1-8e91-4b72-abc4-aff48dcc0ebf\" xlink:show=\"new\" xlink:title=\"psysml:f93e67a1-8e91-4b72-abc4-aff48dcc0ebf\" xlink:type=\"simple\"><path d=\"M767.15,114.8 C783.81,110.18 801.62,105.25 814.81,101.59 \" fill=\"none\" id=\"E6&lt;-E7\" style=\"stroke: #383838; stroke-width: 1.0;\"/><polygon fill=\"#FFFFFF\" points=\"754.15,118.4,761.0002,120.6526,765.7143,115.1958,758.8641,112.9431,754.15,118.4\" style=\"stroke: #383838; stroke-width: 1.0;\"/><text fill=\"#000000\" font-family=\"sans-serif\" font-size=\"13\" lengthAdjust=\"spacingAndGlyphs\" textLength=\"8\" x=\"799.0956\" y=\"117.6956\">1</text></a><!--MD5=[14ccda38c055a5c0da953d572bc50960]\n",
       "link E7 to E3--><a href=\"psysml:729e96ed-f9a8-4349-a416-61bf2a977bd8\" target=\"_top\" title=\"psysml:729e96ed-f9a8-4349-a416-61bf2a977bd8\" xlink:actuate=\"onRequest\" xlink:href=\"psysml:729e96ed-f9a8-4349-a416-61bf2a977bd8\" xlink:show=\"new\" xlink:title=\"psysml:729e96ed-f9a8-4349-a416-61bf2a977bd8\" xlink:type=\"simple\"><path d=\"M814.63,79.8 C792.54,63.89 755.58,42 719.5,42 C419,42 419,42 419,42 C379.51,42 347.29,75.96 327.01,104.88 \" fill=\"none\" id=\"E7-&gt;E3\" style=\"stroke: #383838; stroke-width: 1.0;\"/><polygon fill=\"#FFFFFF\" points=\"315.97,121.88,320.4427,102.1317,332.1859,109.7538,315.97,121.88\" style=\"stroke: #383838; stroke-width: 1.0;\"/><ellipse cx=\"325.2235\" cy=\"98.4394\" fill=\"#383838\" rx=\"2\" ry=\"2\" style=\"stroke: #383838; stroke-width: 1.0;\"/><ellipse cx=\"333.6116\" cy=\"103.8838\" fill=\"#383838\" rx=\"2\" ry=\"2\" style=\"stroke: #383838; stroke-width: 1.0;\"/></a><!--MD5=[dfaffb906826c3e5aca635516100ff21]\n",
       "link E5 to E8--><a href=\"psysml:8b27b07a-ba61-4df4-814a-c4b9eba72255\" target=\"_top\" title=\"psysml:8b27b07a-ba61-4df4-814a-c4b9eba72255\" xlink:actuate=\"onRequest\" xlink:href=\"psysml:8b27b07a-ba61-4df4-814a-c4b9eba72255\" xlink:show=\"new\" xlink:title=\"psysml:8b27b07a-ba61-4df4-814a-c4b9eba72255\" xlink:type=\"simple\"><path d=\"M441.2,104.47 C462.06,108.06 495.5,113.81 524.1,118.73 \" fill=\"none\" id=\"E5-&gt;E8\" style=\"stroke: #383838; stroke-width: 1.0;\"/><polygon fill=\"#FFFFFF\" points=\"543.82,122.12,523.9093,125.803,526.279,112.005,543.82,122.12\" style=\"stroke: #383838; stroke-width: 1.0;\"/><ellipse cx=\"518.6301\" cy=\"122.8671\" fill=\"#383838\" rx=\"2\" ry=\"2\" style=\"stroke: #383838; stroke-width: 1.0;\"/><ellipse cx=\"520.3227\" cy=\"113.0114\" fill=\"#383838\" rx=\"2\" ry=\"2\" style=\"stroke: #383838; stroke-width: 1.0;\"/></a><!--MD5=[03c8294790d3c57651a1993cecff665f]\n",
       "reverse link E8 to E3--><a href=\"psysml:2fa26767-edf9-4f1d-8702-6d0b4fb1afcf\" target=\"_top\" title=\"psysml:2fa26767-edf9-4f1d-8702-6d0b4fb1afcf\" xlink:actuate=\"onRequest\" xlink:href=\"psysml:2fa26767-edf9-4f1d-8702-6d0b4fb1afcf\" xlink:show=\"new\" xlink:title=\"psysml:2fa26767-edf9-4f1d-8702-6d0b4fb1afcf\" xlink:type=\"simple\"><path d=\"M531.34,140.84 C505.03,147.41 471.44,154.71 441,158 C422.44,160.01 417.62,159.26 399,158 C378.8,156.63 356.36,153.65 338.31,150.89 \" fill=\"none\" id=\"E8&lt;-E3\" style=\"stroke: #383838; stroke-width: 1.0;\"/><polygon fill=\"#FFFFFF\" points=\"543.99,137.59,537.1849,135.2045,532.3655,140.5686,539.1706,142.9541,543.99,137.59\" style=\"stroke: #383838; stroke-width: 1.0;\"/><text fill=\"#000000\" font-family=\"sans-serif\" font-size=\"13\" lengthAdjust=\"spacingAndGlyphs\" textLength=\"7\" x=\"416.5\" y=\"154.0669\">y</text></a><!--MD5=[0d75d2178373a6a4568e5dc728f58aef]\n",
       "reverse link E8 to E6--><a href=\"psysml:2fa26767-edf9-4f1d-8702-6d0b4fb1afcf\" target=\"_top\" title=\"psysml:2fa26767-edf9-4f1d-8702-6d0b4fb1afcf\" xlink:actuate=\"onRequest\" xlink:href=\"psysml:2fa26767-edf9-4f1d-8702-6d0b4fb1afcf\" xlink:show=\"new\" xlink:title=\"psysml:2fa26767-edf9-4f1d-8702-6d0b4fb1afcf\" xlink:type=\"simple\"><path d=\"M627.39,128 C645.53,128 665.88,128 682.64,128 \" fill=\"none\" id=\"E8&lt;-E6\" style=\"stroke: #383838; stroke-width: 1.0;\"/><polygon fill=\"#FFFFFF\" points=\"614.34,128,620.34,132,626.34,128,620.34,124,614.34,128\" style=\"stroke: #383838; stroke-width: 1.0;\"/><text fill=\"#000000\" font-family=\"sans-serif\" font-size=\"13\" lengthAdjust=\"spacingAndGlyphs\" textLength=\"7\" x=\"645\" y=\"124.0669\">y</text></a><!--MD5=[23ac544a70576c3e717098101004234c]\n",
       "reverse link E9 to E10--><a href=\"psysml:2a8d2925-3f72-4e1c-849d-9e3943fa1d15\" target=\"_top\" title=\"psysml:2a8d2925-3f72-4e1c-849d-9e3943fa1d15\" xlink:actuate=\"onRequest\" xlink:href=\"psysml:2a8d2925-3f72-4e1c-849d-9e3943fa1d15\" xlink:show=\"new\" xlink:title=\"psysml:2a8d2925-3f72-4e1c-849d-9e3943fa1d15\" xlink:type=\"simple\"><path d=\"M114.48,202.1 C131.24,207.9 149.31,214.16 162.75,218.81 \" fill=\"none\" id=\"E9&lt;-E10\" style=\"stroke: #383838; stroke-width: 1.0;\"/><polygon fill=\"#FFFFFF\" points=\"102.03,197.78,106.3896,203.524,113.3686,201.7089,109.0089,195.9649,102.03,197.78\" style=\"stroke: #383838; stroke-width: 1.0;\"/><text fill=\"#000000\" font-family=\"sans-serif\" font-size=\"13\" lengthAdjust=\"spacingAndGlyphs\" textLength=\"8\" x=\"146.8641\" y=\"231.0017\">1</text></a><!--MD5=[feeac5eb423634930294aa81f2d25a4c]\n",
       "link E10 to E3--><a href=\"psysml:be0eb1db-3a2d-4525-bfbd-aed22db095bf\" target=\"_top\" title=\"psysml:be0eb1db-3a2d-4525-bfbd-aed22db095bf\" xlink:actuate=\"onRequest\" xlink:href=\"psysml:be0eb1db-3a2d-4525-bfbd-aed22db095bf\" xlink:show=\"new\" xlink:title=\"psysml:be0eb1db-3a2d-4525-bfbd-aed22db095bf\" xlink:type=\"simple\"><path d=\"M206.24,211.52 C218.94,202.65 235.78,190.89 251.76,179.73 \" fill=\"none\" id=\"E10-&gt;E3\" style=\"stroke: #383838; stroke-width: 1.0;\"/><polygon fill=\"#FFFFFF\" points=\"268.21,168.25,256.6501,184.8743,248.6276,173.4008,268.21,168.25\" style=\"stroke: #383838; stroke-width: 1.0;\"/><ellipse cx=\"250.8327\" cy=\"186.5015\" fill=\"#383838\" rx=\"2\" ry=\"2\" style=\"stroke: #383838; stroke-width: 1.0;\"/><ellipse cx=\"245.1024\" cy=\"178.3062\" fill=\"#383838\" rx=\"2\" ry=\"2\" style=\"stroke: #383838; stroke-width: 1.0;\"/></a><!--MD5=[1fc04a95fd77ad5ce46c1a3027516051]\n",
       "reverse link E9 to E11--><a href=\"psysml:4a4899a0-cca2-49ff-ba55-d15caf476c4f\" target=\"_top\" title=\"psysml:4a4899a0-cca2-49ff-ba55-d15caf476c4f\" xlink:actuate=\"onRequest\" xlink:href=\"psysml:4a4899a0-cca2-49ff-ba55-d15caf476c4f\" xlink:show=\"new\" xlink:title=\"psysml:4a4899a0-cca2-49ff-ba55-d15caf476c4f\" xlink:type=\"simple\"><path d=\"M114.48,169.5 C131.24,163.55 149.31,157.14 162.75,152.37 \" fill=\"none\" id=\"E9&lt;-E11\" style=\"stroke: #383838; stroke-width: 1.0;\"/><polygon fill=\"#FFFFFF\" points=\"102.03,173.92,109.0214,175.6865,113.341,169.9124,106.3496,168.1458,102.03,173.92\" style=\"stroke: #383838; stroke-width: 1.0;\"/><text fill=\"#000000\" font-family=\"sans-serif\" font-size=\"13\" lengthAdjust=\"spacingAndGlyphs\" textLength=\"8\" x=\"146.8641\" y=\"169.0207\">1</text></a><!--MD5=[0517f1ce58c4d5483948f93845c45e26]\n",
       "link E11 to E3--><a href=\"psysml:8ddae6f0-112f-4ded-9c4d-74dd6bca1f55\" target=\"_top\" title=\"psysml:8ddae6f0-112f-4ded-9c4d-74dd6bca1f55\" xlink:actuate=\"onRequest\" xlink:href=\"psysml:8ddae6f0-112f-4ded-9c4d-74dd6bca1f55\" xlink:show=\"new\" xlink:title=\"psysml:8ddae6f0-112f-4ded-9c4d-74dd6bca1f55\" xlink:type=\"simple\"><path d=\"M206.24,145 C217.53,145 232.1,145 246.43,145 \" fill=\"none\" id=\"E11-&gt;E3\" style=\"stroke: #383838; stroke-width: 1.0;\"/><polygon fill=\"#FFFFFF\" points=\"266.84,145,247.84,152,247.84,138,266.84,145\" style=\"stroke: #383838; stroke-width: 1.0;\"/><ellipse cx=\"242.14\" cy=\"150\" fill=\"#383838\" rx=\"2\" ry=\"2\" style=\"stroke: #383838; stroke-width: 1.0;\"/><ellipse cx=\"242.14\" cy=\"140\" fill=\"#383838\" rx=\"2\" ry=\"2\" style=\"stroke: #383838; stroke-width: 1.0;\"/></a><!--MD5=[c1abe45082ce587347c5e725cd9b252d]\n",
       "@startuml\r\n",
       "left to right direction\r\n",
       "skinparam monochrome true\r\n",
       "skinparam classbackgroundcolor white\r\n",
       "skinparam shadowing false\r\n",
       "skinparam wrapWidth 300\r\n",
       "hide circle\r\n",
       "\r\n",
       "package \"ItemTest\" as E1  [[psysml:ae8f2d08-e2f6-41ef-ae81-a483692b435b ]]  {\r\n",
       "comp usage \"f: A \" as E2  <<(T,blue) item>> [[psysml:cbd0bd62-e912-4912-a2fb-da1e68d4f615 ]] {\r\n",
       "}\r\n",
       "comp def \"A\" as E3  <<(T,blue) item  def>> [[psysml:2b189b42-edf1-49d6-a72b-40b548d68a1d ]] {\r\n",
       "}\r\n",
       "comp usage \"b: B \" as E4  <<(T,blue) item>> [[psysml:94aeed99-fa0f-4cf3-9a3c-c07fcd3df143 ]] {\r\n",
       "}\r\n",
       "comp usage \"c: C \" as E5  <<(T,blue) part>> [[psysml:74f7fd5f-8520-4aae-9a17-942775661558 ]] {\r\n",
       "}\r\n",
       "comp def \"<i>B</i>\" as E6  <<(T,blue) item  def>> [[psysml:f1885442-e1dd-46d9-92aa-2427019de9de ]] {\r\n",
       "}\r\n",
       "comp usage \"<i>a</i>: A \" as E7  <<(T,blue) part>> [[psysml:cc0b7000-21b2-4abb-bead-e88feeed0b85 ]] {\r\n",
       "}\r\n",
       "comp def \"C\" as E8  <<(T,blue) part  def>> [[psysml:6db780a5-cf23-40f2-9df9-03150cb096d0 ]] {\r\n",
       "}\r\n",
       "comp def \"P\" as E9  <<(T,blue) port  def>> [[psysml:587854cf-6fe1-483d-a698-c7fca9a0c13c ]] {\r\n",
       "}\r\n",
       "comp usage \"a1: A \" as E10  <<(T,blue) item>> [[psysml:f73739ed-5364-4403-8254-d4f943238dfa ]] {\r\n",
       "}\r\n",
       "comp usage \"a2: A \" as E11  <<(T,blue) item>> [[psysml:6a7a2def-0eff-4194-80a2-af7f6b4a129e ]] {\r\n",
       "}\r\n",
       "}\r\n",
       "E2 - -:|> E3 [[psysml:8851b494-fad9-483d-8771-6e667cb982eb ]] \r\n",
       "E3 o- - \"1\"E4 [[psysml:bbc4490d-4884-4bf2-8394-3cd2641c3130 ]] \r\n",
       "E3 o- - \"1\"E5 [[psysml:896e58a4-3d4e-4523-9980-c4907a158d3f ]] \r\n",
       "E4 - -:|> E6 [[psysml:ae089d5e-98d2-4386-a1f6-d9056ad7f1db ]] \r\n",
       "E6 o- - \"1\"E7 [[psysml:f93e67a1-8e91-4b72-abc4-aff48dcc0ebf ]] \r\n",
       "E7 - -:|> E3 [[psysml:729e96ed-f9a8-4349-a416-61bf2a977bd8 ]] \r\n",
       "E5 - -:|> E8 [[psysml:8b27b07a-ba61-4df4-814a-c4b9eba72255 ]] \r\n",
       "E8 o- - E3 [[psysml:2fa26767-edf9-4f1d-8702-6d0b4fb1afcf ]] : y\r\n",
       "E8 o- - E6 [[psysml:2fa26767-edf9-4f1d-8702-6d0b4fb1afcf ]] : y\r\n",
       "E9 o- - \"1\"E10 [[psysml:2a8d2925-3f72-4e1c-849d-9e3943fa1d15 ]] \r\n",
       "E10 - -:|> E3 [[psysml:be0eb1db-3a2d-4525-bfbd-aed22db095bf ]] \r\n",
       "E9 o- - \"1\"E11 [[psysml:4a4899a0-cca2-49ff-ba55-d15caf476c4f ]] \r\n",
       "E11 - -:|> E3 [[psysml:8ddae6f0-112f-4ded-9c4d-74dd6bca1f55 ]] \r\n",
       "@enduml\r\n",
       "\n",
       "PlantUML version 1.2020.13(Sat Jun 13 12:26:38 UTC 2020)\n",
       "(EPL source distribution)\n",
       "Java Runtime: OpenJDK Runtime Environment\n",
       "JVM: OpenJDK 64-Bit Server VM\n",
       "Default Encoding: UTF-8\n",
       "Language: en\n",
       "Country: null\n",
       "--></g></svg>"
      ]
     },
     "execution_count": 22,
     "metadata": {},
     "output_type": "execute_result"
    }
   ],
   "source": [
    "%viz --style=\"LR\" --view=\"MIXED\" \"ItemTest\""
   ]
  },
  {
   "cell_type": "code",
   "execution_count": 23,
   "id": "4cd0582d",
   "metadata": {
    "execution": {
     "iopub.execute_input": "2022-08-19T08:17:29.126016Z",
     "iopub.status.busy": "2022-08-19T08:17:29.125562Z",
     "iopub.status.idle": "2022-08-19T08:17:29.181502Z",
     "shell.execute_reply": "2022-08-19T08:17:29.181099Z"
    }
   },
   "outputs": [
    {
     "data": {
      "image/svg+xml": [
       "<?xml version=\"1.0\" encoding=\"UTF-8\" standalone=\"no\"?><svg xmlns=\"http://www.w3.org/2000/svg\" xmlns:xlink=\"http://www.w3.org/1999/xlink\" contentScriptType=\"application/ecmascript\" contentStyleType=\"text/css\" height=\"818px\" preserveAspectRatio=\"none\" style=\"width:270px;height:818px;\" version=\"1.1\" viewBox=\"0 0 270 818\" width=\"270px\" zoomAndPan=\"magnify\"><defs><filter height=\"300%\" id=\"fztikvmmcmhbi\" width=\"300%\" x=\"-1\" y=\"-1\"><feGaussianBlur result=\"blurOut\" stdDeviation=\"2.0\"/><feColorMatrix in=\"blurOut\" result=\"blurOut2\" type=\"matrix\" values=\"0 0 0 0 0 0 0 0 0 0 0 0 0 0 0 0 0 0 .4 0\"/><feOffset dx=\"4.0\" dy=\"4.0\" in=\"blurOut2\" result=\"blurOut3\"/><feBlend in=\"SourceGraphic\" in2=\"blurOut3\" mode=\"normal\"/></filter></defs><g><!--MD5=[fbc87193dbaf4d95561dea2c320d4a47]\n",
       "cluster E1--><a href=\"psysml:ae8f2d08-e2f6-41ef-ae81-a483692b435b\" target=\"_top\" title=\"psysml:ae8f2d08-e2f6-41ef-ae81-a483692b435b\" xlink:actuate=\"onRequest\" xlink:href=\"psysml:ae8f2d08-e2f6-41ef-ae81-a483692b435b\" xlink:show=\"new\" xlink:title=\"psysml:ae8f2d08-e2f6-41ef-ae81-a483692b435b\" xlink:type=\"simple\"><polygon fill=\"#FFFFFF\" filter=\"url(#fztikvmmcmhbi)\" points=\"16,6,83,6,90,28.2969,248,28.2969,248,806,16,806,16,6\" style=\"stroke: #000000; stroke-width: 1.5;\"/><line style=\"stroke: #000000; stroke-width: 1.5;\" x1=\"16\" x2=\"90\" y1=\"28.2969\" y2=\"28.2969\"/><text fill=\"#000000\" font-family=\"sans-serif\" font-size=\"14\" font-weight=\"bold\" lengthAdjust=\"spacingAndGlyphs\" textLength=\"61\" x=\"20\" y=\"20.9951\">ItemTest</text></a><!--MD5=[b4997ac47864f28c2f74865a473b2911]\n",
       "class E2--><a href=\"psysml:cbd0bd62-e912-4912-a2fb-da1e68d4f615\" target=\"_top\" title=\"psysml:cbd0bd62-e912-4912-a2fb-da1e68d4f615\" xlink:actuate=\"onRequest\" xlink:href=\"psysml:cbd0bd62-e912-4912-a2fb-da1e68d4f615\" xlink:show=\"new\" xlink:title=\"psysml:cbd0bd62-e912-4912-a2fb-da1e68d4f615\" xlink:type=\"simple\"><rect fill=\"#FEFECE\" filter=\"url(#fztikvmmcmhbi)\" height=\"45.9375\" id=\"E2\" rx=\"10\" ry=\"10\" style=\"stroke: #A80036; stroke-width: 1.5;\" width=\"43\" x=\"188.5\" y=\"148\"/><text fill=\"#000000\" font-family=\"sans-serif\" font-size=\"12\" font-style=\"italic\" lengthAdjust=\"spacingAndGlyphs\" textLength=\"41\" x=\"189.5\" y=\"164.1387\">«item»</text><text fill=\"#000000\" font-family=\"sans-serif\" font-size=\"12\" lengthAdjust=\"spacingAndGlyphs\" textLength=\"20\" x=\"198\" y=\"178.1074\">f: A</text><line style=\"stroke: #A80036; stroke-width: 1.5;\" x1=\"189.5\" x2=\"230.5\" y1=\"185.9375\" y2=\"185.9375\"/></a><!--MD5=[09b614a08d8cba4a07c9adeb5e0fee81]\n",
       "class E3--><a href=\"psysml:2b189b42-edf1-49d6-a72b-40b548d68a1d\" target=\"_top\" title=\"psysml:2b189b42-edf1-49d6-a72b-40b548d68a1d\" xlink:actuate=\"onRequest\" xlink:href=\"psysml:2b189b42-edf1-49d6-a72b-40b548d68a1d\" xlink:show=\"new\" xlink:title=\"psysml:2b189b42-edf1-49d6-a72b-40b548d68a1d\" xlink:type=\"simple\"><rect fill=\"#FEFECE\" filter=\"url(#fztikvmmcmhbi)\" height=\"45.9375\" id=\"E3\" style=\"stroke: #A80036; stroke-width: 1.5;\" width=\"71\" x=\"96.5\" y=\"255\"/><text fill=\"#000000\" font-family=\"sans-serif\" font-size=\"12\" font-style=\"italic\" lengthAdjust=\"spacingAndGlyphs\" textLength=\"69\" x=\"97.5\" y=\"271.1387\">«item  def»</text><text fill=\"#000000\" font-family=\"sans-serif\" font-size=\"12\" lengthAdjust=\"spacingAndGlyphs\" textLength=\"8\" x=\"128\" y=\"285.1074\">A</text><line style=\"stroke: #A80036; stroke-width: 1.5;\" x1=\"97.5\" x2=\"166.5\" y1=\"292.9375\" y2=\"292.9375\"/></a><!--MD5=[ebbe1d658d1005bcc118a6aa81145e00]\n",
       "class E4--><a href=\"psysml:94aeed99-fa0f-4cf3-9a3c-c07fcd3df143\" target=\"_top\" title=\"psysml:94aeed99-fa0f-4cf3-9a3c-c07fcd3df143\" xlink:actuate=\"onRequest\" xlink:href=\"psysml:94aeed99-fa0f-4cf3-9a3c-c07fcd3df143\" xlink:show=\"new\" xlink:title=\"psysml:94aeed99-fa0f-4cf3-9a3c-c07fcd3df143\" xlink:type=\"simple\"><rect fill=\"#FEFECE\" filter=\"url(#fztikvmmcmhbi)\" height=\"45.9375\" id=\"E4\" rx=\"10\" ry=\"10\" style=\"stroke: #A80036; stroke-width: 1.5;\" width=\"43\" x=\"45.5\" y=\"438\"/><text fill=\"#000000\" font-family=\"sans-serif\" font-size=\"12\" font-style=\"italic\" lengthAdjust=\"spacingAndGlyphs\" textLength=\"41\" x=\"46.5\" y=\"454.1387\">«item»</text><text fill=\"#000000\" font-family=\"sans-serif\" font-size=\"12\" lengthAdjust=\"spacingAndGlyphs\" textLength=\"24\" x=\"53\" y=\"468.1074\">b: B</text><line style=\"stroke: #A80036; stroke-width: 1.5;\" x1=\"46.5\" x2=\"87.5\" y1=\"475.9375\" y2=\"475.9375\"/></a><!--MD5=[270fce915f116d4de14055a7c1d9a0f3]\n",
       "class E5--><a href=\"psysml:74f7fd5f-8520-4aae-9a17-942775661558\" target=\"_top\" title=\"psysml:74f7fd5f-8520-4aae-9a17-942775661558\" xlink:actuate=\"onRequest\" xlink:href=\"psysml:74f7fd5f-8520-4aae-9a17-942775661558\" xlink:show=\"new\" xlink:title=\"psysml:74f7fd5f-8520-4aae-9a17-942775661558\" xlink:type=\"simple\"><rect fill=\"#FEFECE\" filter=\"url(#fztikvmmcmhbi)\" height=\"45.9375\" id=\"E5\" rx=\"10\" ry=\"10\" style=\"stroke: #A80036; stroke-width: 1.5;\" width=\"42\" x=\"151\" y=\"362\"/><text fill=\"#000000\" font-family=\"sans-serif\" font-size=\"12\" font-style=\"italic\" lengthAdjust=\"spacingAndGlyphs\" textLength=\"40\" x=\"152\" y=\"378.1387\">«part»</text><text fill=\"#000000\" font-family=\"sans-serif\" font-size=\"12\" lengthAdjust=\"spacingAndGlyphs\" textLength=\"23\" x=\"158.5\" y=\"392.1074\">c: C</text><line style=\"stroke: #A80036; stroke-width: 1.5;\" x1=\"152\" x2=\"192\" y1=\"399.9375\" y2=\"399.9375\"/></a><!--MD5=[60a26617385b1d2d0262a64233df1f8d]\n",
       "class E6--><a href=\"psysml:f1885442-e1dd-46d9-92aa-2427019de9de\" target=\"_top\" title=\"psysml:f1885442-e1dd-46d9-92aa-2427019de9de\" xlink:actuate=\"onRequest\" xlink:href=\"psysml:f1885442-e1dd-46d9-92aa-2427019de9de\" xlink:show=\"new\" xlink:title=\"psysml:f1885442-e1dd-46d9-92aa-2427019de9de\" xlink:type=\"simple\"><rect fill=\"#FEFECE\" filter=\"url(#fztikvmmcmhbi)\" height=\"45.9375\" id=\"E6\" style=\"stroke: #A80036; stroke-width: 1.5;\" width=\"71\" x=\"112.5\" y=\"637\"/><text fill=\"#000000\" font-family=\"sans-serif\" font-size=\"12\" font-style=\"italic\" lengthAdjust=\"spacingAndGlyphs\" textLength=\"69\" x=\"113.5\" y=\"653.1387\">«item  def»</text><text fill=\"#000000\" font-family=\"sans-serif\" font-size=\"12\" font-style=\"italic\" lengthAdjust=\"spacingAndGlyphs\" textLength=\"8\" x=\"144\" y=\"667.1074\">B</text><line style=\"stroke: #A80036; stroke-width: 1.5;\" x1=\"113.5\" x2=\"182.5\" y1=\"674.9375\" y2=\"674.9375\"/></a><!--MD5=[2156ba9850f5573cc1fc38a6a4b2f02b]\n",
       "class E7--><a href=\"psysml:cc0b7000-21b2-4abb-bead-e88feeed0b85\" target=\"_top\" title=\"psysml:cc0b7000-21b2-4abb-bead-e88feeed0b85\" xlink:actuate=\"onRequest\" xlink:href=\"psysml:cc0b7000-21b2-4abb-bead-e88feeed0b85\" xlink:show=\"new\" xlink:title=\"psysml:cc0b7000-21b2-4abb-bead-e88feeed0b85\" xlink:type=\"simple\"><rect fill=\"#FEFECE\" filter=\"url(#fztikvmmcmhbi)\" height=\"45.9375\" id=\"E7\" rx=\"10\" ry=\"10\" style=\"stroke: #A80036; stroke-width: 1.5;\" width=\"42\" x=\"159\" y=\"744\"/><text fill=\"#000000\" font-family=\"sans-serif\" font-size=\"12\" font-style=\"italic\" lengthAdjust=\"spacingAndGlyphs\" textLength=\"40\" x=\"160\" y=\"760.1387\">«part»</text><text fill=\"#000000\" font-family=\"sans-serif\" font-size=\"12\" font-style=\"italic\" lengthAdjust=\"spacingAndGlyphs\" textLength=\"8\" x=\"166\" y=\"774.1074\">a</text><text fill=\"#000000\" font-family=\"sans-serif\" font-size=\"12\" lengthAdjust=\"spacingAndGlyphs\" textLength=\"16\" x=\"174\" y=\"774.1074\">: A</text><line style=\"stroke: #A80036; stroke-width: 1.5;\" x1=\"160\" x2=\"200\" y1=\"781.9375\" y2=\"781.9375\"/></a><!--MD5=[b9389687b975829384b498ac4b7476b2]\n",
       "class E8--><a href=\"psysml:6db780a5-cf23-40f2-9df9-03150cb096d0\" target=\"_top\" title=\"psysml:6db780a5-cf23-40f2-9df9-03150cb096d0\" xlink:actuate=\"onRequest\" xlink:href=\"psysml:6db780a5-cf23-40f2-9df9-03150cb096d0\" xlink:show=\"new\" xlink:title=\"psysml:6db780a5-cf23-40f2-9df9-03150cb096d0\" xlink:type=\"simple\"><rect fill=\"#FEFECE\" filter=\"url(#fztikvmmcmhbi)\" height=\"45.9375\" id=\"E8\" style=\"stroke: #A80036; stroke-width: 1.5;\" width=\"70\" x=\"113\" y=\"514\"/><text fill=\"#000000\" font-family=\"sans-serif\" font-size=\"12\" font-style=\"italic\" lengthAdjust=\"spacingAndGlyphs\" textLength=\"68\" x=\"114\" y=\"530.1387\">«part  def»</text><text fill=\"#000000\" font-family=\"sans-serif\" font-size=\"12\" lengthAdjust=\"spacingAndGlyphs\" textLength=\"8\" x=\"144\" y=\"544.1074\">C</text><line style=\"stroke: #A80036; stroke-width: 1.5;\" x1=\"114\" x2=\"182\" y1=\"551.9375\" y2=\"551.9375\"/></a><!--MD5=[fd4143e9d270a159db93a4ea2a975926]\n",
       "class E9--><a href=\"psysml:587854cf-6fe1-483d-a698-c7fca9a0c13c\" target=\"_top\" title=\"psysml:587854cf-6fe1-483d-a698-c7fca9a0c13c\" xlink:actuate=\"onRequest\" xlink:href=\"psysml:587854cf-6fe1-483d-a698-c7fca9a0c13c\" xlink:show=\"new\" xlink:title=\"psysml:587854cf-6fe1-483d-a698-c7fca9a0c13c\" xlink:type=\"simple\"><rect fill=\"#FEFECE\" filter=\"url(#fztikvmmcmhbi)\" height=\"45.9375\" id=\"E9\" style=\"stroke: #A80036; stroke-width: 1.5;\" width=\"70\" x=\"64\" y=\"41\"/><text fill=\"#000000\" font-family=\"sans-serif\" font-size=\"12\" font-style=\"italic\" lengthAdjust=\"spacingAndGlyphs\" textLength=\"68\" x=\"65\" y=\"57.1387\">«port  def»</text><text fill=\"#000000\" font-family=\"sans-serif\" font-size=\"12\" lengthAdjust=\"spacingAndGlyphs\" textLength=\"8\" x=\"95\" y=\"71.1074\">P</text><line style=\"stroke: #A80036; stroke-width: 1.5;\" x1=\"65\" x2=\"133\" y1=\"78.9375\" y2=\"78.9375\"/></a><!--MD5=[96f4274e9e20536e775497830990834d]\n",
       "class E10--><a href=\"psysml:f73739ed-5364-4403-8254-d4f943238dfa\" target=\"_top\" title=\"psysml:f73739ed-5364-4403-8254-d4f943238dfa\" xlink:actuate=\"onRequest\" xlink:href=\"psysml:f73739ed-5364-4403-8254-d4f943238dfa\" xlink:show=\"new\" xlink:title=\"psysml:f73739ed-5364-4403-8254-d4f943238dfa\" xlink:type=\"simple\"><rect fill=\"#FEFECE\" filter=\"url(#fztikvmmcmhbi)\" height=\"45.9375\" id=\"E10\" rx=\"10\" ry=\"10\" style=\"stroke: #A80036; stroke-width: 1.5;\" width=\"43\" x=\"32.5\" y=\"148\"/><text fill=\"#000000\" font-family=\"sans-serif\" font-size=\"12\" font-style=\"italic\" lengthAdjust=\"spacingAndGlyphs\" textLength=\"41\" x=\"33.5\" y=\"164.1387\">«item»</text><text fill=\"#000000\" font-family=\"sans-serif\" font-size=\"12\" lengthAdjust=\"spacingAndGlyphs\" textLength=\"32\" x=\"36\" y=\"178.1074\">a1: A</text><line style=\"stroke: #A80036; stroke-width: 1.5;\" x1=\"33.5\" x2=\"74.5\" y1=\"185.9375\" y2=\"185.9375\"/></a><!--MD5=[1dd1bfd58a279cf63c5f349dbc8fc6a1]\n",
       "class E11--><a href=\"psysml:6a7a2def-0eff-4194-80a2-af7f6b4a129e\" target=\"_top\" title=\"psysml:6a7a2def-0eff-4194-80a2-af7f6b4a129e\" xlink:actuate=\"onRequest\" xlink:href=\"psysml:6a7a2def-0eff-4194-80a2-af7f6b4a129e\" xlink:show=\"new\" xlink:title=\"psysml:6a7a2def-0eff-4194-80a2-af7f6b4a129e\" xlink:type=\"simple\"><rect fill=\"#FEFECE\" filter=\"url(#fztikvmmcmhbi)\" height=\"45.9375\" id=\"E11\" rx=\"10\" ry=\"10\" style=\"stroke: #A80036; stroke-width: 1.5;\" width=\"43\" x=\"110.5\" y=\"148\"/><text fill=\"#000000\" font-family=\"sans-serif\" font-size=\"12\" font-style=\"italic\" lengthAdjust=\"spacingAndGlyphs\" textLength=\"41\" x=\"111.5\" y=\"164.1387\">«item»</text><text fill=\"#000000\" font-family=\"sans-serif\" font-size=\"12\" lengthAdjust=\"spacingAndGlyphs\" textLength=\"32\" x=\"114\" y=\"178.1074\">a2: A</text><line style=\"stroke: #A80036; stroke-width: 1.5;\" x1=\"111.5\" x2=\"152.5\" y1=\"185.9375\" y2=\"185.9375\"/></a><!--MD5=[2720a5a1f2c3fca2055b230370638851]\n",
       "link E2 to E3--><a href=\"psysml:8851b494-fad9-483d-8771-6e667cb982eb\" target=\"_top\" title=\"psysml:8851b494-fad9-483d-8771-6e667cb982eb\" xlink:actuate=\"onRequest\" xlink:href=\"psysml:8851b494-fad9-483d-8771-6e667cb982eb\" xlink:show=\"new\" xlink:title=\"psysml:8851b494-fad9-483d-8771-6e667cb982eb\" xlink:type=\"simple\"><path d=\"M193.65,194.01 C184.14,206.81 171.89,223.3 160.82,238.2 \" fill=\"none\" id=\"E2-&gt;E3\" style=\"stroke: #A80036; stroke-width: 1.0;\"/><polygon fill=\"#FFFFFF\" points=\"148.6,254.66,154.3195,235.2361,165.5543,243.5896,148.6,254.66\" style=\"stroke: #A80036; stroke-width: 1.0;\"/><ellipse cx=\"159.3256\" cy=\"231.8554\" fill=\"#A80036\" rx=\"2\" ry=\"2\" style=\"stroke: #A80036; stroke-width: 1.0;\"/><ellipse cx=\"167.3504\" cy=\"237.8221\" fill=\"#A80036\" rx=\"2\" ry=\"2\" style=\"stroke: #A80036; stroke-width: 1.0;\"/></a><!--MD5=[4672eba38e49728da53d11aeb285b987]\n",
       "reverse link E3 to E4--><a href=\"psysml:bbc4490d-4884-4bf2-8394-3cd2641c3130\" target=\"_top\" title=\"psysml:bbc4490d-4884-4bf2-8394-3cd2641c3130\" xlink:actuate=\"onRequest\" xlink:href=\"psysml:bbc4490d-4884-4bf2-8394-3cd2641c3130\" xlink:show=\"new\" xlink:title=\"psysml:bbc4490d-4884-4bf2-8394-3cd2641c3130\" xlink:type=\"simple\"><path d=\"M97.11,310.9 C84.08,325.11 70.81,342.94 64,362 C55.12,386.85 58.09,417.53 61.82,437.88 \" fill=\"none\" id=\"E3&lt;-E4\" style=\"stroke: #A80036; stroke-width: 1.0;\"/><polygon fill=\"#FFFFFF\" points=\"106.46,301.23,99.4153,302.7703,98.1277,309.8655,105.1724,308.3252,106.46,301.23\" style=\"stroke: #A80036; stroke-width: 1.0;\"/><text fill=\"#000000\" font-family=\"sans-serif\" font-size=\"13\" lengthAdjust=\"spacingAndGlyphs\" textLength=\"8\" x=\"51.3529\" y=\"426.744\">1</text></a><!--MD5=[191cde3d490a3f6d7bb551fe3ddca469]\n",
       "reverse link E3 to E5--><a href=\"psysml:896e58a4-3d4e-4523-9980-c4907a158d3f\" target=\"_top\" title=\"psysml:896e58a4-3d4e-4523-9980-c4907a158d3f\" xlink:actuate=\"onRequest\" xlink:href=\"psysml:896e58a4-3d4e-4523-9980-c4907a158d3f\" xlink:show=\"new\" xlink:title=\"psysml:896e58a4-3d4e-4523-9980-c4907a158d3f\" xlink:type=\"simple\"><path d=\"M145.17,313.57 C151.2,329.39 158.16,347.68 163.49,361.66 \" fill=\"none\" id=\"E3&lt;-E5\" style=\"stroke: #A80036; stroke-width: 1.0;\"/><polygon fill=\"#FFFFFF\" points=\"140.39,301.01,138.7866,308.0406,144.6598,312.2247,146.2631,305.1941,140.39,301.01\" style=\"stroke: #A80036; stroke-width: 1.0;\"/><text fill=\"#000000\" font-family=\"sans-serif\" font-size=\"13\" lengthAdjust=\"spacingAndGlyphs\" textLength=\"8\" x=\"152.2843\" y=\"350.8492\">1</text></a><!--MD5=[79568f1e445c3877b6a54524624ccc7d]\n",
       "link E4 to E6--><a href=\"psysml:ae089d5e-98d2-4386-a1f6-d9056ad7f1db\" target=\"_top\" title=\"psysml:ae089d5e-98d2-4386-a1f6-d9056ad7f1db\" xlink:actuate=\"onRequest\" xlink:href=\"psysml:ae089d5e-98d2-4386-a1f6-d9056ad7f1db\" xlink:show=\"new\" xlink:title=\"psysml:ae089d5e-98d2-4386-a1f6-d9056ad7f1db\" xlink:type=\"simple\"><path d=\"M72.25,484.22 C77.31,504.36 85.72,534.68 96,560 C104.15,580.08 115.08,601.47 124.82,619.21 \" fill=\"none\" id=\"E4-&gt;E6\" style=\"stroke: #A80036; stroke-width: 1.0;\"/><polygon fill=\"#FFFFFF\" points=\"134.72,636.8,119.2979,623.6791,131.4967,616.8097,134.72,636.8\" style=\"stroke: #A80036; stroke-width: 1.0;\"/><ellipse cx=\"118.2438\" cy=\"617.7311\" fill=\"#A80036\" rx=\"2\" ry=\"2\" style=\"stroke: #A80036; stroke-width: 1.0;\"/><ellipse cx=\"126.9572\" cy=\"612.8244\" fill=\"#A80036\" rx=\"2\" ry=\"2\" style=\"stroke: #A80036; stroke-width: 1.0;\"/></a><!--MD5=[3f50a3473f1dfb74d3f76443e03635af]\n",
       "reverse link E6 to E7--><a href=\"psysml:f93e67a1-8e91-4b72-abc4-aff48dcc0ebf\" target=\"_top\" title=\"psysml:f93e67a1-8e91-4b72-abc4-aff48dcc0ebf\" xlink:actuate=\"onRequest\" xlink:href=\"psysml:f93e67a1-8e91-4b72-abc4-aff48dcc0ebf\" xlink:show=\"new\" xlink:title=\"psysml:f93e67a1-8e91-4b72-abc4-aff48dcc0ebf\" xlink:type=\"simple\"><path d=\"M158.54,695.57 C163.36,711.39 168.93,729.68 173.19,743.66 \" fill=\"none\" id=\"E6&lt;-E7\" style=\"stroke: #A80036; stroke-width: 1.0;\"/><polygon fill=\"#FFFFFF\" points=\"154.71,683.01,152.6319,689.9152,158.2066,694.4893,160.2847,687.5841,154.71,683.01\" style=\"stroke: #A80036; stroke-width: 1.0;\"/><text fill=\"#000000\" font-family=\"sans-serif\" font-size=\"13\" lengthAdjust=\"spacingAndGlyphs\" textLength=\"8\" x=\"162.4199\" y=\"732.8492\">1</text></a><!--MD5=[14ccda38c055a5c0da953d572bc50960]\n",
       "link E7 to E3--><a href=\"psysml:729e96ed-f9a8-4349-a416-61bf2a977bd8\" target=\"_top\" title=\"psysml:729e96ed-f9a8-4349-a416-61bf2a977bd8\" xlink:actuate=\"onRequest\" xlink:href=\"psysml:729e96ed-f9a8-4349-a416-61bf2a977bd8\" xlink:show=\"new\" xlink:title=\"psysml:729e96ed-f9a8-4349-a416-61bf2a977bd8\" xlink:type=\"simple\"><path d=\"M197.41,743.63 C211.5,723.27 229,691.78 229,661 C229,384 229,384 229,384 C229,353.7 206.93,328.42 183.85,310.26 \" fill=\"none\" id=\"E7-&gt;E3\" style=\"stroke: #A80036; stroke-width: 1.0;\"/><polygon fill=\"#FFFFFF\" points=\"167.57,298.59,187.0929,303.9617,178.9414,315.3438,167.57,298.59\" style=\"stroke: #A80036; stroke-width: 1.0;\"/><ellipse cx=\"190.5626\" cy=\"308.9066\" fill=\"#A80036\" rx=\"2\" ry=\"2\" style=\"stroke: #A80036; stroke-width: 1.0;\"/><ellipse cx=\"184.7401\" cy=\"317.0367\" fill=\"#A80036\" rx=\"2\" ry=\"2\" style=\"stroke: #A80036; stroke-width: 1.0;\"/></a><!--MD5=[dfaffb906826c3e5aca635516100ff21]\n",
       "link E5 to E8--><a href=\"psysml:8b27b07a-ba61-4df4-814a-c4b9eba72255\" target=\"_top\" title=\"psysml:8b27b07a-ba61-4df4-814a-c4b9eba72255\" xlink:actuate=\"onRequest\" xlink:href=\"psysml:8b27b07a-ba61-4df4-814a-c4b9eba72255\" xlink:show=\"new\" xlink:title=\"psysml:8b27b07a-ba61-4df4-814a-c4b9eba72255\" xlink:type=\"simple\"><path d=\"M168.46,408.13 C164.86,430.62 159.2,466.01 154.74,493.87 \" fill=\"none\" id=\"E5-&gt;E8\" style=\"stroke: #A80036; stroke-width: 1.0;\"/><polygon fill=\"#FFFFFF\" points=\"151.56,513.78,147.6458,493.9135,161.4704,496.1226,151.56,513.78\" style=\"stroke: #A80036; stroke-width: 1.0;\"/><ellipse cx=\"150.5202\" cy=\"488.6005\" fill=\"#A80036\" rx=\"2\" ry=\"2\" style=\"stroke: #A80036; stroke-width: 1.0;\"/><ellipse cx=\"160.3949\" cy=\"490.1784\" fill=\"#A80036\" rx=\"2\" ry=\"2\" style=\"stroke: #A80036; stroke-width: 1.0;\"/></a><!--MD5=[03c8294790d3c57651a1993cecff665f]\n",
       "reverse link E8 to E3--><a href=\"psysml:2fa26767-edf9-4f1d-8702-6d0b4fb1afcf\" target=\"_top\" title=\"psysml:2fa26767-edf9-4f1d-8702-6d0b4fb1afcf\" xlink:actuate=\"onRequest\" xlink:href=\"psysml:2fa26767-edf9-4f1d-8702-6d0b4fb1afcf\" xlink:show=\"new\" xlink:title=\"psysml:2fa26767-edf9-4f1d-8702-6d0b4fb1afcf\" xlink:type=\"simple\"><path d=\"M140.02,501.22 C134.57,475.6 127.84,439.84 125,408 C123.18,387.64 124.14,382.43 125,362 C125.87,341.34 127.95,317.86 129.62,301.16 \" fill=\"none\" id=\"E8&lt;-E3\" style=\"stroke: #A80036; stroke-width: 1.0;\"/><polygon fill=\"#FFFFFF\" points=\"142.81,513.96,145.4388,507.2451,140.2515,502.2359,137.6227,508.9508,142.81,513.96\" style=\"stroke: #A80036; stroke-width: 1.0;\"/><text fill=\"#000000\" font-family=\"sans-serif\" font-size=\"13\" lengthAdjust=\"spacingAndGlyphs\" textLength=\"7\" x=\"126\" y=\"389.5669\">y</text></a><!--MD5=[0d75d2178373a6a4568e5dc728f58aef]\n",
       "reverse link E8 to E6--><a href=\"psysml:2fa26767-edf9-4f1d-8702-6d0b4fb1afcf\" target=\"_top\" title=\"psysml:2fa26767-edf9-4f1d-8702-6d0b4fb1afcf\" xlink:actuate=\"onRequest\" xlink:href=\"psysml:2fa26767-edf9-4f1d-8702-6d0b4fb1afcf\" xlink:show=\"new\" xlink:title=\"psysml:2fa26767-edf9-4f1d-8702-6d0b4fb1afcf\" xlink:type=\"simple\"><path d=\"M148,573.22 C148,593.81 148,619.16 148,636.95 \" fill=\"none\" id=\"E8&lt;-E6\" style=\"stroke: #A80036; stroke-width: 1.0;\"/><polygon fill=\"#FFFFFF\" points=\"148,560.19,144,566.19,148,572.19,152,566.19,148,560.19\" style=\"stroke: #A80036; stroke-width: 1.0;\"/><text fill=\"#000000\" font-family=\"sans-serif\" font-size=\"13\" lengthAdjust=\"spacingAndGlyphs\" textLength=\"7\" x=\"149\" y=\"603.0669\">y</text></a><!--MD5=[23ac544a70576c3e717098101004234c]\n",
       "reverse link E9 to E10--><a href=\"psysml:2a8d2925-3f72-4e1c-849d-9e3943fa1d15\" target=\"_top\" title=\"psysml:2a8d2925-3f72-4e1c-849d-9e3943fa1d15\" xlink:actuate=\"onRequest\" xlink:href=\"psysml:2a8d2925-3f72-4e1c-849d-9e3943fa1d15\" xlink:show=\"new\" xlink:title=\"psysml:2a8d2925-3f72-4e1c-849d-9e3943fa1d15\" xlink:type=\"simple\"><path d=\"M84.39,99.1 C77.56,115.03 69.63,133.54 63.58,147.66 \" fill=\"none\" id=\"E9&lt;-E10\" style=\"stroke: #A80036; stroke-width: 1.0;\"/><polygon fill=\"#FFFFFF\" points=\"89.57,87.01,83.5327,90.9535,84.8509,98.0431,90.8882,94.0996,89.57,87.01\" style=\"stroke: #A80036; stroke-width: 1.0;\"/><text fill=\"#000000\" font-family=\"sans-serif\" font-size=\"13\" lengthAdjust=\"spacingAndGlyphs\" textLength=\"8\" x=\"57.0099\" y=\"136.8492\">1</text></a><!--MD5=[feeac5eb423634930294aa81f2d25a4c]\n",
       "link E10 to E3--><a href=\"psysml:be0eb1db-3a2d-4525-bfbd-aed22db095bf\" target=\"_top\" title=\"psysml:be0eb1db-3a2d-4525-bfbd-aed22db095bf\" xlink:actuate=\"onRequest\" xlink:href=\"psysml:be0eb1db-3a2d-4525-bfbd-aed22db095bf\" xlink:show=\"new\" xlink:title=\"psysml:be0eb1db-3a2d-4525-bfbd-aed22db095bf\" xlink:type=\"simple\"><path d=\"M70.35,194.01 C79.86,206.81 92.11,223.3 103.18,238.2 \" fill=\"none\" id=\"E10-&gt;E3\" style=\"stroke: #A80036; stroke-width: 1.0;\"/><polygon fill=\"#FFFFFF\" points=\"115.4,254.66,98.4457,243.5896,109.6805,235.2361,115.4,254.66\" style=\"stroke: #A80036; stroke-width: 1.0;\"/><ellipse cx=\"96.6496\" cy=\"237.8221\" fill=\"#A80036\" rx=\"2\" ry=\"2\" style=\"stroke: #A80036; stroke-width: 1.0;\"/><ellipse cx=\"104.6744\" cy=\"231.8554\" fill=\"#A80036\" rx=\"2\" ry=\"2\" style=\"stroke: #A80036; stroke-width: 1.0;\"/></a><!--MD5=[1fc04a95fd77ad5ce46c1a3027516051]\n",
       "reverse link E9 to E11--><a href=\"psysml:4a4899a0-cca2-49ff-ba55-d15caf476c4f\" target=\"_top\" title=\"psysml:4a4899a0-cca2-49ff-ba55-d15caf476c4f\" xlink:actuate=\"onRequest\" xlink:href=\"psysml:4a4899a0-cca2-49ff-ba55-d15caf476c4f\" xlink:show=\"new\" xlink:title=\"psysml:4a4899a0-cca2-49ff-ba55-d15caf476c4f\" xlink:type=\"simple\"><path d=\"M109.87,99.57 C114.84,115.39 120.59,133.68 124.98,147.66 \" fill=\"none\" id=\"E9&lt;-E11\" style=\"stroke: #A80036; stroke-width: 1.0;\"/><polygon fill=\"#FFFFFF\" points=\"105.92,87.01,103.9044,93.9337,109.5203,98.4572,111.5359,91.5335,105.92,87.01\" style=\"stroke: #A80036; stroke-width: 1.0;\"/><text fill=\"#000000\" font-family=\"sans-serif\" font-size=\"13\" lengthAdjust=\"spacingAndGlyphs\" textLength=\"8\" x=\"114.1561\" y=\"136.8492\">1</text></a><!--MD5=[0517f1ce58c4d5483948f93845c45e26]\n",
       "link E11 to E3--><a href=\"psysml:8ddae6f0-112f-4ded-9c4d-74dd6bca1f55\" target=\"_top\" title=\"psysml:8ddae6f0-112f-4ded-9c4d-74dd6bca1f55\" xlink:actuate=\"onRequest\" xlink:href=\"psysml:8ddae6f0-112f-4ded-9c4d-74dd6bca1f55\" xlink:show=\"new\" xlink:title=\"psysml:8ddae6f0-112f-4ded-9c4d-74dd6bca1f55\" xlink:type=\"simple\"><path d=\"M132,194.01 C132,205.69 132,220.46 132,234.28 \" fill=\"none\" id=\"E11-&gt;E3\" style=\"stroke: #A80036; stroke-width: 1.0;\"/><polygon fill=\"#FFFFFF\" points=\"132,254.66,125,235.66,139,235.66,132,254.66\" style=\"stroke: #A80036; stroke-width: 1.0;\"/><ellipse cx=\"127\" cy=\"229.96\" fill=\"#A80036\" rx=\"2\" ry=\"2\" style=\"stroke: #A80036; stroke-width: 1.0;\"/><ellipse cx=\"137\" cy=\"229.96\" fill=\"#A80036\" rx=\"2\" ry=\"2\" style=\"stroke: #A80036; stroke-width: 1.0;\"/></a><!--MD5=[8d3fbe2fb17d13e18b74cf9687bd2e3b]\n",
       "@startuml\r\n",
       "skinparam wrapWidth 300\r\n",
       "hide circle\r\n",
       "\r\n",
       "package \"ItemTest\" as E1  [[psysml:ae8f2d08-e2f6-41ef-ae81-a483692b435b ]]  {\r\n",
       "comp usage \"f: A \" as E2  <<(T,blue) item>> [[psysml:cbd0bd62-e912-4912-a2fb-da1e68d4f615 ]] {\r\n",
       "}\r\n",
       "comp def \"A\" as E3  <<(T,blue) item  def>> [[psysml:2b189b42-edf1-49d6-a72b-40b548d68a1d ]] {\r\n",
       "}\r\n",
       "comp usage \"b: B \" as E4  <<(T,blue) item>> [[psysml:94aeed99-fa0f-4cf3-9a3c-c07fcd3df143 ]] {\r\n",
       "}\r\n",
       "comp usage \"c: C \" as E5  <<(T,blue) part>> [[psysml:74f7fd5f-8520-4aae-9a17-942775661558 ]] {\r\n",
       "}\r\n",
       "comp def \"<i>B</i>\" as E6  <<(T,blue) item  def>> [[psysml:f1885442-e1dd-46d9-92aa-2427019de9de ]] {\r\n",
       "}\r\n",
       "comp usage \"<i>a</i>: A \" as E7  <<(T,blue) part>> [[psysml:cc0b7000-21b2-4abb-bead-e88feeed0b85 ]] {\r\n",
       "}\r\n",
       "comp def \"C\" as E8  <<(T,blue) part  def>> [[psysml:6db780a5-cf23-40f2-9df9-03150cb096d0 ]] {\r\n",
       "}\r\n",
       "comp def \"P\" as E9  <<(T,blue) port  def>> [[psysml:587854cf-6fe1-483d-a698-c7fca9a0c13c ]] {\r\n",
       "}\r\n",
       "comp usage \"a1: A \" as E10  <<(T,blue) item>> [[psysml:f73739ed-5364-4403-8254-d4f943238dfa ]] {\r\n",
       "}\r\n",
       "comp usage \"a2: A \" as E11  <<(T,blue) item>> [[psysml:6a7a2def-0eff-4194-80a2-af7f6b4a129e ]] {\r\n",
       "}\r\n",
       "}\r\n",
       "E2 - -:|> E3 [[psysml:8851b494-fad9-483d-8771-6e667cb982eb ]] \r\n",
       "E3 o- - \"1\"E4 [[psysml:bbc4490d-4884-4bf2-8394-3cd2641c3130 ]] \r\n",
       "E3 o- - \"1\"E5 [[psysml:896e58a4-3d4e-4523-9980-c4907a158d3f ]] \r\n",
       "E4 - -:|> E6 [[psysml:ae089d5e-98d2-4386-a1f6-d9056ad7f1db ]] \r\n",
       "E6 o- - \"1\"E7 [[psysml:f93e67a1-8e91-4b72-abc4-aff48dcc0ebf ]] \r\n",
       "E7 - -:|> E3 [[psysml:729e96ed-f9a8-4349-a416-61bf2a977bd8 ]] \r\n",
       "E5 - -:|> E8 [[psysml:8b27b07a-ba61-4df4-814a-c4b9eba72255 ]] \r\n",
       "E8 o- - E3 [[psysml:2fa26767-edf9-4f1d-8702-6d0b4fb1afcf ]] : y\r\n",
       "E8 o- - E6 [[psysml:2fa26767-edf9-4f1d-8702-6d0b4fb1afcf ]] : y\r\n",
       "E9 o- - \"1\"E10 [[psysml:2a8d2925-3f72-4e1c-849d-9e3943fa1d15 ]] \r\n",
       "E10 - -:|> E3 [[psysml:be0eb1db-3a2d-4525-bfbd-aed22db095bf ]] \r\n",
       "E9 o- - \"1\"E11 [[psysml:4a4899a0-cca2-49ff-ba55-d15caf476c4f ]] \r\n",
       "E11 - -:|> E3 [[psysml:8ddae6f0-112f-4ded-9c4d-74dd6bca1f55 ]] \r\n",
       "@enduml\r\n",
       "\n",
       "PlantUML version 1.2020.13(Sat Jun 13 12:26:38 UTC 2020)\n",
       "(EPL source distribution)\n",
       "Java Runtime: OpenJDK Runtime Environment\n",
       "JVM: OpenJDK 64-Bit Server VM\n",
       "Default Encoding: UTF-8\n",
       "Language: en\n",
       "Country: null\n",
       "--></g></svg>"
      ]
     },
     "execution_count": 23,
     "metadata": {},
     "output_type": "execute_result"
    }
   ],
   "source": [
    "%viz --style=\"STDCOLOR\" --view=\"Default\" \"ItemTest\""
   ]
  },
  {
   "cell_type": "code",
   "execution_count": 24,
   "id": "2df25884",
   "metadata": {
    "execution": {
     "iopub.execute_input": "2022-08-19T08:17:29.231283Z",
     "iopub.status.busy": "2022-08-19T08:17:29.230828Z",
     "iopub.status.idle": "2022-08-19T08:17:29.276732Z",
     "shell.execute_reply": "2022-08-19T08:17:29.276330Z"
    }
   },
   "outputs": [
    {
     "data": {
      "image/svg+xml": [
       "<?xml version=\"1.0\" encoding=\"UTF-8\" standalone=\"no\"?><svg xmlns=\"http://www.w3.org/2000/svg\" xmlns:xlink=\"http://www.w3.org/1999/xlink\" contentScriptType=\"application/ecmascript\" contentStyleType=\"text/css\" height=\"818px\" preserveAspectRatio=\"none\" style=\"width:270px;height:818px;\" version=\"1.1\" viewBox=\"0 0 270 818\" width=\"270px\" zoomAndPan=\"magnify\"><defs><filter height=\"300%\" id=\"fztikvmmcmhbi\" width=\"300%\" x=\"-1\" y=\"-1\"><feGaussianBlur result=\"blurOut\" stdDeviation=\"2.0\"/><feColorMatrix in=\"blurOut\" result=\"blurOut2\" type=\"matrix\" values=\"0 0 0 0 0 0 0 0 0 0 0 0 0 0 0 0 0 0 .4 0\"/><feOffset dx=\"4.0\" dy=\"4.0\" in=\"blurOut2\" result=\"blurOut3\"/><feBlend in=\"SourceGraphic\" in2=\"blurOut3\" mode=\"normal\"/></filter></defs><g><!--MD5=[fbc87193dbaf4d95561dea2c320d4a47]\n",
       "cluster E1--><a href=\"psysml:ae8f2d08-e2f6-41ef-ae81-a483692b435b\" target=\"_top\" title=\"psysml:ae8f2d08-e2f6-41ef-ae81-a483692b435b\" xlink:actuate=\"onRequest\" xlink:href=\"psysml:ae8f2d08-e2f6-41ef-ae81-a483692b435b\" xlink:show=\"new\" xlink:title=\"psysml:ae8f2d08-e2f6-41ef-ae81-a483692b435b\" xlink:type=\"simple\"><polygon fill=\"#FFFFFF\" filter=\"url(#fztikvmmcmhbi)\" points=\"16,6,83,6,90,28.2969,248,28.2969,248,806,16,806,16,6\" style=\"stroke: #000000; stroke-width: 1.5;\"/><line style=\"stroke: #000000; stroke-width: 1.5;\" x1=\"16\" x2=\"90\" y1=\"28.2969\" y2=\"28.2969\"/><text fill=\"#000000\" font-family=\"sans-serif\" font-size=\"14\" font-weight=\"bold\" lengthAdjust=\"spacingAndGlyphs\" textLength=\"61\" x=\"20\" y=\"20.9951\">ItemTest</text></a><!--MD5=[b4997ac47864f28c2f74865a473b2911]\n",
       "class E2--><a href=\"psysml:cbd0bd62-e912-4912-a2fb-da1e68d4f615\" target=\"_top\" title=\"psysml:cbd0bd62-e912-4912-a2fb-da1e68d4f615\" xlink:actuate=\"onRequest\" xlink:href=\"psysml:cbd0bd62-e912-4912-a2fb-da1e68d4f615\" xlink:show=\"new\" xlink:title=\"psysml:cbd0bd62-e912-4912-a2fb-da1e68d4f615\" xlink:type=\"simple\"><rect fill=\"#FEFECE\" filter=\"url(#fztikvmmcmhbi)\" height=\"45.9375\" id=\"E2\" rx=\"10\" ry=\"10\" style=\"stroke: #A80036; stroke-width: 1.5;\" width=\"43\" x=\"188.5\" y=\"148\"/><text fill=\"#000000\" font-family=\"sans-serif\" font-size=\"12\" font-style=\"italic\" lengthAdjust=\"spacingAndGlyphs\" textLength=\"41\" x=\"189.5\" y=\"164.1387\">«item»</text><text fill=\"#000000\" font-family=\"sans-serif\" font-size=\"12\" lengthAdjust=\"spacingAndGlyphs\" textLength=\"20\" x=\"198\" y=\"178.1074\">f: A</text><line style=\"stroke: #A80036; stroke-width: 1.5;\" x1=\"189.5\" x2=\"230.5\" y1=\"185.9375\" y2=\"185.9375\"/></a><!--MD5=[09b614a08d8cba4a07c9adeb5e0fee81]\n",
       "class E3--><a href=\"psysml:2b189b42-edf1-49d6-a72b-40b548d68a1d\" target=\"_top\" title=\"psysml:2b189b42-edf1-49d6-a72b-40b548d68a1d\" xlink:actuate=\"onRequest\" xlink:href=\"psysml:2b189b42-edf1-49d6-a72b-40b548d68a1d\" xlink:show=\"new\" xlink:title=\"psysml:2b189b42-edf1-49d6-a72b-40b548d68a1d\" xlink:type=\"simple\"><rect fill=\"#FEFECE\" filter=\"url(#fztikvmmcmhbi)\" height=\"45.9375\" id=\"E3\" style=\"stroke: #A80036; stroke-width: 1.5;\" width=\"71\" x=\"96.5\" y=\"255\"/><text fill=\"#000000\" font-family=\"sans-serif\" font-size=\"12\" font-style=\"italic\" lengthAdjust=\"spacingAndGlyphs\" textLength=\"69\" x=\"97.5\" y=\"271.1387\">«item  def»</text><text fill=\"#000000\" font-family=\"sans-serif\" font-size=\"12\" lengthAdjust=\"spacingAndGlyphs\" textLength=\"8\" x=\"128\" y=\"285.1074\">A</text><line style=\"stroke: #A80036; stroke-width: 1.5;\" x1=\"97.5\" x2=\"166.5\" y1=\"292.9375\" y2=\"292.9375\"/></a><!--MD5=[ebbe1d658d1005bcc118a6aa81145e00]\n",
       "class E4--><a href=\"psysml:94aeed99-fa0f-4cf3-9a3c-c07fcd3df143\" target=\"_top\" title=\"psysml:94aeed99-fa0f-4cf3-9a3c-c07fcd3df143\" xlink:actuate=\"onRequest\" xlink:href=\"psysml:94aeed99-fa0f-4cf3-9a3c-c07fcd3df143\" xlink:show=\"new\" xlink:title=\"psysml:94aeed99-fa0f-4cf3-9a3c-c07fcd3df143\" xlink:type=\"simple\"><rect fill=\"#FEFECE\" filter=\"url(#fztikvmmcmhbi)\" height=\"45.9375\" id=\"E4\" rx=\"10\" ry=\"10\" style=\"stroke: #A80036; stroke-width: 1.5;\" width=\"43\" x=\"45.5\" y=\"438\"/><text fill=\"#000000\" font-family=\"sans-serif\" font-size=\"12\" font-style=\"italic\" lengthAdjust=\"spacingAndGlyphs\" textLength=\"41\" x=\"46.5\" y=\"454.1387\">«item»</text><text fill=\"#000000\" font-family=\"sans-serif\" font-size=\"12\" lengthAdjust=\"spacingAndGlyphs\" textLength=\"24\" x=\"53\" y=\"468.1074\">b: B</text><line style=\"stroke: #A80036; stroke-width: 1.5;\" x1=\"46.5\" x2=\"87.5\" y1=\"475.9375\" y2=\"475.9375\"/></a><!--MD5=[270fce915f116d4de14055a7c1d9a0f3]\n",
       "class E5--><a href=\"psysml:74f7fd5f-8520-4aae-9a17-942775661558\" target=\"_top\" title=\"psysml:74f7fd5f-8520-4aae-9a17-942775661558\" xlink:actuate=\"onRequest\" xlink:href=\"psysml:74f7fd5f-8520-4aae-9a17-942775661558\" xlink:show=\"new\" xlink:title=\"psysml:74f7fd5f-8520-4aae-9a17-942775661558\" xlink:type=\"simple\"><rect fill=\"#FEFECE\" filter=\"url(#fztikvmmcmhbi)\" height=\"45.9375\" id=\"E5\" rx=\"10\" ry=\"10\" style=\"stroke: #A80036; stroke-width: 1.5;\" width=\"42\" x=\"151\" y=\"362\"/><text fill=\"#000000\" font-family=\"sans-serif\" font-size=\"12\" font-style=\"italic\" lengthAdjust=\"spacingAndGlyphs\" textLength=\"40\" x=\"152\" y=\"378.1387\">«part»</text><text fill=\"#000000\" font-family=\"sans-serif\" font-size=\"12\" lengthAdjust=\"spacingAndGlyphs\" textLength=\"23\" x=\"158.5\" y=\"392.1074\">c: C</text><line style=\"stroke: #A80036; stroke-width: 1.5;\" x1=\"152\" x2=\"192\" y1=\"399.9375\" y2=\"399.9375\"/></a><!--MD5=[60a26617385b1d2d0262a64233df1f8d]\n",
       "class E6--><a href=\"psysml:f1885442-e1dd-46d9-92aa-2427019de9de\" target=\"_top\" title=\"psysml:f1885442-e1dd-46d9-92aa-2427019de9de\" xlink:actuate=\"onRequest\" xlink:href=\"psysml:f1885442-e1dd-46d9-92aa-2427019de9de\" xlink:show=\"new\" xlink:title=\"psysml:f1885442-e1dd-46d9-92aa-2427019de9de\" xlink:type=\"simple\"><rect fill=\"#FEFECE\" filter=\"url(#fztikvmmcmhbi)\" height=\"45.9375\" id=\"E6\" style=\"stroke: #A80036; stroke-width: 1.5;\" width=\"71\" x=\"112.5\" y=\"637\"/><text fill=\"#000000\" font-family=\"sans-serif\" font-size=\"12\" font-style=\"italic\" lengthAdjust=\"spacingAndGlyphs\" textLength=\"69\" x=\"113.5\" y=\"653.1387\">«item  def»</text><text fill=\"#000000\" font-family=\"sans-serif\" font-size=\"12\" font-style=\"italic\" lengthAdjust=\"spacingAndGlyphs\" textLength=\"8\" x=\"144\" y=\"667.1074\">B</text><line style=\"stroke: #A80036; stroke-width: 1.5;\" x1=\"113.5\" x2=\"182.5\" y1=\"674.9375\" y2=\"674.9375\"/></a><!--MD5=[2156ba9850f5573cc1fc38a6a4b2f02b]\n",
       "class E7--><a href=\"psysml:cc0b7000-21b2-4abb-bead-e88feeed0b85\" target=\"_top\" title=\"psysml:cc0b7000-21b2-4abb-bead-e88feeed0b85\" xlink:actuate=\"onRequest\" xlink:href=\"psysml:cc0b7000-21b2-4abb-bead-e88feeed0b85\" xlink:show=\"new\" xlink:title=\"psysml:cc0b7000-21b2-4abb-bead-e88feeed0b85\" xlink:type=\"simple\"><rect fill=\"#FEFECE\" filter=\"url(#fztikvmmcmhbi)\" height=\"45.9375\" id=\"E7\" rx=\"10\" ry=\"10\" style=\"stroke: #A80036; stroke-width: 1.5;\" width=\"42\" x=\"159\" y=\"744\"/><text fill=\"#000000\" font-family=\"sans-serif\" font-size=\"12\" font-style=\"italic\" lengthAdjust=\"spacingAndGlyphs\" textLength=\"40\" x=\"160\" y=\"760.1387\">«part»</text><text fill=\"#000000\" font-family=\"sans-serif\" font-size=\"12\" font-style=\"italic\" lengthAdjust=\"spacingAndGlyphs\" textLength=\"8\" x=\"166\" y=\"774.1074\">a</text><text fill=\"#000000\" font-family=\"sans-serif\" font-size=\"12\" lengthAdjust=\"spacingAndGlyphs\" textLength=\"16\" x=\"174\" y=\"774.1074\">: A</text><line style=\"stroke: #A80036; stroke-width: 1.5;\" x1=\"160\" x2=\"200\" y1=\"781.9375\" y2=\"781.9375\"/></a><!--MD5=[b9389687b975829384b498ac4b7476b2]\n",
       "class E8--><a href=\"psysml:6db780a5-cf23-40f2-9df9-03150cb096d0\" target=\"_top\" title=\"psysml:6db780a5-cf23-40f2-9df9-03150cb096d0\" xlink:actuate=\"onRequest\" xlink:href=\"psysml:6db780a5-cf23-40f2-9df9-03150cb096d0\" xlink:show=\"new\" xlink:title=\"psysml:6db780a5-cf23-40f2-9df9-03150cb096d0\" xlink:type=\"simple\"><rect fill=\"#FEFECE\" filter=\"url(#fztikvmmcmhbi)\" height=\"45.9375\" id=\"E8\" style=\"stroke: #A80036; stroke-width: 1.5;\" width=\"70\" x=\"113\" y=\"514\"/><text fill=\"#000000\" font-family=\"sans-serif\" font-size=\"12\" font-style=\"italic\" lengthAdjust=\"spacingAndGlyphs\" textLength=\"68\" x=\"114\" y=\"530.1387\">«part  def»</text><text fill=\"#000000\" font-family=\"sans-serif\" font-size=\"12\" lengthAdjust=\"spacingAndGlyphs\" textLength=\"8\" x=\"144\" y=\"544.1074\">C</text><line style=\"stroke: #A80036; stroke-width: 1.5;\" x1=\"114\" x2=\"182\" y1=\"551.9375\" y2=\"551.9375\"/></a><!--MD5=[fd4143e9d270a159db93a4ea2a975926]\n",
       "class E9--><a href=\"psysml:587854cf-6fe1-483d-a698-c7fca9a0c13c\" target=\"_top\" title=\"psysml:587854cf-6fe1-483d-a698-c7fca9a0c13c\" xlink:actuate=\"onRequest\" xlink:href=\"psysml:587854cf-6fe1-483d-a698-c7fca9a0c13c\" xlink:show=\"new\" xlink:title=\"psysml:587854cf-6fe1-483d-a698-c7fca9a0c13c\" xlink:type=\"simple\"><rect fill=\"#FEFECE\" filter=\"url(#fztikvmmcmhbi)\" height=\"45.9375\" id=\"E9\" style=\"stroke: #A80036; stroke-width: 1.5;\" width=\"70\" x=\"64\" y=\"41\"/><text fill=\"#000000\" font-family=\"sans-serif\" font-size=\"12\" font-style=\"italic\" lengthAdjust=\"spacingAndGlyphs\" textLength=\"68\" x=\"65\" y=\"57.1387\">«port  def»</text><text fill=\"#000000\" font-family=\"sans-serif\" font-size=\"12\" lengthAdjust=\"spacingAndGlyphs\" textLength=\"8\" x=\"95\" y=\"71.1074\">P</text><line style=\"stroke: #A80036; stroke-width: 1.5;\" x1=\"65\" x2=\"133\" y1=\"78.9375\" y2=\"78.9375\"/></a><!--MD5=[96f4274e9e20536e775497830990834d]\n",
       "class E10--><a href=\"psysml:f73739ed-5364-4403-8254-d4f943238dfa\" target=\"_top\" title=\"psysml:f73739ed-5364-4403-8254-d4f943238dfa\" xlink:actuate=\"onRequest\" xlink:href=\"psysml:f73739ed-5364-4403-8254-d4f943238dfa\" xlink:show=\"new\" xlink:title=\"psysml:f73739ed-5364-4403-8254-d4f943238dfa\" xlink:type=\"simple\"><rect fill=\"#FEFECE\" filter=\"url(#fztikvmmcmhbi)\" height=\"45.9375\" id=\"E10\" rx=\"10\" ry=\"10\" style=\"stroke: #A80036; stroke-width: 1.5;\" width=\"43\" x=\"32.5\" y=\"148\"/><text fill=\"#000000\" font-family=\"sans-serif\" font-size=\"12\" font-style=\"italic\" lengthAdjust=\"spacingAndGlyphs\" textLength=\"41\" x=\"33.5\" y=\"164.1387\">«item»</text><text fill=\"#000000\" font-family=\"sans-serif\" font-size=\"12\" lengthAdjust=\"spacingAndGlyphs\" textLength=\"32\" x=\"36\" y=\"178.1074\">a1: A</text><line style=\"stroke: #A80036; stroke-width: 1.5;\" x1=\"33.5\" x2=\"74.5\" y1=\"185.9375\" y2=\"185.9375\"/></a><!--MD5=[1dd1bfd58a279cf63c5f349dbc8fc6a1]\n",
       "class E11--><a href=\"psysml:6a7a2def-0eff-4194-80a2-af7f6b4a129e\" target=\"_top\" title=\"psysml:6a7a2def-0eff-4194-80a2-af7f6b4a129e\" xlink:actuate=\"onRequest\" xlink:href=\"psysml:6a7a2def-0eff-4194-80a2-af7f6b4a129e\" xlink:show=\"new\" xlink:title=\"psysml:6a7a2def-0eff-4194-80a2-af7f6b4a129e\" xlink:type=\"simple\"><rect fill=\"#FEFECE\" filter=\"url(#fztikvmmcmhbi)\" height=\"45.9375\" id=\"E11\" rx=\"10\" ry=\"10\" style=\"stroke: #A80036; stroke-width: 1.5;\" width=\"43\" x=\"110.5\" y=\"148\"/><text fill=\"#000000\" font-family=\"sans-serif\" font-size=\"12\" font-style=\"italic\" lengthAdjust=\"spacingAndGlyphs\" textLength=\"41\" x=\"111.5\" y=\"164.1387\">«item»</text><text fill=\"#000000\" font-family=\"sans-serif\" font-size=\"12\" lengthAdjust=\"spacingAndGlyphs\" textLength=\"32\" x=\"114\" y=\"178.1074\">a2: A</text><line style=\"stroke: #A80036; stroke-width: 1.5;\" x1=\"111.5\" x2=\"152.5\" y1=\"185.9375\" y2=\"185.9375\"/></a><!--MD5=[2720a5a1f2c3fca2055b230370638851]\n",
       "link E2 to E3--><a href=\"psysml:8851b494-fad9-483d-8771-6e667cb982eb\" target=\"_top\" title=\"psysml:8851b494-fad9-483d-8771-6e667cb982eb\" xlink:actuate=\"onRequest\" xlink:href=\"psysml:8851b494-fad9-483d-8771-6e667cb982eb\" xlink:show=\"new\" xlink:title=\"psysml:8851b494-fad9-483d-8771-6e667cb982eb\" xlink:type=\"simple\"><path d=\"M193.65,194.01 C184.14,206.81 171.89,223.3 160.82,238.2 \" fill=\"none\" id=\"E2-&gt;E3\" style=\"stroke: #A80036; stroke-width: 1.0;\"/><polygon fill=\"#FFFFFF\" points=\"148.6,254.66,154.3195,235.2361,165.5543,243.5896,148.6,254.66\" style=\"stroke: #A80036; stroke-width: 1.0;\"/><ellipse cx=\"159.3256\" cy=\"231.8554\" fill=\"#A80036\" rx=\"2\" ry=\"2\" style=\"stroke: #A80036; stroke-width: 1.0;\"/><ellipse cx=\"167.3504\" cy=\"237.8221\" fill=\"#A80036\" rx=\"2\" ry=\"2\" style=\"stroke: #A80036; stroke-width: 1.0;\"/></a><!--MD5=[4672eba38e49728da53d11aeb285b987]\n",
       "reverse link E3 to E4--><a href=\"psysml:bbc4490d-4884-4bf2-8394-3cd2641c3130\" target=\"_top\" title=\"psysml:bbc4490d-4884-4bf2-8394-3cd2641c3130\" xlink:actuate=\"onRequest\" xlink:href=\"psysml:bbc4490d-4884-4bf2-8394-3cd2641c3130\" xlink:show=\"new\" xlink:title=\"psysml:bbc4490d-4884-4bf2-8394-3cd2641c3130\" xlink:type=\"simple\"><path d=\"M97.11,310.9 C84.08,325.11 70.81,342.94 64,362 C55.12,386.85 58.09,417.53 61.82,437.88 \" fill=\"none\" id=\"E3&lt;-E4\" style=\"stroke: #A80036; stroke-width: 1.0;\"/><polygon fill=\"#FFFFFF\" points=\"106.46,301.23,99.4153,302.7703,98.1277,309.8655,105.1724,308.3252,106.46,301.23\" style=\"stroke: #A80036; stroke-width: 1.0;\"/><text fill=\"#000000\" font-family=\"sans-serif\" font-size=\"13\" lengthAdjust=\"spacingAndGlyphs\" textLength=\"8\" x=\"51.3529\" y=\"426.744\">1</text></a><!--MD5=[191cde3d490a3f6d7bb551fe3ddca469]\n",
       "reverse link E3 to E5--><a href=\"psysml:896e58a4-3d4e-4523-9980-c4907a158d3f\" target=\"_top\" title=\"psysml:896e58a4-3d4e-4523-9980-c4907a158d3f\" xlink:actuate=\"onRequest\" xlink:href=\"psysml:896e58a4-3d4e-4523-9980-c4907a158d3f\" xlink:show=\"new\" xlink:title=\"psysml:896e58a4-3d4e-4523-9980-c4907a158d3f\" xlink:type=\"simple\"><path d=\"M145.17,313.57 C151.2,329.39 158.16,347.68 163.49,361.66 \" fill=\"none\" id=\"E3&lt;-E5\" style=\"stroke: #A80036; stroke-width: 1.0;\"/><polygon fill=\"#FFFFFF\" points=\"140.39,301.01,138.7866,308.0406,144.6598,312.2247,146.2631,305.1941,140.39,301.01\" style=\"stroke: #A80036; stroke-width: 1.0;\"/><text fill=\"#000000\" font-family=\"sans-serif\" font-size=\"13\" lengthAdjust=\"spacingAndGlyphs\" textLength=\"8\" x=\"152.2843\" y=\"350.8492\">1</text></a><!--MD5=[79568f1e445c3877b6a54524624ccc7d]\n",
       "link E4 to E6--><a href=\"psysml:ae089d5e-98d2-4386-a1f6-d9056ad7f1db\" target=\"_top\" title=\"psysml:ae089d5e-98d2-4386-a1f6-d9056ad7f1db\" xlink:actuate=\"onRequest\" xlink:href=\"psysml:ae089d5e-98d2-4386-a1f6-d9056ad7f1db\" xlink:show=\"new\" xlink:title=\"psysml:ae089d5e-98d2-4386-a1f6-d9056ad7f1db\" xlink:type=\"simple\"><path d=\"M72.25,484.22 C77.31,504.36 85.72,534.68 96,560 C104.15,580.08 115.08,601.47 124.82,619.21 \" fill=\"none\" id=\"E4-&gt;E6\" style=\"stroke: #A80036; stroke-width: 1.0;\"/><polygon fill=\"#FFFFFF\" points=\"134.72,636.8,119.2979,623.6791,131.4967,616.8097,134.72,636.8\" style=\"stroke: #A80036; stroke-width: 1.0;\"/><ellipse cx=\"118.2438\" cy=\"617.7311\" fill=\"#A80036\" rx=\"2\" ry=\"2\" style=\"stroke: #A80036; stroke-width: 1.0;\"/><ellipse cx=\"126.9572\" cy=\"612.8244\" fill=\"#A80036\" rx=\"2\" ry=\"2\" style=\"stroke: #A80036; stroke-width: 1.0;\"/></a><!--MD5=[3f50a3473f1dfb74d3f76443e03635af]\n",
       "reverse link E6 to E7--><a href=\"psysml:f93e67a1-8e91-4b72-abc4-aff48dcc0ebf\" target=\"_top\" title=\"psysml:f93e67a1-8e91-4b72-abc4-aff48dcc0ebf\" xlink:actuate=\"onRequest\" xlink:href=\"psysml:f93e67a1-8e91-4b72-abc4-aff48dcc0ebf\" xlink:show=\"new\" xlink:title=\"psysml:f93e67a1-8e91-4b72-abc4-aff48dcc0ebf\" xlink:type=\"simple\"><path d=\"M158.54,695.57 C163.36,711.39 168.93,729.68 173.19,743.66 \" fill=\"none\" id=\"E6&lt;-E7\" style=\"stroke: #A80036; stroke-width: 1.0;\"/><polygon fill=\"#FFFFFF\" points=\"154.71,683.01,152.6319,689.9152,158.2066,694.4893,160.2847,687.5841,154.71,683.01\" style=\"stroke: #A80036; stroke-width: 1.0;\"/><text fill=\"#000000\" font-family=\"sans-serif\" font-size=\"13\" lengthAdjust=\"spacingAndGlyphs\" textLength=\"8\" x=\"162.4199\" y=\"732.8492\">1</text></a><!--MD5=[14ccda38c055a5c0da953d572bc50960]\n",
       "link E7 to E3--><a href=\"psysml:729e96ed-f9a8-4349-a416-61bf2a977bd8\" target=\"_top\" title=\"psysml:729e96ed-f9a8-4349-a416-61bf2a977bd8\" xlink:actuate=\"onRequest\" xlink:href=\"psysml:729e96ed-f9a8-4349-a416-61bf2a977bd8\" xlink:show=\"new\" xlink:title=\"psysml:729e96ed-f9a8-4349-a416-61bf2a977bd8\" xlink:type=\"simple\"><path d=\"M197.41,743.63 C211.5,723.27 229,691.78 229,661 C229,384 229,384 229,384 C229,353.7 206.93,328.42 183.85,310.26 \" fill=\"none\" id=\"E7-&gt;E3\" style=\"stroke: #A80036; stroke-width: 1.0;\"/><polygon fill=\"#FFFFFF\" points=\"167.57,298.59,187.0929,303.9617,178.9414,315.3438,167.57,298.59\" style=\"stroke: #A80036; stroke-width: 1.0;\"/><ellipse cx=\"190.5626\" cy=\"308.9066\" fill=\"#A80036\" rx=\"2\" ry=\"2\" style=\"stroke: #A80036; stroke-width: 1.0;\"/><ellipse cx=\"184.7401\" cy=\"317.0367\" fill=\"#A80036\" rx=\"2\" ry=\"2\" style=\"stroke: #A80036; stroke-width: 1.0;\"/></a><!--MD5=[dfaffb906826c3e5aca635516100ff21]\n",
       "link E5 to E8--><a href=\"psysml:8b27b07a-ba61-4df4-814a-c4b9eba72255\" target=\"_top\" title=\"psysml:8b27b07a-ba61-4df4-814a-c4b9eba72255\" xlink:actuate=\"onRequest\" xlink:href=\"psysml:8b27b07a-ba61-4df4-814a-c4b9eba72255\" xlink:show=\"new\" xlink:title=\"psysml:8b27b07a-ba61-4df4-814a-c4b9eba72255\" xlink:type=\"simple\"><path d=\"M168.46,408.13 C164.86,430.62 159.2,466.01 154.74,493.87 \" fill=\"none\" id=\"E5-&gt;E8\" style=\"stroke: #A80036; stroke-width: 1.0;\"/><polygon fill=\"#FFFFFF\" points=\"151.56,513.78,147.6458,493.9135,161.4704,496.1226,151.56,513.78\" style=\"stroke: #A80036; stroke-width: 1.0;\"/><ellipse cx=\"150.5202\" cy=\"488.6005\" fill=\"#A80036\" rx=\"2\" ry=\"2\" style=\"stroke: #A80036; stroke-width: 1.0;\"/><ellipse cx=\"160.3949\" cy=\"490.1784\" fill=\"#A80036\" rx=\"2\" ry=\"2\" style=\"stroke: #A80036; stroke-width: 1.0;\"/></a><!--MD5=[03c8294790d3c57651a1993cecff665f]\n",
       "reverse link E8 to E3--><a href=\"psysml:2fa26767-edf9-4f1d-8702-6d0b4fb1afcf\" target=\"_top\" title=\"psysml:2fa26767-edf9-4f1d-8702-6d0b4fb1afcf\" xlink:actuate=\"onRequest\" xlink:href=\"psysml:2fa26767-edf9-4f1d-8702-6d0b4fb1afcf\" xlink:show=\"new\" xlink:title=\"psysml:2fa26767-edf9-4f1d-8702-6d0b4fb1afcf\" xlink:type=\"simple\"><path d=\"M140.02,501.22 C134.57,475.6 127.84,439.84 125,408 C123.18,387.64 124.14,382.43 125,362 C125.87,341.34 127.95,317.86 129.62,301.16 \" fill=\"none\" id=\"E8&lt;-E3\" style=\"stroke: #A80036; stroke-width: 1.0;\"/><polygon fill=\"#FFFFFF\" points=\"142.81,513.96,145.4388,507.2451,140.2515,502.2359,137.6227,508.9508,142.81,513.96\" style=\"stroke: #A80036; stroke-width: 1.0;\"/><text fill=\"#000000\" font-family=\"sans-serif\" font-size=\"13\" lengthAdjust=\"spacingAndGlyphs\" textLength=\"7\" x=\"126\" y=\"389.5669\">y</text></a><!--MD5=[0d75d2178373a6a4568e5dc728f58aef]\n",
       "reverse link E8 to E6--><a href=\"psysml:2fa26767-edf9-4f1d-8702-6d0b4fb1afcf\" target=\"_top\" title=\"psysml:2fa26767-edf9-4f1d-8702-6d0b4fb1afcf\" xlink:actuate=\"onRequest\" xlink:href=\"psysml:2fa26767-edf9-4f1d-8702-6d0b4fb1afcf\" xlink:show=\"new\" xlink:title=\"psysml:2fa26767-edf9-4f1d-8702-6d0b4fb1afcf\" xlink:type=\"simple\"><path d=\"M148,573.22 C148,593.81 148,619.16 148,636.95 \" fill=\"none\" id=\"E8&lt;-E6\" style=\"stroke: #A80036; stroke-width: 1.0;\"/><polygon fill=\"#FFFFFF\" points=\"148,560.19,144,566.19,148,572.19,152,566.19,148,560.19\" style=\"stroke: #A80036; stroke-width: 1.0;\"/><text fill=\"#000000\" font-family=\"sans-serif\" font-size=\"13\" lengthAdjust=\"spacingAndGlyphs\" textLength=\"7\" x=\"149\" y=\"603.0669\">y</text></a><!--MD5=[23ac544a70576c3e717098101004234c]\n",
       "reverse link E9 to E10--><a href=\"psysml:2a8d2925-3f72-4e1c-849d-9e3943fa1d15\" target=\"_top\" title=\"psysml:2a8d2925-3f72-4e1c-849d-9e3943fa1d15\" xlink:actuate=\"onRequest\" xlink:href=\"psysml:2a8d2925-3f72-4e1c-849d-9e3943fa1d15\" xlink:show=\"new\" xlink:title=\"psysml:2a8d2925-3f72-4e1c-849d-9e3943fa1d15\" xlink:type=\"simple\"><path d=\"M84.39,99.1 C77.56,115.03 69.63,133.54 63.58,147.66 \" fill=\"none\" id=\"E9&lt;-E10\" style=\"stroke: #A80036; stroke-width: 1.0;\"/><polygon fill=\"#FFFFFF\" points=\"89.57,87.01,83.5327,90.9535,84.8509,98.0431,90.8882,94.0996,89.57,87.01\" style=\"stroke: #A80036; stroke-width: 1.0;\"/><text fill=\"#000000\" font-family=\"sans-serif\" font-size=\"13\" lengthAdjust=\"spacingAndGlyphs\" textLength=\"8\" x=\"57.0099\" y=\"136.8492\">1</text></a><!--MD5=[feeac5eb423634930294aa81f2d25a4c]\n",
       "link E10 to E3--><a href=\"psysml:be0eb1db-3a2d-4525-bfbd-aed22db095bf\" target=\"_top\" title=\"psysml:be0eb1db-3a2d-4525-bfbd-aed22db095bf\" xlink:actuate=\"onRequest\" xlink:href=\"psysml:be0eb1db-3a2d-4525-bfbd-aed22db095bf\" xlink:show=\"new\" xlink:title=\"psysml:be0eb1db-3a2d-4525-bfbd-aed22db095bf\" xlink:type=\"simple\"><path d=\"M70.35,194.01 C79.86,206.81 92.11,223.3 103.18,238.2 \" fill=\"none\" id=\"E10-&gt;E3\" style=\"stroke: #A80036; stroke-width: 1.0;\"/><polygon fill=\"#FFFFFF\" points=\"115.4,254.66,98.4457,243.5896,109.6805,235.2361,115.4,254.66\" style=\"stroke: #A80036; stroke-width: 1.0;\"/><ellipse cx=\"96.6496\" cy=\"237.8221\" fill=\"#A80036\" rx=\"2\" ry=\"2\" style=\"stroke: #A80036; stroke-width: 1.0;\"/><ellipse cx=\"104.6744\" cy=\"231.8554\" fill=\"#A80036\" rx=\"2\" ry=\"2\" style=\"stroke: #A80036; stroke-width: 1.0;\"/></a><!--MD5=[1fc04a95fd77ad5ce46c1a3027516051]\n",
       "reverse link E9 to E11--><a href=\"psysml:4a4899a0-cca2-49ff-ba55-d15caf476c4f\" target=\"_top\" title=\"psysml:4a4899a0-cca2-49ff-ba55-d15caf476c4f\" xlink:actuate=\"onRequest\" xlink:href=\"psysml:4a4899a0-cca2-49ff-ba55-d15caf476c4f\" xlink:show=\"new\" xlink:title=\"psysml:4a4899a0-cca2-49ff-ba55-d15caf476c4f\" xlink:type=\"simple\"><path d=\"M109.87,99.57 C114.84,115.39 120.59,133.68 124.98,147.66 \" fill=\"none\" id=\"E9&lt;-E11\" style=\"stroke: #A80036; stroke-width: 1.0;\"/><polygon fill=\"#FFFFFF\" points=\"105.92,87.01,103.9044,93.9337,109.5203,98.4572,111.5359,91.5335,105.92,87.01\" style=\"stroke: #A80036; stroke-width: 1.0;\"/><text fill=\"#000000\" font-family=\"sans-serif\" font-size=\"13\" lengthAdjust=\"spacingAndGlyphs\" textLength=\"8\" x=\"114.1561\" y=\"136.8492\">1</text></a><!--MD5=[0517f1ce58c4d5483948f93845c45e26]\n",
       "link E11 to E3--><a href=\"psysml:8ddae6f0-112f-4ded-9c4d-74dd6bca1f55\" target=\"_top\" title=\"psysml:8ddae6f0-112f-4ded-9c4d-74dd6bca1f55\" xlink:actuate=\"onRequest\" xlink:href=\"psysml:8ddae6f0-112f-4ded-9c4d-74dd6bca1f55\" xlink:show=\"new\" xlink:title=\"psysml:8ddae6f0-112f-4ded-9c4d-74dd6bca1f55\" xlink:type=\"simple\"><path d=\"M132,194.01 C132,205.69 132,220.46 132,234.28 \" fill=\"none\" id=\"E11-&gt;E3\" style=\"stroke: #A80036; stroke-width: 1.0;\"/><polygon fill=\"#FFFFFF\" points=\"132,254.66,125,235.66,139,235.66,132,254.66\" style=\"stroke: #A80036; stroke-width: 1.0;\"/><ellipse cx=\"127\" cy=\"229.96\" fill=\"#A80036\" rx=\"2\" ry=\"2\" style=\"stroke: #A80036; stroke-width: 1.0;\"/><ellipse cx=\"137\" cy=\"229.96\" fill=\"#A80036\" rx=\"2\" ry=\"2\" style=\"stroke: #A80036; stroke-width: 1.0;\"/></a><!--MD5=[8d3fbe2fb17d13e18b74cf9687bd2e3b]\n",
       "@startuml\r\n",
       "skinparam wrapWidth 300\r\n",
       "hide circle\r\n",
       "\r\n",
       "package \"ItemTest\" as E1  [[psysml:ae8f2d08-e2f6-41ef-ae81-a483692b435b ]]  {\r\n",
       "comp usage \"f: A \" as E2  <<(T,blue) item>> [[psysml:cbd0bd62-e912-4912-a2fb-da1e68d4f615 ]] {\r\n",
       "}\r\n",
       "comp def \"A\" as E3  <<(T,blue) item  def>> [[psysml:2b189b42-edf1-49d6-a72b-40b548d68a1d ]] {\r\n",
       "}\r\n",
       "comp usage \"b: B \" as E4  <<(T,blue) item>> [[psysml:94aeed99-fa0f-4cf3-9a3c-c07fcd3df143 ]] {\r\n",
       "}\r\n",
       "comp usage \"c: C \" as E5  <<(T,blue) part>> [[psysml:74f7fd5f-8520-4aae-9a17-942775661558 ]] {\r\n",
       "}\r\n",
       "comp def \"<i>B</i>\" as E6  <<(T,blue) item  def>> [[psysml:f1885442-e1dd-46d9-92aa-2427019de9de ]] {\r\n",
       "}\r\n",
       "comp usage \"<i>a</i>: A \" as E7  <<(T,blue) part>> [[psysml:cc0b7000-21b2-4abb-bead-e88feeed0b85 ]] {\r\n",
       "}\r\n",
       "comp def \"C\" as E8  <<(T,blue) part  def>> [[psysml:6db780a5-cf23-40f2-9df9-03150cb096d0 ]] {\r\n",
       "}\r\n",
       "comp def \"P\" as E9  <<(T,blue) port  def>> [[psysml:587854cf-6fe1-483d-a698-c7fca9a0c13c ]] {\r\n",
       "}\r\n",
       "comp usage \"a1: A \" as E10  <<(T,blue) item>> [[psysml:f73739ed-5364-4403-8254-d4f943238dfa ]] {\r\n",
       "}\r\n",
       "comp usage \"a2: A \" as E11  <<(T,blue) item>> [[psysml:6a7a2def-0eff-4194-80a2-af7f6b4a129e ]] {\r\n",
       "}\r\n",
       "}\r\n",
       "E2 - -:|> E3 [[psysml:8851b494-fad9-483d-8771-6e667cb982eb ]] \r\n",
       "E3 o- - \"1\"E4 [[psysml:bbc4490d-4884-4bf2-8394-3cd2641c3130 ]] \r\n",
       "E3 o- - \"1\"E5 [[psysml:896e58a4-3d4e-4523-9980-c4907a158d3f ]] \r\n",
       "E4 - -:|> E6 [[psysml:ae089d5e-98d2-4386-a1f6-d9056ad7f1db ]] \r\n",
       "E6 o- - \"1\"E7 [[psysml:f93e67a1-8e91-4b72-abc4-aff48dcc0ebf ]] \r\n",
       "E7 - -:|> E3 [[psysml:729e96ed-f9a8-4349-a416-61bf2a977bd8 ]] \r\n",
       "E5 - -:|> E8 [[psysml:8b27b07a-ba61-4df4-814a-c4b9eba72255 ]] \r\n",
       "E8 o- - E3 [[psysml:2fa26767-edf9-4f1d-8702-6d0b4fb1afcf ]] : y\r\n",
       "E8 o- - E6 [[psysml:2fa26767-edf9-4f1d-8702-6d0b4fb1afcf ]] : y\r\n",
       "E9 o- - \"1\"E10 [[psysml:2a8d2925-3f72-4e1c-849d-9e3943fa1d15 ]] \r\n",
       "E10 - -:|> E3 [[psysml:be0eb1db-3a2d-4525-bfbd-aed22db095bf ]] \r\n",
       "E9 o- - \"1\"E11 [[psysml:4a4899a0-cca2-49ff-ba55-d15caf476c4f ]] \r\n",
       "E11 - -:|> E3 [[psysml:8ddae6f0-112f-4ded-9c4d-74dd6bca1f55 ]] \r\n",
       "@enduml\r\n",
       "\n",
       "PlantUML version 1.2020.13(Sat Jun 13 12:26:38 UTC 2020)\n",
       "(EPL source distribution)\n",
       "Java Runtime: OpenJDK Runtime Environment\n",
       "JVM: OpenJDK 64-Bit Server VM\n",
       "Default Encoding: UTF-8\n",
       "Language: en\n",
       "Country: null\n",
       "--></g></svg>"
      ]
     },
     "execution_count": 24,
     "metadata": {},
     "output_type": "execute_result"
    }
   ],
   "source": [
    "%viz --style=\"STDCOLOR\" --view=\"Tree\" \"ItemTest\""
   ]
  },
  {
   "cell_type": "code",
   "execution_count": 25,
   "id": "41ea1547",
   "metadata": {
    "execution": {
     "iopub.execute_input": "2022-08-19T08:17:29.326465Z",
     "iopub.status.busy": "2022-08-19T08:17:29.326005Z",
     "iopub.status.idle": "2022-08-19T08:17:29.330313Z",
     "shell.execute_reply": "2022-08-19T08:17:29.330607Z"
    }
   },
   "outputs": [
    {
     "data": {
      "image/svg+xml": [
       "<?xml version=\"1.0\" encoding=\"UTF-8\" standalone=\"no\"?><svg xmlns=\"http://www.w3.org/2000/svg\" xmlns:xlink=\"http://www.w3.org/1999/xlink\" contentScriptType=\"application/ecmascript\" contentStyleType=\"text/css\" height=\"12px\" preserveAspectRatio=\"none\" style=\"width:12px;height:12px;\" version=\"1.1\" viewBox=\"0 0 12 12\" width=\"12px\" zoomAndPan=\"magnify\"><defs/><g><!--MD5=[aeeef50f102b80d730deb6443d14f702]\n",
       "@startuml\r\n",
       "skinparam wrapWidth 300\r\n",
       "hide circle\r\n",
       "\r\n",
       "@enduml\r\n",
       "\n",
       "PlantUML version 1.2020.13(Sat Jun 13 12:26:38 UTC 2020)\n",
       "(EPL source distribution)\n",
       "Java Runtime: OpenJDK Runtime Environment\n",
       "JVM: OpenJDK 64-Bit Server VM\n",
       "Default Encoding: UTF-8\n",
       "Language: en\n",
       "Country: null\n",
       "--></g></svg>"
      ]
     },
     "execution_count": 25,
     "metadata": {},
     "output_type": "execute_result"
    }
   ],
   "source": [
    "%viz --style=\"STDCOLOR\" --view=\"State\" \"ItemTest\""
   ]
  },
  {
   "cell_type": "code",
   "execution_count": 26,
   "id": "3674593f",
   "metadata": {
    "execution": {
     "iopub.execute_input": "2022-08-19T08:17:29.380619Z",
     "iopub.status.busy": "2022-08-19T08:17:29.380172Z",
     "iopub.status.idle": "2022-08-19T08:17:29.412675Z",
     "shell.execute_reply": "2022-08-19T08:17:29.411222Z"
    }
   },
   "outputs": [
    {
     "data": {
      "image/svg+xml": [
       "<?xml version=\"1.0\" encoding=\"UTF-8\" standalone=\"no\"?><svg xmlns=\"http://www.w3.org/2000/svg\" xmlns:xlink=\"http://www.w3.org/1999/xlink\" contentScriptType=\"application/ecmascript\" contentStyleType=\"text/css\" height=\"246px\" preserveAspectRatio=\"none\" style=\"width:483px;height:246px;\" version=\"1.1\" viewBox=\"0 0 483 246\" width=\"483px\" zoomAndPan=\"magnify\"><defs><filter height=\"300%\" id=\"fwv2k7clk38n3\" width=\"300%\" x=\"-1\" y=\"-1\"><feGaussianBlur result=\"blurOut\" stdDeviation=\"2.0\"/><feColorMatrix in=\"blurOut\" result=\"blurOut2\" type=\"matrix\" values=\"0 0 0 0 0 0 0 0 0 0 0 0 0 0 0 0 0 0 .4 0\"/><feOffset dx=\"4.0\" dy=\"4.0\" in=\"blurOut2\" result=\"blurOut3\"/><feBlend in=\"SourceGraphic\" in2=\"blurOut3\" mode=\"normal\"/></filter></defs><g><!--MD5=[fbc87193dbaf4d95561dea2c320d4a47]\n",
       "cluster E1--><a href=\"psysml:ae8f2d08-e2f6-41ef-ae81-a483692b435b\" target=\"_top\" title=\"psysml:ae8f2d08-e2f6-41ef-ae81-a483692b435b\" xlink:actuate=\"onRequest\" xlink:href=\"psysml:ae8f2d08-e2f6-41ef-ae81-a483692b435b\" xlink:show=\"new\" xlink:title=\"psysml:ae8f2d08-e2f6-41ef-ae81-a483692b435b\" xlink:type=\"simple\"><polygon fill=\"#FFFFFF\" filter=\"url(#fwv2k7clk38n3)\" points=\"16,6,83,6,90,28.2969,461,28.2969,461,234,16,234,16,6\" style=\"stroke: #000000; stroke-width: 1.5;\"/><line style=\"stroke: #000000; stroke-width: 1.5;\" x1=\"16\" x2=\"90\" y1=\"28.2969\" y2=\"28.2969\"/><text fill=\"#000000\" font-family=\"sans-serif\" font-size=\"14\" font-weight=\"bold\" lengthAdjust=\"spacingAndGlyphs\" textLength=\"61\" x=\"20\" y=\"20.9951\">ItemTest</text></a><!--MD5=[de5ec2e2e8f62f467e546659f5068c88]\n",
       "cluster E5--><a href=\"psysml:6db780a5-cf23-40f2-9df9-03150cb096d0\" target=\"_top\" title=\"psysml:6db780a5-cf23-40f2-9df9-03150cb096d0\" xlink:actuate=\"onRequest\" xlink:href=\"psysml:6db780a5-cf23-40f2-9df9-03150cb096d0\" xlink:show=\"new\" xlink:title=\"psysml:6db780a5-cf23-40f2-9df9-03150cb096d0\" xlink:type=\"simple\"><rect fill=\"#FFFFFF\" filter=\"url(#fwv2k7clk38n3)\" height=\"110\" id=\"E5\" style=\"stroke: #A80036; stroke-width: 1.5;\" width=\"114\" x=\"323\" y=\"49\"/><rect fill=\"#FEFECE\" height=\"37.9375\" style=\"stroke: #A80036; stroke-width: 1.5;\" width=\"114\" x=\"323\" y=\"49\"/><text fill=\"#000000\" font-family=\"sans-serif\" font-size=\"12\" font-style=\"italic\" lengthAdjust=\"spacingAndGlyphs\" textLength=\"68\" x=\"346\" y=\"65.1387\">«part  def»</text><text fill=\"#000000\" font-family=\"sans-serif\" font-size=\"12\" lengthAdjust=\"spacingAndGlyphs\" textLength=\"8\" x=\"376\" y=\"79.1074\">C</text></a><g id=\"E1.E3\"><a href=\"psysml:2b189b42-edf1-49d6-a72b-40b548d68a1d\" target=\"_top\" title=\"psysml:2b189b42-edf1-49d6-a72b-40b548d68a1d\" xlink:actuate=\"onRequest\" xlink:href=\"psysml:2b189b42-edf1-49d6-a72b-40b548d68a1d\" xlink:show=\"new\" xlink:title=\"psysml:2b189b42-edf1-49d6-a72b-40b548d68a1d\" xlink:type=\"simple\"><rect fill=\"#FEFECE\" filter=\"url(#fwv2k7clk38n3)\" height=\"42.9375\" id=\"E3\" style=\"stroke: #A80036; stroke-width: 1.5;\" width=\"76\" x=\"32\" y=\"175\"/><text fill=\"#000000\" font-family=\"sans-serif\" font-size=\"12\" font-style=\"italic\" lengthAdjust=\"spacingAndGlyphs\" textLength=\"69\" x=\"35.5\" y=\"191.1387\">«item  def»</text><text fill=\"#000000\" font-family=\"sans-serif\" font-size=\"12\" lengthAdjust=\"spacingAndGlyphs\" textLength=\"8\" x=\"66\" y=\"205.1074\">A</text></a></g><g id=\"E1.E4\"><a href=\"psysml:f1885442-e1dd-46d9-92aa-2427019de9de\" target=\"_top\" title=\"psysml:f1885442-e1dd-46d9-92aa-2427019de9de\" xlink:actuate=\"onRequest\" xlink:href=\"psysml:f1885442-e1dd-46d9-92aa-2427019de9de\" xlink:show=\"new\" xlink:title=\"psysml:f1885442-e1dd-46d9-92aa-2427019de9de\" xlink:type=\"simple\"><rect fill=\"#FEFECE\" filter=\"url(#fwv2k7clk38n3)\" height=\"42.9375\" id=\"E4\" style=\"stroke: #A80036; stroke-width: 1.5;\" width=\"76\" x=\"228\" y=\"100\"/><text fill=\"#000000\" font-family=\"sans-serif\" font-size=\"12\" font-style=\"italic\" lengthAdjust=\"spacingAndGlyphs\" textLength=\"69\" x=\"231.5\" y=\"116.1387\">«item  def»</text><text fill=\"#000000\" font-family=\"sans-serif\" font-size=\"12\" font-style=\"italic\" lengthAdjust=\"spacingAndGlyphs\" textLength=\"8\" x=\"262\" y=\"130.1074\">B</text></a></g><g id=\"E1.E7\"><a href=\"psysml:587854cf-6fe1-483d-a698-c7fca9a0c13c\" target=\"_top\" title=\"psysml:587854cf-6fe1-483d-a698-c7fca9a0c13c\" xlink:actuate=\"onRequest\" xlink:href=\"psysml:587854cf-6fe1-483d-a698-c7fca9a0c13c\" xlink:show=\"new\" xlink:title=\"psysml:587854cf-6fe1-483d-a698-c7fca9a0c13c\" xlink:type=\"simple\"><rect fill=\"#FEFECE\" filter=\"url(#fwv2k7clk38n3)\" height=\"42.9375\" id=\"E7\" style=\"stroke: #A80036; stroke-width: 1.5;\" width=\"75\" x=\"117.5\" y=\"100\"/><text fill=\"#000000\" font-family=\"sans-serif\" font-size=\"12\" font-style=\"italic\" lengthAdjust=\"spacingAndGlyphs\" textLength=\"68\" x=\"121\" y=\"116.1387\">«port  def»</text><text fill=\"#000000\" font-family=\"sans-serif\" font-size=\"12\" lengthAdjust=\"spacingAndGlyphs\" textLength=\"8\" x=\"151\" y=\"130.1074\">P</text></a></g><g id=\"E1.E2\"><a href=\"psysml:cbd0bd62-e912-4912-a2fb-da1e68d4f615\" target=\"_top\" title=\"psysml:cbd0bd62-e912-4912-a2fb-da1e68d4f615\" xlink:actuate=\"onRequest\" xlink:href=\"psysml:cbd0bd62-e912-4912-a2fb-da1e68d4f615\" xlink:show=\"new\" xlink:title=\"psysml:cbd0bd62-e912-4912-a2fb-da1e68d4f615\" xlink:type=\"simple\"><rect fill=\"#FEFECE\" filter=\"url(#fwv2k7clk38n3)\" height=\"42.9375\" id=\"E2\" rx=\"10\" ry=\"10\" style=\"stroke: #A80036; stroke-width: 1.5;\" width=\"50\" x=\"32\" y=\"100\"/><text fill=\"#000000\" font-family=\"sans-serif\" font-size=\"12\" font-style=\"italic\" lengthAdjust=\"spacingAndGlyphs\" textLength=\"41\" x=\"36.5\" y=\"116.1387\">«item»</text><text fill=\"#000000\" font-family=\"sans-serif\" font-size=\"12\" lengthAdjust=\"spacingAndGlyphs\" textLength=\"20\" x=\"47\" y=\"130.1074\">f: A</text></a></g><g id=\"E1.E5.E6\"><a href=\"psysml:2fa26767-edf9-4f1d-8702-6d0b4fb1afcf\" target=\"_top\" title=\"psysml:2fa26767-edf9-4f1d-8702-6d0b4fb1afcf\" xlink:actuate=\"onRequest\" xlink:href=\"psysml:2fa26767-edf9-4f1d-8702-6d0b4fb1afcf\" xlink:show=\"new\" xlink:title=\"psysml:2fa26767-edf9-4f1d-8702-6d0b4fb1afcf\" xlink:type=\"simple\"><rect fill=\"#FEFECE\" filter=\"url(#fwv2k7clk38n3)\" height=\"42.9375\" id=\"E6\" rx=\"10\" ry=\"10\" style=\"stroke: #A80036; stroke-width: 1.5;\" width=\"82\" x=\"339\" y=\"100\"/><text fill=\"#000000\" font-family=\"sans-serif\" font-size=\"12\" font-style=\"italic\" lengthAdjust=\"spacingAndGlyphs\" textLength=\"75\" x=\"342.5\" y=\"116.1387\">«reference»</text><text fill=\"#000000\" font-family=\"sans-serif\" font-size=\"12\" lengthAdjust=\"spacingAndGlyphs\" textLength=\"38\" x=\"359\" y=\"130.1074\">y: A, B</text></a></g><!--MD5=[2720a5a1f2c3fca2055b230370638851]\n",
       "link E2 to E3--><a href=\"psysml:8851b494-fad9-483d-8771-6e667cb982eb\" target=\"_top\" title=\"psysml:8851b494-fad9-483d-8771-6e667cb982eb\" xlink:actuate=\"onRequest\" xlink:href=\"psysml:8851b494-fad9-483d-8771-6e667cb982eb\" xlink:show=\"new\" xlink:title=\"psysml:8851b494-fad9-483d-8771-6e667cb982eb\" xlink:type=\"simple\"><path d=\"M60.69,143.22 C61.37,147.03 62.1,151.12 62.84,155.28 \" fill=\"none\" id=\"E2-&gt;E3\" style=\"stroke: #A80036; stroke-width: 1.0;\"/><polygon fill=\"#FFFFFF\" points=\"66.35,174.98,56.1322,157.4987,69.916,155.048,66.35,174.98\" style=\"stroke: #A80036; stroke-width: 1.0;\"/><ellipse cx=\"57.1035\" cy=\"151.5366\" fill=\"#A80036\" rx=\"2\" ry=\"2\" style=\"stroke: #A80036; stroke-width: 1.0;\"/><ellipse cx=\"66.9491\" cy=\"149.7861\" fill=\"#A80036\" rx=\"2\" ry=\"2\" style=\"stroke: #A80036; stroke-width: 1.0;\"/></a><!--MD5=[b9b6e08af9618a6af70cdf62960e0446]\n",
       "@startuml\r\n",
       "skinparam ranksep 10\r\n",
       "skinparam rectangle {\r\n",
       " backgroundColor<<block>> LightGreen\r\n",
       "}\r\n",
       "skinparam wrapWidth 300\r\n",
       "hide circle\r\n",
       "\r\n",
       "package \"ItemTest\" as E1  [[psysml:ae8f2d08-e2f6-41ef-ae81-a483692b435b ]]  {\r\n",
       "rec usage \"f: A\" as E2  <<(T,blue) item>> [[psysml:cbd0bd62-e912-4912-a2fb-da1e68d4f615 ]] {\r\n",
       "}\r\n",
       "def \"A\" as E3  <<(T,blue) item  def>> [[psysml:2b189b42-edf1-49d6-a72b-40b548d68a1d ]] \r\n",
       "def \"<i>B</i>\" as E4  <<(T,blue) item  def>> [[psysml:f1885442-e1dd-46d9-92aa-2427019de9de ]] \r\n",
       "rec def \"C\" as E5  <<(T,blue) part  def>> [[psysml:6db780a5-cf23-40f2-9df9-03150cb096d0 ]] {\r\n",
       "rec usage \"y: A, B \" as E6  <<(T,blue) reference>> [[psysml:2fa26767-edf9-4f1d-8702-6d0b4fb1afcf ]] {\r\n",
       "}\r\n",
       "\r\n",
       "}\r\n",
       "def \"P\" as E7  <<(T,blue) port  def>> [[psysml:587854cf-6fe1-483d-a698-c7fca9a0c13c ]] \r\n",
       "}\r\n",
       "E2 - -:|> E3 [[psysml:8851b494-fad9-483d-8771-6e667cb982eb ]] \r\n",
       "@enduml\r\n",
       "\n",
       "PlantUML version 1.2020.13(Sat Jun 13 12:26:38 UTC 2020)\n",
       "(EPL source distribution)\n",
       "Java Runtime: OpenJDK Runtime Environment\n",
       "JVM: OpenJDK 64-Bit Server VM\n",
       "Default Encoding: UTF-8\n",
       "Language: en\n",
       "Country: null\n",
       "--></g></svg>"
      ]
     },
     "execution_count": 26,
     "metadata": {},
     "output_type": "execute_result"
    }
   ],
   "source": [
    "%viz --style=\"STDCOLOR\" --view=\"Interconnection\" \"ItemTest\""
   ]
  },
  {
   "cell_type": "code",
   "execution_count": 27,
   "id": "c630355a",
   "metadata": {
    "execution": {
     "iopub.execute_input": "2022-08-19T08:17:29.462155Z",
     "iopub.status.busy": "2022-08-19T08:17:29.461708Z",
     "iopub.status.idle": "2022-08-19T08:17:29.466058Z",
     "shell.execute_reply": "2022-08-19T08:17:29.466378Z"
    }
   },
   "outputs": [
    {
     "data": {
      "image/svg+xml": [
       "<?xml version=\"1.0\" encoding=\"UTF-8\" standalone=\"no\"?><svg xmlns=\"http://www.w3.org/2000/svg\" xmlns:xlink=\"http://www.w3.org/1999/xlink\" contentScriptType=\"application/ecmascript\" contentStyleType=\"text/css\" height=\"12px\" preserveAspectRatio=\"none\" style=\"width:12px;height:12px;\" version=\"1.1\" viewBox=\"0 0 12 12\" width=\"12px\" zoomAndPan=\"magnify\"><defs/><g><!--MD5=[9863325348a96a77dacc89509d8ee65e]\n",
       "@startuml\r\n",
       "skinparam ranksep 8\r\n",
       "skinparam wrapWidth 300\r\n",
       "hide circle\r\n",
       "\r\n",
       "@enduml\r\n",
       "\n",
       "PlantUML version 1.2020.13(Sat Jun 13 12:26:38 UTC 2020)\n",
       "(EPL source distribution)\n",
       "Java Runtime: OpenJDK Runtime Environment\n",
       "JVM: OpenJDK 64-Bit Server VM\n",
       "Default Encoding: UTF-8\n",
       "Language: en\n",
       "Country: null\n",
       "--></g></svg>"
      ]
     },
     "execution_count": 27,
     "metadata": {},
     "output_type": "execute_result"
    }
   ],
   "source": [
    "%viz --style=\"STDCOLOR\" --view=\"Action\" \"ItemTest\""
   ]
  },
  {
   "cell_type": "code",
   "execution_count": 28,
   "id": "97bfdf50",
   "metadata": {
    "execution": {
     "iopub.execute_input": "2022-08-19T08:17:29.516394Z",
     "iopub.status.busy": "2022-08-19T08:17:29.515949Z",
     "iopub.status.idle": "2022-08-19T08:17:29.520675Z",
     "shell.execute_reply": "2022-08-19T08:17:29.521005Z"
    }
   },
   "outputs": [
    {
     "data": {
      "image/svg+xml": [
       "<?xml version=\"1.0\" encoding=\"UTF-8\" standalone=\"no\"?><svg xmlns=\"http://www.w3.org/2000/svg\" xmlns:xlink=\"http://www.w3.org/1999/xlink\" contentScriptType=\"application/ecmascript\" contentStyleType=\"text/css\" height=\"12px\" preserveAspectRatio=\"none\" style=\"width:12px;height:12px;\" version=\"1.1\" viewBox=\"0 0 12 12\" width=\"12px\" zoomAndPan=\"magnify\"><defs/><g><!--MD5=[6c4bca67b4d71758159a5a7f1f1e1fc2]\n",
       "@startuml\r\n",
       "skinparam roundcorner 20\r\n",
       "skinparam BoxPadding 20\r\n",
       "skinparam SequenceBoxBackgroundColor #white\r\n",
       "skinparam style strictuml\r\n",
       "skinparam maxMessageSize 100\r\n",
       "skinparam wrapWidth 300\r\n",
       "hide circle\r\n",
       "\r\n",
       "@enduml\r\n",
       "\n",
       "PlantUML version 1.2020.13(Sat Jun 13 12:26:38 UTC 2020)\n",
       "(EPL source distribution)\n",
       "Java Runtime: OpenJDK Runtime Environment\n",
       "JVM: OpenJDK 64-Bit Server VM\n",
       "Default Encoding: UTF-8\n",
       "Language: en\n",
       "Country: null\n",
       "--></g></svg>"
      ]
     },
     "execution_count": 28,
     "metadata": {},
     "output_type": "execute_result"
    }
   ],
   "source": [
    "%viz --style=\"STDCOLOR\" --view=\"Sequence\" \"ItemTest\""
   ]
  },
  {
   "cell_type": "code",
   "execution_count": 29,
   "id": "9b2fca1e",
   "metadata": {
    "execution": {
     "iopub.execute_input": "2022-08-19T08:17:29.570946Z",
     "iopub.status.busy": "2022-08-19T08:17:29.570499Z",
     "iopub.status.idle": "2022-08-19T08:17:29.615517Z",
     "shell.execute_reply": "2022-08-19T08:17:29.615112Z"
    }
   },
   "outputs": [
    {
     "data": {
      "image/svg+xml": [
       "<?xml version=\"1.0\" encoding=\"UTF-8\" standalone=\"no\"?><svg xmlns=\"http://www.w3.org/2000/svg\" xmlns:xlink=\"http://www.w3.org/1999/xlink\" contentScriptType=\"application/ecmascript\" contentStyleType=\"text/css\" height=\"818px\" preserveAspectRatio=\"none\" style=\"width:270px;height:818px;\" version=\"1.1\" viewBox=\"0 0 270 818\" width=\"270px\" zoomAndPan=\"magnify\"><defs><filter height=\"300%\" id=\"fztikvmmcmhbi\" width=\"300%\" x=\"-1\" y=\"-1\"><feGaussianBlur result=\"blurOut\" stdDeviation=\"2.0\"/><feColorMatrix in=\"blurOut\" result=\"blurOut2\" type=\"matrix\" values=\"0 0 0 0 0 0 0 0 0 0 0 0 0 0 0 0 0 0 .4 0\"/><feOffset dx=\"4.0\" dy=\"4.0\" in=\"blurOut2\" result=\"blurOut3\"/><feBlend in=\"SourceGraphic\" in2=\"blurOut3\" mode=\"normal\"/></filter></defs><g><!--MD5=[fbc87193dbaf4d95561dea2c320d4a47]\n",
       "cluster E1--><a href=\"psysml:ae8f2d08-e2f6-41ef-ae81-a483692b435b\" target=\"_top\" title=\"psysml:ae8f2d08-e2f6-41ef-ae81-a483692b435b\" xlink:actuate=\"onRequest\" xlink:href=\"psysml:ae8f2d08-e2f6-41ef-ae81-a483692b435b\" xlink:show=\"new\" xlink:title=\"psysml:ae8f2d08-e2f6-41ef-ae81-a483692b435b\" xlink:type=\"simple\"><polygon fill=\"#FFFFFF\" filter=\"url(#fztikvmmcmhbi)\" points=\"16,6,83,6,90,28.2969,248,28.2969,248,806,16,806,16,6\" style=\"stroke: #000000; stroke-width: 1.5;\"/><line style=\"stroke: #000000; stroke-width: 1.5;\" x1=\"16\" x2=\"90\" y1=\"28.2969\" y2=\"28.2969\"/><text fill=\"#000000\" font-family=\"sans-serif\" font-size=\"14\" font-weight=\"bold\" lengthAdjust=\"spacingAndGlyphs\" textLength=\"61\" x=\"20\" y=\"20.9951\">ItemTest</text></a><!--MD5=[b4997ac47864f28c2f74865a473b2911]\n",
       "class E2--><a href=\"psysml:cbd0bd62-e912-4912-a2fb-da1e68d4f615\" target=\"_top\" title=\"psysml:cbd0bd62-e912-4912-a2fb-da1e68d4f615\" xlink:actuate=\"onRequest\" xlink:href=\"psysml:cbd0bd62-e912-4912-a2fb-da1e68d4f615\" xlink:show=\"new\" xlink:title=\"psysml:cbd0bd62-e912-4912-a2fb-da1e68d4f615\" xlink:type=\"simple\"><rect fill=\"#FEFECE\" filter=\"url(#fztikvmmcmhbi)\" height=\"45.9375\" id=\"E2\" rx=\"10\" ry=\"10\" style=\"stroke: #A80036; stroke-width: 1.5;\" width=\"43\" x=\"188.5\" y=\"148\"/><text fill=\"#000000\" font-family=\"sans-serif\" font-size=\"12\" font-style=\"italic\" lengthAdjust=\"spacingAndGlyphs\" textLength=\"41\" x=\"189.5\" y=\"164.1387\">«item»</text><text fill=\"#000000\" font-family=\"sans-serif\" font-size=\"12\" lengthAdjust=\"spacingAndGlyphs\" textLength=\"20\" x=\"198\" y=\"178.1074\">f: A</text><line style=\"stroke: #A80036; stroke-width: 1.5;\" x1=\"189.5\" x2=\"230.5\" y1=\"185.9375\" y2=\"185.9375\"/></a><!--MD5=[09b614a08d8cba4a07c9adeb5e0fee81]\n",
       "class E3--><a href=\"psysml:2b189b42-edf1-49d6-a72b-40b548d68a1d\" target=\"_top\" title=\"psysml:2b189b42-edf1-49d6-a72b-40b548d68a1d\" xlink:actuate=\"onRequest\" xlink:href=\"psysml:2b189b42-edf1-49d6-a72b-40b548d68a1d\" xlink:show=\"new\" xlink:title=\"psysml:2b189b42-edf1-49d6-a72b-40b548d68a1d\" xlink:type=\"simple\"><rect fill=\"#FEFECE\" filter=\"url(#fztikvmmcmhbi)\" height=\"45.9375\" id=\"E3\" style=\"stroke: #A80036; stroke-width: 1.5;\" width=\"71\" x=\"96.5\" y=\"255\"/><text fill=\"#000000\" font-family=\"sans-serif\" font-size=\"12\" font-style=\"italic\" lengthAdjust=\"spacingAndGlyphs\" textLength=\"69\" x=\"97.5\" y=\"271.1387\">«item  def»</text><text fill=\"#000000\" font-family=\"sans-serif\" font-size=\"12\" lengthAdjust=\"spacingAndGlyphs\" textLength=\"8\" x=\"128\" y=\"285.1074\">A</text><line style=\"stroke: #A80036; stroke-width: 1.5;\" x1=\"97.5\" x2=\"166.5\" y1=\"292.9375\" y2=\"292.9375\"/></a><!--MD5=[ebbe1d658d1005bcc118a6aa81145e00]\n",
       "class E4--><a href=\"psysml:94aeed99-fa0f-4cf3-9a3c-c07fcd3df143\" target=\"_top\" title=\"psysml:94aeed99-fa0f-4cf3-9a3c-c07fcd3df143\" xlink:actuate=\"onRequest\" xlink:href=\"psysml:94aeed99-fa0f-4cf3-9a3c-c07fcd3df143\" xlink:show=\"new\" xlink:title=\"psysml:94aeed99-fa0f-4cf3-9a3c-c07fcd3df143\" xlink:type=\"simple\"><rect fill=\"#FEFECE\" filter=\"url(#fztikvmmcmhbi)\" height=\"45.9375\" id=\"E4\" rx=\"10\" ry=\"10\" style=\"stroke: #A80036; stroke-width: 1.5;\" width=\"43\" x=\"45.5\" y=\"438\"/><text fill=\"#000000\" font-family=\"sans-serif\" font-size=\"12\" font-style=\"italic\" lengthAdjust=\"spacingAndGlyphs\" textLength=\"41\" x=\"46.5\" y=\"454.1387\">«item»</text><text fill=\"#000000\" font-family=\"sans-serif\" font-size=\"12\" lengthAdjust=\"spacingAndGlyphs\" textLength=\"24\" x=\"53\" y=\"468.1074\">b: B</text><line style=\"stroke: #A80036; stroke-width: 1.5;\" x1=\"46.5\" x2=\"87.5\" y1=\"475.9375\" y2=\"475.9375\"/></a><!--MD5=[270fce915f116d4de14055a7c1d9a0f3]\n",
       "class E5--><a href=\"psysml:74f7fd5f-8520-4aae-9a17-942775661558\" target=\"_top\" title=\"psysml:74f7fd5f-8520-4aae-9a17-942775661558\" xlink:actuate=\"onRequest\" xlink:href=\"psysml:74f7fd5f-8520-4aae-9a17-942775661558\" xlink:show=\"new\" xlink:title=\"psysml:74f7fd5f-8520-4aae-9a17-942775661558\" xlink:type=\"simple\"><rect fill=\"#FEFECE\" filter=\"url(#fztikvmmcmhbi)\" height=\"45.9375\" id=\"E5\" rx=\"10\" ry=\"10\" style=\"stroke: #A80036; stroke-width: 1.5;\" width=\"42\" x=\"151\" y=\"362\"/><text fill=\"#000000\" font-family=\"sans-serif\" font-size=\"12\" font-style=\"italic\" lengthAdjust=\"spacingAndGlyphs\" textLength=\"40\" x=\"152\" y=\"378.1387\">«part»</text><text fill=\"#000000\" font-family=\"sans-serif\" font-size=\"12\" lengthAdjust=\"spacingAndGlyphs\" textLength=\"23\" x=\"158.5\" y=\"392.1074\">c: C</text><line style=\"stroke: #A80036; stroke-width: 1.5;\" x1=\"152\" x2=\"192\" y1=\"399.9375\" y2=\"399.9375\"/></a><!--MD5=[60a26617385b1d2d0262a64233df1f8d]\n",
       "class E6--><a href=\"psysml:f1885442-e1dd-46d9-92aa-2427019de9de\" target=\"_top\" title=\"psysml:f1885442-e1dd-46d9-92aa-2427019de9de\" xlink:actuate=\"onRequest\" xlink:href=\"psysml:f1885442-e1dd-46d9-92aa-2427019de9de\" xlink:show=\"new\" xlink:title=\"psysml:f1885442-e1dd-46d9-92aa-2427019de9de\" xlink:type=\"simple\"><rect fill=\"#FEFECE\" filter=\"url(#fztikvmmcmhbi)\" height=\"45.9375\" id=\"E6\" style=\"stroke: #A80036; stroke-width: 1.5;\" width=\"71\" x=\"112.5\" y=\"637\"/><text fill=\"#000000\" font-family=\"sans-serif\" font-size=\"12\" font-style=\"italic\" lengthAdjust=\"spacingAndGlyphs\" textLength=\"69\" x=\"113.5\" y=\"653.1387\">«item  def»</text><text fill=\"#000000\" font-family=\"sans-serif\" font-size=\"12\" font-style=\"italic\" lengthAdjust=\"spacingAndGlyphs\" textLength=\"8\" x=\"144\" y=\"667.1074\">B</text><line style=\"stroke: #A80036; stroke-width: 1.5;\" x1=\"113.5\" x2=\"182.5\" y1=\"674.9375\" y2=\"674.9375\"/></a><!--MD5=[2156ba9850f5573cc1fc38a6a4b2f02b]\n",
       "class E7--><a href=\"psysml:cc0b7000-21b2-4abb-bead-e88feeed0b85\" target=\"_top\" title=\"psysml:cc0b7000-21b2-4abb-bead-e88feeed0b85\" xlink:actuate=\"onRequest\" xlink:href=\"psysml:cc0b7000-21b2-4abb-bead-e88feeed0b85\" xlink:show=\"new\" xlink:title=\"psysml:cc0b7000-21b2-4abb-bead-e88feeed0b85\" xlink:type=\"simple\"><rect fill=\"#FEFECE\" filter=\"url(#fztikvmmcmhbi)\" height=\"45.9375\" id=\"E7\" rx=\"10\" ry=\"10\" style=\"stroke: #A80036; stroke-width: 1.5;\" width=\"42\" x=\"159\" y=\"744\"/><text fill=\"#000000\" font-family=\"sans-serif\" font-size=\"12\" font-style=\"italic\" lengthAdjust=\"spacingAndGlyphs\" textLength=\"40\" x=\"160\" y=\"760.1387\">«part»</text><text fill=\"#000000\" font-family=\"sans-serif\" font-size=\"12\" font-style=\"italic\" lengthAdjust=\"spacingAndGlyphs\" textLength=\"8\" x=\"166\" y=\"774.1074\">a</text><text fill=\"#000000\" font-family=\"sans-serif\" font-size=\"12\" lengthAdjust=\"spacingAndGlyphs\" textLength=\"16\" x=\"174\" y=\"774.1074\">: A</text><line style=\"stroke: #A80036; stroke-width: 1.5;\" x1=\"160\" x2=\"200\" y1=\"781.9375\" y2=\"781.9375\"/></a><!--MD5=[b9389687b975829384b498ac4b7476b2]\n",
       "class E8--><a href=\"psysml:6db780a5-cf23-40f2-9df9-03150cb096d0\" target=\"_top\" title=\"psysml:6db780a5-cf23-40f2-9df9-03150cb096d0\" xlink:actuate=\"onRequest\" xlink:href=\"psysml:6db780a5-cf23-40f2-9df9-03150cb096d0\" xlink:show=\"new\" xlink:title=\"psysml:6db780a5-cf23-40f2-9df9-03150cb096d0\" xlink:type=\"simple\"><rect fill=\"#FEFECE\" filter=\"url(#fztikvmmcmhbi)\" height=\"45.9375\" id=\"E8\" style=\"stroke: #A80036; stroke-width: 1.5;\" width=\"70\" x=\"113\" y=\"514\"/><text fill=\"#000000\" font-family=\"sans-serif\" font-size=\"12\" font-style=\"italic\" lengthAdjust=\"spacingAndGlyphs\" textLength=\"68\" x=\"114\" y=\"530.1387\">«part  def»</text><text fill=\"#000000\" font-family=\"sans-serif\" font-size=\"12\" lengthAdjust=\"spacingAndGlyphs\" textLength=\"8\" x=\"144\" y=\"544.1074\">C</text><line style=\"stroke: #A80036; stroke-width: 1.5;\" x1=\"114\" x2=\"182\" y1=\"551.9375\" y2=\"551.9375\"/></a><!--MD5=[fd4143e9d270a159db93a4ea2a975926]\n",
       "class E9--><a href=\"psysml:587854cf-6fe1-483d-a698-c7fca9a0c13c\" target=\"_top\" title=\"psysml:587854cf-6fe1-483d-a698-c7fca9a0c13c\" xlink:actuate=\"onRequest\" xlink:href=\"psysml:587854cf-6fe1-483d-a698-c7fca9a0c13c\" xlink:show=\"new\" xlink:title=\"psysml:587854cf-6fe1-483d-a698-c7fca9a0c13c\" xlink:type=\"simple\"><rect fill=\"#FEFECE\" filter=\"url(#fztikvmmcmhbi)\" height=\"45.9375\" id=\"E9\" style=\"stroke: #A80036; stroke-width: 1.5;\" width=\"70\" x=\"64\" y=\"41\"/><text fill=\"#000000\" font-family=\"sans-serif\" font-size=\"12\" font-style=\"italic\" lengthAdjust=\"spacingAndGlyphs\" textLength=\"68\" x=\"65\" y=\"57.1387\">«port  def»</text><text fill=\"#000000\" font-family=\"sans-serif\" font-size=\"12\" lengthAdjust=\"spacingAndGlyphs\" textLength=\"8\" x=\"95\" y=\"71.1074\">P</text><line style=\"stroke: #A80036; stroke-width: 1.5;\" x1=\"65\" x2=\"133\" y1=\"78.9375\" y2=\"78.9375\"/></a><!--MD5=[96f4274e9e20536e775497830990834d]\n",
       "class E10--><a href=\"psysml:f73739ed-5364-4403-8254-d4f943238dfa\" target=\"_top\" title=\"psysml:f73739ed-5364-4403-8254-d4f943238dfa\" xlink:actuate=\"onRequest\" xlink:href=\"psysml:f73739ed-5364-4403-8254-d4f943238dfa\" xlink:show=\"new\" xlink:title=\"psysml:f73739ed-5364-4403-8254-d4f943238dfa\" xlink:type=\"simple\"><rect fill=\"#FEFECE\" filter=\"url(#fztikvmmcmhbi)\" height=\"45.9375\" id=\"E10\" rx=\"10\" ry=\"10\" style=\"stroke: #A80036; stroke-width: 1.5;\" width=\"43\" x=\"32.5\" y=\"148\"/><text fill=\"#000000\" font-family=\"sans-serif\" font-size=\"12\" font-style=\"italic\" lengthAdjust=\"spacingAndGlyphs\" textLength=\"41\" x=\"33.5\" y=\"164.1387\">«item»</text><text fill=\"#000000\" font-family=\"sans-serif\" font-size=\"12\" lengthAdjust=\"spacingAndGlyphs\" textLength=\"32\" x=\"36\" y=\"178.1074\">a1: A</text><line style=\"stroke: #A80036; stroke-width: 1.5;\" x1=\"33.5\" x2=\"74.5\" y1=\"185.9375\" y2=\"185.9375\"/></a><!--MD5=[1dd1bfd58a279cf63c5f349dbc8fc6a1]\n",
       "class E11--><a href=\"psysml:6a7a2def-0eff-4194-80a2-af7f6b4a129e\" target=\"_top\" title=\"psysml:6a7a2def-0eff-4194-80a2-af7f6b4a129e\" xlink:actuate=\"onRequest\" xlink:href=\"psysml:6a7a2def-0eff-4194-80a2-af7f6b4a129e\" xlink:show=\"new\" xlink:title=\"psysml:6a7a2def-0eff-4194-80a2-af7f6b4a129e\" xlink:type=\"simple\"><rect fill=\"#FEFECE\" filter=\"url(#fztikvmmcmhbi)\" height=\"45.9375\" id=\"E11\" rx=\"10\" ry=\"10\" style=\"stroke: #A80036; stroke-width: 1.5;\" width=\"43\" x=\"110.5\" y=\"148\"/><text fill=\"#000000\" font-family=\"sans-serif\" font-size=\"12\" font-style=\"italic\" lengthAdjust=\"spacingAndGlyphs\" textLength=\"41\" x=\"111.5\" y=\"164.1387\">«item»</text><text fill=\"#000000\" font-family=\"sans-serif\" font-size=\"12\" lengthAdjust=\"spacingAndGlyphs\" textLength=\"32\" x=\"114\" y=\"178.1074\">a2: A</text><line style=\"stroke: #A80036; stroke-width: 1.5;\" x1=\"111.5\" x2=\"152.5\" y1=\"185.9375\" y2=\"185.9375\"/></a><!--MD5=[2720a5a1f2c3fca2055b230370638851]\n",
       "link E2 to E3--><a href=\"psysml:8851b494-fad9-483d-8771-6e667cb982eb\" target=\"_top\" title=\"psysml:8851b494-fad9-483d-8771-6e667cb982eb\" xlink:actuate=\"onRequest\" xlink:href=\"psysml:8851b494-fad9-483d-8771-6e667cb982eb\" xlink:show=\"new\" xlink:title=\"psysml:8851b494-fad9-483d-8771-6e667cb982eb\" xlink:type=\"simple\"><path d=\"M193.65,194.01 C184.14,206.81 171.89,223.3 160.82,238.2 \" fill=\"none\" id=\"E2-&gt;E3\" style=\"stroke: #A80036; stroke-width: 1.0;\"/><polygon fill=\"#FFFFFF\" points=\"148.6,254.66,154.3195,235.2361,165.5543,243.5896,148.6,254.66\" style=\"stroke: #A80036; stroke-width: 1.0;\"/><ellipse cx=\"159.3256\" cy=\"231.8554\" fill=\"#A80036\" rx=\"2\" ry=\"2\" style=\"stroke: #A80036; stroke-width: 1.0;\"/><ellipse cx=\"167.3504\" cy=\"237.8221\" fill=\"#A80036\" rx=\"2\" ry=\"2\" style=\"stroke: #A80036; stroke-width: 1.0;\"/></a><!--MD5=[4672eba38e49728da53d11aeb285b987]\n",
       "reverse link E3 to E4--><a href=\"psysml:bbc4490d-4884-4bf2-8394-3cd2641c3130\" target=\"_top\" title=\"psysml:bbc4490d-4884-4bf2-8394-3cd2641c3130\" xlink:actuate=\"onRequest\" xlink:href=\"psysml:bbc4490d-4884-4bf2-8394-3cd2641c3130\" xlink:show=\"new\" xlink:title=\"psysml:bbc4490d-4884-4bf2-8394-3cd2641c3130\" xlink:type=\"simple\"><path d=\"M97.11,310.9 C84.08,325.11 70.81,342.94 64,362 C55.12,386.85 58.09,417.53 61.82,437.88 \" fill=\"none\" id=\"E3&lt;-E4\" style=\"stroke: #A80036; stroke-width: 1.0;\"/><polygon fill=\"#FFFFFF\" points=\"106.46,301.23,99.4153,302.7703,98.1277,309.8655,105.1724,308.3252,106.46,301.23\" style=\"stroke: #A80036; stroke-width: 1.0;\"/><text fill=\"#000000\" font-family=\"sans-serif\" font-size=\"13\" lengthAdjust=\"spacingAndGlyphs\" textLength=\"8\" x=\"51.3529\" y=\"426.744\">1</text></a><!--MD5=[191cde3d490a3f6d7bb551fe3ddca469]\n",
       "reverse link E3 to E5--><a href=\"psysml:896e58a4-3d4e-4523-9980-c4907a158d3f\" target=\"_top\" title=\"psysml:896e58a4-3d4e-4523-9980-c4907a158d3f\" xlink:actuate=\"onRequest\" xlink:href=\"psysml:896e58a4-3d4e-4523-9980-c4907a158d3f\" xlink:show=\"new\" xlink:title=\"psysml:896e58a4-3d4e-4523-9980-c4907a158d3f\" xlink:type=\"simple\"><path d=\"M145.17,313.57 C151.2,329.39 158.16,347.68 163.49,361.66 \" fill=\"none\" id=\"E3&lt;-E5\" style=\"stroke: #A80036; stroke-width: 1.0;\"/><polygon fill=\"#FFFFFF\" points=\"140.39,301.01,138.7866,308.0406,144.6598,312.2247,146.2631,305.1941,140.39,301.01\" style=\"stroke: #A80036; stroke-width: 1.0;\"/><text fill=\"#000000\" font-family=\"sans-serif\" font-size=\"13\" lengthAdjust=\"spacingAndGlyphs\" textLength=\"8\" x=\"152.2843\" y=\"350.8492\">1</text></a><!--MD5=[79568f1e445c3877b6a54524624ccc7d]\n",
       "link E4 to E6--><a href=\"psysml:ae089d5e-98d2-4386-a1f6-d9056ad7f1db\" target=\"_top\" title=\"psysml:ae089d5e-98d2-4386-a1f6-d9056ad7f1db\" xlink:actuate=\"onRequest\" xlink:href=\"psysml:ae089d5e-98d2-4386-a1f6-d9056ad7f1db\" xlink:show=\"new\" xlink:title=\"psysml:ae089d5e-98d2-4386-a1f6-d9056ad7f1db\" xlink:type=\"simple\"><path d=\"M72.25,484.22 C77.31,504.36 85.72,534.68 96,560 C104.15,580.08 115.08,601.47 124.82,619.21 \" fill=\"none\" id=\"E4-&gt;E6\" style=\"stroke: #A80036; stroke-width: 1.0;\"/><polygon fill=\"#FFFFFF\" points=\"134.72,636.8,119.2979,623.6791,131.4967,616.8097,134.72,636.8\" style=\"stroke: #A80036; stroke-width: 1.0;\"/><ellipse cx=\"118.2438\" cy=\"617.7311\" fill=\"#A80036\" rx=\"2\" ry=\"2\" style=\"stroke: #A80036; stroke-width: 1.0;\"/><ellipse cx=\"126.9572\" cy=\"612.8244\" fill=\"#A80036\" rx=\"2\" ry=\"2\" style=\"stroke: #A80036; stroke-width: 1.0;\"/></a><!--MD5=[3f50a3473f1dfb74d3f76443e03635af]\n",
       "reverse link E6 to E7--><a href=\"psysml:f93e67a1-8e91-4b72-abc4-aff48dcc0ebf\" target=\"_top\" title=\"psysml:f93e67a1-8e91-4b72-abc4-aff48dcc0ebf\" xlink:actuate=\"onRequest\" xlink:href=\"psysml:f93e67a1-8e91-4b72-abc4-aff48dcc0ebf\" xlink:show=\"new\" xlink:title=\"psysml:f93e67a1-8e91-4b72-abc4-aff48dcc0ebf\" xlink:type=\"simple\"><path d=\"M158.54,695.57 C163.36,711.39 168.93,729.68 173.19,743.66 \" fill=\"none\" id=\"E6&lt;-E7\" style=\"stroke: #A80036; stroke-width: 1.0;\"/><polygon fill=\"#FFFFFF\" points=\"154.71,683.01,152.6319,689.9152,158.2066,694.4893,160.2847,687.5841,154.71,683.01\" style=\"stroke: #A80036; stroke-width: 1.0;\"/><text fill=\"#000000\" font-family=\"sans-serif\" font-size=\"13\" lengthAdjust=\"spacingAndGlyphs\" textLength=\"8\" x=\"162.4199\" y=\"732.8492\">1</text></a><!--MD5=[14ccda38c055a5c0da953d572bc50960]\n",
       "link E7 to E3--><a href=\"psysml:729e96ed-f9a8-4349-a416-61bf2a977bd8\" target=\"_top\" title=\"psysml:729e96ed-f9a8-4349-a416-61bf2a977bd8\" xlink:actuate=\"onRequest\" xlink:href=\"psysml:729e96ed-f9a8-4349-a416-61bf2a977bd8\" xlink:show=\"new\" xlink:title=\"psysml:729e96ed-f9a8-4349-a416-61bf2a977bd8\" xlink:type=\"simple\"><path d=\"M197.41,743.63 C211.5,723.27 229,691.78 229,661 C229,384 229,384 229,384 C229,353.7 206.93,328.42 183.85,310.26 \" fill=\"none\" id=\"E7-&gt;E3\" style=\"stroke: #A80036; stroke-width: 1.0;\"/><polygon fill=\"#FFFFFF\" points=\"167.57,298.59,187.0929,303.9617,178.9414,315.3438,167.57,298.59\" style=\"stroke: #A80036; stroke-width: 1.0;\"/><ellipse cx=\"190.5626\" cy=\"308.9066\" fill=\"#A80036\" rx=\"2\" ry=\"2\" style=\"stroke: #A80036; stroke-width: 1.0;\"/><ellipse cx=\"184.7401\" cy=\"317.0367\" fill=\"#A80036\" rx=\"2\" ry=\"2\" style=\"stroke: #A80036; stroke-width: 1.0;\"/></a><!--MD5=[dfaffb906826c3e5aca635516100ff21]\n",
       "link E5 to E8--><a href=\"psysml:8b27b07a-ba61-4df4-814a-c4b9eba72255\" target=\"_top\" title=\"psysml:8b27b07a-ba61-4df4-814a-c4b9eba72255\" xlink:actuate=\"onRequest\" xlink:href=\"psysml:8b27b07a-ba61-4df4-814a-c4b9eba72255\" xlink:show=\"new\" xlink:title=\"psysml:8b27b07a-ba61-4df4-814a-c4b9eba72255\" xlink:type=\"simple\"><path d=\"M168.46,408.13 C164.86,430.62 159.2,466.01 154.74,493.87 \" fill=\"none\" id=\"E5-&gt;E8\" style=\"stroke: #A80036; stroke-width: 1.0;\"/><polygon fill=\"#FFFFFF\" points=\"151.56,513.78,147.6458,493.9135,161.4704,496.1226,151.56,513.78\" style=\"stroke: #A80036; stroke-width: 1.0;\"/><ellipse cx=\"150.5202\" cy=\"488.6005\" fill=\"#A80036\" rx=\"2\" ry=\"2\" style=\"stroke: #A80036; stroke-width: 1.0;\"/><ellipse cx=\"160.3949\" cy=\"490.1784\" fill=\"#A80036\" rx=\"2\" ry=\"2\" style=\"stroke: #A80036; stroke-width: 1.0;\"/></a><!--MD5=[03c8294790d3c57651a1993cecff665f]\n",
       "reverse link E8 to E3--><a href=\"psysml:2fa26767-edf9-4f1d-8702-6d0b4fb1afcf\" target=\"_top\" title=\"psysml:2fa26767-edf9-4f1d-8702-6d0b4fb1afcf\" xlink:actuate=\"onRequest\" xlink:href=\"psysml:2fa26767-edf9-4f1d-8702-6d0b4fb1afcf\" xlink:show=\"new\" xlink:title=\"psysml:2fa26767-edf9-4f1d-8702-6d0b4fb1afcf\" xlink:type=\"simple\"><path d=\"M140.02,501.22 C134.57,475.6 127.84,439.84 125,408 C123.18,387.64 124.14,382.43 125,362 C125.87,341.34 127.95,317.86 129.62,301.16 \" fill=\"none\" id=\"E8&lt;-E3\" style=\"stroke: #A80036; stroke-width: 1.0;\"/><polygon fill=\"#FFFFFF\" points=\"142.81,513.96,145.4388,507.2451,140.2515,502.2359,137.6227,508.9508,142.81,513.96\" style=\"stroke: #A80036; stroke-width: 1.0;\"/><text fill=\"#000000\" font-family=\"sans-serif\" font-size=\"13\" lengthAdjust=\"spacingAndGlyphs\" textLength=\"7\" x=\"126\" y=\"389.5669\">y</text></a><!--MD5=[0d75d2178373a6a4568e5dc728f58aef]\n",
       "reverse link E8 to E6--><a href=\"psysml:2fa26767-edf9-4f1d-8702-6d0b4fb1afcf\" target=\"_top\" title=\"psysml:2fa26767-edf9-4f1d-8702-6d0b4fb1afcf\" xlink:actuate=\"onRequest\" xlink:href=\"psysml:2fa26767-edf9-4f1d-8702-6d0b4fb1afcf\" xlink:show=\"new\" xlink:title=\"psysml:2fa26767-edf9-4f1d-8702-6d0b4fb1afcf\" xlink:type=\"simple\"><path d=\"M148,573.22 C148,593.81 148,619.16 148,636.95 \" fill=\"none\" id=\"E8&lt;-E6\" style=\"stroke: #A80036; stroke-width: 1.0;\"/><polygon fill=\"#FFFFFF\" points=\"148,560.19,144,566.19,148,572.19,152,566.19,148,560.19\" style=\"stroke: #A80036; stroke-width: 1.0;\"/><text fill=\"#000000\" font-family=\"sans-serif\" font-size=\"13\" lengthAdjust=\"spacingAndGlyphs\" textLength=\"7\" x=\"149\" y=\"603.0669\">y</text></a><!--MD5=[23ac544a70576c3e717098101004234c]\n",
       "reverse link E9 to E10--><a href=\"psysml:2a8d2925-3f72-4e1c-849d-9e3943fa1d15\" target=\"_top\" title=\"psysml:2a8d2925-3f72-4e1c-849d-9e3943fa1d15\" xlink:actuate=\"onRequest\" xlink:href=\"psysml:2a8d2925-3f72-4e1c-849d-9e3943fa1d15\" xlink:show=\"new\" xlink:title=\"psysml:2a8d2925-3f72-4e1c-849d-9e3943fa1d15\" xlink:type=\"simple\"><path d=\"M84.39,99.1 C77.56,115.03 69.63,133.54 63.58,147.66 \" fill=\"none\" id=\"E9&lt;-E10\" style=\"stroke: #A80036; stroke-width: 1.0;\"/><polygon fill=\"#FFFFFF\" points=\"89.57,87.01,83.5327,90.9535,84.8509,98.0431,90.8882,94.0996,89.57,87.01\" style=\"stroke: #A80036; stroke-width: 1.0;\"/><text fill=\"#000000\" font-family=\"sans-serif\" font-size=\"13\" lengthAdjust=\"spacingAndGlyphs\" textLength=\"8\" x=\"57.0099\" y=\"136.8492\">1</text></a><!--MD5=[feeac5eb423634930294aa81f2d25a4c]\n",
       "link E10 to E3--><a href=\"psysml:be0eb1db-3a2d-4525-bfbd-aed22db095bf\" target=\"_top\" title=\"psysml:be0eb1db-3a2d-4525-bfbd-aed22db095bf\" xlink:actuate=\"onRequest\" xlink:href=\"psysml:be0eb1db-3a2d-4525-bfbd-aed22db095bf\" xlink:show=\"new\" xlink:title=\"psysml:be0eb1db-3a2d-4525-bfbd-aed22db095bf\" xlink:type=\"simple\"><path d=\"M70.35,194.01 C79.86,206.81 92.11,223.3 103.18,238.2 \" fill=\"none\" id=\"E10-&gt;E3\" style=\"stroke: #A80036; stroke-width: 1.0;\"/><polygon fill=\"#FFFFFF\" points=\"115.4,254.66,98.4457,243.5896,109.6805,235.2361,115.4,254.66\" style=\"stroke: #A80036; stroke-width: 1.0;\"/><ellipse cx=\"96.6496\" cy=\"237.8221\" fill=\"#A80036\" rx=\"2\" ry=\"2\" style=\"stroke: #A80036; stroke-width: 1.0;\"/><ellipse cx=\"104.6744\" cy=\"231.8554\" fill=\"#A80036\" rx=\"2\" ry=\"2\" style=\"stroke: #A80036; stroke-width: 1.0;\"/></a><!--MD5=[1fc04a95fd77ad5ce46c1a3027516051]\n",
       "reverse link E9 to E11--><a href=\"psysml:4a4899a0-cca2-49ff-ba55-d15caf476c4f\" target=\"_top\" title=\"psysml:4a4899a0-cca2-49ff-ba55-d15caf476c4f\" xlink:actuate=\"onRequest\" xlink:href=\"psysml:4a4899a0-cca2-49ff-ba55-d15caf476c4f\" xlink:show=\"new\" xlink:title=\"psysml:4a4899a0-cca2-49ff-ba55-d15caf476c4f\" xlink:type=\"simple\"><path d=\"M109.87,99.57 C114.84,115.39 120.59,133.68 124.98,147.66 \" fill=\"none\" id=\"E9&lt;-E11\" style=\"stroke: #A80036; stroke-width: 1.0;\"/><polygon fill=\"#FFFFFF\" points=\"105.92,87.01,103.9044,93.9337,109.5203,98.4572,111.5359,91.5335,105.92,87.01\" style=\"stroke: #A80036; stroke-width: 1.0;\"/><text fill=\"#000000\" font-family=\"sans-serif\" font-size=\"13\" lengthAdjust=\"spacingAndGlyphs\" textLength=\"8\" x=\"114.1561\" y=\"136.8492\">1</text></a><!--MD5=[0517f1ce58c4d5483948f93845c45e26]\n",
       "link E11 to E3--><a href=\"psysml:8ddae6f0-112f-4ded-9c4d-74dd6bca1f55\" target=\"_top\" title=\"psysml:8ddae6f0-112f-4ded-9c4d-74dd6bca1f55\" xlink:actuate=\"onRequest\" xlink:href=\"psysml:8ddae6f0-112f-4ded-9c4d-74dd6bca1f55\" xlink:show=\"new\" xlink:title=\"psysml:8ddae6f0-112f-4ded-9c4d-74dd6bca1f55\" xlink:type=\"simple\"><path d=\"M132,194.01 C132,205.69 132,220.46 132,234.28 \" fill=\"none\" id=\"E11-&gt;E3\" style=\"stroke: #A80036; stroke-width: 1.0;\"/><polygon fill=\"#FFFFFF\" points=\"132,254.66,125,235.66,139,235.66,132,254.66\" style=\"stroke: #A80036; stroke-width: 1.0;\"/><ellipse cx=\"127\" cy=\"229.96\" fill=\"#A80036\" rx=\"2\" ry=\"2\" style=\"stroke: #A80036; stroke-width: 1.0;\"/><ellipse cx=\"137\" cy=\"229.96\" fill=\"#A80036\" rx=\"2\" ry=\"2\" style=\"stroke: #A80036; stroke-width: 1.0;\"/></a><!--MD5=[8d3fbe2fb17d13e18b74cf9687bd2e3b]\n",
       "@startuml\r\n",
       "skinparam wrapWidth 300\r\n",
       "hide circle\r\n",
       "\r\n",
       "package \"ItemTest\" as E1  [[psysml:ae8f2d08-e2f6-41ef-ae81-a483692b435b ]]  {\r\n",
       "comp usage \"f: A \" as E2  <<(T,blue) item>> [[psysml:cbd0bd62-e912-4912-a2fb-da1e68d4f615 ]] {\r\n",
       "}\r\n",
       "comp def \"A\" as E3  <<(T,blue) item  def>> [[psysml:2b189b42-edf1-49d6-a72b-40b548d68a1d ]] {\r\n",
       "}\r\n",
       "comp usage \"b: B \" as E4  <<(T,blue) item>> [[psysml:94aeed99-fa0f-4cf3-9a3c-c07fcd3df143 ]] {\r\n",
       "}\r\n",
       "comp usage \"c: C \" as E5  <<(T,blue) part>> [[psysml:74f7fd5f-8520-4aae-9a17-942775661558 ]] {\r\n",
       "}\r\n",
       "comp def \"<i>B</i>\" as E6  <<(T,blue) item  def>> [[psysml:f1885442-e1dd-46d9-92aa-2427019de9de ]] {\r\n",
       "}\r\n",
       "comp usage \"<i>a</i>: A \" as E7  <<(T,blue) part>> [[psysml:cc0b7000-21b2-4abb-bead-e88feeed0b85 ]] {\r\n",
       "}\r\n",
       "comp def \"C\" as E8  <<(T,blue) part  def>> [[psysml:6db780a5-cf23-40f2-9df9-03150cb096d0 ]] {\r\n",
       "}\r\n",
       "comp def \"P\" as E9  <<(T,blue) port  def>> [[psysml:587854cf-6fe1-483d-a698-c7fca9a0c13c ]] {\r\n",
       "}\r\n",
       "comp usage \"a1: A \" as E10  <<(T,blue) item>> [[psysml:f73739ed-5364-4403-8254-d4f943238dfa ]] {\r\n",
       "}\r\n",
       "comp usage \"a2: A \" as E11  <<(T,blue) item>> [[psysml:6a7a2def-0eff-4194-80a2-af7f6b4a129e ]] {\r\n",
       "}\r\n",
       "}\r\n",
       "E2 - -:|> E3 [[psysml:8851b494-fad9-483d-8771-6e667cb982eb ]] \r\n",
       "E3 o- - \"1\"E4 [[psysml:bbc4490d-4884-4bf2-8394-3cd2641c3130 ]] \r\n",
       "E3 o- - \"1\"E5 [[psysml:896e58a4-3d4e-4523-9980-c4907a158d3f ]] \r\n",
       "E4 - -:|> E6 [[psysml:ae089d5e-98d2-4386-a1f6-d9056ad7f1db ]] \r\n",
       "E6 o- - \"1\"E7 [[psysml:f93e67a1-8e91-4b72-abc4-aff48dcc0ebf ]] \r\n",
       "E7 - -:|> E3 [[psysml:729e96ed-f9a8-4349-a416-61bf2a977bd8 ]] \r\n",
       "E5 - -:|> E8 [[psysml:8b27b07a-ba61-4df4-814a-c4b9eba72255 ]] \r\n",
       "E8 o- - E3 [[psysml:2fa26767-edf9-4f1d-8702-6d0b4fb1afcf ]] : y\r\n",
       "E8 o- - E6 [[psysml:2fa26767-edf9-4f1d-8702-6d0b4fb1afcf ]] : y\r\n",
       "E9 o- - \"1\"E10 [[psysml:2a8d2925-3f72-4e1c-849d-9e3943fa1d15 ]] \r\n",
       "E10 - -:|> E3 [[psysml:be0eb1db-3a2d-4525-bfbd-aed22db095bf ]] \r\n",
       "E9 o- - \"1\"E11 [[psysml:4a4899a0-cca2-49ff-ba55-d15caf476c4f ]] \r\n",
       "E11 - -:|> E3 [[psysml:8ddae6f0-112f-4ded-9c4d-74dd6bca1f55 ]] \r\n",
       "@enduml\r\n",
       "\n",
       "PlantUML version 1.2020.13(Sat Jun 13 12:26:38 UTC 2020)\n",
       "(EPL source distribution)\n",
       "Java Runtime: OpenJDK Runtime Environment\n",
       "JVM: OpenJDK 64-Bit Server VM\n",
       "Default Encoding: UTF-8\n",
       "Language: en\n",
       "Country: null\n",
       "--></g></svg>"
      ]
     },
     "execution_count": 29,
     "metadata": {},
     "output_type": "execute_result"
    }
   ],
   "source": [
    "%viz --style=\"STDCOLOR\" --view=\"MIXED\" \"ItemTest\""
   ]
  },
  {
   "cell_type": "code",
   "execution_count": 30,
   "id": "4182b01b",
   "metadata": {
    "execution": {
     "iopub.execute_input": "2022-08-19T08:17:29.664992Z",
     "iopub.status.busy": "2022-08-19T08:17:29.664542Z",
     "iopub.status.idle": "2022-08-19T08:17:29.733231Z",
     "shell.execute_reply": "2022-08-19T08:17:29.732827Z"
    }
   },
   "outputs": [
    {
     "data": {
      "image/svg+xml": [
       "<?xml version=\"1.0\" encoding=\"UTF-8\" standalone=\"no\"?><svg xmlns=\"http://www.w3.org/2000/svg\" xmlns:xlink=\"http://www.w3.org/1999/xlink\" contentScriptType=\"application/ecmascript\" contentStyleType=\"text/css\" height=\"788px\" preserveAspectRatio=\"none\" style=\"width:332px;height:788px;\" version=\"1.1\" viewBox=\"0 0 332 788\" width=\"332px\" zoomAndPan=\"magnify\"><defs><filter height=\"300%\" id=\"f132u3rbgwth6q\" width=\"300%\" x=\"-1\" y=\"-1\"><feGaussianBlur result=\"blurOut\" stdDeviation=\"2.0\"/><feColorMatrix in=\"blurOut\" result=\"blurOut2\" type=\"matrix\" values=\"0 0 0 0 0 0 0 0 0 0 0 0 0 0 0 0 0 0 .4 0\"/><feOffset dx=\"4.0\" dy=\"4.0\" in=\"blurOut2\" result=\"blurOut3\"/><feBlend in=\"SourceGraphic\" in2=\"blurOut3\" mode=\"normal\"/></filter></defs><g><!--MD5=[fbc87193dbaf4d95561dea2c320d4a47]\n",
       "cluster E1--><a href=\"psysml:ae8f2d08-e2f6-41ef-ae81-a483692b435b\" target=\"_top\" title=\"psysml:ae8f2d08-e2f6-41ef-ae81-a483692b435b\" xlink:actuate=\"onRequest\" xlink:href=\"psysml:ae8f2d08-e2f6-41ef-ae81-a483692b435b\" xlink:show=\"new\" xlink:title=\"psysml:ae8f2d08-e2f6-41ef-ae81-a483692b435b\" xlink:type=\"simple\"><polygon fill=\"#FFFFFF\" filter=\"url(#f132u3rbgwth6q)\" points=\"16,6,83,6,90,28.2969,310,28.2969,310,776,16,776,16,6\" style=\"stroke: #000000; stroke-width: 1.5;\"/><line style=\"stroke: #000000; stroke-width: 1.5;\" x1=\"16\" x2=\"90\" y1=\"28.2969\" y2=\"28.2969\"/><text fill=\"#000000\" font-family=\"sans-serif\" font-size=\"14\" font-weight=\"bold\" lengthAdjust=\"spacingAndGlyphs\" textLength=\"61\" x=\"20\" y=\"20.9951\">ItemTest</text></a><!--MD5=[b4997ac47864f28c2f74865a473b2911]\n",
       "class E2--><a href=\"psysml:cbd0bd62-e912-4912-a2fb-da1e68d4f615\" target=\"_top\" title=\"psysml:cbd0bd62-e912-4912-a2fb-da1e68d4f615\" xlink:actuate=\"onRequest\" xlink:href=\"psysml:cbd0bd62-e912-4912-a2fb-da1e68d4f615\" xlink:show=\"new\" xlink:title=\"psysml:cbd0bd62-e912-4912-a2fb-da1e68d4f615\" xlink:type=\"simple\"><rect fill=\"#FEFECE\" filter=\"url(#f132u3rbgwth6q)\" height=\"40\" id=\"E2\" rx=\"10\" ry=\"10\" style=\"stroke: #A80036; stroke-width: 1.5;\" width=\"56\" x=\"238\" y=\"148\"/><ellipse cx=\"253\" cy=\"164\" fill=\"#32CD32\" rx=\"11\" ry=\"11\" style=\"stroke: #A80036; stroke-width: 1.0;\"/><path d=\"M249.8125,169 L249.8125,158.4063 L253.4219,158.4063 Q254.6406,158.4063 255.4375,158.8438 Q256.2344,159.2656 256.6094,159.9688 Q257,160.6719 257,161.5156 Q257,162.3594 256.625,163.0469 Q256.2656,163.7344 255.4688,164.1563 Q254.6875,164.5625 253.5,164.5625 L251.7656,164.5625 L251.7656,169 L249.8125,169 Z M251.7656,162.9688 L253.375,162.9688 Q254.1875,162.9688 254.6094,162.5625 Q255.0313,162.1563 255.0313,161.5156 Q255.0313,160.8906 254.6094,160.4844 Q254.1875,160.0781 253.3906,160.0781 L251.7656,160.0781 L251.7656,162.9688 Z \"/><text fill=\"#000000\" font-family=\"sans-serif\" font-size=\"12\" lengthAdjust=\"spacingAndGlyphs\" textLength=\"20\" x=\"267\" y=\"168.1543\">f: A</text><line style=\"stroke: #A80036; stroke-width: 1.5;\" x1=\"239\" x2=\"293\" y1=\"180\" y2=\"180\"/></a><!--MD5=[09b614a08d8cba4a07c9adeb5e0fee81]\n",
       "class E3--><a href=\"psysml:2b189b42-edf1-49d6-a72b-40b548d68a1d\" target=\"_top\" title=\"psysml:2b189b42-edf1-49d6-a72b-40b548d68a1d\" xlink:actuate=\"onRequest\" xlink:href=\"psysml:2b189b42-edf1-49d6-a72b-40b548d68a1d\" xlink:show=\"new\" xlink:title=\"psysml:2b189b42-edf1-49d6-a72b-40b548d68a1d\" xlink:type=\"simple\"><rect fill=\"#FEFECE\" filter=\"url(#f132u3rbgwth6q)\" height=\"40\" id=\"E3\" style=\"stroke: #A80036; stroke-width: 1.5;\" width=\"40\" x=\"149\" y=\"249\"/><ellipse cx=\"164\" cy=\"265\" fill=\"#008000\" rx=\"11\" ry=\"11\" style=\"stroke: #A80036; stroke-width: 1.0;\"/><path d=\"M160.875,270 L160.875,259.4063 L164.1094,259.4063 Q166.0156,259.4063 166.9219,260.1563 Q167.8438,260.9063 167.8438,262.0781 Q167.8438,262.7656 167.4531,263.4219 Q167.0781,264.0781 166.3594,264.375 Q167.2188,264.75 167.7344,265.4375 Q168.25,266.125 168.25,266.9375 Q168.25,268.3125 167.2188,269.1563 Q166.2031,270 164.0938,270 L160.875,270 Z M162.7969,263.6406 L163.9531,263.6406 Q165.0781,263.6406 165.4844,263.2656 Q165.9063,262.875 165.9063,262.25 Q165.9063,261.6719 165.4844,261.3125 Q165.0625,260.9531 164.125,260.9531 L162.7969,260.9531 L162.7969,263.6406 Z M162.7969,268.4219 L164.2969,268.4219 Q165.2031,268.4219 165.7344,268.0313 Q166.2656,267.6406 166.2656,266.8906 Q166.2656,266.125 165.7656,265.6563 Q165.2656,265.1719 164,265.1719 L162.7969,265.1719 L162.7969,268.4219 Z \"/><text fill=\"#000000\" font-family=\"sans-serif\" font-size=\"12\" lengthAdjust=\"spacingAndGlyphs\" textLength=\"8\" x=\"178\" y=\"269.1543\">A</text><line style=\"stroke: #A80036; stroke-width: 1.5;\" x1=\"150\" x2=\"188\" y1=\"281\" y2=\"281\"/></a><!--MD5=[ebbe1d658d1005bcc118a6aa81145e00]\n",
       "class E4--><a href=\"psysml:94aeed99-fa0f-4cf3-9a3c-c07fcd3df143\" target=\"_top\" title=\"psysml:94aeed99-fa0f-4cf3-9a3c-c07fcd3df143\" xlink:actuate=\"onRequest\" xlink:href=\"psysml:94aeed99-fa0f-4cf3-9a3c-c07fcd3df143\" xlink:show=\"new\" xlink:title=\"psysml:94aeed99-fa0f-4cf3-9a3c-c07fcd3df143\" xlink:type=\"simple\"><rect fill=\"#FEFECE\" filter=\"url(#f132u3rbgwth6q)\" height=\"40\" id=\"E4\" rx=\"10\" ry=\"10\" style=\"stroke: #A80036; stroke-width: 1.5;\" width=\"60\" x=\"49\" y=\"426\"/><ellipse cx=\"64\" cy=\"442\" fill=\"#32CD32\" rx=\"11\" ry=\"11\" style=\"stroke: #A80036; stroke-width: 1.0;\"/><path d=\"M60.8125,447 L60.8125,436.4063 L64.4219,436.4063 Q65.6406,436.4063 66.4375,436.8438 Q67.2344,437.2656 67.6094,437.9688 Q68,438.6719 68,439.5156 Q68,440.3594 67.625,441.0469 Q67.2656,441.7344 66.4688,442.1563 Q65.6875,442.5625 64.5,442.5625 L62.7656,442.5625 L62.7656,447 L60.8125,447 Z M62.7656,440.9688 L64.375,440.9688 Q65.1875,440.9688 65.6094,440.5625 Q66.0313,440.1563 66.0313,439.5156 Q66.0313,438.8906 65.6094,438.4844 Q65.1875,438.0781 64.3906,438.0781 L62.7656,438.0781 L62.7656,440.9688 Z \"/><text fill=\"#000000\" font-family=\"sans-serif\" font-size=\"12\" lengthAdjust=\"spacingAndGlyphs\" textLength=\"24\" x=\"78\" y=\"446.1543\">b: B</text><line style=\"stroke: #A80036; stroke-width: 1.5;\" x1=\"50\" x2=\"108\" y1=\"458\" y2=\"458\"/></a><!--MD5=[270fce915f116d4de14055a7c1d9a0f3]\n",
       "class E5--><a href=\"psysml:74f7fd5f-8520-4aae-9a17-942775661558\" target=\"_top\" title=\"psysml:74f7fd5f-8520-4aae-9a17-942775661558\" xlink:actuate=\"onRequest\" xlink:href=\"psysml:74f7fd5f-8520-4aae-9a17-942775661558\" xlink:show=\"new\" xlink:title=\"psysml:74f7fd5f-8520-4aae-9a17-942775661558\" xlink:type=\"simple\"><rect fill=\"#FEFECE\" filter=\"url(#f132u3rbgwth6q)\" height=\"45.9375\" id=\"E5\" rx=\"10\" ry=\"10\" style=\"stroke: #A80036; stroke-width: 1.5;\" width=\"68\" x=\"176\" y=\"350\"/><ellipse cx=\"191\" cy=\"368.9688\" fill=\"#32CD32\" rx=\"11\" ry=\"11\" style=\"stroke: #A80036; stroke-width: 1.0;\"/><path d=\"M187.8125,373.9688 L187.8125,363.375 L191.4219,363.375 Q192.6406,363.375 193.4375,363.8125 Q194.2344,364.2344 194.6094,364.9375 Q195,365.6406 195,366.4844 Q195,367.3281 194.625,368.0156 Q194.2656,368.7031 193.4688,369.125 Q192.6875,369.5313 191.5,369.5313 L189.7656,369.5313 L189.7656,373.9688 L187.8125,373.9688 Z M189.7656,367.9375 L191.375,367.9375 Q192.1875,367.9375 192.6094,367.5313 Q193.0313,367.125 193.0313,366.4844 Q193.0313,365.8594 192.6094,365.4531 Q192.1875,365.0469 191.3906,365.0469 L189.7656,365.0469 L189.7656,367.9375 Z \"/><text fill=\"#000000\" font-family=\"sans-serif\" font-size=\"12\" font-style=\"italic\" lengthAdjust=\"spacingAndGlyphs\" textLength=\"40\" x=\"203\" y=\"366.1387\">«part»</text><text fill=\"#000000\" font-family=\"sans-serif\" font-size=\"12\" lengthAdjust=\"spacingAndGlyphs\" textLength=\"23\" x=\"209.5\" y=\"380.1074\">c: C</text><line style=\"stroke: #A80036; stroke-width: 1.5;\" x1=\"177\" x2=\"243\" y1=\"387.9375\" y2=\"387.9375\"/></a><!--MD5=[60a26617385b1d2d0262a64233df1f8d]\n",
       "class E6--><a href=\"psysml:f1885442-e1dd-46d9-92aa-2427019de9de\" target=\"_top\" title=\"psysml:f1885442-e1dd-46d9-92aa-2427019de9de\" xlink:actuate=\"onRequest\" xlink:href=\"psysml:f1885442-e1dd-46d9-92aa-2427019de9de\" xlink:show=\"new\" xlink:title=\"psysml:f1885442-e1dd-46d9-92aa-2427019de9de\" xlink:type=\"simple\"><rect fill=\"#FEFECE\" filter=\"url(#f132u3rbgwth6q)\" height=\"40\" id=\"E6\" style=\"stroke: #A80036; stroke-width: 1.5;\" width=\"40\" x=\"134\" y=\"613\"/><ellipse cx=\"149\" cy=\"629\" fill=\"#008000\" rx=\"11\" ry=\"11\" style=\"stroke: #A80036; stroke-width: 1.0;\"/><path d=\"M145.875,634 L145.875,623.4063 L149.1094,623.4063 Q151.0156,623.4063 151.9219,624.1563 Q152.8438,624.9063 152.8438,626.0781 Q152.8438,626.7656 152.4531,627.4219 Q152.0781,628.0781 151.3594,628.375 Q152.2188,628.75 152.7344,629.4375 Q153.25,630.125 153.25,630.9375 Q153.25,632.3125 152.2188,633.1563 Q151.2031,634 149.0938,634 L145.875,634 Z M147.7969,627.6406 L148.9531,627.6406 Q150.0781,627.6406 150.4844,627.2656 Q150.9063,626.875 150.9063,626.25 Q150.9063,625.6719 150.4844,625.3125 Q150.0625,624.9531 149.125,624.9531 L147.7969,624.9531 L147.7969,627.6406 Z M147.7969,632.4219 L149.2969,632.4219 Q150.2031,632.4219 150.7344,632.0313 Q151.2656,631.6406 151.2656,630.8906 Q151.2656,630.125 150.7656,629.6563 Q150.2656,629.1719 149,629.1719 L147.7969,629.1719 L147.7969,632.4219 Z \"/><text fill=\"#000000\" font-family=\"sans-serif\" font-size=\"12\" font-style=\"italic\" lengthAdjust=\"spacingAndGlyphs\" textLength=\"8\" x=\"163\" y=\"633.1543\">B</text><line style=\"stroke: #A80036; stroke-width: 1.5;\" x1=\"135\" x2=\"173\" y1=\"645\" y2=\"645\"/></a><!--MD5=[2156ba9850f5573cc1fc38a6a4b2f02b]\n",
       "class E7--><a href=\"psysml:cc0b7000-21b2-4abb-bead-e88feeed0b85\" target=\"_top\" title=\"psysml:cc0b7000-21b2-4abb-bead-e88feeed0b85\" xlink:actuate=\"onRequest\" xlink:href=\"psysml:cc0b7000-21b2-4abb-bead-e88feeed0b85\" xlink:show=\"new\" xlink:title=\"psysml:cc0b7000-21b2-4abb-bead-e88feeed0b85\" xlink:type=\"simple\"><rect fill=\"#FEFECE\" filter=\"url(#f132u3rbgwth6q)\" height=\"45.9375\" id=\"E7\" rx=\"10\" ry=\"10\" style=\"stroke: #A80036; stroke-width: 1.5;\" width=\"68\" x=\"208\" y=\"714\"/><ellipse cx=\"223\" cy=\"732.9688\" fill=\"#32CD32\" rx=\"11\" ry=\"11\" style=\"stroke: #A80036; stroke-width: 1.0;\"/><path d=\"M219.8125,737.9688 L219.8125,727.375 L223.4219,727.375 Q224.6406,727.375 225.4375,727.8125 Q226.2344,728.2344 226.6094,728.9375 Q227,729.6406 227,730.4844 Q227,731.3281 226.625,732.0156 Q226.2656,732.7031 225.4688,733.125 Q224.6875,733.5313 223.5,733.5313 L221.7656,733.5313 L221.7656,737.9688 L219.8125,737.9688 Z M221.7656,731.9375 L223.375,731.9375 Q224.1875,731.9375 224.6094,731.5313 Q225.0313,731.125 225.0313,730.4844 Q225.0313,729.8594 224.6094,729.4531 Q224.1875,729.0469 223.3906,729.0469 L221.7656,729.0469 L221.7656,731.9375 Z \"/><text fill=\"#000000\" font-family=\"sans-serif\" font-size=\"12\" font-style=\"italic\" lengthAdjust=\"spacingAndGlyphs\" textLength=\"40\" x=\"235\" y=\"730.1387\">«part»</text><text fill=\"#000000\" font-family=\"sans-serif\" font-size=\"12\" font-style=\"italic\" lengthAdjust=\"spacingAndGlyphs\" textLength=\"8\" x=\"241\" y=\"744.1074\">a</text><text fill=\"#000000\" font-family=\"sans-serif\" font-size=\"12\" lengthAdjust=\"spacingAndGlyphs\" textLength=\"16\" x=\"249\" y=\"744.1074\">: A</text><line style=\"stroke: #A80036; stroke-width: 1.5;\" x1=\"209\" x2=\"275\" y1=\"751.9375\" y2=\"751.9375\"/></a><!--MD5=[b9389687b975829384b498ac4b7476b2]\n",
       "class E8--><a href=\"psysml:6db780a5-cf23-40f2-9df9-03150cb096d0\" target=\"_top\" title=\"psysml:6db780a5-cf23-40f2-9df9-03150cb096d0\" xlink:actuate=\"onRequest\" xlink:href=\"psysml:6db780a5-cf23-40f2-9df9-03150cb096d0\" xlink:show=\"new\" xlink:title=\"psysml:6db780a5-cf23-40f2-9df9-03150cb096d0\" xlink:type=\"simple\"><rect fill=\"#FEFECE\" filter=\"url(#f132u3rbgwth6q)\" height=\"40\" id=\"E8\" style=\"stroke: #A80036; stroke-width: 1.5;\" width=\"40\" x=\"134\" y=\"496\"/><ellipse cx=\"149\" cy=\"512\" fill=\"#008000\" rx=\"11\" ry=\"11\" style=\"stroke: #A80036; stroke-width: 1.0;\"/><path d=\"M145.875,517 L145.875,506.4063 L149.1094,506.4063 Q151.0156,506.4063 151.9219,507.1563 Q152.8438,507.9063 152.8438,509.0781 Q152.8438,509.7656 152.4531,510.4219 Q152.0781,511.0781 151.3594,511.375 Q152.2188,511.75 152.7344,512.4375 Q153.25,513.125 153.25,513.9375 Q153.25,515.3125 152.2188,516.1563 Q151.2031,517 149.0938,517 L145.875,517 Z M147.7969,510.6406 L148.9531,510.6406 Q150.0781,510.6406 150.4844,510.2656 Q150.9063,509.875 150.9063,509.25 Q150.9063,508.6719 150.4844,508.3125 Q150.0625,507.9531 149.125,507.9531 L147.7969,507.9531 L147.7969,510.6406 Z M147.7969,515.4219 L149.2969,515.4219 Q150.2031,515.4219 150.7344,515.0313 Q151.2656,514.6406 151.2656,513.8906 Q151.2656,513.125 150.7656,512.6563 Q150.2656,512.1719 149,512.1719 L147.7969,512.1719 L147.7969,515.4219 Z \"/><text fill=\"#000000\" font-family=\"sans-serif\" font-size=\"12\" lengthAdjust=\"spacingAndGlyphs\" textLength=\"8\" x=\"163\" y=\"516.1543\">C</text><line style=\"stroke: #A80036; stroke-width: 1.5;\" x1=\"135\" x2=\"173\" y1=\"528\" y2=\"528\"/></a><!--MD5=[fd4143e9d270a159db93a4ea2a975926]\n",
       "class E9--><a href=\"psysml:587854cf-6fe1-483d-a698-c7fca9a0c13c\" target=\"_top\" title=\"psysml:587854cf-6fe1-483d-a698-c7fca9a0c13c\" xlink:actuate=\"onRequest\" xlink:href=\"psysml:587854cf-6fe1-483d-a698-c7fca9a0c13c\" xlink:show=\"new\" xlink:title=\"psysml:587854cf-6fe1-483d-a698-c7fca9a0c13c\" xlink:type=\"simple\"><rect fill=\"#FEFECE\" filter=\"url(#f132u3rbgwth6q)\" height=\"45.9375\" id=\"E9\" style=\"stroke: #A80036; stroke-width: 1.5;\" width=\"96\" x=\"76\" y=\"41\"/><ellipse cx=\"91\" cy=\"59.9688\" fill=\"#A52A2A\" rx=\"11\" ry=\"11\" style=\"stroke: #A80036; stroke-width: 1.0;\"/><path d=\"M88.2188,64.9688 L88.2188,54.375 L90.9531,54.375 Q92.3438,54.375 93.1094,54.7656 Q93.8906,55.1406 94.4219,55.8438 Q94.9531,56.5469 95.25,57.5469 Q95.5469,58.5313 95.5469,59.75 Q95.5,61.3438 95,62.5313 Q94.5156,63.7031 93.4688,64.3438 Q92.4375,64.9688 90.75,64.9688 L88.2188,64.9688 Z M90.0781,63.4688 L90.7031,63.4688 Q91.7813,63.4688 92.4375,63.0156 Q93.0938,62.5625 93.375,61.7344 Q93.6719,60.8906 93.6563,59.7656 Q93.6563,58.5938 93.4063,57.7344 Q93.1563,56.8594 92.5469,56.3906 Q91.9375,55.9063 90.8906,55.9063 L90.0781,55.9063 L90.0781,63.4688 Z \"/><text fill=\"#000000\" font-family=\"sans-serif\" font-size=\"12\" font-style=\"italic\" lengthAdjust=\"spacingAndGlyphs\" textLength=\"68\" x=\"103\" y=\"57.1387\">«port  def»</text><text fill=\"#000000\" font-family=\"sans-serif\" font-size=\"12\" lengthAdjust=\"spacingAndGlyphs\" textLength=\"8\" x=\"133\" y=\"71.1074\">P</text><line style=\"stroke: #A80036; stroke-width: 1.5;\" x1=\"77\" x2=\"171\" y1=\"78.9375\" y2=\"78.9375\"/></a><!--MD5=[96f4274e9e20536e775497830990834d]\n",
       "class E10--><a href=\"psysml:f73739ed-5364-4403-8254-d4f943238dfa\" target=\"_top\" title=\"psysml:f73739ed-5364-4403-8254-d4f943238dfa\" xlink:actuate=\"onRequest\" xlink:href=\"psysml:f73739ed-5364-4403-8254-d4f943238dfa\" xlink:show=\"new\" xlink:title=\"psysml:f73739ed-5364-4403-8254-d4f943238dfa\" xlink:type=\"simple\"><rect fill=\"#FEFECE\" filter=\"url(#f132u3rbgwth6q)\" height=\"40\" id=\"E10\" rx=\"10\" ry=\"10\" style=\"stroke: #A80036; stroke-width: 1.5;\" width=\"68\" x=\"32\" y=\"148\"/><ellipse cx=\"47\" cy=\"164\" fill=\"#32CD32\" rx=\"11\" ry=\"11\" style=\"stroke: #A80036; stroke-width: 1.0;\"/><path d=\"M43.8125,169 L43.8125,158.4063 L47.4219,158.4063 Q48.6406,158.4063 49.4375,158.8438 Q50.2344,159.2656 50.6094,159.9688 Q51,160.6719 51,161.5156 Q51,162.3594 50.625,163.0469 Q50.2656,163.7344 49.4688,164.1563 Q48.6875,164.5625 47.5,164.5625 L45.7656,164.5625 L45.7656,169 L43.8125,169 Z M45.7656,162.9688 L47.375,162.9688 Q48.1875,162.9688 48.6094,162.5625 Q49.0313,162.1563 49.0313,161.5156 Q49.0313,160.8906 48.6094,160.4844 Q48.1875,160.0781 47.3906,160.0781 L45.7656,160.0781 L45.7656,162.9688 Z \"/><text fill=\"#000000\" font-family=\"sans-serif\" font-size=\"12\" lengthAdjust=\"spacingAndGlyphs\" textLength=\"32\" x=\"61\" y=\"168.1543\">a1: A</text><line style=\"stroke: #A80036; stroke-width: 1.5;\" x1=\"33\" x2=\"99\" y1=\"180\" y2=\"180\"/></a><!--MD5=[1dd1bfd58a279cf63c5f349dbc8fc6a1]\n",
       "class E11--><a href=\"psysml:6a7a2def-0eff-4194-80a2-af7f6b4a129e\" target=\"_top\" title=\"psysml:6a7a2def-0eff-4194-80a2-af7f6b4a129e\" xlink:actuate=\"onRequest\" xlink:href=\"psysml:6a7a2def-0eff-4194-80a2-af7f6b4a129e\" xlink:show=\"new\" xlink:title=\"psysml:6a7a2def-0eff-4194-80a2-af7f6b4a129e\" xlink:type=\"simple\"><rect fill=\"#FEFECE\" filter=\"url(#f132u3rbgwth6q)\" height=\"40\" id=\"E11\" rx=\"10\" ry=\"10\" style=\"stroke: #A80036; stroke-width: 1.5;\" width=\"68\" x=\"135\" y=\"148\"/><ellipse cx=\"150\" cy=\"164\" fill=\"#32CD32\" rx=\"11\" ry=\"11\" style=\"stroke: #A80036; stroke-width: 1.0;\"/><path d=\"M146.8125,169 L146.8125,158.4063 L150.4219,158.4063 Q151.6406,158.4063 152.4375,158.8438 Q153.2344,159.2656 153.6094,159.9688 Q154,160.6719 154,161.5156 Q154,162.3594 153.625,163.0469 Q153.2656,163.7344 152.4688,164.1563 Q151.6875,164.5625 150.5,164.5625 L148.7656,164.5625 L148.7656,169 L146.8125,169 Z M148.7656,162.9688 L150.375,162.9688 Q151.1875,162.9688 151.6094,162.5625 Q152.0313,162.1563 152.0313,161.5156 Q152.0313,160.8906 151.6094,160.4844 Q151.1875,160.0781 150.3906,160.0781 L148.7656,160.0781 L148.7656,162.9688 Z \"/><text fill=\"#000000\" font-family=\"sans-serif\" font-size=\"12\" lengthAdjust=\"spacingAndGlyphs\" textLength=\"32\" x=\"164\" y=\"168.1543\">a2: A</text><line style=\"stroke: #A80036; stroke-width: 1.5;\" x1=\"136\" x2=\"202\" y1=\"180\" y2=\"180\"/></a><!--MD5=[2720a5a1f2c3fca2055b230370638851]\n",
       "link E2 to E3--><a href=\"psysml:8851b494-fad9-483d-8771-6e667cb982eb\" target=\"_top\" title=\"psysml:8851b494-fad9-483d-8771-6e667cb982eb\" xlink:actuate=\"onRequest\" xlink:href=\"psysml:8851b494-fad9-483d-8771-6e667cb982eb\" xlink:show=\"new\" xlink:title=\"psysml:8851b494-fad9-483d-8771-6e667cb982eb\" xlink:type=\"simple\"><path d=\"M247.3,188.09 C234.42,201.24 216.95,219.06 201.79,234.53 \" fill=\"none\" id=\"E2-&gt;E3\" style=\"stroke: #A80036; stroke-width: 1.0;\"/><polygon fill=\"#FFFFFF\" points=\"187.65,248.97,195.9397,230.4962,205.9437,240.2901,187.65,248.97\" style=\"stroke: #A80036; stroke-width: 1.0;\"/><ellipse cx=\"201.3564\" cy=\"227.8223\" fill=\"#A80036\" rx=\"2\" ry=\"2\" style=\"stroke: #A80036; stroke-width: 1.0;\"/><ellipse cx=\"208.5021\" cy=\"234.8179\" fill=\"#A80036\" rx=\"2\" ry=\"2\" style=\"stroke: #A80036; stroke-width: 1.0;\"/></a><!--MD5=[4672eba38e49728da53d11aeb285b987]\n",
       "reverse link E3 to E4--><a href=\"psysml:bbc4490d-4884-4bf2-8394-3cd2641c3130\" target=\"_top\" title=\"psysml:bbc4490d-4884-4bf2-8394-3cd2641c3130\" xlink:actuate=\"onRequest\" xlink:href=\"psysml:bbc4490d-4884-4bf2-8394-3cd2641c3130\" xlink:show=\"new\" xlink:title=\"psysml:bbc4490d-4884-4bf2-8394-3cd2641c3130\" xlink:type=\"simple\"><path d=\"M138.27,292.03 C120.72,306.42 100.07,326.8 89,350 C77.43,374.25 76.5,405.85 77.38,425.79 \" fill=\"none\" id=\"E3&lt;-E4\" style=\"stroke: #A80036; stroke-width: 1.0;\"/><polygon fill=\"#FFFFFF\" points=\"148.68,283.88,141.4897,284.427,139.2291,291.2746,146.4194,290.7276,148.68,283.88\" style=\"stroke: #A80036; stroke-width: 1.0;\"/><text fill=\"#000000\" font-family=\"sans-serif\" font-size=\"13\" lengthAdjust=\"spacingAndGlyphs\" textLength=\"8\" x=\"67.7994\" y=\"415.0821\">1</text></a><!--MD5=[191cde3d490a3f6d7bb551fe3ddca469]\n",
       "reverse link E3 to E5--><a href=\"psysml:896e58a4-3d4e-4523-9980-c4907a158d3f\" target=\"_top\" title=\"psysml:896e58a4-3d4e-4523-9980-c4907a158d3f\" xlink:actuate=\"onRequest\" xlink:href=\"psysml:896e58a4-3d4e-4523-9980-c4907a158d3f\" xlink:show=\"new\" xlink:title=\"psysml:896e58a4-3d4e-4523-9980-c4907a158d3f\" xlink:type=\"simple\"><path d=\"M181.65,301.47 C187.92,317.08 195.36,335.57 201.04,349.7 \" fill=\"none\" id=\"E3&lt;-E5\" style=\"stroke: #A80036; stroke-width: 1.0;\"/><polygon fill=\"#FFFFFF\" points=\"176.71,289.19,175.2345,296.2485,181.1826,300.3253,182.6581,293.2668,176.71,289.19\" style=\"stroke: #A80036; stroke-width: 1.0;\"/><text fill=\"#000000\" font-family=\"sans-serif\" font-size=\"13\" lengthAdjust=\"spacingAndGlyphs\" textLength=\"8\" x=\"189.719\" y=\"338.8994\">1</text></a><!--MD5=[79568f1e445c3877b6a54524624ccc7d]\n",
       "link E4 to E6--><a href=\"psysml:ae089d5e-98d2-4386-a1f6-d9056ad7f1db\" target=\"_top\" title=\"psysml:ae089d5e-98d2-4386-a1f6-d9056ad7f1db\" xlink:actuate=\"onRequest\" xlink:href=\"psysml:ae089d5e-98d2-4386-a1f6-d9056ad7f1db\" xlink:show=\"new\" xlink:title=\"psysml:ae089d5e-98d2-4386-a1f6-d9056ad7f1db\" xlink:type=\"simple\"><path d=\"M86.74,466.1 C98.93,496.15 122.8,555.04 138.58,593.96 \" fill=\"none\" id=\"E4-&gt;E6\" style=\"stroke: #A80036; stroke-width: 1.0;\"/><polygon fill=\"#FFFFFF\" points=\"146.19,612.73,132.5666,597.7499,145.5417,592.4919,146.19,612.73\" style=\"stroke: #A80036; stroke-width: 1.0;\"/><ellipse cx=\"132.2794\" cy=\"591.7161\" fill=\"#A80036\" rx=\"2\" ry=\"2\" style=\"stroke: #A80036; stroke-width: 1.0;\"/><ellipse cx=\"141.5473\" cy=\"587.9604\" fill=\"#A80036\" rx=\"2\" ry=\"2\" style=\"stroke: #A80036; stroke-width: 1.0;\"/></a><!--MD5=[3f50a3473f1dfb74d3f76443e03635af]\n",
       "reverse link E6 to E7--><a href=\"psysml:f93e67a1-8e91-4b72-abc4-aff48dcc0ebf\" target=\"_top\" title=\"psysml:f93e67a1-8e91-4b72-abc4-aff48dcc0ebf\" xlink:actuate=\"onRequest\" xlink:href=\"psysml:f93e67a1-8e91-4b72-abc4-aff48dcc0ebf\" xlink:show=\"new\" xlink:title=\"psysml:f93e67a1-8e91-4b72-abc4-aff48dcc0ebf\" xlink:type=\"simple\"><path d=\"M179.15,663.15 C193.01,679.22 209.96,698.87 222.76,713.7 \" fill=\"none\" id=\"E6&lt;-E7\" style=\"stroke: #A80036; stroke-width: 1.0;\"/><polygon fill=\"#FFFFFF\" points=\"170.55,653.19,171.4382,660.3462,178.3855,662.2787,177.4973,655.1225,170.55,653.19\" style=\"stroke: #A80036; stroke-width: 1.0;\"/><text fill=\"#000000\" font-family=\"sans-serif\" font-size=\"13\" lengthAdjust=\"spacingAndGlyphs\" textLength=\"8\" x=\"208.8047\" y=\"702.8994\">1</text></a><!--MD5=[14ccda38c055a5c0da953d572bc50960]\n",
       "link E7 to E3--><a href=\"psysml:729e96ed-f9a8-4349-a416-61bf2a977bd8\" target=\"_top\" title=\"psysml:729e96ed-f9a8-4349-a416-61bf2a977bd8\" xlink:actuate=\"onRequest\" xlink:href=\"psysml:729e96ed-f9a8-4349-a416-61bf2a977bd8\" xlink:show=\"new\" xlink:title=\"psysml:729e96ed-f9a8-4349-a416-61bf2a977bd8\" xlink:type=\"simple\"><path d=\"M255.5,713.79 C266.43,693.7 280,662.91 280,634 C280,372 280,372 280,372 C280,331.58 239.6,302.81 207.54,286.34 \" fill=\"none\" id=\"E7-&gt;E3\" style=\"stroke: #A80036; stroke-width: 1.0;\"/><polygon fill=\"#FFFFFF\" points=\"189.1,277.68,209.2735,279.4203,203.3225,292.0925,189.1,277.68\" style=\"stroke: #A80036; stroke-width: 1.0;\"/><ellipse cx=\"213.5828\" cy=\"283.6535\" fill=\"#A80036\" rx=\"2\" ry=\"2\" style=\"stroke: #A80036; stroke-width: 1.0;\"/><ellipse cx=\"209.332\" cy=\"292.7051\" fill=\"#A80036\" rx=\"2\" ry=\"2\" style=\"stroke: #A80036; stroke-width: 1.0;\"/></a><!--MD5=[dfaffb906826c3e5aca635516100ff21]\n",
       "link E5 to E8--><a href=\"psysml:8b27b07a-ba61-4df4-814a-c4b9eba72255\" target=\"_top\" title=\"psysml:8b27b07a-ba61-4df4-814a-c4b9eba72255\" xlink:actuate=\"onRequest\" xlink:href=\"psysml:8b27b07a-ba61-4df4-814a-c4b9eba72255\" xlink:show=\"new\" xlink:title=\"psysml:8b27b07a-ba61-4df4-814a-c4b9eba72255\" xlink:type=\"simple\"><path d=\"M201.25,396.03 C192.66,417.67 179.38,451.1 169.08,477.03 \" fill=\"none\" id=\"E5-&gt;E8\" style=\"stroke: #A80036; stroke-width: 1.0;\"/><polygon fill=\"#FFFFFF\" points=\"161.61,495.84,162.108,475.5977,175.1218,480.7592,161.61,495.84\" style=\"stroke: #A80036; stroke-width: 1.0;\"/><ellipse cx=\"166.0686\" cy=\"471.0366\" fill=\"#A80036\" rx=\"2\" ry=\"2\" style=\"stroke: #A80036; stroke-width: 1.0;\"/><ellipse cx=\"175.3642\" cy=\"474.7233\" fill=\"#A80036\" rx=\"2\" ry=\"2\" style=\"stroke: #A80036; stroke-width: 1.0;\"/></a><!--MD5=[03c8294790d3c57651a1993cecff665f]\n",
       "reverse link E8 to E3--><a href=\"psysml:2fa26767-edf9-4f1d-8702-6d0b4fb1afcf\" target=\"_top\" title=\"psysml:2fa26767-edf9-4f1d-8702-6d0b4fb1afcf\" xlink:actuate=\"onRequest\" xlink:href=\"psysml:2fa26767-edf9-4f1d-8702-6d0b4fb1afcf\" xlink:show=\"new\" xlink:title=\"psysml:2fa26767-edf9-4f1d-8702-6d0b4fb1afcf\" xlink:type=\"simple\"><path d=\"M150.54,482.63 C147.6,449.27 144.63,395.82 150,350 C152.47,328.87 158.5,305.24 163.11,289.17 \" fill=\"none\" id=\"E8&lt;-E3\" style=\"stroke: #A80036; stroke-width: 1.0;\"/><polygon fill=\"#FFFFFF\" points=\"151.77,495.61,155.1851,489.2589,150.636,483.6637,147.2209,490.0148,151.77,495.61\" style=\"stroke: #A80036; stroke-width: 1.0;\"/><text fill=\"#000000\" font-family=\"sans-serif\" font-size=\"13\" lengthAdjust=\"spacingAndGlyphs\" textLength=\"7\" x=\"151\" y=\"377.5669\">y</text></a><!--MD5=[0d75d2178373a6a4568e5dc728f58aef]\n",
       "reverse link E8 to E6--><a href=\"psysml:2fa26767-edf9-4f1d-8702-6d0b4fb1afcf\" target=\"_top\" title=\"psysml:2fa26767-edf9-4f1d-8702-6d0b4fb1afcf\" xlink:actuate=\"onRequest\" xlink:href=\"psysml:2fa26767-edf9-4f1d-8702-6d0b4fb1afcf\" xlink:show=\"new\" xlink:title=\"psysml:2fa26767-edf9-4f1d-8702-6d0b4fb1afcf\" xlink:type=\"simple\"><path d=\"M154,549.36 C154,569.76 154,595.42 154,612.69 \" fill=\"none\" id=\"E8&lt;-E6\" style=\"stroke: #A80036; stroke-width: 1.0;\"/><polygon fill=\"#FFFFFF\" points=\"154,536.25,150,542.25,154,548.25,158,542.25,154,536.25\" style=\"stroke: #A80036; stroke-width: 1.0;\"/><text fill=\"#000000\" font-family=\"sans-serif\" font-size=\"13\" lengthAdjust=\"spacingAndGlyphs\" textLength=\"7\" x=\"155\" y=\"579.0669\">y</text></a><!--MD5=[23ac544a70576c3e717098101004234c]\n",
       "reverse link E9 to E10--><a href=\"psysml:2a8d2925-3f72-4e1c-849d-9e3943fa1d15\" target=\"_top\" title=\"psysml:2a8d2925-3f72-4e1c-849d-9e3943fa1d15\" xlink:actuate=\"onRequest\" xlink:href=\"psysml:2a8d2925-3f72-4e1c-849d-9e3943fa1d15\" xlink:show=\"new\" xlink:title=\"psysml:2a8d2925-3f72-4e1c-849d-9e3943fa1d15\" xlink:type=\"simple\"><path d=\"M104.95,98.49 C95.61,114.92 84.7,134.11 76.81,148 \" fill=\"none\" id=\"E9&lt;-E10\" style=\"stroke: #A80036; stroke-width: 1.0;\"/><polygon fill=\"#FFFFFF\" points=\"111.41,87.13,104.9664,90.3672,105.4762,97.5603,111.9199,94.3231,111.41,87.13\" style=\"stroke: #A80036; stroke-width: 1.0;\"/><text fill=\"#000000\" font-family=\"sans-serif\" font-size=\"13\" lengthAdjust=\"spacingAndGlyphs\" textLength=\"8\" x=\"70.8104\" y=\"137.0083\">1</text></a><!--MD5=[feeac5eb423634930294aa81f2d25a4c]\n",
       "link E10 to E3--><a href=\"psysml:be0eb1db-3a2d-4525-bfbd-aed22db095bf\" target=\"_top\" title=\"psysml:be0eb1db-3a2d-4525-bfbd-aed22db095bf\" xlink:actuate=\"onRequest\" xlink:href=\"psysml:be0eb1db-3a2d-4525-bfbd-aed22db095bf\" xlink:show=\"new\" xlink:title=\"psysml:be0eb1db-3a2d-4525-bfbd-aed22db095bf\" xlink:type=\"simple\"><path d=\"M85.86,188.09 C99.68,201.37 118.47,219.43 134.69,235.02 \" fill=\"none\" id=\"E10-&gt;E3\" style=\"stroke: #A80036; stroke-width: 1.0;\"/><polygon fill=\"#FFFFFF\" points=\"149.2,248.97,130.6476,240.8578,140.3451,230.7604,149.2,248.97\" style=\"stroke: #A80036; stroke-width: 1.0;\"/><ellipse cx=\"127.9219\" cy=\"235.467\" fill=\"#A80036\" rx=\"2\" ry=\"2\" style=\"stroke: #A80036; stroke-width: 1.0;\"/><ellipse cx=\"134.8487\" cy=\"228.2546\" fill=\"#A80036\" rx=\"2\" ry=\"2\" style=\"stroke: #A80036; stroke-width: 1.0;\"/></a><!--MD5=[1fc04a95fd77ad5ce46c1a3027516051]\n",
       "reverse link E9 to E11--><a href=\"psysml:4a4899a0-cca2-49ff-ba55-d15caf476c4f\" target=\"_top\" title=\"psysml:4a4899a0-cca2-49ff-ba55-d15caf476c4f\" xlink:actuate=\"onRequest\" xlink:href=\"psysml:4a4899a0-cca2-49ff-ba55-d15caf476c4f\" xlink:show=\"new\" xlink:title=\"psysml:4a4899a0-cca2-49ff-ba55-d15caf476c4f\" xlink:type=\"simple\"><path d=\"M139.2,99.45 C146.35,115.67 154.61,134.38 160.62,148 \" fill=\"none\" id=\"E9&lt;-E11\" style=\"stroke: #A80036; stroke-width: 1.0;\"/><polygon fill=\"#FFFFFF\" points=\"133.76,87.13,132.5217,94.234,138.603,98.1093,139.8413,91.0053,133.76,87.13\" style=\"stroke: #A80036; stroke-width: 1.0;\"/><text fill=\"#000000\" font-family=\"sans-serif\" font-size=\"13\" lengthAdjust=\"spacingAndGlyphs\" textLength=\"8\" x=\"148.9834\" y=\"137.0083\">1</text></a><!--MD5=[0517f1ce58c4d5483948f93845c45e26]\n",
       "link E11 to E3--><a href=\"psysml:8ddae6f0-112f-4ded-9c4d-74dd6bca1f55\" target=\"_top\" title=\"psysml:8ddae6f0-112f-4ded-9c4d-74dd6bca1f55\" xlink:actuate=\"onRequest\" xlink:href=\"psysml:8ddae6f0-112f-4ded-9c4d-74dd6bca1f55\" xlink:show=\"new\" xlink:title=\"psysml:8ddae6f0-112f-4ded-9c4d-74dd6bca1f55\" xlink:type=\"simple\"><path d=\"M169,188.09 C169,199.59 169,214.68 169,228.63 \" fill=\"none\" id=\"E11-&gt;E3\" style=\"stroke: #A80036; stroke-width: 1.0;\"/><polygon fill=\"#FFFFFF\" points=\"169,248.97,162,229.97,176,229.97,169,248.97\" style=\"stroke: #A80036; stroke-width: 1.0;\"/><ellipse cx=\"164\" cy=\"224.27\" fill=\"#A80036\" rx=\"2\" ry=\"2\" style=\"stroke: #A80036; stroke-width: 1.0;\"/><ellipse cx=\"174\" cy=\"224.27\" fill=\"#A80036\" rx=\"2\" ry=\"2\" style=\"stroke: #A80036; stroke-width: 1.0;\"/></a><!--MD5=[4c8d39d0a6bfea5fecabdc11b159bda3]\n",
       "@startuml\r\n",
       " \r\n",
       "package \"ItemTest\" as E1  [[psysml:ae8f2d08-e2f6-41ef-ae81-a483692b435b ]]  {\r\n",
       "comp usage \"f: A \" as E2 << << (P,limegreen) >> [[psysml:cbd0bd62-e912-4912-a2fb-da1e68d4f615 ]] {\r\n",
       "}\r\n",
       "comp def \"A\" as E3 << << (B,green) >> [[psysml:2b189b42-edf1-49d6-a72b-40b548d68a1d ]] {\r\n",
       "}\r\n",
       "comp usage \"b: B \" as E4 << << (P,limegreen) >> [[psysml:94aeed99-fa0f-4cf3-9a3c-c07fcd3df143 ]] {\r\n",
       "}\r\n",
       "comp usage \"c: C \" as E5 << << (P,limegreen) part>> [[psysml:74f7fd5f-8520-4aae-9a17-942775661558 ]] {\r\n",
       "}\r\n",
       "comp def \"<i>B</i>\" as E6 << << (B,green) >> [[psysml:f1885442-e1dd-46d9-92aa-2427019de9de ]] {\r\n",
       "}\r\n",
       "comp usage \"<i>a</i>: A \" as E7 << << (P,limegreen) part>> [[psysml:cc0b7000-21b2-4abb-bead-e88feeed0b85 ]] {\r\n",
       "}\r\n",
       "comp def \"C\" as E8 << << (B,green) >> [[psysml:6db780a5-cf23-40f2-9df9-03150cb096d0 ]] {\r\n",
       "}\r\n",
       "comp def \"P\" as E9 << <<(D,brown) port  def>> [[psysml:587854cf-6fe1-483d-a698-c7fca9a0c13c ]] {\r\n",
       "}\r\n",
       "comp usage \"a1: A \" as E10 << << (P,limegreen) >> [[psysml:f73739ed-5364-4403-8254-d4f943238dfa ]] {\r\n",
       "}\r\n",
       "comp usage \"a2: A \" as E11 << << (P,limegreen) >> [[psysml:6a7a2def-0eff-4194-80a2-af7f6b4a129e ]] {\r\n",
       "}\r\n",
       "}\r\n",
       "E2 - -:|> E3 [[psysml:8851b494-fad9-483d-8771-6e667cb982eb ]] \r\n",
       "E3 o- - \"1\"E4 [[psysml:bbc4490d-4884-4bf2-8394-3cd2641c3130 ]] \r\n",
       "E3 o- - \"1\"E5 [[psysml:896e58a4-3d4e-4523-9980-c4907a158d3f ]] \r\n",
       "E4 - -:|> E6 [[psysml:ae089d5e-98d2-4386-a1f6-d9056ad7f1db ]] \r\n",
       "E6 o- - \"1\"E7 [[psysml:f93e67a1-8e91-4b72-abc4-aff48dcc0ebf ]] \r\n",
       "E7 - -:|> E3 [[psysml:729e96ed-f9a8-4349-a416-61bf2a977bd8 ]] \r\n",
       "E5 - -:|> E8 [[psysml:8b27b07a-ba61-4df4-814a-c4b9eba72255 ]] \r\n",
       "E8 o- - E3 [[psysml:2fa26767-edf9-4f1d-8702-6d0b4fb1afcf ]] : y\r\n",
       "E8 o- - E6 [[psysml:2fa26767-edf9-4f1d-8702-6d0b4fb1afcf ]] : y\r\n",
       "E9 o- - \"1\"E10 [[psysml:2a8d2925-3f72-4e1c-849d-9e3943fa1d15 ]] \r\n",
       "E10 - -:|> E3 [[psysml:be0eb1db-3a2d-4525-bfbd-aed22db095bf ]] \r\n",
       "E9 o- - \"1\"E11 [[psysml:4a4899a0-cca2-49ff-ba55-d15caf476c4f ]] \r\n",
       "E11 - -:|> E3 [[psysml:8ddae6f0-112f-4ded-9c4d-74dd6bca1f55 ]] \r\n",
       "@enduml\r\n",
       "\n",
       "PlantUML version 1.2020.13(Sat Jun 13 12:26:38 UTC 2020)\n",
       "(EPL source distribution)\n",
       "Java Runtime: OpenJDK Runtime Environment\n",
       "JVM: OpenJDK 64-Bit Server VM\n",
       "Default Encoding: UTF-8\n",
       "Language: en\n",
       "Country: null\n",
       "--></g></svg>"
      ]
     },
     "execution_count": 30,
     "metadata": {},
     "output_type": "execute_result"
    }
   ],
   "source": [
    "%viz --style=\"PLANTUML\" --view=\"Default\" \"ItemTest\""
   ]
  },
  {
   "cell_type": "code",
   "execution_count": 31,
   "id": "8a699f92",
   "metadata": {
    "execution": {
     "iopub.execute_input": "2022-08-19T08:17:29.782481Z",
     "iopub.status.busy": "2022-08-19T08:17:29.782037Z",
     "iopub.status.idle": "2022-08-19T08:17:29.827477Z",
     "shell.execute_reply": "2022-08-19T08:17:29.827079Z"
    }
   },
   "outputs": [
    {
     "data": {
      "image/svg+xml": [
       "<?xml version=\"1.0\" encoding=\"UTF-8\" standalone=\"no\"?><svg xmlns=\"http://www.w3.org/2000/svg\" xmlns:xlink=\"http://www.w3.org/1999/xlink\" contentScriptType=\"application/ecmascript\" contentStyleType=\"text/css\" height=\"788px\" preserveAspectRatio=\"none\" style=\"width:332px;height:788px;\" version=\"1.1\" viewBox=\"0 0 332 788\" width=\"332px\" zoomAndPan=\"magnify\"><defs><filter height=\"300%\" id=\"f132u3rbgwth6q\" width=\"300%\" x=\"-1\" y=\"-1\"><feGaussianBlur result=\"blurOut\" stdDeviation=\"2.0\"/><feColorMatrix in=\"blurOut\" result=\"blurOut2\" type=\"matrix\" values=\"0 0 0 0 0 0 0 0 0 0 0 0 0 0 0 0 0 0 .4 0\"/><feOffset dx=\"4.0\" dy=\"4.0\" in=\"blurOut2\" result=\"blurOut3\"/><feBlend in=\"SourceGraphic\" in2=\"blurOut3\" mode=\"normal\"/></filter></defs><g><!--MD5=[fbc87193dbaf4d95561dea2c320d4a47]\n",
       "cluster E1--><a href=\"psysml:ae8f2d08-e2f6-41ef-ae81-a483692b435b\" target=\"_top\" title=\"psysml:ae8f2d08-e2f6-41ef-ae81-a483692b435b\" xlink:actuate=\"onRequest\" xlink:href=\"psysml:ae8f2d08-e2f6-41ef-ae81-a483692b435b\" xlink:show=\"new\" xlink:title=\"psysml:ae8f2d08-e2f6-41ef-ae81-a483692b435b\" xlink:type=\"simple\"><polygon fill=\"#FFFFFF\" filter=\"url(#f132u3rbgwth6q)\" points=\"16,6,83,6,90,28.2969,310,28.2969,310,776,16,776,16,6\" style=\"stroke: #000000; stroke-width: 1.5;\"/><line style=\"stroke: #000000; stroke-width: 1.5;\" x1=\"16\" x2=\"90\" y1=\"28.2969\" y2=\"28.2969\"/><text fill=\"#000000\" font-family=\"sans-serif\" font-size=\"14\" font-weight=\"bold\" lengthAdjust=\"spacingAndGlyphs\" textLength=\"61\" x=\"20\" y=\"20.9951\">ItemTest</text></a><!--MD5=[b4997ac47864f28c2f74865a473b2911]\n",
       "class E2--><a href=\"psysml:cbd0bd62-e912-4912-a2fb-da1e68d4f615\" target=\"_top\" title=\"psysml:cbd0bd62-e912-4912-a2fb-da1e68d4f615\" xlink:actuate=\"onRequest\" xlink:href=\"psysml:cbd0bd62-e912-4912-a2fb-da1e68d4f615\" xlink:show=\"new\" xlink:title=\"psysml:cbd0bd62-e912-4912-a2fb-da1e68d4f615\" xlink:type=\"simple\"><rect fill=\"#FEFECE\" filter=\"url(#f132u3rbgwth6q)\" height=\"40\" id=\"E2\" rx=\"10\" ry=\"10\" style=\"stroke: #A80036; stroke-width: 1.5;\" width=\"56\" x=\"238\" y=\"148\"/><ellipse cx=\"253\" cy=\"164\" fill=\"#32CD32\" rx=\"11\" ry=\"11\" style=\"stroke: #A80036; stroke-width: 1.0;\"/><path d=\"M249.8125,169 L249.8125,158.4063 L253.4219,158.4063 Q254.6406,158.4063 255.4375,158.8438 Q256.2344,159.2656 256.6094,159.9688 Q257,160.6719 257,161.5156 Q257,162.3594 256.625,163.0469 Q256.2656,163.7344 255.4688,164.1563 Q254.6875,164.5625 253.5,164.5625 L251.7656,164.5625 L251.7656,169 L249.8125,169 Z M251.7656,162.9688 L253.375,162.9688 Q254.1875,162.9688 254.6094,162.5625 Q255.0313,162.1563 255.0313,161.5156 Q255.0313,160.8906 254.6094,160.4844 Q254.1875,160.0781 253.3906,160.0781 L251.7656,160.0781 L251.7656,162.9688 Z \"/><text fill=\"#000000\" font-family=\"sans-serif\" font-size=\"12\" lengthAdjust=\"spacingAndGlyphs\" textLength=\"20\" x=\"267\" y=\"168.1543\">f: A</text><line style=\"stroke: #A80036; stroke-width: 1.5;\" x1=\"239\" x2=\"293\" y1=\"180\" y2=\"180\"/></a><!--MD5=[09b614a08d8cba4a07c9adeb5e0fee81]\n",
       "class E3--><a href=\"psysml:2b189b42-edf1-49d6-a72b-40b548d68a1d\" target=\"_top\" title=\"psysml:2b189b42-edf1-49d6-a72b-40b548d68a1d\" xlink:actuate=\"onRequest\" xlink:href=\"psysml:2b189b42-edf1-49d6-a72b-40b548d68a1d\" xlink:show=\"new\" xlink:title=\"psysml:2b189b42-edf1-49d6-a72b-40b548d68a1d\" xlink:type=\"simple\"><rect fill=\"#FEFECE\" filter=\"url(#f132u3rbgwth6q)\" height=\"40\" id=\"E3\" style=\"stroke: #A80036; stroke-width: 1.5;\" width=\"40\" x=\"149\" y=\"249\"/><ellipse cx=\"164\" cy=\"265\" fill=\"#008000\" rx=\"11\" ry=\"11\" style=\"stroke: #A80036; stroke-width: 1.0;\"/><path d=\"M160.875,270 L160.875,259.4063 L164.1094,259.4063 Q166.0156,259.4063 166.9219,260.1563 Q167.8438,260.9063 167.8438,262.0781 Q167.8438,262.7656 167.4531,263.4219 Q167.0781,264.0781 166.3594,264.375 Q167.2188,264.75 167.7344,265.4375 Q168.25,266.125 168.25,266.9375 Q168.25,268.3125 167.2188,269.1563 Q166.2031,270 164.0938,270 L160.875,270 Z M162.7969,263.6406 L163.9531,263.6406 Q165.0781,263.6406 165.4844,263.2656 Q165.9063,262.875 165.9063,262.25 Q165.9063,261.6719 165.4844,261.3125 Q165.0625,260.9531 164.125,260.9531 L162.7969,260.9531 L162.7969,263.6406 Z M162.7969,268.4219 L164.2969,268.4219 Q165.2031,268.4219 165.7344,268.0313 Q166.2656,267.6406 166.2656,266.8906 Q166.2656,266.125 165.7656,265.6563 Q165.2656,265.1719 164,265.1719 L162.7969,265.1719 L162.7969,268.4219 Z \"/><text fill=\"#000000\" font-family=\"sans-serif\" font-size=\"12\" lengthAdjust=\"spacingAndGlyphs\" textLength=\"8\" x=\"178\" y=\"269.1543\">A</text><line style=\"stroke: #A80036; stroke-width: 1.5;\" x1=\"150\" x2=\"188\" y1=\"281\" y2=\"281\"/></a><!--MD5=[ebbe1d658d1005bcc118a6aa81145e00]\n",
       "class E4--><a href=\"psysml:94aeed99-fa0f-4cf3-9a3c-c07fcd3df143\" target=\"_top\" title=\"psysml:94aeed99-fa0f-4cf3-9a3c-c07fcd3df143\" xlink:actuate=\"onRequest\" xlink:href=\"psysml:94aeed99-fa0f-4cf3-9a3c-c07fcd3df143\" xlink:show=\"new\" xlink:title=\"psysml:94aeed99-fa0f-4cf3-9a3c-c07fcd3df143\" xlink:type=\"simple\"><rect fill=\"#FEFECE\" filter=\"url(#f132u3rbgwth6q)\" height=\"40\" id=\"E4\" rx=\"10\" ry=\"10\" style=\"stroke: #A80036; stroke-width: 1.5;\" width=\"60\" x=\"49\" y=\"426\"/><ellipse cx=\"64\" cy=\"442\" fill=\"#32CD32\" rx=\"11\" ry=\"11\" style=\"stroke: #A80036; stroke-width: 1.0;\"/><path d=\"M60.8125,447 L60.8125,436.4063 L64.4219,436.4063 Q65.6406,436.4063 66.4375,436.8438 Q67.2344,437.2656 67.6094,437.9688 Q68,438.6719 68,439.5156 Q68,440.3594 67.625,441.0469 Q67.2656,441.7344 66.4688,442.1563 Q65.6875,442.5625 64.5,442.5625 L62.7656,442.5625 L62.7656,447 L60.8125,447 Z M62.7656,440.9688 L64.375,440.9688 Q65.1875,440.9688 65.6094,440.5625 Q66.0313,440.1563 66.0313,439.5156 Q66.0313,438.8906 65.6094,438.4844 Q65.1875,438.0781 64.3906,438.0781 L62.7656,438.0781 L62.7656,440.9688 Z \"/><text fill=\"#000000\" font-family=\"sans-serif\" font-size=\"12\" lengthAdjust=\"spacingAndGlyphs\" textLength=\"24\" x=\"78\" y=\"446.1543\">b: B</text><line style=\"stroke: #A80036; stroke-width: 1.5;\" x1=\"50\" x2=\"108\" y1=\"458\" y2=\"458\"/></a><!--MD5=[270fce915f116d4de14055a7c1d9a0f3]\n",
       "class E5--><a href=\"psysml:74f7fd5f-8520-4aae-9a17-942775661558\" target=\"_top\" title=\"psysml:74f7fd5f-8520-4aae-9a17-942775661558\" xlink:actuate=\"onRequest\" xlink:href=\"psysml:74f7fd5f-8520-4aae-9a17-942775661558\" xlink:show=\"new\" xlink:title=\"psysml:74f7fd5f-8520-4aae-9a17-942775661558\" xlink:type=\"simple\"><rect fill=\"#FEFECE\" filter=\"url(#f132u3rbgwth6q)\" height=\"45.9375\" id=\"E5\" rx=\"10\" ry=\"10\" style=\"stroke: #A80036; stroke-width: 1.5;\" width=\"68\" x=\"176\" y=\"350\"/><ellipse cx=\"191\" cy=\"368.9688\" fill=\"#32CD32\" rx=\"11\" ry=\"11\" style=\"stroke: #A80036; stroke-width: 1.0;\"/><path d=\"M187.8125,373.9688 L187.8125,363.375 L191.4219,363.375 Q192.6406,363.375 193.4375,363.8125 Q194.2344,364.2344 194.6094,364.9375 Q195,365.6406 195,366.4844 Q195,367.3281 194.625,368.0156 Q194.2656,368.7031 193.4688,369.125 Q192.6875,369.5313 191.5,369.5313 L189.7656,369.5313 L189.7656,373.9688 L187.8125,373.9688 Z M189.7656,367.9375 L191.375,367.9375 Q192.1875,367.9375 192.6094,367.5313 Q193.0313,367.125 193.0313,366.4844 Q193.0313,365.8594 192.6094,365.4531 Q192.1875,365.0469 191.3906,365.0469 L189.7656,365.0469 L189.7656,367.9375 Z \"/><text fill=\"#000000\" font-family=\"sans-serif\" font-size=\"12\" font-style=\"italic\" lengthAdjust=\"spacingAndGlyphs\" textLength=\"40\" x=\"203\" y=\"366.1387\">«part»</text><text fill=\"#000000\" font-family=\"sans-serif\" font-size=\"12\" lengthAdjust=\"spacingAndGlyphs\" textLength=\"23\" x=\"209.5\" y=\"380.1074\">c: C</text><line style=\"stroke: #A80036; stroke-width: 1.5;\" x1=\"177\" x2=\"243\" y1=\"387.9375\" y2=\"387.9375\"/></a><!--MD5=[60a26617385b1d2d0262a64233df1f8d]\n",
       "class E6--><a href=\"psysml:f1885442-e1dd-46d9-92aa-2427019de9de\" target=\"_top\" title=\"psysml:f1885442-e1dd-46d9-92aa-2427019de9de\" xlink:actuate=\"onRequest\" xlink:href=\"psysml:f1885442-e1dd-46d9-92aa-2427019de9de\" xlink:show=\"new\" xlink:title=\"psysml:f1885442-e1dd-46d9-92aa-2427019de9de\" xlink:type=\"simple\"><rect fill=\"#FEFECE\" filter=\"url(#f132u3rbgwth6q)\" height=\"40\" id=\"E6\" style=\"stroke: #A80036; stroke-width: 1.5;\" width=\"40\" x=\"134\" y=\"613\"/><ellipse cx=\"149\" cy=\"629\" fill=\"#008000\" rx=\"11\" ry=\"11\" style=\"stroke: #A80036; stroke-width: 1.0;\"/><path d=\"M145.875,634 L145.875,623.4063 L149.1094,623.4063 Q151.0156,623.4063 151.9219,624.1563 Q152.8438,624.9063 152.8438,626.0781 Q152.8438,626.7656 152.4531,627.4219 Q152.0781,628.0781 151.3594,628.375 Q152.2188,628.75 152.7344,629.4375 Q153.25,630.125 153.25,630.9375 Q153.25,632.3125 152.2188,633.1563 Q151.2031,634 149.0938,634 L145.875,634 Z M147.7969,627.6406 L148.9531,627.6406 Q150.0781,627.6406 150.4844,627.2656 Q150.9063,626.875 150.9063,626.25 Q150.9063,625.6719 150.4844,625.3125 Q150.0625,624.9531 149.125,624.9531 L147.7969,624.9531 L147.7969,627.6406 Z M147.7969,632.4219 L149.2969,632.4219 Q150.2031,632.4219 150.7344,632.0313 Q151.2656,631.6406 151.2656,630.8906 Q151.2656,630.125 150.7656,629.6563 Q150.2656,629.1719 149,629.1719 L147.7969,629.1719 L147.7969,632.4219 Z \"/><text fill=\"#000000\" font-family=\"sans-serif\" font-size=\"12\" font-style=\"italic\" lengthAdjust=\"spacingAndGlyphs\" textLength=\"8\" x=\"163\" y=\"633.1543\">B</text><line style=\"stroke: #A80036; stroke-width: 1.5;\" x1=\"135\" x2=\"173\" y1=\"645\" y2=\"645\"/></a><!--MD5=[2156ba9850f5573cc1fc38a6a4b2f02b]\n",
       "class E7--><a href=\"psysml:cc0b7000-21b2-4abb-bead-e88feeed0b85\" target=\"_top\" title=\"psysml:cc0b7000-21b2-4abb-bead-e88feeed0b85\" xlink:actuate=\"onRequest\" xlink:href=\"psysml:cc0b7000-21b2-4abb-bead-e88feeed0b85\" xlink:show=\"new\" xlink:title=\"psysml:cc0b7000-21b2-4abb-bead-e88feeed0b85\" xlink:type=\"simple\"><rect fill=\"#FEFECE\" filter=\"url(#f132u3rbgwth6q)\" height=\"45.9375\" id=\"E7\" rx=\"10\" ry=\"10\" style=\"stroke: #A80036; stroke-width: 1.5;\" width=\"68\" x=\"208\" y=\"714\"/><ellipse cx=\"223\" cy=\"732.9688\" fill=\"#32CD32\" rx=\"11\" ry=\"11\" style=\"stroke: #A80036; stroke-width: 1.0;\"/><path d=\"M219.8125,737.9688 L219.8125,727.375 L223.4219,727.375 Q224.6406,727.375 225.4375,727.8125 Q226.2344,728.2344 226.6094,728.9375 Q227,729.6406 227,730.4844 Q227,731.3281 226.625,732.0156 Q226.2656,732.7031 225.4688,733.125 Q224.6875,733.5313 223.5,733.5313 L221.7656,733.5313 L221.7656,737.9688 L219.8125,737.9688 Z M221.7656,731.9375 L223.375,731.9375 Q224.1875,731.9375 224.6094,731.5313 Q225.0313,731.125 225.0313,730.4844 Q225.0313,729.8594 224.6094,729.4531 Q224.1875,729.0469 223.3906,729.0469 L221.7656,729.0469 L221.7656,731.9375 Z \"/><text fill=\"#000000\" font-family=\"sans-serif\" font-size=\"12\" font-style=\"italic\" lengthAdjust=\"spacingAndGlyphs\" textLength=\"40\" x=\"235\" y=\"730.1387\">«part»</text><text fill=\"#000000\" font-family=\"sans-serif\" font-size=\"12\" font-style=\"italic\" lengthAdjust=\"spacingAndGlyphs\" textLength=\"8\" x=\"241\" y=\"744.1074\">a</text><text fill=\"#000000\" font-family=\"sans-serif\" font-size=\"12\" lengthAdjust=\"spacingAndGlyphs\" textLength=\"16\" x=\"249\" y=\"744.1074\">: A</text><line style=\"stroke: #A80036; stroke-width: 1.5;\" x1=\"209\" x2=\"275\" y1=\"751.9375\" y2=\"751.9375\"/></a><!--MD5=[b9389687b975829384b498ac4b7476b2]\n",
       "class E8--><a href=\"psysml:6db780a5-cf23-40f2-9df9-03150cb096d0\" target=\"_top\" title=\"psysml:6db780a5-cf23-40f2-9df9-03150cb096d0\" xlink:actuate=\"onRequest\" xlink:href=\"psysml:6db780a5-cf23-40f2-9df9-03150cb096d0\" xlink:show=\"new\" xlink:title=\"psysml:6db780a5-cf23-40f2-9df9-03150cb096d0\" xlink:type=\"simple\"><rect fill=\"#FEFECE\" filter=\"url(#f132u3rbgwth6q)\" height=\"40\" id=\"E8\" style=\"stroke: #A80036; stroke-width: 1.5;\" width=\"40\" x=\"134\" y=\"496\"/><ellipse cx=\"149\" cy=\"512\" fill=\"#008000\" rx=\"11\" ry=\"11\" style=\"stroke: #A80036; stroke-width: 1.0;\"/><path d=\"M145.875,517 L145.875,506.4063 L149.1094,506.4063 Q151.0156,506.4063 151.9219,507.1563 Q152.8438,507.9063 152.8438,509.0781 Q152.8438,509.7656 152.4531,510.4219 Q152.0781,511.0781 151.3594,511.375 Q152.2188,511.75 152.7344,512.4375 Q153.25,513.125 153.25,513.9375 Q153.25,515.3125 152.2188,516.1563 Q151.2031,517 149.0938,517 L145.875,517 Z M147.7969,510.6406 L148.9531,510.6406 Q150.0781,510.6406 150.4844,510.2656 Q150.9063,509.875 150.9063,509.25 Q150.9063,508.6719 150.4844,508.3125 Q150.0625,507.9531 149.125,507.9531 L147.7969,507.9531 L147.7969,510.6406 Z M147.7969,515.4219 L149.2969,515.4219 Q150.2031,515.4219 150.7344,515.0313 Q151.2656,514.6406 151.2656,513.8906 Q151.2656,513.125 150.7656,512.6563 Q150.2656,512.1719 149,512.1719 L147.7969,512.1719 L147.7969,515.4219 Z \"/><text fill=\"#000000\" font-family=\"sans-serif\" font-size=\"12\" lengthAdjust=\"spacingAndGlyphs\" textLength=\"8\" x=\"163\" y=\"516.1543\">C</text><line style=\"stroke: #A80036; stroke-width: 1.5;\" x1=\"135\" x2=\"173\" y1=\"528\" y2=\"528\"/></a><!--MD5=[fd4143e9d270a159db93a4ea2a975926]\n",
       "class E9--><a href=\"psysml:587854cf-6fe1-483d-a698-c7fca9a0c13c\" target=\"_top\" title=\"psysml:587854cf-6fe1-483d-a698-c7fca9a0c13c\" xlink:actuate=\"onRequest\" xlink:href=\"psysml:587854cf-6fe1-483d-a698-c7fca9a0c13c\" xlink:show=\"new\" xlink:title=\"psysml:587854cf-6fe1-483d-a698-c7fca9a0c13c\" xlink:type=\"simple\"><rect fill=\"#FEFECE\" filter=\"url(#f132u3rbgwth6q)\" height=\"45.9375\" id=\"E9\" style=\"stroke: #A80036; stroke-width: 1.5;\" width=\"96\" x=\"76\" y=\"41\"/><ellipse cx=\"91\" cy=\"59.9688\" fill=\"#A52A2A\" rx=\"11\" ry=\"11\" style=\"stroke: #A80036; stroke-width: 1.0;\"/><path d=\"M88.2188,64.9688 L88.2188,54.375 L90.9531,54.375 Q92.3438,54.375 93.1094,54.7656 Q93.8906,55.1406 94.4219,55.8438 Q94.9531,56.5469 95.25,57.5469 Q95.5469,58.5313 95.5469,59.75 Q95.5,61.3438 95,62.5313 Q94.5156,63.7031 93.4688,64.3438 Q92.4375,64.9688 90.75,64.9688 L88.2188,64.9688 Z M90.0781,63.4688 L90.7031,63.4688 Q91.7813,63.4688 92.4375,63.0156 Q93.0938,62.5625 93.375,61.7344 Q93.6719,60.8906 93.6563,59.7656 Q93.6563,58.5938 93.4063,57.7344 Q93.1563,56.8594 92.5469,56.3906 Q91.9375,55.9063 90.8906,55.9063 L90.0781,55.9063 L90.0781,63.4688 Z \"/><text fill=\"#000000\" font-family=\"sans-serif\" font-size=\"12\" font-style=\"italic\" lengthAdjust=\"spacingAndGlyphs\" textLength=\"68\" x=\"103\" y=\"57.1387\">«port  def»</text><text fill=\"#000000\" font-family=\"sans-serif\" font-size=\"12\" lengthAdjust=\"spacingAndGlyphs\" textLength=\"8\" x=\"133\" y=\"71.1074\">P</text><line style=\"stroke: #A80036; stroke-width: 1.5;\" x1=\"77\" x2=\"171\" y1=\"78.9375\" y2=\"78.9375\"/></a><!--MD5=[96f4274e9e20536e775497830990834d]\n",
       "class E10--><a href=\"psysml:f73739ed-5364-4403-8254-d4f943238dfa\" target=\"_top\" title=\"psysml:f73739ed-5364-4403-8254-d4f943238dfa\" xlink:actuate=\"onRequest\" xlink:href=\"psysml:f73739ed-5364-4403-8254-d4f943238dfa\" xlink:show=\"new\" xlink:title=\"psysml:f73739ed-5364-4403-8254-d4f943238dfa\" xlink:type=\"simple\"><rect fill=\"#FEFECE\" filter=\"url(#f132u3rbgwth6q)\" height=\"40\" id=\"E10\" rx=\"10\" ry=\"10\" style=\"stroke: #A80036; stroke-width: 1.5;\" width=\"68\" x=\"32\" y=\"148\"/><ellipse cx=\"47\" cy=\"164\" fill=\"#32CD32\" rx=\"11\" ry=\"11\" style=\"stroke: #A80036; stroke-width: 1.0;\"/><path d=\"M43.8125,169 L43.8125,158.4063 L47.4219,158.4063 Q48.6406,158.4063 49.4375,158.8438 Q50.2344,159.2656 50.6094,159.9688 Q51,160.6719 51,161.5156 Q51,162.3594 50.625,163.0469 Q50.2656,163.7344 49.4688,164.1563 Q48.6875,164.5625 47.5,164.5625 L45.7656,164.5625 L45.7656,169 L43.8125,169 Z M45.7656,162.9688 L47.375,162.9688 Q48.1875,162.9688 48.6094,162.5625 Q49.0313,162.1563 49.0313,161.5156 Q49.0313,160.8906 48.6094,160.4844 Q48.1875,160.0781 47.3906,160.0781 L45.7656,160.0781 L45.7656,162.9688 Z \"/><text fill=\"#000000\" font-family=\"sans-serif\" font-size=\"12\" lengthAdjust=\"spacingAndGlyphs\" textLength=\"32\" x=\"61\" y=\"168.1543\">a1: A</text><line style=\"stroke: #A80036; stroke-width: 1.5;\" x1=\"33\" x2=\"99\" y1=\"180\" y2=\"180\"/></a><!--MD5=[1dd1bfd58a279cf63c5f349dbc8fc6a1]\n",
       "class E11--><a href=\"psysml:6a7a2def-0eff-4194-80a2-af7f6b4a129e\" target=\"_top\" title=\"psysml:6a7a2def-0eff-4194-80a2-af7f6b4a129e\" xlink:actuate=\"onRequest\" xlink:href=\"psysml:6a7a2def-0eff-4194-80a2-af7f6b4a129e\" xlink:show=\"new\" xlink:title=\"psysml:6a7a2def-0eff-4194-80a2-af7f6b4a129e\" xlink:type=\"simple\"><rect fill=\"#FEFECE\" filter=\"url(#f132u3rbgwth6q)\" height=\"40\" id=\"E11\" rx=\"10\" ry=\"10\" style=\"stroke: #A80036; stroke-width: 1.5;\" width=\"68\" x=\"135\" y=\"148\"/><ellipse cx=\"150\" cy=\"164\" fill=\"#32CD32\" rx=\"11\" ry=\"11\" style=\"stroke: #A80036; stroke-width: 1.0;\"/><path d=\"M146.8125,169 L146.8125,158.4063 L150.4219,158.4063 Q151.6406,158.4063 152.4375,158.8438 Q153.2344,159.2656 153.6094,159.9688 Q154,160.6719 154,161.5156 Q154,162.3594 153.625,163.0469 Q153.2656,163.7344 152.4688,164.1563 Q151.6875,164.5625 150.5,164.5625 L148.7656,164.5625 L148.7656,169 L146.8125,169 Z M148.7656,162.9688 L150.375,162.9688 Q151.1875,162.9688 151.6094,162.5625 Q152.0313,162.1563 152.0313,161.5156 Q152.0313,160.8906 151.6094,160.4844 Q151.1875,160.0781 150.3906,160.0781 L148.7656,160.0781 L148.7656,162.9688 Z \"/><text fill=\"#000000\" font-family=\"sans-serif\" font-size=\"12\" lengthAdjust=\"spacingAndGlyphs\" textLength=\"32\" x=\"164\" y=\"168.1543\">a2: A</text><line style=\"stroke: #A80036; stroke-width: 1.5;\" x1=\"136\" x2=\"202\" y1=\"180\" y2=\"180\"/></a><!--MD5=[2720a5a1f2c3fca2055b230370638851]\n",
       "link E2 to E3--><a href=\"psysml:8851b494-fad9-483d-8771-6e667cb982eb\" target=\"_top\" title=\"psysml:8851b494-fad9-483d-8771-6e667cb982eb\" xlink:actuate=\"onRequest\" xlink:href=\"psysml:8851b494-fad9-483d-8771-6e667cb982eb\" xlink:show=\"new\" xlink:title=\"psysml:8851b494-fad9-483d-8771-6e667cb982eb\" xlink:type=\"simple\"><path d=\"M247.3,188.09 C234.42,201.24 216.95,219.06 201.79,234.53 \" fill=\"none\" id=\"E2-&gt;E3\" style=\"stroke: #A80036; stroke-width: 1.0;\"/><polygon fill=\"#FFFFFF\" points=\"187.65,248.97,195.9397,230.4962,205.9437,240.2901,187.65,248.97\" style=\"stroke: #A80036; stroke-width: 1.0;\"/><ellipse cx=\"201.3564\" cy=\"227.8223\" fill=\"#A80036\" rx=\"2\" ry=\"2\" style=\"stroke: #A80036; stroke-width: 1.0;\"/><ellipse cx=\"208.5021\" cy=\"234.8179\" fill=\"#A80036\" rx=\"2\" ry=\"2\" style=\"stroke: #A80036; stroke-width: 1.0;\"/></a><!--MD5=[4672eba38e49728da53d11aeb285b987]\n",
       "reverse link E3 to E4--><a href=\"psysml:bbc4490d-4884-4bf2-8394-3cd2641c3130\" target=\"_top\" title=\"psysml:bbc4490d-4884-4bf2-8394-3cd2641c3130\" xlink:actuate=\"onRequest\" xlink:href=\"psysml:bbc4490d-4884-4bf2-8394-3cd2641c3130\" xlink:show=\"new\" xlink:title=\"psysml:bbc4490d-4884-4bf2-8394-3cd2641c3130\" xlink:type=\"simple\"><path d=\"M138.27,292.03 C120.72,306.42 100.07,326.8 89,350 C77.43,374.25 76.5,405.85 77.38,425.79 \" fill=\"none\" id=\"E3&lt;-E4\" style=\"stroke: #A80036; stroke-width: 1.0;\"/><polygon fill=\"#FFFFFF\" points=\"148.68,283.88,141.4897,284.427,139.2291,291.2746,146.4194,290.7276,148.68,283.88\" style=\"stroke: #A80036; stroke-width: 1.0;\"/><text fill=\"#000000\" font-family=\"sans-serif\" font-size=\"13\" lengthAdjust=\"spacingAndGlyphs\" textLength=\"8\" x=\"67.7994\" y=\"415.0821\">1</text></a><!--MD5=[191cde3d490a3f6d7bb551fe3ddca469]\n",
       "reverse link E3 to E5--><a href=\"psysml:896e58a4-3d4e-4523-9980-c4907a158d3f\" target=\"_top\" title=\"psysml:896e58a4-3d4e-4523-9980-c4907a158d3f\" xlink:actuate=\"onRequest\" xlink:href=\"psysml:896e58a4-3d4e-4523-9980-c4907a158d3f\" xlink:show=\"new\" xlink:title=\"psysml:896e58a4-3d4e-4523-9980-c4907a158d3f\" xlink:type=\"simple\"><path d=\"M181.65,301.47 C187.92,317.08 195.36,335.57 201.04,349.7 \" fill=\"none\" id=\"E3&lt;-E5\" style=\"stroke: #A80036; stroke-width: 1.0;\"/><polygon fill=\"#FFFFFF\" points=\"176.71,289.19,175.2345,296.2485,181.1826,300.3253,182.6581,293.2668,176.71,289.19\" style=\"stroke: #A80036; stroke-width: 1.0;\"/><text fill=\"#000000\" font-family=\"sans-serif\" font-size=\"13\" lengthAdjust=\"spacingAndGlyphs\" textLength=\"8\" x=\"189.719\" y=\"338.8994\">1</text></a><!--MD5=[79568f1e445c3877b6a54524624ccc7d]\n",
       "link E4 to E6--><a href=\"psysml:ae089d5e-98d2-4386-a1f6-d9056ad7f1db\" target=\"_top\" title=\"psysml:ae089d5e-98d2-4386-a1f6-d9056ad7f1db\" xlink:actuate=\"onRequest\" xlink:href=\"psysml:ae089d5e-98d2-4386-a1f6-d9056ad7f1db\" xlink:show=\"new\" xlink:title=\"psysml:ae089d5e-98d2-4386-a1f6-d9056ad7f1db\" xlink:type=\"simple\"><path d=\"M86.74,466.1 C98.93,496.15 122.8,555.04 138.58,593.96 \" fill=\"none\" id=\"E4-&gt;E6\" style=\"stroke: #A80036; stroke-width: 1.0;\"/><polygon fill=\"#FFFFFF\" points=\"146.19,612.73,132.5666,597.7499,145.5417,592.4919,146.19,612.73\" style=\"stroke: #A80036; stroke-width: 1.0;\"/><ellipse cx=\"132.2794\" cy=\"591.7161\" fill=\"#A80036\" rx=\"2\" ry=\"2\" style=\"stroke: #A80036; stroke-width: 1.0;\"/><ellipse cx=\"141.5473\" cy=\"587.9604\" fill=\"#A80036\" rx=\"2\" ry=\"2\" style=\"stroke: #A80036; stroke-width: 1.0;\"/></a><!--MD5=[3f50a3473f1dfb74d3f76443e03635af]\n",
       "reverse link E6 to E7--><a href=\"psysml:f93e67a1-8e91-4b72-abc4-aff48dcc0ebf\" target=\"_top\" title=\"psysml:f93e67a1-8e91-4b72-abc4-aff48dcc0ebf\" xlink:actuate=\"onRequest\" xlink:href=\"psysml:f93e67a1-8e91-4b72-abc4-aff48dcc0ebf\" xlink:show=\"new\" xlink:title=\"psysml:f93e67a1-8e91-4b72-abc4-aff48dcc0ebf\" xlink:type=\"simple\"><path d=\"M179.15,663.15 C193.01,679.22 209.96,698.87 222.76,713.7 \" fill=\"none\" id=\"E6&lt;-E7\" style=\"stroke: #A80036; stroke-width: 1.0;\"/><polygon fill=\"#FFFFFF\" points=\"170.55,653.19,171.4382,660.3462,178.3855,662.2787,177.4973,655.1225,170.55,653.19\" style=\"stroke: #A80036; stroke-width: 1.0;\"/><text fill=\"#000000\" font-family=\"sans-serif\" font-size=\"13\" lengthAdjust=\"spacingAndGlyphs\" textLength=\"8\" x=\"208.8047\" y=\"702.8994\">1</text></a><!--MD5=[14ccda38c055a5c0da953d572bc50960]\n",
       "link E7 to E3--><a href=\"psysml:729e96ed-f9a8-4349-a416-61bf2a977bd8\" target=\"_top\" title=\"psysml:729e96ed-f9a8-4349-a416-61bf2a977bd8\" xlink:actuate=\"onRequest\" xlink:href=\"psysml:729e96ed-f9a8-4349-a416-61bf2a977bd8\" xlink:show=\"new\" xlink:title=\"psysml:729e96ed-f9a8-4349-a416-61bf2a977bd8\" xlink:type=\"simple\"><path d=\"M255.5,713.79 C266.43,693.7 280,662.91 280,634 C280,372 280,372 280,372 C280,331.58 239.6,302.81 207.54,286.34 \" fill=\"none\" id=\"E7-&gt;E3\" style=\"stroke: #A80036; stroke-width: 1.0;\"/><polygon fill=\"#FFFFFF\" points=\"189.1,277.68,209.2735,279.4203,203.3225,292.0925,189.1,277.68\" style=\"stroke: #A80036; stroke-width: 1.0;\"/><ellipse cx=\"213.5828\" cy=\"283.6535\" fill=\"#A80036\" rx=\"2\" ry=\"2\" style=\"stroke: #A80036; stroke-width: 1.0;\"/><ellipse cx=\"209.332\" cy=\"292.7051\" fill=\"#A80036\" rx=\"2\" ry=\"2\" style=\"stroke: #A80036; stroke-width: 1.0;\"/></a><!--MD5=[dfaffb906826c3e5aca635516100ff21]\n",
       "link E5 to E8--><a href=\"psysml:8b27b07a-ba61-4df4-814a-c4b9eba72255\" target=\"_top\" title=\"psysml:8b27b07a-ba61-4df4-814a-c4b9eba72255\" xlink:actuate=\"onRequest\" xlink:href=\"psysml:8b27b07a-ba61-4df4-814a-c4b9eba72255\" xlink:show=\"new\" xlink:title=\"psysml:8b27b07a-ba61-4df4-814a-c4b9eba72255\" xlink:type=\"simple\"><path d=\"M201.25,396.03 C192.66,417.67 179.38,451.1 169.08,477.03 \" fill=\"none\" id=\"E5-&gt;E8\" style=\"stroke: #A80036; stroke-width: 1.0;\"/><polygon fill=\"#FFFFFF\" points=\"161.61,495.84,162.108,475.5977,175.1218,480.7592,161.61,495.84\" style=\"stroke: #A80036; stroke-width: 1.0;\"/><ellipse cx=\"166.0686\" cy=\"471.0366\" fill=\"#A80036\" rx=\"2\" ry=\"2\" style=\"stroke: #A80036; stroke-width: 1.0;\"/><ellipse cx=\"175.3642\" cy=\"474.7233\" fill=\"#A80036\" rx=\"2\" ry=\"2\" style=\"stroke: #A80036; stroke-width: 1.0;\"/></a><!--MD5=[03c8294790d3c57651a1993cecff665f]\n",
       "reverse link E8 to E3--><a href=\"psysml:2fa26767-edf9-4f1d-8702-6d0b4fb1afcf\" target=\"_top\" title=\"psysml:2fa26767-edf9-4f1d-8702-6d0b4fb1afcf\" xlink:actuate=\"onRequest\" xlink:href=\"psysml:2fa26767-edf9-4f1d-8702-6d0b4fb1afcf\" xlink:show=\"new\" xlink:title=\"psysml:2fa26767-edf9-4f1d-8702-6d0b4fb1afcf\" xlink:type=\"simple\"><path d=\"M150.54,482.63 C147.6,449.27 144.63,395.82 150,350 C152.47,328.87 158.5,305.24 163.11,289.17 \" fill=\"none\" id=\"E8&lt;-E3\" style=\"stroke: #A80036; stroke-width: 1.0;\"/><polygon fill=\"#FFFFFF\" points=\"151.77,495.61,155.1851,489.2589,150.636,483.6637,147.2209,490.0148,151.77,495.61\" style=\"stroke: #A80036; stroke-width: 1.0;\"/><text fill=\"#000000\" font-family=\"sans-serif\" font-size=\"13\" lengthAdjust=\"spacingAndGlyphs\" textLength=\"7\" x=\"151\" y=\"377.5669\">y</text></a><!--MD5=[0d75d2178373a6a4568e5dc728f58aef]\n",
       "reverse link E8 to E6--><a href=\"psysml:2fa26767-edf9-4f1d-8702-6d0b4fb1afcf\" target=\"_top\" title=\"psysml:2fa26767-edf9-4f1d-8702-6d0b4fb1afcf\" xlink:actuate=\"onRequest\" xlink:href=\"psysml:2fa26767-edf9-4f1d-8702-6d0b4fb1afcf\" xlink:show=\"new\" xlink:title=\"psysml:2fa26767-edf9-4f1d-8702-6d0b4fb1afcf\" xlink:type=\"simple\"><path d=\"M154,549.36 C154,569.76 154,595.42 154,612.69 \" fill=\"none\" id=\"E8&lt;-E6\" style=\"stroke: #A80036; stroke-width: 1.0;\"/><polygon fill=\"#FFFFFF\" points=\"154,536.25,150,542.25,154,548.25,158,542.25,154,536.25\" style=\"stroke: #A80036; stroke-width: 1.0;\"/><text fill=\"#000000\" font-family=\"sans-serif\" font-size=\"13\" lengthAdjust=\"spacingAndGlyphs\" textLength=\"7\" x=\"155\" y=\"579.0669\">y</text></a><!--MD5=[23ac544a70576c3e717098101004234c]\n",
       "reverse link E9 to E10--><a href=\"psysml:2a8d2925-3f72-4e1c-849d-9e3943fa1d15\" target=\"_top\" title=\"psysml:2a8d2925-3f72-4e1c-849d-9e3943fa1d15\" xlink:actuate=\"onRequest\" xlink:href=\"psysml:2a8d2925-3f72-4e1c-849d-9e3943fa1d15\" xlink:show=\"new\" xlink:title=\"psysml:2a8d2925-3f72-4e1c-849d-9e3943fa1d15\" xlink:type=\"simple\"><path d=\"M104.95,98.49 C95.61,114.92 84.7,134.11 76.81,148 \" fill=\"none\" id=\"E9&lt;-E10\" style=\"stroke: #A80036; stroke-width: 1.0;\"/><polygon fill=\"#FFFFFF\" points=\"111.41,87.13,104.9664,90.3672,105.4762,97.5603,111.9199,94.3231,111.41,87.13\" style=\"stroke: #A80036; stroke-width: 1.0;\"/><text fill=\"#000000\" font-family=\"sans-serif\" font-size=\"13\" lengthAdjust=\"spacingAndGlyphs\" textLength=\"8\" x=\"70.8104\" y=\"137.0083\">1</text></a><!--MD5=[feeac5eb423634930294aa81f2d25a4c]\n",
       "link E10 to E3--><a href=\"psysml:be0eb1db-3a2d-4525-bfbd-aed22db095bf\" target=\"_top\" title=\"psysml:be0eb1db-3a2d-4525-bfbd-aed22db095bf\" xlink:actuate=\"onRequest\" xlink:href=\"psysml:be0eb1db-3a2d-4525-bfbd-aed22db095bf\" xlink:show=\"new\" xlink:title=\"psysml:be0eb1db-3a2d-4525-bfbd-aed22db095bf\" xlink:type=\"simple\"><path d=\"M85.86,188.09 C99.68,201.37 118.47,219.43 134.69,235.02 \" fill=\"none\" id=\"E10-&gt;E3\" style=\"stroke: #A80036; stroke-width: 1.0;\"/><polygon fill=\"#FFFFFF\" points=\"149.2,248.97,130.6476,240.8578,140.3451,230.7604,149.2,248.97\" style=\"stroke: #A80036; stroke-width: 1.0;\"/><ellipse cx=\"127.9219\" cy=\"235.467\" fill=\"#A80036\" rx=\"2\" ry=\"2\" style=\"stroke: #A80036; stroke-width: 1.0;\"/><ellipse cx=\"134.8487\" cy=\"228.2546\" fill=\"#A80036\" rx=\"2\" ry=\"2\" style=\"stroke: #A80036; stroke-width: 1.0;\"/></a><!--MD5=[1fc04a95fd77ad5ce46c1a3027516051]\n",
       "reverse link E9 to E11--><a href=\"psysml:4a4899a0-cca2-49ff-ba55-d15caf476c4f\" target=\"_top\" title=\"psysml:4a4899a0-cca2-49ff-ba55-d15caf476c4f\" xlink:actuate=\"onRequest\" xlink:href=\"psysml:4a4899a0-cca2-49ff-ba55-d15caf476c4f\" xlink:show=\"new\" xlink:title=\"psysml:4a4899a0-cca2-49ff-ba55-d15caf476c4f\" xlink:type=\"simple\"><path d=\"M139.2,99.45 C146.35,115.67 154.61,134.38 160.62,148 \" fill=\"none\" id=\"E9&lt;-E11\" style=\"stroke: #A80036; stroke-width: 1.0;\"/><polygon fill=\"#FFFFFF\" points=\"133.76,87.13,132.5217,94.234,138.603,98.1093,139.8413,91.0053,133.76,87.13\" style=\"stroke: #A80036; stroke-width: 1.0;\"/><text fill=\"#000000\" font-family=\"sans-serif\" font-size=\"13\" lengthAdjust=\"spacingAndGlyphs\" textLength=\"8\" x=\"148.9834\" y=\"137.0083\">1</text></a><!--MD5=[0517f1ce58c4d5483948f93845c45e26]\n",
       "link E11 to E3--><a href=\"psysml:8ddae6f0-112f-4ded-9c4d-74dd6bca1f55\" target=\"_top\" title=\"psysml:8ddae6f0-112f-4ded-9c4d-74dd6bca1f55\" xlink:actuate=\"onRequest\" xlink:href=\"psysml:8ddae6f0-112f-4ded-9c4d-74dd6bca1f55\" xlink:show=\"new\" xlink:title=\"psysml:8ddae6f0-112f-4ded-9c4d-74dd6bca1f55\" xlink:type=\"simple\"><path d=\"M169,188.09 C169,199.59 169,214.68 169,228.63 \" fill=\"none\" id=\"E11-&gt;E3\" style=\"stroke: #A80036; stroke-width: 1.0;\"/><polygon fill=\"#FFFFFF\" points=\"169,248.97,162,229.97,176,229.97,169,248.97\" style=\"stroke: #A80036; stroke-width: 1.0;\"/><ellipse cx=\"164\" cy=\"224.27\" fill=\"#A80036\" rx=\"2\" ry=\"2\" style=\"stroke: #A80036; stroke-width: 1.0;\"/><ellipse cx=\"174\" cy=\"224.27\" fill=\"#A80036\" rx=\"2\" ry=\"2\" style=\"stroke: #A80036; stroke-width: 1.0;\"/></a><!--MD5=[4c8d39d0a6bfea5fecabdc11b159bda3]\n",
       "@startuml\r\n",
       " \r\n",
       "package \"ItemTest\" as E1  [[psysml:ae8f2d08-e2f6-41ef-ae81-a483692b435b ]]  {\r\n",
       "comp usage \"f: A \" as E2 << << (P,limegreen) >> [[psysml:cbd0bd62-e912-4912-a2fb-da1e68d4f615 ]] {\r\n",
       "}\r\n",
       "comp def \"A\" as E3 << << (B,green) >> [[psysml:2b189b42-edf1-49d6-a72b-40b548d68a1d ]] {\r\n",
       "}\r\n",
       "comp usage \"b: B \" as E4 << << (P,limegreen) >> [[psysml:94aeed99-fa0f-4cf3-9a3c-c07fcd3df143 ]] {\r\n",
       "}\r\n",
       "comp usage \"c: C \" as E5 << << (P,limegreen) part>> [[psysml:74f7fd5f-8520-4aae-9a17-942775661558 ]] {\r\n",
       "}\r\n",
       "comp def \"<i>B</i>\" as E6 << << (B,green) >> [[psysml:f1885442-e1dd-46d9-92aa-2427019de9de ]] {\r\n",
       "}\r\n",
       "comp usage \"<i>a</i>: A \" as E7 << << (P,limegreen) part>> [[psysml:cc0b7000-21b2-4abb-bead-e88feeed0b85 ]] {\r\n",
       "}\r\n",
       "comp def \"C\" as E8 << << (B,green) >> [[psysml:6db780a5-cf23-40f2-9df9-03150cb096d0 ]] {\r\n",
       "}\r\n",
       "comp def \"P\" as E9 << <<(D,brown) port  def>> [[psysml:587854cf-6fe1-483d-a698-c7fca9a0c13c ]] {\r\n",
       "}\r\n",
       "comp usage \"a1: A \" as E10 << << (P,limegreen) >> [[psysml:f73739ed-5364-4403-8254-d4f943238dfa ]] {\r\n",
       "}\r\n",
       "comp usage \"a2: A \" as E11 << << (P,limegreen) >> [[psysml:6a7a2def-0eff-4194-80a2-af7f6b4a129e ]] {\r\n",
       "}\r\n",
       "}\r\n",
       "E2 - -:|> E3 [[psysml:8851b494-fad9-483d-8771-6e667cb982eb ]] \r\n",
       "E3 o- - \"1\"E4 [[psysml:bbc4490d-4884-4bf2-8394-3cd2641c3130 ]] \r\n",
       "E3 o- - \"1\"E5 [[psysml:896e58a4-3d4e-4523-9980-c4907a158d3f ]] \r\n",
       "E4 - -:|> E6 [[psysml:ae089d5e-98d2-4386-a1f6-d9056ad7f1db ]] \r\n",
       "E6 o- - \"1\"E7 [[psysml:f93e67a1-8e91-4b72-abc4-aff48dcc0ebf ]] \r\n",
       "E7 - -:|> E3 [[psysml:729e96ed-f9a8-4349-a416-61bf2a977bd8 ]] \r\n",
       "E5 - -:|> E8 [[psysml:8b27b07a-ba61-4df4-814a-c4b9eba72255 ]] \r\n",
       "E8 o- - E3 [[psysml:2fa26767-edf9-4f1d-8702-6d0b4fb1afcf ]] : y\r\n",
       "E8 o- - E6 [[psysml:2fa26767-edf9-4f1d-8702-6d0b4fb1afcf ]] : y\r\n",
       "E9 o- - \"1\"E10 [[psysml:2a8d2925-3f72-4e1c-849d-9e3943fa1d15 ]] \r\n",
       "E10 - -:|> E3 [[psysml:be0eb1db-3a2d-4525-bfbd-aed22db095bf ]] \r\n",
       "E9 o- - \"1\"E11 [[psysml:4a4899a0-cca2-49ff-ba55-d15caf476c4f ]] \r\n",
       "E11 - -:|> E3 [[psysml:8ddae6f0-112f-4ded-9c4d-74dd6bca1f55 ]] \r\n",
       "@enduml\r\n",
       "\n",
       "PlantUML version 1.2020.13(Sat Jun 13 12:26:38 UTC 2020)\n",
       "(EPL source distribution)\n",
       "Java Runtime: OpenJDK Runtime Environment\n",
       "JVM: OpenJDK 64-Bit Server VM\n",
       "Default Encoding: UTF-8\n",
       "Language: en\n",
       "Country: null\n",
       "--></g></svg>"
      ]
     },
     "execution_count": 31,
     "metadata": {},
     "output_type": "execute_result"
    }
   ],
   "source": [
    "%viz --style=\"PLANTUML\" --view=\"Tree\" \"ItemTest\""
   ]
  },
  {
   "cell_type": "code",
   "execution_count": 32,
   "id": "f7567c90",
   "metadata": {
    "execution": {
     "iopub.execute_input": "2022-08-19T08:17:29.877279Z",
     "iopub.status.busy": "2022-08-19T08:17:29.876830Z",
     "iopub.status.idle": "2022-08-19T08:17:29.974113Z",
     "shell.execute_reply": "2022-08-19T08:17:29.972804Z"
    }
   },
   "outputs": [
    {
     "data": {
      "image/svg+xml": [
       "<?xml version=\"1.0\" encoding=\"UTF-8\" standalone=\"no\"?><svg xmlns=\"http://www.w3.org/2000/svg\" xmlns:xlink=\"http://www.w3.org/1999/xlink\" contentScriptType=\"application/ecmascript\" contentStyleType=\"text/css\" height=\"300px\" preserveAspectRatio=\"none\" style=\"width:603px;height:300px;background:#000000;\" version=\"1.1\" viewBox=\"0 0 603 300\" width=\"603px\" zoomAndPan=\"magnify\"><defs/><g><rect fill=\"#080E23\" height=\"1\" style=\"stroke: #080E23; stroke-width: 1.0;\" width=\"1\" x=\"0\" y=\"0\"/><rect fill=\"#FFFFFF\" height=\"202.8012\" style=\"stroke: #FFFFFF; stroke-width: 1.0;\" width=\"602\" x=\"0\" y=\"0\"/><text fill=\"#000000\" font-family=\"sans-serif\" font-size=\"12\" font-weight=\"bold\" lengthAdjust=\"spacingAndGlyphs\" textLength=\"139\" x=\"5\" y=\"16.1387\">Welcome to PlantUML!</text><text fill=\"#000000\" font-family=\"sans-serif\" font-size=\"12\" lengthAdjust=\"spacingAndGlyphs\" textLength=\"0\" x=\"9\" y=\"30.1074\"/><text fill=\"#000000\" font-family=\"sans-serif\" font-size=\"12\" lengthAdjust=\"spacingAndGlyphs\" textLength=\"293\" x=\"5\" y=\"44.0762\">If you use this software, you accept its license.</text><text fill=\"#000000\" font-family=\"sans-serif\" font-size=\"12\" lengthAdjust=\"spacingAndGlyphs\" textLength=\"107\" x=\"5\" y=\"58.0449\">(details by typing</text><text fill=\"#000000\" font-family=\"monospace\" font-size=\"12\" lengthAdjust=\"spacingAndGlyphs\" textLength=\"42\" x=\"116\" y=\"58.595\">license</text><text fill=\"#000000\" font-family=\"sans-serif\" font-size=\"12\" lengthAdjust=\"spacingAndGlyphs\" textLength=\"56\" x=\"162\" y=\"58.0449\">keyword)</text><text fill=\"#000000\" font-family=\"sans-serif\" font-size=\"12\" lengthAdjust=\"spacingAndGlyphs\" textLength=\"0\" x=\"9\" y=\"72.0137\"/><text fill=\"#000000\" font-family=\"sans-serif\" font-size=\"12\" lengthAdjust=\"spacingAndGlyphs\" textLength=\"283\" x=\"5\" y=\"85.9824\">You can start with a simple UML Diagram like:</text><text fill=\"#000000\" font-family=\"sans-serif\" font-size=\"12\" lengthAdjust=\"spacingAndGlyphs\" textLength=\"0\" x=\"9\" y=\"99.9512\"/><text fill=\"#000000\" font-family=\"monospace\" font-size=\"12\" lengthAdjust=\"spacingAndGlyphs\" textLength=\"102\" x=\"5\" y=\"113.0893\">Bob-&gt;Alice: Hello</text><text fill=\"#000000\" font-family=\"sans-serif\" font-size=\"12\" lengthAdjust=\"spacingAndGlyphs\" textLength=\"0\" x=\"9\" y=\"126.508\"/><text fill=\"#000000\" font-family=\"sans-serif\" font-size=\"12\" lengthAdjust=\"spacingAndGlyphs\" textLength=\"14\" x=\"5\" y=\"140.4768\">Or</text><text fill=\"#000000\" font-family=\"sans-serif\" font-size=\"12\" lengthAdjust=\"spacingAndGlyphs\" textLength=\"0\" x=\"9\" y=\"154.4455\"/><text fill=\"#000000\" font-family=\"monospace\" font-size=\"12\" lengthAdjust=\"spacingAndGlyphs\" textLength=\"78\" x=\"5\" y=\"167.5837\">class Example</text><text fill=\"#000000\" font-family=\"sans-serif\" font-size=\"12\" lengthAdjust=\"spacingAndGlyphs\" textLength=\"0\" x=\"9\" y=\"181.0023\"/><text fill=\"#000000\" font-family=\"sans-serif\" font-size=\"12\" lengthAdjust=\"spacingAndGlyphs\" textLength=\"349\" x=\"5\" y=\"194.9711\">You will find more information about PlantUML syntax on</text><text fill=\"#000000\" font-family=\"sans-serif\" font-size=\"12\" lengthAdjust=\"spacingAndGlyphs\" text-decoration=\"underline\" textLength=\"129\" x=\"358\" y=\"194.9711\">https://plantuml.com</text><image height=\"71\" width=\"80\" x=\"516\" xlink:href=\"data:image/png;base64,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\" y=\"6\"/><rect fill=\"#000000\" height=\"96.4844\" style=\"stroke: #000000; stroke-width: 1.0;\" width=\"602\" x=\"0\" y=\"202.8012\"/><rect fill=\"#33FF02\" height=\"21.2969\" style=\"stroke: #33FF02; stroke-width: 1.0;\" width=\"145\" x=\"5\" y=\"207.8012\"/><text fill=\"#000000\" font-family=\"sans-serif\" font-size=\"14\" font-weight=\"bold\" lengthAdjust=\"spacingAndGlyphs\" textLength=\"143\" x=\"6\" y=\"222.8012\">[From string (line 2) ]</text><text fill=\"#33FF02\" font-family=\"sans-serif\" font-size=\"14\" font-weight=\"bold\" lengthAdjust=\"spacingAndGlyphs\" textLength=\"0\" x=\"9\" y=\"243.0981\"/><text fill=\"#33FF02\" font-family=\"sans-serif\" font-size=\"14\" font-weight=\"bold\" lengthAdjust=\"spacingAndGlyphs\" textLength=\"70\" x=\"5\" y=\"259.3949\">@startuml</text><text fill=\"#33FF02\" font-family=\"sans-serif\" font-size=\"14\" font-weight=\"bold\" lengthAdjust=\"spacingAndGlyphs\" textLength=\"0\" x=\"9\" y=\"275.6918\"/><text fill=\"#FF0000\" font-family=\"sans-serif\" font-size=\"14\" font-weight=\"bold\" lengthAdjust=\"spacingAndGlyphs\" textLength=\"124\" x=\"9\" y=\"291.9887\">Empty description</text><!--MD5=[f59edd8218d337f74d0c332fc6737304]\n",
       "@startuml\r\n",
       " \r\n",
       "@enduml\r\n",
       "\n",
       "PlantUML version 1.2020.13(Sat Jun 13 12:26:38 UTC 2020)\n",
       "(EPL source distribution)\n",
       "Java Runtime: OpenJDK Runtime Environment\n",
       "JVM: OpenJDK 64-Bit Server VM\n",
       "Default Encoding: UTF-8\n",
       "Language: en\n",
       "Country: null\n",
       "--></g></svg>"
      ]
     },
     "execution_count": 32,
     "metadata": {},
     "output_type": "execute_result"
    }
   ],
   "source": [
    "%viz --style=\"PLANTUML\" --view=\"State\" \"ItemTest\""
   ]
  },
  {
   "cell_type": "code",
   "execution_count": 33,
   "id": "8eac01ab",
   "metadata": {
    "execution": {
     "iopub.execute_input": "2022-08-19T08:17:30.023669Z",
     "iopub.status.busy": "2022-08-19T08:17:30.023225Z",
     "iopub.status.idle": "2022-08-19T08:17:30.049926Z",
     "shell.execute_reply": "2022-08-19T08:17:30.048760Z"
    }
   },
   "outputs": [
    {
     "data": {
      "image/svg+xml": [
       "<?xml version=\"1.0\" encoding=\"UTF-8\" standalone=\"no\"?><svg xmlns=\"http://www.w3.org/2000/svg\" xmlns:xlink=\"http://www.w3.org/1999/xlink\" contentScriptType=\"application/ecmascript\" contentStyleType=\"text/css\" height=\"227px\" preserveAspectRatio=\"none\" style=\"width:516px;height:227px;\" version=\"1.1\" viewBox=\"0 0 516 227\" width=\"516px\" zoomAndPan=\"magnify\"><defs><filter height=\"300%\" id=\"f11l0lw0yy8qld\" width=\"300%\" x=\"-1\" y=\"-1\"><feGaussianBlur result=\"blurOut\" stdDeviation=\"2.0\"/><feColorMatrix in=\"blurOut\" result=\"blurOut2\" type=\"matrix\" values=\"0 0 0 0 0 0 0 0 0 0 0 0 0 0 0 0 0 0 .4 0\"/><feOffset dx=\"4.0\" dy=\"4.0\" in=\"blurOut2\" result=\"blurOut3\"/><feBlend in=\"SourceGraphic\" in2=\"blurOut3\" mode=\"normal\"/></filter></defs><g><!--MD5=[fbc87193dbaf4d95561dea2c320d4a47]\n",
       "cluster E1--><a href=\"psysml:ae8f2d08-e2f6-41ef-ae81-a483692b435b\" target=\"_top\" title=\"psysml:ae8f2d08-e2f6-41ef-ae81-a483692b435b\" xlink:actuate=\"onRequest\" xlink:href=\"psysml:ae8f2d08-e2f6-41ef-ae81-a483692b435b\" xlink:show=\"new\" xlink:title=\"psysml:ae8f2d08-e2f6-41ef-ae81-a483692b435b\" xlink:type=\"simple\"><polygon fill=\"#FFFFFF\" filter=\"url(#f11l0lw0yy8qld)\" points=\"16,6,83,6,90,28.2969,494,28.2969,494,215,16,215,16,6\" style=\"stroke: #000000; stroke-width: 1.5;\"/><line style=\"stroke: #000000; stroke-width: 1.5;\" x1=\"16\" x2=\"90\" y1=\"28.2969\" y2=\"28.2969\"/><text fill=\"#000000\" font-family=\"sans-serif\" font-size=\"14\" font-weight=\"bold\" lengthAdjust=\"spacingAndGlyphs\" textLength=\"61\" x=\"20\" y=\"20.9951\">ItemTest</text></a><!--MD5=[de5ec2e2e8f62f467e546659f5068c88]\n",
       "cluster E5--><a href=\"psysml:6db780a5-cf23-40f2-9df9-03150cb096d0\" target=\"_top\" title=\"psysml:6db780a5-cf23-40f2-9df9-03150cb096d0\" xlink:actuate=\"onRequest\" xlink:href=\"psysml:6db780a5-cf23-40f2-9df9-03150cb096d0\" xlink:show=\"new\" xlink:title=\"psysml:6db780a5-cf23-40f2-9df9-03150cb096d0\" xlink:type=\"simple\"><rect fill=\"#FFFFFF\" filter=\"url(#f11l0lw0yy8qld)\" height=\"94\" id=\"E5\" style=\"stroke: #A80036; stroke-width: 1.5;\" width=\"140\" x=\"330\" y=\"49\"/><rect fill=\"#FEFECE\" height=\"23.9688\" style=\"stroke: #A80036; stroke-width: 1.5;\" width=\"140\" x=\"330\" y=\"49\"/><text fill=\"#000000\" font-family=\"sans-serif\" font-size=\"12\" lengthAdjust=\"spacingAndGlyphs\" textLength=\"8\" x=\"396\" y=\"65.1387\">C</text></a><g id=\"E1.E3\"><a href=\"psysml:2b189b42-edf1-49d6-a72b-40b548d68a1d\" target=\"_top\" title=\"psysml:2b189b42-edf1-49d6-a72b-40b548d68a1d\" xlink:actuate=\"onRequest\" xlink:href=\"psysml:2b189b42-edf1-49d6-a72b-40b548d68a1d\" xlink:show=\"new\" xlink:title=\"psysml:2b189b42-edf1-49d6-a72b-40b548d68a1d\" xlink:type=\"simple\"><rect fill=\"#FEFECE\" filter=\"url(#f11l0lw0yy8qld)\" height=\"40\" id=\"E3\" style=\"stroke: #A80036; stroke-width: 1.5;\" width=\"50\" x=\"36\" y=\"159\"/><ellipse cx=\"55.5\" cy=\"175\" fill=\"#008000\" rx=\"11\" ry=\"11\" style=\"stroke: #A80036; stroke-width: 1.0;\"/><path d=\"M52.375,180 L52.375,169.4063 L55.6094,169.4063 Q57.5156,169.4063 58.4219,170.1563 Q59.3438,170.9063 59.3438,172.0781 Q59.3438,172.7656 58.9531,173.4219 Q58.5781,174.0781 57.8594,174.375 Q58.7188,174.75 59.2344,175.4375 Q59.75,176.125 59.75,176.9375 Q59.75,178.3125 58.7188,179.1563 Q57.7031,180 55.5938,180 L52.375,180 Z M54.2969,173.6406 L55.4531,173.6406 Q56.5781,173.6406 56.9844,173.2656 Q57.4063,172.875 57.4063,172.25 Q57.4063,171.6719 56.9844,171.3125 Q56.5625,170.9531 55.625,170.9531 L54.2969,170.9531 L54.2969,173.6406 Z M54.2969,178.4219 L55.7969,178.4219 Q56.7031,178.4219 57.2344,178.0313 Q57.7656,177.6406 57.7656,176.8906 Q57.7656,176.125 57.2656,175.6563 Q56.7656,175.1719 55.5,175.1719 L54.2969,175.1719 L54.2969,178.4219 Z \"/><text fill=\"#000000\" font-family=\"sans-serif\" font-size=\"12\" lengthAdjust=\"spacingAndGlyphs\" textLength=\"8\" x=\"70.5\" y=\"179.1543\">A</text></a></g><g id=\"E1.E4\"><a href=\"psysml:f1885442-e1dd-46d9-92aa-2427019de9de\" target=\"_top\" title=\"psysml:f1885442-e1dd-46d9-92aa-2427019de9de\" xlink:actuate=\"onRequest\" xlink:href=\"psysml:f1885442-e1dd-46d9-92aa-2427019de9de\" xlink:show=\"new\" xlink:title=\"psysml:f1885442-e1dd-46d9-92aa-2427019de9de\" xlink:type=\"simple\"><rect fill=\"#FEFECE\" filter=\"url(#f11l0lw0yy8qld)\" height=\"40\" id=\"E4\" style=\"stroke: #A80036; stroke-width: 1.5;\" width=\"50\" x=\"261\" y=\"85.5\"/><ellipse cx=\"280.5\" cy=\"101.5\" fill=\"#008000\" rx=\"11\" ry=\"11\" style=\"stroke: #A80036; stroke-width: 1.0;\"/><path d=\"M277.375,106.5 L277.375,95.9063 L280.6094,95.9063 Q282.5156,95.9063 283.4219,96.6563 Q284.3438,97.4063 284.3438,98.5781 Q284.3438,99.2656 283.9531,99.9219 Q283.5781,100.5781 282.8594,100.875 Q283.7188,101.25 284.2344,101.9375 Q284.75,102.625 284.75,103.4375 Q284.75,104.8125 283.7188,105.6563 Q282.7031,106.5 280.5938,106.5 L277.375,106.5 Z M279.2969,100.1406 L280.4531,100.1406 Q281.5781,100.1406 281.9844,99.7656 Q282.4063,99.375 282.4063,98.75 Q282.4063,98.1719 281.9844,97.8125 Q281.5625,97.4531 280.625,97.4531 L279.2969,97.4531 L279.2969,100.1406 Z M279.2969,104.9219 L280.7969,104.9219 Q281.7031,104.9219 282.2344,104.5313 Q282.7656,104.1406 282.7656,103.3906 Q282.7656,102.625 282.2656,102.1563 Q281.7656,101.6719 280.5,101.6719 L279.2969,101.6719 L279.2969,104.9219 Z \"/><text fill=\"#000000\" font-family=\"sans-serif\" font-size=\"12\" font-style=\"italic\" lengthAdjust=\"spacingAndGlyphs\" textLength=\"8\" x=\"295.5\" y=\"105.6543\">B</text></a></g><g id=\"E1.E7\"><a href=\"psysml:587854cf-6fe1-483d-a698-c7fca9a0c13c\" target=\"_top\" title=\"psysml:587854cf-6fe1-483d-a698-c7fca9a0c13c\" xlink:actuate=\"onRequest\" xlink:href=\"psysml:587854cf-6fe1-483d-a698-c7fca9a0c13c\" xlink:show=\"new\" xlink:title=\"psysml:587854cf-6fe1-483d-a698-c7fca9a0c13c\" xlink:type=\"simple\"><rect fill=\"#FEFECE\" filter=\"url(#f11l0lw0yy8qld)\" height=\"42.9375\" id=\"E7\" style=\"stroke: #A80036; stroke-width: 1.5;\" width=\"101\" x=\"124.5\" y=\"84\"/><ellipse cx=\"141.75\" cy=\"102.9688\" fill=\"#A52A2A\" rx=\"11\" ry=\"11\" style=\"stroke: #A80036; stroke-width: 1.0;\"/><path d=\"M138.9688,107.9688 L138.9688,97.375 L141.7031,97.375 Q143.0938,97.375 143.8594,97.7656 Q144.6406,98.1406 145.1719,98.8438 Q145.7031,99.5469 146,100.5469 Q146.2969,101.5313 146.2969,102.75 Q146.25,104.3438 145.75,105.5313 Q145.2656,106.7031 144.2188,107.3438 Q143.1875,107.9688 141.5,107.9688 L138.9688,107.9688 Z M140.8281,106.4688 L141.4531,106.4688 Q142.5313,106.4688 143.1875,106.0156 Q143.8438,105.5625 144.125,104.7344 Q144.4219,103.8906 144.4063,102.7656 Q144.4063,101.5938 144.1563,100.7344 Q143.9063,99.8594 143.2969,99.3906 Q142.6875,98.9063 141.6406,98.9063 L140.8281,98.9063 L140.8281,106.4688 Z \"/><text fill=\"#000000\" font-family=\"sans-serif\" font-size=\"12\" font-style=\"italic\" lengthAdjust=\"spacingAndGlyphs\" textLength=\"68\" x=\"154.25\" y=\"100.1387\">«port  def»</text><text fill=\"#000000\" font-family=\"sans-serif\" font-size=\"12\" lengthAdjust=\"spacingAndGlyphs\" textLength=\"8\" x=\"184.25\" y=\"114.1074\">P</text></a></g><g id=\"E1.E2\"><a href=\"psysml:cbd0bd62-e912-4912-a2fb-da1e68d4f615\" target=\"_top\" title=\"psysml:cbd0bd62-e912-4912-a2fb-da1e68d4f615\" xlink:actuate=\"onRequest\" xlink:href=\"psysml:cbd0bd62-e912-4912-a2fb-da1e68d4f615\" xlink:show=\"new\" xlink:title=\"psysml:cbd0bd62-e912-4912-a2fb-da1e68d4f615\" xlink:type=\"simple\"><rect fill=\"#FEFECE\" filter=\"url(#f11l0lw0yy8qld)\" height=\"40\" id=\"E2\" rx=\"10\" ry=\"10\" style=\"stroke: #A80036; stroke-width: 1.5;\" width=\"57\" x=\"32.5\" y=\"85.5\"/><ellipse cx=\"49.75\" cy=\"101.5\" fill=\"#32CD32\" rx=\"11\" ry=\"11\" style=\"stroke: #A80036; stroke-width: 1.0;\"/><path d=\"M46.5625,106.5 L46.5625,95.9063 L50.1719,95.9063 Q51.3906,95.9063 52.1875,96.3438 Q52.9844,96.7656 53.3594,97.4688 Q53.75,98.1719 53.75,99.0156 Q53.75,99.8594 53.375,100.5469 Q53.0156,101.2344 52.2188,101.6563 Q51.4375,102.0625 50.25,102.0625 L48.5156,102.0625 L48.5156,106.5 L46.5625,106.5 Z M48.5156,100.4688 L50.125,100.4688 Q50.9375,100.4688 51.3594,100.0625 Q51.7813,99.6563 51.7813,99.0156 Q51.7813,98.3906 51.3594,97.9844 Q50.9375,97.5781 50.1406,97.5781 L48.5156,97.5781 L48.5156,100.4688 Z \"/><text fill=\"#000000\" font-family=\"sans-serif\" font-size=\"12\" lengthAdjust=\"spacingAndGlyphs\" textLength=\"20\" x=\"64.25\" y=\"105.6543\">f: A</text></a></g><g id=\"E1.E5.E6\"><a href=\"psysml:2fa26767-edf9-4f1d-8702-6d0b4fb1afcf\" target=\"_top\" title=\"psysml:2fa26767-edf9-4f1d-8702-6d0b4fb1afcf\" xlink:actuate=\"onRequest\" xlink:href=\"psysml:2fa26767-edf9-4f1d-8702-6d0b4fb1afcf\" xlink:show=\"new\" xlink:title=\"psysml:2fa26767-edf9-4f1d-8702-6d0b4fb1afcf\" xlink:type=\"simple\"><rect fill=\"#FEFECE\" filter=\"url(#f11l0lw0yy8qld)\" height=\"42.9375\" id=\"E6\" rx=\"10\" ry=\"10\" style=\"stroke: #A80036; stroke-width: 1.5;\" width=\"108\" x=\"346\" y=\"84\"/><ellipse cx=\"363.25\" cy=\"102.9688\" fill=\"#FFA500\" rx=\"11\" ry=\"11\" style=\"stroke: #A80036; stroke-width: 1.0;\"/><path d=\"M363,108.4375 Q361.25,108.4375 360.2969,107.4063 Q359.3594,106.3594 359.3594,104.5156 L359.3594,97.625 L361.4219,97.625 L361.4219,97.7813 Q361.3281,97.875 361.2969,98.0156 Q361.2813,98.1406 361.2813,98.4063 L361.2813,104.5313 Q361.2813,105.625 361.6563,106.25 Q362.0313,106.875 363.0156,106.875 Q364,106.875 364.3906,106.25 Q364.7813,105.625 364.7813,104.4844 L364.7813,97.625 L366.6563,97.625 L366.6563,104.4688 Q366.6563,106.5 365.625,107.4688 Q364.6094,108.4375 363,108.4375 Z \"/><text fill=\"#000000\" font-family=\"sans-serif\" font-size=\"12\" font-style=\"italic\" lengthAdjust=\"spacingAndGlyphs\" textLength=\"75\" x=\"375.75\" y=\"100.1387\">«reference»</text><text fill=\"#000000\" font-family=\"sans-serif\" font-size=\"12\" lengthAdjust=\"spacingAndGlyphs\" textLength=\"38\" x=\"392.25\" y=\"114.1074\">y: A, B</text></a></g><!--MD5=[2720a5a1f2c3fca2055b230370638851]\n",
       "link E2 to E3--><a href=\"psysml:8851b494-fad9-483d-8771-6e667cb982eb\" target=\"_top\" title=\"psysml:8851b494-fad9-483d-8771-6e667cb982eb\" xlink:actuate=\"onRequest\" xlink:href=\"psysml:8851b494-fad9-483d-8771-6e667cb982eb\" xlink:show=\"new\" xlink:title=\"psysml:8851b494-fad9-483d-8771-6e667cb982eb\" xlink:type=\"simple\"><path d=\"M61,125.66 C61,129.75 61,134.21 61,138.74 \" fill=\"none\" id=\"E2-&gt;E3\" style=\"stroke: #A80036; stroke-width: 1.0;\"/><polygon fill=\"#FFFFFF\" points=\"61,158.79,54,139.79,68,139.79,61,158.79\" style=\"stroke: #A80036; stroke-width: 1.0;\"/><ellipse cx=\"56\" cy=\"134.09\" fill=\"#A80036\" rx=\"2\" ry=\"2\" style=\"stroke: #A80036; stroke-width: 1.0;\"/><ellipse cx=\"66\" cy=\"134.09\" fill=\"#A80036\" rx=\"2\" ry=\"2\" style=\"stroke: #A80036; stroke-width: 1.0;\"/></a><!--MD5=[cf081a86e13a397d54bc6dcf5e94198b]\n",
       "@startuml\r\n",
       "skinparam ranksep 10\r\n",
       "skinparam rectangle {\r\n",
       " backgroundColor<<block>> LightGreen\r\n",
       "}\r\n",
       " \r\n",
       "package \"ItemTest\" as E1  [[psysml:ae8f2d08-e2f6-41ef-ae81-a483692b435b ]]  {\r\n",
       "rec usage \"f: A\" as E2 << << (P,limegreen) >> [[psysml:cbd0bd62-e912-4912-a2fb-da1e68d4f615 ]] {\r\n",
       "}\r\n",
       "def \"A\" as E3 << << (B,green) >> [[psysml:2b189b42-edf1-49d6-a72b-40b548d68a1d ]] \r\n",
       "def \"<i>B</i>\" as E4 << << (B,green) >> [[psysml:f1885442-e1dd-46d9-92aa-2427019de9de ]] \r\n",
       "rec def \"C\" as E5 << << (B,green) >> [[psysml:6db780a5-cf23-40f2-9df9-03150cb096d0 ]] {\r\n",
       "rec usage \"y: A, B \" as E6 << <<(U,orange) reference>> [[psysml:2fa26767-edf9-4f1d-8702-6d0b4fb1afcf ]] {\r\n",
       "}\r\n",
       "\r\n",
       "}\r\n",
       "def \"P\" as E7 << <<(D,brown) port  def>> [[psysml:587854cf-6fe1-483d-a698-c7fca9a0c13c ]] \r\n",
       "}\r\n",
       "E2 - -:|> E3 [[psysml:8851b494-fad9-483d-8771-6e667cb982eb ]] \r\n",
       "@enduml\r\n",
       "\n",
       "PlantUML version 1.2020.13(Sat Jun 13 12:26:38 UTC 2020)\n",
       "(EPL source distribution)\n",
       "Java Runtime: OpenJDK Runtime Environment\n",
       "JVM: OpenJDK 64-Bit Server VM\n",
       "Default Encoding: UTF-8\n",
       "Language: en\n",
       "Country: null\n",
       "--></g></svg>"
      ]
     },
     "execution_count": 33,
     "metadata": {},
     "output_type": "execute_result"
    }
   ],
   "source": [
    "%viz --style=\"PLANTUML\" --view=\"Interconnection\" \"ItemTest\""
   ]
  },
  {
   "cell_type": "code",
   "execution_count": 34,
   "id": "81247c5e",
   "metadata": {
    "execution": {
     "iopub.execute_input": "2022-08-19T08:17:30.099750Z",
     "iopub.status.busy": "2022-08-19T08:17:30.099292Z",
     "iopub.status.idle": "2022-08-19T08:17:30.103609Z",
     "shell.execute_reply": "2022-08-19T08:17:30.103233Z"
    }
   },
   "outputs": [
    {
     "data": {
      "image/svg+xml": [
       "<?xml version=\"1.0\" encoding=\"UTF-8\" standalone=\"no\"?><svg xmlns=\"http://www.w3.org/2000/svg\" xmlns:xlink=\"http://www.w3.org/1999/xlink\" contentScriptType=\"application/ecmascript\" contentStyleType=\"text/css\" height=\"12px\" preserveAspectRatio=\"none\" style=\"width:12px;height:12px;\" version=\"1.1\" viewBox=\"0 0 12 12\" width=\"12px\" zoomAndPan=\"magnify\"><defs/><g><!--MD5=[6a4cb978cab31700e1ce5529f947a75d]\n",
       "@startuml\r\n",
       "skinparam ranksep 8\r\n",
       " \r\n",
       "@enduml\r\n",
       "\n",
       "PlantUML version 1.2020.13(Sat Jun 13 12:26:38 UTC 2020)\n",
       "(EPL source distribution)\n",
       "Java Runtime: OpenJDK Runtime Environment\n",
       "JVM: OpenJDK 64-Bit Server VM\n",
       "Default Encoding: UTF-8\n",
       "Language: en\n",
       "Country: null\n",
       "--></g></svg>"
      ]
     },
     "execution_count": 34,
     "metadata": {},
     "output_type": "execute_result"
    }
   ],
   "source": [
    "%viz --style=\"PLANTUML\" --view=\"Action\" \"ItemTest\""
   ]
  },
  {
   "cell_type": "code",
   "execution_count": 35,
   "id": "d43b7cde",
   "metadata": {
    "execution": {
     "iopub.execute_input": "2022-08-19T08:17:30.153510Z",
     "iopub.status.busy": "2022-08-19T08:17:30.153065Z",
     "iopub.status.idle": "2022-08-19T08:17:30.157298Z",
     "shell.execute_reply": "2022-08-19T08:17:30.157634Z"
    }
   },
   "outputs": [
    {
     "data": {
      "image/svg+xml": [
       "<?xml version=\"1.0\" encoding=\"UTF-8\" standalone=\"no\"?><svg xmlns=\"http://www.w3.org/2000/svg\" xmlns:xlink=\"http://www.w3.org/1999/xlink\" contentScriptType=\"application/ecmascript\" contentStyleType=\"text/css\" height=\"12px\" preserveAspectRatio=\"none\" style=\"width:12px;height:12px;\" version=\"1.1\" viewBox=\"0 0 12 12\" width=\"12px\" zoomAndPan=\"magnify\"><defs/><g><!--MD5=[ca4faa0b02def275ea33c14ea7a1a98d]\n",
       "@startuml\r\n",
       "skinparam roundcorner 20\r\n",
       "skinparam BoxPadding 20\r\n",
       "skinparam SequenceBoxBackgroundColor #white\r\n",
       "skinparam style strictuml\r\n",
       "skinparam maxMessageSize 100\r\n",
       " \r\n",
       "@enduml\r\n",
       "\n",
       "PlantUML version 1.2020.13(Sat Jun 13 12:26:38 UTC 2020)\n",
       "(EPL source distribution)\n",
       "Java Runtime: OpenJDK Runtime Environment\n",
       "JVM: OpenJDK 64-Bit Server VM\n",
       "Default Encoding: UTF-8\n",
       "Language: en\n",
       "Country: null\n",
       "--></g></svg>"
      ]
     },
     "execution_count": 35,
     "metadata": {},
     "output_type": "execute_result"
    }
   ],
   "source": [
    "%viz --style=\"PLANTUML\" --view=\"Sequence\" \"ItemTest\""
   ]
  },
  {
   "cell_type": "code",
   "execution_count": 36,
   "id": "350be116",
   "metadata": {
    "execution": {
     "iopub.execute_input": "2022-08-19T08:17:30.207588Z",
     "iopub.status.busy": "2022-08-19T08:17:30.207146Z",
     "iopub.status.idle": "2022-08-19T08:17:30.250033Z",
     "shell.execute_reply": "2022-08-19T08:17:30.248123Z"
    }
   },
   "outputs": [
    {
     "data": {
      "image/svg+xml": [
       "<?xml version=\"1.0\" encoding=\"UTF-8\" standalone=\"no\"?><svg xmlns=\"http://www.w3.org/2000/svg\" xmlns:xlink=\"http://www.w3.org/1999/xlink\" contentScriptType=\"application/ecmascript\" contentStyleType=\"text/css\" height=\"788px\" preserveAspectRatio=\"none\" style=\"width:332px;height:788px;\" version=\"1.1\" viewBox=\"0 0 332 788\" width=\"332px\" zoomAndPan=\"magnify\"><defs><filter height=\"300%\" id=\"f132u3rbgwth6q\" width=\"300%\" x=\"-1\" y=\"-1\"><feGaussianBlur result=\"blurOut\" stdDeviation=\"2.0\"/><feColorMatrix in=\"blurOut\" result=\"blurOut2\" type=\"matrix\" values=\"0 0 0 0 0 0 0 0 0 0 0 0 0 0 0 0 0 0 .4 0\"/><feOffset dx=\"4.0\" dy=\"4.0\" in=\"blurOut2\" result=\"blurOut3\"/><feBlend in=\"SourceGraphic\" in2=\"blurOut3\" mode=\"normal\"/></filter></defs><g><!--MD5=[fbc87193dbaf4d95561dea2c320d4a47]\n",
       "cluster E1--><a href=\"psysml:ae8f2d08-e2f6-41ef-ae81-a483692b435b\" target=\"_top\" title=\"psysml:ae8f2d08-e2f6-41ef-ae81-a483692b435b\" xlink:actuate=\"onRequest\" xlink:href=\"psysml:ae8f2d08-e2f6-41ef-ae81-a483692b435b\" xlink:show=\"new\" xlink:title=\"psysml:ae8f2d08-e2f6-41ef-ae81-a483692b435b\" xlink:type=\"simple\"><polygon fill=\"#FFFFFF\" filter=\"url(#f132u3rbgwth6q)\" points=\"16,6,83,6,90,28.2969,310,28.2969,310,776,16,776,16,6\" style=\"stroke: #000000; stroke-width: 1.5;\"/><line style=\"stroke: #000000; stroke-width: 1.5;\" x1=\"16\" x2=\"90\" y1=\"28.2969\" y2=\"28.2969\"/><text fill=\"#000000\" font-family=\"sans-serif\" font-size=\"14\" font-weight=\"bold\" lengthAdjust=\"spacingAndGlyphs\" textLength=\"61\" x=\"20\" y=\"20.9951\">ItemTest</text></a><!--MD5=[b4997ac47864f28c2f74865a473b2911]\n",
       "class E2--><a href=\"psysml:cbd0bd62-e912-4912-a2fb-da1e68d4f615\" target=\"_top\" title=\"psysml:cbd0bd62-e912-4912-a2fb-da1e68d4f615\" xlink:actuate=\"onRequest\" xlink:href=\"psysml:cbd0bd62-e912-4912-a2fb-da1e68d4f615\" xlink:show=\"new\" xlink:title=\"psysml:cbd0bd62-e912-4912-a2fb-da1e68d4f615\" xlink:type=\"simple\"><rect fill=\"#FEFECE\" filter=\"url(#f132u3rbgwth6q)\" height=\"40\" id=\"E2\" rx=\"10\" ry=\"10\" style=\"stroke: #A80036; stroke-width: 1.5;\" width=\"56\" x=\"238\" y=\"148\"/><ellipse cx=\"253\" cy=\"164\" fill=\"#32CD32\" rx=\"11\" ry=\"11\" style=\"stroke: #A80036; stroke-width: 1.0;\"/><path d=\"M249.8125,169 L249.8125,158.4063 L253.4219,158.4063 Q254.6406,158.4063 255.4375,158.8438 Q256.2344,159.2656 256.6094,159.9688 Q257,160.6719 257,161.5156 Q257,162.3594 256.625,163.0469 Q256.2656,163.7344 255.4688,164.1563 Q254.6875,164.5625 253.5,164.5625 L251.7656,164.5625 L251.7656,169 L249.8125,169 Z M251.7656,162.9688 L253.375,162.9688 Q254.1875,162.9688 254.6094,162.5625 Q255.0313,162.1563 255.0313,161.5156 Q255.0313,160.8906 254.6094,160.4844 Q254.1875,160.0781 253.3906,160.0781 L251.7656,160.0781 L251.7656,162.9688 Z \"/><text fill=\"#000000\" font-family=\"sans-serif\" font-size=\"12\" lengthAdjust=\"spacingAndGlyphs\" textLength=\"20\" x=\"267\" y=\"168.1543\">f: A</text><line style=\"stroke: #A80036; stroke-width: 1.5;\" x1=\"239\" x2=\"293\" y1=\"180\" y2=\"180\"/></a><!--MD5=[09b614a08d8cba4a07c9adeb5e0fee81]\n",
       "class E3--><a href=\"psysml:2b189b42-edf1-49d6-a72b-40b548d68a1d\" target=\"_top\" title=\"psysml:2b189b42-edf1-49d6-a72b-40b548d68a1d\" xlink:actuate=\"onRequest\" xlink:href=\"psysml:2b189b42-edf1-49d6-a72b-40b548d68a1d\" xlink:show=\"new\" xlink:title=\"psysml:2b189b42-edf1-49d6-a72b-40b548d68a1d\" xlink:type=\"simple\"><rect fill=\"#FEFECE\" filter=\"url(#f132u3rbgwth6q)\" height=\"40\" id=\"E3\" style=\"stroke: #A80036; stroke-width: 1.5;\" width=\"40\" x=\"149\" y=\"249\"/><ellipse cx=\"164\" cy=\"265\" fill=\"#008000\" rx=\"11\" ry=\"11\" style=\"stroke: #A80036; stroke-width: 1.0;\"/><path d=\"M160.875,270 L160.875,259.4063 L164.1094,259.4063 Q166.0156,259.4063 166.9219,260.1563 Q167.8438,260.9063 167.8438,262.0781 Q167.8438,262.7656 167.4531,263.4219 Q167.0781,264.0781 166.3594,264.375 Q167.2188,264.75 167.7344,265.4375 Q168.25,266.125 168.25,266.9375 Q168.25,268.3125 167.2188,269.1563 Q166.2031,270 164.0938,270 L160.875,270 Z M162.7969,263.6406 L163.9531,263.6406 Q165.0781,263.6406 165.4844,263.2656 Q165.9063,262.875 165.9063,262.25 Q165.9063,261.6719 165.4844,261.3125 Q165.0625,260.9531 164.125,260.9531 L162.7969,260.9531 L162.7969,263.6406 Z M162.7969,268.4219 L164.2969,268.4219 Q165.2031,268.4219 165.7344,268.0313 Q166.2656,267.6406 166.2656,266.8906 Q166.2656,266.125 165.7656,265.6563 Q165.2656,265.1719 164,265.1719 L162.7969,265.1719 L162.7969,268.4219 Z \"/><text fill=\"#000000\" font-family=\"sans-serif\" font-size=\"12\" lengthAdjust=\"spacingAndGlyphs\" textLength=\"8\" x=\"178\" y=\"269.1543\">A</text><line style=\"stroke: #A80036; stroke-width: 1.5;\" x1=\"150\" x2=\"188\" y1=\"281\" y2=\"281\"/></a><!--MD5=[ebbe1d658d1005bcc118a6aa81145e00]\n",
       "class E4--><a href=\"psysml:94aeed99-fa0f-4cf3-9a3c-c07fcd3df143\" target=\"_top\" title=\"psysml:94aeed99-fa0f-4cf3-9a3c-c07fcd3df143\" xlink:actuate=\"onRequest\" xlink:href=\"psysml:94aeed99-fa0f-4cf3-9a3c-c07fcd3df143\" xlink:show=\"new\" xlink:title=\"psysml:94aeed99-fa0f-4cf3-9a3c-c07fcd3df143\" xlink:type=\"simple\"><rect fill=\"#FEFECE\" filter=\"url(#f132u3rbgwth6q)\" height=\"40\" id=\"E4\" rx=\"10\" ry=\"10\" style=\"stroke: #A80036; stroke-width: 1.5;\" width=\"60\" x=\"49\" y=\"426\"/><ellipse cx=\"64\" cy=\"442\" fill=\"#32CD32\" rx=\"11\" ry=\"11\" style=\"stroke: #A80036; stroke-width: 1.0;\"/><path d=\"M60.8125,447 L60.8125,436.4063 L64.4219,436.4063 Q65.6406,436.4063 66.4375,436.8438 Q67.2344,437.2656 67.6094,437.9688 Q68,438.6719 68,439.5156 Q68,440.3594 67.625,441.0469 Q67.2656,441.7344 66.4688,442.1563 Q65.6875,442.5625 64.5,442.5625 L62.7656,442.5625 L62.7656,447 L60.8125,447 Z M62.7656,440.9688 L64.375,440.9688 Q65.1875,440.9688 65.6094,440.5625 Q66.0313,440.1563 66.0313,439.5156 Q66.0313,438.8906 65.6094,438.4844 Q65.1875,438.0781 64.3906,438.0781 L62.7656,438.0781 L62.7656,440.9688 Z \"/><text fill=\"#000000\" font-family=\"sans-serif\" font-size=\"12\" lengthAdjust=\"spacingAndGlyphs\" textLength=\"24\" x=\"78\" y=\"446.1543\">b: B</text><line style=\"stroke: #A80036; stroke-width: 1.5;\" x1=\"50\" x2=\"108\" y1=\"458\" y2=\"458\"/></a><!--MD5=[270fce915f116d4de14055a7c1d9a0f3]\n",
       "class E5--><a href=\"psysml:74f7fd5f-8520-4aae-9a17-942775661558\" target=\"_top\" title=\"psysml:74f7fd5f-8520-4aae-9a17-942775661558\" xlink:actuate=\"onRequest\" xlink:href=\"psysml:74f7fd5f-8520-4aae-9a17-942775661558\" xlink:show=\"new\" xlink:title=\"psysml:74f7fd5f-8520-4aae-9a17-942775661558\" xlink:type=\"simple\"><rect fill=\"#FEFECE\" filter=\"url(#f132u3rbgwth6q)\" height=\"45.9375\" id=\"E5\" rx=\"10\" ry=\"10\" style=\"stroke: #A80036; stroke-width: 1.5;\" width=\"68\" x=\"176\" y=\"350\"/><ellipse cx=\"191\" cy=\"368.9688\" fill=\"#32CD32\" rx=\"11\" ry=\"11\" style=\"stroke: #A80036; stroke-width: 1.0;\"/><path d=\"M187.8125,373.9688 L187.8125,363.375 L191.4219,363.375 Q192.6406,363.375 193.4375,363.8125 Q194.2344,364.2344 194.6094,364.9375 Q195,365.6406 195,366.4844 Q195,367.3281 194.625,368.0156 Q194.2656,368.7031 193.4688,369.125 Q192.6875,369.5313 191.5,369.5313 L189.7656,369.5313 L189.7656,373.9688 L187.8125,373.9688 Z M189.7656,367.9375 L191.375,367.9375 Q192.1875,367.9375 192.6094,367.5313 Q193.0313,367.125 193.0313,366.4844 Q193.0313,365.8594 192.6094,365.4531 Q192.1875,365.0469 191.3906,365.0469 L189.7656,365.0469 L189.7656,367.9375 Z \"/><text fill=\"#000000\" font-family=\"sans-serif\" font-size=\"12\" font-style=\"italic\" lengthAdjust=\"spacingAndGlyphs\" textLength=\"40\" x=\"203\" y=\"366.1387\">«part»</text><text fill=\"#000000\" font-family=\"sans-serif\" font-size=\"12\" lengthAdjust=\"spacingAndGlyphs\" textLength=\"23\" x=\"209.5\" y=\"380.1074\">c: C</text><line style=\"stroke: #A80036; stroke-width: 1.5;\" x1=\"177\" x2=\"243\" y1=\"387.9375\" y2=\"387.9375\"/></a><!--MD5=[60a26617385b1d2d0262a64233df1f8d]\n",
       "class E6--><a href=\"psysml:f1885442-e1dd-46d9-92aa-2427019de9de\" target=\"_top\" title=\"psysml:f1885442-e1dd-46d9-92aa-2427019de9de\" xlink:actuate=\"onRequest\" xlink:href=\"psysml:f1885442-e1dd-46d9-92aa-2427019de9de\" xlink:show=\"new\" xlink:title=\"psysml:f1885442-e1dd-46d9-92aa-2427019de9de\" xlink:type=\"simple\"><rect fill=\"#FEFECE\" filter=\"url(#f132u3rbgwth6q)\" height=\"40\" id=\"E6\" style=\"stroke: #A80036; stroke-width: 1.5;\" width=\"40\" x=\"134\" y=\"613\"/><ellipse cx=\"149\" cy=\"629\" fill=\"#008000\" rx=\"11\" ry=\"11\" style=\"stroke: #A80036; stroke-width: 1.0;\"/><path d=\"M145.875,634 L145.875,623.4063 L149.1094,623.4063 Q151.0156,623.4063 151.9219,624.1563 Q152.8438,624.9063 152.8438,626.0781 Q152.8438,626.7656 152.4531,627.4219 Q152.0781,628.0781 151.3594,628.375 Q152.2188,628.75 152.7344,629.4375 Q153.25,630.125 153.25,630.9375 Q153.25,632.3125 152.2188,633.1563 Q151.2031,634 149.0938,634 L145.875,634 Z M147.7969,627.6406 L148.9531,627.6406 Q150.0781,627.6406 150.4844,627.2656 Q150.9063,626.875 150.9063,626.25 Q150.9063,625.6719 150.4844,625.3125 Q150.0625,624.9531 149.125,624.9531 L147.7969,624.9531 L147.7969,627.6406 Z M147.7969,632.4219 L149.2969,632.4219 Q150.2031,632.4219 150.7344,632.0313 Q151.2656,631.6406 151.2656,630.8906 Q151.2656,630.125 150.7656,629.6563 Q150.2656,629.1719 149,629.1719 L147.7969,629.1719 L147.7969,632.4219 Z \"/><text fill=\"#000000\" font-family=\"sans-serif\" font-size=\"12\" font-style=\"italic\" lengthAdjust=\"spacingAndGlyphs\" textLength=\"8\" x=\"163\" y=\"633.1543\">B</text><line style=\"stroke: #A80036; stroke-width: 1.5;\" x1=\"135\" x2=\"173\" y1=\"645\" y2=\"645\"/></a><!--MD5=[2156ba9850f5573cc1fc38a6a4b2f02b]\n",
       "class E7--><a href=\"psysml:cc0b7000-21b2-4abb-bead-e88feeed0b85\" target=\"_top\" title=\"psysml:cc0b7000-21b2-4abb-bead-e88feeed0b85\" xlink:actuate=\"onRequest\" xlink:href=\"psysml:cc0b7000-21b2-4abb-bead-e88feeed0b85\" xlink:show=\"new\" xlink:title=\"psysml:cc0b7000-21b2-4abb-bead-e88feeed0b85\" xlink:type=\"simple\"><rect fill=\"#FEFECE\" filter=\"url(#f132u3rbgwth6q)\" height=\"45.9375\" id=\"E7\" rx=\"10\" ry=\"10\" style=\"stroke: #A80036; stroke-width: 1.5;\" width=\"68\" x=\"208\" y=\"714\"/><ellipse cx=\"223\" cy=\"732.9688\" fill=\"#32CD32\" rx=\"11\" ry=\"11\" style=\"stroke: #A80036; stroke-width: 1.0;\"/><path d=\"M219.8125,737.9688 L219.8125,727.375 L223.4219,727.375 Q224.6406,727.375 225.4375,727.8125 Q226.2344,728.2344 226.6094,728.9375 Q227,729.6406 227,730.4844 Q227,731.3281 226.625,732.0156 Q226.2656,732.7031 225.4688,733.125 Q224.6875,733.5313 223.5,733.5313 L221.7656,733.5313 L221.7656,737.9688 L219.8125,737.9688 Z M221.7656,731.9375 L223.375,731.9375 Q224.1875,731.9375 224.6094,731.5313 Q225.0313,731.125 225.0313,730.4844 Q225.0313,729.8594 224.6094,729.4531 Q224.1875,729.0469 223.3906,729.0469 L221.7656,729.0469 L221.7656,731.9375 Z \"/><text fill=\"#000000\" font-family=\"sans-serif\" font-size=\"12\" font-style=\"italic\" lengthAdjust=\"spacingAndGlyphs\" textLength=\"40\" x=\"235\" y=\"730.1387\">«part»</text><text fill=\"#000000\" font-family=\"sans-serif\" font-size=\"12\" font-style=\"italic\" lengthAdjust=\"spacingAndGlyphs\" textLength=\"8\" x=\"241\" y=\"744.1074\">a</text><text fill=\"#000000\" font-family=\"sans-serif\" font-size=\"12\" lengthAdjust=\"spacingAndGlyphs\" textLength=\"16\" x=\"249\" y=\"744.1074\">: A</text><line style=\"stroke: #A80036; stroke-width: 1.5;\" x1=\"209\" x2=\"275\" y1=\"751.9375\" y2=\"751.9375\"/></a><!--MD5=[b9389687b975829384b498ac4b7476b2]\n",
       "class E8--><a href=\"psysml:6db780a5-cf23-40f2-9df9-03150cb096d0\" target=\"_top\" title=\"psysml:6db780a5-cf23-40f2-9df9-03150cb096d0\" xlink:actuate=\"onRequest\" xlink:href=\"psysml:6db780a5-cf23-40f2-9df9-03150cb096d0\" xlink:show=\"new\" xlink:title=\"psysml:6db780a5-cf23-40f2-9df9-03150cb096d0\" xlink:type=\"simple\"><rect fill=\"#FEFECE\" filter=\"url(#f132u3rbgwth6q)\" height=\"40\" id=\"E8\" style=\"stroke: #A80036; stroke-width: 1.5;\" width=\"40\" x=\"134\" y=\"496\"/><ellipse cx=\"149\" cy=\"512\" fill=\"#008000\" rx=\"11\" ry=\"11\" style=\"stroke: #A80036; stroke-width: 1.0;\"/><path d=\"M145.875,517 L145.875,506.4063 L149.1094,506.4063 Q151.0156,506.4063 151.9219,507.1563 Q152.8438,507.9063 152.8438,509.0781 Q152.8438,509.7656 152.4531,510.4219 Q152.0781,511.0781 151.3594,511.375 Q152.2188,511.75 152.7344,512.4375 Q153.25,513.125 153.25,513.9375 Q153.25,515.3125 152.2188,516.1563 Q151.2031,517 149.0938,517 L145.875,517 Z M147.7969,510.6406 L148.9531,510.6406 Q150.0781,510.6406 150.4844,510.2656 Q150.9063,509.875 150.9063,509.25 Q150.9063,508.6719 150.4844,508.3125 Q150.0625,507.9531 149.125,507.9531 L147.7969,507.9531 L147.7969,510.6406 Z M147.7969,515.4219 L149.2969,515.4219 Q150.2031,515.4219 150.7344,515.0313 Q151.2656,514.6406 151.2656,513.8906 Q151.2656,513.125 150.7656,512.6563 Q150.2656,512.1719 149,512.1719 L147.7969,512.1719 L147.7969,515.4219 Z \"/><text fill=\"#000000\" font-family=\"sans-serif\" font-size=\"12\" lengthAdjust=\"spacingAndGlyphs\" textLength=\"8\" x=\"163\" y=\"516.1543\">C</text><line style=\"stroke: #A80036; stroke-width: 1.5;\" x1=\"135\" x2=\"173\" y1=\"528\" y2=\"528\"/></a><!--MD5=[fd4143e9d270a159db93a4ea2a975926]\n",
       "class E9--><a href=\"psysml:587854cf-6fe1-483d-a698-c7fca9a0c13c\" target=\"_top\" title=\"psysml:587854cf-6fe1-483d-a698-c7fca9a0c13c\" xlink:actuate=\"onRequest\" xlink:href=\"psysml:587854cf-6fe1-483d-a698-c7fca9a0c13c\" xlink:show=\"new\" xlink:title=\"psysml:587854cf-6fe1-483d-a698-c7fca9a0c13c\" xlink:type=\"simple\"><rect fill=\"#FEFECE\" filter=\"url(#f132u3rbgwth6q)\" height=\"45.9375\" id=\"E9\" style=\"stroke: #A80036; stroke-width: 1.5;\" width=\"96\" x=\"76\" y=\"41\"/><ellipse cx=\"91\" cy=\"59.9688\" fill=\"#A52A2A\" rx=\"11\" ry=\"11\" style=\"stroke: #A80036; stroke-width: 1.0;\"/><path d=\"M88.2188,64.9688 L88.2188,54.375 L90.9531,54.375 Q92.3438,54.375 93.1094,54.7656 Q93.8906,55.1406 94.4219,55.8438 Q94.9531,56.5469 95.25,57.5469 Q95.5469,58.5313 95.5469,59.75 Q95.5,61.3438 95,62.5313 Q94.5156,63.7031 93.4688,64.3438 Q92.4375,64.9688 90.75,64.9688 L88.2188,64.9688 Z M90.0781,63.4688 L90.7031,63.4688 Q91.7813,63.4688 92.4375,63.0156 Q93.0938,62.5625 93.375,61.7344 Q93.6719,60.8906 93.6563,59.7656 Q93.6563,58.5938 93.4063,57.7344 Q93.1563,56.8594 92.5469,56.3906 Q91.9375,55.9063 90.8906,55.9063 L90.0781,55.9063 L90.0781,63.4688 Z \"/><text fill=\"#000000\" font-family=\"sans-serif\" font-size=\"12\" font-style=\"italic\" lengthAdjust=\"spacingAndGlyphs\" textLength=\"68\" x=\"103\" y=\"57.1387\">«port  def»</text><text fill=\"#000000\" font-family=\"sans-serif\" font-size=\"12\" lengthAdjust=\"spacingAndGlyphs\" textLength=\"8\" x=\"133\" y=\"71.1074\">P</text><line style=\"stroke: #A80036; stroke-width: 1.5;\" x1=\"77\" x2=\"171\" y1=\"78.9375\" y2=\"78.9375\"/></a><!--MD5=[96f4274e9e20536e775497830990834d]\n",
       "class E10--><a href=\"psysml:f73739ed-5364-4403-8254-d4f943238dfa\" target=\"_top\" title=\"psysml:f73739ed-5364-4403-8254-d4f943238dfa\" xlink:actuate=\"onRequest\" xlink:href=\"psysml:f73739ed-5364-4403-8254-d4f943238dfa\" xlink:show=\"new\" xlink:title=\"psysml:f73739ed-5364-4403-8254-d4f943238dfa\" xlink:type=\"simple\"><rect fill=\"#FEFECE\" filter=\"url(#f132u3rbgwth6q)\" height=\"40\" id=\"E10\" rx=\"10\" ry=\"10\" style=\"stroke: #A80036; stroke-width: 1.5;\" width=\"68\" x=\"32\" y=\"148\"/><ellipse cx=\"47\" cy=\"164\" fill=\"#32CD32\" rx=\"11\" ry=\"11\" style=\"stroke: #A80036; stroke-width: 1.0;\"/><path d=\"M43.8125,169 L43.8125,158.4063 L47.4219,158.4063 Q48.6406,158.4063 49.4375,158.8438 Q50.2344,159.2656 50.6094,159.9688 Q51,160.6719 51,161.5156 Q51,162.3594 50.625,163.0469 Q50.2656,163.7344 49.4688,164.1563 Q48.6875,164.5625 47.5,164.5625 L45.7656,164.5625 L45.7656,169 L43.8125,169 Z M45.7656,162.9688 L47.375,162.9688 Q48.1875,162.9688 48.6094,162.5625 Q49.0313,162.1563 49.0313,161.5156 Q49.0313,160.8906 48.6094,160.4844 Q48.1875,160.0781 47.3906,160.0781 L45.7656,160.0781 L45.7656,162.9688 Z \"/><text fill=\"#000000\" font-family=\"sans-serif\" font-size=\"12\" lengthAdjust=\"spacingAndGlyphs\" textLength=\"32\" x=\"61\" y=\"168.1543\">a1: A</text><line style=\"stroke: #A80036; stroke-width: 1.5;\" x1=\"33\" x2=\"99\" y1=\"180\" y2=\"180\"/></a><!--MD5=[1dd1bfd58a279cf63c5f349dbc8fc6a1]\n",
       "class E11--><a href=\"psysml:6a7a2def-0eff-4194-80a2-af7f6b4a129e\" target=\"_top\" title=\"psysml:6a7a2def-0eff-4194-80a2-af7f6b4a129e\" xlink:actuate=\"onRequest\" xlink:href=\"psysml:6a7a2def-0eff-4194-80a2-af7f6b4a129e\" xlink:show=\"new\" xlink:title=\"psysml:6a7a2def-0eff-4194-80a2-af7f6b4a129e\" xlink:type=\"simple\"><rect fill=\"#FEFECE\" filter=\"url(#f132u3rbgwth6q)\" height=\"40\" id=\"E11\" rx=\"10\" ry=\"10\" style=\"stroke: #A80036; stroke-width: 1.5;\" width=\"68\" x=\"135\" y=\"148\"/><ellipse cx=\"150\" cy=\"164\" fill=\"#32CD32\" rx=\"11\" ry=\"11\" style=\"stroke: #A80036; stroke-width: 1.0;\"/><path d=\"M146.8125,169 L146.8125,158.4063 L150.4219,158.4063 Q151.6406,158.4063 152.4375,158.8438 Q153.2344,159.2656 153.6094,159.9688 Q154,160.6719 154,161.5156 Q154,162.3594 153.625,163.0469 Q153.2656,163.7344 152.4688,164.1563 Q151.6875,164.5625 150.5,164.5625 L148.7656,164.5625 L148.7656,169 L146.8125,169 Z M148.7656,162.9688 L150.375,162.9688 Q151.1875,162.9688 151.6094,162.5625 Q152.0313,162.1563 152.0313,161.5156 Q152.0313,160.8906 151.6094,160.4844 Q151.1875,160.0781 150.3906,160.0781 L148.7656,160.0781 L148.7656,162.9688 Z \"/><text fill=\"#000000\" font-family=\"sans-serif\" font-size=\"12\" lengthAdjust=\"spacingAndGlyphs\" textLength=\"32\" x=\"164\" y=\"168.1543\">a2: A</text><line style=\"stroke: #A80036; stroke-width: 1.5;\" x1=\"136\" x2=\"202\" y1=\"180\" y2=\"180\"/></a><!--MD5=[2720a5a1f2c3fca2055b230370638851]\n",
       "link E2 to E3--><a href=\"psysml:8851b494-fad9-483d-8771-6e667cb982eb\" target=\"_top\" title=\"psysml:8851b494-fad9-483d-8771-6e667cb982eb\" xlink:actuate=\"onRequest\" xlink:href=\"psysml:8851b494-fad9-483d-8771-6e667cb982eb\" xlink:show=\"new\" xlink:title=\"psysml:8851b494-fad9-483d-8771-6e667cb982eb\" xlink:type=\"simple\"><path d=\"M247.3,188.09 C234.42,201.24 216.95,219.06 201.79,234.53 \" fill=\"none\" id=\"E2-&gt;E3\" style=\"stroke: #A80036; stroke-width: 1.0;\"/><polygon fill=\"#FFFFFF\" points=\"187.65,248.97,195.9397,230.4962,205.9437,240.2901,187.65,248.97\" style=\"stroke: #A80036; stroke-width: 1.0;\"/><ellipse cx=\"201.3564\" cy=\"227.8223\" fill=\"#A80036\" rx=\"2\" ry=\"2\" style=\"stroke: #A80036; stroke-width: 1.0;\"/><ellipse cx=\"208.5021\" cy=\"234.8179\" fill=\"#A80036\" rx=\"2\" ry=\"2\" style=\"stroke: #A80036; stroke-width: 1.0;\"/></a><!--MD5=[4672eba38e49728da53d11aeb285b987]\n",
       "reverse link E3 to E4--><a href=\"psysml:bbc4490d-4884-4bf2-8394-3cd2641c3130\" target=\"_top\" title=\"psysml:bbc4490d-4884-4bf2-8394-3cd2641c3130\" xlink:actuate=\"onRequest\" xlink:href=\"psysml:bbc4490d-4884-4bf2-8394-3cd2641c3130\" xlink:show=\"new\" xlink:title=\"psysml:bbc4490d-4884-4bf2-8394-3cd2641c3130\" xlink:type=\"simple\"><path d=\"M138.27,292.03 C120.72,306.42 100.07,326.8 89,350 C77.43,374.25 76.5,405.85 77.38,425.79 \" fill=\"none\" id=\"E3&lt;-E4\" style=\"stroke: #A80036; stroke-width: 1.0;\"/><polygon fill=\"#FFFFFF\" points=\"148.68,283.88,141.4897,284.427,139.2291,291.2746,146.4194,290.7276,148.68,283.88\" style=\"stroke: #A80036; stroke-width: 1.0;\"/><text fill=\"#000000\" font-family=\"sans-serif\" font-size=\"13\" lengthAdjust=\"spacingAndGlyphs\" textLength=\"8\" x=\"67.7994\" y=\"415.0821\">1</text></a><!--MD5=[191cde3d490a3f6d7bb551fe3ddca469]\n",
       "reverse link E3 to E5--><a href=\"psysml:896e58a4-3d4e-4523-9980-c4907a158d3f\" target=\"_top\" title=\"psysml:896e58a4-3d4e-4523-9980-c4907a158d3f\" xlink:actuate=\"onRequest\" xlink:href=\"psysml:896e58a4-3d4e-4523-9980-c4907a158d3f\" xlink:show=\"new\" xlink:title=\"psysml:896e58a4-3d4e-4523-9980-c4907a158d3f\" xlink:type=\"simple\"><path d=\"M181.65,301.47 C187.92,317.08 195.36,335.57 201.04,349.7 \" fill=\"none\" id=\"E3&lt;-E5\" style=\"stroke: #A80036; stroke-width: 1.0;\"/><polygon fill=\"#FFFFFF\" points=\"176.71,289.19,175.2345,296.2485,181.1826,300.3253,182.6581,293.2668,176.71,289.19\" style=\"stroke: #A80036; stroke-width: 1.0;\"/><text fill=\"#000000\" font-family=\"sans-serif\" font-size=\"13\" lengthAdjust=\"spacingAndGlyphs\" textLength=\"8\" x=\"189.719\" y=\"338.8994\">1</text></a><!--MD5=[79568f1e445c3877b6a54524624ccc7d]\n",
       "link E4 to E6--><a href=\"psysml:ae089d5e-98d2-4386-a1f6-d9056ad7f1db\" target=\"_top\" title=\"psysml:ae089d5e-98d2-4386-a1f6-d9056ad7f1db\" xlink:actuate=\"onRequest\" xlink:href=\"psysml:ae089d5e-98d2-4386-a1f6-d9056ad7f1db\" xlink:show=\"new\" xlink:title=\"psysml:ae089d5e-98d2-4386-a1f6-d9056ad7f1db\" xlink:type=\"simple\"><path d=\"M86.74,466.1 C98.93,496.15 122.8,555.04 138.58,593.96 \" fill=\"none\" id=\"E4-&gt;E6\" style=\"stroke: #A80036; stroke-width: 1.0;\"/><polygon fill=\"#FFFFFF\" points=\"146.19,612.73,132.5666,597.7499,145.5417,592.4919,146.19,612.73\" style=\"stroke: #A80036; stroke-width: 1.0;\"/><ellipse cx=\"132.2794\" cy=\"591.7161\" fill=\"#A80036\" rx=\"2\" ry=\"2\" style=\"stroke: #A80036; stroke-width: 1.0;\"/><ellipse cx=\"141.5473\" cy=\"587.9604\" fill=\"#A80036\" rx=\"2\" ry=\"2\" style=\"stroke: #A80036; stroke-width: 1.0;\"/></a><!--MD5=[3f50a3473f1dfb74d3f76443e03635af]\n",
       "reverse link E6 to E7--><a href=\"psysml:f93e67a1-8e91-4b72-abc4-aff48dcc0ebf\" target=\"_top\" title=\"psysml:f93e67a1-8e91-4b72-abc4-aff48dcc0ebf\" xlink:actuate=\"onRequest\" xlink:href=\"psysml:f93e67a1-8e91-4b72-abc4-aff48dcc0ebf\" xlink:show=\"new\" xlink:title=\"psysml:f93e67a1-8e91-4b72-abc4-aff48dcc0ebf\" xlink:type=\"simple\"><path d=\"M179.15,663.15 C193.01,679.22 209.96,698.87 222.76,713.7 \" fill=\"none\" id=\"E6&lt;-E7\" style=\"stroke: #A80036; stroke-width: 1.0;\"/><polygon fill=\"#FFFFFF\" points=\"170.55,653.19,171.4382,660.3462,178.3855,662.2787,177.4973,655.1225,170.55,653.19\" style=\"stroke: #A80036; stroke-width: 1.0;\"/><text fill=\"#000000\" font-family=\"sans-serif\" font-size=\"13\" lengthAdjust=\"spacingAndGlyphs\" textLength=\"8\" x=\"208.8047\" y=\"702.8994\">1</text></a><!--MD5=[14ccda38c055a5c0da953d572bc50960]\n",
       "link E7 to E3--><a href=\"psysml:729e96ed-f9a8-4349-a416-61bf2a977bd8\" target=\"_top\" title=\"psysml:729e96ed-f9a8-4349-a416-61bf2a977bd8\" xlink:actuate=\"onRequest\" xlink:href=\"psysml:729e96ed-f9a8-4349-a416-61bf2a977bd8\" xlink:show=\"new\" xlink:title=\"psysml:729e96ed-f9a8-4349-a416-61bf2a977bd8\" xlink:type=\"simple\"><path d=\"M255.5,713.79 C266.43,693.7 280,662.91 280,634 C280,372 280,372 280,372 C280,331.58 239.6,302.81 207.54,286.34 \" fill=\"none\" id=\"E7-&gt;E3\" style=\"stroke: #A80036; stroke-width: 1.0;\"/><polygon fill=\"#FFFFFF\" points=\"189.1,277.68,209.2735,279.4203,203.3225,292.0925,189.1,277.68\" style=\"stroke: #A80036; stroke-width: 1.0;\"/><ellipse cx=\"213.5828\" cy=\"283.6535\" fill=\"#A80036\" rx=\"2\" ry=\"2\" style=\"stroke: #A80036; stroke-width: 1.0;\"/><ellipse cx=\"209.332\" cy=\"292.7051\" fill=\"#A80036\" rx=\"2\" ry=\"2\" style=\"stroke: #A80036; stroke-width: 1.0;\"/></a><!--MD5=[dfaffb906826c3e5aca635516100ff21]\n",
       "link E5 to E8--><a href=\"psysml:8b27b07a-ba61-4df4-814a-c4b9eba72255\" target=\"_top\" title=\"psysml:8b27b07a-ba61-4df4-814a-c4b9eba72255\" xlink:actuate=\"onRequest\" xlink:href=\"psysml:8b27b07a-ba61-4df4-814a-c4b9eba72255\" xlink:show=\"new\" xlink:title=\"psysml:8b27b07a-ba61-4df4-814a-c4b9eba72255\" xlink:type=\"simple\"><path d=\"M201.25,396.03 C192.66,417.67 179.38,451.1 169.08,477.03 \" fill=\"none\" id=\"E5-&gt;E8\" style=\"stroke: #A80036; stroke-width: 1.0;\"/><polygon fill=\"#FFFFFF\" points=\"161.61,495.84,162.108,475.5977,175.1218,480.7592,161.61,495.84\" style=\"stroke: #A80036; stroke-width: 1.0;\"/><ellipse cx=\"166.0686\" cy=\"471.0366\" fill=\"#A80036\" rx=\"2\" ry=\"2\" style=\"stroke: #A80036; stroke-width: 1.0;\"/><ellipse cx=\"175.3642\" cy=\"474.7233\" fill=\"#A80036\" rx=\"2\" ry=\"2\" style=\"stroke: #A80036; stroke-width: 1.0;\"/></a><!--MD5=[03c8294790d3c57651a1993cecff665f]\n",
       "reverse link E8 to E3--><a href=\"psysml:2fa26767-edf9-4f1d-8702-6d0b4fb1afcf\" target=\"_top\" title=\"psysml:2fa26767-edf9-4f1d-8702-6d0b4fb1afcf\" xlink:actuate=\"onRequest\" xlink:href=\"psysml:2fa26767-edf9-4f1d-8702-6d0b4fb1afcf\" xlink:show=\"new\" xlink:title=\"psysml:2fa26767-edf9-4f1d-8702-6d0b4fb1afcf\" xlink:type=\"simple\"><path d=\"M150.54,482.63 C147.6,449.27 144.63,395.82 150,350 C152.47,328.87 158.5,305.24 163.11,289.17 \" fill=\"none\" id=\"E8&lt;-E3\" style=\"stroke: #A80036; stroke-width: 1.0;\"/><polygon fill=\"#FFFFFF\" points=\"151.77,495.61,155.1851,489.2589,150.636,483.6637,147.2209,490.0148,151.77,495.61\" style=\"stroke: #A80036; stroke-width: 1.0;\"/><text fill=\"#000000\" font-family=\"sans-serif\" font-size=\"13\" lengthAdjust=\"spacingAndGlyphs\" textLength=\"7\" x=\"151\" y=\"377.5669\">y</text></a><!--MD5=[0d75d2178373a6a4568e5dc728f58aef]\n",
       "reverse link E8 to E6--><a href=\"psysml:2fa26767-edf9-4f1d-8702-6d0b4fb1afcf\" target=\"_top\" title=\"psysml:2fa26767-edf9-4f1d-8702-6d0b4fb1afcf\" xlink:actuate=\"onRequest\" xlink:href=\"psysml:2fa26767-edf9-4f1d-8702-6d0b4fb1afcf\" xlink:show=\"new\" xlink:title=\"psysml:2fa26767-edf9-4f1d-8702-6d0b4fb1afcf\" xlink:type=\"simple\"><path d=\"M154,549.36 C154,569.76 154,595.42 154,612.69 \" fill=\"none\" id=\"E8&lt;-E6\" style=\"stroke: #A80036; stroke-width: 1.0;\"/><polygon fill=\"#FFFFFF\" points=\"154,536.25,150,542.25,154,548.25,158,542.25,154,536.25\" style=\"stroke: #A80036; stroke-width: 1.0;\"/><text fill=\"#000000\" font-family=\"sans-serif\" font-size=\"13\" lengthAdjust=\"spacingAndGlyphs\" textLength=\"7\" x=\"155\" y=\"579.0669\">y</text></a><!--MD5=[23ac544a70576c3e717098101004234c]\n",
       "reverse link E9 to E10--><a href=\"psysml:2a8d2925-3f72-4e1c-849d-9e3943fa1d15\" target=\"_top\" title=\"psysml:2a8d2925-3f72-4e1c-849d-9e3943fa1d15\" xlink:actuate=\"onRequest\" xlink:href=\"psysml:2a8d2925-3f72-4e1c-849d-9e3943fa1d15\" xlink:show=\"new\" xlink:title=\"psysml:2a8d2925-3f72-4e1c-849d-9e3943fa1d15\" xlink:type=\"simple\"><path d=\"M104.95,98.49 C95.61,114.92 84.7,134.11 76.81,148 \" fill=\"none\" id=\"E9&lt;-E10\" style=\"stroke: #A80036; stroke-width: 1.0;\"/><polygon fill=\"#FFFFFF\" points=\"111.41,87.13,104.9664,90.3672,105.4762,97.5603,111.9199,94.3231,111.41,87.13\" style=\"stroke: #A80036; stroke-width: 1.0;\"/><text fill=\"#000000\" font-family=\"sans-serif\" font-size=\"13\" lengthAdjust=\"spacingAndGlyphs\" textLength=\"8\" x=\"70.8104\" y=\"137.0083\">1</text></a><!--MD5=[feeac5eb423634930294aa81f2d25a4c]\n",
       "link E10 to E3--><a href=\"psysml:be0eb1db-3a2d-4525-bfbd-aed22db095bf\" target=\"_top\" title=\"psysml:be0eb1db-3a2d-4525-bfbd-aed22db095bf\" xlink:actuate=\"onRequest\" xlink:href=\"psysml:be0eb1db-3a2d-4525-bfbd-aed22db095bf\" xlink:show=\"new\" xlink:title=\"psysml:be0eb1db-3a2d-4525-bfbd-aed22db095bf\" xlink:type=\"simple\"><path d=\"M85.86,188.09 C99.68,201.37 118.47,219.43 134.69,235.02 \" fill=\"none\" id=\"E10-&gt;E3\" style=\"stroke: #A80036; stroke-width: 1.0;\"/><polygon fill=\"#FFFFFF\" points=\"149.2,248.97,130.6476,240.8578,140.3451,230.7604,149.2,248.97\" style=\"stroke: #A80036; stroke-width: 1.0;\"/><ellipse cx=\"127.9219\" cy=\"235.467\" fill=\"#A80036\" rx=\"2\" ry=\"2\" style=\"stroke: #A80036; stroke-width: 1.0;\"/><ellipse cx=\"134.8487\" cy=\"228.2546\" fill=\"#A80036\" rx=\"2\" ry=\"2\" style=\"stroke: #A80036; stroke-width: 1.0;\"/></a><!--MD5=[1fc04a95fd77ad5ce46c1a3027516051]\n",
       "reverse link E9 to E11--><a href=\"psysml:4a4899a0-cca2-49ff-ba55-d15caf476c4f\" target=\"_top\" title=\"psysml:4a4899a0-cca2-49ff-ba55-d15caf476c4f\" xlink:actuate=\"onRequest\" xlink:href=\"psysml:4a4899a0-cca2-49ff-ba55-d15caf476c4f\" xlink:show=\"new\" xlink:title=\"psysml:4a4899a0-cca2-49ff-ba55-d15caf476c4f\" xlink:type=\"simple\"><path d=\"M139.2,99.45 C146.35,115.67 154.61,134.38 160.62,148 \" fill=\"none\" id=\"E9&lt;-E11\" style=\"stroke: #A80036; stroke-width: 1.0;\"/><polygon fill=\"#FFFFFF\" points=\"133.76,87.13,132.5217,94.234,138.603,98.1093,139.8413,91.0053,133.76,87.13\" style=\"stroke: #A80036; stroke-width: 1.0;\"/><text fill=\"#000000\" font-family=\"sans-serif\" font-size=\"13\" lengthAdjust=\"spacingAndGlyphs\" textLength=\"8\" x=\"148.9834\" y=\"137.0083\">1</text></a><!--MD5=[0517f1ce58c4d5483948f93845c45e26]\n",
       "link E11 to E3--><a href=\"psysml:8ddae6f0-112f-4ded-9c4d-74dd6bca1f55\" target=\"_top\" title=\"psysml:8ddae6f0-112f-4ded-9c4d-74dd6bca1f55\" xlink:actuate=\"onRequest\" xlink:href=\"psysml:8ddae6f0-112f-4ded-9c4d-74dd6bca1f55\" xlink:show=\"new\" xlink:title=\"psysml:8ddae6f0-112f-4ded-9c4d-74dd6bca1f55\" xlink:type=\"simple\"><path d=\"M169,188.09 C169,199.59 169,214.68 169,228.63 \" fill=\"none\" id=\"E11-&gt;E3\" style=\"stroke: #A80036; stroke-width: 1.0;\"/><polygon fill=\"#FFFFFF\" points=\"169,248.97,162,229.97,176,229.97,169,248.97\" style=\"stroke: #A80036; stroke-width: 1.0;\"/><ellipse cx=\"164\" cy=\"224.27\" fill=\"#A80036\" rx=\"2\" ry=\"2\" style=\"stroke: #A80036; stroke-width: 1.0;\"/><ellipse cx=\"174\" cy=\"224.27\" fill=\"#A80036\" rx=\"2\" ry=\"2\" style=\"stroke: #A80036; stroke-width: 1.0;\"/></a><!--MD5=[4c8d39d0a6bfea5fecabdc11b159bda3]\n",
       "@startuml\r\n",
       " \r\n",
       "package \"ItemTest\" as E1  [[psysml:ae8f2d08-e2f6-41ef-ae81-a483692b435b ]]  {\r\n",
       "comp usage \"f: A \" as E2 << << (P,limegreen) >> [[psysml:cbd0bd62-e912-4912-a2fb-da1e68d4f615 ]] {\r\n",
       "}\r\n",
       "comp def \"A\" as E3 << << (B,green) >> [[psysml:2b189b42-edf1-49d6-a72b-40b548d68a1d ]] {\r\n",
       "}\r\n",
       "comp usage \"b: B \" as E4 << << (P,limegreen) >> [[psysml:94aeed99-fa0f-4cf3-9a3c-c07fcd3df143 ]] {\r\n",
       "}\r\n",
       "comp usage \"c: C \" as E5 << << (P,limegreen) part>> [[psysml:74f7fd5f-8520-4aae-9a17-942775661558 ]] {\r\n",
       "}\r\n",
       "comp def \"<i>B</i>\" as E6 << << (B,green) >> [[psysml:f1885442-e1dd-46d9-92aa-2427019de9de ]] {\r\n",
       "}\r\n",
       "comp usage \"<i>a</i>: A \" as E7 << << (P,limegreen) part>> [[psysml:cc0b7000-21b2-4abb-bead-e88feeed0b85 ]] {\r\n",
       "}\r\n",
       "comp def \"C\" as E8 << << (B,green) >> [[psysml:6db780a5-cf23-40f2-9df9-03150cb096d0 ]] {\r\n",
       "}\r\n",
       "comp def \"P\" as E9 << <<(D,brown) port  def>> [[psysml:587854cf-6fe1-483d-a698-c7fca9a0c13c ]] {\r\n",
       "}\r\n",
       "comp usage \"a1: A \" as E10 << << (P,limegreen) >> [[psysml:f73739ed-5364-4403-8254-d4f943238dfa ]] {\r\n",
       "}\r\n",
       "comp usage \"a2: A \" as E11 << << (P,limegreen) >> [[psysml:6a7a2def-0eff-4194-80a2-af7f6b4a129e ]] {\r\n",
       "}\r\n",
       "}\r\n",
       "E2 - -:|> E3 [[psysml:8851b494-fad9-483d-8771-6e667cb982eb ]] \r\n",
       "E3 o- - \"1\"E4 [[psysml:bbc4490d-4884-4bf2-8394-3cd2641c3130 ]] \r\n",
       "E3 o- - \"1\"E5 [[psysml:896e58a4-3d4e-4523-9980-c4907a158d3f ]] \r\n",
       "E4 - -:|> E6 [[psysml:ae089d5e-98d2-4386-a1f6-d9056ad7f1db ]] \r\n",
       "E6 o- - \"1\"E7 [[psysml:f93e67a1-8e91-4b72-abc4-aff48dcc0ebf ]] \r\n",
       "E7 - -:|> E3 [[psysml:729e96ed-f9a8-4349-a416-61bf2a977bd8 ]] \r\n",
       "E5 - -:|> E8 [[psysml:8b27b07a-ba61-4df4-814a-c4b9eba72255 ]] \r\n",
       "E8 o- - E3 [[psysml:2fa26767-edf9-4f1d-8702-6d0b4fb1afcf ]] : y\r\n",
       "E8 o- - E6 [[psysml:2fa26767-edf9-4f1d-8702-6d0b4fb1afcf ]] : y\r\n",
       "E9 o- - \"1\"E10 [[psysml:2a8d2925-3f72-4e1c-849d-9e3943fa1d15 ]] \r\n",
       "E10 - -:|> E3 [[psysml:be0eb1db-3a2d-4525-bfbd-aed22db095bf ]] \r\n",
       "E9 o- - \"1\"E11 [[psysml:4a4899a0-cca2-49ff-ba55-d15caf476c4f ]] \r\n",
       "E11 - -:|> E3 [[psysml:8ddae6f0-112f-4ded-9c4d-74dd6bca1f55 ]] \r\n",
       "@enduml\r\n",
       "\n",
       "PlantUML version 1.2020.13(Sat Jun 13 12:26:38 UTC 2020)\n",
       "(EPL source distribution)\n",
       "Java Runtime: OpenJDK Runtime Environment\n",
       "JVM: OpenJDK 64-Bit Server VM\n",
       "Default Encoding: UTF-8\n",
       "Language: en\n",
       "Country: null\n",
       "--></g></svg>"
      ]
     },
     "execution_count": 36,
     "metadata": {},
     "output_type": "execute_result"
    }
   ],
   "source": [
    "%viz --style=\"PLANTUML\" --view=\"MIXED\" \"ItemTest\""
   ]
  },
  {
   "cell_type": "code",
   "execution_count": 37,
   "id": "a5d588bd",
   "metadata": {
    "execution": {
     "iopub.execute_input": "2022-08-19T08:17:30.299099Z",
     "iopub.status.busy": "2022-08-19T08:17:30.298648Z",
     "iopub.status.idle": "2022-08-19T08:17:30.338843Z",
     "shell.execute_reply": "2022-08-19T08:17:30.338435Z"
    }
   },
   "outputs": [
    {
     "data": {
      "image/svg+xml": [
       "<?xml version=\"1.0\" encoding=\"UTF-8\" standalone=\"no\"?><svg xmlns=\"http://www.w3.org/2000/svg\" xmlns:xlink=\"http://www.w3.org/1999/xlink\" contentScriptType=\"application/ecmascript\" contentStyleType=\"text/css\" height=\"818px\" preserveAspectRatio=\"none\" style=\"width:270px;height:818px;\" version=\"1.1\" viewBox=\"0 0 270 818\" width=\"270px\" zoomAndPan=\"magnify\"><defs/><g><!--MD5=[fbc87193dbaf4d95561dea2c320d4a47]\n",
       "cluster E1--><a href=\"psysml:ae8f2d08-e2f6-41ef-ae81-a483692b435b\" target=\"_top\" title=\"psysml:ae8f2d08-e2f6-41ef-ae81-a483692b435b\" xlink:actuate=\"onRequest\" xlink:href=\"psysml:ae8f2d08-e2f6-41ef-ae81-a483692b435b\" xlink:show=\"new\" xlink:title=\"psysml:ae8f2d08-e2f6-41ef-ae81-a483692b435b\" xlink:type=\"simple\"><polygon fill=\"#FFFFFF\" points=\"16,6,83,6,90,28.2969,248,28.2969,248,806,16,806,16,6\" style=\"stroke: #000000; stroke-width: 1.5;\"/><line style=\"stroke: #000000; stroke-width: 1.5;\" x1=\"16\" x2=\"90\" y1=\"28.2969\" y2=\"28.2969\"/><text fill=\"#000000\" font-family=\"sans-serif\" font-size=\"14\" font-weight=\"bold\" lengthAdjust=\"spacingAndGlyphs\" textLength=\"61\" x=\"20\" y=\"20.9951\">ItemTest</text></a><!--MD5=[b4997ac47864f28c2f74865a473b2911]\n",
       "class E2--><a href=\"psysml:cbd0bd62-e912-4912-a2fb-da1e68d4f615\" target=\"_top\" title=\"psysml:cbd0bd62-e912-4912-a2fb-da1e68d4f615\" xlink:actuate=\"onRequest\" xlink:href=\"psysml:cbd0bd62-e912-4912-a2fb-da1e68d4f615\" xlink:show=\"new\" xlink:title=\"psysml:cbd0bd62-e912-4912-a2fb-da1e68d4f615\" xlink:type=\"simple\"><rect fill=\"#FFFFFF\" height=\"45.9375\" id=\"E2\" rx=\"10\" ry=\"10\" style=\"stroke: #383838; stroke-width: 1.5;\" width=\"43\" x=\"188.5\" y=\"148\"/><text fill=\"#000000\" font-family=\"sans-serif\" font-size=\"12\" font-style=\"italic\" lengthAdjust=\"spacingAndGlyphs\" textLength=\"41\" x=\"189.5\" y=\"164.1387\">«item»</text><text fill=\"#000000\" font-family=\"sans-serif\" font-size=\"12\" lengthAdjust=\"spacingAndGlyphs\" textLength=\"20\" x=\"198\" y=\"178.1074\">f: A</text><line style=\"stroke: #383838; stroke-width: 1.5;\" x1=\"189.5\" x2=\"230.5\" y1=\"185.9375\" y2=\"185.9375\"/></a><!--MD5=[09b614a08d8cba4a07c9adeb5e0fee81]\n",
       "class E3--><a href=\"psysml:2b189b42-edf1-49d6-a72b-40b548d68a1d\" target=\"_top\" title=\"psysml:2b189b42-edf1-49d6-a72b-40b548d68a1d\" xlink:actuate=\"onRequest\" xlink:href=\"psysml:2b189b42-edf1-49d6-a72b-40b548d68a1d\" xlink:show=\"new\" xlink:title=\"psysml:2b189b42-edf1-49d6-a72b-40b548d68a1d\" xlink:type=\"simple\"><rect fill=\"#FFFFFF\" height=\"45.9375\" id=\"E3\" style=\"stroke: #383838; stroke-width: 1.5;\" width=\"71\" x=\"96.5\" y=\"255\"/><text fill=\"#000000\" font-family=\"sans-serif\" font-size=\"12\" font-style=\"italic\" lengthAdjust=\"spacingAndGlyphs\" textLength=\"69\" x=\"97.5\" y=\"271.1387\">«item  def»</text><text fill=\"#000000\" font-family=\"sans-serif\" font-size=\"12\" lengthAdjust=\"spacingAndGlyphs\" textLength=\"8\" x=\"128\" y=\"285.1074\">A</text><line style=\"stroke: #383838; stroke-width: 1.5;\" x1=\"97.5\" x2=\"166.5\" y1=\"292.9375\" y2=\"292.9375\"/></a><!--MD5=[ebbe1d658d1005bcc118a6aa81145e00]\n",
       "class E4--><a href=\"psysml:94aeed99-fa0f-4cf3-9a3c-c07fcd3df143\" target=\"_top\" title=\"psysml:94aeed99-fa0f-4cf3-9a3c-c07fcd3df143\" xlink:actuate=\"onRequest\" xlink:href=\"psysml:94aeed99-fa0f-4cf3-9a3c-c07fcd3df143\" xlink:show=\"new\" xlink:title=\"psysml:94aeed99-fa0f-4cf3-9a3c-c07fcd3df143\" xlink:type=\"simple\"><rect fill=\"#FFFFFF\" height=\"45.9375\" id=\"E4\" rx=\"10\" ry=\"10\" style=\"stroke: #383838; stroke-width: 1.5;\" width=\"43\" x=\"45.5\" y=\"438\"/><text fill=\"#000000\" font-family=\"sans-serif\" font-size=\"12\" font-style=\"italic\" lengthAdjust=\"spacingAndGlyphs\" textLength=\"41\" x=\"46.5\" y=\"454.1387\">«item»</text><text fill=\"#000000\" font-family=\"sans-serif\" font-size=\"12\" lengthAdjust=\"spacingAndGlyphs\" textLength=\"24\" x=\"53\" y=\"468.1074\">b: B</text><line style=\"stroke: #383838; stroke-width: 1.5;\" x1=\"46.5\" x2=\"87.5\" y1=\"475.9375\" y2=\"475.9375\"/></a><!--MD5=[270fce915f116d4de14055a7c1d9a0f3]\n",
       "class E5--><a href=\"psysml:74f7fd5f-8520-4aae-9a17-942775661558\" target=\"_top\" title=\"psysml:74f7fd5f-8520-4aae-9a17-942775661558\" xlink:actuate=\"onRequest\" xlink:href=\"psysml:74f7fd5f-8520-4aae-9a17-942775661558\" xlink:show=\"new\" xlink:title=\"psysml:74f7fd5f-8520-4aae-9a17-942775661558\" xlink:type=\"simple\"><rect fill=\"#FFFFFF\" height=\"45.9375\" id=\"E5\" rx=\"10\" ry=\"10\" style=\"stroke: #383838; stroke-width: 1.5;\" width=\"42\" x=\"151\" y=\"362\"/><text fill=\"#000000\" font-family=\"sans-serif\" font-size=\"12\" font-style=\"italic\" lengthAdjust=\"spacingAndGlyphs\" textLength=\"40\" x=\"152\" y=\"378.1387\">«part»</text><text fill=\"#000000\" font-family=\"sans-serif\" font-size=\"12\" lengthAdjust=\"spacingAndGlyphs\" textLength=\"23\" x=\"158.5\" y=\"392.1074\">c: C</text><line style=\"stroke: #383838; stroke-width: 1.5;\" x1=\"152\" x2=\"192\" y1=\"399.9375\" y2=\"399.9375\"/></a><!--MD5=[60a26617385b1d2d0262a64233df1f8d]\n",
       "class E6--><a href=\"psysml:f1885442-e1dd-46d9-92aa-2427019de9de\" target=\"_top\" title=\"psysml:f1885442-e1dd-46d9-92aa-2427019de9de\" xlink:actuate=\"onRequest\" xlink:href=\"psysml:f1885442-e1dd-46d9-92aa-2427019de9de\" xlink:show=\"new\" xlink:title=\"psysml:f1885442-e1dd-46d9-92aa-2427019de9de\" xlink:type=\"simple\"><rect fill=\"#FFFFFF\" height=\"45.9375\" id=\"E6\" style=\"stroke: #383838; stroke-width: 1.5;\" width=\"71\" x=\"112.5\" y=\"637\"/><text fill=\"#000000\" font-family=\"sans-serif\" font-size=\"12\" font-style=\"italic\" lengthAdjust=\"spacingAndGlyphs\" textLength=\"69\" x=\"113.5\" y=\"653.1387\">«item  def»</text><text fill=\"#000000\" font-family=\"sans-serif\" font-size=\"12\" font-style=\"italic\" lengthAdjust=\"spacingAndGlyphs\" textLength=\"8\" x=\"144\" y=\"667.1074\">B</text><line style=\"stroke: #383838; stroke-width: 1.5;\" x1=\"113.5\" x2=\"182.5\" y1=\"674.9375\" y2=\"674.9375\"/></a><!--MD5=[2156ba9850f5573cc1fc38a6a4b2f02b]\n",
       "class E7--><a href=\"psysml:cc0b7000-21b2-4abb-bead-e88feeed0b85\" target=\"_top\" title=\"psysml:cc0b7000-21b2-4abb-bead-e88feeed0b85\" xlink:actuate=\"onRequest\" xlink:href=\"psysml:cc0b7000-21b2-4abb-bead-e88feeed0b85\" xlink:show=\"new\" xlink:title=\"psysml:cc0b7000-21b2-4abb-bead-e88feeed0b85\" xlink:type=\"simple\"><rect fill=\"#FFFFFF\" height=\"45.9375\" id=\"E7\" rx=\"10\" ry=\"10\" style=\"stroke: #383838; stroke-width: 1.5;\" width=\"42\" x=\"159\" y=\"744\"/><text fill=\"#000000\" font-family=\"sans-serif\" font-size=\"12\" font-style=\"italic\" lengthAdjust=\"spacingAndGlyphs\" textLength=\"40\" x=\"160\" y=\"760.1387\">«part»</text><text fill=\"#000000\" font-family=\"sans-serif\" font-size=\"12\" font-style=\"italic\" lengthAdjust=\"spacingAndGlyphs\" textLength=\"8\" x=\"166\" y=\"774.1074\">a</text><text fill=\"#000000\" font-family=\"sans-serif\" font-size=\"12\" lengthAdjust=\"spacingAndGlyphs\" textLength=\"16\" x=\"174\" y=\"774.1074\">: A</text><line style=\"stroke: #383838; stroke-width: 1.5;\" x1=\"160\" x2=\"200\" y1=\"781.9375\" y2=\"781.9375\"/></a><!--MD5=[b9389687b975829384b498ac4b7476b2]\n",
       "class E8--><a href=\"psysml:6db780a5-cf23-40f2-9df9-03150cb096d0\" target=\"_top\" title=\"psysml:6db780a5-cf23-40f2-9df9-03150cb096d0\" xlink:actuate=\"onRequest\" xlink:href=\"psysml:6db780a5-cf23-40f2-9df9-03150cb096d0\" xlink:show=\"new\" xlink:title=\"psysml:6db780a5-cf23-40f2-9df9-03150cb096d0\" xlink:type=\"simple\"><rect fill=\"#FFFFFF\" height=\"45.9375\" id=\"E8\" style=\"stroke: #383838; stroke-width: 1.5;\" width=\"70\" x=\"113\" y=\"514\"/><text fill=\"#000000\" font-family=\"sans-serif\" font-size=\"12\" font-style=\"italic\" lengthAdjust=\"spacingAndGlyphs\" textLength=\"68\" x=\"114\" y=\"530.1387\">«part  def»</text><text fill=\"#000000\" font-family=\"sans-serif\" font-size=\"12\" lengthAdjust=\"spacingAndGlyphs\" textLength=\"8\" x=\"144\" y=\"544.1074\">C</text><line style=\"stroke: #383838; stroke-width: 1.5;\" x1=\"114\" x2=\"182\" y1=\"551.9375\" y2=\"551.9375\"/></a><!--MD5=[fd4143e9d270a159db93a4ea2a975926]\n",
       "class E9--><a href=\"psysml:587854cf-6fe1-483d-a698-c7fca9a0c13c\" target=\"_top\" title=\"psysml:587854cf-6fe1-483d-a698-c7fca9a0c13c\" xlink:actuate=\"onRequest\" xlink:href=\"psysml:587854cf-6fe1-483d-a698-c7fca9a0c13c\" xlink:show=\"new\" xlink:title=\"psysml:587854cf-6fe1-483d-a698-c7fca9a0c13c\" xlink:type=\"simple\"><rect fill=\"#FFFFFF\" height=\"45.9375\" id=\"E9\" style=\"stroke: #383838; stroke-width: 1.5;\" width=\"70\" x=\"64\" y=\"41\"/><text fill=\"#000000\" font-family=\"sans-serif\" font-size=\"12\" font-style=\"italic\" lengthAdjust=\"spacingAndGlyphs\" textLength=\"68\" x=\"65\" y=\"57.1387\">«port  def»</text><text fill=\"#000000\" font-family=\"sans-serif\" font-size=\"12\" lengthAdjust=\"spacingAndGlyphs\" textLength=\"8\" x=\"95\" y=\"71.1074\">P</text><line style=\"stroke: #383838; stroke-width: 1.5;\" x1=\"65\" x2=\"133\" y1=\"78.9375\" y2=\"78.9375\"/></a><!--MD5=[96f4274e9e20536e775497830990834d]\n",
       "class E10--><a href=\"psysml:f73739ed-5364-4403-8254-d4f943238dfa\" target=\"_top\" title=\"psysml:f73739ed-5364-4403-8254-d4f943238dfa\" xlink:actuate=\"onRequest\" xlink:href=\"psysml:f73739ed-5364-4403-8254-d4f943238dfa\" xlink:show=\"new\" xlink:title=\"psysml:f73739ed-5364-4403-8254-d4f943238dfa\" xlink:type=\"simple\"><rect fill=\"#FFFFFF\" height=\"45.9375\" id=\"E10\" rx=\"10\" ry=\"10\" style=\"stroke: #383838; stroke-width: 1.5;\" width=\"43\" x=\"32.5\" y=\"148\"/><text fill=\"#000000\" font-family=\"sans-serif\" font-size=\"12\" font-style=\"italic\" lengthAdjust=\"spacingAndGlyphs\" textLength=\"41\" x=\"33.5\" y=\"164.1387\">«item»</text><text fill=\"#000000\" font-family=\"sans-serif\" font-size=\"12\" lengthAdjust=\"spacingAndGlyphs\" textLength=\"32\" x=\"36\" y=\"178.1074\">a1: A</text><line style=\"stroke: #383838; stroke-width: 1.5;\" x1=\"33.5\" x2=\"74.5\" y1=\"185.9375\" y2=\"185.9375\"/></a><!--MD5=[1dd1bfd58a279cf63c5f349dbc8fc6a1]\n",
       "class E11--><a href=\"psysml:6a7a2def-0eff-4194-80a2-af7f6b4a129e\" target=\"_top\" title=\"psysml:6a7a2def-0eff-4194-80a2-af7f6b4a129e\" xlink:actuate=\"onRequest\" xlink:href=\"psysml:6a7a2def-0eff-4194-80a2-af7f6b4a129e\" xlink:show=\"new\" xlink:title=\"psysml:6a7a2def-0eff-4194-80a2-af7f6b4a129e\" xlink:type=\"simple\"><rect fill=\"#FFFFFF\" height=\"45.9375\" id=\"E11\" rx=\"10\" ry=\"10\" style=\"stroke: #383838; stroke-width: 1.5;\" width=\"43\" x=\"110.5\" y=\"148\"/><text fill=\"#000000\" font-family=\"sans-serif\" font-size=\"12\" font-style=\"italic\" lengthAdjust=\"spacingAndGlyphs\" textLength=\"41\" x=\"111.5\" y=\"164.1387\">«item»</text><text fill=\"#000000\" font-family=\"sans-serif\" font-size=\"12\" lengthAdjust=\"spacingAndGlyphs\" textLength=\"32\" x=\"114\" y=\"178.1074\">a2: A</text><line style=\"stroke: #383838; stroke-width: 1.5;\" x1=\"111.5\" x2=\"152.5\" y1=\"185.9375\" y2=\"185.9375\"/></a><!--MD5=[2720a5a1f2c3fca2055b230370638851]\n",
       "link E2 to E3--><a href=\"psysml:8851b494-fad9-483d-8771-6e667cb982eb\" target=\"_top\" title=\"psysml:8851b494-fad9-483d-8771-6e667cb982eb\" xlink:actuate=\"onRequest\" xlink:href=\"psysml:8851b494-fad9-483d-8771-6e667cb982eb\" xlink:show=\"new\" xlink:title=\"psysml:8851b494-fad9-483d-8771-6e667cb982eb\" xlink:type=\"simple\"><path d=\"M193.65,194.01 C184.14,206.81 171.89,223.3 160.82,238.2 \" fill=\"none\" id=\"E2-&gt;E3\" style=\"stroke: #383838; stroke-width: 1.0;\"/><polygon fill=\"#FFFFFF\" points=\"148.6,254.66,154.3195,235.2361,165.5543,243.5896,148.6,254.66\" style=\"stroke: #383838; stroke-width: 1.0;\"/><ellipse cx=\"159.3256\" cy=\"231.8554\" fill=\"#383838\" rx=\"2\" ry=\"2\" style=\"stroke: #383838; stroke-width: 1.0;\"/><ellipse cx=\"167.3504\" cy=\"237.8221\" fill=\"#383838\" rx=\"2\" ry=\"2\" style=\"stroke: #383838; stroke-width: 1.0;\"/></a><!--MD5=[4672eba38e49728da53d11aeb285b987]\n",
       "reverse link E3 to E4--><a href=\"psysml:bbc4490d-4884-4bf2-8394-3cd2641c3130\" target=\"_top\" title=\"psysml:bbc4490d-4884-4bf2-8394-3cd2641c3130\" xlink:actuate=\"onRequest\" xlink:href=\"psysml:bbc4490d-4884-4bf2-8394-3cd2641c3130\" xlink:show=\"new\" xlink:title=\"psysml:bbc4490d-4884-4bf2-8394-3cd2641c3130\" xlink:type=\"simple\"><path d=\"M97.11,310.9 C84.08,325.11 70.81,342.94 64,362 C55.12,386.85 58.09,417.53 61.82,437.88 \" fill=\"none\" id=\"E3&lt;-E4\" style=\"stroke: #383838; stroke-width: 1.0;\"/><polygon fill=\"#FFFFFF\" points=\"106.46,301.23,99.4153,302.7703,98.1277,309.8655,105.1724,308.3252,106.46,301.23\" style=\"stroke: #383838; stroke-width: 1.0;\"/><text fill=\"#000000\" font-family=\"sans-serif\" font-size=\"13\" lengthAdjust=\"spacingAndGlyphs\" textLength=\"8\" x=\"51.3529\" y=\"426.744\">1</text></a><!--MD5=[191cde3d490a3f6d7bb551fe3ddca469]\n",
       "reverse link E3 to E5--><a href=\"psysml:896e58a4-3d4e-4523-9980-c4907a158d3f\" target=\"_top\" title=\"psysml:896e58a4-3d4e-4523-9980-c4907a158d3f\" xlink:actuate=\"onRequest\" xlink:href=\"psysml:896e58a4-3d4e-4523-9980-c4907a158d3f\" xlink:show=\"new\" xlink:title=\"psysml:896e58a4-3d4e-4523-9980-c4907a158d3f\" xlink:type=\"simple\"><path d=\"M145.17,313.57 C151.2,329.39 158.16,347.68 163.49,361.66 \" fill=\"none\" id=\"E3&lt;-E5\" style=\"stroke: #383838; stroke-width: 1.0;\"/><polygon fill=\"#FFFFFF\" points=\"140.39,301.01,138.7866,308.0406,144.6598,312.2247,146.2631,305.1941,140.39,301.01\" style=\"stroke: #383838; stroke-width: 1.0;\"/><text fill=\"#000000\" font-family=\"sans-serif\" font-size=\"13\" lengthAdjust=\"spacingAndGlyphs\" textLength=\"8\" x=\"152.2843\" y=\"350.8492\">1</text></a><!--MD5=[79568f1e445c3877b6a54524624ccc7d]\n",
       "link E4 to E6--><a href=\"psysml:ae089d5e-98d2-4386-a1f6-d9056ad7f1db\" target=\"_top\" title=\"psysml:ae089d5e-98d2-4386-a1f6-d9056ad7f1db\" xlink:actuate=\"onRequest\" xlink:href=\"psysml:ae089d5e-98d2-4386-a1f6-d9056ad7f1db\" xlink:show=\"new\" xlink:title=\"psysml:ae089d5e-98d2-4386-a1f6-d9056ad7f1db\" xlink:type=\"simple\"><path d=\"M72.25,484.22 C77.31,504.36 85.72,534.68 96,560 C104.15,580.08 115.08,601.47 124.82,619.21 \" fill=\"none\" id=\"E4-&gt;E6\" style=\"stroke: #383838; stroke-width: 1.0;\"/><polygon fill=\"#FFFFFF\" points=\"134.72,636.8,119.2979,623.6791,131.4967,616.8097,134.72,636.8\" style=\"stroke: #383838; stroke-width: 1.0;\"/><ellipse cx=\"118.2438\" cy=\"617.7311\" fill=\"#383838\" rx=\"2\" ry=\"2\" style=\"stroke: #383838; stroke-width: 1.0;\"/><ellipse cx=\"126.9572\" cy=\"612.8244\" fill=\"#383838\" rx=\"2\" ry=\"2\" style=\"stroke: #383838; stroke-width: 1.0;\"/></a><!--MD5=[3f50a3473f1dfb74d3f76443e03635af]\n",
       "reverse link E6 to E7--><a href=\"psysml:f93e67a1-8e91-4b72-abc4-aff48dcc0ebf\" target=\"_top\" title=\"psysml:f93e67a1-8e91-4b72-abc4-aff48dcc0ebf\" xlink:actuate=\"onRequest\" xlink:href=\"psysml:f93e67a1-8e91-4b72-abc4-aff48dcc0ebf\" xlink:show=\"new\" xlink:title=\"psysml:f93e67a1-8e91-4b72-abc4-aff48dcc0ebf\" xlink:type=\"simple\"><path d=\"M158.54,695.57 C163.36,711.39 168.93,729.68 173.19,743.66 \" fill=\"none\" id=\"E6&lt;-E7\" style=\"stroke: #383838; stroke-width: 1.0;\"/><polygon fill=\"#FFFFFF\" points=\"154.71,683.01,152.6319,689.9152,158.2066,694.4893,160.2847,687.5841,154.71,683.01\" style=\"stroke: #383838; stroke-width: 1.0;\"/><text fill=\"#000000\" font-family=\"sans-serif\" font-size=\"13\" lengthAdjust=\"spacingAndGlyphs\" textLength=\"8\" x=\"162.4199\" y=\"732.8492\">1</text></a><!--MD5=[14ccda38c055a5c0da953d572bc50960]\n",
       "link E7 to E3--><a href=\"psysml:729e96ed-f9a8-4349-a416-61bf2a977bd8\" target=\"_top\" title=\"psysml:729e96ed-f9a8-4349-a416-61bf2a977bd8\" xlink:actuate=\"onRequest\" xlink:href=\"psysml:729e96ed-f9a8-4349-a416-61bf2a977bd8\" xlink:show=\"new\" xlink:title=\"psysml:729e96ed-f9a8-4349-a416-61bf2a977bd8\" xlink:type=\"simple\"><path d=\"M197.41,743.63 C211.5,723.27 229,691.78 229,661 C229,384 229,384 229,384 C229,353.7 206.93,328.42 183.85,310.26 \" fill=\"none\" id=\"E7-&gt;E3\" style=\"stroke: #383838; stroke-width: 1.0;\"/><polygon fill=\"#FFFFFF\" points=\"167.57,298.59,187.0929,303.9617,178.9414,315.3438,167.57,298.59\" style=\"stroke: #383838; stroke-width: 1.0;\"/><ellipse cx=\"190.5626\" cy=\"308.9066\" fill=\"#383838\" rx=\"2\" ry=\"2\" style=\"stroke: #383838; stroke-width: 1.0;\"/><ellipse cx=\"184.7401\" cy=\"317.0367\" fill=\"#383838\" rx=\"2\" ry=\"2\" style=\"stroke: #383838; stroke-width: 1.0;\"/></a><!--MD5=[dfaffb906826c3e5aca635516100ff21]\n",
       "link E5 to E8--><a href=\"psysml:8b27b07a-ba61-4df4-814a-c4b9eba72255\" target=\"_top\" title=\"psysml:8b27b07a-ba61-4df4-814a-c4b9eba72255\" xlink:actuate=\"onRequest\" xlink:href=\"psysml:8b27b07a-ba61-4df4-814a-c4b9eba72255\" xlink:show=\"new\" xlink:title=\"psysml:8b27b07a-ba61-4df4-814a-c4b9eba72255\" xlink:type=\"simple\"><path d=\"M168.46,408.13 C164.86,430.62 159.2,466.01 154.74,493.87 \" fill=\"none\" id=\"E5-&gt;E8\" style=\"stroke: #383838; stroke-width: 1.0;\"/><polygon fill=\"#FFFFFF\" points=\"151.56,513.78,147.6458,493.9135,161.4704,496.1226,151.56,513.78\" style=\"stroke: #383838; stroke-width: 1.0;\"/><ellipse cx=\"150.5202\" cy=\"488.6005\" fill=\"#383838\" rx=\"2\" ry=\"2\" style=\"stroke: #383838; stroke-width: 1.0;\"/><ellipse cx=\"160.3949\" cy=\"490.1784\" fill=\"#383838\" rx=\"2\" ry=\"2\" style=\"stroke: #383838; stroke-width: 1.0;\"/></a><!--MD5=[03c8294790d3c57651a1993cecff665f]\n",
       "reverse link E8 to E3--><a href=\"psysml:2fa26767-edf9-4f1d-8702-6d0b4fb1afcf\" target=\"_top\" title=\"psysml:2fa26767-edf9-4f1d-8702-6d0b4fb1afcf\" xlink:actuate=\"onRequest\" xlink:href=\"psysml:2fa26767-edf9-4f1d-8702-6d0b4fb1afcf\" xlink:show=\"new\" xlink:title=\"psysml:2fa26767-edf9-4f1d-8702-6d0b4fb1afcf\" xlink:type=\"simple\"><path d=\"M140.02,501.22 C134.57,475.6 127.84,439.84 125,408 C123.18,387.64 124.14,382.43 125,362 C125.87,341.34 127.95,317.86 129.62,301.16 \" fill=\"none\" id=\"E8&lt;-E3\" style=\"stroke: #383838; stroke-width: 1.0;\"/><polygon fill=\"#FFFFFF\" points=\"142.81,513.96,145.4388,507.2451,140.2515,502.2359,137.6227,508.9508,142.81,513.96\" style=\"stroke: #383838; stroke-width: 1.0;\"/><text fill=\"#000000\" font-family=\"sans-serif\" font-size=\"13\" lengthAdjust=\"spacingAndGlyphs\" textLength=\"7\" x=\"126\" y=\"389.5669\">y</text></a><!--MD5=[0d75d2178373a6a4568e5dc728f58aef]\n",
       "reverse link E8 to E6--><a href=\"psysml:2fa26767-edf9-4f1d-8702-6d0b4fb1afcf\" target=\"_top\" title=\"psysml:2fa26767-edf9-4f1d-8702-6d0b4fb1afcf\" xlink:actuate=\"onRequest\" xlink:href=\"psysml:2fa26767-edf9-4f1d-8702-6d0b4fb1afcf\" xlink:show=\"new\" xlink:title=\"psysml:2fa26767-edf9-4f1d-8702-6d0b4fb1afcf\" xlink:type=\"simple\"><path d=\"M148,573.22 C148,593.81 148,619.16 148,636.95 \" fill=\"none\" id=\"E8&lt;-E6\" style=\"stroke: #383838; stroke-width: 1.0;\"/><polygon fill=\"#FFFFFF\" points=\"148,560.19,144,566.19,148,572.19,152,566.19,148,560.19\" style=\"stroke: #383838; stroke-width: 1.0;\"/><text fill=\"#000000\" font-family=\"sans-serif\" font-size=\"13\" lengthAdjust=\"spacingAndGlyphs\" textLength=\"7\" x=\"149\" y=\"603.0669\">y</text></a><!--MD5=[23ac544a70576c3e717098101004234c]\n",
       "reverse link E9 to E10--><a href=\"psysml:2a8d2925-3f72-4e1c-849d-9e3943fa1d15\" target=\"_top\" title=\"psysml:2a8d2925-3f72-4e1c-849d-9e3943fa1d15\" xlink:actuate=\"onRequest\" xlink:href=\"psysml:2a8d2925-3f72-4e1c-849d-9e3943fa1d15\" xlink:show=\"new\" xlink:title=\"psysml:2a8d2925-3f72-4e1c-849d-9e3943fa1d15\" xlink:type=\"simple\"><path d=\"M84.39,99.1 C77.56,115.03 69.63,133.54 63.58,147.66 \" fill=\"none\" id=\"E9&lt;-E10\" style=\"stroke: #383838; stroke-width: 1.0;\"/><polygon fill=\"#FFFFFF\" points=\"89.57,87.01,83.5327,90.9535,84.8509,98.0431,90.8882,94.0996,89.57,87.01\" style=\"stroke: #383838; stroke-width: 1.0;\"/><text fill=\"#000000\" font-family=\"sans-serif\" font-size=\"13\" lengthAdjust=\"spacingAndGlyphs\" textLength=\"8\" x=\"57.0099\" y=\"136.8492\">1</text></a><!--MD5=[feeac5eb423634930294aa81f2d25a4c]\n",
       "link E10 to E3--><a href=\"psysml:be0eb1db-3a2d-4525-bfbd-aed22db095bf\" target=\"_top\" title=\"psysml:be0eb1db-3a2d-4525-bfbd-aed22db095bf\" xlink:actuate=\"onRequest\" xlink:href=\"psysml:be0eb1db-3a2d-4525-bfbd-aed22db095bf\" xlink:show=\"new\" xlink:title=\"psysml:be0eb1db-3a2d-4525-bfbd-aed22db095bf\" xlink:type=\"simple\"><path d=\"M70.35,194.01 C79.86,206.81 92.11,223.3 103.18,238.2 \" fill=\"none\" id=\"E10-&gt;E3\" style=\"stroke: #383838; stroke-width: 1.0;\"/><polygon fill=\"#FFFFFF\" points=\"115.4,254.66,98.4457,243.5896,109.6805,235.2361,115.4,254.66\" style=\"stroke: #383838; stroke-width: 1.0;\"/><ellipse cx=\"96.6496\" cy=\"237.8221\" fill=\"#383838\" rx=\"2\" ry=\"2\" style=\"stroke: #383838; stroke-width: 1.0;\"/><ellipse cx=\"104.6744\" cy=\"231.8554\" fill=\"#383838\" rx=\"2\" ry=\"2\" style=\"stroke: #383838; stroke-width: 1.0;\"/></a><!--MD5=[1fc04a95fd77ad5ce46c1a3027516051]\n",
       "reverse link E9 to E11--><a href=\"psysml:4a4899a0-cca2-49ff-ba55-d15caf476c4f\" target=\"_top\" title=\"psysml:4a4899a0-cca2-49ff-ba55-d15caf476c4f\" xlink:actuate=\"onRequest\" xlink:href=\"psysml:4a4899a0-cca2-49ff-ba55-d15caf476c4f\" xlink:show=\"new\" xlink:title=\"psysml:4a4899a0-cca2-49ff-ba55-d15caf476c4f\" xlink:type=\"simple\"><path d=\"M109.87,99.57 C114.84,115.39 120.59,133.68 124.98,147.66 \" fill=\"none\" id=\"E9&lt;-E11\" style=\"stroke: #383838; stroke-width: 1.0;\"/><polygon fill=\"#FFFFFF\" points=\"105.92,87.01,103.9044,93.9337,109.5203,98.4572,111.5359,91.5335,105.92,87.01\" style=\"stroke: #383838; stroke-width: 1.0;\"/><text fill=\"#000000\" font-family=\"sans-serif\" font-size=\"13\" lengthAdjust=\"spacingAndGlyphs\" textLength=\"8\" x=\"114.1561\" y=\"136.8492\">1</text></a><!--MD5=[0517f1ce58c4d5483948f93845c45e26]\n",
       "link E11 to E3--><a href=\"psysml:8ddae6f0-112f-4ded-9c4d-74dd6bca1f55\" target=\"_top\" title=\"psysml:8ddae6f0-112f-4ded-9c4d-74dd6bca1f55\" xlink:actuate=\"onRequest\" xlink:href=\"psysml:8ddae6f0-112f-4ded-9c4d-74dd6bca1f55\" xlink:show=\"new\" xlink:title=\"psysml:8ddae6f0-112f-4ded-9c4d-74dd6bca1f55\" xlink:type=\"simple\"><path d=\"M132,194.01 C132,205.69 132,220.46 132,234.28 \" fill=\"none\" id=\"E11-&gt;E3\" style=\"stroke: #383838; stroke-width: 1.0;\"/><polygon fill=\"#FFFFFF\" points=\"132,254.66,125,235.66,139,235.66,132,254.66\" style=\"stroke: #383838; stroke-width: 1.0;\"/><ellipse cx=\"127\" cy=\"229.96\" fill=\"#383838\" rx=\"2\" ry=\"2\" style=\"stroke: #383838; stroke-width: 1.0;\"/><ellipse cx=\"137\" cy=\"229.96\" fill=\"#383838\" rx=\"2\" ry=\"2\" style=\"stroke: #383838; stroke-width: 1.0;\"/></a><!--MD5=[45fb17d516497f6484e2e85667896a94]\n",
       "@startuml\r\n",
       "skinparam monochrome true\r\n",
       "skinparam classbackgroundcolor white\r\n",
       "skinparam shadowing false\r\n",
       "skinparam wrapWidth 300\r\n",
       "hide circle\r\n",
       "\r\n",
       "package \"ItemTest\" as E1  [[psysml:ae8f2d08-e2f6-41ef-ae81-a483692b435b ]]  {\r\n",
       "comp usage \"f: A \" as E2  <<(T,blue) item>> [[psysml:cbd0bd62-e912-4912-a2fb-da1e68d4f615 ]] {\r\n",
       "}\r\n",
       "comp def \"A\" as E3  <<(T,blue) item  def>> [[psysml:2b189b42-edf1-49d6-a72b-40b548d68a1d ]] {\r\n",
       "}\r\n",
       "comp usage \"b: B \" as E4  <<(T,blue) item>> [[psysml:94aeed99-fa0f-4cf3-9a3c-c07fcd3df143 ]] {\r\n",
       "}\r\n",
       "comp usage \"c: C \" as E5  <<(T,blue) part>> [[psysml:74f7fd5f-8520-4aae-9a17-942775661558 ]] {\r\n",
       "}\r\n",
       "comp def \"<i>B</i>\" as E6  <<(T,blue) item  def>> [[psysml:f1885442-e1dd-46d9-92aa-2427019de9de ]] {\r\n",
       "}\r\n",
       "comp usage \"<i>a</i>: A \" as E7  <<(T,blue) part>> [[psysml:cc0b7000-21b2-4abb-bead-e88feeed0b85 ]] {\r\n",
       "}\r\n",
       "comp def \"C\" as E8  <<(T,blue) part  def>> [[psysml:6db780a5-cf23-40f2-9df9-03150cb096d0 ]] {\r\n",
       "}\r\n",
       "comp def \"P\" as E9  <<(T,blue) port  def>> [[psysml:587854cf-6fe1-483d-a698-c7fca9a0c13c ]] {\r\n",
       "}\r\n",
       "comp usage \"a1: A \" as E10  <<(T,blue) item>> [[psysml:f73739ed-5364-4403-8254-d4f943238dfa ]] {\r\n",
       "}\r\n",
       "comp usage \"a2: A \" as E11  <<(T,blue) item>> [[psysml:6a7a2def-0eff-4194-80a2-af7f6b4a129e ]] {\r\n",
       "}\r\n",
       "}\r\n",
       "E2 - -:|> E3 [[psysml:8851b494-fad9-483d-8771-6e667cb982eb ]] \r\n",
       "E3 o- - \"1\"E4 [[psysml:bbc4490d-4884-4bf2-8394-3cd2641c3130 ]] \r\n",
       "E3 o- - \"1\"E5 [[psysml:896e58a4-3d4e-4523-9980-c4907a158d3f ]] \r\n",
       "E4 - -:|> E6 [[psysml:ae089d5e-98d2-4386-a1f6-d9056ad7f1db ]] \r\n",
       "E6 o- - \"1\"E7 [[psysml:f93e67a1-8e91-4b72-abc4-aff48dcc0ebf ]] \r\n",
       "E7 - -:|> E3 [[psysml:729e96ed-f9a8-4349-a416-61bf2a977bd8 ]] \r\n",
       "E5 - -:|> E8 [[psysml:8b27b07a-ba61-4df4-814a-c4b9eba72255 ]] \r\n",
       "E8 o- - E3 [[psysml:2fa26767-edf9-4f1d-8702-6d0b4fb1afcf ]] : y\r\n",
       "E8 o- - E6 [[psysml:2fa26767-edf9-4f1d-8702-6d0b4fb1afcf ]] : y\r\n",
       "E9 o- - \"1\"E10 [[psysml:2a8d2925-3f72-4e1c-849d-9e3943fa1d15 ]] \r\n",
       "E10 - -:|> E3 [[psysml:be0eb1db-3a2d-4525-bfbd-aed22db095bf ]] \r\n",
       "E9 o- - \"1\"E11 [[psysml:4a4899a0-cca2-49ff-ba55-d15caf476c4f ]] \r\n",
       "E11 - -:|> E3 [[psysml:8ddae6f0-112f-4ded-9c4d-74dd6bca1f55 ]] \r\n",
       "@enduml\r\n",
       "\n",
       "PlantUML version 1.2020.13(Sat Jun 13 12:26:38 UTC 2020)\n",
       "(EPL source distribution)\n",
       "Java Runtime: OpenJDK Runtime Environment\n",
       "JVM: OpenJDK 64-Bit Server VM\n",
       "Default Encoding: UTF-8\n",
       "Language: en\n",
       "Country: null\n",
       "--></g></svg>"
      ]
     },
     "execution_count": 37,
     "metadata": {},
     "output_type": "execute_result"
    }
   ],
   "source": [
    "%viz --style=\"DEFAULT\" --view=\"Default\" \"ItemTest\""
   ]
  },
  {
   "cell_type": "code",
   "execution_count": 38,
   "id": "62e595de",
   "metadata": {
    "execution": {
     "iopub.execute_input": "2022-08-19T08:17:30.388881Z",
     "iopub.status.busy": "2022-08-19T08:17:30.388337Z",
     "iopub.status.idle": "2022-08-19T08:17:30.425688Z",
     "shell.execute_reply": "2022-08-19T08:17:30.423995Z"
    }
   },
   "outputs": [
    {
     "data": {
      "image/svg+xml": [
       "<?xml version=\"1.0\" encoding=\"UTF-8\" standalone=\"no\"?><svg xmlns=\"http://www.w3.org/2000/svg\" xmlns:xlink=\"http://www.w3.org/1999/xlink\" contentScriptType=\"application/ecmascript\" contentStyleType=\"text/css\" height=\"818px\" preserveAspectRatio=\"none\" style=\"width:270px;height:818px;\" version=\"1.1\" viewBox=\"0 0 270 818\" width=\"270px\" zoomAndPan=\"magnify\"><defs/><g><!--MD5=[fbc87193dbaf4d95561dea2c320d4a47]\n",
       "cluster E1--><a href=\"psysml:ae8f2d08-e2f6-41ef-ae81-a483692b435b\" target=\"_top\" title=\"psysml:ae8f2d08-e2f6-41ef-ae81-a483692b435b\" xlink:actuate=\"onRequest\" xlink:href=\"psysml:ae8f2d08-e2f6-41ef-ae81-a483692b435b\" xlink:show=\"new\" xlink:title=\"psysml:ae8f2d08-e2f6-41ef-ae81-a483692b435b\" xlink:type=\"simple\"><polygon fill=\"#FFFFFF\" points=\"16,6,83,6,90,28.2969,248,28.2969,248,806,16,806,16,6\" style=\"stroke: #000000; stroke-width: 1.5;\"/><line style=\"stroke: #000000; stroke-width: 1.5;\" x1=\"16\" x2=\"90\" y1=\"28.2969\" y2=\"28.2969\"/><text fill=\"#000000\" font-family=\"sans-serif\" font-size=\"14\" font-weight=\"bold\" lengthAdjust=\"spacingAndGlyphs\" textLength=\"61\" x=\"20\" y=\"20.9951\">ItemTest</text></a><!--MD5=[b4997ac47864f28c2f74865a473b2911]\n",
       "class E2--><a href=\"psysml:cbd0bd62-e912-4912-a2fb-da1e68d4f615\" target=\"_top\" title=\"psysml:cbd0bd62-e912-4912-a2fb-da1e68d4f615\" xlink:actuate=\"onRequest\" xlink:href=\"psysml:cbd0bd62-e912-4912-a2fb-da1e68d4f615\" xlink:show=\"new\" xlink:title=\"psysml:cbd0bd62-e912-4912-a2fb-da1e68d4f615\" xlink:type=\"simple\"><rect fill=\"#FFFFFF\" height=\"45.9375\" id=\"E2\" rx=\"10\" ry=\"10\" style=\"stroke: #383838; stroke-width: 1.5;\" width=\"43\" x=\"188.5\" y=\"148\"/><text fill=\"#000000\" font-family=\"sans-serif\" font-size=\"12\" font-style=\"italic\" lengthAdjust=\"spacingAndGlyphs\" textLength=\"41\" x=\"189.5\" y=\"164.1387\">«item»</text><text fill=\"#000000\" font-family=\"sans-serif\" font-size=\"12\" lengthAdjust=\"spacingAndGlyphs\" textLength=\"20\" x=\"198\" y=\"178.1074\">f: A</text><line style=\"stroke: #383838; stroke-width: 1.5;\" x1=\"189.5\" x2=\"230.5\" y1=\"185.9375\" y2=\"185.9375\"/></a><!--MD5=[09b614a08d8cba4a07c9adeb5e0fee81]\n",
       "class E3--><a href=\"psysml:2b189b42-edf1-49d6-a72b-40b548d68a1d\" target=\"_top\" title=\"psysml:2b189b42-edf1-49d6-a72b-40b548d68a1d\" xlink:actuate=\"onRequest\" xlink:href=\"psysml:2b189b42-edf1-49d6-a72b-40b548d68a1d\" xlink:show=\"new\" xlink:title=\"psysml:2b189b42-edf1-49d6-a72b-40b548d68a1d\" xlink:type=\"simple\"><rect fill=\"#FFFFFF\" height=\"45.9375\" id=\"E3\" style=\"stroke: #383838; stroke-width: 1.5;\" width=\"71\" x=\"96.5\" y=\"255\"/><text fill=\"#000000\" font-family=\"sans-serif\" font-size=\"12\" font-style=\"italic\" lengthAdjust=\"spacingAndGlyphs\" textLength=\"69\" x=\"97.5\" y=\"271.1387\">«item  def»</text><text fill=\"#000000\" font-family=\"sans-serif\" font-size=\"12\" lengthAdjust=\"spacingAndGlyphs\" textLength=\"8\" x=\"128\" y=\"285.1074\">A</text><line style=\"stroke: #383838; stroke-width: 1.5;\" x1=\"97.5\" x2=\"166.5\" y1=\"292.9375\" y2=\"292.9375\"/></a><!--MD5=[ebbe1d658d1005bcc118a6aa81145e00]\n",
       "class E4--><a href=\"psysml:94aeed99-fa0f-4cf3-9a3c-c07fcd3df143\" target=\"_top\" title=\"psysml:94aeed99-fa0f-4cf3-9a3c-c07fcd3df143\" xlink:actuate=\"onRequest\" xlink:href=\"psysml:94aeed99-fa0f-4cf3-9a3c-c07fcd3df143\" xlink:show=\"new\" xlink:title=\"psysml:94aeed99-fa0f-4cf3-9a3c-c07fcd3df143\" xlink:type=\"simple\"><rect fill=\"#FFFFFF\" height=\"45.9375\" id=\"E4\" rx=\"10\" ry=\"10\" style=\"stroke: #383838; stroke-width: 1.5;\" width=\"43\" x=\"45.5\" y=\"438\"/><text fill=\"#000000\" font-family=\"sans-serif\" font-size=\"12\" font-style=\"italic\" lengthAdjust=\"spacingAndGlyphs\" textLength=\"41\" x=\"46.5\" y=\"454.1387\">«item»</text><text fill=\"#000000\" font-family=\"sans-serif\" font-size=\"12\" lengthAdjust=\"spacingAndGlyphs\" textLength=\"24\" x=\"53\" y=\"468.1074\">b: B</text><line style=\"stroke: #383838; stroke-width: 1.5;\" x1=\"46.5\" x2=\"87.5\" y1=\"475.9375\" y2=\"475.9375\"/></a><!--MD5=[270fce915f116d4de14055a7c1d9a0f3]\n",
       "class E5--><a href=\"psysml:74f7fd5f-8520-4aae-9a17-942775661558\" target=\"_top\" title=\"psysml:74f7fd5f-8520-4aae-9a17-942775661558\" xlink:actuate=\"onRequest\" xlink:href=\"psysml:74f7fd5f-8520-4aae-9a17-942775661558\" xlink:show=\"new\" xlink:title=\"psysml:74f7fd5f-8520-4aae-9a17-942775661558\" xlink:type=\"simple\"><rect fill=\"#FFFFFF\" height=\"45.9375\" id=\"E5\" rx=\"10\" ry=\"10\" style=\"stroke: #383838; stroke-width: 1.5;\" width=\"42\" x=\"151\" y=\"362\"/><text fill=\"#000000\" font-family=\"sans-serif\" font-size=\"12\" font-style=\"italic\" lengthAdjust=\"spacingAndGlyphs\" textLength=\"40\" x=\"152\" y=\"378.1387\">«part»</text><text fill=\"#000000\" font-family=\"sans-serif\" font-size=\"12\" lengthAdjust=\"spacingAndGlyphs\" textLength=\"23\" x=\"158.5\" y=\"392.1074\">c: C</text><line style=\"stroke: #383838; stroke-width: 1.5;\" x1=\"152\" x2=\"192\" y1=\"399.9375\" y2=\"399.9375\"/></a><!--MD5=[60a26617385b1d2d0262a64233df1f8d]\n",
       "class E6--><a href=\"psysml:f1885442-e1dd-46d9-92aa-2427019de9de\" target=\"_top\" title=\"psysml:f1885442-e1dd-46d9-92aa-2427019de9de\" xlink:actuate=\"onRequest\" xlink:href=\"psysml:f1885442-e1dd-46d9-92aa-2427019de9de\" xlink:show=\"new\" xlink:title=\"psysml:f1885442-e1dd-46d9-92aa-2427019de9de\" xlink:type=\"simple\"><rect fill=\"#FFFFFF\" height=\"45.9375\" id=\"E6\" style=\"stroke: #383838; stroke-width: 1.5;\" width=\"71\" x=\"112.5\" y=\"637\"/><text fill=\"#000000\" font-family=\"sans-serif\" font-size=\"12\" font-style=\"italic\" lengthAdjust=\"spacingAndGlyphs\" textLength=\"69\" x=\"113.5\" y=\"653.1387\">«item  def»</text><text fill=\"#000000\" font-family=\"sans-serif\" font-size=\"12\" font-style=\"italic\" lengthAdjust=\"spacingAndGlyphs\" textLength=\"8\" x=\"144\" y=\"667.1074\">B</text><line style=\"stroke: #383838; stroke-width: 1.5;\" x1=\"113.5\" x2=\"182.5\" y1=\"674.9375\" y2=\"674.9375\"/></a><!--MD5=[2156ba9850f5573cc1fc38a6a4b2f02b]\n",
       "class E7--><a href=\"psysml:cc0b7000-21b2-4abb-bead-e88feeed0b85\" target=\"_top\" title=\"psysml:cc0b7000-21b2-4abb-bead-e88feeed0b85\" xlink:actuate=\"onRequest\" xlink:href=\"psysml:cc0b7000-21b2-4abb-bead-e88feeed0b85\" xlink:show=\"new\" xlink:title=\"psysml:cc0b7000-21b2-4abb-bead-e88feeed0b85\" xlink:type=\"simple\"><rect fill=\"#FFFFFF\" height=\"45.9375\" id=\"E7\" rx=\"10\" ry=\"10\" style=\"stroke: #383838; stroke-width: 1.5;\" width=\"42\" x=\"159\" y=\"744\"/><text fill=\"#000000\" font-family=\"sans-serif\" font-size=\"12\" font-style=\"italic\" lengthAdjust=\"spacingAndGlyphs\" textLength=\"40\" x=\"160\" y=\"760.1387\">«part»</text><text fill=\"#000000\" font-family=\"sans-serif\" font-size=\"12\" font-style=\"italic\" lengthAdjust=\"spacingAndGlyphs\" textLength=\"8\" x=\"166\" y=\"774.1074\">a</text><text fill=\"#000000\" font-family=\"sans-serif\" font-size=\"12\" lengthAdjust=\"spacingAndGlyphs\" textLength=\"16\" x=\"174\" y=\"774.1074\">: A</text><line style=\"stroke: #383838; stroke-width: 1.5;\" x1=\"160\" x2=\"200\" y1=\"781.9375\" y2=\"781.9375\"/></a><!--MD5=[b9389687b975829384b498ac4b7476b2]\n",
       "class E8--><a href=\"psysml:6db780a5-cf23-40f2-9df9-03150cb096d0\" target=\"_top\" title=\"psysml:6db780a5-cf23-40f2-9df9-03150cb096d0\" xlink:actuate=\"onRequest\" xlink:href=\"psysml:6db780a5-cf23-40f2-9df9-03150cb096d0\" xlink:show=\"new\" xlink:title=\"psysml:6db780a5-cf23-40f2-9df9-03150cb096d0\" xlink:type=\"simple\"><rect fill=\"#FFFFFF\" height=\"45.9375\" id=\"E8\" style=\"stroke: #383838; stroke-width: 1.5;\" width=\"70\" x=\"113\" y=\"514\"/><text fill=\"#000000\" font-family=\"sans-serif\" font-size=\"12\" font-style=\"italic\" lengthAdjust=\"spacingAndGlyphs\" textLength=\"68\" x=\"114\" y=\"530.1387\">«part  def»</text><text fill=\"#000000\" font-family=\"sans-serif\" font-size=\"12\" lengthAdjust=\"spacingAndGlyphs\" textLength=\"8\" x=\"144\" y=\"544.1074\">C</text><line style=\"stroke: #383838; stroke-width: 1.5;\" x1=\"114\" x2=\"182\" y1=\"551.9375\" y2=\"551.9375\"/></a><!--MD5=[fd4143e9d270a159db93a4ea2a975926]\n",
       "class E9--><a href=\"psysml:587854cf-6fe1-483d-a698-c7fca9a0c13c\" target=\"_top\" title=\"psysml:587854cf-6fe1-483d-a698-c7fca9a0c13c\" xlink:actuate=\"onRequest\" xlink:href=\"psysml:587854cf-6fe1-483d-a698-c7fca9a0c13c\" xlink:show=\"new\" xlink:title=\"psysml:587854cf-6fe1-483d-a698-c7fca9a0c13c\" xlink:type=\"simple\"><rect fill=\"#FFFFFF\" height=\"45.9375\" id=\"E9\" style=\"stroke: #383838; stroke-width: 1.5;\" width=\"70\" x=\"64\" y=\"41\"/><text fill=\"#000000\" font-family=\"sans-serif\" font-size=\"12\" font-style=\"italic\" lengthAdjust=\"spacingAndGlyphs\" textLength=\"68\" x=\"65\" y=\"57.1387\">«port  def»</text><text fill=\"#000000\" font-family=\"sans-serif\" font-size=\"12\" lengthAdjust=\"spacingAndGlyphs\" textLength=\"8\" x=\"95\" y=\"71.1074\">P</text><line style=\"stroke: #383838; stroke-width: 1.5;\" x1=\"65\" x2=\"133\" y1=\"78.9375\" y2=\"78.9375\"/></a><!--MD5=[96f4274e9e20536e775497830990834d]\n",
       "class E10--><a href=\"psysml:f73739ed-5364-4403-8254-d4f943238dfa\" target=\"_top\" title=\"psysml:f73739ed-5364-4403-8254-d4f943238dfa\" xlink:actuate=\"onRequest\" xlink:href=\"psysml:f73739ed-5364-4403-8254-d4f943238dfa\" xlink:show=\"new\" xlink:title=\"psysml:f73739ed-5364-4403-8254-d4f943238dfa\" xlink:type=\"simple\"><rect fill=\"#FFFFFF\" height=\"45.9375\" id=\"E10\" rx=\"10\" ry=\"10\" style=\"stroke: #383838; stroke-width: 1.5;\" width=\"43\" x=\"32.5\" y=\"148\"/><text fill=\"#000000\" font-family=\"sans-serif\" font-size=\"12\" font-style=\"italic\" lengthAdjust=\"spacingAndGlyphs\" textLength=\"41\" x=\"33.5\" y=\"164.1387\">«item»</text><text fill=\"#000000\" font-family=\"sans-serif\" font-size=\"12\" lengthAdjust=\"spacingAndGlyphs\" textLength=\"32\" x=\"36\" y=\"178.1074\">a1: A</text><line style=\"stroke: #383838; stroke-width: 1.5;\" x1=\"33.5\" x2=\"74.5\" y1=\"185.9375\" y2=\"185.9375\"/></a><!--MD5=[1dd1bfd58a279cf63c5f349dbc8fc6a1]\n",
       "class E11--><a href=\"psysml:6a7a2def-0eff-4194-80a2-af7f6b4a129e\" target=\"_top\" title=\"psysml:6a7a2def-0eff-4194-80a2-af7f6b4a129e\" xlink:actuate=\"onRequest\" xlink:href=\"psysml:6a7a2def-0eff-4194-80a2-af7f6b4a129e\" xlink:show=\"new\" xlink:title=\"psysml:6a7a2def-0eff-4194-80a2-af7f6b4a129e\" xlink:type=\"simple\"><rect fill=\"#FFFFFF\" height=\"45.9375\" id=\"E11\" rx=\"10\" ry=\"10\" style=\"stroke: #383838; stroke-width: 1.5;\" width=\"43\" x=\"110.5\" y=\"148\"/><text fill=\"#000000\" font-family=\"sans-serif\" font-size=\"12\" font-style=\"italic\" lengthAdjust=\"spacingAndGlyphs\" textLength=\"41\" x=\"111.5\" y=\"164.1387\">«item»</text><text fill=\"#000000\" font-family=\"sans-serif\" font-size=\"12\" lengthAdjust=\"spacingAndGlyphs\" textLength=\"32\" x=\"114\" y=\"178.1074\">a2: A</text><line style=\"stroke: #383838; stroke-width: 1.5;\" x1=\"111.5\" x2=\"152.5\" y1=\"185.9375\" y2=\"185.9375\"/></a><!--MD5=[2720a5a1f2c3fca2055b230370638851]\n",
       "link E2 to E3--><a href=\"psysml:8851b494-fad9-483d-8771-6e667cb982eb\" target=\"_top\" title=\"psysml:8851b494-fad9-483d-8771-6e667cb982eb\" xlink:actuate=\"onRequest\" xlink:href=\"psysml:8851b494-fad9-483d-8771-6e667cb982eb\" xlink:show=\"new\" xlink:title=\"psysml:8851b494-fad9-483d-8771-6e667cb982eb\" xlink:type=\"simple\"><path d=\"M193.65,194.01 C184.14,206.81 171.89,223.3 160.82,238.2 \" fill=\"none\" id=\"E2-&gt;E3\" style=\"stroke: #383838; stroke-width: 1.0;\"/><polygon fill=\"#FFFFFF\" points=\"148.6,254.66,154.3195,235.2361,165.5543,243.5896,148.6,254.66\" style=\"stroke: #383838; stroke-width: 1.0;\"/><ellipse cx=\"159.3256\" cy=\"231.8554\" fill=\"#383838\" rx=\"2\" ry=\"2\" style=\"stroke: #383838; stroke-width: 1.0;\"/><ellipse cx=\"167.3504\" cy=\"237.8221\" fill=\"#383838\" rx=\"2\" ry=\"2\" style=\"stroke: #383838; stroke-width: 1.0;\"/></a><!--MD5=[4672eba38e49728da53d11aeb285b987]\n",
       "reverse link E3 to E4--><a href=\"psysml:bbc4490d-4884-4bf2-8394-3cd2641c3130\" target=\"_top\" title=\"psysml:bbc4490d-4884-4bf2-8394-3cd2641c3130\" xlink:actuate=\"onRequest\" xlink:href=\"psysml:bbc4490d-4884-4bf2-8394-3cd2641c3130\" xlink:show=\"new\" xlink:title=\"psysml:bbc4490d-4884-4bf2-8394-3cd2641c3130\" xlink:type=\"simple\"><path d=\"M97.11,310.9 C84.08,325.11 70.81,342.94 64,362 C55.12,386.85 58.09,417.53 61.82,437.88 \" fill=\"none\" id=\"E3&lt;-E4\" style=\"stroke: #383838; stroke-width: 1.0;\"/><polygon fill=\"#FFFFFF\" points=\"106.46,301.23,99.4153,302.7703,98.1277,309.8655,105.1724,308.3252,106.46,301.23\" style=\"stroke: #383838; stroke-width: 1.0;\"/><text fill=\"#000000\" font-family=\"sans-serif\" font-size=\"13\" lengthAdjust=\"spacingAndGlyphs\" textLength=\"8\" x=\"51.3529\" y=\"426.744\">1</text></a><!--MD5=[191cde3d490a3f6d7bb551fe3ddca469]\n",
       "reverse link E3 to E5--><a href=\"psysml:896e58a4-3d4e-4523-9980-c4907a158d3f\" target=\"_top\" title=\"psysml:896e58a4-3d4e-4523-9980-c4907a158d3f\" xlink:actuate=\"onRequest\" xlink:href=\"psysml:896e58a4-3d4e-4523-9980-c4907a158d3f\" xlink:show=\"new\" xlink:title=\"psysml:896e58a4-3d4e-4523-9980-c4907a158d3f\" xlink:type=\"simple\"><path d=\"M145.17,313.57 C151.2,329.39 158.16,347.68 163.49,361.66 \" fill=\"none\" id=\"E3&lt;-E5\" style=\"stroke: #383838; stroke-width: 1.0;\"/><polygon fill=\"#FFFFFF\" points=\"140.39,301.01,138.7866,308.0406,144.6598,312.2247,146.2631,305.1941,140.39,301.01\" style=\"stroke: #383838; stroke-width: 1.0;\"/><text fill=\"#000000\" font-family=\"sans-serif\" font-size=\"13\" lengthAdjust=\"spacingAndGlyphs\" textLength=\"8\" x=\"152.2843\" y=\"350.8492\">1</text></a><!--MD5=[79568f1e445c3877b6a54524624ccc7d]\n",
       "link E4 to E6--><a href=\"psysml:ae089d5e-98d2-4386-a1f6-d9056ad7f1db\" target=\"_top\" title=\"psysml:ae089d5e-98d2-4386-a1f6-d9056ad7f1db\" xlink:actuate=\"onRequest\" xlink:href=\"psysml:ae089d5e-98d2-4386-a1f6-d9056ad7f1db\" xlink:show=\"new\" xlink:title=\"psysml:ae089d5e-98d2-4386-a1f6-d9056ad7f1db\" xlink:type=\"simple\"><path d=\"M72.25,484.22 C77.31,504.36 85.72,534.68 96,560 C104.15,580.08 115.08,601.47 124.82,619.21 \" fill=\"none\" id=\"E4-&gt;E6\" style=\"stroke: #383838; stroke-width: 1.0;\"/><polygon fill=\"#FFFFFF\" points=\"134.72,636.8,119.2979,623.6791,131.4967,616.8097,134.72,636.8\" style=\"stroke: #383838; stroke-width: 1.0;\"/><ellipse cx=\"118.2438\" cy=\"617.7311\" fill=\"#383838\" rx=\"2\" ry=\"2\" style=\"stroke: #383838; stroke-width: 1.0;\"/><ellipse cx=\"126.9572\" cy=\"612.8244\" fill=\"#383838\" rx=\"2\" ry=\"2\" style=\"stroke: #383838; stroke-width: 1.0;\"/></a><!--MD5=[3f50a3473f1dfb74d3f76443e03635af]\n",
       "reverse link E6 to E7--><a href=\"psysml:f93e67a1-8e91-4b72-abc4-aff48dcc0ebf\" target=\"_top\" title=\"psysml:f93e67a1-8e91-4b72-abc4-aff48dcc0ebf\" xlink:actuate=\"onRequest\" xlink:href=\"psysml:f93e67a1-8e91-4b72-abc4-aff48dcc0ebf\" xlink:show=\"new\" xlink:title=\"psysml:f93e67a1-8e91-4b72-abc4-aff48dcc0ebf\" xlink:type=\"simple\"><path d=\"M158.54,695.57 C163.36,711.39 168.93,729.68 173.19,743.66 \" fill=\"none\" id=\"E6&lt;-E7\" style=\"stroke: #383838; stroke-width: 1.0;\"/><polygon fill=\"#FFFFFF\" points=\"154.71,683.01,152.6319,689.9152,158.2066,694.4893,160.2847,687.5841,154.71,683.01\" style=\"stroke: #383838; stroke-width: 1.0;\"/><text fill=\"#000000\" font-family=\"sans-serif\" font-size=\"13\" lengthAdjust=\"spacingAndGlyphs\" textLength=\"8\" x=\"162.4199\" y=\"732.8492\">1</text></a><!--MD5=[14ccda38c055a5c0da953d572bc50960]\n",
       "link E7 to E3--><a href=\"psysml:729e96ed-f9a8-4349-a416-61bf2a977bd8\" target=\"_top\" title=\"psysml:729e96ed-f9a8-4349-a416-61bf2a977bd8\" xlink:actuate=\"onRequest\" xlink:href=\"psysml:729e96ed-f9a8-4349-a416-61bf2a977bd8\" xlink:show=\"new\" xlink:title=\"psysml:729e96ed-f9a8-4349-a416-61bf2a977bd8\" xlink:type=\"simple\"><path d=\"M197.41,743.63 C211.5,723.27 229,691.78 229,661 C229,384 229,384 229,384 C229,353.7 206.93,328.42 183.85,310.26 \" fill=\"none\" id=\"E7-&gt;E3\" style=\"stroke: #383838; stroke-width: 1.0;\"/><polygon fill=\"#FFFFFF\" points=\"167.57,298.59,187.0929,303.9617,178.9414,315.3438,167.57,298.59\" style=\"stroke: #383838; stroke-width: 1.0;\"/><ellipse cx=\"190.5626\" cy=\"308.9066\" fill=\"#383838\" rx=\"2\" ry=\"2\" style=\"stroke: #383838; stroke-width: 1.0;\"/><ellipse cx=\"184.7401\" cy=\"317.0367\" fill=\"#383838\" rx=\"2\" ry=\"2\" style=\"stroke: #383838; stroke-width: 1.0;\"/></a><!--MD5=[dfaffb906826c3e5aca635516100ff21]\n",
       "link E5 to E8--><a href=\"psysml:8b27b07a-ba61-4df4-814a-c4b9eba72255\" target=\"_top\" title=\"psysml:8b27b07a-ba61-4df4-814a-c4b9eba72255\" xlink:actuate=\"onRequest\" xlink:href=\"psysml:8b27b07a-ba61-4df4-814a-c4b9eba72255\" xlink:show=\"new\" xlink:title=\"psysml:8b27b07a-ba61-4df4-814a-c4b9eba72255\" xlink:type=\"simple\"><path d=\"M168.46,408.13 C164.86,430.62 159.2,466.01 154.74,493.87 \" fill=\"none\" id=\"E5-&gt;E8\" style=\"stroke: #383838; stroke-width: 1.0;\"/><polygon fill=\"#FFFFFF\" points=\"151.56,513.78,147.6458,493.9135,161.4704,496.1226,151.56,513.78\" style=\"stroke: #383838; stroke-width: 1.0;\"/><ellipse cx=\"150.5202\" cy=\"488.6005\" fill=\"#383838\" rx=\"2\" ry=\"2\" style=\"stroke: #383838; stroke-width: 1.0;\"/><ellipse cx=\"160.3949\" cy=\"490.1784\" fill=\"#383838\" rx=\"2\" ry=\"2\" style=\"stroke: #383838; stroke-width: 1.0;\"/></a><!--MD5=[03c8294790d3c57651a1993cecff665f]\n",
       "reverse link E8 to E3--><a href=\"psysml:2fa26767-edf9-4f1d-8702-6d0b4fb1afcf\" target=\"_top\" title=\"psysml:2fa26767-edf9-4f1d-8702-6d0b4fb1afcf\" xlink:actuate=\"onRequest\" xlink:href=\"psysml:2fa26767-edf9-4f1d-8702-6d0b4fb1afcf\" xlink:show=\"new\" xlink:title=\"psysml:2fa26767-edf9-4f1d-8702-6d0b4fb1afcf\" xlink:type=\"simple\"><path d=\"M140.02,501.22 C134.57,475.6 127.84,439.84 125,408 C123.18,387.64 124.14,382.43 125,362 C125.87,341.34 127.95,317.86 129.62,301.16 \" fill=\"none\" id=\"E8&lt;-E3\" style=\"stroke: #383838; stroke-width: 1.0;\"/><polygon fill=\"#FFFFFF\" points=\"142.81,513.96,145.4388,507.2451,140.2515,502.2359,137.6227,508.9508,142.81,513.96\" style=\"stroke: #383838; stroke-width: 1.0;\"/><text fill=\"#000000\" font-family=\"sans-serif\" font-size=\"13\" lengthAdjust=\"spacingAndGlyphs\" textLength=\"7\" x=\"126\" y=\"389.5669\">y</text></a><!--MD5=[0d75d2178373a6a4568e5dc728f58aef]\n",
       "reverse link E8 to E6--><a href=\"psysml:2fa26767-edf9-4f1d-8702-6d0b4fb1afcf\" target=\"_top\" title=\"psysml:2fa26767-edf9-4f1d-8702-6d0b4fb1afcf\" xlink:actuate=\"onRequest\" xlink:href=\"psysml:2fa26767-edf9-4f1d-8702-6d0b4fb1afcf\" xlink:show=\"new\" xlink:title=\"psysml:2fa26767-edf9-4f1d-8702-6d0b4fb1afcf\" xlink:type=\"simple\"><path d=\"M148,573.22 C148,593.81 148,619.16 148,636.95 \" fill=\"none\" id=\"E8&lt;-E6\" style=\"stroke: #383838; stroke-width: 1.0;\"/><polygon fill=\"#FFFFFF\" points=\"148,560.19,144,566.19,148,572.19,152,566.19,148,560.19\" style=\"stroke: #383838; stroke-width: 1.0;\"/><text fill=\"#000000\" font-family=\"sans-serif\" font-size=\"13\" lengthAdjust=\"spacingAndGlyphs\" textLength=\"7\" x=\"149\" y=\"603.0669\">y</text></a><!--MD5=[23ac544a70576c3e717098101004234c]\n",
       "reverse link E9 to E10--><a href=\"psysml:2a8d2925-3f72-4e1c-849d-9e3943fa1d15\" target=\"_top\" title=\"psysml:2a8d2925-3f72-4e1c-849d-9e3943fa1d15\" xlink:actuate=\"onRequest\" xlink:href=\"psysml:2a8d2925-3f72-4e1c-849d-9e3943fa1d15\" xlink:show=\"new\" xlink:title=\"psysml:2a8d2925-3f72-4e1c-849d-9e3943fa1d15\" xlink:type=\"simple\"><path d=\"M84.39,99.1 C77.56,115.03 69.63,133.54 63.58,147.66 \" fill=\"none\" id=\"E9&lt;-E10\" style=\"stroke: #383838; stroke-width: 1.0;\"/><polygon fill=\"#FFFFFF\" points=\"89.57,87.01,83.5327,90.9535,84.8509,98.0431,90.8882,94.0996,89.57,87.01\" style=\"stroke: #383838; stroke-width: 1.0;\"/><text fill=\"#000000\" font-family=\"sans-serif\" font-size=\"13\" lengthAdjust=\"spacingAndGlyphs\" textLength=\"8\" x=\"57.0099\" y=\"136.8492\">1</text></a><!--MD5=[feeac5eb423634930294aa81f2d25a4c]\n",
       "link E10 to E3--><a href=\"psysml:be0eb1db-3a2d-4525-bfbd-aed22db095bf\" target=\"_top\" title=\"psysml:be0eb1db-3a2d-4525-bfbd-aed22db095bf\" xlink:actuate=\"onRequest\" xlink:href=\"psysml:be0eb1db-3a2d-4525-bfbd-aed22db095bf\" xlink:show=\"new\" xlink:title=\"psysml:be0eb1db-3a2d-4525-bfbd-aed22db095bf\" xlink:type=\"simple\"><path d=\"M70.35,194.01 C79.86,206.81 92.11,223.3 103.18,238.2 \" fill=\"none\" id=\"E10-&gt;E3\" style=\"stroke: #383838; stroke-width: 1.0;\"/><polygon fill=\"#FFFFFF\" points=\"115.4,254.66,98.4457,243.5896,109.6805,235.2361,115.4,254.66\" style=\"stroke: #383838; stroke-width: 1.0;\"/><ellipse cx=\"96.6496\" cy=\"237.8221\" fill=\"#383838\" rx=\"2\" ry=\"2\" style=\"stroke: #383838; stroke-width: 1.0;\"/><ellipse cx=\"104.6744\" cy=\"231.8554\" fill=\"#383838\" rx=\"2\" ry=\"2\" style=\"stroke: #383838; stroke-width: 1.0;\"/></a><!--MD5=[1fc04a95fd77ad5ce46c1a3027516051]\n",
       "reverse link E9 to E11--><a href=\"psysml:4a4899a0-cca2-49ff-ba55-d15caf476c4f\" target=\"_top\" title=\"psysml:4a4899a0-cca2-49ff-ba55-d15caf476c4f\" xlink:actuate=\"onRequest\" xlink:href=\"psysml:4a4899a0-cca2-49ff-ba55-d15caf476c4f\" xlink:show=\"new\" xlink:title=\"psysml:4a4899a0-cca2-49ff-ba55-d15caf476c4f\" xlink:type=\"simple\"><path d=\"M109.87,99.57 C114.84,115.39 120.59,133.68 124.98,147.66 \" fill=\"none\" id=\"E9&lt;-E11\" style=\"stroke: #383838; stroke-width: 1.0;\"/><polygon fill=\"#FFFFFF\" points=\"105.92,87.01,103.9044,93.9337,109.5203,98.4572,111.5359,91.5335,105.92,87.01\" style=\"stroke: #383838; stroke-width: 1.0;\"/><text fill=\"#000000\" font-family=\"sans-serif\" font-size=\"13\" lengthAdjust=\"spacingAndGlyphs\" textLength=\"8\" x=\"114.1561\" y=\"136.8492\">1</text></a><!--MD5=[0517f1ce58c4d5483948f93845c45e26]\n",
       "link E11 to E3--><a href=\"psysml:8ddae6f0-112f-4ded-9c4d-74dd6bca1f55\" target=\"_top\" title=\"psysml:8ddae6f0-112f-4ded-9c4d-74dd6bca1f55\" xlink:actuate=\"onRequest\" xlink:href=\"psysml:8ddae6f0-112f-4ded-9c4d-74dd6bca1f55\" xlink:show=\"new\" xlink:title=\"psysml:8ddae6f0-112f-4ded-9c4d-74dd6bca1f55\" xlink:type=\"simple\"><path d=\"M132,194.01 C132,205.69 132,220.46 132,234.28 \" fill=\"none\" id=\"E11-&gt;E3\" style=\"stroke: #383838; stroke-width: 1.0;\"/><polygon fill=\"#FFFFFF\" points=\"132,254.66,125,235.66,139,235.66,132,254.66\" style=\"stroke: #383838; stroke-width: 1.0;\"/><ellipse cx=\"127\" cy=\"229.96\" fill=\"#383838\" rx=\"2\" ry=\"2\" style=\"stroke: #383838; stroke-width: 1.0;\"/><ellipse cx=\"137\" cy=\"229.96\" fill=\"#383838\" rx=\"2\" ry=\"2\" style=\"stroke: #383838; stroke-width: 1.0;\"/></a><!--MD5=[45fb17d516497f6484e2e85667896a94]\n",
       "@startuml\r\n",
       "skinparam monochrome true\r\n",
       "skinparam classbackgroundcolor white\r\n",
       "skinparam shadowing false\r\n",
       "skinparam wrapWidth 300\r\n",
       "hide circle\r\n",
       "\r\n",
       "package \"ItemTest\" as E1  [[psysml:ae8f2d08-e2f6-41ef-ae81-a483692b435b ]]  {\r\n",
       "comp usage \"f: A \" as E2  <<(T,blue) item>> [[psysml:cbd0bd62-e912-4912-a2fb-da1e68d4f615 ]] {\r\n",
       "}\r\n",
       "comp def \"A\" as E3  <<(T,blue) item  def>> [[psysml:2b189b42-edf1-49d6-a72b-40b548d68a1d ]] {\r\n",
       "}\r\n",
       "comp usage \"b: B \" as E4  <<(T,blue) item>> [[psysml:94aeed99-fa0f-4cf3-9a3c-c07fcd3df143 ]] {\r\n",
       "}\r\n",
       "comp usage \"c: C \" as E5  <<(T,blue) part>> [[psysml:74f7fd5f-8520-4aae-9a17-942775661558 ]] {\r\n",
       "}\r\n",
       "comp def \"<i>B</i>\" as E6  <<(T,blue) item  def>> [[psysml:f1885442-e1dd-46d9-92aa-2427019de9de ]] {\r\n",
       "}\r\n",
       "comp usage \"<i>a</i>: A \" as E7  <<(T,blue) part>> [[psysml:cc0b7000-21b2-4abb-bead-e88feeed0b85 ]] {\r\n",
       "}\r\n",
       "comp def \"C\" as E8  <<(T,blue) part  def>> [[psysml:6db780a5-cf23-40f2-9df9-03150cb096d0 ]] {\r\n",
       "}\r\n",
       "comp def \"P\" as E9  <<(T,blue) port  def>> [[psysml:587854cf-6fe1-483d-a698-c7fca9a0c13c ]] {\r\n",
       "}\r\n",
       "comp usage \"a1: A \" as E10  <<(T,blue) item>> [[psysml:f73739ed-5364-4403-8254-d4f943238dfa ]] {\r\n",
       "}\r\n",
       "comp usage \"a2: A \" as E11  <<(T,blue) item>> [[psysml:6a7a2def-0eff-4194-80a2-af7f6b4a129e ]] {\r\n",
       "}\r\n",
       "}\r\n",
       "E2 - -:|> E3 [[psysml:8851b494-fad9-483d-8771-6e667cb982eb ]] \r\n",
       "E3 o- - \"1\"E4 [[psysml:bbc4490d-4884-4bf2-8394-3cd2641c3130 ]] \r\n",
       "E3 o- - \"1\"E5 [[psysml:896e58a4-3d4e-4523-9980-c4907a158d3f ]] \r\n",
       "E4 - -:|> E6 [[psysml:ae089d5e-98d2-4386-a1f6-d9056ad7f1db ]] \r\n",
       "E6 o- - \"1\"E7 [[psysml:f93e67a1-8e91-4b72-abc4-aff48dcc0ebf ]] \r\n",
       "E7 - -:|> E3 [[psysml:729e96ed-f9a8-4349-a416-61bf2a977bd8 ]] \r\n",
       "E5 - -:|> E8 [[psysml:8b27b07a-ba61-4df4-814a-c4b9eba72255 ]] \r\n",
       "E8 o- - E3 [[psysml:2fa26767-edf9-4f1d-8702-6d0b4fb1afcf ]] : y\r\n",
       "E8 o- - E6 [[psysml:2fa26767-edf9-4f1d-8702-6d0b4fb1afcf ]] : y\r\n",
       "E9 o- - \"1\"E10 [[psysml:2a8d2925-3f72-4e1c-849d-9e3943fa1d15 ]] \r\n",
       "E10 - -:|> E3 [[psysml:be0eb1db-3a2d-4525-bfbd-aed22db095bf ]] \r\n",
       "E9 o- - \"1\"E11 [[psysml:4a4899a0-cca2-49ff-ba55-d15caf476c4f ]] \r\n",
       "E11 - -:|> E3 [[psysml:8ddae6f0-112f-4ded-9c4d-74dd6bca1f55 ]] \r\n",
       "@enduml\r\n",
       "\n",
       "PlantUML version 1.2020.13(Sat Jun 13 12:26:38 UTC 2020)\n",
       "(EPL source distribution)\n",
       "Java Runtime: OpenJDK Runtime Environment\n",
       "JVM: OpenJDK 64-Bit Server VM\n",
       "Default Encoding: UTF-8\n",
       "Language: en\n",
       "Country: null\n",
       "--></g></svg>"
      ]
     },
     "execution_count": 38,
     "metadata": {},
     "output_type": "execute_result"
    }
   ],
   "source": [
    "%viz --style=\"DEFAULT\" --view=\"Tree\" \"ItemTest\""
   ]
  },
  {
   "cell_type": "code",
   "execution_count": 39,
   "id": "98480346",
   "metadata": {
    "execution": {
     "iopub.execute_input": "2022-08-19T08:17:30.475028Z",
     "iopub.status.busy": "2022-08-19T08:17:30.474496Z",
     "iopub.status.idle": "2022-08-19T08:17:30.477754Z",
     "shell.execute_reply": "2022-08-19T08:17:30.477341Z"
    }
   },
   "outputs": [
    {
     "data": {
      "image/svg+xml": [
       "<?xml version=\"1.0\" encoding=\"UTF-8\" standalone=\"no\"?><svg xmlns=\"http://www.w3.org/2000/svg\" xmlns:xlink=\"http://www.w3.org/1999/xlink\" contentScriptType=\"application/ecmascript\" contentStyleType=\"text/css\" height=\"12px\" preserveAspectRatio=\"none\" style=\"width:12px;height:12px;\" version=\"1.1\" viewBox=\"0 0 12 12\" width=\"12px\" zoomAndPan=\"magnify\"><defs/><g><!--MD5=[c5f280e076d0d61ccf4b0f27871bda1d]\n",
       "@startuml\r\n",
       "skinparam monochrome true\r\n",
       "skinparam classbackgroundcolor white\r\n",
       "skinparam shadowing false\r\n",
       "skinparam wrapWidth 300\r\n",
       "hide circle\r\n",
       "\r\n",
       "@enduml\r\n",
       "\n",
       "PlantUML version 1.2020.13(Sat Jun 13 12:26:38 UTC 2020)\n",
       "(EPL source distribution)\n",
       "Java Runtime: OpenJDK Runtime Environment\n",
       "JVM: OpenJDK 64-Bit Server VM\n",
       "Default Encoding: UTF-8\n",
       "Language: en\n",
       "Country: null\n",
       "--></g></svg>"
      ]
     },
     "execution_count": 39,
     "metadata": {},
     "output_type": "execute_result"
    }
   ],
   "source": [
    "%viz --style=\"DEFAULT\" --view=\"State\" \"ItemTest\""
   ]
  },
  {
   "cell_type": "code",
   "execution_count": 40,
   "id": "77c4f35a",
   "metadata": {
    "execution": {
     "iopub.execute_input": "2022-08-19T08:17:30.527460Z",
     "iopub.status.busy": "2022-08-19T08:17:30.526996Z",
     "iopub.status.idle": "2022-08-19T08:17:30.548646Z",
     "shell.execute_reply": "2022-08-19T08:17:30.548230Z"
    }
   },
   "outputs": [
    {
     "data": {
      "image/svg+xml": [
       "<?xml version=\"1.0\" encoding=\"UTF-8\" standalone=\"no\"?><svg xmlns=\"http://www.w3.org/2000/svg\" xmlns:xlink=\"http://www.w3.org/1999/xlink\" contentScriptType=\"application/ecmascript\" contentStyleType=\"text/css\" height=\"246px\" preserveAspectRatio=\"none\" style=\"width:483px;height:246px;\" version=\"1.1\" viewBox=\"0 0 483 246\" width=\"483px\" zoomAndPan=\"magnify\"><defs/><g><!--MD5=[fbc87193dbaf4d95561dea2c320d4a47]\n",
       "cluster E1--><a href=\"psysml:ae8f2d08-e2f6-41ef-ae81-a483692b435b\" target=\"_top\" title=\"psysml:ae8f2d08-e2f6-41ef-ae81-a483692b435b\" xlink:actuate=\"onRequest\" xlink:href=\"psysml:ae8f2d08-e2f6-41ef-ae81-a483692b435b\" xlink:show=\"new\" xlink:title=\"psysml:ae8f2d08-e2f6-41ef-ae81-a483692b435b\" xlink:type=\"simple\"><polygon fill=\"#FFFFFF\" points=\"16,6,83,6,90,28.2969,461,28.2969,461,234,16,234,16,6\" style=\"stroke: #000000; stroke-width: 1.5;\"/><line style=\"stroke: #000000; stroke-width: 1.5;\" x1=\"16\" x2=\"90\" y1=\"28.2969\" y2=\"28.2969\"/><text fill=\"#000000\" font-family=\"sans-serif\" font-size=\"14\" font-weight=\"bold\" lengthAdjust=\"spacingAndGlyphs\" textLength=\"61\" x=\"20\" y=\"20.9951\">ItemTest</text></a><!--MD5=[de5ec2e2e8f62f467e546659f5068c88]\n",
       "cluster E5--><a href=\"psysml:6db780a5-cf23-40f2-9df9-03150cb096d0\" target=\"_top\" title=\"psysml:6db780a5-cf23-40f2-9df9-03150cb096d0\" xlink:actuate=\"onRequest\" xlink:href=\"psysml:6db780a5-cf23-40f2-9df9-03150cb096d0\" xlink:show=\"new\" xlink:title=\"psysml:6db780a5-cf23-40f2-9df9-03150cb096d0\" xlink:type=\"simple\"><rect fill=\"#FFFFFF\" height=\"110\" id=\"E5\" style=\"stroke: #383838; stroke-width: 1.5;\" width=\"114\" x=\"323\" y=\"49\"/><rect fill=\"#F8F8F8\" height=\"37.9375\" style=\"stroke: #383838; stroke-width: 1.5;\" width=\"114\" x=\"323\" y=\"49\"/><text fill=\"#000000\" font-family=\"sans-serif\" font-size=\"12\" font-style=\"italic\" lengthAdjust=\"spacingAndGlyphs\" textLength=\"68\" x=\"346\" y=\"65.1387\">«part  def»</text><text fill=\"#000000\" font-family=\"sans-serif\" font-size=\"12\" lengthAdjust=\"spacingAndGlyphs\" textLength=\"8\" x=\"376\" y=\"79.1074\">C</text></a><g id=\"E1.E3\"><a href=\"psysml:2b189b42-edf1-49d6-a72b-40b548d68a1d\" target=\"_top\" title=\"psysml:2b189b42-edf1-49d6-a72b-40b548d68a1d\" xlink:actuate=\"onRequest\" xlink:href=\"psysml:2b189b42-edf1-49d6-a72b-40b548d68a1d\" xlink:show=\"new\" xlink:title=\"psysml:2b189b42-edf1-49d6-a72b-40b548d68a1d\" xlink:type=\"simple\"><rect fill=\"#FFFFFF\" height=\"42.9375\" id=\"E3\" style=\"stroke: #383838; stroke-width: 1.5;\" width=\"76\" x=\"32\" y=\"175\"/><rect fill=\"#F8F8F8\" height=\"37.9375\" style=\"stroke: #383838; stroke-width: 1.5;\" width=\"76\" x=\"32\" y=\"175\"/><text fill=\"#000000\" font-family=\"sans-serif\" font-size=\"12\" font-style=\"italic\" lengthAdjust=\"spacingAndGlyphs\" textLength=\"69\" x=\"35.5\" y=\"191.1387\">«item  def»</text><text fill=\"#000000\" font-family=\"sans-serif\" font-size=\"12\" lengthAdjust=\"spacingAndGlyphs\" textLength=\"8\" x=\"66\" y=\"205.1074\">A</text></a></g><g id=\"E1.E4\"><a href=\"psysml:f1885442-e1dd-46d9-92aa-2427019de9de\" target=\"_top\" title=\"psysml:f1885442-e1dd-46d9-92aa-2427019de9de\" xlink:actuate=\"onRequest\" xlink:href=\"psysml:f1885442-e1dd-46d9-92aa-2427019de9de\" xlink:show=\"new\" xlink:title=\"psysml:f1885442-e1dd-46d9-92aa-2427019de9de\" xlink:type=\"simple\"><rect fill=\"#FFFFFF\" height=\"42.9375\" id=\"E4\" style=\"stroke: #383838; stroke-width: 1.5;\" width=\"76\" x=\"228\" y=\"100\"/><rect fill=\"#F8F8F8\" height=\"37.9375\" style=\"stroke: #383838; stroke-width: 1.5;\" width=\"76\" x=\"228\" y=\"100\"/><text fill=\"#000000\" font-family=\"sans-serif\" font-size=\"12\" font-style=\"italic\" lengthAdjust=\"spacingAndGlyphs\" textLength=\"69\" x=\"231.5\" y=\"116.1387\">«item  def»</text><text fill=\"#000000\" font-family=\"sans-serif\" font-size=\"12\" font-style=\"italic\" lengthAdjust=\"spacingAndGlyphs\" textLength=\"8\" x=\"262\" y=\"130.1074\">B</text></a></g><g id=\"E1.E7\"><a href=\"psysml:587854cf-6fe1-483d-a698-c7fca9a0c13c\" target=\"_top\" title=\"psysml:587854cf-6fe1-483d-a698-c7fca9a0c13c\" xlink:actuate=\"onRequest\" xlink:href=\"psysml:587854cf-6fe1-483d-a698-c7fca9a0c13c\" xlink:show=\"new\" xlink:title=\"psysml:587854cf-6fe1-483d-a698-c7fca9a0c13c\" xlink:type=\"simple\"><rect fill=\"#FFFFFF\" height=\"42.9375\" id=\"E7\" style=\"stroke: #383838; stroke-width: 1.5;\" width=\"75\" x=\"117.5\" y=\"100\"/><rect fill=\"#F8F8F8\" height=\"37.9375\" style=\"stroke: #383838; stroke-width: 1.5;\" width=\"75\" x=\"117.5\" y=\"100\"/><text fill=\"#000000\" font-family=\"sans-serif\" font-size=\"12\" font-style=\"italic\" lengthAdjust=\"spacingAndGlyphs\" textLength=\"68\" x=\"121\" y=\"116.1387\">«port  def»</text><text fill=\"#000000\" font-family=\"sans-serif\" font-size=\"12\" lengthAdjust=\"spacingAndGlyphs\" textLength=\"8\" x=\"151\" y=\"130.1074\">P</text></a></g><g id=\"E1.E2\"><a href=\"psysml:cbd0bd62-e912-4912-a2fb-da1e68d4f615\" target=\"_top\" title=\"psysml:cbd0bd62-e912-4912-a2fb-da1e68d4f615\" xlink:actuate=\"onRequest\" xlink:href=\"psysml:cbd0bd62-e912-4912-a2fb-da1e68d4f615\" xlink:show=\"new\" xlink:title=\"psysml:cbd0bd62-e912-4912-a2fb-da1e68d4f615\" xlink:type=\"simple\"><rect fill=\"#FFFFFF\" height=\"42.9375\" id=\"E2\" rx=\"10\" ry=\"10\" style=\"stroke: #383838; stroke-width: 1.5;\" width=\"50\" x=\"32\" y=\"100\"/><rect fill=\"#F8F8F8\" height=\"37.9375\" rx=\"10\" ry=\"10\" style=\"stroke: #F8F8F8; stroke-width: 1.5;\" width=\"50\" x=\"32\" y=\"100\"/><rect fill=\"#F8F8F8\" height=\"10\" style=\"stroke: #F8F8F8; stroke-width: 1.5;\" width=\"50\" x=\"32\" y=\"127.9375\"/><rect fill=\"none\" height=\"42.9375\" id=\"E2\" rx=\"10\" ry=\"10\" style=\"stroke: #383838; stroke-width: 1.5;\" width=\"50\" x=\"32\" y=\"100\"/><text fill=\"#000000\" font-family=\"sans-serif\" font-size=\"12\" font-style=\"italic\" lengthAdjust=\"spacingAndGlyphs\" textLength=\"41\" x=\"36.5\" y=\"116.1387\">«item»</text><text fill=\"#000000\" font-family=\"sans-serif\" font-size=\"12\" lengthAdjust=\"spacingAndGlyphs\" textLength=\"20\" x=\"47\" y=\"130.1074\">f: A</text></a></g><g id=\"E1.E5.E6\"><a href=\"psysml:2fa26767-edf9-4f1d-8702-6d0b4fb1afcf\" target=\"_top\" title=\"psysml:2fa26767-edf9-4f1d-8702-6d0b4fb1afcf\" xlink:actuate=\"onRequest\" xlink:href=\"psysml:2fa26767-edf9-4f1d-8702-6d0b4fb1afcf\" xlink:show=\"new\" xlink:title=\"psysml:2fa26767-edf9-4f1d-8702-6d0b4fb1afcf\" xlink:type=\"simple\"><rect fill=\"#FFFFFF\" height=\"42.9375\" id=\"E6\" rx=\"10\" ry=\"10\" style=\"stroke: #383838; stroke-width: 1.5;\" width=\"82\" x=\"339\" y=\"100\"/><rect fill=\"#F8F8F8\" height=\"37.9375\" rx=\"10\" ry=\"10\" style=\"stroke: #F8F8F8; stroke-width: 1.5;\" width=\"82\" x=\"339\" y=\"100\"/><rect fill=\"#F8F8F8\" height=\"10\" style=\"stroke: #F8F8F8; stroke-width: 1.5;\" width=\"82\" x=\"339\" y=\"127.9375\"/><rect fill=\"none\" height=\"42.9375\" id=\"E6\" rx=\"10\" ry=\"10\" style=\"stroke: #383838; stroke-width: 1.5;\" width=\"82\" x=\"339\" y=\"100\"/><text fill=\"#000000\" font-family=\"sans-serif\" font-size=\"12\" font-style=\"italic\" lengthAdjust=\"spacingAndGlyphs\" textLength=\"75\" x=\"342.5\" y=\"116.1387\">«reference»</text><text fill=\"#000000\" font-family=\"sans-serif\" font-size=\"12\" lengthAdjust=\"spacingAndGlyphs\" textLength=\"38\" x=\"359\" y=\"130.1074\">y: A, B</text></a></g><!--MD5=[2720a5a1f2c3fca2055b230370638851]\n",
       "link E2 to E3--><a href=\"psysml:8851b494-fad9-483d-8771-6e667cb982eb\" target=\"_top\" title=\"psysml:8851b494-fad9-483d-8771-6e667cb982eb\" xlink:actuate=\"onRequest\" xlink:href=\"psysml:8851b494-fad9-483d-8771-6e667cb982eb\" xlink:show=\"new\" xlink:title=\"psysml:8851b494-fad9-483d-8771-6e667cb982eb\" xlink:type=\"simple\"><path d=\"M60.69,143.22 C61.37,147.03 62.1,151.12 62.84,155.28 \" fill=\"none\" id=\"E2-&gt;E3\" style=\"stroke: #383838; stroke-width: 1.0;\"/><polygon fill=\"#FFFFFF\" points=\"66.35,174.98,56.1322,157.4987,69.916,155.048,66.35,174.98\" style=\"stroke: #383838; stroke-width: 1.0;\"/><ellipse cx=\"57.1035\" cy=\"151.5366\" fill=\"#383838\" rx=\"2\" ry=\"2\" style=\"stroke: #383838; stroke-width: 1.0;\"/><ellipse cx=\"66.9491\" cy=\"149.7861\" fill=\"#383838\" rx=\"2\" ry=\"2\" style=\"stroke: #383838; stroke-width: 1.0;\"/></a><!--MD5=[198a53199d7c29992abfe44a03e63fcd]\n",
       "@startuml\r\n",
       "skinparam ranksep 10\r\n",
       "skinparam rectangle {\r\n",
       " backgroundColor<<block>> LightGreen\r\n",
       "}\r\n",
       "skinparam monochrome true\r\n",
       "skinparam classbackgroundcolor white\r\n",
       "skinparam shadowing false\r\n",
       "skinparam wrapWidth 300\r\n",
       "hide circle\r\n",
       "\r\n",
       "package \"ItemTest\" as E1  [[psysml:ae8f2d08-e2f6-41ef-ae81-a483692b435b ]]  {\r\n",
       "rec usage \"f: A\" as E2  <<(T,blue) item>> [[psysml:cbd0bd62-e912-4912-a2fb-da1e68d4f615 ]] {\r\n",
       "}\r\n",
       "def \"A\" as E3  <<(T,blue) item  def>> [[psysml:2b189b42-edf1-49d6-a72b-40b548d68a1d ]] \r\n",
       "def \"<i>B</i>\" as E4  <<(T,blue) item  def>> [[psysml:f1885442-e1dd-46d9-92aa-2427019de9de ]] \r\n",
       "rec def \"C\" as E5  <<(T,blue) part  def>> [[psysml:6db780a5-cf23-40f2-9df9-03150cb096d0 ]] {\r\n",
       "rec usage \"y: A, B \" as E6  <<(T,blue) reference>> [[psysml:2fa26767-edf9-4f1d-8702-6d0b4fb1afcf ]] {\r\n",
       "}\r\n",
       "\r\n",
       "}\r\n",
       "def \"P\" as E7  <<(T,blue) port  def>> [[psysml:587854cf-6fe1-483d-a698-c7fca9a0c13c ]] \r\n",
       "}\r\n",
       "E2 - -:|> E3 [[psysml:8851b494-fad9-483d-8771-6e667cb982eb ]] \r\n",
       "@enduml\r\n",
       "\n",
       "PlantUML version 1.2020.13(Sat Jun 13 12:26:38 UTC 2020)\n",
       "(EPL source distribution)\n",
       "Java Runtime: OpenJDK Runtime Environment\n",
       "JVM: OpenJDK 64-Bit Server VM\n",
       "Default Encoding: UTF-8\n",
       "Language: en\n",
       "Country: null\n",
       "--></g></svg>"
      ]
     },
     "execution_count": 40,
     "metadata": {},
     "output_type": "execute_result"
    }
   ],
   "source": [
    "%viz --style=\"DEFAULT\" --view=\"Interconnection\" \"ItemTest\""
   ]
  },
  {
   "cell_type": "code",
   "execution_count": 41,
   "id": "925fc424",
   "metadata": {
    "execution": {
     "iopub.execute_input": "2022-08-19T08:17:30.598039Z",
     "iopub.status.busy": "2022-08-19T08:17:30.597566Z",
     "iopub.status.idle": "2022-08-19T08:17:30.602177Z",
     "shell.execute_reply": "2022-08-19T08:17:30.601788Z"
    }
   },
   "outputs": [
    {
     "data": {
      "image/svg+xml": [
       "<?xml version=\"1.0\" encoding=\"UTF-8\" standalone=\"no\"?><svg xmlns=\"http://www.w3.org/2000/svg\" xmlns:xlink=\"http://www.w3.org/1999/xlink\" contentScriptType=\"application/ecmascript\" contentStyleType=\"text/css\" height=\"12px\" preserveAspectRatio=\"none\" style=\"width:12px;height:12px;\" version=\"1.1\" viewBox=\"0 0 12 12\" width=\"12px\" zoomAndPan=\"magnify\"><defs/><g><!--MD5=[388f21188e31bfdd97050473b19af356]\n",
       "@startuml\r\n",
       "skinparam ranksep 8\r\n",
       "skinparam monochrome true\r\n",
       "skinparam classbackgroundcolor white\r\n",
       "skinparam shadowing false\r\n",
       "skinparam wrapWidth 300\r\n",
       "hide circle\r\n",
       "\r\n",
       "@enduml\r\n",
       "\n",
       "PlantUML version 1.2020.13(Sat Jun 13 12:26:38 UTC 2020)\n",
       "(EPL source distribution)\n",
       "Java Runtime: OpenJDK Runtime Environment\n",
       "JVM: OpenJDK 64-Bit Server VM\n",
       "Default Encoding: UTF-8\n",
       "Language: en\n",
       "Country: null\n",
       "--></g></svg>"
      ]
     },
     "execution_count": 41,
     "metadata": {},
     "output_type": "execute_result"
    }
   ],
   "source": [
    "%viz --style=\"DEFAULT\" --view=\"Action\" \"ItemTest\""
   ]
  },
  {
   "cell_type": "code",
   "execution_count": 42,
   "id": "5d89a0ab",
   "metadata": {
    "execution": {
     "iopub.execute_input": "2022-08-19T08:17:30.652039Z",
     "iopub.status.busy": "2022-08-19T08:17:30.651503Z",
     "iopub.status.idle": "2022-08-19T08:17:30.655315Z",
     "shell.execute_reply": "2022-08-19T08:17:30.654906Z"
    }
   },
   "outputs": [
    {
     "data": {
      "image/svg+xml": [
       "<?xml version=\"1.0\" encoding=\"UTF-8\" standalone=\"no\"?><svg xmlns=\"http://www.w3.org/2000/svg\" xmlns:xlink=\"http://www.w3.org/1999/xlink\" contentScriptType=\"application/ecmascript\" contentStyleType=\"text/css\" height=\"12px\" preserveAspectRatio=\"none\" style=\"width:12px;height:12px;\" version=\"1.1\" viewBox=\"0 0 12 12\" width=\"12px\" zoomAndPan=\"magnify\"><defs/><g><!--MD5=[0b72472770326784bf6c2b53246e1e64]\n",
       "@startuml\r\n",
       "skinparam roundcorner 20\r\n",
       "skinparam BoxPadding 20\r\n",
       "skinparam SequenceBoxBackgroundColor #white\r\n",
       "skinparam style strictuml\r\n",
       "skinparam maxMessageSize 100\r\n",
       "skinparam monochrome true\r\n",
       "skinparam classbackgroundcolor white\r\n",
       "skinparam shadowing false\r\n",
       "skinparam wrapWidth 300\r\n",
       "hide circle\r\n",
       "\r\n",
       "@enduml\r\n",
       "\n",
       "PlantUML version 1.2020.13(Sat Jun 13 12:26:38 UTC 2020)\n",
       "(EPL source distribution)\n",
       "Java Runtime: OpenJDK Runtime Environment\n",
       "JVM: OpenJDK 64-Bit Server VM\n",
       "Default Encoding: UTF-8\n",
       "Language: en\n",
       "Country: null\n",
       "--></g></svg>"
      ]
     },
     "execution_count": 42,
     "metadata": {},
     "output_type": "execute_result"
    }
   ],
   "source": [
    "%viz --style=\"DEFAULT\" --view=\"Sequence\" \"ItemTest\""
   ]
  },
  {
   "cell_type": "code",
   "execution_count": 43,
   "id": "a175eb3e",
   "metadata": {
    "execution": {
     "iopub.execute_input": "2022-08-19T08:17:30.704986Z",
     "iopub.status.busy": "2022-08-19T08:17:30.704514Z",
     "iopub.status.idle": "2022-08-19T08:17:30.745553Z",
     "shell.execute_reply": "2022-08-19T08:17:30.743321Z"
    }
   },
   "outputs": [
    {
     "data": {
      "image/svg+xml": [
       "<?xml version=\"1.0\" encoding=\"UTF-8\" standalone=\"no\"?><svg xmlns=\"http://www.w3.org/2000/svg\" xmlns:xlink=\"http://www.w3.org/1999/xlink\" contentScriptType=\"application/ecmascript\" contentStyleType=\"text/css\" height=\"818px\" preserveAspectRatio=\"none\" style=\"width:270px;height:818px;\" version=\"1.1\" viewBox=\"0 0 270 818\" width=\"270px\" zoomAndPan=\"magnify\"><defs/><g><!--MD5=[fbc87193dbaf4d95561dea2c320d4a47]\n",
       "cluster E1--><a href=\"psysml:ae8f2d08-e2f6-41ef-ae81-a483692b435b\" target=\"_top\" title=\"psysml:ae8f2d08-e2f6-41ef-ae81-a483692b435b\" xlink:actuate=\"onRequest\" xlink:href=\"psysml:ae8f2d08-e2f6-41ef-ae81-a483692b435b\" xlink:show=\"new\" xlink:title=\"psysml:ae8f2d08-e2f6-41ef-ae81-a483692b435b\" xlink:type=\"simple\"><polygon fill=\"#FFFFFF\" points=\"16,6,83,6,90,28.2969,248,28.2969,248,806,16,806,16,6\" style=\"stroke: #000000; stroke-width: 1.5;\"/><line style=\"stroke: #000000; stroke-width: 1.5;\" x1=\"16\" x2=\"90\" y1=\"28.2969\" y2=\"28.2969\"/><text fill=\"#000000\" font-family=\"sans-serif\" font-size=\"14\" font-weight=\"bold\" lengthAdjust=\"spacingAndGlyphs\" textLength=\"61\" x=\"20\" y=\"20.9951\">ItemTest</text></a><!--MD5=[b4997ac47864f28c2f74865a473b2911]\n",
       "class E2--><a href=\"psysml:cbd0bd62-e912-4912-a2fb-da1e68d4f615\" target=\"_top\" title=\"psysml:cbd0bd62-e912-4912-a2fb-da1e68d4f615\" xlink:actuate=\"onRequest\" xlink:href=\"psysml:cbd0bd62-e912-4912-a2fb-da1e68d4f615\" xlink:show=\"new\" xlink:title=\"psysml:cbd0bd62-e912-4912-a2fb-da1e68d4f615\" xlink:type=\"simple\"><rect fill=\"#FFFFFF\" height=\"45.9375\" id=\"E2\" rx=\"10\" ry=\"10\" style=\"stroke: #383838; stroke-width: 1.5;\" width=\"43\" x=\"188.5\" y=\"148\"/><text fill=\"#000000\" font-family=\"sans-serif\" font-size=\"12\" font-style=\"italic\" lengthAdjust=\"spacingAndGlyphs\" textLength=\"41\" x=\"189.5\" y=\"164.1387\">«item»</text><text fill=\"#000000\" font-family=\"sans-serif\" font-size=\"12\" lengthAdjust=\"spacingAndGlyphs\" textLength=\"20\" x=\"198\" y=\"178.1074\">f: A</text><line style=\"stroke: #383838; stroke-width: 1.5;\" x1=\"189.5\" x2=\"230.5\" y1=\"185.9375\" y2=\"185.9375\"/></a><!--MD5=[09b614a08d8cba4a07c9adeb5e0fee81]\n",
       "class E3--><a href=\"psysml:2b189b42-edf1-49d6-a72b-40b548d68a1d\" target=\"_top\" title=\"psysml:2b189b42-edf1-49d6-a72b-40b548d68a1d\" xlink:actuate=\"onRequest\" xlink:href=\"psysml:2b189b42-edf1-49d6-a72b-40b548d68a1d\" xlink:show=\"new\" xlink:title=\"psysml:2b189b42-edf1-49d6-a72b-40b548d68a1d\" xlink:type=\"simple\"><rect fill=\"#FFFFFF\" height=\"45.9375\" id=\"E3\" style=\"stroke: #383838; stroke-width: 1.5;\" width=\"71\" x=\"96.5\" y=\"255\"/><text fill=\"#000000\" font-family=\"sans-serif\" font-size=\"12\" font-style=\"italic\" lengthAdjust=\"spacingAndGlyphs\" textLength=\"69\" x=\"97.5\" y=\"271.1387\">«item  def»</text><text fill=\"#000000\" font-family=\"sans-serif\" font-size=\"12\" lengthAdjust=\"spacingAndGlyphs\" textLength=\"8\" x=\"128\" y=\"285.1074\">A</text><line style=\"stroke: #383838; stroke-width: 1.5;\" x1=\"97.5\" x2=\"166.5\" y1=\"292.9375\" y2=\"292.9375\"/></a><!--MD5=[ebbe1d658d1005bcc118a6aa81145e00]\n",
       "class E4--><a href=\"psysml:94aeed99-fa0f-4cf3-9a3c-c07fcd3df143\" target=\"_top\" title=\"psysml:94aeed99-fa0f-4cf3-9a3c-c07fcd3df143\" xlink:actuate=\"onRequest\" xlink:href=\"psysml:94aeed99-fa0f-4cf3-9a3c-c07fcd3df143\" xlink:show=\"new\" xlink:title=\"psysml:94aeed99-fa0f-4cf3-9a3c-c07fcd3df143\" xlink:type=\"simple\"><rect fill=\"#FFFFFF\" height=\"45.9375\" id=\"E4\" rx=\"10\" ry=\"10\" style=\"stroke: #383838; stroke-width: 1.5;\" width=\"43\" x=\"45.5\" y=\"438\"/><text fill=\"#000000\" font-family=\"sans-serif\" font-size=\"12\" font-style=\"italic\" lengthAdjust=\"spacingAndGlyphs\" textLength=\"41\" x=\"46.5\" y=\"454.1387\">«item»</text><text fill=\"#000000\" font-family=\"sans-serif\" font-size=\"12\" lengthAdjust=\"spacingAndGlyphs\" textLength=\"24\" x=\"53\" y=\"468.1074\">b: B</text><line style=\"stroke: #383838; stroke-width: 1.5;\" x1=\"46.5\" x2=\"87.5\" y1=\"475.9375\" y2=\"475.9375\"/></a><!--MD5=[270fce915f116d4de14055a7c1d9a0f3]\n",
       "class E5--><a href=\"psysml:74f7fd5f-8520-4aae-9a17-942775661558\" target=\"_top\" title=\"psysml:74f7fd5f-8520-4aae-9a17-942775661558\" xlink:actuate=\"onRequest\" xlink:href=\"psysml:74f7fd5f-8520-4aae-9a17-942775661558\" xlink:show=\"new\" xlink:title=\"psysml:74f7fd5f-8520-4aae-9a17-942775661558\" xlink:type=\"simple\"><rect fill=\"#FFFFFF\" height=\"45.9375\" id=\"E5\" rx=\"10\" ry=\"10\" style=\"stroke: #383838; stroke-width: 1.5;\" width=\"42\" x=\"151\" y=\"362\"/><text fill=\"#000000\" font-family=\"sans-serif\" font-size=\"12\" font-style=\"italic\" lengthAdjust=\"spacingAndGlyphs\" textLength=\"40\" x=\"152\" y=\"378.1387\">«part»</text><text fill=\"#000000\" font-family=\"sans-serif\" font-size=\"12\" lengthAdjust=\"spacingAndGlyphs\" textLength=\"23\" x=\"158.5\" y=\"392.1074\">c: C</text><line style=\"stroke: #383838; stroke-width: 1.5;\" x1=\"152\" x2=\"192\" y1=\"399.9375\" y2=\"399.9375\"/></a><!--MD5=[60a26617385b1d2d0262a64233df1f8d]\n",
       "class E6--><a href=\"psysml:f1885442-e1dd-46d9-92aa-2427019de9de\" target=\"_top\" title=\"psysml:f1885442-e1dd-46d9-92aa-2427019de9de\" xlink:actuate=\"onRequest\" xlink:href=\"psysml:f1885442-e1dd-46d9-92aa-2427019de9de\" xlink:show=\"new\" xlink:title=\"psysml:f1885442-e1dd-46d9-92aa-2427019de9de\" xlink:type=\"simple\"><rect fill=\"#FFFFFF\" height=\"45.9375\" id=\"E6\" style=\"stroke: #383838; stroke-width: 1.5;\" width=\"71\" x=\"112.5\" y=\"637\"/><text fill=\"#000000\" font-family=\"sans-serif\" font-size=\"12\" font-style=\"italic\" lengthAdjust=\"spacingAndGlyphs\" textLength=\"69\" x=\"113.5\" y=\"653.1387\">«item  def»</text><text fill=\"#000000\" font-family=\"sans-serif\" font-size=\"12\" font-style=\"italic\" lengthAdjust=\"spacingAndGlyphs\" textLength=\"8\" x=\"144\" y=\"667.1074\">B</text><line style=\"stroke: #383838; stroke-width: 1.5;\" x1=\"113.5\" x2=\"182.5\" y1=\"674.9375\" y2=\"674.9375\"/></a><!--MD5=[2156ba9850f5573cc1fc38a6a4b2f02b]\n",
       "class E7--><a href=\"psysml:cc0b7000-21b2-4abb-bead-e88feeed0b85\" target=\"_top\" title=\"psysml:cc0b7000-21b2-4abb-bead-e88feeed0b85\" xlink:actuate=\"onRequest\" xlink:href=\"psysml:cc0b7000-21b2-4abb-bead-e88feeed0b85\" xlink:show=\"new\" xlink:title=\"psysml:cc0b7000-21b2-4abb-bead-e88feeed0b85\" xlink:type=\"simple\"><rect fill=\"#FFFFFF\" height=\"45.9375\" id=\"E7\" rx=\"10\" ry=\"10\" style=\"stroke: #383838; stroke-width: 1.5;\" width=\"42\" x=\"159\" y=\"744\"/><text fill=\"#000000\" font-family=\"sans-serif\" font-size=\"12\" font-style=\"italic\" lengthAdjust=\"spacingAndGlyphs\" textLength=\"40\" x=\"160\" y=\"760.1387\">«part»</text><text fill=\"#000000\" font-family=\"sans-serif\" font-size=\"12\" font-style=\"italic\" lengthAdjust=\"spacingAndGlyphs\" textLength=\"8\" x=\"166\" y=\"774.1074\">a</text><text fill=\"#000000\" font-family=\"sans-serif\" font-size=\"12\" lengthAdjust=\"spacingAndGlyphs\" textLength=\"16\" x=\"174\" y=\"774.1074\">: A</text><line style=\"stroke: #383838; stroke-width: 1.5;\" x1=\"160\" x2=\"200\" y1=\"781.9375\" y2=\"781.9375\"/></a><!--MD5=[b9389687b975829384b498ac4b7476b2]\n",
       "class E8--><a href=\"psysml:6db780a5-cf23-40f2-9df9-03150cb096d0\" target=\"_top\" title=\"psysml:6db780a5-cf23-40f2-9df9-03150cb096d0\" xlink:actuate=\"onRequest\" xlink:href=\"psysml:6db780a5-cf23-40f2-9df9-03150cb096d0\" xlink:show=\"new\" xlink:title=\"psysml:6db780a5-cf23-40f2-9df9-03150cb096d0\" xlink:type=\"simple\"><rect fill=\"#FFFFFF\" height=\"45.9375\" id=\"E8\" style=\"stroke: #383838; stroke-width: 1.5;\" width=\"70\" x=\"113\" y=\"514\"/><text fill=\"#000000\" font-family=\"sans-serif\" font-size=\"12\" font-style=\"italic\" lengthAdjust=\"spacingAndGlyphs\" textLength=\"68\" x=\"114\" y=\"530.1387\">«part  def»</text><text fill=\"#000000\" font-family=\"sans-serif\" font-size=\"12\" lengthAdjust=\"spacingAndGlyphs\" textLength=\"8\" x=\"144\" y=\"544.1074\">C</text><line style=\"stroke: #383838; stroke-width: 1.5;\" x1=\"114\" x2=\"182\" y1=\"551.9375\" y2=\"551.9375\"/></a><!--MD5=[fd4143e9d270a159db93a4ea2a975926]\n",
       "class E9--><a href=\"psysml:587854cf-6fe1-483d-a698-c7fca9a0c13c\" target=\"_top\" title=\"psysml:587854cf-6fe1-483d-a698-c7fca9a0c13c\" xlink:actuate=\"onRequest\" xlink:href=\"psysml:587854cf-6fe1-483d-a698-c7fca9a0c13c\" xlink:show=\"new\" xlink:title=\"psysml:587854cf-6fe1-483d-a698-c7fca9a0c13c\" xlink:type=\"simple\"><rect fill=\"#FFFFFF\" height=\"45.9375\" id=\"E9\" style=\"stroke: #383838; stroke-width: 1.5;\" width=\"70\" x=\"64\" y=\"41\"/><text fill=\"#000000\" font-family=\"sans-serif\" font-size=\"12\" font-style=\"italic\" lengthAdjust=\"spacingAndGlyphs\" textLength=\"68\" x=\"65\" y=\"57.1387\">«port  def»</text><text fill=\"#000000\" font-family=\"sans-serif\" font-size=\"12\" lengthAdjust=\"spacingAndGlyphs\" textLength=\"8\" x=\"95\" y=\"71.1074\">P</text><line style=\"stroke: #383838; stroke-width: 1.5;\" x1=\"65\" x2=\"133\" y1=\"78.9375\" y2=\"78.9375\"/></a><!--MD5=[96f4274e9e20536e775497830990834d]\n",
       "class E10--><a href=\"psysml:f73739ed-5364-4403-8254-d4f943238dfa\" target=\"_top\" title=\"psysml:f73739ed-5364-4403-8254-d4f943238dfa\" xlink:actuate=\"onRequest\" xlink:href=\"psysml:f73739ed-5364-4403-8254-d4f943238dfa\" xlink:show=\"new\" xlink:title=\"psysml:f73739ed-5364-4403-8254-d4f943238dfa\" xlink:type=\"simple\"><rect fill=\"#FFFFFF\" height=\"45.9375\" id=\"E10\" rx=\"10\" ry=\"10\" style=\"stroke: #383838; stroke-width: 1.5;\" width=\"43\" x=\"32.5\" y=\"148\"/><text fill=\"#000000\" font-family=\"sans-serif\" font-size=\"12\" font-style=\"italic\" lengthAdjust=\"spacingAndGlyphs\" textLength=\"41\" x=\"33.5\" y=\"164.1387\">«item»</text><text fill=\"#000000\" font-family=\"sans-serif\" font-size=\"12\" lengthAdjust=\"spacingAndGlyphs\" textLength=\"32\" x=\"36\" y=\"178.1074\">a1: A</text><line style=\"stroke: #383838; stroke-width: 1.5;\" x1=\"33.5\" x2=\"74.5\" y1=\"185.9375\" y2=\"185.9375\"/></a><!--MD5=[1dd1bfd58a279cf63c5f349dbc8fc6a1]\n",
       "class E11--><a href=\"psysml:6a7a2def-0eff-4194-80a2-af7f6b4a129e\" target=\"_top\" title=\"psysml:6a7a2def-0eff-4194-80a2-af7f6b4a129e\" xlink:actuate=\"onRequest\" xlink:href=\"psysml:6a7a2def-0eff-4194-80a2-af7f6b4a129e\" xlink:show=\"new\" xlink:title=\"psysml:6a7a2def-0eff-4194-80a2-af7f6b4a129e\" xlink:type=\"simple\"><rect fill=\"#FFFFFF\" height=\"45.9375\" id=\"E11\" rx=\"10\" ry=\"10\" style=\"stroke: #383838; stroke-width: 1.5;\" width=\"43\" x=\"110.5\" y=\"148\"/><text fill=\"#000000\" font-family=\"sans-serif\" font-size=\"12\" font-style=\"italic\" lengthAdjust=\"spacingAndGlyphs\" textLength=\"41\" x=\"111.5\" y=\"164.1387\">«item»</text><text fill=\"#000000\" font-family=\"sans-serif\" font-size=\"12\" lengthAdjust=\"spacingAndGlyphs\" textLength=\"32\" x=\"114\" y=\"178.1074\">a2: A</text><line style=\"stroke: #383838; stroke-width: 1.5;\" x1=\"111.5\" x2=\"152.5\" y1=\"185.9375\" y2=\"185.9375\"/></a><!--MD5=[2720a5a1f2c3fca2055b230370638851]\n",
       "link E2 to E3--><a href=\"psysml:8851b494-fad9-483d-8771-6e667cb982eb\" target=\"_top\" title=\"psysml:8851b494-fad9-483d-8771-6e667cb982eb\" xlink:actuate=\"onRequest\" xlink:href=\"psysml:8851b494-fad9-483d-8771-6e667cb982eb\" xlink:show=\"new\" xlink:title=\"psysml:8851b494-fad9-483d-8771-6e667cb982eb\" xlink:type=\"simple\"><path d=\"M193.65,194.01 C184.14,206.81 171.89,223.3 160.82,238.2 \" fill=\"none\" id=\"E2-&gt;E3\" style=\"stroke: #383838; stroke-width: 1.0;\"/><polygon fill=\"#FFFFFF\" points=\"148.6,254.66,154.3195,235.2361,165.5543,243.5896,148.6,254.66\" style=\"stroke: #383838; stroke-width: 1.0;\"/><ellipse cx=\"159.3256\" cy=\"231.8554\" fill=\"#383838\" rx=\"2\" ry=\"2\" style=\"stroke: #383838; stroke-width: 1.0;\"/><ellipse cx=\"167.3504\" cy=\"237.8221\" fill=\"#383838\" rx=\"2\" ry=\"2\" style=\"stroke: #383838; stroke-width: 1.0;\"/></a><!--MD5=[4672eba38e49728da53d11aeb285b987]\n",
       "reverse link E3 to E4--><a href=\"psysml:bbc4490d-4884-4bf2-8394-3cd2641c3130\" target=\"_top\" title=\"psysml:bbc4490d-4884-4bf2-8394-3cd2641c3130\" xlink:actuate=\"onRequest\" xlink:href=\"psysml:bbc4490d-4884-4bf2-8394-3cd2641c3130\" xlink:show=\"new\" xlink:title=\"psysml:bbc4490d-4884-4bf2-8394-3cd2641c3130\" xlink:type=\"simple\"><path d=\"M97.11,310.9 C84.08,325.11 70.81,342.94 64,362 C55.12,386.85 58.09,417.53 61.82,437.88 \" fill=\"none\" id=\"E3&lt;-E4\" style=\"stroke: #383838; stroke-width: 1.0;\"/><polygon fill=\"#FFFFFF\" points=\"106.46,301.23,99.4153,302.7703,98.1277,309.8655,105.1724,308.3252,106.46,301.23\" style=\"stroke: #383838; stroke-width: 1.0;\"/><text fill=\"#000000\" font-family=\"sans-serif\" font-size=\"13\" lengthAdjust=\"spacingAndGlyphs\" textLength=\"8\" x=\"51.3529\" y=\"426.744\">1</text></a><!--MD5=[191cde3d490a3f6d7bb551fe3ddca469]\n",
       "reverse link E3 to E5--><a href=\"psysml:896e58a4-3d4e-4523-9980-c4907a158d3f\" target=\"_top\" title=\"psysml:896e58a4-3d4e-4523-9980-c4907a158d3f\" xlink:actuate=\"onRequest\" xlink:href=\"psysml:896e58a4-3d4e-4523-9980-c4907a158d3f\" xlink:show=\"new\" xlink:title=\"psysml:896e58a4-3d4e-4523-9980-c4907a158d3f\" xlink:type=\"simple\"><path d=\"M145.17,313.57 C151.2,329.39 158.16,347.68 163.49,361.66 \" fill=\"none\" id=\"E3&lt;-E5\" style=\"stroke: #383838; stroke-width: 1.0;\"/><polygon fill=\"#FFFFFF\" points=\"140.39,301.01,138.7866,308.0406,144.6598,312.2247,146.2631,305.1941,140.39,301.01\" style=\"stroke: #383838; stroke-width: 1.0;\"/><text fill=\"#000000\" font-family=\"sans-serif\" font-size=\"13\" lengthAdjust=\"spacingAndGlyphs\" textLength=\"8\" x=\"152.2843\" y=\"350.8492\">1</text></a><!--MD5=[79568f1e445c3877b6a54524624ccc7d]\n",
       "link E4 to E6--><a href=\"psysml:ae089d5e-98d2-4386-a1f6-d9056ad7f1db\" target=\"_top\" title=\"psysml:ae089d5e-98d2-4386-a1f6-d9056ad7f1db\" xlink:actuate=\"onRequest\" xlink:href=\"psysml:ae089d5e-98d2-4386-a1f6-d9056ad7f1db\" xlink:show=\"new\" xlink:title=\"psysml:ae089d5e-98d2-4386-a1f6-d9056ad7f1db\" xlink:type=\"simple\"><path d=\"M72.25,484.22 C77.31,504.36 85.72,534.68 96,560 C104.15,580.08 115.08,601.47 124.82,619.21 \" fill=\"none\" id=\"E4-&gt;E6\" style=\"stroke: #383838; stroke-width: 1.0;\"/><polygon fill=\"#FFFFFF\" points=\"134.72,636.8,119.2979,623.6791,131.4967,616.8097,134.72,636.8\" style=\"stroke: #383838; stroke-width: 1.0;\"/><ellipse cx=\"118.2438\" cy=\"617.7311\" fill=\"#383838\" rx=\"2\" ry=\"2\" style=\"stroke: #383838; stroke-width: 1.0;\"/><ellipse cx=\"126.9572\" cy=\"612.8244\" fill=\"#383838\" rx=\"2\" ry=\"2\" style=\"stroke: #383838; stroke-width: 1.0;\"/></a><!--MD5=[3f50a3473f1dfb74d3f76443e03635af]\n",
       "reverse link E6 to E7--><a href=\"psysml:f93e67a1-8e91-4b72-abc4-aff48dcc0ebf\" target=\"_top\" title=\"psysml:f93e67a1-8e91-4b72-abc4-aff48dcc0ebf\" xlink:actuate=\"onRequest\" xlink:href=\"psysml:f93e67a1-8e91-4b72-abc4-aff48dcc0ebf\" xlink:show=\"new\" xlink:title=\"psysml:f93e67a1-8e91-4b72-abc4-aff48dcc0ebf\" xlink:type=\"simple\"><path d=\"M158.54,695.57 C163.36,711.39 168.93,729.68 173.19,743.66 \" fill=\"none\" id=\"E6&lt;-E7\" style=\"stroke: #383838; stroke-width: 1.0;\"/><polygon fill=\"#FFFFFF\" points=\"154.71,683.01,152.6319,689.9152,158.2066,694.4893,160.2847,687.5841,154.71,683.01\" style=\"stroke: #383838; stroke-width: 1.0;\"/><text fill=\"#000000\" font-family=\"sans-serif\" font-size=\"13\" lengthAdjust=\"spacingAndGlyphs\" textLength=\"8\" x=\"162.4199\" y=\"732.8492\">1</text></a><!--MD5=[14ccda38c055a5c0da953d572bc50960]\n",
       "link E7 to E3--><a href=\"psysml:729e96ed-f9a8-4349-a416-61bf2a977bd8\" target=\"_top\" title=\"psysml:729e96ed-f9a8-4349-a416-61bf2a977bd8\" xlink:actuate=\"onRequest\" xlink:href=\"psysml:729e96ed-f9a8-4349-a416-61bf2a977bd8\" xlink:show=\"new\" xlink:title=\"psysml:729e96ed-f9a8-4349-a416-61bf2a977bd8\" xlink:type=\"simple\"><path d=\"M197.41,743.63 C211.5,723.27 229,691.78 229,661 C229,384 229,384 229,384 C229,353.7 206.93,328.42 183.85,310.26 \" fill=\"none\" id=\"E7-&gt;E3\" style=\"stroke: #383838; stroke-width: 1.0;\"/><polygon fill=\"#FFFFFF\" points=\"167.57,298.59,187.0929,303.9617,178.9414,315.3438,167.57,298.59\" style=\"stroke: #383838; stroke-width: 1.0;\"/><ellipse cx=\"190.5626\" cy=\"308.9066\" fill=\"#383838\" rx=\"2\" ry=\"2\" style=\"stroke: #383838; stroke-width: 1.0;\"/><ellipse cx=\"184.7401\" cy=\"317.0367\" fill=\"#383838\" rx=\"2\" ry=\"2\" style=\"stroke: #383838; stroke-width: 1.0;\"/></a><!--MD5=[dfaffb906826c3e5aca635516100ff21]\n",
       "link E5 to E8--><a href=\"psysml:8b27b07a-ba61-4df4-814a-c4b9eba72255\" target=\"_top\" title=\"psysml:8b27b07a-ba61-4df4-814a-c4b9eba72255\" xlink:actuate=\"onRequest\" xlink:href=\"psysml:8b27b07a-ba61-4df4-814a-c4b9eba72255\" xlink:show=\"new\" xlink:title=\"psysml:8b27b07a-ba61-4df4-814a-c4b9eba72255\" xlink:type=\"simple\"><path d=\"M168.46,408.13 C164.86,430.62 159.2,466.01 154.74,493.87 \" fill=\"none\" id=\"E5-&gt;E8\" style=\"stroke: #383838; stroke-width: 1.0;\"/><polygon fill=\"#FFFFFF\" points=\"151.56,513.78,147.6458,493.9135,161.4704,496.1226,151.56,513.78\" style=\"stroke: #383838; stroke-width: 1.0;\"/><ellipse cx=\"150.5202\" cy=\"488.6005\" fill=\"#383838\" rx=\"2\" ry=\"2\" style=\"stroke: #383838; stroke-width: 1.0;\"/><ellipse cx=\"160.3949\" cy=\"490.1784\" fill=\"#383838\" rx=\"2\" ry=\"2\" style=\"stroke: #383838; stroke-width: 1.0;\"/></a><!--MD5=[03c8294790d3c57651a1993cecff665f]\n",
       "reverse link E8 to E3--><a href=\"psysml:2fa26767-edf9-4f1d-8702-6d0b4fb1afcf\" target=\"_top\" title=\"psysml:2fa26767-edf9-4f1d-8702-6d0b4fb1afcf\" xlink:actuate=\"onRequest\" xlink:href=\"psysml:2fa26767-edf9-4f1d-8702-6d0b4fb1afcf\" xlink:show=\"new\" xlink:title=\"psysml:2fa26767-edf9-4f1d-8702-6d0b4fb1afcf\" xlink:type=\"simple\"><path d=\"M140.02,501.22 C134.57,475.6 127.84,439.84 125,408 C123.18,387.64 124.14,382.43 125,362 C125.87,341.34 127.95,317.86 129.62,301.16 \" fill=\"none\" id=\"E8&lt;-E3\" style=\"stroke: #383838; stroke-width: 1.0;\"/><polygon fill=\"#FFFFFF\" points=\"142.81,513.96,145.4388,507.2451,140.2515,502.2359,137.6227,508.9508,142.81,513.96\" style=\"stroke: #383838; stroke-width: 1.0;\"/><text fill=\"#000000\" font-family=\"sans-serif\" font-size=\"13\" lengthAdjust=\"spacingAndGlyphs\" textLength=\"7\" x=\"126\" y=\"389.5669\">y</text></a><!--MD5=[0d75d2178373a6a4568e5dc728f58aef]\n",
       "reverse link E8 to E6--><a href=\"psysml:2fa26767-edf9-4f1d-8702-6d0b4fb1afcf\" target=\"_top\" title=\"psysml:2fa26767-edf9-4f1d-8702-6d0b4fb1afcf\" xlink:actuate=\"onRequest\" xlink:href=\"psysml:2fa26767-edf9-4f1d-8702-6d0b4fb1afcf\" xlink:show=\"new\" xlink:title=\"psysml:2fa26767-edf9-4f1d-8702-6d0b4fb1afcf\" xlink:type=\"simple\"><path d=\"M148,573.22 C148,593.81 148,619.16 148,636.95 \" fill=\"none\" id=\"E8&lt;-E6\" style=\"stroke: #383838; stroke-width: 1.0;\"/><polygon fill=\"#FFFFFF\" points=\"148,560.19,144,566.19,148,572.19,152,566.19,148,560.19\" style=\"stroke: #383838; stroke-width: 1.0;\"/><text fill=\"#000000\" font-family=\"sans-serif\" font-size=\"13\" lengthAdjust=\"spacingAndGlyphs\" textLength=\"7\" x=\"149\" y=\"603.0669\">y</text></a><!--MD5=[23ac544a70576c3e717098101004234c]\n",
       "reverse link E9 to E10--><a href=\"psysml:2a8d2925-3f72-4e1c-849d-9e3943fa1d15\" target=\"_top\" title=\"psysml:2a8d2925-3f72-4e1c-849d-9e3943fa1d15\" xlink:actuate=\"onRequest\" xlink:href=\"psysml:2a8d2925-3f72-4e1c-849d-9e3943fa1d15\" xlink:show=\"new\" xlink:title=\"psysml:2a8d2925-3f72-4e1c-849d-9e3943fa1d15\" xlink:type=\"simple\"><path d=\"M84.39,99.1 C77.56,115.03 69.63,133.54 63.58,147.66 \" fill=\"none\" id=\"E9&lt;-E10\" style=\"stroke: #383838; stroke-width: 1.0;\"/><polygon fill=\"#FFFFFF\" points=\"89.57,87.01,83.5327,90.9535,84.8509,98.0431,90.8882,94.0996,89.57,87.01\" style=\"stroke: #383838; stroke-width: 1.0;\"/><text fill=\"#000000\" font-family=\"sans-serif\" font-size=\"13\" lengthAdjust=\"spacingAndGlyphs\" textLength=\"8\" x=\"57.0099\" y=\"136.8492\">1</text></a><!--MD5=[feeac5eb423634930294aa81f2d25a4c]\n",
       "link E10 to E3--><a href=\"psysml:be0eb1db-3a2d-4525-bfbd-aed22db095bf\" target=\"_top\" title=\"psysml:be0eb1db-3a2d-4525-bfbd-aed22db095bf\" xlink:actuate=\"onRequest\" xlink:href=\"psysml:be0eb1db-3a2d-4525-bfbd-aed22db095bf\" xlink:show=\"new\" xlink:title=\"psysml:be0eb1db-3a2d-4525-bfbd-aed22db095bf\" xlink:type=\"simple\"><path d=\"M70.35,194.01 C79.86,206.81 92.11,223.3 103.18,238.2 \" fill=\"none\" id=\"E10-&gt;E3\" style=\"stroke: #383838; stroke-width: 1.0;\"/><polygon fill=\"#FFFFFF\" points=\"115.4,254.66,98.4457,243.5896,109.6805,235.2361,115.4,254.66\" style=\"stroke: #383838; stroke-width: 1.0;\"/><ellipse cx=\"96.6496\" cy=\"237.8221\" fill=\"#383838\" rx=\"2\" ry=\"2\" style=\"stroke: #383838; stroke-width: 1.0;\"/><ellipse cx=\"104.6744\" cy=\"231.8554\" fill=\"#383838\" rx=\"2\" ry=\"2\" style=\"stroke: #383838; stroke-width: 1.0;\"/></a><!--MD5=[1fc04a95fd77ad5ce46c1a3027516051]\n",
       "reverse link E9 to E11--><a href=\"psysml:4a4899a0-cca2-49ff-ba55-d15caf476c4f\" target=\"_top\" title=\"psysml:4a4899a0-cca2-49ff-ba55-d15caf476c4f\" xlink:actuate=\"onRequest\" xlink:href=\"psysml:4a4899a0-cca2-49ff-ba55-d15caf476c4f\" xlink:show=\"new\" xlink:title=\"psysml:4a4899a0-cca2-49ff-ba55-d15caf476c4f\" xlink:type=\"simple\"><path d=\"M109.87,99.57 C114.84,115.39 120.59,133.68 124.98,147.66 \" fill=\"none\" id=\"E9&lt;-E11\" style=\"stroke: #383838; stroke-width: 1.0;\"/><polygon fill=\"#FFFFFF\" points=\"105.92,87.01,103.9044,93.9337,109.5203,98.4572,111.5359,91.5335,105.92,87.01\" style=\"stroke: #383838; stroke-width: 1.0;\"/><text fill=\"#000000\" font-family=\"sans-serif\" font-size=\"13\" lengthAdjust=\"spacingAndGlyphs\" textLength=\"8\" x=\"114.1561\" y=\"136.8492\">1</text></a><!--MD5=[0517f1ce58c4d5483948f93845c45e26]\n",
       "link E11 to E3--><a href=\"psysml:8ddae6f0-112f-4ded-9c4d-74dd6bca1f55\" target=\"_top\" title=\"psysml:8ddae6f0-112f-4ded-9c4d-74dd6bca1f55\" xlink:actuate=\"onRequest\" xlink:href=\"psysml:8ddae6f0-112f-4ded-9c4d-74dd6bca1f55\" xlink:show=\"new\" xlink:title=\"psysml:8ddae6f0-112f-4ded-9c4d-74dd6bca1f55\" xlink:type=\"simple\"><path d=\"M132,194.01 C132,205.69 132,220.46 132,234.28 \" fill=\"none\" id=\"E11-&gt;E3\" style=\"stroke: #383838; stroke-width: 1.0;\"/><polygon fill=\"#FFFFFF\" points=\"132,254.66,125,235.66,139,235.66,132,254.66\" style=\"stroke: #383838; stroke-width: 1.0;\"/><ellipse cx=\"127\" cy=\"229.96\" fill=\"#383838\" rx=\"2\" ry=\"2\" style=\"stroke: #383838; stroke-width: 1.0;\"/><ellipse cx=\"137\" cy=\"229.96\" fill=\"#383838\" rx=\"2\" ry=\"2\" style=\"stroke: #383838; stroke-width: 1.0;\"/></a><!--MD5=[45fb17d516497f6484e2e85667896a94]\n",
       "@startuml\r\n",
       "skinparam monochrome true\r\n",
       "skinparam classbackgroundcolor white\r\n",
       "skinparam shadowing false\r\n",
       "skinparam wrapWidth 300\r\n",
       "hide circle\r\n",
       "\r\n",
       "package \"ItemTest\" as E1  [[psysml:ae8f2d08-e2f6-41ef-ae81-a483692b435b ]]  {\r\n",
       "comp usage \"f: A \" as E2  <<(T,blue) item>> [[psysml:cbd0bd62-e912-4912-a2fb-da1e68d4f615 ]] {\r\n",
       "}\r\n",
       "comp def \"A\" as E3  <<(T,blue) item  def>> [[psysml:2b189b42-edf1-49d6-a72b-40b548d68a1d ]] {\r\n",
       "}\r\n",
       "comp usage \"b: B \" as E4  <<(T,blue) item>> [[psysml:94aeed99-fa0f-4cf3-9a3c-c07fcd3df143 ]] {\r\n",
       "}\r\n",
       "comp usage \"c: C \" as E5  <<(T,blue) part>> [[psysml:74f7fd5f-8520-4aae-9a17-942775661558 ]] {\r\n",
       "}\r\n",
       "comp def \"<i>B</i>\" as E6  <<(T,blue) item  def>> [[psysml:f1885442-e1dd-46d9-92aa-2427019de9de ]] {\r\n",
       "}\r\n",
       "comp usage \"<i>a</i>: A \" as E7  <<(T,blue) part>> [[psysml:cc0b7000-21b2-4abb-bead-e88feeed0b85 ]] {\r\n",
       "}\r\n",
       "comp def \"C\" as E8  <<(T,blue) part  def>> [[psysml:6db780a5-cf23-40f2-9df9-03150cb096d0 ]] {\r\n",
       "}\r\n",
       "comp def \"P\" as E9  <<(T,blue) port  def>> [[psysml:587854cf-6fe1-483d-a698-c7fca9a0c13c ]] {\r\n",
       "}\r\n",
       "comp usage \"a1: A \" as E10  <<(T,blue) item>> [[psysml:f73739ed-5364-4403-8254-d4f943238dfa ]] {\r\n",
       "}\r\n",
       "comp usage \"a2: A \" as E11  <<(T,blue) item>> [[psysml:6a7a2def-0eff-4194-80a2-af7f6b4a129e ]] {\r\n",
       "}\r\n",
       "}\r\n",
       "E2 - -:|> E3 [[psysml:8851b494-fad9-483d-8771-6e667cb982eb ]] \r\n",
       "E3 o- - \"1\"E4 [[psysml:bbc4490d-4884-4bf2-8394-3cd2641c3130 ]] \r\n",
       "E3 o- - \"1\"E5 [[psysml:896e58a4-3d4e-4523-9980-c4907a158d3f ]] \r\n",
       "E4 - -:|> E6 [[psysml:ae089d5e-98d2-4386-a1f6-d9056ad7f1db ]] \r\n",
       "E6 o- - \"1\"E7 [[psysml:f93e67a1-8e91-4b72-abc4-aff48dcc0ebf ]] \r\n",
       "E7 - -:|> E3 [[psysml:729e96ed-f9a8-4349-a416-61bf2a977bd8 ]] \r\n",
       "E5 - -:|> E8 [[psysml:8b27b07a-ba61-4df4-814a-c4b9eba72255 ]] \r\n",
       "E8 o- - E3 [[psysml:2fa26767-edf9-4f1d-8702-6d0b4fb1afcf ]] : y\r\n",
       "E8 o- - E6 [[psysml:2fa26767-edf9-4f1d-8702-6d0b4fb1afcf ]] : y\r\n",
       "E9 o- - \"1\"E10 [[psysml:2a8d2925-3f72-4e1c-849d-9e3943fa1d15 ]] \r\n",
       "E10 - -:|> E3 [[psysml:be0eb1db-3a2d-4525-bfbd-aed22db095bf ]] \r\n",
       "E9 o- - \"1\"E11 [[psysml:4a4899a0-cca2-49ff-ba55-d15caf476c4f ]] \r\n",
       "E11 - -:|> E3 [[psysml:8ddae6f0-112f-4ded-9c4d-74dd6bca1f55 ]] \r\n",
       "@enduml\r\n",
       "\n",
       "PlantUML version 1.2020.13(Sat Jun 13 12:26:38 UTC 2020)\n",
       "(EPL source distribution)\n",
       "Java Runtime: OpenJDK Runtime Environment\n",
       "JVM: OpenJDK 64-Bit Server VM\n",
       "Default Encoding: UTF-8\n",
       "Language: en\n",
       "Country: null\n",
       "--></g></svg>"
      ]
     },
     "execution_count": 43,
     "metadata": {},
     "output_type": "execute_result"
    }
   ],
   "source": [
    "%viz --style=\"DEFAULT\" --view=\"MIXED\" \"ItemTest\""
   ]
  },
  {
   "cell_type": "code",
   "execution_count": 44,
   "id": "757e455e",
   "metadata": {
    "execution": {
     "iopub.execute_input": "2022-08-19T08:17:30.794375Z",
     "iopub.status.busy": "2022-08-19T08:17:30.793878Z",
     "iopub.status.idle": "2022-08-19T08:17:30.831901Z",
     "shell.execute_reply": "2022-08-19T08:17:30.831457Z"
    }
   },
   "outputs": [
    {
     "data": {
      "image/svg+xml": [
       "<?xml version=\"1.0\" encoding=\"UTF-8\" standalone=\"no\"?><svg xmlns=\"http://www.w3.org/2000/svg\" xmlns:xlink=\"http://www.w3.org/1999/xlink\" contentScriptType=\"application/ecmascript\" contentStyleType=\"text/css\" height=\"818px\" preserveAspectRatio=\"none\" style=\"width:270px;height:818px;\" version=\"1.1\" viewBox=\"0 0 270 818\" width=\"270px\" zoomAndPan=\"magnify\"><defs/><g><!--MD5=[fbc87193dbaf4d95561dea2c320d4a47]\n",
       "cluster E1--><a href=\"psysml:ae8f2d08-e2f6-41ef-ae81-a483692b435b\" target=\"_top\" title=\"psysml:ae8f2d08-e2f6-41ef-ae81-a483692b435b\" xlink:actuate=\"onRequest\" xlink:href=\"psysml:ae8f2d08-e2f6-41ef-ae81-a483692b435b\" xlink:show=\"new\" xlink:title=\"psysml:ae8f2d08-e2f6-41ef-ae81-a483692b435b\" xlink:type=\"simple\"><polygon fill=\"#FFFFFF\" points=\"16,6,83,6,90,28.2969,248,28.2969,248,806,16,806,16,6\" style=\"stroke: #000000; stroke-width: 1.5;\"/><line style=\"stroke: #000000; stroke-width: 1.5;\" x1=\"16\" x2=\"90\" y1=\"28.2969\" y2=\"28.2969\"/><text fill=\"#000000\" font-family=\"sans-serif\" font-size=\"14\" font-weight=\"bold\" lengthAdjust=\"spacingAndGlyphs\" textLength=\"61\" x=\"20\" y=\"20.9951\">ItemTest</text></a><!--MD5=[b4997ac47864f28c2f74865a473b2911]\n",
       "class E2--><a href=\"psysml:cbd0bd62-e912-4912-a2fb-da1e68d4f615\" target=\"_top\" title=\"psysml:cbd0bd62-e912-4912-a2fb-da1e68d4f615\" xlink:actuate=\"onRequest\" xlink:href=\"psysml:cbd0bd62-e912-4912-a2fb-da1e68d4f615\" xlink:show=\"new\" xlink:title=\"psysml:cbd0bd62-e912-4912-a2fb-da1e68d4f615\" xlink:type=\"simple\"><rect fill=\"#FFFFFF\" height=\"45.9375\" id=\"E2\" rx=\"10\" ry=\"10\" style=\"stroke: #383838; stroke-width: 1.5;\" width=\"43\" x=\"188.5\" y=\"148\"/><text fill=\"#000000\" font-family=\"sans-serif\" font-size=\"12\" font-style=\"italic\" lengthAdjust=\"spacingAndGlyphs\" textLength=\"41\" x=\"189.5\" y=\"164.1387\">«item»</text><text fill=\"#000000\" font-family=\"sans-serif\" font-size=\"12\" lengthAdjust=\"spacingAndGlyphs\" textLength=\"20\" x=\"198\" y=\"178.1074\">f: A</text><line style=\"stroke: #383838; stroke-width: 1.5;\" x1=\"189.5\" x2=\"230.5\" y1=\"185.9375\" y2=\"185.9375\"/></a><!--MD5=[09b614a08d8cba4a07c9adeb5e0fee81]\n",
       "class E3--><a href=\"psysml:2b189b42-edf1-49d6-a72b-40b548d68a1d\" target=\"_top\" title=\"psysml:2b189b42-edf1-49d6-a72b-40b548d68a1d\" xlink:actuate=\"onRequest\" xlink:href=\"psysml:2b189b42-edf1-49d6-a72b-40b548d68a1d\" xlink:show=\"new\" xlink:title=\"psysml:2b189b42-edf1-49d6-a72b-40b548d68a1d\" xlink:type=\"simple\"><rect fill=\"#FFFFFF\" height=\"45.9375\" id=\"E3\" style=\"stroke: #383838; stroke-width: 1.5;\" width=\"71\" x=\"96.5\" y=\"255\"/><text fill=\"#000000\" font-family=\"sans-serif\" font-size=\"12\" font-style=\"italic\" lengthAdjust=\"spacingAndGlyphs\" textLength=\"69\" x=\"97.5\" y=\"271.1387\">«item  def»</text><text fill=\"#000000\" font-family=\"sans-serif\" font-size=\"12\" lengthAdjust=\"spacingAndGlyphs\" textLength=\"8\" x=\"128\" y=\"285.1074\">A</text><line style=\"stroke: #383838; stroke-width: 1.5;\" x1=\"97.5\" x2=\"166.5\" y1=\"292.9375\" y2=\"292.9375\"/></a><!--MD5=[ebbe1d658d1005bcc118a6aa81145e00]\n",
       "class E4--><a href=\"psysml:94aeed99-fa0f-4cf3-9a3c-c07fcd3df143\" target=\"_top\" title=\"psysml:94aeed99-fa0f-4cf3-9a3c-c07fcd3df143\" xlink:actuate=\"onRequest\" xlink:href=\"psysml:94aeed99-fa0f-4cf3-9a3c-c07fcd3df143\" xlink:show=\"new\" xlink:title=\"psysml:94aeed99-fa0f-4cf3-9a3c-c07fcd3df143\" xlink:type=\"simple\"><rect fill=\"#FFFFFF\" height=\"45.9375\" id=\"E4\" rx=\"10\" ry=\"10\" style=\"stroke: #383838; stroke-width: 1.5;\" width=\"43\" x=\"45.5\" y=\"438\"/><text fill=\"#000000\" font-family=\"sans-serif\" font-size=\"12\" font-style=\"italic\" lengthAdjust=\"spacingAndGlyphs\" textLength=\"41\" x=\"46.5\" y=\"454.1387\">«item»</text><text fill=\"#000000\" font-family=\"sans-serif\" font-size=\"12\" lengthAdjust=\"spacingAndGlyphs\" textLength=\"24\" x=\"53\" y=\"468.1074\">b: B</text><line style=\"stroke: #383838; stroke-width: 1.5;\" x1=\"46.5\" x2=\"87.5\" y1=\"475.9375\" y2=\"475.9375\"/></a><!--MD5=[270fce915f116d4de14055a7c1d9a0f3]\n",
       "class E5--><a href=\"psysml:74f7fd5f-8520-4aae-9a17-942775661558\" target=\"_top\" title=\"psysml:74f7fd5f-8520-4aae-9a17-942775661558\" xlink:actuate=\"onRequest\" xlink:href=\"psysml:74f7fd5f-8520-4aae-9a17-942775661558\" xlink:show=\"new\" xlink:title=\"psysml:74f7fd5f-8520-4aae-9a17-942775661558\" xlink:type=\"simple\"><rect fill=\"#FFFFFF\" height=\"45.9375\" id=\"E5\" rx=\"10\" ry=\"10\" style=\"stroke: #383838; stroke-width: 1.5;\" width=\"42\" x=\"151\" y=\"362\"/><text fill=\"#000000\" font-family=\"sans-serif\" font-size=\"12\" font-style=\"italic\" lengthAdjust=\"spacingAndGlyphs\" textLength=\"40\" x=\"152\" y=\"378.1387\">«part»</text><text fill=\"#000000\" font-family=\"sans-serif\" font-size=\"12\" lengthAdjust=\"spacingAndGlyphs\" textLength=\"23\" x=\"158.5\" y=\"392.1074\">c: C</text><line style=\"stroke: #383838; stroke-width: 1.5;\" x1=\"152\" x2=\"192\" y1=\"399.9375\" y2=\"399.9375\"/></a><!--MD5=[60a26617385b1d2d0262a64233df1f8d]\n",
       "class E6--><a href=\"psysml:f1885442-e1dd-46d9-92aa-2427019de9de\" target=\"_top\" title=\"psysml:f1885442-e1dd-46d9-92aa-2427019de9de\" xlink:actuate=\"onRequest\" xlink:href=\"psysml:f1885442-e1dd-46d9-92aa-2427019de9de\" xlink:show=\"new\" xlink:title=\"psysml:f1885442-e1dd-46d9-92aa-2427019de9de\" xlink:type=\"simple\"><rect fill=\"#FFFFFF\" height=\"45.9375\" id=\"E6\" style=\"stroke: #383838; stroke-width: 1.5;\" width=\"71\" x=\"112.5\" y=\"637\"/><text fill=\"#000000\" font-family=\"sans-serif\" font-size=\"12\" font-style=\"italic\" lengthAdjust=\"spacingAndGlyphs\" textLength=\"69\" x=\"113.5\" y=\"653.1387\">«item  def»</text><text fill=\"#000000\" font-family=\"sans-serif\" font-size=\"12\" font-style=\"italic\" lengthAdjust=\"spacingAndGlyphs\" textLength=\"8\" x=\"144\" y=\"667.1074\">B</text><line style=\"stroke: #383838; stroke-width: 1.5;\" x1=\"113.5\" x2=\"182.5\" y1=\"674.9375\" y2=\"674.9375\"/></a><!--MD5=[2156ba9850f5573cc1fc38a6a4b2f02b]\n",
       "class E7--><a href=\"psysml:cc0b7000-21b2-4abb-bead-e88feeed0b85\" target=\"_top\" title=\"psysml:cc0b7000-21b2-4abb-bead-e88feeed0b85\" xlink:actuate=\"onRequest\" xlink:href=\"psysml:cc0b7000-21b2-4abb-bead-e88feeed0b85\" xlink:show=\"new\" xlink:title=\"psysml:cc0b7000-21b2-4abb-bead-e88feeed0b85\" xlink:type=\"simple\"><rect fill=\"#FFFFFF\" height=\"45.9375\" id=\"E7\" rx=\"10\" ry=\"10\" style=\"stroke: #383838; stroke-width: 1.5;\" width=\"42\" x=\"159\" y=\"744\"/><text fill=\"#000000\" font-family=\"sans-serif\" font-size=\"12\" font-style=\"italic\" lengthAdjust=\"spacingAndGlyphs\" textLength=\"40\" x=\"160\" y=\"760.1387\">«part»</text><text fill=\"#000000\" font-family=\"sans-serif\" font-size=\"12\" font-style=\"italic\" lengthAdjust=\"spacingAndGlyphs\" textLength=\"8\" x=\"166\" y=\"774.1074\">a</text><text fill=\"#000000\" font-family=\"sans-serif\" font-size=\"12\" lengthAdjust=\"spacingAndGlyphs\" textLength=\"16\" x=\"174\" y=\"774.1074\">: A</text><line style=\"stroke: #383838; stroke-width: 1.5;\" x1=\"160\" x2=\"200\" y1=\"781.9375\" y2=\"781.9375\"/></a><!--MD5=[b9389687b975829384b498ac4b7476b2]\n",
       "class E8--><a href=\"psysml:6db780a5-cf23-40f2-9df9-03150cb096d0\" target=\"_top\" title=\"psysml:6db780a5-cf23-40f2-9df9-03150cb096d0\" xlink:actuate=\"onRequest\" xlink:href=\"psysml:6db780a5-cf23-40f2-9df9-03150cb096d0\" xlink:show=\"new\" xlink:title=\"psysml:6db780a5-cf23-40f2-9df9-03150cb096d0\" xlink:type=\"simple\"><rect fill=\"#FFFFFF\" height=\"45.9375\" id=\"E8\" style=\"stroke: #383838; stroke-width: 1.5;\" width=\"70\" x=\"113\" y=\"514\"/><text fill=\"#000000\" font-family=\"sans-serif\" font-size=\"12\" font-style=\"italic\" lengthAdjust=\"spacingAndGlyphs\" textLength=\"68\" x=\"114\" y=\"530.1387\">«part  def»</text><text fill=\"#000000\" font-family=\"sans-serif\" font-size=\"12\" lengthAdjust=\"spacingAndGlyphs\" textLength=\"8\" x=\"144\" y=\"544.1074\">C</text><line style=\"stroke: #383838; stroke-width: 1.5;\" x1=\"114\" x2=\"182\" y1=\"551.9375\" y2=\"551.9375\"/></a><!--MD5=[fd4143e9d270a159db93a4ea2a975926]\n",
       "class E9--><a href=\"psysml:587854cf-6fe1-483d-a698-c7fca9a0c13c\" target=\"_top\" title=\"psysml:587854cf-6fe1-483d-a698-c7fca9a0c13c\" xlink:actuate=\"onRequest\" xlink:href=\"psysml:587854cf-6fe1-483d-a698-c7fca9a0c13c\" xlink:show=\"new\" xlink:title=\"psysml:587854cf-6fe1-483d-a698-c7fca9a0c13c\" xlink:type=\"simple\"><rect fill=\"#FFFFFF\" height=\"45.9375\" id=\"E9\" style=\"stroke: #383838; stroke-width: 1.5;\" width=\"70\" x=\"64\" y=\"41\"/><text fill=\"#000000\" font-family=\"sans-serif\" font-size=\"12\" font-style=\"italic\" lengthAdjust=\"spacingAndGlyphs\" textLength=\"68\" x=\"65\" y=\"57.1387\">«port  def»</text><text fill=\"#000000\" font-family=\"sans-serif\" font-size=\"12\" lengthAdjust=\"spacingAndGlyphs\" textLength=\"8\" x=\"95\" y=\"71.1074\">P</text><line style=\"stroke: #383838; stroke-width: 1.5;\" x1=\"65\" x2=\"133\" y1=\"78.9375\" y2=\"78.9375\"/></a><!--MD5=[96f4274e9e20536e775497830990834d]\n",
       "class E10--><a href=\"psysml:f73739ed-5364-4403-8254-d4f943238dfa\" target=\"_top\" title=\"psysml:f73739ed-5364-4403-8254-d4f943238dfa\" xlink:actuate=\"onRequest\" xlink:href=\"psysml:f73739ed-5364-4403-8254-d4f943238dfa\" xlink:show=\"new\" xlink:title=\"psysml:f73739ed-5364-4403-8254-d4f943238dfa\" xlink:type=\"simple\"><rect fill=\"#FFFFFF\" height=\"45.9375\" id=\"E10\" rx=\"10\" ry=\"10\" style=\"stroke: #383838; stroke-width: 1.5;\" width=\"43\" x=\"32.5\" y=\"148\"/><text fill=\"#000000\" font-family=\"sans-serif\" font-size=\"12\" font-style=\"italic\" lengthAdjust=\"spacingAndGlyphs\" textLength=\"41\" x=\"33.5\" y=\"164.1387\">«item»</text><text fill=\"#000000\" font-family=\"sans-serif\" font-size=\"12\" lengthAdjust=\"spacingAndGlyphs\" textLength=\"32\" x=\"36\" y=\"178.1074\">a1: A</text><line style=\"stroke: #383838; stroke-width: 1.5;\" x1=\"33.5\" x2=\"74.5\" y1=\"185.9375\" y2=\"185.9375\"/></a><!--MD5=[1dd1bfd58a279cf63c5f349dbc8fc6a1]\n",
       "class E11--><a href=\"psysml:6a7a2def-0eff-4194-80a2-af7f6b4a129e\" target=\"_top\" title=\"psysml:6a7a2def-0eff-4194-80a2-af7f6b4a129e\" xlink:actuate=\"onRequest\" xlink:href=\"psysml:6a7a2def-0eff-4194-80a2-af7f6b4a129e\" xlink:show=\"new\" xlink:title=\"psysml:6a7a2def-0eff-4194-80a2-af7f6b4a129e\" xlink:type=\"simple\"><rect fill=\"#FFFFFF\" height=\"45.9375\" id=\"E11\" rx=\"10\" ry=\"10\" style=\"stroke: #383838; stroke-width: 1.5;\" width=\"43\" x=\"110.5\" y=\"148\"/><text fill=\"#000000\" font-family=\"sans-serif\" font-size=\"12\" font-style=\"italic\" lengthAdjust=\"spacingAndGlyphs\" textLength=\"41\" x=\"111.5\" y=\"164.1387\">«item»</text><text fill=\"#000000\" font-family=\"sans-serif\" font-size=\"12\" lengthAdjust=\"spacingAndGlyphs\" textLength=\"32\" x=\"114\" y=\"178.1074\">a2: A</text><line style=\"stroke: #383838; stroke-width: 1.5;\" x1=\"111.5\" x2=\"152.5\" y1=\"185.9375\" y2=\"185.9375\"/></a><!--MD5=[2720a5a1f2c3fca2055b230370638851]\n",
       "link E2 to E3--><a href=\"psysml:8851b494-fad9-483d-8771-6e667cb982eb\" target=\"_top\" title=\"psysml:8851b494-fad9-483d-8771-6e667cb982eb\" xlink:actuate=\"onRequest\" xlink:href=\"psysml:8851b494-fad9-483d-8771-6e667cb982eb\" xlink:show=\"new\" xlink:title=\"psysml:8851b494-fad9-483d-8771-6e667cb982eb\" xlink:type=\"simple\"><path d=\"M193.65,194.01 C184.14,206.81 171.89,223.3 160.82,238.2 \" fill=\"none\" id=\"E2-&gt;E3\" style=\"stroke: #383838; stroke-width: 1.0;\"/><polygon fill=\"#FFFFFF\" points=\"148.6,254.66,154.3195,235.2361,165.5543,243.5896,148.6,254.66\" style=\"stroke: #383838; stroke-width: 1.0;\"/><ellipse cx=\"159.3256\" cy=\"231.8554\" fill=\"#383838\" rx=\"2\" ry=\"2\" style=\"stroke: #383838; stroke-width: 1.0;\"/><ellipse cx=\"167.3504\" cy=\"237.8221\" fill=\"#383838\" rx=\"2\" ry=\"2\" style=\"stroke: #383838; stroke-width: 1.0;\"/></a><!--MD5=[4672eba38e49728da53d11aeb285b987]\n",
       "reverse link E3 to E4--><a href=\"psysml:bbc4490d-4884-4bf2-8394-3cd2641c3130\" target=\"_top\" title=\"psysml:bbc4490d-4884-4bf2-8394-3cd2641c3130\" xlink:actuate=\"onRequest\" xlink:href=\"psysml:bbc4490d-4884-4bf2-8394-3cd2641c3130\" xlink:show=\"new\" xlink:title=\"psysml:bbc4490d-4884-4bf2-8394-3cd2641c3130\" xlink:type=\"simple\"><path d=\"M97.11,310.9 C84.08,325.11 70.81,342.94 64,362 C55.12,386.85 58.09,417.53 61.82,437.88 \" fill=\"none\" id=\"E3&lt;-E4\" style=\"stroke: #383838; stroke-width: 1.0;\"/><polygon fill=\"#FFFFFF\" points=\"106.46,301.23,99.4153,302.7703,98.1277,309.8655,105.1724,308.3252,106.46,301.23\" style=\"stroke: #383838; stroke-width: 1.0;\"/><text fill=\"#000000\" font-family=\"sans-serif\" font-size=\"13\" lengthAdjust=\"spacingAndGlyphs\" textLength=\"8\" x=\"51.3529\" y=\"426.744\">1</text></a><!--MD5=[191cde3d490a3f6d7bb551fe3ddca469]\n",
       "reverse link E3 to E5--><a href=\"psysml:896e58a4-3d4e-4523-9980-c4907a158d3f\" target=\"_top\" title=\"psysml:896e58a4-3d4e-4523-9980-c4907a158d3f\" xlink:actuate=\"onRequest\" xlink:href=\"psysml:896e58a4-3d4e-4523-9980-c4907a158d3f\" xlink:show=\"new\" xlink:title=\"psysml:896e58a4-3d4e-4523-9980-c4907a158d3f\" xlink:type=\"simple\"><path d=\"M145.17,313.57 C151.2,329.39 158.16,347.68 163.49,361.66 \" fill=\"none\" id=\"E3&lt;-E5\" style=\"stroke: #383838; stroke-width: 1.0;\"/><polygon fill=\"#FFFFFF\" points=\"140.39,301.01,138.7866,308.0406,144.6598,312.2247,146.2631,305.1941,140.39,301.01\" style=\"stroke: #383838; stroke-width: 1.0;\"/><text fill=\"#000000\" font-family=\"sans-serif\" font-size=\"13\" lengthAdjust=\"spacingAndGlyphs\" textLength=\"8\" x=\"152.2843\" y=\"350.8492\">1</text></a><!--MD5=[79568f1e445c3877b6a54524624ccc7d]\n",
       "link E4 to E6--><a href=\"psysml:ae089d5e-98d2-4386-a1f6-d9056ad7f1db\" target=\"_top\" title=\"psysml:ae089d5e-98d2-4386-a1f6-d9056ad7f1db\" xlink:actuate=\"onRequest\" xlink:href=\"psysml:ae089d5e-98d2-4386-a1f6-d9056ad7f1db\" xlink:show=\"new\" xlink:title=\"psysml:ae089d5e-98d2-4386-a1f6-d9056ad7f1db\" xlink:type=\"simple\"><path d=\"M72.25,484.22 C77.31,504.36 85.72,534.68 96,560 C104.15,580.08 115.08,601.47 124.82,619.21 \" fill=\"none\" id=\"E4-&gt;E6\" style=\"stroke: #383838; stroke-width: 1.0;\"/><polygon fill=\"#FFFFFF\" points=\"134.72,636.8,119.2979,623.6791,131.4967,616.8097,134.72,636.8\" style=\"stroke: #383838; stroke-width: 1.0;\"/><ellipse cx=\"118.2438\" cy=\"617.7311\" fill=\"#383838\" rx=\"2\" ry=\"2\" style=\"stroke: #383838; stroke-width: 1.0;\"/><ellipse cx=\"126.9572\" cy=\"612.8244\" fill=\"#383838\" rx=\"2\" ry=\"2\" style=\"stroke: #383838; stroke-width: 1.0;\"/></a><!--MD5=[3f50a3473f1dfb74d3f76443e03635af]\n",
       "reverse link E6 to E7--><a href=\"psysml:f93e67a1-8e91-4b72-abc4-aff48dcc0ebf\" target=\"_top\" title=\"psysml:f93e67a1-8e91-4b72-abc4-aff48dcc0ebf\" xlink:actuate=\"onRequest\" xlink:href=\"psysml:f93e67a1-8e91-4b72-abc4-aff48dcc0ebf\" xlink:show=\"new\" xlink:title=\"psysml:f93e67a1-8e91-4b72-abc4-aff48dcc0ebf\" xlink:type=\"simple\"><path d=\"M158.54,695.57 C163.36,711.39 168.93,729.68 173.19,743.66 \" fill=\"none\" id=\"E6&lt;-E7\" style=\"stroke: #383838; stroke-width: 1.0;\"/><polygon fill=\"#FFFFFF\" points=\"154.71,683.01,152.6319,689.9152,158.2066,694.4893,160.2847,687.5841,154.71,683.01\" style=\"stroke: #383838; stroke-width: 1.0;\"/><text fill=\"#000000\" font-family=\"sans-serif\" font-size=\"13\" lengthAdjust=\"spacingAndGlyphs\" textLength=\"8\" x=\"162.4199\" y=\"732.8492\">1</text></a><!--MD5=[14ccda38c055a5c0da953d572bc50960]\n",
       "link E7 to E3--><a href=\"psysml:729e96ed-f9a8-4349-a416-61bf2a977bd8\" target=\"_top\" title=\"psysml:729e96ed-f9a8-4349-a416-61bf2a977bd8\" xlink:actuate=\"onRequest\" xlink:href=\"psysml:729e96ed-f9a8-4349-a416-61bf2a977bd8\" xlink:show=\"new\" xlink:title=\"psysml:729e96ed-f9a8-4349-a416-61bf2a977bd8\" xlink:type=\"simple\"><path d=\"M197.41,743.63 C211.5,723.27 229,691.78 229,661 C229,384 229,384 229,384 C229,353.7 206.93,328.42 183.85,310.26 \" fill=\"none\" id=\"E7-&gt;E3\" style=\"stroke: #383838; stroke-width: 1.0;\"/><polygon fill=\"#FFFFFF\" points=\"167.57,298.59,187.0929,303.9617,178.9414,315.3438,167.57,298.59\" style=\"stroke: #383838; stroke-width: 1.0;\"/><ellipse cx=\"190.5626\" cy=\"308.9066\" fill=\"#383838\" rx=\"2\" ry=\"2\" style=\"stroke: #383838; stroke-width: 1.0;\"/><ellipse cx=\"184.7401\" cy=\"317.0367\" fill=\"#383838\" rx=\"2\" ry=\"2\" style=\"stroke: #383838; stroke-width: 1.0;\"/></a><!--MD5=[dfaffb906826c3e5aca635516100ff21]\n",
       "link E5 to E8--><a href=\"psysml:8b27b07a-ba61-4df4-814a-c4b9eba72255\" target=\"_top\" title=\"psysml:8b27b07a-ba61-4df4-814a-c4b9eba72255\" xlink:actuate=\"onRequest\" xlink:href=\"psysml:8b27b07a-ba61-4df4-814a-c4b9eba72255\" xlink:show=\"new\" xlink:title=\"psysml:8b27b07a-ba61-4df4-814a-c4b9eba72255\" xlink:type=\"simple\"><path d=\"M168.46,408.13 C164.86,430.62 159.2,466.01 154.74,493.87 \" fill=\"none\" id=\"E5-&gt;E8\" style=\"stroke: #383838; stroke-width: 1.0;\"/><polygon fill=\"#FFFFFF\" points=\"151.56,513.78,147.6458,493.9135,161.4704,496.1226,151.56,513.78\" style=\"stroke: #383838; stroke-width: 1.0;\"/><ellipse cx=\"150.5202\" cy=\"488.6005\" fill=\"#383838\" rx=\"2\" ry=\"2\" style=\"stroke: #383838; stroke-width: 1.0;\"/><ellipse cx=\"160.3949\" cy=\"490.1784\" fill=\"#383838\" rx=\"2\" ry=\"2\" style=\"stroke: #383838; stroke-width: 1.0;\"/></a><!--MD5=[03c8294790d3c57651a1993cecff665f]\n",
       "reverse link E8 to E3--><a href=\"psysml:2fa26767-edf9-4f1d-8702-6d0b4fb1afcf\" target=\"_top\" title=\"psysml:2fa26767-edf9-4f1d-8702-6d0b4fb1afcf\" xlink:actuate=\"onRequest\" xlink:href=\"psysml:2fa26767-edf9-4f1d-8702-6d0b4fb1afcf\" xlink:show=\"new\" xlink:title=\"psysml:2fa26767-edf9-4f1d-8702-6d0b4fb1afcf\" xlink:type=\"simple\"><path d=\"M140.02,501.22 C134.57,475.6 127.84,439.84 125,408 C123.18,387.64 124.14,382.43 125,362 C125.87,341.34 127.95,317.86 129.62,301.16 \" fill=\"none\" id=\"E8&lt;-E3\" style=\"stroke: #383838; stroke-width: 1.0;\"/><polygon fill=\"#FFFFFF\" points=\"142.81,513.96,145.4388,507.2451,140.2515,502.2359,137.6227,508.9508,142.81,513.96\" style=\"stroke: #383838; stroke-width: 1.0;\"/><text fill=\"#000000\" font-family=\"sans-serif\" font-size=\"13\" lengthAdjust=\"spacingAndGlyphs\" textLength=\"7\" x=\"126\" y=\"389.5669\">y</text></a><!--MD5=[0d75d2178373a6a4568e5dc728f58aef]\n",
       "reverse link E8 to E6--><a href=\"psysml:2fa26767-edf9-4f1d-8702-6d0b4fb1afcf\" target=\"_top\" title=\"psysml:2fa26767-edf9-4f1d-8702-6d0b4fb1afcf\" xlink:actuate=\"onRequest\" xlink:href=\"psysml:2fa26767-edf9-4f1d-8702-6d0b4fb1afcf\" xlink:show=\"new\" xlink:title=\"psysml:2fa26767-edf9-4f1d-8702-6d0b4fb1afcf\" xlink:type=\"simple\"><path d=\"M148,573.22 C148,593.81 148,619.16 148,636.95 \" fill=\"none\" id=\"E8&lt;-E6\" style=\"stroke: #383838; stroke-width: 1.0;\"/><polygon fill=\"#FFFFFF\" points=\"148,560.19,144,566.19,148,572.19,152,566.19,148,560.19\" style=\"stroke: #383838; stroke-width: 1.0;\"/><text fill=\"#000000\" font-family=\"sans-serif\" font-size=\"13\" lengthAdjust=\"spacingAndGlyphs\" textLength=\"7\" x=\"149\" y=\"603.0669\">y</text></a><!--MD5=[23ac544a70576c3e717098101004234c]\n",
       "reverse link E9 to E10--><a href=\"psysml:2a8d2925-3f72-4e1c-849d-9e3943fa1d15\" target=\"_top\" title=\"psysml:2a8d2925-3f72-4e1c-849d-9e3943fa1d15\" xlink:actuate=\"onRequest\" xlink:href=\"psysml:2a8d2925-3f72-4e1c-849d-9e3943fa1d15\" xlink:show=\"new\" xlink:title=\"psysml:2a8d2925-3f72-4e1c-849d-9e3943fa1d15\" xlink:type=\"simple\"><path d=\"M84.39,99.1 C77.56,115.03 69.63,133.54 63.58,147.66 \" fill=\"none\" id=\"E9&lt;-E10\" style=\"stroke: #383838; stroke-width: 1.0;\"/><polygon fill=\"#FFFFFF\" points=\"89.57,87.01,83.5327,90.9535,84.8509,98.0431,90.8882,94.0996,89.57,87.01\" style=\"stroke: #383838; stroke-width: 1.0;\"/><text fill=\"#000000\" font-family=\"sans-serif\" font-size=\"13\" lengthAdjust=\"spacingAndGlyphs\" textLength=\"8\" x=\"57.0099\" y=\"136.8492\">1</text></a><!--MD5=[feeac5eb423634930294aa81f2d25a4c]\n",
       "link E10 to E3--><a href=\"psysml:be0eb1db-3a2d-4525-bfbd-aed22db095bf\" target=\"_top\" title=\"psysml:be0eb1db-3a2d-4525-bfbd-aed22db095bf\" xlink:actuate=\"onRequest\" xlink:href=\"psysml:be0eb1db-3a2d-4525-bfbd-aed22db095bf\" xlink:show=\"new\" xlink:title=\"psysml:be0eb1db-3a2d-4525-bfbd-aed22db095bf\" xlink:type=\"simple\"><path d=\"M70.35,194.01 C79.86,206.81 92.11,223.3 103.18,238.2 \" fill=\"none\" id=\"E10-&gt;E3\" style=\"stroke: #383838; stroke-width: 1.0;\"/><polygon fill=\"#FFFFFF\" points=\"115.4,254.66,98.4457,243.5896,109.6805,235.2361,115.4,254.66\" style=\"stroke: #383838; stroke-width: 1.0;\"/><ellipse cx=\"96.6496\" cy=\"237.8221\" fill=\"#383838\" rx=\"2\" ry=\"2\" style=\"stroke: #383838; stroke-width: 1.0;\"/><ellipse cx=\"104.6744\" cy=\"231.8554\" fill=\"#383838\" rx=\"2\" ry=\"2\" style=\"stroke: #383838; stroke-width: 1.0;\"/></a><!--MD5=[1fc04a95fd77ad5ce46c1a3027516051]\n",
       "reverse link E9 to E11--><a href=\"psysml:4a4899a0-cca2-49ff-ba55-d15caf476c4f\" target=\"_top\" title=\"psysml:4a4899a0-cca2-49ff-ba55-d15caf476c4f\" xlink:actuate=\"onRequest\" xlink:href=\"psysml:4a4899a0-cca2-49ff-ba55-d15caf476c4f\" xlink:show=\"new\" xlink:title=\"psysml:4a4899a0-cca2-49ff-ba55-d15caf476c4f\" xlink:type=\"simple\"><path d=\"M109.87,99.57 C114.84,115.39 120.59,133.68 124.98,147.66 \" fill=\"none\" id=\"E9&lt;-E11\" style=\"stroke: #383838; stroke-width: 1.0;\"/><polygon fill=\"#FFFFFF\" points=\"105.92,87.01,103.9044,93.9337,109.5203,98.4572,111.5359,91.5335,105.92,87.01\" style=\"stroke: #383838; stroke-width: 1.0;\"/><text fill=\"#000000\" font-family=\"sans-serif\" font-size=\"13\" lengthAdjust=\"spacingAndGlyphs\" textLength=\"8\" x=\"114.1561\" y=\"136.8492\">1</text></a><!--MD5=[0517f1ce58c4d5483948f93845c45e26]\n",
       "link E11 to E3--><a href=\"psysml:8ddae6f0-112f-4ded-9c4d-74dd6bca1f55\" target=\"_top\" title=\"psysml:8ddae6f0-112f-4ded-9c4d-74dd6bca1f55\" xlink:actuate=\"onRequest\" xlink:href=\"psysml:8ddae6f0-112f-4ded-9c4d-74dd6bca1f55\" xlink:show=\"new\" xlink:title=\"psysml:8ddae6f0-112f-4ded-9c4d-74dd6bca1f55\" xlink:type=\"simple\"><path d=\"M132,194.01 C132,205.69 132,220.46 132,234.28 \" fill=\"none\" id=\"E11-&gt;E3\" style=\"stroke: #383838; stroke-width: 1.0;\"/><polygon fill=\"#FFFFFF\" points=\"132,254.66,125,235.66,139,235.66,132,254.66\" style=\"stroke: #383838; stroke-width: 1.0;\"/><ellipse cx=\"127\" cy=\"229.96\" fill=\"#383838\" rx=\"2\" ry=\"2\" style=\"stroke: #383838; stroke-width: 1.0;\"/><ellipse cx=\"137\" cy=\"229.96\" fill=\"#383838\" rx=\"2\" ry=\"2\" style=\"stroke: #383838; stroke-width: 1.0;\"/></a><!--MD5=[29e7ab5e1732d0acfb39fc75436e3c5f]\n",
       "@startuml\r\n",
       "top to bottom direction\r\n",
       "skinparam monochrome true\r\n",
       "skinparam classbackgroundcolor white\r\n",
       "skinparam shadowing false\r\n",
       "skinparam wrapWidth 300\r\n",
       "hide circle\r\n",
       "\r\n",
       "package \"ItemTest\" as E1  [[psysml:ae8f2d08-e2f6-41ef-ae81-a483692b435b ]]  {\r\n",
       "comp usage \"f: A \" as E2  <<(T,blue) item>> [[psysml:cbd0bd62-e912-4912-a2fb-da1e68d4f615 ]] {\r\n",
       "}\r\n",
       "comp def \"A\" as E3  <<(T,blue) item  def>> [[psysml:2b189b42-edf1-49d6-a72b-40b548d68a1d ]] {\r\n",
       "}\r\n",
       "comp usage \"b: B \" as E4  <<(T,blue) item>> [[psysml:94aeed99-fa0f-4cf3-9a3c-c07fcd3df143 ]] {\r\n",
       "}\r\n",
       "comp usage \"c: C \" as E5  <<(T,blue) part>> [[psysml:74f7fd5f-8520-4aae-9a17-942775661558 ]] {\r\n",
       "}\r\n",
       "comp def \"<i>B</i>\" as E6  <<(T,blue) item  def>> [[psysml:f1885442-e1dd-46d9-92aa-2427019de9de ]] {\r\n",
       "}\r\n",
       "comp usage \"<i>a</i>: A \" as E7  <<(T,blue) part>> [[psysml:cc0b7000-21b2-4abb-bead-e88feeed0b85 ]] {\r\n",
       "}\r\n",
       "comp def \"C\" as E8  <<(T,blue) part  def>> [[psysml:6db780a5-cf23-40f2-9df9-03150cb096d0 ]] {\r\n",
       "}\r\n",
       "comp def \"P\" as E9  <<(T,blue) port  def>> [[psysml:587854cf-6fe1-483d-a698-c7fca9a0c13c ]] {\r\n",
       "}\r\n",
       "comp usage \"a1: A \" as E10  <<(T,blue) item>> [[psysml:f73739ed-5364-4403-8254-d4f943238dfa ]] {\r\n",
       "}\r\n",
       "comp usage \"a2: A \" as E11  <<(T,blue) item>> [[psysml:6a7a2def-0eff-4194-80a2-af7f6b4a129e ]] {\r\n",
       "}\r\n",
       "}\r\n",
       "E2 - -:|> E3 [[psysml:8851b494-fad9-483d-8771-6e667cb982eb ]] \r\n",
       "E3 o- - \"1\"E4 [[psysml:bbc4490d-4884-4bf2-8394-3cd2641c3130 ]] \r\n",
       "E3 o- - \"1\"E5 [[psysml:896e58a4-3d4e-4523-9980-c4907a158d3f ]] \r\n",
       "E4 - -:|> E6 [[psysml:ae089d5e-98d2-4386-a1f6-d9056ad7f1db ]] \r\n",
       "E6 o- - \"1\"E7 [[psysml:f93e67a1-8e91-4b72-abc4-aff48dcc0ebf ]] \r\n",
       "E7 - -:|> E3 [[psysml:729e96ed-f9a8-4349-a416-61bf2a977bd8 ]] \r\n",
       "E5 - -:|> E8 [[psysml:8b27b07a-ba61-4df4-814a-c4b9eba72255 ]] \r\n",
       "E8 o- - E3 [[psysml:2fa26767-edf9-4f1d-8702-6d0b4fb1afcf ]] : y\r\n",
       "E8 o- - E6 [[psysml:2fa26767-edf9-4f1d-8702-6d0b4fb1afcf ]] : y\r\n",
       "E9 o- - \"1\"E10 [[psysml:2a8d2925-3f72-4e1c-849d-9e3943fa1d15 ]] \r\n",
       "E10 - -:|> E3 [[psysml:be0eb1db-3a2d-4525-bfbd-aed22db095bf ]] \r\n",
       "E9 o- - \"1\"E11 [[psysml:4a4899a0-cca2-49ff-ba55-d15caf476c4f ]] \r\n",
       "E11 - -:|> E3 [[psysml:8ddae6f0-112f-4ded-9c4d-74dd6bca1f55 ]] \r\n",
       "@enduml\r\n",
       "\n",
       "PlantUML version 1.2020.13(Sat Jun 13 12:26:38 UTC 2020)\n",
       "(EPL source distribution)\n",
       "Java Runtime: OpenJDK Runtime Environment\n",
       "JVM: OpenJDK 64-Bit Server VM\n",
       "Default Encoding: UTF-8\n",
       "Language: en\n",
       "Country: null\n",
       "--></g></svg>"
      ]
     },
     "execution_count": 44,
     "metadata": {},
     "output_type": "execute_result"
    }
   ],
   "source": [
    "%viz --style=\"TB\" --view=\"Default\" \"ItemTest\""
   ]
  },
  {
   "cell_type": "code",
   "execution_count": 45,
   "id": "173f71c7",
   "metadata": {
    "execution": {
     "iopub.execute_input": "2022-08-19T08:17:30.881268Z",
     "iopub.status.busy": "2022-08-19T08:17:30.880797Z",
     "iopub.status.idle": "2022-08-19T08:17:30.923875Z",
     "shell.execute_reply": "2022-08-19T08:17:30.922296Z"
    }
   },
   "outputs": [
    {
     "data": {
      "image/svg+xml": [
       "<?xml version=\"1.0\" encoding=\"UTF-8\" standalone=\"no\"?><svg xmlns=\"http://www.w3.org/2000/svg\" xmlns:xlink=\"http://www.w3.org/1999/xlink\" contentScriptType=\"application/ecmascript\" contentStyleType=\"text/css\" height=\"818px\" preserveAspectRatio=\"none\" style=\"width:270px;height:818px;\" version=\"1.1\" viewBox=\"0 0 270 818\" width=\"270px\" zoomAndPan=\"magnify\"><defs/><g><!--MD5=[fbc87193dbaf4d95561dea2c320d4a47]\n",
       "cluster E1--><a href=\"psysml:ae8f2d08-e2f6-41ef-ae81-a483692b435b\" target=\"_top\" title=\"psysml:ae8f2d08-e2f6-41ef-ae81-a483692b435b\" xlink:actuate=\"onRequest\" xlink:href=\"psysml:ae8f2d08-e2f6-41ef-ae81-a483692b435b\" xlink:show=\"new\" xlink:title=\"psysml:ae8f2d08-e2f6-41ef-ae81-a483692b435b\" xlink:type=\"simple\"><polygon fill=\"#FFFFFF\" points=\"16,6,83,6,90,28.2969,248,28.2969,248,806,16,806,16,6\" style=\"stroke: #000000; stroke-width: 1.5;\"/><line style=\"stroke: #000000; stroke-width: 1.5;\" x1=\"16\" x2=\"90\" y1=\"28.2969\" y2=\"28.2969\"/><text fill=\"#000000\" font-family=\"sans-serif\" font-size=\"14\" font-weight=\"bold\" lengthAdjust=\"spacingAndGlyphs\" textLength=\"61\" x=\"20\" y=\"20.9951\">ItemTest</text></a><!--MD5=[b4997ac47864f28c2f74865a473b2911]\n",
       "class E2--><a href=\"psysml:cbd0bd62-e912-4912-a2fb-da1e68d4f615\" target=\"_top\" title=\"psysml:cbd0bd62-e912-4912-a2fb-da1e68d4f615\" xlink:actuate=\"onRequest\" xlink:href=\"psysml:cbd0bd62-e912-4912-a2fb-da1e68d4f615\" xlink:show=\"new\" xlink:title=\"psysml:cbd0bd62-e912-4912-a2fb-da1e68d4f615\" xlink:type=\"simple\"><rect fill=\"#FFFFFF\" height=\"45.9375\" id=\"E2\" rx=\"10\" ry=\"10\" style=\"stroke: #383838; stroke-width: 1.5;\" width=\"43\" x=\"188.5\" y=\"148\"/><text fill=\"#000000\" font-family=\"sans-serif\" font-size=\"12\" font-style=\"italic\" lengthAdjust=\"spacingAndGlyphs\" textLength=\"41\" x=\"189.5\" y=\"164.1387\">«item»</text><text fill=\"#000000\" font-family=\"sans-serif\" font-size=\"12\" lengthAdjust=\"spacingAndGlyphs\" textLength=\"20\" x=\"198\" y=\"178.1074\">f: A</text><line style=\"stroke: #383838; stroke-width: 1.5;\" x1=\"189.5\" x2=\"230.5\" y1=\"185.9375\" y2=\"185.9375\"/></a><!--MD5=[09b614a08d8cba4a07c9adeb5e0fee81]\n",
       "class E3--><a href=\"psysml:2b189b42-edf1-49d6-a72b-40b548d68a1d\" target=\"_top\" title=\"psysml:2b189b42-edf1-49d6-a72b-40b548d68a1d\" xlink:actuate=\"onRequest\" xlink:href=\"psysml:2b189b42-edf1-49d6-a72b-40b548d68a1d\" xlink:show=\"new\" xlink:title=\"psysml:2b189b42-edf1-49d6-a72b-40b548d68a1d\" xlink:type=\"simple\"><rect fill=\"#FFFFFF\" height=\"45.9375\" id=\"E3\" style=\"stroke: #383838; stroke-width: 1.5;\" width=\"71\" x=\"96.5\" y=\"255\"/><text fill=\"#000000\" font-family=\"sans-serif\" font-size=\"12\" font-style=\"italic\" lengthAdjust=\"spacingAndGlyphs\" textLength=\"69\" x=\"97.5\" y=\"271.1387\">«item  def»</text><text fill=\"#000000\" font-family=\"sans-serif\" font-size=\"12\" lengthAdjust=\"spacingAndGlyphs\" textLength=\"8\" x=\"128\" y=\"285.1074\">A</text><line style=\"stroke: #383838; stroke-width: 1.5;\" x1=\"97.5\" x2=\"166.5\" y1=\"292.9375\" y2=\"292.9375\"/></a><!--MD5=[ebbe1d658d1005bcc118a6aa81145e00]\n",
       "class E4--><a href=\"psysml:94aeed99-fa0f-4cf3-9a3c-c07fcd3df143\" target=\"_top\" title=\"psysml:94aeed99-fa0f-4cf3-9a3c-c07fcd3df143\" xlink:actuate=\"onRequest\" xlink:href=\"psysml:94aeed99-fa0f-4cf3-9a3c-c07fcd3df143\" xlink:show=\"new\" xlink:title=\"psysml:94aeed99-fa0f-4cf3-9a3c-c07fcd3df143\" xlink:type=\"simple\"><rect fill=\"#FFFFFF\" height=\"45.9375\" id=\"E4\" rx=\"10\" ry=\"10\" style=\"stroke: #383838; stroke-width: 1.5;\" width=\"43\" x=\"45.5\" y=\"438\"/><text fill=\"#000000\" font-family=\"sans-serif\" font-size=\"12\" font-style=\"italic\" lengthAdjust=\"spacingAndGlyphs\" textLength=\"41\" x=\"46.5\" y=\"454.1387\">«item»</text><text fill=\"#000000\" font-family=\"sans-serif\" font-size=\"12\" lengthAdjust=\"spacingAndGlyphs\" textLength=\"24\" x=\"53\" y=\"468.1074\">b: B</text><line style=\"stroke: #383838; stroke-width: 1.5;\" x1=\"46.5\" x2=\"87.5\" y1=\"475.9375\" y2=\"475.9375\"/></a><!--MD5=[270fce915f116d4de14055a7c1d9a0f3]\n",
       "class E5--><a href=\"psysml:74f7fd5f-8520-4aae-9a17-942775661558\" target=\"_top\" title=\"psysml:74f7fd5f-8520-4aae-9a17-942775661558\" xlink:actuate=\"onRequest\" xlink:href=\"psysml:74f7fd5f-8520-4aae-9a17-942775661558\" xlink:show=\"new\" xlink:title=\"psysml:74f7fd5f-8520-4aae-9a17-942775661558\" xlink:type=\"simple\"><rect fill=\"#FFFFFF\" height=\"45.9375\" id=\"E5\" rx=\"10\" ry=\"10\" style=\"stroke: #383838; stroke-width: 1.5;\" width=\"42\" x=\"151\" y=\"362\"/><text fill=\"#000000\" font-family=\"sans-serif\" font-size=\"12\" font-style=\"italic\" lengthAdjust=\"spacingAndGlyphs\" textLength=\"40\" x=\"152\" y=\"378.1387\">«part»</text><text fill=\"#000000\" font-family=\"sans-serif\" font-size=\"12\" lengthAdjust=\"spacingAndGlyphs\" textLength=\"23\" x=\"158.5\" y=\"392.1074\">c: C</text><line style=\"stroke: #383838; stroke-width: 1.5;\" x1=\"152\" x2=\"192\" y1=\"399.9375\" y2=\"399.9375\"/></a><!--MD5=[60a26617385b1d2d0262a64233df1f8d]\n",
       "class E6--><a href=\"psysml:f1885442-e1dd-46d9-92aa-2427019de9de\" target=\"_top\" title=\"psysml:f1885442-e1dd-46d9-92aa-2427019de9de\" xlink:actuate=\"onRequest\" xlink:href=\"psysml:f1885442-e1dd-46d9-92aa-2427019de9de\" xlink:show=\"new\" xlink:title=\"psysml:f1885442-e1dd-46d9-92aa-2427019de9de\" xlink:type=\"simple\"><rect fill=\"#FFFFFF\" height=\"45.9375\" id=\"E6\" style=\"stroke: #383838; stroke-width: 1.5;\" width=\"71\" x=\"112.5\" y=\"637\"/><text fill=\"#000000\" font-family=\"sans-serif\" font-size=\"12\" font-style=\"italic\" lengthAdjust=\"spacingAndGlyphs\" textLength=\"69\" x=\"113.5\" y=\"653.1387\">«item  def»</text><text fill=\"#000000\" font-family=\"sans-serif\" font-size=\"12\" font-style=\"italic\" lengthAdjust=\"spacingAndGlyphs\" textLength=\"8\" x=\"144\" y=\"667.1074\">B</text><line style=\"stroke: #383838; stroke-width: 1.5;\" x1=\"113.5\" x2=\"182.5\" y1=\"674.9375\" y2=\"674.9375\"/></a><!--MD5=[2156ba9850f5573cc1fc38a6a4b2f02b]\n",
       "class E7--><a href=\"psysml:cc0b7000-21b2-4abb-bead-e88feeed0b85\" target=\"_top\" title=\"psysml:cc0b7000-21b2-4abb-bead-e88feeed0b85\" xlink:actuate=\"onRequest\" xlink:href=\"psysml:cc0b7000-21b2-4abb-bead-e88feeed0b85\" xlink:show=\"new\" xlink:title=\"psysml:cc0b7000-21b2-4abb-bead-e88feeed0b85\" xlink:type=\"simple\"><rect fill=\"#FFFFFF\" height=\"45.9375\" id=\"E7\" rx=\"10\" ry=\"10\" style=\"stroke: #383838; stroke-width: 1.5;\" width=\"42\" x=\"159\" y=\"744\"/><text fill=\"#000000\" font-family=\"sans-serif\" font-size=\"12\" font-style=\"italic\" lengthAdjust=\"spacingAndGlyphs\" textLength=\"40\" x=\"160\" y=\"760.1387\">«part»</text><text fill=\"#000000\" font-family=\"sans-serif\" font-size=\"12\" font-style=\"italic\" lengthAdjust=\"spacingAndGlyphs\" textLength=\"8\" x=\"166\" y=\"774.1074\">a</text><text fill=\"#000000\" font-family=\"sans-serif\" font-size=\"12\" lengthAdjust=\"spacingAndGlyphs\" textLength=\"16\" x=\"174\" y=\"774.1074\">: A</text><line style=\"stroke: #383838; stroke-width: 1.5;\" x1=\"160\" x2=\"200\" y1=\"781.9375\" y2=\"781.9375\"/></a><!--MD5=[b9389687b975829384b498ac4b7476b2]\n",
       "class E8--><a href=\"psysml:6db780a5-cf23-40f2-9df9-03150cb096d0\" target=\"_top\" title=\"psysml:6db780a5-cf23-40f2-9df9-03150cb096d0\" xlink:actuate=\"onRequest\" xlink:href=\"psysml:6db780a5-cf23-40f2-9df9-03150cb096d0\" xlink:show=\"new\" xlink:title=\"psysml:6db780a5-cf23-40f2-9df9-03150cb096d0\" xlink:type=\"simple\"><rect fill=\"#FFFFFF\" height=\"45.9375\" id=\"E8\" style=\"stroke: #383838; stroke-width: 1.5;\" width=\"70\" x=\"113\" y=\"514\"/><text fill=\"#000000\" font-family=\"sans-serif\" font-size=\"12\" font-style=\"italic\" lengthAdjust=\"spacingAndGlyphs\" textLength=\"68\" x=\"114\" y=\"530.1387\">«part  def»</text><text fill=\"#000000\" font-family=\"sans-serif\" font-size=\"12\" lengthAdjust=\"spacingAndGlyphs\" textLength=\"8\" x=\"144\" y=\"544.1074\">C</text><line style=\"stroke: #383838; stroke-width: 1.5;\" x1=\"114\" x2=\"182\" y1=\"551.9375\" y2=\"551.9375\"/></a><!--MD5=[fd4143e9d270a159db93a4ea2a975926]\n",
       "class E9--><a href=\"psysml:587854cf-6fe1-483d-a698-c7fca9a0c13c\" target=\"_top\" title=\"psysml:587854cf-6fe1-483d-a698-c7fca9a0c13c\" xlink:actuate=\"onRequest\" xlink:href=\"psysml:587854cf-6fe1-483d-a698-c7fca9a0c13c\" xlink:show=\"new\" xlink:title=\"psysml:587854cf-6fe1-483d-a698-c7fca9a0c13c\" xlink:type=\"simple\"><rect fill=\"#FFFFFF\" height=\"45.9375\" id=\"E9\" style=\"stroke: #383838; stroke-width: 1.5;\" width=\"70\" x=\"64\" y=\"41\"/><text fill=\"#000000\" font-family=\"sans-serif\" font-size=\"12\" font-style=\"italic\" lengthAdjust=\"spacingAndGlyphs\" textLength=\"68\" x=\"65\" y=\"57.1387\">«port  def»</text><text fill=\"#000000\" font-family=\"sans-serif\" font-size=\"12\" lengthAdjust=\"spacingAndGlyphs\" textLength=\"8\" x=\"95\" y=\"71.1074\">P</text><line style=\"stroke: #383838; stroke-width: 1.5;\" x1=\"65\" x2=\"133\" y1=\"78.9375\" y2=\"78.9375\"/></a><!--MD5=[96f4274e9e20536e775497830990834d]\n",
       "class E10--><a href=\"psysml:f73739ed-5364-4403-8254-d4f943238dfa\" target=\"_top\" title=\"psysml:f73739ed-5364-4403-8254-d4f943238dfa\" xlink:actuate=\"onRequest\" xlink:href=\"psysml:f73739ed-5364-4403-8254-d4f943238dfa\" xlink:show=\"new\" xlink:title=\"psysml:f73739ed-5364-4403-8254-d4f943238dfa\" xlink:type=\"simple\"><rect fill=\"#FFFFFF\" height=\"45.9375\" id=\"E10\" rx=\"10\" ry=\"10\" style=\"stroke: #383838; stroke-width: 1.5;\" width=\"43\" x=\"32.5\" y=\"148\"/><text fill=\"#000000\" font-family=\"sans-serif\" font-size=\"12\" font-style=\"italic\" lengthAdjust=\"spacingAndGlyphs\" textLength=\"41\" x=\"33.5\" y=\"164.1387\">«item»</text><text fill=\"#000000\" font-family=\"sans-serif\" font-size=\"12\" lengthAdjust=\"spacingAndGlyphs\" textLength=\"32\" x=\"36\" y=\"178.1074\">a1: A</text><line style=\"stroke: #383838; stroke-width: 1.5;\" x1=\"33.5\" x2=\"74.5\" y1=\"185.9375\" y2=\"185.9375\"/></a><!--MD5=[1dd1bfd58a279cf63c5f349dbc8fc6a1]\n",
       "class E11--><a href=\"psysml:6a7a2def-0eff-4194-80a2-af7f6b4a129e\" target=\"_top\" title=\"psysml:6a7a2def-0eff-4194-80a2-af7f6b4a129e\" xlink:actuate=\"onRequest\" xlink:href=\"psysml:6a7a2def-0eff-4194-80a2-af7f6b4a129e\" xlink:show=\"new\" xlink:title=\"psysml:6a7a2def-0eff-4194-80a2-af7f6b4a129e\" xlink:type=\"simple\"><rect fill=\"#FFFFFF\" height=\"45.9375\" id=\"E11\" rx=\"10\" ry=\"10\" style=\"stroke: #383838; stroke-width: 1.5;\" width=\"43\" x=\"110.5\" y=\"148\"/><text fill=\"#000000\" font-family=\"sans-serif\" font-size=\"12\" font-style=\"italic\" lengthAdjust=\"spacingAndGlyphs\" textLength=\"41\" x=\"111.5\" y=\"164.1387\">«item»</text><text fill=\"#000000\" font-family=\"sans-serif\" font-size=\"12\" lengthAdjust=\"spacingAndGlyphs\" textLength=\"32\" x=\"114\" y=\"178.1074\">a2: A</text><line style=\"stroke: #383838; stroke-width: 1.5;\" x1=\"111.5\" x2=\"152.5\" y1=\"185.9375\" y2=\"185.9375\"/></a><!--MD5=[2720a5a1f2c3fca2055b230370638851]\n",
       "link E2 to E3--><a href=\"psysml:8851b494-fad9-483d-8771-6e667cb982eb\" target=\"_top\" title=\"psysml:8851b494-fad9-483d-8771-6e667cb982eb\" xlink:actuate=\"onRequest\" xlink:href=\"psysml:8851b494-fad9-483d-8771-6e667cb982eb\" xlink:show=\"new\" xlink:title=\"psysml:8851b494-fad9-483d-8771-6e667cb982eb\" xlink:type=\"simple\"><path d=\"M193.65,194.01 C184.14,206.81 171.89,223.3 160.82,238.2 \" fill=\"none\" id=\"E2-&gt;E3\" style=\"stroke: #383838; stroke-width: 1.0;\"/><polygon fill=\"#FFFFFF\" points=\"148.6,254.66,154.3195,235.2361,165.5543,243.5896,148.6,254.66\" style=\"stroke: #383838; stroke-width: 1.0;\"/><ellipse cx=\"159.3256\" cy=\"231.8554\" fill=\"#383838\" rx=\"2\" ry=\"2\" style=\"stroke: #383838; stroke-width: 1.0;\"/><ellipse cx=\"167.3504\" cy=\"237.8221\" fill=\"#383838\" rx=\"2\" ry=\"2\" style=\"stroke: #383838; stroke-width: 1.0;\"/></a><!--MD5=[4672eba38e49728da53d11aeb285b987]\n",
       "reverse link E3 to E4--><a href=\"psysml:bbc4490d-4884-4bf2-8394-3cd2641c3130\" target=\"_top\" title=\"psysml:bbc4490d-4884-4bf2-8394-3cd2641c3130\" xlink:actuate=\"onRequest\" xlink:href=\"psysml:bbc4490d-4884-4bf2-8394-3cd2641c3130\" xlink:show=\"new\" xlink:title=\"psysml:bbc4490d-4884-4bf2-8394-3cd2641c3130\" xlink:type=\"simple\"><path d=\"M97.11,310.9 C84.08,325.11 70.81,342.94 64,362 C55.12,386.85 58.09,417.53 61.82,437.88 \" fill=\"none\" id=\"E3&lt;-E4\" style=\"stroke: #383838; stroke-width: 1.0;\"/><polygon fill=\"#FFFFFF\" points=\"106.46,301.23,99.4153,302.7703,98.1277,309.8655,105.1724,308.3252,106.46,301.23\" style=\"stroke: #383838; stroke-width: 1.0;\"/><text fill=\"#000000\" font-family=\"sans-serif\" font-size=\"13\" lengthAdjust=\"spacingAndGlyphs\" textLength=\"8\" x=\"51.3529\" y=\"426.744\">1</text></a><!--MD5=[191cde3d490a3f6d7bb551fe3ddca469]\n",
       "reverse link E3 to E5--><a href=\"psysml:896e58a4-3d4e-4523-9980-c4907a158d3f\" target=\"_top\" title=\"psysml:896e58a4-3d4e-4523-9980-c4907a158d3f\" xlink:actuate=\"onRequest\" xlink:href=\"psysml:896e58a4-3d4e-4523-9980-c4907a158d3f\" xlink:show=\"new\" xlink:title=\"psysml:896e58a4-3d4e-4523-9980-c4907a158d3f\" xlink:type=\"simple\"><path d=\"M145.17,313.57 C151.2,329.39 158.16,347.68 163.49,361.66 \" fill=\"none\" id=\"E3&lt;-E5\" style=\"stroke: #383838; stroke-width: 1.0;\"/><polygon fill=\"#FFFFFF\" points=\"140.39,301.01,138.7866,308.0406,144.6598,312.2247,146.2631,305.1941,140.39,301.01\" style=\"stroke: #383838; stroke-width: 1.0;\"/><text fill=\"#000000\" font-family=\"sans-serif\" font-size=\"13\" lengthAdjust=\"spacingAndGlyphs\" textLength=\"8\" x=\"152.2843\" y=\"350.8492\">1</text></a><!--MD5=[79568f1e445c3877b6a54524624ccc7d]\n",
       "link E4 to E6--><a href=\"psysml:ae089d5e-98d2-4386-a1f6-d9056ad7f1db\" target=\"_top\" title=\"psysml:ae089d5e-98d2-4386-a1f6-d9056ad7f1db\" xlink:actuate=\"onRequest\" xlink:href=\"psysml:ae089d5e-98d2-4386-a1f6-d9056ad7f1db\" xlink:show=\"new\" xlink:title=\"psysml:ae089d5e-98d2-4386-a1f6-d9056ad7f1db\" xlink:type=\"simple\"><path d=\"M72.25,484.22 C77.31,504.36 85.72,534.68 96,560 C104.15,580.08 115.08,601.47 124.82,619.21 \" fill=\"none\" id=\"E4-&gt;E6\" style=\"stroke: #383838; stroke-width: 1.0;\"/><polygon fill=\"#FFFFFF\" points=\"134.72,636.8,119.2979,623.6791,131.4967,616.8097,134.72,636.8\" style=\"stroke: #383838; stroke-width: 1.0;\"/><ellipse cx=\"118.2438\" cy=\"617.7311\" fill=\"#383838\" rx=\"2\" ry=\"2\" style=\"stroke: #383838; stroke-width: 1.0;\"/><ellipse cx=\"126.9572\" cy=\"612.8244\" fill=\"#383838\" rx=\"2\" ry=\"2\" style=\"stroke: #383838; stroke-width: 1.0;\"/></a><!--MD5=[3f50a3473f1dfb74d3f76443e03635af]\n",
       "reverse link E6 to E7--><a href=\"psysml:f93e67a1-8e91-4b72-abc4-aff48dcc0ebf\" target=\"_top\" title=\"psysml:f93e67a1-8e91-4b72-abc4-aff48dcc0ebf\" xlink:actuate=\"onRequest\" xlink:href=\"psysml:f93e67a1-8e91-4b72-abc4-aff48dcc0ebf\" xlink:show=\"new\" xlink:title=\"psysml:f93e67a1-8e91-4b72-abc4-aff48dcc0ebf\" xlink:type=\"simple\"><path d=\"M158.54,695.57 C163.36,711.39 168.93,729.68 173.19,743.66 \" fill=\"none\" id=\"E6&lt;-E7\" style=\"stroke: #383838; stroke-width: 1.0;\"/><polygon fill=\"#FFFFFF\" points=\"154.71,683.01,152.6319,689.9152,158.2066,694.4893,160.2847,687.5841,154.71,683.01\" style=\"stroke: #383838; stroke-width: 1.0;\"/><text fill=\"#000000\" font-family=\"sans-serif\" font-size=\"13\" lengthAdjust=\"spacingAndGlyphs\" textLength=\"8\" x=\"162.4199\" y=\"732.8492\">1</text></a><!--MD5=[14ccda38c055a5c0da953d572bc50960]\n",
       "link E7 to E3--><a href=\"psysml:729e96ed-f9a8-4349-a416-61bf2a977bd8\" target=\"_top\" title=\"psysml:729e96ed-f9a8-4349-a416-61bf2a977bd8\" xlink:actuate=\"onRequest\" xlink:href=\"psysml:729e96ed-f9a8-4349-a416-61bf2a977bd8\" xlink:show=\"new\" xlink:title=\"psysml:729e96ed-f9a8-4349-a416-61bf2a977bd8\" xlink:type=\"simple\"><path d=\"M197.41,743.63 C211.5,723.27 229,691.78 229,661 C229,384 229,384 229,384 C229,353.7 206.93,328.42 183.85,310.26 \" fill=\"none\" id=\"E7-&gt;E3\" style=\"stroke: #383838; stroke-width: 1.0;\"/><polygon fill=\"#FFFFFF\" points=\"167.57,298.59,187.0929,303.9617,178.9414,315.3438,167.57,298.59\" style=\"stroke: #383838; stroke-width: 1.0;\"/><ellipse cx=\"190.5626\" cy=\"308.9066\" fill=\"#383838\" rx=\"2\" ry=\"2\" style=\"stroke: #383838; stroke-width: 1.0;\"/><ellipse cx=\"184.7401\" cy=\"317.0367\" fill=\"#383838\" rx=\"2\" ry=\"2\" style=\"stroke: #383838; stroke-width: 1.0;\"/></a><!--MD5=[dfaffb906826c3e5aca635516100ff21]\n",
       "link E5 to E8--><a href=\"psysml:8b27b07a-ba61-4df4-814a-c4b9eba72255\" target=\"_top\" title=\"psysml:8b27b07a-ba61-4df4-814a-c4b9eba72255\" xlink:actuate=\"onRequest\" xlink:href=\"psysml:8b27b07a-ba61-4df4-814a-c4b9eba72255\" xlink:show=\"new\" xlink:title=\"psysml:8b27b07a-ba61-4df4-814a-c4b9eba72255\" xlink:type=\"simple\"><path d=\"M168.46,408.13 C164.86,430.62 159.2,466.01 154.74,493.87 \" fill=\"none\" id=\"E5-&gt;E8\" style=\"stroke: #383838; stroke-width: 1.0;\"/><polygon fill=\"#FFFFFF\" points=\"151.56,513.78,147.6458,493.9135,161.4704,496.1226,151.56,513.78\" style=\"stroke: #383838; stroke-width: 1.0;\"/><ellipse cx=\"150.5202\" cy=\"488.6005\" fill=\"#383838\" rx=\"2\" ry=\"2\" style=\"stroke: #383838; stroke-width: 1.0;\"/><ellipse cx=\"160.3949\" cy=\"490.1784\" fill=\"#383838\" rx=\"2\" ry=\"2\" style=\"stroke: #383838; stroke-width: 1.0;\"/></a><!--MD5=[03c8294790d3c57651a1993cecff665f]\n",
       "reverse link E8 to E3--><a href=\"psysml:2fa26767-edf9-4f1d-8702-6d0b4fb1afcf\" target=\"_top\" title=\"psysml:2fa26767-edf9-4f1d-8702-6d0b4fb1afcf\" xlink:actuate=\"onRequest\" xlink:href=\"psysml:2fa26767-edf9-4f1d-8702-6d0b4fb1afcf\" xlink:show=\"new\" xlink:title=\"psysml:2fa26767-edf9-4f1d-8702-6d0b4fb1afcf\" xlink:type=\"simple\"><path d=\"M140.02,501.22 C134.57,475.6 127.84,439.84 125,408 C123.18,387.64 124.14,382.43 125,362 C125.87,341.34 127.95,317.86 129.62,301.16 \" fill=\"none\" id=\"E8&lt;-E3\" style=\"stroke: #383838; stroke-width: 1.0;\"/><polygon fill=\"#FFFFFF\" points=\"142.81,513.96,145.4388,507.2451,140.2515,502.2359,137.6227,508.9508,142.81,513.96\" style=\"stroke: #383838; stroke-width: 1.0;\"/><text fill=\"#000000\" font-family=\"sans-serif\" font-size=\"13\" lengthAdjust=\"spacingAndGlyphs\" textLength=\"7\" x=\"126\" y=\"389.5669\">y</text></a><!--MD5=[0d75d2178373a6a4568e5dc728f58aef]\n",
       "reverse link E8 to E6--><a href=\"psysml:2fa26767-edf9-4f1d-8702-6d0b4fb1afcf\" target=\"_top\" title=\"psysml:2fa26767-edf9-4f1d-8702-6d0b4fb1afcf\" xlink:actuate=\"onRequest\" xlink:href=\"psysml:2fa26767-edf9-4f1d-8702-6d0b4fb1afcf\" xlink:show=\"new\" xlink:title=\"psysml:2fa26767-edf9-4f1d-8702-6d0b4fb1afcf\" xlink:type=\"simple\"><path d=\"M148,573.22 C148,593.81 148,619.16 148,636.95 \" fill=\"none\" id=\"E8&lt;-E6\" style=\"stroke: #383838; stroke-width: 1.0;\"/><polygon fill=\"#FFFFFF\" points=\"148,560.19,144,566.19,148,572.19,152,566.19,148,560.19\" style=\"stroke: #383838; stroke-width: 1.0;\"/><text fill=\"#000000\" font-family=\"sans-serif\" font-size=\"13\" lengthAdjust=\"spacingAndGlyphs\" textLength=\"7\" x=\"149\" y=\"603.0669\">y</text></a><!--MD5=[23ac544a70576c3e717098101004234c]\n",
       "reverse link E9 to E10--><a href=\"psysml:2a8d2925-3f72-4e1c-849d-9e3943fa1d15\" target=\"_top\" title=\"psysml:2a8d2925-3f72-4e1c-849d-9e3943fa1d15\" xlink:actuate=\"onRequest\" xlink:href=\"psysml:2a8d2925-3f72-4e1c-849d-9e3943fa1d15\" xlink:show=\"new\" xlink:title=\"psysml:2a8d2925-3f72-4e1c-849d-9e3943fa1d15\" xlink:type=\"simple\"><path d=\"M84.39,99.1 C77.56,115.03 69.63,133.54 63.58,147.66 \" fill=\"none\" id=\"E9&lt;-E10\" style=\"stroke: #383838; stroke-width: 1.0;\"/><polygon fill=\"#FFFFFF\" points=\"89.57,87.01,83.5327,90.9535,84.8509,98.0431,90.8882,94.0996,89.57,87.01\" style=\"stroke: #383838; stroke-width: 1.0;\"/><text fill=\"#000000\" font-family=\"sans-serif\" font-size=\"13\" lengthAdjust=\"spacingAndGlyphs\" textLength=\"8\" x=\"57.0099\" y=\"136.8492\">1</text></a><!--MD5=[feeac5eb423634930294aa81f2d25a4c]\n",
       "link E10 to E3--><a href=\"psysml:be0eb1db-3a2d-4525-bfbd-aed22db095bf\" target=\"_top\" title=\"psysml:be0eb1db-3a2d-4525-bfbd-aed22db095bf\" xlink:actuate=\"onRequest\" xlink:href=\"psysml:be0eb1db-3a2d-4525-bfbd-aed22db095bf\" xlink:show=\"new\" xlink:title=\"psysml:be0eb1db-3a2d-4525-bfbd-aed22db095bf\" xlink:type=\"simple\"><path d=\"M70.35,194.01 C79.86,206.81 92.11,223.3 103.18,238.2 \" fill=\"none\" id=\"E10-&gt;E3\" style=\"stroke: #383838; stroke-width: 1.0;\"/><polygon fill=\"#FFFFFF\" points=\"115.4,254.66,98.4457,243.5896,109.6805,235.2361,115.4,254.66\" style=\"stroke: #383838; stroke-width: 1.0;\"/><ellipse cx=\"96.6496\" cy=\"237.8221\" fill=\"#383838\" rx=\"2\" ry=\"2\" style=\"stroke: #383838; stroke-width: 1.0;\"/><ellipse cx=\"104.6744\" cy=\"231.8554\" fill=\"#383838\" rx=\"2\" ry=\"2\" style=\"stroke: #383838; stroke-width: 1.0;\"/></a><!--MD5=[1fc04a95fd77ad5ce46c1a3027516051]\n",
       "reverse link E9 to E11--><a href=\"psysml:4a4899a0-cca2-49ff-ba55-d15caf476c4f\" target=\"_top\" title=\"psysml:4a4899a0-cca2-49ff-ba55-d15caf476c4f\" xlink:actuate=\"onRequest\" xlink:href=\"psysml:4a4899a0-cca2-49ff-ba55-d15caf476c4f\" xlink:show=\"new\" xlink:title=\"psysml:4a4899a0-cca2-49ff-ba55-d15caf476c4f\" xlink:type=\"simple\"><path d=\"M109.87,99.57 C114.84,115.39 120.59,133.68 124.98,147.66 \" fill=\"none\" id=\"E9&lt;-E11\" style=\"stroke: #383838; stroke-width: 1.0;\"/><polygon fill=\"#FFFFFF\" points=\"105.92,87.01,103.9044,93.9337,109.5203,98.4572,111.5359,91.5335,105.92,87.01\" style=\"stroke: #383838; stroke-width: 1.0;\"/><text fill=\"#000000\" font-family=\"sans-serif\" font-size=\"13\" lengthAdjust=\"spacingAndGlyphs\" textLength=\"8\" x=\"114.1561\" y=\"136.8492\">1</text></a><!--MD5=[0517f1ce58c4d5483948f93845c45e26]\n",
       "link E11 to E3--><a href=\"psysml:8ddae6f0-112f-4ded-9c4d-74dd6bca1f55\" target=\"_top\" title=\"psysml:8ddae6f0-112f-4ded-9c4d-74dd6bca1f55\" xlink:actuate=\"onRequest\" xlink:href=\"psysml:8ddae6f0-112f-4ded-9c4d-74dd6bca1f55\" xlink:show=\"new\" xlink:title=\"psysml:8ddae6f0-112f-4ded-9c4d-74dd6bca1f55\" xlink:type=\"simple\"><path d=\"M132,194.01 C132,205.69 132,220.46 132,234.28 \" fill=\"none\" id=\"E11-&gt;E3\" style=\"stroke: #383838; stroke-width: 1.0;\"/><polygon fill=\"#FFFFFF\" points=\"132,254.66,125,235.66,139,235.66,132,254.66\" style=\"stroke: #383838; stroke-width: 1.0;\"/><ellipse cx=\"127\" cy=\"229.96\" fill=\"#383838\" rx=\"2\" ry=\"2\" style=\"stroke: #383838; stroke-width: 1.0;\"/><ellipse cx=\"137\" cy=\"229.96\" fill=\"#383838\" rx=\"2\" ry=\"2\" style=\"stroke: #383838; stroke-width: 1.0;\"/></a><!--MD5=[29e7ab5e1732d0acfb39fc75436e3c5f]\n",
       "@startuml\r\n",
       "top to bottom direction\r\n",
       "skinparam monochrome true\r\n",
       "skinparam classbackgroundcolor white\r\n",
       "skinparam shadowing false\r\n",
       "skinparam wrapWidth 300\r\n",
       "hide circle\r\n",
       "\r\n",
       "package \"ItemTest\" as E1  [[psysml:ae8f2d08-e2f6-41ef-ae81-a483692b435b ]]  {\r\n",
       "comp usage \"f: A \" as E2  <<(T,blue) item>> [[psysml:cbd0bd62-e912-4912-a2fb-da1e68d4f615 ]] {\r\n",
       "}\r\n",
       "comp def \"A\" as E3  <<(T,blue) item  def>> [[psysml:2b189b42-edf1-49d6-a72b-40b548d68a1d ]] {\r\n",
       "}\r\n",
       "comp usage \"b: B \" as E4  <<(T,blue) item>> [[psysml:94aeed99-fa0f-4cf3-9a3c-c07fcd3df143 ]] {\r\n",
       "}\r\n",
       "comp usage \"c: C \" as E5  <<(T,blue) part>> [[psysml:74f7fd5f-8520-4aae-9a17-942775661558 ]] {\r\n",
       "}\r\n",
       "comp def \"<i>B</i>\" as E6  <<(T,blue) item  def>> [[psysml:f1885442-e1dd-46d9-92aa-2427019de9de ]] {\r\n",
       "}\r\n",
       "comp usage \"<i>a</i>: A \" as E7  <<(T,blue) part>> [[psysml:cc0b7000-21b2-4abb-bead-e88feeed0b85 ]] {\r\n",
       "}\r\n",
       "comp def \"C\" as E8  <<(T,blue) part  def>> [[psysml:6db780a5-cf23-40f2-9df9-03150cb096d0 ]] {\r\n",
       "}\r\n",
       "comp def \"P\" as E9  <<(T,blue) port  def>> [[psysml:587854cf-6fe1-483d-a698-c7fca9a0c13c ]] {\r\n",
       "}\r\n",
       "comp usage \"a1: A \" as E10  <<(T,blue) item>> [[psysml:f73739ed-5364-4403-8254-d4f943238dfa ]] {\r\n",
       "}\r\n",
       "comp usage \"a2: A \" as E11  <<(T,blue) item>> [[psysml:6a7a2def-0eff-4194-80a2-af7f6b4a129e ]] {\r\n",
       "}\r\n",
       "}\r\n",
       "E2 - -:|> E3 [[psysml:8851b494-fad9-483d-8771-6e667cb982eb ]] \r\n",
       "E3 o- - \"1\"E4 [[psysml:bbc4490d-4884-4bf2-8394-3cd2641c3130 ]] \r\n",
       "E3 o- - \"1\"E5 [[psysml:896e58a4-3d4e-4523-9980-c4907a158d3f ]] \r\n",
       "E4 - -:|> E6 [[psysml:ae089d5e-98d2-4386-a1f6-d9056ad7f1db ]] \r\n",
       "E6 o- - \"1\"E7 [[psysml:f93e67a1-8e91-4b72-abc4-aff48dcc0ebf ]] \r\n",
       "E7 - -:|> E3 [[psysml:729e96ed-f9a8-4349-a416-61bf2a977bd8 ]] \r\n",
       "E5 - -:|> E8 [[psysml:8b27b07a-ba61-4df4-814a-c4b9eba72255 ]] \r\n",
       "E8 o- - E3 [[psysml:2fa26767-edf9-4f1d-8702-6d0b4fb1afcf ]] : y\r\n",
       "E8 o- - E6 [[psysml:2fa26767-edf9-4f1d-8702-6d0b4fb1afcf ]] : y\r\n",
       "E9 o- - \"1\"E10 [[psysml:2a8d2925-3f72-4e1c-849d-9e3943fa1d15 ]] \r\n",
       "E10 - -:|> E3 [[psysml:be0eb1db-3a2d-4525-bfbd-aed22db095bf ]] \r\n",
       "E9 o- - \"1\"E11 [[psysml:4a4899a0-cca2-49ff-ba55-d15caf476c4f ]] \r\n",
       "E11 - -:|> E3 [[psysml:8ddae6f0-112f-4ded-9c4d-74dd6bca1f55 ]] \r\n",
       "@enduml\r\n",
       "\n",
       "PlantUML version 1.2020.13(Sat Jun 13 12:26:38 UTC 2020)\n",
       "(EPL source distribution)\n",
       "Java Runtime: OpenJDK Runtime Environment\n",
       "JVM: OpenJDK 64-Bit Server VM\n",
       "Default Encoding: UTF-8\n",
       "Language: en\n",
       "Country: null\n",
       "--></g></svg>"
      ]
     },
     "execution_count": 45,
     "metadata": {},
     "output_type": "execute_result"
    }
   ],
   "source": [
    "%viz --style=\"TB\" --view=\"Tree\" \"ItemTest\""
   ]
  },
  {
   "cell_type": "code",
   "execution_count": 46,
   "id": "5653535d",
   "metadata": {
    "execution": {
     "iopub.execute_input": "2022-08-19T08:17:30.973300Z",
     "iopub.status.busy": "2022-08-19T08:17:30.972844Z",
     "iopub.status.idle": "2022-08-19T08:17:30.977752Z",
     "shell.execute_reply": "2022-08-19T08:17:30.977370Z"
    }
   },
   "outputs": [
    {
     "data": {
      "image/svg+xml": [
       "<?xml version=\"1.0\" encoding=\"UTF-8\" standalone=\"no\"?><svg xmlns=\"http://www.w3.org/2000/svg\" xmlns:xlink=\"http://www.w3.org/1999/xlink\" contentScriptType=\"application/ecmascript\" contentStyleType=\"text/css\" height=\"12px\" preserveAspectRatio=\"none\" style=\"width:12px;height:12px;\" version=\"1.1\" viewBox=\"0 0 12 12\" width=\"12px\" zoomAndPan=\"magnify\"><defs/><g><!--MD5=[f4ee21bc66e489b5061b7c3e9601fdef]\n",
       "@startuml\r\n",
       "top to bottom direction\r\n",
       "skinparam monochrome true\r\n",
       "skinparam classbackgroundcolor white\r\n",
       "skinparam shadowing false\r\n",
       "skinparam wrapWidth 300\r\n",
       "hide circle\r\n",
       "\r\n",
       "@enduml\r\n",
       "\n",
       "PlantUML version 1.2020.13(Sat Jun 13 12:26:38 UTC 2020)\n",
       "(EPL source distribution)\n",
       "Java Runtime: OpenJDK Runtime Environment\n",
       "JVM: OpenJDK 64-Bit Server VM\n",
       "Default Encoding: UTF-8\n",
       "Language: en\n",
       "Country: null\n",
       "--></g></svg>"
      ]
     },
     "execution_count": 46,
     "metadata": {},
     "output_type": "execute_result"
    }
   ],
   "source": [
    "%viz --style=\"TB\" --view=\"State\" \"ItemTest\""
   ]
  },
  {
   "cell_type": "code",
   "execution_count": 47,
   "id": "d594c456",
   "metadata": {
    "execution": {
     "iopub.execute_input": "2022-08-19T08:17:31.027676Z",
     "iopub.status.busy": "2022-08-19T08:17:31.027231Z",
     "iopub.status.idle": "2022-08-19T08:17:31.059749Z",
     "shell.execute_reply": "2022-08-19T08:17:31.059339Z"
    }
   },
   "outputs": [
    {
     "data": {
      "image/svg+xml": [
       "<?xml version=\"1.0\" encoding=\"UTF-8\" standalone=\"no\"?><svg xmlns=\"http://www.w3.org/2000/svg\" xmlns:xlink=\"http://www.w3.org/1999/xlink\" contentScriptType=\"application/ecmascript\" contentStyleType=\"text/css\" height=\"246px\" preserveAspectRatio=\"none\" style=\"width:483px;height:246px;\" version=\"1.1\" viewBox=\"0 0 483 246\" width=\"483px\" zoomAndPan=\"magnify\"><defs/><g><!--MD5=[fbc87193dbaf4d95561dea2c320d4a47]\n",
       "cluster E1--><a href=\"psysml:ae8f2d08-e2f6-41ef-ae81-a483692b435b\" target=\"_top\" title=\"psysml:ae8f2d08-e2f6-41ef-ae81-a483692b435b\" xlink:actuate=\"onRequest\" xlink:href=\"psysml:ae8f2d08-e2f6-41ef-ae81-a483692b435b\" xlink:show=\"new\" xlink:title=\"psysml:ae8f2d08-e2f6-41ef-ae81-a483692b435b\" xlink:type=\"simple\"><polygon fill=\"#FFFFFF\" points=\"16,6,83,6,90,28.2969,461,28.2969,461,234,16,234,16,6\" style=\"stroke: #000000; stroke-width: 1.5;\"/><line style=\"stroke: #000000; stroke-width: 1.5;\" x1=\"16\" x2=\"90\" y1=\"28.2969\" y2=\"28.2969\"/><text fill=\"#000000\" font-family=\"sans-serif\" font-size=\"14\" font-weight=\"bold\" lengthAdjust=\"spacingAndGlyphs\" textLength=\"61\" x=\"20\" y=\"20.9951\">ItemTest</text></a><!--MD5=[de5ec2e2e8f62f467e546659f5068c88]\n",
       "cluster E5--><a href=\"psysml:6db780a5-cf23-40f2-9df9-03150cb096d0\" target=\"_top\" title=\"psysml:6db780a5-cf23-40f2-9df9-03150cb096d0\" xlink:actuate=\"onRequest\" xlink:href=\"psysml:6db780a5-cf23-40f2-9df9-03150cb096d0\" xlink:show=\"new\" xlink:title=\"psysml:6db780a5-cf23-40f2-9df9-03150cb096d0\" xlink:type=\"simple\"><rect fill=\"#FFFFFF\" height=\"110\" id=\"E5\" style=\"stroke: #383838; stroke-width: 1.5;\" width=\"114\" x=\"323\" y=\"49\"/><rect fill=\"#F8F8F8\" height=\"37.9375\" style=\"stroke: #383838; stroke-width: 1.5;\" width=\"114\" x=\"323\" y=\"49\"/><text fill=\"#000000\" font-family=\"sans-serif\" font-size=\"12\" font-style=\"italic\" lengthAdjust=\"spacingAndGlyphs\" textLength=\"68\" x=\"346\" y=\"65.1387\">«part  def»</text><text fill=\"#000000\" font-family=\"sans-serif\" font-size=\"12\" lengthAdjust=\"spacingAndGlyphs\" textLength=\"8\" x=\"376\" y=\"79.1074\">C</text></a><g id=\"E1.E3\"><a href=\"psysml:2b189b42-edf1-49d6-a72b-40b548d68a1d\" target=\"_top\" title=\"psysml:2b189b42-edf1-49d6-a72b-40b548d68a1d\" xlink:actuate=\"onRequest\" xlink:href=\"psysml:2b189b42-edf1-49d6-a72b-40b548d68a1d\" xlink:show=\"new\" xlink:title=\"psysml:2b189b42-edf1-49d6-a72b-40b548d68a1d\" xlink:type=\"simple\"><rect fill=\"#FFFFFF\" height=\"42.9375\" id=\"E3\" style=\"stroke: #383838; stroke-width: 1.5;\" width=\"76\" x=\"32\" y=\"175\"/><rect fill=\"#F8F8F8\" height=\"37.9375\" style=\"stroke: #383838; stroke-width: 1.5;\" width=\"76\" x=\"32\" y=\"175\"/><text fill=\"#000000\" font-family=\"sans-serif\" font-size=\"12\" font-style=\"italic\" lengthAdjust=\"spacingAndGlyphs\" textLength=\"69\" x=\"35.5\" y=\"191.1387\">«item  def»</text><text fill=\"#000000\" font-family=\"sans-serif\" font-size=\"12\" lengthAdjust=\"spacingAndGlyphs\" textLength=\"8\" x=\"66\" y=\"205.1074\">A</text></a></g><g id=\"E1.E4\"><a href=\"psysml:f1885442-e1dd-46d9-92aa-2427019de9de\" target=\"_top\" title=\"psysml:f1885442-e1dd-46d9-92aa-2427019de9de\" xlink:actuate=\"onRequest\" xlink:href=\"psysml:f1885442-e1dd-46d9-92aa-2427019de9de\" xlink:show=\"new\" xlink:title=\"psysml:f1885442-e1dd-46d9-92aa-2427019de9de\" xlink:type=\"simple\"><rect fill=\"#FFFFFF\" height=\"42.9375\" id=\"E4\" style=\"stroke: #383838; stroke-width: 1.5;\" width=\"76\" x=\"228\" y=\"100\"/><rect fill=\"#F8F8F8\" height=\"37.9375\" style=\"stroke: #383838; stroke-width: 1.5;\" width=\"76\" x=\"228\" y=\"100\"/><text fill=\"#000000\" font-family=\"sans-serif\" font-size=\"12\" font-style=\"italic\" lengthAdjust=\"spacingAndGlyphs\" textLength=\"69\" x=\"231.5\" y=\"116.1387\">«item  def»</text><text fill=\"#000000\" font-family=\"sans-serif\" font-size=\"12\" font-style=\"italic\" lengthAdjust=\"spacingAndGlyphs\" textLength=\"8\" x=\"262\" y=\"130.1074\">B</text></a></g><g id=\"E1.E7\"><a href=\"psysml:587854cf-6fe1-483d-a698-c7fca9a0c13c\" target=\"_top\" title=\"psysml:587854cf-6fe1-483d-a698-c7fca9a0c13c\" xlink:actuate=\"onRequest\" xlink:href=\"psysml:587854cf-6fe1-483d-a698-c7fca9a0c13c\" xlink:show=\"new\" xlink:title=\"psysml:587854cf-6fe1-483d-a698-c7fca9a0c13c\" xlink:type=\"simple\"><rect fill=\"#FFFFFF\" height=\"42.9375\" id=\"E7\" style=\"stroke: #383838; stroke-width: 1.5;\" width=\"75\" x=\"117.5\" y=\"100\"/><rect fill=\"#F8F8F8\" height=\"37.9375\" style=\"stroke: #383838; stroke-width: 1.5;\" width=\"75\" x=\"117.5\" y=\"100\"/><text fill=\"#000000\" font-family=\"sans-serif\" font-size=\"12\" font-style=\"italic\" lengthAdjust=\"spacingAndGlyphs\" textLength=\"68\" x=\"121\" y=\"116.1387\">«port  def»</text><text fill=\"#000000\" font-family=\"sans-serif\" font-size=\"12\" lengthAdjust=\"spacingAndGlyphs\" textLength=\"8\" x=\"151\" y=\"130.1074\">P</text></a></g><g id=\"E1.E2\"><a href=\"psysml:cbd0bd62-e912-4912-a2fb-da1e68d4f615\" target=\"_top\" title=\"psysml:cbd0bd62-e912-4912-a2fb-da1e68d4f615\" xlink:actuate=\"onRequest\" xlink:href=\"psysml:cbd0bd62-e912-4912-a2fb-da1e68d4f615\" xlink:show=\"new\" xlink:title=\"psysml:cbd0bd62-e912-4912-a2fb-da1e68d4f615\" xlink:type=\"simple\"><rect fill=\"#FFFFFF\" height=\"42.9375\" id=\"E2\" rx=\"10\" ry=\"10\" style=\"stroke: #383838; stroke-width: 1.5;\" width=\"50\" x=\"32\" y=\"100\"/><rect fill=\"#F8F8F8\" height=\"37.9375\" rx=\"10\" ry=\"10\" style=\"stroke: #F8F8F8; stroke-width: 1.5;\" width=\"50\" x=\"32\" y=\"100\"/><rect fill=\"#F8F8F8\" height=\"10\" style=\"stroke: #F8F8F8; stroke-width: 1.5;\" width=\"50\" x=\"32\" y=\"127.9375\"/><rect fill=\"none\" height=\"42.9375\" id=\"E2\" rx=\"10\" ry=\"10\" style=\"stroke: #383838; stroke-width: 1.5;\" width=\"50\" x=\"32\" y=\"100\"/><text fill=\"#000000\" font-family=\"sans-serif\" font-size=\"12\" font-style=\"italic\" lengthAdjust=\"spacingAndGlyphs\" textLength=\"41\" x=\"36.5\" y=\"116.1387\">«item»</text><text fill=\"#000000\" font-family=\"sans-serif\" font-size=\"12\" lengthAdjust=\"spacingAndGlyphs\" textLength=\"20\" x=\"47\" y=\"130.1074\">f: A</text></a></g><g id=\"E1.E5.E6\"><a href=\"psysml:2fa26767-edf9-4f1d-8702-6d0b4fb1afcf\" target=\"_top\" title=\"psysml:2fa26767-edf9-4f1d-8702-6d0b4fb1afcf\" xlink:actuate=\"onRequest\" xlink:href=\"psysml:2fa26767-edf9-4f1d-8702-6d0b4fb1afcf\" xlink:show=\"new\" xlink:title=\"psysml:2fa26767-edf9-4f1d-8702-6d0b4fb1afcf\" xlink:type=\"simple\"><rect fill=\"#FFFFFF\" height=\"42.9375\" id=\"E6\" rx=\"10\" ry=\"10\" style=\"stroke: #383838; stroke-width: 1.5;\" width=\"82\" x=\"339\" y=\"100\"/><rect fill=\"#F8F8F8\" height=\"37.9375\" rx=\"10\" ry=\"10\" style=\"stroke: #F8F8F8; stroke-width: 1.5;\" width=\"82\" x=\"339\" y=\"100\"/><rect fill=\"#F8F8F8\" height=\"10\" style=\"stroke: #F8F8F8; stroke-width: 1.5;\" width=\"82\" x=\"339\" y=\"127.9375\"/><rect fill=\"none\" height=\"42.9375\" id=\"E6\" rx=\"10\" ry=\"10\" style=\"stroke: #383838; stroke-width: 1.5;\" width=\"82\" x=\"339\" y=\"100\"/><text fill=\"#000000\" font-family=\"sans-serif\" font-size=\"12\" font-style=\"italic\" lengthAdjust=\"spacingAndGlyphs\" textLength=\"75\" x=\"342.5\" y=\"116.1387\">«reference»</text><text fill=\"#000000\" font-family=\"sans-serif\" font-size=\"12\" lengthAdjust=\"spacingAndGlyphs\" textLength=\"38\" x=\"359\" y=\"130.1074\">y: A, B</text></a></g><!--MD5=[2720a5a1f2c3fca2055b230370638851]\n",
       "link E2 to E3--><a href=\"psysml:8851b494-fad9-483d-8771-6e667cb982eb\" target=\"_top\" title=\"psysml:8851b494-fad9-483d-8771-6e667cb982eb\" xlink:actuate=\"onRequest\" xlink:href=\"psysml:8851b494-fad9-483d-8771-6e667cb982eb\" xlink:show=\"new\" xlink:title=\"psysml:8851b494-fad9-483d-8771-6e667cb982eb\" xlink:type=\"simple\"><path d=\"M60.69,143.22 C61.37,147.03 62.1,151.12 62.84,155.28 \" fill=\"none\" id=\"E2-&gt;E3\" style=\"stroke: #383838; stroke-width: 1.0;\"/><polygon fill=\"#FFFFFF\" points=\"66.35,174.98,56.1322,157.4987,69.916,155.048,66.35,174.98\" style=\"stroke: #383838; stroke-width: 1.0;\"/><ellipse cx=\"57.1035\" cy=\"151.5366\" fill=\"#383838\" rx=\"2\" ry=\"2\" style=\"stroke: #383838; stroke-width: 1.0;\"/><ellipse cx=\"66.9491\" cy=\"149.7861\" fill=\"#383838\" rx=\"2\" ry=\"2\" style=\"stroke: #383838; stroke-width: 1.0;\"/></a><!--MD5=[a83058b7ff91bf94535d5c9fba662d9c]\n",
       "@startuml\r\n",
       "skinparam ranksep 10\r\n",
       "skinparam rectangle {\r\n",
       " backgroundColor<<block>> LightGreen\r\n",
       "}\r\n",
       "top to bottom direction\r\n",
       "skinparam monochrome true\r\n",
       "skinparam classbackgroundcolor white\r\n",
       "skinparam shadowing false\r\n",
       "skinparam wrapWidth 300\r\n",
       "hide circle\r\n",
       "\r\n",
       "package \"ItemTest\" as E1  [[psysml:ae8f2d08-e2f6-41ef-ae81-a483692b435b ]]  {\r\n",
       "rec usage \"f: A\" as E2  <<(T,blue) item>> [[psysml:cbd0bd62-e912-4912-a2fb-da1e68d4f615 ]] {\r\n",
       "}\r\n",
       "def \"A\" as E3  <<(T,blue) item  def>> [[psysml:2b189b42-edf1-49d6-a72b-40b548d68a1d ]] \r\n",
       "def \"<i>B</i>\" as E4  <<(T,blue) item  def>> [[psysml:f1885442-e1dd-46d9-92aa-2427019de9de ]] \r\n",
       "rec def \"C\" as E5  <<(T,blue) part  def>> [[psysml:6db780a5-cf23-40f2-9df9-03150cb096d0 ]] {\r\n",
       "rec usage \"y: A, B \" as E6  <<(T,blue) reference>> [[psysml:2fa26767-edf9-4f1d-8702-6d0b4fb1afcf ]] {\r\n",
       "}\r\n",
       "\r\n",
       "}\r\n",
       "def \"P\" as E7  <<(T,blue) port  def>> [[psysml:587854cf-6fe1-483d-a698-c7fca9a0c13c ]] \r\n",
       "}\r\n",
       "E2 - -:|> E3 [[psysml:8851b494-fad9-483d-8771-6e667cb982eb ]] \r\n",
       "@enduml\r\n",
       "\n",
       "PlantUML version 1.2020.13(Sat Jun 13 12:26:38 UTC 2020)\n",
       "(EPL source distribution)\n",
       "Java Runtime: OpenJDK Runtime Environment\n",
       "JVM: OpenJDK 64-Bit Server VM\n",
       "Default Encoding: UTF-8\n",
       "Language: en\n",
       "Country: null\n",
       "--></g></svg>"
      ]
     },
     "execution_count": 47,
     "metadata": {},
     "output_type": "execute_result"
    }
   ],
   "source": [
    "%viz --style=\"TB\" --view=\"Interconnection\" \"ItemTest\""
   ]
  },
  {
   "cell_type": "code",
   "execution_count": 48,
   "id": "7a202e06",
   "metadata": {
    "execution": {
     "iopub.execute_input": "2022-08-19T08:17:31.109641Z",
     "iopub.status.busy": "2022-08-19T08:17:31.109189Z",
     "iopub.status.idle": "2022-08-19T08:17:31.114016Z",
     "shell.execute_reply": "2022-08-19T08:17:31.114332Z"
    }
   },
   "outputs": [
    {
     "data": {
      "image/svg+xml": [
       "<?xml version=\"1.0\" encoding=\"UTF-8\" standalone=\"no\"?><svg xmlns=\"http://www.w3.org/2000/svg\" xmlns:xlink=\"http://www.w3.org/1999/xlink\" contentScriptType=\"application/ecmascript\" contentStyleType=\"text/css\" height=\"12px\" preserveAspectRatio=\"none\" style=\"width:12px;height:12px;\" version=\"1.1\" viewBox=\"0 0 12 12\" width=\"12px\" zoomAndPan=\"magnify\"><defs/><g><!--MD5=[06afc254b03ac5e9d9fb7773b07d0800]\n",
       "@startuml\r\n",
       "skinparam ranksep 8\r\n",
       "top to bottom direction\r\n",
       "skinparam monochrome true\r\n",
       "skinparam classbackgroundcolor white\r\n",
       "skinparam shadowing false\r\n",
       "skinparam wrapWidth 300\r\n",
       "hide circle\r\n",
       "\r\n",
       "@enduml\r\n",
       "\n",
       "PlantUML version 1.2020.13(Sat Jun 13 12:26:38 UTC 2020)\n",
       "(EPL source distribution)\n",
       "Java Runtime: OpenJDK Runtime Environment\n",
       "JVM: OpenJDK 64-Bit Server VM\n",
       "Default Encoding: UTF-8\n",
       "Language: en\n",
       "Country: null\n",
       "--></g></svg>"
      ]
     },
     "execution_count": 48,
     "metadata": {},
     "output_type": "execute_result"
    }
   ],
   "source": [
    "%viz --style=\"TB\" --view=\"Action\" \"ItemTest\""
   ]
  },
  {
   "cell_type": "code",
   "execution_count": 49,
   "id": "a7733460",
   "metadata": {
    "execution": {
     "iopub.execute_input": "2022-08-19T08:17:31.164630Z",
     "iopub.status.busy": "2022-08-19T08:17:31.164182Z",
     "iopub.status.idle": "2022-08-19T08:17:31.169192Z",
     "shell.execute_reply": "2022-08-19T08:17:31.169505Z"
    }
   },
   "outputs": [
    {
     "data": {
      "image/svg+xml": [
       "<?xml version=\"1.0\" encoding=\"UTF-8\" standalone=\"no\"?><svg xmlns=\"http://www.w3.org/2000/svg\" xmlns:xlink=\"http://www.w3.org/1999/xlink\" contentScriptType=\"application/ecmascript\" contentStyleType=\"text/css\" height=\"12px\" preserveAspectRatio=\"none\" style=\"width:12px;height:12px;\" version=\"1.1\" viewBox=\"0 0 12 12\" width=\"12px\" zoomAndPan=\"magnify\"><defs/><g><!--MD5=[e1ab0c84c44d2fef8bf5f140f2689906]\n",
       "@startuml\r\n",
       "skinparam roundcorner 20\r\n",
       "skinparam BoxPadding 20\r\n",
       "skinparam SequenceBoxBackgroundColor #white\r\n",
       "skinparam style strictuml\r\n",
       "skinparam maxMessageSize 100\r\n",
       "top to bottom direction\r\n",
       "skinparam monochrome true\r\n",
       "skinparam classbackgroundcolor white\r\n",
       "skinparam shadowing false\r\n",
       "skinparam wrapWidth 300\r\n",
       "hide circle\r\n",
       "\r\n",
       "@enduml\r\n",
       "\n",
       "PlantUML version 1.2020.13(Sat Jun 13 12:26:38 UTC 2020)\n",
       "(EPL source distribution)\n",
       "Java Runtime: OpenJDK Runtime Environment\n",
       "JVM: OpenJDK 64-Bit Server VM\n",
       "Default Encoding: UTF-8\n",
       "Language: en\n",
       "Country: null\n",
       "--></g></svg>"
      ]
     },
     "execution_count": 49,
     "metadata": {},
     "output_type": "execute_result"
    }
   ],
   "source": [
    "%viz --style=\"TB\" --view=\"Sequence\" \"ItemTest\""
   ]
  },
  {
   "cell_type": "code",
   "execution_count": 50,
   "id": "42f9d028",
   "metadata": {
    "execution": {
     "iopub.execute_input": "2022-08-19T08:17:31.219772Z",
     "iopub.status.busy": "2022-08-19T08:17:31.219314Z",
     "iopub.status.idle": "2022-08-19T08:17:31.263844Z",
     "shell.execute_reply": "2022-08-19T08:17:31.263406Z"
    }
   },
   "outputs": [
    {
     "data": {
      "image/svg+xml": [
       "<?xml version=\"1.0\" encoding=\"UTF-8\" standalone=\"no\"?><svg xmlns=\"http://www.w3.org/2000/svg\" xmlns:xlink=\"http://www.w3.org/1999/xlink\" contentScriptType=\"application/ecmascript\" contentStyleType=\"text/css\" height=\"818px\" preserveAspectRatio=\"none\" style=\"width:270px;height:818px;\" version=\"1.1\" viewBox=\"0 0 270 818\" width=\"270px\" zoomAndPan=\"magnify\"><defs/><g><!--MD5=[fbc87193dbaf4d95561dea2c320d4a47]\n",
       "cluster E1--><a href=\"psysml:ae8f2d08-e2f6-41ef-ae81-a483692b435b\" target=\"_top\" title=\"psysml:ae8f2d08-e2f6-41ef-ae81-a483692b435b\" xlink:actuate=\"onRequest\" xlink:href=\"psysml:ae8f2d08-e2f6-41ef-ae81-a483692b435b\" xlink:show=\"new\" xlink:title=\"psysml:ae8f2d08-e2f6-41ef-ae81-a483692b435b\" xlink:type=\"simple\"><polygon fill=\"#FFFFFF\" points=\"16,6,83,6,90,28.2969,248,28.2969,248,806,16,806,16,6\" style=\"stroke: #000000; stroke-width: 1.5;\"/><line style=\"stroke: #000000; stroke-width: 1.5;\" x1=\"16\" x2=\"90\" y1=\"28.2969\" y2=\"28.2969\"/><text fill=\"#000000\" font-family=\"sans-serif\" font-size=\"14\" font-weight=\"bold\" lengthAdjust=\"spacingAndGlyphs\" textLength=\"61\" x=\"20\" y=\"20.9951\">ItemTest</text></a><!--MD5=[b4997ac47864f28c2f74865a473b2911]\n",
       "class E2--><a href=\"psysml:cbd0bd62-e912-4912-a2fb-da1e68d4f615\" target=\"_top\" title=\"psysml:cbd0bd62-e912-4912-a2fb-da1e68d4f615\" xlink:actuate=\"onRequest\" xlink:href=\"psysml:cbd0bd62-e912-4912-a2fb-da1e68d4f615\" xlink:show=\"new\" xlink:title=\"psysml:cbd0bd62-e912-4912-a2fb-da1e68d4f615\" xlink:type=\"simple\"><rect fill=\"#FFFFFF\" height=\"45.9375\" id=\"E2\" rx=\"10\" ry=\"10\" style=\"stroke: #383838; stroke-width: 1.5;\" width=\"43\" x=\"188.5\" y=\"148\"/><text fill=\"#000000\" font-family=\"sans-serif\" font-size=\"12\" font-style=\"italic\" lengthAdjust=\"spacingAndGlyphs\" textLength=\"41\" x=\"189.5\" y=\"164.1387\">«item»</text><text fill=\"#000000\" font-family=\"sans-serif\" font-size=\"12\" lengthAdjust=\"spacingAndGlyphs\" textLength=\"20\" x=\"198\" y=\"178.1074\">f: A</text><line style=\"stroke: #383838; stroke-width: 1.5;\" x1=\"189.5\" x2=\"230.5\" y1=\"185.9375\" y2=\"185.9375\"/></a><!--MD5=[09b614a08d8cba4a07c9adeb5e0fee81]\n",
       "class E3--><a href=\"psysml:2b189b42-edf1-49d6-a72b-40b548d68a1d\" target=\"_top\" title=\"psysml:2b189b42-edf1-49d6-a72b-40b548d68a1d\" xlink:actuate=\"onRequest\" xlink:href=\"psysml:2b189b42-edf1-49d6-a72b-40b548d68a1d\" xlink:show=\"new\" xlink:title=\"psysml:2b189b42-edf1-49d6-a72b-40b548d68a1d\" xlink:type=\"simple\"><rect fill=\"#FFFFFF\" height=\"45.9375\" id=\"E3\" style=\"stroke: #383838; stroke-width: 1.5;\" width=\"71\" x=\"96.5\" y=\"255\"/><text fill=\"#000000\" font-family=\"sans-serif\" font-size=\"12\" font-style=\"italic\" lengthAdjust=\"spacingAndGlyphs\" textLength=\"69\" x=\"97.5\" y=\"271.1387\">«item  def»</text><text fill=\"#000000\" font-family=\"sans-serif\" font-size=\"12\" lengthAdjust=\"spacingAndGlyphs\" textLength=\"8\" x=\"128\" y=\"285.1074\">A</text><line style=\"stroke: #383838; stroke-width: 1.5;\" x1=\"97.5\" x2=\"166.5\" y1=\"292.9375\" y2=\"292.9375\"/></a><!--MD5=[ebbe1d658d1005bcc118a6aa81145e00]\n",
       "class E4--><a href=\"psysml:94aeed99-fa0f-4cf3-9a3c-c07fcd3df143\" target=\"_top\" title=\"psysml:94aeed99-fa0f-4cf3-9a3c-c07fcd3df143\" xlink:actuate=\"onRequest\" xlink:href=\"psysml:94aeed99-fa0f-4cf3-9a3c-c07fcd3df143\" xlink:show=\"new\" xlink:title=\"psysml:94aeed99-fa0f-4cf3-9a3c-c07fcd3df143\" xlink:type=\"simple\"><rect fill=\"#FFFFFF\" height=\"45.9375\" id=\"E4\" rx=\"10\" ry=\"10\" style=\"stroke: #383838; stroke-width: 1.5;\" width=\"43\" x=\"45.5\" y=\"438\"/><text fill=\"#000000\" font-family=\"sans-serif\" font-size=\"12\" font-style=\"italic\" lengthAdjust=\"spacingAndGlyphs\" textLength=\"41\" x=\"46.5\" y=\"454.1387\">«item»</text><text fill=\"#000000\" font-family=\"sans-serif\" font-size=\"12\" lengthAdjust=\"spacingAndGlyphs\" textLength=\"24\" x=\"53\" y=\"468.1074\">b: B</text><line style=\"stroke: #383838; stroke-width: 1.5;\" x1=\"46.5\" x2=\"87.5\" y1=\"475.9375\" y2=\"475.9375\"/></a><!--MD5=[270fce915f116d4de14055a7c1d9a0f3]\n",
       "class E5--><a href=\"psysml:74f7fd5f-8520-4aae-9a17-942775661558\" target=\"_top\" title=\"psysml:74f7fd5f-8520-4aae-9a17-942775661558\" xlink:actuate=\"onRequest\" xlink:href=\"psysml:74f7fd5f-8520-4aae-9a17-942775661558\" xlink:show=\"new\" xlink:title=\"psysml:74f7fd5f-8520-4aae-9a17-942775661558\" xlink:type=\"simple\"><rect fill=\"#FFFFFF\" height=\"45.9375\" id=\"E5\" rx=\"10\" ry=\"10\" style=\"stroke: #383838; stroke-width: 1.5;\" width=\"42\" x=\"151\" y=\"362\"/><text fill=\"#000000\" font-family=\"sans-serif\" font-size=\"12\" font-style=\"italic\" lengthAdjust=\"spacingAndGlyphs\" textLength=\"40\" x=\"152\" y=\"378.1387\">«part»</text><text fill=\"#000000\" font-family=\"sans-serif\" font-size=\"12\" lengthAdjust=\"spacingAndGlyphs\" textLength=\"23\" x=\"158.5\" y=\"392.1074\">c: C</text><line style=\"stroke: #383838; stroke-width: 1.5;\" x1=\"152\" x2=\"192\" y1=\"399.9375\" y2=\"399.9375\"/></a><!--MD5=[60a26617385b1d2d0262a64233df1f8d]\n",
       "class E6--><a href=\"psysml:f1885442-e1dd-46d9-92aa-2427019de9de\" target=\"_top\" title=\"psysml:f1885442-e1dd-46d9-92aa-2427019de9de\" xlink:actuate=\"onRequest\" xlink:href=\"psysml:f1885442-e1dd-46d9-92aa-2427019de9de\" xlink:show=\"new\" xlink:title=\"psysml:f1885442-e1dd-46d9-92aa-2427019de9de\" xlink:type=\"simple\"><rect fill=\"#FFFFFF\" height=\"45.9375\" id=\"E6\" style=\"stroke: #383838; stroke-width: 1.5;\" width=\"71\" x=\"112.5\" y=\"637\"/><text fill=\"#000000\" font-family=\"sans-serif\" font-size=\"12\" font-style=\"italic\" lengthAdjust=\"spacingAndGlyphs\" textLength=\"69\" x=\"113.5\" y=\"653.1387\">«item  def»</text><text fill=\"#000000\" font-family=\"sans-serif\" font-size=\"12\" font-style=\"italic\" lengthAdjust=\"spacingAndGlyphs\" textLength=\"8\" x=\"144\" y=\"667.1074\">B</text><line style=\"stroke: #383838; stroke-width: 1.5;\" x1=\"113.5\" x2=\"182.5\" y1=\"674.9375\" y2=\"674.9375\"/></a><!--MD5=[2156ba9850f5573cc1fc38a6a4b2f02b]\n",
       "class E7--><a href=\"psysml:cc0b7000-21b2-4abb-bead-e88feeed0b85\" target=\"_top\" title=\"psysml:cc0b7000-21b2-4abb-bead-e88feeed0b85\" xlink:actuate=\"onRequest\" xlink:href=\"psysml:cc0b7000-21b2-4abb-bead-e88feeed0b85\" xlink:show=\"new\" xlink:title=\"psysml:cc0b7000-21b2-4abb-bead-e88feeed0b85\" xlink:type=\"simple\"><rect fill=\"#FFFFFF\" height=\"45.9375\" id=\"E7\" rx=\"10\" ry=\"10\" style=\"stroke: #383838; stroke-width: 1.5;\" width=\"42\" x=\"159\" y=\"744\"/><text fill=\"#000000\" font-family=\"sans-serif\" font-size=\"12\" font-style=\"italic\" lengthAdjust=\"spacingAndGlyphs\" textLength=\"40\" x=\"160\" y=\"760.1387\">«part»</text><text fill=\"#000000\" font-family=\"sans-serif\" font-size=\"12\" font-style=\"italic\" lengthAdjust=\"spacingAndGlyphs\" textLength=\"8\" x=\"166\" y=\"774.1074\">a</text><text fill=\"#000000\" font-family=\"sans-serif\" font-size=\"12\" lengthAdjust=\"spacingAndGlyphs\" textLength=\"16\" x=\"174\" y=\"774.1074\">: A</text><line style=\"stroke: #383838; stroke-width: 1.5;\" x1=\"160\" x2=\"200\" y1=\"781.9375\" y2=\"781.9375\"/></a><!--MD5=[b9389687b975829384b498ac4b7476b2]\n",
       "class E8--><a href=\"psysml:6db780a5-cf23-40f2-9df9-03150cb096d0\" target=\"_top\" title=\"psysml:6db780a5-cf23-40f2-9df9-03150cb096d0\" xlink:actuate=\"onRequest\" xlink:href=\"psysml:6db780a5-cf23-40f2-9df9-03150cb096d0\" xlink:show=\"new\" xlink:title=\"psysml:6db780a5-cf23-40f2-9df9-03150cb096d0\" xlink:type=\"simple\"><rect fill=\"#FFFFFF\" height=\"45.9375\" id=\"E8\" style=\"stroke: #383838; stroke-width: 1.5;\" width=\"70\" x=\"113\" y=\"514\"/><text fill=\"#000000\" font-family=\"sans-serif\" font-size=\"12\" font-style=\"italic\" lengthAdjust=\"spacingAndGlyphs\" textLength=\"68\" x=\"114\" y=\"530.1387\">«part  def»</text><text fill=\"#000000\" font-family=\"sans-serif\" font-size=\"12\" lengthAdjust=\"spacingAndGlyphs\" textLength=\"8\" x=\"144\" y=\"544.1074\">C</text><line style=\"stroke: #383838; stroke-width: 1.5;\" x1=\"114\" x2=\"182\" y1=\"551.9375\" y2=\"551.9375\"/></a><!--MD5=[fd4143e9d270a159db93a4ea2a975926]\n",
       "class E9--><a href=\"psysml:587854cf-6fe1-483d-a698-c7fca9a0c13c\" target=\"_top\" title=\"psysml:587854cf-6fe1-483d-a698-c7fca9a0c13c\" xlink:actuate=\"onRequest\" xlink:href=\"psysml:587854cf-6fe1-483d-a698-c7fca9a0c13c\" xlink:show=\"new\" xlink:title=\"psysml:587854cf-6fe1-483d-a698-c7fca9a0c13c\" xlink:type=\"simple\"><rect fill=\"#FFFFFF\" height=\"45.9375\" id=\"E9\" style=\"stroke: #383838; stroke-width: 1.5;\" width=\"70\" x=\"64\" y=\"41\"/><text fill=\"#000000\" font-family=\"sans-serif\" font-size=\"12\" font-style=\"italic\" lengthAdjust=\"spacingAndGlyphs\" textLength=\"68\" x=\"65\" y=\"57.1387\">«port  def»</text><text fill=\"#000000\" font-family=\"sans-serif\" font-size=\"12\" lengthAdjust=\"spacingAndGlyphs\" textLength=\"8\" x=\"95\" y=\"71.1074\">P</text><line style=\"stroke: #383838; stroke-width: 1.5;\" x1=\"65\" x2=\"133\" y1=\"78.9375\" y2=\"78.9375\"/></a><!--MD5=[96f4274e9e20536e775497830990834d]\n",
       "class E10--><a href=\"psysml:f73739ed-5364-4403-8254-d4f943238dfa\" target=\"_top\" title=\"psysml:f73739ed-5364-4403-8254-d4f943238dfa\" xlink:actuate=\"onRequest\" xlink:href=\"psysml:f73739ed-5364-4403-8254-d4f943238dfa\" xlink:show=\"new\" xlink:title=\"psysml:f73739ed-5364-4403-8254-d4f943238dfa\" xlink:type=\"simple\"><rect fill=\"#FFFFFF\" height=\"45.9375\" id=\"E10\" rx=\"10\" ry=\"10\" style=\"stroke: #383838; stroke-width: 1.5;\" width=\"43\" x=\"32.5\" y=\"148\"/><text fill=\"#000000\" font-family=\"sans-serif\" font-size=\"12\" font-style=\"italic\" lengthAdjust=\"spacingAndGlyphs\" textLength=\"41\" x=\"33.5\" y=\"164.1387\">«item»</text><text fill=\"#000000\" font-family=\"sans-serif\" font-size=\"12\" lengthAdjust=\"spacingAndGlyphs\" textLength=\"32\" x=\"36\" y=\"178.1074\">a1: A</text><line style=\"stroke: #383838; stroke-width: 1.5;\" x1=\"33.5\" x2=\"74.5\" y1=\"185.9375\" y2=\"185.9375\"/></a><!--MD5=[1dd1bfd58a279cf63c5f349dbc8fc6a1]\n",
       "class E11--><a href=\"psysml:6a7a2def-0eff-4194-80a2-af7f6b4a129e\" target=\"_top\" title=\"psysml:6a7a2def-0eff-4194-80a2-af7f6b4a129e\" xlink:actuate=\"onRequest\" xlink:href=\"psysml:6a7a2def-0eff-4194-80a2-af7f6b4a129e\" xlink:show=\"new\" xlink:title=\"psysml:6a7a2def-0eff-4194-80a2-af7f6b4a129e\" xlink:type=\"simple\"><rect fill=\"#FFFFFF\" height=\"45.9375\" id=\"E11\" rx=\"10\" ry=\"10\" style=\"stroke: #383838; stroke-width: 1.5;\" width=\"43\" x=\"110.5\" y=\"148\"/><text fill=\"#000000\" font-family=\"sans-serif\" font-size=\"12\" font-style=\"italic\" lengthAdjust=\"spacingAndGlyphs\" textLength=\"41\" x=\"111.5\" y=\"164.1387\">«item»</text><text fill=\"#000000\" font-family=\"sans-serif\" font-size=\"12\" lengthAdjust=\"spacingAndGlyphs\" textLength=\"32\" x=\"114\" y=\"178.1074\">a2: A</text><line style=\"stroke: #383838; stroke-width: 1.5;\" x1=\"111.5\" x2=\"152.5\" y1=\"185.9375\" y2=\"185.9375\"/></a><!--MD5=[2720a5a1f2c3fca2055b230370638851]\n",
       "link E2 to E3--><a href=\"psysml:8851b494-fad9-483d-8771-6e667cb982eb\" target=\"_top\" title=\"psysml:8851b494-fad9-483d-8771-6e667cb982eb\" xlink:actuate=\"onRequest\" xlink:href=\"psysml:8851b494-fad9-483d-8771-6e667cb982eb\" xlink:show=\"new\" xlink:title=\"psysml:8851b494-fad9-483d-8771-6e667cb982eb\" xlink:type=\"simple\"><path d=\"M193.65,194.01 C184.14,206.81 171.89,223.3 160.82,238.2 \" fill=\"none\" id=\"E2-&gt;E3\" style=\"stroke: #383838; stroke-width: 1.0;\"/><polygon fill=\"#FFFFFF\" points=\"148.6,254.66,154.3195,235.2361,165.5543,243.5896,148.6,254.66\" style=\"stroke: #383838; stroke-width: 1.0;\"/><ellipse cx=\"159.3256\" cy=\"231.8554\" fill=\"#383838\" rx=\"2\" ry=\"2\" style=\"stroke: #383838; stroke-width: 1.0;\"/><ellipse cx=\"167.3504\" cy=\"237.8221\" fill=\"#383838\" rx=\"2\" ry=\"2\" style=\"stroke: #383838; stroke-width: 1.0;\"/></a><!--MD5=[4672eba38e49728da53d11aeb285b987]\n",
       "reverse link E3 to E4--><a href=\"psysml:bbc4490d-4884-4bf2-8394-3cd2641c3130\" target=\"_top\" title=\"psysml:bbc4490d-4884-4bf2-8394-3cd2641c3130\" xlink:actuate=\"onRequest\" xlink:href=\"psysml:bbc4490d-4884-4bf2-8394-3cd2641c3130\" xlink:show=\"new\" xlink:title=\"psysml:bbc4490d-4884-4bf2-8394-3cd2641c3130\" xlink:type=\"simple\"><path d=\"M97.11,310.9 C84.08,325.11 70.81,342.94 64,362 C55.12,386.85 58.09,417.53 61.82,437.88 \" fill=\"none\" id=\"E3&lt;-E4\" style=\"stroke: #383838; stroke-width: 1.0;\"/><polygon fill=\"#FFFFFF\" points=\"106.46,301.23,99.4153,302.7703,98.1277,309.8655,105.1724,308.3252,106.46,301.23\" style=\"stroke: #383838; stroke-width: 1.0;\"/><text fill=\"#000000\" font-family=\"sans-serif\" font-size=\"13\" lengthAdjust=\"spacingAndGlyphs\" textLength=\"8\" x=\"51.3529\" y=\"426.744\">1</text></a><!--MD5=[191cde3d490a3f6d7bb551fe3ddca469]\n",
       "reverse link E3 to E5--><a href=\"psysml:896e58a4-3d4e-4523-9980-c4907a158d3f\" target=\"_top\" title=\"psysml:896e58a4-3d4e-4523-9980-c4907a158d3f\" xlink:actuate=\"onRequest\" xlink:href=\"psysml:896e58a4-3d4e-4523-9980-c4907a158d3f\" xlink:show=\"new\" xlink:title=\"psysml:896e58a4-3d4e-4523-9980-c4907a158d3f\" xlink:type=\"simple\"><path d=\"M145.17,313.57 C151.2,329.39 158.16,347.68 163.49,361.66 \" fill=\"none\" id=\"E3&lt;-E5\" style=\"stroke: #383838; stroke-width: 1.0;\"/><polygon fill=\"#FFFFFF\" points=\"140.39,301.01,138.7866,308.0406,144.6598,312.2247,146.2631,305.1941,140.39,301.01\" style=\"stroke: #383838; stroke-width: 1.0;\"/><text fill=\"#000000\" font-family=\"sans-serif\" font-size=\"13\" lengthAdjust=\"spacingAndGlyphs\" textLength=\"8\" x=\"152.2843\" y=\"350.8492\">1</text></a><!--MD5=[79568f1e445c3877b6a54524624ccc7d]\n",
       "link E4 to E6--><a href=\"psysml:ae089d5e-98d2-4386-a1f6-d9056ad7f1db\" target=\"_top\" title=\"psysml:ae089d5e-98d2-4386-a1f6-d9056ad7f1db\" xlink:actuate=\"onRequest\" xlink:href=\"psysml:ae089d5e-98d2-4386-a1f6-d9056ad7f1db\" xlink:show=\"new\" xlink:title=\"psysml:ae089d5e-98d2-4386-a1f6-d9056ad7f1db\" xlink:type=\"simple\"><path d=\"M72.25,484.22 C77.31,504.36 85.72,534.68 96,560 C104.15,580.08 115.08,601.47 124.82,619.21 \" fill=\"none\" id=\"E4-&gt;E6\" style=\"stroke: #383838; stroke-width: 1.0;\"/><polygon fill=\"#FFFFFF\" points=\"134.72,636.8,119.2979,623.6791,131.4967,616.8097,134.72,636.8\" style=\"stroke: #383838; stroke-width: 1.0;\"/><ellipse cx=\"118.2438\" cy=\"617.7311\" fill=\"#383838\" rx=\"2\" ry=\"2\" style=\"stroke: #383838; stroke-width: 1.0;\"/><ellipse cx=\"126.9572\" cy=\"612.8244\" fill=\"#383838\" rx=\"2\" ry=\"2\" style=\"stroke: #383838; stroke-width: 1.0;\"/></a><!--MD5=[3f50a3473f1dfb74d3f76443e03635af]\n",
       "reverse link E6 to E7--><a href=\"psysml:f93e67a1-8e91-4b72-abc4-aff48dcc0ebf\" target=\"_top\" title=\"psysml:f93e67a1-8e91-4b72-abc4-aff48dcc0ebf\" xlink:actuate=\"onRequest\" xlink:href=\"psysml:f93e67a1-8e91-4b72-abc4-aff48dcc0ebf\" xlink:show=\"new\" xlink:title=\"psysml:f93e67a1-8e91-4b72-abc4-aff48dcc0ebf\" xlink:type=\"simple\"><path d=\"M158.54,695.57 C163.36,711.39 168.93,729.68 173.19,743.66 \" fill=\"none\" id=\"E6&lt;-E7\" style=\"stroke: #383838; stroke-width: 1.0;\"/><polygon fill=\"#FFFFFF\" points=\"154.71,683.01,152.6319,689.9152,158.2066,694.4893,160.2847,687.5841,154.71,683.01\" style=\"stroke: #383838; stroke-width: 1.0;\"/><text fill=\"#000000\" font-family=\"sans-serif\" font-size=\"13\" lengthAdjust=\"spacingAndGlyphs\" textLength=\"8\" x=\"162.4199\" y=\"732.8492\">1</text></a><!--MD5=[14ccda38c055a5c0da953d572bc50960]\n",
       "link E7 to E3--><a href=\"psysml:729e96ed-f9a8-4349-a416-61bf2a977bd8\" target=\"_top\" title=\"psysml:729e96ed-f9a8-4349-a416-61bf2a977bd8\" xlink:actuate=\"onRequest\" xlink:href=\"psysml:729e96ed-f9a8-4349-a416-61bf2a977bd8\" xlink:show=\"new\" xlink:title=\"psysml:729e96ed-f9a8-4349-a416-61bf2a977bd8\" xlink:type=\"simple\"><path d=\"M197.41,743.63 C211.5,723.27 229,691.78 229,661 C229,384 229,384 229,384 C229,353.7 206.93,328.42 183.85,310.26 \" fill=\"none\" id=\"E7-&gt;E3\" style=\"stroke: #383838; stroke-width: 1.0;\"/><polygon fill=\"#FFFFFF\" points=\"167.57,298.59,187.0929,303.9617,178.9414,315.3438,167.57,298.59\" style=\"stroke: #383838; stroke-width: 1.0;\"/><ellipse cx=\"190.5626\" cy=\"308.9066\" fill=\"#383838\" rx=\"2\" ry=\"2\" style=\"stroke: #383838; stroke-width: 1.0;\"/><ellipse cx=\"184.7401\" cy=\"317.0367\" fill=\"#383838\" rx=\"2\" ry=\"2\" style=\"stroke: #383838; stroke-width: 1.0;\"/></a><!--MD5=[dfaffb906826c3e5aca635516100ff21]\n",
       "link E5 to E8--><a href=\"psysml:8b27b07a-ba61-4df4-814a-c4b9eba72255\" target=\"_top\" title=\"psysml:8b27b07a-ba61-4df4-814a-c4b9eba72255\" xlink:actuate=\"onRequest\" xlink:href=\"psysml:8b27b07a-ba61-4df4-814a-c4b9eba72255\" xlink:show=\"new\" xlink:title=\"psysml:8b27b07a-ba61-4df4-814a-c4b9eba72255\" xlink:type=\"simple\"><path d=\"M168.46,408.13 C164.86,430.62 159.2,466.01 154.74,493.87 \" fill=\"none\" id=\"E5-&gt;E8\" style=\"stroke: #383838; stroke-width: 1.0;\"/><polygon fill=\"#FFFFFF\" points=\"151.56,513.78,147.6458,493.9135,161.4704,496.1226,151.56,513.78\" style=\"stroke: #383838; stroke-width: 1.0;\"/><ellipse cx=\"150.5202\" cy=\"488.6005\" fill=\"#383838\" rx=\"2\" ry=\"2\" style=\"stroke: #383838; stroke-width: 1.0;\"/><ellipse cx=\"160.3949\" cy=\"490.1784\" fill=\"#383838\" rx=\"2\" ry=\"2\" style=\"stroke: #383838; stroke-width: 1.0;\"/></a><!--MD5=[03c8294790d3c57651a1993cecff665f]\n",
       "reverse link E8 to E3--><a href=\"psysml:2fa26767-edf9-4f1d-8702-6d0b4fb1afcf\" target=\"_top\" title=\"psysml:2fa26767-edf9-4f1d-8702-6d0b4fb1afcf\" xlink:actuate=\"onRequest\" xlink:href=\"psysml:2fa26767-edf9-4f1d-8702-6d0b4fb1afcf\" xlink:show=\"new\" xlink:title=\"psysml:2fa26767-edf9-4f1d-8702-6d0b4fb1afcf\" xlink:type=\"simple\"><path d=\"M140.02,501.22 C134.57,475.6 127.84,439.84 125,408 C123.18,387.64 124.14,382.43 125,362 C125.87,341.34 127.95,317.86 129.62,301.16 \" fill=\"none\" id=\"E8&lt;-E3\" style=\"stroke: #383838; stroke-width: 1.0;\"/><polygon fill=\"#FFFFFF\" points=\"142.81,513.96,145.4388,507.2451,140.2515,502.2359,137.6227,508.9508,142.81,513.96\" style=\"stroke: #383838; stroke-width: 1.0;\"/><text fill=\"#000000\" font-family=\"sans-serif\" font-size=\"13\" lengthAdjust=\"spacingAndGlyphs\" textLength=\"7\" x=\"126\" y=\"389.5669\">y</text></a><!--MD5=[0d75d2178373a6a4568e5dc728f58aef]\n",
       "reverse link E8 to E6--><a href=\"psysml:2fa26767-edf9-4f1d-8702-6d0b4fb1afcf\" target=\"_top\" title=\"psysml:2fa26767-edf9-4f1d-8702-6d0b4fb1afcf\" xlink:actuate=\"onRequest\" xlink:href=\"psysml:2fa26767-edf9-4f1d-8702-6d0b4fb1afcf\" xlink:show=\"new\" xlink:title=\"psysml:2fa26767-edf9-4f1d-8702-6d0b4fb1afcf\" xlink:type=\"simple\"><path d=\"M148,573.22 C148,593.81 148,619.16 148,636.95 \" fill=\"none\" id=\"E8&lt;-E6\" style=\"stroke: #383838; stroke-width: 1.0;\"/><polygon fill=\"#FFFFFF\" points=\"148,560.19,144,566.19,148,572.19,152,566.19,148,560.19\" style=\"stroke: #383838; stroke-width: 1.0;\"/><text fill=\"#000000\" font-family=\"sans-serif\" font-size=\"13\" lengthAdjust=\"spacingAndGlyphs\" textLength=\"7\" x=\"149\" y=\"603.0669\">y</text></a><!--MD5=[23ac544a70576c3e717098101004234c]\n",
       "reverse link E9 to E10--><a href=\"psysml:2a8d2925-3f72-4e1c-849d-9e3943fa1d15\" target=\"_top\" title=\"psysml:2a8d2925-3f72-4e1c-849d-9e3943fa1d15\" xlink:actuate=\"onRequest\" xlink:href=\"psysml:2a8d2925-3f72-4e1c-849d-9e3943fa1d15\" xlink:show=\"new\" xlink:title=\"psysml:2a8d2925-3f72-4e1c-849d-9e3943fa1d15\" xlink:type=\"simple\"><path d=\"M84.39,99.1 C77.56,115.03 69.63,133.54 63.58,147.66 \" fill=\"none\" id=\"E9&lt;-E10\" style=\"stroke: #383838; stroke-width: 1.0;\"/><polygon fill=\"#FFFFFF\" points=\"89.57,87.01,83.5327,90.9535,84.8509,98.0431,90.8882,94.0996,89.57,87.01\" style=\"stroke: #383838; stroke-width: 1.0;\"/><text fill=\"#000000\" font-family=\"sans-serif\" font-size=\"13\" lengthAdjust=\"spacingAndGlyphs\" textLength=\"8\" x=\"57.0099\" y=\"136.8492\">1</text></a><!--MD5=[feeac5eb423634930294aa81f2d25a4c]\n",
       "link E10 to E3--><a href=\"psysml:be0eb1db-3a2d-4525-bfbd-aed22db095bf\" target=\"_top\" title=\"psysml:be0eb1db-3a2d-4525-bfbd-aed22db095bf\" xlink:actuate=\"onRequest\" xlink:href=\"psysml:be0eb1db-3a2d-4525-bfbd-aed22db095bf\" xlink:show=\"new\" xlink:title=\"psysml:be0eb1db-3a2d-4525-bfbd-aed22db095bf\" xlink:type=\"simple\"><path d=\"M70.35,194.01 C79.86,206.81 92.11,223.3 103.18,238.2 \" fill=\"none\" id=\"E10-&gt;E3\" style=\"stroke: #383838; stroke-width: 1.0;\"/><polygon fill=\"#FFFFFF\" points=\"115.4,254.66,98.4457,243.5896,109.6805,235.2361,115.4,254.66\" style=\"stroke: #383838; stroke-width: 1.0;\"/><ellipse cx=\"96.6496\" cy=\"237.8221\" fill=\"#383838\" rx=\"2\" ry=\"2\" style=\"stroke: #383838; stroke-width: 1.0;\"/><ellipse cx=\"104.6744\" cy=\"231.8554\" fill=\"#383838\" rx=\"2\" ry=\"2\" style=\"stroke: #383838; stroke-width: 1.0;\"/></a><!--MD5=[1fc04a95fd77ad5ce46c1a3027516051]\n",
       "reverse link E9 to E11--><a href=\"psysml:4a4899a0-cca2-49ff-ba55-d15caf476c4f\" target=\"_top\" title=\"psysml:4a4899a0-cca2-49ff-ba55-d15caf476c4f\" xlink:actuate=\"onRequest\" xlink:href=\"psysml:4a4899a0-cca2-49ff-ba55-d15caf476c4f\" xlink:show=\"new\" xlink:title=\"psysml:4a4899a0-cca2-49ff-ba55-d15caf476c4f\" xlink:type=\"simple\"><path d=\"M109.87,99.57 C114.84,115.39 120.59,133.68 124.98,147.66 \" fill=\"none\" id=\"E9&lt;-E11\" style=\"stroke: #383838; stroke-width: 1.0;\"/><polygon fill=\"#FFFFFF\" points=\"105.92,87.01,103.9044,93.9337,109.5203,98.4572,111.5359,91.5335,105.92,87.01\" style=\"stroke: #383838; stroke-width: 1.0;\"/><text fill=\"#000000\" font-family=\"sans-serif\" font-size=\"13\" lengthAdjust=\"spacingAndGlyphs\" textLength=\"8\" x=\"114.1561\" y=\"136.8492\">1</text></a><!--MD5=[0517f1ce58c4d5483948f93845c45e26]\n",
       "link E11 to E3--><a href=\"psysml:8ddae6f0-112f-4ded-9c4d-74dd6bca1f55\" target=\"_top\" title=\"psysml:8ddae6f0-112f-4ded-9c4d-74dd6bca1f55\" xlink:actuate=\"onRequest\" xlink:href=\"psysml:8ddae6f0-112f-4ded-9c4d-74dd6bca1f55\" xlink:show=\"new\" xlink:title=\"psysml:8ddae6f0-112f-4ded-9c4d-74dd6bca1f55\" xlink:type=\"simple\"><path d=\"M132,194.01 C132,205.69 132,220.46 132,234.28 \" fill=\"none\" id=\"E11-&gt;E3\" style=\"stroke: #383838; stroke-width: 1.0;\"/><polygon fill=\"#FFFFFF\" points=\"132,254.66,125,235.66,139,235.66,132,254.66\" style=\"stroke: #383838; stroke-width: 1.0;\"/><ellipse cx=\"127\" cy=\"229.96\" fill=\"#383838\" rx=\"2\" ry=\"2\" style=\"stroke: #383838; stroke-width: 1.0;\"/><ellipse cx=\"137\" cy=\"229.96\" fill=\"#383838\" rx=\"2\" ry=\"2\" style=\"stroke: #383838; stroke-width: 1.0;\"/></a><!--MD5=[29e7ab5e1732d0acfb39fc75436e3c5f]\n",
       "@startuml\r\n",
       "top to bottom direction\r\n",
       "skinparam monochrome true\r\n",
       "skinparam classbackgroundcolor white\r\n",
       "skinparam shadowing false\r\n",
       "skinparam wrapWidth 300\r\n",
       "hide circle\r\n",
       "\r\n",
       "package \"ItemTest\" as E1  [[psysml:ae8f2d08-e2f6-41ef-ae81-a483692b435b ]]  {\r\n",
       "comp usage \"f: A \" as E2  <<(T,blue) item>> [[psysml:cbd0bd62-e912-4912-a2fb-da1e68d4f615 ]] {\r\n",
       "}\r\n",
       "comp def \"A\" as E3  <<(T,blue) item  def>> [[psysml:2b189b42-edf1-49d6-a72b-40b548d68a1d ]] {\r\n",
       "}\r\n",
       "comp usage \"b: B \" as E4  <<(T,blue) item>> [[psysml:94aeed99-fa0f-4cf3-9a3c-c07fcd3df143 ]] {\r\n",
       "}\r\n",
       "comp usage \"c: C \" as E5  <<(T,blue) part>> [[psysml:74f7fd5f-8520-4aae-9a17-942775661558 ]] {\r\n",
       "}\r\n",
       "comp def \"<i>B</i>\" as E6  <<(T,blue) item  def>> [[psysml:f1885442-e1dd-46d9-92aa-2427019de9de ]] {\r\n",
       "}\r\n",
       "comp usage \"<i>a</i>: A \" as E7  <<(T,blue) part>> [[psysml:cc0b7000-21b2-4abb-bead-e88feeed0b85 ]] {\r\n",
       "}\r\n",
       "comp def \"C\" as E8  <<(T,blue) part  def>> [[psysml:6db780a5-cf23-40f2-9df9-03150cb096d0 ]] {\r\n",
       "}\r\n",
       "comp def \"P\" as E9  <<(T,blue) port  def>> [[psysml:587854cf-6fe1-483d-a698-c7fca9a0c13c ]] {\r\n",
       "}\r\n",
       "comp usage \"a1: A \" as E10  <<(T,blue) item>> [[psysml:f73739ed-5364-4403-8254-d4f943238dfa ]] {\r\n",
       "}\r\n",
       "comp usage \"a2: A \" as E11  <<(T,blue) item>> [[psysml:6a7a2def-0eff-4194-80a2-af7f6b4a129e ]] {\r\n",
       "}\r\n",
       "}\r\n",
       "E2 - -:|> E3 [[psysml:8851b494-fad9-483d-8771-6e667cb982eb ]] \r\n",
       "E3 o- - \"1\"E4 [[psysml:bbc4490d-4884-4bf2-8394-3cd2641c3130 ]] \r\n",
       "E3 o- - \"1\"E5 [[psysml:896e58a4-3d4e-4523-9980-c4907a158d3f ]] \r\n",
       "E4 - -:|> E6 [[psysml:ae089d5e-98d2-4386-a1f6-d9056ad7f1db ]] \r\n",
       "E6 o- - \"1\"E7 [[psysml:f93e67a1-8e91-4b72-abc4-aff48dcc0ebf ]] \r\n",
       "E7 - -:|> E3 [[psysml:729e96ed-f9a8-4349-a416-61bf2a977bd8 ]] \r\n",
       "E5 - -:|> E8 [[psysml:8b27b07a-ba61-4df4-814a-c4b9eba72255 ]] \r\n",
       "E8 o- - E3 [[psysml:2fa26767-edf9-4f1d-8702-6d0b4fb1afcf ]] : y\r\n",
       "E8 o- - E6 [[psysml:2fa26767-edf9-4f1d-8702-6d0b4fb1afcf ]] : y\r\n",
       "E9 o- - \"1\"E10 [[psysml:2a8d2925-3f72-4e1c-849d-9e3943fa1d15 ]] \r\n",
       "E10 - -:|> E3 [[psysml:be0eb1db-3a2d-4525-bfbd-aed22db095bf ]] \r\n",
       "E9 o- - \"1\"E11 [[psysml:4a4899a0-cca2-49ff-ba55-d15caf476c4f ]] \r\n",
       "E11 - -:|> E3 [[psysml:8ddae6f0-112f-4ded-9c4d-74dd6bca1f55 ]] \r\n",
       "@enduml\r\n",
       "\n",
       "PlantUML version 1.2020.13(Sat Jun 13 12:26:38 UTC 2020)\n",
       "(EPL source distribution)\n",
       "Java Runtime: OpenJDK Runtime Environment\n",
       "JVM: OpenJDK 64-Bit Server VM\n",
       "Default Encoding: UTF-8\n",
       "Language: en\n",
       "Country: null\n",
       "--></g></svg>"
      ]
     },
     "execution_count": 50,
     "metadata": {},
     "output_type": "execute_result"
    }
   ],
   "source": [
    "%viz --style=\"TB\" --view=\"MIXED\" \"ItemTest\""
   ]
  },
  {
   "cell_type": "code",
   "execution_count": 51,
   "id": "295a4138",
   "metadata": {
    "execution": {
     "iopub.execute_input": "2022-08-19T08:17:31.313326Z",
     "iopub.status.busy": "2022-08-19T08:17:31.312883Z",
     "iopub.status.idle": "2022-08-19T08:17:31.356898Z",
     "shell.execute_reply": "2022-08-19T08:17:31.356506Z"
    }
   },
   "outputs": [
    {
     "data": {
      "image/svg+xml": [
       "<?xml version=\"1.0\" encoding=\"UTF-8\" standalone=\"no\"?><svg xmlns=\"http://www.w3.org/2000/svg\" xmlns:xlink=\"http://www.w3.org/1999/xlink\" contentScriptType=\"application/ecmascript\" contentStyleType=\"text/css\" height=\"818px\" preserveAspectRatio=\"none\" style=\"width:270px;height:818px;\" version=\"1.1\" viewBox=\"0 0 270 818\" width=\"270px\" zoomAndPan=\"magnify\"><defs/><g><!--MD5=[fbc87193dbaf4d95561dea2c320d4a47]\n",
       "cluster E1--><a href=\"psysml:ae8f2d08-e2f6-41ef-ae81-a483692b435b\" target=\"_top\" title=\"psysml:ae8f2d08-e2f6-41ef-ae81-a483692b435b\" xlink:actuate=\"onRequest\" xlink:href=\"psysml:ae8f2d08-e2f6-41ef-ae81-a483692b435b\" xlink:show=\"new\" xlink:title=\"psysml:ae8f2d08-e2f6-41ef-ae81-a483692b435b\" xlink:type=\"simple\"><polygon fill=\"#FFFFFF\" points=\"16,6,83,6,90,28.2969,248,28.2969,248,806,16,806,16,6\" style=\"stroke: #000000; stroke-width: 1.5;\"/><line style=\"stroke: #000000; stroke-width: 1.5;\" x1=\"16\" x2=\"90\" y1=\"28.2969\" y2=\"28.2969\"/><text fill=\"#000000\" font-family=\"sans-serif\" font-size=\"14\" font-weight=\"bold\" lengthAdjust=\"spacingAndGlyphs\" textLength=\"61\" x=\"20\" y=\"20.9951\">ItemTest</text></a><!--MD5=[b4997ac47864f28c2f74865a473b2911]\n",
       "class E2--><a href=\"psysml:cbd0bd62-e912-4912-a2fb-da1e68d4f615\" target=\"_top\" title=\"psysml:cbd0bd62-e912-4912-a2fb-da1e68d4f615\" xlink:actuate=\"onRequest\" xlink:href=\"psysml:cbd0bd62-e912-4912-a2fb-da1e68d4f615\" xlink:show=\"new\" xlink:title=\"psysml:cbd0bd62-e912-4912-a2fb-da1e68d4f615\" xlink:type=\"simple\"><rect fill=\"#FFFFFF\" height=\"45.9375\" id=\"E2\" rx=\"10\" ry=\"10\" style=\"stroke: #383838; stroke-width: 1.5;\" width=\"43\" x=\"188.5\" y=\"148\"/><text fill=\"#000000\" font-family=\"sans-serif\" font-size=\"12\" font-style=\"italic\" lengthAdjust=\"spacingAndGlyphs\" textLength=\"41\" x=\"189.5\" y=\"164.1387\">«item»</text><text fill=\"#000000\" font-family=\"sans-serif\" font-size=\"12\" lengthAdjust=\"spacingAndGlyphs\" textLength=\"20\" x=\"198\" y=\"178.1074\">f: A</text><line style=\"stroke: #383838; stroke-width: 1.5;\" x1=\"189.5\" x2=\"230.5\" y1=\"185.9375\" y2=\"185.9375\"/></a><!--MD5=[09b614a08d8cba4a07c9adeb5e0fee81]\n",
       "class E3--><a href=\"psysml:2b189b42-edf1-49d6-a72b-40b548d68a1d\" target=\"_top\" title=\"psysml:2b189b42-edf1-49d6-a72b-40b548d68a1d\" xlink:actuate=\"onRequest\" xlink:href=\"psysml:2b189b42-edf1-49d6-a72b-40b548d68a1d\" xlink:show=\"new\" xlink:title=\"psysml:2b189b42-edf1-49d6-a72b-40b548d68a1d\" xlink:type=\"simple\"><rect fill=\"#FFFFFF\" height=\"45.9375\" id=\"E3\" style=\"stroke: #383838; stroke-width: 1.5;\" width=\"71\" x=\"96.5\" y=\"255\"/><text fill=\"#000000\" font-family=\"sans-serif\" font-size=\"12\" font-style=\"italic\" lengthAdjust=\"spacingAndGlyphs\" textLength=\"69\" x=\"97.5\" y=\"271.1387\">«item  def»</text><text fill=\"#000000\" font-family=\"sans-serif\" font-size=\"12\" lengthAdjust=\"spacingAndGlyphs\" textLength=\"8\" x=\"128\" y=\"285.1074\">A</text><line style=\"stroke: #383838; stroke-width: 1.5;\" x1=\"97.5\" x2=\"166.5\" y1=\"292.9375\" y2=\"292.9375\"/></a><!--MD5=[ebbe1d658d1005bcc118a6aa81145e00]\n",
       "class E4--><a href=\"psysml:94aeed99-fa0f-4cf3-9a3c-c07fcd3df143\" target=\"_top\" title=\"psysml:94aeed99-fa0f-4cf3-9a3c-c07fcd3df143\" xlink:actuate=\"onRequest\" xlink:href=\"psysml:94aeed99-fa0f-4cf3-9a3c-c07fcd3df143\" xlink:show=\"new\" xlink:title=\"psysml:94aeed99-fa0f-4cf3-9a3c-c07fcd3df143\" xlink:type=\"simple\"><rect fill=\"#FFFFFF\" height=\"45.9375\" id=\"E4\" rx=\"10\" ry=\"10\" style=\"stroke: #383838; stroke-width: 1.5;\" width=\"43\" x=\"45.5\" y=\"438\"/><text fill=\"#000000\" font-family=\"sans-serif\" font-size=\"12\" font-style=\"italic\" lengthAdjust=\"spacingAndGlyphs\" textLength=\"41\" x=\"46.5\" y=\"454.1387\">«item»</text><text fill=\"#000000\" font-family=\"sans-serif\" font-size=\"12\" lengthAdjust=\"spacingAndGlyphs\" textLength=\"24\" x=\"53\" y=\"468.1074\">b: B</text><line style=\"stroke: #383838; stroke-width: 1.5;\" x1=\"46.5\" x2=\"87.5\" y1=\"475.9375\" y2=\"475.9375\"/></a><!--MD5=[270fce915f116d4de14055a7c1d9a0f3]\n",
       "class E5--><a href=\"psysml:74f7fd5f-8520-4aae-9a17-942775661558\" target=\"_top\" title=\"psysml:74f7fd5f-8520-4aae-9a17-942775661558\" xlink:actuate=\"onRequest\" xlink:href=\"psysml:74f7fd5f-8520-4aae-9a17-942775661558\" xlink:show=\"new\" xlink:title=\"psysml:74f7fd5f-8520-4aae-9a17-942775661558\" xlink:type=\"simple\"><rect fill=\"#FFFFFF\" height=\"45.9375\" id=\"E5\" rx=\"10\" ry=\"10\" style=\"stroke: #383838; stroke-width: 1.5;\" width=\"42\" x=\"151\" y=\"362\"/><text fill=\"#000000\" font-family=\"sans-serif\" font-size=\"12\" font-style=\"italic\" lengthAdjust=\"spacingAndGlyphs\" textLength=\"40\" x=\"152\" y=\"378.1387\">«part»</text><text fill=\"#000000\" font-family=\"sans-serif\" font-size=\"12\" lengthAdjust=\"spacingAndGlyphs\" textLength=\"23\" x=\"158.5\" y=\"392.1074\">c: C</text><line style=\"stroke: #383838; stroke-width: 1.5;\" x1=\"152\" x2=\"192\" y1=\"399.9375\" y2=\"399.9375\"/></a><!--MD5=[60a26617385b1d2d0262a64233df1f8d]\n",
       "class E6--><a href=\"psysml:f1885442-e1dd-46d9-92aa-2427019de9de\" target=\"_top\" title=\"psysml:f1885442-e1dd-46d9-92aa-2427019de9de\" xlink:actuate=\"onRequest\" xlink:href=\"psysml:f1885442-e1dd-46d9-92aa-2427019de9de\" xlink:show=\"new\" xlink:title=\"psysml:f1885442-e1dd-46d9-92aa-2427019de9de\" xlink:type=\"simple\"><rect fill=\"#FFFFFF\" height=\"45.9375\" id=\"E6\" style=\"stroke: #383838; stroke-width: 1.5;\" width=\"71\" x=\"112.5\" y=\"637\"/><text fill=\"#000000\" font-family=\"sans-serif\" font-size=\"12\" font-style=\"italic\" lengthAdjust=\"spacingAndGlyphs\" textLength=\"69\" x=\"113.5\" y=\"653.1387\">«item  def»</text><text fill=\"#000000\" font-family=\"sans-serif\" font-size=\"12\" font-style=\"italic\" lengthAdjust=\"spacingAndGlyphs\" textLength=\"8\" x=\"144\" y=\"667.1074\">B</text><line style=\"stroke: #383838; stroke-width: 1.5;\" x1=\"113.5\" x2=\"182.5\" y1=\"674.9375\" y2=\"674.9375\"/></a><!--MD5=[2156ba9850f5573cc1fc38a6a4b2f02b]\n",
       "class E7--><a href=\"psysml:cc0b7000-21b2-4abb-bead-e88feeed0b85\" target=\"_top\" title=\"psysml:cc0b7000-21b2-4abb-bead-e88feeed0b85\" xlink:actuate=\"onRequest\" xlink:href=\"psysml:cc0b7000-21b2-4abb-bead-e88feeed0b85\" xlink:show=\"new\" xlink:title=\"psysml:cc0b7000-21b2-4abb-bead-e88feeed0b85\" xlink:type=\"simple\"><rect fill=\"#FFFFFF\" height=\"45.9375\" id=\"E7\" rx=\"10\" ry=\"10\" style=\"stroke: #383838; stroke-width: 1.5;\" width=\"42\" x=\"159\" y=\"744\"/><text fill=\"#000000\" font-family=\"sans-serif\" font-size=\"12\" font-style=\"italic\" lengthAdjust=\"spacingAndGlyphs\" textLength=\"40\" x=\"160\" y=\"760.1387\">«part»</text><text fill=\"#000000\" font-family=\"sans-serif\" font-size=\"12\" font-style=\"italic\" lengthAdjust=\"spacingAndGlyphs\" textLength=\"8\" x=\"166\" y=\"774.1074\">a</text><text fill=\"#000000\" font-family=\"sans-serif\" font-size=\"12\" lengthAdjust=\"spacingAndGlyphs\" textLength=\"16\" x=\"174\" y=\"774.1074\">: A</text><line style=\"stroke: #383838; stroke-width: 1.5;\" x1=\"160\" x2=\"200\" y1=\"781.9375\" y2=\"781.9375\"/></a><!--MD5=[b9389687b975829384b498ac4b7476b2]\n",
       "class E8--><a href=\"psysml:6db780a5-cf23-40f2-9df9-03150cb096d0\" target=\"_top\" title=\"psysml:6db780a5-cf23-40f2-9df9-03150cb096d0\" xlink:actuate=\"onRequest\" xlink:href=\"psysml:6db780a5-cf23-40f2-9df9-03150cb096d0\" xlink:show=\"new\" xlink:title=\"psysml:6db780a5-cf23-40f2-9df9-03150cb096d0\" xlink:type=\"simple\"><rect fill=\"#FFFFFF\" height=\"45.9375\" id=\"E8\" style=\"stroke: #383838; stroke-width: 1.5;\" width=\"70\" x=\"113\" y=\"514\"/><text fill=\"#000000\" font-family=\"sans-serif\" font-size=\"12\" font-style=\"italic\" lengthAdjust=\"spacingAndGlyphs\" textLength=\"68\" x=\"114\" y=\"530.1387\">«part  def»</text><text fill=\"#000000\" font-family=\"sans-serif\" font-size=\"12\" lengthAdjust=\"spacingAndGlyphs\" textLength=\"8\" x=\"144\" y=\"544.1074\">C</text><line style=\"stroke: #383838; stroke-width: 1.5;\" x1=\"114\" x2=\"182\" y1=\"551.9375\" y2=\"551.9375\"/></a><!--MD5=[fd4143e9d270a159db93a4ea2a975926]\n",
       "class E9--><a href=\"psysml:587854cf-6fe1-483d-a698-c7fca9a0c13c\" target=\"_top\" title=\"psysml:587854cf-6fe1-483d-a698-c7fca9a0c13c\" xlink:actuate=\"onRequest\" xlink:href=\"psysml:587854cf-6fe1-483d-a698-c7fca9a0c13c\" xlink:show=\"new\" xlink:title=\"psysml:587854cf-6fe1-483d-a698-c7fca9a0c13c\" xlink:type=\"simple\"><rect fill=\"#FFFFFF\" height=\"45.9375\" id=\"E9\" style=\"stroke: #383838; stroke-width: 1.5;\" width=\"70\" x=\"64\" y=\"41\"/><text fill=\"#000000\" font-family=\"sans-serif\" font-size=\"12\" font-style=\"italic\" lengthAdjust=\"spacingAndGlyphs\" textLength=\"68\" x=\"65\" y=\"57.1387\">«port  def»</text><text fill=\"#000000\" font-family=\"sans-serif\" font-size=\"12\" lengthAdjust=\"spacingAndGlyphs\" textLength=\"8\" x=\"95\" y=\"71.1074\">P</text><line style=\"stroke: #383838; stroke-width: 1.5;\" x1=\"65\" x2=\"133\" y1=\"78.9375\" y2=\"78.9375\"/></a><!--MD5=[96f4274e9e20536e775497830990834d]\n",
       "class E10--><a href=\"psysml:f73739ed-5364-4403-8254-d4f943238dfa\" target=\"_top\" title=\"psysml:f73739ed-5364-4403-8254-d4f943238dfa\" xlink:actuate=\"onRequest\" xlink:href=\"psysml:f73739ed-5364-4403-8254-d4f943238dfa\" xlink:show=\"new\" xlink:title=\"psysml:f73739ed-5364-4403-8254-d4f943238dfa\" xlink:type=\"simple\"><rect fill=\"#FFFFFF\" height=\"45.9375\" id=\"E10\" rx=\"10\" ry=\"10\" style=\"stroke: #383838; stroke-width: 1.5;\" width=\"43\" x=\"32.5\" y=\"148\"/><text fill=\"#000000\" font-family=\"sans-serif\" font-size=\"12\" font-style=\"italic\" lengthAdjust=\"spacingAndGlyphs\" textLength=\"41\" x=\"33.5\" y=\"164.1387\">«item»</text><text fill=\"#000000\" font-family=\"sans-serif\" font-size=\"12\" lengthAdjust=\"spacingAndGlyphs\" textLength=\"32\" x=\"36\" y=\"178.1074\">a1: A</text><line style=\"stroke: #383838; stroke-width: 1.5;\" x1=\"33.5\" x2=\"74.5\" y1=\"185.9375\" y2=\"185.9375\"/></a><!--MD5=[1dd1bfd58a279cf63c5f349dbc8fc6a1]\n",
       "class E11--><a href=\"psysml:6a7a2def-0eff-4194-80a2-af7f6b4a129e\" target=\"_top\" title=\"psysml:6a7a2def-0eff-4194-80a2-af7f6b4a129e\" xlink:actuate=\"onRequest\" xlink:href=\"psysml:6a7a2def-0eff-4194-80a2-af7f6b4a129e\" xlink:show=\"new\" xlink:title=\"psysml:6a7a2def-0eff-4194-80a2-af7f6b4a129e\" xlink:type=\"simple\"><rect fill=\"#FFFFFF\" height=\"45.9375\" id=\"E11\" rx=\"10\" ry=\"10\" style=\"stroke: #383838; stroke-width: 1.5;\" width=\"43\" x=\"110.5\" y=\"148\"/><text fill=\"#000000\" font-family=\"sans-serif\" font-size=\"12\" font-style=\"italic\" lengthAdjust=\"spacingAndGlyphs\" textLength=\"41\" x=\"111.5\" y=\"164.1387\">«item»</text><text fill=\"#000000\" font-family=\"sans-serif\" font-size=\"12\" lengthAdjust=\"spacingAndGlyphs\" textLength=\"32\" x=\"114\" y=\"178.1074\">a2: A</text><line style=\"stroke: #383838; stroke-width: 1.5;\" x1=\"111.5\" x2=\"152.5\" y1=\"185.9375\" y2=\"185.9375\"/></a><!--MD5=[2720a5a1f2c3fca2055b230370638851]\n",
       "link E2 to E3--><a href=\"psysml:8851b494-fad9-483d-8771-6e667cb982eb\" target=\"_top\" title=\"psysml:8851b494-fad9-483d-8771-6e667cb982eb\" xlink:actuate=\"onRequest\" xlink:href=\"psysml:8851b494-fad9-483d-8771-6e667cb982eb\" xlink:show=\"new\" xlink:title=\"psysml:8851b494-fad9-483d-8771-6e667cb982eb\" xlink:type=\"simple\"><path d=\"M188.43,171 C175.09,171 160.5,171 160.5,171 C160.5,171 160.5,234.78 160.5,234.78 \" fill=\"none\" id=\"E2-&gt;E3\" style=\"stroke: #383838; stroke-width: 1.0;\"/><polygon fill=\"#FFFFFF\" points=\"160.5,254.78,153.5,235.78,167.5,235.78,160.5,254.78\" style=\"stroke: #383838; stroke-width: 1.0;\"/><ellipse cx=\"155.5\" cy=\"230.08\" fill=\"#383838\" rx=\"2\" ry=\"2\" style=\"stroke: #383838; stroke-width: 1.0;\"/><ellipse cx=\"165.5\" cy=\"230.08\" fill=\"#383838\" rx=\"2\" ry=\"2\" style=\"stroke: #383838; stroke-width: 1.0;\"/></a><!--MD5=[4672eba38e49728da53d11aeb285b987]\n",
       "reverse link E3 to E4--><a href=\"psysml:bbc4490d-4884-4bf2-8394-3cd2641c3130\" target=\"_top\" title=\"psysml:bbc4490d-4884-4bf2-8394-3cd2641c3130\" xlink:actuate=\"onRequest\" xlink:href=\"psysml:bbc4490d-4884-4bf2-8394-3cd2641c3130\" xlink:show=\"new\" xlink:title=\"psysml:bbc4490d-4884-4bf2-8394-3cd2641c3130\" xlink:type=\"simple\"><path d=\"M83.46,278 C83.46,278 82,278 82,278 C82,278 82,388.58 82,437.82 \" fill=\"none\" id=\"E3&lt;-E4\" style=\"stroke: #383838; stroke-width: 1.0;\"/><polygon fill=\"#FFFFFF\" points=\"96.46,278,90.46,274,84.46,278,90.46,282,96.46,278\" style=\"stroke: #383838; stroke-width: 1.0;\"/><text fill=\"#000000\" font-family=\"sans-serif\" font-size=\"13\" lengthAdjust=\"spacingAndGlyphs\" textLength=\"8\" x=\"76.8188\" y=\"427.0502\">1</text></a><!--MD5=[191cde3d490a3f6d7bb551fe3ddca469]\n",
       "reverse link E3 to E5--><a href=\"psysml:896e58a4-3d4e-4523-9980-c4907a158d3f\" target=\"_top\" title=\"psysml:896e58a4-3d4e-4523-9980-c4907a158d3f\" xlink:actuate=\"onRequest\" xlink:href=\"psysml:896e58a4-3d4e-4523-9980-c4907a158d3f\" xlink:show=\"new\" xlink:title=\"psysml:896e58a4-3d4e-4523-9980-c4907a158d3f\" xlink:type=\"simple\"><path d=\"M159.25,314.22 C159.25,314.22 159.25,361.83 159.25,361.83 \" fill=\"none\" id=\"E3&lt;-E5\" style=\"stroke: #383838; stroke-width: 1.0;\"/><polygon fill=\"#FFFFFF\" points=\"159.25,301.22,155.25,307.22,159.25,313.22,163.25,307.22,159.25,301.22\" style=\"stroke: #383838; stroke-width: 1.0;\"/><text fill=\"#000000\" font-family=\"sans-serif\" font-size=\"13\" lengthAdjust=\"spacingAndGlyphs\" textLength=\"8\" x=\"146.9578\" y=\"351.0627\">1</text></a><!--MD5=[79568f1e445c3877b6a54524624ccc7d]\n",
       "link E4 to E6--><a href=\"psysml:ae089d5e-98d2-4386-a1f6-d9056ad7f1db\" target=\"_top\" title=\"psysml:ae089d5e-98d2-4386-a1f6-d9056ad7f1db\" xlink:actuate=\"onRequest\" xlink:href=\"psysml:ae089d5e-98d2-4386-a1f6-d9056ad7f1db\" xlink:show=\"new\" xlink:title=\"psysml:ae089d5e-98d2-4386-a1f6-d9056ad7f1db\" xlink:type=\"simple\"><path d=\"M67,484.22 C67,536.71 67,660 67,660 C67,660 92.24,660 92.24,660 \" fill=\"none\" id=\"E4-&gt;E6\" style=\"stroke: #383838; stroke-width: 1.0;\"/><polygon fill=\"#FFFFFF\" points=\"112.24,660,93.24,667,93.24,653,112.24,660\" style=\"stroke: #383838; stroke-width: 1.0;\"/><ellipse cx=\"87.54\" cy=\"665\" fill=\"#383838\" rx=\"2\" ry=\"2\" style=\"stroke: #383838; stroke-width: 1.0;\"/><ellipse cx=\"87.54\" cy=\"655\" fill=\"#383838\" rx=\"2\" ry=\"2\" style=\"stroke: #383838; stroke-width: 1.0;\"/></a><!--MD5=[3f50a3473f1dfb74d3f76443e03635af]\n",
       "reverse link E6 to E7--><a href=\"psysml:f93e67a1-8e91-4b72-abc4-aff48dcc0ebf\" target=\"_top\" title=\"psysml:f93e67a1-8e91-4b72-abc4-aff48dcc0ebf\" xlink:actuate=\"onRequest\" xlink:href=\"psysml:f93e67a1-8e91-4b72-abc4-aff48dcc0ebf\" xlink:show=\"new\" xlink:title=\"psysml:f93e67a1-8e91-4b72-abc4-aff48dcc0ebf\" xlink:type=\"simple\"><path d=\"M171.25,696.22 C171.25,696.22 171.25,743.83 171.25,743.83 \" fill=\"none\" id=\"E6&lt;-E7\" style=\"stroke: #383838; stroke-width: 1.0;\"/><polygon fill=\"#FFFFFF\" points=\"171.25,683.22,167.25,689.22,171.25,695.22,175.25,689.22,171.25,683.22\" style=\"stroke: #383838; stroke-width: 1.0;\"/><text fill=\"#000000\" font-family=\"sans-serif\" font-size=\"13\" lengthAdjust=\"spacingAndGlyphs\" textLength=\"8\" x=\"159.9828\" y=\"733.0627\">1</text></a><!--MD5=[14ccda38c055a5c0da953d572bc50960]\n",
       "link E7 to E3--><a href=\"psysml:729e96ed-f9a8-4349-a416-61bf2a977bd8\" target=\"_top\" title=\"psysml:729e96ed-f9a8-4349-a416-61bf2a977bd8\" xlink:actuate=\"onRequest\" xlink:href=\"psysml:729e96ed-f9a8-4349-a416-61bf2a977bd8\" xlink:show=\"new\" xlink:title=\"psysml:729e96ed-f9a8-4349-a416-61bf2a977bd8\" xlink:type=\"simple\"><path d=\"M197,743.74 C197,646.56 197,278 197,278 C197,278 187.54,278 187.54,278 \" fill=\"none\" id=\"E7-&gt;E3\" style=\"stroke: #383838; stroke-width: 1.0;\"/><polygon fill=\"#FFFFFF\" points=\"167.54,278,186.54,271,186.54,285,167.54,278\" style=\"stroke: #383838; stroke-width: 1.0;\"/><ellipse cx=\"192.24\" cy=\"273\" fill=\"#383838\" rx=\"2\" ry=\"2\" style=\"stroke: #383838; stroke-width: 1.0;\"/><ellipse cx=\"192.24\" cy=\"283\" fill=\"#383838\" rx=\"2\" ry=\"2\" style=\"stroke: #383838; stroke-width: 1.0;\"/></a><!--MD5=[dfaffb906826c3e5aca635516100ff21]\n",
       "link E5 to E8--><a href=\"psysml:8b27b07a-ba61-4df4-814a-c4b9eba72255\" target=\"_top\" title=\"psysml:8b27b07a-ba61-4df4-814a-c4b9eba72255\" xlink:actuate=\"onRequest\" xlink:href=\"psysml:8b27b07a-ba61-4df4-814a-c4b9eba72255\" xlink:show=\"new\" xlink:title=\"psysml:8b27b07a-ba61-4df4-814a-c4b9eba72255\" xlink:type=\"simple\"><path d=\"M167,408.09 C167,408.09 167,493.7 167,493.7 \" fill=\"none\" id=\"E5-&gt;E8\" style=\"stroke: #383838; stroke-width: 1.0;\"/><polygon fill=\"#FFFFFF\" points=\"167,513.7,160,494.7,174,494.7,167,513.7\" style=\"stroke: #383838; stroke-width: 1.0;\"/><ellipse cx=\"162\" cy=\"489\" fill=\"#383838\" rx=\"2\" ry=\"2\" style=\"stroke: #383838; stroke-width: 1.0;\"/><ellipse cx=\"172\" cy=\"489\" fill=\"#383838\" rx=\"2\" ry=\"2\" style=\"stroke: #383838; stroke-width: 1.0;\"/></a><!--MD5=[03c8294790d3c57651a1993cecff665f]\n",
       "reverse link E8 to E3--><a href=\"psysml:2fa26767-edf9-4f1d-8702-6d0b4fb1afcf\" target=\"_top\" title=\"psysml:2fa26767-edf9-4f1d-8702-6d0b4fb1afcf\" xlink:actuate=\"onRequest\" xlink:href=\"psysml:2fa26767-edf9-4f1d-8702-6d0b4fb1afcf\" xlink:show=\"new\" xlink:title=\"psysml:2fa26767-edf9-4f1d-8702-6d0b4fb1afcf\" xlink:type=\"simple\"><path d=\"M132,500.56 C132,500.56 132,301.2 132,301.2 \" fill=\"none\" id=\"E8&lt;-E3\" style=\"stroke: #383838; stroke-width: 1.0;\"/><polygon fill=\"#FFFFFF\" points=\"132,513.56,136,507.56,132,501.56,128,507.56,132,513.56\" style=\"stroke: #383838; stroke-width: 1.0;\"/><text fill=\"#000000\" font-family=\"sans-serif\" font-size=\"13\" lengthAdjust=\"spacingAndGlyphs\" textLength=\"7\" x=\"108\" y=\"389.5669\">y</text></a><!--MD5=[0d75d2178373a6a4568e5dc728f58aef]\n",
       "reverse link E8 to E6--><a href=\"psysml:2fa26767-edf9-4f1d-8702-6d0b4fb1afcf\" target=\"_top\" title=\"psysml:2fa26767-edf9-4f1d-8702-6d0b4fb1afcf\" xlink:actuate=\"onRequest\" xlink:href=\"psysml:2fa26767-edf9-4f1d-8702-6d0b4fb1afcf\" xlink:show=\"new\" xlink:title=\"psysml:2fa26767-edf9-4f1d-8702-6d0b4fb1afcf\" xlink:type=\"simple\"><path d=\"M148,573.14 C148,573.14 148,636.97 148,636.97 \" fill=\"none\" id=\"E8&lt;-E6\" style=\"stroke: #383838; stroke-width: 1.0;\"/><polygon fill=\"#FFFFFF\" points=\"148,560.14,144,566.14,148,572.14,152,566.14,148,560.14\" style=\"stroke: #383838; stroke-width: 1.0;\"/><text fill=\"#000000\" font-family=\"sans-serif\" font-size=\"13\" lengthAdjust=\"spacingAndGlyphs\" textLength=\"7\" x=\"149\" y=\"603.0669\">y</text></a><!--MD5=[23ac544a70576c3e717098101004234c]\n",
       "reverse link E9 to E10--><a href=\"psysml:2a8d2925-3f72-4e1c-849d-9e3943fa1d15\" target=\"_top\" title=\"psysml:2a8d2925-3f72-4e1c-849d-9e3943fa1d15\" xlink:actuate=\"onRequest\" xlink:href=\"psysml:2a8d2925-3f72-4e1c-849d-9e3943fa1d15\" xlink:show=\"new\" xlink:title=\"psysml:2a8d2925-3f72-4e1c-849d-9e3943fa1d15\" xlink:type=\"simple\"><path d=\"M69.75,100.22 C69.75,100.22 69.75,147.83 69.75,147.83 \" fill=\"none\" id=\"E9&lt;-E10\" style=\"stroke: #383838; stroke-width: 1.0;\"/><polygon fill=\"#FFFFFF\" points=\"69.75,87.22,65.75,93.22,69.75,99.22,73.75,93.22,69.75,87.22\" style=\"stroke: #383838; stroke-width: 1.0;\"/><text fill=\"#000000\" font-family=\"sans-serif\" font-size=\"13\" lengthAdjust=\"spacingAndGlyphs\" textLength=\"8\" x=\"64.7609\" y=\"137.0627\">1</text></a><!--MD5=[feeac5eb423634930294aa81f2d25a4c]\n",
       "link E10 to E3--><a href=\"psysml:be0eb1db-3a2d-4525-bfbd-aed22db095bf\" target=\"_top\" title=\"psysml:be0eb1db-3a2d-4525-bfbd-aed22db095bf\" xlink:actuate=\"onRequest\" xlink:href=\"psysml:be0eb1db-3a2d-4525-bfbd-aed22db095bf\" xlink:show=\"new\" xlink:title=\"psysml:be0eb1db-3a2d-4525-bfbd-aed22db095bf\" xlink:type=\"simple\"><path d=\"M75.57,171 C88.91,171 103.5,171 103.5,171 C103.5,171 103.5,234.78 103.5,234.78 \" fill=\"none\" id=\"E10-&gt;E3\" style=\"stroke: #383838; stroke-width: 1.0;\"/><polygon fill=\"#FFFFFF\" points=\"103.5,254.78,96.5,235.78,110.5,235.78,103.5,254.78\" style=\"stroke: #383838; stroke-width: 1.0;\"/><ellipse cx=\"98.5\" cy=\"230.08\" fill=\"#383838\" rx=\"2\" ry=\"2\" style=\"stroke: #383838; stroke-width: 1.0;\"/><ellipse cx=\"108.5\" cy=\"230.08\" fill=\"#383838\" rx=\"2\" ry=\"2\" style=\"stroke: #383838; stroke-width: 1.0;\"/></a><!--MD5=[1fc04a95fd77ad5ce46c1a3027516051]\n",
       "reverse link E9 to E11--><a href=\"psysml:4a4899a0-cca2-49ff-ba55-d15caf476c4f\" target=\"_top\" title=\"psysml:4a4899a0-cca2-49ff-ba55-d15caf476c4f\" xlink:actuate=\"onRequest\" xlink:href=\"psysml:4a4899a0-cca2-49ff-ba55-d15caf476c4f\" xlink:show=\"new\" xlink:title=\"psysml:4a4899a0-cca2-49ff-ba55-d15caf476c4f\" xlink:type=\"simple\"><path d=\"M122.25,100.22 C122.25,100.22 122.25,147.83 122.25,147.83 \" fill=\"none\" id=\"E9&lt;-E11\" style=\"stroke: #383838; stroke-width: 1.0;\"/><polygon fill=\"#FFFFFF\" points=\"122.25,87.22,118.25,93.22,122.25,99.22,126.25,93.22,122.25,87.22\" style=\"stroke: #383838; stroke-width: 1.0;\"/><text fill=\"#000000\" font-family=\"sans-serif\" font-size=\"13\" lengthAdjust=\"spacingAndGlyphs\" textLength=\"8\" x=\"110.7266\" y=\"137.0627\">1</text></a><!--MD5=[0517f1ce58c4d5483948f93845c45e26]\n",
       "link E11 to E3--><a href=\"psysml:8ddae6f0-112f-4ded-9c4d-74dd6bca1f55\" target=\"_top\" title=\"psysml:8ddae6f0-112f-4ded-9c4d-74dd6bca1f55\" xlink:actuate=\"onRequest\" xlink:href=\"psysml:8ddae6f0-112f-4ded-9c4d-74dd6bca1f55\" xlink:show=\"new\" xlink:title=\"psysml:8ddae6f0-112f-4ded-9c4d-74dd6bca1f55\" xlink:type=\"simple\"><path d=\"M132,194.22 C132,194.22 132,234.83 132,234.83 \" fill=\"none\" id=\"E11-&gt;E3\" style=\"stroke: #383838; stroke-width: 1.0;\"/><polygon fill=\"#FFFFFF\" points=\"132,254.83,125,235.83,139,235.83,132,254.83\" style=\"stroke: #383838; stroke-width: 1.0;\"/><ellipse cx=\"127\" cy=\"230.13\" fill=\"#383838\" rx=\"2\" ry=\"2\" style=\"stroke: #383838; stroke-width: 1.0;\"/><ellipse cx=\"137\" cy=\"230.13\" fill=\"#383838\" rx=\"2\" ry=\"2\" style=\"stroke: #383838; stroke-width: 1.0;\"/></a><!--MD5=[f7801b8645a952cfcebd30b1a0684857]\n",
       "@startuml\r\n",
       "skinparam linetype ortho\r\n",
       "skinparam monochrome true\r\n",
       "skinparam classbackgroundcolor white\r\n",
       "skinparam shadowing false\r\n",
       "skinparam wrapWidth 300\r\n",
       "hide circle\r\n",
       "\r\n",
       "package \"ItemTest\" as E1  [[psysml:ae8f2d08-e2f6-41ef-ae81-a483692b435b ]]  {\r\n",
       "comp usage \"f: A \" as E2  <<(T,blue) item>> [[psysml:cbd0bd62-e912-4912-a2fb-da1e68d4f615 ]] {\r\n",
       "}\r\n",
       "comp def \"A\" as E3  <<(T,blue) item  def>> [[psysml:2b189b42-edf1-49d6-a72b-40b548d68a1d ]] {\r\n",
       "}\r\n",
       "comp usage \"b: B \" as E4  <<(T,blue) item>> [[psysml:94aeed99-fa0f-4cf3-9a3c-c07fcd3df143 ]] {\r\n",
       "}\r\n",
       "comp usage \"c: C \" as E5  <<(T,blue) part>> [[psysml:74f7fd5f-8520-4aae-9a17-942775661558 ]] {\r\n",
       "}\r\n",
       "comp def \"<i>B</i>\" as E6  <<(T,blue) item  def>> [[psysml:f1885442-e1dd-46d9-92aa-2427019de9de ]] {\r\n",
       "}\r\n",
       "comp usage \"<i>a</i>: A \" as E7  <<(T,blue) part>> [[psysml:cc0b7000-21b2-4abb-bead-e88feeed0b85 ]] {\r\n",
       "}\r\n",
       "comp def \"C\" as E8  <<(T,blue) part  def>> [[psysml:6db780a5-cf23-40f2-9df9-03150cb096d0 ]] {\r\n",
       "}\r\n",
       "comp def \"P\" as E9  <<(T,blue) port  def>> [[psysml:587854cf-6fe1-483d-a698-c7fca9a0c13c ]] {\r\n",
       "}\r\n",
       "comp usage \"a1: A \" as E10  <<(T,blue) item>> [[psysml:f73739ed-5364-4403-8254-d4f943238dfa ]] {\r\n",
       "}\r\n",
       "comp usage \"a2: A \" as E11  <<(T,blue) item>> [[psysml:6a7a2def-0eff-4194-80a2-af7f6b4a129e ]] {\r\n",
       "}\r\n",
       "}\r\n",
       "E2 - -:|> E3 [[psysml:8851b494-fad9-483d-8771-6e667cb982eb ]] \r\n",
       "E3 o- - \"1\"E4 [[psysml:bbc4490d-4884-4bf2-8394-3cd2641c3130 ]] \r\n",
       "E3 o- - \"1\"E5 [[psysml:896e58a4-3d4e-4523-9980-c4907a158d3f ]] \r\n",
       "E4 - -:|> E6 [[psysml:ae089d5e-98d2-4386-a1f6-d9056ad7f1db ]] \r\n",
       "E6 o- - \"1\"E7 [[psysml:f93e67a1-8e91-4b72-abc4-aff48dcc0ebf ]] \r\n",
       "E7 - -:|> E3 [[psysml:729e96ed-f9a8-4349-a416-61bf2a977bd8 ]] \r\n",
       "E5 - -:|> E8 [[psysml:8b27b07a-ba61-4df4-814a-c4b9eba72255 ]] \r\n",
       "E8 o- - E3 [[psysml:2fa26767-edf9-4f1d-8702-6d0b4fb1afcf ]] : y\r\n",
       "E8 o- - E6 [[psysml:2fa26767-edf9-4f1d-8702-6d0b4fb1afcf ]] : y\r\n",
       "E9 o- - \"1\"E10 [[psysml:2a8d2925-3f72-4e1c-849d-9e3943fa1d15 ]] \r\n",
       "E10 - -:|> E3 [[psysml:be0eb1db-3a2d-4525-bfbd-aed22db095bf ]] \r\n",
       "E9 o- - \"1\"E11 [[psysml:4a4899a0-cca2-49ff-ba55-d15caf476c4f ]] \r\n",
       "E11 - -:|> E3 [[psysml:8ddae6f0-112f-4ded-9c4d-74dd6bca1f55 ]] \r\n",
       "@enduml\r\n",
       "\n",
       "PlantUML version 1.2020.13(Sat Jun 13 12:26:38 UTC 2020)\n",
       "(EPL source distribution)\n",
       "Java Runtime: OpenJDK Runtime Environment\n",
       "JVM: OpenJDK 64-Bit Server VM\n",
       "Default Encoding: UTF-8\n",
       "Language: en\n",
       "Country: null\n",
       "--></g></svg>"
      ]
     },
     "execution_count": 51,
     "metadata": {},
     "output_type": "execute_result"
    }
   ],
   "source": [
    "%viz --style=\"ORTHOLINE\" --view=\"Default\" \"ItemTest\""
   ]
  },
  {
   "cell_type": "code",
   "execution_count": 52,
   "id": "7701bee6",
   "metadata": {
    "execution": {
     "iopub.execute_input": "2022-08-19T08:17:31.406386Z",
     "iopub.status.busy": "2022-08-19T08:17:31.405944Z",
     "iopub.status.idle": "2022-08-19T08:17:31.450337Z",
     "shell.execute_reply": "2022-08-19T08:17:31.448729Z"
    }
   },
   "outputs": [
    {
     "data": {
      "image/svg+xml": [
       "<?xml version=\"1.0\" encoding=\"UTF-8\" standalone=\"no\"?><svg xmlns=\"http://www.w3.org/2000/svg\" xmlns:xlink=\"http://www.w3.org/1999/xlink\" contentScriptType=\"application/ecmascript\" contentStyleType=\"text/css\" height=\"818px\" preserveAspectRatio=\"none\" style=\"width:270px;height:818px;\" version=\"1.1\" viewBox=\"0 0 270 818\" width=\"270px\" zoomAndPan=\"magnify\"><defs/><g><!--MD5=[fbc87193dbaf4d95561dea2c320d4a47]\n",
       "cluster E1--><a href=\"psysml:ae8f2d08-e2f6-41ef-ae81-a483692b435b\" target=\"_top\" title=\"psysml:ae8f2d08-e2f6-41ef-ae81-a483692b435b\" xlink:actuate=\"onRequest\" xlink:href=\"psysml:ae8f2d08-e2f6-41ef-ae81-a483692b435b\" xlink:show=\"new\" xlink:title=\"psysml:ae8f2d08-e2f6-41ef-ae81-a483692b435b\" xlink:type=\"simple\"><polygon fill=\"#FFFFFF\" points=\"16,6,83,6,90,28.2969,248,28.2969,248,806,16,806,16,6\" style=\"stroke: #000000; stroke-width: 1.5;\"/><line style=\"stroke: #000000; stroke-width: 1.5;\" x1=\"16\" x2=\"90\" y1=\"28.2969\" y2=\"28.2969\"/><text fill=\"#000000\" font-family=\"sans-serif\" font-size=\"14\" font-weight=\"bold\" lengthAdjust=\"spacingAndGlyphs\" textLength=\"61\" x=\"20\" y=\"20.9951\">ItemTest</text></a><!--MD5=[b4997ac47864f28c2f74865a473b2911]\n",
       "class E2--><a href=\"psysml:cbd0bd62-e912-4912-a2fb-da1e68d4f615\" target=\"_top\" title=\"psysml:cbd0bd62-e912-4912-a2fb-da1e68d4f615\" xlink:actuate=\"onRequest\" xlink:href=\"psysml:cbd0bd62-e912-4912-a2fb-da1e68d4f615\" xlink:show=\"new\" xlink:title=\"psysml:cbd0bd62-e912-4912-a2fb-da1e68d4f615\" xlink:type=\"simple\"><rect fill=\"#FFFFFF\" height=\"45.9375\" id=\"E2\" rx=\"10\" ry=\"10\" style=\"stroke: #383838; stroke-width: 1.5;\" width=\"43\" x=\"188.5\" y=\"148\"/><text fill=\"#000000\" font-family=\"sans-serif\" font-size=\"12\" font-style=\"italic\" lengthAdjust=\"spacingAndGlyphs\" textLength=\"41\" x=\"189.5\" y=\"164.1387\">«item»</text><text fill=\"#000000\" font-family=\"sans-serif\" font-size=\"12\" lengthAdjust=\"spacingAndGlyphs\" textLength=\"20\" x=\"198\" y=\"178.1074\">f: A</text><line style=\"stroke: #383838; stroke-width: 1.5;\" x1=\"189.5\" x2=\"230.5\" y1=\"185.9375\" y2=\"185.9375\"/></a><!--MD5=[09b614a08d8cba4a07c9adeb5e0fee81]\n",
       "class E3--><a href=\"psysml:2b189b42-edf1-49d6-a72b-40b548d68a1d\" target=\"_top\" title=\"psysml:2b189b42-edf1-49d6-a72b-40b548d68a1d\" xlink:actuate=\"onRequest\" xlink:href=\"psysml:2b189b42-edf1-49d6-a72b-40b548d68a1d\" xlink:show=\"new\" xlink:title=\"psysml:2b189b42-edf1-49d6-a72b-40b548d68a1d\" xlink:type=\"simple\"><rect fill=\"#FFFFFF\" height=\"45.9375\" id=\"E3\" style=\"stroke: #383838; stroke-width: 1.5;\" width=\"71\" x=\"96.5\" y=\"255\"/><text fill=\"#000000\" font-family=\"sans-serif\" font-size=\"12\" font-style=\"italic\" lengthAdjust=\"spacingAndGlyphs\" textLength=\"69\" x=\"97.5\" y=\"271.1387\">«item  def»</text><text fill=\"#000000\" font-family=\"sans-serif\" font-size=\"12\" lengthAdjust=\"spacingAndGlyphs\" textLength=\"8\" x=\"128\" y=\"285.1074\">A</text><line style=\"stroke: #383838; stroke-width: 1.5;\" x1=\"97.5\" x2=\"166.5\" y1=\"292.9375\" y2=\"292.9375\"/></a><!--MD5=[ebbe1d658d1005bcc118a6aa81145e00]\n",
       "class E4--><a href=\"psysml:94aeed99-fa0f-4cf3-9a3c-c07fcd3df143\" target=\"_top\" title=\"psysml:94aeed99-fa0f-4cf3-9a3c-c07fcd3df143\" xlink:actuate=\"onRequest\" xlink:href=\"psysml:94aeed99-fa0f-4cf3-9a3c-c07fcd3df143\" xlink:show=\"new\" xlink:title=\"psysml:94aeed99-fa0f-4cf3-9a3c-c07fcd3df143\" xlink:type=\"simple\"><rect fill=\"#FFFFFF\" height=\"45.9375\" id=\"E4\" rx=\"10\" ry=\"10\" style=\"stroke: #383838; stroke-width: 1.5;\" width=\"43\" x=\"45.5\" y=\"438\"/><text fill=\"#000000\" font-family=\"sans-serif\" font-size=\"12\" font-style=\"italic\" lengthAdjust=\"spacingAndGlyphs\" textLength=\"41\" x=\"46.5\" y=\"454.1387\">«item»</text><text fill=\"#000000\" font-family=\"sans-serif\" font-size=\"12\" lengthAdjust=\"spacingAndGlyphs\" textLength=\"24\" x=\"53\" y=\"468.1074\">b: B</text><line style=\"stroke: #383838; stroke-width: 1.5;\" x1=\"46.5\" x2=\"87.5\" y1=\"475.9375\" y2=\"475.9375\"/></a><!--MD5=[270fce915f116d4de14055a7c1d9a0f3]\n",
       "class E5--><a href=\"psysml:74f7fd5f-8520-4aae-9a17-942775661558\" target=\"_top\" title=\"psysml:74f7fd5f-8520-4aae-9a17-942775661558\" xlink:actuate=\"onRequest\" xlink:href=\"psysml:74f7fd5f-8520-4aae-9a17-942775661558\" xlink:show=\"new\" xlink:title=\"psysml:74f7fd5f-8520-4aae-9a17-942775661558\" xlink:type=\"simple\"><rect fill=\"#FFFFFF\" height=\"45.9375\" id=\"E5\" rx=\"10\" ry=\"10\" style=\"stroke: #383838; stroke-width: 1.5;\" width=\"42\" x=\"151\" y=\"362\"/><text fill=\"#000000\" font-family=\"sans-serif\" font-size=\"12\" font-style=\"italic\" lengthAdjust=\"spacingAndGlyphs\" textLength=\"40\" x=\"152\" y=\"378.1387\">«part»</text><text fill=\"#000000\" font-family=\"sans-serif\" font-size=\"12\" lengthAdjust=\"spacingAndGlyphs\" textLength=\"23\" x=\"158.5\" y=\"392.1074\">c: C</text><line style=\"stroke: #383838; stroke-width: 1.5;\" x1=\"152\" x2=\"192\" y1=\"399.9375\" y2=\"399.9375\"/></a><!--MD5=[60a26617385b1d2d0262a64233df1f8d]\n",
       "class E6--><a href=\"psysml:f1885442-e1dd-46d9-92aa-2427019de9de\" target=\"_top\" title=\"psysml:f1885442-e1dd-46d9-92aa-2427019de9de\" xlink:actuate=\"onRequest\" xlink:href=\"psysml:f1885442-e1dd-46d9-92aa-2427019de9de\" xlink:show=\"new\" xlink:title=\"psysml:f1885442-e1dd-46d9-92aa-2427019de9de\" xlink:type=\"simple\"><rect fill=\"#FFFFFF\" height=\"45.9375\" id=\"E6\" style=\"stroke: #383838; stroke-width: 1.5;\" width=\"71\" x=\"112.5\" y=\"637\"/><text fill=\"#000000\" font-family=\"sans-serif\" font-size=\"12\" font-style=\"italic\" lengthAdjust=\"spacingAndGlyphs\" textLength=\"69\" x=\"113.5\" y=\"653.1387\">«item  def»</text><text fill=\"#000000\" font-family=\"sans-serif\" font-size=\"12\" font-style=\"italic\" lengthAdjust=\"spacingAndGlyphs\" textLength=\"8\" x=\"144\" y=\"667.1074\">B</text><line style=\"stroke: #383838; stroke-width: 1.5;\" x1=\"113.5\" x2=\"182.5\" y1=\"674.9375\" y2=\"674.9375\"/></a><!--MD5=[2156ba9850f5573cc1fc38a6a4b2f02b]\n",
       "class E7--><a href=\"psysml:cc0b7000-21b2-4abb-bead-e88feeed0b85\" target=\"_top\" title=\"psysml:cc0b7000-21b2-4abb-bead-e88feeed0b85\" xlink:actuate=\"onRequest\" xlink:href=\"psysml:cc0b7000-21b2-4abb-bead-e88feeed0b85\" xlink:show=\"new\" xlink:title=\"psysml:cc0b7000-21b2-4abb-bead-e88feeed0b85\" xlink:type=\"simple\"><rect fill=\"#FFFFFF\" height=\"45.9375\" id=\"E7\" rx=\"10\" ry=\"10\" style=\"stroke: #383838; stroke-width: 1.5;\" width=\"42\" x=\"159\" y=\"744\"/><text fill=\"#000000\" font-family=\"sans-serif\" font-size=\"12\" font-style=\"italic\" lengthAdjust=\"spacingAndGlyphs\" textLength=\"40\" x=\"160\" y=\"760.1387\">«part»</text><text fill=\"#000000\" font-family=\"sans-serif\" font-size=\"12\" font-style=\"italic\" lengthAdjust=\"spacingAndGlyphs\" textLength=\"8\" x=\"166\" y=\"774.1074\">a</text><text fill=\"#000000\" font-family=\"sans-serif\" font-size=\"12\" lengthAdjust=\"spacingAndGlyphs\" textLength=\"16\" x=\"174\" y=\"774.1074\">: A</text><line style=\"stroke: #383838; stroke-width: 1.5;\" x1=\"160\" x2=\"200\" y1=\"781.9375\" y2=\"781.9375\"/></a><!--MD5=[b9389687b975829384b498ac4b7476b2]\n",
       "class E8--><a href=\"psysml:6db780a5-cf23-40f2-9df9-03150cb096d0\" target=\"_top\" title=\"psysml:6db780a5-cf23-40f2-9df9-03150cb096d0\" xlink:actuate=\"onRequest\" xlink:href=\"psysml:6db780a5-cf23-40f2-9df9-03150cb096d0\" xlink:show=\"new\" xlink:title=\"psysml:6db780a5-cf23-40f2-9df9-03150cb096d0\" xlink:type=\"simple\"><rect fill=\"#FFFFFF\" height=\"45.9375\" id=\"E8\" style=\"stroke: #383838; stroke-width: 1.5;\" width=\"70\" x=\"113\" y=\"514\"/><text fill=\"#000000\" font-family=\"sans-serif\" font-size=\"12\" font-style=\"italic\" lengthAdjust=\"spacingAndGlyphs\" textLength=\"68\" x=\"114\" y=\"530.1387\">«part  def»</text><text fill=\"#000000\" font-family=\"sans-serif\" font-size=\"12\" lengthAdjust=\"spacingAndGlyphs\" textLength=\"8\" x=\"144\" y=\"544.1074\">C</text><line style=\"stroke: #383838; stroke-width: 1.5;\" x1=\"114\" x2=\"182\" y1=\"551.9375\" y2=\"551.9375\"/></a><!--MD5=[fd4143e9d270a159db93a4ea2a975926]\n",
       "class E9--><a href=\"psysml:587854cf-6fe1-483d-a698-c7fca9a0c13c\" target=\"_top\" title=\"psysml:587854cf-6fe1-483d-a698-c7fca9a0c13c\" xlink:actuate=\"onRequest\" xlink:href=\"psysml:587854cf-6fe1-483d-a698-c7fca9a0c13c\" xlink:show=\"new\" xlink:title=\"psysml:587854cf-6fe1-483d-a698-c7fca9a0c13c\" xlink:type=\"simple\"><rect fill=\"#FFFFFF\" height=\"45.9375\" id=\"E9\" style=\"stroke: #383838; stroke-width: 1.5;\" width=\"70\" x=\"64\" y=\"41\"/><text fill=\"#000000\" font-family=\"sans-serif\" font-size=\"12\" font-style=\"italic\" lengthAdjust=\"spacingAndGlyphs\" textLength=\"68\" x=\"65\" y=\"57.1387\">«port  def»</text><text fill=\"#000000\" font-family=\"sans-serif\" font-size=\"12\" lengthAdjust=\"spacingAndGlyphs\" textLength=\"8\" x=\"95\" y=\"71.1074\">P</text><line style=\"stroke: #383838; stroke-width: 1.5;\" x1=\"65\" x2=\"133\" y1=\"78.9375\" y2=\"78.9375\"/></a><!--MD5=[96f4274e9e20536e775497830990834d]\n",
       "class E10--><a href=\"psysml:f73739ed-5364-4403-8254-d4f943238dfa\" target=\"_top\" title=\"psysml:f73739ed-5364-4403-8254-d4f943238dfa\" xlink:actuate=\"onRequest\" xlink:href=\"psysml:f73739ed-5364-4403-8254-d4f943238dfa\" xlink:show=\"new\" xlink:title=\"psysml:f73739ed-5364-4403-8254-d4f943238dfa\" xlink:type=\"simple\"><rect fill=\"#FFFFFF\" height=\"45.9375\" id=\"E10\" rx=\"10\" ry=\"10\" style=\"stroke: #383838; stroke-width: 1.5;\" width=\"43\" x=\"32.5\" y=\"148\"/><text fill=\"#000000\" font-family=\"sans-serif\" font-size=\"12\" font-style=\"italic\" lengthAdjust=\"spacingAndGlyphs\" textLength=\"41\" x=\"33.5\" y=\"164.1387\">«item»</text><text fill=\"#000000\" font-family=\"sans-serif\" font-size=\"12\" lengthAdjust=\"spacingAndGlyphs\" textLength=\"32\" x=\"36\" y=\"178.1074\">a1: A</text><line style=\"stroke: #383838; stroke-width: 1.5;\" x1=\"33.5\" x2=\"74.5\" y1=\"185.9375\" y2=\"185.9375\"/></a><!--MD5=[1dd1bfd58a279cf63c5f349dbc8fc6a1]\n",
       "class E11--><a href=\"psysml:6a7a2def-0eff-4194-80a2-af7f6b4a129e\" target=\"_top\" title=\"psysml:6a7a2def-0eff-4194-80a2-af7f6b4a129e\" xlink:actuate=\"onRequest\" xlink:href=\"psysml:6a7a2def-0eff-4194-80a2-af7f6b4a129e\" xlink:show=\"new\" xlink:title=\"psysml:6a7a2def-0eff-4194-80a2-af7f6b4a129e\" xlink:type=\"simple\"><rect fill=\"#FFFFFF\" height=\"45.9375\" id=\"E11\" rx=\"10\" ry=\"10\" style=\"stroke: #383838; stroke-width: 1.5;\" width=\"43\" x=\"110.5\" y=\"148\"/><text fill=\"#000000\" font-family=\"sans-serif\" font-size=\"12\" font-style=\"italic\" lengthAdjust=\"spacingAndGlyphs\" textLength=\"41\" x=\"111.5\" y=\"164.1387\">«item»</text><text fill=\"#000000\" font-family=\"sans-serif\" font-size=\"12\" lengthAdjust=\"spacingAndGlyphs\" textLength=\"32\" x=\"114\" y=\"178.1074\">a2: A</text><line style=\"stroke: #383838; stroke-width: 1.5;\" x1=\"111.5\" x2=\"152.5\" y1=\"185.9375\" y2=\"185.9375\"/></a><!--MD5=[2720a5a1f2c3fca2055b230370638851]\n",
       "link E2 to E3--><a href=\"psysml:8851b494-fad9-483d-8771-6e667cb982eb\" target=\"_top\" title=\"psysml:8851b494-fad9-483d-8771-6e667cb982eb\" xlink:actuate=\"onRequest\" xlink:href=\"psysml:8851b494-fad9-483d-8771-6e667cb982eb\" xlink:show=\"new\" xlink:title=\"psysml:8851b494-fad9-483d-8771-6e667cb982eb\" xlink:type=\"simple\"><path d=\"M188.43,171 C175.09,171 160.5,171 160.5,171 C160.5,171 160.5,234.78 160.5,234.78 \" fill=\"none\" id=\"E2-&gt;E3\" style=\"stroke: #383838; stroke-width: 1.0;\"/><polygon fill=\"#FFFFFF\" points=\"160.5,254.78,153.5,235.78,167.5,235.78,160.5,254.78\" style=\"stroke: #383838; stroke-width: 1.0;\"/><ellipse cx=\"155.5\" cy=\"230.08\" fill=\"#383838\" rx=\"2\" ry=\"2\" style=\"stroke: #383838; stroke-width: 1.0;\"/><ellipse cx=\"165.5\" cy=\"230.08\" fill=\"#383838\" rx=\"2\" ry=\"2\" style=\"stroke: #383838; stroke-width: 1.0;\"/></a><!--MD5=[4672eba38e49728da53d11aeb285b987]\n",
       "reverse link E3 to E4--><a href=\"psysml:bbc4490d-4884-4bf2-8394-3cd2641c3130\" target=\"_top\" title=\"psysml:bbc4490d-4884-4bf2-8394-3cd2641c3130\" xlink:actuate=\"onRequest\" xlink:href=\"psysml:bbc4490d-4884-4bf2-8394-3cd2641c3130\" xlink:show=\"new\" xlink:title=\"psysml:bbc4490d-4884-4bf2-8394-3cd2641c3130\" xlink:type=\"simple\"><path d=\"M83.46,278 C83.46,278 82,278 82,278 C82,278 82,388.58 82,437.82 \" fill=\"none\" id=\"E3&lt;-E4\" style=\"stroke: #383838; stroke-width: 1.0;\"/><polygon fill=\"#FFFFFF\" points=\"96.46,278,90.46,274,84.46,278,90.46,282,96.46,278\" style=\"stroke: #383838; stroke-width: 1.0;\"/><text fill=\"#000000\" font-family=\"sans-serif\" font-size=\"13\" lengthAdjust=\"spacingAndGlyphs\" textLength=\"8\" x=\"76.8188\" y=\"427.0502\">1</text></a><!--MD5=[191cde3d490a3f6d7bb551fe3ddca469]\n",
       "reverse link E3 to E5--><a href=\"psysml:896e58a4-3d4e-4523-9980-c4907a158d3f\" target=\"_top\" title=\"psysml:896e58a4-3d4e-4523-9980-c4907a158d3f\" xlink:actuate=\"onRequest\" xlink:href=\"psysml:896e58a4-3d4e-4523-9980-c4907a158d3f\" xlink:show=\"new\" xlink:title=\"psysml:896e58a4-3d4e-4523-9980-c4907a158d3f\" xlink:type=\"simple\"><path d=\"M159.25,314.22 C159.25,314.22 159.25,361.83 159.25,361.83 \" fill=\"none\" id=\"E3&lt;-E5\" style=\"stroke: #383838; stroke-width: 1.0;\"/><polygon fill=\"#FFFFFF\" points=\"159.25,301.22,155.25,307.22,159.25,313.22,163.25,307.22,159.25,301.22\" style=\"stroke: #383838; stroke-width: 1.0;\"/><text fill=\"#000000\" font-family=\"sans-serif\" font-size=\"13\" lengthAdjust=\"spacingAndGlyphs\" textLength=\"8\" x=\"146.9578\" y=\"351.0627\">1</text></a><!--MD5=[79568f1e445c3877b6a54524624ccc7d]\n",
       "link E4 to E6--><a href=\"psysml:ae089d5e-98d2-4386-a1f6-d9056ad7f1db\" target=\"_top\" title=\"psysml:ae089d5e-98d2-4386-a1f6-d9056ad7f1db\" xlink:actuate=\"onRequest\" xlink:href=\"psysml:ae089d5e-98d2-4386-a1f6-d9056ad7f1db\" xlink:show=\"new\" xlink:title=\"psysml:ae089d5e-98d2-4386-a1f6-d9056ad7f1db\" xlink:type=\"simple\"><path d=\"M67,484.22 C67,536.71 67,660 67,660 C67,660 92.24,660 92.24,660 \" fill=\"none\" id=\"E4-&gt;E6\" style=\"stroke: #383838; stroke-width: 1.0;\"/><polygon fill=\"#FFFFFF\" points=\"112.24,660,93.24,667,93.24,653,112.24,660\" style=\"stroke: #383838; stroke-width: 1.0;\"/><ellipse cx=\"87.54\" cy=\"665\" fill=\"#383838\" rx=\"2\" ry=\"2\" style=\"stroke: #383838; stroke-width: 1.0;\"/><ellipse cx=\"87.54\" cy=\"655\" fill=\"#383838\" rx=\"2\" ry=\"2\" style=\"stroke: #383838; stroke-width: 1.0;\"/></a><!--MD5=[3f50a3473f1dfb74d3f76443e03635af]\n",
       "reverse link E6 to E7--><a href=\"psysml:f93e67a1-8e91-4b72-abc4-aff48dcc0ebf\" target=\"_top\" title=\"psysml:f93e67a1-8e91-4b72-abc4-aff48dcc0ebf\" xlink:actuate=\"onRequest\" xlink:href=\"psysml:f93e67a1-8e91-4b72-abc4-aff48dcc0ebf\" xlink:show=\"new\" xlink:title=\"psysml:f93e67a1-8e91-4b72-abc4-aff48dcc0ebf\" xlink:type=\"simple\"><path d=\"M171.25,696.22 C171.25,696.22 171.25,743.83 171.25,743.83 \" fill=\"none\" id=\"E6&lt;-E7\" style=\"stroke: #383838; stroke-width: 1.0;\"/><polygon fill=\"#FFFFFF\" points=\"171.25,683.22,167.25,689.22,171.25,695.22,175.25,689.22,171.25,683.22\" style=\"stroke: #383838; stroke-width: 1.0;\"/><text fill=\"#000000\" font-family=\"sans-serif\" font-size=\"13\" lengthAdjust=\"spacingAndGlyphs\" textLength=\"8\" x=\"159.9828\" y=\"733.0627\">1</text></a><!--MD5=[14ccda38c055a5c0da953d572bc50960]\n",
       "link E7 to E3--><a href=\"psysml:729e96ed-f9a8-4349-a416-61bf2a977bd8\" target=\"_top\" title=\"psysml:729e96ed-f9a8-4349-a416-61bf2a977bd8\" xlink:actuate=\"onRequest\" xlink:href=\"psysml:729e96ed-f9a8-4349-a416-61bf2a977bd8\" xlink:show=\"new\" xlink:title=\"psysml:729e96ed-f9a8-4349-a416-61bf2a977bd8\" xlink:type=\"simple\"><path d=\"M197,743.74 C197,646.56 197,278 197,278 C197,278 187.54,278 187.54,278 \" fill=\"none\" id=\"E7-&gt;E3\" style=\"stroke: #383838; stroke-width: 1.0;\"/><polygon fill=\"#FFFFFF\" points=\"167.54,278,186.54,271,186.54,285,167.54,278\" style=\"stroke: #383838; stroke-width: 1.0;\"/><ellipse cx=\"192.24\" cy=\"273\" fill=\"#383838\" rx=\"2\" ry=\"2\" style=\"stroke: #383838; stroke-width: 1.0;\"/><ellipse cx=\"192.24\" cy=\"283\" fill=\"#383838\" rx=\"2\" ry=\"2\" style=\"stroke: #383838; stroke-width: 1.0;\"/></a><!--MD5=[dfaffb906826c3e5aca635516100ff21]\n",
       "link E5 to E8--><a href=\"psysml:8b27b07a-ba61-4df4-814a-c4b9eba72255\" target=\"_top\" title=\"psysml:8b27b07a-ba61-4df4-814a-c4b9eba72255\" xlink:actuate=\"onRequest\" xlink:href=\"psysml:8b27b07a-ba61-4df4-814a-c4b9eba72255\" xlink:show=\"new\" xlink:title=\"psysml:8b27b07a-ba61-4df4-814a-c4b9eba72255\" xlink:type=\"simple\"><path d=\"M167,408.09 C167,408.09 167,493.7 167,493.7 \" fill=\"none\" id=\"E5-&gt;E8\" style=\"stroke: #383838; stroke-width: 1.0;\"/><polygon fill=\"#FFFFFF\" points=\"167,513.7,160,494.7,174,494.7,167,513.7\" style=\"stroke: #383838; stroke-width: 1.0;\"/><ellipse cx=\"162\" cy=\"489\" fill=\"#383838\" rx=\"2\" ry=\"2\" style=\"stroke: #383838; stroke-width: 1.0;\"/><ellipse cx=\"172\" cy=\"489\" fill=\"#383838\" rx=\"2\" ry=\"2\" style=\"stroke: #383838; stroke-width: 1.0;\"/></a><!--MD5=[03c8294790d3c57651a1993cecff665f]\n",
       "reverse link E8 to E3--><a href=\"psysml:2fa26767-edf9-4f1d-8702-6d0b4fb1afcf\" target=\"_top\" title=\"psysml:2fa26767-edf9-4f1d-8702-6d0b4fb1afcf\" xlink:actuate=\"onRequest\" xlink:href=\"psysml:2fa26767-edf9-4f1d-8702-6d0b4fb1afcf\" xlink:show=\"new\" xlink:title=\"psysml:2fa26767-edf9-4f1d-8702-6d0b4fb1afcf\" xlink:type=\"simple\"><path d=\"M132,500.56 C132,500.56 132,301.2 132,301.2 \" fill=\"none\" id=\"E8&lt;-E3\" style=\"stroke: #383838; stroke-width: 1.0;\"/><polygon fill=\"#FFFFFF\" points=\"132,513.56,136,507.56,132,501.56,128,507.56,132,513.56\" style=\"stroke: #383838; stroke-width: 1.0;\"/><text fill=\"#000000\" font-family=\"sans-serif\" font-size=\"13\" lengthAdjust=\"spacingAndGlyphs\" textLength=\"7\" x=\"108\" y=\"389.5669\">y</text></a><!--MD5=[0d75d2178373a6a4568e5dc728f58aef]\n",
       "reverse link E8 to E6--><a href=\"psysml:2fa26767-edf9-4f1d-8702-6d0b4fb1afcf\" target=\"_top\" title=\"psysml:2fa26767-edf9-4f1d-8702-6d0b4fb1afcf\" xlink:actuate=\"onRequest\" xlink:href=\"psysml:2fa26767-edf9-4f1d-8702-6d0b4fb1afcf\" xlink:show=\"new\" xlink:title=\"psysml:2fa26767-edf9-4f1d-8702-6d0b4fb1afcf\" xlink:type=\"simple\"><path d=\"M148,573.14 C148,573.14 148,636.97 148,636.97 \" fill=\"none\" id=\"E8&lt;-E6\" style=\"stroke: #383838; stroke-width: 1.0;\"/><polygon fill=\"#FFFFFF\" points=\"148,560.14,144,566.14,148,572.14,152,566.14,148,560.14\" style=\"stroke: #383838; stroke-width: 1.0;\"/><text fill=\"#000000\" font-family=\"sans-serif\" font-size=\"13\" lengthAdjust=\"spacingAndGlyphs\" textLength=\"7\" x=\"149\" y=\"603.0669\">y</text></a><!--MD5=[23ac544a70576c3e717098101004234c]\n",
       "reverse link E9 to E10--><a href=\"psysml:2a8d2925-3f72-4e1c-849d-9e3943fa1d15\" target=\"_top\" title=\"psysml:2a8d2925-3f72-4e1c-849d-9e3943fa1d15\" xlink:actuate=\"onRequest\" xlink:href=\"psysml:2a8d2925-3f72-4e1c-849d-9e3943fa1d15\" xlink:show=\"new\" xlink:title=\"psysml:2a8d2925-3f72-4e1c-849d-9e3943fa1d15\" xlink:type=\"simple\"><path d=\"M69.75,100.22 C69.75,100.22 69.75,147.83 69.75,147.83 \" fill=\"none\" id=\"E9&lt;-E10\" style=\"stroke: #383838; stroke-width: 1.0;\"/><polygon fill=\"#FFFFFF\" points=\"69.75,87.22,65.75,93.22,69.75,99.22,73.75,93.22,69.75,87.22\" style=\"stroke: #383838; stroke-width: 1.0;\"/><text fill=\"#000000\" font-family=\"sans-serif\" font-size=\"13\" lengthAdjust=\"spacingAndGlyphs\" textLength=\"8\" x=\"64.7609\" y=\"137.0627\">1</text></a><!--MD5=[feeac5eb423634930294aa81f2d25a4c]\n",
       "link E10 to E3--><a href=\"psysml:be0eb1db-3a2d-4525-bfbd-aed22db095bf\" target=\"_top\" title=\"psysml:be0eb1db-3a2d-4525-bfbd-aed22db095bf\" xlink:actuate=\"onRequest\" xlink:href=\"psysml:be0eb1db-3a2d-4525-bfbd-aed22db095bf\" xlink:show=\"new\" xlink:title=\"psysml:be0eb1db-3a2d-4525-bfbd-aed22db095bf\" xlink:type=\"simple\"><path d=\"M75.57,171 C88.91,171 103.5,171 103.5,171 C103.5,171 103.5,234.78 103.5,234.78 \" fill=\"none\" id=\"E10-&gt;E3\" style=\"stroke: #383838; stroke-width: 1.0;\"/><polygon fill=\"#FFFFFF\" points=\"103.5,254.78,96.5,235.78,110.5,235.78,103.5,254.78\" style=\"stroke: #383838; stroke-width: 1.0;\"/><ellipse cx=\"98.5\" cy=\"230.08\" fill=\"#383838\" rx=\"2\" ry=\"2\" style=\"stroke: #383838; stroke-width: 1.0;\"/><ellipse cx=\"108.5\" cy=\"230.08\" fill=\"#383838\" rx=\"2\" ry=\"2\" style=\"stroke: #383838; stroke-width: 1.0;\"/></a><!--MD5=[1fc04a95fd77ad5ce46c1a3027516051]\n",
       "reverse link E9 to E11--><a href=\"psysml:4a4899a0-cca2-49ff-ba55-d15caf476c4f\" target=\"_top\" title=\"psysml:4a4899a0-cca2-49ff-ba55-d15caf476c4f\" xlink:actuate=\"onRequest\" xlink:href=\"psysml:4a4899a0-cca2-49ff-ba55-d15caf476c4f\" xlink:show=\"new\" xlink:title=\"psysml:4a4899a0-cca2-49ff-ba55-d15caf476c4f\" xlink:type=\"simple\"><path d=\"M122.25,100.22 C122.25,100.22 122.25,147.83 122.25,147.83 \" fill=\"none\" id=\"E9&lt;-E11\" style=\"stroke: #383838; stroke-width: 1.0;\"/><polygon fill=\"#FFFFFF\" points=\"122.25,87.22,118.25,93.22,122.25,99.22,126.25,93.22,122.25,87.22\" style=\"stroke: #383838; stroke-width: 1.0;\"/><text fill=\"#000000\" font-family=\"sans-serif\" font-size=\"13\" lengthAdjust=\"spacingAndGlyphs\" textLength=\"8\" x=\"110.7266\" y=\"137.0627\">1</text></a><!--MD5=[0517f1ce58c4d5483948f93845c45e26]\n",
       "link E11 to E3--><a href=\"psysml:8ddae6f0-112f-4ded-9c4d-74dd6bca1f55\" target=\"_top\" title=\"psysml:8ddae6f0-112f-4ded-9c4d-74dd6bca1f55\" xlink:actuate=\"onRequest\" xlink:href=\"psysml:8ddae6f0-112f-4ded-9c4d-74dd6bca1f55\" xlink:show=\"new\" xlink:title=\"psysml:8ddae6f0-112f-4ded-9c4d-74dd6bca1f55\" xlink:type=\"simple\"><path d=\"M132,194.22 C132,194.22 132,234.83 132,234.83 \" fill=\"none\" id=\"E11-&gt;E3\" style=\"stroke: #383838; stroke-width: 1.0;\"/><polygon fill=\"#FFFFFF\" points=\"132,254.83,125,235.83,139,235.83,132,254.83\" style=\"stroke: #383838; stroke-width: 1.0;\"/><ellipse cx=\"127\" cy=\"230.13\" fill=\"#383838\" rx=\"2\" ry=\"2\" style=\"stroke: #383838; stroke-width: 1.0;\"/><ellipse cx=\"137\" cy=\"230.13\" fill=\"#383838\" rx=\"2\" ry=\"2\" style=\"stroke: #383838; stroke-width: 1.0;\"/></a><!--MD5=[f7801b8645a952cfcebd30b1a0684857]\n",
       "@startuml\r\n",
       "skinparam linetype ortho\r\n",
       "skinparam monochrome true\r\n",
       "skinparam classbackgroundcolor white\r\n",
       "skinparam shadowing false\r\n",
       "skinparam wrapWidth 300\r\n",
       "hide circle\r\n",
       "\r\n",
       "package \"ItemTest\" as E1  [[psysml:ae8f2d08-e2f6-41ef-ae81-a483692b435b ]]  {\r\n",
       "comp usage \"f: A \" as E2  <<(T,blue) item>> [[psysml:cbd0bd62-e912-4912-a2fb-da1e68d4f615 ]] {\r\n",
       "}\r\n",
       "comp def \"A\" as E3  <<(T,blue) item  def>> [[psysml:2b189b42-edf1-49d6-a72b-40b548d68a1d ]] {\r\n",
       "}\r\n",
       "comp usage \"b: B \" as E4  <<(T,blue) item>> [[psysml:94aeed99-fa0f-4cf3-9a3c-c07fcd3df143 ]] {\r\n",
       "}\r\n",
       "comp usage \"c: C \" as E5  <<(T,blue) part>> [[psysml:74f7fd5f-8520-4aae-9a17-942775661558 ]] {\r\n",
       "}\r\n",
       "comp def \"<i>B</i>\" as E6  <<(T,blue) item  def>> [[psysml:f1885442-e1dd-46d9-92aa-2427019de9de ]] {\r\n",
       "}\r\n",
       "comp usage \"<i>a</i>: A \" as E7  <<(T,blue) part>> [[psysml:cc0b7000-21b2-4abb-bead-e88feeed0b85 ]] {\r\n",
       "}\r\n",
       "comp def \"C\" as E8  <<(T,blue) part  def>> [[psysml:6db780a5-cf23-40f2-9df9-03150cb096d0 ]] {\r\n",
       "}\r\n",
       "comp def \"P\" as E9  <<(T,blue) port  def>> [[psysml:587854cf-6fe1-483d-a698-c7fca9a0c13c ]] {\r\n",
       "}\r\n",
       "comp usage \"a1: A \" as E10  <<(T,blue) item>> [[psysml:f73739ed-5364-4403-8254-d4f943238dfa ]] {\r\n",
       "}\r\n",
       "comp usage \"a2: A \" as E11  <<(T,blue) item>> [[psysml:6a7a2def-0eff-4194-80a2-af7f6b4a129e ]] {\r\n",
       "}\r\n",
       "}\r\n",
       "E2 - -:|> E3 [[psysml:8851b494-fad9-483d-8771-6e667cb982eb ]] \r\n",
       "E3 o- - \"1\"E4 [[psysml:bbc4490d-4884-4bf2-8394-3cd2641c3130 ]] \r\n",
       "E3 o- - \"1\"E5 [[psysml:896e58a4-3d4e-4523-9980-c4907a158d3f ]] \r\n",
       "E4 - -:|> E6 [[psysml:ae089d5e-98d2-4386-a1f6-d9056ad7f1db ]] \r\n",
       "E6 o- - \"1\"E7 [[psysml:f93e67a1-8e91-4b72-abc4-aff48dcc0ebf ]] \r\n",
       "E7 - -:|> E3 [[psysml:729e96ed-f9a8-4349-a416-61bf2a977bd8 ]] \r\n",
       "E5 - -:|> E8 [[psysml:8b27b07a-ba61-4df4-814a-c4b9eba72255 ]] \r\n",
       "E8 o- - E3 [[psysml:2fa26767-edf9-4f1d-8702-6d0b4fb1afcf ]] : y\r\n",
       "E8 o- - E6 [[psysml:2fa26767-edf9-4f1d-8702-6d0b4fb1afcf ]] : y\r\n",
       "E9 o- - \"1\"E10 [[psysml:2a8d2925-3f72-4e1c-849d-9e3943fa1d15 ]] \r\n",
       "E10 - -:|> E3 [[psysml:be0eb1db-3a2d-4525-bfbd-aed22db095bf ]] \r\n",
       "E9 o- - \"1\"E11 [[psysml:4a4899a0-cca2-49ff-ba55-d15caf476c4f ]] \r\n",
       "E11 - -:|> E3 [[psysml:8ddae6f0-112f-4ded-9c4d-74dd6bca1f55 ]] \r\n",
       "@enduml\r\n",
       "\n",
       "PlantUML version 1.2020.13(Sat Jun 13 12:26:38 UTC 2020)\n",
       "(EPL source distribution)\n",
       "Java Runtime: OpenJDK Runtime Environment\n",
       "JVM: OpenJDK 64-Bit Server VM\n",
       "Default Encoding: UTF-8\n",
       "Language: en\n",
       "Country: null\n",
       "--></g></svg>"
      ]
     },
     "execution_count": 52,
     "metadata": {},
     "output_type": "execute_result"
    }
   ],
   "source": [
    "%viz --style=\"ORTHOLINE\" --view=\"Tree\" \"ItemTest\""
   ]
  },
  {
   "cell_type": "code",
   "execution_count": 53,
   "id": "040eb9f9",
   "metadata": {
    "execution": {
     "iopub.execute_input": "2022-08-19T08:17:31.499401Z",
     "iopub.status.busy": "2022-08-19T08:17:31.498960Z",
     "iopub.status.idle": "2022-08-19T08:17:31.504014Z",
     "shell.execute_reply": "2022-08-19T08:17:31.503630Z"
    }
   },
   "outputs": [
    {
     "data": {
      "image/svg+xml": [
       "<?xml version=\"1.0\" encoding=\"UTF-8\" standalone=\"no\"?><svg xmlns=\"http://www.w3.org/2000/svg\" xmlns:xlink=\"http://www.w3.org/1999/xlink\" contentScriptType=\"application/ecmascript\" contentStyleType=\"text/css\" height=\"12px\" preserveAspectRatio=\"none\" style=\"width:12px;height:12px;\" version=\"1.1\" viewBox=\"0 0 12 12\" width=\"12px\" zoomAndPan=\"magnify\"><defs/><g><!--MD5=[97d6f38768b311333d388e66b2b27985]\n",
       "@startuml\r\n",
       "skinparam linetype ortho\r\n",
       "skinparam monochrome true\r\n",
       "skinparam classbackgroundcolor white\r\n",
       "skinparam shadowing false\r\n",
       "skinparam wrapWidth 300\r\n",
       "hide circle\r\n",
       "\r\n",
       "@enduml\r\n",
       "\n",
       "PlantUML version 1.2020.13(Sat Jun 13 12:26:38 UTC 2020)\n",
       "(EPL source distribution)\n",
       "Java Runtime: OpenJDK Runtime Environment\n",
       "JVM: OpenJDK 64-Bit Server VM\n",
       "Default Encoding: UTF-8\n",
       "Language: en\n",
       "Country: null\n",
       "--></g></svg>"
      ]
     },
     "execution_count": 53,
     "metadata": {},
     "output_type": "execute_result"
    }
   ],
   "source": [
    "%viz --style=\"ORTHOLINE\" --view=\"State\" \"ItemTest\""
   ]
  },
  {
   "cell_type": "code",
   "execution_count": 54,
   "id": "b62722b0",
   "metadata": {
    "execution": {
     "iopub.execute_input": "2022-08-19T08:17:31.553858Z",
     "iopub.status.busy": "2022-08-19T08:17:31.553414Z",
     "iopub.status.idle": "2022-08-19T08:17:31.586405Z",
     "shell.execute_reply": "2022-08-19T08:17:31.585975Z"
    }
   },
   "outputs": [
    {
     "data": {
      "image/svg+xml": [
       "<?xml version=\"1.0\" encoding=\"UTF-8\" standalone=\"no\"?><svg xmlns=\"http://www.w3.org/2000/svg\" xmlns:xlink=\"http://www.w3.org/1999/xlink\" contentScriptType=\"application/ecmascript\" contentStyleType=\"text/css\" height=\"246px\" preserveAspectRatio=\"none\" style=\"width:483px;height:246px;\" version=\"1.1\" viewBox=\"0 0 483 246\" width=\"483px\" zoomAndPan=\"magnify\"><defs/><g><!--MD5=[fbc87193dbaf4d95561dea2c320d4a47]\n",
       "cluster E1--><a href=\"psysml:ae8f2d08-e2f6-41ef-ae81-a483692b435b\" target=\"_top\" title=\"psysml:ae8f2d08-e2f6-41ef-ae81-a483692b435b\" xlink:actuate=\"onRequest\" xlink:href=\"psysml:ae8f2d08-e2f6-41ef-ae81-a483692b435b\" xlink:show=\"new\" xlink:title=\"psysml:ae8f2d08-e2f6-41ef-ae81-a483692b435b\" xlink:type=\"simple\"><polygon fill=\"#FFFFFF\" points=\"16,6,83,6,90,28.2969,461,28.2969,461,234,16,234,16,6\" style=\"stroke: #000000; stroke-width: 1.5;\"/><line style=\"stroke: #000000; stroke-width: 1.5;\" x1=\"16\" x2=\"90\" y1=\"28.2969\" y2=\"28.2969\"/><text fill=\"#000000\" font-family=\"sans-serif\" font-size=\"14\" font-weight=\"bold\" lengthAdjust=\"spacingAndGlyphs\" textLength=\"61\" x=\"20\" y=\"20.9951\">ItemTest</text></a><!--MD5=[de5ec2e2e8f62f467e546659f5068c88]\n",
       "cluster E5--><a href=\"psysml:6db780a5-cf23-40f2-9df9-03150cb096d0\" target=\"_top\" title=\"psysml:6db780a5-cf23-40f2-9df9-03150cb096d0\" xlink:actuate=\"onRequest\" xlink:href=\"psysml:6db780a5-cf23-40f2-9df9-03150cb096d0\" xlink:show=\"new\" xlink:title=\"psysml:6db780a5-cf23-40f2-9df9-03150cb096d0\" xlink:type=\"simple\"><rect fill=\"#FFFFFF\" height=\"110\" id=\"E5\" style=\"stroke: #383838; stroke-width: 1.5;\" width=\"114\" x=\"323\" y=\"49\"/><rect fill=\"#F8F8F8\" height=\"37.9375\" style=\"stroke: #383838; stroke-width: 1.5;\" width=\"114\" x=\"323\" y=\"49\"/><text fill=\"#000000\" font-family=\"sans-serif\" font-size=\"12\" font-style=\"italic\" lengthAdjust=\"spacingAndGlyphs\" textLength=\"68\" x=\"346\" y=\"65.1387\">«part  def»</text><text fill=\"#000000\" font-family=\"sans-serif\" font-size=\"12\" lengthAdjust=\"spacingAndGlyphs\" textLength=\"8\" x=\"376\" y=\"79.1074\">C</text></a><g id=\"E1.E3\"><a href=\"psysml:2b189b42-edf1-49d6-a72b-40b548d68a1d\" target=\"_top\" title=\"psysml:2b189b42-edf1-49d6-a72b-40b548d68a1d\" xlink:actuate=\"onRequest\" xlink:href=\"psysml:2b189b42-edf1-49d6-a72b-40b548d68a1d\" xlink:show=\"new\" xlink:title=\"psysml:2b189b42-edf1-49d6-a72b-40b548d68a1d\" xlink:type=\"simple\"><rect fill=\"#FFFFFF\" height=\"42.9375\" id=\"E3\" style=\"stroke: #383838; stroke-width: 1.5;\" width=\"76\" x=\"32\" y=\"175\"/><rect fill=\"#F8F8F8\" height=\"37.9375\" style=\"stroke: #383838; stroke-width: 1.5;\" width=\"76\" x=\"32\" y=\"175\"/><text fill=\"#000000\" font-family=\"sans-serif\" font-size=\"12\" font-style=\"italic\" lengthAdjust=\"spacingAndGlyphs\" textLength=\"69\" x=\"35.5\" y=\"191.1387\">«item  def»</text><text fill=\"#000000\" font-family=\"sans-serif\" font-size=\"12\" lengthAdjust=\"spacingAndGlyphs\" textLength=\"8\" x=\"66\" y=\"205.1074\">A</text></a></g><g id=\"E1.E4\"><a href=\"psysml:f1885442-e1dd-46d9-92aa-2427019de9de\" target=\"_top\" title=\"psysml:f1885442-e1dd-46d9-92aa-2427019de9de\" xlink:actuate=\"onRequest\" xlink:href=\"psysml:f1885442-e1dd-46d9-92aa-2427019de9de\" xlink:show=\"new\" xlink:title=\"psysml:f1885442-e1dd-46d9-92aa-2427019de9de\" xlink:type=\"simple\"><rect fill=\"#FFFFFF\" height=\"42.9375\" id=\"E4\" style=\"stroke: #383838; stroke-width: 1.5;\" width=\"76\" x=\"228\" y=\"100\"/><rect fill=\"#F8F8F8\" height=\"37.9375\" style=\"stroke: #383838; stroke-width: 1.5;\" width=\"76\" x=\"228\" y=\"100\"/><text fill=\"#000000\" font-family=\"sans-serif\" font-size=\"12\" font-style=\"italic\" lengthAdjust=\"spacingAndGlyphs\" textLength=\"69\" x=\"231.5\" y=\"116.1387\">«item  def»</text><text fill=\"#000000\" font-family=\"sans-serif\" font-size=\"12\" font-style=\"italic\" lengthAdjust=\"spacingAndGlyphs\" textLength=\"8\" x=\"262\" y=\"130.1074\">B</text></a></g><g id=\"E1.E7\"><a href=\"psysml:587854cf-6fe1-483d-a698-c7fca9a0c13c\" target=\"_top\" title=\"psysml:587854cf-6fe1-483d-a698-c7fca9a0c13c\" xlink:actuate=\"onRequest\" xlink:href=\"psysml:587854cf-6fe1-483d-a698-c7fca9a0c13c\" xlink:show=\"new\" xlink:title=\"psysml:587854cf-6fe1-483d-a698-c7fca9a0c13c\" xlink:type=\"simple\"><rect fill=\"#FFFFFF\" height=\"42.9375\" id=\"E7\" style=\"stroke: #383838; stroke-width: 1.5;\" width=\"75\" x=\"117.5\" y=\"100\"/><rect fill=\"#F8F8F8\" height=\"37.9375\" style=\"stroke: #383838; stroke-width: 1.5;\" width=\"75\" x=\"117.5\" y=\"100\"/><text fill=\"#000000\" font-family=\"sans-serif\" font-size=\"12\" font-style=\"italic\" lengthAdjust=\"spacingAndGlyphs\" textLength=\"68\" x=\"121\" y=\"116.1387\">«port  def»</text><text fill=\"#000000\" font-family=\"sans-serif\" font-size=\"12\" lengthAdjust=\"spacingAndGlyphs\" textLength=\"8\" x=\"151\" y=\"130.1074\">P</text></a></g><g id=\"E1.E2\"><a href=\"psysml:cbd0bd62-e912-4912-a2fb-da1e68d4f615\" target=\"_top\" title=\"psysml:cbd0bd62-e912-4912-a2fb-da1e68d4f615\" xlink:actuate=\"onRequest\" xlink:href=\"psysml:cbd0bd62-e912-4912-a2fb-da1e68d4f615\" xlink:show=\"new\" xlink:title=\"psysml:cbd0bd62-e912-4912-a2fb-da1e68d4f615\" xlink:type=\"simple\"><rect fill=\"#FFFFFF\" height=\"42.9375\" id=\"E2\" rx=\"10\" ry=\"10\" style=\"stroke: #383838; stroke-width: 1.5;\" width=\"50\" x=\"32\" y=\"100\"/><rect fill=\"#F8F8F8\" height=\"37.9375\" rx=\"10\" ry=\"10\" style=\"stroke: #F8F8F8; stroke-width: 1.5;\" width=\"50\" x=\"32\" y=\"100\"/><rect fill=\"#F8F8F8\" height=\"10\" style=\"stroke: #F8F8F8; stroke-width: 1.5;\" width=\"50\" x=\"32\" y=\"127.9375\"/><rect fill=\"none\" height=\"42.9375\" id=\"E2\" rx=\"10\" ry=\"10\" style=\"stroke: #383838; stroke-width: 1.5;\" width=\"50\" x=\"32\" y=\"100\"/><text fill=\"#000000\" font-family=\"sans-serif\" font-size=\"12\" font-style=\"italic\" lengthAdjust=\"spacingAndGlyphs\" textLength=\"41\" x=\"36.5\" y=\"116.1387\">«item»</text><text fill=\"#000000\" font-family=\"sans-serif\" font-size=\"12\" lengthAdjust=\"spacingAndGlyphs\" textLength=\"20\" x=\"47\" y=\"130.1074\">f: A</text></a></g><g id=\"E1.E5.E6\"><a href=\"psysml:2fa26767-edf9-4f1d-8702-6d0b4fb1afcf\" target=\"_top\" title=\"psysml:2fa26767-edf9-4f1d-8702-6d0b4fb1afcf\" xlink:actuate=\"onRequest\" xlink:href=\"psysml:2fa26767-edf9-4f1d-8702-6d0b4fb1afcf\" xlink:show=\"new\" xlink:title=\"psysml:2fa26767-edf9-4f1d-8702-6d0b4fb1afcf\" xlink:type=\"simple\"><rect fill=\"#FFFFFF\" height=\"42.9375\" id=\"E6\" rx=\"10\" ry=\"10\" style=\"stroke: #383838; stroke-width: 1.5;\" width=\"82\" x=\"339\" y=\"100\"/><rect fill=\"#F8F8F8\" height=\"37.9375\" rx=\"10\" ry=\"10\" style=\"stroke: #F8F8F8; stroke-width: 1.5;\" width=\"82\" x=\"339\" y=\"100\"/><rect fill=\"#F8F8F8\" height=\"10\" style=\"stroke: #F8F8F8; stroke-width: 1.5;\" width=\"82\" x=\"339\" y=\"127.9375\"/><rect fill=\"none\" height=\"42.9375\" id=\"E6\" rx=\"10\" ry=\"10\" style=\"stroke: #383838; stroke-width: 1.5;\" width=\"82\" x=\"339\" y=\"100\"/><text fill=\"#000000\" font-family=\"sans-serif\" font-size=\"12\" font-style=\"italic\" lengthAdjust=\"spacingAndGlyphs\" textLength=\"75\" x=\"342.5\" y=\"116.1387\">«reference»</text><text fill=\"#000000\" font-family=\"sans-serif\" font-size=\"12\" lengthAdjust=\"spacingAndGlyphs\" textLength=\"38\" x=\"359\" y=\"130.1074\">y: A, B</text></a></g><!--MD5=[2720a5a1f2c3fca2055b230370638851]\n",
       "link E2 to E3--><a href=\"psysml:8851b494-fad9-483d-8771-6e667cb982eb\" target=\"_top\" title=\"psysml:8851b494-fad9-483d-8771-6e667cb982eb\" xlink:actuate=\"onRequest\" xlink:href=\"psysml:8851b494-fad9-483d-8771-6e667cb982eb\" xlink:show=\"new\" xlink:title=\"psysml:8851b494-fad9-483d-8771-6e667cb982eb\" xlink:type=\"simple\"><path d=\"M57,143.19 C57,143.19 57,154.86 57,154.86 \" fill=\"none\" id=\"E2-&gt;E3\" style=\"stroke: #383838; stroke-width: 1.0;\"/><polygon fill=\"#FFFFFF\" points=\"57,174.86,50,155.86,64,155.86,57,174.86\" style=\"stroke: #383838; stroke-width: 1.0;\"/><ellipse cx=\"52\" cy=\"150.16\" fill=\"#383838\" rx=\"2\" ry=\"2\" style=\"stroke: #383838; stroke-width: 1.0;\"/><ellipse cx=\"62\" cy=\"150.16\" fill=\"#383838\" rx=\"2\" ry=\"2\" style=\"stroke: #383838; stroke-width: 1.0;\"/></a><!--MD5=[2871b045fa51573d04abcc4ae2b12754]\n",
       "@startuml\r\n",
       "skinparam ranksep 10\r\n",
       "skinparam rectangle {\r\n",
       " backgroundColor<<block>> LightGreen\r\n",
       "}\r\n",
       "skinparam linetype ortho\r\n",
       "skinparam monochrome true\r\n",
       "skinparam classbackgroundcolor white\r\n",
       "skinparam shadowing false\r\n",
       "skinparam wrapWidth 300\r\n",
       "hide circle\r\n",
       "\r\n",
       "package \"ItemTest\" as E1  [[psysml:ae8f2d08-e2f6-41ef-ae81-a483692b435b ]]  {\r\n",
       "rec usage \"f: A\" as E2  <<(T,blue) item>> [[psysml:cbd0bd62-e912-4912-a2fb-da1e68d4f615 ]] {\r\n",
       "}\r\n",
       "def \"A\" as E3  <<(T,blue) item  def>> [[psysml:2b189b42-edf1-49d6-a72b-40b548d68a1d ]] \r\n",
       "def \"<i>B</i>\" as E4  <<(T,blue) item  def>> [[psysml:f1885442-e1dd-46d9-92aa-2427019de9de ]] \r\n",
       "rec def \"C\" as E5  <<(T,blue) part  def>> [[psysml:6db780a5-cf23-40f2-9df9-03150cb096d0 ]] {\r\n",
       "rec usage \"y: A, B \" as E6  <<(T,blue) reference>> [[psysml:2fa26767-edf9-4f1d-8702-6d0b4fb1afcf ]] {\r\n",
       "}\r\n",
       "\r\n",
       "}\r\n",
       "def \"P\" as E7  <<(T,blue) port  def>> [[psysml:587854cf-6fe1-483d-a698-c7fca9a0c13c ]] \r\n",
       "}\r\n",
       "E2 - -:|> E3 [[psysml:8851b494-fad9-483d-8771-6e667cb982eb ]] \r\n",
       "@enduml\r\n",
       "\n",
       "PlantUML version 1.2020.13(Sat Jun 13 12:26:38 UTC 2020)\n",
       "(EPL source distribution)\n",
       "Java Runtime: OpenJDK Runtime Environment\n",
       "JVM: OpenJDK 64-Bit Server VM\n",
       "Default Encoding: UTF-8\n",
       "Language: en\n",
       "Country: null\n",
       "--></g></svg>"
      ]
     },
     "execution_count": 54,
     "metadata": {},
     "output_type": "execute_result"
    }
   ],
   "source": [
    "%viz --style=\"ORTHOLINE\" --view=\"Interconnection\" \"ItemTest\""
   ]
  },
  {
   "cell_type": "code",
   "execution_count": 55,
   "id": "88860a36",
   "metadata": {
    "execution": {
     "iopub.execute_input": "2022-08-19T08:17:31.635749Z",
     "iopub.status.busy": "2022-08-19T08:17:31.635294Z",
     "iopub.status.idle": "2022-08-19T08:17:31.640274Z",
     "shell.execute_reply": "2022-08-19T08:17:31.640592Z"
    }
   },
   "outputs": [
    {
     "data": {
      "image/svg+xml": [
       "<?xml version=\"1.0\" encoding=\"UTF-8\" standalone=\"no\"?><svg xmlns=\"http://www.w3.org/2000/svg\" xmlns:xlink=\"http://www.w3.org/1999/xlink\" contentScriptType=\"application/ecmascript\" contentStyleType=\"text/css\" height=\"12px\" preserveAspectRatio=\"none\" style=\"width:12px;height:12px;\" version=\"1.1\" viewBox=\"0 0 12 12\" width=\"12px\" zoomAndPan=\"magnify\"><defs/><g><!--MD5=[72934c63077099a26744516a776b4749]\n",
       "@startuml\r\n",
       "skinparam ranksep 8\r\n",
       "skinparam linetype ortho\r\n",
       "skinparam monochrome true\r\n",
       "skinparam classbackgroundcolor white\r\n",
       "skinparam shadowing false\r\n",
       "skinparam wrapWidth 300\r\n",
       "hide circle\r\n",
       "\r\n",
       "@enduml\r\n",
       "\n",
       "PlantUML version 1.2020.13(Sat Jun 13 12:26:38 UTC 2020)\n",
       "(EPL source distribution)\n",
       "Java Runtime: OpenJDK Runtime Environment\n",
       "JVM: OpenJDK 64-Bit Server VM\n",
       "Default Encoding: UTF-8\n",
       "Language: en\n",
       "Country: null\n",
       "--></g></svg>"
      ]
     },
     "execution_count": 55,
     "metadata": {},
     "output_type": "execute_result"
    }
   ],
   "source": [
    "%viz --style=\"ORTHOLINE\" --view=\"Action\" \"ItemTest\""
   ]
  },
  {
   "cell_type": "code",
   "execution_count": 56,
   "id": "e0f248ed",
   "metadata": {
    "execution": {
     "iopub.execute_input": "2022-08-19T08:17:31.690539Z",
     "iopub.status.busy": "2022-08-19T08:17:31.690088Z",
     "iopub.status.idle": "2022-08-19T08:17:31.694835Z",
     "shell.execute_reply": "2022-08-19T08:17:31.694462Z"
    }
   },
   "outputs": [
    {
     "data": {
      "image/svg+xml": [
       "<?xml version=\"1.0\" encoding=\"UTF-8\" standalone=\"no\"?><svg xmlns=\"http://www.w3.org/2000/svg\" xmlns:xlink=\"http://www.w3.org/1999/xlink\" contentScriptType=\"application/ecmascript\" contentStyleType=\"text/css\" height=\"12px\" preserveAspectRatio=\"none\" style=\"width:12px;height:12px;\" version=\"1.1\" viewBox=\"0 0 12 12\" width=\"12px\" zoomAndPan=\"magnify\"><defs/><g><!--MD5=[30fc1de5121c5abddedd55b44417fde8]\n",
       "@startuml\r\n",
       "skinparam roundcorner 20\r\n",
       "skinparam BoxPadding 20\r\n",
       "skinparam SequenceBoxBackgroundColor #white\r\n",
       "skinparam style strictuml\r\n",
       "skinparam maxMessageSize 100\r\n",
       "skinparam linetype ortho\r\n",
       "skinparam monochrome true\r\n",
       "skinparam classbackgroundcolor white\r\n",
       "skinparam shadowing false\r\n",
       "skinparam wrapWidth 300\r\n",
       "hide circle\r\n",
       "\r\n",
       "@enduml\r\n",
       "\n",
       "PlantUML version 1.2020.13(Sat Jun 13 12:26:38 UTC 2020)\n",
       "(EPL source distribution)\n",
       "Java Runtime: OpenJDK Runtime Environment\n",
       "JVM: OpenJDK 64-Bit Server VM\n",
       "Default Encoding: UTF-8\n",
       "Language: en\n",
       "Country: null\n",
       "--></g></svg>"
      ]
     },
     "execution_count": 56,
     "metadata": {},
     "output_type": "execute_result"
    }
   ],
   "source": [
    "%viz --style=\"ORTHOLINE\" --view=\"Sequence\" \"ItemTest\""
   ]
  },
  {
   "cell_type": "code",
   "execution_count": 57,
   "id": "378ba825",
   "metadata": {
    "execution": {
     "iopub.execute_input": "2022-08-19T08:17:31.744701Z",
     "iopub.status.busy": "2022-08-19T08:17:31.744260Z",
     "iopub.status.idle": "2022-08-19T08:17:31.787719Z",
     "shell.execute_reply": "2022-08-19T08:17:31.785408Z"
    }
   },
   "outputs": [
    {
     "data": {
      "image/svg+xml": [
       "<?xml version=\"1.0\" encoding=\"UTF-8\" standalone=\"no\"?><svg xmlns=\"http://www.w3.org/2000/svg\" xmlns:xlink=\"http://www.w3.org/1999/xlink\" contentScriptType=\"application/ecmascript\" contentStyleType=\"text/css\" height=\"818px\" preserveAspectRatio=\"none\" style=\"width:270px;height:818px;\" version=\"1.1\" viewBox=\"0 0 270 818\" width=\"270px\" zoomAndPan=\"magnify\"><defs/><g><!--MD5=[fbc87193dbaf4d95561dea2c320d4a47]\n",
       "cluster E1--><a href=\"psysml:ae8f2d08-e2f6-41ef-ae81-a483692b435b\" target=\"_top\" title=\"psysml:ae8f2d08-e2f6-41ef-ae81-a483692b435b\" xlink:actuate=\"onRequest\" xlink:href=\"psysml:ae8f2d08-e2f6-41ef-ae81-a483692b435b\" xlink:show=\"new\" xlink:title=\"psysml:ae8f2d08-e2f6-41ef-ae81-a483692b435b\" xlink:type=\"simple\"><polygon fill=\"#FFFFFF\" points=\"16,6,83,6,90,28.2969,248,28.2969,248,806,16,806,16,6\" style=\"stroke: #000000; stroke-width: 1.5;\"/><line style=\"stroke: #000000; stroke-width: 1.5;\" x1=\"16\" x2=\"90\" y1=\"28.2969\" y2=\"28.2969\"/><text fill=\"#000000\" font-family=\"sans-serif\" font-size=\"14\" font-weight=\"bold\" lengthAdjust=\"spacingAndGlyphs\" textLength=\"61\" x=\"20\" y=\"20.9951\">ItemTest</text></a><!--MD5=[b4997ac47864f28c2f74865a473b2911]\n",
       "class E2--><a href=\"psysml:cbd0bd62-e912-4912-a2fb-da1e68d4f615\" target=\"_top\" title=\"psysml:cbd0bd62-e912-4912-a2fb-da1e68d4f615\" xlink:actuate=\"onRequest\" xlink:href=\"psysml:cbd0bd62-e912-4912-a2fb-da1e68d4f615\" xlink:show=\"new\" xlink:title=\"psysml:cbd0bd62-e912-4912-a2fb-da1e68d4f615\" xlink:type=\"simple\"><rect fill=\"#FFFFFF\" height=\"45.9375\" id=\"E2\" rx=\"10\" ry=\"10\" style=\"stroke: #383838; stroke-width: 1.5;\" width=\"43\" x=\"188.5\" y=\"148\"/><text fill=\"#000000\" font-family=\"sans-serif\" font-size=\"12\" font-style=\"italic\" lengthAdjust=\"spacingAndGlyphs\" textLength=\"41\" x=\"189.5\" y=\"164.1387\">«item»</text><text fill=\"#000000\" font-family=\"sans-serif\" font-size=\"12\" lengthAdjust=\"spacingAndGlyphs\" textLength=\"20\" x=\"198\" y=\"178.1074\">f: A</text><line style=\"stroke: #383838; stroke-width: 1.5;\" x1=\"189.5\" x2=\"230.5\" y1=\"185.9375\" y2=\"185.9375\"/></a><!--MD5=[09b614a08d8cba4a07c9adeb5e0fee81]\n",
       "class E3--><a href=\"psysml:2b189b42-edf1-49d6-a72b-40b548d68a1d\" target=\"_top\" title=\"psysml:2b189b42-edf1-49d6-a72b-40b548d68a1d\" xlink:actuate=\"onRequest\" xlink:href=\"psysml:2b189b42-edf1-49d6-a72b-40b548d68a1d\" xlink:show=\"new\" xlink:title=\"psysml:2b189b42-edf1-49d6-a72b-40b548d68a1d\" xlink:type=\"simple\"><rect fill=\"#FFFFFF\" height=\"45.9375\" id=\"E3\" style=\"stroke: #383838; stroke-width: 1.5;\" width=\"71\" x=\"96.5\" y=\"255\"/><text fill=\"#000000\" font-family=\"sans-serif\" font-size=\"12\" font-style=\"italic\" lengthAdjust=\"spacingAndGlyphs\" textLength=\"69\" x=\"97.5\" y=\"271.1387\">«item  def»</text><text fill=\"#000000\" font-family=\"sans-serif\" font-size=\"12\" lengthAdjust=\"spacingAndGlyphs\" textLength=\"8\" x=\"128\" y=\"285.1074\">A</text><line style=\"stroke: #383838; stroke-width: 1.5;\" x1=\"97.5\" x2=\"166.5\" y1=\"292.9375\" y2=\"292.9375\"/></a><!--MD5=[ebbe1d658d1005bcc118a6aa81145e00]\n",
       "class E4--><a href=\"psysml:94aeed99-fa0f-4cf3-9a3c-c07fcd3df143\" target=\"_top\" title=\"psysml:94aeed99-fa0f-4cf3-9a3c-c07fcd3df143\" xlink:actuate=\"onRequest\" xlink:href=\"psysml:94aeed99-fa0f-4cf3-9a3c-c07fcd3df143\" xlink:show=\"new\" xlink:title=\"psysml:94aeed99-fa0f-4cf3-9a3c-c07fcd3df143\" xlink:type=\"simple\"><rect fill=\"#FFFFFF\" height=\"45.9375\" id=\"E4\" rx=\"10\" ry=\"10\" style=\"stroke: #383838; stroke-width: 1.5;\" width=\"43\" x=\"45.5\" y=\"438\"/><text fill=\"#000000\" font-family=\"sans-serif\" font-size=\"12\" font-style=\"italic\" lengthAdjust=\"spacingAndGlyphs\" textLength=\"41\" x=\"46.5\" y=\"454.1387\">«item»</text><text fill=\"#000000\" font-family=\"sans-serif\" font-size=\"12\" lengthAdjust=\"spacingAndGlyphs\" textLength=\"24\" x=\"53\" y=\"468.1074\">b: B</text><line style=\"stroke: #383838; stroke-width: 1.5;\" x1=\"46.5\" x2=\"87.5\" y1=\"475.9375\" y2=\"475.9375\"/></a><!--MD5=[270fce915f116d4de14055a7c1d9a0f3]\n",
       "class E5--><a href=\"psysml:74f7fd5f-8520-4aae-9a17-942775661558\" target=\"_top\" title=\"psysml:74f7fd5f-8520-4aae-9a17-942775661558\" xlink:actuate=\"onRequest\" xlink:href=\"psysml:74f7fd5f-8520-4aae-9a17-942775661558\" xlink:show=\"new\" xlink:title=\"psysml:74f7fd5f-8520-4aae-9a17-942775661558\" xlink:type=\"simple\"><rect fill=\"#FFFFFF\" height=\"45.9375\" id=\"E5\" rx=\"10\" ry=\"10\" style=\"stroke: #383838; stroke-width: 1.5;\" width=\"42\" x=\"151\" y=\"362\"/><text fill=\"#000000\" font-family=\"sans-serif\" font-size=\"12\" font-style=\"italic\" lengthAdjust=\"spacingAndGlyphs\" textLength=\"40\" x=\"152\" y=\"378.1387\">«part»</text><text fill=\"#000000\" font-family=\"sans-serif\" font-size=\"12\" lengthAdjust=\"spacingAndGlyphs\" textLength=\"23\" x=\"158.5\" y=\"392.1074\">c: C</text><line style=\"stroke: #383838; stroke-width: 1.5;\" x1=\"152\" x2=\"192\" y1=\"399.9375\" y2=\"399.9375\"/></a><!--MD5=[60a26617385b1d2d0262a64233df1f8d]\n",
       "class E6--><a href=\"psysml:f1885442-e1dd-46d9-92aa-2427019de9de\" target=\"_top\" title=\"psysml:f1885442-e1dd-46d9-92aa-2427019de9de\" xlink:actuate=\"onRequest\" xlink:href=\"psysml:f1885442-e1dd-46d9-92aa-2427019de9de\" xlink:show=\"new\" xlink:title=\"psysml:f1885442-e1dd-46d9-92aa-2427019de9de\" xlink:type=\"simple\"><rect fill=\"#FFFFFF\" height=\"45.9375\" id=\"E6\" style=\"stroke: #383838; stroke-width: 1.5;\" width=\"71\" x=\"112.5\" y=\"637\"/><text fill=\"#000000\" font-family=\"sans-serif\" font-size=\"12\" font-style=\"italic\" lengthAdjust=\"spacingAndGlyphs\" textLength=\"69\" x=\"113.5\" y=\"653.1387\">«item  def»</text><text fill=\"#000000\" font-family=\"sans-serif\" font-size=\"12\" font-style=\"italic\" lengthAdjust=\"spacingAndGlyphs\" textLength=\"8\" x=\"144\" y=\"667.1074\">B</text><line style=\"stroke: #383838; stroke-width: 1.5;\" x1=\"113.5\" x2=\"182.5\" y1=\"674.9375\" y2=\"674.9375\"/></a><!--MD5=[2156ba9850f5573cc1fc38a6a4b2f02b]\n",
       "class E7--><a href=\"psysml:cc0b7000-21b2-4abb-bead-e88feeed0b85\" target=\"_top\" title=\"psysml:cc0b7000-21b2-4abb-bead-e88feeed0b85\" xlink:actuate=\"onRequest\" xlink:href=\"psysml:cc0b7000-21b2-4abb-bead-e88feeed0b85\" xlink:show=\"new\" xlink:title=\"psysml:cc0b7000-21b2-4abb-bead-e88feeed0b85\" xlink:type=\"simple\"><rect fill=\"#FFFFFF\" height=\"45.9375\" id=\"E7\" rx=\"10\" ry=\"10\" style=\"stroke: #383838; stroke-width: 1.5;\" width=\"42\" x=\"159\" y=\"744\"/><text fill=\"#000000\" font-family=\"sans-serif\" font-size=\"12\" font-style=\"italic\" lengthAdjust=\"spacingAndGlyphs\" textLength=\"40\" x=\"160\" y=\"760.1387\">«part»</text><text fill=\"#000000\" font-family=\"sans-serif\" font-size=\"12\" font-style=\"italic\" lengthAdjust=\"spacingAndGlyphs\" textLength=\"8\" x=\"166\" y=\"774.1074\">a</text><text fill=\"#000000\" font-family=\"sans-serif\" font-size=\"12\" lengthAdjust=\"spacingAndGlyphs\" textLength=\"16\" x=\"174\" y=\"774.1074\">: A</text><line style=\"stroke: #383838; stroke-width: 1.5;\" x1=\"160\" x2=\"200\" y1=\"781.9375\" y2=\"781.9375\"/></a><!--MD5=[b9389687b975829384b498ac4b7476b2]\n",
       "class E8--><a href=\"psysml:6db780a5-cf23-40f2-9df9-03150cb096d0\" target=\"_top\" title=\"psysml:6db780a5-cf23-40f2-9df9-03150cb096d0\" xlink:actuate=\"onRequest\" xlink:href=\"psysml:6db780a5-cf23-40f2-9df9-03150cb096d0\" xlink:show=\"new\" xlink:title=\"psysml:6db780a5-cf23-40f2-9df9-03150cb096d0\" xlink:type=\"simple\"><rect fill=\"#FFFFFF\" height=\"45.9375\" id=\"E8\" style=\"stroke: #383838; stroke-width: 1.5;\" width=\"70\" x=\"113\" y=\"514\"/><text fill=\"#000000\" font-family=\"sans-serif\" font-size=\"12\" font-style=\"italic\" lengthAdjust=\"spacingAndGlyphs\" textLength=\"68\" x=\"114\" y=\"530.1387\">«part  def»</text><text fill=\"#000000\" font-family=\"sans-serif\" font-size=\"12\" lengthAdjust=\"spacingAndGlyphs\" textLength=\"8\" x=\"144\" y=\"544.1074\">C</text><line style=\"stroke: #383838; stroke-width: 1.5;\" x1=\"114\" x2=\"182\" y1=\"551.9375\" y2=\"551.9375\"/></a><!--MD5=[fd4143e9d270a159db93a4ea2a975926]\n",
       "class E9--><a href=\"psysml:587854cf-6fe1-483d-a698-c7fca9a0c13c\" target=\"_top\" title=\"psysml:587854cf-6fe1-483d-a698-c7fca9a0c13c\" xlink:actuate=\"onRequest\" xlink:href=\"psysml:587854cf-6fe1-483d-a698-c7fca9a0c13c\" xlink:show=\"new\" xlink:title=\"psysml:587854cf-6fe1-483d-a698-c7fca9a0c13c\" xlink:type=\"simple\"><rect fill=\"#FFFFFF\" height=\"45.9375\" id=\"E9\" style=\"stroke: #383838; stroke-width: 1.5;\" width=\"70\" x=\"64\" y=\"41\"/><text fill=\"#000000\" font-family=\"sans-serif\" font-size=\"12\" font-style=\"italic\" lengthAdjust=\"spacingAndGlyphs\" textLength=\"68\" x=\"65\" y=\"57.1387\">«port  def»</text><text fill=\"#000000\" font-family=\"sans-serif\" font-size=\"12\" lengthAdjust=\"spacingAndGlyphs\" textLength=\"8\" x=\"95\" y=\"71.1074\">P</text><line style=\"stroke: #383838; stroke-width: 1.5;\" x1=\"65\" x2=\"133\" y1=\"78.9375\" y2=\"78.9375\"/></a><!--MD5=[96f4274e9e20536e775497830990834d]\n",
       "class E10--><a href=\"psysml:f73739ed-5364-4403-8254-d4f943238dfa\" target=\"_top\" title=\"psysml:f73739ed-5364-4403-8254-d4f943238dfa\" xlink:actuate=\"onRequest\" xlink:href=\"psysml:f73739ed-5364-4403-8254-d4f943238dfa\" xlink:show=\"new\" xlink:title=\"psysml:f73739ed-5364-4403-8254-d4f943238dfa\" xlink:type=\"simple\"><rect fill=\"#FFFFFF\" height=\"45.9375\" id=\"E10\" rx=\"10\" ry=\"10\" style=\"stroke: #383838; stroke-width: 1.5;\" width=\"43\" x=\"32.5\" y=\"148\"/><text fill=\"#000000\" font-family=\"sans-serif\" font-size=\"12\" font-style=\"italic\" lengthAdjust=\"spacingAndGlyphs\" textLength=\"41\" x=\"33.5\" y=\"164.1387\">«item»</text><text fill=\"#000000\" font-family=\"sans-serif\" font-size=\"12\" lengthAdjust=\"spacingAndGlyphs\" textLength=\"32\" x=\"36\" y=\"178.1074\">a1: A</text><line style=\"stroke: #383838; stroke-width: 1.5;\" x1=\"33.5\" x2=\"74.5\" y1=\"185.9375\" y2=\"185.9375\"/></a><!--MD5=[1dd1bfd58a279cf63c5f349dbc8fc6a1]\n",
       "class E11--><a href=\"psysml:6a7a2def-0eff-4194-80a2-af7f6b4a129e\" target=\"_top\" title=\"psysml:6a7a2def-0eff-4194-80a2-af7f6b4a129e\" xlink:actuate=\"onRequest\" xlink:href=\"psysml:6a7a2def-0eff-4194-80a2-af7f6b4a129e\" xlink:show=\"new\" xlink:title=\"psysml:6a7a2def-0eff-4194-80a2-af7f6b4a129e\" xlink:type=\"simple\"><rect fill=\"#FFFFFF\" height=\"45.9375\" id=\"E11\" rx=\"10\" ry=\"10\" style=\"stroke: #383838; stroke-width: 1.5;\" width=\"43\" x=\"110.5\" y=\"148\"/><text fill=\"#000000\" font-family=\"sans-serif\" font-size=\"12\" font-style=\"italic\" lengthAdjust=\"spacingAndGlyphs\" textLength=\"41\" x=\"111.5\" y=\"164.1387\">«item»</text><text fill=\"#000000\" font-family=\"sans-serif\" font-size=\"12\" lengthAdjust=\"spacingAndGlyphs\" textLength=\"32\" x=\"114\" y=\"178.1074\">a2: A</text><line style=\"stroke: #383838; stroke-width: 1.5;\" x1=\"111.5\" x2=\"152.5\" y1=\"185.9375\" y2=\"185.9375\"/></a><!--MD5=[2720a5a1f2c3fca2055b230370638851]\n",
       "link E2 to E3--><a href=\"psysml:8851b494-fad9-483d-8771-6e667cb982eb\" target=\"_top\" title=\"psysml:8851b494-fad9-483d-8771-6e667cb982eb\" xlink:actuate=\"onRequest\" xlink:href=\"psysml:8851b494-fad9-483d-8771-6e667cb982eb\" xlink:show=\"new\" xlink:title=\"psysml:8851b494-fad9-483d-8771-6e667cb982eb\" xlink:type=\"simple\"><path d=\"M188.43,171 C175.09,171 160.5,171 160.5,171 C160.5,171 160.5,234.78 160.5,234.78 \" fill=\"none\" id=\"E2-&gt;E3\" style=\"stroke: #383838; stroke-width: 1.0;\"/><polygon fill=\"#FFFFFF\" points=\"160.5,254.78,153.5,235.78,167.5,235.78,160.5,254.78\" style=\"stroke: #383838; stroke-width: 1.0;\"/><ellipse cx=\"155.5\" cy=\"230.08\" fill=\"#383838\" rx=\"2\" ry=\"2\" style=\"stroke: #383838; stroke-width: 1.0;\"/><ellipse cx=\"165.5\" cy=\"230.08\" fill=\"#383838\" rx=\"2\" ry=\"2\" style=\"stroke: #383838; stroke-width: 1.0;\"/></a><!--MD5=[4672eba38e49728da53d11aeb285b987]\n",
       "reverse link E3 to E4--><a href=\"psysml:bbc4490d-4884-4bf2-8394-3cd2641c3130\" target=\"_top\" title=\"psysml:bbc4490d-4884-4bf2-8394-3cd2641c3130\" xlink:actuate=\"onRequest\" xlink:href=\"psysml:bbc4490d-4884-4bf2-8394-3cd2641c3130\" xlink:show=\"new\" xlink:title=\"psysml:bbc4490d-4884-4bf2-8394-3cd2641c3130\" xlink:type=\"simple\"><path d=\"M83.46,278 C83.46,278 82,278 82,278 C82,278 82,388.58 82,437.82 \" fill=\"none\" id=\"E3&lt;-E4\" style=\"stroke: #383838; stroke-width: 1.0;\"/><polygon fill=\"#FFFFFF\" points=\"96.46,278,90.46,274,84.46,278,90.46,282,96.46,278\" style=\"stroke: #383838; stroke-width: 1.0;\"/><text fill=\"#000000\" font-family=\"sans-serif\" font-size=\"13\" lengthAdjust=\"spacingAndGlyphs\" textLength=\"8\" x=\"76.8188\" y=\"427.0502\">1</text></a><!--MD5=[191cde3d490a3f6d7bb551fe3ddca469]\n",
       "reverse link E3 to E5--><a href=\"psysml:896e58a4-3d4e-4523-9980-c4907a158d3f\" target=\"_top\" title=\"psysml:896e58a4-3d4e-4523-9980-c4907a158d3f\" xlink:actuate=\"onRequest\" xlink:href=\"psysml:896e58a4-3d4e-4523-9980-c4907a158d3f\" xlink:show=\"new\" xlink:title=\"psysml:896e58a4-3d4e-4523-9980-c4907a158d3f\" xlink:type=\"simple\"><path d=\"M159.25,314.22 C159.25,314.22 159.25,361.83 159.25,361.83 \" fill=\"none\" id=\"E3&lt;-E5\" style=\"stroke: #383838; stroke-width: 1.0;\"/><polygon fill=\"#FFFFFF\" points=\"159.25,301.22,155.25,307.22,159.25,313.22,163.25,307.22,159.25,301.22\" style=\"stroke: #383838; stroke-width: 1.0;\"/><text fill=\"#000000\" font-family=\"sans-serif\" font-size=\"13\" lengthAdjust=\"spacingAndGlyphs\" textLength=\"8\" x=\"146.9578\" y=\"351.0627\">1</text></a><!--MD5=[79568f1e445c3877b6a54524624ccc7d]\n",
       "link E4 to E6--><a href=\"psysml:ae089d5e-98d2-4386-a1f6-d9056ad7f1db\" target=\"_top\" title=\"psysml:ae089d5e-98d2-4386-a1f6-d9056ad7f1db\" xlink:actuate=\"onRequest\" xlink:href=\"psysml:ae089d5e-98d2-4386-a1f6-d9056ad7f1db\" xlink:show=\"new\" xlink:title=\"psysml:ae089d5e-98d2-4386-a1f6-d9056ad7f1db\" xlink:type=\"simple\"><path d=\"M67,484.22 C67,536.71 67,660 67,660 C67,660 92.24,660 92.24,660 \" fill=\"none\" id=\"E4-&gt;E6\" style=\"stroke: #383838; stroke-width: 1.0;\"/><polygon fill=\"#FFFFFF\" points=\"112.24,660,93.24,667,93.24,653,112.24,660\" style=\"stroke: #383838; stroke-width: 1.0;\"/><ellipse cx=\"87.54\" cy=\"665\" fill=\"#383838\" rx=\"2\" ry=\"2\" style=\"stroke: #383838; stroke-width: 1.0;\"/><ellipse cx=\"87.54\" cy=\"655\" fill=\"#383838\" rx=\"2\" ry=\"2\" style=\"stroke: #383838; stroke-width: 1.0;\"/></a><!--MD5=[3f50a3473f1dfb74d3f76443e03635af]\n",
       "reverse link E6 to E7--><a href=\"psysml:f93e67a1-8e91-4b72-abc4-aff48dcc0ebf\" target=\"_top\" title=\"psysml:f93e67a1-8e91-4b72-abc4-aff48dcc0ebf\" xlink:actuate=\"onRequest\" xlink:href=\"psysml:f93e67a1-8e91-4b72-abc4-aff48dcc0ebf\" xlink:show=\"new\" xlink:title=\"psysml:f93e67a1-8e91-4b72-abc4-aff48dcc0ebf\" xlink:type=\"simple\"><path d=\"M171.25,696.22 C171.25,696.22 171.25,743.83 171.25,743.83 \" fill=\"none\" id=\"E6&lt;-E7\" style=\"stroke: #383838; stroke-width: 1.0;\"/><polygon fill=\"#FFFFFF\" points=\"171.25,683.22,167.25,689.22,171.25,695.22,175.25,689.22,171.25,683.22\" style=\"stroke: #383838; stroke-width: 1.0;\"/><text fill=\"#000000\" font-family=\"sans-serif\" font-size=\"13\" lengthAdjust=\"spacingAndGlyphs\" textLength=\"8\" x=\"159.9828\" y=\"733.0627\">1</text></a><!--MD5=[14ccda38c055a5c0da953d572bc50960]\n",
       "link E7 to E3--><a href=\"psysml:729e96ed-f9a8-4349-a416-61bf2a977bd8\" target=\"_top\" title=\"psysml:729e96ed-f9a8-4349-a416-61bf2a977bd8\" xlink:actuate=\"onRequest\" xlink:href=\"psysml:729e96ed-f9a8-4349-a416-61bf2a977bd8\" xlink:show=\"new\" xlink:title=\"psysml:729e96ed-f9a8-4349-a416-61bf2a977bd8\" xlink:type=\"simple\"><path d=\"M197,743.74 C197,646.56 197,278 197,278 C197,278 187.54,278 187.54,278 \" fill=\"none\" id=\"E7-&gt;E3\" style=\"stroke: #383838; stroke-width: 1.0;\"/><polygon fill=\"#FFFFFF\" points=\"167.54,278,186.54,271,186.54,285,167.54,278\" style=\"stroke: #383838; stroke-width: 1.0;\"/><ellipse cx=\"192.24\" cy=\"273\" fill=\"#383838\" rx=\"2\" ry=\"2\" style=\"stroke: #383838; stroke-width: 1.0;\"/><ellipse cx=\"192.24\" cy=\"283\" fill=\"#383838\" rx=\"2\" ry=\"2\" style=\"stroke: #383838; stroke-width: 1.0;\"/></a><!--MD5=[dfaffb906826c3e5aca635516100ff21]\n",
       "link E5 to E8--><a href=\"psysml:8b27b07a-ba61-4df4-814a-c4b9eba72255\" target=\"_top\" title=\"psysml:8b27b07a-ba61-4df4-814a-c4b9eba72255\" xlink:actuate=\"onRequest\" xlink:href=\"psysml:8b27b07a-ba61-4df4-814a-c4b9eba72255\" xlink:show=\"new\" xlink:title=\"psysml:8b27b07a-ba61-4df4-814a-c4b9eba72255\" xlink:type=\"simple\"><path d=\"M167,408.09 C167,408.09 167,493.7 167,493.7 \" fill=\"none\" id=\"E5-&gt;E8\" style=\"stroke: #383838; stroke-width: 1.0;\"/><polygon fill=\"#FFFFFF\" points=\"167,513.7,160,494.7,174,494.7,167,513.7\" style=\"stroke: #383838; stroke-width: 1.0;\"/><ellipse cx=\"162\" cy=\"489\" fill=\"#383838\" rx=\"2\" ry=\"2\" style=\"stroke: #383838; stroke-width: 1.0;\"/><ellipse cx=\"172\" cy=\"489\" fill=\"#383838\" rx=\"2\" ry=\"2\" style=\"stroke: #383838; stroke-width: 1.0;\"/></a><!--MD5=[03c8294790d3c57651a1993cecff665f]\n",
       "reverse link E8 to E3--><a href=\"psysml:2fa26767-edf9-4f1d-8702-6d0b4fb1afcf\" target=\"_top\" title=\"psysml:2fa26767-edf9-4f1d-8702-6d0b4fb1afcf\" xlink:actuate=\"onRequest\" xlink:href=\"psysml:2fa26767-edf9-4f1d-8702-6d0b4fb1afcf\" xlink:show=\"new\" xlink:title=\"psysml:2fa26767-edf9-4f1d-8702-6d0b4fb1afcf\" xlink:type=\"simple\"><path d=\"M132,500.56 C132,500.56 132,301.2 132,301.2 \" fill=\"none\" id=\"E8&lt;-E3\" style=\"stroke: #383838; stroke-width: 1.0;\"/><polygon fill=\"#FFFFFF\" points=\"132,513.56,136,507.56,132,501.56,128,507.56,132,513.56\" style=\"stroke: #383838; stroke-width: 1.0;\"/><text fill=\"#000000\" font-family=\"sans-serif\" font-size=\"13\" lengthAdjust=\"spacingAndGlyphs\" textLength=\"7\" x=\"108\" y=\"389.5669\">y</text></a><!--MD5=[0d75d2178373a6a4568e5dc728f58aef]\n",
       "reverse link E8 to E6--><a href=\"psysml:2fa26767-edf9-4f1d-8702-6d0b4fb1afcf\" target=\"_top\" title=\"psysml:2fa26767-edf9-4f1d-8702-6d0b4fb1afcf\" xlink:actuate=\"onRequest\" xlink:href=\"psysml:2fa26767-edf9-4f1d-8702-6d0b4fb1afcf\" xlink:show=\"new\" xlink:title=\"psysml:2fa26767-edf9-4f1d-8702-6d0b4fb1afcf\" xlink:type=\"simple\"><path d=\"M148,573.14 C148,573.14 148,636.97 148,636.97 \" fill=\"none\" id=\"E8&lt;-E6\" style=\"stroke: #383838; stroke-width: 1.0;\"/><polygon fill=\"#FFFFFF\" points=\"148,560.14,144,566.14,148,572.14,152,566.14,148,560.14\" style=\"stroke: #383838; stroke-width: 1.0;\"/><text fill=\"#000000\" font-family=\"sans-serif\" font-size=\"13\" lengthAdjust=\"spacingAndGlyphs\" textLength=\"7\" x=\"149\" y=\"603.0669\">y</text></a><!--MD5=[23ac544a70576c3e717098101004234c]\n",
       "reverse link E9 to E10--><a href=\"psysml:2a8d2925-3f72-4e1c-849d-9e3943fa1d15\" target=\"_top\" title=\"psysml:2a8d2925-3f72-4e1c-849d-9e3943fa1d15\" xlink:actuate=\"onRequest\" xlink:href=\"psysml:2a8d2925-3f72-4e1c-849d-9e3943fa1d15\" xlink:show=\"new\" xlink:title=\"psysml:2a8d2925-3f72-4e1c-849d-9e3943fa1d15\" xlink:type=\"simple\"><path d=\"M69.75,100.22 C69.75,100.22 69.75,147.83 69.75,147.83 \" fill=\"none\" id=\"E9&lt;-E10\" style=\"stroke: #383838; stroke-width: 1.0;\"/><polygon fill=\"#FFFFFF\" points=\"69.75,87.22,65.75,93.22,69.75,99.22,73.75,93.22,69.75,87.22\" style=\"stroke: #383838; stroke-width: 1.0;\"/><text fill=\"#000000\" font-family=\"sans-serif\" font-size=\"13\" lengthAdjust=\"spacingAndGlyphs\" textLength=\"8\" x=\"64.7609\" y=\"137.0627\">1</text></a><!--MD5=[feeac5eb423634930294aa81f2d25a4c]\n",
       "link E10 to E3--><a href=\"psysml:be0eb1db-3a2d-4525-bfbd-aed22db095bf\" target=\"_top\" title=\"psysml:be0eb1db-3a2d-4525-bfbd-aed22db095bf\" xlink:actuate=\"onRequest\" xlink:href=\"psysml:be0eb1db-3a2d-4525-bfbd-aed22db095bf\" xlink:show=\"new\" xlink:title=\"psysml:be0eb1db-3a2d-4525-bfbd-aed22db095bf\" xlink:type=\"simple\"><path d=\"M75.57,171 C88.91,171 103.5,171 103.5,171 C103.5,171 103.5,234.78 103.5,234.78 \" fill=\"none\" id=\"E10-&gt;E3\" style=\"stroke: #383838; stroke-width: 1.0;\"/><polygon fill=\"#FFFFFF\" points=\"103.5,254.78,96.5,235.78,110.5,235.78,103.5,254.78\" style=\"stroke: #383838; stroke-width: 1.0;\"/><ellipse cx=\"98.5\" cy=\"230.08\" fill=\"#383838\" rx=\"2\" ry=\"2\" style=\"stroke: #383838; stroke-width: 1.0;\"/><ellipse cx=\"108.5\" cy=\"230.08\" fill=\"#383838\" rx=\"2\" ry=\"2\" style=\"stroke: #383838; stroke-width: 1.0;\"/></a><!--MD5=[1fc04a95fd77ad5ce46c1a3027516051]\n",
       "reverse link E9 to E11--><a href=\"psysml:4a4899a0-cca2-49ff-ba55-d15caf476c4f\" target=\"_top\" title=\"psysml:4a4899a0-cca2-49ff-ba55-d15caf476c4f\" xlink:actuate=\"onRequest\" xlink:href=\"psysml:4a4899a0-cca2-49ff-ba55-d15caf476c4f\" xlink:show=\"new\" xlink:title=\"psysml:4a4899a0-cca2-49ff-ba55-d15caf476c4f\" xlink:type=\"simple\"><path d=\"M122.25,100.22 C122.25,100.22 122.25,147.83 122.25,147.83 \" fill=\"none\" id=\"E9&lt;-E11\" style=\"stroke: #383838; stroke-width: 1.0;\"/><polygon fill=\"#FFFFFF\" points=\"122.25,87.22,118.25,93.22,122.25,99.22,126.25,93.22,122.25,87.22\" style=\"stroke: #383838; stroke-width: 1.0;\"/><text fill=\"#000000\" font-family=\"sans-serif\" font-size=\"13\" lengthAdjust=\"spacingAndGlyphs\" textLength=\"8\" x=\"110.7266\" y=\"137.0627\">1</text></a><!--MD5=[0517f1ce58c4d5483948f93845c45e26]\n",
       "link E11 to E3--><a href=\"psysml:8ddae6f0-112f-4ded-9c4d-74dd6bca1f55\" target=\"_top\" title=\"psysml:8ddae6f0-112f-4ded-9c4d-74dd6bca1f55\" xlink:actuate=\"onRequest\" xlink:href=\"psysml:8ddae6f0-112f-4ded-9c4d-74dd6bca1f55\" xlink:show=\"new\" xlink:title=\"psysml:8ddae6f0-112f-4ded-9c4d-74dd6bca1f55\" xlink:type=\"simple\"><path d=\"M132,194.22 C132,194.22 132,234.83 132,234.83 \" fill=\"none\" id=\"E11-&gt;E3\" style=\"stroke: #383838; stroke-width: 1.0;\"/><polygon fill=\"#FFFFFF\" points=\"132,254.83,125,235.83,139,235.83,132,254.83\" style=\"stroke: #383838; stroke-width: 1.0;\"/><ellipse cx=\"127\" cy=\"230.13\" fill=\"#383838\" rx=\"2\" ry=\"2\" style=\"stroke: #383838; stroke-width: 1.0;\"/><ellipse cx=\"137\" cy=\"230.13\" fill=\"#383838\" rx=\"2\" ry=\"2\" style=\"stroke: #383838; stroke-width: 1.0;\"/></a><!--MD5=[f7801b8645a952cfcebd30b1a0684857]\n",
       "@startuml\r\n",
       "skinparam linetype ortho\r\n",
       "skinparam monochrome true\r\n",
       "skinparam classbackgroundcolor white\r\n",
       "skinparam shadowing false\r\n",
       "skinparam wrapWidth 300\r\n",
       "hide circle\r\n",
       "\r\n",
       "package \"ItemTest\" as E1  [[psysml:ae8f2d08-e2f6-41ef-ae81-a483692b435b ]]  {\r\n",
       "comp usage \"f: A \" as E2  <<(T,blue) item>> [[psysml:cbd0bd62-e912-4912-a2fb-da1e68d4f615 ]] {\r\n",
       "}\r\n",
       "comp def \"A\" as E3  <<(T,blue) item  def>> [[psysml:2b189b42-edf1-49d6-a72b-40b548d68a1d ]] {\r\n",
       "}\r\n",
       "comp usage \"b: B \" as E4  <<(T,blue) item>> [[psysml:94aeed99-fa0f-4cf3-9a3c-c07fcd3df143 ]] {\r\n",
       "}\r\n",
       "comp usage \"c: C \" as E5  <<(T,blue) part>> [[psysml:74f7fd5f-8520-4aae-9a17-942775661558 ]] {\r\n",
       "}\r\n",
       "comp def \"<i>B</i>\" as E6  <<(T,blue) item  def>> [[psysml:f1885442-e1dd-46d9-92aa-2427019de9de ]] {\r\n",
       "}\r\n",
       "comp usage \"<i>a</i>: A \" as E7  <<(T,blue) part>> [[psysml:cc0b7000-21b2-4abb-bead-e88feeed0b85 ]] {\r\n",
       "}\r\n",
       "comp def \"C\" as E8  <<(T,blue) part  def>> [[psysml:6db780a5-cf23-40f2-9df9-03150cb096d0 ]] {\r\n",
       "}\r\n",
       "comp def \"P\" as E9  <<(T,blue) port  def>> [[psysml:587854cf-6fe1-483d-a698-c7fca9a0c13c ]] {\r\n",
       "}\r\n",
       "comp usage \"a1: A \" as E10  <<(T,blue) item>> [[psysml:f73739ed-5364-4403-8254-d4f943238dfa ]] {\r\n",
       "}\r\n",
       "comp usage \"a2: A \" as E11  <<(T,blue) item>> [[psysml:6a7a2def-0eff-4194-80a2-af7f6b4a129e ]] {\r\n",
       "}\r\n",
       "}\r\n",
       "E2 - -:|> E3 [[psysml:8851b494-fad9-483d-8771-6e667cb982eb ]] \r\n",
       "E3 o- - \"1\"E4 [[psysml:bbc4490d-4884-4bf2-8394-3cd2641c3130 ]] \r\n",
       "E3 o- - \"1\"E5 [[psysml:896e58a4-3d4e-4523-9980-c4907a158d3f ]] \r\n",
       "E4 - -:|> E6 [[psysml:ae089d5e-98d2-4386-a1f6-d9056ad7f1db ]] \r\n",
       "E6 o- - \"1\"E7 [[psysml:f93e67a1-8e91-4b72-abc4-aff48dcc0ebf ]] \r\n",
       "E7 - -:|> E3 [[psysml:729e96ed-f9a8-4349-a416-61bf2a977bd8 ]] \r\n",
       "E5 - -:|> E8 [[psysml:8b27b07a-ba61-4df4-814a-c4b9eba72255 ]] \r\n",
       "E8 o- - E3 [[psysml:2fa26767-edf9-4f1d-8702-6d0b4fb1afcf ]] : y\r\n",
       "E8 o- - E6 [[psysml:2fa26767-edf9-4f1d-8702-6d0b4fb1afcf ]] : y\r\n",
       "E9 o- - \"1\"E10 [[psysml:2a8d2925-3f72-4e1c-849d-9e3943fa1d15 ]] \r\n",
       "E10 - -:|> E3 [[psysml:be0eb1db-3a2d-4525-bfbd-aed22db095bf ]] \r\n",
       "E9 o- - \"1\"E11 [[psysml:4a4899a0-cca2-49ff-ba55-d15caf476c4f ]] \r\n",
       "E11 - -:|> E3 [[psysml:8ddae6f0-112f-4ded-9c4d-74dd6bca1f55 ]] \r\n",
       "@enduml\r\n",
       "\n",
       "PlantUML version 1.2020.13(Sat Jun 13 12:26:38 UTC 2020)\n",
       "(EPL source distribution)\n",
       "Java Runtime: OpenJDK Runtime Environment\n",
       "JVM: OpenJDK 64-Bit Server VM\n",
       "Default Encoding: UTF-8\n",
       "Language: en\n",
       "Country: null\n",
       "--></g></svg>"
      ]
     },
     "execution_count": 57,
     "metadata": {},
     "output_type": "execute_result"
    }
   ],
   "source": [
    "%viz --style=\"ORTHOLINE\" --view=\"MIXED\" \"ItemTest\""
   ]
  }
 ],
 "metadata": {
  "kernelspec": {
   "display_name": "SysML",
   "language": "sysml",
   "name": "sysml"
  },
  "language_info": {
   "codemirror_mode": "sysml",
   "file_extension": ".sysml",
   "mimetype": "text/x-sysml",
   "name": "SysML",
   "pygments_lexer": "java",
   "version": "1.0.0"
  }
 },
 "nbformat": 4,
 "nbformat_minor": 5
}

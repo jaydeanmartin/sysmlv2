{
 "cells": [
  {
   "cell_type": "markdown",
   "id": "04131482",
   "metadata": {},
   "source": [
    "# SysML v2 Test Suite\n",
    "\n",
    "This can notebook can be cleared using menu `Edit --> Clear All Outputs` and then all cells can be\n",
    "run using menu `Run --> Run All Cells`.\n",
    "\n",
    "**WARNING**: This file is generated, all modifications here will be ignored.\n"
   ]
  },
  {
   "cell_type": "markdown",
   "id": "72b3e96b",
   "metadata": {},
   "source": [
    "## File: ../../sysml/src/examples/Simple Tests/TextualRepresentationTest.sysml"
   ]
  },
  {
   "cell_type": "code",
   "execution_count": 1,
   "id": "cac3302b",
   "metadata": {
    "execution": {
     "iopub.execute_input": "2022-08-19T08:20:08.938954Z",
     "iopub.status.busy": "2022-08-19T08:20:08.938150Z",
     "iopub.status.idle": "2022-08-19T08:20:09.214738Z",
     "shell.execute_reply": "2022-08-19T08:20:09.214400Z"
    }
   },
   "outputs": [
    {
     "data": {
      "text/plain": [
       "Package TextualRepresentationTest (a059710d-e8aa-4b22-8023-1459b734d0f7)\n"
      ]
     },
     "execution_count": 1,
     "metadata": {},
     "output_type": "execute_result"
    }
   ],
   "source": [
    "package TextualRepresentationTest {\n",
    "\timport ScalarValues::Real;\n",
    "\t\n",
    "\titem def C {\n",
    "\t    attribute x: Real;\n",
    "\t    assert constraint x_constraint {\n",
    "\t\t    rep inOCL language \"ocl\" \n",
    "\t\t        /* self.x > 0.0 */\n",
    "\t    }\n",
    "\t}\n",
    "\t\n",
    "\taction def setX {\n",
    "\t\tin c : C;\n",
    "\t\tin newX : Real;\n",
    "\t\t\n",
    "\t    language \"alf\" \n",
    "\t        /* c.x = newX;\n",
    "\t         * WriteLine(\"Set new x\");\n",
    "\t         */\n",
    "\t}\n",
    "\t\n",
    "}"
   ]
  },
  {
   "cell_type": "code",
   "execution_count": 2,
   "id": "0a446050",
   "metadata": {
    "execution": {
     "iopub.execute_input": "2022-08-19T08:20:09.266653Z",
     "iopub.status.busy": "2022-08-19T08:20:09.266350Z",
     "iopub.status.idle": "2022-08-19T08:20:09.747642Z",
     "shell.execute_reply": "2022-08-19T08:20:09.746696Z"
    }
   },
   "outputs": [
    {
     "data": {
      "image/svg+xml": [
       "<?xml version=\"1.0\" encoding=\"UTF-8\" standalone=\"no\"?><svg xmlns=\"http://www.w3.org/2000/svg\" xmlns:xlink=\"http://www.w3.org/1999/xlink\" contentScriptType=\"application/ecmascript\" contentStyleType=\"text/css\" height=\"261px\" preserveAspectRatio=\"none\" style=\"width:351px;height:261px;\" version=\"1.1\" viewBox=\"0 0 351 261\" width=\"351px\" zoomAndPan=\"magnify\"><defs/><g><!--MD5=[fbc87193dbaf4d95561dea2c320d4a47]\n",
       "cluster E1--><a href=\"psysml:a059710d-e8aa-4b22-8023-1459b734d0f7\" target=\"_top\" title=\"psysml:a059710d-e8aa-4b22-8023-1459b734d0f7\" xlink:actuate=\"onRequest\" xlink:href=\"psysml:a059710d-e8aa-4b22-8023-1459b734d0f7\" xlink:show=\"new\" xlink:title=\"psysml:a059710d-e8aa-4b22-8023-1459b734d0f7\" xlink:type=\"simple\"><polygon fill=\"#FFFFFF\" points=\"16,6,210,6,217,28.2969,329,28.2969,329,249.5,16,249.5,16,6\" style=\"stroke: #000000; stroke-width: 1.5;\"/><line style=\"stroke: #000000; stroke-width: 1.5;\" x1=\"16\" x2=\"217\" y1=\"28.2969\" y2=\"28.2969\"/><text fill=\"#000000\" font-family=\"sans-serif\" font-size=\"14\" font-weight=\"bold\" lengthAdjust=\"spacingAndGlyphs\" textLength=\"188\" x=\"20\" y=\"20.9951\">TextualRepresentationTest</text></a><!--MD5=[f6df4d0ebaf0b5dfb2ced0ae5af7c670]\n",
       "cluster E4--><a href=\"psysml:ee57fb5c-c168-4cf6-8494-2ae72f89f8ea\" target=\"_top\" title=\"psysml:ee57fb5c-c168-4cf6-8494-2ae72f89f8ea\" xlink:actuate=\"onRequest\" xlink:href=\"psysml:ee57fb5c-c168-4cf6-8494-2ae72f89f8ea\" xlink:show=\"new\" xlink:title=\"psysml:ee57fb5c-c168-4cf6-8494-2ae72f89f8ea\" xlink:type=\"simple\"><rect fill=\"#FFFFFF\" height=\"154.5\" id=\"E4\" style=\"stroke: #383838; stroke-width: 1.5;\" width=\"134\" x=\"179\" y=\"79\"/><rect fill=\"#F8F8F8\" height=\"37.9375\" style=\"stroke: #383838; stroke-width: 1.5;\" width=\"134\" x=\"179\" y=\"79\"/><text fill=\"#000000\" font-family=\"sans-serif\" font-size=\"12\" font-style=\"italic\" lengthAdjust=\"spacingAndGlyphs\" textLength=\"81\" x=\"205.5\" y=\"95.1387\">«action  def»</text><text fill=\"#000000\" font-family=\"sans-serif\" font-size=\"12\" lengthAdjust=\"spacingAndGlyphs\" textLength=\"27\" x=\"232.5\" y=\"109.1074\">setX</text></a><!--MD5=[b4997ac47864f28c2f74865a473b2911]\n",
       "class E2--><a href=\"psysml:a14c26f5-bb93-4792-a45e-179361bfe6e1\" target=\"_top\" title=\"psysml:a14c26f5-bb93-4792-a45e-179361bfe6e1\" xlink:actuate=\"onRequest\" xlink:href=\"psysml:a14c26f5-bb93-4792-a45e-179361bfe6e1\" xlink:show=\"new\" xlink:title=\"psysml:a14c26f5-bb93-4792-a45e-179361bfe6e1\" xlink:type=\"simple\"><rect fill=\"#FFFFFF\" height=\"75.5469\" id=\"E2\" style=\"stroke: #383838; stroke-width: 1.5;\" width=\"71\" x=\"58.5\" y=\"41\"/><text fill=\"#000000\" font-family=\"sans-serif\" font-size=\"12\" font-style=\"italic\" lengthAdjust=\"spacingAndGlyphs\" textLength=\"69\" x=\"59.5\" y=\"57.1387\">«item  def»</text><text fill=\"#000000\" font-family=\"sans-serif\" font-size=\"12\" lengthAdjust=\"spacingAndGlyphs\" textLength=\"8\" x=\"90\" y=\"71.1074\">C</text><line style=\"stroke: #383838; stroke-width: 1.5;\" x1=\"59.5\" x2=\"128.5\" y1=\"78.9375\" y2=\"78.9375\"/><text fill=\"#000000\" font-family=\"sans-serif\" font-size=\"11\" lengthAdjust=\"spacingAndGlyphs\" textLength=\"38\" x=\"64.5\" y=\"109.9526\">x: Real</text><line style=\"stroke: #383838; stroke-width: 1.0;\" x1=\"59.5\" x2=\"66.5\" y1=\"93.3398\" y2=\"93.3398\"/><text fill=\"#000000\" font-family=\"sans-serif\" font-size=\"11\" lengthAdjust=\"spacingAndGlyphs\" textLength=\"55\" x=\"66.5\" y=\"96.6479\">attributes</text><line style=\"stroke: #383838; stroke-width: 1.0;\" x1=\"121.5\" x2=\"128.5\" y1=\"93.3398\" y2=\"93.3398\"/></a><!--MD5=[09b614a08d8cba4a07c9adeb5e0fee81]\n",
       "class E3--><a href=\"psysml:b9ffc3c6-eeca-4712-be2d-56262eb1e98d\" target=\"_top\" title=\"psysml:b9ffc3c6-eeca-4712-be2d-56262eb1e98d\" xlink:actuate=\"onRequest\" xlink:href=\"psysml:b9ffc3c6-eeca-4712-be2d-56262eb1e98d\" xlink:show=\"new\" xlink:title=\"psysml:b9ffc3c6-eeca-4712-be2d-56262eb1e98d\" xlink:type=\"simple\"><rect fill=\"#FFFFFF\" height=\"45.9375\" id=\"E3\" rx=\"10\" ry=\"10\" style=\"stroke: #383838; stroke-width: 1.5;\" width=\"124\" x=\"32\" y=\"177\"/><text fill=\"#000000\" font-family=\"sans-serif\" font-size=\"12\" font-style=\"italic\" lengthAdjust=\"spacingAndGlyphs\" textLength=\"122\" x=\"33\" y=\"193.1387\">«assert constraint»</text><text fill=\"#000000\" font-family=\"sans-serif\" font-size=\"12\" lengthAdjust=\"spacingAndGlyphs\" textLength=\"76\" x=\"54\" y=\"207.1074\">x_constraint</text><line style=\"stroke: #383838; stroke-width: 1.5;\" x1=\"33\" x2=\"155\" y1=\"214.9375\" y2=\"214.9375\"/></a><text fill=\"#000000\" font-family=\"sans-serif\" font-size=\"14\" lengthAdjust=\"spacingAndGlyphs\" textLength=\"8\" x=\"193\" y=\"57.6982\">c</text><rect fill=\"#383838\" height=\"12\" style=\"stroke: #F8F8F8; stroke-width: 1.5;\" width=\"12\" x=\"191\" y=\"73\"/><text fill=\"#000000\" font-family=\"sans-serif\" font-size=\"14\" lengthAdjust=\"spacingAndGlyphs\" textLength=\"38\" x=\"225\" y=\"57.6982\">newX</text><rect fill=\"#383838\" height=\"12\" style=\"stroke: #F8F8F8; stroke-width: 1.5;\" width=\"12\" x=\"238\" y=\"73\"/><!--MD5=[209b3feb70ccb6233bfe1053d122c12c]\n",
       "reverse link E2 to E3--><a href=\"psysml:25bb36ff-df1f-4894-9e3f-bec813bc6d8c\" target=\"_top\" title=\"psysml:25bb36ff-df1f-4894-9e3f-bec813bc6d8c\" xlink:actuate=\"onRequest\" xlink:href=\"psysml:25bb36ff-df1f-4894-9e3f-bec813bc6d8c\" xlink:show=\"new\" xlink:title=\"psysml:25bb36ff-df1f-4894-9e3f-bec813bc6d8c\" xlink:type=\"simple\"><path d=\"M94,130.34 C94,146.61 94,163.81 94,176.93 \" fill=\"none\" id=\"E2&lt;-E3\" style=\"stroke: #383838; stroke-width: 1.0;\"/><polygon fill=\"#FFFFFF\" points=\"94,117,90,123,94,129,98,123,94,117\" style=\"stroke: #383838; stroke-width: 1.0;\"/><text fill=\"#000000\" font-family=\"sans-serif\" font-size=\"13\" lengthAdjust=\"spacingAndGlyphs\" textLength=\"7\" x=\"86.0594\" y=\"165.8075\">*</text></a><!--MD5=[01ea59e3afdfb598410709ca60793eae]\n",
       "@startuml\r\n",
       " skinparam monochrome true\r\n",
       "skinparam classbackgroundcolor white\r\n",
       "skinparam shadowing false\r\n",
       "skinparam wrapWidth 300\r\n",
       "hide circle\r\n",
       "\r\n",
       "package \"TextualRepresentationTest\" as E1  [[psysml:a059710d-e8aa-4b22-8023-1459b734d0f7 ]]  {\r\n",
       "comp def \"C\" as E2  <<(T,blue) item  def>> [[psysml:a14c26f5-bb93-4792-a45e-179361bfe6e1 ]] {\r\n",
       "- - attributes - -\r\n",
       "x: Real\r\n",
       "}\r\n",
       "comp usage \"x_constraint \" as E3  <<(T,blue) assert constraint>> [[psysml:b9ffc3c6-eeca-4712-be2d-56262eb1e98d ]] {\r\n",
       "}\r\n",
       "rec def \"setX\" as E4  <<(T,blue) action  def>> [[psysml:ee57fb5c-c168-4cf6-8494-2ae72f89f8ea ]] {\r\n",
       "portin \"c\" as E5  [[psysml:e345a4af-2fbe-4f5b-aa1f-c95f9761e116 ]] \r\n",
       "portin \"newX\" as E6  [[psysml:bef11b08-4405-4f10-b98d-dfe807135273 ]] \r\n",
       "}\r\n",
       "\r\n",
       "}\r\n",
       "E2 o- - \"*\"E3 [[psysml:25bb36ff-df1f-4894-9e3f-bec813bc6d8c ]] \r\n",
       "@enduml\r\n",
       "\n",
       "PlantUML version 1.2020.13(Sat Jun 13 12:26:38 UTC 2020)\n",
       "(EPL source distribution)\n",
       "Java Runtime: OpenJDK Runtime Environment\n",
       "JVM: OpenJDK 64-Bit Server VM\n",
       "Default Encoding: UTF-8\n",
       "Language: en\n",
       "Country: null\n",
       "--></g></svg>"
      ]
     },
     "execution_count": 2,
     "metadata": {},
     "output_type": "execute_result"
    }
   ],
   "source": [
    "%viz --style=\"COMPTREE\" --view=\"Default\" \"TextualRepresentationTest\""
   ]
  },
  {
   "cell_type": "code",
   "execution_count": 3,
   "id": "2b1a4823",
   "metadata": {
    "execution": {
     "iopub.execute_input": "2022-08-19T08:20:09.798485Z",
     "iopub.status.busy": "2022-08-19T08:20:09.797965Z",
     "iopub.status.idle": "2022-08-19T08:20:09.870112Z",
     "shell.execute_reply": "2022-08-19T08:20:09.870454Z"
    }
   },
   "outputs": [
    {
     "data": {
      "image/svg+xml": [
       "<?xml version=\"1.0\" encoding=\"UTF-8\" standalone=\"no\"?><svg xmlns=\"http://www.w3.org/2000/svg\" xmlns:xlink=\"http://www.w3.org/1999/xlink\" contentScriptType=\"application/ecmascript\" contentStyleType=\"text/css\" height=\"375px\" preserveAspectRatio=\"none\" style=\"width:242px;height:375px;\" version=\"1.1\" viewBox=\"0 0 242 375\" width=\"242px\" zoomAndPan=\"magnify\"><defs/><g><!--MD5=[fbc87193dbaf4d95561dea2c320d4a47]\n",
       "cluster E1--><a href=\"psysml:a059710d-e8aa-4b22-8023-1459b734d0f7\" target=\"_top\" title=\"psysml:a059710d-e8aa-4b22-8023-1459b734d0f7\" xlink:actuate=\"onRequest\" xlink:href=\"psysml:a059710d-e8aa-4b22-8023-1459b734d0f7\" xlink:show=\"new\" xlink:title=\"psysml:a059710d-e8aa-4b22-8023-1459b734d0f7\" xlink:type=\"simple\"><polygon fill=\"#FFFFFF\" points=\"16,6,210,6,217,28.2969,220,28.2969,220,363,16,363,16,6\" style=\"stroke: #000000; stroke-width: 1.5;\"/><line style=\"stroke: #000000; stroke-width: 1.5;\" x1=\"16\" x2=\"217\" y1=\"28.2969\" y2=\"28.2969\"/><text fill=\"#000000\" font-family=\"sans-serif\" font-size=\"14\" font-weight=\"bold\" lengthAdjust=\"spacingAndGlyphs\" textLength=\"188\" x=\"20\" y=\"20.9951\">TextualRepresentationTest</text></a><!--MD5=[b4997ac47864f28c2f74865a473b2911]\n",
       "class E2--><a href=\"psysml:a14c26f5-bb93-4792-a45e-179361bfe6e1\" target=\"_top\" title=\"psysml:a14c26f5-bb93-4792-a45e-179361bfe6e1\" xlink:actuate=\"onRequest\" xlink:href=\"psysml:a14c26f5-bb93-4792-a45e-179361bfe6e1\" xlink:show=\"new\" xlink:title=\"psysml:a14c26f5-bb93-4792-a45e-179361bfe6e1\" xlink:type=\"simple\"><rect fill=\"#FFFFFF\" height=\"75.5469\" id=\"E2\" style=\"stroke: #383838; stroke-width: 1.5;\" width=\"71\" x=\"82.5\" y=\"164\"/><text fill=\"#000000\" font-family=\"sans-serif\" font-size=\"12\" font-style=\"italic\" lengthAdjust=\"spacingAndGlyphs\" textLength=\"69\" x=\"83.5\" y=\"180.1387\">«item  def»</text><text fill=\"#000000\" font-family=\"sans-serif\" font-size=\"12\" lengthAdjust=\"spacingAndGlyphs\" textLength=\"8\" x=\"114\" y=\"194.1074\">C</text><line style=\"stroke: #383838; stroke-width: 1.5;\" x1=\"83.5\" x2=\"152.5\" y1=\"201.9375\" y2=\"201.9375\"/><text fill=\"#000000\" font-family=\"sans-serif\" font-size=\"11\" lengthAdjust=\"spacingAndGlyphs\" textLength=\"38\" x=\"88.5\" y=\"232.9526\">x: Real</text><line style=\"stroke: #383838; stroke-width: 1.0;\" x1=\"83.5\" x2=\"90.5\" y1=\"216.3398\" y2=\"216.3398\"/><text fill=\"#000000\" font-family=\"sans-serif\" font-size=\"11\" lengthAdjust=\"spacingAndGlyphs\" textLength=\"55\" x=\"90.5\" y=\"219.6479\">attributes</text><line style=\"stroke: #383838; stroke-width: 1.0;\" x1=\"145.5\" x2=\"152.5\" y1=\"216.3398\" y2=\"216.3398\"/></a><!--MD5=[09b614a08d8cba4a07c9adeb5e0fee81]\n",
       "class E3--><a href=\"psysml:b9ffc3c6-eeca-4712-be2d-56262eb1e98d\" target=\"_top\" title=\"psysml:b9ffc3c6-eeca-4712-be2d-56262eb1e98d\" xlink:actuate=\"onRequest\" xlink:href=\"psysml:b9ffc3c6-eeca-4712-be2d-56262eb1e98d\" xlink:show=\"new\" xlink:title=\"psysml:b9ffc3c6-eeca-4712-be2d-56262eb1e98d\" xlink:type=\"simple\"><rect fill=\"#FFFFFF\" height=\"45.9375\" id=\"E3\" rx=\"10\" ry=\"10\" style=\"stroke: #383838; stroke-width: 1.5;\" width=\"124\" x=\"56\" y=\"301\"/><text fill=\"#000000\" font-family=\"sans-serif\" font-size=\"12\" font-style=\"italic\" lengthAdjust=\"spacingAndGlyphs\" textLength=\"122\" x=\"57\" y=\"317.1387\">«assert constraint»</text><text fill=\"#000000\" font-family=\"sans-serif\" font-size=\"12\" lengthAdjust=\"spacingAndGlyphs\" textLength=\"76\" x=\"78\" y=\"331.1074\">x_constraint</text><line style=\"stroke: #383838; stroke-width: 1.5;\" x1=\"57\" x2=\"179\" y1=\"338.9375\" y2=\"338.9375\"/></a><!--MD5=[ebbe1d658d1005bcc118a6aa81145e00]\n",
       "class E4--><a href=\"psysml:ee57fb5c-c168-4cf6-8494-2ae72f89f8ea\" target=\"_top\" title=\"psysml:ee57fb5c-c168-4cf6-8494-2ae72f89f8ea\" xlink:actuate=\"onRequest\" xlink:href=\"psysml:ee57fb5c-c168-4cf6-8494-2ae72f89f8ea\" xlink:show=\"new\" xlink:title=\"psysml:ee57fb5c-c168-4cf6-8494-2ae72f89f8ea\" xlink:type=\"simple\"><rect fill=\"#FFFFFF\" height=\"45.9375\" id=\"E4\" style=\"stroke: #383838; stroke-width: 1.5;\" width=\"83\" x=\"76.5\" y=\"41\"/><text fill=\"#000000\" font-family=\"sans-serif\" font-size=\"12\" font-style=\"italic\" lengthAdjust=\"spacingAndGlyphs\" textLength=\"81\" x=\"77.5\" y=\"57.1387\">«action  def»</text><text fill=\"#000000\" font-family=\"sans-serif\" font-size=\"12\" lengthAdjust=\"spacingAndGlyphs\" textLength=\"27\" x=\"104.5\" y=\"71.1074\">setX</text><line style=\"stroke: #383838; stroke-width: 1.5;\" x1=\"77.5\" x2=\"158.5\" y1=\"78.9375\" y2=\"78.9375\"/></a><!--MD5=[209b3feb70ccb6233bfe1053d122c12c]\n",
       "reverse link E2 to E3--><a href=\"psysml:25bb36ff-df1f-4894-9e3f-bec813bc6d8c\" target=\"_top\" title=\"psysml:25bb36ff-df1f-4894-9e3f-bec813bc6d8c\" xlink:actuate=\"onRequest\" xlink:href=\"psysml:25bb36ff-df1f-4894-9e3f-bec813bc6d8c\" xlink:show=\"new\" xlink:title=\"psysml:25bb36ff-df1f-4894-9e3f-bec813bc6d8c\" xlink:type=\"simple\"><path d=\"M118,253.76 C118,270.17 118,287.52 118,300.75 \" fill=\"none\" id=\"E2&lt;-E3\" style=\"stroke: #383838; stroke-width: 1.0;\"/><polygon fill=\"#FFFFFF\" points=\"118,240.31,114,246.31,118,252.31,122,246.31,118,240.31\" style=\"stroke: #383838; stroke-width: 1.0;\"/><text fill=\"#000000\" font-family=\"sans-serif\" font-size=\"13\" lengthAdjust=\"spacingAndGlyphs\" textLength=\"7\" x=\"110.1031\" y=\"289.9622\">*</text></a><!--MD5=[ddeed8deb2209213b62e6cfabaa108b2]\n",
       "reverse link E4 to E2--><a href=\"psysml:e345a4af-2fbe-4f5b-aa1f-c95f9761e116\" target=\"_top\" title=\"psysml:e345a4af-2fbe-4f5b-aa1f-c95f9761e116\" xlink:actuate=\"onRequest\" xlink:href=\"psysml:e345a4af-2fbe-4f5b-aa1f-c95f9761e116\" xlink:show=\"new\" xlink:title=\"psysml:e345a4af-2fbe-4f5b-aa1f-c95f9761e116\" xlink:type=\"simple\"><path d=\"M118,100.42 C118,119.95 118,144.19 118,163.97 \" fill=\"none\" id=\"E4&lt;-E2\" style=\"stroke: #383838; stroke-width: 1.0;\"/><polygon fill=\"#FFFFFF\" points=\"118,87.15,114,93.15,118,99.15,122,93.15,118,87.15\" style=\"stroke: #383838; stroke-width: 1.0;\"/><text fill=\"#000000\" font-family=\"sans-serif\" font-size=\"13\" lengthAdjust=\"spacingAndGlyphs\" textLength=\"7\" x=\"119\" y=\"130.0669\">c</text></a><!--MD5=[5b70d3b0b0d930b7b5462b7fa88e6e07]\n",
       "@startuml\r\n",
       " skinparam monochrome true\r\n",
       "skinparam classbackgroundcolor white\r\n",
       "skinparam shadowing false\r\n",
       "skinparam wrapWidth 300\r\n",
       "hide circle\r\n",
       "\r\n",
       "package \"TextualRepresentationTest\" as E1  [[psysml:a059710d-e8aa-4b22-8023-1459b734d0f7 ]]  {\r\n",
       "comp def \"C\" as E2  <<(T,blue) item  def>> [[psysml:a14c26f5-bb93-4792-a45e-179361bfe6e1 ]] {\r\n",
       "- - attributes - -\r\n",
       "x: Real\r\n",
       "}\r\n",
       "comp usage \"x_constraint \" as E3  <<(T,blue) assert constraint>> [[psysml:b9ffc3c6-eeca-4712-be2d-56262eb1e98d ]] {\r\n",
       "}\r\n",
       "comp def \"setX\" as E4  <<(T,blue) action  def>> [[psysml:ee57fb5c-c168-4cf6-8494-2ae72f89f8ea ]] {\r\n",
       "}\r\n",
       "}\r\n",
       "E2 o- - \"*\"E3 [[psysml:25bb36ff-df1f-4894-9e3f-bec813bc6d8c ]] \r\n",
       "E4 o- - E2 [[psysml:e345a4af-2fbe-4f5b-aa1f-c95f9761e116 ]] : c\r\n",
       "@enduml\r\n",
       "\n",
       "PlantUML version 1.2020.13(Sat Jun 13 12:26:38 UTC 2020)\n",
       "(EPL source distribution)\n",
       "Java Runtime: OpenJDK Runtime Environment\n",
       "JVM: OpenJDK 64-Bit Server VM\n",
       "Default Encoding: UTF-8\n",
       "Language: en\n",
       "Country: null\n",
       "--></g></svg>"
      ]
     },
     "execution_count": 3,
     "metadata": {},
     "output_type": "execute_result"
    }
   ],
   "source": [
    "%viz --style=\"COMPTREE\" --view=\"Tree\" \"TextualRepresentationTest\""
   ]
  },
  {
   "cell_type": "code",
   "execution_count": 4,
   "id": "64962818",
   "metadata": {
    "execution": {
     "iopub.execute_input": "2022-08-19T08:20:09.921209Z",
     "iopub.status.busy": "2022-08-19T08:20:09.920654Z",
     "iopub.status.idle": "2022-08-19T08:20:09.930786Z",
     "shell.execute_reply": "2022-08-19T08:20:09.931113Z"
    }
   },
   "outputs": [
    {
     "data": {
      "image/svg+xml": [
       "<?xml version=\"1.0\" encoding=\"UTF-8\" standalone=\"no\"?><svg xmlns=\"http://www.w3.org/2000/svg\" xmlns:xlink=\"http://www.w3.org/1999/xlink\" contentScriptType=\"application/ecmascript\" contentStyleType=\"text/css\" height=\"12px\" preserveAspectRatio=\"none\" style=\"width:12px;height:12px;\" version=\"1.1\" viewBox=\"0 0 12 12\" width=\"12px\" zoomAndPan=\"magnify\"><defs/><g><!--MD5=[f19188ef49e11757b5c46753f95d9edc]\n",
       "@startuml\r\n",
       " skinparam monochrome true\r\n",
       "skinparam classbackgroundcolor white\r\n",
       "skinparam shadowing false\r\n",
       "skinparam wrapWidth 300\r\n",
       "hide circle\r\n",
       "\r\n",
       "@enduml\r\n",
       "\n",
       "PlantUML version 1.2020.13(Sat Jun 13 12:26:38 UTC 2020)\n",
       "(EPL source distribution)\n",
       "Java Runtime: OpenJDK Runtime Environment\n",
       "JVM: OpenJDK 64-Bit Server VM\n",
       "Default Encoding: UTF-8\n",
       "Language: en\n",
       "Country: null\n",
       "--></g></svg>"
      ]
     },
     "execution_count": 4,
     "metadata": {},
     "output_type": "execute_result"
    }
   ],
   "source": [
    "%viz --style=\"COMPTREE\" --view=\"State\" \"TextualRepresentationTest\""
   ]
  },
  {
   "cell_type": "code",
   "execution_count": 5,
   "id": "0c1f91b0",
   "metadata": {
    "execution": {
     "iopub.execute_input": "2022-08-19T08:20:09.981639Z",
     "iopub.status.busy": "2022-08-19T08:20:09.981153Z",
     "iopub.status.idle": "2022-08-19T08:20:10.024300Z",
     "shell.execute_reply": "2022-08-19T08:20:10.024675Z"
    }
   },
   "outputs": [
    {
     "data": {
      "image/svg+xml": [
       "<?xml version=\"1.0\" encoding=\"UTF-8\" standalone=\"no\"?><svg xmlns=\"http://www.w3.org/2000/svg\" xmlns:xlink=\"http://www.w3.org/1999/xlink\" contentScriptType=\"application/ecmascript\" contentStyleType=\"text/css\" height=\"179px\" preserveAspectRatio=\"none\" style=\"width:292px;height:179px;\" version=\"1.1\" viewBox=\"0 0 292 179\" width=\"292px\" zoomAndPan=\"magnify\"><defs/><g><!--MD5=[fbc87193dbaf4d95561dea2c320d4a47]\n",
       "cluster E1--><a href=\"psysml:a059710d-e8aa-4b22-8023-1459b734d0f7\" target=\"_top\" title=\"psysml:a059710d-e8aa-4b22-8023-1459b734d0f7\" xlink:actuate=\"onRequest\" xlink:href=\"psysml:a059710d-e8aa-4b22-8023-1459b734d0f7\" xlink:show=\"new\" xlink:title=\"psysml:a059710d-e8aa-4b22-8023-1459b734d0f7\" xlink:type=\"simple\"><polygon fill=\"#FFFFFF\" points=\"16,6,210,6,217,28.2969,270,28.2969,270,167,16,167,16,6\" style=\"stroke: #000000; stroke-width: 1.5;\"/><line style=\"stroke: #000000; stroke-width: 1.5;\" x1=\"16\" x2=\"217\" y1=\"28.2969\" y2=\"28.2969\"/><text fill=\"#000000\" font-family=\"sans-serif\" font-size=\"14\" font-weight=\"bold\" lengthAdjust=\"spacingAndGlyphs\" textLength=\"188\" x=\"20\" y=\"20.9951\">TextualRepresentationTest</text></a><!--MD5=[d5e69f78d87373223dbae638b30a9c99]\n",
       "cluster E3--><a href=\"psysml:ee57fb5c-c168-4cf6-8494-2ae72f89f8ea\" target=\"_top\" title=\"psysml:ee57fb5c-c168-4cf6-8494-2ae72f89f8ea\" xlink:actuate=\"onRequest\" xlink:href=\"psysml:ee57fb5c-c168-4cf6-8494-2ae72f89f8ea\" xlink:show=\"new\" xlink:title=\"psysml:ee57fb5c-c168-4cf6-8494-2ae72f89f8ea\" xlink:type=\"simple\"><rect fill=\"#FFFFFF\" height=\"88.5\" id=\"E3\" style=\"stroke: #383838; stroke-width: 1.5;\" width=\"100\" x=\"122.5\" y=\"62.5\"/><rect fill=\"#F8F8F8\" height=\"37.9375\" style=\"stroke: #383838; stroke-width: 1.5;\" width=\"100\" x=\"122.5\" y=\"62.5\"/><text fill=\"#000000\" font-family=\"sans-serif\" font-size=\"12\" font-style=\"italic\" lengthAdjust=\"spacingAndGlyphs\" textLength=\"81\" x=\"132\" y=\"78.6387\">«action  def»</text><text fill=\"#000000\" font-family=\"sans-serif\" font-size=\"12\" lengthAdjust=\"spacingAndGlyphs\" textLength=\"27\" x=\"159\" y=\"92.6074\">setX</text></a><g id=\"E1.E2\"><a href=\"psysml:a14c26f5-bb93-4792-a45e-179361bfe6e1\" target=\"_top\" title=\"psysml:a14c26f5-bb93-4792-a45e-179361bfe6e1\" xlink:actuate=\"onRequest\" xlink:href=\"psysml:a14c26f5-bb93-4792-a45e-179361bfe6e1\" xlink:show=\"new\" xlink:title=\"psysml:a14c26f5-bb93-4792-a45e-179361bfe6e1\" xlink:type=\"simple\"><rect fill=\"#FFFFFF\" height=\"42.9375\" id=\"E2\" style=\"stroke: #383838; stroke-width: 1.5;\" width=\"76\" x=\"32\" y=\"41\"/><rect fill=\"#F8F8F8\" height=\"37.9375\" style=\"stroke: #383838; stroke-width: 1.5;\" width=\"76\" x=\"32\" y=\"41\"/><text fill=\"#000000\" font-family=\"sans-serif\" font-size=\"12\" font-style=\"italic\" lengthAdjust=\"spacingAndGlyphs\" textLength=\"69\" x=\"35.5\" y=\"57.1387\">«item  def»</text><text fill=\"#000000\" font-family=\"sans-serif\" font-size=\"12\" lengthAdjust=\"spacingAndGlyphs\" textLength=\"8\" x=\"66\" y=\"71.1074\">C</text></a></g><text fill=\"#000000\" font-family=\"sans-serif\" font-size=\"14\" lengthAdjust=\"spacingAndGlyphs\" textLength=\"8\" x=\"145\" y=\"41.1982\">c</text><rect fill=\"#383838\" height=\"12\" style=\"stroke: #F8F8F8; stroke-width: 1.5;\" width=\"12\" x=\"143\" y=\"56.5\"/><text fill=\"#000000\" font-family=\"sans-serif\" font-size=\"14\" lengthAdjust=\"spacingAndGlyphs\" textLength=\"38\" x=\"177\" y=\"41.1982\">newX</text><rect fill=\"#383838\" height=\"12\" style=\"stroke: #F8F8F8; stroke-width: 1.5;\" width=\"12\" x=\"190\" y=\"56.5\"/><!--MD5=[52cdab41fb24d2997722f3502e6fa357]\n",
       "@startuml\r\n",
       "skinparam ranksep 10\r\n",
       "skinparam rectangle {\r\n",
       " backgroundColor<<block>> LightGreen\r\n",
       "}\r\n",
       " skinparam monochrome true\r\n",
       "skinparam classbackgroundcolor white\r\n",
       "skinparam shadowing false\r\n",
       "skinparam wrapWidth 300\r\n",
       "hide circle\r\n",
       "\r\n",
       "package \"TextualRepresentationTest\" as E1  [[psysml:a059710d-e8aa-4b22-8023-1459b734d0f7 ]]  {\r\n",
       "def \"C\" as E2  <<(T,blue) item  def>> [[psysml:a14c26f5-bb93-4792-a45e-179361bfe6e1 ]] \r\n",
       "rec def \"setX\" as E3  <<(T,blue) action  def>> [[psysml:ee57fb5c-c168-4cf6-8494-2ae72f89f8ea ]] {\r\n",
       "portin \"c\" as E4  [[psysml:e345a4af-2fbe-4f5b-aa1f-c95f9761e116 ]] \r\n",
       "portin \"newX\" as E5  [[psysml:bef11b08-4405-4f10-b98d-dfe807135273 ]] \r\n",
       "}\r\n",
       "\r\n",
       "}\r\n",
       "@enduml\r\n",
       "\n",
       "PlantUML version 1.2020.13(Sat Jun 13 12:26:38 UTC 2020)\n",
       "(EPL source distribution)\n",
       "Java Runtime: OpenJDK Runtime Environment\n",
       "JVM: OpenJDK 64-Bit Server VM\n",
       "Default Encoding: UTF-8\n",
       "Language: en\n",
       "Country: null\n",
       "--></g></svg>"
      ]
     },
     "execution_count": 5,
     "metadata": {},
     "output_type": "execute_result"
    }
   ],
   "source": [
    "%viz --style=\"COMPTREE\" --view=\"Interconnection\" \"TextualRepresentationTest\""
   ]
  },
  {
   "cell_type": "code",
   "execution_count": 6,
   "id": "8e4f3703",
   "metadata": {
    "execution": {
     "iopub.execute_input": "2022-08-19T08:20:10.074937Z",
     "iopub.status.busy": "2022-08-19T08:20:10.074404Z",
     "iopub.status.idle": "2022-08-19T08:20:10.105427Z",
     "shell.execute_reply": "2022-08-19T08:20:10.105805Z"
    }
   },
   "outputs": [
    {
     "data": {
      "image/svg+xml": [
       "<?xml version=\"1.0\" encoding=\"UTF-8\" standalone=\"no\"?><svg xmlns=\"http://www.w3.org/2000/svg\" xmlns:xlink=\"http://www.w3.org/1999/xlink\" contentScriptType=\"application/ecmascript\" contentStyleType=\"text/css\" height=\"126px\" preserveAspectRatio=\"none\" style=\"width:152px;height:126px;\" version=\"1.1\" viewBox=\"0 0 152 126\" width=\"152px\" zoomAndPan=\"magnify\"><defs/><g><!--MD5=[fbc87193dbaf4d95561dea2c320d4a47]\n",
       "cluster E1--><a href=\"psysml:ee57fb5c-c168-4cf6-8494-2ae72f89f8ea\" target=\"_top\" title=\"psysml:ee57fb5c-c168-4cf6-8494-2ae72f89f8ea\" xlink:actuate=\"onRequest\" xlink:href=\"psysml:ee57fb5c-c168-4cf6-8494-2ae72f89f8ea\" xlink:show=\"new\" xlink:title=\"psysml:ee57fb5c-c168-4cf6-8494-2ae72f89f8ea\" xlink:type=\"simple\"><rect fill=\"#FFFFFF\" height=\"73\" id=\"E1\" style=\"stroke: #383838; stroke-width: 1.5;\" width=\"134\" x=\"7\" y=\"42.0986\"/><rect fill=\"#F8F8F8\" height=\"37.9375\" style=\"stroke: #383838; stroke-width: 1.5;\" width=\"134\" x=\"7\" y=\"42.0986\"/><text fill=\"#000000\" font-family=\"sans-serif\" font-size=\"12\" font-style=\"italic\" lengthAdjust=\"spacingAndGlyphs\" textLength=\"81\" x=\"33.5\" y=\"58.2373\">«action  def»</text><text fill=\"#000000\" font-family=\"sans-serif\" font-size=\"12\" lengthAdjust=\"spacingAndGlyphs\" textLength=\"27\" x=\"60.5\" y=\"72.2061\">setX</text></a><text fill=\"#000000\" font-family=\"sans-serif\" font-size=\"14\" lengthAdjust=\"spacingAndGlyphs\" textLength=\"8\" x=\"21\" y=\"20.7969\">c</text><rect fill=\"#383838\" height=\"12\" style=\"stroke: #F8F8F8; stroke-width: 1.5;\" width=\"12\" x=\"19\" y=\"36.0986\"/><text fill=\"#000000\" font-family=\"sans-serif\" font-size=\"14\" lengthAdjust=\"spacingAndGlyphs\" textLength=\"38\" x=\"53\" y=\"20.7969\">newX</text><rect fill=\"#383838\" height=\"12\" style=\"stroke: #F8F8F8; stroke-width: 1.5;\" width=\"12\" x=\"66\" y=\"36.0986\"/><!--MD5=[901b1295b0fb7491f348bec950b3f75d]\n",
       "@startuml\r\n",
       "skinparam ranksep 8\r\n",
       " skinparam monochrome true\r\n",
       "skinparam classbackgroundcolor white\r\n",
       "skinparam shadowing false\r\n",
       "skinparam wrapWidth 300\r\n",
       "hide circle\r\n",
       "\r\n",
       "rec def \"setX\" as E1  <<(T,blue) action  def>> [[psysml:ee57fb5c-c168-4cf6-8494-2ae72f89f8ea ]] {\r\n",
       "portin \"c\" as E2  [[psysml:e345a4af-2fbe-4f5b-aa1f-c95f9761e116 ]] \r\n",
       "portin \"newX\" as E3  [[psysml:bef11b08-4405-4f10-b98d-dfe807135273 ]] \r\n",
       "}\r\n",
       "\r\n",
       "@enduml\r\n",
       "\n",
       "PlantUML version 1.2020.13(Sat Jun 13 12:26:38 UTC 2020)\n",
       "(EPL source distribution)\n",
       "Java Runtime: OpenJDK Runtime Environment\n",
       "JVM: OpenJDK 64-Bit Server VM\n",
       "Default Encoding: UTF-8\n",
       "Language: en\n",
       "Country: null\n",
       "--></g></svg>"
      ]
     },
     "execution_count": 6,
     "metadata": {},
     "output_type": "execute_result"
    }
   ],
   "source": [
    "%viz --style=\"COMPTREE\" --view=\"Action\" \"TextualRepresentationTest\""
   ]
  },
  {
   "cell_type": "code",
   "execution_count": 7,
   "id": "ca84ff19",
   "metadata": {
    "execution": {
     "iopub.execute_input": "2022-08-19T08:20:10.155931Z",
     "iopub.status.busy": "2022-08-19T08:20:10.155425Z",
     "iopub.status.idle": "2022-08-19T08:20:10.169269Z",
     "shell.execute_reply": "2022-08-19T08:20:10.168670Z"
    }
   },
   "outputs": [
    {
     "data": {
      "image/svg+xml": [
       "<?xml version=\"1.0\" encoding=\"UTF-8\" standalone=\"no\"?><svg xmlns=\"http://www.w3.org/2000/svg\" xmlns:xlink=\"http://www.w3.org/1999/xlink\" contentScriptType=\"application/ecmascript\" contentStyleType=\"text/css\" height=\"12px\" preserveAspectRatio=\"none\" style=\"width:12px;height:12px;\" version=\"1.1\" viewBox=\"0 0 12 12\" width=\"12px\" zoomAndPan=\"magnify\"><defs/><g><!--MD5=[803fc46c337be7a5c8a9831e35356779]\n",
       "@startuml\r\n",
       "skinparam roundcorner 20\r\n",
       "skinparam BoxPadding 20\r\n",
       "skinparam SequenceBoxBackgroundColor #white\r\n",
       "skinparam style strictuml\r\n",
       "skinparam maxMessageSize 100\r\n",
       " skinparam monochrome true\r\n",
       "skinparam classbackgroundcolor white\r\n",
       "skinparam shadowing false\r\n",
       "skinparam wrapWidth 300\r\n",
       "hide circle\r\n",
       "\r\n",
       "@enduml\r\n",
       "\n",
       "PlantUML version 1.2020.13(Sat Jun 13 12:26:38 UTC 2020)\n",
       "(EPL source distribution)\n",
       "Java Runtime: OpenJDK Runtime Environment\n",
       "JVM: OpenJDK 64-Bit Server VM\n",
       "Default Encoding: UTF-8\n",
       "Language: en\n",
       "Country: null\n",
       "--></g></svg>"
      ]
     },
     "execution_count": 7,
     "metadata": {},
     "output_type": "execute_result"
    }
   ],
   "source": [
    "%viz --style=\"COMPTREE\" --view=\"Sequence\" \"TextualRepresentationTest\""
   ]
  },
  {
   "cell_type": "code",
   "execution_count": 8,
   "id": "f5f5b12d",
   "metadata": {
    "execution": {
     "iopub.execute_input": "2022-08-19T08:20:10.219274Z",
     "iopub.status.busy": "2022-08-19T08:20:10.218615Z",
     "iopub.status.idle": "2022-08-19T08:20:10.274816Z",
     "shell.execute_reply": "2022-08-19T08:20:10.274509Z"
    }
   },
   "outputs": [
    {
     "data": {
      "image/svg+xml": [
       "<?xml version=\"1.0\" encoding=\"UTF-8\" standalone=\"no\"?><svg xmlns=\"http://www.w3.org/2000/svg\" xmlns:xlink=\"http://www.w3.org/1999/xlink\" contentScriptType=\"application/ecmascript\" contentStyleType=\"text/css\" height=\"261px\" preserveAspectRatio=\"none\" style=\"width:351px;height:261px;\" version=\"1.1\" viewBox=\"0 0 351 261\" width=\"351px\" zoomAndPan=\"magnify\"><defs/><g><!--MD5=[fbc87193dbaf4d95561dea2c320d4a47]\n",
       "cluster E1--><a href=\"psysml:a059710d-e8aa-4b22-8023-1459b734d0f7\" target=\"_top\" title=\"psysml:a059710d-e8aa-4b22-8023-1459b734d0f7\" xlink:actuate=\"onRequest\" xlink:href=\"psysml:a059710d-e8aa-4b22-8023-1459b734d0f7\" xlink:show=\"new\" xlink:title=\"psysml:a059710d-e8aa-4b22-8023-1459b734d0f7\" xlink:type=\"simple\"><polygon fill=\"#FFFFFF\" points=\"16,6,210,6,217,28.2969,329,28.2969,329,249.5,16,249.5,16,6\" style=\"stroke: #000000; stroke-width: 1.5;\"/><line style=\"stroke: #000000; stroke-width: 1.5;\" x1=\"16\" x2=\"217\" y1=\"28.2969\" y2=\"28.2969\"/><text fill=\"#000000\" font-family=\"sans-serif\" font-size=\"14\" font-weight=\"bold\" lengthAdjust=\"spacingAndGlyphs\" textLength=\"188\" x=\"20\" y=\"20.9951\">TextualRepresentationTest</text></a><!--MD5=[f6df4d0ebaf0b5dfb2ced0ae5af7c670]\n",
       "cluster E4--><a href=\"psysml:ee57fb5c-c168-4cf6-8494-2ae72f89f8ea\" target=\"_top\" title=\"psysml:ee57fb5c-c168-4cf6-8494-2ae72f89f8ea\" xlink:actuate=\"onRequest\" xlink:href=\"psysml:ee57fb5c-c168-4cf6-8494-2ae72f89f8ea\" xlink:show=\"new\" xlink:title=\"psysml:ee57fb5c-c168-4cf6-8494-2ae72f89f8ea\" xlink:type=\"simple\"><rect fill=\"#FFFFFF\" height=\"154.5\" id=\"E4\" style=\"stroke: #383838; stroke-width: 1.5;\" width=\"134\" x=\"179\" y=\"79\"/><rect fill=\"#F8F8F8\" height=\"37.9375\" style=\"stroke: #383838; stroke-width: 1.5;\" width=\"134\" x=\"179\" y=\"79\"/><text fill=\"#000000\" font-family=\"sans-serif\" font-size=\"12\" font-style=\"italic\" lengthAdjust=\"spacingAndGlyphs\" textLength=\"81\" x=\"205.5\" y=\"95.1387\">«action  def»</text><text fill=\"#000000\" font-family=\"sans-serif\" font-size=\"12\" lengthAdjust=\"spacingAndGlyphs\" textLength=\"27\" x=\"232.5\" y=\"109.1074\">setX</text></a><!--MD5=[b4997ac47864f28c2f74865a473b2911]\n",
       "class E2--><a href=\"psysml:a14c26f5-bb93-4792-a45e-179361bfe6e1\" target=\"_top\" title=\"psysml:a14c26f5-bb93-4792-a45e-179361bfe6e1\" xlink:actuate=\"onRequest\" xlink:href=\"psysml:a14c26f5-bb93-4792-a45e-179361bfe6e1\" xlink:show=\"new\" xlink:title=\"psysml:a14c26f5-bb93-4792-a45e-179361bfe6e1\" xlink:type=\"simple\"><rect fill=\"#FFFFFF\" height=\"75.5469\" id=\"E2\" style=\"stroke: #383838; stroke-width: 1.5;\" width=\"71\" x=\"58.5\" y=\"41\"/><text fill=\"#000000\" font-family=\"sans-serif\" font-size=\"12\" font-style=\"italic\" lengthAdjust=\"spacingAndGlyphs\" textLength=\"69\" x=\"59.5\" y=\"57.1387\">«item  def»</text><text fill=\"#000000\" font-family=\"sans-serif\" font-size=\"12\" lengthAdjust=\"spacingAndGlyphs\" textLength=\"8\" x=\"90\" y=\"71.1074\">C</text><line style=\"stroke: #383838; stroke-width: 1.5;\" x1=\"59.5\" x2=\"128.5\" y1=\"78.9375\" y2=\"78.9375\"/><text fill=\"#000000\" font-family=\"sans-serif\" font-size=\"11\" lengthAdjust=\"spacingAndGlyphs\" textLength=\"38\" x=\"64.5\" y=\"109.9526\">x: Real</text><line style=\"stroke: #383838; stroke-width: 1.0;\" x1=\"59.5\" x2=\"66.5\" y1=\"93.3398\" y2=\"93.3398\"/><text fill=\"#000000\" font-family=\"sans-serif\" font-size=\"11\" lengthAdjust=\"spacingAndGlyphs\" textLength=\"55\" x=\"66.5\" y=\"96.6479\">attributes</text><line style=\"stroke: #383838; stroke-width: 1.0;\" x1=\"121.5\" x2=\"128.5\" y1=\"93.3398\" y2=\"93.3398\"/></a><!--MD5=[09b614a08d8cba4a07c9adeb5e0fee81]\n",
       "class E3--><a href=\"psysml:b9ffc3c6-eeca-4712-be2d-56262eb1e98d\" target=\"_top\" title=\"psysml:b9ffc3c6-eeca-4712-be2d-56262eb1e98d\" xlink:actuate=\"onRequest\" xlink:href=\"psysml:b9ffc3c6-eeca-4712-be2d-56262eb1e98d\" xlink:show=\"new\" xlink:title=\"psysml:b9ffc3c6-eeca-4712-be2d-56262eb1e98d\" xlink:type=\"simple\"><rect fill=\"#FFFFFF\" height=\"45.9375\" id=\"E3\" rx=\"10\" ry=\"10\" style=\"stroke: #383838; stroke-width: 1.5;\" width=\"124\" x=\"32\" y=\"177\"/><text fill=\"#000000\" font-family=\"sans-serif\" font-size=\"12\" font-style=\"italic\" lengthAdjust=\"spacingAndGlyphs\" textLength=\"122\" x=\"33\" y=\"193.1387\">«assert constraint»</text><text fill=\"#000000\" font-family=\"sans-serif\" font-size=\"12\" lengthAdjust=\"spacingAndGlyphs\" textLength=\"76\" x=\"54\" y=\"207.1074\">x_constraint</text><line style=\"stroke: #383838; stroke-width: 1.5;\" x1=\"33\" x2=\"155\" y1=\"214.9375\" y2=\"214.9375\"/></a><text fill=\"#000000\" font-family=\"sans-serif\" font-size=\"14\" lengthAdjust=\"spacingAndGlyphs\" textLength=\"8\" x=\"193\" y=\"57.6982\">c</text><rect fill=\"#383838\" height=\"12\" style=\"stroke: #F8F8F8; stroke-width: 1.5;\" width=\"12\" x=\"191\" y=\"73\"/><text fill=\"#000000\" font-family=\"sans-serif\" font-size=\"14\" lengthAdjust=\"spacingAndGlyphs\" textLength=\"38\" x=\"225\" y=\"57.6982\">newX</text><rect fill=\"#383838\" height=\"12\" style=\"stroke: #F8F8F8; stroke-width: 1.5;\" width=\"12\" x=\"238\" y=\"73\"/><!--MD5=[209b3feb70ccb6233bfe1053d122c12c]\n",
       "reverse link E2 to E3--><a href=\"psysml:25bb36ff-df1f-4894-9e3f-bec813bc6d8c\" target=\"_top\" title=\"psysml:25bb36ff-df1f-4894-9e3f-bec813bc6d8c\" xlink:actuate=\"onRequest\" xlink:href=\"psysml:25bb36ff-df1f-4894-9e3f-bec813bc6d8c\" xlink:show=\"new\" xlink:title=\"psysml:25bb36ff-df1f-4894-9e3f-bec813bc6d8c\" xlink:type=\"simple\"><path d=\"M94,130.34 C94,146.61 94,163.81 94,176.93 \" fill=\"none\" id=\"E2&lt;-E3\" style=\"stroke: #383838; stroke-width: 1.0;\"/><polygon fill=\"#FFFFFF\" points=\"94,117,90,123,94,129,98,123,94,117\" style=\"stroke: #383838; stroke-width: 1.0;\"/><text fill=\"#000000\" font-family=\"sans-serif\" font-size=\"13\" lengthAdjust=\"spacingAndGlyphs\" textLength=\"7\" x=\"86.0594\" y=\"165.8075\">*</text></a><!--MD5=[01ea59e3afdfb598410709ca60793eae]\n",
       "@startuml\r\n",
       " skinparam monochrome true\r\n",
       "skinparam classbackgroundcolor white\r\n",
       "skinparam shadowing false\r\n",
       "skinparam wrapWidth 300\r\n",
       "hide circle\r\n",
       "\r\n",
       "package \"TextualRepresentationTest\" as E1  [[psysml:a059710d-e8aa-4b22-8023-1459b734d0f7 ]]  {\r\n",
       "comp def \"C\" as E2  <<(T,blue) item  def>> [[psysml:a14c26f5-bb93-4792-a45e-179361bfe6e1 ]] {\r\n",
       "- - attributes - -\r\n",
       "x: Real\r\n",
       "}\r\n",
       "comp usage \"x_constraint \" as E3  <<(T,blue) assert constraint>> [[psysml:b9ffc3c6-eeca-4712-be2d-56262eb1e98d ]] {\r\n",
       "}\r\n",
       "rec def \"setX\" as E4  <<(T,blue) action  def>> [[psysml:ee57fb5c-c168-4cf6-8494-2ae72f89f8ea ]] {\r\n",
       "portin \"c\" as E5  [[psysml:e345a4af-2fbe-4f5b-aa1f-c95f9761e116 ]] \r\n",
       "portin \"newX\" as E6  [[psysml:bef11b08-4405-4f10-b98d-dfe807135273 ]] \r\n",
       "}\r\n",
       "\r\n",
       "}\r\n",
       "E2 o- - \"*\"E3 [[psysml:25bb36ff-df1f-4894-9e3f-bec813bc6d8c ]] \r\n",
       "@enduml\r\n",
       "\n",
       "PlantUML version 1.2020.13(Sat Jun 13 12:26:38 UTC 2020)\n",
       "(EPL source distribution)\n",
       "Java Runtime: OpenJDK Runtime Environment\n",
       "JVM: OpenJDK 64-Bit Server VM\n",
       "Default Encoding: UTF-8\n",
       "Language: en\n",
       "Country: null\n",
       "--></g></svg>"
      ]
     },
     "execution_count": 8,
     "metadata": {},
     "output_type": "execute_result"
    }
   ],
   "source": [
    "%viz --style=\"COMPTREE\" --view=\"MIXED\" \"TextualRepresentationTest\""
   ]
  },
  {
   "cell_type": "code",
   "execution_count": 9,
   "id": "ab9d68b5",
   "metadata": {
    "execution": {
     "iopub.execute_input": "2022-08-19T08:20:10.325088Z",
     "iopub.status.busy": "2022-08-19T08:20:10.324682Z",
     "iopub.status.idle": "2022-08-19T08:20:10.385026Z",
     "shell.execute_reply": "2022-08-19T08:20:10.384597Z"
    }
   },
   "outputs": [
    {
     "data": {
      "image/svg+xml": [
       "<?xml version=\"1.0\" encoding=\"UTF-8\" standalone=\"no\"?><svg xmlns=\"http://www.w3.org/2000/svg\" xmlns:xlink=\"http://www.w3.org/1999/xlink\" contentScriptType=\"application/ecmascript\" contentStyleType=\"text/css\" height=\"261px\" preserveAspectRatio=\"none\" style=\"width:351px;height:261px;\" version=\"1.1\" viewBox=\"0 0 351 261\" width=\"351px\" zoomAndPan=\"magnify\"><defs/><g><!--MD5=[fbc87193dbaf4d95561dea2c320d4a47]\n",
       "cluster E1--><a href=\"psysml:a059710d-e8aa-4b22-8023-1459b734d0f7\" target=\"_top\" title=\"psysml:a059710d-e8aa-4b22-8023-1459b734d0f7\" xlink:actuate=\"onRequest\" xlink:href=\"psysml:a059710d-e8aa-4b22-8023-1459b734d0f7\" xlink:show=\"new\" xlink:title=\"psysml:a059710d-e8aa-4b22-8023-1459b734d0f7\" xlink:type=\"simple\"><polygon fill=\"#FFFFFF\" points=\"16,6,210,6,217,28.2969,329,28.2969,329,249.5,16,249.5,16,6\" style=\"stroke: #000000; stroke-width: 1.5;\"/><line style=\"stroke: #000000; stroke-width: 1.5;\" x1=\"16\" x2=\"217\" y1=\"28.2969\" y2=\"28.2969\"/><text fill=\"#000000\" font-family=\"sans-serif\" font-size=\"14\" font-weight=\"bold\" lengthAdjust=\"spacingAndGlyphs\" textLength=\"188\" x=\"20\" y=\"20.9951\">TextualRepresentationTest</text></a><!--MD5=[f6df4d0ebaf0b5dfb2ced0ae5af7c670]\n",
       "cluster E4--><a href=\"psysml:ee57fb5c-c168-4cf6-8494-2ae72f89f8ea\" target=\"_top\" title=\"psysml:ee57fb5c-c168-4cf6-8494-2ae72f89f8ea\" xlink:actuate=\"onRequest\" xlink:href=\"psysml:ee57fb5c-c168-4cf6-8494-2ae72f89f8ea\" xlink:show=\"new\" xlink:title=\"psysml:ee57fb5c-c168-4cf6-8494-2ae72f89f8ea\" xlink:type=\"simple\"><rect fill=\"#FFFFFF\" height=\"154.5\" id=\"E4\" style=\"stroke: #383838; stroke-width: 1.5;\" width=\"134\" x=\"179\" y=\"79\"/><rect fill=\"#F8F8F8\" height=\"37.9375\" style=\"stroke: #383838; stroke-width: 1.5;\" width=\"134\" x=\"179\" y=\"79\"/><text fill=\"#000000\" font-family=\"sans-serif\" font-size=\"12\" font-style=\"italic\" lengthAdjust=\"spacingAndGlyphs\" textLength=\"81\" x=\"205.5\" y=\"95.1387\">«action  def»</text><text fill=\"#000000\" font-family=\"sans-serif\" font-size=\"12\" lengthAdjust=\"spacingAndGlyphs\" textLength=\"27\" x=\"232.5\" y=\"109.1074\">setX</text></a><!--MD5=[b4997ac47864f28c2f74865a473b2911]\n",
       "class E2--><a href=\"psysml:a14c26f5-bb93-4792-a45e-179361bfe6e1\" target=\"_top\" title=\"psysml:a14c26f5-bb93-4792-a45e-179361bfe6e1\" xlink:actuate=\"onRequest\" xlink:href=\"psysml:a14c26f5-bb93-4792-a45e-179361bfe6e1\" xlink:show=\"new\" xlink:title=\"psysml:a14c26f5-bb93-4792-a45e-179361bfe6e1\" xlink:type=\"simple\"><rect fill=\"#FFFFFF\" height=\"75.5469\" id=\"E2\" style=\"stroke: #383838; stroke-width: 1.5;\" width=\"71\" x=\"58.5\" y=\"41\"/><text fill=\"#000000\" font-family=\"sans-serif\" font-size=\"12\" font-style=\"italic\" lengthAdjust=\"spacingAndGlyphs\" textLength=\"69\" x=\"59.5\" y=\"57.1387\">«item  def»</text><text fill=\"#000000\" font-family=\"sans-serif\" font-size=\"12\" lengthAdjust=\"spacingAndGlyphs\" textLength=\"8\" x=\"90\" y=\"71.1074\">C</text><line style=\"stroke: #383838; stroke-width: 1.5;\" x1=\"59.5\" x2=\"128.5\" y1=\"78.9375\" y2=\"78.9375\"/><text fill=\"#000000\" font-family=\"sans-serif\" font-size=\"11\" lengthAdjust=\"spacingAndGlyphs\" textLength=\"38\" x=\"64.5\" y=\"109.9526\">x: Real</text><line style=\"stroke: #383838; stroke-width: 1.0;\" x1=\"59.5\" x2=\"66.5\" y1=\"93.3398\" y2=\"93.3398\"/><text fill=\"#000000\" font-family=\"sans-serif\" font-size=\"11\" lengthAdjust=\"spacingAndGlyphs\" textLength=\"55\" x=\"66.5\" y=\"96.6479\">attributes</text><line style=\"stroke: #383838; stroke-width: 1.0;\" x1=\"121.5\" x2=\"128.5\" y1=\"93.3398\" y2=\"93.3398\"/></a><!--MD5=[09b614a08d8cba4a07c9adeb5e0fee81]\n",
       "class E3--><a href=\"psysml:b9ffc3c6-eeca-4712-be2d-56262eb1e98d\" target=\"_top\" title=\"psysml:b9ffc3c6-eeca-4712-be2d-56262eb1e98d\" xlink:actuate=\"onRequest\" xlink:href=\"psysml:b9ffc3c6-eeca-4712-be2d-56262eb1e98d\" xlink:show=\"new\" xlink:title=\"psysml:b9ffc3c6-eeca-4712-be2d-56262eb1e98d\" xlink:type=\"simple\"><rect fill=\"#FFFFFF\" height=\"45.9375\" id=\"E3\" rx=\"10\" ry=\"10\" style=\"stroke: #383838; stroke-width: 1.5;\" width=\"124\" x=\"32\" y=\"177\"/><text fill=\"#000000\" font-family=\"sans-serif\" font-size=\"12\" font-style=\"italic\" lengthAdjust=\"spacingAndGlyphs\" textLength=\"122\" x=\"33\" y=\"193.1387\">«assert constraint»</text><text fill=\"#000000\" font-family=\"sans-serif\" font-size=\"12\" lengthAdjust=\"spacingAndGlyphs\" textLength=\"76\" x=\"54\" y=\"207.1074\">x_constraint</text><line style=\"stroke: #383838; stroke-width: 1.5;\" x1=\"33\" x2=\"155\" y1=\"214.9375\" y2=\"214.9375\"/></a><text fill=\"#000000\" font-family=\"sans-serif\" font-size=\"14\" lengthAdjust=\"spacingAndGlyphs\" textLength=\"8\" x=\"193\" y=\"57.6982\">c</text><rect fill=\"#383838\" height=\"12\" style=\"stroke: #F8F8F8; stroke-width: 1.5;\" width=\"12\" x=\"191\" y=\"73\"/><text fill=\"#000000\" font-family=\"sans-serif\" font-size=\"14\" lengthAdjust=\"spacingAndGlyphs\" textLength=\"38\" x=\"225\" y=\"57.6982\">newX</text><rect fill=\"#383838\" height=\"12\" style=\"stroke: #F8F8F8; stroke-width: 1.5;\" width=\"12\" x=\"238\" y=\"73\"/><!--MD5=[209b3feb70ccb6233bfe1053d122c12c]\n",
       "reverse link E2 to E3--><a href=\"psysml:25bb36ff-df1f-4894-9e3f-bec813bc6d8c\" target=\"_top\" title=\"psysml:25bb36ff-df1f-4894-9e3f-bec813bc6d8c\" xlink:actuate=\"onRequest\" xlink:href=\"psysml:25bb36ff-df1f-4894-9e3f-bec813bc6d8c\" xlink:show=\"new\" xlink:title=\"psysml:25bb36ff-df1f-4894-9e3f-bec813bc6d8c\" xlink:type=\"simple\"><path d=\"M94,130.34 C94,146.61 94,163.81 94,176.93 \" fill=\"none\" id=\"E2&lt;-E3\" style=\"stroke: #383838; stroke-width: 1.0;\"/><polygon fill=\"#FFFFFF\" points=\"94,117,90,123,94,129,98,123,94,117\" style=\"stroke: #383838; stroke-width: 1.0;\"/><text fill=\"#000000\" font-family=\"sans-serif\" font-size=\"13\" lengthAdjust=\"spacingAndGlyphs\" textLength=\"7\" x=\"86.0594\" y=\"165.8075\">*</text></a><!--MD5=[2834b831f39019aa793da3dbc632d0a3]\n",
       "@startuml\r\n",
       "skinparam linetype polyline\r\n",
       "skinparam monochrome true\r\n",
       "skinparam classbackgroundcolor white\r\n",
       "skinparam shadowing false\r\n",
       "skinparam wrapWidth 300\r\n",
       "hide circle\r\n",
       "\r\n",
       "package \"TextualRepresentationTest\" as E1  [[psysml:a059710d-e8aa-4b22-8023-1459b734d0f7 ]]  {\r\n",
       "comp def \"C\" as E2  <<(T,blue) item  def>> [[psysml:a14c26f5-bb93-4792-a45e-179361bfe6e1 ]] {\r\n",
       "- - attributes - -\r\n",
       "x: Real\r\n",
       "}\r\n",
       "comp usage \"x_constraint \" as E3  <<(T,blue) assert constraint>> [[psysml:b9ffc3c6-eeca-4712-be2d-56262eb1e98d ]] {\r\n",
       "}\r\n",
       "rec def \"setX\" as E4  <<(T,blue) action  def>> [[psysml:ee57fb5c-c168-4cf6-8494-2ae72f89f8ea ]] {\r\n",
       "portin \"c\" as E5  [[psysml:e345a4af-2fbe-4f5b-aa1f-c95f9761e116 ]] \r\n",
       "portin \"newX\" as E6  [[psysml:bef11b08-4405-4f10-b98d-dfe807135273 ]] \r\n",
       "}\r\n",
       "\r\n",
       "}\r\n",
       "E2 o- - \"*\"E3 [[psysml:25bb36ff-df1f-4894-9e3f-bec813bc6d8c ]] \r\n",
       "@enduml\r\n",
       "\n",
       "PlantUML version 1.2020.13(Sat Jun 13 12:26:38 UTC 2020)\n",
       "(EPL source distribution)\n",
       "Java Runtime: OpenJDK Runtime Environment\n",
       "JVM: OpenJDK 64-Bit Server VM\n",
       "Default Encoding: UTF-8\n",
       "Language: en\n",
       "Country: null\n",
       "--></g></svg>"
      ]
     },
     "execution_count": 9,
     "metadata": {},
     "output_type": "execute_result"
    }
   ],
   "source": [
    "%viz --style=\"POLYLINE\" --view=\"Default\" \"TextualRepresentationTest\""
   ]
  },
  {
   "cell_type": "code",
   "execution_count": 10,
   "id": "3cee8ed3",
   "metadata": {
    "execution": {
     "iopub.execute_input": "2022-08-19T08:20:10.434891Z",
     "iopub.status.busy": "2022-08-19T08:20:10.434351Z",
     "iopub.status.idle": "2022-08-19T08:20:10.487080Z",
     "shell.execute_reply": "2022-08-19T08:20:10.486665Z"
    }
   },
   "outputs": [
    {
     "data": {
      "image/svg+xml": [
       "<?xml version=\"1.0\" encoding=\"UTF-8\" standalone=\"no\"?><svg xmlns=\"http://www.w3.org/2000/svg\" xmlns:xlink=\"http://www.w3.org/1999/xlink\" contentScriptType=\"application/ecmascript\" contentStyleType=\"text/css\" height=\"375px\" preserveAspectRatio=\"none\" style=\"width:242px;height:375px;\" version=\"1.1\" viewBox=\"0 0 242 375\" width=\"242px\" zoomAndPan=\"magnify\"><defs/><g><!--MD5=[fbc87193dbaf4d95561dea2c320d4a47]\n",
       "cluster E1--><a href=\"psysml:a059710d-e8aa-4b22-8023-1459b734d0f7\" target=\"_top\" title=\"psysml:a059710d-e8aa-4b22-8023-1459b734d0f7\" xlink:actuate=\"onRequest\" xlink:href=\"psysml:a059710d-e8aa-4b22-8023-1459b734d0f7\" xlink:show=\"new\" xlink:title=\"psysml:a059710d-e8aa-4b22-8023-1459b734d0f7\" xlink:type=\"simple\"><polygon fill=\"#FFFFFF\" points=\"16,6,210,6,217,28.2969,220,28.2969,220,363,16,363,16,6\" style=\"stroke: #000000; stroke-width: 1.5;\"/><line style=\"stroke: #000000; stroke-width: 1.5;\" x1=\"16\" x2=\"217\" y1=\"28.2969\" y2=\"28.2969\"/><text fill=\"#000000\" font-family=\"sans-serif\" font-size=\"14\" font-weight=\"bold\" lengthAdjust=\"spacingAndGlyphs\" textLength=\"188\" x=\"20\" y=\"20.9951\">TextualRepresentationTest</text></a><!--MD5=[b4997ac47864f28c2f74865a473b2911]\n",
       "class E2--><a href=\"psysml:a14c26f5-bb93-4792-a45e-179361bfe6e1\" target=\"_top\" title=\"psysml:a14c26f5-bb93-4792-a45e-179361bfe6e1\" xlink:actuate=\"onRequest\" xlink:href=\"psysml:a14c26f5-bb93-4792-a45e-179361bfe6e1\" xlink:show=\"new\" xlink:title=\"psysml:a14c26f5-bb93-4792-a45e-179361bfe6e1\" xlink:type=\"simple\"><rect fill=\"#FFFFFF\" height=\"75.5469\" id=\"E2\" style=\"stroke: #383838; stroke-width: 1.5;\" width=\"71\" x=\"82.5\" y=\"164\"/><text fill=\"#000000\" font-family=\"sans-serif\" font-size=\"12\" font-style=\"italic\" lengthAdjust=\"spacingAndGlyphs\" textLength=\"69\" x=\"83.5\" y=\"180.1387\">«item  def»</text><text fill=\"#000000\" font-family=\"sans-serif\" font-size=\"12\" lengthAdjust=\"spacingAndGlyphs\" textLength=\"8\" x=\"114\" y=\"194.1074\">C</text><line style=\"stroke: #383838; stroke-width: 1.5;\" x1=\"83.5\" x2=\"152.5\" y1=\"201.9375\" y2=\"201.9375\"/><text fill=\"#000000\" font-family=\"sans-serif\" font-size=\"11\" lengthAdjust=\"spacingAndGlyphs\" textLength=\"38\" x=\"88.5\" y=\"232.9526\">x: Real</text><line style=\"stroke: #383838; stroke-width: 1.0;\" x1=\"83.5\" x2=\"90.5\" y1=\"216.3398\" y2=\"216.3398\"/><text fill=\"#000000\" font-family=\"sans-serif\" font-size=\"11\" lengthAdjust=\"spacingAndGlyphs\" textLength=\"55\" x=\"90.5\" y=\"219.6479\">attributes</text><line style=\"stroke: #383838; stroke-width: 1.0;\" x1=\"145.5\" x2=\"152.5\" y1=\"216.3398\" y2=\"216.3398\"/></a><!--MD5=[09b614a08d8cba4a07c9adeb5e0fee81]\n",
       "class E3--><a href=\"psysml:b9ffc3c6-eeca-4712-be2d-56262eb1e98d\" target=\"_top\" title=\"psysml:b9ffc3c6-eeca-4712-be2d-56262eb1e98d\" xlink:actuate=\"onRequest\" xlink:href=\"psysml:b9ffc3c6-eeca-4712-be2d-56262eb1e98d\" xlink:show=\"new\" xlink:title=\"psysml:b9ffc3c6-eeca-4712-be2d-56262eb1e98d\" xlink:type=\"simple\"><rect fill=\"#FFFFFF\" height=\"45.9375\" id=\"E3\" rx=\"10\" ry=\"10\" style=\"stroke: #383838; stroke-width: 1.5;\" width=\"124\" x=\"56\" y=\"301\"/><text fill=\"#000000\" font-family=\"sans-serif\" font-size=\"12\" font-style=\"italic\" lengthAdjust=\"spacingAndGlyphs\" textLength=\"122\" x=\"57\" y=\"317.1387\">«assert constraint»</text><text fill=\"#000000\" font-family=\"sans-serif\" font-size=\"12\" lengthAdjust=\"spacingAndGlyphs\" textLength=\"76\" x=\"78\" y=\"331.1074\">x_constraint</text><line style=\"stroke: #383838; stroke-width: 1.5;\" x1=\"57\" x2=\"179\" y1=\"338.9375\" y2=\"338.9375\"/></a><!--MD5=[ebbe1d658d1005bcc118a6aa81145e00]\n",
       "class E4--><a href=\"psysml:ee57fb5c-c168-4cf6-8494-2ae72f89f8ea\" target=\"_top\" title=\"psysml:ee57fb5c-c168-4cf6-8494-2ae72f89f8ea\" xlink:actuate=\"onRequest\" xlink:href=\"psysml:ee57fb5c-c168-4cf6-8494-2ae72f89f8ea\" xlink:show=\"new\" xlink:title=\"psysml:ee57fb5c-c168-4cf6-8494-2ae72f89f8ea\" xlink:type=\"simple\"><rect fill=\"#FFFFFF\" height=\"45.9375\" id=\"E4\" style=\"stroke: #383838; stroke-width: 1.5;\" width=\"83\" x=\"76.5\" y=\"41\"/><text fill=\"#000000\" font-family=\"sans-serif\" font-size=\"12\" font-style=\"italic\" lengthAdjust=\"spacingAndGlyphs\" textLength=\"81\" x=\"77.5\" y=\"57.1387\">«action  def»</text><text fill=\"#000000\" font-family=\"sans-serif\" font-size=\"12\" lengthAdjust=\"spacingAndGlyphs\" textLength=\"27\" x=\"104.5\" y=\"71.1074\">setX</text><line style=\"stroke: #383838; stroke-width: 1.5;\" x1=\"77.5\" x2=\"158.5\" y1=\"78.9375\" y2=\"78.9375\"/></a><!--MD5=[209b3feb70ccb6233bfe1053d122c12c]\n",
       "reverse link E2 to E3--><a href=\"psysml:25bb36ff-df1f-4894-9e3f-bec813bc6d8c\" target=\"_top\" title=\"psysml:25bb36ff-df1f-4894-9e3f-bec813bc6d8c\" xlink:actuate=\"onRequest\" xlink:href=\"psysml:25bb36ff-df1f-4894-9e3f-bec813bc6d8c\" xlink:show=\"new\" xlink:title=\"psysml:25bb36ff-df1f-4894-9e3f-bec813bc6d8c\" xlink:type=\"simple\"><path d=\"M118,253.76 C118,270.17 118,287.52 118,300.75 \" fill=\"none\" id=\"E2&lt;-E3\" style=\"stroke: #383838; stroke-width: 1.0;\"/><polygon fill=\"#FFFFFF\" points=\"118,240.31,114,246.31,118,252.31,122,246.31,118,240.31\" style=\"stroke: #383838; stroke-width: 1.0;\"/><text fill=\"#000000\" font-family=\"sans-serif\" font-size=\"13\" lengthAdjust=\"spacingAndGlyphs\" textLength=\"7\" x=\"110.1031\" y=\"289.9622\">*</text></a><!--MD5=[ddeed8deb2209213b62e6cfabaa108b2]\n",
       "reverse link E4 to E2--><a href=\"psysml:e345a4af-2fbe-4f5b-aa1f-c95f9761e116\" target=\"_top\" title=\"psysml:e345a4af-2fbe-4f5b-aa1f-c95f9761e116\" xlink:actuate=\"onRequest\" xlink:href=\"psysml:e345a4af-2fbe-4f5b-aa1f-c95f9761e116\" xlink:show=\"new\" xlink:title=\"psysml:e345a4af-2fbe-4f5b-aa1f-c95f9761e116\" xlink:type=\"simple\"><path d=\"M118,100.42 C118,119.95 118,144.19 118,163.97 \" fill=\"none\" id=\"E4&lt;-E2\" style=\"stroke: #383838; stroke-width: 1.0;\"/><polygon fill=\"#FFFFFF\" points=\"118,87.15,114,93.15,118,99.15,122,93.15,118,87.15\" style=\"stroke: #383838; stroke-width: 1.0;\"/><text fill=\"#000000\" font-family=\"sans-serif\" font-size=\"13\" lengthAdjust=\"spacingAndGlyphs\" textLength=\"7\" x=\"119\" y=\"130.0669\">c</text></a><!--MD5=[e990836a0fa19d00a3054d7d904d60f4]\n",
       "@startuml\r\n",
       "skinparam linetype polyline\r\n",
       "skinparam monochrome true\r\n",
       "skinparam classbackgroundcolor white\r\n",
       "skinparam shadowing false\r\n",
       "skinparam wrapWidth 300\r\n",
       "hide circle\r\n",
       "\r\n",
       "package \"TextualRepresentationTest\" as E1  [[psysml:a059710d-e8aa-4b22-8023-1459b734d0f7 ]]  {\r\n",
       "comp def \"C\" as E2  <<(T,blue) item  def>> [[psysml:a14c26f5-bb93-4792-a45e-179361bfe6e1 ]] {\r\n",
       "- - attributes - -\r\n",
       "x: Real\r\n",
       "}\r\n",
       "comp usage \"x_constraint \" as E3  <<(T,blue) assert constraint>> [[psysml:b9ffc3c6-eeca-4712-be2d-56262eb1e98d ]] {\r\n",
       "}\r\n",
       "comp def \"setX\" as E4  <<(T,blue) action  def>> [[psysml:ee57fb5c-c168-4cf6-8494-2ae72f89f8ea ]] {\r\n",
       "}\r\n",
       "}\r\n",
       "E2 o- - \"*\"E3 [[psysml:25bb36ff-df1f-4894-9e3f-bec813bc6d8c ]] \r\n",
       "E4 o- - E2 [[psysml:e345a4af-2fbe-4f5b-aa1f-c95f9761e116 ]] : c\r\n",
       "@enduml\r\n",
       "\n",
       "PlantUML version 1.2020.13(Sat Jun 13 12:26:38 UTC 2020)\n",
       "(EPL source distribution)\n",
       "Java Runtime: OpenJDK Runtime Environment\n",
       "JVM: OpenJDK 64-Bit Server VM\n",
       "Default Encoding: UTF-8\n",
       "Language: en\n",
       "Country: null\n",
       "--></g></svg>"
      ]
     },
     "execution_count": 10,
     "metadata": {},
     "output_type": "execute_result"
    }
   ],
   "source": [
    "%viz --style=\"POLYLINE\" --view=\"Tree\" \"TextualRepresentationTest\""
   ]
  },
  {
   "cell_type": "code",
   "execution_count": 11,
   "id": "943e8c3d",
   "metadata": {
    "execution": {
     "iopub.execute_input": "2022-08-19T08:20:10.537038Z",
     "iopub.status.busy": "2022-08-19T08:20:10.536557Z",
     "iopub.status.idle": "2022-08-19T08:20:10.542969Z",
     "shell.execute_reply": "2022-08-19T08:20:10.543287Z"
    }
   },
   "outputs": [
    {
     "data": {
      "image/svg+xml": [
       "<?xml version=\"1.0\" encoding=\"UTF-8\" standalone=\"no\"?><svg xmlns=\"http://www.w3.org/2000/svg\" xmlns:xlink=\"http://www.w3.org/1999/xlink\" contentScriptType=\"application/ecmascript\" contentStyleType=\"text/css\" height=\"12px\" preserveAspectRatio=\"none\" style=\"width:12px;height:12px;\" version=\"1.1\" viewBox=\"0 0 12 12\" width=\"12px\" zoomAndPan=\"magnify\"><defs/><g><!--MD5=[896ac0e7a515d8dd7765a661cb4ee08b]\n",
       "@startuml\r\n",
       "skinparam linetype polyline\r\n",
       "skinparam monochrome true\r\n",
       "skinparam classbackgroundcolor white\r\n",
       "skinparam shadowing false\r\n",
       "skinparam wrapWidth 300\r\n",
       "hide circle\r\n",
       "\r\n",
       "@enduml\r\n",
       "\n",
       "PlantUML version 1.2020.13(Sat Jun 13 12:26:38 UTC 2020)\n",
       "(EPL source distribution)\n",
       "Java Runtime: OpenJDK Runtime Environment\n",
       "JVM: OpenJDK 64-Bit Server VM\n",
       "Default Encoding: UTF-8\n",
       "Language: en\n",
       "Country: null\n",
       "--></g></svg>"
      ]
     },
     "execution_count": 11,
     "metadata": {},
     "output_type": "execute_result"
    }
   ],
   "source": [
    "%viz --style=\"POLYLINE\" --view=\"State\" \"TextualRepresentationTest\""
   ]
  },
  {
   "cell_type": "code",
   "execution_count": 12,
   "id": "681a3520",
   "metadata": {
    "execution": {
     "iopub.execute_input": "2022-08-19T08:20:10.593571Z",
     "iopub.status.busy": "2022-08-19T08:20:10.593117Z",
     "iopub.status.idle": "2022-08-19T08:20:10.626705Z",
     "shell.execute_reply": "2022-08-19T08:20:10.627019Z"
    }
   },
   "outputs": [
    {
     "data": {
      "image/svg+xml": [
       "<?xml version=\"1.0\" encoding=\"UTF-8\" standalone=\"no\"?><svg xmlns=\"http://www.w3.org/2000/svg\" xmlns:xlink=\"http://www.w3.org/1999/xlink\" contentScriptType=\"application/ecmascript\" contentStyleType=\"text/css\" height=\"179px\" preserveAspectRatio=\"none\" style=\"width:292px;height:179px;\" version=\"1.1\" viewBox=\"0 0 292 179\" width=\"292px\" zoomAndPan=\"magnify\"><defs/><g><!--MD5=[fbc87193dbaf4d95561dea2c320d4a47]\n",
       "cluster E1--><a href=\"psysml:a059710d-e8aa-4b22-8023-1459b734d0f7\" target=\"_top\" title=\"psysml:a059710d-e8aa-4b22-8023-1459b734d0f7\" xlink:actuate=\"onRequest\" xlink:href=\"psysml:a059710d-e8aa-4b22-8023-1459b734d0f7\" xlink:show=\"new\" xlink:title=\"psysml:a059710d-e8aa-4b22-8023-1459b734d0f7\" xlink:type=\"simple\"><polygon fill=\"#FFFFFF\" points=\"16,6,210,6,217,28.2969,270,28.2969,270,167,16,167,16,6\" style=\"stroke: #000000; stroke-width: 1.5;\"/><line style=\"stroke: #000000; stroke-width: 1.5;\" x1=\"16\" x2=\"217\" y1=\"28.2969\" y2=\"28.2969\"/><text fill=\"#000000\" font-family=\"sans-serif\" font-size=\"14\" font-weight=\"bold\" lengthAdjust=\"spacingAndGlyphs\" textLength=\"188\" x=\"20\" y=\"20.9951\">TextualRepresentationTest</text></a><!--MD5=[d5e69f78d87373223dbae638b30a9c99]\n",
       "cluster E3--><a href=\"psysml:ee57fb5c-c168-4cf6-8494-2ae72f89f8ea\" target=\"_top\" title=\"psysml:ee57fb5c-c168-4cf6-8494-2ae72f89f8ea\" xlink:actuate=\"onRequest\" xlink:href=\"psysml:ee57fb5c-c168-4cf6-8494-2ae72f89f8ea\" xlink:show=\"new\" xlink:title=\"psysml:ee57fb5c-c168-4cf6-8494-2ae72f89f8ea\" xlink:type=\"simple\"><rect fill=\"#FFFFFF\" height=\"88.5\" id=\"E3\" style=\"stroke: #383838; stroke-width: 1.5;\" width=\"100\" x=\"122.5\" y=\"62.5\"/><rect fill=\"#F8F8F8\" height=\"37.9375\" style=\"stroke: #383838; stroke-width: 1.5;\" width=\"100\" x=\"122.5\" y=\"62.5\"/><text fill=\"#000000\" font-family=\"sans-serif\" font-size=\"12\" font-style=\"italic\" lengthAdjust=\"spacingAndGlyphs\" textLength=\"81\" x=\"132\" y=\"78.6387\">«action  def»</text><text fill=\"#000000\" font-family=\"sans-serif\" font-size=\"12\" lengthAdjust=\"spacingAndGlyphs\" textLength=\"27\" x=\"159\" y=\"92.6074\">setX</text></a><g id=\"E1.E2\"><a href=\"psysml:a14c26f5-bb93-4792-a45e-179361bfe6e1\" target=\"_top\" title=\"psysml:a14c26f5-bb93-4792-a45e-179361bfe6e1\" xlink:actuate=\"onRequest\" xlink:href=\"psysml:a14c26f5-bb93-4792-a45e-179361bfe6e1\" xlink:show=\"new\" xlink:title=\"psysml:a14c26f5-bb93-4792-a45e-179361bfe6e1\" xlink:type=\"simple\"><rect fill=\"#FFFFFF\" height=\"42.9375\" id=\"E2\" style=\"stroke: #383838; stroke-width: 1.5;\" width=\"76\" x=\"32\" y=\"41\"/><rect fill=\"#F8F8F8\" height=\"37.9375\" style=\"stroke: #383838; stroke-width: 1.5;\" width=\"76\" x=\"32\" y=\"41\"/><text fill=\"#000000\" font-family=\"sans-serif\" font-size=\"12\" font-style=\"italic\" lengthAdjust=\"spacingAndGlyphs\" textLength=\"69\" x=\"35.5\" y=\"57.1387\">«item  def»</text><text fill=\"#000000\" font-family=\"sans-serif\" font-size=\"12\" lengthAdjust=\"spacingAndGlyphs\" textLength=\"8\" x=\"66\" y=\"71.1074\">C</text></a></g><text fill=\"#000000\" font-family=\"sans-serif\" font-size=\"14\" lengthAdjust=\"spacingAndGlyphs\" textLength=\"8\" x=\"145\" y=\"41.1982\">c</text><rect fill=\"#383838\" height=\"12\" style=\"stroke: #F8F8F8; stroke-width: 1.5;\" width=\"12\" x=\"143\" y=\"56.5\"/><text fill=\"#000000\" font-family=\"sans-serif\" font-size=\"14\" lengthAdjust=\"spacingAndGlyphs\" textLength=\"38\" x=\"177\" y=\"41.1982\">newX</text><rect fill=\"#383838\" height=\"12\" style=\"stroke: #F8F8F8; stroke-width: 1.5;\" width=\"12\" x=\"190\" y=\"56.5\"/><!--MD5=[ddb064def172bb5ba0d28802c9887d3b]\n",
       "@startuml\r\n",
       "skinparam ranksep 10\r\n",
       "skinparam rectangle {\r\n",
       " backgroundColor<<block>> LightGreen\r\n",
       "}\r\n",
       "skinparam linetype polyline\r\n",
       "skinparam monochrome true\r\n",
       "skinparam classbackgroundcolor white\r\n",
       "skinparam shadowing false\r\n",
       "skinparam wrapWidth 300\r\n",
       "hide circle\r\n",
       "\r\n",
       "package \"TextualRepresentationTest\" as E1  [[psysml:a059710d-e8aa-4b22-8023-1459b734d0f7 ]]  {\r\n",
       "def \"C\" as E2  <<(T,blue) item  def>> [[psysml:a14c26f5-bb93-4792-a45e-179361bfe6e1 ]] \r\n",
       "rec def \"setX\" as E3  <<(T,blue) action  def>> [[psysml:ee57fb5c-c168-4cf6-8494-2ae72f89f8ea ]] {\r\n",
       "portin \"c\" as E4  [[psysml:e345a4af-2fbe-4f5b-aa1f-c95f9761e116 ]] \r\n",
       "portin \"newX\" as E5  [[psysml:bef11b08-4405-4f10-b98d-dfe807135273 ]] \r\n",
       "}\r\n",
       "\r\n",
       "}\r\n",
       "@enduml\r\n",
       "\n",
       "PlantUML version 1.2020.13(Sat Jun 13 12:26:38 UTC 2020)\n",
       "(EPL source distribution)\n",
       "Java Runtime: OpenJDK Runtime Environment\n",
       "JVM: OpenJDK 64-Bit Server VM\n",
       "Default Encoding: UTF-8\n",
       "Language: en\n",
       "Country: null\n",
       "--></g></svg>"
      ]
     },
     "execution_count": 12,
     "metadata": {},
     "output_type": "execute_result"
    }
   ],
   "source": [
    "%viz --style=\"POLYLINE\" --view=\"Interconnection\" \"TextualRepresentationTest\""
   ]
  },
  {
   "cell_type": "code",
   "execution_count": 13,
   "id": "028753c4",
   "metadata": {
    "execution": {
     "iopub.execute_input": "2022-08-19T08:20:10.677258Z",
     "iopub.status.busy": "2022-08-19T08:20:10.676803Z",
     "iopub.status.idle": "2022-08-19T08:20:10.703152Z",
     "shell.execute_reply": "2022-08-19T08:20:10.703504Z"
    }
   },
   "outputs": [
    {
     "data": {
      "image/svg+xml": [
       "<?xml version=\"1.0\" encoding=\"UTF-8\" standalone=\"no\"?><svg xmlns=\"http://www.w3.org/2000/svg\" xmlns:xlink=\"http://www.w3.org/1999/xlink\" contentScriptType=\"application/ecmascript\" contentStyleType=\"text/css\" height=\"126px\" preserveAspectRatio=\"none\" style=\"width:152px;height:126px;\" version=\"1.1\" viewBox=\"0 0 152 126\" width=\"152px\" zoomAndPan=\"magnify\"><defs/><g><!--MD5=[fbc87193dbaf4d95561dea2c320d4a47]\n",
       "cluster E1--><a href=\"psysml:ee57fb5c-c168-4cf6-8494-2ae72f89f8ea\" target=\"_top\" title=\"psysml:ee57fb5c-c168-4cf6-8494-2ae72f89f8ea\" xlink:actuate=\"onRequest\" xlink:href=\"psysml:ee57fb5c-c168-4cf6-8494-2ae72f89f8ea\" xlink:show=\"new\" xlink:title=\"psysml:ee57fb5c-c168-4cf6-8494-2ae72f89f8ea\" xlink:type=\"simple\"><rect fill=\"#FFFFFF\" height=\"73\" id=\"E1\" style=\"stroke: #383838; stroke-width: 1.5;\" width=\"134\" x=\"7\" y=\"42.0986\"/><rect fill=\"#F8F8F8\" height=\"37.9375\" style=\"stroke: #383838; stroke-width: 1.5;\" width=\"134\" x=\"7\" y=\"42.0986\"/><text fill=\"#000000\" font-family=\"sans-serif\" font-size=\"12\" font-style=\"italic\" lengthAdjust=\"spacingAndGlyphs\" textLength=\"81\" x=\"33.5\" y=\"58.2373\">«action  def»</text><text fill=\"#000000\" font-family=\"sans-serif\" font-size=\"12\" lengthAdjust=\"spacingAndGlyphs\" textLength=\"27\" x=\"60.5\" y=\"72.2061\">setX</text></a><text fill=\"#000000\" font-family=\"sans-serif\" font-size=\"14\" lengthAdjust=\"spacingAndGlyphs\" textLength=\"8\" x=\"21\" y=\"20.7969\">c</text><rect fill=\"#383838\" height=\"12\" style=\"stroke: #F8F8F8; stroke-width: 1.5;\" width=\"12\" x=\"19\" y=\"36.0986\"/><text fill=\"#000000\" font-family=\"sans-serif\" font-size=\"14\" lengthAdjust=\"spacingAndGlyphs\" textLength=\"38\" x=\"53\" y=\"20.7969\">newX</text><rect fill=\"#383838\" height=\"12\" style=\"stroke: #F8F8F8; stroke-width: 1.5;\" width=\"12\" x=\"66\" y=\"36.0986\"/><!--MD5=[107a76eac797965c4731796e791cb310]\n",
       "@startuml\r\n",
       "skinparam ranksep 8\r\n",
       "skinparam linetype polyline\r\n",
       "skinparam monochrome true\r\n",
       "skinparam classbackgroundcolor white\r\n",
       "skinparam shadowing false\r\n",
       "skinparam wrapWidth 300\r\n",
       "hide circle\r\n",
       "\r\n",
       "rec def \"setX\" as E1  <<(T,blue) action  def>> [[psysml:ee57fb5c-c168-4cf6-8494-2ae72f89f8ea ]] {\r\n",
       "portin \"c\" as E2  [[psysml:e345a4af-2fbe-4f5b-aa1f-c95f9761e116 ]] \r\n",
       "portin \"newX\" as E3  [[psysml:bef11b08-4405-4f10-b98d-dfe807135273 ]] \r\n",
       "}\r\n",
       "\r\n",
       "@enduml\r\n",
       "\n",
       "PlantUML version 1.2020.13(Sat Jun 13 12:26:38 UTC 2020)\n",
       "(EPL source distribution)\n",
       "Java Runtime: OpenJDK Runtime Environment\n",
       "JVM: OpenJDK 64-Bit Server VM\n",
       "Default Encoding: UTF-8\n",
       "Language: en\n",
       "Country: null\n",
       "--></g></svg>"
      ]
     },
     "execution_count": 13,
     "metadata": {},
     "output_type": "execute_result"
    }
   ],
   "source": [
    "%viz --style=\"POLYLINE\" --view=\"Action\" \"TextualRepresentationTest\""
   ]
  },
  {
   "cell_type": "code",
   "execution_count": 14,
   "id": "05c4cd00",
   "metadata": {
    "execution": {
     "iopub.execute_input": "2022-08-19T08:20:10.753367Z",
     "iopub.status.busy": "2022-08-19T08:20:10.752889Z",
     "iopub.status.idle": "2022-08-19T08:20:10.759952Z",
     "shell.execute_reply": "2022-08-19T08:20:10.760269Z"
    }
   },
   "outputs": [
    {
     "data": {
      "image/svg+xml": [
       "<?xml version=\"1.0\" encoding=\"UTF-8\" standalone=\"no\"?><svg xmlns=\"http://www.w3.org/2000/svg\" xmlns:xlink=\"http://www.w3.org/1999/xlink\" contentScriptType=\"application/ecmascript\" contentStyleType=\"text/css\" height=\"12px\" preserveAspectRatio=\"none\" style=\"width:12px;height:12px;\" version=\"1.1\" viewBox=\"0 0 12 12\" width=\"12px\" zoomAndPan=\"magnify\"><defs/><g><!--MD5=[dc938048236c351797870c36b62f92ad]\n",
       "@startuml\r\n",
       "skinparam roundcorner 20\r\n",
       "skinparam BoxPadding 20\r\n",
       "skinparam SequenceBoxBackgroundColor #white\r\n",
       "skinparam style strictuml\r\n",
       "skinparam maxMessageSize 100\r\n",
       "skinparam linetype polyline\r\n",
       "skinparam monochrome true\r\n",
       "skinparam classbackgroundcolor white\r\n",
       "skinparam shadowing false\r\n",
       "skinparam wrapWidth 300\r\n",
       "hide circle\r\n",
       "\r\n",
       "@enduml\r\n",
       "\n",
       "PlantUML version 1.2020.13(Sat Jun 13 12:26:38 UTC 2020)\n",
       "(EPL source distribution)\n",
       "Java Runtime: OpenJDK Runtime Environment\n",
       "JVM: OpenJDK 64-Bit Server VM\n",
       "Default Encoding: UTF-8\n",
       "Language: en\n",
       "Country: null\n",
       "--></g></svg>"
      ]
     },
     "execution_count": 14,
     "metadata": {},
     "output_type": "execute_result"
    }
   ],
   "source": [
    "%viz --style=\"POLYLINE\" --view=\"Sequence\" \"TextualRepresentationTest\""
   ]
  },
  {
   "cell_type": "code",
   "execution_count": 15,
   "id": "38a24063",
   "metadata": {
    "execution": {
     "iopub.execute_input": "2022-08-19T08:20:10.810497Z",
     "iopub.status.busy": "2022-08-19T08:20:10.810050Z",
     "iopub.status.idle": "2022-08-19T08:20:10.860974Z",
     "shell.execute_reply": "2022-08-19T08:20:10.860532Z"
    }
   },
   "outputs": [
    {
     "data": {
      "image/svg+xml": [
       "<?xml version=\"1.0\" encoding=\"UTF-8\" standalone=\"no\"?><svg xmlns=\"http://www.w3.org/2000/svg\" xmlns:xlink=\"http://www.w3.org/1999/xlink\" contentScriptType=\"application/ecmascript\" contentStyleType=\"text/css\" height=\"261px\" preserveAspectRatio=\"none\" style=\"width:351px;height:261px;\" version=\"1.1\" viewBox=\"0 0 351 261\" width=\"351px\" zoomAndPan=\"magnify\"><defs/><g><!--MD5=[fbc87193dbaf4d95561dea2c320d4a47]\n",
       "cluster E1--><a href=\"psysml:a059710d-e8aa-4b22-8023-1459b734d0f7\" target=\"_top\" title=\"psysml:a059710d-e8aa-4b22-8023-1459b734d0f7\" xlink:actuate=\"onRequest\" xlink:href=\"psysml:a059710d-e8aa-4b22-8023-1459b734d0f7\" xlink:show=\"new\" xlink:title=\"psysml:a059710d-e8aa-4b22-8023-1459b734d0f7\" xlink:type=\"simple\"><polygon fill=\"#FFFFFF\" points=\"16,6,210,6,217,28.2969,329,28.2969,329,249.5,16,249.5,16,6\" style=\"stroke: #000000; stroke-width: 1.5;\"/><line style=\"stroke: #000000; stroke-width: 1.5;\" x1=\"16\" x2=\"217\" y1=\"28.2969\" y2=\"28.2969\"/><text fill=\"#000000\" font-family=\"sans-serif\" font-size=\"14\" font-weight=\"bold\" lengthAdjust=\"spacingAndGlyphs\" textLength=\"188\" x=\"20\" y=\"20.9951\">TextualRepresentationTest</text></a><!--MD5=[f6df4d0ebaf0b5dfb2ced0ae5af7c670]\n",
       "cluster E4--><a href=\"psysml:ee57fb5c-c168-4cf6-8494-2ae72f89f8ea\" target=\"_top\" title=\"psysml:ee57fb5c-c168-4cf6-8494-2ae72f89f8ea\" xlink:actuate=\"onRequest\" xlink:href=\"psysml:ee57fb5c-c168-4cf6-8494-2ae72f89f8ea\" xlink:show=\"new\" xlink:title=\"psysml:ee57fb5c-c168-4cf6-8494-2ae72f89f8ea\" xlink:type=\"simple\"><rect fill=\"#FFFFFF\" height=\"154.5\" id=\"E4\" style=\"stroke: #383838; stroke-width: 1.5;\" width=\"134\" x=\"179\" y=\"79\"/><rect fill=\"#F8F8F8\" height=\"37.9375\" style=\"stroke: #383838; stroke-width: 1.5;\" width=\"134\" x=\"179\" y=\"79\"/><text fill=\"#000000\" font-family=\"sans-serif\" font-size=\"12\" font-style=\"italic\" lengthAdjust=\"spacingAndGlyphs\" textLength=\"81\" x=\"205.5\" y=\"95.1387\">«action  def»</text><text fill=\"#000000\" font-family=\"sans-serif\" font-size=\"12\" lengthAdjust=\"spacingAndGlyphs\" textLength=\"27\" x=\"232.5\" y=\"109.1074\">setX</text></a><!--MD5=[b4997ac47864f28c2f74865a473b2911]\n",
       "class E2--><a href=\"psysml:a14c26f5-bb93-4792-a45e-179361bfe6e1\" target=\"_top\" title=\"psysml:a14c26f5-bb93-4792-a45e-179361bfe6e1\" xlink:actuate=\"onRequest\" xlink:href=\"psysml:a14c26f5-bb93-4792-a45e-179361bfe6e1\" xlink:show=\"new\" xlink:title=\"psysml:a14c26f5-bb93-4792-a45e-179361bfe6e1\" xlink:type=\"simple\"><rect fill=\"#FFFFFF\" height=\"75.5469\" id=\"E2\" style=\"stroke: #383838; stroke-width: 1.5;\" width=\"71\" x=\"58.5\" y=\"41\"/><text fill=\"#000000\" font-family=\"sans-serif\" font-size=\"12\" font-style=\"italic\" lengthAdjust=\"spacingAndGlyphs\" textLength=\"69\" x=\"59.5\" y=\"57.1387\">«item  def»</text><text fill=\"#000000\" font-family=\"sans-serif\" font-size=\"12\" lengthAdjust=\"spacingAndGlyphs\" textLength=\"8\" x=\"90\" y=\"71.1074\">C</text><line style=\"stroke: #383838; stroke-width: 1.5;\" x1=\"59.5\" x2=\"128.5\" y1=\"78.9375\" y2=\"78.9375\"/><text fill=\"#000000\" font-family=\"sans-serif\" font-size=\"11\" lengthAdjust=\"spacingAndGlyphs\" textLength=\"38\" x=\"64.5\" y=\"109.9526\">x: Real</text><line style=\"stroke: #383838; stroke-width: 1.0;\" x1=\"59.5\" x2=\"66.5\" y1=\"93.3398\" y2=\"93.3398\"/><text fill=\"#000000\" font-family=\"sans-serif\" font-size=\"11\" lengthAdjust=\"spacingAndGlyphs\" textLength=\"55\" x=\"66.5\" y=\"96.6479\">attributes</text><line style=\"stroke: #383838; stroke-width: 1.0;\" x1=\"121.5\" x2=\"128.5\" y1=\"93.3398\" y2=\"93.3398\"/></a><!--MD5=[09b614a08d8cba4a07c9adeb5e0fee81]\n",
       "class E3--><a href=\"psysml:b9ffc3c6-eeca-4712-be2d-56262eb1e98d\" target=\"_top\" title=\"psysml:b9ffc3c6-eeca-4712-be2d-56262eb1e98d\" xlink:actuate=\"onRequest\" xlink:href=\"psysml:b9ffc3c6-eeca-4712-be2d-56262eb1e98d\" xlink:show=\"new\" xlink:title=\"psysml:b9ffc3c6-eeca-4712-be2d-56262eb1e98d\" xlink:type=\"simple\"><rect fill=\"#FFFFFF\" height=\"45.9375\" id=\"E3\" rx=\"10\" ry=\"10\" style=\"stroke: #383838; stroke-width: 1.5;\" width=\"124\" x=\"32\" y=\"177\"/><text fill=\"#000000\" font-family=\"sans-serif\" font-size=\"12\" font-style=\"italic\" lengthAdjust=\"spacingAndGlyphs\" textLength=\"122\" x=\"33\" y=\"193.1387\">«assert constraint»</text><text fill=\"#000000\" font-family=\"sans-serif\" font-size=\"12\" lengthAdjust=\"spacingAndGlyphs\" textLength=\"76\" x=\"54\" y=\"207.1074\">x_constraint</text><line style=\"stroke: #383838; stroke-width: 1.5;\" x1=\"33\" x2=\"155\" y1=\"214.9375\" y2=\"214.9375\"/></a><text fill=\"#000000\" font-family=\"sans-serif\" font-size=\"14\" lengthAdjust=\"spacingAndGlyphs\" textLength=\"8\" x=\"193\" y=\"57.6982\">c</text><rect fill=\"#383838\" height=\"12\" style=\"stroke: #F8F8F8; stroke-width: 1.5;\" width=\"12\" x=\"191\" y=\"73\"/><text fill=\"#000000\" font-family=\"sans-serif\" font-size=\"14\" lengthAdjust=\"spacingAndGlyphs\" textLength=\"38\" x=\"225\" y=\"57.6982\">newX</text><rect fill=\"#383838\" height=\"12\" style=\"stroke: #F8F8F8; stroke-width: 1.5;\" width=\"12\" x=\"238\" y=\"73\"/><!--MD5=[209b3feb70ccb6233bfe1053d122c12c]\n",
       "reverse link E2 to E3--><a href=\"psysml:25bb36ff-df1f-4894-9e3f-bec813bc6d8c\" target=\"_top\" title=\"psysml:25bb36ff-df1f-4894-9e3f-bec813bc6d8c\" xlink:actuate=\"onRequest\" xlink:href=\"psysml:25bb36ff-df1f-4894-9e3f-bec813bc6d8c\" xlink:show=\"new\" xlink:title=\"psysml:25bb36ff-df1f-4894-9e3f-bec813bc6d8c\" xlink:type=\"simple\"><path d=\"M94,130.34 C94,146.61 94,163.81 94,176.93 \" fill=\"none\" id=\"E2&lt;-E3\" style=\"stroke: #383838; stroke-width: 1.0;\"/><polygon fill=\"#FFFFFF\" points=\"94,117,90,123,94,129,98,123,94,117\" style=\"stroke: #383838; stroke-width: 1.0;\"/><text fill=\"#000000\" font-family=\"sans-serif\" font-size=\"13\" lengthAdjust=\"spacingAndGlyphs\" textLength=\"7\" x=\"86.0594\" y=\"165.8075\">*</text></a><!--MD5=[2834b831f39019aa793da3dbc632d0a3]\n",
       "@startuml\r\n",
       "skinparam linetype polyline\r\n",
       "skinparam monochrome true\r\n",
       "skinparam classbackgroundcolor white\r\n",
       "skinparam shadowing false\r\n",
       "skinparam wrapWidth 300\r\n",
       "hide circle\r\n",
       "\r\n",
       "package \"TextualRepresentationTest\" as E1  [[psysml:a059710d-e8aa-4b22-8023-1459b734d0f7 ]]  {\r\n",
       "comp def \"C\" as E2  <<(T,blue) item  def>> [[psysml:a14c26f5-bb93-4792-a45e-179361bfe6e1 ]] {\r\n",
       "- - attributes - -\r\n",
       "x: Real\r\n",
       "}\r\n",
       "comp usage \"x_constraint \" as E3  <<(T,blue) assert constraint>> [[psysml:b9ffc3c6-eeca-4712-be2d-56262eb1e98d ]] {\r\n",
       "}\r\n",
       "rec def \"setX\" as E4  <<(T,blue) action  def>> [[psysml:ee57fb5c-c168-4cf6-8494-2ae72f89f8ea ]] {\r\n",
       "portin \"c\" as E5  [[psysml:e345a4af-2fbe-4f5b-aa1f-c95f9761e116 ]] \r\n",
       "portin \"newX\" as E6  [[psysml:bef11b08-4405-4f10-b98d-dfe807135273 ]] \r\n",
       "}\r\n",
       "\r\n",
       "}\r\n",
       "E2 o- - \"*\"E3 [[psysml:25bb36ff-df1f-4894-9e3f-bec813bc6d8c ]] \r\n",
       "@enduml\r\n",
       "\n",
       "PlantUML version 1.2020.13(Sat Jun 13 12:26:38 UTC 2020)\n",
       "(EPL source distribution)\n",
       "Java Runtime: OpenJDK Runtime Environment\n",
       "JVM: OpenJDK 64-Bit Server VM\n",
       "Default Encoding: UTF-8\n",
       "Language: en\n",
       "Country: null\n",
       "--></g></svg>"
      ]
     },
     "execution_count": 15,
     "metadata": {},
     "output_type": "execute_result"
    }
   ],
   "source": [
    "%viz --style=\"POLYLINE\" --view=\"MIXED\" \"TextualRepresentationTest\""
   ]
  },
  {
   "cell_type": "code",
   "execution_count": 16,
   "id": "e8490380",
   "metadata": {
    "execution": {
     "iopub.execute_input": "2022-08-19T08:20:10.911039Z",
     "iopub.status.busy": "2022-08-19T08:20:10.910567Z",
     "iopub.status.idle": "2022-08-19T08:20:10.960698Z",
     "shell.execute_reply": "2022-08-19T08:20:10.960316Z"
    }
   },
   "outputs": [
    {
     "data": {
      "image/svg+xml": [
       "<?xml version=\"1.0\" encoding=\"UTF-8\" standalone=\"no\"?><svg xmlns=\"http://www.w3.org/2000/svg\" xmlns:xlink=\"http://www.w3.org/1999/xlink\" contentScriptType=\"application/ecmascript\" contentStyleType=\"text/css\" height=\"247px\" preserveAspectRatio=\"none\" style=\"width:332px;height:247px;\" version=\"1.1\" viewBox=\"0 0 332 247\" width=\"332px\" zoomAndPan=\"magnify\"><defs/><g><!--MD5=[fbc87193dbaf4d95561dea2c320d4a47]\n",
       "cluster E1--><a href=\"psysml:a059710d-e8aa-4b22-8023-1459b734d0f7\" target=\"_top\" title=\"psysml:a059710d-e8aa-4b22-8023-1459b734d0f7\" xlink:actuate=\"onRequest\" xlink:href=\"psysml:a059710d-e8aa-4b22-8023-1459b734d0f7\" xlink:show=\"new\" xlink:title=\"psysml:a059710d-e8aa-4b22-8023-1459b734d0f7\" xlink:type=\"simple\"><polygon fill=\"#FFFFFF\" points=\"16,6,210,6,217,28.2969,310,28.2969,310,235,16,235,16,6\" style=\"stroke: #000000; stroke-width: 1.5;\"/><line style=\"stroke: #000000; stroke-width: 1.5;\" x1=\"16\" x2=\"217\" y1=\"28.2969\" y2=\"28.2969\"/><text fill=\"#000000\" font-family=\"sans-serif\" font-size=\"14\" font-weight=\"bold\" lengthAdjust=\"spacingAndGlyphs\" textLength=\"188\" x=\"20\" y=\"20.9951\">TextualRepresentationTest</text></a><!--MD5=[f6df4d0ebaf0b5dfb2ced0ae5af7c670]\n",
       "cluster E4--><a href=\"psysml:ee57fb5c-c168-4cf6-8494-2ae72f89f8ea\" target=\"_top\" title=\"psysml:ee57fb5c-c168-4cf6-8494-2ae72f89f8ea\" xlink:actuate=\"onRequest\" xlink:href=\"psysml:ee57fb5c-c168-4cf6-8494-2ae72f89f8ea\" xlink:show=\"new\" xlink:title=\"psysml:ee57fb5c-c168-4cf6-8494-2ae72f89f8ea\" xlink:type=\"simple\"><rect fill=\"#FFFFFF\" height=\"47\" id=\"E4\" style=\"stroke: #383838; stroke-width: 1.5;\" width=\"244.5\" x=\"49.5\" y=\"55\"/><rect fill=\"#F8F8F8\" height=\"37.9375\" style=\"stroke: #383838; stroke-width: 1.5;\" width=\"244.5\" x=\"49.5\" y=\"55\"/><text fill=\"#000000\" font-family=\"sans-serif\" font-size=\"12\" font-style=\"italic\" lengthAdjust=\"spacingAndGlyphs\" textLength=\"81\" x=\"131.25\" y=\"71.1387\">«action  def»</text><text fill=\"#000000\" font-family=\"sans-serif\" font-size=\"12\" lengthAdjust=\"spacingAndGlyphs\" textLength=\"27\" x=\"158.25\" y=\"85.1074\">setX</text></a><!--MD5=[b4997ac47864f28c2f74865a473b2911]\n",
       "class E2--><a href=\"psysml:a14c26f5-bb93-4792-a45e-179361bfe6e1\" target=\"_top\" title=\"psysml:a14c26f5-bb93-4792-a45e-179361bfe6e1\" xlink:actuate=\"onRequest\" xlink:href=\"psysml:a14c26f5-bb93-4792-a45e-179361bfe6e1\" xlink:show=\"new\" xlink:title=\"psysml:a14c26f5-bb93-4792-a45e-179361bfe6e1\" xlink:type=\"simple\"><rect fill=\"#FFFFFF\" height=\"75.5469\" id=\"E2\" style=\"stroke: #383838; stroke-width: 1.5;\" width=\"71\" x=\"32\" y=\"143\"/><text fill=\"#000000\" font-family=\"sans-serif\" font-size=\"12\" font-style=\"italic\" lengthAdjust=\"spacingAndGlyphs\" textLength=\"69\" x=\"33\" y=\"159.1387\">«item  def»</text><text fill=\"#000000\" font-family=\"sans-serif\" font-size=\"12\" lengthAdjust=\"spacingAndGlyphs\" textLength=\"8\" x=\"63.5\" y=\"173.1074\">C</text><line style=\"stroke: #383838; stroke-width: 1.5;\" x1=\"33\" x2=\"102\" y1=\"180.9375\" y2=\"180.9375\"/><text fill=\"#000000\" font-family=\"sans-serif\" font-size=\"11\" lengthAdjust=\"spacingAndGlyphs\" textLength=\"38\" x=\"38\" y=\"211.9526\">x: Real</text><line style=\"stroke: #383838; stroke-width: 1.0;\" x1=\"33\" x2=\"40\" y1=\"195.3398\" y2=\"195.3398\"/><text fill=\"#000000\" font-family=\"sans-serif\" font-size=\"11\" lengthAdjust=\"spacingAndGlyphs\" textLength=\"55\" x=\"40\" y=\"198.6479\">attributes</text><line style=\"stroke: #383838; stroke-width: 1.0;\" x1=\"95\" x2=\"102\" y1=\"195.3398\" y2=\"195.3398\"/></a><!--MD5=[09b614a08d8cba4a07c9adeb5e0fee81]\n",
       "class E3--><a href=\"psysml:b9ffc3c6-eeca-4712-be2d-56262eb1e98d\" target=\"_top\" title=\"psysml:b9ffc3c6-eeca-4712-be2d-56262eb1e98d\" xlink:actuate=\"onRequest\" xlink:href=\"psysml:b9ffc3c6-eeca-4712-be2d-56262eb1e98d\" xlink:show=\"new\" xlink:title=\"psysml:b9ffc3c6-eeca-4712-be2d-56262eb1e98d\" xlink:type=\"simple\"><rect fill=\"#FFFFFF\" height=\"45.9375\" id=\"E3\" rx=\"10\" ry=\"10\" style=\"stroke: #383838; stroke-width: 1.5;\" width=\"124\" x=\"163\" y=\"158\"/><text fill=\"#000000\" font-family=\"sans-serif\" font-size=\"12\" font-style=\"italic\" lengthAdjust=\"spacingAndGlyphs\" textLength=\"122\" x=\"164\" y=\"174.1387\">«assert constraint»</text><text fill=\"#000000\" font-family=\"sans-serif\" font-size=\"12\" lengthAdjust=\"spacingAndGlyphs\" textLength=\"76\" x=\"185\" y=\"188.1074\">x_constraint</text><line style=\"stroke: #383838; stroke-width: 1.5;\" x1=\"164\" x2=\"286\" y1=\"195.9375\" y2=\"195.9375\"/></a><text fill=\"#000000\" font-family=\"sans-serif\" font-size=\"14\" lengthAdjust=\"spacingAndGlyphs\" textLength=\"8\" x=\"63.5\" y=\"120.9951\">c</text><rect fill=\"#383838\" height=\"12\" style=\"stroke: #F8F8F8; stroke-width: 1.5;\" width=\"12\" x=\"61.5\" y=\"96\"/><text fill=\"#000000\" font-family=\"sans-serif\" font-size=\"14\" lengthAdjust=\"spacingAndGlyphs\" textLength=\"38\" x=\"48.5\" y=\"33.6982\">newX</text><rect fill=\"#383838\" height=\"12\" style=\"stroke: #F8F8F8; stroke-width: 1.5;\" width=\"12\" x=\"61.5\" y=\"49\"/><!--MD5=[209b3feb70ccb6233bfe1053d122c12c]\n",
       "reverse link E2 to E3--><a href=\"psysml:25bb36ff-df1f-4894-9e3f-bec813bc6d8c\" target=\"_top\" title=\"psysml:25bb36ff-df1f-4894-9e3f-bec813bc6d8c\" xlink:actuate=\"onRequest\" xlink:href=\"psysml:25bb36ff-df1f-4894-9e3f-bec813bc6d8c\" xlink:show=\"new\" xlink:title=\"psysml:25bb36ff-df1f-4894-9e3f-bec813bc6d8c\" xlink:type=\"simple\"><path d=\"M116.04,181 C130.85,181 147.38,181 162.98,181 \" fill=\"none\" id=\"E2&lt;-E3\" style=\"stroke: #383838; stroke-width: 1.0;\"/><polygon fill=\"#FFFFFF\" points=\"103.01,181,109.01,185,115.01,181,109.01,177,103.01,181\" style=\"stroke: #383838; stroke-width: 1.0;\"/><text fill=\"#000000\" font-family=\"sans-serif\" font-size=\"13\" lengthAdjust=\"spacingAndGlyphs\" textLength=\"7\" x=\"147.9947\" y=\"193.9929\">*</text></a><!--MD5=[000a0ab2fc727bea150a711b96ff2077]\n",
       "@startuml\r\n",
       "left to right direction\r\n",
       "skinparam monochrome true\r\n",
       "skinparam classbackgroundcolor white\r\n",
       "skinparam shadowing false\r\n",
       "skinparam wrapWidth 300\r\n",
       "hide circle\r\n",
       "\r\n",
       "package \"TextualRepresentationTest\" as E1  [[psysml:a059710d-e8aa-4b22-8023-1459b734d0f7 ]]  {\r\n",
       "comp def \"C\" as E2  <<(T,blue) item  def>> [[psysml:a14c26f5-bb93-4792-a45e-179361bfe6e1 ]] {\r\n",
       "- - attributes - -\r\n",
       "x: Real\r\n",
       "}\r\n",
       "comp usage \"x_constraint \" as E3  <<(T,blue) assert constraint>> [[psysml:b9ffc3c6-eeca-4712-be2d-56262eb1e98d ]] {\r\n",
       "}\r\n",
       "rec def \"setX\" as E4  <<(T,blue) action  def>> [[psysml:ee57fb5c-c168-4cf6-8494-2ae72f89f8ea ]] {\r\n",
       "portin \"c\" as E5  [[psysml:e345a4af-2fbe-4f5b-aa1f-c95f9761e116 ]] \r\n",
       "portin \"newX\" as E6  [[psysml:bef11b08-4405-4f10-b98d-dfe807135273 ]] \r\n",
       "}\r\n",
       "\r\n",
       "}\r\n",
       "E2 o- - \"*\"E3 [[psysml:25bb36ff-df1f-4894-9e3f-bec813bc6d8c ]] \r\n",
       "@enduml\r\n",
       "\n",
       "PlantUML version 1.2020.13(Sat Jun 13 12:26:38 UTC 2020)\n",
       "(EPL source distribution)\n",
       "Java Runtime: OpenJDK Runtime Environment\n",
       "JVM: OpenJDK 64-Bit Server VM\n",
       "Default Encoding: UTF-8\n",
       "Language: en\n",
       "Country: null\n",
       "--></g></svg>"
      ]
     },
     "execution_count": 16,
     "metadata": {},
     "output_type": "execute_result"
    }
   ],
   "source": [
    "%viz --style=\"LR\" --view=\"Default\" \"TextualRepresentationTest\""
   ]
  },
  {
   "cell_type": "code",
   "execution_count": 17,
   "id": "660df1f0",
   "metadata": {
    "execution": {
     "iopub.execute_input": "2022-08-19T08:20:11.010700Z",
     "iopub.status.busy": "2022-08-19T08:20:11.010260Z",
     "iopub.status.idle": "2022-08-19T08:20:11.069388Z",
     "shell.execute_reply": "2022-08-19T08:20:11.067599Z"
    }
   },
   "outputs": [
    {
     "data": {
      "image/svg+xml": [
       "<?xml version=\"1.0\" encoding=\"UTF-8\" standalone=\"no\"?><svg xmlns=\"http://www.w3.org/2000/svg\" xmlns:xlink=\"http://www.w3.org/1999/xlink\" contentScriptType=\"application/ecmascript\" contentStyleType=\"text/css\" height=\"145px\" preserveAspectRatio=\"none\" style=\"width:478px;height:145px;\" version=\"1.1\" viewBox=\"0 0 478 145\" width=\"478px\" zoomAndPan=\"magnify\"><defs/><g><!--MD5=[fbc87193dbaf4d95561dea2c320d4a47]\n",
       "cluster E1--><a href=\"psysml:a059710d-e8aa-4b22-8023-1459b734d0f7\" target=\"_top\" title=\"psysml:a059710d-e8aa-4b22-8023-1459b734d0f7\" xlink:actuate=\"onRequest\" xlink:href=\"psysml:a059710d-e8aa-4b22-8023-1459b734d0f7\" xlink:show=\"new\" xlink:title=\"psysml:a059710d-e8aa-4b22-8023-1459b734d0f7\" xlink:type=\"simple\"><polygon fill=\"#FFFFFF\" points=\"16,6,210,6,217,28.2969,456,28.2969,456,133,16,133,16,6\" style=\"stroke: #000000; stroke-width: 1.5;\"/><line style=\"stroke: #000000; stroke-width: 1.5;\" x1=\"16\" x2=\"217\" y1=\"28.2969\" y2=\"28.2969\"/><text fill=\"#000000\" font-family=\"sans-serif\" font-size=\"14\" font-weight=\"bold\" lengthAdjust=\"spacingAndGlyphs\" textLength=\"188\" x=\"20\" y=\"20.9951\">TextualRepresentationTest</text></a><!--MD5=[b4997ac47864f28c2f74865a473b2911]\n",
       "class E2--><a href=\"psysml:a14c26f5-bb93-4792-a45e-179361bfe6e1\" target=\"_top\" title=\"psysml:a14c26f5-bb93-4792-a45e-179361bfe6e1\" xlink:actuate=\"onRequest\" xlink:href=\"psysml:a14c26f5-bb93-4792-a45e-179361bfe6e1\" xlink:show=\"new\" xlink:title=\"psysml:a14c26f5-bb93-4792-a45e-179361bfe6e1\" xlink:type=\"simple\"><rect fill=\"#FFFFFF\" height=\"75.5469\" id=\"E2\" style=\"stroke: #383838; stroke-width: 1.5;\" width=\"71\" x=\"184\" y=\"41\"/><text fill=\"#000000\" font-family=\"sans-serif\" font-size=\"12\" font-style=\"italic\" lengthAdjust=\"spacingAndGlyphs\" textLength=\"69\" x=\"185\" y=\"57.1387\">«item  def»</text><text fill=\"#000000\" font-family=\"sans-serif\" font-size=\"12\" lengthAdjust=\"spacingAndGlyphs\" textLength=\"8\" x=\"215.5\" y=\"71.1074\">C</text><line style=\"stroke: #383838; stroke-width: 1.5;\" x1=\"185\" x2=\"254\" y1=\"78.9375\" y2=\"78.9375\"/><text fill=\"#000000\" font-family=\"sans-serif\" font-size=\"11\" lengthAdjust=\"spacingAndGlyphs\" textLength=\"38\" x=\"190\" y=\"109.9526\">x: Real</text><line style=\"stroke: #383838; stroke-width: 1.0;\" x1=\"185\" x2=\"192\" y1=\"93.3398\" y2=\"93.3398\"/><text fill=\"#000000\" font-family=\"sans-serif\" font-size=\"11\" lengthAdjust=\"spacingAndGlyphs\" textLength=\"55\" x=\"192\" y=\"96.6479\">attributes</text><line style=\"stroke: #383838; stroke-width: 1.0;\" x1=\"247\" x2=\"254\" y1=\"93.3398\" y2=\"93.3398\"/></a><!--MD5=[09b614a08d8cba4a07c9adeb5e0fee81]\n",
       "class E3--><a href=\"psysml:b9ffc3c6-eeca-4712-be2d-56262eb1e98d\" target=\"_top\" title=\"psysml:b9ffc3c6-eeca-4712-be2d-56262eb1e98d\" xlink:actuate=\"onRequest\" xlink:href=\"psysml:b9ffc3c6-eeca-4712-be2d-56262eb1e98d\" xlink:show=\"new\" xlink:title=\"psysml:b9ffc3c6-eeca-4712-be2d-56262eb1e98d\" xlink:type=\"simple\"><rect fill=\"#FFFFFF\" height=\"45.9375\" id=\"E3\" rx=\"10\" ry=\"10\" style=\"stroke: #383838; stroke-width: 1.5;\" width=\"124\" x=\"316\" y=\"56\"/><text fill=\"#000000\" font-family=\"sans-serif\" font-size=\"12\" font-style=\"italic\" lengthAdjust=\"spacingAndGlyphs\" textLength=\"122\" x=\"317\" y=\"72.1387\">«assert constraint»</text><text fill=\"#000000\" font-family=\"sans-serif\" font-size=\"12\" lengthAdjust=\"spacingAndGlyphs\" textLength=\"76\" x=\"338\" y=\"86.1074\">x_constraint</text><line style=\"stroke: #383838; stroke-width: 1.5;\" x1=\"317\" x2=\"439\" y1=\"93.9375\" y2=\"93.9375\"/></a><!--MD5=[ebbe1d658d1005bcc118a6aa81145e00]\n",
       "class E4--><a href=\"psysml:ee57fb5c-c168-4cf6-8494-2ae72f89f8ea\" target=\"_top\" title=\"psysml:ee57fb5c-c168-4cf6-8494-2ae72f89f8ea\" xlink:actuate=\"onRequest\" xlink:href=\"psysml:ee57fb5c-c168-4cf6-8494-2ae72f89f8ea\" xlink:show=\"new\" xlink:title=\"psysml:ee57fb5c-c168-4cf6-8494-2ae72f89f8ea\" xlink:type=\"simple\"><rect fill=\"#FFFFFF\" height=\"45.9375\" id=\"E4\" style=\"stroke: #383838; stroke-width: 1.5;\" width=\"83\" x=\"32\" y=\"56\"/><text fill=\"#000000\" font-family=\"sans-serif\" font-size=\"12\" font-style=\"italic\" lengthAdjust=\"spacingAndGlyphs\" textLength=\"81\" x=\"33\" y=\"72.1387\">«action  def»</text><text fill=\"#000000\" font-family=\"sans-serif\" font-size=\"12\" lengthAdjust=\"spacingAndGlyphs\" textLength=\"27\" x=\"60\" y=\"86.1074\">setX</text><line style=\"stroke: #383838; stroke-width: 1.5;\" x1=\"33\" x2=\"114\" y1=\"93.9375\" y2=\"93.9375\"/></a><!--MD5=[209b3feb70ccb6233bfe1053d122c12c]\n",
       "reverse link E2 to E3--><a href=\"psysml:25bb36ff-df1f-4894-9e3f-bec813bc6d8c\" target=\"_top\" title=\"psysml:25bb36ff-df1f-4894-9e3f-bec813bc6d8c\" xlink:actuate=\"onRequest\" xlink:href=\"psysml:25bb36ff-df1f-4894-9e3f-bec813bc6d8c\" xlink:show=\"new\" xlink:title=\"psysml:25bb36ff-df1f-4894-9e3f-bec813bc6d8c\" xlink:type=\"simple\"><path d=\"M268.42,79 C283.4,79 300.14,79 315.9,79 \" fill=\"none\" id=\"E2&lt;-E3\" style=\"stroke: #383838; stroke-width: 1.0;\"/><polygon fill=\"#FFFFFF\" points=\"255.23,79,261.23,83,267.23,79,261.23,75,255.23,79\" style=\"stroke: #383838; stroke-width: 1.0;\"/><text fill=\"#000000\" font-family=\"sans-serif\" font-size=\"13\" lengthAdjust=\"spacingAndGlyphs\" textLength=\"7\" x=\"300.905\" y=\"91.9929\">*</text></a><!--MD5=[ddeed8deb2209213b62e6cfabaa108b2]\n",
       "reverse link E4 to E2--><a href=\"psysml:e345a4af-2fbe-4f5b-aa1f-c95f9761e116\" target=\"_top\" title=\"psysml:e345a4af-2fbe-4f5b-aa1f-c95f9761e116\" xlink:actuate=\"onRequest\" xlink:href=\"psysml:e345a4af-2fbe-4f5b-aa1f-c95f9761e116\" xlink:show=\"new\" xlink:title=\"psysml:e345a4af-2fbe-4f5b-aa1f-c95f9761e116\" xlink:type=\"simple\"><path d=\"M128.5,79 C147.04,79 167.28,79 183.86,79 \" fill=\"none\" id=\"E4&lt;-E2\" style=\"stroke: #383838; stroke-width: 1.0;\"/><polygon fill=\"#FFFFFF\" points=\"115.38,79,121.38,83,127.38,79,121.38,75,115.38,79\" style=\"stroke: #383838; stroke-width: 1.0;\"/><text fill=\"#000000\" font-family=\"sans-serif\" font-size=\"13\" lengthAdjust=\"spacingAndGlyphs\" textLength=\"7\" x=\"146\" y=\"75.0669\">c</text></a><!--MD5=[65d1eb0f89e6f9a2a4da9548521be2d2]\n",
       "@startuml\r\n",
       "left to right direction\r\n",
       "skinparam monochrome true\r\n",
       "skinparam classbackgroundcolor white\r\n",
       "skinparam shadowing false\r\n",
       "skinparam wrapWidth 300\r\n",
       "hide circle\r\n",
       "\r\n",
       "package \"TextualRepresentationTest\" as E1  [[psysml:a059710d-e8aa-4b22-8023-1459b734d0f7 ]]  {\r\n",
       "comp def \"C\" as E2  <<(T,blue) item  def>> [[psysml:a14c26f5-bb93-4792-a45e-179361bfe6e1 ]] {\r\n",
       "- - attributes - -\r\n",
       "x: Real\r\n",
       "}\r\n",
       "comp usage \"x_constraint \" as E3  <<(T,blue) assert constraint>> [[psysml:b9ffc3c6-eeca-4712-be2d-56262eb1e98d ]] {\r\n",
       "}\r\n",
       "comp def \"setX\" as E4  <<(T,blue) action  def>> [[psysml:ee57fb5c-c168-4cf6-8494-2ae72f89f8ea ]] {\r\n",
       "}\r\n",
       "}\r\n",
       "E2 o- - \"*\"E3 [[psysml:25bb36ff-df1f-4894-9e3f-bec813bc6d8c ]] \r\n",
       "E4 o- - E2 [[psysml:e345a4af-2fbe-4f5b-aa1f-c95f9761e116 ]] : c\r\n",
       "@enduml\r\n",
       "\n",
       "PlantUML version 1.2020.13(Sat Jun 13 12:26:38 UTC 2020)\n",
       "(EPL source distribution)\n",
       "Java Runtime: OpenJDK Runtime Environment\n",
       "JVM: OpenJDK 64-Bit Server VM\n",
       "Default Encoding: UTF-8\n",
       "Language: en\n",
       "Country: null\n",
       "--></g></svg>"
      ]
     },
     "execution_count": 17,
     "metadata": {},
     "output_type": "execute_result"
    }
   ],
   "source": [
    "%viz --style=\"LR\" --view=\"Tree\" \"TextualRepresentationTest\""
   ]
  },
  {
   "cell_type": "code",
   "execution_count": 18,
   "id": "6893651f",
   "metadata": {
    "execution": {
     "iopub.execute_input": "2022-08-19T08:20:11.118355Z",
     "iopub.status.busy": "2022-08-19T08:20:11.117842Z",
     "iopub.status.idle": "2022-08-19T08:20:11.124078Z",
     "shell.execute_reply": "2022-08-19T08:20:11.124450Z"
    }
   },
   "outputs": [
    {
     "data": {
      "image/svg+xml": [
       "<?xml version=\"1.0\" encoding=\"UTF-8\" standalone=\"no\"?><svg xmlns=\"http://www.w3.org/2000/svg\" xmlns:xlink=\"http://www.w3.org/1999/xlink\" contentScriptType=\"application/ecmascript\" contentStyleType=\"text/css\" height=\"12px\" preserveAspectRatio=\"none\" style=\"width:12px;height:12px;\" version=\"1.1\" viewBox=\"0 0 12 12\" width=\"12px\" zoomAndPan=\"magnify\"><defs/><g><!--MD5=[19d285c9d72a204eba4e2cd117d745e8]\n",
       "@startuml\r\n",
       "left to right direction\r\n",
       "skinparam monochrome true\r\n",
       "skinparam classbackgroundcolor white\r\n",
       "skinparam shadowing false\r\n",
       "skinparam wrapWidth 300\r\n",
       "hide circle\r\n",
       "\r\n",
       "@enduml\r\n",
       "\n",
       "PlantUML version 1.2020.13(Sat Jun 13 12:26:38 UTC 2020)\n",
       "(EPL source distribution)\n",
       "Java Runtime: OpenJDK Runtime Environment\n",
       "JVM: OpenJDK 64-Bit Server VM\n",
       "Default Encoding: UTF-8\n",
       "Language: en\n",
       "Country: null\n",
       "--></g></svg>"
      ]
     },
     "execution_count": 18,
     "metadata": {},
     "output_type": "execute_result"
    }
   ],
   "source": [
    "%viz --style=\"LR\" --view=\"State\" \"TextualRepresentationTest\""
   ]
  },
  {
   "cell_type": "code",
   "execution_count": 19,
   "id": "283afa6d",
   "metadata": {
    "execution": {
     "iopub.execute_input": "2022-08-19T08:20:11.174515Z",
     "iopub.status.busy": "2022-08-19T08:20:11.174016Z",
     "iopub.status.idle": "2022-08-19T08:20:11.204165Z",
     "shell.execute_reply": "2022-08-19T08:20:11.203787Z"
    }
   },
   "outputs": [
    {
     "data": {
      "image/svg+xml": [
       "<?xml version=\"1.0\" encoding=\"UTF-8\" standalone=\"no\"?><svg xmlns=\"http://www.w3.org/2000/svg\" xmlns:xlink=\"http://www.w3.org/1999/xlink\" contentScriptType=\"application/ecmascript\" contentStyleType=\"text/css\" height=\"215px\" preserveAspectRatio=\"none\" style=\"width:284px;height:215px;\" version=\"1.1\" viewBox=\"0 0 284 215\" width=\"284px\" zoomAndPan=\"magnify\"><defs/><g><!--MD5=[fbc87193dbaf4d95561dea2c320d4a47]\n",
       "cluster E1--><a href=\"psysml:a059710d-e8aa-4b22-8023-1459b734d0f7\" target=\"_top\" title=\"psysml:a059710d-e8aa-4b22-8023-1459b734d0f7\" xlink:actuate=\"onRequest\" xlink:href=\"psysml:a059710d-e8aa-4b22-8023-1459b734d0f7\" xlink:show=\"new\" xlink:title=\"psysml:a059710d-e8aa-4b22-8023-1459b734d0f7\" xlink:type=\"simple\"><polygon fill=\"#FFFFFF\" points=\"16,6,210,6,217,28.2969,262,28.2969,262,203,16,203,16,6\" style=\"stroke: #000000; stroke-width: 1.5;\"/><line style=\"stroke: #000000; stroke-width: 1.5;\" x1=\"16\" x2=\"217\" y1=\"28.2969\" y2=\"28.2969\"/><text fill=\"#000000\" font-family=\"sans-serif\" font-size=\"14\" font-weight=\"bold\" lengthAdjust=\"spacingAndGlyphs\" textLength=\"188\" x=\"20\" y=\"20.9951\">TextualRepresentationTest</text></a><!--MD5=[d5e69f78d87373223dbae638b30a9c99]\n",
       "cluster E3--><a href=\"psysml:ee57fb5c-c168-4cf6-8494-2ae72f89f8ea\" target=\"_top\" title=\"psysml:ee57fb5c-c168-4cf6-8494-2ae72f89f8ea\" xlink:actuate=\"onRequest\" xlink:href=\"psysml:ee57fb5c-c168-4cf6-8494-2ae72f89f8ea\" xlink:show=\"new\" xlink:title=\"psysml:ee57fb5c-c168-4cf6-8494-2ae72f89f8ea\" xlink:type=\"simple\"><rect fill=\"#FFFFFF\" height=\"47\" id=\"E3\" style=\"stroke: #383838; stroke-width: 1.5;\" width=\"194\" x=\"52\" y=\"55\"/><rect fill=\"#F8F8F8\" height=\"37.9375\" style=\"stroke: #383838; stroke-width: 1.5;\" width=\"194\" x=\"52\" y=\"55\"/><text fill=\"#000000\" font-family=\"sans-serif\" font-size=\"12\" font-style=\"italic\" lengthAdjust=\"spacingAndGlyphs\" textLength=\"81\" x=\"108.5\" y=\"71.1387\">«action  def»</text><text fill=\"#000000\" font-family=\"sans-serif\" font-size=\"12\" lengthAdjust=\"spacingAndGlyphs\" textLength=\"27\" x=\"135.5\" y=\"85.1074\">setX</text></a><g id=\"E1.E2\"><a href=\"psysml:a14c26f5-bb93-4792-a45e-179361bfe6e1\" target=\"_top\" title=\"psysml:a14c26f5-bb93-4792-a45e-179361bfe6e1\" xlink:actuate=\"onRequest\" xlink:href=\"psysml:a14c26f5-bb93-4792-a45e-179361bfe6e1\" xlink:show=\"new\" xlink:title=\"psysml:a14c26f5-bb93-4792-a45e-179361bfe6e1\" xlink:type=\"simple\"><rect fill=\"#FFFFFF\" height=\"42.9375\" id=\"E2\" style=\"stroke: #383838; stroke-width: 1.5;\" width=\"76\" x=\"32\" y=\"143.5\"/><rect fill=\"#F8F8F8\" height=\"37.9375\" style=\"stroke: #383838; stroke-width: 1.5;\" width=\"76\" x=\"32\" y=\"143.5\"/><text fill=\"#000000\" font-family=\"sans-serif\" font-size=\"12\" font-style=\"italic\" lengthAdjust=\"spacingAndGlyphs\" textLength=\"69\" x=\"35.5\" y=\"159.6387\">«item  def»</text><text fill=\"#000000\" font-family=\"sans-serif\" font-size=\"12\" lengthAdjust=\"spacingAndGlyphs\" textLength=\"8\" x=\"66\" y=\"173.6074\">C</text></a></g><text fill=\"#000000\" font-family=\"sans-serif\" font-size=\"14\" lengthAdjust=\"spacingAndGlyphs\" textLength=\"8\" x=\"66\" y=\"120.9951\">c</text><rect fill=\"#383838\" height=\"12\" style=\"stroke: #F8F8F8; stroke-width: 1.5;\" width=\"12\" x=\"64\" y=\"96\"/><text fill=\"#000000\" font-family=\"sans-serif\" font-size=\"14\" lengthAdjust=\"spacingAndGlyphs\" textLength=\"38\" x=\"51\" y=\"33.6982\">newX</text><rect fill=\"#383838\" height=\"12\" style=\"stroke: #F8F8F8; stroke-width: 1.5;\" width=\"12\" x=\"64\" y=\"49\"/><!--MD5=[9e840d6a74cf29eb35768f0efd83fe97]\n",
       "@startuml\r\n",
       "skinparam ranksep 10\r\n",
       "skinparam rectangle {\r\n",
       " backgroundColor<<block>> LightGreen\r\n",
       "}\r\n",
       "left to right direction\r\n",
       "skinparam monochrome true\r\n",
       "skinparam classbackgroundcolor white\r\n",
       "skinparam shadowing false\r\n",
       "skinparam wrapWidth 300\r\n",
       "hide circle\r\n",
       "\r\n",
       "package \"TextualRepresentationTest\" as E1  [[psysml:a059710d-e8aa-4b22-8023-1459b734d0f7 ]]  {\r\n",
       "def \"C\" as E2  <<(T,blue) item  def>> [[psysml:a14c26f5-bb93-4792-a45e-179361bfe6e1 ]] \r\n",
       "rec def \"setX\" as E3  <<(T,blue) action  def>> [[psysml:ee57fb5c-c168-4cf6-8494-2ae72f89f8ea ]] {\r\n",
       "portin \"c\" as E4  [[psysml:e345a4af-2fbe-4f5b-aa1f-c95f9761e116 ]] \r\n",
       "portin \"newX\" as E5  [[psysml:bef11b08-4405-4f10-b98d-dfe807135273 ]] \r\n",
       "}\r\n",
       "\r\n",
       "}\r\n",
       "@enduml\r\n",
       "\n",
       "PlantUML version 1.2020.13(Sat Jun 13 12:26:38 UTC 2020)\n",
       "(EPL source distribution)\n",
       "Java Runtime: OpenJDK Runtime Environment\n",
       "JVM: OpenJDK 64-Bit Server VM\n",
       "Default Encoding: UTF-8\n",
       "Language: en\n",
       "Country: null\n",
       "--></g></svg>"
      ]
     },
     "execution_count": 19,
     "metadata": {},
     "output_type": "execute_result"
    }
   ],
   "source": [
    "%viz --style=\"LR\" --view=\"Interconnection\" \"TextualRepresentationTest\""
   ]
  },
  {
   "cell_type": "code",
   "execution_count": 20,
   "id": "5c7ea6a0",
   "metadata": {
    "execution": {
     "iopub.execute_input": "2022-08-19T08:20:11.254284Z",
     "iopub.status.busy": "2022-08-19T08:20:11.253765Z",
     "iopub.status.idle": "2022-08-19T08:20:11.278137Z",
     "shell.execute_reply": "2022-08-19T08:20:11.278453Z"
    }
   },
   "outputs": [
    {
     "data": {
      "image/svg+xml": [
       "<?xml version=\"1.0\" encoding=\"UTF-8\" standalone=\"no\"?><svg xmlns=\"http://www.w3.org/2000/svg\" xmlns:xlink=\"http://www.w3.org/1999/xlink\" contentScriptType=\"application/ecmascript\" contentStyleType=\"text/css\" height=\"121px\" preserveAspectRatio=\"none\" style=\"width:180px;height:121px;\" version=\"1.1\" viewBox=\"0 0 180 121\" width=\"180px\" zoomAndPan=\"magnify\"><defs/><g><!--MD5=[fbc87193dbaf4d95561dea2c320d4a47]\n",
       "cluster E1--><a href=\"psysml:ee57fb5c-c168-4cf6-8494-2ae72f89f8ea\" target=\"_top\" title=\"psysml:ee57fb5c-c168-4cf6-8494-2ae72f89f8ea\" xlink:actuate=\"onRequest\" xlink:href=\"psysml:ee57fb5c-c168-4cf6-8494-2ae72f89f8ea\" xlink:show=\"new\" xlink:title=\"psysml:ee57fb5c-c168-4cf6-8494-2ae72f89f8ea\" xlink:type=\"simple\"><rect fill=\"#FFFFFF\" height=\"47\" id=\"E1\" style=\"stroke: #383838; stroke-width: 1.5;\" width=\"162\" x=\"7\" y=\"42.0986\"/><rect fill=\"#F8F8F8\" height=\"37.9375\" style=\"stroke: #383838; stroke-width: 1.5;\" width=\"162\" x=\"7\" y=\"42.0986\"/><text fill=\"#000000\" font-family=\"sans-serif\" font-size=\"12\" font-style=\"italic\" lengthAdjust=\"spacingAndGlyphs\" textLength=\"81\" x=\"47.5\" y=\"58.2373\">«action  def»</text><text fill=\"#000000\" font-family=\"sans-serif\" font-size=\"12\" lengthAdjust=\"spacingAndGlyphs\" textLength=\"27\" x=\"74.5\" y=\"72.2061\">setX</text></a><text fill=\"#000000\" font-family=\"sans-serif\" font-size=\"14\" lengthAdjust=\"spacingAndGlyphs\" textLength=\"8\" x=\"21\" y=\"108.0938\">c</text><rect fill=\"#383838\" height=\"12\" style=\"stroke: #F8F8F8; stroke-width: 1.5;\" width=\"12\" x=\"19\" y=\"83.0986\"/><text fill=\"#000000\" font-family=\"sans-serif\" font-size=\"14\" lengthAdjust=\"spacingAndGlyphs\" textLength=\"38\" x=\"6\" y=\"20.7969\">newX</text><rect fill=\"#383838\" height=\"12\" style=\"stroke: #F8F8F8; stroke-width: 1.5;\" width=\"12\" x=\"19\" y=\"36.0986\"/><!--MD5=[11f386ea0f1c607707eb6cc84e47307f]\n",
       "@startuml\r\n",
       "skinparam ranksep 8\r\n",
       "left to right direction\r\n",
       "skinparam monochrome true\r\n",
       "skinparam classbackgroundcolor white\r\n",
       "skinparam shadowing false\r\n",
       "skinparam wrapWidth 300\r\n",
       "hide circle\r\n",
       "\r\n",
       "rec def \"setX\" as E1  <<(T,blue) action  def>> [[psysml:ee57fb5c-c168-4cf6-8494-2ae72f89f8ea ]] {\r\n",
       "portin \"c\" as E2  [[psysml:e345a4af-2fbe-4f5b-aa1f-c95f9761e116 ]] \r\n",
       "portin \"newX\" as E3  [[psysml:bef11b08-4405-4f10-b98d-dfe807135273 ]] \r\n",
       "}\r\n",
       "\r\n",
       "@enduml\r\n",
       "\n",
       "PlantUML version 1.2020.13(Sat Jun 13 12:26:38 UTC 2020)\n",
       "(EPL source distribution)\n",
       "Java Runtime: OpenJDK Runtime Environment\n",
       "JVM: OpenJDK 64-Bit Server VM\n",
       "Default Encoding: UTF-8\n",
       "Language: en\n",
       "Country: null\n",
       "--></g></svg>"
      ]
     },
     "execution_count": 20,
     "metadata": {},
     "output_type": "execute_result"
    }
   ],
   "source": [
    "%viz --style=\"LR\" --view=\"Action\" \"TextualRepresentationTest\""
   ]
  },
  {
   "cell_type": "code",
   "execution_count": 21,
   "id": "28c3a3c7",
   "metadata": {
    "execution": {
     "iopub.execute_input": "2022-08-19T08:20:11.328565Z",
     "iopub.status.busy": "2022-08-19T08:20:11.328092Z",
     "iopub.status.idle": "2022-08-19T08:20:11.334314Z",
     "shell.execute_reply": "2022-08-19T08:20:11.334609Z"
    }
   },
   "outputs": [
    {
     "data": {
      "image/svg+xml": [
       "<?xml version=\"1.0\" encoding=\"UTF-8\" standalone=\"no\"?><svg xmlns=\"http://www.w3.org/2000/svg\" xmlns:xlink=\"http://www.w3.org/1999/xlink\" contentScriptType=\"application/ecmascript\" contentStyleType=\"text/css\" height=\"12px\" preserveAspectRatio=\"none\" style=\"width:12px;height:12px;\" version=\"1.1\" viewBox=\"0 0 12 12\" width=\"12px\" zoomAndPan=\"magnify\"><defs/><g><!--MD5=[238c11ea2002f03115ad6b49a457d50e]\n",
       "@startuml\r\n",
       "skinparam roundcorner 20\r\n",
       "skinparam BoxPadding 20\r\n",
       "skinparam SequenceBoxBackgroundColor #white\r\n",
       "skinparam style strictuml\r\n",
       "skinparam maxMessageSize 100\r\n",
       "left to right direction\r\n",
       "skinparam monochrome true\r\n",
       "skinparam classbackgroundcolor white\r\n",
       "skinparam shadowing false\r\n",
       "skinparam wrapWidth 300\r\n",
       "hide circle\r\n",
       "\r\n",
       "@enduml\r\n",
       "\n",
       "PlantUML version 1.2020.13(Sat Jun 13 12:26:38 UTC 2020)\n",
       "(EPL source distribution)\n",
       "Java Runtime: OpenJDK Runtime Environment\n",
       "JVM: OpenJDK 64-Bit Server VM\n",
       "Default Encoding: UTF-8\n",
       "Language: en\n",
       "Country: null\n",
       "--></g></svg>"
      ]
     },
     "execution_count": 21,
     "metadata": {},
     "output_type": "execute_result"
    }
   ],
   "source": [
    "%viz --style=\"LR\" --view=\"Sequence\" \"TextualRepresentationTest\""
   ]
  },
  {
   "cell_type": "code",
   "execution_count": 22,
   "id": "5dc07e37",
   "metadata": {
    "execution": {
     "iopub.execute_input": "2022-08-19T08:20:11.384803Z",
     "iopub.status.busy": "2022-08-19T08:20:11.384344Z",
     "iopub.status.idle": "2022-08-19T08:20:11.431927Z",
     "shell.execute_reply": "2022-08-19T08:20:11.431540Z"
    }
   },
   "outputs": [
    {
     "data": {
      "image/svg+xml": [
       "<?xml version=\"1.0\" encoding=\"UTF-8\" standalone=\"no\"?><svg xmlns=\"http://www.w3.org/2000/svg\" xmlns:xlink=\"http://www.w3.org/1999/xlink\" contentScriptType=\"application/ecmascript\" contentStyleType=\"text/css\" height=\"247px\" preserveAspectRatio=\"none\" style=\"width:332px;height:247px;\" version=\"1.1\" viewBox=\"0 0 332 247\" width=\"332px\" zoomAndPan=\"magnify\"><defs/><g><!--MD5=[fbc87193dbaf4d95561dea2c320d4a47]\n",
       "cluster E1--><a href=\"psysml:a059710d-e8aa-4b22-8023-1459b734d0f7\" target=\"_top\" title=\"psysml:a059710d-e8aa-4b22-8023-1459b734d0f7\" xlink:actuate=\"onRequest\" xlink:href=\"psysml:a059710d-e8aa-4b22-8023-1459b734d0f7\" xlink:show=\"new\" xlink:title=\"psysml:a059710d-e8aa-4b22-8023-1459b734d0f7\" xlink:type=\"simple\"><polygon fill=\"#FFFFFF\" points=\"16,6,210,6,217,28.2969,310,28.2969,310,235,16,235,16,6\" style=\"stroke: #000000; stroke-width: 1.5;\"/><line style=\"stroke: #000000; stroke-width: 1.5;\" x1=\"16\" x2=\"217\" y1=\"28.2969\" y2=\"28.2969\"/><text fill=\"#000000\" font-family=\"sans-serif\" font-size=\"14\" font-weight=\"bold\" lengthAdjust=\"spacingAndGlyphs\" textLength=\"188\" x=\"20\" y=\"20.9951\">TextualRepresentationTest</text></a><!--MD5=[f6df4d0ebaf0b5dfb2ced0ae5af7c670]\n",
       "cluster E4--><a href=\"psysml:ee57fb5c-c168-4cf6-8494-2ae72f89f8ea\" target=\"_top\" title=\"psysml:ee57fb5c-c168-4cf6-8494-2ae72f89f8ea\" xlink:actuate=\"onRequest\" xlink:href=\"psysml:ee57fb5c-c168-4cf6-8494-2ae72f89f8ea\" xlink:show=\"new\" xlink:title=\"psysml:ee57fb5c-c168-4cf6-8494-2ae72f89f8ea\" xlink:type=\"simple\"><rect fill=\"#FFFFFF\" height=\"47\" id=\"E4\" style=\"stroke: #383838; stroke-width: 1.5;\" width=\"244.5\" x=\"49.5\" y=\"55\"/><rect fill=\"#F8F8F8\" height=\"37.9375\" style=\"stroke: #383838; stroke-width: 1.5;\" width=\"244.5\" x=\"49.5\" y=\"55\"/><text fill=\"#000000\" font-family=\"sans-serif\" font-size=\"12\" font-style=\"italic\" lengthAdjust=\"spacingAndGlyphs\" textLength=\"81\" x=\"131.25\" y=\"71.1387\">«action  def»</text><text fill=\"#000000\" font-family=\"sans-serif\" font-size=\"12\" lengthAdjust=\"spacingAndGlyphs\" textLength=\"27\" x=\"158.25\" y=\"85.1074\">setX</text></a><!--MD5=[b4997ac47864f28c2f74865a473b2911]\n",
       "class E2--><a href=\"psysml:a14c26f5-bb93-4792-a45e-179361bfe6e1\" target=\"_top\" title=\"psysml:a14c26f5-bb93-4792-a45e-179361bfe6e1\" xlink:actuate=\"onRequest\" xlink:href=\"psysml:a14c26f5-bb93-4792-a45e-179361bfe6e1\" xlink:show=\"new\" xlink:title=\"psysml:a14c26f5-bb93-4792-a45e-179361bfe6e1\" xlink:type=\"simple\"><rect fill=\"#FFFFFF\" height=\"75.5469\" id=\"E2\" style=\"stroke: #383838; stroke-width: 1.5;\" width=\"71\" x=\"32\" y=\"143\"/><text fill=\"#000000\" font-family=\"sans-serif\" font-size=\"12\" font-style=\"italic\" lengthAdjust=\"spacingAndGlyphs\" textLength=\"69\" x=\"33\" y=\"159.1387\">«item  def»</text><text fill=\"#000000\" font-family=\"sans-serif\" font-size=\"12\" lengthAdjust=\"spacingAndGlyphs\" textLength=\"8\" x=\"63.5\" y=\"173.1074\">C</text><line style=\"stroke: #383838; stroke-width: 1.5;\" x1=\"33\" x2=\"102\" y1=\"180.9375\" y2=\"180.9375\"/><text fill=\"#000000\" font-family=\"sans-serif\" font-size=\"11\" lengthAdjust=\"spacingAndGlyphs\" textLength=\"38\" x=\"38\" y=\"211.9526\">x: Real</text><line style=\"stroke: #383838; stroke-width: 1.0;\" x1=\"33\" x2=\"40\" y1=\"195.3398\" y2=\"195.3398\"/><text fill=\"#000000\" font-family=\"sans-serif\" font-size=\"11\" lengthAdjust=\"spacingAndGlyphs\" textLength=\"55\" x=\"40\" y=\"198.6479\">attributes</text><line style=\"stroke: #383838; stroke-width: 1.0;\" x1=\"95\" x2=\"102\" y1=\"195.3398\" y2=\"195.3398\"/></a><!--MD5=[09b614a08d8cba4a07c9adeb5e0fee81]\n",
       "class E3--><a href=\"psysml:b9ffc3c6-eeca-4712-be2d-56262eb1e98d\" target=\"_top\" title=\"psysml:b9ffc3c6-eeca-4712-be2d-56262eb1e98d\" xlink:actuate=\"onRequest\" xlink:href=\"psysml:b9ffc3c6-eeca-4712-be2d-56262eb1e98d\" xlink:show=\"new\" xlink:title=\"psysml:b9ffc3c6-eeca-4712-be2d-56262eb1e98d\" xlink:type=\"simple\"><rect fill=\"#FFFFFF\" height=\"45.9375\" id=\"E3\" rx=\"10\" ry=\"10\" style=\"stroke: #383838; stroke-width: 1.5;\" width=\"124\" x=\"163\" y=\"158\"/><text fill=\"#000000\" font-family=\"sans-serif\" font-size=\"12\" font-style=\"italic\" lengthAdjust=\"spacingAndGlyphs\" textLength=\"122\" x=\"164\" y=\"174.1387\">«assert constraint»</text><text fill=\"#000000\" font-family=\"sans-serif\" font-size=\"12\" lengthAdjust=\"spacingAndGlyphs\" textLength=\"76\" x=\"185\" y=\"188.1074\">x_constraint</text><line style=\"stroke: #383838; stroke-width: 1.5;\" x1=\"164\" x2=\"286\" y1=\"195.9375\" y2=\"195.9375\"/></a><text fill=\"#000000\" font-family=\"sans-serif\" font-size=\"14\" lengthAdjust=\"spacingAndGlyphs\" textLength=\"8\" x=\"63.5\" y=\"120.9951\">c</text><rect fill=\"#383838\" height=\"12\" style=\"stroke: #F8F8F8; stroke-width: 1.5;\" width=\"12\" x=\"61.5\" y=\"96\"/><text fill=\"#000000\" font-family=\"sans-serif\" font-size=\"14\" lengthAdjust=\"spacingAndGlyphs\" textLength=\"38\" x=\"48.5\" y=\"33.6982\">newX</text><rect fill=\"#383838\" height=\"12\" style=\"stroke: #F8F8F8; stroke-width: 1.5;\" width=\"12\" x=\"61.5\" y=\"49\"/><!--MD5=[209b3feb70ccb6233bfe1053d122c12c]\n",
       "reverse link E2 to E3--><a href=\"psysml:25bb36ff-df1f-4894-9e3f-bec813bc6d8c\" target=\"_top\" title=\"psysml:25bb36ff-df1f-4894-9e3f-bec813bc6d8c\" xlink:actuate=\"onRequest\" xlink:href=\"psysml:25bb36ff-df1f-4894-9e3f-bec813bc6d8c\" xlink:show=\"new\" xlink:title=\"psysml:25bb36ff-df1f-4894-9e3f-bec813bc6d8c\" xlink:type=\"simple\"><path d=\"M116.04,181 C130.85,181 147.38,181 162.98,181 \" fill=\"none\" id=\"E2&lt;-E3\" style=\"stroke: #383838; stroke-width: 1.0;\"/><polygon fill=\"#FFFFFF\" points=\"103.01,181,109.01,185,115.01,181,109.01,177,103.01,181\" style=\"stroke: #383838; stroke-width: 1.0;\"/><text fill=\"#000000\" font-family=\"sans-serif\" font-size=\"13\" lengthAdjust=\"spacingAndGlyphs\" textLength=\"7\" x=\"147.9947\" y=\"193.9929\">*</text></a><!--MD5=[000a0ab2fc727bea150a711b96ff2077]\n",
       "@startuml\r\n",
       "left to right direction\r\n",
       "skinparam monochrome true\r\n",
       "skinparam classbackgroundcolor white\r\n",
       "skinparam shadowing false\r\n",
       "skinparam wrapWidth 300\r\n",
       "hide circle\r\n",
       "\r\n",
       "package \"TextualRepresentationTest\" as E1  [[psysml:a059710d-e8aa-4b22-8023-1459b734d0f7 ]]  {\r\n",
       "comp def \"C\" as E2  <<(T,blue) item  def>> [[psysml:a14c26f5-bb93-4792-a45e-179361bfe6e1 ]] {\r\n",
       "- - attributes - -\r\n",
       "x: Real\r\n",
       "}\r\n",
       "comp usage \"x_constraint \" as E3  <<(T,blue) assert constraint>> [[psysml:b9ffc3c6-eeca-4712-be2d-56262eb1e98d ]] {\r\n",
       "}\r\n",
       "rec def \"setX\" as E4  <<(T,blue) action  def>> [[psysml:ee57fb5c-c168-4cf6-8494-2ae72f89f8ea ]] {\r\n",
       "portin \"c\" as E5  [[psysml:e345a4af-2fbe-4f5b-aa1f-c95f9761e116 ]] \r\n",
       "portin \"newX\" as E6  [[psysml:bef11b08-4405-4f10-b98d-dfe807135273 ]] \r\n",
       "}\r\n",
       "\r\n",
       "}\r\n",
       "E2 o- - \"*\"E3 [[psysml:25bb36ff-df1f-4894-9e3f-bec813bc6d8c ]] \r\n",
       "@enduml\r\n",
       "\n",
       "PlantUML version 1.2020.13(Sat Jun 13 12:26:38 UTC 2020)\n",
       "(EPL source distribution)\n",
       "Java Runtime: OpenJDK Runtime Environment\n",
       "JVM: OpenJDK 64-Bit Server VM\n",
       "Default Encoding: UTF-8\n",
       "Language: en\n",
       "Country: null\n",
       "--></g></svg>"
      ]
     },
     "execution_count": 22,
     "metadata": {},
     "output_type": "execute_result"
    }
   ],
   "source": [
    "%viz --style=\"LR\" --view=\"MIXED\" \"TextualRepresentationTest\""
   ]
  },
  {
   "cell_type": "code",
   "execution_count": 23,
   "id": "23f9a27d",
   "metadata": {
    "execution": {
     "iopub.execute_input": "2022-08-19T08:20:11.482052Z",
     "iopub.status.busy": "2022-08-19T08:20:11.481547Z",
     "iopub.status.idle": "2022-08-19T08:20:11.527226Z",
     "shell.execute_reply": "2022-08-19T08:20:11.526805Z"
    }
   },
   "outputs": [
    {
     "data": {
      "image/svg+xml": [
       "<?xml version=\"1.0\" encoding=\"UTF-8\" standalone=\"no\"?><svg xmlns=\"http://www.w3.org/2000/svg\" xmlns:xlink=\"http://www.w3.org/1999/xlink\" contentScriptType=\"application/ecmascript\" contentStyleType=\"text/css\" height=\"261px\" preserveAspectRatio=\"none\" style=\"width:351px;height:261px;\" version=\"1.1\" viewBox=\"0 0 351 261\" width=\"351px\" zoomAndPan=\"magnify\"><defs><filter height=\"300%\" id=\"f1x0tc9a52pgo7\" width=\"300%\" x=\"-1\" y=\"-1\"><feGaussianBlur result=\"blurOut\" stdDeviation=\"2.0\"/><feColorMatrix in=\"blurOut\" result=\"blurOut2\" type=\"matrix\" values=\"0 0 0 0 0 0 0 0 0 0 0 0 0 0 0 0 0 0 .4 0\"/><feOffset dx=\"4.0\" dy=\"4.0\" in=\"blurOut2\" result=\"blurOut3\"/><feBlend in=\"SourceGraphic\" in2=\"blurOut3\" mode=\"normal\"/></filter></defs><g><!--MD5=[fbc87193dbaf4d95561dea2c320d4a47]\n",
       "cluster E1--><a href=\"psysml:a059710d-e8aa-4b22-8023-1459b734d0f7\" target=\"_top\" title=\"psysml:a059710d-e8aa-4b22-8023-1459b734d0f7\" xlink:actuate=\"onRequest\" xlink:href=\"psysml:a059710d-e8aa-4b22-8023-1459b734d0f7\" xlink:show=\"new\" xlink:title=\"psysml:a059710d-e8aa-4b22-8023-1459b734d0f7\" xlink:type=\"simple\"><polygon fill=\"#FFFFFF\" filter=\"url(#f1x0tc9a52pgo7)\" points=\"16,6,210,6,217,28.2969,329,28.2969,329,249.5,16,249.5,16,6\" style=\"stroke: #000000; stroke-width: 1.5;\"/><line style=\"stroke: #000000; stroke-width: 1.5;\" x1=\"16\" x2=\"217\" y1=\"28.2969\" y2=\"28.2969\"/><text fill=\"#000000\" font-family=\"sans-serif\" font-size=\"14\" font-weight=\"bold\" lengthAdjust=\"spacingAndGlyphs\" textLength=\"188\" x=\"20\" y=\"20.9951\">TextualRepresentationTest</text></a><!--MD5=[f6df4d0ebaf0b5dfb2ced0ae5af7c670]\n",
       "cluster E4--><a href=\"psysml:ee57fb5c-c168-4cf6-8494-2ae72f89f8ea\" target=\"_top\" title=\"psysml:ee57fb5c-c168-4cf6-8494-2ae72f89f8ea\" xlink:actuate=\"onRequest\" xlink:href=\"psysml:ee57fb5c-c168-4cf6-8494-2ae72f89f8ea\" xlink:show=\"new\" xlink:title=\"psysml:ee57fb5c-c168-4cf6-8494-2ae72f89f8ea\" xlink:type=\"simple\"><rect fill=\"#FFFFFF\" filter=\"url(#f1x0tc9a52pgo7)\" height=\"154.5\" id=\"E4\" style=\"stroke: #A80036; stroke-width: 1.5;\" width=\"134\" x=\"179\" y=\"79\"/><rect fill=\"#FEFECE\" height=\"37.9375\" style=\"stroke: #A80036; stroke-width: 1.5;\" width=\"134\" x=\"179\" y=\"79\"/><text fill=\"#000000\" font-family=\"sans-serif\" font-size=\"12\" font-style=\"italic\" lengthAdjust=\"spacingAndGlyphs\" textLength=\"81\" x=\"205.5\" y=\"95.1387\">«action  def»</text><text fill=\"#000000\" font-family=\"sans-serif\" font-size=\"12\" lengthAdjust=\"spacingAndGlyphs\" textLength=\"27\" x=\"232.5\" y=\"109.1074\">setX</text></a><!--MD5=[b4997ac47864f28c2f74865a473b2911]\n",
       "class E2--><a href=\"psysml:a14c26f5-bb93-4792-a45e-179361bfe6e1\" target=\"_top\" title=\"psysml:a14c26f5-bb93-4792-a45e-179361bfe6e1\" xlink:actuate=\"onRequest\" xlink:href=\"psysml:a14c26f5-bb93-4792-a45e-179361bfe6e1\" xlink:show=\"new\" xlink:title=\"psysml:a14c26f5-bb93-4792-a45e-179361bfe6e1\" xlink:type=\"simple\"><rect fill=\"#FEFECE\" filter=\"url(#f1x0tc9a52pgo7)\" height=\"75.5469\" id=\"E2\" style=\"stroke: #A80036; stroke-width: 1.5;\" width=\"71\" x=\"58.5\" y=\"41\"/><text fill=\"#000000\" font-family=\"sans-serif\" font-size=\"12\" font-style=\"italic\" lengthAdjust=\"spacingAndGlyphs\" textLength=\"69\" x=\"59.5\" y=\"57.1387\">«item  def»</text><text fill=\"#000000\" font-family=\"sans-serif\" font-size=\"12\" lengthAdjust=\"spacingAndGlyphs\" textLength=\"8\" x=\"90\" y=\"71.1074\">C</text><line style=\"stroke: #A80036; stroke-width: 1.5;\" x1=\"59.5\" x2=\"128.5\" y1=\"78.9375\" y2=\"78.9375\"/><text fill=\"#000000\" font-family=\"sans-serif\" font-size=\"11\" lengthAdjust=\"spacingAndGlyphs\" textLength=\"38\" x=\"64.5\" y=\"109.9526\">x: Real</text><line style=\"stroke: #A80036; stroke-width: 1.0;\" x1=\"59.5\" x2=\"66.5\" y1=\"93.3398\" y2=\"93.3398\"/><text fill=\"#000000\" font-family=\"sans-serif\" font-size=\"11\" lengthAdjust=\"spacingAndGlyphs\" textLength=\"55\" x=\"66.5\" y=\"96.6479\">attributes</text><line style=\"stroke: #A80036; stroke-width: 1.0;\" x1=\"121.5\" x2=\"128.5\" y1=\"93.3398\" y2=\"93.3398\"/></a><!--MD5=[09b614a08d8cba4a07c9adeb5e0fee81]\n",
       "class E3--><a href=\"psysml:b9ffc3c6-eeca-4712-be2d-56262eb1e98d\" target=\"_top\" title=\"psysml:b9ffc3c6-eeca-4712-be2d-56262eb1e98d\" xlink:actuate=\"onRequest\" xlink:href=\"psysml:b9ffc3c6-eeca-4712-be2d-56262eb1e98d\" xlink:show=\"new\" xlink:title=\"psysml:b9ffc3c6-eeca-4712-be2d-56262eb1e98d\" xlink:type=\"simple\"><rect fill=\"#FEFECE\" filter=\"url(#f1x0tc9a52pgo7)\" height=\"45.9375\" id=\"E3\" rx=\"10\" ry=\"10\" style=\"stroke: #A80036; stroke-width: 1.5;\" width=\"124\" x=\"32\" y=\"177\"/><text fill=\"#000000\" font-family=\"sans-serif\" font-size=\"12\" font-style=\"italic\" lengthAdjust=\"spacingAndGlyphs\" textLength=\"122\" x=\"33\" y=\"193.1387\">«assert constraint»</text><text fill=\"#000000\" font-family=\"sans-serif\" font-size=\"12\" lengthAdjust=\"spacingAndGlyphs\" textLength=\"76\" x=\"54\" y=\"207.1074\">x_constraint</text><line style=\"stroke: #A80036; stroke-width: 1.5;\" x1=\"33\" x2=\"155\" y1=\"214.9375\" y2=\"214.9375\"/></a><text fill=\"#000000\" font-family=\"sans-serif\" font-size=\"14\" lengthAdjust=\"spacingAndGlyphs\" textLength=\"8\" x=\"193\" y=\"57.6982\">c</text><rect fill=\"#A80036\" height=\"12\" style=\"stroke: #FEFECE; stroke-width: 1.5;\" width=\"12\" x=\"191\" y=\"73\"/><text fill=\"#000000\" font-family=\"sans-serif\" font-size=\"14\" lengthAdjust=\"spacingAndGlyphs\" textLength=\"38\" x=\"225\" y=\"57.6982\">newX</text><rect fill=\"#A80036\" height=\"12\" style=\"stroke: #FEFECE; stroke-width: 1.5;\" width=\"12\" x=\"238\" y=\"73\"/><!--MD5=[209b3feb70ccb6233bfe1053d122c12c]\n",
       "reverse link E2 to E3--><a href=\"psysml:25bb36ff-df1f-4894-9e3f-bec813bc6d8c\" target=\"_top\" title=\"psysml:25bb36ff-df1f-4894-9e3f-bec813bc6d8c\" xlink:actuate=\"onRequest\" xlink:href=\"psysml:25bb36ff-df1f-4894-9e3f-bec813bc6d8c\" xlink:show=\"new\" xlink:title=\"psysml:25bb36ff-df1f-4894-9e3f-bec813bc6d8c\" xlink:type=\"simple\"><path d=\"M94,130.34 C94,146.61 94,163.81 94,176.93 \" fill=\"none\" id=\"E2&lt;-E3\" style=\"stroke: #A80036; stroke-width: 1.0;\"/><polygon fill=\"#FFFFFF\" points=\"94,117,90,123,94,129,98,123,94,117\" style=\"stroke: #A80036; stroke-width: 1.0;\"/><text fill=\"#000000\" font-family=\"sans-serif\" font-size=\"13\" lengthAdjust=\"spacingAndGlyphs\" textLength=\"7\" x=\"86.0594\" y=\"165.8075\">*</text></a><!--MD5=[ff1c61cb5f15bdc4e40063eb2a31c763]\n",
       "@startuml\r\n",
       "skinparam wrapWidth 300\r\n",
       "hide circle\r\n",
       "\r\n",
       "package \"TextualRepresentationTest\" as E1  [[psysml:a059710d-e8aa-4b22-8023-1459b734d0f7 ]]  {\r\n",
       "comp def \"C\" as E2  <<(T,blue) item  def>> [[psysml:a14c26f5-bb93-4792-a45e-179361bfe6e1 ]] {\r\n",
       "- - attributes - -\r\n",
       "x: Real\r\n",
       "}\r\n",
       "comp usage \"x_constraint \" as E3  <<(T,blue) assert constraint>> [[psysml:b9ffc3c6-eeca-4712-be2d-56262eb1e98d ]] {\r\n",
       "}\r\n",
       "rec def \"setX\" as E4  <<(T,blue) action  def>> [[psysml:ee57fb5c-c168-4cf6-8494-2ae72f89f8ea ]] {\r\n",
       "portin \"c\" as E5  [[psysml:e345a4af-2fbe-4f5b-aa1f-c95f9761e116 ]] \r\n",
       "portin \"newX\" as E6  [[psysml:bef11b08-4405-4f10-b98d-dfe807135273 ]] \r\n",
       "}\r\n",
       "\r\n",
       "}\r\n",
       "E2 o- - \"*\"E3 [[psysml:25bb36ff-df1f-4894-9e3f-bec813bc6d8c ]] \r\n",
       "@enduml\r\n",
       "\n",
       "PlantUML version 1.2020.13(Sat Jun 13 12:26:38 UTC 2020)\n",
       "(EPL source distribution)\n",
       "Java Runtime: OpenJDK Runtime Environment\n",
       "JVM: OpenJDK 64-Bit Server VM\n",
       "Default Encoding: UTF-8\n",
       "Language: en\n",
       "Country: null\n",
       "--></g></svg>"
      ]
     },
     "execution_count": 23,
     "metadata": {},
     "output_type": "execute_result"
    }
   ],
   "source": [
    "%viz --style=\"STDCOLOR\" --view=\"Default\" \"TextualRepresentationTest\""
   ]
  },
  {
   "cell_type": "code",
   "execution_count": 24,
   "id": "a0995ff3",
   "metadata": {
    "execution": {
     "iopub.execute_input": "2022-08-19T08:20:11.577246Z",
     "iopub.status.busy": "2022-08-19T08:20:11.576774Z",
     "iopub.status.idle": "2022-08-19T08:20:11.618127Z",
     "shell.execute_reply": "2022-08-19T08:20:11.617673Z"
    }
   },
   "outputs": [
    {
     "data": {
      "image/svg+xml": [
       "<?xml version=\"1.0\" encoding=\"UTF-8\" standalone=\"no\"?><svg xmlns=\"http://www.w3.org/2000/svg\" xmlns:xlink=\"http://www.w3.org/1999/xlink\" contentScriptType=\"application/ecmascript\" contentStyleType=\"text/css\" height=\"375px\" preserveAspectRatio=\"none\" style=\"width:242px;height:375px;\" version=\"1.1\" viewBox=\"0 0 242 375\" width=\"242px\" zoomAndPan=\"magnify\"><defs><filter height=\"300%\" id=\"f19bgbtma85py1\" width=\"300%\" x=\"-1\" y=\"-1\"><feGaussianBlur result=\"blurOut\" stdDeviation=\"2.0\"/><feColorMatrix in=\"blurOut\" result=\"blurOut2\" type=\"matrix\" values=\"0 0 0 0 0 0 0 0 0 0 0 0 0 0 0 0 0 0 .4 0\"/><feOffset dx=\"4.0\" dy=\"4.0\" in=\"blurOut2\" result=\"blurOut3\"/><feBlend in=\"SourceGraphic\" in2=\"blurOut3\" mode=\"normal\"/></filter></defs><g><!--MD5=[fbc87193dbaf4d95561dea2c320d4a47]\n",
       "cluster E1--><a href=\"psysml:a059710d-e8aa-4b22-8023-1459b734d0f7\" target=\"_top\" title=\"psysml:a059710d-e8aa-4b22-8023-1459b734d0f7\" xlink:actuate=\"onRequest\" xlink:href=\"psysml:a059710d-e8aa-4b22-8023-1459b734d0f7\" xlink:show=\"new\" xlink:title=\"psysml:a059710d-e8aa-4b22-8023-1459b734d0f7\" xlink:type=\"simple\"><polygon fill=\"#FFFFFF\" filter=\"url(#f19bgbtma85py1)\" points=\"16,6,210,6,217,28.2969,220,28.2969,220,363,16,363,16,6\" style=\"stroke: #000000; stroke-width: 1.5;\"/><line style=\"stroke: #000000; stroke-width: 1.5;\" x1=\"16\" x2=\"217\" y1=\"28.2969\" y2=\"28.2969\"/><text fill=\"#000000\" font-family=\"sans-serif\" font-size=\"14\" font-weight=\"bold\" lengthAdjust=\"spacingAndGlyphs\" textLength=\"188\" x=\"20\" y=\"20.9951\">TextualRepresentationTest</text></a><!--MD5=[b4997ac47864f28c2f74865a473b2911]\n",
       "class E2--><a href=\"psysml:a14c26f5-bb93-4792-a45e-179361bfe6e1\" target=\"_top\" title=\"psysml:a14c26f5-bb93-4792-a45e-179361bfe6e1\" xlink:actuate=\"onRequest\" xlink:href=\"psysml:a14c26f5-bb93-4792-a45e-179361bfe6e1\" xlink:show=\"new\" xlink:title=\"psysml:a14c26f5-bb93-4792-a45e-179361bfe6e1\" xlink:type=\"simple\"><rect fill=\"#FEFECE\" filter=\"url(#f19bgbtma85py1)\" height=\"75.5469\" id=\"E2\" style=\"stroke: #A80036; stroke-width: 1.5;\" width=\"71\" x=\"82.5\" y=\"164\"/><text fill=\"#000000\" font-family=\"sans-serif\" font-size=\"12\" font-style=\"italic\" lengthAdjust=\"spacingAndGlyphs\" textLength=\"69\" x=\"83.5\" y=\"180.1387\">«item  def»</text><text fill=\"#000000\" font-family=\"sans-serif\" font-size=\"12\" lengthAdjust=\"spacingAndGlyphs\" textLength=\"8\" x=\"114\" y=\"194.1074\">C</text><line style=\"stroke: #A80036; stroke-width: 1.5;\" x1=\"83.5\" x2=\"152.5\" y1=\"201.9375\" y2=\"201.9375\"/><text fill=\"#000000\" font-family=\"sans-serif\" font-size=\"11\" lengthAdjust=\"spacingAndGlyphs\" textLength=\"38\" x=\"88.5\" y=\"232.9526\">x: Real</text><line style=\"stroke: #A80036; stroke-width: 1.0;\" x1=\"83.5\" x2=\"90.5\" y1=\"216.3398\" y2=\"216.3398\"/><text fill=\"#000000\" font-family=\"sans-serif\" font-size=\"11\" lengthAdjust=\"spacingAndGlyphs\" textLength=\"55\" x=\"90.5\" y=\"219.6479\">attributes</text><line style=\"stroke: #A80036; stroke-width: 1.0;\" x1=\"145.5\" x2=\"152.5\" y1=\"216.3398\" y2=\"216.3398\"/></a><!--MD5=[09b614a08d8cba4a07c9adeb5e0fee81]\n",
       "class E3--><a href=\"psysml:b9ffc3c6-eeca-4712-be2d-56262eb1e98d\" target=\"_top\" title=\"psysml:b9ffc3c6-eeca-4712-be2d-56262eb1e98d\" xlink:actuate=\"onRequest\" xlink:href=\"psysml:b9ffc3c6-eeca-4712-be2d-56262eb1e98d\" xlink:show=\"new\" xlink:title=\"psysml:b9ffc3c6-eeca-4712-be2d-56262eb1e98d\" xlink:type=\"simple\"><rect fill=\"#FEFECE\" filter=\"url(#f19bgbtma85py1)\" height=\"45.9375\" id=\"E3\" rx=\"10\" ry=\"10\" style=\"stroke: #A80036; stroke-width: 1.5;\" width=\"124\" x=\"56\" y=\"301\"/><text fill=\"#000000\" font-family=\"sans-serif\" font-size=\"12\" font-style=\"italic\" lengthAdjust=\"spacingAndGlyphs\" textLength=\"122\" x=\"57\" y=\"317.1387\">«assert constraint»</text><text fill=\"#000000\" font-family=\"sans-serif\" font-size=\"12\" lengthAdjust=\"spacingAndGlyphs\" textLength=\"76\" x=\"78\" y=\"331.1074\">x_constraint</text><line style=\"stroke: #A80036; stroke-width: 1.5;\" x1=\"57\" x2=\"179\" y1=\"338.9375\" y2=\"338.9375\"/></a><!--MD5=[ebbe1d658d1005bcc118a6aa81145e00]\n",
       "class E4--><a href=\"psysml:ee57fb5c-c168-4cf6-8494-2ae72f89f8ea\" target=\"_top\" title=\"psysml:ee57fb5c-c168-4cf6-8494-2ae72f89f8ea\" xlink:actuate=\"onRequest\" xlink:href=\"psysml:ee57fb5c-c168-4cf6-8494-2ae72f89f8ea\" xlink:show=\"new\" xlink:title=\"psysml:ee57fb5c-c168-4cf6-8494-2ae72f89f8ea\" xlink:type=\"simple\"><rect fill=\"#FEFECE\" filter=\"url(#f19bgbtma85py1)\" height=\"45.9375\" id=\"E4\" style=\"stroke: #A80036; stroke-width: 1.5;\" width=\"83\" x=\"76.5\" y=\"41\"/><text fill=\"#000000\" font-family=\"sans-serif\" font-size=\"12\" font-style=\"italic\" lengthAdjust=\"spacingAndGlyphs\" textLength=\"81\" x=\"77.5\" y=\"57.1387\">«action  def»</text><text fill=\"#000000\" font-family=\"sans-serif\" font-size=\"12\" lengthAdjust=\"spacingAndGlyphs\" textLength=\"27\" x=\"104.5\" y=\"71.1074\">setX</text><line style=\"stroke: #A80036; stroke-width: 1.5;\" x1=\"77.5\" x2=\"158.5\" y1=\"78.9375\" y2=\"78.9375\"/></a><!--MD5=[209b3feb70ccb6233bfe1053d122c12c]\n",
       "reverse link E2 to E3--><a href=\"psysml:25bb36ff-df1f-4894-9e3f-bec813bc6d8c\" target=\"_top\" title=\"psysml:25bb36ff-df1f-4894-9e3f-bec813bc6d8c\" xlink:actuate=\"onRequest\" xlink:href=\"psysml:25bb36ff-df1f-4894-9e3f-bec813bc6d8c\" xlink:show=\"new\" xlink:title=\"psysml:25bb36ff-df1f-4894-9e3f-bec813bc6d8c\" xlink:type=\"simple\"><path d=\"M118,253.76 C118,270.17 118,287.52 118,300.75 \" fill=\"none\" id=\"E2&lt;-E3\" style=\"stroke: #A80036; stroke-width: 1.0;\"/><polygon fill=\"#FFFFFF\" points=\"118,240.31,114,246.31,118,252.31,122,246.31,118,240.31\" style=\"stroke: #A80036; stroke-width: 1.0;\"/><text fill=\"#000000\" font-family=\"sans-serif\" font-size=\"13\" lengthAdjust=\"spacingAndGlyphs\" textLength=\"7\" x=\"110.1031\" y=\"289.9622\">*</text></a><!--MD5=[ddeed8deb2209213b62e6cfabaa108b2]\n",
       "reverse link E4 to E2--><a href=\"psysml:e345a4af-2fbe-4f5b-aa1f-c95f9761e116\" target=\"_top\" title=\"psysml:e345a4af-2fbe-4f5b-aa1f-c95f9761e116\" xlink:actuate=\"onRequest\" xlink:href=\"psysml:e345a4af-2fbe-4f5b-aa1f-c95f9761e116\" xlink:show=\"new\" xlink:title=\"psysml:e345a4af-2fbe-4f5b-aa1f-c95f9761e116\" xlink:type=\"simple\"><path d=\"M118,100.42 C118,119.95 118,144.19 118,163.97 \" fill=\"none\" id=\"E4&lt;-E2\" style=\"stroke: #A80036; stroke-width: 1.0;\"/><polygon fill=\"#FFFFFF\" points=\"118,87.15,114,93.15,118,99.15,122,93.15,118,87.15\" style=\"stroke: #A80036; stroke-width: 1.0;\"/><text fill=\"#000000\" font-family=\"sans-serif\" font-size=\"13\" lengthAdjust=\"spacingAndGlyphs\" textLength=\"7\" x=\"119\" y=\"130.0669\">c</text></a><!--MD5=[370352d6d8866d76c4fe9c705ad0817a]\n",
       "@startuml\r\n",
       "skinparam wrapWidth 300\r\n",
       "hide circle\r\n",
       "\r\n",
       "package \"TextualRepresentationTest\" as E1  [[psysml:a059710d-e8aa-4b22-8023-1459b734d0f7 ]]  {\r\n",
       "comp def \"C\" as E2  <<(T,blue) item  def>> [[psysml:a14c26f5-bb93-4792-a45e-179361bfe6e1 ]] {\r\n",
       "- - attributes - -\r\n",
       "x: Real\r\n",
       "}\r\n",
       "comp usage \"x_constraint \" as E3  <<(T,blue) assert constraint>> [[psysml:b9ffc3c6-eeca-4712-be2d-56262eb1e98d ]] {\r\n",
       "}\r\n",
       "comp def \"setX\" as E4  <<(T,blue) action  def>> [[psysml:ee57fb5c-c168-4cf6-8494-2ae72f89f8ea ]] {\r\n",
       "}\r\n",
       "}\r\n",
       "E2 o- - \"*\"E3 [[psysml:25bb36ff-df1f-4894-9e3f-bec813bc6d8c ]] \r\n",
       "E4 o- - E2 [[psysml:e345a4af-2fbe-4f5b-aa1f-c95f9761e116 ]] : c\r\n",
       "@enduml\r\n",
       "\n",
       "PlantUML version 1.2020.13(Sat Jun 13 12:26:38 UTC 2020)\n",
       "(EPL source distribution)\n",
       "Java Runtime: OpenJDK Runtime Environment\n",
       "JVM: OpenJDK 64-Bit Server VM\n",
       "Default Encoding: UTF-8\n",
       "Language: en\n",
       "Country: null\n",
       "--></g></svg>"
      ]
     },
     "execution_count": 24,
     "metadata": {},
     "output_type": "execute_result"
    }
   ],
   "source": [
    "%viz --style=\"STDCOLOR\" --view=\"Tree\" \"TextualRepresentationTest\""
   ]
  },
  {
   "cell_type": "code",
   "execution_count": 25,
   "id": "7b79690e",
   "metadata": {
    "execution": {
     "iopub.execute_input": "2022-08-19T08:20:11.667824Z",
     "iopub.status.busy": "2022-08-19T08:20:11.667354Z",
     "iopub.status.idle": "2022-08-19T08:20:11.672708Z",
     "shell.execute_reply": "2022-08-19T08:20:11.673068Z"
    }
   },
   "outputs": [
    {
     "data": {
      "image/svg+xml": [
       "<?xml version=\"1.0\" encoding=\"UTF-8\" standalone=\"no\"?><svg xmlns=\"http://www.w3.org/2000/svg\" xmlns:xlink=\"http://www.w3.org/1999/xlink\" contentScriptType=\"application/ecmascript\" contentStyleType=\"text/css\" height=\"12px\" preserveAspectRatio=\"none\" style=\"width:12px;height:12px;\" version=\"1.1\" viewBox=\"0 0 12 12\" width=\"12px\" zoomAndPan=\"magnify\"><defs/><g><!--MD5=[aeeef50f102b80d730deb6443d14f702]\n",
       "@startuml\r\n",
       "skinparam wrapWidth 300\r\n",
       "hide circle\r\n",
       "\r\n",
       "@enduml\r\n",
       "\n",
       "PlantUML version 1.2020.13(Sat Jun 13 12:26:38 UTC 2020)\n",
       "(EPL source distribution)\n",
       "Java Runtime: OpenJDK Runtime Environment\n",
       "JVM: OpenJDK 64-Bit Server VM\n",
       "Default Encoding: UTF-8\n",
       "Language: en\n",
       "Country: null\n",
       "--></g></svg>"
      ]
     },
     "execution_count": 25,
     "metadata": {},
     "output_type": "execute_result"
    }
   ],
   "source": [
    "%viz --style=\"STDCOLOR\" --view=\"State\" \"TextualRepresentationTest\""
   ]
  },
  {
   "cell_type": "code",
   "execution_count": 26,
   "id": "4a285f33",
   "metadata": {
    "execution": {
     "iopub.execute_input": "2022-08-19T08:20:11.723142Z",
     "iopub.status.busy": "2022-08-19T08:20:11.722637Z",
     "iopub.status.idle": "2022-08-19T08:20:11.749772Z",
     "shell.execute_reply": "2022-08-19T08:20:11.750111Z"
    }
   },
   "outputs": [
    {
     "data": {
      "image/svg+xml": [
       "<?xml version=\"1.0\" encoding=\"UTF-8\" standalone=\"no\"?><svg xmlns=\"http://www.w3.org/2000/svg\" xmlns:xlink=\"http://www.w3.org/1999/xlink\" contentScriptType=\"application/ecmascript\" contentStyleType=\"text/css\" height=\"179px\" preserveAspectRatio=\"none\" style=\"width:292px;height:179px;\" version=\"1.1\" viewBox=\"0 0 292 179\" width=\"292px\" zoomAndPan=\"magnify\"><defs><filter height=\"300%\" id=\"fx9mmiy7yb6l2\" width=\"300%\" x=\"-1\" y=\"-1\"><feGaussianBlur result=\"blurOut\" stdDeviation=\"2.0\"/><feColorMatrix in=\"blurOut\" result=\"blurOut2\" type=\"matrix\" values=\"0 0 0 0 0 0 0 0 0 0 0 0 0 0 0 0 0 0 .4 0\"/><feOffset dx=\"4.0\" dy=\"4.0\" in=\"blurOut2\" result=\"blurOut3\"/><feBlend in=\"SourceGraphic\" in2=\"blurOut3\" mode=\"normal\"/></filter></defs><g><!--MD5=[fbc87193dbaf4d95561dea2c320d4a47]\n",
       "cluster E1--><a href=\"psysml:a059710d-e8aa-4b22-8023-1459b734d0f7\" target=\"_top\" title=\"psysml:a059710d-e8aa-4b22-8023-1459b734d0f7\" xlink:actuate=\"onRequest\" xlink:href=\"psysml:a059710d-e8aa-4b22-8023-1459b734d0f7\" xlink:show=\"new\" xlink:title=\"psysml:a059710d-e8aa-4b22-8023-1459b734d0f7\" xlink:type=\"simple\"><polygon fill=\"#FFFFFF\" filter=\"url(#fx9mmiy7yb6l2)\" points=\"16,6,210,6,217,28.2969,270,28.2969,270,167,16,167,16,6\" style=\"stroke: #000000; stroke-width: 1.5;\"/><line style=\"stroke: #000000; stroke-width: 1.5;\" x1=\"16\" x2=\"217\" y1=\"28.2969\" y2=\"28.2969\"/><text fill=\"#000000\" font-family=\"sans-serif\" font-size=\"14\" font-weight=\"bold\" lengthAdjust=\"spacingAndGlyphs\" textLength=\"188\" x=\"20\" y=\"20.9951\">TextualRepresentationTest</text></a><!--MD5=[d5e69f78d87373223dbae638b30a9c99]\n",
       "cluster E3--><a href=\"psysml:ee57fb5c-c168-4cf6-8494-2ae72f89f8ea\" target=\"_top\" title=\"psysml:ee57fb5c-c168-4cf6-8494-2ae72f89f8ea\" xlink:actuate=\"onRequest\" xlink:href=\"psysml:ee57fb5c-c168-4cf6-8494-2ae72f89f8ea\" xlink:show=\"new\" xlink:title=\"psysml:ee57fb5c-c168-4cf6-8494-2ae72f89f8ea\" xlink:type=\"simple\"><rect fill=\"#FFFFFF\" filter=\"url(#fx9mmiy7yb6l2)\" height=\"88.5\" id=\"E3\" style=\"stroke: #A80036; stroke-width: 1.5;\" width=\"100\" x=\"122.5\" y=\"62.5\"/><rect fill=\"#FEFECE\" height=\"37.9375\" style=\"stroke: #A80036; stroke-width: 1.5;\" width=\"100\" x=\"122.5\" y=\"62.5\"/><text fill=\"#000000\" font-family=\"sans-serif\" font-size=\"12\" font-style=\"italic\" lengthAdjust=\"spacingAndGlyphs\" textLength=\"81\" x=\"132\" y=\"78.6387\">«action  def»</text><text fill=\"#000000\" font-family=\"sans-serif\" font-size=\"12\" lengthAdjust=\"spacingAndGlyphs\" textLength=\"27\" x=\"159\" y=\"92.6074\">setX</text></a><g id=\"E1.E2\"><a href=\"psysml:a14c26f5-bb93-4792-a45e-179361bfe6e1\" target=\"_top\" title=\"psysml:a14c26f5-bb93-4792-a45e-179361bfe6e1\" xlink:actuate=\"onRequest\" xlink:href=\"psysml:a14c26f5-bb93-4792-a45e-179361bfe6e1\" xlink:show=\"new\" xlink:title=\"psysml:a14c26f5-bb93-4792-a45e-179361bfe6e1\" xlink:type=\"simple\"><rect fill=\"#FEFECE\" filter=\"url(#fx9mmiy7yb6l2)\" height=\"42.9375\" id=\"E2\" style=\"stroke: #A80036; stroke-width: 1.5;\" width=\"76\" x=\"32\" y=\"41\"/><text fill=\"#000000\" font-family=\"sans-serif\" font-size=\"12\" font-style=\"italic\" lengthAdjust=\"spacingAndGlyphs\" textLength=\"69\" x=\"35.5\" y=\"57.1387\">«item  def»</text><text fill=\"#000000\" font-family=\"sans-serif\" font-size=\"12\" lengthAdjust=\"spacingAndGlyphs\" textLength=\"8\" x=\"66\" y=\"71.1074\">C</text></a></g><text fill=\"#000000\" font-family=\"sans-serif\" font-size=\"14\" lengthAdjust=\"spacingAndGlyphs\" textLength=\"8\" x=\"145\" y=\"41.1982\">c</text><rect fill=\"#A80036\" height=\"12\" style=\"stroke: #FEFECE; stroke-width: 1.5;\" width=\"12\" x=\"143\" y=\"56.5\"/><text fill=\"#000000\" font-family=\"sans-serif\" font-size=\"14\" lengthAdjust=\"spacingAndGlyphs\" textLength=\"38\" x=\"177\" y=\"41.1982\">newX</text><rect fill=\"#A80036\" height=\"12\" style=\"stroke: #FEFECE; stroke-width: 1.5;\" width=\"12\" x=\"190\" y=\"56.5\"/><!--MD5=[0ba7b8b0980f0815f3cf0a0ef3af113a]\n",
       "@startuml\r\n",
       "skinparam ranksep 10\r\n",
       "skinparam rectangle {\r\n",
       " backgroundColor<<block>> LightGreen\r\n",
       "}\r\n",
       "skinparam wrapWidth 300\r\n",
       "hide circle\r\n",
       "\r\n",
       "package \"TextualRepresentationTest\" as E1  [[psysml:a059710d-e8aa-4b22-8023-1459b734d0f7 ]]  {\r\n",
       "def \"C\" as E2  <<(T,blue) item  def>> [[psysml:a14c26f5-bb93-4792-a45e-179361bfe6e1 ]] \r\n",
       "rec def \"setX\" as E3  <<(T,blue) action  def>> [[psysml:ee57fb5c-c168-4cf6-8494-2ae72f89f8ea ]] {\r\n",
       "portin \"c\" as E4  [[psysml:e345a4af-2fbe-4f5b-aa1f-c95f9761e116 ]] \r\n",
       "portin \"newX\" as E5  [[psysml:bef11b08-4405-4f10-b98d-dfe807135273 ]] \r\n",
       "}\r\n",
       "\r\n",
       "}\r\n",
       "@enduml\r\n",
       "\n",
       "PlantUML version 1.2020.13(Sat Jun 13 12:26:38 UTC 2020)\n",
       "(EPL source distribution)\n",
       "Java Runtime: OpenJDK Runtime Environment\n",
       "JVM: OpenJDK 64-Bit Server VM\n",
       "Default Encoding: UTF-8\n",
       "Language: en\n",
       "Country: null\n",
       "--></g></svg>"
      ]
     },
     "execution_count": 26,
     "metadata": {},
     "output_type": "execute_result"
    }
   ],
   "source": [
    "%viz --style=\"STDCOLOR\" --view=\"Interconnection\" \"TextualRepresentationTest\""
   ]
  },
  {
   "cell_type": "code",
   "execution_count": 27,
   "id": "486382e9",
   "metadata": {
    "execution": {
     "iopub.execute_input": "2022-08-19T08:20:11.800057Z",
     "iopub.status.busy": "2022-08-19T08:20:11.799582Z",
     "iopub.status.idle": "2022-08-19T08:20:11.823307Z",
     "shell.execute_reply": "2022-08-19T08:20:11.822867Z"
    }
   },
   "outputs": [
    {
     "data": {
      "image/svg+xml": [
       "<?xml version=\"1.0\" encoding=\"UTF-8\" standalone=\"no\"?><svg xmlns=\"http://www.w3.org/2000/svg\" xmlns:xlink=\"http://www.w3.org/1999/xlink\" contentScriptType=\"application/ecmascript\" contentStyleType=\"text/css\" height=\"134px\" preserveAspectRatio=\"none\" style=\"width:160px;height:134px;\" version=\"1.1\" viewBox=\"0 0 160 134\" width=\"160px\" zoomAndPan=\"magnify\"><defs><filter height=\"300%\" id=\"f1tr8bixfibqpx\" width=\"300%\" x=\"-1\" y=\"-1\"><feGaussianBlur result=\"blurOut\" stdDeviation=\"2.0\"/><feColorMatrix in=\"blurOut\" result=\"blurOut2\" type=\"matrix\" values=\"0 0 0 0 0 0 0 0 0 0 0 0 0 0 0 0 0 0 .4 0\"/><feOffset dx=\"4.0\" dy=\"4.0\" in=\"blurOut2\" result=\"blurOut3\"/><feBlend in=\"SourceGraphic\" in2=\"blurOut3\" mode=\"normal\"/></filter></defs><g><!--MD5=[fbc87193dbaf4d95561dea2c320d4a47]\n",
       "cluster E1--><a href=\"psysml:ee57fb5c-c168-4cf6-8494-2ae72f89f8ea\" target=\"_top\" title=\"psysml:ee57fb5c-c168-4cf6-8494-2ae72f89f8ea\" xlink:actuate=\"onRequest\" xlink:href=\"psysml:ee57fb5c-c168-4cf6-8494-2ae72f89f8ea\" xlink:show=\"new\" xlink:title=\"psysml:ee57fb5c-c168-4cf6-8494-2ae72f89f8ea\" xlink:type=\"simple\"><rect fill=\"#FFFFFF\" filter=\"url(#f1tr8bixfibqpx)\" height=\"73\" id=\"E1\" style=\"stroke: #A80036; stroke-width: 1.5;\" width=\"134\" x=\"7\" y=\"42.0986\"/><rect fill=\"#FEFECE\" height=\"37.9375\" style=\"stroke: #A80036; stroke-width: 1.5;\" width=\"134\" x=\"7\" y=\"42.0986\"/><text fill=\"#000000\" font-family=\"sans-serif\" font-size=\"12\" font-style=\"italic\" lengthAdjust=\"spacingAndGlyphs\" textLength=\"81\" x=\"33.5\" y=\"58.2373\">«action  def»</text><text fill=\"#000000\" font-family=\"sans-serif\" font-size=\"12\" lengthAdjust=\"spacingAndGlyphs\" textLength=\"27\" x=\"60.5\" y=\"72.2061\">setX</text></a><text fill=\"#000000\" font-family=\"sans-serif\" font-size=\"14\" lengthAdjust=\"spacingAndGlyphs\" textLength=\"8\" x=\"21\" y=\"20.7969\">c</text><rect fill=\"#A80036\" height=\"12\" style=\"stroke: #FEFECE; stroke-width: 1.5;\" width=\"12\" x=\"19\" y=\"36.0986\"/><text fill=\"#000000\" font-family=\"sans-serif\" font-size=\"14\" lengthAdjust=\"spacingAndGlyphs\" textLength=\"38\" x=\"53\" y=\"20.7969\">newX</text><rect fill=\"#A80036\" height=\"12\" style=\"stroke: #FEFECE; stroke-width: 1.5;\" width=\"12\" x=\"66\" y=\"36.0986\"/><!--MD5=[c198aad84e4fcc93dfa2cd2b082618e0]\n",
       "@startuml\r\n",
       "skinparam ranksep 8\r\n",
       "skinparam wrapWidth 300\r\n",
       "hide circle\r\n",
       "\r\n",
       "rec def \"setX\" as E1  <<(T,blue) action  def>> [[psysml:ee57fb5c-c168-4cf6-8494-2ae72f89f8ea ]] {\r\n",
       "portin \"c\" as E2  [[psysml:e345a4af-2fbe-4f5b-aa1f-c95f9761e116 ]] \r\n",
       "portin \"newX\" as E3  [[psysml:bef11b08-4405-4f10-b98d-dfe807135273 ]] \r\n",
       "}\r\n",
       "\r\n",
       "@enduml\r\n",
       "\n",
       "PlantUML version 1.2020.13(Sat Jun 13 12:26:38 UTC 2020)\n",
       "(EPL source distribution)\n",
       "Java Runtime: OpenJDK Runtime Environment\n",
       "JVM: OpenJDK 64-Bit Server VM\n",
       "Default Encoding: UTF-8\n",
       "Language: en\n",
       "Country: null\n",
       "--></g></svg>"
      ]
     },
     "execution_count": 27,
     "metadata": {},
     "output_type": "execute_result"
    }
   ],
   "source": [
    "%viz --style=\"STDCOLOR\" --view=\"Action\" \"TextualRepresentationTest\""
   ]
  },
  {
   "cell_type": "code",
   "execution_count": 28,
   "id": "35c4adaa",
   "metadata": {
    "execution": {
     "iopub.execute_input": "2022-08-19T08:20:11.873236Z",
     "iopub.status.busy": "2022-08-19T08:20:11.872726Z",
     "iopub.status.idle": "2022-08-19T08:20:11.878598Z",
     "shell.execute_reply": "2022-08-19T08:20:11.878956Z"
    }
   },
   "outputs": [
    {
     "data": {
      "image/svg+xml": [
       "<?xml version=\"1.0\" encoding=\"UTF-8\" standalone=\"no\"?><svg xmlns=\"http://www.w3.org/2000/svg\" xmlns:xlink=\"http://www.w3.org/1999/xlink\" contentScriptType=\"application/ecmascript\" contentStyleType=\"text/css\" height=\"12px\" preserveAspectRatio=\"none\" style=\"width:12px;height:12px;\" version=\"1.1\" viewBox=\"0 0 12 12\" width=\"12px\" zoomAndPan=\"magnify\"><defs/><g><!--MD5=[6c4bca67b4d71758159a5a7f1f1e1fc2]\n",
       "@startuml\r\n",
       "skinparam roundcorner 20\r\n",
       "skinparam BoxPadding 20\r\n",
       "skinparam SequenceBoxBackgroundColor #white\r\n",
       "skinparam style strictuml\r\n",
       "skinparam maxMessageSize 100\r\n",
       "skinparam wrapWidth 300\r\n",
       "hide circle\r\n",
       "\r\n",
       "@enduml\r\n",
       "\n",
       "PlantUML version 1.2020.13(Sat Jun 13 12:26:38 UTC 2020)\n",
       "(EPL source distribution)\n",
       "Java Runtime: OpenJDK Runtime Environment\n",
       "JVM: OpenJDK 64-Bit Server VM\n",
       "Default Encoding: UTF-8\n",
       "Language: en\n",
       "Country: null\n",
       "--></g></svg>"
      ]
     },
     "execution_count": 28,
     "metadata": {},
     "output_type": "execute_result"
    }
   ],
   "source": [
    "%viz --style=\"STDCOLOR\" --view=\"Sequence\" \"TextualRepresentationTest\""
   ]
  },
  {
   "cell_type": "code",
   "execution_count": 29,
   "id": "b16a04fd",
   "metadata": {
    "execution": {
     "iopub.execute_input": "2022-08-19T08:20:11.928906Z",
     "iopub.status.busy": "2022-08-19T08:20:11.928400Z",
     "iopub.status.idle": "2022-08-19T08:20:11.969955Z",
     "shell.execute_reply": "2022-08-19T08:20:11.969536Z"
    }
   },
   "outputs": [
    {
     "data": {
      "image/svg+xml": [
       "<?xml version=\"1.0\" encoding=\"UTF-8\" standalone=\"no\"?><svg xmlns=\"http://www.w3.org/2000/svg\" xmlns:xlink=\"http://www.w3.org/1999/xlink\" contentScriptType=\"application/ecmascript\" contentStyleType=\"text/css\" height=\"261px\" preserveAspectRatio=\"none\" style=\"width:351px;height:261px;\" version=\"1.1\" viewBox=\"0 0 351 261\" width=\"351px\" zoomAndPan=\"magnify\"><defs><filter height=\"300%\" id=\"f1x0tc9a52pgo7\" width=\"300%\" x=\"-1\" y=\"-1\"><feGaussianBlur result=\"blurOut\" stdDeviation=\"2.0\"/><feColorMatrix in=\"blurOut\" result=\"blurOut2\" type=\"matrix\" values=\"0 0 0 0 0 0 0 0 0 0 0 0 0 0 0 0 0 0 .4 0\"/><feOffset dx=\"4.0\" dy=\"4.0\" in=\"blurOut2\" result=\"blurOut3\"/><feBlend in=\"SourceGraphic\" in2=\"blurOut3\" mode=\"normal\"/></filter></defs><g><!--MD5=[fbc87193dbaf4d95561dea2c320d4a47]\n",
       "cluster E1--><a href=\"psysml:a059710d-e8aa-4b22-8023-1459b734d0f7\" target=\"_top\" title=\"psysml:a059710d-e8aa-4b22-8023-1459b734d0f7\" xlink:actuate=\"onRequest\" xlink:href=\"psysml:a059710d-e8aa-4b22-8023-1459b734d0f7\" xlink:show=\"new\" xlink:title=\"psysml:a059710d-e8aa-4b22-8023-1459b734d0f7\" xlink:type=\"simple\"><polygon fill=\"#FFFFFF\" filter=\"url(#f1x0tc9a52pgo7)\" points=\"16,6,210,6,217,28.2969,329,28.2969,329,249.5,16,249.5,16,6\" style=\"stroke: #000000; stroke-width: 1.5;\"/><line style=\"stroke: #000000; stroke-width: 1.5;\" x1=\"16\" x2=\"217\" y1=\"28.2969\" y2=\"28.2969\"/><text fill=\"#000000\" font-family=\"sans-serif\" font-size=\"14\" font-weight=\"bold\" lengthAdjust=\"spacingAndGlyphs\" textLength=\"188\" x=\"20\" y=\"20.9951\">TextualRepresentationTest</text></a><!--MD5=[f6df4d0ebaf0b5dfb2ced0ae5af7c670]\n",
       "cluster E4--><a href=\"psysml:ee57fb5c-c168-4cf6-8494-2ae72f89f8ea\" target=\"_top\" title=\"psysml:ee57fb5c-c168-4cf6-8494-2ae72f89f8ea\" xlink:actuate=\"onRequest\" xlink:href=\"psysml:ee57fb5c-c168-4cf6-8494-2ae72f89f8ea\" xlink:show=\"new\" xlink:title=\"psysml:ee57fb5c-c168-4cf6-8494-2ae72f89f8ea\" xlink:type=\"simple\"><rect fill=\"#FFFFFF\" filter=\"url(#f1x0tc9a52pgo7)\" height=\"154.5\" id=\"E4\" style=\"stroke: #A80036; stroke-width: 1.5;\" width=\"134\" x=\"179\" y=\"79\"/><rect fill=\"#FEFECE\" height=\"37.9375\" style=\"stroke: #A80036; stroke-width: 1.5;\" width=\"134\" x=\"179\" y=\"79\"/><text fill=\"#000000\" font-family=\"sans-serif\" font-size=\"12\" font-style=\"italic\" lengthAdjust=\"spacingAndGlyphs\" textLength=\"81\" x=\"205.5\" y=\"95.1387\">«action  def»</text><text fill=\"#000000\" font-family=\"sans-serif\" font-size=\"12\" lengthAdjust=\"spacingAndGlyphs\" textLength=\"27\" x=\"232.5\" y=\"109.1074\">setX</text></a><!--MD5=[b4997ac47864f28c2f74865a473b2911]\n",
       "class E2--><a href=\"psysml:a14c26f5-bb93-4792-a45e-179361bfe6e1\" target=\"_top\" title=\"psysml:a14c26f5-bb93-4792-a45e-179361bfe6e1\" xlink:actuate=\"onRequest\" xlink:href=\"psysml:a14c26f5-bb93-4792-a45e-179361bfe6e1\" xlink:show=\"new\" xlink:title=\"psysml:a14c26f5-bb93-4792-a45e-179361bfe6e1\" xlink:type=\"simple\"><rect fill=\"#FEFECE\" filter=\"url(#f1x0tc9a52pgo7)\" height=\"75.5469\" id=\"E2\" style=\"stroke: #A80036; stroke-width: 1.5;\" width=\"71\" x=\"58.5\" y=\"41\"/><text fill=\"#000000\" font-family=\"sans-serif\" font-size=\"12\" font-style=\"italic\" lengthAdjust=\"spacingAndGlyphs\" textLength=\"69\" x=\"59.5\" y=\"57.1387\">«item  def»</text><text fill=\"#000000\" font-family=\"sans-serif\" font-size=\"12\" lengthAdjust=\"spacingAndGlyphs\" textLength=\"8\" x=\"90\" y=\"71.1074\">C</text><line style=\"stroke: #A80036; stroke-width: 1.5;\" x1=\"59.5\" x2=\"128.5\" y1=\"78.9375\" y2=\"78.9375\"/><text fill=\"#000000\" font-family=\"sans-serif\" font-size=\"11\" lengthAdjust=\"spacingAndGlyphs\" textLength=\"38\" x=\"64.5\" y=\"109.9526\">x: Real</text><line style=\"stroke: #A80036; stroke-width: 1.0;\" x1=\"59.5\" x2=\"66.5\" y1=\"93.3398\" y2=\"93.3398\"/><text fill=\"#000000\" font-family=\"sans-serif\" font-size=\"11\" lengthAdjust=\"spacingAndGlyphs\" textLength=\"55\" x=\"66.5\" y=\"96.6479\">attributes</text><line style=\"stroke: #A80036; stroke-width: 1.0;\" x1=\"121.5\" x2=\"128.5\" y1=\"93.3398\" y2=\"93.3398\"/></a><!--MD5=[09b614a08d8cba4a07c9adeb5e0fee81]\n",
       "class E3--><a href=\"psysml:b9ffc3c6-eeca-4712-be2d-56262eb1e98d\" target=\"_top\" title=\"psysml:b9ffc3c6-eeca-4712-be2d-56262eb1e98d\" xlink:actuate=\"onRequest\" xlink:href=\"psysml:b9ffc3c6-eeca-4712-be2d-56262eb1e98d\" xlink:show=\"new\" xlink:title=\"psysml:b9ffc3c6-eeca-4712-be2d-56262eb1e98d\" xlink:type=\"simple\"><rect fill=\"#FEFECE\" filter=\"url(#f1x0tc9a52pgo7)\" height=\"45.9375\" id=\"E3\" rx=\"10\" ry=\"10\" style=\"stroke: #A80036; stroke-width: 1.5;\" width=\"124\" x=\"32\" y=\"177\"/><text fill=\"#000000\" font-family=\"sans-serif\" font-size=\"12\" font-style=\"italic\" lengthAdjust=\"spacingAndGlyphs\" textLength=\"122\" x=\"33\" y=\"193.1387\">«assert constraint»</text><text fill=\"#000000\" font-family=\"sans-serif\" font-size=\"12\" lengthAdjust=\"spacingAndGlyphs\" textLength=\"76\" x=\"54\" y=\"207.1074\">x_constraint</text><line style=\"stroke: #A80036; stroke-width: 1.5;\" x1=\"33\" x2=\"155\" y1=\"214.9375\" y2=\"214.9375\"/></a><text fill=\"#000000\" font-family=\"sans-serif\" font-size=\"14\" lengthAdjust=\"spacingAndGlyphs\" textLength=\"8\" x=\"193\" y=\"57.6982\">c</text><rect fill=\"#A80036\" height=\"12\" style=\"stroke: #FEFECE; stroke-width: 1.5;\" width=\"12\" x=\"191\" y=\"73\"/><text fill=\"#000000\" font-family=\"sans-serif\" font-size=\"14\" lengthAdjust=\"spacingAndGlyphs\" textLength=\"38\" x=\"225\" y=\"57.6982\">newX</text><rect fill=\"#A80036\" height=\"12\" style=\"stroke: #FEFECE; stroke-width: 1.5;\" width=\"12\" x=\"238\" y=\"73\"/><!--MD5=[209b3feb70ccb6233bfe1053d122c12c]\n",
       "reverse link E2 to E3--><a href=\"psysml:25bb36ff-df1f-4894-9e3f-bec813bc6d8c\" target=\"_top\" title=\"psysml:25bb36ff-df1f-4894-9e3f-bec813bc6d8c\" xlink:actuate=\"onRequest\" xlink:href=\"psysml:25bb36ff-df1f-4894-9e3f-bec813bc6d8c\" xlink:show=\"new\" xlink:title=\"psysml:25bb36ff-df1f-4894-9e3f-bec813bc6d8c\" xlink:type=\"simple\"><path d=\"M94,130.34 C94,146.61 94,163.81 94,176.93 \" fill=\"none\" id=\"E2&lt;-E3\" style=\"stroke: #A80036; stroke-width: 1.0;\"/><polygon fill=\"#FFFFFF\" points=\"94,117,90,123,94,129,98,123,94,117\" style=\"stroke: #A80036; stroke-width: 1.0;\"/><text fill=\"#000000\" font-family=\"sans-serif\" font-size=\"13\" lengthAdjust=\"spacingAndGlyphs\" textLength=\"7\" x=\"86.0594\" y=\"165.8075\">*</text></a><!--MD5=[ff1c61cb5f15bdc4e40063eb2a31c763]\n",
       "@startuml\r\n",
       "skinparam wrapWidth 300\r\n",
       "hide circle\r\n",
       "\r\n",
       "package \"TextualRepresentationTest\" as E1  [[psysml:a059710d-e8aa-4b22-8023-1459b734d0f7 ]]  {\r\n",
       "comp def \"C\" as E2  <<(T,blue) item  def>> [[psysml:a14c26f5-bb93-4792-a45e-179361bfe6e1 ]] {\r\n",
       "- - attributes - -\r\n",
       "x: Real\r\n",
       "}\r\n",
       "comp usage \"x_constraint \" as E3  <<(T,blue) assert constraint>> [[psysml:b9ffc3c6-eeca-4712-be2d-56262eb1e98d ]] {\r\n",
       "}\r\n",
       "rec def \"setX\" as E4  <<(T,blue) action  def>> [[psysml:ee57fb5c-c168-4cf6-8494-2ae72f89f8ea ]] {\r\n",
       "portin \"c\" as E5  [[psysml:e345a4af-2fbe-4f5b-aa1f-c95f9761e116 ]] \r\n",
       "portin \"newX\" as E6  [[psysml:bef11b08-4405-4f10-b98d-dfe807135273 ]] \r\n",
       "}\r\n",
       "\r\n",
       "}\r\n",
       "E2 o- - \"*\"E3 [[psysml:25bb36ff-df1f-4894-9e3f-bec813bc6d8c ]] \r\n",
       "@enduml\r\n",
       "\n",
       "PlantUML version 1.2020.13(Sat Jun 13 12:26:38 UTC 2020)\n",
       "(EPL source distribution)\n",
       "Java Runtime: OpenJDK Runtime Environment\n",
       "JVM: OpenJDK 64-Bit Server VM\n",
       "Default Encoding: UTF-8\n",
       "Language: en\n",
       "Country: null\n",
       "--></g></svg>"
      ]
     },
     "execution_count": 29,
     "metadata": {},
     "output_type": "execute_result"
    }
   ],
   "source": [
    "%viz --style=\"STDCOLOR\" --view=\"MIXED\" \"TextualRepresentationTest\""
   ]
  },
  {
   "cell_type": "code",
   "execution_count": 30,
   "id": "6722ca5c",
   "metadata": {
    "execution": {
     "iopub.execute_input": "2022-08-19T08:20:12.019661Z",
     "iopub.status.busy": "2022-08-19T08:20:12.019192Z",
     "iopub.status.idle": "2022-08-19T08:20:12.083828Z",
     "shell.execute_reply": "2022-08-19T08:20:12.083397Z"
    }
   },
   "outputs": [
    {
     "data": {
      "image/svg+xml": [
       "<?xml version=\"1.0\" encoding=\"UTF-8\" standalone=\"no\"?><svg xmlns=\"http://www.w3.org/2000/svg\" xmlns:xlink=\"http://www.w3.org/1999/xlink\" contentScriptType=\"application/ecmascript\" contentStyleType=\"text/css\" height=\"255px\" preserveAspectRatio=\"none\" style=\"width:377px;height:255px;\" version=\"1.1\" viewBox=\"0 0 377 255\" width=\"377px\" zoomAndPan=\"magnify\"><defs><filter height=\"300%\" id=\"ff72snpdt7oc0\" width=\"300%\" x=\"-1\" y=\"-1\"><feGaussianBlur result=\"blurOut\" stdDeviation=\"2.0\"/><feColorMatrix in=\"blurOut\" result=\"blurOut2\" type=\"matrix\" values=\"0 0 0 0 0 0 0 0 0 0 0 0 0 0 0 0 0 0 .4 0\"/><feOffset dx=\"4.0\" dy=\"4.0\" in=\"blurOut2\" result=\"blurOut3\"/><feBlend in=\"SourceGraphic\" in2=\"blurOut3\" mode=\"normal\"/></filter></defs><g><!--MD5=[fbc87193dbaf4d95561dea2c320d4a47]\n",
       "cluster E1--><a href=\"psysml:a059710d-e8aa-4b22-8023-1459b734d0f7\" target=\"_top\" title=\"psysml:a059710d-e8aa-4b22-8023-1459b734d0f7\" xlink:actuate=\"onRequest\" xlink:href=\"psysml:a059710d-e8aa-4b22-8023-1459b734d0f7\" xlink:show=\"new\" xlink:title=\"psysml:a059710d-e8aa-4b22-8023-1459b734d0f7\" xlink:type=\"simple\"><polygon fill=\"#FFFFFF\" filter=\"url(#ff72snpdt7oc0)\" points=\"16,6,210,6,217,28.2969,355,28.2969,355,243.5,16,243.5,16,6\" style=\"stroke: #000000; stroke-width: 1.5;\"/><line style=\"stroke: #000000; stroke-width: 1.5;\" x1=\"16\" x2=\"217\" y1=\"28.2969\" y2=\"28.2969\"/><text fill=\"#000000\" font-family=\"sans-serif\" font-size=\"14\" font-weight=\"bold\" lengthAdjust=\"spacingAndGlyphs\" textLength=\"188\" x=\"20\" y=\"20.9951\">TextualRepresentationTest</text></a><!--MD5=[f6df4d0ebaf0b5dfb2ced0ae5af7c670]\n",
       "cluster E4--><a href=\"psysml:ee57fb5c-c168-4cf6-8494-2ae72f89f8ea\" target=\"_top\" title=\"psysml:ee57fb5c-c168-4cf6-8494-2ae72f89f8ea\" xlink:actuate=\"onRequest\" xlink:href=\"psysml:ee57fb5c-c168-4cf6-8494-2ae72f89f8ea\" xlink:show=\"new\" xlink:title=\"psysml:ee57fb5c-c168-4cf6-8494-2ae72f89f8ea\" xlink:type=\"simple\"><rect fill=\"#FFFFFF\" filter=\"url(#ff72snpdt7oc0)\" height=\"151.5\" id=\"E4\" style=\"stroke: #A80036; stroke-width: 1.5;\" width=\"134\" x=\"205\" y=\"76\"/><rect fill=\"#FEFECE\" height=\"37.9375\" style=\"stroke: #A80036; stroke-width: 1.5;\" width=\"134\" x=\"205\" y=\"76\"/><text fill=\"#000000\" font-family=\"sans-serif\" font-size=\"12\" font-style=\"italic\" lengthAdjust=\"spacingAndGlyphs\" textLength=\"81\" x=\"231.5\" y=\"92.1387\">«action  def»</text><text fill=\"#000000\" font-family=\"sans-serif\" font-size=\"12\" lengthAdjust=\"spacingAndGlyphs\" textLength=\"27\" x=\"258.5\" y=\"106.1074\">setX</text></a><!--MD5=[b4997ac47864f28c2f74865a473b2911]\n",
       "class E2--><a href=\"psysml:a14c26f5-bb93-4792-a45e-179361bfe6e1\" target=\"_top\" title=\"psysml:a14c26f5-bb93-4792-a45e-179361bfe6e1\" xlink:actuate=\"onRequest\" xlink:href=\"psysml:a14c26f5-bb93-4792-a45e-179361bfe6e1\" xlink:show=\"new\" xlink:title=\"psysml:a14c26f5-bb93-4792-a45e-179361bfe6e1\" xlink:type=\"simple\"><rect fill=\"#FEFECE\" filter=\"url(#ff72snpdt7oc0)\" height=\"69.6094\" id=\"E2\" style=\"stroke: #A80036; stroke-width: 1.5;\" width=\"63\" x=\"75.5\" y=\"41\"/><ellipse cx=\"100.85\" cy=\"57\" fill=\"#008000\" rx=\"11\" ry=\"11\" style=\"stroke: #A80036; stroke-width: 1.0;\"/><path d=\"M97.725,62 L97.725,51.4063 L100.9594,51.4063 Q102.8656,51.4063 103.7719,52.1563 Q104.6938,52.9063 104.6938,54.0781 Q104.6938,54.7656 104.3031,55.4219 Q103.9281,56.0781 103.2094,56.375 Q104.0688,56.75 104.5844,57.4375 Q105.1,58.125 105.1,58.9375 Q105.1,60.3125 104.0688,61.1563 Q103.0531,62 100.9438,62 L97.725,62 Z M99.6469,55.6406 L100.8031,55.6406 Q101.9281,55.6406 102.3344,55.2656 Q102.7563,54.875 102.7563,54.25 Q102.7563,53.6719 102.3344,53.3125 Q101.9125,52.9531 100.975,52.9531 L99.6469,52.9531 L99.6469,55.6406 Z M99.6469,60.4219 L101.1469,60.4219 Q102.0531,60.4219 102.5844,60.0313 Q103.1156,59.6406 103.1156,58.8906 Q103.1156,58.125 102.6156,57.6563 Q102.1156,57.1719 100.85,57.1719 L99.6469,57.1719 L99.6469,60.4219 Z \"/><text fill=\"#000000\" font-family=\"sans-serif\" font-size=\"12\" lengthAdjust=\"spacingAndGlyphs\" textLength=\"8\" x=\"117.15\" y=\"61.1543\">C</text><line style=\"stroke: #A80036; stroke-width: 1.5;\" x1=\"76.5\" x2=\"137.5\" y1=\"73\" y2=\"73\"/><text fill=\"#000000\" font-family=\"sans-serif\" font-size=\"11\" lengthAdjust=\"spacingAndGlyphs\" textLength=\"38\" x=\"81.5\" y=\"104.0151\">x: Real</text><line style=\"stroke: #A80036; stroke-width: 1.0;\" x1=\"76.5\" x2=\"79.5\" y1=\"87.4023\" y2=\"87.4023\"/><text fill=\"#000000\" font-family=\"sans-serif\" font-size=\"11\" lengthAdjust=\"spacingAndGlyphs\" textLength=\"55\" x=\"79.5\" y=\"90.7104\">attributes</text><line style=\"stroke: #A80036; stroke-width: 1.0;\" x1=\"134.5\" x2=\"137.5\" y1=\"87.4023\" y2=\"87.4023\"/></a><!--MD5=[09b614a08d8cba4a07c9adeb5e0fee81]\n",
       "class E3--><a href=\"psysml:b9ffc3c6-eeca-4712-be2d-56262eb1e98d\" target=\"_top\" title=\"psysml:b9ffc3c6-eeca-4712-be2d-56262eb1e98d\" xlink:actuate=\"onRequest\" xlink:href=\"psysml:b9ffc3c6-eeca-4712-be2d-56262eb1e98d\" xlink:show=\"new\" xlink:title=\"psysml:b9ffc3c6-eeca-4712-be2d-56262eb1e98d\" xlink:type=\"simple\"><rect fill=\"#FEFECE\" filter=\"url(#ff72snpdt7oc0)\" height=\"45.9375\" id=\"E3\" rx=\"10\" ry=\"10\" style=\"stroke: #A80036; stroke-width: 1.5;\" width=\"150\" x=\"32\" y=\"171\"/><ellipse cx=\"47\" cy=\"189.9688\" fill=\"#FFA500\" rx=\"11\" ry=\"11\" style=\"stroke: #A80036; stroke-width: 1.0;\"/><path d=\"M46.75,195.4375 Q45,195.4375 44.0469,194.4063 Q43.1094,193.3594 43.1094,191.5156 L43.1094,184.625 L45.1719,184.625 L45.1719,184.7813 Q45.0781,184.875 45.0469,185.0156 Q45.0313,185.1406 45.0313,185.4063 L45.0313,191.5313 Q45.0313,192.625 45.4063,193.25 Q45.7813,193.875 46.7656,193.875 Q47.75,193.875 48.1406,193.25 Q48.5313,192.625 48.5313,191.4844 L48.5313,184.625 L50.4063,184.625 L50.4063,191.4688 Q50.4063,193.5 49.375,194.4688 Q48.3594,195.4375 46.75,195.4375 Z \"/><text fill=\"#000000\" font-family=\"sans-serif\" font-size=\"12\" font-style=\"italic\" lengthAdjust=\"spacingAndGlyphs\" textLength=\"122\" x=\"59\" y=\"187.1387\">«assert constraint»</text><text fill=\"#000000\" font-family=\"sans-serif\" font-size=\"12\" lengthAdjust=\"spacingAndGlyphs\" textLength=\"76\" x=\"80\" y=\"201.1074\">x_constraint</text><line style=\"stroke: #A80036; stroke-width: 1.5;\" x1=\"33\" x2=\"181\" y1=\"208.9375\" y2=\"208.9375\"/></a><text fill=\"#000000\" font-family=\"sans-serif\" font-size=\"14\" lengthAdjust=\"spacingAndGlyphs\" textLength=\"8\" x=\"219\" y=\"54.6982\">c</text><rect fill=\"#A80036\" height=\"12\" style=\"stroke: #FEFECE; stroke-width: 1.5;\" width=\"12\" x=\"217\" y=\"70\"/><text fill=\"#000000\" font-family=\"sans-serif\" font-size=\"14\" lengthAdjust=\"spacingAndGlyphs\" textLength=\"38\" x=\"251\" y=\"54.6982\">newX</text><rect fill=\"#A80036\" height=\"12\" style=\"stroke: #FEFECE; stroke-width: 1.5;\" width=\"12\" x=\"264\" y=\"70\"/><!--MD5=[209b3feb70ccb6233bfe1053d122c12c]\n",
       "reverse link E2 to E3--><a href=\"psysml:25bb36ff-df1f-4894-9e3f-bec813bc6d8c\" target=\"_top\" title=\"psysml:25bb36ff-df1f-4894-9e3f-bec813bc6d8c\" xlink:actuate=\"onRequest\" xlink:href=\"psysml:25bb36ff-df1f-4894-9e3f-bec813bc6d8c\" xlink:show=\"new\" xlink:title=\"psysml:25bb36ff-df1f-4894-9e3f-bec813bc6d8c\" xlink:type=\"simple\"><path d=\"M107,124.3 C107,140.38 107,157.6 107,170.77 \" fill=\"none\" id=\"E2&lt;-E3\" style=\"stroke: #A80036; stroke-width: 1.0;\"/><polygon fill=\"#FFFFFF\" points=\"107,111.18,103,117.18,107,123.18,111,117.18,107,111.18\" style=\"stroke: #A80036; stroke-width: 1.0;\"/><text fill=\"#000000\" font-family=\"sans-serif\" font-size=\"13\" lengthAdjust=\"spacingAndGlyphs\" textLength=\"7\" x=\"99.1031\" y=\"159.9874\">*</text></a><!--MD5=[f9f8ef3546281e7108da693402a2eba8]\n",
       "@startuml\r\n",
       " \r\n",
       "package \"TextualRepresentationTest\" as E1  [[psysml:a059710d-e8aa-4b22-8023-1459b734d0f7 ]]  {\r\n",
       "comp def \"C\" as E2 << << (B,green) >> [[psysml:a14c26f5-bb93-4792-a45e-179361bfe6e1 ]] {\r\n",
       "- - attributes - -\r\n",
       "x: Real\r\n",
       "}\r\n",
       "comp usage \"x_constraint \" as E3 << <<(U,orange) assert constraint>> [[psysml:b9ffc3c6-eeca-4712-be2d-56262eb1e98d ]] {\r\n",
       "}\r\n",
       "rec def \"setX\" as E4 << <<(B,lemonchiffon) action  def>> [[psysml:ee57fb5c-c168-4cf6-8494-2ae72f89f8ea ]] {\r\n",
       "portin \"c\" as E5  [[psysml:e345a4af-2fbe-4f5b-aa1f-c95f9761e116 ]] \r\n",
       "portin \"newX\" as E6  [[psysml:bef11b08-4405-4f10-b98d-dfe807135273 ]] \r\n",
       "}\r\n",
       "\r\n",
       "}\r\n",
       "E2 o- - \"*\"E3 [[psysml:25bb36ff-df1f-4894-9e3f-bec813bc6d8c ]] \r\n",
       "@enduml\r\n",
       "\n",
       "PlantUML version 1.2020.13(Sat Jun 13 12:26:38 UTC 2020)\n",
       "(EPL source distribution)\n",
       "Java Runtime: OpenJDK Runtime Environment\n",
       "JVM: OpenJDK 64-Bit Server VM\n",
       "Default Encoding: UTF-8\n",
       "Language: en\n",
       "Country: null\n",
       "--></g></svg>"
      ]
     },
     "execution_count": 30,
     "metadata": {},
     "output_type": "execute_result"
    }
   ],
   "source": [
    "%viz --style=\"PLANTUML\" --view=\"Default\" \"TextualRepresentationTest\""
   ]
  },
  {
   "cell_type": "code",
   "execution_count": 31,
   "id": "b4d2f2c6",
   "metadata": {
    "execution": {
     "iopub.execute_input": "2022-08-19T08:20:12.133509Z",
     "iopub.status.busy": "2022-08-19T08:20:12.133044Z",
     "iopub.status.idle": "2022-08-19T08:20:12.173107Z",
     "shell.execute_reply": "2022-08-19T08:20:12.173262Z"
    }
   },
   "outputs": [
    {
     "data": {
      "image/svg+xml": [
       "<?xml version=\"1.0\" encoding=\"UTF-8\" standalone=\"no\"?><svg xmlns=\"http://www.w3.org/2000/svg\" xmlns:xlink=\"http://www.w3.org/1999/xlink\" contentScriptType=\"application/ecmascript\" contentStyleType=\"text/css\" height=\"369px\" preserveAspectRatio=\"none\" style=\"width:242px;height:369px;\" version=\"1.1\" viewBox=\"0 0 242 369\" width=\"242px\" zoomAndPan=\"magnify\"><defs><filter height=\"300%\" id=\"f1kjouwy3rqjds\" width=\"300%\" x=\"-1\" y=\"-1\"><feGaussianBlur result=\"blurOut\" stdDeviation=\"2.0\"/><feColorMatrix in=\"blurOut\" result=\"blurOut2\" type=\"matrix\" values=\"0 0 0 0 0 0 0 0 0 0 0 0 0 0 0 0 0 0 .4 0\"/><feOffset dx=\"4.0\" dy=\"4.0\" in=\"blurOut2\" result=\"blurOut3\"/><feBlend in=\"SourceGraphic\" in2=\"blurOut3\" mode=\"normal\"/></filter></defs><g><!--MD5=[fbc87193dbaf4d95561dea2c320d4a47]\n",
       "cluster E1--><a href=\"psysml:a059710d-e8aa-4b22-8023-1459b734d0f7\" target=\"_top\" title=\"psysml:a059710d-e8aa-4b22-8023-1459b734d0f7\" xlink:actuate=\"onRequest\" xlink:href=\"psysml:a059710d-e8aa-4b22-8023-1459b734d0f7\" xlink:show=\"new\" xlink:title=\"psysml:a059710d-e8aa-4b22-8023-1459b734d0f7\" xlink:type=\"simple\"><polygon fill=\"#FFFFFF\" filter=\"url(#f1kjouwy3rqjds)\" points=\"16,6,210,6,217,28.2969,220,28.2969,220,357,16,357,16,6\" style=\"stroke: #000000; stroke-width: 1.5;\"/><line style=\"stroke: #000000; stroke-width: 1.5;\" x1=\"16\" x2=\"217\" y1=\"28.2969\" y2=\"28.2969\"/><text fill=\"#000000\" font-family=\"sans-serif\" font-size=\"14\" font-weight=\"bold\" lengthAdjust=\"spacingAndGlyphs\" textLength=\"188\" x=\"20\" y=\"20.9951\">TextualRepresentationTest</text></a><!--MD5=[b4997ac47864f28c2f74865a473b2911]\n",
       "class E2--><a href=\"psysml:a14c26f5-bb93-4792-a45e-179361bfe6e1\" target=\"_top\" title=\"psysml:a14c26f5-bb93-4792-a45e-179361bfe6e1\" xlink:actuate=\"onRequest\" xlink:href=\"psysml:a14c26f5-bb93-4792-a45e-179361bfe6e1\" xlink:show=\"new\" xlink:title=\"psysml:a14c26f5-bb93-4792-a45e-179361bfe6e1\" xlink:type=\"simple\"><rect fill=\"#FEFECE\" filter=\"url(#f1kjouwy3rqjds)\" height=\"69.6094\" id=\"E2\" style=\"stroke: #A80036; stroke-width: 1.5;\" width=\"63\" x=\"86.5\" y=\"164\"/><ellipse cx=\"111.85\" cy=\"180\" fill=\"#008000\" rx=\"11\" ry=\"11\" style=\"stroke: #A80036; stroke-width: 1.0;\"/><path d=\"M108.725,185 L108.725,174.4063 L111.9594,174.4063 Q113.8656,174.4063 114.7719,175.1563 Q115.6938,175.9063 115.6938,177.0781 Q115.6938,177.7656 115.3031,178.4219 Q114.9281,179.0781 114.2094,179.375 Q115.0688,179.75 115.5844,180.4375 Q116.1,181.125 116.1,181.9375 Q116.1,183.3125 115.0688,184.1563 Q114.0531,185 111.9438,185 L108.725,185 Z M110.6469,178.6406 L111.8031,178.6406 Q112.9281,178.6406 113.3344,178.2656 Q113.7563,177.875 113.7563,177.25 Q113.7563,176.6719 113.3344,176.3125 Q112.9125,175.9531 111.975,175.9531 L110.6469,175.9531 L110.6469,178.6406 Z M110.6469,183.4219 L112.1469,183.4219 Q113.0531,183.4219 113.5844,183.0313 Q114.1156,182.6406 114.1156,181.8906 Q114.1156,181.125 113.6156,180.6563 Q113.1156,180.1719 111.85,180.1719 L110.6469,180.1719 L110.6469,183.4219 Z \"/><text fill=\"#000000\" font-family=\"sans-serif\" font-size=\"12\" lengthAdjust=\"spacingAndGlyphs\" textLength=\"8\" x=\"128.15\" y=\"184.1543\">C</text><line style=\"stroke: #A80036; stroke-width: 1.5;\" x1=\"87.5\" x2=\"148.5\" y1=\"196\" y2=\"196\"/><text fill=\"#000000\" font-family=\"sans-serif\" font-size=\"11\" lengthAdjust=\"spacingAndGlyphs\" textLength=\"38\" x=\"92.5\" y=\"227.0151\">x: Real</text><line style=\"stroke: #A80036; stroke-width: 1.0;\" x1=\"87.5\" x2=\"90.5\" y1=\"210.4023\" y2=\"210.4023\"/><text fill=\"#000000\" font-family=\"sans-serif\" font-size=\"11\" lengthAdjust=\"spacingAndGlyphs\" textLength=\"55\" x=\"90.5\" y=\"213.7104\">attributes</text><line style=\"stroke: #A80036; stroke-width: 1.0;\" x1=\"145.5\" x2=\"148.5\" y1=\"210.4023\" y2=\"210.4023\"/></a><!--MD5=[09b614a08d8cba4a07c9adeb5e0fee81]\n",
       "class E3--><a href=\"psysml:b9ffc3c6-eeca-4712-be2d-56262eb1e98d\" target=\"_top\" title=\"psysml:b9ffc3c6-eeca-4712-be2d-56262eb1e98d\" xlink:actuate=\"onRequest\" xlink:href=\"psysml:b9ffc3c6-eeca-4712-be2d-56262eb1e98d\" xlink:show=\"new\" xlink:title=\"psysml:b9ffc3c6-eeca-4712-be2d-56262eb1e98d\" xlink:type=\"simple\"><rect fill=\"#FEFECE\" filter=\"url(#f1kjouwy3rqjds)\" height=\"45.9375\" id=\"E3\" rx=\"10\" ry=\"10\" style=\"stroke: #A80036; stroke-width: 1.5;\" width=\"150\" x=\"43\" y=\"295\"/><ellipse cx=\"58\" cy=\"313.9688\" fill=\"#FFA500\" rx=\"11\" ry=\"11\" style=\"stroke: #A80036; stroke-width: 1.0;\"/><path d=\"M57.75,319.4375 Q56,319.4375 55.0469,318.4063 Q54.1094,317.3594 54.1094,315.5156 L54.1094,308.625 L56.1719,308.625 L56.1719,308.7813 Q56.0781,308.875 56.0469,309.0156 Q56.0313,309.1406 56.0313,309.4063 L56.0313,315.5313 Q56.0313,316.625 56.4063,317.25 Q56.7813,317.875 57.7656,317.875 Q58.75,317.875 59.1406,317.25 Q59.5313,316.625 59.5313,315.4844 L59.5313,308.625 L61.4063,308.625 L61.4063,315.4688 Q61.4063,317.5 60.375,318.4688 Q59.3594,319.4375 57.75,319.4375 Z \"/><text fill=\"#000000\" font-family=\"sans-serif\" font-size=\"12\" font-style=\"italic\" lengthAdjust=\"spacingAndGlyphs\" textLength=\"122\" x=\"70\" y=\"311.1387\">«assert constraint»</text><text fill=\"#000000\" font-family=\"sans-serif\" font-size=\"12\" lengthAdjust=\"spacingAndGlyphs\" textLength=\"76\" x=\"91\" y=\"325.1074\">x_constraint</text><line style=\"stroke: #A80036; stroke-width: 1.5;\" x1=\"44\" x2=\"192\" y1=\"332.9375\" y2=\"332.9375\"/></a><!--MD5=[ebbe1d658d1005bcc118a6aa81145e00]\n",
       "class E4--><a href=\"psysml:ee57fb5c-c168-4cf6-8494-2ae72f89f8ea\" target=\"_top\" title=\"psysml:ee57fb5c-c168-4cf6-8494-2ae72f89f8ea\" xlink:actuate=\"onRequest\" xlink:href=\"psysml:ee57fb5c-c168-4cf6-8494-2ae72f89f8ea\" xlink:show=\"new\" xlink:title=\"psysml:ee57fb5c-c168-4cf6-8494-2ae72f89f8ea\" xlink:type=\"simple\"><rect fill=\"#FEFECE\" filter=\"url(#f1kjouwy3rqjds)\" height=\"45.9375\" id=\"E4\" style=\"stroke: #A80036; stroke-width: 1.5;\" width=\"109\" x=\"63.5\" y=\"41\"/><ellipse cx=\"78.5\" cy=\"59.9688\" fill=\"#FFFACD\" rx=\"11\" ry=\"11\" style=\"stroke: #A80036; stroke-width: 1.0;\"/><path d=\"M75.375,64.9688 L75.375,54.375 L78.6094,54.375 Q80.5156,54.375 81.4219,55.125 Q82.3438,55.875 82.3438,57.0469 Q82.3438,57.7344 81.9531,58.3906 Q81.5781,59.0469 80.8594,59.3438 Q81.7188,59.7188 82.2344,60.4063 Q82.75,61.0938 82.75,61.9063 Q82.75,63.2813 81.7188,64.125 Q80.7031,64.9688 78.5938,64.9688 L75.375,64.9688 Z M77.2969,58.6094 L78.4531,58.6094 Q79.5781,58.6094 79.9844,58.2344 Q80.4063,57.8438 80.4063,57.2188 Q80.4063,56.6406 79.9844,56.2813 Q79.5625,55.9219 78.625,55.9219 L77.2969,55.9219 L77.2969,58.6094 Z M77.2969,63.3906 L78.7969,63.3906 Q79.7031,63.3906 80.2344,63 Q80.7656,62.6094 80.7656,61.8594 Q80.7656,61.0938 80.2656,60.625 Q79.7656,60.1406 78.5,60.1406 L77.2969,60.1406 L77.2969,63.3906 Z \"/><text fill=\"#000000\" font-family=\"sans-serif\" font-size=\"12\" font-style=\"italic\" lengthAdjust=\"spacingAndGlyphs\" textLength=\"81\" x=\"90.5\" y=\"57.1387\">«action  def»</text><text fill=\"#000000\" font-family=\"sans-serif\" font-size=\"12\" lengthAdjust=\"spacingAndGlyphs\" textLength=\"27\" x=\"117.5\" y=\"71.1074\">setX</text><line style=\"stroke: #A80036; stroke-width: 1.5;\" x1=\"64.5\" x2=\"171.5\" y1=\"78.9375\" y2=\"78.9375\"/></a><!--MD5=[209b3feb70ccb6233bfe1053d122c12c]\n",
       "reverse link E2 to E3--><a href=\"psysml:25bb36ff-df1f-4894-9e3f-bec813bc6d8c\" target=\"_top\" title=\"psysml:25bb36ff-df1f-4894-9e3f-bec813bc6d8c\" xlink:actuate=\"onRequest\" xlink:href=\"psysml:25bb36ff-df1f-4894-9e3f-bec813bc6d8c\" xlink:show=\"new\" xlink:title=\"psysml:25bb36ff-df1f-4894-9e3f-bec813bc6d8c\" xlink:type=\"simple\"><path d=\"M118,247.51 C118,263.88 118,281.44 118,294.81 \" fill=\"none\" id=\"E2&lt;-E3\" style=\"stroke: #A80036; stroke-width: 1.0;\"/><polygon fill=\"#FFFFFF\" points=\"118,234.16,114,240.16,118,246.16,122,240.16,118,234.16\" style=\"stroke: #A80036; stroke-width: 1.0;\"/><text fill=\"#000000\" font-family=\"sans-serif\" font-size=\"13\" lengthAdjust=\"spacingAndGlyphs\" textLength=\"7\" x=\"110.1031\" y=\"284.0376\">*</text></a><!--MD5=[ddeed8deb2209213b62e6cfabaa108b2]\n",
       "reverse link E4 to E2--><a href=\"psysml:e345a4af-2fbe-4f5b-aa1f-c95f9761e116\" target=\"_top\" title=\"psysml:e345a4af-2fbe-4f5b-aa1f-c95f9761e116\" xlink:actuate=\"onRequest\" xlink:href=\"psysml:e345a4af-2fbe-4f5b-aa1f-c95f9761e116\" xlink:show=\"new\" xlink:title=\"psysml:e345a4af-2fbe-4f5b-aa1f-c95f9761e116\" xlink:type=\"simple\"><path d=\"M118,100.33 C118,120.02 118,144.43 118,163.92 \" fill=\"none\" id=\"E4&lt;-E2\" style=\"stroke: #A80036; stroke-width: 1.0;\"/><polygon fill=\"#FFFFFF\" points=\"118,87.26,114,93.26,118,99.26,122,93.26,118,87.26\" style=\"stroke: #A80036; stroke-width: 1.0;\"/><text fill=\"#000000\" font-family=\"sans-serif\" font-size=\"13\" lengthAdjust=\"spacingAndGlyphs\" textLength=\"7\" x=\"119\" y=\"130.0669\">c</text></a><!--MD5=[5c95fc7c57bdb1898ea8feced7e3e30e]\n",
       "@startuml\r\n",
       " \r\n",
       "package \"TextualRepresentationTest\" as E1  [[psysml:a059710d-e8aa-4b22-8023-1459b734d0f7 ]]  {\r\n",
       "comp def \"C\" as E2 << << (B,green) >> [[psysml:a14c26f5-bb93-4792-a45e-179361bfe6e1 ]] {\r\n",
       "- - attributes - -\r\n",
       "x: Real\r\n",
       "}\r\n",
       "comp usage \"x_constraint \" as E3 << <<(U,orange) assert constraint>> [[psysml:b9ffc3c6-eeca-4712-be2d-56262eb1e98d ]] {\r\n",
       "}\r\n",
       "comp def \"setX\" as E4 << <<(B,lemonchiffon) action  def>> [[psysml:ee57fb5c-c168-4cf6-8494-2ae72f89f8ea ]] {\r\n",
       "}\r\n",
       "}\r\n",
       "E2 o- - \"*\"E3 [[psysml:25bb36ff-df1f-4894-9e3f-bec813bc6d8c ]] \r\n",
       "E4 o- - E2 [[psysml:e345a4af-2fbe-4f5b-aa1f-c95f9761e116 ]] : c\r\n",
       "@enduml\r\n",
       "\n",
       "PlantUML version 1.2020.13(Sat Jun 13 12:26:38 UTC 2020)\n",
       "(EPL source distribution)\n",
       "Java Runtime: OpenJDK Runtime Environment\n",
       "JVM: OpenJDK 64-Bit Server VM\n",
       "Default Encoding: UTF-8\n",
       "Language: en\n",
       "Country: null\n",
       "--></g></svg>"
      ]
     },
     "execution_count": 31,
     "metadata": {},
     "output_type": "execute_result"
    }
   ],
   "source": [
    "%viz --style=\"PLANTUML\" --view=\"Tree\" \"TextualRepresentationTest\""
   ]
  },
  {
   "cell_type": "code",
   "execution_count": 32,
   "id": "2e8dfff1",
   "metadata": {
    "execution": {
     "iopub.execute_input": "2022-08-19T08:20:12.223712Z",
     "iopub.status.busy": "2022-08-19T08:20:12.223338Z",
     "iopub.status.idle": "2022-08-19T08:20:12.314942Z",
     "shell.execute_reply": "2022-08-19T08:20:12.313581Z"
    }
   },
   "outputs": [
    {
     "data": {
      "image/svg+xml": [
       "<?xml version=\"1.0\" encoding=\"UTF-8\" standalone=\"no\"?><svg xmlns=\"http://www.w3.org/2000/svg\" xmlns:xlink=\"http://www.w3.org/1999/xlink\" contentScriptType=\"application/ecmascript\" contentStyleType=\"text/css\" height=\"300px\" preserveAspectRatio=\"none\" style=\"width:603px;height:300px;background:#000000;\" version=\"1.1\" viewBox=\"0 0 603 300\" width=\"603px\" zoomAndPan=\"magnify\"><defs/><g><rect fill=\"#011814\" height=\"1\" style=\"stroke: #011814; stroke-width: 1.0;\" width=\"1\" x=\"0\" y=\"0\"/><rect fill=\"#FFFFFF\" height=\"202.8012\" style=\"stroke: #FFFFFF; stroke-width: 1.0;\" width=\"602\" x=\"0\" y=\"0\"/><text fill=\"#000000\" font-family=\"sans-serif\" font-size=\"12\" font-weight=\"bold\" lengthAdjust=\"spacingAndGlyphs\" textLength=\"139\" x=\"5\" y=\"16.1387\">Welcome to PlantUML!</text><text fill=\"#000000\" font-family=\"sans-serif\" font-size=\"12\" lengthAdjust=\"spacingAndGlyphs\" textLength=\"0\" x=\"9\" y=\"30.1074\"/><text fill=\"#000000\" font-family=\"sans-serif\" font-size=\"12\" lengthAdjust=\"spacingAndGlyphs\" textLength=\"293\" x=\"5\" y=\"44.0762\">If you use this software, you accept its license.</text><text fill=\"#000000\" font-family=\"sans-serif\" font-size=\"12\" lengthAdjust=\"spacingAndGlyphs\" textLength=\"107\" x=\"5\" y=\"58.0449\">(details by typing</text><text fill=\"#000000\" font-family=\"monospace\" font-size=\"12\" lengthAdjust=\"spacingAndGlyphs\" textLength=\"42\" x=\"116\" y=\"58.595\">license</text><text fill=\"#000000\" font-family=\"sans-serif\" font-size=\"12\" lengthAdjust=\"spacingAndGlyphs\" textLength=\"56\" x=\"162\" y=\"58.0449\">keyword)</text><text fill=\"#000000\" font-family=\"sans-serif\" font-size=\"12\" lengthAdjust=\"spacingAndGlyphs\" textLength=\"0\" x=\"9\" y=\"72.0137\"/><text fill=\"#000000\" font-family=\"sans-serif\" font-size=\"12\" lengthAdjust=\"spacingAndGlyphs\" textLength=\"283\" x=\"5\" y=\"85.9824\">You can start with a simple UML Diagram like:</text><text fill=\"#000000\" font-family=\"sans-serif\" font-size=\"12\" lengthAdjust=\"spacingAndGlyphs\" textLength=\"0\" x=\"9\" y=\"99.9512\"/><text fill=\"#000000\" font-family=\"monospace\" font-size=\"12\" lengthAdjust=\"spacingAndGlyphs\" textLength=\"102\" x=\"5\" y=\"113.0893\">Bob-&gt;Alice: Hello</text><text fill=\"#000000\" font-family=\"sans-serif\" font-size=\"12\" lengthAdjust=\"spacingAndGlyphs\" textLength=\"0\" x=\"9\" y=\"126.508\"/><text fill=\"#000000\" font-family=\"sans-serif\" font-size=\"12\" lengthAdjust=\"spacingAndGlyphs\" textLength=\"14\" x=\"5\" y=\"140.4768\">Or</text><text fill=\"#000000\" font-family=\"sans-serif\" font-size=\"12\" lengthAdjust=\"spacingAndGlyphs\" textLength=\"0\" x=\"9\" y=\"154.4455\"/><text fill=\"#000000\" font-family=\"monospace\" font-size=\"12\" lengthAdjust=\"spacingAndGlyphs\" textLength=\"78\" x=\"5\" y=\"167.5837\">class Example</text><text fill=\"#000000\" font-family=\"sans-serif\" font-size=\"12\" lengthAdjust=\"spacingAndGlyphs\" textLength=\"0\" x=\"9\" y=\"181.0023\"/><text fill=\"#000000\" font-family=\"sans-serif\" font-size=\"12\" lengthAdjust=\"spacingAndGlyphs\" textLength=\"349\" x=\"5\" y=\"194.9711\">You will find more information about PlantUML syntax on</text><text fill=\"#000000\" font-family=\"sans-serif\" font-size=\"12\" lengthAdjust=\"spacingAndGlyphs\" text-decoration=\"underline\" textLength=\"129\" x=\"358\" y=\"194.9711\">https://plantuml.com</text><image height=\"71\" width=\"80\" x=\"516\" xlink:href=\"data:image/png;base64,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\" y=\"6\"/><rect fill=\"#000000\" height=\"96.4844\" style=\"stroke: #000000; stroke-width: 1.0;\" width=\"602\" x=\"0\" y=\"202.8012\"/><rect fill=\"#33FF02\" height=\"21.2969\" style=\"stroke: #33FF02; stroke-width: 1.0;\" width=\"145\" x=\"5\" y=\"207.8012\"/><text fill=\"#000000\" font-family=\"sans-serif\" font-size=\"14\" font-weight=\"bold\" lengthAdjust=\"spacingAndGlyphs\" textLength=\"143\" x=\"6\" y=\"222.8012\">[From string (line 2) ]</text><text fill=\"#33FF02\" font-family=\"sans-serif\" font-size=\"14\" font-weight=\"bold\" lengthAdjust=\"spacingAndGlyphs\" textLength=\"0\" x=\"9\" y=\"243.0981\"/><text fill=\"#33FF02\" font-family=\"sans-serif\" font-size=\"14\" font-weight=\"bold\" lengthAdjust=\"spacingAndGlyphs\" textLength=\"70\" x=\"5\" y=\"259.3949\">@startuml</text><text fill=\"#33FF02\" font-family=\"sans-serif\" font-size=\"14\" font-weight=\"bold\" lengthAdjust=\"spacingAndGlyphs\" textLength=\"0\" x=\"9\" y=\"275.6918\"/><text fill=\"#FF0000\" font-family=\"sans-serif\" font-size=\"14\" font-weight=\"bold\" lengthAdjust=\"spacingAndGlyphs\" textLength=\"124\" x=\"9\" y=\"291.9887\">Empty description</text><!--MD5=[f59edd8218d337f74d0c332fc6737304]\n",
       "@startuml\r\n",
       " \r\n",
       "@enduml\r\n",
       "\n",
       "PlantUML version 1.2020.13(Sat Jun 13 12:26:38 UTC 2020)\n",
       "(EPL source distribution)\n",
       "Java Runtime: OpenJDK Runtime Environment\n",
       "JVM: OpenJDK 64-Bit Server VM\n",
       "Default Encoding: UTF-8\n",
       "Language: en\n",
       "Country: null\n",
       "--></g></svg>"
      ]
     },
     "execution_count": 32,
     "metadata": {},
     "output_type": "execute_result"
    }
   ],
   "source": [
    "%viz --style=\"PLANTUML\" --view=\"State\" \"TextualRepresentationTest\""
   ]
  },
  {
   "cell_type": "code",
   "execution_count": 33,
   "id": "f9754ca9",
   "metadata": {
    "execution": {
     "iopub.execute_input": "2022-08-19T08:20:12.364489Z",
     "iopub.status.busy": "2022-08-19T08:20:12.364021Z",
     "iopub.status.idle": "2022-08-19T08:20:12.389304Z",
     "shell.execute_reply": "2022-08-19T08:20:12.388667Z"
    }
   },
   "outputs": [
    {
     "data": {
      "image/svg+xml": [
       "<?xml version=\"1.0\" encoding=\"UTF-8\" standalone=\"no\"?><svg xmlns=\"http://www.w3.org/2000/svg\" xmlns:xlink=\"http://www.w3.org/1999/xlink\" contentScriptType=\"application/ecmascript\" contentStyleType=\"text/css\" height=\"176px\" preserveAspectRatio=\"none\" style=\"width:266px;height:176px;\" version=\"1.1\" viewBox=\"0 0 266 176\" width=\"266px\" zoomAndPan=\"magnify\"><defs><filter height=\"300%\" id=\"f1nhyoks7fzw7y\" width=\"300%\" x=\"-1\" y=\"-1\"><feGaussianBlur result=\"blurOut\" stdDeviation=\"2.0\"/><feColorMatrix in=\"blurOut\" result=\"blurOut2\" type=\"matrix\" values=\"0 0 0 0 0 0 0 0 0 0 0 0 0 0 0 0 0 0 .4 0\"/><feOffset dx=\"4.0\" dy=\"4.0\" in=\"blurOut2\" result=\"blurOut3\"/><feBlend in=\"SourceGraphic\" in2=\"blurOut3\" mode=\"normal\"/></filter></defs><g><!--MD5=[fbc87193dbaf4d95561dea2c320d4a47]\n",
       "cluster E1--><a href=\"psysml:a059710d-e8aa-4b22-8023-1459b734d0f7\" target=\"_top\" title=\"psysml:a059710d-e8aa-4b22-8023-1459b734d0f7\" xlink:actuate=\"onRequest\" xlink:href=\"psysml:a059710d-e8aa-4b22-8023-1459b734d0f7\" xlink:show=\"new\" xlink:title=\"psysml:a059710d-e8aa-4b22-8023-1459b734d0f7\" xlink:type=\"simple\"><polygon fill=\"#FFFFFF\" filter=\"url(#f1nhyoks7fzw7y)\" points=\"16,6,210,6,217,28.2969,244,28.2969,244,164,16,164,16,6\" style=\"stroke: #000000; stroke-width: 1.5;\"/><line style=\"stroke: #000000; stroke-width: 1.5;\" x1=\"16\" x2=\"217\" y1=\"28.2969\" y2=\"28.2969\"/><text fill=\"#000000\" font-family=\"sans-serif\" font-size=\"14\" font-weight=\"bold\" lengthAdjust=\"spacingAndGlyphs\" textLength=\"188\" x=\"20\" y=\"20.9951\">TextualRepresentationTest</text></a><!--MD5=[d5e69f78d87373223dbae638b30a9c99]\n",
       "cluster E3--><a href=\"psysml:ee57fb5c-c168-4cf6-8494-2ae72f89f8ea\" target=\"_top\" title=\"psysml:ee57fb5c-c168-4cf6-8494-2ae72f89f8ea\" xlink:actuate=\"onRequest\" xlink:href=\"psysml:ee57fb5c-c168-4cf6-8494-2ae72f89f8ea\" xlink:show=\"new\" xlink:title=\"psysml:ee57fb5c-c168-4cf6-8494-2ae72f89f8ea\" xlink:type=\"simple\"><rect fill=\"#FFFFFF\" filter=\"url(#f1nhyoks7fzw7y)\" height=\"87\" id=\"E3\" style=\"stroke: #A80036; stroke-width: 1.5;\" width=\"100\" x=\"96.5\" y=\"61\"/><rect fill=\"#FEFECE\" height=\"37.9375\" style=\"stroke: #A80036; stroke-width: 1.5;\" width=\"100\" x=\"96.5\" y=\"61\"/><text fill=\"#000000\" font-family=\"sans-serif\" font-size=\"12\" font-style=\"italic\" lengthAdjust=\"spacingAndGlyphs\" textLength=\"81\" x=\"106\" y=\"77.1387\">«action  def»</text><text fill=\"#000000\" font-family=\"sans-serif\" font-size=\"12\" lengthAdjust=\"spacingAndGlyphs\" textLength=\"27\" x=\"133\" y=\"91.1074\">setX</text></a><g id=\"E1.E2\"><a href=\"psysml:a14c26f5-bb93-4792-a45e-179361bfe6e1\" target=\"_top\" title=\"psysml:a14c26f5-bb93-4792-a45e-179361bfe6e1\" xlink:actuate=\"onRequest\" xlink:href=\"psysml:a14c26f5-bb93-4792-a45e-179361bfe6e1\" xlink:show=\"new\" xlink:title=\"psysml:a14c26f5-bb93-4792-a45e-179361bfe6e1\" xlink:type=\"simple\"><rect fill=\"#FEFECE\" filter=\"url(#f1nhyoks7fzw7y)\" height=\"40\" id=\"E2\" style=\"stroke: #A80036; stroke-width: 1.5;\" width=\"50\" x=\"32\" y=\"41\"/><ellipse cx=\"51.5\" cy=\"57\" fill=\"#008000\" rx=\"11\" ry=\"11\" style=\"stroke: #A80036; stroke-width: 1.0;\"/><path d=\"M48.375,62 L48.375,51.4063 L51.6094,51.4063 Q53.5156,51.4063 54.4219,52.1563 Q55.3438,52.9063 55.3438,54.0781 Q55.3438,54.7656 54.9531,55.4219 Q54.5781,56.0781 53.8594,56.375 Q54.7188,56.75 55.2344,57.4375 Q55.75,58.125 55.75,58.9375 Q55.75,60.3125 54.7188,61.1563 Q53.7031,62 51.5938,62 L48.375,62 Z M50.2969,55.6406 L51.4531,55.6406 Q52.5781,55.6406 52.9844,55.2656 Q53.4063,54.875 53.4063,54.25 Q53.4063,53.6719 52.9844,53.3125 Q52.5625,52.9531 51.625,52.9531 L50.2969,52.9531 L50.2969,55.6406 Z M50.2969,60.4219 L51.7969,60.4219 Q52.7031,60.4219 53.2344,60.0313 Q53.7656,59.6406 53.7656,58.8906 Q53.7656,58.125 53.2656,57.6563 Q52.7656,57.1719 51.5,57.1719 L50.2969,57.1719 L50.2969,60.4219 Z \"/><text fill=\"#000000\" font-family=\"sans-serif\" font-size=\"12\" lengthAdjust=\"spacingAndGlyphs\" textLength=\"8\" x=\"66.5\" y=\"61.1543\">C</text></a></g><text fill=\"#000000\" font-family=\"sans-serif\" font-size=\"14\" lengthAdjust=\"spacingAndGlyphs\" textLength=\"8\" x=\"119\" y=\"39.6982\">c</text><rect fill=\"#A80036\" height=\"12\" style=\"stroke: #FEFECE; stroke-width: 1.5;\" width=\"12\" x=\"117\" y=\"55\"/><text fill=\"#000000\" font-family=\"sans-serif\" font-size=\"14\" lengthAdjust=\"spacingAndGlyphs\" textLength=\"38\" x=\"151\" y=\"39.6982\">newX</text><rect fill=\"#A80036\" height=\"12\" style=\"stroke: #FEFECE; stroke-width: 1.5;\" width=\"12\" x=\"164\" y=\"55\"/><!--MD5=[a516bf331a2ec08c984afb7d1dc1f6f1]\n",
       "@startuml\r\n",
       "skinparam ranksep 10\r\n",
       "skinparam rectangle {\r\n",
       " backgroundColor<<block>> LightGreen\r\n",
       "}\r\n",
       " \r\n",
       "package \"TextualRepresentationTest\" as E1  [[psysml:a059710d-e8aa-4b22-8023-1459b734d0f7 ]]  {\r\n",
       "def \"C\" as E2 << << (B,green) >> [[psysml:a14c26f5-bb93-4792-a45e-179361bfe6e1 ]] \r\n",
       "rec def \"setX\" as E3 << <<(B,lemonchiffon) action  def>> [[psysml:ee57fb5c-c168-4cf6-8494-2ae72f89f8ea ]] {\r\n",
       "portin \"c\" as E4  [[psysml:e345a4af-2fbe-4f5b-aa1f-c95f9761e116 ]] \r\n",
       "portin \"newX\" as E5  [[psysml:bef11b08-4405-4f10-b98d-dfe807135273 ]] \r\n",
       "}\r\n",
       "\r\n",
       "}\r\n",
       "@enduml\r\n",
       "\n",
       "PlantUML version 1.2020.13(Sat Jun 13 12:26:38 UTC 2020)\n",
       "(EPL source distribution)\n",
       "Java Runtime: OpenJDK Runtime Environment\n",
       "JVM: OpenJDK 64-Bit Server VM\n",
       "Default Encoding: UTF-8\n",
       "Language: en\n",
       "Country: null\n",
       "--></g></svg>"
      ]
     },
     "execution_count": 33,
     "metadata": {},
     "output_type": "execute_result"
    }
   ],
   "source": [
    "%viz --style=\"PLANTUML\" --view=\"Interconnection\" \"TextualRepresentationTest\""
   ]
  },
  {
   "cell_type": "code",
   "execution_count": 34,
   "id": "b128a75f",
   "metadata": {
    "execution": {
     "iopub.execute_input": "2022-08-19T08:20:12.438473Z",
     "iopub.status.busy": "2022-08-19T08:20:12.438017Z",
     "iopub.status.idle": "2022-08-19T08:20:12.461257Z",
     "shell.execute_reply": "2022-08-19T08:20:12.460931Z"
    }
   },
   "outputs": [
    {
     "data": {
      "image/svg+xml": [
       "<?xml version=\"1.0\" encoding=\"UTF-8\" standalone=\"no\"?><svg xmlns=\"http://www.w3.org/2000/svg\" xmlns:xlink=\"http://www.w3.org/1999/xlink\" contentScriptType=\"application/ecmascript\" contentStyleType=\"text/css\" height=\"134px\" preserveAspectRatio=\"none\" style=\"width:160px;height:134px;\" version=\"1.1\" viewBox=\"0 0 160 134\" width=\"160px\" zoomAndPan=\"magnify\"><defs><filter height=\"300%\" id=\"f45ko0ley01u2\" width=\"300%\" x=\"-1\" y=\"-1\"><feGaussianBlur result=\"blurOut\" stdDeviation=\"2.0\"/><feColorMatrix in=\"blurOut\" result=\"blurOut2\" type=\"matrix\" values=\"0 0 0 0 0 0 0 0 0 0 0 0 0 0 0 0 0 0 .4 0\"/><feOffset dx=\"4.0\" dy=\"4.0\" in=\"blurOut2\" result=\"blurOut3\"/><feBlend in=\"SourceGraphic\" in2=\"blurOut3\" mode=\"normal\"/></filter></defs><g><!--MD5=[fbc87193dbaf4d95561dea2c320d4a47]\n",
       "cluster E1--><a href=\"psysml:ee57fb5c-c168-4cf6-8494-2ae72f89f8ea\" target=\"_top\" title=\"psysml:ee57fb5c-c168-4cf6-8494-2ae72f89f8ea\" xlink:actuate=\"onRequest\" xlink:href=\"psysml:ee57fb5c-c168-4cf6-8494-2ae72f89f8ea\" xlink:show=\"new\" xlink:title=\"psysml:ee57fb5c-c168-4cf6-8494-2ae72f89f8ea\" xlink:type=\"simple\"><rect fill=\"#FFFFFF\" filter=\"url(#f45ko0ley01u2)\" height=\"73\" id=\"E1\" style=\"stroke: #A80036; stroke-width: 1.5;\" width=\"134\" x=\"7\" y=\"42.0986\"/><rect fill=\"#FEFECE\" height=\"37.9375\" style=\"stroke: #A80036; stroke-width: 1.5;\" width=\"134\" x=\"7\" y=\"42.0986\"/><text fill=\"#000000\" font-family=\"sans-serif\" font-size=\"12\" font-style=\"italic\" lengthAdjust=\"spacingAndGlyphs\" textLength=\"81\" x=\"33.5\" y=\"58.2373\">«action  def»</text><text fill=\"#000000\" font-family=\"sans-serif\" font-size=\"12\" lengthAdjust=\"spacingAndGlyphs\" textLength=\"27\" x=\"60.5\" y=\"72.2061\">setX</text></a><text fill=\"#000000\" font-family=\"sans-serif\" font-size=\"14\" lengthAdjust=\"spacingAndGlyphs\" textLength=\"8\" x=\"21\" y=\"20.7969\">c</text><rect fill=\"#A80036\" height=\"12\" style=\"stroke: #FEFECE; stroke-width: 1.5;\" width=\"12\" x=\"19\" y=\"36.0986\"/><text fill=\"#000000\" font-family=\"sans-serif\" font-size=\"14\" lengthAdjust=\"spacingAndGlyphs\" textLength=\"38\" x=\"53\" y=\"20.7969\">newX</text><rect fill=\"#A80036\" height=\"12\" style=\"stroke: #FEFECE; stroke-width: 1.5;\" width=\"12\" x=\"66\" y=\"36.0986\"/><!--MD5=[513b1a11dc8213bacb46d31a0d2f566b]\n",
       "@startuml\r\n",
       "skinparam ranksep 8\r\n",
       " \r\n",
       "rec def \"setX\" as E1 << <<(B,lemonchiffon) action  def>> [[psysml:ee57fb5c-c168-4cf6-8494-2ae72f89f8ea ]] {\r\n",
       "portin \"c\" as E2  [[psysml:e345a4af-2fbe-4f5b-aa1f-c95f9761e116 ]] \r\n",
       "portin \"newX\" as E3  [[psysml:bef11b08-4405-4f10-b98d-dfe807135273 ]] \r\n",
       "}\r\n",
       "\r\n",
       "@enduml\r\n",
       "\n",
       "PlantUML version 1.2020.13(Sat Jun 13 12:26:38 UTC 2020)\n",
       "(EPL source distribution)\n",
       "Java Runtime: OpenJDK Runtime Environment\n",
       "JVM: OpenJDK 64-Bit Server VM\n",
       "Default Encoding: UTF-8\n",
       "Language: en\n",
       "Country: null\n",
       "--></g></svg>"
      ]
     },
     "execution_count": 34,
     "metadata": {},
     "output_type": "execute_result"
    }
   ],
   "source": [
    "%viz --style=\"PLANTUML\" --view=\"Action\" \"TextualRepresentationTest\""
   ]
  },
  {
   "cell_type": "code",
   "execution_count": 35,
   "id": "a4739b50",
   "metadata": {
    "execution": {
     "iopub.execute_input": "2022-08-19T08:20:12.511555Z",
     "iopub.status.busy": "2022-08-19T08:20:12.511100Z",
     "iopub.status.idle": "2022-08-19T08:20:12.517023Z",
     "shell.execute_reply": "2022-08-19T08:20:12.516618Z"
    }
   },
   "outputs": [
    {
     "data": {
      "image/svg+xml": [
       "<?xml version=\"1.0\" encoding=\"UTF-8\" standalone=\"no\"?><svg xmlns=\"http://www.w3.org/2000/svg\" xmlns:xlink=\"http://www.w3.org/1999/xlink\" contentScriptType=\"application/ecmascript\" contentStyleType=\"text/css\" height=\"12px\" preserveAspectRatio=\"none\" style=\"width:12px;height:12px;\" version=\"1.1\" viewBox=\"0 0 12 12\" width=\"12px\" zoomAndPan=\"magnify\"><defs/><g><!--MD5=[ca4faa0b02def275ea33c14ea7a1a98d]\n",
       "@startuml\r\n",
       "skinparam roundcorner 20\r\n",
       "skinparam BoxPadding 20\r\n",
       "skinparam SequenceBoxBackgroundColor #white\r\n",
       "skinparam style strictuml\r\n",
       "skinparam maxMessageSize 100\r\n",
       " \r\n",
       "@enduml\r\n",
       "\n",
       "PlantUML version 1.2020.13(Sat Jun 13 12:26:38 UTC 2020)\n",
       "(EPL source distribution)\n",
       "Java Runtime: OpenJDK Runtime Environment\n",
       "JVM: OpenJDK 64-Bit Server VM\n",
       "Default Encoding: UTF-8\n",
       "Language: en\n",
       "Country: null\n",
       "--></g></svg>"
      ]
     },
     "execution_count": 35,
     "metadata": {},
     "output_type": "execute_result"
    }
   ],
   "source": [
    "%viz --style=\"PLANTUML\" --view=\"Sequence\" \"TextualRepresentationTest\""
   ]
  },
  {
   "cell_type": "code",
   "execution_count": 36,
   "id": "eed30b57",
   "metadata": {
    "execution": {
     "iopub.execute_input": "2022-08-19T08:20:12.566569Z",
     "iopub.status.busy": "2022-08-19T08:20:12.566107Z",
     "iopub.status.idle": "2022-08-19T08:20:12.607318Z",
     "shell.execute_reply": "2022-08-19T08:20:12.607117Z"
    }
   },
   "outputs": [
    {
     "data": {
      "image/svg+xml": [
       "<?xml version=\"1.0\" encoding=\"UTF-8\" standalone=\"no\"?><svg xmlns=\"http://www.w3.org/2000/svg\" xmlns:xlink=\"http://www.w3.org/1999/xlink\" contentScriptType=\"application/ecmascript\" contentStyleType=\"text/css\" height=\"255px\" preserveAspectRatio=\"none\" style=\"width:377px;height:255px;\" version=\"1.1\" viewBox=\"0 0 377 255\" width=\"377px\" zoomAndPan=\"magnify\"><defs><filter height=\"300%\" id=\"ff72snpdt7oc0\" width=\"300%\" x=\"-1\" y=\"-1\"><feGaussianBlur result=\"blurOut\" stdDeviation=\"2.0\"/><feColorMatrix in=\"blurOut\" result=\"blurOut2\" type=\"matrix\" values=\"0 0 0 0 0 0 0 0 0 0 0 0 0 0 0 0 0 0 .4 0\"/><feOffset dx=\"4.0\" dy=\"4.0\" in=\"blurOut2\" result=\"blurOut3\"/><feBlend in=\"SourceGraphic\" in2=\"blurOut3\" mode=\"normal\"/></filter></defs><g><!--MD5=[fbc87193dbaf4d95561dea2c320d4a47]\n",
       "cluster E1--><a href=\"psysml:a059710d-e8aa-4b22-8023-1459b734d0f7\" target=\"_top\" title=\"psysml:a059710d-e8aa-4b22-8023-1459b734d0f7\" xlink:actuate=\"onRequest\" xlink:href=\"psysml:a059710d-e8aa-4b22-8023-1459b734d0f7\" xlink:show=\"new\" xlink:title=\"psysml:a059710d-e8aa-4b22-8023-1459b734d0f7\" xlink:type=\"simple\"><polygon fill=\"#FFFFFF\" filter=\"url(#ff72snpdt7oc0)\" points=\"16,6,210,6,217,28.2969,355,28.2969,355,243.5,16,243.5,16,6\" style=\"stroke: #000000; stroke-width: 1.5;\"/><line style=\"stroke: #000000; stroke-width: 1.5;\" x1=\"16\" x2=\"217\" y1=\"28.2969\" y2=\"28.2969\"/><text fill=\"#000000\" font-family=\"sans-serif\" font-size=\"14\" font-weight=\"bold\" lengthAdjust=\"spacingAndGlyphs\" textLength=\"188\" x=\"20\" y=\"20.9951\">TextualRepresentationTest</text></a><!--MD5=[f6df4d0ebaf0b5dfb2ced0ae5af7c670]\n",
       "cluster E4--><a href=\"psysml:ee57fb5c-c168-4cf6-8494-2ae72f89f8ea\" target=\"_top\" title=\"psysml:ee57fb5c-c168-4cf6-8494-2ae72f89f8ea\" xlink:actuate=\"onRequest\" xlink:href=\"psysml:ee57fb5c-c168-4cf6-8494-2ae72f89f8ea\" xlink:show=\"new\" xlink:title=\"psysml:ee57fb5c-c168-4cf6-8494-2ae72f89f8ea\" xlink:type=\"simple\"><rect fill=\"#FFFFFF\" filter=\"url(#ff72snpdt7oc0)\" height=\"151.5\" id=\"E4\" style=\"stroke: #A80036; stroke-width: 1.5;\" width=\"134\" x=\"205\" y=\"76\"/><rect fill=\"#FEFECE\" height=\"37.9375\" style=\"stroke: #A80036; stroke-width: 1.5;\" width=\"134\" x=\"205\" y=\"76\"/><text fill=\"#000000\" font-family=\"sans-serif\" font-size=\"12\" font-style=\"italic\" lengthAdjust=\"spacingAndGlyphs\" textLength=\"81\" x=\"231.5\" y=\"92.1387\">«action  def»</text><text fill=\"#000000\" font-family=\"sans-serif\" font-size=\"12\" lengthAdjust=\"spacingAndGlyphs\" textLength=\"27\" x=\"258.5\" y=\"106.1074\">setX</text></a><!--MD5=[b4997ac47864f28c2f74865a473b2911]\n",
       "class E2--><a href=\"psysml:a14c26f5-bb93-4792-a45e-179361bfe6e1\" target=\"_top\" title=\"psysml:a14c26f5-bb93-4792-a45e-179361bfe6e1\" xlink:actuate=\"onRequest\" xlink:href=\"psysml:a14c26f5-bb93-4792-a45e-179361bfe6e1\" xlink:show=\"new\" xlink:title=\"psysml:a14c26f5-bb93-4792-a45e-179361bfe6e1\" xlink:type=\"simple\"><rect fill=\"#FEFECE\" filter=\"url(#ff72snpdt7oc0)\" height=\"69.6094\" id=\"E2\" style=\"stroke: #A80036; stroke-width: 1.5;\" width=\"63\" x=\"75.5\" y=\"41\"/><ellipse cx=\"100.85\" cy=\"57\" fill=\"#008000\" rx=\"11\" ry=\"11\" style=\"stroke: #A80036; stroke-width: 1.0;\"/><path d=\"M97.725,62 L97.725,51.4063 L100.9594,51.4063 Q102.8656,51.4063 103.7719,52.1563 Q104.6938,52.9063 104.6938,54.0781 Q104.6938,54.7656 104.3031,55.4219 Q103.9281,56.0781 103.2094,56.375 Q104.0688,56.75 104.5844,57.4375 Q105.1,58.125 105.1,58.9375 Q105.1,60.3125 104.0688,61.1563 Q103.0531,62 100.9438,62 L97.725,62 Z M99.6469,55.6406 L100.8031,55.6406 Q101.9281,55.6406 102.3344,55.2656 Q102.7563,54.875 102.7563,54.25 Q102.7563,53.6719 102.3344,53.3125 Q101.9125,52.9531 100.975,52.9531 L99.6469,52.9531 L99.6469,55.6406 Z M99.6469,60.4219 L101.1469,60.4219 Q102.0531,60.4219 102.5844,60.0313 Q103.1156,59.6406 103.1156,58.8906 Q103.1156,58.125 102.6156,57.6563 Q102.1156,57.1719 100.85,57.1719 L99.6469,57.1719 L99.6469,60.4219 Z \"/><text fill=\"#000000\" font-family=\"sans-serif\" font-size=\"12\" lengthAdjust=\"spacingAndGlyphs\" textLength=\"8\" x=\"117.15\" y=\"61.1543\">C</text><line style=\"stroke: #A80036; stroke-width: 1.5;\" x1=\"76.5\" x2=\"137.5\" y1=\"73\" y2=\"73\"/><text fill=\"#000000\" font-family=\"sans-serif\" font-size=\"11\" lengthAdjust=\"spacingAndGlyphs\" textLength=\"38\" x=\"81.5\" y=\"104.0151\">x: Real</text><line style=\"stroke: #A80036; stroke-width: 1.0;\" x1=\"76.5\" x2=\"79.5\" y1=\"87.4023\" y2=\"87.4023\"/><text fill=\"#000000\" font-family=\"sans-serif\" font-size=\"11\" lengthAdjust=\"spacingAndGlyphs\" textLength=\"55\" x=\"79.5\" y=\"90.7104\">attributes</text><line style=\"stroke: #A80036; stroke-width: 1.0;\" x1=\"134.5\" x2=\"137.5\" y1=\"87.4023\" y2=\"87.4023\"/></a><!--MD5=[09b614a08d8cba4a07c9adeb5e0fee81]\n",
       "class E3--><a href=\"psysml:b9ffc3c6-eeca-4712-be2d-56262eb1e98d\" target=\"_top\" title=\"psysml:b9ffc3c6-eeca-4712-be2d-56262eb1e98d\" xlink:actuate=\"onRequest\" xlink:href=\"psysml:b9ffc3c6-eeca-4712-be2d-56262eb1e98d\" xlink:show=\"new\" xlink:title=\"psysml:b9ffc3c6-eeca-4712-be2d-56262eb1e98d\" xlink:type=\"simple\"><rect fill=\"#FEFECE\" filter=\"url(#ff72snpdt7oc0)\" height=\"45.9375\" id=\"E3\" rx=\"10\" ry=\"10\" style=\"stroke: #A80036; stroke-width: 1.5;\" width=\"150\" x=\"32\" y=\"171\"/><ellipse cx=\"47\" cy=\"189.9688\" fill=\"#FFA500\" rx=\"11\" ry=\"11\" style=\"stroke: #A80036; stroke-width: 1.0;\"/><path d=\"M46.75,195.4375 Q45,195.4375 44.0469,194.4063 Q43.1094,193.3594 43.1094,191.5156 L43.1094,184.625 L45.1719,184.625 L45.1719,184.7813 Q45.0781,184.875 45.0469,185.0156 Q45.0313,185.1406 45.0313,185.4063 L45.0313,191.5313 Q45.0313,192.625 45.4063,193.25 Q45.7813,193.875 46.7656,193.875 Q47.75,193.875 48.1406,193.25 Q48.5313,192.625 48.5313,191.4844 L48.5313,184.625 L50.4063,184.625 L50.4063,191.4688 Q50.4063,193.5 49.375,194.4688 Q48.3594,195.4375 46.75,195.4375 Z \"/><text fill=\"#000000\" font-family=\"sans-serif\" font-size=\"12\" font-style=\"italic\" lengthAdjust=\"spacingAndGlyphs\" textLength=\"122\" x=\"59\" y=\"187.1387\">«assert constraint»</text><text fill=\"#000000\" font-family=\"sans-serif\" font-size=\"12\" lengthAdjust=\"spacingAndGlyphs\" textLength=\"76\" x=\"80\" y=\"201.1074\">x_constraint</text><line style=\"stroke: #A80036; stroke-width: 1.5;\" x1=\"33\" x2=\"181\" y1=\"208.9375\" y2=\"208.9375\"/></a><text fill=\"#000000\" font-family=\"sans-serif\" font-size=\"14\" lengthAdjust=\"spacingAndGlyphs\" textLength=\"8\" x=\"219\" y=\"54.6982\">c</text><rect fill=\"#A80036\" height=\"12\" style=\"stroke: #FEFECE; stroke-width: 1.5;\" width=\"12\" x=\"217\" y=\"70\"/><text fill=\"#000000\" font-family=\"sans-serif\" font-size=\"14\" lengthAdjust=\"spacingAndGlyphs\" textLength=\"38\" x=\"251\" y=\"54.6982\">newX</text><rect fill=\"#A80036\" height=\"12\" style=\"stroke: #FEFECE; stroke-width: 1.5;\" width=\"12\" x=\"264\" y=\"70\"/><!--MD5=[209b3feb70ccb6233bfe1053d122c12c]\n",
       "reverse link E2 to E3--><a href=\"psysml:25bb36ff-df1f-4894-9e3f-bec813bc6d8c\" target=\"_top\" title=\"psysml:25bb36ff-df1f-4894-9e3f-bec813bc6d8c\" xlink:actuate=\"onRequest\" xlink:href=\"psysml:25bb36ff-df1f-4894-9e3f-bec813bc6d8c\" xlink:show=\"new\" xlink:title=\"psysml:25bb36ff-df1f-4894-9e3f-bec813bc6d8c\" xlink:type=\"simple\"><path d=\"M107,124.3 C107,140.38 107,157.6 107,170.77 \" fill=\"none\" id=\"E2&lt;-E3\" style=\"stroke: #A80036; stroke-width: 1.0;\"/><polygon fill=\"#FFFFFF\" points=\"107,111.18,103,117.18,107,123.18,111,117.18,107,111.18\" style=\"stroke: #A80036; stroke-width: 1.0;\"/><text fill=\"#000000\" font-family=\"sans-serif\" font-size=\"13\" lengthAdjust=\"spacingAndGlyphs\" textLength=\"7\" x=\"99.1031\" y=\"159.9874\">*</text></a><!--MD5=[f9f8ef3546281e7108da693402a2eba8]\n",
       "@startuml\r\n",
       " \r\n",
       "package \"TextualRepresentationTest\" as E1  [[psysml:a059710d-e8aa-4b22-8023-1459b734d0f7 ]]  {\r\n",
       "comp def \"C\" as E2 << << (B,green) >> [[psysml:a14c26f5-bb93-4792-a45e-179361bfe6e1 ]] {\r\n",
       "- - attributes - -\r\n",
       "x: Real\r\n",
       "}\r\n",
       "comp usage \"x_constraint \" as E3 << <<(U,orange) assert constraint>> [[psysml:b9ffc3c6-eeca-4712-be2d-56262eb1e98d ]] {\r\n",
       "}\r\n",
       "rec def \"setX\" as E4 << <<(B,lemonchiffon) action  def>> [[psysml:ee57fb5c-c168-4cf6-8494-2ae72f89f8ea ]] {\r\n",
       "portin \"c\" as E5  [[psysml:e345a4af-2fbe-4f5b-aa1f-c95f9761e116 ]] \r\n",
       "portin \"newX\" as E6  [[psysml:bef11b08-4405-4f10-b98d-dfe807135273 ]] \r\n",
       "}\r\n",
       "\r\n",
       "}\r\n",
       "E2 o- - \"*\"E3 [[psysml:25bb36ff-df1f-4894-9e3f-bec813bc6d8c ]] \r\n",
       "@enduml\r\n",
       "\n",
       "PlantUML version 1.2020.13(Sat Jun 13 12:26:38 UTC 2020)\n",
       "(EPL source distribution)\n",
       "Java Runtime: OpenJDK Runtime Environment\n",
       "JVM: OpenJDK 64-Bit Server VM\n",
       "Default Encoding: UTF-8\n",
       "Language: en\n",
       "Country: null\n",
       "--></g></svg>"
      ]
     },
     "execution_count": 36,
     "metadata": {},
     "output_type": "execute_result"
    }
   ],
   "source": [
    "%viz --style=\"PLANTUML\" --view=\"MIXED\" \"TextualRepresentationTest\""
   ]
  },
  {
   "cell_type": "code",
   "execution_count": 37,
   "id": "2489d9f1",
   "metadata": {
    "execution": {
     "iopub.execute_input": "2022-08-19T08:20:12.657483Z",
     "iopub.status.busy": "2022-08-19T08:20:12.657123Z",
     "iopub.status.idle": "2022-08-19T08:20:12.700218Z",
     "shell.execute_reply": "2022-08-19T08:20:12.699796Z"
    }
   },
   "outputs": [
    {
     "data": {
      "image/svg+xml": [
       "<?xml version=\"1.0\" encoding=\"UTF-8\" standalone=\"no\"?><svg xmlns=\"http://www.w3.org/2000/svg\" xmlns:xlink=\"http://www.w3.org/1999/xlink\" contentScriptType=\"application/ecmascript\" contentStyleType=\"text/css\" height=\"261px\" preserveAspectRatio=\"none\" style=\"width:351px;height:261px;\" version=\"1.1\" viewBox=\"0 0 351 261\" width=\"351px\" zoomAndPan=\"magnify\"><defs/><g><!--MD5=[fbc87193dbaf4d95561dea2c320d4a47]\n",
       "cluster E1--><a href=\"psysml:a059710d-e8aa-4b22-8023-1459b734d0f7\" target=\"_top\" title=\"psysml:a059710d-e8aa-4b22-8023-1459b734d0f7\" xlink:actuate=\"onRequest\" xlink:href=\"psysml:a059710d-e8aa-4b22-8023-1459b734d0f7\" xlink:show=\"new\" xlink:title=\"psysml:a059710d-e8aa-4b22-8023-1459b734d0f7\" xlink:type=\"simple\"><polygon fill=\"#FFFFFF\" points=\"16,6,210,6,217,28.2969,329,28.2969,329,249.5,16,249.5,16,6\" style=\"stroke: #000000; stroke-width: 1.5;\"/><line style=\"stroke: #000000; stroke-width: 1.5;\" x1=\"16\" x2=\"217\" y1=\"28.2969\" y2=\"28.2969\"/><text fill=\"#000000\" font-family=\"sans-serif\" font-size=\"14\" font-weight=\"bold\" lengthAdjust=\"spacingAndGlyphs\" textLength=\"188\" x=\"20\" y=\"20.9951\">TextualRepresentationTest</text></a><!--MD5=[f6df4d0ebaf0b5dfb2ced0ae5af7c670]\n",
       "cluster E4--><a href=\"psysml:ee57fb5c-c168-4cf6-8494-2ae72f89f8ea\" target=\"_top\" title=\"psysml:ee57fb5c-c168-4cf6-8494-2ae72f89f8ea\" xlink:actuate=\"onRequest\" xlink:href=\"psysml:ee57fb5c-c168-4cf6-8494-2ae72f89f8ea\" xlink:show=\"new\" xlink:title=\"psysml:ee57fb5c-c168-4cf6-8494-2ae72f89f8ea\" xlink:type=\"simple\"><rect fill=\"#FFFFFF\" height=\"154.5\" id=\"E4\" style=\"stroke: #383838; stroke-width: 1.5;\" width=\"134\" x=\"179\" y=\"79\"/><rect fill=\"#F8F8F8\" height=\"37.9375\" style=\"stroke: #383838; stroke-width: 1.5;\" width=\"134\" x=\"179\" y=\"79\"/><text fill=\"#000000\" font-family=\"sans-serif\" font-size=\"12\" font-style=\"italic\" lengthAdjust=\"spacingAndGlyphs\" textLength=\"81\" x=\"205.5\" y=\"95.1387\">«action  def»</text><text fill=\"#000000\" font-family=\"sans-serif\" font-size=\"12\" lengthAdjust=\"spacingAndGlyphs\" textLength=\"27\" x=\"232.5\" y=\"109.1074\">setX</text></a><!--MD5=[b4997ac47864f28c2f74865a473b2911]\n",
       "class E2--><a href=\"psysml:a14c26f5-bb93-4792-a45e-179361bfe6e1\" target=\"_top\" title=\"psysml:a14c26f5-bb93-4792-a45e-179361bfe6e1\" xlink:actuate=\"onRequest\" xlink:href=\"psysml:a14c26f5-bb93-4792-a45e-179361bfe6e1\" xlink:show=\"new\" xlink:title=\"psysml:a14c26f5-bb93-4792-a45e-179361bfe6e1\" xlink:type=\"simple\"><rect fill=\"#FFFFFF\" height=\"75.5469\" id=\"E2\" style=\"stroke: #383838; stroke-width: 1.5;\" width=\"71\" x=\"58.5\" y=\"41\"/><text fill=\"#000000\" font-family=\"sans-serif\" font-size=\"12\" font-style=\"italic\" lengthAdjust=\"spacingAndGlyphs\" textLength=\"69\" x=\"59.5\" y=\"57.1387\">«item  def»</text><text fill=\"#000000\" font-family=\"sans-serif\" font-size=\"12\" lengthAdjust=\"spacingAndGlyphs\" textLength=\"8\" x=\"90\" y=\"71.1074\">C</text><line style=\"stroke: #383838; stroke-width: 1.5;\" x1=\"59.5\" x2=\"128.5\" y1=\"78.9375\" y2=\"78.9375\"/><text fill=\"#000000\" font-family=\"sans-serif\" font-size=\"11\" lengthAdjust=\"spacingAndGlyphs\" textLength=\"38\" x=\"64.5\" y=\"109.9526\">x: Real</text><line style=\"stroke: #383838; stroke-width: 1.0;\" x1=\"59.5\" x2=\"66.5\" y1=\"93.3398\" y2=\"93.3398\"/><text fill=\"#000000\" font-family=\"sans-serif\" font-size=\"11\" lengthAdjust=\"spacingAndGlyphs\" textLength=\"55\" x=\"66.5\" y=\"96.6479\">attributes</text><line style=\"stroke: #383838; stroke-width: 1.0;\" x1=\"121.5\" x2=\"128.5\" y1=\"93.3398\" y2=\"93.3398\"/></a><!--MD5=[09b614a08d8cba4a07c9adeb5e0fee81]\n",
       "class E3--><a href=\"psysml:b9ffc3c6-eeca-4712-be2d-56262eb1e98d\" target=\"_top\" title=\"psysml:b9ffc3c6-eeca-4712-be2d-56262eb1e98d\" xlink:actuate=\"onRequest\" xlink:href=\"psysml:b9ffc3c6-eeca-4712-be2d-56262eb1e98d\" xlink:show=\"new\" xlink:title=\"psysml:b9ffc3c6-eeca-4712-be2d-56262eb1e98d\" xlink:type=\"simple\"><rect fill=\"#FFFFFF\" height=\"45.9375\" id=\"E3\" rx=\"10\" ry=\"10\" style=\"stroke: #383838; stroke-width: 1.5;\" width=\"124\" x=\"32\" y=\"177\"/><text fill=\"#000000\" font-family=\"sans-serif\" font-size=\"12\" font-style=\"italic\" lengthAdjust=\"spacingAndGlyphs\" textLength=\"122\" x=\"33\" y=\"193.1387\">«assert constraint»</text><text fill=\"#000000\" font-family=\"sans-serif\" font-size=\"12\" lengthAdjust=\"spacingAndGlyphs\" textLength=\"76\" x=\"54\" y=\"207.1074\">x_constraint</text><line style=\"stroke: #383838; stroke-width: 1.5;\" x1=\"33\" x2=\"155\" y1=\"214.9375\" y2=\"214.9375\"/></a><text fill=\"#000000\" font-family=\"sans-serif\" font-size=\"14\" lengthAdjust=\"spacingAndGlyphs\" textLength=\"8\" x=\"193\" y=\"57.6982\">c</text><rect fill=\"#383838\" height=\"12\" style=\"stroke: #F8F8F8; stroke-width: 1.5;\" width=\"12\" x=\"191\" y=\"73\"/><text fill=\"#000000\" font-family=\"sans-serif\" font-size=\"14\" lengthAdjust=\"spacingAndGlyphs\" textLength=\"38\" x=\"225\" y=\"57.6982\">newX</text><rect fill=\"#383838\" height=\"12\" style=\"stroke: #F8F8F8; stroke-width: 1.5;\" width=\"12\" x=\"238\" y=\"73\"/><!--MD5=[209b3feb70ccb6233bfe1053d122c12c]\n",
       "reverse link E2 to E3--><a href=\"psysml:25bb36ff-df1f-4894-9e3f-bec813bc6d8c\" target=\"_top\" title=\"psysml:25bb36ff-df1f-4894-9e3f-bec813bc6d8c\" xlink:actuate=\"onRequest\" xlink:href=\"psysml:25bb36ff-df1f-4894-9e3f-bec813bc6d8c\" xlink:show=\"new\" xlink:title=\"psysml:25bb36ff-df1f-4894-9e3f-bec813bc6d8c\" xlink:type=\"simple\"><path d=\"M94,130.34 C94,146.61 94,163.81 94,176.93 \" fill=\"none\" id=\"E2&lt;-E3\" style=\"stroke: #383838; stroke-width: 1.0;\"/><polygon fill=\"#FFFFFF\" points=\"94,117,90,123,94,129,98,123,94,117\" style=\"stroke: #383838; stroke-width: 1.0;\"/><text fill=\"#000000\" font-family=\"sans-serif\" font-size=\"13\" lengthAdjust=\"spacingAndGlyphs\" textLength=\"7\" x=\"86.0594\" y=\"165.8075\">*</text></a><!--MD5=[3c1e0535cd67c3d55a8facd7e7356310]\n",
       "@startuml\r\n",
       "skinparam monochrome true\r\n",
       "skinparam classbackgroundcolor white\r\n",
       "skinparam shadowing false\r\n",
       "skinparam wrapWidth 300\r\n",
       "hide circle\r\n",
       "\r\n",
       "package \"TextualRepresentationTest\" as E1  [[psysml:a059710d-e8aa-4b22-8023-1459b734d0f7 ]]  {\r\n",
       "comp def \"C\" as E2  <<(T,blue) item  def>> [[psysml:a14c26f5-bb93-4792-a45e-179361bfe6e1 ]] {\r\n",
       "- - attributes - -\r\n",
       "x: Real\r\n",
       "}\r\n",
       "comp usage \"x_constraint \" as E3  <<(T,blue) assert constraint>> [[psysml:b9ffc3c6-eeca-4712-be2d-56262eb1e98d ]] {\r\n",
       "}\r\n",
       "rec def \"setX\" as E4  <<(T,blue) action  def>> [[psysml:ee57fb5c-c168-4cf6-8494-2ae72f89f8ea ]] {\r\n",
       "portin \"c\" as E5  [[psysml:e345a4af-2fbe-4f5b-aa1f-c95f9761e116 ]] \r\n",
       "portin \"newX\" as E6  [[psysml:bef11b08-4405-4f10-b98d-dfe807135273 ]] \r\n",
       "}\r\n",
       "\r\n",
       "}\r\n",
       "E2 o- - \"*\"E3 [[psysml:25bb36ff-df1f-4894-9e3f-bec813bc6d8c ]] \r\n",
       "@enduml\r\n",
       "\n",
       "PlantUML version 1.2020.13(Sat Jun 13 12:26:38 UTC 2020)\n",
       "(EPL source distribution)\n",
       "Java Runtime: OpenJDK Runtime Environment\n",
       "JVM: OpenJDK 64-Bit Server VM\n",
       "Default Encoding: UTF-8\n",
       "Language: en\n",
       "Country: null\n",
       "--></g></svg>"
      ]
     },
     "execution_count": 37,
     "metadata": {},
     "output_type": "execute_result"
    }
   ],
   "source": [
    "%viz --style=\"DEFAULT\" --view=\"Default\" \"TextualRepresentationTest\""
   ]
  },
  {
   "cell_type": "code",
   "execution_count": 38,
   "id": "503fec64",
   "metadata": {
    "execution": {
     "iopub.execute_input": "2022-08-19T08:20:12.749937Z",
     "iopub.status.busy": "2022-08-19T08:20:12.749466Z",
     "iopub.status.idle": "2022-08-19T08:20:12.791157Z",
     "shell.execute_reply": "2022-08-19T08:20:12.790467Z"
    }
   },
   "outputs": [
    {
     "data": {
      "image/svg+xml": [
       "<?xml version=\"1.0\" encoding=\"UTF-8\" standalone=\"no\"?><svg xmlns=\"http://www.w3.org/2000/svg\" xmlns:xlink=\"http://www.w3.org/1999/xlink\" contentScriptType=\"application/ecmascript\" contentStyleType=\"text/css\" height=\"375px\" preserveAspectRatio=\"none\" style=\"width:242px;height:375px;\" version=\"1.1\" viewBox=\"0 0 242 375\" width=\"242px\" zoomAndPan=\"magnify\"><defs/><g><!--MD5=[fbc87193dbaf4d95561dea2c320d4a47]\n",
       "cluster E1--><a href=\"psysml:a059710d-e8aa-4b22-8023-1459b734d0f7\" target=\"_top\" title=\"psysml:a059710d-e8aa-4b22-8023-1459b734d0f7\" xlink:actuate=\"onRequest\" xlink:href=\"psysml:a059710d-e8aa-4b22-8023-1459b734d0f7\" xlink:show=\"new\" xlink:title=\"psysml:a059710d-e8aa-4b22-8023-1459b734d0f7\" xlink:type=\"simple\"><polygon fill=\"#FFFFFF\" points=\"16,6,210,6,217,28.2969,220,28.2969,220,363,16,363,16,6\" style=\"stroke: #000000; stroke-width: 1.5;\"/><line style=\"stroke: #000000; stroke-width: 1.5;\" x1=\"16\" x2=\"217\" y1=\"28.2969\" y2=\"28.2969\"/><text fill=\"#000000\" font-family=\"sans-serif\" font-size=\"14\" font-weight=\"bold\" lengthAdjust=\"spacingAndGlyphs\" textLength=\"188\" x=\"20\" y=\"20.9951\">TextualRepresentationTest</text></a><!--MD5=[b4997ac47864f28c2f74865a473b2911]\n",
       "class E2--><a href=\"psysml:a14c26f5-bb93-4792-a45e-179361bfe6e1\" target=\"_top\" title=\"psysml:a14c26f5-bb93-4792-a45e-179361bfe6e1\" xlink:actuate=\"onRequest\" xlink:href=\"psysml:a14c26f5-bb93-4792-a45e-179361bfe6e1\" xlink:show=\"new\" xlink:title=\"psysml:a14c26f5-bb93-4792-a45e-179361bfe6e1\" xlink:type=\"simple\"><rect fill=\"#FFFFFF\" height=\"75.5469\" id=\"E2\" style=\"stroke: #383838; stroke-width: 1.5;\" width=\"71\" x=\"82.5\" y=\"164\"/><text fill=\"#000000\" font-family=\"sans-serif\" font-size=\"12\" font-style=\"italic\" lengthAdjust=\"spacingAndGlyphs\" textLength=\"69\" x=\"83.5\" y=\"180.1387\">«item  def»</text><text fill=\"#000000\" font-family=\"sans-serif\" font-size=\"12\" lengthAdjust=\"spacingAndGlyphs\" textLength=\"8\" x=\"114\" y=\"194.1074\">C</text><line style=\"stroke: #383838; stroke-width: 1.5;\" x1=\"83.5\" x2=\"152.5\" y1=\"201.9375\" y2=\"201.9375\"/><text fill=\"#000000\" font-family=\"sans-serif\" font-size=\"11\" lengthAdjust=\"spacingAndGlyphs\" textLength=\"38\" x=\"88.5\" y=\"232.9526\">x: Real</text><line style=\"stroke: #383838; stroke-width: 1.0;\" x1=\"83.5\" x2=\"90.5\" y1=\"216.3398\" y2=\"216.3398\"/><text fill=\"#000000\" font-family=\"sans-serif\" font-size=\"11\" lengthAdjust=\"spacingAndGlyphs\" textLength=\"55\" x=\"90.5\" y=\"219.6479\">attributes</text><line style=\"stroke: #383838; stroke-width: 1.0;\" x1=\"145.5\" x2=\"152.5\" y1=\"216.3398\" y2=\"216.3398\"/></a><!--MD5=[09b614a08d8cba4a07c9adeb5e0fee81]\n",
       "class E3--><a href=\"psysml:b9ffc3c6-eeca-4712-be2d-56262eb1e98d\" target=\"_top\" title=\"psysml:b9ffc3c6-eeca-4712-be2d-56262eb1e98d\" xlink:actuate=\"onRequest\" xlink:href=\"psysml:b9ffc3c6-eeca-4712-be2d-56262eb1e98d\" xlink:show=\"new\" xlink:title=\"psysml:b9ffc3c6-eeca-4712-be2d-56262eb1e98d\" xlink:type=\"simple\"><rect fill=\"#FFFFFF\" height=\"45.9375\" id=\"E3\" rx=\"10\" ry=\"10\" style=\"stroke: #383838; stroke-width: 1.5;\" width=\"124\" x=\"56\" y=\"301\"/><text fill=\"#000000\" font-family=\"sans-serif\" font-size=\"12\" font-style=\"italic\" lengthAdjust=\"spacingAndGlyphs\" textLength=\"122\" x=\"57\" y=\"317.1387\">«assert constraint»</text><text fill=\"#000000\" font-family=\"sans-serif\" font-size=\"12\" lengthAdjust=\"spacingAndGlyphs\" textLength=\"76\" x=\"78\" y=\"331.1074\">x_constraint</text><line style=\"stroke: #383838; stroke-width: 1.5;\" x1=\"57\" x2=\"179\" y1=\"338.9375\" y2=\"338.9375\"/></a><!--MD5=[ebbe1d658d1005bcc118a6aa81145e00]\n",
       "class E4--><a href=\"psysml:ee57fb5c-c168-4cf6-8494-2ae72f89f8ea\" target=\"_top\" title=\"psysml:ee57fb5c-c168-4cf6-8494-2ae72f89f8ea\" xlink:actuate=\"onRequest\" xlink:href=\"psysml:ee57fb5c-c168-4cf6-8494-2ae72f89f8ea\" xlink:show=\"new\" xlink:title=\"psysml:ee57fb5c-c168-4cf6-8494-2ae72f89f8ea\" xlink:type=\"simple\"><rect fill=\"#FFFFFF\" height=\"45.9375\" id=\"E4\" style=\"stroke: #383838; stroke-width: 1.5;\" width=\"83\" x=\"76.5\" y=\"41\"/><text fill=\"#000000\" font-family=\"sans-serif\" font-size=\"12\" font-style=\"italic\" lengthAdjust=\"spacingAndGlyphs\" textLength=\"81\" x=\"77.5\" y=\"57.1387\">«action  def»</text><text fill=\"#000000\" font-family=\"sans-serif\" font-size=\"12\" lengthAdjust=\"spacingAndGlyphs\" textLength=\"27\" x=\"104.5\" y=\"71.1074\">setX</text><line style=\"stroke: #383838; stroke-width: 1.5;\" x1=\"77.5\" x2=\"158.5\" y1=\"78.9375\" y2=\"78.9375\"/></a><!--MD5=[209b3feb70ccb6233bfe1053d122c12c]\n",
       "reverse link E2 to E3--><a href=\"psysml:25bb36ff-df1f-4894-9e3f-bec813bc6d8c\" target=\"_top\" title=\"psysml:25bb36ff-df1f-4894-9e3f-bec813bc6d8c\" xlink:actuate=\"onRequest\" xlink:href=\"psysml:25bb36ff-df1f-4894-9e3f-bec813bc6d8c\" xlink:show=\"new\" xlink:title=\"psysml:25bb36ff-df1f-4894-9e3f-bec813bc6d8c\" xlink:type=\"simple\"><path d=\"M118,253.76 C118,270.17 118,287.52 118,300.75 \" fill=\"none\" id=\"E2&lt;-E3\" style=\"stroke: #383838; stroke-width: 1.0;\"/><polygon fill=\"#FFFFFF\" points=\"118,240.31,114,246.31,118,252.31,122,246.31,118,240.31\" style=\"stroke: #383838; stroke-width: 1.0;\"/><text fill=\"#000000\" font-family=\"sans-serif\" font-size=\"13\" lengthAdjust=\"spacingAndGlyphs\" textLength=\"7\" x=\"110.1031\" y=\"289.9622\">*</text></a><!--MD5=[ddeed8deb2209213b62e6cfabaa108b2]\n",
       "reverse link E4 to E2--><a href=\"psysml:e345a4af-2fbe-4f5b-aa1f-c95f9761e116\" target=\"_top\" title=\"psysml:e345a4af-2fbe-4f5b-aa1f-c95f9761e116\" xlink:actuate=\"onRequest\" xlink:href=\"psysml:e345a4af-2fbe-4f5b-aa1f-c95f9761e116\" xlink:show=\"new\" xlink:title=\"psysml:e345a4af-2fbe-4f5b-aa1f-c95f9761e116\" xlink:type=\"simple\"><path d=\"M118,100.42 C118,119.95 118,144.19 118,163.97 \" fill=\"none\" id=\"E4&lt;-E2\" style=\"stroke: #383838; stroke-width: 1.0;\"/><polygon fill=\"#FFFFFF\" points=\"118,87.15,114,93.15,118,99.15,122,93.15,118,87.15\" style=\"stroke: #383838; stroke-width: 1.0;\"/><text fill=\"#000000\" font-family=\"sans-serif\" font-size=\"13\" lengthAdjust=\"spacingAndGlyphs\" textLength=\"7\" x=\"119\" y=\"130.0669\">c</text></a><!--MD5=[83c8d6236ee5f5665fc0aec7b5de03cb]\n",
       "@startuml\r\n",
       "skinparam monochrome true\r\n",
       "skinparam classbackgroundcolor white\r\n",
       "skinparam shadowing false\r\n",
       "skinparam wrapWidth 300\r\n",
       "hide circle\r\n",
       "\r\n",
       "package \"TextualRepresentationTest\" as E1  [[psysml:a059710d-e8aa-4b22-8023-1459b734d0f7 ]]  {\r\n",
       "comp def \"C\" as E2  <<(T,blue) item  def>> [[psysml:a14c26f5-bb93-4792-a45e-179361bfe6e1 ]] {\r\n",
       "- - attributes - -\r\n",
       "x: Real\r\n",
       "}\r\n",
       "comp usage \"x_constraint \" as E3  <<(T,blue) assert constraint>> [[psysml:b9ffc3c6-eeca-4712-be2d-56262eb1e98d ]] {\r\n",
       "}\r\n",
       "comp def \"setX\" as E4  <<(T,blue) action  def>> [[psysml:ee57fb5c-c168-4cf6-8494-2ae72f89f8ea ]] {\r\n",
       "}\r\n",
       "}\r\n",
       "E2 o- - \"*\"E3 [[psysml:25bb36ff-df1f-4894-9e3f-bec813bc6d8c ]] \r\n",
       "E4 o- - E2 [[psysml:e345a4af-2fbe-4f5b-aa1f-c95f9761e116 ]] : c\r\n",
       "@enduml\r\n",
       "\n",
       "PlantUML version 1.2020.13(Sat Jun 13 12:26:38 UTC 2020)\n",
       "(EPL source distribution)\n",
       "Java Runtime: OpenJDK Runtime Environment\n",
       "JVM: OpenJDK 64-Bit Server VM\n",
       "Default Encoding: UTF-8\n",
       "Language: en\n",
       "Country: null\n",
       "--></g></svg>"
      ]
     },
     "execution_count": 38,
     "metadata": {},
     "output_type": "execute_result"
    }
   ],
   "source": [
    "%viz --style=\"DEFAULT\" --view=\"Tree\" \"TextualRepresentationTest\""
   ]
  },
  {
   "cell_type": "code",
   "execution_count": 39,
   "id": "7117b399",
   "metadata": {
    "execution": {
     "iopub.execute_input": "2022-08-19T08:20:12.839956Z",
     "iopub.status.busy": "2022-08-19T08:20:12.839345Z",
     "iopub.status.idle": "2022-08-19T08:20:12.844977Z",
     "shell.execute_reply": "2022-08-19T08:20:12.844560Z"
    }
   },
   "outputs": [
    {
     "data": {
      "image/svg+xml": [
       "<?xml version=\"1.0\" encoding=\"UTF-8\" standalone=\"no\"?><svg xmlns=\"http://www.w3.org/2000/svg\" xmlns:xlink=\"http://www.w3.org/1999/xlink\" contentScriptType=\"application/ecmascript\" contentStyleType=\"text/css\" height=\"12px\" preserveAspectRatio=\"none\" style=\"width:12px;height:12px;\" version=\"1.1\" viewBox=\"0 0 12 12\" width=\"12px\" zoomAndPan=\"magnify\"><defs/><g><!--MD5=[c5f280e076d0d61ccf4b0f27871bda1d]\n",
       "@startuml\r\n",
       "skinparam monochrome true\r\n",
       "skinparam classbackgroundcolor white\r\n",
       "skinparam shadowing false\r\n",
       "skinparam wrapWidth 300\r\n",
       "hide circle\r\n",
       "\r\n",
       "@enduml\r\n",
       "\n",
       "PlantUML version 1.2020.13(Sat Jun 13 12:26:38 UTC 2020)\n",
       "(EPL source distribution)\n",
       "Java Runtime: OpenJDK Runtime Environment\n",
       "JVM: OpenJDK 64-Bit Server VM\n",
       "Default Encoding: UTF-8\n",
       "Language: en\n",
       "Country: null\n",
       "--></g></svg>"
      ]
     },
     "execution_count": 39,
     "metadata": {},
     "output_type": "execute_result"
    }
   ],
   "source": [
    "%viz --style=\"DEFAULT\" --view=\"State\" \"TextualRepresentationTest\""
   ]
  },
  {
   "cell_type": "code",
   "execution_count": 40,
   "id": "f7a8a148",
   "metadata": {
    "execution": {
     "iopub.execute_input": "2022-08-19T08:20:12.894830Z",
     "iopub.status.busy": "2022-08-19T08:20:12.894289Z",
     "iopub.status.idle": "2022-08-19T08:20:12.922601Z",
     "shell.execute_reply": "2022-08-19T08:20:12.922181Z"
    }
   },
   "outputs": [
    {
     "data": {
      "image/svg+xml": [
       "<?xml version=\"1.0\" encoding=\"UTF-8\" standalone=\"no\"?><svg xmlns=\"http://www.w3.org/2000/svg\" xmlns:xlink=\"http://www.w3.org/1999/xlink\" contentScriptType=\"application/ecmascript\" contentStyleType=\"text/css\" height=\"179px\" preserveAspectRatio=\"none\" style=\"width:292px;height:179px;\" version=\"1.1\" viewBox=\"0 0 292 179\" width=\"292px\" zoomAndPan=\"magnify\"><defs/><g><!--MD5=[fbc87193dbaf4d95561dea2c320d4a47]\n",
       "cluster E1--><a href=\"psysml:a059710d-e8aa-4b22-8023-1459b734d0f7\" target=\"_top\" title=\"psysml:a059710d-e8aa-4b22-8023-1459b734d0f7\" xlink:actuate=\"onRequest\" xlink:href=\"psysml:a059710d-e8aa-4b22-8023-1459b734d0f7\" xlink:show=\"new\" xlink:title=\"psysml:a059710d-e8aa-4b22-8023-1459b734d0f7\" xlink:type=\"simple\"><polygon fill=\"#FFFFFF\" points=\"16,6,210,6,217,28.2969,270,28.2969,270,167,16,167,16,6\" style=\"stroke: #000000; stroke-width: 1.5;\"/><line style=\"stroke: #000000; stroke-width: 1.5;\" x1=\"16\" x2=\"217\" y1=\"28.2969\" y2=\"28.2969\"/><text fill=\"#000000\" font-family=\"sans-serif\" font-size=\"14\" font-weight=\"bold\" lengthAdjust=\"spacingAndGlyphs\" textLength=\"188\" x=\"20\" y=\"20.9951\">TextualRepresentationTest</text></a><!--MD5=[d5e69f78d87373223dbae638b30a9c99]\n",
       "cluster E3--><a href=\"psysml:ee57fb5c-c168-4cf6-8494-2ae72f89f8ea\" target=\"_top\" title=\"psysml:ee57fb5c-c168-4cf6-8494-2ae72f89f8ea\" xlink:actuate=\"onRequest\" xlink:href=\"psysml:ee57fb5c-c168-4cf6-8494-2ae72f89f8ea\" xlink:show=\"new\" xlink:title=\"psysml:ee57fb5c-c168-4cf6-8494-2ae72f89f8ea\" xlink:type=\"simple\"><rect fill=\"#FFFFFF\" height=\"88.5\" id=\"E3\" style=\"stroke: #383838; stroke-width: 1.5;\" width=\"100\" x=\"122.5\" y=\"62.5\"/><rect fill=\"#F8F8F8\" height=\"37.9375\" style=\"stroke: #383838; stroke-width: 1.5;\" width=\"100\" x=\"122.5\" y=\"62.5\"/><text fill=\"#000000\" font-family=\"sans-serif\" font-size=\"12\" font-style=\"italic\" lengthAdjust=\"spacingAndGlyphs\" textLength=\"81\" x=\"132\" y=\"78.6387\">«action  def»</text><text fill=\"#000000\" font-family=\"sans-serif\" font-size=\"12\" lengthAdjust=\"spacingAndGlyphs\" textLength=\"27\" x=\"159\" y=\"92.6074\">setX</text></a><g id=\"E1.E2\"><a href=\"psysml:a14c26f5-bb93-4792-a45e-179361bfe6e1\" target=\"_top\" title=\"psysml:a14c26f5-bb93-4792-a45e-179361bfe6e1\" xlink:actuate=\"onRequest\" xlink:href=\"psysml:a14c26f5-bb93-4792-a45e-179361bfe6e1\" xlink:show=\"new\" xlink:title=\"psysml:a14c26f5-bb93-4792-a45e-179361bfe6e1\" xlink:type=\"simple\"><rect fill=\"#FFFFFF\" height=\"42.9375\" id=\"E2\" style=\"stroke: #383838; stroke-width: 1.5;\" width=\"76\" x=\"32\" y=\"41\"/><rect fill=\"#F8F8F8\" height=\"37.9375\" style=\"stroke: #383838; stroke-width: 1.5;\" width=\"76\" x=\"32\" y=\"41\"/><text fill=\"#000000\" font-family=\"sans-serif\" font-size=\"12\" font-style=\"italic\" lengthAdjust=\"spacingAndGlyphs\" textLength=\"69\" x=\"35.5\" y=\"57.1387\">«item  def»</text><text fill=\"#000000\" font-family=\"sans-serif\" font-size=\"12\" lengthAdjust=\"spacingAndGlyphs\" textLength=\"8\" x=\"66\" y=\"71.1074\">C</text></a></g><text fill=\"#000000\" font-family=\"sans-serif\" font-size=\"14\" lengthAdjust=\"spacingAndGlyphs\" textLength=\"8\" x=\"145\" y=\"41.1982\">c</text><rect fill=\"#383838\" height=\"12\" style=\"stroke: #F8F8F8; stroke-width: 1.5;\" width=\"12\" x=\"143\" y=\"56.5\"/><text fill=\"#000000\" font-family=\"sans-serif\" font-size=\"14\" lengthAdjust=\"spacingAndGlyphs\" textLength=\"38\" x=\"177\" y=\"41.1982\">newX</text><rect fill=\"#383838\" height=\"12\" style=\"stroke: #F8F8F8; stroke-width: 1.5;\" width=\"12\" x=\"190\" y=\"56.5\"/><!--MD5=[10ca374fd884ecbb09b6e7547d7bf6ec]\n",
       "@startuml\r\n",
       "skinparam ranksep 10\r\n",
       "skinparam rectangle {\r\n",
       " backgroundColor<<block>> LightGreen\r\n",
       "}\r\n",
       "skinparam monochrome true\r\n",
       "skinparam classbackgroundcolor white\r\n",
       "skinparam shadowing false\r\n",
       "skinparam wrapWidth 300\r\n",
       "hide circle\r\n",
       "\r\n",
       "package \"TextualRepresentationTest\" as E1  [[psysml:a059710d-e8aa-4b22-8023-1459b734d0f7 ]]  {\r\n",
       "def \"C\" as E2  <<(T,blue) item  def>> [[psysml:a14c26f5-bb93-4792-a45e-179361bfe6e1 ]] \r\n",
       "rec def \"setX\" as E3  <<(T,blue) action  def>> [[psysml:ee57fb5c-c168-4cf6-8494-2ae72f89f8ea ]] {\r\n",
       "portin \"c\" as E4  [[psysml:e345a4af-2fbe-4f5b-aa1f-c95f9761e116 ]] \r\n",
       "portin \"newX\" as E5  [[psysml:bef11b08-4405-4f10-b98d-dfe807135273 ]] \r\n",
       "}\r\n",
       "\r\n",
       "}\r\n",
       "@enduml\r\n",
       "\n",
       "PlantUML version 1.2020.13(Sat Jun 13 12:26:38 UTC 2020)\n",
       "(EPL source distribution)\n",
       "Java Runtime: OpenJDK Runtime Environment\n",
       "JVM: OpenJDK 64-Bit Server VM\n",
       "Default Encoding: UTF-8\n",
       "Language: en\n",
       "Country: null\n",
       "--></g></svg>"
      ]
     },
     "execution_count": 40,
     "metadata": {},
     "output_type": "execute_result"
    }
   ],
   "source": [
    "%viz --style=\"DEFAULT\" --view=\"Interconnection\" \"TextualRepresentationTest\""
   ]
  },
  {
   "cell_type": "code",
   "execution_count": 41,
   "id": "f8f4acd6",
   "metadata": {
    "execution": {
     "iopub.execute_input": "2022-08-19T08:20:12.972397Z",
     "iopub.status.busy": "2022-08-19T08:20:12.971861Z",
     "iopub.status.idle": "2022-08-19T08:20:12.994972Z",
     "shell.execute_reply": "2022-08-19T08:20:12.994492Z"
    }
   },
   "outputs": [
    {
     "data": {
      "image/svg+xml": [
       "<?xml version=\"1.0\" encoding=\"UTF-8\" standalone=\"no\"?><svg xmlns=\"http://www.w3.org/2000/svg\" xmlns:xlink=\"http://www.w3.org/1999/xlink\" contentScriptType=\"application/ecmascript\" contentStyleType=\"text/css\" height=\"126px\" preserveAspectRatio=\"none\" style=\"width:152px;height:126px;\" version=\"1.1\" viewBox=\"0 0 152 126\" width=\"152px\" zoomAndPan=\"magnify\"><defs/><g><!--MD5=[fbc87193dbaf4d95561dea2c320d4a47]\n",
       "cluster E1--><a href=\"psysml:ee57fb5c-c168-4cf6-8494-2ae72f89f8ea\" target=\"_top\" title=\"psysml:ee57fb5c-c168-4cf6-8494-2ae72f89f8ea\" xlink:actuate=\"onRequest\" xlink:href=\"psysml:ee57fb5c-c168-4cf6-8494-2ae72f89f8ea\" xlink:show=\"new\" xlink:title=\"psysml:ee57fb5c-c168-4cf6-8494-2ae72f89f8ea\" xlink:type=\"simple\"><rect fill=\"#FFFFFF\" height=\"73\" id=\"E1\" style=\"stroke: #383838; stroke-width: 1.5;\" width=\"134\" x=\"7\" y=\"42.0986\"/><rect fill=\"#F8F8F8\" height=\"37.9375\" style=\"stroke: #383838; stroke-width: 1.5;\" width=\"134\" x=\"7\" y=\"42.0986\"/><text fill=\"#000000\" font-family=\"sans-serif\" font-size=\"12\" font-style=\"italic\" lengthAdjust=\"spacingAndGlyphs\" textLength=\"81\" x=\"33.5\" y=\"58.2373\">«action  def»</text><text fill=\"#000000\" font-family=\"sans-serif\" font-size=\"12\" lengthAdjust=\"spacingAndGlyphs\" textLength=\"27\" x=\"60.5\" y=\"72.2061\">setX</text></a><text fill=\"#000000\" font-family=\"sans-serif\" font-size=\"14\" lengthAdjust=\"spacingAndGlyphs\" textLength=\"8\" x=\"21\" y=\"20.7969\">c</text><rect fill=\"#383838\" height=\"12\" style=\"stroke: #F8F8F8; stroke-width: 1.5;\" width=\"12\" x=\"19\" y=\"36.0986\"/><text fill=\"#000000\" font-family=\"sans-serif\" font-size=\"14\" lengthAdjust=\"spacingAndGlyphs\" textLength=\"38\" x=\"53\" y=\"20.7969\">newX</text><rect fill=\"#383838\" height=\"12\" style=\"stroke: #F8F8F8; stroke-width: 1.5;\" width=\"12\" x=\"66\" y=\"36.0986\"/><!--MD5=[5e09466a0c23fdba6b83f45e2d6df1a3]\n",
       "@startuml\r\n",
       "skinparam ranksep 8\r\n",
       "skinparam monochrome true\r\n",
       "skinparam classbackgroundcolor white\r\n",
       "skinparam shadowing false\r\n",
       "skinparam wrapWidth 300\r\n",
       "hide circle\r\n",
       "\r\n",
       "rec def \"setX\" as E1  <<(T,blue) action  def>> [[psysml:ee57fb5c-c168-4cf6-8494-2ae72f89f8ea ]] {\r\n",
       "portin \"c\" as E2  [[psysml:e345a4af-2fbe-4f5b-aa1f-c95f9761e116 ]] \r\n",
       "portin \"newX\" as E3  [[psysml:bef11b08-4405-4f10-b98d-dfe807135273 ]] \r\n",
       "}\r\n",
       "\r\n",
       "@enduml\r\n",
       "\n",
       "PlantUML version 1.2020.13(Sat Jun 13 12:26:38 UTC 2020)\n",
       "(EPL source distribution)\n",
       "Java Runtime: OpenJDK Runtime Environment\n",
       "JVM: OpenJDK 64-Bit Server VM\n",
       "Default Encoding: UTF-8\n",
       "Language: en\n",
       "Country: null\n",
       "--></g></svg>"
      ]
     },
     "execution_count": 41,
     "metadata": {},
     "output_type": "execute_result"
    }
   ],
   "source": [
    "%viz --style=\"DEFAULT\" --view=\"Action\" \"TextualRepresentationTest\""
   ]
  },
  {
   "cell_type": "code",
   "execution_count": 42,
   "id": "95a62b84",
   "metadata": {
    "execution": {
     "iopub.execute_input": "2022-08-19T08:20:13.044455Z",
     "iopub.status.busy": "2022-08-19T08:20:13.043964Z",
     "iopub.status.idle": "2022-08-19T08:20:13.049613Z",
     "shell.execute_reply": "2022-08-19T08:20:13.049211Z"
    }
   },
   "outputs": [
    {
     "data": {
      "image/svg+xml": [
       "<?xml version=\"1.0\" encoding=\"UTF-8\" standalone=\"no\"?><svg xmlns=\"http://www.w3.org/2000/svg\" xmlns:xlink=\"http://www.w3.org/1999/xlink\" contentScriptType=\"application/ecmascript\" contentStyleType=\"text/css\" height=\"12px\" preserveAspectRatio=\"none\" style=\"width:12px;height:12px;\" version=\"1.1\" viewBox=\"0 0 12 12\" width=\"12px\" zoomAndPan=\"magnify\"><defs/><g><!--MD5=[0b72472770326784bf6c2b53246e1e64]\n",
       "@startuml\r\n",
       "skinparam roundcorner 20\r\n",
       "skinparam BoxPadding 20\r\n",
       "skinparam SequenceBoxBackgroundColor #white\r\n",
       "skinparam style strictuml\r\n",
       "skinparam maxMessageSize 100\r\n",
       "skinparam monochrome true\r\n",
       "skinparam classbackgroundcolor white\r\n",
       "skinparam shadowing false\r\n",
       "skinparam wrapWidth 300\r\n",
       "hide circle\r\n",
       "\r\n",
       "@enduml\r\n",
       "\n",
       "PlantUML version 1.2020.13(Sat Jun 13 12:26:38 UTC 2020)\n",
       "(EPL source distribution)\n",
       "Java Runtime: OpenJDK Runtime Environment\n",
       "JVM: OpenJDK 64-Bit Server VM\n",
       "Default Encoding: UTF-8\n",
       "Language: en\n",
       "Country: null\n",
       "--></g></svg>"
      ]
     },
     "execution_count": 42,
     "metadata": {},
     "output_type": "execute_result"
    }
   ],
   "source": [
    "%viz --style=\"DEFAULT\" --view=\"Sequence\" \"TextualRepresentationTest\""
   ]
  },
  {
   "cell_type": "code",
   "execution_count": 43,
   "id": "06678296",
   "metadata": {
    "execution": {
     "iopub.execute_input": "2022-08-19T08:20:13.099497Z",
     "iopub.status.busy": "2022-08-19T08:20:13.099019Z",
     "iopub.status.idle": "2022-08-19T08:20:13.139021Z",
     "shell.execute_reply": "2022-08-19T08:20:13.138586Z"
    }
   },
   "outputs": [
    {
     "data": {
      "image/svg+xml": [
       "<?xml version=\"1.0\" encoding=\"UTF-8\" standalone=\"no\"?><svg xmlns=\"http://www.w3.org/2000/svg\" xmlns:xlink=\"http://www.w3.org/1999/xlink\" contentScriptType=\"application/ecmascript\" contentStyleType=\"text/css\" height=\"261px\" preserveAspectRatio=\"none\" style=\"width:351px;height:261px;\" version=\"1.1\" viewBox=\"0 0 351 261\" width=\"351px\" zoomAndPan=\"magnify\"><defs/><g><!--MD5=[fbc87193dbaf4d95561dea2c320d4a47]\n",
       "cluster E1--><a href=\"psysml:a059710d-e8aa-4b22-8023-1459b734d0f7\" target=\"_top\" title=\"psysml:a059710d-e8aa-4b22-8023-1459b734d0f7\" xlink:actuate=\"onRequest\" xlink:href=\"psysml:a059710d-e8aa-4b22-8023-1459b734d0f7\" xlink:show=\"new\" xlink:title=\"psysml:a059710d-e8aa-4b22-8023-1459b734d0f7\" xlink:type=\"simple\"><polygon fill=\"#FFFFFF\" points=\"16,6,210,6,217,28.2969,329,28.2969,329,249.5,16,249.5,16,6\" style=\"stroke: #000000; stroke-width: 1.5;\"/><line style=\"stroke: #000000; stroke-width: 1.5;\" x1=\"16\" x2=\"217\" y1=\"28.2969\" y2=\"28.2969\"/><text fill=\"#000000\" font-family=\"sans-serif\" font-size=\"14\" font-weight=\"bold\" lengthAdjust=\"spacingAndGlyphs\" textLength=\"188\" x=\"20\" y=\"20.9951\">TextualRepresentationTest</text></a><!--MD5=[f6df4d0ebaf0b5dfb2ced0ae5af7c670]\n",
       "cluster E4--><a href=\"psysml:ee57fb5c-c168-4cf6-8494-2ae72f89f8ea\" target=\"_top\" title=\"psysml:ee57fb5c-c168-4cf6-8494-2ae72f89f8ea\" xlink:actuate=\"onRequest\" xlink:href=\"psysml:ee57fb5c-c168-4cf6-8494-2ae72f89f8ea\" xlink:show=\"new\" xlink:title=\"psysml:ee57fb5c-c168-4cf6-8494-2ae72f89f8ea\" xlink:type=\"simple\"><rect fill=\"#FFFFFF\" height=\"154.5\" id=\"E4\" style=\"stroke: #383838; stroke-width: 1.5;\" width=\"134\" x=\"179\" y=\"79\"/><rect fill=\"#F8F8F8\" height=\"37.9375\" style=\"stroke: #383838; stroke-width: 1.5;\" width=\"134\" x=\"179\" y=\"79\"/><text fill=\"#000000\" font-family=\"sans-serif\" font-size=\"12\" font-style=\"italic\" lengthAdjust=\"spacingAndGlyphs\" textLength=\"81\" x=\"205.5\" y=\"95.1387\">«action  def»</text><text fill=\"#000000\" font-family=\"sans-serif\" font-size=\"12\" lengthAdjust=\"spacingAndGlyphs\" textLength=\"27\" x=\"232.5\" y=\"109.1074\">setX</text></a><!--MD5=[b4997ac47864f28c2f74865a473b2911]\n",
       "class E2--><a href=\"psysml:a14c26f5-bb93-4792-a45e-179361bfe6e1\" target=\"_top\" title=\"psysml:a14c26f5-bb93-4792-a45e-179361bfe6e1\" xlink:actuate=\"onRequest\" xlink:href=\"psysml:a14c26f5-bb93-4792-a45e-179361bfe6e1\" xlink:show=\"new\" xlink:title=\"psysml:a14c26f5-bb93-4792-a45e-179361bfe6e1\" xlink:type=\"simple\"><rect fill=\"#FFFFFF\" height=\"75.5469\" id=\"E2\" style=\"stroke: #383838; stroke-width: 1.5;\" width=\"71\" x=\"58.5\" y=\"41\"/><text fill=\"#000000\" font-family=\"sans-serif\" font-size=\"12\" font-style=\"italic\" lengthAdjust=\"spacingAndGlyphs\" textLength=\"69\" x=\"59.5\" y=\"57.1387\">«item  def»</text><text fill=\"#000000\" font-family=\"sans-serif\" font-size=\"12\" lengthAdjust=\"spacingAndGlyphs\" textLength=\"8\" x=\"90\" y=\"71.1074\">C</text><line style=\"stroke: #383838; stroke-width: 1.5;\" x1=\"59.5\" x2=\"128.5\" y1=\"78.9375\" y2=\"78.9375\"/><text fill=\"#000000\" font-family=\"sans-serif\" font-size=\"11\" lengthAdjust=\"spacingAndGlyphs\" textLength=\"38\" x=\"64.5\" y=\"109.9526\">x: Real</text><line style=\"stroke: #383838; stroke-width: 1.0;\" x1=\"59.5\" x2=\"66.5\" y1=\"93.3398\" y2=\"93.3398\"/><text fill=\"#000000\" font-family=\"sans-serif\" font-size=\"11\" lengthAdjust=\"spacingAndGlyphs\" textLength=\"55\" x=\"66.5\" y=\"96.6479\">attributes</text><line style=\"stroke: #383838; stroke-width: 1.0;\" x1=\"121.5\" x2=\"128.5\" y1=\"93.3398\" y2=\"93.3398\"/></a><!--MD5=[09b614a08d8cba4a07c9adeb5e0fee81]\n",
       "class E3--><a href=\"psysml:b9ffc3c6-eeca-4712-be2d-56262eb1e98d\" target=\"_top\" title=\"psysml:b9ffc3c6-eeca-4712-be2d-56262eb1e98d\" xlink:actuate=\"onRequest\" xlink:href=\"psysml:b9ffc3c6-eeca-4712-be2d-56262eb1e98d\" xlink:show=\"new\" xlink:title=\"psysml:b9ffc3c6-eeca-4712-be2d-56262eb1e98d\" xlink:type=\"simple\"><rect fill=\"#FFFFFF\" height=\"45.9375\" id=\"E3\" rx=\"10\" ry=\"10\" style=\"stroke: #383838; stroke-width: 1.5;\" width=\"124\" x=\"32\" y=\"177\"/><text fill=\"#000000\" font-family=\"sans-serif\" font-size=\"12\" font-style=\"italic\" lengthAdjust=\"spacingAndGlyphs\" textLength=\"122\" x=\"33\" y=\"193.1387\">«assert constraint»</text><text fill=\"#000000\" font-family=\"sans-serif\" font-size=\"12\" lengthAdjust=\"spacingAndGlyphs\" textLength=\"76\" x=\"54\" y=\"207.1074\">x_constraint</text><line style=\"stroke: #383838; stroke-width: 1.5;\" x1=\"33\" x2=\"155\" y1=\"214.9375\" y2=\"214.9375\"/></a><text fill=\"#000000\" font-family=\"sans-serif\" font-size=\"14\" lengthAdjust=\"spacingAndGlyphs\" textLength=\"8\" x=\"193\" y=\"57.6982\">c</text><rect fill=\"#383838\" height=\"12\" style=\"stroke: #F8F8F8; stroke-width: 1.5;\" width=\"12\" x=\"191\" y=\"73\"/><text fill=\"#000000\" font-family=\"sans-serif\" font-size=\"14\" lengthAdjust=\"spacingAndGlyphs\" textLength=\"38\" x=\"225\" y=\"57.6982\">newX</text><rect fill=\"#383838\" height=\"12\" style=\"stroke: #F8F8F8; stroke-width: 1.5;\" width=\"12\" x=\"238\" y=\"73\"/><!--MD5=[209b3feb70ccb6233bfe1053d122c12c]\n",
       "reverse link E2 to E3--><a href=\"psysml:25bb36ff-df1f-4894-9e3f-bec813bc6d8c\" target=\"_top\" title=\"psysml:25bb36ff-df1f-4894-9e3f-bec813bc6d8c\" xlink:actuate=\"onRequest\" xlink:href=\"psysml:25bb36ff-df1f-4894-9e3f-bec813bc6d8c\" xlink:show=\"new\" xlink:title=\"psysml:25bb36ff-df1f-4894-9e3f-bec813bc6d8c\" xlink:type=\"simple\"><path d=\"M94,130.34 C94,146.61 94,163.81 94,176.93 \" fill=\"none\" id=\"E2&lt;-E3\" style=\"stroke: #383838; stroke-width: 1.0;\"/><polygon fill=\"#FFFFFF\" points=\"94,117,90,123,94,129,98,123,94,117\" style=\"stroke: #383838; stroke-width: 1.0;\"/><text fill=\"#000000\" font-family=\"sans-serif\" font-size=\"13\" lengthAdjust=\"spacingAndGlyphs\" textLength=\"7\" x=\"86.0594\" y=\"165.8075\">*</text></a><!--MD5=[3c1e0535cd67c3d55a8facd7e7356310]\n",
       "@startuml\r\n",
       "skinparam monochrome true\r\n",
       "skinparam classbackgroundcolor white\r\n",
       "skinparam shadowing false\r\n",
       "skinparam wrapWidth 300\r\n",
       "hide circle\r\n",
       "\r\n",
       "package \"TextualRepresentationTest\" as E1  [[psysml:a059710d-e8aa-4b22-8023-1459b734d0f7 ]]  {\r\n",
       "comp def \"C\" as E2  <<(T,blue) item  def>> [[psysml:a14c26f5-bb93-4792-a45e-179361bfe6e1 ]] {\r\n",
       "- - attributes - -\r\n",
       "x: Real\r\n",
       "}\r\n",
       "comp usage \"x_constraint \" as E3  <<(T,blue) assert constraint>> [[psysml:b9ffc3c6-eeca-4712-be2d-56262eb1e98d ]] {\r\n",
       "}\r\n",
       "rec def \"setX\" as E4  <<(T,blue) action  def>> [[psysml:ee57fb5c-c168-4cf6-8494-2ae72f89f8ea ]] {\r\n",
       "portin \"c\" as E5  [[psysml:e345a4af-2fbe-4f5b-aa1f-c95f9761e116 ]] \r\n",
       "portin \"newX\" as E6  [[psysml:bef11b08-4405-4f10-b98d-dfe807135273 ]] \r\n",
       "}\r\n",
       "\r\n",
       "}\r\n",
       "E2 o- - \"*\"E3 [[psysml:25bb36ff-df1f-4894-9e3f-bec813bc6d8c ]] \r\n",
       "@enduml\r\n",
       "\n",
       "PlantUML version 1.2020.13(Sat Jun 13 12:26:38 UTC 2020)\n",
       "(EPL source distribution)\n",
       "Java Runtime: OpenJDK Runtime Environment\n",
       "JVM: OpenJDK 64-Bit Server VM\n",
       "Default Encoding: UTF-8\n",
       "Language: en\n",
       "Country: null\n",
       "--></g></svg>"
      ]
     },
     "execution_count": 43,
     "metadata": {},
     "output_type": "execute_result"
    }
   ],
   "source": [
    "%viz --style=\"DEFAULT\" --view=\"MIXED\" \"TextualRepresentationTest\""
   ]
  },
  {
   "cell_type": "code",
   "execution_count": 44,
   "id": "4f109e6e",
   "metadata": {
    "execution": {
     "iopub.execute_input": "2022-08-19T08:20:13.188462Z",
     "iopub.status.busy": "2022-08-19T08:20:13.188009Z",
     "iopub.status.idle": "2022-08-19T08:20:13.232034Z",
     "shell.execute_reply": "2022-08-19T08:20:13.231564Z"
    }
   },
   "outputs": [
    {
     "data": {
      "image/svg+xml": [
       "<?xml version=\"1.0\" encoding=\"UTF-8\" standalone=\"no\"?><svg xmlns=\"http://www.w3.org/2000/svg\" xmlns:xlink=\"http://www.w3.org/1999/xlink\" contentScriptType=\"application/ecmascript\" contentStyleType=\"text/css\" height=\"261px\" preserveAspectRatio=\"none\" style=\"width:351px;height:261px;\" version=\"1.1\" viewBox=\"0 0 351 261\" width=\"351px\" zoomAndPan=\"magnify\"><defs/><g><!--MD5=[fbc87193dbaf4d95561dea2c320d4a47]\n",
       "cluster E1--><a href=\"psysml:a059710d-e8aa-4b22-8023-1459b734d0f7\" target=\"_top\" title=\"psysml:a059710d-e8aa-4b22-8023-1459b734d0f7\" xlink:actuate=\"onRequest\" xlink:href=\"psysml:a059710d-e8aa-4b22-8023-1459b734d0f7\" xlink:show=\"new\" xlink:title=\"psysml:a059710d-e8aa-4b22-8023-1459b734d0f7\" xlink:type=\"simple\"><polygon fill=\"#FFFFFF\" points=\"16,6,210,6,217,28.2969,329,28.2969,329,249.5,16,249.5,16,6\" style=\"stroke: #000000; stroke-width: 1.5;\"/><line style=\"stroke: #000000; stroke-width: 1.5;\" x1=\"16\" x2=\"217\" y1=\"28.2969\" y2=\"28.2969\"/><text fill=\"#000000\" font-family=\"sans-serif\" font-size=\"14\" font-weight=\"bold\" lengthAdjust=\"spacingAndGlyphs\" textLength=\"188\" x=\"20\" y=\"20.9951\">TextualRepresentationTest</text></a><!--MD5=[f6df4d0ebaf0b5dfb2ced0ae5af7c670]\n",
       "cluster E4--><a href=\"psysml:ee57fb5c-c168-4cf6-8494-2ae72f89f8ea\" target=\"_top\" title=\"psysml:ee57fb5c-c168-4cf6-8494-2ae72f89f8ea\" xlink:actuate=\"onRequest\" xlink:href=\"psysml:ee57fb5c-c168-4cf6-8494-2ae72f89f8ea\" xlink:show=\"new\" xlink:title=\"psysml:ee57fb5c-c168-4cf6-8494-2ae72f89f8ea\" xlink:type=\"simple\"><rect fill=\"#FFFFFF\" height=\"154.5\" id=\"E4\" style=\"stroke: #383838; stroke-width: 1.5;\" width=\"134\" x=\"179\" y=\"79\"/><rect fill=\"#F8F8F8\" height=\"37.9375\" style=\"stroke: #383838; stroke-width: 1.5;\" width=\"134\" x=\"179\" y=\"79\"/><text fill=\"#000000\" font-family=\"sans-serif\" font-size=\"12\" font-style=\"italic\" lengthAdjust=\"spacingAndGlyphs\" textLength=\"81\" x=\"205.5\" y=\"95.1387\">«action  def»</text><text fill=\"#000000\" font-family=\"sans-serif\" font-size=\"12\" lengthAdjust=\"spacingAndGlyphs\" textLength=\"27\" x=\"232.5\" y=\"109.1074\">setX</text></a><!--MD5=[b4997ac47864f28c2f74865a473b2911]\n",
       "class E2--><a href=\"psysml:a14c26f5-bb93-4792-a45e-179361bfe6e1\" target=\"_top\" title=\"psysml:a14c26f5-bb93-4792-a45e-179361bfe6e1\" xlink:actuate=\"onRequest\" xlink:href=\"psysml:a14c26f5-bb93-4792-a45e-179361bfe6e1\" xlink:show=\"new\" xlink:title=\"psysml:a14c26f5-bb93-4792-a45e-179361bfe6e1\" xlink:type=\"simple\"><rect fill=\"#FFFFFF\" height=\"75.5469\" id=\"E2\" style=\"stroke: #383838; stroke-width: 1.5;\" width=\"71\" x=\"58.5\" y=\"41\"/><text fill=\"#000000\" font-family=\"sans-serif\" font-size=\"12\" font-style=\"italic\" lengthAdjust=\"spacingAndGlyphs\" textLength=\"69\" x=\"59.5\" y=\"57.1387\">«item  def»</text><text fill=\"#000000\" font-family=\"sans-serif\" font-size=\"12\" lengthAdjust=\"spacingAndGlyphs\" textLength=\"8\" x=\"90\" y=\"71.1074\">C</text><line style=\"stroke: #383838; stroke-width: 1.5;\" x1=\"59.5\" x2=\"128.5\" y1=\"78.9375\" y2=\"78.9375\"/><text fill=\"#000000\" font-family=\"sans-serif\" font-size=\"11\" lengthAdjust=\"spacingAndGlyphs\" textLength=\"38\" x=\"64.5\" y=\"109.9526\">x: Real</text><line style=\"stroke: #383838; stroke-width: 1.0;\" x1=\"59.5\" x2=\"66.5\" y1=\"93.3398\" y2=\"93.3398\"/><text fill=\"#000000\" font-family=\"sans-serif\" font-size=\"11\" lengthAdjust=\"spacingAndGlyphs\" textLength=\"55\" x=\"66.5\" y=\"96.6479\">attributes</text><line style=\"stroke: #383838; stroke-width: 1.0;\" x1=\"121.5\" x2=\"128.5\" y1=\"93.3398\" y2=\"93.3398\"/></a><!--MD5=[09b614a08d8cba4a07c9adeb5e0fee81]\n",
       "class E3--><a href=\"psysml:b9ffc3c6-eeca-4712-be2d-56262eb1e98d\" target=\"_top\" title=\"psysml:b9ffc3c6-eeca-4712-be2d-56262eb1e98d\" xlink:actuate=\"onRequest\" xlink:href=\"psysml:b9ffc3c6-eeca-4712-be2d-56262eb1e98d\" xlink:show=\"new\" xlink:title=\"psysml:b9ffc3c6-eeca-4712-be2d-56262eb1e98d\" xlink:type=\"simple\"><rect fill=\"#FFFFFF\" height=\"45.9375\" id=\"E3\" rx=\"10\" ry=\"10\" style=\"stroke: #383838; stroke-width: 1.5;\" width=\"124\" x=\"32\" y=\"177\"/><text fill=\"#000000\" font-family=\"sans-serif\" font-size=\"12\" font-style=\"italic\" lengthAdjust=\"spacingAndGlyphs\" textLength=\"122\" x=\"33\" y=\"193.1387\">«assert constraint»</text><text fill=\"#000000\" font-family=\"sans-serif\" font-size=\"12\" lengthAdjust=\"spacingAndGlyphs\" textLength=\"76\" x=\"54\" y=\"207.1074\">x_constraint</text><line style=\"stroke: #383838; stroke-width: 1.5;\" x1=\"33\" x2=\"155\" y1=\"214.9375\" y2=\"214.9375\"/></a><text fill=\"#000000\" font-family=\"sans-serif\" font-size=\"14\" lengthAdjust=\"spacingAndGlyphs\" textLength=\"8\" x=\"193\" y=\"57.6982\">c</text><rect fill=\"#383838\" height=\"12\" style=\"stroke: #F8F8F8; stroke-width: 1.5;\" width=\"12\" x=\"191\" y=\"73\"/><text fill=\"#000000\" font-family=\"sans-serif\" font-size=\"14\" lengthAdjust=\"spacingAndGlyphs\" textLength=\"38\" x=\"225\" y=\"57.6982\">newX</text><rect fill=\"#383838\" height=\"12\" style=\"stroke: #F8F8F8; stroke-width: 1.5;\" width=\"12\" x=\"238\" y=\"73\"/><!--MD5=[209b3feb70ccb6233bfe1053d122c12c]\n",
       "reverse link E2 to E3--><a href=\"psysml:25bb36ff-df1f-4894-9e3f-bec813bc6d8c\" target=\"_top\" title=\"psysml:25bb36ff-df1f-4894-9e3f-bec813bc6d8c\" xlink:actuate=\"onRequest\" xlink:href=\"psysml:25bb36ff-df1f-4894-9e3f-bec813bc6d8c\" xlink:show=\"new\" xlink:title=\"psysml:25bb36ff-df1f-4894-9e3f-bec813bc6d8c\" xlink:type=\"simple\"><path d=\"M94,130.34 C94,146.61 94,163.81 94,176.93 \" fill=\"none\" id=\"E2&lt;-E3\" style=\"stroke: #383838; stroke-width: 1.0;\"/><polygon fill=\"#FFFFFF\" points=\"94,117,90,123,94,129,98,123,94,117\" style=\"stroke: #383838; stroke-width: 1.0;\"/><text fill=\"#000000\" font-family=\"sans-serif\" font-size=\"13\" lengthAdjust=\"spacingAndGlyphs\" textLength=\"7\" x=\"86.0594\" y=\"165.8075\">*</text></a><!--MD5=[6860590df3a9ed0061feb049100b7662]\n",
       "@startuml\r\n",
       "top to bottom direction\r\n",
       "skinparam monochrome true\r\n",
       "skinparam classbackgroundcolor white\r\n",
       "skinparam shadowing false\r\n",
       "skinparam wrapWidth 300\r\n",
       "hide circle\r\n",
       "\r\n",
       "package \"TextualRepresentationTest\" as E1  [[psysml:a059710d-e8aa-4b22-8023-1459b734d0f7 ]]  {\r\n",
       "comp def \"C\" as E2  <<(T,blue) item  def>> [[psysml:a14c26f5-bb93-4792-a45e-179361bfe6e1 ]] {\r\n",
       "- - attributes - -\r\n",
       "x: Real\r\n",
       "}\r\n",
       "comp usage \"x_constraint \" as E3  <<(T,blue) assert constraint>> [[psysml:b9ffc3c6-eeca-4712-be2d-56262eb1e98d ]] {\r\n",
       "}\r\n",
       "rec def \"setX\" as E4  <<(T,blue) action  def>> [[psysml:ee57fb5c-c168-4cf6-8494-2ae72f89f8ea ]] {\r\n",
       "portin \"c\" as E5  [[psysml:e345a4af-2fbe-4f5b-aa1f-c95f9761e116 ]] \r\n",
       "portin \"newX\" as E6  [[psysml:bef11b08-4405-4f10-b98d-dfe807135273 ]] \r\n",
       "}\r\n",
       "\r\n",
       "}\r\n",
       "E2 o- - \"*\"E3 [[psysml:25bb36ff-df1f-4894-9e3f-bec813bc6d8c ]] \r\n",
       "@enduml\r\n",
       "\n",
       "PlantUML version 1.2020.13(Sat Jun 13 12:26:38 UTC 2020)\n",
       "(EPL source distribution)\n",
       "Java Runtime: OpenJDK Runtime Environment\n",
       "JVM: OpenJDK 64-Bit Server VM\n",
       "Default Encoding: UTF-8\n",
       "Language: en\n",
       "Country: null\n",
       "--></g></svg>"
      ]
     },
     "execution_count": 44,
     "metadata": {},
     "output_type": "execute_result"
    }
   ],
   "source": [
    "%viz --style=\"TB\" --view=\"Default\" \"TextualRepresentationTest\""
   ]
  },
  {
   "cell_type": "code",
   "execution_count": 45,
   "id": "75c7a069",
   "metadata": {
    "execution": {
     "iopub.execute_input": "2022-08-19T08:20:13.281461Z",
     "iopub.status.busy": "2022-08-19T08:20:13.281008Z",
     "iopub.status.idle": "2022-08-19T08:20:13.319914Z",
     "shell.execute_reply": "2022-08-19T08:20:13.318458Z"
    }
   },
   "outputs": [
    {
     "data": {
      "image/svg+xml": [
       "<?xml version=\"1.0\" encoding=\"UTF-8\" standalone=\"no\"?><svg xmlns=\"http://www.w3.org/2000/svg\" xmlns:xlink=\"http://www.w3.org/1999/xlink\" contentScriptType=\"application/ecmascript\" contentStyleType=\"text/css\" height=\"375px\" preserveAspectRatio=\"none\" style=\"width:242px;height:375px;\" version=\"1.1\" viewBox=\"0 0 242 375\" width=\"242px\" zoomAndPan=\"magnify\"><defs/><g><!--MD5=[fbc87193dbaf4d95561dea2c320d4a47]\n",
       "cluster E1--><a href=\"psysml:a059710d-e8aa-4b22-8023-1459b734d0f7\" target=\"_top\" title=\"psysml:a059710d-e8aa-4b22-8023-1459b734d0f7\" xlink:actuate=\"onRequest\" xlink:href=\"psysml:a059710d-e8aa-4b22-8023-1459b734d0f7\" xlink:show=\"new\" xlink:title=\"psysml:a059710d-e8aa-4b22-8023-1459b734d0f7\" xlink:type=\"simple\"><polygon fill=\"#FFFFFF\" points=\"16,6,210,6,217,28.2969,220,28.2969,220,363,16,363,16,6\" style=\"stroke: #000000; stroke-width: 1.5;\"/><line style=\"stroke: #000000; stroke-width: 1.5;\" x1=\"16\" x2=\"217\" y1=\"28.2969\" y2=\"28.2969\"/><text fill=\"#000000\" font-family=\"sans-serif\" font-size=\"14\" font-weight=\"bold\" lengthAdjust=\"spacingAndGlyphs\" textLength=\"188\" x=\"20\" y=\"20.9951\">TextualRepresentationTest</text></a><!--MD5=[b4997ac47864f28c2f74865a473b2911]\n",
       "class E2--><a href=\"psysml:a14c26f5-bb93-4792-a45e-179361bfe6e1\" target=\"_top\" title=\"psysml:a14c26f5-bb93-4792-a45e-179361bfe6e1\" xlink:actuate=\"onRequest\" xlink:href=\"psysml:a14c26f5-bb93-4792-a45e-179361bfe6e1\" xlink:show=\"new\" xlink:title=\"psysml:a14c26f5-bb93-4792-a45e-179361bfe6e1\" xlink:type=\"simple\"><rect fill=\"#FFFFFF\" height=\"75.5469\" id=\"E2\" style=\"stroke: #383838; stroke-width: 1.5;\" width=\"71\" x=\"82.5\" y=\"164\"/><text fill=\"#000000\" font-family=\"sans-serif\" font-size=\"12\" font-style=\"italic\" lengthAdjust=\"spacingAndGlyphs\" textLength=\"69\" x=\"83.5\" y=\"180.1387\">«item  def»</text><text fill=\"#000000\" font-family=\"sans-serif\" font-size=\"12\" lengthAdjust=\"spacingAndGlyphs\" textLength=\"8\" x=\"114\" y=\"194.1074\">C</text><line style=\"stroke: #383838; stroke-width: 1.5;\" x1=\"83.5\" x2=\"152.5\" y1=\"201.9375\" y2=\"201.9375\"/><text fill=\"#000000\" font-family=\"sans-serif\" font-size=\"11\" lengthAdjust=\"spacingAndGlyphs\" textLength=\"38\" x=\"88.5\" y=\"232.9526\">x: Real</text><line style=\"stroke: #383838; stroke-width: 1.0;\" x1=\"83.5\" x2=\"90.5\" y1=\"216.3398\" y2=\"216.3398\"/><text fill=\"#000000\" font-family=\"sans-serif\" font-size=\"11\" lengthAdjust=\"spacingAndGlyphs\" textLength=\"55\" x=\"90.5\" y=\"219.6479\">attributes</text><line style=\"stroke: #383838; stroke-width: 1.0;\" x1=\"145.5\" x2=\"152.5\" y1=\"216.3398\" y2=\"216.3398\"/></a><!--MD5=[09b614a08d8cba4a07c9adeb5e0fee81]\n",
       "class E3--><a href=\"psysml:b9ffc3c6-eeca-4712-be2d-56262eb1e98d\" target=\"_top\" title=\"psysml:b9ffc3c6-eeca-4712-be2d-56262eb1e98d\" xlink:actuate=\"onRequest\" xlink:href=\"psysml:b9ffc3c6-eeca-4712-be2d-56262eb1e98d\" xlink:show=\"new\" xlink:title=\"psysml:b9ffc3c6-eeca-4712-be2d-56262eb1e98d\" xlink:type=\"simple\"><rect fill=\"#FFFFFF\" height=\"45.9375\" id=\"E3\" rx=\"10\" ry=\"10\" style=\"stroke: #383838; stroke-width: 1.5;\" width=\"124\" x=\"56\" y=\"301\"/><text fill=\"#000000\" font-family=\"sans-serif\" font-size=\"12\" font-style=\"italic\" lengthAdjust=\"spacingAndGlyphs\" textLength=\"122\" x=\"57\" y=\"317.1387\">«assert constraint»</text><text fill=\"#000000\" font-family=\"sans-serif\" font-size=\"12\" lengthAdjust=\"spacingAndGlyphs\" textLength=\"76\" x=\"78\" y=\"331.1074\">x_constraint</text><line style=\"stroke: #383838; stroke-width: 1.5;\" x1=\"57\" x2=\"179\" y1=\"338.9375\" y2=\"338.9375\"/></a><!--MD5=[ebbe1d658d1005bcc118a6aa81145e00]\n",
       "class E4--><a href=\"psysml:ee57fb5c-c168-4cf6-8494-2ae72f89f8ea\" target=\"_top\" title=\"psysml:ee57fb5c-c168-4cf6-8494-2ae72f89f8ea\" xlink:actuate=\"onRequest\" xlink:href=\"psysml:ee57fb5c-c168-4cf6-8494-2ae72f89f8ea\" xlink:show=\"new\" xlink:title=\"psysml:ee57fb5c-c168-4cf6-8494-2ae72f89f8ea\" xlink:type=\"simple\"><rect fill=\"#FFFFFF\" height=\"45.9375\" id=\"E4\" style=\"stroke: #383838; stroke-width: 1.5;\" width=\"83\" x=\"76.5\" y=\"41\"/><text fill=\"#000000\" font-family=\"sans-serif\" font-size=\"12\" font-style=\"italic\" lengthAdjust=\"spacingAndGlyphs\" textLength=\"81\" x=\"77.5\" y=\"57.1387\">«action  def»</text><text fill=\"#000000\" font-family=\"sans-serif\" font-size=\"12\" lengthAdjust=\"spacingAndGlyphs\" textLength=\"27\" x=\"104.5\" y=\"71.1074\">setX</text><line style=\"stroke: #383838; stroke-width: 1.5;\" x1=\"77.5\" x2=\"158.5\" y1=\"78.9375\" y2=\"78.9375\"/></a><!--MD5=[209b3feb70ccb6233bfe1053d122c12c]\n",
       "reverse link E2 to E3--><a href=\"psysml:25bb36ff-df1f-4894-9e3f-bec813bc6d8c\" target=\"_top\" title=\"psysml:25bb36ff-df1f-4894-9e3f-bec813bc6d8c\" xlink:actuate=\"onRequest\" xlink:href=\"psysml:25bb36ff-df1f-4894-9e3f-bec813bc6d8c\" xlink:show=\"new\" xlink:title=\"psysml:25bb36ff-df1f-4894-9e3f-bec813bc6d8c\" xlink:type=\"simple\"><path d=\"M118,253.76 C118,270.17 118,287.52 118,300.75 \" fill=\"none\" id=\"E2&lt;-E3\" style=\"stroke: #383838; stroke-width: 1.0;\"/><polygon fill=\"#FFFFFF\" points=\"118,240.31,114,246.31,118,252.31,122,246.31,118,240.31\" style=\"stroke: #383838; stroke-width: 1.0;\"/><text fill=\"#000000\" font-family=\"sans-serif\" font-size=\"13\" lengthAdjust=\"spacingAndGlyphs\" textLength=\"7\" x=\"110.1031\" y=\"289.9622\">*</text></a><!--MD5=[ddeed8deb2209213b62e6cfabaa108b2]\n",
       "reverse link E4 to E2--><a href=\"psysml:e345a4af-2fbe-4f5b-aa1f-c95f9761e116\" target=\"_top\" title=\"psysml:e345a4af-2fbe-4f5b-aa1f-c95f9761e116\" xlink:actuate=\"onRequest\" xlink:href=\"psysml:e345a4af-2fbe-4f5b-aa1f-c95f9761e116\" xlink:show=\"new\" xlink:title=\"psysml:e345a4af-2fbe-4f5b-aa1f-c95f9761e116\" xlink:type=\"simple\"><path d=\"M118,100.42 C118,119.95 118,144.19 118,163.97 \" fill=\"none\" id=\"E4&lt;-E2\" style=\"stroke: #383838; stroke-width: 1.0;\"/><polygon fill=\"#FFFFFF\" points=\"118,87.15,114,93.15,118,99.15,122,93.15,118,87.15\" style=\"stroke: #383838; stroke-width: 1.0;\"/><text fill=\"#000000\" font-family=\"sans-serif\" font-size=\"13\" lengthAdjust=\"spacingAndGlyphs\" textLength=\"7\" x=\"119\" y=\"130.0669\">c</text></a><!--MD5=[00c61bfd6f0ea0dc905dc835fb360b41]\n",
       "@startuml\r\n",
       "top to bottom direction\r\n",
       "skinparam monochrome true\r\n",
       "skinparam classbackgroundcolor white\r\n",
       "skinparam shadowing false\r\n",
       "skinparam wrapWidth 300\r\n",
       "hide circle\r\n",
       "\r\n",
       "package \"TextualRepresentationTest\" as E1  [[psysml:a059710d-e8aa-4b22-8023-1459b734d0f7 ]]  {\r\n",
       "comp def \"C\" as E2  <<(T,blue) item  def>> [[psysml:a14c26f5-bb93-4792-a45e-179361bfe6e1 ]] {\r\n",
       "- - attributes - -\r\n",
       "x: Real\r\n",
       "}\r\n",
       "comp usage \"x_constraint \" as E3  <<(T,blue) assert constraint>> [[psysml:b9ffc3c6-eeca-4712-be2d-56262eb1e98d ]] {\r\n",
       "}\r\n",
       "comp def \"setX\" as E4  <<(T,blue) action  def>> [[psysml:ee57fb5c-c168-4cf6-8494-2ae72f89f8ea ]] {\r\n",
       "}\r\n",
       "}\r\n",
       "E2 o- - \"*\"E3 [[psysml:25bb36ff-df1f-4894-9e3f-bec813bc6d8c ]] \r\n",
       "E4 o- - E2 [[psysml:e345a4af-2fbe-4f5b-aa1f-c95f9761e116 ]] : c\r\n",
       "@enduml\r\n",
       "\n",
       "PlantUML version 1.2020.13(Sat Jun 13 12:26:38 UTC 2020)\n",
       "(EPL source distribution)\n",
       "Java Runtime: OpenJDK Runtime Environment\n",
       "JVM: OpenJDK 64-Bit Server VM\n",
       "Default Encoding: UTF-8\n",
       "Language: en\n",
       "Country: null\n",
       "--></g></svg>"
      ]
     },
     "execution_count": 45,
     "metadata": {},
     "output_type": "execute_result"
    }
   ],
   "source": [
    "%viz --style=\"TB\" --view=\"Tree\" \"TextualRepresentationTest\""
   ]
  },
  {
   "cell_type": "code",
   "execution_count": 46,
   "id": "f561faf2",
   "metadata": {
    "execution": {
     "iopub.execute_input": "2022-08-19T08:20:13.369240Z",
     "iopub.status.busy": "2022-08-19T08:20:13.368784Z",
     "iopub.status.idle": "2022-08-19T08:20:13.373941Z",
     "shell.execute_reply": "2022-08-19T08:20:13.373542Z"
    }
   },
   "outputs": [
    {
     "data": {
      "image/svg+xml": [
       "<?xml version=\"1.0\" encoding=\"UTF-8\" standalone=\"no\"?><svg xmlns=\"http://www.w3.org/2000/svg\" xmlns:xlink=\"http://www.w3.org/1999/xlink\" contentScriptType=\"application/ecmascript\" contentStyleType=\"text/css\" height=\"12px\" preserveAspectRatio=\"none\" style=\"width:12px;height:12px;\" version=\"1.1\" viewBox=\"0 0 12 12\" width=\"12px\" zoomAndPan=\"magnify\"><defs/><g><!--MD5=[f4ee21bc66e489b5061b7c3e9601fdef]\n",
       "@startuml\r\n",
       "top to bottom direction\r\n",
       "skinparam monochrome true\r\n",
       "skinparam classbackgroundcolor white\r\n",
       "skinparam shadowing false\r\n",
       "skinparam wrapWidth 300\r\n",
       "hide circle\r\n",
       "\r\n",
       "@enduml\r\n",
       "\n",
       "PlantUML version 1.2020.13(Sat Jun 13 12:26:38 UTC 2020)\n",
       "(EPL source distribution)\n",
       "Java Runtime: OpenJDK Runtime Environment\n",
       "JVM: OpenJDK 64-Bit Server VM\n",
       "Default Encoding: UTF-8\n",
       "Language: en\n",
       "Country: null\n",
       "--></g></svg>"
      ]
     },
     "execution_count": 46,
     "metadata": {},
     "output_type": "execute_result"
    }
   ],
   "source": [
    "%viz --style=\"TB\" --view=\"State\" \"TextualRepresentationTest\""
   ]
  },
  {
   "cell_type": "code",
   "execution_count": 47,
   "id": "917d0806",
   "metadata": {
    "execution": {
     "iopub.execute_input": "2022-08-19T08:20:13.423863Z",
     "iopub.status.busy": "2022-08-19T08:20:13.423402Z",
     "iopub.status.idle": "2022-08-19T08:20:13.449660Z",
     "shell.execute_reply": "2022-08-19T08:20:13.449189Z"
    }
   },
   "outputs": [
    {
     "data": {
      "image/svg+xml": [
       "<?xml version=\"1.0\" encoding=\"UTF-8\" standalone=\"no\"?><svg xmlns=\"http://www.w3.org/2000/svg\" xmlns:xlink=\"http://www.w3.org/1999/xlink\" contentScriptType=\"application/ecmascript\" contentStyleType=\"text/css\" height=\"179px\" preserveAspectRatio=\"none\" style=\"width:292px;height:179px;\" version=\"1.1\" viewBox=\"0 0 292 179\" width=\"292px\" zoomAndPan=\"magnify\"><defs/><g><!--MD5=[fbc87193dbaf4d95561dea2c320d4a47]\n",
       "cluster E1--><a href=\"psysml:a059710d-e8aa-4b22-8023-1459b734d0f7\" target=\"_top\" title=\"psysml:a059710d-e8aa-4b22-8023-1459b734d0f7\" xlink:actuate=\"onRequest\" xlink:href=\"psysml:a059710d-e8aa-4b22-8023-1459b734d0f7\" xlink:show=\"new\" xlink:title=\"psysml:a059710d-e8aa-4b22-8023-1459b734d0f7\" xlink:type=\"simple\"><polygon fill=\"#FFFFFF\" points=\"16,6,210,6,217,28.2969,270,28.2969,270,167,16,167,16,6\" style=\"stroke: #000000; stroke-width: 1.5;\"/><line style=\"stroke: #000000; stroke-width: 1.5;\" x1=\"16\" x2=\"217\" y1=\"28.2969\" y2=\"28.2969\"/><text fill=\"#000000\" font-family=\"sans-serif\" font-size=\"14\" font-weight=\"bold\" lengthAdjust=\"spacingAndGlyphs\" textLength=\"188\" x=\"20\" y=\"20.9951\">TextualRepresentationTest</text></a><!--MD5=[d5e69f78d87373223dbae638b30a9c99]\n",
       "cluster E3--><a href=\"psysml:ee57fb5c-c168-4cf6-8494-2ae72f89f8ea\" target=\"_top\" title=\"psysml:ee57fb5c-c168-4cf6-8494-2ae72f89f8ea\" xlink:actuate=\"onRequest\" xlink:href=\"psysml:ee57fb5c-c168-4cf6-8494-2ae72f89f8ea\" xlink:show=\"new\" xlink:title=\"psysml:ee57fb5c-c168-4cf6-8494-2ae72f89f8ea\" xlink:type=\"simple\"><rect fill=\"#FFFFFF\" height=\"88.5\" id=\"E3\" style=\"stroke: #383838; stroke-width: 1.5;\" width=\"100\" x=\"122.5\" y=\"62.5\"/><rect fill=\"#F8F8F8\" height=\"37.9375\" style=\"stroke: #383838; stroke-width: 1.5;\" width=\"100\" x=\"122.5\" y=\"62.5\"/><text fill=\"#000000\" font-family=\"sans-serif\" font-size=\"12\" font-style=\"italic\" lengthAdjust=\"spacingAndGlyphs\" textLength=\"81\" x=\"132\" y=\"78.6387\">«action  def»</text><text fill=\"#000000\" font-family=\"sans-serif\" font-size=\"12\" lengthAdjust=\"spacingAndGlyphs\" textLength=\"27\" x=\"159\" y=\"92.6074\">setX</text></a><g id=\"E1.E2\"><a href=\"psysml:a14c26f5-bb93-4792-a45e-179361bfe6e1\" target=\"_top\" title=\"psysml:a14c26f5-bb93-4792-a45e-179361bfe6e1\" xlink:actuate=\"onRequest\" xlink:href=\"psysml:a14c26f5-bb93-4792-a45e-179361bfe6e1\" xlink:show=\"new\" xlink:title=\"psysml:a14c26f5-bb93-4792-a45e-179361bfe6e1\" xlink:type=\"simple\"><rect fill=\"#FFFFFF\" height=\"42.9375\" id=\"E2\" style=\"stroke: #383838; stroke-width: 1.5;\" width=\"76\" x=\"32\" y=\"41\"/><rect fill=\"#F8F8F8\" height=\"37.9375\" style=\"stroke: #383838; stroke-width: 1.5;\" width=\"76\" x=\"32\" y=\"41\"/><text fill=\"#000000\" font-family=\"sans-serif\" font-size=\"12\" font-style=\"italic\" lengthAdjust=\"spacingAndGlyphs\" textLength=\"69\" x=\"35.5\" y=\"57.1387\">«item  def»</text><text fill=\"#000000\" font-family=\"sans-serif\" font-size=\"12\" lengthAdjust=\"spacingAndGlyphs\" textLength=\"8\" x=\"66\" y=\"71.1074\">C</text></a></g><text fill=\"#000000\" font-family=\"sans-serif\" font-size=\"14\" lengthAdjust=\"spacingAndGlyphs\" textLength=\"8\" x=\"145\" y=\"41.1982\">c</text><rect fill=\"#383838\" height=\"12\" style=\"stroke: #F8F8F8; stroke-width: 1.5;\" width=\"12\" x=\"143\" y=\"56.5\"/><text fill=\"#000000\" font-family=\"sans-serif\" font-size=\"14\" lengthAdjust=\"spacingAndGlyphs\" textLength=\"38\" x=\"177\" y=\"41.1982\">newX</text><rect fill=\"#383838\" height=\"12\" style=\"stroke: #F8F8F8; stroke-width: 1.5;\" width=\"12\" x=\"190\" y=\"56.5\"/><!--MD5=[bc83c6ab7fc99e4838e90fc67eb060b9]\n",
       "@startuml\r\n",
       "skinparam ranksep 10\r\n",
       "skinparam rectangle {\r\n",
       " backgroundColor<<block>> LightGreen\r\n",
       "}\r\n",
       "top to bottom direction\r\n",
       "skinparam monochrome true\r\n",
       "skinparam classbackgroundcolor white\r\n",
       "skinparam shadowing false\r\n",
       "skinparam wrapWidth 300\r\n",
       "hide circle\r\n",
       "\r\n",
       "package \"TextualRepresentationTest\" as E1  [[psysml:a059710d-e8aa-4b22-8023-1459b734d0f7 ]]  {\r\n",
       "def \"C\" as E2  <<(T,blue) item  def>> [[psysml:a14c26f5-bb93-4792-a45e-179361bfe6e1 ]] \r\n",
       "rec def \"setX\" as E3  <<(T,blue) action  def>> [[psysml:ee57fb5c-c168-4cf6-8494-2ae72f89f8ea ]] {\r\n",
       "portin \"c\" as E4  [[psysml:e345a4af-2fbe-4f5b-aa1f-c95f9761e116 ]] \r\n",
       "portin \"newX\" as E5  [[psysml:bef11b08-4405-4f10-b98d-dfe807135273 ]] \r\n",
       "}\r\n",
       "\r\n",
       "}\r\n",
       "@enduml\r\n",
       "\n",
       "PlantUML version 1.2020.13(Sat Jun 13 12:26:38 UTC 2020)\n",
       "(EPL source distribution)\n",
       "Java Runtime: OpenJDK Runtime Environment\n",
       "JVM: OpenJDK 64-Bit Server VM\n",
       "Default Encoding: UTF-8\n",
       "Language: en\n",
       "Country: null\n",
       "--></g></svg>"
      ]
     },
     "execution_count": 47,
     "metadata": {},
     "output_type": "execute_result"
    }
   ],
   "source": [
    "%viz --style=\"TB\" --view=\"Interconnection\" \"TextualRepresentationTest\""
   ]
  },
  {
   "cell_type": "code",
   "execution_count": 48,
   "id": "79316a91",
   "metadata": {
    "execution": {
     "iopub.execute_input": "2022-08-19T08:20:13.499136Z",
     "iopub.status.busy": "2022-08-19T08:20:13.498653Z",
     "iopub.status.idle": "2022-08-19T08:20:13.519288Z",
     "shell.execute_reply": "2022-08-19T08:20:13.518825Z"
    }
   },
   "outputs": [
    {
     "data": {
      "image/svg+xml": [
       "<?xml version=\"1.0\" encoding=\"UTF-8\" standalone=\"no\"?><svg xmlns=\"http://www.w3.org/2000/svg\" xmlns:xlink=\"http://www.w3.org/1999/xlink\" contentScriptType=\"application/ecmascript\" contentStyleType=\"text/css\" height=\"126px\" preserveAspectRatio=\"none\" style=\"width:152px;height:126px;\" version=\"1.1\" viewBox=\"0 0 152 126\" width=\"152px\" zoomAndPan=\"magnify\"><defs/><g><!--MD5=[fbc87193dbaf4d95561dea2c320d4a47]\n",
       "cluster E1--><a href=\"psysml:ee57fb5c-c168-4cf6-8494-2ae72f89f8ea\" target=\"_top\" title=\"psysml:ee57fb5c-c168-4cf6-8494-2ae72f89f8ea\" xlink:actuate=\"onRequest\" xlink:href=\"psysml:ee57fb5c-c168-4cf6-8494-2ae72f89f8ea\" xlink:show=\"new\" xlink:title=\"psysml:ee57fb5c-c168-4cf6-8494-2ae72f89f8ea\" xlink:type=\"simple\"><rect fill=\"#FFFFFF\" height=\"73\" id=\"E1\" style=\"stroke: #383838; stroke-width: 1.5;\" width=\"134\" x=\"7\" y=\"42.0986\"/><rect fill=\"#F8F8F8\" height=\"37.9375\" style=\"stroke: #383838; stroke-width: 1.5;\" width=\"134\" x=\"7\" y=\"42.0986\"/><text fill=\"#000000\" font-family=\"sans-serif\" font-size=\"12\" font-style=\"italic\" lengthAdjust=\"spacingAndGlyphs\" textLength=\"81\" x=\"33.5\" y=\"58.2373\">«action  def»</text><text fill=\"#000000\" font-family=\"sans-serif\" font-size=\"12\" lengthAdjust=\"spacingAndGlyphs\" textLength=\"27\" x=\"60.5\" y=\"72.2061\">setX</text></a><text fill=\"#000000\" font-family=\"sans-serif\" font-size=\"14\" lengthAdjust=\"spacingAndGlyphs\" textLength=\"8\" x=\"21\" y=\"20.7969\">c</text><rect fill=\"#383838\" height=\"12\" style=\"stroke: #F8F8F8; stroke-width: 1.5;\" width=\"12\" x=\"19\" y=\"36.0986\"/><text fill=\"#000000\" font-family=\"sans-serif\" font-size=\"14\" lengthAdjust=\"spacingAndGlyphs\" textLength=\"38\" x=\"53\" y=\"20.7969\">newX</text><rect fill=\"#383838\" height=\"12\" style=\"stroke: #F8F8F8; stroke-width: 1.5;\" width=\"12\" x=\"66\" y=\"36.0986\"/><!--MD5=[e17345897e4a9daa742c527d488fc086]\n",
       "@startuml\r\n",
       "skinparam ranksep 8\r\n",
       "top to bottom direction\r\n",
       "skinparam monochrome true\r\n",
       "skinparam classbackgroundcolor white\r\n",
       "skinparam shadowing false\r\n",
       "skinparam wrapWidth 300\r\n",
       "hide circle\r\n",
       "\r\n",
       "rec def \"setX\" as E1  <<(T,blue) action  def>> [[psysml:ee57fb5c-c168-4cf6-8494-2ae72f89f8ea ]] {\r\n",
       "portin \"c\" as E2  [[psysml:e345a4af-2fbe-4f5b-aa1f-c95f9761e116 ]] \r\n",
       "portin \"newX\" as E3  [[psysml:bef11b08-4405-4f10-b98d-dfe807135273 ]] \r\n",
       "}\r\n",
       "\r\n",
       "@enduml\r\n",
       "\n",
       "PlantUML version 1.2020.13(Sat Jun 13 12:26:38 UTC 2020)\n",
       "(EPL source distribution)\n",
       "Java Runtime: OpenJDK Runtime Environment\n",
       "JVM: OpenJDK 64-Bit Server VM\n",
       "Default Encoding: UTF-8\n",
       "Language: en\n",
       "Country: null\n",
       "--></g></svg>"
      ]
     },
     "execution_count": 48,
     "metadata": {},
     "output_type": "execute_result"
    }
   ],
   "source": [
    "%viz --style=\"TB\" --view=\"Action\" \"TextualRepresentationTest\""
   ]
  },
  {
   "cell_type": "code",
   "execution_count": 49,
   "id": "d6ad3ba0",
   "metadata": {
    "execution": {
     "iopub.execute_input": "2022-08-19T08:20:13.568929Z",
     "iopub.status.busy": "2022-08-19T08:20:13.568458Z",
     "iopub.status.idle": "2022-08-19T08:20:13.573746Z",
     "shell.execute_reply": "2022-08-19T08:20:13.573360Z"
    }
   },
   "outputs": [
    {
     "data": {
      "image/svg+xml": [
       "<?xml version=\"1.0\" encoding=\"UTF-8\" standalone=\"no\"?><svg xmlns=\"http://www.w3.org/2000/svg\" xmlns:xlink=\"http://www.w3.org/1999/xlink\" contentScriptType=\"application/ecmascript\" contentStyleType=\"text/css\" height=\"12px\" preserveAspectRatio=\"none\" style=\"width:12px;height:12px;\" version=\"1.1\" viewBox=\"0 0 12 12\" width=\"12px\" zoomAndPan=\"magnify\"><defs/><g><!--MD5=[e1ab0c84c44d2fef8bf5f140f2689906]\n",
       "@startuml\r\n",
       "skinparam roundcorner 20\r\n",
       "skinparam BoxPadding 20\r\n",
       "skinparam SequenceBoxBackgroundColor #white\r\n",
       "skinparam style strictuml\r\n",
       "skinparam maxMessageSize 100\r\n",
       "top to bottom direction\r\n",
       "skinparam monochrome true\r\n",
       "skinparam classbackgroundcolor white\r\n",
       "skinparam shadowing false\r\n",
       "skinparam wrapWidth 300\r\n",
       "hide circle\r\n",
       "\r\n",
       "@enduml\r\n",
       "\n",
       "PlantUML version 1.2020.13(Sat Jun 13 12:26:38 UTC 2020)\n",
       "(EPL source distribution)\n",
       "Java Runtime: OpenJDK Runtime Environment\n",
       "JVM: OpenJDK 64-Bit Server VM\n",
       "Default Encoding: UTF-8\n",
       "Language: en\n",
       "Country: null\n",
       "--></g></svg>"
      ]
     },
     "execution_count": 49,
     "metadata": {},
     "output_type": "execute_result"
    }
   ],
   "source": [
    "%viz --style=\"TB\" --view=\"Sequence\" \"TextualRepresentationTest\""
   ]
  },
  {
   "cell_type": "code",
   "execution_count": 50,
   "id": "af326c38",
   "metadata": {
    "execution": {
     "iopub.execute_input": "2022-08-19T08:20:13.623923Z",
     "iopub.status.busy": "2022-08-19T08:20:13.623434Z",
     "iopub.status.idle": "2022-08-19T08:20:13.661258Z",
     "shell.execute_reply": "2022-08-19T08:20:13.660793Z"
    }
   },
   "outputs": [
    {
     "data": {
      "image/svg+xml": [
       "<?xml version=\"1.0\" encoding=\"UTF-8\" standalone=\"no\"?><svg xmlns=\"http://www.w3.org/2000/svg\" xmlns:xlink=\"http://www.w3.org/1999/xlink\" contentScriptType=\"application/ecmascript\" contentStyleType=\"text/css\" height=\"261px\" preserveAspectRatio=\"none\" style=\"width:351px;height:261px;\" version=\"1.1\" viewBox=\"0 0 351 261\" width=\"351px\" zoomAndPan=\"magnify\"><defs/><g><!--MD5=[fbc87193dbaf4d95561dea2c320d4a47]\n",
       "cluster E1--><a href=\"psysml:a059710d-e8aa-4b22-8023-1459b734d0f7\" target=\"_top\" title=\"psysml:a059710d-e8aa-4b22-8023-1459b734d0f7\" xlink:actuate=\"onRequest\" xlink:href=\"psysml:a059710d-e8aa-4b22-8023-1459b734d0f7\" xlink:show=\"new\" xlink:title=\"psysml:a059710d-e8aa-4b22-8023-1459b734d0f7\" xlink:type=\"simple\"><polygon fill=\"#FFFFFF\" points=\"16,6,210,6,217,28.2969,329,28.2969,329,249.5,16,249.5,16,6\" style=\"stroke: #000000; stroke-width: 1.5;\"/><line style=\"stroke: #000000; stroke-width: 1.5;\" x1=\"16\" x2=\"217\" y1=\"28.2969\" y2=\"28.2969\"/><text fill=\"#000000\" font-family=\"sans-serif\" font-size=\"14\" font-weight=\"bold\" lengthAdjust=\"spacingAndGlyphs\" textLength=\"188\" x=\"20\" y=\"20.9951\">TextualRepresentationTest</text></a><!--MD5=[f6df4d0ebaf0b5dfb2ced0ae5af7c670]\n",
       "cluster E4--><a href=\"psysml:ee57fb5c-c168-4cf6-8494-2ae72f89f8ea\" target=\"_top\" title=\"psysml:ee57fb5c-c168-4cf6-8494-2ae72f89f8ea\" xlink:actuate=\"onRequest\" xlink:href=\"psysml:ee57fb5c-c168-4cf6-8494-2ae72f89f8ea\" xlink:show=\"new\" xlink:title=\"psysml:ee57fb5c-c168-4cf6-8494-2ae72f89f8ea\" xlink:type=\"simple\"><rect fill=\"#FFFFFF\" height=\"154.5\" id=\"E4\" style=\"stroke: #383838; stroke-width: 1.5;\" width=\"134\" x=\"179\" y=\"79\"/><rect fill=\"#F8F8F8\" height=\"37.9375\" style=\"stroke: #383838; stroke-width: 1.5;\" width=\"134\" x=\"179\" y=\"79\"/><text fill=\"#000000\" font-family=\"sans-serif\" font-size=\"12\" font-style=\"italic\" lengthAdjust=\"spacingAndGlyphs\" textLength=\"81\" x=\"205.5\" y=\"95.1387\">«action  def»</text><text fill=\"#000000\" font-family=\"sans-serif\" font-size=\"12\" lengthAdjust=\"spacingAndGlyphs\" textLength=\"27\" x=\"232.5\" y=\"109.1074\">setX</text></a><!--MD5=[b4997ac47864f28c2f74865a473b2911]\n",
       "class E2--><a href=\"psysml:a14c26f5-bb93-4792-a45e-179361bfe6e1\" target=\"_top\" title=\"psysml:a14c26f5-bb93-4792-a45e-179361bfe6e1\" xlink:actuate=\"onRequest\" xlink:href=\"psysml:a14c26f5-bb93-4792-a45e-179361bfe6e1\" xlink:show=\"new\" xlink:title=\"psysml:a14c26f5-bb93-4792-a45e-179361bfe6e1\" xlink:type=\"simple\"><rect fill=\"#FFFFFF\" height=\"75.5469\" id=\"E2\" style=\"stroke: #383838; stroke-width: 1.5;\" width=\"71\" x=\"58.5\" y=\"41\"/><text fill=\"#000000\" font-family=\"sans-serif\" font-size=\"12\" font-style=\"italic\" lengthAdjust=\"spacingAndGlyphs\" textLength=\"69\" x=\"59.5\" y=\"57.1387\">«item  def»</text><text fill=\"#000000\" font-family=\"sans-serif\" font-size=\"12\" lengthAdjust=\"spacingAndGlyphs\" textLength=\"8\" x=\"90\" y=\"71.1074\">C</text><line style=\"stroke: #383838; stroke-width: 1.5;\" x1=\"59.5\" x2=\"128.5\" y1=\"78.9375\" y2=\"78.9375\"/><text fill=\"#000000\" font-family=\"sans-serif\" font-size=\"11\" lengthAdjust=\"spacingAndGlyphs\" textLength=\"38\" x=\"64.5\" y=\"109.9526\">x: Real</text><line style=\"stroke: #383838; stroke-width: 1.0;\" x1=\"59.5\" x2=\"66.5\" y1=\"93.3398\" y2=\"93.3398\"/><text fill=\"#000000\" font-family=\"sans-serif\" font-size=\"11\" lengthAdjust=\"spacingAndGlyphs\" textLength=\"55\" x=\"66.5\" y=\"96.6479\">attributes</text><line style=\"stroke: #383838; stroke-width: 1.0;\" x1=\"121.5\" x2=\"128.5\" y1=\"93.3398\" y2=\"93.3398\"/></a><!--MD5=[09b614a08d8cba4a07c9adeb5e0fee81]\n",
       "class E3--><a href=\"psysml:b9ffc3c6-eeca-4712-be2d-56262eb1e98d\" target=\"_top\" title=\"psysml:b9ffc3c6-eeca-4712-be2d-56262eb1e98d\" xlink:actuate=\"onRequest\" xlink:href=\"psysml:b9ffc3c6-eeca-4712-be2d-56262eb1e98d\" xlink:show=\"new\" xlink:title=\"psysml:b9ffc3c6-eeca-4712-be2d-56262eb1e98d\" xlink:type=\"simple\"><rect fill=\"#FFFFFF\" height=\"45.9375\" id=\"E3\" rx=\"10\" ry=\"10\" style=\"stroke: #383838; stroke-width: 1.5;\" width=\"124\" x=\"32\" y=\"177\"/><text fill=\"#000000\" font-family=\"sans-serif\" font-size=\"12\" font-style=\"italic\" lengthAdjust=\"spacingAndGlyphs\" textLength=\"122\" x=\"33\" y=\"193.1387\">«assert constraint»</text><text fill=\"#000000\" font-family=\"sans-serif\" font-size=\"12\" lengthAdjust=\"spacingAndGlyphs\" textLength=\"76\" x=\"54\" y=\"207.1074\">x_constraint</text><line style=\"stroke: #383838; stroke-width: 1.5;\" x1=\"33\" x2=\"155\" y1=\"214.9375\" y2=\"214.9375\"/></a><text fill=\"#000000\" font-family=\"sans-serif\" font-size=\"14\" lengthAdjust=\"spacingAndGlyphs\" textLength=\"8\" x=\"193\" y=\"57.6982\">c</text><rect fill=\"#383838\" height=\"12\" style=\"stroke: #F8F8F8; stroke-width: 1.5;\" width=\"12\" x=\"191\" y=\"73\"/><text fill=\"#000000\" font-family=\"sans-serif\" font-size=\"14\" lengthAdjust=\"spacingAndGlyphs\" textLength=\"38\" x=\"225\" y=\"57.6982\">newX</text><rect fill=\"#383838\" height=\"12\" style=\"stroke: #F8F8F8; stroke-width: 1.5;\" width=\"12\" x=\"238\" y=\"73\"/><!--MD5=[209b3feb70ccb6233bfe1053d122c12c]\n",
       "reverse link E2 to E3--><a href=\"psysml:25bb36ff-df1f-4894-9e3f-bec813bc6d8c\" target=\"_top\" title=\"psysml:25bb36ff-df1f-4894-9e3f-bec813bc6d8c\" xlink:actuate=\"onRequest\" xlink:href=\"psysml:25bb36ff-df1f-4894-9e3f-bec813bc6d8c\" xlink:show=\"new\" xlink:title=\"psysml:25bb36ff-df1f-4894-9e3f-bec813bc6d8c\" xlink:type=\"simple\"><path d=\"M94,130.34 C94,146.61 94,163.81 94,176.93 \" fill=\"none\" id=\"E2&lt;-E3\" style=\"stroke: #383838; stroke-width: 1.0;\"/><polygon fill=\"#FFFFFF\" points=\"94,117,90,123,94,129,98,123,94,117\" style=\"stroke: #383838; stroke-width: 1.0;\"/><text fill=\"#000000\" font-family=\"sans-serif\" font-size=\"13\" lengthAdjust=\"spacingAndGlyphs\" textLength=\"7\" x=\"86.0594\" y=\"165.8075\">*</text></a><!--MD5=[6860590df3a9ed0061feb049100b7662]\n",
       "@startuml\r\n",
       "top to bottom direction\r\n",
       "skinparam monochrome true\r\n",
       "skinparam classbackgroundcolor white\r\n",
       "skinparam shadowing false\r\n",
       "skinparam wrapWidth 300\r\n",
       "hide circle\r\n",
       "\r\n",
       "package \"TextualRepresentationTest\" as E1  [[psysml:a059710d-e8aa-4b22-8023-1459b734d0f7 ]]  {\r\n",
       "comp def \"C\" as E2  <<(T,blue) item  def>> [[psysml:a14c26f5-bb93-4792-a45e-179361bfe6e1 ]] {\r\n",
       "- - attributes - -\r\n",
       "x: Real\r\n",
       "}\r\n",
       "comp usage \"x_constraint \" as E3  <<(T,blue) assert constraint>> [[psysml:b9ffc3c6-eeca-4712-be2d-56262eb1e98d ]] {\r\n",
       "}\r\n",
       "rec def \"setX\" as E4  <<(T,blue) action  def>> [[psysml:ee57fb5c-c168-4cf6-8494-2ae72f89f8ea ]] {\r\n",
       "portin \"c\" as E5  [[psysml:e345a4af-2fbe-4f5b-aa1f-c95f9761e116 ]] \r\n",
       "portin \"newX\" as E6  [[psysml:bef11b08-4405-4f10-b98d-dfe807135273 ]] \r\n",
       "}\r\n",
       "\r\n",
       "}\r\n",
       "E2 o- - \"*\"E3 [[psysml:25bb36ff-df1f-4894-9e3f-bec813bc6d8c ]] \r\n",
       "@enduml\r\n",
       "\n",
       "PlantUML version 1.2020.13(Sat Jun 13 12:26:38 UTC 2020)\n",
       "(EPL source distribution)\n",
       "Java Runtime: OpenJDK Runtime Environment\n",
       "JVM: OpenJDK 64-Bit Server VM\n",
       "Default Encoding: UTF-8\n",
       "Language: en\n",
       "Country: null\n",
       "--></g></svg>"
      ]
     },
     "execution_count": 50,
     "metadata": {},
     "output_type": "execute_result"
    }
   ],
   "source": [
    "%viz --style=\"TB\" --view=\"MIXED\" \"TextualRepresentationTest\""
   ]
  },
  {
   "cell_type": "code",
   "execution_count": 51,
   "id": "e94d4400",
   "metadata": {
    "execution": {
     "iopub.execute_input": "2022-08-19T08:20:13.710626Z",
     "iopub.status.busy": "2022-08-19T08:20:13.710154Z",
     "iopub.status.idle": "2022-08-19T08:20:13.749716Z",
     "shell.execute_reply": "2022-08-19T08:20:13.749265Z"
    }
   },
   "outputs": [
    {
     "data": {
      "image/svg+xml": [
       "<?xml version=\"1.0\" encoding=\"UTF-8\" standalone=\"no\"?><svg xmlns=\"http://www.w3.org/2000/svg\" xmlns:xlink=\"http://www.w3.org/1999/xlink\" contentScriptType=\"application/ecmascript\" contentStyleType=\"text/css\" height=\"261px\" preserveAspectRatio=\"none\" style=\"width:351px;height:261px;\" version=\"1.1\" viewBox=\"0 0 351 261\" width=\"351px\" zoomAndPan=\"magnify\"><defs/><g><!--MD5=[fbc87193dbaf4d95561dea2c320d4a47]\n",
       "cluster E1--><a href=\"psysml:a059710d-e8aa-4b22-8023-1459b734d0f7\" target=\"_top\" title=\"psysml:a059710d-e8aa-4b22-8023-1459b734d0f7\" xlink:actuate=\"onRequest\" xlink:href=\"psysml:a059710d-e8aa-4b22-8023-1459b734d0f7\" xlink:show=\"new\" xlink:title=\"psysml:a059710d-e8aa-4b22-8023-1459b734d0f7\" xlink:type=\"simple\"><polygon fill=\"#FFFFFF\" points=\"16,6,210,6,217,28.2969,329,28.2969,329,249.5,16,249.5,16,6\" style=\"stroke: #000000; stroke-width: 1.5;\"/><line style=\"stroke: #000000; stroke-width: 1.5;\" x1=\"16\" x2=\"217\" y1=\"28.2969\" y2=\"28.2969\"/><text fill=\"#000000\" font-family=\"sans-serif\" font-size=\"14\" font-weight=\"bold\" lengthAdjust=\"spacingAndGlyphs\" textLength=\"188\" x=\"20\" y=\"20.9951\">TextualRepresentationTest</text></a><!--MD5=[f6df4d0ebaf0b5dfb2ced0ae5af7c670]\n",
       "cluster E4--><a href=\"psysml:ee57fb5c-c168-4cf6-8494-2ae72f89f8ea\" target=\"_top\" title=\"psysml:ee57fb5c-c168-4cf6-8494-2ae72f89f8ea\" xlink:actuate=\"onRequest\" xlink:href=\"psysml:ee57fb5c-c168-4cf6-8494-2ae72f89f8ea\" xlink:show=\"new\" xlink:title=\"psysml:ee57fb5c-c168-4cf6-8494-2ae72f89f8ea\" xlink:type=\"simple\"><rect fill=\"#FFFFFF\" height=\"154.5\" id=\"E4\" style=\"stroke: #383838; stroke-width: 1.5;\" width=\"134\" x=\"179\" y=\"79\"/><rect fill=\"#F8F8F8\" height=\"37.9375\" style=\"stroke: #383838; stroke-width: 1.5;\" width=\"134\" x=\"179\" y=\"79\"/><text fill=\"#000000\" font-family=\"sans-serif\" font-size=\"12\" font-style=\"italic\" lengthAdjust=\"spacingAndGlyphs\" textLength=\"81\" x=\"205.5\" y=\"95.1387\">«action  def»</text><text fill=\"#000000\" font-family=\"sans-serif\" font-size=\"12\" lengthAdjust=\"spacingAndGlyphs\" textLength=\"27\" x=\"232.5\" y=\"109.1074\">setX</text></a><!--MD5=[b4997ac47864f28c2f74865a473b2911]\n",
       "class E2--><a href=\"psysml:a14c26f5-bb93-4792-a45e-179361bfe6e1\" target=\"_top\" title=\"psysml:a14c26f5-bb93-4792-a45e-179361bfe6e1\" xlink:actuate=\"onRequest\" xlink:href=\"psysml:a14c26f5-bb93-4792-a45e-179361bfe6e1\" xlink:show=\"new\" xlink:title=\"psysml:a14c26f5-bb93-4792-a45e-179361bfe6e1\" xlink:type=\"simple\"><rect fill=\"#FFFFFF\" height=\"75.5469\" id=\"E2\" style=\"stroke: #383838; stroke-width: 1.5;\" width=\"71\" x=\"58.5\" y=\"41\"/><text fill=\"#000000\" font-family=\"sans-serif\" font-size=\"12\" font-style=\"italic\" lengthAdjust=\"spacingAndGlyphs\" textLength=\"69\" x=\"59.5\" y=\"57.1387\">«item  def»</text><text fill=\"#000000\" font-family=\"sans-serif\" font-size=\"12\" lengthAdjust=\"spacingAndGlyphs\" textLength=\"8\" x=\"90\" y=\"71.1074\">C</text><line style=\"stroke: #383838; stroke-width: 1.5;\" x1=\"59.5\" x2=\"128.5\" y1=\"78.9375\" y2=\"78.9375\"/><text fill=\"#000000\" font-family=\"sans-serif\" font-size=\"11\" lengthAdjust=\"spacingAndGlyphs\" textLength=\"38\" x=\"64.5\" y=\"109.9526\">x: Real</text><line style=\"stroke: #383838; stroke-width: 1.0;\" x1=\"59.5\" x2=\"66.5\" y1=\"93.3398\" y2=\"93.3398\"/><text fill=\"#000000\" font-family=\"sans-serif\" font-size=\"11\" lengthAdjust=\"spacingAndGlyphs\" textLength=\"55\" x=\"66.5\" y=\"96.6479\">attributes</text><line style=\"stroke: #383838; stroke-width: 1.0;\" x1=\"121.5\" x2=\"128.5\" y1=\"93.3398\" y2=\"93.3398\"/></a><!--MD5=[09b614a08d8cba4a07c9adeb5e0fee81]\n",
       "class E3--><a href=\"psysml:b9ffc3c6-eeca-4712-be2d-56262eb1e98d\" target=\"_top\" title=\"psysml:b9ffc3c6-eeca-4712-be2d-56262eb1e98d\" xlink:actuate=\"onRequest\" xlink:href=\"psysml:b9ffc3c6-eeca-4712-be2d-56262eb1e98d\" xlink:show=\"new\" xlink:title=\"psysml:b9ffc3c6-eeca-4712-be2d-56262eb1e98d\" xlink:type=\"simple\"><rect fill=\"#FFFFFF\" height=\"45.9375\" id=\"E3\" rx=\"10\" ry=\"10\" style=\"stroke: #383838; stroke-width: 1.5;\" width=\"124\" x=\"32\" y=\"177\"/><text fill=\"#000000\" font-family=\"sans-serif\" font-size=\"12\" font-style=\"italic\" lengthAdjust=\"spacingAndGlyphs\" textLength=\"122\" x=\"33\" y=\"193.1387\">«assert constraint»</text><text fill=\"#000000\" font-family=\"sans-serif\" font-size=\"12\" lengthAdjust=\"spacingAndGlyphs\" textLength=\"76\" x=\"54\" y=\"207.1074\">x_constraint</text><line style=\"stroke: #383838; stroke-width: 1.5;\" x1=\"33\" x2=\"155\" y1=\"214.9375\" y2=\"214.9375\"/></a><text fill=\"#000000\" font-family=\"sans-serif\" font-size=\"14\" lengthAdjust=\"spacingAndGlyphs\" textLength=\"8\" x=\"193\" y=\"57.6982\">c</text><rect fill=\"#383838\" height=\"12\" style=\"stroke: #F8F8F8; stroke-width: 1.5;\" width=\"12\" x=\"191\" y=\"73\"/><text fill=\"#000000\" font-family=\"sans-serif\" font-size=\"14\" lengthAdjust=\"spacingAndGlyphs\" textLength=\"38\" x=\"225\" y=\"57.6982\">newX</text><rect fill=\"#383838\" height=\"12\" style=\"stroke: #F8F8F8; stroke-width: 1.5;\" width=\"12\" x=\"238\" y=\"73\"/><!--MD5=[209b3feb70ccb6233bfe1053d122c12c]\n",
       "reverse link E2 to E3--><a href=\"psysml:25bb36ff-df1f-4894-9e3f-bec813bc6d8c\" target=\"_top\" title=\"psysml:25bb36ff-df1f-4894-9e3f-bec813bc6d8c\" xlink:actuate=\"onRequest\" xlink:href=\"psysml:25bb36ff-df1f-4894-9e3f-bec813bc6d8c\" xlink:show=\"new\" xlink:title=\"psysml:25bb36ff-df1f-4894-9e3f-bec813bc6d8c\" xlink:type=\"simple\"><path d=\"M94,130.29 C94,130.29 94,176.74 94,176.74 \" fill=\"none\" id=\"E2&lt;-E3\" style=\"stroke: #383838; stroke-width: 1.0;\"/><polygon fill=\"#FFFFFF\" points=\"94,117.29,90,123.29,94,129.29,98,123.29,94,117.29\" style=\"stroke: #383838; stroke-width: 1.0;\"/><text fill=\"#000000\" font-family=\"sans-serif\" font-size=\"13\" lengthAdjust=\"spacingAndGlyphs\" textLength=\"7\" x=\"86.1031\" y=\"165.9497\">*</text></a><!--MD5=[3634fb55a7c29d56375f99058d34a7ef]\n",
       "@startuml\r\n",
       "skinparam linetype ortho\r\n",
       "skinparam monochrome true\r\n",
       "skinparam classbackgroundcolor white\r\n",
       "skinparam shadowing false\r\n",
       "skinparam wrapWidth 300\r\n",
       "hide circle\r\n",
       "\r\n",
       "package \"TextualRepresentationTest\" as E1  [[psysml:a059710d-e8aa-4b22-8023-1459b734d0f7 ]]  {\r\n",
       "comp def \"C\" as E2  <<(T,blue) item  def>> [[psysml:a14c26f5-bb93-4792-a45e-179361bfe6e1 ]] {\r\n",
       "- - attributes - -\r\n",
       "x: Real\r\n",
       "}\r\n",
       "comp usage \"x_constraint \" as E3  <<(T,blue) assert constraint>> [[psysml:b9ffc3c6-eeca-4712-be2d-56262eb1e98d ]] {\r\n",
       "}\r\n",
       "rec def \"setX\" as E4  <<(T,blue) action  def>> [[psysml:ee57fb5c-c168-4cf6-8494-2ae72f89f8ea ]] {\r\n",
       "portin \"c\" as E5  [[psysml:e345a4af-2fbe-4f5b-aa1f-c95f9761e116 ]] \r\n",
       "portin \"newX\" as E6  [[psysml:bef11b08-4405-4f10-b98d-dfe807135273 ]] \r\n",
       "}\r\n",
       "\r\n",
       "}\r\n",
       "E2 o- - \"*\"E3 [[psysml:25bb36ff-df1f-4894-9e3f-bec813bc6d8c ]] \r\n",
       "@enduml\r\n",
       "\n",
       "PlantUML version 1.2020.13(Sat Jun 13 12:26:38 UTC 2020)\n",
       "(EPL source distribution)\n",
       "Java Runtime: OpenJDK Runtime Environment\n",
       "JVM: OpenJDK 64-Bit Server VM\n",
       "Default Encoding: UTF-8\n",
       "Language: en\n",
       "Country: null\n",
       "--></g></svg>"
      ]
     },
     "execution_count": 51,
     "metadata": {},
     "output_type": "execute_result"
    }
   ],
   "source": [
    "%viz --style=\"ORTHOLINE\" --view=\"Default\" \"TextualRepresentationTest\""
   ]
  },
  {
   "cell_type": "code",
   "execution_count": 52,
   "id": "5ed9887f",
   "metadata": {
    "execution": {
     "iopub.execute_input": "2022-08-19T08:20:13.799479Z",
     "iopub.status.busy": "2022-08-19T08:20:13.799034Z",
     "iopub.status.idle": "2022-08-19T08:20:13.833632Z",
     "shell.execute_reply": "2022-08-19T08:20:13.833163Z"
    }
   },
   "outputs": [
    {
     "data": {
      "image/svg+xml": [
       "<?xml version=\"1.0\" encoding=\"UTF-8\" standalone=\"no\"?><svg xmlns=\"http://www.w3.org/2000/svg\" xmlns:xlink=\"http://www.w3.org/1999/xlink\" contentScriptType=\"application/ecmascript\" contentStyleType=\"text/css\" height=\"375px\" preserveAspectRatio=\"none\" style=\"width:242px;height:375px;\" version=\"1.1\" viewBox=\"0 0 242 375\" width=\"242px\" zoomAndPan=\"magnify\"><defs/><g><!--MD5=[fbc87193dbaf4d95561dea2c320d4a47]\n",
       "cluster E1--><a href=\"psysml:a059710d-e8aa-4b22-8023-1459b734d0f7\" target=\"_top\" title=\"psysml:a059710d-e8aa-4b22-8023-1459b734d0f7\" xlink:actuate=\"onRequest\" xlink:href=\"psysml:a059710d-e8aa-4b22-8023-1459b734d0f7\" xlink:show=\"new\" xlink:title=\"psysml:a059710d-e8aa-4b22-8023-1459b734d0f7\" xlink:type=\"simple\"><polygon fill=\"#FFFFFF\" points=\"16,6,210,6,217,28.2969,220,28.2969,220,363,16,363,16,6\" style=\"stroke: #000000; stroke-width: 1.5;\"/><line style=\"stroke: #000000; stroke-width: 1.5;\" x1=\"16\" x2=\"217\" y1=\"28.2969\" y2=\"28.2969\"/><text fill=\"#000000\" font-family=\"sans-serif\" font-size=\"14\" font-weight=\"bold\" lengthAdjust=\"spacingAndGlyphs\" textLength=\"188\" x=\"20\" y=\"20.9951\">TextualRepresentationTest</text></a><!--MD5=[b4997ac47864f28c2f74865a473b2911]\n",
       "class E2--><a href=\"psysml:a14c26f5-bb93-4792-a45e-179361bfe6e1\" target=\"_top\" title=\"psysml:a14c26f5-bb93-4792-a45e-179361bfe6e1\" xlink:actuate=\"onRequest\" xlink:href=\"psysml:a14c26f5-bb93-4792-a45e-179361bfe6e1\" xlink:show=\"new\" xlink:title=\"psysml:a14c26f5-bb93-4792-a45e-179361bfe6e1\" xlink:type=\"simple\"><rect fill=\"#FFFFFF\" height=\"75.5469\" id=\"E2\" style=\"stroke: #383838; stroke-width: 1.5;\" width=\"71\" x=\"82.5\" y=\"164\"/><text fill=\"#000000\" font-family=\"sans-serif\" font-size=\"12\" font-style=\"italic\" lengthAdjust=\"spacingAndGlyphs\" textLength=\"69\" x=\"83.5\" y=\"180.1387\">«item  def»</text><text fill=\"#000000\" font-family=\"sans-serif\" font-size=\"12\" lengthAdjust=\"spacingAndGlyphs\" textLength=\"8\" x=\"114\" y=\"194.1074\">C</text><line style=\"stroke: #383838; stroke-width: 1.5;\" x1=\"83.5\" x2=\"152.5\" y1=\"201.9375\" y2=\"201.9375\"/><text fill=\"#000000\" font-family=\"sans-serif\" font-size=\"11\" lengthAdjust=\"spacingAndGlyphs\" textLength=\"38\" x=\"88.5\" y=\"232.9526\">x: Real</text><line style=\"stroke: #383838; stroke-width: 1.0;\" x1=\"83.5\" x2=\"90.5\" y1=\"216.3398\" y2=\"216.3398\"/><text fill=\"#000000\" font-family=\"sans-serif\" font-size=\"11\" lengthAdjust=\"spacingAndGlyphs\" textLength=\"55\" x=\"90.5\" y=\"219.6479\">attributes</text><line style=\"stroke: #383838; stroke-width: 1.0;\" x1=\"145.5\" x2=\"152.5\" y1=\"216.3398\" y2=\"216.3398\"/></a><!--MD5=[09b614a08d8cba4a07c9adeb5e0fee81]\n",
       "class E3--><a href=\"psysml:b9ffc3c6-eeca-4712-be2d-56262eb1e98d\" target=\"_top\" title=\"psysml:b9ffc3c6-eeca-4712-be2d-56262eb1e98d\" xlink:actuate=\"onRequest\" xlink:href=\"psysml:b9ffc3c6-eeca-4712-be2d-56262eb1e98d\" xlink:show=\"new\" xlink:title=\"psysml:b9ffc3c6-eeca-4712-be2d-56262eb1e98d\" xlink:type=\"simple\"><rect fill=\"#FFFFFF\" height=\"45.9375\" id=\"E3\" rx=\"10\" ry=\"10\" style=\"stroke: #383838; stroke-width: 1.5;\" width=\"124\" x=\"56\" y=\"301\"/><text fill=\"#000000\" font-family=\"sans-serif\" font-size=\"12\" font-style=\"italic\" lengthAdjust=\"spacingAndGlyphs\" textLength=\"122\" x=\"57\" y=\"317.1387\">«assert constraint»</text><text fill=\"#000000\" font-family=\"sans-serif\" font-size=\"12\" lengthAdjust=\"spacingAndGlyphs\" textLength=\"76\" x=\"78\" y=\"331.1074\">x_constraint</text><line style=\"stroke: #383838; stroke-width: 1.5;\" x1=\"57\" x2=\"179\" y1=\"338.9375\" y2=\"338.9375\"/></a><!--MD5=[ebbe1d658d1005bcc118a6aa81145e00]\n",
       "class E4--><a href=\"psysml:ee57fb5c-c168-4cf6-8494-2ae72f89f8ea\" target=\"_top\" title=\"psysml:ee57fb5c-c168-4cf6-8494-2ae72f89f8ea\" xlink:actuate=\"onRequest\" xlink:href=\"psysml:ee57fb5c-c168-4cf6-8494-2ae72f89f8ea\" xlink:show=\"new\" xlink:title=\"psysml:ee57fb5c-c168-4cf6-8494-2ae72f89f8ea\" xlink:type=\"simple\"><rect fill=\"#FFFFFF\" height=\"45.9375\" id=\"E4\" style=\"stroke: #383838; stroke-width: 1.5;\" width=\"83\" x=\"76.5\" y=\"41\"/><text fill=\"#000000\" font-family=\"sans-serif\" font-size=\"12\" font-style=\"italic\" lengthAdjust=\"spacingAndGlyphs\" textLength=\"81\" x=\"77.5\" y=\"57.1387\">«action  def»</text><text fill=\"#000000\" font-family=\"sans-serif\" font-size=\"12\" lengthAdjust=\"spacingAndGlyphs\" textLength=\"27\" x=\"104.5\" y=\"71.1074\">setX</text><line style=\"stroke: #383838; stroke-width: 1.5;\" x1=\"77.5\" x2=\"158.5\" y1=\"78.9375\" y2=\"78.9375\"/></a><!--MD5=[209b3feb70ccb6233bfe1053d122c12c]\n",
       "reverse link E2 to E3--><a href=\"psysml:25bb36ff-df1f-4894-9e3f-bec813bc6d8c\" target=\"_top\" title=\"psysml:25bb36ff-df1f-4894-9e3f-bec813bc6d8c\" xlink:actuate=\"onRequest\" xlink:href=\"psysml:25bb36ff-df1f-4894-9e3f-bec813bc6d8c\" xlink:show=\"new\" xlink:title=\"psysml:25bb36ff-df1f-4894-9e3f-bec813bc6d8c\" xlink:type=\"simple\"><path d=\"M118,253.27 C118,253.27 118,300.78 118,300.78 \" fill=\"none\" id=\"E2&lt;-E3\" style=\"stroke: #383838; stroke-width: 1.0;\"/><polygon fill=\"#FFFFFF\" points=\"118,240.27,114,246.27,118,252.27,122,246.27,118,240.27\" style=\"stroke: #383838; stroke-width: 1.0;\"/><text fill=\"#000000\" font-family=\"sans-serif\" font-size=\"13\" lengthAdjust=\"spacingAndGlyphs\" textLength=\"7\" x=\"110.1031\" y=\"289.9999\">*</text></a><!--MD5=[ddeed8deb2209213b62e6cfabaa108b2]\n",
       "reverse link E4 to E2--><a href=\"psysml:e345a4af-2fbe-4f5b-aa1f-c95f9761e116\" target=\"_top\" title=\"psysml:e345a4af-2fbe-4f5b-aa1f-c95f9761e116\" xlink:actuate=\"onRequest\" xlink:href=\"psysml:e345a4af-2fbe-4f5b-aa1f-c95f9761e116\" xlink:show=\"new\" xlink:title=\"psysml:e345a4af-2fbe-4f5b-aa1f-c95f9761e116\" xlink:type=\"simple\"><path d=\"M118,100.1 C118,100.1 118,163.96 118,163.96 \" fill=\"none\" id=\"E4&lt;-E2\" style=\"stroke: #383838; stroke-width: 1.0;\"/><polygon fill=\"#FFFFFF\" points=\"118,87.1,114,93.1,118,99.1,122,93.1,118,87.1\" style=\"stroke: #383838; stroke-width: 1.0;\"/><text fill=\"#000000\" font-family=\"sans-serif\" font-size=\"13\" lengthAdjust=\"spacingAndGlyphs\" textLength=\"7\" x=\"119\" y=\"130.0669\">c</text></a><!--MD5=[adb9e58e5a85e9967ee3ce93e88ccd68]\n",
       "@startuml\r\n",
       "skinparam linetype ortho\r\n",
       "skinparam monochrome true\r\n",
       "skinparam classbackgroundcolor white\r\n",
       "skinparam shadowing false\r\n",
       "skinparam wrapWidth 300\r\n",
       "hide circle\r\n",
       "\r\n",
       "package \"TextualRepresentationTest\" as E1  [[psysml:a059710d-e8aa-4b22-8023-1459b734d0f7 ]]  {\r\n",
       "comp def \"C\" as E2  <<(T,blue) item  def>> [[psysml:a14c26f5-bb93-4792-a45e-179361bfe6e1 ]] {\r\n",
       "- - attributes - -\r\n",
       "x: Real\r\n",
       "}\r\n",
       "comp usage \"x_constraint \" as E3  <<(T,blue) assert constraint>> [[psysml:b9ffc3c6-eeca-4712-be2d-56262eb1e98d ]] {\r\n",
       "}\r\n",
       "comp def \"setX\" as E4  <<(T,blue) action  def>> [[psysml:ee57fb5c-c168-4cf6-8494-2ae72f89f8ea ]] {\r\n",
       "}\r\n",
       "}\r\n",
       "E2 o- - \"*\"E3 [[psysml:25bb36ff-df1f-4894-9e3f-bec813bc6d8c ]] \r\n",
       "E4 o- - E2 [[psysml:e345a4af-2fbe-4f5b-aa1f-c95f9761e116 ]] : c\r\n",
       "@enduml\r\n",
       "\n",
       "PlantUML version 1.2020.13(Sat Jun 13 12:26:38 UTC 2020)\n",
       "(EPL source distribution)\n",
       "Java Runtime: OpenJDK Runtime Environment\n",
       "JVM: OpenJDK 64-Bit Server VM\n",
       "Default Encoding: UTF-8\n",
       "Language: en\n",
       "Country: null\n",
       "--></g></svg>"
      ]
     },
     "execution_count": 52,
     "metadata": {},
     "output_type": "execute_result"
    }
   ],
   "source": [
    "%viz --style=\"ORTHOLINE\" --view=\"Tree\" \"TextualRepresentationTest\""
   ]
  },
  {
   "cell_type": "code",
   "execution_count": 53,
   "id": "63a37149",
   "metadata": {
    "execution": {
     "iopub.execute_input": "2022-08-19T08:20:13.882851Z",
     "iopub.status.busy": "2022-08-19T08:20:13.882386Z",
     "iopub.status.idle": "2022-08-19T08:20:13.888358Z",
     "shell.execute_reply": "2022-08-19T08:20:13.887974Z"
    }
   },
   "outputs": [
    {
     "data": {
      "image/svg+xml": [
       "<?xml version=\"1.0\" encoding=\"UTF-8\" standalone=\"no\"?><svg xmlns=\"http://www.w3.org/2000/svg\" xmlns:xlink=\"http://www.w3.org/1999/xlink\" contentScriptType=\"application/ecmascript\" contentStyleType=\"text/css\" height=\"12px\" preserveAspectRatio=\"none\" style=\"width:12px;height:12px;\" version=\"1.1\" viewBox=\"0 0 12 12\" width=\"12px\" zoomAndPan=\"magnify\"><defs/><g><!--MD5=[97d6f38768b311333d388e66b2b27985]\n",
       "@startuml\r\n",
       "skinparam linetype ortho\r\n",
       "skinparam monochrome true\r\n",
       "skinparam classbackgroundcolor white\r\n",
       "skinparam shadowing false\r\n",
       "skinparam wrapWidth 300\r\n",
       "hide circle\r\n",
       "\r\n",
       "@enduml\r\n",
       "\n",
       "PlantUML version 1.2020.13(Sat Jun 13 12:26:38 UTC 2020)\n",
       "(EPL source distribution)\n",
       "Java Runtime: OpenJDK Runtime Environment\n",
       "JVM: OpenJDK 64-Bit Server VM\n",
       "Default Encoding: UTF-8\n",
       "Language: en\n",
       "Country: null\n",
       "--></g></svg>"
      ]
     },
     "execution_count": 53,
     "metadata": {},
     "output_type": "execute_result"
    }
   ],
   "source": [
    "%viz --style=\"ORTHOLINE\" --view=\"State\" \"TextualRepresentationTest\""
   ]
  },
  {
   "cell_type": "code",
   "execution_count": 54,
   "id": "0eff373d",
   "metadata": {
    "execution": {
     "iopub.execute_input": "2022-08-19T08:20:13.936561Z",
     "iopub.status.busy": "2022-08-19T08:20:13.936091Z",
     "iopub.status.idle": "2022-08-19T08:20:13.963464Z",
     "shell.execute_reply": "2022-08-19T08:20:13.963031Z"
    }
   },
   "outputs": [
    {
     "data": {
      "image/svg+xml": [
       "<?xml version=\"1.0\" encoding=\"UTF-8\" standalone=\"no\"?><svg xmlns=\"http://www.w3.org/2000/svg\" xmlns:xlink=\"http://www.w3.org/1999/xlink\" contentScriptType=\"application/ecmascript\" contentStyleType=\"text/css\" height=\"179px\" preserveAspectRatio=\"none\" style=\"width:292px;height:179px;\" version=\"1.1\" viewBox=\"0 0 292 179\" width=\"292px\" zoomAndPan=\"magnify\"><defs/><g><!--MD5=[fbc87193dbaf4d95561dea2c320d4a47]\n",
       "cluster E1--><a href=\"psysml:a059710d-e8aa-4b22-8023-1459b734d0f7\" target=\"_top\" title=\"psysml:a059710d-e8aa-4b22-8023-1459b734d0f7\" xlink:actuate=\"onRequest\" xlink:href=\"psysml:a059710d-e8aa-4b22-8023-1459b734d0f7\" xlink:show=\"new\" xlink:title=\"psysml:a059710d-e8aa-4b22-8023-1459b734d0f7\" xlink:type=\"simple\"><polygon fill=\"#FFFFFF\" points=\"16,6,210,6,217,28.2969,270,28.2969,270,167,16,167,16,6\" style=\"stroke: #000000; stroke-width: 1.5;\"/><line style=\"stroke: #000000; stroke-width: 1.5;\" x1=\"16\" x2=\"217\" y1=\"28.2969\" y2=\"28.2969\"/><text fill=\"#000000\" font-family=\"sans-serif\" font-size=\"14\" font-weight=\"bold\" lengthAdjust=\"spacingAndGlyphs\" textLength=\"188\" x=\"20\" y=\"20.9951\">TextualRepresentationTest</text></a><!--MD5=[d5e69f78d87373223dbae638b30a9c99]\n",
       "cluster E3--><a href=\"psysml:ee57fb5c-c168-4cf6-8494-2ae72f89f8ea\" target=\"_top\" title=\"psysml:ee57fb5c-c168-4cf6-8494-2ae72f89f8ea\" xlink:actuate=\"onRequest\" xlink:href=\"psysml:ee57fb5c-c168-4cf6-8494-2ae72f89f8ea\" xlink:show=\"new\" xlink:title=\"psysml:ee57fb5c-c168-4cf6-8494-2ae72f89f8ea\" xlink:type=\"simple\"><rect fill=\"#FFFFFF\" height=\"88.5\" id=\"E3\" style=\"stroke: #383838; stroke-width: 1.5;\" width=\"100\" x=\"122.5\" y=\"62.5\"/><rect fill=\"#F8F8F8\" height=\"37.9375\" style=\"stroke: #383838; stroke-width: 1.5;\" width=\"100\" x=\"122.5\" y=\"62.5\"/><text fill=\"#000000\" font-family=\"sans-serif\" font-size=\"12\" font-style=\"italic\" lengthAdjust=\"spacingAndGlyphs\" textLength=\"81\" x=\"132\" y=\"78.6387\">«action  def»</text><text fill=\"#000000\" font-family=\"sans-serif\" font-size=\"12\" lengthAdjust=\"spacingAndGlyphs\" textLength=\"27\" x=\"159\" y=\"92.6074\">setX</text></a><g id=\"E1.E2\"><a href=\"psysml:a14c26f5-bb93-4792-a45e-179361bfe6e1\" target=\"_top\" title=\"psysml:a14c26f5-bb93-4792-a45e-179361bfe6e1\" xlink:actuate=\"onRequest\" xlink:href=\"psysml:a14c26f5-bb93-4792-a45e-179361bfe6e1\" xlink:show=\"new\" xlink:title=\"psysml:a14c26f5-bb93-4792-a45e-179361bfe6e1\" xlink:type=\"simple\"><rect fill=\"#FFFFFF\" height=\"42.9375\" id=\"E2\" style=\"stroke: #383838; stroke-width: 1.5;\" width=\"76\" x=\"32\" y=\"41\"/><rect fill=\"#F8F8F8\" height=\"37.9375\" style=\"stroke: #383838; stroke-width: 1.5;\" width=\"76\" x=\"32\" y=\"41\"/><text fill=\"#000000\" font-family=\"sans-serif\" font-size=\"12\" font-style=\"italic\" lengthAdjust=\"spacingAndGlyphs\" textLength=\"69\" x=\"35.5\" y=\"57.1387\">«item  def»</text><text fill=\"#000000\" font-family=\"sans-serif\" font-size=\"12\" lengthAdjust=\"spacingAndGlyphs\" textLength=\"8\" x=\"66\" y=\"71.1074\">C</text></a></g><text fill=\"#000000\" font-family=\"sans-serif\" font-size=\"14\" lengthAdjust=\"spacingAndGlyphs\" textLength=\"8\" x=\"145\" y=\"41.1982\">c</text><rect fill=\"#383838\" height=\"12\" style=\"stroke: #F8F8F8; stroke-width: 1.5;\" width=\"12\" x=\"143\" y=\"56.5\"/><text fill=\"#000000\" font-family=\"sans-serif\" font-size=\"14\" lengthAdjust=\"spacingAndGlyphs\" textLength=\"38\" x=\"177\" y=\"41.1982\">newX</text><rect fill=\"#383838\" height=\"12\" style=\"stroke: #F8F8F8; stroke-width: 1.5;\" width=\"12\" x=\"190\" y=\"56.5\"/><!--MD5=[9081b477023cf0f0485a2a281264b3c8]\n",
       "@startuml\r\n",
       "skinparam ranksep 10\r\n",
       "skinparam rectangle {\r\n",
       " backgroundColor<<block>> LightGreen\r\n",
       "}\r\n",
       "skinparam linetype ortho\r\n",
       "skinparam monochrome true\r\n",
       "skinparam classbackgroundcolor white\r\n",
       "skinparam shadowing false\r\n",
       "skinparam wrapWidth 300\r\n",
       "hide circle\r\n",
       "\r\n",
       "package \"TextualRepresentationTest\" as E1  [[psysml:a059710d-e8aa-4b22-8023-1459b734d0f7 ]]  {\r\n",
       "def \"C\" as E2  <<(T,blue) item  def>> [[psysml:a14c26f5-bb93-4792-a45e-179361bfe6e1 ]] \r\n",
       "rec def \"setX\" as E3  <<(T,blue) action  def>> [[psysml:ee57fb5c-c168-4cf6-8494-2ae72f89f8ea ]] {\r\n",
       "portin \"c\" as E4  [[psysml:e345a4af-2fbe-4f5b-aa1f-c95f9761e116 ]] \r\n",
       "portin \"newX\" as E5  [[psysml:bef11b08-4405-4f10-b98d-dfe807135273 ]] \r\n",
       "}\r\n",
       "\r\n",
       "}\r\n",
       "@enduml\r\n",
       "\n",
       "PlantUML version 1.2020.13(Sat Jun 13 12:26:38 UTC 2020)\n",
       "(EPL source distribution)\n",
       "Java Runtime: OpenJDK Runtime Environment\n",
       "JVM: OpenJDK 64-Bit Server VM\n",
       "Default Encoding: UTF-8\n",
       "Language: en\n",
       "Country: null\n",
       "--></g></svg>"
      ]
     },
     "execution_count": 54,
     "metadata": {},
     "output_type": "execute_result"
    }
   ],
   "source": [
    "%viz --style=\"ORTHOLINE\" --view=\"Interconnection\" \"TextualRepresentationTest\""
   ]
  },
  {
   "cell_type": "code",
   "execution_count": 55,
   "id": "f07fe682",
   "metadata": {
    "execution": {
     "iopub.execute_input": "2022-08-19T08:20:14.013047Z",
     "iopub.status.busy": "2022-08-19T08:20:14.012532Z",
     "iopub.status.idle": "2022-08-19T08:20:14.033904Z",
     "shell.execute_reply": "2022-08-19T08:20:14.033426Z"
    }
   },
   "outputs": [
    {
     "data": {
      "image/svg+xml": [
       "<?xml version=\"1.0\" encoding=\"UTF-8\" standalone=\"no\"?><svg xmlns=\"http://www.w3.org/2000/svg\" xmlns:xlink=\"http://www.w3.org/1999/xlink\" contentScriptType=\"application/ecmascript\" contentStyleType=\"text/css\" height=\"126px\" preserveAspectRatio=\"none\" style=\"width:152px;height:126px;\" version=\"1.1\" viewBox=\"0 0 152 126\" width=\"152px\" zoomAndPan=\"magnify\"><defs/><g><!--MD5=[fbc87193dbaf4d95561dea2c320d4a47]\n",
       "cluster E1--><a href=\"psysml:ee57fb5c-c168-4cf6-8494-2ae72f89f8ea\" target=\"_top\" title=\"psysml:ee57fb5c-c168-4cf6-8494-2ae72f89f8ea\" xlink:actuate=\"onRequest\" xlink:href=\"psysml:ee57fb5c-c168-4cf6-8494-2ae72f89f8ea\" xlink:show=\"new\" xlink:title=\"psysml:ee57fb5c-c168-4cf6-8494-2ae72f89f8ea\" xlink:type=\"simple\"><rect fill=\"#FFFFFF\" height=\"73\" id=\"E1\" style=\"stroke: #383838; stroke-width: 1.5;\" width=\"134\" x=\"7\" y=\"42.0986\"/><rect fill=\"#F8F8F8\" height=\"37.9375\" style=\"stroke: #383838; stroke-width: 1.5;\" width=\"134\" x=\"7\" y=\"42.0986\"/><text fill=\"#000000\" font-family=\"sans-serif\" font-size=\"12\" font-style=\"italic\" lengthAdjust=\"spacingAndGlyphs\" textLength=\"81\" x=\"33.5\" y=\"58.2373\">«action  def»</text><text fill=\"#000000\" font-family=\"sans-serif\" font-size=\"12\" lengthAdjust=\"spacingAndGlyphs\" textLength=\"27\" x=\"60.5\" y=\"72.2061\">setX</text></a><text fill=\"#000000\" font-family=\"sans-serif\" font-size=\"14\" lengthAdjust=\"spacingAndGlyphs\" textLength=\"8\" x=\"21\" y=\"20.7969\">c</text><rect fill=\"#383838\" height=\"12\" style=\"stroke: #F8F8F8; stroke-width: 1.5;\" width=\"12\" x=\"19\" y=\"36.0986\"/><text fill=\"#000000\" font-family=\"sans-serif\" font-size=\"14\" lengthAdjust=\"spacingAndGlyphs\" textLength=\"38\" x=\"53\" y=\"20.7969\">newX</text><rect fill=\"#383838\" height=\"12\" style=\"stroke: #F8F8F8; stroke-width: 1.5;\" width=\"12\" x=\"66\" y=\"36.0986\"/><!--MD5=[20b4b8c551f8b5a17a58b9cce2f955a9]\n",
       "@startuml\r\n",
       "skinparam ranksep 8\r\n",
       "skinparam linetype ortho\r\n",
       "skinparam monochrome true\r\n",
       "skinparam classbackgroundcolor white\r\n",
       "skinparam shadowing false\r\n",
       "skinparam wrapWidth 300\r\n",
       "hide circle\r\n",
       "\r\n",
       "rec def \"setX\" as E1  <<(T,blue) action  def>> [[psysml:ee57fb5c-c168-4cf6-8494-2ae72f89f8ea ]] {\r\n",
       "portin \"c\" as E2  [[psysml:e345a4af-2fbe-4f5b-aa1f-c95f9761e116 ]] \r\n",
       "portin \"newX\" as E3  [[psysml:bef11b08-4405-4f10-b98d-dfe807135273 ]] \r\n",
       "}\r\n",
       "\r\n",
       "@enduml\r\n",
       "\n",
       "PlantUML version 1.2020.13(Sat Jun 13 12:26:38 UTC 2020)\n",
       "(EPL source distribution)\n",
       "Java Runtime: OpenJDK Runtime Environment\n",
       "JVM: OpenJDK 64-Bit Server VM\n",
       "Default Encoding: UTF-8\n",
       "Language: en\n",
       "Country: null\n",
       "--></g></svg>"
      ]
     },
     "execution_count": 55,
     "metadata": {},
     "output_type": "execute_result"
    }
   ],
   "source": [
    "%viz --style=\"ORTHOLINE\" --view=\"Action\" \"TextualRepresentationTest\""
   ]
  },
  {
   "cell_type": "code",
   "execution_count": 56,
   "id": "89fabeb6",
   "metadata": {
    "execution": {
     "iopub.execute_input": "2022-08-19T08:20:14.083331Z",
     "iopub.status.busy": "2022-08-19T08:20:14.082872Z",
     "iopub.status.idle": "2022-08-19T08:20:14.088254Z",
     "shell.execute_reply": "2022-08-19T08:20:14.087852Z"
    }
   },
   "outputs": [
    {
     "data": {
      "image/svg+xml": [
       "<?xml version=\"1.0\" encoding=\"UTF-8\" standalone=\"no\"?><svg xmlns=\"http://www.w3.org/2000/svg\" xmlns:xlink=\"http://www.w3.org/1999/xlink\" contentScriptType=\"application/ecmascript\" contentStyleType=\"text/css\" height=\"12px\" preserveAspectRatio=\"none\" style=\"width:12px;height:12px;\" version=\"1.1\" viewBox=\"0 0 12 12\" width=\"12px\" zoomAndPan=\"magnify\"><defs/><g><!--MD5=[30fc1de5121c5abddedd55b44417fde8]\n",
       "@startuml\r\n",
       "skinparam roundcorner 20\r\n",
       "skinparam BoxPadding 20\r\n",
       "skinparam SequenceBoxBackgroundColor #white\r\n",
       "skinparam style strictuml\r\n",
       "skinparam maxMessageSize 100\r\n",
       "skinparam linetype ortho\r\n",
       "skinparam monochrome true\r\n",
       "skinparam classbackgroundcolor white\r\n",
       "skinparam shadowing false\r\n",
       "skinparam wrapWidth 300\r\n",
       "hide circle\r\n",
       "\r\n",
       "@enduml\r\n",
       "\n",
       "PlantUML version 1.2020.13(Sat Jun 13 12:26:38 UTC 2020)\n",
       "(EPL source distribution)\n",
       "Java Runtime: OpenJDK Runtime Environment\n",
       "JVM: OpenJDK 64-Bit Server VM\n",
       "Default Encoding: UTF-8\n",
       "Language: en\n",
       "Country: null\n",
       "--></g></svg>"
      ]
     },
     "execution_count": 56,
     "metadata": {},
     "output_type": "execute_result"
    }
   ],
   "source": [
    "%viz --style=\"ORTHOLINE\" --view=\"Sequence\" \"TextualRepresentationTest\""
   ]
  },
  {
   "cell_type": "code",
   "execution_count": 57,
   "id": "f62ddfe4",
   "metadata": {
    "execution": {
     "iopub.execute_input": "2022-08-19T08:20:14.138143Z",
     "iopub.status.busy": "2022-08-19T08:20:14.137621Z",
     "iopub.status.idle": "2022-08-19T08:20:14.176250Z",
     "shell.execute_reply": "2022-08-19T08:20:14.175810Z"
    }
   },
   "outputs": [
    {
     "data": {
      "image/svg+xml": [
       "<?xml version=\"1.0\" encoding=\"UTF-8\" standalone=\"no\"?><svg xmlns=\"http://www.w3.org/2000/svg\" xmlns:xlink=\"http://www.w3.org/1999/xlink\" contentScriptType=\"application/ecmascript\" contentStyleType=\"text/css\" height=\"261px\" preserveAspectRatio=\"none\" style=\"width:351px;height:261px;\" version=\"1.1\" viewBox=\"0 0 351 261\" width=\"351px\" zoomAndPan=\"magnify\"><defs/><g><!--MD5=[fbc87193dbaf4d95561dea2c320d4a47]\n",
       "cluster E1--><a href=\"psysml:a059710d-e8aa-4b22-8023-1459b734d0f7\" target=\"_top\" title=\"psysml:a059710d-e8aa-4b22-8023-1459b734d0f7\" xlink:actuate=\"onRequest\" xlink:href=\"psysml:a059710d-e8aa-4b22-8023-1459b734d0f7\" xlink:show=\"new\" xlink:title=\"psysml:a059710d-e8aa-4b22-8023-1459b734d0f7\" xlink:type=\"simple\"><polygon fill=\"#FFFFFF\" points=\"16,6,210,6,217,28.2969,329,28.2969,329,249.5,16,249.5,16,6\" style=\"stroke: #000000; stroke-width: 1.5;\"/><line style=\"stroke: #000000; stroke-width: 1.5;\" x1=\"16\" x2=\"217\" y1=\"28.2969\" y2=\"28.2969\"/><text fill=\"#000000\" font-family=\"sans-serif\" font-size=\"14\" font-weight=\"bold\" lengthAdjust=\"spacingAndGlyphs\" textLength=\"188\" x=\"20\" y=\"20.9951\">TextualRepresentationTest</text></a><!--MD5=[f6df4d0ebaf0b5dfb2ced0ae5af7c670]\n",
       "cluster E4--><a href=\"psysml:ee57fb5c-c168-4cf6-8494-2ae72f89f8ea\" target=\"_top\" title=\"psysml:ee57fb5c-c168-4cf6-8494-2ae72f89f8ea\" xlink:actuate=\"onRequest\" xlink:href=\"psysml:ee57fb5c-c168-4cf6-8494-2ae72f89f8ea\" xlink:show=\"new\" xlink:title=\"psysml:ee57fb5c-c168-4cf6-8494-2ae72f89f8ea\" xlink:type=\"simple\"><rect fill=\"#FFFFFF\" height=\"154.5\" id=\"E4\" style=\"stroke: #383838; stroke-width: 1.5;\" width=\"134\" x=\"179\" y=\"79\"/><rect fill=\"#F8F8F8\" height=\"37.9375\" style=\"stroke: #383838; stroke-width: 1.5;\" width=\"134\" x=\"179\" y=\"79\"/><text fill=\"#000000\" font-family=\"sans-serif\" font-size=\"12\" font-style=\"italic\" lengthAdjust=\"spacingAndGlyphs\" textLength=\"81\" x=\"205.5\" y=\"95.1387\">«action  def»</text><text fill=\"#000000\" font-family=\"sans-serif\" font-size=\"12\" lengthAdjust=\"spacingAndGlyphs\" textLength=\"27\" x=\"232.5\" y=\"109.1074\">setX</text></a><!--MD5=[b4997ac47864f28c2f74865a473b2911]\n",
       "class E2--><a href=\"psysml:a14c26f5-bb93-4792-a45e-179361bfe6e1\" target=\"_top\" title=\"psysml:a14c26f5-bb93-4792-a45e-179361bfe6e1\" xlink:actuate=\"onRequest\" xlink:href=\"psysml:a14c26f5-bb93-4792-a45e-179361bfe6e1\" xlink:show=\"new\" xlink:title=\"psysml:a14c26f5-bb93-4792-a45e-179361bfe6e1\" xlink:type=\"simple\"><rect fill=\"#FFFFFF\" height=\"75.5469\" id=\"E2\" style=\"stroke: #383838; stroke-width: 1.5;\" width=\"71\" x=\"58.5\" y=\"41\"/><text fill=\"#000000\" font-family=\"sans-serif\" font-size=\"12\" font-style=\"italic\" lengthAdjust=\"spacingAndGlyphs\" textLength=\"69\" x=\"59.5\" y=\"57.1387\">«item  def»</text><text fill=\"#000000\" font-family=\"sans-serif\" font-size=\"12\" lengthAdjust=\"spacingAndGlyphs\" textLength=\"8\" x=\"90\" y=\"71.1074\">C</text><line style=\"stroke: #383838; stroke-width: 1.5;\" x1=\"59.5\" x2=\"128.5\" y1=\"78.9375\" y2=\"78.9375\"/><text fill=\"#000000\" font-family=\"sans-serif\" font-size=\"11\" lengthAdjust=\"spacingAndGlyphs\" textLength=\"38\" x=\"64.5\" y=\"109.9526\">x: Real</text><line style=\"stroke: #383838; stroke-width: 1.0;\" x1=\"59.5\" x2=\"66.5\" y1=\"93.3398\" y2=\"93.3398\"/><text fill=\"#000000\" font-family=\"sans-serif\" font-size=\"11\" lengthAdjust=\"spacingAndGlyphs\" textLength=\"55\" x=\"66.5\" y=\"96.6479\">attributes</text><line style=\"stroke: #383838; stroke-width: 1.0;\" x1=\"121.5\" x2=\"128.5\" y1=\"93.3398\" y2=\"93.3398\"/></a><!--MD5=[09b614a08d8cba4a07c9adeb5e0fee81]\n",
       "class E3--><a href=\"psysml:b9ffc3c6-eeca-4712-be2d-56262eb1e98d\" target=\"_top\" title=\"psysml:b9ffc3c6-eeca-4712-be2d-56262eb1e98d\" xlink:actuate=\"onRequest\" xlink:href=\"psysml:b9ffc3c6-eeca-4712-be2d-56262eb1e98d\" xlink:show=\"new\" xlink:title=\"psysml:b9ffc3c6-eeca-4712-be2d-56262eb1e98d\" xlink:type=\"simple\"><rect fill=\"#FFFFFF\" height=\"45.9375\" id=\"E3\" rx=\"10\" ry=\"10\" style=\"stroke: #383838; stroke-width: 1.5;\" width=\"124\" x=\"32\" y=\"177\"/><text fill=\"#000000\" font-family=\"sans-serif\" font-size=\"12\" font-style=\"italic\" lengthAdjust=\"spacingAndGlyphs\" textLength=\"122\" x=\"33\" y=\"193.1387\">«assert constraint»</text><text fill=\"#000000\" font-family=\"sans-serif\" font-size=\"12\" lengthAdjust=\"spacingAndGlyphs\" textLength=\"76\" x=\"54\" y=\"207.1074\">x_constraint</text><line style=\"stroke: #383838; stroke-width: 1.5;\" x1=\"33\" x2=\"155\" y1=\"214.9375\" y2=\"214.9375\"/></a><text fill=\"#000000\" font-family=\"sans-serif\" font-size=\"14\" lengthAdjust=\"spacingAndGlyphs\" textLength=\"8\" x=\"193\" y=\"57.6982\">c</text><rect fill=\"#383838\" height=\"12\" style=\"stroke: #F8F8F8; stroke-width: 1.5;\" width=\"12\" x=\"191\" y=\"73\"/><text fill=\"#000000\" font-family=\"sans-serif\" font-size=\"14\" lengthAdjust=\"spacingAndGlyphs\" textLength=\"38\" x=\"225\" y=\"57.6982\">newX</text><rect fill=\"#383838\" height=\"12\" style=\"stroke: #F8F8F8; stroke-width: 1.5;\" width=\"12\" x=\"238\" y=\"73\"/><!--MD5=[209b3feb70ccb6233bfe1053d122c12c]\n",
       "reverse link E2 to E3--><a href=\"psysml:25bb36ff-df1f-4894-9e3f-bec813bc6d8c\" target=\"_top\" title=\"psysml:25bb36ff-df1f-4894-9e3f-bec813bc6d8c\" xlink:actuate=\"onRequest\" xlink:href=\"psysml:25bb36ff-df1f-4894-9e3f-bec813bc6d8c\" xlink:show=\"new\" xlink:title=\"psysml:25bb36ff-df1f-4894-9e3f-bec813bc6d8c\" xlink:type=\"simple\"><path d=\"M94,130.29 C94,130.29 94,176.74 94,176.74 \" fill=\"none\" id=\"E2&lt;-E3\" style=\"stroke: #383838; stroke-width: 1.0;\"/><polygon fill=\"#FFFFFF\" points=\"94,117.29,90,123.29,94,129.29,98,123.29,94,117.29\" style=\"stroke: #383838; stroke-width: 1.0;\"/><text fill=\"#000000\" font-family=\"sans-serif\" font-size=\"13\" lengthAdjust=\"spacingAndGlyphs\" textLength=\"7\" x=\"86.1031\" y=\"165.9497\">*</text></a><!--MD5=[3634fb55a7c29d56375f99058d34a7ef]\n",
       "@startuml\r\n",
       "skinparam linetype ortho\r\n",
       "skinparam monochrome true\r\n",
       "skinparam classbackgroundcolor white\r\n",
       "skinparam shadowing false\r\n",
       "skinparam wrapWidth 300\r\n",
       "hide circle\r\n",
       "\r\n",
       "package \"TextualRepresentationTest\" as E1  [[psysml:a059710d-e8aa-4b22-8023-1459b734d0f7 ]]  {\r\n",
       "comp def \"C\" as E2  <<(T,blue) item  def>> [[psysml:a14c26f5-bb93-4792-a45e-179361bfe6e1 ]] {\r\n",
       "- - attributes - -\r\n",
       "x: Real\r\n",
       "}\r\n",
       "comp usage \"x_constraint \" as E3  <<(T,blue) assert constraint>> [[psysml:b9ffc3c6-eeca-4712-be2d-56262eb1e98d ]] {\r\n",
       "}\r\n",
       "rec def \"setX\" as E4  <<(T,blue) action  def>> [[psysml:ee57fb5c-c168-4cf6-8494-2ae72f89f8ea ]] {\r\n",
       "portin \"c\" as E5  [[psysml:e345a4af-2fbe-4f5b-aa1f-c95f9761e116 ]] \r\n",
       "portin \"newX\" as E6  [[psysml:bef11b08-4405-4f10-b98d-dfe807135273 ]] \r\n",
       "}\r\n",
       "\r\n",
       "}\r\n",
       "E2 o- - \"*\"E3 [[psysml:25bb36ff-df1f-4894-9e3f-bec813bc6d8c ]] \r\n",
       "@enduml\r\n",
       "\n",
       "PlantUML version 1.2020.13(Sat Jun 13 12:26:38 UTC 2020)\n",
       "(EPL source distribution)\n",
       "Java Runtime: OpenJDK Runtime Environment\n",
       "JVM: OpenJDK 64-Bit Server VM\n",
       "Default Encoding: UTF-8\n",
       "Language: en\n",
       "Country: null\n",
       "--></g></svg>"
      ]
     },
     "execution_count": 57,
     "metadata": {},
     "output_type": "execute_result"
    }
   ],
   "source": [
    "%viz --style=\"ORTHOLINE\" --view=\"MIXED\" \"TextualRepresentationTest\""
   ]
  }
 ],
 "metadata": {
  "kernelspec": {
   "display_name": "SysML",
   "language": "sysml",
   "name": "sysml"
  },
  "language_info": {
   "codemirror_mode": "sysml",
   "file_extension": ".sysml",
   "mimetype": "text/x-sysml",
   "name": "SysML",
   "pygments_lexer": "java",
   "version": "1.0.0"
  }
 },
 "nbformat": 4,
 "nbformat_minor": 5
}

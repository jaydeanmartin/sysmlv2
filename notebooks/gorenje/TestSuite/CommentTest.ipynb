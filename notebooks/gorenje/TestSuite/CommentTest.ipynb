{
 "cells": [
  {
   "cell_type": "markdown",
   "id": "4f222487",
   "metadata": {},
   "source": [
    "# SysML v2 Test Suite\n",
    "\n",
    "This can notebook can be cleared using menu `Edit --> Clear All Outputs` and then all cells can be\n",
    "run using menu `Run --> Run All Cells`.\n",
    "\n",
    "**WARNING**: This file is generated, all modifications here will be ignored.\n"
   ]
  },
  {
   "cell_type": "markdown",
   "id": "38fe47c5",
   "metadata": {},
   "source": [
    "## File: ../../sysml/src/examples/Simple Tests/CommentTest.sysml"
   ]
  },
  {
   "cell_type": "code",
   "execution_count": 1,
   "id": "5c689d91",
   "metadata": {
    "execution": {
     "iopub.execute_input": "2022-08-19T08:16:14.579526Z",
     "iopub.status.busy": "2022-08-19T08:16:14.578274Z",
     "iopub.status.idle": "2022-08-19T08:16:14.753081Z",
     "shell.execute_reply": "2022-08-19T08:16:14.752673Z"
    }
   },
   "outputs": [
    {
     "name": "stderr",
     "output_type": "stream",
     "text": [
      "ERROR:Couldn't resolve reference to Element 'Comments'. (1.sysml line : 40 column : 17)"
     ]
    },
    {
     "name": "stderr",
     "output_type": "stream",
     "text": [
      "\n"
     ]
    },
    {
     "data": {
      "text/plain": []
     },
     "execution_count": 1,
     "metadata": {},
     "output_type": "execute_result"
    }
   ],
   "source": [
    "  /* AAA */\n",
    "  //a lexical comment (\"note\") is not a part of model\n",
    "package CommentTest {\n",
    "\t// inside package\n",
    "\t/*\n",
    "*AAA\n",
    " * BBB*/\t\n",
    " /*\n",
    "    *\n",
    "    *\n",
    "    * AAA  ***   \n",
    "    *BBB\n",
    "    \t\t\t\t\t\t\t\t*/\n",
    "\n",
    "   /*\n",
    " *       AAAA\n",
    " *       BBBB           */\t\n",
    " /* AAAA\n",
    " \n",
    " \n",
    "  * BBBB\n",
    " *\n",
    " * CCCC\n",
    " */\n",
    " /*\n",
    " * AAAA\n",
    " * BBBB\n",
    " *    CCC DDD    \n",
    " */\n",
    "\t\n",
    "\t/* comment inside a package */\n",
    "\tdoc /* Documentation about Package */\n",
    "\tcomment cmt /* Named Comment */\t\n",
    "\tcomment cmt_cmt about cmt /* Comment about Comment */\n",
    "\t\n",
    "\tcomment about C /* Documention Comment about Part Def */\n",
    "\tpart def C {\n",
    "\t\tdoc /* Documentation in Part Def */\n",
    "\t\tcomment /* Comment in Part Def */\n",
    "\t\tcomment about Comments /* Comment about Package */\n",
    "\t}\n",
    "\t/* abc */\n",
    "\tpart def A;\n",
    "}"
   ]
  }
 ],
 "metadata": {
  "kernelspec": {
   "display_name": "SysML",
   "language": "sysml",
   "name": "sysml"
  },
  "language_info": {
   "codemirror_mode": "sysml",
   "file_extension": ".sysml",
   "mimetype": "text/x-sysml",
   "name": "SysML",
   "pygments_lexer": "java",
   "version": "1.0.0"
  }
 },
 "nbformat": 4,
 "nbformat_minor": 5
}

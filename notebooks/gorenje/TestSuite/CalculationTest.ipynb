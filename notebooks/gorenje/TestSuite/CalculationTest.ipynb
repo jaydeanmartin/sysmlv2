{
 "cells": [
  {
   "cell_type": "markdown",
   "id": "48e8a952",
   "metadata": {},
   "source": [
    "# SysML v2 Test Suite\n",
    "\n",
    "This can notebook can be cleared using menu `Edit --> Clear All Outputs` and then all cells can be\n",
    "run using menu `Run --> Run All Cells`.\n",
    "\n",
    "**WARNING**: This file is generated, all modifications here will be ignored.\n"
   ]
  },
  {
   "cell_type": "markdown",
   "id": "ecd6dc5c",
   "metadata": {},
   "source": [
    "## File: ../../sysml/src/examples/Simple Tests/CalculationTest.sysml"
   ]
  },
  {
   "cell_type": "code",
   "execution_count": 1,
   "id": "cf7fcd75",
   "metadata": {
    "execution": {
     "iopub.execute_input": "2022-08-19T08:21:58.138728Z",
     "iopub.status.busy": "2022-08-19T08:21:58.137526Z",
     "iopub.status.idle": "2022-08-19T08:21:58.680565Z",
     "shell.execute_reply": "2022-08-19T08:21:58.680110Z"
    }
   },
   "outputs": [
    {
     "data": {
      "text/plain": [
       "Package CalculationExample (9a950c4d-df47-4bf2-a127-6824d456053c)\n"
      ]
     },
     "execution_count": 1,
     "metadata": {},
     "output_type": "execute_result"
    }
   ],
   "source": [
    "package CalculationExample {\n",
    "\timport ISQ::*;\n",
    "\timport NumericalFunctions::*;\n",
    "\t\n",
    "\tpart def VehiclePart {\n",
    "\t\tattribute m : MassValue;\n",
    "\t}\n",
    "\t\n",
    "\tpart def Vehicle :> VehiclePart;\n",
    "\t\n",
    "\tpart vehicle : Vehicle {\t\t\n",
    "\t\tpart eng : VehiclePart;\t\t\n",
    "\t\tpart trans : VehiclePart;\n",
    "\t}\n",
    "\t\n",
    "\tcalc def MassSum {\n",
    "\t\tin partMasses : MassValue[0..*];\n",
    "\t\treturn totalMass : MassValue = sum(partMasses);\n",
    "\t}\n",
    "\t\n",
    "\tcalc ms: MassSum {\n",
    "\t\tin partMasses = (vehicle.eng.m, vehicle.trans.m);\n",
    "\t\treturn totalMass = vehicle.m;\n",
    "\t}\n",
    "\t\n",
    "\tpart vehicles[*] = (vehicle, vehicle);\n",
    "\tattribute masses1[*] = (vehicles as VehiclePart).m;\n",
    "\tattribute masses2[*] = (vehicles as vehicle).m;\n",
    "}"
   ]
  },
  {
   "cell_type": "code",
   "execution_count": 2,
   "id": "414253ae",
   "metadata": {
    "execution": {
     "iopub.execute_input": "2022-08-19T08:21:58.732095Z",
     "iopub.status.busy": "2022-08-19T08:21:58.731730Z",
     "iopub.status.idle": "2022-08-19T08:21:59.615011Z",
     "shell.execute_reply": "2022-08-19T08:21:59.613672Z"
    }
   },
   "outputs": [
    {
     "data": {
      "image/svg+xml": [
       "<?xml version=\"1.0\" encoding=\"UTF-8\" standalone=\"no\"?><svg xmlns=\"http://www.w3.org/2000/svg\" xmlns:xlink=\"http://www.w3.org/1999/xlink\" contentScriptType=\"application/ecmascript\" contentStyleType=\"text/css\" height=\"505px\" preserveAspectRatio=\"none\" style=\"width:1266px;height:505px;\" version=\"1.1\" viewBox=\"0 0 1266 505\" width=\"1266px\" zoomAndPan=\"magnify\"><defs/><g><!--MD5=[fbc87193dbaf4d95561dea2c320d4a47]\n",
       "cluster E1--><a href=\"psysml:9a950c4d-df47-4bf2-a127-6824d456053c\" target=\"_top\" title=\"psysml:9a950c4d-df47-4bf2-a127-6824d456053c\" xlink:actuate=\"onRequest\" xlink:href=\"psysml:9a950c4d-df47-4bf2-a127-6824d456053c\" xlink:show=\"new\" xlink:title=\"psysml:9a950c4d-df47-4bf2-a127-6824d456053c\" xlink:type=\"simple\"><polygon fill=\"#FFFFFF\" points=\"16,6,155,6,162,28.2969,1244,28.2969,1244,493,16,493,16,6\" style=\"stroke: #000000; stroke-width: 1.5;\"/><line style=\"stroke: #000000; stroke-width: 1.5;\" x1=\"16\" x2=\"162\" y1=\"28.2969\" y2=\"28.2969\"/><text fill=\"#000000\" font-family=\"sans-serif\" font-size=\"14\" font-weight=\"bold\" lengthAdjust=\"spacingAndGlyphs\" textLength=\"133\" x=\"20\" y=\"20.9951\">CalculationExample</text></a><!--MD5=[168fadf3d0c3fd93dd5d6da1b1d7ab76]\n",
       "cluster E7--><a href=\"psysml:425e038d-47d6-48b2-bd42-a030f1074fc4\" target=\"_top\" title=\"psysml:425e038d-47d6-48b2-bd42-a030f1074fc4\" xlink:actuate=\"onRequest\" xlink:href=\"psysml:425e038d-47d6-48b2-bd42-a030f1074fc4\" xlink:show=\"new\" xlink:title=\"psysml:425e038d-47d6-48b2-bd42-a030f1074fc4\" xlink:type=\"simple\"><rect fill=\"#FFFFFF\" height=\"376\" id=\"E7\" style=\"stroke: #383838; stroke-width: 1.5;\" width=\"186\" x=\"650\" y=\"79\"/><rect fill=\"#F8F8F8\" height=\"37.9375\" style=\"stroke: #383838; stroke-width: 1.5;\" width=\"186\" x=\"650\" y=\"79\"/><text fill=\"#000000\" font-family=\"sans-serif\" font-size=\"12\" font-style=\"italic\" lengthAdjust=\"spacingAndGlyphs\" textLength=\"110\" x=\"688\" y=\"95.1387\">«calculation  def»</text><text fill=\"#000000\" font-family=\"sans-serif\" font-size=\"12\" lengthAdjust=\"spacingAndGlyphs\" textLength=\"59\" x=\"713.5\" y=\"109.1074\">MassSum</text></a><!--MD5=[b4997ac47864f28c2f74865a473b2911]\n",
       "class E2--><a href=\"psysml:240f00ab-b9bf-457e-9376-98b0b5e156bb\" target=\"_top\" title=\"psysml:240f00ab-b9bf-457e-9376-98b0b5e156bb\" xlink:actuate=\"onRequest\" xlink:href=\"psysml:240f00ab-b9bf-457e-9376-98b0b5e156bb\" xlink:show=\"new\" xlink:title=\"psysml:240f00ab-b9bf-457e-9376-98b0b5e156bb\" xlink:type=\"simple\"><rect fill=\"#FFFFFF\" height=\"75.5469\" id=\"E2\" style=\"stroke: #383838; stroke-width: 1.5;\" width=\"92\" x=\"968\" y=\"313\"/><text fill=\"#000000\" font-family=\"sans-serif\" font-size=\"12\" font-style=\"italic\" lengthAdjust=\"spacingAndGlyphs\" textLength=\"68\" x=\"980\" y=\"329.1387\">«part  def»</text><text fill=\"#000000\" font-family=\"sans-serif\" font-size=\"12\" lengthAdjust=\"spacingAndGlyphs\" textLength=\"71\" x=\"978.5\" y=\"343.1074\">VehiclePart</text><line style=\"stroke: #383838; stroke-width: 1.5;\" x1=\"969\" x2=\"1059\" y1=\"350.9375\" y2=\"350.9375\"/><text fill=\"#000000\" font-family=\"sans-serif\" font-size=\"11\" lengthAdjust=\"spacingAndGlyphs\" textLength=\"80\" x=\"974\" y=\"381.9526\">m: MassValue</text><line style=\"stroke: #383838; stroke-width: 1.0;\" x1=\"969\" x2=\"986.5\" y1=\"365.3398\" y2=\"365.3398\"/><text fill=\"#000000\" font-family=\"sans-serif\" font-size=\"11\" lengthAdjust=\"spacingAndGlyphs\" textLength=\"55\" x=\"986.5\" y=\"368.6479\">attributes</text><line style=\"stroke: #383838; stroke-width: 1.0;\" x1=\"1041.5\" x2=\"1059\" y1=\"365.3398\" y2=\"365.3398\"/></a><!--MD5=[09b614a08d8cba4a07c9adeb5e0fee81]\n",
       "class E3--><a href=\"psysml:240db56f-6d8c-4faf-8b3c-f8974d12918d\" target=\"_top\" title=\"psysml:240db56f-6d8c-4faf-8b3c-f8974d12918d\" xlink:actuate=\"onRequest\" xlink:href=\"psysml:240db56f-6d8c-4faf-8b3c-f8974d12918d\" xlink:show=\"new\" xlink:title=\"psysml:240db56f-6d8c-4faf-8b3c-f8974d12918d\" xlink:type=\"simple\"><rect fill=\"#FFFFFF\" height=\"45.9375\" id=\"E3\" style=\"stroke: #383838; stroke-width: 1.5;\" width=\"70\" x=\"852\" y=\"192\"/><text fill=\"#000000\" font-family=\"sans-serif\" font-size=\"12\" font-style=\"italic\" lengthAdjust=\"spacingAndGlyphs\" textLength=\"68\" x=\"853\" y=\"208.1387\">«part  def»</text><text fill=\"#000000\" font-family=\"sans-serif\" font-size=\"12\" lengthAdjust=\"spacingAndGlyphs\" textLength=\"45\" x=\"864.5\" y=\"222.1074\">Vehicle</text><line style=\"stroke: #383838; stroke-width: 1.5;\" x1=\"853\" x2=\"921\" y1=\"229.9375\" y2=\"229.9375\"/></a><!--MD5=[ebbe1d658d1005bcc118a6aa81145e00]\n",
       "class E4--><a href=\"psysml:ce00e2ad-3315-43f7-b2e6-6ce884a27309\" target=\"_top\" title=\"psysml:ce00e2ad-3315-43f7-b2e6-6ce884a27309\" xlink:actuate=\"onRequest\" xlink:href=\"psysml:ce00e2ad-3315-43f7-b2e6-6ce884a27309\" xlink:show=\"new\" xlink:title=\"psysml:ce00e2ad-3315-43f7-b2e6-6ce884a27309\" xlink:type=\"simple\"><rect fill=\"#FFFFFF\" height=\"75.5469\" id=\"E4\" rx=\"10\" ry=\"10\" style=\"stroke: #383838; stroke-width: 1.5;\" width=\"106\" x=\"961\" y=\"41\"/><text fill=\"#000000\" font-family=\"sans-serif\" font-size=\"12\" font-style=\"italic\" lengthAdjust=\"spacingAndGlyphs\" textLength=\"40\" x=\"994\" y=\"57.1387\">«part»</text><text fill=\"#000000\" font-family=\"sans-serif\" font-size=\"12\" lengthAdjust=\"spacingAndGlyphs\" textLength=\"96\" x=\"964\" y=\"71.1074\">vehicle: Vehicle</text><line style=\"stroke: #383838; stroke-width: 1.5;\" x1=\"962\" x2=\"1066\" y1=\"78.9375\" y2=\"78.9375\"/><text fill=\"#000000\" font-family=\"sans-serif\" font-size=\"11\" lengthAdjust=\"spacingAndGlyphs\" textLength=\"89\" x=\"967\" y=\"109.9526\">^m: MassValue</text><line style=\"stroke: #383838; stroke-width: 1.0;\" x1=\"962\" x2=\"986.5\" y1=\"93.3398\" y2=\"93.3398\"/><text fill=\"#000000\" font-family=\"sans-serif\" font-size=\"11\" lengthAdjust=\"spacingAndGlyphs\" textLength=\"55\" x=\"986.5\" y=\"96.6479\">attributes</text><line style=\"stroke: #383838; stroke-width: 1.0;\" x1=\"1041.5\" x2=\"1066\" y1=\"93.3398\" y2=\"93.3398\"/></a><!--MD5=[270fce915f116d4de14055a7c1d9a0f3]\n",
       "class E5--><a href=\"psysml:83fc889d-b3c1-4be4-83aa-24728b198254\" target=\"_top\" title=\"psysml:83fc889d-b3c1-4be4-83aa-24728b198254\" xlink:actuate=\"onRequest\" xlink:href=\"psysml:83fc889d-b3c1-4be4-83aa-24728b198254\" xlink:show=\"new\" xlink:title=\"psysml:83fc889d-b3c1-4be4-83aa-24728b198254\" xlink:type=\"simple\"><rect fill=\"#FFFFFF\" height=\"75.5469\" id=\"E5\" rx=\"10\" ry=\"10\" style=\"stroke: #383838; stroke-width: 1.5;\" width=\"113\" x=\"957.5\" y=\"177\"/><text fill=\"#000000\" font-family=\"sans-serif\" font-size=\"12\" font-style=\"italic\" lengthAdjust=\"spacingAndGlyphs\" textLength=\"40\" x=\"994\" y=\"193.1387\">«part»</text><text fill=\"#000000\" font-family=\"sans-serif\" font-size=\"12\" lengthAdjust=\"spacingAndGlyphs\" textLength=\"103\" x=\"960.5\" y=\"207.1074\">eng: VehiclePart</text><line style=\"stroke: #383838; stroke-width: 1.5;\" x1=\"958.5\" x2=\"1069.5\" y1=\"214.9375\" y2=\"214.9375\"/><text fill=\"#000000\" font-family=\"sans-serif\" font-size=\"11\" lengthAdjust=\"spacingAndGlyphs\" textLength=\"89\" x=\"963.5\" y=\"245.9526\">^m: MassValue</text><line style=\"stroke: #383838; stroke-width: 1.0;\" x1=\"958.5\" x2=\"986.5\" y1=\"229.3398\" y2=\"229.3398\"/><text fill=\"#000000\" font-family=\"sans-serif\" font-size=\"11\" lengthAdjust=\"spacingAndGlyphs\" textLength=\"55\" x=\"986.5\" y=\"232.6479\">attributes</text><line style=\"stroke: #383838; stroke-width: 1.0;\" x1=\"1041.5\" x2=\"1069.5\" y1=\"229.3398\" y2=\"229.3398\"/></a><!--MD5=[60a26617385b1d2d0262a64233df1f8d]\n",
       "class E6--><a href=\"psysml:9ad03ab5-4ba7-4600-8f6c-f33bd21910a1\" target=\"_top\" title=\"psysml:9ad03ab5-4ba7-4600-8f6c-f33bd21910a1\" xlink:actuate=\"onRequest\" xlink:href=\"psysml:9ad03ab5-4ba7-4600-8f6c-f33bd21910a1\" xlink:show=\"new\" xlink:title=\"psysml:9ad03ab5-4ba7-4600-8f6c-f33bd21910a1\" xlink:type=\"simple\"><rect fill=\"#FFFFFF\" height=\"75.5469\" id=\"E6\" rx=\"10\" ry=\"10\" style=\"stroke: #383838; stroke-width: 1.5;\" width=\"122\" x=\"1106\" y=\"177\"/><text fill=\"#000000\" font-family=\"sans-serif\" font-size=\"12\" font-style=\"italic\" lengthAdjust=\"spacingAndGlyphs\" textLength=\"40\" x=\"1147\" y=\"193.1387\">«part»</text><text fill=\"#000000\" font-family=\"sans-serif\" font-size=\"12\" lengthAdjust=\"spacingAndGlyphs\" textLength=\"112\" x=\"1109\" y=\"207.1074\">trans: VehiclePart</text><line style=\"stroke: #383838; stroke-width: 1.5;\" x1=\"1107\" x2=\"1227\" y1=\"214.9375\" y2=\"214.9375\"/><text fill=\"#000000\" font-family=\"sans-serif\" font-size=\"11\" lengthAdjust=\"spacingAndGlyphs\" textLength=\"89\" x=\"1112\" y=\"245.9526\">^m: MassValue</text><line style=\"stroke: #383838; stroke-width: 1.0;\" x1=\"1107\" x2=\"1139.5\" y1=\"229.3398\" y2=\"229.3398\"/><text fill=\"#000000\" font-family=\"sans-serif\" font-size=\"11\" lengthAdjust=\"spacingAndGlyphs\" textLength=\"55\" x=\"1139.5\" y=\"232.6479\">attributes</text><line style=\"stroke: #383838; stroke-width: 1.0;\" x1=\"1194.5\" x2=\"1227\" y1=\"229.3398\" y2=\"229.3398\"/></a><!--MD5=[96f4274e9e20536e775497830990834d]\n",
       "class E10--><a href=\"psysml:e012d373-591a-4cf2-b53b-d810c6dd562d\" target=\"_top\" title=\"psysml:e012d373-591a-4cf2-b53b-d810c6dd562d\" xlink:actuate=\"onRequest\" xlink:href=\"psysml:e012d373-591a-4cf2-b53b-d810c6dd562d\" xlink:show=\"new\" xlink:title=\"psysml:e012d373-591a-4cf2-b53b-d810c6dd562d\" xlink:type=\"simple\"><rect fill=\"#FFFFFF\" height=\"75.5469\" id=\"E10\" rx=\"10\" ry=\"10\" style=\"stroke: #383838; stroke-width: 1.5;\" width=\"293\" x=\"340.5\" y=\"41\"/><text fill=\"#000000\" font-family=\"sans-serif\" font-size=\"12\" font-style=\"italic\" lengthAdjust=\"spacingAndGlyphs\" textLength=\"82\" x=\"446\" y=\"57.1387\">«calculation»</text><text fill=\"#000000\" font-family=\"sans-serif\" font-size=\"12\" lengthAdjust=\"spacingAndGlyphs\" textLength=\"85\" x=\"442.5\" y=\"71.1074\">ms: MassSum</text><line style=\"stroke: #383838; stroke-width: 1.5;\" x1=\"341.5\" x2=\"632.5\" y1=\"78.9375\" y2=\"78.9375\"/><text fill=\"#000000\" font-family=\"sans-serif\" font-size=\"11\" font-weight=\"bold\" lengthAdjust=\"spacingAndGlyphs\" textLength=\"10\" x=\"346.5\" y=\"109.9526\">in</text><text fill=\"#000000\" font-family=\"sans-serif\" font-size=\"11\" lengthAdjust=\"spacingAndGlyphs\" textLength=\"267\" x=\"360.5\" y=\"109.9526\">partMasses= (vehicle.eng.m, vehicle.trans.m);</text><line style=\"stroke: #383838; stroke-width: 1.0;\" x1=\"341.5\" x2=\"453.5\" y1=\"93.3398\" y2=\"93.3398\"/><text fill=\"#000000\" font-family=\"sans-serif\" font-size=\"11\" lengthAdjust=\"spacingAndGlyphs\" textLength=\"67\" x=\"453.5\" y=\"96.6479\">parameters</text><line style=\"stroke: #383838; stroke-width: 1.0;\" x1=\"520.5\" x2=\"632.5\" y1=\"93.3398\" y2=\"93.3398\"/></a><!--MD5=[1dd1bfd58a279cf63c5f349dbc8fc6a1]\n",
       "class E11--><a href=\"psysml:e4253433-368c-4e86-8a3c-6b186419df89\" target=\"_top\" title=\"psysml:e4253433-368c-4e86-8a3c-6b186419df89\" xlink:actuate=\"onRequest\" xlink:href=\"psysml:e4253433-368c-4e86-8a3c-6b186419df89\" xlink:show=\"new\" xlink:title=\"psysml:e4253433-368c-4e86-8a3c-6b186419df89\" xlink:type=\"simple\"><rect fill=\"#FFFFFF\" height=\"45.9375\" id=\"E11\" rx=\"10\" ry=\"10\" style=\"stroke: #383838; stroke-width: 1.5;\" width=\"60\" x=\"245\" y=\"56\"/><text fill=\"#000000\" font-family=\"sans-serif\" font-size=\"12\" font-style=\"italic\" lengthAdjust=\"spacingAndGlyphs\" textLength=\"40\" x=\"255\" y=\"72.1387\">«part»</text><text fill=\"#000000\" font-family=\"sans-serif\" font-size=\"12\" lengthAdjust=\"spacingAndGlyphs\" textLength=\"50\" x=\"248\" y=\"86.1074\">vehicles</text><line style=\"stroke: #383838; stroke-width: 1.5;\" x1=\"246\" x2=\"304\" y1=\"93.9375\" y2=\"93.9375\"/></a><!--MD5=[49a0ec8f00dab7302a31f22d0f0fe584]\n",
       "class E12--><a href=\"psysml:03468340-4ee1-4dfd-ba23-9337b31e6caf\" target=\"_top\" title=\"psysml:03468340-4ee1-4dfd-ba23-9337b31e6caf\" xlink:actuate=\"onRequest\" xlink:href=\"psysml:03468340-4ee1-4dfd-ba23-9337b31e6caf\" xlink:show=\"new\" xlink:title=\"psysml:03468340-4ee1-4dfd-ba23-9337b31e6caf\" xlink:type=\"simple\"><rect fill=\"#FFFFFF\" height=\"45.9375\" id=\"E12\" rx=\"10\" ry=\"10\" style=\"stroke: #383838; stroke-width: 1.5;\" width=\"71\" x=\"138.5\" y=\"56\"/><text fill=\"#000000\" font-family=\"sans-serif\" font-size=\"12\" font-style=\"italic\" lengthAdjust=\"spacingAndGlyphs\" textLength=\"69\" x=\"139.5\" y=\"72.1387\">«attribute»</text><text fill=\"#000000\" font-family=\"sans-serif\" font-size=\"12\" lengthAdjust=\"spacingAndGlyphs\" textLength=\"56\" x=\"144\" y=\"86.1074\">masses1</text><line style=\"stroke: #383838; stroke-width: 1.5;\" x1=\"139.5\" x2=\"208.5\" y1=\"93.9375\" y2=\"93.9375\"/></a><!--MD5=[ee3c913d1a06f366521f9ef512b67efe]\n",
       "class E13--><a href=\"psysml:a35488ce-7eb0-470e-9ecc-f7a0c28bc139\" target=\"_top\" title=\"psysml:a35488ce-7eb0-470e-9ecc-f7a0c28bc139\" xlink:actuate=\"onRequest\" xlink:href=\"psysml:a35488ce-7eb0-470e-9ecc-f7a0c28bc139\" xlink:show=\"new\" xlink:title=\"psysml:a35488ce-7eb0-470e-9ecc-f7a0c28bc139\" xlink:type=\"simple\"><rect fill=\"#FFFFFF\" height=\"45.9375\" id=\"E13\" rx=\"10\" ry=\"10\" style=\"stroke: #383838; stroke-width: 1.5;\" width=\"71\" x=\"32.5\" y=\"56\"/><text fill=\"#000000\" font-family=\"sans-serif\" font-size=\"12\" font-style=\"italic\" lengthAdjust=\"spacingAndGlyphs\" textLength=\"69\" x=\"33.5\" y=\"72.1387\">«attribute»</text><text fill=\"#000000\" font-family=\"sans-serif\" font-size=\"12\" lengthAdjust=\"spacingAndGlyphs\" textLength=\"56\" x=\"38\" y=\"86.1074\">masses2</text><line style=\"stroke: #383838; stroke-width: 1.5;\" x1=\"33.5\" x2=\"102.5\" y1=\"93.9375\" y2=\"93.9375\"/></a><text fill=\"#000000\" font-family=\"sans-serif\" font-size=\"14\" lengthAdjust=\"spacingAndGlyphs\" textLength=\"80\" x=\"703\" y=\"57.6982\">partMasses</text><rect fill=\"#383838\" height=\"12\" style=\"stroke: #F8F8F8; stroke-width: 1.5;\" width=\"12\" x=\"737\" y=\"73\"/><text fill=\"#000000\" font-family=\"sans-serif\" font-size=\"14\" lengthAdjust=\"spacingAndGlyphs\" textLength=\"66\" x=\"710\" y=\"473.9951\">totalMass</text><rect fill=\"#383838\" height=\"12\" style=\"stroke: #F8F8F8; stroke-width: 1.5;\" width=\"12\" x=\"737\" y=\"449\"/><!--MD5=[05d275557350bfb9b23a4ef7222b4c39]\n",
       "link E3 to E2--><a href=\"psysml:2113862d-3e36-4f2a-be29-5fbeffc35ef5\" target=\"_top\" title=\"psysml:2113862d-3e36-4f2a-be29-5fbeffc35ef5\" xlink:actuate=\"onRequest\" xlink:href=\"psysml:2113862d-3e36-4f2a-be29-5fbeffc35ef5\" xlink:show=\"new\" xlink:title=\"psysml:2113862d-3e36-4f2a-be29-5fbeffc35ef5\" xlink:type=\"simple\"><path d=\"M907.97,238.13 C923.45,254.46 945.16,277.37 964.91,298.21 \" fill=\"none\" id=\"E3-&gt;E2\" style=\"stroke: #383838; stroke-width: 1.0;\"/><polygon fill=\"none\" points=\"970.15,293.56,978.83,312.89,959.99,303.19,970.15,293.56\" style=\"stroke: #383838; stroke-width: 1.0;\"/></a><!--MD5=[f0cdf4548168e5211fb3a02bf679d63a]\n",
       "link E4 to E3--><a href=\"psysml:3f6bcc61-006c-4905-be22-168150e04931\" target=\"_top\" title=\"psysml:3f6bcc61-006c-4905-be22-168150e04931\" xlink:actuate=\"onRequest\" xlink:href=\"psysml:3f6bcc61-006c-4905-be22-168150e04931\" xlink:show=\"new\" xlink:title=\"psysml:3f6bcc61-006c-4905-be22-168150e04931\" xlink:type=\"simple\"><path d=\"M978.62,117.33 C960.85,136.08 939.39,158.72 921.71,177.38 \" fill=\"none\" id=\"E4-&gt;E3\" style=\"stroke: #383838; stroke-width: 1.0;\"/><polygon fill=\"#FFFFFF\" points=\"907.91,191.94,915.8909,173.3307,926.0566,182.9567,907.91,191.94\" style=\"stroke: #383838; stroke-width: 1.0;\"/><ellipse cx=\"921.2623\" cy=\"170.567\" fill=\"#383838\" rx=\"2\" ry=\"2\" style=\"stroke: #383838; stroke-width: 1.0;\"/><ellipse cx=\"928.5235\" cy=\"177.4426\" fill=\"#383838\" rx=\"2\" ry=\"2\" style=\"stroke: #383838; stroke-width: 1.0;\"/></a><!--MD5=[62aa6af11e70f752912c1cb0466f24f7]\n",
       "reverse link E4 to E5--><a href=\"psysml:dfe553ed-92b1-45a3-82b1-c875cfb3cf56\" target=\"_top\" title=\"psysml:dfe553ed-92b1-45a3-82b1-c875cfb3cf56\" xlink:actuate=\"onRequest\" xlink:href=\"psysml:dfe553ed-92b1-45a3-82b1-c875cfb3cf56\" xlink:show=\"new\" xlink:title=\"psysml:dfe553ed-92b1-45a3-82b1-c875cfb3cf56\" xlink:type=\"simple\"><path d=\"M1014,130.46 C1014,145.87 1014,162.52 1014,176.87 \" fill=\"none\" id=\"E4&lt;-E5\" style=\"stroke: #383838; stroke-width: 1.0;\"/><polygon fill=\"#FFFFFF\" points=\"1014,117.33,1010,123.33,1014,129.33,1018,123.33,1014,117.33\" style=\"stroke: #383838; stroke-width: 1.0;\"/><text fill=\"#000000\" font-family=\"sans-serif\" font-size=\"13\" lengthAdjust=\"spacingAndGlyphs\" textLength=\"8\" x=\"1005.2875\" y=\"165.8612\">1</text></a><!--MD5=[15ebcb19ae302d9b601edb458606d402]\n",
       "link E5 to E2--><a href=\"psysml:7cfd1003-3fe0-4a32-a3a1-13a5c8efedf2\" target=\"_top\" title=\"psysml:7cfd1003-3fe0-4a32-a3a1-13a5c8efedf2\" xlink:actuate=\"onRequest\" xlink:href=\"psysml:7cfd1003-3fe0-4a32-a3a1-13a5c8efedf2\" xlink:show=\"new\" xlink:title=\"psysml:7cfd1003-3fe0-4a32-a3a1-13a5c8efedf2\" xlink:type=\"simple\"><path d=\"M1014,253.33 C1014,265.52 1014,279.36 1014,292.68 \" fill=\"none\" id=\"E5-&gt;E2\" style=\"stroke: #383838; stroke-width: 1.0;\"/><polygon fill=\"#FFFFFF\" points=\"1014,312.87,1007,293.87,1021,293.87,1014,312.87\" style=\"stroke: #383838; stroke-width: 1.0;\"/><ellipse cx=\"1009\" cy=\"288.17\" fill=\"#383838\" rx=\"2\" ry=\"2\" style=\"stroke: #383838; stroke-width: 1.0;\"/><ellipse cx=\"1019\" cy=\"288.17\" fill=\"#383838\" rx=\"2\" ry=\"2\" style=\"stroke: #383838; stroke-width: 1.0;\"/></a><!--MD5=[6db378b65e1aef66a01cb3103812b399]\n",
       "reverse link E4 to E6--><a href=\"psysml:56232501-f921-4851-b5f9-a91b366c1c7b\" target=\"_top\" title=\"psysml:56232501-f921-4851-b5f9-a91b366c1c7b\" xlink:actuate=\"onRequest\" xlink:href=\"psysml:56232501-f921-4851-b5f9-a91b366c1c7b\" xlink:show=\"new\" xlink:title=\"psysml:56232501-f921-4851-b5f9-a91b366c1c7b\" xlink:type=\"simple\"><path d=\"M1066.59,126.06 C1085.53,142.65 1106.65,161.14 1124.61,176.87 \" fill=\"none\" id=\"E4&lt;-E6\" style=\"stroke: #383838; stroke-width: 1.0;\"/><polygon fill=\"#FFFFFF\" points=\"1056.62,117.33,1058.4928,124.2937,1065.6411,125.2433,1063.7683,118.2796,1056.62,117.33\" style=\"stroke: #383838; stroke-width: 1.0;\"/><text fill=\"#000000\" font-family=\"sans-serif\" font-size=\"13\" lengthAdjust=\"spacingAndGlyphs\" textLength=\"8\" x=\"1108.3468\" y=\"165.8612\">1</text></a><!--MD5=[2351f337d6de0f557b50152ba70847b5]\n",
       "link E6 to E2--><a href=\"psysml:b3767e4f-9e3f-4162-9e5b-3e184cb0e1ab\" target=\"_top\" title=\"psysml:b3767e4f-9e3f-4162-9e5b-3e184cb0e1ab\" xlink:actuate=\"onRequest\" xlink:href=\"psysml:b3767e4f-9e3f-4162-9e5b-3e184cb0e1ab\" xlink:show=\"new\" xlink:title=\"psysml:b3767e4f-9e3f-4162-9e5b-3e184cb0e1ab\" xlink:type=\"simple\"><path d=\"M1124.38,253.33 C1108.05,267.63 1089.14,284.19 1071.63,299.52 \" fill=\"none\" id=\"E6-&gt;E2\" style=\"stroke: #383838; stroke-width: 1.0;\"/><polygon fill=\"#FFFFFF\" points=\"1056.39,312.87,1066.0639,295.0819,1075.2922,305.6099,1056.39,312.87\" style=\"stroke: #383838; stroke-width: 1.0;\"/><ellipse cx=\"1071.6686\" cy=\"292.8287\" fill=\"#383838\" rx=\"2\" ry=\"2\" style=\"stroke: #383838; stroke-width: 1.0;\"/><ellipse cx=\"1078.2602\" cy=\"300.3487\" fill=\"#383838\" rx=\"2\" ry=\"2\" style=\"stroke: #383838; stroke-width: 1.0;\"/></a><!--MD5=[a919e0967d6f3de553dc51b9865a1d6d]\n",
       "link E10 to E7--><a href=\"psysml:650eb0f7-ec08-4309-80b6-1e90e34b9690\" target=\"_top\" title=\"psysml:650eb0f7-ec08-4309-80b6-1e90e34b9690\" xlink:actuate=\"onRequest\" xlink:href=\"psysml:650eb0f7-ec08-4309-80b6-1e90e34b9690\" xlink:show=\"new\" xlink:title=\"psysml:650eb0f7-ec08-4309-80b6-1e90e34b9690\" xlink:type=\"simple\"><path d=\"M557.97,117.15 C583.125,130.315 611.975,145.415 639.2925,159.7138 C642.7072,161.5011 646.0979,163.2759 649.4545,165.0329 \" fill=\"none\" id=\"E10-&gt;E7\" style=\"stroke: #383838; stroke-width: 1.0;\"/><polygon fill=\"#FFFFFF\" points=\"649.4545,165.0329,629.3749,162.4234,635.8674,150.0199,649.4545,165.0329\" style=\"stroke: #383838; stroke-width: 1.0;\"/><ellipse cx=\"625.2524\" cy=\"158.0081\" fill=\"#383838\" rx=\"2\" ry=\"2\" style=\"stroke: #383838; stroke-width: 1.0;\"/><ellipse cx=\"629.8899\" cy=\"149.1485\" fill=\"#383838\" rx=\"2\" ry=\"2\" style=\"stroke: #383838; stroke-width: 1.0;\"/></a><!--MD5=[81b3fea4b2f4277f4e12264f6f5e6269]\n",
       "@startuml\r\n",
       " skinparam monochrome true\r\n",
       "skinparam classbackgroundcolor white\r\n",
       "skinparam shadowing false\r\n",
       "skinparam wrapWidth 300\r\n",
       "hide circle\r\n",
       "\r\n",
       "package \"CalculationExample\" as E1  [[psysml:9a950c4d-df47-4bf2-a127-6824d456053c ]]  {\r\n",
       "comp def \"VehiclePart\" as E2  <<(T,blue) part  def>> [[psysml:240f00ab-b9bf-457e-9376-98b0b5e156bb ]] {\r\n",
       "- - attributes - -\r\n",
       "m: MassValue\r\n",
       "}\r\n",
       "comp def \"Vehicle\" as E3  <<(T,blue) part  def>> [[psysml:240db56f-6d8c-4faf-8b3c-f8974d12918d ]] {\r\n",
       "}\r\n",
       "comp usage \"vehicle: Vehicle \" as E4  <<(T,blue) part>> [[psysml:ce00e2ad-3315-43f7-b2e6-6ce884a27309 ]] {\r\n",
       "- - attributes - -\r\n",
       "^m: MassValue\r\n",
       "}\r\n",
       "comp usage \"eng: VehiclePart \" as E5  <<(T,blue) part>> [[psysml:83fc889d-b3c1-4be4-83aa-24728b198254 ]] {\r\n",
       "- - attributes - -\r\n",
       "^m: MassValue\r\n",
       "}\r\n",
       "comp usage \"trans: VehiclePart \" as E6  <<(T,blue) part>> [[psysml:9ad03ab5-4ba7-4600-8f6c-f33bd21910a1 ]] {\r\n",
       "- - attributes - -\r\n",
       "^m: MassValue\r\n",
       "}\r\n",
       "rec def \"MassSum\" as E7  <<(T,blue) calculation  def>> [[psysml:425e038d-47d6-48b2-bd42-a030f1074fc4 ]] {\r\n",
       "portin \"partMasses\" as E8  [[psysml:b45e328f-a4a8-4519-9228-274640d6e043 ]] \r\n",
       "portout \"totalMass\" as E9  [[psysml:712f9e49-cc72-40cc-a5b0-9958e3b93d47 ]] \r\n",
       "}\r\n",
       "\r\n",
       "comp usage \"ms: MassSum \" as E10  <<(T,blue) calculation>> [[psysml:e012d373-591a-4cf2-b53b-d810c6dd562d ]] {\r\n",
       "- - parameters - -\r\n",
       "<b>in</b> partMasses= (vehicle.eng.m, vehicle.trans.m); \r\n",
       "}\r\n",
       "comp usage \"vehicles \" as E11  <<(T,blue) part>> [[psysml:e4253433-368c-4e86-8a3c-6b186419df89 ]] {\r\n",
       "}\r\n",
       "comp usage \"masses1 \" as E12  <<(T,blue) attribute>> [[psysml:03468340-4ee1-4dfd-ba23-9337b31e6caf ]] {\r\n",
       "}\r\n",
       "comp usage \"masses2 \" as E13  <<(T,blue) attribute>> [[psysml:a35488ce-7eb0-470e-9ecc-f7a0c28bc139 ]] {\r\n",
       "}\r\n",
       "}\r\n",
       "E3 - -|> E2 [[psysml:2113862d-3e36-4f2a-be29-5fbeffc35ef5 ]] \r\n",
       "E4 - -:|> E3 [[psysml:3f6bcc61-006c-4905-be22-168150e04931 ]] \r\n",
       "E4 o- - \"1\"E5 [[psysml:dfe553ed-92b1-45a3-82b1-c875cfb3cf56 ]] \r\n",
       "E5 - -:|> E2 [[psysml:7cfd1003-3fe0-4a32-a3a1-13a5c8efedf2 ]] \r\n",
       "E4 o- - \"1\"E6 [[psysml:56232501-f921-4851-b5f9-a91b366c1c7b ]] \r\n",
       "E6 - -:|> E2 [[psysml:b3767e4f-9e3f-4162-9e5b-3e184cb0e1ab ]] \r\n",
       "E10 - -:|> E7 [[psysml:650eb0f7-ec08-4309-80b6-1e90e34b9690 ]] \r\n",
       "@enduml\r\n",
       "\n",
       "PlantUML version 1.2020.13(Sat Jun 13 12:26:38 UTC 2020)\n",
       "(EPL source distribution)\n",
       "Java Runtime: OpenJDK Runtime Environment\n",
       "JVM: OpenJDK 64-Bit Server VM\n",
       "Default Encoding: UTF-8\n",
       "Language: en\n",
       "Country: null\n",
       "--></g></svg>"
      ]
     },
     "execution_count": 2,
     "metadata": {},
     "output_type": "execute_result"
    }
   ],
   "source": [
    "%viz --style=\"COMPTREE\" --view=\"Default\" \"CalculationExample\""
   ]
  },
  {
   "cell_type": "code",
   "execution_count": 3,
   "id": "46a6bc7a",
   "metadata": {
    "execution": {
     "iopub.execute_input": "2022-08-19T08:21:59.664842Z",
     "iopub.status.busy": "2022-08-19T08:21:59.664458Z",
     "iopub.status.idle": "2022-08-19T08:21:59.767518Z",
     "shell.execute_reply": "2022-08-19T08:21:59.766206Z"
    }
   },
   "outputs": [
    {
     "data": {
      "image/svg+xml": [
       "<?xml version=\"1.0\" encoding=\"UTF-8\" standalone=\"no\"?><svg xmlns=\"http://www.w3.org/2000/svg\" xmlns:xlink=\"http://www.w3.org/1999/xlink\" contentScriptType=\"application/ecmascript\" contentStyleType=\"text/css\" height=\"417px\" preserveAspectRatio=\"none\" style=\"width:813px;height:417px;\" version=\"1.1\" viewBox=\"0 0 813 417\" width=\"813px\" zoomAndPan=\"magnify\"><defs/><g><!--MD5=[fbc87193dbaf4d95561dea2c320d4a47]\n",
       "cluster E1--><a href=\"psysml:9a950c4d-df47-4bf2-a127-6824d456053c\" target=\"_top\" title=\"psysml:9a950c4d-df47-4bf2-a127-6824d456053c\" xlink:actuate=\"onRequest\" xlink:href=\"psysml:9a950c4d-df47-4bf2-a127-6824d456053c\" xlink:show=\"new\" xlink:title=\"psysml:9a950c4d-df47-4bf2-a127-6824d456053c\" xlink:type=\"simple\"><polygon fill=\"#FFFFFF\" points=\"16,6,155,6,162,28.2969,791,28.2969,791,405,16,405,16,6\" style=\"stroke: #000000; stroke-width: 1.5;\"/><line style=\"stroke: #000000; stroke-width: 1.5;\" x1=\"16\" x2=\"162\" y1=\"28.2969\" y2=\"28.2969\"/><text fill=\"#000000\" font-family=\"sans-serif\" font-size=\"14\" font-weight=\"bold\" lengthAdjust=\"spacingAndGlyphs\" textLength=\"133\" x=\"20\" y=\"20.9951\">CalculationExample</text></a><!--MD5=[b4997ac47864f28c2f74865a473b2911]\n",
       "class E2--><a href=\"psysml:240f00ab-b9bf-457e-9376-98b0b5e156bb\" target=\"_top\" title=\"psysml:240f00ab-b9bf-457e-9376-98b0b5e156bb\" xlink:actuate=\"onRequest\" xlink:href=\"psysml:240f00ab-b9bf-457e-9376-98b0b5e156bb\" xlink:show=\"new\" xlink:title=\"psysml:240f00ab-b9bf-457e-9376-98b0b5e156bb\" xlink:type=\"simple\"><rect fill=\"#FFFFFF\" height=\"75.5469\" id=\"E2\" style=\"stroke: #383838; stroke-width: 1.5;\" width=\"92\" x=\"515\" y=\"313\"/><text fill=\"#000000\" font-family=\"sans-serif\" font-size=\"12\" font-style=\"italic\" lengthAdjust=\"spacingAndGlyphs\" textLength=\"68\" x=\"527\" y=\"329.1387\">«part  def»</text><text fill=\"#000000\" font-family=\"sans-serif\" font-size=\"12\" lengthAdjust=\"spacingAndGlyphs\" textLength=\"71\" x=\"525.5\" y=\"343.1074\">VehiclePart</text><line style=\"stroke: #383838; stroke-width: 1.5;\" x1=\"516\" x2=\"606\" y1=\"350.9375\" y2=\"350.9375\"/><text fill=\"#000000\" font-family=\"sans-serif\" font-size=\"11\" lengthAdjust=\"spacingAndGlyphs\" textLength=\"80\" x=\"521\" y=\"381.9526\">m: MassValue</text><line style=\"stroke: #383838; stroke-width: 1.0;\" x1=\"516\" x2=\"533.5\" y1=\"365.3398\" y2=\"365.3398\"/><text fill=\"#000000\" font-family=\"sans-serif\" font-size=\"11\" lengthAdjust=\"spacingAndGlyphs\" textLength=\"55\" x=\"533.5\" y=\"368.6479\">attributes</text><line style=\"stroke: #383838; stroke-width: 1.0;\" x1=\"588.5\" x2=\"606\" y1=\"365.3398\" y2=\"365.3398\"/></a><!--MD5=[09b614a08d8cba4a07c9adeb5e0fee81]\n",
       "class E3--><a href=\"psysml:240db56f-6d8c-4faf-8b3c-f8974d12918d\" target=\"_top\" title=\"psysml:240db56f-6d8c-4faf-8b3c-f8974d12918d\" xlink:actuate=\"onRequest\" xlink:href=\"psysml:240db56f-6d8c-4faf-8b3c-f8974d12918d\" xlink:show=\"new\" xlink:title=\"psysml:240db56f-6d8c-4faf-8b3c-f8974d12918d\" xlink:type=\"simple\"><rect fill=\"#FFFFFF\" height=\"45.9375\" id=\"E3\" style=\"stroke: #383838; stroke-width: 1.5;\" width=\"70\" x=\"399\" y=\"192\"/><text fill=\"#000000\" font-family=\"sans-serif\" font-size=\"12\" font-style=\"italic\" lengthAdjust=\"spacingAndGlyphs\" textLength=\"68\" x=\"400\" y=\"208.1387\">«part  def»</text><text fill=\"#000000\" font-family=\"sans-serif\" font-size=\"12\" lengthAdjust=\"spacingAndGlyphs\" textLength=\"45\" x=\"411.5\" y=\"222.1074\">Vehicle</text><line style=\"stroke: #383838; stroke-width: 1.5;\" x1=\"400\" x2=\"468\" y1=\"229.9375\" y2=\"229.9375\"/></a><!--MD5=[ebbe1d658d1005bcc118a6aa81145e00]\n",
       "class E4--><a href=\"psysml:ce00e2ad-3315-43f7-b2e6-6ce884a27309\" target=\"_top\" title=\"psysml:ce00e2ad-3315-43f7-b2e6-6ce884a27309\" xlink:actuate=\"onRequest\" xlink:href=\"psysml:ce00e2ad-3315-43f7-b2e6-6ce884a27309\" xlink:show=\"new\" xlink:title=\"psysml:ce00e2ad-3315-43f7-b2e6-6ce884a27309\" xlink:type=\"simple\"><rect fill=\"#FFFFFF\" height=\"75.5469\" id=\"E4\" rx=\"10\" ry=\"10\" style=\"stroke: #383838; stroke-width: 1.5;\" width=\"106\" x=\"669\" y=\"41\"/><text fill=\"#000000\" font-family=\"sans-serif\" font-size=\"12\" font-style=\"italic\" lengthAdjust=\"spacingAndGlyphs\" textLength=\"40\" x=\"702\" y=\"57.1387\">«part»</text><text fill=\"#000000\" font-family=\"sans-serif\" font-size=\"12\" lengthAdjust=\"spacingAndGlyphs\" textLength=\"96\" x=\"672\" y=\"71.1074\">vehicle: Vehicle</text><line style=\"stroke: #383838; stroke-width: 1.5;\" x1=\"670\" x2=\"774\" y1=\"78.9375\" y2=\"78.9375\"/><text fill=\"#000000\" font-family=\"sans-serif\" font-size=\"11\" lengthAdjust=\"spacingAndGlyphs\" textLength=\"89\" x=\"675\" y=\"109.9526\">^m: MassValue</text><line style=\"stroke: #383838; stroke-width: 1.0;\" x1=\"670\" x2=\"694.5\" y1=\"93.3398\" y2=\"93.3398\"/><text fill=\"#000000\" font-family=\"sans-serif\" font-size=\"11\" lengthAdjust=\"spacingAndGlyphs\" textLength=\"55\" x=\"694.5\" y=\"96.6479\">attributes</text><line style=\"stroke: #383838; stroke-width: 1.0;\" x1=\"749.5\" x2=\"774\" y1=\"93.3398\" y2=\"93.3398\"/></a><!--MD5=[270fce915f116d4de14055a7c1d9a0f3]\n",
       "class E5--><a href=\"psysml:83fc889d-b3c1-4be4-83aa-24728b198254\" target=\"_top\" title=\"psysml:83fc889d-b3c1-4be4-83aa-24728b198254\" xlink:actuate=\"onRequest\" xlink:href=\"psysml:83fc889d-b3c1-4be4-83aa-24728b198254\" xlink:show=\"new\" xlink:title=\"psysml:83fc889d-b3c1-4be4-83aa-24728b198254\" xlink:type=\"simple\"><rect fill=\"#FFFFFF\" height=\"75.5469\" id=\"E5\" rx=\"10\" ry=\"10\" style=\"stroke: #383838; stroke-width: 1.5;\" width=\"113\" x=\"504.5\" y=\"177\"/><text fill=\"#000000\" font-family=\"sans-serif\" font-size=\"12\" font-style=\"italic\" lengthAdjust=\"spacingAndGlyphs\" textLength=\"40\" x=\"541\" y=\"193.1387\">«part»</text><text fill=\"#000000\" font-family=\"sans-serif\" font-size=\"12\" lengthAdjust=\"spacingAndGlyphs\" textLength=\"103\" x=\"507.5\" y=\"207.1074\">eng: VehiclePart</text><line style=\"stroke: #383838; stroke-width: 1.5;\" x1=\"505.5\" x2=\"616.5\" y1=\"214.9375\" y2=\"214.9375\"/><text fill=\"#000000\" font-family=\"sans-serif\" font-size=\"11\" lengthAdjust=\"spacingAndGlyphs\" textLength=\"89\" x=\"510.5\" y=\"245.9526\">^m: MassValue</text><line style=\"stroke: #383838; stroke-width: 1.0;\" x1=\"505.5\" x2=\"533.5\" y1=\"229.3398\" y2=\"229.3398\"/><text fill=\"#000000\" font-family=\"sans-serif\" font-size=\"11\" lengthAdjust=\"spacingAndGlyphs\" textLength=\"55\" x=\"533.5\" y=\"232.6479\">attributes</text><line style=\"stroke: #383838; stroke-width: 1.0;\" x1=\"588.5\" x2=\"616.5\" y1=\"229.3398\" y2=\"229.3398\"/></a><!--MD5=[60a26617385b1d2d0262a64233df1f8d]\n",
       "class E6--><a href=\"psysml:9ad03ab5-4ba7-4600-8f6c-f33bd21910a1\" target=\"_top\" title=\"psysml:9ad03ab5-4ba7-4600-8f6c-f33bd21910a1\" xlink:actuate=\"onRequest\" xlink:href=\"psysml:9ad03ab5-4ba7-4600-8f6c-f33bd21910a1\" xlink:show=\"new\" xlink:title=\"psysml:9ad03ab5-4ba7-4600-8f6c-f33bd21910a1\" xlink:type=\"simple\"><rect fill=\"#FFFFFF\" height=\"75.5469\" id=\"E6\" rx=\"10\" ry=\"10\" style=\"stroke: #383838; stroke-width: 1.5;\" width=\"122\" x=\"653\" y=\"177\"/><text fill=\"#000000\" font-family=\"sans-serif\" font-size=\"12\" font-style=\"italic\" lengthAdjust=\"spacingAndGlyphs\" textLength=\"40\" x=\"694\" y=\"193.1387\">«part»</text><text fill=\"#000000\" font-family=\"sans-serif\" font-size=\"12\" lengthAdjust=\"spacingAndGlyphs\" textLength=\"112\" x=\"656\" y=\"207.1074\">trans: VehiclePart</text><line style=\"stroke: #383838; stroke-width: 1.5;\" x1=\"654\" x2=\"774\" y1=\"214.9375\" y2=\"214.9375\"/><text fill=\"#000000\" font-family=\"sans-serif\" font-size=\"11\" lengthAdjust=\"spacingAndGlyphs\" textLength=\"89\" x=\"659\" y=\"245.9526\">^m: MassValue</text><line style=\"stroke: #383838; stroke-width: 1.0;\" x1=\"654\" x2=\"686.5\" y1=\"229.3398\" y2=\"229.3398\"/><text fill=\"#000000\" font-family=\"sans-serif\" font-size=\"11\" lengthAdjust=\"spacingAndGlyphs\" textLength=\"55\" x=\"686.5\" y=\"232.6479\">attributes</text><line style=\"stroke: #383838; stroke-width: 1.0;\" x1=\"741.5\" x2=\"774\" y1=\"229.3398\" y2=\"229.3398\"/></a><!--MD5=[2156ba9850f5573cc1fc38a6a4b2f02b]\n",
       "class E7--><a href=\"psysml:425e038d-47d6-48b2-bd42-a030f1074fc4\" target=\"_top\" title=\"psysml:425e038d-47d6-48b2-bd42-a030f1074fc4\" xlink:actuate=\"onRequest\" xlink:href=\"psysml:425e038d-47d6-48b2-bd42-a030f1074fc4\" xlink:show=\"new\" xlink:title=\"psysml:425e038d-47d6-48b2-bd42-a030f1074fc4\" xlink:type=\"simple\"><rect fill=\"#FFFFFF\" height=\"45.9375\" id=\"E7\" style=\"stroke: #383838; stroke-width: 1.5;\" width=\"112\" x=\"252\" y=\"192\"/><text fill=\"#000000\" font-family=\"sans-serif\" font-size=\"12\" font-style=\"italic\" lengthAdjust=\"spacingAndGlyphs\" textLength=\"110\" x=\"253\" y=\"208.1387\">«calculation  def»</text><text fill=\"#000000\" font-family=\"sans-serif\" font-size=\"12\" lengthAdjust=\"spacingAndGlyphs\" textLength=\"59\" x=\"278.5\" y=\"222.1074\">MassSum</text><line style=\"stroke: #383838; stroke-width: 1.5;\" x1=\"253\" x2=\"363\" y1=\"229.9375\" y2=\"229.9375\"/></a><!--MD5=[b9389687b975829384b498ac4b7476b2]\n",
       "class E8--><a href=\"psysml:e012d373-591a-4cf2-b53b-d810c6dd562d\" target=\"_top\" title=\"psysml:e012d373-591a-4cf2-b53b-d810c6dd562d\" xlink:actuate=\"onRequest\" xlink:href=\"psysml:e012d373-591a-4cf2-b53b-d810c6dd562d\" xlink:show=\"new\" xlink:title=\"psysml:e012d373-591a-4cf2-b53b-d810c6dd562d\" xlink:type=\"simple\"><rect fill=\"#FFFFFF\" height=\"75.5469\" id=\"E8\" rx=\"10\" ry=\"10\" style=\"stroke: #383838; stroke-width: 1.5;\" width=\"293\" x=\"340.5\" y=\"41\"/><text fill=\"#000000\" font-family=\"sans-serif\" font-size=\"12\" font-style=\"italic\" lengthAdjust=\"spacingAndGlyphs\" textLength=\"82\" x=\"446\" y=\"57.1387\">«calculation»</text><text fill=\"#000000\" font-family=\"sans-serif\" font-size=\"12\" lengthAdjust=\"spacingAndGlyphs\" textLength=\"85\" x=\"442.5\" y=\"71.1074\">ms: MassSum</text><line style=\"stroke: #383838; stroke-width: 1.5;\" x1=\"341.5\" x2=\"632.5\" y1=\"78.9375\" y2=\"78.9375\"/><text fill=\"#000000\" font-family=\"sans-serif\" font-size=\"11\" font-weight=\"bold\" lengthAdjust=\"spacingAndGlyphs\" textLength=\"10\" x=\"346.5\" y=\"109.9526\">in</text><text fill=\"#000000\" font-family=\"sans-serif\" font-size=\"11\" lengthAdjust=\"spacingAndGlyphs\" textLength=\"267\" x=\"360.5\" y=\"109.9526\">partMasses= (vehicle.eng.m, vehicle.trans.m);</text><line style=\"stroke: #383838; stroke-width: 1.0;\" x1=\"341.5\" x2=\"453.5\" y1=\"93.3398\" y2=\"93.3398\"/><text fill=\"#000000\" font-family=\"sans-serif\" font-size=\"11\" lengthAdjust=\"spacingAndGlyphs\" textLength=\"67\" x=\"453.5\" y=\"96.6479\">parameters</text><line style=\"stroke: #383838; stroke-width: 1.0;\" x1=\"520.5\" x2=\"632.5\" y1=\"93.3398\" y2=\"93.3398\"/></a><!--MD5=[fd4143e9d270a159db93a4ea2a975926]\n",
       "class E9--><a href=\"psysml:e4253433-368c-4e86-8a3c-6b186419df89\" target=\"_top\" title=\"psysml:e4253433-368c-4e86-8a3c-6b186419df89\" xlink:actuate=\"onRequest\" xlink:href=\"psysml:e4253433-368c-4e86-8a3c-6b186419df89\" xlink:show=\"new\" xlink:title=\"psysml:e4253433-368c-4e86-8a3c-6b186419df89\" xlink:type=\"simple\"><rect fill=\"#FFFFFF\" height=\"45.9375\" id=\"E9\" rx=\"10\" ry=\"10\" style=\"stroke: #383838; stroke-width: 1.5;\" width=\"60\" x=\"245\" y=\"56\"/><text fill=\"#000000\" font-family=\"sans-serif\" font-size=\"12\" font-style=\"italic\" lengthAdjust=\"spacingAndGlyphs\" textLength=\"40\" x=\"255\" y=\"72.1387\">«part»</text><text fill=\"#000000\" font-family=\"sans-serif\" font-size=\"12\" lengthAdjust=\"spacingAndGlyphs\" textLength=\"50\" x=\"248\" y=\"86.1074\">vehicles</text><line style=\"stroke: #383838; stroke-width: 1.5;\" x1=\"246\" x2=\"304\" y1=\"93.9375\" y2=\"93.9375\"/></a><!--MD5=[96f4274e9e20536e775497830990834d]\n",
       "class E10--><a href=\"psysml:03468340-4ee1-4dfd-ba23-9337b31e6caf\" target=\"_top\" title=\"psysml:03468340-4ee1-4dfd-ba23-9337b31e6caf\" xlink:actuate=\"onRequest\" xlink:href=\"psysml:03468340-4ee1-4dfd-ba23-9337b31e6caf\" xlink:show=\"new\" xlink:title=\"psysml:03468340-4ee1-4dfd-ba23-9337b31e6caf\" xlink:type=\"simple\"><rect fill=\"#FFFFFF\" height=\"45.9375\" id=\"E10\" rx=\"10\" ry=\"10\" style=\"stroke: #383838; stroke-width: 1.5;\" width=\"71\" x=\"138.5\" y=\"56\"/><text fill=\"#000000\" font-family=\"sans-serif\" font-size=\"12\" font-style=\"italic\" lengthAdjust=\"spacingAndGlyphs\" textLength=\"69\" x=\"139.5\" y=\"72.1387\">«attribute»</text><text fill=\"#000000\" font-family=\"sans-serif\" font-size=\"12\" lengthAdjust=\"spacingAndGlyphs\" textLength=\"56\" x=\"144\" y=\"86.1074\">masses1</text><line style=\"stroke: #383838; stroke-width: 1.5;\" x1=\"139.5\" x2=\"208.5\" y1=\"93.9375\" y2=\"93.9375\"/></a><!--MD5=[1dd1bfd58a279cf63c5f349dbc8fc6a1]\n",
       "class E11--><a href=\"psysml:a35488ce-7eb0-470e-9ecc-f7a0c28bc139\" target=\"_top\" title=\"psysml:a35488ce-7eb0-470e-9ecc-f7a0c28bc139\" xlink:actuate=\"onRequest\" xlink:href=\"psysml:a35488ce-7eb0-470e-9ecc-f7a0c28bc139\" xlink:show=\"new\" xlink:title=\"psysml:a35488ce-7eb0-470e-9ecc-f7a0c28bc139\" xlink:type=\"simple\"><rect fill=\"#FFFFFF\" height=\"45.9375\" id=\"E11\" rx=\"10\" ry=\"10\" style=\"stroke: #383838; stroke-width: 1.5;\" width=\"71\" x=\"32.5\" y=\"56\"/><text fill=\"#000000\" font-family=\"sans-serif\" font-size=\"12\" font-style=\"italic\" lengthAdjust=\"spacingAndGlyphs\" textLength=\"69\" x=\"33.5\" y=\"72.1387\">«attribute»</text><text fill=\"#000000\" font-family=\"sans-serif\" font-size=\"12\" lengthAdjust=\"spacingAndGlyphs\" textLength=\"56\" x=\"38\" y=\"86.1074\">masses2</text><line style=\"stroke: #383838; stroke-width: 1.5;\" x1=\"33.5\" x2=\"102.5\" y1=\"93.9375\" y2=\"93.9375\"/></a><!--MD5=[05d275557350bfb9b23a4ef7222b4c39]\n",
       "link E3 to E2--><a href=\"psysml:2113862d-3e36-4f2a-be29-5fbeffc35ef5\" target=\"_top\" title=\"psysml:2113862d-3e36-4f2a-be29-5fbeffc35ef5\" xlink:actuate=\"onRequest\" xlink:href=\"psysml:2113862d-3e36-4f2a-be29-5fbeffc35ef5\" xlink:show=\"new\" xlink:title=\"psysml:2113862d-3e36-4f2a-be29-5fbeffc35ef5\" xlink:type=\"simple\"><path d=\"M454.97,238.13 C470.45,254.46 492.16,277.37 511.91,298.21 \" fill=\"none\" id=\"E3-&gt;E2\" style=\"stroke: #383838; stroke-width: 1.0;\"/><polygon fill=\"none\" points=\"517.15,293.56,525.83,312.89,506.99,303.19,517.15,293.56\" style=\"stroke: #383838; stroke-width: 1.0;\"/></a><!--MD5=[f0cdf4548168e5211fb3a02bf679d63a]\n",
       "link E4 to E3--><a href=\"psysml:3f6bcc61-006c-4905-be22-168150e04931\" target=\"_top\" title=\"psysml:3f6bcc61-006c-4905-be22-168150e04931\" xlink:actuate=\"onRequest\" xlink:href=\"psysml:3f6bcc61-006c-4905-be22-168150e04931\" xlink:show=\"new\" xlink:title=\"psysml:3f6bcc61-006c-4905-be22-168150e04931\" xlink:type=\"simple\"><path d=\"M668.86,108.63 C662.89,111.57 656.85,114.42 651,117 C579.99,148.33 555.84,141.15 487,177 C484.58,178.26 482.14,179.62 479.7,181.04 \" fill=\"none\" id=\"E4-&gt;E3\" style=\"stroke: #383838; stroke-width: 1.0;\"/><polygon fill=\"#FFFFFF\" points=\"462.86,191.85,475.0758,175.7015,482.6328,187.4868,462.86,191.85\" style=\"stroke: #383838; stroke-width: 1.0;\"/><ellipse cx=\"480.9537\" cy=\"174.3083\" fill=\"#383838\" rx=\"2\" ry=\"2\" style=\"stroke: #383838; stroke-width: 1.0;\"/><ellipse cx=\"486.3515\" cy=\"182.7264\" fill=\"#383838\" rx=\"2\" ry=\"2\" style=\"stroke: #383838; stroke-width: 1.0;\"/></a><!--MD5=[62aa6af11e70f752912c1cb0466f24f7]\n",
       "reverse link E4 to E5--><a href=\"psysml:dfe553ed-92b1-45a3-82b1-c875cfb3cf56\" target=\"_top\" title=\"psysml:dfe553ed-92b1-45a3-82b1-c875cfb3cf56\" xlink:actuate=\"onRequest\" xlink:href=\"psysml:dfe553ed-92b1-45a3-82b1-c875cfb3cf56\" xlink:show=\"new\" xlink:title=\"psysml:dfe553ed-92b1-45a3-82b1-c875cfb3cf56\" xlink:type=\"simple\"><path d=\"M666.94,125.83 C646.93,142.48 624.59,161.07 605.61,176.87 \" fill=\"none\" id=\"E4&lt;-E5\" style=\"stroke: #383838; stroke-width: 1.0;\"/><polygon fill=\"#FFFFFF\" points=\"677.15,117.33,669.9796,118.0952,667.9281,125.0083,675.0985,124.2431,677.15,117.33\" style=\"stroke: #383838; stroke-width: 1.0;\"/><text fill=\"#000000\" font-family=\"sans-serif\" font-size=\"13\" lengthAdjust=\"spacingAndGlyphs\" textLength=\"8\" x=\"604.8437\" y=\"165.8612\">1</text></a><!--MD5=[15ebcb19ae302d9b601edb458606d402]\n",
       "link E5 to E2--><a href=\"psysml:7cfd1003-3fe0-4a32-a3a1-13a5c8efedf2\" target=\"_top\" title=\"psysml:7cfd1003-3fe0-4a32-a3a1-13a5c8efedf2\" xlink:actuate=\"onRequest\" xlink:href=\"psysml:7cfd1003-3fe0-4a32-a3a1-13a5c8efedf2\" xlink:show=\"new\" xlink:title=\"psysml:7cfd1003-3fe0-4a32-a3a1-13a5c8efedf2\" xlink:type=\"simple\"><path d=\"M561,253.33 C561,265.52 561,279.36 561,292.68 \" fill=\"none\" id=\"E5-&gt;E2\" style=\"stroke: #383838; stroke-width: 1.0;\"/><polygon fill=\"#FFFFFF\" points=\"561,312.87,554,293.87,568,293.87,561,312.87\" style=\"stroke: #383838; stroke-width: 1.0;\"/><ellipse cx=\"556\" cy=\"288.17\" fill=\"#383838\" rx=\"2\" ry=\"2\" style=\"stroke: #383838; stroke-width: 1.0;\"/><ellipse cx=\"566\" cy=\"288.17\" fill=\"#383838\" rx=\"2\" ry=\"2\" style=\"stroke: #383838; stroke-width: 1.0;\"/></a><!--MD5=[6db378b65e1aef66a01cb3103812b399]\n",
       "reverse link E4 to E6--><a href=\"psysml:56232501-f921-4851-b5f9-a91b366c1c7b\" target=\"_top\" title=\"psysml:56232501-f921-4851-b5f9-a91b366c1c7b\" xlink:actuate=\"onRequest\" xlink:href=\"psysml:56232501-f921-4851-b5f9-a91b366c1c7b\" xlink:show=\"new\" xlink:title=\"psysml:56232501-f921-4851-b5f9-a91b366c1c7b\" xlink:type=\"simple\"><path d=\"M718.99,130.46 C718.07,145.87 717.07,162.52 716.22,176.87 \" fill=\"none\" id=\"E4&lt;-E6\" style=\"stroke: #383838; stroke-width: 1.0;\"/><polygon fill=\"#FFFFFF\" points=\"719.77,117.33,715.4212,123.0822,719.0584,129.3089,723.4072,123.5566,719.77,117.33\" style=\"stroke: #383838; stroke-width: 1.0;\"/><text fill=\"#000000\" font-family=\"sans-serif\" font-size=\"13\" lengthAdjust=\"spacingAndGlyphs\" textLength=\"8\" x=\"707.9029\" y=\"165.8612\">1</text></a><!--MD5=[2351f337d6de0f557b50152ba70847b5]\n",
       "link E6 to E2--><a href=\"psysml:b3767e4f-9e3f-4162-9e5b-3e184cb0e1ab\" target=\"_top\" title=\"psysml:b3767e4f-9e3f-4162-9e5b-3e184cb0e1ab\" xlink:actuate=\"onRequest\" xlink:href=\"psysml:b3767e4f-9e3f-4162-9e5b-3e184cb0e1ab\" xlink:show=\"new\" xlink:title=\"psysml:b3767e4f-9e3f-4162-9e5b-3e184cb0e1ab\" xlink:type=\"simple\"><path d=\"M671.38,253.33 C655.05,267.63 636.14,284.19 618.63,299.52 \" fill=\"none\" id=\"E6-&gt;E2\" style=\"stroke: #383838; stroke-width: 1.0;\"/><polygon fill=\"#FFFFFF\" points=\"603.39,312.87,613.0639,295.0819,622.2922,305.6099,603.39,312.87\" style=\"stroke: #383838; stroke-width: 1.0;\"/><ellipse cx=\"618.6686\" cy=\"292.8287\" fill=\"#383838\" rx=\"2\" ry=\"2\" style=\"stroke: #383838; stroke-width: 1.0;\"/><ellipse cx=\"625.2602\" cy=\"300.3487\" fill=\"#383838\" rx=\"2\" ry=\"2\" style=\"stroke: #383838; stroke-width: 1.0;\"/></a><!--MD5=[bfa3c8b0d15052fdf50ae9310b491027]\n",
       "link E8 to E7--><a href=\"psysml:650eb0f7-ec08-4309-80b6-1e90e34b9690\" target=\"_top\" title=\"psysml:650eb0f7-ec08-4309-80b6-1e90e34b9690\" xlink:actuate=\"onRequest\" xlink:href=\"psysml:650eb0f7-ec08-4309-80b6-1e90e34b9690\" xlink:show=\"new\" xlink:title=\"psysml:650eb0f7-ec08-4309-80b6-1e90e34b9690\" xlink:type=\"simple\"><path d=\"M437.14,117.33 C410.96,136.93 379.11,160.77 353.59,179.87 \" fill=\"none\" id=\"E8-&gt;E7\" style=\"stroke: #383838; stroke-width: 1.0;\"/><polygon fill=\"#FFFFFF\" points=\"337.47,191.94,348.487,174.951,356.8758,186.1594,337.47,191.94\" style=\"stroke: #383838; stroke-width: 1.0;\"/><ellipse cx=\"354.2488\" cy=\"173.1368\" fill=\"#383838\" rx=\"2\" ry=\"2\" style=\"stroke: #383838; stroke-width: 1.0;\"/><ellipse cx=\"360.2408\" cy=\"181.1428\" fill=\"#383838\" rx=\"2\" ry=\"2\" style=\"stroke: #383838; stroke-width: 1.0;\"/></a><!--MD5=[d09e56848ef71f913a7c11809587e0ae]\n",
       "@startuml\r\n",
       " skinparam monochrome true\r\n",
       "skinparam classbackgroundcolor white\r\n",
       "skinparam shadowing false\r\n",
       "skinparam wrapWidth 300\r\n",
       "hide circle\r\n",
       "\r\n",
       "package \"CalculationExample\" as E1  [[psysml:9a950c4d-df47-4bf2-a127-6824d456053c ]]  {\r\n",
       "comp def \"VehiclePart\" as E2  <<(T,blue) part  def>> [[psysml:240f00ab-b9bf-457e-9376-98b0b5e156bb ]] {\r\n",
       "- - attributes - -\r\n",
       "m: MassValue\r\n",
       "}\r\n",
       "comp def \"Vehicle\" as E3  <<(T,blue) part  def>> [[psysml:240db56f-6d8c-4faf-8b3c-f8974d12918d ]] {\r\n",
       "}\r\n",
       "comp usage \"vehicle: Vehicle \" as E4  <<(T,blue) part>> [[psysml:ce00e2ad-3315-43f7-b2e6-6ce884a27309 ]] {\r\n",
       "- - attributes - -\r\n",
       "^m: MassValue\r\n",
       "}\r\n",
       "comp usage \"eng: VehiclePart \" as E5  <<(T,blue) part>> [[psysml:83fc889d-b3c1-4be4-83aa-24728b198254 ]] {\r\n",
       "- - attributes - -\r\n",
       "^m: MassValue\r\n",
       "}\r\n",
       "comp usage \"trans: VehiclePart \" as E6  <<(T,blue) part>> [[psysml:9ad03ab5-4ba7-4600-8f6c-f33bd21910a1 ]] {\r\n",
       "- - attributes - -\r\n",
       "^m: MassValue\r\n",
       "}\r\n",
       "comp def \"MassSum\" as E7  <<(T,blue) calculation  def>> [[psysml:425e038d-47d6-48b2-bd42-a030f1074fc4 ]] {\r\n",
       "}\r\n",
       "comp usage \"ms: MassSum \" as E8  <<(T,blue) calculation>> [[psysml:e012d373-591a-4cf2-b53b-d810c6dd562d ]] {\r\n",
       "- - parameters - -\r\n",
       "<b>in</b> partMasses= (vehicle.eng.m, vehicle.trans.m); \r\n",
       "}\r\n",
       "comp usage \"vehicles \" as E9  <<(T,blue) part>> [[psysml:e4253433-368c-4e86-8a3c-6b186419df89 ]] {\r\n",
       "}\r\n",
       "comp usage \"masses1 \" as E10  <<(T,blue) attribute>> [[psysml:03468340-4ee1-4dfd-ba23-9337b31e6caf ]] {\r\n",
       "}\r\n",
       "comp usage \"masses2 \" as E11  <<(T,blue) attribute>> [[psysml:a35488ce-7eb0-470e-9ecc-f7a0c28bc139 ]] {\r\n",
       "}\r\n",
       "}\r\n",
       "E3 - -|> E2 [[psysml:2113862d-3e36-4f2a-be29-5fbeffc35ef5 ]] \r\n",
       "E4 - -:|> E3 [[psysml:3f6bcc61-006c-4905-be22-168150e04931 ]] \r\n",
       "E4 o- - \"1\"E5 [[psysml:dfe553ed-92b1-45a3-82b1-c875cfb3cf56 ]] \r\n",
       "E5 - -:|> E2 [[psysml:7cfd1003-3fe0-4a32-a3a1-13a5c8efedf2 ]] \r\n",
       "E4 o- - \"1\"E6 [[psysml:56232501-f921-4851-b5f9-a91b366c1c7b ]] \r\n",
       "E6 - -:|> E2 [[psysml:b3767e4f-9e3f-4162-9e5b-3e184cb0e1ab ]] \r\n",
       "E8 - -:|> E7 [[psysml:650eb0f7-ec08-4309-80b6-1e90e34b9690 ]] \r\n",
       "@enduml\r\n",
       "\n",
       "PlantUML version 1.2020.13(Sat Jun 13 12:26:38 UTC 2020)\n",
       "(EPL source distribution)\n",
       "Java Runtime: OpenJDK Runtime Environment\n",
       "JVM: OpenJDK 64-Bit Server VM\n",
       "Default Encoding: UTF-8\n",
       "Language: en\n",
       "Country: null\n",
       "--></g></svg>"
      ]
     },
     "execution_count": 3,
     "metadata": {},
     "output_type": "execute_result"
    }
   ],
   "source": [
    "%viz --style=\"COMPTREE\" --view=\"Tree\" \"CalculationExample\""
   ]
  },
  {
   "cell_type": "code",
   "execution_count": 4,
   "id": "89c6ec75",
   "metadata": {
    "execution": {
     "iopub.execute_input": "2022-08-19T08:21:59.817807Z",
     "iopub.status.busy": "2022-08-19T08:21:59.817408Z",
     "iopub.status.idle": "2022-08-19T08:21:59.833421Z",
     "shell.execute_reply": "2022-08-19T08:21:59.832962Z"
    }
   },
   "outputs": [
    {
     "data": {
      "image/svg+xml": [
       "<?xml version=\"1.0\" encoding=\"UTF-8\" standalone=\"no\"?><svg xmlns=\"http://www.w3.org/2000/svg\" xmlns:xlink=\"http://www.w3.org/1999/xlink\" contentScriptType=\"application/ecmascript\" contentStyleType=\"text/css\" height=\"12px\" preserveAspectRatio=\"none\" style=\"width:12px;height:12px;\" version=\"1.1\" viewBox=\"0 0 12 12\" width=\"12px\" zoomAndPan=\"magnify\"><defs/><g><!--MD5=[f19188ef49e11757b5c46753f95d9edc]\n",
       "@startuml\r\n",
       " skinparam monochrome true\r\n",
       "skinparam classbackgroundcolor white\r\n",
       "skinparam shadowing false\r\n",
       "skinparam wrapWidth 300\r\n",
       "hide circle\r\n",
       "\r\n",
       "@enduml\r\n",
       "\n",
       "PlantUML version 1.2020.13(Sat Jun 13 12:26:38 UTC 2020)\n",
       "(EPL source distribution)\n",
       "Java Runtime: OpenJDK Runtime Environment\n",
       "JVM: OpenJDK 64-Bit Server VM\n",
       "Default Encoding: UTF-8\n",
       "Language: en\n",
       "Country: null\n",
       "--></g></svg>"
      ]
     },
     "execution_count": 4,
     "metadata": {},
     "output_type": "execute_result"
    }
   ],
   "source": [
    "%viz --style=\"COMPTREE\" --view=\"State\" \"CalculationExample\""
   ]
  },
  {
   "cell_type": "code",
   "execution_count": 5,
   "id": "5e24e453",
   "metadata": {
    "execution": {
     "iopub.execute_input": "2022-08-19T08:21:59.883179Z",
     "iopub.status.busy": "2022-08-19T08:21:59.882891Z",
     "iopub.status.idle": "2022-08-19T08:21:59.972968Z",
     "shell.execute_reply": "2022-08-19T08:21:59.971173Z"
    }
   },
   "outputs": [
    {
     "data": {
      "image/svg+xml": [
       "<?xml version=\"1.0\" encoding=\"UTF-8\" standalone=\"no\"?><svg xmlns=\"http://www.w3.org/2000/svg\" xmlns:xlink=\"http://www.w3.org/1999/xlink\" contentScriptType=\"application/ecmascript\" contentStyleType=\"text/css\" height=\"581px\" preserveAspectRatio=\"none\" style=\"width:1649px;height:581px;\" version=\"1.1\" viewBox=\"0 0 1649 581\" width=\"1649px\" zoomAndPan=\"magnify\"><defs/><g><!--MD5=[fbc87193dbaf4d95561dea2c320d4a47]\n",
       "cluster E1--><a href=\"psysml:9a950c4d-df47-4bf2-a127-6824d456053c\" target=\"_top\" title=\"psysml:9a950c4d-df47-4bf2-a127-6824d456053c\" xlink:actuate=\"onRequest\" xlink:href=\"psysml:9a950c4d-df47-4bf2-a127-6824d456053c\" xlink:show=\"new\" xlink:title=\"psysml:9a950c4d-df47-4bf2-a127-6824d456053c\" xlink:type=\"simple\"><polygon fill=\"#FFFFFF\" points=\"16,6,155,6,162,28.2969,1627,28.2969,1627,569,16,569,16,6\" style=\"stroke: #000000; stroke-width: 1.5;\"/><line style=\"stroke: #000000; stroke-width: 1.5;\" x1=\"16\" x2=\"162\" y1=\"28.2969\" y2=\"28.2969\"/><text fill=\"#000000\" font-family=\"sans-serif\" font-size=\"14\" font-weight=\"bold\" lengthAdjust=\"spacingAndGlyphs\" textLength=\"133\" x=\"20\" y=\"20.9951\">CalculationExample</text></a><!--MD5=[e4f7fae6ed58524ba242bb0b0d3be6b7]\n",
       "cluster E2--><a href=\"psysml:240f00ab-b9bf-457e-9376-98b0b5e156bb\" target=\"_top\" title=\"psysml:240f00ab-b9bf-457e-9376-98b0b5e156bb\" xlink:actuate=\"onRequest\" xlink:href=\"psysml:240f00ab-b9bf-457e-9376-98b0b5e156bb\" xlink:show=\"new\" xlink:title=\"psysml:240f00ab-b9bf-457e-9376-98b0b5e156bb\" xlink:type=\"simple\"><rect fill=\"#FFFFFF\" height=\"129\" id=\"E2\" style=\"stroke: #383838; stroke-width: 1.5;\" width=\"163\" x=\"1169\" y=\"372\"/><rect fill=\"#F8F8F8\" height=\"37.9375\" style=\"stroke: #383838; stroke-width: 1.5;\" width=\"163\" x=\"1169\" y=\"372\"/><text fill=\"#000000\" font-family=\"sans-serif\" font-size=\"12\" font-style=\"italic\" lengthAdjust=\"spacingAndGlyphs\" textLength=\"68\" x=\"1216.5\" y=\"388.1387\">«part  def»</text><text fill=\"#000000\" font-family=\"sans-serif\" font-size=\"12\" lengthAdjust=\"spacingAndGlyphs\" textLength=\"71\" x=\"1215\" y=\"402.1074\">VehiclePart</text></a><!--MD5=[de5ec2e2e8f62f467e546659f5068c88]\n",
       "cluster E5--><a href=\"psysml:ce00e2ad-3315-43f7-b2e6-6ce884a27309\" target=\"_top\" title=\"psysml:ce00e2ad-3315-43f7-b2e6-6ce884a27309\" xlink:actuate=\"onRequest\" xlink:href=\"psysml:ce00e2ad-3315-43f7-b2e6-6ce884a27309\" xlink:show=\"new\" xlink:title=\"psysml:ce00e2ad-3315-43f7-b2e6-6ce884a27309\" xlink:type=\"simple\"><rect fill=\"#FFFFFF\" height=\"212\" id=\"E5\" rx=\"10\" ry=\"10\" style=\"stroke: #383838; stroke-width: 1.5;\" width=\"602\" x=\"993\" y=\"57\"/><rect fill=\"#F8F8F8\" height=\"23.9688\" rx=\"10\" ry=\"10\" style=\"stroke: #F8F8F8; stroke-width: 1.5;\" width=\"602\" x=\"993\" y=\"57\"/><rect fill=\"#F8F8F8\" height=\"10\" style=\"stroke: #F8F8F8; stroke-width: 1.5;\" width=\"602\" x=\"993\" y=\"70.9688\"/><rect fill=\"none\" height=\"212\" id=\"E5\" rx=\"10\" ry=\"10\" style=\"stroke: #383838; stroke-width: 1.5;\" width=\"602\" x=\"993\" y=\"57\"/><text fill=\"#000000\" font-family=\"sans-serif\" font-size=\"12\" lengthAdjust=\"spacingAndGlyphs\" textLength=\"96\" x=\"1246\" y=\"73.1387\">vehicle: Vehicle</text><line style=\"stroke: #383838; stroke-width: 1.0;\" x1=\"993\" x2=\"1595\" y1=\"80.9688\" y2=\"80.9688\"/></a><!--MD5=[14e3b0961a2654348d326746436168a1]\n",
       "cluster E6--><a href=\"psysml:83fc889d-b3c1-4be4-83aa-24728b198254\" target=\"_top\" title=\"psysml:83fc889d-b3c1-4be4-83aa-24728b198254\" xlink:actuate=\"onRequest\" xlink:href=\"psysml:83fc889d-b3c1-4be4-83aa-24728b198254\" xlink:show=\"new\" xlink:title=\"psysml:83fc889d-b3c1-4be4-83aa-24728b198254\" xlink:type=\"simple\"><rect fill=\"#FFFFFF\" height=\"113\" id=\"E6\" rx=\"10\" ry=\"10\" style=\"stroke: #383838; stroke-width: 1.5;\" width=\"173\" x=\"1169\" y=\"116\"/><rect fill=\"#F8F8F8\" height=\"23.9688\" rx=\"10\" ry=\"10\" style=\"stroke: #F8F8F8; stroke-width: 1.5;\" width=\"173\" x=\"1169\" y=\"116\"/><rect fill=\"#F8F8F8\" height=\"10\" style=\"stroke: #F8F8F8; stroke-width: 1.5;\" width=\"173\" x=\"1169\" y=\"129.9688\"/><rect fill=\"none\" height=\"113\" id=\"E6\" rx=\"10\" ry=\"10\" style=\"stroke: #383838; stroke-width: 1.5;\" width=\"173\" x=\"1169\" y=\"116\"/><text fill=\"#000000\" font-family=\"sans-serif\" font-size=\"12\" lengthAdjust=\"spacingAndGlyphs\" textLength=\"103\" x=\"1204\" y=\"132.1387\">eng: VehiclePart</text><line style=\"stroke: #383838; stroke-width: 1.0;\" x1=\"1169\" x2=\"1342\" y1=\"139.9688\" y2=\"139.9688\"/></a><!--MD5=[55dfccfc6c49c2d10cd1bd2211a6c90c]\n",
       "cluster E8--><a href=\"psysml:9ad03ab5-4ba7-4600-8f6c-f33bd21910a1\" target=\"_top\" title=\"psysml:9ad03ab5-4ba7-4600-8f6c-f33bd21910a1\" xlink:actuate=\"onRequest\" xlink:href=\"psysml:9ad03ab5-4ba7-4600-8f6c-f33bd21910a1\" xlink:show=\"new\" xlink:title=\"psysml:9ad03ab5-4ba7-4600-8f6c-f33bd21910a1\" xlink:type=\"simple\"><rect fill=\"#FFFFFF\" height=\"113\" id=\"E8\" rx=\"10\" ry=\"10\" style=\"stroke: #383838; stroke-width: 1.5;\" width=\"173\" x=\"1382\" y=\"116\"/><rect fill=\"#F8F8F8\" height=\"23.9688\" rx=\"10\" ry=\"10\" style=\"stroke: #F8F8F8; stroke-width: 1.5;\" width=\"173\" x=\"1382\" y=\"116\"/><rect fill=\"#F8F8F8\" height=\"10\" style=\"stroke: #F8F8F8; stroke-width: 1.5;\" width=\"173\" x=\"1382\" y=\"129.9688\"/><rect fill=\"none\" height=\"113\" id=\"E8\" rx=\"10\" ry=\"10\" style=\"stroke: #383838; stroke-width: 1.5;\" width=\"173\" x=\"1382\" y=\"116\"/><text fill=\"#000000\" font-family=\"sans-serif\" font-size=\"12\" lengthAdjust=\"spacingAndGlyphs\" textLength=\"112\" x=\"1412.5\" y=\"132.1387\">trans: VehiclePart</text><line style=\"stroke: #383838; stroke-width: 1.0;\" x1=\"1382\" x2=\"1555\" y1=\"139.9688\" y2=\"139.9688\"/></a><!--MD5=[917b9dd0c7eca3ee5f47219d1a84c0ad]\n",
       "cluster E11--><a href=\"psysml:425e038d-47d6-48b2-bd42-a030f1074fc4\" target=\"_top\" title=\"psysml:425e038d-47d6-48b2-bd42-a030f1074fc4\" xlink:actuate=\"onRequest\" xlink:href=\"psysml:425e038d-47d6-48b2-bd42-a030f1074fc4\" xlink:show=\"new\" xlink:title=\"psysml:425e038d-47d6-48b2-bd42-a030f1074fc4\" xlink:type=\"simple\"><rect fill=\"#FFFFFF\" height=\"349\" id=\"E11\" style=\"stroke: #383838; stroke-width: 1.5;\" width=\"186\" x=\"775\" y=\"182\"/><rect fill=\"#F8F8F8\" height=\"37.9375\" style=\"stroke: #383838; stroke-width: 1.5;\" width=\"186\" x=\"775\" y=\"182\"/><text fill=\"#000000\" font-family=\"sans-serif\" font-size=\"12\" font-style=\"italic\" lengthAdjust=\"spacingAndGlyphs\" textLength=\"110\" x=\"813\" y=\"198.1387\">«calculation  def»</text><text fill=\"#000000\" font-family=\"sans-serif\" font-size=\"12\" lengthAdjust=\"spacingAndGlyphs\" textLength=\"59\" x=\"838.5\" y=\"212.1074\">MassSum</text></a><!--MD5=[bee11217b2f71d958a27249dc326068c]\n",
       "class E14--><a href=\"psysml:e012d373-591a-4cf2-b53b-d810c6dd562d\" target=\"_top\" title=\"psysml:e012d373-591a-4cf2-b53b-d810c6dd562d\" xlink:actuate=\"onRequest\" xlink:href=\"psysml:e012d373-591a-4cf2-b53b-d810c6dd562d\" xlink:show=\"new\" xlink:title=\"psysml:e012d373-591a-4cf2-b53b-d810c6dd562d\" xlink:type=\"simple\"><rect fill=\"#FFFFFF\" height=\"75.5469\" id=\"E14\" rx=\"10\" ry=\"10\" style=\"stroke: #383838; stroke-width: 1.5;\" width=\"293\" x=\"465.5\" y=\"144\"/><text fill=\"#000000\" font-family=\"sans-serif\" font-size=\"12\" font-style=\"italic\" lengthAdjust=\"spacingAndGlyphs\" textLength=\"82\" x=\"571\" y=\"160.1387\">«calculation»</text><text fill=\"#000000\" font-family=\"sans-serif\" font-size=\"12\" lengthAdjust=\"spacingAndGlyphs\" textLength=\"85\" x=\"567.5\" y=\"174.1074\">ms: MassSum</text><line style=\"stroke: #383838; stroke-width: 1.5;\" x1=\"466.5\" x2=\"757.5\" y1=\"181.9375\" y2=\"181.9375\"/><text fill=\"#000000\" font-family=\"sans-serif\" font-size=\"11\" font-weight=\"bold\" lengthAdjust=\"spacingAndGlyphs\" textLength=\"10\" x=\"471.5\" y=\"212.9526\">in</text><text fill=\"#000000\" font-family=\"sans-serif\" font-size=\"11\" lengthAdjust=\"spacingAndGlyphs\" textLength=\"267\" x=\"485.5\" y=\"212.9526\">partMasses= (vehicle.eng.m, vehicle.trans.m);</text><line style=\"stroke: #383838; stroke-width: 1.0;\" x1=\"466.5\" x2=\"578.5\" y1=\"196.3398\" y2=\"196.3398\"/><text fill=\"#000000\" font-family=\"sans-serif\" font-size=\"11\" lengthAdjust=\"spacingAndGlyphs\" textLength=\"67\" x=\"578.5\" y=\"199.6479\">parameters</text><line style=\"stroke: #383838; stroke-width: 1.0;\" x1=\"645.5\" x2=\"757.5\" y1=\"196.3398\" y2=\"196.3398\"/></a><!--MD5=[35f0587eaee8d5bb9a02e25b63afc23b]\n",
       "class E16--><a href=\"psysml:03468340-4ee1-4dfd-ba23-9337b31e6caf\" target=\"_top\" title=\"psysml:03468340-4ee1-4dfd-ba23-9337b31e6caf\" xlink:actuate=\"onRequest\" xlink:href=\"psysml:03468340-4ee1-4dfd-ba23-9337b31e6caf\" xlink:show=\"new\" xlink:title=\"psysml:03468340-4ee1-4dfd-ba23-9337b31e6caf\" xlink:type=\"simple\"><rect fill=\"#FFFFFF\" height=\"45.9375\" id=\"E16\" rx=\"10\" ry=\"10\" style=\"stroke: #383838; stroke-width: 1.5;\" width=\"71\" x=\"359.5\" y=\"159\"/><text fill=\"#000000\" font-family=\"sans-serif\" font-size=\"12\" font-style=\"italic\" lengthAdjust=\"spacingAndGlyphs\" textLength=\"69\" x=\"360.5\" y=\"175.1387\">«attribute»</text><text fill=\"#000000\" font-family=\"sans-serif\" font-size=\"12\" lengthAdjust=\"spacingAndGlyphs\" textLength=\"56\" x=\"365\" y=\"189.1074\">masses1</text><line style=\"stroke: #383838; stroke-width: 1.5;\" x1=\"360.5\" x2=\"429.5\" y1=\"196.9375\" y2=\"196.9375\"/></a><!--MD5=[60e55a4a9b2f0dc0a36787c5a2095786]\n",
       "class E17--><a href=\"psysml:a35488ce-7eb0-470e-9ecc-f7a0c28bc139\" target=\"_top\" title=\"psysml:a35488ce-7eb0-470e-9ecc-f7a0c28bc139\" xlink:actuate=\"onRequest\" xlink:href=\"psysml:a35488ce-7eb0-470e-9ecc-f7a0c28bc139\" xlink:show=\"new\" xlink:title=\"psysml:a35488ce-7eb0-470e-9ecc-f7a0c28bc139\" xlink:type=\"simple\"><rect fill=\"#FFFFFF\" height=\"45.9375\" id=\"E17\" rx=\"10\" ry=\"10\" style=\"stroke: #383838; stroke-width: 1.5;\" width=\"71\" x=\"253.5\" y=\"159\"/><text fill=\"#000000\" font-family=\"sans-serif\" font-size=\"12\" font-style=\"italic\" lengthAdjust=\"spacingAndGlyphs\" textLength=\"69\" x=\"254.5\" y=\"175.1387\">«attribute»</text><text fill=\"#000000\" font-family=\"sans-serif\" font-size=\"12\" lengthAdjust=\"spacingAndGlyphs\" textLength=\"56\" x=\"259\" y=\"189.1074\">masses2</text><line style=\"stroke: #383838; stroke-width: 1.5;\" x1=\"254.5\" x2=\"323.5\" y1=\"196.9375\" y2=\"196.9375\"/></a><!--MD5=[09b614a08d8cba4a07c9adeb5e0fee81]\n",
       "class E3--><a href=\"psysml:3c3f6982-fe48-410d-a073-4745105d0bb1\" target=\"_top\" title=\"psysml:3c3f6982-fe48-410d-a073-4745105d0bb1\" xlink:actuate=\"onRequest\" xlink:href=\"psysml:3c3f6982-fe48-410d-a073-4745105d0bb1\" xlink:show=\"new\" xlink:title=\"psysml:3c3f6982-fe48-410d-a073-4745105d0bb1\" xlink:type=\"simple\"><rect fill=\"#FFFFFF\" height=\"45.9375\" id=\"E3\" rx=\"10\" ry=\"10\" style=\"stroke: #383838; stroke-width: 1.5;\" width=\"96\" x=\"1212\" y=\"431\"/><text fill=\"#000000\" font-family=\"sans-serif\" font-size=\"12\" font-style=\"italic\" lengthAdjust=\"spacingAndGlyphs\" textLength=\"69\" x=\"1225.5\" y=\"447.1387\">«attribute»</text><text fill=\"#000000\" font-family=\"sans-serif\" font-size=\"12\" lengthAdjust=\"spacingAndGlyphs\" textLength=\"86\" x=\"1215\" y=\"461.1074\">m: MassValue</text><line style=\"stroke: #383838; stroke-width: 1.5;\" x1=\"1213\" x2=\"1307\" y1=\"468.9375\" y2=\"468.9375\"/></a><g id=\"E1.E4\"><a href=\"psysml:240db56f-6d8c-4faf-8b3c-f8974d12918d\" target=\"_top\" title=\"psysml:240db56f-6d8c-4faf-8b3c-f8974d12918d\" xlink:actuate=\"onRequest\" xlink:href=\"psysml:240db56f-6d8c-4faf-8b3c-f8974d12918d\" xlink:show=\"new\" xlink:title=\"psysml:240db56f-6d8c-4faf-8b3c-f8974d12918d\" xlink:type=\"simple\"><rect fill=\"#FFFFFF\" height=\"42.9375\" id=\"E4\" style=\"stroke: #383838; stroke-width: 1.5;\" width=\"75\" x=\"1021.5\" y=\"305\"/><rect fill=\"#F8F8F8\" height=\"37.9375\" style=\"stroke: #383838; stroke-width: 1.5;\" width=\"75\" x=\"1021.5\" y=\"305\"/><text fill=\"#000000\" font-family=\"sans-serif\" font-size=\"12\" font-style=\"italic\" lengthAdjust=\"spacingAndGlyphs\" textLength=\"68\" x=\"1025\" y=\"321.1387\">«part  def»</text><text fill=\"#000000\" font-family=\"sans-serif\" font-size=\"12\" lengthAdjust=\"spacingAndGlyphs\" textLength=\"45\" x=\"1036.5\" y=\"335.1074\">Vehicle</text></a></g><!--MD5=[96f4274e9e20536e775497830990834d]\n",
       "class E10--><a href=\"psysml:3c3f6982-fe48-410d-a073-4745105d0bb1\" target=\"_top\" title=\"psysml:3c3f6982-fe48-410d-a073-4745105d0bb1\" xlink:actuate=\"onRequest\" xlink:href=\"psysml:3c3f6982-fe48-410d-a073-4745105d0bb1\" xlink:show=\"new\" xlink:title=\"psysml:3c3f6982-fe48-410d-a073-4745105d0bb1\" xlink:type=\"simple\"><rect fill=\"#FFFFFF\" height=\"45.9375\" id=\"E10\" rx=\"10\" ry=\"10\" style=\"stroke: #383838; stroke-width: 1.5;\" width=\"106\" x=\"1036\" y=\"159\"/><text fill=\"#000000\" font-family=\"sans-serif\" font-size=\"12\" font-style=\"italic\" lengthAdjust=\"spacingAndGlyphs\" textLength=\"69\" x=\"1054.5\" y=\"175.1387\">«attribute»</text><text fill=\"#000000\" font-family=\"sans-serif\" font-size=\"12\" lengthAdjust=\"spacingAndGlyphs\" textLength=\"96\" x=\"1039\" y=\"189.1074\">^m: MassValue</text><line style=\"stroke: #383838; stroke-width: 1.5;\" x1=\"1037\" x2=\"1141\" y1=\"196.9375\" y2=\"196.9375\"/></a><!--MD5=[2156ba9850f5573cc1fc38a6a4b2f02b]\n",
       "class E7--><a href=\"psysml:3c3f6982-fe48-410d-a073-4745105d0bb1\" target=\"_top\" title=\"psysml:3c3f6982-fe48-410d-a073-4745105d0bb1\" xlink:actuate=\"onRequest\" xlink:href=\"psysml:3c3f6982-fe48-410d-a073-4745105d0bb1\" xlink:show=\"new\" xlink:title=\"psysml:3c3f6982-fe48-410d-a073-4745105d0bb1\" xlink:type=\"simple\"><rect fill=\"#FFFFFF\" height=\"45.9375\" id=\"E7\" rx=\"10\" ry=\"10\" style=\"stroke: #383838; stroke-width: 1.5;\" width=\"106\" x=\"1212\" y=\"159\"/><text fill=\"#000000\" font-family=\"sans-serif\" font-size=\"12\" font-style=\"italic\" lengthAdjust=\"spacingAndGlyphs\" textLength=\"69\" x=\"1230.5\" y=\"175.1387\">«attribute»</text><text fill=\"#000000\" font-family=\"sans-serif\" font-size=\"12\" lengthAdjust=\"spacingAndGlyphs\" textLength=\"96\" x=\"1215\" y=\"189.1074\">^m: MassValue</text><line style=\"stroke: #383838; stroke-width: 1.5;\" x1=\"1213\" x2=\"1317\" y1=\"196.9375\" y2=\"196.9375\"/></a><!--MD5=[fd4143e9d270a159db93a4ea2a975926]\n",
       "class E9--><a href=\"psysml:3c3f6982-fe48-410d-a073-4745105d0bb1\" target=\"_top\" title=\"psysml:3c3f6982-fe48-410d-a073-4745105d0bb1\" xlink:actuate=\"onRequest\" xlink:href=\"psysml:3c3f6982-fe48-410d-a073-4745105d0bb1\" xlink:show=\"new\" xlink:title=\"psysml:3c3f6982-fe48-410d-a073-4745105d0bb1\" xlink:type=\"simple\"><rect fill=\"#FFFFFF\" height=\"45.9375\" id=\"E9\" rx=\"10\" ry=\"10\" style=\"stroke: #383838; stroke-width: 1.5;\" width=\"106\" x=\"1425\" y=\"159\"/><text fill=\"#000000\" font-family=\"sans-serif\" font-size=\"12\" font-style=\"italic\" lengthAdjust=\"spacingAndGlyphs\" textLength=\"69\" x=\"1443.5\" y=\"175.1387\">«attribute»</text><text fill=\"#000000\" font-family=\"sans-serif\" font-size=\"12\" lengthAdjust=\"spacingAndGlyphs\" textLength=\"96\" x=\"1428\" y=\"189.1074\">^m: MassValue</text><line style=\"stroke: #383838; stroke-width: 1.5;\" x1=\"1426\" x2=\"1530\" y1=\"196.9375\" y2=\"196.9375\"/></a><text fill=\"#000000\" font-family=\"sans-serif\" font-size=\"14\" lengthAdjust=\"spacingAndGlyphs\" textLength=\"80\" x=\"828\" y=\"160.6982\">partMasses</text><rect fill=\"#383838\" height=\"12\" style=\"stroke: #F8F8F8; stroke-width: 1.5;\" width=\"12\" x=\"862\" y=\"176\"/><text fill=\"#000000\" font-family=\"sans-serif\" font-size=\"14\" lengthAdjust=\"spacingAndGlyphs\" textLength=\"66\" x=\"835\" y=\"549.9951\">totalMass</text><rect fill=\"#383838\" height=\"12\" style=\"stroke: #F8F8F8; stroke-width: 1.5;\" width=\"12\" x=\"862\" y=\"525\"/><g id=\"E1.E15\"><a href=\"psysml:e4253433-368c-4e86-8a3c-6b186419df89\" target=\"_top\" title=\"psysml:e4253433-368c-4e86-8a3c-6b186419df89\" xlink:actuate=\"onRequest\" xlink:href=\"psysml:e4253433-368c-4e86-8a3c-6b186419df89\" xlink:show=\"new\" xlink:title=\"psysml:e4253433-368c-4e86-8a3c-6b186419df89\" xlink:type=\"simple\"><rect fill=\"#FFFFFF\" height=\"40\" id=\"E15\" rx=\"10\" ry=\"10\" style=\"stroke: #383838; stroke-width: 1.5;\" width=\"187\" x=\"31.5\" y=\"162\"/><rect fill=\"#F8F8F8\" height=\"23.9688\" rx=\"10\" ry=\"10\" style=\"stroke: #F8F8F8; stroke-width: 1.5;\" width=\"187\" x=\"31.5\" y=\"162\"/><rect fill=\"#F8F8F8\" height=\"10\" style=\"stroke: #F8F8F8; stroke-width: 1.5;\" width=\"187\" x=\"31.5\" y=\"175.9688\"/><rect fill=\"none\" height=\"40\" id=\"E15\" rx=\"10\" ry=\"10\" style=\"stroke: #383838; stroke-width: 1.5;\" width=\"187\" x=\"31.5\" y=\"162\"/><text fill=\"#000000\" font-family=\"sans-serif\" font-size=\"12\" lengthAdjust=\"spacingAndGlyphs\" textLength=\"172\" x=\"37\" y=\"178.1387\">vehicles= (vehicle, vehicle);</text></a></g><!--MD5=[185131fc0dcab0a4505a2ebe144e961b]\n",
       "link E4 to E2--><a href=\"psysml:2113862d-3e36-4f2a-be29-5fbeffc35ef5\" target=\"_top\" title=\"psysml:2113862d-3e36-4f2a-be29-5fbeffc35ef5\" xlink:actuate=\"onRequest\" xlink:href=\"psysml:2113862d-3e36-4f2a-be29-5fbeffc35ef5\" xlink:show=\"new\" xlink:title=\"psysml:2113862d-3e36-4f2a-be29-5fbeffc35ef5\" xlink:type=\"simple\"><path d=\"M1078.49,348.22 C1094.985,365.765 1119.1075,391.4225 1139.3525,412.9563 C1149.475,423.7231 1158.6281,433.4591 1165.3738,440.6345 C1166.217,441.5315 1167.0225,442.3884 1167.7877,443.2023 C1168.1703,443.6093 1168.5428,444.0055 1168.9048,444.3906 \" fill=\"none\" id=\"E4-&gt;E2\" style=\"stroke: #383838; stroke-width: 1.0;\"/><polygon fill=\"#FFFFFF\" points=\"1168.9048,444.3906,1160.9912,425.7526,1150.7908,435.3417,1168.9048,444.3906\" style=\"stroke: #383838; stroke-width: 1.0;\"/></a><!--MD5=[2351f337d6de0f557b50152ba70847b5]\n",
       "link E6 to E2--><a href=\"psysml:7cfd1003-3fe0-4a32-a3a1-13a5c8efedf2\" target=\"_top\" title=\"psysml:7cfd1003-3fe0-4a32-a3a1-13a5c8efedf2\" xlink:actuate=\"onRequest\" xlink:href=\"psysml:7cfd1003-3fe0-4a32-a3a1-13a5c8efedf2\" xlink:show=\"new\" xlink:title=\"psysml:7cfd1003-3fe0-4a32-a3a1-13a5c8efedf2\" xlink:type=\"simple\"><path d=\"M1177,229.9775 C1177,230.3824 1177,230.7892 1177,231.1978 C1177,232.8323 1177,234.4962 1177,236.1877 C1177,239.5706 1177,243.0635 1177,246.6507 C1177,253.8252 1177,261.3769 1177,269.1802 C1177,284.7866 1177,301.3991 1177,318.0113 C1177,334.6234 1177,351.2354 1177,366.8409 C1177,367.8163 1177,368.7877 1177,369.7549 C1177,370.2385 1177,370.7211 1177,371.2026 C1177,371.4434 1177,371.6838 1177,371.924 \" fill=\"none\" id=\"E6-&gt;E2\" style=\"stroke: #383838; stroke-width: 1.0;\"/><polygon fill=\"#FFFFFF\" points=\"1177,371.924,1170,352.924,1184,352.924,1177,371.924\" style=\"stroke: #383838; stroke-width: 1.0;\"/><ellipse cx=\"1172\" cy=\"347.224\" fill=\"#383838\" rx=\"2\" ry=\"2\" style=\"stroke: #383838; stroke-width: 1.0;\"/><ellipse cx=\"1182\" cy=\"347.224\" fill=\"#383838\" rx=\"2\" ry=\"2\" style=\"stroke: #383838; stroke-width: 1.0;\"/></a><!--MD5=[f1f3f9f2fc535e6147756cb86a7f2e32]\n",
       "link E8 to E2--><a href=\"psysml:b3767e4f-9e3f-4162-9e5b-3e184cb0e1ab\" target=\"_top\" title=\"psysml:b3767e4f-9e3f-4162-9e5b-3e184cb0e1ab\" xlink:actuate=\"onRequest\" xlink:href=\"psysml:b3767e4f-9e3f-4162-9e5b-3e184cb0e1ab\" xlink:show=\"new\" xlink:title=\"psysml:b3767e4f-9e3f-4162-9e5b-3e184cb0e1ab\" xlink:type=\"simple\"><path d=\"M1381.9641,205.9854 C1381.8551,206.2631 1381.7451,206.5424 1381.6339,206.8235 C1379.8552,211.3212 1377.7947,216.2591 1375.4538,221.4588 C1366.09,242.2575 1352.24,267.245 1334,285 C1284.58,333.11 1237.44,300.86 1196,356 C1192.7525,360.3212 1190.0166,365.0477 1187.7154,370.0141 C1187.4278,370.6349 1187.147,371.2595 1186.8728,371.8874 \" fill=\"none\" id=\"E8-&gt;E2\" style=\"stroke: #383838; stroke-width: 1.0;\"/><polygon fill=\"#FFFFFF\" points=\"1186.8728,371.8874,1188.0606,351.6739,1200.8908,357.276,1186.8728,371.8874\" style=\"stroke: #383838; stroke-width: 1.0;\"/><ellipse cx=\"1192.1743\" cy=\"347.2504\" fill=\"#383838\" rx=\"2\" ry=\"2\" style=\"stroke: #383838; stroke-width: 1.0;\"/><ellipse cx=\"1201.3388\" cy=\"351.252\" fill=\"#383838\" rx=\"2\" ry=\"2\" style=\"stroke: #383838; stroke-width: 1.0;\"/></a><!--MD5=[1c62de2aa5b76f0fb657ff8443a1a700]\n",
       "link E5 to E4--><a href=\"psysml:3f6bcc61-006c-4905-be22-168150e04931\" target=\"_top\" title=\"psysml:3f6bcc61-006c-4905-be22-168150e04931\" xlink:actuate=\"onRequest\" xlink:href=\"psysml:3f6bcc61-006c-4905-be22-168150e04931\" xlink:show=\"new\" xlink:title=\"psysml:3f6bcc61-006c-4905-be22-168150e04931\" xlink:type=\"simple\"><path d=\"M1013.2179,269.1075 C1015.1587,274.6072 1017.4038,279.955 1020,285 C1020.63,286.22 1021.31,287.43 1022.03,288.63 \" fill=\"none\" id=\"E5-&gt;E4\" style=\"stroke: #383838; stroke-width: 1.0;\"/><polygon fill=\"#FFFFFF\" points=\"1034.52,304.67,1017.3216,293.9828,1028.3661,285.3793,1034.52,304.67\" style=\"stroke: #383838; stroke-width: 1.0;\"/><ellipse cx=\"1015.3966\" cy=\"288.2571\" fill=\"#383838\" rx=\"2\" ry=\"2\" style=\"stroke: #383838; stroke-width: 1.0;\"/><ellipse cx=\"1023.2855\" cy=\"282.1117\" fill=\"#383838\" rx=\"2\" ry=\"2\" style=\"stroke: #383838; stroke-width: 1.0;\"/></a><!--MD5=[d00f01b66edb9b3ce8f530f77713355e]\n",
       "link E14 to E11--><a href=\"psysml:650eb0f7-ec08-4309-80b6-1e90e34b9690\" target=\"_top\" title=\"psysml:650eb0f7-ec08-4309-80b6-1e90e34b9690\" xlink:actuate=\"onRequest\" xlink:href=\"psysml:650eb0f7-ec08-4309-80b6-1e90e34b9690\" xlink:show=\"new\" xlink:title=\"psysml:650eb0f7-ec08-4309-80b6-1e90e34b9690\" xlink:type=\"simple\"><path d=\"M662.79,220.16 C692.31,240.8 730.74,266.05 767,285 C769.145,286.1213 771.3283,287.2317 773.5406,288.3297 C773.8172,288.4669 774.0942,288.604 774.3716,288.7408 C774.5103,288.8092 774.6492,288.8776 774.7881,288.9459 C774.8576,288.9801 774.9271,289.0142 774.9966,289.0484 \" fill=\"none\" id=\"E14-&gt;E11\" style=\"stroke: #383838; stroke-width: 1.0;\"/><polygon fill=\"#FFFFFF\" points=\"774.9966,289.0484,754.8564,286.9572,761.0272,274.3905,774.9966,289.0484\" style=\"stroke: #383838; stroke-width: 1.0;\"/><ellipse cx=\"750.6215\" cy=\"282.6495\" fill=\"#383838\" rx=\"2\" ry=\"2\" style=\"stroke: #383838; stroke-width: 1.0;\"/><ellipse cx=\"755.0292\" cy=\"273.6733\" fill=\"#383838\" rx=\"2\" ry=\"2\" style=\"stroke: #383838; stroke-width: 1.0;\"/></a><!--MD5=[dddffc30c817cf58aea5904ba81adfe0]\n",
       "@startuml\r\n",
       "skinparam ranksep 10\r\n",
       "skinparam rectangle {\r\n",
       " backgroundColor<<block>> LightGreen\r\n",
       "}\r\n",
       " skinparam monochrome true\r\n",
       "skinparam classbackgroundcolor white\r\n",
       "skinparam shadowing false\r\n",
       "skinparam wrapWidth 300\r\n",
       "hide circle\r\n",
       "\r\n",
       "package \"CalculationExample\" as E1  [[psysml:9a950c4d-df47-4bf2-a127-6824d456053c ]]  {\r\n",
       "rec def \"VehiclePart\" as E2  <<(T,blue) part  def>> [[psysml:240f00ab-b9bf-457e-9376-98b0b5e156bb ]] {\r\n",
       "comp usage \"m: MassValue \" as E3  <<(T,blue) attribute>> [[psysml:3c3f6982-fe48-410d-a073-4745105d0bb1 ]] {\r\n",
       "}\r\n",
       "}\r\n",
       "rec def \"Vehicle\" as E4  <<(T,blue) part  def>> [[psysml:240db56f-6d8c-4faf-8b3c-f8974d12918d ]] {\r\n",
       "}\r\n",
       "rec usage \"vehicle: Vehicle\" as E5  [[psysml:ce00e2ad-3315-43f7-b2e6-6ce884a27309 ]] {\r\n",
       "rec usage \"eng: VehiclePart\" as E6  [[psysml:83fc889d-b3c1-4be4-83aa-24728b198254 ]] {\r\n",
       "comp usage \"^m: MassValue \" as E7  <<(T,blue) attribute>> [[psysml:3c3f6982-fe48-410d-a073-4745105d0bb1 ]] {\r\n",
       "}\r\n",
       "}\r\n",
       "rec usage \"trans: VehiclePart\" as E8  [[psysml:9ad03ab5-4ba7-4600-8f6c-f33bd21910a1 ]] {\r\n",
       "comp usage \"^m: MassValue \" as E9  <<(T,blue) attribute>> [[psysml:3c3f6982-fe48-410d-a073-4745105d0bb1 ]] {\r\n",
       "}\r\n",
       "}\r\n",
       "comp usage \"^m: MassValue \" as E10  <<(T,blue) attribute>> [[psysml:3c3f6982-fe48-410d-a073-4745105d0bb1 ]] {\r\n",
       "}\r\n",
       "}\r\n",
       "rec def \"MassSum\" as E11  <<(T,blue) calculation  def>> [[psysml:425e038d-47d6-48b2-bd42-a030f1074fc4 ]] {\r\n",
       "portin \"partMasses\" as E12  [[psysml:b45e328f-a4a8-4519-9228-274640d6e043 ]] \r\n",
       "portout \"totalMass\" as E13  [[psysml:712f9e49-cc72-40cc-a5b0-9958e3b93d47 ]] \r\n",
       "}\r\n",
       "\r\n",
       "comp usage \"ms: MassSum \" as E14  <<(T,blue) calculation>> [[psysml:e012d373-591a-4cf2-b53b-d810c6dd562d ]] {\r\n",
       "- - parameters - -\r\n",
       "<b>in</b> partMasses= (vehicle.eng.m, vehicle.trans.m); \r\n",
       "}\r\n",
       "rec usage \"vehicles= (vehicle, vehicle); \" as E15  [[psysml:e4253433-368c-4e86-8a3c-6b186419df89 ]] {\r\n",
       "}\r\n",
       "comp usage \"masses1 \" as E16  <<(T,blue) attribute>> [[psysml:03468340-4ee1-4dfd-ba23-9337b31e6caf ]] {\r\n",
       "}\r\n",
       "comp usage \"masses2 \" as E17  <<(T,blue) attribute>> [[psysml:a35488ce-7eb0-470e-9ecc-f7a0c28bc139 ]] {\r\n",
       "}\r\n",
       "}\r\n",
       "E4 - -|> E2 [[psysml:2113862d-3e36-4f2a-be29-5fbeffc35ef5 ]] \r\n",
       "E6 - -:|> E2 [[psysml:7cfd1003-3fe0-4a32-a3a1-13a5c8efedf2 ]] \r\n",
       "E8 - -:|> E2 [[psysml:b3767e4f-9e3f-4162-9e5b-3e184cb0e1ab ]] \r\n",
       "E5 - -:|> E4 [[psysml:3f6bcc61-006c-4905-be22-168150e04931 ]] \r\n",
       "E14 - -:|> E11 [[psysml:650eb0f7-ec08-4309-80b6-1e90e34b9690 ]] \r\n",
       "@enduml\r\n",
       "\n",
       "PlantUML version 1.2020.13(Sat Jun 13 12:26:38 UTC 2020)\n",
       "(EPL source distribution)\n",
       "Java Runtime: OpenJDK Runtime Environment\n",
       "JVM: OpenJDK 64-Bit Server VM\n",
       "Default Encoding: UTF-8\n",
       "Language: en\n",
       "Country: null\n",
       "--></g></svg>"
      ]
     },
     "execution_count": 5,
     "metadata": {},
     "output_type": "execute_result"
    }
   ],
   "source": [
    "%viz --style=\"COMPTREE\" --view=\"Interconnection\" \"CalculationExample\""
   ]
  },
  {
   "cell_type": "code",
   "execution_count": 6,
   "id": "57faa9c7",
   "metadata": {
    "execution": {
     "iopub.execute_input": "2022-08-19T08:22:00.022004Z",
     "iopub.status.busy": "2022-08-19T08:22:00.021532Z",
     "iopub.status.idle": "2022-08-19T08:22:00.055324Z",
     "shell.execute_reply": "2022-08-19T08:22:00.054911Z"
    }
   },
   "outputs": [
    {
     "data": {
      "image/svg+xml": [
       "<?xml version=\"1.0\" encoding=\"UTF-8\" standalone=\"no\"?><svg xmlns=\"http://www.w3.org/2000/svg\" xmlns:xlink=\"http://www.w3.org/1999/xlink\" contentScriptType=\"application/ecmascript\" contentStyleType=\"text/css\" height=\"162px\" preserveAspectRatio=\"none\" style=\"width:289px;height:162px;\" version=\"1.1\" viewBox=\"0 0 289 162\" width=\"289px\" zoomAndPan=\"magnify\"><defs/><g><!--MD5=[fbc87193dbaf4d95561dea2c320d4a47]\n",
       "cluster E1--><a href=\"psysml:425e038d-47d6-48b2-bd42-a030f1074fc4\" target=\"_top\" title=\"psysml:425e038d-47d6-48b2-bd42-a030f1074fc4\" xlink:actuate=\"onRequest\" xlink:href=\"psysml:425e038d-47d6-48b2-bd42-a030f1074fc4\" xlink:show=\"new\" xlink:title=\"psysml:425e038d-47d6-48b2-bd42-a030f1074fc4\" xlink:type=\"simple\"><rect fill=\"#FFFFFF\" height=\"87.72\" id=\"E1\" style=\"stroke: #383838; stroke-width: 1.5;\" width=\"131\" x=\"21\" y=\"42.0986\"/><rect fill=\"#F8F8F8\" height=\"37.9375\" style=\"stroke: #383838; stroke-width: 1.5;\" width=\"131\" x=\"21\" y=\"42.0986\"/><text fill=\"#000000\" font-family=\"sans-serif\" font-size=\"12\" font-style=\"italic\" lengthAdjust=\"spacingAndGlyphs\" textLength=\"110\" x=\"31.5\" y=\"58.2373\">«calculation  def»</text><text fill=\"#000000\" font-family=\"sans-serif\" font-size=\"12\" lengthAdjust=\"spacingAndGlyphs\" textLength=\"59\" x=\"57\" y=\"72.2061\">MassSum</text></a><!--MD5=[f6df4d0ebaf0b5dfb2ced0ae5af7c670]\n",
       "cluster E4--><a href=\"psysml:e012d373-591a-4cf2-b53b-d810c6dd562d\" target=\"_top\" title=\"psysml:e012d373-591a-4cf2-b53b-d810c6dd562d\" xlink:actuate=\"onRequest\" xlink:href=\"psysml:e012d373-591a-4cf2-b53b-d810c6dd562d\" xlink:show=\"new\" xlink:title=\"psysml:e012d373-591a-4cf2-b53b-d810c6dd562d\" xlink:type=\"simple\"><rect fill=\"#FFFFFF\" height=\"87.72\" id=\"E4\" rx=\"10\" ry=\"10\" style=\"stroke: #383838; stroke-width: 1.5;\" width=\"138\" x=\"139\" y=\"42.0986\"/><rect fill=\"#F8F8F8\" height=\"37.9375\" rx=\"10\" ry=\"10\" style=\"stroke: #F8F8F8; stroke-width: 1.5;\" width=\"138\" x=\"139\" y=\"42.0986\"/><rect fill=\"#F8F8F8\" height=\"10\" style=\"stroke: #F8F8F8; stroke-width: 1.5;\" width=\"138\" x=\"139\" y=\"70.0361\"/><rect fill=\"none\" height=\"87.72\" id=\"E4\" rx=\"10\" ry=\"10\" style=\"stroke: #383838; stroke-width: 1.5;\" width=\"138\" x=\"139\" y=\"42.0986\"/><text fill=\"#000000\" font-family=\"sans-serif\" font-size=\"12\" font-style=\"italic\" lengthAdjust=\"spacingAndGlyphs\" textLength=\"82\" x=\"167\" y=\"58.2373\">«calculation»</text><text fill=\"#000000\" font-family=\"sans-serif\" font-size=\"12\" lengthAdjust=\"spacingAndGlyphs\" textLength=\"18\" x=\"199\" y=\"72.2061\">ms</text><line style=\"stroke: #383838; stroke-width: 1.0;\" x1=\"139\" x2=\"277\" y1=\"80.0361\" y2=\"80.0361\"/></a><text fill=\"#000000\" font-family=\"sans-serif\" font-size=\"14\" lengthAdjust=\"spacingAndGlyphs\" textLength=\"80\" x=\"6\" y=\"20.7969\">partMasses</text><rect fill=\"#383838\" height=\"12\" style=\"stroke: #F8F8F8; stroke-width: 1.5;\" width=\"12\" x=\"40\" y=\"36.0986\"/><text fill=\"#000000\" font-family=\"sans-serif\" font-size=\"14\" lengthAdjust=\"spacingAndGlyphs\" textLength=\"66\" x=\"9\" y=\"148.8138\">totalMass</text><rect fill=\"#383838\" height=\"12\" style=\"stroke: #F8F8F8; stroke-width: 1.5;\" width=\"12\" x=\"36\" y=\"123.8186\"/><text fill=\"#000000\" font-family=\"sans-serif\" font-size=\"14\" lengthAdjust=\"spacingAndGlyphs\" textLength=\"80\" x=\"168\" y=\"20.7969\">partMasses</text><rect fill=\"#383838\" height=\"12\" style=\"stroke: #F8F8F8; stroke-width: 1.5;\" width=\"12\" x=\"202\" y=\"36.0986\"/><text fill=\"#000000\" font-family=\"sans-serif\" font-size=\"14\" lengthAdjust=\"spacingAndGlyphs\" textLength=\"66\" x=\"175\" y=\"148.8138\">totalMass</text><rect fill=\"#383838\" height=\"12\" style=\"stroke: #F8F8F8; stroke-width: 1.5;\" width=\"12\" x=\"202\" y=\"123.8186\"/><!--MD5=[7a7e0cf92b17bab9fc362358d9e12b58]\n",
       "@startuml\r\n",
       "skinparam ranksep 8\r\n",
       " skinparam monochrome true\r\n",
       "skinparam classbackgroundcolor white\r\n",
       "skinparam shadowing false\r\n",
       "skinparam wrapWidth 300\r\n",
       "hide circle\r\n",
       "\r\n",
       "rec def \"MassSum\" as E1  <<(T,blue) calculation  def>> [[psysml:425e038d-47d6-48b2-bd42-a030f1074fc4 ]] {\r\n",
       "portin \"partMasses\" as E2  [[psysml:b45e328f-a4a8-4519-9228-274640d6e043 ]] \r\n",
       "portout \"totalMass\" as E3  [[psysml:712f9e49-cc72-40cc-a5b0-9958e3b93d47 ]] \r\n",
       "}\r\n",
       "\r\n",
       "rec usage \"ms\" as E4  <<(T,blue) calculation>> [[psysml:e012d373-591a-4cf2-b53b-d810c6dd562d ]] {\r\n",
       "portin \"partMasses\" as E5  [[psysml:424ec83f-37c8-4393-891d-04f2e8383abc ]] \r\n",
       "portout \"totalMass\" as E6  [[psysml:be56ca6e-4eba-4c60-ba38-91b20c3832b5 ]] \r\n",
       "}\r\n",
       "\r\n",
       "@enduml\r\n",
       "\n",
       "PlantUML version 1.2020.13(Sat Jun 13 12:26:38 UTC 2020)\n",
       "(EPL source distribution)\n",
       "Java Runtime: OpenJDK Runtime Environment\n",
       "JVM: OpenJDK 64-Bit Server VM\n",
       "Default Encoding: UTF-8\n",
       "Language: en\n",
       "Country: null\n",
       "--></g></svg>"
      ]
     },
     "execution_count": 6,
     "metadata": {},
     "output_type": "execute_result"
    }
   ],
   "source": [
    "%viz --style=\"COMPTREE\" --view=\"Action\" \"CalculationExample\""
   ]
  },
  {
   "cell_type": "code",
   "execution_count": 7,
   "id": "7ea2463b",
   "metadata": {
    "execution": {
     "iopub.execute_input": "2022-08-19T08:22:00.105380Z",
     "iopub.status.busy": "2022-08-19T08:22:00.104918Z",
     "iopub.status.idle": "2022-08-19T08:22:00.127817Z",
     "shell.execute_reply": "2022-08-19T08:22:00.128140Z"
    }
   },
   "outputs": [
    {
     "data": {
      "image/svg+xml": [
       "<?xml version=\"1.0\" encoding=\"UTF-8\" standalone=\"no\"?><svg xmlns=\"http://www.w3.org/2000/svg\" xmlns:xlink=\"http://www.w3.org/1999/xlink\" contentScriptType=\"application/ecmascript\" contentStyleType=\"text/css\" height=\"12px\" preserveAspectRatio=\"none\" style=\"width:12px;height:12px;\" version=\"1.1\" viewBox=\"0 0 12 12\" width=\"12px\" zoomAndPan=\"magnify\"><defs/><g><!--MD5=[803fc46c337be7a5c8a9831e35356779]\n",
       "@startuml\r\n",
       "skinparam roundcorner 20\r\n",
       "skinparam BoxPadding 20\r\n",
       "skinparam SequenceBoxBackgroundColor #white\r\n",
       "skinparam style strictuml\r\n",
       "skinparam maxMessageSize 100\r\n",
       " skinparam monochrome true\r\n",
       "skinparam classbackgroundcolor white\r\n",
       "skinparam shadowing false\r\n",
       "skinparam wrapWidth 300\r\n",
       "hide circle\r\n",
       "\r\n",
       "@enduml\r\n",
       "\n",
       "PlantUML version 1.2020.13(Sat Jun 13 12:26:38 UTC 2020)\n",
       "(EPL source distribution)\n",
       "Java Runtime: OpenJDK Runtime Environment\n",
       "JVM: OpenJDK 64-Bit Server VM\n",
       "Default Encoding: UTF-8\n",
       "Language: en\n",
       "Country: null\n",
       "--></g></svg>"
      ]
     },
     "execution_count": 7,
     "metadata": {},
     "output_type": "execute_result"
    }
   ],
   "source": [
    "%viz --style=\"COMPTREE\" --view=\"Sequence\" \"CalculationExample\""
   ]
  },
  {
   "cell_type": "code",
   "execution_count": 8,
   "id": "c500e1a3",
   "metadata": {
    "execution": {
     "iopub.execute_input": "2022-08-19T08:22:00.178753Z",
     "iopub.status.busy": "2022-08-19T08:22:00.178297Z",
     "iopub.status.idle": "2022-08-19T08:22:00.288024Z",
     "shell.execute_reply": "2022-08-19T08:22:00.286284Z"
    }
   },
   "outputs": [
    {
     "data": {
      "image/svg+xml": [
       "<?xml version=\"1.0\" encoding=\"UTF-8\" standalone=\"no\"?><svg xmlns=\"http://www.w3.org/2000/svg\" xmlns:xlink=\"http://www.w3.org/1999/xlink\" contentScriptType=\"application/ecmascript\" contentStyleType=\"text/css\" height=\"505px\" preserveAspectRatio=\"none\" style=\"width:1266px;height:505px;\" version=\"1.1\" viewBox=\"0 0 1266 505\" width=\"1266px\" zoomAndPan=\"magnify\"><defs/><g><!--MD5=[fbc87193dbaf4d95561dea2c320d4a47]\n",
       "cluster E1--><a href=\"psysml:9a950c4d-df47-4bf2-a127-6824d456053c\" target=\"_top\" title=\"psysml:9a950c4d-df47-4bf2-a127-6824d456053c\" xlink:actuate=\"onRequest\" xlink:href=\"psysml:9a950c4d-df47-4bf2-a127-6824d456053c\" xlink:show=\"new\" xlink:title=\"psysml:9a950c4d-df47-4bf2-a127-6824d456053c\" xlink:type=\"simple\"><polygon fill=\"#FFFFFF\" points=\"16,6,155,6,162,28.2969,1244,28.2969,1244,493,16,493,16,6\" style=\"stroke: #000000; stroke-width: 1.5;\"/><line style=\"stroke: #000000; stroke-width: 1.5;\" x1=\"16\" x2=\"162\" y1=\"28.2969\" y2=\"28.2969\"/><text fill=\"#000000\" font-family=\"sans-serif\" font-size=\"14\" font-weight=\"bold\" lengthAdjust=\"spacingAndGlyphs\" textLength=\"133\" x=\"20\" y=\"20.9951\">CalculationExample</text></a><!--MD5=[168fadf3d0c3fd93dd5d6da1b1d7ab76]\n",
       "cluster E7--><a href=\"psysml:425e038d-47d6-48b2-bd42-a030f1074fc4\" target=\"_top\" title=\"psysml:425e038d-47d6-48b2-bd42-a030f1074fc4\" xlink:actuate=\"onRequest\" xlink:href=\"psysml:425e038d-47d6-48b2-bd42-a030f1074fc4\" xlink:show=\"new\" xlink:title=\"psysml:425e038d-47d6-48b2-bd42-a030f1074fc4\" xlink:type=\"simple\"><rect fill=\"#FFFFFF\" height=\"376\" id=\"E7\" style=\"stroke: #383838; stroke-width: 1.5;\" width=\"186\" x=\"650\" y=\"79\"/><rect fill=\"#F8F8F8\" height=\"37.9375\" style=\"stroke: #383838; stroke-width: 1.5;\" width=\"186\" x=\"650\" y=\"79\"/><text fill=\"#000000\" font-family=\"sans-serif\" font-size=\"12\" font-style=\"italic\" lengthAdjust=\"spacingAndGlyphs\" textLength=\"110\" x=\"688\" y=\"95.1387\">«calculation  def»</text><text fill=\"#000000\" font-family=\"sans-serif\" font-size=\"12\" lengthAdjust=\"spacingAndGlyphs\" textLength=\"59\" x=\"713.5\" y=\"109.1074\">MassSum</text></a><!--MD5=[b4997ac47864f28c2f74865a473b2911]\n",
       "class E2--><a href=\"psysml:240f00ab-b9bf-457e-9376-98b0b5e156bb\" target=\"_top\" title=\"psysml:240f00ab-b9bf-457e-9376-98b0b5e156bb\" xlink:actuate=\"onRequest\" xlink:href=\"psysml:240f00ab-b9bf-457e-9376-98b0b5e156bb\" xlink:show=\"new\" xlink:title=\"psysml:240f00ab-b9bf-457e-9376-98b0b5e156bb\" xlink:type=\"simple\"><rect fill=\"#FFFFFF\" height=\"75.5469\" id=\"E2\" style=\"stroke: #383838; stroke-width: 1.5;\" width=\"92\" x=\"968\" y=\"313\"/><text fill=\"#000000\" font-family=\"sans-serif\" font-size=\"12\" font-style=\"italic\" lengthAdjust=\"spacingAndGlyphs\" textLength=\"68\" x=\"980\" y=\"329.1387\">«part  def»</text><text fill=\"#000000\" font-family=\"sans-serif\" font-size=\"12\" lengthAdjust=\"spacingAndGlyphs\" textLength=\"71\" x=\"978.5\" y=\"343.1074\">VehiclePart</text><line style=\"stroke: #383838; stroke-width: 1.5;\" x1=\"969\" x2=\"1059\" y1=\"350.9375\" y2=\"350.9375\"/><text fill=\"#000000\" font-family=\"sans-serif\" font-size=\"11\" lengthAdjust=\"spacingAndGlyphs\" textLength=\"80\" x=\"974\" y=\"381.9526\">m: MassValue</text><line style=\"stroke: #383838; stroke-width: 1.0;\" x1=\"969\" x2=\"986.5\" y1=\"365.3398\" y2=\"365.3398\"/><text fill=\"#000000\" font-family=\"sans-serif\" font-size=\"11\" lengthAdjust=\"spacingAndGlyphs\" textLength=\"55\" x=\"986.5\" y=\"368.6479\">attributes</text><line style=\"stroke: #383838; stroke-width: 1.0;\" x1=\"1041.5\" x2=\"1059\" y1=\"365.3398\" y2=\"365.3398\"/></a><!--MD5=[09b614a08d8cba4a07c9adeb5e0fee81]\n",
       "class E3--><a href=\"psysml:240db56f-6d8c-4faf-8b3c-f8974d12918d\" target=\"_top\" title=\"psysml:240db56f-6d8c-4faf-8b3c-f8974d12918d\" xlink:actuate=\"onRequest\" xlink:href=\"psysml:240db56f-6d8c-4faf-8b3c-f8974d12918d\" xlink:show=\"new\" xlink:title=\"psysml:240db56f-6d8c-4faf-8b3c-f8974d12918d\" xlink:type=\"simple\"><rect fill=\"#FFFFFF\" height=\"45.9375\" id=\"E3\" style=\"stroke: #383838; stroke-width: 1.5;\" width=\"70\" x=\"852\" y=\"192\"/><text fill=\"#000000\" font-family=\"sans-serif\" font-size=\"12\" font-style=\"italic\" lengthAdjust=\"spacingAndGlyphs\" textLength=\"68\" x=\"853\" y=\"208.1387\">«part  def»</text><text fill=\"#000000\" font-family=\"sans-serif\" font-size=\"12\" lengthAdjust=\"spacingAndGlyphs\" textLength=\"45\" x=\"864.5\" y=\"222.1074\">Vehicle</text><line style=\"stroke: #383838; stroke-width: 1.5;\" x1=\"853\" x2=\"921\" y1=\"229.9375\" y2=\"229.9375\"/></a><!--MD5=[ebbe1d658d1005bcc118a6aa81145e00]\n",
       "class E4--><a href=\"psysml:ce00e2ad-3315-43f7-b2e6-6ce884a27309\" target=\"_top\" title=\"psysml:ce00e2ad-3315-43f7-b2e6-6ce884a27309\" xlink:actuate=\"onRequest\" xlink:href=\"psysml:ce00e2ad-3315-43f7-b2e6-6ce884a27309\" xlink:show=\"new\" xlink:title=\"psysml:ce00e2ad-3315-43f7-b2e6-6ce884a27309\" xlink:type=\"simple\"><rect fill=\"#FFFFFF\" height=\"75.5469\" id=\"E4\" rx=\"10\" ry=\"10\" style=\"stroke: #383838; stroke-width: 1.5;\" width=\"106\" x=\"961\" y=\"41\"/><text fill=\"#000000\" font-family=\"sans-serif\" font-size=\"12\" font-style=\"italic\" lengthAdjust=\"spacingAndGlyphs\" textLength=\"40\" x=\"994\" y=\"57.1387\">«part»</text><text fill=\"#000000\" font-family=\"sans-serif\" font-size=\"12\" lengthAdjust=\"spacingAndGlyphs\" textLength=\"96\" x=\"964\" y=\"71.1074\">vehicle: Vehicle</text><line style=\"stroke: #383838; stroke-width: 1.5;\" x1=\"962\" x2=\"1066\" y1=\"78.9375\" y2=\"78.9375\"/><text fill=\"#000000\" font-family=\"sans-serif\" font-size=\"11\" lengthAdjust=\"spacingAndGlyphs\" textLength=\"89\" x=\"967\" y=\"109.9526\">^m: MassValue</text><line style=\"stroke: #383838; stroke-width: 1.0;\" x1=\"962\" x2=\"986.5\" y1=\"93.3398\" y2=\"93.3398\"/><text fill=\"#000000\" font-family=\"sans-serif\" font-size=\"11\" lengthAdjust=\"spacingAndGlyphs\" textLength=\"55\" x=\"986.5\" y=\"96.6479\">attributes</text><line style=\"stroke: #383838; stroke-width: 1.0;\" x1=\"1041.5\" x2=\"1066\" y1=\"93.3398\" y2=\"93.3398\"/></a><!--MD5=[270fce915f116d4de14055a7c1d9a0f3]\n",
       "class E5--><a href=\"psysml:83fc889d-b3c1-4be4-83aa-24728b198254\" target=\"_top\" title=\"psysml:83fc889d-b3c1-4be4-83aa-24728b198254\" xlink:actuate=\"onRequest\" xlink:href=\"psysml:83fc889d-b3c1-4be4-83aa-24728b198254\" xlink:show=\"new\" xlink:title=\"psysml:83fc889d-b3c1-4be4-83aa-24728b198254\" xlink:type=\"simple\"><rect fill=\"#FFFFFF\" height=\"75.5469\" id=\"E5\" rx=\"10\" ry=\"10\" style=\"stroke: #383838; stroke-width: 1.5;\" width=\"113\" x=\"957.5\" y=\"177\"/><text fill=\"#000000\" font-family=\"sans-serif\" font-size=\"12\" font-style=\"italic\" lengthAdjust=\"spacingAndGlyphs\" textLength=\"40\" x=\"994\" y=\"193.1387\">«part»</text><text fill=\"#000000\" font-family=\"sans-serif\" font-size=\"12\" lengthAdjust=\"spacingAndGlyphs\" textLength=\"103\" x=\"960.5\" y=\"207.1074\">eng: VehiclePart</text><line style=\"stroke: #383838; stroke-width: 1.5;\" x1=\"958.5\" x2=\"1069.5\" y1=\"214.9375\" y2=\"214.9375\"/><text fill=\"#000000\" font-family=\"sans-serif\" font-size=\"11\" lengthAdjust=\"spacingAndGlyphs\" textLength=\"89\" x=\"963.5\" y=\"245.9526\">^m: MassValue</text><line style=\"stroke: #383838; stroke-width: 1.0;\" x1=\"958.5\" x2=\"986.5\" y1=\"229.3398\" y2=\"229.3398\"/><text fill=\"#000000\" font-family=\"sans-serif\" font-size=\"11\" lengthAdjust=\"spacingAndGlyphs\" textLength=\"55\" x=\"986.5\" y=\"232.6479\">attributes</text><line style=\"stroke: #383838; stroke-width: 1.0;\" x1=\"1041.5\" x2=\"1069.5\" y1=\"229.3398\" y2=\"229.3398\"/></a><!--MD5=[60a26617385b1d2d0262a64233df1f8d]\n",
       "class E6--><a href=\"psysml:9ad03ab5-4ba7-4600-8f6c-f33bd21910a1\" target=\"_top\" title=\"psysml:9ad03ab5-4ba7-4600-8f6c-f33bd21910a1\" xlink:actuate=\"onRequest\" xlink:href=\"psysml:9ad03ab5-4ba7-4600-8f6c-f33bd21910a1\" xlink:show=\"new\" xlink:title=\"psysml:9ad03ab5-4ba7-4600-8f6c-f33bd21910a1\" xlink:type=\"simple\"><rect fill=\"#FFFFFF\" height=\"75.5469\" id=\"E6\" rx=\"10\" ry=\"10\" style=\"stroke: #383838; stroke-width: 1.5;\" width=\"122\" x=\"1106\" y=\"177\"/><text fill=\"#000000\" font-family=\"sans-serif\" font-size=\"12\" font-style=\"italic\" lengthAdjust=\"spacingAndGlyphs\" textLength=\"40\" x=\"1147\" y=\"193.1387\">«part»</text><text fill=\"#000000\" font-family=\"sans-serif\" font-size=\"12\" lengthAdjust=\"spacingAndGlyphs\" textLength=\"112\" x=\"1109\" y=\"207.1074\">trans: VehiclePart</text><line style=\"stroke: #383838; stroke-width: 1.5;\" x1=\"1107\" x2=\"1227\" y1=\"214.9375\" y2=\"214.9375\"/><text fill=\"#000000\" font-family=\"sans-serif\" font-size=\"11\" lengthAdjust=\"spacingAndGlyphs\" textLength=\"89\" x=\"1112\" y=\"245.9526\">^m: MassValue</text><line style=\"stroke: #383838; stroke-width: 1.0;\" x1=\"1107\" x2=\"1139.5\" y1=\"229.3398\" y2=\"229.3398\"/><text fill=\"#000000\" font-family=\"sans-serif\" font-size=\"11\" lengthAdjust=\"spacingAndGlyphs\" textLength=\"55\" x=\"1139.5\" y=\"232.6479\">attributes</text><line style=\"stroke: #383838; stroke-width: 1.0;\" x1=\"1194.5\" x2=\"1227\" y1=\"229.3398\" y2=\"229.3398\"/></a><!--MD5=[96f4274e9e20536e775497830990834d]\n",
       "class E10--><a href=\"psysml:e012d373-591a-4cf2-b53b-d810c6dd562d\" target=\"_top\" title=\"psysml:e012d373-591a-4cf2-b53b-d810c6dd562d\" xlink:actuate=\"onRequest\" xlink:href=\"psysml:e012d373-591a-4cf2-b53b-d810c6dd562d\" xlink:show=\"new\" xlink:title=\"psysml:e012d373-591a-4cf2-b53b-d810c6dd562d\" xlink:type=\"simple\"><rect fill=\"#FFFFFF\" height=\"75.5469\" id=\"E10\" rx=\"10\" ry=\"10\" style=\"stroke: #383838; stroke-width: 1.5;\" width=\"293\" x=\"340.5\" y=\"41\"/><text fill=\"#000000\" font-family=\"sans-serif\" font-size=\"12\" font-style=\"italic\" lengthAdjust=\"spacingAndGlyphs\" textLength=\"82\" x=\"446\" y=\"57.1387\">«calculation»</text><text fill=\"#000000\" font-family=\"sans-serif\" font-size=\"12\" lengthAdjust=\"spacingAndGlyphs\" textLength=\"85\" x=\"442.5\" y=\"71.1074\">ms: MassSum</text><line style=\"stroke: #383838; stroke-width: 1.5;\" x1=\"341.5\" x2=\"632.5\" y1=\"78.9375\" y2=\"78.9375\"/><text fill=\"#000000\" font-family=\"sans-serif\" font-size=\"11\" font-weight=\"bold\" lengthAdjust=\"spacingAndGlyphs\" textLength=\"10\" x=\"346.5\" y=\"109.9526\">in</text><text fill=\"#000000\" font-family=\"sans-serif\" font-size=\"11\" lengthAdjust=\"spacingAndGlyphs\" textLength=\"267\" x=\"360.5\" y=\"109.9526\">partMasses= (vehicle.eng.m, vehicle.trans.m);</text><line style=\"stroke: #383838; stroke-width: 1.0;\" x1=\"341.5\" x2=\"453.5\" y1=\"93.3398\" y2=\"93.3398\"/><text fill=\"#000000\" font-family=\"sans-serif\" font-size=\"11\" lengthAdjust=\"spacingAndGlyphs\" textLength=\"67\" x=\"453.5\" y=\"96.6479\">parameters</text><line style=\"stroke: #383838; stroke-width: 1.0;\" x1=\"520.5\" x2=\"632.5\" y1=\"93.3398\" y2=\"93.3398\"/></a><!--MD5=[1dd1bfd58a279cf63c5f349dbc8fc6a1]\n",
       "class E11--><a href=\"psysml:e4253433-368c-4e86-8a3c-6b186419df89\" target=\"_top\" title=\"psysml:e4253433-368c-4e86-8a3c-6b186419df89\" xlink:actuate=\"onRequest\" xlink:href=\"psysml:e4253433-368c-4e86-8a3c-6b186419df89\" xlink:show=\"new\" xlink:title=\"psysml:e4253433-368c-4e86-8a3c-6b186419df89\" xlink:type=\"simple\"><rect fill=\"#FFFFFF\" height=\"45.9375\" id=\"E11\" rx=\"10\" ry=\"10\" style=\"stroke: #383838; stroke-width: 1.5;\" width=\"60\" x=\"245\" y=\"56\"/><text fill=\"#000000\" font-family=\"sans-serif\" font-size=\"12\" font-style=\"italic\" lengthAdjust=\"spacingAndGlyphs\" textLength=\"40\" x=\"255\" y=\"72.1387\">«part»</text><text fill=\"#000000\" font-family=\"sans-serif\" font-size=\"12\" lengthAdjust=\"spacingAndGlyphs\" textLength=\"50\" x=\"248\" y=\"86.1074\">vehicles</text><line style=\"stroke: #383838; stroke-width: 1.5;\" x1=\"246\" x2=\"304\" y1=\"93.9375\" y2=\"93.9375\"/></a><!--MD5=[49a0ec8f00dab7302a31f22d0f0fe584]\n",
       "class E12--><a href=\"psysml:03468340-4ee1-4dfd-ba23-9337b31e6caf\" target=\"_top\" title=\"psysml:03468340-4ee1-4dfd-ba23-9337b31e6caf\" xlink:actuate=\"onRequest\" xlink:href=\"psysml:03468340-4ee1-4dfd-ba23-9337b31e6caf\" xlink:show=\"new\" xlink:title=\"psysml:03468340-4ee1-4dfd-ba23-9337b31e6caf\" xlink:type=\"simple\"><rect fill=\"#FFFFFF\" height=\"45.9375\" id=\"E12\" rx=\"10\" ry=\"10\" style=\"stroke: #383838; stroke-width: 1.5;\" width=\"71\" x=\"138.5\" y=\"56\"/><text fill=\"#000000\" font-family=\"sans-serif\" font-size=\"12\" font-style=\"italic\" lengthAdjust=\"spacingAndGlyphs\" textLength=\"69\" x=\"139.5\" y=\"72.1387\">«attribute»</text><text fill=\"#000000\" font-family=\"sans-serif\" font-size=\"12\" lengthAdjust=\"spacingAndGlyphs\" textLength=\"56\" x=\"144\" y=\"86.1074\">masses1</text><line style=\"stroke: #383838; stroke-width: 1.5;\" x1=\"139.5\" x2=\"208.5\" y1=\"93.9375\" y2=\"93.9375\"/></a><!--MD5=[ee3c913d1a06f366521f9ef512b67efe]\n",
       "class E13--><a href=\"psysml:a35488ce-7eb0-470e-9ecc-f7a0c28bc139\" target=\"_top\" title=\"psysml:a35488ce-7eb0-470e-9ecc-f7a0c28bc139\" xlink:actuate=\"onRequest\" xlink:href=\"psysml:a35488ce-7eb0-470e-9ecc-f7a0c28bc139\" xlink:show=\"new\" xlink:title=\"psysml:a35488ce-7eb0-470e-9ecc-f7a0c28bc139\" xlink:type=\"simple\"><rect fill=\"#FFFFFF\" height=\"45.9375\" id=\"E13\" rx=\"10\" ry=\"10\" style=\"stroke: #383838; stroke-width: 1.5;\" width=\"71\" x=\"32.5\" y=\"56\"/><text fill=\"#000000\" font-family=\"sans-serif\" font-size=\"12\" font-style=\"italic\" lengthAdjust=\"spacingAndGlyphs\" textLength=\"69\" x=\"33.5\" y=\"72.1387\">«attribute»</text><text fill=\"#000000\" font-family=\"sans-serif\" font-size=\"12\" lengthAdjust=\"spacingAndGlyphs\" textLength=\"56\" x=\"38\" y=\"86.1074\">masses2</text><line style=\"stroke: #383838; stroke-width: 1.5;\" x1=\"33.5\" x2=\"102.5\" y1=\"93.9375\" y2=\"93.9375\"/></a><text fill=\"#000000\" font-family=\"sans-serif\" font-size=\"14\" lengthAdjust=\"spacingAndGlyphs\" textLength=\"80\" x=\"703\" y=\"57.6982\">partMasses</text><rect fill=\"#383838\" height=\"12\" style=\"stroke: #F8F8F8; stroke-width: 1.5;\" width=\"12\" x=\"737\" y=\"73\"/><text fill=\"#000000\" font-family=\"sans-serif\" font-size=\"14\" lengthAdjust=\"spacingAndGlyphs\" textLength=\"66\" x=\"710\" y=\"473.9951\">totalMass</text><rect fill=\"#383838\" height=\"12\" style=\"stroke: #F8F8F8; stroke-width: 1.5;\" width=\"12\" x=\"737\" y=\"449\"/><!--MD5=[05d275557350bfb9b23a4ef7222b4c39]\n",
       "link E3 to E2--><a href=\"psysml:2113862d-3e36-4f2a-be29-5fbeffc35ef5\" target=\"_top\" title=\"psysml:2113862d-3e36-4f2a-be29-5fbeffc35ef5\" xlink:actuate=\"onRequest\" xlink:href=\"psysml:2113862d-3e36-4f2a-be29-5fbeffc35ef5\" xlink:show=\"new\" xlink:title=\"psysml:2113862d-3e36-4f2a-be29-5fbeffc35ef5\" xlink:type=\"simple\"><path d=\"M907.97,238.13 C923.45,254.46 945.16,277.37 964.91,298.21 \" fill=\"none\" id=\"E3-&gt;E2\" style=\"stroke: #383838; stroke-width: 1.0;\"/><polygon fill=\"none\" points=\"970.15,293.56,978.83,312.89,959.99,303.19,970.15,293.56\" style=\"stroke: #383838; stroke-width: 1.0;\"/></a><!--MD5=[f0cdf4548168e5211fb3a02bf679d63a]\n",
       "link E4 to E3--><a href=\"psysml:3f6bcc61-006c-4905-be22-168150e04931\" target=\"_top\" title=\"psysml:3f6bcc61-006c-4905-be22-168150e04931\" xlink:actuate=\"onRequest\" xlink:href=\"psysml:3f6bcc61-006c-4905-be22-168150e04931\" xlink:show=\"new\" xlink:title=\"psysml:3f6bcc61-006c-4905-be22-168150e04931\" xlink:type=\"simple\"><path d=\"M978.62,117.33 C960.85,136.08 939.39,158.72 921.71,177.38 \" fill=\"none\" id=\"E4-&gt;E3\" style=\"stroke: #383838; stroke-width: 1.0;\"/><polygon fill=\"#FFFFFF\" points=\"907.91,191.94,915.8909,173.3307,926.0566,182.9567,907.91,191.94\" style=\"stroke: #383838; stroke-width: 1.0;\"/><ellipse cx=\"921.2623\" cy=\"170.567\" fill=\"#383838\" rx=\"2\" ry=\"2\" style=\"stroke: #383838; stroke-width: 1.0;\"/><ellipse cx=\"928.5235\" cy=\"177.4426\" fill=\"#383838\" rx=\"2\" ry=\"2\" style=\"stroke: #383838; stroke-width: 1.0;\"/></a><!--MD5=[62aa6af11e70f752912c1cb0466f24f7]\n",
       "reverse link E4 to E5--><a href=\"psysml:dfe553ed-92b1-45a3-82b1-c875cfb3cf56\" target=\"_top\" title=\"psysml:dfe553ed-92b1-45a3-82b1-c875cfb3cf56\" xlink:actuate=\"onRequest\" xlink:href=\"psysml:dfe553ed-92b1-45a3-82b1-c875cfb3cf56\" xlink:show=\"new\" xlink:title=\"psysml:dfe553ed-92b1-45a3-82b1-c875cfb3cf56\" xlink:type=\"simple\"><path d=\"M1014,130.46 C1014,145.87 1014,162.52 1014,176.87 \" fill=\"none\" id=\"E4&lt;-E5\" style=\"stroke: #383838; stroke-width: 1.0;\"/><polygon fill=\"#FFFFFF\" points=\"1014,117.33,1010,123.33,1014,129.33,1018,123.33,1014,117.33\" style=\"stroke: #383838; stroke-width: 1.0;\"/><text fill=\"#000000\" font-family=\"sans-serif\" font-size=\"13\" lengthAdjust=\"spacingAndGlyphs\" textLength=\"8\" x=\"1005.2875\" y=\"165.8612\">1</text></a><!--MD5=[15ebcb19ae302d9b601edb458606d402]\n",
       "link E5 to E2--><a href=\"psysml:7cfd1003-3fe0-4a32-a3a1-13a5c8efedf2\" target=\"_top\" title=\"psysml:7cfd1003-3fe0-4a32-a3a1-13a5c8efedf2\" xlink:actuate=\"onRequest\" xlink:href=\"psysml:7cfd1003-3fe0-4a32-a3a1-13a5c8efedf2\" xlink:show=\"new\" xlink:title=\"psysml:7cfd1003-3fe0-4a32-a3a1-13a5c8efedf2\" xlink:type=\"simple\"><path d=\"M1014,253.33 C1014,265.52 1014,279.36 1014,292.68 \" fill=\"none\" id=\"E5-&gt;E2\" style=\"stroke: #383838; stroke-width: 1.0;\"/><polygon fill=\"#FFFFFF\" points=\"1014,312.87,1007,293.87,1021,293.87,1014,312.87\" style=\"stroke: #383838; stroke-width: 1.0;\"/><ellipse cx=\"1009\" cy=\"288.17\" fill=\"#383838\" rx=\"2\" ry=\"2\" style=\"stroke: #383838; stroke-width: 1.0;\"/><ellipse cx=\"1019\" cy=\"288.17\" fill=\"#383838\" rx=\"2\" ry=\"2\" style=\"stroke: #383838; stroke-width: 1.0;\"/></a><!--MD5=[6db378b65e1aef66a01cb3103812b399]\n",
       "reverse link E4 to E6--><a href=\"psysml:56232501-f921-4851-b5f9-a91b366c1c7b\" target=\"_top\" title=\"psysml:56232501-f921-4851-b5f9-a91b366c1c7b\" xlink:actuate=\"onRequest\" xlink:href=\"psysml:56232501-f921-4851-b5f9-a91b366c1c7b\" xlink:show=\"new\" xlink:title=\"psysml:56232501-f921-4851-b5f9-a91b366c1c7b\" xlink:type=\"simple\"><path d=\"M1066.59,126.06 C1085.53,142.65 1106.65,161.14 1124.61,176.87 \" fill=\"none\" id=\"E4&lt;-E6\" style=\"stroke: #383838; stroke-width: 1.0;\"/><polygon fill=\"#FFFFFF\" points=\"1056.62,117.33,1058.4928,124.2937,1065.6411,125.2433,1063.7683,118.2796,1056.62,117.33\" style=\"stroke: #383838; stroke-width: 1.0;\"/><text fill=\"#000000\" font-family=\"sans-serif\" font-size=\"13\" lengthAdjust=\"spacingAndGlyphs\" textLength=\"8\" x=\"1108.3468\" y=\"165.8612\">1</text></a><!--MD5=[2351f337d6de0f557b50152ba70847b5]\n",
       "link E6 to E2--><a href=\"psysml:b3767e4f-9e3f-4162-9e5b-3e184cb0e1ab\" target=\"_top\" title=\"psysml:b3767e4f-9e3f-4162-9e5b-3e184cb0e1ab\" xlink:actuate=\"onRequest\" xlink:href=\"psysml:b3767e4f-9e3f-4162-9e5b-3e184cb0e1ab\" xlink:show=\"new\" xlink:title=\"psysml:b3767e4f-9e3f-4162-9e5b-3e184cb0e1ab\" xlink:type=\"simple\"><path d=\"M1124.38,253.33 C1108.05,267.63 1089.14,284.19 1071.63,299.52 \" fill=\"none\" id=\"E6-&gt;E2\" style=\"stroke: #383838; stroke-width: 1.0;\"/><polygon fill=\"#FFFFFF\" points=\"1056.39,312.87,1066.0639,295.0819,1075.2922,305.6099,1056.39,312.87\" style=\"stroke: #383838; stroke-width: 1.0;\"/><ellipse cx=\"1071.6686\" cy=\"292.8287\" fill=\"#383838\" rx=\"2\" ry=\"2\" style=\"stroke: #383838; stroke-width: 1.0;\"/><ellipse cx=\"1078.2602\" cy=\"300.3487\" fill=\"#383838\" rx=\"2\" ry=\"2\" style=\"stroke: #383838; stroke-width: 1.0;\"/></a><!--MD5=[a919e0967d6f3de553dc51b9865a1d6d]\n",
       "link E10 to E7--><a href=\"psysml:650eb0f7-ec08-4309-80b6-1e90e34b9690\" target=\"_top\" title=\"psysml:650eb0f7-ec08-4309-80b6-1e90e34b9690\" xlink:actuate=\"onRequest\" xlink:href=\"psysml:650eb0f7-ec08-4309-80b6-1e90e34b9690\" xlink:show=\"new\" xlink:title=\"psysml:650eb0f7-ec08-4309-80b6-1e90e34b9690\" xlink:type=\"simple\"><path d=\"M557.97,117.15 C583.125,130.315 611.975,145.415 639.2925,159.7138 C642.7072,161.5011 646.0979,163.2759 649.4545,165.0329 \" fill=\"none\" id=\"E10-&gt;E7\" style=\"stroke: #383838; stroke-width: 1.0;\"/><polygon fill=\"#FFFFFF\" points=\"649.4545,165.0329,629.3749,162.4234,635.8674,150.0199,649.4545,165.0329\" style=\"stroke: #383838; stroke-width: 1.0;\"/><ellipse cx=\"625.2524\" cy=\"158.0081\" fill=\"#383838\" rx=\"2\" ry=\"2\" style=\"stroke: #383838; stroke-width: 1.0;\"/><ellipse cx=\"629.8899\" cy=\"149.1485\" fill=\"#383838\" rx=\"2\" ry=\"2\" style=\"stroke: #383838; stroke-width: 1.0;\"/></a><!--MD5=[81b3fea4b2f4277f4e12264f6f5e6269]\n",
       "@startuml\r\n",
       " skinparam monochrome true\r\n",
       "skinparam classbackgroundcolor white\r\n",
       "skinparam shadowing false\r\n",
       "skinparam wrapWidth 300\r\n",
       "hide circle\r\n",
       "\r\n",
       "package \"CalculationExample\" as E1  [[psysml:9a950c4d-df47-4bf2-a127-6824d456053c ]]  {\r\n",
       "comp def \"VehiclePart\" as E2  <<(T,blue) part  def>> [[psysml:240f00ab-b9bf-457e-9376-98b0b5e156bb ]] {\r\n",
       "- - attributes - -\r\n",
       "m: MassValue\r\n",
       "}\r\n",
       "comp def \"Vehicle\" as E3  <<(T,blue) part  def>> [[psysml:240db56f-6d8c-4faf-8b3c-f8974d12918d ]] {\r\n",
       "}\r\n",
       "comp usage \"vehicle: Vehicle \" as E4  <<(T,blue) part>> [[psysml:ce00e2ad-3315-43f7-b2e6-6ce884a27309 ]] {\r\n",
       "- - attributes - -\r\n",
       "^m: MassValue\r\n",
       "}\r\n",
       "comp usage \"eng: VehiclePart \" as E5  <<(T,blue) part>> [[psysml:83fc889d-b3c1-4be4-83aa-24728b198254 ]] {\r\n",
       "- - attributes - -\r\n",
       "^m: MassValue\r\n",
       "}\r\n",
       "comp usage \"trans: VehiclePart \" as E6  <<(T,blue) part>> [[psysml:9ad03ab5-4ba7-4600-8f6c-f33bd21910a1 ]] {\r\n",
       "- - attributes - -\r\n",
       "^m: MassValue\r\n",
       "}\r\n",
       "rec def \"MassSum\" as E7  <<(T,blue) calculation  def>> [[psysml:425e038d-47d6-48b2-bd42-a030f1074fc4 ]] {\r\n",
       "portin \"partMasses\" as E8  [[psysml:b45e328f-a4a8-4519-9228-274640d6e043 ]] \r\n",
       "portout \"totalMass\" as E9  [[psysml:712f9e49-cc72-40cc-a5b0-9958e3b93d47 ]] \r\n",
       "}\r\n",
       "\r\n",
       "comp usage \"ms: MassSum \" as E10  <<(T,blue) calculation>> [[psysml:e012d373-591a-4cf2-b53b-d810c6dd562d ]] {\r\n",
       "- - parameters - -\r\n",
       "<b>in</b> partMasses= (vehicle.eng.m, vehicle.trans.m); \r\n",
       "}\r\n",
       "comp usage \"vehicles \" as E11  <<(T,blue) part>> [[psysml:e4253433-368c-4e86-8a3c-6b186419df89 ]] {\r\n",
       "}\r\n",
       "comp usage \"masses1 \" as E12  <<(T,blue) attribute>> [[psysml:03468340-4ee1-4dfd-ba23-9337b31e6caf ]] {\r\n",
       "}\r\n",
       "comp usage \"masses2 \" as E13  <<(T,blue) attribute>> [[psysml:a35488ce-7eb0-470e-9ecc-f7a0c28bc139 ]] {\r\n",
       "}\r\n",
       "}\r\n",
       "E3 - -|> E2 [[psysml:2113862d-3e36-4f2a-be29-5fbeffc35ef5 ]] \r\n",
       "E4 - -:|> E3 [[psysml:3f6bcc61-006c-4905-be22-168150e04931 ]] \r\n",
       "E4 o- - \"1\"E5 [[psysml:dfe553ed-92b1-45a3-82b1-c875cfb3cf56 ]] \r\n",
       "E5 - -:|> E2 [[psysml:7cfd1003-3fe0-4a32-a3a1-13a5c8efedf2 ]] \r\n",
       "E4 o- - \"1\"E6 [[psysml:56232501-f921-4851-b5f9-a91b366c1c7b ]] \r\n",
       "E6 - -:|> E2 [[psysml:b3767e4f-9e3f-4162-9e5b-3e184cb0e1ab ]] \r\n",
       "E10 - -:|> E7 [[psysml:650eb0f7-ec08-4309-80b6-1e90e34b9690 ]] \r\n",
       "@enduml\r\n",
       "\n",
       "PlantUML version 1.2020.13(Sat Jun 13 12:26:38 UTC 2020)\n",
       "(EPL source distribution)\n",
       "Java Runtime: OpenJDK Runtime Environment\n",
       "JVM: OpenJDK 64-Bit Server VM\n",
       "Default Encoding: UTF-8\n",
       "Language: en\n",
       "Country: null\n",
       "--></g></svg>"
      ]
     },
     "execution_count": 8,
     "metadata": {},
     "output_type": "execute_result"
    }
   ],
   "source": [
    "%viz --style=\"COMPTREE\" --view=\"MIXED\" \"CalculationExample\""
   ]
  },
  {
   "cell_type": "code",
   "execution_count": 9,
   "id": "771586f4",
   "metadata": {
    "execution": {
     "iopub.execute_input": "2022-08-19T08:22:00.336988Z",
     "iopub.status.busy": "2022-08-19T08:22:00.336530Z",
     "iopub.status.idle": "2022-08-19T08:22:00.425101Z",
     "shell.execute_reply": "2022-08-19T08:22:00.424672Z"
    }
   },
   "outputs": [
    {
     "data": {
      "image/svg+xml": [
       "<?xml version=\"1.0\" encoding=\"UTF-8\" standalone=\"no\"?><svg xmlns=\"http://www.w3.org/2000/svg\" xmlns:xlink=\"http://www.w3.org/1999/xlink\" contentScriptType=\"application/ecmascript\" contentStyleType=\"text/css\" height=\"505px\" preserveAspectRatio=\"none\" style=\"width:1266px;height:505px;\" version=\"1.1\" viewBox=\"0 0 1266 505\" width=\"1266px\" zoomAndPan=\"magnify\"><defs/><g><!--MD5=[fbc87193dbaf4d95561dea2c320d4a47]\n",
       "cluster E1--><a href=\"psysml:9a950c4d-df47-4bf2-a127-6824d456053c\" target=\"_top\" title=\"psysml:9a950c4d-df47-4bf2-a127-6824d456053c\" xlink:actuate=\"onRequest\" xlink:href=\"psysml:9a950c4d-df47-4bf2-a127-6824d456053c\" xlink:show=\"new\" xlink:title=\"psysml:9a950c4d-df47-4bf2-a127-6824d456053c\" xlink:type=\"simple\"><polygon fill=\"#FFFFFF\" points=\"16,6,155,6,162,28.2969,1244,28.2969,1244,493,16,493,16,6\" style=\"stroke: #000000; stroke-width: 1.5;\"/><line style=\"stroke: #000000; stroke-width: 1.5;\" x1=\"16\" x2=\"162\" y1=\"28.2969\" y2=\"28.2969\"/><text fill=\"#000000\" font-family=\"sans-serif\" font-size=\"14\" font-weight=\"bold\" lengthAdjust=\"spacingAndGlyphs\" textLength=\"133\" x=\"20\" y=\"20.9951\">CalculationExample</text></a><!--MD5=[168fadf3d0c3fd93dd5d6da1b1d7ab76]\n",
       "cluster E7--><a href=\"psysml:425e038d-47d6-48b2-bd42-a030f1074fc4\" target=\"_top\" title=\"psysml:425e038d-47d6-48b2-bd42-a030f1074fc4\" xlink:actuate=\"onRequest\" xlink:href=\"psysml:425e038d-47d6-48b2-bd42-a030f1074fc4\" xlink:show=\"new\" xlink:title=\"psysml:425e038d-47d6-48b2-bd42-a030f1074fc4\" xlink:type=\"simple\"><rect fill=\"#FFFFFF\" height=\"376\" id=\"E7\" style=\"stroke: #383838; stroke-width: 1.5;\" width=\"186\" x=\"650\" y=\"79\"/><rect fill=\"#F8F8F8\" height=\"37.9375\" style=\"stroke: #383838; stroke-width: 1.5;\" width=\"186\" x=\"650\" y=\"79\"/><text fill=\"#000000\" font-family=\"sans-serif\" font-size=\"12\" font-style=\"italic\" lengthAdjust=\"spacingAndGlyphs\" textLength=\"110\" x=\"688\" y=\"95.1387\">«calculation  def»</text><text fill=\"#000000\" font-family=\"sans-serif\" font-size=\"12\" lengthAdjust=\"spacingAndGlyphs\" textLength=\"59\" x=\"713.5\" y=\"109.1074\">MassSum</text></a><!--MD5=[b4997ac47864f28c2f74865a473b2911]\n",
       "class E2--><a href=\"psysml:240f00ab-b9bf-457e-9376-98b0b5e156bb\" target=\"_top\" title=\"psysml:240f00ab-b9bf-457e-9376-98b0b5e156bb\" xlink:actuate=\"onRequest\" xlink:href=\"psysml:240f00ab-b9bf-457e-9376-98b0b5e156bb\" xlink:show=\"new\" xlink:title=\"psysml:240f00ab-b9bf-457e-9376-98b0b5e156bb\" xlink:type=\"simple\"><rect fill=\"#FFFFFF\" height=\"75.5469\" id=\"E2\" style=\"stroke: #383838; stroke-width: 1.5;\" width=\"92\" x=\"968\" y=\"313\"/><text fill=\"#000000\" font-family=\"sans-serif\" font-size=\"12\" font-style=\"italic\" lengthAdjust=\"spacingAndGlyphs\" textLength=\"68\" x=\"980\" y=\"329.1387\">«part  def»</text><text fill=\"#000000\" font-family=\"sans-serif\" font-size=\"12\" lengthAdjust=\"spacingAndGlyphs\" textLength=\"71\" x=\"978.5\" y=\"343.1074\">VehiclePart</text><line style=\"stroke: #383838; stroke-width: 1.5;\" x1=\"969\" x2=\"1059\" y1=\"350.9375\" y2=\"350.9375\"/><text fill=\"#000000\" font-family=\"sans-serif\" font-size=\"11\" lengthAdjust=\"spacingAndGlyphs\" textLength=\"80\" x=\"974\" y=\"381.9526\">m: MassValue</text><line style=\"stroke: #383838; stroke-width: 1.0;\" x1=\"969\" x2=\"986.5\" y1=\"365.3398\" y2=\"365.3398\"/><text fill=\"#000000\" font-family=\"sans-serif\" font-size=\"11\" lengthAdjust=\"spacingAndGlyphs\" textLength=\"55\" x=\"986.5\" y=\"368.6479\">attributes</text><line style=\"stroke: #383838; stroke-width: 1.0;\" x1=\"1041.5\" x2=\"1059\" y1=\"365.3398\" y2=\"365.3398\"/></a><!--MD5=[09b614a08d8cba4a07c9adeb5e0fee81]\n",
       "class E3--><a href=\"psysml:240db56f-6d8c-4faf-8b3c-f8974d12918d\" target=\"_top\" title=\"psysml:240db56f-6d8c-4faf-8b3c-f8974d12918d\" xlink:actuate=\"onRequest\" xlink:href=\"psysml:240db56f-6d8c-4faf-8b3c-f8974d12918d\" xlink:show=\"new\" xlink:title=\"psysml:240db56f-6d8c-4faf-8b3c-f8974d12918d\" xlink:type=\"simple\"><rect fill=\"#FFFFFF\" height=\"45.9375\" id=\"E3\" style=\"stroke: #383838; stroke-width: 1.5;\" width=\"70\" x=\"852\" y=\"192\"/><text fill=\"#000000\" font-family=\"sans-serif\" font-size=\"12\" font-style=\"italic\" lengthAdjust=\"spacingAndGlyphs\" textLength=\"68\" x=\"853\" y=\"208.1387\">«part  def»</text><text fill=\"#000000\" font-family=\"sans-serif\" font-size=\"12\" lengthAdjust=\"spacingAndGlyphs\" textLength=\"45\" x=\"864.5\" y=\"222.1074\">Vehicle</text><line style=\"stroke: #383838; stroke-width: 1.5;\" x1=\"853\" x2=\"921\" y1=\"229.9375\" y2=\"229.9375\"/></a><!--MD5=[ebbe1d658d1005bcc118a6aa81145e00]\n",
       "class E4--><a href=\"psysml:ce00e2ad-3315-43f7-b2e6-6ce884a27309\" target=\"_top\" title=\"psysml:ce00e2ad-3315-43f7-b2e6-6ce884a27309\" xlink:actuate=\"onRequest\" xlink:href=\"psysml:ce00e2ad-3315-43f7-b2e6-6ce884a27309\" xlink:show=\"new\" xlink:title=\"psysml:ce00e2ad-3315-43f7-b2e6-6ce884a27309\" xlink:type=\"simple\"><rect fill=\"#FFFFFF\" height=\"75.5469\" id=\"E4\" rx=\"10\" ry=\"10\" style=\"stroke: #383838; stroke-width: 1.5;\" width=\"106\" x=\"961\" y=\"41\"/><text fill=\"#000000\" font-family=\"sans-serif\" font-size=\"12\" font-style=\"italic\" lengthAdjust=\"spacingAndGlyphs\" textLength=\"40\" x=\"994\" y=\"57.1387\">«part»</text><text fill=\"#000000\" font-family=\"sans-serif\" font-size=\"12\" lengthAdjust=\"spacingAndGlyphs\" textLength=\"96\" x=\"964\" y=\"71.1074\">vehicle: Vehicle</text><line style=\"stroke: #383838; stroke-width: 1.5;\" x1=\"962\" x2=\"1066\" y1=\"78.9375\" y2=\"78.9375\"/><text fill=\"#000000\" font-family=\"sans-serif\" font-size=\"11\" lengthAdjust=\"spacingAndGlyphs\" textLength=\"89\" x=\"967\" y=\"109.9526\">^m: MassValue</text><line style=\"stroke: #383838; stroke-width: 1.0;\" x1=\"962\" x2=\"986.5\" y1=\"93.3398\" y2=\"93.3398\"/><text fill=\"#000000\" font-family=\"sans-serif\" font-size=\"11\" lengthAdjust=\"spacingAndGlyphs\" textLength=\"55\" x=\"986.5\" y=\"96.6479\">attributes</text><line style=\"stroke: #383838; stroke-width: 1.0;\" x1=\"1041.5\" x2=\"1066\" y1=\"93.3398\" y2=\"93.3398\"/></a><!--MD5=[270fce915f116d4de14055a7c1d9a0f3]\n",
       "class E5--><a href=\"psysml:83fc889d-b3c1-4be4-83aa-24728b198254\" target=\"_top\" title=\"psysml:83fc889d-b3c1-4be4-83aa-24728b198254\" xlink:actuate=\"onRequest\" xlink:href=\"psysml:83fc889d-b3c1-4be4-83aa-24728b198254\" xlink:show=\"new\" xlink:title=\"psysml:83fc889d-b3c1-4be4-83aa-24728b198254\" xlink:type=\"simple\"><rect fill=\"#FFFFFF\" height=\"75.5469\" id=\"E5\" rx=\"10\" ry=\"10\" style=\"stroke: #383838; stroke-width: 1.5;\" width=\"113\" x=\"957.5\" y=\"177\"/><text fill=\"#000000\" font-family=\"sans-serif\" font-size=\"12\" font-style=\"italic\" lengthAdjust=\"spacingAndGlyphs\" textLength=\"40\" x=\"994\" y=\"193.1387\">«part»</text><text fill=\"#000000\" font-family=\"sans-serif\" font-size=\"12\" lengthAdjust=\"spacingAndGlyphs\" textLength=\"103\" x=\"960.5\" y=\"207.1074\">eng: VehiclePart</text><line style=\"stroke: #383838; stroke-width: 1.5;\" x1=\"958.5\" x2=\"1069.5\" y1=\"214.9375\" y2=\"214.9375\"/><text fill=\"#000000\" font-family=\"sans-serif\" font-size=\"11\" lengthAdjust=\"spacingAndGlyphs\" textLength=\"89\" x=\"963.5\" y=\"245.9526\">^m: MassValue</text><line style=\"stroke: #383838; stroke-width: 1.0;\" x1=\"958.5\" x2=\"986.5\" y1=\"229.3398\" y2=\"229.3398\"/><text fill=\"#000000\" font-family=\"sans-serif\" font-size=\"11\" lengthAdjust=\"spacingAndGlyphs\" textLength=\"55\" x=\"986.5\" y=\"232.6479\">attributes</text><line style=\"stroke: #383838; stroke-width: 1.0;\" x1=\"1041.5\" x2=\"1069.5\" y1=\"229.3398\" y2=\"229.3398\"/></a><!--MD5=[60a26617385b1d2d0262a64233df1f8d]\n",
       "class E6--><a href=\"psysml:9ad03ab5-4ba7-4600-8f6c-f33bd21910a1\" target=\"_top\" title=\"psysml:9ad03ab5-4ba7-4600-8f6c-f33bd21910a1\" xlink:actuate=\"onRequest\" xlink:href=\"psysml:9ad03ab5-4ba7-4600-8f6c-f33bd21910a1\" xlink:show=\"new\" xlink:title=\"psysml:9ad03ab5-4ba7-4600-8f6c-f33bd21910a1\" xlink:type=\"simple\"><rect fill=\"#FFFFFF\" height=\"75.5469\" id=\"E6\" rx=\"10\" ry=\"10\" style=\"stroke: #383838; stroke-width: 1.5;\" width=\"122\" x=\"1106\" y=\"177\"/><text fill=\"#000000\" font-family=\"sans-serif\" font-size=\"12\" font-style=\"italic\" lengthAdjust=\"spacingAndGlyphs\" textLength=\"40\" x=\"1147\" y=\"193.1387\">«part»</text><text fill=\"#000000\" font-family=\"sans-serif\" font-size=\"12\" lengthAdjust=\"spacingAndGlyphs\" textLength=\"112\" x=\"1109\" y=\"207.1074\">trans: VehiclePart</text><line style=\"stroke: #383838; stroke-width: 1.5;\" x1=\"1107\" x2=\"1227\" y1=\"214.9375\" y2=\"214.9375\"/><text fill=\"#000000\" font-family=\"sans-serif\" font-size=\"11\" lengthAdjust=\"spacingAndGlyphs\" textLength=\"89\" x=\"1112\" y=\"245.9526\">^m: MassValue</text><line style=\"stroke: #383838; stroke-width: 1.0;\" x1=\"1107\" x2=\"1139.5\" y1=\"229.3398\" y2=\"229.3398\"/><text fill=\"#000000\" font-family=\"sans-serif\" font-size=\"11\" lengthAdjust=\"spacingAndGlyphs\" textLength=\"55\" x=\"1139.5\" y=\"232.6479\">attributes</text><line style=\"stroke: #383838; stroke-width: 1.0;\" x1=\"1194.5\" x2=\"1227\" y1=\"229.3398\" y2=\"229.3398\"/></a><!--MD5=[96f4274e9e20536e775497830990834d]\n",
       "class E10--><a href=\"psysml:e012d373-591a-4cf2-b53b-d810c6dd562d\" target=\"_top\" title=\"psysml:e012d373-591a-4cf2-b53b-d810c6dd562d\" xlink:actuate=\"onRequest\" xlink:href=\"psysml:e012d373-591a-4cf2-b53b-d810c6dd562d\" xlink:show=\"new\" xlink:title=\"psysml:e012d373-591a-4cf2-b53b-d810c6dd562d\" xlink:type=\"simple\"><rect fill=\"#FFFFFF\" height=\"75.5469\" id=\"E10\" rx=\"10\" ry=\"10\" style=\"stroke: #383838; stroke-width: 1.5;\" width=\"293\" x=\"340.5\" y=\"41\"/><text fill=\"#000000\" font-family=\"sans-serif\" font-size=\"12\" font-style=\"italic\" lengthAdjust=\"spacingAndGlyphs\" textLength=\"82\" x=\"446\" y=\"57.1387\">«calculation»</text><text fill=\"#000000\" font-family=\"sans-serif\" font-size=\"12\" lengthAdjust=\"spacingAndGlyphs\" textLength=\"85\" x=\"442.5\" y=\"71.1074\">ms: MassSum</text><line style=\"stroke: #383838; stroke-width: 1.5;\" x1=\"341.5\" x2=\"632.5\" y1=\"78.9375\" y2=\"78.9375\"/><text fill=\"#000000\" font-family=\"sans-serif\" font-size=\"11\" font-weight=\"bold\" lengthAdjust=\"spacingAndGlyphs\" textLength=\"10\" x=\"346.5\" y=\"109.9526\">in</text><text fill=\"#000000\" font-family=\"sans-serif\" font-size=\"11\" lengthAdjust=\"spacingAndGlyphs\" textLength=\"267\" x=\"360.5\" y=\"109.9526\">partMasses= (vehicle.eng.m, vehicle.trans.m);</text><line style=\"stroke: #383838; stroke-width: 1.0;\" x1=\"341.5\" x2=\"453.5\" y1=\"93.3398\" y2=\"93.3398\"/><text fill=\"#000000\" font-family=\"sans-serif\" font-size=\"11\" lengthAdjust=\"spacingAndGlyphs\" textLength=\"67\" x=\"453.5\" y=\"96.6479\">parameters</text><line style=\"stroke: #383838; stroke-width: 1.0;\" x1=\"520.5\" x2=\"632.5\" y1=\"93.3398\" y2=\"93.3398\"/></a><!--MD5=[1dd1bfd58a279cf63c5f349dbc8fc6a1]\n",
       "class E11--><a href=\"psysml:e4253433-368c-4e86-8a3c-6b186419df89\" target=\"_top\" title=\"psysml:e4253433-368c-4e86-8a3c-6b186419df89\" xlink:actuate=\"onRequest\" xlink:href=\"psysml:e4253433-368c-4e86-8a3c-6b186419df89\" xlink:show=\"new\" xlink:title=\"psysml:e4253433-368c-4e86-8a3c-6b186419df89\" xlink:type=\"simple\"><rect fill=\"#FFFFFF\" height=\"45.9375\" id=\"E11\" rx=\"10\" ry=\"10\" style=\"stroke: #383838; stroke-width: 1.5;\" width=\"60\" x=\"245\" y=\"56\"/><text fill=\"#000000\" font-family=\"sans-serif\" font-size=\"12\" font-style=\"italic\" lengthAdjust=\"spacingAndGlyphs\" textLength=\"40\" x=\"255\" y=\"72.1387\">«part»</text><text fill=\"#000000\" font-family=\"sans-serif\" font-size=\"12\" lengthAdjust=\"spacingAndGlyphs\" textLength=\"50\" x=\"248\" y=\"86.1074\">vehicles</text><line style=\"stroke: #383838; stroke-width: 1.5;\" x1=\"246\" x2=\"304\" y1=\"93.9375\" y2=\"93.9375\"/></a><!--MD5=[49a0ec8f00dab7302a31f22d0f0fe584]\n",
       "class E12--><a href=\"psysml:03468340-4ee1-4dfd-ba23-9337b31e6caf\" target=\"_top\" title=\"psysml:03468340-4ee1-4dfd-ba23-9337b31e6caf\" xlink:actuate=\"onRequest\" xlink:href=\"psysml:03468340-4ee1-4dfd-ba23-9337b31e6caf\" xlink:show=\"new\" xlink:title=\"psysml:03468340-4ee1-4dfd-ba23-9337b31e6caf\" xlink:type=\"simple\"><rect fill=\"#FFFFFF\" height=\"45.9375\" id=\"E12\" rx=\"10\" ry=\"10\" style=\"stroke: #383838; stroke-width: 1.5;\" width=\"71\" x=\"138.5\" y=\"56\"/><text fill=\"#000000\" font-family=\"sans-serif\" font-size=\"12\" font-style=\"italic\" lengthAdjust=\"spacingAndGlyphs\" textLength=\"69\" x=\"139.5\" y=\"72.1387\">«attribute»</text><text fill=\"#000000\" font-family=\"sans-serif\" font-size=\"12\" lengthAdjust=\"spacingAndGlyphs\" textLength=\"56\" x=\"144\" y=\"86.1074\">masses1</text><line style=\"stroke: #383838; stroke-width: 1.5;\" x1=\"139.5\" x2=\"208.5\" y1=\"93.9375\" y2=\"93.9375\"/></a><!--MD5=[ee3c913d1a06f366521f9ef512b67efe]\n",
       "class E13--><a href=\"psysml:a35488ce-7eb0-470e-9ecc-f7a0c28bc139\" target=\"_top\" title=\"psysml:a35488ce-7eb0-470e-9ecc-f7a0c28bc139\" xlink:actuate=\"onRequest\" xlink:href=\"psysml:a35488ce-7eb0-470e-9ecc-f7a0c28bc139\" xlink:show=\"new\" xlink:title=\"psysml:a35488ce-7eb0-470e-9ecc-f7a0c28bc139\" xlink:type=\"simple\"><rect fill=\"#FFFFFF\" height=\"45.9375\" id=\"E13\" rx=\"10\" ry=\"10\" style=\"stroke: #383838; stroke-width: 1.5;\" width=\"71\" x=\"32.5\" y=\"56\"/><text fill=\"#000000\" font-family=\"sans-serif\" font-size=\"12\" font-style=\"italic\" lengthAdjust=\"spacingAndGlyphs\" textLength=\"69\" x=\"33.5\" y=\"72.1387\">«attribute»</text><text fill=\"#000000\" font-family=\"sans-serif\" font-size=\"12\" lengthAdjust=\"spacingAndGlyphs\" textLength=\"56\" x=\"38\" y=\"86.1074\">masses2</text><line style=\"stroke: #383838; stroke-width: 1.5;\" x1=\"33.5\" x2=\"102.5\" y1=\"93.9375\" y2=\"93.9375\"/></a><text fill=\"#000000\" font-family=\"sans-serif\" font-size=\"14\" lengthAdjust=\"spacingAndGlyphs\" textLength=\"80\" x=\"703\" y=\"57.6982\">partMasses</text><rect fill=\"#383838\" height=\"12\" style=\"stroke: #F8F8F8; stroke-width: 1.5;\" width=\"12\" x=\"737\" y=\"73\"/><text fill=\"#000000\" font-family=\"sans-serif\" font-size=\"14\" lengthAdjust=\"spacingAndGlyphs\" textLength=\"66\" x=\"710\" y=\"473.9951\">totalMass</text><rect fill=\"#383838\" height=\"12\" style=\"stroke: #F8F8F8; stroke-width: 1.5;\" width=\"12\" x=\"737\" y=\"449\"/><!--MD5=[05d275557350bfb9b23a4ef7222b4c39]\n",
       "link E3 to E2--><a href=\"psysml:2113862d-3e36-4f2a-be29-5fbeffc35ef5\" target=\"_top\" title=\"psysml:2113862d-3e36-4f2a-be29-5fbeffc35ef5\" xlink:actuate=\"onRequest\" xlink:href=\"psysml:2113862d-3e36-4f2a-be29-5fbeffc35ef5\" xlink:show=\"new\" xlink:title=\"psysml:2113862d-3e36-4f2a-be29-5fbeffc35ef5\" xlink:type=\"simple\"><path d=\"M907.97,238.13 C923.45,254.46 945.16,277.37 964.91,298.21 \" fill=\"none\" id=\"E3-&gt;E2\" style=\"stroke: #383838; stroke-width: 1.0;\"/><polygon fill=\"none\" points=\"970.15,293.56,978.83,312.89,959.99,303.19,970.15,293.56\" style=\"stroke: #383838; stroke-width: 1.0;\"/></a><!--MD5=[f0cdf4548168e5211fb3a02bf679d63a]\n",
       "link E4 to E3--><a href=\"psysml:3f6bcc61-006c-4905-be22-168150e04931\" target=\"_top\" title=\"psysml:3f6bcc61-006c-4905-be22-168150e04931\" xlink:actuate=\"onRequest\" xlink:href=\"psysml:3f6bcc61-006c-4905-be22-168150e04931\" xlink:show=\"new\" xlink:title=\"psysml:3f6bcc61-006c-4905-be22-168150e04931\" xlink:type=\"simple\"><path d=\"M978.62,117.33 C960.85,136.08 939.39,158.72 921.71,177.38 \" fill=\"none\" id=\"E4-&gt;E3\" style=\"stroke: #383838; stroke-width: 1.0;\"/><polygon fill=\"#FFFFFF\" points=\"907.91,191.94,915.8909,173.3307,926.0566,182.9567,907.91,191.94\" style=\"stroke: #383838; stroke-width: 1.0;\"/><ellipse cx=\"921.2623\" cy=\"170.567\" fill=\"#383838\" rx=\"2\" ry=\"2\" style=\"stroke: #383838; stroke-width: 1.0;\"/><ellipse cx=\"928.5235\" cy=\"177.4426\" fill=\"#383838\" rx=\"2\" ry=\"2\" style=\"stroke: #383838; stroke-width: 1.0;\"/></a><!--MD5=[62aa6af11e70f752912c1cb0466f24f7]\n",
       "reverse link E4 to E5--><a href=\"psysml:dfe553ed-92b1-45a3-82b1-c875cfb3cf56\" target=\"_top\" title=\"psysml:dfe553ed-92b1-45a3-82b1-c875cfb3cf56\" xlink:actuate=\"onRequest\" xlink:href=\"psysml:dfe553ed-92b1-45a3-82b1-c875cfb3cf56\" xlink:show=\"new\" xlink:title=\"psysml:dfe553ed-92b1-45a3-82b1-c875cfb3cf56\" xlink:type=\"simple\"><path d=\"M1014,130.46 C1014,145.87 1014,162.52 1014,176.87 \" fill=\"none\" id=\"E4&lt;-E5\" style=\"stroke: #383838; stroke-width: 1.0;\"/><polygon fill=\"#FFFFFF\" points=\"1014,117.33,1010,123.33,1014,129.33,1018,123.33,1014,117.33\" style=\"stroke: #383838; stroke-width: 1.0;\"/><text fill=\"#000000\" font-family=\"sans-serif\" font-size=\"13\" lengthAdjust=\"spacingAndGlyphs\" textLength=\"8\" x=\"1005.2875\" y=\"165.8612\">1</text></a><!--MD5=[15ebcb19ae302d9b601edb458606d402]\n",
       "link E5 to E2--><a href=\"psysml:7cfd1003-3fe0-4a32-a3a1-13a5c8efedf2\" target=\"_top\" title=\"psysml:7cfd1003-3fe0-4a32-a3a1-13a5c8efedf2\" xlink:actuate=\"onRequest\" xlink:href=\"psysml:7cfd1003-3fe0-4a32-a3a1-13a5c8efedf2\" xlink:show=\"new\" xlink:title=\"psysml:7cfd1003-3fe0-4a32-a3a1-13a5c8efedf2\" xlink:type=\"simple\"><path d=\"M1014,253.33 C1014,265.52 1014,279.36 1014,292.68 \" fill=\"none\" id=\"E5-&gt;E2\" style=\"stroke: #383838; stroke-width: 1.0;\"/><polygon fill=\"#FFFFFF\" points=\"1014,312.87,1007,293.87,1021,293.87,1014,312.87\" style=\"stroke: #383838; stroke-width: 1.0;\"/><ellipse cx=\"1009\" cy=\"288.17\" fill=\"#383838\" rx=\"2\" ry=\"2\" style=\"stroke: #383838; stroke-width: 1.0;\"/><ellipse cx=\"1019\" cy=\"288.17\" fill=\"#383838\" rx=\"2\" ry=\"2\" style=\"stroke: #383838; stroke-width: 1.0;\"/></a><!--MD5=[6db378b65e1aef66a01cb3103812b399]\n",
       "reverse link E4 to E6--><a href=\"psysml:56232501-f921-4851-b5f9-a91b366c1c7b\" target=\"_top\" title=\"psysml:56232501-f921-4851-b5f9-a91b366c1c7b\" xlink:actuate=\"onRequest\" xlink:href=\"psysml:56232501-f921-4851-b5f9-a91b366c1c7b\" xlink:show=\"new\" xlink:title=\"psysml:56232501-f921-4851-b5f9-a91b366c1c7b\" xlink:type=\"simple\"><path d=\"M1066.59,126.06 C1085.53,142.65 1106.65,161.14 1124.61,176.87 \" fill=\"none\" id=\"E4&lt;-E6\" style=\"stroke: #383838; stroke-width: 1.0;\"/><polygon fill=\"#FFFFFF\" points=\"1056.62,117.33,1058.4928,124.2937,1065.6411,125.2433,1063.7683,118.2796,1056.62,117.33\" style=\"stroke: #383838; stroke-width: 1.0;\"/><text fill=\"#000000\" font-family=\"sans-serif\" font-size=\"13\" lengthAdjust=\"spacingAndGlyphs\" textLength=\"8\" x=\"1108.3468\" y=\"165.8612\">1</text></a><!--MD5=[2351f337d6de0f557b50152ba70847b5]\n",
       "link E6 to E2--><a href=\"psysml:b3767e4f-9e3f-4162-9e5b-3e184cb0e1ab\" target=\"_top\" title=\"psysml:b3767e4f-9e3f-4162-9e5b-3e184cb0e1ab\" xlink:actuate=\"onRequest\" xlink:href=\"psysml:b3767e4f-9e3f-4162-9e5b-3e184cb0e1ab\" xlink:show=\"new\" xlink:title=\"psysml:b3767e4f-9e3f-4162-9e5b-3e184cb0e1ab\" xlink:type=\"simple\"><path d=\"M1124.38,253.33 C1108.05,267.63 1089.14,284.19 1071.63,299.52 \" fill=\"none\" id=\"E6-&gt;E2\" style=\"stroke: #383838; stroke-width: 1.0;\"/><polygon fill=\"#FFFFFF\" points=\"1056.39,312.87,1066.0639,295.0819,1075.2922,305.6099,1056.39,312.87\" style=\"stroke: #383838; stroke-width: 1.0;\"/><ellipse cx=\"1071.6686\" cy=\"292.8287\" fill=\"#383838\" rx=\"2\" ry=\"2\" style=\"stroke: #383838; stroke-width: 1.0;\"/><ellipse cx=\"1078.2602\" cy=\"300.3487\" fill=\"#383838\" rx=\"2\" ry=\"2\" style=\"stroke: #383838; stroke-width: 1.0;\"/></a><!--MD5=[a919e0967d6f3de553dc51b9865a1d6d]\n",
       "link E10 to E7--><a href=\"psysml:650eb0f7-ec08-4309-80b6-1e90e34b9690\" target=\"_top\" title=\"psysml:650eb0f7-ec08-4309-80b6-1e90e34b9690\" xlink:actuate=\"onRequest\" xlink:href=\"psysml:650eb0f7-ec08-4309-80b6-1e90e34b9690\" xlink:show=\"new\" xlink:title=\"psysml:650eb0f7-ec08-4309-80b6-1e90e34b9690\" xlink:type=\"simple\"><path d=\"M557.97,117.15 C583.125,130.315 611.975,145.415 639.2925,159.7138 C642.7072,161.5011 646.0979,163.2759 649.4545,165.0329 \" fill=\"none\" id=\"E10-&gt;E7\" style=\"stroke: #383838; stroke-width: 1.0;\"/><polygon fill=\"#FFFFFF\" points=\"649.4545,165.0329,629.3749,162.4234,635.8674,150.0199,649.4545,165.0329\" style=\"stroke: #383838; stroke-width: 1.0;\"/><ellipse cx=\"625.2524\" cy=\"158.0081\" fill=\"#383838\" rx=\"2\" ry=\"2\" style=\"stroke: #383838; stroke-width: 1.0;\"/><ellipse cx=\"629.8899\" cy=\"149.1485\" fill=\"#383838\" rx=\"2\" ry=\"2\" style=\"stroke: #383838; stroke-width: 1.0;\"/></a><!--MD5=[122c850532ac2d81fb63f63c259fa5b3]\n",
       "@startuml\r\n",
       "skinparam linetype polyline\r\n",
       "skinparam monochrome true\r\n",
       "skinparam classbackgroundcolor white\r\n",
       "skinparam shadowing false\r\n",
       "skinparam wrapWidth 300\r\n",
       "hide circle\r\n",
       "\r\n",
       "package \"CalculationExample\" as E1  [[psysml:9a950c4d-df47-4bf2-a127-6824d456053c ]]  {\r\n",
       "comp def \"VehiclePart\" as E2  <<(T,blue) part  def>> [[psysml:240f00ab-b9bf-457e-9376-98b0b5e156bb ]] {\r\n",
       "- - attributes - -\r\n",
       "m: MassValue\r\n",
       "}\r\n",
       "comp def \"Vehicle\" as E3  <<(T,blue) part  def>> [[psysml:240db56f-6d8c-4faf-8b3c-f8974d12918d ]] {\r\n",
       "}\r\n",
       "comp usage \"vehicle: Vehicle \" as E4  <<(T,blue) part>> [[psysml:ce00e2ad-3315-43f7-b2e6-6ce884a27309 ]] {\r\n",
       "- - attributes - -\r\n",
       "^m: MassValue\r\n",
       "}\r\n",
       "comp usage \"eng: VehiclePart \" as E5  <<(T,blue) part>> [[psysml:83fc889d-b3c1-4be4-83aa-24728b198254 ]] {\r\n",
       "- - attributes - -\r\n",
       "^m: MassValue\r\n",
       "}\r\n",
       "comp usage \"trans: VehiclePart \" as E6  <<(T,blue) part>> [[psysml:9ad03ab5-4ba7-4600-8f6c-f33bd21910a1 ]] {\r\n",
       "- - attributes - -\r\n",
       "^m: MassValue\r\n",
       "}\r\n",
       "rec def \"MassSum\" as E7  <<(T,blue) calculation  def>> [[psysml:425e038d-47d6-48b2-bd42-a030f1074fc4 ]] {\r\n",
       "portin \"partMasses\" as E8  [[psysml:b45e328f-a4a8-4519-9228-274640d6e043 ]] \r\n",
       "portout \"totalMass\" as E9  [[psysml:712f9e49-cc72-40cc-a5b0-9958e3b93d47 ]] \r\n",
       "}\r\n",
       "\r\n",
       "comp usage \"ms: MassSum \" as E10  <<(T,blue) calculation>> [[psysml:e012d373-591a-4cf2-b53b-d810c6dd562d ]] {\r\n",
       "- - parameters - -\r\n",
       "<b>in</b> partMasses= (vehicle.eng.m, vehicle.trans.m); \r\n",
       "}\r\n",
       "comp usage \"vehicles \" as E11  <<(T,blue) part>> [[psysml:e4253433-368c-4e86-8a3c-6b186419df89 ]] {\r\n",
       "}\r\n",
       "comp usage \"masses1 \" as E12  <<(T,blue) attribute>> [[psysml:03468340-4ee1-4dfd-ba23-9337b31e6caf ]] {\r\n",
       "}\r\n",
       "comp usage \"masses2 \" as E13  <<(T,blue) attribute>> [[psysml:a35488ce-7eb0-470e-9ecc-f7a0c28bc139 ]] {\r\n",
       "}\r\n",
       "}\r\n",
       "E3 - -|> E2 [[psysml:2113862d-3e36-4f2a-be29-5fbeffc35ef5 ]] \r\n",
       "E4 - -:|> E3 [[psysml:3f6bcc61-006c-4905-be22-168150e04931 ]] \r\n",
       "E4 o- - \"1\"E5 [[psysml:dfe553ed-92b1-45a3-82b1-c875cfb3cf56 ]] \r\n",
       "E5 - -:|> E2 [[psysml:7cfd1003-3fe0-4a32-a3a1-13a5c8efedf2 ]] \r\n",
       "E4 o- - \"1\"E6 [[psysml:56232501-f921-4851-b5f9-a91b366c1c7b ]] \r\n",
       "E6 - -:|> E2 [[psysml:b3767e4f-9e3f-4162-9e5b-3e184cb0e1ab ]] \r\n",
       "E10 - -:|> E7 [[psysml:650eb0f7-ec08-4309-80b6-1e90e34b9690 ]] \r\n",
       "@enduml\r\n",
       "\n",
       "PlantUML version 1.2020.13(Sat Jun 13 12:26:38 UTC 2020)\n",
       "(EPL source distribution)\n",
       "Java Runtime: OpenJDK Runtime Environment\n",
       "JVM: OpenJDK 64-Bit Server VM\n",
       "Default Encoding: UTF-8\n",
       "Language: en\n",
       "Country: null\n",
       "--></g></svg>"
      ]
     },
     "execution_count": 9,
     "metadata": {},
     "output_type": "execute_result"
    }
   ],
   "source": [
    "%viz --style=\"POLYLINE\" --view=\"Default\" \"CalculationExample\""
   ]
  },
  {
   "cell_type": "code",
   "execution_count": 10,
   "id": "8d4e3dba",
   "metadata": {
    "execution": {
     "iopub.execute_input": "2022-08-19T08:22:00.474362Z",
     "iopub.status.busy": "2022-08-19T08:22:00.473913Z",
     "iopub.status.idle": "2022-08-19T08:22:00.593211Z",
     "shell.execute_reply": "2022-08-19T08:22:00.591543Z"
    }
   },
   "outputs": [
    {
     "data": {
      "image/svg+xml": [
       "<?xml version=\"1.0\" encoding=\"UTF-8\" standalone=\"no\"?><svg xmlns=\"http://www.w3.org/2000/svg\" xmlns:xlink=\"http://www.w3.org/1999/xlink\" contentScriptType=\"application/ecmascript\" contentStyleType=\"text/css\" height=\"417px\" preserveAspectRatio=\"none\" style=\"width:813px;height:417px;\" version=\"1.1\" viewBox=\"0 0 813 417\" width=\"813px\" zoomAndPan=\"magnify\"><defs/><g><!--MD5=[fbc87193dbaf4d95561dea2c320d4a47]\n",
       "cluster E1--><a href=\"psysml:9a950c4d-df47-4bf2-a127-6824d456053c\" target=\"_top\" title=\"psysml:9a950c4d-df47-4bf2-a127-6824d456053c\" xlink:actuate=\"onRequest\" xlink:href=\"psysml:9a950c4d-df47-4bf2-a127-6824d456053c\" xlink:show=\"new\" xlink:title=\"psysml:9a950c4d-df47-4bf2-a127-6824d456053c\" xlink:type=\"simple\"><polygon fill=\"#FFFFFF\" points=\"16,6,155,6,162,28.2969,791,28.2969,791,405,16,405,16,6\" style=\"stroke: #000000; stroke-width: 1.5;\"/><line style=\"stroke: #000000; stroke-width: 1.5;\" x1=\"16\" x2=\"162\" y1=\"28.2969\" y2=\"28.2969\"/><text fill=\"#000000\" font-family=\"sans-serif\" font-size=\"14\" font-weight=\"bold\" lengthAdjust=\"spacingAndGlyphs\" textLength=\"133\" x=\"20\" y=\"20.9951\">CalculationExample</text></a><!--MD5=[b4997ac47864f28c2f74865a473b2911]\n",
       "class E2--><a href=\"psysml:240f00ab-b9bf-457e-9376-98b0b5e156bb\" target=\"_top\" title=\"psysml:240f00ab-b9bf-457e-9376-98b0b5e156bb\" xlink:actuate=\"onRequest\" xlink:href=\"psysml:240f00ab-b9bf-457e-9376-98b0b5e156bb\" xlink:show=\"new\" xlink:title=\"psysml:240f00ab-b9bf-457e-9376-98b0b5e156bb\" xlink:type=\"simple\"><rect fill=\"#FFFFFF\" height=\"75.5469\" id=\"E2\" style=\"stroke: #383838; stroke-width: 1.5;\" width=\"92\" x=\"515\" y=\"313\"/><text fill=\"#000000\" font-family=\"sans-serif\" font-size=\"12\" font-style=\"italic\" lengthAdjust=\"spacingAndGlyphs\" textLength=\"68\" x=\"527\" y=\"329.1387\">«part  def»</text><text fill=\"#000000\" font-family=\"sans-serif\" font-size=\"12\" lengthAdjust=\"spacingAndGlyphs\" textLength=\"71\" x=\"525.5\" y=\"343.1074\">VehiclePart</text><line style=\"stroke: #383838; stroke-width: 1.5;\" x1=\"516\" x2=\"606\" y1=\"350.9375\" y2=\"350.9375\"/><text fill=\"#000000\" font-family=\"sans-serif\" font-size=\"11\" lengthAdjust=\"spacingAndGlyphs\" textLength=\"80\" x=\"521\" y=\"381.9526\">m: MassValue</text><line style=\"stroke: #383838; stroke-width: 1.0;\" x1=\"516\" x2=\"533.5\" y1=\"365.3398\" y2=\"365.3398\"/><text fill=\"#000000\" font-family=\"sans-serif\" font-size=\"11\" lengthAdjust=\"spacingAndGlyphs\" textLength=\"55\" x=\"533.5\" y=\"368.6479\">attributes</text><line style=\"stroke: #383838; stroke-width: 1.0;\" x1=\"588.5\" x2=\"606\" y1=\"365.3398\" y2=\"365.3398\"/></a><!--MD5=[09b614a08d8cba4a07c9adeb5e0fee81]\n",
       "class E3--><a href=\"psysml:240db56f-6d8c-4faf-8b3c-f8974d12918d\" target=\"_top\" title=\"psysml:240db56f-6d8c-4faf-8b3c-f8974d12918d\" xlink:actuate=\"onRequest\" xlink:href=\"psysml:240db56f-6d8c-4faf-8b3c-f8974d12918d\" xlink:show=\"new\" xlink:title=\"psysml:240db56f-6d8c-4faf-8b3c-f8974d12918d\" xlink:type=\"simple\"><rect fill=\"#FFFFFF\" height=\"45.9375\" id=\"E3\" style=\"stroke: #383838; stroke-width: 1.5;\" width=\"70\" x=\"399\" y=\"192\"/><text fill=\"#000000\" font-family=\"sans-serif\" font-size=\"12\" font-style=\"italic\" lengthAdjust=\"spacingAndGlyphs\" textLength=\"68\" x=\"400\" y=\"208.1387\">«part  def»</text><text fill=\"#000000\" font-family=\"sans-serif\" font-size=\"12\" lengthAdjust=\"spacingAndGlyphs\" textLength=\"45\" x=\"411.5\" y=\"222.1074\">Vehicle</text><line style=\"stroke: #383838; stroke-width: 1.5;\" x1=\"400\" x2=\"468\" y1=\"229.9375\" y2=\"229.9375\"/></a><!--MD5=[ebbe1d658d1005bcc118a6aa81145e00]\n",
       "class E4--><a href=\"psysml:ce00e2ad-3315-43f7-b2e6-6ce884a27309\" target=\"_top\" title=\"psysml:ce00e2ad-3315-43f7-b2e6-6ce884a27309\" xlink:actuate=\"onRequest\" xlink:href=\"psysml:ce00e2ad-3315-43f7-b2e6-6ce884a27309\" xlink:show=\"new\" xlink:title=\"psysml:ce00e2ad-3315-43f7-b2e6-6ce884a27309\" xlink:type=\"simple\"><rect fill=\"#FFFFFF\" height=\"75.5469\" id=\"E4\" rx=\"10\" ry=\"10\" style=\"stroke: #383838; stroke-width: 1.5;\" width=\"106\" x=\"669\" y=\"41\"/><text fill=\"#000000\" font-family=\"sans-serif\" font-size=\"12\" font-style=\"italic\" lengthAdjust=\"spacingAndGlyphs\" textLength=\"40\" x=\"702\" y=\"57.1387\">«part»</text><text fill=\"#000000\" font-family=\"sans-serif\" font-size=\"12\" lengthAdjust=\"spacingAndGlyphs\" textLength=\"96\" x=\"672\" y=\"71.1074\">vehicle: Vehicle</text><line style=\"stroke: #383838; stroke-width: 1.5;\" x1=\"670\" x2=\"774\" y1=\"78.9375\" y2=\"78.9375\"/><text fill=\"#000000\" font-family=\"sans-serif\" font-size=\"11\" lengthAdjust=\"spacingAndGlyphs\" textLength=\"89\" x=\"675\" y=\"109.9526\">^m: MassValue</text><line style=\"stroke: #383838; stroke-width: 1.0;\" x1=\"670\" x2=\"694.5\" y1=\"93.3398\" y2=\"93.3398\"/><text fill=\"#000000\" font-family=\"sans-serif\" font-size=\"11\" lengthAdjust=\"spacingAndGlyphs\" textLength=\"55\" x=\"694.5\" y=\"96.6479\">attributes</text><line style=\"stroke: #383838; stroke-width: 1.0;\" x1=\"749.5\" x2=\"774\" y1=\"93.3398\" y2=\"93.3398\"/></a><!--MD5=[270fce915f116d4de14055a7c1d9a0f3]\n",
       "class E5--><a href=\"psysml:83fc889d-b3c1-4be4-83aa-24728b198254\" target=\"_top\" title=\"psysml:83fc889d-b3c1-4be4-83aa-24728b198254\" xlink:actuate=\"onRequest\" xlink:href=\"psysml:83fc889d-b3c1-4be4-83aa-24728b198254\" xlink:show=\"new\" xlink:title=\"psysml:83fc889d-b3c1-4be4-83aa-24728b198254\" xlink:type=\"simple\"><rect fill=\"#FFFFFF\" height=\"75.5469\" id=\"E5\" rx=\"10\" ry=\"10\" style=\"stroke: #383838; stroke-width: 1.5;\" width=\"113\" x=\"504.5\" y=\"177\"/><text fill=\"#000000\" font-family=\"sans-serif\" font-size=\"12\" font-style=\"italic\" lengthAdjust=\"spacingAndGlyphs\" textLength=\"40\" x=\"541\" y=\"193.1387\">«part»</text><text fill=\"#000000\" font-family=\"sans-serif\" font-size=\"12\" lengthAdjust=\"spacingAndGlyphs\" textLength=\"103\" x=\"507.5\" y=\"207.1074\">eng: VehiclePart</text><line style=\"stroke: #383838; stroke-width: 1.5;\" x1=\"505.5\" x2=\"616.5\" y1=\"214.9375\" y2=\"214.9375\"/><text fill=\"#000000\" font-family=\"sans-serif\" font-size=\"11\" lengthAdjust=\"spacingAndGlyphs\" textLength=\"89\" x=\"510.5\" y=\"245.9526\">^m: MassValue</text><line style=\"stroke: #383838; stroke-width: 1.0;\" x1=\"505.5\" x2=\"533.5\" y1=\"229.3398\" y2=\"229.3398\"/><text fill=\"#000000\" font-family=\"sans-serif\" font-size=\"11\" lengthAdjust=\"spacingAndGlyphs\" textLength=\"55\" x=\"533.5\" y=\"232.6479\">attributes</text><line style=\"stroke: #383838; stroke-width: 1.0;\" x1=\"588.5\" x2=\"616.5\" y1=\"229.3398\" y2=\"229.3398\"/></a><!--MD5=[60a26617385b1d2d0262a64233df1f8d]\n",
       "class E6--><a href=\"psysml:9ad03ab5-4ba7-4600-8f6c-f33bd21910a1\" target=\"_top\" title=\"psysml:9ad03ab5-4ba7-4600-8f6c-f33bd21910a1\" xlink:actuate=\"onRequest\" xlink:href=\"psysml:9ad03ab5-4ba7-4600-8f6c-f33bd21910a1\" xlink:show=\"new\" xlink:title=\"psysml:9ad03ab5-4ba7-4600-8f6c-f33bd21910a1\" xlink:type=\"simple\"><rect fill=\"#FFFFFF\" height=\"75.5469\" id=\"E6\" rx=\"10\" ry=\"10\" style=\"stroke: #383838; stroke-width: 1.5;\" width=\"122\" x=\"653\" y=\"177\"/><text fill=\"#000000\" font-family=\"sans-serif\" font-size=\"12\" font-style=\"italic\" lengthAdjust=\"spacingAndGlyphs\" textLength=\"40\" x=\"694\" y=\"193.1387\">«part»</text><text fill=\"#000000\" font-family=\"sans-serif\" font-size=\"12\" lengthAdjust=\"spacingAndGlyphs\" textLength=\"112\" x=\"656\" y=\"207.1074\">trans: VehiclePart</text><line style=\"stroke: #383838; stroke-width: 1.5;\" x1=\"654\" x2=\"774\" y1=\"214.9375\" y2=\"214.9375\"/><text fill=\"#000000\" font-family=\"sans-serif\" font-size=\"11\" lengthAdjust=\"spacingAndGlyphs\" textLength=\"89\" x=\"659\" y=\"245.9526\">^m: MassValue</text><line style=\"stroke: #383838; stroke-width: 1.0;\" x1=\"654\" x2=\"686.5\" y1=\"229.3398\" y2=\"229.3398\"/><text fill=\"#000000\" font-family=\"sans-serif\" font-size=\"11\" lengthAdjust=\"spacingAndGlyphs\" textLength=\"55\" x=\"686.5\" y=\"232.6479\">attributes</text><line style=\"stroke: #383838; stroke-width: 1.0;\" x1=\"741.5\" x2=\"774\" y1=\"229.3398\" y2=\"229.3398\"/></a><!--MD5=[2156ba9850f5573cc1fc38a6a4b2f02b]\n",
       "class E7--><a href=\"psysml:425e038d-47d6-48b2-bd42-a030f1074fc4\" target=\"_top\" title=\"psysml:425e038d-47d6-48b2-bd42-a030f1074fc4\" xlink:actuate=\"onRequest\" xlink:href=\"psysml:425e038d-47d6-48b2-bd42-a030f1074fc4\" xlink:show=\"new\" xlink:title=\"psysml:425e038d-47d6-48b2-bd42-a030f1074fc4\" xlink:type=\"simple\"><rect fill=\"#FFFFFF\" height=\"45.9375\" id=\"E7\" style=\"stroke: #383838; stroke-width: 1.5;\" width=\"112\" x=\"252\" y=\"192\"/><text fill=\"#000000\" font-family=\"sans-serif\" font-size=\"12\" font-style=\"italic\" lengthAdjust=\"spacingAndGlyphs\" textLength=\"110\" x=\"253\" y=\"208.1387\">«calculation  def»</text><text fill=\"#000000\" font-family=\"sans-serif\" font-size=\"12\" lengthAdjust=\"spacingAndGlyphs\" textLength=\"59\" x=\"278.5\" y=\"222.1074\">MassSum</text><line style=\"stroke: #383838; stroke-width: 1.5;\" x1=\"253\" x2=\"363\" y1=\"229.9375\" y2=\"229.9375\"/></a><!--MD5=[b9389687b975829384b498ac4b7476b2]\n",
       "class E8--><a href=\"psysml:e012d373-591a-4cf2-b53b-d810c6dd562d\" target=\"_top\" title=\"psysml:e012d373-591a-4cf2-b53b-d810c6dd562d\" xlink:actuate=\"onRequest\" xlink:href=\"psysml:e012d373-591a-4cf2-b53b-d810c6dd562d\" xlink:show=\"new\" xlink:title=\"psysml:e012d373-591a-4cf2-b53b-d810c6dd562d\" xlink:type=\"simple\"><rect fill=\"#FFFFFF\" height=\"75.5469\" id=\"E8\" rx=\"10\" ry=\"10\" style=\"stroke: #383838; stroke-width: 1.5;\" width=\"293\" x=\"340.5\" y=\"41\"/><text fill=\"#000000\" font-family=\"sans-serif\" font-size=\"12\" font-style=\"italic\" lengthAdjust=\"spacingAndGlyphs\" textLength=\"82\" x=\"446\" y=\"57.1387\">«calculation»</text><text fill=\"#000000\" font-family=\"sans-serif\" font-size=\"12\" lengthAdjust=\"spacingAndGlyphs\" textLength=\"85\" x=\"442.5\" y=\"71.1074\">ms: MassSum</text><line style=\"stroke: #383838; stroke-width: 1.5;\" x1=\"341.5\" x2=\"632.5\" y1=\"78.9375\" y2=\"78.9375\"/><text fill=\"#000000\" font-family=\"sans-serif\" font-size=\"11\" font-weight=\"bold\" lengthAdjust=\"spacingAndGlyphs\" textLength=\"10\" x=\"346.5\" y=\"109.9526\">in</text><text fill=\"#000000\" font-family=\"sans-serif\" font-size=\"11\" lengthAdjust=\"spacingAndGlyphs\" textLength=\"267\" x=\"360.5\" y=\"109.9526\">partMasses= (vehicle.eng.m, vehicle.trans.m);</text><line style=\"stroke: #383838; stroke-width: 1.0;\" x1=\"341.5\" x2=\"453.5\" y1=\"93.3398\" y2=\"93.3398\"/><text fill=\"#000000\" font-family=\"sans-serif\" font-size=\"11\" lengthAdjust=\"spacingAndGlyphs\" textLength=\"67\" x=\"453.5\" y=\"96.6479\">parameters</text><line style=\"stroke: #383838; stroke-width: 1.0;\" x1=\"520.5\" x2=\"632.5\" y1=\"93.3398\" y2=\"93.3398\"/></a><!--MD5=[fd4143e9d270a159db93a4ea2a975926]\n",
       "class E9--><a href=\"psysml:e4253433-368c-4e86-8a3c-6b186419df89\" target=\"_top\" title=\"psysml:e4253433-368c-4e86-8a3c-6b186419df89\" xlink:actuate=\"onRequest\" xlink:href=\"psysml:e4253433-368c-4e86-8a3c-6b186419df89\" xlink:show=\"new\" xlink:title=\"psysml:e4253433-368c-4e86-8a3c-6b186419df89\" xlink:type=\"simple\"><rect fill=\"#FFFFFF\" height=\"45.9375\" id=\"E9\" rx=\"10\" ry=\"10\" style=\"stroke: #383838; stroke-width: 1.5;\" width=\"60\" x=\"245\" y=\"56\"/><text fill=\"#000000\" font-family=\"sans-serif\" font-size=\"12\" font-style=\"italic\" lengthAdjust=\"spacingAndGlyphs\" textLength=\"40\" x=\"255\" y=\"72.1387\">«part»</text><text fill=\"#000000\" font-family=\"sans-serif\" font-size=\"12\" lengthAdjust=\"spacingAndGlyphs\" textLength=\"50\" x=\"248\" y=\"86.1074\">vehicles</text><line style=\"stroke: #383838; stroke-width: 1.5;\" x1=\"246\" x2=\"304\" y1=\"93.9375\" y2=\"93.9375\"/></a><!--MD5=[96f4274e9e20536e775497830990834d]\n",
       "class E10--><a href=\"psysml:03468340-4ee1-4dfd-ba23-9337b31e6caf\" target=\"_top\" title=\"psysml:03468340-4ee1-4dfd-ba23-9337b31e6caf\" xlink:actuate=\"onRequest\" xlink:href=\"psysml:03468340-4ee1-4dfd-ba23-9337b31e6caf\" xlink:show=\"new\" xlink:title=\"psysml:03468340-4ee1-4dfd-ba23-9337b31e6caf\" xlink:type=\"simple\"><rect fill=\"#FFFFFF\" height=\"45.9375\" id=\"E10\" rx=\"10\" ry=\"10\" style=\"stroke: #383838; stroke-width: 1.5;\" width=\"71\" x=\"138.5\" y=\"56\"/><text fill=\"#000000\" font-family=\"sans-serif\" font-size=\"12\" font-style=\"italic\" lengthAdjust=\"spacingAndGlyphs\" textLength=\"69\" x=\"139.5\" y=\"72.1387\">«attribute»</text><text fill=\"#000000\" font-family=\"sans-serif\" font-size=\"12\" lengthAdjust=\"spacingAndGlyphs\" textLength=\"56\" x=\"144\" y=\"86.1074\">masses1</text><line style=\"stroke: #383838; stroke-width: 1.5;\" x1=\"139.5\" x2=\"208.5\" y1=\"93.9375\" y2=\"93.9375\"/></a><!--MD5=[1dd1bfd58a279cf63c5f349dbc8fc6a1]\n",
       "class E11--><a href=\"psysml:a35488ce-7eb0-470e-9ecc-f7a0c28bc139\" target=\"_top\" title=\"psysml:a35488ce-7eb0-470e-9ecc-f7a0c28bc139\" xlink:actuate=\"onRequest\" xlink:href=\"psysml:a35488ce-7eb0-470e-9ecc-f7a0c28bc139\" xlink:show=\"new\" xlink:title=\"psysml:a35488ce-7eb0-470e-9ecc-f7a0c28bc139\" xlink:type=\"simple\"><rect fill=\"#FFFFFF\" height=\"45.9375\" id=\"E11\" rx=\"10\" ry=\"10\" style=\"stroke: #383838; stroke-width: 1.5;\" width=\"71\" x=\"32.5\" y=\"56\"/><text fill=\"#000000\" font-family=\"sans-serif\" font-size=\"12\" font-style=\"italic\" lengthAdjust=\"spacingAndGlyphs\" textLength=\"69\" x=\"33.5\" y=\"72.1387\">«attribute»</text><text fill=\"#000000\" font-family=\"sans-serif\" font-size=\"12\" lengthAdjust=\"spacingAndGlyphs\" textLength=\"56\" x=\"38\" y=\"86.1074\">masses2</text><line style=\"stroke: #383838; stroke-width: 1.5;\" x1=\"33.5\" x2=\"102.5\" y1=\"93.9375\" y2=\"93.9375\"/></a><!--MD5=[05d275557350bfb9b23a4ef7222b4c39]\n",
       "link E3 to E2--><a href=\"psysml:2113862d-3e36-4f2a-be29-5fbeffc35ef5\" target=\"_top\" title=\"psysml:2113862d-3e36-4f2a-be29-5fbeffc35ef5\" xlink:actuate=\"onRequest\" xlink:href=\"psysml:2113862d-3e36-4f2a-be29-5fbeffc35ef5\" xlink:show=\"new\" xlink:title=\"psysml:2113862d-3e36-4f2a-be29-5fbeffc35ef5\" xlink:type=\"simple\"><path d=\"M454.97,238.13 C470.45,254.46 492.16,277.37 511.91,298.21 \" fill=\"none\" id=\"E3-&gt;E2\" style=\"stroke: #383838; stroke-width: 1.0;\"/><polygon fill=\"none\" points=\"517.15,293.56,525.83,312.89,506.99,303.19,517.15,293.56\" style=\"stroke: #383838; stroke-width: 1.0;\"/></a><!--MD5=[f0cdf4548168e5211fb3a02bf679d63a]\n",
       "link E4 to E3--><a href=\"psysml:3f6bcc61-006c-4905-be22-168150e04931\" target=\"_top\" title=\"psysml:3f6bcc61-006c-4905-be22-168150e04931\" xlink:actuate=\"onRequest\" xlink:href=\"psysml:3f6bcc61-006c-4905-be22-168150e04931\" xlink:show=\"new\" xlink:title=\"psysml:3f6bcc61-006c-4905-be22-168150e04931\" xlink:type=\"simple\"><path d=\"M668.92,107.66 C658.64,113.02 651,117 651,117 C651,117 487,177 487,177 C487,177 485.23,178.24 482.33,180.26 \" fill=\"none\" id=\"E4-&gt;E3\" style=\"stroke: #383838; stroke-width: 1.0;\"/><polygon fill=\"#FFFFFF\" points=\"465.75,191.84,477.3265,175.2272,485.3375,186.7086,465.75,191.84\" style=\"stroke: #383838; stroke-width: 1.0;\"/><ellipse cx=\"483.1455\" cy=\"173.6058\" fill=\"#383838\" rx=\"2\" ry=\"2\" style=\"stroke: #383838; stroke-width: 1.0;\"/><ellipse cx=\"488.8676\" cy=\"181.8068\" fill=\"#383838\" rx=\"2\" ry=\"2\" style=\"stroke: #383838; stroke-width: 1.0;\"/></a><!--MD5=[62aa6af11e70f752912c1cb0466f24f7]\n",
       "reverse link E4 to E5--><a href=\"psysml:dfe553ed-92b1-45a3-82b1-c875cfb3cf56\" target=\"_top\" title=\"psysml:dfe553ed-92b1-45a3-82b1-c875cfb3cf56\" xlink:actuate=\"onRequest\" xlink:href=\"psysml:dfe553ed-92b1-45a3-82b1-c875cfb3cf56\" xlink:show=\"new\" xlink:title=\"psysml:dfe553ed-92b1-45a3-82b1-c875cfb3cf56\" xlink:type=\"simple\"><path d=\"M666.94,125.83 C646.93,142.48 624.59,161.07 605.61,176.87 \" fill=\"none\" id=\"E4&lt;-E5\" style=\"stroke: #383838; stroke-width: 1.0;\"/><polygon fill=\"#FFFFFF\" points=\"677.15,117.33,669.9796,118.0952,667.9281,125.0083,675.0985,124.2431,677.15,117.33\" style=\"stroke: #383838; stroke-width: 1.0;\"/><text fill=\"#000000\" font-family=\"sans-serif\" font-size=\"13\" lengthAdjust=\"spacingAndGlyphs\" textLength=\"8\" x=\"604.8437\" y=\"165.8612\">1</text></a><!--MD5=[15ebcb19ae302d9b601edb458606d402]\n",
       "link E5 to E2--><a href=\"psysml:7cfd1003-3fe0-4a32-a3a1-13a5c8efedf2\" target=\"_top\" title=\"psysml:7cfd1003-3fe0-4a32-a3a1-13a5c8efedf2\" xlink:actuate=\"onRequest\" xlink:href=\"psysml:7cfd1003-3fe0-4a32-a3a1-13a5c8efedf2\" xlink:show=\"new\" xlink:title=\"psysml:7cfd1003-3fe0-4a32-a3a1-13a5c8efedf2\" xlink:type=\"simple\"><path d=\"M561,253.33 C561,265.52 561,279.36 561,292.68 \" fill=\"none\" id=\"E5-&gt;E2\" style=\"stroke: #383838; stroke-width: 1.0;\"/><polygon fill=\"#FFFFFF\" points=\"561,312.87,554,293.87,568,293.87,561,312.87\" style=\"stroke: #383838; stroke-width: 1.0;\"/><ellipse cx=\"556\" cy=\"288.17\" fill=\"#383838\" rx=\"2\" ry=\"2\" style=\"stroke: #383838; stroke-width: 1.0;\"/><ellipse cx=\"566\" cy=\"288.17\" fill=\"#383838\" rx=\"2\" ry=\"2\" style=\"stroke: #383838; stroke-width: 1.0;\"/></a><!--MD5=[6db378b65e1aef66a01cb3103812b399]\n",
       "reverse link E4 to E6--><a href=\"psysml:56232501-f921-4851-b5f9-a91b366c1c7b\" target=\"_top\" title=\"psysml:56232501-f921-4851-b5f9-a91b366c1c7b\" xlink:actuate=\"onRequest\" xlink:href=\"psysml:56232501-f921-4851-b5f9-a91b366c1c7b\" xlink:show=\"new\" xlink:title=\"psysml:56232501-f921-4851-b5f9-a91b366c1c7b\" xlink:type=\"simple\"><path d=\"M718.99,130.46 C718.07,145.87 717.07,162.52 716.22,176.87 \" fill=\"none\" id=\"E4&lt;-E6\" style=\"stroke: #383838; stroke-width: 1.0;\"/><polygon fill=\"#FFFFFF\" points=\"719.77,117.33,715.4212,123.0822,719.0584,129.3089,723.4072,123.5566,719.77,117.33\" style=\"stroke: #383838; stroke-width: 1.0;\"/><text fill=\"#000000\" font-family=\"sans-serif\" font-size=\"13\" lengthAdjust=\"spacingAndGlyphs\" textLength=\"8\" x=\"707.9029\" y=\"165.8612\">1</text></a><!--MD5=[2351f337d6de0f557b50152ba70847b5]\n",
       "link E6 to E2--><a href=\"psysml:b3767e4f-9e3f-4162-9e5b-3e184cb0e1ab\" target=\"_top\" title=\"psysml:b3767e4f-9e3f-4162-9e5b-3e184cb0e1ab\" xlink:actuate=\"onRequest\" xlink:href=\"psysml:b3767e4f-9e3f-4162-9e5b-3e184cb0e1ab\" xlink:show=\"new\" xlink:title=\"psysml:b3767e4f-9e3f-4162-9e5b-3e184cb0e1ab\" xlink:type=\"simple\"><path d=\"M671.38,253.33 C655.05,267.63 636.14,284.19 618.63,299.52 \" fill=\"none\" id=\"E6-&gt;E2\" style=\"stroke: #383838; stroke-width: 1.0;\"/><polygon fill=\"#FFFFFF\" points=\"603.39,312.87,613.0639,295.0819,622.2922,305.6099,603.39,312.87\" style=\"stroke: #383838; stroke-width: 1.0;\"/><ellipse cx=\"618.6686\" cy=\"292.8287\" fill=\"#383838\" rx=\"2\" ry=\"2\" style=\"stroke: #383838; stroke-width: 1.0;\"/><ellipse cx=\"625.2602\" cy=\"300.3487\" fill=\"#383838\" rx=\"2\" ry=\"2\" style=\"stroke: #383838; stroke-width: 1.0;\"/></a><!--MD5=[bfa3c8b0d15052fdf50ae9310b491027]\n",
       "link E8 to E7--><a href=\"psysml:650eb0f7-ec08-4309-80b6-1e90e34b9690\" target=\"_top\" title=\"psysml:650eb0f7-ec08-4309-80b6-1e90e34b9690\" xlink:actuate=\"onRequest\" xlink:href=\"psysml:650eb0f7-ec08-4309-80b6-1e90e34b9690\" xlink:show=\"new\" xlink:title=\"psysml:650eb0f7-ec08-4309-80b6-1e90e34b9690\" xlink:type=\"simple\"><path d=\"M437.14,117.33 C410.96,136.93 379.11,160.77 353.59,179.87 \" fill=\"none\" id=\"E8-&gt;E7\" style=\"stroke: #383838; stroke-width: 1.0;\"/><polygon fill=\"#FFFFFF\" points=\"337.47,191.94,348.487,174.951,356.8758,186.1594,337.47,191.94\" style=\"stroke: #383838; stroke-width: 1.0;\"/><ellipse cx=\"354.2488\" cy=\"173.1368\" fill=\"#383838\" rx=\"2\" ry=\"2\" style=\"stroke: #383838; stroke-width: 1.0;\"/><ellipse cx=\"360.2408\" cy=\"181.1428\" fill=\"#383838\" rx=\"2\" ry=\"2\" style=\"stroke: #383838; stroke-width: 1.0;\"/></a><!--MD5=[ce71be92255e3b7838d873e59cdec24c]\n",
       "@startuml\r\n",
       "skinparam linetype polyline\r\n",
       "skinparam monochrome true\r\n",
       "skinparam classbackgroundcolor white\r\n",
       "skinparam shadowing false\r\n",
       "skinparam wrapWidth 300\r\n",
       "hide circle\r\n",
       "\r\n",
       "package \"CalculationExample\" as E1  [[psysml:9a950c4d-df47-4bf2-a127-6824d456053c ]]  {\r\n",
       "comp def \"VehiclePart\" as E2  <<(T,blue) part  def>> [[psysml:240f00ab-b9bf-457e-9376-98b0b5e156bb ]] {\r\n",
       "- - attributes - -\r\n",
       "m: MassValue\r\n",
       "}\r\n",
       "comp def \"Vehicle\" as E3  <<(T,blue) part  def>> [[psysml:240db56f-6d8c-4faf-8b3c-f8974d12918d ]] {\r\n",
       "}\r\n",
       "comp usage \"vehicle: Vehicle \" as E4  <<(T,blue) part>> [[psysml:ce00e2ad-3315-43f7-b2e6-6ce884a27309 ]] {\r\n",
       "- - attributes - -\r\n",
       "^m: MassValue\r\n",
       "}\r\n",
       "comp usage \"eng: VehiclePart \" as E5  <<(T,blue) part>> [[psysml:83fc889d-b3c1-4be4-83aa-24728b198254 ]] {\r\n",
       "- - attributes - -\r\n",
       "^m: MassValue\r\n",
       "}\r\n",
       "comp usage \"trans: VehiclePart \" as E6  <<(T,blue) part>> [[psysml:9ad03ab5-4ba7-4600-8f6c-f33bd21910a1 ]] {\r\n",
       "- - attributes - -\r\n",
       "^m: MassValue\r\n",
       "}\r\n",
       "comp def \"MassSum\" as E7  <<(T,blue) calculation  def>> [[psysml:425e038d-47d6-48b2-bd42-a030f1074fc4 ]] {\r\n",
       "}\r\n",
       "comp usage \"ms: MassSum \" as E8  <<(T,blue) calculation>> [[psysml:e012d373-591a-4cf2-b53b-d810c6dd562d ]] {\r\n",
       "- - parameters - -\r\n",
       "<b>in</b> partMasses= (vehicle.eng.m, vehicle.trans.m); \r\n",
       "}\r\n",
       "comp usage \"vehicles \" as E9  <<(T,blue) part>> [[psysml:e4253433-368c-4e86-8a3c-6b186419df89 ]] {\r\n",
       "}\r\n",
       "comp usage \"masses1 \" as E10  <<(T,blue) attribute>> [[psysml:03468340-4ee1-4dfd-ba23-9337b31e6caf ]] {\r\n",
       "}\r\n",
       "comp usage \"masses2 \" as E11  <<(T,blue) attribute>> [[psysml:a35488ce-7eb0-470e-9ecc-f7a0c28bc139 ]] {\r\n",
       "}\r\n",
       "}\r\n",
       "E3 - -|> E2 [[psysml:2113862d-3e36-4f2a-be29-5fbeffc35ef5 ]] \r\n",
       "E4 - -:|> E3 [[psysml:3f6bcc61-006c-4905-be22-168150e04931 ]] \r\n",
       "E4 o- - \"1\"E5 [[psysml:dfe553ed-92b1-45a3-82b1-c875cfb3cf56 ]] \r\n",
       "E5 - -:|> E2 [[psysml:7cfd1003-3fe0-4a32-a3a1-13a5c8efedf2 ]] \r\n",
       "E4 o- - \"1\"E6 [[psysml:56232501-f921-4851-b5f9-a91b366c1c7b ]] \r\n",
       "E6 - -:|> E2 [[psysml:b3767e4f-9e3f-4162-9e5b-3e184cb0e1ab ]] \r\n",
       "E8 - -:|> E7 [[psysml:650eb0f7-ec08-4309-80b6-1e90e34b9690 ]] \r\n",
       "@enduml\r\n",
       "\n",
       "PlantUML version 1.2020.13(Sat Jun 13 12:26:38 UTC 2020)\n",
       "(EPL source distribution)\n",
       "Java Runtime: OpenJDK Runtime Environment\n",
       "JVM: OpenJDK 64-Bit Server VM\n",
       "Default Encoding: UTF-8\n",
       "Language: en\n",
       "Country: null\n",
       "--></g></svg>"
      ]
     },
     "execution_count": 10,
     "metadata": {},
     "output_type": "execute_result"
    }
   ],
   "source": [
    "%viz --style=\"POLYLINE\" --view=\"Tree\" \"CalculationExample\""
   ]
  },
  {
   "cell_type": "code",
   "execution_count": 11,
   "id": "b0a2fa96",
   "metadata": {
    "execution": {
     "iopub.execute_input": "2022-08-19T08:22:00.642388Z",
     "iopub.status.busy": "2022-08-19T08:22:00.641908Z",
     "iopub.status.idle": "2022-08-19T08:22:00.651156Z",
     "shell.execute_reply": "2022-08-19T08:22:00.651460Z"
    }
   },
   "outputs": [
    {
     "data": {
      "image/svg+xml": [
       "<?xml version=\"1.0\" encoding=\"UTF-8\" standalone=\"no\"?><svg xmlns=\"http://www.w3.org/2000/svg\" xmlns:xlink=\"http://www.w3.org/1999/xlink\" contentScriptType=\"application/ecmascript\" contentStyleType=\"text/css\" height=\"12px\" preserveAspectRatio=\"none\" style=\"width:12px;height:12px;\" version=\"1.1\" viewBox=\"0 0 12 12\" width=\"12px\" zoomAndPan=\"magnify\"><defs/><g><!--MD5=[896ac0e7a515d8dd7765a661cb4ee08b]\n",
       "@startuml\r\n",
       "skinparam linetype polyline\r\n",
       "skinparam monochrome true\r\n",
       "skinparam classbackgroundcolor white\r\n",
       "skinparam shadowing false\r\n",
       "skinparam wrapWidth 300\r\n",
       "hide circle\r\n",
       "\r\n",
       "@enduml\r\n",
       "\n",
       "PlantUML version 1.2020.13(Sat Jun 13 12:26:38 UTC 2020)\n",
       "(EPL source distribution)\n",
       "Java Runtime: OpenJDK Runtime Environment\n",
       "JVM: OpenJDK 64-Bit Server VM\n",
       "Default Encoding: UTF-8\n",
       "Language: en\n",
       "Country: null\n",
       "--></g></svg>"
      ]
     },
     "execution_count": 11,
     "metadata": {},
     "output_type": "execute_result"
    }
   ],
   "source": [
    "%viz --style=\"POLYLINE\" --view=\"State\" \"CalculationExample\""
   ]
  },
  {
   "cell_type": "code",
   "execution_count": 12,
   "id": "fdd4057f",
   "metadata": {
    "execution": {
     "iopub.execute_input": "2022-08-19T08:22:00.701434Z",
     "iopub.status.busy": "2022-08-19T08:22:00.700973Z",
     "iopub.status.idle": "2022-08-19T08:22:00.782446Z",
     "shell.execute_reply": "2022-08-19T08:22:00.782017Z"
    }
   },
   "outputs": [
    {
     "data": {
      "image/svg+xml": [
       "<?xml version=\"1.0\" encoding=\"UTF-8\" standalone=\"no\"?><svg xmlns=\"http://www.w3.org/2000/svg\" xmlns:xlink=\"http://www.w3.org/1999/xlink\" contentScriptType=\"application/ecmascript\" contentStyleType=\"text/css\" height=\"581px\" preserveAspectRatio=\"none\" style=\"width:1649px;height:581px;\" version=\"1.1\" viewBox=\"0 0 1649 581\" width=\"1649px\" zoomAndPan=\"magnify\"><defs/><g><!--MD5=[fbc87193dbaf4d95561dea2c320d4a47]\n",
       "cluster E1--><a href=\"psysml:9a950c4d-df47-4bf2-a127-6824d456053c\" target=\"_top\" title=\"psysml:9a950c4d-df47-4bf2-a127-6824d456053c\" xlink:actuate=\"onRequest\" xlink:href=\"psysml:9a950c4d-df47-4bf2-a127-6824d456053c\" xlink:show=\"new\" xlink:title=\"psysml:9a950c4d-df47-4bf2-a127-6824d456053c\" xlink:type=\"simple\"><polygon fill=\"#FFFFFF\" points=\"16,6,155,6,162,28.2969,1627,28.2969,1627,569,16,569,16,6\" style=\"stroke: #000000; stroke-width: 1.5;\"/><line style=\"stroke: #000000; stroke-width: 1.5;\" x1=\"16\" x2=\"162\" y1=\"28.2969\" y2=\"28.2969\"/><text fill=\"#000000\" font-family=\"sans-serif\" font-size=\"14\" font-weight=\"bold\" lengthAdjust=\"spacingAndGlyphs\" textLength=\"133\" x=\"20\" y=\"20.9951\">CalculationExample</text></a><!--MD5=[e4f7fae6ed58524ba242bb0b0d3be6b7]\n",
       "cluster E2--><a href=\"psysml:240f00ab-b9bf-457e-9376-98b0b5e156bb\" target=\"_top\" title=\"psysml:240f00ab-b9bf-457e-9376-98b0b5e156bb\" xlink:actuate=\"onRequest\" xlink:href=\"psysml:240f00ab-b9bf-457e-9376-98b0b5e156bb\" xlink:show=\"new\" xlink:title=\"psysml:240f00ab-b9bf-457e-9376-98b0b5e156bb\" xlink:type=\"simple\"><rect fill=\"#FFFFFF\" height=\"129\" id=\"E2\" style=\"stroke: #383838; stroke-width: 1.5;\" width=\"163\" x=\"1169\" y=\"372\"/><rect fill=\"#F8F8F8\" height=\"37.9375\" style=\"stroke: #383838; stroke-width: 1.5;\" width=\"163\" x=\"1169\" y=\"372\"/><text fill=\"#000000\" font-family=\"sans-serif\" font-size=\"12\" font-style=\"italic\" lengthAdjust=\"spacingAndGlyphs\" textLength=\"68\" x=\"1216.5\" y=\"388.1387\">«part  def»</text><text fill=\"#000000\" font-family=\"sans-serif\" font-size=\"12\" lengthAdjust=\"spacingAndGlyphs\" textLength=\"71\" x=\"1215\" y=\"402.1074\">VehiclePart</text></a><!--MD5=[de5ec2e2e8f62f467e546659f5068c88]\n",
       "cluster E5--><a href=\"psysml:ce00e2ad-3315-43f7-b2e6-6ce884a27309\" target=\"_top\" title=\"psysml:ce00e2ad-3315-43f7-b2e6-6ce884a27309\" xlink:actuate=\"onRequest\" xlink:href=\"psysml:ce00e2ad-3315-43f7-b2e6-6ce884a27309\" xlink:show=\"new\" xlink:title=\"psysml:ce00e2ad-3315-43f7-b2e6-6ce884a27309\" xlink:type=\"simple\"><rect fill=\"#FFFFFF\" height=\"212\" id=\"E5\" rx=\"10\" ry=\"10\" style=\"stroke: #383838; stroke-width: 1.5;\" width=\"602\" x=\"993\" y=\"57\"/><rect fill=\"#F8F8F8\" height=\"23.9688\" rx=\"10\" ry=\"10\" style=\"stroke: #F8F8F8; stroke-width: 1.5;\" width=\"602\" x=\"993\" y=\"57\"/><rect fill=\"#F8F8F8\" height=\"10\" style=\"stroke: #F8F8F8; stroke-width: 1.5;\" width=\"602\" x=\"993\" y=\"70.9688\"/><rect fill=\"none\" height=\"212\" id=\"E5\" rx=\"10\" ry=\"10\" style=\"stroke: #383838; stroke-width: 1.5;\" width=\"602\" x=\"993\" y=\"57\"/><text fill=\"#000000\" font-family=\"sans-serif\" font-size=\"12\" lengthAdjust=\"spacingAndGlyphs\" textLength=\"96\" x=\"1246\" y=\"73.1387\">vehicle: Vehicle</text><line style=\"stroke: #383838; stroke-width: 1.0;\" x1=\"993\" x2=\"1595\" y1=\"80.9688\" y2=\"80.9688\"/></a><!--MD5=[14e3b0961a2654348d326746436168a1]\n",
       "cluster E6--><a href=\"psysml:83fc889d-b3c1-4be4-83aa-24728b198254\" target=\"_top\" title=\"psysml:83fc889d-b3c1-4be4-83aa-24728b198254\" xlink:actuate=\"onRequest\" xlink:href=\"psysml:83fc889d-b3c1-4be4-83aa-24728b198254\" xlink:show=\"new\" xlink:title=\"psysml:83fc889d-b3c1-4be4-83aa-24728b198254\" xlink:type=\"simple\"><rect fill=\"#FFFFFF\" height=\"113\" id=\"E6\" rx=\"10\" ry=\"10\" style=\"stroke: #383838; stroke-width: 1.5;\" width=\"173\" x=\"1169\" y=\"116\"/><rect fill=\"#F8F8F8\" height=\"23.9688\" rx=\"10\" ry=\"10\" style=\"stroke: #F8F8F8; stroke-width: 1.5;\" width=\"173\" x=\"1169\" y=\"116\"/><rect fill=\"#F8F8F8\" height=\"10\" style=\"stroke: #F8F8F8; stroke-width: 1.5;\" width=\"173\" x=\"1169\" y=\"129.9688\"/><rect fill=\"none\" height=\"113\" id=\"E6\" rx=\"10\" ry=\"10\" style=\"stroke: #383838; stroke-width: 1.5;\" width=\"173\" x=\"1169\" y=\"116\"/><text fill=\"#000000\" font-family=\"sans-serif\" font-size=\"12\" lengthAdjust=\"spacingAndGlyphs\" textLength=\"103\" x=\"1204\" y=\"132.1387\">eng: VehiclePart</text><line style=\"stroke: #383838; stroke-width: 1.0;\" x1=\"1169\" x2=\"1342\" y1=\"139.9688\" y2=\"139.9688\"/></a><!--MD5=[55dfccfc6c49c2d10cd1bd2211a6c90c]\n",
       "cluster E8--><a href=\"psysml:9ad03ab5-4ba7-4600-8f6c-f33bd21910a1\" target=\"_top\" title=\"psysml:9ad03ab5-4ba7-4600-8f6c-f33bd21910a1\" xlink:actuate=\"onRequest\" xlink:href=\"psysml:9ad03ab5-4ba7-4600-8f6c-f33bd21910a1\" xlink:show=\"new\" xlink:title=\"psysml:9ad03ab5-4ba7-4600-8f6c-f33bd21910a1\" xlink:type=\"simple\"><rect fill=\"#FFFFFF\" height=\"113\" id=\"E8\" rx=\"10\" ry=\"10\" style=\"stroke: #383838; stroke-width: 1.5;\" width=\"173\" x=\"1382\" y=\"116\"/><rect fill=\"#F8F8F8\" height=\"23.9688\" rx=\"10\" ry=\"10\" style=\"stroke: #F8F8F8; stroke-width: 1.5;\" width=\"173\" x=\"1382\" y=\"116\"/><rect fill=\"#F8F8F8\" height=\"10\" style=\"stroke: #F8F8F8; stroke-width: 1.5;\" width=\"173\" x=\"1382\" y=\"129.9688\"/><rect fill=\"none\" height=\"113\" id=\"E8\" rx=\"10\" ry=\"10\" style=\"stroke: #383838; stroke-width: 1.5;\" width=\"173\" x=\"1382\" y=\"116\"/><text fill=\"#000000\" font-family=\"sans-serif\" font-size=\"12\" lengthAdjust=\"spacingAndGlyphs\" textLength=\"112\" x=\"1412.5\" y=\"132.1387\">trans: VehiclePart</text><line style=\"stroke: #383838; stroke-width: 1.0;\" x1=\"1382\" x2=\"1555\" y1=\"139.9688\" y2=\"139.9688\"/></a><!--MD5=[917b9dd0c7eca3ee5f47219d1a84c0ad]\n",
       "cluster E11--><a href=\"psysml:425e038d-47d6-48b2-bd42-a030f1074fc4\" target=\"_top\" title=\"psysml:425e038d-47d6-48b2-bd42-a030f1074fc4\" xlink:actuate=\"onRequest\" xlink:href=\"psysml:425e038d-47d6-48b2-bd42-a030f1074fc4\" xlink:show=\"new\" xlink:title=\"psysml:425e038d-47d6-48b2-bd42-a030f1074fc4\" xlink:type=\"simple\"><rect fill=\"#FFFFFF\" height=\"349\" id=\"E11\" style=\"stroke: #383838; stroke-width: 1.5;\" width=\"186\" x=\"775\" y=\"182\"/><rect fill=\"#F8F8F8\" height=\"37.9375\" style=\"stroke: #383838; stroke-width: 1.5;\" width=\"186\" x=\"775\" y=\"182\"/><text fill=\"#000000\" font-family=\"sans-serif\" font-size=\"12\" font-style=\"italic\" lengthAdjust=\"spacingAndGlyphs\" textLength=\"110\" x=\"813\" y=\"198.1387\">«calculation  def»</text><text fill=\"#000000\" font-family=\"sans-serif\" font-size=\"12\" lengthAdjust=\"spacingAndGlyphs\" textLength=\"59\" x=\"838.5\" y=\"212.1074\">MassSum</text></a><!--MD5=[bee11217b2f71d958a27249dc326068c]\n",
       "class E14--><a href=\"psysml:e012d373-591a-4cf2-b53b-d810c6dd562d\" target=\"_top\" title=\"psysml:e012d373-591a-4cf2-b53b-d810c6dd562d\" xlink:actuate=\"onRequest\" xlink:href=\"psysml:e012d373-591a-4cf2-b53b-d810c6dd562d\" xlink:show=\"new\" xlink:title=\"psysml:e012d373-591a-4cf2-b53b-d810c6dd562d\" xlink:type=\"simple\"><rect fill=\"#FFFFFF\" height=\"75.5469\" id=\"E14\" rx=\"10\" ry=\"10\" style=\"stroke: #383838; stroke-width: 1.5;\" width=\"293\" x=\"465.5\" y=\"144\"/><text fill=\"#000000\" font-family=\"sans-serif\" font-size=\"12\" font-style=\"italic\" lengthAdjust=\"spacingAndGlyphs\" textLength=\"82\" x=\"571\" y=\"160.1387\">«calculation»</text><text fill=\"#000000\" font-family=\"sans-serif\" font-size=\"12\" lengthAdjust=\"spacingAndGlyphs\" textLength=\"85\" x=\"567.5\" y=\"174.1074\">ms: MassSum</text><line style=\"stroke: #383838; stroke-width: 1.5;\" x1=\"466.5\" x2=\"757.5\" y1=\"181.9375\" y2=\"181.9375\"/><text fill=\"#000000\" font-family=\"sans-serif\" font-size=\"11\" font-weight=\"bold\" lengthAdjust=\"spacingAndGlyphs\" textLength=\"10\" x=\"471.5\" y=\"212.9526\">in</text><text fill=\"#000000\" font-family=\"sans-serif\" font-size=\"11\" lengthAdjust=\"spacingAndGlyphs\" textLength=\"267\" x=\"485.5\" y=\"212.9526\">partMasses= (vehicle.eng.m, vehicle.trans.m);</text><line style=\"stroke: #383838; stroke-width: 1.0;\" x1=\"466.5\" x2=\"578.5\" y1=\"196.3398\" y2=\"196.3398\"/><text fill=\"#000000\" font-family=\"sans-serif\" font-size=\"11\" lengthAdjust=\"spacingAndGlyphs\" textLength=\"67\" x=\"578.5\" y=\"199.6479\">parameters</text><line style=\"stroke: #383838; stroke-width: 1.0;\" x1=\"645.5\" x2=\"757.5\" y1=\"196.3398\" y2=\"196.3398\"/></a><!--MD5=[35f0587eaee8d5bb9a02e25b63afc23b]\n",
       "class E16--><a href=\"psysml:03468340-4ee1-4dfd-ba23-9337b31e6caf\" target=\"_top\" title=\"psysml:03468340-4ee1-4dfd-ba23-9337b31e6caf\" xlink:actuate=\"onRequest\" xlink:href=\"psysml:03468340-4ee1-4dfd-ba23-9337b31e6caf\" xlink:show=\"new\" xlink:title=\"psysml:03468340-4ee1-4dfd-ba23-9337b31e6caf\" xlink:type=\"simple\"><rect fill=\"#FFFFFF\" height=\"45.9375\" id=\"E16\" rx=\"10\" ry=\"10\" style=\"stroke: #383838; stroke-width: 1.5;\" width=\"71\" x=\"359.5\" y=\"159\"/><text fill=\"#000000\" font-family=\"sans-serif\" font-size=\"12\" font-style=\"italic\" lengthAdjust=\"spacingAndGlyphs\" textLength=\"69\" x=\"360.5\" y=\"175.1387\">«attribute»</text><text fill=\"#000000\" font-family=\"sans-serif\" font-size=\"12\" lengthAdjust=\"spacingAndGlyphs\" textLength=\"56\" x=\"365\" y=\"189.1074\">masses1</text><line style=\"stroke: #383838; stroke-width: 1.5;\" x1=\"360.5\" x2=\"429.5\" y1=\"196.9375\" y2=\"196.9375\"/></a><!--MD5=[60e55a4a9b2f0dc0a36787c5a2095786]\n",
       "class E17--><a href=\"psysml:a35488ce-7eb0-470e-9ecc-f7a0c28bc139\" target=\"_top\" title=\"psysml:a35488ce-7eb0-470e-9ecc-f7a0c28bc139\" xlink:actuate=\"onRequest\" xlink:href=\"psysml:a35488ce-7eb0-470e-9ecc-f7a0c28bc139\" xlink:show=\"new\" xlink:title=\"psysml:a35488ce-7eb0-470e-9ecc-f7a0c28bc139\" xlink:type=\"simple\"><rect fill=\"#FFFFFF\" height=\"45.9375\" id=\"E17\" rx=\"10\" ry=\"10\" style=\"stroke: #383838; stroke-width: 1.5;\" width=\"71\" x=\"253.5\" y=\"159\"/><text fill=\"#000000\" font-family=\"sans-serif\" font-size=\"12\" font-style=\"italic\" lengthAdjust=\"spacingAndGlyphs\" textLength=\"69\" x=\"254.5\" y=\"175.1387\">«attribute»</text><text fill=\"#000000\" font-family=\"sans-serif\" font-size=\"12\" lengthAdjust=\"spacingAndGlyphs\" textLength=\"56\" x=\"259\" y=\"189.1074\">masses2</text><line style=\"stroke: #383838; stroke-width: 1.5;\" x1=\"254.5\" x2=\"323.5\" y1=\"196.9375\" y2=\"196.9375\"/></a><!--MD5=[09b614a08d8cba4a07c9adeb5e0fee81]\n",
       "class E3--><a href=\"psysml:3c3f6982-fe48-410d-a073-4745105d0bb1\" target=\"_top\" title=\"psysml:3c3f6982-fe48-410d-a073-4745105d0bb1\" xlink:actuate=\"onRequest\" xlink:href=\"psysml:3c3f6982-fe48-410d-a073-4745105d0bb1\" xlink:show=\"new\" xlink:title=\"psysml:3c3f6982-fe48-410d-a073-4745105d0bb1\" xlink:type=\"simple\"><rect fill=\"#FFFFFF\" height=\"45.9375\" id=\"E3\" rx=\"10\" ry=\"10\" style=\"stroke: #383838; stroke-width: 1.5;\" width=\"96\" x=\"1212\" y=\"431\"/><text fill=\"#000000\" font-family=\"sans-serif\" font-size=\"12\" font-style=\"italic\" lengthAdjust=\"spacingAndGlyphs\" textLength=\"69\" x=\"1225.5\" y=\"447.1387\">«attribute»</text><text fill=\"#000000\" font-family=\"sans-serif\" font-size=\"12\" lengthAdjust=\"spacingAndGlyphs\" textLength=\"86\" x=\"1215\" y=\"461.1074\">m: MassValue</text><line style=\"stroke: #383838; stroke-width: 1.5;\" x1=\"1213\" x2=\"1307\" y1=\"468.9375\" y2=\"468.9375\"/></a><g id=\"E1.E4\"><a href=\"psysml:240db56f-6d8c-4faf-8b3c-f8974d12918d\" target=\"_top\" title=\"psysml:240db56f-6d8c-4faf-8b3c-f8974d12918d\" xlink:actuate=\"onRequest\" xlink:href=\"psysml:240db56f-6d8c-4faf-8b3c-f8974d12918d\" xlink:show=\"new\" xlink:title=\"psysml:240db56f-6d8c-4faf-8b3c-f8974d12918d\" xlink:type=\"simple\"><rect fill=\"#FFFFFF\" height=\"42.9375\" id=\"E4\" style=\"stroke: #383838; stroke-width: 1.5;\" width=\"75\" x=\"1021.5\" y=\"305\"/><rect fill=\"#F8F8F8\" height=\"37.9375\" style=\"stroke: #383838; stroke-width: 1.5;\" width=\"75\" x=\"1021.5\" y=\"305\"/><text fill=\"#000000\" font-family=\"sans-serif\" font-size=\"12\" font-style=\"italic\" lengthAdjust=\"spacingAndGlyphs\" textLength=\"68\" x=\"1025\" y=\"321.1387\">«part  def»</text><text fill=\"#000000\" font-family=\"sans-serif\" font-size=\"12\" lengthAdjust=\"spacingAndGlyphs\" textLength=\"45\" x=\"1036.5\" y=\"335.1074\">Vehicle</text></a></g><!--MD5=[96f4274e9e20536e775497830990834d]\n",
       "class E10--><a href=\"psysml:3c3f6982-fe48-410d-a073-4745105d0bb1\" target=\"_top\" title=\"psysml:3c3f6982-fe48-410d-a073-4745105d0bb1\" xlink:actuate=\"onRequest\" xlink:href=\"psysml:3c3f6982-fe48-410d-a073-4745105d0bb1\" xlink:show=\"new\" xlink:title=\"psysml:3c3f6982-fe48-410d-a073-4745105d0bb1\" xlink:type=\"simple\"><rect fill=\"#FFFFFF\" height=\"45.9375\" id=\"E10\" rx=\"10\" ry=\"10\" style=\"stroke: #383838; stroke-width: 1.5;\" width=\"106\" x=\"1036\" y=\"159\"/><text fill=\"#000000\" font-family=\"sans-serif\" font-size=\"12\" font-style=\"italic\" lengthAdjust=\"spacingAndGlyphs\" textLength=\"69\" x=\"1054.5\" y=\"175.1387\">«attribute»</text><text fill=\"#000000\" font-family=\"sans-serif\" font-size=\"12\" lengthAdjust=\"spacingAndGlyphs\" textLength=\"96\" x=\"1039\" y=\"189.1074\">^m: MassValue</text><line style=\"stroke: #383838; stroke-width: 1.5;\" x1=\"1037\" x2=\"1141\" y1=\"196.9375\" y2=\"196.9375\"/></a><!--MD5=[2156ba9850f5573cc1fc38a6a4b2f02b]\n",
       "class E7--><a href=\"psysml:3c3f6982-fe48-410d-a073-4745105d0bb1\" target=\"_top\" title=\"psysml:3c3f6982-fe48-410d-a073-4745105d0bb1\" xlink:actuate=\"onRequest\" xlink:href=\"psysml:3c3f6982-fe48-410d-a073-4745105d0bb1\" xlink:show=\"new\" xlink:title=\"psysml:3c3f6982-fe48-410d-a073-4745105d0bb1\" xlink:type=\"simple\"><rect fill=\"#FFFFFF\" height=\"45.9375\" id=\"E7\" rx=\"10\" ry=\"10\" style=\"stroke: #383838; stroke-width: 1.5;\" width=\"106\" x=\"1212\" y=\"159\"/><text fill=\"#000000\" font-family=\"sans-serif\" font-size=\"12\" font-style=\"italic\" lengthAdjust=\"spacingAndGlyphs\" textLength=\"69\" x=\"1230.5\" y=\"175.1387\">«attribute»</text><text fill=\"#000000\" font-family=\"sans-serif\" font-size=\"12\" lengthAdjust=\"spacingAndGlyphs\" textLength=\"96\" x=\"1215\" y=\"189.1074\">^m: MassValue</text><line style=\"stroke: #383838; stroke-width: 1.5;\" x1=\"1213\" x2=\"1317\" y1=\"196.9375\" y2=\"196.9375\"/></a><!--MD5=[fd4143e9d270a159db93a4ea2a975926]\n",
       "class E9--><a href=\"psysml:3c3f6982-fe48-410d-a073-4745105d0bb1\" target=\"_top\" title=\"psysml:3c3f6982-fe48-410d-a073-4745105d0bb1\" xlink:actuate=\"onRequest\" xlink:href=\"psysml:3c3f6982-fe48-410d-a073-4745105d0bb1\" xlink:show=\"new\" xlink:title=\"psysml:3c3f6982-fe48-410d-a073-4745105d0bb1\" xlink:type=\"simple\"><rect fill=\"#FFFFFF\" height=\"45.9375\" id=\"E9\" rx=\"10\" ry=\"10\" style=\"stroke: #383838; stroke-width: 1.5;\" width=\"106\" x=\"1425\" y=\"159\"/><text fill=\"#000000\" font-family=\"sans-serif\" font-size=\"12\" font-style=\"italic\" lengthAdjust=\"spacingAndGlyphs\" textLength=\"69\" x=\"1443.5\" y=\"175.1387\">«attribute»</text><text fill=\"#000000\" font-family=\"sans-serif\" font-size=\"12\" lengthAdjust=\"spacingAndGlyphs\" textLength=\"96\" x=\"1428\" y=\"189.1074\">^m: MassValue</text><line style=\"stroke: #383838; stroke-width: 1.5;\" x1=\"1426\" x2=\"1530\" y1=\"196.9375\" y2=\"196.9375\"/></a><text fill=\"#000000\" font-family=\"sans-serif\" font-size=\"14\" lengthAdjust=\"spacingAndGlyphs\" textLength=\"80\" x=\"828\" y=\"160.6982\">partMasses</text><rect fill=\"#383838\" height=\"12\" style=\"stroke: #F8F8F8; stroke-width: 1.5;\" width=\"12\" x=\"862\" y=\"176\"/><text fill=\"#000000\" font-family=\"sans-serif\" font-size=\"14\" lengthAdjust=\"spacingAndGlyphs\" textLength=\"66\" x=\"835\" y=\"549.9951\">totalMass</text><rect fill=\"#383838\" height=\"12\" style=\"stroke: #F8F8F8; stroke-width: 1.5;\" width=\"12\" x=\"862\" y=\"525\"/><g id=\"E1.E15\"><a href=\"psysml:e4253433-368c-4e86-8a3c-6b186419df89\" target=\"_top\" title=\"psysml:e4253433-368c-4e86-8a3c-6b186419df89\" xlink:actuate=\"onRequest\" xlink:href=\"psysml:e4253433-368c-4e86-8a3c-6b186419df89\" xlink:show=\"new\" xlink:title=\"psysml:e4253433-368c-4e86-8a3c-6b186419df89\" xlink:type=\"simple\"><rect fill=\"#FFFFFF\" height=\"40\" id=\"E15\" rx=\"10\" ry=\"10\" style=\"stroke: #383838; stroke-width: 1.5;\" width=\"187\" x=\"31.5\" y=\"162\"/><rect fill=\"#F8F8F8\" height=\"23.9688\" rx=\"10\" ry=\"10\" style=\"stroke: #F8F8F8; stroke-width: 1.5;\" width=\"187\" x=\"31.5\" y=\"162\"/><rect fill=\"#F8F8F8\" height=\"10\" style=\"stroke: #F8F8F8; stroke-width: 1.5;\" width=\"187\" x=\"31.5\" y=\"175.9688\"/><rect fill=\"none\" height=\"40\" id=\"E15\" rx=\"10\" ry=\"10\" style=\"stroke: #383838; stroke-width: 1.5;\" width=\"187\" x=\"31.5\" y=\"162\"/><text fill=\"#000000\" font-family=\"sans-serif\" font-size=\"12\" lengthAdjust=\"spacingAndGlyphs\" textLength=\"172\" x=\"37\" y=\"178.1387\">vehicles= (vehicle, vehicle);</text></a></g><!--MD5=[185131fc0dcab0a4505a2ebe144e961b]\n",
       "link E4 to E2--><a href=\"psysml:2113862d-3e36-4f2a-be29-5fbeffc35ef5\" target=\"_top\" title=\"psysml:2113862d-3e36-4f2a-be29-5fbeffc35ef5\" xlink:actuate=\"onRequest\" xlink:href=\"psysml:2113862d-3e36-4f2a-be29-5fbeffc35ef5\" xlink:show=\"new\" xlink:title=\"psysml:2113862d-3e36-4f2a-be29-5fbeffc35ef5\" xlink:type=\"simple\"><path d=\"M1078.49,348.22 C1094.985,365.765 1119.1075,391.4225 1139.3525,412.9563 C1149.475,423.7231 1158.6281,433.4591 1165.3738,440.6345 C1166.217,441.5315 1167.0225,442.3884 1167.7877,443.2023 C1168.1703,443.6093 1168.5428,444.0055 1168.9048,444.3906 \" fill=\"none\" id=\"E4-&gt;E2\" style=\"stroke: #383838; stroke-width: 1.0;\"/><polygon fill=\"#FFFFFF\" points=\"1168.9048,444.3906,1160.9912,425.7526,1150.7908,435.3417,1168.9048,444.3906\" style=\"stroke: #383838; stroke-width: 1.0;\"/></a><!--MD5=[2351f337d6de0f557b50152ba70847b5]\n",
       "link E6 to E2--><a href=\"psysml:7cfd1003-3fe0-4a32-a3a1-13a5c8efedf2\" target=\"_top\" title=\"psysml:7cfd1003-3fe0-4a32-a3a1-13a5c8efedf2\" xlink:actuate=\"onRequest\" xlink:href=\"psysml:7cfd1003-3fe0-4a32-a3a1-13a5c8efedf2\" xlink:show=\"new\" xlink:title=\"psysml:7cfd1003-3fe0-4a32-a3a1-13a5c8efedf2\" xlink:type=\"simple\"><path d=\"M1177,229.9775 C1177,230.3824 1177,230.7892 1177,231.1978 C1177,232.8323 1177,234.4962 1177,236.1877 C1177,239.5706 1177,243.0635 1177,246.6507 C1177,253.8252 1177,261.3769 1177,269.1802 C1177,284.7866 1177,301.3991 1177,318.0113 C1177,334.6234 1177,351.2354 1177,366.8409 C1177,367.8163 1177,368.7877 1177,369.7549 C1177,370.2385 1177,370.7211 1177,371.2026 C1177,371.4434 1177,371.6838 1177,371.924 \" fill=\"none\" id=\"E6-&gt;E2\" style=\"stroke: #383838; stroke-width: 1.0;\"/><polygon fill=\"#FFFFFF\" points=\"1177,371.924,1170,352.924,1184,352.924,1177,371.924\" style=\"stroke: #383838; stroke-width: 1.0;\"/><ellipse cx=\"1172\" cy=\"347.224\" fill=\"#383838\" rx=\"2\" ry=\"2\" style=\"stroke: #383838; stroke-width: 1.0;\"/><ellipse cx=\"1182\" cy=\"347.224\" fill=\"#383838\" rx=\"2\" ry=\"2\" style=\"stroke: #383838; stroke-width: 1.0;\"/></a><!--MD5=[f1f3f9f2fc535e6147756cb86a7f2e32]\n",
       "link E8 to E2--><a href=\"psysml:b3767e4f-9e3f-4162-9e5b-3e184cb0e1ab\" target=\"_top\" title=\"psysml:b3767e4f-9e3f-4162-9e5b-3e184cb0e1ab\" xlink:actuate=\"onRequest\" xlink:href=\"psysml:b3767e4f-9e3f-4162-9e5b-3e184cb0e1ab\" xlink:show=\"new\" xlink:title=\"psysml:b3767e4f-9e3f-4162-9e5b-3e184cb0e1ab\" xlink:type=\"simple\"><path d=\"M1381.953,197.6519 C1381.7965,197.937 1381.6383,198.2252 1381.4783,198.5165 C1381.1585,199.0991 1380.8319,199.6939 1380.4991,200.3002 C1375.1731,210.0009 1368.2313,222.6456 1361.3425,235.1938 C1347.565,260.29 1334,285 1334,285 C1334,285 1196,356 1196,356 C1196,356 1194.8494,361.8744 1193.1144,370.7319 C1193.0602,371.0087 1193.0054,371.2884 1192.95,371.5709 C1192.9224,371.7122 1192.8945,371.8542 1192.8666,371.9968 \" fill=\"none\" id=\"E8-&gt;E2\" style=\"stroke: #383838; stroke-width: 1.0;\"/><polygon fill=\"#FFFFFF\" points=\"1192.8666,371.9968,1189.6494,352.0056,1203.3884,354.6968,1192.8666,371.9968\" style=\"stroke: #383838; stroke-width: 1.0;\"/><ellipse cx=\"1192.7078\" cy=\"346.7963\" fill=\"#383838\" rx=\"2\" ry=\"2\" style=\"stroke: #383838; stroke-width: 1.0;\"/><ellipse cx=\"1202.5213\" cy=\"348.7186\" fill=\"#383838\" rx=\"2\" ry=\"2\" style=\"stroke: #383838; stroke-width: 1.0;\"/></a><!--MD5=[1c62de2aa5b76f0fb657ff8443a1a700]\n",
       "link E5 to E4--><a href=\"psysml:3f6bcc61-006c-4905-be22-168150e04931\" target=\"_top\" title=\"psysml:3f6bcc61-006c-4905-be22-168150e04931\" xlink:actuate=\"onRequest\" xlink:href=\"psysml:3f6bcc61-006c-4905-be22-168150e04931\" xlink:show=\"new\" xlink:title=\"psysml:3f6bcc61-006c-4905-be22-168150e04931\" xlink:type=\"simple\"><path d=\"M1017.0326,269.0691 C1017.06,269.2161 1017.0873,269.3624 1017.1144,269.508 C1018.8494,278.8225 1020,285 1020,285 C1020,285 1021.94,287.01 1024.95,290.14 \" fill=\"none\" id=\"E5-&gt;E4\" style=\"stroke: #383838; stroke-width: 1.0;\"/><polygon fill=\"#FFFFFF\" points=\"1039.04,304.78,1020.8171,295.9525,1030.8999,286.2398,1039.04,304.78\" style=\"stroke: #383838; stroke-width: 1.0;\"/><ellipse cx=\"1018.303\" cy=\"290.4599\" fill=\"#383838\" rx=\"2\" ry=\"2\" style=\"stroke: #383838; stroke-width: 1.0;\"/><ellipse cx=\"1025.505\" cy=\"283.5222\" fill=\"#383838\" rx=\"2\" ry=\"2\" style=\"stroke: #383838; stroke-width: 1.0;\"/></a><!--MD5=[d00f01b66edb9b3ce8f530f77713355e]\n",
       "link E14 to E11--><a href=\"psysml:650eb0f7-ec08-4309-80b6-1e90e34b9690\" target=\"_top\" title=\"psysml:650eb0f7-ec08-4309-80b6-1e90e34b9690\" xlink:actuate=\"onRequest\" xlink:href=\"psysml:650eb0f7-ec08-4309-80b6-1e90e34b9690\" xlink:show=\"new\" xlink:title=\"psysml:650eb0f7-ec08-4309-80b6-1e90e34b9690\" xlink:type=\"simple\"><path d=\"M668.4,220.11 C712.72,249.28 767,285 767,285 C767,285 768.9838,285.7956 772.3952,287.1638 C772.8216,287.3348 773.2703,287.5147 773.7403,287.7032 C773.9752,287.7974 774.2155,287.8938 774.461,287.9922 C774.5837,288.0414 774.7077,288.0912 774.833,288.1414 \" fill=\"none\" id=\"E14-&gt;E11\" style=\"stroke: #383838; stroke-width: 1.0;\"/><polygon fill=\"#FFFFFF\" points=\"774.833,288.1414,754.5927,287.5663,759.8038,274.5722,774.833,288.1414\" style=\"stroke: #383838; stroke-width: 1.0;\"/><ellipse cx=\"750.0467\" cy=\"283.5883\" fill=\"#383838\" rx=\"2\" ry=\"2\" style=\"stroke: #383838; stroke-width: 1.0;\"/><ellipse cx=\"753.769\" cy=\"274.3069\" fill=\"#383838\" rx=\"2\" ry=\"2\" style=\"stroke: #383838; stroke-width: 1.0;\"/></a><!--MD5=[e2a4d5417efe29a3cd0abcbdb74f16f9]\n",
       "@startuml\r\n",
       "skinparam ranksep 10\r\n",
       "skinparam rectangle {\r\n",
       " backgroundColor<<block>> LightGreen\r\n",
       "}\r\n",
       "skinparam linetype polyline\r\n",
       "skinparam monochrome true\r\n",
       "skinparam classbackgroundcolor white\r\n",
       "skinparam shadowing false\r\n",
       "skinparam wrapWidth 300\r\n",
       "hide circle\r\n",
       "\r\n",
       "package \"CalculationExample\" as E1  [[psysml:9a950c4d-df47-4bf2-a127-6824d456053c ]]  {\r\n",
       "rec def \"VehiclePart\" as E2  <<(T,blue) part  def>> [[psysml:240f00ab-b9bf-457e-9376-98b0b5e156bb ]] {\r\n",
       "comp usage \"m: MassValue \" as E3  <<(T,blue) attribute>> [[psysml:3c3f6982-fe48-410d-a073-4745105d0bb1 ]] {\r\n",
       "}\r\n",
       "}\r\n",
       "rec def \"Vehicle\" as E4  <<(T,blue) part  def>> [[psysml:240db56f-6d8c-4faf-8b3c-f8974d12918d ]] {\r\n",
       "}\r\n",
       "rec usage \"vehicle: Vehicle\" as E5  [[psysml:ce00e2ad-3315-43f7-b2e6-6ce884a27309 ]] {\r\n",
       "rec usage \"eng: VehiclePart\" as E6  [[psysml:83fc889d-b3c1-4be4-83aa-24728b198254 ]] {\r\n",
       "comp usage \"^m: MassValue \" as E7  <<(T,blue) attribute>> [[psysml:3c3f6982-fe48-410d-a073-4745105d0bb1 ]] {\r\n",
       "}\r\n",
       "}\r\n",
       "rec usage \"trans: VehiclePart\" as E8  [[psysml:9ad03ab5-4ba7-4600-8f6c-f33bd21910a1 ]] {\r\n",
       "comp usage \"^m: MassValue \" as E9  <<(T,blue) attribute>> [[psysml:3c3f6982-fe48-410d-a073-4745105d0bb1 ]] {\r\n",
       "}\r\n",
       "}\r\n",
       "comp usage \"^m: MassValue \" as E10  <<(T,blue) attribute>> [[psysml:3c3f6982-fe48-410d-a073-4745105d0bb1 ]] {\r\n",
       "}\r\n",
       "}\r\n",
       "rec def \"MassSum\" as E11  <<(T,blue) calculation  def>> [[psysml:425e038d-47d6-48b2-bd42-a030f1074fc4 ]] {\r\n",
       "portin \"partMasses\" as E12  [[psysml:b45e328f-a4a8-4519-9228-274640d6e043 ]] \r\n",
       "portout \"totalMass\" as E13  [[psysml:712f9e49-cc72-40cc-a5b0-9958e3b93d47 ]] \r\n",
       "}\r\n",
       "\r\n",
       "comp usage \"ms: MassSum \" as E14  <<(T,blue) calculation>> [[psysml:e012d373-591a-4cf2-b53b-d810c6dd562d ]] {\r\n",
       "- - parameters - -\r\n",
       "<b>in</b> partMasses= (vehicle.eng.m, vehicle.trans.m); \r\n",
       "}\r\n",
       "rec usage \"vehicles= (vehicle, vehicle); \" as E15  [[psysml:e4253433-368c-4e86-8a3c-6b186419df89 ]] {\r\n",
       "}\r\n",
       "comp usage \"masses1 \" as E16  <<(T,blue) attribute>> [[psysml:03468340-4ee1-4dfd-ba23-9337b31e6caf ]] {\r\n",
       "}\r\n",
       "comp usage \"masses2 \" as E17  <<(T,blue) attribute>> [[psysml:a35488ce-7eb0-470e-9ecc-f7a0c28bc139 ]] {\r\n",
       "}\r\n",
       "}\r\n",
       "E4 - -|> E2 [[psysml:2113862d-3e36-4f2a-be29-5fbeffc35ef5 ]] \r\n",
       "E6 - -:|> E2 [[psysml:7cfd1003-3fe0-4a32-a3a1-13a5c8efedf2 ]] \r\n",
       "E8 - -:|> E2 [[psysml:b3767e4f-9e3f-4162-9e5b-3e184cb0e1ab ]] \r\n",
       "E5 - -:|> E4 [[psysml:3f6bcc61-006c-4905-be22-168150e04931 ]] \r\n",
       "E14 - -:|> E11 [[psysml:650eb0f7-ec08-4309-80b6-1e90e34b9690 ]] \r\n",
       "@enduml\r\n",
       "\n",
       "PlantUML version 1.2020.13(Sat Jun 13 12:26:38 UTC 2020)\n",
       "(EPL source distribution)\n",
       "Java Runtime: OpenJDK Runtime Environment\n",
       "JVM: OpenJDK 64-Bit Server VM\n",
       "Default Encoding: UTF-8\n",
       "Language: en\n",
       "Country: null\n",
       "--></g></svg>"
      ]
     },
     "execution_count": 12,
     "metadata": {},
     "output_type": "execute_result"
    }
   ],
   "source": [
    "%viz --style=\"POLYLINE\" --view=\"Interconnection\" \"CalculationExample\""
   ]
  },
  {
   "cell_type": "code",
   "execution_count": 13,
   "id": "1039f626",
   "metadata": {
    "execution": {
     "iopub.execute_input": "2022-08-19T08:22:00.831843Z",
     "iopub.status.busy": "2022-08-19T08:22:00.831341Z",
     "iopub.status.idle": "2022-08-19T08:22:00.869868Z",
     "shell.execute_reply": "2022-08-19T08:22:00.869439Z"
    }
   },
   "outputs": [
    {
     "data": {
      "image/svg+xml": [
       "<?xml version=\"1.0\" encoding=\"UTF-8\" standalone=\"no\"?><svg xmlns=\"http://www.w3.org/2000/svg\" xmlns:xlink=\"http://www.w3.org/1999/xlink\" contentScriptType=\"application/ecmascript\" contentStyleType=\"text/css\" height=\"162px\" preserveAspectRatio=\"none\" style=\"width:289px;height:162px;\" version=\"1.1\" viewBox=\"0 0 289 162\" width=\"289px\" zoomAndPan=\"magnify\"><defs/><g><!--MD5=[fbc87193dbaf4d95561dea2c320d4a47]\n",
       "cluster E1--><a href=\"psysml:425e038d-47d6-48b2-bd42-a030f1074fc4\" target=\"_top\" title=\"psysml:425e038d-47d6-48b2-bd42-a030f1074fc4\" xlink:actuate=\"onRequest\" xlink:href=\"psysml:425e038d-47d6-48b2-bd42-a030f1074fc4\" xlink:show=\"new\" xlink:title=\"psysml:425e038d-47d6-48b2-bd42-a030f1074fc4\" xlink:type=\"simple\"><rect fill=\"#FFFFFF\" height=\"87.72\" id=\"E1\" style=\"stroke: #383838; stroke-width: 1.5;\" width=\"131\" x=\"21\" y=\"42.0986\"/><rect fill=\"#F8F8F8\" height=\"37.9375\" style=\"stroke: #383838; stroke-width: 1.5;\" width=\"131\" x=\"21\" y=\"42.0986\"/><text fill=\"#000000\" font-family=\"sans-serif\" font-size=\"12\" font-style=\"italic\" lengthAdjust=\"spacingAndGlyphs\" textLength=\"110\" x=\"31.5\" y=\"58.2373\">«calculation  def»</text><text fill=\"#000000\" font-family=\"sans-serif\" font-size=\"12\" lengthAdjust=\"spacingAndGlyphs\" textLength=\"59\" x=\"57\" y=\"72.2061\">MassSum</text></a><!--MD5=[f6df4d0ebaf0b5dfb2ced0ae5af7c670]\n",
       "cluster E4--><a href=\"psysml:e012d373-591a-4cf2-b53b-d810c6dd562d\" target=\"_top\" title=\"psysml:e012d373-591a-4cf2-b53b-d810c6dd562d\" xlink:actuate=\"onRequest\" xlink:href=\"psysml:e012d373-591a-4cf2-b53b-d810c6dd562d\" xlink:show=\"new\" xlink:title=\"psysml:e012d373-591a-4cf2-b53b-d810c6dd562d\" xlink:type=\"simple\"><rect fill=\"#FFFFFF\" height=\"87.72\" id=\"E4\" rx=\"10\" ry=\"10\" style=\"stroke: #383838; stroke-width: 1.5;\" width=\"138\" x=\"139\" y=\"42.0986\"/><rect fill=\"#F8F8F8\" height=\"37.9375\" rx=\"10\" ry=\"10\" style=\"stroke: #F8F8F8; stroke-width: 1.5;\" width=\"138\" x=\"139\" y=\"42.0986\"/><rect fill=\"#F8F8F8\" height=\"10\" style=\"stroke: #F8F8F8; stroke-width: 1.5;\" width=\"138\" x=\"139\" y=\"70.0361\"/><rect fill=\"none\" height=\"87.72\" id=\"E4\" rx=\"10\" ry=\"10\" style=\"stroke: #383838; stroke-width: 1.5;\" width=\"138\" x=\"139\" y=\"42.0986\"/><text fill=\"#000000\" font-family=\"sans-serif\" font-size=\"12\" font-style=\"italic\" lengthAdjust=\"spacingAndGlyphs\" textLength=\"82\" x=\"167\" y=\"58.2373\">«calculation»</text><text fill=\"#000000\" font-family=\"sans-serif\" font-size=\"12\" lengthAdjust=\"spacingAndGlyphs\" textLength=\"18\" x=\"199\" y=\"72.2061\">ms</text><line style=\"stroke: #383838; stroke-width: 1.0;\" x1=\"139\" x2=\"277\" y1=\"80.0361\" y2=\"80.0361\"/></a><text fill=\"#000000\" font-family=\"sans-serif\" font-size=\"14\" lengthAdjust=\"spacingAndGlyphs\" textLength=\"80\" x=\"6\" y=\"20.7969\">partMasses</text><rect fill=\"#383838\" height=\"12\" style=\"stroke: #F8F8F8; stroke-width: 1.5;\" width=\"12\" x=\"40\" y=\"36.0986\"/><text fill=\"#000000\" font-family=\"sans-serif\" font-size=\"14\" lengthAdjust=\"spacingAndGlyphs\" textLength=\"66\" x=\"9\" y=\"148.8138\">totalMass</text><rect fill=\"#383838\" height=\"12\" style=\"stroke: #F8F8F8; stroke-width: 1.5;\" width=\"12\" x=\"36\" y=\"123.8186\"/><text fill=\"#000000\" font-family=\"sans-serif\" font-size=\"14\" lengthAdjust=\"spacingAndGlyphs\" textLength=\"80\" x=\"168\" y=\"20.7969\">partMasses</text><rect fill=\"#383838\" height=\"12\" style=\"stroke: #F8F8F8; stroke-width: 1.5;\" width=\"12\" x=\"202\" y=\"36.0986\"/><text fill=\"#000000\" font-family=\"sans-serif\" font-size=\"14\" lengthAdjust=\"spacingAndGlyphs\" textLength=\"66\" x=\"175\" y=\"148.8138\">totalMass</text><rect fill=\"#383838\" height=\"12\" style=\"stroke: #F8F8F8; stroke-width: 1.5;\" width=\"12\" x=\"202\" y=\"123.8186\"/><!--MD5=[a07e3c1f9bc928a420d4df2751a98983]\n",
       "@startuml\r\n",
       "skinparam ranksep 8\r\n",
       "skinparam linetype polyline\r\n",
       "skinparam monochrome true\r\n",
       "skinparam classbackgroundcolor white\r\n",
       "skinparam shadowing false\r\n",
       "skinparam wrapWidth 300\r\n",
       "hide circle\r\n",
       "\r\n",
       "rec def \"MassSum\" as E1  <<(T,blue) calculation  def>> [[psysml:425e038d-47d6-48b2-bd42-a030f1074fc4 ]] {\r\n",
       "portin \"partMasses\" as E2  [[psysml:b45e328f-a4a8-4519-9228-274640d6e043 ]] \r\n",
       "portout \"totalMass\" as E3  [[psysml:712f9e49-cc72-40cc-a5b0-9958e3b93d47 ]] \r\n",
       "}\r\n",
       "\r\n",
       "rec usage \"ms\" as E4  <<(T,blue) calculation>> [[psysml:e012d373-591a-4cf2-b53b-d810c6dd562d ]] {\r\n",
       "portin \"partMasses\" as E5  [[psysml:424ec83f-37c8-4393-891d-04f2e8383abc ]] \r\n",
       "portout \"totalMass\" as E6  [[psysml:be56ca6e-4eba-4c60-ba38-91b20c3832b5 ]] \r\n",
       "}\r\n",
       "\r\n",
       "@enduml\r\n",
       "\n",
       "PlantUML version 1.2020.13(Sat Jun 13 12:26:38 UTC 2020)\n",
       "(EPL source distribution)\n",
       "Java Runtime: OpenJDK Runtime Environment\n",
       "JVM: OpenJDK 64-Bit Server VM\n",
       "Default Encoding: UTF-8\n",
       "Language: en\n",
       "Country: null\n",
       "--></g></svg>"
      ]
     },
     "execution_count": 13,
     "metadata": {},
     "output_type": "execute_result"
    }
   ],
   "source": [
    "%viz --style=\"POLYLINE\" --view=\"Action\" \"CalculationExample\""
   ]
  },
  {
   "cell_type": "code",
   "execution_count": 14,
   "id": "aaccafd3",
   "metadata": {
    "execution": {
     "iopub.execute_input": "2022-08-19T08:22:00.919670Z",
     "iopub.status.busy": "2022-08-19T08:22:00.919161Z",
     "iopub.status.idle": "2022-08-19T08:22:00.933275Z",
     "shell.execute_reply": "2022-08-19T08:22:00.933648Z"
    }
   },
   "outputs": [
    {
     "data": {
      "image/svg+xml": [
       "<?xml version=\"1.0\" encoding=\"UTF-8\" standalone=\"no\"?><svg xmlns=\"http://www.w3.org/2000/svg\" xmlns:xlink=\"http://www.w3.org/1999/xlink\" contentScriptType=\"application/ecmascript\" contentStyleType=\"text/css\" height=\"12px\" preserveAspectRatio=\"none\" style=\"width:12px;height:12px;\" version=\"1.1\" viewBox=\"0 0 12 12\" width=\"12px\" zoomAndPan=\"magnify\"><defs/><g><!--MD5=[dc938048236c351797870c36b62f92ad]\n",
       "@startuml\r\n",
       "skinparam roundcorner 20\r\n",
       "skinparam BoxPadding 20\r\n",
       "skinparam SequenceBoxBackgroundColor #white\r\n",
       "skinparam style strictuml\r\n",
       "skinparam maxMessageSize 100\r\n",
       "skinparam linetype polyline\r\n",
       "skinparam monochrome true\r\n",
       "skinparam classbackgroundcolor white\r\n",
       "skinparam shadowing false\r\n",
       "skinparam wrapWidth 300\r\n",
       "hide circle\r\n",
       "\r\n",
       "@enduml\r\n",
       "\n",
       "PlantUML version 1.2020.13(Sat Jun 13 12:26:38 UTC 2020)\n",
       "(EPL source distribution)\n",
       "Java Runtime: OpenJDK Runtime Environment\n",
       "JVM: OpenJDK 64-Bit Server VM\n",
       "Default Encoding: UTF-8\n",
       "Language: en\n",
       "Country: null\n",
       "--></g></svg>"
      ]
     },
     "execution_count": 14,
     "metadata": {},
     "output_type": "execute_result"
    }
   ],
   "source": [
    "%viz --style=\"POLYLINE\" --view=\"Sequence\" \"CalculationExample\""
   ]
  },
  {
   "cell_type": "code",
   "execution_count": 15,
   "id": "cedc24a2",
   "metadata": {
    "execution": {
     "iopub.execute_input": "2022-08-19T08:22:00.983481Z",
     "iopub.status.busy": "2022-08-19T08:22:00.982962Z",
     "iopub.status.idle": "2022-08-19T08:22:01.088019Z",
     "shell.execute_reply": "2022-08-19T08:22:01.087580Z"
    }
   },
   "outputs": [
    {
     "data": {
      "image/svg+xml": [
       "<?xml version=\"1.0\" encoding=\"UTF-8\" standalone=\"no\"?><svg xmlns=\"http://www.w3.org/2000/svg\" xmlns:xlink=\"http://www.w3.org/1999/xlink\" contentScriptType=\"application/ecmascript\" contentStyleType=\"text/css\" height=\"505px\" preserveAspectRatio=\"none\" style=\"width:1266px;height:505px;\" version=\"1.1\" viewBox=\"0 0 1266 505\" width=\"1266px\" zoomAndPan=\"magnify\"><defs/><g><!--MD5=[fbc87193dbaf4d95561dea2c320d4a47]\n",
       "cluster E1--><a href=\"psysml:9a950c4d-df47-4bf2-a127-6824d456053c\" target=\"_top\" title=\"psysml:9a950c4d-df47-4bf2-a127-6824d456053c\" xlink:actuate=\"onRequest\" xlink:href=\"psysml:9a950c4d-df47-4bf2-a127-6824d456053c\" xlink:show=\"new\" xlink:title=\"psysml:9a950c4d-df47-4bf2-a127-6824d456053c\" xlink:type=\"simple\"><polygon fill=\"#FFFFFF\" points=\"16,6,155,6,162,28.2969,1244,28.2969,1244,493,16,493,16,6\" style=\"stroke: #000000; stroke-width: 1.5;\"/><line style=\"stroke: #000000; stroke-width: 1.5;\" x1=\"16\" x2=\"162\" y1=\"28.2969\" y2=\"28.2969\"/><text fill=\"#000000\" font-family=\"sans-serif\" font-size=\"14\" font-weight=\"bold\" lengthAdjust=\"spacingAndGlyphs\" textLength=\"133\" x=\"20\" y=\"20.9951\">CalculationExample</text></a><!--MD5=[168fadf3d0c3fd93dd5d6da1b1d7ab76]\n",
       "cluster E7--><a href=\"psysml:425e038d-47d6-48b2-bd42-a030f1074fc4\" target=\"_top\" title=\"psysml:425e038d-47d6-48b2-bd42-a030f1074fc4\" xlink:actuate=\"onRequest\" xlink:href=\"psysml:425e038d-47d6-48b2-bd42-a030f1074fc4\" xlink:show=\"new\" xlink:title=\"psysml:425e038d-47d6-48b2-bd42-a030f1074fc4\" xlink:type=\"simple\"><rect fill=\"#FFFFFF\" height=\"376\" id=\"E7\" style=\"stroke: #383838; stroke-width: 1.5;\" width=\"186\" x=\"650\" y=\"79\"/><rect fill=\"#F8F8F8\" height=\"37.9375\" style=\"stroke: #383838; stroke-width: 1.5;\" width=\"186\" x=\"650\" y=\"79\"/><text fill=\"#000000\" font-family=\"sans-serif\" font-size=\"12\" font-style=\"italic\" lengthAdjust=\"spacingAndGlyphs\" textLength=\"110\" x=\"688\" y=\"95.1387\">«calculation  def»</text><text fill=\"#000000\" font-family=\"sans-serif\" font-size=\"12\" lengthAdjust=\"spacingAndGlyphs\" textLength=\"59\" x=\"713.5\" y=\"109.1074\">MassSum</text></a><!--MD5=[b4997ac47864f28c2f74865a473b2911]\n",
       "class E2--><a href=\"psysml:240f00ab-b9bf-457e-9376-98b0b5e156bb\" target=\"_top\" title=\"psysml:240f00ab-b9bf-457e-9376-98b0b5e156bb\" xlink:actuate=\"onRequest\" xlink:href=\"psysml:240f00ab-b9bf-457e-9376-98b0b5e156bb\" xlink:show=\"new\" xlink:title=\"psysml:240f00ab-b9bf-457e-9376-98b0b5e156bb\" xlink:type=\"simple\"><rect fill=\"#FFFFFF\" height=\"75.5469\" id=\"E2\" style=\"stroke: #383838; stroke-width: 1.5;\" width=\"92\" x=\"968\" y=\"313\"/><text fill=\"#000000\" font-family=\"sans-serif\" font-size=\"12\" font-style=\"italic\" lengthAdjust=\"spacingAndGlyphs\" textLength=\"68\" x=\"980\" y=\"329.1387\">«part  def»</text><text fill=\"#000000\" font-family=\"sans-serif\" font-size=\"12\" lengthAdjust=\"spacingAndGlyphs\" textLength=\"71\" x=\"978.5\" y=\"343.1074\">VehiclePart</text><line style=\"stroke: #383838; stroke-width: 1.5;\" x1=\"969\" x2=\"1059\" y1=\"350.9375\" y2=\"350.9375\"/><text fill=\"#000000\" font-family=\"sans-serif\" font-size=\"11\" lengthAdjust=\"spacingAndGlyphs\" textLength=\"80\" x=\"974\" y=\"381.9526\">m: MassValue</text><line style=\"stroke: #383838; stroke-width: 1.0;\" x1=\"969\" x2=\"986.5\" y1=\"365.3398\" y2=\"365.3398\"/><text fill=\"#000000\" font-family=\"sans-serif\" font-size=\"11\" lengthAdjust=\"spacingAndGlyphs\" textLength=\"55\" x=\"986.5\" y=\"368.6479\">attributes</text><line style=\"stroke: #383838; stroke-width: 1.0;\" x1=\"1041.5\" x2=\"1059\" y1=\"365.3398\" y2=\"365.3398\"/></a><!--MD5=[09b614a08d8cba4a07c9adeb5e0fee81]\n",
       "class E3--><a href=\"psysml:240db56f-6d8c-4faf-8b3c-f8974d12918d\" target=\"_top\" title=\"psysml:240db56f-6d8c-4faf-8b3c-f8974d12918d\" xlink:actuate=\"onRequest\" xlink:href=\"psysml:240db56f-6d8c-4faf-8b3c-f8974d12918d\" xlink:show=\"new\" xlink:title=\"psysml:240db56f-6d8c-4faf-8b3c-f8974d12918d\" xlink:type=\"simple\"><rect fill=\"#FFFFFF\" height=\"45.9375\" id=\"E3\" style=\"stroke: #383838; stroke-width: 1.5;\" width=\"70\" x=\"852\" y=\"192\"/><text fill=\"#000000\" font-family=\"sans-serif\" font-size=\"12\" font-style=\"italic\" lengthAdjust=\"spacingAndGlyphs\" textLength=\"68\" x=\"853\" y=\"208.1387\">«part  def»</text><text fill=\"#000000\" font-family=\"sans-serif\" font-size=\"12\" lengthAdjust=\"spacingAndGlyphs\" textLength=\"45\" x=\"864.5\" y=\"222.1074\">Vehicle</text><line style=\"stroke: #383838; stroke-width: 1.5;\" x1=\"853\" x2=\"921\" y1=\"229.9375\" y2=\"229.9375\"/></a><!--MD5=[ebbe1d658d1005bcc118a6aa81145e00]\n",
       "class E4--><a href=\"psysml:ce00e2ad-3315-43f7-b2e6-6ce884a27309\" target=\"_top\" title=\"psysml:ce00e2ad-3315-43f7-b2e6-6ce884a27309\" xlink:actuate=\"onRequest\" xlink:href=\"psysml:ce00e2ad-3315-43f7-b2e6-6ce884a27309\" xlink:show=\"new\" xlink:title=\"psysml:ce00e2ad-3315-43f7-b2e6-6ce884a27309\" xlink:type=\"simple\"><rect fill=\"#FFFFFF\" height=\"75.5469\" id=\"E4\" rx=\"10\" ry=\"10\" style=\"stroke: #383838; stroke-width: 1.5;\" width=\"106\" x=\"961\" y=\"41\"/><text fill=\"#000000\" font-family=\"sans-serif\" font-size=\"12\" font-style=\"italic\" lengthAdjust=\"spacingAndGlyphs\" textLength=\"40\" x=\"994\" y=\"57.1387\">«part»</text><text fill=\"#000000\" font-family=\"sans-serif\" font-size=\"12\" lengthAdjust=\"spacingAndGlyphs\" textLength=\"96\" x=\"964\" y=\"71.1074\">vehicle: Vehicle</text><line style=\"stroke: #383838; stroke-width: 1.5;\" x1=\"962\" x2=\"1066\" y1=\"78.9375\" y2=\"78.9375\"/><text fill=\"#000000\" font-family=\"sans-serif\" font-size=\"11\" lengthAdjust=\"spacingAndGlyphs\" textLength=\"89\" x=\"967\" y=\"109.9526\">^m: MassValue</text><line style=\"stroke: #383838; stroke-width: 1.0;\" x1=\"962\" x2=\"986.5\" y1=\"93.3398\" y2=\"93.3398\"/><text fill=\"#000000\" font-family=\"sans-serif\" font-size=\"11\" lengthAdjust=\"spacingAndGlyphs\" textLength=\"55\" x=\"986.5\" y=\"96.6479\">attributes</text><line style=\"stroke: #383838; stroke-width: 1.0;\" x1=\"1041.5\" x2=\"1066\" y1=\"93.3398\" y2=\"93.3398\"/></a><!--MD5=[270fce915f116d4de14055a7c1d9a0f3]\n",
       "class E5--><a href=\"psysml:83fc889d-b3c1-4be4-83aa-24728b198254\" target=\"_top\" title=\"psysml:83fc889d-b3c1-4be4-83aa-24728b198254\" xlink:actuate=\"onRequest\" xlink:href=\"psysml:83fc889d-b3c1-4be4-83aa-24728b198254\" xlink:show=\"new\" xlink:title=\"psysml:83fc889d-b3c1-4be4-83aa-24728b198254\" xlink:type=\"simple\"><rect fill=\"#FFFFFF\" height=\"75.5469\" id=\"E5\" rx=\"10\" ry=\"10\" style=\"stroke: #383838; stroke-width: 1.5;\" width=\"113\" x=\"957.5\" y=\"177\"/><text fill=\"#000000\" font-family=\"sans-serif\" font-size=\"12\" font-style=\"italic\" lengthAdjust=\"spacingAndGlyphs\" textLength=\"40\" x=\"994\" y=\"193.1387\">«part»</text><text fill=\"#000000\" font-family=\"sans-serif\" font-size=\"12\" lengthAdjust=\"spacingAndGlyphs\" textLength=\"103\" x=\"960.5\" y=\"207.1074\">eng: VehiclePart</text><line style=\"stroke: #383838; stroke-width: 1.5;\" x1=\"958.5\" x2=\"1069.5\" y1=\"214.9375\" y2=\"214.9375\"/><text fill=\"#000000\" font-family=\"sans-serif\" font-size=\"11\" lengthAdjust=\"spacingAndGlyphs\" textLength=\"89\" x=\"963.5\" y=\"245.9526\">^m: MassValue</text><line style=\"stroke: #383838; stroke-width: 1.0;\" x1=\"958.5\" x2=\"986.5\" y1=\"229.3398\" y2=\"229.3398\"/><text fill=\"#000000\" font-family=\"sans-serif\" font-size=\"11\" lengthAdjust=\"spacingAndGlyphs\" textLength=\"55\" x=\"986.5\" y=\"232.6479\">attributes</text><line style=\"stroke: #383838; stroke-width: 1.0;\" x1=\"1041.5\" x2=\"1069.5\" y1=\"229.3398\" y2=\"229.3398\"/></a><!--MD5=[60a26617385b1d2d0262a64233df1f8d]\n",
       "class E6--><a href=\"psysml:9ad03ab5-4ba7-4600-8f6c-f33bd21910a1\" target=\"_top\" title=\"psysml:9ad03ab5-4ba7-4600-8f6c-f33bd21910a1\" xlink:actuate=\"onRequest\" xlink:href=\"psysml:9ad03ab5-4ba7-4600-8f6c-f33bd21910a1\" xlink:show=\"new\" xlink:title=\"psysml:9ad03ab5-4ba7-4600-8f6c-f33bd21910a1\" xlink:type=\"simple\"><rect fill=\"#FFFFFF\" height=\"75.5469\" id=\"E6\" rx=\"10\" ry=\"10\" style=\"stroke: #383838; stroke-width: 1.5;\" width=\"122\" x=\"1106\" y=\"177\"/><text fill=\"#000000\" font-family=\"sans-serif\" font-size=\"12\" font-style=\"italic\" lengthAdjust=\"spacingAndGlyphs\" textLength=\"40\" x=\"1147\" y=\"193.1387\">«part»</text><text fill=\"#000000\" font-family=\"sans-serif\" font-size=\"12\" lengthAdjust=\"spacingAndGlyphs\" textLength=\"112\" x=\"1109\" y=\"207.1074\">trans: VehiclePart</text><line style=\"stroke: #383838; stroke-width: 1.5;\" x1=\"1107\" x2=\"1227\" y1=\"214.9375\" y2=\"214.9375\"/><text fill=\"#000000\" font-family=\"sans-serif\" font-size=\"11\" lengthAdjust=\"spacingAndGlyphs\" textLength=\"89\" x=\"1112\" y=\"245.9526\">^m: MassValue</text><line style=\"stroke: #383838; stroke-width: 1.0;\" x1=\"1107\" x2=\"1139.5\" y1=\"229.3398\" y2=\"229.3398\"/><text fill=\"#000000\" font-family=\"sans-serif\" font-size=\"11\" lengthAdjust=\"spacingAndGlyphs\" textLength=\"55\" x=\"1139.5\" y=\"232.6479\">attributes</text><line style=\"stroke: #383838; stroke-width: 1.0;\" x1=\"1194.5\" x2=\"1227\" y1=\"229.3398\" y2=\"229.3398\"/></a><!--MD5=[96f4274e9e20536e775497830990834d]\n",
       "class E10--><a href=\"psysml:e012d373-591a-4cf2-b53b-d810c6dd562d\" target=\"_top\" title=\"psysml:e012d373-591a-4cf2-b53b-d810c6dd562d\" xlink:actuate=\"onRequest\" xlink:href=\"psysml:e012d373-591a-4cf2-b53b-d810c6dd562d\" xlink:show=\"new\" xlink:title=\"psysml:e012d373-591a-4cf2-b53b-d810c6dd562d\" xlink:type=\"simple\"><rect fill=\"#FFFFFF\" height=\"75.5469\" id=\"E10\" rx=\"10\" ry=\"10\" style=\"stroke: #383838; stroke-width: 1.5;\" width=\"293\" x=\"340.5\" y=\"41\"/><text fill=\"#000000\" font-family=\"sans-serif\" font-size=\"12\" font-style=\"italic\" lengthAdjust=\"spacingAndGlyphs\" textLength=\"82\" x=\"446\" y=\"57.1387\">«calculation»</text><text fill=\"#000000\" font-family=\"sans-serif\" font-size=\"12\" lengthAdjust=\"spacingAndGlyphs\" textLength=\"85\" x=\"442.5\" y=\"71.1074\">ms: MassSum</text><line style=\"stroke: #383838; stroke-width: 1.5;\" x1=\"341.5\" x2=\"632.5\" y1=\"78.9375\" y2=\"78.9375\"/><text fill=\"#000000\" font-family=\"sans-serif\" font-size=\"11\" font-weight=\"bold\" lengthAdjust=\"spacingAndGlyphs\" textLength=\"10\" x=\"346.5\" y=\"109.9526\">in</text><text fill=\"#000000\" font-family=\"sans-serif\" font-size=\"11\" lengthAdjust=\"spacingAndGlyphs\" textLength=\"267\" x=\"360.5\" y=\"109.9526\">partMasses= (vehicle.eng.m, vehicle.trans.m);</text><line style=\"stroke: #383838; stroke-width: 1.0;\" x1=\"341.5\" x2=\"453.5\" y1=\"93.3398\" y2=\"93.3398\"/><text fill=\"#000000\" font-family=\"sans-serif\" font-size=\"11\" lengthAdjust=\"spacingAndGlyphs\" textLength=\"67\" x=\"453.5\" y=\"96.6479\">parameters</text><line style=\"stroke: #383838; stroke-width: 1.0;\" x1=\"520.5\" x2=\"632.5\" y1=\"93.3398\" y2=\"93.3398\"/></a><!--MD5=[1dd1bfd58a279cf63c5f349dbc8fc6a1]\n",
       "class E11--><a href=\"psysml:e4253433-368c-4e86-8a3c-6b186419df89\" target=\"_top\" title=\"psysml:e4253433-368c-4e86-8a3c-6b186419df89\" xlink:actuate=\"onRequest\" xlink:href=\"psysml:e4253433-368c-4e86-8a3c-6b186419df89\" xlink:show=\"new\" xlink:title=\"psysml:e4253433-368c-4e86-8a3c-6b186419df89\" xlink:type=\"simple\"><rect fill=\"#FFFFFF\" height=\"45.9375\" id=\"E11\" rx=\"10\" ry=\"10\" style=\"stroke: #383838; stroke-width: 1.5;\" width=\"60\" x=\"245\" y=\"56\"/><text fill=\"#000000\" font-family=\"sans-serif\" font-size=\"12\" font-style=\"italic\" lengthAdjust=\"spacingAndGlyphs\" textLength=\"40\" x=\"255\" y=\"72.1387\">«part»</text><text fill=\"#000000\" font-family=\"sans-serif\" font-size=\"12\" lengthAdjust=\"spacingAndGlyphs\" textLength=\"50\" x=\"248\" y=\"86.1074\">vehicles</text><line style=\"stroke: #383838; stroke-width: 1.5;\" x1=\"246\" x2=\"304\" y1=\"93.9375\" y2=\"93.9375\"/></a><!--MD5=[49a0ec8f00dab7302a31f22d0f0fe584]\n",
       "class E12--><a href=\"psysml:03468340-4ee1-4dfd-ba23-9337b31e6caf\" target=\"_top\" title=\"psysml:03468340-4ee1-4dfd-ba23-9337b31e6caf\" xlink:actuate=\"onRequest\" xlink:href=\"psysml:03468340-4ee1-4dfd-ba23-9337b31e6caf\" xlink:show=\"new\" xlink:title=\"psysml:03468340-4ee1-4dfd-ba23-9337b31e6caf\" xlink:type=\"simple\"><rect fill=\"#FFFFFF\" height=\"45.9375\" id=\"E12\" rx=\"10\" ry=\"10\" style=\"stroke: #383838; stroke-width: 1.5;\" width=\"71\" x=\"138.5\" y=\"56\"/><text fill=\"#000000\" font-family=\"sans-serif\" font-size=\"12\" font-style=\"italic\" lengthAdjust=\"spacingAndGlyphs\" textLength=\"69\" x=\"139.5\" y=\"72.1387\">«attribute»</text><text fill=\"#000000\" font-family=\"sans-serif\" font-size=\"12\" lengthAdjust=\"spacingAndGlyphs\" textLength=\"56\" x=\"144\" y=\"86.1074\">masses1</text><line style=\"stroke: #383838; stroke-width: 1.5;\" x1=\"139.5\" x2=\"208.5\" y1=\"93.9375\" y2=\"93.9375\"/></a><!--MD5=[ee3c913d1a06f366521f9ef512b67efe]\n",
       "class E13--><a href=\"psysml:a35488ce-7eb0-470e-9ecc-f7a0c28bc139\" target=\"_top\" title=\"psysml:a35488ce-7eb0-470e-9ecc-f7a0c28bc139\" xlink:actuate=\"onRequest\" xlink:href=\"psysml:a35488ce-7eb0-470e-9ecc-f7a0c28bc139\" xlink:show=\"new\" xlink:title=\"psysml:a35488ce-7eb0-470e-9ecc-f7a0c28bc139\" xlink:type=\"simple\"><rect fill=\"#FFFFFF\" height=\"45.9375\" id=\"E13\" rx=\"10\" ry=\"10\" style=\"stroke: #383838; stroke-width: 1.5;\" width=\"71\" x=\"32.5\" y=\"56\"/><text fill=\"#000000\" font-family=\"sans-serif\" font-size=\"12\" font-style=\"italic\" lengthAdjust=\"spacingAndGlyphs\" textLength=\"69\" x=\"33.5\" y=\"72.1387\">«attribute»</text><text fill=\"#000000\" font-family=\"sans-serif\" font-size=\"12\" lengthAdjust=\"spacingAndGlyphs\" textLength=\"56\" x=\"38\" y=\"86.1074\">masses2</text><line style=\"stroke: #383838; stroke-width: 1.5;\" x1=\"33.5\" x2=\"102.5\" y1=\"93.9375\" y2=\"93.9375\"/></a><text fill=\"#000000\" font-family=\"sans-serif\" font-size=\"14\" lengthAdjust=\"spacingAndGlyphs\" textLength=\"80\" x=\"703\" y=\"57.6982\">partMasses</text><rect fill=\"#383838\" height=\"12\" style=\"stroke: #F8F8F8; stroke-width: 1.5;\" width=\"12\" x=\"737\" y=\"73\"/><text fill=\"#000000\" font-family=\"sans-serif\" font-size=\"14\" lengthAdjust=\"spacingAndGlyphs\" textLength=\"66\" x=\"710\" y=\"473.9951\">totalMass</text><rect fill=\"#383838\" height=\"12\" style=\"stroke: #F8F8F8; stroke-width: 1.5;\" width=\"12\" x=\"737\" y=\"449\"/><!--MD5=[05d275557350bfb9b23a4ef7222b4c39]\n",
       "link E3 to E2--><a href=\"psysml:2113862d-3e36-4f2a-be29-5fbeffc35ef5\" target=\"_top\" title=\"psysml:2113862d-3e36-4f2a-be29-5fbeffc35ef5\" xlink:actuate=\"onRequest\" xlink:href=\"psysml:2113862d-3e36-4f2a-be29-5fbeffc35ef5\" xlink:show=\"new\" xlink:title=\"psysml:2113862d-3e36-4f2a-be29-5fbeffc35ef5\" xlink:type=\"simple\"><path d=\"M907.97,238.13 C923.45,254.46 945.16,277.37 964.91,298.21 \" fill=\"none\" id=\"E3-&gt;E2\" style=\"stroke: #383838; stroke-width: 1.0;\"/><polygon fill=\"none\" points=\"970.15,293.56,978.83,312.89,959.99,303.19,970.15,293.56\" style=\"stroke: #383838; stroke-width: 1.0;\"/></a><!--MD5=[f0cdf4548168e5211fb3a02bf679d63a]\n",
       "link E4 to E3--><a href=\"psysml:3f6bcc61-006c-4905-be22-168150e04931\" target=\"_top\" title=\"psysml:3f6bcc61-006c-4905-be22-168150e04931\" xlink:actuate=\"onRequest\" xlink:href=\"psysml:3f6bcc61-006c-4905-be22-168150e04931\" xlink:show=\"new\" xlink:title=\"psysml:3f6bcc61-006c-4905-be22-168150e04931\" xlink:type=\"simple\"><path d=\"M978.62,117.33 C960.85,136.08 939.39,158.72 921.71,177.38 \" fill=\"none\" id=\"E4-&gt;E3\" style=\"stroke: #383838; stroke-width: 1.0;\"/><polygon fill=\"#FFFFFF\" points=\"907.91,191.94,915.8909,173.3307,926.0566,182.9567,907.91,191.94\" style=\"stroke: #383838; stroke-width: 1.0;\"/><ellipse cx=\"921.2623\" cy=\"170.567\" fill=\"#383838\" rx=\"2\" ry=\"2\" style=\"stroke: #383838; stroke-width: 1.0;\"/><ellipse cx=\"928.5235\" cy=\"177.4426\" fill=\"#383838\" rx=\"2\" ry=\"2\" style=\"stroke: #383838; stroke-width: 1.0;\"/></a><!--MD5=[62aa6af11e70f752912c1cb0466f24f7]\n",
       "reverse link E4 to E5--><a href=\"psysml:dfe553ed-92b1-45a3-82b1-c875cfb3cf56\" target=\"_top\" title=\"psysml:dfe553ed-92b1-45a3-82b1-c875cfb3cf56\" xlink:actuate=\"onRequest\" xlink:href=\"psysml:dfe553ed-92b1-45a3-82b1-c875cfb3cf56\" xlink:show=\"new\" xlink:title=\"psysml:dfe553ed-92b1-45a3-82b1-c875cfb3cf56\" xlink:type=\"simple\"><path d=\"M1014,130.46 C1014,145.87 1014,162.52 1014,176.87 \" fill=\"none\" id=\"E4&lt;-E5\" style=\"stroke: #383838; stroke-width: 1.0;\"/><polygon fill=\"#FFFFFF\" points=\"1014,117.33,1010,123.33,1014,129.33,1018,123.33,1014,117.33\" style=\"stroke: #383838; stroke-width: 1.0;\"/><text fill=\"#000000\" font-family=\"sans-serif\" font-size=\"13\" lengthAdjust=\"spacingAndGlyphs\" textLength=\"8\" x=\"1005.2875\" y=\"165.8612\">1</text></a><!--MD5=[15ebcb19ae302d9b601edb458606d402]\n",
       "link E5 to E2--><a href=\"psysml:7cfd1003-3fe0-4a32-a3a1-13a5c8efedf2\" target=\"_top\" title=\"psysml:7cfd1003-3fe0-4a32-a3a1-13a5c8efedf2\" xlink:actuate=\"onRequest\" xlink:href=\"psysml:7cfd1003-3fe0-4a32-a3a1-13a5c8efedf2\" xlink:show=\"new\" xlink:title=\"psysml:7cfd1003-3fe0-4a32-a3a1-13a5c8efedf2\" xlink:type=\"simple\"><path d=\"M1014,253.33 C1014,265.52 1014,279.36 1014,292.68 \" fill=\"none\" id=\"E5-&gt;E2\" style=\"stroke: #383838; stroke-width: 1.0;\"/><polygon fill=\"#FFFFFF\" points=\"1014,312.87,1007,293.87,1021,293.87,1014,312.87\" style=\"stroke: #383838; stroke-width: 1.0;\"/><ellipse cx=\"1009\" cy=\"288.17\" fill=\"#383838\" rx=\"2\" ry=\"2\" style=\"stroke: #383838; stroke-width: 1.0;\"/><ellipse cx=\"1019\" cy=\"288.17\" fill=\"#383838\" rx=\"2\" ry=\"2\" style=\"stroke: #383838; stroke-width: 1.0;\"/></a><!--MD5=[6db378b65e1aef66a01cb3103812b399]\n",
       "reverse link E4 to E6--><a href=\"psysml:56232501-f921-4851-b5f9-a91b366c1c7b\" target=\"_top\" title=\"psysml:56232501-f921-4851-b5f9-a91b366c1c7b\" xlink:actuate=\"onRequest\" xlink:href=\"psysml:56232501-f921-4851-b5f9-a91b366c1c7b\" xlink:show=\"new\" xlink:title=\"psysml:56232501-f921-4851-b5f9-a91b366c1c7b\" xlink:type=\"simple\"><path d=\"M1066.59,126.06 C1085.53,142.65 1106.65,161.14 1124.61,176.87 \" fill=\"none\" id=\"E4&lt;-E6\" style=\"stroke: #383838; stroke-width: 1.0;\"/><polygon fill=\"#FFFFFF\" points=\"1056.62,117.33,1058.4928,124.2937,1065.6411,125.2433,1063.7683,118.2796,1056.62,117.33\" style=\"stroke: #383838; stroke-width: 1.0;\"/><text fill=\"#000000\" font-family=\"sans-serif\" font-size=\"13\" lengthAdjust=\"spacingAndGlyphs\" textLength=\"8\" x=\"1108.3468\" y=\"165.8612\">1</text></a><!--MD5=[2351f337d6de0f557b50152ba70847b5]\n",
       "link E6 to E2--><a href=\"psysml:b3767e4f-9e3f-4162-9e5b-3e184cb0e1ab\" target=\"_top\" title=\"psysml:b3767e4f-9e3f-4162-9e5b-3e184cb0e1ab\" xlink:actuate=\"onRequest\" xlink:href=\"psysml:b3767e4f-9e3f-4162-9e5b-3e184cb0e1ab\" xlink:show=\"new\" xlink:title=\"psysml:b3767e4f-9e3f-4162-9e5b-3e184cb0e1ab\" xlink:type=\"simple\"><path d=\"M1124.38,253.33 C1108.05,267.63 1089.14,284.19 1071.63,299.52 \" fill=\"none\" id=\"E6-&gt;E2\" style=\"stroke: #383838; stroke-width: 1.0;\"/><polygon fill=\"#FFFFFF\" points=\"1056.39,312.87,1066.0639,295.0819,1075.2922,305.6099,1056.39,312.87\" style=\"stroke: #383838; stroke-width: 1.0;\"/><ellipse cx=\"1071.6686\" cy=\"292.8287\" fill=\"#383838\" rx=\"2\" ry=\"2\" style=\"stroke: #383838; stroke-width: 1.0;\"/><ellipse cx=\"1078.2602\" cy=\"300.3487\" fill=\"#383838\" rx=\"2\" ry=\"2\" style=\"stroke: #383838; stroke-width: 1.0;\"/></a><!--MD5=[a919e0967d6f3de553dc51b9865a1d6d]\n",
       "link E10 to E7--><a href=\"psysml:650eb0f7-ec08-4309-80b6-1e90e34b9690\" target=\"_top\" title=\"psysml:650eb0f7-ec08-4309-80b6-1e90e34b9690\" xlink:actuate=\"onRequest\" xlink:href=\"psysml:650eb0f7-ec08-4309-80b6-1e90e34b9690\" xlink:show=\"new\" xlink:title=\"psysml:650eb0f7-ec08-4309-80b6-1e90e34b9690\" xlink:type=\"simple\"><path d=\"M557.97,117.15 C583.125,130.315 611.975,145.415 639.2925,159.7138 C642.7072,161.5011 646.0979,163.2759 649.4545,165.0329 \" fill=\"none\" id=\"E10-&gt;E7\" style=\"stroke: #383838; stroke-width: 1.0;\"/><polygon fill=\"#FFFFFF\" points=\"649.4545,165.0329,629.3749,162.4234,635.8674,150.0199,649.4545,165.0329\" style=\"stroke: #383838; stroke-width: 1.0;\"/><ellipse cx=\"625.2524\" cy=\"158.0081\" fill=\"#383838\" rx=\"2\" ry=\"2\" style=\"stroke: #383838; stroke-width: 1.0;\"/><ellipse cx=\"629.8899\" cy=\"149.1485\" fill=\"#383838\" rx=\"2\" ry=\"2\" style=\"stroke: #383838; stroke-width: 1.0;\"/></a><!--MD5=[122c850532ac2d81fb63f63c259fa5b3]\n",
       "@startuml\r\n",
       "skinparam linetype polyline\r\n",
       "skinparam monochrome true\r\n",
       "skinparam classbackgroundcolor white\r\n",
       "skinparam shadowing false\r\n",
       "skinparam wrapWidth 300\r\n",
       "hide circle\r\n",
       "\r\n",
       "package \"CalculationExample\" as E1  [[psysml:9a950c4d-df47-4bf2-a127-6824d456053c ]]  {\r\n",
       "comp def \"VehiclePart\" as E2  <<(T,blue) part  def>> [[psysml:240f00ab-b9bf-457e-9376-98b0b5e156bb ]] {\r\n",
       "- - attributes - -\r\n",
       "m: MassValue\r\n",
       "}\r\n",
       "comp def \"Vehicle\" as E3  <<(T,blue) part  def>> [[psysml:240db56f-6d8c-4faf-8b3c-f8974d12918d ]] {\r\n",
       "}\r\n",
       "comp usage \"vehicle: Vehicle \" as E4  <<(T,blue) part>> [[psysml:ce00e2ad-3315-43f7-b2e6-6ce884a27309 ]] {\r\n",
       "- - attributes - -\r\n",
       "^m: MassValue\r\n",
       "}\r\n",
       "comp usage \"eng: VehiclePart \" as E5  <<(T,blue) part>> [[psysml:83fc889d-b3c1-4be4-83aa-24728b198254 ]] {\r\n",
       "- - attributes - -\r\n",
       "^m: MassValue\r\n",
       "}\r\n",
       "comp usage \"trans: VehiclePart \" as E6  <<(T,blue) part>> [[psysml:9ad03ab5-4ba7-4600-8f6c-f33bd21910a1 ]] {\r\n",
       "- - attributes - -\r\n",
       "^m: MassValue\r\n",
       "}\r\n",
       "rec def \"MassSum\" as E7  <<(T,blue) calculation  def>> [[psysml:425e038d-47d6-48b2-bd42-a030f1074fc4 ]] {\r\n",
       "portin \"partMasses\" as E8  [[psysml:b45e328f-a4a8-4519-9228-274640d6e043 ]] \r\n",
       "portout \"totalMass\" as E9  [[psysml:712f9e49-cc72-40cc-a5b0-9958e3b93d47 ]] \r\n",
       "}\r\n",
       "\r\n",
       "comp usage \"ms: MassSum \" as E10  <<(T,blue) calculation>> [[psysml:e012d373-591a-4cf2-b53b-d810c6dd562d ]] {\r\n",
       "- - parameters - -\r\n",
       "<b>in</b> partMasses= (vehicle.eng.m, vehicle.trans.m); \r\n",
       "}\r\n",
       "comp usage \"vehicles \" as E11  <<(T,blue) part>> [[psysml:e4253433-368c-4e86-8a3c-6b186419df89 ]] {\r\n",
       "}\r\n",
       "comp usage \"masses1 \" as E12  <<(T,blue) attribute>> [[psysml:03468340-4ee1-4dfd-ba23-9337b31e6caf ]] {\r\n",
       "}\r\n",
       "comp usage \"masses2 \" as E13  <<(T,blue) attribute>> [[psysml:a35488ce-7eb0-470e-9ecc-f7a0c28bc139 ]] {\r\n",
       "}\r\n",
       "}\r\n",
       "E3 - -|> E2 [[psysml:2113862d-3e36-4f2a-be29-5fbeffc35ef5 ]] \r\n",
       "E4 - -:|> E3 [[psysml:3f6bcc61-006c-4905-be22-168150e04931 ]] \r\n",
       "E4 o- - \"1\"E5 [[psysml:dfe553ed-92b1-45a3-82b1-c875cfb3cf56 ]] \r\n",
       "E5 - -:|> E2 [[psysml:7cfd1003-3fe0-4a32-a3a1-13a5c8efedf2 ]] \r\n",
       "E4 o- - \"1\"E6 [[psysml:56232501-f921-4851-b5f9-a91b366c1c7b ]] \r\n",
       "E6 - -:|> E2 [[psysml:b3767e4f-9e3f-4162-9e5b-3e184cb0e1ab ]] \r\n",
       "E10 - -:|> E7 [[psysml:650eb0f7-ec08-4309-80b6-1e90e34b9690 ]] \r\n",
       "@enduml\r\n",
       "\n",
       "PlantUML version 1.2020.13(Sat Jun 13 12:26:38 UTC 2020)\n",
       "(EPL source distribution)\n",
       "Java Runtime: OpenJDK Runtime Environment\n",
       "JVM: OpenJDK 64-Bit Server VM\n",
       "Default Encoding: UTF-8\n",
       "Language: en\n",
       "Country: null\n",
       "--></g></svg>"
      ]
     },
     "execution_count": 15,
     "metadata": {},
     "output_type": "execute_result"
    }
   ],
   "source": [
    "%viz --style=\"POLYLINE\" --view=\"MIXED\" \"CalculationExample\""
   ]
  },
  {
   "cell_type": "code",
   "execution_count": 16,
   "id": "d5f2cf03",
   "metadata": {
    "execution": {
     "iopub.execute_input": "2022-08-19T08:22:01.137281Z",
     "iopub.status.busy": "2022-08-19T08:22:01.136805Z",
     "iopub.status.idle": "2022-08-19T08:22:01.207573Z",
     "shell.execute_reply": "2022-08-19T08:22:01.205854Z"
    }
   },
   "outputs": [
    {
     "data": {
      "image/svg+xml": [
       "<?xml version=\"1.0\" encoding=\"UTF-8\" standalone=\"no\"?><svg xmlns=\"http://www.w3.org/2000/svg\" xmlns:xlink=\"http://www.w3.org/1999/xlink\" contentScriptType=\"application/ecmascript\" contentStyleType=\"text/css\" height=\"772px\" preserveAspectRatio=\"none\" style=\"width:800px;height:772px;\" version=\"1.1\" viewBox=\"0 0 800 772\" width=\"800px\" zoomAndPan=\"magnify\"><defs/><g><!--MD5=[fbc87193dbaf4d95561dea2c320d4a47]\n",
       "cluster E1--><a href=\"psysml:9a950c4d-df47-4bf2-a127-6824d456053c\" target=\"_top\" title=\"psysml:9a950c4d-df47-4bf2-a127-6824d456053c\" xlink:actuate=\"onRequest\" xlink:href=\"psysml:9a950c4d-df47-4bf2-a127-6824d456053c\" xlink:show=\"new\" xlink:title=\"psysml:9a950c4d-df47-4bf2-a127-6824d456053c\" xlink:type=\"simple\"><polygon fill=\"#FFFFFF\" points=\"16,6,155,6,162,28.2969,778,28.2969,778,760,16,760,16,6\" style=\"stroke: #000000; stroke-width: 1.5;\"/><line style=\"stroke: #000000; stroke-width: 1.5;\" x1=\"16\" x2=\"162\" y1=\"28.2969\" y2=\"28.2969\"/><text fill=\"#000000\" font-family=\"sans-serif\" font-size=\"14\" font-weight=\"bold\" lengthAdjust=\"spacingAndGlyphs\" textLength=\"133\" x=\"20\" y=\"20.9951\">CalculationExample</text></a><!--MD5=[168fadf3d0c3fd93dd5d6da1b1d7ab76]\n",
       "cluster E7--><a href=\"psysml:425e038d-47d6-48b2-bd42-a030f1074fc4\" target=\"_top\" title=\"psysml:425e038d-47d6-48b2-bd42-a030f1074fc4\" xlink:actuate=\"onRequest\" xlink:href=\"psysml:425e038d-47d6-48b2-bd42-a030f1074fc4\" xlink:show=\"new\" xlink:title=\"psysml:425e038d-47d6-48b2-bd42-a030f1074fc4\" xlink:type=\"simple\"><rect fill=\"#FFFFFF\" height=\"84\" id=\"E7\" style=\"stroke: #383838; stroke-width: 1.5;\" width=\"561.5\" x=\"178.5\" y=\"325\"/><rect fill=\"#F8F8F8\" height=\"37.9375\" style=\"stroke: #383838; stroke-width: 1.5;\" width=\"561.5\" x=\"178.5\" y=\"325\"/><text fill=\"#000000\" font-family=\"sans-serif\" font-size=\"12\" font-style=\"italic\" lengthAdjust=\"spacingAndGlyphs\" textLength=\"110\" x=\"404.25\" y=\"341.1387\">«calculation  def»</text><text fill=\"#000000\" font-family=\"sans-serif\" font-size=\"12\" lengthAdjust=\"spacingAndGlyphs\" textLength=\"59\" x=\"429.75\" y=\"355.1074\">MassSum</text></a><!--MD5=[b4997ac47864f28c2f74865a473b2911]\n",
       "class E2--><a href=\"psysml:240f00ab-b9bf-457e-9376-98b0b5e156bb\" target=\"_top\" title=\"psysml:240f00ab-b9bf-457e-9376-98b0b5e156bb\" xlink:actuate=\"onRequest\" xlink:href=\"psysml:240f00ab-b9bf-457e-9376-98b0b5e156bb\" xlink:show=\"new\" xlink:title=\"psysml:240f00ab-b9bf-457e-9376-98b0b5e156bb\" xlink:type=\"simple\"><rect fill=\"#FFFFFF\" height=\"75.5469\" id=\"E2\" style=\"stroke: #383838; stroke-width: 1.5;\" width=\"92\" x=\"582\" y=\"152\"/><text fill=\"#000000\" font-family=\"sans-serif\" font-size=\"12\" font-style=\"italic\" lengthAdjust=\"spacingAndGlyphs\" textLength=\"68\" x=\"594\" y=\"168.1387\">«part  def»</text><text fill=\"#000000\" font-family=\"sans-serif\" font-size=\"12\" lengthAdjust=\"spacingAndGlyphs\" textLength=\"71\" x=\"592.5\" y=\"182.1074\">VehiclePart</text><line style=\"stroke: #383838; stroke-width: 1.5;\" x1=\"583\" x2=\"673\" y1=\"189.9375\" y2=\"189.9375\"/><text fill=\"#000000\" font-family=\"sans-serif\" font-size=\"11\" lengthAdjust=\"spacingAndGlyphs\" textLength=\"80\" x=\"588\" y=\"220.9526\">m: MassValue</text><line style=\"stroke: #383838; stroke-width: 1.0;\" x1=\"583\" x2=\"600.5\" y1=\"204.3398\" y2=\"204.3398\"/><text fill=\"#000000\" font-family=\"sans-serif\" font-size=\"11\" lengthAdjust=\"spacingAndGlyphs\" textLength=\"55\" x=\"600.5\" y=\"207.6479\">attributes</text><line style=\"stroke: #383838; stroke-width: 1.0;\" x1=\"655.5\" x2=\"673\" y1=\"204.3398\" y2=\"204.3398\"/></a><!--MD5=[09b614a08d8cba4a07c9adeb5e0fee81]\n",
       "class E3--><a href=\"psysml:240db56f-6d8c-4faf-8b3c-f8974d12918d\" target=\"_top\" title=\"psysml:240db56f-6d8c-4faf-8b3c-f8974d12918d\" xlink:actuate=\"onRequest\" xlink:href=\"psysml:240db56f-6d8c-4faf-8b3c-f8974d12918d\" xlink:show=\"new\" xlink:title=\"psysml:240db56f-6d8c-4faf-8b3c-f8974d12918d\" xlink:type=\"simple\"><rect fill=\"#FFFFFF\" height=\"45.9375\" id=\"E3\" style=\"stroke: #383838; stroke-width: 1.5;\" width=\"70\" x=\"418.5\" y=\"263\"/><text fill=\"#000000\" font-family=\"sans-serif\" font-size=\"12\" font-style=\"italic\" lengthAdjust=\"spacingAndGlyphs\" textLength=\"68\" x=\"419.5\" y=\"279.1387\">«part  def»</text><text fill=\"#000000\" font-family=\"sans-serif\" font-size=\"12\" lengthAdjust=\"spacingAndGlyphs\" textLength=\"45\" x=\"431\" y=\"293.1074\">Vehicle</text><line style=\"stroke: #383838; stroke-width: 1.5;\" x1=\"419.5\" x2=\"487.5\" y1=\"300.9375\" y2=\"300.9375\"/></a><!--MD5=[ebbe1d658d1005bcc118a6aa81145e00]\n",
       "class E4--><a href=\"psysml:ce00e2ad-3315-43f7-b2e6-6ce884a27309\" target=\"_top\" title=\"psysml:ce00e2ad-3315-43f7-b2e6-6ce884a27309\" xlink:actuate=\"onRequest\" xlink:href=\"psysml:ce00e2ad-3315-43f7-b2e6-6ce884a27309\" xlink:show=\"new\" xlink:title=\"psysml:ce00e2ad-3315-43f7-b2e6-6ce884a27309\" xlink:type=\"simple\"><rect fill=\"#FFFFFF\" height=\"75.5469\" id=\"E4\" rx=\"10\" ry=\"10\" style=\"stroke: #383838; stroke-width: 1.5;\" width=\"106\" x=\"125.5\" y=\"152\"/><text fill=\"#000000\" font-family=\"sans-serif\" font-size=\"12\" font-style=\"italic\" lengthAdjust=\"spacingAndGlyphs\" textLength=\"40\" x=\"158.5\" y=\"168.1387\">«part»</text><text fill=\"#000000\" font-family=\"sans-serif\" font-size=\"12\" lengthAdjust=\"spacingAndGlyphs\" textLength=\"96\" x=\"128.5\" y=\"182.1074\">vehicle: Vehicle</text><line style=\"stroke: #383838; stroke-width: 1.5;\" x1=\"126.5\" x2=\"230.5\" y1=\"189.9375\" y2=\"189.9375\"/><text fill=\"#000000\" font-family=\"sans-serif\" font-size=\"11\" lengthAdjust=\"spacingAndGlyphs\" textLength=\"89\" x=\"131.5\" y=\"220.9526\">^m: MassValue</text><line style=\"stroke: #383838; stroke-width: 1.0;\" x1=\"126.5\" x2=\"151\" y1=\"204.3398\" y2=\"204.3398\"/><text fill=\"#000000\" font-family=\"sans-serif\" font-size=\"11\" lengthAdjust=\"spacingAndGlyphs\" textLength=\"55\" x=\"151\" y=\"207.6479\">attributes</text><line style=\"stroke: #383838; stroke-width: 1.0;\" x1=\"206\" x2=\"230.5\" y1=\"204.3398\" y2=\"204.3398\"/></a><!--MD5=[270fce915f116d4de14055a7c1d9a0f3]\n",
       "class E5--><a href=\"psysml:83fc889d-b3c1-4be4-83aa-24728b198254\" target=\"_top\" title=\"psysml:83fc889d-b3c1-4be4-83aa-24728b198254\" xlink:actuate=\"onRequest\" xlink:href=\"psysml:83fc889d-b3c1-4be4-83aa-24728b198254\" xlink:show=\"new\" xlink:title=\"psysml:83fc889d-b3c1-4be4-83aa-24728b198254\" xlink:type=\"simple\"><rect fill=\"#FFFFFF\" height=\"75.5469\" id=\"E5\" rx=\"10\" ry=\"10\" style=\"stroke: #383838; stroke-width: 1.5;\" width=\"113\" x=\"397\" y=\"152\"/><text fill=\"#000000\" font-family=\"sans-serif\" font-size=\"12\" font-style=\"italic\" lengthAdjust=\"spacingAndGlyphs\" textLength=\"40\" x=\"433.5\" y=\"168.1387\">«part»</text><text fill=\"#000000\" font-family=\"sans-serif\" font-size=\"12\" lengthAdjust=\"spacingAndGlyphs\" textLength=\"103\" x=\"400\" y=\"182.1074\">eng: VehiclePart</text><line style=\"stroke: #383838; stroke-width: 1.5;\" x1=\"398\" x2=\"509\" y1=\"189.9375\" y2=\"189.9375\"/><text fill=\"#000000\" font-family=\"sans-serif\" font-size=\"11\" lengthAdjust=\"spacingAndGlyphs\" textLength=\"89\" x=\"403\" y=\"220.9526\">^m: MassValue</text><line style=\"stroke: #383838; stroke-width: 1.0;\" x1=\"398\" x2=\"426\" y1=\"204.3398\" y2=\"204.3398\"/><text fill=\"#000000\" font-family=\"sans-serif\" font-size=\"11\" lengthAdjust=\"spacingAndGlyphs\" textLength=\"55\" x=\"426\" y=\"207.6479\">attributes</text><line style=\"stroke: #383838; stroke-width: 1.0;\" x1=\"481\" x2=\"509\" y1=\"204.3398\" y2=\"204.3398\"/></a><!--MD5=[60a26617385b1d2d0262a64233df1f8d]\n",
       "class E6--><a href=\"psysml:9ad03ab5-4ba7-4600-8f6c-f33bd21910a1\" target=\"_top\" title=\"psysml:9ad03ab5-4ba7-4600-8f6c-f33bd21910a1\" xlink:actuate=\"onRequest\" xlink:href=\"psysml:9ad03ab5-4ba7-4600-8f6c-f33bd21910a1\" xlink:show=\"new\" xlink:title=\"psysml:9ad03ab5-4ba7-4600-8f6c-f33bd21910a1\" xlink:type=\"simple\"><rect fill=\"#FFFFFF\" height=\"75.5469\" id=\"E6\" rx=\"10\" ry=\"10\" style=\"stroke: #383838; stroke-width: 1.5;\" width=\"122\" x=\"392.5\" y=\"41\"/><text fill=\"#000000\" font-family=\"sans-serif\" font-size=\"12\" font-style=\"italic\" lengthAdjust=\"spacingAndGlyphs\" textLength=\"40\" x=\"433.5\" y=\"57.1387\">«part»</text><text fill=\"#000000\" font-family=\"sans-serif\" font-size=\"12\" lengthAdjust=\"spacingAndGlyphs\" textLength=\"112\" x=\"395.5\" y=\"71.1074\">trans: VehiclePart</text><line style=\"stroke: #383838; stroke-width: 1.5;\" x1=\"393.5\" x2=\"513.5\" y1=\"78.9375\" y2=\"78.9375\"/><text fill=\"#000000\" font-family=\"sans-serif\" font-size=\"11\" lengthAdjust=\"spacingAndGlyphs\" textLength=\"89\" x=\"398.5\" y=\"109.9526\">^m: MassValue</text><line style=\"stroke: #383838; stroke-width: 1.0;\" x1=\"393.5\" x2=\"426\" y1=\"93.3398\" y2=\"93.3398\"/><text fill=\"#000000\" font-family=\"sans-serif\" font-size=\"11\" lengthAdjust=\"spacingAndGlyphs\" textLength=\"55\" x=\"426\" y=\"96.6479\">attributes</text><line style=\"stroke: #383838; stroke-width: 1.0;\" x1=\"481\" x2=\"513.5\" y1=\"93.3398\" y2=\"93.3398\"/></a><!--MD5=[96f4274e9e20536e775497830990834d]\n",
       "class E10--><a href=\"psysml:e012d373-591a-4cf2-b53b-d810c6dd562d\" target=\"_top\" title=\"psysml:e012d373-591a-4cf2-b53b-d810c6dd562d\" xlink:actuate=\"onRequest\" xlink:href=\"psysml:e012d373-591a-4cf2-b53b-d810c6dd562d\" xlink:show=\"new\" xlink:title=\"psysml:e012d373-591a-4cf2-b53b-d810c6dd562d\" xlink:type=\"simple\"><rect fill=\"#FFFFFF\" height=\"75.5469\" id=\"E10\" rx=\"10\" ry=\"10\" style=\"stroke: #383838; stroke-width: 1.5;\" width=\"293\" x=\"32\" y=\"425\"/><text fill=\"#000000\" font-family=\"sans-serif\" font-size=\"12\" font-style=\"italic\" lengthAdjust=\"spacingAndGlyphs\" textLength=\"82\" x=\"137.5\" y=\"441.1387\">«calculation»</text><text fill=\"#000000\" font-family=\"sans-serif\" font-size=\"12\" lengthAdjust=\"spacingAndGlyphs\" textLength=\"85\" x=\"134\" y=\"455.1074\">ms: MassSum</text><line style=\"stroke: #383838; stroke-width: 1.5;\" x1=\"33\" x2=\"324\" y1=\"462.9375\" y2=\"462.9375\"/><text fill=\"#000000\" font-family=\"sans-serif\" font-size=\"11\" font-weight=\"bold\" lengthAdjust=\"spacingAndGlyphs\" textLength=\"10\" x=\"38\" y=\"493.9526\">in</text><text fill=\"#000000\" font-family=\"sans-serif\" font-size=\"11\" lengthAdjust=\"spacingAndGlyphs\" textLength=\"267\" x=\"52\" y=\"493.9526\">partMasses= (vehicle.eng.m, vehicle.trans.m);</text><line style=\"stroke: #383838; stroke-width: 1.0;\" x1=\"33\" x2=\"145\" y1=\"477.3398\" y2=\"477.3398\"/><text fill=\"#000000\" font-family=\"sans-serif\" font-size=\"11\" lengthAdjust=\"spacingAndGlyphs\" textLength=\"67\" x=\"145\" y=\"480.6479\">parameters</text><line style=\"stroke: #383838; stroke-width: 1.0;\" x1=\"212\" x2=\"324\" y1=\"477.3398\" y2=\"477.3398\"/></a><!--MD5=[1dd1bfd58a279cf63c5f349dbc8fc6a1]\n",
       "class E11--><a href=\"psysml:e4253433-368c-4e86-8a3c-6b186419df89\" target=\"_top\" title=\"psysml:e4253433-368c-4e86-8a3c-6b186419df89\" xlink:actuate=\"onRequest\" xlink:href=\"psysml:e4253433-368c-4e86-8a3c-6b186419df89\" xlink:show=\"new\" xlink:title=\"psysml:e4253433-368c-4e86-8a3c-6b186419df89\" xlink:type=\"simple\"><rect fill=\"#FFFFFF\" height=\"45.9375\" id=\"E11\" rx=\"10\" ry=\"10\" style=\"stroke: #383838; stroke-width: 1.5;\" width=\"60\" x=\"148.5\" y=\"536\"/><text fill=\"#000000\" font-family=\"sans-serif\" font-size=\"12\" font-style=\"italic\" lengthAdjust=\"spacingAndGlyphs\" textLength=\"40\" x=\"158.5\" y=\"552.1387\">«part»</text><text fill=\"#000000\" font-family=\"sans-serif\" font-size=\"12\" lengthAdjust=\"spacingAndGlyphs\" textLength=\"50\" x=\"151.5\" y=\"566.1074\">vehicles</text><line style=\"stroke: #383838; stroke-width: 1.5;\" x1=\"149.5\" x2=\"207.5\" y1=\"573.9375\" y2=\"573.9375\"/></a><!--MD5=[49a0ec8f00dab7302a31f22d0f0fe584]\n",
       "class E12--><a href=\"psysml:03468340-4ee1-4dfd-ba23-9337b31e6caf\" target=\"_top\" title=\"psysml:03468340-4ee1-4dfd-ba23-9337b31e6caf\" xlink:actuate=\"onRequest\" xlink:href=\"psysml:03468340-4ee1-4dfd-ba23-9337b31e6caf\" xlink:show=\"new\" xlink:title=\"psysml:03468340-4ee1-4dfd-ba23-9337b31e6caf\" xlink:type=\"simple\"><rect fill=\"#FFFFFF\" height=\"45.9375\" id=\"E12\" rx=\"10\" ry=\"10\" style=\"stroke: #383838; stroke-width: 1.5;\" width=\"71\" x=\"143\" y=\"617\"/><text fill=\"#000000\" font-family=\"sans-serif\" font-size=\"12\" font-style=\"italic\" lengthAdjust=\"spacingAndGlyphs\" textLength=\"69\" x=\"144\" y=\"633.1387\">«attribute»</text><text fill=\"#000000\" font-family=\"sans-serif\" font-size=\"12\" lengthAdjust=\"spacingAndGlyphs\" textLength=\"56\" x=\"148.5\" y=\"647.1074\">masses1</text><line style=\"stroke: #383838; stroke-width: 1.5;\" x1=\"144\" x2=\"213\" y1=\"654.9375\" y2=\"654.9375\"/></a><!--MD5=[ee3c913d1a06f366521f9ef512b67efe]\n",
       "class E13--><a href=\"psysml:a35488ce-7eb0-470e-9ecc-f7a0c28bc139\" target=\"_top\" title=\"psysml:a35488ce-7eb0-470e-9ecc-f7a0c28bc139\" xlink:actuate=\"onRequest\" xlink:href=\"psysml:a35488ce-7eb0-470e-9ecc-f7a0c28bc139\" xlink:show=\"new\" xlink:title=\"psysml:a35488ce-7eb0-470e-9ecc-f7a0c28bc139\" xlink:type=\"simple\"><rect fill=\"#FFFFFF\" height=\"45.9375\" id=\"E13\" rx=\"10\" ry=\"10\" style=\"stroke: #383838; stroke-width: 1.5;\" width=\"71\" x=\"143\" y=\"698\"/><text fill=\"#000000\" font-family=\"sans-serif\" font-size=\"12\" font-style=\"italic\" lengthAdjust=\"spacingAndGlyphs\" textLength=\"69\" x=\"144\" y=\"714.1387\">«attribute»</text><text fill=\"#000000\" font-family=\"sans-serif\" font-size=\"12\" lengthAdjust=\"spacingAndGlyphs\" textLength=\"56\" x=\"148.5\" y=\"728.1074\">masses2</text><line style=\"stroke: #383838; stroke-width: 1.5;\" x1=\"144\" x2=\"213\" y1=\"735.9375\" y2=\"735.9375\"/></a><text fill=\"#000000\" font-family=\"sans-serif\" font-size=\"14\" lengthAdjust=\"spacingAndGlyphs\" textLength=\"80\" x=\"138.5\" y=\"345.6982\">partMasses</text><rect fill=\"#383838\" height=\"12\" style=\"stroke: #F8F8F8; stroke-width: 1.5;\" width=\"12\" x=\"172.5\" y=\"361\"/><text fill=\"#000000\" font-family=\"sans-serif\" font-size=\"14\" lengthAdjust=\"spacingAndGlyphs\" textLength=\"66\" x=\"707\" y=\"345.6982\">totalMass</text><rect fill=\"#383838\" height=\"12\" style=\"stroke: #F8F8F8; stroke-width: 1.5;\" width=\"12\" x=\"734\" y=\"361\"/><!--MD5=[05d275557350bfb9b23a4ef7222b4c39]\n",
       "link E3 to E2--><a href=\"psysml:2113862d-3e36-4f2a-be29-5fbeffc35ef5\" target=\"_top\" title=\"psysml:2113862d-3e36-4f2a-be29-5fbeffc35ef5\" xlink:actuate=\"onRequest\" xlink:href=\"psysml:2113862d-3e36-4f2a-be29-5fbeffc35ef5\" xlink:show=\"new\" xlink:title=\"psysml:2113862d-3e36-4f2a-be29-5fbeffc35ef5\" xlink:type=\"simple\"><path d=\"M488.58,267.03 C510.18,255.02 538.76,239.11 564.34,224.87 \" fill=\"none\" id=\"E3-&gt;E2\" style=\"stroke: #383838; stroke-width: 1.0;\"/><polygon fill=\"none\" points=\"560.99,218.72,581.87,215.11,567.8,230.96,560.99,218.72\" style=\"stroke: #383838; stroke-width: 1.0;\"/></a><!--MD5=[f0cdf4548168e5211fb3a02bf679d63a]\n",
       "link E4 to E3--><a href=\"psysml:3f6bcc61-006c-4905-be22-168150e04931\" target=\"_top\" title=\"psysml:3f6bcc61-006c-4905-be22-168150e04931\" xlink:actuate=\"onRequest\" xlink:href=\"psysml:3f6bcc61-006c-4905-be22-168150e04931\" xlink:show=\"new\" xlink:title=\"psysml:3f6bcc61-006c-4905-be22-168150e04931\" xlink:type=\"simple\"><path d=\"M231.81,208.4 C280.01,225.35 351.19,250.37 399.58,267.39 \" fill=\"none\" id=\"E4-&gt;E3\" style=\"stroke: #383838; stroke-width: 1.0;\"/><polygon fill=\"#FFFFFF\" points=\"418.48,274.04,398.2339,274.3478,402.8735,261.139,418.48,274.04\" style=\"stroke: #383838; stroke-width: 1.0;\"/><ellipse cx=\"393.5188\" cy=\"270.5719\" fill=\"#383838\" rx=\"2\" ry=\"2\" style=\"stroke: #383838; stroke-width: 1.0;\"/><ellipse cx=\"396.8328\" cy=\"261.137\" fill=\"#383838\" rx=\"2\" ry=\"2\" style=\"stroke: #383838; stroke-width: 1.0;\"/></a><!--MD5=[62aa6af11e70f752912c1cb0466f24f7]\n",
       "reverse link E4 to E5--><a href=\"psysml:dfe553ed-92b1-45a3-82b1-c875cfb3cf56\" target=\"_top\" title=\"psysml:dfe553ed-92b1-45a3-82b1-c875cfb3cf56\" xlink:actuate=\"onRequest\" xlink:href=\"psysml:dfe553ed-92b1-45a3-82b1-c875cfb3cf56\" xlink:show=\"new\" xlink:title=\"psysml:dfe553ed-92b1-45a3-82b1-c875cfb3cf56\" xlink:type=\"simple\"><path d=\"M245.04,190 C291.31,190 352.65,190 396.61,190 \" fill=\"none\" id=\"E4&lt;-E5\" style=\"stroke: #383838; stroke-width: 1.0;\"/><polygon fill=\"#FFFFFF\" points=\"231.81,190,237.81,194,243.81,190,237.81,186,231.81,190\" style=\"stroke: #383838; stroke-width: 1.0;\"/><text fill=\"#000000\" font-family=\"sans-serif\" font-size=\"13\" lengthAdjust=\"spacingAndGlyphs\" textLength=\"8\" x=\"381.189\" y=\"203.0167\">1</text></a><!--MD5=[15ebcb19ae302d9b601edb458606d402]\n",
       "link E5 to E2--><a href=\"psysml:7cfd1003-3fe0-4a32-a3a1-13a5c8efedf2\" target=\"_top\" title=\"psysml:7cfd1003-3fe0-4a32-a3a1-13a5c8efedf2\" xlink:actuate=\"onRequest\" xlink:href=\"psysml:7cfd1003-3fe0-4a32-a3a1-13a5c8efedf2\" xlink:show=\"new\" xlink:title=\"psysml:7cfd1003-3fe0-4a32-a3a1-13a5c8efedf2\" xlink:type=\"simple\"><path d=\"M510.03,190 C526.55,190 544.81,190 561.89,190 \" fill=\"none\" id=\"E5-&gt;E2\" style=\"stroke: #383838; stroke-width: 1.0;\"/><polygon fill=\"#FFFFFF\" points=\"581.94,190,562.94,197,562.94,183,581.94,190\" style=\"stroke: #383838; stroke-width: 1.0;\"/><ellipse cx=\"557.24\" cy=\"195\" fill=\"#383838\" rx=\"2\" ry=\"2\" style=\"stroke: #383838; stroke-width: 1.0;\"/><ellipse cx=\"557.24\" cy=\"185\" fill=\"#383838\" rx=\"2\" ry=\"2\" style=\"stroke: #383838; stroke-width: 1.0;\"/></a><!--MD5=[6db378b65e1aef66a01cb3103812b399]\n",
       "reverse link E4 to E6--><a href=\"psysml:56232501-f921-4851-b5f9-a91b366c1c7b\" target=\"_top\" title=\"psysml:56232501-f921-4851-b5f9-a91b366c1c7b\" xlink:actuate=\"onRequest\" xlink:href=\"psysml:56232501-f921-4851-b5f9-a91b366c1c7b\" xlink:show=\"new\" xlink:title=\"psysml:56232501-f921-4851-b5f9-a91b366c1c7b\" xlink:type=\"simple\"><path d=\"M244.06,163.75 C288.95,145.5 348.37,121.34 392.28,103.49 \" fill=\"none\" id=\"E4&lt;-E6\" style=\"stroke: #383838; stroke-width: 1.0;\"/><polygon fill=\"#FFFFFF\" points=\"231.81,168.73,238.8751,170.1738,242.9252,164.2075,235.8601,162.7637,231.81,168.73\" style=\"stroke: #383838; stroke-width: 1.0;\"/><text fill=\"#000000\" font-family=\"sans-serif\" font-size=\"13\" lengthAdjust=\"spacingAndGlyphs\" textLength=\"8\" x=\"376.3313\" y=\"119.4914\">1</text></a><!--MD5=[2351f337d6de0f557b50152ba70847b5]\n",
       "link E6 to E2--><a href=\"psysml:b3767e4f-9e3f-4162-9e5b-3e184cb0e1ab\" target=\"_top\" title=\"psysml:b3767e4f-9e3f-4162-9e5b-3e184cb0e1ab\" xlink:actuate=\"onRequest\" xlink:href=\"psysml:b3767e4f-9e3f-4162-9e5b-3e184cb0e1ab\" xlink:show=\"new\" xlink:title=\"psysml:b3767e4f-9e3f-4162-9e5b-3e184cb0e1ab\" xlink:type=\"simple\"><path d=\"M513.86,117.2 C530.34,127.8 548.27,139.34 564.9,150.04 \" fill=\"none\" id=\"E6-&gt;E2\" style=\"stroke: #383838; stroke-width: 1.0;\"/><polygon fill=\"#FFFFFF\" points=\"581.97,161.03,562.2059,156.6277,569.7861,144.8574,581.97,161.03\" style=\"stroke: #383838; stroke-width: 1.0;\"/><ellipse cx=\"558.4966\" cy=\"151.86\" fill=\"#383838\" rx=\"2\" ry=\"2\" style=\"stroke: #383838; stroke-width: 1.0;\"/><ellipse cx=\"563.911\" cy=\"143.4527\" fill=\"#383838\" rx=\"2\" ry=\"2\" style=\"stroke: #383838; stroke-width: 1.0;\"/></a><!--MD5=[a919e0967d6f3de553dc51b9865a1d6d]\n",
       "link E10 to E7--><a href=\"psysml:650eb0f7-ec08-4309-80b6-1e90e34b9690\" target=\"_top\" title=\"psysml:650eb0f7-ec08-4309-80b6-1e90e34b9690\" xlink:actuate=\"onRequest\" xlink:href=\"psysml:650eb0f7-ec08-4309-80b6-1e90e34b9690\" xlink:show=\"new\" xlink:title=\"psysml:650eb0f7-ec08-4309-80b6-1e90e34b9690\" xlink:type=\"simple\"><path d=\"M301.95,424.94 C309.77,422.31 317.51,419.65 325,417 C332.145,414.4725 339.4875,411.7994 346.8675,409.0561 \" fill=\"none\" id=\"E10-&gt;E7\" style=\"stroke: #383838; stroke-width: 1.0;\"/><polygon fill=\"#FFFFFF\" points=\"346.8675,409.0561,331.4971,422.2375,326.6191,409.1148,346.8675,409.0561\" style=\"stroke: #383838; stroke-width: 1.0;\"/><ellipse cx=\"325.4574\" cy=\"422.3489\" fill=\"#383838\" rx=\"2\" ry=\"2\" style=\"stroke: #383838; stroke-width: 1.0;\"/><ellipse cx=\"321.9732\" cy=\"412.9755\" fill=\"#383838\" rx=\"2\" ry=\"2\" style=\"stroke: #383838; stroke-width: 1.0;\"/></a><!--MD5=[1f18939cc8b9669e5dae242f218c4f6d]\n",
       "@startuml\r\n",
       "left to right direction\r\n",
       "skinparam monochrome true\r\n",
       "skinparam classbackgroundcolor white\r\n",
       "skinparam shadowing false\r\n",
       "skinparam wrapWidth 300\r\n",
       "hide circle\r\n",
       "\r\n",
       "package \"CalculationExample\" as E1  [[psysml:9a950c4d-df47-4bf2-a127-6824d456053c ]]  {\r\n",
       "comp def \"VehiclePart\" as E2  <<(T,blue) part  def>> [[psysml:240f00ab-b9bf-457e-9376-98b0b5e156bb ]] {\r\n",
       "- - attributes - -\r\n",
       "m: MassValue\r\n",
       "}\r\n",
       "comp def \"Vehicle\" as E3  <<(T,blue) part  def>> [[psysml:240db56f-6d8c-4faf-8b3c-f8974d12918d ]] {\r\n",
       "}\r\n",
       "comp usage \"vehicle: Vehicle \" as E4  <<(T,blue) part>> [[psysml:ce00e2ad-3315-43f7-b2e6-6ce884a27309 ]] {\r\n",
       "- - attributes - -\r\n",
       "^m: MassValue\r\n",
       "}\r\n",
       "comp usage \"eng: VehiclePart \" as E5  <<(T,blue) part>> [[psysml:83fc889d-b3c1-4be4-83aa-24728b198254 ]] {\r\n",
       "- - attributes - -\r\n",
       "^m: MassValue\r\n",
       "}\r\n",
       "comp usage \"trans: VehiclePart \" as E6  <<(T,blue) part>> [[psysml:9ad03ab5-4ba7-4600-8f6c-f33bd21910a1 ]] {\r\n",
       "- - attributes - -\r\n",
       "^m: MassValue\r\n",
       "}\r\n",
       "rec def \"MassSum\" as E7  <<(T,blue) calculation  def>> [[psysml:425e038d-47d6-48b2-bd42-a030f1074fc4 ]] {\r\n",
       "portin \"partMasses\" as E8  [[psysml:b45e328f-a4a8-4519-9228-274640d6e043 ]] \r\n",
       "portout \"totalMass\" as E9  [[psysml:712f9e49-cc72-40cc-a5b0-9958e3b93d47 ]] \r\n",
       "}\r\n",
       "\r\n",
       "comp usage \"ms: MassSum \" as E10  <<(T,blue) calculation>> [[psysml:e012d373-591a-4cf2-b53b-d810c6dd562d ]] {\r\n",
       "- - parameters - -\r\n",
       "<b>in</b> partMasses= (vehicle.eng.m, vehicle.trans.m); \r\n",
       "}\r\n",
       "comp usage \"vehicles \" as E11  <<(T,blue) part>> [[psysml:e4253433-368c-4e86-8a3c-6b186419df89 ]] {\r\n",
       "}\r\n",
       "comp usage \"masses1 \" as E12  <<(T,blue) attribute>> [[psysml:03468340-4ee1-4dfd-ba23-9337b31e6caf ]] {\r\n",
       "}\r\n",
       "comp usage \"masses2 \" as E13  <<(T,blue) attribute>> [[psysml:a35488ce-7eb0-470e-9ecc-f7a0c28bc139 ]] {\r\n",
       "}\r\n",
       "}\r\n",
       "E3 - -|> E2 [[psysml:2113862d-3e36-4f2a-be29-5fbeffc35ef5 ]] \r\n",
       "E4 - -:|> E3 [[psysml:3f6bcc61-006c-4905-be22-168150e04931 ]] \r\n",
       "E4 o- - \"1\"E5 [[psysml:dfe553ed-92b1-45a3-82b1-c875cfb3cf56 ]] \r\n",
       "E5 - -:|> E2 [[psysml:7cfd1003-3fe0-4a32-a3a1-13a5c8efedf2 ]] \r\n",
       "E4 o- - \"1\"E6 [[psysml:56232501-f921-4851-b5f9-a91b366c1c7b ]] \r\n",
       "E6 - -:|> E2 [[psysml:b3767e4f-9e3f-4162-9e5b-3e184cb0e1ab ]] \r\n",
       "E10 - -:|> E7 [[psysml:650eb0f7-ec08-4309-80b6-1e90e34b9690 ]] \r\n",
       "@enduml\r\n",
       "\n",
       "PlantUML version 1.2020.13(Sat Jun 13 12:26:38 UTC 2020)\n",
       "(EPL source distribution)\n",
       "Java Runtime: OpenJDK Runtime Environment\n",
       "JVM: OpenJDK 64-Bit Server VM\n",
       "Default Encoding: UTF-8\n",
       "Language: en\n",
       "Country: null\n",
       "--></g></svg>"
      ]
     },
     "execution_count": 16,
     "metadata": {},
     "output_type": "execute_result"
    }
   ],
   "source": [
    "%viz --style=\"LR\" --view=\"Default\" \"CalculationExample\""
   ]
  },
  {
   "cell_type": "code",
   "execution_count": 17,
   "id": "27b0ae70",
   "metadata": {
    "execution": {
     "iopub.execute_input": "2022-08-19T08:22:01.256920Z",
     "iopub.status.busy": "2022-08-19T08:22:01.256414Z",
     "iopub.status.idle": "2022-08-19T08:22:01.324806Z",
     "shell.execute_reply": "2022-08-19T08:22:01.323075Z"
    }
   },
   "outputs": [
    {
     "data": {
      "image/svg+xml": [
       "<?xml version=\"1.0\" encoding=\"UTF-8\" standalone=\"no\"?><svg xmlns=\"http://www.w3.org/2000/svg\" xmlns:xlink=\"http://www.w3.org/1999/xlink\" contentScriptType=\"application/ecmascript\" contentStyleType=\"text/css\" height=\"499px\" preserveAspectRatio=\"none\" style=\"width:697px;height:499px;\" version=\"1.1\" viewBox=\"0 0 697 499\" width=\"697px\" zoomAndPan=\"magnify\"><defs/><g><!--MD5=[fbc87193dbaf4d95561dea2c320d4a47]\n",
       "cluster E1--><a href=\"psysml:9a950c4d-df47-4bf2-a127-6824d456053c\" target=\"_top\" title=\"psysml:9a950c4d-df47-4bf2-a127-6824d456053c\" xlink:actuate=\"onRequest\" xlink:href=\"psysml:9a950c4d-df47-4bf2-a127-6824d456053c\" xlink:show=\"new\" xlink:title=\"psysml:9a950c4d-df47-4bf2-a127-6824d456053c\" xlink:type=\"simple\"><polygon fill=\"#FFFFFF\" points=\"16,6,155,6,162,28.2969,675,28.2969,675,487,16,487,16,6\" style=\"stroke: #000000; stroke-width: 1.5;\"/><line style=\"stroke: #000000; stroke-width: 1.5;\" x1=\"16\" x2=\"162\" y1=\"28.2969\" y2=\"28.2969\"/><text fill=\"#000000\" font-family=\"sans-serif\" font-size=\"14\" font-weight=\"bold\" lengthAdjust=\"spacingAndGlyphs\" textLength=\"133\" x=\"20\" y=\"20.9951\">CalculationExample</text></a><!--MD5=[b4997ac47864f28c2f74865a473b2911]\n",
       "class E2--><a href=\"psysml:240f00ab-b9bf-457e-9376-98b0b5e156bb\" target=\"_top\" title=\"psysml:240f00ab-b9bf-457e-9376-98b0b5e156bb\" xlink:actuate=\"onRequest\" xlink:href=\"psysml:240f00ab-b9bf-457e-9376-98b0b5e156bb\" xlink:show=\"new\" xlink:title=\"psysml:240f00ab-b9bf-457e-9376-98b0b5e156bb\" xlink:type=\"simple\"><rect fill=\"#FFFFFF\" height=\"75.5469\" id=\"E2\" style=\"stroke: #383838; stroke-width: 1.5;\" width=\"92\" x=\"567\" y=\"152\"/><text fill=\"#000000\" font-family=\"sans-serif\" font-size=\"12\" font-style=\"italic\" lengthAdjust=\"spacingAndGlyphs\" textLength=\"68\" x=\"579\" y=\"168.1387\">«part  def»</text><text fill=\"#000000\" font-family=\"sans-serif\" font-size=\"12\" lengthAdjust=\"spacingAndGlyphs\" textLength=\"71\" x=\"577.5\" y=\"182.1074\">VehiclePart</text><line style=\"stroke: #383838; stroke-width: 1.5;\" x1=\"568\" x2=\"658\" y1=\"189.9375\" y2=\"189.9375\"/><text fill=\"#000000\" font-family=\"sans-serif\" font-size=\"11\" lengthAdjust=\"spacingAndGlyphs\" textLength=\"80\" x=\"573\" y=\"220.9526\">m: MassValue</text><line style=\"stroke: #383838; stroke-width: 1.0;\" x1=\"568\" x2=\"585.5\" y1=\"204.3398\" y2=\"204.3398\"/><text fill=\"#000000\" font-family=\"sans-serif\" font-size=\"11\" lengthAdjust=\"spacingAndGlyphs\" textLength=\"55\" x=\"585.5\" y=\"207.6479\">attributes</text><line style=\"stroke: #383838; stroke-width: 1.0;\" x1=\"640.5\" x2=\"658\" y1=\"204.3398\" y2=\"204.3398\"/></a><!--MD5=[09b614a08d8cba4a07c9adeb5e0fee81]\n",
       "class E3--><a href=\"psysml:240db56f-6d8c-4faf-8b3c-f8974d12918d\" target=\"_top\" title=\"psysml:240db56f-6d8c-4faf-8b3c-f8974d12918d\" xlink:actuate=\"onRequest\" xlink:href=\"psysml:240db56f-6d8c-4faf-8b3c-f8974d12918d\" xlink:show=\"new\" xlink:title=\"psysml:240db56f-6d8c-4faf-8b3c-f8974d12918d\" xlink:type=\"simple\"><rect fill=\"#FFFFFF\" height=\"45.9375\" id=\"E3\" style=\"stroke: #383838; stroke-width: 1.5;\" width=\"70\" x=\"411\" y=\"263\"/><text fill=\"#000000\" font-family=\"sans-serif\" font-size=\"12\" font-style=\"italic\" lengthAdjust=\"spacingAndGlyphs\" textLength=\"68\" x=\"412\" y=\"279.1387\">«part  def»</text><text fill=\"#000000\" font-family=\"sans-serif\" font-size=\"12\" lengthAdjust=\"spacingAndGlyphs\" textLength=\"45\" x=\"423.5\" y=\"293.1074\">Vehicle</text><line style=\"stroke: #383838; stroke-width: 1.5;\" x1=\"412\" x2=\"480\" y1=\"300.9375\" y2=\"300.9375\"/></a><!--MD5=[ebbe1d658d1005bcc118a6aa81145e00]\n",
       "class E4--><a href=\"psysml:ce00e2ad-3315-43f7-b2e6-6ce884a27309\" target=\"_top\" title=\"psysml:ce00e2ad-3315-43f7-b2e6-6ce884a27309\" xlink:actuate=\"onRequest\" xlink:href=\"psysml:ce00e2ad-3315-43f7-b2e6-6ce884a27309\" xlink:show=\"new\" xlink:title=\"psysml:ce00e2ad-3315-43f7-b2e6-6ce884a27309\" xlink:type=\"simple\"><rect fill=\"#FFFFFF\" height=\"75.5469\" id=\"E4\" rx=\"10\" ry=\"10\" style=\"stroke: #383838; stroke-width: 1.5;\" width=\"106\" x=\"125.5\" y=\"41\"/><text fill=\"#000000\" font-family=\"sans-serif\" font-size=\"12\" font-style=\"italic\" lengthAdjust=\"spacingAndGlyphs\" textLength=\"40\" x=\"158.5\" y=\"57.1387\">«part»</text><text fill=\"#000000\" font-family=\"sans-serif\" font-size=\"12\" lengthAdjust=\"spacingAndGlyphs\" textLength=\"96\" x=\"128.5\" y=\"71.1074\">vehicle: Vehicle</text><line style=\"stroke: #383838; stroke-width: 1.5;\" x1=\"126.5\" x2=\"230.5\" y1=\"78.9375\" y2=\"78.9375\"/><text fill=\"#000000\" font-family=\"sans-serif\" font-size=\"11\" lengthAdjust=\"spacingAndGlyphs\" textLength=\"89\" x=\"131.5\" y=\"109.9526\">^m: MassValue</text><line style=\"stroke: #383838; stroke-width: 1.0;\" x1=\"126.5\" x2=\"151\" y1=\"93.3398\" y2=\"93.3398\"/><text fill=\"#000000\" font-family=\"sans-serif\" font-size=\"11\" lengthAdjust=\"spacingAndGlyphs\" textLength=\"55\" x=\"151\" y=\"96.6479\">attributes</text><line style=\"stroke: #383838; stroke-width: 1.0;\" x1=\"206\" x2=\"230.5\" y1=\"93.3398\" y2=\"93.3398\"/></a><!--MD5=[270fce915f116d4de14055a7c1d9a0f3]\n",
       "class E5--><a href=\"psysml:83fc889d-b3c1-4be4-83aa-24728b198254\" target=\"_top\" title=\"psysml:83fc889d-b3c1-4be4-83aa-24728b198254\" xlink:actuate=\"onRequest\" xlink:href=\"psysml:83fc889d-b3c1-4be4-83aa-24728b198254\" xlink:show=\"new\" xlink:title=\"psysml:83fc889d-b3c1-4be4-83aa-24728b198254\" xlink:type=\"simple\"><rect fill=\"#FFFFFF\" height=\"75.5469\" id=\"E5\" rx=\"10\" ry=\"10\" style=\"stroke: #383838; stroke-width: 1.5;\" width=\"113\" x=\"389.5\" y=\"152\"/><text fill=\"#000000\" font-family=\"sans-serif\" font-size=\"12\" font-style=\"italic\" lengthAdjust=\"spacingAndGlyphs\" textLength=\"40\" x=\"426\" y=\"168.1387\">«part»</text><text fill=\"#000000\" font-family=\"sans-serif\" font-size=\"12\" lengthAdjust=\"spacingAndGlyphs\" textLength=\"103\" x=\"392.5\" y=\"182.1074\">eng: VehiclePart</text><line style=\"stroke: #383838; stroke-width: 1.5;\" x1=\"390.5\" x2=\"501.5\" y1=\"189.9375\" y2=\"189.9375\"/><text fill=\"#000000\" font-family=\"sans-serif\" font-size=\"11\" lengthAdjust=\"spacingAndGlyphs\" textLength=\"89\" x=\"395.5\" y=\"220.9526\">^m: MassValue</text><line style=\"stroke: #383838; stroke-width: 1.0;\" x1=\"390.5\" x2=\"418.5\" y1=\"204.3398\" y2=\"204.3398\"/><text fill=\"#000000\" font-family=\"sans-serif\" font-size=\"11\" lengthAdjust=\"spacingAndGlyphs\" textLength=\"55\" x=\"418.5\" y=\"207.6479\">attributes</text><line style=\"stroke: #383838; stroke-width: 1.0;\" x1=\"473.5\" x2=\"501.5\" y1=\"204.3398\" y2=\"204.3398\"/></a><!--MD5=[60a26617385b1d2d0262a64233df1f8d]\n",
       "class E6--><a href=\"psysml:9ad03ab5-4ba7-4600-8f6c-f33bd21910a1\" target=\"_top\" title=\"psysml:9ad03ab5-4ba7-4600-8f6c-f33bd21910a1\" xlink:actuate=\"onRequest\" xlink:href=\"psysml:9ad03ab5-4ba7-4600-8f6c-f33bd21910a1\" xlink:show=\"new\" xlink:title=\"psysml:9ad03ab5-4ba7-4600-8f6c-f33bd21910a1\" xlink:type=\"simple\"><rect fill=\"#FFFFFF\" height=\"75.5469\" id=\"E6\" rx=\"10\" ry=\"10\" style=\"stroke: #383838; stroke-width: 1.5;\" width=\"122\" x=\"385\" y=\"41\"/><text fill=\"#000000\" font-family=\"sans-serif\" font-size=\"12\" font-style=\"italic\" lengthAdjust=\"spacingAndGlyphs\" textLength=\"40\" x=\"426\" y=\"57.1387\">«part»</text><text fill=\"#000000\" font-family=\"sans-serif\" font-size=\"12\" lengthAdjust=\"spacingAndGlyphs\" textLength=\"112\" x=\"388\" y=\"71.1074\">trans: VehiclePart</text><line style=\"stroke: #383838; stroke-width: 1.5;\" x1=\"386\" x2=\"506\" y1=\"78.9375\" y2=\"78.9375\"/><text fill=\"#000000\" font-family=\"sans-serif\" font-size=\"11\" lengthAdjust=\"spacingAndGlyphs\" textLength=\"89\" x=\"391\" y=\"109.9526\">^m: MassValue</text><line style=\"stroke: #383838; stroke-width: 1.0;\" x1=\"386\" x2=\"418.5\" y1=\"93.3398\" y2=\"93.3398\"/><text fill=\"#000000\" font-family=\"sans-serif\" font-size=\"11\" lengthAdjust=\"spacingAndGlyphs\" textLength=\"55\" x=\"418.5\" y=\"96.6479\">attributes</text><line style=\"stroke: #383838; stroke-width: 1.0;\" x1=\"473.5\" x2=\"506\" y1=\"93.3398\" y2=\"93.3398\"/></a><!--MD5=[2156ba9850f5573cc1fc38a6a4b2f02b]\n",
       "class E7--><a href=\"psysml:425e038d-47d6-48b2-bd42-a030f1074fc4\" target=\"_top\" title=\"psysml:425e038d-47d6-48b2-bd42-a030f1074fc4\" xlink:actuate=\"onRequest\" xlink:href=\"psysml:425e038d-47d6-48b2-bd42-a030f1074fc4\" xlink:show=\"new\" xlink:title=\"psysml:425e038d-47d6-48b2-bd42-a030f1074fc4\" xlink:type=\"simple\"><rect fill=\"#FFFFFF\" height=\"45.9375\" id=\"E7\" style=\"stroke: #383838; stroke-width: 1.5;\" width=\"112\" x=\"390\" y=\"344\"/><text fill=\"#000000\" font-family=\"sans-serif\" font-size=\"12\" font-style=\"italic\" lengthAdjust=\"spacingAndGlyphs\" textLength=\"110\" x=\"391\" y=\"360.1387\">«calculation  def»</text><text fill=\"#000000\" font-family=\"sans-serif\" font-size=\"12\" lengthAdjust=\"spacingAndGlyphs\" textLength=\"59\" x=\"416.5\" y=\"374.1074\">MassSum</text><line style=\"stroke: #383838; stroke-width: 1.5;\" x1=\"391\" x2=\"501\" y1=\"381.9375\" y2=\"381.9375\"/></a><!--MD5=[b9389687b975829384b498ac4b7476b2]\n",
       "class E8--><a href=\"psysml:e012d373-591a-4cf2-b53b-d810c6dd562d\" target=\"_top\" title=\"psysml:e012d373-591a-4cf2-b53b-d810c6dd562d\" xlink:actuate=\"onRequest\" xlink:href=\"psysml:e012d373-591a-4cf2-b53b-d810c6dd562d\" xlink:show=\"new\" xlink:title=\"psysml:e012d373-591a-4cf2-b53b-d810c6dd562d\" xlink:type=\"simple\"><rect fill=\"#FFFFFF\" height=\"75.5469\" id=\"E8\" rx=\"10\" ry=\"10\" style=\"stroke: #383838; stroke-width: 1.5;\" width=\"293\" x=\"32\" y=\"152\"/><text fill=\"#000000\" font-family=\"sans-serif\" font-size=\"12\" font-style=\"italic\" lengthAdjust=\"spacingAndGlyphs\" textLength=\"82\" x=\"137.5\" y=\"168.1387\">«calculation»</text><text fill=\"#000000\" font-family=\"sans-serif\" font-size=\"12\" lengthAdjust=\"spacingAndGlyphs\" textLength=\"85\" x=\"134\" y=\"182.1074\">ms: MassSum</text><line style=\"stroke: #383838; stroke-width: 1.5;\" x1=\"33\" x2=\"324\" y1=\"189.9375\" y2=\"189.9375\"/><text fill=\"#000000\" font-family=\"sans-serif\" font-size=\"11\" font-weight=\"bold\" lengthAdjust=\"spacingAndGlyphs\" textLength=\"10\" x=\"38\" y=\"220.9526\">in</text><text fill=\"#000000\" font-family=\"sans-serif\" font-size=\"11\" lengthAdjust=\"spacingAndGlyphs\" textLength=\"267\" x=\"52\" y=\"220.9526\">partMasses= (vehicle.eng.m, vehicle.trans.m);</text><line style=\"stroke: #383838; stroke-width: 1.0;\" x1=\"33\" x2=\"145\" y1=\"204.3398\" y2=\"204.3398\"/><text fill=\"#000000\" font-family=\"sans-serif\" font-size=\"11\" lengthAdjust=\"spacingAndGlyphs\" textLength=\"67\" x=\"145\" y=\"207.6479\">parameters</text><line style=\"stroke: #383838; stroke-width: 1.0;\" x1=\"212\" x2=\"324\" y1=\"204.3398\" y2=\"204.3398\"/></a><!--MD5=[fd4143e9d270a159db93a4ea2a975926]\n",
       "class E9--><a href=\"psysml:e4253433-368c-4e86-8a3c-6b186419df89\" target=\"_top\" title=\"psysml:e4253433-368c-4e86-8a3c-6b186419df89\" xlink:actuate=\"onRequest\" xlink:href=\"psysml:e4253433-368c-4e86-8a3c-6b186419df89\" xlink:show=\"new\" xlink:title=\"psysml:e4253433-368c-4e86-8a3c-6b186419df89\" xlink:type=\"simple\"><rect fill=\"#FFFFFF\" height=\"45.9375\" id=\"E9\" rx=\"10\" ry=\"10\" style=\"stroke: #383838; stroke-width: 1.5;\" width=\"60\" x=\"148.5\" y=\"263\"/><text fill=\"#000000\" font-family=\"sans-serif\" font-size=\"12\" font-style=\"italic\" lengthAdjust=\"spacingAndGlyphs\" textLength=\"40\" x=\"158.5\" y=\"279.1387\">«part»</text><text fill=\"#000000\" font-family=\"sans-serif\" font-size=\"12\" lengthAdjust=\"spacingAndGlyphs\" textLength=\"50\" x=\"151.5\" y=\"293.1074\">vehicles</text><line style=\"stroke: #383838; stroke-width: 1.5;\" x1=\"149.5\" x2=\"207.5\" y1=\"300.9375\" y2=\"300.9375\"/></a><!--MD5=[96f4274e9e20536e775497830990834d]\n",
       "class E10--><a href=\"psysml:03468340-4ee1-4dfd-ba23-9337b31e6caf\" target=\"_top\" title=\"psysml:03468340-4ee1-4dfd-ba23-9337b31e6caf\" xlink:actuate=\"onRequest\" xlink:href=\"psysml:03468340-4ee1-4dfd-ba23-9337b31e6caf\" xlink:show=\"new\" xlink:title=\"psysml:03468340-4ee1-4dfd-ba23-9337b31e6caf\" xlink:type=\"simple\"><rect fill=\"#FFFFFF\" height=\"45.9375\" id=\"E10\" rx=\"10\" ry=\"10\" style=\"stroke: #383838; stroke-width: 1.5;\" width=\"71\" x=\"143\" y=\"344\"/><text fill=\"#000000\" font-family=\"sans-serif\" font-size=\"12\" font-style=\"italic\" lengthAdjust=\"spacingAndGlyphs\" textLength=\"69\" x=\"144\" y=\"360.1387\">«attribute»</text><text fill=\"#000000\" font-family=\"sans-serif\" font-size=\"12\" lengthAdjust=\"spacingAndGlyphs\" textLength=\"56\" x=\"148.5\" y=\"374.1074\">masses1</text><line style=\"stroke: #383838; stroke-width: 1.5;\" x1=\"144\" x2=\"213\" y1=\"381.9375\" y2=\"381.9375\"/></a><!--MD5=[1dd1bfd58a279cf63c5f349dbc8fc6a1]\n",
       "class E11--><a href=\"psysml:a35488ce-7eb0-470e-9ecc-f7a0c28bc139\" target=\"_top\" title=\"psysml:a35488ce-7eb0-470e-9ecc-f7a0c28bc139\" xlink:actuate=\"onRequest\" xlink:href=\"psysml:a35488ce-7eb0-470e-9ecc-f7a0c28bc139\" xlink:show=\"new\" xlink:title=\"psysml:a35488ce-7eb0-470e-9ecc-f7a0c28bc139\" xlink:type=\"simple\"><rect fill=\"#FFFFFF\" height=\"45.9375\" id=\"E11\" rx=\"10\" ry=\"10\" style=\"stroke: #383838; stroke-width: 1.5;\" width=\"71\" x=\"143\" y=\"425\"/><text fill=\"#000000\" font-family=\"sans-serif\" font-size=\"12\" font-style=\"italic\" lengthAdjust=\"spacingAndGlyphs\" textLength=\"69\" x=\"144\" y=\"441.1387\">«attribute»</text><text fill=\"#000000\" font-family=\"sans-serif\" font-size=\"12\" lengthAdjust=\"spacingAndGlyphs\" textLength=\"56\" x=\"148.5\" y=\"455.1074\">masses2</text><line style=\"stroke: #383838; stroke-width: 1.5;\" x1=\"144\" x2=\"213\" y1=\"462.9375\" y2=\"462.9375\"/></a><!--MD5=[05d275557350bfb9b23a4ef7222b4c39]\n",
       "link E3 to E2--><a href=\"psysml:2113862d-3e36-4f2a-be29-5fbeffc35ef5\" target=\"_top\" title=\"psysml:2113862d-3e36-4f2a-be29-5fbeffc35ef5\" xlink:actuate=\"onRequest\" xlink:href=\"psysml:2113862d-3e36-4f2a-be29-5fbeffc35ef5\" xlink:show=\"new\" xlink:title=\"psysml:2113862d-3e36-4f2a-be29-5fbeffc35ef5\" xlink:type=\"simple\"><path d=\"M481.19,266.11 C500.87,254.66 526.23,239.9 549.36,226.44 \" fill=\"none\" id=\"E3-&gt;E2\" style=\"stroke: #383838; stroke-width: 1.0;\"/><polygon fill=\"none\" points=\"546.08,220.25,566.89,216.25,553.12,232.35,546.08,220.25\" style=\"stroke: #383838; stroke-width: 1.0;\"/></a><!--MD5=[f0cdf4548168e5211fb3a02bf679d63a]\n",
       "link E4 to E3--><a href=\"psysml:3f6bcc61-006c-4905-be22-168150e04931\" target=\"_top\" title=\"psysml:3f6bcc61-006c-4905-be22-168150e04931\" xlink:actuate=\"onRequest\" xlink:href=\"psysml:3f6bcc61-006c-4905-be22-168150e04931\" xlink:show=\"new\" xlink:title=\"psysml:3f6bcc61-006c-4905-be22-168150e04931\" xlink:type=\"simple\"><path d=\"M231.68,89.16 C261.75,97.18 298.67,110.98 325,134 C367.22,170.91 347.46,203.34 385,245 C388.02,248.35 391.37,251.56 394.89,254.62 \" fill=\"none\" id=\"E4-&gt;E3\" style=\"stroke: #383838; stroke-width: 1.0;\"/><polygon fill=\"#FFFFFF\" points=\"411,266.86,391.636,260.941,400.1046,249.7928,411,266.86\" style=\"stroke: #383838; stroke-width: 1.0;\"/><ellipse cx=\"388.3069\" cy=\"255.9004\" fill=\"#383838\" rx=\"2\" ry=\"2\" style=\"stroke: #383838; stroke-width: 1.0;\"/><ellipse cx=\"394.3559\" cy=\"247.9374\" fill=\"#383838\" rx=\"2\" ry=\"2\" style=\"stroke: #383838; stroke-width: 1.0;\"/></a><!--MD5=[62aa6af11e70f752912c1cb0466f24f7]\n",
       "reverse link E4 to E5--><a href=\"psysml:dfe553ed-92b1-45a3-82b1-c875cfb3cf56\" target=\"_top\" title=\"psysml:dfe553ed-92b1-45a3-82b1-c875cfb3cf56\" xlink:actuate=\"onRequest\" xlink:href=\"psysml:dfe553ed-92b1-45a3-82b1-c875cfb3cf56\" xlink:show=\"new\" xlink:title=\"psysml:dfe553ed-92b1-45a3-82b1-c875cfb3cf56\" xlink:type=\"simple\"><path d=\"M244.22,102.27 C269.58,111.7 298.82,122.96 325,134 C346.18,142.93 369.13,153.43 389.23,162.91 \" fill=\"none\" id=\"E4&lt;-E5\" style=\"stroke: #383838; stroke-width: 1.0;\"/><polygon fill=\"#FFFFFF\" points=\"231.73,97.66,235.9728,103.4908,242.987,101.817,238.7442,95.9862,231.73,97.66\" style=\"stroke: #383838; stroke-width: 1.0;\"/><text fill=\"#000000\" font-family=\"sans-serif\" font-size=\"13\" lengthAdjust=\"spacingAndGlyphs\" textLength=\"8\" x=\"373.4438\" y=\"172.5045\">1</text></a><!--MD5=[15ebcb19ae302d9b601edb458606d402]\n",
       "link E5 to E2--><a href=\"psysml:7cfd1003-3fe0-4a32-a3a1-13a5c8efedf2\" target=\"_top\" title=\"psysml:7cfd1003-3fe0-4a32-a3a1-13a5c8efedf2\" xlink:actuate=\"onRequest\" xlink:href=\"psysml:7cfd1003-3fe0-4a32-a3a1-13a5c8efedf2\" xlink:show=\"new\" xlink:title=\"psysml:7cfd1003-3fe0-4a32-a3a1-13a5c8efedf2\" xlink:type=\"simple\"><path d=\"M502.86,190 C516.95,190 532.2,190 546.71,190 \" fill=\"none\" id=\"E5-&gt;E2\" style=\"stroke: #383838; stroke-width: 1.0;\"/><polygon fill=\"#FFFFFF\" points=\"566.87,190,547.87,197,547.87,183,566.87,190\" style=\"stroke: #383838; stroke-width: 1.0;\"/><ellipse cx=\"542.17\" cy=\"195\" fill=\"#383838\" rx=\"2\" ry=\"2\" style=\"stroke: #383838; stroke-width: 1.0;\"/><ellipse cx=\"542.17\" cy=\"185\" fill=\"#383838\" rx=\"2\" ry=\"2\" style=\"stroke: #383838; stroke-width: 1.0;\"/></a><!--MD5=[6db378b65e1aef66a01cb3103812b399]\n",
       "reverse link E4 to E6--><a href=\"psysml:56232501-f921-4851-b5f9-a91b366c1c7b\" target=\"_top\" title=\"psysml:56232501-f921-4851-b5f9-a91b366c1c7b\" xlink:actuate=\"onRequest\" xlink:href=\"psysml:56232501-f921-4851-b5f9-a91b366c1c7b\" xlink:show=\"new\" xlink:title=\"psysml:56232501-f921-4851-b5f9-a91b366c1c7b\" xlink:type=\"simple\"><path d=\"M244.74,79 C287.47,79 342.91,79 384.62,79 \" fill=\"none\" id=\"E4&lt;-E6\" style=\"stroke: #383838; stroke-width: 1.0;\"/><polygon fill=\"#FFFFFF\" points=\"231.64,79,237.64,83,243.64,79,237.64,75,231.64,79\" style=\"stroke: #383838; stroke-width: 1.0;\"/><text fill=\"#000000\" font-family=\"sans-serif\" font-size=\"13\" lengthAdjust=\"spacingAndGlyphs\" textLength=\"8\" x=\"369.0604\" y=\"91.968\">1</text></a><!--MD5=[2351f337d6de0f557b50152ba70847b5]\n",
       "link E6 to E2--><a href=\"psysml:b3767e4f-9e3f-4162-9e5b-3e184cb0e1ab\" target=\"_top\" title=\"psysml:b3767e4f-9e3f-4162-9e5b-3e184cb0e1ab\" xlink:actuate=\"onRequest\" xlink:href=\"psysml:b3767e4f-9e3f-4162-9e5b-3e184cb0e1ab\" xlink:show=\"new\" xlink:title=\"psysml:b3767e4f-9e3f-4162-9e5b-3e184cb0e1ab\" xlink:type=\"simple\"><path d=\"M503.78,117.2 C518.75,127.27 534.98,138.18 550.19,148.42 \" fill=\"none\" id=\"E6-&gt;E2\" style=\"stroke: #383838; stroke-width: 1.0;\"/><polygon fill=\"#FFFFFF\" points=\"566.83,159.61,547.156,154.821,554.9656,143.2016,566.83,159.61\" style=\"stroke: #383838; stroke-width: 1.0;\"/><ellipse cx=\"543.5409\" cy=\"149.9814\" fill=\"#383838\" rx=\"2\" ry=\"2\" style=\"stroke: #383838; stroke-width: 1.0;\"/><ellipse cx=\"549.1192\" cy=\"141.6819\" fill=\"#383838\" rx=\"2\" ry=\"2\" style=\"stroke: #383838; stroke-width: 1.0;\"/></a><!--MD5=[bfa3c8b0d15052fdf50ae9310b491027]\n",
       "link E8 to E7--><a href=\"psysml:650eb0f7-ec08-4309-80b6-1e90e34b9690\" target=\"_top\" title=\"psysml:650eb0f7-ec08-4309-80b6-1e90e34b9690\" xlink:actuate=\"onRequest\" xlink:href=\"psysml:650eb0f7-ec08-4309-80b6-1e90e34b9690\" xlink:show=\"new\" xlink:title=\"psysml:650eb0f7-ec08-4309-80b6-1e90e34b9690\" xlink:type=\"simple\"><path d=\"M298.16,228.06 C307.62,233.1 316.71,238.73 325,245 C360.74,272.02 352.72,294.93 385,326 C386.97,327.9 389.04,329.77 391.17,331.6 \" fill=\"none\" id=\"E8-&gt;E7\" style=\"stroke: #383838; stroke-width: 1.0;\"/><polygon fill=\"#FFFFFF\" points=\"407.03,343.89,387.727,337.7748,396.3084,326.7131,407.03,343.89\" style=\"stroke: #383838; stroke-width: 1.0;\"/><ellipse cx=\"384.4493\" cy=\"332.7007\" fill=\"#383838\" rx=\"2\" ry=\"2\" style=\"stroke: #383838; stroke-width: 1.0;\"/><ellipse cx=\"390.5788\" cy=\"324.7995\" fill=\"#383838\" rx=\"2\" ry=\"2\" style=\"stroke: #383838; stroke-width: 1.0;\"/></a><!--MD5=[344d8900893dc035081771bbc97d7118]\n",
       "@startuml\r\n",
       "left to right direction\r\n",
       "skinparam monochrome true\r\n",
       "skinparam classbackgroundcolor white\r\n",
       "skinparam shadowing false\r\n",
       "skinparam wrapWidth 300\r\n",
       "hide circle\r\n",
       "\r\n",
       "package \"CalculationExample\" as E1  [[psysml:9a950c4d-df47-4bf2-a127-6824d456053c ]]  {\r\n",
       "comp def \"VehiclePart\" as E2  <<(T,blue) part  def>> [[psysml:240f00ab-b9bf-457e-9376-98b0b5e156bb ]] {\r\n",
       "- - attributes - -\r\n",
       "m: MassValue\r\n",
       "}\r\n",
       "comp def \"Vehicle\" as E3  <<(T,blue) part  def>> [[psysml:240db56f-6d8c-4faf-8b3c-f8974d12918d ]] {\r\n",
       "}\r\n",
       "comp usage \"vehicle: Vehicle \" as E4  <<(T,blue) part>> [[psysml:ce00e2ad-3315-43f7-b2e6-6ce884a27309 ]] {\r\n",
       "- - attributes - -\r\n",
       "^m: MassValue\r\n",
       "}\r\n",
       "comp usage \"eng: VehiclePart \" as E5  <<(T,blue) part>> [[psysml:83fc889d-b3c1-4be4-83aa-24728b198254 ]] {\r\n",
       "- - attributes - -\r\n",
       "^m: MassValue\r\n",
       "}\r\n",
       "comp usage \"trans: VehiclePart \" as E6  <<(T,blue) part>> [[psysml:9ad03ab5-4ba7-4600-8f6c-f33bd21910a1 ]] {\r\n",
       "- - attributes - -\r\n",
       "^m: MassValue\r\n",
       "}\r\n",
       "comp def \"MassSum\" as E7  <<(T,blue) calculation  def>> [[psysml:425e038d-47d6-48b2-bd42-a030f1074fc4 ]] {\r\n",
       "}\r\n",
       "comp usage \"ms: MassSum \" as E8  <<(T,blue) calculation>> [[psysml:e012d373-591a-4cf2-b53b-d810c6dd562d ]] {\r\n",
       "- - parameters - -\r\n",
       "<b>in</b> partMasses= (vehicle.eng.m, vehicle.trans.m); \r\n",
       "}\r\n",
       "comp usage \"vehicles \" as E9  <<(T,blue) part>> [[psysml:e4253433-368c-4e86-8a3c-6b186419df89 ]] {\r\n",
       "}\r\n",
       "comp usage \"masses1 \" as E10  <<(T,blue) attribute>> [[psysml:03468340-4ee1-4dfd-ba23-9337b31e6caf ]] {\r\n",
       "}\r\n",
       "comp usage \"masses2 \" as E11  <<(T,blue) attribute>> [[psysml:a35488ce-7eb0-470e-9ecc-f7a0c28bc139 ]] {\r\n",
       "}\r\n",
       "}\r\n",
       "E3 - -|> E2 [[psysml:2113862d-3e36-4f2a-be29-5fbeffc35ef5 ]] \r\n",
       "E4 - -:|> E3 [[psysml:3f6bcc61-006c-4905-be22-168150e04931 ]] \r\n",
       "E4 o- - \"1\"E5 [[psysml:dfe553ed-92b1-45a3-82b1-c875cfb3cf56 ]] \r\n",
       "E5 - -:|> E2 [[psysml:7cfd1003-3fe0-4a32-a3a1-13a5c8efedf2 ]] \r\n",
       "E4 o- - \"1\"E6 [[psysml:56232501-f921-4851-b5f9-a91b366c1c7b ]] \r\n",
       "E6 - -:|> E2 [[psysml:b3767e4f-9e3f-4162-9e5b-3e184cb0e1ab ]] \r\n",
       "E8 - -:|> E7 [[psysml:650eb0f7-ec08-4309-80b6-1e90e34b9690 ]] \r\n",
       "@enduml\r\n",
       "\n",
       "PlantUML version 1.2020.13(Sat Jun 13 12:26:38 UTC 2020)\n",
       "(EPL source distribution)\n",
       "Java Runtime: OpenJDK Runtime Environment\n",
       "JVM: OpenJDK 64-Bit Server VM\n",
       "Default Encoding: UTF-8\n",
       "Language: en\n",
       "Country: null\n",
       "--></g></svg>"
      ]
     },
     "execution_count": 17,
     "metadata": {},
     "output_type": "execute_result"
    }
   ],
   "source": [
    "%viz --style=\"LR\" --view=\"Tree\" \"CalculationExample\""
   ]
  },
  {
   "cell_type": "code",
   "execution_count": 18,
   "id": "635492c8",
   "metadata": {
    "execution": {
     "iopub.execute_input": "2022-08-19T08:22:01.374114Z",
     "iopub.status.busy": "2022-08-19T08:22:01.373288Z",
     "iopub.status.idle": "2022-08-19T08:22:01.382023Z",
     "shell.execute_reply": "2022-08-19T08:22:01.382331Z"
    }
   },
   "outputs": [
    {
     "data": {
      "image/svg+xml": [
       "<?xml version=\"1.0\" encoding=\"UTF-8\" standalone=\"no\"?><svg xmlns=\"http://www.w3.org/2000/svg\" xmlns:xlink=\"http://www.w3.org/1999/xlink\" contentScriptType=\"application/ecmascript\" contentStyleType=\"text/css\" height=\"12px\" preserveAspectRatio=\"none\" style=\"width:12px;height:12px;\" version=\"1.1\" viewBox=\"0 0 12 12\" width=\"12px\" zoomAndPan=\"magnify\"><defs/><g><!--MD5=[19d285c9d72a204eba4e2cd117d745e8]\n",
       "@startuml\r\n",
       "left to right direction\r\n",
       "skinparam monochrome true\r\n",
       "skinparam classbackgroundcolor white\r\n",
       "skinparam shadowing false\r\n",
       "skinparam wrapWidth 300\r\n",
       "hide circle\r\n",
       "\r\n",
       "@enduml\r\n",
       "\n",
       "PlantUML version 1.2020.13(Sat Jun 13 12:26:38 UTC 2020)\n",
       "(EPL source distribution)\n",
       "Java Runtime: OpenJDK Runtime Environment\n",
       "JVM: OpenJDK 64-Bit Server VM\n",
       "Default Encoding: UTF-8\n",
       "Language: en\n",
       "Country: null\n",
       "--></g></svg>"
      ]
     },
     "execution_count": 18,
     "metadata": {},
     "output_type": "execute_result"
    }
   ],
   "source": [
    "%viz --style=\"LR\" --view=\"State\" \"CalculationExample\""
   ]
  },
  {
   "cell_type": "code",
   "execution_count": 19,
   "id": "d9ccaded",
   "metadata": {
    "execution": {
     "iopub.execute_input": "2022-08-19T08:22:01.432146Z",
     "iopub.status.busy": "2022-08-19T08:22:01.431678Z",
     "iopub.status.idle": "2022-08-19T08:22:01.483777Z",
     "shell.execute_reply": "2022-08-19T08:22:01.482046Z"
    }
   },
   "outputs": [
    {
     "data": {
      "image/svg+xml": [
       "<?xml version=\"1.0\" encoding=\"UTF-8\" standalone=\"no\"?><svg xmlns=\"http://www.w3.org/2000/svg\" xmlns:xlink=\"http://www.w3.org/1999/xlink\" contentScriptType=\"application/ecmascript\" contentStyleType=\"text/css\" height=\"1009px\" preserveAspectRatio=\"none\" style=\"width:744px;height:1009px;\" version=\"1.1\" viewBox=\"0 0 744 1009\" width=\"744px\" zoomAndPan=\"magnify\"><defs/><g><!--MD5=[fbc87193dbaf4d95561dea2c320d4a47]\n",
       "cluster E1--><a href=\"psysml:9a950c4d-df47-4bf2-a127-6824d456053c\" target=\"_top\" title=\"psysml:9a950c4d-df47-4bf2-a127-6824d456053c\" xlink:actuate=\"onRequest\" xlink:href=\"psysml:9a950c4d-df47-4bf2-a127-6824d456053c\" xlink:show=\"new\" xlink:title=\"psysml:9a950c4d-df47-4bf2-a127-6824d456053c\" xlink:type=\"simple\"><polygon fill=\"#FFFFFF\" points=\"16,6,155,6,162,28.2969,722,28.2969,722,997,16,997,16,6\" style=\"stroke: #000000; stroke-width: 1.5;\"/><line style=\"stroke: #000000; stroke-width: 1.5;\" x1=\"16\" x2=\"162\" y1=\"28.2969\" y2=\"28.2969\"/><text fill=\"#000000\" font-family=\"sans-serif\" font-size=\"14\" font-weight=\"bold\" lengthAdjust=\"spacingAndGlyphs\" textLength=\"133\" x=\"20\" y=\"20.9951\">CalculationExample</text></a><!--MD5=[e4f7fae6ed58524ba242bb0b0d3be6b7]\n",
       "cluster E2--><a href=\"psysml:240f00ab-b9bf-457e-9376-98b0b5e156bb\" target=\"_top\" title=\"psysml:240f00ab-b9bf-457e-9376-98b0b5e156bb\" xlink:actuate=\"onRequest\" xlink:href=\"psysml:240f00ab-b9bf-457e-9376-98b0b5e156bb\" xlink:show=\"new\" xlink:title=\"psysml:240f00ab-b9bf-457e-9376-98b0b5e156bb\" xlink:type=\"simple\"><rect fill=\"#FFFFFF\" height=\"148\" id=\"E2\" style=\"stroke: #383838; stroke-width: 1.5;\" width=\"144\" x=\"510\" y=\"272\"/><rect fill=\"#F8F8F8\" height=\"37.9375\" style=\"stroke: #383838; stroke-width: 1.5;\" width=\"144\" x=\"510\" y=\"272\"/><text fill=\"#000000\" font-family=\"sans-serif\" font-size=\"12\" font-style=\"italic\" lengthAdjust=\"spacingAndGlyphs\" textLength=\"68\" x=\"548\" y=\"288.1387\">«part  def»</text><text fill=\"#000000\" font-family=\"sans-serif\" font-size=\"12\" lengthAdjust=\"spacingAndGlyphs\" textLength=\"71\" x=\"546.5\" y=\"302.1074\">VehiclePart</text></a><!--MD5=[de5ec2e2e8f62f467e546659f5068c88]\n",
       "cluster E5--><a href=\"psysml:ce00e2ad-3315-43f7-b2e6-6ce884a27309\" target=\"_top\" title=\"psysml:ce00e2ad-3315-43f7-b2e6-6ce884a27309\" xlink:actuate=\"onRequest\" xlink:href=\"psysml:ce00e2ad-3315-43f7-b2e6-6ce884a27309\" xlink:show=\"new\" xlink:title=\"psysml:ce00e2ad-3315-43f7-b2e6-6ce884a27309\" xlink:type=\"simple\"><rect fill=\"#FFFFFF\" height=\"479\" id=\"E5\" rx=\"10\" ry=\"10\" style=\"stroke: #383838; stroke-width: 1.5;\" width=\"234\" x=\"61.5\" y=\"57\"/><rect fill=\"#F8F8F8\" height=\"23.9688\" rx=\"10\" ry=\"10\" style=\"stroke: #F8F8F8; stroke-width: 1.5;\" width=\"234\" x=\"61.5\" y=\"57\"/><rect fill=\"#F8F8F8\" height=\"10\" style=\"stroke: #F8F8F8; stroke-width: 1.5;\" width=\"234\" x=\"61.5\" y=\"70.9688\"/><rect fill=\"none\" height=\"479\" id=\"E5\" rx=\"10\" ry=\"10\" style=\"stroke: #383838; stroke-width: 1.5;\" width=\"234\" x=\"61.5\" y=\"57\"/><text fill=\"#000000\" font-family=\"sans-serif\" font-size=\"12\" lengthAdjust=\"spacingAndGlyphs\" textLength=\"96\" x=\"130.5\" y=\"73.1387\">vehicle: Vehicle</text><line style=\"stroke: #383838; stroke-width: 1.0;\" x1=\"61.5\" x2=\"295.5\" y1=\"80.9688\" y2=\"80.9688\"/></a><!--MD5=[14e3b0961a2654348d326746436168a1]\n",
       "cluster E6--><a href=\"psysml:83fc889d-b3c1-4be4-83aa-24728b198254\" target=\"_top\" title=\"psysml:83fc889d-b3c1-4be4-83aa-24728b198254\" xlink:actuate=\"onRequest\" xlink:href=\"psysml:83fc889d-b3c1-4be4-83aa-24728b198254\" xlink:show=\"new\" xlink:title=\"psysml:83fc889d-b3c1-4be4-83aa-24728b198254\" xlink:type=\"simple\"><rect fill=\"#FFFFFF\" height=\"132\" id=\"E6\" rx=\"10\" ry=\"10\" style=\"stroke: #383838; stroke-width: 1.5;\" width=\"154\" x=\"101.5\" y=\"288\"/><rect fill=\"#F8F8F8\" height=\"23.9688\" rx=\"10\" ry=\"10\" style=\"stroke: #F8F8F8; stroke-width: 1.5;\" width=\"154\" x=\"101.5\" y=\"288\"/><rect fill=\"#F8F8F8\" height=\"10\" style=\"stroke: #F8F8F8; stroke-width: 1.5;\" width=\"154\" x=\"101.5\" y=\"301.9688\"/><rect fill=\"none\" height=\"132\" id=\"E6\" rx=\"10\" ry=\"10\" style=\"stroke: #383838; stroke-width: 1.5;\" width=\"154\" x=\"101.5\" y=\"288\"/><text fill=\"#000000\" font-family=\"sans-serif\" font-size=\"12\" lengthAdjust=\"spacingAndGlyphs\" textLength=\"103\" x=\"127\" y=\"304.1387\">eng: VehiclePart</text><line style=\"stroke: #383838; stroke-width: 1.0;\" x1=\"101.5\" x2=\"255.5\" y1=\"311.9688\" y2=\"311.9688\"/></a><!--MD5=[55dfccfc6c49c2d10cd1bd2211a6c90c]\n",
       "cluster E8--><a href=\"psysml:9ad03ab5-4ba7-4600-8f6c-f33bd21910a1\" target=\"_top\" title=\"psysml:9ad03ab5-4ba7-4600-8f6c-f33bd21910a1\" xlink:actuate=\"onRequest\" xlink:href=\"psysml:9ad03ab5-4ba7-4600-8f6c-f33bd21910a1\" xlink:show=\"new\" xlink:title=\"psysml:9ad03ab5-4ba7-4600-8f6c-f33bd21910a1\" xlink:type=\"simple\"><rect fill=\"#FFFFFF\" height=\"132\" id=\"E8\" rx=\"10\" ry=\"10\" style=\"stroke: #383838; stroke-width: 1.5;\" width=\"154\" x=\"101.5\" y=\"116\"/><rect fill=\"#F8F8F8\" height=\"23.9688\" rx=\"10\" ry=\"10\" style=\"stroke: #F8F8F8; stroke-width: 1.5;\" width=\"154\" x=\"101.5\" y=\"116\"/><rect fill=\"#F8F8F8\" height=\"10\" style=\"stroke: #F8F8F8; stroke-width: 1.5;\" width=\"154\" x=\"101.5\" y=\"129.9688\"/><rect fill=\"none\" height=\"132\" id=\"E8\" rx=\"10\" ry=\"10\" style=\"stroke: #383838; stroke-width: 1.5;\" width=\"154\" x=\"101.5\" y=\"116\"/><text fill=\"#000000\" font-family=\"sans-serif\" font-size=\"12\" lengthAdjust=\"spacingAndGlyphs\" textLength=\"112\" x=\"122.5\" y=\"132.1387\">trans: VehiclePart</text><line style=\"stroke: #383838; stroke-width: 1.0;\" x1=\"101.5\" x2=\"255.5\" y1=\"139.9688\" y2=\"139.9688\"/></a><!--MD5=[917b9dd0c7eca3ee5f47219d1a84c0ad]\n",
       "cluster E11--><a href=\"psysml:425e038d-47d6-48b2-bd42-a030f1074fc4\" target=\"_top\" title=\"psysml:425e038d-47d6-48b2-bd42-a030f1074fc4\" xlink:actuate=\"onRequest\" xlink:href=\"psysml:425e038d-47d6-48b2-bd42-a030f1074fc4\" xlink:show=\"new\" xlink:title=\"psysml:425e038d-47d6-48b2-bd42-a030f1074fc4\" xlink:type=\"simple\"><rect fill=\"#FFFFFF\" height=\"84\" id=\"E11\" style=\"stroke: #383838; stroke-width: 1.5;\" width=\"505.5\" x=\"178.5\" y=\"568\"/><rect fill=\"#F8F8F8\" height=\"37.9375\" style=\"stroke: #383838; stroke-width: 1.5;\" width=\"505.5\" x=\"178.5\" y=\"568\"/><text fill=\"#000000\" font-family=\"sans-serif\" font-size=\"12\" font-style=\"italic\" lengthAdjust=\"spacingAndGlyphs\" textLength=\"110\" x=\"376.25\" y=\"584.1387\">«calculation  def»</text><text fill=\"#000000\" font-family=\"sans-serif\" font-size=\"12\" lengthAdjust=\"spacingAndGlyphs\" textLength=\"59\" x=\"401.75\" y=\"598.1074\">MassSum</text></a><!--MD5=[bee11217b2f71d958a27249dc326068c]\n",
       "class E14--><a href=\"psysml:e012d373-591a-4cf2-b53b-d810c6dd562d\" target=\"_top\" title=\"psysml:e012d373-591a-4cf2-b53b-d810c6dd562d\" xlink:actuate=\"onRequest\" xlink:href=\"psysml:e012d373-591a-4cf2-b53b-d810c6dd562d\" xlink:show=\"new\" xlink:title=\"psysml:e012d373-591a-4cf2-b53b-d810c6dd562d\" xlink:type=\"simple\"><rect fill=\"#FFFFFF\" height=\"75.5469\" id=\"E14\" rx=\"10\" ry=\"10\" style=\"stroke: #383838; stroke-width: 1.5;\" width=\"293\" x=\"32\" y=\"668\"/><text fill=\"#000000\" font-family=\"sans-serif\" font-size=\"12\" font-style=\"italic\" lengthAdjust=\"spacingAndGlyphs\" textLength=\"82\" x=\"137.5\" y=\"684.1387\">«calculation»</text><text fill=\"#000000\" font-family=\"sans-serif\" font-size=\"12\" lengthAdjust=\"spacingAndGlyphs\" textLength=\"85\" x=\"134\" y=\"698.1074\">ms: MassSum</text><line style=\"stroke: #383838; stroke-width: 1.5;\" x1=\"33\" x2=\"324\" y1=\"705.9375\" y2=\"705.9375\"/><text fill=\"#000000\" font-family=\"sans-serif\" font-size=\"11\" font-weight=\"bold\" lengthAdjust=\"spacingAndGlyphs\" textLength=\"10\" x=\"38\" y=\"736.9526\">in</text><text fill=\"#000000\" font-family=\"sans-serif\" font-size=\"11\" lengthAdjust=\"spacingAndGlyphs\" textLength=\"267\" x=\"52\" y=\"736.9526\">partMasses= (vehicle.eng.m, vehicle.trans.m);</text><line style=\"stroke: #383838; stroke-width: 1.0;\" x1=\"33\" x2=\"145\" y1=\"720.3398\" y2=\"720.3398\"/><text fill=\"#000000\" font-family=\"sans-serif\" font-size=\"11\" lengthAdjust=\"spacingAndGlyphs\" textLength=\"67\" x=\"145\" y=\"723.6479\">parameters</text><line style=\"stroke: #383838; stroke-width: 1.0;\" x1=\"212\" x2=\"324\" y1=\"720.3398\" y2=\"720.3398\"/></a><!--MD5=[35f0587eaee8d5bb9a02e25b63afc23b]\n",
       "class E16--><a href=\"psysml:03468340-4ee1-4dfd-ba23-9337b31e6caf\" target=\"_top\" title=\"psysml:03468340-4ee1-4dfd-ba23-9337b31e6caf\" xlink:actuate=\"onRequest\" xlink:href=\"psysml:03468340-4ee1-4dfd-ba23-9337b31e6caf\" xlink:show=\"new\" xlink:title=\"psysml:03468340-4ee1-4dfd-ba23-9337b31e6caf\" xlink:type=\"simple\"><rect fill=\"#FFFFFF\" height=\"45.9375\" id=\"E16\" rx=\"10\" ry=\"10\" style=\"stroke: #383838; stroke-width: 1.5;\" width=\"71\" x=\"143\" y=\"779\"/><text fill=\"#000000\" font-family=\"sans-serif\" font-size=\"12\" font-style=\"italic\" lengthAdjust=\"spacingAndGlyphs\" textLength=\"69\" x=\"144\" y=\"795.1387\">«attribute»</text><text fill=\"#000000\" font-family=\"sans-serif\" font-size=\"12\" lengthAdjust=\"spacingAndGlyphs\" textLength=\"56\" x=\"148.5\" y=\"809.1074\">masses1</text><line style=\"stroke: #383838; stroke-width: 1.5;\" x1=\"144\" x2=\"213\" y1=\"816.9375\" y2=\"816.9375\"/></a><!--MD5=[60e55a4a9b2f0dc0a36787c5a2095786]\n",
       "class E17--><a href=\"psysml:a35488ce-7eb0-470e-9ecc-f7a0c28bc139\" target=\"_top\" title=\"psysml:a35488ce-7eb0-470e-9ecc-f7a0c28bc139\" xlink:actuate=\"onRequest\" xlink:href=\"psysml:a35488ce-7eb0-470e-9ecc-f7a0c28bc139\" xlink:show=\"new\" xlink:title=\"psysml:a35488ce-7eb0-470e-9ecc-f7a0c28bc139\" xlink:type=\"simple\"><rect fill=\"#FFFFFF\" height=\"45.9375\" id=\"E17\" rx=\"10\" ry=\"10\" style=\"stroke: #383838; stroke-width: 1.5;\" width=\"71\" x=\"143\" y=\"860\"/><text fill=\"#000000\" font-family=\"sans-serif\" font-size=\"12\" font-style=\"italic\" lengthAdjust=\"spacingAndGlyphs\" textLength=\"69\" x=\"144\" y=\"876.1387\">«attribute»</text><text fill=\"#000000\" font-family=\"sans-serif\" font-size=\"12\" lengthAdjust=\"spacingAndGlyphs\" textLength=\"56\" x=\"148.5\" y=\"890.1074\">masses2</text><line style=\"stroke: #383838; stroke-width: 1.5;\" x1=\"144\" x2=\"213\" y1=\"897.9375\" y2=\"897.9375\"/></a><!--MD5=[09b614a08d8cba4a07c9adeb5e0fee81]\n",
       "class E3--><a href=\"psysml:3c3f6982-fe48-410d-a073-4745105d0bb1\" target=\"_top\" title=\"psysml:3c3f6982-fe48-410d-a073-4745105d0bb1\" xlink:actuate=\"onRequest\" xlink:href=\"psysml:3c3f6982-fe48-410d-a073-4745105d0bb1\" xlink:show=\"new\" xlink:title=\"psysml:3c3f6982-fe48-410d-a073-4745105d0bb1\" xlink:type=\"simple\"><rect fill=\"#FFFFFF\" height=\"45.9375\" id=\"E3\" rx=\"10\" ry=\"10\" style=\"stroke: #383838; stroke-width: 1.5;\" width=\"96\" x=\"534\" y=\"331\"/><text fill=\"#000000\" font-family=\"sans-serif\" font-size=\"12\" font-style=\"italic\" lengthAdjust=\"spacingAndGlyphs\" textLength=\"69\" x=\"547.5\" y=\"347.1387\">«attribute»</text><text fill=\"#000000\" font-family=\"sans-serif\" font-size=\"12\" lengthAdjust=\"spacingAndGlyphs\" textLength=\"86\" x=\"537\" y=\"361.1074\">m: MassValue</text><line style=\"stroke: #383838; stroke-width: 1.5;\" x1=\"535\" x2=\"629\" y1=\"368.9375\" y2=\"368.9375\"/></a><g id=\"E1.E4\"><a href=\"psysml:240db56f-6d8c-4faf-8b3c-f8974d12918d\" target=\"_top\" title=\"psysml:240db56f-6d8c-4faf-8b3c-f8974d12918d\" xlink:actuate=\"onRequest\" xlink:href=\"psysml:240db56f-6d8c-4faf-8b3c-f8974d12918d\" xlink:show=\"new\" xlink:title=\"psysml:240db56f-6d8c-4faf-8b3c-f8974d12918d\" xlink:type=\"simple\"><rect fill=\"#FFFFFF\" height=\"42.9375\" id=\"E4\" style=\"stroke: #383838; stroke-width: 1.5;\" width=\"75\" x=\"380\" y=\"477.5\"/><rect fill=\"#F8F8F8\" height=\"37.9375\" style=\"stroke: #383838; stroke-width: 1.5;\" width=\"75\" x=\"380\" y=\"477.5\"/><text fill=\"#000000\" font-family=\"sans-serif\" font-size=\"12\" font-style=\"italic\" lengthAdjust=\"spacingAndGlyphs\" textLength=\"68\" x=\"383.5\" y=\"493.6387\">«part  def»</text><text fill=\"#000000\" font-family=\"sans-serif\" font-size=\"12\" lengthAdjust=\"spacingAndGlyphs\" textLength=\"45\" x=\"395\" y=\"507.6074\">Vehicle</text></a></g><!--MD5=[96f4274e9e20536e775497830990834d]\n",
       "class E10--><a href=\"psysml:3c3f6982-fe48-410d-a073-4745105d0bb1\" target=\"_top\" title=\"psysml:3c3f6982-fe48-410d-a073-4745105d0bb1\" xlink:actuate=\"onRequest\" xlink:href=\"psysml:3c3f6982-fe48-410d-a073-4745105d0bb1\" xlink:show=\"new\" xlink:title=\"psysml:3c3f6982-fe48-410d-a073-4745105d0bb1\" xlink:type=\"simple\"><rect fill=\"#FFFFFF\" height=\"45.9375\" id=\"E10\" rx=\"10\" ry=\"10\" style=\"stroke: #383838; stroke-width: 1.5;\" width=\"106\" x=\"125.5\" y=\"447\"/><text fill=\"#000000\" font-family=\"sans-serif\" font-size=\"12\" font-style=\"italic\" lengthAdjust=\"spacingAndGlyphs\" textLength=\"69\" x=\"144\" y=\"463.1387\">«attribute»</text><text fill=\"#000000\" font-family=\"sans-serif\" font-size=\"12\" lengthAdjust=\"spacingAndGlyphs\" textLength=\"96\" x=\"128.5\" y=\"477.1074\">^m: MassValue</text><line style=\"stroke: #383838; stroke-width: 1.5;\" x1=\"126.5\" x2=\"230.5\" y1=\"484.9375\" y2=\"484.9375\"/></a><!--MD5=[2156ba9850f5573cc1fc38a6a4b2f02b]\n",
       "class E7--><a href=\"psysml:3c3f6982-fe48-410d-a073-4745105d0bb1\" target=\"_top\" title=\"psysml:3c3f6982-fe48-410d-a073-4745105d0bb1\" xlink:actuate=\"onRequest\" xlink:href=\"psysml:3c3f6982-fe48-410d-a073-4745105d0bb1\" xlink:show=\"new\" xlink:title=\"psysml:3c3f6982-fe48-410d-a073-4745105d0bb1\" xlink:type=\"simple\"><rect fill=\"#FFFFFF\" height=\"45.9375\" id=\"E7\" rx=\"10\" ry=\"10\" style=\"stroke: #383838; stroke-width: 1.5;\" width=\"106\" x=\"125.5\" y=\"331\"/><text fill=\"#000000\" font-family=\"sans-serif\" font-size=\"12\" font-style=\"italic\" lengthAdjust=\"spacingAndGlyphs\" textLength=\"69\" x=\"144\" y=\"347.1387\">«attribute»</text><text fill=\"#000000\" font-family=\"sans-serif\" font-size=\"12\" lengthAdjust=\"spacingAndGlyphs\" textLength=\"96\" x=\"128.5\" y=\"361.1074\">^m: MassValue</text><line style=\"stroke: #383838; stroke-width: 1.5;\" x1=\"126.5\" x2=\"230.5\" y1=\"368.9375\" y2=\"368.9375\"/></a><!--MD5=[fd4143e9d270a159db93a4ea2a975926]\n",
       "class E9--><a href=\"psysml:3c3f6982-fe48-410d-a073-4745105d0bb1\" target=\"_top\" title=\"psysml:3c3f6982-fe48-410d-a073-4745105d0bb1\" xlink:actuate=\"onRequest\" xlink:href=\"psysml:3c3f6982-fe48-410d-a073-4745105d0bb1\" xlink:show=\"new\" xlink:title=\"psysml:3c3f6982-fe48-410d-a073-4745105d0bb1\" xlink:type=\"simple\"><rect fill=\"#FFFFFF\" height=\"45.9375\" id=\"E9\" rx=\"10\" ry=\"10\" style=\"stroke: #383838; stroke-width: 1.5;\" width=\"106\" x=\"125.5\" y=\"159\"/><text fill=\"#000000\" font-family=\"sans-serif\" font-size=\"12\" font-style=\"italic\" lengthAdjust=\"spacingAndGlyphs\" textLength=\"69\" x=\"144\" y=\"175.1387\">«attribute»</text><text fill=\"#000000\" font-family=\"sans-serif\" font-size=\"12\" lengthAdjust=\"spacingAndGlyphs\" textLength=\"96\" x=\"128.5\" y=\"189.1074\">^m: MassValue</text><line style=\"stroke: #383838; stroke-width: 1.5;\" x1=\"126.5\" x2=\"230.5\" y1=\"196.9375\" y2=\"196.9375\"/></a><text fill=\"#000000\" font-family=\"sans-serif\" font-size=\"14\" lengthAdjust=\"spacingAndGlyphs\" textLength=\"80\" x=\"138.5\" y=\"588.6982\">partMasses</text><rect fill=\"#383838\" height=\"12\" style=\"stroke: #F8F8F8; stroke-width: 1.5;\" width=\"12\" x=\"172.5\" y=\"604\"/><text fill=\"#000000\" font-family=\"sans-serif\" font-size=\"14\" lengthAdjust=\"spacingAndGlyphs\" textLength=\"66\" x=\"651\" y=\"588.6982\">totalMass</text><rect fill=\"#383838\" height=\"12\" style=\"stroke: #F8F8F8; stroke-width: 1.5;\" width=\"12\" x=\"678\" y=\"604\"/><g id=\"E1.E15\"><a href=\"psysml:e4253433-368c-4e86-8a3c-6b186419df89\" target=\"_top\" title=\"psysml:e4253433-368c-4e86-8a3c-6b186419df89\" xlink:actuate=\"onRequest\" xlink:href=\"psysml:e4253433-368c-4e86-8a3c-6b186419df89\" xlink:show=\"new\" xlink:title=\"psysml:e4253433-368c-4e86-8a3c-6b186419df89\" xlink:type=\"simple\"><rect fill=\"#FFFFFF\" height=\"40\" id=\"E15\" rx=\"10\" ry=\"10\" style=\"stroke: #383838; stroke-width: 1.5;\" width=\"187\" x=\"85\" y=\"941\"/><rect fill=\"#F8F8F8\" height=\"23.9688\" rx=\"10\" ry=\"10\" style=\"stroke: #F8F8F8; stroke-width: 1.5;\" width=\"187\" x=\"85\" y=\"941\"/><rect fill=\"#F8F8F8\" height=\"10\" style=\"stroke: #F8F8F8; stroke-width: 1.5;\" width=\"187\" x=\"85\" y=\"954.9688\"/><rect fill=\"none\" height=\"40\" id=\"E15\" rx=\"10\" ry=\"10\" style=\"stroke: #383838; stroke-width: 1.5;\" width=\"187\" x=\"85\" y=\"941\"/><text fill=\"#000000\" font-family=\"sans-serif\" font-size=\"12\" lengthAdjust=\"spacingAndGlyphs\" textLength=\"172\" x=\"90.5\" y=\"957.1387\">vehicles= (vehicle, vehicle);</text></a></g><!--MD5=[185131fc0dcab0a4505a2ebe144e961b]\n",
       "link E4 to E2--><a href=\"psysml:2113862d-3e36-4f2a-be29-5fbeffc35ef5\" target=\"_top\" title=\"psysml:2113862d-3e36-4f2a-be29-5fbeffc35ef5\" xlink:actuate=\"onRequest\" xlink:href=\"psysml:2113862d-3e36-4f2a-be29-5fbeffc35ef5\" xlink:show=\"new\" xlink:title=\"psysml:2113862d-3e36-4f2a-be29-5fbeffc35ef5\" xlink:type=\"simple\"><path d=\"M455.37,479.26 C478.97,466.625 509.7725,450.135 534.97,436.645 C541.2694,433.2725 547.2184,430.0875 552.6171,427.1971 C555.3164,425.7519 557.8781,424.3804 560.2772,423.0959 C561.4767,422.4536 562.6356,421.8331 563.7507,421.2361 C564.3083,420.9375 564.8549,420.6449 565.3902,420.3583 C565.524,420.2866 565.6571,420.2153 565.7895,420.1445 \" fill=\"none\" id=\"E4-&gt;E2\" style=\"stroke: #383838; stroke-width: 1.0;\"/><polygon fill=\"#FFFFFF\" points=\"565.7895,420.1445,545.7352,422.942,552.3436,435.2841,565.7895,420.1445\" style=\"stroke: #383838; stroke-width: 1.0;\"/></a><!--MD5=[2351f337d6de0f557b50152ba70847b5]\n",
       "link E6 to E2--><a href=\"psysml:7cfd1003-3fe0-4a32-a3a1-13a5c8efedf2\" target=\"_top\" title=\"psysml:7cfd1003-3fe0-4a32-a3a1-13a5c8efedf2\" xlink:actuate=\"onRequest\" xlink:href=\"psysml:7cfd1003-3fe0-4a32-a3a1-13a5c8efedf2\" xlink:show=\"new\" xlink:title=\"psysml:7cfd1003-3fe0-4a32-a3a1-13a5c8efedf2\" xlink:type=\"simple\"><path d=\"M256.7124,412 C257.3361,412 257.9624,412 258.5912,412 C263.6218,412 268.8161,412 274.1506,412 C284.8196,412 296.0496,412 307.6535,412 C330.8615,412 355.5653,412 380.2687,412 C404.9722,412 429.6752,412 452.8816,412 C464.4848,412 475.7138,412 486.3817,412 C491.7156,412 496.9092,412 501.9391,412 C504.4541,412 506.9282,412 509.3584,412 \" fill=\"none\" id=\"E6-&gt;E2\" style=\"stroke: #383838; stroke-width: 1.0;\"/><polygon fill=\"#FFFFFF\" points=\"509.3584,412,490.3584,419,490.3584,405,509.3584,412\" style=\"stroke: #383838; stroke-width: 1.0;\"/><ellipse cx=\"484.6584\" cy=\"417\" fill=\"#383838\" rx=\"2\" ry=\"2\" style=\"stroke: #383838; stroke-width: 1.0;\"/><ellipse cx=\"484.6584\" cy=\"407\" fill=\"#383838\" rx=\"2\" ry=\"2\" style=\"stroke: #383838; stroke-width: 1.0;\"/></a><!--MD5=[f1f3f9f2fc535e6147756cb86a7f2e32]\n",
       "link E8 to E2--><a href=\"psysml:b3767e4f-9e3f-4162-9e5b-3e184cb0e1ab\" target=\"_top\" title=\"psysml:b3767e4f-9e3f-4162-9e5b-3e184cb0e1ab\" xlink:actuate=\"onRequest\" xlink:href=\"psysml:b3767e4f-9e3f-4162-9e5b-3e184cb0e1ab\" xlink:show=\"new\" xlink:title=\"psysml:b3767e4f-9e3f-4162-9e5b-3e184cb0e1ab\" xlink:type=\"simple\"><path d=\"M195.3698,248.3452 C195.8732,248.609 196.3874,248.8784 196.912,249.1532 C199.0105,250.2524 201.2768,251.4382 203.6986,252.7038 C208.5423,255.2351 214.0083,258.0856 219.9992,261.2006 C243.9628,273.6606 276.3244,290.3525 310.8463,307.7725 C379.89,342.6125 457.575,380.365 494,393 C498.5275,394.5713 503.2342,396.0406 508.0104,397.4097 C508.6074,397.5809 509.2055,397.7505 509.8045,397.9185 \" fill=\"none\" id=\"E8-&gt;E2\" style=\"stroke: #383838; stroke-width: 1.0;\"/><polygon fill=\"#FFFFFF\" points=\"509.8045,397.9185,489.62,399.527,493.401,386.0472,509.8045,397.9185\" style=\"stroke: #383838; stroke-width: 1.0;\"/><ellipse cx=\"484.672\" cy=\"396.0619\" fill=\"#383838\" rx=\"2\" ry=\"2\" style=\"stroke: #383838; stroke-width: 1.0;\"/><ellipse cx=\"487.3727\" cy=\"386.4335\" fill=\"#383838\" rx=\"2\" ry=\"2\" style=\"stroke: #383838; stroke-width: 1.0;\"/></a><!--MD5=[1c62de2aa5b76f0fb657ff8443a1a700]\n",
       "link E5 to E4--><a href=\"psysml:3f6bcc61-006c-4905-be22-168150e04931\" target=\"_top\" title=\"psysml:3f6bcc61-006c-4905-be22-168150e04931\" xlink:actuate=\"onRequest\" xlink:href=\"psysml:3f6bcc61-006c-4905-be22-168150e04931\" xlink:show=\"new\" xlink:title=\"psysml:3f6bcc61-006c-4905-be22-168150e04931\" xlink:type=\"simple\"><path d=\"M296.2774,513.714 C296.5896,513.6758 296.9017,513.6376 297.2139,513.5994 C297.8382,513.523 298.4625,513.4467 299.0868,513.3703 C300.3354,513.2175 301.5838,513.0648 302.8316,512.9122 C322.795,510.47 342.575,508.05 359.9,505.93 \" fill=\"none\" id=\"E5-&gt;E4\" style=\"stroke: #383838; stroke-width: 1.0;\"/><polygon fill=\"#FFFFFF\" points=\"379.99,503.47,361.9803,512.7248,360.2807,498.8283,379.99,503.47\" style=\"stroke: #383838; stroke-width: 1.0;\"/><ellipse cx=\"356.0797\" cy=\"511.4315\" fill=\"#383838\" rx=\"2\" ry=\"2\" style=\"stroke: #383838; stroke-width: 1.0;\"/><ellipse cx=\"354.8657\" cy=\"501.5055\" fill=\"#383838\" rx=\"2\" ry=\"2\" style=\"stroke: #383838; stroke-width: 1.0;\"/></a><!--MD5=[d00f01b66edb9b3ce8f530f77713355e]\n",
       "link E14 to E11--><a href=\"psysml:650eb0f7-ec08-4309-80b6-1e90e34b9690\" target=\"_top\" title=\"psysml:650eb0f7-ec08-4309-80b6-1e90e34b9690\" xlink:actuate=\"onRequest\" xlink:href=\"psysml:650eb0f7-ec08-4309-80b6-1e90e34b9690\" xlink:show=\"new\" xlink:title=\"psysml:650eb0f7-ec08-4309-80b6-1e90e34b9690\" xlink:type=\"simple\"><path d=\"M305.46,667.87 C312.11,665.33 318.66,662.7 325,660 C330.4125,657.6925 335.925,655.165 341.425,652.5105 C341.7687,652.3446 342.1125,652.1782 342.4561,652.0113 \" fill=\"none\" id=\"E14-&gt;E11\" style=\"stroke: #383838; stroke-width: 1.0;\"/><polygon fill=\"#FFFFFF\" points=\"342.4561,652.0113,328.4229,666.6082,322.307,654.0147,342.4561,652.0113\" style=\"stroke: #383838; stroke-width: 1.0;\"/><ellipse cx=\"322.4218\" cy=\"667.2991\" fill=\"#383838\" rx=\"2\" ry=\"2\" style=\"stroke: #383838; stroke-width: 1.0;\"/><ellipse cx=\"318.0533\" cy=\"658.3038\" fill=\"#383838\" rx=\"2\" ry=\"2\" style=\"stroke: #383838; stroke-width: 1.0;\"/></a><!--MD5=[71652dafd8115333ae268991164c5d91]\n",
       "@startuml\r\n",
       "skinparam ranksep 10\r\n",
       "skinparam rectangle {\r\n",
       " backgroundColor<<block>> LightGreen\r\n",
       "}\r\n",
       "left to right direction\r\n",
       "skinparam monochrome true\r\n",
       "skinparam classbackgroundcolor white\r\n",
       "skinparam shadowing false\r\n",
       "skinparam wrapWidth 300\r\n",
       "hide circle\r\n",
       "\r\n",
       "package \"CalculationExample\" as E1  [[psysml:9a950c4d-df47-4bf2-a127-6824d456053c ]]  {\r\n",
       "rec def \"VehiclePart\" as E2  <<(T,blue) part  def>> [[psysml:240f00ab-b9bf-457e-9376-98b0b5e156bb ]] {\r\n",
       "comp usage \"m: MassValue \" as E3  <<(T,blue) attribute>> [[psysml:3c3f6982-fe48-410d-a073-4745105d0bb1 ]] {\r\n",
       "}\r\n",
       "}\r\n",
       "rec def \"Vehicle\" as E4  <<(T,blue) part  def>> [[psysml:240db56f-6d8c-4faf-8b3c-f8974d12918d ]] {\r\n",
       "}\r\n",
       "rec usage \"vehicle: Vehicle\" as E5  [[psysml:ce00e2ad-3315-43f7-b2e6-6ce884a27309 ]] {\r\n",
       "rec usage \"eng: VehiclePart\" as E6  [[psysml:83fc889d-b3c1-4be4-83aa-24728b198254 ]] {\r\n",
       "comp usage \"^m: MassValue \" as E7  <<(T,blue) attribute>> [[psysml:3c3f6982-fe48-410d-a073-4745105d0bb1 ]] {\r\n",
       "}\r\n",
       "}\r\n",
       "rec usage \"trans: VehiclePart\" as E8  [[psysml:9ad03ab5-4ba7-4600-8f6c-f33bd21910a1 ]] {\r\n",
       "comp usage \"^m: MassValue \" as E9  <<(T,blue) attribute>> [[psysml:3c3f6982-fe48-410d-a073-4745105d0bb1 ]] {\r\n",
       "}\r\n",
       "}\r\n",
       "comp usage \"^m: MassValue \" as E10  <<(T,blue) attribute>> [[psysml:3c3f6982-fe48-410d-a073-4745105d0bb1 ]] {\r\n",
       "}\r\n",
       "}\r\n",
       "rec def \"MassSum\" as E11  <<(T,blue) calculation  def>> [[psysml:425e038d-47d6-48b2-bd42-a030f1074fc4 ]] {\r\n",
       "portin \"partMasses\" as E12  [[psysml:b45e328f-a4a8-4519-9228-274640d6e043 ]] \r\n",
       "portout \"totalMass\" as E13  [[psysml:712f9e49-cc72-40cc-a5b0-9958e3b93d47 ]] \r\n",
       "}\r\n",
       "\r\n",
       "comp usage \"ms: MassSum \" as E14  <<(T,blue) calculation>> [[psysml:e012d373-591a-4cf2-b53b-d810c6dd562d ]] {\r\n",
       "- - parameters - -\r\n",
       "<b>in</b> partMasses= (vehicle.eng.m, vehicle.trans.m); \r\n",
       "}\r\n",
       "rec usage \"vehicles= (vehicle, vehicle); \" as E15  [[psysml:e4253433-368c-4e86-8a3c-6b186419df89 ]] {\r\n",
       "}\r\n",
       "comp usage \"masses1 \" as E16  <<(T,blue) attribute>> [[psysml:03468340-4ee1-4dfd-ba23-9337b31e6caf ]] {\r\n",
       "}\r\n",
       "comp usage \"masses2 \" as E17  <<(T,blue) attribute>> [[psysml:a35488ce-7eb0-470e-9ecc-f7a0c28bc139 ]] {\r\n",
       "}\r\n",
       "}\r\n",
       "E4 - -|> E2 [[psysml:2113862d-3e36-4f2a-be29-5fbeffc35ef5 ]] \r\n",
       "E6 - -:|> E2 [[psysml:7cfd1003-3fe0-4a32-a3a1-13a5c8efedf2 ]] \r\n",
       "E8 - -:|> E2 [[psysml:b3767e4f-9e3f-4162-9e5b-3e184cb0e1ab ]] \r\n",
       "E5 - -:|> E4 [[psysml:3f6bcc61-006c-4905-be22-168150e04931 ]] \r\n",
       "E14 - -:|> E11 [[psysml:650eb0f7-ec08-4309-80b6-1e90e34b9690 ]] \r\n",
       "@enduml\r\n",
       "\n",
       "PlantUML version 1.2020.13(Sat Jun 13 12:26:38 UTC 2020)\n",
       "(EPL source distribution)\n",
       "Java Runtime: OpenJDK Runtime Environment\n",
       "JVM: OpenJDK 64-Bit Server VM\n",
       "Default Encoding: UTF-8\n",
       "Language: en\n",
       "Country: null\n",
       "--></g></svg>"
      ]
     },
     "execution_count": 19,
     "metadata": {},
     "output_type": "execute_result"
    }
   ],
   "source": [
    "%viz --style=\"LR\" --view=\"Interconnection\" \"CalculationExample\""
   ]
  },
  {
   "cell_type": "code",
   "execution_count": 20,
   "id": "e8d63d0d",
   "metadata": {
    "execution": {
     "iopub.execute_input": "2022-08-19T08:22:01.532798Z",
     "iopub.status.busy": "2022-08-19T08:22:01.532339Z",
     "iopub.status.idle": "2022-08-19T08:22:01.555104Z",
     "shell.execute_reply": "2022-08-19T08:22:01.554669Z"
    }
   },
   "outputs": [
    {
     "data": {
      "image/svg+xml": [
       "<?xml version=\"1.0\" encoding=\"UTF-8\" standalone=\"no\"?><svg xmlns=\"http://www.w3.org/2000/svg\" xmlns:xlink=\"http://www.w3.org/1999/xlink\" contentScriptType=\"application/ecmascript\" contentStyleType=\"text/css\" height=\"154px\" preserveAspectRatio=\"none\" style=\"width:280px;height:154px;\" version=\"1.1\" viewBox=\"0 0 280 154\" width=\"280px\" zoomAndPan=\"magnify\"><defs/><g><!--MD5=[fbc87193dbaf4d95561dea2c320d4a47]\n",
       "cluster E1--><a href=\"psysml:425e038d-47d6-48b2-bd42-a030f1074fc4\" target=\"_top\" title=\"psysml:425e038d-47d6-48b2-bd42-a030f1074fc4\" xlink:actuate=\"onRequest\" xlink:href=\"psysml:425e038d-47d6-48b2-bd42-a030f1074fc4\" xlink:show=\"new\" xlink:title=\"psysml:425e038d-47d6-48b2-bd42-a030f1074fc4\" xlink:type=\"simple\"><rect fill=\"#FFFFFF\" height=\"38\" id=\"E1\" style=\"stroke: #383838; stroke-width: 1.5;\" width=\"207.72\" x=\"46\" y=\"84.0986\"/><rect fill=\"#F8F8F8\" height=\"37.9375\" style=\"stroke: #383838; stroke-width: 1.5;\" width=\"207.72\" x=\"46\" y=\"84.0986\"/><text fill=\"#000000\" font-family=\"sans-serif\" font-size=\"12\" font-style=\"italic\" lengthAdjust=\"spacingAndGlyphs\" textLength=\"110\" x=\"94.86\" y=\"100.2373\">«calculation  def»</text><text fill=\"#000000\" font-family=\"sans-serif\" font-size=\"12\" lengthAdjust=\"spacingAndGlyphs\" textLength=\"59\" x=\"120.36\" y=\"114.2061\">MassSum</text></a><!--MD5=[f6df4d0ebaf0b5dfb2ced0ae5af7c670]\n",
       "cluster E4--><a href=\"psysml:e012d373-591a-4cf2-b53b-d810c6dd562d\" target=\"_top\" title=\"psysml:e012d373-591a-4cf2-b53b-d810c6dd562d\" xlink:actuate=\"onRequest\" xlink:href=\"psysml:e012d373-591a-4cf2-b53b-d810c6dd562d\" xlink:show=\"new\" xlink:title=\"psysml:e012d373-591a-4cf2-b53b-d810c6dd562d\" xlink:type=\"simple\"><rect fill=\"#FFFFFF\" height=\"68\" id=\"E4\" rx=\"10\" ry=\"10\" style=\"stroke: #383838; stroke-width: 1.5;\" width=\"189.72\" x=\"46\" y=\"8.0986\"/><rect fill=\"#F8F8F8\" height=\"37.9375\" rx=\"10\" ry=\"10\" style=\"stroke: #F8F8F8; stroke-width: 1.5;\" width=\"189.72\" x=\"46\" y=\"8.0986\"/><rect fill=\"#F8F8F8\" height=\"10\" style=\"stroke: #F8F8F8; stroke-width: 1.5;\" width=\"189.72\" x=\"46\" y=\"36.0361\"/><rect fill=\"none\" height=\"68\" id=\"E4\" rx=\"10\" ry=\"10\" style=\"stroke: #383838; stroke-width: 1.5;\" width=\"189.72\" x=\"46\" y=\"8.0986\"/><text fill=\"#000000\" font-family=\"sans-serif\" font-size=\"12\" font-style=\"italic\" lengthAdjust=\"spacingAndGlyphs\" textLength=\"82\" x=\"99.86\" y=\"24.2373\">«calculation»</text><text fill=\"#000000\" font-family=\"sans-serif\" font-size=\"12\" lengthAdjust=\"spacingAndGlyphs\" textLength=\"18\" x=\"131.86\" y=\"38.2061\">ms</text><line style=\"stroke: #383838; stroke-width: 1.0;\" x1=\"46\" x2=\"235.72\" y1=\"46.0361\" y2=\"46.0361\"/></a><text fill=\"#000000\" font-family=\"sans-serif\" font-size=\"14\" lengthAdjust=\"spacingAndGlyphs\" textLength=\"80\" x=\"6\" y=\"137.0938\">partMasses</text><rect fill=\"#383838\" height=\"12\" style=\"stroke: #F8F8F8; stroke-width: 1.5;\" width=\"12\" x=\"40\" y=\"112.0986\"/><text fill=\"#000000\" font-family=\"sans-serif\" font-size=\"14\" lengthAdjust=\"spacingAndGlyphs\" textLength=\"66\" x=\"202.72\" y=\"141.0938\">totalMass</text><rect fill=\"#383838\" height=\"12\" style=\"stroke: #F8F8F8; stroke-width: 1.5;\" width=\"12\" x=\"229.72\" y=\"116.0986\"/><text fill=\"#000000\" font-family=\"sans-serif\" font-size=\"14\" lengthAdjust=\"spacingAndGlyphs\" textLength=\"80\" x=\"6\" y=\"20.7969\">partMasses</text><rect fill=\"#383838\" height=\"12\" style=\"stroke: #F8F8F8; stroke-width: 1.5;\" width=\"12\" x=\"40\" y=\"36.0986\"/><text fill=\"#000000\" font-family=\"sans-serif\" font-size=\"14\" lengthAdjust=\"spacingAndGlyphs\" textLength=\"66\" x=\"202.72\" y=\"20.7969\">totalMass</text><rect fill=\"#383838\" height=\"12\" style=\"stroke: #F8F8F8; stroke-width: 1.5;\" width=\"12\" x=\"229.72\" y=\"36.0986\"/><!--MD5=[1ac0b696d850d3303773766f53ff450e]\n",
       "@startuml\r\n",
       "skinparam ranksep 8\r\n",
       "left to right direction\r\n",
       "skinparam monochrome true\r\n",
       "skinparam classbackgroundcolor white\r\n",
       "skinparam shadowing false\r\n",
       "skinparam wrapWidth 300\r\n",
       "hide circle\r\n",
       "\r\n",
       "rec def \"MassSum\" as E1  <<(T,blue) calculation  def>> [[psysml:425e038d-47d6-48b2-bd42-a030f1074fc4 ]] {\r\n",
       "portin \"partMasses\" as E2  [[psysml:b45e328f-a4a8-4519-9228-274640d6e043 ]] \r\n",
       "portout \"totalMass\" as E3  [[psysml:712f9e49-cc72-40cc-a5b0-9958e3b93d47 ]] \r\n",
       "}\r\n",
       "\r\n",
       "rec usage \"ms\" as E4  <<(T,blue) calculation>> [[psysml:e012d373-591a-4cf2-b53b-d810c6dd562d ]] {\r\n",
       "portin \"partMasses\" as E5  [[psysml:424ec83f-37c8-4393-891d-04f2e8383abc ]] \r\n",
       "portout \"totalMass\" as E6  [[psysml:be56ca6e-4eba-4c60-ba38-91b20c3832b5 ]] \r\n",
       "}\r\n",
       "\r\n",
       "@enduml\r\n",
       "\n",
       "PlantUML version 1.2020.13(Sat Jun 13 12:26:38 UTC 2020)\n",
       "(EPL source distribution)\n",
       "Java Runtime: OpenJDK Runtime Environment\n",
       "JVM: OpenJDK 64-Bit Server VM\n",
       "Default Encoding: UTF-8\n",
       "Language: en\n",
       "Country: null\n",
       "--></g></svg>"
      ]
     },
     "execution_count": 20,
     "metadata": {},
     "output_type": "execute_result"
    }
   ],
   "source": [
    "%viz --style=\"LR\" --view=\"Action\" \"CalculationExample\""
   ]
  },
  {
   "cell_type": "code",
   "execution_count": 21,
   "id": "b362b6e5",
   "metadata": {
    "execution": {
     "iopub.execute_input": "2022-08-19T08:22:01.604729Z",
     "iopub.status.busy": "2022-08-19T08:22:01.604128Z",
     "iopub.status.idle": "2022-08-19T08:22:01.613372Z",
     "shell.execute_reply": "2022-08-19T08:22:01.612791Z"
    }
   },
   "outputs": [
    {
     "data": {
      "image/svg+xml": [
       "<?xml version=\"1.0\" encoding=\"UTF-8\" standalone=\"no\"?><svg xmlns=\"http://www.w3.org/2000/svg\" xmlns:xlink=\"http://www.w3.org/1999/xlink\" contentScriptType=\"application/ecmascript\" contentStyleType=\"text/css\" height=\"12px\" preserveAspectRatio=\"none\" style=\"width:12px;height:12px;\" version=\"1.1\" viewBox=\"0 0 12 12\" width=\"12px\" zoomAndPan=\"magnify\"><defs/><g><!--MD5=[238c11ea2002f03115ad6b49a457d50e]\n",
       "@startuml\r\n",
       "skinparam roundcorner 20\r\n",
       "skinparam BoxPadding 20\r\n",
       "skinparam SequenceBoxBackgroundColor #white\r\n",
       "skinparam style strictuml\r\n",
       "skinparam maxMessageSize 100\r\n",
       "left to right direction\r\n",
       "skinparam monochrome true\r\n",
       "skinparam classbackgroundcolor white\r\n",
       "skinparam shadowing false\r\n",
       "skinparam wrapWidth 300\r\n",
       "hide circle\r\n",
       "\r\n",
       "@enduml\r\n",
       "\n",
       "PlantUML version 1.2020.13(Sat Jun 13 12:26:38 UTC 2020)\n",
       "(EPL source distribution)\n",
       "Java Runtime: OpenJDK Runtime Environment\n",
       "JVM: OpenJDK 64-Bit Server VM\n",
       "Default Encoding: UTF-8\n",
       "Language: en\n",
       "Country: null\n",
       "--></g></svg>"
      ]
     },
     "execution_count": 21,
     "metadata": {},
     "output_type": "execute_result"
    }
   ],
   "source": [
    "%viz --style=\"LR\" --view=\"Sequence\" \"CalculationExample\""
   ]
  },
  {
   "cell_type": "code",
   "execution_count": 22,
   "id": "50b39a60",
   "metadata": {
    "execution": {
     "iopub.execute_input": "2022-08-19T08:22:01.662562Z",
     "iopub.status.busy": "2022-08-19T08:22:01.662089Z",
     "iopub.status.idle": "2022-08-19T08:22:01.751309Z",
     "shell.execute_reply": "2022-08-19T08:22:01.749651Z"
    }
   },
   "outputs": [
    {
     "data": {
      "image/svg+xml": [
       "<?xml version=\"1.0\" encoding=\"UTF-8\" standalone=\"no\"?><svg xmlns=\"http://www.w3.org/2000/svg\" xmlns:xlink=\"http://www.w3.org/1999/xlink\" contentScriptType=\"application/ecmascript\" contentStyleType=\"text/css\" height=\"772px\" preserveAspectRatio=\"none\" style=\"width:800px;height:772px;\" version=\"1.1\" viewBox=\"0 0 800 772\" width=\"800px\" zoomAndPan=\"magnify\"><defs/><g><!--MD5=[fbc87193dbaf4d95561dea2c320d4a47]\n",
       "cluster E1--><a href=\"psysml:9a950c4d-df47-4bf2-a127-6824d456053c\" target=\"_top\" title=\"psysml:9a950c4d-df47-4bf2-a127-6824d456053c\" xlink:actuate=\"onRequest\" xlink:href=\"psysml:9a950c4d-df47-4bf2-a127-6824d456053c\" xlink:show=\"new\" xlink:title=\"psysml:9a950c4d-df47-4bf2-a127-6824d456053c\" xlink:type=\"simple\"><polygon fill=\"#FFFFFF\" points=\"16,6,155,6,162,28.2969,778,28.2969,778,760,16,760,16,6\" style=\"stroke: #000000; stroke-width: 1.5;\"/><line style=\"stroke: #000000; stroke-width: 1.5;\" x1=\"16\" x2=\"162\" y1=\"28.2969\" y2=\"28.2969\"/><text fill=\"#000000\" font-family=\"sans-serif\" font-size=\"14\" font-weight=\"bold\" lengthAdjust=\"spacingAndGlyphs\" textLength=\"133\" x=\"20\" y=\"20.9951\">CalculationExample</text></a><!--MD5=[168fadf3d0c3fd93dd5d6da1b1d7ab76]\n",
       "cluster E7--><a href=\"psysml:425e038d-47d6-48b2-bd42-a030f1074fc4\" target=\"_top\" title=\"psysml:425e038d-47d6-48b2-bd42-a030f1074fc4\" xlink:actuate=\"onRequest\" xlink:href=\"psysml:425e038d-47d6-48b2-bd42-a030f1074fc4\" xlink:show=\"new\" xlink:title=\"psysml:425e038d-47d6-48b2-bd42-a030f1074fc4\" xlink:type=\"simple\"><rect fill=\"#FFFFFF\" height=\"84\" id=\"E7\" style=\"stroke: #383838; stroke-width: 1.5;\" width=\"561.5\" x=\"178.5\" y=\"325\"/><rect fill=\"#F8F8F8\" height=\"37.9375\" style=\"stroke: #383838; stroke-width: 1.5;\" width=\"561.5\" x=\"178.5\" y=\"325\"/><text fill=\"#000000\" font-family=\"sans-serif\" font-size=\"12\" font-style=\"italic\" lengthAdjust=\"spacingAndGlyphs\" textLength=\"110\" x=\"404.25\" y=\"341.1387\">«calculation  def»</text><text fill=\"#000000\" font-family=\"sans-serif\" font-size=\"12\" lengthAdjust=\"spacingAndGlyphs\" textLength=\"59\" x=\"429.75\" y=\"355.1074\">MassSum</text></a><!--MD5=[b4997ac47864f28c2f74865a473b2911]\n",
       "class E2--><a href=\"psysml:240f00ab-b9bf-457e-9376-98b0b5e156bb\" target=\"_top\" title=\"psysml:240f00ab-b9bf-457e-9376-98b0b5e156bb\" xlink:actuate=\"onRequest\" xlink:href=\"psysml:240f00ab-b9bf-457e-9376-98b0b5e156bb\" xlink:show=\"new\" xlink:title=\"psysml:240f00ab-b9bf-457e-9376-98b0b5e156bb\" xlink:type=\"simple\"><rect fill=\"#FFFFFF\" height=\"75.5469\" id=\"E2\" style=\"stroke: #383838; stroke-width: 1.5;\" width=\"92\" x=\"582\" y=\"152\"/><text fill=\"#000000\" font-family=\"sans-serif\" font-size=\"12\" font-style=\"italic\" lengthAdjust=\"spacingAndGlyphs\" textLength=\"68\" x=\"594\" y=\"168.1387\">«part  def»</text><text fill=\"#000000\" font-family=\"sans-serif\" font-size=\"12\" lengthAdjust=\"spacingAndGlyphs\" textLength=\"71\" x=\"592.5\" y=\"182.1074\">VehiclePart</text><line style=\"stroke: #383838; stroke-width: 1.5;\" x1=\"583\" x2=\"673\" y1=\"189.9375\" y2=\"189.9375\"/><text fill=\"#000000\" font-family=\"sans-serif\" font-size=\"11\" lengthAdjust=\"spacingAndGlyphs\" textLength=\"80\" x=\"588\" y=\"220.9526\">m: MassValue</text><line style=\"stroke: #383838; stroke-width: 1.0;\" x1=\"583\" x2=\"600.5\" y1=\"204.3398\" y2=\"204.3398\"/><text fill=\"#000000\" font-family=\"sans-serif\" font-size=\"11\" lengthAdjust=\"spacingAndGlyphs\" textLength=\"55\" x=\"600.5\" y=\"207.6479\">attributes</text><line style=\"stroke: #383838; stroke-width: 1.0;\" x1=\"655.5\" x2=\"673\" y1=\"204.3398\" y2=\"204.3398\"/></a><!--MD5=[09b614a08d8cba4a07c9adeb5e0fee81]\n",
       "class E3--><a href=\"psysml:240db56f-6d8c-4faf-8b3c-f8974d12918d\" target=\"_top\" title=\"psysml:240db56f-6d8c-4faf-8b3c-f8974d12918d\" xlink:actuate=\"onRequest\" xlink:href=\"psysml:240db56f-6d8c-4faf-8b3c-f8974d12918d\" xlink:show=\"new\" xlink:title=\"psysml:240db56f-6d8c-4faf-8b3c-f8974d12918d\" xlink:type=\"simple\"><rect fill=\"#FFFFFF\" height=\"45.9375\" id=\"E3\" style=\"stroke: #383838; stroke-width: 1.5;\" width=\"70\" x=\"418.5\" y=\"263\"/><text fill=\"#000000\" font-family=\"sans-serif\" font-size=\"12\" font-style=\"italic\" lengthAdjust=\"spacingAndGlyphs\" textLength=\"68\" x=\"419.5\" y=\"279.1387\">«part  def»</text><text fill=\"#000000\" font-family=\"sans-serif\" font-size=\"12\" lengthAdjust=\"spacingAndGlyphs\" textLength=\"45\" x=\"431\" y=\"293.1074\">Vehicle</text><line style=\"stroke: #383838; stroke-width: 1.5;\" x1=\"419.5\" x2=\"487.5\" y1=\"300.9375\" y2=\"300.9375\"/></a><!--MD5=[ebbe1d658d1005bcc118a6aa81145e00]\n",
       "class E4--><a href=\"psysml:ce00e2ad-3315-43f7-b2e6-6ce884a27309\" target=\"_top\" title=\"psysml:ce00e2ad-3315-43f7-b2e6-6ce884a27309\" xlink:actuate=\"onRequest\" xlink:href=\"psysml:ce00e2ad-3315-43f7-b2e6-6ce884a27309\" xlink:show=\"new\" xlink:title=\"psysml:ce00e2ad-3315-43f7-b2e6-6ce884a27309\" xlink:type=\"simple\"><rect fill=\"#FFFFFF\" height=\"75.5469\" id=\"E4\" rx=\"10\" ry=\"10\" style=\"stroke: #383838; stroke-width: 1.5;\" width=\"106\" x=\"125.5\" y=\"152\"/><text fill=\"#000000\" font-family=\"sans-serif\" font-size=\"12\" font-style=\"italic\" lengthAdjust=\"spacingAndGlyphs\" textLength=\"40\" x=\"158.5\" y=\"168.1387\">«part»</text><text fill=\"#000000\" font-family=\"sans-serif\" font-size=\"12\" lengthAdjust=\"spacingAndGlyphs\" textLength=\"96\" x=\"128.5\" y=\"182.1074\">vehicle: Vehicle</text><line style=\"stroke: #383838; stroke-width: 1.5;\" x1=\"126.5\" x2=\"230.5\" y1=\"189.9375\" y2=\"189.9375\"/><text fill=\"#000000\" font-family=\"sans-serif\" font-size=\"11\" lengthAdjust=\"spacingAndGlyphs\" textLength=\"89\" x=\"131.5\" y=\"220.9526\">^m: MassValue</text><line style=\"stroke: #383838; stroke-width: 1.0;\" x1=\"126.5\" x2=\"151\" y1=\"204.3398\" y2=\"204.3398\"/><text fill=\"#000000\" font-family=\"sans-serif\" font-size=\"11\" lengthAdjust=\"spacingAndGlyphs\" textLength=\"55\" x=\"151\" y=\"207.6479\">attributes</text><line style=\"stroke: #383838; stroke-width: 1.0;\" x1=\"206\" x2=\"230.5\" y1=\"204.3398\" y2=\"204.3398\"/></a><!--MD5=[270fce915f116d4de14055a7c1d9a0f3]\n",
       "class E5--><a href=\"psysml:83fc889d-b3c1-4be4-83aa-24728b198254\" target=\"_top\" title=\"psysml:83fc889d-b3c1-4be4-83aa-24728b198254\" xlink:actuate=\"onRequest\" xlink:href=\"psysml:83fc889d-b3c1-4be4-83aa-24728b198254\" xlink:show=\"new\" xlink:title=\"psysml:83fc889d-b3c1-4be4-83aa-24728b198254\" xlink:type=\"simple\"><rect fill=\"#FFFFFF\" height=\"75.5469\" id=\"E5\" rx=\"10\" ry=\"10\" style=\"stroke: #383838; stroke-width: 1.5;\" width=\"113\" x=\"397\" y=\"152\"/><text fill=\"#000000\" font-family=\"sans-serif\" font-size=\"12\" font-style=\"italic\" lengthAdjust=\"spacingAndGlyphs\" textLength=\"40\" x=\"433.5\" y=\"168.1387\">«part»</text><text fill=\"#000000\" font-family=\"sans-serif\" font-size=\"12\" lengthAdjust=\"spacingAndGlyphs\" textLength=\"103\" x=\"400\" y=\"182.1074\">eng: VehiclePart</text><line style=\"stroke: #383838; stroke-width: 1.5;\" x1=\"398\" x2=\"509\" y1=\"189.9375\" y2=\"189.9375\"/><text fill=\"#000000\" font-family=\"sans-serif\" font-size=\"11\" lengthAdjust=\"spacingAndGlyphs\" textLength=\"89\" x=\"403\" y=\"220.9526\">^m: MassValue</text><line style=\"stroke: #383838; stroke-width: 1.0;\" x1=\"398\" x2=\"426\" y1=\"204.3398\" y2=\"204.3398\"/><text fill=\"#000000\" font-family=\"sans-serif\" font-size=\"11\" lengthAdjust=\"spacingAndGlyphs\" textLength=\"55\" x=\"426\" y=\"207.6479\">attributes</text><line style=\"stroke: #383838; stroke-width: 1.0;\" x1=\"481\" x2=\"509\" y1=\"204.3398\" y2=\"204.3398\"/></a><!--MD5=[60a26617385b1d2d0262a64233df1f8d]\n",
       "class E6--><a href=\"psysml:9ad03ab5-4ba7-4600-8f6c-f33bd21910a1\" target=\"_top\" title=\"psysml:9ad03ab5-4ba7-4600-8f6c-f33bd21910a1\" xlink:actuate=\"onRequest\" xlink:href=\"psysml:9ad03ab5-4ba7-4600-8f6c-f33bd21910a1\" xlink:show=\"new\" xlink:title=\"psysml:9ad03ab5-4ba7-4600-8f6c-f33bd21910a1\" xlink:type=\"simple\"><rect fill=\"#FFFFFF\" height=\"75.5469\" id=\"E6\" rx=\"10\" ry=\"10\" style=\"stroke: #383838; stroke-width: 1.5;\" width=\"122\" x=\"392.5\" y=\"41\"/><text fill=\"#000000\" font-family=\"sans-serif\" font-size=\"12\" font-style=\"italic\" lengthAdjust=\"spacingAndGlyphs\" textLength=\"40\" x=\"433.5\" y=\"57.1387\">«part»</text><text fill=\"#000000\" font-family=\"sans-serif\" font-size=\"12\" lengthAdjust=\"spacingAndGlyphs\" textLength=\"112\" x=\"395.5\" y=\"71.1074\">trans: VehiclePart</text><line style=\"stroke: #383838; stroke-width: 1.5;\" x1=\"393.5\" x2=\"513.5\" y1=\"78.9375\" y2=\"78.9375\"/><text fill=\"#000000\" font-family=\"sans-serif\" font-size=\"11\" lengthAdjust=\"spacingAndGlyphs\" textLength=\"89\" x=\"398.5\" y=\"109.9526\">^m: MassValue</text><line style=\"stroke: #383838; stroke-width: 1.0;\" x1=\"393.5\" x2=\"426\" y1=\"93.3398\" y2=\"93.3398\"/><text fill=\"#000000\" font-family=\"sans-serif\" font-size=\"11\" lengthAdjust=\"spacingAndGlyphs\" textLength=\"55\" x=\"426\" y=\"96.6479\">attributes</text><line style=\"stroke: #383838; stroke-width: 1.0;\" x1=\"481\" x2=\"513.5\" y1=\"93.3398\" y2=\"93.3398\"/></a><!--MD5=[96f4274e9e20536e775497830990834d]\n",
       "class E10--><a href=\"psysml:e012d373-591a-4cf2-b53b-d810c6dd562d\" target=\"_top\" title=\"psysml:e012d373-591a-4cf2-b53b-d810c6dd562d\" xlink:actuate=\"onRequest\" xlink:href=\"psysml:e012d373-591a-4cf2-b53b-d810c6dd562d\" xlink:show=\"new\" xlink:title=\"psysml:e012d373-591a-4cf2-b53b-d810c6dd562d\" xlink:type=\"simple\"><rect fill=\"#FFFFFF\" height=\"75.5469\" id=\"E10\" rx=\"10\" ry=\"10\" style=\"stroke: #383838; stroke-width: 1.5;\" width=\"293\" x=\"32\" y=\"425\"/><text fill=\"#000000\" font-family=\"sans-serif\" font-size=\"12\" font-style=\"italic\" lengthAdjust=\"spacingAndGlyphs\" textLength=\"82\" x=\"137.5\" y=\"441.1387\">«calculation»</text><text fill=\"#000000\" font-family=\"sans-serif\" font-size=\"12\" lengthAdjust=\"spacingAndGlyphs\" textLength=\"85\" x=\"134\" y=\"455.1074\">ms: MassSum</text><line style=\"stroke: #383838; stroke-width: 1.5;\" x1=\"33\" x2=\"324\" y1=\"462.9375\" y2=\"462.9375\"/><text fill=\"#000000\" font-family=\"sans-serif\" font-size=\"11\" font-weight=\"bold\" lengthAdjust=\"spacingAndGlyphs\" textLength=\"10\" x=\"38\" y=\"493.9526\">in</text><text fill=\"#000000\" font-family=\"sans-serif\" font-size=\"11\" lengthAdjust=\"spacingAndGlyphs\" textLength=\"267\" x=\"52\" y=\"493.9526\">partMasses= (vehicle.eng.m, vehicle.trans.m);</text><line style=\"stroke: #383838; stroke-width: 1.0;\" x1=\"33\" x2=\"145\" y1=\"477.3398\" y2=\"477.3398\"/><text fill=\"#000000\" font-family=\"sans-serif\" font-size=\"11\" lengthAdjust=\"spacingAndGlyphs\" textLength=\"67\" x=\"145\" y=\"480.6479\">parameters</text><line style=\"stroke: #383838; stroke-width: 1.0;\" x1=\"212\" x2=\"324\" y1=\"477.3398\" y2=\"477.3398\"/></a><!--MD5=[1dd1bfd58a279cf63c5f349dbc8fc6a1]\n",
       "class E11--><a href=\"psysml:e4253433-368c-4e86-8a3c-6b186419df89\" target=\"_top\" title=\"psysml:e4253433-368c-4e86-8a3c-6b186419df89\" xlink:actuate=\"onRequest\" xlink:href=\"psysml:e4253433-368c-4e86-8a3c-6b186419df89\" xlink:show=\"new\" xlink:title=\"psysml:e4253433-368c-4e86-8a3c-6b186419df89\" xlink:type=\"simple\"><rect fill=\"#FFFFFF\" height=\"45.9375\" id=\"E11\" rx=\"10\" ry=\"10\" style=\"stroke: #383838; stroke-width: 1.5;\" width=\"60\" x=\"148.5\" y=\"536\"/><text fill=\"#000000\" font-family=\"sans-serif\" font-size=\"12\" font-style=\"italic\" lengthAdjust=\"spacingAndGlyphs\" textLength=\"40\" x=\"158.5\" y=\"552.1387\">«part»</text><text fill=\"#000000\" font-family=\"sans-serif\" font-size=\"12\" lengthAdjust=\"spacingAndGlyphs\" textLength=\"50\" x=\"151.5\" y=\"566.1074\">vehicles</text><line style=\"stroke: #383838; stroke-width: 1.5;\" x1=\"149.5\" x2=\"207.5\" y1=\"573.9375\" y2=\"573.9375\"/></a><!--MD5=[49a0ec8f00dab7302a31f22d0f0fe584]\n",
       "class E12--><a href=\"psysml:03468340-4ee1-4dfd-ba23-9337b31e6caf\" target=\"_top\" title=\"psysml:03468340-4ee1-4dfd-ba23-9337b31e6caf\" xlink:actuate=\"onRequest\" xlink:href=\"psysml:03468340-4ee1-4dfd-ba23-9337b31e6caf\" xlink:show=\"new\" xlink:title=\"psysml:03468340-4ee1-4dfd-ba23-9337b31e6caf\" xlink:type=\"simple\"><rect fill=\"#FFFFFF\" height=\"45.9375\" id=\"E12\" rx=\"10\" ry=\"10\" style=\"stroke: #383838; stroke-width: 1.5;\" width=\"71\" x=\"143\" y=\"617\"/><text fill=\"#000000\" font-family=\"sans-serif\" font-size=\"12\" font-style=\"italic\" lengthAdjust=\"spacingAndGlyphs\" textLength=\"69\" x=\"144\" y=\"633.1387\">«attribute»</text><text fill=\"#000000\" font-family=\"sans-serif\" font-size=\"12\" lengthAdjust=\"spacingAndGlyphs\" textLength=\"56\" x=\"148.5\" y=\"647.1074\">masses1</text><line style=\"stroke: #383838; stroke-width: 1.5;\" x1=\"144\" x2=\"213\" y1=\"654.9375\" y2=\"654.9375\"/></a><!--MD5=[ee3c913d1a06f366521f9ef512b67efe]\n",
       "class E13--><a href=\"psysml:a35488ce-7eb0-470e-9ecc-f7a0c28bc139\" target=\"_top\" title=\"psysml:a35488ce-7eb0-470e-9ecc-f7a0c28bc139\" xlink:actuate=\"onRequest\" xlink:href=\"psysml:a35488ce-7eb0-470e-9ecc-f7a0c28bc139\" xlink:show=\"new\" xlink:title=\"psysml:a35488ce-7eb0-470e-9ecc-f7a0c28bc139\" xlink:type=\"simple\"><rect fill=\"#FFFFFF\" height=\"45.9375\" id=\"E13\" rx=\"10\" ry=\"10\" style=\"stroke: #383838; stroke-width: 1.5;\" width=\"71\" x=\"143\" y=\"698\"/><text fill=\"#000000\" font-family=\"sans-serif\" font-size=\"12\" font-style=\"italic\" lengthAdjust=\"spacingAndGlyphs\" textLength=\"69\" x=\"144\" y=\"714.1387\">«attribute»</text><text fill=\"#000000\" font-family=\"sans-serif\" font-size=\"12\" lengthAdjust=\"spacingAndGlyphs\" textLength=\"56\" x=\"148.5\" y=\"728.1074\">masses2</text><line style=\"stroke: #383838; stroke-width: 1.5;\" x1=\"144\" x2=\"213\" y1=\"735.9375\" y2=\"735.9375\"/></a><text fill=\"#000000\" font-family=\"sans-serif\" font-size=\"14\" lengthAdjust=\"spacingAndGlyphs\" textLength=\"80\" x=\"138.5\" y=\"345.6982\">partMasses</text><rect fill=\"#383838\" height=\"12\" style=\"stroke: #F8F8F8; stroke-width: 1.5;\" width=\"12\" x=\"172.5\" y=\"361\"/><text fill=\"#000000\" font-family=\"sans-serif\" font-size=\"14\" lengthAdjust=\"spacingAndGlyphs\" textLength=\"66\" x=\"707\" y=\"345.6982\">totalMass</text><rect fill=\"#383838\" height=\"12\" style=\"stroke: #F8F8F8; stroke-width: 1.5;\" width=\"12\" x=\"734\" y=\"361\"/><!--MD5=[05d275557350bfb9b23a4ef7222b4c39]\n",
       "link E3 to E2--><a href=\"psysml:2113862d-3e36-4f2a-be29-5fbeffc35ef5\" target=\"_top\" title=\"psysml:2113862d-3e36-4f2a-be29-5fbeffc35ef5\" xlink:actuate=\"onRequest\" xlink:href=\"psysml:2113862d-3e36-4f2a-be29-5fbeffc35ef5\" xlink:show=\"new\" xlink:title=\"psysml:2113862d-3e36-4f2a-be29-5fbeffc35ef5\" xlink:type=\"simple\"><path d=\"M488.58,267.03 C510.18,255.02 538.76,239.11 564.34,224.87 \" fill=\"none\" id=\"E3-&gt;E2\" style=\"stroke: #383838; stroke-width: 1.0;\"/><polygon fill=\"none\" points=\"560.99,218.72,581.87,215.11,567.8,230.96,560.99,218.72\" style=\"stroke: #383838; stroke-width: 1.0;\"/></a><!--MD5=[f0cdf4548168e5211fb3a02bf679d63a]\n",
       "link E4 to E3--><a href=\"psysml:3f6bcc61-006c-4905-be22-168150e04931\" target=\"_top\" title=\"psysml:3f6bcc61-006c-4905-be22-168150e04931\" xlink:actuate=\"onRequest\" xlink:href=\"psysml:3f6bcc61-006c-4905-be22-168150e04931\" xlink:show=\"new\" xlink:title=\"psysml:3f6bcc61-006c-4905-be22-168150e04931\" xlink:type=\"simple\"><path d=\"M231.81,208.4 C280.01,225.35 351.19,250.37 399.58,267.39 \" fill=\"none\" id=\"E4-&gt;E3\" style=\"stroke: #383838; stroke-width: 1.0;\"/><polygon fill=\"#FFFFFF\" points=\"418.48,274.04,398.2339,274.3478,402.8735,261.139,418.48,274.04\" style=\"stroke: #383838; stroke-width: 1.0;\"/><ellipse cx=\"393.5188\" cy=\"270.5719\" fill=\"#383838\" rx=\"2\" ry=\"2\" style=\"stroke: #383838; stroke-width: 1.0;\"/><ellipse cx=\"396.8328\" cy=\"261.137\" fill=\"#383838\" rx=\"2\" ry=\"2\" style=\"stroke: #383838; stroke-width: 1.0;\"/></a><!--MD5=[62aa6af11e70f752912c1cb0466f24f7]\n",
       "reverse link E4 to E5--><a href=\"psysml:dfe553ed-92b1-45a3-82b1-c875cfb3cf56\" target=\"_top\" title=\"psysml:dfe553ed-92b1-45a3-82b1-c875cfb3cf56\" xlink:actuate=\"onRequest\" xlink:href=\"psysml:dfe553ed-92b1-45a3-82b1-c875cfb3cf56\" xlink:show=\"new\" xlink:title=\"psysml:dfe553ed-92b1-45a3-82b1-c875cfb3cf56\" xlink:type=\"simple\"><path d=\"M245.04,190 C291.31,190 352.65,190 396.61,190 \" fill=\"none\" id=\"E4&lt;-E5\" style=\"stroke: #383838; stroke-width: 1.0;\"/><polygon fill=\"#FFFFFF\" points=\"231.81,190,237.81,194,243.81,190,237.81,186,231.81,190\" style=\"stroke: #383838; stroke-width: 1.0;\"/><text fill=\"#000000\" font-family=\"sans-serif\" font-size=\"13\" lengthAdjust=\"spacingAndGlyphs\" textLength=\"8\" x=\"381.189\" y=\"203.0167\">1</text></a><!--MD5=[15ebcb19ae302d9b601edb458606d402]\n",
       "link E5 to E2--><a href=\"psysml:7cfd1003-3fe0-4a32-a3a1-13a5c8efedf2\" target=\"_top\" title=\"psysml:7cfd1003-3fe0-4a32-a3a1-13a5c8efedf2\" xlink:actuate=\"onRequest\" xlink:href=\"psysml:7cfd1003-3fe0-4a32-a3a1-13a5c8efedf2\" xlink:show=\"new\" xlink:title=\"psysml:7cfd1003-3fe0-4a32-a3a1-13a5c8efedf2\" xlink:type=\"simple\"><path d=\"M510.03,190 C526.55,190 544.81,190 561.89,190 \" fill=\"none\" id=\"E5-&gt;E2\" style=\"stroke: #383838; stroke-width: 1.0;\"/><polygon fill=\"#FFFFFF\" points=\"581.94,190,562.94,197,562.94,183,581.94,190\" style=\"stroke: #383838; stroke-width: 1.0;\"/><ellipse cx=\"557.24\" cy=\"195\" fill=\"#383838\" rx=\"2\" ry=\"2\" style=\"stroke: #383838; stroke-width: 1.0;\"/><ellipse cx=\"557.24\" cy=\"185\" fill=\"#383838\" rx=\"2\" ry=\"2\" style=\"stroke: #383838; stroke-width: 1.0;\"/></a><!--MD5=[6db378b65e1aef66a01cb3103812b399]\n",
       "reverse link E4 to E6--><a href=\"psysml:56232501-f921-4851-b5f9-a91b366c1c7b\" target=\"_top\" title=\"psysml:56232501-f921-4851-b5f9-a91b366c1c7b\" xlink:actuate=\"onRequest\" xlink:href=\"psysml:56232501-f921-4851-b5f9-a91b366c1c7b\" xlink:show=\"new\" xlink:title=\"psysml:56232501-f921-4851-b5f9-a91b366c1c7b\" xlink:type=\"simple\"><path d=\"M244.06,163.75 C288.95,145.5 348.37,121.34 392.28,103.49 \" fill=\"none\" id=\"E4&lt;-E6\" style=\"stroke: #383838; stroke-width: 1.0;\"/><polygon fill=\"#FFFFFF\" points=\"231.81,168.73,238.8751,170.1738,242.9252,164.2075,235.8601,162.7637,231.81,168.73\" style=\"stroke: #383838; stroke-width: 1.0;\"/><text fill=\"#000000\" font-family=\"sans-serif\" font-size=\"13\" lengthAdjust=\"spacingAndGlyphs\" textLength=\"8\" x=\"376.3313\" y=\"119.4914\">1</text></a><!--MD5=[2351f337d6de0f557b50152ba70847b5]\n",
       "link E6 to E2--><a href=\"psysml:b3767e4f-9e3f-4162-9e5b-3e184cb0e1ab\" target=\"_top\" title=\"psysml:b3767e4f-9e3f-4162-9e5b-3e184cb0e1ab\" xlink:actuate=\"onRequest\" xlink:href=\"psysml:b3767e4f-9e3f-4162-9e5b-3e184cb0e1ab\" xlink:show=\"new\" xlink:title=\"psysml:b3767e4f-9e3f-4162-9e5b-3e184cb0e1ab\" xlink:type=\"simple\"><path d=\"M513.86,117.2 C530.34,127.8 548.27,139.34 564.9,150.04 \" fill=\"none\" id=\"E6-&gt;E2\" style=\"stroke: #383838; stroke-width: 1.0;\"/><polygon fill=\"#FFFFFF\" points=\"581.97,161.03,562.2059,156.6277,569.7861,144.8574,581.97,161.03\" style=\"stroke: #383838; stroke-width: 1.0;\"/><ellipse cx=\"558.4966\" cy=\"151.86\" fill=\"#383838\" rx=\"2\" ry=\"2\" style=\"stroke: #383838; stroke-width: 1.0;\"/><ellipse cx=\"563.911\" cy=\"143.4527\" fill=\"#383838\" rx=\"2\" ry=\"2\" style=\"stroke: #383838; stroke-width: 1.0;\"/></a><!--MD5=[a919e0967d6f3de553dc51b9865a1d6d]\n",
       "link E10 to E7--><a href=\"psysml:650eb0f7-ec08-4309-80b6-1e90e34b9690\" target=\"_top\" title=\"psysml:650eb0f7-ec08-4309-80b6-1e90e34b9690\" xlink:actuate=\"onRequest\" xlink:href=\"psysml:650eb0f7-ec08-4309-80b6-1e90e34b9690\" xlink:show=\"new\" xlink:title=\"psysml:650eb0f7-ec08-4309-80b6-1e90e34b9690\" xlink:type=\"simple\"><path d=\"M301.95,424.94 C309.77,422.31 317.51,419.65 325,417 C332.145,414.4725 339.4875,411.7994 346.8675,409.0561 \" fill=\"none\" id=\"E10-&gt;E7\" style=\"stroke: #383838; stroke-width: 1.0;\"/><polygon fill=\"#FFFFFF\" points=\"346.8675,409.0561,331.4971,422.2375,326.6191,409.1148,346.8675,409.0561\" style=\"stroke: #383838; stroke-width: 1.0;\"/><ellipse cx=\"325.4574\" cy=\"422.3489\" fill=\"#383838\" rx=\"2\" ry=\"2\" style=\"stroke: #383838; stroke-width: 1.0;\"/><ellipse cx=\"321.9732\" cy=\"412.9755\" fill=\"#383838\" rx=\"2\" ry=\"2\" style=\"stroke: #383838; stroke-width: 1.0;\"/></a><!--MD5=[1f18939cc8b9669e5dae242f218c4f6d]\n",
       "@startuml\r\n",
       "left to right direction\r\n",
       "skinparam monochrome true\r\n",
       "skinparam classbackgroundcolor white\r\n",
       "skinparam shadowing false\r\n",
       "skinparam wrapWidth 300\r\n",
       "hide circle\r\n",
       "\r\n",
       "package \"CalculationExample\" as E1  [[psysml:9a950c4d-df47-4bf2-a127-6824d456053c ]]  {\r\n",
       "comp def \"VehiclePart\" as E2  <<(T,blue) part  def>> [[psysml:240f00ab-b9bf-457e-9376-98b0b5e156bb ]] {\r\n",
       "- - attributes - -\r\n",
       "m: MassValue\r\n",
       "}\r\n",
       "comp def \"Vehicle\" as E3  <<(T,blue) part  def>> [[psysml:240db56f-6d8c-4faf-8b3c-f8974d12918d ]] {\r\n",
       "}\r\n",
       "comp usage \"vehicle: Vehicle \" as E4  <<(T,blue) part>> [[psysml:ce00e2ad-3315-43f7-b2e6-6ce884a27309 ]] {\r\n",
       "- - attributes - -\r\n",
       "^m: MassValue\r\n",
       "}\r\n",
       "comp usage \"eng: VehiclePart \" as E5  <<(T,blue) part>> [[psysml:83fc889d-b3c1-4be4-83aa-24728b198254 ]] {\r\n",
       "- - attributes - -\r\n",
       "^m: MassValue\r\n",
       "}\r\n",
       "comp usage \"trans: VehiclePart \" as E6  <<(T,blue) part>> [[psysml:9ad03ab5-4ba7-4600-8f6c-f33bd21910a1 ]] {\r\n",
       "- - attributes - -\r\n",
       "^m: MassValue\r\n",
       "}\r\n",
       "rec def \"MassSum\" as E7  <<(T,blue) calculation  def>> [[psysml:425e038d-47d6-48b2-bd42-a030f1074fc4 ]] {\r\n",
       "portin \"partMasses\" as E8  [[psysml:b45e328f-a4a8-4519-9228-274640d6e043 ]] \r\n",
       "portout \"totalMass\" as E9  [[psysml:712f9e49-cc72-40cc-a5b0-9958e3b93d47 ]] \r\n",
       "}\r\n",
       "\r\n",
       "comp usage \"ms: MassSum \" as E10  <<(T,blue) calculation>> [[psysml:e012d373-591a-4cf2-b53b-d810c6dd562d ]] {\r\n",
       "- - parameters - -\r\n",
       "<b>in</b> partMasses= (vehicle.eng.m, vehicle.trans.m); \r\n",
       "}\r\n",
       "comp usage \"vehicles \" as E11  <<(T,blue) part>> [[psysml:e4253433-368c-4e86-8a3c-6b186419df89 ]] {\r\n",
       "}\r\n",
       "comp usage \"masses1 \" as E12  <<(T,blue) attribute>> [[psysml:03468340-4ee1-4dfd-ba23-9337b31e6caf ]] {\r\n",
       "}\r\n",
       "comp usage \"masses2 \" as E13  <<(T,blue) attribute>> [[psysml:a35488ce-7eb0-470e-9ecc-f7a0c28bc139 ]] {\r\n",
       "}\r\n",
       "}\r\n",
       "E3 - -|> E2 [[psysml:2113862d-3e36-4f2a-be29-5fbeffc35ef5 ]] \r\n",
       "E4 - -:|> E3 [[psysml:3f6bcc61-006c-4905-be22-168150e04931 ]] \r\n",
       "E4 o- - \"1\"E5 [[psysml:dfe553ed-92b1-45a3-82b1-c875cfb3cf56 ]] \r\n",
       "E5 - -:|> E2 [[psysml:7cfd1003-3fe0-4a32-a3a1-13a5c8efedf2 ]] \r\n",
       "E4 o- - \"1\"E6 [[psysml:56232501-f921-4851-b5f9-a91b366c1c7b ]] \r\n",
       "E6 - -:|> E2 [[psysml:b3767e4f-9e3f-4162-9e5b-3e184cb0e1ab ]] \r\n",
       "E10 - -:|> E7 [[psysml:650eb0f7-ec08-4309-80b6-1e90e34b9690 ]] \r\n",
       "@enduml\r\n",
       "\n",
       "PlantUML version 1.2020.13(Sat Jun 13 12:26:38 UTC 2020)\n",
       "(EPL source distribution)\n",
       "Java Runtime: OpenJDK Runtime Environment\n",
       "JVM: OpenJDK 64-Bit Server VM\n",
       "Default Encoding: UTF-8\n",
       "Language: en\n",
       "Country: null\n",
       "--></g></svg>"
      ]
     },
     "execution_count": 22,
     "metadata": {},
     "output_type": "execute_result"
    }
   ],
   "source": [
    "%viz --style=\"LR\" --view=\"MIXED\" \"CalculationExample\""
   ]
  },
  {
   "cell_type": "code",
   "execution_count": 23,
   "id": "346611ea",
   "metadata": {
    "execution": {
     "iopub.execute_input": "2022-08-19T08:22:01.800410Z",
     "iopub.status.busy": "2022-08-19T08:22:01.799950Z",
     "iopub.status.idle": "2022-08-19T08:22:01.898487Z",
     "shell.execute_reply": "2022-08-19T08:22:01.896732Z"
    }
   },
   "outputs": [
    {
     "data": {
      "image/svg+xml": [
       "<?xml version=\"1.0\" encoding=\"UTF-8\" standalone=\"no\"?><svg xmlns=\"http://www.w3.org/2000/svg\" xmlns:xlink=\"http://www.w3.org/1999/xlink\" contentScriptType=\"application/ecmascript\" contentStyleType=\"text/css\" height=\"505px\" preserveAspectRatio=\"none\" style=\"width:1266px;height:505px;\" version=\"1.1\" viewBox=\"0 0 1266 505\" width=\"1266px\" zoomAndPan=\"magnify\"><defs><filter height=\"300%\" id=\"f1aqf9aeigx3n1\" width=\"300%\" x=\"-1\" y=\"-1\"><feGaussianBlur result=\"blurOut\" stdDeviation=\"2.0\"/><feColorMatrix in=\"blurOut\" result=\"blurOut2\" type=\"matrix\" values=\"0 0 0 0 0 0 0 0 0 0 0 0 0 0 0 0 0 0 .4 0\"/><feOffset dx=\"4.0\" dy=\"4.0\" in=\"blurOut2\" result=\"blurOut3\"/><feBlend in=\"SourceGraphic\" in2=\"blurOut3\" mode=\"normal\"/></filter></defs><g><!--MD5=[fbc87193dbaf4d95561dea2c320d4a47]\n",
       "cluster E1--><a href=\"psysml:9a950c4d-df47-4bf2-a127-6824d456053c\" target=\"_top\" title=\"psysml:9a950c4d-df47-4bf2-a127-6824d456053c\" xlink:actuate=\"onRequest\" xlink:href=\"psysml:9a950c4d-df47-4bf2-a127-6824d456053c\" xlink:show=\"new\" xlink:title=\"psysml:9a950c4d-df47-4bf2-a127-6824d456053c\" xlink:type=\"simple\"><polygon fill=\"#FFFFFF\" filter=\"url(#f1aqf9aeigx3n1)\" points=\"16,6,155,6,162,28.2969,1244,28.2969,1244,493,16,493,16,6\" style=\"stroke: #000000; stroke-width: 1.5;\"/><line style=\"stroke: #000000; stroke-width: 1.5;\" x1=\"16\" x2=\"162\" y1=\"28.2969\" y2=\"28.2969\"/><text fill=\"#000000\" font-family=\"sans-serif\" font-size=\"14\" font-weight=\"bold\" lengthAdjust=\"spacingAndGlyphs\" textLength=\"133\" x=\"20\" y=\"20.9951\">CalculationExample</text></a><!--MD5=[168fadf3d0c3fd93dd5d6da1b1d7ab76]\n",
       "cluster E7--><a href=\"psysml:425e038d-47d6-48b2-bd42-a030f1074fc4\" target=\"_top\" title=\"psysml:425e038d-47d6-48b2-bd42-a030f1074fc4\" xlink:actuate=\"onRequest\" xlink:href=\"psysml:425e038d-47d6-48b2-bd42-a030f1074fc4\" xlink:show=\"new\" xlink:title=\"psysml:425e038d-47d6-48b2-bd42-a030f1074fc4\" xlink:type=\"simple\"><rect fill=\"#FFFFFF\" filter=\"url(#f1aqf9aeigx3n1)\" height=\"376\" id=\"E7\" style=\"stroke: #A80036; stroke-width: 1.5;\" width=\"186\" x=\"650\" y=\"79\"/><rect fill=\"#FEFECE\" height=\"37.9375\" style=\"stroke: #A80036; stroke-width: 1.5;\" width=\"186\" x=\"650\" y=\"79\"/><text fill=\"#000000\" font-family=\"sans-serif\" font-size=\"12\" font-style=\"italic\" lengthAdjust=\"spacingAndGlyphs\" textLength=\"110\" x=\"688\" y=\"95.1387\">«calculation  def»</text><text fill=\"#000000\" font-family=\"sans-serif\" font-size=\"12\" lengthAdjust=\"spacingAndGlyphs\" textLength=\"59\" x=\"713.5\" y=\"109.1074\">MassSum</text></a><!--MD5=[b4997ac47864f28c2f74865a473b2911]\n",
       "class E2--><a href=\"psysml:240f00ab-b9bf-457e-9376-98b0b5e156bb\" target=\"_top\" title=\"psysml:240f00ab-b9bf-457e-9376-98b0b5e156bb\" xlink:actuate=\"onRequest\" xlink:href=\"psysml:240f00ab-b9bf-457e-9376-98b0b5e156bb\" xlink:show=\"new\" xlink:title=\"psysml:240f00ab-b9bf-457e-9376-98b0b5e156bb\" xlink:type=\"simple\"><rect fill=\"#FEFECE\" filter=\"url(#f1aqf9aeigx3n1)\" height=\"75.5469\" id=\"E2\" style=\"stroke: #A80036; stroke-width: 1.5;\" width=\"92\" x=\"968\" y=\"313\"/><text fill=\"#000000\" font-family=\"sans-serif\" font-size=\"12\" font-style=\"italic\" lengthAdjust=\"spacingAndGlyphs\" textLength=\"68\" x=\"980\" y=\"329.1387\">«part  def»</text><text fill=\"#000000\" font-family=\"sans-serif\" font-size=\"12\" lengthAdjust=\"spacingAndGlyphs\" textLength=\"71\" x=\"978.5\" y=\"343.1074\">VehiclePart</text><line style=\"stroke: #A80036; stroke-width: 1.5;\" x1=\"969\" x2=\"1059\" y1=\"350.9375\" y2=\"350.9375\"/><text fill=\"#000000\" font-family=\"sans-serif\" font-size=\"11\" lengthAdjust=\"spacingAndGlyphs\" textLength=\"80\" x=\"974\" y=\"381.9526\">m: MassValue</text><line style=\"stroke: #A80036; stroke-width: 1.0;\" x1=\"969\" x2=\"986.5\" y1=\"365.3398\" y2=\"365.3398\"/><text fill=\"#000000\" font-family=\"sans-serif\" font-size=\"11\" lengthAdjust=\"spacingAndGlyphs\" textLength=\"55\" x=\"986.5\" y=\"368.6479\">attributes</text><line style=\"stroke: #A80036; stroke-width: 1.0;\" x1=\"1041.5\" x2=\"1059\" y1=\"365.3398\" y2=\"365.3398\"/></a><!--MD5=[09b614a08d8cba4a07c9adeb5e0fee81]\n",
       "class E3--><a href=\"psysml:240db56f-6d8c-4faf-8b3c-f8974d12918d\" target=\"_top\" title=\"psysml:240db56f-6d8c-4faf-8b3c-f8974d12918d\" xlink:actuate=\"onRequest\" xlink:href=\"psysml:240db56f-6d8c-4faf-8b3c-f8974d12918d\" xlink:show=\"new\" xlink:title=\"psysml:240db56f-6d8c-4faf-8b3c-f8974d12918d\" xlink:type=\"simple\"><rect fill=\"#FEFECE\" filter=\"url(#f1aqf9aeigx3n1)\" height=\"45.9375\" id=\"E3\" style=\"stroke: #A80036; stroke-width: 1.5;\" width=\"70\" x=\"852\" y=\"192\"/><text fill=\"#000000\" font-family=\"sans-serif\" font-size=\"12\" font-style=\"italic\" lengthAdjust=\"spacingAndGlyphs\" textLength=\"68\" x=\"853\" y=\"208.1387\">«part  def»</text><text fill=\"#000000\" font-family=\"sans-serif\" font-size=\"12\" lengthAdjust=\"spacingAndGlyphs\" textLength=\"45\" x=\"864.5\" y=\"222.1074\">Vehicle</text><line style=\"stroke: #A80036; stroke-width: 1.5;\" x1=\"853\" x2=\"921\" y1=\"229.9375\" y2=\"229.9375\"/></a><!--MD5=[ebbe1d658d1005bcc118a6aa81145e00]\n",
       "class E4--><a href=\"psysml:ce00e2ad-3315-43f7-b2e6-6ce884a27309\" target=\"_top\" title=\"psysml:ce00e2ad-3315-43f7-b2e6-6ce884a27309\" xlink:actuate=\"onRequest\" xlink:href=\"psysml:ce00e2ad-3315-43f7-b2e6-6ce884a27309\" xlink:show=\"new\" xlink:title=\"psysml:ce00e2ad-3315-43f7-b2e6-6ce884a27309\" xlink:type=\"simple\"><rect fill=\"#FEFECE\" filter=\"url(#f1aqf9aeigx3n1)\" height=\"75.5469\" id=\"E4\" rx=\"10\" ry=\"10\" style=\"stroke: #A80036; stroke-width: 1.5;\" width=\"106\" x=\"961\" y=\"41\"/><text fill=\"#000000\" font-family=\"sans-serif\" font-size=\"12\" font-style=\"italic\" lengthAdjust=\"spacingAndGlyphs\" textLength=\"40\" x=\"994\" y=\"57.1387\">«part»</text><text fill=\"#000000\" font-family=\"sans-serif\" font-size=\"12\" lengthAdjust=\"spacingAndGlyphs\" textLength=\"96\" x=\"964\" y=\"71.1074\">vehicle: Vehicle</text><line style=\"stroke: #A80036; stroke-width: 1.5;\" x1=\"962\" x2=\"1066\" y1=\"78.9375\" y2=\"78.9375\"/><text fill=\"#000000\" font-family=\"sans-serif\" font-size=\"11\" lengthAdjust=\"spacingAndGlyphs\" textLength=\"89\" x=\"967\" y=\"109.9526\">^m: MassValue</text><line style=\"stroke: #A80036; stroke-width: 1.0;\" x1=\"962\" x2=\"986.5\" y1=\"93.3398\" y2=\"93.3398\"/><text fill=\"#000000\" font-family=\"sans-serif\" font-size=\"11\" lengthAdjust=\"spacingAndGlyphs\" textLength=\"55\" x=\"986.5\" y=\"96.6479\">attributes</text><line style=\"stroke: #A80036; stroke-width: 1.0;\" x1=\"1041.5\" x2=\"1066\" y1=\"93.3398\" y2=\"93.3398\"/></a><!--MD5=[270fce915f116d4de14055a7c1d9a0f3]\n",
       "class E5--><a href=\"psysml:83fc889d-b3c1-4be4-83aa-24728b198254\" target=\"_top\" title=\"psysml:83fc889d-b3c1-4be4-83aa-24728b198254\" xlink:actuate=\"onRequest\" xlink:href=\"psysml:83fc889d-b3c1-4be4-83aa-24728b198254\" xlink:show=\"new\" xlink:title=\"psysml:83fc889d-b3c1-4be4-83aa-24728b198254\" xlink:type=\"simple\"><rect fill=\"#FEFECE\" filter=\"url(#f1aqf9aeigx3n1)\" height=\"75.5469\" id=\"E5\" rx=\"10\" ry=\"10\" style=\"stroke: #A80036; stroke-width: 1.5;\" width=\"113\" x=\"957.5\" y=\"177\"/><text fill=\"#000000\" font-family=\"sans-serif\" font-size=\"12\" font-style=\"italic\" lengthAdjust=\"spacingAndGlyphs\" textLength=\"40\" x=\"994\" y=\"193.1387\">«part»</text><text fill=\"#000000\" font-family=\"sans-serif\" font-size=\"12\" lengthAdjust=\"spacingAndGlyphs\" textLength=\"103\" x=\"960.5\" y=\"207.1074\">eng: VehiclePart</text><line style=\"stroke: #A80036; stroke-width: 1.5;\" x1=\"958.5\" x2=\"1069.5\" y1=\"214.9375\" y2=\"214.9375\"/><text fill=\"#000000\" font-family=\"sans-serif\" font-size=\"11\" lengthAdjust=\"spacingAndGlyphs\" textLength=\"89\" x=\"963.5\" y=\"245.9526\">^m: MassValue</text><line style=\"stroke: #A80036; stroke-width: 1.0;\" x1=\"958.5\" x2=\"986.5\" y1=\"229.3398\" y2=\"229.3398\"/><text fill=\"#000000\" font-family=\"sans-serif\" font-size=\"11\" lengthAdjust=\"spacingAndGlyphs\" textLength=\"55\" x=\"986.5\" y=\"232.6479\">attributes</text><line style=\"stroke: #A80036; stroke-width: 1.0;\" x1=\"1041.5\" x2=\"1069.5\" y1=\"229.3398\" y2=\"229.3398\"/></a><!--MD5=[60a26617385b1d2d0262a64233df1f8d]\n",
       "class E6--><a href=\"psysml:9ad03ab5-4ba7-4600-8f6c-f33bd21910a1\" target=\"_top\" title=\"psysml:9ad03ab5-4ba7-4600-8f6c-f33bd21910a1\" xlink:actuate=\"onRequest\" xlink:href=\"psysml:9ad03ab5-4ba7-4600-8f6c-f33bd21910a1\" xlink:show=\"new\" xlink:title=\"psysml:9ad03ab5-4ba7-4600-8f6c-f33bd21910a1\" xlink:type=\"simple\"><rect fill=\"#FEFECE\" filter=\"url(#f1aqf9aeigx3n1)\" height=\"75.5469\" id=\"E6\" rx=\"10\" ry=\"10\" style=\"stroke: #A80036; stroke-width: 1.5;\" width=\"122\" x=\"1106\" y=\"177\"/><text fill=\"#000000\" font-family=\"sans-serif\" font-size=\"12\" font-style=\"italic\" lengthAdjust=\"spacingAndGlyphs\" textLength=\"40\" x=\"1147\" y=\"193.1387\">«part»</text><text fill=\"#000000\" font-family=\"sans-serif\" font-size=\"12\" lengthAdjust=\"spacingAndGlyphs\" textLength=\"112\" x=\"1109\" y=\"207.1074\">trans: VehiclePart</text><line style=\"stroke: #A80036; stroke-width: 1.5;\" x1=\"1107\" x2=\"1227\" y1=\"214.9375\" y2=\"214.9375\"/><text fill=\"#000000\" font-family=\"sans-serif\" font-size=\"11\" lengthAdjust=\"spacingAndGlyphs\" textLength=\"89\" x=\"1112\" y=\"245.9526\">^m: MassValue</text><line style=\"stroke: #A80036; stroke-width: 1.0;\" x1=\"1107\" x2=\"1139.5\" y1=\"229.3398\" y2=\"229.3398\"/><text fill=\"#000000\" font-family=\"sans-serif\" font-size=\"11\" lengthAdjust=\"spacingAndGlyphs\" textLength=\"55\" x=\"1139.5\" y=\"232.6479\">attributes</text><line style=\"stroke: #A80036; stroke-width: 1.0;\" x1=\"1194.5\" x2=\"1227\" y1=\"229.3398\" y2=\"229.3398\"/></a><!--MD5=[96f4274e9e20536e775497830990834d]\n",
       "class E10--><a href=\"psysml:e012d373-591a-4cf2-b53b-d810c6dd562d\" target=\"_top\" title=\"psysml:e012d373-591a-4cf2-b53b-d810c6dd562d\" xlink:actuate=\"onRequest\" xlink:href=\"psysml:e012d373-591a-4cf2-b53b-d810c6dd562d\" xlink:show=\"new\" xlink:title=\"psysml:e012d373-591a-4cf2-b53b-d810c6dd562d\" xlink:type=\"simple\"><rect fill=\"#FEFECE\" filter=\"url(#f1aqf9aeigx3n1)\" height=\"75.5469\" id=\"E10\" rx=\"10\" ry=\"10\" style=\"stroke: #A80036; stroke-width: 1.5;\" width=\"293\" x=\"340.5\" y=\"41\"/><text fill=\"#000000\" font-family=\"sans-serif\" font-size=\"12\" font-style=\"italic\" lengthAdjust=\"spacingAndGlyphs\" textLength=\"82\" x=\"446\" y=\"57.1387\">«calculation»</text><text fill=\"#000000\" font-family=\"sans-serif\" font-size=\"12\" lengthAdjust=\"spacingAndGlyphs\" textLength=\"85\" x=\"442.5\" y=\"71.1074\">ms: MassSum</text><line style=\"stroke: #A80036; stroke-width: 1.5;\" x1=\"341.5\" x2=\"632.5\" y1=\"78.9375\" y2=\"78.9375\"/><text fill=\"#000000\" font-family=\"sans-serif\" font-size=\"11\" font-weight=\"bold\" lengthAdjust=\"spacingAndGlyphs\" textLength=\"10\" x=\"346.5\" y=\"109.9526\">in</text><text fill=\"#000000\" font-family=\"sans-serif\" font-size=\"11\" lengthAdjust=\"spacingAndGlyphs\" textLength=\"267\" x=\"360.5\" y=\"109.9526\">partMasses= (vehicle.eng.m, vehicle.trans.m);</text><line style=\"stroke: #A80036; stroke-width: 1.0;\" x1=\"341.5\" x2=\"453.5\" y1=\"93.3398\" y2=\"93.3398\"/><text fill=\"#000000\" font-family=\"sans-serif\" font-size=\"11\" lengthAdjust=\"spacingAndGlyphs\" textLength=\"67\" x=\"453.5\" y=\"96.6479\">parameters</text><line style=\"stroke: #A80036; stroke-width: 1.0;\" x1=\"520.5\" x2=\"632.5\" y1=\"93.3398\" y2=\"93.3398\"/></a><!--MD5=[1dd1bfd58a279cf63c5f349dbc8fc6a1]\n",
       "class E11--><a href=\"psysml:e4253433-368c-4e86-8a3c-6b186419df89\" target=\"_top\" title=\"psysml:e4253433-368c-4e86-8a3c-6b186419df89\" xlink:actuate=\"onRequest\" xlink:href=\"psysml:e4253433-368c-4e86-8a3c-6b186419df89\" xlink:show=\"new\" xlink:title=\"psysml:e4253433-368c-4e86-8a3c-6b186419df89\" xlink:type=\"simple\"><rect fill=\"#FEFECE\" filter=\"url(#f1aqf9aeigx3n1)\" height=\"45.9375\" id=\"E11\" rx=\"10\" ry=\"10\" style=\"stroke: #A80036; stroke-width: 1.5;\" width=\"60\" x=\"245\" y=\"56\"/><text fill=\"#000000\" font-family=\"sans-serif\" font-size=\"12\" font-style=\"italic\" lengthAdjust=\"spacingAndGlyphs\" textLength=\"40\" x=\"255\" y=\"72.1387\">«part»</text><text fill=\"#000000\" font-family=\"sans-serif\" font-size=\"12\" lengthAdjust=\"spacingAndGlyphs\" textLength=\"50\" x=\"248\" y=\"86.1074\">vehicles</text><line style=\"stroke: #A80036; stroke-width: 1.5;\" x1=\"246\" x2=\"304\" y1=\"93.9375\" y2=\"93.9375\"/></a><!--MD5=[49a0ec8f00dab7302a31f22d0f0fe584]\n",
       "class E12--><a href=\"psysml:03468340-4ee1-4dfd-ba23-9337b31e6caf\" target=\"_top\" title=\"psysml:03468340-4ee1-4dfd-ba23-9337b31e6caf\" xlink:actuate=\"onRequest\" xlink:href=\"psysml:03468340-4ee1-4dfd-ba23-9337b31e6caf\" xlink:show=\"new\" xlink:title=\"psysml:03468340-4ee1-4dfd-ba23-9337b31e6caf\" xlink:type=\"simple\"><rect fill=\"#FEFECE\" filter=\"url(#f1aqf9aeigx3n1)\" height=\"45.9375\" id=\"E12\" rx=\"10\" ry=\"10\" style=\"stroke: #A80036; stroke-width: 1.5;\" width=\"71\" x=\"138.5\" y=\"56\"/><text fill=\"#000000\" font-family=\"sans-serif\" font-size=\"12\" font-style=\"italic\" lengthAdjust=\"spacingAndGlyphs\" textLength=\"69\" x=\"139.5\" y=\"72.1387\">«attribute»</text><text fill=\"#000000\" font-family=\"sans-serif\" font-size=\"12\" lengthAdjust=\"spacingAndGlyphs\" textLength=\"56\" x=\"144\" y=\"86.1074\">masses1</text><line style=\"stroke: #A80036; stroke-width: 1.5;\" x1=\"139.5\" x2=\"208.5\" y1=\"93.9375\" y2=\"93.9375\"/></a><!--MD5=[ee3c913d1a06f366521f9ef512b67efe]\n",
       "class E13--><a href=\"psysml:a35488ce-7eb0-470e-9ecc-f7a0c28bc139\" target=\"_top\" title=\"psysml:a35488ce-7eb0-470e-9ecc-f7a0c28bc139\" xlink:actuate=\"onRequest\" xlink:href=\"psysml:a35488ce-7eb0-470e-9ecc-f7a0c28bc139\" xlink:show=\"new\" xlink:title=\"psysml:a35488ce-7eb0-470e-9ecc-f7a0c28bc139\" xlink:type=\"simple\"><rect fill=\"#FEFECE\" filter=\"url(#f1aqf9aeigx3n1)\" height=\"45.9375\" id=\"E13\" rx=\"10\" ry=\"10\" style=\"stroke: #A80036; stroke-width: 1.5;\" width=\"71\" x=\"32.5\" y=\"56\"/><text fill=\"#000000\" font-family=\"sans-serif\" font-size=\"12\" font-style=\"italic\" lengthAdjust=\"spacingAndGlyphs\" textLength=\"69\" x=\"33.5\" y=\"72.1387\">«attribute»</text><text fill=\"#000000\" font-family=\"sans-serif\" font-size=\"12\" lengthAdjust=\"spacingAndGlyphs\" textLength=\"56\" x=\"38\" y=\"86.1074\">masses2</text><line style=\"stroke: #A80036; stroke-width: 1.5;\" x1=\"33.5\" x2=\"102.5\" y1=\"93.9375\" y2=\"93.9375\"/></a><text fill=\"#000000\" font-family=\"sans-serif\" font-size=\"14\" lengthAdjust=\"spacingAndGlyphs\" textLength=\"80\" x=\"703\" y=\"57.6982\">partMasses</text><rect fill=\"#A80036\" height=\"12\" style=\"stroke: #FEFECE; stroke-width: 1.5;\" width=\"12\" x=\"737\" y=\"73\"/><text fill=\"#000000\" font-family=\"sans-serif\" font-size=\"14\" lengthAdjust=\"spacingAndGlyphs\" textLength=\"66\" x=\"710\" y=\"473.9951\">totalMass</text><rect fill=\"#A80036\" height=\"12\" style=\"stroke: #FEFECE; stroke-width: 1.5;\" width=\"12\" x=\"737\" y=\"449\"/><!--MD5=[05d275557350bfb9b23a4ef7222b4c39]\n",
       "link E3 to E2--><a href=\"psysml:2113862d-3e36-4f2a-be29-5fbeffc35ef5\" target=\"_top\" title=\"psysml:2113862d-3e36-4f2a-be29-5fbeffc35ef5\" xlink:actuate=\"onRequest\" xlink:href=\"psysml:2113862d-3e36-4f2a-be29-5fbeffc35ef5\" xlink:show=\"new\" xlink:title=\"psysml:2113862d-3e36-4f2a-be29-5fbeffc35ef5\" xlink:type=\"simple\"><path d=\"M907.97,238.13 C923.45,254.46 945.16,277.37 964.91,298.21 \" fill=\"none\" id=\"E3-&gt;E2\" style=\"stroke: #A80036; stroke-width: 1.0;\"/><polygon fill=\"none\" points=\"970.15,293.56,978.83,312.89,959.99,303.19,970.15,293.56\" style=\"stroke: #A80036; stroke-width: 1.0;\"/></a><!--MD5=[f0cdf4548168e5211fb3a02bf679d63a]\n",
       "link E4 to E3--><a href=\"psysml:3f6bcc61-006c-4905-be22-168150e04931\" target=\"_top\" title=\"psysml:3f6bcc61-006c-4905-be22-168150e04931\" xlink:actuate=\"onRequest\" xlink:href=\"psysml:3f6bcc61-006c-4905-be22-168150e04931\" xlink:show=\"new\" xlink:title=\"psysml:3f6bcc61-006c-4905-be22-168150e04931\" xlink:type=\"simple\"><path d=\"M978.62,117.33 C960.85,136.08 939.39,158.72 921.71,177.38 \" fill=\"none\" id=\"E4-&gt;E3\" style=\"stroke: #A80036; stroke-width: 1.0;\"/><polygon fill=\"#FFFFFF\" points=\"907.91,191.94,915.8909,173.3307,926.0566,182.9567,907.91,191.94\" style=\"stroke: #A80036; stroke-width: 1.0;\"/><ellipse cx=\"921.2623\" cy=\"170.567\" fill=\"#A80036\" rx=\"2\" ry=\"2\" style=\"stroke: #A80036; stroke-width: 1.0;\"/><ellipse cx=\"928.5235\" cy=\"177.4426\" fill=\"#A80036\" rx=\"2\" ry=\"2\" style=\"stroke: #A80036; stroke-width: 1.0;\"/></a><!--MD5=[62aa6af11e70f752912c1cb0466f24f7]\n",
       "reverse link E4 to E5--><a href=\"psysml:dfe553ed-92b1-45a3-82b1-c875cfb3cf56\" target=\"_top\" title=\"psysml:dfe553ed-92b1-45a3-82b1-c875cfb3cf56\" xlink:actuate=\"onRequest\" xlink:href=\"psysml:dfe553ed-92b1-45a3-82b1-c875cfb3cf56\" xlink:show=\"new\" xlink:title=\"psysml:dfe553ed-92b1-45a3-82b1-c875cfb3cf56\" xlink:type=\"simple\"><path d=\"M1014,130.46 C1014,145.87 1014,162.52 1014,176.87 \" fill=\"none\" id=\"E4&lt;-E5\" style=\"stroke: #A80036; stroke-width: 1.0;\"/><polygon fill=\"#FFFFFF\" points=\"1014,117.33,1010,123.33,1014,129.33,1018,123.33,1014,117.33\" style=\"stroke: #A80036; stroke-width: 1.0;\"/><text fill=\"#000000\" font-family=\"sans-serif\" font-size=\"13\" lengthAdjust=\"spacingAndGlyphs\" textLength=\"8\" x=\"1005.2875\" y=\"165.8612\">1</text></a><!--MD5=[15ebcb19ae302d9b601edb458606d402]\n",
       "link E5 to E2--><a href=\"psysml:7cfd1003-3fe0-4a32-a3a1-13a5c8efedf2\" target=\"_top\" title=\"psysml:7cfd1003-3fe0-4a32-a3a1-13a5c8efedf2\" xlink:actuate=\"onRequest\" xlink:href=\"psysml:7cfd1003-3fe0-4a32-a3a1-13a5c8efedf2\" xlink:show=\"new\" xlink:title=\"psysml:7cfd1003-3fe0-4a32-a3a1-13a5c8efedf2\" xlink:type=\"simple\"><path d=\"M1014,253.33 C1014,265.52 1014,279.36 1014,292.68 \" fill=\"none\" id=\"E5-&gt;E2\" style=\"stroke: #A80036; stroke-width: 1.0;\"/><polygon fill=\"#FFFFFF\" points=\"1014,312.87,1007,293.87,1021,293.87,1014,312.87\" style=\"stroke: #A80036; stroke-width: 1.0;\"/><ellipse cx=\"1009\" cy=\"288.17\" fill=\"#A80036\" rx=\"2\" ry=\"2\" style=\"stroke: #A80036; stroke-width: 1.0;\"/><ellipse cx=\"1019\" cy=\"288.17\" fill=\"#A80036\" rx=\"2\" ry=\"2\" style=\"stroke: #A80036; stroke-width: 1.0;\"/></a><!--MD5=[6db378b65e1aef66a01cb3103812b399]\n",
       "reverse link E4 to E6--><a href=\"psysml:56232501-f921-4851-b5f9-a91b366c1c7b\" target=\"_top\" title=\"psysml:56232501-f921-4851-b5f9-a91b366c1c7b\" xlink:actuate=\"onRequest\" xlink:href=\"psysml:56232501-f921-4851-b5f9-a91b366c1c7b\" xlink:show=\"new\" xlink:title=\"psysml:56232501-f921-4851-b5f9-a91b366c1c7b\" xlink:type=\"simple\"><path d=\"M1066.59,126.06 C1085.53,142.65 1106.65,161.14 1124.61,176.87 \" fill=\"none\" id=\"E4&lt;-E6\" style=\"stroke: #A80036; stroke-width: 1.0;\"/><polygon fill=\"#FFFFFF\" points=\"1056.62,117.33,1058.4928,124.2937,1065.6411,125.2433,1063.7683,118.2796,1056.62,117.33\" style=\"stroke: #A80036; stroke-width: 1.0;\"/><text fill=\"#000000\" font-family=\"sans-serif\" font-size=\"13\" lengthAdjust=\"spacingAndGlyphs\" textLength=\"8\" x=\"1108.3468\" y=\"165.8612\">1</text></a><!--MD5=[2351f337d6de0f557b50152ba70847b5]\n",
       "link E6 to E2--><a href=\"psysml:b3767e4f-9e3f-4162-9e5b-3e184cb0e1ab\" target=\"_top\" title=\"psysml:b3767e4f-9e3f-4162-9e5b-3e184cb0e1ab\" xlink:actuate=\"onRequest\" xlink:href=\"psysml:b3767e4f-9e3f-4162-9e5b-3e184cb0e1ab\" xlink:show=\"new\" xlink:title=\"psysml:b3767e4f-9e3f-4162-9e5b-3e184cb0e1ab\" xlink:type=\"simple\"><path d=\"M1124.38,253.33 C1108.05,267.63 1089.14,284.19 1071.63,299.52 \" fill=\"none\" id=\"E6-&gt;E2\" style=\"stroke: #A80036; stroke-width: 1.0;\"/><polygon fill=\"#FFFFFF\" points=\"1056.39,312.87,1066.0639,295.0819,1075.2922,305.6099,1056.39,312.87\" style=\"stroke: #A80036; stroke-width: 1.0;\"/><ellipse cx=\"1071.6686\" cy=\"292.8287\" fill=\"#A80036\" rx=\"2\" ry=\"2\" style=\"stroke: #A80036; stroke-width: 1.0;\"/><ellipse cx=\"1078.2602\" cy=\"300.3487\" fill=\"#A80036\" rx=\"2\" ry=\"2\" style=\"stroke: #A80036; stroke-width: 1.0;\"/></a><!--MD5=[a919e0967d6f3de553dc51b9865a1d6d]\n",
       "link E10 to E7--><a href=\"psysml:650eb0f7-ec08-4309-80b6-1e90e34b9690\" target=\"_top\" title=\"psysml:650eb0f7-ec08-4309-80b6-1e90e34b9690\" xlink:actuate=\"onRequest\" xlink:href=\"psysml:650eb0f7-ec08-4309-80b6-1e90e34b9690\" xlink:show=\"new\" xlink:title=\"psysml:650eb0f7-ec08-4309-80b6-1e90e34b9690\" xlink:type=\"simple\"><path d=\"M557.97,117.15 C583.125,130.315 611.975,145.415 639.2925,159.7138 C642.7072,161.5011 646.0979,163.2759 649.4545,165.0329 \" fill=\"none\" id=\"E10-&gt;E7\" style=\"stroke: #A80036; stroke-width: 1.0;\"/><polygon fill=\"#FFFFFF\" points=\"649.4545,165.0329,629.3749,162.4234,635.8674,150.0199,649.4545,165.0329\" style=\"stroke: #A80036; stroke-width: 1.0;\"/><ellipse cx=\"625.2524\" cy=\"158.0081\" fill=\"#A80036\" rx=\"2\" ry=\"2\" style=\"stroke: #A80036; stroke-width: 1.0;\"/><ellipse cx=\"629.8899\" cy=\"149.1485\" fill=\"#A80036\" rx=\"2\" ry=\"2\" style=\"stroke: #A80036; stroke-width: 1.0;\"/></a><!--MD5=[df5c737a2d2eaa7aff1aba4b3f53f48d]\n",
       "@startuml\r\n",
       "skinparam wrapWidth 300\r\n",
       "hide circle\r\n",
       "\r\n",
       "package \"CalculationExample\" as E1  [[psysml:9a950c4d-df47-4bf2-a127-6824d456053c ]]  {\r\n",
       "comp def \"VehiclePart\" as E2  <<(T,blue) part  def>> [[psysml:240f00ab-b9bf-457e-9376-98b0b5e156bb ]] {\r\n",
       "- - attributes - -\r\n",
       "m: MassValue\r\n",
       "}\r\n",
       "comp def \"Vehicle\" as E3  <<(T,blue) part  def>> [[psysml:240db56f-6d8c-4faf-8b3c-f8974d12918d ]] {\r\n",
       "}\r\n",
       "comp usage \"vehicle: Vehicle \" as E4  <<(T,blue) part>> [[psysml:ce00e2ad-3315-43f7-b2e6-6ce884a27309 ]] {\r\n",
       "- - attributes - -\r\n",
       "^m: MassValue\r\n",
       "}\r\n",
       "comp usage \"eng: VehiclePart \" as E5  <<(T,blue) part>> [[psysml:83fc889d-b3c1-4be4-83aa-24728b198254 ]] {\r\n",
       "- - attributes - -\r\n",
       "^m: MassValue\r\n",
       "}\r\n",
       "comp usage \"trans: VehiclePart \" as E6  <<(T,blue) part>> [[psysml:9ad03ab5-4ba7-4600-8f6c-f33bd21910a1 ]] {\r\n",
       "- - attributes - -\r\n",
       "^m: MassValue\r\n",
       "}\r\n",
       "rec def \"MassSum\" as E7  <<(T,blue) calculation  def>> [[psysml:425e038d-47d6-48b2-bd42-a030f1074fc4 ]] {\r\n",
       "portin \"partMasses\" as E8  [[psysml:b45e328f-a4a8-4519-9228-274640d6e043 ]] \r\n",
       "portout \"totalMass\" as E9  [[psysml:712f9e49-cc72-40cc-a5b0-9958e3b93d47 ]] \r\n",
       "}\r\n",
       "\r\n",
       "comp usage \"ms: MassSum \" as E10  <<(T,blue) calculation>> [[psysml:e012d373-591a-4cf2-b53b-d810c6dd562d ]] {\r\n",
       "- - parameters - -\r\n",
       "<b>in</b> partMasses= (vehicle.eng.m, vehicle.trans.m); \r\n",
       "}\r\n",
       "comp usage \"vehicles \" as E11  <<(T,blue) part>> [[psysml:e4253433-368c-4e86-8a3c-6b186419df89 ]] {\r\n",
       "}\r\n",
       "comp usage \"masses1 \" as E12  <<(T,blue) attribute>> [[psysml:03468340-4ee1-4dfd-ba23-9337b31e6caf ]] {\r\n",
       "}\r\n",
       "comp usage \"masses2 \" as E13  <<(T,blue) attribute>> [[psysml:a35488ce-7eb0-470e-9ecc-f7a0c28bc139 ]] {\r\n",
       "}\r\n",
       "}\r\n",
       "E3 - -|> E2 [[psysml:2113862d-3e36-4f2a-be29-5fbeffc35ef5 ]] \r\n",
       "E4 - -:|> E3 [[psysml:3f6bcc61-006c-4905-be22-168150e04931 ]] \r\n",
       "E4 o- - \"1\"E5 [[psysml:dfe553ed-92b1-45a3-82b1-c875cfb3cf56 ]] \r\n",
       "E5 - -:|> E2 [[psysml:7cfd1003-3fe0-4a32-a3a1-13a5c8efedf2 ]] \r\n",
       "E4 o- - \"1\"E6 [[psysml:56232501-f921-4851-b5f9-a91b366c1c7b ]] \r\n",
       "E6 - -:|> E2 [[psysml:b3767e4f-9e3f-4162-9e5b-3e184cb0e1ab ]] \r\n",
       "E10 - -:|> E7 [[psysml:650eb0f7-ec08-4309-80b6-1e90e34b9690 ]] \r\n",
       "@enduml\r\n",
       "\n",
       "PlantUML version 1.2020.13(Sat Jun 13 12:26:38 UTC 2020)\n",
       "(EPL source distribution)\n",
       "Java Runtime: OpenJDK Runtime Environment\n",
       "JVM: OpenJDK 64-Bit Server VM\n",
       "Default Encoding: UTF-8\n",
       "Language: en\n",
       "Country: null\n",
       "--></g></svg>"
      ]
     },
     "execution_count": 23,
     "metadata": {},
     "output_type": "execute_result"
    }
   ],
   "source": [
    "%viz --style=\"STDCOLOR\" --view=\"Default\" \"CalculationExample\""
   ]
  },
  {
   "cell_type": "code",
   "execution_count": 24,
   "id": "0e9ea69e",
   "metadata": {
    "execution": {
     "iopub.execute_input": "2022-08-19T08:22:01.947541Z",
     "iopub.status.busy": "2022-08-19T08:22:01.947053Z",
     "iopub.status.idle": "2022-08-19T08:22:02.039245Z",
     "shell.execute_reply": "2022-08-19T08:22:02.037466Z"
    }
   },
   "outputs": [
    {
     "data": {
      "image/svg+xml": [
       "<?xml version=\"1.0\" encoding=\"UTF-8\" standalone=\"no\"?><svg xmlns=\"http://www.w3.org/2000/svg\" xmlns:xlink=\"http://www.w3.org/1999/xlink\" contentScriptType=\"application/ecmascript\" contentStyleType=\"text/css\" height=\"417px\" preserveAspectRatio=\"none\" style=\"width:813px;height:417px;\" version=\"1.1\" viewBox=\"0 0 813 417\" width=\"813px\" zoomAndPan=\"magnify\"><defs><filter height=\"300%\" id=\"f1thoa92q8o3on\" width=\"300%\" x=\"-1\" y=\"-1\"><feGaussianBlur result=\"blurOut\" stdDeviation=\"2.0\"/><feColorMatrix in=\"blurOut\" result=\"blurOut2\" type=\"matrix\" values=\"0 0 0 0 0 0 0 0 0 0 0 0 0 0 0 0 0 0 .4 0\"/><feOffset dx=\"4.0\" dy=\"4.0\" in=\"blurOut2\" result=\"blurOut3\"/><feBlend in=\"SourceGraphic\" in2=\"blurOut3\" mode=\"normal\"/></filter></defs><g><!--MD5=[fbc87193dbaf4d95561dea2c320d4a47]\n",
       "cluster E1--><a href=\"psysml:9a950c4d-df47-4bf2-a127-6824d456053c\" target=\"_top\" title=\"psysml:9a950c4d-df47-4bf2-a127-6824d456053c\" xlink:actuate=\"onRequest\" xlink:href=\"psysml:9a950c4d-df47-4bf2-a127-6824d456053c\" xlink:show=\"new\" xlink:title=\"psysml:9a950c4d-df47-4bf2-a127-6824d456053c\" xlink:type=\"simple\"><polygon fill=\"#FFFFFF\" filter=\"url(#f1thoa92q8o3on)\" points=\"16,6,155,6,162,28.2969,791,28.2969,791,405,16,405,16,6\" style=\"stroke: #000000; stroke-width: 1.5;\"/><line style=\"stroke: #000000; stroke-width: 1.5;\" x1=\"16\" x2=\"162\" y1=\"28.2969\" y2=\"28.2969\"/><text fill=\"#000000\" font-family=\"sans-serif\" font-size=\"14\" font-weight=\"bold\" lengthAdjust=\"spacingAndGlyphs\" textLength=\"133\" x=\"20\" y=\"20.9951\">CalculationExample</text></a><!--MD5=[b4997ac47864f28c2f74865a473b2911]\n",
       "class E2--><a href=\"psysml:240f00ab-b9bf-457e-9376-98b0b5e156bb\" target=\"_top\" title=\"psysml:240f00ab-b9bf-457e-9376-98b0b5e156bb\" xlink:actuate=\"onRequest\" xlink:href=\"psysml:240f00ab-b9bf-457e-9376-98b0b5e156bb\" xlink:show=\"new\" xlink:title=\"psysml:240f00ab-b9bf-457e-9376-98b0b5e156bb\" xlink:type=\"simple\"><rect fill=\"#FEFECE\" filter=\"url(#f1thoa92q8o3on)\" height=\"75.5469\" id=\"E2\" style=\"stroke: #A80036; stroke-width: 1.5;\" width=\"92\" x=\"515\" y=\"313\"/><text fill=\"#000000\" font-family=\"sans-serif\" font-size=\"12\" font-style=\"italic\" lengthAdjust=\"spacingAndGlyphs\" textLength=\"68\" x=\"527\" y=\"329.1387\">«part  def»</text><text fill=\"#000000\" font-family=\"sans-serif\" font-size=\"12\" lengthAdjust=\"spacingAndGlyphs\" textLength=\"71\" x=\"525.5\" y=\"343.1074\">VehiclePart</text><line style=\"stroke: #A80036; stroke-width: 1.5;\" x1=\"516\" x2=\"606\" y1=\"350.9375\" y2=\"350.9375\"/><text fill=\"#000000\" font-family=\"sans-serif\" font-size=\"11\" lengthAdjust=\"spacingAndGlyphs\" textLength=\"80\" x=\"521\" y=\"381.9526\">m: MassValue</text><line style=\"stroke: #A80036; stroke-width: 1.0;\" x1=\"516\" x2=\"533.5\" y1=\"365.3398\" y2=\"365.3398\"/><text fill=\"#000000\" font-family=\"sans-serif\" font-size=\"11\" lengthAdjust=\"spacingAndGlyphs\" textLength=\"55\" x=\"533.5\" y=\"368.6479\">attributes</text><line style=\"stroke: #A80036; stroke-width: 1.0;\" x1=\"588.5\" x2=\"606\" y1=\"365.3398\" y2=\"365.3398\"/></a><!--MD5=[09b614a08d8cba4a07c9adeb5e0fee81]\n",
       "class E3--><a href=\"psysml:240db56f-6d8c-4faf-8b3c-f8974d12918d\" target=\"_top\" title=\"psysml:240db56f-6d8c-4faf-8b3c-f8974d12918d\" xlink:actuate=\"onRequest\" xlink:href=\"psysml:240db56f-6d8c-4faf-8b3c-f8974d12918d\" xlink:show=\"new\" xlink:title=\"psysml:240db56f-6d8c-4faf-8b3c-f8974d12918d\" xlink:type=\"simple\"><rect fill=\"#FEFECE\" filter=\"url(#f1thoa92q8o3on)\" height=\"45.9375\" id=\"E3\" style=\"stroke: #A80036; stroke-width: 1.5;\" width=\"70\" x=\"399\" y=\"192\"/><text fill=\"#000000\" font-family=\"sans-serif\" font-size=\"12\" font-style=\"italic\" lengthAdjust=\"spacingAndGlyphs\" textLength=\"68\" x=\"400\" y=\"208.1387\">«part  def»</text><text fill=\"#000000\" font-family=\"sans-serif\" font-size=\"12\" lengthAdjust=\"spacingAndGlyphs\" textLength=\"45\" x=\"411.5\" y=\"222.1074\">Vehicle</text><line style=\"stroke: #A80036; stroke-width: 1.5;\" x1=\"400\" x2=\"468\" y1=\"229.9375\" y2=\"229.9375\"/></a><!--MD5=[ebbe1d658d1005bcc118a6aa81145e00]\n",
       "class E4--><a href=\"psysml:ce00e2ad-3315-43f7-b2e6-6ce884a27309\" target=\"_top\" title=\"psysml:ce00e2ad-3315-43f7-b2e6-6ce884a27309\" xlink:actuate=\"onRequest\" xlink:href=\"psysml:ce00e2ad-3315-43f7-b2e6-6ce884a27309\" xlink:show=\"new\" xlink:title=\"psysml:ce00e2ad-3315-43f7-b2e6-6ce884a27309\" xlink:type=\"simple\"><rect fill=\"#FEFECE\" filter=\"url(#f1thoa92q8o3on)\" height=\"75.5469\" id=\"E4\" rx=\"10\" ry=\"10\" style=\"stroke: #A80036; stroke-width: 1.5;\" width=\"106\" x=\"669\" y=\"41\"/><text fill=\"#000000\" font-family=\"sans-serif\" font-size=\"12\" font-style=\"italic\" lengthAdjust=\"spacingAndGlyphs\" textLength=\"40\" x=\"702\" y=\"57.1387\">«part»</text><text fill=\"#000000\" font-family=\"sans-serif\" font-size=\"12\" lengthAdjust=\"spacingAndGlyphs\" textLength=\"96\" x=\"672\" y=\"71.1074\">vehicle: Vehicle</text><line style=\"stroke: #A80036; stroke-width: 1.5;\" x1=\"670\" x2=\"774\" y1=\"78.9375\" y2=\"78.9375\"/><text fill=\"#000000\" font-family=\"sans-serif\" font-size=\"11\" lengthAdjust=\"spacingAndGlyphs\" textLength=\"89\" x=\"675\" y=\"109.9526\">^m: MassValue</text><line style=\"stroke: #A80036; stroke-width: 1.0;\" x1=\"670\" x2=\"694.5\" y1=\"93.3398\" y2=\"93.3398\"/><text fill=\"#000000\" font-family=\"sans-serif\" font-size=\"11\" lengthAdjust=\"spacingAndGlyphs\" textLength=\"55\" x=\"694.5\" y=\"96.6479\">attributes</text><line style=\"stroke: #A80036; stroke-width: 1.0;\" x1=\"749.5\" x2=\"774\" y1=\"93.3398\" y2=\"93.3398\"/></a><!--MD5=[270fce915f116d4de14055a7c1d9a0f3]\n",
       "class E5--><a href=\"psysml:83fc889d-b3c1-4be4-83aa-24728b198254\" target=\"_top\" title=\"psysml:83fc889d-b3c1-4be4-83aa-24728b198254\" xlink:actuate=\"onRequest\" xlink:href=\"psysml:83fc889d-b3c1-4be4-83aa-24728b198254\" xlink:show=\"new\" xlink:title=\"psysml:83fc889d-b3c1-4be4-83aa-24728b198254\" xlink:type=\"simple\"><rect fill=\"#FEFECE\" filter=\"url(#f1thoa92q8o3on)\" height=\"75.5469\" id=\"E5\" rx=\"10\" ry=\"10\" style=\"stroke: #A80036; stroke-width: 1.5;\" width=\"113\" x=\"504.5\" y=\"177\"/><text fill=\"#000000\" font-family=\"sans-serif\" font-size=\"12\" font-style=\"italic\" lengthAdjust=\"spacingAndGlyphs\" textLength=\"40\" x=\"541\" y=\"193.1387\">«part»</text><text fill=\"#000000\" font-family=\"sans-serif\" font-size=\"12\" lengthAdjust=\"spacingAndGlyphs\" textLength=\"103\" x=\"507.5\" y=\"207.1074\">eng: VehiclePart</text><line style=\"stroke: #A80036; stroke-width: 1.5;\" x1=\"505.5\" x2=\"616.5\" y1=\"214.9375\" y2=\"214.9375\"/><text fill=\"#000000\" font-family=\"sans-serif\" font-size=\"11\" lengthAdjust=\"spacingAndGlyphs\" textLength=\"89\" x=\"510.5\" y=\"245.9526\">^m: MassValue</text><line style=\"stroke: #A80036; stroke-width: 1.0;\" x1=\"505.5\" x2=\"533.5\" y1=\"229.3398\" y2=\"229.3398\"/><text fill=\"#000000\" font-family=\"sans-serif\" font-size=\"11\" lengthAdjust=\"spacingAndGlyphs\" textLength=\"55\" x=\"533.5\" y=\"232.6479\">attributes</text><line style=\"stroke: #A80036; stroke-width: 1.0;\" x1=\"588.5\" x2=\"616.5\" y1=\"229.3398\" y2=\"229.3398\"/></a><!--MD5=[60a26617385b1d2d0262a64233df1f8d]\n",
       "class E6--><a href=\"psysml:9ad03ab5-4ba7-4600-8f6c-f33bd21910a1\" target=\"_top\" title=\"psysml:9ad03ab5-4ba7-4600-8f6c-f33bd21910a1\" xlink:actuate=\"onRequest\" xlink:href=\"psysml:9ad03ab5-4ba7-4600-8f6c-f33bd21910a1\" xlink:show=\"new\" xlink:title=\"psysml:9ad03ab5-4ba7-4600-8f6c-f33bd21910a1\" xlink:type=\"simple\"><rect fill=\"#FEFECE\" filter=\"url(#f1thoa92q8o3on)\" height=\"75.5469\" id=\"E6\" rx=\"10\" ry=\"10\" style=\"stroke: #A80036; stroke-width: 1.5;\" width=\"122\" x=\"653\" y=\"177\"/><text fill=\"#000000\" font-family=\"sans-serif\" font-size=\"12\" font-style=\"italic\" lengthAdjust=\"spacingAndGlyphs\" textLength=\"40\" x=\"694\" y=\"193.1387\">«part»</text><text fill=\"#000000\" font-family=\"sans-serif\" font-size=\"12\" lengthAdjust=\"spacingAndGlyphs\" textLength=\"112\" x=\"656\" y=\"207.1074\">trans: VehiclePart</text><line style=\"stroke: #A80036; stroke-width: 1.5;\" x1=\"654\" x2=\"774\" y1=\"214.9375\" y2=\"214.9375\"/><text fill=\"#000000\" font-family=\"sans-serif\" font-size=\"11\" lengthAdjust=\"spacingAndGlyphs\" textLength=\"89\" x=\"659\" y=\"245.9526\">^m: MassValue</text><line style=\"stroke: #A80036; stroke-width: 1.0;\" x1=\"654\" x2=\"686.5\" y1=\"229.3398\" y2=\"229.3398\"/><text fill=\"#000000\" font-family=\"sans-serif\" font-size=\"11\" lengthAdjust=\"spacingAndGlyphs\" textLength=\"55\" x=\"686.5\" y=\"232.6479\">attributes</text><line style=\"stroke: #A80036; stroke-width: 1.0;\" x1=\"741.5\" x2=\"774\" y1=\"229.3398\" y2=\"229.3398\"/></a><!--MD5=[2156ba9850f5573cc1fc38a6a4b2f02b]\n",
       "class E7--><a href=\"psysml:425e038d-47d6-48b2-bd42-a030f1074fc4\" target=\"_top\" title=\"psysml:425e038d-47d6-48b2-bd42-a030f1074fc4\" xlink:actuate=\"onRequest\" xlink:href=\"psysml:425e038d-47d6-48b2-bd42-a030f1074fc4\" xlink:show=\"new\" xlink:title=\"psysml:425e038d-47d6-48b2-bd42-a030f1074fc4\" xlink:type=\"simple\"><rect fill=\"#FEFECE\" filter=\"url(#f1thoa92q8o3on)\" height=\"45.9375\" id=\"E7\" style=\"stroke: #A80036; stroke-width: 1.5;\" width=\"112\" x=\"252\" y=\"192\"/><text fill=\"#000000\" font-family=\"sans-serif\" font-size=\"12\" font-style=\"italic\" lengthAdjust=\"spacingAndGlyphs\" textLength=\"110\" x=\"253\" y=\"208.1387\">«calculation  def»</text><text fill=\"#000000\" font-family=\"sans-serif\" font-size=\"12\" lengthAdjust=\"spacingAndGlyphs\" textLength=\"59\" x=\"278.5\" y=\"222.1074\">MassSum</text><line style=\"stroke: #A80036; stroke-width: 1.5;\" x1=\"253\" x2=\"363\" y1=\"229.9375\" y2=\"229.9375\"/></a><!--MD5=[b9389687b975829384b498ac4b7476b2]\n",
       "class E8--><a href=\"psysml:e012d373-591a-4cf2-b53b-d810c6dd562d\" target=\"_top\" title=\"psysml:e012d373-591a-4cf2-b53b-d810c6dd562d\" xlink:actuate=\"onRequest\" xlink:href=\"psysml:e012d373-591a-4cf2-b53b-d810c6dd562d\" xlink:show=\"new\" xlink:title=\"psysml:e012d373-591a-4cf2-b53b-d810c6dd562d\" xlink:type=\"simple\"><rect fill=\"#FEFECE\" filter=\"url(#f1thoa92q8o3on)\" height=\"75.5469\" id=\"E8\" rx=\"10\" ry=\"10\" style=\"stroke: #A80036; stroke-width: 1.5;\" width=\"293\" x=\"340.5\" y=\"41\"/><text fill=\"#000000\" font-family=\"sans-serif\" font-size=\"12\" font-style=\"italic\" lengthAdjust=\"spacingAndGlyphs\" textLength=\"82\" x=\"446\" y=\"57.1387\">«calculation»</text><text fill=\"#000000\" font-family=\"sans-serif\" font-size=\"12\" lengthAdjust=\"spacingAndGlyphs\" textLength=\"85\" x=\"442.5\" y=\"71.1074\">ms: MassSum</text><line style=\"stroke: #A80036; stroke-width: 1.5;\" x1=\"341.5\" x2=\"632.5\" y1=\"78.9375\" y2=\"78.9375\"/><text fill=\"#000000\" font-family=\"sans-serif\" font-size=\"11\" font-weight=\"bold\" lengthAdjust=\"spacingAndGlyphs\" textLength=\"10\" x=\"346.5\" y=\"109.9526\">in</text><text fill=\"#000000\" font-family=\"sans-serif\" font-size=\"11\" lengthAdjust=\"spacingAndGlyphs\" textLength=\"267\" x=\"360.5\" y=\"109.9526\">partMasses= (vehicle.eng.m, vehicle.trans.m);</text><line style=\"stroke: #A80036; stroke-width: 1.0;\" x1=\"341.5\" x2=\"453.5\" y1=\"93.3398\" y2=\"93.3398\"/><text fill=\"#000000\" font-family=\"sans-serif\" font-size=\"11\" lengthAdjust=\"spacingAndGlyphs\" textLength=\"67\" x=\"453.5\" y=\"96.6479\">parameters</text><line style=\"stroke: #A80036; stroke-width: 1.0;\" x1=\"520.5\" x2=\"632.5\" y1=\"93.3398\" y2=\"93.3398\"/></a><!--MD5=[fd4143e9d270a159db93a4ea2a975926]\n",
       "class E9--><a href=\"psysml:e4253433-368c-4e86-8a3c-6b186419df89\" target=\"_top\" title=\"psysml:e4253433-368c-4e86-8a3c-6b186419df89\" xlink:actuate=\"onRequest\" xlink:href=\"psysml:e4253433-368c-4e86-8a3c-6b186419df89\" xlink:show=\"new\" xlink:title=\"psysml:e4253433-368c-4e86-8a3c-6b186419df89\" xlink:type=\"simple\"><rect fill=\"#FEFECE\" filter=\"url(#f1thoa92q8o3on)\" height=\"45.9375\" id=\"E9\" rx=\"10\" ry=\"10\" style=\"stroke: #A80036; stroke-width: 1.5;\" width=\"60\" x=\"245\" y=\"56\"/><text fill=\"#000000\" font-family=\"sans-serif\" font-size=\"12\" font-style=\"italic\" lengthAdjust=\"spacingAndGlyphs\" textLength=\"40\" x=\"255\" y=\"72.1387\">«part»</text><text fill=\"#000000\" font-family=\"sans-serif\" font-size=\"12\" lengthAdjust=\"spacingAndGlyphs\" textLength=\"50\" x=\"248\" y=\"86.1074\">vehicles</text><line style=\"stroke: #A80036; stroke-width: 1.5;\" x1=\"246\" x2=\"304\" y1=\"93.9375\" y2=\"93.9375\"/></a><!--MD5=[96f4274e9e20536e775497830990834d]\n",
       "class E10--><a href=\"psysml:03468340-4ee1-4dfd-ba23-9337b31e6caf\" target=\"_top\" title=\"psysml:03468340-4ee1-4dfd-ba23-9337b31e6caf\" xlink:actuate=\"onRequest\" xlink:href=\"psysml:03468340-4ee1-4dfd-ba23-9337b31e6caf\" xlink:show=\"new\" xlink:title=\"psysml:03468340-4ee1-4dfd-ba23-9337b31e6caf\" xlink:type=\"simple\"><rect fill=\"#FEFECE\" filter=\"url(#f1thoa92q8o3on)\" height=\"45.9375\" id=\"E10\" rx=\"10\" ry=\"10\" style=\"stroke: #A80036; stroke-width: 1.5;\" width=\"71\" x=\"138.5\" y=\"56\"/><text fill=\"#000000\" font-family=\"sans-serif\" font-size=\"12\" font-style=\"italic\" lengthAdjust=\"spacingAndGlyphs\" textLength=\"69\" x=\"139.5\" y=\"72.1387\">«attribute»</text><text fill=\"#000000\" font-family=\"sans-serif\" font-size=\"12\" lengthAdjust=\"spacingAndGlyphs\" textLength=\"56\" x=\"144\" y=\"86.1074\">masses1</text><line style=\"stroke: #A80036; stroke-width: 1.5;\" x1=\"139.5\" x2=\"208.5\" y1=\"93.9375\" y2=\"93.9375\"/></a><!--MD5=[1dd1bfd58a279cf63c5f349dbc8fc6a1]\n",
       "class E11--><a href=\"psysml:a35488ce-7eb0-470e-9ecc-f7a0c28bc139\" target=\"_top\" title=\"psysml:a35488ce-7eb0-470e-9ecc-f7a0c28bc139\" xlink:actuate=\"onRequest\" xlink:href=\"psysml:a35488ce-7eb0-470e-9ecc-f7a0c28bc139\" xlink:show=\"new\" xlink:title=\"psysml:a35488ce-7eb0-470e-9ecc-f7a0c28bc139\" xlink:type=\"simple\"><rect fill=\"#FEFECE\" filter=\"url(#f1thoa92q8o3on)\" height=\"45.9375\" id=\"E11\" rx=\"10\" ry=\"10\" style=\"stroke: #A80036; stroke-width: 1.5;\" width=\"71\" x=\"32.5\" y=\"56\"/><text fill=\"#000000\" font-family=\"sans-serif\" font-size=\"12\" font-style=\"italic\" lengthAdjust=\"spacingAndGlyphs\" textLength=\"69\" x=\"33.5\" y=\"72.1387\">«attribute»</text><text fill=\"#000000\" font-family=\"sans-serif\" font-size=\"12\" lengthAdjust=\"spacingAndGlyphs\" textLength=\"56\" x=\"38\" y=\"86.1074\">masses2</text><line style=\"stroke: #A80036; stroke-width: 1.5;\" x1=\"33.5\" x2=\"102.5\" y1=\"93.9375\" y2=\"93.9375\"/></a><!--MD5=[05d275557350bfb9b23a4ef7222b4c39]\n",
       "link E3 to E2--><a href=\"psysml:2113862d-3e36-4f2a-be29-5fbeffc35ef5\" target=\"_top\" title=\"psysml:2113862d-3e36-4f2a-be29-5fbeffc35ef5\" xlink:actuate=\"onRequest\" xlink:href=\"psysml:2113862d-3e36-4f2a-be29-5fbeffc35ef5\" xlink:show=\"new\" xlink:title=\"psysml:2113862d-3e36-4f2a-be29-5fbeffc35ef5\" xlink:type=\"simple\"><path d=\"M454.97,238.13 C470.45,254.46 492.16,277.37 511.91,298.21 \" fill=\"none\" id=\"E3-&gt;E2\" style=\"stroke: #A80036; stroke-width: 1.0;\"/><polygon fill=\"none\" points=\"517.15,293.56,525.83,312.89,506.99,303.19,517.15,293.56\" style=\"stroke: #A80036; stroke-width: 1.0;\"/></a><!--MD5=[f0cdf4548168e5211fb3a02bf679d63a]\n",
       "link E4 to E3--><a href=\"psysml:3f6bcc61-006c-4905-be22-168150e04931\" target=\"_top\" title=\"psysml:3f6bcc61-006c-4905-be22-168150e04931\" xlink:actuate=\"onRequest\" xlink:href=\"psysml:3f6bcc61-006c-4905-be22-168150e04931\" xlink:show=\"new\" xlink:title=\"psysml:3f6bcc61-006c-4905-be22-168150e04931\" xlink:type=\"simple\"><path d=\"M668.86,108.63 C662.89,111.57 656.85,114.42 651,117 C579.99,148.33 555.84,141.15 487,177 C484.58,178.26 482.14,179.62 479.7,181.04 \" fill=\"none\" id=\"E4-&gt;E3\" style=\"stroke: #A80036; stroke-width: 1.0;\"/><polygon fill=\"#FFFFFF\" points=\"462.86,191.85,475.0758,175.7015,482.6328,187.4868,462.86,191.85\" style=\"stroke: #A80036; stroke-width: 1.0;\"/><ellipse cx=\"480.9537\" cy=\"174.3083\" fill=\"#A80036\" rx=\"2\" ry=\"2\" style=\"stroke: #A80036; stroke-width: 1.0;\"/><ellipse cx=\"486.3515\" cy=\"182.7264\" fill=\"#A80036\" rx=\"2\" ry=\"2\" style=\"stroke: #A80036; stroke-width: 1.0;\"/></a><!--MD5=[62aa6af11e70f752912c1cb0466f24f7]\n",
       "reverse link E4 to E5--><a href=\"psysml:dfe553ed-92b1-45a3-82b1-c875cfb3cf56\" target=\"_top\" title=\"psysml:dfe553ed-92b1-45a3-82b1-c875cfb3cf56\" xlink:actuate=\"onRequest\" xlink:href=\"psysml:dfe553ed-92b1-45a3-82b1-c875cfb3cf56\" xlink:show=\"new\" xlink:title=\"psysml:dfe553ed-92b1-45a3-82b1-c875cfb3cf56\" xlink:type=\"simple\"><path d=\"M666.94,125.83 C646.93,142.48 624.59,161.07 605.61,176.87 \" fill=\"none\" id=\"E4&lt;-E5\" style=\"stroke: #A80036; stroke-width: 1.0;\"/><polygon fill=\"#FFFFFF\" points=\"677.15,117.33,669.9796,118.0952,667.9281,125.0083,675.0985,124.2431,677.15,117.33\" style=\"stroke: #A80036; stroke-width: 1.0;\"/><text fill=\"#000000\" font-family=\"sans-serif\" font-size=\"13\" lengthAdjust=\"spacingAndGlyphs\" textLength=\"8\" x=\"604.8437\" y=\"165.8612\">1</text></a><!--MD5=[15ebcb19ae302d9b601edb458606d402]\n",
       "link E5 to E2--><a href=\"psysml:7cfd1003-3fe0-4a32-a3a1-13a5c8efedf2\" target=\"_top\" title=\"psysml:7cfd1003-3fe0-4a32-a3a1-13a5c8efedf2\" xlink:actuate=\"onRequest\" xlink:href=\"psysml:7cfd1003-3fe0-4a32-a3a1-13a5c8efedf2\" xlink:show=\"new\" xlink:title=\"psysml:7cfd1003-3fe0-4a32-a3a1-13a5c8efedf2\" xlink:type=\"simple\"><path d=\"M561,253.33 C561,265.52 561,279.36 561,292.68 \" fill=\"none\" id=\"E5-&gt;E2\" style=\"stroke: #A80036; stroke-width: 1.0;\"/><polygon fill=\"#FFFFFF\" points=\"561,312.87,554,293.87,568,293.87,561,312.87\" style=\"stroke: #A80036; stroke-width: 1.0;\"/><ellipse cx=\"556\" cy=\"288.17\" fill=\"#A80036\" rx=\"2\" ry=\"2\" style=\"stroke: #A80036; stroke-width: 1.0;\"/><ellipse cx=\"566\" cy=\"288.17\" fill=\"#A80036\" rx=\"2\" ry=\"2\" style=\"stroke: #A80036; stroke-width: 1.0;\"/></a><!--MD5=[6db378b65e1aef66a01cb3103812b399]\n",
       "reverse link E4 to E6--><a href=\"psysml:56232501-f921-4851-b5f9-a91b366c1c7b\" target=\"_top\" title=\"psysml:56232501-f921-4851-b5f9-a91b366c1c7b\" xlink:actuate=\"onRequest\" xlink:href=\"psysml:56232501-f921-4851-b5f9-a91b366c1c7b\" xlink:show=\"new\" xlink:title=\"psysml:56232501-f921-4851-b5f9-a91b366c1c7b\" xlink:type=\"simple\"><path d=\"M718.99,130.46 C718.07,145.87 717.07,162.52 716.22,176.87 \" fill=\"none\" id=\"E4&lt;-E6\" style=\"stroke: #A80036; stroke-width: 1.0;\"/><polygon fill=\"#FFFFFF\" points=\"719.77,117.33,715.4212,123.0822,719.0584,129.3089,723.4072,123.5566,719.77,117.33\" style=\"stroke: #A80036; stroke-width: 1.0;\"/><text fill=\"#000000\" font-family=\"sans-serif\" font-size=\"13\" lengthAdjust=\"spacingAndGlyphs\" textLength=\"8\" x=\"707.9029\" y=\"165.8612\">1</text></a><!--MD5=[2351f337d6de0f557b50152ba70847b5]\n",
       "link E6 to E2--><a href=\"psysml:b3767e4f-9e3f-4162-9e5b-3e184cb0e1ab\" target=\"_top\" title=\"psysml:b3767e4f-9e3f-4162-9e5b-3e184cb0e1ab\" xlink:actuate=\"onRequest\" xlink:href=\"psysml:b3767e4f-9e3f-4162-9e5b-3e184cb0e1ab\" xlink:show=\"new\" xlink:title=\"psysml:b3767e4f-9e3f-4162-9e5b-3e184cb0e1ab\" xlink:type=\"simple\"><path d=\"M671.38,253.33 C655.05,267.63 636.14,284.19 618.63,299.52 \" fill=\"none\" id=\"E6-&gt;E2\" style=\"stroke: #A80036; stroke-width: 1.0;\"/><polygon fill=\"#FFFFFF\" points=\"603.39,312.87,613.0639,295.0819,622.2922,305.6099,603.39,312.87\" style=\"stroke: #A80036; stroke-width: 1.0;\"/><ellipse cx=\"618.6686\" cy=\"292.8287\" fill=\"#A80036\" rx=\"2\" ry=\"2\" style=\"stroke: #A80036; stroke-width: 1.0;\"/><ellipse cx=\"625.2602\" cy=\"300.3487\" fill=\"#A80036\" rx=\"2\" ry=\"2\" style=\"stroke: #A80036; stroke-width: 1.0;\"/></a><!--MD5=[bfa3c8b0d15052fdf50ae9310b491027]\n",
       "link E8 to E7--><a href=\"psysml:650eb0f7-ec08-4309-80b6-1e90e34b9690\" target=\"_top\" title=\"psysml:650eb0f7-ec08-4309-80b6-1e90e34b9690\" xlink:actuate=\"onRequest\" xlink:href=\"psysml:650eb0f7-ec08-4309-80b6-1e90e34b9690\" xlink:show=\"new\" xlink:title=\"psysml:650eb0f7-ec08-4309-80b6-1e90e34b9690\" xlink:type=\"simple\"><path d=\"M437.14,117.33 C410.96,136.93 379.11,160.77 353.59,179.87 \" fill=\"none\" id=\"E8-&gt;E7\" style=\"stroke: #A80036; stroke-width: 1.0;\"/><polygon fill=\"#FFFFFF\" points=\"337.47,191.94,348.487,174.951,356.8758,186.1594,337.47,191.94\" style=\"stroke: #A80036; stroke-width: 1.0;\"/><ellipse cx=\"354.2488\" cy=\"173.1368\" fill=\"#A80036\" rx=\"2\" ry=\"2\" style=\"stroke: #A80036; stroke-width: 1.0;\"/><ellipse cx=\"360.2408\" cy=\"181.1428\" fill=\"#A80036\" rx=\"2\" ry=\"2\" style=\"stroke: #A80036; stroke-width: 1.0;\"/></a><!--MD5=[5e1e94bff537de1197fb9d910c814362]\n",
       "@startuml\r\n",
       "skinparam wrapWidth 300\r\n",
       "hide circle\r\n",
       "\r\n",
       "package \"CalculationExample\" as E1  [[psysml:9a950c4d-df47-4bf2-a127-6824d456053c ]]  {\r\n",
       "comp def \"VehiclePart\" as E2  <<(T,blue) part  def>> [[psysml:240f00ab-b9bf-457e-9376-98b0b5e156bb ]] {\r\n",
       "- - attributes - -\r\n",
       "m: MassValue\r\n",
       "}\r\n",
       "comp def \"Vehicle\" as E3  <<(T,blue) part  def>> [[psysml:240db56f-6d8c-4faf-8b3c-f8974d12918d ]] {\r\n",
       "}\r\n",
       "comp usage \"vehicle: Vehicle \" as E4  <<(T,blue) part>> [[psysml:ce00e2ad-3315-43f7-b2e6-6ce884a27309 ]] {\r\n",
       "- - attributes - -\r\n",
       "^m: MassValue\r\n",
       "}\r\n",
       "comp usage \"eng: VehiclePart \" as E5  <<(T,blue) part>> [[psysml:83fc889d-b3c1-4be4-83aa-24728b198254 ]] {\r\n",
       "- - attributes - -\r\n",
       "^m: MassValue\r\n",
       "}\r\n",
       "comp usage \"trans: VehiclePart \" as E6  <<(T,blue) part>> [[psysml:9ad03ab5-4ba7-4600-8f6c-f33bd21910a1 ]] {\r\n",
       "- - attributes - -\r\n",
       "^m: MassValue\r\n",
       "}\r\n",
       "comp def \"MassSum\" as E7  <<(T,blue) calculation  def>> [[psysml:425e038d-47d6-48b2-bd42-a030f1074fc4 ]] {\r\n",
       "}\r\n",
       "comp usage \"ms: MassSum \" as E8  <<(T,blue) calculation>> [[psysml:e012d373-591a-4cf2-b53b-d810c6dd562d ]] {\r\n",
       "- - parameters - -\r\n",
       "<b>in</b> partMasses= (vehicle.eng.m, vehicle.trans.m); \r\n",
       "}\r\n",
       "comp usage \"vehicles \" as E9  <<(T,blue) part>> [[psysml:e4253433-368c-4e86-8a3c-6b186419df89 ]] {\r\n",
       "}\r\n",
       "comp usage \"masses1 \" as E10  <<(T,blue) attribute>> [[psysml:03468340-4ee1-4dfd-ba23-9337b31e6caf ]] {\r\n",
       "}\r\n",
       "comp usage \"masses2 \" as E11  <<(T,blue) attribute>> [[psysml:a35488ce-7eb0-470e-9ecc-f7a0c28bc139 ]] {\r\n",
       "}\r\n",
       "}\r\n",
       "E3 - -|> E2 [[psysml:2113862d-3e36-4f2a-be29-5fbeffc35ef5 ]] \r\n",
       "E4 - -:|> E3 [[psysml:3f6bcc61-006c-4905-be22-168150e04931 ]] \r\n",
       "E4 o- - \"1\"E5 [[psysml:dfe553ed-92b1-45a3-82b1-c875cfb3cf56 ]] \r\n",
       "E5 - -:|> E2 [[psysml:7cfd1003-3fe0-4a32-a3a1-13a5c8efedf2 ]] \r\n",
       "E4 o- - \"1\"E6 [[psysml:56232501-f921-4851-b5f9-a91b366c1c7b ]] \r\n",
       "E6 - -:|> E2 [[psysml:b3767e4f-9e3f-4162-9e5b-3e184cb0e1ab ]] \r\n",
       "E8 - -:|> E7 [[psysml:650eb0f7-ec08-4309-80b6-1e90e34b9690 ]] \r\n",
       "@enduml\r\n",
       "\n",
       "PlantUML version 1.2020.13(Sat Jun 13 12:26:38 UTC 2020)\n",
       "(EPL source distribution)\n",
       "Java Runtime: OpenJDK Runtime Environment\n",
       "JVM: OpenJDK 64-Bit Server VM\n",
       "Default Encoding: UTF-8\n",
       "Language: en\n",
       "Country: null\n",
       "--></g></svg>"
      ]
     },
     "execution_count": 24,
     "metadata": {},
     "output_type": "execute_result"
    }
   ],
   "source": [
    "%viz --style=\"STDCOLOR\" --view=\"Tree\" \"CalculationExample\""
   ]
  },
  {
   "cell_type": "code",
   "execution_count": 25,
   "id": "5ebe2b11",
   "metadata": {
    "execution": {
     "iopub.execute_input": "2022-08-19T08:22:02.088199Z",
     "iopub.status.busy": "2022-08-19T08:22:02.087709Z",
     "iopub.status.idle": "2022-08-19T08:22:02.095512Z",
     "shell.execute_reply": "2022-08-19T08:22:02.095081Z"
    }
   },
   "outputs": [
    {
     "data": {
      "image/svg+xml": [
       "<?xml version=\"1.0\" encoding=\"UTF-8\" standalone=\"no\"?><svg xmlns=\"http://www.w3.org/2000/svg\" xmlns:xlink=\"http://www.w3.org/1999/xlink\" contentScriptType=\"application/ecmascript\" contentStyleType=\"text/css\" height=\"12px\" preserveAspectRatio=\"none\" style=\"width:12px;height:12px;\" version=\"1.1\" viewBox=\"0 0 12 12\" width=\"12px\" zoomAndPan=\"magnify\"><defs/><g><!--MD5=[aeeef50f102b80d730deb6443d14f702]\n",
       "@startuml\r\n",
       "skinparam wrapWidth 300\r\n",
       "hide circle\r\n",
       "\r\n",
       "@enduml\r\n",
       "\n",
       "PlantUML version 1.2020.13(Sat Jun 13 12:26:38 UTC 2020)\n",
       "(EPL source distribution)\n",
       "Java Runtime: OpenJDK Runtime Environment\n",
       "JVM: OpenJDK 64-Bit Server VM\n",
       "Default Encoding: UTF-8\n",
       "Language: en\n",
       "Country: null\n",
       "--></g></svg>"
      ]
     },
     "execution_count": 25,
     "metadata": {},
     "output_type": "execute_result"
    }
   ],
   "source": [
    "%viz --style=\"STDCOLOR\" --view=\"State\" \"CalculationExample\""
   ]
  },
  {
   "cell_type": "code",
   "execution_count": 26,
   "id": "9d75fcd2",
   "metadata": {
    "execution": {
     "iopub.execute_input": "2022-08-19T08:22:02.145751Z",
     "iopub.status.busy": "2022-08-19T08:22:02.145264Z",
     "iopub.status.idle": "2022-08-19T08:22:02.230703Z",
     "shell.execute_reply": "2022-08-19T08:22:02.230243Z"
    }
   },
   "outputs": [
    {
     "data": {
      "image/svg+xml": [
       "<?xml version=\"1.0\" encoding=\"UTF-8\" standalone=\"no\"?><svg xmlns=\"http://www.w3.org/2000/svg\" xmlns:xlink=\"http://www.w3.org/1999/xlink\" contentScriptType=\"application/ecmascript\" contentStyleType=\"text/css\" height=\"581px\" preserveAspectRatio=\"none\" style=\"width:1649px;height:581px;\" version=\"1.1\" viewBox=\"0 0 1649 581\" width=\"1649px\" zoomAndPan=\"magnify\"><defs><filter height=\"300%\" id=\"f8ylpkojkq25d\" width=\"300%\" x=\"-1\" y=\"-1\"><feGaussianBlur result=\"blurOut\" stdDeviation=\"2.0\"/><feColorMatrix in=\"blurOut\" result=\"blurOut2\" type=\"matrix\" values=\"0 0 0 0 0 0 0 0 0 0 0 0 0 0 0 0 0 0 .4 0\"/><feOffset dx=\"4.0\" dy=\"4.0\" in=\"blurOut2\" result=\"blurOut3\"/><feBlend in=\"SourceGraphic\" in2=\"blurOut3\" mode=\"normal\"/></filter></defs><g><!--MD5=[fbc87193dbaf4d95561dea2c320d4a47]\n",
       "cluster E1--><a href=\"psysml:9a950c4d-df47-4bf2-a127-6824d456053c\" target=\"_top\" title=\"psysml:9a950c4d-df47-4bf2-a127-6824d456053c\" xlink:actuate=\"onRequest\" xlink:href=\"psysml:9a950c4d-df47-4bf2-a127-6824d456053c\" xlink:show=\"new\" xlink:title=\"psysml:9a950c4d-df47-4bf2-a127-6824d456053c\" xlink:type=\"simple\"><polygon fill=\"#FFFFFF\" filter=\"url(#f8ylpkojkq25d)\" points=\"16,6,155,6,162,28.2969,1627,28.2969,1627,569,16,569,16,6\" style=\"stroke: #000000; stroke-width: 1.5;\"/><line style=\"stroke: #000000; stroke-width: 1.5;\" x1=\"16\" x2=\"162\" y1=\"28.2969\" y2=\"28.2969\"/><text fill=\"#000000\" font-family=\"sans-serif\" font-size=\"14\" font-weight=\"bold\" lengthAdjust=\"spacingAndGlyphs\" textLength=\"133\" x=\"20\" y=\"20.9951\">CalculationExample</text></a><!--MD5=[e4f7fae6ed58524ba242bb0b0d3be6b7]\n",
       "cluster E2--><a href=\"psysml:240f00ab-b9bf-457e-9376-98b0b5e156bb\" target=\"_top\" title=\"psysml:240f00ab-b9bf-457e-9376-98b0b5e156bb\" xlink:actuate=\"onRequest\" xlink:href=\"psysml:240f00ab-b9bf-457e-9376-98b0b5e156bb\" xlink:show=\"new\" xlink:title=\"psysml:240f00ab-b9bf-457e-9376-98b0b5e156bb\" xlink:type=\"simple\"><rect fill=\"#FFFFFF\" filter=\"url(#f8ylpkojkq25d)\" height=\"129\" id=\"E2\" style=\"stroke: #A80036; stroke-width: 1.5;\" width=\"163\" x=\"1169\" y=\"372\"/><rect fill=\"#FEFECE\" height=\"37.9375\" style=\"stroke: #A80036; stroke-width: 1.5;\" width=\"163\" x=\"1169\" y=\"372\"/><text fill=\"#000000\" font-family=\"sans-serif\" font-size=\"12\" font-style=\"italic\" lengthAdjust=\"spacingAndGlyphs\" textLength=\"68\" x=\"1216.5\" y=\"388.1387\">«part  def»</text><text fill=\"#000000\" font-family=\"sans-serif\" font-size=\"12\" lengthAdjust=\"spacingAndGlyphs\" textLength=\"71\" x=\"1215\" y=\"402.1074\">VehiclePart</text></a><!--MD5=[de5ec2e2e8f62f467e546659f5068c88]\n",
       "cluster E5--><a href=\"psysml:ce00e2ad-3315-43f7-b2e6-6ce884a27309\" target=\"_top\" title=\"psysml:ce00e2ad-3315-43f7-b2e6-6ce884a27309\" xlink:actuate=\"onRequest\" xlink:href=\"psysml:ce00e2ad-3315-43f7-b2e6-6ce884a27309\" xlink:show=\"new\" xlink:title=\"psysml:ce00e2ad-3315-43f7-b2e6-6ce884a27309\" xlink:type=\"simple\"><rect fill=\"#FFFFFF\" filter=\"url(#f8ylpkojkq25d)\" height=\"212\" id=\"E5\" rx=\"10\" ry=\"10\" style=\"stroke: #A80036; stroke-width: 1.5;\" width=\"602\" x=\"993\" y=\"57\"/><rect fill=\"#FEFECE\" height=\"23.9688\" rx=\"10\" ry=\"10\" style=\"stroke: #FEFECE; stroke-width: 1.5;\" width=\"602\" x=\"993\" y=\"57\"/><rect fill=\"#FEFECE\" height=\"10\" style=\"stroke: #FEFECE; stroke-width: 1.5;\" width=\"602\" x=\"993\" y=\"70.9688\"/><rect fill=\"none\" height=\"212\" id=\"E5\" rx=\"10\" ry=\"10\" style=\"stroke: #A80036; stroke-width: 1.5;\" width=\"602\" x=\"993\" y=\"57\"/><text fill=\"#000000\" font-family=\"sans-serif\" font-size=\"12\" lengthAdjust=\"spacingAndGlyphs\" textLength=\"96\" x=\"1246\" y=\"73.1387\">vehicle: Vehicle</text><line style=\"stroke: #A80036; stroke-width: 1.0;\" x1=\"993\" x2=\"1595\" y1=\"80.9688\" y2=\"80.9688\"/></a><!--MD5=[14e3b0961a2654348d326746436168a1]\n",
       "cluster E6--><a href=\"psysml:83fc889d-b3c1-4be4-83aa-24728b198254\" target=\"_top\" title=\"psysml:83fc889d-b3c1-4be4-83aa-24728b198254\" xlink:actuate=\"onRequest\" xlink:href=\"psysml:83fc889d-b3c1-4be4-83aa-24728b198254\" xlink:show=\"new\" xlink:title=\"psysml:83fc889d-b3c1-4be4-83aa-24728b198254\" xlink:type=\"simple\"><rect fill=\"#FFFFFF\" filter=\"url(#f8ylpkojkq25d)\" height=\"113\" id=\"E6\" rx=\"10\" ry=\"10\" style=\"stroke: #A80036; stroke-width: 1.5;\" width=\"173\" x=\"1169\" y=\"116\"/><rect fill=\"#FEFECE\" height=\"23.9688\" rx=\"10\" ry=\"10\" style=\"stroke: #FEFECE; stroke-width: 1.5;\" width=\"173\" x=\"1169\" y=\"116\"/><rect fill=\"#FEFECE\" height=\"10\" style=\"stroke: #FEFECE; stroke-width: 1.5;\" width=\"173\" x=\"1169\" y=\"129.9688\"/><rect fill=\"none\" height=\"113\" id=\"E6\" rx=\"10\" ry=\"10\" style=\"stroke: #A80036; stroke-width: 1.5;\" width=\"173\" x=\"1169\" y=\"116\"/><text fill=\"#000000\" font-family=\"sans-serif\" font-size=\"12\" lengthAdjust=\"spacingAndGlyphs\" textLength=\"103\" x=\"1204\" y=\"132.1387\">eng: VehiclePart</text><line style=\"stroke: #A80036; stroke-width: 1.0;\" x1=\"1169\" x2=\"1342\" y1=\"139.9688\" y2=\"139.9688\"/></a><!--MD5=[55dfccfc6c49c2d10cd1bd2211a6c90c]\n",
       "cluster E8--><a href=\"psysml:9ad03ab5-4ba7-4600-8f6c-f33bd21910a1\" target=\"_top\" title=\"psysml:9ad03ab5-4ba7-4600-8f6c-f33bd21910a1\" xlink:actuate=\"onRequest\" xlink:href=\"psysml:9ad03ab5-4ba7-4600-8f6c-f33bd21910a1\" xlink:show=\"new\" xlink:title=\"psysml:9ad03ab5-4ba7-4600-8f6c-f33bd21910a1\" xlink:type=\"simple\"><rect fill=\"#FFFFFF\" filter=\"url(#f8ylpkojkq25d)\" height=\"113\" id=\"E8\" rx=\"10\" ry=\"10\" style=\"stroke: #A80036; stroke-width: 1.5;\" width=\"173\" x=\"1382\" y=\"116\"/><rect fill=\"#FEFECE\" height=\"23.9688\" rx=\"10\" ry=\"10\" style=\"stroke: #FEFECE; stroke-width: 1.5;\" width=\"173\" x=\"1382\" y=\"116\"/><rect fill=\"#FEFECE\" height=\"10\" style=\"stroke: #FEFECE; stroke-width: 1.5;\" width=\"173\" x=\"1382\" y=\"129.9688\"/><rect fill=\"none\" height=\"113\" id=\"E8\" rx=\"10\" ry=\"10\" style=\"stroke: #A80036; stroke-width: 1.5;\" width=\"173\" x=\"1382\" y=\"116\"/><text fill=\"#000000\" font-family=\"sans-serif\" font-size=\"12\" lengthAdjust=\"spacingAndGlyphs\" textLength=\"112\" x=\"1412.5\" y=\"132.1387\">trans: VehiclePart</text><line style=\"stroke: #A80036; stroke-width: 1.0;\" x1=\"1382\" x2=\"1555\" y1=\"139.9688\" y2=\"139.9688\"/></a><!--MD5=[917b9dd0c7eca3ee5f47219d1a84c0ad]\n",
       "cluster E11--><a href=\"psysml:425e038d-47d6-48b2-bd42-a030f1074fc4\" target=\"_top\" title=\"psysml:425e038d-47d6-48b2-bd42-a030f1074fc4\" xlink:actuate=\"onRequest\" xlink:href=\"psysml:425e038d-47d6-48b2-bd42-a030f1074fc4\" xlink:show=\"new\" xlink:title=\"psysml:425e038d-47d6-48b2-bd42-a030f1074fc4\" xlink:type=\"simple\"><rect fill=\"#FFFFFF\" filter=\"url(#f8ylpkojkq25d)\" height=\"349\" id=\"E11\" style=\"stroke: #A80036; stroke-width: 1.5;\" width=\"186\" x=\"775\" y=\"182\"/><rect fill=\"#FEFECE\" height=\"37.9375\" style=\"stroke: #A80036; stroke-width: 1.5;\" width=\"186\" x=\"775\" y=\"182\"/><text fill=\"#000000\" font-family=\"sans-serif\" font-size=\"12\" font-style=\"italic\" lengthAdjust=\"spacingAndGlyphs\" textLength=\"110\" x=\"813\" y=\"198.1387\">«calculation  def»</text><text fill=\"#000000\" font-family=\"sans-serif\" font-size=\"12\" lengthAdjust=\"spacingAndGlyphs\" textLength=\"59\" x=\"838.5\" y=\"212.1074\">MassSum</text></a><!--MD5=[bee11217b2f71d958a27249dc326068c]\n",
       "class E14--><a href=\"psysml:e012d373-591a-4cf2-b53b-d810c6dd562d\" target=\"_top\" title=\"psysml:e012d373-591a-4cf2-b53b-d810c6dd562d\" xlink:actuate=\"onRequest\" xlink:href=\"psysml:e012d373-591a-4cf2-b53b-d810c6dd562d\" xlink:show=\"new\" xlink:title=\"psysml:e012d373-591a-4cf2-b53b-d810c6dd562d\" xlink:type=\"simple\"><rect fill=\"#FEFECE\" filter=\"url(#f8ylpkojkq25d)\" height=\"75.5469\" id=\"E14\" rx=\"10\" ry=\"10\" style=\"stroke: #A80036; stroke-width: 1.5;\" width=\"293\" x=\"465.5\" y=\"144\"/><text fill=\"#000000\" font-family=\"sans-serif\" font-size=\"12\" font-style=\"italic\" lengthAdjust=\"spacingAndGlyphs\" textLength=\"82\" x=\"571\" y=\"160.1387\">«calculation»</text><text fill=\"#000000\" font-family=\"sans-serif\" font-size=\"12\" lengthAdjust=\"spacingAndGlyphs\" textLength=\"85\" x=\"567.5\" y=\"174.1074\">ms: MassSum</text><line style=\"stroke: #A80036; stroke-width: 1.5;\" x1=\"466.5\" x2=\"757.5\" y1=\"181.9375\" y2=\"181.9375\"/><text fill=\"#000000\" font-family=\"sans-serif\" font-size=\"11\" font-weight=\"bold\" lengthAdjust=\"spacingAndGlyphs\" textLength=\"10\" x=\"471.5\" y=\"212.9526\">in</text><text fill=\"#000000\" font-family=\"sans-serif\" font-size=\"11\" lengthAdjust=\"spacingAndGlyphs\" textLength=\"267\" x=\"485.5\" y=\"212.9526\">partMasses= (vehicle.eng.m, vehicle.trans.m);</text><line style=\"stroke: #A80036; stroke-width: 1.0;\" x1=\"466.5\" x2=\"578.5\" y1=\"196.3398\" y2=\"196.3398\"/><text fill=\"#000000\" font-family=\"sans-serif\" font-size=\"11\" lengthAdjust=\"spacingAndGlyphs\" textLength=\"67\" x=\"578.5\" y=\"199.6479\">parameters</text><line style=\"stroke: #A80036; stroke-width: 1.0;\" x1=\"645.5\" x2=\"757.5\" y1=\"196.3398\" y2=\"196.3398\"/></a><!--MD5=[35f0587eaee8d5bb9a02e25b63afc23b]\n",
       "class E16--><a href=\"psysml:03468340-4ee1-4dfd-ba23-9337b31e6caf\" target=\"_top\" title=\"psysml:03468340-4ee1-4dfd-ba23-9337b31e6caf\" xlink:actuate=\"onRequest\" xlink:href=\"psysml:03468340-4ee1-4dfd-ba23-9337b31e6caf\" xlink:show=\"new\" xlink:title=\"psysml:03468340-4ee1-4dfd-ba23-9337b31e6caf\" xlink:type=\"simple\"><rect fill=\"#FEFECE\" filter=\"url(#f8ylpkojkq25d)\" height=\"45.9375\" id=\"E16\" rx=\"10\" ry=\"10\" style=\"stroke: #A80036; stroke-width: 1.5;\" width=\"71\" x=\"359.5\" y=\"159\"/><text fill=\"#000000\" font-family=\"sans-serif\" font-size=\"12\" font-style=\"italic\" lengthAdjust=\"spacingAndGlyphs\" textLength=\"69\" x=\"360.5\" y=\"175.1387\">«attribute»</text><text fill=\"#000000\" font-family=\"sans-serif\" font-size=\"12\" lengthAdjust=\"spacingAndGlyphs\" textLength=\"56\" x=\"365\" y=\"189.1074\">masses1</text><line style=\"stroke: #A80036; stroke-width: 1.5;\" x1=\"360.5\" x2=\"429.5\" y1=\"196.9375\" y2=\"196.9375\"/></a><!--MD5=[60e55a4a9b2f0dc0a36787c5a2095786]\n",
       "class E17--><a href=\"psysml:a35488ce-7eb0-470e-9ecc-f7a0c28bc139\" target=\"_top\" title=\"psysml:a35488ce-7eb0-470e-9ecc-f7a0c28bc139\" xlink:actuate=\"onRequest\" xlink:href=\"psysml:a35488ce-7eb0-470e-9ecc-f7a0c28bc139\" xlink:show=\"new\" xlink:title=\"psysml:a35488ce-7eb0-470e-9ecc-f7a0c28bc139\" xlink:type=\"simple\"><rect fill=\"#FEFECE\" filter=\"url(#f8ylpkojkq25d)\" height=\"45.9375\" id=\"E17\" rx=\"10\" ry=\"10\" style=\"stroke: #A80036; stroke-width: 1.5;\" width=\"71\" x=\"253.5\" y=\"159\"/><text fill=\"#000000\" font-family=\"sans-serif\" font-size=\"12\" font-style=\"italic\" lengthAdjust=\"spacingAndGlyphs\" textLength=\"69\" x=\"254.5\" y=\"175.1387\">«attribute»</text><text fill=\"#000000\" font-family=\"sans-serif\" font-size=\"12\" lengthAdjust=\"spacingAndGlyphs\" textLength=\"56\" x=\"259\" y=\"189.1074\">masses2</text><line style=\"stroke: #A80036; stroke-width: 1.5;\" x1=\"254.5\" x2=\"323.5\" y1=\"196.9375\" y2=\"196.9375\"/></a><!--MD5=[09b614a08d8cba4a07c9adeb5e0fee81]\n",
       "class E3--><a href=\"psysml:3c3f6982-fe48-410d-a073-4745105d0bb1\" target=\"_top\" title=\"psysml:3c3f6982-fe48-410d-a073-4745105d0bb1\" xlink:actuate=\"onRequest\" xlink:href=\"psysml:3c3f6982-fe48-410d-a073-4745105d0bb1\" xlink:show=\"new\" xlink:title=\"psysml:3c3f6982-fe48-410d-a073-4745105d0bb1\" xlink:type=\"simple\"><rect fill=\"#FEFECE\" filter=\"url(#f8ylpkojkq25d)\" height=\"45.9375\" id=\"E3\" rx=\"10\" ry=\"10\" style=\"stroke: #A80036; stroke-width: 1.5;\" width=\"96\" x=\"1212\" y=\"431\"/><text fill=\"#000000\" font-family=\"sans-serif\" font-size=\"12\" font-style=\"italic\" lengthAdjust=\"spacingAndGlyphs\" textLength=\"69\" x=\"1225.5\" y=\"447.1387\">«attribute»</text><text fill=\"#000000\" font-family=\"sans-serif\" font-size=\"12\" lengthAdjust=\"spacingAndGlyphs\" textLength=\"86\" x=\"1215\" y=\"461.1074\">m: MassValue</text><line style=\"stroke: #A80036; stroke-width: 1.5;\" x1=\"1213\" x2=\"1307\" y1=\"468.9375\" y2=\"468.9375\"/></a><g id=\"E1.E4\"><a href=\"psysml:240db56f-6d8c-4faf-8b3c-f8974d12918d\" target=\"_top\" title=\"psysml:240db56f-6d8c-4faf-8b3c-f8974d12918d\" xlink:actuate=\"onRequest\" xlink:href=\"psysml:240db56f-6d8c-4faf-8b3c-f8974d12918d\" xlink:show=\"new\" xlink:title=\"psysml:240db56f-6d8c-4faf-8b3c-f8974d12918d\" xlink:type=\"simple\"><rect fill=\"#FEFECE\" filter=\"url(#f8ylpkojkq25d)\" height=\"42.9375\" id=\"E4\" style=\"stroke: #A80036; stroke-width: 1.5;\" width=\"75\" x=\"1021.5\" y=\"305\"/><text fill=\"#000000\" font-family=\"sans-serif\" font-size=\"12\" font-style=\"italic\" lengthAdjust=\"spacingAndGlyphs\" textLength=\"68\" x=\"1025\" y=\"321.1387\">«part  def»</text><text fill=\"#000000\" font-family=\"sans-serif\" font-size=\"12\" lengthAdjust=\"spacingAndGlyphs\" textLength=\"45\" x=\"1036.5\" y=\"335.1074\">Vehicle</text></a></g><!--MD5=[96f4274e9e20536e775497830990834d]\n",
       "class E10--><a href=\"psysml:3c3f6982-fe48-410d-a073-4745105d0bb1\" target=\"_top\" title=\"psysml:3c3f6982-fe48-410d-a073-4745105d0bb1\" xlink:actuate=\"onRequest\" xlink:href=\"psysml:3c3f6982-fe48-410d-a073-4745105d0bb1\" xlink:show=\"new\" xlink:title=\"psysml:3c3f6982-fe48-410d-a073-4745105d0bb1\" xlink:type=\"simple\"><rect fill=\"#FEFECE\" filter=\"url(#f8ylpkojkq25d)\" height=\"45.9375\" id=\"E10\" rx=\"10\" ry=\"10\" style=\"stroke: #A80036; stroke-width: 1.5;\" width=\"106\" x=\"1036\" y=\"159\"/><text fill=\"#000000\" font-family=\"sans-serif\" font-size=\"12\" font-style=\"italic\" lengthAdjust=\"spacingAndGlyphs\" textLength=\"69\" x=\"1054.5\" y=\"175.1387\">«attribute»</text><text fill=\"#000000\" font-family=\"sans-serif\" font-size=\"12\" lengthAdjust=\"spacingAndGlyphs\" textLength=\"96\" x=\"1039\" y=\"189.1074\">^m: MassValue</text><line style=\"stroke: #A80036; stroke-width: 1.5;\" x1=\"1037\" x2=\"1141\" y1=\"196.9375\" y2=\"196.9375\"/></a><!--MD5=[2156ba9850f5573cc1fc38a6a4b2f02b]\n",
       "class E7--><a href=\"psysml:3c3f6982-fe48-410d-a073-4745105d0bb1\" target=\"_top\" title=\"psysml:3c3f6982-fe48-410d-a073-4745105d0bb1\" xlink:actuate=\"onRequest\" xlink:href=\"psysml:3c3f6982-fe48-410d-a073-4745105d0bb1\" xlink:show=\"new\" xlink:title=\"psysml:3c3f6982-fe48-410d-a073-4745105d0bb1\" xlink:type=\"simple\"><rect fill=\"#FEFECE\" filter=\"url(#f8ylpkojkq25d)\" height=\"45.9375\" id=\"E7\" rx=\"10\" ry=\"10\" style=\"stroke: #A80036; stroke-width: 1.5;\" width=\"106\" x=\"1212\" y=\"159\"/><text fill=\"#000000\" font-family=\"sans-serif\" font-size=\"12\" font-style=\"italic\" lengthAdjust=\"spacingAndGlyphs\" textLength=\"69\" x=\"1230.5\" y=\"175.1387\">«attribute»</text><text fill=\"#000000\" font-family=\"sans-serif\" font-size=\"12\" lengthAdjust=\"spacingAndGlyphs\" textLength=\"96\" x=\"1215\" y=\"189.1074\">^m: MassValue</text><line style=\"stroke: #A80036; stroke-width: 1.5;\" x1=\"1213\" x2=\"1317\" y1=\"196.9375\" y2=\"196.9375\"/></a><!--MD5=[fd4143e9d270a159db93a4ea2a975926]\n",
       "class E9--><a href=\"psysml:3c3f6982-fe48-410d-a073-4745105d0bb1\" target=\"_top\" title=\"psysml:3c3f6982-fe48-410d-a073-4745105d0bb1\" xlink:actuate=\"onRequest\" xlink:href=\"psysml:3c3f6982-fe48-410d-a073-4745105d0bb1\" xlink:show=\"new\" xlink:title=\"psysml:3c3f6982-fe48-410d-a073-4745105d0bb1\" xlink:type=\"simple\"><rect fill=\"#FEFECE\" filter=\"url(#f8ylpkojkq25d)\" height=\"45.9375\" id=\"E9\" rx=\"10\" ry=\"10\" style=\"stroke: #A80036; stroke-width: 1.5;\" width=\"106\" x=\"1425\" y=\"159\"/><text fill=\"#000000\" font-family=\"sans-serif\" font-size=\"12\" font-style=\"italic\" lengthAdjust=\"spacingAndGlyphs\" textLength=\"69\" x=\"1443.5\" y=\"175.1387\">«attribute»</text><text fill=\"#000000\" font-family=\"sans-serif\" font-size=\"12\" lengthAdjust=\"spacingAndGlyphs\" textLength=\"96\" x=\"1428\" y=\"189.1074\">^m: MassValue</text><line style=\"stroke: #A80036; stroke-width: 1.5;\" x1=\"1426\" x2=\"1530\" y1=\"196.9375\" y2=\"196.9375\"/></a><text fill=\"#000000\" font-family=\"sans-serif\" font-size=\"14\" lengthAdjust=\"spacingAndGlyphs\" textLength=\"80\" x=\"828\" y=\"160.6982\">partMasses</text><rect fill=\"#A80036\" height=\"12\" style=\"stroke: #FEFECE; stroke-width: 1.5;\" width=\"12\" x=\"862\" y=\"176\"/><text fill=\"#000000\" font-family=\"sans-serif\" font-size=\"14\" lengthAdjust=\"spacingAndGlyphs\" textLength=\"66\" x=\"835\" y=\"549.9951\">totalMass</text><rect fill=\"#A80036\" height=\"12\" style=\"stroke: #FEFECE; stroke-width: 1.5;\" width=\"12\" x=\"862\" y=\"525\"/><g id=\"E1.E15\"><a href=\"psysml:e4253433-368c-4e86-8a3c-6b186419df89\" target=\"_top\" title=\"psysml:e4253433-368c-4e86-8a3c-6b186419df89\" xlink:actuate=\"onRequest\" xlink:href=\"psysml:e4253433-368c-4e86-8a3c-6b186419df89\" xlink:show=\"new\" xlink:title=\"psysml:e4253433-368c-4e86-8a3c-6b186419df89\" xlink:type=\"simple\"><rect fill=\"#FEFECE\" filter=\"url(#f8ylpkojkq25d)\" height=\"40\" id=\"E15\" rx=\"10\" ry=\"10\" style=\"stroke: #A80036; stroke-width: 1.5;\" width=\"187\" x=\"31.5\" y=\"162\"/><text fill=\"#000000\" font-family=\"sans-serif\" font-size=\"12\" lengthAdjust=\"spacingAndGlyphs\" textLength=\"172\" x=\"37\" y=\"178.1387\">vehicles= (vehicle, vehicle);</text></a></g><!--MD5=[185131fc0dcab0a4505a2ebe144e961b]\n",
       "link E4 to E2--><a href=\"psysml:2113862d-3e36-4f2a-be29-5fbeffc35ef5\" target=\"_top\" title=\"psysml:2113862d-3e36-4f2a-be29-5fbeffc35ef5\" xlink:actuate=\"onRequest\" xlink:href=\"psysml:2113862d-3e36-4f2a-be29-5fbeffc35ef5\" xlink:show=\"new\" xlink:title=\"psysml:2113862d-3e36-4f2a-be29-5fbeffc35ef5\" xlink:type=\"simple\"><path d=\"M1078.49,348.22 C1094.985,365.765 1119.1075,391.4225 1139.3525,412.9563 C1149.475,423.7231 1158.6281,433.4591 1165.3738,440.6345 C1166.217,441.5315 1167.0225,442.3884 1167.7877,443.2023 C1168.1703,443.6093 1168.5428,444.0055 1168.9048,444.3906 \" fill=\"none\" id=\"E4-&gt;E2\" style=\"stroke: #A80036; stroke-width: 1.0;\"/><polygon fill=\"#FFFFFF\" points=\"1168.9048,444.3906,1160.9912,425.7526,1150.7908,435.3417,1168.9048,444.3906\" style=\"stroke: #A80036; stroke-width: 1.0;\"/></a><!--MD5=[2351f337d6de0f557b50152ba70847b5]\n",
       "link E6 to E2--><a href=\"psysml:7cfd1003-3fe0-4a32-a3a1-13a5c8efedf2\" target=\"_top\" title=\"psysml:7cfd1003-3fe0-4a32-a3a1-13a5c8efedf2\" xlink:actuate=\"onRequest\" xlink:href=\"psysml:7cfd1003-3fe0-4a32-a3a1-13a5c8efedf2\" xlink:show=\"new\" xlink:title=\"psysml:7cfd1003-3fe0-4a32-a3a1-13a5c8efedf2\" xlink:type=\"simple\"><path d=\"M1177,229.9775 C1177,230.3824 1177,230.7892 1177,231.1978 C1177,232.8323 1177,234.4962 1177,236.1877 C1177,239.5706 1177,243.0635 1177,246.6507 C1177,253.8252 1177,261.3769 1177,269.1802 C1177,284.7866 1177,301.3991 1177,318.0113 C1177,334.6234 1177,351.2354 1177,366.8409 C1177,367.8163 1177,368.7877 1177,369.7549 C1177,370.2385 1177,370.7211 1177,371.2026 C1177,371.4434 1177,371.6838 1177,371.924 \" fill=\"none\" id=\"E6-&gt;E2\" style=\"stroke: #A80036; stroke-width: 1.0;\"/><polygon fill=\"#FFFFFF\" points=\"1177,371.924,1170,352.924,1184,352.924,1177,371.924\" style=\"stroke: #A80036; stroke-width: 1.0;\"/><ellipse cx=\"1172\" cy=\"347.224\" fill=\"#A80036\" rx=\"2\" ry=\"2\" style=\"stroke: #A80036; stroke-width: 1.0;\"/><ellipse cx=\"1182\" cy=\"347.224\" fill=\"#A80036\" rx=\"2\" ry=\"2\" style=\"stroke: #A80036; stroke-width: 1.0;\"/></a><!--MD5=[f1f3f9f2fc535e6147756cb86a7f2e32]\n",
       "link E8 to E2--><a href=\"psysml:b3767e4f-9e3f-4162-9e5b-3e184cb0e1ab\" target=\"_top\" title=\"psysml:b3767e4f-9e3f-4162-9e5b-3e184cb0e1ab\" xlink:actuate=\"onRequest\" xlink:href=\"psysml:b3767e4f-9e3f-4162-9e5b-3e184cb0e1ab\" xlink:show=\"new\" xlink:title=\"psysml:b3767e4f-9e3f-4162-9e5b-3e184cb0e1ab\" xlink:type=\"simple\"><path d=\"M1381.9641,205.9854 C1381.8551,206.2631 1381.7451,206.5424 1381.6339,206.8235 C1379.8552,211.3212 1377.7947,216.2591 1375.4538,221.4588 C1366.09,242.2575 1352.24,267.245 1334,285 C1284.58,333.11 1237.44,300.86 1196,356 C1192.7525,360.3212 1190.0166,365.0477 1187.7154,370.0141 C1187.4278,370.6349 1187.147,371.2595 1186.8728,371.8874 \" fill=\"none\" id=\"E8-&gt;E2\" style=\"stroke: #A80036; stroke-width: 1.0;\"/><polygon fill=\"#FFFFFF\" points=\"1186.8728,371.8874,1188.0606,351.6739,1200.8908,357.276,1186.8728,371.8874\" style=\"stroke: #A80036; stroke-width: 1.0;\"/><ellipse cx=\"1192.1743\" cy=\"347.2504\" fill=\"#A80036\" rx=\"2\" ry=\"2\" style=\"stroke: #A80036; stroke-width: 1.0;\"/><ellipse cx=\"1201.3388\" cy=\"351.252\" fill=\"#A80036\" rx=\"2\" ry=\"2\" style=\"stroke: #A80036; stroke-width: 1.0;\"/></a><!--MD5=[1c62de2aa5b76f0fb657ff8443a1a700]\n",
       "link E5 to E4--><a href=\"psysml:3f6bcc61-006c-4905-be22-168150e04931\" target=\"_top\" title=\"psysml:3f6bcc61-006c-4905-be22-168150e04931\" xlink:actuate=\"onRequest\" xlink:href=\"psysml:3f6bcc61-006c-4905-be22-168150e04931\" xlink:show=\"new\" xlink:title=\"psysml:3f6bcc61-006c-4905-be22-168150e04931\" xlink:type=\"simple\"><path d=\"M1013.2179,269.1075 C1015.1587,274.6072 1017.4038,279.955 1020,285 C1020.63,286.22 1021.31,287.43 1022.03,288.63 \" fill=\"none\" id=\"E5-&gt;E4\" style=\"stroke: #A80036; stroke-width: 1.0;\"/><polygon fill=\"#FFFFFF\" points=\"1034.52,304.67,1017.3216,293.9828,1028.3661,285.3793,1034.52,304.67\" style=\"stroke: #A80036; stroke-width: 1.0;\"/><ellipse cx=\"1015.3966\" cy=\"288.2571\" fill=\"#A80036\" rx=\"2\" ry=\"2\" style=\"stroke: #A80036; stroke-width: 1.0;\"/><ellipse cx=\"1023.2855\" cy=\"282.1117\" fill=\"#A80036\" rx=\"2\" ry=\"2\" style=\"stroke: #A80036; stroke-width: 1.0;\"/></a><!--MD5=[d00f01b66edb9b3ce8f530f77713355e]\n",
       "link E14 to E11--><a href=\"psysml:650eb0f7-ec08-4309-80b6-1e90e34b9690\" target=\"_top\" title=\"psysml:650eb0f7-ec08-4309-80b6-1e90e34b9690\" xlink:actuate=\"onRequest\" xlink:href=\"psysml:650eb0f7-ec08-4309-80b6-1e90e34b9690\" xlink:show=\"new\" xlink:title=\"psysml:650eb0f7-ec08-4309-80b6-1e90e34b9690\" xlink:type=\"simple\"><path d=\"M662.79,220.16 C692.31,240.8 730.74,266.05 767,285 C769.145,286.1213 771.3283,287.2317 773.5406,288.3297 C773.8172,288.4669 774.0942,288.604 774.3716,288.7408 C774.5103,288.8092 774.6492,288.8776 774.7881,288.9459 C774.8576,288.9801 774.9271,289.0142 774.9966,289.0484 \" fill=\"none\" id=\"E14-&gt;E11\" style=\"stroke: #A80036; stroke-width: 1.0;\"/><polygon fill=\"#FFFFFF\" points=\"774.9966,289.0484,754.8564,286.9572,761.0272,274.3905,774.9966,289.0484\" style=\"stroke: #A80036; stroke-width: 1.0;\"/><ellipse cx=\"750.6215\" cy=\"282.6495\" fill=\"#A80036\" rx=\"2\" ry=\"2\" style=\"stroke: #A80036; stroke-width: 1.0;\"/><ellipse cx=\"755.0292\" cy=\"273.6733\" fill=\"#A80036\" rx=\"2\" ry=\"2\" style=\"stroke: #A80036; stroke-width: 1.0;\"/></a><!--MD5=[9e87f2db714f67b6e787275a1a6981e8]\n",
       "@startuml\r\n",
       "skinparam ranksep 10\r\n",
       "skinparam rectangle {\r\n",
       " backgroundColor<<block>> LightGreen\r\n",
       "}\r\n",
       "skinparam wrapWidth 300\r\n",
       "hide circle\r\n",
       "\r\n",
       "package \"CalculationExample\" as E1  [[psysml:9a950c4d-df47-4bf2-a127-6824d456053c ]]  {\r\n",
       "rec def \"VehiclePart\" as E2  <<(T,blue) part  def>> [[psysml:240f00ab-b9bf-457e-9376-98b0b5e156bb ]] {\r\n",
       "comp usage \"m: MassValue \" as E3  <<(T,blue) attribute>> [[psysml:3c3f6982-fe48-410d-a073-4745105d0bb1 ]] {\r\n",
       "}\r\n",
       "}\r\n",
       "rec def \"Vehicle\" as E4  <<(T,blue) part  def>> [[psysml:240db56f-6d8c-4faf-8b3c-f8974d12918d ]] {\r\n",
       "}\r\n",
       "rec usage \"vehicle: Vehicle\" as E5  [[psysml:ce00e2ad-3315-43f7-b2e6-6ce884a27309 ]] {\r\n",
       "rec usage \"eng: VehiclePart\" as E6  [[psysml:83fc889d-b3c1-4be4-83aa-24728b198254 ]] {\r\n",
       "comp usage \"^m: MassValue \" as E7  <<(T,blue) attribute>> [[psysml:3c3f6982-fe48-410d-a073-4745105d0bb1 ]] {\r\n",
       "}\r\n",
       "}\r\n",
       "rec usage \"trans: VehiclePart\" as E8  [[psysml:9ad03ab5-4ba7-4600-8f6c-f33bd21910a1 ]] {\r\n",
       "comp usage \"^m: MassValue \" as E9  <<(T,blue) attribute>> [[psysml:3c3f6982-fe48-410d-a073-4745105d0bb1 ]] {\r\n",
       "}\r\n",
       "}\r\n",
       "comp usage \"^m: MassValue \" as E10  <<(T,blue) attribute>> [[psysml:3c3f6982-fe48-410d-a073-4745105d0bb1 ]] {\r\n",
       "}\r\n",
       "}\r\n",
       "rec def \"MassSum\" as E11  <<(T,blue) calculation  def>> [[psysml:425e038d-47d6-48b2-bd42-a030f1074fc4 ]] {\r\n",
       "portin \"partMasses\" as E12  [[psysml:b45e328f-a4a8-4519-9228-274640d6e043 ]] \r\n",
       "portout \"totalMass\" as E13  [[psysml:712f9e49-cc72-40cc-a5b0-9958e3b93d47 ]] \r\n",
       "}\r\n",
       "\r\n",
       "comp usage \"ms: MassSum \" as E14  <<(T,blue) calculation>> [[psysml:e012d373-591a-4cf2-b53b-d810c6dd562d ]] {\r\n",
       "- - parameters - -\r\n",
       "<b>in</b> partMasses= (vehicle.eng.m, vehicle.trans.m); \r\n",
       "}\r\n",
       "rec usage \"vehicles= (vehicle, vehicle); \" as E15  [[psysml:e4253433-368c-4e86-8a3c-6b186419df89 ]] {\r\n",
       "}\r\n",
       "comp usage \"masses1 \" as E16  <<(T,blue) attribute>> [[psysml:03468340-4ee1-4dfd-ba23-9337b31e6caf ]] {\r\n",
       "}\r\n",
       "comp usage \"masses2 \" as E17  <<(T,blue) attribute>> [[psysml:a35488ce-7eb0-470e-9ecc-f7a0c28bc139 ]] {\r\n",
       "}\r\n",
       "}\r\n",
       "E4 - -|> E2 [[psysml:2113862d-3e36-4f2a-be29-5fbeffc35ef5 ]] \r\n",
       "E6 - -:|> E2 [[psysml:7cfd1003-3fe0-4a32-a3a1-13a5c8efedf2 ]] \r\n",
       "E8 - -:|> E2 [[psysml:b3767e4f-9e3f-4162-9e5b-3e184cb0e1ab ]] \r\n",
       "E5 - -:|> E4 [[psysml:3f6bcc61-006c-4905-be22-168150e04931 ]] \r\n",
       "E14 - -:|> E11 [[psysml:650eb0f7-ec08-4309-80b6-1e90e34b9690 ]] \r\n",
       "@enduml\r\n",
       "\n",
       "PlantUML version 1.2020.13(Sat Jun 13 12:26:38 UTC 2020)\n",
       "(EPL source distribution)\n",
       "Java Runtime: OpenJDK Runtime Environment\n",
       "JVM: OpenJDK 64-Bit Server VM\n",
       "Default Encoding: UTF-8\n",
       "Language: en\n",
       "Country: null\n",
       "--></g></svg>"
      ]
     },
     "execution_count": 26,
     "metadata": {},
     "output_type": "execute_result"
    }
   ],
   "source": [
    "%viz --style=\"STDCOLOR\" --view=\"Interconnection\" \"CalculationExample\""
   ]
  },
  {
   "cell_type": "code",
   "execution_count": 27,
   "id": "ce47b8d9",
   "metadata": {
    "execution": {
     "iopub.execute_input": "2022-08-19T08:22:02.279995Z",
     "iopub.status.busy": "2022-08-19T08:22:02.279517Z",
     "iopub.status.idle": "2022-08-19T08:22:02.313533Z",
     "shell.execute_reply": "2022-08-19T08:22:02.313094Z"
    }
   },
   "outputs": [
    {
     "data": {
      "image/svg+xml": [
       "<?xml version=\"1.0\" encoding=\"UTF-8\" standalone=\"no\"?><svg xmlns=\"http://www.w3.org/2000/svg\" xmlns:xlink=\"http://www.w3.org/1999/xlink\" contentScriptType=\"application/ecmascript\" contentStyleType=\"text/css\" height=\"162px\" preserveAspectRatio=\"none\" style=\"width:296px;height:162px;\" version=\"1.1\" viewBox=\"0 0 296 162\" width=\"296px\" zoomAndPan=\"magnify\"><defs><filter height=\"300%\" id=\"f6dh6r934hxfc\" width=\"300%\" x=\"-1\" y=\"-1\"><feGaussianBlur result=\"blurOut\" stdDeviation=\"2.0\"/><feColorMatrix in=\"blurOut\" result=\"blurOut2\" type=\"matrix\" values=\"0 0 0 0 0 0 0 0 0 0 0 0 0 0 0 0 0 0 .4 0\"/><feOffset dx=\"4.0\" dy=\"4.0\" in=\"blurOut2\" result=\"blurOut3\"/><feBlend in=\"SourceGraphic\" in2=\"blurOut3\" mode=\"normal\"/></filter></defs><g><!--MD5=[fbc87193dbaf4d95561dea2c320d4a47]\n",
       "cluster E1--><a href=\"psysml:425e038d-47d6-48b2-bd42-a030f1074fc4\" target=\"_top\" title=\"psysml:425e038d-47d6-48b2-bd42-a030f1074fc4\" xlink:actuate=\"onRequest\" xlink:href=\"psysml:425e038d-47d6-48b2-bd42-a030f1074fc4\" xlink:show=\"new\" xlink:title=\"psysml:425e038d-47d6-48b2-bd42-a030f1074fc4\" xlink:type=\"simple\"><rect fill=\"#FFFFFF\" filter=\"url(#f6dh6r934hxfc)\" height=\"87.72\" id=\"E1\" style=\"stroke: #A80036; stroke-width: 1.5;\" width=\"131\" x=\"21\" y=\"42.0986\"/><rect fill=\"#FEFECE\" height=\"37.9375\" style=\"stroke: #A80036; stroke-width: 1.5;\" width=\"131\" x=\"21\" y=\"42.0986\"/><text fill=\"#000000\" font-family=\"sans-serif\" font-size=\"12\" font-style=\"italic\" lengthAdjust=\"spacingAndGlyphs\" textLength=\"110\" x=\"31.5\" y=\"58.2373\">«calculation  def»</text><text fill=\"#000000\" font-family=\"sans-serif\" font-size=\"12\" lengthAdjust=\"spacingAndGlyphs\" textLength=\"59\" x=\"57\" y=\"72.2061\">MassSum</text></a><!--MD5=[f6df4d0ebaf0b5dfb2ced0ae5af7c670]\n",
       "cluster E4--><a href=\"psysml:e012d373-591a-4cf2-b53b-d810c6dd562d\" target=\"_top\" title=\"psysml:e012d373-591a-4cf2-b53b-d810c6dd562d\" xlink:actuate=\"onRequest\" xlink:href=\"psysml:e012d373-591a-4cf2-b53b-d810c6dd562d\" xlink:show=\"new\" xlink:title=\"psysml:e012d373-591a-4cf2-b53b-d810c6dd562d\" xlink:type=\"simple\"><rect fill=\"#FFFFFF\" filter=\"url(#f6dh6r934hxfc)\" height=\"87.72\" id=\"E4\" rx=\"10\" ry=\"10\" style=\"stroke: #A80036; stroke-width: 1.5;\" width=\"138\" x=\"139\" y=\"42.0986\"/><rect fill=\"#FEFECE\" height=\"37.9375\" rx=\"10\" ry=\"10\" style=\"stroke: #FEFECE; stroke-width: 1.5;\" width=\"138\" x=\"139\" y=\"42.0986\"/><rect fill=\"#FEFECE\" height=\"10\" style=\"stroke: #FEFECE; stroke-width: 1.5;\" width=\"138\" x=\"139\" y=\"70.0361\"/><rect fill=\"none\" height=\"87.72\" id=\"E4\" rx=\"10\" ry=\"10\" style=\"stroke: #A80036; stroke-width: 1.5;\" width=\"138\" x=\"139\" y=\"42.0986\"/><text fill=\"#000000\" font-family=\"sans-serif\" font-size=\"12\" font-style=\"italic\" lengthAdjust=\"spacingAndGlyphs\" textLength=\"82\" x=\"167\" y=\"58.2373\">«calculation»</text><text fill=\"#000000\" font-family=\"sans-serif\" font-size=\"12\" lengthAdjust=\"spacingAndGlyphs\" textLength=\"18\" x=\"199\" y=\"72.2061\">ms</text><line style=\"stroke: #A80036; stroke-width: 1.0;\" x1=\"139\" x2=\"277\" y1=\"80.0361\" y2=\"80.0361\"/></a><text fill=\"#000000\" font-family=\"sans-serif\" font-size=\"14\" lengthAdjust=\"spacingAndGlyphs\" textLength=\"80\" x=\"6\" y=\"20.7969\">partMasses</text><rect fill=\"#A80036\" height=\"12\" style=\"stroke: #FEFECE; stroke-width: 1.5;\" width=\"12\" x=\"40\" y=\"36.0986\"/><text fill=\"#000000\" font-family=\"sans-serif\" font-size=\"14\" lengthAdjust=\"spacingAndGlyphs\" textLength=\"66\" x=\"9\" y=\"148.8138\">totalMass</text><rect fill=\"#A80036\" height=\"12\" style=\"stroke: #FEFECE; stroke-width: 1.5;\" width=\"12\" x=\"36\" y=\"123.8186\"/><text fill=\"#000000\" font-family=\"sans-serif\" font-size=\"14\" lengthAdjust=\"spacingAndGlyphs\" textLength=\"80\" x=\"168\" y=\"20.7969\">partMasses</text><rect fill=\"#A80036\" height=\"12\" style=\"stroke: #FEFECE; stroke-width: 1.5;\" width=\"12\" x=\"202\" y=\"36.0986\"/><text fill=\"#000000\" font-family=\"sans-serif\" font-size=\"14\" lengthAdjust=\"spacingAndGlyphs\" textLength=\"66\" x=\"175\" y=\"148.8138\">totalMass</text><rect fill=\"#A80036\" height=\"12\" style=\"stroke: #FEFECE; stroke-width: 1.5;\" width=\"12\" x=\"202\" y=\"123.8186\"/><!--MD5=[16ce8f8b0187fd410056c50dd2d3230d]\n",
       "@startuml\r\n",
       "skinparam ranksep 8\r\n",
       "skinparam wrapWidth 300\r\n",
       "hide circle\r\n",
       "\r\n",
       "rec def \"MassSum\" as E1  <<(T,blue) calculation  def>> [[psysml:425e038d-47d6-48b2-bd42-a030f1074fc4 ]] {\r\n",
       "portin \"partMasses\" as E2  [[psysml:b45e328f-a4a8-4519-9228-274640d6e043 ]] \r\n",
       "portout \"totalMass\" as E3  [[psysml:712f9e49-cc72-40cc-a5b0-9958e3b93d47 ]] \r\n",
       "}\r\n",
       "\r\n",
       "rec usage \"ms\" as E4  <<(T,blue) calculation>> [[psysml:e012d373-591a-4cf2-b53b-d810c6dd562d ]] {\r\n",
       "portin \"partMasses\" as E5  [[psysml:424ec83f-37c8-4393-891d-04f2e8383abc ]] \r\n",
       "portout \"totalMass\" as E6  [[psysml:be56ca6e-4eba-4c60-ba38-91b20c3832b5 ]] \r\n",
       "}\r\n",
       "\r\n",
       "@enduml\r\n",
       "\n",
       "PlantUML version 1.2020.13(Sat Jun 13 12:26:38 UTC 2020)\n",
       "(EPL source distribution)\n",
       "Java Runtime: OpenJDK Runtime Environment\n",
       "JVM: OpenJDK 64-Bit Server VM\n",
       "Default Encoding: UTF-8\n",
       "Language: en\n",
       "Country: null\n",
       "--></g></svg>"
      ]
     },
     "execution_count": 27,
     "metadata": {},
     "output_type": "execute_result"
    }
   ],
   "source": [
    "%viz --style=\"STDCOLOR\" --view=\"Action\" \"CalculationExample\""
   ]
  },
  {
   "cell_type": "code",
   "execution_count": 28,
   "id": "8163a235",
   "metadata": {
    "execution": {
     "iopub.execute_input": "2022-08-19T08:22:02.363314Z",
     "iopub.status.busy": "2022-08-19T08:22:02.362868Z",
     "iopub.status.idle": "2022-08-19T08:22:02.377074Z",
     "shell.execute_reply": "2022-08-19T08:22:02.376684Z"
    }
   },
   "outputs": [
    {
     "data": {
      "image/svg+xml": [
       "<?xml version=\"1.0\" encoding=\"UTF-8\" standalone=\"no\"?><svg xmlns=\"http://www.w3.org/2000/svg\" xmlns:xlink=\"http://www.w3.org/1999/xlink\" contentScriptType=\"application/ecmascript\" contentStyleType=\"text/css\" height=\"12px\" preserveAspectRatio=\"none\" style=\"width:12px;height:12px;\" version=\"1.1\" viewBox=\"0 0 12 12\" width=\"12px\" zoomAndPan=\"magnify\"><defs/><g><!--MD5=[6c4bca67b4d71758159a5a7f1f1e1fc2]\n",
       "@startuml\r\n",
       "skinparam roundcorner 20\r\n",
       "skinparam BoxPadding 20\r\n",
       "skinparam SequenceBoxBackgroundColor #white\r\n",
       "skinparam style strictuml\r\n",
       "skinparam maxMessageSize 100\r\n",
       "skinparam wrapWidth 300\r\n",
       "hide circle\r\n",
       "\r\n",
       "@enduml\r\n",
       "\n",
       "PlantUML version 1.2020.13(Sat Jun 13 12:26:38 UTC 2020)\n",
       "(EPL source distribution)\n",
       "Java Runtime: OpenJDK Runtime Environment\n",
       "JVM: OpenJDK 64-Bit Server VM\n",
       "Default Encoding: UTF-8\n",
       "Language: en\n",
       "Country: null\n",
       "--></g></svg>"
      ]
     },
     "execution_count": 28,
     "metadata": {},
     "output_type": "execute_result"
    }
   ],
   "source": [
    "%viz --style=\"STDCOLOR\" --view=\"Sequence\" \"CalculationExample\""
   ]
  },
  {
   "cell_type": "code",
   "execution_count": 29,
   "id": "2128e1ce",
   "metadata": {
    "execution": {
     "iopub.execute_input": "2022-08-19T08:22:02.427006Z",
     "iopub.status.busy": "2022-08-19T08:22:02.426561Z",
     "iopub.status.idle": "2022-08-19T08:22:02.537368Z",
     "shell.execute_reply": "2022-08-19T08:22:02.535750Z"
    }
   },
   "outputs": [
    {
     "data": {
      "image/svg+xml": [
       "<?xml version=\"1.0\" encoding=\"UTF-8\" standalone=\"no\"?><svg xmlns=\"http://www.w3.org/2000/svg\" xmlns:xlink=\"http://www.w3.org/1999/xlink\" contentScriptType=\"application/ecmascript\" contentStyleType=\"text/css\" height=\"505px\" preserveAspectRatio=\"none\" style=\"width:1266px;height:505px;\" version=\"1.1\" viewBox=\"0 0 1266 505\" width=\"1266px\" zoomAndPan=\"magnify\"><defs><filter height=\"300%\" id=\"f1aqf9aeigx3n1\" width=\"300%\" x=\"-1\" y=\"-1\"><feGaussianBlur result=\"blurOut\" stdDeviation=\"2.0\"/><feColorMatrix in=\"blurOut\" result=\"blurOut2\" type=\"matrix\" values=\"0 0 0 0 0 0 0 0 0 0 0 0 0 0 0 0 0 0 .4 0\"/><feOffset dx=\"4.0\" dy=\"4.0\" in=\"blurOut2\" result=\"blurOut3\"/><feBlend in=\"SourceGraphic\" in2=\"blurOut3\" mode=\"normal\"/></filter></defs><g><!--MD5=[fbc87193dbaf4d95561dea2c320d4a47]\n",
       "cluster E1--><a href=\"psysml:9a950c4d-df47-4bf2-a127-6824d456053c\" target=\"_top\" title=\"psysml:9a950c4d-df47-4bf2-a127-6824d456053c\" xlink:actuate=\"onRequest\" xlink:href=\"psysml:9a950c4d-df47-4bf2-a127-6824d456053c\" xlink:show=\"new\" xlink:title=\"psysml:9a950c4d-df47-4bf2-a127-6824d456053c\" xlink:type=\"simple\"><polygon fill=\"#FFFFFF\" filter=\"url(#f1aqf9aeigx3n1)\" points=\"16,6,155,6,162,28.2969,1244,28.2969,1244,493,16,493,16,6\" style=\"stroke: #000000; stroke-width: 1.5;\"/><line style=\"stroke: #000000; stroke-width: 1.5;\" x1=\"16\" x2=\"162\" y1=\"28.2969\" y2=\"28.2969\"/><text fill=\"#000000\" font-family=\"sans-serif\" font-size=\"14\" font-weight=\"bold\" lengthAdjust=\"spacingAndGlyphs\" textLength=\"133\" x=\"20\" y=\"20.9951\">CalculationExample</text></a><!--MD5=[168fadf3d0c3fd93dd5d6da1b1d7ab76]\n",
       "cluster E7--><a href=\"psysml:425e038d-47d6-48b2-bd42-a030f1074fc4\" target=\"_top\" title=\"psysml:425e038d-47d6-48b2-bd42-a030f1074fc4\" xlink:actuate=\"onRequest\" xlink:href=\"psysml:425e038d-47d6-48b2-bd42-a030f1074fc4\" xlink:show=\"new\" xlink:title=\"psysml:425e038d-47d6-48b2-bd42-a030f1074fc4\" xlink:type=\"simple\"><rect fill=\"#FFFFFF\" filter=\"url(#f1aqf9aeigx3n1)\" height=\"376\" id=\"E7\" style=\"stroke: #A80036; stroke-width: 1.5;\" width=\"186\" x=\"650\" y=\"79\"/><rect fill=\"#FEFECE\" height=\"37.9375\" style=\"stroke: #A80036; stroke-width: 1.5;\" width=\"186\" x=\"650\" y=\"79\"/><text fill=\"#000000\" font-family=\"sans-serif\" font-size=\"12\" font-style=\"italic\" lengthAdjust=\"spacingAndGlyphs\" textLength=\"110\" x=\"688\" y=\"95.1387\">«calculation  def»</text><text fill=\"#000000\" font-family=\"sans-serif\" font-size=\"12\" lengthAdjust=\"spacingAndGlyphs\" textLength=\"59\" x=\"713.5\" y=\"109.1074\">MassSum</text></a><!--MD5=[b4997ac47864f28c2f74865a473b2911]\n",
       "class E2--><a href=\"psysml:240f00ab-b9bf-457e-9376-98b0b5e156bb\" target=\"_top\" title=\"psysml:240f00ab-b9bf-457e-9376-98b0b5e156bb\" xlink:actuate=\"onRequest\" xlink:href=\"psysml:240f00ab-b9bf-457e-9376-98b0b5e156bb\" xlink:show=\"new\" xlink:title=\"psysml:240f00ab-b9bf-457e-9376-98b0b5e156bb\" xlink:type=\"simple\"><rect fill=\"#FEFECE\" filter=\"url(#f1aqf9aeigx3n1)\" height=\"75.5469\" id=\"E2\" style=\"stroke: #A80036; stroke-width: 1.5;\" width=\"92\" x=\"968\" y=\"313\"/><text fill=\"#000000\" font-family=\"sans-serif\" font-size=\"12\" font-style=\"italic\" lengthAdjust=\"spacingAndGlyphs\" textLength=\"68\" x=\"980\" y=\"329.1387\">«part  def»</text><text fill=\"#000000\" font-family=\"sans-serif\" font-size=\"12\" lengthAdjust=\"spacingAndGlyphs\" textLength=\"71\" x=\"978.5\" y=\"343.1074\">VehiclePart</text><line style=\"stroke: #A80036; stroke-width: 1.5;\" x1=\"969\" x2=\"1059\" y1=\"350.9375\" y2=\"350.9375\"/><text fill=\"#000000\" font-family=\"sans-serif\" font-size=\"11\" lengthAdjust=\"spacingAndGlyphs\" textLength=\"80\" x=\"974\" y=\"381.9526\">m: MassValue</text><line style=\"stroke: #A80036; stroke-width: 1.0;\" x1=\"969\" x2=\"986.5\" y1=\"365.3398\" y2=\"365.3398\"/><text fill=\"#000000\" font-family=\"sans-serif\" font-size=\"11\" lengthAdjust=\"spacingAndGlyphs\" textLength=\"55\" x=\"986.5\" y=\"368.6479\">attributes</text><line style=\"stroke: #A80036; stroke-width: 1.0;\" x1=\"1041.5\" x2=\"1059\" y1=\"365.3398\" y2=\"365.3398\"/></a><!--MD5=[09b614a08d8cba4a07c9adeb5e0fee81]\n",
       "class E3--><a href=\"psysml:240db56f-6d8c-4faf-8b3c-f8974d12918d\" target=\"_top\" title=\"psysml:240db56f-6d8c-4faf-8b3c-f8974d12918d\" xlink:actuate=\"onRequest\" xlink:href=\"psysml:240db56f-6d8c-4faf-8b3c-f8974d12918d\" xlink:show=\"new\" xlink:title=\"psysml:240db56f-6d8c-4faf-8b3c-f8974d12918d\" xlink:type=\"simple\"><rect fill=\"#FEFECE\" filter=\"url(#f1aqf9aeigx3n1)\" height=\"45.9375\" id=\"E3\" style=\"stroke: #A80036; stroke-width: 1.5;\" width=\"70\" x=\"852\" y=\"192\"/><text fill=\"#000000\" font-family=\"sans-serif\" font-size=\"12\" font-style=\"italic\" lengthAdjust=\"spacingAndGlyphs\" textLength=\"68\" x=\"853\" y=\"208.1387\">«part  def»</text><text fill=\"#000000\" font-family=\"sans-serif\" font-size=\"12\" lengthAdjust=\"spacingAndGlyphs\" textLength=\"45\" x=\"864.5\" y=\"222.1074\">Vehicle</text><line style=\"stroke: #A80036; stroke-width: 1.5;\" x1=\"853\" x2=\"921\" y1=\"229.9375\" y2=\"229.9375\"/></a><!--MD5=[ebbe1d658d1005bcc118a6aa81145e00]\n",
       "class E4--><a href=\"psysml:ce00e2ad-3315-43f7-b2e6-6ce884a27309\" target=\"_top\" title=\"psysml:ce00e2ad-3315-43f7-b2e6-6ce884a27309\" xlink:actuate=\"onRequest\" xlink:href=\"psysml:ce00e2ad-3315-43f7-b2e6-6ce884a27309\" xlink:show=\"new\" xlink:title=\"psysml:ce00e2ad-3315-43f7-b2e6-6ce884a27309\" xlink:type=\"simple\"><rect fill=\"#FEFECE\" filter=\"url(#f1aqf9aeigx3n1)\" height=\"75.5469\" id=\"E4\" rx=\"10\" ry=\"10\" style=\"stroke: #A80036; stroke-width: 1.5;\" width=\"106\" x=\"961\" y=\"41\"/><text fill=\"#000000\" font-family=\"sans-serif\" font-size=\"12\" font-style=\"italic\" lengthAdjust=\"spacingAndGlyphs\" textLength=\"40\" x=\"994\" y=\"57.1387\">«part»</text><text fill=\"#000000\" font-family=\"sans-serif\" font-size=\"12\" lengthAdjust=\"spacingAndGlyphs\" textLength=\"96\" x=\"964\" y=\"71.1074\">vehicle: Vehicle</text><line style=\"stroke: #A80036; stroke-width: 1.5;\" x1=\"962\" x2=\"1066\" y1=\"78.9375\" y2=\"78.9375\"/><text fill=\"#000000\" font-family=\"sans-serif\" font-size=\"11\" lengthAdjust=\"spacingAndGlyphs\" textLength=\"89\" x=\"967\" y=\"109.9526\">^m: MassValue</text><line style=\"stroke: #A80036; stroke-width: 1.0;\" x1=\"962\" x2=\"986.5\" y1=\"93.3398\" y2=\"93.3398\"/><text fill=\"#000000\" font-family=\"sans-serif\" font-size=\"11\" lengthAdjust=\"spacingAndGlyphs\" textLength=\"55\" x=\"986.5\" y=\"96.6479\">attributes</text><line style=\"stroke: #A80036; stroke-width: 1.0;\" x1=\"1041.5\" x2=\"1066\" y1=\"93.3398\" y2=\"93.3398\"/></a><!--MD5=[270fce915f116d4de14055a7c1d9a0f3]\n",
       "class E5--><a href=\"psysml:83fc889d-b3c1-4be4-83aa-24728b198254\" target=\"_top\" title=\"psysml:83fc889d-b3c1-4be4-83aa-24728b198254\" xlink:actuate=\"onRequest\" xlink:href=\"psysml:83fc889d-b3c1-4be4-83aa-24728b198254\" xlink:show=\"new\" xlink:title=\"psysml:83fc889d-b3c1-4be4-83aa-24728b198254\" xlink:type=\"simple\"><rect fill=\"#FEFECE\" filter=\"url(#f1aqf9aeigx3n1)\" height=\"75.5469\" id=\"E5\" rx=\"10\" ry=\"10\" style=\"stroke: #A80036; stroke-width: 1.5;\" width=\"113\" x=\"957.5\" y=\"177\"/><text fill=\"#000000\" font-family=\"sans-serif\" font-size=\"12\" font-style=\"italic\" lengthAdjust=\"spacingAndGlyphs\" textLength=\"40\" x=\"994\" y=\"193.1387\">«part»</text><text fill=\"#000000\" font-family=\"sans-serif\" font-size=\"12\" lengthAdjust=\"spacingAndGlyphs\" textLength=\"103\" x=\"960.5\" y=\"207.1074\">eng: VehiclePart</text><line style=\"stroke: #A80036; stroke-width: 1.5;\" x1=\"958.5\" x2=\"1069.5\" y1=\"214.9375\" y2=\"214.9375\"/><text fill=\"#000000\" font-family=\"sans-serif\" font-size=\"11\" lengthAdjust=\"spacingAndGlyphs\" textLength=\"89\" x=\"963.5\" y=\"245.9526\">^m: MassValue</text><line style=\"stroke: #A80036; stroke-width: 1.0;\" x1=\"958.5\" x2=\"986.5\" y1=\"229.3398\" y2=\"229.3398\"/><text fill=\"#000000\" font-family=\"sans-serif\" font-size=\"11\" lengthAdjust=\"spacingAndGlyphs\" textLength=\"55\" x=\"986.5\" y=\"232.6479\">attributes</text><line style=\"stroke: #A80036; stroke-width: 1.0;\" x1=\"1041.5\" x2=\"1069.5\" y1=\"229.3398\" y2=\"229.3398\"/></a><!--MD5=[60a26617385b1d2d0262a64233df1f8d]\n",
       "class E6--><a href=\"psysml:9ad03ab5-4ba7-4600-8f6c-f33bd21910a1\" target=\"_top\" title=\"psysml:9ad03ab5-4ba7-4600-8f6c-f33bd21910a1\" xlink:actuate=\"onRequest\" xlink:href=\"psysml:9ad03ab5-4ba7-4600-8f6c-f33bd21910a1\" xlink:show=\"new\" xlink:title=\"psysml:9ad03ab5-4ba7-4600-8f6c-f33bd21910a1\" xlink:type=\"simple\"><rect fill=\"#FEFECE\" filter=\"url(#f1aqf9aeigx3n1)\" height=\"75.5469\" id=\"E6\" rx=\"10\" ry=\"10\" style=\"stroke: #A80036; stroke-width: 1.5;\" width=\"122\" x=\"1106\" y=\"177\"/><text fill=\"#000000\" font-family=\"sans-serif\" font-size=\"12\" font-style=\"italic\" lengthAdjust=\"spacingAndGlyphs\" textLength=\"40\" x=\"1147\" y=\"193.1387\">«part»</text><text fill=\"#000000\" font-family=\"sans-serif\" font-size=\"12\" lengthAdjust=\"spacingAndGlyphs\" textLength=\"112\" x=\"1109\" y=\"207.1074\">trans: VehiclePart</text><line style=\"stroke: #A80036; stroke-width: 1.5;\" x1=\"1107\" x2=\"1227\" y1=\"214.9375\" y2=\"214.9375\"/><text fill=\"#000000\" font-family=\"sans-serif\" font-size=\"11\" lengthAdjust=\"spacingAndGlyphs\" textLength=\"89\" x=\"1112\" y=\"245.9526\">^m: MassValue</text><line style=\"stroke: #A80036; stroke-width: 1.0;\" x1=\"1107\" x2=\"1139.5\" y1=\"229.3398\" y2=\"229.3398\"/><text fill=\"#000000\" font-family=\"sans-serif\" font-size=\"11\" lengthAdjust=\"spacingAndGlyphs\" textLength=\"55\" x=\"1139.5\" y=\"232.6479\">attributes</text><line style=\"stroke: #A80036; stroke-width: 1.0;\" x1=\"1194.5\" x2=\"1227\" y1=\"229.3398\" y2=\"229.3398\"/></a><!--MD5=[96f4274e9e20536e775497830990834d]\n",
       "class E10--><a href=\"psysml:e012d373-591a-4cf2-b53b-d810c6dd562d\" target=\"_top\" title=\"psysml:e012d373-591a-4cf2-b53b-d810c6dd562d\" xlink:actuate=\"onRequest\" xlink:href=\"psysml:e012d373-591a-4cf2-b53b-d810c6dd562d\" xlink:show=\"new\" xlink:title=\"psysml:e012d373-591a-4cf2-b53b-d810c6dd562d\" xlink:type=\"simple\"><rect fill=\"#FEFECE\" filter=\"url(#f1aqf9aeigx3n1)\" height=\"75.5469\" id=\"E10\" rx=\"10\" ry=\"10\" style=\"stroke: #A80036; stroke-width: 1.5;\" width=\"293\" x=\"340.5\" y=\"41\"/><text fill=\"#000000\" font-family=\"sans-serif\" font-size=\"12\" font-style=\"italic\" lengthAdjust=\"spacingAndGlyphs\" textLength=\"82\" x=\"446\" y=\"57.1387\">«calculation»</text><text fill=\"#000000\" font-family=\"sans-serif\" font-size=\"12\" lengthAdjust=\"spacingAndGlyphs\" textLength=\"85\" x=\"442.5\" y=\"71.1074\">ms: MassSum</text><line style=\"stroke: #A80036; stroke-width: 1.5;\" x1=\"341.5\" x2=\"632.5\" y1=\"78.9375\" y2=\"78.9375\"/><text fill=\"#000000\" font-family=\"sans-serif\" font-size=\"11\" font-weight=\"bold\" lengthAdjust=\"spacingAndGlyphs\" textLength=\"10\" x=\"346.5\" y=\"109.9526\">in</text><text fill=\"#000000\" font-family=\"sans-serif\" font-size=\"11\" lengthAdjust=\"spacingAndGlyphs\" textLength=\"267\" x=\"360.5\" y=\"109.9526\">partMasses= (vehicle.eng.m, vehicle.trans.m);</text><line style=\"stroke: #A80036; stroke-width: 1.0;\" x1=\"341.5\" x2=\"453.5\" y1=\"93.3398\" y2=\"93.3398\"/><text fill=\"#000000\" font-family=\"sans-serif\" font-size=\"11\" lengthAdjust=\"spacingAndGlyphs\" textLength=\"67\" x=\"453.5\" y=\"96.6479\">parameters</text><line style=\"stroke: #A80036; stroke-width: 1.0;\" x1=\"520.5\" x2=\"632.5\" y1=\"93.3398\" y2=\"93.3398\"/></a><!--MD5=[1dd1bfd58a279cf63c5f349dbc8fc6a1]\n",
       "class E11--><a href=\"psysml:e4253433-368c-4e86-8a3c-6b186419df89\" target=\"_top\" title=\"psysml:e4253433-368c-4e86-8a3c-6b186419df89\" xlink:actuate=\"onRequest\" xlink:href=\"psysml:e4253433-368c-4e86-8a3c-6b186419df89\" xlink:show=\"new\" xlink:title=\"psysml:e4253433-368c-4e86-8a3c-6b186419df89\" xlink:type=\"simple\"><rect fill=\"#FEFECE\" filter=\"url(#f1aqf9aeigx3n1)\" height=\"45.9375\" id=\"E11\" rx=\"10\" ry=\"10\" style=\"stroke: #A80036; stroke-width: 1.5;\" width=\"60\" x=\"245\" y=\"56\"/><text fill=\"#000000\" font-family=\"sans-serif\" font-size=\"12\" font-style=\"italic\" lengthAdjust=\"spacingAndGlyphs\" textLength=\"40\" x=\"255\" y=\"72.1387\">«part»</text><text fill=\"#000000\" font-family=\"sans-serif\" font-size=\"12\" lengthAdjust=\"spacingAndGlyphs\" textLength=\"50\" x=\"248\" y=\"86.1074\">vehicles</text><line style=\"stroke: #A80036; stroke-width: 1.5;\" x1=\"246\" x2=\"304\" y1=\"93.9375\" y2=\"93.9375\"/></a><!--MD5=[49a0ec8f00dab7302a31f22d0f0fe584]\n",
       "class E12--><a href=\"psysml:03468340-4ee1-4dfd-ba23-9337b31e6caf\" target=\"_top\" title=\"psysml:03468340-4ee1-4dfd-ba23-9337b31e6caf\" xlink:actuate=\"onRequest\" xlink:href=\"psysml:03468340-4ee1-4dfd-ba23-9337b31e6caf\" xlink:show=\"new\" xlink:title=\"psysml:03468340-4ee1-4dfd-ba23-9337b31e6caf\" xlink:type=\"simple\"><rect fill=\"#FEFECE\" filter=\"url(#f1aqf9aeigx3n1)\" height=\"45.9375\" id=\"E12\" rx=\"10\" ry=\"10\" style=\"stroke: #A80036; stroke-width: 1.5;\" width=\"71\" x=\"138.5\" y=\"56\"/><text fill=\"#000000\" font-family=\"sans-serif\" font-size=\"12\" font-style=\"italic\" lengthAdjust=\"spacingAndGlyphs\" textLength=\"69\" x=\"139.5\" y=\"72.1387\">«attribute»</text><text fill=\"#000000\" font-family=\"sans-serif\" font-size=\"12\" lengthAdjust=\"spacingAndGlyphs\" textLength=\"56\" x=\"144\" y=\"86.1074\">masses1</text><line style=\"stroke: #A80036; stroke-width: 1.5;\" x1=\"139.5\" x2=\"208.5\" y1=\"93.9375\" y2=\"93.9375\"/></a><!--MD5=[ee3c913d1a06f366521f9ef512b67efe]\n",
       "class E13--><a href=\"psysml:a35488ce-7eb0-470e-9ecc-f7a0c28bc139\" target=\"_top\" title=\"psysml:a35488ce-7eb0-470e-9ecc-f7a0c28bc139\" xlink:actuate=\"onRequest\" xlink:href=\"psysml:a35488ce-7eb0-470e-9ecc-f7a0c28bc139\" xlink:show=\"new\" xlink:title=\"psysml:a35488ce-7eb0-470e-9ecc-f7a0c28bc139\" xlink:type=\"simple\"><rect fill=\"#FEFECE\" filter=\"url(#f1aqf9aeigx3n1)\" height=\"45.9375\" id=\"E13\" rx=\"10\" ry=\"10\" style=\"stroke: #A80036; stroke-width: 1.5;\" width=\"71\" x=\"32.5\" y=\"56\"/><text fill=\"#000000\" font-family=\"sans-serif\" font-size=\"12\" font-style=\"italic\" lengthAdjust=\"spacingAndGlyphs\" textLength=\"69\" x=\"33.5\" y=\"72.1387\">«attribute»</text><text fill=\"#000000\" font-family=\"sans-serif\" font-size=\"12\" lengthAdjust=\"spacingAndGlyphs\" textLength=\"56\" x=\"38\" y=\"86.1074\">masses2</text><line style=\"stroke: #A80036; stroke-width: 1.5;\" x1=\"33.5\" x2=\"102.5\" y1=\"93.9375\" y2=\"93.9375\"/></a><text fill=\"#000000\" font-family=\"sans-serif\" font-size=\"14\" lengthAdjust=\"spacingAndGlyphs\" textLength=\"80\" x=\"703\" y=\"57.6982\">partMasses</text><rect fill=\"#A80036\" height=\"12\" style=\"stroke: #FEFECE; stroke-width: 1.5;\" width=\"12\" x=\"737\" y=\"73\"/><text fill=\"#000000\" font-family=\"sans-serif\" font-size=\"14\" lengthAdjust=\"spacingAndGlyphs\" textLength=\"66\" x=\"710\" y=\"473.9951\">totalMass</text><rect fill=\"#A80036\" height=\"12\" style=\"stroke: #FEFECE; stroke-width: 1.5;\" width=\"12\" x=\"737\" y=\"449\"/><!--MD5=[05d275557350bfb9b23a4ef7222b4c39]\n",
       "link E3 to E2--><a href=\"psysml:2113862d-3e36-4f2a-be29-5fbeffc35ef5\" target=\"_top\" title=\"psysml:2113862d-3e36-4f2a-be29-5fbeffc35ef5\" xlink:actuate=\"onRequest\" xlink:href=\"psysml:2113862d-3e36-4f2a-be29-5fbeffc35ef5\" xlink:show=\"new\" xlink:title=\"psysml:2113862d-3e36-4f2a-be29-5fbeffc35ef5\" xlink:type=\"simple\"><path d=\"M907.97,238.13 C923.45,254.46 945.16,277.37 964.91,298.21 \" fill=\"none\" id=\"E3-&gt;E2\" style=\"stroke: #A80036; stroke-width: 1.0;\"/><polygon fill=\"none\" points=\"970.15,293.56,978.83,312.89,959.99,303.19,970.15,293.56\" style=\"stroke: #A80036; stroke-width: 1.0;\"/></a><!--MD5=[f0cdf4548168e5211fb3a02bf679d63a]\n",
       "link E4 to E3--><a href=\"psysml:3f6bcc61-006c-4905-be22-168150e04931\" target=\"_top\" title=\"psysml:3f6bcc61-006c-4905-be22-168150e04931\" xlink:actuate=\"onRequest\" xlink:href=\"psysml:3f6bcc61-006c-4905-be22-168150e04931\" xlink:show=\"new\" xlink:title=\"psysml:3f6bcc61-006c-4905-be22-168150e04931\" xlink:type=\"simple\"><path d=\"M978.62,117.33 C960.85,136.08 939.39,158.72 921.71,177.38 \" fill=\"none\" id=\"E4-&gt;E3\" style=\"stroke: #A80036; stroke-width: 1.0;\"/><polygon fill=\"#FFFFFF\" points=\"907.91,191.94,915.8909,173.3307,926.0566,182.9567,907.91,191.94\" style=\"stroke: #A80036; stroke-width: 1.0;\"/><ellipse cx=\"921.2623\" cy=\"170.567\" fill=\"#A80036\" rx=\"2\" ry=\"2\" style=\"stroke: #A80036; stroke-width: 1.0;\"/><ellipse cx=\"928.5235\" cy=\"177.4426\" fill=\"#A80036\" rx=\"2\" ry=\"2\" style=\"stroke: #A80036; stroke-width: 1.0;\"/></a><!--MD5=[62aa6af11e70f752912c1cb0466f24f7]\n",
       "reverse link E4 to E5--><a href=\"psysml:dfe553ed-92b1-45a3-82b1-c875cfb3cf56\" target=\"_top\" title=\"psysml:dfe553ed-92b1-45a3-82b1-c875cfb3cf56\" xlink:actuate=\"onRequest\" xlink:href=\"psysml:dfe553ed-92b1-45a3-82b1-c875cfb3cf56\" xlink:show=\"new\" xlink:title=\"psysml:dfe553ed-92b1-45a3-82b1-c875cfb3cf56\" xlink:type=\"simple\"><path d=\"M1014,130.46 C1014,145.87 1014,162.52 1014,176.87 \" fill=\"none\" id=\"E4&lt;-E5\" style=\"stroke: #A80036; stroke-width: 1.0;\"/><polygon fill=\"#FFFFFF\" points=\"1014,117.33,1010,123.33,1014,129.33,1018,123.33,1014,117.33\" style=\"stroke: #A80036; stroke-width: 1.0;\"/><text fill=\"#000000\" font-family=\"sans-serif\" font-size=\"13\" lengthAdjust=\"spacingAndGlyphs\" textLength=\"8\" x=\"1005.2875\" y=\"165.8612\">1</text></a><!--MD5=[15ebcb19ae302d9b601edb458606d402]\n",
       "link E5 to E2--><a href=\"psysml:7cfd1003-3fe0-4a32-a3a1-13a5c8efedf2\" target=\"_top\" title=\"psysml:7cfd1003-3fe0-4a32-a3a1-13a5c8efedf2\" xlink:actuate=\"onRequest\" xlink:href=\"psysml:7cfd1003-3fe0-4a32-a3a1-13a5c8efedf2\" xlink:show=\"new\" xlink:title=\"psysml:7cfd1003-3fe0-4a32-a3a1-13a5c8efedf2\" xlink:type=\"simple\"><path d=\"M1014,253.33 C1014,265.52 1014,279.36 1014,292.68 \" fill=\"none\" id=\"E5-&gt;E2\" style=\"stroke: #A80036; stroke-width: 1.0;\"/><polygon fill=\"#FFFFFF\" points=\"1014,312.87,1007,293.87,1021,293.87,1014,312.87\" style=\"stroke: #A80036; stroke-width: 1.0;\"/><ellipse cx=\"1009\" cy=\"288.17\" fill=\"#A80036\" rx=\"2\" ry=\"2\" style=\"stroke: #A80036; stroke-width: 1.0;\"/><ellipse cx=\"1019\" cy=\"288.17\" fill=\"#A80036\" rx=\"2\" ry=\"2\" style=\"stroke: #A80036; stroke-width: 1.0;\"/></a><!--MD5=[6db378b65e1aef66a01cb3103812b399]\n",
       "reverse link E4 to E6--><a href=\"psysml:56232501-f921-4851-b5f9-a91b366c1c7b\" target=\"_top\" title=\"psysml:56232501-f921-4851-b5f9-a91b366c1c7b\" xlink:actuate=\"onRequest\" xlink:href=\"psysml:56232501-f921-4851-b5f9-a91b366c1c7b\" xlink:show=\"new\" xlink:title=\"psysml:56232501-f921-4851-b5f9-a91b366c1c7b\" xlink:type=\"simple\"><path d=\"M1066.59,126.06 C1085.53,142.65 1106.65,161.14 1124.61,176.87 \" fill=\"none\" id=\"E4&lt;-E6\" style=\"stroke: #A80036; stroke-width: 1.0;\"/><polygon fill=\"#FFFFFF\" points=\"1056.62,117.33,1058.4928,124.2937,1065.6411,125.2433,1063.7683,118.2796,1056.62,117.33\" style=\"stroke: #A80036; stroke-width: 1.0;\"/><text fill=\"#000000\" font-family=\"sans-serif\" font-size=\"13\" lengthAdjust=\"spacingAndGlyphs\" textLength=\"8\" x=\"1108.3468\" y=\"165.8612\">1</text></a><!--MD5=[2351f337d6de0f557b50152ba70847b5]\n",
       "link E6 to E2--><a href=\"psysml:b3767e4f-9e3f-4162-9e5b-3e184cb0e1ab\" target=\"_top\" title=\"psysml:b3767e4f-9e3f-4162-9e5b-3e184cb0e1ab\" xlink:actuate=\"onRequest\" xlink:href=\"psysml:b3767e4f-9e3f-4162-9e5b-3e184cb0e1ab\" xlink:show=\"new\" xlink:title=\"psysml:b3767e4f-9e3f-4162-9e5b-3e184cb0e1ab\" xlink:type=\"simple\"><path d=\"M1124.38,253.33 C1108.05,267.63 1089.14,284.19 1071.63,299.52 \" fill=\"none\" id=\"E6-&gt;E2\" style=\"stroke: #A80036; stroke-width: 1.0;\"/><polygon fill=\"#FFFFFF\" points=\"1056.39,312.87,1066.0639,295.0819,1075.2922,305.6099,1056.39,312.87\" style=\"stroke: #A80036; stroke-width: 1.0;\"/><ellipse cx=\"1071.6686\" cy=\"292.8287\" fill=\"#A80036\" rx=\"2\" ry=\"2\" style=\"stroke: #A80036; stroke-width: 1.0;\"/><ellipse cx=\"1078.2602\" cy=\"300.3487\" fill=\"#A80036\" rx=\"2\" ry=\"2\" style=\"stroke: #A80036; stroke-width: 1.0;\"/></a><!--MD5=[a919e0967d6f3de553dc51b9865a1d6d]\n",
       "link E10 to E7--><a href=\"psysml:650eb0f7-ec08-4309-80b6-1e90e34b9690\" target=\"_top\" title=\"psysml:650eb0f7-ec08-4309-80b6-1e90e34b9690\" xlink:actuate=\"onRequest\" xlink:href=\"psysml:650eb0f7-ec08-4309-80b6-1e90e34b9690\" xlink:show=\"new\" xlink:title=\"psysml:650eb0f7-ec08-4309-80b6-1e90e34b9690\" xlink:type=\"simple\"><path d=\"M557.97,117.15 C583.125,130.315 611.975,145.415 639.2925,159.7138 C642.7072,161.5011 646.0979,163.2759 649.4545,165.0329 \" fill=\"none\" id=\"E10-&gt;E7\" style=\"stroke: #A80036; stroke-width: 1.0;\"/><polygon fill=\"#FFFFFF\" points=\"649.4545,165.0329,629.3749,162.4234,635.8674,150.0199,649.4545,165.0329\" style=\"stroke: #A80036; stroke-width: 1.0;\"/><ellipse cx=\"625.2524\" cy=\"158.0081\" fill=\"#A80036\" rx=\"2\" ry=\"2\" style=\"stroke: #A80036; stroke-width: 1.0;\"/><ellipse cx=\"629.8899\" cy=\"149.1485\" fill=\"#A80036\" rx=\"2\" ry=\"2\" style=\"stroke: #A80036; stroke-width: 1.0;\"/></a><!--MD5=[df5c737a2d2eaa7aff1aba4b3f53f48d]\n",
       "@startuml\r\n",
       "skinparam wrapWidth 300\r\n",
       "hide circle\r\n",
       "\r\n",
       "package \"CalculationExample\" as E1  [[psysml:9a950c4d-df47-4bf2-a127-6824d456053c ]]  {\r\n",
       "comp def \"VehiclePart\" as E2  <<(T,blue) part  def>> [[psysml:240f00ab-b9bf-457e-9376-98b0b5e156bb ]] {\r\n",
       "- - attributes - -\r\n",
       "m: MassValue\r\n",
       "}\r\n",
       "comp def \"Vehicle\" as E3  <<(T,blue) part  def>> [[psysml:240db56f-6d8c-4faf-8b3c-f8974d12918d ]] {\r\n",
       "}\r\n",
       "comp usage \"vehicle: Vehicle \" as E4  <<(T,blue) part>> [[psysml:ce00e2ad-3315-43f7-b2e6-6ce884a27309 ]] {\r\n",
       "- - attributes - -\r\n",
       "^m: MassValue\r\n",
       "}\r\n",
       "comp usage \"eng: VehiclePart \" as E5  <<(T,blue) part>> [[psysml:83fc889d-b3c1-4be4-83aa-24728b198254 ]] {\r\n",
       "- - attributes - -\r\n",
       "^m: MassValue\r\n",
       "}\r\n",
       "comp usage \"trans: VehiclePart \" as E6  <<(T,blue) part>> [[psysml:9ad03ab5-4ba7-4600-8f6c-f33bd21910a1 ]] {\r\n",
       "- - attributes - -\r\n",
       "^m: MassValue\r\n",
       "}\r\n",
       "rec def \"MassSum\" as E7  <<(T,blue) calculation  def>> [[psysml:425e038d-47d6-48b2-bd42-a030f1074fc4 ]] {\r\n",
       "portin \"partMasses\" as E8  [[psysml:b45e328f-a4a8-4519-9228-274640d6e043 ]] \r\n",
       "portout \"totalMass\" as E9  [[psysml:712f9e49-cc72-40cc-a5b0-9958e3b93d47 ]] \r\n",
       "}\r\n",
       "\r\n",
       "comp usage \"ms: MassSum \" as E10  <<(T,blue) calculation>> [[psysml:e012d373-591a-4cf2-b53b-d810c6dd562d ]] {\r\n",
       "- - parameters - -\r\n",
       "<b>in</b> partMasses= (vehicle.eng.m, vehicle.trans.m); \r\n",
       "}\r\n",
       "comp usage \"vehicles \" as E11  <<(T,blue) part>> [[psysml:e4253433-368c-4e86-8a3c-6b186419df89 ]] {\r\n",
       "}\r\n",
       "comp usage \"masses1 \" as E12  <<(T,blue) attribute>> [[psysml:03468340-4ee1-4dfd-ba23-9337b31e6caf ]] {\r\n",
       "}\r\n",
       "comp usage \"masses2 \" as E13  <<(T,blue) attribute>> [[psysml:a35488ce-7eb0-470e-9ecc-f7a0c28bc139 ]] {\r\n",
       "}\r\n",
       "}\r\n",
       "E3 - -|> E2 [[psysml:2113862d-3e36-4f2a-be29-5fbeffc35ef5 ]] \r\n",
       "E4 - -:|> E3 [[psysml:3f6bcc61-006c-4905-be22-168150e04931 ]] \r\n",
       "E4 o- - \"1\"E5 [[psysml:dfe553ed-92b1-45a3-82b1-c875cfb3cf56 ]] \r\n",
       "E5 - -:|> E2 [[psysml:7cfd1003-3fe0-4a32-a3a1-13a5c8efedf2 ]] \r\n",
       "E4 o- - \"1\"E6 [[psysml:56232501-f921-4851-b5f9-a91b366c1c7b ]] \r\n",
       "E6 - -:|> E2 [[psysml:b3767e4f-9e3f-4162-9e5b-3e184cb0e1ab ]] \r\n",
       "E10 - -:|> E7 [[psysml:650eb0f7-ec08-4309-80b6-1e90e34b9690 ]] \r\n",
       "@enduml\r\n",
       "\n",
       "PlantUML version 1.2020.13(Sat Jun 13 12:26:38 UTC 2020)\n",
       "(EPL source distribution)\n",
       "Java Runtime: OpenJDK Runtime Environment\n",
       "JVM: OpenJDK 64-Bit Server VM\n",
       "Default Encoding: UTF-8\n",
       "Language: en\n",
       "Country: null\n",
       "--></g></svg>"
      ]
     },
     "execution_count": 29,
     "metadata": {},
     "output_type": "execute_result"
    }
   ],
   "source": [
    "%viz --style=\"STDCOLOR\" --view=\"MIXED\" \"CalculationExample\""
   ]
  },
  {
   "cell_type": "code",
   "execution_count": 30,
   "id": "b7500270",
   "metadata": {
    "execution": {
     "iopub.execute_input": "2022-08-19T08:22:02.586401Z",
     "iopub.status.busy": "2022-08-19T08:22:02.585964Z",
     "iopub.status.idle": "2022-08-19T08:22:02.664257Z",
     "shell.execute_reply": "2022-08-19T08:22:02.662671Z"
    }
   },
   "outputs": [
    {
     "data": {
      "image/svg+xml": [
       "<?xml version=\"1.0\" encoding=\"UTF-8\" standalone=\"no\"?><svg xmlns=\"http://www.w3.org/2000/svg\" xmlns:xlink=\"http://www.w3.org/1999/xlink\" contentScriptType=\"application/ecmascript\" contentStyleType=\"text/css\" height=\"499px\" preserveAspectRatio=\"none\" style=\"width:1402px;height:499px;\" version=\"1.1\" viewBox=\"0 0 1402 499\" width=\"1402px\" zoomAndPan=\"magnify\"><defs><filter height=\"300%\" id=\"f1wy5ru3l9atsl\" width=\"300%\" x=\"-1\" y=\"-1\"><feGaussianBlur result=\"blurOut\" stdDeviation=\"2.0\"/><feColorMatrix in=\"blurOut\" result=\"blurOut2\" type=\"matrix\" values=\"0 0 0 0 0 0 0 0 0 0 0 0 0 0 0 0 0 0 .4 0\"/><feOffset dx=\"4.0\" dy=\"4.0\" in=\"blurOut2\" result=\"blurOut3\"/><feBlend in=\"SourceGraphic\" in2=\"blurOut3\" mode=\"normal\"/></filter></defs><g><!--MD5=[fbc87193dbaf4d95561dea2c320d4a47]\n",
       "cluster E1--><a href=\"psysml:9a950c4d-df47-4bf2-a127-6824d456053c\" target=\"_top\" title=\"psysml:9a950c4d-df47-4bf2-a127-6824d456053c\" xlink:actuate=\"onRequest\" xlink:href=\"psysml:9a950c4d-df47-4bf2-a127-6824d456053c\" xlink:show=\"new\" xlink:title=\"psysml:9a950c4d-df47-4bf2-a127-6824d456053c\" xlink:type=\"simple\"><polygon fill=\"#FFFFFF\" filter=\"url(#f1wy5ru3l9atsl)\" points=\"16,6,155,6,162,28.2969,1380,28.2969,1380,487,16,487,16,6\" style=\"stroke: #000000; stroke-width: 1.5;\"/><line style=\"stroke: #000000; stroke-width: 1.5;\" x1=\"16\" x2=\"162\" y1=\"28.2969\" y2=\"28.2969\"/><text fill=\"#000000\" font-family=\"sans-serif\" font-size=\"14\" font-weight=\"bold\" lengthAdjust=\"spacingAndGlyphs\" textLength=\"133\" x=\"20\" y=\"20.9951\">CalculationExample</text></a><!--MD5=[168fadf3d0c3fd93dd5d6da1b1d7ab76]\n",
       "cluster E7--><a href=\"psysml:425e038d-47d6-48b2-bd42-a030f1074fc4\" target=\"_top\" title=\"psysml:425e038d-47d6-48b2-bd42-a030f1074fc4\" xlink:actuate=\"onRequest\" xlink:href=\"psysml:425e038d-47d6-48b2-bd42-a030f1074fc4\" xlink:show=\"new\" xlink:title=\"psysml:425e038d-47d6-48b2-bd42-a030f1074fc4\" xlink:type=\"simple\"><rect fill=\"#FFFFFF\" filter=\"url(#f1wy5ru3l9atsl)\" height=\"370\" id=\"E7\" style=\"stroke: #A80036; stroke-width: 1.5;\" width=\"186\" x=\"727\" y=\"79\"/><rect fill=\"#FEFECE\" height=\"37.9375\" style=\"stroke: #A80036; stroke-width: 1.5;\" width=\"186\" x=\"727\" y=\"79\"/><text fill=\"#000000\" font-family=\"sans-serif\" font-size=\"12\" font-style=\"italic\" lengthAdjust=\"spacingAndGlyphs\" textLength=\"110\" x=\"765\" y=\"95.1387\">«calculation  def»</text><text fill=\"#000000\" font-family=\"sans-serif\" font-size=\"12\" lengthAdjust=\"spacingAndGlyphs\" textLength=\"59\" x=\"790.5\" y=\"109.1074\">MassSum</text></a><!--MD5=[b4997ac47864f28c2f74865a473b2911]\n",
       "class E2--><a href=\"psysml:240f00ab-b9bf-457e-9376-98b0b5e156bb\" target=\"_top\" title=\"psysml:240f00ab-b9bf-457e-9376-98b0b5e156bb\" xlink:actuate=\"onRequest\" xlink:href=\"psysml:240f00ab-b9bf-457e-9376-98b0b5e156bb\" xlink:show=\"new\" xlink:title=\"psysml:240f00ab-b9bf-457e-9376-98b0b5e156bb\" xlink:type=\"simple\"><rect fill=\"#FEFECE\" filter=\"url(#f1wy5ru3l9atsl)\" height=\"69.6094\" id=\"E2\" style=\"stroke: #A80036; stroke-width: 1.5;\" width=\"103\" x=\"1059.5\" y=\"313\"/><ellipse cx=\"1074.5\" cy=\"329\" fill=\"#008000\" rx=\"11\" ry=\"11\" style=\"stroke: #A80036; stroke-width: 1.0;\"/><path d=\"M1071.375,334 L1071.375,323.4063 L1074.6094,323.4063 Q1076.5156,323.4063 1077.4219,324.1563 Q1078.3438,324.9063 1078.3438,326.0781 Q1078.3438,326.7656 1077.9531,327.4219 Q1077.5781,328.0781 1076.8594,328.375 Q1077.7188,328.75 1078.2344,329.4375 Q1078.75,330.125 1078.75,330.9375 Q1078.75,332.3125 1077.7188,333.1563 Q1076.7031,334 1074.5938,334 L1071.375,334 Z M1073.2969,327.6406 L1074.4531,327.6406 Q1075.5781,327.6406 1075.9844,327.2656 Q1076.4063,326.875 1076.4063,326.25 Q1076.4063,325.6719 1075.9844,325.3125 Q1075.5625,324.9531 1074.625,324.9531 L1073.2969,324.9531 L1073.2969,327.6406 Z M1073.2969,332.4219 L1074.7969,332.4219 Q1075.7031,332.4219 1076.2344,332.0313 Q1076.7656,331.6406 1076.7656,330.8906 Q1076.7656,330.125 1076.2656,329.6563 Q1075.7656,329.1719 1074.5,329.1719 L1073.2969,329.1719 L1073.2969,332.4219 Z \"/><text fill=\"#000000\" font-family=\"sans-serif\" font-size=\"12\" lengthAdjust=\"spacingAndGlyphs\" textLength=\"71\" x=\"1088.5\" y=\"333.1543\">VehiclePart</text><line style=\"stroke: #A80036; stroke-width: 1.5;\" x1=\"1060.5\" x2=\"1161.5\" y1=\"345\" y2=\"345\"/><text fill=\"#000000\" font-family=\"sans-serif\" font-size=\"11\" lengthAdjust=\"spacingAndGlyphs\" textLength=\"80\" x=\"1065.5\" y=\"376.0151\">m: MassValue</text><line style=\"stroke: #A80036; stroke-width: 1.0;\" x1=\"1060.5\" x2=\"1083.5\" y1=\"359.4023\" y2=\"359.4023\"/><text fill=\"#000000\" font-family=\"sans-serif\" font-size=\"11\" lengthAdjust=\"spacingAndGlyphs\" textLength=\"55\" x=\"1083.5\" y=\"362.7104\">attributes</text><line style=\"stroke: #A80036; stroke-width: 1.0;\" x1=\"1138.5\" x2=\"1161.5\" y1=\"359.4023\" y2=\"359.4023\"/></a><!--MD5=[09b614a08d8cba4a07c9adeb5e0fee81]\n",
       "class E3--><a href=\"psysml:240db56f-6d8c-4faf-8b3c-f8974d12918d\" target=\"_top\" title=\"psysml:240db56f-6d8c-4faf-8b3c-f8974d12918d\" xlink:actuate=\"onRequest\" xlink:href=\"psysml:240db56f-6d8c-4faf-8b3c-f8974d12918d\" xlink:show=\"new\" xlink:title=\"psysml:240db56f-6d8c-4faf-8b3c-f8974d12918d\" xlink:type=\"simple\"><rect fill=\"#FEFECE\" filter=\"url(#f1wy5ru3l9atsl)\" height=\"40\" id=\"E3\" style=\"stroke: #A80036; stroke-width: 1.5;\" width=\"77\" x=\"929.5\" y=\"195\"/><ellipse cx=\"944.5\" cy=\"211\" fill=\"#008000\" rx=\"11\" ry=\"11\" style=\"stroke: #A80036; stroke-width: 1.0;\"/><path d=\"M941.375,216 L941.375,205.4063 L944.6094,205.4063 Q946.5156,205.4063 947.4219,206.1563 Q948.3438,206.9063 948.3438,208.0781 Q948.3438,208.7656 947.9531,209.4219 Q947.5781,210.0781 946.8594,210.375 Q947.7188,210.75 948.2344,211.4375 Q948.75,212.125 948.75,212.9375 Q948.75,214.3125 947.7188,215.1563 Q946.7031,216 944.5938,216 L941.375,216 Z M943.2969,209.6406 L944.4531,209.6406 Q945.5781,209.6406 945.9844,209.2656 Q946.4063,208.875 946.4063,208.25 Q946.4063,207.6719 945.9844,207.3125 Q945.5625,206.9531 944.625,206.9531 L943.2969,206.9531 L943.2969,209.6406 Z M943.2969,214.4219 L944.7969,214.4219 Q945.7031,214.4219 946.2344,214.0313 Q946.7656,213.6406 946.7656,212.8906 Q946.7656,212.125 946.2656,211.6563 Q945.7656,211.1719 944.5,211.1719 L943.2969,211.1719 L943.2969,214.4219 Z \"/><text fill=\"#000000\" font-family=\"sans-serif\" font-size=\"12\" lengthAdjust=\"spacingAndGlyphs\" textLength=\"45\" x=\"958.5\" y=\"215.1543\">Vehicle</text><line style=\"stroke: #A80036; stroke-width: 1.5;\" x1=\"930.5\" x2=\"1005.5\" y1=\"227\" y2=\"227\"/></a><!--MD5=[ebbe1d658d1005bcc118a6aa81145e00]\n",
       "class E4--><a href=\"psysml:ce00e2ad-3315-43f7-b2e6-6ce884a27309\" target=\"_top\" title=\"psysml:ce00e2ad-3315-43f7-b2e6-6ce884a27309\" xlink:actuate=\"onRequest\" xlink:href=\"psysml:ce00e2ad-3315-43f7-b2e6-6ce884a27309\" xlink:show=\"new\" xlink:title=\"psysml:ce00e2ad-3315-43f7-b2e6-6ce884a27309\" xlink:type=\"simple\"><rect fill=\"#FEFECE\" filter=\"url(#f1wy5ru3l9atsl)\" height=\"75.5469\" id=\"E4\" rx=\"10\" ry=\"10\" style=\"stroke: #A80036; stroke-width: 1.5;\" width=\"132\" x=\"1045\" y=\"41\"/><ellipse cx=\"1060\" cy=\"59.9688\" fill=\"#32CD32\" rx=\"11\" ry=\"11\" style=\"stroke: #A80036; stroke-width: 1.0;\"/><path d=\"M1056.8125,64.9688 L1056.8125,54.375 L1060.4219,54.375 Q1061.6406,54.375 1062.4375,54.8125 Q1063.2344,55.2344 1063.6094,55.9375 Q1064,56.6406 1064,57.4844 Q1064,58.3281 1063.625,59.0156 Q1063.2656,59.7031 1062.4688,60.125 Q1061.6875,60.5313 1060.5,60.5313 L1058.7656,60.5313 L1058.7656,64.9688 L1056.8125,64.9688 Z M1058.7656,58.9375 L1060.375,58.9375 Q1061.1875,58.9375 1061.6094,58.5313 Q1062.0313,58.125 1062.0313,57.4844 Q1062.0313,56.8594 1061.6094,56.4531 Q1061.1875,56.0469 1060.3906,56.0469 L1058.7656,56.0469 L1058.7656,58.9375 Z \"/><text fill=\"#000000\" font-family=\"sans-serif\" font-size=\"12\" font-style=\"italic\" lengthAdjust=\"spacingAndGlyphs\" textLength=\"40\" x=\"1104\" y=\"57.1387\">«part»</text><text fill=\"#000000\" font-family=\"sans-serif\" font-size=\"12\" lengthAdjust=\"spacingAndGlyphs\" textLength=\"96\" x=\"1074\" y=\"71.1074\">vehicle: Vehicle</text><line style=\"stroke: #A80036; stroke-width: 1.5;\" x1=\"1046\" x2=\"1176\" y1=\"78.9375\" y2=\"78.9375\"/><text fill=\"#000000\" font-family=\"sans-serif\" font-size=\"11\" lengthAdjust=\"spacingAndGlyphs\" textLength=\"89\" x=\"1051\" y=\"109.9526\">^m: MassValue</text><line style=\"stroke: #A80036; stroke-width: 1.0;\" x1=\"1046\" x2=\"1083.5\" y1=\"93.3398\" y2=\"93.3398\"/><text fill=\"#000000\" font-family=\"sans-serif\" font-size=\"11\" lengthAdjust=\"spacingAndGlyphs\" textLength=\"55\" x=\"1083.5\" y=\"96.6479\">attributes</text><line style=\"stroke: #A80036; stroke-width: 1.0;\" x1=\"1138.5\" x2=\"1176\" y1=\"93.3398\" y2=\"93.3398\"/></a><!--MD5=[270fce915f116d4de14055a7c1d9a0f3]\n",
       "class E5--><a href=\"psysml:83fc889d-b3c1-4be4-83aa-24728b198254\" target=\"_top\" title=\"psysml:83fc889d-b3c1-4be4-83aa-24728b198254\" xlink:actuate=\"onRequest\" xlink:href=\"psysml:83fc889d-b3c1-4be4-83aa-24728b198254\" xlink:show=\"new\" xlink:title=\"psysml:83fc889d-b3c1-4be4-83aa-24728b198254\" xlink:type=\"simple\"><rect fill=\"#FEFECE\" filter=\"url(#f1wy5ru3l9atsl)\" height=\"75.5469\" id=\"E5\" rx=\"10\" ry=\"10\" style=\"stroke: #A80036; stroke-width: 1.5;\" width=\"139\" x=\"1041.5\" y=\"177\"/><ellipse cx=\"1056.5\" cy=\"195.9688\" fill=\"#32CD32\" rx=\"11\" ry=\"11\" style=\"stroke: #A80036; stroke-width: 1.0;\"/><path d=\"M1053.3125,200.9688 L1053.3125,190.375 L1056.9219,190.375 Q1058.1406,190.375 1058.9375,190.8125 Q1059.7344,191.2344 1060.1094,191.9375 Q1060.5,192.6406 1060.5,193.4844 Q1060.5,194.3281 1060.125,195.0156 Q1059.7656,195.7031 1058.9688,196.125 Q1058.1875,196.5313 1057,196.5313 L1055.2656,196.5313 L1055.2656,200.9688 L1053.3125,200.9688 Z M1055.2656,194.9375 L1056.875,194.9375 Q1057.6875,194.9375 1058.1094,194.5313 Q1058.5313,194.125 1058.5313,193.4844 Q1058.5313,192.8594 1058.1094,192.4531 Q1057.6875,192.0469 1056.8906,192.0469 L1055.2656,192.0469 L1055.2656,194.9375 Z \"/><text fill=\"#000000\" font-family=\"sans-serif\" font-size=\"12\" font-style=\"italic\" lengthAdjust=\"spacingAndGlyphs\" textLength=\"40\" x=\"1104\" y=\"193.1387\">«part»</text><text fill=\"#000000\" font-family=\"sans-serif\" font-size=\"12\" lengthAdjust=\"spacingAndGlyphs\" textLength=\"103\" x=\"1070.5\" y=\"207.1074\">eng: VehiclePart</text><line style=\"stroke: #A80036; stroke-width: 1.5;\" x1=\"1042.5\" x2=\"1179.5\" y1=\"214.9375\" y2=\"214.9375\"/><text fill=\"#000000\" font-family=\"sans-serif\" font-size=\"11\" lengthAdjust=\"spacingAndGlyphs\" textLength=\"89\" x=\"1047.5\" y=\"245.9526\">^m: MassValue</text><line style=\"stroke: #A80036; stroke-width: 1.0;\" x1=\"1042.5\" x2=\"1083.5\" y1=\"229.3398\" y2=\"229.3398\"/><text fill=\"#000000\" font-family=\"sans-serif\" font-size=\"11\" lengthAdjust=\"spacingAndGlyphs\" textLength=\"55\" x=\"1083.5\" y=\"232.6479\">attributes</text><line style=\"stroke: #A80036; stroke-width: 1.0;\" x1=\"1138.5\" x2=\"1179.5\" y1=\"229.3398\" y2=\"229.3398\"/></a><!--MD5=[60a26617385b1d2d0262a64233df1f8d]\n",
       "class E6--><a href=\"psysml:9ad03ab5-4ba7-4600-8f6c-f33bd21910a1\" target=\"_top\" title=\"psysml:9ad03ab5-4ba7-4600-8f6c-f33bd21910a1\" xlink:actuate=\"onRequest\" xlink:href=\"psysml:9ad03ab5-4ba7-4600-8f6c-f33bd21910a1\" xlink:show=\"new\" xlink:title=\"psysml:9ad03ab5-4ba7-4600-8f6c-f33bd21910a1\" xlink:type=\"simple\"><rect fill=\"#FEFECE\" filter=\"url(#f1wy5ru3l9atsl)\" height=\"75.5469\" id=\"E6\" rx=\"10\" ry=\"10\" style=\"stroke: #A80036; stroke-width: 1.5;\" width=\"148\" x=\"1216\" y=\"177\"/><ellipse cx=\"1231\" cy=\"195.9688\" fill=\"#32CD32\" rx=\"11\" ry=\"11\" style=\"stroke: #A80036; stroke-width: 1.0;\"/><path d=\"M1227.8125,200.9688 L1227.8125,190.375 L1231.4219,190.375 Q1232.6406,190.375 1233.4375,190.8125 Q1234.2344,191.2344 1234.6094,191.9375 Q1235,192.6406 1235,193.4844 Q1235,194.3281 1234.625,195.0156 Q1234.2656,195.7031 1233.4688,196.125 Q1232.6875,196.5313 1231.5,196.5313 L1229.7656,196.5313 L1229.7656,200.9688 L1227.8125,200.9688 Z M1229.7656,194.9375 L1231.375,194.9375 Q1232.1875,194.9375 1232.6094,194.5313 Q1233.0313,194.125 1233.0313,193.4844 Q1233.0313,192.8594 1232.6094,192.4531 Q1232.1875,192.0469 1231.3906,192.0469 L1229.7656,192.0469 L1229.7656,194.9375 Z \"/><text fill=\"#000000\" font-family=\"sans-serif\" font-size=\"12\" font-style=\"italic\" lengthAdjust=\"spacingAndGlyphs\" textLength=\"40\" x=\"1283\" y=\"193.1387\">«part»</text><text fill=\"#000000\" font-family=\"sans-serif\" font-size=\"12\" lengthAdjust=\"spacingAndGlyphs\" textLength=\"112\" x=\"1245\" y=\"207.1074\">trans: VehiclePart</text><line style=\"stroke: #A80036; stroke-width: 1.5;\" x1=\"1217\" x2=\"1363\" y1=\"214.9375\" y2=\"214.9375\"/><text fill=\"#000000\" font-family=\"sans-serif\" font-size=\"11\" lengthAdjust=\"spacingAndGlyphs\" textLength=\"89\" x=\"1222\" y=\"245.9526\">^m: MassValue</text><line style=\"stroke: #A80036; stroke-width: 1.0;\" x1=\"1217\" x2=\"1262.5\" y1=\"229.3398\" y2=\"229.3398\"/><text fill=\"#000000\" font-family=\"sans-serif\" font-size=\"11\" lengthAdjust=\"spacingAndGlyphs\" textLength=\"55\" x=\"1262.5\" y=\"232.6479\">attributes</text><line style=\"stroke: #A80036; stroke-width: 1.0;\" x1=\"1317.5\" x2=\"1363\" y1=\"229.3398\" y2=\"229.3398\"/></a><!--MD5=[96f4274e9e20536e775497830990834d]\n",
       "class E10--><a href=\"psysml:e012d373-591a-4cf2-b53b-d810c6dd562d\" target=\"_top\" title=\"psysml:e012d373-591a-4cf2-b53b-d810c6dd562d\" xlink:actuate=\"onRequest\" xlink:href=\"psysml:e012d373-591a-4cf2-b53b-d810c6dd562d\" xlink:show=\"new\" xlink:title=\"psysml:e012d373-591a-4cf2-b53b-d810c6dd562d\" xlink:type=\"simple\"><rect fill=\"#FEFECE\" filter=\"url(#f1wy5ru3l9atsl)\" height=\"75.5469\" id=\"E10\" rx=\"10\" ry=\"10\" style=\"stroke: #A80036; stroke-width: 1.5;\" width=\"293\" x=\"417.5\" y=\"41\"/><ellipse cx=\"515.25\" cy=\"59.9688\" fill=\"#FFA500\" rx=\"11\" ry=\"11\" style=\"stroke: #A80036; stroke-width: 1.0;\"/><path d=\"M515,65.4375 Q513.25,65.4375 512.2969,64.4063 Q511.3594,63.3594 511.3594,61.5156 L511.3594,54.625 L513.4219,54.625 L513.4219,54.7813 Q513.3281,54.875 513.2969,55.0156 Q513.2813,55.1406 513.2813,55.4063 L513.2813,61.5313 Q513.2813,62.625 513.6563,63.25 Q514.0313,63.875 515.0156,63.875 Q516,63.875 516.3906,63.25 Q516.7813,62.625 516.7813,61.4844 L516.7813,54.625 L518.6563,54.625 L518.6563,61.4688 Q518.6563,63.5 517.625,64.4688 Q516.6094,65.4375 515,65.4375 Z \"/><text fill=\"#000000\" font-family=\"sans-serif\" font-size=\"12\" font-style=\"italic\" lengthAdjust=\"spacingAndGlyphs\" textLength=\"82\" x=\"539.25\" y=\"57.1387\">«calculation»</text><text fill=\"#000000\" font-family=\"sans-serif\" font-size=\"12\" lengthAdjust=\"spacingAndGlyphs\" textLength=\"85\" x=\"535.75\" y=\"71.1074\">ms: MassSum</text><line style=\"stroke: #A80036; stroke-width: 1.5;\" x1=\"418.5\" x2=\"709.5\" y1=\"78.9375\" y2=\"78.9375\"/><text fill=\"#000000\" font-family=\"sans-serif\" font-size=\"11\" font-weight=\"bold\" lengthAdjust=\"spacingAndGlyphs\" textLength=\"10\" x=\"423.5\" y=\"109.9526\">in</text><text fill=\"#000000\" font-family=\"sans-serif\" font-size=\"11\" lengthAdjust=\"spacingAndGlyphs\" textLength=\"267\" x=\"437.5\" y=\"109.9526\">partMasses= (vehicle.eng.m, vehicle.trans.m);</text><line style=\"stroke: #A80036; stroke-width: 1.0;\" x1=\"418.5\" x2=\"530.5\" y1=\"93.3398\" y2=\"93.3398\"/><text fill=\"#000000\" font-family=\"sans-serif\" font-size=\"11\" lengthAdjust=\"spacingAndGlyphs\" textLength=\"67\" x=\"530.5\" y=\"96.6479\">parameters</text><line style=\"stroke: #A80036; stroke-width: 1.0;\" x1=\"597.5\" x2=\"709.5\" y1=\"93.3398\" y2=\"93.3398\"/></a><!--MD5=[1dd1bfd58a279cf63c5f349dbc8fc6a1]\n",
       "class E11--><a href=\"psysml:e4253433-368c-4e86-8a3c-6b186419df89\" target=\"_top\" title=\"psysml:e4253433-368c-4e86-8a3c-6b186419df89\" xlink:actuate=\"onRequest\" xlink:href=\"psysml:e4253433-368c-4e86-8a3c-6b186419df89\" xlink:show=\"new\" xlink:title=\"psysml:e4253433-368c-4e86-8a3c-6b186419df89\" xlink:type=\"simple\"><rect fill=\"#FEFECE\" filter=\"url(#f1wy5ru3l9atsl)\" height=\"45.9375\" id=\"E11\" rx=\"10\" ry=\"10\" style=\"stroke: #A80036; stroke-width: 1.5;\" width=\"86\" x=\"296\" y=\"56\"/><ellipse cx=\"311\" cy=\"74.9688\" fill=\"#32CD32\" rx=\"11\" ry=\"11\" style=\"stroke: #A80036; stroke-width: 1.0;\"/><path d=\"M307.8125,79.9688 L307.8125,69.375 L311.4219,69.375 Q312.6406,69.375 313.4375,69.8125 Q314.2344,70.2344 314.6094,70.9375 Q315,71.6406 315,72.4844 Q315,73.3281 314.625,74.0156 Q314.2656,74.7031 313.4688,75.125 Q312.6875,75.5313 311.5,75.5313 L309.7656,75.5313 L309.7656,79.9688 L307.8125,79.9688 Z M309.7656,73.9375 L311.375,73.9375 Q312.1875,73.9375 312.6094,73.5313 Q313.0313,73.125 313.0313,72.4844 Q313.0313,71.8594 312.6094,71.4531 Q312.1875,71.0469 311.3906,71.0469 L309.7656,71.0469 L309.7656,73.9375 Z \"/><text fill=\"#000000\" font-family=\"sans-serif\" font-size=\"12\" font-style=\"italic\" lengthAdjust=\"spacingAndGlyphs\" textLength=\"40\" x=\"332\" y=\"72.1387\">«part»</text><text fill=\"#000000\" font-family=\"sans-serif\" font-size=\"12\" lengthAdjust=\"spacingAndGlyphs\" textLength=\"50\" x=\"325\" y=\"86.1074\">vehicles</text><line style=\"stroke: #A80036; stroke-width: 1.5;\" x1=\"297\" x2=\"381\" y1=\"93.9375\" y2=\"93.9375\"/></a><!--MD5=[49a0ec8f00dab7302a31f22d0f0fe584]\n",
       "class E12--><a href=\"psysml:03468340-4ee1-4dfd-ba23-9337b31e6caf\" target=\"_top\" title=\"psysml:03468340-4ee1-4dfd-ba23-9337b31e6caf\" xlink:actuate=\"onRequest\" xlink:href=\"psysml:03468340-4ee1-4dfd-ba23-9337b31e6caf\" xlink:show=\"new\" xlink:title=\"psysml:03468340-4ee1-4dfd-ba23-9337b31e6caf\" xlink:type=\"simple\"><rect fill=\"#FEFECE\" filter=\"url(#f1wy5ru3l9atsl)\" height=\"45.9375\" id=\"E12\" rx=\"10\" ry=\"10\" style=\"stroke: #A80036; stroke-width: 1.5;\" width=\"97\" x=\"163.5\" y=\"56\"/><ellipse cx=\"178.5\" cy=\"74.9688\" fill=\"#FFA500\" rx=\"11\" ry=\"11\" style=\"stroke: #A80036; stroke-width: 1.0;\"/><path d=\"M178.25,80.4375 Q176.5,80.4375 175.5469,79.4063 Q174.6094,78.3594 174.6094,76.5156 L174.6094,69.625 L176.6719,69.625 L176.6719,69.7813 Q176.5781,69.875 176.5469,70.0156 Q176.5313,70.1406 176.5313,70.4063 L176.5313,76.5313 Q176.5313,77.625 176.9063,78.25 Q177.2813,78.875 178.2656,78.875 Q179.25,78.875 179.6406,78.25 Q180.0313,77.625 180.0313,76.4844 L180.0313,69.625 L181.9063,69.625 L181.9063,76.4688 Q181.9063,78.5 180.875,79.4688 Q179.8594,80.4375 178.25,80.4375 Z \"/><text fill=\"#000000\" font-family=\"sans-serif\" font-size=\"12\" font-style=\"italic\" lengthAdjust=\"spacingAndGlyphs\" textLength=\"69\" x=\"190.5\" y=\"72.1387\">«attribute»</text><text fill=\"#000000\" font-family=\"sans-serif\" font-size=\"12\" lengthAdjust=\"spacingAndGlyphs\" textLength=\"56\" x=\"195\" y=\"86.1074\">masses1</text><line style=\"stroke: #A80036; stroke-width: 1.5;\" x1=\"164.5\" x2=\"259.5\" y1=\"93.9375\" y2=\"93.9375\"/></a><!--MD5=[ee3c913d1a06f366521f9ef512b67efe]\n",
       "class E13--><a href=\"psysml:a35488ce-7eb0-470e-9ecc-f7a0c28bc139\" target=\"_top\" title=\"psysml:a35488ce-7eb0-470e-9ecc-f7a0c28bc139\" xlink:actuate=\"onRequest\" xlink:href=\"psysml:a35488ce-7eb0-470e-9ecc-f7a0c28bc139\" xlink:show=\"new\" xlink:title=\"psysml:a35488ce-7eb0-470e-9ecc-f7a0c28bc139\" xlink:type=\"simple\"><rect fill=\"#FEFECE\" filter=\"url(#f1wy5ru3l9atsl)\" height=\"45.9375\" id=\"E13\" rx=\"10\" ry=\"10\" style=\"stroke: #A80036; stroke-width: 1.5;\" width=\"97\" x=\"31.5\" y=\"56\"/><ellipse cx=\"46.5\" cy=\"74.9688\" fill=\"#FFA500\" rx=\"11\" ry=\"11\" style=\"stroke: #A80036; stroke-width: 1.0;\"/><path d=\"M46.25,80.4375 Q44.5,80.4375 43.5469,79.4063 Q42.6094,78.3594 42.6094,76.5156 L42.6094,69.625 L44.6719,69.625 L44.6719,69.7813 Q44.5781,69.875 44.5469,70.0156 Q44.5313,70.1406 44.5313,70.4063 L44.5313,76.5313 Q44.5313,77.625 44.9063,78.25 Q45.2813,78.875 46.2656,78.875 Q47.25,78.875 47.6406,78.25 Q48.0313,77.625 48.0313,76.4844 L48.0313,69.625 L49.9063,69.625 L49.9063,76.4688 Q49.9063,78.5 48.875,79.4688 Q47.8594,80.4375 46.25,80.4375 Z \"/><text fill=\"#000000\" font-family=\"sans-serif\" font-size=\"12\" font-style=\"italic\" lengthAdjust=\"spacingAndGlyphs\" textLength=\"69\" x=\"58.5\" y=\"72.1387\">«attribute»</text><text fill=\"#000000\" font-family=\"sans-serif\" font-size=\"12\" lengthAdjust=\"spacingAndGlyphs\" textLength=\"56\" x=\"63\" y=\"86.1074\">masses2</text><line style=\"stroke: #A80036; stroke-width: 1.5;\" x1=\"32.5\" x2=\"127.5\" y1=\"93.9375\" y2=\"93.9375\"/></a><text fill=\"#000000\" font-family=\"sans-serif\" font-size=\"14\" lengthAdjust=\"spacingAndGlyphs\" textLength=\"80\" x=\"780\" y=\"57.6982\">partMasses</text><rect fill=\"#A80036\" height=\"12\" style=\"stroke: #FEFECE; stroke-width: 1.5;\" width=\"12\" x=\"814\" y=\"73\"/><text fill=\"#000000\" font-family=\"sans-serif\" font-size=\"14\" lengthAdjust=\"spacingAndGlyphs\" textLength=\"66\" x=\"787\" y=\"467.9951\">totalMass</text><rect fill=\"#A80036\" height=\"12\" style=\"stroke: #FEFECE; stroke-width: 1.5;\" width=\"12\" x=\"814\" y=\"443\"/><!--MD5=[05d275557350bfb9b23a4ef7222b4c39]\n",
       "link E3 to E2--><a href=\"psysml:2113862d-3e36-4f2a-be29-5fbeffc35ef5\" target=\"_top\" title=\"psysml:2113862d-3e36-4f2a-be29-5fbeffc35ef5\" xlink:actuate=\"onRequest\" xlink:href=\"psysml:2113862d-3e36-4f2a-be29-5fbeffc35ef5\" xlink:show=\"new\" xlink:title=\"psysml:2113862d-3e36-4f2a-be29-5fbeffc35ef5\" xlink:type=\"simple\"><path d=\"M988.79,235.05 C1007.12,251.83 1034.6,277.01 1058.86,299.23 \" fill=\"none\" id=\"E3-&gt;E2\" style=\"stroke: #A80036; stroke-width: 1.0;\"/><polygon fill=\"none\" points=\"1063.8,294.27,1073.82,312.94,1054.35,304.59,1063.8,294.27\" style=\"stroke: #A80036; stroke-width: 1.0;\"/></a><!--MD5=[f0cdf4548168e5211fb3a02bf679d63a]\n",
       "link E4 to E3--><a href=\"psysml:3f6bcc61-006c-4905-be22-168150e04931\" target=\"_top\" title=\"psysml:3f6bcc61-006c-4905-be22-168150e04931\" xlink:actuate=\"onRequest\" xlink:href=\"psysml:3f6bcc61-006c-4905-be22-168150e04931\" xlink:show=\"new\" xlink:title=\"psysml:3f6bcc61-006c-4905-be22-168150e04931\" xlink:type=\"simple\"><path d=\"M1071.17,117.33 C1049.8,137.35 1023.71,161.79 1003.12,181.09 \" fill=\"none\" id=\"E4-&gt;E3\" style=\"stroke: #A80036; stroke-width: 1.0;\"/><polygon fill=\"#FFFFFF\" points=\"988.29,194.99,997.356,176.8845,1006.9355,187.094,988.29,194.99\" style=\"stroke: #A80036; stroke-width: 1.0;\"/><ellipse cx=\"1002.8812\" cy=\"174.4428\" fill=\"#A80036\" rx=\"2\" ry=\"2\" style=\"stroke: #A80036; stroke-width: 1.0;\"/><ellipse cx=\"1009.7237\" cy=\"181.7353\" fill=\"#A80036\" rx=\"2\" ry=\"2\" style=\"stroke: #A80036; stroke-width: 1.0;\"/></a><!--MD5=[62aa6af11e70f752912c1cb0466f24f7]\n",
       "reverse link E4 to E5--><a href=\"psysml:dfe553ed-92b1-45a3-82b1-c875cfb3cf56\" target=\"_top\" title=\"psysml:dfe553ed-92b1-45a3-82b1-c875cfb3cf56\" xlink:actuate=\"onRequest\" xlink:href=\"psysml:dfe553ed-92b1-45a3-82b1-c875cfb3cf56\" xlink:show=\"new\" xlink:title=\"psysml:dfe553ed-92b1-45a3-82b1-c875cfb3cf56\" xlink:type=\"simple\"><path d=\"M1111,130.46 C1111,145.87 1111,162.52 1111,176.87 \" fill=\"none\" id=\"E4&lt;-E5\" style=\"stroke: #A80036; stroke-width: 1.0;\"/><polygon fill=\"#FFFFFF\" points=\"1111,117.33,1107,123.33,1111,129.33,1115,123.33,1111,117.33\" style=\"stroke: #A80036; stroke-width: 1.0;\"/><text fill=\"#000000\" font-family=\"sans-serif\" font-size=\"13\" lengthAdjust=\"spacingAndGlyphs\" textLength=\"8\" x=\"1102.2875\" y=\"165.8612\">1</text></a><!--MD5=[15ebcb19ae302d9b601edb458606d402]\n",
       "link E5 to E2--><a href=\"psysml:7cfd1003-3fe0-4a32-a3a1-13a5c8efedf2\" target=\"_top\" title=\"psysml:7cfd1003-3fe0-4a32-a3a1-13a5c8efedf2\" xlink:actuate=\"onRequest\" xlink:href=\"psysml:7cfd1003-3fe0-4a32-a3a1-13a5c8efedf2\" xlink:show=\"new\" xlink:title=\"psysml:7cfd1003-3fe0-4a32-a3a1-13a5c8efedf2\" xlink:type=\"simple\"><path d=\"M1111,253.19 C1111,265.5 1111,279.46 1111,292.78 \" fill=\"none\" id=\"E5-&gt;E2\" style=\"stroke: #A80036; stroke-width: 1.0;\"/><polygon fill=\"#FFFFFF\" points=\"1111,312.86,1104,293.86,1118,293.86,1111,312.86\" style=\"stroke: #A80036; stroke-width: 1.0;\"/><ellipse cx=\"1106\" cy=\"288.16\" fill=\"#A80036\" rx=\"2\" ry=\"2\" style=\"stroke: #A80036; stroke-width: 1.0;\"/><ellipse cx=\"1116\" cy=\"288.16\" fill=\"#A80036\" rx=\"2\" ry=\"2\" style=\"stroke: #A80036; stroke-width: 1.0;\"/></a><!--MD5=[6db378b65e1aef66a01cb3103812b399]\n",
       "reverse link E4 to E6--><a href=\"psysml:56232501-f921-4851-b5f9-a91b366c1c7b\" target=\"_top\" title=\"psysml:56232501-f921-4851-b5f9-a91b366c1c7b\" xlink:actuate=\"onRequest\" xlink:href=\"psysml:56232501-f921-4851-b5f9-a91b366c1c7b\" xlink:show=\"new\" xlink:title=\"psysml:56232501-f921-4851-b5f9-a91b366c1c7b\" xlink:type=\"simple\"><path d=\"M1171.3,125.14 C1193.78,141.97 1219,160.85 1240.41,176.87 \" fill=\"none\" id=\"E4&lt;-E6\" style=\"stroke: #A80036; stroke-width: 1.0;\"/><polygon fill=\"#FFFFFF\" points=\"1160.86,117.33,1163.2645,124.1284,1170.4647,124.5237,1168.0603,117.7253,1160.86,117.33\" style=\"stroke: #A80036; stroke-width: 1.0;\"/><text fill=\"#000000\" font-family=\"sans-serif\" font-size=\"13\" lengthAdjust=\"spacingAndGlyphs\" textLength=\"8\" x=\"1222.8643\" y=\"165.8612\">1</text></a><!--MD5=[2351f337d6de0f557b50152ba70847b5]\n",
       "link E6 to E2--><a href=\"psysml:b3767e4f-9e3f-4162-9e5b-3e184cb0e1ab\" target=\"_top\" title=\"psysml:b3767e4f-9e3f-4162-9e5b-3e184cb0e1ab\" xlink:actuate=\"onRequest\" xlink:href=\"psysml:b3767e4f-9e3f-4162-9e5b-3e184cb0e1ab\" xlink:show=\"new\" xlink:title=\"psysml:b3767e4f-9e3f-4162-9e5b-3e184cb0e1ab\" xlink:type=\"simple\"><path d=\"M1239.18,253.19 C1218.86,268.06 1195.24,285.35 1173.85,301.01 \" fill=\"none\" id=\"E6-&gt;E2\" style=\"stroke: #A80036; stroke-width: 1.0;\"/><polygon fill=\"#FFFFFF\" points=\"1157.65,312.86,1168.8581,295.9965,1177.1198,307.2988,1157.65,312.86\" style=\"stroke: #A80036; stroke-width: 1.0;\"/><ellipse cx=\"1174.64\" cy=\"294.2474\" fill=\"#A80036\" rx=\"2\" ry=\"2\" style=\"stroke: #A80036; stroke-width: 1.0;\"/><ellipse cx=\"1180.5412\" cy=\"302.3205\" fill=\"#A80036\" rx=\"2\" ry=\"2\" style=\"stroke: #A80036; stroke-width: 1.0;\"/></a><!--MD5=[a919e0967d6f3de553dc51b9865a1d6d]\n",
       "link E10 to E7--><a href=\"psysml:650eb0f7-ec08-4309-80b6-1e90e34b9690\" target=\"_top\" title=\"psysml:650eb0f7-ec08-4309-80b6-1e90e34b9690\" xlink:actuate=\"onRequest\" xlink:href=\"psysml:650eb0f7-ec08-4309-80b6-1e90e34b9690\" xlink:show=\"new\" xlink:title=\"psysml:650eb0f7-ec08-4309-80b6-1e90e34b9690\" xlink:type=\"simple\"><path d=\"M634.97,117.15 C660.125,130.315 688.975,145.415 716.2925,159.7138 C719.7072,161.5011 723.0979,163.2759 726.4545,165.0329 \" fill=\"none\" id=\"E10-&gt;E7\" style=\"stroke: #A80036; stroke-width: 1.0;\"/><polygon fill=\"#FFFFFF\" points=\"726.4545,165.0329,706.3749,162.4234,712.8674,150.0199,726.4545,165.0329\" style=\"stroke: #A80036; stroke-width: 1.0;\"/><ellipse cx=\"702.2524\" cy=\"158.0081\" fill=\"#A80036\" rx=\"2\" ry=\"2\" style=\"stroke: #A80036; stroke-width: 1.0;\"/><ellipse cx=\"706.8899\" cy=\"149.1485\" fill=\"#A80036\" rx=\"2\" ry=\"2\" style=\"stroke: #A80036; stroke-width: 1.0;\"/></a><!--MD5=[3b014726e4b42f6eb78507e3f79ce926]\n",
       "@startuml\r\n",
       " \r\n",
       "package \"CalculationExample\" as E1  [[psysml:9a950c4d-df47-4bf2-a127-6824d456053c ]]  {\r\n",
       "comp def \"VehiclePart\" as E2 << << (B,green) >> [[psysml:240f00ab-b9bf-457e-9376-98b0b5e156bb ]] {\r\n",
       "- - attributes - -\r\n",
       "m: MassValue\r\n",
       "}\r\n",
       "comp def \"Vehicle\" as E3 << << (B,green) >> [[psysml:240db56f-6d8c-4faf-8b3c-f8974d12918d ]] {\r\n",
       "}\r\n",
       "comp usage \"vehicle: Vehicle \" as E4 << << (P,limegreen) part>> [[psysml:ce00e2ad-3315-43f7-b2e6-6ce884a27309 ]] {\r\n",
       "- - attributes - -\r\n",
       "^m: MassValue\r\n",
       "}\r\n",
       "comp usage \"eng: VehiclePart \" as E5 << << (P,limegreen) part>> [[psysml:83fc889d-b3c1-4be4-83aa-24728b198254 ]] {\r\n",
       "- - attributes - -\r\n",
       "^m: MassValue\r\n",
       "}\r\n",
       "comp usage \"trans: VehiclePart \" as E6 << << (P,limegreen) part>> [[psysml:9ad03ab5-4ba7-4600-8f6c-f33bd21910a1 ]] {\r\n",
       "- - attributes - -\r\n",
       "^m: MassValue\r\n",
       "}\r\n",
       "rec def \"MassSum\" as E7 << <<(B,lemonchiffon) calculation  def>> [[psysml:425e038d-47d6-48b2-bd42-a030f1074fc4 ]] {\r\n",
       "portin \"partMasses\" as E8  [[psysml:b45e328f-a4a8-4519-9228-274640d6e043 ]] \r\n",
       "portout \"totalMass\" as E9  [[psysml:712f9e49-cc72-40cc-a5b0-9958e3b93d47 ]] \r\n",
       "}\r\n",
       "\r\n",
       "comp usage \"ms: MassSum \" as E10 << <<(U,orange) calculation>> [[psysml:e012d373-591a-4cf2-b53b-d810c6dd562d ]] {\r\n",
       "- - parameters - -\r\n",
       "<b>in</b> partMasses= (vehicle.eng.m, vehicle.trans.m); \r\n",
       "}\r\n",
       "comp usage \"vehicles \" as E11 << << (P,limegreen) part>> [[psysml:e4253433-368c-4e86-8a3c-6b186419df89 ]] {\r\n",
       "}\r\n",
       "comp usage \"masses1 \" as E12 << <<(U,orange) attribute>> [[psysml:03468340-4ee1-4dfd-ba23-9337b31e6caf ]] {\r\n",
       "}\r\n",
       "comp usage \"masses2 \" as E13 << <<(U,orange) attribute>> [[psysml:a35488ce-7eb0-470e-9ecc-f7a0c28bc139 ]] {\r\n",
       "}\r\n",
       "}\r\n",
       "E3 - -|> E2 [[psysml:2113862d-3e36-4f2a-be29-5fbeffc35ef5 ]] \r\n",
       "E4 - -:|> E3 [[psysml:3f6bcc61-006c-4905-be22-168150e04931 ]] \r\n",
       "E4 o- - \"1\"E5 [[psysml:dfe553ed-92b1-45a3-82b1-c875cfb3cf56 ]] \r\n",
       "E5 - -:|> E2 [[psysml:7cfd1003-3fe0-4a32-a3a1-13a5c8efedf2 ]] \r\n",
       "E4 o- - \"1\"E6 [[psysml:56232501-f921-4851-b5f9-a91b366c1c7b ]] \r\n",
       "E6 - -:|> E2 [[psysml:b3767e4f-9e3f-4162-9e5b-3e184cb0e1ab ]] \r\n",
       "E10 - -:|> E7 [[psysml:650eb0f7-ec08-4309-80b6-1e90e34b9690 ]] \r\n",
       "@enduml\r\n",
       "\n",
       "PlantUML version 1.2020.13(Sat Jun 13 12:26:38 UTC 2020)\n",
       "(EPL source distribution)\n",
       "Java Runtime: OpenJDK Runtime Environment\n",
       "JVM: OpenJDK 64-Bit Server VM\n",
       "Default Encoding: UTF-8\n",
       "Language: en\n",
       "Country: null\n",
       "--></g></svg>"
      ]
     },
     "execution_count": 30,
     "metadata": {},
     "output_type": "execute_result"
    }
   ],
   "source": [
    "%viz --style=\"PLANTUML\" --view=\"Default\" \"CalculationExample\""
   ]
  },
  {
   "cell_type": "code",
   "execution_count": 31,
   "id": "4ca86be7",
   "metadata": {
    "execution": {
     "iopub.execute_input": "2022-08-19T08:22:02.713570Z",
     "iopub.status.busy": "2022-08-19T08:22:02.713134Z",
     "iopub.status.idle": "2022-08-19T08:22:02.780801Z",
     "shell.execute_reply": "2022-08-19T08:22:02.779238Z"
    }
   },
   "outputs": [
    {
     "data": {
      "image/svg+xml": [
       "<?xml version=\"1.0\" encoding=\"UTF-8\" standalone=\"no\"?><svg xmlns=\"http://www.w3.org/2000/svg\" xmlns:xlink=\"http://www.w3.org/1999/xlink\" contentScriptType=\"application/ecmascript\" contentStyleType=\"text/css\" height=\"411px\" preserveAspectRatio=\"none\" style=\"width:916px;height:411px;\" version=\"1.1\" viewBox=\"0 0 916 411\" width=\"916px\" zoomAndPan=\"magnify\"><defs><filter height=\"300%\" id=\"f1mx4tgyy5t4v9\" width=\"300%\" x=\"-1\" y=\"-1\"><feGaussianBlur result=\"blurOut\" stdDeviation=\"2.0\"/><feColorMatrix in=\"blurOut\" result=\"blurOut2\" type=\"matrix\" values=\"0 0 0 0 0 0 0 0 0 0 0 0 0 0 0 0 0 0 .4 0\"/><feOffset dx=\"4.0\" dy=\"4.0\" in=\"blurOut2\" result=\"blurOut3\"/><feBlend in=\"SourceGraphic\" in2=\"blurOut3\" mode=\"normal\"/></filter></defs><g><!--MD5=[fbc87193dbaf4d95561dea2c320d4a47]\n",
       "cluster E1--><a href=\"psysml:9a950c4d-df47-4bf2-a127-6824d456053c\" target=\"_top\" title=\"psysml:9a950c4d-df47-4bf2-a127-6824d456053c\" xlink:actuate=\"onRequest\" xlink:href=\"psysml:9a950c4d-df47-4bf2-a127-6824d456053c\" xlink:show=\"new\" xlink:title=\"psysml:9a950c4d-df47-4bf2-a127-6824d456053c\" xlink:type=\"simple\"><polygon fill=\"#FFFFFF\" filter=\"url(#f1mx4tgyy5t4v9)\" points=\"16,6,155,6,162,28.2969,894,28.2969,894,399,16,399,16,6\" style=\"stroke: #000000; stroke-width: 1.5;\"/><line style=\"stroke: #000000; stroke-width: 1.5;\" x1=\"16\" x2=\"162\" y1=\"28.2969\" y2=\"28.2969\"/><text fill=\"#000000\" font-family=\"sans-serif\" font-size=\"14\" font-weight=\"bold\" lengthAdjust=\"spacingAndGlyphs\" textLength=\"133\" x=\"20\" y=\"20.9951\">CalculationExample</text></a><!--MD5=[b4997ac47864f28c2f74865a473b2911]\n",
       "class E2--><a href=\"psysml:240f00ab-b9bf-457e-9376-98b0b5e156bb\" target=\"_top\" title=\"psysml:240f00ab-b9bf-457e-9376-98b0b5e156bb\" xlink:actuate=\"onRequest\" xlink:href=\"psysml:240f00ab-b9bf-457e-9376-98b0b5e156bb\" xlink:show=\"new\" xlink:title=\"psysml:240f00ab-b9bf-457e-9376-98b0b5e156bb\" xlink:type=\"simple\"><rect fill=\"#FEFECE\" filter=\"url(#f1mx4tgyy5t4v9)\" height=\"69.6094\" id=\"E2\" style=\"stroke: #A80036; stroke-width: 1.5;\" width=\"103\" x=\"573.5\" y=\"313\"/><ellipse cx=\"588.5\" cy=\"329\" fill=\"#008000\" rx=\"11\" ry=\"11\" style=\"stroke: #A80036; stroke-width: 1.0;\"/><path d=\"M585.375,334 L585.375,323.4063 L588.6094,323.4063 Q590.5156,323.4063 591.4219,324.1563 Q592.3438,324.9063 592.3438,326.0781 Q592.3438,326.7656 591.9531,327.4219 Q591.5781,328.0781 590.8594,328.375 Q591.7188,328.75 592.2344,329.4375 Q592.75,330.125 592.75,330.9375 Q592.75,332.3125 591.7188,333.1563 Q590.7031,334 588.5938,334 L585.375,334 Z M587.2969,327.6406 L588.4531,327.6406 Q589.5781,327.6406 589.9844,327.2656 Q590.4063,326.875 590.4063,326.25 Q590.4063,325.6719 589.9844,325.3125 Q589.5625,324.9531 588.625,324.9531 L587.2969,324.9531 L587.2969,327.6406 Z M587.2969,332.4219 L588.7969,332.4219 Q589.7031,332.4219 590.2344,332.0313 Q590.7656,331.6406 590.7656,330.8906 Q590.7656,330.125 590.2656,329.6563 Q589.7656,329.1719 588.5,329.1719 L587.2969,329.1719 L587.2969,332.4219 Z \"/><text fill=\"#000000\" font-family=\"sans-serif\" font-size=\"12\" lengthAdjust=\"spacingAndGlyphs\" textLength=\"71\" x=\"602.5\" y=\"333.1543\">VehiclePart</text><line style=\"stroke: #A80036; stroke-width: 1.5;\" x1=\"574.5\" x2=\"675.5\" y1=\"345\" y2=\"345\"/><text fill=\"#000000\" font-family=\"sans-serif\" font-size=\"11\" lengthAdjust=\"spacingAndGlyphs\" textLength=\"80\" x=\"579.5\" y=\"376.0151\">m: MassValue</text><line style=\"stroke: #A80036; stroke-width: 1.0;\" x1=\"574.5\" x2=\"597.5\" y1=\"359.4023\" y2=\"359.4023\"/><text fill=\"#000000\" font-family=\"sans-serif\" font-size=\"11\" lengthAdjust=\"spacingAndGlyphs\" textLength=\"55\" x=\"597.5\" y=\"362.7104\">attributes</text><line style=\"stroke: #A80036; stroke-width: 1.0;\" x1=\"652.5\" x2=\"675.5\" y1=\"359.4023\" y2=\"359.4023\"/></a><!--MD5=[09b614a08d8cba4a07c9adeb5e0fee81]\n",
       "class E3--><a href=\"psysml:240db56f-6d8c-4faf-8b3c-f8974d12918d\" target=\"_top\" title=\"psysml:240db56f-6d8c-4faf-8b3c-f8974d12918d\" xlink:actuate=\"onRequest\" xlink:href=\"psysml:240db56f-6d8c-4faf-8b3c-f8974d12918d\" xlink:show=\"new\" xlink:title=\"psysml:240db56f-6d8c-4faf-8b3c-f8974d12918d\" xlink:type=\"simple\"><rect fill=\"#FEFECE\" filter=\"url(#f1mx4tgyy5t4v9)\" height=\"40\" id=\"E3\" style=\"stroke: #A80036; stroke-width: 1.5;\" width=\"77\" x=\"443.5\" y=\"195\"/><ellipse cx=\"458.5\" cy=\"211\" fill=\"#008000\" rx=\"11\" ry=\"11\" style=\"stroke: #A80036; stroke-width: 1.0;\"/><path d=\"M455.375,216 L455.375,205.4063 L458.6094,205.4063 Q460.5156,205.4063 461.4219,206.1563 Q462.3438,206.9063 462.3438,208.0781 Q462.3438,208.7656 461.9531,209.4219 Q461.5781,210.0781 460.8594,210.375 Q461.7188,210.75 462.2344,211.4375 Q462.75,212.125 462.75,212.9375 Q462.75,214.3125 461.7188,215.1563 Q460.7031,216 458.5938,216 L455.375,216 Z M457.2969,209.6406 L458.4531,209.6406 Q459.5781,209.6406 459.9844,209.2656 Q460.4063,208.875 460.4063,208.25 Q460.4063,207.6719 459.9844,207.3125 Q459.5625,206.9531 458.625,206.9531 L457.2969,206.9531 L457.2969,209.6406 Z M457.2969,214.4219 L458.7969,214.4219 Q459.7031,214.4219 460.2344,214.0313 Q460.7656,213.6406 460.7656,212.8906 Q460.7656,212.125 460.2656,211.6563 Q459.7656,211.1719 458.5,211.1719 L457.2969,211.1719 L457.2969,214.4219 Z \"/><text fill=\"#000000\" font-family=\"sans-serif\" font-size=\"12\" lengthAdjust=\"spacingAndGlyphs\" textLength=\"45\" x=\"472.5\" y=\"215.1543\">Vehicle</text><line style=\"stroke: #A80036; stroke-width: 1.5;\" x1=\"444.5\" x2=\"519.5\" y1=\"227\" y2=\"227\"/></a><!--MD5=[ebbe1d658d1005bcc118a6aa81145e00]\n",
       "class E4--><a href=\"psysml:ce00e2ad-3315-43f7-b2e6-6ce884a27309\" target=\"_top\" title=\"psysml:ce00e2ad-3315-43f7-b2e6-6ce884a27309\" xlink:actuate=\"onRequest\" xlink:href=\"psysml:ce00e2ad-3315-43f7-b2e6-6ce884a27309\" xlink:show=\"new\" xlink:title=\"psysml:ce00e2ad-3315-43f7-b2e6-6ce884a27309\" xlink:type=\"simple\"><rect fill=\"#FEFECE\" filter=\"url(#f1mx4tgyy5t4v9)\" height=\"75.5469\" id=\"E4\" rx=\"10\" ry=\"10\" style=\"stroke: #A80036; stroke-width: 1.5;\" width=\"132\" x=\"746\" y=\"41\"/><ellipse cx=\"761\" cy=\"59.9688\" fill=\"#32CD32\" rx=\"11\" ry=\"11\" style=\"stroke: #A80036; stroke-width: 1.0;\"/><path d=\"M757.8125,64.9688 L757.8125,54.375 L761.4219,54.375 Q762.6406,54.375 763.4375,54.8125 Q764.2344,55.2344 764.6094,55.9375 Q765,56.6406 765,57.4844 Q765,58.3281 764.625,59.0156 Q764.2656,59.7031 763.4688,60.125 Q762.6875,60.5313 761.5,60.5313 L759.7656,60.5313 L759.7656,64.9688 L757.8125,64.9688 Z M759.7656,58.9375 L761.375,58.9375 Q762.1875,58.9375 762.6094,58.5313 Q763.0313,58.125 763.0313,57.4844 Q763.0313,56.8594 762.6094,56.4531 Q762.1875,56.0469 761.3906,56.0469 L759.7656,56.0469 L759.7656,58.9375 Z \"/><text fill=\"#000000\" font-family=\"sans-serif\" font-size=\"12\" font-style=\"italic\" lengthAdjust=\"spacingAndGlyphs\" textLength=\"40\" x=\"805\" y=\"57.1387\">«part»</text><text fill=\"#000000\" font-family=\"sans-serif\" font-size=\"12\" lengthAdjust=\"spacingAndGlyphs\" textLength=\"96\" x=\"775\" y=\"71.1074\">vehicle: Vehicle</text><line style=\"stroke: #A80036; stroke-width: 1.5;\" x1=\"747\" x2=\"877\" y1=\"78.9375\" y2=\"78.9375\"/><text fill=\"#000000\" font-family=\"sans-serif\" font-size=\"11\" lengthAdjust=\"spacingAndGlyphs\" textLength=\"89\" x=\"752\" y=\"109.9526\">^m: MassValue</text><line style=\"stroke: #A80036; stroke-width: 1.0;\" x1=\"747\" x2=\"784.5\" y1=\"93.3398\" y2=\"93.3398\"/><text fill=\"#000000\" font-family=\"sans-serif\" font-size=\"11\" lengthAdjust=\"spacingAndGlyphs\" textLength=\"55\" x=\"784.5\" y=\"96.6479\">attributes</text><line style=\"stroke: #A80036; stroke-width: 1.0;\" x1=\"839.5\" x2=\"877\" y1=\"93.3398\" y2=\"93.3398\"/></a><!--MD5=[270fce915f116d4de14055a7c1d9a0f3]\n",
       "class E5--><a href=\"psysml:83fc889d-b3c1-4be4-83aa-24728b198254\" target=\"_top\" title=\"psysml:83fc889d-b3c1-4be4-83aa-24728b198254\" xlink:actuate=\"onRequest\" xlink:href=\"psysml:83fc889d-b3c1-4be4-83aa-24728b198254\" xlink:show=\"new\" xlink:title=\"psysml:83fc889d-b3c1-4be4-83aa-24728b198254\" xlink:type=\"simple\"><rect fill=\"#FEFECE\" filter=\"url(#f1mx4tgyy5t4v9)\" height=\"75.5469\" id=\"E5\" rx=\"10\" ry=\"10\" style=\"stroke: #A80036; stroke-width: 1.5;\" width=\"139\" x=\"555.5\" y=\"177\"/><ellipse cx=\"570.5\" cy=\"195.9688\" fill=\"#32CD32\" rx=\"11\" ry=\"11\" style=\"stroke: #A80036; stroke-width: 1.0;\"/><path d=\"M567.3125,200.9688 L567.3125,190.375 L570.9219,190.375 Q572.1406,190.375 572.9375,190.8125 Q573.7344,191.2344 574.1094,191.9375 Q574.5,192.6406 574.5,193.4844 Q574.5,194.3281 574.125,195.0156 Q573.7656,195.7031 572.9688,196.125 Q572.1875,196.5313 571,196.5313 L569.2656,196.5313 L569.2656,200.9688 L567.3125,200.9688 Z M569.2656,194.9375 L570.875,194.9375 Q571.6875,194.9375 572.1094,194.5313 Q572.5313,194.125 572.5313,193.4844 Q572.5313,192.8594 572.1094,192.4531 Q571.6875,192.0469 570.8906,192.0469 L569.2656,192.0469 L569.2656,194.9375 Z \"/><text fill=\"#000000\" font-family=\"sans-serif\" font-size=\"12\" font-style=\"italic\" lengthAdjust=\"spacingAndGlyphs\" textLength=\"40\" x=\"618\" y=\"193.1387\">«part»</text><text fill=\"#000000\" font-family=\"sans-serif\" font-size=\"12\" lengthAdjust=\"spacingAndGlyphs\" textLength=\"103\" x=\"584.5\" y=\"207.1074\">eng: VehiclePart</text><line style=\"stroke: #A80036; stroke-width: 1.5;\" x1=\"556.5\" x2=\"693.5\" y1=\"214.9375\" y2=\"214.9375\"/><text fill=\"#000000\" font-family=\"sans-serif\" font-size=\"11\" lengthAdjust=\"spacingAndGlyphs\" textLength=\"89\" x=\"561.5\" y=\"245.9526\">^m: MassValue</text><line style=\"stroke: #A80036; stroke-width: 1.0;\" x1=\"556.5\" x2=\"597.5\" y1=\"229.3398\" y2=\"229.3398\"/><text fill=\"#000000\" font-family=\"sans-serif\" font-size=\"11\" lengthAdjust=\"spacingAndGlyphs\" textLength=\"55\" x=\"597.5\" y=\"232.6479\">attributes</text><line style=\"stroke: #A80036; stroke-width: 1.0;\" x1=\"652.5\" x2=\"693.5\" y1=\"229.3398\" y2=\"229.3398\"/></a><!--MD5=[60a26617385b1d2d0262a64233df1f8d]\n",
       "class E6--><a href=\"psysml:9ad03ab5-4ba7-4600-8f6c-f33bd21910a1\" target=\"_top\" title=\"psysml:9ad03ab5-4ba7-4600-8f6c-f33bd21910a1\" xlink:actuate=\"onRequest\" xlink:href=\"psysml:9ad03ab5-4ba7-4600-8f6c-f33bd21910a1\" xlink:show=\"new\" xlink:title=\"psysml:9ad03ab5-4ba7-4600-8f6c-f33bd21910a1\" xlink:type=\"simple\"><rect fill=\"#FEFECE\" filter=\"url(#f1mx4tgyy5t4v9)\" height=\"75.5469\" id=\"E6\" rx=\"10\" ry=\"10\" style=\"stroke: #A80036; stroke-width: 1.5;\" width=\"148\" x=\"730\" y=\"177\"/><ellipse cx=\"745\" cy=\"195.9688\" fill=\"#32CD32\" rx=\"11\" ry=\"11\" style=\"stroke: #A80036; stroke-width: 1.0;\"/><path d=\"M741.8125,200.9688 L741.8125,190.375 L745.4219,190.375 Q746.6406,190.375 747.4375,190.8125 Q748.2344,191.2344 748.6094,191.9375 Q749,192.6406 749,193.4844 Q749,194.3281 748.625,195.0156 Q748.2656,195.7031 747.4688,196.125 Q746.6875,196.5313 745.5,196.5313 L743.7656,196.5313 L743.7656,200.9688 L741.8125,200.9688 Z M743.7656,194.9375 L745.375,194.9375 Q746.1875,194.9375 746.6094,194.5313 Q747.0313,194.125 747.0313,193.4844 Q747.0313,192.8594 746.6094,192.4531 Q746.1875,192.0469 745.3906,192.0469 L743.7656,192.0469 L743.7656,194.9375 Z \"/><text fill=\"#000000\" font-family=\"sans-serif\" font-size=\"12\" font-style=\"italic\" lengthAdjust=\"spacingAndGlyphs\" textLength=\"40\" x=\"797\" y=\"193.1387\">«part»</text><text fill=\"#000000\" font-family=\"sans-serif\" font-size=\"12\" lengthAdjust=\"spacingAndGlyphs\" textLength=\"112\" x=\"759\" y=\"207.1074\">trans: VehiclePart</text><line style=\"stroke: #A80036; stroke-width: 1.5;\" x1=\"731\" x2=\"877\" y1=\"214.9375\" y2=\"214.9375\"/><text fill=\"#000000\" font-family=\"sans-serif\" font-size=\"11\" lengthAdjust=\"spacingAndGlyphs\" textLength=\"89\" x=\"736\" y=\"245.9526\">^m: MassValue</text><line style=\"stroke: #A80036; stroke-width: 1.0;\" x1=\"731\" x2=\"776.5\" y1=\"229.3398\" y2=\"229.3398\"/><text fill=\"#000000\" font-family=\"sans-serif\" font-size=\"11\" lengthAdjust=\"spacingAndGlyphs\" textLength=\"55\" x=\"776.5\" y=\"232.6479\">attributes</text><line style=\"stroke: #A80036; stroke-width: 1.0;\" x1=\"831.5\" x2=\"877\" y1=\"229.3398\" y2=\"229.3398\"/></a><!--MD5=[2156ba9850f5573cc1fc38a6a4b2f02b]\n",
       "class E7--><a href=\"psysml:425e038d-47d6-48b2-bd42-a030f1074fc4\" target=\"_top\" title=\"psysml:425e038d-47d6-48b2-bd42-a030f1074fc4\" xlink:actuate=\"onRequest\" xlink:href=\"psysml:425e038d-47d6-48b2-bd42-a030f1074fc4\" xlink:show=\"new\" xlink:title=\"psysml:425e038d-47d6-48b2-bd42-a030f1074fc4\" xlink:type=\"simple\"><rect fill=\"#FEFECE\" filter=\"url(#f1mx4tgyy5t4v9)\" height=\"45.9375\" id=\"E7\" style=\"stroke: #A80036; stroke-width: 1.5;\" width=\"138\" x=\"270\" y=\"192\"/><ellipse cx=\"285\" cy=\"210.9688\" fill=\"#FFFACD\" rx=\"11\" ry=\"11\" style=\"stroke: #A80036; stroke-width: 1.0;\"/><path d=\"M281.875,215.9688 L281.875,205.375 L285.1094,205.375 Q287.0156,205.375 287.9219,206.125 Q288.8438,206.875 288.8438,208.0469 Q288.8438,208.7344 288.4531,209.3906 Q288.0781,210.0469 287.3594,210.3438 Q288.2188,210.7188 288.7344,211.4063 Q289.25,212.0938 289.25,212.9063 Q289.25,214.2813 288.2188,215.125 Q287.2031,215.9688 285.0938,215.9688 L281.875,215.9688 Z M283.7969,209.6094 L284.9531,209.6094 Q286.0781,209.6094 286.4844,209.2344 Q286.9063,208.8438 286.9063,208.2188 Q286.9063,207.6406 286.4844,207.2813 Q286.0625,206.9219 285.125,206.9219 L283.7969,206.9219 L283.7969,209.6094 Z M283.7969,214.3906 L285.2969,214.3906 Q286.2031,214.3906 286.7344,214 Q287.2656,213.6094 287.2656,212.8594 Q287.2656,212.0938 286.7656,211.625 Q286.2656,211.1406 285,211.1406 L283.7969,211.1406 L283.7969,214.3906 Z \"/><text fill=\"#000000\" font-family=\"sans-serif\" font-size=\"12\" font-style=\"italic\" lengthAdjust=\"spacingAndGlyphs\" textLength=\"110\" x=\"297\" y=\"208.1387\">«calculation  def»</text><text fill=\"#000000\" font-family=\"sans-serif\" font-size=\"12\" lengthAdjust=\"spacingAndGlyphs\" textLength=\"59\" x=\"322.5\" y=\"222.1074\">MassSum</text><line style=\"stroke: #A80036; stroke-width: 1.5;\" x1=\"271\" x2=\"407\" y1=\"229.9375\" y2=\"229.9375\"/></a><!--MD5=[b9389687b975829384b498ac4b7476b2]\n",
       "class E8--><a href=\"psysml:e012d373-591a-4cf2-b53b-d810c6dd562d\" target=\"_top\" title=\"psysml:e012d373-591a-4cf2-b53b-d810c6dd562d\" xlink:actuate=\"onRequest\" xlink:href=\"psysml:e012d373-591a-4cf2-b53b-d810c6dd562d\" xlink:show=\"new\" xlink:title=\"psysml:e012d373-591a-4cf2-b53b-d810c6dd562d\" xlink:type=\"simple\"><rect fill=\"#FEFECE\" filter=\"url(#f1mx4tgyy5t4v9)\" height=\"75.5469\" id=\"E8\" rx=\"10\" ry=\"10\" style=\"stroke: #A80036; stroke-width: 1.5;\" width=\"293\" x=\"417.5\" y=\"41\"/><ellipse cx=\"515.25\" cy=\"59.9688\" fill=\"#FFA500\" rx=\"11\" ry=\"11\" style=\"stroke: #A80036; stroke-width: 1.0;\"/><path d=\"M515,65.4375 Q513.25,65.4375 512.2969,64.4063 Q511.3594,63.3594 511.3594,61.5156 L511.3594,54.625 L513.4219,54.625 L513.4219,54.7813 Q513.3281,54.875 513.2969,55.0156 Q513.2813,55.1406 513.2813,55.4063 L513.2813,61.5313 Q513.2813,62.625 513.6563,63.25 Q514.0313,63.875 515.0156,63.875 Q516,63.875 516.3906,63.25 Q516.7813,62.625 516.7813,61.4844 L516.7813,54.625 L518.6563,54.625 L518.6563,61.4688 Q518.6563,63.5 517.625,64.4688 Q516.6094,65.4375 515,65.4375 Z \"/><text fill=\"#000000\" font-family=\"sans-serif\" font-size=\"12\" font-style=\"italic\" lengthAdjust=\"spacingAndGlyphs\" textLength=\"82\" x=\"539.25\" y=\"57.1387\">«calculation»</text><text fill=\"#000000\" font-family=\"sans-serif\" font-size=\"12\" lengthAdjust=\"spacingAndGlyphs\" textLength=\"85\" x=\"535.75\" y=\"71.1074\">ms: MassSum</text><line style=\"stroke: #A80036; stroke-width: 1.5;\" x1=\"418.5\" x2=\"709.5\" y1=\"78.9375\" y2=\"78.9375\"/><text fill=\"#000000\" font-family=\"sans-serif\" font-size=\"11\" font-weight=\"bold\" lengthAdjust=\"spacingAndGlyphs\" textLength=\"10\" x=\"423.5\" y=\"109.9526\">in</text><text fill=\"#000000\" font-family=\"sans-serif\" font-size=\"11\" lengthAdjust=\"spacingAndGlyphs\" textLength=\"267\" x=\"437.5\" y=\"109.9526\">partMasses= (vehicle.eng.m, vehicle.trans.m);</text><line style=\"stroke: #A80036; stroke-width: 1.0;\" x1=\"418.5\" x2=\"530.5\" y1=\"93.3398\" y2=\"93.3398\"/><text fill=\"#000000\" font-family=\"sans-serif\" font-size=\"11\" lengthAdjust=\"spacingAndGlyphs\" textLength=\"67\" x=\"530.5\" y=\"96.6479\">parameters</text><line style=\"stroke: #A80036; stroke-width: 1.0;\" x1=\"597.5\" x2=\"709.5\" y1=\"93.3398\" y2=\"93.3398\"/></a><!--MD5=[fd4143e9d270a159db93a4ea2a975926]\n",
       "class E9--><a href=\"psysml:e4253433-368c-4e86-8a3c-6b186419df89\" target=\"_top\" title=\"psysml:e4253433-368c-4e86-8a3c-6b186419df89\" xlink:actuate=\"onRequest\" xlink:href=\"psysml:e4253433-368c-4e86-8a3c-6b186419df89\" xlink:show=\"new\" xlink:title=\"psysml:e4253433-368c-4e86-8a3c-6b186419df89\" xlink:type=\"simple\"><rect fill=\"#FEFECE\" filter=\"url(#f1mx4tgyy5t4v9)\" height=\"45.9375\" id=\"E9\" rx=\"10\" ry=\"10\" style=\"stroke: #A80036; stroke-width: 1.5;\" width=\"86\" x=\"296\" y=\"56\"/><ellipse cx=\"311\" cy=\"74.9688\" fill=\"#32CD32\" rx=\"11\" ry=\"11\" style=\"stroke: #A80036; stroke-width: 1.0;\"/><path d=\"M307.8125,79.9688 L307.8125,69.375 L311.4219,69.375 Q312.6406,69.375 313.4375,69.8125 Q314.2344,70.2344 314.6094,70.9375 Q315,71.6406 315,72.4844 Q315,73.3281 314.625,74.0156 Q314.2656,74.7031 313.4688,75.125 Q312.6875,75.5313 311.5,75.5313 L309.7656,75.5313 L309.7656,79.9688 L307.8125,79.9688 Z M309.7656,73.9375 L311.375,73.9375 Q312.1875,73.9375 312.6094,73.5313 Q313.0313,73.125 313.0313,72.4844 Q313.0313,71.8594 312.6094,71.4531 Q312.1875,71.0469 311.3906,71.0469 L309.7656,71.0469 L309.7656,73.9375 Z \"/><text fill=\"#000000\" font-family=\"sans-serif\" font-size=\"12\" font-style=\"italic\" lengthAdjust=\"spacingAndGlyphs\" textLength=\"40\" x=\"332\" y=\"72.1387\">«part»</text><text fill=\"#000000\" font-family=\"sans-serif\" font-size=\"12\" lengthAdjust=\"spacingAndGlyphs\" textLength=\"50\" x=\"325\" y=\"86.1074\">vehicles</text><line style=\"stroke: #A80036; stroke-width: 1.5;\" x1=\"297\" x2=\"381\" y1=\"93.9375\" y2=\"93.9375\"/></a><!--MD5=[96f4274e9e20536e775497830990834d]\n",
       "class E10--><a href=\"psysml:03468340-4ee1-4dfd-ba23-9337b31e6caf\" target=\"_top\" title=\"psysml:03468340-4ee1-4dfd-ba23-9337b31e6caf\" xlink:actuate=\"onRequest\" xlink:href=\"psysml:03468340-4ee1-4dfd-ba23-9337b31e6caf\" xlink:show=\"new\" xlink:title=\"psysml:03468340-4ee1-4dfd-ba23-9337b31e6caf\" xlink:type=\"simple\"><rect fill=\"#FEFECE\" filter=\"url(#f1mx4tgyy5t4v9)\" height=\"45.9375\" id=\"E10\" rx=\"10\" ry=\"10\" style=\"stroke: #A80036; stroke-width: 1.5;\" width=\"97\" x=\"163.5\" y=\"56\"/><ellipse cx=\"178.5\" cy=\"74.9688\" fill=\"#FFA500\" rx=\"11\" ry=\"11\" style=\"stroke: #A80036; stroke-width: 1.0;\"/><path d=\"M178.25,80.4375 Q176.5,80.4375 175.5469,79.4063 Q174.6094,78.3594 174.6094,76.5156 L174.6094,69.625 L176.6719,69.625 L176.6719,69.7813 Q176.5781,69.875 176.5469,70.0156 Q176.5313,70.1406 176.5313,70.4063 L176.5313,76.5313 Q176.5313,77.625 176.9063,78.25 Q177.2813,78.875 178.2656,78.875 Q179.25,78.875 179.6406,78.25 Q180.0313,77.625 180.0313,76.4844 L180.0313,69.625 L181.9063,69.625 L181.9063,76.4688 Q181.9063,78.5 180.875,79.4688 Q179.8594,80.4375 178.25,80.4375 Z \"/><text fill=\"#000000\" font-family=\"sans-serif\" font-size=\"12\" font-style=\"italic\" lengthAdjust=\"spacingAndGlyphs\" textLength=\"69\" x=\"190.5\" y=\"72.1387\">«attribute»</text><text fill=\"#000000\" font-family=\"sans-serif\" font-size=\"12\" lengthAdjust=\"spacingAndGlyphs\" textLength=\"56\" x=\"195\" y=\"86.1074\">masses1</text><line style=\"stroke: #A80036; stroke-width: 1.5;\" x1=\"164.5\" x2=\"259.5\" y1=\"93.9375\" y2=\"93.9375\"/></a><!--MD5=[1dd1bfd58a279cf63c5f349dbc8fc6a1]\n",
       "class E11--><a href=\"psysml:a35488ce-7eb0-470e-9ecc-f7a0c28bc139\" target=\"_top\" title=\"psysml:a35488ce-7eb0-470e-9ecc-f7a0c28bc139\" xlink:actuate=\"onRequest\" xlink:href=\"psysml:a35488ce-7eb0-470e-9ecc-f7a0c28bc139\" xlink:show=\"new\" xlink:title=\"psysml:a35488ce-7eb0-470e-9ecc-f7a0c28bc139\" xlink:type=\"simple\"><rect fill=\"#FEFECE\" filter=\"url(#f1mx4tgyy5t4v9)\" height=\"45.9375\" id=\"E11\" rx=\"10\" ry=\"10\" style=\"stroke: #A80036; stroke-width: 1.5;\" width=\"97\" x=\"31.5\" y=\"56\"/><ellipse cx=\"46.5\" cy=\"74.9688\" fill=\"#FFA500\" rx=\"11\" ry=\"11\" style=\"stroke: #A80036; stroke-width: 1.0;\"/><path d=\"M46.25,80.4375 Q44.5,80.4375 43.5469,79.4063 Q42.6094,78.3594 42.6094,76.5156 L42.6094,69.625 L44.6719,69.625 L44.6719,69.7813 Q44.5781,69.875 44.5469,70.0156 Q44.5313,70.1406 44.5313,70.4063 L44.5313,76.5313 Q44.5313,77.625 44.9063,78.25 Q45.2813,78.875 46.2656,78.875 Q47.25,78.875 47.6406,78.25 Q48.0313,77.625 48.0313,76.4844 L48.0313,69.625 L49.9063,69.625 L49.9063,76.4688 Q49.9063,78.5 48.875,79.4688 Q47.8594,80.4375 46.25,80.4375 Z \"/><text fill=\"#000000\" font-family=\"sans-serif\" font-size=\"12\" font-style=\"italic\" lengthAdjust=\"spacingAndGlyphs\" textLength=\"69\" x=\"58.5\" y=\"72.1387\">«attribute»</text><text fill=\"#000000\" font-family=\"sans-serif\" font-size=\"12\" lengthAdjust=\"spacingAndGlyphs\" textLength=\"56\" x=\"63\" y=\"86.1074\">masses2</text><line style=\"stroke: #A80036; stroke-width: 1.5;\" x1=\"32.5\" x2=\"127.5\" y1=\"93.9375\" y2=\"93.9375\"/></a><!--MD5=[05d275557350bfb9b23a4ef7222b4c39]\n",
       "link E3 to E2--><a href=\"psysml:2113862d-3e36-4f2a-be29-5fbeffc35ef5\" target=\"_top\" title=\"psysml:2113862d-3e36-4f2a-be29-5fbeffc35ef5\" xlink:actuate=\"onRequest\" xlink:href=\"psysml:2113862d-3e36-4f2a-be29-5fbeffc35ef5\" xlink:show=\"new\" xlink:title=\"psysml:2113862d-3e36-4f2a-be29-5fbeffc35ef5\" xlink:type=\"simple\"><path d=\"M502.79,235.05 C521.12,251.83 548.6,277.01 572.86,299.23 \" fill=\"none\" id=\"E3-&gt;E2\" style=\"stroke: #A80036; stroke-width: 1.0;\"/><polygon fill=\"none\" points=\"577.8,294.27,587.82,312.94,568.35,304.59,577.8,294.27\" style=\"stroke: #A80036; stroke-width: 1.0;\"/></a><!--MD5=[f0cdf4548168e5211fb3a02bf679d63a]\n",
       "link E4 to E3--><a href=\"psysml:3f6bcc61-006c-4905-be22-168150e04931\" target=\"_top\" title=\"psysml:3f6bcc61-006c-4905-be22-168150e04931\" xlink:actuate=\"onRequest\" xlink:href=\"psysml:3f6bcc61-006c-4905-be22-168150e04931\" xlink:show=\"new\" xlink:title=\"psysml:3f6bcc61-006c-4905-be22-168150e04931\" xlink:type=\"simple\"><path d=\"M745.79,109.96 C739.81,112.43 733.82,114.81 728,117 C645.13,148.23 617.94,138.89 538,177 C533.61,179.09 529.16,181.49 524.78,184.03 \" fill=\"none\" id=\"E4-&gt;E3\" style=\"stroke: #A80036; stroke-width: 1.0;\"/><polygon fill=\"#FFFFFF\" points=\"507.6,194.92,519.9085,178.842,527.3975,190.6705,507.6,194.92\" style=\"stroke: #A80036; stroke-width: 1.0;\"/><ellipse cx=\"525.7942\" cy=\"177.4827\" fill=\"#A80036\" rx=\"2\" ry=\"2\" style=\"stroke: #A80036; stroke-width: 1.0;\"/><ellipse cx=\"531.1436\" cy=\"185.9316\" fill=\"#A80036\" rx=\"2\" ry=\"2\" style=\"stroke: #A80036; stroke-width: 1.0;\"/></a><!--MD5=[62aa6af11e70f752912c1cb0466f24f7]\n",
       "reverse link E4 to E5--><a href=\"psysml:dfe553ed-92b1-45a3-82b1-c875cfb3cf56\" target=\"_top\" title=\"psysml:dfe553ed-92b1-45a3-82b1-c875cfb3cf56\" xlink:actuate=\"onRequest\" xlink:href=\"psysml:dfe553ed-92b1-45a3-82b1-c875cfb3cf56\" xlink:show=\"new\" xlink:title=\"psysml:dfe553ed-92b1-45a3-82b1-c875cfb3cf56\" xlink:type=\"simple\"><path d=\"M749.32,124.92 C725.76,141.8 699.27,160.78 676.81,176.87 \" fill=\"none\" id=\"E4&lt;-E5\" style=\"stroke: #A80036; stroke-width: 1.0;\"/><polygon fill=\"#FFFFFF\" points=\"759.91,117.33,752.7029,117.5717,750.1541,124.3173,757.3612,124.0756,759.91,117.33\" style=\"stroke: #A80036; stroke-width: 1.0;\"/><text fill=\"#000000\" font-family=\"sans-serif\" font-size=\"13\" lengthAdjust=\"spacingAndGlyphs\" textLength=\"8\" x=\"677.3262\" y=\"165.8612\">1</text></a><!--MD5=[15ebcb19ae302d9b601edb458606d402]\n",
       "link E5 to E2--><a href=\"psysml:7cfd1003-3fe0-4a32-a3a1-13a5c8efedf2\" target=\"_top\" title=\"psysml:7cfd1003-3fe0-4a32-a3a1-13a5c8efedf2\" xlink:actuate=\"onRequest\" xlink:href=\"psysml:7cfd1003-3fe0-4a32-a3a1-13a5c8efedf2\" xlink:show=\"new\" xlink:title=\"psysml:7cfd1003-3fe0-4a32-a3a1-13a5c8efedf2\" xlink:type=\"simple\"><path d=\"M625,253.19 C625,265.5 625,279.46 625,292.78 \" fill=\"none\" id=\"E5-&gt;E2\" style=\"stroke: #A80036; stroke-width: 1.0;\"/><polygon fill=\"#FFFFFF\" points=\"625,312.86,618,293.86,632,293.86,625,312.86\" style=\"stroke: #A80036; stroke-width: 1.0;\"/><ellipse cx=\"620\" cy=\"288.16\" fill=\"#A80036\" rx=\"2\" ry=\"2\" style=\"stroke: #A80036; stroke-width: 1.0;\"/><ellipse cx=\"630\" cy=\"288.16\" fill=\"#A80036\" rx=\"2\" ry=\"2\" style=\"stroke: #A80036; stroke-width: 1.0;\"/></a><!--MD5=[6db378b65e1aef66a01cb3103812b399]\n",
       "reverse link E4 to E6--><a href=\"psysml:56232501-f921-4851-b5f9-a91b366c1c7b\" target=\"_top\" title=\"psysml:56232501-f921-4851-b5f9-a91b366c1c7b\" xlink:actuate=\"onRequest\" xlink:href=\"psysml:56232501-f921-4851-b5f9-a91b366c1c7b\" xlink:show=\"new\" xlink:title=\"psysml:56232501-f921-4851-b5f9-a91b366c1c7b\" xlink:type=\"simple\"><path d=\"M808.99,130.46 C808.07,145.87 807.07,162.52 806.22,176.87 \" fill=\"none\" id=\"E4&lt;-E6\" style=\"stroke: #A80036; stroke-width: 1.0;\"/><polygon fill=\"#FFFFFF\" points=\"809.77,117.33,805.4212,123.0822,809.0584,129.3089,813.4072,123.5566,809.77,117.33\" style=\"stroke: #A80036; stroke-width: 1.0;\"/><text fill=\"#000000\" font-family=\"sans-serif\" font-size=\"13\" lengthAdjust=\"spacingAndGlyphs\" textLength=\"8\" x=\"797.9029\" y=\"165.8612\">1</text></a><!--MD5=[2351f337d6de0f557b50152ba70847b5]\n",
       "link E6 to E2--><a href=\"psysml:b3767e4f-9e3f-4162-9e5b-3e184cb0e1ab\" target=\"_top\" title=\"psysml:b3767e4f-9e3f-4162-9e5b-3e184cb0e1ab\" xlink:actuate=\"onRequest\" xlink:href=\"psysml:b3767e4f-9e3f-4162-9e5b-3e184cb0e1ab\" xlink:show=\"new\" xlink:title=\"psysml:b3767e4f-9e3f-4162-9e5b-3e184cb0e1ab\" xlink:type=\"simple\"><path d=\"M753.18,253.19 C732.86,268.06 709.24,285.35 687.85,301.01 \" fill=\"none\" id=\"E6-&gt;E2\" style=\"stroke: #A80036; stroke-width: 1.0;\"/><polygon fill=\"#FFFFFF\" points=\"671.65,312.86,682.8581,295.9965,691.1198,307.2988,671.65,312.86\" style=\"stroke: #A80036; stroke-width: 1.0;\"/><ellipse cx=\"688.64\" cy=\"294.2474\" fill=\"#A80036\" rx=\"2\" ry=\"2\" style=\"stroke: #A80036; stroke-width: 1.0;\"/><ellipse cx=\"694.5412\" cy=\"302.3205\" fill=\"#A80036\" rx=\"2\" ry=\"2\" style=\"stroke: #A80036; stroke-width: 1.0;\"/></a><!--MD5=[bfa3c8b0d15052fdf50ae9310b491027]\n",
       "link E8 to E7--><a href=\"psysml:650eb0f7-ec08-4309-80b6-1e90e34b9690\" target=\"_top\" title=\"psysml:650eb0f7-ec08-4309-80b6-1e90e34b9690\" xlink:actuate=\"onRequest\" xlink:href=\"psysml:650eb0f7-ec08-4309-80b6-1e90e34b9690\" xlink:show=\"new\" xlink:title=\"psysml:650eb0f7-ec08-4309-80b6-1e90e34b9690\" xlink:type=\"simple\"><path d=\"M501.62,117.15 C467.76,137.31 426.29,162.01 393.7,181.42 \" fill=\"none\" id=\"E8-&gt;E7\" style=\"stroke: #A80036; stroke-width: 1.0;\"/><polygon fill=\"#FFFFFF\" points=\"376.14,191.88,388.8869,176.1473,396.0471,188.1777,376.14,191.88\" style=\"stroke: #A80036; stroke-width: 1.0;\"/><ellipse cx=\"394.8079\" cy=\"174.9507\" fill=\"#A80036\" rx=\"2\" ry=\"2\" style=\"stroke: #A80036; stroke-width: 1.0;\"/><ellipse cx=\"399.9223\" cy=\"183.5439\" fill=\"#A80036\" rx=\"2\" ry=\"2\" style=\"stroke: #A80036; stroke-width: 1.0;\"/></a><!--MD5=[f334b7ebb8634c725b007bb7a522cecf]\n",
       "@startuml\r\n",
       " \r\n",
       "package \"CalculationExample\" as E1  [[psysml:9a950c4d-df47-4bf2-a127-6824d456053c ]]  {\r\n",
       "comp def \"VehiclePart\" as E2 << << (B,green) >> [[psysml:240f00ab-b9bf-457e-9376-98b0b5e156bb ]] {\r\n",
       "- - attributes - -\r\n",
       "m: MassValue\r\n",
       "}\r\n",
       "comp def \"Vehicle\" as E3 << << (B,green) >> [[psysml:240db56f-6d8c-4faf-8b3c-f8974d12918d ]] {\r\n",
       "}\r\n",
       "comp usage \"vehicle: Vehicle \" as E4 << << (P,limegreen) part>> [[psysml:ce00e2ad-3315-43f7-b2e6-6ce884a27309 ]] {\r\n",
       "- - attributes - -\r\n",
       "^m: MassValue\r\n",
       "}\r\n",
       "comp usage \"eng: VehiclePart \" as E5 << << (P,limegreen) part>> [[psysml:83fc889d-b3c1-4be4-83aa-24728b198254 ]] {\r\n",
       "- - attributes - -\r\n",
       "^m: MassValue\r\n",
       "}\r\n",
       "comp usage \"trans: VehiclePart \" as E6 << << (P,limegreen) part>> [[psysml:9ad03ab5-4ba7-4600-8f6c-f33bd21910a1 ]] {\r\n",
       "- - attributes - -\r\n",
       "^m: MassValue\r\n",
       "}\r\n",
       "comp def \"MassSum\" as E7 << <<(B,lemonchiffon) calculation  def>> [[psysml:425e038d-47d6-48b2-bd42-a030f1074fc4 ]] {\r\n",
       "}\r\n",
       "comp usage \"ms: MassSum \" as E8 << <<(U,orange) calculation>> [[psysml:e012d373-591a-4cf2-b53b-d810c6dd562d ]] {\r\n",
       "- - parameters - -\r\n",
       "<b>in</b> partMasses= (vehicle.eng.m, vehicle.trans.m); \r\n",
       "}\r\n",
       "comp usage \"vehicles \" as E9 << << (P,limegreen) part>> [[psysml:e4253433-368c-4e86-8a3c-6b186419df89 ]] {\r\n",
       "}\r\n",
       "comp usage \"masses1 \" as E10 << <<(U,orange) attribute>> [[psysml:03468340-4ee1-4dfd-ba23-9337b31e6caf ]] {\r\n",
       "}\r\n",
       "comp usage \"masses2 \" as E11 << <<(U,orange) attribute>> [[psysml:a35488ce-7eb0-470e-9ecc-f7a0c28bc139 ]] {\r\n",
       "}\r\n",
       "}\r\n",
       "E3 - -|> E2 [[psysml:2113862d-3e36-4f2a-be29-5fbeffc35ef5 ]] \r\n",
       "E4 - -:|> E3 [[psysml:3f6bcc61-006c-4905-be22-168150e04931 ]] \r\n",
       "E4 o- - \"1\"E5 [[psysml:dfe553ed-92b1-45a3-82b1-c875cfb3cf56 ]] \r\n",
       "E5 - -:|> E2 [[psysml:7cfd1003-3fe0-4a32-a3a1-13a5c8efedf2 ]] \r\n",
       "E4 o- - \"1\"E6 [[psysml:56232501-f921-4851-b5f9-a91b366c1c7b ]] \r\n",
       "E6 - -:|> E2 [[psysml:b3767e4f-9e3f-4162-9e5b-3e184cb0e1ab ]] \r\n",
       "E8 - -:|> E7 [[psysml:650eb0f7-ec08-4309-80b6-1e90e34b9690 ]] \r\n",
       "@enduml\r\n",
       "\n",
       "PlantUML version 1.2020.13(Sat Jun 13 12:26:38 UTC 2020)\n",
       "(EPL source distribution)\n",
       "Java Runtime: OpenJDK Runtime Environment\n",
       "JVM: OpenJDK 64-Bit Server VM\n",
       "Default Encoding: UTF-8\n",
       "Language: en\n",
       "Country: null\n",
       "--></g></svg>"
      ]
     },
     "execution_count": 31,
     "metadata": {},
     "output_type": "execute_result"
    }
   ],
   "source": [
    "%viz --style=\"PLANTUML\" --view=\"Tree\" \"CalculationExample\""
   ]
  },
  {
   "cell_type": "code",
   "execution_count": 32,
   "id": "54251f67",
   "metadata": {
    "execution": {
     "iopub.execute_input": "2022-08-19T08:22:02.830224Z",
     "iopub.status.busy": "2022-08-19T08:22:02.829785Z",
     "iopub.status.idle": "2022-08-19T08:22:02.916391Z",
     "shell.execute_reply": "2022-08-19T08:22:02.915005Z"
    }
   },
   "outputs": [
    {
     "data": {
      "image/svg+xml": [
       "<?xml version=\"1.0\" encoding=\"UTF-8\" standalone=\"no\"?><svg xmlns=\"http://www.w3.org/2000/svg\" xmlns:xlink=\"http://www.w3.org/1999/xlink\" contentScriptType=\"application/ecmascript\" contentStyleType=\"text/css\" height=\"300px\" preserveAspectRatio=\"none\" style=\"width:603px;height:300px;background:#000000;\" version=\"1.1\" viewBox=\"0 0 603 300\" width=\"603px\" zoomAndPan=\"magnify\"><defs/><g><rect fill=\"#06050D\" height=\"1\" style=\"stroke: #06050D; stroke-width: 1.0;\" width=\"1\" x=\"0\" y=\"0\"/><rect fill=\"#FFFFFF\" height=\"202.8012\" style=\"stroke: #FFFFFF; stroke-width: 1.0;\" width=\"602\" x=\"0\" y=\"0\"/><text fill=\"#000000\" font-family=\"sans-serif\" font-size=\"12\" font-weight=\"bold\" lengthAdjust=\"spacingAndGlyphs\" textLength=\"139\" x=\"5\" y=\"16.1387\">Welcome to PlantUML!</text><text fill=\"#000000\" font-family=\"sans-serif\" font-size=\"12\" lengthAdjust=\"spacingAndGlyphs\" textLength=\"0\" x=\"9\" y=\"30.1074\"/><text fill=\"#000000\" font-family=\"sans-serif\" font-size=\"12\" lengthAdjust=\"spacingAndGlyphs\" textLength=\"293\" x=\"5\" y=\"44.0762\">If you use this software, you accept its license.</text><text fill=\"#000000\" font-family=\"sans-serif\" font-size=\"12\" lengthAdjust=\"spacingAndGlyphs\" textLength=\"107\" x=\"5\" y=\"58.0449\">(details by typing</text><text fill=\"#000000\" font-family=\"monospace\" font-size=\"12\" lengthAdjust=\"spacingAndGlyphs\" textLength=\"42\" x=\"116\" y=\"58.595\">license</text><text fill=\"#000000\" font-family=\"sans-serif\" font-size=\"12\" lengthAdjust=\"spacingAndGlyphs\" textLength=\"56\" x=\"162\" y=\"58.0449\">keyword)</text><text fill=\"#000000\" font-family=\"sans-serif\" font-size=\"12\" lengthAdjust=\"spacingAndGlyphs\" textLength=\"0\" x=\"9\" y=\"72.0137\"/><text fill=\"#000000\" font-family=\"sans-serif\" font-size=\"12\" lengthAdjust=\"spacingAndGlyphs\" textLength=\"283\" x=\"5\" y=\"85.9824\">You can start with a simple UML Diagram like:</text><text fill=\"#000000\" font-family=\"sans-serif\" font-size=\"12\" lengthAdjust=\"spacingAndGlyphs\" textLength=\"0\" x=\"9\" y=\"99.9512\"/><text fill=\"#000000\" font-family=\"monospace\" font-size=\"12\" lengthAdjust=\"spacingAndGlyphs\" textLength=\"102\" x=\"5\" y=\"113.0893\">Bob-&gt;Alice: Hello</text><text fill=\"#000000\" font-family=\"sans-serif\" font-size=\"12\" lengthAdjust=\"spacingAndGlyphs\" textLength=\"0\" x=\"9\" y=\"126.508\"/><text fill=\"#000000\" font-family=\"sans-serif\" font-size=\"12\" lengthAdjust=\"spacingAndGlyphs\" textLength=\"14\" x=\"5\" y=\"140.4768\">Or</text><text fill=\"#000000\" font-family=\"sans-serif\" font-size=\"12\" lengthAdjust=\"spacingAndGlyphs\" textLength=\"0\" x=\"9\" y=\"154.4455\"/><text fill=\"#000000\" font-family=\"monospace\" font-size=\"12\" lengthAdjust=\"spacingAndGlyphs\" textLength=\"78\" x=\"5\" y=\"167.5837\">class Example</text><text fill=\"#000000\" font-family=\"sans-serif\" font-size=\"12\" lengthAdjust=\"spacingAndGlyphs\" textLength=\"0\" x=\"9\" y=\"181.0023\"/><text fill=\"#000000\" font-family=\"sans-serif\" font-size=\"12\" lengthAdjust=\"spacingAndGlyphs\" textLength=\"349\" x=\"5\" y=\"194.9711\">You will find more information about PlantUML syntax on</text><text fill=\"#000000\" font-family=\"sans-serif\" font-size=\"12\" lengthAdjust=\"spacingAndGlyphs\" text-decoration=\"underline\" textLength=\"129\" x=\"358\" y=\"194.9711\">https://plantuml.com</text><image height=\"71\" width=\"80\" x=\"516\" xlink:href=\"data:image/png;base64,iVBORw0KGgoAAAANSUhEUgAAAFAAAABHCAMAAACnHDC8AAADAFBMVEX///+BpbvD3u/f7vfPz8+nz+g3ksuZEDkWADr/ujlvsdpTodLCwsOLwOEbg8T//v6pqamZETnLysvT09To5+jqLS4VATj9/f27u7vDw8MTfsK+v7/j4+SOweJprdjL4/KxsbEri8jk8PgXa57c29uUETez1utQoNJ1tNtEmc9cptWBut6ayOW/3O6YEDjY6vUfhcXBwcHs7Ozw9/v83t79uTn7+/vX19ehoaHx8fG2tLXHx8fuVlfrNTYaBjn/vUH5+fmko6WXl5f/+fn95ub+9PT+8PD3qKidmaMxIUrnqDWcFj7n5eX09PTu7u2SkpKfnZ6rq6z0lJTm4tzJrHUfDT339/eFGDn6tjcrEzOvrbBuZ3l4eomSMS7Hz9Smpqasu8SFiYuQETfa2du1m6OOM051J0NWTWL5xse4uLj6zc33r6/4vb7ydHXqLi/72dntTE3tR0ijbn5jW3C+u8NANVQrG0XFubqRVGZza4GQGT2VaS7a0NPJtI6IJj/zszrfqkXXzr/Hw8cgC0LUqltOQ2JsSC5bTGjOpFafSi2+iDGtyt14m7TJhTCPJUSwoIG/qa+ikHiIgpCRHjI9j8KXbnaQH0FLf6FGPlp0cnYyKE2rg49Wj7dFXHmcwtrp6uu+xMjvYWLvW1z97e3sPD3sP0DuUlP709PYzdDPmzqZWWySRVygfHHd1smWkZ+PgnibETqsl260q5fLuppJLC/dpj2HPFLTtHv/ujrTwJy5s6iWjIi0iD3joTTCmU3trjuvZS2zlFvjq0HSyLbYp0qRts10XGxEKC9yPVBQZIOPdlNvMk2NeYNqRlujtcCVrr3j5eY1gK9Qn9GLp7lbeJXRxrCkiZDaozyukoJ+H0B3rc+OYy+iprJkYXdhmr6ee0afs79xq9BikrGKjI3FomEiLFO0ay6nfIm4pZXRjTFuhZSZWm0zcZyJN0KNTk4eebNfdIGGlZ93h5kcED5nOVYyRWbziIk9dJ4kerE5ZYxRUnLG1d7p8PTvY2PtTk/1nZ1ycV/bAAAFx0lEQVR4Xu1Ye1BUVRg/e3dhl4csKyxqPlBJQVETF2icAY13GogkEFqizqRRpoBpTCIapaUOhWNjUdOMSBpqJYZTg4KigFKADzSIVZ4qD5VFluXhLgvbPee+r49R7v2z3+zcc77fOfPb7zvfPd85uwCIhwT4wPisANwPAuIKHnbHH1I+KwAXDA18ShDW58CneCEnXl8JGwmfHylCPSvlZ/FWxh8YIRIxTWkZAEofkTz8sNq7tAqE2gODOB6GYZobVaH20SVZ4oQcdmXV0L7c4b8OFvJHRoYwdVIoyPX3gxtFDA+V8e6mM8pBoCjij4wQiWo/ALzV/kpkifBi13p4waZuGrJEECycixcEVSbYgFwUozg4/qSraOxrP7O8Eogj2HDxyMWmzpk6823+yIjhvR7fLOpDsCuGhwC0WfbkjQq8A0MWC0EgIYzPCYMymM8Iwcvz6K4IWw8skTrgq3iPMIQnxdfKrvyedpyvbSsyBQt6zcH6OxXmjqYxg9PbgXBBveK6aRAXNEl1Ssc+hz7Bgntyohb/ggQlNrrdzfIuoYKSb79067PrRoLmGo25SeghJRn1yMrSbPTptZaoBlwtlWbBHspxiW+mW8+46ereVnMXGxbFQ+mjofiHZTrclJn5E14UEgdrO9tRVph0HDJlYlRsLv4XFA7RBA1kK5ogBb7gtn08AvxWymc2b+YzLHC3nnOCNHvdayUsZpnnwnPqGf+yGKcPKlv92vtJC209zGyRWJmgyd16sSGGT/AmM2rdKZKZHxwCz7KUodLzJOO8th4OBqxdo0c2tfUkNr3QlJkZQWWMBP0uwBHvmQQb3zRVCMnsMO6ATazf3f0kkza0HTaPCdIhpyTknqP61Te1eV2gRpr1FUn4xtxRT72pDHhj09/UnBLjiv72p4d8FEtlLibBd7Qg0xK5+XfS9q2AzxSVHPnNIMBS8BQPw8N1W4glQWj0mtp4+nSHhvKYOM4GL6vH1jGTcDQ3p1979AQPI5agXEDYwuS5awknJ73rHU56RyLAr6ACpO5iMRGvp3XykjImgs4Fgm2/7URc8dhbeD9jdhYVNon0mdFcAjTIXbmC75VrmVHcQ+JDIXbuNmYUYlZoYx6XcWjKTWavYXd1WzU9OEh9wLFfEVFza5PEhVhDAvfLx60cWM3ePMa9hyZG5DNr6DbQiCUcYU0AKGzGyYxlkf+wxnCk+wdwCbA/TkWH7Dbgoq8dcmKNssQQ3F/JmMxlIj/fzo/7s9OIwUMebbYzbh2zLfk7ehBGzIau6OeO+xzGKlBRwCGAXNaCFgYbRoKG+hMTfMff4M6h0LYxpmv/92ym9tIxc4uRzawynCEWGhum7odf9/75vh8zg0bKijX5AMxhMacsK8pBxaJihtnQqr1KG8yFMzq/dutJ2iKwNCbXA7Yamsm2Xn0XtgtowY3Xy8rpYc4NNqon8eM49k+NtzU55GtMleGAkNR6oldDMhH+e9EX0JB+UYKv4WgLZrLCjHV7wnyYlzJZvYV6A6d1w6xEph842UUyTkjGIbzwRA/JIOBJKSt88yglqND1h6TpiQqQV99wmJ7nknQcgIIHqd00EwSzgudigGYQUHE4qFMcGJb22kp7lNop8p6znStvg5S2e1TVRti56w/zj8fZzKLiDa317MqBQFbs+J3dcbSgo+H4D0kLOokJ82/NR8KZbp9eIZgllwKR8Ec1ejIX827POk/06HpYffGd5dkoZJXMqDAVXd1Nbhavlx4OyuAiPcyAF3Ick8faXAuE5WToApkMxykL1PbNRJ91SDkXOyymPFR1UMlw9GjRPKCrPsRSvUnbzbkELj2PSSRkQLiH1AvROTutlpryLHQAoCD+C2BBP4npMwd9zsIgzgaDsK+bctmVw3hetai5t9RS4PEqub4QnCvxteGzOZyQXxjscxkhHisWKMi72+T0p1dxGeGYkG0ez+eeG7In/n/oNOexC9fzIiLvPxVtKp84iza+AAAAAElFTkSuQmCC\" y=\"6\"/><rect fill=\"#000000\" height=\"96.4844\" style=\"stroke: #000000; stroke-width: 1.0;\" width=\"602\" x=\"0\" y=\"202.8012\"/><rect fill=\"#33FF02\" height=\"21.2969\" style=\"stroke: #33FF02; stroke-width: 1.0;\" width=\"145\" x=\"5\" y=\"207.8012\"/><text fill=\"#000000\" font-family=\"sans-serif\" font-size=\"14\" font-weight=\"bold\" lengthAdjust=\"spacingAndGlyphs\" textLength=\"143\" x=\"6\" y=\"222.8012\">[From string (line 2) ]</text><text fill=\"#33FF02\" font-family=\"sans-serif\" font-size=\"14\" font-weight=\"bold\" lengthAdjust=\"spacingAndGlyphs\" textLength=\"0\" x=\"9\" y=\"243.0981\"/><text fill=\"#33FF02\" font-family=\"sans-serif\" font-size=\"14\" font-weight=\"bold\" lengthAdjust=\"spacingAndGlyphs\" textLength=\"70\" x=\"5\" y=\"259.3949\">@startuml</text><text fill=\"#33FF02\" font-family=\"sans-serif\" font-size=\"14\" font-weight=\"bold\" lengthAdjust=\"spacingAndGlyphs\" textLength=\"0\" x=\"9\" y=\"275.6918\"/><text fill=\"#FF0000\" font-family=\"sans-serif\" font-size=\"14\" font-weight=\"bold\" lengthAdjust=\"spacingAndGlyphs\" textLength=\"124\" x=\"9\" y=\"291.9887\">Empty description</text><!--MD5=[f59edd8218d337f74d0c332fc6737304]\n",
       "@startuml\r\n",
       " \r\n",
       "@enduml\r\n",
       "\n",
       "PlantUML version 1.2020.13(Sat Jun 13 12:26:38 UTC 2020)\n",
       "(EPL source distribution)\n",
       "Java Runtime: OpenJDK Runtime Environment\n",
       "JVM: OpenJDK 64-Bit Server VM\n",
       "Default Encoding: UTF-8\n",
       "Language: en\n",
       "Country: null\n",
       "--></g></svg>"
      ]
     },
     "execution_count": 32,
     "metadata": {},
     "output_type": "execute_result"
    }
   ],
   "source": [
    "%viz --style=\"PLANTUML\" --view=\"State\" \"CalculationExample\""
   ]
  },
  {
   "cell_type": "code",
   "execution_count": 33,
   "id": "5e4c445f",
   "metadata": {
    "execution": {
     "iopub.execute_input": "2022-08-19T08:22:02.965773Z",
     "iopub.status.busy": "2022-08-19T08:22:02.965332Z",
     "iopub.status.idle": "2022-08-19T08:22:03.028991Z",
     "shell.execute_reply": "2022-08-19T08:22:03.028565Z"
    }
   },
   "outputs": [
    {
     "data": {
      "image/svg+xml": [
       "<?xml version=\"1.0\" encoding=\"UTF-8\" standalone=\"no\"?><svg xmlns=\"http://www.w3.org/2000/svg\" xmlns:xlink=\"http://www.w3.org/1999/xlink\" contentScriptType=\"application/ecmascript\" contentStyleType=\"text/css\" height=\"563px\" preserveAspectRatio=\"none\" style=\"width:1805px;height:563px;\" version=\"1.1\" viewBox=\"0 0 1805 563\" width=\"1805px\" zoomAndPan=\"magnify\"><defs><filter height=\"300%\" id=\"fk07w99gc3a9j\" width=\"300%\" x=\"-1\" y=\"-1\"><feGaussianBlur result=\"blurOut\" stdDeviation=\"2.0\"/><feColorMatrix in=\"blurOut\" result=\"blurOut2\" type=\"matrix\" values=\"0 0 0 0 0 0 0 0 0 0 0 0 0 0 0 0 0 0 .4 0\"/><feOffset dx=\"4.0\" dy=\"4.0\" in=\"blurOut2\" result=\"blurOut3\"/><feBlend in=\"SourceGraphic\" in2=\"blurOut3\" mode=\"normal\"/></filter></defs><g><!--MD5=[fbc87193dbaf4d95561dea2c320d4a47]\n",
       "cluster E1--><a href=\"psysml:9a950c4d-df47-4bf2-a127-6824d456053c\" target=\"_top\" title=\"psysml:9a950c4d-df47-4bf2-a127-6824d456053c\" xlink:actuate=\"onRequest\" xlink:href=\"psysml:9a950c4d-df47-4bf2-a127-6824d456053c\" xlink:show=\"new\" xlink:title=\"psysml:9a950c4d-df47-4bf2-a127-6824d456053c\" xlink:type=\"simple\"><polygon fill=\"#FFFFFF\" filter=\"url(#fk07w99gc3a9j)\" points=\"16,6,155,6,162,28.2969,1783,28.2969,1783,551.5,16,551.5,16,6\" style=\"stroke: #000000; stroke-width: 1.5;\"/><line style=\"stroke: #000000; stroke-width: 1.5;\" x1=\"16\" x2=\"162\" y1=\"28.2969\" y2=\"28.2969\"/><text fill=\"#000000\" font-family=\"sans-serif\" font-size=\"14\" font-weight=\"bold\" lengthAdjust=\"spacingAndGlyphs\" textLength=\"133\" x=\"20\" y=\"20.9951\">CalculationExample</text></a><!--MD5=[e4f7fae6ed58524ba242bb0b0d3be6b7]\n",
       "cluster E2--><a href=\"psysml:240f00ab-b9bf-457e-9376-98b0b5e156bb\" target=\"_top\" title=\"psysml:240f00ab-b9bf-457e-9376-98b0b5e156bb\" xlink:actuate=\"onRequest\" xlink:href=\"psysml:240f00ab-b9bf-457e-9376-98b0b5e156bb\" xlink:show=\"new\" xlink:title=\"psysml:240f00ab-b9bf-457e-9376-98b0b5e156bb\" xlink:type=\"simple\"><rect fill=\"#FFFFFF\" filter=\"url(#fk07w99gc3a9j)\" height=\"113\" id=\"E2\" style=\"stroke: #A80036; stroke-width: 1.5;\" width=\"189\" x=\"1273\" y=\"370.5\"/><rect fill=\"#FEFECE\" height=\"23.9688\" style=\"stroke: #A80036; stroke-width: 1.5;\" width=\"189\" x=\"1273\" y=\"370.5\"/><text fill=\"#000000\" font-family=\"sans-serif\" font-size=\"12\" lengthAdjust=\"spacingAndGlyphs\" textLength=\"71\" x=\"1332\" y=\"386.6387\">VehiclePart</text></a><!--MD5=[de5ec2e2e8f62f467e546659f5068c88]\n",
       "cluster E5--><a href=\"psysml:ce00e2ad-3315-43f7-b2e6-6ce884a27309\" target=\"_top\" title=\"psysml:ce00e2ad-3315-43f7-b2e6-6ce884a27309\" xlink:actuate=\"onRequest\" xlink:href=\"psysml:ce00e2ad-3315-43f7-b2e6-6ce884a27309\" xlink:show=\"new\" xlink:title=\"psysml:ce00e2ad-3315-43f7-b2e6-6ce884a27309\" xlink:type=\"simple\"><rect fill=\"#FFFFFF\" filter=\"url(#fk07w99gc3a9j)\" height=\"212\" id=\"E5\" rx=\"10\" ry=\"10\" style=\"stroke: #A80036; stroke-width: 1.5;\" width=\"680\" x=\"1071\" y=\"57\"/><rect fill=\"#FEFECE\" height=\"23.9688\" rx=\"10\" ry=\"10\" style=\"stroke: #FEFECE; stroke-width: 1.5;\" width=\"680\" x=\"1071\" y=\"57\"/><rect fill=\"#FEFECE\" height=\"10\" style=\"stroke: #FEFECE; stroke-width: 1.5;\" width=\"680\" x=\"1071\" y=\"70.9688\"/><rect fill=\"none\" height=\"212\" id=\"E5\" rx=\"10\" ry=\"10\" style=\"stroke: #A80036; stroke-width: 1.5;\" width=\"680\" x=\"1071\" y=\"57\"/><text fill=\"#000000\" font-family=\"sans-serif\" font-size=\"12\" lengthAdjust=\"spacingAndGlyphs\" textLength=\"96\" x=\"1363\" y=\"73.1387\">vehicle: Vehicle</text><line style=\"stroke: #A80036; stroke-width: 1.0;\" x1=\"1071\" x2=\"1751\" y1=\"80.9688\" y2=\"80.9688\"/></a><!--MD5=[14e3b0961a2654348d326746436168a1]\n",
       "cluster E6--><a href=\"psysml:83fc889d-b3c1-4be4-83aa-24728b198254\" target=\"_top\" title=\"psysml:83fc889d-b3c1-4be4-83aa-24728b198254\" xlink:actuate=\"onRequest\" xlink:href=\"psysml:83fc889d-b3c1-4be4-83aa-24728b198254\" xlink:show=\"new\" xlink:title=\"psysml:83fc889d-b3c1-4be4-83aa-24728b198254\" xlink:type=\"simple\"><rect fill=\"#FFFFFF\" filter=\"url(#fk07w99gc3a9j)\" height=\"113\" id=\"E6\" rx=\"10\" ry=\"10\" style=\"stroke: #A80036; stroke-width: 1.5;\" width=\"199\" x=\"1273\" y=\"116\"/><rect fill=\"#FEFECE\" height=\"23.9688\" rx=\"10\" ry=\"10\" style=\"stroke: #FEFECE; stroke-width: 1.5;\" width=\"199\" x=\"1273\" y=\"116\"/><rect fill=\"#FEFECE\" height=\"10\" style=\"stroke: #FEFECE; stroke-width: 1.5;\" width=\"199\" x=\"1273\" y=\"129.9688\"/><rect fill=\"none\" height=\"113\" id=\"E6\" rx=\"10\" ry=\"10\" style=\"stroke: #A80036; stroke-width: 1.5;\" width=\"199\" x=\"1273\" y=\"116\"/><text fill=\"#000000\" font-family=\"sans-serif\" font-size=\"12\" lengthAdjust=\"spacingAndGlyphs\" textLength=\"103\" x=\"1321\" y=\"132.1387\">eng: VehiclePart</text><line style=\"stroke: #A80036; stroke-width: 1.0;\" x1=\"1273\" x2=\"1472\" y1=\"139.9688\" y2=\"139.9688\"/></a><!--MD5=[55dfccfc6c49c2d10cd1bd2211a6c90c]\n",
       "cluster E8--><a href=\"psysml:9ad03ab5-4ba7-4600-8f6c-f33bd21910a1\" target=\"_top\" title=\"psysml:9ad03ab5-4ba7-4600-8f6c-f33bd21910a1\" xlink:actuate=\"onRequest\" xlink:href=\"psysml:9ad03ab5-4ba7-4600-8f6c-f33bd21910a1\" xlink:show=\"new\" xlink:title=\"psysml:9ad03ab5-4ba7-4600-8f6c-f33bd21910a1\" xlink:type=\"simple\"><rect fill=\"#FFFFFF\" filter=\"url(#fk07w99gc3a9j)\" height=\"113\" id=\"E8\" rx=\"10\" ry=\"10\" style=\"stroke: #A80036; stroke-width: 1.5;\" width=\"199\" x=\"1512\" y=\"116\"/><rect fill=\"#FEFECE\" height=\"23.9688\" rx=\"10\" ry=\"10\" style=\"stroke: #FEFECE; stroke-width: 1.5;\" width=\"199\" x=\"1512\" y=\"116\"/><rect fill=\"#FEFECE\" height=\"10\" style=\"stroke: #FEFECE; stroke-width: 1.5;\" width=\"199\" x=\"1512\" y=\"129.9688\"/><rect fill=\"none\" height=\"113\" id=\"E8\" rx=\"10\" ry=\"10\" style=\"stroke: #A80036; stroke-width: 1.5;\" width=\"199\" x=\"1512\" y=\"116\"/><text fill=\"#000000\" font-family=\"sans-serif\" font-size=\"12\" lengthAdjust=\"spacingAndGlyphs\" textLength=\"112\" x=\"1555.5\" y=\"132.1387\">trans: VehiclePart</text><line style=\"stroke: #A80036; stroke-width: 1.0;\" x1=\"1512\" x2=\"1711\" y1=\"139.9688\" y2=\"139.9688\"/></a><!--MD5=[917b9dd0c7eca3ee5f47219d1a84c0ad]\n",
       "cluster E11--><a href=\"psysml:425e038d-47d6-48b2-bd42-a030f1074fc4\" target=\"_top\" title=\"psysml:425e038d-47d6-48b2-bd42-a030f1074fc4\" xlink:actuate=\"onRequest\" xlink:href=\"psysml:425e038d-47d6-48b2-bd42-a030f1074fc4\" xlink:show=\"new\" xlink:title=\"psysml:425e038d-47d6-48b2-bd42-a030f1074fc4\" xlink:type=\"simple\"><rect fill=\"#FFFFFF\" filter=\"url(#fk07w99gc3a9j)\" height=\"331.5\" id=\"E11\" style=\"stroke: #A80036; stroke-width: 1.5;\" width=\"186\" x=\"853\" y=\"182\"/><rect fill=\"#FEFECE\" height=\"37.9375\" style=\"stroke: #A80036; stroke-width: 1.5;\" width=\"186\" x=\"853\" y=\"182\"/><text fill=\"#000000\" font-family=\"sans-serif\" font-size=\"12\" font-style=\"italic\" lengthAdjust=\"spacingAndGlyphs\" textLength=\"110\" x=\"891\" y=\"198.1387\">«calculation  def»</text><text fill=\"#000000\" font-family=\"sans-serif\" font-size=\"12\" lengthAdjust=\"spacingAndGlyphs\" textLength=\"59\" x=\"916.5\" y=\"212.1074\">MassSum</text></a><!--MD5=[bee11217b2f71d958a27249dc326068c]\n",
       "class E14--><a href=\"psysml:e012d373-591a-4cf2-b53b-d810c6dd562d\" target=\"_top\" title=\"psysml:e012d373-591a-4cf2-b53b-d810c6dd562d\" xlink:actuate=\"onRequest\" xlink:href=\"psysml:e012d373-591a-4cf2-b53b-d810c6dd562d\" xlink:show=\"new\" xlink:title=\"psysml:e012d373-591a-4cf2-b53b-d810c6dd562d\" xlink:type=\"simple\"><rect fill=\"#FEFECE\" filter=\"url(#fk07w99gc3a9j)\" height=\"75.5469\" id=\"E14\" rx=\"10\" ry=\"10\" style=\"stroke: #A80036; stroke-width: 1.5;\" width=\"293\" x=\"543.5\" y=\"144\"/><ellipse cx=\"641.25\" cy=\"162.9688\" fill=\"#FFA500\" rx=\"11\" ry=\"11\" style=\"stroke: #A80036; stroke-width: 1.0;\"/><path d=\"M641,168.4375 Q639.25,168.4375 638.2969,167.4063 Q637.3594,166.3594 637.3594,164.5156 L637.3594,157.625 L639.4219,157.625 L639.4219,157.7813 Q639.3281,157.875 639.2969,158.0156 Q639.2813,158.1406 639.2813,158.4063 L639.2813,164.5313 Q639.2813,165.625 639.6563,166.25 Q640.0313,166.875 641.0156,166.875 Q642,166.875 642.3906,166.25 Q642.7813,165.625 642.7813,164.4844 L642.7813,157.625 L644.6563,157.625 L644.6563,164.4688 Q644.6563,166.5 643.625,167.4688 Q642.6094,168.4375 641,168.4375 Z \"/><text fill=\"#000000\" font-family=\"sans-serif\" font-size=\"12\" font-style=\"italic\" lengthAdjust=\"spacingAndGlyphs\" textLength=\"82\" x=\"665.25\" y=\"160.1387\">«calculation»</text><text fill=\"#000000\" font-family=\"sans-serif\" font-size=\"12\" lengthAdjust=\"spacingAndGlyphs\" textLength=\"85\" x=\"661.75\" y=\"174.1074\">ms: MassSum</text><line style=\"stroke: #A80036; stroke-width: 1.5;\" x1=\"544.5\" x2=\"835.5\" y1=\"181.9375\" y2=\"181.9375\"/><text fill=\"#000000\" font-family=\"sans-serif\" font-size=\"11\" font-weight=\"bold\" lengthAdjust=\"spacingAndGlyphs\" textLength=\"10\" x=\"549.5\" y=\"212.9526\">in</text><text fill=\"#000000\" font-family=\"sans-serif\" font-size=\"11\" lengthAdjust=\"spacingAndGlyphs\" textLength=\"267\" x=\"563.5\" y=\"212.9526\">partMasses= (vehicle.eng.m, vehicle.trans.m);</text><line style=\"stroke: #A80036; stroke-width: 1.0;\" x1=\"544.5\" x2=\"656.5\" y1=\"196.3398\" y2=\"196.3398\"/><text fill=\"#000000\" font-family=\"sans-serif\" font-size=\"11\" lengthAdjust=\"spacingAndGlyphs\" textLength=\"67\" x=\"656.5\" y=\"199.6479\">parameters</text><line style=\"stroke: #A80036; stroke-width: 1.0;\" x1=\"723.5\" x2=\"835.5\" y1=\"196.3398\" y2=\"196.3398\"/></a><!--MD5=[35f0587eaee8d5bb9a02e25b63afc23b]\n",
       "class E16--><a href=\"psysml:03468340-4ee1-4dfd-ba23-9337b31e6caf\" target=\"_top\" title=\"psysml:03468340-4ee1-4dfd-ba23-9337b31e6caf\" xlink:actuate=\"onRequest\" xlink:href=\"psysml:03468340-4ee1-4dfd-ba23-9337b31e6caf\" xlink:show=\"new\" xlink:title=\"psysml:03468340-4ee1-4dfd-ba23-9337b31e6caf\" xlink:type=\"simple\"><rect fill=\"#FEFECE\" filter=\"url(#fk07w99gc3a9j)\" height=\"45.9375\" id=\"E16\" rx=\"10\" ry=\"10\" style=\"stroke: #A80036; stroke-width: 1.5;\" width=\"97\" x=\"411.5\" y=\"159\"/><ellipse cx=\"426.5\" cy=\"177.9688\" fill=\"#FFA500\" rx=\"11\" ry=\"11\" style=\"stroke: #A80036; stroke-width: 1.0;\"/><path d=\"M426.25,183.4375 Q424.5,183.4375 423.5469,182.4063 Q422.6094,181.3594 422.6094,179.5156 L422.6094,172.625 L424.6719,172.625 L424.6719,172.7813 Q424.5781,172.875 424.5469,173.0156 Q424.5313,173.1406 424.5313,173.4063 L424.5313,179.5313 Q424.5313,180.625 424.9063,181.25 Q425.2813,181.875 426.2656,181.875 Q427.25,181.875 427.6406,181.25 Q428.0313,180.625 428.0313,179.4844 L428.0313,172.625 L429.9063,172.625 L429.9063,179.4688 Q429.9063,181.5 428.875,182.4688 Q427.8594,183.4375 426.25,183.4375 Z \"/><text fill=\"#000000\" font-family=\"sans-serif\" font-size=\"12\" font-style=\"italic\" lengthAdjust=\"spacingAndGlyphs\" textLength=\"69\" x=\"438.5\" y=\"175.1387\">«attribute»</text><text fill=\"#000000\" font-family=\"sans-serif\" font-size=\"12\" lengthAdjust=\"spacingAndGlyphs\" textLength=\"56\" x=\"443\" y=\"189.1074\">masses1</text><line style=\"stroke: #A80036; stroke-width: 1.5;\" x1=\"412.5\" x2=\"507.5\" y1=\"196.9375\" y2=\"196.9375\"/></a><!--MD5=[60e55a4a9b2f0dc0a36787c5a2095786]\n",
       "class E17--><a href=\"psysml:a35488ce-7eb0-470e-9ecc-f7a0c28bc139\" target=\"_top\" title=\"psysml:a35488ce-7eb0-470e-9ecc-f7a0c28bc139\" xlink:actuate=\"onRequest\" xlink:href=\"psysml:a35488ce-7eb0-470e-9ecc-f7a0c28bc139\" xlink:show=\"new\" xlink:title=\"psysml:a35488ce-7eb0-470e-9ecc-f7a0c28bc139\" xlink:type=\"simple\"><rect fill=\"#FEFECE\" filter=\"url(#fk07w99gc3a9j)\" height=\"45.9375\" id=\"E17\" rx=\"10\" ry=\"10\" style=\"stroke: #A80036; stroke-width: 1.5;\" width=\"97\" x=\"279.5\" y=\"159\"/><ellipse cx=\"294.5\" cy=\"177.9688\" fill=\"#FFA500\" rx=\"11\" ry=\"11\" style=\"stroke: #A80036; stroke-width: 1.0;\"/><path d=\"M294.25,183.4375 Q292.5,183.4375 291.5469,182.4063 Q290.6094,181.3594 290.6094,179.5156 L290.6094,172.625 L292.6719,172.625 L292.6719,172.7813 Q292.5781,172.875 292.5469,173.0156 Q292.5313,173.1406 292.5313,173.4063 L292.5313,179.5313 Q292.5313,180.625 292.9063,181.25 Q293.2813,181.875 294.2656,181.875 Q295.25,181.875 295.6406,181.25 Q296.0313,180.625 296.0313,179.4844 L296.0313,172.625 L297.9063,172.625 L297.9063,179.4688 Q297.9063,181.5 296.875,182.4688 Q295.8594,183.4375 294.25,183.4375 Z \"/><text fill=\"#000000\" font-family=\"sans-serif\" font-size=\"12\" font-style=\"italic\" lengthAdjust=\"spacingAndGlyphs\" textLength=\"69\" x=\"306.5\" y=\"175.1387\">«attribute»</text><text fill=\"#000000\" font-family=\"sans-serif\" font-size=\"12\" lengthAdjust=\"spacingAndGlyphs\" textLength=\"56\" x=\"311\" y=\"189.1074\">masses2</text><line style=\"stroke: #A80036; stroke-width: 1.5;\" x1=\"280.5\" x2=\"375.5\" y1=\"196.9375\" y2=\"196.9375\"/></a><!--MD5=[09b614a08d8cba4a07c9adeb5e0fee81]\n",
       "class E3--><a href=\"psysml:3c3f6982-fe48-410d-a073-4745105d0bb1\" target=\"_top\" title=\"psysml:3c3f6982-fe48-410d-a073-4745105d0bb1\" xlink:actuate=\"onRequest\" xlink:href=\"psysml:3c3f6982-fe48-410d-a073-4745105d0bb1\" xlink:show=\"new\" xlink:title=\"psysml:3c3f6982-fe48-410d-a073-4745105d0bb1\" xlink:type=\"simple\"><rect fill=\"#FEFECE\" filter=\"url(#fk07w99gc3a9j)\" height=\"45.9375\" id=\"E3\" rx=\"10\" ry=\"10\" style=\"stroke: #A80036; stroke-width: 1.5;\" width=\"122\" x=\"1316\" y=\"413.5\"/><ellipse cx=\"1331\" cy=\"432.4688\" fill=\"#FFA500\" rx=\"11\" ry=\"11\" style=\"stroke: #A80036; stroke-width: 1.0;\"/><path d=\"M1330.75,437.9375 Q1329,437.9375 1328.0469,436.9063 Q1327.1094,435.8594 1327.1094,434.0156 L1327.1094,427.125 L1329.1719,427.125 L1329.1719,427.2813 Q1329.0781,427.375 1329.0469,427.5156 Q1329.0313,427.6406 1329.0313,427.9063 L1329.0313,434.0313 Q1329.0313,435.125 1329.4063,435.75 Q1329.7813,436.375 1330.7656,436.375 Q1331.75,436.375 1332.1406,435.75 Q1332.5313,435.125 1332.5313,433.9844 L1332.5313,427.125 L1334.4063,427.125 L1334.4063,433.9688 Q1334.4063,436 1333.375,436.9688 Q1332.3594,437.9375 1330.75,437.9375 Z \"/><text fill=\"#000000\" font-family=\"sans-serif\" font-size=\"12\" font-style=\"italic\" lengthAdjust=\"spacingAndGlyphs\" textLength=\"69\" x=\"1355.5\" y=\"429.6387\">«attribute»</text><text fill=\"#000000\" font-family=\"sans-serif\" font-size=\"12\" lengthAdjust=\"spacingAndGlyphs\" textLength=\"86\" x=\"1345\" y=\"443.6074\">m: MassValue</text><line style=\"stroke: #A80036; stroke-width: 1.5;\" x1=\"1317\" x2=\"1437\" y1=\"451.4375\" y2=\"451.4375\"/></a><g id=\"E1.E4\"><a href=\"psysml:240db56f-6d8c-4faf-8b3c-f8974d12918d\" target=\"_top\" title=\"psysml:240db56f-6d8c-4faf-8b3c-f8974d12918d\" xlink:actuate=\"onRequest\" xlink:href=\"psysml:240db56f-6d8c-4faf-8b3c-f8974d12918d\" xlink:show=\"new\" xlink:title=\"psysml:240db56f-6d8c-4faf-8b3c-f8974d12918d\" xlink:type=\"simple\"><rect fill=\"#FEFECE\" filter=\"url(#fk07w99gc3a9j)\" height=\"40\" id=\"E4\" style=\"stroke: #A80036; stroke-width: 1.5;\" width=\"82\" x=\"1109\" y=\"306.5\"/><ellipse cx=\"1126.25\" cy=\"322.5\" fill=\"#008000\" rx=\"11\" ry=\"11\" style=\"stroke: #A80036; stroke-width: 1.0;\"/><path d=\"M1123.125,327.5 L1123.125,316.9063 L1126.3594,316.9063 Q1128.2656,316.9063 1129.1719,317.6563 Q1130.0938,318.4063 1130.0938,319.5781 Q1130.0938,320.2656 1129.7031,320.9219 Q1129.3281,321.5781 1128.6094,321.875 Q1129.4688,322.25 1129.9844,322.9375 Q1130.5,323.625 1130.5,324.4375 Q1130.5,325.8125 1129.4688,326.6563 Q1128.4531,327.5 1126.3438,327.5 L1123.125,327.5 Z M1125.0469,321.1406 L1126.2031,321.1406 Q1127.3281,321.1406 1127.7344,320.7656 Q1128.1563,320.375 1128.1563,319.75 Q1128.1563,319.1719 1127.7344,318.8125 Q1127.3125,318.4531 1126.375,318.4531 L1125.0469,318.4531 L1125.0469,321.1406 Z M1125.0469,325.9219 L1126.5469,325.9219 Q1127.4531,325.9219 1127.9844,325.5313 Q1128.5156,325.1406 1128.5156,324.3906 Q1128.5156,323.625 1128.0156,323.1563 Q1127.5156,322.6719 1126.25,322.6719 L1125.0469,322.6719 L1125.0469,325.9219 Z \"/><text fill=\"#000000\" font-family=\"sans-serif\" font-size=\"12\" lengthAdjust=\"spacingAndGlyphs\" textLength=\"45\" x=\"1140.75\" y=\"326.6543\">Vehicle</text></a></g><!--MD5=[96f4274e9e20536e775497830990834d]\n",
       "class E10--><a href=\"psysml:3c3f6982-fe48-410d-a073-4745105d0bb1\" target=\"_top\" title=\"psysml:3c3f6982-fe48-410d-a073-4745105d0bb1\" xlink:actuate=\"onRequest\" xlink:href=\"psysml:3c3f6982-fe48-410d-a073-4745105d0bb1\" xlink:show=\"new\" xlink:title=\"psysml:3c3f6982-fe48-410d-a073-4745105d0bb1\" xlink:type=\"simple\"><rect fill=\"#FEFECE\" filter=\"url(#fk07w99gc3a9j)\" height=\"45.9375\" id=\"E10\" rx=\"10\" ry=\"10\" style=\"stroke: #A80036; stroke-width: 1.5;\" width=\"132\" x=\"1114\" y=\"159\"/><ellipse cx=\"1129\" cy=\"177.9688\" fill=\"#FFA500\" rx=\"11\" ry=\"11\" style=\"stroke: #A80036; stroke-width: 1.0;\"/><path d=\"M1128.75,183.4375 Q1127,183.4375 1126.0469,182.4063 Q1125.1094,181.3594 1125.1094,179.5156 L1125.1094,172.625 L1127.1719,172.625 L1127.1719,172.7813 Q1127.0781,172.875 1127.0469,173.0156 Q1127.0313,173.1406 1127.0313,173.4063 L1127.0313,179.5313 Q1127.0313,180.625 1127.4063,181.25 Q1127.7813,181.875 1128.7656,181.875 Q1129.75,181.875 1130.1406,181.25 Q1130.5313,180.625 1130.5313,179.4844 L1130.5313,172.625 L1132.4063,172.625 L1132.4063,179.4688 Q1132.4063,181.5 1131.375,182.4688 Q1130.3594,183.4375 1128.75,183.4375 Z \"/><text fill=\"#000000\" font-family=\"sans-serif\" font-size=\"12\" font-style=\"italic\" lengthAdjust=\"spacingAndGlyphs\" textLength=\"69\" x=\"1158.5\" y=\"175.1387\">«attribute»</text><text fill=\"#000000\" font-family=\"sans-serif\" font-size=\"12\" lengthAdjust=\"spacingAndGlyphs\" textLength=\"96\" x=\"1143\" y=\"189.1074\">^m: MassValue</text><line style=\"stroke: #A80036; stroke-width: 1.5;\" x1=\"1115\" x2=\"1245\" y1=\"196.9375\" y2=\"196.9375\"/></a><!--MD5=[2156ba9850f5573cc1fc38a6a4b2f02b]\n",
       "class E7--><a href=\"psysml:3c3f6982-fe48-410d-a073-4745105d0bb1\" target=\"_top\" title=\"psysml:3c3f6982-fe48-410d-a073-4745105d0bb1\" xlink:actuate=\"onRequest\" xlink:href=\"psysml:3c3f6982-fe48-410d-a073-4745105d0bb1\" xlink:show=\"new\" xlink:title=\"psysml:3c3f6982-fe48-410d-a073-4745105d0bb1\" xlink:type=\"simple\"><rect fill=\"#FEFECE\" filter=\"url(#fk07w99gc3a9j)\" height=\"45.9375\" id=\"E7\" rx=\"10\" ry=\"10\" style=\"stroke: #A80036; stroke-width: 1.5;\" width=\"132\" x=\"1316\" y=\"159\"/><ellipse cx=\"1331\" cy=\"177.9688\" fill=\"#FFA500\" rx=\"11\" ry=\"11\" style=\"stroke: #A80036; stroke-width: 1.0;\"/><path d=\"M1330.75,183.4375 Q1329,183.4375 1328.0469,182.4063 Q1327.1094,181.3594 1327.1094,179.5156 L1327.1094,172.625 L1329.1719,172.625 L1329.1719,172.7813 Q1329.0781,172.875 1329.0469,173.0156 Q1329.0313,173.1406 1329.0313,173.4063 L1329.0313,179.5313 Q1329.0313,180.625 1329.4063,181.25 Q1329.7813,181.875 1330.7656,181.875 Q1331.75,181.875 1332.1406,181.25 Q1332.5313,180.625 1332.5313,179.4844 L1332.5313,172.625 L1334.4063,172.625 L1334.4063,179.4688 Q1334.4063,181.5 1333.375,182.4688 Q1332.3594,183.4375 1330.75,183.4375 Z \"/><text fill=\"#000000\" font-family=\"sans-serif\" font-size=\"12\" font-style=\"italic\" lengthAdjust=\"spacingAndGlyphs\" textLength=\"69\" x=\"1360.5\" y=\"175.1387\">«attribute»</text><text fill=\"#000000\" font-family=\"sans-serif\" font-size=\"12\" lengthAdjust=\"spacingAndGlyphs\" textLength=\"96\" x=\"1345\" y=\"189.1074\">^m: MassValue</text><line style=\"stroke: #A80036; stroke-width: 1.5;\" x1=\"1317\" x2=\"1447\" y1=\"196.9375\" y2=\"196.9375\"/></a><!--MD5=[fd4143e9d270a159db93a4ea2a975926]\n",
       "class E9--><a href=\"psysml:3c3f6982-fe48-410d-a073-4745105d0bb1\" target=\"_top\" title=\"psysml:3c3f6982-fe48-410d-a073-4745105d0bb1\" xlink:actuate=\"onRequest\" xlink:href=\"psysml:3c3f6982-fe48-410d-a073-4745105d0bb1\" xlink:show=\"new\" xlink:title=\"psysml:3c3f6982-fe48-410d-a073-4745105d0bb1\" xlink:type=\"simple\"><rect fill=\"#FEFECE\" filter=\"url(#fk07w99gc3a9j)\" height=\"45.9375\" id=\"E9\" rx=\"10\" ry=\"10\" style=\"stroke: #A80036; stroke-width: 1.5;\" width=\"132\" x=\"1555\" y=\"159\"/><ellipse cx=\"1570\" cy=\"177.9688\" fill=\"#FFA500\" rx=\"11\" ry=\"11\" style=\"stroke: #A80036; stroke-width: 1.0;\"/><path d=\"M1569.75,183.4375 Q1568,183.4375 1567.0469,182.4063 Q1566.1094,181.3594 1566.1094,179.5156 L1566.1094,172.625 L1568.1719,172.625 L1568.1719,172.7813 Q1568.0781,172.875 1568.0469,173.0156 Q1568.0313,173.1406 1568.0313,173.4063 L1568.0313,179.5313 Q1568.0313,180.625 1568.4063,181.25 Q1568.7813,181.875 1569.7656,181.875 Q1570.75,181.875 1571.1406,181.25 Q1571.5313,180.625 1571.5313,179.4844 L1571.5313,172.625 L1573.4063,172.625 L1573.4063,179.4688 Q1573.4063,181.5 1572.375,182.4688 Q1571.3594,183.4375 1569.75,183.4375 Z \"/><text fill=\"#000000\" font-family=\"sans-serif\" font-size=\"12\" font-style=\"italic\" lengthAdjust=\"spacingAndGlyphs\" textLength=\"69\" x=\"1599.5\" y=\"175.1387\">«attribute»</text><text fill=\"#000000\" font-family=\"sans-serif\" font-size=\"12\" lengthAdjust=\"spacingAndGlyphs\" textLength=\"96\" x=\"1584\" y=\"189.1074\">^m: MassValue</text><line style=\"stroke: #A80036; stroke-width: 1.5;\" x1=\"1556\" x2=\"1686\" y1=\"196.9375\" y2=\"196.9375\"/></a><text fill=\"#000000\" font-family=\"sans-serif\" font-size=\"14\" lengthAdjust=\"spacingAndGlyphs\" textLength=\"80\" x=\"906\" y=\"160.6982\">partMasses</text><rect fill=\"#A80036\" height=\"12\" style=\"stroke: #FEFECE; stroke-width: 1.5;\" width=\"12\" x=\"940\" y=\"176\"/><text fill=\"#000000\" font-family=\"sans-serif\" font-size=\"14\" lengthAdjust=\"spacingAndGlyphs\" textLength=\"66\" x=\"913\" y=\"532.4951\">totalMass</text><rect fill=\"#A80036\" height=\"12\" style=\"stroke: #FEFECE; stroke-width: 1.5;\" width=\"12\" x=\"940\" y=\"507.5\"/><g id=\"E1.E15\"><a href=\"psysml:e4253433-368c-4e86-8a3c-6b186419df89\" target=\"_top\" title=\"psysml:e4253433-368c-4e86-8a3c-6b186419df89\" xlink:actuate=\"onRequest\" xlink:href=\"psysml:e4253433-368c-4e86-8a3c-6b186419df89\" xlink:show=\"new\" xlink:title=\"psysml:e4253433-368c-4e86-8a3c-6b186419df89\" xlink:type=\"simple\"><rect fill=\"#FEFECE\" filter=\"url(#fk07w99gc3a9j)\" height=\"40\" id=\"E15\" rx=\"10\" ry=\"10\" style=\"stroke: #A80036; stroke-width: 1.5;\" width=\"213\" x=\"31.5\" y=\"162\"/><ellipse cx=\"48.75\" cy=\"178\" fill=\"#B6DBBB\" rx=\"11\" ry=\"11\" style=\"stroke: #A80036; stroke-width: 1.0;\"/><path d=\"M48.5,183.4688 Q46.75,183.4688 45.7969,182.4375 Q44.8594,181.3906 44.8594,179.5469 L44.8594,172.6563 L46.9219,172.6563 L46.9219,172.8125 Q46.8281,172.9063 46.7969,173.0469 Q46.7813,173.1719 46.7813,173.4375 L46.7813,179.5625 Q46.7813,180.6563 47.1563,181.2813 Q47.5313,181.9063 48.5156,181.9063 Q49.5,181.9063 49.8906,181.2813 Q50.2813,180.6563 50.2813,179.5156 L50.2813,172.6563 L52.1563,172.6563 L52.1563,179.5 Q52.1563,181.5313 51.125,182.5 Q50.1094,183.4688 48.5,183.4688 Z \"/><text fill=\"#000000\" font-family=\"sans-serif\" font-size=\"12\" lengthAdjust=\"spacingAndGlyphs\" textLength=\"172\" x=\"63.25\" y=\"182.1543\">vehicles= (vehicle, vehicle);</text></a></g><!--MD5=[185131fc0dcab0a4505a2ebe144e961b]\n",
       "link E4 to E2--><a href=\"psysml:2113862d-3e36-4f2a-be29-5fbeffc35ef5\" target=\"_top\" title=\"psysml:2113862d-3e36-4f2a-be29-5fbeffc35ef5\" xlink:actuate=\"onRequest\" xlink:href=\"psysml:2113862d-3e36-4f2a-be29-5fbeffc35ef5\" xlink:show=\"new\" xlink:title=\"psysml:2113862d-3e36-4f2a-be29-5fbeffc35ef5\" xlink:type=\"simple\"><path d=\"M1173.12,346.56 C1191.63,361.82 1218.0525,383.605 1240.115,401.795 C1251.1463,410.89 1261.0875,419.0863 1268.4047,425.1188 C1269.3193,425.8728 1270.193,426.5931 1271.0226,427.277 C1271.4375,427.619 1271.8413,427.9519 1272.2337,428.2755 C1272.43,428.4373 1272.6233,428.5967 1272.8138,428.7537 \" fill=\"none\" id=\"E4-&gt;E2\" style=\"stroke: #A80036; stroke-width: 1.0;\"/><polygon fill=\"#FFFFFF\" points=\"1272.8138,428.7537,1262.6062,411.2665,1253.7007,422.0689,1272.8138,428.7537\" style=\"stroke: #A80036; stroke-width: 1.0;\"/></a><!--MD5=[2351f337d6de0f557b50152ba70847b5]\n",
       "link E6 to E2--><a href=\"psysml:7cfd1003-3fe0-4a32-a3a1-13a5c8efedf2\" target=\"_top\" title=\"psysml:7cfd1003-3fe0-4a32-a3a1-13a5c8efedf2\" xlink:actuate=\"onRequest\" xlink:href=\"psysml:7cfd1003-3fe0-4a32-a3a1-13a5c8efedf2\" xlink:show=\"new\" xlink:title=\"psysml:7cfd1003-3fe0-4a32-a3a1-13a5c8efedf2\" xlink:type=\"simple\"><path d=\"M1281,229.227 C1281,229.6126 1281,229.9998 1281,230.3887 C1281,231.1665 1281,231.951 1281,232.7419 C1281,235.9054 1281,239.1719 1281,242.5266 C1281,249.236 1281,256.2982 1281,263.5956 C1281,278.1904 1281,293.7259 1281,309.2613 C1281,324.7966 1281,340.3316 1281,354.9255 C1281,358.574 1281,362.1636 1281,365.6797 C1281,366.5587 1281,367.4331 1281,368.3028 C1281,368.7376 1281,369.1712 1281,369.6035 C1281,369.8197 1281,370.0356 1281,370.2511 \" fill=\"none\" id=\"E6-&gt;E2\" style=\"stroke: #A80036; stroke-width: 1.0;\"/><polygon fill=\"#FFFFFF\" points=\"1281,370.2511,1274,351.2511,1288,351.2511,1281,370.2511\" style=\"stroke: #A80036; stroke-width: 1.0;\"/><ellipse cx=\"1276\" cy=\"345.5511\" fill=\"#A80036\" rx=\"2\" ry=\"2\" style=\"stroke: #A80036; stroke-width: 1.0;\"/><ellipse cx=\"1286\" cy=\"345.5511\" fill=\"#A80036\" rx=\"2\" ry=\"2\" style=\"stroke: #A80036; stroke-width: 1.0;\"/></a><!--MD5=[f1f3f9f2fc535e6147756cb86a7f2e32]\n",
       "link E8 to E2--><a href=\"psysml:b3767e4f-9e3f-4162-9e5b-3e184cb0e1ab\" target=\"_top\" title=\"psysml:b3767e4f-9e3f-4162-9e5b-3e184cb0e1ab\" xlink:actuate=\"onRequest\" xlink:href=\"psysml:b3767e4f-9e3f-4162-9e5b-3e184cb0e1ab\" xlink:show=\"new\" xlink:title=\"psysml:b3767e4f-9e3f-4162-9e5b-3e184cb0e1ab\" xlink:type=\"simple\"><path d=\"M1511.9916,207.2094 C1510.2655,211.7631 1508.2544,216.7538 1505.9525,221.995 C1496.745,242.96 1482.885,267.935 1464,285 C1405.26,338.07 1351.01,293.96 1300,354.5 C1297.115,357.9238 1294.6502,361.7061 1292.546,365.71 C1292.02,366.711 1291.5165,367.7258 1291.0346,368.7523 C1290.7937,369.2656 1290.5581,369.7817 1290.3279,370.3006 \" fill=\"none\" id=\"E8-&gt;E2\" style=\"stroke: #A80036; stroke-width: 1.0;\"/><polygon fill=\"#FFFFFF\" points=\"1290.3279,370.3006,1291.6364,350.0945,1304.433,355.7732,1290.3279,370.3006\" style=\"stroke: #A80036; stroke-width: 1.0;\"/><ellipse cx=\"1295.7765\" cy=\"345.6957\" fill=\"#A80036\" rx=\"2\" ry=\"2\" style=\"stroke: #A80036; stroke-width: 1.0;\"/><ellipse cx=\"1304.9169\" cy=\"349.7519\" fill=\"#A80036\" rx=\"2\" ry=\"2\" style=\"stroke: #A80036; stroke-width: 1.0;\"/></a><!--MD5=[1c62de2aa5b76f0fb657ff8443a1a700]\n",
       "link E5 to E4--><a href=\"psysml:3f6bcc61-006c-4905-be22-168150e04931\" target=\"_top\" title=\"psysml:3f6bcc61-006c-4905-be22-168150e04931\" xlink:actuate=\"onRequest\" xlink:href=\"psysml:3f6bcc61-006c-4905-be22-168150e04931\" xlink:show=\"new\" xlink:title=\"psysml:3f6bcc61-006c-4905-be22-168150e04931\" xlink:type=\"simple\"><path d=\"M1090.2024,269.0573 C1090.2685,269.2261 1090.3349,269.3947 1090.4017,269.5632 C1092.5383,274.9536 1095.05,280.1525 1098,285 C1099.56,287.57 1101.35,290.03 1103.3,292.39 \" fill=\"none\" id=\"E5-&gt;E4\" style=\"stroke: #A80036; stroke-width: 1.0;\"/><polygon fill=\"#FFFFFF\" points=\"1117.89,306.34,1099.3171,298.2749,1108.989,288.1529,1117.89,306.34\" style=\"stroke: #A80036; stroke-width: 1.0;\"/><ellipse cx=\"1096.5777\" cy=\"292.891\" fill=\"#A80036\" rx=\"2\" ry=\"2\" style=\"stroke: #A80036; stroke-width: 1.0;\"/><ellipse cx=\"1103.4862\" cy=\"285.661\" fill=\"#A80036\" rx=\"2\" ry=\"2\" style=\"stroke: #A80036; stroke-width: 1.0;\"/></a><!--MD5=[d00f01b66edb9b3ce8f530f77713355e]\n",
       "link E14 to E11--><a href=\"psysml:650eb0f7-ec08-4309-80b6-1e90e34b9690\" target=\"_top\" title=\"psysml:650eb0f7-ec08-4309-80b6-1e90e34b9690\" xlink:actuate=\"onRequest\" xlink:href=\"psysml:650eb0f7-ec08-4309-80b6-1e90e34b9690\" xlink:show=\"new\" xlink:title=\"psysml:650eb0f7-ec08-4309-80b6-1e90e34b9690\" xlink:type=\"simple\"><path d=\"M740.79,220.16 C770.31,240.8 808.74,266.05 845,285 C847.145,286.1213 849.3283,287.2317 851.5406,288.3297 C851.8172,288.4669 852.0942,288.604 852.3716,288.7408 C852.5103,288.8092 852.6492,288.8776 852.7881,288.9459 C852.8576,288.9801 852.9271,289.0142 852.9966,289.0484 \" fill=\"none\" id=\"E14-&gt;E11\" style=\"stroke: #A80036; stroke-width: 1.0;\"/><polygon fill=\"#FFFFFF\" points=\"852.9966,289.0484,832.8564,286.9572,839.0272,274.3905,852.9966,289.0484\" style=\"stroke: #A80036; stroke-width: 1.0;\"/><ellipse cx=\"828.6215\" cy=\"282.6495\" fill=\"#A80036\" rx=\"2\" ry=\"2\" style=\"stroke: #A80036; stroke-width: 1.0;\"/><ellipse cx=\"833.0292\" cy=\"273.6733\" fill=\"#A80036\" rx=\"2\" ry=\"2\" style=\"stroke: #A80036; stroke-width: 1.0;\"/></a><!--MD5=[206709d94ac4de9a595321e6cce0b014]\n",
       "@startuml\r\n",
       "skinparam ranksep 10\r\n",
       "skinparam rectangle {\r\n",
       " backgroundColor<<block>> LightGreen\r\n",
       "}\r\n",
       " \r\n",
       "package \"CalculationExample\" as E1  [[psysml:9a950c4d-df47-4bf2-a127-6824d456053c ]]  {\r\n",
       "rec def \"VehiclePart\" as E2 << << (B,green) >> [[psysml:240f00ab-b9bf-457e-9376-98b0b5e156bb ]] {\r\n",
       "comp usage \"m: MassValue \" as E3 << <<(U,orange) attribute>> [[psysml:3c3f6982-fe48-410d-a073-4745105d0bb1 ]] {\r\n",
       "}\r\n",
       "}\r\n",
       "rec def \"Vehicle\" as E4 << << (B,green) >> [[psysml:240db56f-6d8c-4faf-8b3c-f8974d12918d ]] {\r\n",
       "}\r\n",
       "rec usage \"vehicle: Vehicle\" as E5  [[psysml:ce00e2ad-3315-43f7-b2e6-6ce884a27309 ]] {\r\n",
       "rec usage \"eng: VehiclePart\" as E6  [[psysml:83fc889d-b3c1-4be4-83aa-24728b198254 ]] {\r\n",
       "comp usage \"^m: MassValue \" as E7 << <<(U,orange) attribute>> [[psysml:3c3f6982-fe48-410d-a073-4745105d0bb1 ]] {\r\n",
       "}\r\n",
       "}\r\n",
       "rec usage \"trans: VehiclePart\" as E8  [[psysml:9ad03ab5-4ba7-4600-8f6c-f33bd21910a1 ]] {\r\n",
       "comp usage \"^m: MassValue \" as E9 << <<(U,orange) attribute>> [[psysml:3c3f6982-fe48-410d-a073-4745105d0bb1 ]] {\r\n",
       "}\r\n",
       "}\r\n",
       "comp usage \"^m: MassValue \" as E10 << <<(U,orange) attribute>> [[psysml:3c3f6982-fe48-410d-a073-4745105d0bb1 ]] {\r\n",
       "}\r\n",
       "}\r\n",
       "rec def \"MassSum\" as E11 << <<(B,lemonchiffon) calculation  def>> [[psysml:425e038d-47d6-48b2-bd42-a030f1074fc4 ]] {\r\n",
       "portin \"partMasses\" as E12  [[psysml:b45e328f-a4a8-4519-9228-274640d6e043 ]] \r\n",
       "portout \"totalMass\" as E13  [[psysml:712f9e49-cc72-40cc-a5b0-9958e3b93d47 ]] \r\n",
       "}\r\n",
       "\r\n",
       "comp usage \"ms: MassSum \" as E14 << <<(U,orange) calculation>> [[psysml:e012d373-591a-4cf2-b53b-d810c6dd562d ]] {\r\n",
       "- - parameters - -\r\n",
       "<b>in</b> partMasses= (vehicle.eng.m, vehicle.trans.m); \r\n",
       "}\r\n",
       "rec usage \"vehicles= (vehicle, vehicle); \" as E15  [[psysml:e4253433-368c-4e86-8a3c-6b186419df89 ]] {\r\n",
       "}\r\n",
       "comp usage \"masses1 \" as E16 << <<(U,orange) attribute>> [[psysml:03468340-4ee1-4dfd-ba23-9337b31e6caf ]] {\r\n",
       "}\r\n",
       "comp usage \"masses2 \" as E17 << <<(U,orange) attribute>> [[psysml:a35488ce-7eb0-470e-9ecc-f7a0c28bc139 ]] {\r\n",
       "}\r\n",
       "}\r\n",
       "E4 - -|> E2 [[psysml:2113862d-3e36-4f2a-be29-5fbeffc35ef5 ]] \r\n",
       "E6 - -:|> E2 [[psysml:7cfd1003-3fe0-4a32-a3a1-13a5c8efedf2 ]] \r\n",
       "E8 - -:|> E2 [[psysml:b3767e4f-9e3f-4162-9e5b-3e184cb0e1ab ]] \r\n",
       "E5 - -:|> E4 [[psysml:3f6bcc61-006c-4905-be22-168150e04931 ]] \r\n",
       "E14 - -:|> E11 [[psysml:650eb0f7-ec08-4309-80b6-1e90e34b9690 ]] \r\n",
       "@enduml\r\n",
       "\n",
       "PlantUML version 1.2020.13(Sat Jun 13 12:26:38 UTC 2020)\n",
       "(EPL source distribution)\n",
       "Java Runtime: OpenJDK Runtime Environment\n",
       "JVM: OpenJDK 64-Bit Server VM\n",
       "Default Encoding: UTF-8\n",
       "Language: en\n",
       "Country: null\n",
       "--></g></svg>"
      ]
     },
     "execution_count": 33,
     "metadata": {},
     "output_type": "execute_result"
    }
   ],
   "source": [
    "%viz --style=\"PLANTUML\" --view=\"Interconnection\" \"CalculationExample\""
   ]
  },
  {
   "cell_type": "code",
   "execution_count": 34,
   "id": "66a764df",
   "metadata": {
    "execution": {
     "iopub.execute_input": "2022-08-19T08:22:03.078212Z",
     "iopub.status.busy": "2022-08-19T08:22:03.077775Z",
     "iopub.status.idle": "2022-08-19T08:22:03.108549Z",
     "shell.execute_reply": "2022-08-19T08:22:03.108148Z"
    }
   },
   "outputs": [
    {
     "data": {
      "image/svg+xml": [
       "<?xml version=\"1.0\" encoding=\"UTF-8\" standalone=\"no\"?><svg xmlns=\"http://www.w3.org/2000/svg\" xmlns:xlink=\"http://www.w3.org/1999/xlink\" contentScriptType=\"application/ecmascript\" contentStyleType=\"text/css\" height=\"162px\" preserveAspectRatio=\"none\" style=\"width:296px;height:162px;\" version=\"1.1\" viewBox=\"0 0 296 162\" width=\"296px\" zoomAndPan=\"magnify\"><defs><filter height=\"300%\" id=\"f1c3th0pew8ai4\" width=\"300%\" x=\"-1\" y=\"-1\"><feGaussianBlur result=\"blurOut\" stdDeviation=\"2.0\"/><feColorMatrix in=\"blurOut\" result=\"blurOut2\" type=\"matrix\" values=\"0 0 0 0 0 0 0 0 0 0 0 0 0 0 0 0 0 0 .4 0\"/><feOffset dx=\"4.0\" dy=\"4.0\" in=\"blurOut2\" result=\"blurOut3\"/><feBlend in=\"SourceGraphic\" in2=\"blurOut3\" mode=\"normal\"/></filter></defs><g><!--MD5=[fbc87193dbaf4d95561dea2c320d4a47]\n",
       "cluster E1--><a href=\"psysml:425e038d-47d6-48b2-bd42-a030f1074fc4\" target=\"_top\" title=\"psysml:425e038d-47d6-48b2-bd42-a030f1074fc4\" xlink:actuate=\"onRequest\" xlink:href=\"psysml:425e038d-47d6-48b2-bd42-a030f1074fc4\" xlink:show=\"new\" xlink:title=\"psysml:425e038d-47d6-48b2-bd42-a030f1074fc4\" xlink:type=\"simple\"><rect fill=\"#FFFFFF\" filter=\"url(#f1c3th0pew8ai4)\" height=\"87.72\" id=\"E1\" style=\"stroke: #A80036; stroke-width: 1.5;\" width=\"131\" x=\"21\" y=\"42.0986\"/><rect fill=\"#FEFECE\" height=\"37.9375\" style=\"stroke: #A80036; stroke-width: 1.5;\" width=\"131\" x=\"21\" y=\"42.0986\"/><text fill=\"#000000\" font-family=\"sans-serif\" font-size=\"12\" font-style=\"italic\" lengthAdjust=\"spacingAndGlyphs\" textLength=\"110\" x=\"31.5\" y=\"58.2373\">«calculation  def»</text><text fill=\"#000000\" font-family=\"sans-serif\" font-size=\"12\" lengthAdjust=\"spacingAndGlyphs\" textLength=\"59\" x=\"57\" y=\"72.2061\">MassSum</text></a><!--MD5=[f6df4d0ebaf0b5dfb2ced0ae5af7c670]\n",
       "cluster E4--><a href=\"psysml:e012d373-591a-4cf2-b53b-d810c6dd562d\" target=\"_top\" title=\"psysml:e012d373-591a-4cf2-b53b-d810c6dd562d\" xlink:actuate=\"onRequest\" xlink:href=\"psysml:e012d373-591a-4cf2-b53b-d810c6dd562d\" xlink:show=\"new\" xlink:title=\"psysml:e012d373-591a-4cf2-b53b-d810c6dd562d\" xlink:type=\"simple\"><rect fill=\"#FFFFFF\" filter=\"url(#f1c3th0pew8ai4)\" height=\"87.72\" id=\"E4\" rx=\"10\" ry=\"10\" style=\"stroke: #A80036; stroke-width: 1.5;\" width=\"138\" x=\"139\" y=\"42.0986\"/><rect fill=\"#FEFECE\" height=\"37.9375\" rx=\"10\" ry=\"10\" style=\"stroke: #FEFECE; stroke-width: 1.5;\" width=\"138\" x=\"139\" y=\"42.0986\"/><rect fill=\"#FEFECE\" height=\"10\" style=\"stroke: #FEFECE; stroke-width: 1.5;\" width=\"138\" x=\"139\" y=\"70.0361\"/><rect fill=\"none\" height=\"87.72\" id=\"E4\" rx=\"10\" ry=\"10\" style=\"stroke: #A80036; stroke-width: 1.5;\" width=\"138\" x=\"139\" y=\"42.0986\"/><text fill=\"#000000\" font-family=\"sans-serif\" font-size=\"12\" font-style=\"italic\" lengthAdjust=\"spacingAndGlyphs\" textLength=\"82\" x=\"167\" y=\"58.2373\">«calculation»</text><text fill=\"#000000\" font-family=\"sans-serif\" font-size=\"12\" lengthAdjust=\"spacingAndGlyphs\" textLength=\"18\" x=\"199\" y=\"72.2061\">ms</text><line style=\"stroke: #A80036; stroke-width: 1.0;\" x1=\"139\" x2=\"277\" y1=\"80.0361\" y2=\"80.0361\"/></a><text fill=\"#000000\" font-family=\"sans-serif\" font-size=\"14\" lengthAdjust=\"spacingAndGlyphs\" textLength=\"80\" x=\"6\" y=\"20.7969\">partMasses</text><rect fill=\"#A80036\" height=\"12\" style=\"stroke: #FEFECE; stroke-width: 1.5;\" width=\"12\" x=\"40\" y=\"36.0986\"/><text fill=\"#000000\" font-family=\"sans-serif\" font-size=\"14\" lengthAdjust=\"spacingAndGlyphs\" textLength=\"66\" x=\"9\" y=\"148.8138\">totalMass</text><rect fill=\"#A80036\" height=\"12\" style=\"stroke: #FEFECE; stroke-width: 1.5;\" width=\"12\" x=\"36\" y=\"123.8186\"/><text fill=\"#000000\" font-family=\"sans-serif\" font-size=\"14\" lengthAdjust=\"spacingAndGlyphs\" textLength=\"80\" x=\"168\" y=\"20.7969\">partMasses</text><rect fill=\"#A80036\" height=\"12\" style=\"stroke: #FEFECE; stroke-width: 1.5;\" width=\"12\" x=\"202\" y=\"36.0986\"/><text fill=\"#000000\" font-family=\"sans-serif\" font-size=\"14\" lengthAdjust=\"spacingAndGlyphs\" textLength=\"66\" x=\"175\" y=\"148.8138\">totalMass</text><rect fill=\"#A80036\" height=\"12\" style=\"stroke: #FEFECE; stroke-width: 1.5;\" width=\"12\" x=\"202\" y=\"123.8186\"/><!--MD5=[4fdc403a75cac9ffebc61fde6768a5bd]\n",
       "@startuml\r\n",
       "skinparam ranksep 8\r\n",
       " \r\n",
       "rec def \"MassSum\" as E1 << <<(B,lemonchiffon) calculation  def>> [[psysml:425e038d-47d6-48b2-bd42-a030f1074fc4 ]] {\r\n",
       "portin \"partMasses\" as E2  [[psysml:b45e328f-a4a8-4519-9228-274640d6e043 ]] \r\n",
       "portout \"totalMass\" as E3  [[psysml:712f9e49-cc72-40cc-a5b0-9958e3b93d47 ]] \r\n",
       "}\r\n",
       "\r\n",
       "rec usage \"ms\" as E4 << <<(U,orange) calculation>> [[psysml:e012d373-591a-4cf2-b53b-d810c6dd562d ]] {\r\n",
       "portin \"partMasses\" as E5  [[psysml:424ec83f-37c8-4393-891d-04f2e8383abc ]] \r\n",
       "portout \"totalMass\" as E6  [[psysml:be56ca6e-4eba-4c60-ba38-91b20c3832b5 ]] \r\n",
       "}\r\n",
       "\r\n",
       "@enduml\r\n",
       "\n",
       "PlantUML version 1.2020.13(Sat Jun 13 12:26:38 UTC 2020)\n",
       "(EPL source distribution)\n",
       "Java Runtime: OpenJDK Runtime Environment\n",
       "JVM: OpenJDK 64-Bit Server VM\n",
       "Default Encoding: UTF-8\n",
       "Language: en\n",
       "Country: null\n",
       "--></g></svg>"
      ]
     },
     "execution_count": 34,
     "metadata": {},
     "output_type": "execute_result"
    }
   ],
   "source": [
    "%viz --style=\"PLANTUML\" --view=\"Action\" \"CalculationExample\""
   ]
  },
  {
   "cell_type": "code",
   "execution_count": 35,
   "id": "a1a4e30e",
   "metadata": {
    "execution": {
     "iopub.execute_input": "2022-08-19T08:22:03.158209Z",
     "iopub.status.busy": "2022-08-19T08:22:03.157768Z",
     "iopub.status.idle": "2022-08-19T08:22:03.171430Z",
     "shell.execute_reply": "2022-08-19T08:22:03.171061Z"
    }
   },
   "outputs": [
    {
     "data": {
      "image/svg+xml": [
       "<?xml version=\"1.0\" encoding=\"UTF-8\" standalone=\"no\"?><svg xmlns=\"http://www.w3.org/2000/svg\" xmlns:xlink=\"http://www.w3.org/1999/xlink\" contentScriptType=\"application/ecmascript\" contentStyleType=\"text/css\" height=\"12px\" preserveAspectRatio=\"none\" style=\"width:12px;height:12px;\" version=\"1.1\" viewBox=\"0 0 12 12\" width=\"12px\" zoomAndPan=\"magnify\"><defs/><g><!--MD5=[ca4faa0b02def275ea33c14ea7a1a98d]\n",
       "@startuml\r\n",
       "skinparam roundcorner 20\r\n",
       "skinparam BoxPadding 20\r\n",
       "skinparam SequenceBoxBackgroundColor #white\r\n",
       "skinparam style strictuml\r\n",
       "skinparam maxMessageSize 100\r\n",
       " \r\n",
       "@enduml\r\n",
       "\n",
       "PlantUML version 1.2020.13(Sat Jun 13 12:26:38 UTC 2020)\n",
       "(EPL source distribution)\n",
       "Java Runtime: OpenJDK Runtime Environment\n",
       "JVM: OpenJDK 64-Bit Server VM\n",
       "Default Encoding: UTF-8\n",
       "Language: en\n",
       "Country: null\n",
       "--></g></svg>"
      ]
     },
     "execution_count": 35,
     "metadata": {},
     "output_type": "execute_result"
    }
   ],
   "source": [
    "%viz --style=\"PLANTUML\" --view=\"Sequence\" \"CalculationExample\""
   ]
  },
  {
   "cell_type": "code",
   "execution_count": 36,
   "id": "b3a650fe",
   "metadata": {
    "execution": {
     "iopub.execute_input": "2022-08-19T08:22:03.221442Z",
     "iopub.status.busy": "2022-08-19T08:22:03.221007Z",
     "iopub.status.idle": "2022-08-19T08:22:03.334031Z",
     "shell.execute_reply": "2022-08-19T08:22:03.332032Z"
    }
   },
   "outputs": [
    {
     "data": {
      "image/svg+xml": [
       "<?xml version=\"1.0\" encoding=\"UTF-8\" standalone=\"no\"?><svg xmlns=\"http://www.w3.org/2000/svg\" xmlns:xlink=\"http://www.w3.org/1999/xlink\" contentScriptType=\"application/ecmascript\" contentStyleType=\"text/css\" height=\"499px\" preserveAspectRatio=\"none\" style=\"width:1402px;height:499px;\" version=\"1.1\" viewBox=\"0 0 1402 499\" width=\"1402px\" zoomAndPan=\"magnify\"><defs><filter height=\"300%\" id=\"f1wy5ru3l9atsl\" width=\"300%\" x=\"-1\" y=\"-1\"><feGaussianBlur result=\"blurOut\" stdDeviation=\"2.0\"/><feColorMatrix in=\"blurOut\" result=\"blurOut2\" type=\"matrix\" values=\"0 0 0 0 0 0 0 0 0 0 0 0 0 0 0 0 0 0 .4 0\"/><feOffset dx=\"4.0\" dy=\"4.0\" in=\"blurOut2\" result=\"blurOut3\"/><feBlend in=\"SourceGraphic\" in2=\"blurOut3\" mode=\"normal\"/></filter></defs><g><!--MD5=[fbc87193dbaf4d95561dea2c320d4a47]\n",
       "cluster E1--><a href=\"psysml:9a950c4d-df47-4bf2-a127-6824d456053c\" target=\"_top\" title=\"psysml:9a950c4d-df47-4bf2-a127-6824d456053c\" xlink:actuate=\"onRequest\" xlink:href=\"psysml:9a950c4d-df47-4bf2-a127-6824d456053c\" xlink:show=\"new\" xlink:title=\"psysml:9a950c4d-df47-4bf2-a127-6824d456053c\" xlink:type=\"simple\"><polygon fill=\"#FFFFFF\" filter=\"url(#f1wy5ru3l9atsl)\" points=\"16,6,155,6,162,28.2969,1380,28.2969,1380,487,16,487,16,6\" style=\"stroke: #000000; stroke-width: 1.5;\"/><line style=\"stroke: #000000; stroke-width: 1.5;\" x1=\"16\" x2=\"162\" y1=\"28.2969\" y2=\"28.2969\"/><text fill=\"#000000\" font-family=\"sans-serif\" font-size=\"14\" font-weight=\"bold\" lengthAdjust=\"spacingAndGlyphs\" textLength=\"133\" x=\"20\" y=\"20.9951\">CalculationExample</text></a><!--MD5=[168fadf3d0c3fd93dd5d6da1b1d7ab76]\n",
       "cluster E7--><a href=\"psysml:425e038d-47d6-48b2-bd42-a030f1074fc4\" target=\"_top\" title=\"psysml:425e038d-47d6-48b2-bd42-a030f1074fc4\" xlink:actuate=\"onRequest\" xlink:href=\"psysml:425e038d-47d6-48b2-bd42-a030f1074fc4\" xlink:show=\"new\" xlink:title=\"psysml:425e038d-47d6-48b2-bd42-a030f1074fc4\" xlink:type=\"simple\"><rect fill=\"#FFFFFF\" filter=\"url(#f1wy5ru3l9atsl)\" height=\"370\" id=\"E7\" style=\"stroke: #A80036; stroke-width: 1.5;\" width=\"186\" x=\"727\" y=\"79\"/><rect fill=\"#FEFECE\" height=\"37.9375\" style=\"stroke: #A80036; stroke-width: 1.5;\" width=\"186\" x=\"727\" y=\"79\"/><text fill=\"#000000\" font-family=\"sans-serif\" font-size=\"12\" font-style=\"italic\" lengthAdjust=\"spacingAndGlyphs\" textLength=\"110\" x=\"765\" y=\"95.1387\">«calculation  def»</text><text fill=\"#000000\" font-family=\"sans-serif\" font-size=\"12\" lengthAdjust=\"spacingAndGlyphs\" textLength=\"59\" x=\"790.5\" y=\"109.1074\">MassSum</text></a><!--MD5=[b4997ac47864f28c2f74865a473b2911]\n",
       "class E2--><a href=\"psysml:240f00ab-b9bf-457e-9376-98b0b5e156bb\" target=\"_top\" title=\"psysml:240f00ab-b9bf-457e-9376-98b0b5e156bb\" xlink:actuate=\"onRequest\" xlink:href=\"psysml:240f00ab-b9bf-457e-9376-98b0b5e156bb\" xlink:show=\"new\" xlink:title=\"psysml:240f00ab-b9bf-457e-9376-98b0b5e156bb\" xlink:type=\"simple\"><rect fill=\"#FEFECE\" filter=\"url(#f1wy5ru3l9atsl)\" height=\"69.6094\" id=\"E2\" style=\"stroke: #A80036; stroke-width: 1.5;\" width=\"103\" x=\"1059.5\" y=\"313\"/><ellipse cx=\"1074.5\" cy=\"329\" fill=\"#008000\" rx=\"11\" ry=\"11\" style=\"stroke: #A80036; stroke-width: 1.0;\"/><path d=\"M1071.375,334 L1071.375,323.4063 L1074.6094,323.4063 Q1076.5156,323.4063 1077.4219,324.1563 Q1078.3438,324.9063 1078.3438,326.0781 Q1078.3438,326.7656 1077.9531,327.4219 Q1077.5781,328.0781 1076.8594,328.375 Q1077.7188,328.75 1078.2344,329.4375 Q1078.75,330.125 1078.75,330.9375 Q1078.75,332.3125 1077.7188,333.1563 Q1076.7031,334 1074.5938,334 L1071.375,334 Z M1073.2969,327.6406 L1074.4531,327.6406 Q1075.5781,327.6406 1075.9844,327.2656 Q1076.4063,326.875 1076.4063,326.25 Q1076.4063,325.6719 1075.9844,325.3125 Q1075.5625,324.9531 1074.625,324.9531 L1073.2969,324.9531 L1073.2969,327.6406 Z M1073.2969,332.4219 L1074.7969,332.4219 Q1075.7031,332.4219 1076.2344,332.0313 Q1076.7656,331.6406 1076.7656,330.8906 Q1076.7656,330.125 1076.2656,329.6563 Q1075.7656,329.1719 1074.5,329.1719 L1073.2969,329.1719 L1073.2969,332.4219 Z \"/><text fill=\"#000000\" font-family=\"sans-serif\" font-size=\"12\" lengthAdjust=\"spacingAndGlyphs\" textLength=\"71\" x=\"1088.5\" y=\"333.1543\">VehiclePart</text><line style=\"stroke: #A80036; stroke-width: 1.5;\" x1=\"1060.5\" x2=\"1161.5\" y1=\"345\" y2=\"345\"/><text fill=\"#000000\" font-family=\"sans-serif\" font-size=\"11\" lengthAdjust=\"spacingAndGlyphs\" textLength=\"80\" x=\"1065.5\" y=\"376.0151\">m: MassValue</text><line style=\"stroke: #A80036; stroke-width: 1.0;\" x1=\"1060.5\" x2=\"1083.5\" y1=\"359.4023\" y2=\"359.4023\"/><text fill=\"#000000\" font-family=\"sans-serif\" font-size=\"11\" lengthAdjust=\"spacingAndGlyphs\" textLength=\"55\" x=\"1083.5\" y=\"362.7104\">attributes</text><line style=\"stroke: #A80036; stroke-width: 1.0;\" x1=\"1138.5\" x2=\"1161.5\" y1=\"359.4023\" y2=\"359.4023\"/></a><!--MD5=[09b614a08d8cba4a07c9adeb5e0fee81]\n",
       "class E3--><a href=\"psysml:240db56f-6d8c-4faf-8b3c-f8974d12918d\" target=\"_top\" title=\"psysml:240db56f-6d8c-4faf-8b3c-f8974d12918d\" xlink:actuate=\"onRequest\" xlink:href=\"psysml:240db56f-6d8c-4faf-8b3c-f8974d12918d\" xlink:show=\"new\" xlink:title=\"psysml:240db56f-6d8c-4faf-8b3c-f8974d12918d\" xlink:type=\"simple\"><rect fill=\"#FEFECE\" filter=\"url(#f1wy5ru3l9atsl)\" height=\"40\" id=\"E3\" style=\"stroke: #A80036; stroke-width: 1.5;\" width=\"77\" x=\"929.5\" y=\"195\"/><ellipse cx=\"944.5\" cy=\"211\" fill=\"#008000\" rx=\"11\" ry=\"11\" style=\"stroke: #A80036; stroke-width: 1.0;\"/><path d=\"M941.375,216 L941.375,205.4063 L944.6094,205.4063 Q946.5156,205.4063 947.4219,206.1563 Q948.3438,206.9063 948.3438,208.0781 Q948.3438,208.7656 947.9531,209.4219 Q947.5781,210.0781 946.8594,210.375 Q947.7188,210.75 948.2344,211.4375 Q948.75,212.125 948.75,212.9375 Q948.75,214.3125 947.7188,215.1563 Q946.7031,216 944.5938,216 L941.375,216 Z M943.2969,209.6406 L944.4531,209.6406 Q945.5781,209.6406 945.9844,209.2656 Q946.4063,208.875 946.4063,208.25 Q946.4063,207.6719 945.9844,207.3125 Q945.5625,206.9531 944.625,206.9531 L943.2969,206.9531 L943.2969,209.6406 Z M943.2969,214.4219 L944.7969,214.4219 Q945.7031,214.4219 946.2344,214.0313 Q946.7656,213.6406 946.7656,212.8906 Q946.7656,212.125 946.2656,211.6563 Q945.7656,211.1719 944.5,211.1719 L943.2969,211.1719 L943.2969,214.4219 Z \"/><text fill=\"#000000\" font-family=\"sans-serif\" font-size=\"12\" lengthAdjust=\"spacingAndGlyphs\" textLength=\"45\" x=\"958.5\" y=\"215.1543\">Vehicle</text><line style=\"stroke: #A80036; stroke-width: 1.5;\" x1=\"930.5\" x2=\"1005.5\" y1=\"227\" y2=\"227\"/></a><!--MD5=[ebbe1d658d1005bcc118a6aa81145e00]\n",
       "class E4--><a href=\"psysml:ce00e2ad-3315-43f7-b2e6-6ce884a27309\" target=\"_top\" title=\"psysml:ce00e2ad-3315-43f7-b2e6-6ce884a27309\" xlink:actuate=\"onRequest\" xlink:href=\"psysml:ce00e2ad-3315-43f7-b2e6-6ce884a27309\" xlink:show=\"new\" xlink:title=\"psysml:ce00e2ad-3315-43f7-b2e6-6ce884a27309\" xlink:type=\"simple\"><rect fill=\"#FEFECE\" filter=\"url(#f1wy5ru3l9atsl)\" height=\"75.5469\" id=\"E4\" rx=\"10\" ry=\"10\" style=\"stroke: #A80036; stroke-width: 1.5;\" width=\"132\" x=\"1045\" y=\"41\"/><ellipse cx=\"1060\" cy=\"59.9688\" fill=\"#32CD32\" rx=\"11\" ry=\"11\" style=\"stroke: #A80036; stroke-width: 1.0;\"/><path d=\"M1056.8125,64.9688 L1056.8125,54.375 L1060.4219,54.375 Q1061.6406,54.375 1062.4375,54.8125 Q1063.2344,55.2344 1063.6094,55.9375 Q1064,56.6406 1064,57.4844 Q1064,58.3281 1063.625,59.0156 Q1063.2656,59.7031 1062.4688,60.125 Q1061.6875,60.5313 1060.5,60.5313 L1058.7656,60.5313 L1058.7656,64.9688 L1056.8125,64.9688 Z M1058.7656,58.9375 L1060.375,58.9375 Q1061.1875,58.9375 1061.6094,58.5313 Q1062.0313,58.125 1062.0313,57.4844 Q1062.0313,56.8594 1061.6094,56.4531 Q1061.1875,56.0469 1060.3906,56.0469 L1058.7656,56.0469 L1058.7656,58.9375 Z \"/><text fill=\"#000000\" font-family=\"sans-serif\" font-size=\"12\" font-style=\"italic\" lengthAdjust=\"spacingAndGlyphs\" textLength=\"40\" x=\"1104\" y=\"57.1387\">«part»</text><text fill=\"#000000\" font-family=\"sans-serif\" font-size=\"12\" lengthAdjust=\"spacingAndGlyphs\" textLength=\"96\" x=\"1074\" y=\"71.1074\">vehicle: Vehicle</text><line style=\"stroke: #A80036; stroke-width: 1.5;\" x1=\"1046\" x2=\"1176\" y1=\"78.9375\" y2=\"78.9375\"/><text fill=\"#000000\" font-family=\"sans-serif\" font-size=\"11\" lengthAdjust=\"spacingAndGlyphs\" textLength=\"89\" x=\"1051\" y=\"109.9526\">^m: MassValue</text><line style=\"stroke: #A80036; stroke-width: 1.0;\" x1=\"1046\" x2=\"1083.5\" y1=\"93.3398\" y2=\"93.3398\"/><text fill=\"#000000\" font-family=\"sans-serif\" font-size=\"11\" lengthAdjust=\"spacingAndGlyphs\" textLength=\"55\" x=\"1083.5\" y=\"96.6479\">attributes</text><line style=\"stroke: #A80036; stroke-width: 1.0;\" x1=\"1138.5\" x2=\"1176\" y1=\"93.3398\" y2=\"93.3398\"/></a><!--MD5=[270fce915f116d4de14055a7c1d9a0f3]\n",
       "class E5--><a href=\"psysml:83fc889d-b3c1-4be4-83aa-24728b198254\" target=\"_top\" title=\"psysml:83fc889d-b3c1-4be4-83aa-24728b198254\" xlink:actuate=\"onRequest\" xlink:href=\"psysml:83fc889d-b3c1-4be4-83aa-24728b198254\" xlink:show=\"new\" xlink:title=\"psysml:83fc889d-b3c1-4be4-83aa-24728b198254\" xlink:type=\"simple\"><rect fill=\"#FEFECE\" filter=\"url(#f1wy5ru3l9atsl)\" height=\"75.5469\" id=\"E5\" rx=\"10\" ry=\"10\" style=\"stroke: #A80036; stroke-width: 1.5;\" width=\"139\" x=\"1041.5\" y=\"177\"/><ellipse cx=\"1056.5\" cy=\"195.9688\" fill=\"#32CD32\" rx=\"11\" ry=\"11\" style=\"stroke: #A80036; stroke-width: 1.0;\"/><path d=\"M1053.3125,200.9688 L1053.3125,190.375 L1056.9219,190.375 Q1058.1406,190.375 1058.9375,190.8125 Q1059.7344,191.2344 1060.1094,191.9375 Q1060.5,192.6406 1060.5,193.4844 Q1060.5,194.3281 1060.125,195.0156 Q1059.7656,195.7031 1058.9688,196.125 Q1058.1875,196.5313 1057,196.5313 L1055.2656,196.5313 L1055.2656,200.9688 L1053.3125,200.9688 Z M1055.2656,194.9375 L1056.875,194.9375 Q1057.6875,194.9375 1058.1094,194.5313 Q1058.5313,194.125 1058.5313,193.4844 Q1058.5313,192.8594 1058.1094,192.4531 Q1057.6875,192.0469 1056.8906,192.0469 L1055.2656,192.0469 L1055.2656,194.9375 Z \"/><text fill=\"#000000\" font-family=\"sans-serif\" font-size=\"12\" font-style=\"italic\" lengthAdjust=\"spacingAndGlyphs\" textLength=\"40\" x=\"1104\" y=\"193.1387\">«part»</text><text fill=\"#000000\" font-family=\"sans-serif\" font-size=\"12\" lengthAdjust=\"spacingAndGlyphs\" textLength=\"103\" x=\"1070.5\" y=\"207.1074\">eng: VehiclePart</text><line style=\"stroke: #A80036; stroke-width: 1.5;\" x1=\"1042.5\" x2=\"1179.5\" y1=\"214.9375\" y2=\"214.9375\"/><text fill=\"#000000\" font-family=\"sans-serif\" font-size=\"11\" lengthAdjust=\"spacingAndGlyphs\" textLength=\"89\" x=\"1047.5\" y=\"245.9526\">^m: MassValue</text><line style=\"stroke: #A80036; stroke-width: 1.0;\" x1=\"1042.5\" x2=\"1083.5\" y1=\"229.3398\" y2=\"229.3398\"/><text fill=\"#000000\" font-family=\"sans-serif\" font-size=\"11\" lengthAdjust=\"spacingAndGlyphs\" textLength=\"55\" x=\"1083.5\" y=\"232.6479\">attributes</text><line style=\"stroke: #A80036; stroke-width: 1.0;\" x1=\"1138.5\" x2=\"1179.5\" y1=\"229.3398\" y2=\"229.3398\"/></a><!--MD5=[60a26617385b1d2d0262a64233df1f8d]\n",
       "class E6--><a href=\"psysml:9ad03ab5-4ba7-4600-8f6c-f33bd21910a1\" target=\"_top\" title=\"psysml:9ad03ab5-4ba7-4600-8f6c-f33bd21910a1\" xlink:actuate=\"onRequest\" xlink:href=\"psysml:9ad03ab5-4ba7-4600-8f6c-f33bd21910a1\" xlink:show=\"new\" xlink:title=\"psysml:9ad03ab5-4ba7-4600-8f6c-f33bd21910a1\" xlink:type=\"simple\"><rect fill=\"#FEFECE\" filter=\"url(#f1wy5ru3l9atsl)\" height=\"75.5469\" id=\"E6\" rx=\"10\" ry=\"10\" style=\"stroke: #A80036; stroke-width: 1.5;\" width=\"148\" x=\"1216\" y=\"177\"/><ellipse cx=\"1231\" cy=\"195.9688\" fill=\"#32CD32\" rx=\"11\" ry=\"11\" style=\"stroke: #A80036; stroke-width: 1.0;\"/><path d=\"M1227.8125,200.9688 L1227.8125,190.375 L1231.4219,190.375 Q1232.6406,190.375 1233.4375,190.8125 Q1234.2344,191.2344 1234.6094,191.9375 Q1235,192.6406 1235,193.4844 Q1235,194.3281 1234.625,195.0156 Q1234.2656,195.7031 1233.4688,196.125 Q1232.6875,196.5313 1231.5,196.5313 L1229.7656,196.5313 L1229.7656,200.9688 L1227.8125,200.9688 Z M1229.7656,194.9375 L1231.375,194.9375 Q1232.1875,194.9375 1232.6094,194.5313 Q1233.0313,194.125 1233.0313,193.4844 Q1233.0313,192.8594 1232.6094,192.4531 Q1232.1875,192.0469 1231.3906,192.0469 L1229.7656,192.0469 L1229.7656,194.9375 Z \"/><text fill=\"#000000\" font-family=\"sans-serif\" font-size=\"12\" font-style=\"italic\" lengthAdjust=\"spacingAndGlyphs\" textLength=\"40\" x=\"1283\" y=\"193.1387\">«part»</text><text fill=\"#000000\" font-family=\"sans-serif\" font-size=\"12\" lengthAdjust=\"spacingAndGlyphs\" textLength=\"112\" x=\"1245\" y=\"207.1074\">trans: VehiclePart</text><line style=\"stroke: #A80036; stroke-width: 1.5;\" x1=\"1217\" x2=\"1363\" y1=\"214.9375\" y2=\"214.9375\"/><text fill=\"#000000\" font-family=\"sans-serif\" font-size=\"11\" lengthAdjust=\"spacingAndGlyphs\" textLength=\"89\" x=\"1222\" y=\"245.9526\">^m: MassValue</text><line style=\"stroke: #A80036; stroke-width: 1.0;\" x1=\"1217\" x2=\"1262.5\" y1=\"229.3398\" y2=\"229.3398\"/><text fill=\"#000000\" font-family=\"sans-serif\" font-size=\"11\" lengthAdjust=\"spacingAndGlyphs\" textLength=\"55\" x=\"1262.5\" y=\"232.6479\">attributes</text><line style=\"stroke: #A80036; stroke-width: 1.0;\" x1=\"1317.5\" x2=\"1363\" y1=\"229.3398\" y2=\"229.3398\"/></a><!--MD5=[96f4274e9e20536e775497830990834d]\n",
       "class E10--><a href=\"psysml:e012d373-591a-4cf2-b53b-d810c6dd562d\" target=\"_top\" title=\"psysml:e012d373-591a-4cf2-b53b-d810c6dd562d\" xlink:actuate=\"onRequest\" xlink:href=\"psysml:e012d373-591a-4cf2-b53b-d810c6dd562d\" xlink:show=\"new\" xlink:title=\"psysml:e012d373-591a-4cf2-b53b-d810c6dd562d\" xlink:type=\"simple\"><rect fill=\"#FEFECE\" filter=\"url(#f1wy5ru3l9atsl)\" height=\"75.5469\" id=\"E10\" rx=\"10\" ry=\"10\" style=\"stroke: #A80036; stroke-width: 1.5;\" width=\"293\" x=\"417.5\" y=\"41\"/><ellipse cx=\"515.25\" cy=\"59.9688\" fill=\"#FFA500\" rx=\"11\" ry=\"11\" style=\"stroke: #A80036; stroke-width: 1.0;\"/><path d=\"M515,65.4375 Q513.25,65.4375 512.2969,64.4063 Q511.3594,63.3594 511.3594,61.5156 L511.3594,54.625 L513.4219,54.625 L513.4219,54.7813 Q513.3281,54.875 513.2969,55.0156 Q513.2813,55.1406 513.2813,55.4063 L513.2813,61.5313 Q513.2813,62.625 513.6563,63.25 Q514.0313,63.875 515.0156,63.875 Q516,63.875 516.3906,63.25 Q516.7813,62.625 516.7813,61.4844 L516.7813,54.625 L518.6563,54.625 L518.6563,61.4688 Q518.6563,63.5 517.625,64.4688 Q516.6094,65.4375 515,65.4375 Z \"/><text fill=\"#000000\" font-family=\"sans-serif\" font-size=\"12\" font-style=\"italic\" lengthAdjust=\"spacingAndGlyphs\" textLength=\"82\" x=\"539.25\" y=\"57.1387\">«calculation»</text><text fill=\"#000000\" font-family=\"sans-serif\" font-size=\"12\" lengthAdjust=\"spacingAndGlyphs\" textLength=\"85\" x=\"535.75\" y=\"71.1074\">ms: MassSum</text><line style=\"stroke: #A80036; stroke-width: 1.5;\" x1=\"418.5\" x2=\"709.5\" y1=\"78.9375\" y2=\"78.9375\"/><text fill=\"#000000\" font-family=\"sans-serif\" font-size=\"11\" font-weight=\"bold\" lengthAdjust=\"spacingAndGlyphs\" textLength=\"10\" x=\"423.5\" y=\"109.9526\">in</text><text fill=\"#000000\" font-family=\"sans-serif\" font-size=\"11\" lengthAdjust=\"spacingAndGlyphs\" textLength=\"267\" x=\"437.5\" y=\"109.9526\">partMasses= (vehicle.eng.m, vehicle.trans.m);</text><line style=\"stroke: #A80036; stroke-width: 1.0;\" x1=\"418.5\" x2=\"530.5\" y1=\"93.3398\" y2=\"93.3398\"/><text fill=\"#000000\" font-family=\"sans-serif\" font-size=\"11\" lengthAdjust=\"spacingAndGlyphs\" textLength=\"67\" x=\"530.5\" y=\"96.6479\">parameters</text><line style=\"stroke: #A80036; stroke-width: 1.0;\" x1=\"597.5\" x2=\"709.5\" y1=\"93.3398\" y2=\"93.3398\"/></a><!--MD5=[1dd1bfd58a279cf63c5f349dbc8fc6a1]\n",
       "class E11--><a href=\"psysml:e4253433-368c-4e86-8a3c-6b186419df89\" target=\"_top\" title=\"psysml:e4253433-368c-4e86-8a3c-6b186419df89\" xlink:actuate=\"onRequest\" xlink:href=\"psysml:e4253433-368c-4e86-8a3c-6b186419df89\" xlink:show=\"new\" xlink:title=\"psysml:e4253433-368c-4e86-8a3c-6b186419df89\" xlink:type=\"simple\"><rect fill=\"#FEFECE\" filter=\"url(#f1wy5ru3l9atsl)\" height=\"45.9375\" id=\"E11\" rx=\"10\" ry=\"10\" style=\"stroke: #A80036; stroke-width: 1.5;\" width=\"86\" x=\"296\" y=\"56\"/><ellipse cx=\"311\" cy=\"74.9688\" fill=\"#32CD32\" rx=\"11\" ry=\"11\" style=\"stroke: #A80036; stroke-width: 1.0;\"/><path d=\"M307.8125,79.9688 L307.8125,69.375 L311.4219,69.375 Q312.6406,69.375 313.4375,69.8125 Q314.2344,70.2344 314.6094,70.9375 Q315,71.6406 315,72.4844 Q315,73.3281 314.625,74.0156 Q314.2656,74.7031 313.4688,75.125 Q312.6875,75.5313 311.5,75.5313 L309.7656,75.5313 L309.7656,79.9688 L307.8125,79.9688 Z M309.7656,73.9375 L311.375,73.9375 Q312.1875,73.9375 312.6094,73.5313 Q313.0313,73.125 313.0313,72.4844 Q313.0313,71.8594 312.6094,71.4531 Q312.1875,71.0469 311.3906,71.0469 L309.7656,71.0469 L309.7656,73.9375 Z \"/><text fill=\"#000000\" font-family=\"sans-serif\" font-size=\"12\" font-style=\"italic\" lengthAdjust=\"spacingAndGlyphs\" textLength=\"40\" x=\"332\" y=\"72.1387\">«part»</text><text fill=\"#000000\" font-family=\"sans-serif\" font-size=\"12\" lengthAdjust=\"spacingAndGlyphs\" textLength=\"50\" x=\"325\" y=\"86.1074\">vehicles</text><line style=\"stroke: #A80036; stroke-width: 1.5;\" x1=\"297\" x2=\"381\" y1=\"93.9375\" y2=\"93.9375\"/></a><!--MD5=[49a0ec8f00dab7302a31f22d0f0fe584]\n",
       "class E12--><a href=\"psysml:03468340-4ee1-4dfd-ba23-9337b31e6caf\" target=\"_top\" title=\"psysml:03468340-4ee1-4dfd-ba23-9337b31e6caf\" xlink:actuate=\"onRequest\" xlink:href=\"psysml:03468340-4ee1-4dfd-ba23-9337b31e6caf\" xlink:show=\"new\" xlink:title=\"psysml:03468340-4ee1-4dfd-ba23-9337b31e6caf\" xlink:type=\"simple\"><rect fill=\"#FEFECE\" filter=\"url(#f1wy5ru3l9atsl)\" height=\"45.9375\" id=\"E12\" rx=\"10\" ry=\"10\" style=\"stroke: #A80036; stroke-width: 1.5;\" width=\"97\" x=\"163.5\" y=\"56\"/><ellipse cx=\"178.5\" cy=\"74.9688\" fill=\"#FFA500\" rx=\"11\" ry=\"11\" style=\"stroke: #A80036; stroke-width: 1.0;\"/><path d=\"M178.25,80.4375 Q176.5,80.4375 175.5469,79.4063 Q174.6094,78.3594 174.6094,76.5156 L174.6094,69.625 L176.6719,69.625 L176.6719,69.7813 Q176.5781,69.875 176.5469,70.0156 Q176.5313,70.1406 176.5313,70.4063 L176.5313,76.5313 Q176.5313,77.625 176.9063,78.25 Q177.2813,78.875 178.2656,78.875 Q179.25,78.875 179.6406,78.25 Q180.0313,77.625 180.0313,76.4844 L180.0313,69.625 L181.9063,69.625 L181.9063,76.4688 Q181.9063,78.5 180.875,79.4688 Q179.8594,80.4375 178.25,80.4375 Z \"/><text fill=\"#000000\" font-family=\"sans-serif\" font-size=\"12\" font-style=\"italic\" lengthAdjust=\"spacingAndGlyphs\" textLength=\"69\" x=\"190.5\" y=\"72.1387\">«attribute»</text><text fill=\"#000000\" font-family=\"sans-serif\" font-size=\"12\" lengthAdjust=\"spacingAndGlyphs\" textLength=\"56\" x=\"195\" y=\"86.1074\">masses1</text><line style=\"stroke: #A80036; stroke-width: 1.5;\" x1=\"164.5\" x2=\"259.5\" y1=\"93.9375\" y2=\"93.9375\"/></a><!--MD5=[ee3c913d1a06f366521f9ef512b67efe]\n",
       "class E13--><a href=\"psysml:a35488ce-7eb0-470e-9ecc-f7a0c28bc139\" target=\"_top\" title=\"psysml:a35488ce-7eb0-470e-9ecc-f7a0c28bc139\" xlink:actuate=\"onRequest\" xlink:href=\"psysml:a35488ce-7eb0-470e-9ecc-f7a0c28bc139\" xlink:show=\"new\" xlink:title=\"psysml:a35488ce-7eb0-470e-9ecc-f7a0c28bc139\" xlink:type=\"simple\"><rect fill=\"#FEFECE\" filter=\"url(#f1wy5ru3l9atsl)\" height=\"45.9375\" id=\"E13\" rx=\"10\" ry=\"10\" style=\"stroke: #A80036; stroke-width: 1.5;\" width=\"97\" x=\"31.5\" y=\"56\"/><ellipse cx=\"46.5\" cy=\"74.9688\" fill=\"#FFA500\" rx=\"11\" ry=\"11\" style=\"stroke: #A80036; stroke-width: 1.0;\"/><path d=\"M46.25,80.4375 Q44.5,80.4375 43.5469,79.4063 Q42.6094,78.3594 42.6094,76.5156 L42.6094,69.625 L44.6719,69.625 L44.6719,69.7813 Q44.5781,69.875 44.5469,70.0156 Q44.5313,70.1406 44.5313,70.4063 L44.5313,76.5313 Q44.5313,77.625 44.9063,78.25 Q45.2813,78.875 46.2656,78.875 Q47.25,78.875 47.6406,78.25 Q48.0313,77.625 48.0313,76.4844 L48.0313,69.625 L49.9063,69.625 L49.9063,76.4688 Q49.9063,78.5 48.875,79.4688 Q47.8594,80.4375 46.25,80.4375 Z \"/><text fill=\"#000000\" font-family=\"sans-serif\" font-size=\"12\" font-style=\"italic\" lengthAdjust=\"spacingAndGlyphs\" textLength=\"69\" x=\"58.5\" y=\"72.1387\">«attribute»</text><text fill=\"#000000\" font-family=\"sans-serif\" font-size=\"12\" lengthAdjust=\"spacingAndGlyphs\" textLength=\"56\" x=\"63\" y=\"86.1074\">masses2</text><line style=\"stroke: #A80036; stroke-width: 1.5;\" x1=\"32.5\" x2=\"127.5\" y1=\"93.9375\" y2=\"93.9375\"/></a><text fill=\"#000000\" font-family=\"sans-serif\" font-size=\"14\" lengthAdjust=\"spacingAndGlyphs\" textLength=\"80\" x=\"780\" y=\"57.6982\">partMasses</text><rect fill=\"#A80036\" height=\"12\" style=\"stroke: #FEFECE; stroke-width: 1.5;\" width=\"12\" x=\"814\" y=\"73\"/><text fill=\"#000000\" font-family=\"sans-serif\" font-size=\"14\" lengthAdjust=\"spacingAndGlyphs\" textLength=\"66\" x=\"787\" y=\"467.9951\">totalMass</text><rect fill=\"#A80036\" height=\"12\" style=\"stroke: #FEFECE; stroke-width: 1.5;\" width=\"12\" x=\"814\" y=\"443\"/><!--MD5=[05d275557350bfb9b23a4ef7222b4c39]\n",
       "link E3 to E2--><a href=\"psysml:2113862d-3e36-4f2a-be29-5fbeffc35ef5\" target=\"_top\" title=\"psysml:2113862d-3e36-4f2a-be29-5fbeffc35ef5\" xlink:actuate=\"onRequest\" xlink:href=\"psysml:2113862d-3e36-4f2a-be29-5fbeffc35ef5\" xlink:show=\"new\" xlink:title=\"psysml:2113862d-3e36-4f2a-be29-5fbeffc35ef5\" xlink:type=\"simple\"><path d=\"M988.79,235.05 C1007.12,251.83 1034.6,277.01 1058.86,299.23 \" fill=\"none\" id=\"E3-&gt;E2\" style=\"stroke: #A80036; stroke-width: 1.0;\"/><polygon fill=\"none\" points=\"1063.8,294.27,1073.82,312.94,1054.35,304.59,1063.8,294.27\" style=\"stroke: #A80036; stroke-width: 1.0;\"/></a><!--MD5=[f0cdf4548168e5211fb3a02bf679d63a]\n",
       "link E4 to E3--><a href=\"psysml:3f6bcc61-006c-4905-be22-168150e04931\" target=\"_top\" title=\"psysml:3f6bcc61-006c-4905-be22-168150e04931\" xlink:actuate=\"onRequest\" xlink:href=\"psysml:3f6bcc61-006c-4905-be22-168150e04931\" xlink:show=\"new\" xlink:title=\"psysml:3f6bcc61-006c-4905-be22-168150e04931\" xlink:type=\"simple\"><path d=\"M1071.17,117.33 C1049.8,137.35 1023.71,161.79 1003.12,181.09 \" fill=\"none\" id=\"E4-&gt;E3\" style=\"stroke: #A80036; stroke-width: 1.0;\"/><polygon fill=\"#FFFFFF\" points=\"988.29,194.99,997.356,176.8845,1006.9355,187.094,988.29,194.99\" style=\"stroke: #A80036; stroke-width: 1.0;\"/><ellipse cx=\"1002.8812\" cy=\"174.4428\" fill=\"#A80036\" rx=\"2\" ry=\"2\" style=\"stroke: #A80036; stroke-width: 1.0;\"/><ellipse cx=\"1009.7237\" cy=\"181.7353\" fill=\"#A80036\" rx=\"2\" ry=\"2\" style=\"stroke: #A80036; stroke-width: 1.0;\"/></a><!--MD5=[62aa6af11e70f752912c1cb0466f24f7]\n",
       "reverse link E4 to E5--><a href=\"psysml:dfe553ed-92b1-45a3-82b1-c875cfb3cf56\" target=\"_top\" title=\"psysml:dfe553ed-92b1-45a3-82b1-c875cfb3cf56\" xlink:actuate=\"onRequest\" xlink:href=\"psysml:dfe553ed-92b1-45a3-82b1-c875cfb3cf56\" xlink:show=\"new\" xlink:title=\"psysml:dfe553ed-92b1-45a3-82b1-c875cfb3cf56\" xlink:type=\"simple\"><path d=\"M1111,130.46 C1111,145.87 1111,162.52 1111,176.87 \" fill=\"none\" id=\"E4&lt;-E5\" style=\"stroke: #A80036; stroke-width: 1.0;\"/><polygon fill=\"#FFFFFF\" points=\"1111,117.33,1107,123.33,1111,129.33,1115,123.33,1111,117.33\" style=\"stroke: #A80036; stroke-width: 1.0;\"/><text fill=\"#000000\" font-family=\"sans-serif\" font-size=\"13\" lengthAdjust=\"spacingAndGlyphs\" textLength=\"8\" x=\"1102.2875\" y=\"165.8612\">1</text></a><!--MD5=[15ebcb19ae302d9b601edb458606d402]\n",
       "link E5 to E2--><a href=\"psysml:7cfd1003-3fe0-4a32-a3a1-13a5c8efedf2\" target=\"_top\" title=\"psysml:7cfd1003-3fe0-4a32-a3a1-13a5c8efedf2\" xlink:actuate=\"onRequest\" xlink:href=\"psysml:7cfd1003-3fe0-4a32-a3a1-13a5c8efedf2\" xlink:show=\"new\" xlink:title=\"psysml:7cfd1003-3fe0-4a32-a3a1-13a5c8efedf2\" xlink:type=\"simple\"><path d=\"M1111,253.19 C1111,265.5 1111,279.46 1111,292.78 \" fill=\"none\" id=\"E5-&gt;E2\" style=\"stroke: #A80036; stroke-width: 1.0;\"/><polygon fill=\"#FFFFFF\" points=\"1111,312.86,1104,293.86,1118,293.86,1111,312.86\" style=\"stroke: #A80036; stroke-width: 1.0;\"/><ellipse cx=\"1106\" cy=\"288.16\" fill=\"#A80036\" rx=\"2\" ry=\"2\" style=\"stroke: #A80036; stroke-width: 1.0;\"/><ellipse cx=\"1116\" cy=\"288.16\" fill=\"#A80036\" rx=\"2\" ry=\"2\" style=\"stroke: #A80036; stroke-width: 1.0;\"/></a><!--MD5=[6db378b65e1aef66a01cb3103812b399]\n",
       "reverse link E4 to E6--><a href=\"psysml:56232501-f921-4851-b5f9-a91b366c1c7b\" target=\"_top\" title=\"psysml:56232501-f921-4851-b5f9-a91b366c1c7b\" xlink:actuate=\"onRequest\" xlink:href=\"psysml:56232501-f921-4851-b5f9-a91b366c1c7b\" xlink:show=\"new\" xlink:title=\"psysml:56232501-f921-4851-b5f9-a91b366c1c7b\" xlink:type=\"simple\"><path d=\"M1171.3,125.14 C1193.78,141.97 1219,160.85 1240.41,176.87 \" fill=\"none\" id=\"E4&lt;-E6\" style=\"stroke: #A80036; stroke-width: 1.0;\"/><polygon fill=\"#FFFFFF\" points=\"1160.86,117.33,1163.2645,124.1284,1170.4647,124.5237,1168.0603,117.7253,1160.86,117.33\" style=\"stroke: #A80036; stroke-width: 1.0;\"/><text fill=\"#000000\" font-family=\"sans-serif\" font-size=\"13\" lengthAdjust=\"spacingAndGlyphs\" textLength=\"8\" x=\"1222.8643\" y=\"165.8612\">1</text></a><!--MD5=[2351f337d6de0f557b50152ba70847b5]\n",
       "link E6 to E2--><a href=\"psysml:b3767e4f-9e3f-4162-9e5b-3e184cb0e1ab\" target=\"_top\" title=\"psysml:b3767e4f-9e3f-4162-9e5b-3e184cb0e1ab\" xlink:actuate=\"onRequest\" xlink:href=\"psysml:b3767e4f-9e3f-4162-9e5b-3e184cb0e1ab\" xlink:show=\"new\" xlink:title=\"psysml:b3767e4f-9e3f-4162-9e5b-3e184cb0e1ab\" xlink:type=\"simple\"><path d=\"M1239.18,253.19 C1218.86,268.06 1195.24,285.35 1173.85,301.01 \" fill=\"none\" id=\"E6-&gt;E2\" style=\"stroke: #A80036; stroke-width: 1.0;\"/><polygon fill=\"#FFFFFF\" points=\"1157.65,312.86,1168.8581,295.9965,1177.1198,307.2988,1157.65,312.86\" style=\"stroke: #A80036; stroke-width: 1.0;\"/><ellipse cx=\"1174.64\" cy=\"294.2474\" fill=\"#A80036\" rx=\"2\" ry=\"2\" style=\"stroke: #A80036; stroke-width: 1.0;\"/><ellipse cx=\"1180.5412\" cy=\"302.3205\" fill=\"#A80036\" rx=\"2\" ry=\"2\" style=\"stroke: #A80036; stroke-width: 1.0;\"/></a><!--MD5=[a919e0967d6f3de553dc51b9865a1d6d]\n",
       "link E10 to E7--><a href=\"psysml:650eb0f7-ec08-4309-80b6-1e90e34b9690\" target=\"_top\" title=\"psysml:650eb0f7-ec08-4309-80b6-1e90e34b9690\" xlink:actuate=\"onRequest\" xlink:href=\"psysml:650eb0f7-ec08-4309-80b6-1e90e34b9690\" xlink:show=\"new\" xlink:title=\"psysml:650eb0f7-ec08-4309-80b6-1e90e34b9690\" xlink:type=\"simple\"><path d=\"M634.97,117.15 C660.125,130.315 688.975,145.415 716.2925,159.7138 C719.7072,161.5011 723.0979,163.2759 726.4545,165.0329 \" fill=\"none\" id=\"E10-&gt;E7\" style=\"stroke: #A80036; stroke-width: 1.0;\"/><polygon fill=\"#FFFFFF\" points=\"726.4545,165.0329,706.3749,162.4234,712.8674,150.0199,726.4545,165.0329\" style=\"stroke: #A80036; stroke-width: 1.0;\"/><ellipse cx=\"702.2524\" cy=\"158.0081\" fill=\"#A80036\" rx=\"2\" ry=\"2\" style=\"stroke: #A80036; stroke-width: 1.0;\"/><ellipse cx=\"706.8899\" cy=\"149.1485\" fill=\"#A80036\" rx=\"2\" ry=\"2\" style=\"stroke: #A80036; stroke-width: 1.0;\"/></a><!--MD5=[3b014726e4b42f6eb78507e3f79ce926]\n",
       "@startuml\r\n",
       " \r\n",
       "package \"CalculationExample\" as E1  [[psysml:9a950c4d-df47-4bf2-a127-6824d456053c ]]  {\r\n",
       "comp def \"VehiclePart\" as E2 << << (B,green) >> [[psysml:240f00ab-b9bf-457e-9376-98b0b5e156bb ]] {\r\n",
       "- - attributes - -\r\n",
       "m: MassValue\r\n",
       "}\r\n",
       "comp def \"Vehicle\" as E3 << << (B,green) >> [[psysml:240db56f-6d8c-4faf-8b3c-f8974d12918d ]] {\r\n",
       "}\r\n",
       "comp usage \"vehicle: Vehicle \" as E4 << << (P,limegreen) part>> [[psysml:ce00e2ad-3315-43f7-b2e6-6ce884a27309 ]] {\r\n",
       "- - attributes - -\r\n",
       "^m: MassValue\r\n",
       "}\r\n",
       "comp usage \"eng: VehiclePart \" as E5 << << (P,limegreen) part>> [[psysml:83fc889d-b3c1-4be4-83aa-24728b198254 ]] {\r\n",
       "- - attributes - -\r\n",
       "^m: MassValue\r\n",
       "}\r\n",
       "comp usage \"trans: VehiclePart \" as E6 << << (P,limegreen) part>> [[psysml:9ad03ab5-4ba7-4600-8f6c-f33bd21910a1 ]] {\r\n",
       "- - attributes - -\r\n",
       "^m: MassValue\r\n",
       "}\r\n",
       "rec def \"MassSum\" as E7 << <<(B,lemonchiffon) calculation  def>> [[psysml:425e038d-47d6-48b2-bd42-a030f1074fc4 ]] {\r\n",
       "portin \"partMasses\" as E8  [[psysml:b45e328f-a4a8-4519-9228-274640d6e043 ]] \r\n",
       "portout \"totalMass\" as E9  [[psysml:712f9e49-cc72-40cc-a5b0-9958e3b93d47 ]] \r\n",
       "}\r\n",
       "\r\n",
       "comp usage \"ms: MassSum \" as E10 << <<(U,orange) calculation>> [[psysml:e012d373-591a-4cf2-b53b-d810c6dd562d ]] {\r\n",
       "- - parameters - -\r\n",
       "<b>in</b> partMasses= (vehicle.eng.m, vehicle.trans.m); \r\n",
       "}\r\n",
       "comp usage \"vehicles \" as E11 << << (P,limegreen) part>> [[psysml:e4253433-368c-4e86-8a3c-6b186419df89 ]] {\r\n",
       "}\r\n",
       "comp usage \"masses1 \" as E12 << <<(U,orange) attribute>> [[psysml:03468340-4ee1-4dfd-ba23-9337b31e6caf ]] {\r\n",
       "}\r\n",
       "comp usage \"masses2 \" as E13 << <<(U,orange) attribute>> [[psysml:a35488ce-7eb0-470e-9ecc-f7a0c28bc139 ]] {\r\n",
       "}\r\n",
       "}\r\n",
       "E3 - -|> E2 [[psysml:2113862d-3e36-4f2a-be29-5fbeffc35ef5 ]] \r\n",
       "E4 - -:|> E3 [[psysml:3f6bcc61-006c-4905-be22-168150e04931 ]] \r\n",
       "E4 o- - \"1\"E5 [[psysml:dfe553ed-92b1-45a3-82b1-c875cfb3cf56 ]] \r\n",
       "E5 - -:|> E2 [[psysml:7cfd1003-3fe0-4a32-a3a1-13a5c8efedf2 ]] \r\n",
       "E4 o- - \"1\"E6 [[psysml:56232501-f921-4851-b5f9-a91b366c1c7b ]] \r\n",
       "E6 - -:|> E2 [[psysml:b3767e4f-9e3f-4162-9e5b-3e184cb0e1ab ]] \r\n",
       "E10 - -:|> E7 [[psysml:650eb0f7-ec08-4309-80b6-1e90e34b9690 ]] \r\n",
       "@enduml\r\n",
       "\n",
       "PlantUML version 1.2020.13(Sat Jun 13 12:26:38 UTC 2020)\n",
       "(EPL source distribution)\n",
       "Java Runtime: OpenJDK Runtime Environment\n",
       "JVM: OpenJDK 64-Bit Server VM\n",
       "Default Encoding: UTF-8\n",
       "Language: en\n",
       "Country: null\n",
       "--></g></svg>"
      ]
     },
     "execution_count": 36,
     "metadata": {},
     "output_type": "execute_result"
    }
   ],
   "source": [
    "%viz --style=\"PLANTUML\" --view=\"MIXED\" \"CalculationExample\""
   ]
  },
  {
   "cell_type": "code",
   "execution_count": 37,
   "id": "2536e06b",
   "metadata": {
    "execution": {
     "iopub.execute_input": "2022-08-19T08:22:03.382788Z",
     "iopub.status.busy": "2022-08-19T08:22:03.382343Z",
     "iopub.status.idle": "2022-08-19T08:22:03.447922Z",
     "shell.execute_reply": "2022-08-19T08:22:03.446416Z"
    }
   },
   "outputs": [
    {
     "data": {
      "image/svg+xml": [
       "<?xml version=\"1.0\" encoding=\"UTF-8\" standalone=\"no\"?><svg xmlns=\"http://www.w3.org/2000/svg\" xmlns:xlink=\"http://www.w3.org/1999/xlink\" contentScriptType=\"application/ecmascript\" contentStyleType=\"text/css\" height=\"505px\" preserveAspectRatio=\"none\" style=\"width:1266px;height:505px;\" version=\"1.1\" viewBox=\"0 0 1266 505\" width=\"1266px\" zoomAndPan=\"magnify\"><defs/><g><!--MD5=[fbc87193dbaf4d95561dea2c320d4a47]\n",
       "cluster E1--><a href=\"psysml:9a950c4d-df47-4bf2-a127-6824d456053c\" target=\"_top\" title=\"psysml:9a950c4d-df47-4bf2-a127-6824d456053c\" xlink:actuate=\"onRequest\" xlink:href=\"psysml:9a950c4d-df47-4bf2-a127-6824d456053c\" xlink:show=\"new\" xlink:title=\"psysml:9a950c4d-df47-4bf2-a127-6824d456053c\" xlink:type=\"simple\"><polygon fill=\"#FFFFFF\" points=\"16,6,155,6,162,28.2969,1244,28.2969,1244,493,16,493,16,6\" style=\"stroke: #000000; stroke-width: 1.5;\"/><line style=\"stroke: #000000; stroke-width: 1.5;\" x1=\"16\" x2=\"162\" y1=\"28.2969\" y2=\"28.2969\"/><text fill=\"#000000\" font-family=\"sans-serif\" font-size=\"14\" font-weight=\"bold\" lengthAdjust=\"spacingAndGlyphs\" textLength=\"133\" x=\"20\" y=\"20.9951\">CalculationExample</text></a><!--MD5=[168fadf3d0c3fd93dd5d6da1b1d7ab76]\n",
       "cluster E7--><a href=\"psysml:425e038d-47d6-48b2-bd42-a030f1074fc4\" target=\"_top\" title=\"psysml:425e038d-47d6-48b2-bd42-a030f1074fc4\" xlink:actuate=\"onRequest\" xlink:href=\"psysml:425e038d-47d6-48b2-bd42-a030f1074fc4\" xlink:show=\"new\" xlink:title=\"psysml:425e038d-47d6-48b2-bd42-a030f1074fc4\" xlink:type=\"simple\"><rect fill=\"#FFFFFF\" height=\"376\" id=\"E7\" style=\"stroke: #383838; stroke-width: 1.5;\" width=\"186\" x=\"650\" y=\"79\"/><rect fill=\"#F8F8F8\" height=\"37.9375\" style=\"stroke: #383838; stroke-width: 1.5;\" width=\"186\" x=\"650\" y=\"79\"/><text fill=\"#000000\" font-family=\"sans-serif\" font-size=\"12\" font-style=\"italic\" lengthAdjust=\"spacingAndGlyphs\" textLength=\"110\" x=\"688\" y=\"95.1387\">«calculation  def»</text><text fill=\"#000000\" font-family=\"sans-serif\" font-size=\"12\" lengthAdjust=\"spacingAndGlyphs\" textLength=\"59\" x=\"713.5\" y=\"109.1074\">MassSum</text></a><!--MD5=[b4997ac47864f28c2f74865a473b2911]\n",
       "class E2--><a href=\"psysml:240f00ab-b9bf-457e-9376-98b0b5e156bb\" target=\"_top\" title=\"psysml:240f00ab-b9bf-457e-9376-98b0b5e156bb\" xlink:actuate=\"onRequest\" xlink:href=\"psysml:240f00ab-b9bf-457e-9376-98b0b5e156bb\" xlink:show=\"new\" xlink:title=\"psysml:240f00ab-b9bf-457e-9376-98b0b5e156bb\" xlink:type=\"simple\"><rect fill=\"#FFFFFF\" height=\"75.5469\" id=\"E2\" style=\"stroke: #383838; stroke-width: 1.5;\" width=\"92\" x=\"968\" y=\"313\"/><text fill=\"#000000\" font-family=\"sans-serif\" font-size=\"12\" font-style=\"italic\" lengthAdjust=\"spacingAndGlyphs\" textLength=\"68\" x=\"980\" y=\"329.1387\">«part  def»</text><text fill=\"#000000\" font-family=\"sans-serif\" font-size=\"12\" lengthAdjust=\"spacingAndGlyphs\" textLength=\"71\" x=\"978.5\" y=\"343.1074\">VehiclePart</text><line style=\"stroke: #383838; stroke-width: 1.5;\" x1=\"969\" x2=\"1059\" y1=\"350.9375\" y2=\"350.9375\"/><text fill=\"#000000\" font-family=\"sans-serif\" font-size=\"11\" lengthAdjust=\"spacingAndGlyphs\" textLength=\"80\" x=\"974\" y=\"381.9526\">m: MassValue</text><line style=\"stroke: #383838; stroke-width: 1.0;\" x1=\"969\" x2=\"986.5\" y1=\"365.3398\" y2=\"365.3398\"/><text fill=\"#000000\" font-family=\"sans-serif\" font-size=\"11\" lengthAdjust=\"spacingAndGlyphs\" textLength=\"55\" x=\"986.5\" y=\"368.6479\">attributes</text><line style=\"stroke: #383838; stroke-width: 1.0;\" x1=\"1041.5\" x2=\"1059\" y1=\"365.3398\" y2=\"365.3398\"/></a><!--MD5=[09b614a08d8cba4a07c9adeb5e0fee81]\n",
       "class E3--><a href=\"psysml:240db56f-6d8c-4faf-8b3c-f8974d12918d\" target=\"_top\" title=\"psysml:240db56f-6d8c-4faf-8b3c-f8974d12918d\" xlink:actuate=\"onRequest\" xlink:href=\"psysml:240db56f-6d8c-4faf-8b3c-f8974d12918d\" xlink:show=\"new\" xlink:title=\"psysml:240db56f-6d8c-4faf-8b3c-f8974d12918d\" xlink:type=\"simple\"><rect fill=\"#FFFFFF\" height=\"45.9375\" id=\"E3\" style=\"stroke: #383838; stroke-width: 1.5;\" width=\"70\" x=\"852\" y=\"192\"/><text fill=\"#000000\" font-family=\"sans-serif\" font-size=\"12\" font-style=\"italic\" lengthAdjust=\"spacingAndGlyphs\" textLength=\"68\" x=\"853\" y=\"208.1387\">«part  def»</text><text fill=\"#000000\" font-family=\"sans-serif\" font-size=\"12\" lengthAdjust=\"spacingAndGlyphs\" textLength=\"45\" x=\"864.5\" y=\"222.1074\">Vehicle</text><line style=\"stroke: #383838; stroke-width: 1.5;\" x1=\"853\" x2=\"921\" y1=\"229.9375\" y2=\"229.9375\"/></a><!--MD5=[ebbe1d658d1005bcc118a6aa81145e00]\n",
       "class E4--><a href=\"psysml:ce00e2ad-3315-43f7-b2e6-6ce884a27309\" target=\"_top\" title=\"psysml:ce00e2ad-3315-43f7-b2e6-6ce884a27309\" xlink:actuate=\"onRequest\" xlink:href=\"psysml:ce00e2ad-3315-43f7-b2e6-6ce884a27309\" xlink:show=\"new\" xlink:title=\"psysml:ce00e2ad-3315-43f7-b2e6-6ce884a27309\" xlink:type=\"simple\"><rect fill=\"#FFFFFF\" height=\"75.5469\" id=\"E4\" rx=\"10\" ry=\"10\" style=\"stroke: #383838; stroke-width: 1.5;\" width=\"106\" x=\"961\" y=\"41\"/><text fill=\"#000000\" font-family=\"sans-serif\" font-size=\"12\" font-style=\"italic\" lengthAdjust=\"spacingAndGlyphs\" textLength=\"40\" x=\"994\" y=\"57.1387\">«part»</text><text fill=\"#000000\" font-family=\"sans-serif\" font-size=\"12\" lengthAdjust=\"spacingAndGlyphs\" textLength=\"96\" x=\"964\" y=\"71.1074\">vehicle: Vehicle</text><line style=\"stroke: #383838; stroke-width: 1.5;\" x1=\"962\" x2=\"1066\" y1=\"78.9375\" y2=\"78.9375\"/><text fill=\"#000000\" font-family=\"sans-serif\" font-size=\"11\" lengthAdjust=\"spacingAndGlyphs\" textLength=\"89\" x=\"967\" y=\"109.9526\">^m: MassValue</text><line style=\"stroke: #383838; stroke-width: 1.0;\" x1=\"962\" x2=\"986.5\" y1=\"93.3398\" y2=\"93.3398\"/><text fill=\"#000000\" font-family=\"sans-serif\" font-size=\"11\" lengthAdjust=\"spacingAndGlyphs\" textLength=\"55\" x=\"986.5\" y=\"96.6479\">attributes</text><line style=\"stroke: #383838; stroke-width: 1.0;\" x1=\"1041.5\" x2=\"1066\" y1=\"93.3398\" y2=\"93.3398\"/></a><!--MD5=[270fce915f116d4de14055a7c1d9a0f3]\n",
       "class E5--><a href=\"psysml:83fc889d-b3c1-4be4-83aa-24728b198254\" target=\"_top\" title=\"psysml:83fc889d-b3c1-4be4-83aa-24728b198254\" xlink:actuate=\"onRequest\" xlink:href=\"psysml:83fc889d-b3c1-4be4-83aa-24728b198254\" xlink:show=\"new\" xlink:title=\"psysml:83fc889d-b3c1-4be4-83aa-24728b198254\" xlink:type=\"simple\"><rect fill=\"#FFFFFF\" height=\"75.5469\" id=\"E5\" rx=\"10\" ry=\"10\" style=\"stroke: #383838; stroke-width: 1.5;\" width=\"113\" x=\"957.5\" y=\"177\"/><text fill=\"#000000\" font-family=\"sans-serif\" font-size=\"12\" font-style=\"italic\" lengthAdjust=\"spacingAndGlyphs\" textLength=\"40\" x=\"994\" y=\"193.1387\">«part»</text><text fill=\"#000000\" font-family=\"sans-serif\" font-size=\"12\" lengthAdjust=\"spacingAndGlyphs\" textLength=\"103\" x=\"960.5\" y=\"207.1074\">eng: VehiclePart</text><line style=\"stroke: #383838; stroke-width: 1.5;\" x1=\"958.5\" x2=\"1069.5\" y1=\"214.9375\" y2=\"214.9375\"/><text fill=\"#000000\" font-family=\"sans-serif\" font-size=\"11\" lengthAdjust=\"spacingAndGlyphs\" textLength=\"89\" x=\"963.5\" y=\"245.9526\">^m: MassValue</text><line style=\"stroke: #383838; stroke-width: 1.0;\" x1=\"958.5\" x2=\"986.5\" y1=\"229.3398\" y2=\"229.3398\"/><text fill=\"#000000\" font-family=\"sans-serif\" font-size=\"11\" lengthAdjust=\"spacingAndGlyphs\" textLength=\"55\" x=\"986.5\" y=\"232.6479\">attributes</text><line style=\"stroke: #383838; stroke-width: 1.0;\" x1=\"1041.5\" x2=\"1069.5\" y1=\"229.3398\" y2=\"229.3398\"/></a><!--MD5=[60a26617385b1d2d0262a64233df1f8d]\n",
       "class E6--><a href=\"psysml:9ad03ab5-4ba7-4600-8f6c-f33bd21910a1\" target=\"_top\" title=\"psysml:9ad03ab5-4ba7-4600-8f6c-f33bd21910a1\" xlink:actuate=\"onRequest\" xlink:href=\"psysml:9ad03ab5-4ba7-4600-8f6c-f33bd21910a1\" xlink:show=\"new\" xlink:title=\"psysml:9ad03ab5-4ba7-4600-8f6c-f33bd21910a1\" xlink:type=\"simple\"><rect fill=\"#FFFFFF\" height=\"75.5469\" id=\"E6\" rx=\"10\" ry=\"10\" style=\"stroke: #383838; stroke-width: 1.5;\" width=\"122\" x=\"1106\" y=\"177\"/><text fill=\"#000000\" font-family=\"sans-serif\" font-size=\"12\" font-style=\"italic\" lengthAdjust=\"spacingAndGlyphs\" textLength=\"40\" x=\"1147\" y=\"193.1387\">«part»</text><text fill=\"#000000\" font-family=\"sans-serif\" font-size=\"12\" lengthAdjust=\"spacingAndGlyphs\" textLength=\"112\" x=\"1109\" y=\"207.1074\">trans: VehiclePart</text><line style=\"stroke: #383838; stroke-width: 1.5;\" x1=\"1107\" x2=\"1227\" y1=\"214.9375\" y2=\"214.9375\"/><text fill=\"#000000\" font-family=\"sans-serif\" font-size=\"11\" lengthAdjust=\"spacingAndGlyphs\" textLength=\"89\" x=\"1112\" y=\"245.9526\">^m: MassValue</text><line style=\"stroke: #383838; stroke-width: 1.0;\" x1=\"1107\" x2=\"1139.5\" y1=\"229.3398\" y2=\"229.3398\"/><text fill=\"#000000\" font-family=\"sans-serif\" font-size=\"11\" lengthAdjust=\"spacingAndGlyphs\" textLength=\"55\" x=\"1139.5\" y=\"232.6479\">attributes</text><line style=\"stroke: #383838; stroke-width: 1.0;\" x1=\"1194.5\" x2=\"1227\" y1=\"229.3398\" y2=\"229.3398\"/></a><!--MD5=[96f4274e9e20536e775497830990834d]\n",
       "class E10--><a href=\"psysml:e012d373-591a-4cf2-b53b-d810c6dd562d\" target=\"_top\" title=\"psysml:e012d373-591a-4cf2-b53b-d810c6dd562d\" xlink:actuate=\"onRequest\" xlink:href=\"psysml:e012d373-591a-4cf2-b53b-d810c6dd562d\" xlink:show=\"new\" xlink:title=\"psysml:e012d373-591a-4cf2-b53b-d810c6dd562d\" xlink:type=\"simple\"><rect fill=\"#FFFFFF\" height=\"75.5469\" id=\"E10\" rx=\"10\" ry=\"10\" style=\"stroke: #383838; stroke-width: 1.5;\" width=\"293\" x=\"340.5\" y=\"41\"/><text fill=\"#000000\" font-family=\"sans-serif\" font-size=\"12\" font-style=\"italic\" lengthAdjust=\"spacingAndGlyphs\" textLength=\"82\" x=\"446\" y=\"57.1387\">«calculation»</text><text fill=\"#000000\" font-family=\"sans-serif\" font-size=\"12\" lengthAdjust=\"spacingAndGlyphs\" textLength=\"85\" x=\"442.5\" y=\"71.1074\">ms: MassSum</text><line style=\"stroke: #383838; stroke-width: 1.5;\" x1=\"341.5\" x2=\"632.5\" y1=\"78.9375\" y2=\"78.9375\"/><text fill=\"#000000\" font-family=\"sans-serif\" font-size=\"11\" font-weight=\"bold\" lengthAdjust=\"spacingAndGlyphs\" textLength=\"10\" x=\"346.5\" y=\"109.9526\">in</text><text fill=\"#000000\" font-family=\"sans-serif\" font-size=\"11\" lengthAdjust=\"spacingAndGlyphs\" textLength=\"267\" x=\"360.5\" y=\"109.9526\">partMasses= (vehicle.eng.m, vehicle.trans.m);</text><line style=\"stroke: #383838; stroke-width: 1.0;\" x1=\"341.5\" x2=\"453.5\" y1=\"93.3398\" y2=\"93.3398\"/><text fill=\"#000000\" font-family=\"sans-serif\" font-size=\"11\" lengthAdjust=\"spacingAndGlyphs\" textLength=\"67\" x=\"453.5\" y=\"96.6479\">parameters</text><line style=\"stroke: #383838; stroke-width: 1.0;\" x1=\"520.5\" x2=\"632.5\" y1=\"93.3398\" y2=\"93.3398\"/></a><!--MD5=[1dd1bfd58a279cf63c5f349dbc8fc6a1]\n",
       "class E11--><a href=\"psysml:e4253433-368c-4e86-8a3c-6b186419df89\" target=\"_top\" title=\"psysml:e4253433-368c-4e86-8a3c-6b186419df89\" xlink:actuate=\"onRequest\" xlink:href=\"psysml:e4253433-368c-4e86-8a3c-6b186419df89\" xlink:show=\"new\" xlink:title=\"psysml:e4253433-368c-4e86-8a3c-6b186419df89\" xlink:type=\"simple\"><rect fill=\"#FFFFFF\" height=\"45.9375\" id=\"E11\" rx=\"10\" ry=\"10\" style=\"stroke: #383838; stroke-width: 1.5;\" width=\"60\" x=\"245\" y=\"56\"/><text fill=\"#000000\" font-family=\"sans-serif\" font-size=\"12\" font-style=\"italic\" lengthAdjust=\"spacingAndGlyphs\" textLength=\"40\" x=\"255\" y=\"72.1387\">«part»</text><text fill=\"#000000\" font-family=\"sans-serif\" font-size=\"12\" lengthAdjust=\"spacingAndGlyphs\" textLength=\"50\" x=\"248\" y=\"86.1074\">vehicles</text><line style=\"stroke: #383838; stroke-width: 1.5;\" x1=\"246\" x2=\"304\" y1=\"93.9375\" y2=\"93.9375\"/></a><!--MD5=[49a0ec8f00dab7302a31f22d0f0fe584]\n",
       "class E12--><a href=\"psysml:03468340-4ee1-4dfd-ba23-9337b31e6caf\" target=\"_top\" title=\"psysml:03468340-4ee1-4dfd-ba23-9337b31e6caf\" xlink:actuate=\"onRequest\" xlink:href=\"psysml:03468340-4ee1-4dfd-ba23-9337b31e6caf\" xlink:show=\"new\" xlink:title=\"psysml:03468340-4ee1-4dfd-ba23-9337b31e6caf\" xlink:type=\"simple\"><rect fill=\"#FFFFFF\" height=\"45.9375\" id=\"E12\" rx=\"10\" ry=\"10\" style=\"stroke: #383838; stroke-width: 1.5;\" width=\"71\" x=\"138.5\" y=\"56\"/><text fill=\"#000000\" font-family=\"sans-serif\" font-size=\"12\" font-style=\"italic\" lengthAdjust=\"spacingAndGlyphs\" textLength=\"69\" x=\"139.5\" y=\"72.1387\">«attribute»</text><text fill=\"#000000\" font-family=\"sans-serif\" font-size=\"12\" lengthAdjust=\"spacingAndGlyphs\" textLength=\"56\" x=\"144\" y=\"86.1074\">masses1</text><line style=\"stroke: #383838; stroke-width: 1.5;\" x1=\"139.5\" x2=\"208.5\" y1=\"93.9375\" y2=\"93.9375\"/></a><!--MD5=[ee3c913d1a06f366521f9ef512b67efe]\n",
       "class E13--><a href=\"psysml:a35488ce-7eb0-470e-9ecc-f7a0c28bc139\" target=\"_top\" title=\"psysml:a35488ce-7eb0-470e-9ecc-f7a0c28bc139\" xlink:actuate=\"onRequest\" xlink:href=\"psysml:a35488ce-7eb0-470e-9ecc-f7a0c28bc139\" xlink:show=\"new\" xlink:title=\"psysml:a35488ce-7eb0-470e-9ecc-f7a0c28bc139\" xlink:type=\"simple\"><rect fill=\"#FFFFFF\" height=\"45.9375\" id=\"E13\" rx=\"10\" ry=\"10\" style=\"stroke: #383838; stroke-width: 1.5;\" width=\"71\" x=\"32.5\" y=\"56\"/><text fill=\"#000000\" font-family=\"sans-serif\" font-size=\"12\" font-style=\"italic\" lengthAdjust=\"spacingAndGlyphs\" textLength=\"69\" x=\"33.5\" y=\"72.1387\">«attribute»</text><text fill=\"#000000\" font-family=\"sans-serif\" font-size=\"12\" lengthAdjust=\"spacingAndGlyphs\" textLength=\"56\" x=\"38\" y=\"86.1074\">masses2</text><line style=\"stroke: #383838; stroke-width: 1.5;\" x1=\"33.5\" x2=\"102.5\" y1=\"93.9375\" y2=\"93.9375\"/></a><text fill=\"#000000\" font-family=\"sans-serif\" font-size=\"14\" lengthAdjust=\"spacingAndGlyphs\" textLength=\"80\" x=\"703\" y=\"57.6982\">partMasses</text><rect fill=\"#383838\" height=\"12\" style=\"stroke: #F8F8F8; stroke-width: 1.5;\" width=\"12\" x=\"737\" y=\"73\"/><text fill=\"#000000\" font-family=\"sans-serif\" font-size=\"14\" lengthAdjust=\"spacingAndGlyphs\" textLength=\"66\" x=\"710\" y=\"473.9951\">totalMass</text><rect fill=\"#383838\" height=\"12\" style=\"stroke: #F8F8F8; stroke-width: 1.5;\" width=\"12\" x=\"737\" y=\"449\"/><!--MD5=[05d275557350bfb9b23a4ef7222b4c39]\n",
       "link E3 to E2--><a href=\"psysml:2113862d-3e36-4f2a-be29-5fbeffc35ef5\" target=\"_top\" title=\"psysml:2113862d-3e36-4f2a-be29-5fbeffc35ef5\" xlink:actuate=\"onRequest\" xlink:href=\"psysml:2113862d-3e36-4f2a-be29-5fbeffc35ef5\" xlink:show=\"new\" xlink:title=\"psysml:2113862d-3e36-4f2a-be29-5fbeffc35ef5\" xlink:type=\"simple\"><path d=\"M907.97,238.13 C923.45,254.46 945.16,277.37 964.91,298.21 \" fill=\"none\" id=\"E3-&gt;E2\" style=\"stroke: #383838; stroke-width: 1.0;\"/><polygon fill=\"none\" points=\"970.15,293.56,978.83,312.89,959.99,303.19,970.15,293.56\" style=\"stroke: #383838; stroke-width: 1.0;\"/></a><!--MD5=[f0cdf4548168e5211fb3a02bf679d63a]\n",
       "link E4 to E3--><a href=\"psysml:3f6bcc61-006c-4905-be22-168150e04931\" target=\"_top\" title=\"psysml:3f6bcc61-006c-4905-be22-168150e04931\" xlink:actuate=\"onRequest\" xlink:href=\"psysml:3f6bcc61-006c-4905-be22-168150e04931\" xlink:show=\"new\" xlink:title=\"psysml:3f6bcc61-006c-4905-be22-168150e04931\" xlink:type=\"simple\"><path d=\"M978.62,117.33 C960.85,136.08 939.39,158.72 921.71,177.38 \" fill=\"none\" id=\"E4-&gt;E3\" style=\"stroke: #383838; stroke-width: 1.0;\"/><polygon fill=\"#FFFFFF\" points=\"907.91,191.94,915.8909,173.3307,926.0566,182.9567,907.91,191.94\" style=\"stroke: #383838; stroke-width: 1.0;\"/><ellipse cx=\"921.2623\" cy=\"170.567\" fill=\"#383838\" rx=\"2\" ry=\"2\" style=\"stroke: #383838; stroke-width: 1.0;\"/><ellipse cx=\"928.5235\" cy=\"177.4426\" fill=\"#383838\" rx=\"2\" ry=\"2\" style=\"stroke: #383838; stroke-width: 1.0;\"/></a><!--MD5=[62aa6af11e70f752912c1cb0466f24f7]\n",
       "reverse link E4 to E5--><a href=\"psysml:dfe553ed-92b1-45a3-82b1-c875cfb3cf56\" target=\"_top\" title=\"psysml:dfe553ed-92b1-45a3-82b1-c875cfb3cf56\" xlink:actuate=\"onRequest\" xlink:href=\"psysml:dfe553ed-92b1-45a3-82b1-c875cfb3cf56\" xlink:show=\"new\" xlink:title=\"psysml:dfe553ed-92b1-45a3-82b1-c875cfb3cf56\" xlink:type=\"simple\"><path d=\"M1014,130.46 C1014,145.87 1014,162.52 1014,176.87 \" fill=\"none\" id=\"E4&lt;-E5\" style=\"stroke: #383838; stroke-width: 1.0;\"/><polygon fill=\"#FFFFFF\" points=\"1014,117.33,1010,123.33,1014,129.33,1018,123.33,1014,117.33\" style=\"stroke: #383838; stroke-width: 1.0;\"/><text fill=\"#000000\" font-family=\"sans-serif\" font-size=\"13\" lengthAdjust=\"spacingAndGlyphs\" textLength=\"8\" x=\"1005.2875\" y=\"165.8612\">1</text></a><!--MD5=[15ebcb19ae302d9b601edb458606d402]\n",
       "link E5 to E2--><a href=\"psysml:7cfd1003-3fe0-4a32-a3a1-13a5c8efedf2\" target=\"_top\" title=\"psysml:7cfd1003-3fe0-4a32-a3a1-13a5c8efedf2\" xlink:actuate=\"onRequest\" xlink:href=\"psysml:7cfd1003-3fe0-4a32-a3a1-13a5c8efedf2\" xlink:show=\"new\" xlink:title=\"psysml:7cfd1003-3fe0-4a32-a3a1-13a5c8efedf2\" xlink:type=\"simple\"><path d=\"M1014,253.33 C1014,265.52 1014,279.36 1014,292.68 \" fill=\"none\" id=\"E5-&gt;E2\" style=\"stroke: #383838; stroke-width: 1.0;\"/><polygon fill=\"#FFFFFF\" points=\"1014,312.87,1007,293.87,1021,293.87,1014,312.87\" style=\"stroke: #383838; stroke-width: 1.0;\"/><ellipse cx=\"1009\" cy=\"288.17\" fill=\"#383838\" rx=\"2\" ry=\"2\" style=\"stroke: #383838; stroke-width: 1.0;\"/><ellipse cx=\"1019\" cy=\"288.17\" fill=\"#383838\" rx=\"2\" ry=\"2\" style=\"stroke: #383838; stroke-width: 1.0;\"/></a><!--MD5=[6db378b65e1aef66a01cb3103812b399]\n",
       "reverse link E4 to E6--><a href=\"psysml:56232501-f921-4851-b5f9-a91b366c1c7b\" target=\"_top\" title=\"psysml:56232501-f921-4851-b5f9-a91b366c1c7b\" xlink:actuate=\"onRequest\" xlink:href=\"psysml:56232501-f921-4851-b5f9-a91b366c1c7b\" xlink:show=\"new\" xlink:title=\"psysml:56232501-f921-4851-b5f9-a91b366c1c7b\" xlink:type=\"simple\"><path d=\"M1066.59,126.06 C1085.53,142.65 1106.65,161.14 1124.61,176.87 \" fill=\"none\" id=\"E4&lt;-E6\" style=\"stroke: #383838; stroke-width: 1.0;\"/><polygon fill=\"#FFFFFF\" points=\"1056.62,117.33,1058.4928,124.2937,1065.6411,125.2433,1063.7683,118.2796,1056.62,117.33\" style=\"stroke: #383838; stroke-width: 1.0;\"/><text fill=\"#000000\" font-family=\"sans-serif\" font-size=\"13\" lengthAdjust=\"spacingAndGlyphs\" textLength=\"8\" x=\"1108.3468\" y=\"165.8612\">1</text></a><!--MD5=[2351f337d6de0f557b50152ba70847b5]\n",
       "link E6 to E2--><a href=\"psysml:b3767e4f-9e3f-4162-9e5b-3e184cb0e1ab\" target=\"_top\" title=\"psysml:b3767e4f-9e3f-4162-9e5b-3e184cb0e1ab\" xlink:actuate=\"onRequest\" xlink:href=\"psysml:b3767e4f-9e3f-4162-9e5b-3e184cb0e1ab\" xlink:show=\"new\" xlink:title=\"psysml:b3767e4f-9e3f-4162-9e5b-3e184cb0e1ab\" xlink:type=\"simple\"><path d=\"M1124.38,253.33 C1108.05,267.63 1089.14,284.19 1071.63,299.52 \" fill=\"none\" id=\"E6-&gt;E2\" style=\"stroke: #383838; stroke-width: 1.0;\"/><polygon fill=\"#FFFFFF\" points=\"1056.39,312.87,1066.0639,295.0819,1075.2922,305.6099,1056.39,312.87\" style=\"stroke: #383838; stroke-width: 1.0;\"/><ellipse cx=\"1071.6686\" cy=\"292.8287\" fill=\"#383838\" rx=\"2\" ry=\"2\" style=\"stroke: #383838; stroke-width: 1.0;\"/><ellipse cx=\"1078.2602\" cy=\"300.3487\" fill=\"#383838\" rx=\"2\" ry=\"2\" style=\"stroke: #383838; stroke-width: 1.0;\"/></a><!--MD5=[a919e0967d6f3de553dc51b9865a1d6d]\n",
       "link E10 to E7--><a href=\"psysml:650eb0f7-ec08-4309-80b6-1e90e34b9690\" target=\"_top\" title=\"psysml:650eb0f7-ec08-4309-80b6-1e90e34b9690\" xlink:actuate=\"onRequest\" xlink:href=\"psysml:650eb0f7-ec08-4309-80b6-1e90e34b9690\" xlink:show=\"new\" xlink:title=\"psysml:650eb0f7-ec08-4309-80b6-1e90e34b9690\" xlink:type=\"simple\"><path d=\"M557.97,117.15 C583.125,130.315 611.975,145.415 639.2925,159.7138 C642.7072,161.5011 646.0979,163.2759 649.4545,165.0329 \" fill=\"none\" id=\"E10-&gt;E7\" style=\"stroke: #383838; stroke-width: 1.0;\"/><polygon fill=\"#FFFFFF\" points=\"649.4545,165.0329,629.3749,162.4234,635.8674,150.0199,649.4545,165.0329\" style=\"stroke: #383838; stroke-width: 1.0;\"/><ellipse cx=\"625.2524\" cy=\"158.0081\" fill=\"#383838\" rx=\"2\" ry=\"2\" style=\"stroke: #383838; stroke-width: 1.0;\"/><ellipse cx=\"629.8899\" cy=\"149.1485\" fill=\"#383838\" rx=\"2\" ry=\"2\" style=\"stroke: #383838; stroke-width: 1.0;\"/></a><!--MD5=[1d2b76b6a212af44abc1df22ccbc4bf3]\n",
       "@startuml\r\n",
       "skinparam monochrome true\r\n",
       "skinparam classbackgroundcolor white\r\n",
       "skinparam shadowing false\r\n",
       "skinparam wrapWidth 300\r\n",
       "hide circle\r\n",
       "\r\n",
       "package \"CalculationExample\" as E1  [[psysml:9a950c4d-df47-4bf2-a127-6824d456053c ]]  {\r\n",
       "comp def \"VehiclePart\" as E2  <<(T,blue) part  def>> [[psysml:240f00ab-b9bf-457e-9376-98b0b5e156bb ]] {\r\n",
       "- - attributes - -\r\n",
       "m: MassValue\r\n",
       "}\r\n",
       "comp def \"Vehicle\" as E3  <<(T,blue) part  def>> [[psysml:240db56f-6d8c-4faf-8b3c-f8974d12918d ]] {\r\n",
       "}\r\n",
       "comp usage \"vehicle: Vehicle \" as E4  <<(T,blue) part>> [[psysml:ce00e2ad-3315-43f7-b2e6-6ce884a27309 ]] {\r\n",
       "- - attributes - -\r\n",
       "^m: MassValue\r\n",
       "}\r\n",
       "comp usage \"eng: VehiclePart \" as E5  <<(T,blue) part>> [[psysml:83fc889d-b3c1-4be4-83aa-24728b198254 ]] {\r\n",
       "- - attributes - -\r\n",
       "^m: MassValue\r\n",
       "}\r\n",
       "comp usage \"trans: VehiclePart \" as E6  <<(T,blue) part>> [[psysml:9ad03ab5-4ba7-4600-8f6c-f33bd21910a1 ]] {\r\n",
       "- - attributes - -\r\n",
       "^m: MassValue\r\n",
       "}\r\n",
       "rec def \"MassSum\" as E7  <<(T,blue) calculation  def>> [[psysml:425e038d-47d6-48b2-bd42-a030f1074fc4 ]] {\r\n",
       "portin \"partMasses\" as E8  [[psysml:b45e328f-a4a8-4519-9228-274640d6e043 ]] \r\n",
       "portout \"totalMass\" as E9  [[psysml:712f9e49-cc72-40cc-a5b0-9958e3b93d47 ]] \r\n",
       "}\r\n",
       "\r\n",
       "comp usage \"ms: MassSum \" as E10  <<(T,blue) calculation>> [[psysml:e012d373-591a-4cf2-b53b-d810c6dd562d ]] {\r\n",
       "- - parameters - -\r\n",
       "<b>in</b> partMasses= (vehicle.eng.m, vehicle.trans.m); \r\n",
       "}\r\n",
       "comp usage \"vehicles \" as E11  <<(T,blue) part>> [[psysml:e4253433-368c-4e86-8a3c-6b186419df89 ]] {\r\n",
       "}\r\n",
       "comp usage \"masses1 \" as E12  <<(T,blue) attribute>> [[psysml:03468340-4ee1-4dfd-ba23-9337b31e6caf ]] {\r\n",
       "}\r\n",
       "comp usage \"masses2 \" as E13  <<(T,blue) attribute>> [[psysml:a35488ce-7eb0-470e-9ecc-f7a0c28bc139 ]] {\r\n",
       "}\r\n",
       "}\r\n",
       "E3 - -|> E2 [[psysml:2113862d-3e36-4f2a-be29-5fbeffc35ef5 ]] \r\n",
       "E4 - -:|> E3 [[psysml:3f6bcc61-006c-4905-be22-168150e04931 ]] \r\n",
       "E4 o- - \"1\"E5 [[psysml:dfe553ed-92b1-45a3-82b1-c875cfb3cf56 ]] \r\n",
       "E5 - -:|> E2 [[psysml:7cfd1003-3fe0-4a32-a3a1-13a5c8efedf2 ]] \r\n",
       "E4 o- - \"1\"E6 [[psysml:56232501-f921-4851-b5f9-a91b366c1c7b ]] \r\n",
       "E6 - -:|> E2 [[psysml:b3767e4f-9e3f-4162-9e5b-3e184cb0e1ab ]] \r\n",
       "E10 - -:|> E7 [[psysml:650eb0f7-ec08-4309-80b6-1e90e34b9690 ]] \r\n",
       "@enduml\r\n",
       "\n",
       "PlantUML version 1.2020.13(Sat Jun 13 12:26:38 UTC 2020)\n",
       "(EPL source distribution)\n",
       "Java Runtime: OpenJDK Runtime Environment\n",
       "JVM: OpenJDK 64-Bit Server VM\n",
       "Default Encoding: UTF-8\n",
       "Language: en\n",
       "Country: null\n",
       "--></g></svg>"
      ]
     },
     "execution_count": 37,
     "metadata": {},
     "output_type": "execute_result"
    }
   ],
   "source": [
    "%viz --style=\"DEFAULT\" --view=\"Default\" \"CalculationExample\""
   ]
  },
  {
   "cell_type": "code",
   "execution_count": 38,
   "id": "c23a4da0",
   "metadata": {
    "execution": {
     "iopub.execute_input": "2022-08-19T08:22:03.497293Z",
     "iopub.status.busy": "2022-08-19T08:22:03.496851Z",
     "iopub.status.idle": "2022-08-19T08:22:03.561960Z",
     "shell.execute_reply": "2022-08-19T08:22:03.560486Z"
    }
   },
   "outputs": [
    {
     "data": {
      "image/svg+xml": [
       "<?xml version=\"1.0\" encoding=\"UTF-8\" standalone=\"no\"?><svg xmlns=\"http://www.w3.org/2000/svg\" xmlns:xlink=\"http://www.w3.org/1999/xlink\" contentScriptType=\"application/ecmascript\" contentStyleType=\"text/css\" height=\"417px\" preserveAspectRatio=\"none\" style=\"width:813px;height:417px;\" version=\"1.1\" viewBox=\"0 0 813 417\" width=\"813px\" zoomAndPan=\"magnify\"><defs/><g><!--MD5=[fbc87193dbaf4d95561dea2c320d4a47]\n",
       "cluster E1--><a href=\"psysml:9a950c4d-df47-4bf2-a127-6824d456053c\" target=\"_top\" title=\"psysml:9a950c4d-df47-4bf2-a127-6824d456053c\" xlink:actuate=\"onRequest\" xlink:href=\"psysml:9a950c4d-df47-4bf2-a127-6824d456053c\" xlink:show=\"new\" xlink:title=\"psysml:9a950c4d-df47-4bf2-a127-6824d456053c\" xlink:type=\"simple\"><polygon fill=\"#FFFFFF\" points=\"16,6,155,6,162,28.2969,791,28.2969,791,405,16,405,16,6\" style=\"stroke: #000000; stroke-width: 1.5;\"/><line style=\"stroke: #000000; stroke-width: 1.5;\" x1=\"16\" x2=\"162\" y1=\"28.2969\" y2=\"28.2969\"/><text fill=\"#000000\" font-family=\"sans-serif\" font-size=\"14\" font-weight=\"bold\" lengthAdjust=\"spacingAndGlyphs\" textLength=\"133\" x=\"20\" y=\"20.9951\">CalculationExample</text></a><!--MD5=[b4997ac47864f28c2f74865a473b2911]\n",
       "class E2--><a href=\"psysml:240f00ab-b9bf-457e-9376-98b0b5e156bb\" target=\"_top\" title=\"psysml:240f00ab-b9bf-457e-9376-98b0b5e156bb\" xlink:actuate=\"onRequest\" xlink:href=\"psysml:240f00ab-b9bf-457e-9376-98b0b5e156bb\" xlink:show=\"new\" xlink:title=\"psysml:240f00ab-b9bf-457e-9376-98b0b5e156bb\" xlink:type=\"simple\"><rect fill=\"#FFFFFF\" height=\"75.5469\" id=\"E2\" style=\"stroke: #383838; stroke-width: 1.5;\" width=\"92\" x=\"515\" y=\"313\"/><text fill=\"#000000\" font-family=\"sans-serif\" font-size=\"12\" font-style=\"italic\" lengthAdjust=\"spacingAndGlyphs\" textLength=\"68\" x=\"527\" y=\"329.1387\">«part  def»</text><text fill=\"#000000\" font-family=\"sans-serif\" font-size=\"12\" lengthAdjust=\"spacingAndGlyphs\" textLength=\"71\" x=\"525.5\" y=\"343.1074\">VehiclePart</text><line style=\"stroke: #383838; stroke-width: 1.5;\" x1=\"516\" x2=\"606\" y1=\"350.9375\" y2=\"350.9375\"/><text fill=\"#000000\" font-family=\"sans-serif\" font-size=\"11\" lengthAdjust=\"spacingAndGlyphs\" textLength=\"80\" x=\"521\" y=\"381.9526\">m: MassValue</text><line style=\"stroke: #383838; stroke-width: 1.0;\" x1=\"516\" x2=\"533.5\" y1=\"365.3398\" y2=\"365.3398\"/><text fill=\"#000000\" font-family=\"sans-serif\" font-size=\"11\" lengthAdjust=\"spacingAndGlyphs\" textLength=\"55\" x=\"533.5\" y=\"368.6479\">attributes</text><line style=\"stroke: #383838; stroke-width: 1.0;\" x1=\"588.5\" x2=\"606\" y1=\"365.3398\" y2=\"365.3398\"/></a><!--MD5=[09b614a08d8cba4a07c9adeb5e0fee81]\n",
       "class E3--><a href=\"psysml:240db56f-6d8c-4faf-8b3c-f8974d12918d\" target=\"_top\" title=\"psysml:240db56f-6d8c-4faf-8b3c-f8974d12918d\" xlink:actuate=\"onRequest\" xlink:href=\"psysml:240db56f-6d8c-4faf-8b3c-f8974d12918d\" xlink:show=\"new\" xlink:title=\"psysml:240db56f-6d8c-4faf-8b3c-f8974d12918d\" xlink:type=\"simple\"><rect fill=\"#FFFFFF\" height=\"45.9375\" id=\"E3\" style=\"stroke: #383838; stroke-width: 1.5;\" width=\"70\" x=\"399\" y=\"192\"/><text fill=\"#000000\" font-family=\"sans-serif\" font-size=\"12\" font-style=\"italic\" lengthAdjust=\"spacingAndGlyphs\" textLength=\"68\" x=\"400\" y=\"208.1387\">«part  def»</text><text fill=\"#000000\" font-family=\"sans-serif\" font-size=\"12\" lengthAdjust=\"spacingAndGlyphs\" textLength=\"45\" x=\"411.5\" y=\"222.1074\">Vehicle</text><line style=\"stroke: #383838; stroke-width: 1.5;\" x1=\"400\" x2=\"468\" y1=\"229.9375\" y2=\"229.9375\"/></a><!--MD5=[ebbe1d658d1005bcc118a6aa81145e00]\n",
       "class E4--><a href=\"psysml:ce00e2ad-3315-43f7-b2e6-6ce884a27309\" target=\"_top\" title=\"psysml:ce00e2ad-3315-43f7-b2e6-6ce884a27309\" xlink:actuate=\"onRequest\" xlink:href=\"psysml:ce00e2ad-3315-43f7-b2e6-6ce884a27309\" xlink:show=\"new\" xlink:title=\"psysml:ce00e2ad-3315-43f7-b2e6-6ce884a27309\" xlink:type=\"simple\"><rect fill=\"#FFFFFF\" height=\"75.5469\" id=\"E4\" rx=\"10\" ry=\"10\" style=\"stroke: #383838; stroke-width: 1.5;\" width=\"106\" x=\"669\" y=\"41\"/><text fill=\"#000000\" font-family=\"sans-serif\" font-size=\"12\" font-style=\"italic\" lengthAdjust=\"spacingAndGlyphs\" textLength=\"40\" x=\"702\" y=\"57.1387\">«part»</text><text fill=\"#000000\" font-family=\"sans-serif\" font-size=\"12\" lengthAdjust=\"spacingAndGlyphs\" textLength=\"96\" x=\"672\" y=\"71.1074\">vehicle: Vehicle</text><line style=\"stroke: #383838; stroke-width: 1.5;\" x1=\"670\" x2=\"774\" y1=\"78.9375\" y2=\"78.9375\"/><text fill=\"#000000\" font-family=\"sans-serif\" font-size=\"11\" lengthAdjust=\"spacingAndGlyphs\" textLength=\"89\" x=\"675\" y=\"109.9526\">^m: MassValue</text><line style=\"stroke: #383838; stroke-width: 1.0;\" x1=\"670\" x2=\"694.5\" y1=\"93.3398\" y2=\"93.3398\"/><text fill=\"#000000\" font-family=\"sans-serif\" font-size=\"11\" lengthAdjust=\"spacingAndGlyphs\" textLength=\"55\" x=\"694.5\" y=\"96.6479\">attributes</text><line style=\"stroke: #383838; stroke-width: 1.0;\" x1=\"749.5\" x2=\"774\" y1=\"93.3398\" y2=\"93.3398\"/></a><!--MD5=[270fce915f116d4de14055a7c1d9a0f3]\n",
       "class E5--><a href=\"psysml:83fc889d-b3c1-4be4-83aa-24728b198254\" target=\"_top\" title=\"psysml:83fc889d-b3c1-4be4-83aa-24728b198254\" xlink:actuate=\"onRequest\" xlink:href=\"psysml:83fc889d-b3c1-4be4-83aa-24728b198254\" xlink:show=\"new\" xlink:title=\"psysml:83fc889d-b3c1-4be4-83aa-24728b198254\" xlink:type=\"simple\"><rect fill=\"#FFFFFF\" height=\"75.5469\" id=\"E5\" rx=\"10\" ry=\"10\" style=\"stroke: #383838; stroke-width: 1.5;\" width=\"113\" x=\"504.5\" y=\"177\"/><text fill=\"#000000\" font-family=\"sans-serif\" font-size=\"12\" font-style=\"italic\" lengthAdjust=\"spacingAndGlyphs\" textLength=\"40\" x=\"541\" y=\"193.1387\">«part»</text><text fill=\"#000000\" font-family=\"sans-serif\" font-size=\"12\" lengthAdjust=\"spacingAndGlyphs\" textLength=\"103\" x=\"507.5\" y=\"207.1074\">eng: VehiclePart</text><line style=\"stroke: #383838; stroke-width: 1.5;\" x1=\"505.5\" x2=\"616.5\" y1=\"214.9375\" y2=\"214.9375\"/><text fill=\"#000000\" font-family=\"sans-serif\" font-size=\"11\" lengthAdjust=\"spacingAndGlyphs\" textLength=\"89\" x=\"510.5\" y=\"245.9526\">^m: MassValue</text><line style=\"stroke: #383838; stroke-width: 1.0;\" x1=\"505.5\" x2=\"533.5\" y1=\"229.3398\" y2=\"229.3398\"/><text fill=\"#000000\" font-family=\"sans-serif\" font-size=\"11\" lengthAdjust=\"spacingAndGlyphs\" textLength=\"55\" x=\"533.5\" y=\"232.6479\">attributes</text><line style=\"stroke: #383838; stroke-width: 1.0;\" x1=\"588.5\" x2=\"616.5\" y1=\"229.3398\" y2=\"229.3398\"/></a><!--MD5=[60a26617385b1d2d0262a64233df1f8d]\n",
       "class E6--><a href=\"psysml:9ad03ab5-4ba7-4600-8f6c-f33bd21910a1\" target=\"_top\" title=\"psysml:9ad03ab5-4ba7-4600-8f6c-f33bd21910a1\" xlink:actuate=\"onRequest\" xlink:href=\"psysml:9ad03ab5-4ba7-4600-8f6c-f33bd21910a1\" xlink:show=\"new\" xlink:title=\"psysml:9ad03ab5-4ba7-4600-8f6c-f33bd21910a1\" xlink:type=\"simple\"><rect fill=\"#FFFFFF\" height=\"75.5469\" id=\"E6\" rx=\"10\" ry=\"10\" style=\"stroke: #383838; stroke-width: 1.5;\" width=\"122\" x=\"653\" y=\"177\"/><text fill=\"#000000\" font-family=\"sans-serif\" font-size=\"12\" font-style=\"italic\" lengthAdjust=\"spacingAndGlyphs\" textLength=\"40\" x=\"694\" y=\"193.1387\">«part»</text><text fill=\"#000000\" font-family=\"sans-serif\" font-size=\"12\" lengthAdjust=\"spacingAndGlyphs\" textLength=\"112\" x=\"656\" y=\"207.1074\">trans: VehiclePart</text><line style=\"stroke: #383838; stroke-width: 1.5;\" x1=\"654\" x2=\"774\" y1=\"214.9375\" y2=\"214.9375\"/><text fill=\"#000000\" font-family=\"sans-serif\" font-size=\"11\" lengthAdjust=\"spacingAndGlyphs\" textLength=\"89\" x=\"659\" y=\"245.9526\">^m: MassValue</text><line style=\"stroke: #383838; stroke-width: 1.0;\" x1=\"654\" x2=\"686.5\" y1=\"229.3398\" y2=\"229.3398\"/><text fill=\"#000000\" font-family=\"sans-serif\" font-size=\"11\" lengthAdjust=\"spacingAndGlyphs\" textLength=\"55\" x=\"686.5\" y=\"232.6479\">attributes</text><line style=\"stroke: #383838; stroke-width: 1.0;\" x1=\"741.5\" x2=\"774\" y1=\"229.3398\" y2=\"229.3398\"/></a><!--MD5=[2156ba9850f5573cc1fc38a6a4b2f02b]\n",
       "class E7--><a href=\"psysml:425e038d-47d6-48b2-bd42-a030f1074fc4\" target=\"_top\" title=\"psysml:425e038d-47d6-48b2-bd42-a030f1074fc4\" xlink:actuate=\"onRequest\" xlink:href=\"psysml:425e038d-47d6-48b2-bd42-a030f1074fc4\" xlink:show=\"new\" xlink:title=\"psysml:425e038d-47d6-48b2-bd42-a030f1074fc4\" xlink:type=\"simple\"><rect fill=\"#FFFFFF\" height=\"45.9375\" id=\"E7\" style=\"stroke: #383838; stroke-width: 1.5;\" width=\"112\" x=\"252\" y=\"192\"/><text fill=\"#000000\" font-family=\"sans-serif\" font-size=\"12\" font-style=\"italic\" lengthAdjust=\"spacingAndGlyphs\" textLength=\"110\" x=\"253\" y=\"208.1387\">«calculation  def»</text><text fill=\"#000000\" font-family=\"sans-serif\" font-size=\"12\" lengthAdjust=\"spacingAndGlyphs\" textLength=\"59\" x=\"278.5\" y=\"222.1074\">MassSum</text><line style=\"stroke: #383838; stroke-width: 1.5;\" x1=\"253\" x2=\"363\" y1=\"229.9375\" y2=\"229.9375\"/></a><!--MD5=[b9389687b975829384b498ac4b7476b2]\n",
       "class E8--><a href=\"psysml:e012d373-591a-4cf2-b53b-d810c6dd562d\" target=\"_top\" title=\"psysml:e012d373-591a-4cf2-b53b-d810c6dd562d\" xlink:actuate=\"onRequest\" xlink:href=\"psysml:e012d373-591a-4cf2-b53b-d810c6dd562d\" xlink:show=\"new\" xlink:title=\"psysml:e012d373-591a-4cf2-b53b-d810c6dd562d\" xlink:type=\"simple\"><rect fill=\"#FFFFFF\" height=\"75.5469\" id=\"E8\" rx=\"10\" ry=\"10\" style=\"stroke: #383838; stroke-width: 1.5;\" width=\"293\" x=\"340.5\" y=\"41\"/><text fill=\"#000000\" font-family=\"sans-serif\" font-size=\"12\" font-style=\"italic\" lengthAdjust=\"spacingAndGlyphs\" textLength=\"82\" x=\"446\" y=\"57.1387\">«calculation»</text><text fill=\"#000000\" font-family=\"sans-serif\" font-size=\"12\" lengthAdjust=\"spacingAndGlyphs\" textLength=\"85\" x=\"442.5\" y=\"71.1074\">ms: MassSum</text><line style=\"stroke: #383838; stroke-width: 1.5;\" x1=\"341.5\" x2=\"632.5\" y1=\"78.9375\" y2=\"78.9375\"/><text fill=\"#000000\" font-family=\"sans-serif\" font-size=\"11\" font-weight=\"bold\" lengthAdjust=\"spacingAndGlyphs\" textLength=\"10\" x=\"346.5\" y=\"109.9526\">in</text><text fill=\"#000000\" font-family=\"sans-serif\" font-size=\"11\" lengthAdjust=\"spacingAndGlyphs\" textLength=\"267\" x=\"360.5\" y=\"109.9526\">partMasses= (vehicle.eng.m, vehicle.trans.m);</text><line style=\"stroke: #383838; stroke-width: 1.0;\" x1=\"341.5\" x2=\"453.5\" y1=\"93.3398\" y2=\"93.3398\"/><text fill=\"#000000\" font-family=\"sans-serif\" font-size=\"11\" lengthAdjust=\"spacingAndGlyphs\" textLength=\"67\" x=\"453.5\" y=\"96.6479\">parameters</text><line style=\"stroke: #383838; stroke-width: 1.0;\" x1=\"520.5\" x2=\"632.5\" y1=\"93.3398\" y2=\"93.3398\"/></a><!--MD5=[fd4143e9d270a159db93a4ea2a975926]\n",
       "class E9--><a href=\"psysml:e4253433-368c-4e86-8a3c-6b186419df89\" target=\"_top\" title=\"psysml:e4253433-368c-4e86-8a3c-6b186419df89\" xlink:actuate=\"onRequest\" xlink:href=\"psysml:e4253433-368c-4e86-8a3c-6b186419df89\" xlink:show=\"new\" xlink:title=\"psysml:e4253433-368c-4e86-8a3c-6b186419df89\" xlink:type=\"simple\"><rect fill=\"#FFFFFF\" height=\"45.9375\" id=\"E9\" rx=\"10\" ry=\"10\" style=\"stroke: #383838; stroke-width: 1.5;\" width=\"60\" x=\"245\" y=\"56\"/><text fill=\"#000000\" font-family=\"sans-serif\" font-size=\"12\" font-style=\"italic\" lengthAdjust=\"spacingAndGlyphs\" textLength=\"40\" x=\"255\" y=\"72.1387\">«part»</text><text fill=\"#000000\" font-family=\"sans-serif\" font-size=\"12\" lengthAdjust=\"spacingAndGlyphs\" textLength=\"50\" x=\"248\" y=\"86.1074\">vehicles</text><line style=\"stroke: #383838; stroke-width: 1.5;\" x1=\"246\" x2=\"304\" y1=\"93.9375\" y2=\"93.9375\"/></a><!--MD5=[96f4274e9e20536e775497830990834d]\n",
       "class E10--><a href=\"psysml:03468340-4ee1-4dfd-ba23-9337b31e6caf\" target=\"_top\" title=\"psysml:03468340-4ee1-4dfd-ba23-9337b31e6caf\" xlink:actuate=\"onRequest\" xlink:href=\"psysml:03468340-4ee1-4dfd-ba23-9337b31e6caf\" xlink:show=\"new\" xlink:title=\"psysml:03468340-4ee1-4dfd-ba23-9337b31e6caf\" xlink:type=\"simple\"><rect fill=\"#FFFFFF\" height=\"45.9375\" id=\"E10\" rx=\"10\" ry=\"10\" style=\"stroke: #383838; stroke-width: 1.5;\" width=\"71\" x=\"138.5\" y=\"56\"/><text fill=\"#000000\" font-family=\"sans-serif\" font-size=\"12\" font-style=\"italic\" lengthAdjust=\"spacingAndGlyphs\" textLength=\"69\" x=\"139.5\" y=\"72.1387\">«attribute»</text><text fill=\"#000000\" font-family=\"sans-serif\" font-size=\"12\" lengthAdjust=\"spacingAndGlyphs\" textLength=\"56\" x=\"144\" y=\"86.1074\">masses1</text><line style=\"stroke: #383838; stroke-width: 1.5;\" x1=\"139.5\" x2=\"208.5\" y1=\"93.9375\" y2=\"93.9375\"/></a><!--MD5=[1dd1bfd58a279cf63c5f349dbc8fc6a1]\n",
       "class E11--><a href=\"psysml:a35488ce-7eb0-470e-9ecc-f7a0c28bc139\" target=\"_top\" title=\"psysml:a35488ce-7eb0-470e-9ecc-f7a0c28bc139\" xlink:actuate=\"onRequest\" xlink:href=\"psysml:a35488ce-7eb0-470e-9ecc-f7a0c28bc139\" xlink:show=\"new\" xlink:title=\"psysml:a35488ce-7eb0-470e-9ecc-f7a0c28bc139\" xlink:type=\"simple\"><rect fill=\"#FFFFFF\" height=\"45.9375\" id=\"E11\" rx=\"10\" ry=\"10\" style=\"stroke: #383838; stroke-width: 1.5;\" width=\"71\" x=\"32.5\" y=\"56\"/><text fill=\"#000000\" font-family=\"sans-serif\" font-size=\"12\" font-style=\"italic\" lengthAdjust=\"spacingAndGlyphs\" textLength=\"69\" x=\"33.5\" y=\"72.1387\">«attribute»</text><text fill=\"#000000\" font-family=\"sans-serif\" font-size=\"12\" lengthAdjust=\"spacingAndGlyphs\" textLength=\"56\" x=\"38\" y=\"86.1074\">masses2</text><line style=\"stroke: #383838; stroke-width: 1.5;\" x1=\"33.5\" x2=\"102.5\" y1=\"93.9375\" y2=\"93.9375\"/></a><!--MD5=[05d275557350bfb9b23a4ef7222b4c39]\n",
       "link E3 to E2--><a href=\"psysml:2113862d-3e36-4f2a-be29-5fbeffc35ef5\" target=\"_top\" title=\"psysml:2113862d-3e36-4f2a-be29-5fbeffc35ef5\" xlink:actuate=\"onRequest\" xlink:href=\"psysml:2113862d-3e36-4f2a-be29-5fbeffc35ef5\" xlink:show=\"new\" xlink:title=\"psysml:2113862d-3e36-4f2a-be29-5fbeffc35ef5\" xlink:type=\"simple\"><path d=\"M454.97,238.13 C470.45,254.46 492.16,277.37 511.91,298.21 \" fill=\"none\" id=\"E3-&gt;E2\" style=\"stroke: #383838; stroke-width: 1.0;\"/><polygon fill=\"none\" points=\"517.15,293.56,525.83,312.89,506.99,303.19,517.15,293.56\" style=\"stroke: #383838; stroke-width: 1.0;\"/></a><!--MD5=[f0cdf4548168e5211fb3a02bf679d63a]\n",
       "link E4 to E3--><a href=\"psysml:3f6bcc61-006c-4905-be22-168150e04931\" target=\"_top\" title=\"psysml:3f6bcc61-006c-4905-be22-168150e04931\" xlink:actuate=\"onRequest\" xlink:href=\"psysml:3f6bcc61-006c-4905-be22-168150e04931\" xlink:show=\"new\" xlink:title=\"psysml:3f6bcc61-006c-4905-be22-168150e04931\" xlink:type=\"simple\"><path d=\"M668.86,108.63 C662.89,111.57 656.85,114.42 651,117 C579.99,148.33 555.84,141.15 487,177 C484.58,178.26 482.14,179.62 479.7,181.04 \" fill=\"none\" id=\"E4-&gt;E3\" style=\"stroke: #383838; stroke-width: 1.0;\"/><polygon fill=\"#FFFFFF\" points=\"462.86,191.85,475.0758,175.7015,482.6328,187.4868,462.86,191.85\" style=\"stroke: #383838; stroke-width: 1.0;\"/><ellipse cx=\"480.9537\" cy=\"174.3083\" fill=\"#383838\" rx=\"2\" ry=\"2\" style=\"stroke: #383838; stroke-width: 1.0;\"/><ellipse cx=\"486.3515\" cy=\"182.7264\" fill=\"#383838\" rx=\"2\" ry=\"2\" style=\"stroke: #383838; stroke-width: 1.0;\"/></a><!--MD5=[62aa6af11e70f752912c1cb0466f24f7]\n",
       "reverse link E4 to E5--><a href=\"psysml:dfe553ed-92b1-45a3-82b1-c875cfb3cf56\" target=\"_top\" title=\"psysml:dfe553ed-92b1-45a3-82b1-c875cfb3cf56\" xlink:actuate=\"onRequest\" xlink:href=\"psysml:dfe553ed-92b1-45a3-82b1-c875cfb3cf56\" xlink:show=\"new\" xlink:title=\"psysml:dfe553ed-92b1-45a3-82b1-c875cfb3cf56\" xlink:type=\"simple\"><path d=\"M666.94,125.83 C646.93,142.48 624.59,161.07 605.61,176.87 \" fill=\"none\" id=\"E4&lt;-E5\" style=\"stroke: #383838; stroke-width: 1.0;\"/><polygon fill=\"#FFFFFF\" points=\"677.15,117.33,669.9796,118.0952,667.9281,125.0083,675.0985,124.2431,677.15,117.33\" style=\"stroke: #383838; stroke-width: 1.0;\"/><text fill=\"#000000\" font-family=\"sans-serif\" font-size=\"13\" lengthAdjust=\"spacingAndGlyphs\" textLength=\"8\" x=\"604.8437\" y=\"165.8612\">1</text></a><!--MD5=[15ebcb19ae302d9b601edb458606d402]\n",
       "link E5 to E2--><a href=\"psysml:7cfd1003-3fe0-4a32-a3a1-13a5c8efedf2\" target=\"_top\" title=\"psysml:7cfd1003-3fe0-4a32-a3a1-13a5c8efedf2\" xlink:actuate=\"onRequest\" xlink:href=\"psysml:7cfd1003-3fe0-4a32-a3a1-13a5c8efedf2\" xlink:show=\"new\" xlink:title=\"psysml:7cfd1003-3fe0-4a32-a3a1-13a5c8efedf2\" xlink:type=\"simple\"><path d=\"M561,253.33 C561,265.52 561,279.36 561,292.68 \" fill=\"none\" id=\"E5-&gt;E2\" style=\"stroke: #383838; stroke-width: 1.0;\"/><polygon fill=\"#FFFFFF\" points=\"561,312.87,554,293.87,568,293.87,561,312.87\" style=\"stroke: #383838; stroke-width: 1.0;\"/><ellipse cx=\"556\" cy=\"288.17\" fill=\"#383838\" rx=\"2\" ry=\"2\" style=\"stroke: #383838; stroke-width: 1.0;\"/><ellipse cx=\"566\" cy=\"288.17\" fill=\"#383838\" rx=\"2\" ry=\"2\" style=\"stroke: #383838; stroke-width: 1.0;\"/></a><!--MD5=[6db378b65e1aef66a01cb3103812b399]\n",
       "reverse link E4 to E6--><a href=\"psysml:56232501-f921-4851-b5f9-a91b366c1c7b\" target=\"_top\" title=\"psysml:56232501-f921-4851-b5f9-a91b366c1c7b\" xlink:actuate=\"onRequest\" xlink:href=\"psysml:56232501-f921-4851-b5f9-a91b366c1c7b\" xlink:show=\"new\" xlink:title=\"psysml:56232501-f921-4851-b5f9-a91b366c1c7b\" xlink:type=\"simple\"><path d=\"M718.99,130.46 C718.07,145.87 717.07,162.52 716.22,176.87 \" fill=\"none\" id=\"E4&lt;-E6\" style=\"stroke: #383838; stroke-width: 1.0;\"/><polygon fill=\"#FFFFFF\" points=\"719.77,117.33,715.4212,123.0822,719.0584,129.3089,723.4072,123.5566,719.77,117.33\" style=\"stroke: #383838; stroke-width: 1.0;\"/><text fill=\"#000000\" font-family=\"sans-serif\" font-size=\"13\" lengthAdjust=\"spacingAndGlyphs\" textLength=\"8\" x=\"707.9029\" y=\"165.8612\">1</text></a><!--MD5=[2351f337d6de0f557b50152ba70847b5]\n",
       "link E6 to E2--><a href=\"psysml:b3767e4f-9e3f-4162-9e5b-3e184cb0e1ab\" target=\"_top\" title=\"psysml:b3767e4f-9e3f-4162-9e5b-3e184cb0e1ab\" xlink:actuate=\"onRequest\" xlink:href=\"psysml:b3767e4f-9e3f-4162-9e5b-3e184cb0e1ab\" xlink:show=\"new\" xlink:title=\"psysml:b3767e4f-9e3f-4162-9e5b-3e184cb0e1ab\" xlink:type=\"simple\"><path d=\"M671.38,253.33 C655.05,267.63 636.14,284.19 618.63,299.52 \" fill=\"none\" id=\"E6-&gt;E2\" style=\"stroke: #383838; stroke-width: 1.0;\"/><polygon fill=\"#FFFFFF\" points=\"603.39,312.87,613.0639,295.0819,622.2922,305.6099,603.39,312.87\" style=\"stroke: #383838; stroke-width: 1.0;\"/><ellipse cx=\"618.6686\" cy=\"292.8287\" fill=\"#383838\" rx=\"2\" ry=\"2\" style=\"stroke: #383838; stroke-width: 1.0;\"/><ellipse cx=\"625.2602\" cy=\"300.3487\" fill=\"#383838\" rx=\"2\" ry=\"2\" style=\"stroke: #383838; stroke-width: 1.0;\"/></a><!--MD5=[bfa3c8b0d15052fdf50ae9310b491027]\n",
       "link E8 to E7--><a href=\"psysml:650eb0f7-ec08-4309-80b6-1e90e34b9690\" target=\"_top\" title=\"psysml:650eb0f7-ec08-4309-80b6-1e90e34b9690\" xlink:actuate=\"onRequest\" xlink:href=\"psysml:650eb0f7-ec08-4309-80b6-1e90e34b9690\" xlink:show=\"new\" xlink:title=\"psysml:650eb0f7-ec08-4309-80b6-1e90e34b9690\" xlink:type=\"simple\"><path d=\"M437.14,117.33 C410.96,136.93 379.11,160.77 353.59,179.87 \" fill=\"none\" id=\"E8-&gt;E7\" style=\"stroke: #383838; stroke-width: 1.0;\"/><polygon fill=\"#FFFFFF\" points=\"337.47,191.94,348.487,174.951,356.8758,186.1594,337.47,191.94\" style=\"stroke: #383838; stroke-width: 1.0;\"/><ellipse cx=\"354.2488\" cy=\"173.1368\" fill=\"#383838\" rx=\"2\" ry=\"2\" style=\"stroke: #383838; stroke-width: 1.0;\"/><ellipse cx=\"360.2408\" cy=\"181.1428\" fill=\"#383838\" rx=\"2\" ry=\"2\" style=\"stroke: #383838; stroke-width: 1.0;\"/></a><!--MD5=[79c6328d6072073f3bd1751efc5cb0d1]\n",
       "@startuml\r\n",
       "skinparam monochrome true\r\n",
       "skinparam classbackgroundcolor white\r\n",
       "skinparam shadowing false\r\n",
       "skinparam wrapWidth 300\r\n",
       "hide circle\r\n",
       "\r\n",
       "package \"CalculationExample\" as E1  [[psysml:9a950c4d-df47-4bf2-a127-6824d456053c ]]  {\r\n",
       "comp def \"VehiclePart\" as E2  <<(T,blue) part  def>> [[psysml:240f00ab-b9bf-457e-9376-98b0b5e156bb ]] {\r\n",
       "- - attributes - -\r\n",
       "m: MassValue\r\n",
       "}\r\n",
       "comp def \"Vehicle\" as E3  <<(T,blue) part  def>> [[psysml:240db56f-6d8c-4faf-8b3c-f8974d12918d ]] {\r\n",
       "}\r\n",
       "comp usage \"vehicle: Vehicle \" as E4  <<(T,blue) part>> [[psysml:ce00e2ad-3315-43f7-b2e6-6ce884a27309 ]] {\r\n",
       "- - attributes - -\r\n",
       "^m: MassValue\r\n",
       "}\r\n",
       "comp usage \"eng: VehiclePart \" as E5  <<(T,blue) part>> [[psysml:83fc889d-b3c1-4be4-83aa-24728b198254 ]] {\r\n",
       "- - attributes - -\r\n",
       "^m: MassValue\r\n",
       "}\r\n",
       "comp usage \"trans: VehiclePart \" as E6  <<(T,blue) part>> [[psysml:9ad03ab5-4ba7-4600-8f6c-f33bd21910a1 ]] {\r\n",
       "- - attributes - -\r\n",
       "^m: MassValue\r\n",
       "}\r\n",
       "comp def \"MassSum\" as E7  <<(T,blue) calculation  def>> [[psysml:425e038d-47d6-48b2-bd42-a030f1074fc4 ]] {\r\n",
       "}\r\n",
       "comp usage \"ms: MassSum \" as E8  <<(T,blue) calculation>> [[psysml:e012d373-591a-4cf2-b53b-d810c6dd562d ]] {\r\n",
       "- - parameters - -\r\n",
       "<b>in</b> partMasses= (vehicle.eng.m, vehicle.trans.m); \r\n",
       "}\r\n",
       "comp usage \"vehicles \" as E9  <<(T,blue) part>> [[psysml:e4253433-368c-4e86-8a3c-6b186419df89 ]] {\r\n",
       "}\r\n",
       "comp usage \"masses1 \" as E10  <<(T,blue) attribute>> [[psysml:03468340-4ee1-4dfd-ba23-9337b31e6caf ]] {\r\n",
       "}\r\n",
       "comp usage \"masses2 \" as E11  <<(T,blue) attribute>> [[psysml:a35488ce-7eb0-470e-9ecc-f7a0c28bc139 ]] {\r\n",
       "}\r\n",
       "}\r\n",
       "E3 - -|> E2 [[psysml:2113862d-3e36-4f2a-be29-5fbeffc35ef5 ]] \r\n",
       "E4 - -:|> E3 [[psysml:3f6bcc61-006c-4905-be22-168150e04931 ]] \r\n",
       "E4 o- - \"1\"E5 [[psysml:dfe553ed-92b1-45a3-82b1-c875cfb3cf56 ]] \r\n",
       "E5 - -:|> E2 [[psysml:7cfd1003-3fe0-4a32-a3a1-13a5c8efedf2 ]] \r\n",
       "E4 o- - \"1\"E6 [[psysml:56232501-f921-4851-b5f9-a91b366c1c7b ]] \r\n",
       "E6 - -:|> E2 [[psysml:b3767e4f-9e3f-4162-9e5b-3e184cb0e1ab ]] \r\n",
       "E8 - -:|> E7 [[psysml:650eb0f7-ec08-4309-80b6-1e90e34b9690 ]] \r\n",
       "@enduml\r\n",
       "\n",
       "PlantUML version 1.2020.13(Sat Jun 13 12:26:38 UTC 2020)\n",
       "(EPL source distribution)\n",
       "Java Runtime: OpenJDK Runtime Environment\n",
       "JVM: OpenJDK 64-Bit Server VM\n",
       "Default Encoding: UTF-8\n",
       "Language: en\n",
       "Country: null\n",
       "--></g></svg>"
      ]
     },
     "execution_count": 38,
     "metadata": {},
     "output_type": "execute_result"
    }
   ],
   "source": [
    "%viz --style=\"DEFAULT\" --view=\"Tree\" \"CalculationExample\""
   ]
  },
  {
   "cell_type": "code",
   "execution_count": 39,
   "id": "b42fe332",
   "metadata": {
    "execution": {
     "iopub.execute_input": "2022-08-19T08:22:03.611401Z",
     "iopub.status.busy": "2022-08-19T08:22:03.610958Z",
     "iopub.status.idle": "2022-08-19T08:22:03.618959Z",
     "shell.execute_reply": "2022-08-19T08:22:03.618566Z"
    }
   },
   "outputs": [
    {
     "data": {
      "image/svg+xml": [
       "<?xml version=\"1.0\" encoding=\"UTF-8\" standalone=\"no\"?><svg xmlns=\"http://www.w3.org/2000/svg\" xmlns:xlink=\"http://www.w3.org/1999/xlink\" contentScriptType=\"application/ecmascript\" contentStyleType=\"text/css\" height=\"12px\" preserveAspectRatio=\"none\" style=\"width:12px;height:12px;\" version=\"1.1\" viewBox=\"0 0 12 12\" width=\"12px\" zoomAndPan=\"magnify\"><defs/><g><!--MD5=[c5f280e076d0d61ccf4b0f27871bda1d]\n",
       "@startuml\r\n",
       "skinparam monochrome true\r\n",
       "skinparam classbackgroundcolor white\r\n",
       "skinparam shadowing false\r\n",
       "skinparam wrapWidth 300\r\n",
       "hide circle\r\n",
       "\r\n",
       "@enduml\r\n",
       "\n",
       "PlantUML version 1.2020.13(Sat Jun 13 12:26:38 UTC 2020)\n",
       "(EPL source distribution)\n",
       "Java Runtime: OpenJDK Runtime Environment\n",
       "JVM: OpenJDK 64-Bit Server VM\n",
       "Default Encoding: UTF-8\n",
       "Language: en\n",
       "Country: null\n",
       "--></g></svg>"
      ]
     },
     "execution_count": 39,
     "metadata": {},
     "output_type": "execute_result"
    }
   ],
   "source": [
    "%viz --style=\"DEFAULT\" --view=\"State\" \"CalculationExample\""
   ]
  },
  {
   "cell_type": "code",
   "execution_count": 40,
   "id": "1e8dd2c0",
   "metadata": {
    "execution": {
     "iopub.execute_input": "2022-08-19T08:22:03.668722Z",
     "iopub.status.busy": "2022-08-19T08:22:03.668283Z",
     "iopub.status.idle": "2022-08-19T08:22:03.757892Z",
     "shell.execute_reply": "2022-08-19T08:22:03.756418Z"
    }
   },
   "outputs": [
    {
     "data": {
      "image/svg+xml": [
       "<?xml version=\"1.0\" encoding=\"UTF-8\" standalone=\"no\"?><svg xmlns=\"http://www.w3.org/2000/svg\" xmlns:xlink=\"http://www.w3.org/1999/xlink\" contentScriptType=\"application/ecmascript\" contentStyleType=\"text/css\" height=\"581px\" preserveAspectRatio=\"none\" style=\"width:1649px;height:581px;\" version=\"1.1\" viewBox=\"0 0 1649 581\" width=\"1649px\" zoomAndPan=\"magnify\"><defs/><g><!--MD5=[fbc87193dbaf4d95561dea2c320d4a47]\n",
       "cluster E1--><a href=\"psysml:9a950c4d-df47-4bf2-a127-6824d456053c\" target=\"_top\" title=\"psysml:9a950c4d-df47-4bf2-a127-6824d456053c\" xlink:actuate=\"onRequest\" xlink:href=\"psysml:9a950c4d-df47-4bf2-a127-6824d456053c\" xlink:show=\"new\" xlink:title=\"psysml:9a950c4d-df47-4bf2-a127-6824d456053c\" xlink:type=\"simple\"><polygon fill=\"#FFFFFF\" points=\"16,6,155,6,162,28.2969,1627,28.2969,1627,569,16,569,16,6\" style=\"stroke: #000000; stroke-width: 1.5;\"/><line style=\"stroke: #000000; stroke-width: 1.5;\" x1=\"16\" x2=\"162\" y1=\"28.2969\" y2=\"28.2969\"/><text fill=\"#000000\" font-family=\"sans-serif\" font-size=\"14\" font-weight=\"bold\" lengthAdjust=\"spacingAndGlyphs\" textLength=\"133\" x=\"20\" y=\"20.9951\">CalculationExample</text></a><!--MD5=[e4f7fae6ed58524ba242bb0b0d3be6b7]\n",
       "cluster E2--><a href=\"psysml:240f00ab-b9bf-457e-9376-98b0b5e156bb\" target=\"_top\" title=\"psysml:240f00ab-b9bf-457e-9376-98b0b5e156bb\" xlink:actuate=\"onRequest\" xlink:href=\"psysml:240f00ab-b9bf-457e-9376-98b0b5e156bb\" xlink:show=\"new\" xlink:title=\"psysml:240f00ab-b9bf-457e-9376-98b0b5e156bb\" xlink:type=\"simple\"><rect fill=\"#FFFFFF\" height=\"129\" id=\"E2\" style=\"stroke: #383838; stroke-width: 1.5;\" width=\"163\" x=\"1169\" y=\"372\"/><rect fill=\"#F8F8F8\" height=\"37.9375\" style=\"stroke: #383838; stroke-width: 1.5;\" width=\"163\" x=\"1169\" y=\"372\"/><text fill=\"#000000\" font-family=\"sans-serif\" font-size=\"12\" font-style=\"italic\" lengthAdjust=\"spacingAndGlyphs\" textLength=\"68\" x=\"1216.5\" y=\"388.1387\">«part  def»</text><text fill=\"#000000\" font-family=\"sans-serif\" font-size=\"12\" lengthAdjust=\"spacingAndGlyphs\" textLength=\"71\" x=\"1215\" y=\"402.1074\">VehiclePart</text></a><!--MD5=[de5ec2e2e8f62f467e546659f5068c88]\n",
       "cluster E5--><a href=\"psysml:ce00e2ad-3315-43f7-b2e6-6ce884a27309\" target=\"_top\" title=\"psysml:ce00e2ad-3315-43f7-b2e6-6ce884a27309\" xlink:actuate=\"onRequest\" xlink:href=\"psysml:ce00e2ad-3315-43f7-b2e6-6ce884a27309\" xlink:show=\"new\" xlink:title=\"psysml:ce00e2ad-3315-43f7-b2e6-6ce884a27309\" xlink:type=\"simple\"><rect fill=\"#FFFFFF\" height=\"212\" id=\"E5\" rx=\"10\" ry=\"10\" style=\"stroke: #383838; stroke-width: 1.5;\" width=\"602\" x=\"993\" y=\"57\"/><rect fill=\"#F8F8F8\" height=\"23.9688\" rx=\"10\" ry=\"10\" style=\"stroke: #F8F8F8; stroke-width: 1.5;\" width=\"602\" x=\"993\" y=\"57\"/><rect fill=\"#F8F8F8\" height=\"10\" style=\"stroke: #F8F8F8; stroke-width: 1.5;\" width=\"602\" x=\"993\" y=\"70.9688\"/><rect fill=\"none\" height=\"212\" id=\"E5\" rx=\"10\" ry=\"10\" style=\"stroke: #383838; stroke-width: 1.5;\" width=\"602\" x=\"993\" y=\"57\"/><text fill=\"#000000\" font-family=\"sans-serif\" font-size=\"12\" lengthAdjust=\"spacingAndGlyphs\" textLength=\"96\" x=\"1246\" y=\"73.1387\">vehicle: Vehicle</text><line style=\"stroke: #383838; stroke-width: 1.0;\" x1=\"993\" x2=\"1595\" y1=\"80.9688\" y2=\"80.9688\"/></a><!--MD5=[14e3b0961a2654348d326746436168a1]\n",
       "cluster E6--><a href=\"psysml:83fc889d-b3c1-4be4-83aa-24728b198254\" target=\"_top\" title=\"psysml:83fc889d-b3c1-4be4-83aa-24728b198254\" xlink:actuate=\"onRequest\" xlink:href=\"psysml:83fc889d-b3c1-4be4-83aa-24728b198254\" xlink:show=\"new\" xlink:title=\"psysml:83fc889d-b3c1-4be4-83aa-24728b198254\" xlink:type=\"simple\"><rect fill=\"#FFFFFF\" height=\"113\" id=\"E6\" rx=\"10\" ry=\"10\" style=\"stroke: #383838; stroke-width: 1.5;\" width=\"173\" x=\"1169\" y=\"116\"/><rect fill=\"#F8F8F8\" height=\"23.9688\" rx=\"10\" ry=\"10\" style=\"stroke: #F8F8F8; stroke-width: 1.5;\" width=\"173\" x=\"1169\" y=\"116\"/><rect fill=\"#F8F8F8\" height=\"10\" style=\"stroke: #F8F8F8; stroke-width: 1.5;\" width=\"173\" x=\"1169\" y=\"129.9688\"/><rect fill=\"none\" height=\"113\" id=\"E6\" rx=\"10\" ry=\"10\" style=\"stroke: #383838; stroke-width: 1.5;\" width=\"173\" x=\"1169\" y=\"116\"/><text fill=\"#000000\" font-family=\"sans-serif\" font-size=\"12\" lengthAdjust=\"spacingAndGlyphs\" textLength=\"103\" x=\"1204\" y=\"132.1387\">eng: VehiclePart</text><line style=\"stroke: #383838; stroke-width: 1.0;\" x1=\"1169\" x2=\"1342\" y1=\"139.9688\" y2=\"139.9688\"/></a><!--MD5=[55dfccfc6c49c2d10cd1bd2211a6c90c]\n",
       "cluster E8--><a href=\"psysml:9ad03ab5-4ba7-4600-8f6c-f33bd21910a1\" target=\"_top\" title=\"psysml:9ad03ab5-4ba7-4600-8f6c-f33bd21910a1\" xlink:actuate=\"onRequest\" xlink:href=\"psysml:9ad03ab5-4ba7-4600-8f6c-f33bd21910a1\" xlink:show=\"new\" xlink:title=\"psysml:9ad03ab5-4ba7-4600-8f6c-f33bd21910a1\" xlink:type=\"simple\"><rect fill=\"#FFFFFF\" height=\"113\" id=\"E8\" rx=\"10\" ry=\"10\" style=\"stroke: #383838; stroke-width: 1.5;\" width=\"173\" x=\"1382\" y=\"116\"/><rect fill=\"#F8F8F8\" height=\"23.9688\" rx=\"10\" ry=\"10\" style=\"stroke: #F8F8F8; stroke-width: 1.5;\" width=\"173\" x=\"1382\" y=\"116\"/><rect fill=\"#F8F8F8\" height=\"10\" style=\"stroke: #F8F8F8; stroke-width: 1.5;\" width=\"173\" x=\"1382\" y=\"129.9688\"/><rect fill=\"none\" height=\"113\" id=\"E8\" rx=\"10\" ry=\"10\" style=\"stroke: #383838; stroke-width: 1.5;\" width=\"173\" x=\"1382\" y=\"116\"/><text fill=\"#000000\" font-family=\"sans-serif\" font-size=\"12\" lengthAdjust=\"spacingAndGlyphs\" textLength=\"112\" x=\"1412.5\" y=\"132.1387\">trans: VehiclePart</text><line style=\"stroke: #383838; stroke-width: 1.0;\" x1=\"1382\" x2=\"1555\" y1=\"139.9688\" y2=\"139.9688\"/></a><!--MD5=[917b9dd0c7eca3ee5f47219d1a84c0ad]\n",
       "cluster E11--><a href=\"psysml:425e038d-47d6-48b2-bd42-a030f1074fc4\" target=\"_top\" title=\"psysml:425e038d-47d6-48b2-bd42-a030f1074fc4\" xlink:actuate=\"onRequest\" xlink:href=\"psysml:425e038d-47d6-48b2-bd42-a030f1074fc4\" xlink:show=\"new\" xlink:title=\"psysml:425e038d-47d6-48b2-bd42-a030f1074fc4\" xlink:type=\"simple\"><rect fill=\"#FFFFFF\" height=\"349\" id=\"E11\" style=\"stroke: #383838; stroke-width: 1.5;\" width=\"186\" x=\"775\" y=\"182\"/><rect fill=\"#F8F8F8\" height=\"37.9375\" style=\"stroke: #383838; stroke-width: 1.5;\" width=\"186\" x=\"775\" y=\"182\"/><text fill=\"#000000\" font-family=\"sans-serif\" font-size=\"12\" font-style=\"italic\" lengthAdjust=\"spacingAndGlyphs\" textLength=\"110\" x=\"813\" y=\"198.1387\">«calculation  def»</text><text fill=\"#000000\" font-family=\"sans-serif\" font-size=\"12\" lengthAdjust=\"spacingAndGlyphs\" textLength=\"59\" x=\"838.5\" y=\"212.1074\">MassSum</text></a><!--MD5=[bee11217b2f71d958a27249dc326068c]\n",
       "class E14--><a href=\"psysml:e012d373-591a-4cf2-b53b-d810c6dd562d\" target=\"_top\" title=\"psysml:e012d373-591a-4cf2-b53b-d810c6dd562d\" xlink:actuate=\"onRequest\" xlink:href=\"psysml:e012d373-591a-4cf2-b53b-d810c6dd562d\" xlink:show=\"new\" xlink:title=\"psysml:e012d373-591a-4cf2-b53b-d810c6dd562d\" xlink:type=\"simple\"><rect fill=\"#FFFFFF\" height=\"75.5469\" id=\"E14\" rx=\"10\" ry=\"10\" style=\"stroke: #383838; stroke-width: 1.5;\" width=\"293\" x=\"465.5\" y=\"144\"/><text fill=\"#000000\" font-family=\"sans-serif\" font-size=\"12\" font-style=\"italic\" lengthAdjust=\"spacingAndGlyphs\" textLength=\"82\" x=\"571\" y=\"160.1387\">«calculation»</text><text fill=\"#000000\" font-family=\"sans-serif\" font-size=\"12\" lengthAdjust=\"spacingAndGlyphs\" textLength=\"85\" x=\"567.5\" y=\"174.1074\">ms: MassSum</text><line style=\"stroke: #383838; stroke-width: 1.5;\" x1=\"466.5\" x2=\"757.5\" y1=\"181.9375\" y2=\"181.9375\"/><text fill=\"#000000\" font-family=\"sans-serif\" font-size=\"11\" font-weight=\"bold\" lengthAdjust=\"spacingAndGlyphs\" textLength=\"10\" x=\"471.5\" y=\"212.9526\">in</text><text fill=\"#000000\" font-family=\"sans-serif\" font-size=\"11\" lengthAdjust=\"spacingAndGlyphs\" textLength=\"267\" x=\"485.5\" y=\"212.9526\">partMasses= (vehicle.eng.m, vehicle.trans.m);</text><line style=\"stroke: #383838; stroke-width: 1.0;\" x1=\"466.5\" x2=\"578.5\" y1=\"196.3398\" y2=\"196.3398\"/><text fill=\"#000000\" font-family=\"sans-serif\" font-size=\"11\" lengthAdjust=\"spacingAndGlyphs\" textLength=\"67\" x=\"578.5\" y=\"199.6479\">parameters</text><line style=\"stroke: #383838; stroke-width: 1.0;\" x1=\"645.5\" x2=\"757.5\" y1=\"196.3398\" y2=\"196.3398\"/></a><!--MD5=[35f0587eaee8d5bb9a02e25b63afc23b]\n",
       "class E16--><a href=\"psysml:03468340-4ee1-4dfd-ba23-9337b31e6caf\" target=\"_top\" title=\"psysml:03468340-4ee1-4dfd-ba23-9337b31e6caf\" xlink:actuate=\"onRequest\" xlink:href=\"psysml:03468340-4ee1-4dfd-ba23-9337b31e6caf\" xlink:show=\"new\" xlink:title=\"psysml:03468340-4ee1-4dfd-ba23-9337b31e6caf\" xlink:type=\"simple\"><rect fill=\"#FFFFFF\" height=\"45.9375\" id=\"E16\" rx=\"10\" ry=\"10\" style=\"stroke: #383838; stroke-width: 1.5;\" width=\"71\" x=\"359.5\" y=\"159\"/><text fill=\"#000000\" font-family=\"sans-serif\" font-size=\"12\" font-style=\"italic\" lengthAdjust=\"spacingAndGlyphs\" textLength=\"69\" x=\"360.5\" y=\"175.1387\">«attribute»</text><text fill=\"#000000\" font-family=\"sans-serif\" font-size=\"12\" lengthAdjust=\"spacingAndGlyphs\" textLength=\"56\" x=\"365\" y=\"189.1074\">masses1</text><line style=\"stroke: #383838; stroke-width: 1.5;\" x1=\"360.5\" x2=\"429.5\" y1=\"196.9375\" y2=\"196.9375\"/></a><!--MD5=[60e55a4a9b2f0dc0a36787c5a2095786]\n",
       "class E17--><a href=\"psysml:a35488ce-7eb0-470e-9ecc-f7a0c28bc139\" target=\"_top\" title=\"psysml:a35488ce-7eb0-470e-9ecc-f7a0c28bc139\" xlink:actuate=\"onRequest\" xlink:href=\"psysml:a35488ce-7eb0-470e-9ecc-f7a0c28bc139\" xlink:show=\"new\" xlink:title=\"psysml:a35488ce-7eb0-470e-9ecc-f7a0c28bc139\" xlink:type=\"simple\"><rect fill=\"#FFFFFF\" height=\"45.9375\" id=\"E17\" rx=\"10\" ry=\"10\" style=\"stroke: #383838; stroke-width: 1.5;\" width=\"71\" x=\"253.5\" y=\"159\"/><text fill=\"#000000\" font-family=\"sans-serif\" font-size=\"12\" font-style=\"italic\" lengthAdjust=\"spacingAndGlyphs\" textLength=\"69\" x=\"254.5\" y=\"175.1387\">«attribute»</text><text fill=\"#000000\" font-family=\"sans-serif\" font-size=\"12\" lengthAdjust=\"spacingAndGlyphs\" textLength=\"56\" x=\"259\" y=\"189.1074\">masses2</text><line style=\"stroke: #383838; stroke-width: 1.5;\" x1=\"254.5\" x2=\"323.5\" y1=\"196.9375\" y2=\"196.9375\"/></a><!--MD5=[09b614a08d8cba4a07c9adeb5e0fee81]\n",
       "class E3--><a href=\"psysml:3c3f6982-fe48-410d-a073-4745105d0bb1\" target=\"_top\" title=\"psysml:3c3f6982-fe48-410d-a073-4745105d0bb1\" xlink:actuate=\"onRequest\" xlink:href=\"psysml:3c3f6982-fe48-410d-a073-4745105d0bb1\" xlink:show=\"new\" xlink:title=\"psysml:3c3f6982-fe48-410d-a073-4745105d0bb1\" xlink:type=\"simple\"><rect fill=\"#FFFFFF\" height=\"45.9375\" id=\"E3\" rx=\"10\" ry=\"10\" style=\"stroke: #383838; stroke-width: 1.5;\" width=\"96\" x=\"1212\" y=\"431\"/><text fill=\"#000000\" font-family=\"sans-serif\" font-size=\"12\" font-style=\"italic\" lengthAdjust=\"spacingAndGlyphs\" textLength=\"69\" x=\"1225.5\" y=\"447.1387\">«attribute»</text><text fill=\"#000000\" font-family=\"sans-serif\" font-size=\"12\" lengthAdjust=\"spacingAndGlyphs\" textLength=\"86\" x=\"1215\" y=\"461.1074\">m: MassValue</text><line style=\"stroke: #383838; stroke-width: 1.5;\" x1=\"1213\" x2=\"1307\" y1=\"468.9375\" y2=\"468.9375\"/></a><g id=\"E1.E4\"><a href=\"psysml:240db56f-6d8c-4faf-8b3c-f8974d12918d\" target=\"_top\" title=\"psysml:240db56f-6d8c-4faf-8b3c-f8974d12918d\" xlink:actuate=\"onRequest\" xlink:href=\"psysml:240db56f-6d8c-4faf-8b3c-f8974d12918d\" xlink:show=\"new\" xlink:title=\"psysml:240db56f-6d8c-4faf-8b3c-f8974d12918d\" xlink:type=\"simple\"><rect fill=\"#FFFFFF\" height=\"42.9375\" id=\"E4\" style=\"stroke: #383838; stroke-width: 1.5;\" width=\"75\" x=\"1021.5\" y=\"305\"/><rect fill=\"#F8F8F8\" height=\"37.9375\" style=\"stroke: #383838; stroke-width: 1.5;\" width=\"75\" x=\"1021.5\" y=\"305\"/><text fill=\"#000000\" font-family=\"sans-serif\" font-size=\"12\" font-style=\"italic\" lengthAdjust=\"spacingAndGlyphs\" textLength=\"68\" x=\"1025\" y=\"321.1387\">«part  def»</text><text fill=\"#000000\" font-family=\"sans-serif\" font-size=\"12\" lengthAdjust=\"spacingAndGlyphs\" textLength=\"45\" x=\"1036.5\" y=\"335.1074\">Vehicle</text></a></g><!--MD5=[96f4274e9e20536e775497830990834d]\n",
       "class E10--><a href=\"psysml:3c3f6982-fe48-410d-a073-4745105d0bb1\" target=\"_top\" title=\"psysml:3c3f6982-fe48-410d-a073-4745105d0bb1\" xlink:actuate=\"onRequest\" xlink:href=\"psysml:3c3f6982-fe48-410d-a073-4745105d0bb1\" xlink:show=\"new\" xlink:title=\"psysml:3c3f6982-fe48-410d-a073-4745105d0bb1\" xlink:type=\"simple\"><rect fill=\"#FFFFFF\" height=\"45.9375\" id=\"E10\" rx=\"10\" ry=\"10\" style=\"stroke: #383838; stroke-width: 1.5;\" width=\"106\" x=\"1036\" y=\"159\"/><text fill=\"#000000\" font-family=\"sans-serif\" font-size=\"12\" font-style=\"italic\" lengthAdjust=\"spacingAndGlyphs\" textLength=\"69\" x=\"1054.5\" y=\"175.1387\">«attribute»</text><text fill=\"#000000\" font-family=\"sans-serif\" font-size=\"12\" lengthAdjust=\"spacingAndGlyphs\" textLength=\"96\" x=\"1039\" y=\"189.1074\">^m: MassValue</text><line style=\"stroke: #383838; stroke-width: 1.5;\" x1=\"1037\" x2=\"1141\" y1=\"196.9375\" y2=\"196.9375\"/></a><!--MD5=[2156ba9850f5573cc1fc38a6a4b2f02b]\n",
       "class E7--><a href=\"psysml:3c3f6982-fe48-410d-a073-4745105d0bb1\" target=\"_top\" title=\"psysml:3c3f6982-fe48-410d-a073-4745105d0bb1\" xlink:actuate=\"onRequest\" xlink:href=\"psysml:3c3f6982-fe48-410d-a073-4745105d0bb1\" xlink:show=\"new\" xlink:title=\"psysml:3c3f6982-fe48-410d-a073-4745105d0bb1\" xlink:type=\"simple\"><rect fill=\"#FFFFFF\" height=\"45.9375\" id=\"E7\" rx=\"10\" ry=\"10\" style=\"stroke: #383838; stroke-width: 1.5;\" width=\"106\" x=\"1212\" y=\"159\"/><text fill=\"#000000\" font-family=\"sans-serif\" font-size=\"12\" font-style=\"italic\" lengthAdjust=\"spacingAndGlyphs\" textLength=\"69\" x=\"1230.5\" y=\"175.1387\">«attribute»</text><text fill=\"#000000\" font-family=\"sans-serif\" font-size=\"12\" lengthAdjust=\"spacingAndGlyphs\" textLength=\"96\" x=\"1215\" y=\"189.1074\">^m: MassValue</text><line style=\"stroke: #383838; stroke-width: 1.5;\" x1=\"1213\" x2=\"1317\" y1=\"196.9375\" y2=\"196.9375\"/></a><!--MD5=[fd4143e9d270a159db93a4ea2a975926]\n",
       "class E9--><a href=\"psysml:3c3f6982-fe48-410d-a073-4745105d0bb1\" target=\"_top\" title=\"psysml:3c3f6982-fe48-410d-a073-4745105d0bb1\" xlink:actuate=\"onRequest\" xlink:href=\"psysml:3c3f6982-fe48-410d-a073-4745105d0bb1\" xlink:show=\"new\" xlink:title=\"psysml:3c3f6982-fe48-410d-a073-4745105d0bb1\" xlink:type=\"simple\"><rect fill=\"#FFFFFF\" height=\"45.9375\" id=\"E9\" rx=\"10\" ry=\"10\" style=\"stroke: #383838; stroke-width: 1.5;\" width=\"106\" x=\"1425\" y=\"159\"/><text fill=\"#000000\" font-family=\"sans-serif\" font-size=\"12\" font-style=\"italic\" lengthAdjust=\"spacingAndGlyphs\" textLength=\"69\" x=\"1443.5\" y=\"175.1387\">«attribute»</text><text fill=\"#000000\" font-family=\"sans-serif\" font-size=\"12\" lengthAdjust=\"spacingAndGlyphs\" textLength=\"96\" x=\"1428\" y=\"189.1074\">^m: MassValue</text><line style=\"stroke: #383838; stroke-width: 1.5;\" x1=\"1426\" x2=\"1530\" y1=\"196.9375\" y2=\"196.9375\"/></a><text fill=\"#000000\" font-family=\"sans-serif\" font-size=\"14\" lengthAdjust=\"spacingAndGlyphs\" textLength=\"80\" x=\"828\" y=\"160.6982\">partMasses</text><rect fill=\"#383838\" height=\"12\" style=\"stroke: #F8F8F8; stroke-width: 1.5;\" width=\"12\" x=\"862\" y=\"176\"/><text fill=\"#000000\" font-family=\"sans-serif\" font-size=\"14\" lengthAdjust=\"spacingAndGlyphs\" textLength=\"66\" x=\"835\" y=\"549.9951\">totalMass</text><rect fill=\"#383838\" height=\"12\" style=\"stroke: #F8F8F8; stroke-width: 1.5;\" width=\"12\" x=\"862\" y=\"525\"/><g id=\"E1.E15\"><a href=\"psysml:e4253433-368c-4e86-8a3c-6b186419df89\" target=\"_top\" title=\"psysml:e4253433-368c-4e86-8a3c-6b186419df89\" xlink:actuate=\"onRequest\" xlink:href=\"psysml:e4253433-368c-4e86-8a3c-6b186419df89\" xlink:show=\"new\" xlink:title=\"psysml:e4253433-368c-4e86-8a3c-6b186419df89\" xlink:type=\"simple\"><rect fill=\"#FFFFFF\" height=\"40\" id=\"E15\" rx=\"10\" ry=\"10\" style=\"stroke: #383838; stroke-width: 1.5;\" width=\"187\" x=\"31.5\" y=\"162\"/><rect fill=\"#F8F8F8\" height=\"23.9688\" rx=\"10\" ry=\"10\" style=\"stroke: #F8F8F8; stroke-width: 1.5;\" width=\"187\" x=\"31.5\" y=\"162\"/><rect fill=\"#F8F8F8\" height=\"10\" style=\"stroke: #F8F8F8; stroke-width: 1.5;\" width=\"187\" x=\"31.5\" y=\"175.9688\"/><rect fill=\"none\" height=\"40\" id=\"E15\" rx=\"10\" ry=\"10\" style=\"stroke: #383838; stroke-width: 1.5;\" width=\"187\" x=\"31.5\" y=\"162\"/><text fill=\"#000000\" font-family=\"sans-serif\" font-size=\"12\" lengthAdjust=\"spacingAndGlyphs\" textLength=\"172\" x=\"37\" y=\"178.1387\">vehicles= (vehicle, vehicle);</text></a></g><!--MD5=[185131fc0dcab0a4505a2ebe144e961b]\n",
       "link E4 to E2--><a href=\"psysml:2113862d-3e36-4f2a-be29-5fbeffc35ef5\" target=\"_top\" title=\"psysml:2113862d-3e36-4f2a-be29-5fbeffc35ef5\" xlink:actuate=\"onRequest\" xlink:href=\"psysml:2113862d-3e36-4f2a-be29-5fbeffc35ef5\" xlink:show=\"new\" xlink:title=\"psysml:2113862d-3e36-4f2a-be29-5fbeffc35ef5\" xlink:type=\"simple\"><path d=\"M1078.49,348.22 C1094.985,365.765 1119.1075,391.4225 1139.3525,412.9563 C1149.475,423.7231 1158.6281,433.4591 1165.3738,440.6345 C1166.217,441.5315 1167.0225,442.3884 1167.7877,443.2023 C1168.1703,443.6093 1168.5428,444.0055 1168.9048,444.3906 \" fill=\"none\" id=\"E4-&gt;E2\" style=\"stroke: #383838; stroke-width: 1.0;\"/><polygon fill=\"#FFFFFF\" points=\"1168.9048,444.3906,1160.9912,425.7526,1150.7908,435.3417,1168.9048,444.3906\" style=\"stroke: #383838; stroke-width: 1.0;\"/></a><!--MD5=[2351f337d6de0f557b50152ba70847b5]\n",
       "link E6 to E2--><a href=\"psysml:7cfd1003-3fe0-4a32-a3a1-13a5c8efedf2\" target=\"_top\" title=\"psysml:7cfd1003-3fe0-4a32-a3a1-13a5c8efedf2\" xlink:actuate=\"onRequest\" xlink:href=\"psysml:7cfd1003-3fe0-4a32-a3a1-13a5c8efedf2\" xlink:show=\"new\" xlink:title=\"psysml:7cfd1003-3fe0-4a32-a3a1-13a5c8efedf2\" xlink:type=\"simple\"><path d=\"M1177,229.9775 C1177,230.3824 1177,230.7892 1177,231.1978 C1177,232.8323 1177,234.4962 1177,236.1877 C1177,239.5706 1177,243.0635 1177,246.6507 C1177,253.8252 1177,261.3769 1177,269.1802 C1177,284.7866 1177,301.3991 1177,318.0113 C1177,334.6234 1177,351.2354 1177,366.8409 C1177,367.8163 1177,368.7877 1177,369.7549 C1177,370.2385 1177,370.7211 1177,371.2026 C1177,371.4434 1177,371.6838 1177,371.924 \" fill=\"none\" id=\"E6-&gt;E2\" style=\"stroke: #383838; stroke-width: 1.0;\"/><polygon fill=\"#FFFFFF\" points=\"1177,371.924,1170,352.924,1184,352.924,1177,371.924\" style=\"stroke: #383838; stroke-width: 1.0;\"/><ellipse cx=\"1172\" cy=\"347.224\" fill=\"#383838\" rx=\"2\" ry=\"2\" style=\"stroke: #383838; stroke-width: 1.0;\"/><ellipse cx=\"1182\" cy=\"347.224\" fill=\"#383838\" rx=\"2\" ry=\"2\" style=\"stroke: #383838; stroke-width: 1.0;\"/></a><!--MD5=[f1f3f9f2fc535e6147756cb86a7f2e32]\n",
       "link E8 to E2--><a href=\"psysml:b3767e4f-9e3f-4162-9e5b-3e184cb0e1ab\" target=\"_top\" title=\"psysml:b3767e4f-9e3f-4162-9e5b-3e184cb0e1ab\" xlink:actuate=\"onRequest\" xlink:href=\"psysml:b3767e4f-9e3f-4162-9e5b-3e184cb0e1ab\" xlink:show=\"new\" xlink:title=\"psysml:b3767e4f-9e3f-4162-9e5b-3e184cb0e1ab\" xlink:type=\"simple\"><path d=\"M1381.9641,205.9854 C1381.8551,206.2631 1381.7451,206.5424 1381.6339,206.8235 C1379.8552,211.3212 1377.7947,216.2591 1375.4538,221.4588 C1366.09,242.2575 1352.24,267.245 1334,285 C1284.58,333.11 1237.44,300.86 1196,356 C1192.7525,360.3212 1190.0166,365.0477 1187.7154,370.0141 C1187.4278,370.6349 1187.147,371.2595 1186.8728,371.8874 \" fill=\"none\" id=\"E8-&gt;E2\" style=\"stroke: #383838; stroke-width: 1.0;\"/><polygon fill=\"#FFFFFF\" points=\"1186.8728,371.8874,1188.0606,351.6739,1200.8908,357.276,1186.8728,371.8874\" style=\"stroke: #383838; stroke-width: 1.0;\"/><ellipse cx=\"1192.1743\" cy=\"347.2504\" fill=\"#383838\" rx=\"2\" ry=\"2\" style=\"stroke: #383838; stroke-width: 1.0;\"/><ellipse cx=\"1201.3388\" cy=\"351.252\" fill=\"#383838\" rx=\"2\" ry=\"2\" style=\"stroke: #383838; stroke-width: 1.0;\"/></a><!--MD5=[1c62de2aa5b76f0fb657ff8443a1a700]\n",
       "link E5 to E4--><a href=\"psysml:3f6bcc61-006c-4905-be22-168150e04931\" target=\"_top\" title=\"psysml:3f6bcc61-006c-4905-be22-168150e04931\" xlink:actuate=\"onRequest\" xlink:href=\"psysml:3f6bcc61-006c-4905-be22-168150e04931\" xlink:show=\"new\" xlink:title=\"psysml:3f6bcc61-006c-4905-be22-168150e04931\" xlink:type=\"simple\"><path d=\"M1013.2179,269.1075 C1015.1587,274.6072 1017.4038,279.955 1020,285 C1020.63,286.22 1021.31,287.43 1022.03,288.63 \" fill=\"none\" id=\"E5-&gt;E4\" style=\"stroke: #383838; stroke-width: 1.0;\"/><polygon fill=\"#FFFFFF\" points=\"1034.52,304.67,1017.3216,293.9828,1028.3661,285.3793,1034.52,304.67\" style=\"stroke: #383838; stroke-width: 1.0;\"/><ellipse cx=\"1015.3966\" cy=\"288.2571\" fill=\"#383838\" rx=\"2\" ry=\"2\" style=\"stroke: #383838; stroke-width: 1.0;\"/><ellipse cx=\"1023.2855\" cy=\"282.1117\" fill=\"#383838\" rx=\"2\" ry=\"2\" style=\"stroke: #383838; stroke-width: 1.0;\"/></a><!--MD5=[d00f01b66edb9b3ce8f530f77713355e]\n",
       "link E14 to E11--><a href=\"psysml:650eb0f7-ec08-4309-80b6-1e90e34b9690\" target=\"_top\" title=\"psysml:650eb0f7-ec08-4309-80b6-1e90e34b9690\" xlink:actuate=\"onRequest\" xlink:href=\"psysml:650eb0f7-ec08-4309-80b6-1e90e34b9690\" xlink:show=\"new\" xlink:title=\"psysml:650eb0f7-ec08-4309-80b6-1e90e34b9690\" xlink:type=\"simple\"><path d=\"M662.79,220.16 C692.31,240.8 730.74,266.05 767,285 C769.145,286.1213 771.3283,287.2317 773.5406,288.3297 C773.8172,288.4669 774.0942,288.604 774.3716,288.7408 C774.5103,288.8092 774.6492,288.8776 774.7881,288.9459 C774.8576,288.9801 774.9271,289.0142 774.9966,289.0484 \" fill=\"none\" id=\"E14-&gt;E11\" style=\"stroke: #383838; stroke-width: 1.0;\"/><polygon fill=\"#FFFFFF\" points=\"774.9966,289.0484,754.8564,286.9572,761.0272,274.3905,774.9966,289.0484\" style=\"stroke: #383838; stroke-width: 1.0;\"/><ellipse cx=\"750.6215\" cy=\"282.6495\" fill=\"#383838\" rx=\"2\" ry=\"2\" style=\"stroke: #383838; stroke-width: 1.0;\"/><ellipse cx=\"755.0292\" cy=\"273.6733\" fill=\"#383838\" rx=\"2\" ry=\"2\" style=\"stroke: #383838; stroke-width: 1.0;\"/></a><!--MD5=[f48fc3056af011d92ef09e3b64a34997]\n",
       "@startuml\r\n",
       "skinparam ranksep 10\r\n",
       "skinparam rectangle {\r\n",
       " backgroundColor<<block>> LightGreen\r\n",
       "}\r\n",
       "skinparam monochrome true\r\n",
       "skinparam classbackgroundcolor white\r\n",
       "skinparam shadowing false\r\n",
       "skinparam wrapWidth 300\r\n",
       "hide circle\r\n",
       "\r\n",
       "package \"CalculationExample\" as E1  [[psysml:9a950c4d-df47-4bf2-a127-6824d456053c ]]  {\r\n",
       "rec def \"VehiclePart\" as E2  <<(T,blue) part  def>> [[psysml:240f00ab-b9bf-457e-9376-98b0b5e156bb ]] {\r\n",
       "comp usage \"m: MassValue \" as E3  <<(T,blue) attribute>> [[psysml:3c3f6982-fe48-410d-a073-4745105d0bb1 ]] {\r\n",
       "}\r\n",
       "}\r\n",
       "rec def \"Vehicle\" as E4  <<(T,blue) part  def>> [[psysml:240db56f-6d8c-4faf-8b3c-f8974d12918d ]] {\r\n",
       "}\r\n",
       "rec usage \"vehicle: Vehicle\" as E5  [[psysml:ce00e2ad-3315-43f7-b2e6-6ce884a27309 ]] {\r\n",
       "rec usage \"eng: VehiclePart\" as E6  [[psysml:83fc889d-b3c1-4be4-83aa-24728b198254 ]] {\r\n",
       "comp usage \"^m: MassValue \" as E7  <<(T,blue) attribute>> [[psysml:3c3f6982-fe48-410d-a073-4745105d0bb1 ]] {\r\n",
       "}\r\n",
       "}\r\n",
       "rec usage \"trans: VehiclePart\" as E8  [[psysml:9ad03ab5-4ba7-4600-8f6c-f33bd21910a1 ]] {\r\n",
       "comp usage \"^m: MassValue \" as E9  <<(T,blue) attribute>> [[psysml:3c3f6982-fe48-410d-a073-4745105d0bb1 ]] {\r\n",
       "}\r\n",
       "}\r\n",
       "comp usage \"^m: MassValue \" as E10  <<(T,blue) attribute>> [[psysml:3c3f6982-fe48-410d-a073-4745105d0bb1 ]] {\r\n",
       "}\r\n",
       "}\r\n",
       "rec def \"MassSum\" as E11  <<(T,blue) calculation  def>> [[psysml:425e038d-47d6-48b2-bd42-a030f1074fc4 ]] {\r\n",
       "portin \"partMasses\" as E12  [[psysml:b45e328f-a4a8-4519-9228-274640d6e043 ]] \r\n",
       "portout \"totalMass\" as E13  [[psysml:712f9e49-cc72-40cc-a5b0-9958e3b93d47 ]] \r\n",
       "}\r\n",
       "\r\n",
       "comp usage \"ms: MassSum \" as E14  <<(T,blue) calculation>> [[psysml:e012d373-591a-4cf2-b53b-d810c6dd562d ]] {\r\n",
       "- - parameters - -\r\n",
       "<b>in</b> partMasses= (vehicle.eng.m, vehicle.trans.m); \r\n",
       "}\r\n",
       "rec usage \"vehicles= (vehicle, vehicle); \" as E15  [[psysml:e4253433-368c-4e86-8a3c-6b186419df89 ]] {\r\n",
       "}\r\n",
       "comp usage \"masses1 \" as E16  <<(T,blue) attribute>> [[psysml:03468340-4ee1-4dfd-ba23-9337b31e6caf ]] {\r\n",
       "}\r\n",
       "comp usage \"masses2 \" as E17  <<(T,blue) attribute>> [[psysml:a35488ce-7eb0-470e-9ecc-f7a0c28bc139 ]] {\r\n",
       "}\r\n",
       "}\r\n",
       "E4 - -|> E2 [[psysml:2113862d-3e36-4f2a-be29-5fbeffc35ef5 ]] \r\n",
       "E6 - -:|> E2 [[psysml:7cfd1003-3fe0-4a32-a3a1-13a5c8efedf2 ]] \r\n",
       "E8 - -:|> E2 [[psysml:b3767e4f-9e3f-4162-9e5b-3e184cb0e1ab ]] \r\n",
       "E5 - -:|> E4 [[psysml:3f6bcc61-006c-4905-be22-168150e04931 ]] \r\n",
       "E14 - -:|> E11 [[psysml:650eb0f7-ec08-4309-80b6-1e90e34b9690 ]] \r\n",
       "@enduml\r\n",
       "\n",
       "PlantUML version 1.2020.13(Sat Jun 13 12:26:38 UTC 2020)\n",
       "(EPL source distribution)\n",
       "Java Runtime: OpenJDK Runtime Environment\n",
       "JVM: OpenJDK 64-Bit Server VM\n",
       "Default Encoding: UTF-8\n",
       "Language: en\n",
       "Country: null\n",
       "--></g></svg>"
      ]
     },
     "execution_count": 40,
     "metadata": {},
     "output_type": "execute_result"
    }
   ],
   "source": [
    "%viz --style=\"DEFAULT\" --view=\"Interconnection\" \"CalculationExample\""
   ]
  },
  {
   "cell_type": "code",
   "execution_count": 41,
   "id": "94241756",
   "metadata": {
    "execution": {
     "iopub.execute_input": "2022-08-19T08:22:03.807512Z",
     "iopub.status.busy": "2022-08-19T08:22:03.807071Z",
     "iopub.status.idle": "2022-08-19T08:22:03.843418Z",
     "shell.execute_reply": "2022-08-19T08:22:03.842999Z"
    }
   },
   "outputs": [
    {
     "data": {
      "image/svg+xml": [
       "<?xml version=\"1.0\" encoding=\"UTF-8\" standalone=\"no\"?><svg xmlns=\"http://www.w3.org/2000/svg\" xmlns:xlink=\"http://www.w3.org/1999/xlink\" contentScriptType=\"application/ecmascript\" contentStyleType=\"text/css\" height=\"162px\" preserveAspectRatio=\"none\" style=\"width:289px;height:162px;\" version=\"1.1\" viewBox=\"0 0 289 162\" width=\"289px\" zoomAndPan=\"magnify\"><defs/><g><!--MD5=[fbc87193dbaf4d95561dea2c320d4a47]\n",
       "cluster E1--><a href=\"psysml:425e038d-47d6-48b2-bd42-a030f1074fc4\" target=\"_top\" title=\"psysml:425e038d-47d6-48b2-bd42-a030f1074fc4\" xlink:actuate=\"onRequest\" xlink:href=\"psysml:425e038d-47d6-48b2-bd42-a030f1074fc4\" xlink:show=\"new\" xlink:title=\"psysml:425e038d-47d6-48b2-bd42-a030f1074fc4\" xlink:type=\"simple\"><rect fill=\"#FFFFFF\" height=\"87.72\" id=\"E1\" style=\"stroke: #383838; stroke-width: 1.5;\" width=\"131\" x=\"21\" y=\"42.0986\"/><rect fill=\"#F8F8F8\" height=\"37.9375\" style=\"stroke: #383838; stroke-width: 1.5;\" width=\"131\" x=\"21\" y=\"42.0986\"/><text fill=\"#000000\" font-family=\"sans-serif\" font-size=\"12\" font-style=\"italic\" lengthAdjust=\"spacingAndGlyphs\" textLength=\"110\" x=\"31.5\" y=\"58.2373\">«calculation  def»</text><text fill=\"#000000\" font-family=\"sans-serif\" font-size=\"12\" lengthAdjust=\"spacingAndGlyphs\" textLength=\"59\" x=\"57\" y=\"72.2061\">MassSum</text></a><!--MD5=[f6df4d0ebaf0b5dfb2ced0ae5af7c670]\n",
       "cluster E4--><a href=\"psysml:e012d373-591a-4cf2-b53b-d810c6dd562d\" target=\"_top\" title=\"psysml:e012d373-591a-4cf2-b53b-d810c6dd562d\" xlink:actuate=\"onRequest\" xlink:href=\"psysml:e012d373-591a-4cf2-b53b-d810c6dd562d\" xlink:show=\"new\" xlink:title=\"psysml:e012d373-591a-4cf2-b53b-d810c6dd562d\" xlink:type=\"simple\"><rect fill=\"#FFFFFF\" height=\"87.72\" id=\"E4\" rx=\"10\" ry=\"10\" style=\"stroke: #383838; stroke-width: 1.5;\" width=\"138\" x=\"139\" y=\"42.0986\"/><rect fill=\"#F8F8F8\" height=\"37.9375\" rx=\"10\" ry=\"10\" style=\"stroke: #F8F8F8; stroke-width: 1.5;\" width=\"138\" x=\"139\" y=\"42.0986\"/><rect fill=\"#F8F8F8\" height=\"10\" style=\"stroke: #F8F8F8; stroke-width: 1.5;\" width=\"138\" x=\"139\" y=\"70.0361\"/><rect fill=\"none\" height=\"87.72\" id=\"E4\" rx=\"10\" ry=\"10\" style=\"stroke: #383838; stroke-width: 1.5;\" width=\"138\" x=\"139\" y=\"42.0986\"/><text fill=\"#000000\" font-family=\"sans-serif\" font-size=\"12\" font-style=\"italic\" lengthAdjust=\"spacingAndGlyphs\" textLength=\"82\" x=\"167\" y=\"58.2373\">«calculation»</text><text fill=\"#000000\" font-family=\"sans-serif\" font-size=\"12\" lengthAdjust=\"spacingAndGlyphs\" textLength=\"18\" x=\"199\" y=\"72.2061\">ms</text><line style=\"stroke: #383838; stroke-width: 1.0;\" x1=\"139\" x2=\"277\" y1=\"80.0361\" y2=\"80.0361\"/></a><text fill=\"#000000\" font-family=\"sans-serif\" font-size=\"14\" lengthAdjust=\"spacingAndGlyphs\" textLength=\"80\" x=\"6\" y=\"20.7969\">partMasses</text><rect fill=\"#383838\" height=\"12\" style=\"stroke: #F8F8F8; stroke-width: 1.5;\" width=\"12\" x=\"40\" y=\"36.0986\"/><text fill=\"#000000\" font-family=\"sans-serif\" font-size=\"14\" lengthAdjust=\"spacingAndGlyphs\" textLength=\"66\" x=\"9\" y=\"148.8138\">totalMass</text><rect fill=\"#383838\" height=\"12\" style=\"stroke: #F8F8F8; stroke-width: 1.5;\" width=\"12\" x=\"36\" y=\"123.8186\"/><text fill=\"#000000\" font-family=\"sans-serif\" font-size=\"14\" lengthAdjust=\"spacingAndGlyphs\" textLength=\"80\" x=\"168\" y=\"20.7969\">partMasses</text><rect fill=\"#383838\" height=\"12\" style=\"stroke: #F8F8F8; stroke-width: 1.5;\" width=\"12\" x=\"202\" y=\"36.0986\"/><text fill=\"#000000\" font-family=\"sans-serif\" font-size=\"14\" lengthAdjust=\"spacingAndGlyphs\" textLength=\"66\" x=\"175\" y=\"148.8138\">totalMass</text><rect fill=\"#383838\" height=\"12\" style=\"stroke: #F8F8F8; stroke-width: 1.5;\" width=\"12\" x=\"202\" y=\"123.8186\"/><!--MD5=[0ca5999c19daaea3ec78694fb6ffa56f]\n",
       "@startuml\r\n",
       "skinparam ranksep 8\r\n",
       "skinparam monochrome true\r\n",
       "skinparam classbackgroundcolor white\r\n",
       "skinparam shadowing false\r\n",
       "skinparam wrapWidth 300\r\n",
       "hide circle\r\n",
       "\r\n",
       "rec def \"MassSum\" as E1  <<(T,blue) calculation  def>> [[psysml:425e038d-47d6-48b2-bd42-a030f1074fc4 ]] {\r\n",
       "portin \"partMasses\" as E2  [[psysml:b45e328f-a4a8-4519-9228-274640d6e043 ]] \r\n",
       "portout \"totalMass\" as E3  [[psysml:712f9e49-cc72-40cc-a5b0-9958e3b93d47 ]] \r\n",
       "}\r\n",
       "\r\n",
       "rec usage \"ms\" as E4  <<(T,blue) calculation>> [[psysml:e012d373-591a-4cf2-b53b-d810c6dd562d ]] {\r\n",
       "portin \"partMasses\" as E5  [[psysml:424ec83f-37c8-4393-891d-04f2e8383abc ]] \r\n",
       "portout \"totalMass\" as E6  [[psysml:be56ca6e-4eba-4c60-ba38-91b20c3832b5 ]] \r\n",
       "}\r\n",
       "\r\n",
       "@enduml\r\n",
       "\n",
       "PlantUML version 1.2020.13(Sat Jun 13 12:26:38 UTC 2020)\n",
       "(EPL source distribution)\n",
       "Java Runtime: OpenJDK Runtime Environment\n",
       "JVM: OpenJDK 64-Bit Server VM\n",
       "Default Encoding: UTF-8\n",
       "Language: en\n",
       "Country: null\n",
       "--></g></svg>"
      ]
     },
     "execution_count": 41,
     "metadata": {},
     "output_type": "execute_result"
    }
   ],
   "source": [
    "%viz --style=\"DEFAULT\" --view=\"Action\" \"CalculationExample\""
   ]
  },
  {
   "cell_type": "code",
   "execution_count": 42,
   "id": "40dac15f",
   "metadata": {
    "execution": {
     "iopub.execute_input": "2022-08-19T08:22:03.893178Z",
     "iopub.status.busy": "2022-08-19T08:22:03.892736Z",
     "iopub.status.idle": "2022-08-19T08:22:03.907727Z",
     "shell.execute_reply": "2022-08-19T08:22:03.907348Z"
    }
   },
   "outputs": [
    {
     "data": {
      "image/svg+xml": [
       "<?xml version=\"1.0\" encoding=\"UTF-8\" standalone=\"no\"?><svg xmlns=\"http://www.w3.org/2000/svg\" xmlns:xlink=\"http://www.w3.org/1999/xlink\" contentScriptType=\"application/ecmascript\" contentStyleType=\"text/css\" height=\"12px\" preserveAspectRatio=\"none\" style=\"width:12px;height:12px;\" version=\"1.1\" viewBox=\"0 0 12 12\" width=\"12px\" zoomAndPan=\"magnify\"><defs/><g><!--MD5=[0b72472770326784bf6c2b53246e1e64]\n",
       "@startuml\r\n",
       "skinparam roundcorner 20\r\n",
       "skinparam BoxPadding 20\r\n",
       "skinparam SequenceBoxBackgroundColor #white\r\n",
       "skinparam style strictuml\r\n",
       "skinparam maxMessageSize 100\r\n",
       "skinparam monochrome true\r\n",
       "skinparam classbackgroundcolor white\r\n",
       "skinparam shadowing false\r\n",
       "skinparam wrapWidth 300\r\n",
       "hide circle\r\n",
       "\r\n",
       "@enduml\r\n",
       "\n",
       "PlantUML version 1.2020.13(Sat Jun 13 12:26:38 UTC 2020)\n",
       "(EPL source distribution)\n",
       "Java Runtime: OpenJDK Runtime Environment\n",
       "JVM: OpenJDK 64-Bit Server VM\n",
       "Default Encoding: UTF-8\n",
       "Language: en\n",
       "Country: null\n",
       "--></g></svg>"
      ]
     },
     "execution_count": 42,
     "metadata": {},
     "output_type": "execute_result"
    }
   ],
   "source": [
    "%viz --style=\"DEFAULT\" --view=\"Sequence\" \"CalculationExample\""
   ]
  },
  {
   "cell_type": "code",
   "execution_count": 43,
   "id": "d4048f85",
   "metadata": {
    "execution": {
     "iopub.execute_input": "2022-08-19T08:22:03.957777Z",
     "iopub.status.busy": "2022-08-19T08:22:03.957331Z",
     "iopub.status.idle": "2022-08-19T08:22:04.069171Z",
     "shell.execute_reply": "2022-08-19T08:22:04.067604Z"
    }
   },
   "outputs": [
    {
     "data": {
      "image/svg+xml": [
       "<?xml version=\"1.0\" encoding=\"UTF-8\" standalone=\"no\"?><svg xmlns=\"http://www.w3.org/2000/svg\" xmlns:xlink=\"http://www.w3.org/1999/xlink\" contentScriptType=\"application/ecmascript\" contentStyleType=\"text/css\" height=\"505px\" preserveAspectRatio=\"none\" style=\"width:1266px;height:505px;\" version=\"1.1\" viewBox=\"0 0 1266 505\" width=\"1266px\" zoomAndPan=\"magnify\"><defs/><g><!--MD5=[fbc87193dbaf4d95561dea2c320d4a47]\n",
       "cluster E1--><a href=\"psysml:9a950c4d-df47-4bf2-a127-6824d456053c\" target=\"_top\" title=\"psysml:9a950c4d-df47-4bf2-a127-6824d456053c\" xlink:actuate=\"onRequest\" xlink:href=\"psysml:9a950c4d-df47-4bf2-a127-6824d456053c\" xlink:show=\"new\" xlink:title=\"psysml:9a950c4d-df47-4bf2-a127-6824d456053c\" xlink:type=\"simple\"><polygon fill=\"#FFFFFF\" points=\"16,6,155,6,162,28.2969,1244,28.2969,1244,493,16,493,16,6\" style=\"stroke: #000000; stroke-width: 1.5;\"/><line style=\"stroke: #000000; stroke-width: 1.5;\" x1=\"16\" x2=\"162\" y1=\"28.2969\" y2=\"28.2969\"/><text fill=\"#000000\" font-family=\"sans-serif\" font-size=\"14\" font-weight=\"bold\" lengthAdjust=\"spacingAndGlyphs\" textLength=\"133\" x=\"20\" y=\"20.9951\">CalculationExample</text></a><!--MD5=[168fadf3d0c3fd93dd5d6da1b1d7ab76]\n",
       "cluster E7--><a href=\"psysml:425e038d-47d6-48b2-bd42-a030f1074fc4\" target=\"_top\" title=\"psysml:425e038d-47d6-48b2-bd42-a030f1074fc4\" xlink:actuate=\"onRequest\" xlink:href=\"psysml:425e038d-47d6-48b2-bd42-a030f1074fc4\" xlink:show=\"new\" xlink:title=\"psysml:425e038d-47d6-48b2-bd42-a030f1074fc4\" xlink:type=\"simple\"><rect fill=\"#FFFFFF\" height=\"376\" id=\"E7\" style=\"stroke: #383838; stroke-width: 1.5;\" width=\"186\" x=\"650\" y=\"79\"/><rect fill=\"#F8F8F8\" height=\"37.9375\" style=\"stroke: #383838; stroke-width: 1.5;\" width=\"186\" x=\"650\" y=\"79\"/><text fill=\"#000000\" font-family=\"sans-serif\" font-size=\"12\" font-style=\"italic\" lengthAdjust=\"spacingAndGlyphs\" textLength=\"110\" x=\"688\" y=\"95.1387\">«calculation  def»</text><text fill=\"#000000\" font-family=\"sans-serif\" font-size=\"12\" lengthAdjust=\"spacingAndGlyphs\" textLength=\"59\" x=\"713.5\" y=\"109.1074\">MassSum</text></a><!--MD5=[b4997ac47864f28c2f74865a473b2911]\n",
       "class E2--><a href=\"psysml:240f00ab-b9bf-457e-9376-98b0b5e156bb\" target=\"_top\" title=\"psysml:240f00ab-b9bf-457e-9376-98b0b5e156bb\" xlink:actuate=\"onRequest\" xlink:href=\"psysml:240f00ab-b9bf-457e-9376-98b0b5e156bb\" xlink:show=\"new\" xlink:title=\"psysml:240f00ab-b9bf-457e-9376-98b0b5e156bb\" xlink:type=\"simple\"><rect fill=\"#FFFFFF\" height=\"75.5469\" id=\"E2\" style=\"stroke: #383838; stroke-width: 1.5;\" width=\"92\" x=\"968\" y=\"313\"/><text fill=\"#000000\" font-family=\"sans-serif\" font-size=\"12\" font-style=\"italic\" lengthAdjust=\"spacingAndGlyphs\" textLength=\"68\" x=\"980\" y=\"329.1387\">«part  def»</text><text fill=\"#000000\" font-family=\"sans-serif\" font-size=\"12\" lengthAdjust=\"spacingAndGlyphs\" textLength=\"71\" x=\"978.5\" y=\"343.1074\">VehiclePart</text><line style=\"stroke: #383838; stroke-width: 1.5;\" x1=\"969\" x2=\"1059\" y1=\"350.9375\" y2=\"350.9375\"/><text fill=\"#000000\" font-family=\"sans-serif\" font-size=\"11\" lengthAdjust=\"spacingAndGlyphs\" textLength=\"80\" x=\"974\" y=\"381.9526\">m: MassValue</text><line style=\"stroke: #383838; stroke-width: 1.0;\" x1=\"969\" x2=\"986.5\" y1=\"365.3398\" y2=\"365.3398\"/><text fill=\"#000000\" font-family=\"sans-serif\" font-size=\"11\" lengthAdjust=\"spacingAndGlyphs\" textLength=\"55\" x=\"986.5\" y=\"368.6479\">attributes</text><line style=\"stroke: #383838; stroke-width: 1.0;\" x1=\"1041.5\" x2=\"1059\" y1=\"365.3398\" y2=\"365.3398\"/></a><!--MD5=[09b614a08d8cba4a07c9adeb5e0fee81]\n",
       "class E3--><a href=\"psysml:240db56f-6d8c-4faf-8b3c-f8974d12918d\" target=\"_top\" title=\"psysml:240db56f-6d8c-4faf-8b3c-f8974d12918d\" xlink:actuate=\"onRequest\" xlink:href=\"psysml:240db56f-6d8c-4faf-8b3c-f8974d12918d\" xlink:show=\"new\" xlink:title=\"psysml:240db56f-6d8c-4faf-8b3c-f8974d12918d\" xlink:type=\"simple\"><rect fill=\"#FFFFFF\" height=\"45.9375\" id=\"E3\" style=\"stroke: #383838; stroke-width: 1.5;\" width=\"70\" x=\"852\" y=\"192\"/><text fill=\"#000000\" font-family=\"sans-serif\" font-size=\"12\" font-style=\"italic\" lengthAdjust=\"spacingAndGlyphs\" textLength=\"68\" x=\"853\" y=\"208.1387\">«part  def»</text><text fill=\"#000000\" font-family=\"sans-serif\" font-size=\"12\" lengthAdjust=\"spacingAndGlyphs\" textLength=\"45\" x=\"864.5\" y=\"222.1074\">Vehicle</text><line style=\"stroke: #383838; stroke-width: 1.5;\" x1=\"853\" x2=\"921\" y1=\"229.9375\" y2=\"229.9375\"/></a><!--MD5=[ebbe1d658d1005bcc118a6aa81145e00]\n",
       "class E4--><a href=\"psysml:ce00e2ad-3315-43f7-b2e6-6ce884a27309\" target=\"_top\" title=\"psysml:ce00e2ad-3315-43f7-b2e6-6ce884a27309\" xlink:actuate=\"onRequest\" xlink:href=\"psysml:ce00e2ad-3315-43f7-b2e6-6ce884a27309\" xlink:show=\"new\" xlink:title=\"psysml:ce00e2ad-3315-43f7-b2e6-6ce884a27309\" xlink:type=\"simple\"><rect fill=\"#FFFFFF\" height=\"75.5469\" id=\"E4\" rx=\"10\" ry=\"10\" style=\"stroke: #383838; stroke-width: 1.5;\" width=\"106\" x=\"961\" y=\"41\"/><text fill=\"#000000\" font-family=\"sans-serif\" font-size=\"12\" font-style=\"italic\" lengthAdjust=\"spacingAndGlyphs\" textLength=\"40\" x=\"994\" y=\"57.1387\">«part»</text><text fill=\"#000000\" font-family=\"sans-serif\" font-size=\"12\" lengthAdjust=\"spacingAndGlyphs\" textLength=\"96\" x=\"964\" y=\"71.1074\">vehicle: Vehicle</text><line style=\"stroke: #383838; stroke-width: 1.5;\" x1=\"962\" x2=\"1066\" y1=\"78.9375\" y2=\"78.9375\"/><text fill=\"#000000\" font-family=\"sans-serif\" font-size=\"11\" lengthAdjust=\"spacingAndGlyphs\" textLength=\"89\" x=\"967\" y=\"109.9526\">^m: MassValue</text><line style=\"stroke: #383838; stroke-width: 1.0;\" x1=\"962\" x2=\"986.5\" y1=\"93.3398\" y2=\"93.3398\"/><text fill=\"#000000\" font-family=\"sans-serif\" font-size=\"11\" lengthAdjust=\"spacingAndGlyphs\" textLength=\"55\" x=\"986.5\" y=\"96.6479\">attributes</text><line style=\"stroke: #383838; stroke-width: 1.0;\" x1=\"1041.5\" x2=\"1066\" y1=\"93.3398\" y2=\"93.3398\"/></a><!--MD5=[270fce915f116d4de14055a7c1d9a0f3]\n",
       "class E5--><a href=\"psysml:83fc889d-b3c1-4be4-83aa-24728b198254\" target=\"_top\" title=\"psysml:83fc889d-b3c1-4be4-83aa-24728b198254\" xlink:actuate=\"onRequest\" xlink:href=\"psysml:83fc889d-b3c1-4be4-83aa-24728b198254\" xlink:show=\"new\" xlink:title=\"psysml:83fc889d-b3c1-4be4-83aa-24728b198254\" xlink:type=\"simple\"><rect fill=\"#FFFFFF\" height=\"75.5469\" id=\"E5\" rx=\"10\" ry=\"10\" style=\"stroke: #383838; stroke-width: 1.5;\" width=\"113\" x=\"957.5\" y=\"177\"/><text fill=\"#000000\" font-family=\"sans-serif\" font-size=\"12\" font-style=\"italic\" lengthAdjust=\"spacingAndGlyphs\" textLength=\"40\" x=\"994\" y=\"193.1387\">«part»</text><text fill=\"#000000\" font-family=\"sans-serif\" font-size=\"12\" lengthAdjust=\"spacingAndGlyphs\" textLength=\"103\" x=\"960.5\" y=\"207.1074\">eng: VehiclePart</text><line style=\"stroke: #383838; stroke-width: 1.5;\" x1=\"958.5\" x2=\"1069.5\" y1=\"214.9375\" y2=\"214.9375\"/><text fill=\"#000000\" font-family=\"sans-serif\" font-size=\"11\" lengthAdjust=\"spacingAndGlyphs\" textLength=\"89\" x=\"963.5\" y=\"245.9526\">^m: MassValue</text><line style=\"stroke: #383838; stroke-width: 1.0;\" x1=\"958.5\" x2=\"986.5\" y1=\"229.3398\" y2=\"229.3398\"/><text fill=\"#000000\" font-family=\"sans-serif\" font-size=\"11\" lengthAdjust=\"spacingAndGlyphs\" textLength=\"55\" x=\"986.5\" y=\"232.6479\">attributes</text><line style=\"stroke: #383838; stroke-width: 1.0;\" x1=\"1041.5\" x2=\"1069.5\" y1=\"229.3398\" y2=\"229.3398\"/></a><!--MD5=[60a26617385b1d2d0262a64233df1f8d]\n",
       "class E6--><a href=\"psysml:9ad03ab5-4ba7-4600-8f6c-f33bd21910a1\" target=\"_top\" title=\"psysml:9ad03ab5-4ba7-4600-8f6c-f33bd21910a1\" xlink:actuate=\"onRequest\" xlink:href=\"psysml:9ad03ab5-4ba7-4600-8f6c-f33bd21910a1\" xlink:show=\"new\" xlink:title=\"psysml:9ad03ab5-4ba7-4600-8f6c-f33bd21910a1\" xlink:type=\"simple\"><rect fill=\"#FFFFFF\" height=\"75.5469\" id=\"E6\" rx=\"10\" ry=\"10\" style=\"stroke: #383838; stroke-width: 1.5;\" width=\"122\" x=\"1106\" y=\"177\"/><text fill=\"#000000\" font-family=\"sans-serif\" font-size=\"12\" font-style=\"italic\" lengthAdjust=\"spacingAndGlyphs\" textLength=\"40\" x=\"1147\" y=\"193.1387\">«part»</text><text fill=\"#000000\" font-family=\"sans-serif\" font-size=\"12\" lengthAdjust=\"spacingAndGlyphs\" textLength=\"112\" x=\"1109\" y=\"207.1074\">trans: VehiclePart</text><line style=\"stroke: #383838; stroke-width: 1.5;\" x1=\"1107\" x2=\"1227\" y1=\"214.9375\" y2=\"214.9375\"/><text fill=\"#000000\" font-family=\"sans-serif\" font-size=\"11\" lengthAdjust=\"spacingAndGlyphs\" textLength=\"89\" x=\"1112\" y=\"245.9526\">^m: MassValue</text><line style=\"stroke: #383838; stroke-width: 1.0;\" x1=\"1107\" x2=\"1139.5\" y1=\"229.3398\" y2=\"229.3398\"/><text fill=\"#000000\" font-family=\"sans-serif\" font-size=\"11\" lengthAdjust=\"spacingAndGlyphs\" textLength=\"55\" x=\"1139.5\" y=\"232.6479\">attributes</text><line style=\"stroke: #383838; stroke-width: 1.0;\" x1=\"1194.5\" x2=\"1227\" y1=\"229.3398\" y2=\"229.3398\"/></a><!--MD5=[96f4274e9e20536e775497830990834d]\n",
       "class E10--><a href=\"psysml:e012d373-591a-4cf2-b53b-d810c6dd562d\" target=\"_top\" title=\"psysml:e012d373-591a-4cf2-b53b-d810c6dd562d\" xlink:actuate=\"onRequest\" xlink:href=\"psysml:e012d373-591a-4cf2-b53b-d810c6dd562d\" xlink:show=\"new\" xlink:title=\"psysml:e012d373-591a-4cf2-b53b-d810c6dd562d\" xlink:type=\"simple\"><rect fill=\"#FFFFFF\" height=\"75.5469\" id=\"E10\" rx=\"10\" ry=\"10\" style=\"stroke: #383838; stroke-width: 1.5;\" width=\"293\" x=\"340.5\" y=\"41\"/><text fill=\"#000000\" font-family=\"sans-serif\" font-size=\"12\" font-style=\"italic\" lengthAdjust=\"spacingAndGlyphs\" textLength=\"82\" x=\"446\" y=\"57.1387\">«calculation»</text><text fill=\"#000000\" font-family=\"sans-serif\" font-size=\"12\" lengthAdjust=\"spacingAndGlyphs\" textLength=\"85\" x=\"442.5\" y=\"71.1074\">ms: MassSum</text><line style=\"stroke: #383838; stroke-width: 1.5;\" x1=\"341.5\" x2=\"632.5\" y1=\"78.9375\" y2=\"78.9375\"/><text fill=\"#000000\" font-family=\"sans-serif\" font-size=\"11\" font-weight=\"bold\" lengthAdjust=\"spacingAndGlyphs\" textLength=\"10\" x=\"346.5\" y=\"109.9526\">in</text><text fill=\"#000000\" font-family=\"sans-serif\" font-size=\"11\" lengthAdjust=\"spacingAndGlyphs\" textLength=\"267\" x=\"360.5\" y=\"109.9526\">partMasses= (vehicle.eng.m, vehicle.trans.m);</text><line style=\"stroke: #383838; stroke-width: 1.0;\" x1=\"341.5\" x2=\"453.5\" y1=\"93.3398\" y2=\"93.3398\"/><text fill=\"#000000\" font-family=\"sans-serif\" font-size=\"11\" lengthAdjust=\"spacingAndGlyphs\" textLength=\"67\" x=\"453.5\" y=\"96.6479\">parameters</text><line style=\"stroke: #383838; stroke-width: 1.0;\" x1=\"520.5\" x2=\"632.5\" y1=\"93.3398\" y2=\"93.3398\"/></a><!--MD5=[1dd1bfd58a279cf63c5f349dbc8fc6a1]\n",
       "class E11--><a href=\"psysml:e4253433-368c-4e86-8a3c-6b186419df89\" target=\"_top\" title=\"psysml:e4253433-368c-4e86-8a3c-6b186419df89\" xlink:actuate=\"onRequest\" xlink:href=\"psysml:e4253433-368c-4e86-8a3c-6b186419df89\" xlink:show=\"new\" xlink:title=\"psysml:e4253433-368c-4e86-8a3c-6b186419df89\" xlink:type=\"simple\"><rect fill=\"#FFFFFF\" height=\"45.9375\" id=\"E11\" rx=\"10\" ry=\"10\" style=\"stroke: #383838; stroke-width: 1.5;\" width=\"60\" x=\"245\" y=\"56\"/><text fill=\"#000000\" font-family=\"sans-serif\" font-size=\"12\" font-style=\"italic\" lengthAdjust=\"spacingAndGlyphs\" textLength=\"40\" x=\"255\" y=\"72.1387\">«part»</text><text fill=\"#000000\" font-family=\"sans-serif\" font-size=\"12\" lengthAdjust=\"spacingAndGlyphs\" textLength=\"50\" x=\"248\" y=\"86.1074\">vehicles</text><line style=\"stroke: #383838; stroke-width: 1.5;\" x1=\"246\" x2=\"304\" y1=\"93.9375\" y2=\"93.9375\"/></a><!--MD5=[49a0ec8f00dab7302a31f22d0f0fe584]\n",
       "class E12--><a href=\"psysml:03468340-4ee1-4dfd-ba23-9337b31e6caf\" target=\"_top\" title=\"psysml:03468340-4ee1-4dfd-ba23-9337b31e6caf\" xlink:actuate=\"onRequest\" xlink:href=\"psysml:03468340-4ee1-4dfd-ba23-9337b31e6caf\" xlink:show=\"new\" xlink:title=\"psysml:03468340-4ee1-4dfd-ba23-9337b31e6caf\" xlink:type=\"simple\"><rect fill=\"#FFFFFF\" height=\"45.9375\" id=\"E12\" rx=\"10\" ry=\"10\" style=\"stroke: #383838; stroke-width: 1.5;\" width=\"71\" x=\"138.5\" y=\"56\"/><text fill=\"#000000\" font-family=\"sans-serif\" font-size=\"12\" font-style=\"italic\" lengthAdjust=\"spacingAndGlyphs\" textLength=\"69\" x=\"139.5\" y=\"72.1387\">«attribute»</text><text fill=\"#000000\" font-family=\"sans-serif\" font-size=\"12\" lengthAdjust=\"spacingAndGlyphs\" textLength=\"56\" x=\"144\" y=\"86.1074\">masses1</text><line style=\"stroke: #383838; stroke-width: 1.5;\" x1=\"139.5\" x2=\"208.5\" y1=\"93.9375\" y2=\"93.9375\"/></a><!--MD5=[ee3c913d1a06f366521f9ef512b67efe]\n",
       "class E13--><a href=\"psysml:a35488ce-7eb0-470e-9ecc-f7a0c28bc139\" target=\"_top\" title=\"psysml:a35488ce-7eb0-470e-9ecc-f7a0c28bc139\" xlink:actuate=\"onRequest\" xlink:href=\"psysml:a35488ce-7eb0-470e-9ecc-f7a0c28bc139\" xlink:show=\"new\" xlink:title=\"psysml:a35488ce-7eb0-470e-9ecc-f7a0c28bc139\" xlink:type=\"simple\"><rect fill=\"#FFFFFF\" height=\"45.9375\" id=\"E13\" rx=\"10\" ry=\"10\" style=\"stroke: #383838; stroke-width: 1.5;\" width=\"71\" x=\"32.5\" y=\"56\"/><text fill=\"#000000\" font-family=\"sans-serif\" font-size=\"12\" font-style=\"italic\" lengthAdjust=\"spacingAndGlyphs\" textLength=\"69\" x=\"33.5\" y=\"72.1387\">«attribute»</text><text fill=\"#000000\" font-family=\"sans-serif\" font-size=\"12\" lengthAdjust=\"spacingAndGlyphs\" textLength=\"56\" x=\"38\" y=\"86.1074\">masses2</text><line style=\"stroke: #383838; stroke-width: 1.5;\" x1=\"33.5\" x2=\"102.5\" y1=\"93.9375\" y2=\"93.9375\"/></a><text fill=\"#000000\" font-family=\"sans-serif\" font-size=\"14\" lengthAdjust=\"spacingAndGlyphs\" textLength=\"80\" x=\"703\" y=\"57.6982\">partMasses</text><rect fill=\"#383838\" height=\"12\" style=\"stroke: #F8F8F8; stroke-width: 1.5;\" width=\"12\" x=\"737\" y=\"73\"/><text fill=\"#000000\" font-family=\"sans-serif\" font-size=\"14\" lengthAdjust=\"spacingAndGlyphs\" textLength=\"66\" x=\"710\" y=\"473.9951\">totalMass</text><rect fill=\"#383838\" height=\"12\" style=\"stroke: #F8F8F8; stroke-width: 1.5;\" width=\"12\" x=\"737\" y=\"449\"/><!--MD5=[05d275557350bfb9b23a4ef7222b4c39]\n",
       "link E3 to E2--><a href=\"psysml:2113862d-3e36-4f2a-be29-5fbeffc35ef5\" target=\"_top\" title=\"psysml:2113862d-3e36-4f2a-be29-5fbeffc35ef5\" xlink:actuate=\"onRequest\" xlink:href=\"psysml:2113862d-3e36-4f2a-be29-5fbeffc35ef5\" xlink:show=\"new\" xlink:title=\"psysml:2113862d-3e36-4f2a-be29-5fbeffc35ef5\" xlink:type=\"simple\"><path d=\"M907.97,238.13 C923.45,254.46 945.16,277.37 964.91,298.21 \" fill=\"none\" id=\"E3-&gt;E2\" style=\"stroke: #383838; stroke-width: 1.0;\"/><polygon fill=\"none\" points=\"970.15,293.56,978.83,312.89,959.99,303.19,970.15,293.56\" style=\"stroke: #383838; stroke-width: 1.0;\"/></a><!--MD5=[f0cdf4548168e5211fb3a02bf679d63a]\n",
       "link E4 to E3--><a href=\"psysml:3f6bcc61-006c-4905-be22-168150e04931\" target=\"_top\" title=\"psysml:3f6bcc61-006c-4905-be22-168150e04931\" xlink:actuate=\"onRequest\" xlink:href=\"psysml:3f6bcc61-006c-4905-be22-168150e04931\" xlink:show=\"new\" xlink:title=\"psysml:3f6bcc61-006c-4905-be22-168150e04931\" xlink:type=\"simple\"><path d=\"M978.62,117.33 C960.85,136.08 939.39,158.72 921.71,177.38 \" fill=\"none\" id=\"E4-&gt;E3\" style=\"stroke: #383838; stroke-width: 1.0;\"/><polygon fill=\"#FFFFFF\" points=\"907.91,191.94,915.8909,173.3307,926.0566,182.9567,907.91,191.94\" style=\"stroke: #383838; stroke-width: 1.0;\"/><ellipse cx=\"921.2623\" cy=\"170.567\" fill=\"#383838\" rx=\"2\" ry=\"2\" style=\"stroke: #383838; stroke-width: 1.0;\"/><ellipse cx=\"928.5235\" cy=\"177.4426\" fill=\"#383838\" rx=\"2\" ry=\"2\" style=\"stroke: #383838; stroke-width: 1.0;\"/></a><!--MD5=[62aa6af11e70f752912c1cb0466f24f7]\n",
       "reverse link E4 to E5--><a href=\"psysml:dfe553ed-92b1-45a3-82b1-c875cfb3cf56\" target=\"_top\" title=\"psysml:dfe553ed-92b1-45a3-82b1-c875cfb3cf56\" xlink:actuate=\"onRequest\" xlink:href=\"psysml:dfe553ed-92b1-45a3-82b1-c875cfb3cf56\" xlink:show=\"new\" xlink:title=\"psysml:dfe553ed-92b1-45a3-82b1-c875cfb3cf56\" xlink:type=\"simple\"><path d=\"M1014,130.46 C1014,145.87 1014,162.52 1014,176.87 \" fill=\"none\" id=\"E4&lt;-E5\" style=\"stroke: #383838; stroke-width: 1.0;\"/><polygon fill=\"#FFFFFF\" points=\"1014,117.33,1010,123.33,1014,129.33,1018,123.33,1014,117.33\" style=\"stroke: #383838; stroke-width: 1.0;\"/><text fill=\"#000000\" font-family=\"sans-serif\" font-size=\"13\" lengthAdjust=\"spacingAndGlyphs\" textLength=\"8\" x=\"1005.2875\" y=\"165.8612\">1</text></a><!--MD5=[15ebcb19ae302d9b601edb458606d402]\n",
       "link E5 to E2--><a href=\"psysml:7cfd1003-3fe0-4a32-a3a1-13a5c8efedf2\" target=\"_top\" title=\"psysml:7cfd1003-3fe0-4a32-a3a1-13a5c8efedf2\" xlink:actuate=\"onRequest\" xlink:href=\"psysml:7cfd1003-3fe0-4a32-a3a1-13a5c8efedf2\" xlink:show=\"new\" xlink:title=\"psysml:7cfd1003-3fe0-4a32-a3a1-13a5c8efedf2\" xlink:type=\"simple\"><path d=\"M1014,253.33 C1014,265.52 1014,279.36 1014,292.68 \" fill=\"none\" id=\"E5-&gt;E2\" style=\"stroke: #383838; stroke-width: 1.0;\"/><polygon fill=\"#FFFFFF\" points=\"1014,312.87,1007,293.87,1021,293.87,1014,312.87\" style=\"stroke: #383838; stroke-width: 1.0;\"/><ellipse cx=\"1009\" cy=\"288.17\" fill=\"#383838\" rx=\"2\" ry=\"2\" style=\"stroke: #383838; stroke-width: 1.0;\"/><ellipse cx=\"1019\" cy=\"288.17\" fill=\"#383838\" rx=\"2\" ry=\"2\" style=\"stroke: #383838; stroke-width: 1.0;\"/></a><!--MD5=[6db378b65e1aef66a01cb3103812b399]\n",
       "reverse link E4 to E6--><a href=\"psysml:56232501-f921-4851-b5f9-a91b366c1c7b\" target=\"_top\" title=\"psysml:56232501-f921-4851-b5f9-a91b366c1c7b\" xlink:actuate=\"onRequest\" xlink:href=\"psysml:56232501-f921-4851-b5f9-a91b366c1c7b\" xlink:show=\"new\" xlink:title=\"psysml:56232501-f921-4851-b5f9-a91b366c1c7b\" xlink:type=\"simple\"><path d=\"M1066.59,126.06 C1085.53,142.65 1106.65,161.14 1124.61,176.87 \" fill=\"none\" id=\"E4&lt;-E6\" style=\"stroke: #383838; stroke-width: 1.0;\"/><polygon fill=\"#FFFFFF\" points=\"1056.62,117.33,1058.4928,124.2937,1065.6411,125.2433,1063.7683,118.2796,1056.62,117.33\" style=\"stroke: #383838; stroke-width: 1.0;\"/><text fill=\"#000000\" font-family=\"sans-serif\" font-size=\"13\" lengthAdjust=\"spacingAndGlyphs\" textLength=\"8\" x=\"1108.3468\" y=\"165.8612\">1</text></a><!--MD5=[2351f337d6de0f557b50152ba70847b5]\n",
       "link E6 to E2--><a href=\"psysml:b3767e4f-9e3f-4162-9e5b-3e184cb0e1ab\" target=\"_top\" title=\"psysml:b3767e4f-9e3f-4162-9e5b-3e184cb0e1ab\" xlink:actuate=\"onRequest\" xlink:href=\"psysml:b3767e4f-9e3f-4162-9e5b-3e184cb0e1ab\" xlink:show=\"new\" xlink:title=\"psysml:b3767e4f-9e3f-4162-9e5b-3e184cb0e1ab\" xlink:type=\"simple\"><path d=\"M1124.38,253.33 C1108.05,267.63 1089.14,284.19 1071.63,299.52 \" fill=\"none\" id=\"E6-&gt;E2\" style=\"stroke: #383838; stroke-width: 1.0;\"/><polygon fill=\"#FFFFFF\" points=\"1056.39,312.87,1066.0639,295.0819,1075.2922,305.6099,1056.39,312.87\" style=\"stroke: #383838; stroke-width: 1.0;\"/><ellipse cx=\"1071.6686\" cy=\"292.8287\" fill=\"#383838\" rx=\"2\" ry=\"2\" style=\"stroke: #383838; stroke-width: 1.0;\"/><ellipse cx=\"1078.2602\" cy=\"300.3487\" fill=\"#383838\" rx=\"2\" ry=\"2\" style=\"stroke: #383838; stroke-width: 1.0;\"/></a><!--MD5=[a919e0967d6f3de553dc51b9865a1d6d]\n",
       "link E10 to E7--><a href=\"psysml:650eb0f7-ec08-4309-80b6-1e90e34b9690\" target=\"_top\" title=\"psysml:650eb0f7-ec08-4309-80b6-1e90e34b9690\" xlink:actuate=\"onRequest\" xlink:href=\"psysml:650eb0f7-ec08-4309-80b6-1e90e34b9690\" xlink:show=\"new\" xlink:title=\"psysml:650eb0f7-ec08-4309-80b6-1e90e34b9690\" xlink:type=\"simple\"><path d=\"M557.97,117.15 C583.125,130.315 611.975,145.415 639.2925,159.7138 C642.7072,161.5011 646.0979,163.2759 649.4545,165.0329 \" fill=\"none\" id=\"E10-&gt;E7\" style=\"stroke: #383838; stroke-width: 1.0;\"/><polygon fill=\"#FFFFFF\" points=\"649.4545,165.0329,629.3749,162.4234,635.8674,150.0199,649.4545,165.0329\" style=\"stroke: #383838; stroke-width: 1.0;\"/><ellipse cx=\"625.2524\" cy=\"158.0081\" fill=\"#383838\" rx=\"2\" ry=\"2\" style=\"stroke: #383838; stroke-width: 1.0;\"/><ellipse cx=\"629.8899\" cy=\"149.1485\" fill=\"#383838\" rx=\"2\" ry=\"2\" style=\"stroke: #383838; stroke-width: 1.0;\"/></a><!--MD5=[1d2b76b6a212af44abc1df22ccbc4bf3]\n",
       "@startuml\r\n",
       "skinparam monochrome true\r\n",
       "skinparam classbackgroundcolor white\r\n",
       "skinparam shadowing false\r\n",
       "skinparam wrapWidth 300\r\n",
       "hide circle\r\n",
       "\r\n",
       "package \"CalculationExample\" as E1  [[psysml:9a950c4d-df47-4bf2-a127-6824d456053c ]]  {\r\n",
       "comp def \"VehiclePart\" as E2  <<(T,blue) part  def>> [[psysml:240f00ab-b9bf-457e-9376-98b0b5e156bb ]] {\r\n",
       "- - attributes - -\r\n",
       "m: MassValue\r\n",
       "}\r\n",
       "comp def \"Vehicle\" as E3  <<(T,blue) part  def>> [[psysml:240db56f-6d8c-4faf-8b3c-f8974d12918d ]] {\r\n",
       "}\r\n",
       "comp usage \"vehicle: Vehicle \" as E4  <<(T,blue) part>> [[psysml:ce00e2ad-3315-43f7-b2e6-6ce884a27309 ]] {\r\n",
       "- - attributes - -\r\n",
       "^m: MassValue\r\n",
       "}\r\n",
       "comp usage \"eng: VehiclePart \" as E5  <<(T,blue) part>> [[psysml:83fc889d-b3c1-4be4-83aa-24728b198254 ]] {\r\n",
       "- - attributes - -\r\n",
       "^m: MassValue\r\n",
       "}\r\n",
       "comp usage \"trans: VehiclePart \" as E6  <<(T,blue) part>> [[psysml:9ad03ab5-4ba7-4600-8f6c-f33bd21910a1 ]] {\r\n",
       "- - attributes - -\r\n",
       "^m: MassValue\r\n",
       "}\r\n",
       "rec def \"MassSum\" as E7  <<(T,blue) calculation  def>> [[psysml:425e038d-47d6-48b2-bd42-a030f1074fc4 ]] {\r\n",
       "portin \"partMasses\" as E8  [[psysml:b45e328f-a4a8-4519-9228-274640d6e043 ]] \r\n",
       "portout \"totalMass\" as E9  [[psysml:712f9e49-cc72-40cc-a5b0-9958e3b93d47 ]] \r\n",
       "}\r\n",
       "\r\n",
       "comp usage \"ms: MassSum \" as E10  <<(T,blue) calculation>> [[psysml:e012d373-591a-4cf2-b53b-d810c6dd562d ]] {\r\n",
       "- - parameters - -\r\n",
       "<b>in</b> partMasses= (vehicle.eng.m, vehicle.trans.m); \r\n",
       "}\r\n",
       "comp usage \"vehicles \" as E11  <<(T,blue) part>> [[psysml:e4253433-368c-4e86-8a3c-6b186419df89 ]] {\r\n",
       "}\r\n",
       "comp usage \"masses1 \" as E12  <<(T,blue) attribute>> [[psysml:03468340-4ee1-4dfd-ba23-9337b31e6caf ]] {\r\n",
       "}\r\n",
       "comp usage \"masses2 \" as E13  <<(T,blue) attribute>> [[psysml:a35488ce-7eb0-470e-9ecc-f7a0c28bc139 ]] {\r\n",
       "}\r\n",
       "}\r\n",
       "E3 - -|> E2 [[psysml:2113862d-3e36-4f2a-be29-5fbeffc35ef5 ]] \r\n",
       "E4 - -:|> E3 [[psysml:3f6bcc61-006c-4905-be22-168150e04931 ]] \r\n",
       "E4 o- - \"1\"E5 [[psysml:dfe553ed-92b1-45a3-82b1-c875cfb3cf56 ]] \r\n",
       "E5 - -:|> E2 [[psysml:7cfd1003-3fe0-4a32-a3a1-13a5c8efedf2 ]] \r\n",
       "E4 o- - \"1\"E6 [[psysml:56232501-f921-4851-b5f9-a91b366c1c7b ]] \r\n",
       "E6 - -:|> E2 [[psysml:b3767e4f-9e3f-4162-9e5b-3e184cb0e1ab ]] \r\n",
       "E10 - -:|> E7 [[psysml:650eb0f7-ec08-4309-80b6-1e90e34b9690 ]] \r\n",
       "@enduml\r\n",
       "\n",
       "PlantUML version 1.2020.13(Sat Jun 13 12:26:38 UTC 2020)\n",
       "(EPL source distribution)\n",
       "Java Runtime: OpenJDK Runtime Environment\n",
       "JVM: OpenJDK 64-Bit Server VM\n",
       "Default Encoding: UTF-8\n",
       "Language: en\n",
       "Country: null\n",
       "--></g></svg>"
      ]
     },
     "execution_count": 43,
     "metadata": {},
     "output_type": "execute_result"
    }
   ],
   "source": [
    "%viz --style=\"DEFAULT\" --view=\"MIXED\" \"CalculationExample\""
   ]
  },
  {
   "cell_type": "code",
   "execution_count": 44,
   "id": "f859b53e",
   "metadata": {
    "execution": {
     "iopub.execute_input": "2022-08-19T08:22:04.118299Z",
     "iopub.status.busy": "2022-08-19T08:22:04.117849Z",
     "iopub.status.idle": "2022-08-19T08:22:04.208884Z",
     "shell.execute_reply": "2022-08-19T08:22:04.207294Z"
    }
   },
   "outputs": [
    {
     "data": {
      "image/svg+xml": [
       "<?xml version=\"1.0\" encoding=\"UTF-8\" standalone=\"no\"?><svg xmlns=\"http://www.w3.org/2000/svg\" xmlns:xlink=\"http://www.w3.org/1999/xlink\" contentScriptType=\"application/ecmascript\" contentStyleType=\"text/css\" height=\"505px\" preserveAspectRatio=\"none\" style=\"width:1266px;height:505px;\" version=\"1.1\" viewBox=\"0 0 1266 505\" width=\"1266px\" zoomAndPan=\"magnify\"><defs/><g><!--MD5=[fbc87193dbaf4d95561dea2c320d4a47]\n",
       "cluster E1--><a href=\"psysml:9a950c4d-df47-4bf2-a127-6824d456053c\" target=\"_top\" title=\"psysml:9a950c4d-df47-4bf2-a127-6824d456053c\" xlink:actuate=\"onRequest\" xlink:href=\"psysml:9a950c4d-df47-4bf2-a127-6824d456053c\" xlink:show=\"new\" xlink:title=\"psysml:9a950c4d-df47-4bf2-a127-6824d456053c\" xlink:type=\"simple\"><polygon fill=\"#FFFFFF\" points=\"16,6,155,6,162,28.2969,1244,28.2969,1244,493,16,493,16,6\" style=\"stroke: #000000; stroke-width: 1.5;\"/><line style=\"stroke: #000000; stroke-width: 1.5;\" x1=\"16\" x2=\"162\" y1=\"28.2969\" y2=\"28.2969\"/><text fill=\"#000000\" font-family=\"sans-serif\" font-size=\"14\" font-weight=\"bold\" lengthAdjust=\"spacingAndGlyphs\" textLength=\"133\" x=\"20\" y=\"20.9951\">CalculationExample</text></a><!--MD5=[168fadf3d0c3fd93dd5d6da1b1d7ab76]\n",
       "cluster E7--><a href=\"psysml:425e038d-47d6-48b2-bd42-a030f1074fc4\" target=\"_top\" title=\"psysml:425e038d-47d6-48b2-bd42-a030f1074fc4\" xlink:actuate=\"onRequest\" xlink:href=\"psysml:425e038d-47d6-48b2-bd42-a030f1074fc4\" xlink:show=\"new\" xlink:title=\"psysml:425e038d-47d6-48b2-bd42-a030f1074fc4\" xlink:type=\"simple\"><rect fill=\"#FFFFFF\" height=\"376\" id=\"E7\" style=\"stroke: #383838; stroke-width: 1.5;\" width=\"186\" x=\"650\" y=\"79\"/><rect fill=\"#F8F8F8\" height=\"37.9375\" style=\"stroke: #383838; stroke-width: 1.5;\" width=\"186\" x=\"650\" y=\"79\"/><text fill=\"#000000\" font-family=\"sans-serif\" font-size=\"12\" font-style=\"italic\" lengthAdjust=\"spacingAndGlyphs\" textLength=\"110\" x=\"688\" y=\"95.1387\">«calculation  def»</text><text fill=\"#000000\" font-family=\"sans-serif\" font-size=\"12\" lengthAdjust=\"spacingAndGlyphs\" textLength=\"59\" x=\"713.5\" y=\"109.1074\">MassSum</text></a><!--MD5=[b4997ac47864f28c2f74865a473b2911]\n",
       "class E2--><a href=\"psysml:240f00ab-b9bf-457e-9376-98b0b5e156bb\" target=\"_top\" title=\"psysml:240f00ab-b9bf-457e-9376-98b0b5e156bb\" xlink:actuate=\"onRequest\" xlink:href=\"psysml:240f00ab-b9bf-457e-9376-98b0b5e156bb\" xlink:show=\"new\" xlink:title=\"psysml:240f00ab-b9bf-457e-9376-98b0b5e156bb\" xlink:type=\"simple\"><rect fill=\"#FFFFFF\" height=\"75.5469\" id=\"E2\" style=\"stroke: #383838; stroke-width: 1.5;\" width=\"92\" x=\"968\" y=\"313\"/><text fill=\"#000000\" font-family=\"sans-serif\" font-size=\"12\" font-style=\"italic\" lengthAdjust=\"spacingAndGlyphs\" textLength=\"68\" x=\"980\" y=\"329.1387\">«part  def»</text><text fill=\"#000000\" font-family=\"sans-serif\" font-size=\"12\" lengthAdjust=\"spacingAndGlyphs\" textLength=\"71\" x=\"978.5\" y=\"343.1074\">VehiclePart</text><line style=\"stroke: #383838; stroke-width: 1.5;\" x1=\"969\" x2=\"1059\" y1=\"350.9375\" y2=\"350.9375\"/><text fill=\"#000000\" font-family=\"sans-serif\" font-size=\"11\" lengthAdjust=\"spacingAndGlyphs\" textLength=\"80\" x=\"974\" y=\"381.9526\">m: MassValue</text><line style=\"stroke: #383838; stroke-width: 1.0;\" x1=\"969\" x2=\"986.5\" y1=\"365.3398\" y2=\"365.3398\"/><text fill=\"#000000\" font-family=\"sans-serif\" font-size=\"11\" lengthAdjust=\"spacingAndGlyphs\" textLength=\"55\" x=\"986.5\" y=\"368.6479\">attributes</text><line style=\"stroke: #383838; stroke-width: 1.0;\" x1=\"1041.5\" x2=\"1059\" y1=\"365.3398\" y2=\"365.3398\"/></a><!--MD5=[09b614a08d8cba4a07c9adeb5e0fee81]\n",
       "class E3--><a href=\"psysml:240db56f-6d8c-4faf-8b3c-f8974d12918d\" target=\"_top\" title=\"psysml:240db56f-6d8c-4faf-8b3c-f8974d12918d\" xlink:actuate=\"onRequest\" xlink:href=\"psysml:240db56f-6d8c-4faf-8b3c-f8974d12918d\" xlink:show=\"new\" xlink:title=\"psysml:240db56f-6d8c-4faf-8b3c-f8974d12918d\" xlink:type=\"simple\"><rect fill=\"#FFFFFF\" height=\"45.9375\" id=\"E3\" style=\"stroke: #383838; stroke-width: 1.5;\" width=\"70\" x=\"852\" y=\"192\"/><text fill=\"#000000\" font-family=\"sans-serif\" font-size=\"12\" font-style=\"italic\" lengthAdjust=\"spacingAndGlyphs\" textLength=\"68\" x=\"853\" y=\"208.1387\">«part  def»</text><text fill=\"#000000\" font-family=\"sans-serif\" font-size=\"12\" lengthAdjust=\"spacingAndGlyphs\" textLength=\"45\" x=\"864.5\" y=\"222.1074\">Vehicle</text><line style=\"stroke: #383838; stroke-width: 1.5;\" x1=\"853\" x2=\"921\" y1=\"229.9375\" y2=\"229.9375\"/></a><!--MD5=[ebbe1d658d1005bcc118a6aa81145e00]\n",
       "class E4--><a href=\"psysml:ce00e2ad-3315-43f7-b2e6-6ce884a27309\" target=\"_top\" title=\"psysml:ce00e2ad-3315-43f7-b2e6-6ce884a27309\" xlink:actuate=\"onRequest\" xlink:href=\"psysml:ce00e2ad-3315-43f7-b2e6-6ce884a27309\" xlink:show=\"new\" xlink:title=\"psysml:ce00e2ad-3315-43f7-b2e6-6ce884a27309\" xlink:type=\"simple\"><rect fill=\"#FFFFFF\" height=\"75.5469\" id=\"E4\" rx=\"10\" ry=\"10\" style=\"stroke: #383838; stroke-width: 1.5;\" width=\"106\" x=\"961\" y=\"41\"/><text fill=\"#000000\" font-family=\"sans-serif\" font-size=\"12\" font-style=\"italic\" lengthAdjust=\"spacingAndGlyphs\" textLength=\"40\" x=\"994\" y=\"57.1387\">«part»</text><text fill=\"#000000\" font-family=\"sans-serif\" font-size=\"12\" lengthAdjust=\"spacingAndGlyphs\" textLength=\"96\" x=\"964\" y=\"71.1074\">vehicle: Vehicle</text><line style=\"stroke: #383838; stroke-width: 1.5;\" x1=\"962\" x2=\"1066\" y1=\"78.9375\" y2=\"78.9375\"/><text fill=\"#000000\" font-family=\"sans-serif\" font-size=\"11\" lengthAdjust=\"spacingAndGlyphs\" textLength=\"89\" x=\"967\" y=\"109.9526\">^m: MassValue</text><line style=\"stroke: #383838; stroke-width: 1.0;\" x1=\"962\" x2=\"986.5\" y1=\"93.3398\" y2=\"93.3398\"/><text fill=\"#000000\" font-family=\"sans-serif\" font-size=\"11\" lengthAdjust=\"spacingAndGlyphs\" textLength=\"55\" x=\"986.5\" y=\"96.6479\">attributes</text><line style=\"stroke: #383838; stroke-width: 1.0;\" x1=\"1041.5\" x2=\"1066\" y1=\"93.3398\" y2=\"93.3398\"/></a><!--MD5=[270fce915f116d4de14055a7c1d9a0f3]\n",
       "class E5--><a href=\"psysml:83fc889d-b3c1-4be4-83aa-24728b198254\" target=\"_top\" title=\"psysml:83fc889d-b3c1-4be4-83aa-24728b198254\" xlink:actuate=\"onRequest\" xlink:href=\"psysml:83fc889d-b3c1-4be4-83aa-24728b198254\" xlink:show=\"new\" xlink:title=\"psysml:83fc889d-b3c1-4be4-83aa-24728b198254\" xlink:type=\"simple\"><rect fill=\"#FFFFFF\" height=\"75.5469\" id=\"E5\" rx=\"10\" ry=\"10\" style=\"stroke: #383838; stroke-width: 1.5;\" width=\"113\" x=\"957.5\" y=\"177\"/><text fill=\"#000000\" font-family=\"sans-serif\" font-size=\"12\" font-style=\"italic\" lengthAdjust=\"spacingAndGlyphs\" textLength=\"40\" x=\"994\" y=\"193.1387\">«part»</text><text fill=\"#000000\" font-family=\"sans-serif\" font-size=\"12\" lengthAdjust=\"spacingAndGlyphs\" textLength=\"103\" x=\"960.5\" y=\"207.1074\">eng: VehiclePart</text><line style=\"stroke: #383838; stroke-width: 1.5;\" x1=\"958.5\" x2=\"1069.5\" y1=\"214.9375\" y2=\"214.9375\"/><text fill=\"#000000\" font-family=\"sans-serif\" font-size=\"11\" lengthAdjust=\"spacingAndGlyphs\" textLength=\"89\" x=\"963.5\" y=\"245.9526\">^m: MassValue</text><line style=\"stroke: #383838; stroke-width: 1.0;\" x1=\"958.5\" x2=\"986.5\" y1=\"229.3398\" y2=\"229.3398\"/><text fill=\"#000000\" font-family=\"sans-serif\" font-size=\"11\" lengthAdjust=\"spacingAndGlyphs\" textLength=\"55\" x=\"986.5\" y=\"232.6479\">attributes</text><line style=\"stroke: #383838; stroke-width: 1.0;\" x1=\"1041.5\" x2=\"1069.5\" y1=\"229.3398\" y2=\"229.3398\"/></a><!--MD5=[60a26617385b1d2d0262a64233df1f8d]\n",
       "class E6--><a href=\"psysml:9ad03ab5-4ba7-4600-8f6c-f33bd21910a1\" target=\"_top\" title=\"psysml:9ad03ab5-4ba7-4600-8f6c-f33bd21910a1\" xlink:actuate=\"onRequest\" xlink:href=\"psysml:9ad03ab5-4ba7-4600-8f6c-f33bd21910a1\" xlink:show=\"new\" xlink:title=\"psysml:9ad03ab5-4ba7-4600-8f6c-f33bd21910a1\" xlink:type=\"simple\"><rect fill=\"#FFFFFF\" height=\"75.5469\" id=\"E6\" rx=\"10\" ry=\"10\" style=\"stroke: #383838; stroke-width: 1.5;\" width=\"122\" x=\"1106\" y=\"177\"/><text fill=\"#000000\" font-family=\"sans-serif\" font-size=\"12\" font-style=\"italic\" lengthAdjust=\"spacingAndGlyphs\" textLength=\"40\" x=\"1147\" y=\"193.1387\">«part»</text><text fill=\"#000000\" font-family=\"sans-serif\" font-size=\"12\" lengthAdjust=\"spacingAndGlyphs\" textLength=\"112\" x=\"1109\" y=\"207.1074\">trans: VehiclePart</text><line style=\"stroke: #383838; stroke-width: 1.5;\" x1=\"1107\" x2=\"1227\" y1=\"214.9375\" y2=\"214.9375\"/><text fill=\"#000000\" font-family=\"sans-serif\" font-size=\"11\" lengthAdjust=\"spacingAndGlyphs\" textLength=\"89\" x=\"1112\" y=\"245.9526\">^m: MassValue</text><line style=\"stroke: #383838; stroke-width: 1.0;\" x1=\"1107\" x2=\"1139.5\" y1=\"229.3398\" y2=\"229.3398\"/><text fill=\"#000000\" font-family=\"sans-serif\" font-size=\"11\" lengthAdjust=\"spacingAndGlyphs\" textLength=\"55\" x=\"1139.5\" y=\"232.6479\">attributes</text><line style=\"stroke: #383838; stroke-width: 1.0;\" x1=\"1194.5\" x2=\"1227\" y1=\"229.3398\" y2=\"229.3398\"/></a><!--MD5=[96f4274e9e20536e775497830990834d]\n",
       "class E10--><a href=\"psysml:e012d373-591a-4cf2-b53b-d810c6dd562d\" target=\"_top\" title=\"psysml:e012d373-591a-4cf2-b53b-d810c6dd562d\" xlink:actuate=\"onRequest\" xlink:href=\"psysml:e012d373-591a-4cf2-b53b-d810c6dd562d\" xlink:show=\"new\" xlink:title=\"psysml:e012d373-591a-4cf2-b53b-d810c6dd562d\" xlink:type=\"simple\"><rect fill=\"#FFFFFF\" height=\"75.5469\" id=\"E10\" rx=\"10\" ry=\"10\" style=\"stroke: #383838; stroke-width: 1.5;\" width=\"293\" x=\"340.5\" y=\"41\"/><text fill=\"#000000\" font-family=\"sans-serif\" font-size=\"12\" font-style=\"italic\" lengthAdjust=\"spacingAndGlyphs\" textLength=\"82\" x=\"446\" y=\"57.1387\">«calculation»</text><text fill=\"#000000\" font-family=\"sans-serif\" font-size=\"12\" lengthAdjust=\"spacingAndGlyphs\" textLength=\"85\" x=\"442.5\" y=\"71.1074\">ms: MassSum</text><line style=\"stroke: #383838; stroke-width: 1.5;\" x1=\"341.5\" x2=\"632.5\" y1=\"78.9375\" y2=\"78.9375\"/><text fill=\"#000000\" font-family=\"sans-serif\" font-size=\"11\" font-weight=\"bold\" lengthAdjust=\"spacingAndGlyphs\" textLength=\"10\" x=\"346.5\" y=\"109.9526\">in</text><text fill=\"#000000\" font-family=\"sans-serif\" font-size=\"11\" lengthAdjust=\"spacingAndGlyphs\" textLength=\"267\" x=\"360.5\" y=\"109.9526\">partMasses= (vehicle.eng.m, vehicle.trans.m);</text><line style=\"stroke: #383838; stroke-width: 1.0;\" x1=\"341.5\" x2=\"453.5\" y1=\"93.3398\" y2=\"93.3398\"/><text fill=\"#000000\" font-family=\"sans-serif\" font-size=\"11\" lengthAdjust=\"spacingAndGlyphs\" textLength=\"67\" x=\"453.5\" y=\"96.6479\">parameters</text><line style=\"stroke: #383838; stroke-width: 1.0;\" x1=\"520.5\" x2=\"632.5\" y1=\"93.3398\" y2=\"93.3398\"/></a><!--MD5=[1dd1bfd58a279cf63c5f349dbc8fc6a1]\n",
       "class E11--><a href=\"psysml:e4253433-368c-4e86-8a3c-6b186419df89\" target=\"_top\" title=\"psysml:e4253433-368c-4e86-8a3c-6b186419df89\" xlink:actuate=\"onRequest\" xlink:href=\"psysml:e4253433-368c-4e86-8a3c-6b186419df89\" xlink:show=\"new\" xlink:title=\"psysml:e4253433-368c-4e86-8a3c-6b186419df89\" xlink:type=\"simple\"><rect fill=\"#FFFFFF\" height=\"45.9375\" id=\"E11\" rx=\"10\" ry=\"10\" style=\"stroke: #383838; stroke-width: 1.5;\" width=\"60\" x=\"245\" y=\"56\"/><text fill=\"#000000\" font-family=\"sans-serif\" font-size=\"12\" font-style=\"italic\" lengthAdjust=\"spacingAndGlyphs\" textLength=\"40\" x=\"255\" y=\"72.1387\">«part»</text><text fill=\"#000000\" font-family=\"sans-serif\" font-size=\"12\" lengthAdjust=\"spacingAndGlyphs\" textLength=\"50\" x=\"248\" y=\"86.1074\">vehicles</text><line style=\"stroke: #383838; stroke-width: 1.5;\" x1=\"246\" x2=\"304\" y1=\"93.9375\" y2=\"93.9375\"/></a><!--MD5=[49a0ec8f00dab7302a31f22d0f0fe584]\n",
       "class E12--><a href=\"psysml:03468340-4ee1-4dfd-ba23-9337b31e6caf\" target=\"_top\" title=\"psysml:03468340-4ee1-4dfd-ba23-9337b31e6caf\" xlink:actuate=\"onRequest\" xlink:href=\"psysml:03468340-4ee1-4dfd-ba23-9337b31e6caf\" xlink:show=\"new\" xlink:title=\"psysml:03468340-4ee1-4dfd-ba23-9337b31e6caf\" xlink:type=\"simple\"><rect fill=\"#FFFFFF\" height=\"45.9375\" id=\"E12\" rx=\"10\" ry=\"10\" style=\"stroke: #383838; stroke-width: 1.5;\" width=\"71\" x=\"138.5\" y=\"56\"/><text fill=\"#000000\" font-family=\"sans-serif\" font-size=\"12\" font-style=\"italic\" lengthAdjust=\"spacingAndGlyphs\" textLength=\"69\" x=\"139.5\" y=\"72.1387\">«attribute»</text><text fill=\"#000000\" font-family=\"sans-serif\" font-size=\"12\" lengthAdjust=\"spacingAndGlyphs\" textLength=\"56\" x=\"144\" y=\"86.1074\">masses1</text><line style=\"stroke: #383838; stroke-width: 1.5;\" x1=\"139.5\" x2=\"208.5\" y1=\"93.9375\" y2=\"93.9375\"/></a><!--MD5=[ee3c913d1a06f366521f9ef512b67efe]\n",
       "class E13--><a href=\"psysml:a35488ce-7eb0-470e-9ecc-f7a0c28bc139\" target=\"_top\" title=\"psysml:a35488ce-7eb0-470e-9ecc-f7a0c28bc139\" xlink:actuate=\"onRequest\" xlink:href=\"psysml:a35488ce-7eb0-470e-9ecc-f7a0c28bc139\" xlink:show=\"new\" xlink:title=\"psysml:a35488ce-7eb0-470e-9ecc-f7a0c28bc139\" xlink:type=\"simple\"><rect fill=\"#FFFFFF\" height=\"45.9375\" id=\"E13\" rx=\"10\" ry=\"10\" style=\"stroke: #383838; stroke-width: 1.5;\" width=\"71\" x=\"32.5\" y=\"56\"/><text fill=\"#000000\" font-family=\"sans-serif\" font-size=\"12\" font-style=\"italic\" lengthAdjust=\"spacingAndGlyphs\" textLength=\"69\" x=\"33.5\" y=\"72.1387\">«attribute»</text><text fill=\"#000000\" font-family=\"sans-serif\" font-size=\"12\" lengthAdjust=\"spacingAndGlyphs\" textLength=\"56\" x=\"38\" y=\"86.1074\">masses2</text><line style=\"stroke: #383838; stroke-width: 1.5;\" x1=\"33.5\" x2=\"102.5\" y1=\"93.9375\" y2=\"93.9375\"/></a><text fill=\"#000000\" font-family=\"sans-serif\" font-size=\"14\" lengthAdjust=\"spacingAndGlyphs\" textLength=\"80\" x=\"703\" y=\"57.6982\">partMasses</text><rect fill=\"#383838\" height=\"12\" style=\"stroke: #F8F8F8; stroke-width: 1.5;\" width=\"12\" x=\"737\" y=\"73\"/><text fill=\"#000000\" font-family=\"sans-serif\" font-size=\"14\" lengthAdjust=\"spacingAndGlyphs\" textLength=\"66\" x=\"710\" y=\"473.9951\">totalMass</text><rect fill=\"#383838\" height=\"12\" style=\"stroke: #F8F8F8; stroke-width: 1.5;\" width=\"12\" x=\"737\" y=\"449\"/><!--MD5=[05d275557350bfb9b23a4ef7222b4c39]\n",
       "link E3 to E2--><a href=\"psysml:2113862d-3e36-4f2a-be29-5fbeffc35ef5\" target=\"_top\" title=\"psysml:2113862d-3e36-4f2a-be29-5fbeffc35ef5\" xlink:actuate=\"onRequest\" xlink:href=\"psysml:2113862d-3e36-4f2a-be29-5fbeffc35ef5\" xlink:show=\"new\" xlink:title=\"psysml:2113862d-3e36-4f2a-be29-5fbeffc35ef5\" xlink:type=\"simple\"><path d=\"M907.97,238.13 C923.45,254.46 945.16,277.37 964.91,298.21 \" fill=\"none\" id=\"E3-&gt;E2\" style=\"stroke: #383838; stroke-width: 1.0;\"/><polygon fill=\"none\" points=\"970.15,293.56,978.83,312.89,959.99,303.19,970.15,293.56\" style=\"stroke: #383838; stroke-width: 1.0;\"/></a><!--MD5=[f0cdf4548168e5211fb3a02bf679d63a]\n",
       "link E4 to E3--><a href=\"psysml:3f6bcc61-006c-4905-be22-168150e04931\" target=\"_top\" title=\"psysml:3f6bcc61-006c-4905-be22-168150e04931\" xlink:actuate=\"onRequest\" xlink:href=\"psysml:3f6bcc61-006c-4905-be22-168150e04931\" xlink:show=\"new\" xlink:title=\"psysml:3f6bcc61-006c-4905-be22-168150e04931\" xlink:type=\"simple\"><path d=\"M978.62,117.33 C960.85,136.08 939.39,158.72 921.71,177.38 \" fill=\"none\" id=\"E4-&gt;E3\" style=\"stroke: #383838; stroke-width: 1.0;\"/><polygon fill=\"#FFFFFF\" points=\"907.91,191.94,915.8909,173.3307,926.0566,182.9567,907.91,191.94\" style=\"stroke: #383838; stroke-width: 1.0;\"/><ellipse cx=\"921.2623\" cy=\"170.567\" fill=\"#383838\" rx=\"2\" ry=\"2\" style=\"stroke: #383838; stroke-width: 1.0;\"/><ellipse cx=\"928.5235\" cy=\"177.4426\" fill=\"#383838\" rx=\"2\" ry=\"2\" style=\"stroke: #383838; stroke-width: 1.0;\"/></a><!--MD5=[62aa6af11e70f752912c1cb0466f24f7]\n",
       "reverse link E4 to E5--><a href=\"psysml:dfe553ed-92b1-45a3-82b1-c875cfb3cf56\" target=\"_top\" title=\"psysml:dfe553ed-92b1-45a3-82b1-c875cfb3cf56\" xlink:actuate=\"onRequest\" xlink:href=\"psysml:dfe553ed-92b1-45a3-82b1-c875cfb3cf56\" xlink:show=\"new\" xlink:title=\"psysml:dfe553ed-92b1-45a3-82b1-c875cfb3cf56\" xlink:type=\"simple\"><path d=\"M1014,130.46 C1014,145.87 1014,162.52 1014,176.87 \" fill=\"none\" id=\"E4&lt;-E5\" style=\"stroke: #383838; stroke-width: 1.0;\"/><polygon fill=\"#FFFFFF\" points=\"1014,117.33,1010,123.33,1014,129.33,1018,123.33,1014,117.33\" style=\"stroke: #383838; stroke-width: 1.0;\"/><text fill=\"#000000\" font-family=\"sans-serif\" font-size=\"13\" lengthAdjust=\"spacingAndGlyphs\" textLength=\"8\" x=\"1005.2875\" y=\"165.8612\">1</text></a><!--MD5=[15ebcb19ae302d9b601edb458606d402]\n",
       "link E5 to E2--><a href=\"psysml:7cfd1003-3fe0-4a32-a3a1-13a5c8efedf2\" target=\"_top\" title=\"psysml:7cfd1003-3fe0-4a32-a3a1-13a5c8efedf2\" xlink:actuate=\"onRequest\" xlink:href=\"psysml:7cfd1003-3fe0-4a32-a3a1-13a5c8efedf2\" xlink:show=\"new\" xlink:title=\"psysml:7cfd1003-3fe0-4a32-a3a1-13a5c8efedf2\" xlink:type=\"simple\"><path d=\"M1014,253.33 C1014,265.52 1014,279.36 1014,292.68 \" fill=\"none\" id=\"E5-&gt;E2\" style=\"stroke: #383838; stroke-width: 1.0;\"/><polygon fill=\"#FFFFFF\" points=\"1014,312.87,1007,293.87,1021,293.87,1014,312.87\" style=\"stroke: #383838; stroke-width: 1.0;\"/><ellipse cx=\"1009\" cy=\"288.17\" fill=\"#383838\" rx=\"2\" ry=\"2\" style=\"stroke: #383838; stroke-width: 1.0;\"/><ellipse cx=\"1019\" cy=\"288.17\" fill=\"#383838\" rx=\"2\" ry=\"2\" style=\"stroke: #383838; stroke-width: 1.0;\"/></a><!--MD5=[6db378b65e1aef66a01cb3103812b399]\n",
       "reverse link E4 to E6--><a href=\"psysml:56232501-f921-4851-b5f9-a91b366c1c7b\" target=\"_top\" title=\"psysml:56232501-f921-4851-b5f9-a91b366c1c7b\" xlink:actuate=\"onRequest\" xlink:href=\"psysml:56232501-f921-4851-b5f9-a91b366c1c7b\" xlink:show=\"new\" xlink:title=\"psysml:56232501-f921-4851-b5f9-a91b366c1c7b\" xlink:type=\"simple\"><path d=\"M1066.59,126.06 C1085.53,142.65 1106.65,161.14 1124.61,176.87 \" fill=\"none\" id=\"E4&lt;-E6\" style=\"stroke: #383838; stroke-width: 1.0;\"/><polygon fill=\"#FFFFFF\" points=\"1056.62,117.33,1058.4928,124.2937,1065.6411,125.2433,1063.7683,118.2796,1056.62,117.33\" style=\"stroke: #383838; stroke-width: 1.0;\"/><text fill=\"#000000\" font-family=\"sans-serif\" font-size=\"13\" lengthAdjust=\"spacingAndGlyphs\" textLength=\"8\" x=\"1108.3468\" y=\"165.8612\">1</text></a><!--MD5=[2351f337d6de0f557b50152ba70847b5]\n",
       "link E6 to E2--><a href=\"psysml:b3767e4f-9e3f-4162-9e5b-3e184cb0e1ab\" target=\"_top\" title=\"psysml:b3767e4f-9e3f-4162-9e5b-3e184cb0e1ab\" xlink:actuate=\"onRequest\" xlink:href=\"psysml:b3767e4f-9e3f-4162-9e5b-3e184cb0e1ab\" xlink:show=\"new\" xlink:title=\"psysml:b3767e4f-9e3f-4162-9e5b-3e184cb0e1ab\" xlink:type=\"simple\"><path d=\"M1124.38,253.33 C1108.05,267.63 1089.14,284.19 1071.63,299.52 \" fill=\"none\" id=\"E6-&gt;E2\" style=\"stroke: #383838; stroke-width: 1.0;\"/><polygon fill=\"#FFFFFF\" points=\"1056.39,312.87,1066.0639,295.0819,1075.2922,305.6099,1056.39,312.87\" style=\"stroke: #383838; stroke-width: 1.0;\"/><ellipse cx=\"1071.6686\" cy=\"292.8287\" fill=\"#383838\" rx=\"2\" ry=\"2\" style=\"stroke: #383838; stroke-width: 1.0;\"/><ellipse cx=\"1078.2602\" cy=\"300.3487\" fill=\"#383838\" rx=\"2\" ry=\"2\" style=\"stroke: #383838; stroke-width: 1.0;\"/></a><!--MD5=[a919e0967d6f3de553dc51b9865a1d6d]\n",
       "link E10 to E7--><a href=\"psysml:650eb0f7-ec08-4309-80b6-1e90e34b9690\" target=\"_top\" title=\"psysml:650eb0f7-ec08-4309-80b6-1e90e34b9690\" xlink:actuate=\"onRequest\" xlink:href=\"psysml:650eb0f7-ec08-4309-80b6-1e90e34b9690\" xlink:show=\"new\" xlink:title=\"psysml:650eb0f7-ec08-4309-80b6-1e90e34b9690\" xlink:type=\"simple\"><path d=\"M557.97,117.15 C583.125,130.315 611.975,145.415 639.2925,159.7138 C642.7072,161.5011 646.0979,163.2759 649.4545,165.0329 \" fill=\"none\" id=\"E10-&gt;E7\" style=\"stroke: #383838; stroke-width: 1.0;\"/><polygon fill=\"#FFFFFF\" points=\"649.4545,165.0329,629.3749,162.4234,635.8674,150.0199,649.4545,165.0329\" style=\"stroke: #383838; stroke-width: 1.0;\"/><ellipse cx=\"625.2524\" cy=\"158.0081\" fill=\"#383838\" rx=\"2\" ry=\"2\" style=\"stroke: #383838; stroke-width: 1.0;\"/><ellipse cx=\"629.8899\" cy=\"149.1485\" fill=\"#383838\" rx=\"2\" ry=\"2\" style=\"stroke: #383838; stroke-width: 1.0;\"/></a><!--MD5=[a2b13a42f4e0f895af572405eb0b0924]\n",
       "@startuml\r\n",
       "top to bottom direction\r\n",
       "skinparam monochrome true\r\n",
       "skinparam classbackgroundcolor white\r\n",
       "skinparam shadowing false\r\n",
       "skinparam wrapWidth 300\r\n",
       "hide circle\r\n",
       "\r\n",
       "package \"CalculationExample\" as E1  [[psysml:9a950c4d-df47-4bf2-a127-6824d456053c ]]  {\r\n",
       "comp def \"VehiclePart\" as E2  <<(T,blue) part  def>> [[psysml:240f00ab-b9bf-457e-9376-98b0b5e156bb ]] {\r\n",
       "- - attributes - -\r\n",
       "m: MassValue\r\n",
       "}\r\n",
       "comp def \"Vehicle\" as E3  <<(T,blue) part  def>> [[psysml:240db56f-6d8c-4faf-8b3c-f8974d12918d ]] {\r\n",
       "}\r\n",
       "comp usage \"vehicle: Vehicle \" as E4  <<(T,blue) part>> [[psysml:ce00e2ad-3315-43f7-b2e6-6ce884a27309 ]] {\r\n",
       "- - attributes - -\r\n",
       "^m: MassValue\r\n",
       "}\r\n",
       "comp usage \"eng: VehiclePart \" as E5  <<(T,blue) part>> [[psysml:83fc889d-b3c1-4be4-83aa-24728b198254 ]] {\r\n",
       "- - attributes - -\r\n",
       "^m: MassValue\r\n",
       "}\r\n",
       "comp usage \"trans: VehiclePart \" as E6  <<(T,blue) part>> [[psysml:9ad03ab5-4ba7-4600-8f6c-f33bd21910a1 ]] {\r\n",
       "- - attributes - -\r\n",
       "^m: MassValue\r\n",
       "}\r\n",
       "rec def \"MassSum\" as E7  <<(T,blue) calculation  def>> [[psysml:425e038d-47d6-48b2-bd42-a030f1074fc4 ]] {\r\n",
       "portin \"partMasses\" as E8  [[psysml:b45e328f-a4a8-4519-9228-274640d6e043 ]] \r\n",
       "portout \"totalMass\" as E9  [[psysml:712f9e49-cc72-40cc-a5b0-9958e3b93d47 ]] \r\n",
       "}\r\n",
       "\r\n",
       "comp usage \"ms: MassSum \" as E10  <<(T,blue) calculation>> [[psysml:e012d373-591a-4cf2-b53b-d810c6dd562d ]] {\r\n",
       "- - parameters - -\r\n",
       "<b>in</b> partMasses= (vehicle.eng.m, vehicle.trans.m); \r\n",
       "}\r\n",
       "comp usage \"vehicles \" as E11  <<(T,blue) part>> [[psysml:e4253433-368c-4e86-8a3c-6b186419df89 ]] {\r\n",
       "}\r\n",
       "comp usage \"masses1 \" as E12  <<(T,blue) attribute>> [[psysml:03468340-4ee1-4dfd-ba23-9337b31e6caf ]] {\r\n",
       "}\r\n",
       "comp usage \"masses2 \" as E13  <<(T,blue) attribute>> [[psysml:a35488ce-7eb0-470e-9ecc-f7a0c28bc139 ]] {\r\n",
       "}\r\n",
       "}\r\n",
       "E3 - -|> E2 [[psysml:2113862d-3e36-4f2a-be29-5fbeffc35ef5 ]] \r\n",
       "E4 - -:|> E3 [[psysml:3f6bcc61-006c-4905-be22-168150e04931 ]] \r\n",
       "E4 o- - \"1\"E5 [[psysml:dfe553ed-92b1-45a3-82b1-c875cfb3cf56 ]] \r\n",
       "E5 - -:|> E2 [[psysml:7cfd1003-3fe0-4a32-a3a1-13a5c8efedf2 ]] \r\n",
       "E4 o- - \"1\"E6 [[psysml:56232501-f921-4851-b5f9-a91b366c1c7b ]] \r\n",
       "E6 - -:|> E2 [[psysml:b3767e4f-9e3f-4162-9e5b-3e184cb0e1ab ]] \r\n",
       "E10 - -:|> E7 [[psysml:650eb0f7-ec08-4309-80b6-1e90e34b9690 ]] \r\n",
       "@enduml\r\n",
       "\n",
       "PlantUML version 1.2020.13(Sat Jun 13 12:26:38 UTC 2020)\n",
       "(EPL source distribution)\n",
       "Java Runtime: OpenJDK Runtime Environment\n",
       "JVM: OpenJDK 64-Bit Server VM\n",
       "Default Encoding: UTF-8\n",
       "Language: en\n",
       "Country: null\n",
       "--></g></svg>"
      ]
     },
     "execution_count": 44,
     "metadata": {},
     "output_type": "execute_result"
    }
   ],
   "source": [
    "%viz --style=\"TB\" --view=\"Default\" \"CalculationExample\""
   ]
  },
  {
   "cell_type": "code",
   "execution_count": 45,
   "id": "3d2f7960",
   "metadata": {
    "execution": {
     "iopub.execute_input": "2022-08-19T08:22:04.258052Z",
     "iopub.status.busy": "2022-08-19T08:22:04.257597Z",
     "iopub.status.idle": "2022-08-19T08:22:04.319201Z",
     "shell.execute_reply": "2022-08-19T08:22:04.317671Z"
    }
   },
   "outputs": [
    {
     "data": {
      "image/svg+xml": [
       "<?xml version=\"1.0\" encoding=\"UTF-8\" standalone=\"no\"?><svg xmlns=\"http://www.w3.org/2000/svg\" xmlns:xlink=\"http://www.w3.org/1999/xlink\" contentScriptType=\"application/ecmascript\" contentStyleType=\"text/css\" height=\"417px\" preserveAspectRatio=\"none\" style=\"width:813px;height:417px;\" version=\"1.1\" viewBox=\"0 0 813 417\" width=\"813px\" zoomAndPan=\"magnify\"><defs/><g><!--MD5=[fbc87193dbaf4d95561dea2c320d4a47]\n",
       "cluster E1--><a href=\"psysml:9a950c4d-df47-4bf2-a127-6824d456053c\" target=\"_top\" title=\"psysml:9a950c4d-df47-4bf2-a127-6824d456053c\" xlink:actuate=\"onRequest\" xlink:href=\"psysml:9a950c4d-df47-4bf2-a127-6824d456053c\" xlink:show=\"new\" xlink:title=\"psysml:9a950c4d-df47-4bf2-a127-6824d456053c\" xlink:type=\"simple\"><polygon fill=\"#FFFFFF\" points=\"16,6,155,6,162,28.2969,791,28.2969,791,405,16,405,16,6\" style=\"stroke: #000000; stroke-width: 1.5;\"/><line style=\"stroke: #000000; stroke-width: 1.5;\" x1=\"16\" x2=\"162\" y1=\"28.2969\" y2=\"28.2969\"/><text fill=\"#000000\" font-family=\"sans-serif\" font-size=\"14\" font-weight=\"bold\" lengthAdjust=\"spacingAndGlyphs\" textLength=\"133\" x=\"20\" y=\"20.9951\">CalculationExample</text></a><!--MD5=[b4997ac47864f28c2f74865a473b2911]\n",
       "class E2--><a href=\"psysml:240f00ab-b9bf-457e-9376-98b0b5e156bb\" target=\"_top\" title=\"psysml:240f00ab-b9bf-457e-9376-98b0b5e156bb\" xlink:actuate=\"onRequest\" xlink:href=\"psysml:240f00ab-b9bf-457e-9376-98b0b5e156bb\" xlink:show=\"new\" xlink:title=\"psysml:240f00ab-b9bf-457e-9376-98b0b5e156bb\" xlink:type=\"simple\"><rect fill=\"#FFFFFF\" height=\"75.5469\" id=\"E2\" style=\"stroke: #383838; stroke-width: 1.5;\" width=\"92\" x=\"515\" y=\"313\"/><text fill=\"#000000\" font-family=\"sans-serif\" font-size=\"12\" font-style=\"italic\" lengthAdjust=\"spacingAndGlyphs\" textLength=\"68\" x=\"527\" y=\"329.1387\">«part  def»</text><text fill=\"#000000\" font-family=\"sans-serif\" font-size=\"12\" lengthAdjust=\"spacingAndGlyphs\" textLength=\"71\" x=\"525.5\" y=\"343.1074\">VehiclePart</text><line style=\"stroke: #383838; stroke-width: 1.5;\" x1=\"516\" x2=\"606\" y1=\"350.9375\" y2=\"350.9375\"/><text fill=\"#000000\" font-family=\"sans-serif\" font-size=\"11\" lengthAdjust=\"spacingAndGlyphs\" textLength=\"80\" x=\"521\" y=\"381.9526\">m: MassValue</text><line style=\"stroke: #383838; stroke-width: 1.0;\" x1=\"516\" x2=\"533.5\" y1=\"365.3398\" y2=\"365.3398\"/><text fill=\"#000000\" font-family=\"sans-serif\" font-size=\"11\" lengthAdjust=\"spacingAndGlyphs\" textLength=\"55\" x=\"533.5\" y=\"368.6479\">attributes</text><line style=\"stroke: #383838; stroke-width: 1.0;\" x1=\"588.5\" x2=\"606\" y1=\"365.3398\" y2=\"365.3398\"/></a><!--MD5=[09b614a08d8cba4a07c9adeb5e0fee81]\n",
       "class E3--><a href=\"psysml:240db56f-6d8c-4faf-8b3c-f8974d12918d\" target=\"_top\" title=\"psysml:240db56f-6d8c-4faf-8b3c-f8974d12918d\" xlink:actuate=\"onRequest\" xlink:href=\"psysml:240db56f-6d8c-4faf-8b3c-f8974d12918d\" xlink:show=\"new\" xlink:title=\"psysml:240db56f-6d8c-4faf-8b3c-f8974d12918d\" xlink:type=\"simple\"><rect fill=\"#FFFFFF\" height=\"45.9375\" id=\"E3\" style=\"stroke: #383838; stroke-width: 1.5;\" width=\"70\" x=\"399\" y=\"192\"/><text fill=\"#000000\" font-family=\"sans-serif\" font-size=\"12\" font-style=\"italic\" lengthAdjust=\"spacingAndGlyphs\" textLength=\"68\" x=\"400\" y=\"208.1387\">«part  def»</text><text fill=\"#000000\" font-family=\"sans-serif\" font-size=\"12\" lengthAdjust=\"spacingAndGlyphs\" textLength=\"45\" x=\"411.5\" y=\"222.1074\">Vehicle</text><line style=\"stroke: #383838; stroke-width: 1.5;\" x1=\"400\" x2=\"468\" y1=\"229.9375\" y2=\"229.9375\"/></a><!--MD5=[ebbe1d658d1005bcc118a6aa81145e00]\n",
       "class E4--><a href=\"psysml:ce00e2ad-3315-43f7-b2e6-6ce884a27309\" target=\"_top\" title=\"psysml:ce00e2ad-3315-43f7-b2e6-6ce884a27309\" xlink:actuate=\"onRequest\" xlink:href=\"psysml:ce00e2ad-3315-43f7-b2e6-6ce884a27309\" xlink:show=\"new\" xlink:title=\"psysml:ce00e2ad-3315-43f7-b2e6-6ce884a27309\" xlink:type=\"simple\"><rect fill=\"#FFFFFF\" height=\"75.5469\" id=\"E4\" rx=\"10\" ry=\"10\" style=\"stroke: #383838; stroke-width: 1.5;\" width=\"106\" x=\"669\" y=\"41\"/><text fill=\"#000000\" font-family=\"sans-serif\" font-size=\"12\" font-style=\"italic\" lengthAdjust=\"spacingAndGlyphs\" textLength=\"40\" x=\"702\" y=\"57.1387\">«part»</text><text fill=\"#000000\" font-family=\"sans-serif\" font-size=\"12\" lengthAdjust=\"spacingAndGlyphs\" textLength=\"96\" x=\"672\" y=\"71.1074\">vehicle: Vehicle</text><line style=\"stroke: #383838; stroke-width: 1.5;\" x1=\"670\" x2=\"774\" y1=\"78.9375\" y2=\"78.9375\"/><text fill=\"#000000\" font-family=\"sans-serif\" font-size=\"11\" lengthAdjust=\"spacingAndGlyphs\" textLength=\"89\" x=\"675\" y=\"109.9526\">^m: MassValue</text><line style=\"stroke: #383838; stroke-width: 1.0;\" x1=\"670\" x2=\"694.5\" y1=\"93.3398\" y2=\"93.3398\"/><text fill=\"#000000\" font-family=\"sans-serif\" font-size=\"11\" lengthAdjust=\"spacingAndGlyphs\" textLength=\"55\" x=\"694.5\" y=\"96.6479\">attributes</text><line style=\"stroke: #383838; stroke-width: 1.0;\" x1=\"749.5\" x2=\"774\" y1=\"93.3398\" y2=\"93.3398\"/></a><!--MD5=[270fce915f116d4de14055a7c1d9a0f3]\n",
       "class E5--><a href=\"psysml:83fc889d-b3c1-4be4-83aa-24728b198254\" target=\"_top\" title=\"psysml:83fc889d-b3c1-4be4-83aa-24728b198254\" xlink:actuate=\"onRequest\" xlink:href=\"psysml:83fc889d-b3c1-4be4-83aa-24728b198254\" xlink:show=\"new\" xlink:title=\"psysml:83fc889d-b3c1-4be4-83aa-24728b198254\" xlink:type=\"simple\"><rect fill=\"#FFFFFF\" height=\"75.5469\" id=\"E5\" rx=\"10\" ry=\"10\" style=\"stroke: #383838; stroke-width: 1.5;\" width=\"113\" x=\"504.5\" y=\"177\"/><text fill=\"#000000\" font-family=\"sans-serif\" font-size=\"12\" font-style=\"italic\" lengthAdjust=\"spacingAndGlyphs\" textLength=\"40\" x=\"541\" y=\"193.1387\">«part»</text><text fill=\"#000000\" font-family=\"sans-serif\" font-size=\"12\" lengthAdjust=\"spacingAndGlyphs\" textLength=\"103\" x=\"507.5\" y=\"207.1074\">eng: VehiclePart</text><line style=\"stroke: #383838; stroke-width: 1.5;\" x1=\"505.5\" x2=\"616.5\" y1=\"214.9375\" y2=\"214.9375\"/><text fill=\"#000000\" font-family=\"sans-serif\" font-size=\"11\" lengthAdjust=\"spacingAndGlyphs\" textLength=\"89\" x=\"510.5\" y=\"245.9526\">^m: MassValue</text><line style=\"stroke: #383838; stroke-width: 1.0;\" x1=\"505.5\" x2=\"533.5\" y1=\"229.3398\" y2=\"229.3398\"/><text fill=\"#000000\" font-family=\"sans-serif\" font-size=\"11\" lengthAdjust=\"spacingAndGlyphs\" textLength=\"55\" x=\"533.5\" y=\"232.6479\">attributes</text><line style=\"stroke: #383838; stroke-width: 1.0;\" x1=\"588.5\" x2=\"616.5\" y1=\"229.3398\" y2=\"229.3398\"/></a><!--MD5=[60a26617385b1d2d0262a64233df1f8d]\n",
       "class E6--><a href=\"psysml:9ad03ab5-4ba7-4600-8f6c-f33bd21910a1\" target=\"_top\" title=\"psysml:9ad03ab5-4ba7-4600-8f6c-f33bd21910a1\" xlink:actuate=\"onRequest\" xlink:href=\"psysml:9ad03ab5-4ba7-4600-8f6c-f33bd21910a1\" xlink:show=\"new\" xlink:title=\"psysml:9ad03ab5-4ba7-4600-8f6c-f33bd21910a1\" xlink:type=\"simple\"><rect fill=\"#FFFFFF\" height=\"75.5469\" id=\"E6\" rx=\"10\" ry=\"10\" style=\"stroke: #383838; stroke-width: 1.5;\" width=\"122\" x=\"653\" y=\"177\"/><text fill=\"#000000\" font-family=\"sans-serif\" font-size=\"12\" font-style=\"italic\" lengthAdjust=\"spacingAndGlyphs\" textLength=\"40\" x=\"694\" y=\"193.1387\">«part»</text><text fill=\"#000000\" font-family=\"sans-serif\" font-size=\"12\" lengthAdjust=\"spacingAndGlyphs\" textLength=\"112\" x=\"656\" y=\"207.1074\">trans: VehiclePart</text><line style=\"stroke: #383838; stroke-width: 1.5;\" x1=\"654\" x2=\"774\" y1=\"214.9375\" y2=\"214.9375\"/><text fill=\"#000000\" font-family=\"sans-serif\" font-size=\"11\" lengthAdjust=\"spacingAndGlyphs\" textLength=\"89\" x=\"659\" y=\"245.9526\">^m: MassValue</text><line style=\"stroke: #383838; stroke-width: 1.0;\" x1=\"654\" x2=\"686.5\" y1=\"229.3398\" y2=\"229.3398\"/><text fill=\"#000000\" font-family=\"sans-serif\" font-size=\"11\" lengthAdjust=\"spacingAndGlyphs\" textLength=\"55\" x=\"686.5\" y=\"232.6479\">attributes</text><line style=\"stroke: #383838; stroke-width: 1.0;\" x1=\"741.5\" x2=\"774\" y1=\"229.3398\" y2=\"229.3398\"/></a><!--MD5=[2156ba9850f5573cc1fc38a6a4b2f02b]\n",
       "class E7--><a href=\"psysml:425e038d-47d6-48b2-bd42-a030f1074fc4\" target=\"_top\" title=\"psysml:425e038d-47d6-48b2-bd42-a030f1074fc4\" xlink:actuate=\"onRequest\" xlink:href=\"psysml:425e038d-47d6-48b2-bd42-a030f1074fc4\" xlink:show=\"new\" xlink:title=\"psysml:425e038d-47d6-48b2-bd42-a030f1074fc4\" xlink:type=\"simple\"><rect fill=\"#FFFFFF\" height=\"45.9375\" id=\"E7\" style=\"stroke: #383838; stroke-width: 1.5;\" width=\"112\" x=\"252\" y=\"192\"/><text fill=\"#000000\" font-family=\"sans-serif\" font-size=\"12\" font-style=\"italic\" lengthAdjust=\"spacingAndGlyphs\" textLength=\"110\" x=\"253\" y=\"208.1387\">«calculation  def»</text><text fill=\"#000000\" font-family=\"sans-serif\" font-size=\"12\" lengthAdjust=\"spacingAndGlyphs\" textLength=\"59\" x=\"278.5\" y=\"222.1074\">MassSum</text><line style=\"stroke: #383838; stroke-width: 1.5;\" x1=\"253\" x2=\"363\" y1=\"229.9375\" y2=\"229.9375\"/></a><!--MD5=[b9389687b975829384b498ac4b7476b2]\n",
       "class E8--><a href=\"psysml:e012d373-591a-4cf2-b53b-d810c6dd562d\" target=\"_top\" title=\"psysml:e012d373-591a-4cf2-b53b-d810c6dd562d\" xlink:actuate=\"onRequest\" xlink:href=\"psysml:e012d373-591a-4cf2-b53b-d810c6dd562d\" xlink:show=\"new\" xlink:title=\"psysml:e012d373-591a-4cf2-b53b-d810c6dd562d\" xlink:type=\"simple\"><rect fill=\"#FFFFFF\" height=\"75.5469\" id=\"E8\" rx=\"10\" ry=\"10\" style=\"stroke: #383838; stroke-width: 1.5;\" width=\"293\" x=\"340.5\" y=\"41\"/><text fill=\"#000000\" font-family=\"sans-serif\" font-size=\"12\" font-style=\"italic\" lengthAdjust=\"spacingAndGlyphs\" textLength=\"82\" x=\"446\" y=\"57.1387\">«calculation»</text><text fill=\"#000000\" font-family=\"sans-serif\" font-size=\"12\" lengthAdjust=\"spacingAndGlyphs\" textLength=\"85\" x=\"442.5\" y=\"71.1074\">ms: MassSum</text><line style=\"stroke: #383838; stroke-width: 1.5;\" x1=\"341.5\" x2=\"632.5\" y1=\"78.9375\" y2=\"78.9375\"/><text fill=\"#000000\" font-family=\"sans-serif\" font-size=\"11\" font-weight=\"bold\" lengthAdjust=\"spacingAndGlyphs\" textLength=\"10\" x=\"346.5\" y=\"109.9526\">in</text><text fill=\"#000000\" font-family=\"sans-serif\" font-size=\"11\" lengthAdjust=\"spacingAndGlyphs\" textLength=\"267\" x=\"360.5\" y=\"109.9526\">partMasses= (vehicle.eng.m, vehicle.trans.m);</text><line style=\"stroke: #383838; stroke-width: 1.0;\" x1=\"341.5\" x2=\"453.5\" y1=\"93.3398\" y2=\"93.3398\"/><text fill=\"#000000\" font-family=\"sans-serif\" font-size=\"11\" lengthAdjust=\"spacingAndGlyphs\" textLength=\"67\" x=\"453.5\" y=\"96.6479\">parameters</text><line style=\"stroke: #383838; stroke-width: 1.0;\" x1=\"520.5\" x2=\"632.5\" y1=\"93.3398\" y2=\"93.3398\"/></a><!--MD5=[fd4143e9d270a159db93a4ea2a975926]\n",
       "class E9--><a href=\"psysml:e4253433-368c-4e86-8a3c-6b186419df89\" target=\"_top\" title=\"psysml:e4253433-368c-4e86-8a3c-6b186419df89\" xlink:actuate=\"onRequest\" xlink:href=\"psysml:e4253433-368c-4e86-8a3c-6b186419df89\" xlink:show=\"new\" xlink:title=\"psysml:e4253433-368c-4e86-8a3c-6b186419df89\" xlink:type=\"simple\"><rect fill=\"#FFFFFF\" height=\"45.9375\" id=\"E9\" rx=\"10\" ry=\"10\" style=\"stroke: #383838; stroke-width: 1.5;\" width=\"60\" x=\"245\" y=\"56\"/><text fill=\"#000000\" font-family=\"sans-serif\" font-size=\"12\" font-style=\"italic\" lengthAdjust=\"spacingAndGlyphs\" textLength=\"40\" x=\"255\" y=\"72.1387\">«part»</text><text fill=\"#000000\" font-family=\"sans-serif\" font-size=\"12\" lengthAdjust=\"spacingAndGlyphs\" textLength=\"50\" x=\"248\" y=\"86.1074\">vehicles</text><line style=\"stroke: #383838; stroke-width: 1.5;\" x1=\"246\" x2=\"304\" y1=\"93.9375\" y2=\"93.9375\"/></a><!--MD5=[96f4274e9e20536e775497830990834d]\n",
       "class E10--><a href=\"psysml:03468340-4ee1-4dfd-ba23-9337b31e6caf\" target=\"_top\" title=\"psysml:03468340-4ee1-4dfd-ba23-9337b31e6caf\" xlink:actuate=\"onRequest\" xlink:href=\"psysml:03468340-4ee1-4dfd-ba23-9337b31e6caf\" xlink:show=\"new\" xlink:title=\"psysml:03468340-4ee1-4dfd-ba23-9337b31e6caf\" xlink:type=\"simple\"><rect fill=\"#FFFFFF\" height=\"45.9375\" id=\"E10\" rx=\"10\" ry=\"10\" style=\"stroke: #383838; stroke-width: 1.5;\" width=\"71\" x=\"138.5\" y=\"56\"/><text fill=\"#000000\" font-family=\"sans-serif\" font-size=\"12\" font-style=\"italic\" lengthAdjust=\"spacingAndGlyphs\" textLength=\"69\" x=\"139.5\" y=\"72.1387\">«attribute»</text><text fill=\"#000000\" font-family=\"sans-serif\" font-size=\"12\" lengthAdjust=\"spacingAndGlyphs\" textLength=\"56\" x=\"144\" y=\"86.1074\">masses1</text><line style=\"stroke: #383838; stroke-width: 1.5;\" x1=\"139.5\" x2=\"208.5\" y1=\"93.9375\" y2=\"93.9375\"/></a><!--MD5=[1dd1bfd58a279cf63c5f349dbc8fc6a1]\n",
       "class E11--><a href=\"psysml:a35488ce-7eb0-470e-9ecc-f7a0c28bc139\" target=\"_top\" title=\"psysml:a35488ce-7eb0-470e-9ecc-f7a0c28bc139\" xlink:actuate=\"onRequest\" xlink:href=\"psysml:a35488ce-7eb0-470e-9ecc-f7a0c28bc139\" xlink:show=\"new\" xlink:title=\"psysml:a35488ce-7eb0-470e-9ecc-f7a0c28bc139\" xlink:type=\"simple\"><rect fill=\"#FFFFFF\" height=\"45.9375\" id=\"E11\" rx=\"10\" ry=\"10\" style=\"stroke: #383838; stroke-width: 1.5;\" width=\"71\" x=\"32.5\" y=\"56\"/><text fill=\"#000000\" font-family=\"sans-serif\" font-size=\"12\" font-style=\"italic\" lengthAdjust=\"spacingAndGlyphs\" textLength=\"69\" x=\"33.5\" y=\"72.1387\">«attribute»</text><text fill=\"#000000\" font-family=\"sans-serif\" font-size=\"12\" lengthAdjust=\"spacingAndGlyphs\" textLength=\"56\" x=\"38\" y=\"86.1074\">masses2</text><line style=\"stroke: #383838; stroke-width: 1.5;\" x1=\"33.5\" x2=\"102.5\" y1=\"93.9375\" y2=\"93.9375\"/></a><!--MD5=[05d275557350bfb9b23a4ef7222b4c39]\n",
       "link E3 to E2--><a href=\"psysml:2113862d-3e36-4f2a-be29-5fbeffc35ef5\" target=\"_top\" title=\"psysml:2113862d-3e36-4f2a-be29-5fbeffc35ef5\" xlink:actuate=\"onRequest\" xlink:href=\"psysml:2113862d-3e36-4f2a-be29-5fbeffc35ef5\" xlink:show=\"new\" xlink:title=\"psysml:2113862d-3e36-4f2a-be29-5fbeffc35ef5\" xlink:type=\"simple\"><path d=\"M454.97,238.13 C470.45,254.46 492.16,277.37 511.91,298.21 \" fill=\"none\" id=\"E3-&gt;E2\" style=\"stroke: #383838; stroke-width: 1.0;\"/><polygon fill=\"none\" points=\"517.15,293.56,525.83,312.89,506.99,303.19,517.15,293.56\" style=\"stroke: #383838; stroke-width: 1.0;\"/></a><!--MD5=[f0cdf4548168e5211fb3a02bf679d63a]\n",
       "link E4 to E3--><a href=\"psysml:3f6bcc61-006c-4905-be22-168150e04931\" target=\"_top\" title=\"psysml:3f6bcc61-006c-4905-be22-168150e04931\" xlink:actuate=\"onRequest\" xlink:href=\"psysml:3f6bcc61-006c-4905-be22-168150e04931\" xlink:show=\"new\" xlink:title=\"psysml:3f6bcc61-006c-4905-be22-168150e04931\" xlink:type=\"simple\"><path d=\"M668.86,108.63 C662.89,111.57 656.85,114.42 651,117 C579.99,148.33 555.84,141.15 487,177 C484.58,178.26 482.14,179.62 479.7,181.04 \" fill=\"none\" id=\"E4-&gt;E3\" style=\"stroke: #383838; stroke-width: 1.0;\"/><polygon fill=\"#FFFFFF\" points=\"462.86,191.85,475.0758,175.7015,482.6328,187.4868,462.86,191.85\" style=\"stroke: #383838; stroke-width: 1.0;\"/><ellipse cx=\"480.9537\" cy=\"174.3083\" fill=\"#383838\" rx=\"2\" ry=\"2\" style=\"stroke: #383838; stroke-width: 1.0;\"/><ellipse cx=\"486.3515\" cy=\"182.7264\" fill=\"#383838\" rx=\"2\" ry=\"2\" style=\"stroke: #383838; stroke-width: 1.0;\"/></a><!--MD5=[62aa6af11e70f752912c1cb0466f24f7]\n",
       "reverse link E4 to E5--><a href=\"psysml:dfe553ed-92b1-45a3-82b1-c875cfb3cf56\" target=\"_top\" title=\"psysml:dfe553ed-92b1-45a3-82b1-c875cfb3cf56\" xlink:actuate=\"onRequest\" xlink:href=\"psysml:dfe553ed-92b1-45a3-82b1-c875cfb3cf56\" xlink:show=\"new\" xlink:title=\"psysml:dfe553ed-92b1-45a3-82b1-c875cfb3cf56\" xlink:type=\"simple\"><path d=\"M666.94,125.83 C646.93,142.48 624.59,161.07 605.61,176.87 \" fill=\"none\" id=\"E4&lt;-E5\" style=\"stroke: #383838; stroke-width: 1.0;\"/><polygon fill=\"#FFFFFF\" points=\"677.15,117.33,669.9796,118.0952,667.9281,125.0083,675.0985,124.2431,677.15,117.33\" style=\"stroke: #383838; stroke-width: 1.0;\"/><text fill=\"#000000\" font-family=\"sans-serif\" font-size=\"13\" lengthAdjust=\"spacingAndGlyphs\" textLength=\"8\" x=\"604.8437\" y=\"165.8612\">1</text></a><!--MD5=[15ebcb19ae302d9b601edb458606d402]\n",
       "link E5 to E2--><a href=\"psysml:7cfd1003-3fe0-4a32-a3a1-13a5c8efedf2\" target=\"_top\" title=\"psysml:7cfd1003-3fe0-4a32-a3a1-13a5c8efedf2\" xlink:actuate=\"onRequest\" xlink:href=\"psysml:7cfd1003-3fe0-4a32-a3a1-13a5c8efedf2\" xlink:show=\"new\" xlink:title=\"psysml:7cfd1003-3fe0-4a32-a3a1-13a5c8efedf2\" xlink:type=\"simple\"><path d=\"M561,253.33 C561,265.52 561,279.36 561,292.68 \" fill=\"none\" id=\"E5-&gt;E2\" style=\"stroke: #383838; stroke-width: 1.0;\"/><polygon fill=\"#FFFFFF\" points=\"561,312.87,554,293.87,568,293.87,561,312.87\" style=\"stroke: #383838; stroke-width: 1.0;\"/><ellipse cx=\"556\" cy=\"288.17\" fill=\"#383838\" rx=\"2\" ry=\"2\" style=\"stroke: #383838; stroke-width: 1.0;\"/><ellipse cx=\"566\" cy=\"288.17\" fill=\"#383838\" rx=\"2\" ry=\"2\" style=\"stroke: #383838; stroke-width: 1.0;\"/></a><!--MD5=[6db378b65e1aef66a01cb3103812b399]\n",
       "reverse link E4 to E6--><a href=\"psysml:56232501-f921-4851-b5f9-a91b366c1c7b\" target=\"_top\" title=\"psysml:56232501-f921-4851-b5f9-a91b366c1c7b\" xlink:actuate=\"onRequest\" xlink:href=\"psysml:56232501-f921-4851-b5f9-a91b366c1c7b\" xlink:show=\"new\" xlink:title=\"psysml:56232501-f921-4851-b5f9-a91b366c1c7b\" xlink:type=\"simple\"><path d=\"M718.99,130.46 C718.07,145.87 717.07,162.52 716.22,176.87 \" fill=\"none\" id=\"E4&lt;-E6\" style=\"stroke: #383838; stroke-width: 1.0;\"/><polygon fill=\"#FFFFFF\" points=\"719.77,117.33,715.4212,123.0822,719.0584,129.3089,723.4072,123.5566,719.77,117.33\" style=\"stroke: #383838; stroke-width: 1.0;\"/><text fill=\"#000000\" font-family=\"sans-serif\" font-size=\"13\" lengthAdjust=\"spacingAndGlyphs\" textLength=\"8\" x=\"707.9029\" y=\"165.8612\">1</text></a><!--MD5=[2351f337d6de0f557b50152ba70847b5]\n",
       "link E6 to E2--><a href=\"psysml:b3767e4f-9e3f-4162-9e5b-3e184cb0e1ab\" target=\"_top\" title=\"psysml:b3767e4f-9e3f-4162-9e5b-3e184cb0e1ab\" xlink:actuate=\"onRequest\" xlink:href=\"psysml:b3767e4f-9e3f-4162-9e5b-3e184cb0e1ab\" xlink:show=\"new\" xlink:title=\"psysml:b3767e4f-9e3f-4162-9e5b-3e184cb0e1ab\" xlink:type=\"simple\"><path d=\"M671.38,253.33 C655.05,267.63 636.14,284.19 618.63,299.52 \" fill=\"none\" id=\"E6-&gt;E2\" style=\"stroke: #383838; stroke-width: 1.0;\"/><polygon fill=\"#FFFFFF\" points=\"603.39,312.87,613.0639,295.0819,622.2922,305.6099,603.39,312.87\" style=\"stroke: #383838; stroke-width: 1.0;\"/><ellipse cx=\"618.6686\" cy=\"292.8287\" fill=\"#383838\" rx=\"2\" ry=\"2\" style=\"stroke: #383838; stroke-width: 1.0;\"/><ellipse cx=\"625.2602\" cy=\"300.3487\" fill=\"#383838\" rx=\"2\" ry=\"2\" style=\"stroke: #383838; stroke-width: 1.0;\"/></a><!--MD5=[bfa3c8b0d15052fdf50ae9310b491027]\n",
       "link E8 to E7--><a href=\"psysml:650eb0f7-ec08-4309-80b6-1e90e34b9690\" target=\"_top\" title=\"psysml:650eb0f7-ec08-4309-80b6-1e90e34b9690\" xlink:actuate=\"onRequest\" xlink:href=\"psysml:650eb0f7-ec08-4309-80b6-1e90e34b9690\" xlink:show=\"new\" xlink:title=\"psysml:650eb0f7-ec08-4309-80b6-1e90e34b9690\" xlink:type=\"simple\"><path d=\"M437.14,117.33 C410.96,136.93 379.11,160.77 353.59,179.87 \" fill=\"none\" id=\"E8-&gt;E7\" style=\"stroke: #383838; stroke-width: 1.0;\"/><polygon fill=\"#FFFFFF\" points=\"337.47,191.94,348.487,174.951,356.8758,186.1594,337.47,191.94\" style=\"stroke: #383838; stroke-width: 1.0;\"/><ellipse cx=\"354.2488\" cy=\"173.1368\" fill=\"#383838\" rx=\"2\" ry=\"2\" style=\"stroke: #383838; stroke-width: 1.0;\"/><ellipse cx=\"360.2408\" cy=\"181.1428\" fill=\"#383838\" rx=\"2\" ry=\"2\" style=\"stroke: #383838; stroke-width: 1.0;\"/></a><!--MD5=[08f8f4341f93bfa60360c54c785c547c]\n",
       "@startuml\r\n",
       "top to bottom direction\r\n",
       "skinparam monochrome true\r\n",
       "skinparam classbackgroundcolor white\r\n",
       "skinparam shadowing false\r\n",
       "skinparam wrapWidth 300\r\n",
       "hide circle\r\n",
       "\r\n",
       "package \"CalculationExample\" as E1  [[psysml:9a950c4d-df47-4bf2-a127-6824d456053c ]]  {\r\n",
       "comp def \"VehiclePart\" as E2  <<(T,blue) part  def>> [[psysml:240f00ab-b9bf-457e-9376-98b0b5e156bb ]] {\r\n",
       "- - attributes - -\r\n",
       "m: MassValue\r\n",
       "}\r\n",
       "comp def \"Vehicle\" as E3  <<(T,blue) part  def>> [[psysml:240db56f-6d8c-4faf-8b3c-f8974d12918d ]] {\r\n",
       "}\r\n",
       "comp usage \"vehicle: Vehicle \" as E4  <<(T,blue) part>> [[psysml:ce00e2ad-3315-43f7-b2e6-6ce884a27309 ]] {\r\n",
       "- - attributes - -\r\n",
       "^m: MassValue\r\n",
       "}\r\n",
       "comp usage \"eng: VehiclePart \" as E5  <<(T,blue) part>> [[psysml:83fc889d-b3c1-4be4-83aa-24728b198254 ]] {\r\n",
       "- - attributes - -\r\n",
       "^m: MassValue\r\n",
       "}\r\n",
       "comp usage \"trans: VehiclePart \" as E6  <<(T,blue) part>> [[psysml:9ad03ab5-4ba7-4600-8f6c-f33bd21910a1 ]] {\r\n",
       "- - attributes - -\r\n",
       "^m: MassValue\r\n",
       "}\r\n",
       "comp def \"MassSum\" as E7  <<(T,blue) calculation  def>> [[psysml:425e038d-47d6-48b2-bd42-a030f1074fc4 ]] {\r\n",
       "}\r\n",
       "comp usage \"ms: MassSum \" as E8  <<(T,blue) calculation>> [[psysml:e012d373-591a-4cf2-b53b-d810c6dd562d ]] {\r\n",
       "- - parameters - -\r\n",
       "<b>in</b> partMasses= (vehicle.eng.m, vehicle.trans.m); \r\n",
       "}\r\n",
       "comp usage \"vehicles \" as E9  <<(T,blue) part>> [[psysml:e4253433-368c-4e86-8a3c-6b186419df89 ]] {\r\n",
       "}\r\n",
       "comp usage \"masses1 \" as E10  <<(T,blue) attribute>> [[psysml:03468340-4ee1-4dfd-ba23-9337b31e6caf ]] {\r\n",
       "}\r\n",
       "comp usage \"masses2 \" as E11  <<(T,blue) attribute>> [[psysml:a35488ce-7eb0-470e-9ecc-f7a0c28bc139 ]] {\r\n",
       "}\r\n",
       "}\r\n",
       "E3 - -|> E2 [[psysml:2113862d-3e36-4f2a-be29-5fbeffc35ef5 ]] \r\n",
       "E4 - -:|> E3 [[psysml:3f6bcc61-006c-4905-be22-168150e04931 ]] \r\n",
       "E4 o- - \"1\"E5 [[psysml:dfe553ed-92b1-45a3-82b1-c875cfb3cf56 ]] \r\n",
       "E5 - -:|> E2 [[psysml:7cfd1003-3fe0-4a32-a3a1-13a5c8efedf2 ]] \r\n",
       "E4 o- - \"1\"E6 [[psysml:56232501-f921-4851-b5f9-a91b366c1c7b ]] \r\n",
       "E6 - -:|> E2 [[psysml:b3767e4f-9e3f-4162-9e5b-3e184cb0e1ab ]] \r\n",
       "E8 - -:|> E7 [[psysml:650eb0f7-ec08-4309-80b6-1e90e34b9690 ]] \r\n",
       "@enduml\r\n",
       "\n",
       "PlantUML version 1.2020.13(Sat Jun 13 12:26:38 UTC 2020)\n",
       "(EPL source distribution)\n",
       "Java Runtime: OpenJDK Runtime Environment\n",
       "JVM: OpenJDK 64-Bit Server VM\n",
       "Default Encoding: UTF-8\n",
       "Language: en\n",
       "Country: null\n",
       "--></g></svg>"
      ]
     },
     "execution_count": 45,
     "metadata": {},
     "output_type": "execute_result"
    }
   ],
   "source": [
    "%viz --style=\"TB\" --view=\"Tree\" \"CalculationExample\""
   ]
  },
  {
   "cell_type": "code",
   "execution_count": 46,
   "id": "20271f87",
   "metadata": {
    "execution": {
     "iopub.execute_input": "2022-08-19T08:22:04.368550Z",
     "iopub.status.busy": "2022-08-19T08:22:04.368107Z",
     "iopub.status.idle": "2022-08-19T08:22:04.381415Z",
     "shell.execute_reply": "2022-08-19T08:22:04.381041Z"
    }
   },
   "outputs": [
    {
     "data": {
      "image/svg+xml": [
       "<?xml version=\"1.0\" encoding=\"UTF-8\" standalone=\"no\"?><svg xmlns=\"http://www.w3.org/2000/svg\" xmlns:xlink=\"http://www.w3.org/1999/xlink\" contentScriptType=\"application/ecmascript\" contentStyleType=\"text/css\" height=\"12px\" preserveAspectRatio=\"none\" style=\"width:12px;height:12px;\" version=\"1.1\" viewBox=\"0 0 12 12\" width=\"12px\" zoomAndPan=\"magnify\"><defs/><g><!--MD5=[f4ee21bc66e489b5061b7c3e9601fdef]\n",
       "@startuml\r\n",
       "top to bottom direction\r\n",
       "skinparam monochrome true\r\n",
       "skinparam classbackgroundcolor white\r\n",
       "skinparam shadowing false\r\n",
       "skinparam wrapWidth 300\r\n",
       "hide circle\r\n",
       "\r\n",
       "@enduml\r\n",
       "\n",
       "PlantUML version 1.2020.13(Sat Jun 13 12:26:38 UTC 2020)\n",
       "(EPL source distribution)\n",
       "Java Runtime: OpenJDK Runtime Environment\n",
       "JVM: OpenJDK 64-Bit Server VM\n",
       "Default Encoding: UTF-8\n",
       "Language: en\n",
       "Country: null\n",
       "--></g></svg>"
      ]
     },
     "execution_count": 46,
     "metadata": {},
     "output_type": "execute_result"
    }
   ],
   "source": [
    "%viz --style=\"TB\" --view=\"State\" \"CalculationExample\""
   ]
  },
  {
   "cell_type": "code",
   "execution_count": 47,
   "id": "067f1da6",
   "metadata": {
    "execution": {
     "iopub.execute_input": "2022-08-19T08:22:04.431326Z",
     "iopub.status.busy": "2022-08-19T08:22:04.430884Z",
     "iopub.status.idle": "2022-08-19T08:22:04.516082Z",
     "shell.execute_reply": "2022-08-19T08:22:04.515675Z"
    }
   },
   "outputs": [
    {
     "data": {
      "image/svg+xml": [
       "<?xml version=\"1.0\" encoding=\"UTF-8\" standalone=\"no\"?><svg xmlns=\"http://www.w3.org/2000/svg\" xmlns:xlink=\"http://www.w3.org/1999/xlink\" contentScriptType=\"application/ecmascript\" contentStyleType=\"text/css\" height=\"581px\" preserveAspectRatio=\"none\" style=\"width:1649px;height:581px;\" version=\"1.1\" viewBox=\"0 0 1649 581\" width=\"1649px\" zoomAndPan=\"magnify\"><defs/><g><!--MD5=[fbc87193dbaf4d95561dea2c320d4a47]\n",
       "cluster E1--><a href=\"psysml:9a950c4d-df47-4bf2-a127-6824d456053c\" target=\"_top\" title=\"psysml:9a950c4d-df47-4bf2-a127-6824d456053c\" xlink:actuate=\"onRequest\" xlink:href=\"psysml:9a950c4d-df47-4bf2-a127-6824d456053c\" xlink:show=\"new\" xlink:title=\"psysml:9a950c4d-df47-4bf2-a127-6824d456053c\" xlink:type=\"simple\"><polygon fill=\"#FFFFFF\" points=\"16,6,155,6,162,28.2969,1627,28.2969,1627,569,16,569,16,6\" style=\"stroke: #000000; stroke-width: 1.5;\"/><line style=\"stroke: #000000; stroke-width: 1.5;\" x1=\"16\" x2=\"162\" y1=\"28.2969\" y2=\"28.2969\"/><text fill=\"#000000\" font-family=\"sans-serif\" font-size=\"14\" font-weight=\"bold\" lengthAdjust=\"spacingAndGlyphs\" textLength=\"133\" x=\"20\" y=\"20.9951\">CalculationExample</text></a><!--MD5=[e4f7fae6ed58524ba242bb0b0d3be6b7]\n",
       "cluster E2--><a href=\"psysml:240f00ab-b9bf-457e-9376-98b0b5e156bb\" target=\"_top\" title=\"psysml:240f00ab-b9bf-457e-9376-98b0b5e156bb\" xlink:actuate=\"onRequest\" xlink:href=\"psysml:240f00ab-b9bf-457e-9376-98b0b5e156bb\" xlink:show=\"new\" xlink:title=\"psysml:240f00ab-b9bf-457e-9376-98b0b5e156bb\" xlink:type=\"simple\"><rect fill=\"#FFFFFF\" height=\"129\" id=\"E2\" style=\"stroke: #383838; stroke-width: 1.5;\" width=\"163\" x=\"1169\" y=\"372\"/><rect fill=\"#F8F8F8\" height=\"37.9375\" style=\"stroke: #383838; stroke-width: 1.5;\" width=\"163\" x=\"1169\" y=\"372\"/><text fill=\"#000000\" font-family=\"sans-serif\" font-size=\"12\" font-style=\"italic\" lengthAdjust=\"spacingAndGlyphs\" textLength=\"68\" x=\"1216.5\" y=\"388.1387\">«part  def»</text><text fill=\"#000000\" font-family=\"sans-serif\" font-size=\"12\" lengthAdjust=\"spacingAndGlyphs\" textLength=\"71\" x=\"1215\" y=\"402.1074\">VehiclePart</text></a><!--MD5=[de5ec2e2e8f62f467e546659f5068c88]\n",
       "cluster E5--><a href=\"psysml:ce00e2ad-3315-43f7-b2e6-6ce884a27309\" target=\"_top\" title=\"psysml:ce00e2ad-3315-43f7-b2e6-6ce884a27309\" xlink:actuate=\"onRequest\" xlink:href=\"psysml:ce00e2ad-3315-43f7-b2e6-6ce884a27309\" xlink:show=\"new\" xlink:title=\"psysml:ce00e2ad-3315-43f7-b2e6-6ce884a27309\" xlink:type=\"simple\"><rect fill=\"#FFFFFF\" height=\"212\" id=\"E5\" rx=\"10\" ry=\"10\" style=\"stroke: #383838; stroke-width: 1.5;\" width=\"602\" x=\"993\" y=\"57\"/><rect fill=\"#F8F8F8\" height=\"23.9688\" rx=\"10\" ry=\"10\" style=\"stroke: #F8F8F8; stroke-width: 1.5;\" width=\"602\" x=\"993\" y=\"57\"/><rect fill=\"#F8F8F8\" height=\"10\" style=\"stroke: #F8F8F8; stroke-width: 1.5;\" width=\"602\" x=\"993\" y=\"70.9688\"/><rect fill=\"none\" height=\"212\" id=\"E5\" rx=\"10\" ry=\"10\" style=\"stroke: #383838; stroke-width: 1.5;\" width=\"602\" x=\"993\" y=\"57\"/><text fill=\"#000000\" font-family=\"sans-serif\" font-size=\"12\" lengthAdjust=\"spacingAndGlyphs\" textLength=\"96\" x=\"1246\" y=\"73.1387\">vehicle: Vehicle</text><line style=\"stroke: #383838; stroke-width: 1.0;\" x1=\"993\" x2=\"1595\" y1=\"80.9688\" y2=\"80.9688\"/></a><!--MD5=[14e3b0961a2654348d326746436168a1]\n",
       "cluster E6--><a href=\"psysml:83fc889d-b3c1-4be4-83aa-24728b198254\" target=\"_top\" title=\"psysml:83fc889d-b3c1-4be4-83aa-24728b198254\" xlink:actuate=\"onRequest\" xlink:href=\"psysml:83fc889d-b3c1-4be4-83aa-24728b198254\" xlink:show=\"new\" xlink:title=\"psysml:83fc889d-b3c1-4be4-83aa-24728b198254\" xlink:type=\"simple\"><rect fill=\"#FFFFFF\" height=\"113\" id=\"E6\" rx=\"10\" ry=\"10\" style=\"stroke: #383838; stroke-width: 1.5;\" width=\"173\" x=\"1169\" y=\"116\"/><rect fill=\"#F8F8F8\" height=\"23.9688\" rx=\"10\" ry=\"10\" style=\"stroke: #F8F8F8; stroke-width: 1.5;\" width=\"173\" x=\"1169\" y=\"116\"/><rect fill=\"#F8F8F8\" height=\"10\" style=\"stroke: #F8F8F8; stroke-width: 1.5;\" width=\"173\" x=\"1169\" y=\"129.9688\"/><rect fill=\"none\" height=\"113\" id=\"E6\" rx=\"10\" ry=\"10\" style=\"stroke: #383838; stroke-width: 1.5;\" width=\"173\" x=\"1169\" y=\"116\"/><text fill=\"#000000\" font-family=\"sans-serif\" font-size=\"12\" lengthAdjust=\"spacingAndGlyphs\" textLength=\"103\" x=\"1204\" y=\"132.1387\">eng: VehiclePart</text><line style=\"stroke: #383838; stroke-width: 1.0;\" x1=\"1169\" x2=\"1342\" y1=\"139.9688\" y2=\"139.9688\"/></a><!--MD5=[55dfccfc6c49c2d10cd1bd2211a6c90c]\n",
       "cluster E8--><a href=\"psysml:9ad03ab5-4ba7-4600-8f6c-f33bd21910a1\" target=\"_top\" title=\"psysml:9ad03ab5-4ba7-4600-8f6c-f33bd21910a1\" xlink:actuate=\"onRequest\" xlink:href=\"psysml:9ad03ab5-4ba7-4600-8f6c-f33bd21910a1\" xlink:show=\"new\" xlink:title=\"psysml:9ad03ab5-4ba7-4600-8f6c-f33bd21910a1\" xlink:type=\"simple\"><rect fill=\"#FFFFFF\" height=\"113\" id=\"E8\" rx=\"10\" ry=\"10\" style=\"stroke: #383838; stroke-width: 1.5;\" width=\"173\" x=\"1382\" y=\"116\"/><rect fill=\"#F8F8F8\" height=\"23.9688\" rx=\"10\" ry=\"10\" style=\"stroke: #F8F8F8; stroke-width: 1.5;\" width=\"173\" x=\"1382\" y=\"116\"/><rect fill=\"#F8F8F8\" height=\"10\" style=\"stroke: #F8F8F8; stroke-width: 1.5;\" width=\"173\" x=\"1382\" y=\"129.9688\"/><rect fill=\"none\" height=\"113\" id=\"E8\" rx=\"10\" ry=\"10\" style=\"stroke: #383838; stroke-width: 1.5;\" width=\"173\" x=\"1382\" y=\"116\"/><text fill=\"#000000\" font-family=\"sans-serif\" font-size=\"12\" lengthAdjust=\"spacingAndGlyphs\" textLength=\"112\" x=\"1412.5\" y=\"132.1387\">trans: VehiclePart</text><line style=\"stroke: #383838; stroke-width: 1.0;\" x1=\"1382\" x2=\"1555\" y1=\"139.9688\" y2=\"139.9688\"/></a><!--MD5=[917b9dd0c7eca3ee5f47219d1a84c0ad]\n",
       "cluster E11--><a href=\"psysml:425e038d-47d6-48b2-bd42-a030f1074fc4\" target=\"_top\" title=\"psysml:425e038d-47d6-48b2-bd42-a030f1074fc4\" xlink:actuate=\"onRequest\" xlink:href=\"psysml:425e038d-47d6-48b2-bd42-a030f1074fc4\" xlink:show=\"new\" xlink:title=\"psysml:425e038d-47d6-48b2-bd42-a030f1074fc4\" xlink:type=\"simple\"><rect fill=\"#FFFFFF\" height=\"349\" id=\"E11\" style=\"stroke: #383838; stroke-width: 1.5;\" width=\"186\" x=\"775\" y=\"182\"/><rect fill=\"#F8F8F8\" height=\"37.9375\" style=\"stroke: #383838; stroke-width: 1.5;\" width=\"186\" x=\"775\" y=\"182\"/><text fill=\"#000000\" font-family=\"sans-serif\" font-size=\"12\" font-style=\"italic\" lengthAdjust=\"spacingAndGlyphs\" textLength=\"110\" x=\"813\" y=\"198.1387\">«calculation  def»</text><text fill=\"#000000\" font-family=\"sans-serif\" font-size=\"12\" lengthAdjust=\"spacingAndGlyphs\" textLength=\"59\" x=\"838.5\" y=\"212.1074\">MassSum</text></a><!--MD5=[bee11217b2f71d958a27249dc326068c]\n",
       "class E14--><a href=\"psysml:e012d373-591a-4cf2-b53b-d810c6dd562d\" target=\"_top\" title=\"psysml:e012d373-591a-4cf2-b53b-d810c6dd562d\" xlink:actuate=\"onRequest\" xlink:href=\"psysml:e012d373-591a-4cf2-b53b-d810c6dd562d\" xlink:show=\"new\" xlink:title=\"psysml:e012d373-591a-4cf2-b53b-d810c6dd562d\" xlink:type=\"simple\"><rect fill=\"#FFFFFF\" height=\"75.5469\" id=\"E14\" rx=\"10\" ry=\"10\" style=\"stroke: #383838; stroke-width: 1.5;\" width=\"293\" x=\"465.5\" y=\"144\"/><text fill=\"#000000\" font-family=\"sans-serif\" font-size=\"12\" font-style=\"italic\" lengthAdjust=\"spacingAndGlyphs\" textLength=\"82\" x=\"571\" y=\"160.1387\">«calculation»</text><text fill=\"#000000\" font-family=\"sans-serif\" font-size=\"12\" lengthAdjust=\"spacingAndGlyphs\" textLength=\"85\" x=\"567.5\" y=\"174.1074\">ms: MassSum</text><line style=\"stroke: #383838; stroke-width: 1.5;\" x1=\"466.5\" x2=\"757.5\" y1=\"181.9375\" y2=\"181.9375\"/><text fill=\"#000000\" font-family=\"sans-serif\" font-size=\"11\" font-weight=\"bold\" lengthAdjust=\"spacingAndGlyphs\" textLength=\"10\" x=\"471.5\" y=\"212.9526\">in</text><text fill=\"#000000\" font-family=\"sans-serif\" font-size=\"11\" lengthAdjust=\"spacingAndGlyphs\" textLength=\"267\" x=\"485.5\" y=\"212.9526\">partMasses= (vehicle.eng.m, vehicle.trans.m);</text><line style=\"stroke: #383838; stroke-width: 1.0;\" x1=\"466.5\" x2=\"578.5\" y1=\"196.3398\" y2=\"196.3398\"/><text fill=\"#000000\" font-family=\"sans-serif\" font-size=\"11\" lengthAdjust=\"spacingAndGlyphs\" textLength=\"67\" x=\"578.5\" y=\"199.6479\">parameters</text><line style=\"stroke: #383838; stroke-width: 1.0;\" x1=\"645.5\" x2=\"757.5\" y1=\"196.3398\" y2=\"196.3398\"/></a><!--MD5=[35f0587eaee8d5bb9a02e25b63afc23b]\n",
       "class E16--><a href=\"psysml:03468340-4ee1-4dfd-ba23-9337b31e6caf\" target=\"_top\" title=\"psysml:03468340-4ee1-4dfd-ba23-9337b31e6caf\" xlink:actuate=\"onRequest\" xlink:href=\"psysml:03468340-4ee1-4dfd-ba23-9337b31e6caf\" xlink:show=\"new\" xlink:title=\"psysml:03468340-4ee1-4dfd-ba23-9337b31e6caf\" xlink:type=\"simple\"><rect fill=\"#FFFFFF\" height=\"45.9375\" id=\"E16\" rx=\"10\" ry=\"10\" style=\"stroke: #383838; stroke-width: 1.5;\" width=\"71\" x=\"359.5\" y=\"159\"/><text fill=\"#000000\" font-family=\"sans-serif\" font-size=\"12\" font-style=\"italic\" lengthAdjust=\"spacingAndGlyphs\" textLength=\"69\" x=\"360.5\" y=\"175.1387\">«attribute»</text><text fill=\"#000000\" font-family=\"sans-serif\" font-size=\"12\" lengthAdjust=\"spacingAndGlyphs\" textLength=\"56\" x=\"365\" y=\"189.1074\">masses1</text><line style=\"stroke: #383838; stroke-width: 1.5;\" x1=\"360.5\" x2=\"429.5\" y1=\"196.9375\" y2=\"196.9375\"/></a><!--MD5=[60e55a4a9b2f0dc0a36787c5a2095786]\n",
       "class E17--><a href=\"psysml:a35488ce-7eb0-470e-9ecc-f7a0c28bc139\" target=\"_top\" title=\"psysml:a35488ce-7eb0-470e-9ecc-f7a0c28bc139\" xlink:actuate=\"onRequest\" xlink:href=\"psysml:a35488ce-7eb0-470e-9ecc-f7a0c28bc139\" xlink:show=\"new\" xlink:title=\"psysml:a35488ce-7eb0-470e-9ecc-f7a0c28bc139\" xlink:type=\"simple\"><rect fill=\"#FFFFFF\" height=\"45.9375\" id=\"E17\" rx=\"10\" ry=\"10\" style=\"stroke: #383838; stroke-width: 1.5;\" width=\"71\" x=\"253.5\" y=\"159\"/><text fill=\"#000000\" font-family=\"sans-serif\" font-size=\"12\" font-style=\"italic\" lengthAdjust=\"spacingAndGlyphs\" textLength=\"69\" x=\"254.5\" y=\"175.1387\">«attribute»</text><text fill=\"#000000\" font-family=\"sans-serif\" font-size=\"12\" lengthAdjust=\"spacingAndGlyphs\" textLength=\"56\" x=\"259\" y=\"189.1074\">masses2</text><line style=\"stroke: #383838; stroke-width: 1.5;\" x1=\"254.5\" x2=\"323.5\" y1=\"196.9375\" y2=\"196.9375\"/></a><!--MD5=[09b614a08d8cba4a07c9adeb5e0fee81]\n",
       "class E3--><a href=\"psysml:3c3f6982-fe48-410d-a073-4745105d0bb1\" target=\"_top\" title=\"psysml:3c3f6982-fe48-410d-a073-4745105d0bb1\" xlink:actuate=\"onRequest\" xlink:href=\"psysml:3c3f6982-fe48-410d-a073-4745105d0bb1\" xlink:show=\"new\" xlink:title=\"psysml:3c3f6982-fe48-410d-a073-4745105d0bb1\" xlink:type=\"simple\"><rect fill=\"#FFFFFF\" height=\"45.9375\" id=\"E3\" rx=\"10\" ry=\"10\" style=\"stroke: #383838; stroke-width: 1.5;\" width=\"96\" x=\"1212\" y=\"431\"/><text fill=\"#000000\" font-family=\"sans-serif\" font-size=\"12\" font-style=\"italic\" lengthAdjust=\"spacingAndGlyphs\" textLength=\"69\" x=\"1225.5\" y=\"447.1387\">«attribute»</text><text fill=\"#000000\" font-family=\"sans-serif\" font-size=\"12\" lengthAdjust=\"spacingAndGlyphs\" textLength=\"86\" x=\"1215\" y=\"461.1074\">m: MassValue</text><line style=\"stroke: #383838; stroke-width: 1.5;\" x1=\"1213\" x2=\"1307\" y1=\"468.9375\" y2=\"468.9375\"/></a><g id=\"E1.E4\"><a href=\"psysml:240db56f-6d8c-4faf-8b3c-f8974d12918d\" target=\"_top\" title=\"psysml:240db56f-6d8c-4faf-8b3c-f8974d12918d\" xlink:actuate=\"onRequest\" xlink:href=\"psysml:240db56f-6d8c-4faf-8b3c-f8974d12918d\" xlink:show=\"new\" xlink:title=\"psysml:240db56f-6d8c-4faf-8b3c-f8974d12918d\" xlink:type=\"simple\"><rect fill=\"#FFFFFF\" height=\"42.9375\" id=\"E4\" style=\"stroke: #383838; stroke-width: 1.5;\" width=\"75\" x=\"1021.5\" y=\"305\"/><rect fill=\"#F8F8F8\" height=\"37.9375\" style=\"stroke: #383838; stroke-width: 1.5;\" width=\"75\" x=\"1021.5\" y=\"305\"/><text fill=\"#000000\" font-family=\"sans-serif\" font-size=\"12\" font-style=\"italic\" lengthAdjust=\"spacingAndGlyphs\" textLength=\"68\" x=\"1025\" y=\"321.1387\">«part  def»</text><text fill=\"#000000\" font-family=\"sans-serif\" font-size=\"12\" lengthAdjust=\"spacingAndGlyphs\" textLength=\"45\" x=\"1036.5\" y=\"335.1074\">Vehicle</text></a></g><!--MD5=[96f4274e9e20536e775497830990834d]\n",
       "class E10--><a href=\"psysml:3c3f6982-fe48-410d-a073-4745105d0bb1\" target=\"_top\" title=\"psysml:3c3f6982-fe48-410d-a073-4745105d0bb1\" xlink:actuate=\"onRequest\" xlink:href=\"psysml:3c3f6982-fe48-410d-a073-4745105d0bb1\" xlink:show=\"new\" xlink:title=\"psysml:3c3f6982-fe48-410d-a073-4745105d0bb1\" xlink:type=\"simple\"><rect fill=\"#FFFFFF\" height=\"45.9375\" id=\"E10\" rx=\"10\" ry=\"10\" style=\"stroke: #383838; stroke-width: 1.5;\" width=\"106\" x=\"1036\" y=\"159\"/><text fill=\"#000000\" font-family=\"sans-serif\" font-size=\"12\" font-style=\"italic\" lengthAdjust=\"spacingAndGlyphs\" textLength=\"69\" x=\"1054.5\" y=\"175.1387\">«attribute»</text><text fill=\"#000000\" font-family=\"sans-serif\" font-size=\"12\" lengthAdjust=\"spacingAndGlyphs\" textLength=\"96\" x=\"1039\" y=\"189.1074\">^m: MassValue</text><line style=\"stroke: #383838; stroke-width: 1.5;\" x1=\"1037\" x2=\"1141\" y1=\"196.9375\" y2=\"196.9375\"/></a><!--MD5=[2156ba9850f5573cc1fc38a6a4b2f02b]\n",
       "class E7--><a href=\"psysml:3c3f6982-fe48-410d-a073-4745105d0bb1\" target=\"_top\" title=\"psysml:3c3f6982-fe48-410d-a073-4745105d0bb1\" xlink:actuate=\"onRequest\" xlink:href=\"psysml:3c3f6982-fe48-410d-a073-4745105d0bb1\" xlink:show=\"new\" xlink:title=\"psysml:3c3f6982-fe48-410d-a073-4745105d0bb1\" xlink:type=\"simple\"><rect fill=\"#FFFFFF\" height=\"45.9375\" id=\"E7\" rx=\"10\" ry=\"10\" style=\"stroke: #383838; stroke-width: 1.5;\" width=\"106\" x=\"1212\" y=\"159\"/><text fill=\"#000000\" font-family=\"sans-serif\" font-size=\"12\" font-style=\"italic\" lengthAdjust=\"spacingAndGlyphs\" textLength=\"69\" x=\"1230.5\" y=\"175.1387\">«attribute»</text><text fill=\"#000000\" font-family=\"sans-serif\" font-size=\"12\" lengthAdjust=\"spacingAndGlyphs\" textLength=\"96\" x=\"1215\" y=\"189.1074\">^m: MassValue</text><line style=\"stroke: #383838; stroke-width: 1.5;\" x1=\"1213\" x2=\"1317\" y1=\"196.9375\" y2=\"196.9375\"/></a><!--MD5=[fd4143e9d270a159db93a4ea2a975926]\n",
       "class E9--><a href=\"psysml:3c3f6982-fe48-410d-a073-4745105d0bb1\" target=\"_top\" title=\"psysml:3c3f6982-fe48-410d-a073-4745105d0bb1\" xlink:actuate=\"onRequest\" xlink:href=\"psysml:3c3f6982-fe48-410d-a073-4745105d0bb1\" xlink:show=\"new\" xlink:title=\"psysml:3c3f6982-fe48-410d-a073-4745105d0bb1\" xlink:type=\"simple\"><rect fill=\"#FFFFFF\" height=\"45.9375\" id=\"E9\" rx=\"10\" ry=\"10\" style=\"stroke: #383838; stroke-width: 1.5;\" width=\"106\" x=\"1425\" y=\"159\"/><text fill=\"#000000\" font-family=\"sans-serif\" font-size=\"12\" font-style=\"italic\" lengthAdjust=\"spacingAndGlyphs\" textLength=\"69\" x=\"1443.5\" y=\"175.1387\">«attribute»</text><text fill=\"#000000\" font-family=\"sans-serif\" font-size=\"12\" lengthAdjust=\"spacingAndGlyphs\" textLength=\"96\" x=\"1428\" y=\"189.1074\">^m: MassValue</text><line style=\"stroke: #383838; stroke-width: 1.5;\" x1=\"1426\" x2=\"1530\" y1=\"196.9375\" y2=\"196.9375\"/></a><text fill=\"#000000\" font-family=\"sans-serif\" font-size=\"14\" lengthAdjust=\"spacingAndGlyphs\" textLength=\"80\" x=\"828\" y=\"160.6982\">partMasses</text><rect fill=\"#383838\" height=\"12\" style=\"stroke: #F8F8F8; stroke-width: 1.5;\" width=\"12\" x=\"862\" y=\"176\"/><text fill=\"#000000\" font-family=\"sans-serif\" font-size=\"14\" lengthAdjust=\"spacingAndGlyphs\" textLength=\"66\" x=\"835\" y=\"549.9951\">totalMass</text><rect fill=\"#383838\" height=\"12\" style=\"stroke: #F8F8F8; stroke-width: 1.5;\" width=\"12\" x=\"862\" y=\"525\"/><g id=\"E1.E15\"><a href=\"psysml:e4253433-368c-4e86-8a3c-6b186419df89\" target=\"_top\" title=\"psysml:e4253433-368c-4e86-8a3c-6b186419df89\" xlink:actuate=\"onRequest\" xlink:href=\"psysml:e4253433-368c-4e86-8a3c-6b186419df89\" xlink:show=\"new\" xlink:title=\"psysml:e4253433-368c-4e86-8a3c-6b186419df89\" xlink:type=\"simple\"><rect fill=\"#FFFFFF\" height=\"40\" id=\"E15\" rx=\"10\" ry=\"10\" style=\"stroke: #383838; stroke-width: 1.5;\" width=\"187\" x=\"31.5\" y=\"162\"/><rect fill=\"#F8F8F8\" height=\"23.9688\" rx=\"10\" ry=\"10\" style=\"stroke: #F8F8F8; stroke-width: 1.5;\" width=\"187\" x=\"31.5\" y=\"162\"/><rect fill=\"#F8F8F8\" height=\"10\" style=\"stroke: #F8F8F8; stroke-width: 1.5;\" width=\"187\" x=\"31.5\" y=\"175.9688\"/><rect fill=\"none\" height=\"40\" id=\"E15\" rx=\"10\" ry=\"10\" style=\"stroke: #383838; stroke-width: 1.5;\" width=\"187\" x=\"31.5\" y=\"162\"/><text fill=\"#000000\" font-family=\"sans-serif\" font-size=\"12\" lengthAdjust=\"spacingAndGlyphs\" textLength=\"172\" x=\"37\" y=\"178.1387\">vehicles= (vehicle, vehicle);</text></a></g><!--MD5=[185131fc0dcab0a4505a2ebe144e961b]\n",
       "link E4 to E2--><a href=\"psysml:2113862d-3e36-4f2a-be29-5fbeffc35ef5\" target=\"_top\" title=\"psysml:2113862d-3e36-4f2a-be29-5fbeffc35ef5\" xlink:actuate=\"onRequest\" xlink:href=\"psysml:2113862d-3e36-4f2a-be29-5fbeffc35ef5\" xlink:show=\"new\" xlink:title=\"psysml:2113862d-3e36-4f2a-be29-5fbeffc35ef5\" xlink:type=\"simple\"><path d=\"M1078.49,348.22 C1094.985,365.765 1119.1075,391.4225 1139.3525,412.9563 C1149.475,423.7231 1158.6281,433.4591 1165.3738,440.6345 C1166.217,441.5315 1167.0225,442.3884 1167.7877,443.2023 C1168.1703,443.6093 1168.5428,444.0055 1168.9048,444.3906 \" fill=\"none\" id=\"E4-&gt;E2\" style=\"stroke: #383838; stroke-width: 1.0;\"/><polygon fill=\"#FFFFFF\" points=\"1168.9048,444.3906,1160.9912,425.7526,1150.7908,435.3417,1168.9048,444.3906\" style=\"stroke: #383838; stroke-width: 1.0;\"/></a><!--MD5=[2351f337d6de0f557b50152ba70847b5]\n",
       "link E6 to E2--><a href=\"psysml:7cfd1003-3fe0-4a32-a3a1-13a5c8efedf2\" target=\"_top\" title=\"psysml:7cfd1003-3fe0-4a32-a3a1-13a5c8efedf2\" xlink:actuate=\"onRequest\" xlink:href=\"psysml:7cfd1003-3fe0-4a32-a3a1-13a5c8efedf2\" xlink:show=\"new\" xlink:title=\"psysml:7cfd1003-3fe0-4a32-a3a1-13a5c8efedf2\" xlink:type=\"simple\"><path d=\"M1177,229.9775 C1177,230.3824 1177,230.7892 1177,231.1978 C1177,232.8323 1177,234.4962 1177,236.1877 C1177,239.5706 1177,243.0635 1177,246.6507 C1177,253.8252 1177,261.3769 1177,269.1802 C1177,284.7866 1177,301.3991 1177,318.0113 C1177,334.6234 1177,351.2354 1177,366.8409 C1177,367.8163 1177,368.7877 1177,369.7549 C1177,370.2385 1177,370.7211 1177,371.2026 C1177,371.4434 1177,371.6838 1177,371.924 \" fill=\"none\" id=\"E6-&gt;E2\" style=\"stroke: #383838; stroke-width: 1.0;\"/><polygon fill=\"#FFFFFF\" points=\"1177,371.924,1170,352.924,1184,352.924,1177,371.924\" style=\"stroke: #383838; stroke-width: 1.0;\"/><ellipse cx=\"1172\" cy=\"347.224\" fill=\"#383838\" rx=\"2\" ry=\"2\" style=\"stroke: #383838; stroke-width: 1.0;\"/><ellipse cx=\"1182\" cy=\"347.224\" fill=\"#383838\" rx=\"2\" ry=\"2\" style=\"stroke: #383838; stroke-width: 1.0;\"/></a><!--MD5=[f1f3f9f2fc535e6147756cb86a7f2e32]\n",
       "link E8 to E2--><a href=\"psysml:b3767e4f-9e3f-4162-9e5b-3e184cb0e1ab\" target=\"_top\" title=\"psysml:b3767e4f-9e3f-4162-9e5b-3e184cb0e1ab\" xlink:actuate=\"onRequest\" xlink:href=\"psysml:b3767e4f-9e3f-4162-9e5b-3e184cb0e1ab\" xlink:show=\"new\" xlink:title=\"psysml:b3767e4f-9e3f-4162-9e5b-3e184cb0e1ab\" xlink:type=\"simple\"><path d=\"M1381.9641,205.9854 C1381.8551,206.2631 1381.7451,206.5424 1381.6339,206.8235 C1379.8552,211.3212 1377.7947,216.2591 1375.4538,221.4588 C1366.09,242.2575 1352.24,267.245 1334,285 C1284.58,333.11 1237.44,300.86 1196,356 C1192.7525,360.3212 1190.0166,365.0477 1187.7154,370.0141 C1187.4278,370.6349 1187.147,371.2595 1186.8728,371.8874 \" fill=\"none\" id=\"E8-&gt;E2\" style=\"stroke: #383838; stroke-width: 1.0;\"/><polygon fill=\"#FFFFFF\" points=\"1186.8728,371.8874,1188.0606,351.6739,1200.8908,357.276,1186.8728,371.8874\" style=\"stroke: #383838; stroke-width: 1.0;\"/><ellipse cx=\"1192.1743\" cy=\"347.2504\" fill=\"#383838\" rx=\"2\" ry=\"2\" style=\"stroke: #383838; stroke-width: 1.0;\"/><ellipse cx=\"1201.3388\" cy=\"351.252\" fill=\"#383838\" rx=\"2\" ry=\"2\" style=\"stroke: #383838; stroke-width: 1.0;\"/></a><!--MD5=[1c62de2aa5b76f0fb657ff8443a1a700]\n",
       "link E5 to E4--><a href=\"psysml:3f6bcc61-006c-4905-be22-168150e04931\" target=\"_top\" title=\"psysml:3f6bcc61-006c-4905-be22-168150e04931\" xlink:actuate=\"onRequest\" xlink:href=\"psysml:3f6bcc61-006c-4905-be22-168150e04931\" xlink:show=\"new\" xlink:title=\"psysml:3f6bcc61-006c-4905-be22-168150e04931\" xlink:type=\"simple\"><path d=\"M1013.2179,269.1075 C1015.1587,274.6072 1017.4038,279.955 1020,285 C1020.63,286.22 1021.31,287.43 1022.03,288.63 \" fill=\"none\" id=\"E5-&gt;E4\" style=\"stroke: #383838; stroke-width: 1.0;\"/><polygon fill=\"#FFFFFF\" points=\"1034.52,304.67,1017.3216,293.9828,1028.3661,285.3793,1034.52,304.67\" style=\"stroke: #383838; stroke-width: 1.0;\"/><ellipse cx=\"1015.3966\" cy=\"288.2571\" fill=\"#383838\" rx=\"2\" ry=\"2\" style=\"stroke: #383838; stroke-width: 1.0;\"/><ellipse cx=\"1023.2855\" cy=\"282.1117\" fill=\"#383838\" rx=\"2\" ry=\"2\" style=\"stroke: #383838; stroke-width: 1.0;\"/></a><!--MD5=[d00f01b66edb9b3ce8f530f77713355e]\n",
       "link E14 to E11--><a href=\"psysml:650eb0f7-ec08-4309-80b6-1e90e34b9690\" target=\"_top\" title=\"psysml:650eb0f7-ec08-4309-80b6-1e90e34b9690\" xlink:actuate=\"onRequest\" xlink:href=\"psysml:650eb0f7-ec08-4309-80b6-1e90e34b9690\" xlink:show=\"new\" xlink:title=\"psysml:650eb0f7-ec08-4309-80b6-1e90e34b9690\" xlink:type=\"simple\"><path d=\"M662.79,220.16 C692.31,240.8 730.74,266.05 767,285 C769.145,286.1213 771.3283,287.2317 773.5406,288.3297 C773.8172,288.4669 774.0942,288.604 774.3716,288.7408 C774.5103,288.8092 774.6492,288.8776 774.7881,288.9459 C774.8576,288.9801 774.9271,289.0142 774.9966,289.0484 \" fill=\"none\" id=\"E14-&gt;E11\" style=\"stroke: #383838; stroke-width: 1.0;\"/><polygon fill=\"#FFFFFF\" points=\"774.9966,289.0484,754.8564,286.9572,761.0272,274.3905,774.9966,289.0484\" style=\"stroke: #383838; stroke-width: 1.0;\"/><ellipse cx=\"750.6215\" cy=\"282.6495\" fill=\"#383838\" rx=\"2\" ry=\"2\" style=\"stroke: #383838; stroke-width: 1.0;\"/><ellipse cx=\"755.0292\" cy=\"273.6733\" fill=\"#383838\" rx=\"2\" ry=\"2\" style=\"stroke: #383838; stroke-width: 1.0;\"/></a><!--MD5=[25da66b49651a6b884e890f311107a56]\n",
       "@startuml\r\n",
       "skinparam ranksep 10\r\n",
       "skinparam rectangle {\r\n",
       " backgroundColor<<block>> LightGreen\r\n",
       "}\r\n",
       "top to bottom direction\r\n",
       "skinparam monochrome true\r\n",
       "skinparam classbackgroundcolor white\r\n",
       "skinparam shadowing false\r\n",
       "skinparam wrapWidth 300\r\n",
       "hide circle\r\n",
       "\r\n",
       "package \"CalculationExample\" as E1  [[psysml:9a950c4d-df47-4bf2-a127-6824d456053c ]]  {\r\n",
       "rec def \"VehiclePart\" as E2  <<(T,blue) part  def>> [[psysml:240f00ab-b9bf-457e-9376-98b0b5e156bb ]] {\r\n",
       "comp usage \"m: MassValue \" as E3  <<(T,blue) attribute>> [[psysml:3c3f6982-fe48-410d-a073-4745105d0bb1 ]] {\r\n",
       "}\r\n",
       "}\r\n",
       "rec def \"Vehicle\" as E4  <<(T,blue) part  def>> [[psysml:240db56f-6d8c-4faf-8b3c-f8974d12918d ]] {\r\n",
       "}\r\n",
       "rec usage \"vehicle: Vehicle\" as E5  [[psysml:ce00e2ad-3315-43f7-b2e6-6ce884a27309 ]] {\r\n",
       "rec usage \"eng: VehiclePart\" as E6  [[psysml:83fc889d-b3c1-4be4-83aa-24728b198254 ]] {\r\n",
       "comp usage \"^m: MassValue \" as E7  <<(T,blue) attribute>> [[psysml:3c3f6982-fe48-410d-a073-4745105d0bb1 ]] {\r\n",
       "}\r\n",
       "}\r\n",
       "rec usage \"trans: VehiclePart\" as E8  [[psysml:9ad03ab5-4ba7-4600-8f6c-f33bd21910a1 ]] {\r\n",
       "comp usage \"^m: MassValue \" as E9  <<(T,blue) attribute>> [[psysml:3c3f6982-fe48-410d-a073-4745105d0bb1 ]] {\r\n",
       "}\r\n",
       "}\r\n",
       "comp usage \"^m: MassValue \" as E10  <<(T,blue) attribute>> [[psysml:3c3f6982-fe48-410d-a073-4745105d0bb1 ]] {\r\n",
       "}\r\n",
       "}\r\n",
       "rec def \"MassSum\" as E11  <<(T,blue) calculation  def>> [[psysml:425e038d-47d6-48b2-bd42-a030f1074fc4 ]] {\r\n",
       "portin \"partMasses\" as E12  [[psysml:b45e328f-a4a8-4519-9228-274640d6e043 ]] \r\n",
       "portout \"totalMass\" as E13  [[psysml:712f9e49-cc72-40cc-a5b0-9958e3b93d47 ]] \r\n",
       "}\r\n",
       "\r\n",
       "comp usage \"ms: MassSum \" as E14  <<(T,blue) calculation>> [[psysml:e012d373-591a-4cf2-b53b-d810c6dd562d ]] {\r\n",
       "- - parameters - -\r\n",
       "<b>in</b> partMasses= (vehicle.eng.m, vehicle.trans.m); \r\n",
       "}\r\n",
       "rec usage \"vehicles= (vehicle, vehicle); \" as E15  [[psysml:e4253433-368c-4e86-8a3c-6b186419df89 ]] {\r\n",
       "}\r\n",
       "comp usage \"masses1 \" as E16  <<(T,blue) attribute>> [[psysml:03468340-4ee1-4dfd-ba23-9337b31e6caf ]] {\r\n",
       "}\r\n",
       "comp usage \"masses2 \" as E17  <<(T,blue) attribute>> [[psysml:a35488ce-7eb0-470e-9ecc-f7a0c28bc139 ]] {\r\n",
       "}\r\n",
       "}\r\n",
       "E4 - -|> E2 [[psysml:2113862d-3e36-4f2a-be29-5fbeffc35ef5 ]] \r\n",
       "E6 - -:|> E2 [[psysml:7cfd1003-3fe0-4a32-a3a1-13a5c8efedf2 ]] \r\n",
       "E8 - -:|> E2 [[psysml:b3767e4f-9e3f-4162-9e5b-3e184cb0e1ab ]] \r\n",
       "E5 - -:|> E4 [[psysml:3f6bcc61-006c-4905-be22-168150e04931 ]] \r\n",
       "E14 - -:|> E11 [[psysml:650eb0f7-ec08-4309-80b6-1e90e34b9690 ]] \r\n",
       "@enduml\r\n",
       "\n",
       "PlantUML version 1.2020.13(Sat Jun 13 12:26:38 UTC 2020)\n",
       "(EPL source distribution)\n",
       "Java Runtime: OpenJDK Runtime Environment\n",
       "JVM: OpenJDK 64-Bit Server VM\n",
       "Default Encoding: UTF-8\n",
       "Language: en\n",
       "Country: null\n",
       "--></g></svg>"
      ]
     },
     "execution_count": 47,
     "metadata": {},
     "output_type": "execute_result"
    }
   ],
   "source": [
    "%viz --style=\"TB\" --view=\"Interconnection\" \"CalculationExample\""
   ]
  },
  {
   "cell_type": "code",
   "execution_count": 48,
   "id": "ea70a97a",
   "metadata": {
    "execution": {
     "iopub.execute_input": "2022-08-19T08:22:04.565579Z",
     "iopub.status.busy": "2022-08-19T08:22:04.565137Z",
     "iopub.status.idle": "2022-08-19T08:22:04.601120Z",
     "shell.execute_reply": "2022-08-19T08:22:04.600744Z"
    }
   },
   "outputs": [
    {
     "data": {
      "image/svg+xml": [
       "<?xml version=\"1.0\" encoding=\"UTF-8\" standalone=\"no\"?><svg xmlns=\"http://www.w3.org/2000/svg\" xmlns:xlink=\"http://www.w3.org/1999/xlink\" contentScriptType=\"application/ecmascript\" contentStyleType=\"text/css\" height=\"162px\" preserveAspectRatio=\"none\" style=\"width:289px;height:162px;\" version=\"1.1\" viewBox=\"0 0 289 162\" width=\"289px\" zoomAndPan=\"magnify\"><defs/><g><!--MD5=[fbc87193dbaf4d95561dea2c320d4a47]\n",
       "cluster E1--><a href=\"psysml:425e038d-47d6-48b2-bd42-a030f1074fc4\" target=\"_top\" title=\"psysml:425e038d-47d6-48b2-bd42-a030f1074fc4\" xlink:actuate=\"onRequest\" xlink:href=\"psysml:425e038d-47d6-48b2-bd42-a030f1074fc4\" xlink:show=\"new\" xlink:title=\"psysml:425e038d-47d6-48b2-bd42-a030f1074fc4\" xlink:type=\"simple\"><rect fill=\"#FFFFFF\" height=\"87.72\" id=\"E1\" style=\"stroke: #383838; stroke-width: 1.5;\" width=\"131\" x=\"21\" y=\"42.0986\"/><rect fill=\"#F8F8F8\" height=\"37.9375\" style=\"stroke: #383838; stroke-width: 1.5;\" width=\"131\" x=\"21\" y=\"42.0986\"/><text fill=\"#000000\" font-family=\"sans-serif\" font-size=\"12\" font-style=\"italic\" lengthAdjust=\"spacingAndGlyphs\" textLength=\"110\" x=\"31.5\" y=\"58.2373\">«calculation  def»</text><text fill=\"#000000\" font-family=\"sans-serif\" font-size=\"12\" lengthAdjust=\"spacingAndGlyphs\" textLength=\"59\" x=\"57\" y=\"72.2061\">MassSum</text></a><!--MD5=[f6df4d0ebaf0b5dfb2ced0ae5af7c670]\n",
       "cluster E4--><a href=\"psysml:e012d373-591a-4cf2-b53b-d810c6dd562d\" target=\"_top\" title=\"psysml:e012d373-591a-4cf2-b53b-d810c6dd562d\" xlink:actuate=\"onRequest\" xlink:href=\"psysml:e012d373-591a-4cf2-b53b-d810c6dd562d\" xlink:show=\"new\" xlink:title=\"psysml:e012d373-591a-4cf2-b53b-d810c6dd562d\" xlink:type=\"simple\"><rect fill=\"#FFFFFF\" height=\"87.72\" id=\"E4\" rx=\"10\" ry=\"10\" style=\"stroke: #383838; stroke-width: 1.5;\" width=\"138\" x=\"139\" y=\"42.0986\"/><rect fill=\"#F8F8F8\" height=\"37.9375\" rx=\"10\" ry=\"10\" style=\"stroke: #F8F8F8; stroke-width: 1.5;\" width=\"138\" x=\"139\" y=\"42.0986\"/><rect fill=\"#F8F8F8\" height=\"10\" style=\"stroke: #F8F8F8; stroke-width: 1.5;\" width=\"138\" x=\"139\" y=\"70.0361\"/><rect fill=\"none\" height=\"87.72\" id=\"E4\" rx=\"10\" ry=\"10\" style=\"stroke: #383838; stroke-width: 1.5;\" width=\"138\" x=\"139\" y=\"42.0986\"/><text fill=\"#000000\" font-family=\"sans-serif\" font-size=\"12\" font-style=\"italic\" lengthAdjust=\"spacingAndGlyphs\" textLength=\"82\" x=\"167\" y=\"58.2373\">«calculation»</text><text fill=\"#000000\" font-family=\"sans-serif\" font-size=\"12\" lengthAdjust=\"spacingAndGlyphs\" textLength=\"18\" x=\"199\" y=\"72.2061\">ms</text><line style=\"stroke: #383838; stroke-width: 1.0;\" x1=\"139\" x2=\"277\" y1=\"80.0361\" y2=\"80.0361\"/></a><text fill=\"#000000\" font-family=\"sans-serif\" font-size=\"14\" lengthAdjust=\"spacingAndGlyphs\" textLength=\"80\" x=\"6\" y=\"20.7969\">partMasses</text><rect fill=\"#383838\" height=\"12\" style=\"stroke: #F8F8F8; stroke-width: 1.5;\" width=\"12\" x=\"40\" y=\"36.0986\"/><text fill=\"#000000\" font-family=\"sans-serif\" font-size=\"14\" lengthAdjust=\"spacingAndGlyphs\" textLength=\"66\" x=\"9\" y=\"148.8138\">totalMass</text><rect fill=\"#383838\" height=\"12\" style=\"stroke: #F8F8F8; stroke-width: 1.5;\" width=\"12\" x=\"36\" y=\"123.8186\"/><text fill=\"#000000\" font-family=\"sans-serif\" font-size=\"14\" lengthAdjust=\"spacingAndGlyphs\" textLength=\"80\" x=\"168\" y=\"20.7969\">partMasses</text><rect fill=\"#383838\" height=\"12\" style=\"stroke: #F8F8F8; stroke-width: 1.5;\" width=\"12\" x=\"202\" y=\"36.0986\"/><text fill=\"#000000\" font-family=\"sans-serif\" font-size=\"14\" lengthAdjust=\"spacingAndGlyphs\" textLength=\"66\" x=\"175\" y=\"148.8138\">totalMass</text><rect fill=\"#383838\" height=\"12\" style=\"stroke: #F8F8F8; stroke-width: 1.5;\" width=\"12\" x=\"202\" y=\"123.8186\"/><!--MD5=[8feadcc916c8dbf3cceb3166301cee13]\n",
       "@startuml\r\n",
       "skinparam ranksep 8\r\n",
       "top to bottom direction\r\n",
       "skinparam monochrome true\r\n",
       "skinparam classbackgroundcolor white\r\n",
       "skinparam shadowing false\r\n",
       "skinparam wrapWidth 300\r\n",
       "hide circle\r\n",
       "\r\n",
       "rec def \"MassSum\" as E1  <<(T,blue) calculation  def>> [[psysml:425e038d-47d6-48b2-bd42-a030f1074fc4 ]] {\r\n",
       "portin \"partMasses\" as E2  [[psysml:b45e328f-a4a8-4519-9228-274640d6e043 ]] \r\n",
       "portout \"totalMass\" as E3  [[psysml:712f9e49-cc72-40cc-a5b0-9958e3b93d47 ]] \r\n",
       "}\r\n",
       "\r\n",
       "rec usage \"ms\" as E4  <<(T,blue) calculation>> [[psysml:e012d373-591a-4cf2-b53b-d810c6dd562d ]] {\r\n",
       "portin \"partMasses\" as E5  [[psysml:424ec83f-37c8-4393-891d-04f2e8383abc ]] \r\n",
       "portout \"totalMass\" as E6  [[psysml:be56ca6e-4eba-4c60-ba38-91b20c3832b5 ]] \r\n",
       "}\r\n",
       "\r\n",
       "@enduml\r\n",
       "\n",
       "PlantUML version 1.2020.13(Sat Jun 13 12:26:38 UTC 2020)\n",
       "(EPL source distribution)\n",
       "Java Runtime: OpenJDK Runtime Environment\n",
       "JVM: OpenJDK 64-Bit Server VM\n",
       "Default Encoding: UTF-8\n",
       "Language: en\n",
       "Country: null\n",
       "--></g></svg>"
      ]
     },
     "execution_count": 48,
     "metadata": {},
     "output_type": "execute_result"
    }
   ],
   "source": [
    "%viz --style=\"TB\" --view=\"Action\" \"CalculationExample\""
   ]
  },
  {
   "cell_type": "code",
   "execution_count": 49,
   "id": "f59afe39",
   "metadata": {
    "execution": {
     "iopub.execute_input": "2022-08-19T08:22:04.651090Z",
     "iopub.status.busy": "2022-08-19T08:22:04.650648Z",
     "iopub.status.idle": "2022-08-19T08:22:04.665021Z",
     "shell.execute_reply": "2022-08-19T08:22:04.664649Z"
    }
   },
   "outputs": [
    {
     "data": {
      "image/svg+xml": [
       "<?xml version=\"1.0\" encoding=\"UTF-8\" standalone=\"no\"?><svg xmlns=\"http://www.w3.org/2000/svg\" xmlns:xlink=\"http://www.w3.org/1999/xlink\" contentScriptType=\"application/ecmascript\" contentStyleType=\"text/css\" height=\"12px\" preserveAspectRatio=\"none\" style=\"width:12px;height:12px;\" version=\"1.1\" viewBox=\"0 0 12 12\" width=\"12px\" zoomAndPan=\"magnify\"><defs/><g><!--MD5=[e1ab0c84c44d2fef8bf5f140f2689906]\n",
       "@startuml\r\n",
       "skinparam roundcorner 20\r\n",
       "skinparam BoxPadding 20\r\n",
       "skinparam SequenceBoxBackgroundColor #white\r\n",
       "skinparam style strictuml\r\n",
       "skinparam maxMessageSize 100\r\n",
       "top to bottom direction\r\n",
       "skinparam monochrome true\r\n",
       "skinparam classbackgroundcolor white\r\n",
       "skinparam shadowing false\r\n",
       "skinparam wrapWidth 300\r\n",
       "hide circle\r\n",
       "\r\n",
       "@enduml\r\n",
       "\n",
       "PlantUML version 1.2020.13(Sat Jun 13 12:26:38 UTC 2020)\n",
       "(EPL source distribution)\n",
       "Java Runtime: OpenJDK Runtime Environment\n",
       "JVM: OpenJDK 64-Bit Server VM\n",
       "Default Encoding: UTF-8\n",
       "Language: en\n",
       "Country: null\n",
       "--></g></svg>"
      ]
     },
     "execution_count": 49,
     "metadata": {},
     "output_type": "execute_result"
    }
   ],
   "source": [
    "%viz --style=\"TB\" --view=\"Sequence\" \"CalculationExample\""
   ]
  },
  {
   "cell_type": "code",
   "execution_count": 50,
   "id": "9f5c2384",
   "metadata": {
    "execution": {
     "iopub.execute_input": "2022-08-19T08:22:04.715159Z",
     "iopub.status.busy": "2022-08-19T08:22:04.714718Z",
     "iopub.status.idle": "2022-08-19T08:22:04.813022Z",
     "shell.execute_reply": "2022-08-19T08:22:04.811536Z"
    }
   },
   "outputs": [
    {
     "data": {
      "image/svg+xml": [
       "<?xml version=\"1.0\" encoding=\"UTF-8\" standalone=\"no\"?><svg xmlns=\"http://www.w3.org/2000/svg\" xmlns:xlink=\"http://www.w3.org/1999/xlink\" contentScriptType=\"application/ecmascript\" contentStyleType=\"text/css\" height=\"505px\" preserveAspectRatio=\"none\" style=\"width:1266px;height:505px;\" version=\"1.1\" viewBox=\"0 0 1266 505\" width=\"1266px\" zoomAndPan=\"magnify\"><defs/><g><!--MD5=[fbc87193dbaf4d95561dea2c320d4a47]\n",
       "cluster E1--><a href=\"psysml:9a950c4d-df47-4bf2-a127-6824d456053c\" target=\"_top\" title=\"psysml:9a950c4d-df47-4bf2-a127-6824d456053c\" xlink:actuate=\"onRequest\" xlink:href=\"psysml:9a950c4d-df47-4bf2-a127-6824d456053c\" xlink:show=\"new\" xlink:title=\"psysml:9a950c4d-df47-4bf2-a127-6824d456053c\" xlink:type=\"simple\"><polygon fill=\"#FFFFFF\" points=\"16,6,155,6,162,28.2969,1244,28.2969,1244,493,16,493,16,6\" style=\"stroke: #000000; stroke-width: 1.5;\"/><line style=\"stroke: #000000; stroke-width: 1.5;\" x1=\"16\" x2=\"162\" y1=\"28.2969\" y2=\"28.2969\"/><text fill=\"#000000\" font-family=\"sans-serif\" font-size=\"14\" font-weight=\"bold\" lengthAdjust=\"spacingAndGlyphs\" textLength=\"133\" x=\"20\" y=\"20.9951\">CalculationExample</text></a><!--MD5=[168fadf3d0c3fd93dd5d6da1b1d7ab76]\n",
       "cluster E7--><a href=\"psysml:425e038d-47d6-48b2-bd42-a030f1074fc4\" target=\"_top\" title=\"psysml:425e038d-47d6-48b2-bd42-a030f1074fc4\" xlink:actuate=\"onRequest\" xlink:href=\"psysml:425e038d-47d6-48b2-bd42-a030f1074fc4\" xlink:show=\"new\" xlink:title=\"psysml:425e038d-47d6-48b2-bd42-a030f1074fc4\" xlink:type=\"simple\"><rect fill=\"#FFFFFF\" height=\"376\" id=\"E7\" style=\"stroke: #383838; stroke-width: 1.5;\" width=\"186\" x=\"650\" y=\"79\"/><rect fill=\"#F8F8F8\" height=\"37.9375\" style=\"stroke: #383838; stroke-width: 1.5;\" width=\"186\" x=\"650\" y=\"79\"/><text fill=\"#000000\" font-family=\"sans-serif\" font-size=\"12\" font-style=\"italic\" lengthAdjust=\"spacingAndGlyphs\" textLength=\"110\" x=\"688\" y=\"95.1387\">«calculation  def»</text><text fill=\"#000000\" font-family=\"sans-serif\" font-size=\"12\" lengthAdjust=\"spacingAndGlyphs\" textLength=\"59\" x=\"713.5\" y=\"109.1074\">MassSum</text></a><!--MD5=[b4997ac47864f28c2f74865a473b2911]\n",
       "class E2--><a href=\"psysml:240f00ab-b9bf-457e-9376-98b0b5e156bb\" target=\"_top\" title=\"psysml:240f00ab-b9bf-457e-9376-98b0b5e156bb\" xlink:actuate=\"onRequest\" xlink:href=\"psysml:240f00ab-b9bf-457e-9376-98b0b5e156bb\" xlink:show=\"new\" xlink:title=\"psysml:240f00ab-b9bf-457e-9376-98b0b5e156bb\" xlink:type=\"simple\"><rect fill=\"#FFFFFF\" height=\"75.5469\" id=\"E2\" style=\"stroke: #383838; stroke-width: 1.5;\" width=\"92\" x=\"968\" y=\"313\"/><text fill=\"#000000\" font-family=\"sans-serif\" font-size=\"12\" font-style=\"italic\" lengthAdjust=\"spacingAndGlyphs\" textLength=\"68\" x=\"980\" y=\"329.1387\">«part  def»</text><text fill=\"#000000\" font-family=\"sans-serif\" font-size=\"12\" lengthAdjust=\"spacingAndGlyphs\" textLength=\"71\" x=\"978.5\" y=\"343.1074\">VehiclePart</text><line style=\"stroke: #383838; stroke-width: 1.5;\" x1=\"969\" x2=\"1059\" y1=\"350.9375\" y2=\"350.9375\"/><text fill=\"#000000\" font-family=\"sans-serif\" font-size=\"11\" lengthAdjust=\"spacingAndGlyphs\" textLength=\"80\" x=\"974\" y=\"381.9526\">m: MassValue</text><line style=\"stroke: #383838; stroke-width: 1.0;\" x1=\"969\" x2=\"986.5\" y1=\"365.3398\" y2=\"365.3398\"/><text fill=\"#000000\" font-family=\"sans-serif\" font-size=\"11\" lengthAdjust=\"spacingAndGlyphs\" textLength=\"55\" x=\"986.5\" y=\"368.6479\">attributes</text><line style=\"stroke: #383838; stroke-width: 1.0;\" x1=\"1041.5\" x2=\"1059\" y1=\"365.3398\" y2=\"365.3398\"/></a><!--MD5=[09b614a08d8cba4a07c9adeb5e0fee81]\n",
       "class E3--><a href=\"psysml:240db56f-6d8c-4faf-8b3c-f8974d12918d\" target=\"_top\" title=\"psysml:240db56f-6d8c-4faf-8b3c-f8974d12918d\" xlink:actuate=\"onRequest\" xlink:href=\"psysml:240db56f-6d8c-4faf-8b3c-f8974d12918d\" xlink:show=\"new\" xlink:title=\"psysml:240db56f-6d8c-4faf-8b3c-f8974d12918d\" xlink:type=\"simple\"><rect fill=\"#FFFFFF\" height=\"45.9375\" id=\"E3\" style=\"stroke: #383838; stroke-width: 1.5;\" width=\"70\" x=\"852\" y=\"192\"/><text fill=\"#000000\" font-family=\"sans-serif\" font-size=\"12\" font-style=\"italic\" lengthAdjust=\"spacingAndGlyphs\" textLength=\"68\" x=\"853\" y=\"208.1387\">«part  def»</text><text fill=\"#000000\" font-family=\"sans-serif\" font-size=\"12\" lengthAdjust=\"spacingAndGlyphs\" textLength=\"45\" x=\"864.5\" y=\"222.1074\">Vehicle</text><line style=\"stroke: #383838; stroke-width: 1.5;\" x1=\"853\" x2=\"921\" y1=\"229.9375\" y2=\"229.9375\"/></a><!--MD5=[ebbe1d658d1005bcc118a6aa81145e00]\n",
       "class E4--><a href=\"psysml:ce00e2ad-3315-43f7-b2e6-6ce884a27309\" target=\"_top\" title=\"psysml:ce00e2ad-3315-43f7-b2e6-6ce884a27309\" xlink:actuate=\"onRequest\" xlink:href=\"psysml:ce00e2ad-3315-43f7-b2e6-6ce884a27309\" xlink:show=\"new\" xlink:title=\"psysml:ce00e2ad-3315-43f7-b2e6-6ce884a27309\" xlink:type=\"simple\"><rect fill=\"#FFFFFF\" height=\"75.5469\" id=\"E4\" rx=\"10\" ry=\"10\" style=\"stroke: #383838; stroke-width: 1.5;\" width=\"106\" x=\"961\" y=\"41\"/><text fill=\"#000000\" font-family=\"sans-serif\" font-size=\"12\" font-style=\"italic\" lengthAdjust=\"spacingAndGlyphs\" textLength=\"40\" x=\"994\" y=\"57.1387\">«part»</text><text fill=\"#000000\" font-family=\"sans-serif\" font-size=\"12\" lengthAdjust=\"spacingAndGlyphs\" textLength=\"96\" x=\"964\" y=\"71.1074\">vehicle: Vehicle</text><line style=\"stroke: #383838; stroke-width: 1.5;\" x1=\"962\" x2=\"1066\" y1=\"78.9375\" y2=\"78.9375\"/><text fill=\"#000000\" font-family=\"sans-serif\" font-size=\"11\" lengthAdjust=\"spacingAndGlyphs\" textLength=\"89\" x=\"967\" y=\"109.9526\">^m: MassValue</text><line style=\"stroke: #383838; stroke-width: 1.0;\" x1=\"962\" x2=\"986.5\" y1=\"93.3398\" y2=\"93.3398\"/><text fill=\"#000000\" font-family=\"sans-serif\" font-size=\"11\" lengthAdjust=\"spacingAndGlyphs\" textLength=\"55\" x=\"986.5\" y=\"96.6479\">attributes</text><line style=\"stroke: #383838; stroke-width: 1.0;\" x1=\"1041.5\" x2=\"1066\" y1=\"93.3398\" y2=\"93.3398\"/></a><!--MD5=[270fce915f116d4de14055a7c1d9a0f3]\n",
       "class E5--><a href=\"psysml:83fc889d-b3c1-4be4-83aa-24728b198254\" target=\"_top\" title=\"psysml:83fc889d-b3c1-4be4-83aa-24728b198254\" xlink:actuate=\"onRequest\" xlink:href=\"psysml:83fc889d-b3c1-4be4-83aa-24728b198254\" xlink:show=\"new\" xlink:title=\"psysml:83fc889d-b3c1-4be4-83aa-24728b198254\" xlink:type=\"simple\"><rect fill=\"#FFFFFF\" height=\"75.5469\" id=\"E5\" rx=\"10\" ry=\"10\" style=\"stroke: #383838; stroke-width: 1.5;\" width=\"113\" x=\"957.5\" y=\"177\"/><text fill=\"#000000\" font-family=\"sans-serif\" font-size=\"12\" font-style=\"italic\" lengthAdjust=\"spacingAndGlyphs\" textLength=\"40\" x=\"994\" y=\"193.1387\">«part»</text><text fill=\"#000000\" font-family=\"sans-serif\" font-size=\"12\" lengthAdjust=\"spacingAndGlyphs\" textLength=\"103\" x=\"960.5\" y=\"207.1074\">eng: VehiclePart</text><line style=\"stroke: #383838; stroke-width: 1.5;\" x1=\"958.5\" x2=\"1069.5\" y1=\"214.9375\" y2=\"214.9375\"/><text fill=\"#000000\" font-family=\"sans-serif\" font-size=\"11\" lengthAdjust=\"spacingAndGlyphs\" textLength=\"89\" x=\"963.5\" y=\"245.9526\">^m: MassValue</text><line style=\"stroke: #383838; stroke-width: 1.0;\" x1=\"958.5\" x2=\"986.5\" y1=\"229.3398\" y2=\"229.3398\"/><text fill=\"#000000\" font-family=\"sans-serif\" font-size=\"11\" lengthAdjust=\"spacingAndGlyphs\" textLength=\"55\" x=\"986.5\" y=\"232.6479\">attributes</text><line style=\"stroke: #383838; stroke-width: 1.0;\" x1=\"1041.5\" x2=\"1069.5\" y1=\"229.3398\" y2=\"229.3398\"/></a><!--MD5=[60a26617385b1d2d0262a64233df1f8d]\n",
       "class E6--><a href=\"psysml:9ad03ab5-4ba7-4600-8f6c-f33bd21910a1\" target=\"_top\" title=\"psysml:9ad03ab5-4ba7-4600-8f6c-f33bd21910a1\" xlink:actuate=\"onRequest\" xlink:href=\"psysml:9ad03ab5-4ba7-4600-8f6c-f33bd21910a1\" xlink:show=\"new\" xlink:title=\"psysml:9ad03ab5-4ba7-4600-8f6c-f33bd21910a1\" xlink:type=\"simple\"><rect fill=\"#FFFFFF\" height=\"75.5469\" id=\"E6\" rx=\"10\" ry=\"10\" style=\"stroke: #383838; stroke-width: 1.5;\" width=\"122\" x=\"1106\" y=\"177\"/><text fill=\"#000000\" font-family=\"sans-serif\" font-size=\"12\" font-style=\"italic\" lengthAdjust=\"spacingAndGlyphs\" textLength=\"40\" x=\"1147\" y=\"193.1387\">«part»</text><text fill=\"#000000\" font-family=\"sans-serif\" font-size=\"12\" lengthAdjust=\"spacingAndGlyphs\" textLength=\"112\" x=\"1109\" y=\"207.1074\">trans: VehiclePart</text><line style=\"stroke: #383838; stroke-width: 1.5;\" x1=\"1107\" x2=\"1227\" y1=\"214.9375\" y2=\"214.9375\"/><text fill=\"#000000\" font-family=\"sans-serif\" font-size=\"11\" lengthAdjust=\"spacingAndGlyphs\" textLength=\"89\" x=\"1112\" y=\"245.9526\">^m: MassValue</text><line style=\"stroke: #383838; stroke-width: 1.0;\" x1=\"1107\" x2=\"1139.5\" y1=\"229.3398\" y2=\"229.3398\"/><text fill=\"#000000\" font-family=\"sans-serif\" font-size=\"11\" lengthAdjust=\"spacingAndGlyphs\" textLength=\"55\" x=\"1139.5\" y=\"232.6479\">attributes</text><line style=\"stroke: #383838; stroke-width: 1.0;\" x1=\"1194.5\" x2=\"1227\" y1=\"229.3398\" y2=\"229.3398\"/></a><!--MD5=[96f4274e9e20536e775497830990834d]\n",
       "class E10--><a href=\"psysml:e012d373-591a-4cf2-b53b-d810c6dd562d\" target=\"_top\" title=\"psysml:e012d373-591a-4cf2-b53b-d810c6dd562d\" xlink:actuate=\"onRequest\" xlink:href=\"psysml:e012d373-591a-4cf2-b53b-d810c6dd562d\" xlink:show=\"new\" xlink:title=\"psysml:e012d373-591a-4cf2-b53b-d810c6dd562d\" xlink:type=\"simple\"><rect fill=\"#FFFFFF\" height=\"75.5469\" id=\"E10\" rx=\"10\" ry=\"10\" style=\"stroke: #383838; stroke-width: 1.5;\" width=\"293\" x=\"340.5\" y=\"41\"/><text fill=\"#000000\" font-family=\"sans-serif\" font-size=\"12\" font-style=\"italic\" lengthAdjust=\"spacingAndGlyphs\" textLength=\"82\" x=\"446\" y=\"57.1387\">«calculation»</text><text fill=\"#000000\" font-family=\"sans-serif\" font-size=\"12\" lengthAdjust=\"spacingAndGlyphs\" textLength=\"85\" x=\"442.5\" y=\"71.1074\">ms: MassSum</text><line style=\"stroke: #383838; stroke-width: 1.5;\" x1=\"341.5\" x2=\"632.5\" y1=\"78.9375\" y2=\"78.9375\"/><text fill=\"#000000\" font-family=\"sans-serif\" font-size=\"11\" font-weight=\"bold\" lengthAdjust=\"spacingAndGlyphs\" textLength=\"10\" x=\"346.5\" y=\"109.9526\">in</text><text fill=\"#000000\" font-family=\"sans-serif\" font-size=\"11\" lengthAdjust=\"spacingAndGlyphs\" textLength=\"267\" x=\"360.5\" y=\"109.9526\">partMasses= (vehicle.eng.m, vehicle.trans.m);</text><line style=\"stroke: #383838; stroke-width: 1.0;\" x1=\"341.5\" x2=\"453.5\" y1=\"93.3398\" y2=\"93.3398\"/><text fill=\"#000000\" font-family=\"sans-serif\" font-size=\"11\" lengthAdjust=\"spacingAndGlyphs\" textLength=\"67\" x=\"453.5\" y=\"96.6479\">parameters</text><line style=\"stroke: #383838; stroke-width: 1.0;\" x1=\"520.5\" x2=\"632.5\" y1=\"93.3398\" y2=\"93.3398\"/></a><!--MD5=[1dd1bfd58a279cf63c5f349dbc8fc6a1]\n",
       "class E11--><a href=\"psysml:e4253433-368c-4e86-8a3c-6b186419df89\" target=\"_top\" title=\"psysml:e4253433-368c-4e86-8a3c-6b186419df89\" xlink:actuate=\"onRequest\" xlink:href=\"psysml:e4253433-368c-4e86-8a3c-6b186419df89\" xlink:show=\"new\" xlink:title=\"psysml:e4253433-368c-4e86-8a3c-6b186419df89\" xlink:type=\"simple\"><rect fill=\"#FFFFFF\" height=\"45.9375\" id=\"E11\" rx=\"10\" ry=\"10\" style=\"stroke: #383838; stroke-width: 1.5;\" width=\"60\" x=\"245\" y=\"56\"/><text fill=\"#000000\" font-family=\"sans-serif\" font-size=\"12\" font-style=\"italic\" lengthAdjust=\"spacingAndGlyphs\" textLength=\"40\" x=\"255\" y=\"72.1387\">«part»</text><text fill=\"#000000\" font-family=\"sans-serif\" font-size=\"12\" lengthAdjust=\"spacingAndGlyphs\" textLength=\"50\" x=\"248\" y=\"86.1074\">vehicles</text><line style=\"stroke: #383838; stroke-width: 1.5;\" x1=\"246\" x2=\"304\" y1=\"93.9375\" y2=\"93.9375\"/></a><!--MD5=[49a0ec8f00dab7302a31f22d0f0fe584]\n",
       "class E12--><a href=\"psysml:03468340-4ee1-4dfd-ba23-9337b31e6caf\" target=\"_top\" title=\"psysml:03468340-4ee1-4dfd-ba23-9337b31e6caf\" xlink:actuate=\"onRequest\" xlink:href=\"psysml:03468340-4ee1-4dfd-ba23-9337b31e6caf\" xlink:show=\"new\" xlink:title=\"psysml:03468340-4ee1-4dfd-ba23-9337b31e6caf\" xlink:type=\"simple\"><rect fill=\"#FFFFFF\" height=\"45.9375\" id=\"E12\" rx=\"10\" ry=\"10\" style=\"stroke: #383838; stroke-width: 1.5;\" width=\"71\" x=\"138.5\" y=\"56\"/><text fill=\"#000000\" font-family=\"sans-serif\" font-size=\"12\" font-style=\"italic\" lengthAdjust=\"spacingAndGlyphs\" textLength=\"69\" x=\"139.5\" y=\"72.1387\">«attribute»</text><text fill=\"#000000\" font-family=\"sans-serif\" font-size=\"12\" lengthAdjust=\"spacingAndGlyphs\" textLength=\"56\" x=\"144\" y=\"86.1074\">masses1</text><line style=\"stroke: #383838; stroke-width: 1.5;\" x1=\"139.5\" x2=\"208.5\" y1=\"93.9375\" y2=\"93.9375\"/></a><!--MD5=[ee3c913d1a06f366521f9ef512b67efe]\n",
       "class E13--><a href=\"psysml:a35488ce-7eb0-470e-9ecc-f7a0c28bc139\" target=\"_top\" title=\"psysml:a35488ce-7eb0-470e-9ecc-f7a0c28bc139\" xlink:actuate=\"onRequest\" xlink:href=\"psysml:a35488ce-7eb0-470e-9ecc-f7a0c28bc139\" xlink:show=\"new\" xlink:title=\"psysml:a35488ce-7eb0-470e-9ecc-f7a0c28bc139\" xlink:type=\"simple\"><rect fill=\"#FFFFFF\" height=\"45.9375\" id=\"E13\" rx=\"10\" ry=\"10\" style=\"stroke: #383838; stroke-width: 1.5;\" width=\"71\" x=\"32.5\" y=\"56\"/><text fill=\"#000000\" font-family=\"sans-serif\" font-size=\"12\" font-style=\"italic\" lengthAdjust=\"spacingAndGlyphs\" textLength=\"69\" x=\"33.5\" y=\"72.1387\">«attribute»</text><text fill=\"#000000\" font-family=\"sans-serif\" font-size=\"12\" lengthAdjust=\"spacingAndGlyphs\" textLength=\"56\" x=\"38\" y=\"86.1074\">masses2</text><line style=\"stroke: #383838; stroke-width: 1.5;\" x1=\"33.5\" x2=\"102.5\" y1=\"93.9375\" y2=\"93.9375\"/></a><text fill=\"#000000\" font-family=\"sans-serif\" font-size=\"14\" lengthAdjust=\"spacingAndGlyphs\" textLength=\"80\" x=\"703\" y=\"57.6982\">partMasses</text><rect fill=\"#383838\" height=\"12\" style=\"stroke: #F8F8F8; stroke-width: 1.5;\" width=\"12\" x=\"737\" y=\"73\"/><text fill=\"#000000\" font-family=\"sans-serif\" font-size=\"14\" lengthAdjust=\"spacingAndGlyphs\" textLength=\"66\" x=\"710\" y=\"473.9951\">totalMass</text><rect fill=\"#383838\" height=\"12\" style=\"stroke: #F8F8F8; stroke-width: 1.5;\" width=\"12\" x=\"737\" y=\"449\"/><!--MD5=[05d275557350bfb9b23a4ef7222b4c39]\n",
       "link E3 to E2--><a href=\"psysml:2113862d-3e36-4f2a-be29-5fbeffc35ef5\" target=\"_top\" title=\"psysml:2113862d-3e36-4f2a-be29-5fbeffc35ef5\" xlink:actuate=\"onRequest\" xlink:href=\"psysml:2113862d-3e36-4f2a-be29-5fbeffc35ef5\" xlink:show=\"new\" xlink:title=\"psysml:2113862d-3e36-4f2a-be29-5fbeffc35ef5\" xlink:type=\"simple\"><path d=\"M907.97,238.13 C923.45,254.46 945.16,277.37 964.91,298.21 \" fill=\"none\" id=\"E3-&gt;E2\" style=\"stroke: #383838; stroke-width: 1.0;\"/><polygon fill=\"none\" points=\"970.15,293.56,978.83,312.89,959.99,303.19,970.15,293.56\" style=\"stroke: #383838; stroke-width: 1.0;\"/></a><!--MD5=[f0cdf4548168e5211fb3a02bf679d63a]\n",
       "link E4 to E3--><a href=\"psysml:3f6bcc61-006c-4905-be22-168150e04931\" target=\"_top\" title=\"psysml:3f6bcc61-006c-4905-be22-168150e04931\" xlink:actuate=\"onRequest\" xlink:href=\"psysml:3f6bcc61-006c-4905-be22-168150e04931\" xlink:show=\"new\" xlink:title=\"psysml:3f6bcc61-006c-4905-be22-168150e04931\" xlink:type=\"simple\"><path d=\"M978.62,117.33 C960.85,136.08 939.39,158.72 921.71,177.38 \" fill=\"none\" id=\"E4-&gt;E3\" style=\"stroke: #383838; stroke-width: 1.0;\"/><polygon fill=\"#FFFFFF\" points=\"907.91,191.94,915.8909,173.3307,926.0566,182.9567,907.91,191.94\" style=\"stroke: #383838; stroke-width: 1.0;\"/><ellipse cx=\"921.2623\" cy=\"170.567\" fill=\"#383838\" rx=\"2\" ry=\"2\" style=\"stroke: #383838; stroke-width: 1.0;\"/><ellipse cx=\"928.5235\" cy=\"177.4426\" fill=\"#383838\" rx=\"2\" ry=\"2\" style=\"stroke: #383838; stroke-width: 1.0;\"/></a><!--MD5=[62aa6af11e70f752912c1cb0466f24f7]\n",
       "reverse link E4 to E5--><a href=\"psysml:dfe553ed-92b1-45a3-82b1-c875cfb3cf56\" target=\"_top\" title=\"psysml:dfe553ed-92b1-45a3-82b1-c875cfb3cf56\" xlink:actuate=\"onRequest\" xlink:href=\"psysml:dfe553ed-92b1-45a3-82b1-c875cfb3cf56\" xlink:show=\"new\" xlink:title=\"psysml:dfe553ed-92b1-45a3-82b1-c875cfb3cf56\" xlink:type=\"simple\"><path d=\"M1014,130.46 C1014,145.87 1014,162.52 1014,176.87 \" fill=\"none\" id=\"E4&lt;-E5\" style=\"stroke: #383838; stroke-width: 1.0;\"/><polygon fill=\"#FFFFFF\" points=\"1014,117.33,1010,123.33,1014,129.33,1018,123.33,1014,117.33\" style=\"stroke: #383838; stroke-width: 1.0;\"/><text fill=\"#000000\" font-family=\"sans-serif\" font-size=\"13\" lengthAdjust=\"spacingAndGlyphs\" textLength=\"8\" x=\"1005.2875\" y=\"165.8612\">1</text></a><!--MD5=[15ebcb19ae302d9b601edb458606d402]\n",
       "link E5 to E2--><a href=\"psysml:7cfd1003-3fe0-4a32-a3a1-13a5c8efedf2\" target=\"_top\" title=\"psysml:7cfd1003-3fe0-4a32-a3a1-13a5c8efedf2\" xlink:actuate=\"onRequest\" xlink:href=\"psysml:7cfd1003-3fe0-4a32-a3a1-13a5c8efedf2\" xlink:show=\"new\" xlink:title=\"psysml:7cfd1003-3fe0-4a32-a3a1-13a5c8efedf2\" xlink:type=\"simple\"><path d=\"M1014,253.33 C1014,265.52 1014,279.36 1014,292.68 \" fill=\"none\" id=\"E5-&gt;E2\" style=\"stroke: #383838; stroke-width: 1.0;\"/><polygon fill=\"#FFFFFF\" points=\"1014,312.87,1007,293.87,1021,293.87,1014,312.87\" style=\"stroke: #383838; stroke-width: 1.0;\"/><ellipse cx=\"1009\" cy=\"288.17\" fill=\"#383838\" rx=\"2\" ry=\"2\" style=\"stroke: #383838; stroke-width: 1.0;\"/><ellipse cx=\"1019\" cy=\"288.17\" fill=\"#383838\" rx=\"2\" ry=\"2\" style=\"stroke: #383838; stroke-width: 1.0;\"/></a><!--MD5=[6db378b65e1aef66a01cb3103812b399]\n",
       "reverse link E4 to E6--><a href=\"psysml:56232501-f921-4851-b5f9-a91b366c1c7b\" target=\"_top\" title=\"psysml:56232501-f921-4851-b5f9-a91b366c1c7b\" xlink:actuate=\"onRequest\" xlink:href=\"psysml:56232501-f921-4851-b5f9-a91b366c1c7b\" xlink:show=\"new\" xlink:title=\"psysml:56232501-f921-4851-b5f9-a91b366c1c7b\" xlink:type=\"simple\"><path d=\"M1066.59,126.06 C1085.53,142.65 1106.65,161.14 1124.61,176.87 \" fill=\"none\" id=\"E4&lt;-E6\" style=\"stroke: #383838; stroke-width: 1.0;\"/><polygon fill=\"#FFFFFF\" points=\"1056.62,117.33,1058.4928,124.2937,1065.6411,125.2433,1063.7683,118.2796,1056.62,117.33\" style=\"stroke: #383838; stroke-width: 1.0;\"/><text fill=\"#000000\" font-family=\"sans-serif\" font-size=\"13\" lengthAdjust=\"spacingAndGlyphs\" textLength=\"8\" x=\"1108.3468\" y=\"165.8612\">1</text></a><!--MD5=[2351f337d6de0f557b50152ba70847b5]\n",
       "link E6 to E2--><a href=\"psysml:b3767e4f-9e3f-4162-9e5b-3e184cb0e1ab\" target=\"_top\" title=\"psysml:b3767e4f-9e3f-4162-9e5b-3e184cb0e1ab\" xlink:actuate=\"onRequest\" xlink:href=\"psysml:b3767e4f-9e3f-4162-9e5b-3e184cb0e1ab\" xlink:show=\"new\" xlink:title=\"psysml:b3767e4f-9e3f-4162-9e5b-3e184cb0e1ab\" xlink:type=\"simple\"><path d=\"M1124.38,253.33 C1108.05,267.63 1089.14,284.19 1071.63,299.52 \" fill=\"none\" id=\"E6-&gt;E2\" style=\"stroke: #383838; stroke-width: 1.0;\"/><polygon fill=\"#FFFFFF\" points=\"1056.39,312.87,1066.0639,295.0819,1075.2922,305.6099,1056.39,312.87\" style=\"stroke: #383838; stroke-width: 1.0;\"/><ellipse cx=\"1071.6686\" cy=\"292.8287\" fill=\"#383838\" rx=\"2\" ry=\"2\" style=\"stroke: #383838; stroke-width: 1.0;\"/><ellipse cx=\"1078.2602\" cy=\"300.3487\" fill=\"#383838\" rx=\"2\" ry=\"2\" style=\"stroke: #383838; stroke-width: 1.0;\"/></a><!--MD5=[a919e0967d6f3de553dc51b9865a1d6d]\n",
       "link E10 to E7--><a href=\"psysml:650eb0f7-ec08-4309-80b6-1e90e34b9690\" target=\"_top\" title=\"psysml:650eb0f7-ec08-4309-80b6-1e90e34b9690\" xlink:actuate=\"onRequest\" xlink:href=\"psysml:650eb0f7-ec08-4309-80b6-1e90e34b9690\" xlink:show=\"new\" xlink:title=\"psysml:650eb0f7-ec08-4309-80b6-1e90e34b9690\" xlink:type=\"simple\"><path d=\"M557.97,117.15 C583.125,130.315 611.975,145.415 639.2925,159.7138 C642.7072,161.5011 646.0979,163.2759 649.4545,165.0329 \" fill=\"none\" id=\"E10-&gt;E7\" style=\"stroke: #383838; stroke-width: 1.0;\"/><polygon fill=\"#FFFFFF\" points=\"649.4545,165.0329,629.3749,162.4234,635.8674,150.0199,649.4545,165.0329\" style=\"stroke: #383838; stroke-width: 1.0;\"/><ellipse cx=\"625.2524\" cy=\"158.0081\" fill=\"#383838\" rx=\"2\" ry=\"2\" style=\"stroke: #383838; stroke-width: 1.0;\"/><ellipse cx=\"629.8899\" cy=\"149.1485\" fill=\"#383838\" rx=\"2\" ry=\"2\" style=\"stroke: #383838; stroke-width: 1.0;\"/></a><!--MD5=[a2b13a42f4e0f895af572405eb0b0924]\n",
       "@startuml\r\n",
       "top to bottom direction\r\n",
       "skinparam monochrome true\r\n",
       "skinparam classbackgroundcolor white\r\n",
       "skinparam shadowing false\r\n",
       "skinparam wrapWidth 300\r\n",
       "hide circle\r\n",
       "\r\n",
       "package \"CalculationExample\" as E1  [[psysml:9a950c4d-df47-4bf2-a127-6824d456053c ]]  {\r\n",
       "comp def \"VehiclePart\" as E2  <<(T,blue) part  def>> [[psysml:240f00ab-b9bf-457e-9376-98b0b5e156bb ]] {\r\n",
       "- - attributes - -\r\n",
       "m: MassValue\r\n",
       "}\r\n",
       "comp def \"Vehicle\" as E3  <<(T,blue) part  def>> [[psysml:240db56f-6d8c-4faf-8b3c-f8974d12918d ]] {\r\n",
       "}\r\n",
       "comp usage \"vehicle: Vehicle \" as E4  <<(T,blue) part>> [[psysml:ce00e2ad-3315-43f7-b2e6-6ce884a27309 ]] {\r\n",
       "- - attributes - -\r\n",
       "^m: MassValue\r\n",
       "}\r\n",
       "comp usage \"eng: VehiclePart \" as E5  <<(T,blue) part>> [[psysml:83fc889d-b3c1-4be4-83aa-24728b198254 ]] {\r\n",
       "- - attributes - -\r\n",
       "^m: MassValue\r\n",
       "}\r\n",
       "comp usage \"trans: VehiclePart \" as E6  <<(T,blue) part>> [[psysml:9ad03ab5-4ba7-4600-8f6c-f33bd21910a1 ]] {\r\n",
       "- - attributes - -\r\n",
       "^m: MassValue\r\n",
       "}\r\n",
       "rec def \"MassSum\" as E7  <<(T,blue) calculation  def>> [[psysml:425e038d-47d6-48b2-bd42-a030f1074fc4 ]] {\r\n",
       "portin \"partMasses\" as E8  [[psysml:b45e328f-a4a8-4519-9228-274640d6e043 ]] \r\n",
       "portout \"totalMass\" as E9  [[psysml:712f9e49-cc72-40cc-a5b0-9958e3b93d47 ]] \r\n",
       "}\r\n",
       "\r\n",
       "comp usage \"ms: MassSum \" as E10  <<(T,blue) calculation>> [[psysml:e012d373-591a-4cf2-b53b-d810c6dd562d ]] {\r\n",
       "- - parameters - -\r\n",
       "<b>in</b> partMasses= (vehicle.eng.m, vehicle.trans.m); \r\n",
       "}\r\n",
       "comp usage \"vehicles \" as E11  <<(T,blue) part>> [[psysml:e4253433-368c-4e86-8a3c-6b186419df89 ]] {\r\n",
       "}\r\n",
       "comp usage \"masses1 \" as E12  <<(T,blue) attribute>> [[psysml:03468340-4ee1-4dfd-ba23-9337b31e6caf ]] {\r\n",
       "}\r\n",
       "comp usage \"masses2 \" as E13  <<(T,blue) attribute>> [[psysml:a35488ce-7eb0-470e-9ecc-f7a0c28bc139 ]] {\r\n",
       "}\r\n",
       "}\r\n",
       "E3 - -|> E2 [[psysml:2113862d-3e36-4f2a-be29-5fbeffc35ef5 ]] \r\n",
       "E4 - -:|> E3 [[psysml:3f6bcc61-006c-4905-be22-168150e04931 ]] \r\n",
       "E4 o- - \"1\"E5 [[psysml:dfe553ed-92b1-45a3-82b1-c875cfb3cf56 ]] \r\n",
       "E5 - -:|> E2 [[psysml:7cfd1003-3fe0-4a32-a3a1-13a5c8efedf2 ]] \r\n",
       "E4 o- - \"1\"E6 [[psysml:56232501-f921-4851-b5f9-a91b366c1c7b ]] \r\n",
       "E6 - -:|> E2 [[psysml:b3767e4f-9e3f-4162-9e5b-3e184cb0e1ab ]] \r\n",
       "E10 - -:|> E7 [[psysml:650eb0f7-ec08-4309-80b6-1e90e34b9690 ]] \r\n",
       "@enduml\r\n",
       "\n",
       "PlantUML version 1.2020.13(Sat Jun 13 12:26:38 UTC 2020)\n",
       "(EPL source distribution)\n",
       "Java Runtime: OpenJDK Runtime Environment\n",
       "JVM: OpenJDK 64-Bit Server VM\n",
       "Default Encoding: UTF-8\n",
       "Language: en\n",
       "Country: null\n",
       "--></g></svg>"
      ]
     },
     "execution_count": 50,
     "metadata": {},
     "output_type": "execute_result"
    }
   ],
   "source": [
    "%viz --style=\"TB\" --view=\"MIXED\" \"CalculationExample\""
   ]
  },
  {
   "cell_type": "code",
   "execution_count": 51,
   "id": "13ec1d95",
   "metadata": {
    "execution": {
     "iopub.execute_input": "2022-08-19T08:22:04.862330Z",
     "iopub.status.busy": "2022-08-19T08:22:04.861890Z",
     "iopub.status.idle": "2022-08-19T08:22:04.932992Z",
     "shell.execute_reply": "2022-08-19T08:22:04.931513Z"
    }
   },
   "outputs": [
    {
     "data": {
      "image/svg+xml": [
       "<?xml version=\"1.0\" encoding=\"UTF-8\" standalone=\"no\"?><svg xmlns=\"http://www.w3.org/2000/svg\" xmlns:xlink=\"http://www.w3.org/1999/xlink\" contentScriptType=\"application/ecmascript\" contentStyleType=\"text/css\" height=\"505px\" preserveAspectRatio=\"none\" style=\"width:1266px;height:505px;\" version=\"1.1\" viewBox=\"0 0 1266 505\" width=\"1266px\" zoomAndPan=\"magnify\"><defs/><g><!--MD5=[fbc87193dbaf4d95561dea2c320d4a47]\n",
       "cluster E1--><a href=\"psysml:9a950c4d-df47-4bf2-a127-6824d456053c\" target=\"_top\" title=\"psysml:9a950c4d-df47-4bf2-a127-6824d456053c\" xlink:actuate=\"onRequest\" xlink:href=\"psysml:9a950c4d-df47-4bf2-a127-6824d456053c\" xlink:show=\"new\" xlink:title=\"psysml:9a950c4d-df47-4bf2-a127-6824d456053c\" xlink:type=\"simple\"><polygon fill=\"#FFFFFF\" points=\"16,6,155,6,162,28.2969,1244,28.2969,1244,493,16,493,16,6\" style=\"stroke: #000000; stroke-width: 1.5;\"/><line style=\"stroke: #000000; stroke-width: 1.5;\" x1=\"16\" x2=\"162\" y1=\"28.2969\" y2=\"28.2969\"/><text fill=\"#000000\" font-family=\"sans-serif\" font-size=\"14\" font-weight=\"bold\" lengthAdjust=\"spacingAndGlyphs\" textLength=\"133\" x=\"20\" y=\"20.9951\">CalculationExample</text></a><!--MD5=[168fadf3d0c3fd93dd5d6da1b1d7ab76]\n",
       "cluster E7--><a href=\"psysml:425e038d-47d6-48b2-bd42-a030f1074fc4\" target=\"_top\" title=\"psysml:425e038d-47d6-48b2-bd42-a030f1074fc4\" xlink:actuate=\"onRequest\" xlink:href=\"psysml:425e038d-47d6-48b2-bd42-a030f1074fc4\" xlink:show=\"new\" xlink:title=\"psysml:425e038d-47d6-48b2-bd42-a030f1074fc4\" xlink:type=\"simple\"><rect fill=\"#FFFFFF\" height=\"376\" id=\"E7\" style=\"stroke: #383838; stroke-width: 1.5;\" width=\"186\" x=\"650\" y=\"79\"/><rect fill=\"#F8F8F8\" height=\"37.9375\" style=\"stroke: #383838; stroke-width: 1.5;\" width=\"186\" x=\"650\" y=\"79\"/><text fill=\"#000000\" font-family=\"sans-serif\" font-size=\"12\" font-style=\"italic\" lengthAdjust=\"spacingAndGlyphs\" textLength=\"110\" x=\"688\" y=\"95.1387\">«calculation  def»</text><text fill=\"#000000\" font-family=\"sans-serif\" font-size=\"12\" lengthAdjust=\"spacingAndGlyphs\" textLength=\"59\" x=\"713.5\" y=\"109.1074\">MassSum</text></a><!--MD5=[b4997ac47864f28c2f74865a473b2911]\n",
       "class E2--><a href=\"psysml:240f00ab-b9bf-457e-9376-98b0b5e156bb\" target=\"_top\" title=\"psysml:240f00ab-b9bf-457e-9376-98b0b5e156bb\" xlink:actuate=\"onRequest\" xlink:href=\"psysml:240f00ab-b9bf-457e-9376-98b0b5e156bb\" xlink:show=\"new\" xlink:title=\"psysml:240f00ab-b9bf-457e-9376-98b0b5e156bb\" xlink:type=\"simple\"><rect fill=\"#FFFFFF\" height=\"75.5469\" id=\"E2\" style=\"stroke: #383838; stroke-width: 1.5;\" width=\"92\" x=\"968\" y=\"313\"/><text fill=\"#000000\" font-family=\"sans-serif\" font-size=\"12\" font-style=\"italic\" lengthAdjust=\"spacingAndGlyphs\" textLength=\"68\" x=\"980\" y=\"329.1387\">«part  def»</text><text fill=\"#000000\" font-family=\"sans-serif\" font-size=\"12\" lengthAdjust=\"spacingAndGlyphs\" textLength=\"71\" x=\"978.5\" y=\"343.1074\">VehiclePart</text><line style=\"stroke: #383838; stroke-width: 1.5;\" x1=\"969\" x2=\"1059\" y1=\"350.9375\" y2=\"350.9375\"/><text fill=\"#000000\" font-family=\"sans-serif\" font-size=\"11\" lengthAdjust=\"spacingAndGlyphs\" textLength=\"80\" x=\"974\" y=\"381.9526\">m: MassValue</text><line style=\"stroke: #383838; stroke-width: 1.0;\" x1=\"969\" x2=\"986.5\" y1=\"365.3398\" y2=\"365.3398\"/><text fill=\"#000000\" font-family=\"sans-serif\" font-size=\"11\" lengthAdjust=\"spacingAndGlyphs\" textLength=\"55\" x=\"986.5\" y=\"368.6479\">attributes</text><line style=\"stroke: #383838; stroke-width: 1.0;\" x1=\"1041.5\" x2=\"1059\" y1=\"365.3398\" y2=\"365.3398\"/></a><!--MD5=[09b614a08d8cba4a07c9adeb5e0fee81]\n",
       "class E3--><a href=\"psysml:240db56f-6d8c-4faf-8b3c-f8974d12918d\" target=\"_top\" title=\"psysml:240db56f-6d8c-4faf-8b3c-f8974d12918d\" xlink:actuate=\"onRequest\" xlink:href=\"psysml:240db56f-6d8c-4faf-8b3c-f8974d12918d\" xlink:show=\"new\" xlink:title=\"psysml:240db56f-6d8c-4faf-8b3c-f8974d12918d\" xlink:type=\"simple\"><rect fill=\"#FFFFFF\" height=\"45.9375\" id=\"E3\" style=\"stroke: #383838; stroke-width: 1.5;\" width=\"70\" x=\"852\" y=\"192\"/><text fill=\"#000000\" font-family=\"sans-serif\" font-size=\"12\" font-style=\"italic\" lengthAdjust=\"spacingAndGlyphs\" textLength=\"68\" x=\"853\" y=\"208.1387\">«part  def»</text><text fill=\"#000000\" font-family=\"sans-serif\" font-size=\"12\" lengthAdjust=\"spacingAndGlyphs\" textLength=\"45\" x=\"864.5\" y=\"222.1074\">Vehicle</text><line style=\"stroke: #383838; stroke-width: 1.5;\" x1=\"853\" x2=\"921\" y1=\"229.9375\" y2=\"229.9375\"/></a><!--MD5=[ebbe1d658d1005bcc118a6aa81145e00]\n",
       "class E4--><a href=\"psysml:ce00e2ad-3315-43f7-b2e6-6ce884a27309\" target=\"_top\" title=\"psysml:ce00e2ad-3315-43f7-b2e6-6ce884a27309\" xlink:actuate=\"onRequest\" xlink:href=\"psysml:ce00e2ad-3315-43f7-b2e6-6ce884a27309\" xlink:show=\"new\" xlink:title=\"psysml:ce00e2ad-3315-43f7-b2e6-6ce884a27309\" xlink:type=\"simple\"><rect fill=\"#FFFFFF\" height=\"75.5469\" id=\"E4\" rx=\"10\" ry=\"10\" style=\"stroke: #383838; stroke-width: 1.5;\" width=\"106\" x=\"961\" y=\"41\"/><text fill=\"#000000\" font-family=\"sans-serif\" font-size=\"12\" font-style=\"italic\" lengthAdjust=\"spacingAndGlyphs\" textLength=\"40\" x=\"994\" y=\"57.1387\">«part»</text><text fill=\"#000000\" font-family=\"sans-serif\" font-size=\"12\" lengthAdjust=\"spacingAndGlyphs\" textLength=\"96\" x=\"964\" y=\"71.1074\">vehicle: Vehicle</text><line style=\"stroke: #383838; stroke-width: 1.5;\" x1=\"962\" x2=\"1066\" y1=\"78.9375\" y2=\"78.9375\"/><text fill=\"#000000\" font-family=\"sans-serif\" font-size=\"11\" lengthAdjust=\"spacingAndGlyphs\" textLength=\"89\" x=\"967\" y=\"109.9526\">^m: MassValue</text><line style=\"stroke: #383838; stroke-width: 1.0;\" x1=\"962\" x2=\"986.5\" y1=\"93.3398\" y2=\"93.3398\"/><text fill=\"#000000\" font-family=\"sans-serif\" font-size=\"11\" lengthAdjust=\"spacingAndGlyphs\" textLength=\"55\" x=\"986.5\" y=\"96.6479\">attributes</text><line style=\"stroke: #383838; stroke-width: 1.0;\" x1=\"1041.5\" x2=\"1066\" y1=\"93.3398\" y2=\"93.3398\"/></a><!--MD5=[270fce915f116d4de14055a7c1d9a0f3]\n",
       "class E5--><a href=\"psysml:83fc889d-b3c1-4be4-83aa-24728b198254\" target=\"_top\" title=\"psysml:83fc889d-b3c1-4be4-83aa-24728b198254\" xlink:actuate=\"onRequest\" xlink:href=\"psysml:83fc889d-b3c1-4be4-83aa-24728b198254\" xlink:show=\"new\" xlink:title=\"psysml:83fc889d-b3c1-4be4-83aa-24728b198254\" xlink:type=\"simple\"><rect fill=\"#FFFFFF\" height=\"75.5469\" id=\"E5\" rx=\"10\" ry=\"10\" style=\"stroke: #383838; stroke-width: 1.5;\" width=\"113\" x=\"957.5\" y=\"177\"/><text fill=\"#000000\" font-family=\"sans-serif\" font-size=\"12\" font-style=\"italic\" lengthAdjust=\"spacingAndGlyphs\" textLength=\"40\" x=\"994\" y=\"193.1387\">«part»</text><text fill=\"#000000\" font-family=\"sans-serif\" font-size=\"12\" lengthAdjust=\"spacingAndGlyphs\" textLength=\"103\" x=\"960.5\" y=\"207.1074\">eng: VehiclePart</text><line style=\"stroke: #383838; stroke-width: 1.5;\" x1=\"958.5\" x2=\"1069.5\" y1=\"214.9375\" y2=\"214.9375\"/><text fill=\"#000000\" font-family=\"sans-serif\" font-size=\"11\" lengthAdjust=\"spacingAndGlyphs\" textLength=\"89\" x=\"963.5\" y=\"245.9526\">^m: MassValue</text><line style=\"stroke: #383838; stroke-width: 1.0;\" x1=\"958.5\" x2=\"986.5\" y1=\"229.3398\" y2=\"229.3398\"/><text fill=\"#000000\" font-family=\"sans-serif\" font-size=\"11\" lengthAdjust=\"spacingAndGlyphs\" textLength=\"55\" x=\"986.5\" y=\"232.6479\">attributes</text><line style=\"stroke: #383838; stroke-width: 1.0;\" x1=\"1041.5\" x2=\"1069.5\" y1=\"229.3398\" y2=\"229.3398\"/></a><!--MD5=[60a26617385b1d2d0262a64233df1f8d]\n",
       "class E6--><a href=\"psysml:9ad03ab5-4ba7-4600-8f6c-f33bd21910a1\" target=\"_top\" title=\"psysml:9ad03ab5-4ba7-4600-8f6c-f33bd21910a1\" xlink:actuate=\"onRequest\" xlink:href=\"psysml:9ad03ab5-4ba7-4600-8f6c-f33bd21910a1\" xlink:show=\"new\" xlink:title=\"psysml:9ad03ab5-4ba7-4600-8f6c-f33bd21910a1\" xlink:type=\"simple\"><rect fill=\"#FFFFFF\" height=\"75.5469\" id=\"E6\" rx=\"10\" ry=\"10\" style=\"stroke: #383838; stroke-width: 1.5;\" width=\"122\" x=\"1106\" y=\"177\"/><text fill=\"#000000\" font-family=\"sans-serif\" font-size=\"12\" font-style=\"italic\" lengthAdjust=\"spacingAndGlyphs\" textLength=\"40\" x=\"1147\" y=\"193.1387\">«part»</text><text fill=\"#000000\" font-family=\"sans-serif\" font-size=\"12\" lengthAdjust=\"spacingAndGlyphs\" textLength=\"112\" x=\"1109\" y=\"207.1074\">trans: VehiclePart</text><line style=\"stroke: #383838; stroke-width: 1.5;\" x1=\"1107\" x2=\"1227\" y1=\"214.9375\" y2=\"214.9375\"/><text fill=\"#000000\" font-family=\"sans-serif\" font-size=\"11\" lengthAdjust=\"spacingAndGlyphs\" textLength=\"89\" x=\"1112\" y=\"245.9526\">^m: MassValue</text><line style=\"stroke: #383838; stroke-width: 1.0;\" x1=\"1107\" x2=\"1139.5\" y1=\"229.3398\" y2=\"229.3398\"/><text fill=\"#000000\" font-family=\"sans-serif\" font-size=\"11\" lengthAdjust=\"spacingAndGlyphs\" textLength=\"55\" x=\"1139.5\" y=\"232.6479\">attributes</text><line style=\"stroke: #383838; stroke-width: 1.0;\" x1=\"1194.5\" x2=\"1227\" y1=\"229.3398\" y2=\"229.3398\"/></a><!--MD5=[96f4274e9e20536e775497830990834d]\n",
       "class E10--><a href=\"psysml:e012d373-591a-4cf2-b53b-d810c6dd562d\" target=\"_top\" title=\"psysml:e012d373-591a-4cf2-b53b-d810c6dd562d\" xlink:actuate=\"onRequest\" xlink:href=\"psysml:e012d373-591a-4cf2-b53b-d810c6dd562d\" xlink:show=\"new\" xlink:title=\"psysml:e012d373-591a-4cf2-b53b-d810c6dd562d\" xlink:type=\"simple\"><rect fill=\"#FFFFFF\" height=\"75.5469\" id=\"E10\" rx=\"10\" ry=\"10\" style=\"stroke: #383838; stroke-width: 1.5;\" width=\"293\" x=\"340.5\" y=\"41\"/><text fill=\"#000000\" font-family=\"sans-serif\" font-size=\"12\" font-style=\"italic\" lengthAdjust=\"spacingAndGlyphs\" textLength=\"82\" x=\"446\" y=\"57.1387\">«calculation»</text><text fill=\"#000000\" font-family=\"sans-serif\" font-size=\"12\" lengthAdjust=\"spacingAndGlyphs\" textLength=\"85\" x=\"442.5\" y=\"71.1074\">ms: MassSum</text><line style=\"stroke: #383838; stroke-width: 1.5;\" x1=\"341.5\" x2=\"632.5\" y1=\"78.9375\" y2=\"78.9375\"/><text fill=\"#000000\" font-family=\"sans-serif\" font-size=\"11\" font-weight=\"bold\" lengthAdjust=\"spacingAndGlyphs\" textLength=\"10\" x=\"346.5\" y=\"109.9526\">in</text><text fill=\"#000000\" font-family=\"sans-serif\" font-size=\"11\" lengthAdjust=\"spacingAndGlyphs\" textLength=\"267\" x=\"360.5\" y=\"109.9526\">partMasses= (vehicle.eng.m, vehicle.trans.m);</text><line style=\"stroke: #383838; stroke-width: 1.0;\" x1=\"341.5\" x2=\"453.5\" y1=\"93.3398\" y2=\"93.3398\"/><text fill=\"#000000\" font-family=\"sans-serif\" font-size=\"11\" lengthAdjust=\"spacingAndGlyphs\" textLength=\"67\" x=\"453.5\" y=\"96.6479\">parameters</text><line style=\"stroke: #383838; stroke-width: 1.0;\" x1=\"520.5\" x2=\"632.5\" y1=\"93.3398\" y2=\"93.3398\"/></a><!--MD5=[1dd1bfd58a279cf63c5f349dbc8fc6a1]\n",
       "class E11--><a href=\"psysml:e4253433-368c-4e86-8a3c-6b186419df89\" target=\"_top\" title=\"psysml:e4253433-368c-4e86-8a3c-6b186419df89\" xlink:actuate=\"onRequest\" xlink:href=\"psysml:e4253433-368c-4e86-8a3c-6b186419df89\" xlink:show=\"new\" xlink:title=\"psysml:e4253433-368c-4e86-8a3c-6b186419df89\" xlink:type=\"simple\"><rect fill=\"#FFFFFF\" height=\"45.9375\" id=\"E11\" rx=\"10\" ry=\"10\" style=\"stroke: #383838; stroke-width: 1.5;\" width=\"60\" x=\"245\" y=\"56\"/><text fill=\"#000000\" font-family=\"sans-serif\" font-size=\"12\" font-style=\"italic\" lengthAdjust=\"spacingAndGlyphs\" textLength=\"40\" x=\"255\" y=\"72.1387\">«part»</text><text fill=\"#000000\" font-family=\"sans-serif\" font-size=\"12\" lengthAdjust=\"spacingAndGlyphs\" textLength=\"50\" x=\"248\" y=\"86.1074\">vehicles</text><line style=\"stroke: #383838; stroke-width: 1.5;\" x1=\"246\" x2=\"304\" y1=\"93.9375\" y2=\"93.9375\"/></a><!--MD5=[49a0ec8f00dab7302a31f22d0f0fe584]\n",
       "class E12--><a href=\"psysml:03468340-4ee1-4dfd-ba23-9337b31e6caf\" target=\"_top\" title=\"psysml:03468340-4ee1-4dfd-ba23-9337b31e6caf\" xlink:actuate=\"onRequest\" xlink:href=\"psysml:03468340-4ee1-4dfd-ba23-9337b31e6caf\" xlink:show=\"new\" xlink:title=\"psysml:03468340-4ee1-4dfd-ba23-9337b31e6caf\" xlink:type=\"simple\"><rect fill=\"#FFFFFF\" height=\"45.9375\" id=\"E12\" rx=\"10\" ry=\"10\" style=\"stroke: #383838; stroke-width: 1.5;\" width=\"71\" x=\"138.5\" y=\"56\"/><text fill=\"#000000\" font-family=\"sans-serif\" font-size=\"12\" font-style=\"italic\" lengthAdjust=\"spacingAndGlyphs\" textLength=\"69\" x=\"139.5\" y=\"72.1387\">«attribute»</text><text fill=\"#000000\" font-family=\"sans-serif\" font-size=\"12\" lengthAdjust=\"spacingAndGlyphs\" textLength=\"56\" x=\"144\" y=\"86.1074\">masses1</text><line style=\"stroke: #383838; stroke-width: 1.5;\" x1=\"139.5\" x2=\"208.5\" y1=\"93.9375\" y2=\"93.9375\"/></a><!--MD5=[ee3c913d1a06f366521f9ef512b67efe]\n",
       "class E13--><a href=\"psysml:a35488ce-7eb0-470e-9ecc-f7a0c28bc139\" target=\"_top\" title=\"psysml:a35488ce-7eb0-470e-9ecc-f7a0c28bc139\" xlink:actuate=\"onRequest\" xlink:href=\"psysml:a35488ce-7eb0-470e-9ecc-f7a0c28bc139\" xlink:show=\"new\" xlink:title=\"psysml:a35488ce-7eb0-470e-9ecc-f7a0c28bc139\" xlink:type=\"simple\"><rect fill=\"#FFFFFF\" height=\"45.9375\" id=\"E13\" rx=\"10\" ry=\"10\" style=\"stroke: #383838; stroke-width: 1.5;\" width=\"71\" x=\"32.5\" y=\"56\"/><text fill=\"#000000\" font-family=\"sans-serif\" font-size=\"12\" font-style=\"italic\" lengthAdjust=\"spacingAndGlyphs\" textLength=\"69\" x=\"33.5\" y=\"72.1387\">«attribute»</text><text fill=\"#000000\" font-family=\"sans-serif\" font-size=\"12\" lengthAdjust=\"spacingAndGlyphs\" textLength=\"56\" x=\"38\" y=\"86.1074\">masses2</text><line style=\"stroke: #383838; stroke-width: 1.5;\" x1=\"33.5\" x2=\"102.5\" y1=\"93.9375\" y2=\"93.9375\"/></a><text fill=\"#000000\" font-family=\"sans-serif\" font-size=\"14\" lengthAdjust=\"spacingAndGlyphs\" textLength=\"80\" x=\"703\" y=\"57.6982\">partMasses</text><rect fill=\"#383838\" height=\"12\" style=\"stroke: #F8F8F8; stroke-width: 1.5;\" width=\"12\" x=\"737\" y=\"73\"/><text fill=\"#000000\" font-family=\"sans-serif\" font-size=\"14\" lengthAdjust=\"spacingAndGlyphs\" textLength=\"66\" x=\"710\" y=\"473.9951\">totalMass</text><rect fill=\"#383838\" height=\"12\" style=\"stroke: #F8F8F8; stroke-width: 1.5;\" width=\"12\" x=\"737\" y=\"449\"/><!--MD5=[05d275557350bfb9b23a4ef7222b4c39]\n",
       "link E3 to E2--><a href=\"psysml:2113862d-3e36-4f2a-be29-5fbeffc35ef5\" target=\"_top\" title=\"psysml:2113862d-3e36-4f2a-be29-5fbeffc35ef5\" xlink:actuate=\"onRequest\" xlink:href=\"psysml:2113862d-3e36-4f2a-be29-5fbeffc35ef5\" xlink:show=\"new\" xlink:title=\"psysml:2113862d-3e36-4f2a-be29-5fbeffc35ef5\" xlink:type=\"simple\"><path d=\"M887,238.12 C887,272.21 887,332 887,332 C887,332 947.79,332 947.79,332 \" fill=\"none\" id=\"E3-&gt;E2\" style=\"stroke: #383838; stroke-width: 1.0;\"/><polygon fill=\"none\" points=\"947.79,325,967.79,332,947.79,339,947.79,325\" style=\"stroke: #383838; stroke-width: 1.0;\"/></a><!--MD5=[f0cdf4548168e5211fb3a02bf679d63a]\n",
       "link E4 to E3--><a href=\"psysml:3f6bcc61-006c-4905-be22-168150e04931\" target=\"_top\" title=\"psysml:3f6bcc61-006c-4905-be22-168150e04931\" xlink:actuate=\"onRequest\" xlink:href=\"psysml:3f6bcc61-006c-4905-be22-168150e04931\" xlink:show=\"new\" xlink:title=\"psysml:3f6bcc61-006c-4905-be22-168150e04931\" xlink:type=\"simple\"><path d=\"M960.88,107 C926.08,107 887,107 887,107 C887,107 887,171.83 887,171.83 \" fill=\"none\" id=\"E4-&gt;E3\" style=\"stroke: #383838; stroke-width: 1.0;\"/><polygon fill=\"#FFFFFF\" points=\"887,191.83,880,172.83,894,172.83,887,191.83\" style=\"stroke: #383838; stroke-width: 1.0;\"/><ellipse cx=\"882\" cy=\"167.13\" fill=\"#383838\" rx=\"2\" ry=\"2\" style=\"stroke: #383838; stroke-width: 1.0;\"/><ellipse cx=\"892\" cy=\"167.13\" fill=\"#383838\" rx=\"2\" ry=\"2\" style=\"stroke: #383838; stroke-width: 1.0;\"/></a><!--MD5=[62aa6af11e70f752912c1cb0466f24f7]\n",
       "reverse link E4 to E5--><a href=\"psysml:dfe553ed-92b1-45a3-82b1-c875cfb3cf56\" target=\"_top\" title=\"psysml:dfe553ed-92b1-45a3-82b1-c875cfb3cf56\" xlink:actuate=\"onRequest\" xlink:href=\"psysml:dfe553ed-92b1-45a3-82b1-c875cfb3cf56\" xlink:show=\"new\" xlink:title=\"psysml:dfe553ed-92b1-45a3-82b1-c875cfb3cf56\" xlink:type=\"simple\"><path d=\"M1014,130.25 C1014,130.25 1014,176.57 1014,176.57 \" fill=\"none\" id=\"E4&lt;-E5\" style=\"stroke: #383838; stroke-width: 1.0;\"/><polygon fill=\"#FFFFFF\" points=\"1014,117.25,1010,123.25,1014,129.25,1018,123.25,1014,117.25\" style=\"stroke: #383838; stroke-width: 1.0;\"/><text fill=\"#000000\" font-family=\"sans-serif\" font-size=\"13\" lengthAdjust=\"spacingAndGlyphs\" textLength=\"8\" x=\"1005.3125\" y=\"165.793\">1</text></a><!--MD5=[15ebcb19ae302d9b601edb458606d402]\n",
       "link E5 to E2--><a href=\"psysml:7cfd1003-3fe0-4a32-a3a1-13a5c8efedf2\" target=\"_top\" title=\"psysml:7cfd1003-3fe0-4a32-a3a1-13a5c8efedf2\" xlink:actuate=\"onRequest\" xlink:href=\"psysml:7cfd1003-3fe0-4a32-a3a1-13a5c8efedf2\" xlink:show=\"new\" xlink:title=\"psysml:7cfd1003-3fe0-4a32-a3a1-13a5c8efedf2\" xlink:type=\"simple\"><path d=\"M1014,253.25 C1014,253.25 1014,292.57 1014,292.57 \" fill=\"none\" id=\"E5-&gt;E2\" style=\"stroke: #383838; stroke-width: 1.0;\"/><polygon fill=\"#FFFFFF\" points=\"1014,312.57,1007,293.57,1021,293.57,1014,312.57\" style=\"stroke: #383838; stroke-width: 1.0;\"/><ellipse cx=\"1009\" cy=\"287.87\" fill=\"#383838\" rx=\"2\" ry=\"2\" style=\"stroke: #383838; stroke-width: 1.0;\"/><ellipse cx=\"1019\" cy=\"287.87\" fill=\"#383838\" rx=\"2\" ry=\"2\" style=\"stroke: #383838; stroke-width: 1.0;\"/></a><!--MD5=[6db378b65e1aef66a01cb3103812b399]\n",
       "reverse link E4 to E6--><a href=\"psysml:56232501-f921-4851-b5f9-a91b366c1c7b\" target=\"_top\" title=\"psysml:56232501-f921-4851-b5f9-a91b366c1c7b\" xlink:actuate=\"onRequest\" xlink:href=\"psysml:56232501-f921-4851-b5f9-a91b366c1c7b\" xlink:show=\"new\" xlink:title=\"psysml:56232501-f921-4851-b5f9-a91b366c1c7b\" xlink:type=\"simple\"><path d=\"M1080.08,79 C1080.08,79 1167,79 1167,79 C1167,79 1167,136.53 1167,176.75 \" fill=\"none\" id=\"E4&lt;-E6\" style=\"stroke: #383838; stroke-width: 1.0;\"/><polygon fill=\"#FFFFFF\" points=\"1067.08,79,1073.08,83,1079.08,79,1073.08,75,1067.08,79\" style=\"stroke: #383838; stroke-width: 1.0;\"/><text fill=\"#000000\" font-family=\"sans-serif\" font-size=\"13\" lengthAdjust=\"spacingAndGlyphs\" textLength=\"8\" x=\"1158.3125\" y=\"166.004\">1</text></a><!--MD5=[2351f337d6de0f557b50152ba70847b5]\n",
       "link E6 to E2--><a href=\"psysml:b3767e4f-9e3f-4162-9e5b-3e184cb0e1ab\" target=\"_top\" title=\"psysml:b3767e4f-9e3f-4162-9e5b-3e184cb0e1ab\" xlink:actuate=\"onRequest\" xlink:href=\"psysml:b3767e4f-9e3f-4162-9e5b-3e184cb0e1ab\" xlink:show=\"new\" xlink:title=\"psysml:b3767e4f-9e3f-4162-9e5b-3e184cb0e1ab\" xlink:type=\"simple\"><path d=\"M1167,253.25 C1167,293.47 1167,351 1167,351 C1167,351 1080.32,351 1080.32,351 \" fill=\"none\" id=\"E6-&gt;E2\" style=\"stroke: #383838; stroke-width: 1.0;\"/><polygon fill=\"#FFFFFF\" points=\"1060.32,351,1079.32,344,1079.32,358,1060.32,351\" style=\"stroke: #383838; stroke-width: 1.0;\"/><ellipse cx=\"1085.02\" cy=\"346\" fill=\"#383838\" rx=\"2\" ry=\"2\" style=\"stroke: #383838; stroke-width: 1.0;\"/><ellipse cx=\"1085.02\" cy=\"356\" fill=\"#383838\" rx=\"2\" ry=\"2\" style=\"stroke: #383838; stroke-width: 1.0;\"/></a><!--MD5=[a919e0967d6f3de553dc51b9865a1d6d]\n",
       "link E10 to E7--><a href=\"psysml:650eb0f7-ec08-4309-80b6-1e90e34b9690\" target=\"_top\" title=\"psysml:650eb0f7-ec08-4309-80b6-1e90e34b9690\" xlink:actuate=\"onRequest\" xlink:href=\"psysml:650eb0f7-ec08-4309-80b6-1e90e34b9690\" xlink:show=\"new\" xlink:title=\"psysml:650eb0f7-ec08-4309-80b6-1e90e34b9690\" xlink:type=\"simple\"><path d=\"M633.52,96 C638.5013,96 643.3658,96 648.0649,96 C648.6523,96 649.2371,96 649.8193,96 \" fill=\"none\" id=\"E10-&gt;E7\" style=\"stroke: #383838; stroke-width: 1.0;\"/><polygon fill=\"#FFFFFF\" points=\"649.8193,96,630.8193,103,630.8193,89,649.8193,96\" style=\"stroke: #383838; stroke-width: 1.0;\"/><ellipse cx=\"625.1193\" cy=\"101\" fill=\"#383838\" rx=\"2\" ry=\"2\" style=\"stroke: #383838; stroke-width: 1.0;\"/><ellipse cx=\"625.1193\" cy=\"91\" fill=\"#383838\" rx=\"2\" ry=\"2\" style=\"stroke: #383838; stroke-width: 1.0;\"/></a><!--MD5=[45666ce749baaffe4ae60b0488849bac]\n",
       "@startuml\r\n",
       "skinparam linetype ortho\r\n",
       "skinparam monochrome true\r\n",
       "skinparam classbackgroundcolor white\r\n",
       "skinparam shadowing false\r\n",
       "skinparam wrapWidth 300\r\n",
       "hide circle\r\n",
       "\r\n",
       "package \"CalculationExample\" as E1  [[psysml:9a950c4d-df47-4bf2-a127-6824d456053c ]]  {\r\n",
       "comp def \"VehiclePart\" as E2  <<(T,blue) part  def>> [[psysml:240f00ab-b9bf-457e-9376-98b0b5e156bb ]] {\r\n",
       "- - attributes - -\r\n",
       "m: MassValue\r\n",
       "}\r\n",
       "comp def \"Vehicle\" as E3  <<(T,blue) part  def>> [[psysml:240db56f-6d8c-4faf-8b3c-f8974d12918d ]] {\r\n",
       "}\r\n",
       "comp usage \"vehicle: Vehicle \" as E4  <<(T,blue) part>> [[psysml:ce00e2ad-3315-43f7-b2e6-6ce884a27309 ]] {\r\n",
       "- - attributes - -\r\n",
       "^m: MassValue\r\n",
       "}\r\n",
       "comp usage \"eng: VehiclePart \" as E5  <<(T,blue) part>> [[psysml:83fc889d-b3c1-4be4-83aa-24728b198254 ]] {\r\n",
       "- - attributes - -\r\n",
       "^m: MassValue\r\n",
       "}\r\n",
       "comp usage \"trans: VehiclePart \" as E6  <<(T,blue) part>> [[psysml:9ad03ab5-4ba7-4600-8f6c-f33bd21910a1 ]] {\r\n",
       "- - attributes - -\r\n",
       "^m: MassValue\r\n",
       "}\r\n",
       "rec def \"MassSum\" as E7  <<(T,blue) calculation  def>> [[psysml:425e038d-47d6-48b2-bd42-a030f1074fc4 ]] {\r\n",
       "portin \"partMasses\" as E8  [[psysml:b45e328f-a4a8-4519-9228-274640d6e043 ]] \r\n",
       "portout \"totalMass\" as E9  [[psysml:712f9e49-cc72-40cc-a5b0-9958e3b93d47 ]] \r\n",
       "}\r\n",
       "\r\n",
       "comp usage \"ms: MassSum \" as E10  <<(T,blue) calculation>> [[psysml:e012d373-591a-4cf2-b53b-d810c6dd562d ]] {\r\n",
       "- - parameters - -\r\n",
       "<b>in</b> partMasses= (vehicle.eng.m, vehicle.trans.m); \r\n",
       "}\r\n",
       "comp usage \"vehicles \" as E11  <<(T,blue) part>> [[psysml:e4253433-368c-4e86-8a3c-6b186419df89 ]] {\r\n",
       "}\r\n",
       "comp usage \"masses1 \" as E12  <<(T,blue) attribute>> [[psysml:03468340-4ee1-4dfd-ba23-9337b31e6caf ]] {\r\n",
       "}\r\n",
       "comp usage \"masses2 \" as E13  <<(T,blue) attribute>> [[psysml:a35488ce-7eb0-470e-9ecc-f7a0c28bc139 ]] {\r\n",
       "}\r\n",
       "}\r\n",
       "E3 - -|> E2 [[psysml:2113862d-3e36-4f2a-be29-5fbeffc35ef5 ]] \r\n",
       "E4 - -:|> E3 [[psysml:3f6bcc61-006c-4905-be22-168150e04931 ]] \r\n",
       "E4 o- - \"1\"E5 [[psysml:dfe553ed-92b1-45a3-82b1-c875cfb3cf56 ]] \r\n",
       "E5 - -:|> E2 [[psysml:7cfd1003-3fe0-4a32-a3a1-13a5c8efedf2 ]] \r\n",
       "E4 o- - \"1\"E6 [[psysml:56232501-f921-4851-b5f9-a91b366c1c7b ]] \r\n",
       "E6 - -:|> E2 [[psysml:b3767e4f-9e3f-4162-9e5b-3e184cb0e1ab ]] \r\n",
       "E10 - -:|> E7 [[psysml:650eb0f7-ec08-4309-80b6-1e90e34b9690 ]] \r\n",
       "@enduml\r\n",
       "\n",
       "PlantUML version 1.2020.13(Sat Jun 13 12:26:38 UTC 2020)\n",
       "(EPL source distribution)\n",
       "Java Runtime: OpenJDK Runtime Environment\n",
       "JVM: OpenJDK 64-Bit Server VM\n",
       "Default Encoding: UTF-8\n",
       "Language: en\n",
       "Country: null\n",
       "--></g></svg>"
      ]
     },
     "execution_count": 51,
     "metadata": {},
     "output_type": "execute_result"
    }
   ],
   "source": [
    "%viz --style=\"ORTHOLINE\" --view=\"Default\" \"CalculationExample\""
   ]
  },
  {
   "cell_type": "code",
   "execution_count": 52,
   "id": "e83259a3",
   "metadata": {
    "execution": {
     "iopub.execute_input": "2022-08-19T08:22:04.982471Z",
     "iopub.status.busy": "2022-08-19T08:22:04.982020Z",
     "iopub.status.idle": "2022-08-19T08:22:05.053660Z",
     "shell.execute_reply": "2022-08-19T08:22:05.052157Z"
    }
   },
   "outputs": [
    {
     "data": {
      "image/svg+xml": [
       "<?xml version=\"1.0\" encoding=\"UTF-8\" standalone=\"no\"?><svg xmlns=\"http://www.w3.org/2000/svg\" xmlns:xlink=\"http://www.w3.org/1999/xlink\" contentScriptType=\"application/ecmascript\" contentStyleType=\"text/css\" height=\"417px\" preserveAspectRatio=\"none\" style=\"width:813px;height:417px;\" version=\"1.1\" viewBox=\"0 0 813 417\" width=\"813px\" zoomAndPan=\"magnify\"><defs/><g><!--MD5=[fbc87193dbaf4d95561dea2c320d4a47]\n",
       "cluster E1--><a href=\"psysml:9a950c4d-df47-4bf2-a127-6824d456053c\" target=\"_top\" title=\"psysml:9a950c4d-df47-4bf2-a127-6824d456053c\" xlink:actuate=\"onRequest\" xlink:href=\"psysml:9a950c4d-df47-4bf2-a127-6824d456053c\" xlink:show=\"new\" xlink:title=\"psysml:9a950c4d-df47-4bf2-a127-6824d456053c\" xlink:type=\"simple\"><polygon fill=\"#FFFFFF\" points=\"16,6,155,6,162,28.2969,791,28.2969,791,405,16,405,16,6\" style=\"stroke: #000000; stroke-width: 1.5;\"/><line style=\"stroke: #000000; stroke-width: 1.5;\" x1=\"16\" x2=\"162\" y1=\"28.2969\" y2=\"28.2969\"/><text fill=\"#000000\" font-family=\"sans-serif\" font-size=\"14\" font-weight=\"bold\" lengthAdjust=\"spacingAndGlyphs\" textLength=\"133\" x=\"20\" y=\"20.9951\">CalculationExample</text></a><!--MD5=[b4997ac47864f28c2f74865a473b2911]\n",
       "class E2--><a href=\"psysml:240f00ab-b9bf-457e-9376-98b0b5e156bb\" target=\"_top\" title=\"psysml:240f00ab-b9bf-457e-9376-98b0b5e156bb\" xlink:actuate=\"onRequest\" xlink:href=\"psysml:240f00ab-b9bf-457e-9376-98b0b5e156bb\" xlink:show=\"new\" xlink:title=\"psysml:240f00ab-b9bf-457e-9376-98b0b5e156bb\" xlink:type=\"simple\"><rect fill=\"#FFFFFF\" height=\"75.5469\" id=\"E2\" style=\"stroke: #383838; stroke-width: 1.5;\" width=\"92\" x=\"515\" y=\"313\"/><text fill=\"#000000\" font-family=\"sans-serif\" font-size=\"12\" font-style=\"italic\" lengthAdjust=\"spacingAndGlyphs\" textLength=\"68\" x=\"527\" y=\"329.1387\">«part  def»</text><text fill=\"#000000\" font-family=\"sans-serif\" font-size=\"12\" lengthAdjust=\"spacingAndGlyphs\" textLength=\"71\" x=\"525.5\" y=\"343.1074\">VehiclePart</text><line style=\"stroke: #383838; stroke-width: 1.5;\" x1=\"516\" x2=\"606\" y1=\"350.9375\" y2=\"350.9375\"/><text fill=\"#000000\" font-family=\"sans-serif\" font-size=\"11\" lengthAdjust=\"spacingAndGlyphs\" textLength=\"80\" x=\"521\" y=\"381.9526\">m: MassValue</text><line style=\"stroke: #383838; stroke-width: 1.0;\" x1=\"516\" x2=\"533.5\" y1=\"365.3398\" y2=\"365.3398\"/><text fill=\"#000000\" font-family=\"sans-serif\" font-size=\"11\" lengthAdjust=\"spacingAndGlyphs\" textLength=\"55\" x=\"533.5\" y=\"368.6479\">attributes</text><line style=\"stroke: #383838; stroke-width: 1.0;\" x1=\"588.5\" x2=\"606\" y1=\"365.3398\" y2=\"365.3398\"/></a><!--MD5=[09b614a08d8cba4a07c9adeb5e0fee81]\n",
       "class E3--><a href=\"psysml:240db56f-6d8c-4faf-8b3c-f8974d12918d\" target=\"_top\" title=\"psysml:240db56f-6d8c-4faf-8b3c-f8974d12918d\" xlink:actuate=\"onRequest\" xlink:href=\"psysml:240db56f-6d8c-4faf-8b3c-f8974d12918d\" xlink:show=\"new\" xlink:title=\"psysml:240db56f-6d8c-4faf-8b3c-f8974d12918d\" xlink:type=\"simple\"><rect fill=\"#FFFFFF\" height=\"45.9375\" id=\"E3\" style=\"stroke: #383838; stroke-width: 1.5;\" width=\"70\" x=\"399\" y=\"192\"/><text fill=\"#000000\" font-family=\"sans-serif\" font-size=\"12\" font-style=\"italic\" lengthAdjust=\"spacingAndGlyphs\" textLength=\"68\" x=\"400\" y=\"208.1387\">«part  def»</text><text fill=\"#000000\" font-family=\"sans-serif\" font-size=\"12\" lengthAdjust=\"spacingAndGlyphs\" textLength=\"45\" x=\"411.5\" y=\"222.1074\">Vehicle</text><line style=\"stroke: #383838; stroke-width: 1.5;\" x1=\"400\" x2=\"468\" y1=\"229.9375\" y2=\"229.9375\"/></a><!--MD5=[ebbe1d658d1005bcc118a6aa81145e00]\n",
       "class E4--><a href=\"psysml:ce00e2ad-3315-43f7-b2e6-6ce884a27309\" target=\"_top\" title=\"psysml:ce00e2ad-3315-43f7-b2e6-6ce884a27309\" xlink:actuate=\"onRequest\" xlink:href=\"psysml:ce00e2ad-3315-43f7-b2e6-6ce884a27309\" xlink:show=\"new\" xlink:title=\"psysml:ce00e2ad-3315-43f7-b2e6-6ce884a27309\" xlink:type=\"simple\"><rect fill=\"#FFFFFF\" height=\"75.5469\" id=\"E4\" rx=\"10\" ry=\"10\" style=\"stroke: #383838; stroke-width: 1.5;\" width=\"106\" x=\"669\" y=\"41\"/><text fill=\"#000000\" font-family=\"sans-serif\" font-size=\"12\" font-style=\"italic\" lengthAdjust=\"spacingAndGlyphs\" textLength=\"40\" x=\"702\" y=\"57.1387\">«part»</text><text fill=\"#000000\" font-family=\"sans-serif\" font-size=\"12\" lengthAdjust=\"spacingAndGlyphs\" textLength=\"96\" x=\"672\" y=\"71.1074\">vehicle: Vehicle</text><line style=\"stroke: #383838; stroke-width: 1.5;\" x1=\"670\" x2=\"774\" y1=\"78.9375\" y2=\"78.9375\"/><text fill=\"#000000\" font-family=\"sans-serif\" font-size=\"11\" lengthAdjust=\"spacingAndGlyphs\" textLength=\"89\" x=\"675\" y=\"109.9526\">^m: MassValue</text><line style=\"stroke: #383838; stroke-width: 1.0;\" x1=\"670\" x2=\"694.5\" y1=\"93.3398\" y2=\"93.3398\"/><text fill=\"#000000\" font-family=\"sans-serif\" font-size=\"11\" lengthAdjust=\"spacingAndGlyphs\" textLength=\"55\" x=\"694.5\" y=\"96.6479\">attributes</text><line style=\"stroke: #383838; stroke-width: 1.0;\" x1=\"749.5\" x2=\"774\" y1=\"93.3398\" y2=\"93.3398\"/></a><!--MD5=[270fce915f116d4de14055a7c1d9a0f3]\n",
       "class E5--><a href=\"psysml:83fc889d-b3c1-4be4-83aa-24728b198254\" target=\"_top\" title=\"psysml:83fc889d-b3c1-4be4-83aa-24728b198254\" xlink:actuate=\"onRequest\" xlink:href=\"psysml:83fc889d-b3c1-4be4-83aa-24728b198254\" xlink:show=\"new\" xlink:title=\"psysml:83fc889d-b3c1-4be4-83aa-24728b198254\" xlink:type=\"simple\"><rect fill=\"#FFFFFF\" height=\"75.5469\" id=\"E5\" rx=\"10\" ry=\"10\" style=\"stroke: #383838; stroke-width: 1.5;\" width=\"113\" x=\"504.5\" y=\"177\"/><text fill=\"#000000\" font-family=\"sans-serif\" font-size=\"12\" font-style=\"italic\" lengthAdjust=\"spacingAndGlyphs\" textLength=\"40\" x=\"541\" y=\"193.1387\">«part»</text><text fill=\"#000000\" font-family=\"sans-serif\" font-size=\"12\" lengthAdjust=\"spacingAndGlyphs\" textLength=\"103\" x=\"507.5\" y=\"207.1074\">eng: VehiclePart</text><line style=\"stroke: #383838; stroke-width: 1.5;\" x1=\"505.5\" x2=\"616.5\" y1=\"214.9375\" y2=\"214.9375\"/><text fill=\"#000000\" font-family=\"sans-serif\" font-size=\"11\" lengthAdjust=\"spacingAndGlyphs\" textLength=\"89\" x=\"510.5\" y=\"245.9526\">^m: MassValue</text><line style=\"stroke: #383838; stroke-width: 1.0;\" x1=\"505.5\" x2=\"533.5\" y1=\"229.3398\" y2=\"229.3398\"/><text fill=\"#000000\" font-family=\"sans-serif\" font-size=\"11\" lengthAdjust=\"spacingAndGlyphs\" textLength=\"55\" x=\"533.5\" y=\"232.6479\">attributes</text><line style=\"stroke: #383838; stroke-width: 1.0;\" x1=\"588.5\" x2=\"616.5\" y1=\"229.3398\" y2=\"229.3398\"/></a><!--MD5=[60a26617385b1d2d0262a64233df1f8d]\n",
       "class E6--><a href=\"psysml:9ad03ab5-4ba7-4600-8f6c-f33bd21910a1\" target=\"_top\" title=\"psysml:9ad03ab5-4ba7-4600-8f6c-f33bd21910a1\" xlink:actuate=\"onRequest\" xlink:href=\"psysml:9ad03ab5-4ba7-4600-8f6c-f33bd21910a1\" xlink:show=\"new\" xlink:title=\"psysml:9ad03ab5-4ba7-4600-8f6c-f33bd21910a1\" xlink:type=\"simple\"><rect fill=\"#FFFFFF\" height=\"75.5469\" id=\"E6\" rx=\"10\" ry=\"10\" style=\"stroke: #383838; stroke-width: 1.5;\" width=\"122\" x=\"653\" y=\"177\"/><text fill=\"#000000\" font-family=\"sans-serif\" font-size=\"12\" font-style=\"italic\" lengthAdjust=\"spacingAndGlyphs\" textLength=\"40\" x=\"694\" y=\"193.1387\">«part»</text><text fill=\"#000000\" font-family=\"sans-serif\" font-size=\"12\" lengthAdjust=\"spacingAndGlyphs\" textLength=\"112\" x=\"656\" y=\"207.1074\">trans: VehiclePart</text><line style=\"stroke: #383838; stroke-width: 1.5;\" x1=\"654\" x2=\"774\" y1=\"214.9375\" y2=\"214.9375\"/><text fill=\"#000000\" font-family=\"sans-serif\" font-size=\"11\" lengthAdjust=\"spacingAndGlyphs\" textLength=\"89\" x=\"659\" y=\"245.9526\">^m: MassValue</text><line style=\"stroke: #383838; stroke-width: 1.0;\" x1=\"654\" x2=\"686.5\" y1=\"229.3398\" y2=\"229.3398\"/><text fill=\"#000000\" font-family=\"sans-serif\" font-size=\"11\" lengthAdjust=\"spacingAndGlyphs\" textLength=\"55\" x=\"686.5\" y=\"232.6479\">attributes</text><line style=\"stroke: #383838; stroke-width: 1.0;\" x1=\"741.5\" x2=\"774\" y1=\"229.3398\" y2=\"229.3398\"/></a><!--MD5=[2156ba9850f5573cc1fc38a6a4b2f02b]\n",
       "class E7--><a href=\"psysml:425e038d-47d6-48b2-bd42-a030f1074fc4\" target=\"_top\" title=\"psysml:425e038d-47d6-48b2-bd42-a030f1074fc4\" xlink:actuate=\"onRequest\" xlink:href=\"psysml:425e038d-47d6-48b2-bd42-a030f1074fc4\" xlink:show=\"new\" xlink:title=\"psysml:425e038d-47d6-48b2-bd42-a030f1074fc4\" xlink:type=\"simple\"><rect fill=\"#FFFFFF\" height=\"45.9375\" id=\"E7\" style=\"stroke: #383838; stroke-width: 1.5;\" width=\"112\" x=\"252\" y=\"192\"/><text fill=\"#000000\" font-family=\"sans-serif\" font-size=\"12\" font-style=\"italic\" lengthAdjust=\"spacingAndGlyphs\" textLength=\"110\" x=\"253\" y=\"208.1387\">«calculation  def»</text><text fill=\"#000000\" font-family=\"sans-serif\" font-size=\"12\" lengthAdjust=\"spacingAndGlyphs\" textLength=\"59\" x=\"278.5\" y=\"222.1074\">MassSum</text><line style=\"stroke: #383838; stroke-width: 1.5;\" x1=\"253\" x2=\"363\" y1=\"229.9375\" y2=\"229.9375\"/></a><!--MD5=[b9389687b975829384b498ac4b7476b2]\n",
       "class E8--><a href=\"psysml:e012d373-591a-4cf2-b53b-d810c6dd562d\" target=\"_top\" title=\"psysml:e012d373-591a-4cf2-b53b-d810c6dd562d\" xlink:actuate=\"onRequest\" xlink:href=\"psysml:e012d373-591a-4cf2-b53b-d810c6dd562d\" xlink:show=\"new\" xlink:title=\"psysml:e012d373-591a-4cf2-b53b-d810c6dd562d\" xlink:type=\"simple\"><rect fill=\"#FFFFFF\" height=\"75.5469\" id=\"E8\" rx=\"10\" ry=\"10\" style=\"stroke: #383838; stroke-width: 1.5;\" width=\"293\" x=\"340.5\" y=\"41\"/><text fill=\"#000000\" font-family=\"sans-serif\" font-size=\"12\" font-style=\"italic\" lengthAdjust=\"spacingAndGlyphs\" textLength=\"82\" x=\"446\" y=\"57.1387\">«calculation»</text><text fill=\"#000000\" font-family=\"sans-serif\" font-size=\"12\" lengthAdjust=\"spacingAndGlyphs\" textLength=\"85\" x=\"442.5\" y=\"71.1074\">ms: MassSum</text><line style=\"stroke: #383838; stroke-width: 1.5;\" x1=\"341.5\" x2=\"632.5\" y1=\"78.9375\" y2=\"78.9375\"/><text fill=\"#000000\" font-family=\"sans-serif\" font-size=\"11\" font-weight=\"bold\" lengthAdjust=\"spacingAndGlyphs\" textLength=\"10\" x=\"346.5\" y=\"109.9526\">in</text><text fill=\"#000000\" font-family=\"sans-serif\" font-size=\"11\" lengthAdjust=\"spacingAndGlyphs\" textLength=\"267\" x=\"360.5\" y=\"109.9526\">partMasses= (vehicle.eng.m, vehicle.trans.m);</text><line style=\"stroke: #383838; stroke-width: 1.0;\" x1=\"341.5\" x2=\"453.5\" y1=\"93.3398\" y2=\"93.3398\"/><text fill=\"#000000\" font-family=\"sans-serif\" font-size=\"11\" lengthAdjust=\"spacingAndGlyphs\" textLength=\"67\" x=\"453.5\" y=\"96.6479\">parameters</text><line style=\"stroke: #383838; stroke-width: 1.0;\" x1=\"520.5\" x2=\"632.5\" y1=\"93.3398\" y2=\"93.3398\"/></a><!--MD5=[fd4143e9d270a159db93a4ea2a975926]\n",
       "class E9--><a href=\"psysml:e4253433-368c-4e86-8a3c-6b186419df89\" target=\"_top\" title=\"psysml:e4253433-368c-4e86-8a3c-6b186419df89\" xlink:actuate=\"onRequest\" xlink:href=\"psysml:e4253433-368c-4e86-8a3c-6b186419df89\" xlink:show=\"new\" xlink:title=\"psysml:e4253433-368c-4e86-8a3c-6b186419df89\" xlink:type=\"simple\"><rect fill=\"#FFFFFF\" height=\"45.9375\" id=\"E9\" rx=\"10\" ry=\"10\" style=\"stroke: #383838; stroke-width: 1.5;\" width=\"60\" x=\"245\" y=\"56\"/><text fill=\"#000000\" font-family=\"sans-serif\" font-size=\"12\" font-style=\"italic\" lengthAdjust=\"spacingAndGlyphs\" textLength=\"40\" x=\"255\" y=\"72.1387\">«part»</text><text fill=\"#000000\" font-family=\"sans-serif\" font-size=\"12\" lengthAdjust=\"spacingAndGlyphs\" textLength=\"50\" x=\"248\" y=\"86.1074\">vehicles</text><line style=\"stroke: #383838; stroke-width: 1.5;\" x1=\"246\" x2=\"304\" y1=\"93.9375\" y2=\"93.9375\"/></a><!--MD5=[96f4274e9e20536e775497830990834d]\n",
       "class E10--><a href=\"psysml:03468340-4ee1-4dfd-ba23-9337b31e6caf\" target=\"_top\" title=\"psysml:03468340-4ee1-4dfd-ba23-9337b31e6caf\" xlink:actuate=\"onRequest\" xlink:href=\"psysml:03468340-4ee1-4dfd-ba23-9337b31e6caf\" xlink:show=\"new\" xlink:title=\"psysml:03468340-4ee1-4dfd-ba23-9337b31e6caf\" xlink:type=\"simple\"><rect fill=\"#FFFFFF\" height=\"45.9375\" id=\"E10\" rx=\"10\" ry=\"10\" style=\"stroke: #383838; stroke-width: 1.5;\" width=\"71\" x=\"138.5\" y=\"56\"/><text fill=\"#000000\" font-family=\"sans-serif\" font-size=\"12\" font-style=\"italic\" lengthAdjust=\"spacingAndGlyphs\" textLength=\"69\" x=\"139.5\" y=\"72.1387\">«attribute»</text><text fill=\"#000000\" font-family=\"sans-serif\" font-size=\"12\" lengthAdjust=\"spacingAndGlyphs\" textLength=\"56\" x=\"144\" y=\"86.1074\">masses1</text><line style=\"stroke: #383838; stroke-width: 1.5;\" x1=\"139.5\" x2=\"208.5\" y1=\"93.9375\" y2=\"93.9375\"/></a><!--MD5=[1dd1bfd58a279cf63c5f349dbc8fc6a1]\n",
       "class E11--><a href=\"psysml:a35488ce-7eb0-470e-9ecc-f7a0c28bc139\" target=\"_top\" title=\"psysml:a35488ce-7eb0-470e-9ecc-f7a0c28bc139\" xlink:actuate=\"onRequest\" xlink:href=\"psysml:a35488ce-7eb0-470e-9ecc-f7a0c28bc139\" xlink:show=\"new\" xlink:title=\"psysml:a35488ce-7eb0-470e-9ecc-f7a0c28bc139\" xlink:type=\"simple\"><rect fill=\"#FFFFFF\" height=\"45.9375\" id=\"E11\" rx=\"10\" ry=\"10\" style=\"stroke: #383838; stroke-width: 1.5;\" width=\"71\" x=\"32.5\" y=\"56\"/><text fill=\"#000000\" font-family=\"sans-serif\" font-size=\"12\" font-style=\"italic\" lengthAdjust=\"spacingAndGlyphs\" textLength=\"69\" x=\"33.5\" y=\"72.1387\">«attribute»</text><text fill=\"#000000\" font-family=\"sans-serif\" font-size=\"12\" lengthAdjust=\"spacingAndGlyphs\" textLength=\"56\" x=\"38\" y=\"86.1074\">masses2</text><line style=\"stroke: #383838; stroke-width: 1.5;\" x1=\"33.5\" x2=\"102.5\" y1=\"93.9375\" y2=\"93.9375\"/></a><!--MD5=[05d275557350bfb9b23a4ef7222b4c39]\n",
       "link E3 to E2--><a href=\"psysml:2113862d-3e36-4f2a-be29-5fbeffc35ef5\" target=\"_top\" title=\"psysml:2113862d-3e36-4f2a-be29-5fbeffc35ef5\" xlink:actuate=\"onRequest\" xlink:href=\"psysml:2113862d-3e36-4f2a-be29-5fbeffc35ef5\" xlink:show=\"new\" xlink:title=\"psysml:2113862d-3e36-4f2a-be29-5fbeffc35ef5\" xlink:type=\"simple\"><path d=\"M434,238.07 C434,276.87 434,351 434,351 C434,351 494.79,351 494.79,351 \" fill=\"none\" id=\"E3-&gt;E2\" style=\"stroke: #383838; stroke-width: 1.0;\"/><polygon fill=\"none\" points=\"494.79,344,514.79,351,494.79,358,494.79,344\" style=\"stroke: #383838; stroke-width: 1.0;\"/></a><!--MD5=[f0cdf4548168e5211fb3a02bf679d63a]\n",
       "link E4 to E3--><a href=\"psysml:3f6bcc61-006c-4905-be22-168150e04931\" target=\"_top\" title=\"psysml:3f6bcc61-006c-4905-be22-168150e04931\" xlink:actuate=\"onRequest\" xlink:href=\"psysml:3f6bcc61-006c-4905-be22-168150e04931\" xlink:show=\"new\" xlink:title=\"psysml:3f6bcc61-006c-4905-be22-168150e04931\" xlink:type=\"simple\"><path d=\"M704.33,117.37 C704.33,132.8 704.33,147 704.33,147 C704.33,147 434,147 434,147 C434,147 434,171.98 434,171.98 \" fill=\"none\" id=\"E4-&gt;E3\" style=\"stroke: #383838; stroke-width: 1.0;\"/><polygon fill=\"#FFFFFF\" points=\"434,191.98,427,172.98,441,172.98,434,191.98\" style=\"stroke: #383838; stroke-width: 1.0;\"/><ellipse cx=\"429\" cy=\"167.28\" fill=\"#383838\" rx=\"2\" ry=\"2\" style=\"stroke: #383838; stroke-width: 1.0;\"/><ellipse cx=\"439\" cy=\"167.28\" fill=\"#383838\" rx=\"2\" ry=\"2\" style=\"stroke: #383838; stroke-width: 1.0;\"/></a><!--MD5=[62aa6af11e70f752912c1cb0466f24f7]\n",
       "reverse link E4 to E5--><a href=\"psysml:dfe553ed-92b1-45a3-82b1-c875cfb3cf56\" target=\"_top\" title=\"psysml:dfe553ed-92b1-45a3-82b1-c875cfb3cf56\" xlink:actuate=\"onRequest\" xlink:href=\"psysml:dfe553ed-92b1-45a3-82b1-c875cfb3cf56\" xlink:show=\"new\" xlink:title=\"psysml:dfe553ed-92b1-45a3-82b1-c875cfb3cf56\" xlink:type=\"simple\"><path d=\"M655.6,79 C655.6,79 643.25,79 643.25,79 C643.25,79 643.25,215 643.25,215 C643.25,215 631.92,215 617.68,215 \" fill=\"none\" id=\"E4&lt;-E5\" style=\"stroke: #383838; stroke-width: 1.0;\"/><polygon fill=\"#FFFFFF\" points=\"668.6,79,662.6,75,656.6,79,662.6,83,668.6,79\" style=\"stroke: #383838; stroke-width: 1.0;\"/><text fill=\"#000000\" font-family=\"sans-serif\" font-size=\"13\" lengthAdjust=\"spacingAndGlyphs\" textLength=\"8\" x=\"625.4546\" y=\"211.1435\">1</text></a><!--MD5=[15ebcb19ae302d9b601edb458606d402]\n",
       "link E5 to E2--><a href=\"psysml:7cfd1003-3fe0-4a32-a3a1-13a5c8efedf2\" target=\"_top\" title=\"psysml:7cfd1003-3fe0-4a32-a3a1-13a5c8efedf2\" xlink:actuate=\"onRequest\" xlink:href=\"psysml:7cfd1003-3fe0-4a32-a3a1-13a5c8efedf2\" xlink:show=\"new\" xlink:title=\"psysml:7cfd1003-3fe0-4a32-a3a1-13a5c8efedf2\" xlink:type=\"simple\"><path d=\"M561,253.25 C561,253.25 561,292.57 561,292.57 \" fill=\"none\" id=\"E5-&gt;E2\" style=\"stroke: #383838; stroke-width: 1.0;\"/><polygon fill=\"#FFFFFF\" points=\"561,312.57,554,293.57,568,293.57,561,312.57\" style=\"stroke: #383838; stroke-width: 1.0;\"/><ellipse cx=\"556\" cy=\"287.87\" fill=\"#383838\" rx=\"2\" ry=\"2\" style=\"stroke: #383838; stroke-width: 1.0;\"/><ellipse cx=\"566\" cy=\"287.87\" fill=\"#383838\" rx=\"2\" ry=\"2\" style=\"stroke: #383838; stroke-width: 1.0;\"/></a><!--MD5=[6db378b65e1aef66a01cb3103812b399]\n",
       "reverse link E4 to E6--><a href=\"psysml:56232501-f921-4851-b5f9-a91b366c1c7b\" target=\"_top\" title=\"psysml:56232501-f921-4851-b5f9-a91b366c1c7b\" xlink:actuate=\"onRequest\" xlink:href=\"psysml:56232501-f921-4851-b5f9-a91b366c1c7b\" xlink:show=\"new\" xlink:title=\"psysml:56232501-f921-4851-b5f9-a91b366c1c7b\" xlink:type=\"simple\"><path d=\"M739.67,130.25 C739.67,130.25 739.67,176.57 739.67,176.57 \" fill=\"none\" id=\"E4&lt;-E6\" style=\"stroke: #383838; stroke-width: 1.0;\"/><polygon fill=\"#FFFFFF\" points=\"739.67,117.25,735.67,123.25,739.67,129.25,743.67,123.25,739.67,117.25\" style=\"stroke: #383838; stroke-width: 1.0;\"/><text fill=\"#000000\" font-family=\"sans-serif\" font-size=\"13\" lengthAdjust=\"spacingAndGlyphs\" textLength=\"8\" x=\"735.3945\" y=\"165.793\">1</text></a><!--MD5=[2351f337d6de0f557b50152ba70847b5]\n",
       "link E6 to E2--><a href=\"psysml:b3767e4f-9e3f-4162-9e5b-3e184cb0e1ab\" target=\"_top\" title=\"psysml:b3767e4f-9e3f-4162-9e5b-3e184cb0e1ab\" xlink:actuate=\"onRequest\" xlink:href=\"psysml:b3767e4f-9e3f-4162-9e5b-3e184cb0e1ab\" xlink:show=\"new\" xlink:title=\"psysml:b3767e4f-9e3f-4162-9e5b-3e184cb0e1ab\" xlink:type=\"simple\"><path d=\"M714,253.25 C714,293.47 714,351 714,351 C714,351 627.32,351 627.32,351 \" fill=\"none\" id=\"E6-&gt;E2\" style=\"stroke: #383838; stroke-width: 1.0;\"/><polygon fill=\"#FFFFFF\" points=\"607.32,351,626.32,344,626.32,358,607.32,351\" style=\"stroke: #383838; stroke-width: 1.0;\"/><ellipse cx=\"632.02\" cy=\"346\" fill=\"#383838\" rx=\"2\" ry=\"2\" style=\"stroke: #383838; stroke-width: 1.0;\"/><ellipse cx=\"632.02\" cy=\"356\" fill=\"#383838\" rx=\"2\" ry=\"2\" style=\"stroke: #383838; stroke-width: 1.0;\"/></a><!--MD5=[bfa3c8b0d15052fdf50ae9310b491027]\n",
       "link E8 to E7--><a href=\"psysml:650eb0f7-ec08-4309-80b6-1e90e34b9690\" target=\"_top\" title=\"psysml:650eb0f7-ec08-4309-80b6-1e90e34b9690\" xlink:actuate=\"onRequest\" xlink:href=\"psysml:650eb0f7-ec08-4309-80b6-1e90e34b9690\" xlink:show=\"new\" xlink:title=\"psysml:650eb0f7-ec08-4309-80b6-1e90e34b9690\" xlink:type=\"simple\"><path d=\"M352.25,117.25 C352.25,117.25 352.25,171.94 352.25,171.94 \" fill=\"none\" id=\"E8-&gt;E7\" style=\"stroke: #383838; stroke-width: 1.0;\"/><polygon fill=\"#FFFFFF\" points=\"352.25,191.94,345.25,172.94,359.25,172.94,352.25,191.94\" style=\"stroke: #383838; stroke-width: 1.0;\"/><ellipse cx=\"347.25\" cy=\"167.24\" fill=\"#383838\" rx=\"2\" ry=\"2\" style=\"stroke: #383838; stroke-width: 1.0;\"/><ellipse cx=\"357.25\" cy=\"167.24\" fill=\"#383838\" rx=\"2\" ry=\"2\" style=\"stroke: #383838; stroke-width: 1.0;\"/></a><!--MD5=[844af6a5cfb76058fb2ca7e0de3a1597]\n",
       "@startuml\r\n",
       "skinparam linetype ortho\r\n",
       "skinparam monochrome true\r\n",
       "skinparam classbackgroundcolor white\r\n",
       "skinparam shadowing false\r\n",
       "skinparam wrapWidth 300\r\n",
       "hide circle\r\n",
       "\r\n",
       "package \"CalculationExample\" as E1  [[psysml:9a950c4d-df47-4bf2-a127-6824d456053c ]]  {\r\n",
       "comp def \"VehiclePart\" as E2  <<(T,blue) part  def>> [[psysml:240f00ab-b9bf-457e-9376-98b0b5e156bb ]] {\r\n",
       "- - attributes - -\r\n",
       "m: MassValue\r\n",
       "}\r\n",
       "comp def \"Vehicle\" as E3  <<(T,blue) part  def>> [[psysml:240db56f-6d8c-4faf-8b3c-f8974d12918d ]] {\r\n",
       "}\r\n",
       "comp usage \"vehicle: Vehicle \" as E4  <<(T,blue) part>> [[psysml:ce00e2ad-3315-43f7-b2e6-6ce884a27309 ]] {\r\n",
       "- - attributes - -\r\n",
       "^m: MassValue\r\n",
       "}\r\n",
       "comp usage \"eng: VehiclePart \" as E5  <<(T,blue) part>> [[psysml:83fc889d-b3c1-4be4-83aa-24728b198254 ]] {\r\n",
       "- - attributes - -\r\n",
       "^m: MassValue\r\n",
       "}\r\n",
       "comp usage \"trans: VehiclePart \" as E6  <<(T,blue) part>> [[psysml:9ad03ab5-4ba7-4600-8f6c-f33bd21910a1 ]] {\r\n",
       "- - attributes - -\r\n",
       "^m: MassValue\r\n",
       "}\r\n",
       "comp def \"MassSum\" as E7  <<(T,blue) calculation  def>> [[psysml:425e038d-47d6-48b2-bd42-a030f1074fc4 ]] {\r\n",
       "}\r\n",
       "comp usage \"ms: MassSum \" as E8  <<(T,blue) calculation>> [[psysml:e012d373-591a-4cf2-b53b-d810c6dd562d ]] {\r\n",
       "- - parameters - -\r\n",
       "<b>in</b> partMasses= (vehicle.eng.m, vehicle.trans.m); \r\n",
       "}\r\n",
       "comp usage \"vehicles \" as E9  <<(T,blue) part>> [[psysml:e4253433-368c-4e86-8a3c-6b186419df89 ]] {\r\n",
       "}\r\n",
       "comp usage \"masses1 \" as E10  <<(T,blue) attribute>> [[psysml:03468340-4ee1-4dfd-ba23-9337b31e6caf ]] {\r\n",
       "}\r\n",
       "comp usage \"masses2 \" as E11  <<(T,blue) attribute>> [[psysml:a35488ce-7eb0-470e-9ecc-f7a0c28bc139 ]] {\r\n",
       "}\r\n",
       "}\r\n",
       "E3 - -|> E2 [[psysml:2113862d-3e36-4f2a-be29-5fbeffc35ef5 ]] \r\n",
       "E4 - -:|> E3 [[psysml:3f6bcc61-006c-4905-be22-168150e04931 ]] \r\n",
       "E4 o- - \"1\"E5 [[psysml:dfe553ed-92b1-45a3-82b1-c875cfb3cf56 ]] \r\n",
       "E5 - -:|> E2 [[psysml:7cfd1003-3fe0-4a32-a3a1-13a5c8efedf2 ]] \r\n",
       "E4 o- - \"1\"E6 [[psysml:56232501-f921-4851-b5f9-a91b366c1c7b ]] \r\n",
       "E6 - -:|> E2 [[psysml:b3767e4f-9e3f-4162-9e5b-3e184cb0e1ab ]] \r\n",
       "E8 - -:|> E7 [[psysml:650eb0f7-ec08-4309-80b6-1e90e34b9690 ]] \r\n",
       "@enduml\r\n",
       "\n",
       "PlantUML version 1.2020.13(Sat Jun 13 12:26:38 UTC 2020)\n",
       "(EPL source distribution)\n",
       "Java Runtime: OpenJDK Runtime Environment\n",
       "JVM: OpenJDK 64-Bit Server VM\n",
       "Default Encoding: UTF-8\n",
       "Language: en\n",
       "Country: null\n",
       "--></g></svg>"
      ]
     },
     "execution_count": 52,
     "metadata": {},
     "output_type": "execute_result"
    }
   ],
   "source": [
    "%viz --style=\"ORTHOLINE\" --view=\"Tree\" \"CalculationExample\""
   ]
  },
  {
   "cell_type": "code",
   "execution_count": 53,
   "id": "3b77cd0d",
   "metadata": {
    "execution": {
     "iopub.execute_input": "2022-08-19T08:22:05.102985Z",
     "iopub.status.busy": "2022-08-19T08:22:05.102541Z",
     "iopub.status.idle": "2022-08-19T08:22:05.110343Z",
     "shell.execute_reply": "2022-08-19T08:22:05.109924Z"
    }
   },
   "outputs": [
    {
     "data": {
      "image/svg+xml": [
       "<?xml version=\"1.0\" encoding=\"UTF-8\" standalone=\"no\"?><svg xmlns=\"http://www.w3.org/2000/svg\" xmlns:xlink=\"http://www.w3.org/1999/xlink\" contentScriptType=\"application/ecmascript\" contentStyleType=\"text/css\" height=\"12px\" preserveAspectRatio=\"none\" style=\"width:12px;height:12px;\" version=\"1.1\" viewBox=\"0 0 12 12\" width=\"12px\" zoomAndPan=\"magnify\"><defs/><g><!--MD5=[97d6f38768b311333d388e66b2b27985]\n",
       "@startuml\r\n",
       "skinparam linetype ortho\r\n",
       "skinparam monochrome true\r\n",
       "skinparam classbackgroundcolor white\r\n",
       "skinparam shadowing false\r\n",
       "skinparam wrapWidth 300\r\n",
       "hide circle\r\n",
       "\r\n",
       "@enduml\r\n",
       "\n",
       "PlantUML version 1.2020.13(Sat Jun 13 12:26:38 UTC 2020)\n",
       "(EPL source distribution)\n",
       "Java Runtime: OpenJDK Runtime Environment\n",
       "JVM: OpenJDK 64-Bit Server VM\n",
       "Default Encoding: UTF-8\n",
       "Language: en\n",
       "Country: null\n",
       "--></g></svg>"
      ]
     },
     "execution_count": 53,
     "metadata": {},
     "output_type": "execute_result"
    }
   ],
   "source": [
    "%viz --style=\"ORTHOLINE\" --view=\"State\" \"CalculationExample\""
   ]
  },
  {
   "cell_type": "code",
   "execution_count": 54,
   "id": "85a3f1eb",
   "metadata": {
    "execution": {
     "iopub.execute_input": "2022-08-19T08:22:05.160066Z",
     "iopub.status.busy": "2022-08-19T08:22:05.159620Z",
     "iopub.status.idle": "2022-08-19T08:22:05.205117Z",
     "shell.execute_reply": "2022-08-19T08:22:05.203293Z"
    }
   },
   "outputs": [
    {
     "data": {
      "image/svg+xml": [
       "<?xml version=\"1.0\" encoding=\"UTF-8\" standalone=\"no\"?><svg xmlns=\"http://www.w3.org/2000/svg\" xmlns:xlink=\"http://www.w3.org/1999/xlink\" contentScriptType=\"application/ecmascript\" contentStyleType=\"text/css\" height=\"581px\" preserveAspectRatio=\"none\" style=\"width:1649px;height:581px;\" version=\"1.1\" viewBox=\"0 0 1649 581\" width=\"1649px\" zoomAndPan=\"magnify\"><defs/><g><!--MD5=[fbc87193dbaf4d95561dea2c320d4a47]\n",
       "cluster E1--><a href=\"psysml:9a950c4d-df47-4bf2-a127-6824d456053c\" target=\"_top\" title=\"psysml:9a950c4d-df47-4bf2-a127-6824d456053c\" xlink:actuate=\"onRequest\" xlink:href=\"psysml:9a950c4d-df47-4bf2-a127-6824d456053c\" xlink:show=\"new\" xlink:title=\"psysml:9a950c4d-df47-4bf2-a127-6824d456053c\" xlink:type=\"simple\"><polygon fill=\"#FFFFFF\" points=\"16,6,155,6,162,28.2969,1627,28.2969,1627,569,16,569,16,6\" style=\"stroke: #000000; stroke-width: 1.5;\"/><line style=\"stroke: #000000; stroke-width: 1.5;\" x1=\"16\" x2=\"162\" y1=\"28.2969\" y2=\"28.2969\"/><text fill=\"#000000\" font-family=\"sans-serif\" font-size=\"14\" font-weight=\"bold\" lengthAdjust=\"spacingAndGlyphs\" textLength=\"133\" x=\"20\" y=\"20.9951\">CalculationExample</text></a><!--MD5=[e4f7fae6ed58524ba242bb0b0d3be6b7]\n",
       "cluster E2--><a href=\"psysml:240f00ab-b9bf-457e-9376-98b0b5e156bb\" target=\"_top\" title=\"psysml:240f00ab-b9bf-457e-9376-98b0b5e156bb\" xlink:actuate=\"onRequest\" xlink:href=\"psysml:240f00ab-b9bf-457e-9376-98b0b5e156bb\" xlink:show=\"new\" xlink:title=\"psysml:240f00ab-b9bf-457e-9376-98b0b5e156bb\" xlink:type=\"simple\"><rect fill=\"#FFFFFF\" height=\"129\" id=\"E2\" style=\"stroke: #383838; stroke-width: 1.5;\" width=\"163\" x=\"1169\" y=\"372\"/><rect fill=\"#F8F8F8\" height=\"37.9375\" style=\"stroke: #383838; stroke-width: 1.5;\" width=\"163\" x=\"1169\" y=\"372\"/><text fill=\"#000000\" font-family=\"sans-serif\" font-size=\"12\" font-style=\"italic\" lengthAdjust=\"spacingAndGlyphs\" textLength=\"68\" x=\"1216.5\" y=\"388.1387\">«part  def»</text><text fill=\"#000000\" font-family=\"sans-serif\" font-size=\"12\" lengthAdjust=\"spacingAndGlyphs\" textLength=\"71\" x=\"1215\" y=\"402.1074\">VehiclePart</text></a><!--MD5=[de5ec2e2e8f62f467e546659f5068c88]\n",
       "cluster E5--><a href=\"psysml:ce00e2ad-3315-43f7-b2e6-6ce884a27309\" target=\"_top\" title=\"psysml:ce00e2ad-3315-43f7-b2e6-6ce884a27309\" xlink:actuate=\"onRequest\" xlink:href=\"psysml:ce00e2ad-3315-43f7-b2e6-6ce884a27309\" xlink:show=\"new\" xlink:title=\"psysml:ce00e2ad-3315-43f7-b2e6-6ce884a27309\" xlink:type=\"simple\"><rect fill=\"#FFFFFF\" height=\"212\" id=\"E5\" rx=\"10\" ry=\"10\" style=\"stroke: #383838; stroke-width: 1.5;\" width=\"602\" x=\"993\" y=\"57\"/><rect fill=\"#F8F8F8\" height=\"23.9688\" rx=\"10\" ry=\"10\" style=\"stroke: #F8F8F8; stroke-width: 1.5;\" width=\"602\" x=\"993\" y=\"57\"/><rect fill=\"#F8F8F8\" height=\"10\" style=\"stroke: #F8F8F8; stroke-width: 1.5;\" width=\"602\" x=\"993\" y=\"70.9688\"/><rect fill=\"none\" height=\"212\" id=\"E5\" rx=\"10\" ry=\"10\" style=\"stroke: #383838; stroke-width: 1.5;\" width=\"602\" x=\"993\" y=\"57\"/><text fill=\"#000000\" font-family=\"sans-serif\" font-size=\"12\" lengthAdjust=\"spacingAndGlyphs\" textLength=\"96\" x=\"1246\" y=\"73.1387\">vehicle: Vehicle</text><line style=\"stroke: #383838; stroke-width: 1.0;\" x1=\"993\" x2=\"1595\" y1=\"80.9688\" y2=\"80.9688\"/></a><!--MD5=[14e3b0961a2654348d326746436168a1]\n",
       "cluster E6--><a href=\"psysml:83fc889d-b3c1-4be4-83aa-24728b198254\" target=\"_top\" title=\"psysml:83fc889d-b3c1-4be4-83aa-24728b198254\" xlink:actuate=\"onRequest\" xlink:href=\"psysml:83fc889d-b3c1-4be4-83aa-24728b198254\" xlink:show=\"new\" xlink:title=\"psysml:83fc889d-b3c1-4be4-83aa-24728b198254\" xlink:type=\"simple\"><rect fill=\"#FFFFFF\" height=\"113\" id=\"E6\" rx=\"10\" ry=\"10\" style=\"stroke: #383838; stroke-width: 1.5;\" width=\"173\" x=\"1169\" y=\"116\"/><rect fill=\"#F8F8F8\" height=\"23.9688\" rx=\"10\" ry=\"10\" style=\"stroke: #F8F8F8; stroke-width: 1.5;\" width=\"173\" x=\"1169\" y=\"116\"/><rect fill=\"#F8F8F8\" height=\"10\" style=\"stroke: #F8F8F8; stroke-width: 1.5;\" width=\"173\" x=\"1169\" y=\"129.9688\"/><rect fill=\"none\" height=\"113\" id=\"E6\" rx=\"10\" ry=\"10\" style=\"stroke: #383838; stroke-width: 1.5;\" width=\"173\" x=\"1169\" y=\"116\"/><text fill=\"#000000\" font-family=\"sans-serif\" font-size=\"12\" lengthAdjust=\"spacingAndGlyphs\" textLength=\"103\" x=\"1204\" y=\"132.1387\">eng: VehiclePart</text><line style=\"stroke: #383838; stroke-width: 1.0;\" x1=\"1169\" x2=\"1342\" y1=\"139.9688\" y2=\"139.9688\"/></a><!--MD5=[55dfccfc6c49c2d10cd1bd2211a6c90c]\n",
       "cluster E8--><a href=\"psysml:9ad03ab5-4ba7-4600-8f6c-f33bd21910a1\" target=\"_top\" title=\"psysml:9ad03ab5-4ba7-4600-8f6c-f33bd21910a1\" xlink:actuate=\"onRequest\" xlink:href=\"psysml:9ad03ab5-4ba7-4600-8f6c-f33bd21910a1\" xlink:show=\"new\" xlink:title=\"psysml:9ad03ab5-4ba7-4600-8f6c-f33bd21910a1\" xlink:type=\"simple\"><rect fill=\"#FFFFFF\" height=\"113\" id=\"E8\" rx=\"10\" ry=\"10\" style=\"stroke: #383838; stroke-width: 1.5;\" width=\"173\" x=\"1382\" y=\"116\"/><rect fill=\"#F8F8F8\" height=\"23.9688\" rx=\"10\" ry=\"10\" style=\"stroke: #F8F8F8; stroke-width: 1.5;\" width=\"173\" x=\"1382\" y=\"116\"/><rect fill=\"#F8F8F8\" height=\"10\" style=\"stroke: #F8F8F8; stroke-width: 1.5;\" width=\"173\" x=\"1382\" y=\"129.9688\"/><rect fill=\"none\" height=\"113\" id=\"E8\" rx=\"10\" ry=\"10\" style=\"stroke: #383838; stroke-width: 1.5;\" width=\"173\" x=\"1382\" y=\"116\"/><text fill=\"#000000\" font-family=\"sans-serif\" font-size=\"12\" lengthAdjust=\"spacingAndGlyphs\" textLength=\"112\" x=\"1412.5\" y=\"132.1387\">trans: VehiclePart</text><line style=\"stroke: #383838; stroke-width: 1.0;\" x1=\"1382\" x2=\"1555\" y1=\"139.9688\" y2=\"139.9688\"/></a><!--MD5=[917b9dd0c7eca3ee5f47219d1a84c0ad]\n",
       "cluster E11--><a href=\"psysml:425e038d-47d6-48b2-bd42-a030f1074fc4\" target=\"_top\" title=\"psysml:425e038d-47d6-48b2-bd42-a030f1074fc4\" xlink:actuate=\"onRequest\" xlink:href=\"psysml:425e038d-47d6-48b2-bd42-a030f1074fc4\" xlink:show=\"new\" xlink:title=\"psysml:425e038d-47d6-48b2-bd42-a030f1074fc4\" xlink:type=\"simple\"><rect fill=\"#FFFFFF\" height=\"349\" id=\"E11\" style=\"stroke: #383838; stroke-width: 1.5;\" width=\"186\" x=\"775\" y=\"182\"/><rect fill=\"#F8F8F8\" height=\"37.9375\" style=\"stroke: #383838; stroke-width: 1.5;\" width=\"186\" x=\"775\" y=\"182\"/><text fill=\"#000000\" font-family=\"sans-serif\" font-size=\"12\" font-style=\"italic\" lengthAdjust=\"spacingAndGlyphs\" textLength=\"110\" x=\"813\" y=\"198.1387\">«calculation  def»</text><text fill=\"#000000\" font-family=\"sans-serif\" font-size=\"12\" lengthAdjust=\"spacingAndGlyphs\" textLength=\"59\" x=\"838.5\" y=\"212.1074\">MassSum</text></a><!--MD5=[bee11217b2f71d958a27249dc326068c]\n",
       "class E14--><a href=\"psysml:e012d373-591a-4cf2-b53b-d810c6dd562d\" target=\"_top\" title=\"psysml:e012d373-591a-4cf2-b53b-d810c6dd562d\" xlink:actuate=\"onRequest\" xlink:href=\"psysml:e012d373-591a-4cf2-b53b-d810c6dd562d\" xlink:show=\"new\" xlink:title=\"psysml:e012d373-591a-4cf2-b53b-d810c6dd562d\" xlink:type=\"simple\"><rect fill=\"#FFFFFF\" height=\"75.5469\" id=\"E14\" rx=\"10\" ry=\"10\" style=\"stroke: #383838; stroke-width: 1.5;\" width=\"293\" x=\"465.5\" y=\"144\"/><text fill=\"#000000\" font-family=\"sans-serif\" font-size=\"12\" font-style=\"italic\" lengthAdjust=\"spacingAndGlyphs\" textLength=\"82\" x=\"571\" y=\"160.1387\">«calculation»</text><text fill=\"#000000\" font-family=\"sans-serif\" font-size=\"12\" lengthAdjust=\"spacingAndGlyphs\" textLength=\"85\" x=\"567.5\" y=\"174.1074\">ms: MassSum</text><line style=\"stroke: #383838; stroke-width: 1.5;\" x1=\"466.5\" x2=\"757.5\" y1=\"181.9375\" y2=\"181.9375\"/><text fill=\"#000000\" font-family=\"sans-serif\" font-size=\"11\" font-weight=\"bold\" lengthAdjust=\"spacingAndGlyphs\" textLength=\"10\" x=\"471.5\" y=\"212.9526\">in</text><text fill=\"#000000\" font-family=\"sans-serif\" font-size=\"11\" lengthAdjust=\"spacingAndGlyphs\" textLength=\"267\" x=\"485.5\" y=\"212.9526\">partMasses= (vehicle.eng.m, vehicle.trans.m);</text><line style=\"stroke: #383838; stroke-width: 1.0;\" x1=\"466.5\" x2=\"578.5\" y1=\"196.3398\" y2=\"196.3398\"/><text fill=\"#000000\" font-family=\"sans-serif\" font-size=\"11\" lengthAdjust=\"spacingAndGlyphs\" textLength=\"67\" x=\"578.5\" y=\"199.6479\">parameters</text><line style=\"stroke: #383838; stroke-width: 1.0;\" x1=\"645.5\" x2=\"757.5\" y1=\"196.3398\" y2=\"196.3398\"/></a><!--MD5=[35f0587eaee8d5bb9a02e25b63afc23b]\n",
       "class E16--><a href=\"psysml:03468340-4ee1-4dfd-ba23-9337b31e6caf\" target=\"_top\" title=\"psysml:03468340-4ee1-4dfd-ba23-9337b31e6caf\" xlink:actuate=\"onRequest\" xlink:href=\"psysml:03468340-4ee1-4dfd-ba23-9337b31e6caf\" xlink:show=\"new\" xlink:title=\"psysml:03468340-4ee1-4dfd-ba23-9337b31e6caf\" xlink:type=\"simple\"><rect fill=\"#FFFFFF\" height=\"45.9375\" id=\"E16\" rx=\"10\" ry=\"10\" style=\"stroke: #383838; stroke-width: 1.5;\" width=\"71\" x=\"359.5\" y=\"159\"/><text fill=\"#000000\" font-family=\"sans-serif\" font-size=\"12\" font-style=\"italic\" lengthAdjust=\"spacingAndGlyphs\" textLength=\"69\" x=\"360.5\" y=\"175.1387\">«attribute»</text><text fill=\"#000000\" font-family=\"sans-serif\" font-size=\"12\" lengthAdjust=\"spacingAndGlyphs\" textLength=\"56\" x=\"365\" y=\"189.1074\">masses1</text><line style=\"stroke: #383838; stroke-width: 1.5;\" x1=\"360.5\" x2=\"429.5\" y1=\"196.9375\" y2=\"196.9375\"/></a><!--MD5=[60e55a4a9b2f0dc0a36787c5a2095786]\n",
       "class E17--><a href=\"psysml:a35488ce-7eb0-470e-9ecc-f7a0c28bc139\" target=\"_top\" title=\"psysml:a35488ce-7eb0-470e-9ecc-f7a0c28bc139\" xlink:actuate=\"onRequest\" xlink:href=\"psysml:a35488ce-7eb0-470e-9ecc-f7a0c28bc139\" xlink:show=\"new\" xlink:title=\"psysml:a35488ce-7eb0-470e-9ecc-f7a0c28bc139\" xlink:type=\"simple\"><rect fill=\"#FFFFFF\" height=\"45.9375\" id=\"E17\" rx=\"10\" ry=\"10\" style=\"stroke: #383838; stroke-width: 1.5;\" width=\"71\" x=\"253.5\" y=\"159\"/><text fill=\"#000000\" font-family=\"sans-serif\" font-size=\"12\" font-style=\"italic\" lengthAdjust=\"spacingAndGlyphs\" textLength=\"69\" x=\"254.5\" y=\"175.1387\">«attribute»</text><text fill=\"#000000\" font-family=\"sans-serif\" font-size=\"12\" lengthAdjust=\"spacingAndGlyphs\" textLength=\"56\" x=\"259\" y=\"189.1074\">masses2</text><line style=\"stroke: #383838; stroke-width: 1.5;\" x1=\"254.5\" x2=\"323.5\" y1=\"196.9375\" y2=\"196.9375\"/></a><!--MD5=[09b614a08d8cba4a07c9adeb5e0fee81]\n",
       "class E3--><a href=\"psysml:3c3f6982-fe48-410d-a073-4745105d0bb1\" target=\"_top\" title=\"psysml:3c3f6982-fe48-410d-a073-4745105d0bb1\" xlink:actuate=\"onRequest\" xlink:href=\"psysml:3c3f6982-fe48-410d-a073-4745105d0bb1\" xlink:show=\"new\" xlink:title=\"psysml:3c3f6982-fe48-410d-a073-4745105d0bb1\" xlink:type=\"simple\"><rect fill=\"#FFFFFF\" height=\"45.9375\" id=\"E3\" rx=\"10\" ry=\"10\" style=\"stroke: #383838; stroke-width: 1.5;\" width=\"96\" x=\"1212\" y=\"431\"/><text fill=\"#000000\" font-family=\"sans-serif\" font-size=\"12\" font-style=\"italic\" lengthAdjust=\"spacingAndGlyphs\" textLength=\"69\" x=\"1225.5\" y=\"447.1387\">«attribute»</text><text fill=\"#000000\" font-family=\"sans-serif\" font-size=\"12\" lengthAdjust=\"spacingAndGlyphs\" textLength=\"86\" x=\"1215\" y=\"461.1074\">m: MassValue</text><line style=\"stroke: #383838; stroke-width: 1.5;\" x1=\"1213\" x2=\"1307\" y1=\"468.9375\" y2=\"468.9375\"/></a><g id=\"E1.E4\"><a href=\"psysml:240db56f-6d8c-4faf-8b3c-f8974d12918d\" target=\"_top\" title=\"psysml:240db56f-6d8c-4faf-8b3c-f8974d12918d\" xlink:actuate=\"onRequest\" xlink:href=\"psysml:240db56f-6d8c-4faf-8b3c-f8974d12918d\" xlink:show=\"new\" xlink:title=\"psysml:240db56f-6d8c-4faf-8b3c-f8974d12918d\" xlink:type=\"simple\"><rect fill=\"#FFFFFF\" height=\"42.9375\" id=\"E4\" style=\"stroke: #383838; stroke-width: 1.5;\" width=\"75\" x=\"1021.5\" y=\"305\"/><rect fill=\"#F8F8F8\" height=\"37.9375\" style=\"stroke: #383838; stroke-width: 1.5;\" width=\"75\" x=\"1021.5\" y=\"305\"/><text fill=\"#000000\" font-family=\"sans-serif\" font-size=\"12\" font-style=\"italic\" lengthAdjust=\"spacingAndGlyphs\" textLength=\"68\" x=\"1025\" y=\"321.1387\">«part  def»</text><text fill=\"#000000\" font-family=\"sans-serif\" font-size=\"12\" lengthAdjust=\"spacingAndGlyphs\" textLength=\"45\" x=\"1036.5\" y=\"335.1074\">Vehicle</text></a></g><!--MD5=[96f4274e9e20536e775497830990834d]\n",
       "class E10--><a href=\"psysml:3c3f6982-fe48-410d-a073-4745105d0bb1\" target=\"_top\" title=\"psysml:3c3f6982-fe48-410d-a073-4745105d0bb1\" xlink:actuate=\"onRequest\" xlink:href=\"psysml:3c3f6982-fe48-410d-a073-4745105d0bb1\" xlink:show=\"new\" xlink:title=\"psysml:3c3f6982-fe48-410d-a073-4745105d0bb1\" xlink:type=\"simple\"><rect fill=\"#FFFFFF\" height=\"45.9375\" id=\"E10\" rx=\"10\" ry=\"10\" style=\"stroke: #383838; stroke-width: 1.5;\" width=\"106\" x=\"1036\" y=\"159\"/><text fill=\"#000000\" font-family=\"sans-serif\" font-size=\"12\" font-style=\"italic\" lengthAdjust=\"spacingAndGlyphs\" textLength=\"69\" x=\"1054.5\" y=\"175.1387\">«attribute»</text><text fill=\"#000000\" font-family=\"sans-serif\" font-size=\"12\" lengthAdjust=\"spacingAndGlyphs\" textLength=\"96\" x=\"1039\" y=\"189.1074\">^m: MassValue</text><line style=\"stroke: #383838; stroke-width: 1.5;\" x1=\"1037\" x2=\"1141\" y1=\"196.9375\" y2=\"196.9375\"/></a><!--MD5=[2156ba9850f5573cc1fc38a6a4b2f02b]\n",
       "class E7--><a href=\"psysml:3c3f6982-fe48-410d-a073-4745105d0bb1\" target=\"_top\" title=\"psysml:3c3f6982-fe48-410d-a073-4745105d0bb1\" xlink:actuate=\"onRequest\" xlink:href=\"psysml:3c3f6982-fe48-410d-a073-4745105d0bb1\" xlink:show=\"new\" xlink:title=\"psysml:3c3f6982-fe48-410d-a073-4745105d0bb1\" xlink:type=\"simple\"><rect fill=\"#FFFFFF\" height=\"45.9375\" id=\"E7\" rx=\"10\" ry=\"10\" style=\"stroke: #383838; stroke-width: 1.5;\" width=\"106\" x=\"1212\" y=\"159\"/><text fill=\"#000000\" font-family=\"sans-serif\" font-size=\"12\" font-style=\"italic\" lengthAdjust=\"spacingAndGlyphs\" textLength=\"69\" x=\"1230.5\" y=\"175.1387\">«attribute»</text><text fill=\"#000000\" font-family=\"sans-serif\" font-size=\"12\" lengthAdjust=\"spacingAndGlyphs\" textLength=\"96\" x=\"1215\" y=\"189.1074\">^m: MassValue</text><line style=\"stroke: #383838; stroke-width: 1.5;\" x1=\"1213\" x2=\"1317\" y1=\"196.9375\" y2=\"196.9375\"/></a><!--MD5=[fd4143e9d270a159db93a4ea2a975926]\n",
       "class E9--><a href=\"psysml:3c3f6982-fe48-410d-a073-4745105d0bb1\" target=\"_top\" title=\"psysml:3c3f6982-fe48-410d-a073-4745105d0bb1\" xlink:actuate=\"onRequest\" xlink:href=\"psysml:3c3f6982-fe48-410d-a073-4745105d0bb1\" xlink:show=\"new\" xlink:title=\"psysml:3c3f6982-fe48-410d-a073-4745105d0bb1\" xlink:type=\"simple\"><rect fill=\"#FFFFFF\" height=\"45.9375\" id=\"E9\" rx=\"10\" ry=\"10\" style=\"stroke: #383838; stroke-width: 1.5;\" width=\"106\" x=\"1425\" y=\"159\"/><text fill=\"#000000\" font-family=\"sans-serif\" font-size=\"12\" font-style=\"italic\" lengthAdjust=\"spacingAndGlyphs\" textLength=\"69\" x=\"1443.5\" y=\"175.1387\">«attribute»</text><text fill=\"#000000\" font-family=\"sans-serif\" font-size=\"12\" lengthAdjust=\"spacingAndGlyphs\" textLength=\"96\" x=\"1428\" y=\"189.1074\">^m: MassValue</text><line style=\"stroke: #383838; stroke-width: 1.5;\" x1=\"1426\" x2=\"1530\" y1=\"196.9375\" y2=\"196.9375\"/></a><text fill=\"#000000\" font-family=\"sans-serif\" font-size=\"14\" lengthAdjust=\"spacingAndGlyphs\" textLength=\"80\" x=\"828\" y=\"160.6982\">partMasses</text><rect fill=\"#383838\" height=\"12\" style=\"stroke: #F8F8F8; stroke-width: 1.5;\" width=\"12\" x=\"862\" y=\"176\"/><text fill=\"#000000\" font-family=\"sans-serif\" font-size=\"14\" lengthAdjust=\"spacingAndGlyphs\" textLength=\"66\" x=\"835\" y=\"549.9951\">totalMass</text><rect fill=\"#383838\" height=\"12\" style=\"stroke: #F8F8F8; stroke-width: 1.5;\" width=\"12\" x=\"862\" y=\"525\"/><g id=\"E1.E15\"><a href=\"psysml:e4253433-368c-4e86-8a3c-6b186419df89\" target=\"_top\" title=\"psysml:e4253433-368c-4e86-8a3c-6b186419df89\" xlink:actuate=\"onRequest\" xlink:href=\"psysml:e4253433-368c-4e86-8a3c-6b186419df89\" xlink:show=\"new\" xlink:title=\"psysml:e4253433-368c-4e86-8a3c-6b186419df89\" xlink:type=\"simple\"><rect fill=\"#FFFFFF\" height=\"40\" id=\"E15\" rx=\"10\" ry=\"10\" style=\"stroke: #383838; stroke-width: 1.5;\" width=\"187\" x=\"31.5\" y=\"162\"/><rect fill=\"#F8F8F8\" height=\"23.9688\" rx=\"10\" ry=\"10\" style=\"stroke: #F8F8F8; stroke-width: 1.5;\" width=\"187\" x=\"31.5\" y=\"162\"/><rect fill=\"#F8F8F8\" height=\"10\" style=\"stroke: #F8F8F8; stroke-width: 1.5;\" width=\"187\" x=\"31.5\" y=\"175.9688\"/><rect fill=\"none\" height=\"40\" id=\"E15\" rx=\"10\" ry=\"10\" style=\"stroke: #383838; stroke-width: 1.5;\" width=\"187\" x=\"31.5\" y=\"162\"/><text fill=\"#000000\" font-family=\"sans-serif\" font-size=\"12\" lengthAdjust=\"spacingAndGlyphs\" textLength=\"172\" x=\"37\" y=\"178.1387\">vehicles= (vehicle, vehicle);</text></a></g><!--MD5=[185131fc0dcab0a4505a2ebe144e961b]\n",
       "link E4 to E2--><a href=\"psysml:2113862d-3e36-4f2a-be29-5fbeffc35ef5\" target=\"_top\" title=\"psysml:2113862d-3e36-4f2a-be29-5fbeffc35ef5\" xlink:actuate=\"onRequest\" xlink:href=\"psysml:2113862d-3e36-4f2a-be29-5fbeffc35ef5\" xlink:show=\"new\" xlink:title=\"psysml:2113862d-3e36-4f2a-be29-5fbeffc35ef5\" xlink:type=\"simple\"><path d=\"M1096.66,327 C1131.19,327 1177,327 1177,327 C1177,327 1177,334.4494 1177,345.7398 C1177,351.3851 1177,357.9906 1177,365.1053 C1177,366.884 1177,368.6945 1177,370.5298 C1177,370.9886 1177,371.449 1177,371.9108 \" fill=\"none\" id=\"E4-&gt;E2\" style=\"stroke: #383838; stroke-width: 1.0;\"/><polygon fill=\"#FFFFFF\" points=\"1177,371.9108,1184,352.9108,1170,352.9108,1177,371.9108\" style=\"stroke: #383838; stroke-width: 1.0;\"/></a><!--MD5=[2351f337d6de0f557b50152ba70847b5]\n",
       "link E6 to E2--><a href=\"psysml:7cfd1003-3fe0-4a32-a3a1-13a5c8efedf2\" target=\"_top\" title=\"psysml:7cfd1003-3fe0-4a32-a3a1-13a5c8efedf2\" xlink:actuate=\"onRequest\" xlink:href=\"psysml:7cfd1003-3fe0-4a32-a3a1-13a5c8efedf2\" xlink:show=\"new\" xlink:title=\"psysml:7cfd1003-3fe0-4a32-a3a1-13a5c8efedf2\" xlink:type=\"simple\"><path d=\"M1195,229.3788 C1195,231.0369 1195,232.7261 1195,234.4443 C1195,237.8809 1195,241.4336 1195,245.0859 C1195,252.3906 1195,260.0938 1195,268.0625 C1195,284 1195,301 1195,318 C1195,335 1195,352 1195,367.9375 C1195,368.9336 1195,369.9255 1195,370.9131 C1195,371.16 1195,371.4066 1195,371.6529 \" fill=\"none\" id=\"E6-&gt;E2\" style=\"stroke: #383838; stroke-width: 1.0;\"/><polygon fill=\"#FFFFFF\" points=\"1195,371.6529,1188,352.6529,1202,352.6529,1195,371.6529\" style=\"stroke: #383838; stroke-width: 1.0;\"/><ellipse cx=\"1190\" cy=\"346.9529\" fill=\"#383838\" rx=\"2\" ry=\"2\" style=\"stroke: #383838; stroke-width: 1.0;\"/><ellipse cx=\"1200\" cy=\"346.9529\" fill=\"#383838\" rx=\"2\" ry=\"2\" style=\"stroke: #383838; stroke-width: 1.0;\"/></a><!--MD5=[f1f3f9f2fc535e6147756cb86a7f2e32]\n",
       "link E8 to E2--><a href=\"psysml:b3767e4f-9e3f-4162-9e5b-3e184cb0e1ab\" target=\"_top\" title=\"psysml:b3767e4f-9e3f-4162-9e5b-3e184cb0e1ab\" xlink:actuate=\"onRequest\" xlink:href=\"psysml:b3767e4f-9e3f-4162-9e5b-3e184cb0e1ab\" xlink:show=\"new\" xlink:title=\"psysml:b3767e4f-9e3f-4162-9e5b-3e184cb0e1ab\" xlink:type=\"simple\"><path d=\"M1390,229.9537 C1390,230.8533 1390,231.7624 1390,232.6807 C1390,234.5172 1390,236.3906 1390,238.2984 C1390,268.8244 1390,308.1887 1390,347.1075 C1390,424.945 1390,501 1390,501 C1390,501 1177,501 1177,501 \" fill=\"none\" id=\"E8-&gt;E2\" style=\"stroke: #383838; stroke-width: 1.0;\"/><polygon fill=\"#FFFFFF\" points=\"1177,501,1196,494,1196,508,1177,501\" style=\"stroke: #383838; stroke-width: 1.0;\"/><ellipse cx=\"1201.7\" cy=\"496\" fill=\"#383838\" rx=\"2\" ry=\"2\" style=\"stroke: #383838; stroke-width: 1.0;\"/><ellipse cx=\"1201.7\" cy=\"506\" fill=\"#383838\" rx=\"2\" ry=\"2\" style=\"stroke: #383838; stroke-width: 1.0;\"/></a><!--MD5=[1c62de2aa5b76f0fb657ff8443a1a700]\n",
       "link E5 to E4--><a href=\"psysml:3f6bcc61-006c-4905-be22-168150e04931\" target=\"_top\" title=\"psysml:3f6bcc61-006c-4905-be22-168150e04931\" xlink:actuate=\"onRequest\" xlink:href=\"psysml:3f6bcc61-006c-4905-be22-168150e04931\" xlink:show=\"new\" xlink:title=\"psysml:3f6bcc61-006c-4905-be22-168150e04931\" xlink:type=\"simple\"><path d=\"M1028.75,269.2463 C1028.75,269.3954 1028.75,269.5437 1028.75,269.6912 C1028.75,269.9862 1028.75,270.2779 1028.75,270.5664 C1028.75,271.1432 1028.75,271.7067 1028.75,272.2561 C1028.75,273.3549 1028.75,274.3972 1028.75,275.3766 C1028.75,277.3356 1028.75,279.0434 1028.75,280.4498 C1028.75,283.2627 1028.75,284.87 1028.75,284.87 \" fill=\"none\" id=\"E5-&gt;E4\" style=\"stroke: #383838; stroke-width: 1.0;\"/><polygon fill=\"#FFFFFF\" points=\"1028.75,304.87,1021.75,285.87,1035.75,285.87,1028.75,304.87\" style=\"stroke: #383838; stroke-width: 1.0;\"/><ellipse cx=\"1023.75\" cy=\"280.17\" fill=\"#383838\" rx=\"2\" ry=\"2\" style=\"stroke: #383838; stroke-width: 1.0;\"/><ellipse cx=\"1033.75\" cy=\"280.17\" fill=\"#383838\" rx=\"2\" ry=\"2\" style=\"stroke: #383838; stroke-width: 1.0;\"/></a><!--MD5=[d00f01b66edb9b3ce8f530f77713355e]\n",
       "link E14 to E11--><a href=\"psysml:650eb0f7-ec08-4309-80b6-1e90e34b9690\" target=\"_top\" title=\"psysml:650eb0f7-ec08-4309-80b6-1e90e34b9690\" xlink:actuate=\"onRequest\" xlink:href=\"psysml:650eb0f7-ec08-4309-80b6-1e90e34b9690\" xlink:show=\"new\" xlink:title=\"psysml:650eb0f7-ec08-4309-80b6-1e90e34b9690\" xlink:type=\"simple\"><path d=\"M758.52,213 C763.5013,213 768.3658,213 773.0649,213 C773.6523,213 774.2371,213 774.8193,213 \" fill=\"none\" id=\"E14-&gt;E11\" style=\"stroke: #383838; stroke-width: 1.0;\"/><polygon fill=\"#FFFFFF\" points=\"774.8193,213,755.8193,220,755.8193,206,774.8193,213\" style=\"stroke: #383838; stroke-width: 1.0;\"/><ellipse cx=\"750.1193\" cy=\"218\" fill=\"#383838\" rx=\"2\" ry=\"2\" style=\"stroke: #383838; stroke-width: 1.0;\"/><ellipse cx=\"750.1193\" cy=\"208\" fill=\"#383838\" rx=\"2\" ry=\"2\" style=\"stroke: #383838; stroke-width: 1.0;\"/></a><!--MD5=[0fb4bcb16b37417e937887b33fd03add]\n",
       "@startuml\r\n",
       "skinparam ranksep 10\r\n",
       "skinparam rectangle {\r\n",
       " backgroundColor<<block>> LightGreen\r\n",
       "}\r\n",
       "skinparam linetype ortho\r\n",
       "skinparam monochrome true\r\n",
       "skinparam classbackgroundcolor white\r\n",
       "skinparam shadowing false\r\n",
       "skinparam wrapWidth 300\r\n",
       "hide circle\r\n",
       "\r\n",
       "package \"CalculationExample\" as E1  [[psysml:9a950c4d-df47-4bf2-a127-6824d456053c ]]  {\r\n",
       "rec def \"VehiclePart\" as E2  <<(T,blue) part  def>> [[psysml:240f00ab-b9bf-457e-9376-98b0b5e156bb ]] {\r\n",
       "comp usage \"m: MassValue \" as E3  <<(T,blue) attribute>> [[psysml:3c3f6982-fe48-410d-a073-4745105d0bb1 ]] {\r\n",
       "}\r\n",
       "}\r\n",
       "rec def \"Vehicle\" as E4  <<(T,blue) part  def>> [[psysml:240db56f-6d8c-4faf-8b3c-f8974d12918d ]] {\r\n",
       "}\r\n",
       "rec usage \"vehicle: Vehicle\" as E5  [[psysml:ce00e2ad-3315-43f7-b2e6-6ce884a27309 ]] {\r\n",
       "rec usage \"eng: VehiclePart\" as E6  [[psysml:83fc889d-b3c1-4be4-83aa-24728b198254 ]] {\r\n",
       "comp usage \"^m: MassValue \" as E7  <<(T,blue) attribute>> [[psysml:3c3f6982-fe48-410d-a073-4745105d0bb1 ]] {\r\n",
       "}\r\n",
       "}\r\n",
       "rec usage \"trans: VehiclePart\" as E8  [[psysml:9ad03ab5-4ba7-4600-8f6c-f33bd21910a1 ]] {\r\n",
       "comp usage \"^m: MassValue \" as E9  <<(T,blue) attribute>> [[psysml:3c3f6982-fe48-410d-a073-4745105d0bb1 ]] {\r\n",
       "}\r\n",
       "}\r\n",
       "comp usage \"^m: MassValue \" as E10  <<(T,blue) attribute>> [[psysml:3c3f6982-fe48-410d-a073-4745105d0bb1 ]] {\r\n",
       "}\r\n",
       "}\r\n",
       "rec def \"MassSum\" as E11  <<(T,blue) calculation  def>> [[psysml:425e038d-47d6-48b2-bd42-a030f1074fc4 ]] {\r\n",
       "portin \"partMasses\" as E12  [[psysml:b45e328f-a4a8-4519-9228-274640d6e043 ]] \r\n",
       "portout \"totalMass\" as E13  [[psysml:712f9e49-cc72-40cc-a5b0-9958e3b93d47 ]] \r\n",
       "}\r\n",
       "\r\n",
       "comp usage \"ms: MassSum \" as E14  <<(T,blue) calculation>> [[psysml:e012d373-591a-4cf2-b53b-d810c6dd562d ]] {\r\n",
       "- - parameters - -\r\n",
       "<b>in</b> partMasses= (vehicle.eng.m, vehicle.trans.m); \r\n",
       "}\r\n",
       "rec usage \"vehicles= (vehicle, vehicle); \" as E15  [[psysml:e4253433-368c-4e86-8a3c-6b186419df89 ]] {\r\n",
       "}\r\n",
       "comp usage \"masses1 \" as E16  <<(T,blue) attribute>> [[psysml:03468340-4ee1-4dfd-ba23-9337b31e6caf ]] {\r\n",
       "}\r\n",
       "comp usage \"masses2 \" as E17  <<(T,blue) attribute>> [[psysml:a35488ce-7eb0-470e-9ecc-f7a0c28bc139 ]] {\r\n",
       "}\r\n",
       "}\r\n",
       "E4 - -|> E2 [[psysml:2113862d-3e36-4f2a-be29-5fbeffc35ef5 ]] \r\n",
       "E6 - -:|> E2 [[psysml:7cfd1003-3fe0-4a32-a3a1-13a5c8efedf2 ]] \r\n",
       "E8 - -:|> E2 [[psysml:b3767e4f-9e3f-4162-9e5b-3e184cb0e1ab ]] \r\n",
       "E5 - -:|> E4 [[psysml:3f6bcc61-006c-4905-be22-168150e04931 ]] \r\n",
       "E14 - -:|> E11 [[psysml:650eb0f7-ec08-4309-80b6-1e90e34b9690 ]] \r\n",
       "@enduml\r\n",
       "\n",
       "PlantUML version 1.2020.13(Sat Jun 13 12:26:38 UTC 2020)\n",
       "(EPL source distribution)\n",
       "Java Runtime: OpenJDK Runtime Environment\n",
       "JVM: OpenJDK 64-Bit Server VM\n",
       "Default Encoding: UTF-8\n",
       "Language: en\n",
       "Country: null\n",
       "--></g></svg>"
      ]
     },
     "execution_count": 54,
     "metadata": {},
     "output_type": "execute_result"
    }
   ],
   "source": [
    "%viz --style=\"ORTHOLINE\" --view=\"Interconnection\" \"CalculationExample\""
   ]
  },
  {
   "cell_type": "code",
   "execution_count": 55,
   "id": "ca995b53",
   "metadata": {
    "execution": {
     "iopub.execute_input": "2022-08-19T08:22:05.254248Z",
     "iopub.status.busy": "2022-08-19T08:22:05.253795Z",
     "iopub.status.idle": "2022-08-19T08:22:05.279886Z",
     "shell.execute_reply": "2022-08-19T08:22:05.279443Z"
    }
   },
   "outputs": [
    {
     "data": {
      "image/svg+xml": [
       "<?xml version=\"1.0\" encoding=\"UTF-8\" standalone=\"no\"?><svg xmlns=\"http://www.w3.org/2000/svg\" xmlns:xlink=\"http://www.w3.org/1999/xlink\" contentScriptType=\"application/ecmascript\" contentStyleType=\"text/css\" height=\"162px\" preserveAspectRatio=\"none\" style=\"width:289px;height:162px;\" version=\"1.1\" viewBox=\"0 0 289 162\" width=\"289px\" zoomAndPan=\"magnify\"><defs/><g><!--MD5=[fbc87193dbaf4d95561dea2c320d4a47]\n",
       "cluster E1--><a href=\"psysml:425e038d-47d6-48b2-bd42-a030f1074fc4\" target=\"_top\" title=\"psysml:425e038d-47d6-48b2-bd42-a030f1074fc4\" xlink:actuate=\"onRequest\" xlink:href=\"psysml:425e038d-47d6-48b2-bd42-a030f1074fc4\" xlink:show=\"new\" xlink:title=\"psysml:425e038d-47d6-48b2-bd42-a030f1074fc4\" xlink:type=\"simple\"><rect fill=\"#FFFFFF\" height=\"87.72\" id=\"E1\" style=\"stroke: #383838; stroke-width: 1.5;\" width=\"131\" x=\"21\" y=\"42.0986\"/><rect fill=\"#F8F8F8\" height=\"37.9375\" style=\"stroke: #383838; stroke-width: 1.5;\" width=\"131\" x=\"21\" y=\"42.0986\"/><text fill=\"#000000\" font-family=\"sans-serif\" font-size=\"12\" font-style=\"italic\" lengthAdjust=\"spacingAndGlyphs\" textLength=\"110\" x=\"31.5\" y=\"58.2373\">«calculation  def»</text><text fill=\"#000000\" font-family=\"sans-serif\" font-size=\"12\" lengthAdjust=\"spacingAndGlyphs\" textLength=\"59\" x=\"57\" y=\"72.2061\">MassSum</text></a><!--MD5=[f6df4d0ebaf0b5dfb2ced0ae5af7c670]\n",
       "cluster E4--><a href=\"psysml:e012d373-591a-4cf2-b53b-d810c6dd562d\" target=\"_top\" title=\"psysml:e012d373-591a-4cf2-b53b-d810c6dd562d\" xlink:actuate=\"onRequest\" xlink:href=\"psysml:e012d373-591a-4cf2-b53b-d810c6dd562d\" xlink:show=\"new\" xlink:title=\"psysml:e012d373-591a-4cf2-b53b-d810c6dd562d\" xlink:type=\"simple\"><rect fill=\"#FFFFFF\" height=\"87.72\" id=\"E4\" rx=\"10\" ry=\"10\" style=\"stroke: #383838; stroke-width: 1.5;\" width=\"138\" x=\"139\" y=\"42.0986\"/><rect fill=\"#F8F8F8\" height=\"37.9375\" rx=\"10\" ry=\"10\" style=\"stroke: #F8F8F8; stroke-width: 1.5;\" width=\"138\" x=\"139\" y=\"42.0986\"/><rect fill=\"#F8F8F8\" height=\"10\" style=\"stroke: #F8F8F8; stroke-width: 1.5;\" width=\"138\" x=\"139\" y=\"70.0361\"/><rect fill=\"none\" height=\"87.72\" id=\"E4\" rx=\"10\" ry=\"10\" style=\"stroke: #383838; stroke-width: 1.5;\" width=\"138\" x=\"139\" y=\"42.0986\"/><text fill=\"#000000\" font-family=\"sans-serif\" font-size=\"12\" font-style=\"italic\" lengthAdjust=\"spacingAndGlyphs\" textLength=\"82\" x=\"167\" y=\"58.2373\">«calculation»</text><text fill=\"#000000\" font-family=\"sans-serif\" font-size=\"12\" lengthAdjust=\"spacingAndGlyphs\" textLength=\"18\" x=\"199\" y=\"72.2061\">ms</text><line style=\"stroke: #383838; stroke-width: 1.0;\" x1=\"139\" x2=\"277\" y1=\"80.0361\" y2=\"80.0361\"/></a><text fill=\"#000000\" font-family=\"sans-serif\" font-size=\"14\" lengthAdjust=\"spacingAndGlyphs\" textLength=\"80\" x=\"6\" y=\"20.7969\">partMasses</text><rect fill=\"#383838\" height=\"12\" style=\"stroke: #F8F8F8; stroke-width: 1.5;\" width=\"12\" x=\"40\" y=\"36.0986\"/><text fill=\"#000000\" font-family=\"sans-serif\" font-size=\"14\" lengthAdjust=\"spacingAndGlyphs\" textLength=\"66\" x=\"9\" y=\"148.8138\">totalMass</text><rect fill=\"#383838\" height=\"12\" style=\"stroke: #F8F8F8; stroke-width: 1.5;\" width=\"12\" x=\"36\" y=\"123.8186\"/><text fill=\"#000000\" font-family=\"sans-serif\" font-size=\"14\" lengthAdjust=\"spacingAndGlyphs\" textLength=\"80\" x=\"168\" y=\"20.7969\">partMasses</text><rect fill=\"#383838\" height=\"12\" style=\"stroke: #F8F8F8; stroke-width: 1.5;\" width=\"12\" x=\"202\" y=\"36.0986\"/><text fill=\"#000000\" font-family=\"sans-serif\" font-size=\"14\" lengthAdjust=\"spacingAndGlyphs\" textLength=\"66\" x=\"175\" y=\"148.8138\">totalMass</text><rect fill=\"#383838\" height=\"12\" style=\"stroke: #F8F8F8; stroke-width: 1.5;\" width=\"12\" x=\"202\" y=\"123.8186\"/><!--MD5=[29bd3bb88e0409bc739363177e5df7d1]\n",
       "@startuml\r\n",
       "skinparam ranksep 8\r\n",
       "skinparam linetype ortho\r\n",
       "skinparam monochrome true\r\n",
       "skinparam classbackgroundcolor white\r\n",
       "skinparam shadowing false\r\n",
       "skinparam wrapWidth 300\r\n",
       "hide circle\r\n",
       "\r\n",
       "rec def \"MassSum\" as E1  <<(T,blue) calculation  def>> [[psysml:425e038d-47d6-48b2-bd42-a030f1074fc4 ]] {\r\n",
       "portin \"partMasses\" as E2  [[psysml:b45e328f-a4a8-4519-9228-274640d6e043 ]] \r\n",
       "portout \"totalMass\" as E3  [[psysml:712f9e49-cc72-40cc-a5b0-9958e3b93d47 ]] \r\n",
       "}\r\n",
       "\r\n",
       "rec usage \"ms\" as E4  <<(T,blue) calculation>> [[psysml:e012d373-591a-4cf2-b53b-d810c6dd562d ]] {\r\n",
       "portin \"partMasses\" as E5  [[psysml:424ec83f-37c8-4393-891d-04f2e8383abc ]] \r\n",
       "portout \"totalMass\" as E6  [[psysml:be56ca6e-4eba-4c60-ba38-91b20c3832b5 ]] \r\n",
       "}\r\n",
       "\r\n",
       "@enduml\r\n",
       "\n",
       "PlantUML version 1.2020.13(Sat Jun 13 12:26:38 UTC 2020)\n",
       "(EPL source distribution)\n",
       "Java Runtime: OpenJDK Runtime Environment\n",
       "JVM: OpenJDK 64-Bit Server VM\n",
       "Default Encoding: UTF-8\n",
       "Language: en\n",
       "Country: null\n",
       "--></g></svg>"
      ]
     },
     "execution_count": 55,
     "metadata": {},
     "output_type": "execute_result"
    }
   ],
   "source": [
    "%viz --style=\"ORTHOLINE\" --view=\"Action\" \"CalculationExample\""
   ]
  },
  {
   "cell_type": "code",
   "execution_count": 56,
   "id": "c52976ed",
   "metadata": {
    "execution": {
     "iopub.execute_input": "2022-08-19T08:22:05.329539Z",
     "iopub.status.busy": "2022-08-19T08:22:05.329093Z",
     "iopub.status.idle": "2022-08-19T08:22:05.338591Z",
     "shell.execute_reply": "2022-08-19T08:22:05.338170Z"
    }
   },
   "outputs": [
    {
     "data": {
      "image/svg+xml": [
       "<?xml version=\"1.0\" encoding=\"UTF-8\" standalone=\"no\"?><svg xmlns=\"http://www.w3.org/2000/svg\" xmlns:xlink=\"http://www.w3.org/1999/xlink\" contentScriptType=\"application/ecmascript\" contentStyleType=\"text/css\" height=\"12px\" preserveAspectRatio=\"none\" style=\"width:12px;height:12px;\" version=\"1.1\" viewBox=\"0 0 12 12\" width=\"12px\" zoomAndPan=\"magnify\"><defs/><g><!--MD5=[30fc1de5121c5abddedd55b44417fde8]\n",
       "@startuml\r\n",
       "skinparam roundcorner 20\r\n",
       "skinparam BoxPadding 20\r\n",
       "skinparam SequenceBoxBackgroundColor #white\r\n",
       "skinparam style strictuml\r\n",
       "skinparam maxMessageSize 100\r\n",
       "skinparam linetype ortho\r\n",
       "skinparam monochrome true\r\n",
       "skinparam classbackgroundcolor white\r\n",
       "skinparam shadowing false\r\n",
       "skinparam wrapWidth 300\r\n",
       "hide circle\r\n",
       "\r\n",
       "@enduml\r\n",
       "\n",
       "PlantUML version 1.2020.13(Sat Jun 13 12:26:38 UTC 2020)\n",
       "(EPL source distribution)\n",
       "Java Runtime: OpenJDK Runtime Environment\n",
       "JVM: OpenJDK 64-Bit Server VM\n",
       "Default Encoding: UTF-8\n",
       "Language: en\n",
       "Country: null\n",
       "--></g></svg>"
      ]
     },
     "execution_count": 56,
     "metadata": {},
     "output_type": "execute_result"
    }
   ],
   "source": [
    "%viz --style=\"ORTHOLINE\" --view=\"Sequence\" \"CalculationExample\""
   ]
  },
  {
   "cell_type": "code",
   "execution_count": 57,
   "id": "991f2940",
   "metadata": {
    "execution": {
     "iopub.execute_input": "2022-08-19T08:22:05.388353Z",
     "iopub.status.busy": "2022-08-19T08:22:05.387908Z",
     "iopub.status.idle": "2022-08-19T08:22:05.494981Z",
     "shell.execute_reply": "2022-08-19T08:22:05.493497Z"
    }
   },
   "outputs": [
    {
     "data": {
      "image/svg+xml": [
       "<?xml version=\"1.0\" encoding=\"UTF-8\" standalone=\"no\"?><svg xmlns=\"http://www.w3.org/2000/svg\" xmlns:xlink=\"http://www.w3.org/1999/xlink\" contentScriptType=\"application/ecmascript\" contentStyleType=\"text/css\" height=\"505px\" preserveAspectRatio=\"none\" style=\"width:1266px;height:505px;\" version=\"1.1\" viewBox=\"0 0 1266 505\" width=\"1266px\" zoomAndPan=\"magnify\"><defs/><g><!--MD5=[fbc87193dbaf4d95561dea2c320d4a47]\n",
       "cluster E1--><a href=\"psysml:9a950c4d-df47-4bf2-a127-6824d456053c\" target=\"_top\" title=\"psysml:9a950c4d-df47-4bf2-a127-6824d456053c\" xlink:actuate=\"onRequest\" xlink:href=\"psysml:9a950c4d-df47-4bf2-a127-6824d456053c\" xlink:show=\"new\" xlink:title=\"psysml:9a950c4d-df47-4bf2-a127-6824d456053c\" xlink:type=\"simple\"><polygon fill=\"#FFFFFF\" points=\"16,6,155,6,162,28.2969,1244,28.2969,1244,493,16,493,16,6\" style=\"stroke: #000000; stroke-width: 1.5;\"/><line style=\"stroke: #000000; stroke-width: 1.5;\" x1=\"16\" x2=\"162\" y1=\"28.2969\" y2=\"28.2969\"/><text fill=\"#000000\" font-family=\"sans-serif\" font-size=\"14\" font-weight=\"bold\" lengthAdjust=\"spacingAndGlyphs\" textLength=\"133\" x=\"20\" y=\"20.9951\">CalculationExample</text></a><!--MD5=[168fadf3d0c3fd93dd5d6da1b1d7ab76]\n",
       "cluster E7--><a href=\"psysml:425e038d-47d6-48b2-bd42-a030f1074fc4\" target=\"_top\" title=\"psysml:425e038d-47d6-48b2-bd42-a030f1074fc4\" xlink:actuate=\"onRequest\" xlink:href=\"psysml:425e038d-47d6-48b2-bd42-a030f1074fc4\" xlink:show=\"new\" xlink:title=\"psysml:425e038d-47d6-48b2-bd42-a030f1074fc4\" xlink:type=\"simple\"><rect fill=\"#FFFFFF\" height=\"376\" id=\"E7\" style=\"stroke: #383838; stroke-width: 1.5;\" width=\"186\" x=\"650\" y=\"79\"/><rect fill=\"#F8F8F8\" height=\"37.9375\" style=\"stroke: #383838; stroke-width: 1.5;\" width=\"186\" x=\"650\" y=\"79\"/><text fill=\"#000000\" font-family=\"sans-serif\" font-size=\"12\" font-style=\"italic\" lengthAdjust=\"spacingAndGlyphs\" textLength=\"110\" x=\"688\" y=\"95.1387\">«calculation  def»</text><text fill=\"#000000\" font-family=\"sans-serif\" font-size=\"12\" lengthAdjust=\"spacingAndGlyphs\" textLength=\"59\" x=\"713.5\" y=\"109.1074\">MassSum</text></a><!--MD5=[b4997ac47864f28c2f74865a473b2911]\n",
       "class E2--><a href=\"psysml:240f00ab-b9bf-457e-9376-98b0b5e156bb\" target=\"_top\" title=\"psysml:240f00ab-b9bf-457e-9376-98b0b5e156bb\" xlink:actuate=\"onRequest\" xlink:href=\"psysml:240f00ab-b9bf-457e-9376-98b0b5e156bb\" xlink:show=\"new\" xlink:title=\"psysml:240f00ab-b9bf-457e-9376-98b0b5e156bb\" xlink:type=\"simple\"><rect fill=\"#FFFFFF\" height=\"75.5469\" id=\"E2\" style=\"stroke: #383838; stroke-width: 1.5;\" width=\"92\" x=\"968\" y=\"313\"/><text fill=\"#000000\" font-family=\"sans-serif\" font-size=\"12\" font-style=\"italic\" lengthAdjust=\"spacingAndGlyphs\" textLength=\"68\" x=\"980\" y=\"329.1387\">«part  def»</text><text fill=\"#000000\" font-family=\"sans-serif\" font-size=\"12\" lengthAdjust=\"spacingAndGlyphs\" textLength=\"71\" x=\"978.5\" y=\"343.1074\">VehiclePart</text><line style=\"stroke: #383838; stroke-width: 1.5;\" x1=\"969\" x2=\"1059\" y1=\"350.9375\" y2=\"350.9375\"/><text fill=\"#000000\" font-family=\"sans-serif\" font-size=\"11\" lengthAdjust=\"spacingAndGlyphs\" textLength=\"80\" x=\"974\" y=\"381.9526\">m: MassValue</text><line style=\"stroke: #383838; stroke-width: 1.0;\" x1=\"969\" x2=\"986.5\" y1=\"365.3398\" y2=\"365.3398\"/><text fill=\"#000000\" font-family=\"sans-serif\" font-size=\"11\" lengthAdjust=\"spacingAndGlyphs\" textLength=\"55\" x=\"986.5\" y=\"368.6479\">attributes</text><line style=\"stroke: #383838; stroke-width: 1.0;\" x1=\"1041.5\" x2=\"1059\" y1=\"365.3398\" y2=\"365.3398\"/></a><!--MD5=[09b614a08d8cba4a07c9adeb5e0fee81]\n",
       "class E3--><a href=\"psysml:240db56f-6d8c-4faf-8b3c-f8974d12918d\" target=\"_top\" title=\"psysml:240db56f-6d8c-4faf-8b3c-f8974d12918d\" xlink:actuate=\"onRequest\" xlink:href=\"psysml:240db56f-6d8c-4faf-8b3c-f8974d12918d\" xlink:show=\"new\" xlink:title=\"psysml:240db56f-6d8c-4faf-8b3c-f8974d12918d\" xlink:type=\"simple\"><rect fill=\"#FFFFFF\" height=\"45.9375\" id=\"E3\" style=\"stroke: #383838; stroke-width: 1.5;\" width=\"70\" x=\"852\" y=\"192\"/><text fill=\"#000000\" font-family=\"sans-serif\" font-size=\"12\" font-style=\"italic\" lengthAdjust=\"spacingAndGlyphs\" textLength=\"68\" x=\"853\" y=\"208.1387\">«part  def»</text><text fill=\"#000000\" font-family=\"sans-serif\" font-size=\"12\" lengthAdjust=\"spacingAndGlyphs\" textLength=\"45\" x=\"864.5\" y=\"222.1074\">Vehicle</text><line style=\"stroke: #383838; stroke-width: 1.5;\" x1=\"853\" x2=\"921\" y1=\"229.9375\" y2=\"229.9375\"/></a><!--MD5=[ebbe1d658d1005bcc118a6aa81145e00]\n",
       "class E4--><a href=\"psysml:ce00e2ad-3315-43f7-b2e6-6ce884a27309\" target=\"_top\" title=\"psysml:ce00e2ad-3315-43f7-b2e6-6ce884a27309\" xlink:actuate=\"onRequest\" xlink:href=\"psysml:ce00e2ad-3315-43f7-b2e6-6ce884a27309\" xlink:show=\"new\" xlink:title=\"psysml:ce00e2ad-3315-43f7-b2e6-6ce884a27309\" xlink:type=\"simple\"><rect fill=\"#FFFFFF\" height=\"75.5469\" id=\"E4\" rx=\"10\" ry=\"10\" style=\"stroke: #383838; stroke-width: 1.5;\" width=\"106\" x=\"961\" y=\"41\"/><text fill=\"#000000\" font-family=\"sans-serif\" font-size=\"12\" font-style=\"italic\" lengthAdjust=\"spacingAndGlyphs\" textLength=\"40\" x=\"994\" y=\"57.1387\">«part»</text><text fill=\"#000000\" font-family=\"sans-serif\" font-size=\"12\" lengthAdjust=\"spacingAndGlyphs\" textLength=\"96\" x=\"964\" y=\"71.1074\">vehicle: Vehicle</text><line style=\"stroke: #383838; stroke-width: 1.5;\" x1=\"962\" x2=\"1066\" y1=\"78.9375\" y2=\"78.9375\"/><text fill=\"#000000\" font-family=\"sans-serif\" font-size=\"11\" lengthAdjust=\"spacingAndGlyphs\" textLength=\"89\" x=\"967\" y=\"109.9526\">^m: MassValue</text><line style=\"stroke: #383838; stroke-width: 1.0;\" x1=\"962\" x2=\"986.5\" y1=\"93.3398\" y2=\"93.3398\"/><text fill=\"#000000\" font-family=\"sans-serif\" font-size=\"11\" lengthAdjust=\"spacingAndGlyphs\" textLength=\"55\" x=\"986.5\" y=\"96.6479\">attributes</text><line style=\"stroke: #383838; stroke-width: 1.0;\" x1=\"1041.5\" x2=\"1066\" y1=\"93.3398\" y2=\"93.3398\"/></a><!--MD5=[270fce915f116d4de14055a7c1d9a0f3]\n",
       "class E5--><a href=\"psysml:83fc889d-b3c1-4be4-83aa-24728b198254\" target=\"_top\" title=\"psysml:83fc889d-b3c1-4be4-83aa-24728b198254\" xlink:actuate=\"onRequest\" xlink:href=\"psysml:83fc889d-b3c1-4be4-83aa-24728b198254\" xlink:show=\"new\" xlink:title=\"psysml:83fc889d-b3c1-4be4-83aa-24728b198254\" xlink:type=\"simple\"><rect fill=\"#FFFFFF\" height=\"75.5469\" id=\"E5\" rx=\"10\" ry=\"10\" style=\"stroke: #383838; stroke-width: 1.5;\" width=\"113\" x=\"957.5\" y=\"177\"/><text fill=\"#000000\" font-family=\"sans-serif\" font-size=\"12\" font-style=\"italic\" lengthAdjust=\"spacingAndGlyphs\" textLength=\"40\" x=\"994\" y=\"193.1387\">«part»</text><text fill=\"#000000\" font-family=\"sans-serif\" font-size=\"12\" lengthAdjust=\"spacingAndGlyphs\" textLength=\"103\" x=\"960.5\" y=\"207.1074\">eng: VehiclePart</text><line style=\"stroke: #383838; stroke-width: 1.5;\" x1=\"958.5\" x2=\"1069.5\" y1=\"214.9375\" y2=\"214.9375\"/><text fill=\"#000000\" font-family=\"sans-serif\" font-size=\"11\" lengthAdjust=\"spacingAndGlyphs\" textLength=\"89\" x=\"963.5\" y=\"245.9526\">^m: MassValue</text><line style=\"stroke: #383838; stroke-width: 1.0;\" x1=\"958.5\" x2=\"986.5\" y1=\"229.3398\" y2=\"229.3398\"/><text fill=\"#000000\" font-family=\"sans-serif\" font-size=\"11\" lengthAdjust=\"spacingAndGlyphs\" textLength=\"55\" x=\"986.5\" y=\"232.6479\">attributes</text><line style=\"stroke: #383838; stroke-width: 1.0;\" x1=\"1041.5\" x2=\"1069.5\" y1=\"229.3398\" y2=\"229.3398\"/></a><!--MD5=[60a26617385b1d2d0262a64233df1f8d]\n",
       "class E6--><a href=\"psysml:9ad03ab5-4ba7-4600-8f6c-f33bd21910a1\" target=\"_top\" title=\"psysml:9ad03ab5-4ba7-4600-8f6c-f33bd21910a1\" xlink:actuate=\"onRequest\" xlink:href=\"psysml:9ad03ab5-4ba7-4600-8f6c-f33bd21910a1\" xlink:show=\"new\" xlink:title=\"psysml:9ad03ab5-4ba7-4600-8f6c-f33bd21910a1\" xlink:type=\"simple\"><rect fill=\"#FFFFFF\" height=\"75.5469\" id=\"E6\" rx=\"10\" ry=\"10\" style=\"stroke: #383838; stroke-width: 1.5;\" width=\"122\" x=\"1106\" y=\"177\"/><text fill=\"#000000\" font-family=\"sans-serif\" font-size=\"12\" font-style=\"italic\" lengthAdjust=\"spacingAndGlyphs\" textLength=\"40\" x=\"1147\" y=\"193.1387\">«part»</text><text fill=\"#000000\" font-family=\"sans-serif\" font-size=\"12\" lengthAdjust=\"spacingAndGlyphs\" textLength=\"112\" x=\"1109\" y=\"207.1074\">trans: VehiclePart</text><line style=\"stroke: #383838; stroke-width: 1.5;\" x1=\"1107\" x2=\"1227\" y1=\"214.9375\" y2=\"214.9375\"/><text fill=\"#000000\" font-family=\"sans-serif\" font-size=\"11\" lengthAdjust=\"spacingAndGlyphs\" textLength=\"89\" x=\"1112\" y=\"245.9526\">^m: MassValue</text><line style=\"stroke: #383838; stroke-width: 1.0;\" x1=\"1107\" x2=\"1139.5\" y1=\"229.3398\" y2=\"229.3398\"/><text fill=\"#000000\" font-family=\"sans-serif\" font-size=\"11\" lengthAdjust=\"spacingAndGlyphs\" textLength=\"55\" x=\"1139.5\" y=\"232.6479\">attributes</text><line style=\"stroke: #383838; stroke-width: 1.0;\" x1=\"1194.5\" x2=\"1227\" y1=\"229.3398\" y2=\"229.3398\"/></a><!--MD5=[96f4274e9e20536e775497830990834d]\n",
       "class E10--><a href=\"psysml:e012d373-591a-4cf2-b53b-d810c6dd562d\" target=\"_top\" title=\"psysml:e012d373-591a-4cf2-b53b-d810c6dd562d\" xlink:actuate=\"onRequest\" xlink:href=\"psysml:e012d373-591a-4cf2-b53b-d810c6dd562d\" xlink:show=\"new\" xlink:title=\"psysml:e012d373-591a-4cf2-b53b-d810c6dd562d\" xlink:type=\"simple\"><rect fill=\"#FFFFFF\" height=\"75.5469\" id=\"E10\" rx=\"10\" ry=\"10\" style=\"stroke: #383838; stroke-width: 1.5;\" width=\"293\" x=\"340.5\" y=\"41\"/><text fill=\"#000000\" font-family=\"sans-serif\" font-size=\"12\" font-style=\"italic\" lengthAdjust=\"spacingAndGlyphs\" textLength=\"82\" x=\"446\" y=\"57.1387\">«calculation»</text><text fill=\"#000000\" font-family=\"sans-serif\" font-size=\"12\" lengthAdjust=\"spacingAndGlyphs\" textLength=\"85\" x=\"442.5\" y=\"71.1074\">ms: MassSum</text><line style=\"stroke: #383838; stroke-width: 1.5;\" x1=\"341.5\" x2=\"632.5\" y1=\"78.9375\" y2=\"78.9375\"/><text fill=\"#000000\" font-family=\"sans-serif\" font-size=\"11\" font-weight=\"bold\" lengthAdjust=\"spacingAndGlyphs\" textLength=\"10\" x=\"346.5\" y=\"109.9526\">in</text><text fill=\"#000000\" font-family=\"sans-serif\" font-size=\"11\" lengthAdjust=\"spacingAndGlyphs\" textLength=\"267\" x=\"360.5\" y=\"109.9526\">partMasses= (vehicle.eng.m, vehicle.trans.m);</text><line style=\"stroke: #383838; stroke-width: 1.0;\" x1=\"341.5\" x2=\"453.5\" y1=\"93.3398\" y2=\"93.3398\"/><text fill=\"#000000\" font-family=\"sans-serif\" font-size=\"11\" lengthAdjust=\"spacingAndGlyphs\" textLength=\"67\" x=\"453.5\" y=\"96.6479\">parameters</text><line style=\"stroke: #383838; stroke-width: 1.0;\" x1=\"520.5\" x2=\"632.5\" y1=\"93.3398\" y2=\"93.3398\"/></a><!--MD5=[1dd1bfd58a279cf63c5f349dbc8fc6a1]\n",
       "class E11--><a href=\"psysml:e4253433-368c-4e86-8a3c-6b186419df89\" target=\"_top\" title=\"psysml:e4253433-368c-4e86-8a3c-6b186419df89\" xlink:actuate=\"onRequest\" xlink:href=\"psysml:e4253433-368c-4e86-8a3c-6b186419df89\" xlink:show=\"new\" xlink:title=\"psysml:e4253433-368c-4e86-8a3c-6b186419df89\" xlink:type=\"simple\"><rect fill=\"#FFFFFF\" height=\"45.9375\" id=\"E11\" rx=\"10\" ry=\"10\" style=\"stroke: #383838; stroke-width: 1.5;\" width=\"60\" x=\"245\" y=\"56\"/><text fill=\"#000000\" font-family=\"sans-serif\" font-size=\"12\" font-style=\"italic\" lengthAdjust=\"spacingAndGlyphs\" textLength=\"40\" x=\"255\" y=\"72.1387\">«part»</text><text fill=\"#000000\" font-family=\"sans-serif\" font-size=\"12\" lengthAdjust=\"spacingAndGlyphs\" textLength=\"50\" x=\"248\" y=\"86.1074\">vehicles</text><line style=\"stroke: #383838; stroke-width: 1.5;\" x1=\"246\" x2=\"304\" y1=\"93.9375\" y2=\"93.9375\"/></a><!--MD5=[49a0ec8f00dab7302a31f22d0f0fe584]\n",
       "class E12--><a href=\"psysml:03468340-4ee1-4dfd-ba23-9337b31e6caf\" target=\"_top\" title=\"psysml:03468340-4ee1-4dfd-ba23-9337b31e6caf\" xlink:actuate=\"onRequest\" xlink:href=\"psysml:03468340-4ee1-4dfd-ba23-9337b31e6caf\" xlink:show=\"new\" xlink:title=\"psysml:03468340-4ee1-4dfd-ba23-9337b31e6caf\" xlink:type=\"simple\"><rect fill=\"#FFFFFF\" height=\"45.9375\" id=\"E12\" rx=\"10\" ry=\"10\" style=\"stroke: #383838; stroke-width: 1.5;\" width=\"71\" x=\"138.5\" y=\"56\"/><text fill=\"#000000\" font-family=\"sans-serif\" font-size=\"12\" font-style=\"italic\" lengthAdjust=\"spacingAndGlyphs\" textLength=\"69\" x=\"139.5\" y=\"72.1387\">«attribute»</text><text fill=\"#000000\" font-family=\"sans-serif\" font-size=\"12\" lengthAdjust=\"spacingAndGlyphs\" textLength=\"56\" x=\"144\" y=\"86.1074\">masses1</text><line style=\"stroke: #383838; stroke-width: 1.5;\" x1=\"139.5\" x2=\"208.5\" y1=\"93.9375\" y2=\"93.9375\"/></a><!--MD5=[ee3c913d1a06f366521f9ef512b67efe]\n",
       "class E13--><a href=\"psysml:a35488ce-7eb0-470e-9ecc-f7a0c28bc139\" target=\"_top\" title=\"psysml:a35488ce-7eb0-470e-9ecc-f7a0c28bc139\" xlink:actuate=\"onRequest\" xlink:href=\"psysml:a35488ce-7eb0-470e-9ecc-f7a0c28bc139\" xlink:show=\"new\" xlink:title=\"psysml:a35488ce-7eb0-470e-9ecc-f7a0c28bc139\" xlink:type=\"simple\"><rect fill=\"#FFFFFF\" height=\"45.9375\" id=\"E13\" rx=\"10\" ry=\"10\" style=\"stroke: #383838; stroke-width: 1.5;\" width=\"71\" x=\"32.5\" y=\"56\"/><text fill=\"#000000\" font-family=\"sans-serif\" font-size=\"12\" font-style=\"italic\" lengthAdjust=\"spacingAndGlyphs\" textLength=\"69\" x=\"33.5\" y=\"72.1387\">«attribute»</text><text fill=\"#000000\" font-family=\"sans-serif\" font-size=\"12\" lengthAdjust=\"spacingAndGlyphs\" textLength=\"56\" x=\"38\" y=\"86.1074\">masses2</text><line style=\"stroke: #383838; stroke-width: 1.5;\" x1=\"33.5\" x2=\"102.5\" y1=\"93.9375\" y2=\"93.9375\"/></a><text fill=\"#000000\" font-family=\"sans-serif\" font-size=\"14\" lengthAdjust=\"spacingAndGlyphs\" textLength=\"80\" x=\"703\" y=\"57.6982\">partMasses</text><rect fill=\"#383838\" height=\"12\" style=\"stroke: #F8F8F8; stroke-width: 1.5;\" width=\"12\" x=\"737\" y=\"73\"/><text fill=\"#000000\" font-family=\"sans-serif\" font-size=\"14\" lengthAdjust=\"spacingAndGlyphs\" textLength=\"66\" x=\"710\" y=\"473.9951\">totalMass</text><rect fill=\"#383838\" height=\"12\" style=\"stroke: #F8F8F8; stroke-width: 1.5;\" width=\"12\" x=\"737\" y=\"449\"/><!--MD5=[05d275557350bfb9b23a4ef7222b4c39]\n",
       "link E3 to E2--><a href=\"psysml:2113862d-3e36-4f2a-be29-5fbeffc35ef5\" target=\"_top\" title=\"psysml:2113862d-3e36-4f2a-be29-5fbeffc35ef5\" xlink:actuate=\"onRequest\" xlink:href=\"psysml:2113862d-3e36-4f2a-be29-5fbeffc35ef5\" xlink:show=\"new\" xlink:title=\"psysml:2113862d-3e36-4f2a-be29-5fbeffc35ef5\" xlink:type=\"simple\"><path d=\"M887,238.12 C887,272.21 887,332 887,332 C887,332 947.79,332 947.79,332 \" fill=\"none\" id=\"E3-&gt;E2\" style=\"stroke: #383838; stroke-width: 1.0;\"/><polygon fill=\"none\" points=\"947.79,325,967.79,332,947.79,339,947.79,325\" style=\"stroke: #383838; stroke-width: 1.0;\"/></a><!--MD5=[f0cdf4548168e5211fb3a02bf679d63a]\n",
       "link E4 to E3--><a href=\"psysml:3f6bcc61-006c-4905-be22-168150e04931\" target=\"_top\" title=\"psysml:3f6bcc61-006c-4905-be22-168150e04931\" xlink:actuate=\"onRequest\" xlink:href=\"psysml:3f6bcc61-006c-4905-be22-168150e04931\" xlink:show=\"new\" xlink:title=\"psysml:3f6bcc61-006c-4905-be22-168150e04931\" xlink:type=\"simple\"><path d=\"M960.88,107 C926.08,107 887,107 887,107 C887,107 887,171.83 887,171.83 \" fill=\"none\" id=\"E4-&gt;E3\" style=\"stroke: #383838; stroke-width: 1.0;\"/><polygon fill=\"#FFFFFF\" points=\"887,191.83,880,172.83,894,172.83,887,191.83\" style=\"stroke: #383838; stroke-width: 1.0;\"/><ellipse cx=\"882\" cy=\"167.13\" fill=\"#383838\" rx=\"2\" ry=\"2\" style=\"stroke: #383838; stroke-width: 1.0;\"/><ellipse cx=\"892\" cy=\"167.13\" fill=\"#383838\" rx=\"2\" ry=\"2\" style=\"stroke: #383838; stroke-width: 1.0;\"/></a><!--MD5=[62aa6af11e70f752912c1cb0466f24f7]\n",
       "reverse link E4 to E5--><a href=\"psysml:dfe553ed-92b1-45a3-82b1-c875cfb3cf56\" target=\"_top\" title=\"psysml:dfe553ed-92b1-45a3-82b1-c875cfb3cf56\" xlink:actuate=\"onRequest\" xlink:href=\"psysml:dfe553ed-92b1-45a3-82b1-c875cfb3cf56\" xlink:show=\"new\" xlink:title=\"psysml:dfe553ed-92b1-45a3-82b1-c875cfb3cf56\" xlink:type=\"simple\"><path d=\"M1014,130.25 C1014,130.25 1014,176.57 1014,176.57 \" fill=\"none\" id=\"E4&lt;-E5\" style=\"stroke: #383838; stroke-width: 1.0;\"/><polygon fill=\"#FFFFFF\" points=\"1014,117.25,1010,123.25,1014,129.25,1018,123.25,1014,117.25\" style=\"stroke: #383838; stroke-width: 1.0;\"/><text fill=\"#000000\" font-family=\"sans-serif\" font-size=\"13\" lengthAdjust=\"spacingAndGlyphs\" textLength=\"8\" x=\"1005.3125\" y=\"165.793\">1</text></a><!--MD5=[15ebcb19ae302d9b601edb458606d402]\n",
       "link E5 to E2--><a href=\"psysml:7cfd1003-3fe0-4a32-a3a1-13a5c8efedf2\" target=\"_top\" title=\"psysml:7cfd1003-3fe0-4a32-a3a1-13a5c8efedf2\" xlink:actuate=\"onRequest\" xlink:href=\"psysml:7cfd1003-3fe0-4a32-a3a1-13a5c8efedf2\" xlink:show=\"new\" xlink:title=\"psysml:7cfd1003-3fe0-4a32-a3a1-13a5c8efedf2\" xlink:type=\"simple\"><path d=\"M1014,253.25 C1014,253.25 1014,292.57 1014,292.57 \" fill=\"none\" id=\"E5-&gt;E2\" style=\"stroke: #383838; stroke-width: 1.0;\"/><polygon fill=\"#FFFFFF\" points=\"1014,312.57,1007,293.57,1021,293.57,1014,312.57\" style=\"stroke: #383838; stroke-width: 1.0;\"/><ellipse cx=\"1009\" cy=\"287.87\" fill=\"#383838\" rx=\"2\" ry=\"2\" style=\"stroke: #383838; stroke-width: 1.0;\"/><ellipse cx=\"1019\" cy=\"287.87\" fill=\"#383838\" rx=\"2\" ry=\"2\" style=\"stroke: #383838; stroke-width: 1.0;\"/></a><!--MD5=[6db378b65e1aef66a01cb3103812b399]\n",
       "reverse link E4 to E6--><a href=\"psysml:56232501-f921-4851-b5f9-a91b366c1c7b\" target=\"_top\" title=\"psysml:56232501-f921-4851-b5f9-a91b366c1c7b\" xlink:actuate=\"onRequest\" xlink:href=\"psysml:56232501-f921-4851-b5f9-a91b366c1c7b\" xlink:show=\"new\" xlink:title=\"psysml:56232501-f921-4851-b5f9-a91b366c1c7b\" xlink:type=\"simple\"><path d=\"M1080.08,79 C1080.08,79 1167,79 1167,79 C1167,79 1167,136.53 1167,176.75 \" fill=\"none\" id=\"E4&lt;-E6\" style=\"stroke: #383838; stroke-width: 1.0;\"/><polygon fill=\"#FFFFFF\" points=\"1067.08,79,1073.08,83,1079.08,79,1073.08,75,1067.08,79\" style=\"stroke: #383838; stroke-width: 1.0;\"/><text fill=\"#000000\" font-family=\"sans-serif\" font-size=\"13\" lengthAdjust=\"spacingAndGlyphs\" textLength=\"8\" x=\"1158.3125\" y=\"166.004\">1</text></a><!--MD5=[2351f337d6de0f557b50152ba70847b5]\n",
       "link E6 to E2--><a href=\"psysml:b3767e4f-9e3f-4162-9e5b-3e184cb0e1ab\" target=\"_top\" title=\"psysml:b3767e4f-9e3f-4162-9e5b-3e184cb0e1ab\" xlink:actuate=\"onRequest\" xlink:href=\"psysml:b3767e4f-9e3f-4162-9e5b-3e184cb0e1ab\" xlink:show=\"new\" xlink:title=\"psysml:b3767e4f-9e3f-4162-9e5b-3e184cb0e1ab\" xlink:type=\"simple\"><path d=\"M1167,253.25 C1167,293.47 1167,351 1167,351 C1167,351 1080.32,351 1080.32,351 \" fill=\"none\" id=\"E6-&gt;E2\" style=\"stroke: #383838; stroke-width: 1.0;\"/><polygon fill=\"#FFFFFF\" points=\"1060.32,351,1079.32,344,1079.32,358,1060.32,351\" style=\"stroke: #383838; stroke-width: 1.0;\"/><ellipse cx=\"1085.02\" cy=\"346\" fill=\"#383838\" rx=\"2\" ry=\"2\" style=\"stroke: #383838; stroke-width: 1.0;\"/><ellipse cx=\"1085.02\" cy=\"356\" fill=\"#383838\" rx=\"2\" ry=\"2\" style=\"stroke: #383838; stroke-width: 1.0;\"/></a><!--MD5=[a919e0967d6f3de553dc51b9865a1d6d]\n",
       "link E10 to E7--><a href=\"psysml:650eb0f7-ec08-4309-80b6-1e90e34b9690\" target=\"_top\" title=\"psysml:650eb0f7-ec08-4309-80b6-1e90e34b9690\" xlink:actuate=\"onRequest\" xlink:href=\"psysml:650eb0f7-ec08-4309-80b6-1e90e34b9690\" xlink:show=\"new\" xlink:title=\"psysml:650eb0f7-ec08-4309-80b6-1e90e34b9690\" xlink:type=\"simple\"><path d=\"M633.52,96 C638.5013,96 643.3658,96 648.0649,96 C648.6523,96 649.2371,96 649.8193,96 \" fill=\"none\" id=\"E10-&gt;E7\" style=\"stroke: #383838; stroke-width: 1.0;\"/><polygon fill=\"#FFFFFF\" points=\"649.8193,96,630.8193,103,630.8193,89,649.8193,96\" style=\"stroke: #383838; stroke-width: 1.0;\"/><ellipse cx=\"625.1193\" cy=\"101\" fill=\"#383838\" rx=\"2\" ry=\"2\" style=\"stroke: #383838; stroke-width: 1.0;\"/><ellipse cx=\"625.1193\" cy=\"91\" fill=\"#383838\" rx=\"2\" ry=\"2\" style=\"stroke: #383838; stroke-width: 1.0;\"/></a><!--MD5=[45666ce749baaffe4ae60b0488849bac]\n",
       "@startuml\r\n",
       "skinparam linetype ortho\r\n",
       "skinparam monochrome true\r\n",
       "skinparam classbackgroundcolor white\r\n",
       "skinparam shadowing false\r\n",
       "skinparam wrapWidth 300\r\n",
       "hide circle\r\n",
       "\r\n",
       "package \"CalculationExample\" as E1  [[psysml:9a950c4d-df47-4bf2-a127-6824d456053c ]]  {\r\n",
       "comp def \"VehiclePart\" as E2  <<(T,blue) part  def>> [[psysml:240f00ab-b9bf-457e-9376-98b0b5e156bb ]] {\r\n",
       "- - attributes - -\r\n",
       "m: MassValue\r\n",
       "}\r\n",
       "comp def \"Vehicle\" as E3  <<(T,blue) part  def>> [[psysml:240db56f-6d8c-4faf-8b3c-f8974d12918d ]] {\r\n",
       "}\r\n",
       "comp usage \"vehicle: Vehicle \" as E4  <<(T,blue) part>> [[psysml:ce00e2ad-3315-43f7-b2e6-6ce884a27309 ]] {\r\n",
       "- - attributes - -\r\n",
       "^m: MassValue\r\n",
       "}\r\n",
       "comp usage \"eng: VehiclePart \" as E5  <<(T,blue) part>> [[psysml:83fc889d-b3c1-4be4-83aa-24728b198254 ]] {\r\n",
       "- - attributes - -\r\n",
       "^m: MassValue\r\n",
       "}\r\n",
       "comp usage \"trans: VehiclePart \" as E6  <<(T,blue) part>> [[psysml:9ad03ab5-4ba7-4600-8f6c-f33bd21910a1 ]] {\r\n",
       "- - attributes - -\r\n",
       "^m: MassValue\r\n",
       "}\r\n",
       "rec def \"MassSum\" as E7  <<(T,blue) calculation  def>> [[psysml:425e038d-47d6-48b2-bd42-a030f1074fc4 ]] {\r\n",
       "portin \"partMasses\" as E8  [[psysml:b45e328f-a4a8-4519-9228-274640d6e043 ]] \r\n",
       "portout \"totalMass\" as E9  [[psysml:712f9e49-cc72-40cc-a5b0-9958e3b93d47 ]] \r\n",
       "}\r\n",
       "\r\n",
       "comp usage \"ms: MassSum \" as E10  <<(T,blue) calculation>> [[psysml:e012d373-591a-4cf2-b53b-d810c6dd562d ]] {\r\n",
       "- - parameters - -\r\n",
       "<b>in</b> partMasses= (vehicle.eng.m, vehicle.trans.m); \r\n",
       "}\r\n",
       "comp usage \"vehicles \" as E11  <<(T,blue) part>> [[psysml:e4253433-368c-4e86-8a3c-6b186419df89 ]] {\r\n",
       "}\r\n",
       "comp usage \"masses1 \" as E12  <<(T,blue) attribute>> [[psysml:03468340-4ee1-4dfd-ba23-9337b31e6caf ]] {\r\n",
       "}\r\n",
       "comp usage \"masses2 \" as E13  <<(T,blue) attribute>> [[psysml:a35488ce-7eb0-470e-9ecc-f7a0c28bc139 ]] {\r\n",
       "}\r\n",
       "}\r\n",
       "E3 - -|> E2 [[psysml:2113862d-3e36-4f2a-be29-5fbeffc35ef5 ]] \r\n",
       "E4 - -:|> E3 [[psysml:3f6bcc61-006c-4905-be22-168150e04931 ]] \r\n",
       "E4 o- - \"1\"E5 [[psysml:dfe553ed-92b1-45a3-82b1-c875cfb3cf56 ]] \r\n",
       "E5 - -:|> E2 [[psysml:7cfd1003-3fe0-4a32-a3a1-13a5c8efedf2 ]] \r\n",
       "E4 o- - \"1\"E6 [[psysml:56232501-f921-4851-b5f9-a91b366c1c7b ]] \r\n",
       "E6 - -:|> E2 [[psysml:b3767e4f-9e3f-4162-9e5b-3e184cb0e1ab ]] \r\n",
       "E10 - -:|> E7 [[psysml:650eb0f7-ec08-4309-80b6-1e90e34b9690 ]] \r\n",
       "@enduml\r\n",
       "\n",
       "PlantUML version 1.2020.13(Sat Jun 13 12:26:38 UTC 2020)\n",
       "(EPL source distribution)\n",
       "Java Runtime: OpenJDK Runtime Environment\n",
       "JVM: OpenJDK 64-Bit Server VM\n",
       "Default Encoding: UTF-8\n",
       "Language: en\n",
       "Country: null\n",
       "--></g></svg>"
      ]
     },
     "execution_count": 57,
     "metadata": {},
     "output_type": "execute_result"
    }
   ],
   "source": [
    "%viz --style=\"ORTHOLINE\" --view=\"MIXED\" \"CalculationExample\""
   ]
  }
 ],
 "metadata": {
  "kernelspec": {
   "display_name": "SysML",
   "language": "sysml",
   "name": "sysml"
  },
  "language_info": {
   "codemirror_mode": "sysml",
   "file_extension": ".sysml",
   "mimetype": "text/x-sysml",
   "name": "SysML",
   "pygments_lexer": "java",
   "version": "1.0.0"
  }
 },
 "nbformat": 4,
 "nbformat_minor": 5
}

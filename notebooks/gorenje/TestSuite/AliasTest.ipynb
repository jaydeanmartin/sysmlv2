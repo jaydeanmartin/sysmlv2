{
 "cells": [
  {
   "cell_type": "markdown",
   "id": "89f558a6",
   "metadata": {},
   "source": [
    "# SysML v2 Test Suite\n",
    "\n",
    "This can notebook can be cleared using menu `Edit --> Clear All Outputs` and then all cells can be\n",
    "run using menu `Run --> Run All Cells`.\n",
    "\n",
    "**WARNING**: This file is generated, all modifications here will be ignored.\n"
   ]
  },
  {
   "cell_type": "markdown",
   "id": "f503d893",
   "metadata": {},
   "source": [
    "## File: ../../sysml/src/examples/Simple Tests/AliasTest.sysml"
   ]
  },
  {
   "cell_type": "code",
   "execution_count": 1,
   "id": "2c86809a",
   "metadata": {
    "execution": {
     "iopub.execute_input": "2022-08-19T08:20:45.750992Z",
     "iopub.status.busy": "2022-08-19T08:20:45.749610Z",
     "iopub.status.idle": "2022-08-19T08:20:46.083772Z",
     "shell.execute_reply": "2022-08-19T08:20:46.083376Z"
    }
   },
   "outputs": [
    {
     "data": {
      "text/plain": [
       "Package AliasTest (02b7e9b9-6677-468f-8dad-8ced33a218a4)\n"
      ]
     },
     "execution_count": 1,
     "metadata": {},
     "output_type": "execute_result"
    }
   ],
   "source": [
    "package AliasTest {\n",
    "\timport ISQSpaceTime::breadth; // import of an alias\n",
    "\tattribute b :> breadth;\n",
    "\t\n",
    "    part def P1 {\n",
    "        port porig1;\n",
    "        alias po1 for porig1;\n",
    "    }\n",
    "\n",
    "    part p1 : P1 {\n",
    "        port po1 :>> po1;\n",
    "    }\n",
    "\n",
    "    part p2 : P1 {\n",
    "        port pdest;\n",
    "        alias pd1 for pdest;\n",
    "    }\n",
    "\n",
    "\n",
    "    connect p1.po1 to p2.pdest;\n",
    "\tconnect p1.po1 to p2.pd1;\n",
    "}"
   ]
  },
  {
   "cell_type": "code",
   "execution_count": 2,
   "id": "2d4d1426",
   "metadata": {
    "execution": {
     "iopub.execute_input": "2022-08-19T08:20:46.135199Z",
     "iopub.status.busy": "2022-08-19T08:20:46.134891Z",
     "iopub.status.idle": "2022-08-19T08:20:47.060887Z",
     "shell.execute_reply": "2022-08-19T08:20:47.059246Z"
    }
   },
   "outputs": [
    {
     "data": {
      "image/svg+xml": [
       "<?xml version=\"1.0\" encoding=\"UTF-8\" standalone=\"no\"?><svg xmlns=\"http://www.w3.org/2000/svg\" xmlns:xlink=\"http://www.w3.org/1999/xlink\" contentScriptType=\"application/ecmascript\" contentStyleType=\"text/css\" height=\"317px\" preserveAspectRatio=\"none\" style=\"width:498px;height:317px;\" version=\"1.1\" viewBox=\"0 0 498 317\" width=\"498px\" zoomAndPan=\"magnify\"><defs/><g><!--MD5=[fbc87193dbaf4d95561dea2c320d4a47]\n",
       "cluster E1--><a href=\"psysml:02b7e9b9-6677-468f-8dad-8ced33a218a4\" target=\"_top\" title=\"psysml:02b7e9b9-6677-468f-8dad-8ced33a218a4\" xlink:actuate=\"onRequest\" xlink:href=\"psysml:02b7e9b9-6677-468f-8dad-8ced33a218a4\" xlink:show=\"new\" xlink:title=\"psysml:02b7e9b9-6677-468f-8dad-8ced33a218a4\" xlink:type=\"simple\"><polygon fill=\"#FFFFFF\" points=\"16,6,84,6,91,28.2969,476,28.2969,476,305,16,305,16,6\" style=\"stroke: #000000; stroke-width: 1.5;\"/><line style=\"stroke: #000000; stroke-width: 1.5;\" x1=\"16\" x2=\"91\" y1=\"28.2969\" y2=\"28.2969\"/><text fill=\"#000000\" font-family=\"sans-serif\" font-size=\"14\" font-weight=\"bold\" lengthAdjust=\"spacingAndGlyphs\" textLength=\"62\" x=\"20\" y=\"20.9951\">AliasTest</text></a><!--MD5=[b4997ac47864f28c2f74865a473b2911]\n",
       "class E2--><a href=\"psysml:c7feeda3-a834-41bb-a074-923ea0011430\" target=\"_top\" title=\"psysml:c7feeda3-a834-41bb-a074-923ea0011430\" xlink:actuate=\"onRequest\" xlink:href=\"psysml:c7feeda3-a834-41bb-a074-923ea0011430\" xlink:show=\"new\" xlink:title=\"psysml:c7feeda3-a834-41bb-a074-923ea0011430\" xlink:type=\"simple\"><rect fill=\"#FFFFFF\" height=\"45.9375\" id=\"E2\" rx=\"10\" ry=\"10\" style=\"stroke: #383838; stroke-width: 1.5;\" width=\"165\" x=\"294.5\" y=\"65\"/><text fill=\"#000000\" font-family=\"sans-serif\" font-size=\"12\" font-style=\"italic\" lengthAdjust=\"spacingAndGlyphs\" textLength=\"69\" x=\"342.5\" y=\"81.1387\">«attribute»</text><text fill=\"#000000\" font-family=\"sans-serif\" font-size=\"12\" lengthAdjust=\"spacingAndGlyphs\" textLength=\"159\" x=\"297.5\" y=\"95.1074\">b :&gt; ISQSpaceTime::width</text><line style=\"stroke: #383838; stroke-width: 1.5;\" x1=\"295.5\" x2=\"458.5\" y1=\"102.9375\" y2=\"102.9375\"/></a><!--MD5=[09b614a08d8cba4a07c9adeb5e0fee81]\n",
       "class E3--><a href=\"psysml:1a450028-471a-4a88-b6bb-254dda2007f7\" target=\"_top\" title=\"psysml:1a450028-471a-4a88-b6bb-254dda2007f7\" xlink:actuate=\"onRequest\" xlink:href=\"psysml:1a450028-471a-4a88-b6bb-254dda2007f7\" xlink:show=\"new\" xlink:title=\"psysml:1a450028-471a-4a88-b6bb-254dda2007f7\" xlink:type=\"simple\"><rect fill=\"#FFFFFF\" height=\"94.3516\" id=\"E3\" style=\"stroke: #383838; stroke-width: 1.5;\" width=\"104\" x=\"96\" y=\"195\"/><text fill=\"#000000\" font-family=\"sans-serif\" font-size=\"12\" font-style=\"italic\" lengthAdjust=\"spacingAndGlyphs\" textLength=\"68\" x=\"114\" y=\"211.1387\">«part  def»</text><text fill=\"#000000\" font-family=\"sans-serif\" font-size=\"12\" lengthAdjust=\"spacingAndGlyphs\" textLength=\"16\" x=\"140\" y=\"225.1074\">P1</text><line style=\"stroke: #383838; stroke-width: 1.5;\" x1=\"97\" x2=\"199\" y1=\"232.9375\" y2=\"232.9375\"/><text fill=\"#000000\" font-family=\"sans-serif\" font-size=\"11\" lengthAdjust=\"spacingAndGlyphs\" textLength=\"36\" x=\"102\" y=\"263.9526\">porig1</text><text fill=\"#000000\" font-family=\"sans-serif\" font-size=\"11\" font-weight=\"bold\" lengthAdjust=\"spacingAndGlyphs\" textLength=\"27\" x=\"142\" y=\"263.9526\">alias</text><text fill=\"#000000\" font-family=\"sans-serif\" font-size=\"11\" lengthAdjust=\"spacingAndGlyphs\" textLength=\"21\" x=\"173\" y=\"263.9526\">po1</text><line style=\"stroke: #383838; stroke-width: 1.0;\" x1=\"97\" x2=\"133\" y1=\"247.3398\" y2=\"247.3398\"/><text fill=\"#000000\" font-family=\"sans-serif\" font-size=\"11\" lengthAdjust=\"spacingAndGlyphs\" textLength=\"30\" x=\"133\" y=\"250.6479\">ports</text><line style=\"stroke: #383838; stroke-width: 1.0;\" x1=\"163\" x2=\"199\" y1=\"247.3398\" y2=\"247.3398\"/><text fill=\"#000000\" font-family=\"sans-serif\" font-size=\"11\" lengthAdjust=\"spacingAndGlyphs\" textLength=\"0\" x=\"118\" y=\"282.7573\"/><rect fill=\"#FFFFFF\" height=\"2\" style=\"stroke: #000000; stroke-width: 1.0;\" width=\"2\" x=\"111\" y=\"277.9492\"/><line style=\"stroke: #000000; stroke-width: 1.0;\" x1=\"104\" x2=\"112\" y1=\"278.9492\" y2=\"278.9492\"/><line style=\"stroke: #000000; stroke-width: 1.0;\" x1=\"104\" x2=\"104\" y1=\"272.5469\" y2=\"278.9492\"/></a><!--MD5=[ebbe1d658d1005bcc118a6aa81145e00]\n",
       "class E4--><a href=\"psysml:73838eb5-9ecb-4193-8391-1ddf76ff61b3\" target=\"_top\" title=\"psysml:73838eb5-9ecb-4193-8391-1ddf76ff61b3\" xlink:actuate=\"onRequest\" xlink:href=\"psysml:73838eb5-9ecb-4193-8391-1ddf76ff61b3\" xlink:show=\"new\" xlink:title=\"psysml:73838eb5-9ecb-4193-8391-1ddf76ff61b3\" xlink:type=\"simple\"><rect fill=\"#FFFFFF\" height=\"88.3516\" id=\"E4\" rx=\"10\" ry=\"10\" style=\"stroke: #383838; stroke-width: 1.5;\" width=\"92\" x=\"167\" y=\"44\"/><text fill=\"#000000\" font-family=\"sans-serif\" font-size=\"12\" font-style=\"italic\" lengthAdjust=\"spacingAndGlyphs\" textLength=\"40\" x=\"193\" y=\"60.1387\">«part»</text><text fill=\"#000000\" font-family=\"sans-serif\" font-size=\"12\" lengthAdjust=\"spacingAndGlyphs\" textLength=\"40\" x=\"191\" y=\"74.1074\">p1: P1</text><line style=\"stroke: #383838; stroke-width: 1.5;\" x1=\"168\" x2=\"258\" y1=\"81.9375\" y2=\"81.9375\"/><text fill=\"#000000\" font-family=\"sans-serif\" font-size=\"11\" lengthAdjust=\"spacingAndGlyphs\" textLength=\"21\" x=\"173\" y=\"112.9526\">po1</text><text fill=\"#000000\" font-family=\"sans-serif\" font-size=\"11\" font-style=\"italic\" lengthAdjust=\"spacingAndGlyphs\" textLength=\"80\" x=\"173\" y=\"125.7573\">:&gt;&gt;P1::porig1</text><line style=\"stroke: #383838; stroke-width: 1.0;\" x1=\"168\" x2=\"198\" y1=\"96.3398\" y2=\"96.3398\"/><text fill=\"#000000\" font-family=\"sans-serif\" font-size=\"11\" lengthAdjust=\"spacingAndGlyphs\" textLength=\"30\" x=\"198\" y=\"99.6479\">ports</text><line style=\"stroke: #383838; stroke-width: 1.0;\" x1=\"228\" x2=\"258\" y1=\"96.3398\" y2=\"96.3398\"/></a><!--MD5=[270fce915f116d4de14055a7c1d9a0f3]\n",
       "class E5--><a href=\"psysml:73d7b051-2240-4fe3-9278-fa0d634854f8\" target=\"_top\" title=\"psysml:73d7b051-2240-4fe3-9278-fa0d634854f8\" xlink:actuate=\"onRequest\" xlink:href=\"psysml:73d7b051-2240-4fe3-9278-fa0d634854f8\" xlink:show=\"new\" xlink:title=\"psysml:73d7b051-2240-4fe3-9278-fa0d634854f8\" xlink:type=\"simple\"><rect fill=\"#FFFFFF\" height=\"94.3516\" id=\"E5\" rx=\"10\" ry=\"10\" style=\"stroke: #383838; stroke-width: 1.5;\" width=\"100\" x=\"32\" y=\"41\"/><text fill=\"#000000\" font-family=\"sans-serif\" font-size=\"12\" font-style=\"italic\" lengthAdjust=\"spacingAndGlyphs\" textLength=\"40\" x=\"62\" y=\"57.1387\">«part»</text><text fill=\"#000000\" font-family=\"sans-serif\" font-size=\"12\" lengthAdjust=\"spacingAndGlyphs\" textLength=\"40\" x=\"60\" y=\"71.1074\">p2: P1</text><line style=\"stroke: #383838; stroke-width: 1.5;\" x1=\"33\" x2=\"131\" y1=\"78.9375\" y2=\"78.9375\"/><text fill=\"#000000\" font-family=\"sans-serif\" font-size=\"11\" lengthAdjust=\"spacingAndGlyphs\" textLength=\"32\" x=\"38\" y=\"109.9526\">pdest</text><text fill=\"#000000\" font-family=\"sans-serif\" font-size=\"11\" font-weight=\"bold\" lengthAdjust=\"spacingAndGlyphs\" textLength=\"27\" x=\"74\" y=\"109.9526\">alias</text><text fill=\"#000000\" font-family=\"sans-serif\" font-size=\"11\" lengthAdjust=\"spacingAndGlyphs\" textLength=\"21\" x=\"105\" y=\"109.9526\">pd1</text><line style=\"stroke: #383838; stroke-width: 1.0;\" x1=\"33\" x2=\"67\" y1=\"93.3398\" y2=\"93.3398\"/><text fill=\"#000000\" font-family=\"sans-serif\" font-size=\"11\" lengthAdjust=\"spacingAndGlyphs\" textLength=\"30\" x=\"67\" y=\"96.6479\">ports</text><line style=\"stroke: #383838; stroke-width: 1.0;\" x1=\"97\" x2=\"131\" y1=\"93.3398\" y2=\"93.3398\"/><text fill=\"#000000\" font-family=\"sans-serif\" font-size=\"11\" lengthAdjust=\"spacingAndGlyphs\" textLength=\"0\" x=\"54\" y=\"128.7573\"/><rect fill=\"#FFFFFF\" height=\"2\" style=\"stroke: #000000; stroke-width: 1.0;\" width=\"2\" x=\"47\" y=\"123.9492\"/><line style=\"stroke: #000000; stroke-width: 1.0;\" x1=\"40\" x2=\"48\" y1=\"124.9492\" y2=\"124.9492\"/><line style=\"stroke: #000000; stroke-width: 1.0;\" x1=\"40\" x2=\"40\" y1=\"118.5469\" y2=\"124.9492\"/></a><!--MD5=[f0cdf4548168e5211fb3a02bf679d63a]\n",
       "link E4 to E3--><a href=\"psysml:de9d1539-3df1-480f-91a9-ed9f950b1f96\" target=\"_top\" title=\"psysml:de9d1539-3df1-480f-91a9-ed9f950b1f96\" xlink:actuate=\"onRequest\" xlink:href=\"psysml:de9d1539-3df1-480f-91a9-ed9f950b1f96\" xlink:show=\"new\" xlink:title=\"psysml:de9d1539-3df1-480f-91a9-ed9f950b1f96\" xlink:type=\"simple\"><path d=\"M194.55,132.15 C188.66,145.91 182.02,161.45 175.63,176.39 \" fill=\"none\" id=\"E4-&gt;E3\" style=\"stroke: #383838; stroke-width: 1.0;\"/><polygon fill=\"#FFFFFF\" points=\"167.75,194.82,168.7796,174.5977,181.6533,180.0993,167.75,194.82\" style=\"stroke: #383838; stroke-width: 1.0;\"/><ellipse cx=\"172.8586\" cy=\"170.1422\" fill=\"#383838\" rx=\"2\" ry=\"2\" style=\"stroke: #383838; stroke-width: 1.0;\"/><ellipse cx=\"182.0541\" cy=\"174.0719\" fill=\"#383838\" rx=\"2\" ry=\"2\" style=\"stroke: #383838; stroke-width: 1.0;\"/></a><!--MD5=[e9be52314489bd878ff4c7144b63c9e1]\n",
       "link E5 to E3--><a href=\"psysml:52eea9f8-f20f-41d5-8944-6f19cdd988b1\" target=\"_top\" title=\"psysml:52eea9f8-f20f-41d5-8944-6f19cdd988b1\" xlink:actuate=\"onRequest\" xlink:href=\"psysml:52eea9f8-f20f-41d5-8944-6f19cdd988b1\" xlink:show=\"new\" xlink:title=\"psysml:52eea9f8-f20f-41d5-8944-6f19cdd988b1\" xlink:type=\"simple\"><path d=\"M101.98,135.02 C107.64,148.05 113.91,162.49 119.95,176.41 \" fill=\"none\" id=\"E5-&gt;E3\" style=\"stroke: #383838; stroke-width: 1.0;\"/><polygon fill=\"#FFFFFF\" points=\"127.97,194.88,113.9772,180.2444,126.8171,174.6644,127.97,194.88\" style=\"stroke: #383838; stroke-width: 1.0;\"/><ellipse cx=\"113.5396\" cy=\"174.2195\" fill=\"#383838\" rx=\"2\" ry=\"2\" style=\"stroke: #383838; stroke-width: 1.0;\"/><ellipse cx=\"122.711\" cy=\"170.2338\" fill=\"#383838\" rx=\"2\" ry=\"2\" style=\"stroke: #383838; stroke-width: 1.0;\"/></a><!--MD5=[0a273bb4aa3a8c60c946a5d247da6936]\n",
       "@startuml\r\n",
       " skinparam monochrome true\r\n",
       "skinparam classbackgroundcolor white\r\n",
       "skinparam shadowing false\r\n",
       "skinparam wrapWidth 300\r\n",
       "hide circle\r\n",
       "\r\n",
       "package \"AliasTest\" as E1  [[psysml:02b7e9b9-6677-468f-8dad-8ced33a218a4 ]]  {\r\n",
       "comp usage \"b :> ISQSpaceTime::width\" as E2  <<(T,blue) attribute>> [[psysml:c7feeda3-a834-41bb-a074-923ea0011430 ]] {\r\n",
       "}\r\n",
       "comp def \"P1\" as E3  <<(T,blue) part  def>> [[psysml:1a450028-471a-4a88-b6bb-254dda2007f7 ]] {\r\n",
       "- - ports - -\r\n",
       "porig1 <b>alias</b> po1 \r\n",
       "|_ \r\n",
       "}\r\n",
       "comp usage \"p1: P1 \" as E4  <<(T,blue) part>> [[psysml:73838eb5-9ecb-4193-8391-1ddf76ff61b3 ]] {\r\n",
       "- - ports - -\r\n",
       "po1\\n//:>>P1::porig1// \r\n",
       "}\r\n",
       "comp usage \"p2: P1 \" as E5  <<(T,blue) part>> [[psysml:73d7b051-2240-4fe3-9278-fa0d634854f8 ]] {\r\n",
       "- - ports - -\r\n",
       "pdest <b>alias</b> pd1 \r\n",
       "|_ \r\n",
       "}\r\n",
       "}\r\n",
       "E4 - -:|> E3 [[psysml:de9d1539-3df1-480f-91a9-ed9f950b1f96 ]] \r\n",
       "E5 - -:|> E3 [[psysml:52eea9f8-f20f-41d5-8944-6f19cdd988b1 ]] \r\n",
       "@enduml\r\n",
       "\n",
       "PlantUML version 1.2020.13(Sat Jun 13 12:26:38 UTC 2020)\n",
       "(EPL source distribution)\n",
       "Java Runtime: OpenJDK Runtime Environment\n",
       "JVM: OpenJDK 64-Bit Server VM\n",
       "Default Encoding: UTF-8\n",
       "Language: en\n",
       "Country: null\n",
       "--></g></svg>"
      ]
     },
     "execution_count": 2,
     "metadata": {},
     "output_type": "execute_result"
    }
   ],
   "source": [
    "%viz --style=\"COMPTREE\" --view=\"Default\" \"AliasTest\""
   ]
  },
  {
   "cell_type": "code",
   "execution_count": 3,
   "id": "7c4fddcd",
   "metadata": {
    "execution": {
     "iopub.execute_input": "2022-08-19T08:20:47.110459Z",
     "iopub.status.busy": "2022-08-19T08:20:47.109996Z",
     "iopub.status.idle": "2022-08-19T08:20:47.216209Z",
     "shell.execute_reply": "2022-08-19T08:20:47.214093Z"
    }
   },
   "outputs": [
    {
     "data": {
      "image/svg+xml": [
       "<?xml version=\"1.0\" encoding=\"UTF-8\" standalone=\"no\"?><svg xmlns=\"http://www.w3.org/2000/svg\" xmlns:xlink=\"http://www.w3.org/1999/xlink\" contentScriptType=\"application/ecmascript\" contentStyleType=\"text/css\" height=\"317px\" preserveAspectRatio=\"none\" style=\"width:498px;height:317px;\" version=\"1.1\" viewBox=\"0 0 498 317\" width=\"498px\" zoomAndPan=\"magnify\"><defs/><g><!--MD5=[fbc87193dbaf4d95561dea2c320d4a47]\n",
       "cluster E1--><a href=\"psysml:02b7e9b9-6677-468f-8dad-8ced33a218a4\" target=\"_top\" title=\"psysml:02b7e9b9-6677-468f-8dad-8ced33a218a4\" xlink:actuate=\"onRequest\" xlink:href=\"psysml:02b7e9b9-6677-468f-8dad-8ced33a218a4\" xlink:show=\"new\" xlink:title=\"psysml:02b7e9b9-6677-468f-8dad-8ced33a218a4\" xlink:type=\"simple\"><polygon fill=\"#FFFFFF\" points=\"16,6,84,6,91,28.2969,476,28.2969,476,305,16,305,16,6\" style=\"stroke: #000000; stroke-width: 1.5;\"/><line style=\"stroke: #000000; stroke-width: 1.5;\" x1=\"16\" x2=\"91\" y1=\"28.2969\" y2=\"28.2969\"/><text fill=\"#000000\" font-family=\"sans-serif\" font-size=\"14\" font-weight=\"bold\" lengthAdjust=\"spacingAndGlyphs\" textLength=\"62\" x=\"20\" y=\"20.9951\">AliasTest</text></a><!--MD5=[b4997ac47864f28c2f74865a473b2911]\n",
       "class E2--><a href=\"psysml:c7feeda3-a834-41bb-a074-923ea0011430\" target=\"_top\" title=\"psysml:c7feeda3-a834-41bb-a074-923ea0011430\" xlink:actuate=\"onRequest\" xlink:href=\"psysml:c7feeda3-a834-41bb-a074-923ea0011430\" xlink:show=\"new\" xlink:title=\"psysml:c7feeda3-a834-41bb-a074-923ea0011430\" xlink:type=\"simple\"><rect fill=\"#FFFFFF\" height=\"45.9375\" id=\"E2\" rx=\"10\" ry=\"10\" style=\"stroke: #383838; stroke-width: 1.5;\" width=\"165\" x=\"294.5\" y=\"65\"/><text fill=\"#000000\" font-family=\"sans-serif\" font-size=\"12\" font-style=\"italic\" lengthAdjust=\"spacingAndGlyphs\" textLength=\"69\" x=\"342.5\" y=\"81.1387\">«attribute»</text><text fill=\"#000000\" font-family=\"sans-serif\" font-size=\"12\" lengthAdjust=\"spacingAndGlyphs\" textLength=\"159\" x=\"297.5\" y=\"95.1074\">b :&gt; ISQSpaceTime::width</text><line style=\"stroke: #383838; stroke-width: 1.5;\" x1=\"295.5\" x2=\"458.5\" y1=\"102.9375\" y2=\"102.9375\"/></a><!--MD5=[09b614a08d8cba4a07c9adeb5e0fee81]\n",
       "class E3--><a href=\"psysml:1a450028-471a-4a88-b6bb-254dda2007f7\" target=\"_top\" title=\"psysml:1a450028-471a-4a88-b6bb-254dda2007f7\" xlink:actuate=\"onRequest\" xlink:href=\"psysml:1a450028-471a-4a88-b6bb-254dda2007f7\" xlink:show=\"new\" xlink:title=\"psysml:1a450028-471a-4a88-b6bb-254dda2007f7\" xlink:type=\"simple\"><rect fill=\"#FFFFFF\" height=\"94.3516\" id=\"E3\" style=\"stroke: #383838; stroke-width: 1.5;\" width=\"104\" x=\"96\" y=\"195\"/><text fill=\"#000000\" font-family=\"sans-serif\" font-size=\"12\" font-style=\"italic\" lengthAdjust=\"spacingAndGlyphs\" textLength=\"68\" x=\"114\" y=\"211.1387\">«part  def»</text><text fill=\"#000000\" font-family=\"sans-serif\" font-size=\"12\" lengthAdjust=\"spacingAndGlyphs\" textLength=\"16\" x=\"140\" y=\"225.1074\">P1</text><line style=\"stroke: #383838; stroke-width: 1.5;\" x1=\"97\" x2=\"199\" y1=\"232.9375\" y2=\"232.9375\"/><text fill=\"#000000\" font-family=\"sans-serif\" font-size=\"11\" lengthAdjust=\"spacingAndGlyphs\" textLength=\"36\" x=\"102\" y=\"263.9526\">porig1</text><text fill=\"#000000\" font-family=\"sans-serif\" font-size=\"11\" font-weight=\"bold\" lengthAdjust=\"spacingAndGlyphs\" textLength=\"27\" x=\"142\" y=\"263.9526\">alias</text><text fill=\"#000000\" font-family=\"sans-serif\" font-size=\"11\" lengthAdjust=\"spacingAndGlyphs\" textLength=\"21\" x=\"173\" y=\"263.9526\">po1</text><line style=\"stroke: #383838; stroke-width: 1.0;\" x1=\"97\" x2=\"133\" y1=\"247.3398\" y2=\"247.3398\"/><text fill=\"#000000\" font-family=\"sans-serif\" font-size=\"11\" lengthAdjust=\"spacingAndGlyphs\" textLength=\"30\" x=\"133\" y=\"250.6479\">ports</text><line style=\"stroke: #383838; stroke-width: 1.0;\" x1=\"163\" x2=\"199\" y1=\"247.3398\" y2=\"247.3398\"/><text fill=\"#000000\" font-family=\"sans-serif\" font-size=\"11\" lengthAdjust=\"spacingAndGlyphs\" textLength=\"0\" x=\"118\" y=\"282.7573\"/><rect fill=\"#FFFFFF\" height=\"2\" style=\"stroke: #000000; stroke-width: 1.0;\" width=\"2\" x=\"111\" y=\"277.9492\"/><line style=\"stroke: #000000; stroke-width: 1.0;\" x1=\"104\" x2=\"112\" y1=\"278.9492\" y2=\"278.9492\"/><line style=\"stroke: #000000; stroke-width: 1.0;\" x1=\"104\" x2=\"104\" y1=\"272.5469\" y2=\"278.9492\"/></a><!--MD5=[ebbe1d658d1005bcc118a6aa81145e00]\n",
       "class E4--><a href=\"psysml:73838eb5-9ecb-4193-8391-1ddf76ff61b3\" target=\"_top\" title=\"psysml:73838eb5-9ecb-4193-8391-1ddf76ff61b3\" xlink:actuate=\"onRequest\" xlink:href=\"psysml:73838eb5-9ecb-4193-8391-1ddf76ff61b3\" xlink:show=\"new\" xlink:title=\"psysml:73838eb5-9ecb-4193-8391-1ddf76ff61b3\" xlink:type=\"simple\"><rect fill=\"#FFFFFF\" height=\"88.3516\" id=\"E4\" rx=\"10\" ry=\"10\" style=\"stroke: #383838; stroke-width: 1.5;\" width=\"92\" x=\"167\" y=\"44\"/><text fill=\"#000000\" font-family=\"sans-serif\" font-size=\"12\" font-style=\"italic\" lengthAdjust=\"spacingAndGlyphs\" textLength=\"40\" x=\"193\" y=\"60.1387\">«part»</text><text fill=\"#000000\" font-family=\"sans-serif\" font-size=\"12\" lengthAdjust=\"spacingAndGlyphs\" textLength=\"40\" x=\"191\" y=\"74.1074\">p1: P1</text><line style=\"stroke: #383838; stroke-width: 1.5;\" x1=\"168\" x2=\"258\" y1=\"81.9375\" y2=\"81.9375\"/><text fill=\"#000000\" font-family=\"sans-serif\" font-size=\"11\" lengthAdjust=\"spacingAndGlyphs\" textLength=\"21\" x=\"173\" y=\"112.9526\">po1</text><text fill=\"#000000\" font-family=\"sans-serif\" font-size=\"11\" font-style=\"italic\" lengthAdjust=\"spacingAndGlyphs\" textLength=\"80\" x=\"173\" y=\"125.7573\">:&gt;&gt;P1::porig1</text><line style=\"stroke: #383838; stroke-width: 1.0;\" x1=\"168\" x2=\"198\" y1=\"96.3398\" y2=\"96.3398\"/><text fill=\"#000000\" font-family=\"sans-serif\" font-size=\"11\" lengthAdjust=\"spacingAndGlyphs\" textLength=\"30\" x=\"198\" y=\"99.6479\">ports</text><line style=\"stroke: #383838; stroke-width: 1.0;\" x1=\"228\" x2=\"258\" y1=\"96.3398\" y2=\"96.3398\"/></a><!--MD5=[270fce915f116d4de14055a7c1d9a0f3]\n",
       "class E5--><a href=\"psysml:73d7b051-2240-4fe3-9278-fa0d634854f8\" target=\"_top\" title=\"psysml:73d7b051-2240-4fe3-9278-fa0d634854f8\" xlink:actuate=\"onRequest\" xlink:href=\"psysml:73d7b051-2240-4fe3-9278-fa0d634854f8\" xlink:show=\"new\" xlink:title=\"psysml:73d7b051-2240-4fe3-9278-fa0d634854f8\" xlink:type=\"simple\"><rect fill=\"#FFFFFF\" height=\"94.3516\" id=\"E5\" rx=\"10\" ry=\"10\" style=\"stroke: #383838; stroke-width: 1.5;\" width=\"100\" x=\"32\" y=\"41\"/><text fill=\"#000000\" font-family=\"sans-serif\" font-size=\"12\" font-style=\"italic\" lengthAdjust=\"spacingAndGlyphs\" textLength=\"40\" x=\"62\" y=\"57.1387\">«part»</text><text fill=\"#000000\" font-family=\"sans-serif\" font-size=\"12\" lengthAdjust=\"spacingAndGlyphs\" textLength=\"40\" x=\"60\" y=\"71.1074\">p2: P1</text><line style=\"stroke: #383838; stroke-width: 1.5;\" x1=\"33\" x2=\"131\" y1=\"78.9375\" y2=\"78.9375\"/><text fill=\"#000000\" font-family=\"sans-serif\" font-size=\"11\" lengthAdjust=\"spacingAndGlyphs\" textLength=\"32\" x=\"38\" y=\"109.9526\">pdest</text><text fill=\"#000000\" font-family=\"sans-serif\" font-size=\"11\" font-weight=\"bold\" lengthAdjust=\"spacingAndGlyphs\" textLength=\"27\" x=\"74\" y=\"109.9526\">alias</text><text fill=\"#000000\" font-family=\"sans-serif\" font-size=\"11\" lengthAdjust=\"spacingAndGlyphs\" textLength=\"21\" x=\"105\" y=\"109.9526\">pd1</text><line style=\"stroke: #383838; stroke-width: 1.0;\" x1=\"33\" x2=\"67\" y1=\"93.3398\" y2=\"93.3398\"/><text fill=\"#000000\" font-family=\"sans-serif\" font-size=\"11\" lengthAdjust=\"spacingAndGlyphs\" textLength=\"30\" x=\"67\" y=\"96.6479\">ports</text><line style=\"stroke: #383838; stroke-width: 1.0;\" x1=\"97\" x2=\"131\" y1=\"93.3398\" y2=\"93.3398\"/><text fill=\"#000000\" font-family=\"sans-serif\" font-size=\"11\" lengthAdjust=\"spacingAndGlyphs\" textLength=\"0\" x=\"54\" y=\"128.7573\"/><rect fill=\"#FFFFFF\" height=\"2\" style=\"stroke: #000000; stroke-width: 1.0;\" width=\"2\" x=\"47\" y=\"123.9492\"/><line style=\"stroke: #000000; stroke-width: 1.0;\" x1=\"40\" x2=\"48\" y1=\"124.9492\" y2=\"124.9492\"/><line style=\"stroke: #000000; stroke-width: 1.0;\" x1=\"40\" x2=\"40\" y1=\"118.5469\" y2=\"124.9492\"/></a><!--MD5=[f0cdf4548168e5211fb3a02bf679d63a]\n",
       "link E4 to E3--><a href=\"psysml:de9d1539-3df1-480f-91a9-ed9f950b1f96\" target=\"_top\" title=\"psysml:de9d1539-3df1-480f-91a9-ed9f950b1f96\" xlink:actuate=\"onRequest\" xlink:href=\"psysml:de9d1539-3df1-480f-91a9-ed9f950b1f96\" xlink:show=\"new\" xlink:title=\"psysml:de9d1539-3df1-480f-91a9-ed9f950b1f96\" xlink:type=\"simple\"><path d=\"M194.55,132.15 C188.66,145.91 182.02,161.45 175.63,176.39 \" fill=\"none\" id=\"E4-&gt;E3\" style=\"stroke: #383838; stroke-width: 1.0;\"/><polygon fill=\"#FFFFFF\" points=\"167.75,194.82,168.7796,174.5977,181.6533,180.0993,167.75,194.82\" style=\"stroke: #383838; stroke-width: 1.0;\"/><ellipse cx=\"172.8586\" cy=\"170.1422\" fill=\"#383838\" rx=\"2\" ry=\"2\" style=\"stroke: #383838; stroke-width: 1.0;\"/><ellipse cx=\"182.0541\" cy=\"174.0719\" fill=\"#383838\" rx=\"2\" ry=\"2\" style=\"stroke: #383838; stroke-width: 1.0;\"/></a><!--MD5=[e9be52314489bd878ff4c7144b63c9e1]\n",
       "link E5 to E3--><a href=\"psysml:52eea9f8-f20f-41d5-8944-6f19cdd988b1\" target=\"_top\" title=\"psysml:52eea9f8-f20f-41d5-8944-6f19cdd988b1\" xlink:actuate=\"onRequest\" xlink:href=\"psysml:52eea9f8-f20f-41d5-8944-6f19cdd988b1\" xlink:show=\"new\" xlink:title=\"psysml:52eea9f8-f20f-41d5-8944-6f19cdd988b1\" xlink:type=\"simple\"><path d=\"M101.98,135.02 C107.64,148.05 113.91,162.49 119.95,176.41 \" fill=\"none\" id=\"E5-&gt;E3\" style=\"stroke: #383838; stroke-width: 1.0;\"/><polygon fill=\"#FFFFFF\" points=\"127.97,194.88,113.9772,180.2444,126.8171,174.6644,127.97,194.88\" style=\"stroke: #383838; stroke-width: 1.0;\"/><ellipse cx=\"113.5396\" cy=\"174.2195\" fill=\"#383838\" rx=\"2\" ry=\"2\" style=\"stroke: #383838; stroke-width: 1.0;\"/><ellipse cx=\"122.711\" cy=\"170.2338\" fill=\"#383838\" rx=\"2\" ry=\"2\" style=\"stroke: #383838; stroke-width: 1.0;\"/></a><!--MD5=[0a273bb4aa3a8c60c946a5d247da6936]\n",
       "@startuml\r\n",
       " skinparam monochrome true\r\n",
       "skinparam classbackgroundcolor white\r\n",
       "skinparam shadowing false\r\n",
       "skinparam wrapWidth 300\r\n",
       "hide circle\r\n",
       "\r\n",
       "package \"AliasTest\" as E1  [[psysml:02b7e9b9-6677-468f-8dad-8ced33a218a4 ]]  {\r\n",
       "comp usage \"b :> ISQSpaceTime::width\" as E2  <<(T,blue) attribute>> [[psysml:c7feeda3-a834-41bb-a074-923ea0011430 ]] {\r\n",
       "}\r\n",
       "comp def \"P1\" as E3  <<(T,blue) part  def>> [[psysml:1a450028-471a-4a88-b6bb-254dda2007f7 ]] {\r\n",
       "- - ports - -\r\n",
       "porig1 <b>alias</b> po1 \r\n",
       "|_ \r\n",
       "}\r\n",
       "comp usage \"p1: P1 \" as E4  <<(T,blue) part>> [[psysml:73838eb5-9ecb-4193-8391-1ddf76ff61b3 ]] {\r\n",
       "- - ports - -\r\n",
       "po1\\n//:>>P1::porig1// \r\n",
       "}\r\n",
       "comp usage \"p2: P1 \" as E5  <<(T,blue) part>> [[psysml:73d7b051-2240-4fe3-9278-fa0d634854f8 ]] {\r\n",
       "- - ports - -\r\n",
       "pdest <b>alias</b> pd1 \r\n",
       "|_ \r\n",
       "}\r\n",
       "}\r\n",
       "E4 - -:|> E3 [[psysml:de9d1539-3df1-480f-91a9-ed9f950b1f96 ]] \r\n",
       "E5 - -:|> E3 [[psysml:52eea9f8-f20f-41d5-8944-6f19cdd988b1 ]] \r\n",
       "@enduml\r\n",
       "\n",
       "PlantUML version 1.2020.13(Sat Jun 13 12:26:38 UTC 2020)\n",
       "(EPL source distribution)\n",
       "Java Runtime: OpenJDK Runtime Environment\n",
       "JVM: OpenJDK 64-Bit Server VM\n",
       "Default Encoding: UTF-8\n",
       "Language: en\n",
       "Country: null\n",
       "--></g></svg>"
      ]
     },
     "execution_count": 3,
     "metadata": {},
     "output_type": "execute_result"
    }
   ],
   "source": [
    "%viz --style=\"COMPTREE\" --view=\"Tree\" \"AliasTest\""
   ]
  },
  {
   "cell_type": "code",
   "execution_count": 4,
   "id": "9a3507df",
   "metadata": {
    "execution": {
     "iopub.execute_input": "2022-08-19T08:20:47.265507Z",
     "iopub.status.busy": "2022-08-19T08:20:47.264834Z",
     "iopub.status.idle": "2022-08-19T08:20:47.274221Z",
     "shell.execute_reply": "2022-08-19T08:20:47.273652Z"
    }
   },
   "outputs": [
    {
     "data": {
      "image/svg+xml": [
       "<?xml version=\"1.0\" encoding=\"UTF-8\" standalone=\"no\"?><svg xmlns=\"http://www.w3.org/2000/svg\" xmlns:xlink=\"http://www.w3.org/1999/xlink\" contentScriptType=\"application/ecmascript\" contentStyleType=\"text/css\" height=\"12px\" preserveAspectRatio=\"none\" style=\"width:12px;height:12px;\" version=\"1.1\" viewBox=\"0 0 12 12\" width=\"12px\" zoomAndPan=\"magnify\"><defs/><g><!--MD5=[f19188ef49e11757b5c46753f95d9edc]\n",
       "@startuml\r\n",
       " skinparam monochrome true\r\n",
       "skinparam classbackgroundcolor white\r\n",
       "skinparam shadowing false\r\n",
       "skinparam wrapWidth 300\r\n",
       "hide circle\r\n",
       "\r\n",
       "@enduml\r\n",
       "\n",
       "PlantUML version 1.2020.13(Sat Jun 13 12:26:38 UTC 2020)\n",
       "(EPL source distribution)\n",
       "Java Runtime: OpenJDK Runtime Environment\n",
       "JVM: OpenJDK 64-Bit Server VM\n",
       "Default Encoding: UTF-8\n",
       "Language: en\n",
       "Country: null\n",
       "--></g></svg>"
      ]
     },
     "execution_count": 4,
     "metadata": {},
     "output_type": "execute_result"
    }
   ],
   "source": [
    "%viz --style=\"COMPTREE\" --view=\"State\" \"AliasTest\""
   ]
  },
  {
   "cell_type": "code",
   "execution_count": 5,
   "id": "56fbb24e",
   "metadata": {
    "execution": {
     "iopub.execute_input": "2022-08-19T08:20:47.323261Z",
     "iopub.status.busy": "2022-08-19T08:20:47.323000Z",
     "iopub.status.idle": "2022-08-19T08:20:47.381664Z",
     "shell.execute_reply": "2022-08-19T08:20:47.381997Z"
    }
   },
   "outputs": [
    {
     "data": {
      "image/svg+xml": [
       "<?xml version=\"1.0\" encoding=\"UTF-8\" standalone=\"no\"?><svg xmlns=\"http://www.w3.org/2000/svg\" xmlns:xlink=\"http://www.w3.org/1999/xlink\" contentScriptType=\"application/ecmascript\" contentStyleType=\"text/css\" height=\"398px\" preserveAspectRatio=\"none\" style=\"width:370px;height:398px;\" version=\"1.1\" viewBox=\"0 0 370 398\" width=\"370px\" zoomAndPan=\"magnify\"><defs/><g><!--MD5=[fbc87193dbaf4d95561dea2c320d4a47]\n",
       "cluster E1--><a href=\"psysml:02b7e9b9-6677-468f-8dad-8ced33a218a4\" target=\"_top\" title=\"psysml:02b7e9b9-6677-468f-8dad-8ced33a218a4\" xlink:actuate=\"onRequest\" xlink:href=\"psysml:02b7e9b9-6677-468f-8dad-8ced33a218a4\" xlink:show=\"new\" xlink:title=\"psysml:02b7e9b9-6677-468f-8dad-8ced33a218a4\" xlink:type=\"simple\"><polygon fill=\"#FFFFFF\" points=\"16,6,84,6,91,28.2969,348,28.2969,348,386.36,16,386.36,16,6\" style=\"stroke: #000000; stroke-width: 1.5;\"/><line style=\"stroke: #000000; stroke-width: 1.5;\" x1=\"16\" x2=\"91\" y1=\"28.2969\" y2=\"28.2969\"/><text fill=\"#000000\" font-family=\"sans-serif\" font-size=\"14\" font-weight=\"bold\" lengthAdjust=\"spacingAndGlyphs\" textLength=\"62\" x=\"20\" y=\"20.9951\">AliasTest</text></a><!--MD5=[d5e69f78d87373223dbae638b30a9c99]\n",
       "cluster E3--><a href=\"psysml:1a450028-471a-4a88-b6bb-254dda2007f7\" target=\"_top\" title=\"psysml:1a450028-471a-4a88-b6bb-254dda2007f7\" xlink:actuate=\"onRequest\" xlink:href=\"psysml:1a450028-471a-4a88-b6bb-254dda2007f7\" xlink:show=\"new\" xlink:title=\"psysml:1a450028-471a-4a88-b6bb-254dda2007f7\" xlink:type=\"simple\"><rect fill=\"#FFFFFF\" height=\"124.5\" id=\"E3\" style=\"stroke: #383838; stroke-width: 1.5;\" width=\"144\" x=\"180\" y=\"237.86\"/><rect fill=\"#F8F8F8\" height=\"37.9375\" style=\"stroke: #383838; stroke-width: 1.5;\" width=\"144\" x=\"180\" y=\"237.86\"/><text fill=\"#000000\" font-family=\"sans-serif\" font-size=\"12\" font-style=\"italic\" lengthAdjust=\"spacingAndGlyphs\" textLength=\"68\" x=\"218\" y=\"253.9987\">«part  def»</text><text fill=\"#000000\" font-family=\"sans-serif\" font-size=\"12\" lengthAdjust=\"spacingAndGlyphs\" textLength=\"16\" x=\"244\" y=\"267.9674\">P1</text></a><!--MD5=[14e3b0961a2654348d326746436168a1]\n",
       "cluster E6--><a href=\"psysml:73838eb5-9ecb-4193-8391-1ddf76ff61b3\" target=\"_top\" title=\"psysml:73838eb5-9ecb-4193-8391-1ddf76ff61b3\" xlink:actuate=\"onRequest\" xlink:href=\"psysml:73838eb5-9ecb-4193-8391-1ddf76ff61b3\" xlink:show=\"new\" xlink:title=\"psysml:73838eb5-9ecb-4193-8391-1ddf76ff61b3\" xlink:type=\"simple\"><rect fill=\"#FFFFFF\" height=\"97.36\" id=\"E6\" rx=\"10\" ry=\"10\" style=\"stroke: #383838; stroke-width: 1.5;\" width=\"114\" x=\"210\" y=\"49\"/><rect fill=\"#F8F8F8\" height=\"23.9688\" rx=\"10\" ry=\"10\" style=\"stroke: #F8F8F8; stroke-width: 1.5;\" width=\"114\" x=\"210\" y=\"49\"/><rect fill=\"#F8F8F8\" height=\"10\" style=\"stroke: #F8F8F8; stroke-width: 1.5;\" width=\"114\" x=\"210\" y=\"62.9688\"/><rect fill=\"none\" height=\"97.36\" id=\"E6\" rx=\"10\" ry=\"10\" style=\"stroke: #383838; stroke-width: 1.5;\" width=\"114\" x=\"210\" y=\"49\"/><text fill=\"#000000\" font-family=\"sans-serif\" font-size=\"12\" lengthAdjust=\"spacingAndGlyphs\" textLength=\"40\" x=\"247\" y=\"65.1387\">p1: P1</text><line style=\"stroke: #383838; stroke-width: 1.0;\" x1=\"210\" x2=\"324\" y1=\"72.9688\" y2=\"72.9688\"/></a><!--MD5=[55dfccfc6c49c2d10cd1bd2211a6c90c]\n",
       "cluster E8--><a href=\"psysml:73d7b051-2240-4fe3-9278-fa0d634854f8\" target=\"_top\" title=\"psysml:73d7b051-2240-4fe3-9278-fa0d634854f8\" xlink:actuate=\"onRequest\" xlink:href=\"psysml:73d7b051-2240-4fe3-9278-fa0d634854f8\" xlink:show=\"new\" xlink:title=\"psysml:73d7b051-2240-4fe3-9278-fa0d634854f8\" xlink:type=\"simple\"><rect fill=\"#FFFFFF\" height=\"73\" id=\"E8\" rx=\"10\" ry=\"10\" style=\"stroke: #383838; stroke-width: 1.5;\" width=\"83\" x=\"81\" y=\"198.36\"/><rect fill=\"#F8F8F8\" height=\"23.9688\" rx=\"10\" ry=\"10\" style=\"stroke: #F8F8F8; stroke-width: 1.5;\" width=\"83\" x=\"81\" y=\"198.36\"/><rect fill=\"#F8F8F8\" height=\"10\" style=\"stroke: #F8F8F8; stroke-width: 1.5;\" width=\"83\" x=\"81\" y=\"212.3288\"/><rect fill=\"none\" height=\"73\" id=\"E8\" rx=\"10\" ry=\"10\" style=\"stroke: #383838; stroke-width: 1.5;\" width=\"83\" x=\"81\" y=\"198.36\"/><text fill=\"#000000\" font-family=\"sans-serif\" font-size=\"12\" lengthAdjust=\"spacingAndGlyphs\" textLength=\"40\" x=\"102.5\" y=\"214.4987\">p2: P1</text><line style=\"stroke: #383838; stroke-width: 1.0;\" x1=\"81\" x2=\"164\" y1=\"222.3288\" y2=\"222.3288\"/></a><!--MD5=[b4997ac47864f28c2f74865a473b2911]\n",
       "class E2--><a href=\"psysml:c7feeda3-a834-41bb-a074-923ea0011430\" target=\"_top\" title=\"psysml:c7feeda3-a834-41bb-a074-923ea0011430\" xlink:actuate=\"onRequest\" xlink:href=\"psysml:c7feeda3-a834-41bb-a074-923ea0011430\" xlink:show=\"new\" xlink:title=\"psysml:c7feeda3-a834-41bb-a074-923ea0011430\" xlink:type=\"simple\"><rect fill=\"#FFFFFF\" height=\"45.9375\" id=\"E2\" rx=\"10\" ry=\"10\" style=\"stroke: #383838; stroke-width: 1.5;\" width=\"165\" x=\"32.5\" y=\"59.5\"/><text fill=\"#000000\" font-family=\"sans-serif\" font-size=\"12\" font-style=\"italic\" lengthAdjust=\"spacingAndGlyphs\" textLength=\"69\" x=\"80.5\" y=\"75.6387\">«attribute»</text><text fill=\"#000000\" font-family=\"sans-serif\" font-size=\"12\" lengthAdjust=\"spacingAndGlyphs\" textLength=\"159\" x=\"35.5\" y=\"89.6074\">b :&gt; ISQSpaceTime::width</text><line style=\"stroke: #383838; stroke-width: 1.5;\" x1=\"33.5\" x2=\"196.5\" y1=\"97.4375\" y2=\"97.4375\"/></a><text fill=\"#000000\" font-family=\"sans-serif\" font-size=\"14\" lengthAdjust=\"spacingAndGlyphs\" textLength=\"44\" x=\"174\" y=\"216.5582\">porig1</text><rect fill=\"#383838\" height=\"12\" style=\"stroke: #F8F8F8; stroke-width: 1.5;\" width=\"12\" x=\"192\" y=\"231.86\"/><text fill=\"#000000\" font-family=\"sans-serif\" font-size=\"14\" lengthAdjust=\"spacingAndGlyphs\" textLength=\"44\" x=\"221\" y=\"216.5582\">porig1</text><rect fill=\"#383838\" height=\"12\" style=\"stroke: #F8F8F8; stroke-width: 1.5;\" width=\"12\" x=\"239\" y=\"231.86\"/><text fill=\"#000000\" font-family=\"sans-serif\" font-size=\"14\" lengthAdjust=\"spacingAndGlyphs\" textLength=\"27\" x=\"212.5\" y=\"165.3551\">po1</text><rect fill=\"#383838\" height=\"12\" style=\"stroke: #F8F8F8; stroke-width: 1.5;\" width=\"12\" x=\"222\" y=\"140.36\"/><text fill=\"#000000\" font-family=\"sans-serif\" font-size=\"14\" lengthAdjust=\"spacingAndGlyphs\" textLength=\"40\" x=\"77\" y=\"177.0582\">pdest</text><rect fill=\"#383838\" height=\"12\" style=\"stroke: #F8F8F8; stroke-width: 1.5;\" width=\"12\" x=\"93\" y=\"192.36\"/><text fill=\"#000000\" font-family=\"sans-serif\" font-size=\"14\" lengthAdjust=\"spacingAndGlyphs\" textLength=\"40\" x=\"124\" y=\"177.0582\">pdest</text><rect fill=\"#383838\" height=\"12\" style=\"stroke: #F8F8F8; stroke-width: 1.5;\" width=\"12\" x=\"140\" y=\"192.36\"/><!--MD5=[a717450b82c80b9240a525fa862496af]\n",
       "link E6 to E3--><a href=\"psysml:de9d1539-3df1-480f-91a9-ed9f950b1f96\" target=\"_top\" title=\"psysml:de9d1539-3df1-480f-91a9-ed9f950b1f96\" xlink:actuate=\"onRequest\" xlink:href=\"psysml:de9d1539-3df1-480f-91a9-ed9f950b1f96\" xlink:show=\"new\" xlink:title=\"psysml:de9d1539-3df1-480f-91a9-ed9f950b1f96\" xlink:type=\"simple\"><path d=\"M287,146.372 C287,146.4316 287,146.4946 287,146.5614 C287,146.6948 287,146.8432 287,147.0079 C287,147.3375 287,147.733 287,148.2077 C287,149.1569 287,150.4225 287,152.11 C287,158.86 287,172.36 287,199.36 C287,208.265 287.4169,215.6138 287.8598,222.1538 C287.8875,222.5625 287.9153,222.9681 287.9431,223.3707 C287.9501,223.4714 287.957,223.5718 287.964,223.6721 \" fill=\"none\" id=\"E6-&gt;E3\" style=\"stroke: #383838; stroke-width: 1.0;\"/><polygon fill=\"#FFFFFF\" points=\"287.964,223.6721,279.6675,205.2014,293.634,204.2337,287.964,223.6721\" style=\"stroke: #383838; stroke-width: 1.0;\"/><ellipse cx=\"281.2688\" cy=\"199.3768\" fill=\"#383838\" rx=\"2\" ry=\"2\" style=\"stroke: #383838; stroke-width: 1.0;\"/><ellipse cx=\"291.2448\" cy=\"198.6856\" fill=\"#383838\" rx=\"2\" ry=\"2\" style=\"stroke: #383838; stroke-width: 1.0;\"/></a><!--MD5=[95fa686b5a16158bcdbcaeead89f639b]\n",
       "link E8 to E3--><a href=\"psysml:52eea9f8-f20f-41d5-8944-6f19cdd988b1\" target=\"_top\" title=\"psysml:52eea9f8-f20f-41d5-8944-6f19cdd988b1\" xlink:actuate=\"onRequest\" xlink:href=\"psysml:52eea9f8-f20f-41d5-8944-6f19cdd988b1\" xlink:show=\"new\" xlink:title=\"psysml:52eea9f8-f20f-41d5-8944-6f19cdd988b1\" xlink:type=\"simple\"><path d=\"M161.6052,271.4143 C161.6848,271.4587 161.7644,271.5032 161.844,271.5476 C162.1624,271.7254 162.4807,271.903 162.799,272.0805 C163.4355,272.4354 164.0716,272.7896 164.7071,273.1429 C165.978,273.8495 167.2462,274.5525 168.5091,275.2502 C171.0347,276.6456 173.5388,278.02 176,279.36 C177.8425,280.3638 179.712,281.3764 181.6004,282.3941 C182.0725,282.6486 182.5457,282.9033 183.0201,283.1583 C183.2572,283.2858 183.4946,283.4134 183.7323,283.541 C183.7917,283.5729 183.8512,283.6048 183.9106,283.6368 \" fill=\"none\" id=\"E8-&gt;E3\" style=\"stroke: #383838; stroke-width: 1.0;\"/><polygon fill=\"#FFFFFF\" points=\"183.9106,283.6368,163.8594,280.8174,170.4813,268.4825,183.9106,283.6368\" style=\"stroke: #383838; stroke-width: 1.0;\"/><ellipse cx=\"159.7833\" cy=\"276.3592\" fill=\"#383838\" rx=\"2\" ry=\"2\" style=\"stroke: #383838; stroke-width: 1.0;\"/><ellipse cx=\"164.5132\" cy=\"267.5486\" fill=\"#383838\" rx=\"2\" ry=\"2\" style=\"stroke: #383838; stroke-width: 1.0;\"/></a><!--MD5=[1c0b9414cc86e0744215edee6abd8926]\n",
       "link E7 to E9--><a href=\"psysml:6785e7ae-ef30-46fa-a69d-d6daab2c7c15\" target=\"_top\" title=\"psysml:6785e7ae-ef30-46fa-a69d-d6daab2c7c15\" xlink:actuate=\"onRequest\" xlink:href=\"psysml:6785e7ae-ef30-46fa-a69d-d6daab2c7c15\" xlink:show=\"new\" xlink:title=\"psysml:6785e7ae-ef30-46fa-a69d-d6daab2c7c15\" xlink:type=\"simple\"><path d=\"M221.76,147.53 C198.85,148.59 143.6,155.09 105,176.36 C94.77,182 85.43,193.07 92.97,196.39 \" fill=\"none\" id=\"E7-E9\" style=\"stroke: #383838; stroke-width: 3.0;\"/><text fill=\"#000000\" font-family=\"sans-serif\" font-size=\"13\" lengthAdjust=\"spacingAndGlyphs\" textLength=\"7\" x=\"78.1078\" y=\"185.6989\">*</text></a><!--MD5=[1c0b9414cc86e0744215edee6abd8926]\n",
       "link E7 to E9--><a href=\"psysml:868c8138-312d-42c2-8f4f-f83047efce23\" target=\"_top\" title=\"psysml:868c8138-312d-42c2-8f4f-f83047efce23\" xlink:actuate=\"onRequest\" xlink:href=\"psysml:868c8138-312d-42c2-8f4f-f83047efce23\" xlink:show=\"new\" xlink:title=\"psysml:868c8138-312d-42c2-8f4f-f83047efce23\" xlink:type=\"simple\"><path d=\"M221.9,149.8 C204.95,153.24 168.07,160.89 140,176.36 C129.3,182.26 119.57,194.11 105.05,196.81 \" fill=\"none\" id=\"E7-E9-1\" style=\"stroke: #383838; stroke-width: 3.0;\"/><text fill=\"#000000\" font-family=\"sans-serif\" font-size=\"13\" lengthAdjust=\"spacingAndGlyphs\" textLength=\"7\" x=\"112.9288\" y=\"186.4654\">*</text></a><!--MD5=[909f4aac6a4b05ffb789464613861249]\n",
       "@startuml\r\n",
       "skinparam ranksep 10\r\n",
       "skinparam rectangle {\r\n",
       " backgroundColor<<block>> LightGreen\r\n",
       "}\r\n",
       " skinparam monochrome true\r\n",
       "skinparam classbackgroundcolor white\r\n",
       "skinparam shadowing false\r\n",
       "skinparam wrapWidth 300\r\n",
       "hide circle\r\n",
       "\r\n",
       "package \"AliasTest\" as E1  [[psysml:02b7e9b9-6677-468f-8dad-8ced33a218a4 ]]  {\r\n",
       "comp usage \"b :> ISQSpaceTime::width\" as E2  <<(T,blue) attribute>> [[psysml:c7feeda3-a834-41bb-a074-923ea0011430 ]] {\r\n",
       "}\r\n",
       "rec def \"P1\" as E3  <<(T,blue) part  def>> [[psysml:1a450028-471a-4a88-b6bb-254dda2007f7 ]] {\r\n",
       "portin \"porig1 \" as E4  <<(T,blue) port>> [[psysml:528ad082-e547-41e1-93e2-4f734da3b1f6 ]] \r\n",
       "portin \"porig1 \" as E5  <<(T,blue) port>> [[psysml:528ad082-e547-41e1-93e2-4f734da3b1f6 ]] \r\n",
       "}\r\n",
       "rec usage \"p1: P1\" as E6  [[psysml:73838eb5-9ecb-4193-8391-1ddf76ff61b3 ]] {\r\n",
       "portout \"po1 \" as E7  <<(T,blue) port>> [[psysml:6875339d-23d6-4973-8a77-102c2bf220f1 ]] \r\n",
       "}\r\n",
       "rec usage \"p2: P1\" as E8  [[psysml:73d7b051-2240-4fe3-9278-fa0d634854f8 ]] {\r\n",
       "portin \"pdest \" as E9  <<(T,blue) port>> [[psysml:6cb98d60-0ab8-42f0-badc-3a033a17e212 ]] \r\n",
       "portin \"pdest \" as E10  <<(T,blue) port>> [[psysml:6cb98d60-0ab8-42f0-badc-3a033a17e212 ]] \r\n",
       "}\r\n",
       "}\r\n",
       "E6 - -:|> E3 [[psysml:de9d1539-3df1-480f-91a9-ed9f950b1f96 ]] \r\n",
       "E8 - -:|> E3 [[psysml:52eea9f8-f20f-41d5-8944-6f19cdd988b1 ]] \r\n",
       "E7 -[thickness=3]- \"*\"E9 [[psysml:6785e7ae-ef30-46fa-a69d-d6daab2c7c15 ]] \r\n",
       "E7 -[thickness=3]- \"*\"E9 [[psysml:868c8138-312d-42c2-8f4f-f83047efce23 ]] \r\n",
       "@enduml\r\n",
       "\n",
       "PlantUML version 1.2020.13(Sat Jun 13 12:26:38 UTC 2020)\n",
       "(EPL source distribution)\n",
       "Java Runtime: OpenJDK Runtime Environment\n",
       "JVM: OpenJDK 64-Bit Server VM\n",
       "Default Encoding: UTF-8\n",
       "Language: en\n",
       "Country: null\n",
       "--></g></svg>"
      ]
     },
     "execution_count": 5,
     "metadata": {},
     "output_type": "execute_result"
    }
   ],
   "source": [
    "%viz --style=\"COMPTREE\" --view=\"Interconnection\" \"AliasTest\""
   ]
  },
  {
   "cell_type": "code",
   "execution_count": 6,
   "id": "153c2f66",
   "metadata": {
    "execution": {
     "iopub.execute_input": "2022-08-19T08:20:47.432297Z",
     "iopub.status.busy": "2022-08-19T08:20:47.431837Z",
     "iopub.status.idle": "2022-08-19T08:20:47.446158Z",
     "shell.execute_reply": "2022-08-19T08:20:47.446649Z"
    }
   },
   "outputs": [
    {
     "data": {
      "image/svg+xml": [
       "<?xml version=\"1.0\" encoding=\"UTF-8\" standalone=\"no\"?><svg xmlns=\"http://www.w3.org/2000/svg\" xmlns:xlink=\"http://www.w3.org/1999/xlink\" contentScriptType=\"application/ecmascript\" contentStyleType=\"text/css\" height=\"12px\" preserveAspectRatio=\"none\" style=\"width:12px;height:12px;\" version=\"1.1\" viewBox=\"0 0 12 12\" width=\"12px\" zoomAndPan=\"magnify\"><defs/><g><!--MD5=[655b888544ca4751ea36af1068543f84]\n",
       "@startuml\r\n",
       "skinparam ranksep 8\r\n",
       " skinparam monochrome true\r\n",
       "skinparam classbackgroundcolor white\r\n",
       "skinparam shadowing false\r\n",
       "skinparam wrapWidth 300\r\n",
       "hide circle\r\n",
       "\r\n",
       "@enduml\r\n",
       "\n",
       "PlantUML version 1.2020.13(Sat Jun 13 12:26:38 UTC 2020)\n",
       "(EPL source distribution)\n",
       "Java Runtime: OpenJDK Runtime Environment\n",
       "JVM: OpenJDK 64-Bit Server VM\n",
       "Default Encoding: UTF-8\n",
       "Language: en\n",
       "Country: null\n",
       "--></g></svg>"
      ]
     },
     "execution_count": 6,
     "metadata": {},
     "output_type": "execute_result"
    }
   ],
   "source": [
    "%viz --style=\"COMPTREE\" --view=\"Action\" \"AliasTest\""
   ]
  },
  {
   "cell_type": "code",
   "execution_count": 7,
   "id": "56f2bcd4",
   "metadata": {
    "execution": {
     "iopub.execute_input": "2022-08-19T08:20:47.496970Z",
     "iopub.status.busy": "2022-08-19T08:20:47.496284Z",
     "iopub.status.idle": "2022-08-19T08:20:47.515199Z",
     "shell.execute_reply": "2022-08-19T08:20:47.514743Z"
    }
   },
   "outputs": [
    {
     "data": {
      "image/svg+xml": [
       "<?xml version=\"1.0\" encoding=\"UTF-8\" standalone=\"no\"?><svg xmlns=\"http://www.w3.org/2000/svg\" xmlns:xlink=\"http://www.w3.org/1999/xlink\" contentScriptType=\"application/ecmascript\" contentStyleType=\"text/css\" height=\"12px\" preserveAspectRatio=\"none\" style=\"width:12px;height:12px;\" version=\"1.1\" viewBox=\"0 0 12 12\" width=\"12px\" zoomAndPan=\"magnify\"><defs/><g><!--MD5=[803fc46c337be7a5c8a9831e35356779]\n",
       "@startuml\r\n",
       "skinparam roundcorner 20\r\n",
       "skinparam BoxPadding 20\r\n",
       "skinparam SequenceBoxBackgroundColor #white\r\n",
       "skinparam style strictuml\r\n",
       "skinparam maxMessageSize 100\r\n",
       " skinparam monochrome true\r\n",
       "skinparam classbackgroundcolor white\r\n",
       "skinparam shadowing false\r\n",
       "skinparam wrapWidth 300\r\n",
       "hide circle\r\n",
       "\r\n",
       "@enduml\r\n",
       "\n",
       "PlantUML version 1.2020.13(Sat Jun 13 12:26:38 UTC 2020)\n",
       "(EPL source distribution)\n",
       "Java Runtime: OpenJDK Runtime Environment\n",
       "JVM: OpenJDK 64-Bit Server VM\n",
       "Default Encoding: UTF-8\n",
       "Language: en\n",
       "Country: null\n",
       "--></g></svg>"
      ]
     },
     "execution_count": 7,
     "metadata": {},
     "output_type": "execute_result"
    }
   ],
   "source": [
    "%viz --style=\"COMPTREE\" --view=\"Sequence\" \"AliasTest\""
   ]
  },
  {
   "cell_type": "code",
   "execution_count": 8,
   "id": "3880b2d7",
   "metadata": {
    "execution": {
     "iopub.execute_input": "2022-08-19T08:20:47.564998Z",
     "iopub.status.busy": "2022-08-19T08:20:47.564720Z",
     "iopub.status.idle": "2022-08-19T08:20:47.655964Z",
     "shell.execute_reply": "2022-08-19T08:20:47.655514Z"
    }
   },
   "outputs": [
    {
     "data": {
      "image/svg+xml": [
       "<?xml version=\"1.0\" encoding=\"UTF-8\" standalone=\"no\"?><svg xmlns=\"http://www.w3.org/2000/svg\" xmlns:xlink=\"http://www.w3.org/1999/xlink\" contentScriptType=\"application/ecmascript\" contentStyleType=\"text/css\" height=\"317px\" preserveAspectRatio=\"none\" style=\"width:498px;height:317px;\" version=\"1.1\" viewBox=\"0 0 498 317\" width=\"498px\" zoomAndPan=\"magnify\"><defs/><g><!--MD5=[fbc87193dbaf4d95561dea2c320d4a47]\n",
       "cluster E1--><a href=\"psysml:02b7e9b9-6677-468f-8dad-8ced33a218a4\" target=\"_top\" title=\"psysml:02b7e9b9-6677-468f-8dad-8ced33a218a4\" xlink:actuate=\"onRequest\" xlink:href=\"psysml:02b7e9b9-6677-468f-8dad-8ced33a218a4\" xlink:show=\"new\" xlink:title=\"psysml:02b7e9b9-6677-468f-8dad-8ced33a218a4\" xlink:type=\"simple\"><polygon fill=\"#FFFFFF\" points=\"16,6,84,6,91,28.2969,476,28.2969,476,305,16,305,16,6\" style=\"stroke: #000000; stroke-width: 1.5;\"/><line style=\"stroke: #000000; stroke-width: 1.5;\" x1=\"16\" x2=\"91\" y1=\"28.2969\" y2=\"28.2969\"/><text fill=\"#000000\" font-family=\"sans-serif\" font-size=\"14\" font-weight=\"bold\" lengthAdjust=\"spacingAndGlyphs\" textLength=\"62\" x=\"20\" y=\"20.9951\">AliasTest</text></a><!--MD5=[b4997ac47864f28c2f74865a473b2911]\n",
       "class E2--><a href=\"psysml:c7feeda3-a834-41bb-a074-923ea0011430\" target=\"_top\" title=\"psysml:c7feeda3-a834-41bb-a074-923ea0011430\" xlink:actuate=\"onRequest\" xlink:href=\"psysml:c7feeda3-a834-41bb-a074-923ea0011430\" xlink:show=\"new\" xlink:title=\"psysml:c7feeda3-a834-41bb-a074-923ea0011430\" xlink:type=\"simple\"><rect fill=\"#FFFFFF\" height=\"45.9375\" id=\"E2\" rx=\"10\" ry=\"10\" style=\"stroke: #383838; stroke-width: 1.5;\" width=\"165\" x=\"294.5\" y=\"65\"/><text fill=\"#000000\" font-family=\"sans-serif\" font-size=\"12\" font-style=\"italic\" lengthAdjust=\"spacingAndGlyphs\" textLength=\"69\" x=\"342.5\" y=\"81.1387\">«attribute»</text><text fill=\"#000000\" font-family=\"sans-serif\" font-size=\"12\" lengthAdjust=\"spacingAndGlyphs\" textLength=\"159\" x=\"297.5\" y=\"95.1074\">b :&gt; ISQSpaceTime::width</text><line style=\"stroke: #383838; stroke-width: 1.5;\" x1=\"295.5\" x2=\"458.5\" y1=\"102.9375\" y2=\"102.9375\"/></a><!--MD5=[09b614a08d8cba4a07c9adeb5e0fee81]\n",
       "class E3--><a href=\"psysml:1a450028-471a-4a88-b6bb-254dda2007f7\" target=\"_top\" title=\"psysml:1a450028-471a-4a88-b6bb-254dda2007f7\" xlink:actuate=\"onRequest\" xlink:href=\"psysml:1a450028-471a-4a88-b6bb-254dda2007f7\" xlink:show=\"new\" xlink:title=\"psysml:1a450028-471a-4a88-b6bb-254dda2007f7\" xlink:type=\"simple\"><rect fill=\"#FFFFFF\" height=\"94.3516\" id=\"E3\" style=\"stroke: #383838; stroke-width: 1.5;\" width=\"104\" x=\"96\" y=\"195\"/><text fill=\"#000000\" font-family=\"sans-serif\" font-size=\"12\" font-style=\"italic\" lengthAdjust=\"spacingAndGlyphs\" textLength=\"68\" x=\"114\" y=\"211.1387\">«part  def»</text><text fill=\"#000000\" font-family=\"sans-serif\" font-size=\"12\" lengthAdjust=\"spacingAndGlyphs\" textLength=\"16\" x=\"140\" y=\"225.1074\">P1</text><line style=\"stroke: #383838; stroke-width: 1.5;\" x1=\"97\" x2=\"199\" y1=\"232.9375\" y2=\"232.9375\"/><text fill=\"#000000\" font-family=\"sans-serif\" font-size=\"11\" lengthAdjust=\"spacingAndGlyphs\" textLength=\"36\" x=\"102\" y=\"263.9526\">porig1</text><text fill=\"#000000\" font-family=\"sans-serif\" font-size=\"11\" font-weight=\"bold\" lengthAdjust=\"spacingAndGlyphs\" textLength=\"27\" x=\"142\" y=\"263.9526\">alias</text><text fill=\"#000000\" font-family=\"sans-serif\" font-size=\"11\" lengthAdjust=\"spacingAndGlyphs\" textLength=\"21\" x=\"173\" y=\"263.9526\">po1</text><line style=\"stroke: #383838; stroke-width: 1.0;\" x1=\"97\" x2=\"133\" y1=\"247.3398\" y2=\"247.3398\"/><text fill=\"#000000\" font-family=\"sans-serif\" font-size=\"11\" lengthAdjust=\"spacingAndGlyphs\" textLength=\"30\" x=\"133\" y=\"250.6479\">ports</text><line style=\"stroke: #383838; stroke-width: 1.0;\" x1=\"163\" x2=\"199\" y1=\"247.3398\" y2=\"247.3398\"/><text fill=\"#000000\" font-family=\"sans-serif\" font-size=\"11\" lengthAdjust=\"spacingAndGlyphs\" textLength=\"0\" x=\"118\" y=\"282.7573\"/><rect fill=\"#FFFFFF\" height=\"2\" style=\"stroke: #000000; stroke-width: 1.0;\" width=\"2\" x=\"111\" y=\"277.9492\"/><line style=\"stroke: #000000; stroke-width: 1.0;\" x1=\"104\" x2=\"112\" y1=\"278.9492\" y2=\"278.9492\"/><line style=\"stroke: #000000; stroke-width: 1.0;\" x1=\"104\" x2=\"104\" y1=\"272.5469\" y2=\"278.9492\"/></a><!--MD5=[ebbe1d658d1005bcc118a6aa81145e00]\n",
       "class E4--><a href=\"psysml:73838eb5-9ecb-4193-8391-1ddf76ff61b3\" target=\"_top\" title=\"psysml:73838eb5-9ecb-4193-8391-1ddf76ff61b3\" xlink:actuate=\"onRequest\" xlink:href=\"psysml:73838eb5-9ecb-4193-8391-1ddf76ff61b3\" xlink:show=\"new\" xlink:title=\"psysml:73838eb5-9ecb-4193-8391-1ddf76ff61b3\" xlink:type=\"simple\"><rect fill=\"#FFFFFF\" height=\"88.3516\" id=\"E4\" rx=\"10\" ry=\"10\" style=\"stroke: #383838; stroke-width: 1.5;\" width=\"92\" x=\"167\" y=\"44\"/><text fill=\"#000000\" font-family=\"sans-serif\" font-size=\"12\" font-style=\"italic\" lengthAdjust=\"spacingAndGlyphs\" textLength=\"40\" x=\"193\" y=\"60.1387\">«part»</text><text fill=\"#000000\" font-family=\"sans-serif\" font-size=\"12\" lengthAdjust=\"spacingAndGlyphs\" textLength=\"40\" x=\"191\" y=\"74.1074\">p1: P1</text><line style=\"stroke: #383838; stroke-width: 1.5;\" x1=\"168\" x2=\"258\" y1=\"81.9375\" y2=\"81.9375\"/><text fill=\"#000000\" font-family=\"sans-serif\" font-size=\"11\" lengthAdjust=\"spacingAndGlyphs\" textLength=\"21\" x=\"173\" y=\"112.9526\">po1</text><text fill=\"#000000\" font-family=\"sans-serif\" font-size=\"11\" font-style=\"italic\" lengthAdjust=\"spacingAndGlyphs\" textLength=\"80\" x=\"173\" y=\"125.7573\">:&gt;&gt;P1::porig1</text><line style=\"stroke: #383838; stroke-width: 1.0;\" x1=\"168\" x2=\"198\" y1=\"96.3398\" y2=\"96.3398\"/><text fill=\"#000000\" font-family=\"sans-serif\" font-size=\"11\" lengthAdjust=\"spacingAndGlyphs\" textLength=\"30\" x=\"198\" y=\"99.6479\">ports</text><line style=\"stroke: #383838; stroke-width: 1.0;\" x1=\"228\" x2=\"258\" y1=\"96.3398\" y2=\"96.3398\"/></a><!--MD5=[270fce915f116d4de14055a7c1d9a0f3]\n",
       "class E5--><a href=\"psysml:73d7b051-2240-4fe3-9278-fa0d634854f8\" target=\"_top\" title=\"psysml:73d7b051-2240-4fe3-9278-fa0d634854f8\" xlink:actuate=\"onRequest\" xlink:href=\"psysml:73d7b051-2240-4fe3-9278-fa0d634854f8\" xlink:show=\"new\" xlink:title=\"psysml:73d7b051-2240-4fe3-9278-fa0d634854f8\" xlink:type=\"simple\"><rect fill=\"#FFFFFF\" height=\"94.3516\" id=\"E5\" rx=\"10\" ry=\"10\" style=\"stroke: #383838; stroke-width: 1.5;\" width=\"100\" x=\"32\" y=\"41\"/><text fill=\"#000000\" font-family=\"sans-serif\" font-size=\"12\" font-style=\"italic\" lengthAdjust=\"spacingAndGlyphs\" textLength=\"40\" x=\"62\" y=\"57.1387\">«part»</text><text fill=\"#000000\" font-family=\"sans-serif\" font-size=\"12\" lengthAdjust=\"spacingAndGlyphs\" textLength=\"40\" x=\"60\" y=\"71.1074\">p2: P1</text><line style=\"stroke: #383838; stroke-width: 1.5;\" x1=\"33\" x2=\"131\" y1=\"78.9375\" y2=\"78.9375\"/><text fill=\"#000000\" font-family=\"sans-serif\" font-size=\"11\" lengthAdjust=\"spacingAndGlyphs\" textLength=\"32\" x=\"38\" y=\"109.9526\">pdest</text><text fill=\"#000000\" font-family=\"sans-serif\" font-size=\"11\" font-weight=\"bold\" lengthAdjust=\"spacingAndGlyphs\" textLength=\"27\" x=\"74\" y=\"109.9526\">alias</text><text fill=\"#000000\" font-family=\"sans-serif\" font-size=\"11\" lengthAdjust=\"spacingAndGlyphs\" textLength=\"21\" x=\"105\" y=\"109.9526\">pd1</text><line style=\"stroke: #383838; stroke-width: 1.0;\" x1=\"33\" x2=\"67\" y1=\"93.3398\" y2=\"93.3398\"/><text fill=\"#000000\" font-family=\"sans-serif\" font-size=\"11\" lengthAdjust=\"spacingAndGlyphs\" textLength=\"30\" x=\"67\" y=\"96.6479\">ports</text><line style=\"stroke: #383838; stroke-width: 1.0;\" x1=\"97\" x2=\"131\" y1=\"93.3398\" y2=\"93.3398\"/><text fill=\"#000000\" font-family=\"sans-serif\" font-size=\"11\" lengthAdjust=\"spacingAndGlyphs\" textLength=\"0\" x=\"54\" y=\"128.7573\"/><rect fill=\"#FFFFFF\" height=\"2\" style=\"stroke: #000000; stroke-width: 1.0;\" width=\"2\" x=\"47\" y=\"123.9492\"/><line style=\"stroke: #000000; stroke-width: 1.0;\" x1=\"40\" x2=\"48\" y1=\"124.9492\" y2=\"124.9492\"/><line style=\"stroke: #000000; stroke-width: 1.0;\" x1=\"40\" x2=\"40\" y1=\"118.5469\" y2=\"124.9492\"/></a><!--MD5=[f0cdf4548168e5211fb3a02bf679d63a]\n",
       "link E4 to E3--><a href=\"psysml:de9d1539-3df1-480f-91a9-ed9f950b1f96\" target=\"_top\" title=\"psysml:de9d1539-3df1-480f-91a9-ed9f950b1f96\" xlink:actuate=\"onRequest\" xlink:href=\"psysml:de9d1539-3df1-480f-91a9-ed9f950b1f96\" xlink:show=\"new\" xlink:title=\"psysml:de9d1539-3df1-480f-91a9-ed9f950b1f96\" xlink:type=\"simple\"><path d=\"M194.55,132.15 C188.66,145.91 182.02,161.45 175.63,176.39 \" fill=\"none\" id=\"E4-&gt;E3\" style=\"stroke: #383838; stroke-width: 1.0;\"/><polygon fill=\"#FFFFFF\" points=\"167.75,194.82,168.7796,174.5977,181.6533,180.0993,167.75,194.82\" style=\"stroke: #383838; stroke-width: 1.0;\"/><ellipse cx=\"172.8586\" cy=\"170.1422\" fill=\"#383838\" rx=\"2\" ry=\"2\" style=\"stroke: #383838; stroke-width: 1.0;\"/><ellipse cx=\"182.0541\" cy=\"174.0719\" fill=\"#383838\" rx=\"2\" ry=\"2\" style=\"stroke: #383838; stroke-width: 1.0;\"/></a><!--MD5=[e9be52314489bd878ff4c7144b63c9e1]\n",
       "link E5 to E3--><a href=\"psysml:52eea9f8-f20f-41d5-8944-6f19cdd988b1\" target=\"_top\" title=\"psysml:52eea9f8-f20f-41d5-8944-6f19cdd988b1\" xlink:actuate=\"onRequest\" xlink:href=\"psysml:52eea9f8-f20f-41d5-8944-6f19cdd988b1\" xlink:show=\"new\" xlink:title=\"psysml:52eea9f8-f20f-41d5-8944-6f19cdd988b1\" xlink:type=\"simple\"><path d=\"M101.98,135.02 C107.64,148.05 113.91,162.49 119.95,176.41 \" fill=\"none\" id=\"E5-&gt;E3\" style=\"stroke: #383838; stroke-width: 1.0;\"/><polygon fill=\"#FFFFFF\" points=\"127.97,194.88,113.9772,180.2444,126.8171,174.6644,127.97,194.88\" style=\"stroke: #383838; stroke-width: 1.0;\"/><ellipse cx=\"113.5396\" cy=\"174.2195\" fill=\"#383838\" rx=\"2\" ry=\"2\" style=\"stroke: #383838; stroke-width: 1.0;\"/><ellipse cx=\"122.711\" cy=\"170.2338\" fill=\"#383838\" rx=\"2\" ry=\"2\" style=\"stroke: #383838; stroke-width: 1.0;\"/></a><!--MD5=[0a273bb4aa3a8c60c946a5d247da6936]\n",
       "@startuml\r\n",
       " skinparam monochrome true\r\n",
       "skinparam classbackgroundcolor white\r\n",
       "skinparam shadowing false\r\n",
       "skinparam wrapWidth 300\r\n",
       "hide circle\r\n",
       "\r\n",
       "package \"AliasTest\" as E1  [[psysml:02b7e9b9-6677-468f-8dad-8ced33a218a4 ]]  {\r\n",
       "comp usage \"b :> ISQSpaceTime::width\" as E2  <<(T,blue) attribute>> [[psysml:c7feeda3-a834-41bb-a074-923ea0011430 ]] {\r\n",
       "}\r\n",
       "comp def \"P1\" as E3  <<(T,blue) part  def>> [[psysml:1a450028-471a-4a88-b6bb-254dda2007f7 ]] {\r\n",
       "- - ports - -\r\n",
       "porig1 <b>alias</b> po1 \r\n",
       "|_ \r\n",
       "}\r\n",
       "comp usage \"p1: P1 \" as E4  <<(T,blue) part>> [[psysml:73838eb5-9ecb-4193-8391-1ddf76ff61b3 ]] {\r\n",
       "- - ports - -\r\n",
       "po1\\n//:>>P1::porig1// \r\n",
       "}\r\n",
       "comp usage \"p2: P1 \" as E5  <<(T,blue) part>> [[psysml:73d7b051-2240-4fe3-9278-fa0d634854f8 ]] {\r\n",
       "- - ports - -\r\n",
       "pdest <b>alias</b> pd1 \r\n",
       "|_ \r\n",
       "}\r\n",
       "}\r\n",
       "E4 - -:|> E3 [[psysml:de9d1539-3df1-480f-91a9-ed9f950b1f96 ]] \r\n",
       "E5 - -:|> E3 [[psysml:52eea9f8-f20f-41d5-8944-6f19cdd988b1 ]] \r\n",
       "@enduml\r\n",
       "\n",
       "PlantUML version 1.2020.13(Sat Jun 13 12:26:38 UTC 2020)\n",
       "(EPL source distribution)\n",
       "Java Runtime: OpenJDK Runtime Environment\n",
       "JVM: OpenJDK 64-Bit Server VM\n",
       "Default Encoding: UTF-8\n",
       "Language: en\n",
       "Country: null\n",
       "--></g></svg>"
      ]
     },
     "execution_count": 8,
     "metadata": {},
     "output_type": "execute_result"
    }
   ],
   "source": [
    "%viz --style=\"COMPTREE\" --view=\"MIXED\" \"AliasTest\""
   ]
  },
  {
   "cell_type": "code",
   "execution_count": 9,
   "id": "bddefe06",
   "metadata": {
    "execution": {
     "iopub.execute_input": "2022-08-19T08:20:47.705412Z",
     "iopub.status.busy": "2022-08-19T08:20:47.704914Z",
     "iopub.status.idle": "2022-08-19T08:20:47.757532Z",
     "shell.execute_reply": "2022-08-19T08:20:47.755638Z"
    }
   },
   "outputs": [
    {
     "data": {
      "image/svg+xml": [
       "<?xml version=\"1.0\" encoding=\"UTF-8\" standalone=\"no\"?><svg xmlns=\"http://www.w3.org/2000/svg\" xmlns:xlink=\"http://www.w3.org/1999/xlink\" contentScriptType=\"application/ecmascript\" contentStyleType=\"text/css\" height=\"387px\" preserveAspectRatio=\"none\" style=\"width:406px;height:387px;\" version=\"1.1\" viewBox=\"0 0 406 387\" width=\"406px\" zoomAndPan=\"magnify\"><defs/><g><!--MD5=[fbc87193dbaf4d95561dea2c320d4a47]\n",
       "cluster E1--><a href=\"psysml:02b7e9b9-6677-468f-8dad-8ced33a218a4\" target=\"_top\" title=\"psysml:02b7e9b9-6677-468f-8dad-8ced33a218a4\" xlink:actuate=\"onRequest\" xlink:href=\"psysml:02b7e9b9-6677-468f-8dad-8ced33a218a4\" xlink:show=\"new\" xlink:title=\"psysml:02b7e9b9-6677-468f-8dad-8ced33a218a4\" xlink:type=\"simple\"><polygon fill=\"#FFFFFF\" points=\"16,6,84,6,91,28.2969,384,28.2969,384,375,16,375,16,6\" style=\"stroke: #000000; stroke-width: 1.5;\"/><line style=\"stroke: #000000; stroke-width: 1.5;\" x1=\"16\" x2=\"91\" y1=\"28.2969\" y2=\"28.2969\"/><text fill=\"#000000\" font-family=\"sans-serif\" font-size=\"14\" font-weight=\"bold\" lengthAdjust=\"spacingAndGlyphs\" textLength=\"62\" x=\"20\" y=\"20.9951\">AliasTest</text></a><!--MD5=[b4997ac47864f28c2f74865a473b2911]\n",
       "class E2--><a href=\"psysml:c7feeda3-a834-41bb-a074-923ea0011430\" target=\"_top\" title=\"psysml:c7feeda3-a834-41bb-a074-923ea0011430\" xlink:actuate=\"onRequest\" xlink:href=\"psysml:c7feeda3-a834-41bb-a074-923ea0011430\" xlink:show=\"new\" xlink:title=\"psysml:c7feeda3-a834-41bb-a074-923ea0011430\" xlink:type=\"simple\"><rect fill=\"#FFFFFF\" height=\"45.9375\" id=\"E2\" rx=\"10\" ry=\"10\" style=\"stroke: #383838; stroke-width: 1.5;\" width=\"165\" x=\"202.5\" y=\"56\"/><text fill=\"#000000\" font-family=\"sans-serif\" font-size=\"12\" font-style=\"italic\" lengthAdjust=\"spacingAndGlyphs\" textLength=\"69\" x=\"250.5\" y=\"72.1387\">«attribute»</text><text fill=\"#000000\" font-family=\"sans-serif\" font-size=\"12\" lengthAdjust=\"spacingAndGlyphs\" textLength=\"159\" x=\"205.5\" y=\"86.1074\">b :&gt; ISQSpaceTime::width</text><line style=\"stroke: #383838; stroke-width: 1.5;\" x1=\"203.5\" x2=\"366.5\" y1=\"93.9375\" y2=\"93.9375\"/></a><!--MD5=[09b614a08d8cba4a07c9adeb5e0fee81]\n",
       "class E3--><a href=\"psysml:1a450028-471a-4a88-b6bb-254dda2007f7\" target=\"_top\" title=\"psysml:1a450028-471a-4a88-b6bb-254dda2007f7\" xlink:actuate=\"onRequest\" xlink:href=\"psysml:1a450028-471a-4a88-b6bb-254dda2007f7\" xlink:show=\"new\" xlink:title=\"psysml:1a450028-471a-4a88-b6bb-254dda2007f7\" xlink:type=\"simple\"><rect fill=\"#FFFFFF\" height=\"75.5469\" id=\"E3\" style=\"stroke: #383838; stroke-width: 1.5;\" width=\"70\" x=\"158\" y=\"177\"/><text fill=\"#000000\" font-family=\"sans-serif\" font-size=\"12\" font-style=\"italic\" lengthAdjust=\"spacingAndGlyphs\" textLength=\"68\" x=\"159\" y=\"193.1387\">«part  def»</text><text fill=\"#000000\" font-family=\"sans-serif\" font-size=\"12\" lengthAdjust=\"spacingAndGlyphs\" textLength=\"16\" x=\"185\" y=\"207.1074\">P1</text><line style=\"stroke: #383838; stroke-width: 1.5;\" x1=\"159\" x2=\"227\" y1=\"214.9375\" y2=\"214.9375\"/><text fill=\"#000000\" font-family=\"sans-serif\" font-size=\"11\" lengthAdjust=\"spacingAndGlyphs\" textLength=\"36\" x=\"164\" y=\"245.9526\">porig1</text><line style=\"stroke: #383838; stroke-width: 1.0;\" x1=\"159\" x2=\"178\" y1=\"229.3398\" y2=\"229.3398\"/><text fill=\"#000000\" font-family=\"sans-serif\" font-size=\"11\" lengthAdjust=\"spacingAndGlyphs\" textLength=\"30\" x=\"178\" y=\"232.6479\">ports</text><line style=\"stroke: #383838; stroke-width: 1.0;\" x1=\"208\" x2=\"227\" y1=\"229.3398\" y2=\"229.3398\"/></a><!--MD5=[ebbe1d658d1005bcc118a6aa81145e00]\n",
       "class E4--><a href=\"psysml:528ad082-e547-41e1-93e2-4f734da3b1f6\" target=\"_top\" title=\"psysml:528ad082-e547-41e1-93e2-4f734da3b1f6\" xlink:actuate=\"onRequest\" xlink:href=\"psysml:528ad082-e547-41e1-93e2-4f734da3b1f6\" xlink:show=\"new\" xlink:title=\"psysml:528ad082-e547-41e1-93e2-4f734da3b1f6\" xlink:type=\"simple\"><rect fill=\"#FFFFFF\" height=\"45.9375\" id=\"E4\" rx=\"10\" ry=\"10\" style=\"stroke: #383838; stroke-width: 1.5;\" width=\"50\" x=\"164\" y=\"313\"/><text fill=\"#000000\" font-family=\"sans-serif\" font-size=\"12\" font-style=\"italic\" lengthAdjust=\"spacingAndGlyphs\" textLength=\"40\" x=\"169\" y=\"329.1387\">«port»</text><text fill=\"#000000\" font-family=\"sans-serif\" font-size=\"12\" lengthAdjust=\"spacingAndGlyphs\" textLength=\"40\" x=\"167\" y=\"343.1074\">porig1</text><line style=\"stroke: #383838; stroke-width: 1.5;\" x1=\"165\" x2=\"213\" y1=\"350.9375\" y2=\"350.9375\"/></a><!--MD5=[270fce915f116d4de14055a7c1d9a0f3]\n",
       "class E5--><a href=\"psysml:73838eb5-9ecb-4193-8391-1ddf76ff61b3\" target=\"_top\" title=\"psysml:73838eb5-9ecb-4193-8391-1ddf76ff61b3\" xlink:actuate=\"onRequest\" xlink:href=\"psysml:73838eb5-9ecb-4193-8391-1ddf76ff61b3\" xlink:show=\"new\" xlink:title=\"psysml:73838eb5-9ecb-4193-8391-1ddf76ff61b3\" xlink:type=\"simple\"><rect fill=\"#FFFFFF\" height=\"45.9375\" id=\"E5\" rx=\"10\" ry=\"10\" style=\"stroke: #383838; stroke-width: 1.5;\" width=\"50\" x=\"117\" y=\"56\"/><text fill=\"#000000\" font-family=\"sans-serif\" font-size=\"12\" font-style=\"italic\" lengthAdjust=\"spacingAndGlyphs\" textLength=\"40\" x=\"122\" y=\"72.1387\">«part»</text><text fill=\"#000000\" font-family=\"sans-serif\" font-size=\"12\" lengthAdjust=\"spacingAndGlyphs\" textLength=\"40\" x=\"120\" y=\"86.1074\">p1: P1</text><line style=\"stroke: #383838; stroke-width: 1.5;\" x1=\"118\" x2=\"166\" y1=\"93.9375\" y2=\"93.9375\"/></a><!--MD5=[60a26617385b1d2d0262a64233df1f8d]\n",
       "class E6--><a href=\"psysml:6875339d-23d6-4973-8a77-102c2bf220f1\" target=\"_top\" title=\"psysml:6875339d-23d6-4973-8a77-102c2bf220f1\" xlink:actuate=\"onRequest\" xlink:href=\"psysml:6875339d-23d6-4973-8a77-102c2bf220f1\" xlink:show=\"new\" xlink:title=\"psysml:6875339d-23d6-4973-8a77-102c2bf220f1\" xlink:type=\"simple\"><rect fill=\"#FFFFFF\" height=\"45.9375\" id=\"E6\" rx=\"10\" ry=\"10\" style=\"stroke: #383838; stroke-width: 1.5;\" width=\"42\" x=\"81\" y=\"192\"/><text fill=\"#000000\" font-family=\"sans-serif\" font-size=\"12\" font-style=\"italic\" lengthAdjust=\"spacingAndGlyphs\" textLength=\"40\" x=\"82\" y=\"208.1387\">«port»</text><text fill=\"#000000\" font-family=\"sans-serif\" font-size=\"12\" lengthAdjust=\"spacingAndGlyphs\" textLength=\"24\" x=\"88\" y=\"222.1074\">po1</text><line style=\"stroke: #383838; stroke-width: 1.5;\" x1=\"82\" x2=\"122\" y1=\"229.9375\" y2=\"229.9375\"/></a><!--MD5=[2156ba9850f5573cc1fc38a6a4b2f02b]\n",
       "class E7--><a href=\"psysml:73d7b051-2240-4fe3-9278-fa0d634854f8\" target=\"_top\" title=\"psysml:73d7b051-2240-4fe3-9278-fa0d634854f8\" xlink:actuate=\"onRequest\" xlink:href=\"psysml:73d7b051-2240-4fe3-9278-fa0d634854f8\" xlink:show=\"new\" xlink:title=\"psysml:73d7b051-2240-4fe3-9278-fa0d634854f8\" xlink:type=\"simple\"><rect fill=\"#FFFFFF\" height=\"75.5469\" id=\"E7\" rx=\"10\" ry=\"10\" style=\"stroke: #383838; stroke-width: 1.5;\" width=\"50\" x=\"32\" y=\"41\"/><text fill=\"#000000\" font-family=\"sans-serif\" font-size=\"12\" font-style=\"italic\" lengthAdjust=\"spacingAndGlyphs\" textLength=\"40\" x=\"37\" y=\"57.1387\">«part»</text><text fill=\"#000000\" font-family=\"sans-serif\" font-size=\"12\" lengthAdjust=\"spacingAndGlyphs\" textLength=\"40\" x=\"35\" y=\"71.1074\">p2: P1</text><line style=\"stroke: #383838; stroke-width: 1.5;\" x1=\"33\" x2=\"81\" y1=\"78.9375\" y2=\"78.9375\"/><text fill=\"#000000\" font-family=\"sans-serif\" font-size=\"11\" lengthAdjust=\"spacingAndGlyphs\" textLength=\"32\" x=\"38\" y=\"109.9526\">pdest</text><line style=\"stroke: #383838; stroke-width: 1.0;\" x1=\"33\" x2=\"42\" y1=\"93.3398\" y2=\"93.3398\"/><text fill=\"#000000\" font-family=\"sans-serif\" font-size=\"11\" lengthAdjust=\"spacingAndGlyphs\" textLength=\"30\" x=\"42\" y=\"96.6479\">ports</text><line style=\"stroke: #383838; stroke-width: 1.0;\" x1=\"72\" x2=\"81\" y1=\"93.3398\" y2=\"93.3398\"/></a><!--MD5=[b9389687b975829384b498ac4b7476b2]\n",
       "class E8--><a href=\"psysml:6cb98d60-0ab8-42f0-badc-3a033a17e212\" target=\"_top\" title=\"psysml:6cb98d60-0ab8-42f0-badc-3a033a17e212\" xlink:actuate=\"onRequest\" xlink:href=\"psysml:6cb98d60-0ab8-42f0-badc-3a033a17e212\" xlink:show=\"new\" xlink:title=\"psysml:6cb98d60-0ab8-42f0-badc-3a033a17e212\" xlink:type=\"simple\"><rect fill=\"#FFFFFF\" height=\"45.9375\" id=\"E8\" rx=\"10\" ry=\"10\" style=\"stroke: #383838; stroke-width: 1.5;\" width=\"46\" x=\"79\" y=\"313\"/><text fill=\"#000000\" font-family=\"sans-serif\" font-size=\"12\" font-style=\"italic\" lengthAdjust=\"spacingAndGlyphs\" textLength=\"40\" x=\"82\" y=\"329.1387\">«port»</text><text fill=\"#000000\" font-family=\"sans-serif\" font-size=\"12\" lengthAdjust=\"spacingAndGlyphs\" textLength=\"36\" x=\"82\" y=\"343.1074\">pdest</text><line style=\"stroke: #383838; stroke-width: 1.5;\" x1=\"80\" x2=\"124\" y1=\"350.9375\" y2=\"350.9375\"/></a><!--MD5=[4672eba38e49728da53d11aeb285b987]\n",
       "reverse link E3 to E4--><a href=\"psysml:b408bcfe-af80-429f-8bb7-74524c32282e\" target=\"_top\" title=\"psysml:b408bcfe-af80-429f-8bb7-74524c32282e\" xlink:actuate=\"onRequest\" xlink:href=\"psysml:b408bcfe-af80-429f-8bb7-74524c32282e\" xlink:show=\"new\" xlink:title=\"psysml:b408bcfe-af80-429f-8bb7-74524c32282e\" xlink:type=\"simple\"><path d=\"M191.31,266.34 C190.76,282.61 190.18,299.81 189.74,312.93 \" fill=\"none\" id=\"E3&lt;-E4\" style=\"stroke: #383838; stroke-width: 1.0;\"/><polygon fill=\"#FFFFFF\" points=\"191.76,253,187.558,258.8603,191.3514,264.993,195.5534,259.1327,191.76,253\" style=\"stroke: #383838; stroke-width: 1.0;\"/><text fill=\"#000000\" font-family=\"sans-serif\" font-size=\"13\" lengthAdjust=\"spacingAndGlyphs\" textLength=\"8\" x=\"180.8639\" y=\"301.8075\">1</text></a><!--MD5=[e9be52314489bd878ff4c7144b63c9e1]\n",
       "link E5 to E3--><a href=\"psysml:de9d1539-3df1-480f-91a9-ed9f950b1f96\" target=\"_top\" title=\"psysml:de9d1539-3df1-480f-91a9-ed9f950b1f96\" xlink:actuate=\"onRequest\" xlink:href=\"psysml:de9d1539-3df1-480f-91a9-ed9f950b1f96\" xlink:show=\"new\" xlink:title=\"psysml:de9d1539-3df1-480f-91a9-ed9f950b1f96\" xlink:type=\"simple\"><path d=\"M150.42,102.13 C156.21,117.35 164.18,138.29 171.66,157.93 \" fill=\"none\" id=\"E5-&gt;E3\" style=\"stroke: #383838; stroke-width: 1.0;\"/><polygon fill=\"#FFFFFF\" points=\"178.88,176.89,165.5815,161.6208,178.6665,156.6427,178.88,176.89\" style=\"stroke: #383838; stroke-width: 1.0;\"/><ellipse cx=\"165.424\" cy=\"155.5821\" fill=\"#383838\" rx=\"2\" ry=\"2\" style=\"stroke: #383838; stroke-width: 1.0;\"/><ellipse cx=\"174.7704\" cy=\"152.0263\" fill=\"#383838\" rx=\"2\" ry=\"2\" style=\"stroke: #383838; stroke-width: 1.0;\"/></a><!--MD5=[85d356282659285ab4b2cfe2f634dd2b]\n",
       "reverse link E5 to E6--><a href=\"psysml:1d973b34-aa26-4796-bb60-99a7b7743581\" target=\"_top\" title=\"psysml:1d973b34-aa26-4796-bb60-99a7b7743581\" xlink:actuate=\"onRequest\" xlink:href=\"psysml:1d973b34-aa26-4796-bb60-99a7b7743581\" xlink:show=\"new\" xlink:title=\"psysml:1d973b34-aa26-4796-bb60-99a7b7743581\" xlink:type=\"simple\"><path d=\"M131.62,114.76 C124.36,139.1 114.87,170.88 108.61,191.84 \" fill=\"none\" id=\"E5&lt;-E6\" style=\"stroke: #383838; stroke-width: 1.0;\"/><polygon fill=\"#FFFFFF\" points=\"135.39,102.13,129.8375,106.7311,131.9491,113.6261,137.5016,109.025,135.39,102.13\" style=\"stroke: #383838; stroke-width: 1.0;\"/><text fill=\"#000000\" font-family=\"sans-serif\" font-size=\"13\" lengthAdjust=\"spacingAndGlyphs\" textLength=\"8\" x=\"101.2788\" y=\"181.0753\">1</text></a><!--MD5=[f667431f98296947986a1a7595a31603]\n",
       "link E6 to E4--><a href=\"psysml:73eeba8b-cad5-4501-9cd6-c52ba77489ee\" target=\"_top\" title=\"psysml:73eeba8b-cad5-4501-9cd6-c52ba77489ee\" xlink:actuate=\"onRequest\" xlink:href=\"psysml:73eeba8b-cad5-4501-9cd6-c52ba77489ee\" xlink:show=\"new\" xlink:title=\"psysml:73eeba8b-cad5-4501-9cd6-c52ba77489ee\" xlink:type=\"simple\"><path d=\"M118.16,238.1 C130.11,254.45 146.69,277.12 160.8,296.43 \" fill=\"none\" id=\"E6-&gt;E4\" style=\"stroke: #383838; stroke-width: 1.0;\"/><polygon fill=\"#FFFFFF\" points=\"172.63,312.61,155.76,301.4117,167.0576,293.1434,172.63,312.61\" style=\"stroke: #383838; stroke-width: 1.0;\"/><line style=\"stroke: #383838; stroke-width: 2.0;\" x1=\"153.5158\" x2=\"164.8134\" y1=\"298.3452\" y2=\"290.0769\"/></a><!--MD5=[14ccda38c055a5c0da953d572bc50960]\n",
       "link E7 to E3--><a href=\"psysml:52eea9f8-f20f-41d5-8944-6f19cdd988b1\" target=\"_top\" title=\"psysml:52eea9f8-f20f-41d5-8944-6f19cdd988b1\" xlink:actuate=\"onRequest\" xlink:href=\"psysml:52eea9f8-f20f-41d5-8944-6f19cdd988b1\" xlink:show=\"new\" xlink:title=\"psysml:52eea9f8-f20f-41d5-8944-6f19cdd988b1\" xlink:type=\"simple\"><path d=\"M82.26,104.89 C99.38,121.76 122.59,144.62 143.33,165.06 \" fill=\"none\" id=\"E7-&gt;E3\" style=\"stroke: #383838; stroke-width: 1.0;\"/><polygon fill=\"#FFFFFF\" points=\"157.88,179.39,139.4314,171.0443,149.2556,161.0701,157.88,179.39\" style=\"stroke: #383838; stroke-width: 1.0;\"/><ellipse cx=\"136.774\" cy=\"165.6196\" fill=\"#383838\" rx=\"2\" ry=\"2\" style=\"stroke: #383838; stroke-width: 1.0;\"/><ellipse cx=\"143.7912\" cy=\"158.4951\" fill=\"#383838\" rx=\"2\" ry=\"2\" style=\"stroke: #383838; stroke-width: 1.0;\"/></a><!--MD5=[dc164f5e8a733ab456ef1add180e9e34]\n",
       "reverse link E7 to E8--><a href=\"psysml:7dc24cb7-d6ba-40a4-b073-8d397bf1a7ae\" target=\"_top\" title=\"psysml:7dc24cb7-d6ba-40a4-b073-8d397bf1a7ae\" xlink:actuate=\"onRequest\" xlink:href=\"psysml:7dc24cb7-d6ba-40a4-b073-8d397bf1a7ae\" xlink:show=\"new\" xlink:title=\"psysml:7dc24cb7-d6ba-40a4-b073-8d397bf1a7ae\" xlink:type=\"simple\"><path d=\"M59.03,130.25 C61.1,181.33 64,253 64,253 C64,253 80.37,288.31 91.62,312.59 \" fill=\"none\" id=\"E7&lt;-E8\" style=\"stroke: #383838; stroke-width: 1.0;\"/><polygon fill=\"#FFFFFF\" points=\"58.5,117.11,54.7473,123.2677,58.988,129.1001,62.7407,122.9424,58.5,117.11\" style=\"stroke: #383838; stroke-width: 1.0;\"/><text fill=\"#000000\" font-family=\"sans-serif\" font-size=\"13\" lengthAdjust=\"spacingAndGlyphs\" textLength=\"8\" x=\"79.9351\" y=\"301.7612\">1</text></a><!--MD5=[0a839d0f80c2d72d4b9b307f046d0de8]\n",
       "link E6 to E8--><a href=\"psysml:6785e7ae-ef30-46fa-a69d-d6daab2c7c15\" target=\"_top\" title=\"psysml:6785e7ae-ef30-46fa-a69d-d6daab2c7c15\" xlink:actuate=\"onRequest\" xlink:href=\"psysml:6785e7ae-ef30-46fa-a69d-d6daab2c7c15\" xlink:show=\"new\" xlink:title=\"psysml:6785e7ae-ef30-46fa-a69d-d6daab2c7c15\" xlink:type=\"simple\"><path d=\"M91.82,238.1 C88.41,259.34 88.39,291.28 91.78,312.61 \" fill=\"none\" id=\"E6-E8\" style=\"stroke: #383838; stroke-width: 3.0;\"/><text fill=\"#000000\" font-family=\"sans-serif\" font-size=\"13\" lengthAdjust=\"spacingAndGlyphs\" textLength=\"7\" x=\"90.058\" y=\"301.7864\">*</text></a><!--MD5=[0a839d0f80c2d72d4b9b307f046d0de8]\n",
       "link E6 to E8--><a href=\"psysml:868c8138-312d-42c2-8f4f-f83047efce23\" target=\"_top\" title=\"psysml:868c8138-312d-42c2-8f4f-f83047efce23\" xlink:actuate=\"onRequest\" xlink:href=\"psysml:868c8138-312d-42c2-8f4f-f83047efce23\" xlink:show=\"new\" xlink:title=\"psysml:868c8138-312d-42c2-8f4f-f83047efce23\" xlink:type=\"simple\"><path d=\"M112.78,238.1 C116.39,259.34 116.41,291.28 112.82,312.61 \" fill=\"none\" id=\"E6-E8-1\" style=\"stroke: #383838; stroke-width: 3.0;\"/><text fill=\"#000000\" font-family=\"sans-serif\" font-size=\"13\" lengthAdjust=\"spacingAndGlyphs\" textLength=\"7\" x=\"107.6957\" y=\"301.7864\">*</text></a><!--MD5=[43bccb9d22288fa5197ebeb730fee191]\n",
       "@startuml\r\n",
       "skinparam linetype polyline\r\n",
       "skinparam monochrome true\r\n",
       "skinparam classbackgroundcolor white\r\n",
       "skinparam shadowing false\r\n",
       "skinparam wrapWidth 300\r\n",
       "hide circle\r\n",
       "\r\n",
       "package \"AliasTest\" as E1  [[psysml:02b7e9b9-6677-468f-8dad-8ced33a218a4 ]]  {\r\n",
       "comp usage \"b :> ISQSpaceTime::width\" as E2  <<(T,blue) attribute>> [[psysml:c7feeda3-a834-41bb-a074-923ea0011430 ]] {\r\n",
       "}\r\n",
       "comp def \"P1\" as E3  <<(T,blue) part  def>> [[psysml:1a450028-471a-4a88-b6bb-254dda2007f7 ]] {\r\n",
       "- - ports - -\r\n",
       "porig1\r\n",
       "}\r\n",
       "comp usage \"porig1 \" as E4  <<(T,blue) port>> [[psysml:528ad082-e547-41e1-93e2-4f734da3b1f6 ]] {\r\n",
       "}\r\n",
       "comp usage \"p1: P1 \" as E5  <<(T,blue) part>> [[psysml:73838eb5-9ecb-4193-8391-1ddf76ff61b3 ]] {\r\n",
       "}\r\n",
       "comp usage \"po1 \" as E6  <<(T,blue) port>> [[psysml:6875339d-23d6-4973-8a77-102c2bf220f1 ]] {\r\n",
       "}\r\n",
       "comp usage \"p2: P1 \" as E7  <<(T,blue) part>> [[psysml:73d7b051-2240-4fe3-9278-fa0d634854f8 ]] {\r\n",
       "- - ports - -\r\n",
       "pdest\r\n",
       "}\r\n",
       "comp usage \"pdest \" as E8  <<(T,blue) port>> [[psysml:6cb98d60-0ab8-42f0-badc-3a033a17e212 ]] {\r\n",
       "}\r\n",
       "}\r\n",
       "E3 o- - \"1\"E4 [[psysml:b408bcfe-af80-429f-8bb7-74524c32282e ]] \r\n",
       "E5 - -:|> E3 [[psysml:de9d1539-3df1-480f-91a9-ed9f950b1f96 ]] \r\n",
       "E5 o- - \"1\"E6 [[psysml:1d973b34-aa26-4796-bb60-99a7b7743581 ]] \r\n",
       "E6 - -||> E4 [[psysml:73eeba8b-cad5-4501-9cd6-c52ba77489ee ]] \r\n",
       "E7 - -:|> E3 [[psysml:52eea9f8-f20f-41d5-8944-6f19cdd988b1 ]] \r\n",
       "E7 o- - \"1\"E8 [[psysml:7dc24cb7-d6ba-40a4-b073-8d397bf1a7ae ]] \r\n",
       "E6 -[thickness=3]- \"*\"E8 [[psysml:6785e7ae-ef30-46fa-a69d-d6daab2c7c15 ]] \r\n",
       "E6 -[thickness=3]- \"*\"E8 [[psysml:868c8138-312d-42c2-8f4f-f83047efce23 ]] \r\n",
       "@enduml\r\n",
       "\n",
       "PlantUML version 1.2020.13(Sat Jun 13 12:26:38 UTC 2020)\n",
       "(EPL source distribution)\n",
       "Java Runtime: OpenJDK Runtime Environment\n",
       "JVM: OpenJDK 64-Bit Server VM\n",
       "Default Encoding: UTF-8\n",
       "Language: en\n",
       "Country: null\n",
       "--></g></svg>"
      ]
     },
     "execution_count": 9,
     "metadata": {},
     "output_type": "execute_result"
    }
   ],
   "source": [
    "%viz --style=\"POLYLINE\" --view=\"Default\" \"AliasTest\""
   ]
  },
  {
   "cell_type": "code",
   "execution_count": 10,
   "id": "08e91948",
   "metadata": {
    "execution": {
     "iopub.execute_input": "2022-08-19T08:20:47.806382Z",
     "iopub.status.busy": "2022-08-19T08:20:47.805995Z",
     "iopub.status.idle": "2022-08-19T08:20:47.880105Z",
     "shell.execute_reply": "2022-08-19T08:20:47.879787Z"
    }
   },
   "outputs": [
    {
     "data": {
      "image/svg+xml": [
       "<?xml version=\"1.0\" encoding=\"UTF-8\" standalone=\"no\"?><svg xmlns=\"http://www.w3.org/2000/svg\" xmlns:xlink=\"http://www.w3.org/1999/xlink\" contentScriptType=\"application/ecmascript\" contentStyleType=\"text/css\" height=\"387px\" preserveAspectRatio=\"none\" style=\"width:406px;height:387px;\" version=\"1.1\" viewBox=\"0 0 406 387\" width=\"406px\" zoomAndPan=\"magnify\"><defs/><g><!--MD5=[fbc87193dbaf4d95561dea2c320d4a47]\n",
       "cluster E1--><a href=\"psysml:02b7e9b9-6677-468f-8dad-8ced33a218a4\" target=\"_top\" title=\"psysml:02b7e9b9-6677-468f-8dad-8ced33a218a4\" xlink:actuate=\"onRequest\" xlink:href=\"psysml:02b7e9b9-6677-468f-8dad-8ced33a218a4\" xlink:show=\"new\" xlink:title=\"psysml:02b7e9b9-6677-468f-8dad-8ced33a218a4\" xlink:type=\"simple\"><polygon fill=\"#FFFFFF\" points=\"16,6,84,6,91,28.2969,384,28.2969,384,375,16,375,16,6\" style=\"stroke: #000000; stroke-width: 1.5;\"/><line style=\"stroke: #000000; stroke-width: 1.5;\" x1=\"16\" x2=\"91\" y1=\"28.2969\" y2=\"28.2969\"/><text fill=\"#000000\" font-family=\"sans-serif\" font-size=\"14\" font-weight=\"bold\" lengthAdjust=\"spacingAndGlyphs\" textLength=\"62\" x=\"20\" y=\"20.9951\">AliasTest</text></a><!--MD5=[b4997ac47864f28c2f74865a473b2911]\n",
       "class E2--><a href=\"psysml:c7feeda3-a834-41bb-a074-923ea0011430\" target=\"_top\" title=\"psysml:c7feeda3-a834-41bb-a074-923ea0011430\" xlink:actuate=\"onRequest\" xlink:href=\"psysml:c7feeda3-a834-41bb-a074-923ea0011430\" xlink:show=\"new\" xlink:title=\"psysml:c7feeda3-a834-41bb-a074-923ea0011430\" xlink:type=\"simple\"><rect fill=\"#FFFFFF\" height=\"45.9375\" id=\"E2\" rx=\"10\" ry=\"10\" style=\"stroke: #383838; stroke-width: 1.5;\" width=\"165\" x=\"202.5\" y=\"56\"/><text fill=\"#000000\" font-family=\"sans-serif\" font-size=\"12\" font-style=\"italic\" lengthAdjust=\"spacingAndGlyphs\" textLength=\"69\" x=\"250.5\" y=\"72.1387\">«attribute»</text><text fill=\"#000000\" font-family=\"sans-serif\" font-size=\"12\" lengthAdjust=\"spacingAndGlyphs\" textLength=\"159\" x=\"205.5\" y=\"86.1074\">b :&gt; ISQSpaceTime::width</text><line style=\"stroke: #383838; stroke-width: 1.5;\" x1=\"203.5\" x2=\"366.5\" y1=\"93.9375\" y2=\"93.9375\"/></a><!--MD5=[09b614a08d8cba4a07c9adeb5e0fee81]\n",
       "class E3--><a href=\"psysml:1a450028-471a-4a88-b6bb-254dda2007f7\" target=\"_top\" title=\"psysml:1a450028-471a-4a88-b6bb-254dda2007f7\" xlink:actuate=\"onRequest\" xlink:href=\"psysml:1a450028-471a-4a88-b6bb-254dda2007f7\" xlink:show=\"new\" xlink:title=\"psysml:1a450028-471a-4a88-b6bb-254dda2007f7\" xlink:type=\"simple\"><rect fill=\"#FFFFFF\" height=\"75.5469\" id=\"E3\" style=\"stroke: #383838; stroke-width: 1.5;\" width=\"70\" x=\"158\" y=\"177\"/><text fill=\"#000000\" font-family=\"sans-serif\" font-size=\"12\" font-style=\"italic\" lengthAdjust=\"spacingAndGlyphs\" textLength=\"68\" x=\"159\" y=\"193.1387\">«part  def»</text><text fill=\"#000000\" font-family=\"sans-serif\" font-size=\"12\" lengthAdjust=\"spacingAndGlyphs\" textLength=\"16\" x=\"185\" y=\"207.1074\">P1</text><line style=\"stroke: #383838; stroke-width: 1.5;\" x1=\"159\" x2=\"227\" y1=\"214.9375\" y2=\"214.9375\"/><text fill=\"#000000\" font-family=\"sans-serif\" font-size=\"11\" lengthAdjust=\"spacingAndGlyphs\" textLength=\"36\" x=\"164\" y=\"245.9526\">porig1</text><line style=\"stroke: #383838; stroke-width: 1.0;\" x1=\"159\" x2=\"178\" y1=\"229.3398\" y2=\"229.3398\"/><text fill=\"#000000\" font-family=\"sans-serif\" font-size=\"11\" lengthAdjust=\"spacingAndGlyphs\" textLength=\"30\" x=\"178\" y=\"232.6479\">ports</text><line style=\"stroke: #383838; stroke-width: 1.0;\" x1=\"208\" x2=\"227\" y1=\"229.3398\" y2=\"229.3398\"/></a><!--MD5=[ebbe1d658d1005bcc118a6aa81145e00]\n",
       "class E4--><a href=\"psysml:528ad082-e547-41e1-93e2-4f734da3b1f6\" target=\"_top\" title=\"psysml:528ad082-e547-41e1-93e2-4f734da3b1f6\" xlink:actuate=\"onRequest\" xlink:href=\"psysml:528ad082-e547-41e1-93e2-4f734da3b1f6\" xlink:show=\"new\" xlink:title=\"psysml:528ad082-e547-41e1-93e2-4f734da3b1f6\" xlink:type=\"simple\"><rect fill=\"#FFFFFF\" height=\"45.9375\" id=\"E4\" rx=\"10\" ry=\"10\" style=\"stroke: #383838; stroke-width: 1.5;\" width=\"50\" x=\"164\" y=\"313\"/><text fill=\"#000000\" font-family=\"sans-serif\" font-size=\"12\" font-style=\"italic\" lengthAdjust=\"spacingAndGlyphs\" textLength=\"40\" x=\"169\" y=\"329.1387\">«port»</text><text fill=\"#000000\" font-family=\"sans-serif\" font-size=\"12\" lengthAdjust=\"spacingAndGlyphs\" textLength=\"40\" x=\"167\" y=\"343.1074\">porig1</text><line style=\"stroke: #383838; stroke-width: 1.5;\" x1=\"165\" x2=\"213\" y1=\"350.9375\" y2=\"350.9375\"/></a><!--MD5=[270fce915f116d4de14055a7c1d9a0f3]\n",
       "class E5--><a href=\"psysml:73838eb5-9ecb-4193-8391-1ddf76ff61b3\" target=\"_top\" title=\"psysml:73838eb5-9ecb-4193-8391-1ddf76ff61b3\" xlink:actuate=\"onRequest\" xlink:href=\"psysml:73838eb5-9ecb-4193-8391-1ddf76ff61b3\" xlink:show=\"new\" xlink:title=\"psysml:73838eb5-9ecb-4193-8391-1ddf76ff61b3\" xlink:type=\"simple\"><rect fill=\"#FFFFFF\" height=\"45.9375\" id=\"E5\" rx=\"10\" ry=\"10\" style=\"stroke: #383838; stroke-width: 1.5;\" width=\"50\" x=\"117\" y=\"56\"/><text fill=\"#000000\" font-family=\"sans-serif\" font-size=\"12\" font-style=\"italic\" lengthAdjust=\"spacingAndGlyphs\" textLength=\"40\" x=\"122\" y=\"72.1387\">«part»</text><text fill=\"#000000\" font-family=\"sans-serif\" font-size=\"12\" lengthAdjust=\"spacingAndGlyphs\" textLength=\"40\" x=\"120\" y=\"86.1074\">p1: P1</text><line style=\"stroke: #383838; stroke-width: 1.5;\" x1=\"118\" x2=\"166\" y1=\"93.9375\" y2=\"93.9375\"/></a><!--MD5=[60a26617385b1d2d0262a64233df1f8d]\n",
       "class E6--><a href=\"psysml:6875339d-23d6-4973-8a77-102c2bf220f1\" target=\"_top\" title=\"psysml:6875339d-23d6-4973-8a77-102c2bf220f1\" xlink:actuate=\"onRequest\" xlink:href=\"psysml:6875339d-23d6-4973-8a77-102c2bf220f1\" xlink:show=\"new\" xlink:title=\"psysml:6875339d-23d6-4973-8a77-102c2bf220f1\" xlink:type=\"simple\"><rect fill=\"#FFFFFF\" height=\"45.9375\" id=\"E6\" rx=\"10\" ry=\"10\" style=\"stroke: #383838; stroke-width: 1.5;\" width=\"42\" x=\"81\" y=\"192\"/><text fill=\"#000000\" font-family=\"sans-serif\" font-size=\"12\" font-style=\"italic\" lengthAdjust=\"spacingAndGlyphs\" textLength=\"40\" x=\"82\" y=\"208.1387\">«port»</text><text fill=\"#000000\" font-family=\"sans-serif\" font-size=\"12\" lengthAdjust=\"spacingAndGlyphs\" textLength=\"24\" x=\"88\" y=\"222.1074\">po1</text><line style=\"stroke: #383838; stroke-width: 1.5;\" x1=\"82\" x2=\"122\" y1=\"229.9375\" y2=\"229.9375\"/></a><!--MD5=[2156ba9850f5573cc1fc38a6a4b2f02b]\n",
       "class E7--><a href=\"psysml:73d7b051-2240-4fe3-9278-fa0d634854f8\" target=\"_top\" title=\"psysml:73d7b051-2240-4fe3-9278-fa0d634854f8\" xlink:actuate=\"onRequest\" xlink:href=\"psysml:73d7b051-2240-4fe3-9278-fa0d634854f8\" xlink:show=\"new\" xlink:title=\"psysml:73d7b051-2240-4fe3-9278-fa0d634854f8\" xlink:type=\"simple\"><rect fill=\"#FFFFFF\" height=\"75.5469\" id=\"E7\" rx=\"10\" ry=\"10\" style=\"stroke: #383838; stroke-width: 1.5;\" width=\"50\" x=\"32\" y=\"41\"/><text fill=\"#000000\" font-family=\"sans-serif\" font-size=\"12\" font-style=\"italic\" lengthAdjust=\"spacingAndGlyphs\" textLength=\"40\" x=\"37\" y=\"57.1387\">«part»</text><text fill=\"#000000\" font-family=\"sans-serif\" font-size=\"12\" lengthAdjust=\"spacingAndGlyphs\" textLength=\"40\" x=\"35\" y=\"71.1074\">p2: P1</text><line style=\"stroke: #383838; stroke-width: 1.5;\" x1=\"33\" x2=\"81\" y1=\"78.9375\" y2=\"78.9375\"/><text fill=\"#000000\" font-family=\"sans-serif\" font-size=\"11\" lengthAdjust=\"spacingAndGlyphs\" textLength=\"32\" x=\"38\" y=\"109.9526\">pdest</text><line style=\"stroke: #383838; stroke-width: 1.0;\" x1=\"33\" x2=\"42\" y1=\"93.3398\" y2=\"93.3398\"/><text fill=\"#000000\" font-family=\"sans-serif\" font-size=\"11\" lengthAdjust=\"spacingAndGlyphs\" textLength=\"30\" x=\"42\" y=\"96.6479\">ports</text><line style=\"stroke: #383838; stroke-width: 1.0;\" x1=\"72\" x2=\"81\" y1=\"93.3398\" y2=\"93.3398\"/></a><!--MD5=[b9389687b975829384b498ac4b7476b2]\n",
       "class E8--><a href=\"psysml:6cb98d60-0ab8-42f0-badc-3a033a17e212\" target=\"_top\" title=\"psysml:6cb98d60-0ab8-42f0-badc-3a033a17e212\" xlink:actuate=\"onRequest\" xlink:href=\"psysml:6cb98d60-0ab8-42f0-badc-3a033a17e212\" xlink:show=\"new\" xlink:title=\"psysml:6cb98d60-0ab8-42f0-badc-3a033a17e212\" xlink:type=\"simple\"><rect fill=\"#FFFFFF\" height=\"45.9375\" id=\"E8\" rx=\"10\" ry=\"10\" style=\"stroke: #383838; stroke-width: 1.5;\" width=\"46\" x=\"79\" y=\"313\"/><text fill=\"#000000\" font-family=\"sans-serif\" font-size=\"12\" font-style=\"italic\" lengthAdjust=\"spacingAndGlyphs\" textLength=\"40\" x=\"82\" y=\"329.1387\">«port»</text><text fill=\"#000000\" font-family=\"sans-serif\" font-size=\"12\" lengthAdjust=\"spacingAndGlyphs\" textLength=\"36\" x=\"82\" y=\"343.1074\">pdest</text><line style=\"stroke: #383838; stroke-width: 1.5;\" x1=\"80\" x2=\"124\" y1=\"350.9375\" y2=\"350.9375\"/></a><!--MD5=[4672eba38e49728da53d11aeb285b987]\n",
       "reverse link E3 to E4--><a href=\"psysml:b408bcfe-af80-429f-8bb7-74524c32282e\" target=\"_top\" title=\"psysml:b408bcfe-af80-429f-8bb7-74524c32282e\" xlink:actuate=\"onRequest\" xlink:href=\"psysml:b408bcfe-af80-429f-8bb7-74524c32282e\" xlink:show=\"new\" xlink:title=\"psysml:b408bcfe-af80-429f-8bb7-74524c32282e\" xlink:type=\"simple\"><path d=\"M191.31,266.34 C190.76,282.61 190.18,299.81 189.74,312.93 \" fill=\"none\" id=\"E3&lt;-E4\" style=\"stroke: #383838; stroke-width: 1.0;\"/><polygon fill=\"#FFFFFF\" points=\"191.76,253,187.558,258.8603,191.3514,264.993,195.5534,259.1327,191.76,253\" style=\"stroke: #383838; stroke-width: 1.0;\"/><text fill=\"#000000\" font-family=\"sans-serif\" font-size=\"13\" lengthAdjust=\"spacingAndGlyphs\" textLength=\"8\" x=\"180.8639\" y=\"301.8075\">1</text></a><!--MD5=[e9be52314489bd878ff4c7144b63c9e1]\n",
       "link E5 to E3--><a href=\"psysml:de9d1539-3df1-480f-91a9-ed9f950b1f96\" target=\"_top\" title=\"psysml:de9d1539-3df1-480f-91a9-ed9f950b1f96\" xlink:actuate=\"onRequest\" xlink:href=\"psysml:de9d1539-3df1-480f-91a9-ed9f950b1f96\" xlink:show=\"new\" xlink:title=\"psysml:de9d1539-3df1-480f-91a9-ed9f950b1f96\" xlink:type=\"simple\"><path d=\"M150.42,102.13 C156.21,117.35 164.18,138.29 171.66,157.93 \" fill=\"none\" id=\"E5-&gt;E3\" style=\"stroke: #383838; stroke-width: 1.0;\"/><polygon fill=\"#FFFFFF\" points=\"178.88,176.89,165.5815,161.6208,178.6665,156.6427,178.88,176.89\" style=\"stroke: #383838; stroke-width: 1.0;\"/><ellipse cx=\"165.424\" cy=\"155.5821\" fill=\"#383838\" rx=\"2\" ry=\"2\" style=\"stroke: #383838; stroke-width: 1.0;\"/><ellipse cx=\"174.7704\" cy=\"152.0263\" fill=\"#383838\" rx=\"2\" ry=\"2\" style=\"stroke: #383838; stroke-width: 1.0;\"/></a><!--MD5=[85d356282659285ab4b2cfe2f634dd2b]\n",
       "reverse link E5 to E6--><a href=\"psysml:1d973b34-aa26-4796-bb60-99a7b7743581\" target=\"_top\" title=\"psysml:1d973b34-aa26-4796-bb60-99a7b7743581\" xlink:actuate=\"onRequest\" xlink:href=\"psysml:1d973b34-aa26-4796-bb60-99a7b7743581\" xlink:show=\"new\" xlink:title=\"psysml:1d973b34-aa26-4796-bb60-99a7b7743581\" xlink:type=\"simple\"><path d=\"M131.62,114.76 C124.36,139.1 114.87,170.88 108.61,191.84 \" fill=\"none\" id=\"E5&lt;-E6\" style=\"stroke: #383838; stroke-width: 1.0;\"/><polygon fill=\"#FFFFFF\" points=\"135.39,102.13,129.8375,106.7311,131.9491,113.6261,137.5016,109.025,135.39,102.13\" style=\"stroke: #383838; stroke-width: 1.0;\"/><text fill=\"#000000\" font-family=\"sans-serif\" font-size=\"13\" lengthAdjust=\"spacingAndGlyphs\" textLength=\"8\" x=\"101.2788\" y=\"181.0753\">1</text></a><!--MD5=[f667431f98296947986a1a7595a31603]\n",
       "link E6 to E4--><a href=\"psysml:73eeba8b-cad5-4501-9cd6-c52ba77489ee\" target=\"_top\" title=\"psysml:73eeba8b-cad5-4501-9cd6-c52ba77489ee\" xlink:actuate=\"onRequest\" xlink:href=\"psysml:73eeba8b-cad5-4501-9cd6-c52ba77489ee\" xlink:show=\"new\" xlink:title=\"psysml:73eeba8b-cad5-4501-9cd6-c52ba77489ee\" xlink:type=\"simple\"><path d=\"M118.16,238.1 C130.11,254.45 146.69,277.12 160.8,296.43 \" fill=\"none\" id=\"E6-&gt;E4\" style=\"stroke: #383838; stroke-width: 1.0;\"/><polygon fill=\"#FFFFFF\" points=\"172.63,312.61,155.76,301.4117,167.0576,293.1434,172.63,312.61\" style=\"stroke: #383838; stroke-width: 1.0;\"/><line style=\"stroke: #383838; stroke-width: 2.0;\" x1=\"153.5158\" x2=\"164.8134\" y1=\"298.3452\" y2=\"290.0769\"/></a><!--MD5=[14ccda38c055a5c0da953d572bc50960]\n",
       "link E7 to E3--><a href=\"psysml:52eea9f8-f20f-41d5-8944-6f19cdd988b1\" target=\"_top\" title=\"psysml:52eea9f8-f20f-41d5-8944-6f19cdd988b1\" xlink:actuate=\"onRequest\" xlink:href=\"psysml:52eea9f8-f20f-41d5-8944-6f19cdd988b1\" xlink:show=\"new\" xlink:title=\"psysml:52eea9f8-f20f-41d5-8944-6f19cdd988b1\" xlink:type=\"simple\"><path d=\"M82.26,104.89 C99.38,121.76 122.59,144.62 143.33,165.06 \" fill=\"none\" id=\"E7-&gt;E3\" style=\"stroke: #383838; stroke-width: 1.0;\"/><polygon fill=\"#FFFFFF\" points=\"157.88,179.39,139.4314,171.0443,149.2556,161.0701,157.88,179.39\" style=\"stroke: #383838; stroke-width: 1.0;\"/><ellipse cx=\"136.774\" cy=\"165.6196\" fill=\"#383838\" rx=\"2\" ry=\"2\" style=\"stroke: #383838; stroke-width: 1.0;\"/><ellipse cx=\"143.7912\" cy=\"158.4951\" fill=\"#383838\" rx=\"2\" ry=\"2\" style=\"stroke: #383838; stroke-width: 1.0;\"/></a><!--MD5=[dc164f5e8a733ab456ef1add180e9e34]\n",
       "reverse link E7 to E8--><a href=\"psysml:7dc24cb7-d6ba-40a4-b073-8d397bf1a7ae\" target=\"_top\" title=\"psysml:7dc24cb7-d6ba-40a4-b073-8d397bf1a7ae\" xlink:actuate=\"onRequest\" xlink:href=\"psysml:7dc24cb7-d6ba-40a4-b073-8d397bf1a7ae\" xlink:show=\"new\" xlink:title=\"psysml:7dc24cb7-d6ba-40a4-b073-8d397bf1a7ae\" xlink:type=\"simple\"><path d=\"M59.03,130.25 C61.1,181.33 64,253 64,253 C64,253 80.37,288.31 91.62,312.59 \" fill=\"none\" id=\"E7&lt;-E8\" style=\"stroke: #383838; stroke-width: 1.0;\"/><polygon fill=\"#FFFFFF\" points=\"58.5,117.11,54.7473,123.2677,58.988,129.1001,62.7407,122.9424,58.5,117.11\" style=\"stroke: #383838; stroke-width: 1.0;\"/><text fill=\"#000000\" font-family=\"sans-serif\" font-size=\"13\" lengthAdjust=\"spacingAndGlyphs\" textLength=\"8\" x=\"79.9351\" y=\"301.7612\">1</text></a><!--MD5=[0a839d0f80c2d72d4b9b307f046d0de8]\n",
       "link E6 to E8--><a href=\"psysml:6785e7ae-ef30-46fa-a69d-d6daab2c7c15\" target=\"_top\" title=\"psysml:6785e7ae-ef30-46fa-a69d-d6daab2c7c15\" xlink:actuate=\"onRequest\" xlink:href=\"psysml:6785e7ae-ef30-46fa-a69d-d6daab2c7c15\" xlink:show=\"new\" xlink:title=\"psysml:6785e7ae-ef30-46fa-a69d-d6daab2c7c15\" xlink:type=\"simple\"><path d=\"M91.82,238.1 C88.41,259.34 88.39,291.28 91.78,312.61 \" fill=\"none\" id=\"E6-E8\" style=\"stroke: #383838; stroke-width: 3.0;\"/><text fill=\"#000000\" font-family=\"sans-serif\" font-size=\"13\" lengthAdjust=\"spacingAndGlyphs\" textLength=\"7\" x=\"90.058\" y=\"301.7864\">*</text></a><!--MD5=[0a839d0f80c2d72d4b9b307f046d0de8]\n",
       "link E6 to E8--><a href=\"psysml:868c8138-312d-42c2-8f4f-f83047efce23\" target=\"_top\" title=\"psysml:868c8138-312d-42c2-8f4f-f83047efce23\" xlink:actuate=\"onRequest\" xlink:href=\"psysml:868c8138-312d-42c2-8f4f-f83047efce23\" xlink:show=\"new\" xlink:title=\"psysml:868c8138-312d-42c2-8f4f-f83047efce23\" xlink:type=\"simple\"><path d=\"M112.78,238.1 C116.39,259.34 116.41,291.28 112.82,312.61 \" fill=\"none\" id=\"E6-E8-1\" style=\"stroke: #383838; stroke-width: 3.0;\"/><text fill=\"#000000\" font-family=\"sans-serif\" font-size=\"13\" lengthAdjust=\"spacingAndGlyphs\" textLength=\"7\" x=\"107.6957\" y=\"301.7864\">*</text></a><!--MD5=[43bccb9d22288fa5197ebeb730fee191]\n",
       "@startuml\r\n",
       "skinparam linetype polyline\r\n",
       "skinparam monochrome true\r\n",
       "skinparam classbackgroundcolor white\r\n",
       "skinparam shadowing false\r\n",
       "skinparam wrapWidth 300\r\n",
       "hide circle\r\n",
       "\r\n",
       "package \"AliasTest\" as E1  [[psysml:02b7e9b9-6677-468f-8dad-8ced33a218a4 ]]  {\r\n",
       "comp usage \"b :> ISQSpaceTime::width\" as E2  <<(T,blue) attribute>> [[psysml:c7feeda3-a834-41bb-a074-923ea0011430 ]] {\r\n",
       "}\r\n",
       "comp def \"P1\" as E3  <<(T,blue) part  def>> [[psysml:1a450028-471a-4a88-b6bb-254dda2007f7 ]] {\r\n",
       "- - ports - -\r\n",
       "porig1\r\n",
       "}\r\n",
       "comp usage \"porig1 \" as E4  <<(T,blue) port>> [[psysml:528ad082-e547-41e1-93e2-4f734da3b1f6 ]] {\r\n",
       "}\r\n",
       "comp usage \"p1: P1 \" as E5  <<(T,blue) part>> [[psysml:73838eb5-9ecb-4193-8391-1ddf76ff61b3 ]] {\r\n",
       "}\r\n",
       "comp usage \"po1 \" as E6  <<(T,blue) port>> [[psysml:6875339d-23d6-4973-8a77-102c2bf220f1 ]] {\r\n",
       "}\r\n",
       "comp usage \"p2: P1 \" as E7  <<(T,blue) part>> [[psysml:73d7b051-2240-4fe3-9278-fa0d634854f8 ]] {\r\n",
       "- - ports - -\r\n",
       "pdest\r\n",
       "}\r\n",
       "comp usage \"pdest \" as E8  <<(T,blue) port>> [[psysml:6cb98d60-0ab8-42f0-badc-3a033a17e212 ]] {\r\n",
       "}\r\n",
       "}\r\n",
       "E3 o- - \"1\"E4 [[psysml:b408bcfe-af80-429f-8bb7-74524c32282e ]] \r\n",
       "E5 - -:|> E3 [[psysml:de9d1539-3df1-480f-91a9-ed9f950b1f96 ]] \r\n",
       "E5 o- - \"1\"E6 [[psysml:1d973b34-aa26-4796-bb60-99a7b7743581 ]] \r\n",
       "E6 - -||> E4 [[psysml:73eeba8b-cad5-4501-9cd6-c52ba77489ee ]] \r\n",
       "E7 - -:|> E3 [[psysml:52eea9f8-f20f-41d5-8944-6f19cdd988b1 ]] \r\n",
       "E7 o- - \"1\"E8 [[psysml:7dc24cb7-d6ba-40a4-b073-8d397bf1a7ae ]] \r\n",
       "E6 -[thickness=3]- \"*\"E8 [[psysml:6785e7ae-ef30-46fa-a69d-d6daab2c7c15 ]] \r\n",
       "E6 -[thickness=3]- \"*\"E8 [[psysml:868c8138-312d-42c2-8f4f-f83047efce23 ]] \r\n",
       "@enduml\r\n",
       "\n",
       "PlantUML version 1.2020.13(Sat Jun 13 12:26:38 UTC 2020)\n",
       "(EPL source distribution)\n",
       "Java Runtime: OpenJDK Runtime Environment\n",
       "JVM: OpenJDK 64-Bit Server VM\n",
       "Default Encoding: UTF-8\n",
       "Language: en\n",
       "Country: null\n",
       "--></g></svg>"
      ]
     },
     "execution_count": 10,
     "metadata": {},
     "output_type": "execute_result"
    }
   ],
   "source": [
    "%viz --style=\"POLYLINE\" --view=\"Tree\" \"AliasTest\""
   ]
  },
  {
   "cell_type": "code",
   "execution_count": 11,
   "id": "8defe525",
   "metadata": {
    "execution": {
     "iopub.execute_input": "2022-08-19T08:20:47.930343Z",
     "iopub.status.busy": "2022-08-19T08:20:47.929866Z",
     "iopub.status.idle": "2022-08-19T08:20:47.942258Z",
     "shell.execute_reply": "2022-08-19T08:20:47.942584Z"
    }
   },
   "outputs": [
    {
     "data": {
      "image/svg+xml": [
       "<?xml version=\"1.0\" encoding=\"UTF-8\" standalone=\"no\"?><svg xmlns=\"http://www.w3.org/2000/svg\" xmlns:xlink=\"http://www.w3.org/1999/xlink\" contentScriptType=\"application/ecmascript\" contentStyleType=\"text/css\" height=\"12px\" preserveAspectRatio=\"none\" style=\"width:12px;height:12px;\" version=\"1.1\" viewBox=\"0 0 12 12\" width=\"12px\" zoomAndPan=\"magnify\"><defs/><g><!--MD5=[896ac0e7a515d8dd7765a661cb4ee08b]\n",
       "@startuml\r\n",
       "skinparam linetype polyline\r\n",
       "skinparam monochrome true\r\n",
       "skinparam classbackgroundcolor white\r\n",
       "skinparam shadowing false\r\n",
       "skinparam wrapWidth 300\r\n",
       "hide circle\r\n",
       "\r\n",
       "@enduml\r\n",
       "\n",
       "PlantUML version 1.2020.13(Sat Jun 13 12:26:38 UTC 2020)\n",
       "(EPL source distribution)\n",
       "Java Runtime: OpenJDK Runtime Environment\n",
       "JVM: OpenJDK 64-Bit Server VM\n",
       "Default Encoding: UTF-8\n",
       "Language: en\n",
       "Country: null\n",
       "--></g></svg>"
      ]
     },
     "execution_count": 11,
     "metadata": {},
     "output_type": "execute_result"
    }
   ],
   "source": [
    "%viz --style=\"POLYLINE\" --view=\"State\" \"AliasTest\""
   ]
  },
  {
   "cell_type": "code",
   "execution_count": 12,
   "id": "43edf01b",
   "metadata": {
    "execution": {
     "iopub.execute_input": "2022-08-19T08:20:47.992988Z",
     "iopub.status.busy": "2022-08-19T08:20:47.992531Z",
     "iopub.status.idle": "2022-08-19T08:20:48.048848Z",
     "shell.execute_reply": "2022-08-19T08:20:48.048417Z"
    }
   },
   "outputs": [
    {
     "data": {
      "image/svg+xml": [
       "<?xml version=\"1.0\" encoding=\"UTF-8\" standalone=\"no\"?><svg xmlns=\"http://www.w3.org/2000/svg\" xmlns:xlink=\"http://www.w3.org/1999/xlink\" contentScriptType=\"application/ecmascript\" contentStyleType=\"text/css\" height=\"398px\" preserveAspectRatio=\"none\" style=\"width:370px;height:398px;\" version=\"1.1\" viewBox=\"0 0 370 398\" width=\"370px\" zoomAndPan=\"magnify\"><defs/><g><!--MD5=[fbc87193dbaf4d95561dea2c320d4a47]\n",
       "cluster E1--><a href=\"psysml:02b7e9b9-6677-468f-8dad-8ced33a218a4\" target=\"_top\" title=\"psysml:02b7e9b9-6677-468f-8dad-8ced33a218a4\" xlink:actuate=\"onRequest\" xlink:href=\"psysml:02b7e9b9-6677-468f-8dad-8ced33a218a4\" xlink:show=\"new\" xlink:title=\"psysml:02b7e9b9-6677-468f-8dad-8ced33a218a4\" xlink:type=\"simple\"><polygon fill=\"#FFFFFF\" points=\"16,6,84,6,91,28.2969,348,28.2969,348,386.36,16,386.36,16,6\" style=\"stroke: #000000; stroke-width: 1.5;\"/><line style=\"stroke: #000000; stroke-width: 1.5;\" x1=\"16\" x2=\"91\" y1=\"28.2969\" y2=\"28.2969\"/><text fill=\"#000000\" font-family=\"sans-serif\" font-size=\"14\" font-weight=\"bold\" lengthAdjust=\"spacingAndGlyphs\" textLength=\"62\" x=\"20\" y=\"20.9951\">AliasTest</text></a><!--MD5=[d5e69f78d87373223dbae638b30a9c99]\n",
       "cluster E3--><a href=\"psysml:1a450028-471a-4a88-b6bb-254dda2007f7\" target=\"_top\" title=\"psysml:1a450028-471a-4a88-b6bb-254dda2007f7\" xlink:actuate=\"onRequest\" xlink:href=\"psysml:1a450028-471a-4a88-b6bb-254dda2007f7\" xlink:show=\"new\" xlink:title=\"psysml:1a450028-471a-4a88-b6bb-254dda2007f7\" xlink:type=\"simple\"><rect fill=\"#FFFFFF\" height=\"124.5\" id=\"E3\" style=\"stroke: #383838; stroke-width: 1.5;\" width=\"144\" x=\"180\" y=\"237.86\"/><rect fill=\"#F8F8F8\" height=\"37.9375\" style=\"stroke: #383838; stroke-width: 1.5;\" width=\"144\" x=\"180\" y=\"237.86\"/><text fill=\"#000000\" font-family=\"sans-serif\" font-size=\"12\" font-style=\"italic\" lengthAdjust=\"spacingAndGlyphs\" textLength=\"68\" x=\"218\" y=\"253.9987\">«part  def»</text><text fill=\"#000000\" font-family=\"sans-serif\" font-size=\"12\" lengthAdjust=\"spacingAndGlyphs\" textLength=\"16\" x=\"244\" y=\"267.9674\">P1</text></a><!--MD5=[14e3b0961a2654348d326746436168a1]\n",
       "cluster E6--><a href=\"psysml:73838eb5-9ecb-4193-8391-1ddf76ff61b3\" target=\"_top\" title=\"psysml:73838eb5-9ecb-4193-8391-1ddf76ff61b3\" xlink:actuate=\"onRequest\" xlink:href=\"psysml:73838eb5-9ecb-4193-8391-1ddf76ff61b3\" xlink:show=\"new\" xlink:title=\"psysml:73838eb5-9ecb-4193-8391-1ddf76ff61b3\" xlink:type=\"simple\"><rect fill=\"#FFFFFF\" height=\"97.36\" id=\"E6\" rx=\"10\" ry=\"10\" style=\"stroke: #383838; stroke-width: 1.5;\" width=\"114\" x=\"210\" y=\"49\"/><rect fill=\"#F8F8F8\" height=\"23.9688\" rx=\"10\" ry=\"10\" style=\"stroke: #F8F8F8; stroke-width: 1.5;\" width=\"114\" x=\"210\" y=\"49\"/><rect fill=\"#F8F8F8\" height=\"10\" style=\"stroke: #F8F8F8; stroke-width: 1.5;\" width=\"114\" x=\"210\" y=\"62.9688\"/><rect fill=\"none\" height=\"97.36\" id=\"E6\" rx=\"10\" ry=\"10\" style=\"stroke: #383838; stroke-width: 1.5;\" width=\"114\" x=\"210\" y=\"49\"/><text fill=\"#000000\" font-family=\"sans-serif\" font-size=\"12\" lengthAdjust=\"spacingAndGlyphs\" textLength=\"40\" x=\"247\" y=\"65.1387\">p1: P1</text><line style=\"stroke: #383838; stroke-width: 1.0;\" x1=\"210\" x2=\"324\" y1=\"72.9688\" y2=\"72.9688\"/></a><!--MD5=[55dfccfc6c49c2d10cd1bd2211a6c90c]\n",
       "cluster E8--><a href=\"psysml:73d7b051-2240-4fe3-9278-fa0d634854f8\" target=\"_top\" title=\"psysml:73d7b051-2240-4fe3-9278-fa0d634854f8\" xlink:actuate=\"onRequest\" xlink:href=\"psysml:73d7b051-2240-4fe3-9278-fa0d634854f8\" xlink:show=\"new\" xlink:title=\"psysml:73d7b051-2240-4fe3-9278-fa0d634854f8\" xlink:type=\"simple\"><rect fill=\"#FFFFFF\" height=\"73\" id=\"E8\" rx=\"10\" ry=\"10\" style=\"stroke: #383838; stroke-width: 1.5;\" width=\"83\" x=\"81\" y=\"198.36\"/><rect fill=\"#F8F8F8\" height=\"23.9688\" rx=\"10\" ry=\"10\" style=\"stroke: #F8F8F8; stroke-width: 1.5;\" width=\"83\" x=\"81\" y=\"198.36\"/><rect fill=\"#F8F8F8\" height=\"10\" style=\"stroke: #F8F8F8; stroke-width: 1.5;\" width=\"83\" x=\"81\" y=\"212.3288\"/><rect fill=\"none\" height=\"73\" id=\"E8\" rx=\"10\" ry=\"10\" style=\"stroke: #383838; stroke-width: 1.5;\" width=\"83\" x=\"81\" y=\"198.36\"/><text fill=\"#000000\" font-family=\"sans-serif\" font-size=\"12\" lengthAdjust=\"spacingAndGlyphs\" textLength=\"40\" x=\"102.5\" y=\"214.4987\">p2: P1</text><line style=\"stroke: #383838; stroke-width: 1.0;\" x1=\"81\" x2=\"164\" y1=\"222.3288\" y2=\"222.3288\"/></a><!--MD5=[b4997ac47864f28c2f74865a473b2911]\n",
       "class E2--><a href=\"psysml:c7feeda3-a834-41bb-a074-923ea0011430\" target=\"_top\" title=\"psysml:c7feeda3-a834-41bb-a074-923ea0011430\" xlink:actuate=\"onRequest\" xlink:href=\"psysml:c7feeda3-a834-41bb-a074-923ea0011430\" xlink:show=\"new\" xlink:title=\"psysml:c7feeda3-a834-41bb-a074-923ea0011430\" xlink:type=\"simple\"><rect fill=\"#FFFFFF\" height=\"45.9375\" id=\"E2\" rx=\"10\" ry=\"10\" style=\"stroke: #383838; stroke-width: 1.5;\" width=\"165\" x=\"32.5\" y=\"59.5\"/><text fill=\"#000000\" font-family=\"sans-serif\" font-size=\"12\" font-style=\"italic\" lengthAdjust=\"spacingAndGlyphs\" textLength=\"69\" x=\"80.5\" y=\"75.6387\">«attribute»</text><text fill=\"#000000\" font-family=\"sans-serif\" font-size=\"12\" lengthAdjust=\"spacingAndGlyphs\" textLength=\"159\" x=\"35.5\" y=\"89.6074\">b :&gt; ISQSpaceTime::width</text><line style=\"stroke: #383838; stroke-width: 1.5;\" x1=\"33.5\" x2=\"196.5\" y1=\"97.4375\" y2=\"97.4375\"/></a><text fill=\"#000000\" font-family=\"sans-serif\" font-size=\"14\" lengthAdjust=\"spacingAndGlyphs\" textLength=\"44\" x=\"174\" y=\"216.5582\">porig1</text><rect fill=\"#383838\" height=\"12\" style=\"stroke: #F8F8F8; stroke-width: 1.5;\" width=\"12\" x=\"192\" y=\"231.86\"/><text fill=\"#000000\" font-family=\"sans-serif\" font-size=\"14\" lengthAdjust=\"spacingAndGlyphs\" textLength=\"44\" x=\"221\" y=\"216.5582\">porig1</text><rect fill=\"#383838\" height=\"12\" style=\"stroke: #F8F8F8; stroke-width: 1.5;\" width=\"12\" x=\"239\" y=\"231.86\"/><text fill=\"#000000\" font-family=\"sans-serif\" font-size=\"14\" lengthAdjust=\"spacingAndGlyphs\" textLength=\"27\" x=\"212.5\" y=\"165.3551\">po1</text><rect fill=\"#383838\" height=\"12\" style=\"stroke: #F8F8F8; stroke-width: 1.5;\" width=\"12\" x=\"222\" y=\"140.36\"/><text fill=\"#000000\" font-family=\"sans-serif\" font-size=\"14\" lengthAdjust=\"spacingAndGlyphs\" textLength=\"40\" x=\"77\" y=\"177.0582\">pdest</text><rect fill=\"#383838\" height=\"12\" style=\"stroke: #F8F8F8; stroke-width: 1.5;\" width=\"12\" x=\"93\" y=\"192.36\"/><text fill=\"#000000\" font-family=\"sans-serif\" font-size=\"14\" lengthAdjust=\"spacingAndGlyphs\" textLength=\"40\" x=\"124\" y=\"177.0582\">pdest</text><rect fill=\"#383838\" height=\"12\" style=\"stroke: #F8F8F8; stroke-width: 1.5;\" width=\"12\" x=\"140\" y=\"192.36\"/><!--MD5=[a717450b82c80b9240a525fa862496af]\n",
       "link E6 to E3--><a href=\"psysml:de9d1539-3df1-480f-91a9-ed9f950b1f96\" target=\"_top\" title=\"psysml:de9d1539-3df1-480f-91a9-ed9f950b1f96\" xlink:actuate=\"onRequest\" xlink:href=\"psysml:de9d1539-3df1-480f-91a9-ed9f950b1f96\" xlink:show=\"new\" xlink:title=\"psysml:de9d1539-3df1-480f-91a9-ed9f950b1f96\" xlink:type=\"simple\"><path d=\"M287,146.372 C287,146.4316 287,146.4946 287,146.5614 C287,146.6948 287,146.8432 287,147.0079 C287,147.3375 287,147.733 287,148.2077 C287,149.1569 287,150.4225 287,152.11 C287,158.86 287,172.36 287,199.36 C287,199.36 286.6875,204.36 286.2188,211.86 C286.1016,213.735 285.9746,215.7663 285.8403,217.9147 C285.7732,218.9889 285.7042,220.0924 285.6337,221.2204 C285.5985,221.7843 285.5629,222.3544 285.5269,222.9299 C285.5089,223.2177 285.4908,223.5069 285.4727,223.7973 \" fill=\"none\" id=\"E6-&gt;E3\" style=\"stroke: #383838; stroke-width: 1.0;\"/><polygon fill=\"#FFFFFF\" points=\"285.4727,223.7973,279.6715,204.3977,293.6442,205.271,285.4727,223.7973\" style=\"stroke: #383838; stroke-width: 1.0;\"/><ellipse cx=\"282.0231\" cy=\"198.8335\" fill=\"#383838\" rx=\"2\" ry=\"2\" style=\"stroke: #383838; stroke-width: 1.0;\"/><ellipse cx=\"292.0037\" cy=\"199.4573\" fill=\"#383838\" rx=\"2\" ry=\"2\" style=\"stroke: #383838; stroke-width: 1.0;\"/></a><!--MD5=[95fa686b5a16158bcdbcaeead89f639b]\n",
       "link E8 to E3--><a href=\"psysml:52eea9f8-f20f-41d5-8944-6f19cdd988b1\" target=\"_top\" title=\"psysml:52eea9f8-f20f-41d5-8944-6f19cdd988b1\" xlink:actuate=\"onRequest\" xlink:href=\"psysml:52eea9f8-f20f-41d5-8944-6f19cdd988b1\" xlink:show=\"new\" xlink:title=\"psysml:52eea9f8-f20f-41d5-8944-6f19cdd988b1\" xlink:type=\"simple\"><path d=\"M162.1689,271.4709 C162.248,271.516 162.3269,271.561 162.4055,271.6059 C162.5628,271.6956 162.7192,271.7848 162.8746,271.8734 C163.1854,272.0507 163.4923,272.2258 163.7952,272.3985 C166.2181,273.7806 168.3819,275.0148 170.19,276.0461 C173.8063,278.1088 176,279.36 176,279.36 C176,279.36 177.5213,280.15 180.1388,281.5092 C180.7931,281.849 181.516,282.2244 182.3008,282.6319 C182.6932,282.8357 183.101,283.0475 183.5235,283.2668 C183.6291,283.3217 183.7357,283.377 183.8431,283.4328 \" fill=\"none\" id=\"E8-&gt;E3\" style=\"stroke: #383838; stroke-width: 1.0;\"/><polygon fill=\"#FFFFFF\" points=\"183.8431,283.4328,163.755,280.8892,170.2068,268.4644,183.8431,283.4328\" style=\"stroke: #383838; stroke-width: 1.0;\"/><ellipse cx=\"159.6181\" cy=\"276.4874\" fill=\"#383838\" rx=\"2\" ry=\"2\" style=\"stroke: #383838; stroke-width: 1.0;\"/><ellipse cx=\"164.2265\" cy=\"267.6126\" fill=\"#383838\" rx=\"2\" ry=\"2\" style=\"stroke: #383838; stroke-width: 1.0;\"/></a><!--MD5=[1c0b9414cc86e0744215edee6abd8926]\n",
       "link E7 to E9--><a href=\"psysml:6785e7ae-ef30-46fa-a69d-d6daab2c7c15\" target=\"_top\" title=\"psysml:6785e7ae-ef30-46fa-a69d-d6daab2c7c15\" xlink:actuate=\"onRequest\" xlink:href=\"psysml:6785e7ae-ef30-46fa-a69d-d6daab2c7c15\" xlink:show=\"new\" xlink:title=\"psysml:6785e7ae-ef30-46fa-a69d-d6daab2c7c15\" xlink:type=\"simple\"><path d=\"M221.77,147.97 C193.56,152.13 105,176.36 105,176.36 C105,176.36 90.96,189.18 92.93,194.78 \" fill=\"none\" id=\"E7-E9\" style=\"stroke: #383838; stroke-width: 3.0;\"/><text fill=\"#000000\" font-family=\"sans-serif\" font-size=\"13\" lengthAdjust=\"spacingAndGlyphs\" textLength=\"7\" x=\"78.0348\" y=\"182.7607\">*</text></a><!--MD5=[1c0b9414cc86e0744215edee6abd8926]\n",
       "link E7 to E9--><a href=\"psysml:868c8138-312d-42c2-8f4f-f83047efce23\" target=\"_top\" title=\"psysml:868c8138-312d-42c2-8f4f-f83047efce23\" xlink:actuate=\"onRequest\" xlink:href=\"psysml:868c8138-312d-42c2-8f4f-f83047efce23\" xlink:show=\"new\" xlink:title=\"psysml:868c8138-312d-42c2-8f4f-f83047efce23\" xlink:type=\"simple\"><path d=\"M221.84,151.89 C199.62,160.05 140,176.36 140,176.36 C140,176.36 121.76,193.02 105.05,196.66 \" fill=\"none\" id=\"E7-E9-1\" style=\"stroke: #383838; stroke-width: 3.0;\"/><text fill=\"#000000\" font-family=\"sans-serif\" font-size=\"13\" lengthAdjust=\"spacingAndGlyphs\" textLength=\"7\" x=\"112.9288\" y=\"186.1917\">*</text></a><!--MD5=[de8484702d8a170453f5d6d27be55a9e]\n",
       "@startuml\r\n",
       "skinparam ranksep 10\r\n",
       "skinparam rectangle {\r\n",
       " backgroundColor<<block>> LightGreen\r\n",
       "}\r\n",
       "skinparam linetype polyline\r\n",
       "skinparam monochrome true\r\n",
       "skinparam classbackgroundcolor white\r\n",
       "skinparam shadowing false\r\n",
       "skinparam wrapWidth 300\r\n",
       "hide circle\r\n",
       "\r\n",
       "package \"AliasTest\" as E1  [[psysml:02b7e9b9-6677-468f-8dad-8ced33a218a4 ]]  {\r\n",
       "comp usage \"b :> ISQSpaceTime::width\" as E2  <<(T,blue) attribute>> [[psysml:c7feeda3-a834-41bb-a074-923ea0011430 ]] {\r\n",
       "}\r\n",
       "rec def \"P1\" as E3  <<(T,blue) part  def>> [[psysml:1a450028-471a-4a88-b6bb-254dda2007f7 ]] {\r\n",
       "portin \"porig1 \" as E4  <<(T,blue) port>> [[psysml:528ad082-e547-41e1-93e2-4f734da3b1f6 ]] \r\n",
       "portin \"porig1 \" as E5  <<(T,blue) port>> [[psysml:528ad082-e547-41e1-93e2-4f734da3b1f6 ]] \r\n",
       "}\r\n",
       "rec usage \"p1: P1\" as E6  [[psysml:73838eb5-9ecb-4193-8391-1ddf76ff61b3 ]] {\r\n",
       "portout \"po1 \" as E7  <<(T,blue) port>> [[psysml:6875339d-23d6-4973-8a77-102c2bf220f1 ]] \r\n",
       "}\r\n",
       "rec usage \"p2: P1\" as E8  [[psysml:73d7b051-2240-4fe3-9278-fa0d634854f8 ]] {\r\n",
       "portin \"pdest \" as E9  <<(T,blue) port>> [[psysml:6cb98d60-0ab8-42f0-badc-3a033a17e212 ]] \r\n",
       "portin \"pdest \" as E10  <<(T,blue) port>> [[psysml:6cb98d60-0ab8-42f0-badc-3a033a17e212 ]] \r\n",
       "}\r\n",
       "}\r\n",
       "E6 - -:|> E3 [[psysml:de9d1539-3df1-480f-91a9-ed9f950b1f96 ]] \r\n",
       "E8 - -:|> E3 [[psysml:52eea9f8-f20f-41d5-8944-6f19cdd988b1 ]] \r\n",
       "E7 -[thickness=3]- \"*\"E9 [[psysml:6785e7ae-ef30-46fa-a69d-d6daab2c7c15 ]] \r\n",
       "E7 -[thickness=3]- \"*\"E9 [[psysml:868c8138-312d-42c2-8f4f-f83047efce23 ]] \r\n",
       "@enduml\r\n",
       "\n",
       "PlantUML version 1.2020.13(Sat Jun 13 12:26:38 UTC 2020)\n",
       "(EPL source distribution)\n",
       "Java Runtime: OpenJDK Runtime Environment\n",
       "JVM: OpenJDK 64-Bit Server VM\n",
       "Default Encoding: UTF-8\n",
       "Language: en\n",
       "Country: null\n",
       "--></g></svg>"
      ]
     },
     "execution_count": 12,
     "metadata": {},
     "output_type": "execute_result"
    }
   ],
   "source": [
    "%viz --style=\"POLYLINE\" --view=\"Interconnection\" \"AliasTest\""
   ]
  },
  {
   "cell_type": "code",
   "execution_count": 13,
   "id": "c2f2dfd3",
   "metadata": {
    "execution": {
     "iopub.execute_input": "2022-08-19T08:20:48.098189Z",
     "iopub.status.busy": "2022-08-19T08:20:48.097734Z",
     "iopub.status.idle": "2022-08-19T08:20:48.112137Z",
     "shell.execute_reply": "2022-08-19T08:20:48.112467Z"
    }
   },
   "outputs": [
    {
     "data": {
      "image/svg+xml": [
       "<?xml version=\"1.0\" encoding=\"UTF-8\" standalone=\"no\"?><svg xmlns=\"http://www.w3.org/2000/svg\" xmlns:xlink=\"http://www.w3.org/1999/xlink\" contentScriptType=\"application/ecmascript\" contentStyleType=\"text/css\" height=\"12px\" preserveAspectRatio=\"none\" style=\"width:12px;height:12px;\" version=\"1.1\" viewBox=\"0 0 12 12\" width=\"12px\" zoomAndPan=\"magnify\"><defs/><g><!--MD5=[97bbf32f66ccd50cbc40d92ea8f5a65e]\n",
       "@startuml\r\n",
       "skinparam ranksep 8\r\n",
       "skinparam linetype polyline\r\n",
       "skinparam monochrome true\r\n",
       "skinparam classbackgroundcolor white\r\n",
       "skinparam shadowing false\r\n",
       "skinparam wrapWidth 300\r\n",
       "hide circle\r\n",
       "\r\n",
       "@enduml\r\n",
       "\n",
       "PlantUML version 1.2020.13(Sat Jun 13 12:26:38 UTC 2020)\n",
       "(EPL source distribution)\n",
       "Java Runtime: OpenJDK Runtime Environment\n",
       "JVM: OpenJDK 64-Bit Server VM\n",
       "Default Encoding: UTF-8\n",
       "Language: en\n",
       "Country: null\n",
       "--></g></svg>"
      ]
     },
     "execution_count": 13,
     "metadata": {},
     "output_type": "execute_result"
    }
   ],
   "source": [
    "%viz --style=\"POLYLINE\" --view=\"Action\" \"AliasTest\""
   ]
  },
  {
   "cell_type": "code",
   "execution_count": 14,
   "id": "452064a6",
   "metadata": {
    "execution": {
     "iopub.execute_input": "2022-08-19T08:20:48.162644Z",
     "iopub.status.busy": "2022-08-19T08:20:48.162179Z",
     "iopub.status.idle": "2022-08-19T08:20:48.179633Z",
     "shell.execute_reply": "2022-08-19T08:20:48.179975Z"
    }
   },
   "outputs": [
    {
     "data": {
      "image/svg+xml": [
       "<?xml version=\"1.0\" encoding=\"UTF-8\" standalone=\"no\"?><svg xmlns=\"http://www.w3.org/2000/svg\" xmlns:xlink=\"http://www.w3.org/1999/xlink\" contentScriptType=\"application/ecmascript\" contentStyleType=\"text/css\" height=\"12px\" preserveAspectRatio=\"none\" style=\"width:12px;height:12px;\" version=\"1.1\" viewBox=\"0 0 12 12\" width=\"12px\" zoomAndPan=\"magnify\"><defs/><g><!--MD5=[dc938048236c351797870c36b62f92ad]\n",
       "@startuml\r\n",
       "skinparam roundcorner 20\r\n",
       "skinparam BoxPadding 20\r\n",
       "skinparam SequenceBoxBackgroundColor #white\r\n",
       "skinparam style strictuml\r\n",
       "skinparam maxMessageSize 100\r\n",
       "skinparam linetype polyline\r\n",
       "skinparam monochrome true\r\n",
       "skinparam classbackgroundcolor white\r\n",
       "skinparam shadowing false\r\n",
       "skinparam wrapWidth 300\r\n",
       "hide circle\r\n",
       "\r\n",
       "@enduml\r\n",
       "\n",
       "PlantUML version 1.2020.13(Sat Jun 13 12:26:38 UTC 2020)\n",
       "(EPL source distribution)\n",
       "Java Runtime: OpenJDK Runtime Environment\n",
       "JVM: OpenJDK 64-Bit Server VM\n",
       "Default Encoding: UTF-8\n",
       "Language: en\n",
       "Country: null\n",
       "--></g></svg>"
      ]
     },
     "execution_count": 14,
     "metadata": {},
     "output_type": "execute_result"
    }
   ],
   "source": [
    "%viz --style=\"POLYLINE\" --view=\"Sequence\" \"AliasTest\""
   ]
  },
  {
   "cell_type": "code",
   "execution_count": 15,
   "id": "991a0e61",
   "metadata": {
    "execution": {
     "iopub.execute_input": "2022-08-19T08:20:48.230123Z",
     "iopub.status.busy": "2022-08-19T08:20:48.229675Z",
     "iopub.status.idle": "2022-08-19T08:20:48.308739Z",
     "shell.execute_reply": "2022-08-19T08:20:48.308175Z"
    }
   },
   "outputs": [
    {
     "data": {
      "image/svg+xml": [
       "<?xml version=\"1.0\" encoding=\"UTF-8\" standalone=\"no\"?><svg xmlns=\"http://www.w3.org/2000/svg\" xmlns:xlink=\"http://www.w3.org/1999/xlink\" contentScriptType=\"application/ecmascript\" contentStyleType=\"text/css\" height=\"387px\" preserveAspectRatio=\"none\" style=\"width:406px;height:387px;\" version=\"1.1\" viewBox=\"0 0 406 387\" width=\"406px\" zoomAndPan=\"magnify\"><defs/><g><!--MD5=[fbc87193dbaf4d95561dea2c320d4a47]\n",
       "cluster E1--><a href=\"psysml:02b7e9b9-6677-468f-8dad-8ced33a218a4\" target=\"_top\" title=\"psysml:02b7e9b9-6677-468f-8dad-8ced33a218a4\" xlink:actuate=\"onRequest\" xlink:href=\"psysml:02b7e9b9-6677-468f-8dad-8ced33a218a4\" xlink:show=\"new\" xlink:title=\"psysml:02b7e9b9-6677-468f-8dad-8ced33a218a4\" xlink:type=\"simple\"><polygon fill=\"#FFFFFF\" points=\"16,6,84,6,91,28.2969,384,28.2969,384,375,16,375,16,6\" style=\"stroke: #000000; stroke-width: 1.5;\"/><line style=\"stroke: #000000; stroke-width: 1.5;\" x1=\"16\" x2=\"91\" y1=\"28.2969\" y2=\"28.2969\"/><text fill=\"#000000\" font-family=\"sans-serif\" font-size=\"14\" font-weight=\"bold\" lengthAdjust=\"spacingAndGlyphs\" textLength=\"62\" x=\"20\" y=\"20.9951\">AliasTest</text></a><!--MD5=[b4997ac47864f28c2f74865a473b2911]\n",
       "class E2--><a href=\"psysml:c7feeda3-a834-41bb-a074-923ea0011430\" target=\"_top\" title=\"psysml:c7feeda3-a834-41bb-a074-923ea0011430\" xlink:actuate=\"onRequest\" xlink:href=\"psysml:c7feeda3-a834-41bb-a074-923ea0011430\" xlink:show=\"new\" xlink:title=\"psysml:c7feeda3-a834-41bb-a074-923ea0011430\" xlink:type=\"simple\"><rect fill=\"#FFFFFF\" height=\"45.9375\" id=\"E2\" rx=\"10\" ry=\"10\" style=\"stroke: #383838; stroke-width: 1.5;\" width=\"165\" x=\"202.5\" y=\"56\"/><text fill=\"#000000\" font-family=\"sans-serif\" font-size=\"12\" font-style=\"italic\" lengthAdjust=\"spacingAndGlyphs\" textLength=\"69\" x=\"250.5\" y=\"72.1387\">«attribute»</text><text fill=\"#000000\" font-family=\"sans-serif\" font-size=\"12\" lengthAdjust=\"spacingAndGlyphs\" textLength=\"159\" x=\"205.5\" y=\"86.1074\">b :&gt; ISQSpaceTime::width</text><line style=\"stroke: #383838; stroke-width: 1.5;\" x1=\"203.5\" x2=\"366.5\" y1=\"93.9375\" y2=\"93.9375\"/></a><!--MD5=[09b614a08d8cba4a07c9adeb5e0fee81]\n",
       "class E3--><a href=\"psysml:1a450028-471a-4a88-b6bb-254dda2007f7\" target=\"_top\" title=\"psysml:1a450028-471a-4a88-b6bb-254dda2007f7\" xlink:actuate=\"onRequest\" xlink:href=\"psysml:1a450028-471a-4a88-b6bb-254dda2007f7\" xlink:show=\"new\" xlink:title=\"psysml:1a450028-471a-4a88-b6bb-254dda2007f7\" xlink:type=\"simple\"><rect fill=\"#FFFFFF\" height=\"75.5469\" id=\"E3\" style=\"stroke: #383838; stroke-width: 1.5;\" width=\"70\" x=\"158\" y=\"177\"/><text fill=\"#000000\" font-family=\"sans-serif\" font-size=\"12\" font-style=\"italic\" lengthAdjust=\"spacingAndGlyphs\" textLength=\"68\" x=\"159\" y=\"193.1387\">«part  def»</text><text fill=\"#000000\" font-family=\"sans-serif\" font-size=\"12\" lengthAdjust=\"spacingAndGlyphs\" textLength=\"16\" x=\"185\" y=\"207.1074\">P1</text><line style=\"stroke: #383838; stroke-width: 1.5;\" x1=\"159\" x2=\"227\" y1=\"214.9375\" y2=\"214.9375\"/><text fill=\"#000000\" font-family=\"sans-serif\" font-size=\"11\" lengthAdjust=\"spacingAndGlyphs\" textLength=\"36\" x=\"164\" y=\"245.9526\">porig1</text><line style=\"stroke: #383838; stroke-width: 1.0;\" x1=\"159\" x2=\"178\" y1=\"229.3398\" y2=\"229.3398\"/><text fill=\"#000000\" font-family=\"sans-serif\" font-size=\"11\" lengthAdjust=\"spacingAndGlyphs\" textLength=\"30\" x=\"178\" y=\"232.6479\">ports</text><line style=\"stroke: #383838; stroke-width: 1.0;\" x1=\"208\" x2=\"227\" y1=\"229.3398\" y2=\"229.3398\"/></a><!--MD5=[ebbe1d658d1005bcc118a6aa81145e00]\n",
       "class E4--><a href=\"psysml:528ad082-e547-41e1-93e2-4f734da3b1f6\" target=\"_top\" title=\"psysml:528ad082-e547-41e1-93e2-4f734da3b1f6\" xlink:actuate=\"onRequest\" xlink:href=\"psysml:528ad082-e547-41e1-93e2-4f734da3b1f6\" xlink:show=\"new\" xlink:title=\"psysml:528ad082-e547-41e1-93e2-4f734da3b1f6\" xlink:type=\"simple\"><rect fill=\"#FFFFFF\" height=\"45.9375\" id=\"E4\" rx=\"10\" ry=\"10\" style=\"stroke: #383838; stroke-width: 1.5;\" width=\"50\" x=\"164\" y=\"313\"/><text fill=\"#000000\" font-family=\"sans-serif\" font-size=\"12\" font-style=\"italic\" lengthAdjust=\"spacingAndGlyphs\" textLength=\"40\" x=\"169\" y=\"329.1387\">«port»</text><text fill=\"#000000\" font-family=\"sans-serif\" font-size=\"12\" lengthAdjust=\"spacingAndGlyphs\" textLength=\"40\" x=\"167\" y=\"343.1074\">porig1</text><line style=\"stroke: #383838; stroke-width: 1.5;\" x1=\"165\" x2=\"213\" y1=\"350.9375\" y2=\"350.9375\"/></a><!--MD5=[270fce915f116d4de14055a7c1d9a0f3]\n",
       "class E5--><a href=\"psysml:73838eb5-9ecb-4193-8391-1ddf76ff61b3\" target=\"_top\" title=\"psysml:73838eb5-9ecb-4193-8391-1ddf76ff61b3\" xlink:actuate=\"onRequest\" xlink:href=\"psysml:73838eb5-9ecb-4193-8391-1ddf76ff61b3\" xlink:show=\"new\" xlink:title=\"psysml:73838eb5-9ecb-4193-8391-1ddf76ff61b3\" xlink:type=\"simple\"><rect fill=\"#FFFFFF\" height=\"45.9375\" id=\"E5\" rx=\"10\" ry=\"10\" style=\"stroke: #383838; stroke-width: 1.5;\" width=\"50\" x=\"117\" y=\"56\"/><text fill=\"#000000\" font-family=\"sans-serif\" font-size=\"12\" font-style=\"italic\" lengthAdjust=\"spacingAndGlyphs\" textLength=\"40\" x=\"122\" y=\"72.1387\">«part»</text><text fill=\"#000000\" font-family=\"sans-serif\" font-size=\"12\" lengthAdjust=\"spacingAndGlyphs\" textLength=\"40\" x=\"120\" y=\"86.1074\">p1: P1</text><line style=\"stroke: #383838; stroke-width: 1.5;\" x1=\"118\" x2=\"166\" y1=\"93.9375\" y2=\"93.9375\"/></a><!--MD5=[60a26617385b1d2d0262a64233df1f8d]\n",
       "class E6--><a href=\"psysml:6875339d-23d6-4973-8a77-102c2bf220f1\" target=\"_top\" title=\"psysml:6875339d-23d6-4973-8a77-102c2bf220f1\" xlink:actuate=\"onRequest\" xlink:href=\"psysml:6875339d-23d6-4973-8a77-102c2bf220f1\" xlink:show=\"new\" xlink:title=\"psysml:6875339d-23d6-4973-8a77-102c2bf220f1\" xlink:type=\"simple\"><rect fill=\"#FFFFFF\" height=\"45.9375\" id=\"E6\" rx=\"10\" ry=\"10\" style=\"stroke: #383838; stroke-width: 1.5;\" width=\"42\" x=\"81\" y=\"192\"/><text fill=\"#000000\" font-family=\"sans-serif\" font-size=\"12\" font-style=\"italic\" lengthAdjust=\"spacingAndGlyphs\" textLength=\"40\" x=\"82\" y=\"208.1387\">«port»</text><text fill=\"#000000\" font-family=\"sans-serif\" font-size=\"12\" lengthAdjust=\"spacingAndGlyphs\" textLength=\"24\" x=\"88\" y=\"222.1074\">po1</text><line style=\"stroke: #383838; stroke-width: 1.5;\" x1=\"82\" x2=\"122\" y1=\"229.9375\" y2=\"229.9375\"/></a><!--MD5=[2156ba9850f5573cc1fc38a6a4b2f02b]\n",
       "class E7--><a href=\"psysml:73d7b051-2240-4fe3-9278-fa0d634854f8\" target=\"_top\" title=\"psysml:73d7b051-2240-4fe3-9278-fa0d634854f8\" xlink:actuate=\"onRequest\" xlink:href=\"psysml:73d7b051-2240-4fe3-9278-fa0d634854f8\" xlink:show=\"new\" xlink:title=\"psysml:73d7b051-2240-4fe3-9278-fa0d634854f8\" xlink:type=\"simple\"><rect fill=\"#FFFFFF\" height=\"75.5469\" id=\"E7\" rx=\"10\" ry=\"10\" style=\"stroke: #383838; stroke-width: 1.5;\" width=\"50\" x=\"32\" y=\"41\"/><text fill=\"#000000\" font-family=\"sans-serif\" font-size=\"12\" font-style=\"italic\" lengthAdjust=\"spacingAndGlyphs\" textLength=\"40\" x=\"37\" y=\"57.1387\">«part»</text><text fill=\"#000000\" font-family=\"sans-serif\" font-size=\"12\" lengthAdjust=\"spacingAndGlyphs\" textLength=\"40\" x=\"35\" y=\"71.1074\">p2: P1</text><line style=\"stroke: #383838; stroke-width: 1.5;\" x1=\"33\" x2=\"81\" y1=\"78.9375\" y2=\"78.9375\"/><text fill=\"#000000\" font-family=\"sans-serif\" font-size=\"11\" lengthAdjust=\"spacingAndGlyphs\" textLength=\"32\" x=\"38\" y=\"109.9526\">pdest</text><line style=\"stroke: #383838; stroke-width: 1.0;\" x1=\"33\" x2=\"42\" y1=\"93.3398\" y2=\"93.3398\"/><text fill=\"#000000\" font-family=\"sans-serif\" font-size=\"11\" lengthAdjust=\"spacingAndGlyphs\" textLength=\"30\" x=\"42\" y=\"96.6479\">ports</text><line style=\"stroke: #383838; stroke-width: 1.0;\" x1=\"72\" x2=\"81\" y1=\"93.3398\" y2=\"93.3398\"/></a><!--MD5=[b9389687b975829384b498ac4b7476b2]\n",
       "class E8--><a href=\"psysml:6cb98d60-0ab8-42f0-badc-3a033a17e212\" target=\"_top\" title=\"psysml:6cb98d60-0ab8-42f0-badc-3a033a17e212\" xlink:actuate=\"onRequest\" xlink:href=\"psysml:6cb98d60-0ab8-42f0-badc-3a033a17e212\" xlink:show=\"new\" xlink:title=\"psysml:6cb98d60-0ab8-42f0-badc-3a033a17e212\" xlink:type=\"simple\"><rect fill=\"#FFFFFF\" height=\"45.9375\" id=\"E8\" rx=\"10\" ry=\"10\" style=\"stroke: #383838; stroke-width: 1.5;\" width=\"46\" x=\"79\" y=\"313\"/><text fill=\"#000000\" font-family=\"sans-serif\" font-size=\"12\" font-style=\"italic\" lengthAdjust=\"spacingAndGlyphs\" textLength=\"40\" x=\"82\" y=\"329.1387\">«port»</text><text fill=\"#000000\" font-family=\"sans-serif\" font-size=\"12\" lengthAdjust=\"spacingAndGlyphs\" textLength=\"36\" x=\"82\" y=\"343.1074\">pdest</text><line style=\"stroke: #383838; stroke-width: 1.5;\" x1=\"80\" x2=\"124\" y1=\"350.9375\" y2=\"350.9375\"/></a><!--MD5=[4672eba38e49728da53d11aeb285b987]\n",
       "reverse link E3 to E4--><a href=\"psysml:b408bcfe-af80-429f-8bb7-74524c32282e\" target=\"_top\" title=\"psysml:b408bcfe-af80-429f-8bb7-74524c32282e\" xlink:actuate=\"onRequest\" xlink:href=\"psysml:b408bcfe-af80-429f-8bb7-74524c32282e\" xlink:show=\"new\" xlink:title=\"psysml:b408bcfe-af80-429f-8bb7-74524c32282e\" xlink:type=\"simple\"><path d=\"M191.31,266.34 C190.76,282.61 190.18,299.81 189.74,312.93 \" fill=\"none\" id=\"E3&lt;-E4\" style=\"stroke: #383838; stroke-width: 1.0;\"/><polygon fill=\"#FFFFFF\" points=\"191.76,253,187.558,258.8603,191.3514,264.993,195.5534,259.1327,191.76,253\" style=\"stroke: #383838; stroke-width: 1.0;\"/><text fill=\"#000000\" font-family=\"sans-serif\" font-size=\"13\" lengthAdjust=\"spacingAndGlyphs\" textLength=\"8\" x=\"180.8639\" y=\"301.8075\">1</text></a><!--MD5=[e9be52314489bd878ff4c7144b63c9e1]\n",
       "link E5 to E3--><a href=\"psysml:de9d1539-3df1-480f-91a9-ed9f950b1f96\" target=\"_top\" title=\"psysml:de9d1539-3df1-480f-91a9-ed9f950b1f96\" xlink:actuate=\"onRequest\" xlink:href=\"psysml:de9d1539-3df1-480f-91a9-ed9f950b1f96\" xlink:show=\"new\" xlink:title=\"psysml:de9d1539-3df1-480f-91a9-ed9f950b1f96\" xlink:type=\"simple\"><path d=\"M150.42,102.13 C156.21,117.35 164.18,138.29 171.66,157.93 \" fill=\"none\" id=\"E5-&gt;E3\" style=\"stroke: #383838; stroke-width: 1.0;\"/><polygon fill=\"#FFFFFF\" points=\"178.88,176.89,165.5815,161.6208,178.6665,156.6427,178.88,176.89\" style=\"stroke: #383838; stroke-width: 1.0;\"/><ellipse cx=\"165.424\" cy=\"155.5821\" fill=\"#383838\" rx=\"2\" ry=\"2\" style=\"stroke: #383838; stroke-width: 1.0;\"/><ellipse cx=\"174.7704\" cy=\"152.0263\" fill=\"#383838\" rx=\"2\" ry=\"2\" style=\"stroke: #383838; stroke-width: 1.0;\"/></a><!--MD5=[85d356282659285ab4b2cfe2f634dd2b]\n",
       "reverse link E5 to E6--><a href=\"psysml:1d973b34-aa26-4796-bb60-99a7b7743581\" target=\"_top\" title=\"psysml:1d973b34-aa26-4796-bb60-99a7b7743581\" xlink:actuate=\"onRequest\" xlink:href=\"psysml:1d973b34-aa26-4796-bb60-99a7b7743581\" xlink:show=\"new\" xlink:title=\"psysml:1d973b34-aa26-4796-bb60-99a7b7743581\" xlink:type=\"simple\"><path d=\"M131.62,114.76 C124.36,139.1 114.87,170.88 108.61,191.84 \" fill=\"none\" id=\"E5&lt;-E6\" style=\"stroke: #383838; stroke-width: 1.0;\"/><polygon fill=\"#FFFFFF\" points=\"135.39,102.13,129.8375,106.7311,131.9491,113.6261,137.5016,109.025,135.39,102.13\" style=\"stroke: #383838; stroke-width: 1.0;\"/><text fill=\"#000000\" font-family=\"sans-serif\" font-size=\"13\" lengthAdjust=\"spacingAndGlyphs\" textLength=\"8\" x=\"101.2788\" y=\"181.0753\">1</text></a><!--MD5=[f667431f98296947986a1a7595a31603]\n",
       "link E6 to E4--><a href=\"psysml:73eeba8b-cad5-4501-9cd6-c52ba77489ee\" target=\"_top\" title=\"psysml:73eeba8b-cad5-4501-9cd6-c52ba77489ee\" xlink:actuate=\"onRequest\" xlink:href=\"psysml:73eeba8b-cad5-4501-9cd6-c52ba77489ee\" xlink:show=\"new\" xlink:title=\"psysml:73eeba8b-cad5-4501-9cd6-c52ba77489ee\" xlink:type=\"simple\"><path d=\"M118.16,238.1 C130.11,254.45 146.69,277.12 160.8,296.43 \" fill=\"none\" id=\"E6-&gt;E4\" style=\"stroke: #383838; stroke-width: 1.0;\"/><polygon fill=\"#FFFFFF\" points=\"172.63,312.61,155.76,301.4117,167.0576,293.1434,172.63,312.61\" style=\"stroke: #383838; stroke-width: 1.0;\"/><line style=\"stroke: #383838; stroke-width: 2.0;\" x1=\"153.5158\" x2=\"164.8134\" y1=\"298.3452\" y2=\"290.0769\"/></a><!--MD5=[14ccda38c055a5c0da953d572bc50960]\n",
       "link E7 to E3--><a href=\"psysml:52eea9f8-f20f-41d5-8944-6f19cdd988b1\" target=\"_top\" title=\"psysml:52eea9f8-f20f-41d5-8944-6f19cdd988b1\" xlink:actuate=\"onRequest\" xlink:href=\"psysml:52eea9f8-f20f-41d5-8944-6f19cdd988b1\" xlink:show=\"new\" xlink:title=\"psysml:52eea9f8-f20f-41d5-8944-6f19cdd988b1\" xlink:type=\"simple\"><path d=\"M82.26,104.89 C99.38,121.76 122.59,144.62 143.33,165.06 \" fill=\"none\" id=\"E7-&gt;E3\" style=\"stroke: #383838; stroke-width: 1.0;\"/><polygon fill=\"#FFFFFF\" points=\"157.88,179.39,139.4314,171.0443,149.2556,161.0701,157.88,179.39\" style=\"stroke: #383838; stroke-width: 1.0;\"/><ellipse cx=\"136.774\" cy=\"165.6196\" fill=\"#383838\" rx=\"2\" ry=\"2\" style=\"stroke: #383838; stroke-width: 1.0;\"/><ellipse cx=\"143.7912\" cy=\"158.4951\" fill=\"#383838\" rx=\"2\" ry=\"2\" style=\"stroke: #383838; stroke-width: 1.0;\"/></a><!--MD5=[dc164f5e8a733ab456ef1add180e9e34]\n",
       "reverse link E7 to E8--><a href=\"psysml:7dc24cb7-d6ba-40a4-b073-8d397bf1a7ae\" target=\"_top\" title=\"psysml:7dc24cb7-d6ba-40a4-b073-8d397bf1a7ae\" xlink:actuate=\"onRequest\" xlink:href=\"psysml:7dc24cb7-d6ba-40a4-b073-8d397bf1a7ae\" xlink:show=\"new\" xlink:title=\"psysml:7dc24cb7-d6ba-40a4-b073-8d397bf1a7ae\" xlink:type=\"simple\"><path d=\"M59.03,130.25 C61.1,181.33 64,253 64,253 C64,253 80.37,288.31 91.62,312.59 \" fill=\"none\" id=\"E7&lt;-E8\" style=\"stroke: #383838; stroke-width: 1.0;\"/><polygon fill=\"#FFFFFF\" points=\"58.5,117.11,54.7473,123.2677,58.988,129.1001,62.7407,122.9424,58.5,117.11\" style=\"stroke: #383838; stroke-width: 1.0;\"/><text fill=\"#000000\" font-family=\"sans-serif\" font-size=\"13\" lengthAdjust=\"spacingAndGlyphs\" textLength=\"8\" x=\"79.9351\" y=\"301.7612\">1</text></a><!--MD5=[0a839d0f80c2d72d4b9b307f046d0de8]\n",
       "link E6 to E8--><a href=\"psysml:6785e7ae-ef30-46fa-a69d-d6daab2c7c15\" target=\"_top\" title=\"psysml:6785e7ae-ef30-46fa-a69d-d6daab2c7c15\" xlink:actuate=\"onRequest\" xlink:href=\"psysml:6785e7ae-ef30-46fa-a69d-d6daab2c7c15\" xlink:show=\"new\" xlink:title=\"psysml:6785e7ae-ef30-46fa-a69d-d6daab2c7c15\" xlink:type=\"simple\"><path d=\"M91.82,238.1 C88.41,259.34 88.39,291.28 91.78,312.61 \" fill=\"none\" id=\"E6-E8\" style=\"stroke: #383838; stroke-width: 3.0;\"/><text fill=\"#000000\" font-family=\"sans-serif\" font-size=\"13\" lengthAdjust=\"spacingAndGlyphs\" textLength=\"7\" x=\"90.058\" y=\"301.7864\">*</text></a><!--MD5=[0a839d0f80c2d72d4b9b307f046d0de8]\n",
       "link E6 to E8--><a href=\"psysml:868c8138-312d-42c2-8f4f-f83047efce23\" target=\"_top\" title=\"psysml:868c8138-312d-42c2-8f4f-f83047efce23\" xlink:actuate=\"onRequest\" xlink:href=\"psysml:868c8138-312d-42c2-8f4f-f83047efce23\" xlink:show=\"new\" xlink:title=\"psysml:868c8138-312d-42c2-8f4f-f83047efce23\" xlink:type=\"simple\"><path d=\"M112.78,238.1 C116.39,259.34 116.41,291.28 112.82,312.61 \" fill=\"none\" id=\"E6-E8-1\" style=\"stroke: #383838; stroke-width: 3.0;\"/><text fill=\"#000000\" font-family=\"sans-serif\" font-size=\"13\" lengthAdjust=\"spacingAndGlyphs\" textLength=\"7\" x=\"107.6957\" y=\"301.7864\">*</text></a><!--MD5=[43bccb9d22288fa5197ebeb730fee191]\n",
       "@startuml\r\n",
       "skinparam linetype polyline\r\n",
       "skinparam monochrome true\r\n",
       "skinparam classbackgroundcolor white\r\n",
       "skinparam shadowing false\r\n",
       "skinparam wrapWidth 300\r\n",
       "hide circle\r\n",
       "\r\n",
       "package \"AliasTest\" as E1  [[psysml:02b7e9b9-6677-468f-8dad-8ced33a218a4 ]]  {\r\n",
       "comp usage \"b :> ISQSpaceTime::width\" as E2  <<(T,blue) attribute>> [[psysml:c7feeda3-a834-41bb-a074-923ea0011430 ]] {\r\n",
       "}\r\n",
       "comp def \"P1\" as E3  <<(T,blue) part  def>> [[psysml:1a450028-471a-4a88-b6bb-254dda2007f7 ]] {\r\n",
       "- - ports - -\r\n",
       "porig1\r\n",
       "}\r\n",
       "comp usage \"porig1 \" as E4  <<(T,blue) port>> [[psysml:528ad082-e547-41e1-93e2-4f734da3b1f6 ]] {\r\n",
       "}\r\n",
       "comp usage \"p1: P1 \" as E5  <<(T,blue) part>> [[psysml:73838eb5-9ecb-4193-8391-1ddf76ff61b3 ]] {\r\n",
       "}\r\n",
       "comp usage \"po1 \" as E6  <<(T,blue) port>> [[psysml:6875339d-23d6-4973-8a77-102c2bf220f1 ]] {\r\n",
       "}\r\n",
       "comp usage \"p2: P1 \" as E7  <<(T,blue) part>> [[psysml:73d7b051-2240-4fe3-9278-fa0d634854f8 ]] {\r\n",
       "- - ports - -\r\n",
       "pdest\r\n",
       "}\r\n",
       "comp usage \"pdest \" as E8  <<(T,blue) port>> [[psysml:6cb98d60-0ab8-42f0-badc-3a033a17e212 ]] {\r\n",
       "}\r\n",
       "}\r\n",
       "E3 o- - \"1\"E4 [[psysml:b408bcfe-af80-429f-8bb7-74524c32282e ]] \r\n",
       "E5 - -:|> E3 [[psysml:de9d1539-3df1-480f-91a9-ed9f950b1f96 ]] \r\n",
       "E5 o- - \"1\"E6 [[psysml:1d973b34-aa26-4796-bb60-99a7b7743581 ]] \r\n",
       "E6 - -||> E4 [[psysml:73eeba8b-cad5-4501-9cd6-c52ba77489ee ]] \r\n",
       "E7 - -:|> E3 [[psysml:52eea9f8-f20f-41d5-8944-6f19cdd988b1 ]] \r\n",
       "E7 o- - \"1\"E8 [[psysml:7dc24cb7-d6ba-40a4-b073-8d397bf1a7ae ]] \r\n",
       "E6 -[thickness=3]- \"*\"E8 [[psysml:6785e7ae-ef30-46fa-a69d-d6daab2c7c15 ]] \r\n",
       "E6 -[thickness=3]- \"*\"E8 [[psysml:868c8138-312d-42c2-8f4f-f83047efce23 ]] \r\n",
       "@enduml\r\n",
       "\n",
       "PlantUML version 1.2020.13(Sat Jun 13 12:26:38 UTC 2020)\n",
       "(EPL source distribution)\n",
       "Java Runtime: OpenJDK Runtime Environment\n",
       "JVM: OpenJDK 64-Bit Server VM\n",
       "Default Encoding: UTF-8\n",
       "Language: en\n",
       "Country: null\n",
       "--></g></svg>"
      ]
     },
     "execution_count": 15,
     "metadata": {},
     "output_type": "execute_result"
    }
   ],
   "source": [
    "%viz --style=\"POLYLINE\" --view=\"MIXED\" \"AliasTest\""
   ]
  },
  {
   "cell_type": "code",
   "execution_count": 16,
   "id": "82fb2799",
   "metadata": {
    "execution": {
     "iopub.execute_input": "2022-08-19T08:20:48.358021Z",
     "iopub.status.busy": "2022-08-19T08:20:48.357570Z",
     "iopub.status.idle": "2022-08-19T08:20:48.430954Z",
     "shell.execute_reply": "2022-08-19T08:20:48.431263Z"
    }
   },
   "outputs": [
    {
     "data": {
      "image/svg+xml": [
       "<?xml version=\"1.0\" encoding=\"UTF-8\" standalone=\"no\"?><svg xmlns=\"http://www.w3.org/2000/svg\" xmlns:xlink=\"http://www.w3.org/1999/xlink\" contentScriptType=\"application/ecmascript\" contentStyleType=\"text/css\" height=\"307px\" preserveAspectRatio=\"none\" style=\"width:475px;height:307px;\" version=\"1.1\" viewBox=\"0 0 475 307\" width=\"475px\" zoomAndPan=\"magnify\"><defs/><g><!--MD5=[fbc87193dbaf4d95561dea2c320d4a47]\n",
       "cluster E1--><a href=\"psysml:02b7e9b9-6677-468f-8dad-8ced33a218a4\" target=\"_top\" title=\"psysml:02b7e9b9-6677-468f-8dad-8ced33a218a4\" xlink:actuate=\"onRequest\" xlink:href=\"psysml:02b7e9b9-6677-468f-8dad-8ced33a218a4\" xlink:show=\"new\" xlink:title=\"psysml:02b7e9b9-6677-468f-8dad-8ced33a218a4\" xlink:type=\"simple\"><polygon fill=\"#FFFFFF\" points=\"16,6,84,6,91,28.2969,453,28.2969,453,295,16,295,16,6\" style=\"stroke: #000000; stroke-width: 1.5;\"/><line style=\"stroke: #000000; stroke-width: 1.5;\" x1=\"16\" x2=\"91\" y1=\"28.2969\" y2=\"28.2969\"/><text fill=\"#000000\" font-family=\"sans-serif\" font-size=\"14\" font-weight=\"bold\" lengthAdjust=\"spacingAndGlyphs\" textLength=\"62\" x=\"20\" y=\"20.9951\">AliasTest</text></a><!--MD5=[b4997ac47864f28c2f74865a473b2911]\n",
       "class E2--><a href=\"psysml:c7feeda3-a834-41bb-a074-923ea0011430\" target=\"_top\" title=\"psysml:c7feeda3-a834-41bb-a074-923ea0011430\" xlink:actuate=\"onRequest\" xlink:href=\"psysml:c7feeda3-a834-41bb-a074-923ea0011430\" xlink:show=\"new\" xlink:title=\"psysml:c7feeda3-a834-41bb-a074-923ea0011430\" xlink:type=\"simple\"><rect fill=\"#FFFFFF\" height=\"45.9375\" id=\"E2\" rx=\"10\" ry=\"10\" style=\"stroke: #383838; stroke-width: 1.5;\" width=\"165\" x=\"32\" y=\"41\"/><text fill=\"#000000\" font-family=\"sans-serif\" font-size=\"12\" font-style=\"italic\" lengthAdjust=\"spacingAndGlyphs\" textLength=\"69\" x=\"80\" y=\"57.1387\">«attribute»</text><text fill=\"#000000\" font-family=\"sans-serif\" font-size=\"12\" lengthAdjust=\"spacingAndGlyphs\" textLength=\"159\" x=\"35\" y=\"71.1074\">b :&gt; ISQSpaceTime::width</text><line style=\"stroke: #383838; stroke-width: 1.5;\" x1=\"33\" x2=\"196\" y1=\"78.9375\" y2=\"78.9375\"/></a><!--MD5=[09b614a08d8cba4a07c9adeb5e0fee81]\n",
       "class E3--><a href=\"psysml:1a450028-471a-4a88-b6bb-254dda2007f7\" target=\"_top\" title=\"psysml:1a450028-471a-4a88-b6bb-254dda2007f7\" xlink:actuate=\"onRequest\" xlink:href=\"psysml:1a450028-471a-4a88-b6bb-254dda2007f7\" xlink:show=\"new\" xlink:title=\"psysml:1a450028-471a-4a88-b6bb-254dda2007f7\" xlink:type=\"simple\"><rect fill=\"#FFFFFF\" height=\"75.5469\" id=\"E3\" style=\"stroke: #383838; stroke-width: 1.5;\" width=\"70\" x=\"257\" y=\"67\"/><text fill=\"#000000\" font-family=\"sans-serif\" font-size=\"12\" font-style=\"italic\" lengthAdjust=\"spacingAndGlyphs\" textLength=\"68\" x=\"258\" y=\"83.1387\">«part  def»</text><text fill=\"#000000\" font-family=\"sans-serif\" font-size=\"12\" lengthAdjust=\"spacingAndGlyphs\" textLength=\"16\" x=\"284\" y=\"97.1074\">P1</text><line style=\"stroke: #383838; stroke-width: 1.5;\" x1=\"258\" x2=\"326\" y1=\"104.9375\" y2=\"104.9375\"/><text fill=\"#000000\" font-family=\"sans-serif\" font-size=\"11\" lengthAdjust=\"spacingAndGlyphs\" textLength=\"36\" x=\"263\" y=\"135.9526\">porig1</text><line style=\"stroke: #383838; stroke-width: 1.0;\" x1=\"258\" x2=\"277\" y1=\"119.3398\" y2=\"119.3398\"/><text fill=\"#000000\" font-family=\"sans-serif\" font-size=\"11\" lengthAdjust=\"spacingAndGlyphs\" textLength=\"30\" x=\"277\" y=\"122.6479\">ports</text><line style=\"stroke: #383838; stroke-width: 1.0;\" x1=\"307\" x2=\"326\" y1=\"119.3398\" y2=\"119.3398\"/></a><!--MD5=[ebbe1d658d1005bcc118a6aa81145e00]\n",
       "class E4--><a href=\"psysml:528ad082-e547-41e1-93e2-4f734da3b1f6\" target=\"_top\" title=\"psysml:528ad082-e547-41e1-93e2-4f734da3b1f6\" xlink:actuate=\"onRequest\" xlink:href=\"psysml:528ad082-e547-41e1-93e2-4f734da3b1f6\" xlink:show=\"new\" xlink:title=\"psysml:528ad082-e547-41e1-93e2-4f734da3b1f6\" xlink:type=\"simple\"><rect fill=\"#FFFFFF\" height=\"45.9375\" id=\"E4\" rx=\"10\" ry=\"10\" style=\"stroke: #383838; stroke-width: 1.5;\" width=\"50\" x=\"387\" y=\"90\"/><text fill=\"#000000\" font-family=\"sans-serif\" font-size=\"12\" font-style=\"italic\" lengthAdjust=\"spacingAndGlyphs\" textLength=\"40\" x=\"392\" y=\"106.1387\">«port»</text><text fill=\"#000000\" font-family=\"sans-serif\" font-size=\"12\" lengthAdjust=\"spacingAndGlyphs\" textLength=\"40\" x=\"390\" y=\"120.1074\">porig1</text><line style=\"stroke: #383838; stroke-width: 1.5;\" x1=\"388\" x2=\"436\" y1=\"127.9375\" y2=\"127.9375\"/></a><!--MD5=[270fce915f116d4de14055a7c1d9a0f3]\n",
       "class E5--><a href=\"psysml:73838eb5-9ecb-4193-8391-1ddf76ff61b3\" target=\"_top\" title=\"psysml:73838eb5-9ecb-4193-8391-1ddf76ff61b3\" xlink:actuate=\"onRequest\" xlink:href=\"psysml:73838eb5-9ecb-4193-8391-1ddf76ff61b3\" xlink:show=\"new\" xlink:title=\"psysml:73838eb5-9ecb-4193-8391-1ddf76ff61b3\" xlink:type=\"simple\"><rect fill=\"#FFFFFF\" height=\"45.9375\" id=\"E5\" rx=\"10\" ry=\"10\" style=\"stroke: #383838; stroke-width: 1.5;\" width=\"50\" x=\"89.5\" y=\"122\"/><text fill=\"#000000\" font-family=\"sans-serif\" font-size=\"12\" font-style=\"italic\" lengthAdjust=\"spacingAndGlyphs\" textLength=\"40\" x=\"94.5\" y=\"138.1387\">«part»</text><text fill=\"#000000\" font-family=\"sans-serif\" font-size=\"12\" lengthAdjust=\"spacingAndGlyphs\" textLength=\"40\" x=\"92.5\" y=\"152.1074\">p1: P1</text><line style=\"stroke: #383838; stroke-width: 1.5;\" x1=\"90.5\" x2=\"138.5\" y1=\"159.9375\" y2=\"159.9375\"/></a><!--MD5=[60a26617385b1d2d0262a64233df1f8d]\n",
       "class E6--><a href=\"psysml:6875339d-23d6-4973-8a77-102c2bf220f1\" target=\"_top\" title=\"psysml:6875339d-23d6-4973-8a77-102c2bf220f1\" xlink:actuate=\"onRequest\" xlink:href=\"psysml:6875339d-23d6-4973-8a77-102c2bf220f1\" xlink:show=\"new\" xlink:title=\"psysml:6875339d-23d6-4973-8a77-102c2bf220f1\" xlink:type=\"simple\"><rect fill=\"#FFFFFF\" height=\"45.9375\" id=\"E6\" rx=\"10\" ry=\"10\" style=\"stroke: #383838; stroke-width: 1.5;\" width=\"42\" x=\"271\" y=\"178\"/><text fill=\"#000000\" font-family=\"sans-serif\" font-size=\"12\" font-style=\"italic\" lengthAdjust=\"spacingAndGlyphs\" textLength=\"40\" x=\"272\" y=\"194.1387\">«port»</text><text fill=\"#000000\" font-family=\"sans-serif\" font-size=\"12\" lengthAdjust=\"spacingAndGlyphs\" textLength=\"24\" x=\"278\" y=\"208.1074\">po1</text><line style=\"stroke: #383838; stroke-width: 1.5;\" x1=\"272\" x2=\"312\" y1=\"215.9375\" y2=\"215.9375\"/></a><!--MD5=[2156ba9850f5573cc1fc38a6a4b2f02b]\n",
       "class E7--><a href=\"psysml:73d7b051-2240-4fe3-9278-fa0d634854f8\" target=\"_top\" title=\"psysml:73d7b051-2240-4fe3-9278-fa0d634854f8\" xlink:actuate=\"onRequest\" xlink:href=\"psysml:73d7b051-2240-4fe3-9278-fa0d634854f8\" xlink:show=\"new\" xlink:title=\"psysml:73d7b051-2240-4fe3-9278-fa0d634854f8\" xlink:type=\"simple\"><rect fill=\"#FFFFFF\" height=\"75.5469\" id=\"E7\" rx=\"10\" ry=\"10\" style=\"stroke: #383838; stroke-width: 1.5;\" width=\"50\" x=\"89.5\" y=\"203\"/><text fill=\"#000000\" font-family=\"sans-serif\" font-size=\"12\" font-style=\"italic\" lengthAdjust=\"spacingAndGlyphs\" textLength=\"40\" x=\"94.5\" y=\"219.1387\">«part»</text><text fill=\"#000000\" font-family=\"sans-serif\" font-size=\"12\" lengthAdjust=\"spacingAndGlyphs\" textLength=\"40\" x=\"92.5\" y=\"233.1074\">p2: P1</text><line style=\"stroke: #383838; stroke-width: 1.5;\" x1=\"90.5\" x2=\"138.5\" y1=\"240.9375\" y2=\"240.9375\"/><text fill=\"#000000\" font-family=\"sans-serif\" font-size=\"11\" lengthAdjust=\"spacingAndGlyphs\" textLength=\"32\" x=\"95.5\" y=\"271.9526\">pdest</text><line style=\"stroke: #383838; stroke-width: 1.0;\" x1=\"90.5\" x2=\"99.5\" y1=\"255.3398\" y2=\"255.3398\"/><text fill=\"#000000\" font-family=\"sans-serif\" font-size=\"11\" lengthAdjust=\"spacingAndGlyphs\" textLength=\"30\" x=\"99.5\" y=\"258.6479\">ports</text><line style=\"stroke: #383838; stroke-width: 1.0;\" x1=\"129.5\" x2=\"138.5\" y1=\"255.3398\" y2=\"255.3398\"/></a><!--MD5=[b9389687b975829384b498ac4b7476b2]\n",
       "class E8--><a href=\"psysml:6cb98d60-0ab8-42f0-badc-3a033a17e212\" target=\"_top\" title=\"psysml:6cb98d60-0ab8-42f0-badc-3a033a17e212\" xlink:actuate=\"onRequest\" xlink:href=\"psysml:6cb98d60-0ab8-42f0-badc-3a033a17e212\" xlink:show=\"new\" xlink:title=\"psysml:6cb98d60-0ab8-42f0-badc-3a033a17e212\" xlink:type=\"simple\"><rect fill=\"#FFFFFF\" height=\"45.9375\" id=\"E8\" rx=\"10\" ry=\"10\" style=\"stroke: #383838; stroke-width: 1.5;\" width=\"46\" x=\"389\" y=\"178\"/><text fill=\"#000000\" font-family=\"sans-serif\" font-size=\"12\" font-style=\"italic\" lengthAdjust=\"spacingAndGlyphs\" textLength=\"40\" x=\"392\" y=\"194.1387\">«port»</text><text fill=\"#000000\" font-family=\"sans-serif\" font-size=\"12\" lengthAdjust=\"spacingAndGlyphs\" textLength=\"36\" x=\"392\" y=\"208.1074\">pdest</text><line style=\"stroke: #383838; stroke-width: 1.5;\" x1=\"390\" x2=\"434\" y1=\"215.9375\" y2=\"215.9375\"/></a><!--MD5=[4672eba38e49728da53d11aeb285b987]\n",
       "reverse link E3 to E4--><a href=\"psysml:b408bcfe-af80-429f-8bb7-74524c32282e\" target=\"_top\" title=\"psysml:b408bcfe-af80-429f-8bb7-74524c32282e\" xlink:actuate=\"onRequest\" xlink:href=\"psysml:b408bcfe-af80-429f-8bb7-74524c32282e\" xlink:show=\"new\" xlink:title=\"psysml:b408bcfe-af80-429f-8bb7-74524c32282e\" xlink:type=\"simple\"><path d=\"M340.14,108.2 C356.09,109.28 373.25,110.44 386.68,111.35 \" fill=\"none\" id=\"E3&lt;-E4\" style=\"stroke: #383838; stroke-width: 1.0;\"/><polygon fill=\"#FFFFFF\" points=\"327.13,107.31,332.8436,111.7094,339.1021,108.1275,333.3886,103.728,327.13,107.31\" style=\"stroke: #383838; stroke-width: 1.0;\"/><text fill=\"#000000\" font-family=\"sans-serif\" font-size=\"13\" lengthAdjust=\"spacingAndGlyphs\" textLength=\"8\" x=\"371.1668\" y=\"124.941\">1</text></a><!--MD5=[e9be52314489bd878ff4c7144b63c9e1]\n",
       "link E5 to E3--><a href=\"psysml:de9d1539-3df1-480f-91a9-ed9f950b1f96\" target=\"_top\" title=\"psysml:de9d1539-3df1-480f-91a9-ed9f950b1f96\" xlink:actuate=\"onRequest\" xlink:href=\"psysml:de9d1539-3df1-480f-91a9-ed9f950b1f96\" xlink:show=\"new\" xlink:title=\"psysml:de9d1539-3df1-480f-91a9-ed9f950b1f96\" xlink:type=\"simple\"><path d=\"M139.53,139.52 C164.53,133.83 204.48,124.72 237.08,117.29 \" fill=\"none\" id=\"E5-&gt;E3\" style=\"stroke: #383838; stroke-width: 1.0;\"/><polygon fill=\"#FFFFFF\" points=\"256.72,112.81,239.7498,123.8559,236.6397,110.2057,256.72,112.81\" style=\"stroke: #383838; stroke-width: 1.0;\"/><ellipse cx=\"233.7479\" cy=\"123.1721\" fill=\"#383838\" rx=\"2\" ry=\"2\" style=\"stroke: #383838; stroke-width: 1.0;\"/><ellipse cx=\"231.5264\" cy=\"113.4219\" fill=\"#383838\" rx=\"2\" ry=\"2\" style=\"stroke: #383838; stroke-width: 1.0;\"/></a><!--MD5=[85d356282659285ab4b2cfe2f634dd2b]\n",
       "reverse link E5 to E6--><a href=\"psysml:1d973b34-aa26-4796-bb60-99a7b7743581\" target=\"_top\" title=\"psysml:1d973b34-aa26-4796-bb60-99a7b7743581\" xlink:actuate=\"onRequest\" xlink:href=\"psysml:1d973b34-aa26-4796-bb60-99a7b7743581\" xlink:show=\"new\" xlink:title=\"psysml:1d973b34-aa26-4796-bb60-99a7b7743581\" xlink:type=\"simple\"><path d=\"M151.93,156.62 C187.96,168.12 241.81,185.3 270.79,194.55 \" fill=\"none\" id=\"E5&lt;-E6\" style=\"stroke: #383838; stroke-width: 1.0;\"/><polygon fill=\"#FFFFFF\" points=\"139.53,152.67,144.0339,158.3016,150.9646,156.3101,146.4607,150.6785,139.53,152.67\" style=\"stroke: #383838; stroke-width: 1.0;\"/><text fill=\"#000000\" font-family=\"sans-serif\" font-size=\"13\" lengthAdjust=\"spacingAndGlyphs\" textLength=\"8\" x=\"255.0694\" y=\"206.9684\">1</text></a><!--MD5=[f667431f98296947986a1a7595a31603]\n",
       "link E6 to E4--><a href=\"psysml:73eeba8b-cad5-4501-9cd6-c52ba77489ee\" target=\"_top\" title=\"psysml:73eeba8b-cad5-4501-9cd6-c52ba77489ee\" xlink:actuate=\"onRequest\" xlink:href=\"psysml:73eeba8b-cad5-4501-9cd6-c52ba77489ee\" xlink:show=\"new\" xlink:title=\"psysml:73eeba8b-cad5-4501-9cd6-c52ba77489ee\" xlink:type=\"simple\"><path d=\"M313.02,186.07 C328.78,174.31 351.27,157.54 370.73,143.03 \" fill=\"none\" id=\"E6-&gt;E4\" style=\"stroke: #383838; stroke-width: 1.0;\"/><polygon fill=\"#FFFFFF\" points=\"386.8,131.05,375.7491,148.0169,367.3827,136.7918,386.8,131.05\" style=\"stroke: #383838; stroke-width: 1.0;\"/><line style=\"stroke: #383838; stroke-width: 2.0;\" x1=\"372.7022\" x2=\"364.3359\" y1=\"150.2878\" y2=\"139.0627\"/></a><!--MD5=[14ccda38c055a5c0da953d572bc50960]\n",
       "link E7 to E3--><a href=\"psysml:52eea9f8-f20f-41d5-8944-6f19cdd988b1\" target=\"_top\" title=\"psysml:52eea9f8-f20f-41d5-8944-6f19cdd988b1\" xlink:actuate=\"onRequest\" xlink:href=\"psysml:52eea9f8-f20f-41d5-8944-6f19cdd988b1\" xlink:show=\"new\" xlink:title=\"psysml:52eea9f8-f20f-41d5-8944-6f19cdd988b1\" xlink:type=\"simple\"><path d=\"M139.85,225.22 C156.3,214.33 178.33,199.3 197,185 C211.83,173.64 227.47,160.74 241.63,148.66 \" fill=\"none\" id=\"E7-&gt;E3\" style=\"stroke: #383838; stroke-width: 1.0;\"/><polygon fill=\"#FFFFFF\" points=\"256.89,135.51,247.0718,153.2188,237.9294,142.6161,256.89,135.51\" style=\"stroke: #383838; stroke-width: 1.0;\"/><ellipse cx=\"241.4489\" cy=\"155.4264\" fill=\"#383838\" rx=\"2\" ry=\"2\" style=\"stroke: #383838; stroke-width: 1.0;\"/><ellipse cx=\"234.9187\" cy=\"147.853\" fill=\"#383838\" rx=\"2\" ry=\"2\" style=\"stroke: #383838; stroke-width: 1.0;\"/></a><!--MD5=[dc164f5e8a733ab456ef1add180e9e34]\n",
       "reverse link E7 to E8--><a href=\"psysml:7dc24cb7-d6ba-40a4-b073-8d397bf1a7ae\" target=\"_top\" title=\"psysml:7dc24cb7-d6ba-40a4-b073-8d397bf1a7ae\" xlink:actuate=\"onRequest\" xlink:href=\"psysml:7dc24cb7-d6ba-40a4-b073-8d397bf1a7ae\" xlink:show=\"new\" xlink:title=\"psysml:7dc24cb7-d6ba-40a4-b073-8d397bf1a7ae\" xlink:type=\"simple\"><path d=\"M152.71,245.9 C195.39,250.4 267.18,254.52 327,241 C349.21,235.98 372.44,224.36 388.83,214.92 \" fill=\"none\" id=\"E7&lt;-E8\" style=\"stroke: #383838; stroke-width: 1.0;\"/><polygon fill=\"#FFFFFF\" points=\"139.67,244.42,145.1792,249.0728,151.593,245.777,146.0838,241.1242,139.67,244.42\" style=\"stroke: #383838; stroke-width: 1.0;\"/><text fill=\"#000000\" font-family=\"sans-serif\" font-size=\"13\" lengthAdjust=\"spacingAndGlyphs\" textLength=\"8\" x=\"372.8488\" y=\"233.3077\">1</text></a><!--MD5=[0a839d0f80c2d72d4b9b307f046d0de8]\n",
       "link E6 to E8--><a href=\"psysml:6785e7ae-ef30-46fa-a69d-d6daab2c7c15\" target=\"_top\" title=\"psysml:6785e7ae-ef30-46fa-a69d-d6daab2c7c15\" xlink:actuate=\"onRequest\" xlink:href=\"psysml:6785e7ae-ef30-46fa-a69d-d6daab2c7c15\" xlink:show=\"new\" xlink:title=\"psysml:6785e7ae-ef30-46fa-a69d-d6daab2c7c15\" xlink:type=\"simple\"><path d=\"M313.02,210.85 C334.06,214.59 367.07,214.71 388.87,211.21 \" fill=\"none\" id=\"E6-E8\" style=\"stroke: #383838; stroke-width: 3.0;\"/><text fill=\"#000000\" font-family=\"sans-serif\" font-size=\"13\" lengthAdjust=\"spacingAndGlyphs\" textLength=\"7\" x=\"374.0474\" y=\"209.1016\">*</text></a><!--MD5=[0a839d0f80c2d72d4b9b307f046d0de8]\n",
       "link E6 to E8--><a href=\"psysml:868c8138-312d-42c2-8f4f-f83047efce23\" target=\"_top\" title=\"psysml:868c8138-312d-42c2-8f4f-f83047efce23\" xlink:actuate=\"onRequest\" xlink:href=\"psysml:868c8138-312d-42c2-8f4f-f83047efce23\" xlink:show=\"new\" xlink:title=\"psysml:868c8138-312d-42c2-8f4f-f83047efce23\" xlink:type=\"simple\"><path d=\"M313.02,190.57 C334.06,186.61 367.07,186.48 388.87,190.19 \" fill=\"none\" id=\"E6-E8-1\" style=\"stroke: #383838; stroke-width: 3.0;\"/><text fill=\"#000000\" font-family=\"sans-serif\" font-size=\"13\" lengthAdjust=\"spacingAndGlyphs\" textLength=\"7\" x=\"374.0474\" y=\"181.907\">*</text></a><!--MD5=[7854d9e8af746abb22179dae6b5c94ea]\n",
       "@startuml\r\n",
       "left to right direction\r\n",
       "skinparam monochrome true\r\n",
       "skinparam classbackgroundcolor white\r\n",
       "skinparam shadowing false\r\n",
       "skinparam wrapWidth 300\r\n",
       "hide circle\r\n",
       "\r\n",
       "package \"AliasTest\" as E1  [[psysml:02b7e9b9-6677-468f-8dad-8ced33a218a4 ]]  {\r\n",
       "comp usage \"b :> ISQSpaceTime::width\" as E2  <<(T,blue) attribute>> [[psysml:c7feeda3-a834-41bb-a074-923ea0011430 ]] {\r\n",
       "}\r\n",
       "comp def \"P1\" as E3  <<(T,blue) part  def>> [[psysml:1a450028-471a-4a88-b6bb-254dda2007f7 ]] {\r\n",
       "- - ports - -\r\n",
       "porig1\r\n",
       "}\r\n",
       "comp usage \"porig1 \" as E4  <<(T,blue) port>> [[psysml:528ad082-e547-41e1-93e2-4f734da3b1f6 ]] {\r\n",
       "}\r\n",
       "comp usage \"p1: P1 \" as E5  <<(T,blue) part>> [[psysml:73838eb5-9ecb-4193-8391-1ddf76ff61b3 ]] {\r\n",
       "}\r\n",
       "comp usage \"po1 \" as E6  <<(T,blue) port>> [[psysml:6875339d-23d6-4973-8a77-102c2bf220f1 ]] {\r\n",
       "}\r\n",
       "comp usage \"p2: P1 \" as E7  <<(T,blue) part>> [[psysml:73d7b051-2240-4fe3-9278-fa0d634854f8 ]] {\r\n",
       "- - ports - -\r\n",
       "pdest\r\n",
       "}\r\n",
       "comp usage \"pdest \" as E8  <<(T,blue) port>> [[psysml:6cb98d60-0ab8-42f0-badc-3a033a17e212 ]] {\r\n",
       "}\r\n",
       "}\r\n",
       "E3 o- - \"1\"E4 [[psysml:b408bcfe-af80-429f-8bb7-74524c32282e ]] \r\n",
       "E5 - -:|> E3 [[psysml:de9d1539-3df1-480f-91a9-ed9f950b1f96 ]] \r\n",
       "E5 o- - \"1\"E6 [[psysml:1d973b34-aa26-4796-bb60-99a7b7743581 ]] \r\n",
       "E6 - -||> E4 [[psysml:73eeba8b-cad5-4501-9cd6-c52ba77489ee ]] \r\n",
       "E7 - -:|> E3 [[psysml:52eea9f8-f20f-41d5-8944-6f19cdd988b1 ]] \r\n",
       "E7 o- - \"1\"E8 [[psysml:7dc24cb7-d6ba-40a4-b073-8d397bf1a7ae ]] \r\n",
       "E6 -[thickness=3]- \"*\"E8 [[psysml:6785e7ae-ef30-46fa-a69d-d6daab2c7c15 ]] \r\n",
       "E6 -[thickness=3]- \"*\"E8 [[psysml:868c8138-312d-42c2-8f4f-f83047efce23 ]] \r\n",
       "@enduml\r\n",
       "\n",
       "PlantUML version 1.2020.13(Sat Jun 13 12:26:38 UTC 2020)\n",
       "(EPL source distribution)\n",
       "Java Runtime: OpenJDK Runtime Environment\n",
       "JVM: OpenJDK 64-Bit Server VM\n",
       "Default Encoding: UTF-8\n",
       "Language: en\n",
       "Country: null\n",
       "--></g></svg>"
      ]
     },
     "execution_count": 16,
     "metadata": {},
     "output_type": "execute_result"
    }
   ],
   "source": [
    "%viz --style=\"LR\" --view=\"Default\" \"AliasTest\""
   ]
  },
  {
   "cell_type": "code",
   "execution_count": 17,
   "id": "8fa15752",
   "metadata": {
    "execution": {
     "iopub.execute_input": "2022-08-19T08:20:48.480903Z",
     "iopub.status.busy": "2022-08-19T08:20:48.480424Z",
     "iopub.status.idle": "2022-08-19T08:20:48.553038Z",
     "shell.execute_reply": "2022-08-19T08:20:48.552560Z"
    }
   },
   "outputs": [
    {
     "data": {
      "image/svg+xml": [
       "<?xml version=\"1.0\" encoding=\"UTF-8\" standalone=\"no\"?><svg xmlns=\"http://www.w3.org/2000/svg\" xmlns:xlink=\"http://www.w3.org/1999/xlink\" contentScriptType=\"application/ecmascript\" contentStyleType=\"text/css\" height=\"307px\" preserveAspectRatio=\"none\" style=\"width:475px;height:307px;\" version=\"1.1\" viewBox=\"0 0 475 307\" width=\"475px\" zoomAndPan=\"magnify\"><defs/><g><!--MD5=[fbc87193dbaf4d95561dea2c320d4a47]\n",
       "cluster E1--><a href=\"psysml:02b7e9b9-6677-468f-8dad-8ced33a218a4\" target=\"_top\" title=\"psysml:02b7e9b9-6677-468f-8dad-8ced33a218a4\" xlink:actuate=\"onRequest\" xlink:href=\"psysml:02b7e9b9-6677-468f-8dad-8ced33a218a4\" xlink:show=\"new\" xlink:title=\"psysml:02b7e9b9-6677-468f-8dad-8ced33a218a4\" xlink:type=\"simple\"><polygon fill=\"#FFFFFF\" points=\"16,6,84,6,91,28.2969,453,28.2969,453,295,16,295,16,6\" style=\"stroke: #000000; stroke-width: 1.5;\"/><line style=\"stroke: #000000; stroke-width: 1.5;\" x1=\"16\" x2=\"91\" y1=\"28.2969\" y2=\"28.2969\"/><text fill=\"#000000\" font-family=\"sans-serif\" font-size=\"14\" font-weight=\"bold\" lengthAdjust=\"spacingAndGlyphs\" textLength=\"62\" x=\"20\" y=\"20.9951\">AliasTest</text></a><!--MD5=[b4997ac47864f28c2f74865a473b2911]\n",
       "class E2--><a href=\"psysml:c7feeda3-a834-41bb-a074-923ea0011430\" target=\"_top\" title=\"psysml:c7feeda3-a834-41bb-a074-923ea0011430\" xlink:actuate=\"onRequest\" xlink:href=\"psysml:c7feeda3-a834-41bb-a074-923ea0011430\" xlink:show=\"new\" xlink:title=\"psysml:c7feeda3-a834-41bb-a074-923ea0011430\" xlink:type=\"simple\"><rect fill=\"#FFFFFF\" height=\"45.9375\" id=\"E2\" rx=\"10\" ry=\"10\" style=\"stroke: #383838; stroke-width: 1.5;\" width=\"165\" x=\"32\" y=\"41\"/><text fill=\"#000000\" font-family=\"sans-serif\" font-size=\"12\" font-style=\"italic\" lengthAdjust=\"spacingAndGlyphs\" textLength=\"69\" x=\"80\" y=\"57.1387\">«attribute»</text><text fill=\"#000000\" font-family=\"sans-serif\" font-size=\"12\" lengthAdjust=\"spacingAndGlyphs\" textLength=\"159\" x=\"35\" y=\"71.1074\">b :&gt; ISQSpaceTime::width</text><line style=\"stroke: #383838; stroke-width: 1.5;\" x1=\"33\" x2=\"196\" y1=\"78.9375\" y2=\"78.9375\"/></a><!--MD5=[09b614a08d8cba4a07c9adeb5e0fee81]\n",
       "class E3--><a href=\"psysml:1a450028-471a-4a88-b6bb-254dda2007f7\" target=\"_top\" title=\"psysml:1a450028-471a-4a88-b6bb-254dda2007f7\" xlink:actuate=\"onRequest\" xlink:href=\"psysml:1a450028-471a-4a88-b6bb-254dda2007f7\" xlink:show=\"new\" xlink:title=\"psysml:1a450028-471a-4a88-b6bb-254dda2007f7\" xlink:type=\"simple\"><rect fill=\"#FFFFFF\" height=\"75.5469\" id=\"E3\" style=\"stroke: #383838; stroke-width: 1.5;\" width=\"70\" x=\"257\" y=\"67\"/><text fill=\"#000000\" font-family=\"sans-serif\" font-size=\"12\" font-style=\"italic\" lengthAdjust=\"spacingAndGlyphs\" textLength=\"68\" x=\"258\" y=\"83.1387\">«part  def»</text><text fill=\"#000000\" font-family=\"sans-serif\" font-size=\"12\" lengthAdjust=\"spacingAndGlyphs\" textLength=\"16\" x=\"284\" y=\"97.1074\">P1</text><line style=\"stroke: #383838; stroke-width: 1.5;\" x1=\"258\" x2=\"326\" y1=\"104.9375\" y2=\"104.9375\"/><text fill=\"#000000\" font-family=\"sans-serif\" font-size=\"11\" lengthAdjust=\"spacingAndGlyphs\" textLength=\"36\" x=\"263\" y=\"135.9526\">porig1</text><line style=\"stroke: #383838; stroke-width: 1.0;\" x1=\"258\" x2=\"277\" y1=\"119.3398\" y2=\"119.3398\"/><text fill=\"#000000\" font-family=\"sans-serif\" font-size=\"11\" lengthAdjust=\"spacingAndGlyphs\" textLength=\"30\" x=\"277\" y=\"122.6479\">ports</text><line style=\"stroke: #383838; stroke-width: 1.0;\" x1=\"307\" x2=\"326\" y1=\"119.3398\" y2=\"119.3398\"/></a><!--MD5=[ebbe1d658d1005bcc118a6aa81145e00]\n",
       "class E4--><a href=\"psysml:528ad082-e547-41e1-93e2-4f734da3b1f6\" target=\"_top\" title=\"psysml:528ad082-e547-41e1-93e2-4f734da3b1f6\" xlink:actuate=\"onRequest\" xlink:href=\"psysml:528ad082-e547-41e1-93e2-4f734da3b1f6\" xlink:show=\"new\" xlink:title=\"psysml:528ad082-e547-41e1-93e2-4f734da3b1f6\" xlink:type=\"simple\"><rect fill=\"#FFFFFF\" height=\"45.9375\" id=\"E4\" rx=\"10\" ry=\"10\" style=\"stroke: #383838; stroke-width: 1.5;\" width=\"50\" x=\"387\" y=\"90\"/><text fill=\"#000000\" font-family=\"sans-serif\" font-size=\"12\" font-style=\"italic\" lengthAdjust=\"spacingAndGlyphs\" textLength=\"40\" x=\"392\" y=\"106.1387\">«port»</text><text fill=\"#000000\" font-family=\"sans-serif\" font-size=\"12\" lengthAdjust=\"spacingAndGlyphs\" textLength=\"40\" x=\"390\" y=\"120.1074\">porig1</text><line style=\"stroke: #383838; stroke-width: 1.5;\" x1=\"388\" x2=\"436\" y1=\"127.9375\" y2=\"127.9375\"/></a><!--MD5=[270fce915f116d4de14055a7c1d9a0f3]\n",
       "class E5--><a href=\"psysml:73838eb5-9ecb-4193-8391-1ddf76ff61b3\" target=\"_top\" title=\"psysml:73838eb5-9ecb-4193-8391-1ddf76ff61b3\" xlink:actuate=\"onRequest\" xlink:href=\"psysml:73838eb5-9ecb-4193-8391-1ddf76ff61b3\" xlink:show=\"new\" xlink:title=\"psysml:73838eb5-9ecb-4193-8391-1ddf76ff61b3\" xlink:type=\"simple\"><rect fill=\"#FFFFFF\" height=\"45.9375\" id=\"E5\" rx=\"10\" ry=\"10\" style=\"stroke: #383838; stroke-width: 1.5;\" width=\"50\" x=\"89.5\" y=\"122\"/><text fill=\"#000000\" font-family=\"sans-serif\" font-size=\"12\" font-style=\"italic\" lengthAdjust=\"spacingAndGlyphs\" textLength=\"40\" x=\"94.5\" y=\"138.1387\">«part»</text><text fill=\"#000000\" font-family=\"sans-serif\" font-size=\"12\" lengthAdjust=\"spacingAndGlyphs\" textLength=\"40\" x=\"92.5\" y=\"152.1074\">p1: P1</text><line style=\"stroke: #383838; stroke-width: 1.5;\" x1=\"90.5\" x2=\"138.5\" y1=\"159.9375\" y2=\"159.9375\"/></a><!--MD5=[60a26617385b1d2d0262a64233df1f8d]\n",
       "class E6--><a href=\"psysml:6875339d-23d6-4973-8a77-102c2bf220f1\" target=\"_top\" title=\"psysml:6875339d-23d6-4973-8a77-102c2bf220f1\" xlink:actuate=\"onRequest\" xlink:href=\"psysml:6875339d-23d6-4973-8a77-102c2bf220f1\" xlink:show=\"new\" xlink:title=\"psysml:6875339d-23d6-4973-8a77-102c2bf220f1\" xlink:type=\"simple\"><rect fill=\"#FFFFFF\" height=\"45.9375\" id=\"E6\" rx=\"10\" ry=\"10\" style=\"stroke: #383838; stroke-width: 1.5;\" width=\"42\" x=\"271\" y=\"178\"/><text fill=\"#000000\" font-family=\"sans-serif\" font-size=\"12\" font-style=\"italic\" lengthAdjust=\"spacingAndGlyphs\" textLength=\"40\" x=\"272\" y=\"194.1387\">«port»</text><text fill=\"#000000\" font-family=\"sans-serif\" font-size=\"12\" lengthAdjust=\"spacingAndGlyphs\" textLength=\"24\" x=\"278\" y=\"208.1074\">po1</text><line style=\"stroke: #383838; stroke-width: 1.5;\" x1=\"272\" x2=\"312\" y1=\"215.9375\" y2=\"215.9375\"/></a><!--MD5=[2156ba9850f5573cc1fc38a6a4b2f02b]\n",
       "class E7--><a href=\"psysml:73d7b051-2240-4fe3-9278-fa0d634854f8\" target=\"_top\" title=\"psysml:73d7b051-2240-4fe3-9278-fa0d634854f8\" xlink:actuate=\"onRequest\" xlink:href=\"psysml:73d7b051-2240-4fe3-9278-fa0d634854f8\" xlink:show=\"new\" xlink:title=\"psysml:73d7b051-2240-4fe3-9278-fa0d634854f8\" xlink:type=\"simple\"><rect fill=\"#FFFFFF\" height=\"75.5469\" id=\"E7\" rx=\"10\" ry=\"10\" style=\"stroke: #383838; stroke-width: 1.5;\" width=\"50\" x=\"89.5\" y=\"203\"/><text fill=\"#000000\" font-family=\"sans-serif\" font-size=\"12\" font-style=\"italic\" lengthAdjust=\"spacingAndGlyphs\" textLength=\"40\" x=\"94.5\" y=\"219.1387\">«part»</text><text fill=\"#000000\" font-family=\"sans-serif\" font-size=\"12\" lengthAdjust=\"spacingAndGlyphs\" textLength=\"40\" x=\"92.5\" y=\"233.1074\">p2: P1</text><line style=\"stroke: #383838; stroke-width: 1.5;\" x1=\"90.5\" x2=\"138.5\" y1=\"240.9375\" y2=\"240.9375\"/><text fill=\"#000000\" font-family=\"sans-serif\" font-size=\"11\" lengthAdjust=\"spacingAndGlyphs\" textLength=\"32\" x=\"95.5\" y=\"271.9526\">pdest</text><line style=\"stroke: #383838; stroke-width: 1.0;\" x1=\"90.5\" x2=\"99.5\" y1=\"255.3398\" y2=\"255.3398\"/><text fill=\"#000000\" font-family=\"sans-serif\" font-size=\"11\" lengthAdjust=\"spacingAndGlyphs\" textLength=\"30\" x=\"99.5\" y=\"258.6479\">ports</text><line style=\"stroke: #383838; stroke-width: 1.0;\" x1=\"129.5\" x2=\"138.5\" y1=\"255.3398\" y2=\"255.3398\"/></a><!--MD5=[b9389687b975829384b498ac4b7476b2]\n",
       "class E8--><a href=\"psysml:6cb98d60-0ab8-42f0-badc-3a033a17e212\" target=\"_top\" title=\"psysml:6cb98d60-0ab8-42f0-badc-3a033a17e212\" xlink:actuate=\"onRequest\" xlink:href=\"psysml:6cb98d60-0ab8-42f0-badc-3a033a17e212\" xlink:show=\"new\" xlink:title=\"psysml:6cb98d60-0ab8-42f0-badc-3a033a17e212\" xlink:type=\"simple\"><rect fill=\"#FFFFFF\" height=\"45.9375\" id=\"E8\" rx=\"10\" ry=\"10\" style=\"stroke: #383838; stroke-width: 1.5;\" width=\"46\" x=\"389\" y=\"178\"/><text fill=\"#000000\" font-family=\"sans-serif\" font-size=\"12\" font-style=\"italic\" lengthAdjust=\"spacingAndGlyphs\" textLength=\"40\" x=\"392\" y=\"194.1387\">«port»</text><text fill=\"#000000\" font-family=\"sans-serif\" font-size=\"12\" lengthAdjust=\"spacingAndGlyphs\" textLength=\"36\" x=\"392\" y=\"208.1074\">pdest</text><line style=\"stroke: #383838; stroke-width: 1.5;\" x1=\"390\" x2=\"434\" y1=\"215.9375\" y2=\"215.9375\"/></a><!--MD5=[4672eba38e49728da53d11aeb285b987]\n",
       "reverse link E3 to E4--><a href=\"psysml:b408bcfe-af80-429f-8bb7-74524c32282e\" target=\"_top\" title=\"psysml:b408bcfe-af80-429f-8bb7-74524c32282e\" xlink:actuate=\"onRequest\" xlink:href=\"psysml:b408bcfe-af80-429f-8bb7-74524c32282e\" xlink:show=\"new\" xlink:title=\"psysml:b408bcfe-af80-429f-8bb7-74524c32282e\" xlink:type=\"simple\"><path d=\"M340.14,108.2 C356.09,109.28 373.25,110.44 386.68,111.35 \" fill=\"none\" id=\"E3&lt;-E4\" style=\"stroke: #383838; stroke-width: 1.0;\"/><polygon fill=\"#FFFFFF\" points=\"327.13,107.31,332.8436,111.7094,339.1021,108.1275,333.3886,103.728,327.13,107.31\" style=\"stroke: #383838; stroke-width: 1.0;\"/><text fill=\"#000000\" font-family=\"sans-serif\" font-size=\"13\" lengthAdjust=\"spacingAndGlyphs\" textLength=\"8\" x=\"371.1668\" y=\"124.941\">1</text></a><!--MD5=[e9be52314489bd878ff4c7144b63c9e1]\n",
       "link E5 to E3--><a href=\"psysml:de9d1539-3df1-480f-91a9-ed9f950b1f96\" target=\"_top\" title=\"psysml:de9d1539-3df1-480f-91a9-ed9f950b1f96\" xlink:actuate=\"onRequest\" xlink:href=\"psysml:de9d1539-3df1-480f-91a9-ed9f950b1f96\" xlink:show=\"new\" xlink:title=\"psysml:de9d1539-3df1-480f-91a9-ed9f950b1f96\" xlink:type=\"simple\"><path d=\"M139.53,139.52 C164.53,133.83 204.48,124.72 237.08,117.29 \" fill=\"none\" id=\"E5-&gt;E3\" style=\"stroke: #383838; stroke-width: 1.0;\"/><polygon fill=\"#FFFFFF\" points=\"256.72,112.81,239.7498,123.8559,236.6397,110.2057,256.72,112.81\" style=\"stroke: #383838; stroke-width: 1.0;\"/><ellipse cx=\"233.7479\" cy=\"123.1721\" fill=\"#383838\" rx=\"2\" ry=\"2\" style=\"stroke: #383838; stroke-width: 1.0;\"/><ellipse cx=\"231.5264\" cy=\"113.4219\" fill=\"#383838\" rx=\"2\" ry=\"2\" style=\"stroke: #383838; stroke-width: 1.0;\"/></a><!--MD5=[85d356282659285ab4b2cfe2f634dd2b]\n",
       "reverse link E5 to E6--><a href=\"psysml:1d973b34-aa26-4796-bb60-99a7b7743581\" target=\"_top\" title=\"psysml:1d973b34-aa26-4796-bb60-99a7b7743581\" xlink:actuate=\"onRequest\" xlink:href=\"psysml:1d973b34-aa26-4796-bb60-99a7b7743581\" xlink:show=\"new\" xlink:title=\"psysml:1d973b34-aa26-4796-bb60-99a7b7743581\" xlink:type=\"simple\"><path d=\"M151.93,156.62 C187.96,168.12 241.81,185.3 270.79,194.55 \" fill=\"none\" id=\"E5&lt;-E6\" style=\"stroke: #383838; stroke-width: 1.0;\"/><polygon fill=\"#FFFFFF\" points=\"139.53,152.67,144.0339,158.3016,150.9646,156.3101,146.4607,150.6785,139.53,152.67\" style=\"stroke: #383838; stroke-width: 1.0;\"/><text fill=\"#000000\" font-family=\"sans-serif\" font-size=\"13\" lengthAdjust=\"spacingAndGlyphs\" textLength=\"8\" x=\"255.0694\" y=\"206.9684\">1</text></a><!--MD5=[f667431f98296947986a1a7595a31603]\n",
       "link E6 to E4--><a href=\"psysml:73eeba8b-cad5-4501-9cd6-c52ba77489ee\" target=\"_top\" title=\"psysml:73eeba8b-cad5-4501-9cd6-c52ba77489ee\" xlink:actuate=\"onRequest\" xlink:href=\"psysml:73eeba8b-cad5-4501-9cd6-c52ba77489ee\" xlink:show=\"new\" xlink:title=\"psysml:73eeba8b-cad5-4501-9cd6-c52ba77489ee\" xlink:type=\"simple\"><path d=\"M313.02,186.07 C328.78,174.31 351.27,157.54 370.73,143.03 \" fill=\"none\" id=\"E6-&gt;E4\" style=\"stroke: #383838; stroke-width: 1.0;\"/><polygon fill=\"#FFFFFF\" points=\"386.8,131.05,375.7491,148.0169,367.3827,136.7918,386.8,131.05\" style=\"stroke: #383838; stroke-width: 1.0;\"/><line style=\"stroke: #383838; stroke-width: 2.0;\" x1=\"372.7022\" x2=\"364.3359\" y1=\"150.2878\" y2=\"139.0627\"/></a><!--MD5=[14ccda38c055a5c0da953d572bc50960]\n",
       "link E7 to E3--><a href=\"psysml:52eea9f8-f20f-41d5-8944-6f19cdd988b1\" target=\"_top\" title=\"psysml:52eea9f8-f20f-41d5-8944-6f19cdd988b1\" xlink:actuate=\"onRequest\" xlink:href=\"psysml:52eea9f8-f20f-41d5-8944-6f19cdd988b1\" xlink:show=\"new\" xlink:title=\"psysml:52eea9f8-f20f-41d5-8944-6f19cdd988b1\" xlink:type=\"simple\"><path d=\"M139.85,225.22 C156.3,214.33 178.33,199.3 197,185 C211.83,173.64 227.47,160.74 241.63,148.66 \" fill=\"none\" id=\"E7-&gt;E3\" style=\"stroke: #383838; stroke-width: 1.0;\"/><polygon fill=\"#FFFFFF\" points=\"256.89,135.51,247.0718,153.2188,237.9294,142.6161,256.89,135.51\" style=\"stroke: #383838; stroke-width: 1.0;\"/><ellipse cx=\"241.4489\" cy=\"155.4264\" fill=\"#383838\" rx=\"2\" ry=\"2\" style=\"stroke: #383838; stroke-width: 1.0;\"/><ellipse cx=\"234.9187\" cy=\"147.853\" fill=\"#383838\" rx=\"2\" ry=\"2\" style=\"stroke: #383838; stroke-width: 1.0;\"/></a><!--MD5=[dc164f5e8a733ab456ef1add180e9e34]\n",
       "reverse link E7 to E8--><a href=\"psysml:7dc24cb7-d6ba-40a4-b073-8d397bf1a7ae\" target=\"_top\" title=\"psysml:7dc24cb7-d6ba-40a4-b073-8d397bf1a7ae\" xlink:actuate=\"onRequest\" xlink:href=\"psysml:7dc24cb7-d6ba-40a4-b073-8d397bf1a7ae\" xlink:show=\"new\" xlink:title=\"psysml:7dc24cb7-d6ba-40a4-b073-8d397bf1a7ae\" xlink:type=\"simple\"><path d=\"M152.71,245.9 C195.39,250.4 267.18,254.52 327,241 C349.21,235.98 372.44,224.36 388.83,214.92 \" fill=\"none\" id=\"E7&lt;-E8\" style=\"stroke: #383838; stroke-width: 1.0;\"/><polygon fill=\"#FFFFFF\" points=\"139.67,244.42,145.1792,249.0728,151.593,245.777,146.0838,241.1242,139.67,244.42\" style=\"stroke: #383838; stroke-width: 1.0;\"/><text fill=\"#000000\" font-family=\"sans-serif\" font-size=\"13\" lengthAdjust=\"spacingAndGlyphs\" textLength=\"8\" x=\"372.8488\" y=\"233.3077\">1</text></a><!--MD5=[0a839d0f80c2d72d4b9b307f046d0de8]\n",
       "link E6 to E8--><a href=\"psysml:6785e7ae-ef30-46fa-a69d-d6daab2c7c15\" target=\"_top\" title=\"psysml:6785e7ae-ef30-46fa-a69d-d6daab2c7c15\" xlink:actuate=\"onRequest\" xlink:href=\"psysml:6785e7ae-ef30-46fa-a69d-d6daab2c7c15\" xlink:show=\"new\" xlink:title=\"psysml:6785e7ae-ef30-46fa-a69d-d6daab2c7c15\" xlink:type=\"simple\"><path d=\"M313.02,210.85 C334.06,214.59 367.07,214.71 388.87,211.21 \" fill=\"none\" id=\"E6-E8\" style=\"stroke: #383838; stroke-width: 3.0;\"/><text fill=\"#000000\" font-family=\"sans-serif\" font-size=\"13\" lengthAdjust=\"spacingAndGlyphs\" textLength=\"7\" x=\"374.0474\" y=\"209.1016\">*</text></a><!--MD5=[0a839d0f80c2d72d4b9b307f046d0de8]\n",
       "link E6 to E8--><a href=\"psysml:868c8138-312d-42c2-8f4f-f83047efce23\" target=\"_top\" title=\"psysml:868c8138-312d-42c2-8f4f-f83047efce23\" xlink:actuate=\"onRequest\" xlink:href=\"psysml:868c8138-312d-42c2-8f4f-f83047efce23\" xlink:show=\"new\" xlink:title=\"psysml:868c8138-312d-42c2-8f4f-f83047efce23\" xlink:type=\"simple\"><path d=\"M313.02,190.57 C334.06,186.61 367.07,186.48 388.87,190.19 \" fill=\"none\" id=\"E6-E8-1\" style=\"stroke: #383838; stroke-width: 3.0;\"/><text fill=\"#000000\" font-family=\"sans-serif\" font-size=\"13\" lengthAdjust=\"spacingAndGlyphs\" textLength=\"7\" x=\"374.0474\" y=\"181.907\">*</text></a><!--MD5=[7854d9e8af746abb22179dae6b5c94ea]\n",
       "@startuml\r\n",
       "left to right direction\r\n",
       "skinparam monochrome true\r\n",
       "skinparam classbackgroundcolor white\r\n",
       "skinparam shadowing false\r\n",
       "skinparam wrapWidth 300\r\n",
       "hide circle\r\n",
       "\r\n",
       "package \"AliasTest\" as E1  [[psysml:02b7e9b9-6677-468f-8dad-8ced33a218a4 ]]  {\r\n",
       "comp usage \"b :> ISQSpaceTime::width\" as E2  <<(T,blue) attribute>> [[psysml:c7feeda3-a834-41bb-a074-923ea0011430 ]] {\r\n",
       "}\r\n",
       "comp def \"P1\" as E3  <<(T,blue) part  def>> [[psysml:1a450028-471a-4a88-b6bb-254dda2007f7 ]] {\r\n",
       "- - ports - -\r\n",
       "porig1\r\n",
       "}\r\n",
       "comp usage \"porig1 \" as E4  <<(T,blue) port>> [[psysml:528ad082-e547-41e1-93e2-4f734da3b1f6 ]] {\r\n",
       "}\r\n",
       "comp usage \"p1: P1 \" as E5  <<(T,blue) part>> [[psysml:73838eb5-9ecb-4193-8391-1ddf76ff61b3 ]] {\r\n",
       "}\r\n",
       "comp usage \"po1 \" as E6  <<(T,blue) port>> [[psysml:6875339d-23d6-4973-8a77-102c2bf220f1 ]] {\r\n",
       "}\r\n",
       "comp usage \"p2: P1 \" as E7  <<(T,blue) part>> [[psysml:73d7b051-2240-4fe3-9278-fa0d634854f8 ]] {\r\n",
       "- - ports - -\r\n",
       "pdest\r\n",
       "}\r\n",
       "comp usage \"pdest \" as E8  <<(T,blue) port>> [[psysml:6cb98d60-0ab8-42f0-badc-3a033a17e212 ]] {\r\n",
       "}\r\n",
       "}\r\n",
       "E3 o- - \"1\"E4 [[psysml:b408bcfe-af80-429f-8bb7-74524c32282e ]] \r\n",
       "E5 - -:|> E3 [[psysml:de9d1539-3df1-480f-91a9-ed9f950b1f96 ]] \r\n",
       "E5 o- - \"1\"E6 [[psysml:1d973b34-aa26-4796-bb60-99a7b7743581 ]] \r\n",
       "E6 - -||> E4 [[psysml:73eeba8b-cad5-4501-9cd6-c52ba77489ee ]] \r\n",
       "E7 - -:|> E3 [[psysml:52eea9f8-f20f-41d5-8944-6f19cdd988b1 ]] \r\n",
       "E7 o- - \"1\"E8 [[psysml:7dc24cb7-d6ba-40a4-b073-8d397bf1a7ae ]] \r\n",
       "E6 -[thickness=3]- \"*\"E8 [[psysml:6785e7ae-ef30-46fa-a69d-d6daab2c7c15 ]] \r\n",
       "E6 -[thickness=3]- \"*\"E8 [[psysml:868c8138-312d-42c2-8f4f-f83047efce23 ]] \r\n",
       "@enduml\r\n",
       "\n",
       "PlantUML version 1.2020.13(Sat Jun 13 12:26:38 UTC 2020)\n",
       "(EPL source distribution)\n",
       "Java Runtime: OpenJDK Runtime Environment\n",
       "JVM: OpenJDK 64-Bit Server VM\n",
       "Default Encoding: UTF-8\n",
       "Language: en\n",
       "Country: null\n",
       "--></g></svg>"
      ]
     },
     "execution_count": 17,
     "metadata": {},
     "output_type": "execute_result"
    }
   ],
   "source": [
    "%viz --style=\"LR\" --view=\"Tree\" \"AliasTest\""
   ]
  },
  {
   "cell_type": "code",
   "execution_count": 18,
   "id": "a6ef1c67",
   "metadata": {
    "execution": {
     "iopub.execute_input": "2022-08-19T08:20:48.601972Z",
     "iopub.status.busy": "2022-08-19T08:20:48.601500Z",
     "iopub.status.idle": "2022-08-19T08:20:48.612374Z",
     "shell.execute_reply": "2022-08-19T08:20:48.612698Z"
    }
   },
   "outputs": [
    {
     "data": {
      "image/svg+xml": [
       "<?xml version=\"1.0\" encoding=\"UTF-8\" standalone=\"no\"?><svg xmlns=\"http://www.w3.org/2000/svg\" xmlns:xlink=\"http://www.w3.org/1999/xlink\" contentScriptType=\"application/ecmascript\" contentStyleType=\"text/css\" height=\"12px\" preserveAspectRatio=\"none\" style=\"width:12px;height:12px;\" version=\"1.1\" viewBox=\"0 0 12 12\" width=\"12px\" zoomAndPan=\"magnify\"><defs/><g><!--MD5=[19d285c9d72a204eba4e2cd117d745e8]\n",
       "@startuml\r\n",
       "left to right direction\r\n",
       "skinparam monochrome true\r\n",
       "skinparam classbackgroundcolor white\r\n",
       "skinparam shadowing false\r\n",
       "skinparam wrapWidth 300\r\n",
       "hide circle\r\n",
       "\r\n",
       "@enduml\r\n",
       "\n",
       "PlantUML version 1.2020.13(Sat Jun 13 12:26:38 UTC 2020)\n",
       "(EPL source distribution)\n",
       "Java Runtime: OpenJDK Runtime Environment\n",
       "JVM: OpenJDK 64-Bit Server VM\n",
       "Default Encoding: UTF-8\n",
       "Language: en\n",
       "Country: null\n",
       "--></g></svg>"
      ]
     },
     "execution_count": 18,
     "metadata": {},
     "output_type": "execute_result"
    }
   ],
   "source": [
    "%viz --style=\"LR\" --view=\"State\" \"AliasTest\""
   ]
  },
  {
   "cell_type": "code",
   "execution_count": 19,
   "id": "9c10e5c5",
   "metadata": {
    "execution": {
     "iopub.execute_input": "2022-08-19T08:20:48.663079Z",
     "iopub.status.busy": "2022-08-19T08:20:48.662608Z",
     "iopub.status.idle": "2022-08-19T08:20:48.711597Z",
     "shell.execute_reply": "2022-08-19T08:20:48.711183Z"
    }
   },
   "outputs": [
    {
     "data": {
      "image/svg+xml": [
       "<?xml version=\"1.0\" encoding=\"UTF-8\" standalone=\"no\"?><svg xmlns=\"http://www.w3.org/2000/svg\" xmlns:xlink=\"http://www.w3.org/1999/xlink\" contentScriptType=\"application/ecmascript\" contentStyleType=\"text/css\" height=\"280px\" preserveAspectRatio=\"none\" style=\"width:597px;height:280px;\" version=\"1.1\" viewBox=\"0 0 597 280\" width=\"597px\" zoomAndPan=\"magnify\"><defs/><g><!--MD5=[fbc87193dbaf4d95561dea2c320d4a47]\n",
       "cluster E1--><a href=\"psysml:02b7e9b9-6677-468f-8dad-8ced33a218a4\" target=\"_top\" title=\"psysml:02b7e9b9-6677-468f-8dad-8ced33a218a4\" xlink:actuate=\"onRequest\" xlink:href=\"psysml:02b7e9b9-6677-468f-8dad-8ced33a218a4\" xlink:show=\"new\" xlink:title=\"psysml:02b7e9b9-6677-468f-8dad-8ced33a218a4\" xlink:type=\"simple\"><polygon fill=\"#FFFFFF\" points=\"16,6,84,6,91,28.2969,575.86,28.2969,575.86,268,16,268,16,6\" style=\"stroke: #000000; stroke-width: 1.5;\"/><line style=\"stroke: #000000; stroke-width: 1.5;\" x1=\"16\" x2=\"91\" y1=\"28.2969\" y2=\"28.2969\"/><text fill=\"#000000\" font-family=\"sans-serif\" font-size=\"14\" font-weight=\"bold\" lengthAdjust=\"spacingAndGlyphs\" textLength=\"62\" x=\"20\" y=\"20.9951\">AliasTest</text></a><!--MD5=[d5e69f78d87373223dbae638b30a9c99]\n",
       "cluster E3--><a href=\"psysml:1a450028-471a-4a88-b6bb-254dda2007f7\" target=\"_top\" title=\"psysml:1a450028-471a-4a88-b6bb-254dda2007f7\" xlink:actuate=\"onRequest\" xlink:href=\"psysml:1a450028-471a-4a88-b6bb-254dda2007f7\" xlink:show=\"new\" xlink:title=\"psysml:1a450028-471a-4a88-b6bb-254dda2007f7\" xlink:type=\"simple\"><rect fill=\"#FFFFFF\" height=\"47\" id=\"E3\" style=\"stroke: #383838; stroke-width: 1.5;\" width=\"219.5\" x=\"332.36\" y=\"84\"/><rect fill=\"#F8F8F8\" height=\"37.9375\" style=\"stroke: #383838; stroke-width: 1.5;\" width=\"219.5\" x=\"332.36\" y=\"84\"/><text fill=\"#000000\" font-family=\"sans-serif\" font-size=\"12\" font-style=\"italic\" lengthAdjust=\"spacingAndGlyphs\" textLength=\"68\" x=\"408.11\" y=\"100.1387\">«part  def»</text><text fill=\"#000000\" font-family=\"sans-serif\" font-size=\"12\" lengthAdjust=\"spacingAndGlyphs\" textLength=\"16\" x=\"434.11\" y=\"114.1074\">P1</text></a><!--MD5=[14e3b0961a2654348d326746436168a1]\n",
       "cluster E6--><a href=\"psysml:73838eb5-9ecb-4193-8391-1ddf76ff61b3\" target=\"_top\" title=\"psysml:73838eb5-9ecb-4193-8391-1ddf76ff61b3\" xlink:actuate=\"onRequest\" xlink:href=\"psysml:73838eb5-9ecb-4193-8391-1ddf76ff61b3\" xlink:show=\"new\" xlink:title=\"psysml:73838eb5-9ecb-4193-8391-1ddf76ff61b3\" xlink:type=\"simple\"><rect fill=\"#FFFFFF\" height=\"54\" id=\"E6\" rx=\"10\" ry=\"10\" style=\"stroke: #383838; stroke-width: 1.5;\" width=\"195.86\" x=\"60\" y=\"122\"/><rect fill=\"#F8F8F8\" height=\"23.9688\" rx=\"10\" ry=\"10\" style=\"stroke: #F8F8F8; stroke-width: 1.5;\" width=\"195.86\" x=\"60\" y=\"122\"/><rect fill=\"#F8F8F8\" height=\"10\" style=\"stroke: #F8F8F8; stroke-width: 1.5;\" width=\"195.86\" x=\"60\" y=\"135.9688\"/><rect fill=\"none\" height=\"54\" id=\"E6\" rx=\"10\" ry=\"10\" style=\"stroke: #383838; stroke-width: 1.5;\" width=\"195.86\" x=\"60\" y=\"122\"/><text fill=\"#000000\" font-family=\"sans-serif\" font-size=\"12\" lengthAdjust=\"spacingAndGlyphs\" textLength=\"40\" x=\"137.93\" y=\"138.1387\">p1: P1</text><line style=\"stroke: #383838; stroke-width: 1.0;\" x1=\"60\" x2=\"255.86\" y1=\"145.9688\" y2=\"145.9688\"/></a><!--MD5=[55dfccfc6c49c2d10cd1bd2211a6c90c]\n",
       "cluster E8--><a href=\"psysml:73d7b051-2240-4fe3-9278-fa0d634854f8\" target=\"_top\" title=\"psysml:73d7b051-2240-4fe3-9278-fa0d634854f8\" xlink:actuate=\"onRequest\" xlink:href=\"psysml:73d7b051-2240-4fe3-9278-fa0d634854f8\" xlink:show=\"new\" xlink:title=\"psysml:73d7b051-2240-4fe3-9278-fa0d634854f8\" xlink:type=\"simple\"><rect fill=\"#FFFFFF\" height=\"47\" id=\"E8\" rx=\"10\" ry=\"10\" style=\"stroke: #383838; stroke-width: 1.5;\" width=\"133\" x=\"271.86\" y=\"183\"/><rect fill=\"#F8F8F8\" height=\"23.9688\" rx=\"10\" ry=\"10\" style=\"stroke: #F8F8F8; stroke-width: 1.5;\" width=\"133\" x=\"271.86\" y=\"183\"/><rect fill=\"#F8F8F8\" height=\"10\" style=\"stroke: #F8F8F8; stroke-width: 1.5;\" width=\"133\" x=\"271.86\" y=\"196.9688\"/><rect fill=\"none\" height=\"47\" id=\"E8\" rx=\"10\" ry=\"10\" style=\"stroke: #383838; stroke-width: 1.5;\" width=\"133\" x=\"271.86\" y=\"183\"/><text fill=\"#000000\" font-family=\"sans-serif\" font-size=\"12\" lengthAdjust=\"spacingAndGlyphs\" textLength=\"40\" x=\"318.36\" y=\"199.1387\">p2: P1</text><line style=\"stroke: #383838; stroke-width: 1.0;\" x1=\"271.86\" x2=\"404.86\" y1=\"206.9688\" y2=\"206.9688\"/></a><!--MD5=[b4997ac47864f28c2f74865a473b2911]\n",
       "class E2--><a href=\"psysml:c7feeda3-a834-41bb-a074-923ea0011430\" target=\"_top\" title=\"psysml:c7feeda3-a834-41bb-a074-923ea0011430\" xlink:actuate=\"onRequest\" xlink:href=\"psysml:c7feeda3-a834-41bb-a074-923ea0011430\" xlink:show=\"new\" xlink:title=\"psysml:c7feeda3-a834-41bb-a074-923ea0011430\" xlink:type=\"simple\"><rect fill=\"#FFFFFF\" height=\"45.9375\" id=\"E2\" rx=\"10\" ry=\"10\" style=\"stroke: #383838; stroke-width: 1.5;\" width=\"165\" x=\"32\" y=\"206\"/><text fill=\"#000000\" font-family=\"sans-serif\" font-size=\"12\" font-style=\"italic\" lengthAdjust=\"spacingAndGlyphs\" textLength=\"69\" x=\"80\" y=\"222.1387\">«attribute»</text><text fill=\"#000000\" font-family=\"sans-serif\" font-size=\"12\" lengthAdjust=\"spacingAndGlyphs\" textLength=\"159\" x=\"35\" y=\"236.1074\">b :&gt; ISQSpaceTime::width</text><line style=\"stroke: #383838; stroke-width: 1.5;\" x1=\"33\" x2=\"196\" y1=\"243.9375\" y2=\"243.9375\"/></a><text fill=\"#000000\" font-family=\"sans-serif\" font-size=\"14\" lengthAdjust=\"spacingAndGlyphs\" textLength=\"44\" x=\"326.36\" y=\"149.9951\">porig1</text><rect fill=\"#383838\" height=\"12\" style=\"stroke: #F8F8F8; stroke-width: 1.5;\" width=\"12\" x=\"344.36\" y=\"125\"/><text fill=\"#000000\" font-family=\"sans-serif\" font-size=\"14\" lengthAdjust=\"spacingAndGlyphs\" textLength=\"44\" x=\"326.36\" y=\"62.6982\">porig1</text><rect fill=\"#383838\" height=\"12\" style=\"stroke: #F8F8F8; stroke-width: 1.5;\" width=\"12\" x=\"344.36\" y=\"78\"/><text fill=\"#000000\" font-family=\"sans-serif\" font-size=\"14\" lengthAdjust=\"spacingAndGlyphs\" textLength=\"27\" x=\"222.36\" y=\"194.9951\">po1</text><rect fill=\"#383838\" height=\"12\" style=\"stroke: #F8F8F8; stroke-width: 1.5;\" width=\"12\" x=\"231.86\" y=\"170\"/><text fill=\"#000000\" font-family=\"sans-serif\" font-size=\"14\" lengthAdjust=\"spacingAndGlyphs\" textLength=\"40\" x=\"267.86\" y=\"248.9951\">pdest</text><rect fill=\"#383838\" height=\"12\" style=\"stroke: #F8F8F8; stroke-width: 1.5;\" width=\"12\" x=\"283.86\" y=\"224\"/><text fill=\"#000000\" font-family=\"sans-serif\" font-size=\"14\" lengthAdjust=\"spacingAndGlyphs\" textLength=\"40\" x=\"267.86\" y=\"161.6982\">pdest</text><rect fill=\"#383838\" height=\"12\" style=\"stroke: #F8F8F8; stroke-width: 1.5;\" width=\"12\" x=\"283.86\" y=\"177\"/><!--MD5=[a717450b82c80b9240a525fa862496af]\n",
       "link E6 to E3--><a href=\"psysml:de9d1539-3df1-480f-91a9-ed9f950b1f96\" target=\"_top\" title=\"psysml:de9d1539-3df1-480f-91a9-ed9f950b1f96\" xlink:actuate=\"onRequest\" xlink:href=\"psysml:de9d1539-3df1-480f-91a9-ed9f950b1f96\" xlink:show=\"new\" xlink:title=\"psysml:de9d1539-3df1-480f-91a9-ed9f950b1f96\" xlink:type=\"simple\"><path d=\"M133.168,121.9448 C133.2693,121.776 133.3709,121.6069 133.473,121.4374 C133.6771,121.0986 133.8829,120.7584 134.0903,120.4171 C134.505,119.7344 134.9263,119.0469 135.3541,118.3552 C142.1981,107.2866 150.6988,95.1131 160.6775,83.8013 C180.635,61.1775 206.505,42 236.86,42 C236.86,42 236.86,42 290.86,42 C345.3,42 361.91,33.81 412.86,53 C417.6125,54.79 422.3281,57.0056 426.9306,59.4997 C427.5059,59.8114 428.0795,60.1276 428.6511,60.4477 C428.9369,60.6078 429.2223,60.7689 429.5071,60.931 \" fill=\"none\" id=\"E6-&gt;E3\" style=\"stroke: #383838; stroke-width: 1.0;\"/><polygon fill=\"#FFFFFF\" points=\"429.5071,60.931,409.5315,57.6182,416.4554,45.4502,429.5071,60.931\" style=\"stroke: #383838; stroke-width: 1.0;\"/><ellipse cx=\"405.5665\" cy=\"53.0609\" fill=\"#383838\" rx=\"2\" ry=\"2\" style=\"stroke: #383838; stroke-width: 1.0;\"/><ellipse cx=\"410.5122\" cy=\"44.3695\" fill=\"#383838\" rx=\"2\" ry=\"2\" style=\"stroke: #383838; stroke-width: 1.0;\"/></a><!--MD5=[95fa686b5a16158bcdbcaeead89f639b]\n",
       "link E8 to E3--><a href=\"psysml:52eea9f8-f20f-41d5-8944-6f19cdd988b1\" target=\"_top\" title=\"psysml:52eea9f8-f20f-41d5-8944-6f19cdd988b1\" xlink:actuate=\"onRequest\" xlink:href=\"psysml:52eea9f8-f20f-41d5-8944-6f19cdd988b1\" xlink:show=\"new\" xlink:title=\"psysml:52eea9f8-f20f-41d5-8944-6f19cdd988b1\" xlink:type=\"simple\"><path d=\"M377.5682,182.8361 C377.7934,182.6629 378.0196,182.4889 378.2467,182.3142 C380.0639,180.9165 381.9425,179.4716 383.8725,177.9872 C391.5925,172.0494 400.135,165.4788 408.86,158.7675 C413.2225,155.4119 417.6306,152.0211 422.0044,148.6567 C423.0978,147.8156 424.1891,146.9761 425.277,146.1393 C425.549,145.9301 425.8207,145.721 426.0923,145.5121 C426.228,145.4077 426.3637,145.3033 426.4994,145.199 C426.5672,145.1468 426.635,145.0946 426.7028,145.0425 \" fill=\"none\" id=\"E8-&gt;E3\" style=\"stroke: #383838; stroke-width: 1.0;\"/><polygon fill=\"#FFFFFF\" points=\"426.7028,145.0425,415.911,162.1754,407.375,151.0788,426.7028,145.0425\" style=\"stroke: #383838; stroke-width: 1.0;\"/><ellipse cx=\"410.1737\" cy=\"164.0656\" fill=\"#383838\" rx=\"2\" ry=\"2\" style=\"stroke: #383838; stroke-width: 1.0;\"/><ellipse cx=\"404.0765\" cy=\"156.1394\" fill=\"#383838\" rx=\"2\" ry=\"2\" style=\"stroke: #383838; stroke-width: 1.0;\"/></a><!--MD5=[1c0b9414cc86e0744215edee6abd8926]\n",
       "link E7 to E9--><a href=\"psysml:6785e7ae-ef30-46fa-a69d-d6daab2c7c15\" target=\"_top\" title=\"psysml:6785e7ae-ef30-46fa-a69d-d6daab2c7c15\" xlink:actuate=\"onRequest\" xlink:href=\"psysml:6785e7ae-ef30-46fa-a69d-d6daab2c7c15\" xlink:show=\"new\" xlink:title=\"psysml:6785e7ae-ef30-46fa-a69d-d6daab2c7c15\" xlink:type=\"simple\"><path d=\"M240.3,182.21 C246.71,198.64 272.74,227.89 283.83,232.62 \" fill=\"none\" id=\"E7-E9\" style=\"stroke: #383838; stroke-width: 3.0;\"/><text fill=\"#000000\" font-family=\"sans-serif\" font-size=\"13\" lengthAdjust=\"spacingAndGlyphs\" textLength=\"7\" x=\"268.9677\" y=\"253.0907\">*</text></a><!--MD5=[1c0b9414cc86e0744215edee6abd8926]\n",
       "link E7 to E9--><a href=\"psysml:868c8138-312d-42c2-8f4f-f83047efce23\" target=\"_top\" title=\"psysml:868c8138-312d-42c2-8f4f-f83047efce23\" xlink:actuate=\"onRequest\" xlink:href=\"psysml:868c8138-312d-42c2-8f4f-f83047efce23\" xlink:show=\"new\" xlink:title=\"psysml:868c8138-312d-42c2-8f4f-f83047efce23\" xlink:type=\"simple\"><path d=\"M244.21,173.04 C255.5,177.78 281.22,206.85 287.47,223.66 \" fill=\"none\" id=\"E7-E9-1\" style=\"stroke: #383838; stroke-width: 3.0;\"/><text fill=\"#000000\" font-family=\"sans-serif\" font-size=\"13\" lengthAdjust=\"spacingAndGlyphs\" textLength=\"7\" x=\"277.1569\" y=\"212.9792\">*</text></a><!--MD5=[f440ad899be9bd38e3df314ab7cf53e1]\n",
       "@startuml\r\n",
       "skinparam ranksep 10\r\n",
       "skinparam rectangle {\r\n",
       " backgroundColor<<block>> LightGreen\r\n",
       "}\r\n",
       "left to right direction\r\n",
       "skinparam monochrome true\r\n",
       "skinparam classbackgroundcolor white\r\n",
       "skinparam shadowing false\r\n",
       "skinparam wrapWidth 300\r\n",
       "hide circle\r\n",
       "\r\n",
       "package \"AliasTest\" as E1  [[psysml:02b7e9b9-6677-468f-8dad-8ced33a218a4 ]]  {\r\n",
       "comp usage \"b :> ISQSpaceTime::width\" as E2  <<(T,blue) attribute>> [[psysml:c7feeda3-a834-41bb-a074-923ea0011430 ]] {\r\n",
       "}\r\n",
       "rec def \"P1\" as E3  <<(T,blue) part  def>> [[psysml:1a450028-471a-4a88-b6bb-254dda2007f7 ]] {\r\n",
       "portin \"porig1 \" as E4  <<(T,blue) port>> [[psysml:528ad082-e547-41e1-93e2-4f734da3b1f6 ]] \r\n",
       "portin \"porig1 \" as E5  <<(T,blue) port>> [[psysml:528ad082-e547-41e1-93e2-4f734da3b1f6 ]] \r\n",
       "}\r\n",
       "rec usage \"p1: P1\" as E6  [[psysml:73838eb5-9ecb-4193-8391-1ddf76ff61b3 ]] {\r\n",
       "portout \"po1 \" as E7  <<(T,blue) port>> [[psysml:6875339d-23d6-4973-8a77-102c2bf220f1 ]] \r\n",
       "}\r\n",
       "rec usage \"p2: P1\" as E8  [[psysml:73d7b051-2240-4fe3-9278-fa0d634854f8 ]] {\r\n",
       "portin \"pdest \" as E9  <<(T,blue) port>> [[psysml:6cb98d60-0ab8-42f0-badc-3a033a17e212 ]] \r\n",
       "portin \"pdest \" as E10  <<(T,blue) port>> [[psysml:6cb98d60-0ab8-42f0-badc-3a033a17e212 ]] \r\n",
       "}\r\n",
       "}\r\n",
       "E6 - -:|> E3 [[psysml:de9d1539-3df1-480f-91a9-ed9f950b1f96 ]] \r\n",
       "E8 - -:|> E3 [[psysml:52eea9f8-f20f-41d5-8944-6f19cdd988b1 ]] \r\n",
       "E7 -[thickness=3]- \"*\"E9 [[psysml:6785e7ae-ef30-46fa-a69d-d6daab2c7c15 ]] \r\n",
       "E7 -[thickness=3]- \"*\"E9 [[psysml:868c8138-312d-42c2-8f4f-f83047efce23 ]] \r\n",
       "@enduml\r\n",
       "\n",
       "PlantUML version 1.2020.13(Sat Jun 13 12:26:38 UTC 2020)\n",
       "(EPL source distribution)\n",
       "Java Runtime: OpenJDK Runtime Environment\n",
       "JVM: OpenJDK 64-Bit Server VM\n",
       "Default Encoding: UTF-8\n",
       "Language: en\n",
       "Country: null\n",
       "--></g></svg>"
      ]
     },
     "execution_count": 19,
     "metadata": {},
     "output_type": "execute_result"
    }
   ],
   "source": [
    "%viz --style=\"LR\" --view=\"Interconnection\" \"AliasTest\""
   ]
  },
  {
   "cell_type": "code",
   "execution_count": 20,
   "id": "0fa8b207",
   "metadata": {
    "execution": {
     "iopub.execute_input": "2022-08-19T08:20:48.761333Z",
     "iopub.status.busy": "2022-08-19T08:20:48.760861Z",
     "iopub.status.idle": "2022-08-19T08:20:48.772144Z",
     "shell.execute_reply": "2022-08-19T08:20:48.772512Z"
    }
   },
   "outputs": [
    {
     "data": {
      "image/svg+xml": [
       "<?xml version=\"1.0\" encoding=\"UTF-8\" standalone=\"no\"?><svg xmlns=\"http://www.w3.org/2000/svg\" xmlns:xlink=\"http://www.w3.org/1999/xlink\" contentScriptType=\"application/ecmascript\" contentStyleType=\"text/css\" height=\"12px\" preserveAspectRatio=\"none\" style=\"width:12px;height:12px;\" version=\"1.1\" viewBox=\"0 0 12 12\" width=\"12px\" zoomAndPan=\"magnify\"><defs/><g><!--MD5=[7aeb398939421629f6affaa4a1a7b125]\n",
       "@startuml\r\n",
       "skinparam ranksep 8\r\n",
       "left to right direction\r\n",
       "skinparam monochrome true\r\n",
       "skinparam classbackgroundcolor white\r\n",
       "skinparam shadowing false\r\n",
       "skinparam wrapWidth 300\r\n",
       "hide circle\r\n",
       "\r\n",
       "@enduml\r\n",
       "\n",
       "PlantUML version 1.2020.13(Sat Jun 13 12:26:38 UTC 2020)\n",
       "(EPL source distribution)\n",
       "Java Runtime: OpenJDK Runtime Environment\n",
       "JVM: OpenJDK 64-Bit Server VM\n",
       "Default Encoding: UTF-8\n",
       "Language: en\n",
       "Country: null\n",
       "--></g></svg>"
      ]
     },
     "execution_count": 20,
     "metadata": {},
     "output_type": "execute_result"
    }
   ],
   "source": [
    "%viz --style=\"LR\" --view=\"Action\" \"AliasTest\""
   ]
  },
  {
   "cell_type": "code",
   "execution_count": 21,
   "id": "4955f89d",
   "metadata": {
    "execution": {
     "iopub.execute_input": "2022-08-19T08:20:48.822459Z",
     "iopub.status.busy": "2022-08-19T08:20:48.821948Z",
     "iopub.status.idle": "2022-08-19T08:20:48.833022Z",
     "shell.execute_reply": "2022-08-19T08:20:48.833340Z"
    }
   },
   "outputs": [
    {
     "data": {
      "image/svg+xml": [
       "<?xml version=\"1.0\" encoding=\"UTF-8\" standalone=\"no\"?><svg xmlns=\"http://www.w3.org/2000/svg\" xmlns:xlink=\"http://www.w3.org/1999/xlink\" contentScriptType=\"application/ecmascript\" contentStyleType=\"text/css\" height=\"12px\" preserveAspectRatio=\"none\" style=\"width:12px;height:12px;\" version=\"1.1\" viewBox=\"0 0 12 12\" width=\"12px\" zoomAndPan=\"magnify\"><defs/><g><!--MD5=[238c11ea2002f03115ad6b49a457d50e]\n",
       "@startuml\r\n",
       "skinparam roundcorner 20\r\n",
       "skinparam BoxPadding 20\r\n",
       "skinparam SequenceBoxBackgroundColor #white\r\n",
       "skinparam style strictuml\r\n",
       "skinparam maxMessageSize 100\r\n",
       "left to right direction\r\n",
       "skinparam monochrome true\r\n",
       "skinparam classbackgroundcolor white\r\n",
       "skinparam shadowing false\r\n",
       "skinparam wrapWidth 300\r\n",
       "hide circle\r\n",
       "\r\n",
       "@enduml\r\n",
       "\n",
       "PlantUML version 1.2020.13(Sat Jun 13 12:26:38 UTC 2020)\n",
       "(EPL source distribution)\n",
       "Java Runtime: OpenJDK Runtime Environment\n",
       "JVM: OpenJDK 64-Bit Server VM\n",
       "Default Encoding: UTF-8\n",
       "Language: en\n",
       "Country: null\n",
       "--></g></svg>"
      ]
     },
     "execution_count": 21,
     "metadata": {},
     "output_type": "execute_result"
    }
   ],
   "source": [
    "%viz --style=\"LR\" --view=\"Sequence\" \"AliasTest\""
   ]
  },
  {
   "cell_type": "code",
   "execution_count": 22,
   "id": "5888c359",
   "metadata": {
    "execution": {
     "iopub.execute_input": "2022-08-19T08:20:48.883498Z",
     "iopub.status.busy": "2022-08-19T08:20:48.883054Z",
     "iopub.status.idle": "2022-08-19T08:20:48.951310Z",
     "shell.execute_reply": "2022-08-19T08:20:48.950844Z"
    }
   },
   "outputs": [
    {
     "data": {
      "image/svg+xml": [
       "<?xml version=\"1.0\" encoding=\"UTF-8\" standalone=\"no\"?><svg xmlns=\"http://www.w3.org/2000/svg\" xmlns:xlink=\"http://www.w3.org/1999/xlink\" contentScriptType=\"application/ecmascript\" contentStyleType=\"text/css\" height=\"307px\" preserveAspectRatio=\"none\" style=\"width:475px;height:307px;\" version=\"1.1\" viewBox=\"0 0 475 307\" width=\"475px\" zoomAndPan=\"magnify\"><defs/><g><!--MD5=[fbc87193dbaf4d95561dea2c320d4a47]\n",
       "cluster E1--><a href=\"psysml:02b7e9b9-6677-468f-8dad-8ced33a218a4\" target=\"_top\" title=\"psysml:02b7e9b9-6677-468f-8dad-8ced33a218a4\" xlink:actuate=\"onRequest\" xlink:href=\"psysml:02b7e9b9-6677-468f-8dad-8ced33a218a4\" xlink:show=\"new\" xlink:title=\"psysml:02b7e9b9-6677-468f-8dad-8ced33a218a4\" xlink:type=\"simple\"><polygon fill=\"#FFFFFF\" points=\"16,6,84,6,91,28.2969,453,28.2969,453,295,16,295,16,6\" style=\"stroke: #000000; stroke-width: 1.5;\"/><line style=\"stroke: #000000; stroke-width: 1.5;\" x1=\"16\" x2=\"91\" y1=\"28.2969\" y2=\"28.2969\"/><text fill=\"#000000\" font-family=\"sans-serif\" font-size=\"14\" font-weight=\"bold\" lengthAdjust=\"spacingAndGlyphs\" textLength=\"62\" x=\"20\" y=\"20.9951\">AliasTest</text></a><!--MD5=[b4997ac47864f28c2f74865a473b2911]\n",
       "class E2--><a href=\"psysml:c7feeda3-a834-41bb-a074-923ea0011430\" target=\"_top\" title=\"psysml:c7feeda3-a834-41bb-a074-923ea0011430\" xlink:actuate=\"onRequest\" xlink:href=\"psysml:c7feeda3-a834-41bb-a074-923ea0011430\" xlink:show=\"new\" xlink:title=\"psysml:c7feeda3-a834-41bb-a074-923ea0011430\" xlink:type=\"simple\"><rect fill=\"#FFFFFF\" height=\"45.9375\" id=\"E2\" rx=\"10\" ry=\"10\" style=\"stroke: #383838; stroke-width: 1.5;\" width=\"165\" x=\"32\" y=\"41\"/><text fill=\"#000000\" font-family=\"sans-serif\" font-size=\"12\" font-style=\"italic\" lengthAdjust=\"spacingAndGlyphs\" textLength=\"69\" x=\"80\" y=\"57.1387\">«attribute»</text><text fill=\"#000000\" font-family=\"sans-serif\" font-size=\"12\" lengthAdjust=\"spacingAndGlyphs\" textLength=\"159\" x=\"35\" y=\"71.1074\">b :&gt; ISQSpaceTime::width</text><line style=\"stroke: #383838; stroke-width: 1.5;\" x1=\"33\" x2=\"196\" y1=\"78.9375\" y2=\"78.9375\"/></a><!--MD5=[09b614a08d8cba4a07c9adeb5e0fee81]\n",
       "class E3--><a href=\"psysml:1a450028-471a-4a88-b6bb-254dda2007f7\" target=\"_top\" title=\"psysml:1a450028-471a-4a88-b6bb-254dda2007f7\" xlink:actuate=\"onRequest\" xlink:href=\"psysml:1a450028-471a-4a88-b6bb-254dda2007f7\" xlink:show=\"new\" xlink:title=\"psysml:1a450028-471a-4a88-b6bb-254dda2007f7\" xlink:type=\"simple\"><rect fill=\"#FFFFFF\" height=\"75.5469\" id=\"E3\" style=\"stroke: #383838; stroke-width: 1.5;\" width=\"70\" x=\"257\" y=\"67\"/><text fill=\"#000000\" font-family=\"sans-serif\" font-size=\"12\" font-style=\"italic\" lengthAdjust=\"spacingAndGlyphs\" textLength=\"68\" x=\"258\" y=\"83.1387\">«part  def»</text><text fill=\"#000000\" font-family=\"sans-serif\" font-size=\"12\" lengthAdjust=\"spacingAndGlyphs\" textLength=\"16\" x=\"284\" y=\"97.1074\">P1</text><line style=\"stroke: #383838; stroke-width: 1.5;\" x1=\"258\" x2=\"326\" y1=\"104.9375\" y2=\"104.9375\"/><text fill=\"#000000\" font-family=\"sans-serif\" font-size=\"11\" lengthAdjust=\"spacingAndGlyphs\" textLength=\"36\" x=\"263\" y=\"135.9526\">porig1</text><line style=\"stroke: #383838; stroke-width: 1.0;\" x1=\"258\" x2=\"277\" y1=\"119.3398\" y2=\"119.3398\"/><text fill=\"#000000\" font-family=\"sans-serif\" font-size=\"11\" lengthAdjust=\"spacingAndGlyphs\" textLength=\"30\" x=\"277\" y=\"122.6479\">ports</text><line style=\"stroke: #383838; stroke-width: 1.0;\" x1=\"307\" x2=\"326\" y1=\"119.3398\" y2=\"119.3398\"/></a><!--MD5=[ebbe1d658d1005bcc118a6aa81145e00]\n",
       "class E4--><a href=\"psysml:528ad082-e547-41e1-93e2-4f734da3b1f6\" target=\"_top\" title=\"psysml:528ad082-e547-41e1-93e2-4f734da3b1f6\" xlink:actuate=\"onRequest\" xlink:href=\"psysml:528ad082-e547-41e1-93e2-4f734da3b1f6\" xlink:show=\"new\" xlink:title=\"psysml:528ad082-e547-41e1-93e2-4f734da3b1f6\" xlink:type=\"simple\"><rect fill=\"#FFFFFF\" height=\"45.9375\" id=\"E4\" rx=\"10\" ry=\"10\" style=\"stroke: #383838; stroke-width: 1.5;\" width=\"50\" x=\"387\" y=\"90\"/><text fill=\"#000000\" font-family=\"sans-serif\" font-size=\"12\" font-style=\"italic\" lengthAdjust=\"spacingAndGlyphs\" textLength=\"40\" x=\"392\" y=\"106.1387\">«port»</text><text fill=\"#000000\" font-family=\"sans-serif\" font-size=\"12\" lengthAdjust=\"spacingAndGlyphs\" textLength=\"40\" x=\"390\" y=\"120.1074\">porig1</text><line style=\"stroke: #383838; stroke-width: 1.5;\" x1=\"388\" x2=\"436\" y1=\"127.9375\" y2=\"127.9375\"/></a><!--MD5=[270fce915f116d4de14055a7c1d9a0f3]\n",
       "class E5--><a href=\"psysml:73838eb5-9ecb-4193-8391-1ddf76ff61b3\" target=\"_top\" title=\"psysml:73838eb5-9ecb-4193-8391-1ddf76ff61b3\" xlink:actuate=\"onRequest\" xlink:href=\"psysml:73838eb5-9ecb-4193-8391-1ddf76ff61b3\" xlink:show=\"new\" xlink:title=\"psysml:73838eb5-9ecb-4193-8391-1ddf76ff61b3\" xlink:type=\"simple\"><rect fill=\"#FFFFFF\" height=\"45.9375\" id=\"E5\" rx=\"10\" ry=\"10\" style=\"stroke: #383838; stroke-width: 1.5;\" width=\"50\" x=\"89.5\" y=\"122\"/><text fill=\"#000000\" font-family=\"sans-serif\" font-size=\"12\" font-style=\"italic\" lengthAdjust=\"spacingAndGlyphs\" textLength=\"40\" x=\"94.5\" y=\"138.1387\">«part»</text><text fill=\"#000000\" font-family=\"sans-serif\" font-size=\"12\" lengthAdjust=\"spacingAndGlyphs\" textLength=\"40\" x=\"92.5\" y=\"152.1074\">p1: P1</text><line style=\"stroke: #383838; stroke-width: 1.5;\" x1=\"90.5\" x2=\"138.5\" y1=\"159.9375\" y2=\"159.9375\"/></a><!--MD5=[60a26617385b1d2d0262a64233df1f8d]\n",
       "class E6--><a href=\"psysml:6875339d-23d6-4973-8a77-102c2bf220f1\" target=\"_top\" title=\"psysml:6875339d-23d6-4973-8a77-102c2bf220f1\" xlink:actuate=\"onRequest\" xlink:href=\"psysml:6875339d-23d6-4973-8a77-102c2bf220f1\" xlink:show=\"new\" xlink:title=\"psysml:6875339d-23d6-4973-8a77-102c2bf220f1\" xlink:type=\"simple\"><rect fill=\"#FFFFFF\" height=\"45.9375\" id=\"E6\" rx=\"10\" ry=\"10\" style=\"stroke: #383838; stroke-width: 1.5;\" width=\"42\" x=\"271\" y=\"178\"/><text fill=\"#000000\" font-family=\"sans-serif\" font-size=\"12\" font-style=\"italic\" lengthAdjust=\"spacingAndGlyphs\" textLength=\"40\" x=\"272\" y=\"194.1387\">«port»</text><text fill=\"#000000\" font-family=\"sans-serif\" font-size=\"12\" lengthAdjust=\"spacingAndGlyphs\" textLength=\"24\" x=\"278\" y=\"208.1074\">po1</text><line style=\"stroke: #383838; stroke-width: 1.5;\" x1=\"272\" x2=\"312\" y1=\"215.9375\" y2=\"215.9375\"/></a><!--MD5=[2156ba9850f5573cc1fc38a6a4b2f02b]\n",
       "class E7--><a href=\"psysml:73d7b051-2240-4fe3-9278-fa0d634854f8\" target=\"_top\" title=\"psysml:73d7b051-2240-4fe3-9278-fa0d634854f8\" xlink:actuate=\"onRequest\" xlink:href=\"psysml:73d7b051-2240-4fe3-9278-fa0d634854f8\" xlink:show=\"new\" xlink:title=\"psysml:73d7b051-2240-4fe3-9278-fa0d634854f8\" xlink:type=\"simple\"><rect fill=\"#FFFFFF\" height=\"75.5469\" id=\"E7\" rx=\"10\" ry=\"10\" style=\"stroke: #383838; stroke-width: 1.5;\" width=\"50\" x=\"89.5\" y=\"203\"/><text fill=\"#000000\" font-family=\"sans-serif\" font-size=\"12\" font-style=\"italic\" lengthAdjust=\"spacingAndGlyphs\" textLength=\"40\" x=\"94.5\" y=\"219.1387\">«part»</text><text fill=\"#000000\" font-family=\"sans-serif\" font-size=\"12\" lengthAdjust=\"spacingAndGlyphs\" textLength=\"40\" x=\"92.5\" y=\"233.1074\">p2: P1</text><line style=\"stroke: #383838; stroke-width: 1.5;\" x1=\"90.5\" x2=\"138.5\" y1=\"240.9375\" y2=\"240.9375\"/><text fill=\"#000000\" font-family=\"sans-serif\" font-size=\"11\" lengthAdjust=\"spacingAndGlyphs\" textLength=\"32\" x=\"95.5\" y=\"271.9526\">pdest</text><line style=\"stroke: #383838; stroke-width: 1.0;\" x1=\"90.5\" x2=\"99.5\" y1=\"255.3398\" y2=\"255.3398\"/><text fill=\"#000000\" font-family=\"sans-serif\" font-size=\"11\" lengthAdjust=\"spacingAndGlyphs\" textLength=\"30\" x=\"99.5\" y=\"258.6479\">ports</text><line style=\"stroke: #383838; stroke-width: 1.0;\" x1=\"129.5\" x2=\"138.5\" y1=\"255.3398\" y2=\"255.3398\"/></a><!--MD5=[b9389687b975829384b498ac4b7476b2]\n",
       "class E8--><a href=\"psysml:6cb98d60-0ab8-42f0-badc-3a033a17e212\" target=\"_top\" title=\"psysml:6cb98d60-0ab8-42f0-badc-3a033a17e212\" xlink:actuate=\"onRequest\" xlink:href=\"psysml:6cb98d60-0ab8-42f0-badc-3a033a17e212\" xlink:show=\"new\" xlink:title=\"psysml:6cb98d60-0ab8-42f0-badc-3a033a17e212\" xlink:type=\"simple\"><rect fill=\"#FFFFFF\" height=\"45.9375\" id=\"E8\" rx=\"10\" ry=\"10\" style=\"stroke: #383838; stroke-width: 1.5;\" width=\"46\" x=\"389\" y=\"178\"/><text fill=\"#000000\" font-family=\"sans-serif\" font-size=\"12\" font-style=\"italic\" lengthAdjust=\"spacingAndGlyphs\" textLength=\"40\" x=\"392\" y=\"194.1387\">«port»</text><text fill=\"#000000\" font-family=\"sans-serif\" font-size=\"12\" lengthAdjust=\"spacingAndGlyphs\" textLength=\"36\" x=\"392\" y=\"208.1074\">pdest</text><line style=\"stroke: #383838; stroke-width: 1.5;\" x1=\"390\" x2=\"434\" y1=\"215.9375\" y2=\"215.9375\"/></a><!--MD5=[4672eba38e49728da53d11aeb285b987]\n",
       "reverse link E3 to E4--><a href=\"psysml:b408bcfe-af80-429f-8bb7-74524c32282e\" target=\"_top\" title=\"psysml:b408bcfe-af80-429f-8bb7-74524c32282e\" xlink:actuate=\"onRequest\" xlink:href=\"psysml:b408bcfe-af80-429f-8bb7-74524c32282e\" xlink:show=\"new\" xlink:title=\"psysml:b408bcfe-af80-429f-8bb7-74524c32282e\" xlink:type=\"simple\"><path d=\"M340.14,108.2 C356.09,109.28 373.25,110.44 386.68,111.35 \" fill=\"none\" id=\"E3&lt;-E4\" style=\"stroke: #383838; stroke-width: 1.0;\"/><polygon fill=\"#FFFFFF\" points=\"327.13,107.31,332.8436,111.7094,339.1021,108.1275,333.3886,103.728,327.13,107.31\" style=\"stroke: #383838; stroke-width: 1.0;\"/><text fill=\"#000000\" font-family=\"sans-serif\" font-size=\"13\" lengthAdjust=\"spacingAndGlyphs\" textLength=\"8\" x=\"371.1668\" y=\"124.941\">1</text></a><!--MD5=[e9be52314489bd878ff4c7144b63c9e1]\n",
       "link E5 to E3--><a href=\"psysml:de9d1539-3df1-480f-91a9-ed9f950b1f96\" target=\"_top\" title=\"psysml:de9d1539-3df1-480f-91a9-ed9f950b1f96\" xlink:actuate=\"onRequest\" xlink:href=\"psysml:de9d1539-3df1-480f-91a9-ed9f950b1f96\" xlink:show=\"new\" xlink:title=\"psysml:de9d1539-3df1-480f-91a9-ed9f950b1f96\" xlink:type=\"simple\"><path d=\"M139.53,139.52 C164.53,133.83 204.48,124.72 237.08,117.29 \" fill=\"none\" id=\"E5-&gt;E3\" style=\"stroke: #383838; stroke-width: 1.0;\"/><polygon fill=\"#FFFFFF\" points=\"256.72,112.81,239.7498,123.8559,236.6397,110.2057,256.72,112.81\" style=\"stroke: #383838; stroke-width: 1.0;\"/><ellipse cx=\"233.7479\" cy=\"123.1721\" fill=\"#383838\" rx=\"2\" ry=\"2\" style=\"stroke: #383838; stroke-width: 1.0;\"/><ellipse cx=\"231.5264\" cy=\"113.4219\" fill=\"#383838\" rx=\"2\" ry=\"2\" style=\"stroke: #383838; stroke-width: 1.0;\"/></a><!--MD5=[85d356282659285ab4b2cfe2f634dd2b]\n",
       "reverse link E5 to E6--><a href=\"psysml:1d973b34-aa26-4796-bb60-99a7b7743581\" target=\"_top\" title=\"psysml:1d973b34-aa26-4796-bb60-99a7b7743581\" xlink:actuate=\"onRequest\" xlink:href=\"psysml:1d973b34-aa26-4796-bb60-99a7b7743581\" xlink:show=\"new\" xlink:title=\"psysml:1d973b34-aa26-4796-bb60-99a7b7743581\" xlink:type=\"simple\"><path d=\"M151.93,156.62 C187.96,168.12 241.81,185.3 270.79,194.55 \" fill=\"none\" id=\"E5&lt;-E6\" style=\"stroke: #383838; stroke-width: 1.0;\"/><polygon fill=\"#FFFFFF\" points=\"139.53,152.67,144.0339,158.3016,150.9646,156.3101,146.4607,150.6785,139.53,152.67\" style=\"stroke: #383838; stroke-width: 1.0;\"/><text fill=\"#000000\" font-family=\"sans-serif\" font-size=\"13\" lengthAdjust=\"spacingAndGlyphs\" textLength=\"8\" x=\"255.0694\" y=\"206.9684\">1</text></a><!--MD5=[f667431f98296947986a1a7595a31603]\n",
       "link E6 to E4--><a href=\"psysml:73eeba8b-cad5-4501-9cd6-c52ba77489ee\" target=\"_top\" title=\"psysml:73eeba8b-cad5-4501-9cd6-c52ba77489ee\" xlink:actuate=\"onRequest\" xlink:href=\"psysml:73eeba8b-cad5-4501-9cd6-c52ba77489ee\" xlink:show=\"new\" xlink:title=\"psysml:73eeba8b-cad5-4501-9cd6-c52ba77489ee\" xlink:type=\"simple\"><path d=\"M313.02,186.07 C328.78,174.31 351.27,157.54 370.73,143.03 \" fill=\"none\" id=\"E6-&gt;E4\" style=\"stroke: #383838; stroke-width: 1.0;\"/><polygon fill=\"#FFFFFF\" points=\"386.8,131.05,375.7491,148.0169,367.3827,136.7918,386.8,131.05\" style=\"stroke: #383838; stroke-width: 1.0;\"/><line style=\"stroke: #383838; stroke-width: 2.0;\" x1=\"372.7022\" x2=\"364.3359\" y1=\"150.2878\" y2=\"139.0627\"/></a><!--MD5=[14ccda38c055a5c0da953d572bc50960]\n",
       "link E7 to E3--><a href=\"psysml:52eea9f8-f20f-41d5-8944-6f19cdd988b1\" target=\"_top\" title=\"psysml:52eea9f8-f20f-41d5-8944-6f19cdd988b1\" xlink:actuate=\"onRequest\" xlink:href=\"psysml:52eea9f8-f20f-41d5-8944-6f19cdd988b1\" xlink:show=\"new\" xlink:title=\"psysml:52eea9f8-f20f-41d5-8944-6f19cdd988b1\" xlink:type=\"simple\"><path d=\"M139.85,225.22 C156.3,214.33 178.33,199.3 197,185 C211.83,173.64 227.47,160.74 241.63,148.66 \" fill=\"none\" id=\"E7-&gt;E3\" style=\"stroke: #383838; stroke-width: 1.0;\"/><polygon fill=\"#FFFFFF\" points=\"256.89,135.51,247.0718,153.2188,237.9294,142.6161,256.89,135.51\" style=\"stroke: #383838; stroke-width: 1.0;\"/><ellipse cx=\"241.4489\" cy=\"155.4264\" fill=\"#383838\" rx=\"2\" ry=\"2\" style=\"stroke: #383838; stroke-width: 1.0;\"/><ellipse cx=\"234.9187\" cy=\"147.853\" fill=\"#383838\" rx=\"2\" ry=\"2\" style=\"stroke: #383838; stroke-width: 1.0;\"/></a><!--MD5=[dc164f5e8a733ab456ef1add180e9e34]\n",
       "reverse link E7 to E8--><a href=\"psysml:7dc24cb7-d6ba-40a4-b073-8d397bf1a7ae\" target=\"_top\" title=\"psysml:7dc24cb7-d6ba-40a4-b073-8d397bf1a7ae\" xlink:actuate=\"onRequest\" xlink:href=\"psysml:7dc24cb7-d6ba-40a4-b073-8d397bf1a7ae\" xlink:show=\"new\" xlink:title=\"psysml:7dc24cb7-d6ba-40a4-b073-8d397bf1a7ae\" xlink:type=\"simple\"><path d=\"M152.71,245.9 C195.39,250.4 267.18,254.52 327,241 C349.21,235.98 372.44,224.36 388.83,214.92 \" fill=\"none\" id=\"E7&lt;-E8\" style=\"stroke: #383838; stroke-width: 1.0;\"/><polygon fill=\"#FFFFFF\" points=\"139.67,244.42,145.1792,249.0728,151.593,245.777,146.0838,241.1242,139.67,244.42\" style=\"stroke: #383838; stroke-width: 1.0;\"/><text fill=\"#000000\" font-family=\"sans-serif\" font-size=\"13\" lengthAdjust=\"spacingAndGlyphs\" textLength=\"8\" x=\"372.8488\" y=\"233.3077\">1</text></a><!--MD5=[0a839d0f80c2d72d4b9b307f046d0de8]\n",
       "link E6 to E8--><a href=\"psysml:6785e7ae-ef30-46fa-a69d-d6daab2c7c15\" target=\"_top\" title=\"psysml:6785e7ae-ef30-46fa-a69d-d6daab2c7c15\" xlink:actuate=\"onRequest\" xlink:href=\"psysml:6785e7ae-ef30-46fa-a69d-d6daab2c7c15\" xlink:show=\"new\" xlink:title=\"psysml:6785e7ae-ef30-46fa-a69d-d6daab2c7c15\" xlink:type=\"simple\"><path d=\"M313.02,210.85 C334.06,214.59 367.07,214.71 388.87,211.21 \" fill=\"none\" id=\"E6-E8\" style=\"stroke: #383838; stroke-width: 3.0;\"/><text fill=\"#000000\" font-family=\"sans-serif\" font-size=\"13\" lengthAdjust=\"spacingAndGlyphs\" textLength=\"7\" x=\"374.0474\" y=\"209.1016\">*</text></a><!--MD5=[0a839d0f80c2d72d4b9b307f046d0de8]\n",
       "link E6 to E8--><a href=\"psysml:868c8138-312d-42c2-8f4f-f83047efce23\" target=\"_top\" title=\"psysml:868c8138-312d-42c2-8f4f-f83047efce23\" xlink:actuate=\"onRequest\" xlink:href=\"psysml:868c8138-312d-42c2-8f4f-f83047efce23\" xlink:show=\"new\" xlink:title=\"psysml:868c8138-312d-42c2-8f4f-f83047efce23\" xlink:type=\"simple\"><path d=\"M313.02,190.57 C334.06,186.61 367.07,186.48 388.87,190.19 \" fill=\"none\" id=\"E6-E8-1\" style=\"stroke: #383838; stroke-width: 3.0;\"/><text fill=\"#000000\" font-family=\"sans-serif\" font-size=\"13\" lengthAdjust=\"spacingAndGlyphs\" textLength=\"7\" x=\"374.0474\" y=\"181.907\">*</text></a><!--MD5=[7854d9e8af746abb22179dae6b5c94ea]\n",
       "@startuml\r\n",
       "left to right direction\r\n",
       "skinparam monochrome true\r\n",
       "skinparam classbackgroundcolor white\r\n",
       "skinparam shadowing false\r\n",
       "skinparam wrapWidth 300\r\n",
       "hide circle\r\n",
       "\r\n",
       "package \"AliasTest\" as E1  [[psysml:02b7e9b9-6677-468f-8dad-8ced33a218a4 ]]  {\r\n",
       "comp usage \"b :> ISQSpaceTime::width\" as E2  <<(T,blue) attribute>> [[psysml:c7feeda3-a834-41bb-a074-923ea0011430 ]] {\r\n",
       "}\r\n",
       "comp def \"P1\" as E3  <<(T,blue) part  def>> [[psysml:1a450028-471a-4a88-b6bb-254dda2007f7 ]] {\r\n",
       "- - ports - -\r\n",
       "porig1\r\n",
       "}\r\n",
       "comp usage \"porig1 \" as E4  <<(T,blue) port>> [[psysml:528ad082-e547-41e1-93e2-4f734da3b1f6 ]] {\r\n",
       "}\r\n",
       "comp usage \"p1: P1 \" as E5  <<(T,blue) part>> [[psysml:73838eb5-9ecb-4193-8391-1ddf76ff61b3 ]] {\r\n",
       "}\r\n",
       "comp usage \"po1 \" as E6  <<(T,blue) port>> [[psysml:6875339d-23d6-4973-8a77-102c2bf220f1 ]] {\r\n",
       "}\r\n",
       "comp usage \"p2: P1 \" as E7  <<(T,blue) part>> [[psysml:73d7b051-2240-4fe3-9278-fa0d634854f8 ]] {\r\n",
       "- - ports - -\r\n",
       "pdest\r\n",
       "}\r\n",
       "comp usage \"pdest \" as E8  <<(T,blue) port>> [[psysml:6cb98d60-0ab8-42f0-badc-3a033a17e212 ]] {\r\n",
       "}\r\n",
       "}\r\n",
       "E3 o- - \"1\"E4 [[psysml:b408bcfe-af80-429f-8bb7-74524c32282e ]] \r\n",
       "E5 - -:|> E3 [[psysml:de9d1539-3df1-480f-91a9-ed9f950b1f96 ]] \r\n",
       "E5 o- - \"1\"E6 [[psysml:1d973b34-aa26-4796-bb60-99a7b7743581 ]] \r\n",
       "E6 - -||> E4 [[psysml:73eeba8b-cad5-4501-9cd6-c52ba77489ee ]] \r\n",
       "E7 - -:|> E3 [[psysml:52eea9f8-f20f-41d5-8944-6f19cdd988b1 ]] \r\n",
       "E7 o- - \"1\"E8 [[psysml:7dc24cb7-d6ba-40a4-b073-8d397bf1a7ae ]] \r\n",
       "E6 -[thickness=3]- \"*\"E8 [[psysml:6785e7ae-ef30-46fa-a69d-d6daab2c7c15 ]] \r\n",
       "E6 -[thickness=3]- \"*\"E8 [[psysml:868c8138-312d-42c2-8f4f-f83047efce23 ]] \r\n",
       "@enduml\r\n",
       "\n",
       "PlantUML version 1.2020.13(Sat Jun 13 12:26:38 UTC 2020)\n",
       "(EPL source distribution)\n",
       "Java Runtime: OpenJDK Runtime Environment\n",
       "JVM: OpenJDK 64-Bit Server VM\n",
       "Default Encoding: UTF-8\n",
       "Language: en\n",
       "Country: null\n",
       "--></g></svg>"
      ]
     },
     "execution_count": 22,
     "metadata": {},
     "output_type": "execute_result"
    }
   ],
   "source": [
    "%viz --style=\"LR\" --view=\"MIXED\" \"AliasTest\""
   ]
  },
  {
   "cell_type": "code",
   "execution_count": 23,
   "id": "67c9bff2",
   "metadata": {
    "execution": {
     "iopub.execute_input": "2022-08-19T08:20:49.000770Z",
     "iopub.status.busy": "2022-08-19T08:20:49.000327Z",
     "iopub.status.idle": "2022-08-19T08:20:49.067498Z",
     "shell.execute_reply": "2022-08-19T08:20:49.067084Z"
    }
   },
   "outputs": [
    {
     "data": {
      "image/svg+xml": [
       "<?xml version=\"1.0\" encoding=\"UTF-8\" standalone=\"no\"?><svg xmlns=\"http://www.w3.org/2000/svg\" xmlns:xlink=\"http://www.w3.org/1999/xlink\" contentScriptType=\"application/ecmascript\" contentStyleType=\"text/css\" height=\"387px\" preserveAspectRatio=\"none\" style=\"width:406px;height:387px;\" version=\"1.1\" viewBox=\"0 0 406 387\" width=\"406px\" zoomAndPan=\"magnify\"><defs><filter height=\"300%\" id=\"fgmkcrl1wrf0m\" width=\"300%\" x=\"-1\" y=\"-1\"><feGaussianBlur result=\"blurOut\" stdDeviation=\"2.0\"/><feColorMatrix in=\"blurOut\" result=\"blurOut2\" type=\"matrix\" values=\"0 0 0 0 0 0 0 0 0 0 0 0 0 0 0 0 0 0 .4 0\"/><feOffset dx=\"4.0\" dy=\"4.0\" in=\"blurOut2\" result=\"blurOut3\"/><feBlend in=\"SourceGraphic\" in2=\"blurOut3\" mode=\"normal\"/></filter></defs><g><!--MD5=[fbc87193dbaf4d95561dea2c320d4a47]\n",
       "cluster E1--><a href=\"psysml:02b7e9b9-6677-468f-8dad-8ced33a218a4\" target=\"_top\" title=\"psysml:02b7e9b9-6677-468f-8dad-8ced33a218a4\" xlink:actuate=\"onRequest\" xlink:href=\"psysml:02b7e9b9-6677-468f-8dad-8ced33a218a4\" xlink:show=\"new\" xlink:title=\"psysml:02b7e9b9-6677-468f-8dad-8ced33a218a4\" xlink:type=\"simple\"><polygon fill=\"#FFFFFF\" filter=\"url(#fgmkcrl1wrf0m)\" points=\"16,6,84,6,91,28.2969,384,28.2969,384,375,16,375,16,6\" style=\"stroke: #000000; stroke-width: 1.5;\"/><line style=\"stroke: #000000; stroke-width: 1.5;\" x1=\"16\" x2=\"91\" y1=\"28.2969\" y2=\"28.2969\"/><text fill=\"#000000\" font-family=\"sans-serif\" font-size=\"14\" font-weight=\"bold\" lengthAdjust=\"spacingAndGlyphs\" textLength=\"62\" x=\"20\" y=\"20.9951\">AliasTest</text></a><!--MD5=[b4997ac47864f28c2f74865a473b2911]\n",
       "class E2--><a href=\"psysml:c7feeda3-a834-41bb-a074-923ea0011430\" target=\"_top\" title=\"psysml:c7feeda3-a834-41bb-a074-923ea0011430\" xlink:actuate=\"onRequest\" xlink:href=\"psysml:c7feeda3-a834-41bb-a074-923ea0011430\" xlink:show=\"new\" xlink:title=\"psysml:c7feeda3-a834-41bb-a074-923ea0011430\" xlink:type=\"simple\"><rect fill=\"#FEFECE\" filter=\"url(#fgmkcrl1wrf0m)\" height=\"45.9375\" id=\"E2\" rx=\"10\" ry=\"10\" style=\"stroke: #A80036; stroke-width: 1.5;\" width=\"165\" x=\"202.5\" y=\"56\"/><text fill=\"#000000\" font-family=\"sans-serif\" font-size=\"12\" font-style=\"italic\" lengthAdjust=\"spacingAndGlyphs\" textLength=\"69\" x=\"250.5\" y=\"72.1387\">«attribute»</text><text fill=\"#000000\" font-family=\"sans-serif\" font-size=\"12\" lengthAdjust=\"spacingAndGlyphs\" textLength=\"159\" x=\"205.5\" y=\"86.1074\">b :&gt; ISQSpaceTime::width</text><line style=\"stroke: #A80036; stroke-width: 1.5;\" x1=\"203.5\" x2=\"366.5\" y1=\"93.9375\" y2=\"93.9375\"/></a><!--MD5=[09b614a08d8cba4a07c9adeb5e0fee81]\n",
       "class E3--><a href=\"psysml:1a450028-471a-4a88-b6bb-254dda2007f7\" target=\"_top\" title=\"psysml:1a450028-471a-4a88-b6bb-254dda2007f7\" xlink:actuate=\"onRequest\" xlink:href=\"psysml:1a450028-471a-4a88-b6bb-254dda2007f7\" xlink:show=\"new\" xlink:title=\"psysml:1a450028-471a-4a88-b6bb-254dda2007f7\" xlink:type=\"simple\"><rect fill=\"#FEFECE\" filter=\"url(#fgmkcrl1wrf0m)\" height=\"75.5469\" id=\"E3\" style=\"stroke: #A80036; stroke-width: 1.5;\" width=\"70\" x=\"158\" y=\"177\"/><text fill=\"#000000\" font-family=\"sans-serif\" font-size=\"12\" font-style=\"italic\" lengthAdjust=\"spacingAndGlyphs\" textLength=\"68\" x=\"159\" y=\"193.1387\">«part  def»</text><text fill=\"#000000\" font-family=\"sans-serif\" font-size=\"12\" lengthAdjust=\"spacingAndGlyphs\" textLength=\"16\" x=\"185\" y=\"207.1074\">P1</text><line style=\"stroke: #A80036; stroke-width: 1.5;\" x1=\"159\" x2=\"227\" y1=\"214.9375\" y2=\"214.9375\"/><text fill=\"#000000\" font-family=\"sans-serif\" font-size=\"11\" lengthAdjust=\"spacingAndGlyphs\" textLength=\"36\" x=\"164\" y=\"245.9526\">porig1</text><line style=\"stroke: #A80036; stroke-width: 1.0;\" x1=\"159\" x2=\"178\" y1=\"229.3398\" y2=\"229.3398\"/><text fill=\"#000000\" font-family=\"sans-serif\" font-size=\"11\" lengthAdjust=\"spacingAndGlyphs\" textLength=\"30\" x=\"178\" y=\"232.6479\">ports</text><line style=\"stroke: #A80036; stroke-width: 1.0;\" x1=\"208\" x2=\"227\" y1=\"229.3398\" y2=\"229.3398\"/></a><!--MD5=[ebbe1d658d1005bcc118a6aa81145e00]\n",
       "class E4--><a href=\"psysml:528ad082-e547-41e1-93e2-4f734da3b1f6\" target=\"_top\" title=\"psysml:528ad082-e547-41e1-93e2-4f734da3b1f6\" xlink:actuate=\"onRequest\" xlink:href=\"psysml:528ad082-e547-41e1-93e2-4f734da3b1f6\" xlink:show=\"new\" xlink:title=\"psysml:528ad082-e547-41e1-93e2-4f734da3b1f6\" xlink:type=\"simple\"><rect fill=\"#FEFECE\" filter=\"url(#fgmkcrl1wrf0m)\" height=\"45.9375\" id=\"E4\" rx=\"10\" ry=\"10\" style=\"stroke: #A80036; stroke-width: 1.5;\" width=\"50\" x=\"164\" y=\"313\"/><text fill=\"#000000\" font-family=\"sans-serif\" font-size=\"12\" font-style=\"italic\" lengthAdjust=\"spacingAndGlyphs\" textLength=\"40\" x=\"169\" y=\"329.1387\">«port»</text><text fill=\"#000000\" font-family=\"sans-serif\" font-size=\"12\" lengthAdjust=\"spacingAndGlyphs\" textLength=\"40\" x=\"167\" y=\"343.1074\">porig1</text><line style=\"stroke: #A80036; stroke-width: 1.5;\" x1=\"165\" x2=\"213\" y1=\"350.9375\" y2=\"350.9375\"/></a><!--MD5=[270fce915f116d4de14055a7c1d9a0f3]\n",
       "class E5--><a href=\"psysml:73838eb5-9ecb-4193-8391-1ddf76ff61b3\" target=\"_top\" title=\"psysml:73838eb5-9ecb-4193-8391-1ddf76ff61b3\" xlink:actuate=\"onRequest\" xlink:href=\"psysml:73838eb5-9ecb-4193-8391-1ddf76ff61b3\" xlink:show=\"new\" xlink:title=\"psysml:73838eb5-9ecb-4193-8391-1ddf76ff61b3\" xlink:type=\"simple\"><rect fill=\"#FEFECE\" filter=\"url(#fgmkcrl1wrf0m)\" height=\"45.9375\" id=\"E5\" rx=\"10\" ry=\"10\" style=\"stroke: #A80036; stroke-width: 1.5;\" width=\"50\" x=\"117\" y=\"56\"/><text fill=\"#000000\" font-family=\"sans-serif\" font-size=\"12\" font-style=\"italic\" lengthAdjust=\"spacingAndGlyphs\" textLength=\"40\" x=\"122\" y=\"72.1387\">«part»</text><text fill=\"#000000\" font-family=\"sans-serif\" font-size=\"12\" lengthAdjust=\"spacingAndGlyphs\" textLength=\"40\" x=\"120\" y=\"86.1074\">p1: P1</text><line style=\"stroke: #A80036; stroke-width: 1.5;\" x1=\"118\" x2=\"166\" y1=\"93.9375\" y2=\"93.9375\"/></a><!--MD5=[60a26617385b1d2d0262a64233df1f8d]\n",
       "class E6--><a href=\"psysml:6875339d-23d6-4973-8a77-102c2bf220f1\" target=\"_top\" title=\"psysml:6875339d-23d6-4973-8a77-102c2bf220f1\" xlink:actuate=\"onRequest\" xlink:href=\"psysml:6875339d-23d6-4973-8a77-102c2bf220f1\" xlink:show=\"new\" xlink:title=\"psysml:6875339d-23d6-4973-8a77-102c2bf220f1\" xlink:type=\"simple\"><rect fill=\"#FEFECE\" filter=\"url(#fgmkcrl1wrf0m)\" height=\"45.9375\" id=\"E6\" rx=\"10\" ry=\"10\" style=\"stroke: #A80036; stroke-width: 1.5;\" width=\"42\" x=\"81\" y=\"192\"/><text fill=\"#000000\" font-family=\"sans-serif\" font-size=\"12\" font-style=\"italic\" lengthAdjust=\"spacingAndGlyphs\" textLength=\"40\" x=\"82\" y=\"208.1387\">«port»</text><text fill=\"#000000\" font-family=\"sans-serif\" font-size=\"12\" lengthAdjust=\"spacingAndGlyphs\" textLength=\"24\" x=\"88\" y=\"222.1074\">po1</text><line style=\"stroke: #A80036; stroke-width: 1.5;\" x1=\"82\" x2=\"122\" y1=\"229.9375\" y2=\"229.9375\"/></a><!--MD5=[2156ba9850f5573cc1fc38a6a4b2f02b]\n",
       "class E7--><a href=\"psysml:73d7b051-2240-4fe3-9278-fa0d634854f8\" target=\"_top\" title=\"psysml:73d7b051-2240-4fe3-9278-fa0d634854f8\" xlink:actuate=\"onRequest\" xlink:href=\"psysml:73d7b051-2240-4fe3-9278-fa0d634854f8\" xlink:show=\"new\" xlink:title=\"psysml:73d7b051-2240-4fe3-9278-fa0d634854f8\" xlink:type=\"simple\"><rect fill=\"#FEFECE\" filter=\"url(#fgmkcrl1wrf0m)\" height=\"75.5469\" id=\"E7\" rx=\"10\" ry=\"10\" style=\"stroke: #A80036; stroke-width: 1.5;\" width=\"50\" x=\"32\" y=\"41\"/><text fill=\"#000000\" font-family=\"sans-serif\" font-size=\"12\" font-style=\"italic\" lengthAdjust=\"spacingAndGlyphs\" textLength=\"40\" x=\"37\" y=\"57.1387\">«part»</text><text fill=\"#000000\" font-family=\"sans-serif\" font-size=\"12\" lengthAdjust=\"spacingAndGlyphs\" textLength=\"40\" x=\"35\" y=\"71.1074\">p2: P1</text><line style=\"stroke: #A80036; stroke-width: 1.5;\" x1=\"33\" x2=\"81\" y1=\"78.9375\" y2=\"78.9375\"/><text fill=\"#000000\" font-family=\"sans-serif\" font-size=\"11\" lengthAdjust=\"spacingAndGlyphs\" textLength=\"32\" x=\"38\" y=\"109.9526\">pdest</text><line style=\"stroke: #A80036; stroke-width: 1.0;\" x1=\"33\" x2=\"42\" y1=\"93.3398\" y2=\"93.3398\"/><text fill=\"#000000\" font-family=\"sans-serif\" font-size=\"11\" lengthAdjust=\"spacingAndGlyphs\" textLength=\"30\" x=\"42\" y=\"96.6479\">ports</text><line style=\"stroke: #A80036; stroke-width: 1.0;\" x1=\"72\" x2=\"81\" y1=\"93.3398\" y2=\"93.3398\"/></a><!--MD5=[b9389687b975829384b498ac4b7476b2]\n",
       "class E8--><a href=\"psysml:6cb98d60-0ab8-42f0-badc-3a033a17e212\" target=\"_top\" title=\"psysml:6cb98d60-0ab8-42f0-badc-3a033a17e212\" xlink:actuate=\"onRequest\" xlink:href=\"psysml:6cb98d60-0ab8-42f0-badc-3a033a17e212\" xlink:show=\"new\" xlink:title=\"psysml:6cb98d60-0ab8-42f0-badc-3a033a17e212\" xlink:type=\"simple\"><rect fill=\"#FEFECE\" filter=\"url(#fgmkcrl1wrf0m)\" height=\"45.9375\" id=\"E8\" rx=\"10\" ry=\"10\" style=\"stroke: #A80036; stroke-width: 1.5;\" width=\"46\" x=\"79\" y=\"313\"/><text fill=\"#000000\" font-family=\"sans-serif\" font-size=\"12\" font-style=\"italic\" lengthAdjust=\"spacingAndGlyphs\" textLength=\"40\" x=\"82\" y=\"329.1387\">«port»</text><text fill=\"#000000\" font-family=\"sans-serif\" font-size=\"12\" lengthAdjust=\"spacingAndGlyphs\" textLength=\"36\" x=\"82\" y=\"343.1074\">pdest</text><line style=\"stroke: #A80036; stroke-width: 1.5;\" x1=\"80\" x2=\"124\" y1=\"350.9375\" y2=\"350.9375\"/></a><!--MD5=[4672eba38e49728da53d11aeb285b987]\n",
       "reverse link E3 to E4--><a href=\"psysml:b408bcfe-af80-429f-8bb7-74524c32282e\" target=\"_top\" title=\"psysml:b408bcfe-af80-429f-8bb7-74524c32282e\" xlink:actuate=\"onRequest\" xlink:href=\"psysml:b408bcfe-af80-429f-8bb7-74524c32282e\" xlink:show=\"new\" xlink:title=\"psysml:b408bcfe-af80-429f-8bb7-74524c32282e\" xlink:type=\"simple\"><path d=\"M191.31,266.34 C190.76,282.61 190.18,299.81 189.74,312.93 \" fill=\"none\" id=\"E3&lt;-E4\" style=\"stroke: #A80036; stroke-width: 1.0;\"/><polygon fill=\"#FFFFFF\" points=\"191.76,253,187.558,258.8603,191.3514,264.993,195.5534,259.1327,191.76,253\" style=\"stroke: #A80036; stroke-width: 1.0;\"/><text fill=\"#000000\" font-family=\"sans-serif\" font-size=\"13\" lengthAdjust=\"spacingAndGlyphs\" textLength=\"8\" x=\"180.8639\" y=\"301.8075\">1</text></a><!--MD5=[e9be52314489bd878ff4c7144b63c9e1]\n",
       "link E5 to E3--><a href=\"psysml:de9d1539-3df1-480f-91a9-ed9f950b1f96\" target=\"_top\" title=\"psysml:de9d1539-3df1-480f-91a9-ed9f950b1f96\" xlink:actuate=\"onRequest\" xlink:href=\"psysml:de9d1539-3df1-480f-91a9-ed9f950b1f96\" xlink:show=\"new\" xlink:title=\"psysml:de9d1539-3df1-480f-91a9-ed9f950b1f96\" xlink:type=\"simple\"><path d=\"M150.42,102.13 C156.21,117.35 164.18,138.29 171.66,157.93 \" fill=\"none\" id=\"E5-&gt;E3\" style=\"stroke: #A80036; stroke-width: 1.0;\"/><polygon fill=\"#FFFFFF\" points=\"178.88,176.89,165.5815,161.6208,178.6665,156.6427,178.88,176.89\" style=\"stroke: #A80036; stroke-width: 1.0;\"/><ellipse cx=\"165.424\" cy=\"155.5821\" fill=\"#A80036\" rx=\"2\" ry=\"2\" style=\"stroke: #A80036; stroke-width: 1.0;\"/><ellipse cx=\"174.7704\" cy=\"152.0263\" fill=\"#A80036\" rx=\"2\" ry=\"2\" style=\"stroke: #A80036; stroke-width: 1.0;\"/></a><!--MD5=[85d356282659285ab4b2cfe2f634dd2b]\n",
       "reverse link E5 to E6--><a href=\"psysml:1d973b34-aa26-4796-bb60-99a7b7743581\" target=\"_top\" title=\"psysml:1d973b34-aa26-4796-bb60-99a7b7743581\" xlink:actuate=\"onRequest\" xlink:href=\"psysml:1d973b34-aa26-4796-bb60-99a7b7743581\" xlink:show=\"new\" xlink:title=\"psysml:1d973b34-aa26-4796-bb60-99a7b7743581\" xlink:type=\"simple\"><path d=\"M131.62,114.76 C124.36,139.1 114.87,170.88 108.61,191.84 \" fill=\"none\" id=\"E5&lt;-E6\" style=\"stroke: #A80036; stroke-width: 1.0;\"/><polygon fill=\"#FFFFFF\" points=\"135.39,102.13,129.8375,106.7311,131.9491,113.6261,137.5016,109.025,135.39,102.13\" style=\"stroke: #A80036; stroke-width: 1.0;\"/><text fill=\"#000000\" font-family=\"sans-serif\" font-size=\"13\" lengthAdjust=\"spacingAndGlyphs\" textLength=\"8\" x=\"101.2788\" y=\"181.0753\">1</text></a><!--MD5=[f667431f98296947986a1a7595a31603]\n",
       "link E6 to E4--><a href=\"psysml:73eeba8b-cad5-4501-9cd6-c52ba77489ee\" target=\"_top\" title=\"psysml:73eeba8b-cad5-4501-9cd6-c52ba77489ee\" xlink:actuate=\"onRequest\" xlink:href=\"psysml:73eeba8b-cad5-4501-9cd6-c52ba77489ee\" xlink:show=\"new\" xlink:title=\"psysml:73eeba8b-cad5-4501-9cd6-c52ba77489ee\" xlink:type=\"simple\"><path d=\"M118.16,238.1 C130.11,254.45 146.69,277.12 160.8,296.43 \" fill=\"none\" id=\"E6-&gt;E4\" style=\"stroke: #A80036; stroke-width: 1.0;\"/><polygon fill=\"#FFFFFF\" points=\"172.63,312.61,155.76,301.4117,167.0576,293.1434,172.63,312.61\" style=\"stroke: #A80036; stroke-width: 1.0;\"/><line style=\"stroke: #A80036; stroke-width: 2.0;\" x1=\"153.5158\" x2=\"164.8134\" y1=\"298.3452\" y2=\"290.0769\"/></a><!--MD5=[14ccda38c055a5c0da953d572bc50960]\n",
       "link E7 to E3--><a href=\"psysml:52eea9f8-f20f-41d5-8944-6f19cdd988b1\" target=\"_top\" title=\"psysml:52eea9f8-f20f-41d5-8944-6f19cdd988b1\" xlink:actuate=\"onRequest\" xlink:href=\"psysml:52eea9f8-f20f-41d5-8944-6f19cdd988b1\" xlink:show=\"new\" xlink:title=\"psysml:52eea9f8-f20f-41d5-8944-6f19cdd988b1\" xlink:type=\"simple\"><path d=\"M82.26,104.89 C99.38,121.76 122.59,144.62 143.33,165.06 \" fill=\"none\" id=\"E7-&gt;E3\" style=\"stroke: #A80036; stroke-width: 1.0;\"/><polygon fill=\"#FFFFFF\" points=\"157.88,179.39,139.4314,171.0443,149.2556,161.0701,157.88,179.39\" style=\"stroke: #A80036; stroke-width: 1.0;\"/><ellipse cx=\"136.774\" cy=\"165.6196\" fill=\"#A80036\" rx=\"2\" ry=\"2\" style=\"stroke: #A80036; stroke-width: 1.0;\"/><ellipse cx=\"143.7912\" cy=\"158.4951\" fill=\"#A80036\" rx=\"2\" ry=\"2\" style=\"stroke: #A80036; stroke-width: 1.0;\"/></a><!--MD5=[dc164f5e8a733ab456ef1add180e9e34]\n",
       "reverse link E7 to E8--><a href=\"psysml:7dc24cb7-d6ba-40a4-b073-8d397bf1a7ae\" target=\"_top\" title=\"psysml:7dc24cb7-d6ba-40a4-b073-8d397bf1a7ae\" xlink:actuate=\"onRequest\" xlink:href=\"psysml:7dc24cb7-d6ba-40a4-b073-8d397bf1a7ae\" xlink:show=\"new\" xlink:title=\"psysml:7dc24cb7-d6ba-40a4-b073-8d397bf1a7ae\" xlink:type=\"simple\"><path d=\"M53.89,130.23 C52.97,165.15 54.21,212.5 64,253 C69.16,274.35 80.04,296.87 88.84,312.9 \" fill=\"none\" id=\"E7&lt;-E8\" style=\"stroke: #A80036; stroke-width: 1.0;\"/><polygon fill=\"#FFFFFF\" points=\"54.36,117.03,50.1514,122.8856,53.9378,129.0226,58.1464,123.167,54.36,117.03\" style=\"stroke: #A80036; stroke-width: 1.0;\"/><text fill=\"#000000\" font-family=\"sans-serif\" font-size=\"13\" lengthAdjust=\"spacingAndGlyphs\" textLength=\"8\" x=\"86.3783\" y=\"301.7694\">1</text></a><!--MD5=[0a839d0f80c2d72d4b9b307f046d0de8]\n",
       "link E6 to E8--><a href=\"psysml:6785e7ae-ef30-46fa-a69d-d6daab2c7c15\" target=\"_top\" title=\"psysml:6785e7ae-ef30-46fa-a69d-d6daab2c7c15\" xlink:actuate=\"onRequest\" xlink:href=\"psysml:6785e7ae-ef30-46fa-a69d-d6daab2c7c15\" xlink:show=\"new\" xlink:title=\"psysml:6785e7ae-ef30-46fa-a69d-d6daab2c7c15\" xlink:type=\"simple\"><path d=\"M91.82,238.1 C88.41,259.34 88.39,291.28 91.78,312.61 \" fill=\"none\" id=\"E6-E8\" style=\"stroke: #A80036; stroke-width: 3.0;\"/><text fill=\"#000000\" font-family=\"sans-serif\" font-size=\"13\" lengthAdjust=\"spacingAndGlyphs\" textLength=\"7\" x=\"81.2643\" y=\"301.7864\">*</text></a><!--MD5=[0a839d0f80c2d72d4b9b307f046d0de8]\n",
       "link E6 to E8--><a href=\"psysml:868c8138-312d-42c2-8f4f-f83047efce23\" target=\"_top\" title=\"psysml:868c8138-312d-42c2-8f4f-f83047efce23\" xlink:actuate=\"onRequest\" xlink:href=\"psysml:868c8138-312d-42c2-8f4f-f83047efce23\" xlink:show=\"new\" xlink:title=\"psysml:868c8138-312d-42c2-8f4f-f83047efce23\" xlink:type=\"simple\"><path d=\"M112.78,238.1 C116.39,259.34 116.41,291.28 112.82,312.61 \" fill=\"none\" id=\"E6-E8-1\" style=\"stroke: #A80036; stroke-width: 3.0;\"/><text fill=\"#000000\" font-family=\"sans-serif\" font-size=\"13\" lengthAdjust=\"spacingAndGlyphs\" textLength=\"7\" x=\"107.6957\" y=\"301.7864\">*</text></a><!--MD5=[bae727adcc9329e81e61fd88fa504602]\n",
       "@startuml\r\n",
       "skinparam wrapWidth 300\r\n",
       "hide circle\r\n",
       "\r\n",
       "package \"AliasTest\" as E1  [[psysml:02b7e9b9-6677-468f-8dad-8ced33a218a4 ]]  {\r\n",
       "comp usage \"b :> ISQSpaceTime::width\" as E2  <<(T,blue) attribute>> [[psysml:c7feeda3-a834-41bb-a074-923ea0011430 ]] {\r\n",
       "}\r\n",
       "comp def \"P1\" as E3  <<(T,blue) part  def>> [[psysml:1a450028-471a-4a88-b6bb-254dda2007f7 ]] {\r\n",
       "- - ports - -\r\n",
       "porig1\r\n",
       "}\r\n",
       "comp usage \"porig1 \" as E4  <<(T,blue) port>> [[psysml:528ad082-e547-41e1-93e2-4f734da3b1f6 ]] {\r\n",
       "}\r\n",
       "comp usage \"p1: P1 \" as E5  <<(T,blue) part>> [[psysml:73838eb5-9ecb-4193-8391-1ddf76ff61b3 ]] {\r\n",
       "}\r\n",
       "comp usage \"po1 \" as E6  <<(T,blue) port>> [[psysml:6875339d-23d6-4973-8a77-102c2bf220f1 ]] {\r\n",
       "}\r\n",
       "comp usage \"p2: P1 \" as E7  <<(T,blue) part>> [[psysml:73d7b051-2240-4fe3-9278-fa0d634854f8 ]] {\r\n",
       "- - ports - -\r\n",
       "pdest\r\n",
       "}\r\n",
       "comp usage \"pdest \" as E8  <<(T,blue) port>> [[psysml:6cb98d60-0ab8-42f0-badc-3a033a17e212 ]] {\r\n",
       "}\r\n",
       "}\r\n",
       "E3 o- - \"1\"E4 [[psysml:b408bcfe-af80-429f-8bb7-74524c32282e ]] \r\n",
       "E5 - -:|> E3 [[psysml:de9d1539-3df1-480f-91a9-ed9f950b1f96 ]] \r\n",
       "E5 o- - \"1\"E6 [[psysml:1d973b34-aa26-4796-bb60-99a7b7743581 ]] \r\n",
       "E6 - -||> E4 [[psysml:73eeba8b-cad5-4501-9cd6-c52ba77489ee ]] \r\n",
       "E7 - -:|> E3 [[psysml:52eea9f8-f20f-41d5-8944-6f19cdd988b1 ]] \r\n",
       "E7 o- - \"1\"E8 [[psysml:7dc24cb7-d6ba-40a4-b073-8d397bf1a7ae ]] \r\n",
       "E6 -[thickness=3]- \"*\"E8 [[psysml:6785e7ae-ef30-46fa-a69d-d6daab2c7c15 ]] \r\n",
       "E6 -[thickness=3]- \"*\"E8 [[psysml:868c8138-312d-42c2-8f4f-f83047efce23 ]] \r\n",
       "@enduml\r\n",
       "\n",
       "PlantUML version 1.2020.13(Sat Jun 13 12:26:38 UTC 2020)\n",
       "(EPL source distribution)\n",
       "Java Runtime: OpenJDK Runtime Environment\n",
       "JVM: OpenJDK 64-Bit Server VM\n",
       "Default Encoding: UTF-8\n",
       "Language: en\n",
       "Country: null\n",
       "--></g></svg>"
      ]
     },
     "execution_count": 23,
     "metadata": {},
     "output_type": "execute_result"
    }
   ],
   "source": [
    "%viz --style=\"STDCOLOR\" --view=\"Default\" \"AliasTest\""
   ]
  },
  {
   "cell_type": "code",
   "execution_count": 24,
   "id": "fa23f012",
   "metadata": {
    "execution": {
     "iopub.execute_input": "2022-08-19T08:20:49.116957Z",
     "iopub.status.busy": "2022-08-19T08:20:49.116512Z",
     "iopub.status.idle": "2022-08-19T08:20:49.194085Z",
     "shell.execute_reply": "2022-08-19T08:20:49.192530Z"
    }
   },
   "outputs": [
    {
     "data": {
      "image/svg+xml": [
       "<?xml version=\"1.0\" encoding=\"UTF-8\" standalone=\"no\"?><svg xmlns=\"http://www.w3.org/2000/svg\" xmlns:xlink=\"http://www.w3.org/1999/xlink\" contentScriptType=\"application/ecmascript\" contentStyleType=\"text/css\" height=\"387px\" preserveAspectRatio=\"none\" style=\"width:406px;height:387px;\" version=\"1.1\" viewBox=\"0 0 406 387\" width=\"406px\" zoomAndPan=\"magnify\"><defs><filter height=\"300%\" id=\"fgmkcrl1wrf0m\" width=\"300%\" x=\"-1\" y=\"-1\"><feGaussianBlur result=\"blurOut\" stdDeviation=\"2.0\"/><feColorMatrix in=\"blurOut\" result=\"blurOut2\" type=\"matrix\" values=\"0 0 0 0 0 0 0 0 0 0 0 0 0 0 0 0 0 0 .4 0\"/><feOffset dx=\"4.0\" dy=\"4.0\" in=\"blurOut2\" result=\"blurOut3\"/><feBlend in=\"SourceGraphic\" in2=\"blurOut3\" mode=\"normal\"/></filter></defs><g><!--MD5=[fbc87193dbaf4d95561dea2c320d4a47]\n",
       "cluster E1--><a href=\"psysml:02b7e9b9-6677-468f-8dad-8ced33a218a4\" target=\"_top\" title=\"psysml:02b7e9b9-6677-468f-8dad-8ced33a218a4\" xlink:actuate=\"onRequest\" xlink:href=\"psysml:02b7e9b9-6677-468f-8dad-8ced33a218a4\" xlink:show=\"new\" xlink:title=\"psysml:02b7e9b9-6677-468f-8dad-8ced33a218a4\" xlink:type=\"simple\"><polygon fill=\"#FFFFFF\" filter=\"url(#fgmkcrl1wrf0m)\" points=\"16,6,84,6,91,28.2969,384,28.2969,384,375,16,375,16,6\" style=\"stroke: #000000; stroke-width: 1.5;\"/><line style=\"stroke: #000000; stroke-width: 1.5;\" x1=\"16\" x2=\"91\" y1=\"28.2969\" y2=\"28.2969\"/><text fill=\"#000000\" font-family=\"sans-serif\" font-size=\"14\" font-weight=\"bold\" lengthAdjust=\"spacingAndGlyphs\" textLength=\"62\" x=\"20\" y=\"20.9951\">AliasTest</text></a><!--MD5=[b4997ac47864f28c2f74865a473b2911]\n",
       "class E2--><a href=\"psysml:c7feeda3-a834-41bb-a074-923ea0011430\" target=\"_top\" title=\"psysml:c7feeda3-a834-41bb-a074-923ea0011430\" xlink:actuate=\"onRequest\" xlink:href=\"psysml:c7feeda3-a834-41bb-a074-923ea0011430\" xlink:show=\"new\" xlink:title=\"psysml:c7feeda3-a834-41bb-a074-923ea0011430\" xlink:type=\"simple\"><rect fill=\"#FEFECE\" filter=\"url(#fgmkcrl1wrf0m)\" height=\"45.9375\" id=\"E2\" rx=\"10\" ry=\"10\" style=\"stroke: #A80036; stroke-width: 1.5;\" width=\"165\" x=\"202.5\" y=\"56\"/><text fill=\"#000000\" font-family=\"sans-serif\" font-size=\"12\" font-style=\"italic\" lengthAdjust=\"spacingAndGlyphs\" textLength=\"69\" x=\"250.5\" y=\"72.1387\">«attribute»</text><text fill=\"#000000\" font-family=\"sans-serif\" font-size=\"12\" lengthAdjust=\"spacingAndGlyphs\" textLength=\"159\" x=\"205.5\" y=\"86.1074\">b :&gt; ISQSpaceTime::width</text><line style=\"stroke: #A80036; stroke-width: 1.5;\" x1=\"203.5\" x2=\"366.5\" y1=\"93.9375\" y2=\"93.9375\"/></a><!--MD5=[09b614a08d8cba4a07c9adeb5e0fee81]\n",
       "class E3--><a href=\"psysml:1a450028-471a-4a88-b6bb-254dda2007f7\" target=\"_top\" title=\"psysml:1a450028-471a-4a88-b6bb-254dda2007f7\" xlink:actuate=\"onRequest\" xlink:href=\"psysml:1a450028-471a-4a88-b6bb-254dda2007f7\" xlink:show=\"new\" xlink:title=\"psysml:1a450028-471a-4a88-b6bb-254dda2007f7\" xlink:type=\"simple\"><rect fill=\"#FEFECE\" filter=\"url(#fgmkcrl1wrf0m)\" height=\"75.5469\" id=\"E3\" style=\"stroke: #A80036; stroke-width: 1.5;\" width=\"70\" x=\"158\" y=\"177\"/><text fill=\"#000000\" font-family=\"sans-serif\" font-size=\"12\" font-style=\"italic\" lengthAdjust=\"spacingAndGlyphs\" textLength=\"68\" x=\"159\" y=\"193.1387\">«part  def»</text><text fill=\"#000000\" font-family=\"sans-serif\" font-size=\"12\" lengthAdjust=\"spacingAndGlyphs\" textLength=\"16\" x=\"185\" y=\"207.1074\">P1</text><line style=\"stroke: #A80036; stroke-width: 1.5;\" x1=\"159\" x2=\"227\" y1=\"214.9375\" y2=\"214.9375\"/><text fill=\"#000000\" font-family=\"sans-serif\" font-size=\"11\" lengthAdjust=\"spacingAndGlyphs\" textLength=\"36\" x=\"164\" y=\"245.9526\">porig1</text><line style=\"stroke: #A80036; stroke-width: 1.0;\" x1=\"159\" x2=\"178\" y1=\"229.3398\" y2=\"229.3398\"/><text fill=\"#000000\" font-family=\"sans-serif\" font-size=\"11\" lengthAdjust=\"spacingAndGlyphs\" textLength=\"30\" x=\"178\" y=\"232.6479\">ports</text><line style=\"stroke: #A80036; stroke-width: 1.0;\" x1=\"208\" x2=\"227\" y1=\"229.3398\" y2=\"229.3398\"/></a><!--MD5=[ebbe1d658d1005bcc118a6aa81145e00]\n",
       "class E4--><a href=\"psysml:528ad082-e547-41e1-93e2-4f734da3b1f6\" target=\"_top\" title=\"psysml:528ad082-e547-41e1-93e2-4f734da3b1f6\" xlink:actuate=\"onRequest\" xlink:href=\"psysml:528ad082-e547-41e1-93e2-4f734da3b1f6\" xlink:show=\"new\" xlink:title=\"psysml:528ad082-e547-41e1-93e2-4f734da3b1f6\" xlink:type=\"simple\"><rect fill=\"#FEFECE\" filter=\"url(#fgmkcrl1wrf0m)\" height=\"45.9375\" id=\"E4\" rx=\"10\" ry=\"10\" style=\"stroke: #A80036; stroke-width: 1.5;\" width=\"50\" x=\"164\" y=\"313\"/><text fill=\"#000000\" font-family=\"sans-serif\" font-size=\"12\" font-style=\"italic\" lengthAdjust=\"spacingAndGlyphs\" textLength=\"40\" x=\"169\" y=\"329.1387\">«port»</text><text fill=\"#000000\" font-family=\"sans-serif\" font-size=\"12\" lengthAdjust=\"spacingAndGlyphs\" textLength=\"40\" x=\"167\" y=\"343.1074\">porig1</text><line style=\"stroke: #A80036; stroke-width: 1.5;\" x1=\"165\" x2=\"213\" y1=\"350.9375\" y2=\"350.9375\"/></a><!--MD5=[270fce915f116d4de14055a7c1d9a0f3]\n",
       "class E5--><a href=\"psysml:73838eb5-9ecb-4193-8391-1ddf76ff61b3\" target=\"_top\" title=\"psysml:73838eb5-9ecb-4193-8391-1ddf76ff61b3\" xlink:actuate=\"onRequest\" xlink:href=\"psysml:73838eb5-9ecb-4193-8391-1ddf76ff61b3\" xlink:show=\"new\" xlink:title=\"psysml:73838eb5-9ecb-4193-8391-1ddf76ff61b3\" xlink:type=\"simple\"><rect fill=\"#FEFECE\" filter=\"url(#fgmkcrl1wrf0m)\" height=\"45.9375\" id=\"E5\" rx=\"10\" ry=\"10\" style=\"stroke: #A80036; stroke-width: 1.5;\" width=\"50\" x=\"117\" y=\"56\"/><text fill=\"#000000\" font-family=\"sans-serif\" font-size=\"12\" font-style=\"italic\" lengthAdjust=\"spacingAndGlyphs\" textLength=\"40\" x=\"122\" y=\"72.1387\">«part»</text><text fill=\"#000000\" font-family=\"sans-serif\" font-size=\"12\" lengthAdjust=\"spacingAndGlyphs\" textLength=\"40\" x=\"120\" y=\"86.1074\">p1: P1</text><line style=\"stroke: #A80036; stroke-width: 1.5;\" x1=\"118\" x2=\"166\" y1=\"93.9375\" y2=\"93.9375\"/></a><!--MD5=[60a26617385b1d2d0262a64233df1f8d]\n",
       "class E6--><a href=\"psysml:6875339d-23d6-4973-8a77-102c2bf220f1\" target=\"_top\" title=\"psysml:6875339d-23d6-4973-8a77-102c2bf220f1\" xlink:actuate=\"onRequest\" xlink:href=\"psysml:6875339d-23d6-4973-8a77-102c2bf220f1\" xlink:show=\"new\" xlink:title=\"psysml:6875339d-23d6-4973-8a77-102c2bf220f1\" xlink:type=\"simple\"><rect fill=\"#FEFECE\" filter=\"url(#fgmkcrl1wrf0m)\" height=\"45.9375\" id=\"E6\" rx=\"10\" ry=\"10\" style=\"stroke: #A80036; stroke-width: 1.5;\" width=\"42\" x=\"81\" y=\"192\"/><text fill=\"#000000\" font-family=\"sans-serif\" font-size=\"12\" font-style=\"italic\" lengthAdjust=\"spacingAndGlyphs\" textLength=\"40\" x=\"82\" y=\"208.1387\">«port»</text><text fill=\"#000000\" font-family=\"sans-serif\" font-size=\"12\" lengthAdjust=\"spacingAndGlyphs\" textLength=\"24\" x=\"88\" y=\"222.1074\">po1</text><line style=\"stroke: #A80036; stroke-width: 1.5;\" x1=\"82\" x2=\"122\" y1=\"229.9375\" y2=\"229.9375\"/></a><!--MD5=[2156ba9850f5573cc1fc38a6a4b2f02b]\n",
       "class E7--><a href=\"psysml:73d7b051-2240-4fe3-9278-fa0d634854f8\" target=\"_top\" title=\"psysml:73d7b051-2240-4fe3-9278-fa0d634854f8\" xlink:actuate=\"onRequest\" xlink:href=\"psysml:73d7b051-2240-4fe3-9278-fa0d634854f8\" xlink:show=\"new\" xlink:title=\"psysml:73d7b051-2240-4fe3-9278-fa0d634854f8\" xlink:type=\"simple\"><rect fill=\"#FEFECE\" filter=\"url(#fgmkcrl1wrf0m)\" height=\"75.5469\" id=\"E7\" rx=\"10\" ry=\"10\" style=\"stroke: #A80036; stroke-width: 1.5;\" width=\"50\" x=\"32\" y=\"41\"/><text fill=\"#000000\" font-family=\"sans-serif\" font-size=\"12\" font-style=\"italic\" lengthAdjust=\"spacingAndGlyphs\" textLength=\"40\" x=\"37\" y=\"57.1387\">«part»</text><text fill=\"#000000\" font-family=\"sans-serif\" font-size=\"12\" lengthAdjust=\"spacingAndGlyphs\" textLength=\"40\" x=\"35\" y=\"71.1074\">p2: P1</text><line style=\"stroke: #A80036; stroke-width: 1.5;\" x1=\"33\" x2=\"81\" y1=\"78.9375\" y2=\"78.9375\"/><text fill=\"#000000\" font-family=\"sans-serif\" font-size=\"11\" lengthAdjust=\"spacingAndGlyphs\" textLength=\"32\" x=\"38\" y=\"109.9526\">pdest</text><line style=\"stroke: #A80036; stroke-width: 1.0;\" x1=\"33\" x2=\"42\" y1=\"93.3398\" y2=\"93.3398\"/><text fill=\"#000000\" font-family=\"sans-serif\" font-size=\"11\" lengthAdjust=\"spacingAndGlyphs\" textLength=\"30\" x=\"42\" y=\"96.6479\">ports</text><line style=\"stroke: #A80036; stroke-width: 1.0;\" x1=\"72\" x2=\"81\" y1=\"93.3398\" y2=\"93.3398\"/></a><!--MD5=[b9389687b975829384b498ac4b7476b2]\n",
       "class E8--><a href=\"psysml:6cb98d60-0ab8-42f0-badc-3a033a17e212\" target=\"_top\" title=\"psysml:6cb98d60-0ab8-42f0-badc-3a033a17e212\" xlink:actuate=\"onRequest\" xlink:href=\"psysml:6cb98d60-0ab8-42f0-badc-3a033a17e212\" xlink:show=\"new\" xlink:title=\"psysml:6cb98d60-0ab8-42f0-badc-3a033a17e212\" xlink:type=\"simple\"><rect fill=\"#FEFECE\" filter=\"url(#fgmkcrl1wrf0m)\" height=\"45.9375\" id=\"E8\" rx=\"10\" ry=\"10\" style=\"stroke: #A80036; stroke-width: 1.5;\" width=\"46\" x=\"79\" y=\"313\"/><text fill=\"#000000\" font-family=\"sans-serif\" font-size=\"12\" font-style=\"italic\" lengthAdjust=\"spacingAndGlyphs\" textLength=\"40\" x=\"82\" y=\"329.1387\">«port»</text><text fill=\"#000000\" font-family=\"sans-serif\" font-size=\"12\" lengthAdjust=\"spacingAndGlyphs\" textLength=\"36\" x=\"82\" y=\"343.1074\">pdest</text><line style=\"stroke: #A80036; stroke-width: 1.5;\" x1=\"80\" x2=\"124\" y1=\"350.9375\" y2=\"350.9375\"/></a><!--MD5=[4672eba38e49728da53d11aeb285b987]\n",
       "reverse link E3 to E4--><a href=\"psysml:b408bcfe-af80-429f-8bb7-74524c32282e\" target=\"_top\" title=\"psysml:b408bcfe-af80-429f-8bb7-74524c32282e\" xlink:actuate=\"onRequest\" xlink:href=\"psysml:b408bcfe-af80-429f-8bb7-74524c32282e\" xlink:show=\"new\" xlink:title=\"psysml:b408bcfe-af80-429f-8bb7-74524c32282e\" xlink:type=\"simple\"><path d=\"M191.31,266.34 C190.76,282.61 190.18,299.81 189.74,312.93 \" fill=\"none\" id=\"E3&lt;-E4\" style=\"stroke: #A80036; stroke-width: 1.0;\"/><polygon fill=\"#FFFFFF\" points=\"191.76,253,187.558,258.8603,191.3514,264.993,195.5534,259.1327,191.76,253\" style=\"stroke: #A80036; stroke-width: 1.0;\"/><text fill=\"#000000\" font-family=\"sans-serif\" font-size=\"13\" lengthAdjust=\"spacingAndGlyphs\" textLength=\"8\" x=\"180.8639\" y=\"301.8075\">1</text></a><!--MD5=[e9be52314489bd878ff4c7144b63c9e1]\n",
       "link E5 to E3--><a href=\"psysml:de9d1539-3df1-480f-91a9-ed9f950b1f96\" target=\"_top\" title=\"psysml:de9d1539-3df1-480f-91a9-ed9f950b1f96\" xlink:actuate=\"onRequest\" xlink:href=\"psysml:de9d1539-3df1-480f-91a9-ed9f950b1f96\" xlink:show=\"new\" xlink:title=\"psysml:de9d1539-3df1-480f-91a9-ed9f950b1f96\" xlink:type=\"simple\"><path d=\"M150.42,102.13 C156.21,117.35 164.18,138.29 171.66,157.93 \" fill=\"none\" id=\"E5-&gt;E3\" style=\"stroke: #A80036; stroke-width: 1.0;\"/><polygon fill=\"#FFFFFF\" points=\"178.88,176.89,165.5815,161.6208,178.6665,156.6427,178.88,176.89\" style=\"stroke: #A80036; stroke-width: 1.0;\"/><ellipse cx=\"165.424\" cy=\"155.5821\" fill=\"#A80036\" rx=\"2\" ry=\"2\" style=\"stroke: #A80036; stroke-width: 1.0;\"/><ellipse cx=\"174.7704\" cy=\"152.0263\" fill=\"#A80036\" rx=\"2\" ry=\"2\" style=\"stroke: #A80036; stroke-width: 1.0;\"/></a><!--MD5=[85d356282659285ab4b2cfe2f634dd2b]\n",
       "reverse link E5 to E6--><a href=\"psysml:1d973b34-aa26-4796-bb60-99a7b7743581\" target=\"_top\" title=\"psysml:1d973b34-aa26-4796-bb60-99a7b7743581\" xlink:actuate=\"onRequest\" xlink:href=\"psysml:1d973b34-aa26-4796-bb60-99a7b7743581\" xlink:show=\"new\" xlink:title=\"psysml:1d973b34-aa26-4796-bb60-99a7b7743581\" xlink:type=\"simple\"><path d=\"M131.62,114.76 C124.36,139.1 114.87,170.88 108.61,191.84 \" fill=\"none\" id=\"E5&lt;-E6\" style=\"stroke: #A80036; stroke-width: 1.0;\"/><polygon fill=\"#FFFFFF\" points=\"135.39,102.13,129.8375,106.7311,131.9491,113.6261,137.5016,109.025,135.39,102.13\" style=\"stroke: #A80036; stroke-width: 1.0;\"/><text fill=\"#000000\" font-family=\"sans-serif\" font-size=\"13\" lengthAdjust=\"spacingAndGlyphs\" textLength=\"8\" x=\"101.2788\" y=\"181.0753\">1</text></a><!--MD5=[f667431f98296947986a1a7595a31603]\n",
       "link E6 to E4--><a href=\"psysml:73eeba8b-cad5-4501-9cd6-c52ba77489ee\" target=\"_top\" title=\"psysml:73eeba8b-cad5-4501-9cd6-c52ba77489ee\" xlink:actuate=\"onRequest\" xlink:href=\"psysml:73eeba8b-cad5-4501-9cd6-c52ba77489ee\" xlink:show=\"new\" xlink:title=\"psysml:73eeba8b-cad5-4501-9cd6-c52ba77489ee\" xlink:type=\"simple\"><path d=\"M118.16,238.1 C130.11,254.45 146.69,277.12 160.8,296.43 \" fill=\"none\" id=\"E6-&gt;E4\" style=\"stroke: #A80036; stroke-width: 1.0;\"/><polygon fill=\"#FFFFFF\" points=\"172.63,312.61,155.76,301.4117,167.0576,293.1434,172.63,312.61\" style=\"stroke: #A80036; stroke-width: 1.0;\"/><line style=\"stroke: #A80036; stroke-width: 2.0;\" x1=\"153.5158\" x2=\"164.8134\" y1=\"298.3452\" y2=\"290.0769\"/></a><!--MD5=[14ccda38c055a5c0da953d572bc50960]\n",
       "link E7 to E3--><a href=\"psysml:52eea9f8-f20f-41d5-8944-6f19cdd988b1\" target=\"_top\" title=\"psysml:52eea9f8-f20f-41d5-8944-6f19cdd988b1\" xlink:actuate=\"onRequest\" xlink:href=\"psysml:52eea9f8-f20f-41d5-8944-6f19cdd988b1\" xlink:show=\"new\" xlink:title=\"psysml:52eea9f8-f20f-41d5-8944-6f19cdd988b1\" xlink:type=\"simple\"><path d=\"M82.26,104.89 C99.38,121.76 122.59,144.62 143.33,165.06 \" fill=\"none\" id=\"E7-&gt;E3\" style=\"stroke: #A80036; stroke-width: 1.0;\"/><polygon fill=\"#FFFFFF\" points=\"157.88,179.39,139.4314,171.0443,149.2556,161.0701,157.88,179.39\" style=\"stroke: #A80036; stroke-width: 1.0;\"/><ellipse cx=\"136.774\" cy=\"165.6196\" fill=\"#A80036\" rx=\"2\" ry=\"2\" style=\"stroke: #A80036; stroke-width: 1.0;\"/><ellipse cx=\"143.7912\" cy=\"158.4951\" fill=\"#A80036\" rx=\"2\" ry=\"2\" style=\"stroke: #A80036; stroke-width: 1.0;\"/></a><!--MD5=[dc164f5e8a733ab456ef1add180e9e34]\n",
       "reverse link E7 to E8--><a href=\"psysml:7dc24cb7-d6ba-40a4-b073-8d397bf1a7ae\" target=\"_top\" title=\"psysml:7dc24cb7-d6ba-40a4-b073-8d397bf1a7ae\" xlink:actuate=\"onRequest\" xlink:href=\"psysml:7dc24cb7-d6ba-40a4-b073-8d397bf1a7ae\" xlink:show=\"new\" xlink:title=\"psysml:7dc24cb7-d6ba-40a4-b073-8d397bf1a7ae\" xlink:type=\"simple\"><path d=\"M53.89,130.23 C52.97,165.15 54.21,212.5 64,253 C69.16,274.35 80.04,296.87 88.84,312.9 \" fill=\"none\" id=\"E7&lt;-E8\" style=\"stroke: #A80036; stroke-width: 1.0;\"/><polygon fill=\"#FFFFFF\" points=\"54.36,117.03,50.1514,122.8856,53.9378,129.0226,58.1464,123.167,54.36,117.03\" style=\"stroke: #A80036; stroke-width: 1.0;\"/><text fill=\"#000000\" font-family=\"sans-serif\" font-size=\"13\" lengthAdjust=\"spacingAndGlyphs\" textLength=\"8\" x=\"86.3783\" y=\"301.7694\">1</text></a><!--MD5=[0a839d0f80c2d72d4b9b307f046d0de8]\n",
       "link E6 to E8--><a href=\"psysml:6785e7ae-ef30-46fa-a69d-d6daab2c7c15\" target=\"_top\" title=\"psysml:6785e7ae-ef30-46fa-a69d-d6daab2c7c15\" xlink:actuate=\"onRequest\" xlink:href=\"psysml:6785e7ae-ef30-46fa-a69d-d6daab2c7c15\" xlink:show=\"new\" xlink:title=\"psysml:6785e7ae-ef30-46fa-a69d-d6daab2c7c15\" xlink:type=\"simple\"><path d=\"M91.82,238.1 C88.41,259.34 88.39,291.28 91.78,312.61 \" fill=\"none\" id=\"E6-E8\" style=\"stroke: #A80036; stroke-width: 3.0;\"/><text fill=\"#000000\" font-family=\"sans-serif\" font-size=\"13\" lengthAdjust=\"spacingAndGlyphs\" textLength=\"7\" x=\"81.2643\" y=\"301.7864\">*</text></a><!--MD5=[0a839d0f80c2d72d4b9b307f046d0de8]\n",
       "link E6 to E8--><a href=\"psysml:868c8138-312d-42c2-8f4f-f83047efce23\" target=\"_top\" title=\"psysml:868c8138-312d-42c2-8f4f-f83047efce23\" xlink:actuate=\"onRequest\" xlink:href=\"psysml:868c8138-312d-42c2-8f4f-f83047efce23\" xlink:show=\"new\" xlink:title=\"psysml:868c8138-312d-42c2-8f4f-f83047efce23\" xlink:type=\"simple\"><path d=\"M112.78,238.1 C116.39,259.34 116.41,291.28 112.82,312.61 \" fill=\"none\" id=\"E6-E8-1\" style=\"stroke: #A80036; stroke-width: 3.0;\"/><text fill=\"#000000\" font-family=\"sans-serif\" font-size=\"13\" lengthAdjust=\"spacingAndGlyphs\" textLength=\"7\" x=\"107.6957\" y=\"301.7864\">*</text></a><!--MD5=[bae727adcc9329e81e61fd88fa504602]\n",
       "@startuml\r\n",
       "skinparam wrapWidth 300\r\n",
       "hide circle\r\n",
       "\r\n",
       "package \"AliasTest\" as E1  [[psysml:02b7e9b9-6677-468f-8dad-8ced33a218a4 ]]  {\r\n",
       "comp usage \"b :> ISQSpaceTime::width\" as E2  <<(T,blue) attribute>> [[psysml:c7feeda3-a834-41bb-a074-923ea0011430 ]] {\r\n",
       "}\r\n",
       "comp def \"P1\" as E3  <<(T,blue) part  def>> [[psysml:1a450028-471a-4a88-b6bb-254dda2007f7 ]] {\r\n",
       "- - ports - -\r\n",
       "porig1\r\n",
       "}\r\n",
       "comp usage \"porig1 \" as E4  <<(T,blue) port>> [[psysml:528ad082-e547-41e1-93e2-4f734da3b1f6 ]] {\r\n",
       "}\r\n",
       "comp usage \"p1: P1 \" as E5  <<(T,blue) part>> [[psysml:73838eb5-9ecb-4193-8391-1ddf76ff61b3 ]] {\r\n",
       "}\r\n",
       "comp usage \"po1 \" as E6  <<(T,blue) port>> [[psysml:6875339d-23d6-4973-8a77-102c2bf220f1 ]] {\r\n",
       "}\r\n",
       "comp usage \"p2: P1 \" as E7  <<(T,blue) part>> [[psysml:73d7b051-2240-4fe3-9278-fa0d634854f8 ]] {\r\n",
       "- - ports - -\r\n",
       "pdest\r\n",
       "}\r\n",
       "comp usage \"pdest \" as E8  <<(T,blue) port>> [[psysml:6cb98d60-0ab8-42f0-badc-3a033a17e212 ]] {\r\n",
       "}\r\n",
       "}\r\n",
       "E3 o- - \"1\"E4 [[psysml:b408bcfe-af80-429f-8bb7-74524c32282e ]] \r\n",
       "E5 - -:|> E3 [[psysml:de9d1539-3df1-480f-91a9-ed9f950b1f96 ]] \r\n",
       "E5 o- - \"1\"E6 [[psysml:1d973b34-aa26-4796-bb60-99a7b7743581 ]] \r\n",
       "E6 - -||> E4 [[psysml:73eeba8b-cad5-4501-9cd6-c52ba77489ee ]] \r\n",
       "E7 - -:|> E3 [[psysml:52eea9f8-f20f-41d5-8944-6f19cdd988b1 ]] \r\n",
       "E7 o- - \"1\"E8 [[psysml:7dc24cb7-d6ba-40a4-b073-8d397bf1a7ae ]] \r\n",
       "E6 -[thickness=3]- \"*\"E8 [[psysml:6785e7ae-ef30-46fa-a69d-d6daab2c7c15 ]] \r\n",
       "E6 -[thickness=3]- \"*\"E8 [[psysml:868c8138-312d-42c2-8f4f-f83047efce23 ]] \r\n",
       "@enduml\r\n",
       "\n",
       "PlantUML version 1.2020.13(Sat Jun 13 12:26:38 UTC 2020)\n",
       "(EPL source distribution)\n",
       "Java Runtime: OpenJDK Runtime Environment\n",
       "JVM: OpenJDK 64-Bit Server VM\n",
       "Default Encoding: UTF-8\n",
       "Language: en\n",
       "Country: null\n",
       "--></g></svg>"
      ]
     },
     "execution_count": 24,
     "metadata": {},
     "output_type": "execute_result"
    }
   ],
   "source": [
    "%viz --style=\"STDCOLOR\" --view=\"Tree\" \"AliasTest\""
   ]
  },
  {
   "cell_type": "code",
   "execution_count": 25,
   "id": "699d0d28",
   "metadata": {
    "execution": {
     "iopub.execute_input": "2022-08-19T08:20:49.243209Z",
     "iopub.status.busy": "2022-08-19T08:20:49.242760Z",
     "iopub.status.idle": "2022-08-19T08:20:49.253522Z",
     "shell.execute_reply": "2022-08-19T08:20:49.253090Z"
    }
   },
   "outputs": [
    {
     "data": {
      "image/svg+xml": [
       "<?xml version=\"1.0\" encoding=\"UTF-8\" standalone=\"no\"?><svg xmlns=\"http://www.w3.org/2000/svg\" xmlns:xlink=\"http://www.w3.org/1999/xlink\" contentScriptType=\"application/ecmascript\" contentStyleType=\"text/css\" height=\"12px\" preserveAspectRatio=\"none\" style=\"width:12px;height:12px;\" version=\"1.1\" viewBox=\"0 0 12 12\" width=\"12px\" zoomAndPan=\"magnify\"><defs/><g><!--MD5=[aeeef50f102b80d730deb6443d14f702]\n",
       "@startuml\r\n",
       "skinparam wrapWidth 300\r\n",
       "hide circle\r\n",
       "\r\n",
       "@enduml\r\n",
       "\n",
       "PlantUML version 1.2020.13(Sat Jun 13 12:26:38 UTC 2020)\n",
       "(EPL source distribution)\n",
       "Java Runtime: OpenJDK Runtime Environment\n",
       "JVM: OpenJDK 64-Bit Server VM\n",
       "Default Encoding: UTF-8\n",
       "Language: en\n",
       "Country: null\n",
       "--></g></svg>"
      ]
     },
     "execution_count": 25,
     "metadata": {},
     "output_type": "execute_result"
    }
   ],
   "source": [
    "%viz --style=\"STDCOLOR\" --view=\"State\" \"AliasTest\""
   ]
  },
  {
   "cell_type": "code",
   "execution_count": 26,
   "id": "8dd125cd",
   "metadata": {
    "execution": {
     "iopub.execute_input": "2022-08-19T08:20:49.303697Z",
     "iopub.status.busy": "2022-08-19T08:20:49.302970Z",
     "iopub.status.idle": "2022-08-19T08:20:49.350521Z",
     "shell.execute_reply": "2022-08-19T08:20:49.350089Z"
    }
   },
   "outputs": [
    {
     "data": {
      "image/svg+xml": [
       "<?xml version=\"1.0\" encoding=\"UTF-8\" standalone=\"no\"?><svg xmlns=\"http://www.w3.org/2000/svg\" xmlns:xlink=\"http://www.w3.org/1999/xlink\" contentScriptType=\"application/ecmascript\" contentStyleType=\"text/css\" height=\"398px\" preserveAspectRatio=\"none\" style=\"width:370px;height:398px;\" version=\"1.1\" viewBox=\"0 0 370 398\" width=\"370px\" zoomAndPan=\"magnify\"><defs><filter height=\"300%\" id=\"f10xebhvqajhlf\" width=\"300%\" x=\"-1\" y=\"-1\"><feGaussianBlur result=\"blurOut\" stdDeviation=\"2.0\"/><feColorMatrix in=\"blurOut\" result=\"blurOut2\" type=\"matrix\" values=\"0 0 0 0 0 0 0 0 0 0 0 0 0 0 0 0 0 0 .4 0\"/><feOffset dx=\"4.0\" dy=\"4.0\" in=\"blurOut2\" result=\"blurOut3\"/><feBlend in=\"SourceGraphic\" in2=\"blurOut3\" mode=\"normal\"/></filter></defs><g><!--MD5=[fbc87193dbaf4d95561dea2c320d4a47]\n",
       "cluster E1--><a href=\"psysml:02b7e9b9-6677-468f-8dad-8ced33a218a4\" target=\"_top\" title=\"psysml:02b7e9b9-6677-468f-8dad-8ced33a218a4\" xlink:actuate=\"onRequest\" xlink:href=\"psysml:02b7e9b9-6677-468f-8dad-8ced33a218a4\" xlink:show=\"new\" xlink:title=\"psysml:02b7e9b9-6677-468f-8dad-8ced33a218a4\" xlink:type=\"simple\"><polygon fill=\"#FFFFFF\" filter=\"url(#f10xebhvqajhlf)\" points=\"16,6,84,6,91,28.2969,348,28.2969,348,386.36,16,386.36,16,6\" style=\"stroke: #000000; stroke-width: 1.5;\"/><line style=\"stroke: #000000; stroke-width: 1.5;\" x1=\"16\" x2=\"91\" y1=\"28.2969\" y2=\"28.2969\"/><text fill=\"#000000\" font-family=\"sans-serif\" font-size=\"14\" font-weight=\"bold\" lengthAdjust=\"spacingAndGlyphs\" textLength=\"62\" x=\"20\" y=\"20.9951\">AliasTest</text></a><!--MD5=[d5e69f78d87373223dbae638b30a9c99]\n",
       "cluster E3--><a href=\"psysml:1a450028-471a-4a88-b6bb-254dda2007f7\" target=\"_top\" title=\"psysml:1a450028-471a-4a88-b6bb-254dda2007f7\" xlink:actuate=\"onRequest\" xlink:href=\"psysml:1a450028-471a-4a88-b6bb-254dda2007f7\" xlink:show=\"new\" xlink:title=\"psysml:1a450028-471a-4a88-b6bb-254dda2007f7\" xlink:type=\"simple\"><rect fill=\"#FFFFFF\" filter=\"url(#f10xebhvqajhlf)\" height=\"124.5\" id=\"E3\" style=\"stroke: #A80036; stroke-width: 1.5;\" width=\"144\" x=\"180\" y=\"237.86\"/><rect fill=\"#FEFECE\" height=\"37.9375\" style=\"stroke: #A80036; stroke-width: 1.5;\" width=\"144\" x=\"180\" y=\"237.86\"/><text fill=\"#000000\" font-family=\"sans-serif\" font-size=\"12\" font-style=\"italic\" lengthAdjust=\"spacingAndGlyphs\" textLength=\"68\" x=\"218\" y=\"253.9987\">«part  def»</text><text fill=\"#000000\" font-family=\"sans-serif\" font-size=\"12\" lengthAdjust=\"spacingAndGlyphs\" textLength=\"16\" x=\"244\" y=\"267.9674\">P1</text></a><!--MD5=[14e3b0961a2654348d326746436168a1]\n",
       "cluster E6--><a href=\"psysml:73838eb5-9ecb-4193-8391-1ddf76ff61b3\" target=\"_top\" title=\"psysml:73838eb5-9ecb-4193-8391-1ddf76ff61b3\" xlink:actuate=\"onRequest\" xlink:href=\"psysml:73838eb5-9ecb-4193-8391-1ddf76ff61b3\" xlink:show=\"new\" xlink:title=\"psysml:73838eb5-9ecb-4193-8391-1ddf76ff61b3\" xlink:type=\"simple\"><rect fill=\"#FFFFFF\" filter=\"url(#f10xebhvqajhlf)\" height=\"97.36\" id=\"E6\" rx=\"10\" ry=\"10\" style=\"stroke: #A80036; stroke-width: 1.5;\" width=\"114\" x=\"210\" y=\"49\"/><rect fill=\"#FEFECE\" height=\"23.9688\" rx=\"10\" ry=\"10\" style=\"stroke: #FEFECE; stroke-width: 1.5;\" width=\"114\" x=\"210\" y=\"49\"/><rect fill=\"#FEFECE\" height=\"10\" style=\"stroke: #FEFECE; stroke-width: 1.5;\" width=\"114\" x=\"210\" y=\"62.9688\"/><rect fill=\"none\" height=\"97.36\" id=\"E6\" rx=\"10\" ry=\"10\" style=\"stroke: #A80036; stroke-width: 1.5;\" width=\"114\" x=\"210\" y=\"49\"/><text fill=\"#000000\" font-family=\"sans-serif\" font-size=\"12\" lengthAdjust=\"spacingAndGlyphs\" textLength=\"40\" x=\"247\" y=\"65.1387\">p1: P1</text><line style=\"stroke: #A80036; stroke-width: 1.0;\" x1=\"210\" x2=\"324\" y1=\"72.9688\" y2=\"72.9688\"/></a><!--MD5=[55dfccfc6c49c2d10cd1bd2211a6c90c]\n",
       "cluster E8--><a href=\"psysml:73d7b051-2240-4fe3-9278-fa0d634854f8\" target=\"_top\" title=\"psysml:73d7b051-2240-4fe3-9278-fa0d634854f8\" xlink:actuate=\"onRequest\" xlink:href=\"psysml:73d7b051-2240-4fe3-9278-fa0d634854f8\" xlink:show=\"new\" xlink:title=\"psysml:73d7b051-2240-4fe3-9278-fa0d634854f8\" xlink:type=\"simple\"><rect fill=\"#FFFFFF\" filter=\"url(#f10xebhvqajhlf)\" height=\"73\" id=\"E8\" rx=\"10\" ry=\"10\" style=\"stroke: #A80036; stroke-width: 1.5;\" width=\"83\" x=\"81\" y=\"198.36\"/><rect fill=\"#FEFECE\" height=\"23.9688\" rx=\"10\" ry=\"10\" style=\"stroke: #FEFECE; stroke-width: 1.5;\" width=\"83\" x=\"81\" y=\"198.36\"/><rect fill=\"#FEFECE\" height=\"10\" style=\"stroke: #FEFECE; stroke-width: 1.5;\" width=\"83\" x=\"81\" y=\"212.3288\"/><rect fill=\"none\" height=\"73\" id=\"E8\" rx=\"10\" ry=\"10\" style=\"stroke: #A80036; stroke-width: 1.5;\" width=\"83\" x=\"81\" y=\"198.36\"/><text fill=\"#000000\" font-family=\"sans-serif\" font-size=\"12\" lengthAdjust=\"spacingAndGlyphs\" textLength=\"40\" x=\"102.5\" y=\"214.4987\">p2: P1</text><line style=\"stroke: #A80036; stroke-width: 1.0;\" x1=\"81\" x2=\"164\" y1=\"222.3288\" y2=\"222.3288\"/></a><!--MD5=[b4997ac47864f28c2f74865a473b2911]\n",
       "class E2--><a href=\"psysml:c7feeda3-a834-41bb-a074-923ea0011430\" target=\"_top\" title=\"psysml:c7feeda3-a834-41bb-a074-923ea0011430\" xlink:actuate=\"onRequest\" xlink:href=\"psysml:c7feeda3-a834-41bb-a074-923ea0011430\" xlink:show=\"new\" xlink:title=\"psysml:c7feeda3-a834-41bb-a074-923ea0011430\" xlink:type=\"simple\"><rect fill=\"#FEFECE\" filter=\"url(#f10xebhvqajhlf)\" height=\"45.9375\" id=\"E2\" rx=\"10\" ry=\"10\" style=\"stroke: #A80036; stroke-width: 1.5;\" width=\"165\" x=\"32.5\" y=\"59.5\"/><text fill=\"#000000\" font-family=\"sans-serif\" font-size=\"12\" font-style=\"italic\" lengthAdjust=\"spacingAndGlyphs\" textLength=\"69\" x=\"80.5\" y=\"75.6387\">«attribute»</text><text fill=\"#000000\" font-family=\"sans-serif\" font-size=\"12\" lengthAdjust=\"spacingAndGlyphs\" textLength=\"159\" x=\"35.5\" y=\"89.6074\">b :&gt; ISQSpaceTime::width</text><line style=\"stroke: #A80036; stroke-width: 1.5;\" x1=\"33.5\" x2=\"196.5\" y1=\"97.4375\" y2=\"97.4375\"/></a><text fill=\"#000000\" font-family=\"sans-serif\" font-size=\"14\" lengthAdjust=\"spacingAndGlyphs\" textLength=\"44\" x=\"174\" y=\"216.5582\">porig1</text><rect fill=\"#A80036\" height=\"12\" style=\"stroke: #FEFECE; stroke-width: 1.5;\" width=\"12\" x=\"192\" y=\"231.86\"/><text fill=\"#000000\" font-family=\"sans-serif\" font-size=\"14\" lengthAdjust=\"spacingAndGlyphs\" textLength=\"44\" x=\"221\" y=\"216.5582\">porig1</text><rect fill=\"#A80036\" height=\"12\" style=\"stroke: #FEFECE; stroke-width: 1.5;\" width=\"12\" x=\"239\" y=\"231.86\"/><text fill=\"#000000\" font-family=\"sans-serif\" font-size=\"14\" lengthAdjust=\"spacingAndGlyphs\" textLength=\"27\" x=\"212.5\" y=\"165.3551\">po1</text><rect fill=\"#A80036\" height=\"12\" style=\"stroke: #FEFECE; stroke-width: 1.5;\" width=\"12\" x=\"222\" y=\"140.36\"/><text fill=\"#000000\" font-family=\"sans-serif\" font-size=\"14\" lengthAdjust=\"spacingAndGlyphs\" textLength=\"40\" x=\"77\" y=\"177.0582\">pdest</text><rect fill=\"#A80036\" height=\"12\" style=\"stroke: #FEFECE; stroke-width: 1.5;\" width=\"12\" x=\"93\" y=\"192.36\"/><text fill=\"#000000\" font-family=\"sans-serif\" font-size=\"14\" lengthAdjust=\"spacingAndGlyphs\" textLength=\"40\" x=\"124\" y=\"177.0582\">pdest</text><rect fill=\"#A80036\" height=\"12\" style=\"stroke: #FEFECE; stroke-width: 1.5;\" width=\"12\" x=\"140\" y=\"192.36\"/><!--MD5=[a717450b82c80b9240a525fa862496af]\n",
       "link E6 to E3--><a href=\"psysml:de9d1539-3df1-480f-91a9-ed9f950b1f96\" target=\"_top\" title=\"psysml:de9d1539-3df1-480f-91a9-ed9f950b1f96\" xlink:actuate=\"onRequest\" xlink:href=\"psysml:de9d1539-3df1-480f-91a9-ed9f950b1f96\" xlink:show=\"new\" xlink:title=\"psysml:de9d1539-3df1-480f-91a9-ed9f950b1f96\" xlink:type=\"simple\"><path d=\"M287,146.372 C287,146.4316 287,146.4946 287,146.5614 C287,146.6948 287,146.8432 287,147.0079 C287,147.3375 287,147.733 287,148.2077 C287,149.1569 287,150.4225 287,152.11 C287,158.86 287,172.36 287,199.36 C287,208.265 287.4169,215.6138 287.8598,222.1538 C287.8875,222.5625 287.9153,222.9681 287.9431,223.3707 C287.9501,223.4714 287.957,223.5718 287.964,223.6721 \" fill=\"none\" id=\"E6-&gt;E3\" style=\"stroke: #A80036; stroke-width: 1.0;\"/><polygon fill=\"#FFFFFF\" points=\"287.964,223.6721,279.6675,205.2014,293.634,204.2337,287.964,223.6721\" style=\"stroke: #A80036; stroke-width: 1.0;\"/><ellipse cx=\"281.2688\" cy=\"199.3768\" fill=\"#A80036\" rx=\"2\" ry=\"2\" style=\"stroke: #A80036; stroke-width: 1.0;\"/><ellipse cx=\"291.2448\" cy=\"198.6856\" fill=\"#A80036\" rx=\"2\" ry=\"2\" style=\"stroke: #A80036; stroke-width: 1.0;\"/></a><!--MD5=[95fa686b5a16158bcdbcaeead89f639b]\n",
       "link E8 to E3--><a href=\"psysml:52eea9f8-f20f-41d5-8944-6f19cdd988b1\" target=\"_top\" title=\"psysml:52eea9f8-f20f-41d5-8944-6f19cdd988b1\" xlink:actuate=\"onRequest\" xlink:href=\"psysml:52eea9f8-f20f-41d5-8944-6f19cdd988b1\" xlink:show=\"new\" xlink:title=\"psysml:52eea9f8-f20f-41d5-8944-6f19cdd988b1\" xlink:type=\"simple\"><path d=\"M161.6052,271.4143 C161.6848,271.4587 161.7644,271.5032 161.844,271.5476 C162.1624,271.7254 162.4807,271.903 162.799,272.0805 C163.4355,272.4354 164.0716,272.7896 164.7071,273.1429 C165.978,273.8495 167.2462,274.5525 168.5091,275.2502 C171.0347,276.6456 173.5388,278.02 176,279.36 C177.8425,280.3638 179.712,281.3764 181.6004,282.3941 C182.0725,282.6486 182.5457,282.9033 183.0201,283.1583 C183.2572,283.2858 183.4946,283.4134 183.7323,283.541 C183.7917,283.5729 183.8512,283.6048 183.9106,283.6368 \" fill=\"none\" id=\"E8-&gt;E3\" style=\"stroke: #A80036; stroke-width: 1.0;\"/><polygon fill=\"#FFFFFF\" points=\"183.9106,283.6368,163.8594,280.8174,170.4813,268.4825,183.9106,283.6368\" style=\"stroke: #A80036; stroke-width: 1.0;\"/><ellipse cx=\"159.7833\" cy=\"276.3592\" fill=\"#A80036\" rx=\"2\" ry=\"2\" style=\"stroke: #A80036; stroke-width: 1.0;\"/><ellipse cx=\"164.5132\" cy=\"267.5486\" fill=\"#A80036\" rx=\"2\" ry=\"2\" style=\"stroke: #A80036; stroke-width: 1.0;\"/></a><!--MD5=[1c0b9414cc86e0744215edee6abd8926]\n",
       "link E7 to E9--><a href=\"psysml:6785e7ae-ef30-46fa-a69d-d6daab2c7c15\" target=\"_top\" title=\"psysml:6785e7ae-ef30-46fa-a69d-d6daab2c7c15\" xlink:actuate=\"onRequest\" xlink:href=\"psysml:6785e7ae-ef30-46fa-a69d-d6daab2c7c15\" xlink:show=\"new\" xlink:title=\"psysml:6785e7ae-ef30-46fa-a69d-d6daab2c7c15\" xlink:type=\"simple\"><path d=\"M221.76,147.53 C198.85,148.59 143.6,155.09 105,176.36 C94.77,182 85.43,193.07 92.97,196.39 \" fill=\"none\" id=\"E7-E9\" style=\"stroke: #A80036; stroke-width: 3.0;\"/><text fill=\"#000000\" font-family=\"sans-serif\" font-size=\"13\" lengthAdjust=\"spacingAndGlyphs\" textLength=\"7\" x=\"78.1078\" y=\"185.6989\">*</text></a><!--MD5=[1c0b9414cc86e0744215edee6abd8926]\n",
       "link E7 to E9--><a href=\"psysml:868c8138-312d-42c2-8f4f-f83047efce23\" target=\"_top\" title=\"psysml:868c8138-312d-42c2-8f4f-f83047efce23\" xlink:actuate=\"onRequest\" xlink:href=\"psysml:868c8138-312d-42c2-8f4f-f83047efce23\" xlink:show=\"new\" xlink:title=\"psysml:868c8138-312d-42c2-8f4f-f83047efce23\" xlink:type=\"simple\"><path d=\"M221.9,149.8 C204.95,153.24 168.07,160.89 140,176.36 C129.3,182.26 119.57,194.11 105.05,196.81 \" fill=\"none\" id=\"E7-E9-1\" style=\"stroke: #A80036; stroke-width: 3.0;\"/><text fill=\"#000000\" font-family=\"sans-serif\" font-size=\"13\" lengthAdjust=\"spacingAndGlyphs\" textLength=\"7\" x=\"112.9288\" y=\"186.4654\">*</text></a><!--MD5=[30db30996298ab76127e742bfb414744]\n",
       "@startuml\r\n",
       "skinparam ranksep 10\r\n",
       "skinparam rectangle {\r\n",
       " backgroundColor<<block>> LightGreen\r\n",
       "}\r\n",
       "skinparam wrapWidth 300\r\n",
       "hide circle\r\n",
       "\r\n",
       "package \"AliasTest\" as E1  [[psysml:02b7e9b9-6677-468f-8dad-8ced33a218a4 ]]  {\r\n",
       "comp usage \"b :> ISQSpaceTime::width\" as E2  <<(T,blue) attribute>> [[psysml:c7feeda3-a834-41bb-a074-923ea0011430 ]] {\r\n",
       "}\r\n",
       "rec def \"P1\" as E3  <<(T,blue) part  def>> [[psysml:1a450028-471a-4a88-b6bb-254dda2007f7 ]] {\r\n",
       "portin \"porig1 \" as E4  <<(T,blue) port>> [[psysml:528ad082-e547-41e1-93e2-4f734da3b1f6 ]] \r\n",
       "portin \"porig1 \" as E5  <<(T,blue) port>> [[psysml:528ad082-e547-41e1-93e2-4f734da3b1f6 ]] \r\n",
       "}\r\n",
       "rec usage \"p1: P1\" as E6  [[psysml:73838eb5-9ecb-4193-8391-1ddf76ff61b3 ]] {\r\n",
       "portout \"po1 \" as E7  <<(T,blue) port>> [[psysml:6875339d-23d6-4973-8a77-102c2bf220f1 ]] \r\n",
       "}\r\n",
       "rec usage \"p2: P1\" as E8  [[psysml:73d7b051-2240-4fe3-9278-fa0d634854f8 ]] {\r\n",
       "portin \"pdest \" as E9  <<(T,blue) port>> [[psysml:6cb98d60-0ab8-42f0-badc-3a033a17e212 ]] \r\n",
       "portin \"pdest \" as E10  <<(T,blue) port>> [[psysml:6cb98d60-0ab8-42f0-badc-3a033a17e212 ]] \r\n",
       "}\r\n",
       "}\r\n",
       "E6 - -:|> E3 [[psysml:de9d1539-3df1-480f-91a9-ed9f950b1f96 ]] \r\n",
       "E8 - -:|> E3 [[psysml:52eea9f8-f20f-41d5-8944-6f19cdd988b1 ]] \r\n",
       "E7 -[thickness=3]- \"*\"E9 [[psysml:6785e7ae-ef30-46fa-a69d-d6daab2c7c15 ]] \r\n",
       "E7 -[thickness=3]- \"*\"E9 [[psysml:868c8138-312d-42c2-8f4f-f83047efce23 ]] \r\n",
       "@enduml\r\n",
       "\n",
       "PlantUML version 1.2020.13(Sat Jun 13 12:26:38 UTC 2020)\n",
       "(EPL source distribution)\n",
       "Java Runtime: OpenJDK Runtime Environment\n",
       "JVM: OpenJDK 64-Bit Server VM\n",
       "Default Encoding: UTF-8\n",
       "Language: en\n",
       "Country: null\n",
       "--></g></svg>"
      ]
     },
     "execution_count": 26,
     "metadata": {},
     "output_type": "execute_result"
    }
   ],
   "source": [
    "%viz --style=\"STDCOLOR\" --view=\"Interconnection\" \"AliasTest\""
   ]
  },
  {
   "cell_type": "code",
   "execution_count": 27,
   "id": "76bcab78",
   "metadata": {
    "execution": {
     "iopub.execute_input": "2022-08-19T08:20:49.400255Z",
     "iopub.status.busy": "2022-08-19T08:20:49.399536Z",
     "iopub.status.idle": "2022-08-19T08:20:49.410505Z",
     "shell.execute_reply": "2022-08-19T08:20:49.410102Z"
    }
   },
   "outputs": [
    {
     "data": {
      "image/svg+xml": [
       "<?xml version=\"1.0\" encoding=\"UTF-8\" standalone=\"no\"?><svg xmlns=\"http://www.w3.org/2000/svg\" xmlns:xlink=\"http://www.w3.org/1999/xlink\" contentScriptType=\"application/ecmascript\" contentStyleType=\"text/css\" height=\"12px\" preserveAspectRatio=\"none\" style=\"width:12px;height:12px;\" version=\"1.1\" viewBox=\"0 0 12 12\" width=\"12px\" zoomAndPan=\"magnify\"><defs/><g><!--MD5=[9863325348a96a77dacc89509d8ee65e]\n",
       "@startuml\r\n",
       "skinparam ranksep 8\r\n",
       "skinparam wrapWidth 300\r\n",
       "hide circle\r\n",
       "\r\n",
       "@enduml\r\n",
       "\n",
       "PlantUML version 1.2020.13(Sat Jun 13 12:26:38 UTC 2020)\n",
       "(EPL source distribution)\n",
       "Java Runtime: OpenJDK Runtime Environment\n",
       "JVM: OpenJDK 64-Bit Server VM\n",
       "Default Encoding: UTF-8\n",
       "Language: en\n",
       "Country: null\n",
       "--></g></svg>"
      ]
     },
     "execution_count": 27,
     "metadata": {},
     "output_type": "execute_result"
    }
   ],
   "source": [
    "%viz --style=\"STDCOLOR\" --view=\"Action\" \"AliasTest\""
   ]
  },
  {
   "cell_type": "code",
   "execution_count": 28,
   "id": "8d71c168",
   "metadata": {
    "execution": {
     "iopub.execute_input": "2022-08-19T08:20:49.460792Z",
     "iopub.status.busy": "2022-08-19T08:20:49.460088Z",
     "iopub.status.idle": "2022-08-19T08:20:49.471290Z",
     "shell.execute_reply": "2022-08-19T08:20:49.470891Z"
    }
   },
   "outputs": [
    {
     "data": {
      "image/svg+xml": [
       "<?xml version=\"1.0\" encoding=\"UTF-8\" standalone=\"no\"?><svg xmlns=\"http://www.w3.org/2000/svg\" xmlns:xlink=\"http://www.w3.org/1999/xlink\" contentScriptType=\"application/ecmascript\" contentStyleType=\"text/css\" height=\"12px\" preserveAspectRatio=\"none\" style=\"width:12px;height:12px;\" version=\"1.1\" viewBox=\"0 0 12 12\" width=\"12px\" zoomAndPan=\"magnify\"><defs/><g><!--MD5=[6c4bca67b4d71758159a5a7f1f1e1fc2]\n",
       "@startuml\r\n",
       "skinparam roundcorner 20\r\n",
       "skinparam BoxPadding 20\r\n",
       "skinparam SequenceBoxBackgroundColor #white\r\n",
       "skinparam style strictuml\r\n",
       "skinparam maxMessageSize 100\r\n",
       "skinparam wrapWidth 300\r\n",
       "hide circle\r\n",
       "\r\n",
       "@enduml\r\n",
       "\n",
       "PlantUML version 1.2020.13(Sat Jun 13 12:26:38 UTC 2020)\n",
       "(EPL source distribution)\n",
       "Java Runtime: OpenJDK Runtime Environment\n",
       "JVM: OpenJDK 64-Bit Server VM\n",
       "Default Encoding: UTF-8\n",
       "Language: en\n",
       "Country: null\n",
       "--></g></svg>"
      ]
     },
     "execution_count": 28,
     "metadata": {},
     "output_type": "execute_result"
    }
   ],
   "source": [
    "%viz --style=\"STDCOLOR\" --view=\"Sequence\" \"AliasTest\""
   ]
  },
  {
   "cell_type": "code",
   "execution_count": 29,
   "id": "4d4518d8",
   "metadata": {
    "execution": {
     "iopub.execute_input": "2022-08-19T08:20:49.521533Z",
     "iopub.status.busy": "2022-08-19T08:20:49.520828Z",
     "iopub.status.idle": "2022-08-19T08:20:49.587437Z",
     "shell.execute_reply": "2022-08-19T08:20:49.585825Z"
    }
   },
   "outputs": [
    {
     "data": {
      "image/svg+xml": [
       "<?xml version=\"1.0\" encoding=\"UTF-8\" standalone=\"no\"?><svg xmlns=\"http://www.w3.org/2000/svg\" xmlns:xlink=\"http://www.w3.org/1999/xlink\" contentScriptType=\"application/ecmascript\" contentStyleType=\"text/css\" height=\"387px\" preserveAspectRatio=\"none\" style=\"width:406px;height:387px;\" version=\"1.1\" viewBox=\"0 0 406 387\" width=\"406px\" zoomAndPan=\"magnify\"><defs><filter height=\"300%\" id=\"fgmkcrl1wrf0m\" width=\"300%\" x=\"-1\" y=\"-1\"><feGaussianBlur result=\"blurOut\" stdDeviation=\"2.0\"/><feColorMatrix in=\"blurOut\" result=\"blurOut2\" type=\"matrix\" values=\"0 0 0 0 0 0 0 0 0 0 0 0 0 0 0 0 0 0 .4 0\"/><feOffset dx=\"4.0\" dy=\"4.0\" in=\"blurOut2\" result=\"blurOut3\"/><feBlend in=\"SourceGraphic\" in2=\"blurOut3\" mode=\"normal\"/></filter></defs><g><!--MD5=[fbc87193dbaf4d95561dea2c320d4a47]\n",
       "cluster E1--><a href=\"psysml:02b7e9b9-6677-468f-8dad-8ced33a218a4\" target=\"_top\" title=\"psysml:02b7e9b9-6677-468f-8dad-8ced33a218a4\" xlink:actuate=\"onRequest\" xlink:href=\"psysml:02b7e9b9-6677-468f-8dad-8ced33a218a4\" xlink:show=\"new\" xlink:title=\"psysml:02b7e9b9-6677-468f-8dad-8ced33a218a4\" xlink:type=\"simple\"><polygon fill=\"#FFFFFF\" filter=\"url(#fgmkcrl1wrf0m)\" points=\"16,6,84,6,91,28.2969,384,28.2969,384,375,16,375,16,6\" style=\"stroke: #000000; stroke-width: 1.5;\"/><line style=\"stroke: #000000; stroke-width: 1.5;\" x1=\"16\" x2=\"91\" y1=\"28.2969\" y2=\"28.2969\"/><text fill=\"#000000\" font-family=\"sans-serif\" font-size=\"14\" font-weight=\"bold\" lengthAdjust=\"spacingAndGlyphs\" textLength=\"62\" x=\"20\" y=\"20.9951\">AliasTest</text></a><!--MD5=[b4997ac47864f28c2f74865a473b2911]\n",
       "class E2--><a href=\"psysml:c7feeda3-a834-41bb-a074-923ea0011430\" target=\"_top\" title=\"psysml:c7feeda3-a834-41bb-a074-923ea0011430\" xlink:actuate=\"onRequest\" xlink:href=\"psysml:c7feeda3-a834-41bb-a074-923ea0011430\" xlink:show=\"new\" xlink:title=\"psysml:c7feeda3-a834-41bb-a074-923ea0011430\" xlink:type=\"simple\"><rect fill=\"#FEFECE\" filter=\"url(#fgmkcrl1wrf0m)\" height=\"45.9375\" id=\"E2\" rx=\"10\" ry=\"10\" style=\"stroke: #A80036; stroke-width: 1.5;\" width=\"165\" x=\"202.5\" y=\"56\"/><text fill=\"#000000\" font-family=\"sans-serif\" font-size=\"12\" font-style=\"italic\" lengthAdjust=\"spacingAndGlyphs\" textLength=\"69\" x=\"250.5\" y=\"72.1387\">«attribute»</text><text fill=\"#000000\" font-family=\"sans-serif\" font-size=\"12\" lengthAdjust=\"spacingAndGlyphs\" textLength=\"159\" x=\"205.5\" y=\"86.1074\">b :&gt; ISQSpaceTime::width</text><line style=\"stroke: #A80036; stroke-width: 1.5;\" x1=\"203.5\" x2=\"366.5\" y1=\"93.9375\" y2=\"93.9375\"/></a><!--MD5=[09b614a08d8cba4a07c9adeb5e0fee81]\n",
       "class E3--><a href=\"psysml:1a450028-471a-4a88-b6bb-254dda2007f7\" target=\"_top\" title=\"psysml:1a450028-471a-4a88-b6bb-254dda2007f7\" xlink:actuate=\"onRequest\" xlink:href=\"psysml:1a450028-471a-4a88-b6bb-254dda2007f7\" xlink:show=\"new\" xlink:title=\"psysml:1a450028-471a-4a88-b6bb-254dda2007f7\" xlink:type=\"simple\"><rect fill=\"#FEFECE\" filter=\"url(#fgmkcrl1wrf0m)\" height=\"75.5469\" id=\"E3\" style=\"stroke: #A80036; stroke-width: 1.5;\" width=\"70\" x=\"158\" y=\"177\"/><text fill=\"#000000\" font-family=\"sans-serif\" font-size=\"12\" font-style=\"italic\" lengthAdjust=\"spacingAndGlyphs\" textLength=\"68\" x=\"159\" y=\"193.1387\">«part  def»</text><text fill=\"#000000\" font-family=\"sans-serif\" font-size=\"12\" lengthAdjust=\"spacingAndGlyphs\" textLength=\"16\" x=\"185\" y=\"207.1074\">P1</text><line style=\"stroke: #A80036; stroke-width: 1.5;\" x1=\"159\" x2=\"227\" y1=\"214.9375\" y2=\"214.9375\"/><text fill=\"#000000\" font-family=\"sans-serif\" font-size=\"11\" lengthAdjust=\"spacingAndGlyphs\" textLength=\"36\" x=\"164\" y=\"245.9526\">porig1</text><line style=\"stroke: #A80036; stroke-width: 1.0;\" x1=\"159\" x2=\"178\" y1=\"229.3398\" y2=\"229.3398\"/><text fill=\"#000000\" font-family=\"sans-serif\" font-size=\"11\" lengthAdjust=\"spacingAndGlyphs\" textLength=\"30\" x=\"178\" y=\"232.6479\">ports</text><line style=\"stroke: #A80036; stroke-width: 1.0;\" x1=\"208\" x2=\"227\" y1=\"229.3398\" y2=\"229.3398\"/></a><!--MD5=[ebbe1d658d1005bcc118a6aa81145e00]\n",
       "class E4--><a href=\"psysml:528ad082-e547-41e1-93e2-4f734da3b1f6\" target=\"_top\" title=\"psysml:528ad082-e547-41e1-93e2-4f734da3b1f6\" xlink:actuate=\"onRequest\" xlink:href=\"psysml:528ad082-e547-41e1-93e2-4f734da3b1f6\" xlink:show=\"new\" xlink:title=\"psysml:528ad082-e547-41e1-93e2-4f734da3b1f6\" xlink:type=\"simple\"><rect fill=\"#FEFECE\" filter=\"url(#fgmkcrl1wrf0m)\" height=\"45.9375\" id=\"E4\" rx=\"10\" ry=\"10\" style=\"stroke: #A80036; stroke-width: 1.5;\" width=\"50\" x=\"164\" y=\"313\"/><text fill=\"#000000\" font-family=\"sans-serif\" font-size=\"12\" font-style=\"italic\" lengthAdjust=\"spacingAndGlyphs\" textLength=\"40\" x=\"169\" y=\"329.1387\">«port»</text><text fill=\"#000000\" font-family=\"sans-serif\" font-size=\"12\" lengthAdjust=\"spacingAndGlyphs\" textLength=\"40\" x=\"167\" y=\"343.1074\">porig1</text><line style=\"stroke: #A80036; stroke-width: 1.5;\" x1=\"165\" x2=\"213\" y1=\"350.9375\" y2=\"350.9375\"/></a><!--MD5=[270fce915f116d4de14055a7c1d9a0f3]\n",
       "class E5--><a href=\"psysml:73838eb5-9ecb-4193-8391-1ddf76ff61b3\" target=\"_top\" title=\"psysml:73838eb5-9ecb-4193-8391-1ddf76ff61b3\" xlink:actuate=\"onRequest\" xlink:href=\"psysml:73838eb5-9ecb-4193-8391-1ddf76ff61b3\" xlink:show=\"new\" xlink:title=\"psysml:73838eb5-9ecb-4193-8391-1ddf76ff61b3\" xlink:type=\"simple\"><rect fill=\"#FEFECE\" filter=\"url(#fgmkcrl1wrf0m)\" height=\"45.9375\" id=\"E5\" rx=\"10\" ry=\"10\" style=\"stroke: #A80036; stroke-width: 1.5;\" width=\"50\" x=\"117\" y=\"56\"/><text fill=\"#000000\" font-family=\"sans-serif\" font-size=\"12\" font-style=\"italic\" lengthAdjust=\"spacingAndGlyphs\" textLength=\"40\" x=\"122\" y=\"72.1387\">«part»</text><text fill=\"#000000\" font-family=\"sans-serif\" font-size=\"12\" lengthAdjust=\"spacingAndGlyphs\" textLength=\"40\" x=\"120\" y=\"86.1074\">p1: P1</text><line style=\"stroke: #A80036; stroke-width: 1.5;\" x1=\"118\" x2=\"166\" y1=\"93.9375\" y2=\"93.9375\"/></a><!--MD5=[60a26617385b1d2d0262a64233df1f8d]\n",
       "class E6--><a href=\"psysml:6875339d-23d6-4973-8a77-102c2bf220f1\" target=\"_top\" title=\"psysml:6875339d-23d6-4973-8a77-102c2bf220f1\" xlink:actuate=\"onRequest\" xlink:href=\"psysml:6875339d-23d6-4973-8a77-102c2bf220f1\" xlink:show=\"new\" xlink:title=\"psysml:6875339d-23d6-4973-8a77-102c2bf220f1\" xlink:type=\"simple\"><rect fill=\"#FEFECE\" filter=\"url(#fgmkcrl1wrf0m)\" height=\"45.9375\" id=\"E6\" rx=\"10\" ry=\"10\" style=\"stroke: #A80036; stroke-width: 1.5;\" width=\"42\" x=\"81\" y=\"192\"/><text fill=\"#000000\" font-family=\"sans-serif\" font-size=\"12\" font-style=\"italic\" lengthAdjust=\"spacingAndGlyphs\" textLength=\"40\" x=\"82\" y=\"208.1387\">«port»</text><text fill=\"#000000\" font-family=\"sans-serif\" font-size=\"12\" lengthAdjust=\"spacingAndGlyphs\" textLength=\"24\" x=\"88\" y=\"222.1074\">po1</text><line style=\"stroke: #A80036; stroke-width: 1.5;\" x1=\"82\" x2=\"122\" y1=\"229.9375\" y2=\"229.9375\"/></a><!--MD5=[2156ba9850f5573cc1fc38a6a4b2f02b]\n",
       "class E7--><a href=\"psysml:73d7b051-2240-4fe3-9278-fa0d634854f8\" target=\"_top\" title=\"psysml:73d7b051-2240-4fe3-9278-fa0d634854f8\" xlink:actuate=\"onRequest\" xlink:href=\"psysml:73d7b051-2240-4fe3-9278-fa0d634854f8\" xlink:show=\"new\" xlink:title=\"psysml:73d7b051-2240-4fe3-9278-fa0d634854f8\" xlink:type=\"simple\"><rect fill=\"#FEFECE\" filter=\"url(#fgmkcrl1wrf0m)\" height=\"75.5469\" id=\"E7\" rx=\"10\" ry=\"10\" style=\"stroke: #A80036; stroke-width: 1.5;\" width=\"50\" x=\"32\" y=\"41\"/><text fill=\"#000000\" font-family=\"sans-serif\" font-size=\"12\" font-style=\"italic\" lengthAdjust=\"spacingAndGlyphs\" textLength=\"40\" x=\"37\" y=\"57.1387\">«part»</text><text fill=\"#000000\" font-family=\"sans-serif\" font-size=\"12\" lengthAdjust=\"spacingAndGlyphs\" textLength=\"40\" x=\"35\" y=\"71.1074\">p2: P1</text><line style=\"stroke: #A80036; stroke-width: 1.5;\" x1=\"33\" x2=\"81\" y1=\"78.9375\" y2=\"78.9375\"/><text fill=\"#000000\" font-family=\"sans-serif\" font-size=\"11\" lengthAdjust=\"spacingAndGlyphs\" textLength=\"32\" x=\"38\" y=\"109.9526\">pdest</text><line style=\"stroke: #A80036; stroke-width: 1.0;\" x1=\"33\" x2=\"42\" y1=\"93.3398\" y2=\"93.3398\"/><text fill=\"#000000\" font-family=\"sans-serif\" font-size=\"11\" lengthAdjust=\"spacingAndGlyphs\" textLength=\"30\" x=\"42\" y=\"96.6479\">ports</text><line style=\"stroke: #A80036; stroke-width: 1.0;\" x1=\"72\" x2=\"81\" y1=\"93.3398\" y2=\"93.3398\"/></a><!--MD5=[b9389687b975829384b498ac4b7476b2]\n",
       "class E8--><a href=\"psysml:6cb98d60-0ab8-42f0-badc-3a033a17e212\" target=\"_top\" title=\"psysml:6cb98d60-0ab8-42f0-badc-3a033a17e212\" xlink:actuate=\"onRequest\" xlink:href=\"psysml:6cb98d60-0ab8-42f0-badc-3a033a17e212\" xlink:show=\"new\" xlink:title=\"psysml:6cb98d60-0ab8-42f0-badc-3a033a17e212\" xlink:type=\"simple\"><rect fill=\"#FEFECE\" filter=\"url(#fgmkcrl1wrf0m)\" height=\"45.9375\" id=\"E8\" rx=\"10\" ry=\"10\" style=\"stroke: #A80036; stroke-width: 1.5;\" width=\"46\" x=\"79\" y=\"313\"/><text fill=\"#000000\" font-family=\"sans-serif\" font-size=\"12\" font-style=\"italic\" lengthAdjust=\"spacingAndGlyphs\" textLength=\"40\" x=\"82\" y=\"329.1387\">«port»</text><text fill=\"#000000\" font-family=\"sans-serif\" font-size=\"12\" lengthAdjust=\"spacingAndGlyphs\" textLength=\"36\" x=\"82\" y=\"343.1074\">pdest</text><line style=\"stroke: #A80036; stroke-width: 1.5;\" x1=\"80\" x2=\"124\" y1=\"350.9375\" y2=\"350.9375\"/></a><!--MD5=[4672eba38e49728da53d11aeb285b987]\n",
       "reverse link E3 to E4--><a href=\"psysml:b408bcfe-af80-429f-8bb7-74524c32282e\" target=\"_top\" title=\"psysml:b408bcfe-af80-429f-8bb7-74524c32282e\" xlink:actuate=\"onRequest\" xlink:href=\"psysml:b408bcfe-af80-429f-8bb7-74524c32282e\" xlink:show=\"new\" xlink:title=\"psysml:b408bcfe-af80-429f-8bb7-74524c32282e\" xlink:type=\"simple\"><path d=\"M191.31,266.34 C190.76,282.61 190.18,299.81 189.74,312.93 \" fill=\"none\" id=\"E3&lt;-E4\" style=\"stroke: #A80036; stroke-width: 1.0;\"/><polygon fill=\"#FFFFFF\" points=\"191.76,253,187.558,258.8603,191.3514,264.993,195.5534,259.1327,191.76,253\" style=\"stroke: #A80036; stroke-width: 1.0;\"/><text fill=\"#000000\" font-family=\"sans-serif\" font-size=\"13\" lengthAdjust=\"spacingAndGlyphs\" textLength=\"8\" x=\"180.8639\" y=\"301.8075\">1</text></a><!--MD5=[e9be52314489bd878ff4c7144b63c9e1]\n",
       "link E5 to E3--><a href=\"psysml:de9d1539-3df1-480f-91a9-ed9f950b1f96\" target=\"_top\" title=\"psysml:de9d1539-3df1-480f-91a9-ed9f950b1f96\" xlink:actuate=\"onRequest\" xlink:href=\"psysml:de9d1539-3df1-480f-91a9-ed9f950b1f96\" xlink:show=\"new\" xlink:title=\"psysml:de9d1539-3df1-480f-91a9-ed9f950b1f96\" xlink:type=\"simple\"><path d=\"M150.42,102.13 C156.21,117.35 164.18,138.29 171.66,157.93 \" fill=\"none\" id=\"E5-&gt;E3\" style=\"stroke: #A80036; stroke-width: 1.0;\"/><polygon fill=\"#FFFFFF\" points=\"178.88,176.89,165.5815,161.6208,178.6665,156.6427,178.88,176.89\" style=\"stroke: #A80036; stroke-width: 1.0;\"/><ellipse cx=\"165.424\" cy=\"155.5821\" fill=\"#A80036\" rx=\"2\" ry=\"2\" style=\"stroke: #A80036; stroke-width: 1.0;\"/><ellipse cx=\"174.7704\" cy=\"152.0263\" fill=\"#A80036\" rx=\"2\" ry=\"2\" style=\"stroke: #A80036; stroke-width: 1.0;\"/></a><!--MD5=[85d356282659285ab4b2cfe2f634dd2b]\n",
       "reverse link E5 to E6--><a href=\"psysml:1d973b34-aa26-4796-bb60-99a7b7743581\" target=\"_top\" title=\"psysml:1d973b34-aa26-4796-bb60-99a7b7743581\" xlink:actuate=\"onRequest\" xlink:href=\"psysml:1d973b34-aa26-4796-bb60-99a7b7743581\" xlink:show=\"new\" xlink:title=\"psysml:1d973b34-aa26-4796-bb60-99a7b7743581\" xlink:type=\"simple\"><path d=\"M131.62,114.76 C124.36,139.1 114.87,170.88 108.61,191.84 \" fill=\"none\" id=\"E5&lt;-E6\" style=\"stroke: #A80036; stroke-width: 1.0;\"/><polygon fill=\"#FFFFFF\" points=\"135.39,102.13,129.8375,106.7311,131.9491,113.6261,137.5016,109.025,135.39,102.13\" style=\"stroke: #A80036; stroke-width: 1.0;\"/><text fill=\"#000000\" font-family=\"sans-serif\" font-size=\"13\" lengthAdjust=\"spacingAndGlyphs\" textLength=\"8\" x=\"101.2788\" y=\"181.0753\">1</text></a><!--MD5=[f667431f98296947986a1a7595a31603]\n",
       "link E6 to E4--><a href=\"psysml:73eeba8b-cad5-4501-9cd6-c52ba77489ee\" target=\"_top\" title=\"psysml:73eeba8b-cad5-4501-9cd6-c52ba77489ee\" xlink:actuate=\"onRequest\" xlink:href=\"psysml:73eeba8b-cad5-4501-9cd6-c52ba77489ee\" xlink:show=\"new\" xlink:title=\"psysml:73eeba8b-cad5-4501-9cd6-c52ba77489ee\" xlink:type=\"simple\"><path d=\"M118.16,238.1 C130.11,254.45 146.69,277.12 160.8,296.43 \" fill=\"none\" id=\"E6-&gt;E4\" style=\"stroke: #A80036; stroke-width: 1.0;\"/><polygon fill=\"#FFFFFF\" points=\"172.63,312.61,155.76,301.4117,167.0576,293.1434,172.63,312.61\" style=\"stroke: #A80036; stroke-width: 1.0;\"/><line style=\"stroke: #A80036; stroke-width: 2.0;\" x1=\"153.5158\" x2=\"164.8134\" y1=\"298.3452\" y2=\"290.0769\"/></a><!--MD5=[14ccda38c055a5c0da953d572bc50960]\n",
       "link E7 to E3--><a href=\"psysml:52eea9f8-f20f-41d5-8944-6f19cdd988b1\" target=\"_top\" title=\"psysml:52eea9f8-f20f-41d5-8944-6f19cdd988b1\" xlink:actuate=\"onRequest\" xlink:href=\"psysml:52eea9f8-f20f-41d5-8944-6f19cdd988b1\" xlink:show=\"new\" xlink:title=\"psysml:52eea9f8-f20f-41d5-8944-6f19cdd988b1\" xlink:type=\"simple\"><path d=\"M82.26,104.89 C99.38,121.76 122.59,144.62 143.33,165.06 \" fill=\"none\" id=\"E7-&gt;E3\" style=\"stroke: #A80036; stroke-width: 1.0;\"/><polygon fill=\"#FFFFFF\" points=\"157.88,179.39,139.4314,171.0443,149.2556,161.0701,157.88,179.39\" style=\"stroke: #A80036; stroke-width: 1.0;\"/><ellipse cx=\"136.774\" cy=\"165.6196\" fill=\"#A80036\" rx=\"2\" ry=\"2\" style=\"stroke: #A80036; stroke-width: 1.0;\"/><ellipse cx=\"143.7912\" cy=\"158.4951\" fill=\"#A80036\" rx=\"2\" ry=\"2\" style=\"stroke: #A80036; stroke-width: 1.0;\"/></a><!--MD5=[dc164f5e8a733ab456ef1add180e9e34]\n",
       "reverse link E7 to E8--><a href=\"psysml:7dc24cb7-d6ba-40a4-b073-8d397bf1a7ae\" target=\"_top\" title=\"psysml:7dc24cb7-d6ba-40a4-b073-8d397bf1a7ae\" xlink:actuate=\"onRequest\" xlink:href=\"psysml:7dc24cb7-d6ba-40a4-b073-8d397bf1a7ae\" xlink:show=\"new\" xlink:title=\"psysml:7dc24cb7-d6ba-40a4-b073-8d397bf1a7ae\" xlink:type=\"simple\"><path d=\"M53.89,130.23 C52.97,165.15 54.21,212.5 64,253 C69.16,274.35 80.04,296.87 88.84,312.9 \" fill=\"none\" id=\"E7&lt;-E8\" style=\"stroke: #A80036; stroke-width: 1.0;\"/><polygon fill=\"#FFFFFF\" points=\"54.36,117.03,50.1514,122.8856,53.9378,129.0226,58.1464,123.167,54.36,117.03\" style=\"stroke: #A80036; stroke-width: 1.0;\"/><text fill=\"#000000\" font-family=\"sans-serif\" font-size=\"13\" lengthAdjust=\"spacingAndGlyphs\" textLength=\"8\" x=\"86.3783\" y=\"301.7694\">1</text></a><!--MD5=[0a839d0f80c2d72d4b9b307f046d0de8]\n",
       "link E6 to E8--><a href=\"psysml:6785e7ae-ef30-46fa-a69d-d6daab2c7c15\" target=\"_top\" title=\"psysml:6785e7ae-ef30-46fa-a69d-d6daab2c7c15\" xlink:actuate=\"onRequest\" xlink:href=\"psysml:6785e7ae-ef30-46fa-a69d-d6daab2c7c15\" xlink:show=\"new\" xlink:title=\"psysml:6785e7ae-ef30-46fa-a69d-d6daab2c7c15\" xlink:type=\"simple\"><path d=\"M91.82,238.1 C88.41,259.34 88.39,291.28 91.78,312.61 \" fill=\"none\" id=\"E6-E8\" style=\"stroke: #A80036; stroke-width: 3.0;\"/><text fill=\"#000000\" font-family=\"sans-serif\" font-size=\"13\" lengthAdjust=\"spacingAndGlyphs\" textLength=\"7\" x=\"81.2643\" y=\"301.7864\">*</text></a><!--MD5=[0a839d0f80c2d72d4b9b307f046d0de8]\n",
       "link E6 to E8--><a href=\"psysml:868c8138-312d-42c2-8f4f-f83047efce23\" target=\"_top\" title=\"psysml:868c8138-312d-42c2-8f4f-f83047efce23\" xlink:actuate=\"onRequest\" xlink:href=\"psysml:868c8138-312d-42c2-8f4f-f83047efce23\" xlink:show=\"new\" xlink:title=\"psysml:868c8138-312d-42c2-8f4f-f83047efce23\" xlink:type=\"simple\"><path d=\"M112.78,238.1 C116.39,259.34 116.41,291.28 112.82,312.61 \" fill=\"none\" id=\"E6-E8-1\" style=\"stroke: #A80036; stroke-width: 3.0;\"/><text fill=\"#000000\" font-family=\"sans-serif\" font-size=\"13\" lengthAdjust=\"spacingAndGlyphs\" textLength=\"7\" x=\"107.6957\" y=\"301.7864\">*</text></a><!--MD5=[bae727adcc9329e81e61fd88fa504602]\n",
       "@startuml\r\n",
       "skinparam wrapWidth 300\r\n",
       "hide circle\r\n",
       "\r\n",
       "package \"AliasTest\" as E1  [[psysml:02b7e9b9-6677-468f-8dad-8ced33a218a4 ]]  {\r\n",
       "comp usage \"b :> ISQSpaceTime::width\" as E2  <<(T,blue) attribute>> [[psysml:c7feeda3-a834-41bb-a074-923ea0011430 ]] {\r\n",
       "}\r\n",
       "comp def \"P1\" as E3  <<(T,blue) part  def>> [[psysml:1a450028-471a-4a88-b6bb-254dda2007f7 ]] {\r\n",
       "- - ports - -\r\n",
       "porig1\r\n",
       "}\r\n",
       "comp usage \"porig1 \" as E4  <<(T,blue) port>> [[psysml:528ad082-e547-41e1-93e2-4f734da3b1f6 ]] {\r\n",
       "}\r\n",
       "comp usage \"p1: P1 \" as E5  <<(T,blue) part>> [[psysml:73838eb5-9ecb-4193-8391-1ddf76ff61b3 ]] {\r\n",
       "}\r\n",
       "comp usage \"po1 \" as E6  <<(T,blue) port>> [[psysml:6875339d-23d6-4973-8a77-102c2bf220f1 ]] {\r\n",
       "}\r\n",
       "comp usage \"p2: P1 \" as E7  <<(T,blue) part>> [[psysml:73d7b051-2240-4fe3-9278-fa0d634854f8 ]] {\r\n",
       "- - ports - -\r\n",
       "pdest\r\n",
       "}\r\n",
       "comp usage \"pdest \" as E8  <<(T,blue) port>> [[psysml:6cb98d60-0ab8-42f0-badc-3a033a17e212 ]] {\r\n",
       "}\r\n",
       "}\r\n",
       "E3 o- - \"1\"E4 [[psysml:b408bcfe-af80-429f-8bb7-74524c32282e ]] \r\n",
       "E5 - -:|> E3 [[psysml:de9d1539-3df1-480f-91a9-ed9f950b1f96 ]] \r\n",
       "E5 o- - \"1\"E6 [[psysml:1d973b34-aa26-4796-bb60-99a7b7743581 ]] \r\n",
       "E6 - -||> E4 [[psysml:73eeba8b-cad5-4501-9cd6-c52ba77489ee ]] \r\n",
       "E7 - -:|> E3 [[psysml:52eea9f8-f20f-41d5-8944-6f19cdd988b1 ]] \r\n",
       "E7 o- - \"1\"E8 [[psysml:7dc24cb7-d6ba-40a4-b073-8d397bf1a7ae ]] \r\n",
       "E6 -[thickness=3]- \"*\"E8 [[psysml:6785e7ae-ef30-46fa-a69d-d6daab2c7c15 ]] \r\n",
       "E6 -[thickness=3]- \"*\"E8 [[psysml:868c8138-312d-42c2-8f4f-f83047efce23 ]] \r\n",
       "@enduml\r\n",
       "\n",
       "PlantUML version 1.2020.13(Sat Jun 13 12:26:38 UTC 2020)\n",
       "(EPL source distribution)\n",
       "Java Runtime: OpenJDK Runtime Environment\n",
       "JVM: OpenJDK 64-Bit Server VM\n",
       "Default Encoding: UTF-8\n",
       "Language: en\n",
       "Country: null\n",
       "--></g></svg>"
      ]
     },
     "execution_count": 29,
     "metadata": {},
     "output_type": "execute_result"
    }
   ],
   "source": [
    "%viz --style=\"STDCOLOR\" --view=\"MIXED\" \"AliasTest\""
   ]
  },
  {
   "cell_type": "code",
   "execution_count": 30,
   "id": "2825a667",
   "metadata": {
    "execution": {
     "iopub.execute_input": "2022-08-19T08:20:49.637022Z",
     "iopub.status.busy": "2022-08-19T08:20:49.636330Z",
     "iopub.status.idle": "2022-08-19T08:20:49.727634Z",
     "shell.execute_reply": "2022-08-19T08:20:49.727287Z"
    }
   },
   "outputs": [
    {
     "data": {
      "image/svg+xml": [
       "<?xml version=\"1.0\" encoding=\"UTF-8\" standalone=\"no\"?><svg xmlns=\"http://www.w3.org/2000/svg\" xmlns:xlink=\"http://www.w3.org/1999/xlink\" contentScriptType=\"application/ecmascript\" contentStyleType=\"text/css\" height=\"381px\" preserveAspectRatio=\"none\" style=\"width:484px;height:381px;\" version=\"1.1\" viewBox=\"0 0 484 381\" width=\"484px\" zoomAndPan=\"magnify\"><defs><filter height=\"300%\" id=\"fuj98434y9449\" width=\"300%\" x=\"-1\" y=\"-1\"><feGaussianBlur result=\"blurOut\" stdDeviation=\"2.0\"/><feColorMatrix in=\"blurOut\" result=\"blurOut2\" type=\"matrix\" values=\"0 0 0 0 0 0 0 0 0 0 0 0 0 0 0 0 0 0 .4 0\"/><feOffset dx=\"4.0\" dy=\"4.0\" in=\"blurOut2\" result=\"blurOut3\"/><feBlend in=\"SourceGraphic\" in2=\"blurOut3\" mode=\"normal\"/></filter></defs><g><!--MD5=[fbc87193dbaf4d95561dea2c320d4a47]\n",
       "cluster E1--><a href=\"psysml:02b7e9b9-6677-468f-8dad-8ced33a218a4\" target=\"_top\" title=\"psysml:02b7e9b9-6677-468f-8dad-8ced33a218a4\" xlink:actuate=\"onRequest\" xlink:href=\"psysml:02b7e9b9-6677-468f-8dad-8ced33a218a4\" xlink:show=\"new\" xlink:title=\"psysml:02b7e9b9-6677-468f-8dad-8ced33a218a4\" xlink:type=\"simple\"><polygon fill=\"#FFFFFF\" filter=\"url(#fuj98434y9449)\" points=\"16,6,84,6,91,28.2969,462,28.2969,462,369,16,369,16,6\" style=\"stroke: #000000; stroke-width: 1.5;\"/><line style=\"stroke: #000000; stroke-width: 1.5;\" x1=\"16\" x2=\"91\" y1=\"28.2969\" y2=\"28.2969\"/><text fill=\"#000000\" font-family=\"sans-serif\" font-size=\"14\" font-weight=\"bold\" lengthAdjust=\"spacingAndGlyphs\" textLength=\"62\" x=\"20\" y=\"20.9951\">AliasTest</text></a><!--MD5=[b4997ac47864f28c2f74865a473b2911]\n",
       "class E2--><a href=\"psysml:c7feeda3-a834-41bb-a074-923ea0011430\" target=\"_top\" title=\"psysml:c7feeda3-a834-41bb-a074-923ea0011430\" xlink:actuate=\"onRequest\" xlink:href=\"psysml:c7feeda3-a834-41bb-a074-923ea0011430\" xlink:show=\"new\" xlink:title=\"psysml:c7feeda3-a834-41bb-a074-923ea0011430\" xlink:type=\"simple\"><rect fill=\"#FEFECE\" filter=\"url(#fuj98434y9449)\" height=\"45.9375\" id=\"E2\" rx=\"10\" ry=\"10\" style=\"stroke: #A80036; stroke-width: 1.5;\" width=\"191\" x=\"254.5\" y=\"56\"/><ellipse cx=\"269.5\" cy=\"74.9688\" fill=\"#FFA500\" rx=\"11\" ry=\"11\" style=\"stroke: #A80036; stroke-width: 1.0;\"/><path d=\"M269.25,80.4375 Q267.5,80.4375 266.5469,79.4063 Q265.6094,78.3594 265.6094,76.5156 L265.6094,69.625 L267.6719,69.625 L267.6719,69.7813 Q267.5781,69.875 267.5469,70.0156 Q267.5313,70.1406 267.5313,70.4063 L267.5313,76.5313 Q267.5313,77.625 267.9063,78.25 Q268.2813,78.875 269.2656,78.875 Q270.25,78.875 270.6406,78.25 Q271.0313,77.625 271.0313,76.4844 L271.0313,69.625 L272.9063,69.625 L272.9063,76.4688 Q272.9063,78.5 271.875,79.4688 Q270.8594,80.4375 269.25,80.4375 Z \"/><text fill=\"#000000\" font-family=\"sans-serif\" font-size=\"12\" font-style=\"italic\" lengthAdjust=\"spacingAndGlyphs\" textLength=\"69\" x=\"328.5\" y=\"72.1387\">«attribute»</text><text fill=\"#000000\" font-family=\"sans-serif\" font-size=\"12\" lengthAdjust=\"spacingAndGlyphs\" textLength=\"159\" x=\"283.5\" y=\"86.1074\">b :&gt; ISQSpaceTime::width</text><line style=\"stroke: #A80036; stroke-width: 1.5;\" x1=\"255.5\" x2=\"444.5\" y1=\"93.9375\" y2=\"93.9375\"/></a><!--MD5=[09b614a08d8cba4a07c9adeb5e0fee81]\n",
       "class E3--><a href=\"psysml:1a450028-471a-4a88-b6bb-254dda2007f7\" target=\"_top\" title=\"psysml:1a450028-471a-4a88-b6bb-254dda2007f7\" xlink:actuate=\"onRequest\" xlink:href=\"psysml:1a450028-471a-4a88-b6bb-254dda2007f7\" xlink:show=\"new\" xlink:title=\"psysml:1a450028-471a-4a88-b6bb-254dda2007f7\" xlink:type=\"simple\"><rect fill=\"#FEFECE\" filter=\"url(#fuj98434y9449)\" height=\"69.6094\" id=\"E3\" style=\"stroke: #A80036; stroke-width: 1.5;\" width=\"48\" x=\"190\" y=\"177\"/><ellipse cx=\"205\" cy=\"193\" fill=\"#008000\" rx=\"11\" ry=\"11\" style=\"stroke: #A80036; stroke-width: 1.0;\"/><path d=\"M201.875,198 L201.875,187.4063 L205.1094,187.4063 Q207.0156,187.4063 207.9219,188.1563 Q208.8438,188.9063 208.8438,190.0781 Q208.8438,190.7656 208.4531,191.4219 Q208.0781,192.0781 207.3594,192.375 Q208.2188,192.75 208.7344,193.4375 Q209.25,194.125 209.25,194.9375 Q209.25,196.3125 208.2188,197.1563 Q207.2031,198 205.0938,198 L201.875,198 Z M203.7969,191.6406 L204.9531,191.6406 Q206.0781,191.6406 206.4844,191.2656 Q206.9063,190.875 206.9063,190.25 Q206.9063,189.6719 206.4844,189.3125 Q206.0625,188.9531 205.125,188.9531 L203.7969,188.9531 L203.7969,191.6406 Z M203.7969,196.4219 L205.2969,196.4219 Q206.2031,196.4219 206.7344,196.0313 Q207.2656,195.6406 207.2656,194.8906 Q207.2656,194.125 206.7656,193.6563 Q206.2656,193.1719 205,193.1719 L203.7969,193.1719 L203.7969,196.4219 Z \"/><text fill=\"#000000\" font-family=\"sans-serif\" font-size=\"12\" lengthAdjust=\"spacingAndGlyphs\" textLength=\"16\" x=\"219\" y=\"197.1543\">P1</text><line style=\"stroke: #A80036; stroke-width: 1.5;\" x1=\"191\" x2=\"237\" y1=\"209\" y2=\"209\"/><text fill=\"#000000\" font-family=\"sans-serif\" font-size=\"11\" lengthAdjust=\"spacingAndGlyphs\" textLength=\"36\" x=\"196\" y=\"240.0151\">porig1</text><line style=\"stroke: #A80036; stroke-width: 1.0;\" x1=\"191\" x2=\"199\" y1=\"223.4023\" y2=\"223.4023\"/><text fill=\"#000000\" font-family=\"sans-serif\" font-size=\"11\" lengthAdjust=\"spacingAndGlyphs\" textLength=\"30\" x=\"199\" y=\"226.7104\">ports</text><line style=\"stroke: #A80036; stroke-width: 1.0;\" x1=\"229\" x2=\"237\" y1=\"223.4023\" y2=\"223.4023\"/></a><!--MD5=[ebbe1d658d1005bcc118a6aa81145e00]\n",
       "class E4--><a href=\"psysml:528ad082-e547-41e1-93e2-4f734da3b1f6\" target=\"_top\" title=\"psysml:528ad082-e547-41e1-93e2-4f734da3b1f6\" xlink:actuate=\"onRequest\" xlink:href=\"psysml:528ad082-e547-41e1-93e2-4f734da3b1f6\" xlink:show=\"new\" xlink:title=\"psysml:528ad082-e547-41e1-93e2-4f734da3b1f6\" xlink:type=\"simple\"><rect fill=\"#FEFECE\" filter=\"url(#fuj98434y9449)\" height=\"45.9375\" id=\"E4\" rx=\"10\" ry=\"10\" style=\"stroke: #A80036; stroke-width: 1.5;\" width=\"76\" x=\"176\" y=\"307\"/><ellipse cx=\"191\" cy=\"325.9688\" fill=\"#0000FF\" rx=\"11\" ry=\"11\" style=\"stroke: #A80036; stroke-width: 1.0;\"/><path d=\"M187.8125,330.9688 L187.8125,320.375 L191.4219,320.375 Q192.6406,320.375 193.4375,320.8125 Q194.2344,321.2344 194.6094,321.9375 Q195,322.6406 195,323.4844 Q195,324.3281 194.625,325.0156 Q194.2656,325.7031 193.4688,326.125 Q192.6875,326.5313 191.5,326.5313 L189.7656,326.5313 L189.7656,330.9688 L187.8125,330.9688 Z M189.7656,324.9375 L191.375,324.9375 Q192.1875,324.9375 192.6094,324.5313 Q193.0313,324.125 193.0313,323.4844 Q193.0313,322.8594 192.6094,322.4531 Q192.1875,322.0469 191.3906,322.0469 L189.7656,322.0469 L189.7656,324.9375 Z \"/><text fill=\"#000000\" font-family=\"sans-serif\" font-size=\"12\" font-style=\"italic\" lengthAdjust=\"spacingAndGlyphs\" textLength=\"40\" x=\"207\" y=\"323.1387\">«port»</text><text fill=\"#000000\" font-family=\"sans-serif\" font-size=\"12\" lengthAdjust=\"spacingAndGlyphs\" textLength=\"40\" x=\"205\" y=\"337.1074\">porig1</text><line style=\"stroke: #A80036; stroke-width: 1.5;\" x1=\"177\" x2=\"251\" y1=\"344.9375\" y2=\"344.9375\"/></a><!--MD5=[270fce915f116d4de14055a7c1d9a0f3]\n",
       "class E5--><a href=\"psysml:73838eb5-9ecb-4193-8391-1ddf76ff61b3\" target=\"_top\" title=\"psysml:73838eb5-9ecb-4193-8391-1ddf76ff61b3\" xlink:actuate=\"onRequest\" xlink:href=\"psysml:73838eb5-9ecb-4193-8391-1ddf76ff61b3\" xlink:show=\"new\" xlink:title=\"psysml:73838eb5-9ecb-4193-8391-1ddf76ff61b3\" xlink:type=\"simple\"><rect fill=\"#FEFECE\" filter=\"url(#fuj98434y9449)\" height=\"45.9375\" id=\"E5\" rx=\"10\" ry=\"10\" style=\"stroke: #A80036; stroke-width: 1.5;\" width=\"76\" x=\"143\" y=\"56\"/><ellipse cx=\"158\" cy=\"74.9688\" fill=\"#32CD32\" rx=\"11\" ry=\"11\" style=\"stroke: #A80036; stroke-width: 1.0;\"/><path d=\"M154.8125,79.9688 L154.8125,69.375 L158.4219,69.375 Q159.6406,69.375 160.4375,69.8125 Q161.2344,70.2344 161.6094,70.9375 Q162,71.6406 162,72.4844 Q162,73.3281 161.625,74.0156 Q161.2656,74.7031 160.4688,75.125 Q159.6875,75.5313 158.5,75.5313 L156.7656,75.5313 L156.7656,79.9688 L154.8125,79.9688 Z M156.7656,73.9375 L158.375,73.9375 Q159.1875,73.9375 159.6094,73.5313 Q160.0313,73.125 160.0313,72.4844 Q160.0313,71.8594 159.6094,71.4531 Q159.1875,71.0469 158.3906,71.0469 L156.7656,71.0469 L156.7656,73.9375 Z \"/><text fill=\"#000000\" font-family=\"sans-serif\" font-size=\"12\" font-style=\"italic\" lengthAdjust=\"spacingAndGlyphs\" textLength=\"40\" x=\"174\" y=\"72.1387\">«part»</text><text fill=\"#000000\" font-family=\"sans-serif\" font-size=\"12\" lengthAdjust=\"spacingAndGlyphs\" textLength=\"40\" x=\"172\" y=\"86.1074\">p1: P1</text><line style=\"stroke: #A80036; stroke-width: 1.5;\" x1=\"144\" x2=\"218\" y1=\"93.9375\" y2=\"93.9375\"/></a><!--MD5=[60a26617385b1d2d0262a64233df1f8d]\n",
       "class E6--><a href=\"psysml:6875339d-23d6-4973-8a77-102c2bf220f1\" target=\"_top\" title=\"psysml:6875339d-23d6-4973-8a77-102c2bf220f1\" xlink:actuate=\"onRequest\" xlink:href=\"psysml:6875339d-23d6-4973-8a77-102c2bf220f1\" xlink:show=\"new\" xlink:title=\"psysml:6875339d-23d6-4973-8a77-102c2bf220f1\" xlink:type=\"simple\"><rect fill=\"#FEFECE\" filter=\"url(#fuj98434y9449)\" height=\"45.9375\" id=\"E6\" rx=\"10\" ry=\"10\" style=\"stroke: #A80036; stroke-width: 1.5;\" width=\"68\" x=\"87\" y=\"189\"/><ellipse cx=\"102\" cy=\"207.9688\" fill=\"#0000FF\" rx=\"11\" ry=\"11\" style=\"stroke: #A80036; stroke-width: 1.0;\"/><path d=\"M98.8125,212.9688 L98.8125,202.375 L102.4219,202.375 Q103.6406,202.375 104.4375,202.8125 Q105.2344,203.2344 105.6094,203.9375 Q106,204.6406 106,205.4844 Q106,206.3281 105.625,207.0156 Q105.2656,207.7031 104.4688,208.125 Q103.6875,208.5313 102.5,208.5313 L100.7656,208.5313 L100.7656,212.9688 L98.8125,212.9688 Z M100.7656,206.9375 L102.375,206.9375 Q103.1875,206.9375 103.6094,206.5313 Q104.0313,206.125 104.0313,205.4844 Q104.0313,204.8594 103.6094,204.4531 Q103.1875,204.0469 102.3906,204.0469 L100.7656,204.0469 L100.7656,206.9375 Z \"/><text fill=\"#000000\" font-family=\"sans-serif\" font-size=\"12\" font-style=\"italic\" lengthAdjust=\"spacingAndGlyphs\" textLength=\"40\" x=\"114\" y=\"205.1387\">«port»</text><text fill=\"#000000\" font-family=\"sans-serif\" font-size=\"12\" lengthAdjust=\"spacingAndGlyphs\" textLength=\"24\" x=\"120\" y=\"219.1074\">po1</text><line style=\"stroke: #A80036; stroke-width: 1.5;\" x1=\"88\" x2=\"154\" y1=\"226.9375\" y2=\"226.9375\"/></a><!--MD5=[2156ba9850f5573cc1fc38a6a4b2f02b]\n",
       "class E7--><a href=\"psysml:73d7b051-2240-4fe3-9278-fa0d634854f8\" target=\"_top\" title=\"psysml:73d7b051-2240-4fe3-9278-fa0d634854f8\" xlink:actuate=\"onRequest\" xlink:href=\"psysml:73d7b051-2240-4fe3-9278-fa0d634854f8\" xlink:show=\"new\" xlink:title=\"psysml:73d7b051-2240-4fe3-9278-fa0d634854f8\" xlink:type=\"simple\"><rect fill=\"#FEFECE\" filter=\"url(#fuj98434y9449)\" height=\"75.5469\" id=\"E7\" rx=\"10\" ry=\"10\" style=\"stroke: #A80036; stroke-width: 1.5;\" width=\"76\" x=\"32\" y=\"41\"/><ellipse cx=\"47\" cy=\"59.9688\" fill=\"#32CD32\" rx=\"11\" ry=\"11\" style=\"stroke: #A80036; stroke-width: 1.0;\"/><path d=\"M43.8125,64.9688 L43.8125,54.375 L47.4219,54.375 Q48.6406,54.375 49.4375,54.8125 Q50.2344,55.2344 50.6094,55.9375 Q51,56.6406 51,57.4844 Q51,58.3281 50.625,59.0156 Q50.2656,59.7031 49.4688,60.125 Q48.6875,60.5313 47.5,60.5313 L45.7656,60.5313 L45.7656,64.9688 L43.8125,64.9688 Z M45.7656,58.9375 L47.375,58.9375 Q48.1875,58.9375 48.6094,58.5313 Q49.0313,58.125 49.0313,57.4844 Q49.0313,56.8594 48.6094,56.4531 Q48.1875,56.0469 47.3906,56.0469 L45.7656,56.0469 L45.7656,58.9375 Z \"/><text fill=\"#000000\" font-family=\"sans-serif\" font-size=\"12\" font-style=\"italic\" lengthAdjust=\"spacingAndGlyphs\" textLength=\"40\" x=\"63\" y=\"57.1387\">«part»</text><text fill=\"#000000\" font-family=\"sans-serif\" font-size=\"12\" lengthAdjust=\"spacingAndGlyphs\" textLength=\"40\" x=\"61\" y=\"71.1074\">p2: P1</text><line style=\"stroke: #A80036; stroke-width: 1.5;\" x1=\"33\" x2=\"107\" y1=\"78.9375\" y2=\"78.9375\"/><text fill=\"#000000\" font-family=\"sans-serif\" font-size=\"11\" lengthAdjust=\"spacingAndGlyphs\" textLength=\"32\" x=\"38\" y=\"109.9526\">pdest</text><line style=\"stroke: #A80036; stroke-width: 1.0;\" x1=\"33\" x2=\"55\" y1=\"93.3398\" y2=\"93.3398\"/><text fill=\"#000000\" font-family=\"sans-serif\" font-size=\"11\" lengthAdjust=\"spacingAndGlyphs\" textLength=\"30\" x=\"55\" y=\"96.6479\">ports</text><line style=\"stroke: #A80036; stroke-width: 1.0;\" x1=\"85\" x2=\"107\" y1=\"93.3398\" y2=\"93.3398\"/></a><!--MD5=[b9389687b975829384b498ac4b7476b2]\n",
       "class E8--><a href=\"psysml:6cb98d60-0ab8-42f0-badc-3a033a17e212\" target=\"_top\" title=\"psysml:6cb98d60-0ab8-42f0-badc-3a033a17e212\" xlink:actuate=\"onRequest\" xlink:href=\"psysml:6cb98d60-0ab8-42f0-badc-3a033a17e212\" xlink:show=\"new\" xlink:title=\"psysml:6cb98d60-0ab8-42f0-badc-3a033a17e212\" xlink:type=\"simple\"><rect fill=\"#FEFECE\" filter=\"url(#fuj98434y9449)\" height=\"45.9375\" id=\"E8\" rx=\"10\" ry=\"10\" style=\"stroke: #A80036; stroke-width: 1.5;\" width=\"72\" x=\"69\" y=\"307\"/><ellipse cx=\"84\" cy=\"325.9688\" fill=\"#0000FF\" rx=\"11\" ry=\"11\" style=\"stroke: #A80036; stroke-width: 1.0;\"/><path d=\"M80.8125,330.9688 L80.8125,320.375 L84.4219,320.375 Q85.6406,320.375 86.4375,320.8125 Q87.2344,321.2344 87.6094,321.9375 Q88,322.6406 88,323.4844 Q88,324.3281 87.625,325.0156 Q87.2656,325.7031 86.4688,326.125 Q85.6875,326.5313 84.5,326.5313 L82.7656,326.5313 L82.7656,330.9688 L80.8125,330.9688 Z M82.7656,324.9375 L84.375,324.9375 Q85.1875,324.9375 85.6094,324.5313 Q86.0313,324.125 86.0313,323.4844 Q86.0313,322.8594 85.6094,322.4531 Q85.1875,322.0469 84.3906,322.0469 L82.7656,322.0469 L82.7656,324.9375 Z \"/><text fill=\"#000000\" font-family=\"sans-serif\" font-size=\"12\" font-style=\"italic\" lengthAdjust=\"spacingAndGlyphs\" textLength=\"40\" x=\"98\" y=\"323.1387\">«port»</text><text fill=\"#000000\" font-family=\"sans-serif\" font-size=\"12\" lengthAdjust=\"spacingAndGlyphs\" textLength=\"36\" x=\"98\" y=\"337.1074\">pdest</text><line style=\"stroke: #A80036; stroke-width: 1.5;\" x1=\"70\" x2=\"140\" y1=\"344.9375\" y2=\"344.9375\"/></a><!--MD5=[4672eba38e49728da53d11aeb285b987]\n",
       "reverse link E3 to E4--><a href=\"psysml:b408bcfe-af80-429f-8bb7-74524c32282e\" target=\"_top\" title=\"psysml:b408bcfe-af80-429f-8bb7-74524c32282e\" xlink:actuate=\"onRequest\" xlink:href=\"psysml:b408bcfe-af80-429f-8bb7-74524c32282e\" xlink:show=\"new\" xlink:title=\"psysml:b408bcfe-af80-429f-8bb7-74524c32282e\" xlink:type=\"simple\"><path d=\"M214,260.3 C214,276.38 214,293.6 214,306.77 \" fill=\"none\" id=\"E3&lt;-E4\" style=\"stroke: #A80036; stroke-width: 1.0;\"/><polygon fill=\"#FFFFFF\" points=\"214,247.18,210,253.18,214,259.18,218,253.18,214,247.18\" style=\"stroke: #A80036; stroke-width: 1.0;\"/><text fill=\"#000000\" font-family=\"sans-serif\" font-size=\"13\" lengthAdjust=\"spacingAndGlyphs\" textLength=\"8\" x=\"204.975\" y=\"295.9874\">1</text></a><!--MD5=[e9be52314489bd878ff4c7144b63c9e1]\n",
       "link E5 to E3--><a href=\"psysml:de9d1539-3df1-480f-91a9-ed9f950b1f96\" target=\"_top\" title=\"psysml:de9d1539-3df1-480f-91a9-ed9f950b1f96\" xlink:actuate=\"onRequest\" xlink:href=\"psysml:de9d1539-3df1-480f-91a9-ed9f950b1f96\" xlink:show=\"new\" xlink:title=\"psysml:de9d1539-3df1-480f-91a9-ed9f950b1f96\" xlink:type=\"simple\"><path d=\"M186.6,102.22 C190.4,117.31 195.6,137.95 200.45,157.19 \" fill=\"none\" id=\"E5-&gt;E3\" style=\"stroke: #A80036; stroke-width: 1.0;\"/><polygon fill=\"#FFFFFF\" points=\"205.39,176.83,193.9589,160.1168,207.5344,156.6954,205.39,176.83\" style=\"stroke: #A80036; stroke-width: 1.0;\"/><ellipse cx=\"194.5053\" cy=\"154.1009\" fill=\"#A80036\" rx=\"2\" ry=\"2\" style=\"stroke: #A80036; stroke-width: 1.0;\"/><ellipse cx=\"204.2021\" cy=\"151.657\" fill=\"#A80036\" rx=\"2\" ry=\"2\" style=\"stroke: #A80036; stroke-width: 1.0;\"/></a><!--MD5=[85d356282659285ab4b2cfe2f634dd2b]\n",
       "reverse link E5 to E6--><a href=\"psysml:1d973b34-aa26-4796-bb60-99a7b7743581\" target=\"_top\" title=\"psysml:1d973b34-aa26-4796-bb60-99a7b7743581\" xlink:actuate=\"onRequest\" xlink:href=\"psysml:1d973b34-aa26-4796-bb60-99a7b7743581\" xlink:show=\"new\" xlink:title=\"psysml:1d973b34-aa26-4796-bb60-99a7b7743581\" xlink:type=\"simple\"><path d=\"M165.37,114.12 C154.6,137.63 140.6,168.21 131.23,188.67 \" fill=\"none\" id=\"E5&lt;-E6\" style=\"stroke: #A80036; stroke-width: 1.0;\"/><polygon fill=\"#FFFFFF\" points=\"170.82,102.22,164.6857,106.0108,165.8256,113.1313,171.9599,109.3404,170.82,102.22\" style=\"stroke: #A80036; stroke-width: 1.0;\"/><text fill=\"#000000\" font-family=\"sans-serif\" font-size=\"13\" lengthAdjust=\"spacingAndGlyphs\" textLength=\"8\" x=\"124.8264\" y=\"177.8617\">1</text></a><!--MD5=[f667431f98296947986a1a7595a31603]\n",
       "link E6 to E4--><a href=\"psysml:73eeba8b-cad5-4501-9cd6-c52ba77489ee\" target=\"_top\" title=\"psysml:73eeba8b-cad5-4501-9cd6-c52ba77489ee\" xlink:actuate=\"onRequest\" xlink:href=\"psysml:73eeba8b-cad5-4501-9cd6-c52ba77489ee\" xlink:show=\"new\" xlink:title=\"psysml:73eeba8b-cad5-4501-9cd6-c52ba77489ee\" xlink:type=\"simple\"><path d=\"M138.71,235.09 C151.45,250.98 168.93,272.78 183.84,291.38 \" fill=\"none\" id=\"E6-&gt;E4\" style=\"stroke: #A80036; stroke-width: 1.0;\"/><polygon fill=\"#FFFFFF\" points=\"196.35,306.99,179.0112,296.5322,189.9404,287.7828,196.35,306.99\" style=\"stroke: #A80036; stroke-width: 1.0;\"/><line style=\"stroke: #A80036; stroke-width: 2.0;\" x1=\"176.6364\" x2=\"187.5656\" y1=\"293.5657\" y2=\"284.8163\"/></a><!--MD5=[14ccda38c055a5c0da953d572bc50960]\n",
       "link E7 to E3--><a href=\"psysml:52eea9f8-f20f-41d5-8944-6f19cdd988b1\" target=\"_top\" title=\"psysml:52eea9f8-f20f-41d5-8944-6f19cdd988b1\" xlink:actuate=\"onRequest\" xlink:href=\"psysml:52eea9f8-f20f-41d5-8944-6f19cdd988b1\" xlink:show=\"new\" xlink:title=\"psysml:52eea9f8-f20f-41d5-8944-6f19cdd988b1\" xlink:type=\"simple\"><path d=\"M108.21,114.76 C128.69,133.39 153.89,156.32 174.56,175.12 \" fill=\"none\" id=\"E7-&gt;E3\" style=\"stroke: #A80036; stroke-width: 1.0;\"/><polygon fill=\"#FFFFFF\" points=\"189.66,188.85,170.8968,181.238,180.3202,170.8842,189.66,188.85\" style=\"stroke: #A80036; stroke-width: 1.0;\"/><ellipse cx=\"168.0276\" cy=\"175.9222\" fill=\"#A80036\" rx=\"2\" ry=\"2\" style=\"stroke: #A80036; stroke-width: 1.0;\"/><ellipse cx=\"174.7586\" cy=\"168.5267\" fill=\"#A80036\" rx=\"2\" ry=\"2\" style=\"stroke: #A80036; stroke-width: 1.0;\"/></a><!--MD5=[dc164f5e8a733ab456ef1add180e9e34]\n",
       "reverse link E7 to E8--><a href=\"psysml:7dc24cb7-d6ba-40a4-b073-8d397bf1a7ae\" target=\"_top\" title=\"psysml:7dc24cb7-d6ba-40a4-b073-8d397bf1a7ae\" xlink:actuate=\"onRequest\" xlink:href=\"psysml:7dc24cb7-d6ba-40a4-b073-8d397bf1a7ae\" xlink:show=\"new\" xlink:title=\"psysml:7dc24cb7-d6ba-40a4-b073-8d397bf1a7ae\" xlink:type=\"simple\"><path d=\"M64.78,130.37 C62.59,163.79 62.11,208.43 70,247 C74.34,268.23 84.4,290.76 92.63,306.83 \" fill=\"none\" id=\"E7&lt;-E8\" style=\"stroke: #A80036; stroke-width: 1.0;\"/><polygon fill=\"#FFFFFF\" points=\"65.77,117.24,61.3326,122.9242,64.8728,129.2064,69.3102,123.5223,65.77,117.24\" style=\"stroke: #A80036; stroke-width: 1.0;\"/><text fill=\"#000000\" font-family=\"sans-serif\" font-size=\"13\" lengthAdjust=\"spacingAndGlyphs\" textLength=\"8\" x=\"80.4352\" y=\"296.0627\">1</text></a><!--MD5=[0a839d0f80c2d72d4b9b307f046d0de8]\n",
       "link E6 to E8--><a href=\"psysml:6785e7ae-ef30-46fa-a69d-d6daab2c7c15\" target=\"_top\" title=\"psysml:6785e7ae-ef30-46fa-a69d-d6daab2c7c15\" xlink:actuate=\"onRequest\" xlink:href=\"psysml:6785e7ae-ef30-46fa-a69d-d6daab2c7c15\" xlink:show=\"new\" xlink:title=\"psysml:6785e7ae-ef30-46fa-a69d-d6daab2c7c15\" xlink:type=\"simple\"><path d=\"M107.69,235.09 C101.52,255.73 97.3,286.38 97.78,306.99 \" fill=\"none\" id=\"E6-E8\" style=\"stroke: #A80036; stroke-width: 3.0;\"/><text fill=\"#000000\" font-family=\"sans-serif\" font-size=\"13\" lengthAdjust=\"spacingAndGlyphs\" textLength=\"7\" x=\"96.7803\" y=\"295.8836\">*</text></a><!--MD5=[0a839d0f80c2d72d4b9b307f046d0de8]\n",
       "link E6 to E8--><a href=\"psysml:868c8138-312d-42c2-8f4f-f83047efce23\" target=\"_top\" title=\"psysml:868c8138-312d-42c2-8f4f-f83047efce23\" xlink:actuate=\"onRequest\" xlink:href=\"psysml:868c8138-312d-42c2-8f4f-f83047efce23\" xlink:show=\"new\" xlink:title=\"psysml:868c8138-312d-42c2-8f4f-f83047efce23\" xlink:type=\"simple\"><path d=\"M128.82,235.09 C129.49,255.73 125.26,286.38 118.89,306.99 \" fill=\"none\" id=\"E6-E8-1\" style=\"stroke: #A80036; stroke-width: 3.0;\"/><text fill=\"#000000\" font-family=\"sans-serif\" font-size=\"13\" lengthAdjust=\"spacingAndGlyphs\" textLength=\"7\" x=\"114.6823\" y=\"295.8836\">*</text></a><!--MD5=[8a2b9c2ad9dd84e2ba3c0cee9912124e]\n",
       "@startuml\r\n",
       " \r\n",
       "package \"AliasTest\" as E1  [[psysml:02b7e9b9-6677-468f-8dad-8ced33a218a4 ]]  {\r\n",
       "comp usage \"b :> ISQSpaceTime::width\" as E2 << <<(U,orange) attribute>> [[psysml:c7feeda3-a834-41bb-a074-923ea0011430 ]] {\r\n",
       "}\r\n",
       "comp def \"P1\" as E3 << << (B,green) >> [[psysml:1a450028-471a-4a88-b6bb-254dda2007f7 ]] {\r\n",
       "- - ports - -\r\n",
       "porig1\r\n",
       "}\r\n",
       "comp usage \"porig1 \" as E4 << << (P,blue) port>> [[psysml:528ad082-e547-41e1-93e2-4f734da3b1f6 ]] {\r\n",
       "}\r\n",
       "comp usage \"p1: P1 \" as E5 << << (P,limegreen) part>> [[psysml:73838eb5-9ecb-4193-8391-1ddf76ff61b3 ]] {\r\n",
       "}\r\n",
       "comp usage \"po1 \" as E6 << << (P,blue) port>> [[psysml:6875339d-23d6-4973-8a77-102c2bf220f1 ]] {\r\n",
       "}\r\n",
       "comp usage \"p2: P1 \" as E7 << << (P,limegreen) part>> [[psysml:73d7b051-2240-4fe3-9278-fa0d634854f8 ]] {\r\n",
       "- - ports - -\r\n",
       "pdest\r\n",
       "}\r\n",
       "comp usage \"pdest \" as E8 << << (P,blue) port>> [[psysml:6cb98d60-0ab8-42f0-badc-3a033a17e212 ]] {\r\n",
       "}\r\n",
       "}\r\n",
       "E3 o- - \"1\"E4 [[psysml:b408bcfe-af80-429f-8bb7-74524c32282e ]] \r\n",
       "E5 - -:|> E3 [[psysml:de9d1539-3df1-480f-91a9-ed9f950b1f96 ]] \r\n",
       "E5 o- - \"1\"E6 [[psysml:1d973b34-aa26-4796-bb60-99a7b7743581 ]] \r\n",
       "E6 - -||> E4 [[psysml:73eeba8b-cad5-4501-9cd6-c52ba77489ee ]] \r\n",
       "E7 - -:|> E3 [[psysml:52eea9f8-f20f-41d5-8944-6f19cdd988b1 ]] \r\n",
       "E7 o- - \"1\"E8 [[psysml:7dc24cb7-d6ba-40a4-b073-8d397bf1a7ae ]] \r\n",
       "E6 -[thickness=3]- \"*\"E8 [[psysml:6785e7ae-ef30-46fa-a69d-d6daab2c7c15 ]] \r\n",
       "E6 -[thickness=3]- \"*\"E8 [[psysml:868c8138-312d-42c2-8f4f-f83047efce23 ]] \r\n",
       "@enduml\r\n",
       "\n",
       "PlantUML version 1.2020.13(Sat Jun 13 12:26:38 UTC 2020)\n",
       "(EPL source distribution)\n",
       "Java Runtime: OpenJDK Runtime Environment\n",
       "JVM: OpenJDK 64-Bit Server VM\n",
       "Default Encoding: UTF-8\n",
       "Language: en\n",
       "Country: null\n",
       "--></g></svg>"
      ]
     },
     "execution_count": 30,
     "metadata": {},
     "output_type": "execute_result"
    }
   ],
   "source": [
    "%viz --style=\"PLANTUML\" --view=\"Default\" \"AliasTest\""
   ]
  },
  {
   "cell_type": "code",
   "execution_count": 31,
   "id": "13fa1c31",
   "metadata": {
    "execution": {
     "iopub.execute_input": "2022-08-19T08:20:49.776841Z",
     "iopub.status.busy": "2022-08-19T08:20:49.776425Z",
     "iopub.status.idle": "2022-08-19T08:20:49.837068Z",
     "shell.execute_reply": "2022-08-19T08:20:49.836635Z"
    }
   },
   "outputs": [
    {
     "data": {
      "image/svg+xml": [
       "<?xml version=\"1.0\" encoding=\"UTF-8\" standalone=\"no\"?><svg xmlns=\"http://www.w3.org/2000/svg\" xmlns:xlink=\"http://www.w3.org/1999/xlink\" contentScriptType=\"application/ecmascript\" contentStyleType=\"text/css\" height=\"381px\" preserveAspectRatio=\"none\" style=\"width:484px;height:381px;\" version=\"1.1\" viewBox=\"0 0 484 381\" width=\"484px\" zoomAndPan=\"magnify\"><defs><filter height=\"300%\" id=\"fuj98434y9449\" width=\"300%\" x=\"-1\" y=\"-1\"><feGaussianBlur result=\"blurOut\" stdDeviation=\"2.0\"/><feColorMatrix in=\"blurOut\" result=\"blurOut2\" type=\"matrix\" values=\"0 0 0 0 0 0 0 0 0 0 0 0 0 0 0 0 0 0 .4 0\"/><feOffset dx=\"4.0\" dy=\"4.0\" in=\"blurOut2\" result=\"blurOut3\"/><feBlend in=\"SourceGraphic\" in2=\"blurOut3\" mode=\"normal\"/></filter></defs><g><!--MD5=[fbc87193dbaf4d95561dea2c320d4a47]\n",
       "cluster E1--><a href=\"psysml:02b7e9b9-6677-468f-8dad-8ced33a218a4\" target=\"_top\" title=\"psysml:02b7e9b9-6677-468f-8dad-8ced33a218a4\" xlink:actuate=\"onRequest\" xlink:href=\"psysml:02b7e9b9-6677-468f-8dad-8ced33a218a4\" xlink:show=\"new\" xlink:title=\"psysml:02b7e9b9-6677-468f-8dad-8ced33a218a4\" xlink:type=\"simple\"><polygon fill=\"#FFFFFF\" filter=\"url(#fuj98434y9449)\" points=\"16,6,84,6,91,28.2969,462,28.2969,462,369,16,369,16,6\" style=\"stroke: #000000; stroke-width: 1.5;\"/><line style=\"stroke: #000000; stroke-width: 1.5;\" x1=\"16\" x2=\"91\" y1=\"28.2969\" y2=\"28.2969\"/><text fill=\"#000000\" font-family=\"sans-serif\" font-size=\"14\" font-weight=\"bold\" lengthAdjust=\"spacingAndGlyphs\" textLength=\"62\" x=\"20\" y=\"20.9951\">AliasTest</text></a><!--MD5=[b4997ac47864f28c2f74865a473b2911]\n",
       "class E2--><a href=\"psysml:c7feeda3-a834-41bb-a074-923ea0011430\" target=\"_top\" title=\"psysml:c7feeda3-a834-41bb-a074-923ea0011430\" xlink:actuate=\"onRequest\" xlink:href=\"psysml:c7feeda3-a834-41bb-a074-923ea0011430\" xlink:show=\"new\" xlink:title=\"psysml:c7feeda3-a834-41bb-a074-923ea0011430\" xlink:type=\"simple\"><rect fill=\"#FEFECE\" filter=\"url(#fuj98434y9449)\" height=\"45.9375\" id=\"E2\" rx=\"10\" ry=\"10\" style=\"stroke: #A80036; stroke-width: 1.5;\" width=\"191\" x=\"254.5\" y=\"56\"/><ellipse cx=\"269.5\" cy=\"74.9688\" fill=\"#FFA500\" rx=\"11\" ry=\"11\" style=\"stroke: #A80036; stroke-width: 1.0;\"/><path d=\"M269.25,80.4375 Q267.5,80.4375 266.5469,79.4063 Q265.6094,78.3594 265.6094,76.5156 L265.6094,69.625 L267.6719,69.625 L267.6719,69.7813 Q267.5781,69.875 267.5469,70.0156 Q267.5313,70.1406 267.5313,70.4063 L267.5313,76.5313 Q267.5313,77.625 267.9063,78.25 Q268.2813,78.875 269.2656,78.875 Q270.25,78.875 270.6406,78.25 Q271.0313,77.625 271.0313,76.4844 L271.0313,69.625 L272.9063,69.625 L272.9063,76.4688 Q272.9063,78.5 271.875,79.4688 Q270.8594,80.4375 269.25,80.4375 Z \"/><text fill=\"#000000\" font-family=\"sans-serif\" font-size=\"12\" font-style=\"italic\" lengthAdjust=\"spacingAndGlyphs\" textLength=\"69\" x=\"328.5\" y=\"72.1387\">«attribute»</text><text fill=\"#000000\" font-family=\"sans-serif\" font-size=\"12\" lengthAdjust=\"spacingAndGlyphs\" textLength=\"159\" x=\"283.5\" y=\"86.1074\">b :&gt; ISQSpaceTime::width</text><line style=\"stroke: #A80036; stroke-width: 1.5;\" x1=\"255.5\" x2=\"444.5\" y1=\"93.9375\" y2=\"93.9375\"/></a><!--MD5=[09b614a08d8cba4a07c9adeb5e0fee81]\n",
       "class E3--><a href=\"psysml:1a450028-471a-4a88-b6bb-254dda2007f7\" target=\"_top\" title=\"psysml:1a450028-471a-4a88-b6bb-254dda2007f7\" xlink:actuate=\"onRequest\" xlink:href=\"psysml:1a450028-471a-4a88-b6bb-254dda2007f7\" xlink:show=\"new\" xlink:title=\"psysml:1a450028-471a-4a88-b6bb-254dda2007f7\" xlink:type=\"simple\"><rect fill=\"#FEFECE\" filter=\"url(#fuj98434y9449)\" height=\"69.6094\" id=\"E3\" style=\"stroke: #A80036; stroke-width: 1.5;\" width=\"48\" x=\"190\" y=\"177\"/><ellipse cx=\"205\" cy=\"193\" fill=\"#008000\" rx=\"11\" ry=\"11\" style=\"stroke: #A80036; stroke-width: 1.0;\"/><path d=\"M201.875,198 L201.875,187.4063 L205.1094,187.4063 Q207.0156,187.4063 207.9219,188.1563 Q208.8438,188.9063 208.8438,190.0781 Q208.8438,190.7656 208.4531,191.4219 Q208.0781,192.0781 207.3594,192.375 Q208.2188,192.75 208.7344,193.4375 Q209.25,194.125 209.25,194.9375 Q209.25,196.3125 208.2188,197.1563 Q207.2031,198 205.0938,198 L201.875,198 Z M203.7969,191.6406 L204.9531,191.6406 Q206.0781,191.6406 206.4844,191.2656 Q206.9063,190.875 206.9063,190.25 Q206.9063,189.6719 206.4844,189.3125 Q206.0625,188.9531 205.125,188.9531 L203.7969,188.9531 L203.7969,191.6406 Z M203.7969,196.4219 L205.2969,196.4219 Q206.2031,196.4219 206.7344,196.0313 Q207.2656,195.6406 207.2656,194.8906 Q207.2656,194.125 206.7656,193.6563 Q206.2656,193.1719 205,193.1719 L203.7969,193.1719 L203.7969,196.4219 Z \"/><text fill=\"#000000\" font-family=\"sans-serif\" font-size=\"12\" lengthAdjust=\"spacingAndGlyphs\" textLength=\"16\" x=\"219\" y=\"197.1543\">P1</text><line style=\"stroke: #A80036; stroke-width: 1.5;\" x1=\"191\" x2=\"237\" y1=\"209\" y2=\"209\"/><text fill=\"#000000\" font-family=\"sans-serif\" font-size=\"11\" lengthAdjust=\"spacingAndGlyphs\" textLength=\"36\" x=\"196\" y=\"240.0151\">porig1</text><line style=\"stroke: #A80036; stroke-width: 1.0;\" x1=\"191\" x2=\"199\" y1=\"223.4023\" y2=\"223.4023\"/><text fill=\"#000000\" font-family=\"sans-serif\" font-size=\"11\" lengthAdjust=\"spacingAndGlyphs\" textLength=\"30\" x=\"199\" y=\"226.7104\">ports</text><line style=\"stroke: #A80036; stroke-width: 1.0;\" x1=\"229\" x2=\"237\" y1=\"223.4023\" y2=\"223.4023\"/></a><!--MD5=[ebbe1d658d1005bcc118a6aa81145e00]\n",
       "class E4--><a href=\"psysml:528ad082-e547-41e1-93e2-4f734da3b1f6\" target=\"_top\" title=\"psysml:528ad082-e547-41e1-93e2-4f734da3b1f6\" xlink:actuate=\"onRequest\" xlink:href=\"psysml:528ad082-e547-41e1-93e2-4f734da3b1f6\" xlink:show=\"new\" xlink:title=\"psysml:528ad082-e547-41e1-93e2-4f734da3b1f6\" xlink:type=\"simple\"><rect fill=\"#FEFECE\" filter=\"url(#fuj98434y9449)\" height=\"45.9375\" id=\"E4\" rx=\"10\" ry=\"10\" style=\"stroke: #A80036; stroke-width: 1.5;\" width=\"76\" x=\"176\" y=\"307\"/><ellipse cx=\"191\" cy=\"325.9688\" fill=\"#0000FF\" rx=\"11\" ry=\"11\" style=\"stroke: #A80036; stroke-width: 1.0;\"/><path d=\"M187.8125,330.9688 L187.8125,320.375 L191.4219,320.375 Q192.6406,320.375 193.4375,320.8125 Q194.2344,321.2344 194.6094,321.9375 Q195,322.6406 195,323.4844 Q195,324.3281 194.625,325.0156 Q194.2656,325.7031 193.4688,326.125 Q192.6875,326.5313 191.5,326.5313 L189.7656,326.5313 L189.7656,330.9688 L187.8125,330.9688 Z M189.7656,324.9375 L191.375,324.9375 Q192.1875,324.9375 192.6094,324.5313 Q193.0313,324.125 193.0313,323.4844 Q193.0313,322.8594 192.6094,322.4531 Q192.1875,322.0469 191.3906,322.0469 L189.7656,322.0469 L189.7656,324.9375 Z \"/><text fill=\"#000000\" font-family=\"sans-serif\" font-size=\"12\" font-style=\"italic\" lengthAdjust=\"spacingAndGlyphs\" textLength=\"40\" x=\"207\" y=\"323.1387\">«port»</text><text fill=\"#000000\" font-family=\"sans-serif\" font-size=\"12\" lengthAdjust=\"spacingAndGlyphs\" textLength=\"40\" x=\"205\" y=\"337.1074\">porig1</text><line style=\"stroke: #A80036; stroke-width: 1.5;\" x1=\"177\" x2=\"251\" y1=\"344.9375\" y2=\"344.9375\"/></a><!--MD5=[270fce915f116d4de14055a7c1d9a0f3]\n",
       "class E5--><a href=\"psysml:73838eb5-9ecb-4193-8391-1ddf76ff61b3\" target=\"_top\" title=\"psysml:73838eb5-9ecb-4193-8391-1ddf76ff61b3\" xlink:actuate=\"onRequest\" xlink:href=\"psysml:73838eb5-9ecb-4193-8391-1ddf76ff61b3\" xlink:show=\"new\" xlink:title=\"psysml:73838eb5-9ecb-4193-8391-1ddf76ff61b3\" xlink:type=\"simple\"><rect fill=\"#FEFECE\" filter=\"url(#fuj98434y9449)\" height=\"45.9375\" id=\"E5\" rx=\"10\" ry=\"10\" style=\"stroke: #A80036; stroke-width: 1.5;\" width=\"76\" x=\"143\" y=\"56\"/><ellipse cx=\"158\" cy=\"74.9688\" fill=\"#32CD32\" rx=\"11\" ry=\"11\" style=\"stroke: #A80036; stroke-width: 1.0;\"/><path d=\"M154.8125,79.9688 L154.8125,69.375 L158.4219,69.375 Q159.6406,69.375 160.4375,69.8125 Q161.2344,70.2344 161.6094,70.9375 Q162,71.6406 162,72.4844 Q162,73.3281 161.625,74.0156 Q161.2656,74.7031 160.4688,75.125 Q159.6875,75.5313 158.5,75.5313 L156.7656,75.5313 L156.7656,79.9688 L154.8125,79.9688 Z M156.7656,73.9375 L158.375,73.9375 Q159.1875,73.9375 159.6094,73.5313 Q160.0313,73.125 160.0313,72.4844 Q160.0313,71.8594 159.6094,71.4531 Q159.1875,71.0469 158.3906,71.0469 L156.7656,71.0469 L156.7656,73.9375 Z \"/><text fill=\"#000000\" font-family=\"sans-serif\" font-size=\"12\" font-style=\"italic\" lengthAdjust=\"spacingAndGlyphs\" textLength=\"40\" x=\"174\" y=\"72.1387\">«part»</text><text fill=\"#000000\" font-family=\"sans-serif\" font-size=\"12\" lengthAdjust=\"spacingAndGlyphs\" textLength=\"40\" x=\"172\" y=\"86.1074\">p1: P1</text><line style=\"stroke: #A80036; stroke-width: 1.5;\" x1=\"144\" x2=\"218\" y1=\"93.9375\" y2=\"93.9375\"/></a><!--MD5=[60a26617385b1d2d0262a64233df1f8d]\n",
       "class E6--><a href=\"psysml:6875339d-23d6-4973-8a77-102c2bf220f1\" target=\"_top\" title=\"psysml:6875339d-23d6-4973-8a77-102c2bf220f1\" xlink:actuate=\"onRequest\" xlink:href=\"psysml:6875339d-23d6-4973-8a77-102c2bf220f1\" xlink:show=\"new\" xlink:title=\"psysml:6875339d-23d6-4973-8a77-102c2bf220f1\" xlink:type=\"simple\"><rect fill=\"#FEFECE\" filter=\"url(#fuj98434y9449)\" height=\"45.9375\" id=\"E6\" rx=\"10\" ry=\"10\" style=\"stroke: #A80036; stroke-width: 1.5;\" width=\"68\" x=\"87\" y=\"189\"/><ellipse cx=\"102\" cy=\"207.9688\" fill=\"#0000FF\" rx=\"11\" ry=\"11\" style=\"stroke: #A80036; stroke-width: 1.0;\"/><path d=\"M98.8125,212.9688 L98.8125,202.375 L102.4219,202.375 Q103.6406,202.375 104.4375,202.8125 Q105.2344,203.2344 105.6094,203.9375 Q106,204.6406 106,205.4844 Q106,206.3281 105.625,207.0156 Q105.2656,207.7031 104.4688,208.125 Q103.6875,208.5313 102.5,208.5313 L100.7656,208.5313 L100.7656,212.9688 L98.8125,212.9688 Z M100.7656,206.9375 L102.375,206.9375 Q103.1875,206.9375 103.6094,206.5313 Q104.0313,206.125 104.0313,205.4844 Q104.0313,204.8594 103.6094,204.4531 Q103.1875,204.0469 102.3906,204.0469 L100.7656,204.0469 L100.7656,206.9375 Z \"/><text fill=\"#000000\" font-family=\"sans-serif\" font-size=\"12\" font-style=\"italic\" lengthAdjust=\"spacingAndGlyphs\" textLength=\"40\" x=\"114\" y=\"205.1387\">«port»</text><text fill=\"#000000\" font-family=\"sans-serif\" font-size=\"12\" lengthAdjust=\"spacingAndGlyphs\" textLength=\"24\" x=\"120\" y=\"219.1074\">po1</text><line style=\"stroke: #A80036; stroke-width: 1.5;\" x1=\"88\" x2=\"154\" y1=\"226.9375\" y2=\"226.9375\"/></a><!--MD5=[2156ba9850f5573cc1fc38a6a4b2f02b]\n",
       "class E7--><a href=\"psysml:73d7b051-2240-4fe3-9278-fa0d634854f8\" target=\"_top\" title=\"psysml:73d7b051-2240-4fe3-9278-fa0d634854f8\" xlink:actuate=\"onRequest\" xlink:href=\"psysml:73d7b051-2240-4fe3-9278-fa0d634854f8\" xlink:show=\"new\" xlink:title=\"psysml:73d7b051-2240-4fe3-9278-fa0d634854f8\" xlink:type=\"simple\"><rect fill=\"#FEFECE\" filter=\"url(#fuj98434y9449)\" height=\"75.5469\" id=\"E7\" rx=\"10\" ry=\"10\" style=\"stroke: #A80036; stroke-width: 1.5;\" width=\"76\" x=\"32\" y=\"41\"/><ellipse cx=\"47\" cy=\"59.9688\" fill=\"#32CD32\" rx=\"11\" ry=\"11\" style=\"stroke: #A80036; stroke-width: 1.0;\"/><path d=\"M43.8125,64.9688 L43.8125,54.375 L47.4219,54.375 Q48.6406,54.375 49.4375,54.8125 Q50.2344,55.2344 50.6094,55.9375 Q51,56.6406 51,57.4844 Q51,58.3281 50.625,59.0156 Q50.2656,59.7031 49.4688,60.125 Q48.6875,60.5313 47.5,60.5313 L45.7656,60.5313 L45.7656,64.9688 L43.8125,64.9688 Z M45.7656,58.9375 L47.375,58.9375 Q48.1875,58.9375 48.6094,58.5313 Q49.0313,58.125 49.0313,57.4844 Q49.0313,56.8594 48.6094,56.4531 Q48.1875,56.0469 47.3906,56.0469 L45.7656,56.0469 L45.7656,58.9375 Z \"/><text fill=\"#000000\" font-family=\"sans-serif\" font-size=\"12\" font-style=\"italic\" lengthAdjust=\"spacingAndGlyphs\" textLength=\"40\" x=\"63\" y=\"57.1387\">«part»</text><text fill=\"#000000\" font-family=\"sans-serif\" font-size=\"12\" lengthAdjust=\"spacingAndGlyphs\" textLength=\"40\" x=\"61\" y=\"71.1074\">p2: P1</text><line style=\"stroke: #A80036; stroke-width: 1.5;\" x1=\"33\" x2=\"107\" y1=\"78.9375\" y2=\"78.9375\"/><text fill=\"#000000\" font-family=\"sans-serif\" font-size=\"11\" lengthAdjust=\"spacingAndGlyphs\" textLength=\"32\" x=\"38\" y=\"109.9526\">pdest</text><line style=\"stroke: #A80036; stroke-width: 1.0;\" x1=\"33\" x2=\"55\" y1=\"93.3398\" y2=\"93.3398\"/><text fill=\"#000000\" font-family=\"sans-serif\" font-size=\"11\" lengthAdjust=\"spacingAndGlyphs\" textLength=\"30\" x=\"55\" y=\"96.6479\">ports</text><line style=\"stroke: #A80036; stroke-width: 1.0;\" x1=\"85\" x2=\"107\" y1=\"93.3398\" y2=\"93.3398\"/></a><!--MD5=[b9389687b975829384b498ac4b7476b2]\n",
       "class E8--><a href=\"psysml:6cb98d60-0ab8-42f0-badc-3a033a17e212\" target=\"_top\" title=\"psysml:6cb98d60-0ab8-42f0-badc-3a033a17e212\" xlink:actuate=\"onRequest\" xlink:href=\"psysml:6cb98d60-0ab8-42f0-badc-3a033a17e212\" xlink:show=\"new\" xlink:title=\"psysml:6cb98d60-0ab8-42f0-badc-3a033a17e212\" xlink:type=\"simple\"><rect fill=\"#FEFECE\" filter=\"url(#fuj98434y9449)\" height=\"45.9375\" id=\"E8\" rx=\"10\" ry=\"10\" style=\"stroke: #A80036; stroke-width: 1.5;\" width=\"72\" x=\"69\" y=\"307\"/><ellipse cx=\"84\" cy=\"325.9688\" fill=\"#0000FF\" rx=\"11\" ry=\"11\" style=\"stroke: #A80036; stroke-width: 1.0;\"/><path d=\"M80.8125,330.9688 L80.8125,320.375 L84.4219,320.375 Q85.6406,320.375 86.4375,320.8125 Q87.2344,321.2344 87.6094,321.9375 Q88,322.6406 88,323.4844 Q88,324.3281 87.625,325.0156 Q87.2656,325.7031 86.4688,326.125 Q85.6875,326.5313 84.5,326.5313 L82.7656,326.5313 L82.7656,330.9688 L80.8125,330.9688 Z M82.7656,324.9375 L84.375,324.9375 Q85.1875,324.9375 85.6094,324.5313 Q86.0313,324.125 86.0313,323.4844 Q86.0313,322.8594 85.6094,322.4531 Q85.1875,322.0469 84.3906,322.0469 L82.7656,322.0469 L82.7656,324.9375 Z \"/><text fill=\"#000000\" font-family=\"sans-serif\" font-size=\"12\" font-style=\"italic\" lengthAdjust=\"spacingAndGlyphs\" textLength=\"40\" x=\"98\" y=\"323.1387\">«port»</text><text fill=\"#000000\" font-family=\"sans-serif\" font-size=\"12\" lengthAdjust=\"spacingAndGlyphs\" textLength=\"36\" x=\"98\" y=\"337.1074\">pdest</text><line style=\"stroke: #A80036; stroke-width: 1.5;\" x1=\"70\" x2=\"140\" y1=\"344.9375\" y2=\"344.9375\"/></a><!--MD5=[4672eba38e49728da53d11aeb285b987]\n",
       "reverse link E3 to E4--><a href=\"psysml:b408bcfe-af80-429f-8bb7-74524c32282e\" target=\"_top\" title=\"psysml:b408bcfe-af80-429f-8bb7-74524c32282e\" xlink:actuate=\"onRequest\" xlink:href=\"psysml:b408bcfe-af80-429f-8bb7-74524c32282e\" xlink:show=\"new\" xlink:title=\"psysml:b408bcfe-af80-429f-8bb7-74524c32282e\" xlink:type=\"simple\"><path d=\"M214,260.3 C214,276.38 214,293.6 214,306.77 \" fill=\"none\" id=\"E3&lt;-E4\" style=\"stroke: #A80036; stroke-width: 1.0;\"/><polygon fill=\"#FFFFFF\" points=\"214,247.18,210,253.18,214,259.18,218,253.18,214,247.18\" style=\"stroke: #A80036; stroke-width: 1.0;\"/><text fill=\"#000000\" font-family=\"sans-serif\" font-size=\"13\" lengthAdjust=\"spacingAndGlyphs\" textLength=\"8\" x=\"204.975\" y=\"295.9874\">1</text></a><!--MD5=[e9be52314489bd878ff4c7144b63c9e1]\n",
       "link E5 to E3--><a href=\"psysml:de9d1539-3df1-480f-91a9-ed9f950b1f96\" target=\"_top\" title=\"psysml:de9d1539-3df1-480f-91a9-ed9f950b1f96\" xlink:actuate=\"onRequest\" xlink:href=\"psysml:de9d1539-3df1-480f-91a9-ed9f950b1f96\" xlink:show=\"new\" xlink:title=\"psysml:de9d1539-3df1-480f-91a9-ed9f950b1f96\" xlink:type=\"simple\"><path d=\"M186.6,102.22 C190.4,117.31 195.6,137.95 200.45,157.19 \" fill=\"none\" id=\"E5-&gt;E3\" style=\"stroke: #A80036; stroke-width: 1.0;\"/><polygon fill=\"#FFFFFF\" points=\"205.39,176.83,193.9589,160.1168,207.5344,156.6954,205.39,176.83\" style=\"stroke: #A80036; stroke-width: 1.0;\"/><ellipse cx=\"194.5053\" cy=\"154.1009\" fill=\"#A80036\" rx=\"2\" ry=\"2\" style=\"stroke: #A80036; stroke-width: 1.0;\"/><ellipse cx=\"204.2021\" cy=\"151.657\" fill=\"#A80036\" rx=\"2\" ry=\"2\" style=\"stroke: #A80036; stroke-width: 1.0;\"/></a><!--MD5=[85d356282659285ab4b2cfe2f634dd2b]\n",
       "reverse link E5 to E6--><a href=\"psysml:1d973b34-aa26-4796-bb60-99a7b7743581\" target=\"_top\" title=\"psysml:1d973b34-aa26-4796-bb60-99a7b7743581\" xlink:actuate=\"onRequest\" xlink:href=\"psysml:1d973b34-aa26-4796-bb60-99a7b7743581\" xlink:show=\"new\" xlink:title=\"psysml:1d973b34-aa26-4796-bb60-99a7b7743581\" xlink:type=\"simple\"><path d=\"M165.37,114.12 C154.6,137.63 140.6,168.21 131.23,188.67 \" fill=\"none\" id=\"E5&lt;-E6\" style=\"stroke: #A80036; stroke-width: 1.0;\"/><polygon fill=\"#FFFFFF\" points=\"170.82,102.22,164.6857,106.0108,165.8256,113.1313,171.9599,109.3404,170.82,102.22\" style=\"stroke: #A80036; stroke-width: 1.0;\"/><text fill=\"#000000\" font-family=\"sans-serif\" font-size=\"13\" lengthAdjust=\"spacingAndGlyphs\" textLength=\"8\" x=\"124.8264\" y=\"177.8617\">1</text></a><!--MD5=[f667431f98296947986a1a7595a31603]\n",
       "link E6 to E4--><a href=\"psysml:73eeba8b-cad5-4501-9cd6-c52ba77489ee\" target=\"_top\" title=\"psysml:73eeba8b-cad5-4501-9cd6-c52ba77489ee\" xlink:actuate=\"onRequest\" xlink:href=\"psysml:73eeba8b-cad5-4501-9cd6-c52ba77489ee\" xlink:show=\"new\" xlink:title=\"psysml:73eeba8b-cad5-4501-9cd6-c52ba77489ee\" xlink:type=\"simple\"><path d=\"M138.71,235.09 C151.45,250.98 168.93,272.78 183.84,291.38 \" fill=\"none\" id=\"E6-&gt;E4\" style=\"stroke: #A80036; stroke-width: 1.0;\"/><polygon fill=\"#FFFFFF\" points=\"196.35,306.99,179.0112,296.5322,189.9404,287.7828,196.35,306.99\" style=\"stroke: #A80036; stroke-width: 1.0;\"/><line style=\"stroke: #A80036; stroke-width: 2.0;\" x1=\"176.6364\" x2=\"187.5656\" y1=\"293.5657\" y2=\"284.8163\"/></a><!--MD5=[14ccda38c055a5c0da953d572bc50960]\n",
       "link E7 to E3--><a href=\"psysml:52eea9f8-f20f-41d5-8944-6f19cdd988b1\" target=\"_top\" title=\"psysml:52eea9f8-f20f-41d5-8944-6f19cdd988b1\" xlink:actuate=\"onRequest\" xlink:href=\"psysml:52eea9f8-f20f-41d5-8944-6f19cdd988b1\" xlink:show=\"new\" xlink:title=\"psysml:52eea9f8-f20f-41d5-8944-6f19cdd988b1\" xlink:type=\"simple\"><path d=\"M108.21,114.76 C128.69,133.39 153.89,156.32 174.56,175.12 \" fill=\"none\" id=\"E7-&gt;E3\" style=\"stroke: #A80036; stroke-width: 1.0;\"/><polygon fill=\"#FFFFFF\" points=\"189.66,188.85,170.8968,181.238,180.3202,170.8842,189.66,188.85\" style=\"stroke: #A80036; stroke-width: 1.0;\"/><ellipse cx=\"168.0276\" cy=\"175.9222\" fill=\"#A80036\" rx=\"2\" ry=\"2\" style=\"stroke: #A80036; stroke-width: 1.0;\"/><ellipse cx=\"174.7586\" cy=\"168.5267\" fill=\"#A80036\" rx=\"2\" ry=\"2\" style=\"stroke: #A80036; stroke-width: 1.0;\"/></a><!--MD5=[dc164f5e8a733ab456ef1add180e9e34]\n",
       "reverse link E7 to E8--><a href=\"psysml:7dc24cb7-d6ba-40a4-b073-8d397bf1a7ae\" target=\"_top\" title=\"psysml:7dc24cb7-d6ba-40a4-b073-8d397bf1a7ae\" xlink:actuate=\"onRequest\" xlink:href=\"psysml:7dc24cb7-d6ba-40a4-b073-8d397bf1a7ae\" xlink:show=\"new\" xlink:title=\"psysml:7dc24cb7-d6ba-40a4-b073-8d397bf1a7ae\" xlink:type=\"simple\"><path d=\"M64.78,130.37 C62.59,163.79 62.11,208.43 70,247 C74.34,268.23 84.4,290.76 92.63,306.83 \" fill=\"none\" id=\"E7&lt;-E8\" style=\"stroke: #A80036; stroke-width: 1.0;\"/><polygon fill=\"#FFFFFF\" points=\"65.77,117.24,61.3326,122.9242,64.8728,129.2064,69.3102,123.5223,65.77,117.24\" style=\"stroke: #A80036; stroke-width: 1.0;\"/><text fill=\"#000000\" font-family=\"sans-serif\" font-size=\"13\" lengthAdjust=\"spacingAndGlyphs\" textLength=\"8\" x=\"80.4352\" y=\"296.0627\">1</text></a><!--MD5=[0a839d0f80c2d72d4b9b307f046d0de8]\n",
       "link E6 to E8--><a href=\"psysml:6785e7ae-ef30-46fa-a69d-d6daab2c7c15\" target=\"_top\" title=\"psysml:6785e7ae-ef30-46fa-a69d-d6daab2c7c15\" xlink:actuate=\"onRequest\" xlink:href=\"psysml:6785e7ae-ef30-46fa-a69d-d6daab2c7c15\" xlink:show=\"new\" xlink:title=\"psysml:6785e7ae-ef30-46fa-a69d-d6daab2c7c15\" xlink:type=\"simple\"><path d=\"M107.69,235.09 C101.52,255.73 97.3,286.38 97.78,306.99 \" fill=\"none\" id=\"E6-E8\" style=\"stroke: #A80036; stroke-width: 3.0;\"/><text fill=\"#000000\" font-family=\"sans-serif\" font-size=\"13\" lengthAdjust=\"spacingAndGlyphs\" textLength=\"7\" x=\"96.7803\" y=\"295.8836\">*</text></a><!--MD5=[0a839d0f80c2d72d4b9b307f046d0de8]\n",
       "link E6 to E8--><a href=\"psysml:868c8138-312d-42c2-8f4f-f83047efce23\" target=\"_top\" title=\"psysml:868c8138-312d-42c2-8f4f-f83047efce23\" xlink:actuate=\"onRequest\" xlink:href=\"psysml:868c8138-312d-42c2-8f4f-f83047efce23\" xlink:show=\"new\" xlink:title=\"psysml:868c8138-312d-42c2-8f4f-f83047efce23\" xlink:type=\"simple\"><path d=\"M128.82,235.09 C129.49,255.73 125.26,286.38 118.89,306.99 \" fill=\"none\" id=\"E6-E8-1\" style=\"stroke: #A80036; stroke-width: 3.0;\"/><text fill=\"#000000\" font-family=\"sans-serif\" font-size=\"13\" lengthAdjust=\"spacingAndGlyphs\" textLength=\"7\" x=\"114.6823\" y=\"295.8836\">*</text></a><!--MD5=[8a2b9c2ad9dd84e2ba3c0cee9912124e]\n",
       "@startuml\r\n",
       " \r\n",
       "package \"AliasTest\" as E1  [[psysml:02b7e9b9-6677-468f-8dad-8ced33a218a4 ]]  {\r\n",
       "comp usage \"b :> ISQSpaceTime::width\" as E2 << <<(U,orange) attribute>> [[psysml:c7feeda3-a834-41bb-a074-923ea0011430 ]] {\r\n",
       "}\r\n",
       "comp def \"P1\" as E3 << << (B,green) >> [[psysml:1a450028-471a-4a88-b6bb-254dda2007f7 ]] {\r\n",
       "- - ports - -\r\n",
       "porig1\r\n",
       "}\r\n",
       "comp usage \"porig1 \" as E4 << << (P,blue) port>> [[psysml:528ad082-e547-41e1-93e2-4f734da3b1f6 ]] {\r\n",
       "}\r\n",
       "comp usage \"p1: P1 \" as E5 << << (P,limegreen) part>> [[psysml:73838eb5-9ecb-4193-8391-1ddf76ff61b3 ]] {\r\n",
       "}\r\n",
       "comp usage \"po1 \" as E6 << << (P,blue) port>> [[psysml:6875339d-23d6-4973-8a77-102c2bf220f1 ]] {\r\n",
       "}\r\n",
       "comp usage \"p2: P1 \" as E7 << << (P,limegreen) part>> [[psysml:73d7b051-2240-4fe3-9278-fa0d634854f8 ]] {\r\n",
       "- - ports - -\r\n",
       "pdest\r\n",
       "}\r\n",
       "comp usage \"pdest \" as E8 << << (P,blue) port>> [[psysml:6cb98d60-0ab8-42f0-badc-3a033a17e212 ]] {\r\n",
       "}\r\n",
       "}\r\n",
       "E3 o- - \"1\"E4 [[psysml:b408bcfe-af80-429f-8bb7-74524c32282e ]] \r\n",
       "E5 - -:|> E3 [[psysml:de9d1539-3df1-480f-91a9-ed9f950b1f96 ]] \r\n",
       "E5 o- - \"1\"E6 [[psysml:1d973b34-aa26-4796-bb60-99a7b7743581 ]] \r\n",
       "E6 - -||> E4 [[psysml:73eeba8b-cad5-4501-9cd6-c52ba77489ee ]] \r\n",
       "E7 - -:|> E3 [[psysml:52eea9f8-f20f-41d5-8944-6f19cdd988b1 ]] \r\n",
       "E7 o- - \"1\"E8 [[psysml:7dc24cb7-d6ba-40a4-b073-8d397bf1a7ae ]] \r\n",
       "E6 -[thickness=3]- \"*\"E8 [[psysml:6785e7ae-ef30-46fa-a69d-d6daab2c7c15 ]] \r\n",
       "E6 -[thickness=3]- \"*\"E8 [[psysml:868c8138-312d-42c2-8f4f-f83047efce23 ]] \r\n",
       "@enduml\r\n",
       "\n",
       "PlantUML version 1.2020.13(Sat Jun 13 12:26:38 UTC 2020)\n",
       "(EPL source distribution)\n",
       "Java Runtime: OpenJDK Runtime Environment\n",
       "JVM: OpenJDK 64-Bit Server VM\n",
       "Default Encoding: UTF-8\n",
       "Language: en\n",
       "Country: null\n",
       "--></g></svg>"
      ]
     },
     "execution_count": 31,
     "metadata": {},
     "output_type": "execute_result"
    }
   ],
   "source": [
    "%viz --style=\"PLANTUML\" --view=\"Tree\" \"AliasTest\""
   ]
  },
  {
   "cell_type": "code",
   "execution_count": 32,
   "id": "85c6f457",
   "metadata": {
    "execution": {
     "iopub.execute_input": "2022-08-19T08:20:49.886737Z",
     "iopub.status.busy": "2022-08-19T08:20:49.886104Z",
     "iopub.status.idle": "2022-08-19T08:20:49.975299Z",
     "shell.execute_reply": "2022-08-19T08:20:49.973974Z"
    }
   },
   "outputs": [
    {
     "data": {
      "image/svg+xml": [
       "<?xml version=\"1.0\" encoding=\"UTF-8\" standalone=\"no\"?><svg xmlns=\"http://www.w3.org/2000/svg\" xmlns:xlink=\"http://www.w3.org/1999/xlink\" contentScriptType=\"application/ecmascript\" contentStyleType=\"text/css\" height=\"300px\" preserveAspectRatio=\"none\" style=\"width:603px;height:300px;background:#000000;\" version=\"1.1\" viewBox=\"0 0 603 300\" width=\"603px\" zoomAndPan=\"magnify\"><defs/><g><rect fill=\"#271A1A\" height=\"1\" style=\"stroke: #271A1A; stroke-width: 1.0;\" width=\"1\" x=\"0\" y=\"0\"/><rect fill=\"#FFFFFF\" height=\"202.8012\" style=\"stroke: #FFFFFF; stroke-width: 1.0;\" width=\"602\" x=\"0\" y=\"0\"/><text fill=\"#000000\" font-family=\"sans-serif\" font-size=\"12\" font-weight=\"bold\" lengthAdjust=\"spacingAndGlyphs\" textLength=\"139\" x=\"5\" y=\"16.1387\">Welcome to PlantUML!</text><text fill=\"#000000\" font-family=\"sans-serif\" font-size=\"12\" lengthAdjust=\"spacingAndGlyphs\" textLength=\"0\" x=\"9\" y=\"30.1074\"/><text fill=\"#000000\" font-family=\"sans-serif\" font-size=\"12\" lengthAdjust=\"spacingAndGlyphs\" textLength=\"293\" x=\"5\" y=\"44.0762\">If you use this software, you accept its license.</text><text fill=\"#000000\" font-family=\"sans-serif\" font-size=\"12\" lengthAdjust=\"spacingAndGlyphs\" textLength=\"107\" x=\"5\" y=\"58.0449\">(details by typing</text><text fill=\"#000000\" font-family=\"monospace\" font-size=\"12\" lengthAdjust=\"spacingAndGlyphs\" textLength=\"42\" x=\"116\" y=\"58.595\">license</text><text fill=\"#000000\" font-family=\"sans-serif\" font-size=\"12\" lengthAdjust=\"spacingAndGlyphs\" textLength=\"56\" x=\"162\" y=\"58.0449\">keyword)</text><text fill=\"#000000\" font-family=\"sans-serif\" font-size=\"12\" lengthAdjust=\"spacingAndGlyphs\" textLength=\"0\" x=\"9\" y=\"72.0137\"/><text fill=\"#000000\" font-family=\"sans-serif\" font-size=\"12\" lengthAdjust=\"spacingAndGlyphs\" textLength=\"283\" x=\"5\" y=\"85.9824\">You can start with a simple UML Diagram like:</text><text fill=\"#000000\" font-family=\"sans-serif\" font-size=\"12\" lengthAdjust=\"spacingAndGlyphs\" textLength=\"0\" x=\"9\" y=\"99.9512\"/><text fill=\"#000000\" font-family=\"monospace\" font-size=\"12\" lengthAdjust=\"spacingAndGlyphs\" textLength=\"102\" x=\"5\" y=\"113.0893\">Bob-&gt;Alice: Hello</text><text fill=\"#000000\" font-family=\"sans-serif\" font-size=\"12\" lengthAdjust=\"spacingAndGlyphs\" textLength=\"0\" x=\"9\" y=\"126.508\"/><text fill=\"#000000\" font-family=\"sans-serif\" font-size=\"12\" lengthAdjust=\"spacingAndGlyphs\" textLength=\"14\" x=\"5\" y=\"140.4768\">Or</text><text fill=\"#000000\" font-family=\"sans-serif\" font-size=\"12\" lengthAdjust=\"spacingAndGlyphs\" textLength=\"0\" x=\"9\" y=\"154.4455\"/><text fill=\"#000000\" font-family=\"monospace\" font-size=\"12\" lengthAdjust=\"spacingAndGlyphs\" textLength=\"78\" x=\"5\" y=\"167.5837\">class Example</text><text fill=\"#000000\" font-family=\"sans-serif\" font-size=\"12\" lengthAdjust=\"spacingAndGlyphs\" textLength=\"0\" x=\"9\" y=\"181.0023\"/><text fill=\"#000000\" font-family=\"sans-serif\" font-size=\"12\" lengthAdjust=\"spacingAndGlyphs\" textLength=\"349\" x=\"5\" y=\"194.9711\">You will find more information about PlantUML syntax on</text><text fill=\"#000000\" font-family=\"sans-serif\" font-size=\"12\" lengthAdjust=\"spacingAndGlyphs\" text-decoration=\"underline\" textLength=\"129\" x=\"358\" y=\"194.9711\">https://plantuml.com</text><image height=\"71\" width=\"80\" x=\"516\" xlink:href=\"data:image/png;base64,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\" y=\"6\"/><rect fill=\"#000000\" height=\"96.4844\" style=\"stroke: #000000; stroke-width: 1.0;\" width=\"602\" x=\"0\" y=\"202.8012\"/><rect fill=\"#33FF02\" height=\"21.2969\" style=\"stroke: #33FF02; stroke-width: 1.0;\" width=\"145\" x=\"5\" y=\"207.8012\"/><text fill=\"#000000\" font-family=\"sans-serif\" font-size=\"14\" font-weight=\"bold\" lengthAdjust=\"spacingAndGlyphs\" textLength=\"143\" x=\"6\" y=\"222.8012\">[From string (line 2) ]</text><text fill=\"#33FF02\" font-family=\"sans-serif\" font-size=\"14\" font-weight=\"bold\" lengthAdjust=\"spacingAndGlyphs\" textLength=\"0\" x=\"9\" y=\"243.0981\"/><text fill=\"#33FF02\" font-family=\"sans-serif\" font-size=\"14\" font-weight=\"bold\" lengthAdjust=\"spacingAndGlyphs\" textLength=\"70\" x=\"5\" y=\"259.3949\">@startuml</text><text fill=\"#33FF02\" font-family=\"sans-serif\" font-size=\"14\" font-weight=\"bold\" lengthAdjust=\"spacingAndGlyphs\" textLength=\"0\" x=\"9\" y=\"275.6918\"/><text fill=\"#FF0000\" font-family=\"sans-serif\" font-size=\"14\" font-weight=\"bold\" lengthAdjust=\"spacingAndGlyphs\" textLength=\"124\" x=\"9\" y=\"291.9887\">Empty description</text><!--MD5=[f59edd8218d337f74d0c332fc6737304]\n",
       "@startuml\r\n",
       " \r\n",
       "@enduml\r\n",
       "\n",
       "PlantUML version 1.2020.13(Sat Jun 13 12:26:38 UTC 2020)\n",
       "(EPL source distribution)\n",
       "Java Runtime: OpenJDK Runtime Environment\n",
       "JVM: OpenJDK 64-Bit Server VM\n",
       "Default Encoding: UTF-8\n",
       "Language: en\n",
       "Country: null\n",
       "--></g></svg>"
      ]
     },
     "execution_count": 32,
     "metadata": {},
     "output_type": "execute_result"
    }
   ],
   "source": [
    "%viz --style=\"PLANTUML\" --view=\"State\" \"AliasTest\""
   ]
  },
  {
   "cell_type": "code",
   "execution_count": 33,
   "id": "3b898225",
   "metadata": {
    "execution": {
     "iopub.execute_input": "2022-08-19T08:20:50.024781Z",
     "iopub.status.busy": "2022-08-19T08:20:50.024324Z",
     "iopub.status.idle": "2022-08-19T08:20:50.054191Z",
     "shell.execute_reply": "2022-08-19T08:20:50.053806Z"
    }
   },
   "outputs": [
    {
     "data": {
      "image/svg+xml": [
       "<?xml version=\"1.0\" encoding=\"UTF-8\" standalone=\"no\"?><svg xmlns=\"http://www.w3.org/2000/svg\" xmlns:xlink=\"http://www.w3.org/1999/xlink\" contentScriptType=\"application/ecmascript\" contentStyleType=\"text/css\" height=\"382px\" preserveAspectRatio=\"none\" style=\"width:396px;height:382px;\" version=\"1.1\" viewBox=\"0 0 396 382\" width=\"396px\" zoomAndPan=\"magnify\"><defs><filter height=\"300%\" id=\"f1d9k89fhlskom\" width=\"300%\" x=\"-1\" y=\"-1\"><feGaussianBlur result=\"blurOut\" stdDeviation=\"2.0\"/><feColorMatrix in=\"blurOut\" result=\"blurOut2\" type=\"matrix\" values=\"0 0 0 0 0 0 0 0 0 0 0 0 0 0 0 0 0 0 .4 0\"/><feOffset dx=\"4.0\" dy=\"4.0\" in=\"blurOut2\" result=\"blurOut3\"/><feBlend in=\"SourceGraphic\" in2=\"blurOut3\" mode=\"normal\"/></filter></defs><g><!--MD5=[fbc87193dbaf4d95561dea2c320d4a47]\n",
       "cluster E1--><a href=\"psysml:02b7e9b9-6677-468f-8dad-8ced33a218a4\" target=\"_top\" title=\"psysml:02b7e9b9-6677-468f-8dad-8ced33a218a4\" xlink:actuate=\"onRequest\" xlink:href=\"psysml:02b7e9b9-6677-468f-8dad-8ced33a218a4\" xlink:show=\"new\" xlink:title=\"psysml:02b7e9b9-6677-468f-8dad-8ced33a218a4\" xlink:type=\"simple\"><polygon fill=\"#FFFFFF\" filter=\"url(#f1d9k89fhlskom)\" points=\"16,6,84,6,91,28.2969,374,28.2969,374,370.36,16,370.36,16,6\" style=\"stroke: #000000; stroke-width: 1.5;\"/><line style=\"stroke: #000000; stroke-width: 1.5;\" x1=\"16\" x2=\"91\" y1=\"28.2969\" y2=\"28.2969\"/><text fill=\"#000000\" font-family=\"sans-serif\" font-size=\"14\" font-weight=\"bold\" lengthAdjust=\"spacingAndGlyphs\" textLength=\"62\" x=\"20\" y=\"20.9951\">AliasTest</text></a><!--MD5=[d5e69f78d87373223dbae638b30a9c99]\n",
       "cluster E3--><a href=\"psysml:1a450028-471a-4a88-b6bb-254dda2007f7\" target=\"_top\" title=\"psysml:1a450028-471a-4a88-b6bb-254dda2007f7\" xlink:actuate=\"onRequest\" xlink:href=\"psysml:1a450028-471a-4a88-b6bb-254dda2007f7\" xlink:show=\"new\" xlink:title=\"psysml:1a450028-471a-4a88-b6bb-254dda2007f7\" xlink:type=\"simple\"><rect fill=\"#FFFFFF\" filter=\"url(#f1d9k89fhlskom)\" height=\"108.5\" id=\"E3\" style=\"stroke: #A80036; stroke-width: 1.5;\" width=\"83\" x=\"250\" y=\"237.86\"/><rect fill=\"#FEFECE\" height=\"23.9688\" style=\"stroke: #A80036; stroke-width: 1.5;\" width=\"83\" x=\"250\" y=\"237.86\"/><text fill=\"#000000\" font-family=\"sans-serif\" font-size=\"12\" lengthAdjust=\"spacingAndGlyphs\" textLength=\"16\" x=\"283.5\" y=\"253.9987\">P1</text></a><!--MD5=[14e3b0961a2654348d326746436168a1]\n",
       "cluster E6--><a href=\"psysml:73838eb5-9ecb-4193-8391-1ddf76ff61b3\" target=\"_top\" title=\"psysml:73838eb5-9ecb-4193-8391-1ddf76ff61b3\" xlink:actuate=\"onRequest\" xlink:href=\"psysml:73838eb5-9ecb-4193-8391-1ddf76ff61b3\" xlink:show=\"new\" xlink:title=\"psysml:73838eb5-9ecb-4193-8391-1ddf76ff61b3\" xlink:type=\"simple\"><rect fill=\"#FFFFFF\" filter=\"url(#f1d9k89fhlskom)\" height=\"97.36\" id=\"E6\" rx=\"10\" ry=\"10\" style=\"stroke: #A80036; stroke-width: 1.5;\" width=\"114\" x=\"236\" y=\"49\"/><rect fill=\"#FEFECE\" height=\"23.9688\" rx=\"10\" ry=\"10\" style=\"stroke: #FEFECE; stroke-width: 1.5;\" width=\"114\" x=\"236\" y=\"49\"/><rect fill=\"#FEFECE\" height=\"10\" style=\"stroke: #FEFECE; stroke-width: 1.5;\" width=\"114\" x=\"236\" y=\"62.9688\"/><rect fill=\"none\" height=\"97.36\" id=\"E6\" rx=\"10\" ry=\"10\" style=\"stroke: #A80036; stroke-width: 1.5;\" width=\"114\" x=\"236\" y=\"49\"/><text fill=\"#000000\" font-family=\"sans-serif\" font-size=\"12\" lengthAdjust=\"spacingAndGlyphs\" textLength=\"40\" x=\"273\" y=\"65.1387\">p1: P1</text><line style=\"stroke: #A80036; stroke-width: 1.0;\" x1=\"236\" x2=\"350\" y1=\"72.9688\" y2=\"72.9688\"/></a><!--MD5=[55dfccfc6c49c2d10cd1bd2211a6c90c]\n",
       "cluster E8--><a href=\"psysml:73d7b051-2240-4fe3-9278-fa0d634854f8\" target=\"_top\" title=\"psysml:73d7b051-2240-4fe3-9278-fa0d634854f8\" xlink:actuate=\"onRequest\" xlink:href=\"psysml:73d7b051-2240-4fe3-9278-fa0d634854f8\" xlink:show=\"new\" xlink:title=\"psysml:73d7b051-2240-4fe3-9278-fa0d634854f8\" xlink:type=\"simple\"><rect fill=\"#FFFFFF\" filter=\"url(#f1d9k89fhlskom)\" height=\"73\" id=\"E8\" rx=\"10\" ry=\"10\" style=\"stroke: #A80036; stroke-width: 1.5;\" width=\"83\" x=\"151\" y=\"198.36\"/><rect fill=\"#FEFECE\" height=\"23.9688\" rx=\"10\" ry=\"10\" style=\"stroke: #FEFECE; stroke-width: 1.5;\" width=\"83\" x=\"151\" y=\"198.36\"/><rect fill=\"#FEFECE\" height=\"10\" style=\"stroke: #FEFECE; stroke-width: 1.5;\" width=\"83\" x=\"151\" y=\"212.3288\"/><rect fill=\"none\" height=\"73\" id=\"E8\" rx=\"10\" ry=\"10\" style=\"stroke: #A80036; stroke-width: 1.5;\" width=\"83\" x=\"151\" y=\"198.36\"/><text fill=\"#000000\" font-family=\"sans-serif\" font-size=\"12\" lengthAdjust=\"spacingAndGlyphs\" textLength=\"40\" x=\"172.5\" y=\"214.4987\">p2: P1</text><line style=\"stroke: #A80036; stroke-width: 1.0;\" x1=\"151\" x2=\"234\" y1=\"222.3288\" y2=\"222.3288\"/></a><!--MD5=[b4997ac47864f28c2f74865a473b2911]\n",
       "class E2--><a href=\"psysml:c7feeda3-a834-41bb-a074-923ea0011430\" target=\"_top\" title=\"psysml:c7feeda3-a834-41bb-a074-923ea0011430\" xlink:actuate=\"onRequest\" xlink:href=\"psysml:c7feeda3-a834-41bb-a074-923ea0011430\" xlink:show=\"new\" xlink:title=\"psysml:c7feeda3-a834-41bb-a074-923ea0011430\" xlink:type=\"simple\"><rect fill=\"#FEFECE\" filter=\"url(#f1d9k89fhlskom)\" height=\"45.9375\" id=\"E2\" rx=\"10\" ry=\"10\" style=\"stroke: #A80036; stroke-width: 1.5;\" width=\"191\" x=\"32.5\" y=\"59.5\"/><ellipse cx=\"47.5\" cy=\"78.4688\" fill=\"#FFA500\" rx=\"11\" ry=\"11\" style=\"stroke: #A80036; stroke-width: 1.0;\"/><path d=\"M47.25,83.9375 Q45.5,83.9375 44.5469,82.9063 Q43.6094,81.8594 43.6094,80.0156 L43.6094,73.125 L45.6719,73.125 L45.6719,73.2813 Q45.5781,73.375 45.5469,73.5156 Q45.5313,73.6406 45.5313,73.9063 L45.5313,80.0313 Q45.5313,81.125 45.9063,81.75 Q46.2813,82.375 47.2656,82.375 Q48.25,82.375 48.6406,81.75 Q49.0313,81.125 49.0313,79.9844 L49.0313,73.125 L50.9063,73.125 L50.9063,79.9688 Q50.9063,82 49.875,82.9688 Q48.8594,83.9375 47.25,83.9375 Z \"/><text fill=\"#000000\" font-family=\"sans-serif\" font-size=\"12\" font-style=\"italic\" lengthAdjust=\"spacingAndGlyphs\" textLength=\"69\" x=\"106.5\" y=\"75.6387\">«attribute»</text><text fill=\"#000000\" font-family=\"sans-serif\" font-size=\"12\" lengthAdjust=\"spacingAndGlyphs\" textLength=\"159\" x=\"61.5\" y=\"89.6074\">b :&gt; ISQSpaceTime::width</text><line style=\"stroke: #A80036; stroke-width: 1.5;\" x1=\"33.5\" x2=\"222.5\" y1=\"97.4375\" y2=\"97.4375\"/></a><text fill=\"#000000\" font-family=\"sans-serif\" font-size=\"14\" lengthAdjust=\"spacingAndGlyphs\" textLength=\"44\" x=\"244\" y=\"216.5582\">porig1</text><rect fill=\"#A80036\" height=\"12\" style=\"stroke: #FEFECE; stroke-width: 1.5;\" width=\"12\" x=\"262\" y=\"231.86\"/><text fill=\"#000000\" font-family=\"sans-serif\" font-size=\"14\" lengthAdjust=\"spacingAndGlyphs\" textLength=\"44\" x=\"291\" y=\"216.5582\">porig1</text><rect fill=\"#A80036\" height=\"12\" style=\"stroke: #FEFECE; stroke-width: 1.5;\" width=\"12\" x=\"309\" y=\"231.86\"/><text fill=\"#000000\" font-family=\"sans-serif\" font-size=\"14\" lengthAdjust=\"spacingAndGlyphs\" textLength=\"27\" x=\"238.5\" y=\"165.3551\">po1</text><rect fill=\"#A80036\" height=\"12\" style=\"stroke: #FEFECE; stroke-width: 1.5;\" width=\"12\" x=\"248\" y=\"140.36\"/><text fill=\"#000000\" font-family=\"sans-serif\" font-size=\"14\" lengthAdjust=\"spacingAndGlyphs\" textLength=\"40\" x=\"147\" y=\"177.0582\">pdest</text><rect fill=\"#A80036\" height=\"12\" style=\"stroke: #FEFECE; stroke-width: 1.5;\" width=\"12\" x=\"163\" y=\"192.36\"/><text fill=\"#000000\" font-family=\"sans-serif\" font-size=\"14\" lengthAdjust=\"spacingAndGlyphs\" textLength=\"40\" x=\"194\" y=\"177.0582\">pdest</text><rect fill=\"#A80036\" height=\"12\" style=\"stroke: #FEFECE; stroke-width: 1.5;\" width=\"12\" x=\"210\" y=\"192.36\"/><!--MD5=[a717450b82c80b9240a525fa862496af]\n",
       "link E6 to E3--><a href=\"psysml:de9d1539-3df1-480f-91a9-ed9f950b1f96\" target=\"_top\" title=\"psysml:de9d1539-3df1-480f-91a9-ed9f950b1f96\" xlink:actuate=\"onRequest\" xlink:href=\"psysml:de9d1539-3df1-480f-91a9-ed9f950b1f96\" xlink:show=\"new\" xlink:title=\"psysml:de9d1539-3df1-480f-91a9-ed9f950b1f96\" xlink:type=\"simple\"><path d=\"M350.0881,123.2355 C350.1392,123.3155 350.19,123.3957 350.2406,123.476 C350.3418,123.6365 350.4421,123.7974 350.5414,123.9588 C351.3363,125.2499 352.0715,126.5688 352.7392,127.9152 C355.41,133.3006 357,139.125 357,145.36 C357,145.36 357,145.36 357,199.36 C357,235.38 363.53,249.09 344,279.36 C342.1175,282.275 339.8706,284.9894 337.3894,287.5048 C337.0792,287.8193 336.7654,288.1306 336.4482,288.4388 C336.3689,288.5159 336.2893,288.5927 336.2096,288.6694 C336.1698,288.7077 336.1298,288.746 336.0899,288.7843 \" fill=\"none\" id=\"E6-&gt;E3\" style=\"stroke: #A80036; stroke-width: 1.0;\"/><polygon fill=\"#FFFFFF\" points=\"336.0899,288.7843,344.9801,270.5918,354.658,280.7081,336.0899,288.7843\" style=\"stroke: #A80036; stroke-width: 1.0;\"/><ellipse cx=\"350.4814\" cy=\"268.0967\" fill=\"#A80036\" rx=\"2\" ry=\"2\" style=\"stroke: #A80036; stroke-width: 1.0;\"/><ellipse cx=\"357.3942\" cy=\"275.3226\" fill=\"#A80036\" rx=\"2\" ry=\"2\" style=\"stroke: #A80036; stroke-width: 1.0;\"/></a><!--MD5=[95fa686b5a16158bcdbcaeead89f639b]\n",
       "link E8 to E3--><a href=\"psysml:52eea9f8-f20f-41d5-8944-6f19cdd988b1\" target=\"_top\" title=\"psysml:52eea9f8-f20f-41d5-8944-6f19cdd988b1\" xlink:actuate=\"onRequest\" xlink:href=\"psysml:52eea9f8-f20f-41d5-8944-6f19cdd988b1\" xlink:show=\"new\" xlink:title=\"psysml:52eea9f8-f20f-41d5-8944-6f19cdd988b1\" xlink:type=\"simple\"><path d=\"M228.6069,271.4711 C230.7353,272.7659 232.8745,274.0673 235.0138,275.3688 C239.2922,277.9716 243.5705,280.5743 247.7618,283.124 C249.8574,284.3989 251.9312,285.6605 253.9724,286.9022 \" fill=\"none\" id=\"E8-&gt;E3\" style=\"stroke: #A80036; stroke-width: 1.0;\"/><polygon fill=\"#FFFFFF\" points=\"253.9724,286.9022,234.102,283.0078,241.3781,271.0471,253.9724,286.9022\" style=\"stroke: #A80036; stroke-width: 1.0;\"/><ellipse cx=\"230.2717\" cy=\"278.3367\" fill=\"#A80036\" rx=\"2\" ry=\"2\" style=\"stroke: #A80036; stroke-width: 1.0;\"/><ellipse cx=\"235.469\" cy=\"269.7933\" fill=\"#A80036\" rx=\"2\" ry=\"2\" style=\"stroke: #A80036; stroke-width: 1.0;\"/></a><!--MD5=[1c0b9414cc86e0744215edee6abd8926]\n",
       "link E7 to E9--><a href=\"psysml:6785e7ae-ef30-46fa-a69d-d6daab2c7c15\" target=\"_top\" title=\"psysml:6785e7ae-ef30-46fa-a69d-d6daab2c7c15\" xlink:actuate=\"onRequest\" xlink:href=\"psysml:6785e7ae-ef30-46fa-a69d-d6daab2c7c15\" xlink:show=\"new\" xlink:title=\"psysml:6785e7ae-ef30-46fa-a69d-d6daab2c7c15\" xlink:type=\"simple\"><path d=\"M247.76,147.78 C229.11,150.07 197.53,161.31 175,176.36 C165.47,182.73 155.95,192.95 162.61,196.28 \" fill=\"none\" id=\"E7-E9\" style=\"stroke: #A80036; stroke-width: 3.0;\"/><text fill=\"#000000\" font-family=\"sans-serif\" font-size=\"13\" lengthAdjust=\"spacingAndGlyphs\" textLength=\"7\" x=\"148.0689\" y=\"186.0928\">*</text></a><!--MD5=[1c0b9414cc86e0744215edee6abd8926]\n",
       "link E7 to E9--><a href=\"psysml:868c8138-312d-42c2-8f4f-f83047efce23\" target=\"_top\" title=\"psysml:868c8138-312d-42c2-8f4f-f83047efce23\" xlink:actuate=\"onRequest\" xlink:href=\"psysml:868c8138-312d-42c2-8f4f-f83047efce23\" xlink:show=\"new\" xlink:title=\"psysml:868c8138-312d-42c2-8f4f-f83047efce23\" xlink:type=\"simple\"><path d=\"M253.99,152.47 C245.07,157.55 225.42,166.07 210,176.36 C199.84,183.15 189.69,194.32 175.07,196.84 \" fill=\"none\" id=\"E7-E9-1\" style=\"stroke: #A80036; stroke-width: 3.0;\"/><text fill=\"#000000\" font-family=\"sans-serif\" font-size=\"13\" lengthAdjust=\"spacingAndGlyphs\" textLength=\"7\" x=\"182.9653\" y=\"186.5202\">*</text></a><!--MD5=[e672bc744e76df96022868afdb2ae1a9]\n",
       "@startuml\r\n",
       "skinparam ranksep 10\r\n",
       "skinparam rectangle {\r\n",
       " backgroundColor<<block>> LightGreen\r\n",
       "}\r\n",
       " \r\n",
       "package \"AliasTest\" as E1  [[psysml:02b7e9b9-6677-468f-8dad-8ced33a218a4 ]]  {\r\n",
       "comp usage \"b :> ISQSpaceTime::width\" as E2 << <<(U,orange) attribute>> [[psysml:c7feeda3-a834-41bb-a074-923ea0011430 ]] {\r\n",
       "}\r\n",
       "rec def \"P1\" as E3 << << (B,green) >> [[psysml:1a450028-471a-4a88-b6bb-254dda2007f7 ]] {\r\n",
       "portin \"porig1 \" as E4 << << (P,blue) port>> [[psysml:528ad082-e547-41e1-93e2-4f734da3b1f6 ]] \r\n",
       "portin \"porig1 \" as E5 << << (P,blue) port>> [[psysml:528ad082-e547-41e1-93e2-4f734da3b1f6 ]] \r\n",
       "}\r\n",
       "rec usage \"p1: P1\" as E6  [[psysml:73838eb5-9ecb-4193-8391-1ddf76ff61b3 ]] {\r\n",
       "portout \"po1 \" as E7 << << (P,blue) port>> [[psysml:6875339d-23d6-4973-8a77-102c2bf220f1 ]] \r\n",
       "}\r\n",
       "rec usage \"p2: P1\" as E8  [[psysml:73d7b051-2240-4fe3-9278-fa0d634854f8 ]] {\r\n",
       "portin \"pdest \" as E9 << << (P,blue) port>> [[psysml:6cb98d60-0ab8-42f0-badc-3a033a17e212 ]] \r\n",
       "portin \"pdest \" as E10 << << (P,blue) port>> [[psysml:6cb98d60-0ab8-42f0-badc-3a033a17e212 ]] \r\n",
       "}\r\n",
       "}\r\n",
       "E6 - -:|> E3 [[psysml:de9d1539-3df1-480f-91a9-ed9f950b1f96 ]] \r\n",
       "E8 - -:|> E3 [[psysml:52eea9f8-f20f-41d5-8944-6f19cdd988b1 ]] \r\n",
       "E7 -[thickness=3]- \"*\"E9 [[psysml:6785e7ae-ef30-46fa-a69d-d6daab2c7c15 ]] \r\n",
       "E7 -[thickness=3]- \"*\"E9 [[psysml:868c8138-312d-42c2-8f4f-f83047efce23 ]] \r\n",
       "@enduml\r\n",
       "\n",
       "PlantUML version 1.2020.13(Sat Jun 13 12:26:38 UTC 2020)\n",
       "(EPL source distribution)\n",
       "Java Runtime: OpenJDK Runtime Environment\n",
       "JVM: OpenJDK 64-Bit Server VM\n",
       "Default Encoding: UTF-8\n",
       "Language: en\n",
       "Country: null\n",
       "--></g></svg>"
      ]
     },
     "execution_count": 33,
     "metadata": {},
     "output_type": "execute_result"
    }
   ],
   "source": [
    "%viz --style=\"PLANTUML\" --view=\"Interconnection\" \"AliasTest\""
   ]
  },
  {
   "cell_type": "code",
   "execution_count": 34,
   "id": "7c35e4ab",
   "metadata": {
    "execution": {
     "iopub.execute_input": "2022-08-19T08:20:50.103857Z",
     "iopub.status.busy": "2022-08-19T08:20:50.103395Z",
     "iopub.status.idle": "2022-08-19T08:20:50.113202Z",
     "shell.execute_reply": "2022-08-19T08:20:50.112824Z"
    }
   },
   "outputs": [
    {
     "data": {
      "image/svg+xml": [
       "<?xml version=\"1.0\" encoding=\"UTF-8\" standalone=\"no\"?><svg xmlns=\"http://www.w3.org/2000/svg\" xmlns:xlink=\"http://www.w3.org/1999/xlink\" contentScriptType=\"application/ecmascript\" contentStyleType=\"text/css\" height=\"12px\" preserveAspectRatio=\"none\" style=\"width:12px;height:12px;\" version=\"1.1\" viewBox=\"0 0 12 12\" width=\"12px\" zoomAndPan=\"magnify\"><defs/><g><!--MD5=[6a4cb978cab31700e1ce5529f947a75d]\n",
       "@startuml\r\n",
       "skinparam ranksep 8\r\n",
       " \r\n",
       "@enduml\r\n",
       "\n",
       "PlantUML version 1.2020.13(Sat Jun 13 12:26:38 UTC 2020)\n",
       "(EPL source distribution)\n",
       "Java Runtime: OpenJDK Runtime Environment\n",
       "JVM: OpenJDK 64-Bit Server VM\n",
       "Default Encoding: UTF-8\n",
       "Language: en\n",
       "Country: null\n",
       "--></g></svg>"
      ]
     },
     "execution_count": 34,
     "metadata": {},
     "output_type": "execute_result"
    }
   ],
   "source": [
    "%viz --style=\"PLANTUML\" --view=\"Action\" \"AliasTest\""
   ]
  },
  {
   "cell_type": "code",
   "execution_count": 35,
   "id": "8864c7e5",
   "metadata": {
    "execution": {
     "iopub.execute_input": "2022-08-19T08:20:50.163118Z",
     "iopub.status.busy": "2022-08-19T08:20:50.162671Z",
     "iopub.status.idle": "2022-08-19T08:20:50.172815Z",
     "shell.execute_reply": "2022-08-19T08:20:50.172434Z"
    }
   },
   "outputs": [
    {
     "data": {
      "image/svg+xml": [
       "<?xml version=\"1.0\" encoding=\"UTF-8\" standalone=\"no\"?><svg xmlns=\"http://www.w3.org/2000/svg\" xmlns:xlink=\"http://www.w3.org/1999/xlink\" contentScriptType=\"application/ecmascript\" contentStyleType=\"text/css\" height=\"12px\" preserveAspectRatio=\"none\" style=\"width:12px;height:12px;\" version=\"1.1\" viewBox=\"0 0 12 12\" width=\"12px\" zoomAndPan=\"magnify\"><defs/><g><!--MD5=[ca4faa0b02def275ea33c14ea7a1a98d]\n",
       "@startuml\r\n",
       "skinparam roundcorner 20\r\n",
       "skinparam BoxPadding 20\r\n",
       "skinparam SequenceBoxBackgroundColor #white\r\n",
       "skinparam style strictuml\r\n",
       "skinparam maxMessageSize 100\r\n",
       " \r\n",
       "@enduml\r\n",
       "\n",
       "PlantUML version 1.2020.13(Sat Jun 13 12:26:38 UTC 2020)\n",
       "(EPL source distribution)\n",
       "Java Runtime: OpenJDK Runtime Environment\n",
       "JVM: OpenJDK 64-Bit Server VM\n",
       "Default Encoding: UTF-8\n",
       "Language: en\n",
       "Country: null\n",
       "--></g></svg>"
      ]
     },
     "execution_count": 35,
     "metadata": {},
     "output_type": "execute_result"
    }
   ],
   "source": [
    "%viz --style=\"PLANTUML\" --view=\"Sequence\" \"AliasTest\""
   ]
  },
  {
   "cell_type": "code",
   "execution_count": 36,
   "id": "ebb94f1c",
   "metadata": {
    "execution": {
     "iopub.execute_input": "2022-08-19T08:20:50.222483Z",
     "iopub.status.busy": "2022-08-19T08:20:50.222034Z",
     "iopub.status.idle": "2022-08-19T08:20:50.284892Z",
     "shell.execute_reply": "2022-08-19T08:20:50.284485Z"
    }
   },
   "outputs": [
    {
     "data": {
      "image/svg+xml": [
       "<?xml version=\"1.0\" encoding=\"UTF-8\" standalone=\"no\"?><svg xmlns=\"http://www.w3.org/2000/svg\" xmlns:xlink=\"http://www.w3.org/1999/xlink\" contentScriptType=\"application/ecmascript\" contentStyleType=\"text/css\" height=\"381px\" preserveAspectRatio=\"none\" style=\"width:484px;height:381px;\" version=\"1.1\" viewBox=\"0 0 484 381\" width=\"484px\" zoomAndPan=\"magnify\"><defs><filter height=\"300%\" id=\"fuj98434y9449\" width=\"300%\" x=\"-1\" y=\"-1\"><feGaussianBlur result=\"blurOut\" stdDeviation=\"2.0\"/><feColorMatrix in=\"blurOut\" result=\"blurOut2\" type=\"matrix\" values=\"0 0 0 0 0 0 0 0 0 0 0 0 0 0 0 0 0 0 .4 0\"/><feOffset dx=\"4.0\" dy=\"4.0\" in=\"blurOut2\" result=\"blurOut3\"/><feBlend in=\"SourceGraphic\" in2=\"blurOut3\" mode=\"normal\"/></filter></defs><g><!--MD5=[fbc87193dbaf4d95561dea2c320d4a47]\n",
       "cluster E1--><a href=\"psysml:02b7e9b9-6677-468f-8dad-8ced33a218a4\" target=\"_top\" title=\"psysml:02b7e9b9-6677-468f-8dad-8ced33a218a4\" xlink:actuate=\"onRequest\" xlink:href=\"psysml:02b7e9b9-6677-468f-8dad-8ced33a218a4\" xlink:show=\"new\" xlink:title=\"psysml:02b7e9b9-6677-468f-8dad-8ced33a218a4\" xlink:type=\"simple\"><polygon fill=\"#FFFFFF\" filter=\"url(#fuj98434y9449)\" points=\"16,6,84,6,91,28.2969,462,28.2969,462,369,16,369,16,6\" style=\"stroke: #000000; stroke-width: 1.5;\"/><line style=\"stroke: #000000; stroke-width: 1.5;\" x1=\"16\" x2=\"91\" y1=\"28.2969\" y2=\"28.2969\"/><text fill=\"#000000\" font-family=\"sans-serif\" font-size=\"14\" font-weight=\"bold\" lengthAdjust=\"spacingAndGlyphs\" textLength=\"62\" x=\"20\" y=\"20.9951\">AliasTest</text></a><!--MD5=[b4997ac47864f28c2f74865a473b2911]\n",
       "class E2--><a href=\"psysml:c7feeda3-a834-41bb-a074-923ea0011430\" target=\"_top\" title=\"psysml:c7feeda3-a834-41bb-a074-923ea0011430\" xlink:actuate=\"onRequest\" xlink:href=\"psysml:c7feeda3-a834-41bb-a074-923ea0011430\" xlink:show=\"new\" xlink:title=\"psysml:c7feeda3-a834-41bb-a074-923ea0011430\" xlink:type=\"simple\"><rect fill=\"#FEFECE\" filter=\"url(#fuj98434y9449)\" height=\"45.9375\" id=\"E2\" rx=\"10\" ry=\"10\" style=\"stroke: #A80036; stroke-width: 1.5;\" width=\"191\" x=\"254.5\" y=\"56\"/><ellipse cx=\"269.5\" cy=\"74.9688\" fill=\"#FFA500\" rx=\"11\" ry=\"11\" style=\"stroke: #A80036; stroke-width: 1.0;\"/><path d=\"M269.25,80.4375 Q267.5,80.4375 266.5469,79.4063 Q265.6094,78.3594 265.6094,76.5156 L265.6094,69.625 L267.6719,69.625 L267.6719,69.7813 Q267.5781,69.875 267.5469,70.0156 Q267.5313,70.1406 267.5313,70.4063 L267.5313,76.5313 Q267.5313,77.625 267.9063,78.25 Q268.2813,78.875 269.2656,78.875 Q270.25,78.875 270.6406,78.25 Q271.0313,77.625 271.0313,76.4844 L271.0313,69.625 L272.9063,69.625 L272.9063,76.4688 Q272.9063,78.5 271.875,79.4688 Q270.8594,80.4375 269.25,80.4375 Z \"/><text fill=\"#000000\" font-family=\"sans-serif\" font-size=\"12\" font-style=\"italic\" lengthAdjust=\"spacingAndGlyphs\" textLength=\"69\" x=\"328.5\" y=\"72.1387\">«attribute»</text><text fill=\"#000000\" font-family=\"sans-serif\" font-size=\"12\" lengthAdjust=\"spacingAndGlyphs\" textLength=\"159\" x=\"283.5\" y=\"86.1074\">b :&gt; ISQSpaceTime::width</text><line style=\"stroke: #A80036; stroke-width: 1.5;\" x1=\"255.5\" x2=\"444.5\" y1=\"93.9375\" y2=\"93.9375\"/></a><!--MD5=[09b614a08d8cba4a07c9adeb5e0fee81]\n",
       "class E3--><a href=\"psysml:1a450028-471a-4a88-b6bb-254dda2007f7\" target=\"_top\" title=\"psysml:1a450028-471a-4a88-b6bb-254dda2007f7\" xlink:actuate=\"onRequest\" xlink:href=\"psysml:1a450028-471a-4a88-b6bb-254dda2007f7\" xlink:show=\"new\" xlink:title=\"psysml:1a450028-471a-4a88-b6bb-254dda2007f7\" xlink:type=\"simple\"><rect fill=\"#FEFECE\" filter=\"url(#fuj98434y9449)\" height=\"69.6094\" id=\"E3\" style=\"stroke: #A80036; stroke-width: 1.5;\" width=\"48\" x=\"190\" y=\"177\"/><ellipse cx=\"205\" cy=\"193\" fill=\"#008000\" rx=\"11\" ry=\"11\" style=\"stroke: #A80036; stroke-width: 1.0;\"/><path d=\"M201.875,198 L201.875,187.4063 L205.1094,187.4063 Q207.0156,187.4063 207.9219,188.1563 Q208.8438,188.9063 208.8438,190.0781 Q208.8438,190.7656 208.4531,191.4219 Q208.0781,192.0781 207.3594,192.375 Q208.2188,192.75 208.7344,193.4375 Q209.25,194.125 209.25,194.9375 Q209.25,196.3125 208.2188,197.1563 Q207.2031,198 205.0938,198 L201.875,198 Z M203.7969,191.6406 L204.9531,191.6406 Q206.0781,191.6406 206.4844,191.2656 Q206.9063,190.875 206.9063,190.25 Q206.9063,189.6719 206.4844,189.3125 Q206.0625,188.9531 205.125,188.9531 L203.7969,188.9531 L203.7969,191.6406 Z M203.7969,196.4219 L205.2969,196.4219 Q206.2031,196.4219 206.7344,196.0313 Q207.2656,195.6406 207.2656,194.8906 Q207.2656,194.125 206.7656,193.6563 Q206.2656,193.1719 205,193.1719 L203.7969,193.1719 L203.7969,196.4219 Z \"/><text fill=\"#000000\" font-family=\"sans-serif\" font-size=\"12\" lengthAdjust=\"spacingAndGlyphs\" textLength=\"16\" x=\"219\" y=\"197.1543\">P1</text><line style=\"stroke: #A80036; stroke-width: 1.5;\" x1=\"191\" x2=\"237\" y1=\"209\" y2=\"209\"/><text fill=\"#000000\" font-family=\"sans-serif\" font-size=\"11\" lengthAdjust=\"spacingAndGlyphs\" textLength=\"36\" x=\"196\" y=\"240.0151\">porig1</text><line style=\"stroke: #A80036; stroke-width: 1.0;\" x1=\"191\" x2=\"199\" y1=\"223.4023\" y2=\"223.4023\"/><text fill=\"#000000\" font-family=\"sans-serif\" font-size=\"11\" lengthAdjust=\"spacingAndGlyphs\" textLength=\"30\" x=\"199\" y=\"226.7104\">ports</text><line style=\"stroke: #A80036; stroke-width: 1.0;\" x1=\"229\" x2=\"237\" y1=\"223.4023\" y2=\"223.4023\"/></a><!--MD5=[ebbe1d658d1005bcc118a6aa81145e00]\n",
       "class E4--><a href=\"psysml:528ad082-e547-41e1-93e2-4f734da3b1f6\" target=\"_top\" title=\"psysml:528ad082-e547-41e1-93e2-4f734da3b1f6\" xlink:actuate=\"onRequest\" xlink:href=\"psysml:528ad082-e547-41e1-93e2-4f734da3b1f6\" xlink:show=\"new\" xlink:title=\"psysml:528ad082-e547-41e1-93e2-4f734da3b1f6\" xlink:type=\"simple\"><rect fill=\"#FEFECE\" filter=\"url(#fuj98434y9449)\" height=\"45.9375\" id=\"E4\" rx=\"10\" ry=\"10\" style=\"stroke: #A80036; stroke-width: 1.5;\" width=\"76\" x=\"176\" y=\"307\"/><ellipse cx=\"191\" cy=\"325.9688\" fill=\"#0000FF\" rx=\"11\" ry=\"11\" style=\"stroke: #A80036; stroke-width: 1.0;\"/><path d=\"M187.8125,330.9688 L187.8125,320.375 L191.4219,320.375 Q192.6406,320.375 193.4375,320.8125 Q194.2344,321.2344 194.6094,321.9375 Q195,322.6406 195,323.4844 Q195,324.3281 194.625,325.0156 Q194.2656,325.7031 193.4688,326.125 Q192.6875,326.5313 191.5,326.5313 L189.7656,326.5313 L189.7656,330.9688 L187.8125,330.9688 Z M189.7656,324.9375 L191.375,324.9375 Q192.1875,324.9375 192.6094,324.5313 Q193.0313,324.125 193.0313,323.4844 Q193.0313,322.8594 192.6094,322.4531 Q192.1875,322.0469 191.3906,322.0469 L189.7656,322.0469 L189.7656,324.9375 Z \"/><text fill=\"#000000\" font-family=\"sans-serif\" font-size=\"12\" font-style=\"italic\" lengthAdjust=\"spacingAndGlyphs\" textLength=\"40\" x=\"207\" y=\"323.1387\">«port»</text><text fill=\"#000000\" font-family=\"sans-serif\" font-size=\"12\" lengthAdjust=\"spacingAndGlyphs\" textLength=\"40\" x=\"205\" y=\"337.1074\">porig1</text><line style=\"stroke: #A80036; stroke-width: 1.5;\" x1=\"177\" x2=\"251\" y1=\"344.9375\" y2=\"344.9375\"/></a><!--MD5=[270fce915f116d4de14055a7c1d9a0f3]\n",
       "class E5--><a href=\"psysml:73838eb5-9ecb-4193-8391-1ddf76ff61b3\" target=\"_top\" title=\"psysml:73838eb5-9ecb-4193-8391-1ddf76ff61b3\" xlink:actuate=\"onRequest\" xlink:href=\"psysml:73838eb5-9ecb-4193-8391-1ddf76ff61b3\" xlink:show=\"new\" xlink:title=\"psysml:73838eb5-9ecb-4193-8391-1ddf76ff61b3\" xlink:type=\"simple\"><rect fill=\"#FEFECE\" filter=\"url(#fuj98434y9449)\" height=\"45.9375\" id=\"E5\" rx=\"10\" ry=\"10\" style=\"stroke: #A80036; stroke-width: 1.5;\" width=\"76\" x=\"143\" y=\"56\"/><ellipse cx=\"158\" cy=\"74.9688\" fill=\"#32CD32\" rx=\"11\" ry=\"11\" style=\"stroke: #A80036; stroke-width: 1.0;\"/><path d=\"M154.8125,79.9688 L154.8125,69.375 L158.4219,69.375 Q159.6406,69.375 160.4375,69.8125 Q161.2344,70.2344 161.6094,70.9375 Q162,71.6406 162,72.4844 Q162,73.3281 161.625,74.0156 Q161.2656,74.7031 160.4688,75.125 Q159.6875,75.5313 158.5,75.5313 L156.7656,75.5313 L156.7656,79.9688 L154.8125,79.9688 Z M156.7656,73.9375 L158.375,73.9375 Q159.1875,73.9375 159.6094,73.5313 Q160.0313,73.125 160.0313,72.4844 Q160.0313,71.8594 159.6094,71.4531 Q159.1875,71.0469 158.3906,71.0469 L156.7656,71.0469 L156.7656,73.9375 Z \"/><text fill=\"#000000\" font-family=\"sans-serif\" font-size=\"12\" font-style=\"italic\" lengthAdjust=\"spacingAndGlyphs\" textLength=\"40\" x=\"174\" y=\"72.1387\">«part»</text><text fill=\"#000000\" font-family=\"sans-serif\" font-size=\"12\" lengthAdjust=\"spacingAndGlyphs\" textLength=\"40\" x=\"172\" y=\"86.1074\">p1: P1</text><line style=\"stroke: #A80036; stroke-width: 1.5;\" x1=\"144\" x2=\"218\" y1=\"93.9375\" y2=\"93.9375\"/></a><!--MD5=[60a26617385b1d2d0262a64233df1f8d]\n",
       "class E6--><a href=\"psysml:6875339d-23d6-4973-8a77-102c2bf220f1\" target=\"_top\" title=\"psysml:6875339d-23d6-4973-8a77-102c2bf220f1\" xlink:actuate=\"onRequest\" xlink:href=\"psysml:6875339d-23d6-4973-8a77-102c2bf220f1\" xlink:show=\"new\" xlink:title=\"psysml:6875339d-23d6-4973-8a77-102c2bf220f1\" xlink:type=\"simple\"><rect fill=\"#FEFECE\" filter=\"url(#fuj98434y9449)\" height=\"45.9375\" id=\"E6\" rx=\"10\" ry=\"10\" style=\"stroke: #A80036; stroke-width: 1.5;\" width=\"68\" x=\"87\" y=\"189\"/><ellipse cx=\"102\" cy=\"207.9688\" fill=\"#0000FF\" rx=\"11\" ry=\"11\" style=\"stroke: #A80036; stroke-width: 1.0;\"/><path d=\"M98.8125,212.9688 L98.8125,202.375 L102.4219,202.375 Q103.6406,202.375 104.4375,202.8125 Q105.2344,203.2344 105.6094,203.9375 Q106,204.6406 106,205.4844 Q106,206.3281 105.625,207.0156 Q105.2656,207.7031 104.4688,208.125 Q103.6875,208.5313 102.5,208.5313 L100.7656,208.5313 L100.7656,212.9688 L98.8125,212.9688 Z M100.7656,206.9375 L102.375,206.9375 Q103.1875,206.9375 103.6094,206.5313 Q104.0313,206.125 104.0313,205.4844 Q104.0313,204.8594 103.6094,204.4531 Q103.1875,204.0469 102.3906,204.0469 L100.7656,204.0469 L100.7656,206.9375 Z \"/><text fill=\"#000000\" font-family=\"sans-serif\" font-size=\"12\" font-style=\"italic\" lengthAdjust=\"spacingAndGlyphs\" textLength=\"40\" x=\"114\" y=\"205.1387\">«port»</text><text fill=\"#000000\" font-family=\"sans-serif\" font-size=\"12\" lengthAdjust=\"spacingAndGlyphs\" textLength=\"24\" x=\"120\" y=\"219.1074\">po1</text><line style=\"stroke: #A80036; stroke-width: 1.5;\" x1=\"88\" x2=\"154\" y1=\"226.9375\" y2=\"226.9375\"/></a><!--MD5=[2156ba9850f5573cc1fc38a6a4b2f02b]\n",
       "class E7--><a href=\"psysml:73d7b051-2240-4fe3-9278-fa0d634854f8\" target=\"_top\" title=\"psysml:73d7b051-2240-4fe3-9278-fa0d634854f8\" xlink:actuate=\"onRequest\" xlink:href=\"psysml:73d7b051-2240-4fe3-9278-fa0d634854f8\" xlink:show=\"new\" xlink:title=\"psysml:73d7b051-2240-4fe3-9278-fa0d634854f8\" xlink:type=\"simple\"><rect fill=\"#FEFECE\" filter=\"url(#fuj98434y9449)\" height=\"75.5469\" id=\"E7\" rx=\"10\" ry=\"10\" style=\"stroke: #A80036; stroke-width: 1.5;\" width=\"76\" x=\"32\" y=\"41\"/><ellipse cx=\"47\" cy=\"59.9688\" fill=\"#32CD32\" rx=\"11\" ry=\"11\" style=\"stroke: #A80036; stroke-width: 1.0;\"/><path d=\"M43.8125,64.9688 L43.8125,54.375 L47.4219,54.375 Q48.6406,54.375 49.4375,54.8125 Q50.2344,55.2344 50.6094,55.9375 Q51,56.6406 51,57.4844 Q51,58.3281 50.625,59.0156 Q50.2656,59.7031 49.4688,60.125 Q48.6875,60.5313 47.5,60.5313 L45.7656,60.5313 L45.7656,64.9688 L43.8125,64.9688 Z M45.7656,58.9375 L47.375,58.9375 Q48.1875,58.9375 48.6094,58.5313 Q49.0313,58.125 49.0313,57.4844 Q49.0313,56.8594 48.6094,56.4531 Q48.1875,56.0469 47.3906,56.0469 L45.7656,56.0469 L45.7656,58.9375 Z \"/><text fill=\"#000000\" font-family=\"sans-serif\" font-size=\"12\" font-style=\"italic\" lengthAdjust=\"spacingAndGlyphs\" textLength=\"40\" x=\"63\" y=\"57.1387\">«part»</text><text fill=\"#000000\" font-family=\"sans-serif\" font-size=\"12\" lengthAdjust=\"spacingAndGlyphs\" textLength=\"40\" x=\"61\" y=\"71.1074\">p2: P1</text><line style=\"stroke: #A80036; stroke-width: 1.5;\" x1=\"33\" x2=\"107\" y1=\"78.9375\" y2=\"78.9375\"/><text fill=\"#000000\" font-family=\"sans-serif\" font-size=\"11\" lengthAdjust=\"spacingAndGlyphs\" textLength=\"32\" x=\"38\" y=\"109.9526\">pdest</text><line style=\"stroke: #A80036; stroke-width: 1.0;\" x1=\"33\" x2=\"55\" y1=\"93.3398\" y2=\"93.3398\"/><text fill=\"#000000\" font-family=\"sans-serif\" font-size=\"11\" lengthAdjust=\"spacingAndGlyphs\" textLength=\"30\" x=\"55\" y=\"96.6479\">ports</text><line style=\"stroke: #A80036; stroke-width: 1.0;\" x1=\"85\" x2=\"107\" y1=\"93.3398\" y2=\"93.3398\"/></a><!--MD5=[b9389687b975829384b498ac4b7476b2]\n",
       "class E8--><a href=\"psysml:6cb98d60-0ab8-42f0-badc-3a033a17e212\" target=\"_top\" title=\"psysml:6cb98d60-0ab8-42f0-badc-3a033a17e212\" xlink:actuate=\"onRequest\" xlink:href=\"psysml:6cb98d60-0ab8-42f0-badc-3a033a17e212\" xlink:show=\"new\" xlink:title=\"psysml:6cb98d60-0ab8-42f0-badc-3a033a17e212\" xlink:type=\"simple\"><rect fill=\"#FEFECE\" filter=\"url(#fuj98434y9449)\" height=\"45.9375\" id=\"E8\" rx=\"10\" ry=\"10\" style=\"stroke: #A80036; stroke-width: 1.5;\" width=\"72\" x=\"69\" y=\"307\"/><ellipse cx=\"84\" cy=\"325.9688\" fill=\"#0000FF\" rx=\"11\" ry=\"11\" style=\"stroke: #A80036; stroke-width: 1.0;\"/><path d=\"M80.8125,330.9688 L80.8125,320.375 L84.4219,320.375 Q85.6406,320.375 86.4375,320.8125 Q87.2344,321.2344 87.6094,321.9375 Q88,322.6406 88,323.4844 Q88,324.3281 87.625,325.0156 Q87.2656,325.7031 86.4688,326.125 Q85.6875,326.5313 84.5,326.5313 L82.7656,326.5313 L82.7656,330.9688 L80.8125,330.9688 Z M82.7656,324.9375 L84.375,324.9375 Q85.1875,324.9375 85.6094,324.5313 Q86.0313,324.125 86.0313,323.4844 Q86.0313,322.8594 85.6094,322.4531 Q85.1875,322.0469 84.3906,322.0469 L82.7656,322.0469 L82.7656,324.9375 Z \"/><text fill=\"#000000\" font-family=\"sans-serif\" font-size=\"12\" font-style=\"italic\" lengthAdjust=\"spacingAndGlyphs\" textLength=\"40\" x=\"98\" y=\"323.1387\">«port»</text><text fill=\"#000000\" font-family=\"sans-serif\" font-size=\"12\" lengthAdjust=\"spacingAndGlyphs\" textLength=\"36\" x=\"98\" y=\"337.1074\">pdest</text><line style=\"stroke: #A80036; stroke-width: 1.5;\" x1=\"70\" x2=\"140\" y1=\"344.9375\" y2=\"344.9375\"/></a><!--MD5=[4672eba38e49728da53d11aeb285b987]\n",
       "reverse link E3 to E4--><a href=\"psysml:b408bcfe-af80-429f-8bb7-74524c32282e\" target=\"_top\" title=\"psysml:b408bcfe-af80-429f-8bb7-74524c32282e\" xlink:actuate=\"onRequest\" xlink:href=\"psysml:b408bcfe-af80-429f-8bb7-74524c32282e\" xlink:show=\"new\" xlink:title=\"psysml:b408bcfe-af80-429f-8bb7-74524c32282e\" xlink:type=\"simple\"><path d=\"M214,260.3 C214,276.38 214,293.6 214,306.77 \" fill=\"none\" id=\"E3&lt;-E4\" style=\"stroke: #A80036; stroke-width: 1.0;\"/><polygon fill=\"#FFFFFF\" points=\"214,247.18,210,253.18,214,259.18,218,253.18,214,247.18\" style=\"stroke: #A80036; stroke-width: 1.0;\"/><text fill=\"#000000\" font-family=\"sans-serif\" font-size=\"13\" lengthAdjust=\"spacingAndGlyphs\" textLength=\"8\" x=\"204.975\" y=\"295.9874\">1</text></a><!--MD5=[e9be52314489bd878ff4c7144b63c9e1]\n",
       "link E5 to E3--><a href=\"psysml:de9d1539-3df1-480f-91a9-ed9f950b1f96\" target=\"_top\" title=\"psysml:de9d1539-3df1-480f-91a9-ed9f950b1f96\" xlink:actuate=\"onRequest\" xlink:href=\"psysml:de9d1539-3df1-480f-91a9-ed9f950b1f96\" xlink:show=\"new\" xlink:title=\"psysml:de9d1539-3df1-480f-91a9-ed9f950b1f96\" xlink:type=\"simple\"><path d=\"M186.6,102.22 C190.4,117.31 195.6,137.95 200.45,157.19 \" fill=\"none\" id=\"E5-&gt;E3\" style=\"stroke: #A80036; stroke-width: 1.0;\"/><polygon fill=\"#FFFFFF\" points=\"205.39,176.83,193.9589,160.1168,207.5344,156.6954,205.39,176.83\" style=\"stroke: #A80036; stroke-width: 1.0;\"/><ellipse cx=\"194.5053\" cy=\"154.1009\" fill=\"#A80036\" rx=\"2\" ry=\"2\" style=\"stroke: #A80036; stroke-width: 1.0;\"/><ellipse cx=\"204.2021\" cy=\"151.657\" fill=\"#A80036\" rx=\"2\" ry=\"2\" style=\"stroke: #A80036; stroke-width: 1.0;\"/></a><!--MD5=[85d356282659285ab4b2cfe2f634dd2b]\n",
       "reverse link E5 to E6--><a href=\"psysml:1d973b34-aa26-4796-bb60-99a7b7743581\" target=\"_top\" title=\"psysml:1d973b34-aa26-4796-bb60-99a7b7743581\" xlink:actuate=\"onRequest\" xlink:href=\"psysml:1d973b34-aa26-4796-bb60-99a7b7743581\" xlink:show=\"new\" xlink:title=\"psysml:1d973b34-aa26-4796-bb60-99a7b7743581\" xlink:type=\"simple\"><path d=\"M165.37,114.12 C154.6,137.63 140.6,168.21 131.23,188.67 \" fill=\"none\" id=\"E5&lt;-E6\" style=\"stroke: #A80036; stroke-width: 1.0;\"/><polygon fill=\"#FFFFFF\" points=\"170.82,102.22,164.6857,106.0108,165.8256,113.1313,171.9599,109.3404,170.82,102.22\" style=\"stroke: #A80036; stroke-width: 1.0;\"/><text fill=\"#000000\" font-family=\"sans-serif\" font-size=\"13\" lengthAdjust=\"spacingAndGlyphs\" textLength=\"8\" x=\"124.8264\" y=\"177.8617\">1</text></a><!--MD5=[f667431f98296947986a1a7595a31603]\n",
       "link E6 to E4--><a href=\"psysml:73eeba8b-cad5-4501-9cd6-c52ba77489ee\" target=\"_top\" title=\"psysml:73eeba8b-cad5-4501-9cd6-c52ba77489ee\" xlink:actuate=\"onRequest\" xlink:href=\"psysml:73eeba8b-cad5-4501-9cd6-c52ba77489ee\" xlink:show=\"new\" xlink:title=\"psysml:73eeba8b-cad5-4501-9cd6-c52ba77489ee\" xlink:type=\"simple\"><path d=\"M138.71,235.09 C151.45,250.98 168.93,272.78 183.84,291.38 \" fill=\"none\" id=\"E6-&gt;E4\" style=\"stroke: #A80036; stroke-width: 1.0;\"/><polygon fill=\"#FFFFFF\" points=\"196.35,306.99,179.0112,296.5322,189.9404,287.7828,196.35,306.99\" style=\"stroke: #A80036; stroke-width: 1.0;\"/><line style=\"stroke: #A80036; stroke-width: 2.0;\" x1=\"176.6364\" x2=\"187.5656\" y1=\"293.5657\" y2=\"284.8163\"/></a><!--MD5=[14ccda38c055a5c0da953d572bc50960]\n",
       "link E7 to E3--><a href=\"psysml:52eea9f8-f20f-41d5-8944-6f19cdd988b1\" target=\"_top\" title=\"psysml:52eea9f8-f20f-41d5-8944-6f19cdd988b1\" xlink:actuate=\"onRequest\" xlink:href=\"psysml:52eea9f8-f20f-41d5-8944-6f19cdd988b1\" xlink:show=\"new\" xlink:title=\"psysml:52eea9f8-f20f-41d5-8944-6f19cdd988b1\" xlink:type=\"simple\"><path d=\"M108.21,114.76 C128.69,133.39 153.89,156.32 174.56,175.12 \" fill=\"none\" id=\"E7-&gt;E3\" style=\"stroke: #A80036; stroke-width: 1.0;\"/><polygon fill=\"#FFFFFF\" points=\"189.66,188.85,170.8968,181.238,180.3202,170.8842,189.66,188.85\" style=\"stroke: #A80036; stroke-width: 1.0;\"/><ellipse cx=\"168.0276\" cy=\"175.9222\" fill=\"#A80036\" rx=\"2\" ry=\"2\" style=\"stroke: #A80036; stroke-width: 1.0;\"/><ellipse cx=\"174.7586\" cy=\"168.5267\" fill=\"#A80036\" rx=\"2\" ry=\"2\" style=\"stroke: #A80036; stroke-width: 1.0;\"/></a><!--MD5=[dc164f5e8a733ab456ef1add180e9e34]\n",
       "reverse link E7 to E8--><a href=\"psysml:7dc24cb7-d6ba-40a4-b073-8d397bf1a7ae\" target=\"_top\" title=\"psysml:7dc24cb7-d6ba-40a4-b073-8d397bf1a7ae\" xlink:actuate=\"onRequest\" xlink:href=\"psysml:7dc24cb7-d6ba-40a4-b073-8d397bf1a7ae\" xlink:show=\"new\" xlink:title=\"psysml:7dc24cb7-d6ba-40a4-b073-8d397bf1a7ae\" xlink:type=\"simple\"><path d=\"M64.78,130.37 C62.59,163.79 62.11,208.43 70,247 C74.34,268.23 84.4,290.76 92.63,306.83 \" fill=\"none\" id=\"E7&lt;-E8\" style=\"stroke: #A80036; stroke-width: 1.0;\"/><polygon fill=\"#FFFFFF\" points=\"65.77,117.24,61.3326,122.9242,64.8728,129.2064,69.3102,123.5223,65.77,117.24\" style=\"stroke: #A80036; stroke-width: 1.0;\"/><text fill=\"#000000\" font-family=\"sans-serif\" font-size=\"13\" lengthAdjust=\"spacingAndGlyphs\" textLength=\"8\" x=\"80.4352\" y=\"296.0627\">1</text></a><!--MD5=[0a839d0f80c2d72d4b9b307f046d0de8]\n",
       "link E6 to E8--><a href=\"psysml:6785e7ae-ef30-46fa-a69d-d6daab2c7c15\" target=\"_top\" title=\"psysml:6785e7ae-ef30-46fa-a69d-d6daab2c7c15\" xlink:actuate=\"onRequest\" xlink:href=\"psysml:6785e7ae-ef30-46fa-a69d-d6daab2c7c15\" xlink:show=\"new\" xlink:title=\"psysml:6785e7ae-ef30-46fa-a69d-d6daab2c7c15\" xlink:type=\"simple\"><path d=\"M107.69,235.09 C101.52,255.73 97.3,286.38 97.78,306.99 \" fill=\"none\" id=\"E6-E8\" style=\"stroke: #A80036; stroke-width: 3.0;\"/><text fill=\"#000000\" font-family=\"sans-serif\" font-size=\"13\" lengthAdjust=\"spacingAndGlyphs\" textLength=\"7\" x=\"96.7803\" y=\"295.8836\">*</text></a><!--MD5=[0a839d0f80c2d72d4b9b307f046d0de8]\n",
       "link E6 to E8--><a href=\"psysml:868c8138-312d-42c2-8f4f-f83047efce23\" target=\"_top\" title=\"psysml:868c8138-312d-42c2-8f4f-f83047efce23\" xlink:actuate=\"onRequest\" xlink:href=\"psysml:868c8138-312d-42c2-8f4f-f83047efce23\" xlink:show=\"new\" xlink:title=\"psysml:868c8138-312d-42c2-8f4f-f83047efce23\" xlink:type=\"simple\"><path d=\"M128.82,235.09 C129.49,255.73 125.26,286.38 118.89,306.99 \" fill=\"none\" id=\"E6-E8-1\" style=\"stroke: #A80036; stroke-width: 3.0;\"/><text fill=\"#000000\" font-family=\"sans-serif\" font-size=\"13\" lengthAdjust=\"spacingAndGlyphs\" textLength=\"7\" x=\"114.6823\" y=\"295.8836\">*</text></a><!--MD5=[8a2b9c2ad9dd84e2ba3c0cee9912124e]\n",
       "@startuml\r\n",
       " \r\n",
       "package \"AliasTest\" as E1  [[psysml:02b7e9b9-6677-468f-8dad-8ced33a218a4 ]]  {\r\n",
       "comp usage \"b :> ISQSpaceTime::width\" as E2 << <<(U,orange) attribute>> [[psysml:c7feeda3-a834-41bb-a074-923ea0011430 ]] {\r\n",
       "}\r\n",
       "comp def \"P1\" as E3 << << (B,green) >> [[psysml:1a450028-471a-4a88-b6bb-254dda2007f7 ]] {\r\n",
       "- - ports - -\r\n",
       "porig1\r\n",
       "}\r\n",
       "comp usage \"porig1 \" as E4 << << (P,blue) port>> [[psysml:528ad082-e547-41e1-93e2-4f734da3b1f6 ]] {\r\n",
       "}\r\n",
       "comp usage \"p1: P1 \" as E5 << << (P,limegreen) part>> [[psysml:73838eb5-9ecb-4193-8391-1ddf76ff61b3 ]] {\r\n",
       "}\r\n",
       "comp usage \"po1 \" as E6 << << (P,blue) port>> [[psysml:6875339d-23d6-4973-8a77-102c2bf220f1 ]] {\r\n",
       "}\r\n",
       "comp usage \"p2: P1 \" as E7 << << (P,limegreen) part>> [[psysml:73d7b051-2240-4fe3-9278-fa0d634854f8 ]] {\r\n",
       "- - ports - -\r\n",
       "pdest\r\n",
       "}\r\n",
       "comp usage \"pdest \" as E8 << << (P,blue) port>> [[psysml:6cb98d60-0ab8-42f0-badc-3a033a17e212 ]] {\r\n",
       "}\r\n",
       "}\r\n",
       "E3 o- - \"1\"E4 [[psysml:b408bcfe-af80-429f-8bb7-74524c32282e ]] \r\n",
       "E5 - -:|> E3 [[psysml:de9d1539-3df1-480f-91a9-ed9f950b1f96 ]] \r\n",
       "E5 o- - \"1\"E6 [[psysml:1d973b34-aa26-4796-bb60-99a7b7743581 ]] \r\n",
       "E6 - -||> E4 [[psysml:73eeba8b-cad5-4501-9cd6-c52ba77489ee ]] \r\n",
       "E7 - -:|> E3 [[psysml:52eea9f8-f20f-41d5-8944-6f19cdd988b1 ]] \r\n",
       "E7 o- - \"1\"E8 [[psysml:7dc24cb7-d6ba-40a4-b073-8d397bf1a7ae ]] \r\n",
       "E6 -[thickness=3]- \"*\"E8 [[psysml:6785e7ae-ef30-46fa-a69d-d6daab2c7c15 ]] \r\n",
       "E6 -[thickness=3]- \"*\"E8 [[psysml:868c8138-312d-42c2-8f4f-f83047efce23 ]] \r\n",
       "@enduml\r\n",
       "\n",
       "PlantUML version 1.2020.13(Sat Jun 13 12:26:38 UTC 2020)\n",
       "(EPL source distribution)\n",
       "Java Runtime: OpenJDK Runtime Environment\n",
       "JVM: OpenJDK 64-Bit Server VM\n",
       "Default Encoding: UTF-8\n",
       "Language: en\n",
       "Country: null\n",
       "--></g></svg>"
      ]
     },
     "execution_count": 36,
     "metadata": {},
     "output_type": "execute_result"
    }
   ],
   "source": [
    "%viz --style=\"PLANTUML\" --view=\"MIXED\" \"AliasTest\""
   ]
  },
  {
   "cell_type": "code",
   "execution_count": 37,
   "id": "bab39f91",
   "metadata": {
    "execution": {
     "iopub.execute_input": "2022-08-19T08:20:50.334387Z",
     "iopub.status.busy": "2022-08-19T08:20:50.333934Z",
     "iopub.status.idle": "2022-08-19T08:20:50.398840Z",
     "shell.execute_reply": "2022-08-19T08:20:50.398434Z"
    }
   },
   "outputs": [
    {
     "data": {
      "image/svg+xml": [
       "<?xml version=\"1.0\" encoding=\"UTF-8\" standalone=\"no\"?><svg xmlns=\"http://www.w3.org/2000/svg\" xmlns:xlink=\"http://www.w3.org/1999/xlink\" contentScriptType=\"application/ecmascript\" contentStyleType=\"text/css\" height=\"387px\" preserveAspectRatio=\"none\" style=\"width:406px;height:387px;\" version=\"1.1\" viewBox=\"0 0 406 387\" width=\"406px\" zoomAndPan=\"magnify\"><defs/><g><!--MD5=[fbc87193dbaf4d95561dea2c320d4a47]\n",
       "cluster E1--><a href=\"psysml:02b7e9b9-6677-468f-8dad-8ced33a218a4\" target=\"_top\" title=\"psysml:02b7e9b9-6677-468f-8dad-8ced33a218a4\" xlink:actuate=\"onRequest\" xlink:href=\"psysml:02b7e9b9-6677-468f-8dad-8ced33a218a4\" xlink:show=\"new\" xlink:title=\"psysml:02b7e9b9-6677-468f-8dad-8ced33a218a4\" xlink:type=\"simple\"><polygon fill=\"#FFFFFF\" points=\"16,6,84,6,91,28.2969,384,28.2969,384,375,16,375,16,6\" style=\"stroke: #000000; stroke-width: 1.5;\"/><line style=\"stroke: #000000; stroke-width: 1.5;\" x1=\"16\" x2=\"91\" y1=\"28.2969\" y2=\"28.2969\"/><text fill=\"#000000\" font-family=\"sans-serif\" font-size=\"14\" font-weight=\"bold\" lengthAdjust=\"spacingAndGlyphs\" textLength=\"62\" x=\"20\" y=\"20.9951\">AliasTest</text></a><!--MD5=[b4997ac47864f28c2f74865a473b2911]\n",
       "class E2--><a href=\"psysml:c7feeda3-a834-41bb-a074-923ea0011430\" target=\"_top\" title=\"psysml:c7feeda3-a834-41bb-a074-923ea0011430\" xlink:actuate=\"onRequest\" xlink:href=\"psysml:c7feeda3-a834-41bb-a074-923ea0011430\" xlink:show=\"new\" xlink:title=\"psysml:c7feeda3-a834-41bb-a074-923ea0011430\" xlink:type=\"simple\"><rect fill=\"#FFFFFF\" height=\"45.9375\" id=\"E2\" rx=\"10\" ry=\"10\" style=\"stroke: #383838; stroke-width: 1.5;\" width=\"165\" x=\"202.5\" y=\"56\"/><text fill=\"#000000\" font-family=\"sans-serif\" font-size=\"12\" font-style=\"italic\" lengthAdjust=\"spacingAndGlyphs\" textLength=\"69\" x=\"250.5\" y=\"72.1387\">«attribute»</text><text fill=\"#000000\" font-family=\"sans-serif\" font-size=\"12\" lengthAdjust=\"spacingAndGlyphs\" textLength=\"159\" x=\"205.5\" y=\"86.1074\">b :&gt; ISQSpaceTime::width</text><line style=\"stroke: #383838; stroke-width: 1.5;\" x1=\"203.5\" x2=\"366.5\" y1=\"93.9375\" y2=\"93.9375\"/></a><!--MD5=[09b614a08d8cba4a07c9adeb5e0fee81]\n",
       "class E3--><a href=\"psysml:1a450028-471a-4a88-b6bb-254dda2007f7\" target=\"_top\" title=\"psysml:1a450028-471a-4a88-b6bb-254dda2007f7\" xlink:actuate=\"onRequest\" xlink:href=\"psysml:1a450028-471a-4a88-b6bb-254dda2007f7\" xlink:show=\"new\" xlink:title=\"psysml:1a450028-471a-4a88-b6bb-254dda2007f7\" xlink:type=\"simple\"><rect fill=\"#FFFFFF\" height=\"75.5469\" id=\"E3\" style=\"stroke: #383838; stroke-width: 1.5;\" width=\"70\" x=\"158\" y=\"177\"/><text fill=\"#000000\" font-family=\"sans-serif\" font-size=\"12\" font-style=\"italic\" lengthAdjust=\"spacingAndGlyphs\" textLength=\"68\" x=\"159\" y=\"193.1387\">«part  def»</text><text fill=\"#000000\" font-family=\"sans-serif\" font-size=\"12\" lengthAdjust=\"spacingAndGlyphs\" textLength=\"16\" x=\"185\" y=\"207.1074\">P1</text><line style=\"stroke: #383838; stroke-width: 1.5;\" x1=\"159\" x2=\"227\" y1=\"214.9375\" y2=\"214.9375\"/><text fill=\"#000000\" font-family=\"sans-serif\" font-size=\"11\" lengthAdjust=\"spacingAndGlyphs\" textLength=\"36\" x=\"164\" y=\"245.9526\">porig1</text><line style=\"stroke: #383838; stroke-width: 1.0;\" x1=\"159\" x2=\"178\" y1=\"229.3398\" y2=\"229.3398\"/><text fill=\"#000000\" font-family=\"sans-serif\" font-size=\"11\" lengthAdjust=\"spacingAndGlyphs\" textLength=\"30\" x=\"178\" y=\"232.6479\">ports</text><line style=\"stroke: #383838; stroke-width: 1.0;\" x1=\"208\" x2=\"227\" y1=\"229.3398\" y2=\"229.3398\"/></a><!--MD5=[ebbe1d658d1005bcc118a6aa81145e00]\n",
       "class E4--><a href=\"psysml:528ad082-e547-41e1-93e2-4f734da3b1f6\" target=\"_top\" title=\"psysml:528ad082-e547-41e1-93e2-4f734da3b1f6\" xlink:actuate=\"onRequest\" xlink:href=\"psysml:528ad082-e547-41e1-93e2-4f734da3b1f6\" xlink:show=\"new\" xlink:title=\"psysml:528ad082-e547-41e1-93e2-4f734da3b1f6\" xlink:type=\"simple\"><rect fill=\"#FFFFFF\" height=\"45.9375\" id=\"E4\" rx=\"10\" ry=\"10\" style=\"stroke: #383838; stroke-width: 1.5;\" width=\"50\" x=\"164\" y=\"313\"/><text fill=\"#000000\" font-family=\"sans-serif\" font-size=\"12\" font-style=\"italic\" lengthAdjust=\"spacingAndGlyphs\" textLength=\"40\" x=\"169\" y=\"329.1387\">«port»</text><text fill=\"#000000\" font-family=\"sans-serif\" font-size=\"12\" lengthAdjust=\"spacingAndGlyphs\" textLength=\"40\" x=\"167\" y=\"343.1074\">porig1</text><line style=\"stroke: #383838; stroke-width: 1.5;\" x1=\"165\" x2=\"213\" y1=\"350.9375\" y2=\"350.9375\"/></a><!--MD5=[270fce915f116d4de14055a7c1d9a0f3]\n",
       "class E5--><a href=\"psysml:73838eb5-9ecb-4193-8391-1ddf76ff61b3\" target=\"_top\" title=\"psysml:73838eb5-9ecb-4193-8391-1ddf76ff61b3\" xlink:actuate=\"onRequest\" xlink:href=\"psysml:73838eb5-9ecb-4193-8391-1ddf76ff61b3\" xlink:show=\"new\" xlink:title=\"psysml:73838eb5-9ecb-4193-8391-1ddf76ff61b3\" xlink:type=\"simple\"><rect fill=\"#FFFFFF\" height=\"45.9375\" id=\"E5\" rx=\"10\" ry=\"10\" style=\"stroke: #383838; stroke-width: 1.5;\" width=\"50\" x=\"117\" y=\"56\"/><text fill=\"#000000\" font-family=\"sans-serif\" font-size=\"12\" font-style=\"italic\" lengthAdjust=\"spacingAndGlyphs\" textLength=\"40\" x=\"122\" y=\"72.1387\">«part»</text><text fill=\"#000000\" font-family=\"sans-serif\" font-size=\"12\" lengthAdjust=\"spacingAndGlyphs\" textLength=\"40\" x=\"120\" y=\"86.1074\">p1: P1</text><line style=\"stroke: #383838; stroke-width: 1.5;\" x1=\"118\" x2=\"166\" y1=\"93.9375\" y2=\"93.9375\"/></a><!--MD5=[60a26617385b1d2d0262a64233df1f8d]\n",
       "class E6--><a href=\"psysml:6875339d-23d6-4973-8a77-102c2bf220f1\" target=\"_top\" title=\"psysml:6875339d-23d6-4973-8a77-102c2bf220f1\" xlink:actuate=\"onRequest\" xlink:href=\"psysml:6875339d-23d6-4973-8a77-102c2bf220f1\" xlink:show=\"new\" xlink:title=\"psysml:6875339d-23d6-4973-8a77-102c2bf220f1\" xlink:type=\"simple\"><rect fill=\"#FFFFFF\" height=\"45.9375\" id=\"E6\" rx=\"10\" ry=\"10\" style=\"stroke: #383838; stroke-width: 1.5;\" width=\"42\" x=\"81\" y=\"192\"/><text fill=\"#000000\" font-family=\"sans-serif\" font-size=\"12\" font-style=\"italic\" lengthAdjust=\"spacingAndGlyphs\" textLength=\"40\" x=\"82\" y=\"208.1387\">«port»</text><text fill=\"#000000\" font-family=\"sans-serif\" font-size=\"12\" lengthAdjust=\"spacingAndGlyphs\" textLength=\"24\" x=\"88\" y=\"222.1074\">po1</text><line style=\"stroke: #383838; stroke-width: 1.5;\" x1=\"82\" x2=\"122\" y1=\"229.9375\" y2=\"229.9375\"/></a><!--MD5=[2156ba9850f5573cc1fc38a6a4b2f02b]\n",
       "class E7--><a href=\"psysml:73d7b051-2240-4fe3-9278-fa0d634854f8\" target=\"_top\" title=\"psysml:73d7b051-2240-4fe3-9278-fa0d634854f8\" xlink:actuate=\"onRequest\" xlink:href=\"psysml:73d7b051-2240-4fe3-9278-fa0d634854f8\" xlink:show=\"new\" xlink:title=\"psysml:73d7b051-2240-4fe3-9278-fa0d634854f8\" xlink:type=\"simple\"><rect fill=\"#FFFFFF\" height=\"75.5469\" id=\"E7\" rx=\"10\" ry=\"10\" style=\"stroke: #383838; stroke-width: 1.5;\" width=\"50\" x=\"32\" y=\"41\"/><text fill=\"#000000\" font-family=\"sans-serif\" font-size=\"12\" font-style=\"italic\" lengthAdjust=\"spacingAndGlyphs\" textLength=\"40\" x=\"37\" y=\"57.1387\">«part»</text><text fill=\"#000000\" font-family=\"sans-serif\" font-size=\"12\" lengthAdjust=\"spacingAndGlyphs\" textLength=\"40\" x=\"35\" y=\"71.1074\">p2: P1</text><line style=\"stroke: #383838; stroke-width: 1.5;\" x1=\"33\" x2=\"81\" y1=\"78.9375\" y2=\"78.9375\"/><text fill=\"#000000\" font-family=\"sans-serif\" font-size=\"11\" lengthAdjust=\"spacingAndGlyphs\" textLength=\"32\" x=\"38\" y=\"109.9526\">pdest</text><line style=\"stroke: #383838; stroke-width: 1.0;\" x1=\"33\" x2=\"42\" y1=\"93.3398\" y2=\"93.3398\"/><text fill=\"#000000\" font-family=\"sans-serif\" font-size=\"11\" lengthAdjust=\"spacingAndGlyphs\" textLength=\"30\" x=\"42\" y=\"96.6479\">ports</text><line style=\"stroke: #383838; stroke-width: 1.0;\" x1=\"72\" x2=\"81\" y1=\"93.3398\" y2=\"93.3398\"/></a><!--MD5=[b9389687b975829384b498ac4b7476b2]\n",
       "class E8--><a href=\"psysml:6cb98d60-0ab8-42f0-badc-3a033a17e212\" target=\"_top\" title=\"psysml:6cb98d60-0ab8-42f0-badc-3a033a17e212\" xlink:actuate=\"onRequest\" xlink:href=\"psysml:6cb98d60-0ab8-42f0-badc-3a033a17e212\" xlink:show=\"new\" xlink:title=\"psysml:6cb98d60-0ab8-42f0-badc-3a033a17e212\" xlink:type=\"simple\"><rect fill=\"#FFFFFF\" height=\"45.9375\" id=\"E8\" rx=\"10\" ry=\"10\" style=\"stroke: #383838; stroke-width: 1.5;\" width=\"46\" x=\"79\" y=\"313\"/><text fill=\"#000000\" font-family=\"sans-serif\" font-size=\"12\" font-style=\"italic\" lengthAdjust=\"spacingAndGlyphs\" textLength=\"40\" x=\"82\" y=\"329.1387\">«port»</text><text fill=\"#000000\" font-family=\"sans-serif\" font-size=\"12\" lengthAdjust=\"spacingAndGlyphs\" textLength=\"36\" x=\"82\" y=\"343.1074\">pdest</text><line style=\"stroke: #383838; stroke-width: 1.5;\" x1=\"80\" x2=\"124\" y1=\"350.9375\" y2=\"350.9375\"/></a><!--MD5=[4672eba38e49728da53d11aeb285b987]\n",
       "reverse link E3 to E4--><a href=\"psysml:b408bcfe-af80-429f-8bb7-74524c32282e\" target=\"_top\" title=\"psysml:b408bcfe-af80-429f-8bb7-74524c32282e\" xlink:actuate=\"onRequest\" xlink:href=\"psysml:b408bcfe-af80-429f-8bb7-74524c32282e\" xlink:show=\"new\" xlink:title=\"psysml:b408bcfe-af80-429f-8bb7-74524c32282e\" xlink:type=\"simple\"><path d=\"M191.31,266.34 C190.76,282.61 190.18,299.81 189.74,312.93 \" fill=\"none\" id=\"E3&lt;-E4\" style=\"stroke: #383838; stroke-width: 1.0;\"/><polygon fill=\"#FFFFFF\" points=\"191.76,253,187.558,258.8603,191.3514,264.993,195.5534,259.1327,191.76,253\" style=\"stroke: #383838; stroke-width: 1.0;\"/><text fill=\"#000000\" font-family=\"sans-serif\" font-size=\"13\" lengthAdjust=\"spacingAndGlyphs\" textLength=\"8\" x=\"180.8639\" y=\"301.8075\">1</text></a><!--MD5=[e9be52314489bd878ff4c7144b63c9e1]\n",
       "link E5 to E3--><a href=\"psysml:de9d1539-3df1-480f-91a9-ed9f950b1f96\" target=\"_top\" title=\"psysml:de9d1539-3df1-480f-91a9-ed9f950b1f96\" xlink:actuate=\"onRequest\" xlink:href=\"psysml:de9d1539-3df1-480f-91a9-ed9f950b1f96\" xlink:show=\"new\" xlink:title=\"psysml:de9d1539-3df1-480f-91a9-ed9f950b1f96\" xlink:type=\"simple\"><path d=\"M150.42,102.13 C156.21,117.35 164.18,138.29 171.66,157.93 \" fill=\"none\" id=\"E5-&gt;E3\" style=\"stroke: #383838; stroke-width: 1.0;\"/><polygon fill=\"#FFFFFF\" points=\"178.88,176.89,165.5815,161.6208,178.6665,156.6427,178.88,176.89\" style=\"stroke: #383838; stroke-width: 1.0;\"/><ellipse cx=\"165.424\" cy=\"155.5821\" fill=\"#383838\" rx=\"2\" ry=\"2\" style=\"stroke: #383838; stroke-width: 1.0;\"/><ellipse cx=\"174.7704\" cy=\"152.0263\" fill=\"#383838\" rx=\"2\" ry=\"2\" style=\"stroke: #383838; stroke-width: 1.0;\"/></a><!--MD5=[85d356282659285ab4b2cfe2f634dd2b]\n",
       "reverse link E5 to E6--><a href=\"psysml:1d973b34-aa26-4796-bb60-99a7b7743581\" target=\"_top\" title=\"psysml:1d973b34-aa26-4796-bb60-99a7b7743581\" xlink:actuate=\"onRequest\" xlink:href=\"psysml:1d973b34-aa26-4796-bb60-99a7b7743581\" xlink:show=\"new\" xlink:title=\"psysml:1d973b34-aa26-4796-bb60-99a7b7743581\" xlink:type=\"simple\"><path d=\"M131.62,114.76 C124.36,139.1 114.87,170.88 108.61,191.84 \" fill=\"none\" id=\"E5&lt;-E6\" style=\"stroke: #383838; stroke-width: 1.0;\"/><polygon fill=\"#FFFFFF\" points=\"135.39,102.13,129.8375,106.7311,131.9491,113.6261,137.5016,109.025,135.39,102.13\" style=\"stroke: #383838; stroke-width: 1.0;\"/><text fill=\"#000000\" font-family=\"sans-serif\" font-size=\"13\" lengthAdjust=\"spacingAndGlyphs\" textLength=\"8\" x=\"101.2788\" y=\"181.0753\">1</text></a><!--MD5=[f667431f98296947986a1a7595a31603]\n",
       "link E6 to E4--><a href=\"psysml:73eeba8b-cad5-4501-9cd6-c52ba77489ee\" target=\"_top\" title=\"psysml:73eeba8b-cad5-4501-9cd6-c52ba77489ee\" xlink:actuate=\"onRequest\" xlink:href=\"psysml:73eeba8b-cad5-4501-9cd6-c52ba77489ee\" xlink:show=\"new\" xlink:title=\"psysml:73eeba8b-cad5-4501-9cd6-c52ba77489ee\" xlink:type=\"simple\"><path d=\"M118.16,238.1 C130.11,254.45 146.69,277.12 160.8,296.43 \" fill=\"none\" id=\"E6-&gt;E4\" style=\"stroke: #383838; stroke-width: 1.0;\"/><polygon fill=\"#FFFFFF\" points=\"172.63,312.61,155.76,301.4117,167.0576,293.1434,172.63,312.61\" style=\"stroke: #383838; stroke-width: 1.0;\"/><line style=\"stroke: #383838; stroke-width: 2.0;\" x1=\"153.5158\" x2=\"164.8134\" y1=\"298.3452\" y2=\"290.0769\"/></a><!--MD5=[14ccda38c055a5c0da953d572bc50960]\n",
       "link E7 to E3--><a href=\"psysml:52eea9f8-f20f-41d5-8944-6f19cdd988b1\" target=\"_top\" title=\"psysml:52eea9f8-f20f-41d5-8944-6f19cdd988b1\" xlink:actuate=\"onRequest\" xlink:href=\"psysml:52eea9f8-f20f-41d5-8944-6f19cdd988b1\" xlink:show=\"new\" xlink:title=\"psysml:52eea9f8-f20f-41d5-8944-6f19cdd988b1\" xlink:type=\"simple\"><path d=\"M82.26,104.89 C99.38,121.76 122.59,144.62 143.33,165.06 \" fill=\"none\" id=\"E7-&gt;E3\" style=\"stroke: #383838; stroke-width: 1.0;\"/><polygon fill=\"#FFFFFF\" points=\"157.88,179.39,139.4314,171.0443,149.2556,161.0701,157.88,179.39\" style=\"stroke: #383838; stroke-width: 1.0;\"/><ellipse cx=\"136.774\" cy=\"165.6196\" fill=\"#383838\" rx=\"2\" ry=\"2\" style=\"stroke: #383838; stroke-width: 1.0;\"/><ellipse cx=\"143.7912\" cy=\"158.4951\" fill=\"#383838\" rx=\"2\" ry=\"2\" style=\"stroke: #383838; stroke-width: 1.0;\"/></a><!--MD5=[dc164f5e8a733ab456ef1add180e9e34]\n",
       "reverse link E7 to E8--><a href=\"psysml:7dc24cb7-d6ba-40a4-b073-8d397bf1a7ae\" target=\"_top\" title=\"psysml:7dc24cb7-d6ba-40a4-b073-8d397bf1a7ae\" xlink:actuate=\"onRequest\" xlink:href=\"psysml:7dc24cb7-d6ba-40a4-b073-8d397bf1a7ae\" xlink:show=\"new\" xlink:title=\"psysml:7dc24cb7-d6ba-40a4-b073-8d397bf1a7ae\" xlink:type=\"simple\"><path d=\"M53.89,130.23 C52.97,165.15 54.21,212.5 64,253 C69.16,274.35 80.04,296.87 88.84,312.9 \" fill=\"none\" id=\"E7&lt;-E8\" style=\"stroke: #383838; stroke-width: 1.0;\"/><polygon fill=\"#FFFFFF\" points=\"54.36,117.03,50.1514,122.8856,53.9378,129.0226,58.1464,123.167,54.36,117.03\" style=\"stroke: #383838; stroke-width: 1.0;\"/><text fill=\"#000000\" font-family=\"sans-serif\" font-size=\"13\" lengthAdjust=\"spacingAndGlyphs\" textLength=\"8\" x=\"86.3783\" y=\"301.7694\">1</text></a><!--MD5=[0a839d0f80c2d72d4b9b307f046d0de8]\n",
       "link E6 to E8--><a href=\"psysml:6785e7ae-ef30-46fa-a69d-d6daab2c7c15\" target=\"_top\" title=\"psysml:6785e7ae-ef30-46fa-a69d-d6daab2c7c15\" xlink:actuate=\"onRequest\" xlink:href=\"psysml:6785e7ae-ef30-46fa-a69d-d6daab2c7c15\" xlink:show=\"new\" xlink:title=\"psysml:6785e7ae-ef30-46fa-a69d-d6daab2c7c15\" xlink:type=\"simple\"><path d=\"M91.82,238.1 C88.41,259.34 88.39,291.28 91.78,312.61 \" fill=\"none\" id=\"E6-E8\" style=\"stroke: #383838; stroke-width: 3.0;\"/><text fill=\"#000000\" font-family=\"sans-serif\" font-size=\"13\" lengthAdjust=\"spacingAndGlyphs\" textLength=\"7\" x=\"81.2643\" y=\"301.7864\">*</text></a><!--MD5=[0a839d0f80c2d72d4b9b307f046d0de8]\n",
       "link E6 to E8--><a href=\"psysml:868c8138-312d-42c2-8f4f-f83047efce23\" target=\"_top\" title=\"psysml:868c8138-312d-42c2-8f4f-f83047efce23\" xlink:actuate=\"onRequest\" xlink:href=\"psysml:868c8138-312d-42c2-8f4f-f83047efce23\" xlink:show=\"new\" xlink:title=\"psysml:868c8138-312d-42c2-8f4f-f83047efce23\" xlink:type=\"simple\"><path d=\"M112.78,238.1 C116.39,259.34 116.41,291.28 112.82,312.61 \" fill=\"none\" id=\"E6-E8-1\" style=\"stroke: #383838; stroke-width: 3.0;\"/><text fill=\"#000000\" font-family=\"sans-serif\" font-size=\"13\" lengthAdjust=\"spacingAndGlyphs\" textLength=\"7\" x=\"107.6957\" y=\"301.7864\">*</text></a><!--MD5=[f1acc1ce242618bf8e4812bba2b04690]\n",
       "@startuml\r\n",
       "skinparam monochrome true\r\n",
       "skinparam classbackgroundcolor white\r\n",
       "skinparam shadowing false\r\n",
       "skinparam wrapWidth 300\r\n",
       "hide circle\r\n",
       "\r\n",
       "package \"AliasTest\" as E1  [[psysml:02b7e9b9-6677-468f-8dad-8ced33a218a4 ]]  {\r\n",
       "comp usage \"b :> ISQSpaceTime::width\" as E2  <<(T,blue) attribute>> [[psysml:c7feeda3-a834-41bb-a074-923ea0011430 ]] {\r\n",
       "}\r\n",
       "comp def \"P1\" as E3  <<(T,blue) part  def>> [[psysml:1a450028-471a-4a88-b6bb-254dda2007f7 ]] {\r\n",
       "- - ports - -\r\n",
       "porig1\r\n",
       "}\r\n",
       "comp usage \"porig1 \" as E4  <<(T,blue) port>> [[psysml:528ad082-e547-41e1-93e2-4f734da3b1f6 ]] {\r\n",
       "}\r\n",
       "comp usage \"p1: P1 \" as E5  <<(T,blue) part>> [[psysml:73838eb5-9ecb-4193-8391-1ddf76ff61b3 ]] {\r\n",
       "}\r\n",
       "comp usage \"po1 \" as E6  <<(T,blue) port>> [[psysml:6875339d-23d6-4973-8a77-102c2bf220f1 ]] {\r\n",
       "}\r\n",
       "comp usage \"p2: P1 \" as E7  <<(T,blue) part>> [[psysml:73d7b051-2240-4fe3-9278-fa0d634854f8 ]] {\r\n",
       "- - ports - -\r\n",
       "pdest\r\n",
       "}\r\n",
       "comp usage \"pdest \" as E8  <<(T,blue) port>> [[psysml:6cb98d60-0ab8-42f0-badc-3a033a17e212 ]] {\r\n",
       "}\r\n",
       "}\r\n",
       "E3 o- - \"1\"E4 [[psysml:b408bcfe-af80-429f-8bb7-74524c32282e ]] \r\n",
       "E5 - -:|> E3 [[psysml:de9d1539-3df1-480f-91a9-ed9f950b1f96 ]] \r\n",
       "E5 o- - \"1\"E6 [[psysml:1d973b34-aa26-4796-bb60-99a7b7743581 ]] \r\n",
       "E6 - -||> E4 [[psysml:73eeba8b-cad5-4501-9cd6-c52ba77489ee ]] \r\n",
       "E7 - -:|> E3 [[psysml:52eea9f8-f20f-41d5-8944-6f19cdd988b1 ]] \r\n",
       "E7 o- - \"1\"E8 [[psysml:7dc24cb7-d6ba-40a4-b073-8d397bf1a7ae ]] \r\n",
       "E6 -[thickness=3]- \"*\"E8 [[psysml:6785e7ae-ef30-46fa-a69d-d6daab2c7c15 ]] \r\n",
       "E6 -[thickness=3]- \"*\"E8 [[psysml:868c8138-312d-42c2-8f4f-f83047efce23 ]] \r\n",
       "@enduml\r\n",
       "\n",
       "PlantUML version 1.2020.13(Sat Jun 13 12:26:38 UTC 2020)\n",
       "(EPL source distribution)\n",
       "Java Runtime: OpenJDK Runtime Environment\n",
       "JVM: OpenJDK 64-Bit Server VM\n",
       "Default Encoding: UTF-8\n",
       "Language: en\n",
       "Country: null\n",
       "--></g></svg>"
      ]
     },
     "execution_count": 37,
     "metadata": {},
     "output_type": "execute_result"
    }
   ],
   "source": [
    "%viz --style=\"DEFAULT\" --view=\"Default\" \"AliasTest\""
   ]
  },
  {
   "cell_type": "code",
   "execution_count": 38,
   "id": "04a81c8b",
   "metadata": {
    "execution": {
     "iopub.execute_input": "2022-08-19T08:20:50.448474Z",
     "iopub.status.busy": "2022-08-19T08:20:50.448024Z",
     "iopub.status.idle": "2022-08-19T08:20:50.510862Z",
     "shell.execute_reply": "2022-08-19T08:20:50.510481Z"
    }
   },
   "outputs": [
    {
     "data": {
      "image/svg+xml": [
       "<?xml version=\"1.0\" encoding=\"UTF-8\" standalone=\"no\"?><svg xmlns=\"http://www.w3.org/2000/svg\" xmlns:xlink=\"http://www.w3.org/1999/xlink\" contentScriptType=\"application/ecmascript\" contentStyleType=\"text/css\" height=\"387px\" preserveAspectRatio=\"none\" style=\"width:406px;height:387px;\" version=\"1.1\" viewBox=\"0 0 406 387\" width=\"406px\" zoomAndPan=\"magnify\"><defs/><g><!--MD5=[fbc87193dbaf4d95561dea2c320d4a47]\n",
       "cluster E1--><a href=\"psysml:02b7e9b9-6677-468f-8dad-8ced33a218a4\" target=\"_top\" title=\"psysml:02b7e9b9-6677-468f-8dad-8ced33a218a4\" xlink:actuate=\"onRequest\" xlink:href=\"psysml:02b7e9b9-6677-468f-8dad-8ced33a218a4\" xlink:show=\"new\" xlink:title=\"psysml:02b7e9b9-6677-468f-8dad-8ced33a218a4\" xlink:type=\"simple\"><polygon fill=\"#FFFFFF\" points=\"16,6,84,6,91,28.2969,384,28.2969,384,375,16,375,16,6\" style=\"stroke: #000000; stroke-width: 1.5;\"/><line style=\"stroke: #000000; stroke-width: 1.5;\" x1=\"16\" x2=\"91\" y1=\"28.2969\" y2=\"28.2969\"/><text fill=\"#000000\" font-family=\"sans-serif\" font-size=\"14\" font-weight=\"bold\" lengthAdjust=\"spacingAndGlyphs\" textLength=\"62\" x=\"20\" y=\"20.9951\">AliasTest</text></a><!--MD5=[b4997ac47864f28c2f74865a473b2911]\n",
       "class E2--><a href=\"psysml:c7feeda3-a834-41bb-a074-923ea0011430\" target=\"_top\" title=\"psysml:c7feeda3-a834-41bb-a074-923ea0011430\" xlink:actuate=\"onRequest\" xlink:href=\"psysml:c7feeda3-a834-41bb-a074-923ea0011430\" xlink:show=\"new\" xlink:title=\"psysml:c7feeda3-a834-41bb-a074-923ea0011430\" xlink:type=\"simple\"><rect fill=\"#FFFFFF\" height=\"45.9375\" id=\"E2\" rx=\"10\" ry=\"10\" style=\"stroke: #383838; stroke-width: 1.5;\" width=\"165\" x=\"202.5\" y=\"56\"/><text fill=\"#000000\" font-family=\"sans-serif\" font-size=\"12\" font-style=\"italic\" lengthAdjust=\"spacingAndGlyphs\" textLength=\"69\" x=\"250.5\" y=\"72.1387\">«attribute»</text><text fill=\"#000000\" font-family=\"sans-serif\" font-size=\"12\" lengthAdjust=\"spacingAndGlyphs\" textLength=\"159\" x=\"205.5\" y=\"86.1074\">b :&gt; ISQSpaceTime::width</text><line style=\"stroke: #383838; stroke-width: 1.5;\" x1=\"203.5\" x2=\"366.5\" y1=\"93.9375\" y2=\"93.9375\"/></a><!--MD5=[09b614a08d8cba4a07c9adeb5e0fee81]\n",
       "class E3--><a href=\"psysml:1a450028-471a-4a88-b6bb-254dda2007f7\" target=\"_top\" title=\"psysml:1a450028-471a-4a88-b6bb-254dda2007f7\" xlink:actuate=\"onRequest\" xlink:href=\"psysml:1a450028-471a-4a88-b6bb-254dda2007f7\" xlink:show=\"new\" xlink:title=\"psysml:1a450028-471a-4a88-b6bb-254dda2007f7\" xlink:type=\"simple\"><rect fill=\"#FFFFFF\" height=\"75.5469\" id=\"E3\" style=\"stroke: #383838; stroke-width: 1.5;\" width=\"70\" x=\"158\" y=\"177\"/><text fill=\"#000000\" font-family=\"sans-serif\" font-size=\"12\" font-style=\"italic\" lengthAdjust=\"spacingAndGlyphs\" textLength=\"68\" x=\"159\" y=\"193.1387\">«part  def»</text><text fill=\"#000000\" font-family=\"sans-serif\" font-size=\"12\" lengthAdjust=\"spacingAndGlyphs\" textLength=\"16\" x=\"185\" y=\"207.1074\">P1</text><line style=\"stroke: #383838; stroke-width: 1.5;\" x1=\"159\" x2=\"227\" y1=\"214.9375\" y2=\"214.9375\"/><text fill=\"#000000\" font-family=\"sans-serif\" font-size=\"11\" lengthAdjust=\"spacingAndGlyphs\" textLength=\"36\" x=\"164\" y=\"245.9526\">porig1</text><line style=\"stroke: #383838; stroke-width: 1.0;\" x1=\"159\" x2=\"178\" y1=\"229.3398\" y2=\"229.3398\"/><text fill=\"#000000\" font-family=\"sans-serif\" font-size=\"11\" lengthAdjust=\"spacingAndGlyphs\" textLength=\"30\" x=\"178\" y=\"232.6479\">ports</text><line style=\"stroke: #383838; stroke-width: 1.0;\" x1=\"208\" x2=\"227\" y1=\"229.3398\" y2=\"229.3398\"/></a><!--MD5=[ebbe1d658d1005bcc118a6aa81145e00]\n",
       "class E4--><a href=\"psysml:528ad082-e547-41e1-93e2-4f734da3b1f6\" target=\"_top\" title=\"psysml:528ad082-e547-41e1-93e2-4f734da3b1f6\" xlink:actuate=\"onRequest\" xlink:href=\"psysml:528ad082-e547-41e1-93e2-4f734da3b1f6\" xlink:show=\"new\" xlink:title=\"psysml:528ad082-e547-41e1-93e2-4f734da3b1f6\" xlink:type=\"simple\"><rect fill=\"#FFFFFF\" height=\"45.9375\" id=\"E4\" rx=\"10\" ry=\"10\" style=\"stroke: #383838; stroke-width: 1.5;\" width=\"50\" x=\"164\" y=\"313\"/><text fill=\"#000000\" font-family=\"sans-serif\" font-size=\"12\" font-style=\"italic\" lengthAdjust=\"spacingAndGlyphs\" textLength=\"40\" x=\"169\" y=\"329.1387\">«port»</text><text fill=\"#000000\" font-family=\"sans-serif\" font-size=\"12\" lengthAdjust=\"spacingAndGlyphs\" textLength=\"40\" x=\"167\" y=\"343.1074\">porig1</text><line style=\"stroke: #383838; stroke-width: 1.5;\" x1=\"165\" x2=\"213\" y1=\"350.9375\" y2=\"350.9375\"/></a><!--MD5=[270fce915f116d4de14055a7c1d9a0f3]\n",
       "class E5--><a href=\"psysml:73838eb5-9ecb-4193-8391-1ddf76ff61b3\" target=\"_top\" title=\"psysml:73838eb5-9ecb-4193-8391-1ddf76ff61b3\" xlink:actuate=\"onRequest\" xlink:href=\"psysml:73838eb5-9ecb-4193-8391-1ddf76ff61b3\" xlink:show=\"new\" xlink:title=\"psysml:73838eb5-9ecb-4193-8391-1ddf76ff61b3\" xlink:type=\"simple\"><rect fill=\"#FFFFFF\" height=\"45.9375\" id=\"E5\" rx=\"10\" ry=\"10\" style=\"stroke: #383838; stroke-width: 1.5;\" width=\"50\" x=\"117\" y=\"56\"/><text fill=\"#000000\" font-family=\"sans-serif\" font-size=\"12\" font-style=\"italic\" lengthAdjust=\"spacingAndGlyphs\" textLength=\"40\" x=\"122\" y=\"72.1387\">«part»</text><text fill=\"#000000\" font-family=\"sans-serif\" font-size=\"12\" lengthAdjust=\"spacingAndGlyphs\" textLength=\"40\" x=\"120\" y=\"86.1074\">p1: P1</text><line style=\"stroke: #383838; stroke-width: 1.5;\" x1=\"118\" x2=\"166\" y1=\"93.9375\" y2=\"93.9375\"/></a><!--MD5=[60a26617385b1d2d0262a64233df1f8d]\n",
       "class E6--><a href=\"psysml:6875339d-23d6-4973-8a77-102c2bf220f1\" target=\"_top\" title=\"psysml:6875339d-23d6-4973-8a77-102c2bf220f1\" xlink:actuate=\"onRequest\" xlink:href=\"psysml:6875339d-23d6-4973-8a77-102c2bf220f1\" xlink:show=\"new\" xlink:title=\"psysml:6875339d-23d6-4973-8a77-102c2bf220f1\" xlink:type=\"simple\"><rect fill=\"#FFFFFF\" height=\"45.9375\" id=\"E6\" rx=\"10\" ry=\"10\" style=\"stroke: #383838; stroke-width: 1.5;\" width=\"42\" x=\"81\" y=\"192\"/><text fill=\"#000000\" font-family=\"sans-serif\" font-size=\"12\" font-style=\"italic\" lengthAdjust=\"spacingAndGlyphs\" textLength=\"40\" x=\"82\" y=\"208.1387\">«port»</text><text fill=\"#000000\" font-family=\"sans-serif\" font-size=\"12\" lengthAdjust=\"spacingAndGlyphs\" textLength=\"24\" x=\"88\" y=\"222.1074\">po1</text><line style=\"stroke: #383838; stroke-width: 1.5;\" x1=\"82\" x2=\"122\" y1=\"229.9375\" y2=\"229.9375\"/></a><!--MD5=[2156ba9850f5573cc1fc38a6a4b2f02b]\n",
       "class E7--><a href=\"psysml:73d7b051-2240-4fe3-9278-fa0d634854f8\" target=\"_top\" title=\"psysml:73d7b051-2240-4fe3-9278-fa0d634854f8\" xlink:actuate=\"onRequest\" xlink:href=\"psysml:73d7b051-2240-4fe3-9278-fa0d634854f8\" xlink:show=\"new\" xlink:title=\"psysml:73d7b051-2240-4fe3-9278-fa0d634854f8\" xlink:type=\"simple\"><rect fill=\"#FFFFFF\" height=\"75.5469\" id=\"E7\" rx=\"10\" ry=\"10\" style=\"stroke: #383838; stroke-width: 1.5;\" width=\"50\" x=\"32\" y=\"41\"/><text fill=\"#000000\" font-family=\"sans-serif\" font-size=\"12\" font-style=\"italic\" lengthAdjust=\"spacingAndGlyphs\" textLength=\"40\" x=\"37\" y=\"57.1387\">«part»</text><text fill=\"#000000\" font-family=\"sans-serif\" font-size=\"12\" lengthAdjust=\"spacingAndGlyphs\" textLength=\"40\" x=\"35\" y=\"71.1074\">p2: P1</text><line style=\"stroke: #383838; stroke-width: 1.5;\" x1=\"33\" x2=\"81\" y1=\"78.9375\" y2=\"78.9375\"/><text fill=\"#000000\" font-family=\"sans-serif\" font-size=\"11\" lengthAdjust=\"spacingAndGlyphs\" textLength=\"32\" x=\"38\" y=\"109.9526\">pdest</text><line style=\"stroke: #383838; stroke-width: 1.0;\" x1=\"33\" x2=\"42\" y1=\"93.3398\" y2=\"93.3398\"/><text fill=\"#000000\" font-family=\"sans-serif\" font-size=\"11\" lengthAdjust=\"spacingAndGlyphs\" textLength=\"30\" x=\"42\" y=\"96.6479\">ports</text><line style=\"stroke: #383838; stroke-width: 1.0;\" x1=\"72\" x2=\"81\" y1=\"93.3398\" y2=\"93.3398\"/></a><!--MD5=[b9389687b975829384b498ac4b7476b2]\n",
       "class E8--><a href=\"psysml:6cb98d60-0ab8-42f0-badc-3a033a17e212\" target=\"_top\" title=\"psysml:6cb98d60-0ab8-42f0-badc-3a033a17e212\" xlink:actuate=\"onRequest\" xlink:href=\"psysml:6cb98d60-0ab8-42f0-badc-3a033a17e212\" xlink:show=\"new\" xlink:title=\"psysml:6cb98d60-0ab8-42f0-badc-3a033a17e212\" xlink:type=\"simple\"><rect fill=\"#FFFFFF\" height=\"45.9375\" id=\"E8\" rx=\"10\" ry=\"10\" style=\"stroke: #383838; stroke-width: 1.5;\" width=\"46\" x=\"79\" y=\"313\"/><text fill=\"#000000\" font-family=\"sans-serif\" font-size=\"12\" font-style=\"italic\" lengthAdjust=\"spacingAndGlyphs\" textLength=\"40\" x=\"82\" y=\"329.1387\">«port»</text><text fill=\"#000000\" font-family=\"sans-serif\" font-size=\"12\" lengthAdjust=\"spacingAndGlyphs\" textLength=\"36\" x=\"82\" y=\"343.1074\">pdest</text><line style=\"stroke: #383838; stroke-width: 1.5;\" x1=\"80\" x2=\"124\" y1=\"350.9375\" y2=\"350.9375\"/></a><!--MD5=[4672eba38e49728da53d11aeb285b987]\n",
       "reverse link E3 to E4--><a href=\"psysml:b408bcfe-af80-429f-8bb7-74524c32282e\" target=\"_top\" title=\"psysml:b408bcfe-af80-429f-8bb7-74524c32282e\" xlink:actuate=\"onRequest\" xlink:href=\"psysml:b408bcfe-af80-429f-8bb7-74524c32282e\" xlink:show=\"new\" xlink:title=\"psysml:b408bcfe-af80-429f-8bb7-74524c32282e\" xlink:type=\"simple\"><path d=\"M191.31,266.34 C190.76,282.61 190.18,299.81 189.74,312.93 \" fill=\"none\" id=\"E3&lt;-E4\" style=\"stroke: #383838; stroke-width: 1.0;\"/><polygon fill=\"#FFFFFF\" points=\"191.76,253,187.558,258.8603,191.3514,264.993,195.5534,259.1327,191.76,253\" style=\"stroke: #383838; stroke-width: 1.0;\"/><text fill=\"#000000\" font-family=\"sans-serif\" font-size=\"13\" lengthAdjust=\"spacingAndGlyphs\" textLength=\"8\" x=\"180.8639\" y=\"301.8075\">1</text></a><!--MD5=[e9be52314489bd878ff4c7144b63c9e1]\n",
       "link E5 to E3--><a href=\"psysml:de9d1539-3df1-480f-91a9-ed9f950b1f96\" target=\"_top\" title=\"psysml:de9d1539-3df1-480f-91a9-ed9f950b1f96\" xlink:actuate=\"onRequest\" xlink:href=\"psysml:de9d1539-3df1-480f-91a9-ed9f950b1f96\" xlink:show=\"new\" xlink:title=\"psysml:de9d1539-3df1-480f-91a9-ed9f950b1f96\" xlink:type=\"simple\"><path d=\"M150.42,102.13 C156.21,117.35 164.18,138.29 171.66,157.93 \" fill=\"none\" id=\"E5-&gt;E3\" style=\"stroke: #383838; stroke-width: 1.0;\"/><polygon fill=\"#FFFFFF\" points=\"178.88,176.89,165.5815,161.6208,178.6665,156.6427,178.88,176.89\" style=\"stroke: #383838; stroke-width: 1.0;\"/><ellipse cx=\"165.424\" cy=\"155.5821\" fill=\"#383838\" rx=\"2\" ry=\"2\" style=\"stroke: #383838; stroke-width: 1.0;\"/><ellipse cx=\"174.7704\" cy=\"152.0263\" fill=\"#383838\" rx=\"2\" ry=\"2\" style=\"stroke: #383838; stroke-width: 1.0;\"/></a><!--MD5=[85d356282659285ab4b2cfe2f634dd2b]\n",
       "reverse link E5 to E6--><a href=\"psysml:1d973b34-aa26-4796-bb60-99a7b7743581\" target=\"_top\" title=\"psysml:1d973b34-aa26-4796-bb60-99a7b7743581\" xlink:actuate=\"onRequest\" xlink:href=\"psysml:1d973b34-aa26-4796-bb60-99a7b7743581\" xlink:show=\"new\" xlink:title=\"psysml:1d973b34-aa26-4796-bb60-99a7b7743581\" xlink:type=\"simple\"><path d=\"M131.62,114.76 C124.36,139.1 114.87,170.88 108.61,191.84 \" fill=\"none\" id=\"E5&lt;-E6\" style=\"stroke: #383838; stroke-width: 1.0;\"/><polygon fill=\"#FFFFFF\" points=\"135.39,102.13,129.8375,106.7311,131.9491,113.6261,137.5016,109.025,135.39,102.13\" style=\"stroke: #383838; stroke-width: 1.0;\"/><text fill=\"#000000\" font-family=\"sans-serif\" font-size=\"13\" lengthAdjust=\"spacingAndGlyphs\" textLength=\"8\" x=\"101.2788\" y=\"181.0753\">1</text></a><!--MD5=[f667431f98296947986a1a7595a31603]\n",
       "link E6 to E4--><a href=\"psysml:73eeba8b-cad5-4501-9cd6-c52ba77489ee\" target=\"_top\" title=\"psysml:73eeba8b-cad5-4501-9cd6-c52ba77489ee\" xlink:actuate=\"onRequest\" xlink:href=\"psysml:73eeba8b-cad5-4501-9cd6-c52ba77489ee\" xlink:show=\"new\" xlink:title=\"psysml:73eeba8b-cad5-4501-9cd6-c52ba77489ee\" xlink:type=\"simple\"><path d=\"M118.16,238.1 C130.11,254.45 146.69,277.12 160.8,296.43 \" fill=\"none\" id=\"E6-&gt;E4\" style=\"stroke: #383838; stroke-width: 1.0;\"/><polygon fill=\"#FFFFFF\" points=\"172.63,312.61,155.76,301.4117,167.0576,293.1434,172.63,312.61\" style=\"stroke: #383838; stroke-width: 1.0;\"/><line style=\"stroke: #383838; stroke-width: 2.0;\" x1=\"153.5158\" x2=\"164.8134\" y1=\"298.3452\" y2=\"290.0769\"/></a><!--MD5=[14ccda38c055a5c0da953d572bc50960]\n",
       "link E7 to E3--><a href=\"psysml:52eea9f8-f20f-41d5-8944-6f19cdd988b1\" target=\"_top\" title=\"psysml:52eea9f8-f20f-41d5-8944-6f19cdd988b1\" xlink:actuate=\"onRequest\" xlink:href=\"psysml:52eea9f8-f20f-41d5-8944-6f19cdd988b1\" xlink:show=\"new\" xlink:title=\"psysml:52eea9f8-f20f-41d5-8944-6f19cdd988b1\" xlink:type=\"simple\"><path d=\"M82.26,104.89 C99.38,121.76 122.59,144.62 143.33,165.06 \" fill=\"none\" id=\"E7-&gt;E3\" style=\"stroke: #383838; stroke-width: 1.0;\"/><polygon fill=\"#FFFFFF\" points=\"157.88,179.39,139.4314,171.0443,149.2556,161.0701,157.88,179.39\" style=\"stroke: #383838; stroke-width: 1.0;\"/><ellipse cx=\"136.774\" cy=\"165.6196\" fill=\"#383838\" rx=\"2\" ry=\"2\" style=\"stroke: #383838; stroke-width: 1.0;\"/><ellipse cx=\"143.7912\" cy=\"158.4951\" fill=\"#383838\" rx=\"2\" ry=\"2\" style=\"stroke: #383838; stroke-width: 1.0;\"/></a><!--MD5=[dc164f5e8a733ab456ef1add180e9e34]\n",
       "reverse link E7 to E8--><a href=\"psysml:7dc24cb7-d6ba-40a4-b073-8d397bf1a7ae\" target=\"_top\" title=\"psysml:7dc24cb7-d6ba-40a4-b073-8d397bf1a7ae\" xlink:actuate=\"onRequest\" xlink:href=\"psysml:7dc24cb7-d6ba-40a4-b073-8d397bf1a7ae\" xlink:show=\"new\" xlink:title=\"psysml:7dc24cb7-d6ba-40a4-b073-8d397bf1a7ae\" xlink:type=\"simple\"><path d=\"M53.89,130.23 C52.97,165.15 54.21,212.5 64,253 C69.16,274.35 80.04,296.87 88.84,312.9 \" fill=\"none\" id=\"E7&lt;-E8\" style=\"stroke: #383838; stroke-width: 1.0;\"/><polygon fill=\"#FFFFFF\" points=\"54.36,117.03,50.1514,122.8856,53.9378,129.0226,58.1464,123.167,54.36,117.03\" style=\"stroke: #383838; stroke-width: 1.0;\"/><text fill=\"#000000\" font-family=\"sans-serif\" font-size=\"13\" lengthAdjust=\"spacingAndGlyphs\" textLength=\"8\" x=\"86.3783\" y=\"301.7694\">1</text></a><!--MD5=[0a839d0f80c2d72d4b9b307f046d0de8]\n",
       "link E6 to E8--><a href=\"psysml:6785e7ae-ef30-46fa-a69d-d6daab2c7c15\" target=\"_top\" title=\"psysml:6785e7ae-ef30-46fa-a69d-d6daab2c7c15\" xlink:actuate=\"onRequest\" xlink:href=\"psysml:6785e7ae-ef30-46fa-a69d-d6daab2c7c15\" xlink:show=\"new\" xlink:title=\"psysml:6785e7ae-ef30-46fa-a69d-d6daab2c7c15\" xlink:type=\"simple\"><path d=\"M91.82,238.1 C88.41,259.34 88.39,291.28 91.78,312.61 \" fill=\"none\" id=\"E6-E8\" style=\"stroke: #383838; stroke-width: 3.0;\"/><text fill=\"#000000\" font-family=\"sans-serif\" font-size=\"13\" lengthAdjust=\"spacingAndGlyphs\" textLength=\"7\" x=\"81.2643\" y=\"301.7864\">*</text></a><!--MD5=[0a839d0f80c2d72d4b9b307f046d0de8]\n",
       "link E6 to E8--><a href=\"psysml:868c8138-312d-42c2-8f4f-f83047efce23\" target=\"_top\" title=\"psysml:868c8138-312d-42c2-8f4f-f83047efce23\" xlink:actuate=\"onRequest\" xlink:href=\"psysml:868c8138-312d-42c2-8f4f-f83047efce23\" xlink:show=\"new\" xlink:title=\"psysml:868c8138-312d-42c2-8f4f-f83047efce23\" xlink:type=\"simple\"><path d=\"M112.78,238.1 C116.39,259.34 116.41,291.28 112.82,312.61 \" fill=\"none\" id=\"E6-E8-1\" style=\"stroke: #383838; stroke-width: 3.0;\"/><text fill=\"#000000\" font-family=\"sans-serif\" font-size=\"13\" lengthAdjust=\"spacingAndGlyphs\" textLength=\"7\" x=\"107.6957\" y=\"301.7864\">*</text></a><!--MD5=[f1acc1ce242618bf8e4812bba2b04690]\n",
       "@startuml\r\n",
       "skinparam monochrome true\r\n",
       "skinparam classbackgroundcolor white\r\n",
       "skinparam shadowing false\r\n",
       "skinparam wrapWidth 300\r\n",
       "hide circle\r\n",
       "\r\n",
       "package \"AliasTest\" as E1  [[psysml:02b7e9b9-6677-468f-8dad-8ced33a218a4 ]]  {\r\n",
       "comp usage \"b :> ISQSpaceTime::width\" as E2  <<(T,blue) attribute>> [[psysml:c7feeda3-a834-41bb-a074-923ea0011430 ]] {\r\n",
       "}\r\n",
       "comp def \"P1\" as E3  <<(T,blue) part  def>> [[psysml:1a450028-471a-4a88-b6bb-254dda2007f7 ]] {\r\n",
       "- - ports - -\r\n",
       "porig1\r\n",
       "}\r\n",
       "comp usage \"porig1 \" as E4  <<(T,blue) port>> [[psysml:528ad082-e547-41e1-93e2-4f734da3b1f6 ]] {\r\n",
       "}\r\n",
       "comp usage \"p1: P1 \" as E5  <<(T,blue) part>> [[psysml:73838eb5-9ecb-4193-8391-1ddf76ff61b3 ]] {\r\n",
       "}\r\n",
       "comp usage \"po1 \" as E6  <<(T,blue) port>> [[psysml:6875339d-23d6-4973-8a77-102c2bf220f1 ]] {\r\n",
       "}\r\n",
       "comp usage \"p2: P1 \" as E7  <<(T,blue) part>> [[psysml:73d7b051-2240-4fe3-9278-fa0d634854f8 ]] {\r\n",
       "- - ports - -\r\n",
       "pdest\r\n",
       "}\r\n",
       "comp usage \"pdest \" as E8  <<(T,blue) port>> [[psysml:6cb98d60-0ab8-42f0-badc-3a033a17e212 ]] {\r\n",
       "}\r\n",
       "}\r\n",
       "E3 o- - \"1\"E4 [[psysml:b408bcfe-af80-429f-8bb7-74524c32282e ]] \r\n",
       "E5 - -:|> E3 [[psysml:de9d1539-3df1-480f-91a9-ed9f950b1f96 ]] \r\n",
       "E5 o- - \"1\"E6 [[psysml:1d973b34-aa26-4796-bb60-99a7b7743581 ]] \r\n",
       "E6 - -||> E4 [[psysml:73eeba8b-cad5-4501-9cd6-c52ba77489ee ]] \r\n",
       "E7 - -:|> E3 [[psysml:52eea9f8-f20f-41d5-8944-6f19cdd988b1 ]] \r\n",
       "E7 o- - \"1\"E8 [[psysml:7dc24cb7-d6ba-40a4-b073-8d397bf1a7ae ]] \r\n",
       "E6 -[thickness=3]- \"*\"E8 [[psysml:6785e7ae-ef30-46fa-a69d-d6daab2c7c15 ]] \r\n",
       "E6 -[thickness=3]- \"*\"E8 [[psysml:868c8138-312d-42c2-8f4f-f83047efce23 ]] \r\n",
       "@enduml\r\n",
       "\n",
       "PlantUML version 1.2020.13(Sat Jun 13 12:26:38 UTC 2020)\n",
       "(EPL source distribution)\n",
       "Java Runtime: OpenJDK Runtime Environment\n",
       "JVM: OpenJDK 64-Bit Server VM\n",
       "Default Encoding: UTF-8\n",
       "Language: en\n",
       "Country: null\n",
       "--></g></svg>"
      ]
     },
     "execution_count": 38,
     "metadata": {},
     "output_type": "execute_result"
    }
   ],
   "source": [
    "%viz --style=\"DEFAULT\" --view=\"Tree\" \"AliasTest\""
   ]
  },
  {
   "cell_type": "code",
   "execution_count": 39,
   "id": "ab5fda41",
   "metadata": {
    "execution": {
     "iopub.execute_input": "2022-08-19T08:20:50.560666Z",
     "iopub.status.busy": "2022-08-19T08:20:50.560219Z",
     "iopub.status.idle": "2022-08-19T08:20:50.570269Z",
     "shell.execute_reply": "2022-08-19T08:20:50.569872Z"
    }
   },
   "outputs": [
    {
     "data": {
      "image/svg+xml": [
       "<?xml version=\"1.0\" encoding=\"UTF-8\" standalone=\"no\"?><svg xmlns=\"http://www.w3.org/2000/svg\" xmlns:xlink=\"http://www.w3.org/1999/xlink\" contentScriptType=\"application/ecmascript\" contentStyleType=\"text/css\" height=\"12px\" preserveAspectRatio=\"none\" style=\"width:12px;height:12px;\" version=\"1.1\" viewBox=\"0 0 12 12\" width=\"12px\" zoomAndPan=\"magnify\"><defs/><g><!--MD5=[c5f280e076d0d61ccf4b0f27871bda1d]\n",
       "@startuml\r\n",
       "skinparam monochrome true\r\n",
       "skinparam classbackgroundcolor white\r\n",
       "skinparam shadowing false\r\n",
       "skinparam wrapWidth 300\r\n",
       "hide circle\r\n",
       "\r\n",
       "@enduml\r\n",
       "\n",
       "PlantUML version 1.2020.13(Sat Jun 13 12:26:38 UTC 2020)\n",
       "(EPL source distribution)\n",
       "Java Runtime: OpenJDK Runtime Environment\n",
       "JVM: OpenJDK 64-Bit Server VM\n",
       "Default Encoding: UTF-8\n",
       "Language: en\n",
       "Country: null\n",
       "--></g></svg>"
      ]
     },
     "execution_count": 39,
     "metadata": {},
     "output_type": "execute_result"
    }
   ],
   "source": [
    "%viz --style=\"DEFAULT\" --view=\"State\" \"AliasTest\""
   ]
  },
  {
   "cell_type": "code",
   "execution_count": 40,
   "id": "e85cb64e",
   "metadata": {
    "execution": {
     "iopub.execute_input": "2022-08-19T08:20:50.620223Z",
     "iopub.status.busy": "2022-08-19T08:20:50.619768Z",
     "iopub.status.idle": "2022-08-19T08:20:50.660850Z",
     "shell.execute_reply": "2022-08-19T08:20:50.661170Z"
    }
   },
   "outputs": [
    {
     "data": {
      "image/svg+xml": [
       "<?xml version=\"1.0\" encoding=\"UTF-8\" standalone=\"no\"?><svg xmlns=\"http://www.w3.org/2000/svg\" xmlns:xlink=\"http://www.w3.org/1999/xlink\" contentScriptType=\"application/ecmascript\" contentStyleType=\"text/css\" height=\"398px\" preserveAspectRatio=\"none\" style=\"width:370px;height:398px;\" version=\"1.1\" viewBox=\"0 0 370 398\" width=\"370px\" zoomAndPan=\"magnify\"><defs/><g><!--MD5=[fbc87193dbaf4d95561dea2c320d4a47]\n",
       "cluster E1--><a href=\"psysml:02b7e9b9-6677-468f-8dad-8ced33a218a4\" target=\"_top\" title=\"psysml:02b7e9b9-6677-468f-8dad-8ced33a218a4\" xlink:actuate=\"onRequest\" xlink:href=\"psysml:02b7e9b9-6677-468f-8dad-8ced33a218a4\" xlink:show=\"new\" xlink:title=\"psysml:02b7e9b9-6677-468f-8dad-8ced33a218a4\" xlink:type=\"simple\"><polygon fill=\"#FFFFFF\" points=\"16,6,84,6,91,28.2969,348,28.2969,348,386.36,16,386.36,16,6\" style=\"stroke: #000000; stroke-width: 1.5;\"/><line style=\"stroke: #000000; stroke-width: 1.5;\" x1=\"16\" x2=\"91\" y1=\"28.2969\" y2=\"28.2969\"/><text fill=\"#000000\" font-family=\"sans-serif\" font-size=\"14\" font-weight=\"bold\" lengthAdjust=\"spacingAndGlyphs\" textLength=\"62\" x=\"20\" y=\"20.9951\">AliasTest</text></a><!--MD5=[d5e69f78d87373223dbae638b30a9c99]\n",
       "cluster E3--><a href=\"psysml:1a450028-471a-4a88-b6bb-254dda2007f7\" target=\"_top\" title=\"psysml:1a450028-471a-4a88-b6bb-254dda2007f7\" xlink:actuate=\"onRequest\" xlink:href=\"psysml:1a450028-471a-4a88-b6bb-254dda2007f7\" xlink:show=\"new\" xlink:title=\"psysml:1a450028-471a-4a88-b6bb-254dda2007f7\" xlink:type=\"simple\"><rect fill=\"#FFFFFF\" height=\"124.5\" id=\"E3\" style=\"stroke: #383838; stroke-width: 1.5;\" width=\"144\" x=\"180\" y=\"237.86\"/><rect fill=\"#F8F8F8\" height=\"37.9375\" style=\"stroke: #383838; stroke-width: 1.5;\" width=\"144\" x=\"180\" y=\"237.86\"/><text fill=\"#000000\" font-family=\"sans-serif\" font-size=\"12\" font-style=\"italic\" lengthAdjust=\"spacingAndGlyphs\" textLength=\"68\" x=\"218\" y=\"253.9987\">«part  def»</text><text fill=\"#000000\" font-family=\"sans-serif\" font-size=\"12\" lengthAdjust=\"spacingAndGlyphs\" textLength=\"16\" x=\"244\" y=\"267.9674\">P1</text></a><!--MD5=[14e3b0961a2654348d326746436168a1]\n",
       "cluster E6--><a href=\"psysml:73838eb5-9ecb-4193-8391-1ddf76ff61b3\" target=\"_top\" title=\"psysml:73838eb5-9ecb-4193-8391-1ddf76ff61b3\" xlink:actuate=\"onRequest\" xlink:href=\"psysml:73838eb5-9ecb-4193-8391-1ddf76ff61b3\" xlink:show=\"new\" xlink:title=\"psysml:73838eb5-9ecb-4193-8391-1ddf76ff61b3\" xlink:type=\"simple\"><rect fill=\"#FFFFFF\" height=\"97.36\" id=\"E6\" rx=\"10\" ry=\"10\" style=\"stroke: #383838; stroke-width: 1.5;\" width=\"114\" x=\"210\" y=\"49\"/><rect fill=\"#F8F8F8\" height=\"23.9688\" rx=\"10\" ry=\"10\" style=\"stroke: #F8F8F8; stroke-width: 1.5;\" width=\"114\" x=\"210\" y=\"49\"/><rect fill=\"#F8F8F8\" height=\"10\" style=\"stroke: #F8F8F8; stroke-width: 1.5;\" width=\"114\" x=\"210\" y=\"62.9688\"/><rect fill=\"none\" height=\"97.36\" id=\"E6\" rx=\"10\" ry=\"10\" style=\"stroke: #383838; stroke-width: 1.5;\" width=\"114\" x=\"210\" y=\"49\"/><text fill=\"#000000\" font-family=\"sans-serif\" font-size=\"12\" lengthAdjust=\"spacingAndGlyphs\" textLength=\"40\" x=\"247\" y=\"65.1387\">p1: P1</text><line style=\"stroke: #383838; stroke-width: 1.0;\" x1=\"210\" x2=\"324\" y1=\"72.9688\" y2=\"72.9688\"/></a><!--MD5=[55dfccfc6c49c2d10cd1bd2211a6c90c]\n",
       "cluster E8--><a href=\"psysml:73d7b051-2240-4fe3-9278-fa0d634854f8\" target=\"_top\" title=\"psysml:73d7b051-2240-4fe3-9278-fa0d634854f8\" xlink:actuate=\"onRequest\" xlink:href=\"psysml:73d7b051-2240-4fe3-9278-fa0d634854f8\" xlink:show=\"new\" xlink:title=\"psysml:73d7b051-2240-4fe3-9278-fa0d634854f8\" xlink:type=\"simple\"><rect fill=\"#FFFFFF\" height=\"73\" id=\"E8\" rx=\"10\" ry=\"10\" style=\"stroke: #383838; stroke-width: 1.5;\" width=\"83\" x=\"81\" y=\"198.36\"/><rect fill=\"#F8F8F8\" height=\"23.9688\" rx=\"10\" ry=\"10\" style=\"stroke: #F8F8F8; stroke-width: 1.5;\" width=\"83\" x=\"81\" y=\"198.36\"/><rect fill=\"#F8F8F8\" height=\"10\" style=\"stroke: #F8F8F8; stroke-width: 1.5;\" width=\"83\" x=\"81\" y=\"212.3288\"/><rect fill=\"none\" height=\"73\" id=\"E8\" rx=\"10\" ry=\"10\" style=\"stroke: #383838; stroke-width: 1.5;\" width=\"83\" x=\"81\" y=\"198.36\"/><text fill=\"#000000\" font-family=\"sans-serif\" font-size=\"12\" lengthAdjust=\"spacingAndGlyphs\" textLength=\"40\" x=\"102.5\" y=\"214.4987\">p2: P1</text><line style=\"stroke: #383838; stroke-width: 1.0;\" x1=\"81\" x2=\"164\" y1=\"222.3288\" y2=\"222.3288\"/></a><!--MD5=[b4997ac47864f28c2f74865a473b2911]\n",
       "class E2--><a href=\"psysml:c7feeda3-a834-41bb-a074-923ea0011430\" target=\"_top\" title=\"psysml:c7feeda3-a834-41bb-a074-923ea0011430\" xlink:actuate=\"onRequest\" xlink:href=\"psysml:c7feeda3-a834-41bb-a074-923ea0011430\" xlink:show=\"new\" xlink:title=\"psysml:c7feeda3-a834-41bb-a074-923ea0011430\" xlink:type=\"simple\"><rect fill=\"#FFFFFF\" height=\"45.9375\" id=\"E2\" rx=\"10\" ry=\"10\" style=\"stroke: #383838; stroke-width: 1.5;\" width=\"165\" x=\"32.5\" y=\"59.5\"/><text fill=\"#000000\" font-family=\"sans-serif\" font-size=\"12\" font-style=\"italic\" lengthAdjust=\"spacingAndGlyphs\" textLength=\"69\" x=\"80.5\" y=\"75.6387\">«attribute»</text><text fill=\"#000000\" font-family=\"sans-serif\" font-size=\"12\" lengthAdjust=\"spacingAndGlyphs\" textLength=\"159\" x=\"35.5\" y=\"89.6074\">b :&gt; ISQSpaceTime::width</text><line style=\"stroke: #383838; stroke-width: 1.5;\" x1=\"33.5\" x2=\"196.5\" y1=\"97.4375\" y2=\"97.4375\"/></a><text fill=\"#000000\" font-family=\"sans-serif\" font-size=\"14\" lengthAdjust=\"spacingAndGlyphs\" textLength=\"44\" x=\"174\" y=\"216.5582\">porig1</text><rect fill=\"#383838\" height=\"12\" style=\"stroke: #F8F8F8; stroke-width: 1.5;\" width=\"12\" x=\"192\" y=\"231.86\"/><text fill=\"#000000\" font-family=\"sans-serif\" font-size=\"14\" lengthAdjust=\"spacingAndGlyphs\" textLength=\"44\" x=\"221\" y=\"216.5582\">porig1</text><rect fill=\"#383838\" height=\"12\" style=\"stroke: #F8F8F8; stroke-width: 1.5;\" width=\"12\" x=\"239\" y=\"231.86\"/><text fill=\"#000000\" font-family=\"sans-serif\" font-size=\"14\" lengthAdjust=\"spacingAndGlyphs\" textLength=\"27\" x=\"212.5\" y=\"165.3551\">po1</text><rect fill=\"#383838\" height=\"12\" style=\"stroke: #F8F8F8; stroke-width: 1.5;\" width=\"12\" x=\"222\" y=\"140.36\"/><text fill=\"#000000\" font-family=\"sans-serif\" font-size=\"14\" lengthAdjust=\"spacingAndGlyphs\" textLength=\"40\" x=\"77\" y=\"177.0582\">pdest</text><rect fill=\"#383838\" height=\"12\" style=\"stroke: #F8F8F8; stroke-width: 1.5;\" width=\"12\" x=\"93\" y=\"192.36\"/><text fill=\"#000000\" font-family=\"sans-serif\" font-size=\"14\" lengthAdjust=\"spacingAndGlyphs\" textLength=\"40\" x=\"124\" y=\"177.0582\">pdest</text><rect fill=\"#383838\" height=\"12\" style=\"stroke: #F8F8F8; stroke-width: 1.5;\" width=\"12\" x=\"140\" y=\"192.36\"/><!--MD5=[a717450b82c80b9240a525fa862496af]\n",
       "link E6 to E3--><a href=\"psysml:de9d1539-3df1-480f-91a9-ed9f950b1f96\" target=\"_top\" title=\"psysml:de9d1539-3df1-480f-91a9-ed9f950b1f96\" xlink:actuate=\"onRequest\" xlink:href=\"psysml:de9d1539-3df1-480f-91a9-ed9f950b1f96\" xlink:show=\"new\" xlink:title=\"psysml:de9d1539-3df1-480f-91a9-ed9f950b1f96\" xlink:type=\"simple\"><path d=\"M287,146.372 C287,146.4316 287,146.4946 287,146.5614 C287,146.6948 287,146.8432 287,147.0079 C287,147.3375 287,147.733 287,148.2077 C287,149.1569 287,150.4225 287,152.11 C287,158.86 287,172.36 287,199.36 C287,208.265 287.4169,215.6138 287.8598,222.1538 C287.8875,222.5625 287.9153,222.9681 287.9431,223.3707 C287.9501,223.4714 287.957,223.5718 287.964,223.6721 \" fill=\"none\" id=\"E6-&gt;E3\" style=\"stroke: #383838; stroke-width: 1.0;\"/><polygon fill=\"#FFFFFF\" points=\"287.964,223.6721,279.6675,205.2014,293.634,204.2337,287.964,223.6721\" style=\"stroke: #383838; stroke-width: 1.0;\"/><ellipse cx=\"281.2688\" cy=\"199.3768\" fill=\"#383838\" rx=\"2\" ry=\"2\" style=\"stroke: #383838; stroke-width: 1.0;\"/><ellipse cx=\"291.2448\" cy=\"198.6856\" fill=\"#383838\" rx=\"2\" ry=\"2\" style=\"stroke: #383838; stroke-width: 1.0;\"/></a><!--MD5=[95fa686b5a16158bcdbcaeead89f639b]\n",
       "link E8 to E3--><a href=\"psysml:52eea9f8-f20f-41d5-8944-6f19cdd988b1\" target=\"_top\" title=\"psysml:52eea9f8-f20f-41d5-8944-6f19cdd988b1\" xlink:actuate=\"onRequest\" xlink:href=\"psysml:52eea9f8-f20f-41d5-8944-6f19cdd988b1\" xlink:show=\"new\" xlink:title=\"psysml:52eea9f8-f20f-41d5-8944-6f19cdd988b1\" xlink:type=\"simple\"><path d=\"M161.6052,271.4143 C161.6848,271.4587 161.7644,271.5032 161.844,271.5476 C162.1624,271.7254 162.4807,271.903 162.799,272.0805 C163.4355,272.4354 164.0716,272.7896 164.7071,273.1429 C165.978,273.8495 167.2462,274.5525 168.5091,275.2502 C171.0347,276.6456 173.5388,278.02 176,279.36 C177.8425,280.3638 179.712,281.3764 181.6004,282.3941 C182.0725,282.6486 182.5457,282.9033 183.0201,283.1583 C183.2572,283.2858 183.4946,283.4134 183.7323,283.541 C183.7917,283.5729 183.8512,283.6048 183.9106,283.6368 \" fill=\"none\" id=\"E8-&gt;E3\" style=\"stroke: #383838; stroke-width: 1.0;\"/><polygon fill=\"#FFFFFF\" points=\"183.9106,283.6368,163.8594,280.8174,170.4813,268.4825,183.9106,283.6368\" style=\"stroke: #383838; stroke-width: 1.0;\"/><ellipse cx=\"159.7833\" cy=\"276.3592\" fill=\"#383838\" rx=\"2\" ry=\"2\" style=\"stroke: #383838; stroke-width: 1.0;\"/><ellipse cx=\"164.5132\" cy=\"267.5486\" fill=\"#383838\" rx=\"2\" ry=\"2\" style=\"stroke: #383838; stroke-width: 1.0;\"/></a><!--MD5=[1c0b9414cc86e0744215edee6abd8926]\n",
       "link E7 to E9--><a href=\"psysml:6785e7ae-ef30-46fa-a69d-d6daab2c7c15\" target=\"_top\" title=\"psysml:6785e7ae-ef30-46fa-a69d-d6daab2c7c15\" xlink:actuate=\"onRequest\" xlink:href=\"psysml:6785e7ae-ef30-46fa-a69d-d6daab2c7c15\" xlink:show=\"new\" xlink:title=\"psysml:6785e7ae-ef30-46fa-a69d-d6daab2c7c15\" xlink:type=\"simple\"><path d=\"M221.76,147.53 C198.85,148.59 143.6,155.09 105,176.36 C94.77,182 85.43,193.07 92.97,196.39 \" fill=\"none\" id=\"E7-E9\" style=\"stroke: #383838; stroke-width: 3.0;\"/><text fill=\"#000000\" font-family=\"sans-serif\" font-size=\"13\" lengthAdjust=\"spacingAndGlyphs\" textLength=\"7\" x=\"78.1078\" y=\"185.6989\">*</text></a><!--MD5=[1c0b9414cc86e0744215edee6abd8926]\n",
       "link E7 to E9--><a href=\"psysml:868c8138-312d-42c2-8f4f-f83047efce23\" target=\"_top\" title=\"psysml:868c8138-312d-42c2-8f4f-f83047efce23\" xlink:actuate=\"onRequest\" xlink:href=\"psysml:868c8138-312d-42c2-8f4f-f83047efce23\" xlink:show=\"new\" xlink:title=\"psysml:868c8138-312d-42c2-8f4f-f83047efce23\" xlink:type=\"simple\"><path d=\"M221.9,149.8 C204.95,153.24 168.07,160.89 140,176.36 C129.3,182.26 119.57,194.11 105.05,196.81 \" fill=\"none\" id=\"E7-E9-1\" style=\"stroke: #383838; stroke-width: 3.0;\"/><text fill=\"#000000\" font-family=\"sans-serif\" font-size=\"13\" lengthAdjust=\"spacingAndGlyphs\" textLength=\"7\" x=\"112.9288\" y=\"186.4654\">*</text></a><!--MD5=[a997bb9fffd04d5b438bc35ddae0e3c9]\n",
       "@startuml\r\n",
       "skinparam ranksep 10\r\n",
       "skinparam rectangle {\r\n",
       " backgroundColor<<block>> LightGreen\r\n",
       "}\r\n",
       "skinparam monochrome true\r\n",
       "skinparam classbackgroundcolor white\r\n",
       "skinparam shadowing false\r\n",
       "skinparam wrapWidth 300\r\n",
       "hide circle\r\n",
       "\r\n",
       "package \"AliasTest\" as E1  [[psysml:02b7e9b9-6677-468f-8dad-8ced33a218a4 ]]  {\r\n",
       "comp usage \"b :> ISQSpaceTime::width\" as E2  <<(T,blue) attribute>> [[psysml:c7feeda3-a834-41bb-a074-923ea0011430 ]] {\r\n",
       "}\r\n",
       "rec def \"P1\" as E3  <<(T,blue) part  def>> [[psysml:1a450028-471a-4a88-b6bb-254dda2007f7 ]] {\r\n",
       "portin \"porig1 \" as E4  <<(T,blue) port>> [[psysml:528ad082-e547-41e1-93e2-4f734da3b1f6 ]] \r\n",
       "portin \"porig1 \" as E5  <<(T,blue) port>> [[psysml:528ad082-e547-41e1-93e2-4f734da3b1f6 ]] \r\n",
       "}\r\n",
       "rec usage \"p1: P1\" as E6  [[psysml:73838eb5-9ecb-4193-8391-1ddf76ff61b3 ]] {\r\n",
       "portout \"po1 \" as E7  <<(T,blue) port>> [[psysml:6875339d-23d6-4973-8a77-102c2bf220f1 ]] \r\n",
       "}\r\n",
       "rec usage \"p2: P1\" as E8  [[psysml:73d7b051-2240-4fe3-9278-fa0d634854f8 ]] {\r\n",
       "portin \"pdest \" as E9  <<(T,blue) port>> [[psysml:6cb98d60-0ab8-42f0-badc-3a033a17e212 ]] \r\n",
       "portin \"pdest \" as E10  <<(T,blue) port>> [[psysml:6cb98d60-0ab8-42f0-badc-3a033a17e212 ]] \r\n",
       "}\r\n",
       "}\r\n",
       "E6 - -:|> E3 [[psysml:de9d1539-3df1-480f-91a9-ed9f950b1f96 ]] \r\n",
       "E8 - -:|> E3 [[psysml:52eea9f8-f20f-41d5-8944-6f19cdd988b1 ]] \r\n",
       "E7 -[thickness=3]- \"*\"E9 [[psysml:6785e7ae-ef30-46fa-a69d-d6daab2c7c15 ]] \r\n",
       "E7 -[thickness=3]- \"*\"E9 [[psysml:868c8138-312d-42c2-8f4f-f83047efce23 ]] \r\n",
       "@enduml\r\n",
       "\n",
       "PlantUML version 1.2020.13(Sat Jun 13 12:26:38 UTC 2020)\n",
       "(EPL source distribution)\n",
       "Java Runtime: OpenJDK Runtime Environment\n",
       "JVM: OpenJDK 64-Bit Server VM\n",
       "Default Encoding: UTF-8\n",
       "Language: en\n",
       "Country: null\n",
       "--></g></svg>"
      ]
     },
     "execution_count": 40,
     "metadata": {},
     "output_type": "execute_result"
    }
   ],
   "source": [
    "%viz --style=\"DEFAULT\" --view=\"Interconnection\" \"AliasTest\""
   ]
  },
  {
   "cell_type": "code",
   "execution_count": 41,
   "id": "b90e6598",
   "metadata": {
    "execution": {
     "iopub.execute_input": "2022-08-19T08:20:50.710939Z",
     "iopub.status.busy": "2022-08-19T08:20:50.710489Z",
     "iopub.status.idle": "2022-08-19T08:20:50.721018Z",
     "shell.execute_reply": "2022-08-19T08:20:50.720637Z"
    }
   },
   "outputs": [
    {
     "data": {
      "image/svg+xml": [
       "<?xml version=\"1.0\" encoding=\"UTF-8\" standalone=\"no\"?><svg xmlns=\"http://www.w3.org/2000/svg\" xmlns:xlink=\"http://www.w3.org/1999/xlink\" contentScriptType=\"application/ecmascript\" contentStyleType=\"text/css\" height=\"12px\" preserveAspectRatio=\"none\" style=\"width:12px;height:12px;\" version=\"1.1\" viewBox=\"0 0 12 12\" width=\"12px\" zoomAndPan=\"magnify\"><defs/><g><!--MD5=[388f21188e31bfdd97050473b19af356]\n",
       "@startuml\r\n",
       "skinparam ranksep 8\r\n",
       "skinparam monochrome true\r\n",
       "skinparam classbackgroundcolor white\r\n",
       "skinparam shadowing false\r\n",
       "skinparam wrapWidth 300\r\n",
       "hide circle\r\n",
       "\r\n",
       "@enduml\r\n",
       "\n",
       "PlantUML version 1.2020.13(Sat Jun 13 12:26:38 UTC 2020)\n",
       "(EPL source distribution)\n",
       "Java Runtime: OpenJDK Runtime Environment\n",
       "JVM: OpenJDK 64-Bit Server VM\n",
       "Default Encoding: UTF-8\n",
       "Language: en\n",
       "Country: null\n",
       "--></g></svg>"
      ]
     },
     "execution_count": 41,
     "metadata": {},
     "output_type": "execute_result"
    }
   ],
   "source": [
    "%viz --style=\"DEFAULT\" --view=\"Action\" \"AliasTest\""
   ]
  },
  {
   "cell_type": "code",
   "execution_count": 42,
   "id": "857e5f23",
   "metadata": {
    "execution": {
     "iopub.execute_input": "2022-08-19T08:20:50.770845Z",
     "iopub.status.busy": "2022-08-19T08:20:50.770400Z",
     "iopub.status.idle": "2022-08-19T08:20:50.780505Z",
     "shell.execute_reply": "2022-08-19T08:20:50.780823Z"
    }
   },
   "outputs": [
    {
     "data": {
      "image/svg+xml": [
       "<?xml version=\"1.0\" encoding=\"UTF-8\" standalone=\"no\"?><svg xmlns=\"http://www.w3.org/2000/svg\" xmlns:xlink=\"http://www.w3.org/1999/xlink\" contentScriptType=\"application/ecmascript\" contentStyleType=\"text/css\" height=\"12px\" preserveAspectRatio=\"none\" style=\"width:12px;height:12px;\" version=\"1.1\" viewBox=\"0 0 12 12\" width=\"12px\" zoomAndPan=\"magnify\"><defs/><g><!--MD5=[0b72472770326784bf6c2b53246e1e64]\n",
       "@startuml\r\n",
       "skinparam roundcorner 20\r\n",
       "skinparam BoxPadding 20\r\n",
       "skinparam SequenceBoxBackgroundColor #white\r\n",
       "skinparam style strictuml\r\n",
       "skinparam maxMessageSize 100\r\n",
       "skinparam monochrome true\r\n",
       "skinparam classbackgroundcolor white\r\n",
       "skinparam shadowing false\r\n",
       "skinparam wrapWidth 300\r\n",
       "hide circle\r\n",
       "\r\n",
       "@enduml\r\n",
       "\n",
       "PlantUML version 1.2020.13(Sat Jun 13 12:26:38 UTC 2020)\n",
       "(EPL source distribution)\n",
       "Java Runtime: OpenJDK Runtime Environment\n",
       "JVM: OpenJDK 64-Bit Server VM\n",
       "Default Encoding: UTF-8\n",
       "Language: en\n",
       "Country: null\n",
       "--></g></svg>"
      ]
     },
     "execution_count": 42,
     "metadata": {},
     "output_type": "execute_result"
    }
   ],
   "source": [
    "%viz --style=\"DEFAULT\" --view=\"Sequence\" \"AliasTest\""
   ]
  },
  {
   "cell_type": "code",
   "execution_count": 43,
   "id": "5a3334e5",
   "metadata": {
    "execution": {
     "iopub.execute_input": "2022-08-19T08:20:50.830819Z",
     "iopub.status.busy": "2022-08-19T08:20:50.830376Z",
     "iopub.status.idle": "2022-08-19T08:20:50.892866Z",
     "shell.execute_reply": "2022-08-19T08:20:50.892471Z"
    }
   },
   "outputs": [
    {
     "data": {
      "image/svg+xml": [
       "<?xml version=\"1.0\" encoding=\"UTF-8\" standalone=\"no\"?><svg xmlns=\"http://www.w3.org/2000/svg\" xmlns:xlink=\"http://www.w3.org/1999/xlink\" contentScriptType=\"application/ecmascript\" contentStyleType=\"text/css\" height=\"387px\" preserveAspectRatio=\"none\" style=\"width:406px;height:387px;\" version=\"1.1\" viewBox=\"0 0 406 387\" width=\"406px\" zoomAndPan=\"magnify\"><defs/><g><!--MD5=[fbc87193dbaf4d95561dea2c320d4a47]\n",
       "cluster E1--><a href=\"psysml:02b7e9b9-6677-468f-8dad-8ced33a218a4\" target=\"_top\" title=\"psysml:02b7e9b9-6677-468f-8dad-8ced33a218a4\" xlink:actuate=\"onRequest\" xlink:href=\"psysml:02b7e9b9-6677-468f-8dad-8ced33a218a4\" xlink:show=\"new\" xlink:title=\"psysml:02b7e9b9-6677-468f-8dad-8ced33a218a4\" xlink:type=\"simple\"><polygon fill=\"#FFFFFF\" points=\"16,6,84,6,91,28.2969,384,28.2969,384,375,16,375,16,6\" style=\"stroke: #000000; stroke-width: 1.5;\"/><line style=\"stroke: #000000; stroke-width: 1.5;\" x1=\"16\" x2=\"91\" y1=\"28.2969\" y2=\"28.2969\"/><text fill=\"#000000\" font-family=\"sans-serif\" font-size=\"14\" font-weight=\"bold\" lengthAdjust=\"spacingAndGlyphs\" textLength=\"62\" x=\"20\" y=\"20.9951\">AliasTest</text></a><!--MD5=[b4997ac47864f28c2f74865a473b2911]\n",
       "class E2--><a href=\"psysml:c7feeda3-a834-41bb-a074-923ea0011430\" target=\"_top\" title=\"psysml:c7feeda3-a834-41bb-a074-923ea0011430\" xlink:actuate=\"onRequest\" xlink:href=\"psysml:c7feeda3-a834-41bb-a074-923ea0011430\" xlink:show=\"new\" xlink:title=\"psysml:c7feeda3-a834-41bb-a074-923ea0011430\" xlink:type=\"simple\"><rect fill=\"#FFFFFF\" height=\"45.9375\" id=\"E2\" rx=\"10\" ry=\"10\" style=\"stroke: #383838; stroke-width: 1.5;\" width=\"165\" x=\"202.5\" y=\"56\"/><text fill=\"#000000\" font-family=\"sans-serif\" font-size=\"12\" font-style=\"italic\" lengthAdjust=\"spacingAndGlyphs\" textLength=\"69\" x=\"250.5\" y=\"72.1387\">«attribute»</text><text fill=\"#000000\" font-family=\"sans-serif\" font-size=\"12\" lengthAdjust=\"spacingAndGlyphs\" textLength=\"159\" x=\"205.5\" y=\"86.1074\">b :&gt; ISQSpaceTime::width</text><line style=\"stroke: #383838; stroke-width: 1.5;\" x1=\"203.5\" x2=\"366.5\" y1=\"93.9375\" y2=\"93.9375\"/></a><!--MD5=[09b614a08d8cba4a07c9adeb5e0fee81]\n",
       "class E3--><a href=\"psysml:1a450028-471a-4a88-b6bb-254dda2007f7\" target=\"_top\" title=\"psysml:1a450028-471a-4a88-b6bb-254dda2007f7\" xlink:actuate=\"onRequest\" xlink:href=\"psysml:1a450028-471a-4a88-b6bb-254dda2007f7\" xlink:show=\"new\" xlink:title=\"psysml:1a450028-471a-4a88-b6bb-254dda2007f7\" xlink:type=\"simple\"><rect fill=\"#FFFFFF\" height=\"75.5469\" id=\"E3\" style=\"stroke: #383838; stroke-width: 1.5;\" width=\"70\" x=\"158\" y=\"177\"/><text fill=\"#000000\" font-family=\"sans-serif\" font-size=\"12\" font-style=\"italic\" lengthAdjust=\"spacingAndGlyphs\" textLength=\"68\" x=\"159\" y=\"193.1387\">«part  def»</text><text fill=\"#000000\" font-family=\"sans-serif\" font-size=\"12\" lengthAdjust=\"spacingAndGlyphs\" textLength=\"16\" x=\"185\" y=\"207.1074\">P1</text><line style=\"stroke: #383838; stroke-width: 1.5;\" x1=\"159\" x2=\"227\" y1=\"214.9375\" y2=\"214.9375\"/><text fill=\"#000000\" font-family=\"sans-serif\" font-size=\"11\" lengthAdjust=\"spacingAndGlyphs\" textLength=\"36\" x=\"164\" y=\"245.9526\">porig1</text><line style=\"stroke: #383838; stroke-width: 1.0;\" x1=\"159\" x2=\"178\" y1=\"229.3398\" y2=\"229.3398\"/><text fill=\"#000000\" font-family=\"sans-serif\" font-size=\"11\" lengthAdjust=\"spacingAndGlyphs\" textLength=\"30\" x=\"178\" y=\"232.6479\">ports</text><line style=\"stroke: #383838; stroke-width: 1.0;\" x1=\"208\" x2=\"227\" y1=\"229.3398\" y2=\"229.3398\"/></a><!--MD5=[ebbe1d658d1005bcc118a6aa81145e00]\n",
       "class E4--><a href=\"psysml:528ad082-e547-41e1-93e2-4f734da3b1f6\" target=\"_top\" title=\"psysml:528ad082-e547-41e1-93e2-4f734da3b1f6\" xlink:actuate=\"onRequest\" xlink:href=\"psysml:528ad082-e547-41e1-93e2-4f734da3b1f6\" xlink:show=\"new\" xlink:title=\"psysml:528ad082-e547-41e1-93e2-4f734da3b1f6\" xlink:type=\"simple\"><rect fill=\"#FFFFFF\" height=\"45.9375\" id=\"E4\" rx=\"10\" ry=\"10\" style=\"stroke: #383838; stroke-width: 1.5;\" width=\"50\" x=\"164\" y=\"313\"/><text fill=\"#000000\" font-family=\"sans-serif\" font-size=\"12\" font-style=\"italic\" lengthAdjust=\"spacingAndGlyphs\" textLength=\"40\" x=\"169\" y=\"329.1387\">«port»</text><text fill=\"#000000\" font-family=\"sans-serif\" font-size=\"12\" lengthAdjust=\"spacingAndGlyphs\" textLength=\"40\" x=\"167\" y=\"343.1074\">porig1</text><line style=\"stroke: #383838; stroke-width: 1.5;\" x1=\"165\" x2=\"213\" y1=\"350.9375\" y2=\"350.9375\"/></a><!--MD5=[270fce915f116d4de14055a7c1d9a0f3]\n",
       "class E5--><a href=\"psysml:73838eb5-9ecb-4193-8391-1ddf76ff61b3\" target=\"_top\" title=\"psysml:73838eb5-9ecb-4193-8391-1ddf76ff61b3\" xlink:actuate=\"onRequest\" xlink:href=\"psysml:73838eb5-9ecb-4193-8391-1ddf76ff61b3\" xlink:show=\"new\" xlink:title=\"psysml:73838eb5-9ecb-4193-8391-1ddf76ff61b3\" xlink:type=\"simple\"><rect fill=\"#FFFFFF\" height=\"45.9375\" id=\"E5\" rx=\"10\" ry=\"10\" style=\"stroke: #383838; stroke-width: 1.5;\" width=\"50\" x=\"117\" y=\"56\"/><text fill=\"#000000\" font-family=\"sans-serif\" font-size=\"12\" font-style=\"italic\" lengthAdjust=\"spacingAndGlyphs\" textLength=\"40\" x=\"122\" y=\"72.1387\">«part»</text><text fill=\"#000000\" font-family=\"sans-serif\" font-size=\"12\" lengthAdjust=\"spacingAndGlyphs\" textLength=\"40\" x=\"120\" y=\"86.1074\">p1: P1</text><line style=\"stroke: #383838; stroke-width: 1.5;\" x1=\"118\" x2=\"166\" y1=\"93.9375\" y2=\"93.9375\"/></a><!--MD5=[60a26617385b1d2d0262a64233df1f8d]\n",
       "class E6--><a href=\"psysml:6875339d-23d6-4973-8a77-102c2bf220f1\" target=\"_top\" title=\"psysml:6875339d-23d6-4973-8a77-102c2bf220f1\" xlink:actuate=\"onRequest\" xlink:href=\"psysml:6875339d-23d6-4973-8a77-102c2bf220f1\" xlink:show=\"new\" xlink:title=\"psysml:6875339d-23d6-4973-8a77-102c2bf220f1\" xlink:type=\"simple\"><rect fill=\"#FFFFFF\" height=\"45.9375\" id=\"E6\" rx=\"10\" ry=\"10\" style=\"stroke: #383838; stroke-width: 1.5;\" width=\"42\" x=\"81\" y=\"192\"/><text fill=\"#000000\" font-family=\"sans-serif\" font-size=\"12\" font-style=\"italic\" lengthAdjust=\"spacingAndGlyphs\" textLength=\"40\" x=\"82\" y=\"208.1387\">«port»</text><text fill=\"#000000\" font-family=\"sans-serif\" font-size=\"12\" lengthAdjust=\"spacingAndGlyphs\" textLength=\"24\" x=\"88\" y=\"222.1074\">po1</text><line style=\"stroke: #383838; stroke-width: 1.5;\" x1=\"82\" x2=\"122\" y1=\"229.9375\" y2=\"229.9375\"/></a><!--MD5=[2156ba9850f5573cc1fc38a6a4b2f02b]\n",
       "class E7--><a href=\"psysml:73d7b051-2240-4fe3-9278-fa0d634854f8\" target=\"_top\" title=\"psysml:73d7b051-2240-4fe3-9278-fa0d634854f8\" xlink:actuate=\"onRequest\" xlink:href=\"psysml:73d7b051-2240-4fe3-9278-fa0d634854f8\" xlink:show=\"new\" xlink:title=\"psysml:73d7b051-2240-4fe3-9278-fa0d634854f8\" xlink:type=\"simple\"><rect fill=\"#FFFFFF\" height=\"75.5469\" id=\"E7\" rx=\"10\" ry=\"10\" style=\"stroke: #383838; stroke-width: 1.5;\" width=\"50\" x=\"32\" y=\"41\"/><text fill=\"#000000\" font-family=\"sans-serif\" font-size=\"12\" font-style=\"italic\" lengthAdjust=\"spacingAndGlyphs\" textLength=\"40\" x=\"37\" y=\"57.1387\">«part»</text><text fill=\"#000000\" font-family=\"sans-serif\" font-size=\"12\" lengthAdjust=\"spacingAndGlyphs\" textLength=\"40\" x=\"35\" y=\"71.1074\">p2: P1</text><line style=\"stroke: #383838; stroke-width: 1.5;\" x1=\"33\" x2=\"81\" y1=\"78.9375\" y2=\"78.9375\"/><text fill=\"#000000\" font-family=\"sans-serif\" font-size=\"11\" lengthAdjust=\"spacingAndGlyphs\" textLength=\"32\" x=\"38\" y=\"109.9526\">pdest</text><line style=\"stroke: #383838; stroke-width: 1.0;\" x1=\"33\" x2=\"42\" y1=\"93.3398\" y2=\"93.3398\"/><text fill=\"#000000\" font-family=\"sans-serif\" font-size=\"11\" lengthAdjust=\"spacingAndGlyphs\" textLength=\"30\" x=\"42\" y=\"96.6479\">ports</text><line style=\"stroke: #383838; stroke-width: 1.0;\" x1=\"72\" x2=\"81\" y1=\"93.3398\" y2=\"93.3398\"/></a><!--MD5=[b9389687b975829384b498ac4b7476b2]\n",
       "class E8--><a href=\"psysml:6cb98d60-0ab8-42f0-badc-3a033a17e212\" target=\"_top\" title=\"psysml:6cb98d60-0ab8-42f0-badc-3a033a17e212\" xlink:actuate=\"onRequest\" xlink:href=\"psysml:6cb98d60-0ab8-42f0-badc-3a033a17e212\" xlink:show=\"new\" xlink:title=\"psysml:6cb98d60-0ab8-42f0-badc-3a033a17e212\" xlink:type=\"simple\"><rect fill=\"#FFFFFF\" height=\"45.9375\" id=\"E8\" rx=\"10\" ry=\"10\" style=\"stroke: #383838; stroke-width: 1.5;\" width=\"46\" x=\"79\" y=\"313\"/><text fill=\"#000000\" font-family=\"sans-serif\" font-size=\"12\" font-style=\"italic\" lengthAdjust=\"spacingAndGlyphs\" textLength=\"40\" x=\"82\" y=\"329.1387\">«port»</text><text fill=\"#000000\" font-family=\"sans-serif\" font-size=\"12\" lengthAdjust=\"spacingAndGlyphs\" textLength=\"36\" x=\"82\" y=\"343.1074\">pdest</text><line style=\"stroke: #383838; stroke-width: 1.5;\" x1=\"80\" x2=\"124\" y1=\"350.9375\" y2=\"350.9375\"/></a><!--MD5=[4672eba38e49728da53d11aeb285b987]\n",
       "reverse link E3 to E4--><a href=\"psysml:b408bcfe-af80-429f-8bb7-74524c32282e\" target=\"_top\" title=\"psysml:b408bcfe-af80-429f-8bb7-74524c32282e\" xlink:actuate=\"onRequest\" xlink:href=\"psysml:b408bcfe-af80-429f-8bb7-74524c32282e\" xlink:show=\"new\" xlink:title=\"psysml:b408bcfe-af80-429f-8bb7-74524c32282e\" xlink:type=\"simple\"><path d=\"M191.31,266.34 C190.76,282.61 190.18,299.81 189.74,312.93 \" fill=\"none\" id=\"E3&lt;-E4\" style=\"stroke: #383838; stroke-width: 1.0;\"/><polygon fill=\"#FFFFFF\" points=\"191.76,253,187.558,258.8603,191.3514,264.993,195.5534,259.1327,191.76,253\" style=\"stroke: #383838; stroke-width: 1.0;\"/><text fill=\"#000000\" font-family=\"sans-serif\" font-size=\"13\" lengthAdjust=\"spacingAndGlyphs\" textLength=\"8\" x=\"180.8639\" y=\"301.8075\">1</text></a><!--MD5=[e9be52314489bd878ff4c7144b63c9e1]\n",
       "link E5 to E3--><a href=\"psysml:de9d1539-3df1-480f-91a9-ed9f950b1f96\" target=\"_top\" title=\"psysml:de9d1539-3df1-480f-91a9-ed9f950b1f96\" xlink:actuate=\"onRequest\" xlink:href=\"psysml:de9d1539-3df1-480f-91a9-ed9f950b1f96\" xlink:show=\"new\" xlink:title=\"psysml:de9d1539-3df1-480f-91a9-ed9f950b1f96\" xlink:type=\"simple\"><path d=\"M150.42,102.13 C156.21,117.35 164.18,138.29 171.66,157.93 \" fill=\"none\" id=\"E5-&gt;E3\" style=\"stroke: #383838; stroke-width: 1.0;\"/><polygon fill=\"#FFFFFF\" points=\"178.88,176.89,165.5815,161.6208,178.6665,156.6427,178.88,176.89\" style=\"stroke: #383838; stroke-width: 1.0;\"/><ellipse cx=\"165.424\" cy=\"155.5821\" fill=\"#383838\" rx=\"2\" ry=\"2\" style=\"stroke: #383838; stroke-width: 1.0;\"/><ellipse cx=\"174.7704\" cy=\"152.0263\" fill=\"#383838\" rx=\"2\" ry=\"2\" style=\"stroke: #383838; stroke-width: 1.0;\"/></a><!--MD5=[85d356282659285ab4b2cfe2f634dd2b]\n",
       "reverse link E5 to E6--><a href=\"psysml:1d973b34-aa26-4796-bb60-99a7b7743581\" target=\"_top\" title=\"psysml:1d973b34-aa26-4796-bb60-99a7b7743581\" xlink:actuate=\"onRequest\" xlink:href=\"psysml:1d973b34-aa26-4796-bb60-99a7b7743581\" xlink:show=\"new\" xlink:title=\"psysml:1d973b34-aa26-4796-bb60-99a7b7743581\" xlink:type=\"simple\"><path d=\"M131.62,114.76 C124.36,139.1 114.87,170.88 108.61,191.84 \" fill=\"none\" id=\"E5&lt;-E6\" style=\"stroke: #383838; stroke-width: 1.0;\"/><polygon fill=\"#FFFFFF\" points=\"135.39,102.13,129.8375,106.7311,131.9491,113.6261,137.5016,109.025,135.39,102.13\" style=\"stroke: #383838; stroke-width: 1.0;\"/><text fill=\"#000000\" font-family=\"sans-serif\" font-size=\"13\" lengthAdjust=\"spacingAndGlyphs\" textLength=\"8\" x=\"101.2788\" y=\"181.0753\">1</text></a><!--MD5=[f667431f98296947986a1a7595a31603]\n",
       "link E6 to E4--><a href=\"psysml:73eeba8b-cad5-4501-9cd6-c52ba77489ee\" target=\"_top\" title=\"psysml:73eeba8b-cad5-4501-9cd6-c52ba77489ee\" xlink:actuate=\"onRequest\" xlink:href=\"psysml:73eeba8b-cad5-4501-9cd6-c52ba77489ee\" xlink:show=\"new\" xlink:title=\"psysml:73eeba8b-cad5-4501-9cd6-c52ba77489ee\" xlink:type=\"simple\"><path d=\"M118.16,238.1 C130.11,254.45 146.69,277.12 160.8,296.43 \" fill=\"none\" id=\"E6-&gt;E4\" style=\"stroke: #383838; stroke-width: 1.0;\"/><polygon fill=\"#FFFFFF\" points=\"172.63,312.61,155.76,301.4117,167.0576,293.1434,172.63,312.61\" style=\"stroke: #383838; stroke-width: 1.0;\"/><line style=\"stroke: #383838; stroke-width: 2.0;\" x1=\"153.5158\" x2=\"164.8134\" y1=\"298.3452\" y2=\"290.0769\"/></a><!--MD5=[14ccda38c055a5c0da953d572bc50960]\n",
       "link E7 to E3--><a href=\"psysml:52eea9f8-f20f-41d5-8944-6f19cdd988b1\" target=\"_top\" title=\"psysml:52eea9f8-f20f-41d5-8944-6f19cdd988b1\" xlink:actuate=\"onRequest\" xlink:href=\"psysml:52eea9f8-f20f-41d5-8944-6f19cdd988b1\" xlink:show=\"new\" xlink:title=\"psysml:52eea9f8-f20f-41d5-8944-6f19cdd988b1\" xlink:type=\"simple\"><path d=\"M82.26,104.89 C99.38,121.76 122.59,144.62 143.33,165.06 \" fill=\"none\" id=\"E7-&gt;E3\" style=\"stroke: #383838; stroke-width: 1.0;\"/><polygon fill=\"#FFFFFF\" points=\"157.88,179.39,139.4314,171.0443,149.2556,161.0701,157.88,179.39\" style=\"stroke: #383838; stroke-width: 1.0;\"/><ellipse cx=\"136.774\" cy=\"165.6196\" fill=\"#383838\" rx=\"2\" ry=\"2\" style=\"stroke: #383838; stroke-width: 1.0;\"/><ellipse cx=\"143.7912\" cy=\"158.4951\" fill=\"#383838\" rx=\"2\" ry=\"2\" style=\"stroke: #383838; stroke-width: 1.0;\"/></a><!--MD5=[dc164f5e8a733ab456ef1add180e9e34]\n",
       "reverse link E7 to E8--><a href=\"psysml:7dc24cb7-d6ba-40a4-b073-8d397bf1a7ae\" target=\"_top\" title=\"psysml:7dc24cb7-d6ba-40a4-b073-8d397bf1a7ae\" xlink:actuate=\"onRequest\" xlink:href=\"psysml:7dc24cb7-d6ba-40a4-b073-8d397bf1a7ae\" xlink:show=\"new\" xlink:title=\"psysml:7dc24cb7-d6ba-40a4-b073-8d397bf1a7ae\" xlink:type=\"simple\"><path d=\"M53.89,130.23 C52.97,165.15 54.21,212.5 64,253 C69.16,274.35 80.04,296.87 88.84,312.9 \" fill=\"none\" id=\"E7&lt;-E8\" style=\"stroke: #383838; stroke-width: 1.0;\"/><polygon fill=\"#FFFFFF\" points=\"54.36,117.03,50.1514,122.8856,53.9378,129.0226,58.1464,123.167,54.36,117.03\" style=\"stroke: #383838; stroke-width: 1.0;\"/><text fill=\"#000000\" font-family=\"sans-serif\" font-size=\"13\" lengthAdjust=\"spacingAndGlyphs\" textLength=\"8\" x=\"86.3783\" y=\"301.7694\">1</text></a><!--MD5=[0a839d0f80c2d72d4b9b307f046d0de8]\n",
       "link E6 to E8--><a href=\"psysml:6785e7ae-ef30-46fa-a69d-d6daab2c7c15\" target=\"_top\" title=\"psysml:6785e7ae-ef30-46fa-a69d-d6daab2c7c15\" xlink:actuate=\"onRequest\" xlink:href=\"psysml:6785e7ae-ef30-46fa-a69d-d6daab2c7c15\" xlink:show=\"new\" xlink:title=\"psysml:6785e7ae-ef30-46fa-a69d-d6daab2c7c15\" xlink:type=\"simple\"><path d=\"M91.82,238.1 C88.41,259.34 88.39,291.28 91.78,312.61 \" fill=\"none\" id=\"E6-E8\" style=\"stroke: #383838; stroke-width: 3.0;\"/><text fill=\"#000000\" font-family=\"sans-serif\" font-size=\"13\" lengthAdjust=\"spacingAndGlyphs\" textLength=\"7\" x=\"81.2643\" y=\"301.7864\">*</text></a><!--MD5=[0a839d0f80c2d72d4b9b307f046d0de8]\n",
       "link E6 to E8--><a href=\"psysml:868c8138-312d-42c2-8f4f-f83047efce23\" target=\"_top\" title=\"psysml:868c8138-312d-42c2-8f4f-f83047efce23\" xlink:actuate=\"onRequest\" xlink:href=\"psysml:868c8138-312d-42c2-8f4f-f83047efce23\" xlink:show=\"new\" xlink:title=\"psysml:868c8138-312d-42c2-8f4f-f83047efce23\" xlink:type=\"simple\"><path d=\"M112.78,238.1 C116.39,259.34 116.41,291.28 112.82,312.61 \" fill=\"none\" id=\"E6-E8-1\" style=\"stroke: #383838; stroke-width: 3.0;\"/><text fill=\"#000000\" font-family=\"sans-serif\" font-size=\"13\" lengthAdjust=\"spacingAndGlyphs\" textLength=\"7\" x=\"107.6957\" y=\"301.7864\">*</text></a><!--MD5=[f1acc1ce242618bf8e4812bba2b04690]\n",
       "@startuml\r\n",
       "skinparam monochrome true\r\n",
       "skinparam classbackgroundcolor white\r\n",
       "skinparam shadowing false\r\n",
       "skinparam wrapWidth 300\r\n",
       "hide circle\r\n",
       "\r\n",
       "package \"AliasTest\" as E1  [[psysml:02b7e9b9-6677-468f-8dad-8ced33a218a4 ]]  {\r\n",
       "comp usage \"b :> ISQSpaceTime::width\" as E2  <<(T,blue) attribute>> [[psysml:c7feeda3-a834-41bb-a074-923ea0011430 ]] {\r\n",
       "}\r\n",
       "comp def \"P1\" as E3  <<(T,blue) part  def>> [[psysml:1a450028-471a-4a88-b6bb-254dda2007f7 ]] {\r\n",
       "- - ports - -\r\n",
       "porig1\r\n",
       "}\r\n",
       "comp usage \"porig1 \" as E4  <<(T,blue) port>> [[psysml:528ad082-e547-41e1-93e2-4f734da3b1f6 ]] {\r\n",
       "}\r\n",
       "comp usage \"p1: P1 \" as E5  <<(T,blue) part>> [[psysml:73838eb5-9ecb-4193-8391-1ddf76ff61b3 ]] {\r\n",
       "}\r\n",
       "comp usage \"po1 \" as E6  <<(T,blue) port>> [[psysml:6875339d-23d6-4973-8a77-102c2bf220f1 ]] {\r\n",
       "}\r\n",
       "comp usage \"p2: P1 \" as E7  <<(T,blue) part>> [[psysml:73d7b051-2240-4fe3-9278-fa0d634854f8 ]] {\r\n",
       "- - ports - -\r\n",
       "pdest\r\n",
       "}\r\n",
       "comp usage \"pdest \" as E8  <<(T,blue) port>> [[psysml:6cb98d60-0ab8-42f0-badc-3a033a17e212 ]] {\r\n",
       "}\r\n",
       "}\r\n",
       "E3 o- - \"1\"E4 [[psysml:b408bcfe-af80-429f-8bb7-74524c32282e ]] \r\n",
       "E5 - -:|> E3 [[psysml:de9d1539-3df1-480f-91a9-ed9f950b1f96 ]] \r\n",
       "E5 o- - \"1\"E6 [[psysml:1d973b34-aa26-4796-bb60-99a7b7743581 ]] \r\n",
       "E6 - -||> E4 [[psysml:73eeba8b-cad5-4501-9cd6-c52ba77489ee ]] \r\n",
       "E7 - -:|> E3 [[psysml:52eea9f8-f20f-41d5-8944-6f19cdd988b1 ]] \r\n",
       "E7 o- - \"1\"E8 [[psysml:7dc24cb7-d6ba-40a4-b073-8d397bf1a7ae ]] \r\n",
       "E6 -[thickness=3]- \"*\"E8 [[psysml:6785e7ae-ef30-46fa-a69d-d6daab2c7c15 ]] \r\n",
       "E6 -[thickness=3]- \"*\"E8 [[psysml:868c8138-312d-42c2-8f4f-f83047efce23 ]] \r\n",
       "@enduml\r\n",
       "\n",
       "PlantUML version 1.2020.13(Sat Jun 13 12:26:38 UTC 2020)\n",
       "(EPL source distribution)\n",
       "Java Runtime: OpenJDK Runtime Environment\n",
       "JVM: OpenJDK 64-Bit Server VM\n",
       "Default Encoding: UTF-8\n",
       "Language: en\n",
       "Country: null\n",
       "--></g></svg>"
      ]
     },
     "execution_count": 43,
     "metadata": {},
     "output_type": "execute_result"
    }
   ],
   "source": [
    "%viz --style=\"DEFAULT\" --view=\"MIXED\" \"AliasTest\""
   ]
  },
  {
   "cell_type": "code",
   "execution_count": 44,
   "id": "089e5e77",
   "metadata": {
    "execution": {
     "iopub.execute_input": "2022-08-19T08:20:50.942485Z",
     "iopub.status.busy": "2022-08-19T08:20:50.942044Z",
     "iopub.status.idle": "2022-08-19T08:20:51.004340Z",
     "shell.execute_reply": "2022-08-19T08:20:51.003955Z"
    }
   },
   "outputs": [
    {
     "data": {
      "image/svg+xml": [
       "<?xml version=\"1.0\" encoding=\"UTF-8\" standalone=\"no\"?><svg xmlns=\"http://www.w3.org/2000/svg\" xmlns:xlink=\"http://www.w3.org/1999/xlink\" contentScriptType=\"application/ecmascript\" contentStyleType=\"text/css\" height=\"387px\" preserveAspectRatio=\"none\" style=\"width:406px;height:387px;\" version=\"1.1\" viewBox=\"0 0 406 387\" width=\"406px\" zoomAndPan=\"magnify\"><defs/><g><!--MD5=[fbc87193dbaf4d95561dea2c320d4a47]\n",
       "cluster E1--><a href=\"psysml:02b7e9b9-6677-468f-8dad-8ced33a218a4\" target=\"_top\" title=\"psysml:02b7e9b9-6677-468f-8dad-8ced33a218a4\" xlink:actuate=\"onRequest\" xlink:href=\"psysml:02b7e9b9-6677-468f-8dad-8ced33a218a4\" xlink:show=\"new\" xlink:title=\"psysml:02b7e9b9-6677-468f-8dad-8ced33a218a4\" xlink:type=\"simple\"><polygon fill=\"#FFFFFF\" points=\"16,6,84,6,91,28.2969,384,28.2969,384,375,16,375,16,6\" style=\"stroke: #000000; stroke-width: 1.5;\"/><line style=\"stroke: #000000; stroke-width: 1.5;\" x1=\"16\" x2=\"91\" y1=\"28.2969\" y2=\"28.2969\"/><text fill=\"#000000\" font-family=\"sans-serif\" font-size=\"14\" font-weight=\"bold\" lengthAdjust=\"spacingAndGlyphs\" textLength=\"62\" x=\"20\" y=\"20.9951\">AliasTest</text></a><!--MD5=[b4997ac47864f28c2f74865a473b2911]\n",
       "class E2--><a href=\"psysml:c7feeda3-a834-41bb-a074-923ea0011430\" target=\"_top\" title=\"psysml:c7feeda3-a834-41bb-a074-923ea0011430\" xlink:actuate=\"onRequest\" xlink:href=\"psysml:c7feeda3-a834-41bb-a074-923ea0011430\" xlink:show=\"new\" xlink:title=\"psysml:c7feeda3-a834-41bb-a074-923ea0011430\" xlink:type=\"simple\"><rect fill=\"#FFFFFF\" height=\"45.9375\" id=\"E2\" rx=\"10\" ry=\"10\" style=\"stroke: #383838; stroke-width: 1.5;\" width=\"165\" x=\"202.5\" y=\"56\"/><text fill=\"#000000\" font-family=\"sans-serif\" font-size=\"12\" font-style=\"italic\" lengthAdjust=\"spacingAndGlyphs\" textLength=\"69\" x=\"250.5\" y=\"72.1387\">«attribute»</text><text fill=\"#000000\" font-family=\"sans-serif\" font-size=\"12\" lengthAdjust=\"spacingAndGlyphs\" textLength=\"159\" x=\"205.5\" y=\"86.1074\">b :&gt; ISQSpaceTime::width</text><line style=\"stroke: #383838; stroke-width: 1.5;\" x1=\"203.5\" x2=\"366.5\" y1=\"93.9375\" y2=\"93.9375\"/></a><!--MD5=[09b614a08d8cba4a07c9adeb5e0fee81]\n",
       "class E3--><a href=\"psysml:1a450028-471a-4a88-b6bb-254dda2007f7\" target=\"_top\" title=\"psysml:1a450028-471a-4a88-b6bb-254dda2007f7\" xlink:actuate=\"onRequest\" xlink:href=\"psysml:1a450028-471a-4a88-b6bb-254dda2007f7\" xlink:show=\"new\" xlink:title=\"psysml:1a450028-471a-4a88-b6bb-254dda2007f7\" xlink:type=\"simple\"><rect fill=\"#FFFFFF\" height=\"75.5469\" id=\"E3\" style=\"stroke: #383838; stroke-width: 1.5;\" width=\"70\" x=\"158\" y=\"177\"/><text fill=\"#000000\" font-family=\"sans-serif\" font-size=\"12\" font-style=\"italic\" lengthAdjust=\"spacingAndGlyphs\" textLength=\"68\" x=\"159\" y=\"193.1387\">«part  def»</text><text fill=\"#000000\" font-family=\"sans-serif\" font-size=\"12\" lengthAdjust=\"spacingAndGlyphs\" textLength=\"16\" x=\"185\" y=\"207.1074\">P1</text><line style=\"stroke: #383838; stroke-width: 1.5;\" x1=\"159\" x2=\"227\" y1=\"214.9375\" y2=\"214.9375\"/><text fill=\"#000000\" font-family=\"sans-serif\" font-size=\"11\" lengthAdjust=\"spacingAndGlyphs\" textLength=\"36\" x=\"164\" y=\"245.9526\">porig1</text><line style=\"stroke: #383838; stroke-width: 1.0;\" x1=\"159\" x2=\"178\" y1=\"229.3398\" y2=\"229.3398\"/><text fill=\"#000000\" font-family=\"sans-serif\" font-size=\"11\" lengthAdjust=\"spacingAndGlyphs\" textLength=\"30\" x=\"178\" y=\"232.6479\">ports</text><line style=\"stroke: #383838; stroke-width: 1.0;\" x1=\"208\" x2=\"227\" y1=\"229.3398\" y2=\"229.3398\"/></a><!--MD5=[ebbe1d658d1005bcc118a6aa81145e00]\n",
       "class E4--><a href=\"psysml:528ad082-e547-41e1-93e2-4f734da3b1f6\" target=\"_top\" title=\"psysml:528ad082-e547-41e1-93e2-4f734da3b1f6\" xlink:actuate=\"onRequest\" xlink:href=\"psysml:528ad082-e547-41e1-93e2-4f734da3b1f6\" xlink:show=\"new\" xlink:title=\"psysml:528ad082-e547-41e1-93e2-4f734da3b1f6\" xlink:type=\"simple\"><rect fill=\"#FFFFFF\" height=\"45.9375\" id=\"E4\" rx=\"10\" ry=\"10\" style=\"stroke: #383838; stroke-width: 1.5;\" width=\"50\" x=\"164\" y=\"313\"/><text fill=\"#000000\" font-family=\"sans-serif\" font-size=\"12\" font-style=\"italic\" lengthAdjust=\"spacingAndGlyphs\" textLength=\"40\" x=\"169\" y=\"329.1387\">«port»</text><text fill=\"#000000\" font-family=\"sans-serif\" font-size=\"12\" lengthAdjust=\"spacingAndGlyphs\" textLength=\"40\" x=\"167\" y=\"343.1074\">porig1</text><line style=\"stroke: #383838; stroke-width: 1.5;\" x1=\"165\" x2=\"213\" y1=\"350.9375\" y2=\"350.9375\"/></a><!--MD5=[270fce915f116d4de14055a7c1d9a0f3]\n",
       "class E5--><a href=\"psysml:73838eb5-9ecb-4193-8391-1ddf76ff61b3\" target=\"_top\" title=\"psysml:73838eb5-9ecb-4193-8391-1ddf76ff61b3\" xlink:actuate=\"onRequest\" xlink:href=\"psysml:73838eb5-9ecb-4193-8391-1ddf76ff61b3\" xlink:show=\"new\" xlink:title=\"psysml:73838eb5-9ecb-4193-8391-1ddf76ff61b3\" xlink:type=\"simple\"><rect fill=\"#FFFFFF\" height=\"45.9375\" id=\"E5\" rx=\"10\" ry=\"10\" style=\"stroke: #383838; stroke-width: 1.5;\" width=\"50\" x=\"117\" y=\"56\"/><text fill=\"#000000\" font-family=\"sans-serif\" font-size=\"12\" font-style=\"italic\" lengthAdjust=\"spacingAndGlyphs\" textLength=\"40\" x=\"122\" y=\"72.1387\">«part»</text><text fill=\"#000000\" font-family=\"sans-serif\" font-size=\"12\" lengthAdjust=\"spacingAndGlyphs\" textLength=\"40\" x=\"120\" y=\"86.1074\">p1: P1</text><line style=\"stroke: #383838; stroke-width: 1.5;\" x1=\"118\" x2=\"166\" y1=\"93.9375\" y2=\"93.9375\"/></a><!--MD5=[60a26617385b1d2d0262a64233df1f8d]\n",
       "class E6--><a href=\"psysml:6875339d-23d6-4973-8a77-102c2bf220f1\" target=\"_top\" title=\"psysml:6875339d-23d6-4973-8a77-102c2bf220f1\" xlink:actuate=\"onRequest\" xlink:href=\"psysml:6875339d-23d6-4973-8a77-102c2bf220f1\" xlink:show=\"new\" xlink:title=\"psysml:6875339d-23d6-4973-8a77-102c2bf220f1\" xlink:type=\"simple\"><rect fill=\"#FFFFFF\" height=\"45.9375\" id=\"E6\" rx=\"10\" ry=\"10\" style=\"stroke: #383838; stroke-width: 1.5;\" width=\"42\" x=\"81\" y=\"192\"/><text fill=\"#000000\" font-family=\"sans-serif\" font-size=\"12\" font-style=\"italic\" lengthAdjust=\"spacingAndGlyphs\" textLength=\"40\" x=\"82\" y=\"208.1387\">«port»</text><text fill=\"#000000\" font-family=\"sans-serif\" font-size=\"12\" lengthAdjust=\"spacingAndGlyphs\" textLength=\"24\" x=\"88\" y=\"222.1074\">po1</text><line style=\"stroke: #383838; stroke-width: 1.5;\" x1=\"82\" x2=\"122\" y1=\"229.9375\" y2=\"229.9375\"/></a><!--MD5=[2156ba9850f5573cc1fc38a6a4b2f02b]\n",
       "class E7--><a href=\"psysml:73d7b051-2240-4fe3-9278-fa0d634854f8\" target=\"_top\" title=\"psysml:73d7b051-2240-4fe3-9278-fa0d634854f8\" xlink:actuate=\"onRequest\" xlink:href=\"psysml:73d7b051-2240-4fe3-9278-fa0d634854f8\" xlink:show=\"new\" xlink:title=\"psysml:73d7b051-2240-4fe3-9278-fa0d634854f8\" xlink:type=\"simple\"><rect fill=\"#FFFFFF\" height=\"75.5469\" id=\"E7\" rx=\"10\" ry=\"10\" style=\"stroke: #383838; stroke-width: 1.5;\" width=\"50\" x=\"32\" y=\"41\"/><text fill=\"#000000\" font-family=\"sans-serif\" font-size=\"12\" font-style=\"italic\" lengthAdjust=\"spacingAndGlyphs\" textLength=\"40\" x=\"37\" y=\"57.1387\">«part»</text><text fill=\"#000000\" font-family=\"sans-serif\" font-size=\"12\" lengthAdjust=\"spacingAndGlyphs\" textLength=\"40\" x=\"35\" y=\"71.1074\">p2: P1</text><line style=\"stroke: #383838; stroke-width: 1.5;\" x1=\"33\" x2=\"81\" y1=\"78.9375\" y2=\"78.9375\"/><text fill=\"#000000\" font-family=\"sans-serif\" font-size=\"11\" lengthAdjust=\"spacingAndGlyphs\" textLength=\"32\" x=\"38\" y=\"109.9526\">pdest</text><line style=\"stroke: #383838; stroke-width: 1.0;\" x1=\"33\" x2=\"42\" y1=\"93.3398\" y2=\"93.3398\"/><text fill=\"#000000\" font-family=\"sans-serif\" font-size=\"11\" lengthAdjust=\"spacingAndGlyphs\" textLength=\"30\" x=\"42\" y=\"96.6479\">ports</text><line style=\"stroke: #383838; stroke-width: 1.0;\" x1=\"72\" x2=\"81\" y1=\"93.3398\" y2=\"93.3398\"/></a><!--MD5=[b9389687b975829384b498ac4b7476b2]\n",
       "class E8--><a href=\"psysml:6cb98d60-0ab8-42f0-badc-3a033a17e212\" target=\"_top\" title=\"psysml:6cb98d60-0ab8-42f0-badc-3a033a17e212\" xlink:actuate=\"onRequest\" xlink:href=\"psysml:6cb98d60-0ab8-42f0-badc-3a033a17e212\" xlink:show=\"new\" xlink:title=\"psysml:6cb98d60-0ab8-42f0-badc-3a033a17e212\" xlink:type=\"simple\"><rect fill=\"#FFFFFF\" height=\"45.9375\" id=\"E8\" rx=\"10\" ry=\"10\" style=\"stroke: #383838; stroke-width: 1.5;\" width=\"46\" x=\"79\" y=\"313\"/><text fill=\"#000000\" font-family=\"sans-serif\" font-size=\"12\" font-style=\"italic\" lengthAdjust=\"spacingAndGlyphs\" textLength=\"40\" x=\"82\" y=\"329.1387\">«port»</text><text fill=\"#000000\" font-family=\"sans-serif\" font-size=\"12\" lengthAdjust=\"spacingAndGlyphs\" textLength=\"36\" x=\"82\" y=\"343.1074\">pdest</text><line style=\"stroke: #383838; stroke-width: 1.5;\" x1=\"80\" x2=\"124\" y1=\"350.9375\" y2=\"350.9375\"/></a><!--MD5=[4672eba38e49728da53d11aeb285b987]\n",
       "reverse link E3 to E4--><a href=\"psysml:b408bcfe-af80-429f-8bb7-74524c32282e\" target=\"_top\" title=\"psysml:b408bcfe-af80-429f-8bb7-74524c32282e\" xlink:actuate=\"onRequest\" xlink:href=\"psysml:b408bcfe-af80-429f-8bb7-74524c32282e\" xlink:show=\"new\" xlink:title=\"psysml:b408bcfe-af80-429f-8bb7-74524c32282e\" xlink:type=\"simple\"><path d=\"M191.31,266.34 C190.76,282.61 190.18,299.81 189.74,312.93 \" fill=\"none\" id=\"E3&lt;-E4\" style=\"stroke: #383838; stroke-width: 1.0;\"/><polygon fill=\"#FFFFFF\" points=\"191.76,253,187.558,258.8603,191.3514,264.993,195.5534,259.1327,191.76,253\" style=\"stroke: #383838; stroke-width: 1.0;\"/><text fill=\"#000000\" font-family=\"sans-serif\" font-size=\"13\" lengthAdjust=\"spacingAndGlyphs\" textLength=\"8\" x=\"180.8639\" y=\"301.8075\">1</text></a><!--MD5=[e9be52314489bd878ff4c7144b63c9e1]\n",
       "link E5 to E3--><a href=\"psysml:de9d1539-3df1-480f-91a9-ed9f950b1f96\" target=\"_top\" title=\"psysml:de9d1539-3df1-480f-91a9-ed9f950b1f96\" xlink:actuate=\"onRequest\" xlink:href=\"psysml:de9d1539-3df1-480f-91a9-ed9f950b1f96\" xlink:show=\"new\" xlink:title=\"psysml:de9d1539-3df1-480f-91a9-ed9f950b1f96\" xlink:type=\"simple\"><path d=\"M150.42,102.13 C156.21,117.35 164.18,138.29 171.66,157.93 \" fill=\"none\" id=\"E5-&gt;E3\" style=\"stroke: #383838; stroke-width: 1.0;\"/><polygon fill=\"#FFFFFF\" points=\"178.88,176.89,165.5815,161.6208,178.6665,156.6427,178.88,176.89\" style=\"stroke: #383838; stroke-width: 1.0;\"/><ellipse cx=\"165.424\" cy=\"155.5821\" fill=\"#383838\" rx=\"2\" ry=\"2\" style=\"stroke: #383838; stroke-width: 1.0;\"/><ellipse cx=\"174.7704\" cy=\"152.0263\" fill=\"#383838\" rx=\"2\" ry=\"2\" style=\"stroke: #383838; stroke-width: 1.0;\"/></a><!--MD5=[85d356282659285ab4b2cfe2f634dd2b]\n",
       "reverse link E5 to E6--><a href=\"psysml:1d973b34-aa26-4796-bb60-99a7b7743581\" target=\"_top\" title=\"psysml:1d973b34-aa26-4796-bb60-99a7b7743581\" xlink:actuate=\"onRequest\" xlink:href=\"psysml:1d973b34-aa26-4796-bb60-99a7b7743581\" xlink:show=\"new\" xlink:title=\"psysml:1d973b34-aa26-4796-bb60-99a7b7743581\" xlink:type=\"simple\"><path d=\"M131.62,114.76 C124.36,139.1 114.87,170.88 108.61,191.84 \" fill=\"none\" id=\"E5&lt;-E6\" style=\"stroke: #383838; stroke-width: 1.0;\"/><polygon fill=\"#FFFFFF\" points=\"135.39,102.13,129.8375,106.7311,131.9491,113.6261,137.5016,109.025,135.39,102.13\" style=\"stroke: #383838; stroke-width: 1.0;\"/><text fill=\"#000000\" font-family=\"sans-serif\" font-size=\"13\" lengthAdjust=\"spacingAndGlyphs\" textLength=\"8\" x=\"101.2788\" y=\"181.0753\">1</text></a><!--MD5=[f667431f98296947986a1a7595a31603]\n",
       "link E6 to E4--><a href=\"psysml:73eeba8b-cad5-4501-9cd6-c52ba77489ee\" target=\"_top\" title=\"psysml:73eeba8b-cad5-4501-9cd6-c52ba77489ee\" xlink:actuate=\"onRequest\" xlink:href=\"psysml:73eeba8b-cad5-4501-9cd6-c52ba77489ee\" xlink:show=\"new\" xlink:title=\"psysml:73eeba8b-cad5-4501-9cd6-c52ba77489ee\" xlink:type=\"simple\"><path d=\"M118.16,238.1 C130.11,254.45 146.69,277.12 160.8,296.43 \" fill=\"none\" id=\"E6-&gt;E4\" style=\"stroke: #383838; stroke-width: 1.0;\"/><polygon fill=\"#FFFFFF\" points=\"172.63,312.61,155.76,301.4117,167.0576,293.1434,172.63,312.61\" style=\"stroke: #383838; stroke-width: 1.0;\"/><line style=\"stroke: #383838; stroke-width: 2.0;\" x1=\"153.5158\" x2=\"164.8134\" y1=\"298.3452\" y2=\"290.0769\"/></a><!--MD5=[14ccda38c055a5c0da953d572bc50960]\n",
       "link E7 to E3--><a href=\"psysml:52eea9f8-f20f-41d5-8944-6f19cdd988b1\" target=\"_top\" title=\"psysml:52eea9f8-f20f-41d5-8944-6f19cdd988b1\" xlink:actuate=\"onRequest\" xlink:href=\"psysml:52eea9f8-f20f-41d5-8944-6f19cdd988b1\" xlink:show=\"new\" xlink:title=\"psysml:52eea9f8-f20f-41d5-8944-6f19cdd988b1\" xlink:type=\"simple\"><path d=\"M82.26,104.89 C99.38,121.76 122.59,144.62 143.33,165.06 \" fill=\"none\" id=\"E7-&gt;E3\" style=\"stroke: #383838; stroke-width: 1.0;\"/><polygon fill=\"#FFFFFF\" points=\"157.88,179.39,139.4314,171.0443,149.2556,161.0701,157.88,179.39\" style=\"stroke: #383838; stroke-width: 1.0;\"/><ellipse cx=\"136.774\" cy=\"165.6196\" fill=\"#383838\" rx=\"2\" ry=\"2\" style=\"stroke: #383838; stroke-width: 1.0;\"/><ellipse cx=\"143.7912\" cy=\"158.4951\" fill=\"#383838\" rx=\"2\" ry=\"2\" style=\"stroke: #383838; stroke-width: 1.0;\"/></a><!--MD5=[dc164f5e8a733ab456ef1add180e9e34]\n",
       "reverse link E7 to E8--><a href=\"psysml:7dc24cb7-d6ba-40a4-b073-8d397bf1a7ae\" target=\"_top\" title=\"psysml:7dc24cb7-d6ba-40a4-b073-8d397bf1a7ae\" xlink:actuate=\"onRequest\" xlink:href=\"psysml:7dc24cb7-d6ba-40a4-b073-8d397bf1a7ae\" xlink:show=\"new\" xlink:title=\"psysml:7dc24cb7-d6ba-40a4-b073-8d397bf1a7ae\" xlink:type=\"simple\"><path d=\"M53.89,130.23 C52.97,165.15 54.21,212.5 64,253 C69.16,274.35 80.04,296.87 88.84,312.9 \" fill=\"none\" id=\"E7&lt;-E8\" style=\"stroke: #383838; stroke-width: 1.0;\"/><polygon fill=\"#FFFFFF\" points=\"54.36,117.03,50.1514,122.8856,53.9378,129.0226,58.1464,123.167,54.36,117.03\" style=\"stroke: #383838; stroke-width: 1.0;\"/><text fill=\"#000000\" font-family=\"sans-serif\" font-size=\"13\" lengthAdjust=\"spacingAndGlyphs\" textLength=\"8\" x=\"86.3783\" y=\"301.7694\">1</text></a><!--MD5=[0a839d0f80c2d72d4b9b307f046d0de8]\n",
       "link E6 to E8--><a href=\"psysml:6785e7ae-ef30-46fa-a69d-d6daab2c7c15\" target=\"_top\" title=\"psysml:6785e7ae-ef30-46fa-a69d-d6daab2c7c15\" xlink:actuate=\"onRequest\" xlink:href=\"psysml:6785e7ae-ef30-46fa-a69d-d6daab2c7c15\" xlink:show=\"new\" xlink:title=\"psysml:6785e7ae-ef30-46fa-a69d-d6daab2c7c15\" xlink:type=\"simple\"><path d=\"M91.82,238.1 C88.41,259.34 88.39,291.28 91.78,312.61 \" fill=\"none\" id=\"E6-E8\" style=\"stroke: #383838; stroke-width: 3.0;\"/><text fill=\"#000000\" font-family=\"sans-serif\" font-size=\"13\" lengthAdjust=\"spacingAndGlyphs\" textLength=\"7\" x=\"81.2643\" y=\"301.7864\">*</text></a><!--MD5=[0a839d0f80c2d72d4b9b307f046d0de8]\n",
       "link E6 to E8--><a href=\"psysml:868c8138-312d-42c2-8f4f-f83047efce23\" target=\"_top\" title=\"psysml:868c8138-312d-42c2-8f4f-f83047efce23\" xlink:actuate=\"onRequest\" xlink:href=\"psysml:868c8138-312d-42c2-8f4f-f83047efce23\" xlink:show=\"new\" xlink:title=\"psysml:868c8138-312d-42c2-8f4f-f83047efce23\" xlink:type=\"simple\"><path d=\"M112.78,238.1 C116.39,259.34 116.41,291.28 112.82,312.61 \" fill=\"none\" id=\"E6-E8-1\" style=\"stroke: #383838; stroke-width: 3.0;\"/><text fill=\"#000000\" font-family=\"sans-serif\" font-size=\"13\" lengthAdjust=\"spacingAndGlyphs\" textLength=\"7\" x=\"107.6957\" y=\"301.7864\">*</text></a><!--MD5=[3b417bcca3d6c8bb1631991c411adf03]\n",
       "@startuml\r\n",
       "top to bottom direction\r\n",
       "skinparam monochrome true\r\n",
       "skinparam classbackgroundcolor white\r\n",
       "skinparam shadowing false\r\n",
       "skinparam wrapWidth 300\r\n",
       "hide circle\r\n",
       "\r\n",
       "package \"AliasTest\" as E1  [[psysml:02b7e9b9-6677-468f-8dad-8ced33a218a4 ]]  {\r\n",
       "comp usage \"b :> ISQSpaceTime::width\" as E2  <<(T,blue) attribute>> [[psysml:c7feeda3-a834-41bb-a074-923ea0011430 ]] {\r\n",
       "}\r\n",
       "comp def \"P1\" as E3  <<(T,blue) part  def>> [[psysml:1a450028-471a-4a88-b6bb-254dda2007f7 ]] {\r\n",
       "- - ports - -\r\n",
       "porig1\r\n",
       "}\r\n",
       "comp usage \"porig1 \" as E4  <<(T,blue) port>> [[psysml:528ad082-e547-41e1-93e2-4f734da3b1f6 ]] {\r\n",
       "}\r\n",
       "comp usage \"p1: P1 \" as E5  <<(T,blue) part>> [[psysml:73838eb5-9ecb-4193-8391-1ddf76ff61b3 ]] {\r\n",
       "}\r\n",
       "comp usage \"po1 \" as E6  <<(T,blue) port>> [[psysml:6875339d-23d6-4973-8a77-102c2bf220f1 ]] {\r\n",
       "}\r\n",
       "comp usage \"p2: P1 \" as E7  <<(T,blue) part>> [[psysml:73d7b051-2240-4fe3-9278-fa0d634854f8 ]] {\r\n",
       "- - ports - -\r\n",
       "pdest\r\n",
       "}\r\n",
       "comp usage \"pdest \" as E8  <<(T,blue) port>> [[psysml:6cb98d60-0ab8-42f0-badc-3a033a17e212 ]] {\r\n",
       "}\r\n",
       "}\r\n",
       "E3 o- - \"1\"E4 [[psysml:b408bcfe-af80-429f-8bb7-74524c32282e ]] \r\n",
       "E5 - -:|> E3 [[psysml:de9d1539-3df1-480f-91a9-ed9f950b1f96 ]] \r\n",
       "E5 o- - \"1\"E6 [[psysml:1d973b34-aa26-4796-bb60-99a7b7743581 ]] \r\n",
       "E6 - -||> E4 [[psysml:73eeba8b-cad5-4501-9cd6-c52ba77489ee ]] \r\n",
       "E7 - -:|> E3 [[psysml:52eea9f8-f20f-41d5-8944-6f19cdd988b1 ]] \r\n",
       "E7 o- - \"1\"E8 [[psysml:7dc24cb7-d6ba-40a4-b073-8d397bf1a7ae ]] \r\n",
       "E6 -[thickness=3]- \"*\"E8 [[psysml:6785e7ae-ef30-46fa-a69d-d6daab2c7c15 ]] \r\n",
       "E6 -[thickness=3]- \"*\"E8 [[psysml:868c8138-312d-42c2-8f4f-f83047efce23 ]] \r\n",
       "@enduml\r\n",
       "\n",
       "PlantUML version 1.2020.13(Sat Jun 13 12:26:38 UTC 2020)\n",
       "(EPL source distribution)\n",
       "Java Runtime: OpenJDK Runtime Environment\n",
       "JVM: OpenJDK 64-Bit Server VM\n",
       "Default Encoding: UTF-8\n",
       "Language: en\n",
       "Country: null\n",
       "--></g></svg>"
      ]
     },
     "execution_count": 44,
     "metadata": {},
     "output_type": "execute_result"
    }
   ],
   "source": [
    "%viz --style=\"TB\" --view=\"Default\" \"AliasTest\""
   ]
  },
  {
   "cell_type": "code",
   "execution_count": 45,
   "id": "44b04d1b",
   "metadata": {
    "execution": {
     "iopub.execute_input": "2022-08-19T08:20:51.054041Z",
     "iopub.status.busy": "2022-08-19T08:20:51.053574Z",
     "iopub.status.idle": "2022-08-19T08:20:51.116421Z",
     "shell.execute_reply": "2022-08-19T08:20:51.114869Z"
    }
   },
   "outputs": [
    {
     "data": {
      "image/svg+xml": [
       "<?xml version=\"1.0\" encoding=\"UTF-8\" standalone=\"no\"?><svg xmlns=\"http://www.w3.org/2000/svg\" xmlns:xlink=\"http://www.w3.org/1999/xlink\" contentScriptType=\"application/ecmascript\" contentStyleType=\"text/css\" height=\"387px\" preserveAspectRatio=\"none\" style=\"width:406px;height:387px;\" version=\"1.1\" viewBox=\"0 0 406 387\" width=\"406px\" zoomAndPan=\"magnify\"><defs/><g><!--MD5=[fbc87193dbaf4d95561dea2c320d4a47]\n",
       "cluster E1--><a href=\"psysml:02b7e9b9-6677-468f-8dad-8ced33a218a4\" target=\"_top\" title=\"psysml:02b7e9b9-6677-468f-8dad-8ced33a218a4\" xlink:actuate=\"onRequest\" xlink:href=\"psysml:02b7e9b9-6677-468f-8dad-8ced33a218a4\" xlink:show=\"new\" xlink:title=\"psysml:02b7e9b9-6677-468f-8dad-8ced33a218a4\" xlink:type=\"simple\"><polygon fill=\"#FFFFFF\" points=\"16,6,84,6,91,28.2969,384,28.2969,384,375,16,375,16,6\" style=\"stroke: #000000; stroke-width: 1.5;\"/><line style=\"stroke: #000000; stroke-width: 1.5;\" x1=\"16\" x2=\"91\" y1=\"28.2969\" y2=\"28.2969\"/><text fill=\"#000000\" font-family=\"sans-serif\" font-size=\"14\" font-weight=\"bold\" lengthAdjust=\"spacingAndGlyphs\" textLength=\"62\" x=\"20\" y=\"20.9951\">AliasTest</text></a><!--MD5=[b4997ac47864f28c2f74865a473b2911]\n",
       "class E2--><a href=\"psysml:c7feeda3-a834-41bb-a074-923ea0011430\" target=\"_top\" title=\"psysml:c7feeda3-a834-41bb-a074-923ea0011430\" xlink:actuate=\"onRequest\" xlink:href=\"psysml:c7feeda3-a834-41bb-a074-923ea0011430\" xlink:show=\"new\" xlink:title=\"psysml:c7feeda3-a834-41bb-a074-923ea0011430\" xlink:type=\"simple\"><rect fill=\"#FFFFFF\" height=\"45.9375\" id=\"E2\" rx=\"10\" ry=\"10\" style=\"stroke: #383838; stroke-width: 1.5;\" width=\"165\" x=\"202.5\" y=\"56\"/><text fill=\"#000000\" font-family=\"sans-serif\" font-size=\"12\" font-style=\"italic\" lengthAdjust=\"spacingAndGlyphs\" textLength=\"69\" x=\"250.5\" y=\"72.1387\">«attribute»</text><text fill=\"#000000\" font-family=\"sans-serif\" font-size=\"12\" lengthAdjust=\"spacingAndGlyphs\" textLength=\"159\" x=\"205.5\" y=\"86.1074\">b :&gt; ISQSpaceTime::width</text><line style=\"stroke: #383838; stroke-width: 1.5;\" x1=\"203.5\" x2=\"366.5\" y1=\"93.9375\" y2=\"93.9375\"/></a><!--MD5=[09b614a08d8cba4a07c9adeb5e0fee81]\n",
       "class E3--><a href=\"psysml:1a450028-471a-4a88-b6bb-254dda2007f7\" target=\"_top\" title=\"psysml:1a450028-471a-4a88-b6bb-254dda2007f7\" xlink:actuate=\"onRequest\" xlink:href=\"psysml:1a450028-471a-4a88-b6bb-254dda2007f7\" xlink:show=\"new\" xlink:title=\"psysml:1a450028-471a-4a88-b6bb-254dda2007f7\" xlink:type=\"simple\"><rect fill=\"#FFFFFF\" height=\"75.5469\" id=\"E3\" style=\"stroke: #383838; stroke-width: 1.5;\" width=\"70\" x=\"158\" y=\"177\"/><text fill=\"#000000\" font-family=\"sans-serif\" font-size=\"12\" font-style=\"italic\" lengthAdjust=\"spacingAndGlyphs\" textLength=\"68\" x=\"159\" y=\"193.1387\">«part  def»</text><text fill=\"#000000\" font-family=\"sans-serif\" font-size=\"12\" lengthAdjust=\"spacingAndGlyphs\" textLength=\"16\" x=\"185\" y=\"207.1074\">P1</text><line style=\"stroke: #383838; stroke-width: 1.5;\" x1=\"159\" x2=\"227\" y1=\"214.9375\" y2=\"214.9375\"/><text fill=\"#000000\" font-family=\"sans-serif\" font-size=\"11\" lengthAdjust=\"spacingAndGlyphs\" textLength=\"36\" x=\"164\" y=\"245.9526\">porig1</text><line style=\"stroke: #383838; stroke-width: 1.0;\" x1=\"159\" x2=\"178\" y1=\"229.3398\" y2=\"229.3398\"/><text fill=\"#000000\" font-family=\"sans-serif\" font-size=\"11\" lengthAdjust=\"spacingAndGlyphs\" textLength=\"30\" x=\"178\" y=\"232.6479\">ports</text><line style=\"stroke: #383838; stroke-width: 1.0;\" x1=\"208\" x2=\"227\" y1=\"229.3398\" y2=\"229.3398\"/></a><!--MD5=[ebbe1d658d1005bcc118a6aa81145e00]\n",
       "class E4--><a href=\"psysml:528ad082-e547-41e1-93e2-4f734da3b1f6\" target=\"_top\" title=\"psysml:528ad082-e547-41e1-93e2-4f734da3b1f6\" xlink:actuate=\"onRequest\" xlink:href=\"psysml:528ad082-e547-41e1-93e2-4f734da3b1f6\" xlink:show=\"new\" xlink:title=\"psysml:528ad082-e547-41e1-93e2-4f734da3b1f6\" xlink:type=\"simple\"><rect fill=\"#FFFFFF\" height=\"45.9375\" id=\"E4\" rx=\"10\" ry=\"10\" style=\"stroke: #383838; stroke-width: 1.5;\" width=\"50\" x=\"164\" y=\"313\"/><text fill=\"#000000\" font-family=\"sans-serif\" font-size=\"12\" font-style=\"italic\" lengthAdjust=\"spacingAndGlyphs\" textLength=\"40\" x=\"169\" y=\"329.1387\">«port»</text><text fill=\"#000000\" font-family=\"sans-serif\" font-size=\"12\" lengthAdjust=\"spacingAndGlyphs\" textLength=\"40\" x=\"167\" y=\"343.1074\">porig1</text><line style=\"stroke: #383838; stroke-width: 1.5;\" x1=\"165\" x2=\"213\" y1=\"350.9375\" y2=\"350.9375\"/></a><!--MD5=[270fce915f116d4de14055a7c1d9a0f3]\n",
       "class E5--><a href=\"psysml:73838eb5-9ecb-4193-8391-1ddf76ff61b3\" target=\"_top\" title=\"psysml:73838eb5-9ecb-4193-8391-1ddf76ff61b3\" xlink:actuate=\"onRequest\" xlink:href=\"psysml:73838eb5-9ecb-4193-8391-1ddf76ff61b3\" xlink:show=\"new\" xlink:title=\"psysml:73838eb5-9ecb-4193-8391-1ddf76ff61b3\" xlink:type=\"simple\"><rect fill=\"#FFFFFF\" height=\"45.9375\" id=\"E5\" rx=\"10\" ry=\"10\" style=\"stroke: #383838; stroke-width: 1.5;\" width=\"50\" x=\"117\" y=\"56\"/><text fill=\"#000000\" font-family=\"sans-serif\" font-size=\"12\" font-style=\"italic\" lengthAdjust=\"spacingAndGlyphs\" textLength=\"40\" x=\"122\" y=\"72.1387\">«part»</text><text fill=\"#000000\" font-family=\"sans-serif\" font-size=\"12\" lengthAdjust=\"spacingAndGlyphs\" textLength=\"40\" x=\"120\" y=\"86.1074\">p1: P1</text><line style=\"stroke: #383838; stroke-width: 1.5;\" x1=\"118\" x2=\"166\" y1=\"93.9375\" y2=\"93.9375\"/></a><!--MD5=[60a26617385b1d2d0262a64233df1f8d]\n",
       "class E6--><a href=\"psysml:6875339d-23d6-4973-8a77-102c2bf220f1\" target=\"_top\" title=\"psysml:6875339d-23d6-4973-8a77-102c2bf220f1\" xlink:actuate=\"onRequest\" xlink:href=\"psysml:6875339d-23d6-4973-8a77-102c2bf220f1\" xlink:show=\"new\" xlink:title=\"psysml:6875339d-23d6-4973-8a77-102c2bf220f1\" xlink:type=\"simple\"><rect fill=\"#FFFFFF\" height=\"45.9375\" id=\"E6\" rx=\"10\" ry=\"10\" style=\"stroke: #383838; stroke-width: 1.5;\" width=\"42\" x=\"81\" y=\"192\"/><text fill=\"#000000\" font-family=\"sans-serif\" font-size=\"12\" font-style=\"italic\" lengthAdjust=\"spacingAndGlyphs\" textLength=\"40\" x=\"82\" y=\"208.1387\">«port»</text><text fill=\"#000000\" font-family=\"sans-serif\" font-size=\"12\" lengthAdjust=\"spacingAndGlyphs\" textLength=\"24\" x=\"88\" y=\"222.1074\">po1</text><line style=\"stroke: #383838; stroke-width: 1.5;\" x1=\"82\" x2=\"122\" y1=\"229.9375\" y2=\"229.9375\"/></a><!--MD5=[2156ba9850f5573cc1fc38a6a4b2f02b]\n",
       "class E7--><a href=\"psysml:73d7b051-2240-4fe3-9278-fa0d634854f8\" target=\"_top\" title=\"psysml:73d7b051-2240-4fe3-9278-fa0d634854f8\" xlink:actuate=\"onRequest\" xlink:href=\"psysml:73d7b051-2240-4fe3-9278-fa0d634854f8\" xlink:show=\"new\" xlink:title=\"psysml:73d7b051-2240-4fe3-9278-fa0d634854f8\" xlink:type=\"simple\"><rect fill=\"#FFFFFF\" height=\"75.5469\" id=\"E7\" rx=\"10\" ry=\"10\" style=\"stroke: #383838; stroke-width: 1.5;\" width=\"50\" x=\"32\" y=\"41\"/><text fill=\"#000000\" font-family=\"sans-serif\" font-size=\"12\" font-style=\"italic\" lengthAdjust=\"spacingAndGlyphs\" textLength=\"40\" x=\"37\" y=\"57.1387\">«part»</text><text fill=\"#000000\" font-family=\"sans-serif\" font-size=\"12\" lengthAdjust=\"spacingAndGlyphs\" textLength=\"40\" x=\"35\" y=\"71.1074\">p2: P1</text><line style=\"stroke: #383838; stroke-width: 1.5;\" x1=\"33\" x2=\"81\" y1=\"78.9375\" y2=\"78.9375\"/><text fill=\"#000000\" font-family=\"sans-serif\" font-size=\"11\" lengthAdjust=\"spacingAndGlyphs\" textLength=\"32\" x=\"38\" y=\"109.9526\">pdest</text><line style=\"stroke: #383838; stroke-width: 1.0;\" x1=\"33\" x2=\"42\" y1=\"93.3398\" y2=\"93.3398\"/><text fill=\"#000000\" font-family=\"sans-serif\" font-size=\"11\" lengthAdjust=\"spacingAndGlyphs\" textLength=\"30\" x=\"42\" y=\"96.6479\">ports</text><line style=\"stroke: #383838; stroke-width: 1.0;\" x1=\"72\" x2=\"81\" y1=\"93.3398\" y2=\"93.3398\"/></a><!--MD5=[b9389687b975829384b498ac4b7476b2]\n",
       "class E8--><a href=\"psysml:6cb98d60-0ab8-42f0-badc-3a033a17e212\" target=\"_top\" title=\"psysml:6cb98d60-0ab8-42f0-badc-3a033a17e212\" xlink:actuate=\"onRequest\" xlink:href=\"psysml:6cb98d60-0ab8-42f0-badc-3a033a17e212\" xlink:show=\"new\" xlink:title=\"psysml:6cb98d60-0ab8-42f0-badc-3a033a17e212\" xlink:type=\"simple\"><rect fill=\"#FFFFFF\" height=\"45.9375\" id=\"E8\" rx=\"10\" ry=\"10\" style=\"stroke: #383838; stroke-width: 1.5;\" width=\"46\" x=\"79\" y=\"313\"/><text fill=\"#000000\" font-family=\"sans-serif\" font-size=\"12\" font-style=\"italic\" lengthAdjust=\"spacingAndGlyphs\" textLength=\"40\" x=\"82\" y=\"329.1387\">«port»</text><text fill=\"#000000\" font-family=\"sans-serif\" font-size=\"12\" lengthAdjust=\"spacingAndGlyphs\" textLength=\"36\" x=\"82\" y=\"343.1074\">pdest</text><line style=\"stroke: #383838; stroke-width: 1.5;\" x1=\"80\" x2=\"124\" y1=\"350.9375\" y2=\"350.9375\"/></a><!--MD5=[4672eba38e49728da53d11aeb285b987]\n",
       "reverse link E3 to E4--><a href=\"psysml:b408bcfe-af80-429f-8bb7-74524c32282e\" target=\"_top\" title=\"psysml:b408bcfe-af80-429f-8bb7-74524c32282e\" xlink:actuate=\"onRequest\" xlink:href=\"psysml:b408bcfe-af80-429f-8bb7-74524c32282e\" xlink:show=\"new\" xlink:title=\"psysml:b408bcfe-af80-429f-8bb7-74524c32282e\" xlink:type=\"simple\"><path d=\"M191.31,266.34 C190.76,282.61 190.18,299.81 189.74,312.93 \" fill=\"none\" id=\"E3&lt;-E4\" style=\"stroke: #383838; stroke-width: 1.0;\"/><polygon fill=\"#FFFFFF\" points=\"191.76,253,187.558,258.8603,191.3514,264.993,195.5534,259.1327,191.76,253\" style=\"stroke: #383838; stroke-width: 1.0;\"/><text fill=\"#000000\" font-family=\"sans-serif\" font-size=\"13\" lengthAdjust=\"spacingAndGlyphs\" textLength=\"8\" x=\"180.8639\" y=\"301.8075\">1</text></a><!--MD5=[e9be52314489bd878ff4c7144b63c9e1]\n",
       "link E5 to E3--><a href=\"psysml:de9d1539-3df1-480f-91a9-ed9f950b1f96\" target=\"_top\" title=\"psysml:de9d1539-3df1-480f-91a9-ed9f950b1f96\" xlink:actuate=\"onRequest\" xlink:href=\"psysml:de9d1539-3df1-480f-91a9-ed9f950b1f96\" xlink:show=\"new\" xlink:title=\"psysml:de9d1539-3df1-480f-91a9-ed9f950b1f96\" xlink:type=\"simple\"><path d=\"M150.42,102.13 C156.21,117.35 164.18,138.29 171.66,157.93 \" fill=\"none\" id=\"E5-&gt;E3\" style=\"stroke: #383838; stroke-width: 1.0;\"/><polygon fill=\"#FFFFFF\" points=\"178.88,176.89,165.5815,161.6208,178.6665,156.6427,178.88,176.89\" style=\"stroke: #383838; stroke-width: 1.0;\"/><ellipse cx=\"165.424\" cy=\"155.5821\" fill=\"#383838\" rx=\"2\" ry=\"2\" style=\"stroke: #383838; stroke-width: 1.0;\"/><ellipse cx=\"174.7704\" cy=\"152.0263\" fill=\"#383838\" rx=\"2\" ry=\"2\" style=\"stroke: #383838; stroke-width: 1.0;\"/></a><!--MD5=[85d356282659285ab4b2cfe2f634dd2b]\n",
       "reverse link E5 to E6--><a href=\"psysml:1d973b34-aa26-4796-bb60-99a7b7743581\" target=\"_top\" title=\"psysml:1d973b34-aa26-4796-bb60-99a7b7743581\" xlink:actuate=\"onRequest\" xlink:href=\"psysml:1d973b34-aa26-4796-bb60-99a7b7743581\" xlink:show=\"new\" xlink:title=\"psysml:1d973b34-aa26-4796-bb60-99a7b7743581\" xlink:type=\"simple\"><path d=\"M131.62,114.76 C124.36,139.1 114.87,170.88 108.61,191.84 \" fill=\"none\" id=\"E5&lt;-E6\" style=\"stroke: #383838; stroke-width: 1.0;\"/><polygon fill=\"#FFFFFF\" points=\"135.39,102.13,129.8375,106.7311,131.9491,113.6261,137.5016,109.025,135.39,102.13\" style=\"stroke: #383838; stroke-width: 1.0;\"/><text fill=\"#000000\" font-family=\"sans-serif\" font-size=\"13\" lengthAdjust=\"spacingAndGlyphs\" textLength=\"8\" x=\"101.2788\" y=\"181.0753\">1</text></a><!--MD5=[f667431f98296947986a1a7595a31603]\n",
       "link E6 to E4--><a href=\"psysml:73eeba8b-cad5-4501-9cd6-c52ba77489ee\" target=\"_top\" title=\"psysml:73eeba8b-cad5-4501-9cd6-c52ba77489ee\" xlink:actuate=\"onRequest\" xlink:href=\"psysml:73eeba8b-cad5-4501-9cd6-c52ba77489ee\" xlink:show=\"new\" xlink:title=\"psysml:73eeba8b-cad5-4501-9cd6-c52ba77489ee\" xlink:type=\"simple\"><path d=\"M118.16,238.1 C130.11,254.45 146.69,277.12 160.8,296.43 \" fill=\"none\" id=\"E6-&gt;E4\" style=\"stroke: #383838; stroke-width: 1.0;\"/><polygon fill=\"#FFFFFF\" points=\"172.63,312.61,155.76,301.4117,167.0576,293.1434,172.63,312.61\" style=\"stroke: #383838; stroke-width: 1.0;\"/><line style=\"stroke: #383838; stroke-width: 2.0;\" x1=\"153.5158\" x2=\"164.8134\" y1=\"298.3452\" y2=\"290.0769\"/></a><!--MD5=[14ccda38c055a5c0da953d572bc50960]\n",
       "link E7 to E3--><a href=\"psysml:52eea9f8-f20f-41d5-8944-6f19cdd988b1\" target=\"_top\" title=\"psysml:52eea9f8-f20f-41d5-8944-6f19cdd988b1\" xlink:actuate=\"onRequest\" xlink:href=\"psysml:52eea9f8-f20f-41d5-8944-6f19cdd988b1\" xlink:show=\"new\" xlink:title=\"psysml:52eea9f8-f20f-41d5-8944-6f19cdd988b1\" xlink:type=\"simple\"><path d=\"M82.26,104.89 C99.38,121.76 122.59,144.62 143.33,165.06 \" fill=\"none\" id=\"E7-&gt;E3\" style=\"stroke: #383838; stroke-width: 1.0;\"/><polygon fill=\"#FFFFFF\" points=\"157.88,179.39,139.4314,171.0443,149.2556,161.0701,157.88,179.39\" style=\"stroke: #383838; stroke-width: 1.0;\"/><ellipse cx=\"136.774\" cy=\"165.6196\" fill=\"#383838\" rx=\"2\" ry=\"2\" style=\"stroke: #383838; stroke-width: 1.0;\"/><ellipse cx=\"143.7912\" cy=\"158.4951\" fill=\"#383838\" rx=\"2\" ry=\"2\" style=\"stroke: #383838; stroke-width: 1.0;\"/></a><!--MD5=[dc164f5e8a733ab456ef1add180e9e34]\n",
       "reverse link E7 to E8--><a href=\"psysml:7dc24cb7-d6ba-40a4-b073-8d397bf1a7ae\" target=\"_top\" title=\"psysml:7dc24cb7-d6ba-40a4-b073-8d397bf1a7ae\" xlink:actuate=\"onRequest\" xlink:href=\"psysml:7dc24cb7-d6ba-40a4-b073-8d397bf1a7ae\" xlink:show=\"new\" xlink:title=\"psysml:7dc24cb7-d6ba-40a4-b073-8d397bf1a7ae\" xlink:type=\"simple\"><path d=\"M53.89,130.23 C52.97,165.15 54.21,212.5 64,253 C69.16,274.35 80.04,296.87 88.84,312.9 \" fill=\"none\" id=\"E7&lt;-E8\" style=\"stroke: #383838; stroke-width: 1.0;\"/><polygon fill=\"#FFFFFF\" points=\"54.36,117.03,50.1514,122.8856,53.9378,129.0226,58.1464,123.167,54.36,117.03\" style=\"stroke: #383838; stroke-width: 1.0;\"/><text fill=\"#000000\" font-family=\"sans-serif\" font-size=\"13\" lengthAdjust=\"spacingAndGlyphs\" textLength=\"8\" x=\"86.3783\" y=\"301.7694\">1</text></a><!--MD5=[0a839d0f80c2d72d4b9b307f046d0de8]\n",
       "link E6 to E8--><a href=\"psysml:6785e7ae-ef30-46fa-a69d-d6daab2c7c15\" target=\"_top\" title=\"psysml:6785e7ae-ef30-46fa-a69d-d6daab2c7c15\" xlink:actuate=\"onRequest\" xlink:href=\"psysml:6785e7ae-ef30-46fa-a69d-d6daab2c7c15\" xlink:show=\"new\" xlink:title=\"psysml:6785e7ae-ef30-46fa-a69d-d6daab2c7c15\" xlink:type=\"simple\"><path d=\"M91.82,238.1 C88.41,259.34 88.39,291.28 91.78,312.61 \" fill=\"none\" id=\"E6-E8\" style=\"stroke: #383838; stroke-width: 3.0;\"/><text fill=\"#000000\" font-family=\"sans-serif\" font-size=\"13\" lengthAdjust=\"spacingAndGlyphs\" textLength=\"7\" x=\"81.2643\" y=\"301.7864\">*</text></a><!--MD5=[0a839d0f80c2d72d4b9b307f046d0de8]\n",
       "link E6 to E8--><a href=\"psysml:868c8138-312d-42c2-8f4f-f83047efce23\" target=\"_top\" title=\"psysml:868c8138-312d-42c2-8f4f-f83047efce23\" xlink:actuate=\"onRequest\" xlink:href=\"psysml:868c8138-312d-42c2-8f4f-f83047efce23\" xlink:show=\"new\" xlink:title=\"psysml:868c8138-312d-42c2-8f4f-f83047efce23\" xlink:type=\"simple\"><path d=\"M112.78,238.1 C116.39,259.34 116.41,291.28 112.82,312.61 \" fill=\"none\" id=\"E6-E8-1\" style=\"stroke: #383838; stroke-width: 3.0;\"/><text fill=\"#000000\" font-family=\"sans-serif\" font-size=\"13\" lengthAdjust=\"spacingAndGlyphs\" textLength=\"7\" x=\"107.6957\" y=\"301.7864\">*</text></a><!--MD5=[3b417bcca3d6c8bb1631991c411adf03]\n",
       "@startuml\r\n",
       "top to bottom direction\r\n",
       "skinparam monochrome true\r\n",
       "skinparam classbackgroundcolor white\r\n",
       "skinparam shadowing false\r\n",
       "skinparam wrapWidth 300\r\n",
       "hide circle\r\n",
       "\r\n",
       "package \"AliasTest\" as E1  [[psysml:02b7e9b9-6677-468f-8dad-8ced33a218a4 ]]  {\r\n",
       "comp usage \"b :> ISQSpaceTime::width\" as E2  <<(T,blue) attribute>> [[psysml:c7feeda3-a834-41bb-a074-923ea0011430 ]] {\r\n",
       "}\r\n",
       "comp def \"P1\" as E3  <<(T,blue) part  def>> [[psysml:1a450028-471a-4a88-b6bb-254dda2007f7 ]] {\r\n",
       "- - ports - -\r\n",
       "porig1\r\n",
       "}\r\n",
       "comp usage \"porig1 \" as E4  <<(T,blue) port>> [[psysml:528ad082-e547-41e1-93e2-4f734da3b1f6 ]] {\r\n",
       "}\r\n",
       "comp usage \"p1: P1 \" as E5  <<(T,blue) part>> [[psysml:73838eb5-9ecb-4193-8391-1ddf76ff61b3 ]] {\r\n",
       "}\r\n",
       "comp usage \"po1 \" as E6  <<(T,blue) port>> [[psysml:6875339d-23d6-4973-8a77-102c2bf220f1 ]] {\r\n",
       "}\r\n",
       "comp usage \"p2: P1 \" as E7  <<(T,blue) part>> [[psysml:73d7b051-2240-4fe3-9278-fa0d634854f8 ]] {\r\n",
       "- - ports - -\r\n",
       "pdest\r\n",
       "}\r\n",
       "comp usage \"pdest \" as E8  <<(T,blue) port>> [[psysml:6cb98d60-0ab8-42f0-badc-3a033a17e212 ]] {\r\n",
       "}\r\n",
       "}\r\n",
       "E3 o- - \"1\"E4 [[psysml:b408bcfe-af80-429f-8bb7-74524c32282e ]] \r\n",
       "E5 - -:|> E3 [[psysml:de9d1539-3df1-480f-91a9-ed9f950b1f96 ]] \r\n",
       "E5 o- - \"1\"E6 [[psysml:1d973b34-aa26-4796-bb60-99a7b7743581 ]] \r\n",
       "E6 - -||> E4 [[psysml:73eeba8b-cad5-4501-9cd6-c52ba77489ee ]] \r\n",
       "E7 - -:|> E3 [[psysml:52eea9f8-f20f-41d5-8944-6f19cdd988b1 ]] \r\n",
       "E7 o- - \"1\"E8 [[psysml:7dc24cb7-d6ba-40a4-b073-8d397bf1a7ae ]] \r\n",
       "E6 -[thickness=3]- \"*\"E8 [[psysml:6785e7ae-ef30-46fa-a69d-d6daab2c7c15 ]] \r\n",
       "E6 -[thickness=3]- \"*\"E8 [[psysml:868c8138-312d-42c2-8f4f-f83047efce23 ]] \r\n",
       "@enduml\r\n",
       "\n",
       "PlantUML version 1.2020.13(Sat Jun 13 12:26:38 UTC 2020)\n",
       "(EPL source distribution)\n",
       "Java Runtime: OpenJDK Runtime Environment\n",
       "JVM: OpenJDK 64-Bit Server VM\n",
       "Default Encoding: UTF-8\n",
       "Language: en\n",
       "Country: null\n",
       "--></g></svg>"
      ]
     },
     "execution_count": 45,
     "metadata": {},
     "output_type": "execute_result"
    }
   ],
   "source": [
    "%viz --style=\"TB\" --view=\"Tree\" \"AliasTest\""
   ]
  },
  {
   "cell_type": "code",
   "execution_count": 46,
   "id": "dccb7f15",
   "metadata": {
    "execution": {
     "iopub.execute_input": "2022-08-19T08:20:51.165863Z",
     "iopub.status.busy": "2022-08-19T08:20:51.165398Z",
     "iopub.status.idle": "2022-08-19T08:20:51.175494Z",
     "shell.execute_reply": "2022-08-19T08:20:51.175079Z"
    }
   },
   "outputs": [
    {
     "data": {
      "image/svg+xml": [
       "<?xml version=\"1.0\" encoding=\"UTF-8\" standalone=\"no\"?><svg xmlns=\"http://www.w3.org/2000/svg\" xmlns:xlink=\"http://www.w3.org/1999/xlink\" contentScriptType=\"application/ecmascript\" contentStyleType=\"text/css\" height=\"12px\" preserveAspectRatio=\"none\" style=\"width:12px;height:12px;\" version=\"1.1\" viewBox=\"0 0 12 12\" width=\"12px\" zoomAndPan=\"magnify\"><defs/><g><!--MD5=[f4ee21bc66e489b5061b7c3e9601fdef]\n",
       "@startuml\r\n",
       "top to bottom direction\r\n",
       "skinparam monochrome true\r\n",
       "skinparam classbackgroundcolor white\r\n",
       "skinparam shadowing false\r\n",
       "skinparam wrapWidth 300\r\n",
       "hide circle\r\n",
       "\r\n",
       "@enduml\r\n",
       "\n",
       "PlantUML version 1.2020.13(Sat Jun 13 12:26:38 UTC 2020)\n",
       "(EPL source distribution)\n",
       "Java Runtime: OpenJDK Runtime Environment\n",
       "JVM: OpenJDK 64-Bit Server VM\n",
       "Default Encoding: UTF-8\n",
       "Language: en\n",
       "Country: null\n",
       "--></g></svg>"
      ]
     },
     "execution_count": 46,
     "metadata": {},
     "output_type": "execute_result"
    }
   ],
   "source": [
    "%viz --style=\"TB\" --view=\"State\" \"AliasTest\""
   ]
  },
  {
   "cell_type": "code",
   "execution_count": 47,
   "id": "50f93759",
   "metadata": {
    "execution": {
     "iopub.execute_input": "2022-08-19T08:20:51.225541Z",
     "iopub.status.busy": "2022-08-19T08:20:51.225067Z",
     "iopub.status.idle": "2022-08-19T08:20:51.264840Z",
     "shell.execute_reply": "2022-08-19T08:20:51.263277Z"
    }
   },
   "outputs": [
    {
     "data": {
      "image/svg+xml": [
       "<?xml version=\"1.0\" encoding=\"UTF-8\" standalone=\"no\"?><svg xmlns=\"http://www.w3.org/2000/svg\" xmlns:xlink=\"http://www.w3.org/1999/xlink\" contentScriptType=\"application/ecmascript\" contentStyleType=\"text/css\" height=\"398px\" preserveAspectRatio=\"none\" style=\"width:370px;height:398px;\" version=\"1.1\" viewBox=\"0 0 370 398\" width=\"370px\" zoomAndPan=\"magnify\"><defs/><g><!--MD5=[fbc87193dbaf4d95561dea2c320d4a47]\n",
       "cluster E1--><a href=\"psysml:02b7e9b9-6677-468f-8dad-8ced33a218a4\" target=\"_top\" title=\"psysml:02b7e9b9-6677-468f-8dad-8ced33a218a4\" xlink:actuate=\"onRequest\" xlink:href=\"psysml:02b7e9b9-6677-468f-8dad-8ced33a218a4\" xlink:show=\"new\" xlink:title=\"psysml:02b7e9b9-6677-468f-8dad-8ced33a218a4\" xlink:type=\"simple\"><polygon fill=\"#FFFFFF\" points=\"16,6,84,6,91,28.2969,348,28.2969,348,386.36,16,386.36,16,6\" style=\"stroke: #000000; stroke-width: 1.5;\"/><line style=\"stroke: #000000; stroke-width: 1.5;\" x1=\"16\" x2=\"91\" y1=\"28.2969\" y2=\"28.2969\"/><text fill=\"#000000\" font-family=\"sans-serif\" font-size=\"14\" font-weight=\"bold\" lengthAdjust=\"spacingAndGlyphs\" textLength=\"62\" x=\"20\" y=\"20.9951\">AliasTest</text></a><!--MD5=[d5e69f78d87373223dbae638b30a9c99]\n",
       "cluster E3--><a href=\"psysml:1a450028-471a-4a88-b6bb-254dda2007f7\" target=\"_top\" title=\"psysml:1a450028-471a-4a88-b6bb-254dda2007f7\" xlink:actuate=\"onRequest\" xlink:href=\"psysml:1a450028-471a-4a88-b6bb-254dda2007f7\" xlink:show=\"new\" xlink:title=\"psysml:1a450028-471a-4a88-b6bb-254dda2007f7\" xlink:type=\"simple\"><rect fill=\"#FFFFFF\" height=\"124.5\" id=\"E3\" style=\"stroke: #383838; stroke-width: 1.5;\" width=\"144\" x=\"180\" y=\"237.86\"/><rect fill=\"#F8F8F8\" height=\"37.9375\" style=\"stroke: #383838; stroke-width: 1.5;\" width=\"144\" x=\"180\" y=\"237.86\"/><text fill=\"#000000\" font-family=\"sans-serif\" font-size=\"12\" font-style=\"italic\" lengthAdjust=\"spacingAndGlyphs\" textLength=\"68\" x=\"218\" y=\"253.9987\">«part  def»</text><text fill=\"#000000\" font-family=\"sans-serif\" font-size=\"12\" lengthAdjust=\"spacingAndGlyphs\" textLength=\"16\" x=\"244\" y=\"267.9674\">P1</text></a><!--MD5=[14e3b0961a2654348d326746436168a1]\n",
       "cluster E6--><a href=\"psysml:73838eb5-9ecb-4193-8391-1ddf76ff61b3\" target=\"_top\" title=\"psysml:73838eb5-9ecb-4193-8391-1ddf76ff61b3\" xlink:actuate=\"onRequest\" xlink:href=\"psysml:73838eb5-9ecb-4193-8391-1ddf76ff61b3\" xlink:show=\"new\" xlink:title=\"psysml:73838eb5-9ecb-4193-8391-1ddf76ff61b3\" xlink:type=\"simple\"><rect fill=\"#FFFFFF\" height=\"97.36\" id=\"E6\" rx=\"10\" ry=\"10\" style=\"stroke: #383838; stroke-width: 1.5;\" width=\"114\" x=\"210\" y=\"49\"/><rect fill=\"#F8F8F8\" height=\"23.9688\" rx=\"10\" ry=\"10\" style=\"stroke: #F8F8F8; stroke-width: 1.5;\" width=\"114\" x=\"210\" y=\"49\"/><rect fill=\"#F8F8F8\" height=\"10\" style=\"stroke: #F8F8F8; stroke-width: 1.5;\" width=\"114\" x=\"210\" y=\"62.9688\"/><rect fill=\"none\" height=\"97.36\" id=\"E6\" rx=\"10\" ry=\"10\" style=\"stroke: #383838; stroke-width: 1.5;\" width=\"114\" x=\"210\" y=\"49\"/><text fill=\"#000000\" font-family=\"sans-serif\" font-size=\"12\" lengthAdjust=\"spacingAndGlyphs\" textLength=\"40\" x=\"247\" y=\"65.1387\">p1: P1</text><line style=\"stroke: #383838; stroke-width: 1.0;\" x1=\"210\" x2=\"324\" y1=\"72.9688\" y2=\"72.9688\"/></a><!--MD5=[55dfccfc6c49c2d10cd1bd2211a6c90c]\n",
       "cluster E8--><a href=\"psysml:73d7b051-2240-4fe3-9278-fa0d634854f8\" target=\"_top\" title=\"psysml:73d7b051-2240-4fe3-9278-fa0d634854f8\" xlink:actuate=\"onRequest\" xlink:href=\"psysml:73d7b051-2240-4fe3-9278-fa0d634854f8\" xlink:show=\"new\" xlink:title=\"psysml:73d7b051-2240-4fe3-9278-fa0d634854f8\" xlink:type=\"simple\"><rect fill=\"#FFFFFF\" height=\"73\" id=\"E8\" rx=\"10\" ry=\"10\" style=\"stroke: #383838; stroke-width: 1.5;\" width=\"83\" x=\"81\" y=\"198.36\"/><rect fill=\"#F8F8F8\" height=\"23.9688\" rx=\"10\" ry=\"10\" style=\"stroke: #F8F8F8; stroke-width: 1.5;\" width=\"83\" x=\"81\" y=\"198.36\"/><rect fill=\"#F8F8F8\" height=\"10\" style=\"stroke: #F8F8F8; stroke-width: 1.5;\" width=\"83\" x=\"81\" y=\"212.3288\"/><rect fill=\"none\" height=\"73\" id=\"E8\" rx=\"10\" ry=\"10\" style=\"stroke: #383838; stroke-width: 1.5;\" width=\"83\" x=\"81\" y=\"198.36\"/><text fill=\"#000000\" font-family=\"sans-serif\" font-size=\"12\" lengthAdjust=\"spacingAndGlyphs\" textLength=\"40\" x=\"102.5\" y=\"214.4987\">p2: P1</text><line style=\"stroke: #383838; stroke-width: 1.0;\" x1=\"81\" x2=\"164\" y1=\"222.3288\" y2=\"222.3288\"/></a><!--MD5=[b4997ac47864f28c2f74865a473b2911]\n",
       "class E2--><a href=\"psysml:c7feeda3-a834-41bb-a074-923ea0011430\" target=\"_top\" title=\"psysml:c7feeda3-a834-41bb-a074-923ea0011430\" xlink:actuate=\"onRequest\" xlink:href=\"psysml:c7feeda3-a834-41bb-a074-923ea0011430\" xlink:show=\"new\" xlink:title=\"psysml:c7feeda3-a834-41bb-a074-923ea0011430\" xlink:type=\"simple\"><rect fill=\"#FFFFFF\" height=\"45.9375\" id=\"E2\" rx=\"10\" ry=\"10\" style=\"stroke: #383838; stroke-width: 1.5;\" width=\"165\" x=\"32.5\" y=\"59.5\"/><text fill=\"#000000\" font-family=\"sans-serif\" font-size=\"12\" font-style=\"italic\" lengthAdjust=\"spacingAndGlyphs\" textLength=\"69\" x=\"80.5\" y=\"75.6387\">«attribute»</text><text fill=\"#000000\" font-family=\"sans-serif\" font-size=\"12\" lengthAdjust=\"spacingAndGlyphs\" textLength=\"159\" x=\"35.5\" y=\"89.6074\">b :&gt; ISQSpaceTime::width</text><line style=\"stroke: #383838; stroke-width: 1.5;\" x1=\"33.5\" x2=\"196.5\" y1=\"97.4375\" y2=\"97.4375\"/></a><text fill=\"#000000\" font-family=\"sans-serif\" font-size=\"14\" lengthAdjust=\"spacingAndGlyphs\" textLength=\"44\" x=\"174\" y=\"216.5582\">porig1</text><rect fill=\"#383838\" height=\"12\" style=\"stroke: #F8F8F8; stroke-width: 1.5;\" width=\"12\" x=\"192\" y=\"231.86\"/><text fill=\"#000000\" font-family=\"sans-serif\" font-size=\"14\" lengthAdjust=\"spacingAndGlyphs\" textLength=\"44\" x=\"221\" y=\"216.5582\">porig1</text><rect fill=\"#383838\" height=\"12\" style=\"stroke: #F8F8F8; stroke-width: 1.5;\" width=\"12\" x=\"239\" y=\"231.86\"/><text fill=\"#000000\" font-family=\"sans-serif\" font-size=\"14\" lengthAdjust=\"spacingAndGlyphs\" textLength=\"27\" x=\"212.5\" y=\"165.3551\">po1</text><rect fill=\"#383838\" height=\"12\" style=\"stroke: #F8F8F8; stroke-width: 1.5;\" width=\"12\" x=\"222\" y=\"140.36\"/><text fill=\"#000000\" font-family=\"sans-serif\" font-size=\"14\" lengthAdjust=\"spacingAndGlyphs\" textLength=\"40\" x=\"77\" y=\"177.0582\">pdest</text><rect fill=\"#383838\" height=\"12\" style=\"stroke: #F8F8F8; stroke-width: 1.5;\" width=\"12\" x=\"93\" y=\"192.36\"/><text fill=\"#000000\" font-family=\"sans-serif\" font-size=\"14\" lengthAdjust=\"spacingAndGlyphs\" textLength=\"40\" x=\"124\" y=\"177.0582\">pdest</text><rect fill=\"#383838\" height=\"12\" style=\"stroke: #F8F8F8; stroke-width: 1.5;\" width=\"12\" x=\"140\" y=\"192.36\"/><!--MD5=[a717450b82c80b9240a525fa862496af]\n",
       "link E6 to E3--><a href=\"psysml:de9d1539-3df1-480f-91a9-ed9f950b1f96\" target=\"_top\" title=\"psysml:de9d1539-3df1-480f-91a9-ed9f950b1f96\" xlink:actuate=\"onRequest\" xlink:href=\"psysml:de9d1539-3df1-480f-91a9-ed9f950b1f96\" xlink:show=\"new\" xlink:title=\"psysml:de9d1539-3df1-480f-91a9-ed9f950b1f96\" xlink:type=\"simple\"><path d=\"M287,146.372 C287,146.4316 287,146.4946 287,146.5614 C287,146.6948 287,146.8432 287,147.0079 C287,147.3375 287,147.733 287,148.2077 C287,149.1569 287,150.4225 287,152.11 C287,158.86 287,172.36 287,199.36 C287,208.265 287.4169,215.6138 287.8598,222.1538 C287.8875,222.5625 287.9153,222.9681 287.9431,223.3707 C287.9501,223.4714 287.957,223.5718 287.964,223.6721 \" fill=\"none\" id=\"E6-&gt;E3\" style=\"stroke: #383838; stroke-width: 1.0;\"/><polygon fill=\"#FFFFFF\" points=\"287.964,223.6721,279.6675,205.2014,293.634,204.2337,287.964,223.6721\" style=\"stroke: #383838; stroke-width: 1.0;\"/><ellipse cx=\"281.2688\" cy=\"199.3768\" fill=\"#383838\" rx=\"2\" ry=\"2\" style=\"stroke: #383838; stroke-width: 1.0;\"/><ellipse cx=\"291.2448\" cy=\"198.6856\" fill=\"#383838\" rx=\"2\" ry=\"2\" style=\"stroke: #383838; stroke-width: 1.0;\"/></a><!--MD5=[95fa686b5a16158bcdbcaeead89f639b]\n",
       "link E8 to E3--><a href=\"psysml:52eea9f8-f20f-41d5-8944-6f19cdd988b1\" target=\"_top\" title=\"psysml:52eea9f8-f20f-41d5-8944-6f19cdd988b1\" xlink:actuate=\"onRequest\" xlink:href=\"psysml:52eea9f8-f20f-41d5-8944-6f19cdd988b1\" xlink:show=\"new\" xlink:title=\"psysml:52eea9f8-f20f-41d5-8944-6f19cdd988b1\" xlink:type=\"simple\"><path d=\"M161.6052,271.4143 C161.6848,271.4587 161.7644,271.5032 161.844,271.5476 C162.1624,271.7254 162.4807,271.903 162.799,272.0805 C163.4355,272.4354 164.0716,272.7896 164.7071,273.1429 C165.978,273.8495 167.2462,274.5525 168.5091,275.2502 C171.0347,276.6456 173.5388,278.02 176,279.36 C177.8425,280.3638 179.712,281.3764 181.6004,282.3941 C182.0725,282.6486 182.5457,282.9033 183.0201,283.1583 C183.2572,283.2858 183.4946,283.4134 183.7323,283.541 C183.7917,283.5729 183.8512,283.6048 183.9106,283.6368 \" fill=\"none\" id=\"E8-&gt;E3\" style=\"stroke: #383838; stroke-width: 1.0;\"/><polygon fill=\"#FFFFFF\" points=\"183.9106,283.6368,163.8594,280.8174,170.4813,268.4825,183.9106,283.6368\" style=\"stroke: #383838; stroke-width: 1.0;\"/><ellipse cx=\"159.7833\" cy=\"276.3592\" fill=\"#383838\" rx=\"2\" ry=\"2\" style=\"stroke: #383838; stroke-width: 1.0;\"/><ellipse cx=\"164.5132\" cy=\"267.5486\" fill=\"#383838\" rx=\"2\" ry=\"2\" style=\"stroke: #383838; stroke-width: 1.0;\"/></a><!--MD5=[1c0b9414cc86e0744215edee6abd8926]\n",
       "link E7 to E9--><a href=\"psysml:6785e7ae-ef30-46fa-a69d-d6daab2c7c15\" target=\"_top\" title=\"psysml:6785e7ae-ef30-46fa-a69d-d6daab2c7c15\" xlink:actuate=\"onRequest\" xlink:href=\"psysml:6785e7ae-ef30-46fa-a69d-d6daab2c7c15\" xlink:show=\"new\" xlink:title=\"psysml:6785e7ae-ef30-46fa-a69d-d6daab2c7c15\" xlink:type=\"simple\"><path d=\"M221.76,147.53 C198.85,148.59 143.6,155.09 105,176.36 C94.77,182 85.43,193.07 92.97,196.39 \" fill=\"none\" id=\"E7-E9\" style=\"stroke: #383838; stroke-width: 3.0;\"/><text fill=\"#000000\" font-family=\"sans-serif\" font-size=\"13\" lengthAdjust=\"spacingAndGlyphs\" textLength=\"7\" x=\"78.1078\" y=\"185.6989\">*</text></a><!--MD5=[1c0b9414cc86e0744215edee6abd8926]\n",
       "link E7 to E9--><a href=\"psysml:868c8138-312d-42c2-8f4f-f83047efce23\" target=\"_top\" title=\"psysml:868c8138-312d-42c2-8f4f-f83047efce23\" xlink:actuate=\"onRequest\" xlink:href=\"psysml:868c8138-312d-42c2-8f4f-f83047efce23\" xlink:show=\"new\" xlink:title=\"psysml:868c8138-312d-42c2-8f4f-f83047efce23\" xlink:type=\"simple\"><path d=\"M221.9,149.8 C204.95,153.24 168.07,160.89 140,176.36 C129.3,182.26 119.57,194.11 105.05,196.81 \" fill=\"none\" id=\"E7-E9-1\" style=\"stroke: #383838; stroke-width: 3.0;\"/><text fill=\"#000000\" font-family=\"sans-serif\" font-size=\"13\" lengthAdjust=\"spacingAndGlyphs\" textLength=\"7\" x=\"112.9288\" y=\"186.4654\">*</text></a><!--MD5=[603c1bb2d33669d6a19e92c7c50c3e27]\n",
       "@startuml\r\n",
       "skinparam ranksep 10\r\n",
       "skinparam rectangle {\r\n",
       " backgroundColor<<block>> LightGreen\r\n",
       "}\r\n",
       "top to bottom direction\r\n",
       "skinparam monochrome true\r\n",
       "skinparam classbackgroundcolor white\r\n",
       "skinparam shadowing false\r\n",
       "skinparam wrapWidth 300\r\n",
       "hide circle\r\n",
       "\r\n",
       "package \"AliasTest\" as E1  [[psysml:02b7e9b9-6677-468f-8dad-8ced33a218a4 ]]  {\r\n",
       "comp usage \"b :> ISQSpaceTime::width\" as E2  <<(T,blue) attribute>> [[psysml:c7feeda3-a834-41bb-a074-923ea0011430 ]] {\r\n",
       "}\r\n",
       "rec def \"P1\" as E3  <<(T,blue) part  def>> [[psysml:1a450028-471a-4a88-b6bb-254dda2007f7 ]] {\r\n",
       "portin \"porig1 \" as E4  <<(T,blue) port>> [[psysml:528ad082-e547-41e1-93e2-4f734da3b1f6 ]] \r\n",
       "portin \"porig1 \" as E5  <<(T,blue) port>> [[psysml:528ad082-e547-41e1-93e2-4f734da3b1f6 ]] \r\n",
       "}\r\n",
       "rec usage \"p1: P1\" as E6  [[psysml:73838eb5-9ecb-4193-8391-1ddf76ff61b3 ]] {\r\n",
       "portout \"po1 \" as E7  <<(T,blue) port>> [[psysml:6875339d-23d6-4973-8a77-102c2bf220f1 ]] \r\n",
       "}\r\n",
       "rec usage \"p2: P1\" as E8  [[psysml:73d7b051-2240-4fe3-9278-fa0d634854f8 ]] {\r\n",
       "portin \"pdest \" as E9  <<(T,blue) port>> [[psysml:6cb98d60-0ab8-42f0-badc-3a033a17e212 ]] \r\n",
       "portin \"pdest \" as E10  <<(T,blue) port>> [[psysml:6cb98d60-0ab8-42f0-badc-3a033a17e212 ]] \r\n",
       "}\r\n",
       "}\r\n",
       "E6 - -:|> E3 [[psysml:de9d1539-3df1-480f-91a9-ed9f950b1f96 ]] \r\n",
       "E8 - -:|> E3 [[psysml:52eea9f8-f20f-41d5-8944-6f19cdd988b1 ]] \r\n",
       "E7 -[thickness=3]- \"*\"E9 [[psysml:6785e7ae-ef30-46fa-a69d-d6daab2c7c15 ]] \r\n",
       "E7 -[thickness=3]- \"*\"E9 [[psysml:868c8138-312d-42c2-8f4f-f83047efce23 ]] \r\n",
       "@enduml\r\n",
       "\n",
       "PlantUML version 1.2020.13(Sat Jun 13 12:26:38 UTC 2020)\n",
       "(EPL source distribution)\n",
       "Java Runtime: OpenJDK Runtime Environment\n",
       "JVM: OpenJDK 64-Bit Server VM\n",
       "Default Encoding: UTF-8\n",
       "Language: en\n",
       "Country: null\n",
       "--></g></svg>"
      ]
     },
     "execution_count": 47,
     "metadata": {},
     "output_type": "execute_result"
    }
   ],
   "source": [
    "%viz --style=\"TB\" --view=\"Interconnection\" \"AliasTest\""
   ]
  },
  {
   "cell_type": "code",
   "execution_count": 48,
   "id": "35a75634",
   "metadata": {
    "execution": {
     "iopub.execute_input": "2022-08-19T08:20:51.314443Z",
     "iopub.status.busy": "2022-08-19T08:20:51.313936Z",
     "iopub.status.idle": "2022-08-19T08:20:51.324476Z",
     "shell.execute_reply": "2022-08-19T08:20:51.324789Z"
    }
   },
   "outputs": [
    {
     "data": {
      "image/svg+xml": [
       "<?xml version=\"1.0\" encoding=\"UTF-8\" standalone=\"no\"?><svg xmlns=\"http://www.w3.org/2000/svg\" xmlns:xlink=\"http://www.w3.org/1999/xlink\" contentScriptType=\"application/ecmascript\" contentStyleType=\"text/css\" height=\"12px\" preserveAspectRatio=\"none\" style=\"width:12px;height:12px;\" version=\"1.1\" viewBox=\"0 0 12 12\" width=\"12px\" zoomAndPan=\"magnify\"><defs/><g><!--MD5=[06afc254b03ac5e9d9fb7773b07d0800]\n",
       "@startuml\r\n",
       "skinparam ranksep 8\r\n",
       "top to bottom direction\r\n",
       "skinparam monochrome true\r\n",
       "skinparam classbackgroundcolor white\r\n",
       "skinparam shadowing false\r\n",
       "skinparam wrapWidth 300\r\n",
       "hide circle\r\n",
       "\r\n",
       "@enduml\r\n",
       "\n",
       "PlantUML version 1.2020.13(Sat Jun 13 12:26:38 UTC 2020)\n",
       "(EPL source distribution)\n",
       "Java Runtime: OpenJDK Runtime Environment\n",
       "JVM: OpenJDK 64-Bit Server VM\n",
       "Default Encoding: UTF-8\n",
       "Language: en\n",
       "Country: null\n",
       "--></g></svg>"
      ]
     },
     "execution_count": 48,
     "metadata": {},
     "output_type": "execute_result"
    }
   ],
   "source": [
    "%viz --style=\"TB\" --view=\"Action\" \"AliasTest\""
   ]
  },
  {
   "cell_type": "code",
   "execution_count": 49,
   "id": "1d8d8e79",
   "metadata": {
    "execution": {
     "iopub.execute_input": "2022-08-19T08:20:51.375002Z",
     "iopub.status.busy": "2022-08-19T08:20:51.374552Z",
     "iopub.status.idle": "2022-08-19T08:20:51.385799Z",
     "shell.execute_reply": "2022-08-19T08:20:51.386114Z"
    }
   },
   "outputs": [
    {
     "data": {
      "image/svg+xml": [
       "<?xml version=\"1.0\" encoding=\"UTF-8\" standalone=\"no\"?><svg xmlns=\"http://www.w3.org/2000/svg\" xmlns:xlink=\"http://www.w3.org/1999/xlink\" contentScriptType=\"application/ecmascript\" contentStyleType=\"text/css\" height=\"12px\" preserveAspectRatio=\"none\" style=\"width:12px;height:12px;\" version=\"1.1\" viewBox=\"0 0 12 12\" width=\"12px\" zoomAndPan=\"magnify\"><defs/><g><!--MD5=[e1ab0c84c44d2fef8bf5f140f2689906]\n",
       "@startuml\r\n",
       "skinparam roundcorner 20\r\n",
       "skinparam BoxPadding 20\r\n",
       "skinparam SequenceBoxBackgroundColor #white\r\n",
       "skinparam style strictuml\r\n",
       "skinparam maxMessageSize 100\r\n",
       "top to bottom direction\r\n",
       "skinparam monochrome true\r\n",
       "skinparam classbackgroundcolor white\r\n",
       "skinparam shadowing false\r\n",
       "skinparam wrapWidth 300\r\n",
       "hide circle\r\n",
       "\r\n",
       "@enduml\r\n",
       "\n",
       "PlantUML version 1.2020.13(Sat Jun 13 12:26:38 UTC 2020)\n",
       "(EPL source distribution)\n",
       "Java Runtime: OpenJDK Runtime Environment\n",
       "JVM: OpenJDK 64-Bit Server VM\n",
       "Default Encoding: UTF-8\n",
       "Language: en\n",
       "Country: null\n",
       "--></g></svg>"
      ]
     },
     "execution_count": 49,
     "metadata": {},
     "output_type": "execute_result"
    }
   ],
   "source": [
    "%viz --style=\"TB\" --view=\"Sequence\" \"AliasTest\""
   ]
  },
  {
   "cell_type": "code",
   "execution_count": 50,
   "id": "3b791f79",
   "metadata": {
    "execution": {
     "iopub.execute_input": "2022-08-19T08:20:51.436853Z",
     "iopub.status.busy": "2022-08-19T08:20:51.436325Z",
     "iopub.status.idle": "2022-08-19T08:20:51.500193Z",
     "shell.execute_reply": "2022-08-19T08:20:51.499760Z"
    }
   },
   "outputs": [
    {
     "data": {
      "image/svg+xml": [
       "<?xml version=\"1.0\" encoding=\"UTF-8\" standalone=\"no\"?><svg xmlns=\"http://www.w3.org/2000/svg\" xmlns:xlink=\"http://www.w3.org/1999/xlink\" contentScriptType=\"application/ecmascript\" contentStyleType=\"text/css\" height=\"387px\" preserveAspectRatio=\"none\" style=\"width:406px;height:387px;\" version=\"1.1\" viewBox=\"0 0 406 387\" width=\"406px\" zoomAndPan=\"magnify\"><defs/><g><!--MD5=[fbc87193dbaf4d95561dea2c320d4a47]\n",
       "cluster E1--><a href=\"psysml:02b7e9b9-6677-468f-8dad-8ced33a218a4\" target=\"_top\" title=\"psysml:02b7e9b9-6677-468f-8dad-8ced33a218a4\" xlink:actuate=\"onRequest\" xlink:href=\"psysml:02b7e9b9-6677-468f-8dad-8ced33a218a4\" xlink:show=\"new\" xlink:title=\"psysml:02b7e9b9-6677-468f-8dad-8ced33a218a4\" xlink:type=\"simple\"><polygon fill=\"#FFFFFF\" points=\"16,6,84,6,91,28.2969,384,28.2969,384,375,16,375,16,6\" style=\"stroke: #000000; stroke-width: 1.5;\"/><line style=\"stroke: #000000; stroke-width: 1.5;\" x1=\"16\" x2=\"91\" y1=\"28.2969\" y2=\"28.2969\"/><text fill=\"#000000\" font-family=\"sans-serif\" font-size=\"14\" font-weight=\"bold\" lengthAdjust=\"spacingAndGlyphs\" textLength=\"62\" x=\"20\" y=\"20.9951\">AliasTest</text></a><!--MD5=[b4997ac47864f28c2f74865a473b2911]\n",
       "class E2--><a href=\"psysml:c7feeda3-a834-41bb-a074-923ea0011430\" target=\"_top\" title=\"psysml:c7feeda3-a834-41bb-a074-923ea0011430\" xlink:actuate=\"onRequest\" xlink:href=\"psysml:c7feeda3-a834-41bb-a074-923ea0011430\" xlink:show=\"new\" xlink:title=\"psysml:c7feeda3-a834-41bb-a074-923ea0011430\" xlink:type=\"simple\"><rect fill=\"#FFFFFF\" height=\"45.9375\" id=\"E2\" rx=\"10\" ry=\"10\" style=\"stroke: #383838; stroke-width: 1.5;\" width=\"165\" x=\"202.5\" y=\"56\"/><text fill=\"#000000\" font-family=\"sans-serif\" font-size=\"12\" font-style=\"italic\" lengthAdjust=\"spacingAndGlyphs\" textLength=\"69\" x=\"250.5\" y=\"72.1387\">«attribute»</text><text fill=\"#000000\" font-family=\"sans-serif\" font-size=\"12\" lengthAdjust=\"spacingAndGlyphs\" textLength=\"159\" x=\"205.5\" y=\"86.1074\">b :&gt; ISQSpaceTime::width</text><line style=\"stroke: #383838; stroke-width: 1.5;\" x1=\"203.5\" x2=\"366.5\" y1=\"93.9375\" y2=\"93.9375\"/></a><!--MD5=[09b614a08d8cba4a07c9adeb5e0fee81]\n",
       "class E3--><a href=\"psysml:1a450028-471a-4a88-b6bb-254dda2007f7\" target=\"_top\" title=\"psysml:1a450028-471a-4a88-b6bb-254dda2007f7\" xlink:actuate=\"onRequest\" xlink:href=\"psysml:1a450028-471a-4a88-b6bb-254dda2007f7\" xlink:show=\"new\" xlink:title=\"psysml:1a450028-471a-4a88-b6bb-254dda2007f7\" xlink:type=\"simple\"><rect fill=\"#FFFFFF\" height=\"75.5469\" id=\"E3\" style=\"stroke: #383838; stroke-width: 1.5;\" width=\"70\" x=\"158\" y=\"177\"/><text fill=\"#000000\" font-family=\"sans-serif\" font-size=\"12\" font-style=\"italic\" lengthAdjust=\"spacingAndGlyphs\" textLength=\"68\" x=\"159\" y=\"193.1387\">«part  def»</text><text fill=\"#000000\" font-family=\"sans-serif\" font-size=\"12\" lengthAdjust=\"spacingAndGlyphs\" textLength=\"16\" x=\"185\" y=\"207.1074\">P1</text><line style=\"stroke: #383838; stroke-width: 1.5;\" x1=\"159\" x2=\"227\" y1=\"214.9375\" y2=\"214.9375\"/><text fill=\"#000000\" font-family=\"sans-serif\" font-size=\"11\" lengthAdjust=\"spacingAndGlyphs\" textLength=\"36\" x=\"164\" y=\"245.9526\">porig1</text><line style=\"stroke: #383838; stroke-width: 1.0;\" x1=\"159\" x2=\"178\" y1=\"229.3398\" y2=\"229.3398\"/><text fill=\"#000000\" font-family=\"sans-serif\" font-size=\"11\" lengthAdjust=\"spacingAndGlyphs\" textLength=\"30\" x=\"178\" y=\"232.6479\">ports</text><line style=\"stroke: #383838; stroke-width: 1.0;\" x1=\"208\" x2=\"227\" y1=\"229.3398\" y2=\"229.3398\"/></a><!--MD5=[ebbe1d658d1005bcc118a6aa81145e00]\n",
       "class E4--><a href=\"psysml:528ad082-e547-41e1-93e2-4f734da3b1f6\" target=\"_top\" title=\"psysml:528ad082-e547-41e1-93e2-4f734da3b1f6\" xlink:actuate=\"onRequest\" xlink:href=\"psysml:528ad082-e547-41e1-93e2-4f734da3b1f6\" xlink:show=\"new\" xlink:title=\"psysml:528ad082-e547-41e1-93e2-4f734da3b1f6\" xlink:type=\"simple\"><rect fill=\"#FFFFFF\" height=\"45.9375\" id=\"E4\" rx=\"10\" ry=\"10\" style=\"stroke: #383838; stroke-width: 1.5;\" width=\"50\" x=\"164\" y=\"313\"/><text fill=\"#000000\" font-family=\"sans-serif\" font-size=\"12\" font-style=\"italic\" lengthAdjust=\"spacingAndGlyphs\" textLength=\"40\" x=\"169\" y=\"329.1387\">«port»</text><text fill=\"#000000\" font-family=\"sans-serif\" font-size=\"12\" lengthAdjust=\"spacingAndGlyphs\" textLength=\"40\" x=\"167\" y=\"343.1074\">porig1</text><line style=\"stroke: #383838; stroke-width: 1.5;\" x1=\"165\" x2=\"213\" y1=\"350.9375\" y2=\"350.9375\"/></a><!--MD5=[270fce915f116d4de14055a7c1d9a0f3]\n",
       "class E5--><a href=\"psysml:73838eb5-9ecb-4193-8391-1ddf76ff61b3\" target=\"_top\" title=\"psysml:73838eb5-9ecb-4193-8391-1ddf76ff61b3\" xlink:actuate=\"onRequest\" xlink:href=\"psysml:73838eb5-9ecb-4193-8391-1ddf76ff61b3\" xlink:show=\"new\" xlink:title=\"psysml:73838eb5-9ecb-4193-8391-1ddf76ff61b3\" xlink:type=\"simple\"><rect fill=\"#FFFFFF\" height=\"45.9375\" id=\"E5\" rx=\"10\" ry=\"10\" style=\"stroke: #383838; stroke-width: 1.5;\" width=\"50\" x=\"117\" y=\"56\"/><text fill=\"#000000\" font-family=\"sans-serif\" font-size=\"12\" font-style=\"italic\" lengthAdjust=\"spacingAndGlyphs\" textLength=\"40\" x=\"122\" y=\"72.1387\">«part»</text><text fill=\"#000000\" font-family=\"sans-serif\" font-size=\"12\" lengthAdjust=\"spacingAndGlyphs\" textLength=\"40\" x=\"120\" y=\"86.1074\">p1: P1</text><line style=\"stroke: #383838; stroke-width: 1.5;\" x1=\"118\" x2=\"166\" y1=\"93.9375\" y2=\"93.9375\"/></a><!--MD5=[60a26617385b1d2d0262a64233df1f8d]\n",
       "class E6--><a href=\"psysml:6875339d-23d6-4973-8a77-102c2bf220f1\" target=\"_top\" title=\"psysml:6875339d-23d6-4973-8a77-102c2bf220f1\" xlink:actuate=\"onRequest\" xlink:href=\"psysml:6875339d-23d6-4973-8a77-102c2bf220f1\" xlink:show=\"new\" xlink:title=\"psysml:6875339d-23d6-4973-8a77-102c2bf220f1\" xlink:type=\"simple\"><rect fill=\"#FFFFFF\" height=\"45.9375\" id=\"E6\" rx=\"10\" ry=\"10\" style=\"stroke: #383838; stroke-width: 1.5;\" width=\"42\" x=\"81\" y=\"192\"/><text fill=\"#000000\" font-family=\"sans-serif\" font-size=\"12\" font-style=\"italic\" lengthAdjust=\"spacingAndGlyphs\" textLength=\"40\" x=\"82\" y=\"208.1387\">«port»</text><text fill=\"#000000\" font-family=\"sans-serif\" font-size=\"12\" lengthAdjust=\"spacingAndGlyphs\" textLength=\"24\" x=\"88\" y=\"222.1074\">po1</text><line style=\"stroke: #383838; stroke-width: 1.5;\" x1=\"82\" x2=\"122\" y1=\"229.9375\" y2=\"229.9375\"/></a><!--MD5=[2156ba9850f5573cc1fc38a6a4b2f02b]\n",
       "class E7--><a href=\"psysml:73d7b051-2240-4fe3-9278-fa0d634854f8\" target=\"_top\" title=\"psysml:73d7b051-2240-4fe3-9278-fa0d634854f8\" xlink:actuate=\"onRequest\" xlink:href=\"psysml:73d7b051-2240-4fe3-9278-fa0d634854f8\" xlink:show=\"new\" xlink:title=\"psysml:73d7b051-2240-4fe3-9278-fa0d634854f8\" xlink:type=\"simple\"><rect fill=\"#FFFFFF\" height=\"75.5469\" id=\"E7\" rx=\"10\" ry=\"10\" style=\"stroke: #383838; stroke-width: 1.5;\" width=\"50\" x=\"32\" y=\"41\"/><text fill=\"#000000\" font-family=\"sans-serif\" font-size=\"12\" font-style=\"italic\" lengthAdjust=\"spacingAndGlyphs\" textLength=\"40\" x=\"37\" y=\"57.1387\">«part»</text><text fill=\"#000000\" font-family=\"sans-serif\" font-size=\"12\" lengthAdjust=\"spacingAndGlyphs\" textLength=\"40\" x=\"35\" y=\"71.1074\">p2: P1</text><line style=\"stroke: #383838; stroke-width: 1.5;\" x1=\"33\" x2=\"81\" y1=\"78.9375\" y2=\"78.9375\"/><text fill=\"#000000\" font-family=\"sans-serif\" font-size=\"11\" lengthAdjust=\"spacingAndGlyphs\" textLength=\"32\" x=\"38\" y=\"109.9526\">pdest</text><line style=\"stroke: #383838; stroke-width: 1.0;\" x1=\"33\" x2=\"42\" y1=\"93.3398\" y2=\"93.3398\"/><text fill=\"#000000\" font-family=\"sans-serif\" font-size=\"11\" lengthAdjust=\"spacingAndGlyphs\" textLength=\"30\" x=\"42\" y=\"96.6479\">ports</text><line style=\"stroke: #383838; stroke-width: 1.0;\" x1=\"72\" x2=\"81\" y1=\"93.3398\" y2=\"93.3398\"/></a><!--MD5=[b9389687b975829384b498ac4b7476b2]\n",
       "class E8--><a href=\"psysml:6cb98d60-0ab8-42f0-badc-3a033a17e212\" target=\"_top\" title=\"psysml:6cb98d60-0ab8-42f0-badc-3a033a17e212\" xlink:actuate=\"onRequest\" xlink:href=\"psysml:6cb98d60-0ab8-42f0-badc-3a033a17e212\" xlink:show=\"new\" xlink:title=\"psysml:6cb98d60-0ab8-42f0-badc-3a033a17e212\" xlink:type=\"simple\"><rect fill=\"#FFFFFF\" height=\"45.9375\" id=\"E8\" rx=\"10\" ry=\"10\" style=\"stroke: #383838; stroke-width: 1.5;\" width=\"46\" x=\"79\" y=\"313\"/><text fill=\"#000000\" font-family=\"sans-serif\" font-size=\"12\" font-style=\"italic\" lengthAdjust=\"spacingAndGlyphs\" textLength=\"40\" x=\"82\" y=\"329.1387\">«port»</text><text fill=\"#000000\" font-family=\"sans-serif\" font-size=\"12\" lengthAdjust=\"spacingAndGlyphs\" textLength=\"36\" x=\"82\" y=\"343.1074\">pdest</text><line style=\"stroke: #383838; stroke-width: 1.5;\" x1=\"80\" x2=\"124\" y1=\"350.9375\" y2=\"350.9375\"/></a><!--MD5=[4672eba38e49728da53d11aeb285b987]\n",
       "reverse link E3 to E4--><a href=\"psysml:b408bcfe-af80-429f-8bb7-74524c32282e\" target=\"_top\" title=\"psysml:b408bcfe-af80-429f-8bb7-74524c32282e\" xlink:actuate=\"onRequest\" xlink:href=\"psysml:b408bcfe-af80-429f-8bb7-74524c32282e\" xlink:show=\"new\" xlink:title=\"psysml:b408bcfe-af80-429f-8bb7-74524c32282e\" xlink:type=\"simple\"><path d=\"M191.31,266.34 C190.76,282.61 190.18,299.81 189.74,312.93 \" fill=\"none\" id=\"E3&lt;-E4\" style=\"stroke: #383838; stroke-width: 1.0;\"/><polygon fill=\"#FFFFFF\" points=\"191.76,253,187.558,258.8603,191.3514,264.993,195.5534,259.1327,191.76,253\" style=\"stroke: #383838; stroke-width: 1.0;\"/><text fill=\"#000000\" font-family=\"sans-serif\" font-size=\"13\" lengthAdjust=\"spacingAndGlyphs\" textLength=\"8\" x=\"180.8639\" y=\"301.8075\">1</text></a><!--MD5=[e9be52314489bd878ff4c7144b63c9e1]\n",
       "link E5 to E3--><a href=\"psysml:de9d1539-3df1-480f-91a9-ed9f950b1f96\" target=\"_top\" title=\"psysml:de9d1539-3df1-480f-91a9-ed9f950b1f96\" xlink:actuate=\"onRequest\" xlink:href=\"psysml:de9d1539-3df1-480f-91a9-ed9f950b1f96\" xlink:show=\"new\" xlink:title=\"psysml:de9d1539-3df1-480f-91a9-ed9f950b1f96\" xlink:type=\"simple\"><path d=\"M150.42,102.13 C156.21,117.35 164.18,138.29 171.66,157.93 \" fill=\"none\" id=\"E5-&gt;E3\" style=\"stroke: #383838; stroke-width: 1.0;\"/><polygon fill=\"#FFFFFF\" points=\"178.88,176.89,165.5815,161.6208,178.6665,156.6427,178.88,176.89\" style=\"stroke: #383838; stroke-width: 1.0;\"/><ellipse cx=\"165.424\" cy=\"155.5821\" fill=\"#383838\" rx=\"2\" ry=\"2\" style=\"stroke: #383838; stroke-width: 1.0;\"/><ellipse cx=\"174.7704\" cy=\"152.0263\" fill=\"#383838\" rx=\"2\" ry=\"2\" style=\"stroke: #383838; stroke-width: 1.0;\"/></a><!--MD5=[85d356282659285ab4b2cfe2f634dd2b]\n",
       "reverse link E5 to E6--><a href=\"psysml:1d973b34-aa26-4796-bb60-99a7b7743581\" target=\"_top\" title=\"psysml:1d973b34-aa26-4796-bb60-99a7b7743581\" xlink:actuate=\"onRequest\" xlink:href=\"psysml:1d973b34-aa26-4796-bb60-99a7b7743581\" xlink:show=\"new\" xlink:title=\"psysml:1d973b34-aa26-4796-bb60-99a7b7743581\" xlink:type=\"simple\"><path d=\"M131.62,114.76 C124.36,139.1 114.87,170.88 108.61,191.84 \" fill=\"none\" id=\"E5&lt;-E6\" style=\"stroke: #383838; stroke-width: 1.0;\"/><polygon fill=\"#FFFFFF\" points=\"135.39,102.13,129.8375,106.7311,131.9491,113.6261,137.5016,109.025,135.39,102.13\" style=\"stroke: #383838; stroke-width: 1.0;\"/><text fill=\"#000000\" font-family=\"sans-serif\" font-size=\"13\" lengthAdjust=\"spacingAndGlyphs\" textLength=\"8\" x=\"101.2788\" y=\"181.0753\">1</text></a><!--MD5=[f667431f98296947986a1a7595a31603]\n",
       "link E6 to E4--><a href=\"psysml:73eeba8b-cad5-4501-9cd6-c52ba77489ee\" target=\"_top\" title=\"psysml:73eeba8b-cad5-4501-9cd6-c52ba77489ee\" xlink:actuate=\"onRequest\" xlink:href=\"psysml:73eeba8b-cad5-4501-9cd6-c52ba77489ee\" xlink:show=\"new\" xlink:title=\"psysml:73eeba8b-cad5-4501-9cd6-c52ba77489ee\" xlink:type=\"simple\"><path d=\"M118.16,238.1 C130.11,254.45 146.69,277.12 160.8,296.43 \" fill=\"none\" id=\"E6-&gt;E4\" style=\"stroke: #383838; stroke-width: 1.0;\"/><polygon fill=\"#FFFFFF\" points=\"172.63,312.61,155.76,301.4117,167.0576,293.1434,172.63,312.61\" style=\"stroke: #383838; stroke-width: 1.0;\"/><line style=\"stroke: #383838; stroke-width: 2.0;\" x1=\"153.5158\" x2=\"164.8134\" y1=\"298.3452\" y2=\"290.0769\"/></a><!--MD5=[14ccda38c055a5c0da953d572bc50960]\n",
       "link E7 to E3--><a href=\"psysml:52eea9f8-f20f-41d5-8944-6f19cdd988b1\" target=\"_top\" title=\"psysml:52eea9f8-f20f-41d5-8944-6f19cdd988b1\" xlink:actuate=\"onRequest\" xlink:href=\"psysml:52eea9f8-f20f-41d5-8944-6f19cdd988b1\" xlink:show=\"new\" xlink:title=\"psysml:52eea9f8-f20f-41d5-8944-6f19cdd988b1\" xlink:type=\"simple\"><path d=\"M82.26,104.89 C99.38,121.76 122.59,144.62 143.33,165.06 \" fill=\"none\" id=\"E7-&gt;E3\" style=\"stroke: #383838; stroke-width: 1.0;\"/><polygon fill=\"#FFFFFF\" points=\"157.88,179.39,139.4314,171.0443,149.2556,161.0701,157.88,179.39\" style=\"stroke: #383838; stroke-width: 1.0;\"/><ellipse cx=\"136.774\" cy=\"165.6196\" fill=\"#383838\" rx=\"2\" ry=\"2\" style=\"stroke: #383838; stroke-width: 1.0;\"/><ellipse cx=\"143.7912\" cy=\"158.4951\" fill=\"#383838\" rx=\"2\" ry=\"2\" style=\"stroke: #383838; stroke-width: 1.0;\"/></a><!--MD5=[dc164f5e8a733ab456ef1add180e9e34]\n",
       "reverse link E7 to E8--><a href=\"psysml:7dc24cb7-d6ba-40a4-b073-8d397bf1a7ae\" target=\"_top\" title=\"psysml:7dc24cb7-d6ba-40a4-b073-8d397bf1a7ae\" xlink:actuate=\"onRequest\" xlink:href=\"psysml:7dc24cb7-d6ba-40a4-b073-8d397bf1a7ae\" xlink:show=\"new\" xlink:title=\"psysml:7dc24cb7-d6ba-40a4-b073-8d397bf1a7ae\" xlink:type=\"simple\"><path d=\"M53.89,130.23 C52.97,165.15 54.21,212.5 64,253 C69.16,274.35 80.04,296.87 88.84,312.9 \" fill=\"none\" id=\"E7&lt;-E8\" style=\"stroke: #383838; stroke-width: 1.0;\"/><polygon fill=\"#FFFFFF\" points=\"54.36,117.03,50.1514,122.8856,53.9378,129.0226,58.1464,123.167,54.36,117.03\" style=\"stroke: #383838; stroke-width: 1.0;\"/><text fill=\"#000000\" font-family=\"sans-serif\" font-size=\"13\" lengthAdjust=\"spacingAndGlyphs\" textLength=\"8\" x=\"86.3783\" y=\"301.7694\">1</text></a><!--MD5=[0a839d0f80c2d72d4b9b307f046d0de8]\n",
       "link E6 to E8--><a href=\"psysml:6785e7ae-ef30-46fa-a69d-d6daab2c7c15\" target=\"_top\" title=\"psysml:6785e7ae-ef30-46fa-a69d-d6daab2c7c15\" xlink:actuate=\"onRequest\" xlink:href=\"psysml:6785e7ae-ef30-46fa-a69d-d6daab2c7c15\" xlink:show=\"new\" xlink:title=\"psysml:6785e7ae-ef30-46fa-a69d-d6daab2c7c15\" xlink:type=\"simple\"><path d=\"M91.82,238.1 C88.41,259.34 88.39,291.28 91.78,312.61 \" fill=\"none\" id=\"E6-E8\" style=\"stroke: #383838; stroke-width: 3.0;\"/><text fill=\"#000000\" font-family=\"sans-serif\" font-size=\"13\" lengthAdjust=\"spacingAndGlyphs\" textLength=\"7\" x=\"81.2643\" y=\"301.7864\">*</text></a><!--MD5=[0a839d0f80c2d72d4b9b307f046d0de8]\n",
       "link E6 to E8--><a href=\"psysml:868c8138-312d-42c2-8f4f-f83047efce23\" target=\"_top\" title=\"psysml:868c8138-312d-42c2-8f4f-f83047efce23\" xlink:actuate=\"onRequest\" xlink:href=\"psysml:868c8138-312d-42c2-8f4f-f83047efce23\" xlink:show=\"new\" xlink:title=\"psysml:868c8138-312d-42c2-8f4f-f83047efce23\" xlink:type=\"simple\"><path d=\"M112.78,238.1 C116.39,259.34 116.41,291.28 112.82,312.61 \" fill=\"none\" id=\"E6-E8-1\" style=\"stroke: #383838; stroke-width: 3.0;\"/><text fill=\"#000000\" font-family=\"sans-serif\" font-size=\"13\" lengthAdjust=\"spacingAndGlyphs\" textLength=\"7\" x=\"107.6957\" y=\"301.7864\">*</text></a><!--MD5=[3b417bcca3d6c8bb1631991c411adf03]\n",
       "@startuml\r\n",
       "top to bottom direction\r\n",
       "skinparam monochrome true\r\n",
       "skinparam classbackgroundcolor white\r\n",
       "skinparam shadowing false\r\n",
       "skinparam wrapWidth 300\r\n",
       "hide circle\r\n",
       "\r\n",
       "package \"AliasTest\" as E1  [[psysml:02b7e9b9-6677-468f-8dad-8ced33a218a4 ]]  {\r\n",
       "comp usage \"b :> ISQSpaceTime::width\" as E2  <<(T,blue) attribute>> [[psysml:c7feeda3-a834-41bb-a074-923ea0011430 ]] {\r\n",
       "}\r\n",
       "comp def \"P1\" as E3  <<(T,blue) part  def>> [[psysml:1a450028-471a-4a88-b6bb-254dda2007f7 ]] {\r\n",
       "- - ports - -\r\n",
       "porig1\r\n",
       "}\r\n",
       "comp usage \"porig1 \" as E4  <<(T,blue) port>> [[psysml:528ad082-e547-41e1-93e2-4f734da3b1f6 ]] {\r\n",
       "}\r\n",
       "comp usage \"p1: P1 \" as E5  <<(T,blue) part>> [[psysml:73838eb5-9ecb-4193-8391-1ddf76ff61b3 ]] {\r\n",
       "}\r\n",
       "comp usage \"po1 \" as E6  <<(T,blue) port>> [[psysml:6875339d-23d6-4973-8a77-102c2bf220f1 ]] {\r\n",
       "}\r\n",
       "comp usage \"p2: P1 \" as E7  <<(T,blue) part>> [[psysml:73d7b051-2240-4fe3-9278-fa0d634854f8 ]] {\r\n",
       "- - ports - -\r\n",
       "pdest\r\n",
       "}\r\n",
       "comp usage \"pdest \" as E8  <<(T,blue) port>> [[psysml:6cb98d60-0ab8-42f0-badc-3a033a17e212 ]] {\r\n",
       "}\r\n",
       "}\r\n",
       "E3 o- - \"1\"E4 [[psysml:b408bcfe-af80-429f-8bb7-74524c32282e ]] \r\n",
       "E5 - -:|> E3 [[psysml:de9d1539-3df1-480f-91a9-ed9f950b1f96 ]] \r\n",
       "E5 o- - \"1\"E6 [[psysml:1d973b34-aa26-4796-bb60-99a7b7743581 ]] \r\n",
       "E6 - -||> E4 [[psysml:73eeba8b-cad5-4501-9cd6-c52ba77489ee ]] \r\n",
       "E7 - -:|> E3 [[psysml:52eea9f8-f20f-41d5-8944-6f19cdd988b1 ]] \r\n",
       "E7 o- - \"1\"E8 [[psysml:7dc24cb7-d6ba-40a4-b073-8d397bf1a7ae ]] \r\n",
       "E6 -[thickness=3]- \"*\"E8 [[psysml:6785e7ae-ef30-46fa-a69d-d6daab2c7c15 ]] \r\n",
       "E6 -[thickness=3]- \"*\"E8 [[psysml:868c8138-312d-42c2-8f4f-f83047efce23 ]] \r\n",
       "@enduml\r\n",
       "\n",
       "PlantUML version 1.2020.13(Sat Jun 13 12:26:38 UTC 2020)\n",
       "(EPL source distribution)\n",
       "Java Runtime: OpenJDK Runtime Environment\n",
       "JVM: OpenJDK 64-Bit Server VM\n",
       "Default Encoding: UTF-8\n",
       "Language: en\n",
       "Country: null\n",
       "--></g></svg>"
      ]
     },
     "execution_count": 50,
     "metadata": {},
     "output_type": "execute_result"
    }
   ],
   "source": [
    "%viz --style=\"TB\" --view=\"MIXED\" \"AliasTest\""
   ]
  },
  {
   "cell_type": "code",
   "execution_count": 51,
   "id": "6105fcd9",
   "metadata": {
    "execution": {
     "iopub.execute_input": "2022-08-19T08:20:51.549930Z",
     "iopub.status.busy": "2022-08-19T08:20:51.549462Z",
     "iopub.status.idle": "2022-08-19T08:20:51.610111Z",
     "shell.execute_reply": "2022-08-19T08:20:51.609661Z"
    }
   },
   "outputs": [
    {
     "data": {
      "image/svg+xml": [
       "<?xml version=\"1.0\" encoding=\"UTF-8\" standalone=\"no\"?><svg xmlns=\"http://www.w3.org/2000/svg\" xmlns:xlink=\"http://www.w3.org/1999/xlink\" contentScriptType=\"application/ecmascript\" contentStyleType=\"text/css\" height=\"387px\" preserveAspectRatio=\"none\" style=\"width:406px;height:387px;\" version=\"1.1\" viewBox=\"0 0 406 387\" width=\"406px\" zoomAndPan=\"magnify\"><defs/><g><!--MD5=[fbc87193dbaf4d95561dea2c320d4a47]\n",
       "cluster E1--><a href=\"psysml:02b7e9b9-6677-468f-8dad-8ced33a218a4\" target=\"_top\" title=\"psysml:02b7e9b9-6677-468f-8dad-8ced33a218a4\" xlink:actuate=\"onRequest\" xlink:href=\"psysml:02b7e9b9-6677-468f-8dad-8ced33a218a4\" xlink:show=\"new\" xlink:title=\"psysml:02b7e9b9-6677-468f-8dad-8ced33a218a4\" xlink:type=\"simple\"><polygon fill=\"#FFFFFF\" points=\"16,6,84,6,91,28.2969,384,28.2969,384,375,16,375,16,6\" style=\"stroke: #000000; stroke-width: 1.5;\"/><line style=\"stroke: #000000; stroke-width: 1.5;\" x1=\"16\" x2=\"91\" y1=\"28.2969\" y2=\"28.2969\"/><text fill=\"#000000\" font-family=\"sans-serif\" font-size=\"14\" font-weight=\"bold\" lengthAdjust=\"spacingAndGlyphs\" textLength=\"62\" x=\"20\" y=\"20.9951\">AliasTest</text></a><!--MD5=[b4997ac47864f28c2f74865a473b2911]\n",
       "class E2--><a href=\"psysml:c7feeda3-a834-41bb-a074-923ea0011430\" target=\"_top\" title=\"psysml:c7feeda3-a834-41bb-a074-923ea0011430\" xlink:actuate=\"onRequest\" xlink:href=\"psysml:c7feeda3-a834-41bb-a074-923ea0011430\" xlink:show=\"new\" xlink:title=\"psysml:c7feeda3-a834-41bb-a074-923ea0011430\" xlink:type=\"simple\"><rect fill=\"#FFFFFF\" height=\"45.9375\" id=\"E2\" rx=\"10\" ry=\"10\" style=\"stroke: #383838; stroke-width: 1.5;\" width=\"165\" x=\"202.5\" y=\"56\"/><text fill=\"#000000\" font-family=\"sans-serif\" font-size=\"12\" font-style=\"italic\" lengthAdjust=\"spacingAndGlyphs\" textLength=\"69\" x=\"250.5\" y=\"72.1387\">«attribute»</text><text fill=\"#000000\" font-family=\"sans-serif\" font-size=\"12\" lengthAdjust=\"spacingAndGlyphs\" textLength=\"159\" x=\"205.5\" y=\"86.1074\">b :&gt; ISQSpaceTime::width</text><line style=\"stroke: #383838; stroke-width: 1.5;\" x1=\"203.5\" x2=\"366.5\" y1=\"93.9375\" y2=\"93.9375\"/></a><!--MD5=[09b614a08d8cba4a07c9adeb5e0fee81]\n",
       "class E3--><a href=\"psysml:1a450028-471a-4a88-b6bb-254dda2007f7\" target=\"_top\" title=\"psysml:1a450028-471a-4a88-b6bb-254dda2007f7\" xlink:actuate=\"onRequest\" xlink:href=\"psysml:1a450028-471a-4a88-b6bb-254dda2007f7\" xlink:show=\"new\" xlink:title=\"psysml:1a450028-471a-4a88-b6bb-254dda2007f7\" xlink:type=\"simple\"><rect fill=\"#FFFFFF\" height=\"75.5469\" id=\"E3\" style=\"stroke: #383838; stroke-width: 1.5;\" width=\"70\" x=\"158\" y=\"177\"/><text fill=\"#000000\" font-family=\"sans-serif\" font-size=\"12\" font-style=\"italic\" lengthAdjust=\"spacingAndGlyphs\" textLength=\"68\" x=\"159\" y=\"193.1387\">«part  def»</text><text fill=\"#000000\" font-family=\"sans-serif\" font-size=\"12\" lengthAdjust=\"spacingAndGlyphs\" textLength=\"16\" x=\"185\" y=\"207.1074\">P1</text><line style=\"stroke: #383838; stroke-width: 1.5;\" x1=\"159\" x2=\"227\" y1=\"214.9375\" y2=\"214.9375\"/><text fill=\"#000000\" font-family=\"sans-serif\" font-size=\"11\" lengthAdjust=\"spacingAndGlyphs\" textLength=\"36\" x=\"164\" y=\"245.9526\">porig1</text><line style=\"stroke: #383838; stroke-width: 1.0;\" x1=\"159\" x2=\"178\" y1=\"229.3398\" y2=\"229.3398\"/><text fill=\"#000000\" font-family=\"sans-serif\" font-size=\"11\" lengthAdjust=\"spacingAndGlyphs\" textLength=\"30\" x=\"178\" y=\"232.6479\">ports</text><line style=\"stroke: #383838; stroke-width: 1.0;\" x1=\"208\" x2=\"227\" y1=\"229.3398\" y2=\"229.3398\"/></a><!--MD5=[ebbe1d658d1005bcc118a6aa81145e00]\n",
       "class E4--><a href=\"psysml:528ad082-e547-41e1-93e2-4f734da3b1f6\" target=\"_top\" title=\"psysml:528ad082-e547-41e1-93e2-4f734da3b1f6\" xlink:actuate=\"onRequest\" xlink:href=\"psysml:528ad082-e547-41e1-93e2-4f734da3b1f6\" xlink:show=\"new\" xlink:title=\"psysml:528ad082-e547-41e1-93e2-4f734da3b1f6\" xlink:type=\"simple\"><rect fill=\"#FFFFFF\" height=\"45.9375\" id=\"E4\" rx=\"10\" ry=\"10\" style=\"stroke: #383838; stroke-width: 1.5;\" width=\"50\" x=\"164\" y=\"313\"/><text fill=\"#000000\" font-family=\"sans-serif\" font-size=\"12\" font-style=\"italic\" lengthAdjust=\"spacingAndGlyphs\" textLength=\"40\" x=\"169\" y=\"329.1387\">«port»</text><text fill=\"#000000\" font-family=\"sans-serif\" font-size=\"12\" lengthAdjust=\"spacingAndGlyphs\" textLength=\"40\" x=\"167\" y=\"343.1074\">porig1</text><line style=\"stroke: #383838; stroke-width: 1.5;\" x1=\"165\" x2=\"213\" y1=\"350.9375\" y2=\"350.9375\"/></a><!--MD5=[270fce915f116d4de14055a7c1d9a0f3]\n",
       "class E5--><a href=\"psysml:73838eb5-9ecb-4193-8391-1ddf76ff61b3\" target=\"_top\" title=\"psysml:73838eb5-9ecb-4193-8391-1ddf76ff61b3\" xlink:actuate=\"onRequest\" xlink:href=\"psysml:73838eb5-9ecb-4193-8391-1ddf76ff61b3\" xlink:show=\"new\" xlink:title=\"psysml:73838eb5-9ecb-4193-8391-1ddf76ff61b3\" xlink:type=\"simple\"><rect fill=\"#FFFFFF\" height=\"45.9375\" id=\"E5\" rx=\"10\" ry=\"10\" style=\"stroke: #383838; stroke-width: 1.5;\" width=\"50\" x=\"117\" y=\"56\"/><text fill=\"#000000\" font-family=\"sans-serif\" font-size=\"12\" font-style=\"italic\" lengthAdjust=\"spacingAndGlyphs\" textLength=\"40\" x=\"122\" y=\"72.1387\">«part»</text><text fill=\"#000000\" font-family=\"sans-serif\" font-size=\"12\" lengthAdjust=\"spacingAndGlyphs\" textLength=\"40\" x=\"120\" y=\"86.1074\">p1: P1</text><line style=\"stroke: #383838; stroke-width: 1.5;\" x1=\"118\" x2=\"166\" y1=\"93.9375\" y2=\"93.9375\"/></a><!--MD5=[60a26617385b1d2d0262a64233df1f8d]\n",
       "class E6--><a href=\"psysml:6875339d-23d6-4973-8a77-102c2bf220f1\" target=\"_top\" title=\"psysml:6875339d-23d6-4973-8a77-102c2bf220f1\" xlink:actuate=\"onRequest\" xlink:href=\"psysml:6875339d-23d6-4973-8a77-102c2bf220f1\" xlink:show=\"new\" xlink:title=\"psysml:6875339d-23d6-4973-8a77-102c2bf220f1\" xlink:type=\"simple\"><rect fill=\"#FFFFFF\" height=\"45.9375\" id=\"E6\" rx=\"10\" ry=\"10\" style=\"stroke: #383838; stroke-width: 1.5;\" width=\"42\" x=\"81\" y=\"192\"/><text fill=\"#000000\" font-family=\"sans-serif\" font-size=\"12\" font-style=\"italic\" lengthAdjust=\"spacingAndGlyphs\" textLength=\"40\" x=\"82\" y=\"208.1387\">«port»</text><text fill=\"#000000\" font-family=\"sans-serif\" font-size=\"12\" lengthAdjust=\"spacingAndGlyphs\" textLength=\"24\" x=\"88\" y=\"222.1074\">po1</text><line style=\"stroke: #383838; stroke-width: 1.5;\" x1=\"82\" x2=\"122\" y1=\"229.9375\" y2=\"229.9375\"/></a><!--MD5=[2156ba9850f5573cc1fc38a6a4b2f02b]\n",
       "class E7--><a href=\"psysml:73d7b051-2240-4fe3-9278-fa0d634854f8\" target=\"_top\" title=\"psysml:73d7b051-2240-4fe3-9278-fa0d634854f8\" xlink:actuate=\"onRequest\" xlink:href=\"psysml:73d7b051-2240-4fe3-9278-fa0d634854f8\" xlink:show=\"new\" xlink:title=\"psysml:73d7b051-2240-4fe3-9278-fa0d634854f8\" xlink:type=\"simple\"><rect fill=\"#FFFFFF\" height=\"75.5469\" id=\"E7\" rx=\"10\" ry=\"10\" style=\"stroke: #383838; stroke-width: 1.5;\" width=\"50\" x=\"32\" y=\"41\"/><text fill=\"#000000\" font-family=\"sans-serif\" font-size=\"12\" font-style=\"italic\" lengthAdjust=\"spacingAndGlyphs\" textLength=\"40\" x=\"37\" y=\"57.1387\">«part»</text><text fill=\"#000000\" font-family=\"sans-serif\" font-size=\"12\" lengthAdjust=\"spacingAndGlyphs\" textLength=\"40\" x=\"35\" y=\"71.1074\">p2: P1</text><line style=\"stroke: #383838; stroke-width: 1.5;\" x1=\"33\" x2=\"81\" y1=\"78.9375\" y2=\"78.9375\"/><text fill=\"#000000\" font-family=\"sans-serif\" font-size=\"11\" lengthAdjust=\"spacingAndGlyphs\" textLength=\"32\" x=\"38\" y=\"109.9526\">pdest</text><line style=\"stroke: #383838; stroke-width: 1.0;\" x1=\"33\" x2=\"42\" y1=\"93.3398\" y2=\"93.3398\"/><text fill=\"#000000\" font-family=\"sans-serif\" font-size=\"11\" lengthAdjust=\"spacingAndGlyphs\" textLength=\"30\" x=\"42\" y=\"96.6479\">ports</text><line style=\"stroke: #383838; stroke-width: 1.0;\" x1=\"72\" x2=\"81\" y1=\"93.3398\" y2=\"93.3398\"/></a><!--MD5=[b9389687b975829384b498ac4b7476b2]\n",
       "class E8--><a href=\"psysml:6cb98d60-0ab8-42f0-badc-3a033a17e212\" target=\"_top\" title=\"psysml:6cb98d60-0ab8-42f0-badc-3a033a17e212\" xlink:actuate=\"onRequest\" xlink:href=\"psysml:6cb98d60-0ab8-42f0-badc-3a033a17e212\" xlink:show=\"new\" xlink:title=\"psysml:6cb98d60-0ab8-42f0-badc-3a033a17e212\" xlink:type=\"simple\"><rect fill=\"#FFFFFF\" height=\"45.9375\" id=\"E8\" rx=\"10\" ry=\"10\" style=\"stroke: #383838; stroke-width: 1.5;\" width=\"46\" x=\"79\" y=\"313\"/><text fill=\"#000000\" font-family=\"sans-serif\" font-size=\"12\" font-style=\"italic\" lengthAdjust=\"spacingAndGlyphs\" textLength=\"40\" x=\"82\" y=\"329.1387\">«port»</text><text fill=\"#000000\" font-family=\"sans-serif\" font-size=\"12\" lengthAdjust=\"spacingAndGlyphs\" textLength=\"36\" x=\"82\" y=\"343.1074\">pdest</text><line style=\"stroke: #383838; stroke-width: 1.5;\" x1=\"80\" x2=\"124\" y1=\"350.9375\" y2=\"350.9375\"/></a><!--MD5=[4672eba38e49728da53d11aeb285b987]\n",
       "reverse link E3 to E4--><a href=\"psysml:b408bcfe-af80-429f-8bb7-74524c32282e\" target=\"_top\" title=\"psysml:b408bcfe-af80-429f-8bb7-74524c32282e\" xlink:actuate=\"onRequest\" xlink:href=\"psysml:b408bcfe-af80-429f-8bb7-74524c32282e\" xlink:show=\"new\" xlink:title=\"psysml:b408bcfe-af80-429f-8bb7-74524c32282e\" xlink:type=\"simple\"><path d=\"M189,266.29 C189,266.29 189,312.74 189,312.74 \" fill=\"none\" id=\"E3&lt;-E4\" style=\"stroke: #383838; stroke-width: 1.0;\"/><polygon fill=\"#FFFFFF\" points=\"189,253.29,185,259.29,189,265.29,193,259.29,189,253.29\" style=\"stroke: #383838; stroke-width: 1.0;\"/><text fill=\"#000000\" font-family=\"sans-serif\" font-size=\"13\" lengthAdjust=\"spacingAndGlyphs\" textLength=\"8\" x=\"179.975\" y=\"301.9497\">1</text></a><!--MD5=[e9be52314489bd878ff4c7144b63c9e1]\n",
       "link E5 to E3--><a href=\"psysml:de9d1539-3df1-480f-91a9-ed9f950b1f96\" target=\"_top\" title=\"psysml:de9d1539-3df1-480f-91a9-ed9f950b1f96\" xlink:actuate=\"onRequest\" xlink:href=\"psysml:de9d1539-3df1-480f-91a9-ed9f950b1f96\" xlink:show=\"new\" xlink:title=\"psysml:de9d1539-3df1-480f-91a9-ed9f950b1f96\" xlink:type=\"simple\"><path d=\"M164,102.07 C164,102.07 164,156.88 164,156.88 \" fill=\"none\" id=\"E5-&gt;E3\" style=\"stroke: #383838; stroke-width: 1.0;\"/><polygon fill=\"#FFFFFF\" points=\"164,176.88,157,157.88,171,157.88,164,176.88\" style=\"stroke: #383838; stroke-width: 1.0;\"/><ellipse cx=\"159\" cy=\"152.18\" fill=\"#383838\" rx=\"2\" ry=\"2\" style=\"stroke: #383838; stroke-width: 1.0;\"/><ellipse cx=\"169\" cy=\"152.18\" fill=\"#383838\" rx=\"2\" ry=\"2\" style=\"stroke: #383838; stroke-width: 1.0;\"/></a><!--MD5=[85d356282659285ab4b2cfe2f634dd2b]\n",
       "reverse link E5 to E6--><a href=\"psysml:1d973b34-aa26-4796-bb60-99a7b7743581\" target=\"_top\" title=\"psysml:1d973b34-aa26-4796-bb60-99a7b7743581\" xlink:actuate=\"onRequest\" xlink:href=\"psysml:1d973b34-aa26-4796-bb60-99a7b7743581\" xlink:show=\"new\" xlink:title=\"psysml:1d973b34-aa26-4796-bb60-99a7b7743581\" xlink:type=\"simple\"><path d=\"M103.79,79 C103.79,79 99.5,79 99.5,79 C99.5,79 99.5,153.13 99.5,191.93 \" fill=\"none\" id=\"E5&lt;-E6\" style=\"stroke: #383838; stroke-width: 1.0;\"/><polygon fill=\"#FFFFFF\" points=\"116.79,79,110.79,75,104.79,79,110.79,83,116.79,79\" style=\"stroke: #383838; stroke-width: 1.0;\"/><text fill=\"#000000\" font-family=\"sans-serif\" font-size=\"13\" lengthAdjust=\"spacingAndGlyphs\" textLength=\"8\" x=\"89.7531\" y=\"180.8075\">1</text></a><!--MD5=[f667431f98296947986a1a7595a31603]\n",
       "link E6 to E4--><a href=\"psysml:73eeba8b-cad5-4501-9cd6-c52ba77489ee\" target=\"_top\" title=\"psysml:73eeba8b-cad5-4501-9cd6-c52ba77489ee\" xlink:actuate=\"onRequest\" xlink:href=\"psysml:73eeba8b-cad5-4501-9cd6-c52ba77489ee\" xlink:show=\"new\" xlink:title=\"psysml:73eeba8b-cad5-4501-9cd6-c52ba77489ee\" xlink:type=\"simple\"><path d=\"M123.14,215 C132.53,215 141.5,215 141.5,215 C141.5,215 141.5,336 141.5,336 C141.5,336 143.86,336 143.86,336 \" fill=\"none\" id=\"E6-&gt;E4\" style=\"stroke: #383838; stroke-width: 1.0;\"/><polygon fill=\"#FFFFFF\" points=\"163.86,336,144.86,343,144.86,329,163.86,336\" style=\"stroke: #383838; stroke-width: 1.0;\"/><line style=\"stroke: #383838; stroke-width: 2.0;\" x1=\"141.06\" x2=\"141.06\" y1=\"343\" y2=\"329\"/></a><!--MD5=[14ccda38c055a5c0da953d572bc50960]\n",
       "link E7 to E3--><a href=\"psysml:52eea9f8-f20f-41d5-8944-6f19cdd988b1\" target=\"_top\" title=\"psysml:52eea9f8-f20f-41d5-8944-6f19cdd988b1\" xlink:actuate=\"onRequest\" xlink:href=\"psysml:52eea9f8-f20f-41d5-8944-6f19cdd988b1\" xlink:show=\"new\" xlink:title=\"psysml:52eea9f8-f20f-41d5-8944-6f19cdd988b1\" xlink:type=\"simple\"><path d=\"M82.18,110 C112.95,110 161,110 161,110 C161,110 161,156.8 161,156.8 \" fill=\"none\" id=\"E7-&gt;E3\" style=\"stroke: #383838; stroke-width: 1.0;\"/><polygon fill=\"#FFFFFF\" points=\"161,176.8,154,157.8,168,157.8,161,176.8\" style=\"stroke: #383838; stroke-width: 1.0;\"/><ellipse cx=\"156\" cy=\"152.1\" fill=\"#383838\" rx=\"2\" ry=\"2\" style=\"stroke: #383838; stroke-width: 1.0;\"/><ellipse cx=\"166\" cy=\"152.1\" fill=\"#383838\" rx=\"2\" ry=\"2\" style=\"stroke: #383838; stroke-width: 1.0;\"/></a><!--MD5=[dc164f5e8a733ab456ef1add180e9e34]\n",
       "reverse link E7 to E8--><a href=\"psysml:7dc24cb7-d6ba-40a4-b073-8d397bf1a7ae\" target=\"_top\" title=\"psysml:7dc24cb7-d6ba-40a4-b073-8d397bf1a7ae\" xlink:actuate=\"onRequest\" xlink:href=\"psysml:7dc24cb7-d6ba-40a4-b073-8d397bf1a7ae\" xlink:show=\"new\" xlink:title=\"psysml:7dc24cb7-d6ba-40a4-b073-8d397bf1a7ae\" xlink:type=\"simple\"><path d=\"M55.5,130.2 C55.5,130.2 55.5,336 55.5,336 C55.5,336 67.12,336 78.75,336 \" fill=\"none\" id=\"E7&lt;-E8\" style=\"stroke: #383838; stroke-width: 1.0;\"/><polygon fill=\"#FFFFFF\" points=\"55.5,117.2,51.5,123.2,55.5,129.2,59.5,123.2,55.5,117.2\" style=\"stroke: #383838; stroke-width: 1.0;\"/><text fill=\"#000000\" font-family=\"sans-serif\" font-size=\"13\" lengthAdjust=\"spacingAndGlyphs\" textLength=\"8\" x=\"63.0859\" y=\"330.985\">1</text></a><!--MD5=[0a839d0f80c2d72d4b9b307f046d0de8]\n",
       "link E6 to E8--><a href=\"psysml:6785e7ae-ef30-46fa-a69d-d6daab2c7c15\" target=\"_top\" title=\"psysml:6785e7ae-ef30-46fa-a69d-d6daab2c7c15\" xlink:actuate=\"onRequest\" xlink:href=\"psysml:6785e7ae-ef30-46fa-a69d-d6daab2c7c15\" xlink:show=\"new\" xlink:title=\"psysml:6785e7ae-ef30-46fa-a69d-d6daab2c7c15\" xlink:type=\"simple\"><path d=\"M95,238.04 C95,259.44 95,291.13 95,312.63 \" fill=\"none\" id=\"E6-E8\" style=\"stroke: #383838; stroke-width: 3.0;\"/><text fill=\"#000000\" font-family=\"sans-serif\" font-size=\"13\" lengthAdjust=\"spacingAndGlyphs\" textLength=\"7\" x=\"85.3094\" y=\"301.8115\">*</text></a><!--MD5=[0a839d0f80c2d72d4b9b307f046d0de8]\n",
       "link E6 to E8--><a href=\"psysml:868c8138-312d-42c2-8f4f-f83047efce23\" target=\"_top\" title=\"psysml:868c8138-312d-42c2-8f4f-f83047efce23\" xlink:actuate=\"onRequest\" xlink:href=\"psysml:868c8138-312d-42c2-8f4f-f83047efce23\" xlink:show=\"new\" xlink:title=\"psysml:868c8138-312d-42c2-8f4f-f83047efce23\" xlink:type=\"simple\"><path d=\"M109,238.04 C109,259.44 109,291.13 109,312.63 \" fill=\"none\" id=\"E6-E8-1\" style=\"stroke: #383838; stroke-width: 3.0;\"/><text fill=\"#000000\" font-family=\"sans-serif\" font-size=\"13\" lengthAdjust=\"spacingAndGlyphs\" textLength=\"7\" x=\"102.8969\" y=\"301.8115\">*</text></a><!--MD5=[5f3407e9826b5b2b9ffe48815afb42be]\n",
       "@startuml\r\n",
       "skinparam linetype ortho\r\n",
       "skinparam monochrome true\r\n",
       "skinparam classbackgroundcolor white\r\n",
       "skinparam shadowing false\r\n",
       "skinparam wrapWidth 300\r\n",
       "hide circle\r\n",
       "\r\n",
       "package \"AliasTest\" as E1  [[psysml:02b7e9b9-6677-468f-8dad-8ced33a218a4 ]]  {\r\n",
       "comp usage \"b :> ISQSpaceTime::width\" as E2  <<(T,blue) attribute>> [[psysml:c7feeda3-a834-41bb-a074-923ea0011430 ]] {\r\n",
       "}\r\n",
       "comp def \"P1\" as E3  <<(T,blue) part  def>> [[psysml:1a450028-471a-4a88-b6bb-254dda2007f7 ]] {\r\n",
       "- - ports - -\r\n",
       "porig1\r\n",
       "}\r\n",
       "comp usage \"porig1 \" as E4  <<(T,blue) port>> [[psysml:528ad082-e547-41e1-93e2-4f734da3b1f6 ]] {\r\n",
       "}\r\n",
       "comp usage \"p1: P1 \" as E5  <<(T,blue) part>> [[psysml:73838eb5-9ecb-4193-8391-1ddf76ff61b3 ]] {\r\n",
       "}\r\n",
       "comp usage \"po1 \" as E6  <<(T,blue) port>> [[psysml:6875339d-23d6-4973-8a77-102c2bf220f1 ]] {\r\n",
       "}\r\n",
       "comp usage \"p2: P1 \" as E7  <<(T,blue) part>> [[psysml:73d7b051-2240-4fe3-9278-fa0d634854f8 ]] {\r\n",
       "- - ports - -\r\n",
       "pdest\r\n",
       "}\r\n",
       "comp usage \"pdest \" as E8  <<(T,blue) port>> [[psysml:6cb98d60-0ab8-42f0-badc-3a033a17e212 ]] {\r\n",
       "}\r\n",
       "}\r\n",
       "E3 o- - \"1\"E4 [[psysml:b408bcfe-af80-429f-8bb7-74524c32282e ]] \r\n",
       "E5 - -:|> E3 [[psysml:de9d1539-3df1-480f-91a9-ed9f950b1f96 ]] \r\n",
       "E5 o- - \"1\"E6 [[psysml:1d973b34-aa26-4796-bb60-99a7b7743581 ]] \r\n",
       "E6 - -||> E4 [[psysml:73eeba8b-cad5-4501-9cd6-c52ba77489ee ]] \r\n",
       "E7 - -:|> E3 [[psysml:52eea9f8-f20f-41d5-8944-6f19cdd988b1 ]] \r\n",
       "E7 o- - \"1\"E8 [[psysml:7dc24cb7-d6ba-40a4-b073-8d397bf1a7ae ]] \r\n",
       "E6 -[thickness=3]- \"*\"E8 [[psysml:6785e7ae-ef30-46fa-a69d-d6daab2c7c15 ]] \r\n",
       "E6 -[thickness=3]- \"*\"E8 [[psysml:868c8138-312d-42c2-8f4f-f83047efce23 ]] \r\n",
       "@enduml\r\n",
       "\n",
       "PlantUML version 1.2020.13(Sat Jun 13 12:26:38 UTC 2020)\n",
       "(EPL source distribution)\n",
       "Java Runtime: OpenJDK Runtime Environment\n",
       "JVM: OpenJDK 64-Bit Server VM\n",
       "Default Encoding: UTF-8\n",
       "Language: en\n",
       "Country: null\n",
       "--></g></svg>"
      ]
     },
     "execution_count": 51,
     "metadata": {},
     "output_type": "execute_result"
    }
   ],
   "source": [
    "%viz --style=\"ORTHOLINE\" --view=\"Default\" \"AliasTest\""
   ]
  },
  {
   "cell_type": "code",
   "execution_count": 52,
   "id": "1ab15eac",
   "metadata": {
    "execution": {
     "iopub.execute_input": "2022-08-19T08:20:51.659632Z",
     "iopub.status.busy": "2022-08-19T08:20:51.659159Z",
     "iopub.status.idle": "2022-08-19T08:20:51.711656Z",
     "shell.execute_reply": "2022-08-19T08:20:51.710177Z"
    }
   },
   "outputs": [
    {
     "data": {
      "image/svg+xml": [
       "<?xml version=\"1.0\" encoding=\"UTF-8\" standalone=\"no\"?><svg xmlns=\"http://www.w3.org/2000/svg\" xmlns:xlink=\"http://www.w3.org/1999/xlink\" contentScriptType=\"application/ecmascript\" contentStyleType=\"text/css\" height=\"387px\" preserveAspectRatio=\"none\" style=\"width:406px;height:387px;\" version=\"1.1\" viewBox=\"0 0 406 387\" width=\"406px\" zoomAndPan=\"magnify\"><defs/><g><!--MD5=[fbc87193dbaf4d95561dea2c320d4a47]\n",
       "cluster E1--><a href=\"psysml:02b7e9b9-6677-468f-8dad-8ced33a218a4\" target=\"_top\" title=\"psysml:02b7e9b9-6677-468f-8dad-8ced33a218a4\" xlink:actuate=\"onRequest\" xlink:href=\"psysml:02b7e9b9-6677-468f-8dad-8ced33a218a4\" xlink:show=\"new\" xlink:title=\"psysml:02b7e9b9-6677-468f-8dad-8ced33a218a4\" xlink:type=\"simple\"><polygon fill=\"#FFFFFF\" points=\"16,6,84,6,91,28.2969,384,28.2969,384,375,16,375,16,6\" style=\"stroke: #000000; stroke-width: 1.5;\"/><line style=\"stroke: #000000; stroke-width: 1.5;\" x1=\"16\" x2=\"91\" y1=\"28.2969\" y2=\"28.2969\"/><text fill=\"#000000\" font-family=\"sans-serif\" font-size=\"14\" font-weight=\"bold\" lengthAdjust=\"spacingAndGlyphs\" textLength=\"62\" x=\"20\" y=\"20.9951\">AliasTest</text></a><!--MD5=[b4997ac47864f28c2f74865a473b2911]\n",
       "class E2--><a href=\"psysml:c7feeda3-a834-41bb-a074-923ea0011430\" target=\"_top\" title=\"psysml:c7feeda3-a834-41bb-a074-923ea0011430\" xlink:actuate=\"onRequest\" xlink:href=\"psysml:c7feeda3-a834-41bb-a074-923ea0011430\" xlink:show=\"new\" xlink:title=\"psysml:c7feeda3-a834-41bb-a074-923ea0011430\" xlink:type=\"simple\"><rect fill=\"#FFFFFF\" height=\"45.9375\" id=\"E2\" rx=\"10\" ry=\"10\" style=\"stroke: #383838; stroke-width: 1.5;\" width=\"165\" x=\"202.5\" y=\"56\"/><text fill=\"#000000\" font-family=\"sans-serif\" font-size=\"12\" font-style=\"italic\" lengthAdjust=\"spacingAndGlyphs\" textLength=\"69\" x=\"250.5\" y=\"72.1387\">«attribute»</text><text fill=\"#000000\" font-family=\"sans-serif\" font-size=\"12\" lengthAdjust=\"spacingAndGlyphs\" textLength=\"159\" x=\"205.5\" y=\"86.1074\">b :&gt; ISQSpaceTime::width</text><line style=\"stroke: #383838; stroke-width: 1.5;\" x1=\"203.5\" x2=\"366.5\" y1=\"93.9375\" y2=\"93.9375\"/></a><!--MD5=[09b614a08d8cba4a07c9adeb5e0fee81]\n",
       "class E3--><a href=\"psysml:1a450028-471a-4a88-b6bb-254dda2007f7\" target=\"_top\" title=\"psysml:1a450028-471a-4a88-b6bb-254dda2007f7\" xlink:actuate=\"onRequest\" xlink:href=\"psysml:1a450028-471a-4a88-b6bb-254dda2007f7\" xlink:show=\"new\" xlink:title=\"psysml:1a450028-471a-4a88-b6bb-254dda2007f7\" xlink:type=\"simple\"><rect fill=\"#FFFFFF\" height=\"75.5469\" id=\"E3\" style=\"stroke: #383838; stroke-width: 1.5;\" width=\"70\" x=\"158\" y=\"177\"/><text fill=\"#000000\" font-family=\"sans-serif\" font-size=\"12\" font-style=\"italic\" lengthAdjust=\"spacingAndGlyphs\" textLength=\"68\" x=\"159\" y=\"193.1387\">«part  def»</text><text fill=\"#000000\" font-family=\"sans-serif\" font-size=\"12\" lengthAdjust=\"spacingAndGlyphs\" textLength=\"16\" x=\"185\" y=\"207.1074\">P1</text><line style=\"stroke: #383838; stroke-width: 1.5;\" x1=\"159\" x2=\"227\" y1=\"214.9375\" y2=\"214.9375\"/><text fill=\"#000000\" font-family=\"sans-serif\" font-size=\"11\" lengthAdjust=\"spacingAndGlyphs\" textLength=\"36\" x=\"164\" y=\"245.9526\">porig1</text><line style=\"stroke: #383838; stroke-width: 1.0;\" x1=\"159\" x2=\"178\" y1=\"229.3398\" y2=\"229.3398\"/><text fill=\"#000000\" font-family=\"sans-serif\" font-size=\"11\" lengthAdjust=\"spacingAndGlyphs\" textLength=\"30\" x=\"178\" y=\"232.6479\">ports</text><line style=\"stroke: #383838; stroke-width: 1.0;\" x1=\"208\" x2=\"227\" y1=\"229.3398\" y2=\"229.3398\"/></a><!--MD5=[ebbe1d658d1005bcc118a6aa81145e00]\n",
       "class E4--><a href=\"psysml:528ad082-e547-41e1-93e2-4f734da3b1f6\" target=\"_top\" title=\"psysml:528ad082-e547-41e1-93e2-4f734da3b1f6\" xlink:actuate=\"onRequest\" xlink:href=\"psysml:528ad082-e547-41e1-93e2-4f734da3b1f6\" xlink:show=\"new\" xlink:title=\"psysml:528ad082-e547-41e1-93e2-4f734da3b1f6\" xlink:type=\"simple\"><rect fill=\"#FFFFFF\" height=\"45.9375\" id=\"E4\" rx=\"10\" ry=\"10\" style=\"stroke: #383838; stroke-width: 1.5;\" width=\"50\" x=\"164\" y=\"313\"/><text fill=\"#000000\" font-family=\"sans-serif\" font-size=\"12\" font-style=\"italic\" lengthAdjust=\"spacingAndGlyphs\" textLength=\"40\" x=\"169\" y=\"329.1387\">«port»</text><text fill=\"#000000\" font-family=\"sans-serif\" font-size=\"12\" lengthAdjust=\"spacingAndGlyphs\" textLength=\"40\" x=\"167\" y=\"343.1074\">porig1</text><line style=\"stroke: #383838; stroke-width: 1.5;\" x1=\"165\" x2=\"213\" y1=\"350.9375\" y2=\"350.9375\"/></a><!--MD5=[270fce915f116d4de14055a7c1d9a0f3]\n",
       "class E5--><a href=\"psysml:73838eb5-9ecb-4193-8391-1ddf76ff61b3\" target=\"_top\" title=\"psysml:73838eb5-9ecb-4193-8391-1ddf76ff61b3\" xlink:actuate=\"onRequest\" xlink:href=\"psysml:73838eb5-9ecb-4193-8391-1ddf76ff61b3\" xlink:show=\"new\" xlink:title=\"psysml:73838eb5-9ecb-4193-8391-1ddf76ff61b3\" xlink:type=\"simple\"><rect fill=\"#FFFFFF\" height=\"45.9375\" id=\"E5\" rx=\"10\" ry=\"10\" style=\"stroke: #383838; stroke-width: 1.5;\" width=\"50\" x=\"117\" y=\"56\"/><text fill=\"#000000\" font-family=\"sans-serif\" font-size=\"12\" font-style=\"italic\" lengthAdjust=\"spacingAndGlyphs\" textLength=\"40\" x=\"122\" y=\"72.1387\">«part»</text><text fill=\"#000000\" font-family=\"sans-serif\" font-size=\"12\" lengthAdjust=\"spacingAndGlyphs\" textLength=\"40\" x=\"120\" y=\"86.1074\">p1: P1</text><line style=\"stroke: #383838; stroke-width: 1.5;\" x1=\"118\" x2=\"166\" y1=\"93.9375\" y2=\"93.9375\"/></a><!--MD5=[60a26617385b1d2d0262a64233df1f8d]\n",
       "class E6--><a href=\"psysml:6875339d-23d6-4973-8a77-102c2bf220f1\" target=\"_top\" title=\"psysml:6875339d-23d6-4973-8a77-102c2bf220f1\" xlink:actuate=\"onRequest\" xlink:href=\"psysml:6875339d-23d6-4973-8a77-102c2bf220f1\" xlink:show=\"new\" xlink:title=\"psysml:6875339d-23d6-4973-8a77-102c2bf220f1\" xlink:type=\"simple\"><rect fill=\"#FFFFFF\" height=\"45.9375\" id=\"E6\" rx=\"10\" ry=\"10\" style=\"stroke: #383838; stroke-width: 1.5;\" width=\"42\" x=\"81\" y=\"192\"/><text fill=\"#000000\" font-family=\"sans-serif\" font-size=\"12\" font-style=\"italic\" lengthAdjust=\"spacingAndGlyphs\" textLength=\"40\" x=\"82\" y=\"208.1387\">«port»</text><text fill=\"#000000\" font-family=\"sans-serif\" font-size=\"12\" lengthAdjust=\"spacingAndGlyphs\" textLength=\"24\" x=\"88\" y=\"222.1074\">po1</text><line style=\"stroke: #383838; stroke-width: 1.5;\" x1=\"82\" x2=\"122\" y1=\"229.9375\" y2=\"229.9375\"/></a><!--MD5=[2156ba9850f5573cc1fc38a6a4b2f02b]\n",
       "class E7--><a href=\"psysml:73d7b051-2240-4fe3-9278-fa0d634854f8\" target=\"_top\" title=\"psysml:73d7b051-2240-4fe3-9278-fa0d634854f8\" xlink:actuate=\"onRequest\" xlink:href=\"psysml:73d7b051-2240-4fe3-9278-fa0d634854f8\" xlink:show=\"new\" xlink:title=\"psysml:73d7b051-2240-4fe3-9278-fa0d634854f8\" xlink:type=\"simple\"><rect fill=\"#FFFFFF\" height=\"75.5469\" id=\"E7\" rx=\"10\" ry=\"10\" style=\"stroke: #383838; stroke-width: 1.5;\" width=\"50\" x=\"32\" y=\"41\"/><text fill=\"#000000\" font-family=\"sans-serif\" font-size=\"12\" font-style=\"italic\" lengthAdjust=\"spacingAndGlyphs\" textLength=\"40\" x=\"37\" y=\"57.1387\">«part»</text><text fill=\"#000000\" font-family=\"sans-serif\" font-size=\"12\" lengthAdjust=\"spacingAndGlyphs\" textLength=\"40\" x=\"35\" y=\"71.1074\">p2: P1</text><line style=\"stroke: #383838; stroke-width: 1.5;\" x1=\"33\" x2=\"81\" y1=\"78.9375\" y2=\"78.9375\"/><text fill=\"#000000\" font-family=\"sans-serif\" font-size=\"11\" lengthAdjust=\"spacingAndGlyphs\" textLength=\"32\" x=\"38\" y=\"109.9526\">pdest</text><line style=\"stroke: #383838; stroke-width: 1.0;\" x1=\"33\" x2=\"42\" y1=\"93.3398\" y2=\"93.3398\"/><text fill=\"#000000\" font-family=\"sans-serif\" font-size=\"11\" lengthAdjust=\"spacingAndGlyphs\" textLength=\"30\" x=\"42\" y=\"96.6479\">ports</text><line style=\"stroke: #383838; stroke-width: 1.0;\" x1=\"72\" x2=\"81\" y1=\"93.3398\" y2=\"93.3398\"/></a><!--MD5=[b9389687b975829384b498ac4b7476b2]\n",
       "class E8--><a href=\"psysml:6cb98d60-0ab8-42f0-badc-3a033a17e212\" target=\"_top\" title=\"psysml:6cb98d60-0ab8-42f0-badc-3a033a17e212\" xlink:actuate=\"onRequest\" xlink:href=\"psysml:6cb98d60-0ab8-42f0-badc-3a033a17e212\" xlink:show=\"new\" xlink:title=\"psysml:6cb98d60-0ab8-42f0-badc-3a033a17e212\" xlink:type=\"simple\"><rect fill=\"#FFFFFF\" height=\"45.9375\" id=\"E8\" rx=\"10\" ry=\"10\" style=\"stroke: #383838; stroke-width: 1.5;\" width=\"46\" x=\"79\" y=\"313\"/><text fill=\"#000000\" font-family=\"sans-serif\" font-size=\"12\" font-style=\"italic\" lengthAdjust=\"spacingAndGlyphs\" textLength=\"40\" x=\"82\" y=\"329.1387\">«port»</text><text fill=\"#000000\" font-family=\"sans-serif\" font-size=\"12\" lengthAdjust=\"spacingAndGlyphs\" textLength=\"36\" x=\"82\" y=\"343.1074\">pdest</text><line style=\"stroke: #383838; stroke-width: 1.5;\" x1=\"80\" x2=\"124\" y1=\"350.9375\" y2=\"350.9375\"/></a><!--MD5=[4672eba38e49728da53d11aeb285b987]\n",
       "reverse link E3 to E4--><a href=\"psysml:b408bcfe-af80-429f-8bb7-74524c32282e\" target=\"_top\" title=\"psysml:b408bcfe-af80-429f-8bb7-74524c32282e\" xlink:actuate=\"onRequest\" xlink:href=\"psysml:b408bcfe-af80-429f-8bb7-74524c32282e\" xlink:show=\"new\" xlink:title=\"psysml:b408bcfe-af80-429f-8bb7-74524c32282e\" xlink:type=\"simple\"><path d=\"M189,266.29 C189,266.29 189,312.74 189,312.74 \" fill=\"none\" id=\"E3&lt;-E4\" style=\"stroke: #383838; stroke-width: 1.0;\"/><polygon fill=\"#FFFFFF\" points=\"189,253.29,185,259.29,189,265.29,193,259.29,189,253.29\" style=\"stroke: #383838; stroke-width: 1.0;\"/><text fill=\"#000000\" font-family=\"sans-serif\" font-size=\"13\" lengthAdjust=\"spacingAndGlyphs\" textLength=\"8\" x=\"179.975\" y=\"301.9497\">1</text></a><!--MD5=[e9be52314489bd878ff4c7144b63c9e1]\n",
       "link E5 to E3--><a href=\"psysml:de9d1539-3df1-480f-91a9-ed9f950b1f96\" target=\"_top\" title=\"psysml:de9d1539-3df1-480f-91a9-ed9f950b1f96\" xlink:actuate=\"onRequest\" xlink:href=\"psysml:de9d1539-3df1-480f-91a9-ed9f950b1f96\" xlink:show=\"new\" xlink:title=\"psysml:de9d1539-3df1-480f-91a9-ed9f950b1f96\" xlink:type=\"simple\"><path d=\"M164,102.07 C164,102.07 164,156.88 164,156.88 \" fill=\"none\" id=\"E5-&gt;E3\" style=\"stroke: #383838; stroke-width: 1.0;\"/><polygon fill=\"#FFFFFF\" points=\"164,176.88,157,157.88,171,157.88,164,176.88\" style=\"stroke: #383838; stroke-width: 1.0;\"/><ellipse cx=\"159\" cy=\"152.18\" fill=\"#383838\" rx=\"2\" ry=\"2\" style=\"stroke: #383838; stroke-width: 1.0;\"/><ellipse cx=\"169\" cy=\"152.18\" fill=\"#383838\" rx=\"2\" ry=\"2\" style=\"stroke: #383838; stroke-width: 1.0;\"/></a><!--MD5=[85d356282659285ab4b2cfe2f634dd2b]\n",
       "reverse link E5 to E6--><a href=\"psysml:1d973b34-aa26-4796-bb60-99a7b7743581\" target=\"_top\" title=\"psysml:1d973b34-aa26-4796-bb60-99a7b7743581\" xlink:actuate=\"onRequest\" xlink:href=\"psysml:1d973b34-aa26-4796-bb60-99a7b7743581\" xlink:show=\"new\" xlink:title=\"psysml:1d973b34-aa26-4796-bb60-99a7b7743581\" xlink:type=\"simple\"><path d=\"M103.79,79 C103.79,79 99.5,79 99.5,79 C99.5,79 99.5,153.13 99.5,191.93 \" fill=\"none\" id=\"E5&lt;-E6\" style=\"stroke: #383838; stroke-width: 1.0;\"/><polygon fill=\"#FFFFFF\" points=\"116.79,79,110.79,75,104.79,79,110.79,83,116.79,79\" style=\"stroke: #383838; stroke-width: 1.0;\"/><text fill=\"#000000\" font-family=\"sans-serif\" font-size=\"13\" lengthAdjust=\"spacingAndGlyphs\" textLength=\"8\" x=\"89.7531\" y=\"180.8075\">1</text></a><!--MD5=[f667431f98296947986a1a7595a31603]\n",
       "link E6 to E4--><a href=\"psysml:73eeba8b-cad5-4501-9cd6-c52ba77489ee\" target=\"_top\" title=\"psysml:73eeba8b-cad5-4501-9cd6-c52ba77489ee\" xlink:actuate=\"onRequest\" xlink:href=\"psysml:73eeba8b-cad5-4501-9cd6-c52ba77489ee\" xlink:show=\"new\" xlink:title=\"psysml:73eeba8b-cad5-4501-9cd6-c52ba77489ee\" xlink:type=\"simple\"><path d=\"M123.14,215 C132.53,215 141.5,215 141.5,215 C141.5,215 141.5,336 141.5,336 C141.5,336 143.86,336 143.86,336 \" fill=\"none\" id=\"E6-&gt;E4\" style=\"stroke: #383838; stroke-width: 1.0;\"/><polygon fill=\"#FFFFFF\" points=\"163.86,336,144.86,343,144.86,329,163.86,336\" style=\"stroke: #383838; stroke-width: 1.0;\"/><line style=\"stroke: #383838; stroke-width: 2.0;\" x1=\"141.06\" x2=\"141.06\" y1=\"343\" y2=\"329\"/></a><!--MD5=[14ccda38c055a5c0da953d572bc50960]\n",
       "link E7 to E3--><a href=\"psysml:52eea9f8-f20f-41d5-8944-6f19cdd988b1\" target=\"_top\" title=\"psysml:52eea9f8-f20f-41d5-8944-6f19cdd988b1\" xlink:actuate=\"onRequest\" xlink:href=\"psysml:52eea9f8-f20f-41d5-8944-6f19cdd988b1\" xlink:show=\"new\" xlink:title=\"psysml:52eea9f8-f20f-41d5-8944-6f19cdd988b1\" xlink:type=\"simple\"><path d=\"M82.18,110 C112.95,110 161,110 161,110 C161,110 161,156.8 161,156.8 \" fill=\"none\" id=\"E7-&gt;E3\" style=\"stroke: #383838; stroke-width: 1.0;\"/><polygon fill=\"#FFFFFF\" points=\"161,176.8,154,157.8,168,157.8,161,176.8\" style=\"stroke: #383838; stroke-width: 1.0;\"/><ellipse cx=\"156\" cy=\"152.1\" fill=\"#383838\" rx=\"2\" ry=\"2\" style=\"stroke: #383838; stroke-width: 1.0;\"/><ellipse cx=\"166\" cy=\"152.1\" fill=\"#383838\" rx=\"2\" ry=\"2\" style=\"stroke: #383838; stroke-width: 1.0;\"/></a><!--MD5=[dc164f5e8a733ab456ef1add180e9e34]\n",
       "reverse link E7 to E8--><a href=\"psysml:7dc24cb7-d6ba-40a4-b073-8d397bf1a7ae\" target=\"_top\" title=\"psysml:7dc24cb7-d6ba-40a4-b073-8d397bf1a7ae\" xlink:actuate=\"onRequest\" xlink:href=\"psysml:7dc24cb7-d6ba-40a4-b073-8d397bf1a7ae\" xlink:show=\"new\" xlink:title=\"psysml:7dc24cb7-d6ba-40a4-b073-8d397bf1a7ae\" xlink:type=\"simple\"><path d=\"M55.5,130.2 C55.5,130.2 55.5,336 55.5,336 C55.5,336 67.12,336 78.75,336 \" fill=\"none\" id=\"E7&lt;-E8\" style=\"stroke: #383838; stroke-width: 1.0;\"/><polygon fill=\"#FFFFFF\" points=\"55.5,117.2,51.5,123.2,55.5,129.2,59.5,123.2,55.5,117.2\" style=\"stroke: #383838; stroke-width: 1.0;\"/><text fill=\"#000000\" font-family=\"sans-serif\" font-size=\"13\" lengthAdjust=\"spacingAndGlyphs\" textLength=\"8\" x=\"63.0859\" y=\"330.985\">1</text></a><!--MD5=[0a839d0f80c2d72d4b9b307f046d0de8]\n",
       "link E6 to E8--><a href=\"psysml:6785e7ae-ef30-46fa-a69d-d6daab2c7c15\" target=\"_top\" title=\"psysml:6785e7ae-ef30-46fa-a69d-d6daab2c7c15\" xlink:actuate=\"onRequest\" xlink:href=\"psysml:6785e7ae-ef30-46fa-a69d-d6daab2c7c15\" xlink:show=\"new\" xlink:title=\"psysml:6785e7ae-ef30-46fa-a69d-d6daab2c7c15\" xlink:type=\"simple\"><path d=\"M95,238.04 C95,259.44 95,291.13 95,312.63 \" fill=\"none\" id=\"E6-E8\" style=\"stroke: #383838; stroke-width: 3.0;\"/><text fill=\"#000000\" font-family=\"sans-serif\" font-size=\"13\" lengthAdjust=\"spacingAndGlyphs\" textLength=\"7\" x=\"85.3094\" y=\"301.8115\">*</text></a><!--MD5=[0a839d0f80c2d72d4b9b307f046d0de8]\n",
       "link E6 to E8--><a href=\"psysml:868c8138-312d-42c2-8f4f-f83047efce23\" target=\"_top\" title=\"psysml:868c8138-312d-42c2-8f4f-f83047efce23\" xlink:actuate=\"onRequest\" xlink:href=\"psysml:868c8138-312d-42c2-8f4f-f83047efce23\" xlink:show=\"new\" xlink:title=\"psysml:868c8138-312d-42c2-8f4f-f83047efce23\" xlink:type=\"simple\"><path d=\"M109,238.04 C109,259.44 109,291.13 109,312.63 \" fill=\"none\" id=\"E6-E8-1\" style=\"stroke: #383838; stroke-width: 3.0;\"/><text fill=\"#000000\" font-family=\"sans-serif\" font-size=\"13\" lengthAdjust=\"spacingAndGlyphs\" textLength=\"7\" x=\"102.8969\" y=\"301.8115\">*</text></a><!--MD5=[5f3407e9826b5b2b9ffe48815afb42be]\n",
       "@startuml\r\n",
       "skinparam linetype ortho\r\n",
       "skinparam monochrome true\r\n",
       "skinparam classbackgroundcolor white\r\n",
       "skinparam shadowing false\r\n",
       "skinparam wrapWidth 300\r\n",
       "hide circle\r\n",
       "\r\n",
       "package \"AliasTest\" as E1  [[psysml:02b7e9b9-6677-468f-8dad-8ced33a218a4 ]]  {\r\n",
       "comp usage \"b :> ISQSpaceTime::width\" as E2  <<(T,blue) attribute>> [[psysml:c7feeda3-a834-41bb-a074-923ea0011430 ]] {\r\n",
       "}\r\n",
       "comp def \"P1\" as E3  <<(T,blue) part  def>> [[psysml:1a450028-471a-4a88-b6bb-254dda2007f7 ]] {\r\n",
       "- - ports - -\r\n",
       "porig1\r\n",
       "}\r\n",
       "comp usage \"porig1 \" as E4  <<(T,blue) port>> [[psysml:528ad082-e547-41e1-93e2-4f734da3b1f6 ]] {\r\n",
       "}\r\n",
       "comp usage \"p1: P1 \" as E5  <<(T,blue) part>> [[psysml:73838eb5-9ecb-4193-8391-1ddf76ff61b3 ]] {\r\n",
       "}\r\n",
       "comp usage \"po1 \" as E6  <<(T,blue) port>> [[psysml:6875339d-23d6-4973-8a77-102c2bf220f1 ]] {\r\n",
       "}\r\n",
       "comp usage \"p2: P1 \" as E7  <<(T,blue) part>> [[psysml:73d7b051-2240-4fe3-9278-fa0d634854f8 ]] {\r\n",
       "- - ports - -\r\n",
       "pdest\r\n",
       "}\r\n",
       "comp usage \"pdest \" as E8  <<(T,blue) port>> [[psysml:6cb98d60-0ab8-42f0-badc-3a033a17e212 ]] {\r\n",
       "}\r\n",
       "}\r\n",
       "E3 o- - \"1\"E4 [[psysml:b408bcfe-af80-429f-8bb7-74524c32282e ]] \r\n",
       "E5 - -:|> E3 [[psysml:de9d1539-3df1-480f-91a9-ed9f950b1f96 ]] \r\n",
       "E5 o- - \"1\"E6 [[psysml:1d973b34-aa26-4796-bb60-99a7b7743581 ]] \r\n",
       "E6 - -||> E4 [[psysml:73eeba8b-cad5-4501-9cd6-c52ba77489ee ]] \r\n",
       "E7 - -:|> E3 [[psysml:52eea9f8-f20f-41d5-8944-6f19cdd988b1 ]] \r\n",
       "E7 o- - \"1\"E8 [[psysml:7dc24cb7-d6ba-40a4-b073-8d397bf1a7ae ]] \r\n",
       "E6 -[thickness=3]- \"*\"E8 [[psysml:6785e7ae-ef30-46fa-a69d-d6daab2c7c15 ]] \r\n",
       "E6 -[thickness=3]- \"*\"E8 [[psysml:868c8138-312d-42c2-8f4f-f83047efce23 ]] \r\n",
       "@enduml\r\n",
       "\n",
       "PlantUML version 1.2020.13(Sat Jun 13 12:26:38 UTC 2020)\n",
       "(EPL source distribution)\n",
       "Java Runtime: OpenJDK Runtime Environment\n",
       "JVM: OpenJDK 64-Bit Server VM\n",
       "Default Encoding: UTF-8\n",
       "Language: en\n",
       "Country: null\n",
       "--></g></svg>"
      ]
     },
     "execution_count": 52,
     "metadata": {},
     "output_type": "execute_result"
    }
   ],
   "source": [
    "%viz --style=\"ORTHOLINE\" --view=\"Tree\" \"AliasTest\""
   ]
  },
  {
   "cell_type": "code",
   "execution_count": 53,
   "id": "2139cf4e",
   "metadata": {
    "execution": {
     "iopub.execute_input": "2022-08-19T08:20:51.761020Z",
     "iopub.status.busy": "2022-08-19T08:20:51.760579Z",
     "iopub.status.idle": "2022-08-19T08:20:51.770935Z",
     "shell.execute_reply": "2022-08-19T08:20:51.770560Z"
    }
   },
   "outputs": [
    {
     "data": {
      "image/svg+xml": [
       "<?xml version=\"1.0\" encoding=\"UTF-8\" standalone=\"no\"?><svg xmlns=\"http://www.w3.org/2000/svg\" xmlns:xlink=\"http://www.w3.org/1999/xlink\" contentScriptType=\"application/ecmascript\" contentStyleType=\"text/css\" height=\"12px\" preserveAspectRatio=\"none\" style=\"width:12px;height:12px;\" version=\"1.1\" viewBox=\"0 0 12 12\" width=\"12px\" zoomAndPan=\"magnify\"><defs/><g><!--MD5=[97d6f38768b311333d388e66b2b27985]\n",
       "@startuml\r\n",
       "skinparam linetype ortho\r\n",
       "skinparam monochrome true\r\n",
       "skinparam classbackgroundcolor white\r\n",
       "skinparam shadowing false\r\n",
       "skinparam wrapWidth 300\r\n",
       "hide circle\r\n",
       "\r\n",
       "@enduml\r\n",
       "\n",
       "PlantUML version 1.2020.13(Sat Jun 13 12:26:38 UTC 2020)\n",
       "(EPL source distribution)\n",
       "Java Runtime: OpenJDK Runtime Environment\n",
       "JVM: OpenJDK 64-Bit Server VM\n",
       "Default Encoding: UTF-8\n",
       "Language: en\n",
       "Country: null\n",
       "--></g></svg>"
      ]
     },
     "execution_count": 53,
     "metadata": {},
     "output_type": "execute_result"
    }
   ],
   "source": [
    "%viz --style=\"ORTHOLINE\" --view=\"State\" \"AliasTest\""
   ]
  },
  {
   "cell_type": "code",
   "execution_count": 54,
   "id": "468294d9",
   "metadata": {
    "execution": {
     "iopub.execute_input": "2022-08-19T08:20:51.820433Z",
     "iopub.status.busy": "2022-08-19T08:20:51.819987Z",
     "iopub.status.idle": "2022-08-19T08:20:51.869022Z",
     "shell.execute_reply": "2022-08-19T08:20:51.866987Z"
    }
   },
   "outputs": [
    {
     "data": {
      "image/svg+xml": [
       "<?xml version=\"1.0\" encoding=\"UTF-8\" standalone=\"no\"?><svg xmlns=\"http://www.w3.org/2000/svg\" xmlns:xlink=\"http://www.w3.org/1999/xlink\" contentScriptType=\"application/ecmascript\" contentStyleType=\"text/css\" height=\"398px\" preserveAspectRatio=\"none\" style=\"width:370px;height:398px;\" version=\"1.1\" viewBox=\"0 0 370 398\" width=\"370px\" zoomAndPan=\"magnify\"><defs/><g><!--MD5=[fbc87193dbaf4d95561dea2c320d4a47]\n",
       "cluster E1--><a href=\"psysml:02b7e9b9-6677-468f-8dad-8ced33a218a4\" target=\"_top\" title=\"psysml:02b7e9b9-6677-468f-8dad-8ced33a218a4\" xlink:actuate=\"onRequest\" xlink:href=\"psysml:02b7e9b9-6677-468f-8dad-8ced33a218a4\" xlink:show=\"new\" xlink:title=\"psysml:02b7e9b9-6677-468f-8dad-8ced33a218a4\" xlink:type=\"simple\"><polygon fill=\"#FFFFFF\" points=\"16,6,84,6,91,28.2969,348,28.2969,348,386.36,16,386.36,16,6\" style=\"stroke: #000000; stroke-width: 1.5;\"/><line style=\"stroke: #000000; stroke-width: 1.5;\" x1=\"16\" x2=\"91\" y1=\"28.2969\" y2=\"28.2969\"/><text fill=\"#000000\" font-family=\"sans-serif\" font-size=\"14\" font-weight=\"bold\" lengthAdjust=\"spacingAndGlyphs\" textLength=\"62\" x=\"20\" y=\"20.9951\">AliasTest</text></a><!--MD5=[d5e69f78d87373223dbae638b30a9c99]\n",
       "cluster E3--><a href=\"psysml:1a450028-471a-4a88-b6bb-254dda2007f7\" target=\"_top\" title=\"psysml:1a450028-471a-4a88-b6bb-254dda2007f7\" xlink:actuate=\"onRequest\" xlink:href=\"psysml:1a450028-471a-4a88-b6bb-254dda2007f7\" xlink:show=\"new\" xlink:title=\"psysml:1a450028-471a-4a88-b6bb-254dda2007f7\" xlink:type=\"simple\"><rect fill=\"#FFFFFF\" height=\"124.5\" id=\"E3\" style=\"stroke: #383838; stroke-width: 1.5;\" width=\"144\" x=\"180\" y=\"237.86\"/><rect fill=\"#F8F8F8\" height=\"37.9375\" style=\"stroke: #383838; stroke-width: 1.5;\" width=\"144\" x=\"180\" y=\"237.86\"/><text fill=\"#000000\" font-family=\"sans-serif\" font-size=\"12\" font-style=\"italic\" lengthAdjust=\"spacingAndGlyphs\" textLength=\"68\" x=\"218\" y=\"253.9987\">«part  def»</text><text fill=\"#000000\" font-family=\"sans-serif\" font-size=\"12\" lengthAdjust=\"spacingAndGlyphs\" textLength=\"16\" x=\"244\" y=\"267.9674\">P1</text></a><!--MD5=[14e3b0961a2654348d326746436168a1]\n",
       "cluster E6--><a href=\"psysml:73838eb5-9ecb-4193-8391-1ddf76ff61b3\" target=\"_top\" title=\"psysml:73838eb5-9ecb-4193-8391-1ddf76ff61b3\" xlink:actuate=\"onRequest\" xlink:href=\"psysml:73838eb5-9ecb-4193-8391-1ddf76ff61b3\" xlink:show=\"new\" xlink:title=\"psysml:73838eb5-9ecb-4193-8391-1ddf76ff61b3\" xlink:type=\"simple\"><rect fill=\"#FFFFFF\" height=\"97.36\" id=\"E6\" rx=\"10\" ry=\"10\" style=\"stroke: #383838; stroke-width: 1.5;\" width=\"114\" x=\"210\" y=\"49\"/><rect fill=\"#F8F8F8\" height=\"23.9688\" rx=\"10\" ry=\"10\" style=\"stroke: #F8F8F8; stroke-width: 1.5;\" width=\"114\" x=\"210\" y=\"49\"/><rect fill=\"#F8F8F8\" height=\"10\" style=\"stroke: #F8F8F8; stroke-width: 1.5;\" width=\"114\" x=\"210\" y=\"62.9688\"/><rect fill=\"none\" height=\"97.36\" id=\"E6\" rx=\"10\" ry=\"10\" style=\"stroke: #383838; stroke-width: 1.5;\" width=\"114\" x=\"210\" y=\"49\"/><text fill=\"#000000\" font-family=\"sans-serif\" font-size=\"12\" lengthAdjust=\"spacingAndGlyphs\" textLength=\"40\" x=\"247\" y=\"65.1387\">p1: P1</text><line style=\"stroke: #383838; stroke-width: 1.0;\" x1=\"210\" x2=\"324\" y1=\"72.9688\" y2=\"72.9688\"/></a><!--MD5=[55dfccfc6c49c2d10cd1bd2211a6c90c]\n",
       "cluster E8--><a href=\"psysml:73d7b051-2240-4fe3-9278-fa0d634854f8\" target=\"_top\" title=\"psysml:73d7b051-2240-4fe3-9278-fa0d634854f8\" xlink:actuate=\"onRequest\" xlink:href=\"psysml:73d7b051-2240-4fe3-9278-fa0d634854f8\" xlink:show=\"new\" xlink:title=\"psysml:73d7b051-2240-4fe3-9278-fa0d634854f8\" xlink:type=\"simple\"><rect fill=\"#FFFFFF\" height=\"73\" id=\"E8\" rx=\"10\" ry=\"10\" style=\"stroke: #383838; stroke-width: 1.5;\" width=\"83\" x=\"81\" y=\"198.36\"/><rect fill=\"#F8F8F8\" height=\"23.9688\" rx=\"10\" ry=\"10\" style=\"stroke: #F8F8F8; stroke-width: 1.5;\" width=\"83\" x=\"81\" y=\"198.36\"/><rect fill=\"#F8F8F8\" height=\"10\" style=\"stroke: #F8F8F8; stroke-width: 1.5;\" width=\"83\" x=\"81\" y=\"212.3288\"/><rect fill=\"none\" height=\"73\" id=\"E8\" rx=\"10\" ry=\"10\" style=\"stroke: #383838; stroke-width: 1.5;\" width=\"83\" x=\"81\" y=\"198.36\"/><text fill=\"#000000\" font-family=\"sans-serif\" font-size=\"12\" lengthAdjust=\"spacingAndGlyphs\" textLength=\"40\" x=\"102.5\" y=\"214.4987\">p2: P1</text><line style=\"stroke: #383838; stroke-width: 1.0;\" x1=\"81\" x2=\"164\" y1=\"222.3288\" y2=\"222.3288\"/></a><!--MD5=[b4997ac47864f28c2f74865a473b2911]\n",
       "class E2--><a href=\"psysml:c7feeda3-a834-41bb-a074-923ea0011430\" target=\"_top\" title=\"psysml:c7feeda3-a834-41bb-a074-923ea0011430\" xlink:actuate=\"onRequest\" xlink:href=\"psysml:c7feeda3-a834-41bb-a074-923ea0011430\" xlink:show=\"new\" xlink:title=\"psysml:c7feeda3-a834-41bb-a074-923ea0011430\" xlink:type=\"simple\"><rect fill=\"#FFFFFF\" height=\"45.9375\" id=\"E2\" rx=\"10\" ry=\"10\" style=\"stroke: #383838; stroke-width: 1.5;\" width=\"165\" x=\"32.5\" y=\"59.5\"/><text fill=\"#000000\" font-family=\"sans-serif\" font-size=\"12\" font-style=\"italic\" lengthAdjust=\"spacingAndGlyphs\" textLength=\"69\" x=\"80.5\" y=\"75.6387\">«attribute»</text><text fill=\"#000000\" font-family=\"sans-serif\" font-size=\"12\" lengthAdjust=\"spacingAndGlyphs\" textLength=\"159\" x=\"35.5\" y=\"89.6074\">b :&gt; ISQSpaceTime::width</text><line style=\"stroke: #383838; stroke-width: 1.5;\" x1=\"33.5\" x2=\"196.5\" y1=\"97.4375\" y2=\"97.4375\"/></a><text fill=\"#000000\" font-family=\"sans-serif\" font-size=\"14\" lengthAdjust=\"spacingAndGlyphs\" textLength=\"44\" x=\"174\" y=\"216.5582\">porig1</text><rect fill=\"#383838\" height=\"12\" style=\"stroke: #F8F8F8; stroke-width: 1.5;\" width=\"12\" x=\"192\" y=\"231.86\"/><text fill=\"#000000\" font-family=\"sans-serif\" font-size=\"14\" lengthAdjust=\"spacingAndGlyphs\" textLength=\"44\" x=\"221\" y=\"216.5582\">porig1</text><rect fill=\"#383838\" height=\"12\" style=\"stroke: #F8F8F8; stroke-width: 1.5;\" width=\"12\" x=\"239\" y=\"231.86\"/><text fill=\"#000000\" font-family=\"sans-serif\" font-size=\"14\" lengthAdjust=\"spacingAndGlyphs\" textLength=\"27\" x=\"212.5\" y=\"165.3551\">po1</text><rect fill=\"#383838\" height=\"12\" style=\"stroke: #F8F8F8; stroke-width: 1.5;\" width=\"12\" x=\"222\" y=\"140.36\"/><text fill=\"#000000\" font-family=\"sans-serif\" font-size=\"14\" lengthAdjust=\"spacingAndGlyphs\" textLength=\"40\" x=\"77\" y=\"177.0582\">pdest</text><rect fill=\"#383838\" height=\"12\" style=\"stroke: #F8F8F8; stroke-width: 1.5;\" width=\"12\" x=\"93\" y=\"192.36\"/><text fill=\"#000000\" font-family=\"sans-serif\" font-size=\"14\" lengthAdjust=\"spacingAndGlyphs\" textLength=\"40\" x=\"124\" y=\"177.0582\">pdest</text><rect fill=\"#383838\" height=\"12\" style=\"stroke: #F8F8F8; stroke-width: 1.5;\" width=\"12\" x=\"140\" y=\"192.36\"/><!--MD5=[a717450b82c80b9240a525fa862496af]\n",
       "link E6 to E3--><a href=\"psysml:de9d1539-3df1-480f-91a9-ed9f950b1f96\" target=\"_top\" title=\"psysml:de9d1539-3df1-480f-91a9-ed9f950b1f96\" xlink:actuate=\"onRequest\" xlink:href=\"psysml:de9d1539-3df1-480f-91a9-ed9f950b1f96\" xlink:show=\"new\" xlink:title=\"psysml:de9d1539-3df1-480f-91a9-ed9f950b1f96\" xlink:type=\"simple\"><path d=\"M275.25,146.7243 C275.25,147.0224 275.25,147.3211 275.25,147.6203 C275.25,152.4082 275.25,157.3439 275.25,162.3852 C275.25,172.4677 275.25,182.9728 275.25,193.5638 C275.25,198.8592 275.25,204.1762 275.25,209.4725 C275.25,212.1206 275.25,214.7636 275.25,217.3962 C275.25,218.7125 275.25,220.0262 275.25,221.3366 C275.25,221.9918 275.25,222.6462 275.25,223.2997 C275.25,223.4631 275.25,223.6264 275.25,223.7897 \" fill=\"none\" id=\"E6-&gt;E3\" style=\"stroke: #383838; stroke-width: 1.0;\"/><polygon fill=\"#FFFFFF\" points=\"275.25,223.7897,268.25,204.7897,282.25,204.7897,275.25,223.7897\" style=\"stroke: #383838; stroke-width: 1.0;\"/><ellipse cx=\"270.25\" cy=\"199.0897\" fill=\"#383838\" rx=\"2\" ry=\"2\" style=\"stroke: #383838; stroke-width: 1.0;\"/><ellipse cx=\"280.25\" cy=\"199.0897\" fill=\"#383838\" rx=\"2\" ry=\"2\" style=\"stroke: #383838; stroke-width: 1.0;\"/></a><!--MD5=[95fa686b5a16158bcdbcaeead89f639b]\n",
       "link E8 to E3--><a href=\"psysml:52eea9f8-f20f-41d5-8944-6f19cdd988b1\" target=\"_top\" title=\"psysml:52eea9f8-f20f-41d5-8944-6f19cdd988b1\" xlink:actuate=\"onRequest\" xlink:href=\"psysml:52eea9f8-f20f-41d5-8944-6f19cdd988b1\" xlink:show=\"new\" xlink:title=\"psysml:52eea9f8-f20f-41d5-8944-6f19cdd988b1\" xlink:type=\"simple\"><path d=\"M105,271.6308 C105,271.7574 105,271.8841 105,272.0108 C105,272.2644 105,272.5183 105,272.7726 C105,273.2811 105,273.791 105,274.302 C105,276.3461 105,278.4074 105,280.466 C105,284.583 105,288.6891 105,292.6238 C105,308.3625 105,321.36 105,321.36 C105,321.36 119.9175,321.36 140.3125,321.36 C150.51,321.36 162.0769,321.36 173.8331,321.36 C176.7722,321.36 179.7231,321.36 182.6674,321.36 C183.0354,321.36 183.4034,321.36 183.7711,321.36 \" fill=\"none\" id=\"E8-&gt;E3\" style=\"stroke: #383838; stroke-width: 1.0;\"/><polygon fill=\"#FFFFFF\" points=\"183.7711,321.36,164.7711,328.36,164.7711,314.36,183.7711,321.36\" style=\"stroke: #383838; stroke-width: 1.0;\"/><ellipse cx=\"159.0711\" cy=\"326.36\" fill=\"#383838\" rx=\"2\" ry=\"2\" style=\"stroke: #383838; stroke-width: 1.0;\"/><ellipse cx=\"159.0711\" cy=\"316.36\" fill=\"#383838\" rx=\"2\" ry=\"2\" style=\"stroke: #383838; stroke-width: 1.0;\"/></a><!--MD5=[1c0b9414cc86e0744215edee6abd8926]\n",
       "link E7 to E9--><a href=\"psysml:6785e7ae-ef30-46fa-a69d-d6daab2c7c15\" target=\"_top\" title=\"psysml:6785e7ae-ef30-46fa-a69d-d6daab2c7c15\" xlink:actuate=\"onRequest\" xlink:href=\"psysml:6785e7ae-ef30-46fa-a69d-d6daab2c7c15\" xlink:show=\"new\" xlink:title=\"psysml:6785e7ae-ef30-46fa-a69d-d6daab2c7c15\" xlink:type=\"simple\"><path d=\"M221.68,144.36 C195.51,144.36 97,144.36 97,144.36 C97,144.36 97,177.98 97,192.17 \" fill=\"none\" id=\"E7-E9\" style=\"stroke: #383838; stroke-width: 3.0;\"/><text fill=\"#000000\" font-family=\"sans-serif\" font-size=\"13\" lengthAdjust=\"spacingAndGlyphs\" textLength=\"7\" x=\"86.7688\" y=\"181.233\">*</text></a><!--MD5=[1c0b9414cc86e0744215edee6abd8926]\n",
       "link E7 to E9--><a href=\"psysml:868c8138-312d-42c2-8f4f-f83047efce23\" target=\"_top\" title=\"psysml:868c8138-312d-42c2-8f4f-f83047efce23\" xlink:actuate=\"onRequest\" xlink:href=\"psysml:868c8138-312d-42c2-8f4f-f83047efce23\" xlink:show=\"new\" xlink:title=\"psysml:868c8138-312d-42c2-8f4f-f83047efce23\" xlink:type=\"simple\"><path d=\"M221.87,148.36 C196.51,148.36 101,148.36 101,148.36 C101,148.36 101,178.88 101,192.23 \" fill=\"none\" id=\"E7-E9-1\" style=\"stroke: #383838; stroke-width: 3.0;\"/><text fill=\"#000000\" font-family=\"sans-serif\" font-size=\"13\" lengthAdjust=\"spacingAndGlyphs\" textLength=\"7\" x=\"104.2313\" y=\"181.3283\">*</text></a><!--MD5=[fbe01a5067ffa3c470211639a53ea949]\n",
       "@startuml\r\n",
       "skinparam ranksep 10\r\n",
       "skinparam rectangle {\r\n",
       " backgroundColor<<block>> LightGreen\r\n",
       "}\r\n",
       "skinparam linetype ortho\r\n",
       "skinparam monochrome true\r\n",
       "skinparam classbackgroundcolor white\r\n",
       "skinparam shadowing false\r\n",
       "skinparam wrapWidth 300\r\n",
       "hide circle\r\n",
       "\r\n",
       "package \"AliasTest\" as E1  [[psysml:02b7e9b9-6677-468f-8dad-8ced33a218a4 ]]  {\r\n",
       "comp usage \"b :> ISQSpaceTime::width\" as E2  <<(T,blue) attribute>> [[psysml:c7feeda3-a834-41bb-a074-923ea0011430 ]] {\r\n",
       "}\r\n",
       "rec def \"P1\" as E3  <<(T,blue) part  def>> [[psysml:1a450028-471a-4a88-b6bb-254dda2007f7 ]] {\r\n",
       "portin \"porig1 \" as E4  <<(T,blue) port>> [[psysml:528ad082-e547-41e1-93e2-4f734da3b1f6 ]] \r\n",
       "portin \"porig1 \" as E5  <<(T,blue) port>> [[psysml:528ad082-e547-41e1-93e2-4f734da3b1f6 ]] \r\n",
       "}\r\n",
       "rec usage \"p1: P1\" as E6  [[psysml:73838eb5-9ecb-4193-8391-1ddf76ff61b3 ]] {\r\n",
       "portout \"po1 \" as E7  <<(T,blue) port>> [[psysml:6875339d-23d6-4973-8a77-102c2bf220f1 ]] \r\n",
       "}\r\n",
       "rec usage \"p2: P1\" as E8  [[psysml:73d7b051-2240-4fe3-9278-fa0d634854f8 ]] {\r\n",
       "portin \"pdest \" as E9  <<(T,blue) port>> [[psysml:6cb98d60-0ab8-42f0-badc-3a033a17e212 ]] \r\n",
       "portin \"pdest \" as E10  <<(T,blue) port>> [[psysml:6cb98d60-0ab8-42f0-badc-3a033a17e212 ]] \r\n",
       "}\r\n",
       "}\r\n",
       "E6 - -:|> E3 [[psysml:de9d1539-3df1-480f-91a9-ed9f950b1f96 ]] \r\n",
       "E8 - -:|> E3 [[psysml:52eea9f8-f20f-41d5-8944-6f19cdd988b1 ]] \r\n",
       "E7 -[thickness=3]- \"*\"E9 [[psysml:6785e7ae-ef30-46fa-a69d-d6daab2c7c15 ]] \r\n",
       "E7 -[thickness=3]- \"*\"E9 [[psysml:868c8138-312d-42c2-8f4f-f83047efce23 ]] \r\n",
       "@enduml\r\n",
       "\n",
       "PlantUML version 1.2020.13(Sat Jun 13 12:26:38 UTC 2020)\n",
       "(EPL source distribution)\n",
       "Java Runtime: OpenJDK Runtime Environment\n",
       "JVM: OpenJDK 64-Bit Server VM\n",
       "Default Encoding: UTF-8\n",
       "Language: en\n",
       "Country: null\n",
       "--></g></svg>"
      ]
     },
     "execution_count": 54,
     "metadata": {},
     "output_type": "execute_result"
    }
   ],
   "source": [
    "%viz --style=\"ORTHOLINE\" --view=\"Interconnection\" \"AliasTest\""
   ]
  },
  {
   "cell_type": "code",
   "execution_count": 55,
   "id": "0c42a8ee",
   "metadata": {
    "execution": {
     "iopub.execute_input": "2022-08-19T08:20:51.917649Z",
     "iopub.status.busy": "2022-08-19T08:20:51.917187Z",
     "iopub.status.idle": "2022-08-19T08:20:51.927370Z",
     "shell.execute_reply": "2022-08-19T08:20:51.926931Z"
    }
   },
   "outputs": [
    {
     "data": {
      "image/svg+xml": [
       "<?xml version=\"1.0\" encoding=\"UTF-8\" standalone=\"no\"?><svg xmlns=\"http://www.w3.org/2000/svg\" xmlns:xlink=\"http://www.w3.org/1999/xlink\" contentScriptType=\"application/ecmascript\" contentStyleType=\"text/css\" height=\"12px\" preserveAspectRatio=\"none\" style=\"width:12px;height:12px;\" version=\"1.1\" viewBox=\"0 0 12 12\" width=\"12px\" zoomAndPan=\"magnify\"><defs/><g><!--MD5=[72934c63077099a26744516a776b4749]\n",
       "@startuml\r\n",
       "skinparam ranksep 8\r\n",
       "skinparam linetype ortho\r\n",
       "skinparam monochrome true\r\n",
       "skinparam classbackgroundcolor white\r\n",
       "skinparam shadowing false\r\n",
       "skinparam wrapWidth 300\r\n",
       "hide circle\r\n",
       "\r\n",
       "@enduml\r\n",
       "\n",
       "PlantUML version 1.2020.13(Sat Jun 13 12:26:38 UTC 2020)\n",
       "(EPL source distribution)\n",
       "Java Runtime: OpenJDK Runtime Environment\n",
       "JVM: OpenJDK 64-Bit Server VM\n",
       "Default Encoding: UTF-8\n",
       "Language: en\n",
       "Country: null\n",
       "--></g></svg>"
      ]
     },
     "execution_count": 55,
     "metadata": {},
     "output_type": "execute_result"
    }
   ],
   "source": [
    "%viz --style=\"ORTHOLINE\" --view=\"Action\" \"AliasTest\""
   ]
  },
  {
   "cell_type": "code",
   "execution_count": 56,
   "id": "c6d78462",
   "metadata": {
    "execution": {
     "iopub.execute_input": "2022-08-19T08:20:51.976705Z",
     "iopub.status.busy": "2022-08-19T08:20:51.976241Z",
     "iopub.status.idle": "2022-08-19T08:20:51.988172Z",
     "shell.execute_reply": "2022-08-19T08:20:51.987518Z"
    }
   },
   "outputs": [
    {
     "data": {
      "image/svg+xml": [
       "<?xml version=\"1.0\" encoding=\"UTF-8\" standalone=\"no\"?><svg xmlns=\"http://www.w3.org/2000/svg\" xmlns:xlink=\"http://www.w3.org/1999/xlink\" contentScriptType=\"application/ecmascript\" contentStyleType=\"text/css\" height=\"12px\" preserveAspectRatio=\"none\" style=\"width:12px;height:12px;\" version=\"1.1\" viewBox=\"0 0 12 12\" width=\"12px\" zoomAndPan=\"magnify\"><defs/><g><!--MD5=[30fc1de5121c5abddedd55b44417fde8]\n",
       "@startuml\r\n",
       "skinparam roundcorner 20\r\n",
       "skinparam BoxPadding 20\r\n",
       "skinparam SequenceBoxBackgroundColor #white\r\n",
       "skinparam style strictuml\r\n",
       "skinparam maxMessageSize 100\r\n",
       "skinparam linetype ortho\r\n",
       "skinparam monochrome true\r\n",
       "skinparam classbackgroundcolor white\r\n",
       "skinparam shadowing false\r\n",
       "skinparam wrapWidth 300\r\n",
       "hide circle\r\n",
       "\r\n",
       "@enduml\r\n",
       "\n",
       "PlantUML version 1.2020.13(Sat Jun 13 12:26:38 UTC 2020)\n",
       "(EPL source distribution)\n",
       "Java Runtime: OpenJDK Runtime Environment\n",
       "JVM: OpenJDK 64-Bit Server VM\n",
       "Default Encoding: UTF-8\n",
       "Language: en\n",
       "Country: null\n",
       "--></g></svg>"
      ]
     },
     "execution_count": 56,
     "metadata": {},
     "output_type": "execute_result"
    }
   ],
   "source": [
    "%viz --style=\"ORTHOLINE\" --view=\"Sequence\" \"AliasTest\""
   ]
  },
  {
   "cell_type": "code",
   "execution_count": 57,
   "id": "75e1020a",
   "metadata": {
    "execution": {
     "iopub.execute_input": "2022-08-19T08:20:52.037061Z",
     "iopub.status.busy": "2022-08-19T08:20:52.036598Z",
     "iopub.status.idle": "2022-08-19T08:20:52.094807Z",
     "shell.execute_reply": "2022-08-19T08:20:52.093242Z"
    }
   },
   "outputs": [
    {
     "data": {
      "image/svg+xml": [
       "<?xml version=\"1.0\" encoding=\"UTF-8\" standalone=\"no\"?><svg xmlns=\"http://www.w3.org/2000/svg\" xmlns:xlink=\"http://www.w3.org/1999/xlink\" contentScriptType=\"application/ecmascript\" contentStyleType=\"text/css\" height=\"387px\" preserveAspectRatio=\"none\" style=\"width:406px;height:387px;\" version=\"1.1\" viewBox=\"0 0 406 387\" width=\"406px\" zoomAndPan=\"magnify\"><defs/><g><!--MD5=[fbc87193dbaf4d95561dea2c320d4a47]\n",
       "cluster E1--><a href=\"psysml:02b7e9b9-6677-468f-8dad-8ced33a218a4\" target=\"_top\" title=\"psysml:02b7e9b9-6677-468f-8dad-8ced33a218a4\" xlink:actuate=\"onRequest\" xlink:href=\"psysml:02b7e9b9-6677-468f-8dad-8ced33a218a4\" xlink:show=\"new\" xlink:title=\"psysml:02b7e9b9-6677-468f-8dad-8ced33a218a4\" xlink:type=\"simple\"><polygon fill=\"#FFFFFF\" points=\"16,6,84,6,91,28.2969,384,28.2969,384,375,16,375,16,6\" style=\"stroke: #000000; stroke-width: 1.5;\"/><line style=\"stroke: #000000; stroke-width: 1.5;\" x1=\"16\" x2=\"91\" y1=\"28.2969\" y2=\"28.2969\"/><text fill=\"#000000\" font-family=\"sans-serif\" font-size=\"14\" font-weight=\"bold\" lengthAdjust=\"spacingAndGlyphs\" textLength=\"62\" x=\"20\" y=\"20.9951\">AliasTest</text></a><!--MD5=[b4997ac47864f28c2f74865a473b2911]\n",
       "class E2--><a href=\"psysml:c7feeda3-a834-41bb-a074-923ea0011430\" target=\"_top\" title=\"psysml:c7feeda3-a834-41bb-a074-923ea0011430\" xlink:actuate=\"onRequest\" xlink:href=\"psysml:c7feeda3-a834-41bb-a074-923ea0011430\" xlink:show=\"new\" xlink:title=\"psysml:c7feeda3-a834-41bb-a074-923ea0011430\" xlink:type=\"simple\"><rect fill=\"#FFFFFF\" height=\"45.9375\" id=\"E2\" rx=\"10\" ry=\"10\" style=\"stroke: #383838; stroke-width: 1.5;\" width=\"165\" x=\"202.5\" y=\"56\"/><text fill=\"#000000\" font-family=\"sans-serif\" font-size=\"12\" font-style=\"italic\" lengthAdjust=\"spacingAndGlyphs\" textLength=\"69\" x=\"250.5\" y=\"72.1387\">«attribute»</text><text fill=\"#000000\" font-family=\"sans-serif\" font-size=\"12\" lengthAdjust=\"spacingAndGlyphs\" textLength=\"159\" x=\"205.5\" y=\"86.1074\">b :&gt; ISQSpaceTime::width</text><line style=\"stroke: #383838; stroke-width: 1.5;\" x1=\"203.5\" x2=\"366.5\" y1=\"93.9375\" y2=\"93.9375\"/></a><!--MD5=[09b614a08d8cba4a07c9adeb5e0fee81]\n",
       "class E3--><a href=\"psysml:1a450028-471a-4a88-b6bb-254dda2007f7\" target=\"_top\" title=\"psysml:1a450028-471a-4a88-b6bb-254dda2007f7\" xlink:actuate=\"onRequest\" xlink:href=\"psysml:1a450028-471a-4a88-b6bb-254dda2007f7\" xlink:show=\"new\" xlink:title=\"psysml:1a450028-471a-4a88-b6bb-254dda2007f7\" xlink:type=\"simple\"><rect fill=\"#FFFFFF\" height=\"75.5469\" id=\"E3\" style=\"stroke: #383838; stroke-width: 1.5;\" width=\"70\" x=\"158\" y=\"177\"/><text fill=\"#000000\" font-family=\"sans-serif\" font-size=\"12\" font-style=\"italic\" lengthAdjust=\"spacingAndGlyphs\" textLength=\"68\" x=\"159\" y=\"193.1387\">«part  def»</text><text fill=\"#000000\" font-family=\"sans-serif\" font-size=\"12\" lengthAdjust=\"spacingAndGlyphs\" textLength=\"16\" x=\"185\" y=\"207.1074\">P1</text><line style=\"stroke: #383838; stroke-width: 1.5;\" x1=\"159\" x2=\"227\" y1=\"214.9375\" y2=\"214.9375\"/><text fill=\"#000000\" font-family=\"sans-serif\" font-size=\"11\" lengthAdjust=\"spacingAndGlyphs\" textLength=\"36\" x=\"164\" y=\"245.9526\">porig1</text><line style=\"stroke: #383838; stroke-width: 1.0;\" x1=\"159\" x2=\"178\" y1=\"229.3398\" y2=\"229.3398\"/><text fill=\"#000000\" font-family=\"sans-serif\" font-size=\"11\" lengthAdjust=\"spacingAndGlyphs\" textLength=\"30\" x=\"178\" y=\"232.6479\">ports</text><line style=\"stroke: #383838; stroke-width: 1.0;\" x1=\"208\" x2=\"227\" y1=\"229.3398\" y2=\"229.3398\"/></a><!--MD5=[ebbe1d658d1005bcc118a6aa81145e00]\n",
       "class E4--><a href=\"psysml:528ad082-e547-41e1-93e2-4f734da3b1f6\" target=\"_top\" title=\"psysml:528ad082-e547-41e1-93e2-4f734da3b1f6\" xlink:actuate=\"onRequest\" xlink:href=\"psysml:528ad082-e547-41e1-93e2-4f734da3b1f6\" xlink:show=\"new\" xlink:title=\"psysml:528ad082-e547-41e1-93e2-4f734da3b1f6\" xlink:type=\"simple\"><rect fill=\"#FFFFFF\" height=\"45.9375\" id=\"E4\" rx=\"10\" ry=\"10\" style=\"stroke: #383838; stroke-width: 1.5;\" width=\"50\" x=\"164\" y=\"313\"/><text fill=\"#000000\" font-family=\"sans-serif\" font-size=\"12\" font-style=\"italic\" lengthAdjust=\"spacingAndGlyphs\" textLength=\"40\" x=\"169\" y=\"329.1387\">«port»</text><text fill=\"#000000\" font-family=\"sans-serif\" font-size=\"12\" lengthAdjust=\"spacingAndGlyphs\" textLength=\"40\" x=\"167\" y=\"343.1074\">porig1</text><line style=\"stroke: #383838; stroke-width: 1.5;\" x1=\"165\" x2=\"213\" y1=\"350.9375\" y2=\"350.9375\"/></a><!--MD5=[270fce915f116d4de14055a7c1d9a0f3]\n",
       "class E5--><a href=\"psysml:73838eb5-9ecb-4193-8391-1ddf76ff61b3\" target=\"_top\" title=\"psysml:73838eb5-9ecb-4193-8391-1ddf76ff61b3\" xlink:actuate=\"onRequest\" xlink:href=\"psysml:73838eb5-9ecb-4193-8391-1ddf76ff61b3\" xlink:show=\"new\" xlink:title=\"psysml:73838eb5-9ecb-4193-8391-1ddf76ff61b3\" xlink:type=\"simple\"><rect fill=\"#FFFFFF\" height=\"45.9375\" id=\"E5\" rx=\"10\" ry=\"10\" style=\"stroke: #383838; stroke-width: 1.5;\" width=\"50\" x=\"117\" y=\"56\"/><text fill=\"#000000\" font-family=\"sans-serif\" font-size=\"12\" font-style=\"italic\" lengthAdjust=\"spacingAndGlyphs\" textLength=\"40\" x=\"122\" y=\"72.1387\">«part»</text><text fill=\"#000000\" font-family=\"sans-serif\" font-size=\"12\" lengthAdjust=\"spacingAndGlyphs\" textLength=\"40\" x=\"120\" y=\"86.1074\">p1: P1</text><line style=\"stroke: #383838; stroke-width: 1.5;\" x1=\"118\" x2=\"166\" y1=\"93.9375\" y2=\"93.9375\"/></a><!--MD5=[60a26617385b1d2d0262a64233df1f8d]\n",
       "class E6--><a href=\"psysml:6875339d-23d6-4973-8a77-102c2bf220f1\" target=\"_top\" title=\"psysml:6875339d-23d6-4973-8a77-102c2bf220f1\" xlink:actuate=\"onRequest\" xlink:href=\"psysml:6875339d-23d6-4973-8a77-102c2bf220f1\" xlink:show=\"new\" xlink:title=\"psysml:6875339d-23d6-4973-8a77-102c2bf220f1\" xlink:type=\"simple\"><rect fill=\"#FFFFFF\" height=\"45.9375\" id=\"E6\" rx=\"10\" ry=\"10\" style=\"stroke: #383838; stroke-width: 1.5;\" width=\"42\" x=\"81\" y=\"192\"/><text fill=\"#000000\" font-family=\"sans-serif\" font-size=\"12\" font-style=\"italic\" lengthAdjust=\"spacingAndGlyphs\" textLength=\"40\" x=\"82\" y=\"208.1387\">«port»</text><text fill=\"#000000\" font-family=\"sans-serif\" font-size=\"12\" lengthAdjust=\"spacingAndGlyphs\" textLength=\"24\" x=\"88\" y=\"222.1074\">po1</text><line style=\"stroke: #383838; stroke-width: 1.5;\" x1=\"82\" x2=\"122\" y1=\"229.9375\" y2=\"229.9375\"/></a><!--MD5=[2156ba9850f5573cc1fc38a6a4b2f02b]\n",
       "class E7--><a href=\"psysml:73d7b051-2240-4fe3-9278-fa0d634854f8\" target=\"_top\" title=\"psysml:73d7b051-2240-4fe3-9278-fa0d634854f8\" xlink:actuate=\"onRequest\" xlink:href=\"psysml:73d7b051-2240-4fe3-9278-fa0d634854f8\" xlink:show=\"new\" xlink:title=\"psysml:73d7b051-2240-4fe3-9278-fa0d634854f8\" xlink:type=\"simple\"><rect fill=\"#FFFFFF\" height=\"75.5469\" id=\"E7\" rx=\"10\" ry=\"10\" style=\"stroke: #383838; stroke-width: 1.5;\" width=\"50\" x=\"32\" y=\"41\"/><text fill=\"#000000\" font-family=\"sans-serif\" font-size=\"12\" font-style=\"italic\" lengthAdjust=\"spacingAndGlyphs\" textLength=\"40\" x=\"37\" y=\"57.1387\">«part»</text><text fill=\"#000000\" font-family=\"sans-serif\" font-size=\"12\" lengthAdjust=\"spacingAndGlyphs\" textLength=\"40\" x=\"35\" y=\"71.1074\">p2: P1</text><line style=\"stroke: #383838; stroke-width: 1.5;\" x1=\"33\" x2=\"81\" y1=\"78.9375\" y2=\"78.9375\"/><text fill=\"#000000\" font-family=\"sans-serif\" font-size=\"11\" lengthAdjust=\"spacingAndGlyphs\" textLength=\"32\" x=\"38\" y=\"109.9526\">pdest</text><line style=\"stroke: #383838; stroke-width: 1.0;\" x1=\"33\" x2=\"42\" y1=\"93.3398\" y2=\"93.3398\"/><text fill=\"#000000\" font-family=\"sans-serif\" font-size=\"11\" lengthAdjust=\"spacingAndGlyphs\" textLength=\"30\" x=\"42\" y=\"96.6479\">ports</text><line style=\"stroke: #383838; stroke-width: 1.0;\" x1=\"72\" x2=\"81\" y1=\"93.3398\" y2=\"93.3398\"/></a><!--MD5=[b9389687b975829384b498ac4b7476b2]\n",
       "class E8--><a href=\"psysml:6cb98d60-0ab8-42f0-badc-3a033a17e212\" target=\"_top\" title=\"psysml:6cb98d60-0ab8-42f0-badc-3a033a17e212\" xlink:actuate=\"onRequest\" xlink:href=\"psysml:6cb98d60-0ab8-42f0-badc-3a033a17e212\" xlink:show=\"new\" xlink:title=\"psysml:6cb98d60-0ab8-42f0-badc-3a033a17e212\" xlink:type=\"simple\"><rect fill=\"#FFFFFF\" height=\"45.9375\" id=\"E8\" rx=\"10\" ry=\"10\" style=\"stroke: #383838; stroke-width: 1.5;\" width=\"46\" x=\"79\" y=\"313\"/><text fill=\"#000000\" font-family=\"sans-serif\" font-size=\"12\" font-style=\"italic\" lengthAdjust=\"spacingAndGlyphs\" textLength=\"40\" x=\"82\" y=\"329.1387\">«port»</text><text fill=\"#000000\" font-family=\"sans-serif\" font-size=\"12\" lengthAdjust=\"spacingAndGlyphs\" textLength=\"36\" x=\"82\" y=\"343.1074\">pdest</text><line style=\"stroke: #383838; stroke-width: 1.5;\" x1=\"80\" x2=\"124\" y1=\"350.9375\" y2=\"350.9375\"/></a><!--MD5=[4672eba38e49728da53d11aeb285b987]\n",
       "reverse link E3 to E4--><a href=\"psysml:b408bcfe-af80-429f-8bb7-74524c32282e\" target=\"_top\" title=\"psysml:b408bcfe-af80-429f-8bb7-74524c32282e\" xlink:actuate=\"onRequest\" xlink:href=\"psysml:b408bcfe-af80-429f-8bb7-74524c32282e\" xlink:show=\"new\" xlink:title=\"psysml:b408bcfe-af80-429f-8bb7-74524c32282e\" xlink:type=\"simple\"><path d=\"M189,266.29 C189,266.29 189,312.74 189,312.74 \" fill=\"none\" id=\"E3&lt;-E4\" style=\"stroke: #383838; stroke-width: 1.0;\"/><polygon fill=\"#FFFFFF\" points=\"189,253.29,185,259.29,189,265.29,193,259.29,189,253.29\" style=\"stroke: #383838; stroke-width: 1.0;\"/><text fill=\"#000000\" font-family=\"sans-serif\" font-size=\"13\" lengthAdjust=\"spacingAndGlyphs\" textLength=\"8\" x=\"179.975\" y=\"301.9497\">1</text></a><!--MD5=[e9be52314489bd878ff4c7144b63c9e1]\n",
       "link E5 to E3--><a href=\"psysml:de9d1539-3df1-480f-91a9-ed9f950b1f96\" target=\"_top\" title=\"psysml:de9d1539-3df1-480f-91a9-ed9f950b1f96\" xlink:actuate=\"onRequest\" xlink:href=\"psysml:de9d1539-3df1-480f-91a9-ed9f950b1f96\" xlink:show=\"new\" xlink:title=\"psysml:de9d1539-3df1-480f-91a9-ed9f950b1f96\" xlink:type=\"simple\"><path d=\"M164,102.07 C164,102.07 164,156.88 164,156.88 \" fill=\"none\" id=\"E5-&gt;E3\" style=\"stroke: #383838; stroke-width: 1.0;\"/><polygon fill=\"#FFFFFF\" points=\"164,176.88,157,157.88,171,157.88,164,176.88\" style=\"stroke: #383838; stroke-width: 1.0;\"/><ellipse cx=\"159\" cy=\"152.18\" fill=\"#383838\" rx=\"2\" ry=\"2\" style=\"stroke: #383838; stroke-width: 1.0;\"/><ellipse cx=\"169\" cy=\"152.18\" fill=\"#383838\" rx=\"2\" ry=\"2\" style=\"stroke: #383838; stroke-width: 1.0;\"/></a><!--MD5=[85d356282659285ab4b2cfe2f634dd2b]\n",
       "reverse link E5 to E6--><a href=\"psysml:1d973b34-aa26-4796-bb60-99a7b7743581\" target=\"_top\" title=\"psysml:1d973b34-aa26-4796-bb60-99a7b7743581\" xlink:actuate=\"onRequest\" xlink:href=\"psysml:1d973b34-aa26-4796-bb60-99a7b7743581\" xlink:show=\"new\" xlink:title=\"psysml:1d973b34-aa26-4796-bb60-99a7b7743581\" xlink:type=\"simple\"><path d=\"M103.79,79 C103.79,79 99.5,79 99.5,79 C99.5,79 99.5,153.13 99.5,191.93 \" fill=\"none\" id=\"E5&lt;-E6\" style=\"stroke: #383838; stroke-width: 1.0;\"/><polygon fill=\"#FFFFFF\" points=\"116.79,79,110.79,75,104.79,79,110.79,83,116.79,79\" style=\"stroke: #383838; stroke-width: 1.0;\"/><text fill=\"#000000\" font-family=\"sans-serif\" font-size=\"13\" lengthAdjust=\"spacingAndGlyphs\" textLength=\"8\" x=\"89.7531\" y=\"180.8075\">1</text></a><!--MD5=[f667431f98296947986a1a7595a31603]\n",
       "link E6 to E4--><a href=\"psysml:73eeba8b-cad5-4501-9cd6-c52ba77489ee\" target=\"_top\" title=\"psysml:73eeba8b-cad5-4501-9cd6-c52ba77489ee\" xlink:actuate=\"onRequest\" xlink:href=\"psysml:73eeba8b-cad5-4501-9cd6-c52ba77489ee\" xlink:show=\"new\" xlink:title=\"psysml:73eeba8b-cad5-4501-9cd6-c52ba77489ee\" xlink:type=\"simple\"><path d=\"M123.14,215 C132.53,215 141.5,215 141.5,215 C141.5,215 141.5,336 141.5,336 C141.5,336 143.86,336 143.86,336 \" fill=\"none\" id=\"E6-&gt;E4\" style=\"stroke: #383838; stroke-width: 1.0;\"/><polygon fill=\"#FFFFFF\" points=\"163.86,336,144.86,343,144.86,329,163.86,336\" style=\"stroke: #383838; stroke-width: 1.0;\"/><line style=\"stroke: #383838; stroke-width: 2.0;\" x1=\"141.06\" x2=\"141.06\" y1=\"343\" y2=\"329\"/></a><!--MD5=[14ccda38c055a5c0da953d572bc50960]\n",
       "link E7 to E3--><a href=\"psysml:52eea9f8-f20f-41d5-8944-6f19cdd988b1\" target=\"_top\" title=\"psysml:52eea9f8-f20f-41d5-8944-6f19cdd988b1\" xlink:actuate=\"onRequest\" xlink:href=\"psysml:52eea9f8-f20f-41d5-8944-6f19cdd988b1\" xlink:show=\"new\" xlink:title=\"psysml:52eea9f8-f20f-41d5-8944-6f19cdd988b1\" xlink:type=\"simple\"><path d=\"M82.18,110 C112.95,110 161,110 161,110 C161,110 161,156.8 161,156.8 \" fill=\"none\" id=\"E7-&gt;E3\" style=\"stroke: #383838; stroke-width: 1.0;\"/><polygon fill=\"#FFFFFF\" points=\"161,176.8,154,157.8,168,157.8,161,176.8\" style=\"stroke: #383838; stroke-width: 1.0;\"/><ellipse cx=\"156\" cy=\"152.1\" fill=\"#383838\" rx=\"2\" ry=\"2\" style=\"stroke: #383838; stroke-width: 1.0;\"/><ellipse cx=\"166\" cy=\"152.1\" fill=\"#383838\" rx=\"2\" ry=\"2\" style=\"stroke: #383838; stroke-width: 1.0;\"/></a><!--MD5=[dc164f5e8a733ab456ef1add180e9e34]\n",
       "reverse link E7 to E8--><a href=\"psysml:7dc24cb7-d6ba-40a4-b073-8d397bf1a7ae\" target=\"_top\" title=\"psysml:7dc24cb7-d6ba-40a4-b073-8d397bf1a7ae\" xlink:actuate=\"onRequest\" xlink:href=\"psysml:7dc24cb7-d6ba-40a4-b073-8d397bf1a7ae\" xlink:show=\"new\" xlink:title=\"psysml:7dc24cb7-d6ba-40a4-b073-8d397bf1a7ae\" xlink:type=\"simple\"><path d=\"M55.5,130.2 C55.5,130.2 55.5,336 55.5,336 C55.5,336 67.12,336 78.75,336 \" fill=\"none\" id=\"E7&lt;-E8\" style=\"stroke: #383838; stroke-width: 1.0;\"/><polygon fill=\"#FFFFFF\" points=\"55.5,117.2,51.5,123.2,55.5,129.2,59.5,123.2,55.5,117.2\" style=\"stroke: #383838; stroke-width: 1.0;\"/><text fill=\"#000000\" font-family=\"sans-serif\" font-size=\"13\" lengthAdjust=\"spacingAndGlyphs\" textLength=\"8\" x=\"63.0859\" y=\"330.985\">1</text></a><!--MD5=[0a839d0f80c2d72d4b9b307f046d0de8]\n",
       "link E6 to E8--><a href=\"psysml:6785e7ae-ef30-46fa-a69d-d6daab2c7c15\" target=\"_top\" title=\"psysml:6785e7ae-ef30-46fa-a69d-d6daab2c7c15\" xlink:actuate=\"onRequest\" xlink:href=\"psysml:6785e7ae-ef30-46fa-a69d-d6daab2c7c15\" xlink:show=\"new\" xlink:title=\"psysml:6785e7ae-ef30-46fa-a69d-d6daab2c7c15\" xlink:type=\"simple\"><path d=\"M95,238.04 C95,259.44 95,291.13 95,312.63 \" fill=\"none\" id=\"E6-E8\" style=\"stroke: #383838; stroke-width: 3.0;\"/><text fill=\"#000000\" font-family=\"sans-serif\" font-size=\"13\" lengthAdjust=\"spacingAndGlyphs\" textLength=\"7\" x=\"85.3094\" y=\"301.8115\">*</text></a><!--MD5=[0a839d0f80c2d72d4b9b307f046d0de8]\n",
       "link E6 to E8--><a href=\"psysml:868c8138-312d-42c2-8f4f-f83047efce23\" target=\"_top\" title=\"psysml:868c8138-312d-42c2-8f4f-f83047efce23\" xlink:actuate=\"onRequest\" xlink:href=\"psysml:868c8138-312d-42c2-8f4f-f83047efce23\" xlink:show=\"new\" xlink:title=\"psysml:868c8138-312d-42c2-8f4f-f83047efce23\" xlink:type=\"simple\"><path d=\"M109,238.04 C109,259.44 109,291.13 109,312.63 \" fill=\"none\" id=\"E6-E8-1\" style=\"stroke: #383838; stroke-width: 3.0;\"/><text fill=\"#000000\" font-family=\"sans-serif\" font-size=\"13\" lengthAdjust=\"spacingAndGlyphs\" textLength=\"7\" x=\"102.8969\" y=\"301.8115\">*</text></a><!--MD5=[5f3407e9826b5b2b9ffe48815afb42be]\n",
       "@startuml\r\n",
       "skinparam linetype ortho\r\n",
       "skinparam monochrome true\r\n",
       "skinparam classbackgroundcolor white\r\n",
       "skinparam shadowing false\r\n",
       "skinparam wrapWidth 300\r\n",
       "hide circle\r\n",
       "\r\n",
       "package \"AliasTest\" as E1  [[psysml:02b7e9b9-6677-468f-8dad-8ced33a218a4 ]]  {\r\n",
       "comp usage \"b :> ISQSpaceTime::width\" as E2  <<(T,blue) attribute>> [[psysml:c7feeda3-a834-41bb-a074-923ea0011430 ]] {\r\n",
       "}\r\n",
       "comp def \"P1\" as E3  <<(T,blue) part  def>> [[psysml:1a450028-471a-4a88-b6bb-254dda2007f7 ]] {\r\n",
       "- - ports - -\r\n",
       "porig1\r\n",
       "}\r\n",
       "comp usage \"porig1 \" as E4  <<(T,blue) port>> [[psysml:528ad082-e547-41e1-93e2-4f734da3b1f6 ]] {\r\n",
       "}\r\n",
       "comp usage \"p1: P1 \" as E5  <<(T,blue) part>> [[psysml:73838eb5-9ecb-4193-8391-1ddf76ff61b3 ]] {\r\n",
       "}\r\n",
       "comp usage \"po1 \" as E6  <<(T,blue) port>> [[psysml:6875339d-23d6-4973-8a77-102c2bf220f1 ]] {\r\n",
       "}\r\n",
       "comp usage \"p2: P1 \" as E7  <<(T,blue) part>> [[psysml:73d7b051-2240-4fe3-9278-fa0d634854f8 ]] {\r\n",
       "- - ports - -\r\n",
       "pdest\r\n",
       "}\r\n",
       "comp usage \"pdest \" as E8  <<(T,blue) port>> [[psysml:6cb98d60-0ab8-42f0-badc-3a033a17e212 ]] {\r\n",
       "}\r\n",
       "}\r\n",
       "E3 o- - \"1\"E4 [[psysml:b408bcfe-af80-429f-8bb7-74524c32282e ]] \r\n",
       "E5 - -:|> E3 [[psysml:de9d1539-3df1-480f-91a9-ed9f950b1f96 ]] \r\n",
       "E5 o- - \"1\"E6 [[psysml:1d973b34-aa26-4796-bb60-99a7b7743581 ]] \r\n",
       "E6 - -||> E4 [[psysml:73eeba8b-cad5-4501-9cd6-c52ba77489ee ]] \r\n",
       "E7 - -:|> E3 [[psysml:52eea9f8-f20f-41d5-8944-6f19cdd988b1 ]] \r\n",
       "E7 o- - \"1\"E8 [[psysml:7dc24cb7-d6ba-40a4-b073-8d397bf1a7ae ]] \r\n",
       "E6 -[thickness=3]- \"*\"E8 [[psysml:6785e7ae-ef30-46fa-a69d-d6daab2c7c15 ]] \r\n",
       "E6 -[thickness=3]- \"*\"E8 [[psysml:868c8138-312d-42c2-8f4f-f83047efce23 ]] \r\n",
       "@enduml\r\n",
       "\n",
       "PlantUML version 1.2020.13(Sat Jun 13 12:26:38 UTC 2020)\n",
       "(EPL source distribution)\n",
       "Java Runtime: OpenJDK Runtime Environment\n",
       "JVM: OpenJDK 64-Bit Server VM\n",
       "Default Encoding: UTF-8\n",
       "Language: en\n",
       "Country: null\n",
       "--></g></svg>"
      ]
     },
     "execution_count": 57,
     "metadata": {},
     "output_type": "execute_result"
    }
   ],
   "source": [
    "%viz --style=\"ORTHOLINE\" --view=\"MIXED\" \"AliasTest\""
   ]
  }
 ],
 "metadata": {
  "kernelspec": {
   "display_name": "SysML",
   "language": "sysml",
   "name": "sysml"
  },
  "language_info": {
   "codemirror_mode": "sysml",
   "file_extension": ".sysml",
   "mimetype": "text/x-sysml",
   "name": "SysML",
   "pygments_lexer": "java",
   "version": "1.0.0"
  }
 },
 "nbformat": 4,
 "nbformat_minor": 5
}

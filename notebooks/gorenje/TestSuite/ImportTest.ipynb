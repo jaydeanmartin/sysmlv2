{
 "cells": [
  {
   "cell_type": "markdown",
   "id": "cca7d85f",
   "metadata": {},
   "source": [
    "# SysML v2 Test Suite\n",
    "\n",
    "This can notebook can be cleared using menu `Edit --> Clear All Outputs` and then all cells can be\n",
    "run using menu `Run --> Run All Cells`.\n",
    "\n",
    "**WARNING**: This file is generated, all modifications here will be ignored.\n"
   ]
  },
  {
   "cell_type": "markdown",
   "id": "53d2242e",
   "metadata": {},
   "source": [
    "## File: ../../sysml/src/examples/Simple Tests/ImportTest.sysml"
   ]
  },
  {
   "cell_type": "code",
   "execution_count": 1,
   "id": "bf928b89",
   "metadata": {
    "execution": {
     "iopub.execute_input": "2022-08-19T08:17:18.105787Z",
     "iopub.status.busy": "2022-08-19T08:17:18.104834Z",
     "iopub.status.idle": "2022-08-19T08:17:18.229862Z",
     "shell.execute_reply": "2022-08-19T08:17:18.230228Z"
    }
   },
   "outputs": [
    {
     "data": {
      "text/plain": [
       "Package ImportTest (789e6656-6985-4918-a680-b12b42056b24)\n"
      ]
     },
     "execution_count": 1,
     "metadata": {},
     "output_type": "execute_result"
    }
   ],
   "source": [
    "package ImportTest {\n",
    "    package Pkg1 {\n",
    "    \timport Pkg2::Pkg21::Pkg211::P211;\n",
    "    \timport Pkg2::Pkg21::*;\n",
    "    \timport Pkg211::*::**;\n",
    "        part p11 : Pkg211::P211;\n",
    "        part def P12;\n",
    "    }\n",
    "\n",
    "    package Pkg2 {\n",
    "        import Pkg1::*;\n",
    "        package Pkg21 {\n",
    "        \tpackage Pkg211 {\n",
    "        \t\tpart def P211 :> P12;\n",
    "        \t}\n",
    "        }\n",
    "    }\n",
    "}"
   ]
  },
  {
   "cell_type": "code",
   "execution_count": 2,
   "id": "bfa32d22",
   "metadata": {
    "execution": {
     "iopub.execute_input": "2022-08-19T08:17:18.281219Z",
     "iopub.status.busy": "2022-08-19T08:17:18.280693Z",
     "iopub.status.idle": "2022-08-19T08:17:18.742651Z",
     "shell.execute_reply": "2022-08-19T08:17:18.740310Z"
    }
   },
   "outputs": [
    {
     "data": {
      "image/svg+xml": [
       "<?xml version=\"1.0\" encoding=\"UTF-8\" standalone=\"no\"?><svg xmlns=\"http://www.w3.org/2000/svg\" xmlns:xlink=\"http://www.w3.org/1999/xlink\" contentScriptType=\"application/ecmascript\" contentStyleType=\"text/css\" height=\"590px\" preserveAspectRatio=\"none\" style=\"width:522px;height:590px;\" version=\"1.1\" viewBox=\"0 0 522 590\" width=\"522px\" zoomAndPan=\"magnify\"><defs/><g><!--MD5=[fbc87193dbaf4d95561dea2c320d4a47]\n",
       "cluster E1--><a href=\"psysml:789e6656-6985-4918-a680-b12b42056b24\" target=\"_top\" title=\"psysml:789e6656-6985-4918-a680-b12b42056b24\" xlink:actuate=\"onRequest\" xlink:href=\"psysml:789e6656-6985-4918-a680-b12b42056b24\" xlink:show=\"new\" xlink:title=\"psysml:789e6656-6985-4918-a680-b12b42056b24\" xlink:type=\"simple\"><polygon fill=\"#FFFFFF\" points=\"16,6,97,6,104,28.2969,500,28.2969,500,578,16,578,16,6\" style=\"stroke: #000000; stroke-width: 1.5;\"/><line style=\"stroke: #000000; stroke-width: 1.5;\" x1=\"16\" x2=\"104\" y1=\"28.2969\" y2=\"28.2969\"/><text fill=\"#000000\" font-family=\"sans-serif\" font-size=\"14\" font-weight=\"bold\" lengthAdjust=\"spacingAndGlyphs\" textLength=\"75\" x=\"20\" y=\"20.9951\">ImportTest</text></a><!--MD5=[e4f7fae6ed58524ba242bb0b0d3be6b7]\n",
       "cluster E2--><a href=\"psysml:9ed5d6a5-603c-4e6a-bfc8-60e703dcd2fe\" target=\"_top\" title=\"psysml:9ed5d6a5-603c-4e6a-bfc8-60e703dcd2fe\" xlink:actuate=\"onRequest\" xlink:href=\"psysml:9ed5d6a5-603c-4e6a-bfc8-60e703dcd2fe\" xlink:show=\"new\" xlink:title=\"psysml:9ed5d6a5-603c-4e6a-bfc8-60e703dcd2fe\" xlink:type=\"simple\"><polygon fill=\"#FFFFFF\" points=\"222,57,263,57,270,79.2969,468,79.2969,468,170,222,170,222,57\" style=\"stroke: #000000; stroke-width: 1.5;\"/><line style=\"stroke: #000000; stroke-width: 1.5;\" x1=\"222\" x2=\"270\" y1=\"79.2969\" y2=\"79.2969\"/><text fill=\"#000000\" font-family=\"sans-serif\" font-size=\"14\" font-weight=\"bold\" lengthAdjust=\"spacingAndGlyphs\" textLength=\"35\" x=\"226\" y=\"71.9951\">Pkg1</text></a><!--MD5=[de5ec2e2e8f62f467e546659f5068c88]\n",
       "cluster E5--><a href=\"psysml:63b0367b-32f1-46aa-9fe1-f934424c590d\" target=\"_top\" title=\"psysml:63b0367b-32f1-46aa-9fe1-f934424c590d\" xlink:actuate=\"onRequest\" xlink:href=\"psysml:63b0367b-32f1-46aa-9fe1-f934424c590d\" xlink:show=\"new\" xlink:title=\"psysml:63b0367b-32f1-46aa-9fe1-f934424c590d\" xlink:type=\"simple\"><polygon fill=\"#FFFFFF\" points=\"121,235,162,235,169,257.2969,434,257.2969,434,546,121,546,121,235\" style=\"stroke: #000000; stroke-width: 1.5;\"/><line style=\"stroke: #000000; stroke-width: 1.5;\" x1=\"121\" x2=\"169\" y1=\"257.2969\" y2=\"257.2969\"/><text fill=\"#000000\" font-family=\"sans-serif\" font-size=\"14\" font-weight=\"bold\" lengthAdjust=\"spacingAndGlyphs\" textLength=\"35\" x=\"125\" y=\"249.9951\">Pkg2</text></a><!--MD5=[14e3b0961a2654348d326746436168a1]\n",
       "cluster E6--><a href=\"psysml:98b17091-6ea5-4037-8451-bfddc724f9d0\" target=\"_top\" title=\"psysml:98b17091-6ea5-4037-8451-bfddc724f9d0\" xlink:actuate=\"onRequest\" xlink:href=\"psysml:98b17091-6ea5-4037-8451-bfddc724f9d0\" xlink:show=\"new\" xlink:title=\"psysml:98b17091-6ea5-4037-8451-bfddc724f9d0\" xlink:type=\"simple\"><polygon fill=\"#FFFFFF\" points=\"161,294,211,294,218,316.2969,386,316.2969,386,506,161,506,161,294\" style=\"stroke: #000000; stroke-width: 1.5;\"/><line style=\"stroke: #000000; stroke-width: 1.5;\" x1=\"161\" x2=\"218\" y1=\"316.2969\" y2=\"316.2969\"/><text fill=\"#000000\" font-family=\"sans-serif\" font-size=\"14\" font-weight=\"bold\" lengthAdjust=\"spacingAndGlyphs\" textLength=\"44\" x=\"165\" y=\"308.9951\">Pkg21</text></a><!--MD5=[168fadf3d0c3fd93dd5d6da1b1d7ab76]\n",
       "cluster E7--><a href=\"psysml:45f4d7ec-8fdd-4896-89d5-a877e9eb4cf9\" target=\"_top\" title=\"psysml:45f4d7ec-8fdd-4896-89d5-a877e9eb4cf9\" xlink:actuate=\"onRequest\" xlink:href=\"psysml:45f4d7ec-8fdd-4896-89d5-a877e9eb4cf9\" xlink:show=\"new\" xlink:title=\"psysml:45f4d7ec-8fdd-4896-89d5-a877e9eb4cf9\" xlink:type=\"simple\"><polygon fill=\"#FFFFFF\" points=\"209,353,268,353,275,375.2969,346,375.2969,346,466,209,466,209,353\" style=\"stroke: #000000; stroke-width: 1.5;\"/><line style=\"stroke: #000000; stroke-width: 1.5;\" x1=\"209\" x2=\"275\" y1=\"375.2969\" y2=\"375.2969\"/><text fill=\"#000000\" font-family=\"sans-serif\" font-size=\"14\" font-weight=\"bold\" lengthAdjust=\"spacingAndGlyphs\" textLength=\"53\" x=\"213\" y=\"367.9951\">Pkg211</text></a><!--MD5=[09b614a08d8cba4a07c9adeb5e0fee81]\n",
       "class E3--><a href=\"psysml:380b438c-f0d0-40f2-a10d-c83a46ac62de\" target=\"_top\" title=\"psysml:380b438c-f0d0-40f2-a10d-c83a46ac62de\" xlink:actuate=\"onRequest\" xlink:href=\"psysml:380b438c-f0d0-40f2-a10d-c83a46ac62de\" xlink:show=\"new\" xlink:title=\"psysml:380b438c-f0d0-40f2-a10d-c83a46ac62de\" xlink:type=\"simple\"><rect fill=\"#FFFFFF\" height=\"45.9375\" id=\"E3\" rx=\"10\" ry=\"10\" style=\"stroke: #383838; stroke-width: 1.5;\" width=\"74\" x=\"265\" y=\"100\"/><text fill=\"#000000\" font-family=\"sans-serif\" font-size=\"12\" font-style=\"italic\" lengthAdjust=\"spacingAndGlyphs\" textLength=\"40\" x=\"282\" y=\"116.1387\">«part»</text><text fill=\"#000000\" font-family=\"sans-serif\" font-size=\"12\" lengthAdjust=\"spacingAndGlyphs\" textLength=\"64\" x=\"268\" y=\"130.1074\">p11: P211</text><line style=\"stroke: #383838; stroke-width: 1.5;\" x1=\"266\" x2=\"338\" y1=\"137.9375\" y2=\"137.9375\"/></a><!--MD5=[ebbe1d658d1005bcc118a6aa81145e00]\n",
       "class E4--><a href=\"psysml:4c18927e-9f3a-4bbe-ae04-0ff2b7ea0a78\" target=\"_top\" title=\"psysml:4c18927e-9f3a-4bbe-ae04-0ff2b7ea0a78\" xlink:actuate=\"onRequest\" xlink:href=\"psysml:4c18927e-9f3a-4bbe-ae04-0ff2b7ea0a78\" xlink:show=\"new\" xlink:title=\"psysml:4c18927e-9f3a-4bbe-ae04-0ff2b7ea0a78\" xlink:type=\"simple\"><rect fill=\"#FFFFFF\" height=\"45.9375\" id=\"E4\" style=\"stroke: #383838; stroke-width: 1.5;\" width=\"70\" x=\"374\" y=\"100\"/><text fill=\"#000000\" font-family=\"sans-serif\" font-size=\"12\" font-style=\"italic\" lengthAdjust=\"spacingAndGlyphs\" textLength=\"68\" x=\"375\" y=\"116.1387\">«part  def»</text><text fill=\"#000000\" font-family=\"sans-serif\" font-size=\"12\" lengthAdjust=\"spacingAndGlyphs\" textLength=\"24\" x=\"397\" y=\"130.1074\">P12</text><line style=\"stroke: #383838; stroke-width: 1.5;\" x1=\"375\" x2=\"443\" y1=\"137.9375\" y2=\"137.9375\"/></a><!--MD5=[b9389687b975829384b498ac4b7476b2]\n",
       "class E8--><a href=\"psysml:b4068f35-75bf-4c63-8263-9508faa965fc\" target=\"_top\" title=\"psysml:b4068f35-75bf-4c63-8263-9508faa965fc\" xlink:actuate=\"onRequest\" xlink:href=\"psysml:b4068f35-75bf-4c63-8263-9508faa965fc\" xlink:show=\"new\" xlink:title=\"psysml:b4068f35-75bf-4c63-8263-9508faa965fc\" xlink:type=\"simple\"><rect fill=\"#FFFFFF\" height=\"45.9375\" id=\"E8\" style=\"stroke: #383838; stroke-width: 1.5;\" width=\"70\" x=\"252\" y=\"396\"/><text fill=\"#000000\" font-family=\"sans-serif\" font-size=\"12\" font-style=\"italic\" lengthAdjust=\"spacingAndGlyphs\" textLength=\"68\" x=\"253\" y=\"412.1387\">«part  def»</text><text fill=\"#000000\" font-family=\"sans-serif\" font-size=\"12\" lengthAdjust=\"spacingAndGlyphs\" textLength=\"32\" x=\"271\" y=\"426.1074\">P211</text><line style=\"stroke: #383838; stroke-width: 1.5;\" x1=\"253\" x2=\"321\" y1=\"433.9375\" y2=\"433.9375\"/></a><!--MD5=[b0060bfdb0500b904584095522b4da3c]\n",
       "link E2 to E8--><a href=\"psysml:86dbe04c-b04a-4ec6-a347-5e4f000abe00\" target=\"_top\" title=\"psysml:86dbe04c-b04a-4ec6-a347-5e4f000abe00\" xlink:actuate=\"onRequest\" xlink:href=\"psysml:86dbe04c-b04a-4ec6-a347-5e4f000abe00\" xlink:show=\"new\" xlink:title=\"psysml:86dbe04c-b04a-4ec6-a347-5e4f000abe00\" xlink:type=\"simple\"><path d=\"M239.5673,170.044 C239.9187,170.8643 240.2829,171.6796 240.6605,172.4884 C241.4156,174.106 242.2242,175.6975 243.0899,177.2503 C244.8213,180.3558 246.7813,183.3063 249,186 C253.8,191.83 259.79,187.73 264,194 C304.62,254.46 298.3,345.57 291.84,390.69 \" fill=\"none\" id=\"E2-&gt;E8\" style=\"stroke: #383838; stroke-width: 1.0; stroke-dasharray: 7.0,7.0;\"/><polygon fill=\"#383838\" points=\"291.1,395.69,296.3662,387.3673,291.8271,390.7431,288.4512,386.204,291.1,395.69\" style=\"stroke: #383838; stroke-width: 1.0;\"/><text fill=\"#000000\" font-family=\"sans-serif\" font-size=\"13\" lengthAdjust=\"spacingAndGlyphs\" textLength=\"58\" x=\"274\" y=\"207.0669\">«import»</text></a><!--MD5=[e3e28c1befcf002155aa15e1416b4315]\n",
       "link E2 to E6--><a href=\"psysml:b4797686-9eb8-4e8e-a70f-411a8a1a5c6c\" target=\"_top\" title=\"psysml:b4797686-9eb8-4e8e-a70f-411a8a1a5c6c\" xlink:actuate=\"onRequest\" xlink:href=\"psysml:b4797686-9eb8-4e8e-a70f-411a8a1a5c6c\" xlink:show=\"new\" xlink:title=\"psysml:b4797686-9eb8-4e8e-a70f-411a8a1a5c6c\" xlink:type=\"simple\"><path d=\"M221.7454,125.2359 C221.6297,125.2555 221.5129,125.2754 221.395,125.2955 C221.1593,125.3358 220.9193,125.3771 220.6752,125.4195 C220.1869,125.5042 219.6819,125.5933 219.1609,125.6868 C217.0769,126.0607 214.7359,126.5053 212.1769,127.0288 C201.9406,129.1225 188.215,132.4775 173.4875,137.615 C144.0325,147.89 110.57,165.295 93,194 C65.99,238.135 83.98,293.0875 109.2162,337.5175 C121.8344,359.7325 136.2641,379.3169 147.7861,393.6031 C150.6666,397.1747 153.3654,400.4151 155.8087,403.2827 C157.0304,404.7165 158.1881,406.0571 159.2728,407.2993 C159.8152,407.9204 160.3393,408.5169 160.8439,409.0882 \" fill=\"none\" id=\"E2-&gt;E6\" style=\"stroke: #383838; stroke-width: 1.0; stroke-dasharray: 7.0,7.0;\"/><polygon fill=\"#383838\" points=\"160.8439,409.0882,157.8829,399.695,157.5335,405.341,151.8875,404.9916,160.8439,409.0882\" style=\"stroke: #383838; stroke-width: 1.0;\"/><text fill=\"#000000\" font-family=\"sans-serif\" font-size=\"13\" lengthAdjust=\"spacingAndGlyphs\" textLength=\"65\" x=\"94\" y=\"207.0669\">«import»*</text></a><!--MD5=[e3d2a08a9c9236652057e8ed0cbc9b62]\n",
       "link E2 to E7--><a href=\"psysml:c873f416-4fb0-4522-b4d5-2fc0ff0d8008\" target=\"_top\" title=\"psysml:c873f416-4fb0-4522-b4d5-2fc0ff0d8008\" xlink:actuate=\"onRequest\" xlink:href=\"psysml:c873f416-4fb0-4522-b4d5-2fc0ff0d8008\" xlink:show=\"new\" xlink:title=\"psysml:c873f416-4fb0-4522-b4d5-2fc0ff0d8008\" xlink:type=\"simple\"><path d=\"M221.8807,130.2617 C221.7401,130.3761 221.5982,130.4918 221.4548,130.6091 C216.8678,134.36 210.8594,139.5688 204.5113,145.875 C191.815,158.4875 177.76,175.49 171,194 C168.41,201.1 166.18,205.18 171,211 C183.11,225.64 200.74,204.48 213,219 C227.045,235.63 228.2325,284.0975 225.8175,329.0338 C225.5156,334.6508 225.1575,340.2126 224.7611,345.6502 C224.662,347.0096 224.5605,348.3613 224.4569,349.7041 C224.4051,350.3755 224.3528,351.0446 224.3,351.7115 C224.2736,352.0449 224.2471,352.3777 224.2204,352.71 \" fill=\"none\" id=\"E2-&gt;E7\" style=\"stroke: #383838; stroke-width: 1.0; stroke-dasharray: 7.0,7.0;\"/><polygon fill=\"#383838\" points=\"224.2204,352.71,228.9272,344.0586,224.6202,347.726,220.9528,343.419,224.2204,352.71\" style=\"stroke: #383838; stroke-width: 1.0;\"/><text fill=\"#000000\" font-family=\"sans-serif\" font-size=\"13\" lengthAdjust=\"spacingAndGlyphs\" textLength=\"87\" x=\"172\" y=\"207.0669\">«import»*::**</text></a><!--MD5=[ca5a752d6098d8a44b3f88316e7452d1]\n",
       "link E3 to E8--><a href=\"psysml:bb41b158-76b0-47f5-886e-e2f97e00e6aa\" target=\"_top\" title=\"psysml:bb41b158-76b0-47f5-886e-e2f97e00e6aa\" xlink:actuate=\"onRequest\" xlink:href=\"psysml:bb41b158-76b0-47f5-886e-e2f97e00e6aa\" xlink:show=\"new\" xlink:title=\"psysml:bb41b158-76b0-47f5-886e-e2f97e00e6aa\" xlink:type=\"simple\"><path d=\"M321.59,146.07 C339.73,166.51 363.93,193.81 364,194 C366.68,201.06 368.76,205.13 364,211 C353.13,224.4 338.12,206.71 326,219 C285.31,260.27 280.82,330.75 282.81,375.81 \" fill=\"none\" id=\"E3-&gt;E8\" style=\"stroke: #383838; stroke-width: 1.0;\"/><polygon fill=\"#FFFFFF\" points=\"284.19,395.93,275.9039,377.4546,289.8709,376.4948,284.19,395.93\" style=\"stroke: #383838; stroke-width: 1.0;\"/><ellipse cx=\"277.5084\" cy=\"371.6309\" fill=\"#383838\" rx=\"2\" ry=\"2\" style=\"stroke: #383838; stroke-width: 1.0;\"/><ellipse cx=\"287.4849\" cy=\"370.9453\" fill=\"#383838\" rx=\"2\" ry=\"2\" style=\"stroke: #383838; stroke-width: 1.0;\"/></a><!--MD5=[15ebcb19ae302d9b601edb458606d402]\n",
       "link E5 to E2--><a href=\"psysml:cb98c000-d2e0-4059-b3dc-41ff4d975042\" target=\"_top\" title=\"psysml:cb98c000-d2e0-4059-b3dc-41ff4d975042\" xlink:actuate=\"onRequest\" xlink:href=\"psysml:cb98c000-d2e0-4059-b3dc-41ff4d975042\" xlink:show=\"new\" xlink:title=\"psysml:cb98c000-d2e0-4059-b3dc-41ff4d975042\" xlink:type=\"simple\"><path d=\"M377.9071,234.5987 C377.6837,234.254 377.4593,233.91 377.2338,233.5668 C376.3317,232.1941 375.413,230.8338 374.4773,229.4868 C372.6059,226.7928 370.6665,224.152 368.6567,221.572 C360.6175,211.2517 351.4513,201.9025 341,194 C324.63,181.62 264.96,198.91 249,186 C246.2863,183.805 243.9511,181.2325 241.9426,178.4061 C240.9384,176.9929 240.0159,175.5163 239.1685,173.9916 C238.7448,173.2292 238.3399,172.4549 237.953,171.6705 C237.7596,171.2782 237.5706,170.8835 237.3861,170.4865 C237.3399,170.3873 237.2941,170.2879 237.2485,170.1883 \" fill=\"none\" id=\"E5-&gt;E2\" style=\"stroke: #383838; stroke-width: 1.0; stroke-dasharray: 7.0,7.0;\"/><polygon fill=\"#383838\" points=\"237.2485,170.1883,237.3599,180.0366,239.3307,174.7341,244.6331,176.705,237.2485,170.1883\" style=\"stroke: #383838; stroke-width: 1.0;\"/><text fill=\"#000000\" font-family=\"sans-serif\" font-size=\"13\" lengthAdjust=\"spacingAndGlyphs\" textLength=\"65\" x=\"356\" y=\"207.0669\">«import»*</text></a><!--MD5=[d7bb3fb34add81b710575eb3799fa2ad]\n",
       "link E8 to E4--><a href=\"psysml:ff856c1d-ebaf-4dbc-8ba8-d8c60136e299\" target=\"_top\" title=\"psysml:ff856c1d-ebaf-4dbc-8ba8-d8c60136e299\" xlink:actuate=\"onRequest\" xlink:href=\"psysml:ff856c1d-ebaf-4dbc-8ba8-d8c60136e299\" xlink:show=\"new\" xlink:title=\"psysml:ff856c1d-ebaf-4dbc-8ba8-d8c60136e299\" xlink:type=\"simple\"><path d=\"M283.6,395.87 C278.58,354.03 274.69,263.54 326,219 C338.77,207.91 466.36,223.27 478,211 C493.94,194.2 479.72,174.01 460.15,157.31 \" fill=\"none\" id=\"E8-&gt;E4\" style=\"stroke: #383838; stroke-width: 1.0;\"/><polygon fill=\"none\" points=\"455.78,162.78,444.15,145.06,464.29,151.66,455.78,162.78\" style=\"stroke: #383838; stroke-width: 1.0;\"/></a><!--MD5=[1adbf2899f83a5c5a1cbaea50ae4bc10]\n",
       "@startuml\r\n",
       " skinparam monochrome true\r\n",
       "skinparam classbackgroundcolor white\r\n",
       "skinparam shadowing false\r\n",
       "skinparam wrapWidth 300\r\n",
       "hide circle\r\n",
       "\r\n",
       "package \"ImportTest\" as E1  [[psysml:789e6656-6985-4918-a680-b12b42056b24 ]]  {\r\n",
       "package \"Pkg1\" as E2  [[psysml:9ed5d6a5-603c-4e6a-bfc8-60e703dcd2fe ]]  {\r\n",
       "comp usage \"p11: P211 \" as E3  <<(T,blue) part>> [[psysml:380b438c-f0d0-40f2-a10d-c83a46ac62de ]] {\r\n",
       "}\r\n",
       "comp def \"P12\" as E4  <<(T,blue) part  def>> [[psysml:4c18927e-9f3a-4bbe-ae04-0ff2b7ea0a78 ]] {\r\n",
       "}\r\n",
       "}\r\n",
       "package \"Pkg2\" as E5  [[psysml:63b0367b-32f1-46aa-9fe1-f934424c590d ]]  {\r\n",
       "package \"Pkg21\" as E6  [[psysml:98b17091-6ea5-4037-8451-bfddc724f9d0 ]]  {\r\n",
       "package \"Pkg211\" as E7  [[psysml:45f4d7ec-8fdd-4896-89d5-a877e9eb4cf9 ]]  {\r\n",
       "comp def \"P211\" as E8  <<(T,blue) part  def>> [[psysml:b4068f35-75bf-4c63-8263-9508faa965fc ]] {\r\n",
       "}\r\n",
       "}\r\n",
       "}\r\n",
       "}\r\n",
       "}\r\n",
       "E2 ..> E8 [[psysml:86dbe04c-b04a-4ec6-a347-5e4f000abe00 ]] : <<import>>\r\n",
       "E2 ..> E6 [[psysml:b4797686-9eb8-4e8e-a70f-411a8a1a5c6c ]] : <<import>>*\r\n",
       "E2 ..> E7 [[psysml:c873f416-4fb0-4522-b4d5-2fc0ff0d8008 ]] : <<import>>*::**\r\n",
       "E3 - -:|> E8 [[psysml:bb41b158-76b0-47f5-886e-e2f97e00e6aa ]] \r\n",
       "E5 ..> E2 [[psysml:cb98c000-d2e0-4059-b3dc-41ff4d975042 ]] : <<import>>*\r\n",
       "E8 - -|> E4 [[psysml:ff856c1d-ebaf-4dbc-8ba8-d8c60136e299 ]] \r\n",
       "@enduml\r\n",
       "\n",
       "PlantUML version 1.2020.13(Sat Jun 13 12:26:38 UTC 2020)\n",
       "(EPL source distribution)\n",
       "Java Runtime: OpenJDK Runtime Environment\n",
       "JVM: OpenJDK 64-Bit Server VM\n",
       "Default Encoding: UTF-8\n",
       "Language: en\n",
       "Country: null\n",
       "--></g></svg>"
      ]
     },
     "execution_count": 2,
     "metadata": {},
     "output_type": "execute_result"
    }
   ],
   "source": [
    "%viz --style=\"COMPTREE\" --view=\"Default\" \"ImportTest\""
   ]
  },
  {
   "cell_type": "code",
   "execution_count": 3,
   "id": "998aa7d8",
   "metadata": {
    "execution": {
     "iopub.execute_input": "2022-08-19T08:17:18.791199Z",
     "iopub.status.busy": "2022-08-19T08:17:18.790909Z",
     "iopub.status.idle": "2022-08-19T08:17:18.847098Z",
     "shell.execute_reply": "2022-08-19T08:17:18.845509Z"
    }
   },
   "outputs": [
    {
     "data": {
      "image/svg+xml": [
       "<?xml version=\"1.0\" encoding=\"UTF-8\" standalone=\"no\"?><svg xmlns=\"http://www.w3.org/2000/svg\" xmlns:xlink=\"http://www.w3.org/1999/xlink\" contentScriptType=\"application/ecmascript\" contentStyleType=\"text/css\" height=\"590px\" preserveAspectRatio=\"none\" style=\"width:522px;height:590px;\" version=\"1.1\" viewBox=\"0 0 522 590\" width=\"522px\" zoomAndPan=\"magnify\"><defs/><g><!--MD5=[fbc87193dbaf4d95561dea2c320d4a47]\n",
       "cluster E1--><a href=\"psysml:789e6656-6985-4918-a680-b12b42056b24\" target=\"_top\" title=\"psysml:789e6656-6985-4918-a680-b12b42056b24\" xlink:actuate=\"onRequest\" xlink:href=\"psysml:789e6656-6985-4918-a680-b12b42056b24\" xlink:show=\"new\" xlink:title=\"psysml:789e6656-6985-4918-a680-b12b42056b24\" xlink:type=\"simple\"><polygon fill=\"#FFFFFF\" points=\"16,6,97,6,104,28.2969,500,28.2969,500,578,16,578,16,6\" style=\"stroke: #000000; stroke-width: 1.5;\"/><line style=\"stroke: #000000; stroke-width: 1.5;\" x1=\"16\" x2=\"104\" y1=\"28.2969\" y2=\"28.2969\"/><text fill=\"#000000\" font-family=\"sans-serif\" font-size=\"14\" font-weight=\"bold\" lengthAdjust=\"spacingAndGlyphs\" textLength=\"75\" x=\"20\" y=\"20.9951\">ImportTest</text></a><!--MD5=[e4f7fae6ed58524ba242bb0b0d3be6b7]\n",
       "cluster E2--><a href=\"psysml:9ed5d6a5-603c-4e6a-bfc8-60e703dcd2fe\" target=\"_top\" title=\"psysml:9ed5d6a5-603c-4e6a-bfc8-60e703dcd2fe\" xlink:actuate=\"onRequest\" xlink:href=\"psysml:9ed5d6a5-603c-4e6a-bfc8-60e703dcd2fe\" xlink:show=\"new\" xlink:title=\"psysml:9ed5d6a5-603c-4e6a-bfc8-60e703dcd2fe\" xlink:type=\"simple\"><polygon fill=\"#FFFFFF\" points=\"222,57,263,57,270,79.2969,468,79.2969,468,170,222,170,222,57\" style=\"stroke: #000000; stroke-width: 1.5;\"/><line style=\"stroke: #000000; stroke-width: 1.5;\" x1=\"222\" x2=\"270\" y1=\"79.2969\" y2=\"79.2969\"/><text fill=\"#000000\" font-family=\"sans-serif\" font-size=\"14\" font-weight=\"bold\" lengthAdjust=\"spacingAndGlyphs\" textLength=\"35\" x=\"226\" y=\"71.9951\">Pkg1</text></a><!--MD5=[de5ec2e2e8f62f467e546659f5068c88]\n",
       "cluster E5--><a href=\"psysml:63b0367b-32f1-46aa-9fe1-f934424c590d\" target=\"_top\" title=\"psysml:63b0367b-32f1-46aa-9fe1-f934424c590d\" xlink:actuate=\"onRequest\" xlink:href=\"psysml:63b0367b-32f1-46aa-9fe1-f934424c590d\" xlink:show=\"new\" xlink:title=\"psysml:63b0367b-32f1-46aa-9fe1-f934424c590d\" xlink:type=\"simple\"><polygon fill=\"#FFFFFF\" points=\"121,235,162,235,169,257.2969,434,257.2969,434,546,121,546,121,235\" style=\"stroke: #000000; stroke-width: 1.5;\"/><line style=\"stroke: #000000; stroke-width: 1.5;\" x1=\"121\" x2=\"169\" y1=\"257.2969\" y2=\"257.2969\"/><text fill=\"#000000\" font-family=\"sans-serif\" font-size=\"14\" font-weight=\"bold\" lengthAdjust=\"spacingAndGlyphs\" textLength=\"35\" x=\"125\" y=\"249.9951\">Pkg2</text></a><!--MD5=[14e3b0961a2654348d326746436168a1]\n",
       "cluster E6--><a href=\"psysml:98b17091-6ea5-4037-8451-bfddc724f9d0\" target=\"_top\" title=\"psysml:98b17091-6ea5-4037-8451-bfddc724f9d0\" xlink:actuate=\"onRequest\" xlink:href=\"psysml:98b17091-6ea5-4037-8451-bfddc724f9d0\" xlink:show=\"new\" xlink:title=\"psysml:98b17091-6ea5-4037-8451-bfddc724f9d0\" xlink:type=\"simple\"><polygon fill=\"#FFFFFF\" points=\"161,294,211,294,218,316.2969,386,316.2969,386,506,161,506,161,294\" style=\"stroke: #000000; stroke-width: 1.5;\"/><line style=\"stroke: #000000; stroke-width: 1.5;\" x1=\"161\" x2=\"218\" y1=\"316.2969\" y2=\"316.2969\"/><text fill=\"#000000\" font-family=\"sans-serif\" font-size=\"14\" font-weight=\"bold\" lengthAdjust=\"spacingAndGlyphs\" textLength=\"44\" x=\"165\" y=\"308.9951\">Pkg21</text></a><!--MD5=[168fadf3d0c3fd93dd5d6da1b1d7ab76]\n",
       "cluster E7--><a href=\"psysml:45f4d7ec-8fdd-4896-89d5-a877e9eb4cf9\" target=\"_top\" title=\"psysml:45f4d7ec-8fdd-4896-89d5-a877e9eb4cf9\" xlink:actuate=\"onRequest\" xlink:href=\"psysml:45f4d7ec-8fdd-4896-89d5-a877e9eb4cf9\" xlink:show=\"new\" xlink:title=\"psysml:45f4d7ec-8fdd-4896-89d5-a877e9eb4cf9\" xlink:type=\"simple\"><polygon fill=\"#FFFFFF\" points=\"209,353,268,353,275,375.2969,346,375.2969,346,466,209,466,209,353\" style=\"stroke: #000000; stroke-width: 1.5;\"/><line style=\"stroke: #000000; stroke-width: 1.5;\" x1=\"209\" x2=\"275\" y1=\"375.2969\" y2=\"375.2969\"/><text fill=\"#000000\" font-family=\"sans-serif\" font-size=\"14\" font-weight=\"bold\" lengthAdjust=\"spacingAndGlyphs\" textLength=\"53\" x=\"213\" y=\"367.9951\">Pkg211</text></a><!--MD5=[09b614a08d8cba4a07c9adeb5e0fee81]\n",
       "class E3--><a href=\"psysml:380b438c-f0d0-40f2-a10d-c83a46ac62de\" target=\"_top\" title=\"psysml:380b438c-f0d0-40f2-a10d-c83a46ac62de\" xlink:actuate=\"onRequest\" xlink:href=\"psysml:380b438c-f0d0-40f2-a10d-c83a46ac62de\" xlink:show=\"new\" xlink:title=\"psysml:380b438c-f0d0-40f2-a10d-c83a46ac62de\" xlink:type=\"simple\"><rect fill=\"#FFFFFF\" height=\"45.9375\" id=\"E3\" rx=\"10\" ry=\"10\" style=\"stroke: #383838; stroke-width: 1.5;\" width=\"74\" x=\"265\" y=\"100\"/><text fill=\"#000000\" font-family=\"sans-serif\" font-size=\"12\" font-style=\"italic\" lengthAdjust=\"spacingAndGlyphs\" textLength=\"40\" x=\"282\" y=\"116.1387\">«part»</text><text fill=\"#000000\" font-family=\"sans-serif\" font-size=\"12\" lengthAdjust=\"spacingAndGlyphs\" textLength=\"64\" x=\"268\" y=\"130.1074\">p11: P211</text><line style=\"stroke: #383838; stroke-width: 1.5;\" x1=\"266\" x2=\"338\" y1=\"137.9375\" y2=\"137.9375\"/></a><!--MD5=[ebbe1d658d1005bcc118a6aa81145e00]\n",
       "class E4--><a href=\"psysml:4c18927e-9f3a-4bbe-ae04-0ff2b7ea0a78\" target=\"_top\" title=\"psysml:4c18927e-9f3a-4bbe-ae04-0ff2b7ea0a78\" xlink:actuate=\"onRequest\" xlink:href=\"psysml:4c18927e-9f3a-4bbe-ae04-0ff2b7ea0a78\" xlink:show=\"new\" xlink:title=\"psysml:4c18927e-9f3a-4bbe-ae04-0ff2b7ea0a78\" xlink:type=\"simple\"><rect fill=\"#FFFFFF\" height=\"45.9375\" id=\"E4\" style=\"stroke: #383838; stroke-width: 1.5;\" width=\"70\" x=\"374\" y=\"100\"/><text fill=\"#000000\" font-family=\"sans-serif\" font-size=\"12\" font-style=\"italic\" lengthAdjust=\"spacingAndGlyphs\" textLength=\"68\" x=\"375\" y=\"116.1387\">«part  def»</text><text fill=\"#000000\" font-family=\"sans-serif\" font-size=\"12\" lengthAdjust=\"spacingAndGlyphs\" textLength=\"24\" x=\"397\" y=\"130.1074\">P12</text><line style=\"stroke: #383838; stroke-width: 1.5;\" x1=\"375\" x2=\"443\" y1=\"137.9375\" y2=\"137.9375\"/></a><!--MD5=[b9389687b975829384b498ac4b7476b2]\n",
       "class E8--><a href=\"psysml:b4068f35-75bf-4c63-8263-9508faa965fc\" target=\"_top\" title=\"psysml:b4068f35-75bf-4c63-8263-9508faa965fc\" xlink:actuate=\"onRequest\" xlink:href=\"psysml:b4068f35-75bf-4c63-8263-9508faa965fc\" xlink:show=\"new\" xlink:title=\"psysml:b4068f35-75bf-4c63-8263-9508faa965fc\" xlink:type=\"simple\"><rect fill=\"#FFFFFF\" height=\"45.9375\" id=\"E8\" style=\"stroke: #383838; stroke-width: 1.5;\" width=\"70\" x=\"252\" y=\"396\"/><text fill=\"#000000\" font-family=\"sans-serif\" font-size=\"12\" font-style=\"italic\" lengthAdjust=\"spacingAndGlyphs\" textLength=\"68\" x=\"253\" y=\"412.1387\">«part  def»</text><text fill=\"#000000\" font-family=\"sans-serif\" font-size=\"12\" lengthAdjust=\"spacingAndGlyphs\" textLength=\"32\" x=\"271\" y=\"426.1074\">P211</text><line style=\"stroke: #383838; stroke-width: 1.5;\" x1=\"253\" x2=\"321\" y1=\"433.9375\" y2=\"433.9375\"/></a><!--MD5=[b0060bfdb0500b904584095522b4da3c]\n",
       "link E2 to E8--><a href=\"psysml:86dbe04c-b04a-4ec6-a347-5e4f000abe00\" target=\"_top\" title=\"psysml:86dbe04c-b04a-4ec6-a347-5e4f000abe00\" xlink:actuate=\"onRequest\" xlink:href=\"psysml:86dbe04c-b04a-4ec6-a347-5e4f000abe00\" xlink:show=\"new\" xlink:title=\"psysml:86dbe04c-b04a-4ec6-a347-5e4f000abe00\" xlink:type=\"simple\"><path d=\"M239.5673,170.044 C239.9187,170.8643 240.2829,171.6796 240.6605,172.4884 C241.4156,174.106 242.2242,175.6975 243.0899,177.2503 C244.8213,180.3558 246.7813,183.3063 249,186 C253.8,191.83 259.79,187.73 264,194 C304.62,254.46 298.3,345.57 291.84,390.69 \" fill=\"none\" id=\"E2-&gt;E8\" style=\"stroke: #383838; stroke-width: 1.0; stroke-dasharray: 7.0,7.0;\"/><polygon fill=\"#383838\" points=\"291.1,395.69,296.3662,387.3673,291.8271,390.7431,288.4512,386.204,291.1,395.69\" style=\"stroke: #383838; stroke-width: 1.0;\"/><text fill=\"#000000\" font-family=\"sans-serif\" font-size=\"13\" lengthAdjust=\"spacingAndGlyphs\" textLength=\"58\" x=\"274\" y=\"207.0669\">«import»</text></a><!--MD5=[e3e28c1befcf002155aa15e1416b4315]\n",
       "link E2 to E6--><a href=\"psysml:b4797686-9eb8-4e8e-a70f-411a8a1a5c6c\" target=\"_top\" title=\"psysml:b4797686-9eb8-4e8e-a70f-411a8a1a5c6c\" xlink:actuate=\"onRequest\" xlink:href=\"psysml:b4797686-9eb8-4e8e-a70f-411a8a1a5c6c\" xlink:show=\"new\" xlink:title=\"psysml:b4797686-9eb8-4e8e-a70f-411a8a1a5c6c\" xlink:type=\"simple\"><path d=\"M221.7454,125.2359 C221.6297,125.2555 221.5129,125.2754 221.395,125.2955 C221.1593,125.3358 220.9193,125.3771 220.6752,125.4195 C220.1869,125.5042 219.6819,125.5933 219.1609,125.6868 C217.0769,126.0607 214.7359,126.5053 212.1769,127.0288 C201.9406,129.1225 188.215,132.4775 173.4875,137.615 C144.0325,147.89 110.57,165.295 93,194 C65.99,238.135 83.98,293.0875 109.2162,337.5175 C121.8344,359.7325 136.2641,379.3169 147.7861,393.6031 C150.6666,397.1747 153.3654,400.4151 155.8087,403.2827 C157.0304,404.7165 158.1881,406.0571 159.2728,407.2993 C159.8152,407.9204 160.3393,408.5169 160.8439,409.0882 \" fill=\"none\" id=\"E2-&gt;E6\" style=\"stroke: #383838; stroke-width: 1.0; stroke-dasharray: 7.0,7.0;\"/><polygon fill=\"#383838\" points=\"160.8439,409.0882,157.8829,399.695,157.5335,405.341,151.8875,404.9916,160.8439,409.0882\" style=\"stroke: #383838; stroke-width: 1.0;\"/><text fill=\"#000000\" font-family=\"sans-serif\" font-size=\"13\" lengthAdjust=\"spacingAndGlyphs\" textLength=\"65\" x=\"94\" y=\"207.0669\">«import»*</text></a><!--MD5=[e3d2a08a9c9236652057e8ed0cbc9b62]\n",
       "link E2 to E7--><a href=\"psysml:c873f416-4fb0-4522-b4d5-2fc0ff0d8008\" target=\"_top\" title=\"psysml:c873f416-4fb0-4522-b4d5-2fc0ff0d8008\" xlink:actuate=\"onRequest\" xlink:href=\"psysml:c873f416-4fb0-4522-b4d5-2fc0ff0d8008\" xlink:show=\"new\" xlink:title=\"psysml:c873f416-4fb0-4522-b4d5-2fc0ff0d8008\" xlink:type=\"simple\"><path d=\"M221.8807,130.2617 C221.7401,130.3761 221.5982,130.4918 221.4548,130.6091 C216.8678,134.36 210.8594,139.5688 204.5113,145.875 C191.815,158.4875 177.76,175.49 171,194 C168.41,201.1 166.18,205.18 171,211 C183.11,225.64 200.74,204.48 213,219 C227.045,235.63 228.2325,284.0975 225.8175,329.0338 C225.5156,334.6508 225.1575,340.2126 224.7611,345.6502 C224.662,347.0096 224.5605,348.3613 224.4569,349.7041 C224.4051,350.3755 224.3528,351.0446 224.3,351.7115 C224.2736,352.0449 224.2471,352.3777 224.2204,352.71 \" fill=\"none\" id=\"E2-&gt;E7\" style=\"stroke: #383838; stroke-width: 1.0; stroke-dasharray: 7.0,7.0;\"/><polygon fill=\"#383838\" points=\"224.2204,352.71,228.9272,344.0586,224.6202,347.726,220.9528,343.419,224.2204,352.71\" style=\"stroke: #383838; stroke-width: 1.0;\"/><text fill=\"#000000\" font-family=\"sans-serif\" font-size=\"13\" lengthAdjust=\"spacingAndGlyphs\" textLength=\"87\" x=\"172\" y=\"207.0669\">«import»*::**</text></a><!--MD5=[ca5a752d6098d8a44b3f88316e7452d1]\n",
       "link E3 to E8--><a href=\"psysml:bb41b158-76b0-47f5-886e-e2f97e00e6aa\" target=\"_top\" title=\"psysml:bb41b158-76b0-47f5-886e-e2f97e00e6aa\" xlink:actuate=\"onRequest\" xlink:href=\"psysml:bb41b158-76b0-47f5-886e-e2f97e00e6aa\" xlink:show=\"new\" xlink:title=\"psysml:bb41b158-76b0-47f5-886e-e2f97e00e6aa\" xlink:type=\"simple\"><path d=\"M321.59,146.07 C339.73,166.51 363.93,193.81 364,194 C366.68,201.06 368.76,205.13 364,211 C353.13,224.4 338.12,206.71 326,219 C285.31,260.27 280.82,330.75 282.81,375.81 \" fill=\"none\" id=\"E3-&gt;E8\" style=\"stroke: #383838; stroke-width: 1.0;\"/><polygon fill=\"#FFFFFF\" points=\"284.19,395.93,275.9039,377.4546,289.8709,376.4948,284.19,395.93\" style=\"stroke: #383838; stroke-width: 1.0;\"/><ellipse cx=\"277.5084\" cy=\"371.6309\" fill=\"#383838\" rx=\"2\" ry=\"2\" style=\"stroke: #383838; stroke-width: 1.0;\"/><ellipse cx=\"287.4849\" cy=\"370.9453\" fill=\"#383838\" rx=\"2\" ry=\"2\" style=\"stroke: #383838; stroke-width: 1.0;\"/></a><!--MD5=[15ebcb19ae302d9b601edb458606d402]\n",
       "link E5 to E2--><a href=\"psysml:cb98c000-d2e0-4059-b3dc-41ff4d975042\" target=\"_top\" title=\"psysml:cb98c000-d2e0-4059-b3dc-41ff4d975042\" xlink:actuate=\"onRequest\" xlink:href=\"psysml:cb98c000-d2e0-4059-b3dc-41ff4d975042\" xlink:show=\"new\" xlink:title=\"psysml:cb98c000-d2e0-4059-b3dc-41ff4d975042\" xlink:type=\"simple\"><path d=\"M377.9071,234.5987 C377.6837,234.254 377.4593,233.91 377.2338,233.5668 C376.3317,232.1941 375.413,230.8338 374.4773,229.4868 C372.6059,226.7928 370.6665,224.152 368.6567,221.572 C360.6175,211.2517 351.4513,201.9025 341,194 C324.63,181.62 264.96,198.91 249,186 C246.2863,183.805 243.9511,181.2325 241.9426,178.4061 C240.9384,176.9929 240.0159,175.5163 239.1685,173.9916 C238.7448,173.2292 238.3399,172.4549 237.953,171.6705 C237.7596,171.2782 237.5706,170.8835 237.3861,170.4865 C237.3399,170.3873 237.2941,170.2879 237.2485,170.1883 \" fill=\"none\" id=\"E5-&gt;E2\" style=\"stroke: #383838; stroke-width: 1.0; stroke-dasharray: 7.0,7.0;\"/><polygon fill=\"#383838\" points=\"237.2485,170.1883,237.3599,180.0366,239.3307,174.7341,244.6331,176.705,237.2485,170.1883\" style=\"stroke: #383838; stroke-width: 1.0;\"/><text fill=\"#000000\" font-family=\"sans-serif\" font-size=\"13\" lengthAdjust=\"spacingAndGlyphs\" textLength=\"65\" x=\"356\" y=\"207.0669\">«import»*</text></a><!--MD5=[d7bb3fb34add81b710575eb3799fa2ad]\n",
       "link E8 to E4--><a href=\"psysml:ff856c1d-ebaf-4dbc-8ba8-d8c60136e299\" target=\"_top\" title=\"psysml:ff856c1d-ebaf-4dbc-8ba8-d8c60136e299\" xlink:actuate=\"onRequest\" xlink:href=\"psysml:ff856c1d-ebaf-4dbc-8ba8-d8c60136e299\" xlink:show=\"new\" xlink:title=\"psysml:ff856c1d-ebaf-4dbc-8ba8-d8c60136e299\" xlink:type=\"simple\"><path d=\"M283.6,395.87 C278.58,354.03 274.69,263.54 326,219 C338.77,207.91 466.36,223.27 478,211 C493.94,194.2 479.72,174.01 460.15,157.31 \" fill=\"none\" id=\"E8-&gt;E4\" style=\"stroke: #383838; stroke-width: 1.0;\"/><polygon fill=\"none\" points=\"455.78,162.78,444.15,145.06,464.29,151.66,455.78,162.78\" style=\"stroke: #383838; stroke-width: 1.0;\"/></a><!--MD5=[1adbf2899f83a5c5a1cbaea50ae4bc10]\n",
       "@startuml\r\n",
       " skinparam monochrome true\r\n",
       "skinparam classbackgroundcolor white\r\n",
       "skinparam shadowing false\r\n",
       "skinparam wrapWidth 300\r\n",
       "hide circle\r\n",
       "\r\n",
       "package \"ImportTest\" as E1  [[psysml:789e6656-6985-4918-a680-b12b42056b24 ]]  {\r\n",
       "package \"Pkg1\" as E2  [[psysml:9ed5d6a5-603c-4e6a-bfc8-60e703dcd2fe ]]  {\r\n",
       "comp usage \"p11: P211 \" as E3  <<(T,blue) part>> [[psysml:380b438c-f0d0-40f2-a10d-c83a46ac62de ]] {\r\n",
       "}\r\n",
       "comp def \"P12\" as E4  <<(T,blue) part  def>> [[psysml:4c18927e-9f3a-4bbe-ae04-0ff2b7ea0a78 ]] {\r\n",
       "}\r\n",
       "}\r\n",
       "package \"Pkg2\" as E5  [[psysml:63b0367b-32f1-46aa-9fe1-f934424c590d ]]  {\r\n",
       "package \"Pkg21\" as E6  [[psysml:98b17091-6ea5-4037-8451-bfddc724f9d0 ]]  {\r\n",
       "package \"Pkg211\" as E7  [[psysml:45f4d7ec-8fdd-4896-89d5-a877e9eb4cf9 ]]  {\r\n",
       "comp def \"P211\" as E8  <<(T,blue) part  def>> [[psysml:b4068f35-75bf-4c63-8263-9508faa965fc ]] {\r\n",
       "}\r\n",
       "}\r\n",
       "}\r\n",
       "}\r\n",
       "}\r\n",
       "E2 ..> E8 [[psysml:86dbe04c-b04a-4ec6-a347-5e4f000abe00 ]] : <<import>>\r\n",
       "E2 ..> E6 [[psysml:b4797686-9eb8-4e8e-a70f-411a8a1a5c6c ]] : <<import>>*\r\n",
       "E2 ..> E7 [[psysml:c873f416-4fb0-4522-b4d5-2fc0ff0d8008 ]] : <<import>>*::**\r\n",
       "E3 - -:|> E8 [[psysml:bb41b158-76b0-47f5-886e-e2f97e00e6aa ]] \r\n",
       "E5 ..> E2 [[psysml:cb98c000-d2e0-4059-b3dc-41ff4d975042 ]] : <<import>>*\r\n",
       "E8 - -|> E4 [[psysml:ff856c1d-ebaf-4dbc-8ba8-d8c60136e299 ]] \r\n",
       "@enduml\r\n",
       "\n",
       "PlantUML version 1.2020.13(Sat Jun 13 12:26:38 UTC 2020)\n",
       "(EPL source distribution)\n",
       "Java Runtime: OpenJDK Runtime Environment\n",
       "JVM: OpenJDK 64-Bit Server VM\n",
       "Default Encoding: UTF-8\n",
       "Language: en\n",
       "Country: null\n",
       "--></g></svg>"
      ]
     },
     "execution_count": 3,
     "metadata": {},
     "output_type": "execute_result"
    }
   ],
   "source": [
    "%viz --style=\"COMPTREE\" --view=\"Tree\" \"ImportTest\""
   ]
  },
  {
   "cell_type": "code",
   "execution_count": 4,
   "id": "5946fbba",
   "metadata": {
    "execution": {
     "iopub.execute_input": "2022-08-19T08:17:18.896939Z",
     "iopub.status.busy": "2022-08-19T08:17:18.896477Z",
     "iopub.status.idle": "2022-08-19T08:17:18.904625Z",
     "shell.execute_reply": "2022-08-19T08:17:18.904951Z"
    }
   },
   "outputs": [
    {
     "data": {
      "image/svg+xml": [
       "<?xml version=\"1.0\" encoding=\"UTF-8\" standalone=\"no\"?><svg xmlns=\"http://www.w3.org/2000/svg\" xmlns:xlink=\"http://www.w3.org/1999/xlink\" contentScriptType=\"application/ecmascript\" contentStyleType=\"text/css\" height=\"12px\" preserveAspectRatio=\"none\" style=\"width:12px;height:12px;\" version=\"1.1\" viewBox=\"0 0 12 12\" width=\"12px\" zoomAndPan=\"magnify\"><defs/><g><!--MD5=[f19188ef49e11757b5c46753f95d9edc]\n",
       "@startuml\r\n",
       " skinparam monochrome true\r\n",
       "skinparam classbackgroundcolor white\r\n",
       "skinparam shadowing false\r\n",
       "skinparam wrapWidth 300\r\n",
       "hide circle\r\n",
       "\r\n",
       "@enduml\r\n",
       "\n",
       "PlantUML version 1.2020.13(Sat Jun 13 12:26:38 UTC 2020)\n",
       "(EPL source distribution)\n",
       "Java Runtime: OpenJDK Runtime Environment\n",
       "JVM: OpenJDK 64-Bit Server VM\n",
       "Default Encoding: UTF-8\n",
       "Language: en\n",
       "Country: null\n",
       "--></g></svg>"
      ]
     },
     "execution_count": 4,
     "metadata": {},
     "output_type": "execute_result"
    }
   ],
   "source": [
    "%viz --style=\"COMPTREE\" --view=\"State\" \"ImportTest\""
   ]
  },
  {
   "cell_type": "code",
   "execution_count": 5,
   "id": "eb5b64af",
   "metadata": {
    "execution": {
     "iopub.execute_input": "2022-08-19T08:17:18.955613Z",
     "iopub.status.busy": "2022-08-19T08:17:18.955133Z",
     "iopub.status.idle": "2022-08-19T08:17:19.017920Z",
     "shell.execute_reply": "2022-08-19T08:17:19.017500Z"
    }
   },
   "outputs": [
    {
     "data": {
      "image/svg+xml": [
       "<?xml version=\"1.0\" encoding=\"UTF-8\" standalone=\"no\"?><svg xmlns=\"http://www.w3.org/2000/svg\" xmlns:xlink=\"http://www.w3.org/1999/xlink\" contentScriptType=\"application/ecmascript\" contentStyleType=\"text/css\" height=\"584px\" preserveAspectRatio=\"none\" style=\"width:522px;height:584px;\" version=\"1.1\" viewBox=\"0 0 522 584\" width=\"522px\" zoomAndPan=\"magnify\"><defs/><g><!--MD5=[fbc87193dbaf4d95561dea2c320d4a47]\n",
       "cluster E1--><a href=\"psysml:789e6656-6985-4918-a680-b12b42056b24\" target=\"_top\" title=\"psysml:789e6656-6985-4918-a680-b12b42056b24\" xlink:actuate=\"onRequest\" xlink:href=\"psysml:789e6656-6985-4918-a680-b12b42056b24\" xlink:show=\"new\" xlink:title=\"psysml:789e6656-6985-4918-a680-b12b42056b24\" xlink:type=\"simple\"><polygon fill=\"#FFFFFF\" points=\"16,6,97,6,104,28.2969,500,28.2969,500,572,16,572,16,6\" style=\"stroke: #000000; stroke-width: 1.5;\"/><line style=\"stroke: #000000; stroke-width: 1.5;\" x1=\"16\" x2=\"104\" y1=\"28.2969\" y2=\"28.2969\"/><text fill=\"#000000\" font-family=\"sans-serif\" font-size=\"14\" font-weight=\"bold\" lengthAdjust=\"spacingAndGlyphs\" textLength=\"75\" x=\"20\" y=\"20.9951\">ImportTest</text></a><!--MD5=[e4f7fae6ed58524ba242bb0b0d3be6b7]\n",
       "cluster E2--><a href=\"psysml:9ed5d6a5-603c-4e6a-bfc8-60e703dcd2fe\" target=\"_top\" title=\"psysml:9ed5d6a5-603c-4e6a-bfc8-60e703dcd2fe\" xlink:actuate=\"onRequest\" xlink:href=\"psysml:9ed5d6a5-603c-4e6a-bfc8-60e703dcd2fe\" xlink:show=\"new\" xlink:title=\"psysml:9ed5d6a5-603c-4e6a-bfc8-60e703dcd2fe\" xlink:type=\"simple\"><polygon fill=\"#FFFFFF\" points=\"216,57,257,57,264,79.2969,468,79.2969,468,167,216,167,216,57\" style=\"stroke: #000000; stroke-width: 1.5;\"/><line style=\"stroke: #000000; stroke-width: 1.5;\" x1=\"216\" x2=\"264\" y1=\"79.2969\" y2=\"79.2969\"/><text fill=\"#000000\" font-family=\"sans-serif\" font-size=\"14\" font-weight=\"bold\" lengthAdjust=\"spacingAndGlyphs\" textLength=\"35\" x=\"220\" y=\"71.9951\">Pkg1</text></a><!--MD5=[de5ec2e2e8f62f467e546659f5068c88]\n",
       "cluster E5--><a href=\"psysml:63b0367b-32f1-46aa-9fe1-f934424c590d\" target=\"_top\" title=\"psysml:63b0367b-32f1-46aa-9fe1-f934424c590d\" xlink:actuate=\"onRequest\" xlink:href=\"psysml:63b0367b-32f1-46aa-9fe1-f934424c590d\" xlink:show=\"new\" xlink:title=\"psysml:63b0367b-32f1-46aa-9fe1-f934424c590d\" xlink:type=\"simple\"><polygon fill=\"#FFFFFF\" points=\"117,232,158,232,165,254.2969,435,254.2969,435,540,117,540,117,232\" style=\"stroke: #000000; stroke-width: 1.5;\"/><line style=\"stroke: #000000; stroke-width: 1.5;\" x1=\"117\" x2=\"165\" y1=\"254.2969\" y2=\"254.2969\"/><text fill=\"#000000\" font-family=\"sans-serif\" font-size=\"14\" font-weight=\"bold\" lengthAdjust=\"spacingAndGlyphs\" textLength=\"35\" x=\"121\" y=\"246.9951\">Pkg2</text></a><!--MD5=[14e3b0961a2654348d326746436168a1]\n",
       "cluster E6--><a href=\"psysml:98b17091-6ea5-4037-8451-bfddc724f9d0\" target=\"_top\" title=\"psysml:98b17091-6ea5-4037-8451-bfddc724f9d0\" xlink:actuate=\"onRequest\" xlink:href=\"psysml:98b17091-6ea5-4037-8451-bfddc724f9d0\" xlink:show=\"new\" xlink:title=\"psysml:98b17091-6ea5-4037-8451-bfddc724f9d0\" xlink:type=\"simple\"><polygon fill=\"#FFFFFF\" points=\"157,291,207,291,214,313.2969,387,313.2969,387,500,157,500,157,291\" style=\"stroke: #000000; stroke-width: 1.5;\"/><line style=\"stroke: #000000; stroke-width: 1.5;\" x1=\"157\" x2=\"214\" y1=\"313.2969\" y2=\"313.2969\"/><text fill=\"#000000\" font-family=\"sans-serif\" font-size=\"14\" font-weight=\"bold\" lengthAdjust=\"spacingAndGlyphs\" textLength=\"44\" x=\"161\" y=\"305.9951\">Pkg21</text></a><!--MD5=[168fadf3d0c3fd93dd5d6da1b1d7ab76]\n",
       "cluster E7--><a href=\"psysml:45f4d7ec-8fdd-4896-89d5-a877e9eb4cf9\" target=\"_top\" title=\"psysml:45f4d7ec-8fdd-4896-89d5-a877e9eb4cf9\" xlink:actuate=\"onRequest\" xlink:href=\"psysml:45f4d7ec-8fdd-4896-89d5-a877e9eb4cf9\" xlink:show=\"new\" xlink:title=\"psysml:45f4d7ec-8fdd-4896-89d5-a877e9eb4cf9\" xlink:type=\"simple\"><polygon fill=\"#FFFFFF\" points=\"205,350,264,350,271,372.2969,347,372.2969,347,460,205,460,205,350\" style=\"stroke: #000000; stroke-width: 1.5;\"/><line style=\"stroke: #000000; stroke-width: 1.5;\" x1=\"205\" x2=\"271\" y1=\"372.2969\" y2=\"372.2969\"/><text fill=\"#000000\" font-family=\"sans-serif\" font-size=\"14\" font-weight=\"bold\" lengthAdjust=\"spacingAndGlyphs\" textLength=\"53\" x=\"209\" y=\"364.9951\">Pkg211</text></a><g id=\"E1.E2.E3\"><a href=\"psysml:380b438c-f0d0-40f2-a10d-c83a46ac62de\" target=\"_top\" title=\"psysml:380b438c-f0d0-40f2-a10d-c83a46ac62de\" xlink:actuate=\"onRequest\" xlink:href=\"psysml:380b438c-f0d0-40f2-a10d-c83a46ac62de\" xlink:show=\"new\" xlink:title=\"psysml:380b438c-f0d0-40f2-a10d-c83a46ac62de\" xlink:type=\"simple\"><rect fill=\"#FFFFFF\" height=\"40\" id=\"E3\" rx=\"10\" ry=\"10\" style=\"stroke: #383838; stroke-width: 1.5;\" width=\"75\" x=\"259.5\" y=\"101.5\"/><rect fill=\"#F8F8F8\" height=\"23.9688\" rx=\"10\" ry=\"10\" style=\"stroke: #F8F8F8; stroke-width: 1.5;\" width=\"75\" x=\"259.5\" y=\"101.5\"/><rect fill=\"#F8F8F8\" height=\"10\" style=\"stroke: #F8F8F8; stroke-width: 1.5;\" width=\"75\" x=\"259.5\" y=\"115.4688\"/><rect fill=\"none\" height=\"40\" id=\"E3\" rx=\"10\" ry=\"10\" style=\"stroke: #383838; stroke-width: 1.5;\" width=\"75\" x=\"259.5\" y=\"101.5\"/><text fill=\"#000000\" font-family=\"sans-serif\" font-size=\"12\" lengthAdjust=\"spacingAndGlyphs\" textLength=\"64\" x=\"265\" y=\"117.6387\">p11: P211</text></a></g><g id=\"E1.E2.E4\"><a href=\"psysml:4c18927e-9f3a-4bbe-ae04-0ff2b7ea0a78\" target=\"_top\" title=\"psysml:4c18927e-9f3a-4bbe-ae04-0ff2b7ea0a78\" xlink:actuate=\"onRequest\" xlink:href=\"psysml:4c18927e-9f3a-4bbe-ae04-0ff2b7ea0a78\" xlink:show=\"new\" xlink:title=\"psysml:4c18927e-9f3a-4bbe-ae04-0ff2b7ea0a78\" xlink:type=\"simple\"><rect fill=\"#FFFFFF\" height=\"42.9375\" id=\"E4\" style=\"stroke: #383838; stroke-width: 1.5;\" width=\"75\" x=\"369.5\" y=\"100\"/><rect fill=\"#F8F8F8\" height=\"37.9375\" style=\"stroke: #383838; stroke-width: 1.5;\" width=\"75\" x=\"369.5\" y=\"100\"/><text fill=\"#000000\" font-family=\"sans-serif\" font-size=\"12\" font-style=\"italic\" lengthAdjust=\"spacingAndGlyphs\" textLength=\"68\" x=\"373\" y=\"116.1387\">«part  def»</text><text fill=\"#000000\" font-family=\"sans-serif\" font-size=\"12\" lengthAdjust=\"spacingAndGlyphs\" textLength=\"24\" x=\"395\" y=\"130.1074\">P12</text></a></g><g id=\"E1.E5.E6.E7.E8\"><a href=\"psysml:b4068f35-75bf-4c63-8263-9508faa965fc\" target=\"_top\" title=\"psysml:b4068f35-75bf-4c63-8263-9508faa965fc\" xlink:actuate=\"onRequest\" xlink:href=\"psysml:b4068f35-75bf-4c63-8263-9508faa965fc\" xlink:show=\"new\" xlink:title=\"psysml:b4068f35-75bf-4c63-8263-9508faa965fc\" xlink:type=\"simple\"><rect fill=\"#FFFFFF\" height=\"42.9375\" id=\"E8\" style=\"stroke: #383838; stroke-width: 1.5;\" width=\"75\" x=\"248.5\" y=\"393\"/><rect fill=\"#F8F8F8\" height=\"37.9375\" style=\"stroke: #383838; stroke-width: 1.5;\" width=\"75\" x=\"248.5\" y=\"393\"/><text fill=\"#000000\" font-family=\"sans-serif\" font-size=\"12\" font-style=\"italic\" lengthAdjust=\"spacingAndGlyphs\" textLength=\"68\" x=\"252\" y=\"409.1387\">«part  def»</text><text fill=\"#000000\" font-family=\"sans-serif\" font-size=\"12\" lengthAdjust=\"spacingAndGlyphs\" textLength=\"32\" x=\"270\" y=\"423.1074\">P211</text></a></g><!--MD5=[b0060bfdb0500b904584095522b4da3c]\n",
       "link E2 to E8--><a href=\"psysml:86dbe04c-b04a-4ec6-a347-5e4f000abe00\" target=\"_top\" title=\"psysml:86dbe04c-b04a-4ec6-a347-5e4f000abe00\" xlink:actuate=\"onRequest\" xlink:href=\"psysml:86dbe04c-b04a-4ec6-a347-5e4f000abe00\" xlink:show=\"new\" xlink:title=\"psysml:86dbe04c-b04a-4ec6-a347-5e4f000abe00\" xlink:type=\"simple\"><path d=\"M233.7485,167.2625 C233.8396,167.461 233.9314,167.6592 234.0241,167.8569 C234.395,168.648 234.7795,169.4328 235.1783,170.2099 C235.9758,171.764 236.8302,173.2869 237.7454,174.7655 C239.5759,177.7227 241.65,180.5025 244,183 C250.56,189.97 258.25,183.35 264,191 C308.12,249.72 299.04,343.18 291.3,387.96 \" fill=\"none\" id=\"E2-&gt;E8\" style=\"stroke: #383838; stroke-width: 1.0; stroke-dasharray: 7.0,7.0;\"/><polygon fill=\"#383838\" points=\"290.41,392.91,295.9388,384.7594,291.2944,387.9888,288.065,383.3444,290.41,392.91\" style=\"stroke: #383838; stroke-width: 1.0;\"/><text fill=\"#000000\" font-family=\"sans-serif\" font-size=\"13\" lengthAdjust=\"spacingAndGlyphs\" textLength=\"58\" x=\"274\" y=\"204.0669\">«import»</text></a><!--MD5=[e3e28c1befcf002155aa15e1416b4315]\n",
       "link E2 to E6--><a href=\"psysml:b4797686-9eb8-4e8e-a70f-411a8a1a5c6c\" target=\"_top\" title=\"psysml:b4797686-9eb8-4e8e-a70f-411a8a1a5c6c\" xlink:actuate=\"onRequest\" xlink:href=\"psysml:b4797686-9eb8-4e8e-a70f-411a8a1a5c6c\" xlink:show=\"new\" xlink:title=\"psysml:b4797686-9eb8-4e8e-a70f-411a8a1a5c6c\" xlink:type=\"simple\"><path d=\"M215.764,123.8356 C215.5384,123.8767 215.3087,123.9189 215.0751,123.9622 C214.6079,124.0488 214.1247,124.1396 213.6261,124.2349 C211.6318,124.6159 209.3916,125.0674 206.9428,125.5967 C197.1475,127.7141 184.0138,131.0769 169.925,136.1563 C141.7475,146.315 109.75,163.34 93,191 C66.5,234.76 83.5275,289.345 107.655,333.4975 C119.7188,355.5738 133.5575,375.0419 144.6178,389.2447 C147.3829,392.7954 149.9743,396.017 152.3209,398.868 C153.4943,400.2935 154.6064,401.6264 155.6484,402.8614 C155.9089,403.1702 156.165,403.4728 156.4166,403.7693 C156.5424,403.9175 156.6671,404.0642 156.7906,404.2093 \" fill=\"none\" id=\"E2-&gt;E6\" style=\"stroke: #383838; stroke-width: 1.0; stroke-dasharray: 7.0,7.0;\"/><polygon fill=\"#383838\" points=\"156.7906,404.2093,154.0028,394.7632,153.5497,400.4019,147.911,399.9487,156.7906,404.2093\" style=\"stroke: #383838; stroke-width: 1.0;\"/><text fill=\"#000000\" font-family=\"sans-serif\" font-size=\"13\" lengthAdjust=\"spacingAndGlyphs\" textLength=\"65\" x=\"94\" y=\"204.0669\">«import»*</text></a><!--MD5=[e3d2a08a9c9236652057e8ed0cbc9b62]\n",
       "link E2 to E7--><a href=\"psysml:c873f416-4fb0-4522-b4d5-2fc0ff0d8008\" target=\"_top\" title=\"psysml:c873f416-4fb0-4522-b4d5-2fc0ff0d8008\" xlink:actuate=\"onRequest\" xlink:href=\"psysml:c873f416-4fb0-4522-b4d5-2fc0ff0d8008\" xlink:show=\"new\" xlink:title=\"psysml:c873f416-4fb0-4522-b4d5-2fc0ff0d8008\" xlink:type=\"simple\"><path d=\"M215.9145,129.4818 C215.7831,129.6017 215.6504,129.723 215.5165,129.8456 C215.2488,130.0909 214.9764,130.3417 214.6994,130.5979 C214.1455,131.1103 213.5735,131.6444 212.9854,132.1994 C211.8091,133.3094 210.5683,134.503 209.278,135.7741 C206.6976,138.3163 203.9197,141.1684 201.0663,144.2813 C189.6525,156.7325 177.03,173.355 171,191 C168.56,198.15 166.24,202.13 171,208 C181.87,221.4 197.99,202.71 209,216 C222.785,232.64 223.97,280.745 221.6187,325.31 C221.3248,330.8806 220.9757,336.3959 220.589,341.7876 C220.3956,344.4834 220.1929,347.1483 219.983,349.7737 \" fill=\"none\" id=\"E2-&gt;E7\" style=\"stroke: #383838; stroke-width: 1.0; stroke-dasharray: 7.0,7.0;\"/><polygon fill=\"#383838\" points=\"219.983,349.7737,224.6875,341.1211,220.3815,344.7896,216.713,340.4835,219.983,349.7737\" style=\"stroke: #383838; stroke-width: 1.0;\"/><text fill=\"#000000\" font-family=\"sans-serif\" font-size=\"13\" lengthAdjust=\"spacingAndGlyphs\" textLength=\"87\" x=\"172\" y=\"204.0669\">«import»*::**</text></a><!--MD5=[ca5a752d6098d8a44b3f88316e7452d1]\n",
       "link E3 to E8--><a href=\"psysml:bb41b158-76b0-47f5-886e-e2f97e00e6aa\" target=\"_top\" title=\"psysml:bb41b158-76b0-47f5-886e-e2f97e00e6aa\" xlink:actuate=\"onRequest\" xlink:href=\"psysml:bb41b158-76b0-47f5-886e-e2f97e00e6aa\" xlink:show=\"new\" xlink:title=\"psysml:bb41b158-76b0-47f5-886e-e2f97e00e6aa\" xlink:type=\"simple\"><path d=\"M312.28,141.62 C322.76,154.12 337.37,170.41 352,183 C356.86,187.18 360.98,185.35 364,191 C367.57,197.66 368.73,202.11 364,208 C353.74,220.79 339.54,204.36 328,216 C287.05,257.33 281.54,328.07 282.74,372.73 \" fill=\"none\" id=\"E3-&gt;E8\" style=\"stroke: #383838; stroke-width: 1.0;\"/><polygon fill=\"#FFFFFF\" points=\"283.77,392.86,275.7887,374.2509,289.7697,373.5208,283.77,392.86\" style=\"stroke: #383838; stroke-width: 1.0;\"/><ellipse cx=\"277.4888\" cy=\"368.4543\" fill=\"#383838\" rx=\"2\" ry=\"2\" style=\"stroke: #383838; stroke-width: 1.0;\"/><ellipse cx=\"287.4752\" cy=\"367.9329\" fill=\"#383838\" rx=\"2\" ry=\"2\" style=\"stroke: #383838; stroke-width: 1.0;\"/></a><!--MD5=[15ebcb19ae302d9b601edb458606d402]\n",
       "link E5 to E2--><a href=\"psysml:cb98c000-d2e0-4059-b3dc-41ff4d975042\" target=\"_top\" title=\"psysml:cb98c000-d2e0-4059-b3dc-41ff4d975042\" xlink:actuate=\"onRequest\" xlink:href=\"psysml:cb98c000-d2e0-4059-b3dc-41ff4d975042\" xlink:show=\"new\" xlink:title=\"psysml:cb98c000-d2e0-4059-b3dc-41ff4d975042\" xlink:type=\"simple\"><path d=\"M377.9759,231.2195 C377.7515,230.8776 377.526,230.5364 377.2994,230.196 C376.3932,228.8344 375.4706,227.4852 374.5311,226.1493 C372.6521,223.4776 370.7058,220.8593 368.6899,218.3016 C360.6261,208.0711 351.4475,198.8125 341,191 C323.68,178.05 260.99,196.38 244,183 C241.305,180.8788 238.9694,178.3841 236.9456,175.6375 C235.9337,174.2642 234.9998,172.8279 234.1379,171.3439 C233.707,170.6019 233.294,169.8479 232.8983,169.0839 C232.7005,168.7019 232.507,168.3173 232.3177,167.9306 C232.223,167.7372 232.1294,167.5432 232.0369,167.3487 C231.9906,167.2514 231.9446,167.1541 231.8988,167.0565 \" fill=\"none\" id=\"E5-&gt;E2\" style=\"stroke: #383838; stroke-width: 1.0; stroke-dasharray: 7.0,7.0;\"/><polygon fill=\"#383838\" points=\"231.8988,167.0565,232.1005,176.9033,234.0226,171.5831,239.3429,173.5052,231.8988,167.0565\" style=\"stroke: #383838; stroke-width: 1.0;\"/><text fill=\"#000000\" font-family=\"sans-serif\" font-size=\"13\" lengthAdjust=\"spacingAndGlyphs\" textLength=\"65\" x=\"360\" y=\"204.0669\">«import»*</text></a><!--MD5=[d7bb3fb34add81b710575eb3799fa2ad]\n",
       "link E8 to E4--><a href=\"psysml:ff856c1d-ebaf-4dbc-8ba8-d8c60136e299\" target=\"_top\" title=\"psysml:ff856c1d-ebaf-4dbc-8ba8-d8c60136e299\" xlink:actuate=\"onRequest\" xlink:href=\"psysml:ff856c1d-ebaf-4dbc-8ba8-d8c60136e299\" xlink:show=\"new\" xlink:title=\"psysml:ff856c1d-ebaf-4dbc-8ba8-d8c60136e299\" xlink:type=\"simple\"><path d=\"M283.17,392.77 C278.87,351.76 276.04,260.42 328,216 C340.69,205.16 466.52,220.11 478,208 C493.95,191.18 479.29,171.32 459.24,154.97 \" fill=\"none\" id=\"E8-&gt;E4\" style=\"stroke: #383838; stroke-width: 1.0;\"/><polygon fill=\"none\" points=\"454.9,160.46,442.89,143.01,463.16,149.16,454.9,160.46\" style=\"stroke: #383838; stroke-width: 1.0;\"/></a><!--MD5=[c315553c203fc6301188d7adf426c7c7]\n",
       "@startuml\r\n",
       "skinparam ranksep 10\r\n",
       "skinparam rectangle {\r\n",
       " backgroundColor<<block>> LightGreen\r\n",
       "}\r\n",
       " skinparam monochrome true\r\n",
       "skinparam classbackgroundcolor white\r\n",
       "skinparam shadowing false\r\n",
       "skinparam wrapWidth 300\r\n",
       "hide circle\r\n",
       "\r\n",
       "package \"ImportTest\" as E1  [[psysml:789e6656-6985-4918-a680-b12b42056b24 ]]  {\r\n",
       "package \"Pkg1\" as E2  [[psysml:9ed5d6a5-603c-4e6a-bfc8-60e703dcd2fe ]]  {\r\n",
       "rec usage \"p11: P211\" as E3  [[psysml:380b438c-f0d0-40f2-a10d-c83a46ac62de ]] {\r\n",
       "}\r\n",
       "rec def \"P12\" as E4  <<(T,blue) part  def>> [[psysml:4c18927e-9f3a-4bbe-ae04-0ff2b7ea0a78 ]] {\r\n",
       "}\r\n",
       "}\r\n",
       "package \"Pkg2\" as E5  [[psysml:63b0367b-32f1-46aa-9fe1-f934424c590d ]]  {\r\n",
       "package \"Pkg21\" as E6  [[psysml:98b17091-6ea5-4037-8451-bfddc724f9d0 ]]  {\r\n",
       "package \"Pkg211\" as E7  [[psysml:45f4d7ec-8fdd-4896-89d5-a877e9eb4cf9 ]]  {\r\n",
       "rec def \"P211\" as E8  <<(T,blue) part  def>> [[psysml:b4068f35-75bf-4c63-8263-9508faa965fc ]] {\r\n",
       "}\r\n",
       "}\r\n",
       "}\r\n",
       "}\r\n",
       "}\r\n",
       "E2 ..> E8 [[psysml:86dbe04c-b04a-4ec6-a347-5e4f000abe00 ]] : <<import>>\r\n",
       "E2 ..> E6 [[psysml:b4797686-9eb8-4e8e-a70f-411a8a1a5c6c ]] : <<import>>*\r\n",
       "E2 ..> E7 [[psysml:c873f416-4fb0-4522-b4d5-2fc0ff0d8008 ]] : <<import>>*::**\r\n",
       "E3 - -:|> E8 [[psysml:bb41b158-76b0-47f5-886e-e2f97e00e6aa ]] \r\n",
       "E5 ..> E2 [[psysml:cb98c000-d2e0-4059-b3dc-41ff4d975042 ]] : <<import>>*\r\n",
       "E8 - -|> E4 [[psysml:ff856c1d-ebaf-4dbc-8ba8-d8c60136e299 ]] \r\n",
       "@enduml\r\n",
       "\n",
       "PlantUML version 1.2020.13(Sat Jun 13 12:26:38 UTC 2020)\n",
       "(EPL source distribution)\n",
       "Java Runtime: OpenJDK Runtime Environment\n",
       "JVM: OpenJDK 64-Bit Server VM\n",
       "Default Encoding: UTF-8\n",
       "Language: en\n",
       "Country: null\n",
       "--></g></svg>"
      ]
     },
     "execution_count": 5,
     "metadata": {},
     "output_type": "execute_result"
    }
   ],
   "source": [
    "%viz --style=\"COMPTREE\" --view=\"Interconnection\" \"ImportTest\""
   ]
  },
  {
   "cell_type": "code",
   "execution_count": 6,
   "id": "8642334a",
   "metadata": {
    "execution": {
     "iopub.execute_input": "2022-08-19T08:17:19.067852Z",
     "iopub.status.busy": "2022-08-19T08:17:19.067377Z",
     "iopub.status.idle": "2022-08-19T08:17:19.074600Z",
     "shell.execute_reply": "2022-08-19T08:17:19.074918Z"
    }
   },
   "outputs": [
    {
     "data": {
      "image/svg+xml": [
       "<?xml version=\"1.0\" encoding=\"UTF-8\" standalone=\"no\"?><svg xmlns=\"http://www.w3.org/2000/svg\" xmlns:xlink=\"http://www.w3.org/1999/xlink\" contentScriptType=\"application/ecmascript\" contentStyleType=\"text/css\" height=\"12px\" preserveAspectRatio=\"none\" style=\"width:12px;height:12px;\" version=\"1.1\" viewBox=\"0 0 12 12\" width=\"12px\" zoomAndPan=\"magnify\"><defs/><g><!--MD5=[655b888544ca4751ea36af1068543f84]\n",
       "@startuml\r\n",
       "skinparam ranksep 8\r\n",
       " skinparam monochrome true\r\n",
       "skinparam classbackgroundcolor white\r\n",
       "skinparam shadowing false\r\n",
       "skinparam wrapWidth 300\r\n",
       "hide circle\r\n",
       "\r\n",
       "@enduml\r\n",
       "\n",
       "PlantUML version 1.2020.13(Sat Jun 13 12:26:38 UTC 2020)\n",
       "(EPL source distribution)\n",
       "Java Runtime: OpenJDK Runtime Environment\n",
       "JVM: OpenJDK 64-Bit Server VM\n",
       "Default Encoding: UTF-8\n",
       "Language: en\n",
       "Country: null\n",
       "--></g></svg>"
      ]
     },
     "execution_count": 6,
     "metadata": {},
     "output_type": "execute_result"
    }
   ],
   "source": [
    "%viz --style=\"COMPTREE\" --view=\"Action\" \"ImportTest\""
   ]
  },
  {
   "cell_type": "code",
   "execution_count": 7,
   "id": "6bbbc585",
   "metadata": {
    "execution": {
     "iopub.execute_input": "2022-08-19T08:17:19.125688Z",
     "iopub.status.busy": "2022-08-19T08:17:19.125217Z",
     "iopub.status.idle": "2022-08-19T08:17:19.137760Z",
     "shell.execute_reply": "2022-08-19T08:17:19.138083Z"
    }
   },
   "outputs": [
    {
     "data": {
      "image/svg+xml": [
       "<?xml version=\"1.0\" encoding=\"UTF-8\" standalone=\"no\"?><svg xmlns=\"http://www.w3.org/2000/svg\" xmlns:xlink=\"http://www.w3.org/1999/xlink\" contentScriptType=\"application/ecmascript\" contentStyleType=\"text/css\" height=\"12px\" preserveAspectRatio=\"none\" style=\"width:12px;height:12px;\" version=\"1.1\" viewBox=\"0 0 12 12\" width=\"12px\" zoomAndPan=\"magnify\"><defs/><g><!--MD5=[803fc46c337be7a5c8a9831e35356779]\n",
       "@startuml\r\n",
       "skinparam roundcorner 20\r\n",
       "skinparam BoxPadding 20\r\n",
       "skinparam SequenceBoxBackgroundColor #white\r\n",
       "skinparam style strictuml\r\n",
       "skinparam maxMessageSize 100\r\n",
       " skinparam monochrome true\r\n",
       "skinparam classbackgroundcolor white\r\n",
       "skinparam shadowing false\r\n",
       "skinparam wrapWidth 300\r\n",
       "hide circle\r\n",
       "\r\n",
       "@enduml\r\n",
       "\n",
       "PlantUML version 1.2020.13(Sat Jun 13 12:26:38 UTC 2020)\n",
       "(EPL source distribution)\n",
       "Java Runtime: OpenJDK Runtime Environment\n",
       "JVM: OpenJDK 64-Bit Server VM\n",
       "Default Encoding: UTF-8\n",
       "Language: en\n",
       "Country: null\n",
       "--></g></svg>"
      ]
     },
     "execution_count": 7,
     "metadata": {},
     "output_type": "execute_result"
    }
   ],
   "source": [
    "%viz --style=\"COMPTREE\" --view=\"Sequence\" \"ImportTest\""
   ]
  },
  {
   "cell_type": "code",
   "execution_count": 8,
   "id": "01d698ea",
   "metadata": {
    "execution": {
     "iopub.execute_input": "2022-08-19T08:17:19.188597Z",
     "iopub.status.busy": "2022-08-19T08:17:19.188135Z",
     "iopub.status.idle": "2022-08-19T08:17:19.242283Z",
     "shell.execute_reply": "2022-08-19T08:17:19.241699Z"
    }
   },
   "outputs": [
    {
     "data": {
      "image/svg+xml": [
       "<?xml version=\"1.0\" encoding=\"UTF-8\" standalone=\"no\"?><svg xmlns=\"http://www.w3.org/2000/svg\" xmlns:xlink=\"http://www.w3.org/1999/xlink\" contentScriptType=\"application/ecmascript\" contentStyleType=\"text/css\" height=\"590px\" preserveAspectRatio=\"none\" style=\"width:522px;height:590px;\" version=\"1.1\" viewBox=\"0 0 522 590\" width=\"522px\" zoomAndPan=\"magnify\"><defs/><g><!--MD5=[fbc87193dbaf4d95561dea2c320d4a47]\n",
       "cluster E1--><a href=\"psysml:789e6656-6985-4918-a680-b12b42056b24\" target=\"_top\" title=\"psysml:789e6656-6985-4918-a680-b12b42056b24\" xlink:actuate=\"onRequest\" xlink:href=\"psysml:789e6656-6985-4918-a680-b12b42056b24\" xlink:show=\"new\" xlink:title=\"psysml:789e6656-6985-4918-a680-b12b42056b24\" xlink:type=\"simple\"><polygon fill=\"#FFFFFF\" points=\"16,6,97,6,104,28.2969,500,28.2969,500,578,16,578,16,6\" style=\"stroke: #000000; stroke-width: 1.5;\"/><line style=\"stroke: #000000; stroke-width: 1.5;\" x1=\"16\" x2=\"104\" y1=\"28.2969\" y2=\"28.2969\"/><text fill=\"#000000\" font-family=\"sans-serif\" font-size=\"14\" font-weight=\"bold\" lengthAdjust=\"spacingAndGlyphs\" textLength=\"75\" x=\"20\" y=\"20.9951\">ImportTest</text></a><!--MD5=[e4f7fae6ed58524ba242bb0b0d3be6b7]\n",
       "cluster E2--><a href=\"psysml:9ed5d6a5-603c-4e6a-bfc8-60e703dcd2fe\" target=\"_top\" title=\"psysml:9ed5d6a5-603c-4e6a-bfc8-60e703dcd2fe\" xlink:actuate=\"onRequest\" xlink:href=\"psysml:9ed5d6a5-603c-4e6a-bfc8-60e703dcd2fe\" xlink:show=\"new\" xlink:title=\"psysml:9ed5d6a5-603c-4e6a-bfc8-60e703dcd2fe\" xlink:type=\"simple\"><polygon fill=\"#FFFFFF\" points=\"222,57,263,57,270,79.2969,468,79.2969,468,170,222,170,222,57\" style=\"stroke: #000000; stroke-width: 1.5;\"/><line style=\"stroke: #000000; stroke-width: 1.5;\" x1=\"222\" x2=\"270\" y1=\"79.2969\" y2=\"79.2969\"/><text fill=\"#000000\" font-family=\"sans-serif\" font-size=\"14\" font-weight=\"bold\" lengthAdjust=\"spacingAndGlyphs\" textLength=\"35\" x=\"226\" y=\"71.9951\">Pkg1</text></a><!--MD5=[de5ec2e2e8f62f467e546659f5068c88]\n",
       "cluster E5--><a href=\"psysml:63b0367b-32f1-46aa-9fe1-f934424c590d\" target=\"_top\" title=\"psysml:63b0367b-32f1-46aa-9fe1-f934424c590d\" xlink:actuate=\"onRequest\" xlink:href=\"psysml:63b0367b-32f1-46aa-9fe1-f934424c590d\" xlink:show=\"new\" xlink:title=\"psysml:63b0367b-32f1-46aa-9fe1-f934424c590d\" xlink:type=\"simple\"><polygon fill=\"#FFFFFF\" points=\"121,235,162,235,169,257.2969,434,257.2969,434,546,121,546,121,235\" style=\"stroke: #000000; stroke-width: 1.5;\"/><line style=\"stroke: #000000; stroke-width: 1.5;\" x1=\"121\" x2=\"169\" y1=\"257.2969\" y2=\"257.2969\"/><text fill=\"#000000\" font-family=\"sans-serif\" font-size=\"14\" font-weight=\"bold\" lengthAdjust=\"spacingAndGlyphs\" textLength=\"35\" x=\"125\" y=\"249.9951\">Pkg2</text></a><!--MD5=[14e3b0961a2654348d326746436168a1]\n",
       "cluster E6--><a href=\"psysml:98b17091-6ea5-4037-8451-bfddc724f9d0\" target=\"_top\" title=\"psysml:98b17091-6ea5-4037-8451-bfddc724f9d0\" xlink:actuate=\"onRequest\" xlink:href=\"psysml:98b17091-6ea5-4037-8451-bfddc724f9d0\" xlink:show=\"new\" xlink:title=\"psysml:98b17091-6ea5-4037-8451-bfddc724f9d0\" xlink:type=\"simple\"><polygon fill=\"#FFFFFF\" points=\"161,294,211,294,218,316.2969,386,316.2969,386,506,161,506,161,294\" style=\"stroke: #000000; stroke-width: 1.5;\"/><line style=\"stroke: #000000; stroke-width: 1.5;\" x1=\"161\" x2=\"218\" y1=\"316.2969\" y2=\"316.2969\"/><text fill=\"#000000\" font-family=\"sans-serif\" font-size=\"14\" font-weight=\"bold\" lengthAdjust=\"spacingAndGlyphs\" textLength=\"44\" x=\"165\" y=\"308.9951\">Pkg21</text></a><!--MD5=[168fadf3d0c3fd93dd5d6da1b1d7ab76]\n",
       "cluster E7--><a href=\"psysml:45f4d7ec-8fdd-4896-89d5-a877e9eb4cf9\" target=\"_top\" title=\"psysml:45f4d7ec-8fdd-4896-89d5-a877e9eb4cf9\" xlink:actuate=\"onRequest\" xlink:href=\"psysml:45f4d7ec-8fdd-4896-89d5-a877e9eb4cf9\" xlink:show=\"new\" xlink:title=\"psysml:45f4d7ec-8fdd-4896-89d5-a877e9eb4cf9\" xlink:type=\"simple\"><polygon fill=\"#FFFFFF\" points=\"209,353,268,353,275,375.2969,346,375.2969,346,466,209,466,209,353\" style=\"stroke: #000000; stroke-width: 1.5;\"/><line style=\"stroke: #000000; stroke-width: 1.5;\" x1=\"209\" x2=\"275\" y1=\"375.2969\" y2=\"375.2969\"/><text fill=\"#000000\" font-family=\"sans-serif\" font-size=\"14\" font-weight=\"bold\" lengthAdjust=\"spacingAndGlyphs\" textLength=\"53\" x=\"213\" y=\"367.9951\">Pkg211</text></a><!--MD5=[09b614a08d8cba4a07c9adeb5e0fee81]\n",
       "class E3--><a href=\"psysml:380b438c-f0d0-40f2-a10d-c83a46ac62de\" target=\"_top\" title=\"psysml:380b438c-f0d0-40f2-a10d-c83a46ac62de\" xlink:actuate=\"onRequest\" xlink:href=\"psysml:380b438c-f0d0-40f2-a10d-c83a46ac62de\" xlink:show=\"new\" xlink:title=\"psysml:380b438c-f0d0-40f2-a10d-c83a46ac62de\" xlink:type=\"simple\"><rect fill=\"#FFFFFF\" height=\"45.9375\" id=\"E3\" rx=\"10\" ry=\"10\" style=\"stroke: #383838; stroke-width: 1.5;\" width=\"74\" x=\"265\" y=\"100\"/><text fill=\"#000000\" font-family=\"sans-serif\" font-size=\"12\" font-style=\"italic\" lengthAdjust=\"spacingAndGlyphs\" textLength=\"40\" x=\"282\" y=\"116.1387\">«part»</text><text fill=\"#000000\" font-family=\"sans-serif\" font-size=\"12\" lengthAdjust=\"spacingAndGlyphs\" textLength=\"64\" x=\"268\" y=\"130.1074\">p11: P211</text><line style=\"stroke: #383838; stroke-width: 1.5;\" x1=\"266\" x2=\"338\" y1=\"137.9375\" y2=\"137.9375\"/></a><!--MD5=[ebbe1d658d1005bcc118a6aa81145e00]\n",
       "class E4--><a href=\"psysml:4c18927e-9f3a-4bbe-ae04-0ff2b7ea0a78\" target=\"_top\" title=\"psysml:4c18927e-9f3a-4bbe-ae04-0ff2b7ea0a78\" xlink:actuate=\"onRequest\" xlink:href=\"psysml:4c18927e-9f3a-4bbe-ae04-0ff2b7ea0a78\" xlink:show=\"new\" xlink:title=\"psysml:4c18927e-9f3a-4bbe-ae04-0ff2b7ea0a78\" xlink:type=\"simple\"><rect fill=\"#FFFFFF\" height=\"45.9375\" id=\"E4\" style=\"stroke: #383838; stroke-width: 1.5;\" width=\"70\" x=\"374\" y=\"100\"/><text fill=\"#000000\" font-family=\"sans-serif\" font-size=\"12\" font-style=\"italic\" lengthAdjust=\"spacingAndGlyphs\" textLength=\"68\" x=\"375\" y=\"116.1387\">«part  def»</text><text fill=\"#000000\" font-family=\"sans-serif\" font-size=\"12\" lengthAdjust=\"spacingAndGlyphs\" textLength=\"24\" x=\"397\" y=\"130.1074\">P12</text><line style=\"stroke: #383838; stroke-width: 1.5;\" x1=\"375\" x2=\"443\" y1=\"137.9375\" y2=\"137.9375\"/></a><!--MD5=[b9389687b975829384b498ac4b7476b2]\n",
       "class E8--><a href=\"psysml:b4068f35-75bf-4c63-8263-9508faa965fc\" target=\"_top\" title=\"psysml:b4068f35-75bf-4c63-8263-9508faa965fc\" xlink:actuate=\"onRequest\" xlink:href=\"psysml:b4068f35-75bf-4c63-8263-9508faa965fc\" xlink:show=\"new\" xlink:title=\"psysml:b4068f35-75bf-4c63-8263-9508faa965fc\" xlink:type=\"simple\"><rect fill=\"#FFFFFF\" height=\"45.9375\" id=\"E8\" style=\"stroke: #383838; stroke-width: 1.5;\" width=\"70\" x=\"252\" y=\"396\"/><text fill=\"#000000\" font-family=\"sans-serif\" font-size=\"12\" font-style=\"italic\" lengthAdjust=\"spacingAndGlyphs\" textLength=\"68\" x=\"253\" y=\"412.1387\">«part  def»</text><text fill=\"#000000\" font-family=\"sans-serif\" font-size=\"12\" lengthAdjust=\"spacingAndGlyphs\" textLength=\"32\" x=\"271\" y=\"426.1074\">P211</text><line style=\"stroke: #383838; stroke-width: 1.5;\" x1=\"253\" x2=\"321\" y1=\"433.9375\" y2=\"433.9375\"/></a><!--MD5=[b0060bfdb0500b904584095522b4da3c]\n",
       "link E2 to E8--><a href=\"psysml:86dbe04c-b04a-4ec6-a347-5e4f000abe00\" target=\"_top\" title=\"psysml:86dbe04c-b04a-4ec6-a347-5e4f000abe00\" xlink:actuate=\"onRequest\" xlink:href=\"psysml:86dbe04c-b04a-4ec6-a347-5e4f000abe00\" xlink:show=\"new\" xlink:title=\"psysml:86dbe04c-b04a-4ec6-a347-5e4f000abe00\" xlink:type=\"simple\"><path d=\"M239.5673,170.044 C239.9187,170.8643 240.2829,171.6796 240.6605,172.4884 C241.4156,174.106 242.2242,175.6975 243.0899,177.2503 C244.8213,180.3558 246.7813,183.3063 249,186 C253.8,191.83 259.79,187.73 264,194 C304.62,254.46 298.3,345.57 291.84,390.69 \" fill=\"none\" id=\"E2-&gt;E8\" style=\"stroke: #383838; stroke-width: 1.0; stroke-dasharray: 7.0,7.0;\"/><polygon fill=\"#383838\" points=\"291.1,395.69,296.3662,387.3673,291.8271,390.7431,288.4512,386.204,291.1,395.69\" style=\"stroke: #383838; stroke-width: 1.0;\"/><text fill=\"#000000\" font-family=\"sans-serif\" font-size=\"13\" lengthAdjust=\"spacingAndGlyphs\" textLength=\"58\" x=\"274\" y=\"207.0669\">«import»</text></a><!--MD5=[e3e28c1befcf002155aa15e1416b4315]\n",
       "link E2 to E6--><a href=\"psysml:b4797686-9eb8-4e8e-a70f-411a8a1a5c6c\" target=\"_top\" title=\"psysml:b4797686-9eb8-4e8e-a70f-411a8a1a5c6c\" xlink:actuate=\"onRequest\" xlink:href=\"psysml:b4797686-9eb8-4e8e-a70f-411a8a1a5c6c\" xlink:show=\"new\" xlink:title=\"psysml:b4797686-9eb8-4e8e-a70f-411a8a1a5c6c\" xlink:type=\"simple\"><path d=\"M221.7454,125.2359 C221.6297,125.2555 221.5129,125.2754 221.395,125.2955 C221.1593,125.3358 220.9193,125.3771 220.6752,125.4195 C220.1869,125.5042 219.6819,125.5933 219.1609,125.6868 C217.0769,126.0607 214.7359,126.5053 212.1769,127.0288 C201.9406,129.1225 188.215,132.4775 173.4875,137.615 C144.0325,147.89 110.57,165.295 93,194 C65.99,238.135 83.98,293.0875 109.2162,337.5175 C121.8344,359.7325 136.2641,379.3169 147.7861,393.6031 C150.6666,397.1747 153.3654,400.4151 155.8087,403.2827 C157.0304,404.7165 158.1881,406.0571 159.2728,407.2993 C159.8152,407.9204 160.3393,408.5169 160.8439,409.0882 \" fill=\"none\" id=\"E2-&gt;E6\" style=\"stroke: #383838; stroke-width: 1.0; stroke-dasharray: 7.0,7.0;\"/><polygon fill=\"#383838\" points=\"160.8439,409.0882,157.8829,399.695,157.5335,405.341,151.8875,404.9916,160.8439,409.0882\" style=\"stroke: #383838; stroke-width: 1.0;\"/><text fill=\"#000000\" font-family=\"sans-serif\" font-size=\"13\" lengthAdjust=\"spacingAndGlyphs\" textLength=\"65\" x=\"94\" y=\"207.0669\">«import»*</text></a><!--MD5=[e3d2a08a9c9236652057e8ed0cbc9b62]\n",
       "link E2 to E7--><a href=\"psysml:c873f416-4fb0-4522-b4d5-2fc0ff0d8008\" target=\"_top\" title=\"psysml:c873f416-4fb0-4522-b4d5-2fc0ff0d8008\" xlink:actuate=\"onRequest\" xlink:href=\"psysml:c873f416-4fb0-4522-b4d5-2fc0ff0d8008\" xlink:show=\"new\" xlink:title=\"psysml:c873f416-4fb0-4522-b4d5-2fc0ff0d8008\" xlink:type=\"simple\"><path d=\"M221.8807,130.2617 C221.7401,130.3761 221.5982,130.4918 221.4548,130.6091 C216.8678,134.36 210.8594,139.5688 204.5113,145.875 C191.815,158.4875 177.76,175.49 171,194 C168.41,201.1 166.18,205.18 171,211 C183.11,225.64 200.74,204.48 213,219 C227.045,235.63 228.2325,284.0975 225.8175,329.0338 C225.5156,334.6508 225.1575,340.2126 224.7611,345.6502 C224.662,347.0096 224.5605,348.3613 224.4569,349.7041 C224.4051,350.3755 224.3528,351.0446 224.3,351.7115 C224.2736,352.0449 224.2471,352.3777 224.2204,352.71 \" fill=\"none\" id=\"E2-&gt;E7\" style=\"stroke: #383838; stroke-width: 1.0; stroke-dasharray: 7.0,7.0;\"/><polygon fill=\"#383838\" points=\"224.2204,352.71,228.9272,344.0586,224.6202,347.726,220.9528,343.419,224.2204,352.71\" style=\"stroke: #383838; stroke-width: 1.0;\"/><text fill=\"#000000\" font-family=\"sans-serif\" font-size=\"13\" lengthAdjust=\"spacingAndGlyphs\" textLength=\"87\" x=\"172\" y=\"207.0669\">«import»*::**</text></a><!--MD5=[ca5a752d6098d8a44b3f88316e7452d1]\n",
       "link E3 to E8--><a href=\"psysml:bb41b158-76b0-47f5-886e-e2f97e00e6aa\" target=\"_top\" title=\"psysml:bb41b158-76b0-47f5-886e-e2f97e00e6aa\" xlink:actuate=\"onRequest\" xlink:href=\"psysml:bb41b158-76b0-47f5-886e-e2f97e00e6aa\" xlink:show=\"new\" xlink:title=\"psysml:bb41b158-76b0-47f5-886e-e2f97e00e6aa\" xlink:type=\"simple\"><path d=\"M321.59,146.07 C339.73,166.51 363.93,193.81 364,194 C366.68,201.06 368.76,205.13 364,211 C353.13,224.4 338.12,206.71 326,219 C285.31,260.27 280.82,330.75 282.81,375.81 \" fill=\"none\" id=\"E3-&gt;E8\" style=\"stroke: #383838; stroke-width: 1.0;\"/><polygon fill=\"#FFFFFF\" points=\"284.19,395.93,275.9039,377.4546,289.8709,376.4948,284.19,395.93\" style=\"stroke: #383838; stroke-width: 1.0;\"/><ellipse cx=\"277.5084\" cy=\"371.6309\" fill=\"#383838\" rx=\"2\" ry=\"2\" style=\"stroke: #383838; stroke-width: 1.0;\"/><ellipse cx=\"287.4849\" cy=\"370.9453\" fill=\"#383838\" rx=\"2\" ry=\"2\" style=\"stroke: #383838; stroke-width: 1.0;\"/></a><!--MD5=[15ebcb19ae302d9b601edb458606d402]\n",
       "link E5 to E2--><a href=\"psysml:cb98c000-d2e0-4059-b3dc-41ff4d975042\" target=\"_top\" title=\"psysml:cb98c000-d2e0-4059-b3dc-41ff4d975042\" xlink:actuate=\"onRequest\" xlink:href=\"psysml:cb98c000-d2e0-4059-b3dc-41ff4d975042\" xlink:show=\"new\" xlink:title=\"psysml:cb98c000-d2e0-4059-b3dc-41ff4d975042\" xlink:type=\"simple\"><path d=\"M377.9071,234.5987 C377.6837,234.254 377.4593,233.91 377.2338,233.5668 C376.3317,232.1941 375.413,230.8338 374.4773,229.4868 C372.6059,226.7928 370.6665,224.152 368.6567,221.572 C360.6175,211.2517 351.4513,201.9025 341,194 C324.63,181.62 264.96,198.91 249,186 C246.2863,183.805 243.9511,181.2325 241.9426,178.4061 C240.9384,176.9929 240.0159,175.5163 239.1685,173.9916 C238.7448,173.2292 238.3399,172.4549 237.953,171.6705 C237.7596,171.2782 237.5706,170.8835 237.3861,170.4865 C237.3399,170.3873 237.2941,170.2879 237.2485,170.1883 \" fill=\"none\" id=\"E5-&gt;E2\" style=\"stroke: #383838; stroke-width: 1.0; stroke-dasharray: 7.0,7.0;\"/><polygon fill=\"#383838\" points=\"237.2485,170.1883,237.3599,180.0366,239.3307,174.7341,244.6331,176.705,237.2485,170.1883\" style=\"stroke: #383838; stroke-width: 1.0;\"/><text fill=\"#000000\" font-family=\"sans-serif\" font-size=\"13\" lengthAdjust=\"spacingAndGlyphs\" textLength=\"65\" x=\"356\" y=\"207.0669\">«import»*</text></a><!--MD5=[d7bb3fb34add81b710575eb3799fa2ad]\n",
       "link E8 to E4--><a href=\"psysml:ff856c1d-ebaf-4dbc-8ba8-d8c60136e299\" target=\"_top\" title=\"psysml:ff856c1d-ebaf-4dbc-8ba8-d8c60136e299\" xlink:actuate=\"onRequest\" xlink:href=\"psysml:ff856c1d-ebaf-4dbc-8ba8-d8c60136e299\" xlink:show=\"new\" xlink:title=\"psysml:ff856c1d-ebaf-4dbc-8ba8-d8c60136e299\" xlink:type=\"simple\"><path d=\"M283.6,395.87 C278.58,354.03 274.69,263.54 326,219 C338.77,207.91 466.36,223.27 478,211 C493.94,194.2 479.72,174.01 460.15,157.31 \" fill=\"none\" id=\"E8-&gt;E4\" style=\"stroke: #383838; stroke-width: 1.0;\"/><polygon fill=\"none\" points=\"455.78,162.78,444.15,145.06,464.29,151.66,455.78,162.78\" style=\"stroke: #383838; stroke-width: 1.0;\"/></a><!--MD5=[1adbf2899f83a5c5a1cbaea50ae4bc10]\n",
       "@startuml\r\n",
       " skinparam monochrome true\r\n",
       "skinparam classbackgroundcolor white\r\n",
       "skinparam shadowing false\r\n",
       "skinparam wrapWidth 300\r\n",
       "hide circle\r\n",
       "\r\n",
       "package \"ImportTest\" as E1  [[psysml:789e6656-6985-4918-a680-b12b42056b24 ]]  {\r\n",
       "package \"Pkg1\" as E2  [[psysml:9ed5d6a5-603c-4e6a-bfc8-60e703dcd2fe ]]  {\r\n",
       "comp usage \"p11: P211 \" as E3  <<(T,blue) part>> [[psysml:380b438c-f0d0-40f2-a10d-c83a46ac62de ]] {\r\n",
       "}\r\n",
       "comp def \"P12\" as E4  <<(T,blue) part  def>> [[psysml:4c18927e-9f3a-4bbe-ae04-0ff2b7ea0a78 ]] {\r\n",
       "}\r\n",
       "}\r\n",
       "package \"Pkg2\" as E5  [[psysml:63b0367b-32f1-46aa-9fe1-f934424c590d ]]  {\r\n",
       "package \"Pkg21\" as E6  [[psysml:98b17091-6ea5-4037-8451-bfddc724f9d0 ]]  {\r\n",
       "package \"Pkg211\" as E7  [[psysml:45f4d7ec-8fdd-4896-89d5-a877e9eb4cf9 ]]  {\r\n",
       "comp def \"P211\" as E8  <<(T,blue) part  def>> [[psysml:b4068f35-75bf-4c63-8263-9508faa965fc ]] {\r\n",
       "}\r\n",
       "}\r\n",
       "}\r\n",
       "}\r\n",
       "}\r\n",
       "E2 ..> E8 [[psysml:86dbe04c-b04a-4ec6-a347-5e4f000abe00 ]] : <<import>>\r\n",
       "E2 ..> E6 [[psysml:b4797686-9eb8-4e8e-a70f-411a8a1a5c6c ]] : <<import>>*\r\n",
       "E2 ..> E7 [[psysml:c873f416-4fb0-4522-b4d5-2fc0ff0d8008 ]] : <<import>>*::**\r\n",
       "E3 - -:|> E8 [[psysml:bb41b158-76b0-47f5-886e-e2f97e00e6aa ]] \r\n",
       "E5 ..> E2 [[psysml:cb98c000-d2e0-4059-b3dc-41ff4d975042 ]] : <<import>>*\r\n",
       "E8 - -|> E4 [[psysml:ff856c1d-ebaf-4dbc-8ba8-d8c60136e299 ]] \r\n",
       "@enduml\r\n",
       "\n",
       "PlantUML version 1.2020.13(Sat Jun 13 12:26:38 UTC 2020)\n",
       "(EPL source distribution)\n",
       "Java Runtime: OpenJDK Runtime Environment\n",
       "JVM: OpenJDK 64-Bit Server VM\n",
       "Default Encoding: UTF-8\n",
       "Language: en\n",
       "Country: null\n",
       "--></g></svg>"
      ]
     },
     "execution_count": 8,
     "metadata": {},
     "output_type": "execute_result"
    }
   ],
   "source": [
    "%viz --style=\"COMPTREE\" --view=\"MIXED\" \"ImportTest\""
   ]
  },
  {
   "cell_type": "code",
   "execution_count": 9,
   "id": "c5bae7f3",
   "metadata": {
    "execution": {
     "iopub.execute_input": "2022-08-19T08:17:19.291478Z",
     "iopub.status.busy": "2022-08-19T08:17:19.290941Z",
     "iopub.status.idle": "2022-08-19T08:17:19.339154Z",
     "shell.execute_reply": "2022-08-19T08:17:19.338718Z"
    }
   },
   "outputs": [
    {
     "data": {
      "image/svg+xml": [
       "<?xml version=\"1.0\" encoding=\"UTF-8\" standalone=\"no\"?><svg xmlns=\"http://www.w3.org/2000/svg\" xmlns:xlink=\"http://www.w3.org/1999/xlink\" contentScriptType=\"application/ecmascript\" contentStyleType=\"text/css\" height=\"590px\" preserveAspectRatio=\"none\" style=\"width:522px;height:590px;\" version=\"1.1\" viewBox=\"0 0 522 590\" width=\"522px\" zoomAndPan=\"magnify\"><defs/><g><!--MD5=[fbc87193dbaf4d95561dea2c320d4a47]\n",
       "cluster E1--><a href=\"psysml:789e6656-6985-4918-a680-b12b42056b24\" target=\"_top\" title=\"psysml:789e6656-6985-4918-a680-b12b42056b24\" xlink:actuate=\"onRequest\" xlink:href=\"psysml:789e6656-6985-4918-a680-b12b42056b24\" xlink:show=\"new\" xlink:title=\"psysml:789e6656-6985-4918-a680-b12b42056b24\" xlink:type=\"simple\"><polygon fill=\"#FFFFFF\" points=\"16,6,97,6,104,28.2969,500,28.2969,500,578,16,578,16,6\" style=\"stroke: #000000; stroke-width: 1.5;\"/><line style=\"stroke: #000000; stroke-width: 1.5;\" x1=\"16\" x2=\"104\" y1=\"28.2969\" y2=\"28.2969\"/><text fill=\"#000000\" font-family=\"sans-serif\" font-size=\"14\" font-weight=\"bold\" lengthAdjust=\"spacingAndGlyphs\" textLength=\"75\" x=\"20\" y=\"20.9951\">ImportTest</text></a><!--MD5=[e4f7fae6ed58524ba242bb0b0d3be6b7]\n",
       "cluster E2--><a href=\"psysml:9ed5d6a5-603c-4e6a-bfc8-60e703dcd2fe\" target=\"_top\" title=\"psysml:9ed5d6a5-603c-4e6a-bfc8-60e703dcd2fe\" xlink:actuate=\"onRequest\" xlink:href=\"psysml:9ed5d6a5-603c-4e6a-bfc8-60e703dcd2fe\" xlink:show=\"new\" xlink:title=\"psysml:9ed5d6a5-603c-4e6a-bfc8-60e703dcd2fe\" xlink:type=\"simple\"><polygon fill=\"#FFFFFF\" points=\"222,57,263,57,270,79.2969,468,79.2969,468,170,222,170,222,57\" style=\"stroke: #000000; stroke-width: 1.5;\"/><line style=\"stroke: #000000; stroke-width: 1.5;\" x1=\"222\" x2=\"270\" y1=\"79.2969\" y2=\"79.2969\"/><text fill=\"#000000\" font-family=\"sans-serif\" font-size=\"14\" font-weight=\"bold\" lengthAdjust=\"spacingAndGlyphs\" textLength=\"35\" x=\"226\" y=\"71.9951\">Pkg1</text></a><!--MD5=[de5ec2e2e8f62f467e546659f5068c88]\n",
       "cluster E5--><a href=\"psysml:63b0367b-32f1-46aa-9fe1-f934424c590d\" target=\"_top\" title=\"psysml:63b0367b-32f1-46aa-9fe1-f934424c590d\" xlink:actuate=\"onRequest\" xlink:href=\"psysml:63b0367b-32f1-46aa-9fe1-f934424c590d\" xlink:show=\"new\" xlink:title=\"psysml:63b0367b-32f1-46aa-9fe1-f934424c590d\" xlink:type=\"simple\"><polygon fill=\"#FFFFFF\" points=\"121,235,162,235,169,257.2969,434,257.2969,434,546,121,546,121,235\" style=\"stroke: #000000; stroke-width: 1.5;\"/><line style=\"stroke: #000000; stroke-width: 1.5;\" x1=\"121\" x2=\"169\" y1=\"257.2969\" y2=\"257.2969\"/><text fill=\"#000000\" font-family=\"sans-serif\" font-size=\"14\" font-weight=\"bold\" lengthAdjust=\"spacingAndGlyphs\" textLength=\"35\" x=\"125\" y=\"249.9951\">Pkg2</text></a><!--MD5=[14e3b0961a2654348d326746436168a1]\n",
       "cluster E6--><a href=\"psysml:98b17091-6ea5-4037-8451-bfddc724f9d0\" target=\"_top\" title=\"psysml:98b17091-6ea5-4037-8451-bfddc724f9d0\" xlink:actuate=\"onRequest\" xlink:href=\"psysml:98b17091-6ea5-4037-8451-bfddc724f9d0\" xlink:show=\"new\" xlink:title=\"psysml:98b17091-6ea5-4037-8451-bfddc724f9d0\" xlink:type=\"simple\"><polygon fill=\"#FFFFFF\" points=\"161,294,211,294,218,316.2969,386,316.2969,386,506,161,506,161,294\" style=\"stroke: #000000; stroke-width: 1.5;\"/><line style=\"stroke: #000000; stroke-width: 1.5;\" x1=\"161\" x2=\"218\" y1=\"316.2969\" y2=\"316.2969\"/><text fill=\"#000000\" font-family=\"sans-serif\" font-size=\"14\" font-weight=\"bold\" lengthAdjust=\"spacingAndGlyphs\" textLength=\"44\" x=\"165\" y=\"308.9951\">Pkg21</text></a><!--MD5=[168fadf3d0c3fd93dd5d6da1b1d7ab76]\n",
       "cluster E7--><a href=\"psysml:45f4d7ec-8fdd-4896-89d5-a877e9eb4cf9\" target=\"_top\" title=\"psysml:45f4d7ec-8fdd-4896-89d5-a877e9eb4cf9\" xlink:actuate=\"onRequest\" xlink:href=\"psysml:45f4d7ec-8fdd-4896-89d5-a877e9eb4cf9\" xlink:show=\"new\" xlink:title=\"psysml:45f4d7ec-8fdd-4896-89d5-a877e9eb4cf9\" xlink:type=\"simple\"><polygon fill=\"#FFFFFF\" points=\"209,353,268,353,275,375.2969,346,375.2969,346,466,209,466,209,353\" style=\"stroke: #000000; stroke-width: 1.5;\"/><line style=\"stroke: #000000; stroke-width: 1.5;\" x1=\"209\" x2=\"275\" y1=\"375.2969\" y2=\"375.2969\"/><text fill=\"#000000\" font-family=\"sans-serif\" font-size=\"14\" font-weight=\"bold\" lengthAdjust=\"spacingAndGlyphs\" textLength=\"53\" x=\"213\" y=\"367.9951\">Pkg211</text></a><!--MD5=[09b614a08d8cba4a07c9adeb5e0fee81]\n",
       "class E3--><a href=\"psysml:380b438c-f0d0-40f2-a10d-c83a46ac62de\" target=\"_top\" title=\"psysml:380b438c-f0d0-40f2-a10d-c83a46ac62de\" xlink:actuate=\"onRequest\" xlink:href=\"psysml:380b438c-f0d0-40f2-a10d-c83a46ac62de\" xlink:show=\"new\" xlink:title=\"psysml:380b438c-f0d0-40f2-a10d-c83a46ac62de\" xlink:type=\"simple\"><rect fill=\"#FFFFFF\" height=\"45.9375\" id=\"E3\" rx=\"10\" ry=\"10\" style=\"stroke: #383838; stroke-width: 1.5;\" width=\"74\" x=\"265\" y=\"100\"/><text fill=\"#000000\" font-family=\"sans-serif\" font-size=\"12\" font-style=\"italic\" lengthAdjust=\"spacingAndGlyphs\" textLength=\"40\" x=\"282\" y=\"116.1387\">«part»</text><text fill=\"#000000\" font-family=\"sans-serif\" font-size=\"12\" lengthAdjust=\"spacingAndGlyphs\" textLength=\"64\" x=\"268\" y=\"130.1074\">p11: P211</text><line style=\"stroke: #383838; stroke-width: 1.5;\" x1=\"266\" x2=\"338\" y1=\"137.9375\" y2=\"137.9375\"/></a><!--MD5=[ebbe1d658d1005bcc118a6aa81145e00]\n",
       "class E4--><a href=\"psysml:4c18927e-9f3a-4bbe-ae04-0ff2b7ea0a78\" target=\"_top\" title=\"psysml:4c18927e-9f3a-4bbe-ae04-0ff2b7ea0a78\" xlink:actuate=\"onRequest\" xlink:href=\"psysml:4c18927e-9f3a-4bbe-ae04-0ff2b7ea0a78\" xlink:show=\"new\" xlink:title=\"psysml:4c18927e-9f3a-4bbe-ae04-0ff2b7ea0a78\" xlink:type=\"simple\"><rect fill=\"#FFFFFF\" height=\"45.9375\" id=\"E4\" style=\"stroke: #383838; stroke-width: 1.5;\" width=\"70\" x=\"374\" y=\"100\"/><text fill=\"#000000\" font-family=\"sans-serif\" font-size=\"12\" font-style=\"italic\" lengthAdjust=\"spacingAndGlyphs\" textLength=\"68\" x=\"375\" y=\"116.1387\">«part  def»</text><text fill=\"#000000\" font-family=\"sans-serif\" font-size=\"12\" lengthAdjust=\"spacingAndGlyphs\" textLength=\"24\" x=\"397\" y=\"130.1074\">P12</text><line style=\"stroke: #383838; stroke-width: 1.5;\" x1=\"375\" x2=\"443\" y1=\"137.9375\" y2=\"137.9375\"/></a><!--MD5=[b9389687b975829384b498ac4b7476b2]\n",
       "class E8--><a href=\"psysml:b4068f35-75bf-4c63-8263-9508faa965fc\" target=\"_top\" title=\"psysml:b4068f35-75bf-4c63-8263-9508faa965fc\" xlink:actuate=\"onRequest\" xlink:href=\"psysml:b4068f35-75bf-4c63-8263-9508faa965fc\" xlink:show=\"new\" xlink:title=\"psysml:b4068f35-75bf-4c63-8263-9508faa965fc\" xlink:type=\"simple\"><rect fill=\"#FFFFFF\" height=\"45.9375\" id=\"E8\" style=\"stroke: #383838; stroke-width: 1.5;\" width=\"70\" x=\"252\" y=\"396\"/><text fill=\"#000000\" font-family=\"sans-serif\" font-size=\"12\" font-style=\"italic\" lengthAdjust=\"spacingAndGlyphs\" textLength=\"68\" x=\"253\" y=\"412.1387\">«part  def»</text><text fill=\"#000000\" font-family=\"sans-serif\" font-size=\"12\" lengthAdjust=\"spacingAndGlyphs\" textLength=\"32\" x=\"271\" y=\"426.1074\">P211</text><line style=\"stroke: #383838; stroke-width: 1.5;\" x1=\"253\" x2=\"321\" y1=\"433.9375\" y2=\"433.9375\"/></a><!--MD5=[b0060bfdb0500b904584095522b4da3c]\n",
       "link E2 to E8--><a href=\"psysml:86dbe04c-b04a-4ec6-a347-5e4f000abe00\" target=\"_top\" title=\"psysml:86dbe04c-b04a-4ec6-a347-5e4f000abe00\" xlink:actuate=\"onRequest\" xlink:href=\"psysml:86dbe04c-b04a-4ec6-a347-5e4f000abe00\" xlink:show=\"new\" xlink:title=\"psysml:86dbe04c-b04a-4ec6-a347-5e4f000abe00\" xlink:type=\"simple\"><path d=\"M244.141,170.1434 C244.2057,170.3545 244.27,170.5643 244.3339,170.7729 C244.4617,171.1899 244.5879,171.6018 244.7124,172.0081 C245.2104,173.633 245.6806,175.1677 246.1144,176.5831 C247.8494,182.245 249,186 249,186 C249,186 264,194 264,194 C264,194 278.03,330.67 284.18,390.5 \" fill=\"none\" id=\"E2-&gt;E8\" style=\"stroke: #383838; stroke-width: 1.0; stroke-dasharray: 7.0,7.0;\"/><polygon fill=\"#383838\" points=\"284.71,395.7,287.7627,386.3362,284.1955,390.7265,279.8051,387.1594,284.71,395.7\" style=\"stroke: #383838; stroke-width: 1.0;\"/><text fill=\"#000000\" font-family=\"sans-serif\" font-size=\"13\" lengthAdjust=\"spacingAndGlyphs\" textLength=\"58\" x=\"266\" y=\"207.0669\">«import»</text></a><!--MD5=[e3e28c1befcf002155aa15e1416b4315]\n",
       "link E2 to E6--><a href=\"psysml:b4797686-9eb8-4e8e-a70f-411a8a1a5c6c\" target=\"_top\" title=\"psysml:b4797686-9eb8-4e8e-a70f-411a8a1a5c6c\" xlink:actuate=\"onRequest\" xlink:href=\"psysml:b4797686-9eb8-4e8e-a70f-411a8a1a5c6c\" xlink:show=\"new\" xlink:title=\"psysml:b4797686-9eb8-4e8e-a70f-411a8a1a5c6c\" xlink:type=\"simple\"><path d=\"M221.8378,128.263 C221.7063,128.3317 221.5734,128.4012 221.4391,128.4713 C220.902,128.752 220.3429,129.044 219.7629,129.3471 C218.6029,129.9531 217.359,130.603 216.0391,131.2926 C213.3993,132.6717 210.4553,134.2098 207.2695,135.8741 C194.5266,142.5313 177.9156,151.2088 161.4313,159.82 C128.4625,177.0425 96,194 96,194 C96,194 96,211 96,211 C96,211 113.685,261.145 131.6463,312.0738 C140.6269,337.5381 149.6766,363.1984 156.6192,382.8845 C157.4871,385.3453 158.322,387.7127 159.1197,389.9747 C159.5186,391.1057 159.9081,392.2104 160.2879,393.2872 C160.4778,393.8256 160.6652,394.357 160.8501,394.8813 \" fill=\"none\" id=\"E2-&gt;E6\" style=\"stroke: #383838; stroke-width: 1.0; stroke-dasharray: 7.0,7.0;\"/><polygon fill=\"#383838\" points=\"160.8501,394.8813,161.6291,385.0633,159.1871,390.166,154.0845,387.724,160.8501,394.8813\" style=\"stroke: #383838; stroke-width: 1.0;\"/><text fill=\"#000000\" font-family=\"sans-serif\" font-size=\"13\" lengthAdjust=\"spacingAndGlyphs\" textLength=\"65\" x=\"97\" y=\"207.0669\">«import»*</text></a><!--MD5=[e3d2a08a9c9236652057e8ed0cbc9b62]\n",
       "link E2 to E7--><a href=\"psysml:c873f416-4fb0-4522-b4d5-2fc0ff0d8008\" target=\"_top\" title=\"psysml:c873f416-4fb0-4522-b4d5-2fc0ff0d8008\" xlink:actuate=\"onRequest\" xlink:href=\"psysml:c873f416-4fb0-4522-b4d5-2fc0ff0d8008\" xlink:show=\"new\" xlink:title=\"psysml:c873f416-4fb0-4522-b4d5-2fc0ff0d8008\" xlink:type=\"simple\"><path d=\"M221.7702,133.7649 C221.6886,133.8616 221.6067,133.9589 221.5242,134.0567 C221.3593,134.2523 221.1926,134.4501 221.0241,134.65 C220.6871,135.0498 220.3431,135.458 219.9923,135.8741 C214.3809,142.5313 207.0669,151.2088 199.8087,159.82 C185.2925,177.0425 171,194 171,194 C171,194 171,211 171,211 C171,211 213,219 213,219 C213,219 213.97,267.2075 214.955,316.1688 C215.2013,328.4091 215.4484,340.6965 215.6816,352.2896 \" fill=\"none\" id=\"E2-&gt;E7\" style=\"stroke: #383838; stroke-width: 1.0; stroke-dasharray: 7.0,7.0;\"/><polygon fill=\"#383838\" points=\"215.6816,352.2896,219.4998,343.2109,215.5811,347.2906,211.5014,343.3718,215.6816,352.2896\" style=\"stroke: #383838; stroke-width: 1.0;\"/><text fill=\"#000000\" font-family=\"sans-serif\" font-size=\"13\" lengthAdjust=\"spacingAndGlyphs\" textLength=\"87\" x=\"172\" y=\"207.0669\">«import»*::**</text></a><!--MD5=[ca5a752d6098d8a44b3f88316e7452d1]\n",
       "link E3 to E8--><a href=\"psysml:bb41b158-76b0-47f5-886e-e2f97e00e6aa\" target=\"_top\" title=\"psysml:bb41b158-76b0-47f5-886e-e2f97e00e6aa\" xlink:actuate=\"onRequest\" xlink:href=\"psysml:bb41b158-76b0-47f5-886e-e2f97e00e6aa\" xlink:show=\"new\" xlink:title=\"psysml:bb41b158-76b0-47f5-886e-e2f97e00e6aa\" xlink:type=\"simple\"><path d=\"M321.62,146.15 C339.78,166.66 364,194 364,194 C364,194 364,211 364,211 C364,211 326,219 326,219 C326,219 306.63,317.82 295.19,376.19 \" fill=\"none\" id=\"E3-&gt;E8\" style=\"stroke: #383838; stroke-width: 1.0;\"/><polygon fill=\"#FFFFFF\" points=\"291.32,395.94,288.1009,375.9491,301.8401,378.6389,291.32,395.94\" style=\"stroke: #383838; stroke-width: 1.0;\"/><ellipse cx=\"291.1588\" cy=\"370.7395\" fill=\"#383838\" rx=\"2\" ry=\"2\" style=\"stroke: #383838; stroke-width: 1.0;\"/><ellipse cx=\"300.9725\" cy=\"372.6608\" fill=\"#383838\" rx=\"2\" ry=\"2\" style=\"stroke: #383838; stroke-width: 1.0;\"/></a><!--MD5=[15ebcb19ae302d9b601edb458606d402]\n",
       "link E5 to E2--><a href=\"psysml:cb98c000-d2e0-4059-b3dc-41ff4d975042\" target=\"_top\" title=\"psysml:cb98c000-d2e0-4059-b3dc-41ff4d975042\" xlink:actuate=\"onRequest\" xlink:href=\"psysml:cb98c000-d2e0-4059-b3dc-41ff4d975042\" xlink:show=\"new\" xlink:title=\"psysml:cb98c000-d2e0-4059-b3dc-41ff4d975042\" xlink:type=\"simple\"><path d=\"M350.0108,234.9703 C349.8689,234.6284 349.7275,234.288 349.5868,233.9491 C349.3055,233.2714 349.0266,232.5998 348.7504,231.9345 C348.1979,230.6039 347.6559,229.2986 347.1252,228.0202 C338.6325,207.5656 333,194 333,194 C333,194 249,186 249,186 C249,186 247.8494,182.245 246.1144,176.5831 C245.6806,175.1677 245.2104,173.633 244.7124,172.0081 C244.5879,171.6018 244.4617,171.1899 244.3339,170.7729 C244.27,170.5643 244.2057,170.3545 244.141,170.1434 \" fill=\"none\" id=\"E5-&gt;E2\" style=\"stroke: #383838; stroke-width: 1.0; stroke-dasharray: 7.0,7.0;\"/><polygon fill=\"#383838\" points=\"244.141,170.1434,242.9535,179.9204,245.606,174.924,250.6024,177.5765,244.141,170.1434\" style=\"stroke: #383838; stroke-width: 1.0;\"/><text fill=\"#000000\" font-family=\"sans-serif\" font-size=\"13\" lengthAdjust=\"spacingAndGlyphs\" textLength=\"65\" x=\"340\" y=\"207.0669\">«import»*</text></a><!--MD5=[d7bb3fb34add81b710575eb3799fa2ad]\n",
       "link E8 to E4--><a href=\"psysml:ff856c1d-ebaf-4dbc-8ba8-d8c60136e299\" target=\"_top\" title=\"psysml:ff856c1d-ebaf-4dbc-8ba8-d8c60136e299\" xlink:actuate=\"onRequest\" xlink:href=\"psysml:ff856c1d-ebaf-4dbc-8ba8-d8c60136e299\" xlink:show=\"new\" xlink:title=\"psysml:ff856c1d-ebaf-4dbc-8ba8-d8c60136e299\" xlink:type=\"simple\"><path d=\"M291.32,395.94 C301.48,344.13 326,219 326,219 C326,219 478,211 478,211 C478,211 478,194 478,194 C478,194 461.71,177.48 444.97,160.49 \" fill=\"none\" id=\"E8-&gt;E4\" style=\"stroke: #383838; stroke-width: 1.0;\"/><polygon fill=\"none\" points=\"439.89,165.31,430.83,146.15,449.86,155.48,439.89,165.31\" style=\"stroke: #383838; stroke-width: 1.0;\"/></a><!--MD5=[5d2c0ea42b617a2ba87af3556f4878dc]\n",
       "@startuml\r\n",
       "skinparam linetype polyline\r\n",
       "skinparam monochrome true\r\n",
       "skinparam classbackgroundcolor white\r\n",
       "skinparam shadowing false\r\n",
       "skinparam wrapWidth 300\r\n",
       "hide circle\r\n",
       "\r\n",
       "package \"ImportTest\" as E1  [[psysml:789e6656-6985-4918-a680-b12b42056b24 ]]  {\r\n",
       "package \"Pkg1\" as E2  [[psysml:9ed5d6a5-603c-4e6a-bfc8-60e703dcd2fe ]]  {\r\n",
       "comp usage \"p11: P211 \" as E3  <<(T,blue) part>> [[psysml:380b438c-f0d0-40f2-a10d-c83a46ac62de ]] {\r\n",
       "}\r\n",
       "comp def \"P12\" as E4  <<(T,blue) part  def>> [[psysml:4c18927e-9f3a-4bbe-ae04-0ff2b7ea0a78 ]] {\r\n",
       "}\r\n",
       "}\r\n",
       "package \"Pkg2\" as E5  [[psysml:63b0367b-32f1-46aa-9fe1-f934424c590d ]]  {\r\n",
       "package \"Pkg21\" as E6  [[psysml:98b17091-6ea5-4037-8451-bfddc724f9d0 ]]  {\r\n",
       "package \"Pkg211\" as E7  [[psysml:45f4d7ec-8fdd-4896-89d5-a877e9eb4cf9 ]]  {\r\n",
       "comp def \"P211\" as E8  <<(T,blue) part  def>> [[psysml:b4068f35-75bf-4c63-8263-9508faa965fc ]] {\r\n",
       "}\r\n",
       "}\r\n",
       "}\r\n",
       "}\r\n",
       "}\r\n",
       "E2 ..> E8 [[psysml:86dbe04c-b04a-4ec6-a347-5e4f000abe00 ]] : <<import>>\r\n",
       "E2 ..> E6 [[psysml:b4797686-9eb8-4e8e-a70f-411a8a1a5c6c ]] : <<import>>*\r\n",
       "E2 ..> E7 [[psysml:c873f416-4fb0-4522-b4d5-2fc0ff0d8008 ]] : <<import>>*::**\r\n",
       "E3 - -:|> E8 [[psysml:bb41b158-76b0-47f5-886e-e2f97e00e6aa ]] \r\n",
       "E5 ..> E2 [[psysml:cb98c000-d2e0-4059-b3dc-41ff4d975042 ]] : <<import>>*\r\n",
       "E8 - -|> E4 [[psysml:ff856c1d-ebaf-4dbc-8ba8-d8c60136e299 ]] \r\n",
       "@enduml\r\n",
       "\n",
       "PlantUML version 1.2020.13(Sat Jun 13 12:26:38 UTC 2020)\n",
       "(EPL source distribution)\n",
       "Java Runtime: OpenJDK Runtime Environment\n",
       "JVM: OpenJDK 64-Bit Server VM\n",
       "Default Encoding: UTF-8\n",
       "Language: en\n",
       "Country: null\n",
       "--></g></svg>"
      ]
     },
     "execution_count": 9,
     "metadata": {},
     "output_type": "execute_result"
    }
   ],
   "source": [
    "%viz --style=\"POLYLINE\" --view=\"Default\" \"ImportTest\""
   ]
  },
  {
   "cell_type": "code",
   "execution_count": 10,
   "id": "61bae1f1",
   "metadata": {
    "execution": {
     "iopub.execute_input": "2022-08-19T08:17:19.388828Z",
     "iopub.status.busy": "2022-08-19T08:17:19.388327Z",
     "iopub.status.idle": "2022-08-19T08:17:19.442253Z",
     "shell.execute_reply": "2022-08-19T08:17:19.441694Z"
    }
   },
   "outputs": [
    {
     "data": {
      "image/svg+xml": [
       "<?xml version=\"1.0\" encoding=\"UTF-8\" standalone=\"no\"?><svg xmlns=\"http://www.w3.org/2000/svg\" xmlns:xlink=\"http://www.w3.org/1999/xlink\" contentScriptType=\"application/ecmascript\" contentStyleType=\"text/css\" height=\"590px\" preserveAspectRatio=\"none\" style=\"width:522px;height:590px;\" version=\"1.1\" viewBox=\"0 0 522 590\" width=\"522px\" zoomAndPan=\"magnify\"><defs/><g><!--MD5=[fbc87193dbaf4d95561dea2c320d4a47]\n",
       "cluster E1--><a href=\"psysml:789e6656-6985-4918-a680-b12b42056b24\" target=\"_top\" title=\"psysml:789e6656-6985-4918-a680-b12b42056b24\" xlink:actuate=\"onRequest\" xlink:href=\"psysml:789e6656-6985-4918-a680-b12b42056b24\" xlink:show=\"new\" xlink:title=\"psysml:789e6656-6985-4918-a680-b12b42056b24\" xlink:type=\"simple\"><polygon fill=\"#FFFFFF\" points=\"16,6,97,6,104,28.2969,500,28.2969,500,578,16,578,16,6\" style=\"stroke: #000000; stroke-width: 1.5;\"/><line style=\"stroke: #000000; stroke-width: 1.5;\" x1=\"16\" x2=\"104\" y1=\"28.2969\" y2=\"28.2969\"/><text fill=\"#000000\" font-family=\"sans-serif\" font-size=\"14\" font-weight=\"bold\" lengthAdjust=\"spacingAndGlyphs\" textLength=\"75\" x=\"20\" y=\"20.9951\">ImportTest</text></a><!--MD5=[e4f7fae6ed58524ba242bb0b0d3be6b7]\n",
       "cluster E2--><a href=\"psysml:9ed5d6a5-603c-4e6a-bfc8-60e703dcd2fe\" target=\"_top\" title=\"psysml:9ed5d6a5-603c-4e6a-bfc8-60e703dcd2fe\" xlink:actuate=\"onRequest\" xlink:href=\"psysml:9ed5d6a5-603c-4e6a-bfc8-60e703dcd2fe\" xlink:show=\"new\" xlink:title=\"psysml:9ed5d6a5-603c-4e6a-bfc8-60e703dcd2fe\" xlink:type=\"simple\"><polygon fill=\"#FFFFFF\" points=\"222,57,263,57,270,79.2969,468,79.2969,468,170,222,170,222,57\" style=\"stroke: #000000; stroke-width: 1.5;\"/><line style=\"stroke: #000000; stroke-width: 1.5;\" x1=\"222\" x2=\"270\" y1=\"79.2969\" y2=\"79.2969\"/><text fill=\"#000000\" font-family=\"sans-serif\" font-size=\"14\" font-weight=\"bold\" lengthAdjust=\"spacingAndGlyphs\" textLength=\"35\" x=\"226\" y=\"71.9951\">Pkg1</text></a><!--MD5=[de5ec2e2e8f62f467e546659f5068c88]\n",
       "cluster E5--><a href=\"psysml:63b0367b-32f1-46aa-9fe1-f934424c590d\" target=\"_top\" title=\"psysml:63b0367b-32f1-46aa-9fe1-f934424c590d\" xlink:actuate=\"onRequest\" xlink:href=\"psysml:63b0367b-32f1-46aa-9fe1-f934424c590d\" xlink:show=\"new\" xlink:title=\"psysml:63b0367b-32f1-46aa-9fe1-f934424c590d\" xlink:type=\"simple\"><polygon fill=\"#FFFFFF\" points=\"121,235,162,235,169,257.2969,434,257.2969,434,546,121,546,121,235\" style=\"stroke: #000000; stroke-width: 1.5;\"/><line style=\"stroke: #000000; stroke-width: 1.5;\" x1=\"121\" x2=\"169\" y1=\"257.2969\" y2=\"257.2969\"/><text fill=\"#000000\" font-family=\"sans-serif\" font-size=\"14\" font-weight=\"bold\" lengthAdjust=\"spacingAndGlyphs\" textLength=\"35\" x=\"125\" y=\"249.9951\">Pkg2</text></a><!--MD5=[14e3b0961a2654348d326746436168a1]\n",
       "cluster E6--><a href=\"psysml:98b17091-6ea5-4037-8451-bfddc724f9d0\" target=\"_top\" title=\"psysml:98b17091-6ea5-4037-8451-bfddc724f9d0\" xlink:actuate=\"onRequest\" xlink:href=\"psysml:98b17091-6ea5-4037-8451-bfddc724f9d0\" xlink:show=\"new\" xlink:title=\"psysml:98b17091-6ea5-4037-8451-bfddc724f9d0\" xlink:type=\"simple\"><polygon fill=\"#FFFFFF\" points=\"161,294,211,294,218,316.2969,386,316.2969,386,506,161,506,161,294\" style=\"stroke: #000000; stroke-width: 1.5;\"/><line style=\"stroke: #000000; stroke-width: 1.5;\" x1=\"161\" x2=\"218\" y1=\"316.2969\" y2=\"316.2969\"/><text fill=\"#000000\" font-family=\"sans-serif\" font-size=\"14\" font-weight=\"bold\" lengthAdjust=\"spacingAndGlyphs\" textLength=\"44\" x=\"165\" y=\"308.9951\">Pkg21</text></a><!--MD5=[168fadf3d0c3fd93dd5d6da1b1d7ab76]\n",
       "cluster E7--><a href=\"psysml:45f4d7ec-8fdd-4896-89d5-a877e9eb4cf9\" target=\"_top\" title=\"psysml:45f4d7ec-8fdd-4896-89d5-a877e9eb4cf9\" xlink:actuate=\"onRequest\" xlink:href=\"psysml:45f4d7ec-8fdd-4896-89d5-a877e9eb4cf9\" xlink:show=\"new\" xlink:title=\"psysml:45f4d7ec-8fdd-4896-89d5-a877e9eb4cf9\" xlink:type=\"simple\"><polygon fill=\"#FFFFFF\" points=\"209,353,268,353,275,375.2969,346,375.2969,346,466,209,466,209,353\" style=\"stroke: #000000; stroke-width: 1.5;\"/><line style=\"stroke: #000000; stroke-width: 1.5;\" x1=\"209\" x2=\"275\" y1=\"375.2969\" y2=\"375.2969\"/><text fill=\"#000000\" font-family=\"sans-serif\" font-size=\"14\" font-weight=\"bold\" lengthAdjust=\"spacingAndGlyphs\" textLength=\"53\" x=\"213\" y=\"367.9951\">Pkg211</text></a><!--MD5=[09b614a08d8cba4a07c9adeb5e0fee81]\n",
       "class E3--><a href=\"psysml:380b438c-f0d0-40f2-a10d-c83a46ac62de\" target=\"_top\" title=\"psysml:380b438c-f0d0-40f2-a10d-c83a46ac62de\" xlink:actuate=\"onRequest\" xlink:href=\"psysml:380b438c-f0d0-40f2-a10d-c83a46ac62de\" xlink:show=\"new\" xlink:title=\"psysml:380b438c-f0d0-40f2-a10d-c83a46ac62de\" xlink:type=\"simple\"><rect fill=\"#FFFFFF\" height=\"45.9375\" id=\"E3\" rx=\"10\" ry=\"10\" style=\"stroke: #383838; stroke-width: 1.5;\" width=\"74\" x=\"265\" y=\"100\"/><text fill=\"#000000\" font-family=\"sans-serif\" font-size=\"12\" font-style=\"italic\" lengthAdjust=\"spacingAndGlyphs\" textLength=\"40\" x=\"282\" y=\"116.1387\">«part»</text><text fill=\"#000000\" font-family=\"sans-serif\" font-size=\"12\" lengthAdjust=\"spacingAndGlyphs\" textLength=\"64\" x=\"268\" y=\"130.1074\">p11: P211</text><line style=\"stroke: #383838; stroke-width: 1.5;\" x1=\"266\" x2=\"338\" y1=\"137.9375\" y2=\"137.9375\"/></a><!--MD5=[ebbe1d658d1005bcc118a6aa81145e00]\n",
       "class E4--><a href=\"psysml:4c18927e-9f3a-4bbe-ae04-0ff2b7ea0a78\" target=\"_top\" title=\"psysml:4c18927e-9f3a-4bbe-ae04-0ff2b7ea0a78\" xlink:actuate=\"onRequest\" xlink:href=\"psysml:4c18927e-9f3a-4bbe-ae04-0ff2b7ea0a78\" xlink:show=\"new\" xlink:title=\"psysml:4c18927e-9f3a-4bbe-ae04-0ff2b7ea0a78\" xlink:type=\"simple\"><rect fill=\"#FFFFFF\" height=\"45.9375\" id=\"E4\" style=\"stroke: #383838; stroke-width: 1.5;\" width=\"70\" x=\"374\" y=\"100\"/><text fill=\"#000000\" font-family=\"sans-serif\" font-size=\"12\" font-style=\"italic\" lengthAdjust=\"spacingAndGlyphs\" textLength=\"68\" x=\"375\" y=\"116.1387\">«part  def»</text><text fill=\"#000000\" font-family=\"sans-serif\" font-size=\"12\" lengthAdjust=\"spacingAndGlyphs\" textLength=\"24\" x=\"397\" y=\"130.1074\">P12</text><line style=\"stroke: #383838; stroke-width: 1.5;\" x1=\"375\" x2=\"443\" y1=\"137.9375\" y2=\"137.9375\"/></a><!--MD5=[b9389687b975829384b498ac4b7476b2]\n",
       "class E8--><a href=\"psysml:b4068f35-75bf-4c63-8263-9508faa965fc\" target=\"_top\" title=\"psysml:b4068f35-75bf-4c63-8263-9508faa965fc\" xlink:actuate=\"onRequest\" xlink:href=\"psysml:b4068f35-75bf-4c63-8263-9508faa965fc\" xlink:show=\"new\" xlink:title=\"psysml:b4068f35-75bf-4c63-8263-9508faa965fc\" xlink:type=\"simple\"><rect fill=\"#FFFFFF\" height=\"45.9375\" id=\"E8\" style=\"stroke: #383838; stroke-width: 1.5;\" width=\"70\" x=\"252\" y=\"396\"/><text fill=\"#000000\" font-family=\"sans-serif\" font-size=\"12\" font-style=\"italic\" lengthAdjust=\"spacingAndGlyphs\" textLength=\"68\" x=\"253\" y=\"412.1387\">«part  def»</text><text fill=\"#000000\" font-family=\"sans-serif\" font-size=\"12\" lengthAdjust=\"spacingAndGlyphs\" textLength=\"32\" x=\"271\" y=\"426.1074\">P211</text><line style=\"stroke: #383838; stroke-width: 1.5;\" x1=\"253\" x2=\"321\" y1=\"433.9375\" y2=\"433.9375\"/></a><!--MD5=[b0060bfdb0500b904584095522b4da3c]\n",
       "link E2 to E8--><a href=\"psysml:86dbe04c-b04a-4ec6-a347-5e4f000abe00\" target=\"_top\" title=\"psysml:86dbe04c-b04a-4ec6-a347-5e4f000abe00\" xlink:actuate=\"onRequest\" xlink:href=\"psysml:86dbe04c-b04a-4ec6-a347-5e4f000abe00\" xlink:show=\"new\" xlink:title=\"psysml:86dbe04c-b04a-4ec6-a347-5e4f000abe00\" xlink:type=\"simple\"><path d=\"M244.141,170.1434 C244.2057,170.3545 244.27,170.5643 244.3339,170.7729 C244.4617,171.1899 244.5879,171.6018 244.7124,172.0081 C245.2104,173.633 245.6806,175.1677 246.1144,176.5831 C247.8494,182.245 249,186 249,186 C249,186 264,194 264,194 C264,194 278.03,330.67 284.18,390.5 \" fill=\"none\" id=\"E2-&gt;E8\" style=\"stroke: #383838; stroke-width: 1.0; stroke-dasharray: 7.0,7.0;\"/><polygon fill=\"#383838\" points=\"284.71,395.7,287.7627,386.3362,284.1955,390.7265,279.8051,387.1594,284.71,395.7\" style=\"stroke: #383838; stroke-width: 1.0;\"/><text fill=\"#000000\" font-family=\"sans-serif\" font-size=\"13\" lengthAdjust=\"spacingAndGlyphs\" textLength=\"58\" x=\"266\" y=\"207.0669\">«import»</text></a><!--MD5=[e3e28c1befcf002155aa15e1416b4315]\n",
       "link E2 to E6--><a href=\"psysml:b4797686-9eb8-4e8e-a70f-411a8a1a5c6c\" target=\"_top\" title=\"psysml:b4797686-9eb8-4e8e-a70f-411a8a1a5c6c\" xlink:actuate=\"onRequest\" xlink:href=\"psysml:b4797686-9eb8-4e8e-a70f-411a8a1a5c6c\" xlink:show=\"new\" xlink:title=\"psysml:b4797686-9eb8-4e8e-a70f-411a8a1a5c6c\" xlink:type=\"simple\"><path d=\"M221.8378,128.263 C221.7063,128.3317 221.5734,128.4012 221.4391,128.4713 C220.902,128.752 220.3429,129.044 219.7629,129.3471 C218.6029,129.9531 217.359,130.603 216.0391,131.2926 C213.3993,132.6717 210.4553,134.2098 207.2695,135.8741 C194.5266,142.5313 177.9156,151.2088 161.4313,159.82 C128.4625,177.0425 96,194 96,194 C96,194 96,211 96,211 C96,211 113.685,261.145 131.6463,312.0738 C140.6269,337.5381 149.6766,363.1984 156.6192,382.8845 C157.4871,385.3453 158.322,387.7127 159.1197,389.9747 C159.5186,391.1057 159.9081,392.2104 160.2879,393.2872 C160.4778,393.8256 160.6652,394.357 160.8501,394.8813 \" fill=\"none\" id=\"E2-&gt;E6\" style=\"stroke: #383838; stroke-width: 1.0; stroke-dasharray: 7.0,7.0;\"/><polygon fill=\"#383838\" points=\"160.8501,394.8813,161.6291,385.0633,159.1871,390.166,154.0845,387.724,160.8501,394.8813\" style=\"stroke: #383838; stroke-width: 1.0;\"/><text fill=\"#000000\" font-family=\"sans-serif\" font-size=\"13\" lengthAdjust=\"spacingAndGlyphs\" textLength=\"65\" x=\"97\" y=\"207.0669\">«import»*</text></a><!--MD5=[e3d2a08a9c9236652057e8ed0cbc9b62]\n",
       "link E2 to E7--><a href=\"psysml:c873f416-4fb0-4522-b4d5-2fc0ff0d8008\" target=\"_top\" title=\"psysml:c873f416-4fb0-4522-b4d5-2fc0ff0d8008\" xlink:actuate=\"onRequest\" xlink:href=\"psysml:c873f416-4fb0-4522-b4d5-2fc0ff0d8008\" xlink:show=\"new\" xlink:title=\"psysml:c873f416-4fb0-4522-b4d5-2fc0ff0d8008\" xlink:type=\"simple\"><path d=\"M221.7702,133.7649 C221.6886,133.8616 221.6067,133.9589 221.5242,134.0567 C221.3593,134.2523 221.1926,134.4501 221.0241,134.65 C220.6871,135.0498 220.3431,135.458 219.9923,135.8741 C214.3809,142.5313 207.0669,151.2088 199.8087,159.82 C185.2925,177.0425 171,194 171,194 C171,194 171,211 171,211 C171,211 213,219 213,219 C213,219 213.97,267.2075 214.955,316.1688 C215.2013,328.4091 215.4484,340.6965 215.6816,352.2896 \" fill=\"none\" id=\"E2-&gt;E7\" style=\"stroke: #383838; stroke-width: 1.0; stroke-dasharray: 7.0,7.0;\"/><polygon fill=\"#383838\" points=\"215.6816,352.2896,219.4998,343.2109,215.5811,347.2906,211.5014,343.3718,215.6816,352.2896\" style=\"stroke: #383838; stroke-width: 1.0;\"/><text fill=\"#000000\" font-family=\"sans-serif\" font-size=\"13\" lengthAdjust=\"spacingAndGlyphs\" textLength=\"87\" x=\"172\" y=\"207.0669\">«import»*::**</text></a><!--MD5=[ca5a752d6098d8a44b3f88316e7452d1]\n",
       "link E3 to E8--><a href=\"psysml:bb41b158-76b0-47f5-886e-e2f97e00e6aa\" target=\"_top\" title=\"psysml:bb41b158-76b0-47f5-886e-e2f97e00e6aa\" xlink:actuate=\"onRequest\" xlink:href=\"psysml:bb41b158-76b0-47f5-886e-e2f97e00e6aa\" xlink:show=\"new\" xlink:title=\"psysml:bb41b158-76b0-47f5-886e-e2f97e00e6aa\" xlink:type=\"simple\"><path d=\"M321.62,146.15 C339.78,166.66 364,194 364,194 C364,194 364,211 364,211 C364,211 326,219 326,219 C326,219 306.63,317.82 295.19,376.19 \" fill=\"none\" id=\"E3-&gt;E8\" style=\"stroke: #383838; stroke-width: 1.0;\"/><polygon fill=\"#FFFFFF\" points=\"291.32,395.94,288.1009,375.9491,301.8401,378.6389,291.32,395.94\" style=\"stroke: #383838; stroke-width: 1.0;\"/><ellipse cx=\"291.1588\" cy=\"370.7395\" fill=\"#383838\" rx=\"2\" ry=\"2\" style=\"stroke: #383838; stroke-width: 1.0;\"/><ellipse cx=\"300.9725\" cy=\"372.6608\" fill=\"#383838\" rx=\"2\" ry=\"2\" style=\"stroke: #383838; stroke-width: 1.0;\"/></a><!--MD5=[15ebcb19ae302d9b601edb458606d402]\n",
       "link E5 to E2--><a href=\"psysml:cb98c000-d2e0-4059-b3dc-41ff4d975042\" target=\"_top\" title=\"psysml:cb98c000-d2e0-4059-b3dc-41ff4d975042\" xlink:actuate=\"onRequest\" xlink:href=\"psysml:cb98c000-d2e0-4059-b3dc-41ff4d975042\" xlink:show=\"new\" xlink:title=\"psysml:cb98c000-d2e0-4059-b3dc-41ff4d975042\" xlink:type=\"simple\"><path d=\"M350.0108,234.9703 C349.8689,234.6284 349.7275,234.288 349.5868,233.9491 C349.3055,233.2714 349.0266,232.5998 348.7504,231.9345 C348.1979,230.6039 347.6559,229.2986 347.1252,228.0202 C338.6325,207.5656 333,194 333,194 C333,194 249,186 249,186 C249,186 247.8494,182.245 246.1144,176.5831 C245.6806,175.1677 245.2104,173.633 244.7124,172.0081 C244.5879,171.6018 244.4617,171.1899 244.3339,170.7729 C244.27,170.5643 244.2057,170.3545 244.141,170.1434 \" fill=\"none\" id=\"E5-&gt;E2\" style=\"stroke: #383838; stroke-width: 1.0; stroke-dasharray: 7.0,7.0;\"/><polygon fill=\"#383838\" points=\"244.141,170.1434,242.9535,179.9204,245.606,174.924,250.6024,177.5765,244.141,170.1434\" style=\"stroke: #383838; stroke-width: 1.0;\"/><text fill=\"#000000\" font-family=\"sans-serif\" font-size=\"13\" lengthAdjust=\"spacingAndGlyphs\" textLength=\"65\" x=\"340\" y=\"207.0669\">«import»*</text></a><!--MD5=[d7bb3fb34add81b710575eb3799fa2ad]\n",
       "link E8 to E4--><a href=\"psysml:ff856c1d-ebaf-4dbc-8ba8-d8c60136e299\" target=\"_top\" title=\"psysml:ff856c1d-ebaf-4dbc-8ba8-d8c60136e299\" xlink:actuate=\"onRequest\" xlink:href=\"psysml:ff856c1d-ebaf-4dbc-8ba8-d8c60136e299\" xlink:show=\"new\" xlink:title=\"psysml:ff856c1d-ebaf-4dbc-8ba8-d8c60136e299\" xlink:type=\"simple\"><path d=\"M291.32,395.94 C301.48,344.13 326,219 326,219 C326,219 478,211 478,211 C478,211 478,194 478,194 C478,194 461.71,177.48 444.97,160.49 \" fill=\"none\" id=\"E8-&gt;E4\" style=\"stroke: #383838; stroke-width: 1.0;\"/><polygon fill=\"none\" points=\"439.89,165.31,430.83,146.15,449.86,155.48,439.89,165.31\" style=\"stroke: #383838; stroke-width: 1.0;\"/></a><!--MD5=[5d2c0ea42b617a2ba87af3556f4878dc]\n",
       "@startuml\r\n",
       "skinparam linetype polyline\r\n",
       "skinparam monochrome true\r\n",
       "skinparam classbackgroundcolor white\r\n",
       "skinparam shadowing false\r\n",
       "skinparam wrapWidth 300\r\n",
       "hide circle\r\n",
       "\r\n",
       "package \"ImportTest\" as E1  [[psysml:789e6656-6985-4918-a680-b12b42056b24 ]]  {\r\n",
       "package \"Pkg1\" as E2  [[psysml:9ed5d6a5-603c-4e6a-bfc8-60e703dcd2fe ]]  {\r\n",
       "comp usage \"p11: P211 \" as E3  <<(T,blue) part>> [[psysml:380b438c-f0d0-40f2-a10d-c83a46ac62de ]] {\r\n",
       "}\r\n",
       "comp def \"P12\" as E4  <<(T,blue) part  def>> [[psysml:4c18927e-9f3a-4bbe-ae04-0ff2b7ea0a78 ]] {\r\n",
       "}\r\n",
       "}\r\n",
       "package \"Pkg2\" as E5  [[psysml:63b0367b-32f1-46aa-9fe1-f934424c590d ]]  {\r\n",
       "package \"Pkg21\" as E6  [[psysml:98b17091-6ea5-4037-8451-bfddc724f9d0 ]]  {\r\n",
       "package \"Pkg211\" as E7  [[psysml:45f4d7ec-8fdd-4896-89d5-a877e9eb4cf9 ]]  {\r\n",
       "comp def \"P211\" as E8  <<(T,blue) part  def>> [[psysml:b4068f35-75bf-4c63-8263-9508faa965fc ]] {\r\n",
       "}\r\n",
       "}\r\n",
       "}\r\n",
       "}\r\n",
       "}\r\n",
       "E2 ..> E8 [[psysml:86dbe04c-b04a-4ec6-a347-5e4f000abe00 ]] : <<import>>\r\n",
       "E2 ..> E6 [[psysml:b4797686-9eb8-4e8e-a70f-411a8a1a5c6c ]] : <<import>>*\r\n",
       "E2 ..> E7 [[psysml:c873f416-4fb0-4522-b4d5-2fc0ff0d8008 ]] : <<import>>*::**\r\n",
       "E3 - -:|> E8 [[psysml:bb41b158-76b0-47f5-886e-e2f97e00e6aa ]] \r\n",
       "E5 ..> E2 [[psysml:cb98c000-d2e0-4059-b3dc-41ff4d975042 ]] : <<import>>*\r\n",
       "E8 - -|> E4 [[psysml:ff856c1d-ebaf-4dbc-8ba8-d8c60136e299 ]] \r\n",
       "@enduml\r\n",
       "\n",
       "PlantUML version 1.2020.13(Sat Jun 13 12:26:38 UTC 2020)\n",
       "(EPL source distribution)\n",
       "Java Runtime: OpenJDK Runtime Environment\n",
       "JVM: OpenJDK 64-Bit Server VM\n",
       "Default Encoding: UTF-8\n",
       "Language: en\n",
       "Country: null\n",
       "--></g></svg>"
      ]
     },
     "execution_count": 10,
     "metadata": {},
     "output_type": "execute_result"
    }
   ],
   "source": [
    "%viz --style=\"POLYLINE\" --view=\"Tree\" \"ImportTest\""
   ]
  },
  {
   "cell_type": "code",
   "execution_count": 11,
   "id": "8c1274f6",
   "metadata": {
    "execution": {
     "iopub.execute_input": "2022-08-19T08:17:19.491499Z",
     "iopub.status.busy": "2022-08-19T08:17:19.490967Z",
     "iopub.status.idle": "2022-08-19T08:17:19.497415Z",
     "shell.execute_reply": "2022-08-19T08:17:19.497729Z"
    }
   },
   "outputs": [
    {
     "data": {
      "image/svg+xml": [
       "<?xml version=\"1.0\" encoding=\"UTF-8\" standalone=\"no\"?><svg xmlns=\"http://www.w3.org/2000/svg\" xmlns:xlink=\"http://www.w3.org/1999/xlink\" contentScriptType=\"application/ecmascript\" contentStyleType=\"text/css\" height=\"12px\" preserveAspectRatio=\"none\" style=\"width:12px;height:12px;\" version=\"1.1\" viewBox=\"0 0 12 12\" width=\"12px\" zoomAndPan=\"magnify\"><defs/><g><!--MD5=[896ac0e7a515d8dd7765a661cb4ee08b]\n",
       "@startuml\r\n",
       "skinparam linetype polyline\r\n",
       "skinparam monochrome true\r\n",
       "skinparam classbackgroundcolor white\r\n",
       "skinparam shadowing false\r\n",
       "skinparam wrapWidth 300\r\n",
       "hide circle\r\n",
       "\r\n",
       "@enduml\r\n",
       "\n",
       "PlantUML version 1.2020.13(Sat Jun 13 12:26:38 UTC 2020)\n",
       "(EPL source distribution)\n",
       "Java Runtime: OpenJDK Runtime Environment\n",
       "JVM: OpenJDK 64-Bit Server VM\n",
       "Default Encoding: UTF-8\n",
       "Language: en\n",
       "Country: null\n",
       "--></g></svg>"
      ]
     },
     "execution_count": 11,
     "metadata": {},
     "output_type": "execute_result"
    }
   ],
   "source": [
    "%viz --style=\"POLYLINE\" --view=\"State\" \"ImportTest\""
   ]
  },
  {
   "cell_type": "code",
   "execution_count": 12,
   "id": "58a24490",
   "metadata": {
    "execution": {
     "iopub.execute_input": "2022-08-19T08:17:19.547929Z",
     "iopub.status.busy": "2022-08-19T08:17:19.547295Z",
     "iopub.status.idle": "2022-08-19T08:17:19.599554Z",
     "shell.execute_reply": "2022-08-19T08:17:19.599137Z"
    }
   },
   "outputs": [
    {
     "data": {
      "image/svg+xml": [
       "<?xml version=\"1.0\" encoding=\"UTF-8\" standalone=\"no\"?><svg xmlns=\"http://www.w3.org/2000/svg\" xmlns:xlink=\"http://www.w3.org/1999/xlink\" contentScriptType=\"application/ecmascript\" contentStyleType=\"text/css\" height=\"584px\" preserveAspectRatio=\"none\" style=\"width:522px;height:584px;\" version=\"1.1\" viewBox=\"0 0 522 584\" width=\"522px\" zoomAndPan=\"magnify\"><defs/><g><!--MD5=[fbc87193dbaf4d95561dea2c320d4a47]\n",
       "cluster E1--><a href=\"psysml:789e6656-6985-4918-a680-b12b42056b24\" target=\"_top\" title=\"psysml:789e6656-6985-4918-a680-b12b42056b24\" xlink:actuate=\"onRequest\" xlink:href=\"psysml:789e6656-6985-4918-a680-b12b42056b24\" xlink:show=\"new\" xlink:title=\"psysml:789e6656-6985-4918-a680-b12b42056b24\" xlink:type=\"simple\"><polygon fill=\"#FFFFFF\" points=\"16,6,97,6,104,28.2969,500,28.2969,500,572,16,572,16,6\" style=\"stroke: #000000; stroke-width: 1.5;\"/><line style=\"stroke: #000000; stroke-width: 1.5;\" x1=\"16\" x2=\"104\" y1=\"28.2969\" y2=\"28.2969\"/><text fill=\"#000000\" font-family=\"sans-serif\" font-size=\"14\" font-weight=\"bold\" lengthAdjust=\"spacingAndGlyphs\" textLength=\"75\" x=\"20\" y=\"20.9951\">ImportTest</text></a><!--MD5=[e4f7fae6ed58524ba242bb0b0d3be6b7]\n",
       "cluster E2--><a href=\"psysml:9ed5d6a5-603c-4e6a-bfc8-60e703dcd2fe\" target=\"_top\" title=\"psysml:9ed5d6a5-603c-4e6a-bfc8-60e703dcd2fe\" xlink:actuate=\"onRequest\" xlink:href=\"psysml:9ed5d6a5-603c-4e6a-bfc8-60e703dcd2fe\" xlink:show=\"new\" xlink:title=\"psysml:9ed5d6a5-603c-4e6a-bfc8-60e703dcd2fe\" xlink:type=\"simple\"><polygon fill=\"#FFFFFF\" points=\"216,57,257,57,264,79.2969,468,79.2969,468,167,216,167,216,57\" style=\"stroke: #000000; stroke-width: 1.5;\"/><line style=\"stroke: #000000; stroke-width: 1.5;\" x1=\"216\" x2=\"264\" y1=\"79.2969\" y2=\"79.2969\"/><text fill=\"#000000\" font-family=\"sans-serif\" font-size=\"14\" font-weight=\"bold\" lengthAdjust=\"spacingAndGlyphs\" textLength=\"35\" x=\"220\" y=\"71.9951\">Pkg1</text></a><!--MD5=[de5ec2e2e8f62f467e546659f5068c88]\n",
       "cluster E5--><a href=\"psysml:63b0367b-32f1-46aa-9fe1-f934424c590d\" target=\"_top\" title=\"psysml:63b0367b-32f1-46aa-9fe1-f934424c590d\" xlink:actuate=\"onRequest\" xlink:href=\"psysml:63b0367b-32f1-46aa-9fe1-f934424c590d\" xlink:show=\"new\" xlink:title=\"psysml:63b0367b-32f1-46aa-9fe1-f934424c590d\" xlink:type=\"simple\"><polygon fill=\"#FFFFFF\" points=\"117,232,158,232,165,254.2969,435,254.2969,435,540,117,540,117,232\" style=\"stroke: #000000; stroke-width: 1.5;\"/><line style=\"stroke: #000000; stroke-width: 1.5;\" x1=\"117\" x2=\"165\" y1=\"254.2969\" y2=\"254.2969\"/><text fill=\"#000000\" font-family=\"sans-serif\" font-size=\"14\" font-weight=\"bold\" lengthAdjust=\"spacingAndGlyphs\" textLength=\"35\" x=\"121\" y=\"246.9951\">Pkg2</text></a><!--MD5=[14e3b0961a2654348d326746436168a1]\n",
       "cluster E6--><a href=\"psysml:98b17091-6ea5-4037-8451-bfddc724f9d0\" target=\"_top\" title=\"psysml:98b17091-6ea5-4037-8451-bfddc724f9d0\" xlink:actuate=\"onRequest\" xlink:href=\"psysml:98b17091-6ea5-4037-8451-bfddc724f9d0\" xlink:show=\"new\" xlink:title=\"psysml:98b17091-6ea5-4037-8451-bfddc724f9d0\" xlink:type=\"simple\"><polygon fill=\"#FFFFFF\" points=\"157,291,207,291,214,313.2969,387,313.2969,387,500,157,500,157,291\" style=\"stroke: #000000; stroke-width: 1.5;\"/><line style=\"stroke: #000000; stroke-width: 1.5;\" x1=\"157\" x2=\"214\" y1=\"313.2969\" y2=\"313.2969\"/><text fill=\"#000000\" font-family=\"sans-serif\" font-size=\"14\" font-weight=\"bold\" lengthAdjust=\"spacingAndGlyphs\" textLength=\"44\" x=\"161\" y=\"305.9951\">Pkg21</text></a><!--MD5=[168fadf3d0c3fd93dd5d6da1b1d7ab76]\n",
       "cluster E7--><a href=\"psysml:45f4d7ec-8fdd-4896-89d5-a877e9eb4cf9\" target=\"_top\" title=\"psysml:45f4d7ec-8fdd-4896-89d5-a877e9eb4cf9\" xlink:actuate=\"onRequest\" xlink:href=\"psysml:45f4d7ec-8fdd-4896-89d5-a877e9eb4cf9\" xlink:show=\"new\" xlink:title=\"psysml:45f4d7ec-8fdd-4896-89d5-a877e9eb4cf9\" xlink:type=\"simple\"><polygon fill=\"#FFFFFF\" points=\"205,350,264,350,271,372.2969,347,372.2969,347,460,205,460,205,350\" style=\"stroke: #000000; stroke-width: 1.5;\"/><line style=\"stroke: #000000; stroke-width: 1.5;\" x1=\"205\" x2=\"271\" y1=\"372.2969\" y2=\"372.2969\"/><text fill=\"#000000\" font-family=\"sans-serif\" font-size=\"14\" font-weight=\"bold\" lengthAdjust=\"spacingAndGlyphs\" textLength=\"53\" x=\"209\" y=\"364.9951\">Pkg211</text></a><g id=\"E1.E2.E3\"><a href=\"psysml:380b438c-f0d0-40f2-a10d-c83a46ac62de\" target=\"_top\" title=\"psysml:380b438c-f0d0-40f2-a10d-c83a46ac62de\" xlink:actuate=\"onRequest\" xlink:href=\"psysml:380b438c-f0d0-40f2-a10d-c83a46ac62de\" xlink:show=\"new\" xlink:title=\"psysml:380b438c-f0d0-40f2-a10d-c83a46ac62de\" xlink:type=\"simple\"><rect fill=\"#FFFFFF\" height=\"40\" id=\"E3\" rx=\"10\" ry=\"10\" style=\"stroke: #383838; stroke-width: 1.5;\" width=\"75\" x=\"259.5\" y=\"101.5\"/><rect fill=\"#F8F8F8\" height=\"23.9688\" rx=\"10\" ry=\"10\" style=\"stroke: #F8F8F8; stroke-width: 1.5;\" width=\"75\" x=\"259.5\" y=\"101.5\"/><rect fill=\"#F8F8F8\" height=\"10\" style=\"stroke: #F8F8F8; stroke-width: 1.5;\" width=\"75\" x=\"259.5\" y=\"115.4688\"/><rect fill=\"none\" height=\"40\" id=\"E3\" rx=\"10\" ry=\"10\" style=\"stroke: #383838; stroke-width: 1.5;\" width=\"75\" x=\"259.5\" y=\"101.5\"/><text fill=\"#000000\" font-family=\"sans-serif\" font-size=\"12\" lengthAdjust=\"spacingAndGlyphs\" textLength=\"64\" x=\"265\" y=\"117.6387\">p11: P211</text></a></g><g id=\"E1.E2.E4\"><a href=\"psysml:4c18927e-9f3a-4bbe-ae04-0ff2b7ea0a78\" target=\"_top\" title=\"psysml:4c18927e-9f3a-4bbe-ae04-0ff2b7ea0a78\" xlink:actuate=\"onRequest\" xlink:href=\"psysml:4c18927e-9f3a-4bbe-ae04-0ff2b7ea0a78\" xlink:show=\"new\" xlink:title=\"psysml:4c18927e-9f3a-4bbe-ae04-0ff2b7ea0a78\" xlink:type=\"simple\"><rect fill=\"#FFFFFF\" height=\"42.9375\" id=\"E4\" style=\"stroke: #383838; stroke-width: 1.5;\" width=\"75\" x=\"369.5\" y=\"100\"/><rect fill=\"#F8F8F8\" height=\"37.9375\" style=\"stroke: #383838; stroke-width: 1.5;\" width=\"75\" x=\"369.5\" y=\"100\"/><text fill=\"#000000\" font-family=\"sans-serif\" font-size=\"12\" font-style=\"italic\" lengthAdjust=\"spacingAndGlyphs\" textLength=\"68\" x=\"373\" y=\"116.1387\">«part  def»</text><text fill=\"#000000\" font-family=\"sans-serif\" font-size=\"12\" lengthAdjust=\"spacingAndGlyphs\" textLength=\"24\" x=\"395\" y=\"130.1074\">P12</text></a></g><g id=\"E1.E5.E6.E7.E8\"><a href=\"psysml:b4068f35-75bf-4c63-8263-9508faa965fc\" target=\"_top\" title=\"psysml:b4068f35-75bf-4c63-8263-9508faa965fc\" xlink:actuate=\"onRequest\" xlink:href=\"psysml:b4068f35-75bf-4c63-8263-9508faa965fc\" xlink:show=\"new\" xlink:title=\"psysml:b4068f35-75bf-4c63-8263-9508faa965fc\" xlink:type=\"simple\"><rect fill=\"#FFFFFF\" height=\"42.9375\" id=\"E8\" style=\"stroke: #383838; stroke-width: 1.5;\" width=\"75\" x=\"248.5\" y=\"393\"/><rect fill=\"#F8F8F8\" height=\"37.9375\" style=\"stroke: #383838; stroke-width: 1.5;\" width=\"75\" x=\"248.5\" y=\"393\"/><text fill=\"#000000\" font-family=\"sans-serif\" font-size=\"12\" font-style=\"italic\" lengthAdjust=\"spacingAndGlyphs\" textLength=\"68\" x=\"252\" y=\"409.1387\">«part  def»</text><text fill=\"#000000\" font-family=\"sans-serif\" font-size=\"12\" lengthAdjust=\"spacingAndGlyphs\" textLength=\"32\" x=\"270\" y=\"423.1074\">P211</text></a></g><!--MD5=[b0060bfdb0500b904584095522b4da3c]\n",
       "link E2 to E8--><a href=\"psysml:86dbe04c-b04a-4ec6-a347-5e4f000abe00\" target=\"_top\" title=\"psysml:86dbe04c-b04a-4ec6-a347-5e4f000abe00\" xlink:actuate=\"onRequest\" xlink:href=\"psysml:86dbe04c-b04a-4ec6-a347-5e4f000abe00\" xlink:show=\"new\" xlink:title=\"psysml:86dbe04c-b04a-4ec6-a347-5e4f000abe00\" xlink:type=\"simple\"><path d=\"M238.7826,167.2187 C238.8168,167.3223 238.851,167.4256 238.885,167.5285 C238.9531,167.7345 239.0208,167.9392 239.0881,168.1427 C239.2226,168.5496 239.3555,168.9515 239.4865,169.3479 C240.0107,170.9334 240.5057,172.4308 240.9623,173.8119 C242.7888,179.3363 244,183 244,183 C244,183 264,191 264,191 C264,191 277.68,329.4 283.47,387.89 \" fill=\"none\" id=\"E2-&gt;E8\" style=\"stroke: #383838; stroke-width: 1.0; stroke-dasharray: 7.0,7.0;\"/><polygon fill=\"#383838\" points=\"283.97,392.97,287.0759,383.6237,283.4838,387.9937,279.1138,384.4016,283.97,392.97\" style=\"stroke: #383838; stroke-width: 1.0;\"/><text fill=\"#000000\" font-family=\"sans-serif\" font-size=\"13\" lengthAdjust=\"spacingAndGlyphs\" textLength=\"58\" x=\"266\" y=\"204.0669\">«import»</text></a><!--MD5=[e3e28c1befcf002155aa15e1416b4315]\n",
       "link E2 to E6--><a href=\"psysml:b4797686-9eb8-4e8e-a70f-411a8a1a5c6c\" target=\"_top\" title=\"psysml:b4797686-9eb8-4e8e-a70f-411a8a1a5c6c\" xlink:actuate=\"onRequest\" xlink:href=\"psysml:b4797686-9eb8-4e8e-a70f-411a8a1a5c6c\" xlink:show=\"new\" xlink:title=\"psysml:b4797686-9eb8-4e8e-a70f-411a8a1a5c6c\" xlink:type=\"simple\"><path d=\"M215.8241,126.8751 C215.311,127.1497 214.7768,127.4355 214.2227,127.732 C213.1144,128.325 211.926,128.9608 210.665,129.6356 C208.143,130.9851 205.3305,132.49 202.2872,134.1186 C190.1137,140.6328 174.2463,149.1244 158.5,157.5512 C127.0075,174.405 96,191 96,191 C96,191 96,208 96,208 C96,208 112.715,257.7825 129.6913,308.3425 C138.1794,333.6225 146.7328,359.0969 153.2948,378.64 C154.1151,381.0829 154.9042,383.4331 155.6582,385.6787 C156.0352,386.8015 156.4035,387.8981 156.7624,388.9671 \" fill=\"none\" id=\"E2-&gt;E6\" style=\"stroke: #383838; stroke-width: 1.0; stroke-dasharray: 7.0,7.0;\"/><polygon fill=\"#383838\" points=\"156.7624,388.9671,157.6896,379.1619,155.1708,384.2271,150.1057,381.7084,156.7624,388.9671\" style=\"stroke: #383838; stroke-width: 1.0;\"/><text fill=\"#000000\" font-family=\"sans-serif\" font-size=\"13\" lengthAdjust=\"spacingAndGlyphs\" textLength=\"65\" x=\"97\" y=\"204.0669\">«import»*</text></a><!--MD5=[e3d2a08a9c9236652057e8ed0cbc9b62]\n",
       "link E2 to E7--><a href=\"psysml:c873f416-4fb0-4522-b4d5-2fc0ff0d8008\" target=\"_top\" title=\"psysml:c873f416-4fb0-4522-b4d5-2fc0ff0d8008\" xlink:actuate=\"onRequest\" xlink:href=\"psysml:c873f416-4fb0-4522-b4d5-2fc0ff0d8008\" xlink:show=\"new\" xlink:title=\"psysml:c873f416-4fb0-4522-b4d5-2fc0ff0d8008\" xlink:type=\"simple\"><path d=\"M215.9367,132.9208 C215.634,133.312 215.325,133.7115 215.01,134.1186 C209.97,140.6328 203.4,149.1244 196.88,157.5512 C183.84,174.405 171,191 171,191 C171,191 171,208 171,208 C171,208 209,216 209,216 C209,216 209.97,263.845 210.955,312.4375 C211.2013,324.5856 211.4484,336.7805 211.6816,348.2861 C211.6889,348.6457 211.6962,349.0046 211.7035,349.3627 \" fill=\"none\" id=\"E2-&gt;E7\" style=\"stroke: #383838; stroke-width: 1.0; stroke-dasharray: 7.0,7.0;\"/><polygon fill=\"#383838\" points=\"211.7035,349.3627,215.5203,340.2835,211.6021,344.3638,207.5219,340.4457,211.7035,349.3627\" style=\"stroke: #383838; stroke-width: 1.0;\"/><text fill=\"#000000\" font-family=\"sans-serif\" font-size=\"13\" lengthAdjust=\"spacingAndGlyphs\" textLength=\"87\" x=\"172\" y=\"204.0669\">«import»*::**</text></a><!--MD5=[ca5a752d6098d8a44b3f88316e7452d1]\n",
       "link E3 to E8--><a href=\"psysml:bb41b158-76b0-47f5-886e-e2f97e00e6aa\" target=\"_top\" title=\"psysml:bb41b158-76b0-47f5-886e-e2f97e00e6aa\" xlink:actuate=\"onRequest\" xlink:href=\"psysml:bb41b158-76b0-47f5-886e-e2f97e00e6aa\" xlink:show=\"new\" xlink:title=\"psysml:bb41b158-76b0-47f5-886e-e2f97e00e6aa\" xlink:type=\"simple\"><path d=\"M314.4,141.64 C330.52,159.37 352,183 352,183 C352,183 364,191 364,191 C364,191 364,208 364,208 C364,208 328,216 328,216 C328,216 306.93,315.09 294.63,372.9 \" fill=\"none\" id=\"E3-&gt;E8\" style=\"stroke: #383838; stroke-width: 1.0;\"/><polygon fill=\"#FFFFFF\" points=\"290.42,392.74,287.5234,372.6998,301.2175,375.6107,290.42,392.74\" style=\"stroke: #383838; stroke-width: 1.0;\"/><ellipse cx=\"290.6649\" cy=\"367.5402\" fill=\"#383838\" rx=\"2\" ry=\"2\" style=\"stroke: #383838; stroke-width: 1.0;\"/><ellipse cx=\"300.4463\" cy=\"369.6194\" fill=\"#383838\" rx=\"2\" ry=\"2\" style=\"stroke: #383838; stroke-width: 1.0;\"/></a><!--MD5=[15ebcb19ae302d9b601edb458606d402]\n",
       "link E5 to E2--><a href=\"psysml:cb98c000-d2e0-4059-b3dc-41ff4d975042\" target=\"_top\" title=\"psysml:cb98c000-d2e0-4059-b3dc-41ff4d975042\" xlink:actuate=\"onRequest\" xlink:href=\"psysml:cb98c000-d2e0-4059-b3dc-41ff4d975042\" xlink:show=\"new\" xlink:title=\"psysml:cb98c000-d2e0-4059-b3dc-41ff4d975042\" xlink:type=\"simple\"><path d=\"M350.1939,231.6965 C350.0504,231.3569 349.9076,231.0188 349.7654,230.6822 C349.481,230.009 349.1991,229.3418 348.9199,228.681 C348.3615,227.3593 347.8137,226.0627 347.2772,224.7928 C338.6931,204.475 333,191 333,191 C333,191 244,183 244,183 C244,183 242.7888,179.3363 240.9623,173.8119 C240.5057,172.4308 240.0107,170.9334 239.4865,169.3479 C239.3555,168.9515 239.2226,168.5496 239.0881,168.1427 C239.0208,167.9392 238.9531,167.7345 238.885,167.5285 C238.851,167.4256 238.8168,167.3223 238.7826,167.2187 \" fill=\"none\" id=\"E5-&gt;E2\" style=\"stroke: #383838; stroke-width: 1.0; stroke-dasharray: 7.0,7.0;\"/><polygon fill=\"#383838\" points=\"238.7826,167.2187,237.8099,177.0194,240.3521,171.966,245.4055,174.5082,238.7826,167.2187\" style=\"stroke: #383838; stroke-width: 1.0;\"/><text fill=\"#000000\" font-family=\"sans-serif\" font-size=\"13\" lengthAdjust=\"spacingAndGlyphs\" textLength=\"65\" x=\"340\" y=\"204.0669\">«import»*</text></a><!--MD5=[d7bb3fb34add81b710575eb3799fa2ad]\n",
       "link E8 to E4--><a href=\"psysml:ff856c1d-ebaf-4dbc-8ba8-d8c60136e299\" target=\"_top\" title=\"psysml:ff856c1d-ebaf-4dbc-8ba8-d8c60136e299\" xlink:actuate=\"onRequest\" xlink:href=\"psysml:ff856c1d-ebaf-4dbc-8ba8-d8c60136e299\" xlink:show=\"new\" xlink:title=\"psysml:ff856c1d-ebaf-4dbc-8ba8-d8c60136e299\" xlink:type=\"simple\"><path d=\"M290.42,392.74 C301.2,342.03 328,216 328,216 C328,216 478,208 478,208 C478,208 478,191 478,191 C478,191 460.43,174.05 442.77,157.01 \" fill=\"none\" id=\"E8-&gt;E4\" style=\"stroke: #383838; stroke-width: 1.0;\"/><polygon fill=\"none\" points=\"437.84,161.98,428.3,143.05,447.56,151.9,437.84,161.98\" style=\"stroke: #383838; stroke-width: 1.0;\"/></a><!--MD5=[2a461f7ffe455aaa07b8976dae7d2028]\n",
       "@startuml\r\n",
       "skinparam ranksep 10\r\n",
       "skinparam rectangle {\r\n",
       " backgroundColor<<block>> LightGreen\r\n",
       "}\r\n",
       "skinparam linetype polyline\r\n",
       "skinparam monochrome true\r\n",
       "skinparam classbackgroundcolor white\r\n",
       "skinparam shadowing false\r\n",
       "skinparam wrapWidth 300\r\n",
       "hide circle\r\n",
       "\r\n",
       "package \"ImportTest\" as E1  [[psysml:789e6656-6985-4918-a680-b12b42056b24 ]]  {\r\n",
       "package \"Pkg1\" as E2  [[psysml:9ed5d6a5-603c-4e6a-bfc8-60e703dcd2fe ]]  {\r\n",
       "rec usage \"p11: P211\" as E3  [[psysml:380b438c-f0d0-40f2-a10d-c83a46ac62de ]] {\r\n",
       "}\r\n",
       "rec def \"P12\" as E4  <<(T,blue) part  def>> [[psysml:4c18927e-9f3a-4bbe-ae04-0ff2b7ea0a78 ]] {\r\n",
       "}\r\n",
       "}\r\n",
       "package \"Pkg2\" as E5  [[psysml:63b0367b-32f1-46aa-9fe1-f934424c590d ]]  {\r\n",
       "package \"Pkg21\" as E6  [[psysml:98b17091-6ea5-4037-8451-bfddc724f9d0 ]]  {\r\n",
       "package \"Pkg211\" as E7  [[psysml:45f4d7ec-8fdd-4896-89d5-a877e9eb4cf9 ]]  {\r\n",
       "rec def \"P211\" as E8  <<(T,blue) part  def>> [[psysml:b4068f35-75bf-4c63-8263-9508faa965fc ]] {\r\n",
       "}\r\n",
       "}\r\n",
       "}\r\n",
       "}\r\n",
       "}\r\n",
       "E2 ..> E8 [[psysml:86dbe04c-b04a-4ec6-a347-5e4f000abe00 ]] : <<import>>\r\n",
       "E2 ..> E6 [[psysml:b4797686-9eb8-4e8e-a70f-411a8a1a5c6c ]] : <<import>>*\r\n",
       "E2 ..> E7 [[psysml:c873f416-4fb0-4522-b4d5-2fc0ff0d8008 ]] : <<import>>*::**\r\n",
       "E3 - -:|> E8 [[psysml:bb41b158-76b0-47f5-886e-e2f97e00e6aa ]] \r\n",
       "E5 ..> E2 [[psysml:cb98c000-d2e0-4059-b3dc-41ff4d975042 ]] : <<import>>*\r\n",
       "E8 - -|> E4 [[psysml:ff856c1d-ebaf-4dbc-8ba8-d8c60136e299 ]] \r\n",
       "@enduml\r\n",
       "\n",
       "PlantUML version 1.2020.13(Sat Jun 13 12:26:38 UTC 2020)\n",
       "(EPL source distribution)\n",
       "Java Runtime: OpenJDK Runtime Environment\n",
       "JVM: OpenJDK 64-Bit Server VM\n",
       "Default Encoding: UTF-8\n",
       "Language: en\n",
       "Country: null\n",
       "--></g></svg>"
      ]
     },
     "execution_count": 12,
     "metadata": {},
     "output_type": "execute_result"
    }
   ],
   "source": [
    "%viz --style=\"POLYLINE\" --view=\"Interconnection\" \"ImportTest\""
   ]
  },
  {
   "cell_type": "code",
   "execution_count": 13,
   "id": "f8150177",
   "metadata": {
    "execution": {
     "iopub.execute_input": "2022-08-19T08:17:19.649915Z",
     "iopub.status.busy": "2022-08-19T08:17:19.649396Z",
     "iopub.status.idle": "2022-08-19T08:17:19.657440Z",
     "shell.execute_reply": "2022-08-19T08:17:19.657769Z"
    }
   },
   "outputs": [
    {
     "data": {
      "image/svg+xml": [
       "<?xml version=\"1.0\" encoding=\"UTF-8\" standalone=\"no\"?><svg xmlns=\"http://www.w3.org/2000/svg\" xmlns:xlink=\"http://www.w3.org/1999/xlink\" contentScriptType=\"application/ecmascript\" contentStyleType=\"text/css\" height=\"12px\" preserveAspectRatio=\"none\" style=\"width:12px;height:12px;\" version=\"1.1\" viewBox=\"0 0 12 12\" width=\"12px\" zoomAndPan=\"magnify\"><defs/><g><!--MD5=[97bbf32f66ccd50cbc40d92ea8f5a65e]\n",
       "@startuml\r\n",
       "skinparam ranksep 8\r\n",
       "skinparam linetype polyline\r\n",
       "skinparam monochrome true\r\n",
       "skinparam classbackgroundcolor white\r\n",
       "skinparam shadowing false\r\n",
       "skinparam wrapWidth 300\r\n",
       "hide circle\r\n",
       "\r\n",
       "@enduml\r\n",
       "\n",
       "PlantUML version 1.2020.13(Sat Jun 13 12:26:38 UTC 2020)\n",
       "(EPL source distribution)\n",
       "Java Runtime: OpenJDK Runtime Environment\n",
       "JVM: OpenJDK 64-Bit Server VM\n",
       "Default Encoding: UTF-8\n",
       "Language: en\n",
       "Country: null\n",
       "--></g></svg>"
      ]
     },
     "execution_count": 13,
     "metadata": {},
     "output_type": "execute_result"
    }
   ],
   "source": [
    "%viz --style=\"POLYLINE\" --view=\"Action\" \"ImportTest\""
   ]
  },
  {
   "cell_type": "code",
   "execution_count": 14,
   "id": "530de7e8",
   "metadata": {
    "execution": {
     "iopub.execute_input": "2022-08-19T08:17:19.708321Z",
     "iopub.status.busy": "2022-08-19T08:17:19.707819Z",
     "iopub.status.idle": "2022-08-19T08:17:19.712252Z",
     "shell.execute_reply": "2022-08-19T08:17:19.711836Z"
    }
   },
   "outputs": [
    {
     "data": {
      "image/svg+xml": [
       "<?xml version=\"1.0\" encoding=\"UTF-8\" standalone=\"no\"?><svg xmlns=\"http://www.w3.org/2000/svg\" xmlns:xlink=\"http://www.w3.org/1999/xlink\" contentScriptType=\"application/ecmascript\" contentStyleType=\"text/css\" height=\"12px\" preserveAspectRatio=\"none\" style=\"width:12px;height:12px;\" version=\"1.1\" viewBox=\"0 0 12 12\" width=\"12px\" zoomAndPan=\"magnify\"><defs/><g><!--MD5=[dc938048236c351797870c36b62f92ad]\n",
       "@startuml\r\n",
       "skinparam roundcorner 20\r\n",
       "skinparam BoxPadding 20\r\n",
       "skinparam SequenceBoxBackgroundColor #white\r\n",
       "skinparam style strictuml\r\n",
       "skinparam maxMessageSize 100\r\n",
       "skinparam linetype polyline\r\n",
       "skinparam monochrome true\r\n",
       "skinparam classbackgroundcolor white\r\n",
       "skinparam shadowing false\r\n",
       "skinparam wrapWidth 300\r\n",
       "hide circle\r\n",
       "\r\n",
       "@enduml\r\n",
       "\n",
       "PlantUML version 1.2020.13(Sat Jun 13 12:26:38 UTC 2020)\n",
       "(EPL source distribution)\n",
       "Java Runtime: OpenJDK Runtime Environment\n",
       "JVM: OpenJDK 64-Bit Server VM\n",
       "Default Encoding: UTF-8\n",
       "Language: en\n",
       "Country: null\n",
       "--></g></svg>"
      ]
     },
     "execution_count": 14,
     "metadata": {},
     "output_type": "execute_result"
    }
   ],
   "source": [
    "%viz --style=\"POLYLINE\" --view=\"Sequence\" \"ImportTest\""
   ]
  },
  {
   "cell_type": "code",
   "execution_count": 15,
   "id": "e257fff7",
   "metadata": {
    "execution": {
     "iopub.execute_input": "2022-08-19T08:17:19.762262Z",
     "iopub.status.busy": "2022-08-19T08:17:19.761643Z",
     "iopub.status.idle": "2022-08-19T08:17:19.803111Z",
     "shell.execute_reply": "2022-08-19T08:17:19.803439Z"
    }
   },
   "outputs": [
    {
     "data": {
      "image/svg+xml": [
       "<?xml version=\"1.0\" encoding=\"UTF-8\" standalone=\"no\"?><svg xmlns=\"http://www.w3.org/2000/svg\" xmlns:xlink=\"http://www.w3.org/1999/xlink\" contentScriptType=\"application/ecmascript\" contentStyleType=\"text/css\" height=\"590px\" preserveAspectRatio=\"none\" style=\"width:522px;height:590px;\" version=\"1.1\" viewBox=\"0 0 522 590\" width=\"522px\" zoomAndPan=\"magnify\"><defs/><g><!--MD5=[fbc87193dbaf4d95561dea2c320d4a47]\n",
       "cluster E1--><a href=\"psysml:789e6656-6985-4918-a680-b12b42056b24\" target=\"_top\" title=\"psysml:789e6656-6985-4918-a680-b12b42056b24\" xlink:actuate=\"onRequest\" xlink:href=\"psysml:789e6656-6985-4918-a680-b12b42056b24\" xlink:show=\"new\" xlink:title=\"psysml:789e6656-6985-4918-a680-b12b42056b24\" xlink:type=\"simple\"><polygon fill=\"#FFFFFF\" points=\"16,6,97,6,104,28.2969,500,28.2969,500,578,16,578,16,6\" style=\"stroke: #000000; stroke-width: 1.5;\"/><line style=\"stroke: #000000; stroke-width: 1.5;\" x1=\"16\" x2=\"104\" y1=\"28.2969\" y2=\"28.2969\"/><text fill=\"#000000\" font-family=\"sans-serif\" font-size=\"14\" font-weight=\"bold\" lengthAdjust=\"spacingAndGlyphs\" textLength=\"75\" x=\"20\" y=\"20.9951\">ImportTest</text></a><!--MD5=[e4f7fae6ed58524ba242bb0b0d3be6b7]\n",
       "cluster E2--><a href=\"psysml:9ed5d6a5-603c-4e6a-bfc8-60e703dcd2fe\" target=\"_top\" title=\"psysml:9ed5d6a5-603c-4e6a-bfc8-60e703dcd2fe\" xlink:actuate=\"onRequest\" xlink:href=\"psysml:9ed5d6a5-603c-4e6a-bfc8-60e703dcd2fe\" xlink:show=\"new\" xlink:title=\"psysml:9ed5d6a5-603c-4e6a-bfc8-60e703dcd2fe\" xlink:type=\"simple\"><polygon fill=\"#FFFFFF\" points=\"222,57,263,57,270,79.2969,468,79.2969,468,170,222,170,222,57\" style=\"stroke: #000000; stroke-width: 1.5;\"/><line style=\"stroke: #000000; stroke-width: 1.5;\" x1=\"222\" x2=\"270\" y1=\"79.2969\" y2=\"79.2969\"/><text fill=\"#000000\" font-family=\"sans-serif\" font-size=\"14\" font-weight=\"bold\" lengthAdjust=\"spacingAndGlyphs\" textLength=\"35\" x=\"226\" y=\"71.9951\">Pkg1</text></a><!--MD5=[de5ec2e2e8f62f467e546659f5068c88]\n",
       "cluster E5--><a href=\"psysml:63b0367b-32f1-46aa-9fe1-f934424c590d\" target=\"_top\" title=\"psysml:63b0367b-32f1-46aa-9fe1-f934424c590d\" xlink:actuate=\"onRequest\" xlink:href=\"psysml:63b0367b-32f1-46aa-9fe1-f934424c590d\" xlink:show=\"new\" xlink:title=\"psysml:63b0367b-32f1-46aa-9fe1-f934424c590d\" xlink:type=\"simple\"><polygon fill=\"#FFFFFF\" points=\"121,235,162,235,169,257.2969,434,257.2969,434,546,121,546,121,235\" style=\"stroke: #000000; stroke-width: 1.5;\"/><line style=\"stroke: #000000; stroke-width: 1.5;\" x1=\"121\" x2=\"169\" y1=\"257.2969\" y2=\"257.2969\"/><text fill=\"#000000\" font-family=\"sans-serif\" font-size=\"14\" font-weight=\"bold\" lengthAdjust=\"spacingAndGlyphs\" textLength=\"35\" x=\"125\" y=\"249.9951\">Pkg2</text></a><!--MD5=[14e3b0961a2654348d326746436168a1]\n",
       "cluster E6--><a href=\"psysml:98b17091-6ea5-4037-8451-bfddc724f9d0\" target=\"_top\" title=\"psysml:98b17091-6ea5-4037-8451-bfddc724f9d0\" xlink:actuate=\"onRequest\" xlink:href=\"psysml:98b17091-6ea5-4037-8451-bfddc724f9d0\" xlink:show=\"new\" xlink:title=\"psysml:98b17091-6ea5-4037-8451-bfddc724f9d0\" xlink:type=\"simple\"><polygon fill=\"#FFFFFF\" points=\"161,294,211,294,218,316.2969,386,316.2969,386,506,161,506,161,294\" style=\"stroke: #000000; stroke-width: 1.5;\"/><line style=\"stroke: #000000; stroke-width: 1.5;\" x1=\"161\" x2=\"218\" y1=\"316.2969\" y2=\"316.2969\"/><text fill=\"#000000\" font-family=\"sans-serif\" font-size=\"14\" font-weight=\"bold\" lengthAdjust=\"spacingAndGlyphs\" textLength=\"44\" x=\"165\" y=\"308.9951\">Pkg21</text></a><!--MD5=[168fadf3d0c3fd93dd5d6da1b1d7ab76]\n",
       "cluster E7--><a href=\"psysml:45f4d7ec-8fdd-4896-89d5-a877e9eb4cf9\" target=\"_top\" title=\"psysml:45f4d7ec-8fdd-4896-89d5-a877e9eb4cf9\" xlink:actuate=\"onRequest\" xlink:href=\"psysml:45f4d7ec-8fdd-4896-89d5-a877e9eb4cf9\" xlink:show=\"new\" xlink:title=\"psysml:45f4d7ec-8fdd-4896-89d5-a877e9eb4cf9\" xlink:type=\"simple\"><polygon fill=\"#FFFFFF\" points=\"209,353,268,353,275,375.2969,346,375.2969,346,466,209,466,209,353\" style=\"stroke: #000000; stroke-width: 1.5;\"/><line style=\"stroke: #000000; stroke-width: 1.5;\" x1=\"209\" x2=\"275\" y1=\"375.2969\" y2=\"375.2969\"/><text fill=\"#000000\" font-family=\"sans-serif\" font-size=\"14\" font-weight=\"bold\" lengthAdjust=\"spacingAndGlyphs\" textLength=\"53\" x=\"213\" y=\"367.9951\">Pkg211</text></a><!--MD5=[09b614a08d8cba4a07c9adeb5e0fee81]\n",
       "class E3--><a href=\"psysml:380b438c-f0d0-40f2-a10d-c83a46ac62de\" target=\"_top\" title=\"psysml:380b438c-f0d0-40f2-a10d-c83a46ac62de\" xlink:actuate=\"onRequest\" xlink:href=\"psysml:380b438c-f0d0-40f2-a10d-c83a46ac62de\" xlink:show=\"new\" xlink:title=\"psysml:380b438c-f0d0-40f2-a10d-c83a46ac62de\" xlink:type=\"simple\"><rect fill=\"#FFFFFF\" height=\"45.9375\" id=\"E3\" rx=\"10\" ry=\"10\" style=\"stroke: #383838; stroke-width: 1.5;\" width=\"74\" x=\"265\" y=\"100\"/><text fill=\"#000000\" font-family=\"sans-serif\" font-size=\"12\" font-style=\"italic\" lengthAdjust=\"spacingAndGlyphs\" textLength=\"40\" x=\"282\" y=\"116.1387\">«part»</text><text fill=\"#000000\" font-family=\"sans-serif\" font-size=\"12\" lengthAdjust=\"spacingAndGlyphs\" textLength=\"64\" x=\"268\" y=\"130.1074\">p11: P211</text><line style=\"stroke: #383838; stroke-width: 1.5;\" x1=\"266\" x2=\"338\" y1=\"137.9375\" y2=\"137.9375\"/></a><!--MD5=[ebbe1d658d1005bcc118a6aa81145e00]\n",
       "class E4--><a href=\"psysml:4c18927e-9f3a-4bbe-ae04-0ff2b7ea0a78\" target=\"_top\" title=\"psysml:4c18927e-9f3a-4bbe-ae04-0ff2b7ea0a78\" xlink:actuate=\"onRequest\" xlink:href=\"psysml:4c18927e-9f3a-4bbe-ae04-0ff2b7ea0a78\" xlink:show=\"new\" xlink:title=\"psysml:4c18927e-9f3a-4bbe-ae04-0ff2b7ea0a78\" xlink:type=\"simple\"><rect fill=\"#FFFFFF\" height=\"45.9375\" id=\"E4\" style=\"stroke: #383838; stroke-width: 1.5;\" width=\"70\" x=\"374\" y=\"100\"/><text fill=\"#000000\" font-family=\"sans-serif\" font-size=\"12\" font-style=\"italic\" lengthAdjust=\"spacingAndGlyphs\" textLength=\"68\" x=\"375\" y=\"116.1387\">«part  def»</text><text fill=\"#000000\" font-family=\"sans-serif\" font-size=\"12\" lengthAdjust=\"spacingAndGlyphs\" textLength=\"24\" x=\"397\" y=\"130.1074\">P12</text><line style=\"stroke: #383838; stroke-width: 1.5;\" x1=\"375\" x2=\"443\" y1=\"137.9375\" y2=\"137.9375\"/></a><!--MD5=[b9389687b975829384b498ac4b7476b2]\n",
       "class E8--><a href=\"psysml:b4068f35-75bf-4c63-8263-9508faa965fc\" target=\"_top\" title=\"psysml:b4068f35-75bf-4c63-8263-9508faa965fc\" xlink:actuate=\"onRequest\" xlink:href=\"psysml:b4068f35-75bf-4c63-8263-9508faa965fc\" xlink:show=\"new\" xlink:title=\"psysml:b4068f35-75bf-4c63-8263-9508faa965fc\" xlink:type=\"simple\"><rect fill=\"#FFFFFF\" height=\"45.9375\" id=\"E8\" style=\"stroke: #383838; stroke-width: 1.5;\" width=\"70\" x=\"252\" y=\"396\"/><text fill=\"#000000\" font-family=\"sans-serif\" font-size=\"12\" font-style=\"italic\" lengthAdjust=\"spacingAndGlyphs\" textLength=\"68\" x=\"253\" y=\"412.1387\">«part  def»</text><text fill=\"#000000\" font-family=\"sans-serif\" font-size=\"12\" lengthAdjust=\"spacingAndGlyphs\" textLength=\"32\" x=\"271\" y=\"426.1074\">P211</text><line style=\"stroke: #383838; stroke-width: 1.5;\" x1=\"253\" x2=\"321\" y1=\"433.9375\" y2=\"433.9375\"/></a><!--MD5=[b0060bfdb0500b904584095522b4da3c]\n",
       "link E2 to E8--><a href=\"psysml:86dbe04c-b04a-4ec6-a347-5e4f000abe00\" target=\"_top\" title=\"psysml:86dbe04c-b04a-4ec6-a347-5e4f000abe00\" xlink:actuate=\"onRequest\" xlink:href=\"psysml:86dbe04c-b04a-4ec6-a347-5e4f000abe00\" xlink:show=\"new\" xlink:title=\"psysml:86dbe04c-b04a-4ec6-a347-5e4f000abe00\" xlink:type=\"simple\"><path d=\"M244.141,170.1434 C244.2057,170.3545 244.27,170.5643 244.3339,170.7729 C244.4617,171.1899 244.5879,171.6018 244.7124,172.0081 C245.2104,173.633 245.6806,175.1677 246.1144,176.5831 C247.8494,182.245 249,186 249,186 C249,186 264,194 264,194 C264,194 278.03,330.67 284.18,390.5 \" fill=\"none\" id=\"E2-&gt;E8\" style=\"stroke: #383838; stroke-width: 1.0; stroke-dasharray: 7.0,7.0;\"/><polygon fill=\"#383838\" points=\"284.71,395.7,287.7627,386.3362,284.1955,390.7265,279.8051,387.1594,284.71,395.7\" style=\"stroke: #383838; stroke-width: 1.0;\"/><text fill=\"#000000\" font-family=\"sans-serif\" font-size=\"13\" lengthAdjust=\"spacingAndGlyphs\" textLength=\"58\" x=\"266\" y=\"207.0669\">«import»</text></a><!--MD5=[e3e28c1befcf002155aa15e1416b4315]\n",
       "link E2 to E6--><a href=\"psysml:b4797686-9eb8-4e8e-a70f-411a8a1a5c6c\" target=\"_top\" title=\"psysml:b4797686-9eb8-4e8e-a70f-411a8a1a5c6c\" xlink:actuate=\"onRequest\" xlink:href=\"psysml:b4797686-9eb8-4e8e-a70f-411a8a1a5c6c\" xlink:show=\"new\" xlink:title=\"psysml:b4797686-9eb8-4e8e-a70f-411a8a1a5c6c\" xlink:type=\"simple\"><path d=\"M221.8378,128.263 C221.7063,128.3317 221.5734,128.4012 221.4391,128.4713 C220.902,128.752 220.3429,129.044 219.7629,129.3471 C218.6029,129.9531 217.359,130.603 216.0391,131.2926 C213.3993,132.6717 210.4553,134.2098 207.2695,135.8741 C194.5266,142.5313 177.9156,151.2088 161.4313,159.82 C128.4625,177.0425 96,194 96,194 C96,194 96,211 96,211 C96,211 113.685,261.145 131.6463,312.0738 C140.6269,337.5381 149.6766,363.1984 156.6192,382.8845 C157.4871,385.3453 158.322,387.7127 159.1197,389.9747 C159.5186,391.1057 159.9081,392.2104 160.2879,393.2872 C160.4778,393.8256 160.6652,394.357 160.8501,394.8813 \" fill=\"none\" id=\"E2-&gt;E6\" style=\"stroke: #383838; stroke-width: 1.0; stroke-dasharray: 7.0,7.0;\"/><polygon fill=\"#383838\" points=\"160.8501,394.8813,161.6291,385.0633,159.1871,390.166,154.0845,387.724,160.8501,394.8813\" style=\"stroke: #383838; stroke-width: 1.0;\"/><text fill=\"#000000\" font-family=\"sans-serif\" font-size=\"13\" lengthAdjust=\"spacingAndGlyphs\" textLength=\"65\" x=\"97\" y=\"207.0669\">«import»*</text></a><!--MD5=[e3d2a08a9c9236652057e8ed0cbc9b62]\n",
       "link E2 to E7--><a href=\"psysml:c873f416-4fb0-4522-b4d5-2fc0ff0d8008\" target=\"_top\" title=\"psysml:c873f416-4fb0-4522-b4d5-2fc0ff0d8008\" xlink:actuate=\"onRequest\" xlink:href=\"psysml:c873f416-4fb0-4522-b4d5-2fc0ff0d8008\" xlink:show=\"new\" xlink:title=\"psysml:c873f416-4fb0-4522-b4d5-2fc0ff0d8008\" xlink:type=\"simple\"><path d=\"M221.7702,133.7649 C221.6886,133.8616 221.6067,133.9589 221.5242,134.0567 C221.3593,134.2523 221.1926,134.4501 221.0241,134.65 C220.6871,135.0498 220.3431,135.458 219.9923,135.8741 C214.3809,142.5313 207.0669,151.2088 199.8087,159.82 C185.2925,177.0425 171,194 171,194 C171,194 171,211 171,211 C171,211 213,219 213,219 C213,219 213.97,267.2075 214.955,316.1688 C215.2013,328.4091 215.4484,340.6965 215.6816,352.2896 \" fill=\"none\" id=\"E2-&gt;E7\" style=\"stroke: #383838; stroke-width: 1.0; stroke-dasharray: 7.0,7.0;\"/><polygon fill=\"#383838\" points=\"215.6816,352.2896,219.4998,343.2109,215.5811,347.2906,211.5014,343.3718,215.6816,352.2896\" style=\"stroke: #383838; stroke-width: 1.0;\"/><text fill=\"#000000\" font-family=\"sans-serif\" font-size=\"13\" lengthAdjust=\"spacingAndGlyphs\" textLength=\"87\" x=\"172\" y=\"207.0669\">«import»*::**</text></a><!--MD5=[ca5a752d6098d8a44b3f88316e7452d1]\n",
       "link E3 to E8--><a href=\"psysml:bb41b158-76b0-47f5-886e-e2f97e00e6aa\" target=\"_top\" title=\"psysml:bb41b158-76b0-47f5-886e-e2f97e00e6aa\" xlink:actuate=\"onRequest\" xlink:href=\"psysml:bb41b158-76b0-47f5-886e-e2f97e00e6aa\" xlink:show=\"new\" xlink:title=\"psysml:bb41b158-76b0-47f5-886e-e2f97e00e6aa\" xlink:type=\"simple\"><path d=\"M321.62,146.15 C339.78,166.66 364,194 364,194 C364,194 364,211 364,211 C364,211 326,219 326,219 C326,219 306.63,317.82 295.19,376.19 \" fill=\"none\" id=\"E3-&gt;E8\" style=\"stroke: #383838; stroke-width: 1.0;\"/><polygon fill=\"#FFFFFF\" points=\"291.32,395.94,288.1009,375.9491,301.8401,378.6389,291.32,395.94\" style=\"stroke: #383838; stroke-width: 1.0;\"/><ellipse cx=\"291.1588\" cy=\"370.7395\" fill=\"#383838\" rx=\"2\" ry=\"2\" style=\"stroke: #383838; stroke-width: 1.0;\"/><ellipse cx=\"300.9725\" cy=\"372.6608\" fill=\"#383838\" rx=\"2\" ry=\"2\" style=\"stroke: #383838; stroke-width: 1.0;\"/></a><!--MD5=[15ebcb19ae302d9b601edb458606d402]\n",
       "link E5 to E2--><a href=\"psysml:cb98c000-d2e0-4059-b3dc-41ff4d975042\" target=\"_top\" title=\"psysml:cb98c000-d2e0-4059-b3dc-41ff4d975042\" xlink:actuate=\"onRequest\" xlink:href=\"psysml:cb98c000-d2e0-4059-b3dc-41ff4d975042\" xlink:show=\"new\" xlink:title=\"psysml:cb98c000-d2e0-4059-b3dc-41ff4d975042\" xlink:type=\"simple\"><path d=\"M350.0108,234.9703 C349.8689,234.6284 349.7275,234.288 349.5868,233.9491 C349.3055,233.2714 349.0266,232.5998 348.7504,231.9345 C348.1979,230.6039 347.6559,229.2986 347.1252,228.0202 C338.6325,207.5656 333,194 333,194 C333,194 249,186 249,186 C249,186 247.8494,182.245 246.1144,176.5831 C245.6806,175.1677 245.2104,173.633 244.7124,172.0081 C244.5879,171.6018 244.4617,171.1899 244.3339,170.7729 C244.27,170.5643 244.2057,170.3545 244.141,170.1434 \" fill=\"none\" id=\"E5-&gt;E2\" style=\"stroke: #383838; stroke-width: 1.0; stroke-dasharray: 7.0,7.0;\"/><polygon fill=\"#383838\" points=\"244.141,170.1434,242.9535,179.9204,245.606,174.924,250.6024,177.5765,244.141,170.1434\" style=\"stroke: #383838; stroke-width: 1.0;\"/><text fill=\"#000000\" font-family=\"sans-serif\" font-size=\"13\" lengthAdjust=\"spacingAndGlyphs\" textLength=\"65\" x=\"340\" y=\"207.0669\">«import»*</text></a><!--MD5=[d7bb3fb34add81b710575eb3799fa2ad]\n",
       "link E8 to E4--><a href=\"psysml:ff856c1d-ebaf-4dbc-8ba8-d8c60136e299\" target=\"_top\" title=\"psysml:ff856c1d-ebaf-4dbc-8ba8-d8c60136e299\" xlink:actuate=\"onRequest\" xlink:href=\"psysml:ff856c1d-ebaf-4dbc-8ba8-d8c60136e299\" xlink:show=\"new\" xlink:title=\"psysml:ff856c1d-ebaf-4dbc-8ba8-d8c60136e299\" xlink:type=\"simple\"><path d=\"M291.32,395.94 C301.48,344.13 326,219 326,219 C326,219 478,211 478,211 C478,211 478,194 478,194 C478,194 461.71,177.48 444.97,160.49 \" fill=\"none\" id=\"E8-&gt;E4\" style=\"stroke: #383838; stroke-width: 1.0;\"/><polygon fill=\"none\" points=\"439.89,165.31,430.83,146.15,449.86,155.48,439.89,165.31\" style=\"stroke: #383838; stroke-width: 1.0;\"/></a><!--MD5=[5d2c0ea42b617a2ba87af3556f4878dc]\n",
       "@startuml\r\n",
       "skinparam linetype polyline\r\n",
       "skinparam monochrome true\r\n",
       "skinparam classbackgroundcolor white\r\n",
       "skinparam shadowing false\r\n",
       "skinparam wrapWidth 300\r\n",
       "hide circle\r\n",
       "\r\n",
       "package \"ImportTest\" as E1  [[psysml:789e6656-6985-4918-a680-b12b42056b24 ]]  {\r\n",
       "package \"Pkg1\" as E2  [[psysml:9ed5d6a5-603c-4e6a-bfc8-60e703dcd2fe ]]  {\r\n",
       "comp usage \"p11: P211 \" as E3  <<(T,blue) part>> [[psysml:380b438c-f0d0-40f2-a10d-c83a46ac62de ]] {\r\n",
       "}\r\n",
       "comp def \"P12\" as E4  <<(T,blue) part  def>> [[psysml:4c18927e-9f3a-4bbe-ae04-0ff2b7ea0a78 ]] {\r\n",
       "}\r\n",
       "}\r\n",
       "package \"Pkg2\" as E5  [[psysml:63b0367b-32f1-46aa-9fe1-f934424c590d ]]  {\r\n",
       "package \"Pkg21\" as E6  [[psysml:98b17091-6ea5-4037-8451-bfddc724f9d0 ]]  {\r\n",
       "package \"Pkg211\" as E7  [[psysml:45f4d7ec-8fdd-4896-89d5-a877e9eb4cf9 ]]  {\r\n",
       "comp def \"P211\" as E8  <<(T,blue) part  def>> [[psysml:b4068f35-75bf-4c63-8263-9508faa965fc ]] {\r\n",
       "}\r\n",
       "}\r\n",
       "}\r\n",
       "}\r\n",
       "}\r\n",
       "E2 ..> E8 [[psysml:86dbe04c-b04a-4ec6-a347-5e4f000abe00 ]] : <<import>>\r\n",
       "E2 ..> E6 [[psysml:b4797686-9eb8-4e8e-a70f-411a8a1a5c6c ]] : <<import>>*\r\n",
       "E2 ..> E7 [[psysml:c873f416-4fb0-4522-b4d5-2fc0ff0d8008 ]] : <<import>>*::**\r\n",
       "E3 - -:|> E8 [[psysml:bb41b158-76b0-47f5-886e-e2f97e00e6aa ]] \r\n",
       "E5 ..> E2 [[psysml:cb98c000-d2e0-4059-b3dc-41ff4d975042 ]] : <<import>>*\r\n",
       "E8 - -|> E4 [[psysml:ff856c1d-ebaf-4dbc-8ba8-d8c60136e299 ]] \r\n",
       "@enduml\r\n",
       "\n",
       "PlantUML version 1.2020.13(Sat Jun 13 12:26:38 UTC 2020)\n",
       "(EPL source distribution)\n",
       "Java Runtime: OpenJDK Runtime Environment\n",
       "JVM: OpenJDK 64-Bit Server VM\n",
       "Default Encoding: UTF-8\n",
       "Language: en\n",
       "Country: null\n",
       "--></g></svg>"
      ]
     },
     "execution_count": 15,
     "metadata": {},
     "output_type": "execute_result"
    }
   ],
   "source": [
    "%viz --style=\"POLYLINE\" --view=\"MIXED\" \"ImportTest\""
   ]
  },
  {
   "cell_type": "code",
   "execution_count": 16,
   "id": "e2070ef5",
   "metadata": {
    "execution": {
     "iopub.execute_input": "2022-08-19T08:17:19.853810Z",
     "iopub.status.busy": "2022-08-19T08:17:19.853342Z",
     "iopub.status.idle": "2022-08-19T08:17:19.899705Z",
     "shell.execute_reply": "2022-08-19T08:17:19.899266Z"
    }
   },
   "outputs": [
    {
     "data": {
      "image/svg+xml": [
       "<?xml version=\"1.0\" encoding=\"UTF-8\" standalone=\"no\"?><svg xmlns=\"http://www.w3.org/2000/svg\" xmlns:xlink=\"http://www.w3.org/1999/xlink\" contentScriptType=\"application/ecmascript\" contentStyleType=\"text/css\" height=\"447px\" preserveAspectRatio=\"none\" style=\"width:639px;height:447px;\" version=\"1.1\" viewBox=\"0 0 639 447\" width=\"639px\" zoomAndPan=\"magnify\"><defs/><g><!--MD5=[fbc87193dbaf4d95561dea2c320d4a47]\n",
       "cluster E1--><a href=\"psysml:789e6656-6985-4918-a680-b12b42056b24\" target=\"_top\" title=\"psysml:789e6656-6985-4918-a680-b12b42056b24\" xlink:actuate=\"onRequest\" xlink:href=\"psysml:789e6656-6985-4918-a680-b12b42056b24\" xlink:show=\"new\" xlink:title=\"psysml:789e6656-6985-4918-a680-b12b42056b24\" xlink:type=\"simple\"><polygon fill=\"#FFFFFF\" points=\"16,6,97,6,104,28.2969,617,28.2969,617,435,16,435,16,6\" style=\"stroke: #000000; stroke-width: 1.5;\"/><line style=\"stroke: #000000; stroke-width: 1.5;\" x1=\"16\" x2=\"104\" y1=\"28.2969\" y2=\"28.2969\"/><text fill=\"#000000\" font-family=\"sans-serif\" font-size=\"14\" font-weight=\"bold\" lengthAdjust=\"spacingAndGlyphs\" textLength=\"75\" x=\"20\" y=\"20.9951\">ImportTest</text></a><!--MD5=[e4f7fae6ed58524ba242bb0b0d3be6b7]\n",
       "cluster E2--><a href=\"psysml:9ed5d6a5-603c-4e6a-bfc8-60e703dcd2fe\" target=\"_top\" title=\"psysml:9ed5d6a5-603c-4e6a-bfc8-60e703dcd2fe\" xlink:actuate=\"onRequest\" xlink:href=\"psysml:9ed5d6a5-603c-4e6a-bfc8-60e703dcd2fe\" xlink:show=\"new\" xlink:title=\"psysml:9ed5d6a5-603c-4e6a-bfc8-60e703dcd2fe\" xlink:type=\"simple\"><polygon fill=\"#FFFFFF\" points=\"48,83,89,83,96,105.2969,170,105.2969,170,296,48,296,48,83\" style=\"stroke: #000000; stroke-width: 1.5;\"/><line style=\"stroke: #000000; stroke-width: 1.5;\" x1=\"48\" x2=\"96\" y1=\"105.2969\" y2=\"105.2969\"/><text fill=\"#000000\" font-family=\"sans-serif\" font-size=\"14\" font-weight=\"bold\" lengthAdjust=\"spacingAndGlyphs\" textLength=\"35\" x=\"52\" y=\"97.9951\">Pkg1</text></a><!--MD5=[de5ec2e2e8f62f467e546659f5068c88]\n",
       "cluster E5--><a href=\"psysml:63b0367b-32f1-46aa-9fe1-f934424c590d\" target=\"_top\" title=\"psysml:63b0367b-32f1-46aa-9fe1-f934424c590d\" xlink:actuate=\"onRequest\" xlink:href=\"psysml:63b0367b-32f1-46aa-9fe1-f934424c590d\" xlink:show=\"new\" xlink:title=\"psysml:63b0367b-32f1-46aa-9fe1-f934424c590d\" xlink:type=\"simple\"><polygon fill=\"#FFFFFF\" points=\"307,57,348,57,355,79.2969,585,79.2969,585,403,307,403,307,57\" style=\"stroke: #000000; stroke-width: 1.5;\"/><line style=\"stroke: #000000; stroke-width: 1.5;\" x1=\"307\" x2=\"355\" y1=\"79.2969\" y2=\"79.2969\"/><text fill=\"#000000\" font-family=\"sans-serif\" font-size=\"14\" font-weight=\"bold\" lengthAdjust=\"spacingAndGlyphs\" textLength=\"35\" x=\"311\" y=\"71.9951\">Pkg2</text></a><!--MD5=[14e3b0961a2654348d326746436168a1]\n",
       "cluster E6--><a href=\"psysml:98b17091-6ea5-4037-8451-bfddc724f9d0\" target=\"_top\" title=\"psysml:98b17091-6ea5-4037-8451-bfddc724f9d0\" xlink:actuate=\"onRequest\" xlink:href=\"psysml:98b17091-6ea5-4037-8451-bfddc724f9d0\" xlink:show=\"new\" xlink:title=\"psysml:98b17091-6ea5-4037-8451-bfddc724f9d0\" xlink:type=\"simple\"><polygon fill=\"#FFFFFF\" points=\"347,124,397,124,404,146.2969,545,146.2969,545,363,347,363,347,124\" style=\"stroke: #000000; stroke-width: 1.5;\"/><line style=\"stroke: #000000; stroke-width: 1.5;\" x1=\"347\" x2=\"404\" y1=\"146.2969\" y2=\"146.2969\"/><text fill=\"#000000\" font-family=\"sans-serif\" font-size=\"14\" font-weight=\"bold\" lengthAdjust=\"spacingAndGlyphs\" textLength=\"44\" x=\"351\" y=\"138.9951\">Pkg21</text></a><!--MD5=[168fadf3d0c3fd93dd5d6da1b1d7ab76]\n",
       "cluster E7--><a href=\"psysml:45f4d7ec-8fdd-4896-89d5-a877e9eb4cf9\" target=\"_top\" title=\"psysml:45f4d7ec-8fdd-4896-89d5-a877e9eb4cf9\" xlink:actuate=\"onRequest\" xlink:href=\"psysml:45f4d7ec-8fdd-4896-89d5-a877e9eb4cf9\" xlink:show=\"new\" xlink:title=\"psysml:45f4d7ec-8fdd-4896-89d5-a877e9eb4cf9\" xlink:type=\"simple\"><polygon fill=\"#FFFFFF\" points=\"387,183,446,183,453,205.2969,505,205.2969,505,315,387,315,387,183\" style=\"stroke: #000000; stroke-width: 1.5;\"/><line style=\"stroke: #000000; stroke-width: 1.5;\" x1=\"387\" x2=\"453\" y1=\"205.2969\" y2=\"205.2969\"/><text fill=\"#000000\" font-family=\"sans-serif\" font-size=\"14\" font-weight=\"bold\" lengthAdjust=\"spacingAndGlyphs\" textLength=\"53\" x=\"391\" y=\"197.9951\">Pkg211</text></a><!--MD5=[09b614a08d8cba4a07c9adeb5e0fee81]\n",
       "class E3--><a href=\"psysml:380b438c-f0d0-40f2-a10d-c83a46ac62de\" target=\"_top\" title=\"psysml:380b438c-f0d0-40f2-a10d-c83a46ac62de\" xlink:actuate=\"onRequest\" xlink:href=\"psysml:380b438c-f0d0-40f2-a10d-c83a46ac62de\" xlink:show=\"new\" xlink:title=\"psysml:380b438c-f0d0-40f2-a10d-c83a46ac62de\" xlink:type=\"simple\"><rect fill=\"#FFFFFF\" height=\"45.9375\" id=\"E3\" rx=\"10\" ry=\"10\" style=\"stroke: #383838; stroke-width: 1.5;\" width=\"74\" x=\"72\" y=\"207\"/><text fill=\"#000000\" font-family=\"sans-serif\" font-size=\"12\" font-style=\"italic\" lengthAdjust=\"spacingAndGlyphs\" textLength=\"40\" x=\"89\" y=\"223.1387\">«part»</text><text fill=\"#000000\" font-family=\"sans-serif\" font-size=\"12\" lengthAdjust=\"spacingAndGlyphs\" textLength=\"64\" x=\"75\" y=\"237.1074\">p11: P211</text><line style=\"stroke: #383838; stroke-width: 1.5;\" x1=\"73\" x2=\"145\" y1=\"244.9375\" y2=\"244.9375\"/></a><!--MD5=[ebbe1d658d1005bcc118a6aa81145e00]\n",
       "class E4--><a href=\"psysml:4c18927e-9f3a-4bbe-ae04-0ff2b7ea0a78\" target=\"_top\" title=\"psysml:4c18927e-9f3a-4bbe-ae04-0ff2b7ea0a78\" xlink:actuate=\"onRequest\" xlink:href=\"psysml:4c18927e-9f3a-4bbe-ae04-0ff2b7ea0a78\" xlink:show=\"new\" xlink:title=\"psysml:4c18927e-9f3a-4bbe-ae04-0ff2b7ea0a78\" xlink:type=\"simple\"><rect fill=\"#FFFFFF\" height=\"45.9375\" id=\"E4\" style=\"stroke: #383838; stroke-width: 1.5;\" width=\"70\" x=\"74\" y=\"126\"/><text fill=\"#000000\" font-family=\"sans-serif\" font-size=\"12\" font-style=\"italic\" lengthAdjust=\"spacingAndGlyphs\" textLength=\"68\" x=\"75\" y=\"142.1387\">«part  def»</text><text fill=\"#000000\" font-family=\"sans-serif\" font-size=\"12\" lengthAdjust=\"spacingAndGlyphs\" textLength=\"24\" x=\"97\" y=\"156.1074\">P12</text><line style=\"stroke: #383838; stroke-width: 1.5;\" x1=\"75\" x2=\"143\" y1=\"163.9375\" y2=\"163.9375\"/></a><!--MD5=[b9389687b975829384b498ac4b7476b2]\n",
       "class E8--><a href=\"psysml:b4068f35-75bf-4c63-8263-9508faa965fc\" target=\"_top\" title=\"psysml:b4068f35-75bf-4c63-8263-9508faa965fc\" xlink:actuate=\"onRequest\" xlink:href=\"psysml:b4068f35-75bf-4c63-8263-9508faa965fc\" xlink:show=\"new\" xlink:title=\"psysml:b4068f35-75bf-4c63-8263-9508faa965fc\" xlink:type=\"simple\"><rect fill=\"#FFFFFF\" height=\"45.9375\" id=\"E8\" style=\"stroke: #383838; stroke-width: 1.5;\" width=\"70\" x=\"411\" y=\"226\"/><text fill=\"#000000\" font-family=\"sans-serif\" font-size=\"12\" font-style=\"italic\" lengthAdjust=\"spacingAndGlyphs\" textLength=\"68\" x=\"412\" y=\"242.1387\">«part  def»</text><text fill=\"#000000\" font-family=\"sans-serif\" font-size=\"12\" lengthAdjust=\"spacingAndGlyphs\" textLength=\"32\" x=\"430\" y=\"256.1074\">P211</text><line style=\"stroke: #383838; stroke-width: 1.5;\" x1=\"412\" x2=\"480\" y1=\"263.9375\" y2=\"263.9375\"/></a><!--MD5=[b0060bfdb0500b904584095522b4da3c]\n",
       "link E2 to E8--><a href=\"psysml:86dbe04c-b04a-4ec6-a347-5e4f000abe00\" target=\"_top\" title=\"psysml:86dbe04c-b04a-4ec6-a347-5e4f000abe00\" xlink:actuate=\"onRequest\" xlink:href=\"psysml:86dbe04c-b04a-4ec6-a347-5e4f000abe00\" xlink:show=\"new\" xlink:title=\"psysml:86dbe04c-b04a-4ec6-a347-5e4f000abe00\" xlink:type=\"simple\"><path d=\"M171.0923,280.8853 C171.4965,280.8383 171.9021,280.7911 172.3092,280.7437 C175.5654,280.3646 178.9108,279.9751 182.3356,279.5764 C196.0348,277.9816 211.005,276.2388 226.6275,274.42 C289.1175,267.145 362.045,258.655 405.82,253.56 \" fill=\"none\" id=\"E2-&gt;E8\" style=\"stroke: #383838; stroke-width: 1.0; stroke-dasharray: 7.0,7.0;\"/><polygon fill=\"#383838\" points=\"410.91,252.97,401.5121,250.0239,405.9427,253.541,402.4256,257.9716,410.91,252.97\" style=\"stroke: #383838; stroke-width: 1.0;\"/><text fill=\"#000000\" font-family=\"sans-serif\" font-size=\"13\" lengthAdjust=\"spacingAndGlyphs\" textLength=\"58\" x=\"209.5\" y=\"265.0669\">«import»</text></a><!--MD5=[e3e28c1befcf002155aa15e1416b4315]\n",
       "link E2 to E6--><a href=\"psysml:b4797686-9eb8-4e8e-a70f-411a8a1a5c6c\" target=\"_top\" title=\"psysml:b4797686-9eb8-4e8e-a70f-411a8a1a5c6c\" xlink:actuate=\"onRequest\" xlink:href=\"psysml:b4797686-9eb8-4e8e-a70f-411a8a1a5c6c\" xlink:show=\"new\" xlink:title=\"psysml:b4797686-9eb8-4e8e-a70f-411a8a1a5c6c\" xlink:type=\"simple\"><path d=\"M120.3348,296.1648 C120.4168,296.2267 120.4991,296.2889 120.5819,296.3513 C121.2441,296.851 121.9332,297.3672 122.6479,297.8983 C124.0773,298.9606 125.6092,300.0826 127.2339,301.2511 C130.4832,303.588 134.1034,306.1109 138.0163,308.7138 C153.6675,319.125 174,330.815 194,337 C220.295,345.13 248.8488,350.3488 276.9572,353.5967 C291.0114,355.2207 304.9543,356.352 318.4479,357.1081 C325.1946,357.4862 331.8291,357.7705 338.3089,357.9757 C339.9289,358.027 341.5392,358.0734 343.1392,358.115 C343.9392,358.1358 344.7366,358.1555 345.5313,358.174 C345.9287,358.1832 346.3254,358.1922 346.7214,358.2009 \" fill=\"none\" id=\"E2-&gt;E6\" style=\"stroke: #383838; stroke-width: 1.0; stroke-dasharray: 7.0,7.0;\"/><polygon fill=\"#383838\" points=\"346.7214,358.2009,337.8112,354.0047,341.7226,358.0914,337.636,362.0028,346.7214,358.2009\" style=\"stroke: #383838; stroke-width: 1.0;\"/><text fill=\"#000000\" font-family=\"sans-serif\" font-size=\"13\" lengthAdjust=\"spacingAndGlyphs\" textLength=\"65\" x=\"206\" y=\"333.0669\">«import»*</text></a><!--MD5=[e3d2a08a9c9236652057e8ed0cbc9b62]\n",
       "link E2 to E7--><a href=\"psysml:c873f416-4fb0-4522-b4d5-2fc0ff0d8008\" target=\"_top\" title=\"psysml:c873f416-4fb0-4522-b4d5-2fc0ff0d8008\" xlink:actuate=\"onRequest\" xlink:href=\"psysml:c873f416-4fb0-4522-b4d5-2fc0ff0d8008\" xlink:show=\"new\" xlink:title=\"psysml:c873f416-4fb0-4522-b4d5-2fc0ff0d8008\" xlink:type=\"simple\"><path d=\"M134.0945,296.0694 C134.3286,296.1416 134.5639,296.214 134.8003,296.2866 C135.2733,296.4318 135.751,296.5778 136.2332,296.7244 C137.1977,297.0176 138.1805,297.3135 139.18,297.6113 C155.1725,302.375 175.46,307.61 194,310 C207.615,311.755 268.6325,311.055 327.0925,309.8913 C341.7075,309.6003 356.1627,309.2804 369.6773,308.9626 C373.056,308.8831 376.3759,308.8038 379.6248,308.7251 C381.2493,308.6858 382.856,308.6466 384.4434,308.6076 C385.2372,308.5881 386.0261,308.5687 386.81,308.5493 \" fill=\"none\" id=\"E2-&gt;E7\" style=\"stroke: #383838; stroke-width: 1.0; stroke-dasharray: 7.0,7.0;\"/><polygon fill=\"#383838\" points=\"386.81,308.5493,377.7139,304.7729,381.8115,308.6729,377.9115,312.7705,386.81,308.5493\" style=\"stroke: #383838; stroke-width: 1.0;\"/><text fill=\"#000000\" font-family=\"sans-serif\" font-size=\"13\" lengthAdjust=\"spacingAndGlyphs\" textLength=\"87\" x=\"195\" y=\"306.0669\">«import»*::**</text></a><!--MD5=[ca5a752d6098d8a44b3f88316e7452d1]\n",
       "link E3 to E8--><a href=\"psysml:bb41b158-76b0-47f5-886e-e2f97e00e6aa\" target=\"_top\" title=\"psysml:bb41b158-76b0-47f5-886e-e2f97e00e6aa\" xlink:actuate=\"onRequest\" xlink:href=\"psysml:bb41b158-76b0-47f5-886e-e2f97e00e6aa\" xlink:show=\"new\" xlink:title=\"psysml:bb41b158-76b0-47f5-886e-e2f97e00e6aa\" xlink:type=\"simple\"><path d=\"M146.15,229.44 C181.17,229.13 235.77,229.25 283,232 C319.01,234.09 359.36,238.32 390.78,242.04 \" fill=\"none\" id=\"E3-&gt;E8\" style=\"stroke: #383838; stroke-width: 1.0;\"/><polygon fill=\"#FFFFFF\" points=\"410.94,244.5,391.2303,249.14,392.9311,235.2437,410.94,244.5\" style=\"stroke: #383838; stroke-width: 1.0;\"/><ellipse cx=\"385.8155\" cy=\"246.4623\" fill=\"#383838\" rx=\"2\" ry=\"2\" style=\"stroke: #383838; stroke-width: 1.0;\"/><ellipse cx=\"387.0304\" cy=\"236.5364\" fill=\"#383838\" rx=\"2\" ry=\"2\" style=\"stroke: #383838; stroke-width: 1.0;\"/></a><!--MD5=[15ebcb19ae302d9b601edb458606d402]\n",
       "link E5 to E2--><a href=\"psysml:cb98c000-d2e0-4059-b3dc-41ff4d975042\" target=\"_top\" title=\"psysml:cb98c000-d2e0-4059-b3dc-41ff4d975042\" xlink:actuate=\"onRequest\" xlink:href=\"psysml:cb98c000-d2e0-4059-b3dc-41ff4d975042\" xlink:show=\"new\" xlink:title=\"psysml:cb98c000-d2e0-4059-b3dc-41ff4d975042\" xlink:type=\"simple\"><path d=\"M306.9419,148.5019 C293.2305,156.7974 279.4227,165.8752 266.0022,175.7247 C239.1613,195.4237 213.87,218.21 194,244 C186.88,253.24 194.51,261.02 186,269 C182.9237,271.8837 179.4781,274.3477 175.7977,276.4511 C173.9575,277.5028 172.0586,278.4645 170.1178,279.3434 \" fill=\"none\" id=\"E5-&gt;E2\" style=\"stroke: #383838; stroke-width: 1.0; stroke-dasharray: 7.0,7.0;\"/><polygon fill=\"#383838\" points=\"170.1178,279.3434,179.9664,279.2743,174.6725,277.2807,176.6661,271.9868,170.1178,279.3434\" style=\"stroke: #383838; stroke-width: 1.0;\"/><text fill=\"#000000\" font-family=\"sans-serif\" font-size=\"13\" lengthAdjust=\"spacingAndGlyphs\" textLength=\"65\" x=\"206\" y=\"164.0669\">«import»*</text></a><!--MD5=[d7bb3fb34add81b710575eb3799fa2ad]\n",
       "link E8 to E4--><a href=\"psysml:ff856c1d-ebaf-4dbc-8ba8-d8c60136e299\" target=\"_top\" title=\"psysml:ff856c1d-ebaf-4dbc-8ba8-d8c60136e299\" xlink:actuate=\"onRequest\" xlink:href=\"psysml:ff856c1d-ebaf-4dbc-8ba8-d8c60136e299\" xlink:show=\"new\" xlink:title=\"psysml:ff856c1d-ebaf-4dbc-8ba8-d8c60136e299\" xlink:type=\"simple\"><path d=\"M410.85,253.61 C375.55,256.27 321.45,254.1 291,222 C270.67,200.56 304.71,176.04 283,156 C251.69,127.1 202.01,128.06 163.91,134.67 \" fill=\"none\" id=\"E8-&gt;E4\" style=\"stroke: #383838; stroke-width: 1.0;\"/><polygon fill=\"none\" points=\"165.12,141.57,144.12,138.77,162.28,127.86,165.12,141.57\" style=\"stroke: #383838; stroke-width: 1.0;\"/></a><!--MD5=[fd4ac8e3a62ae2d1a02cb305dc836e80]\n",
       "@startuml\r\n",
       "left to right direction\r\n",
       "skinparam monochrome true\r\n",
       "skinparam classbackgroundcolor white\r\n",
       "skinparam shadowing false\r\n",
       "skinparam wrapWidth 300\r\n",
       "hide circle\r\n",
       "\r\n",
       "package \"ImportTest\" as E1  [[psysml:789e6656-6985-4918-a680-b12b42056b24 ]]  {\r\n",
       "package \"Pkg1\" as E2  [[psysml:9ed5d6a5-603c-4e6a-bfc8-60e703dcd2fe ]]  {\r\n",
       "comp usage \"p11: P211 \" as E3  <<(T,blue) part>> [[psysml:380b438c-f0d0-40f2-a10d-c83a46ac62de ]] {\r\n",
       "}\r\n",
       "comp def \"P12\" as E4  <<(T,blue) part  def>> [[psysml:4c18927e-9f3a-4bbe-ae04-0ff2b7ea0a78 ]] {\r\n",
       "}\r\n",
       "}\r\n",
       "package \"Pkg2\" as E5  [[psysml:63b0367b-32f1-46aa-9fe1-f934424c590d ]]  {\r\n",
       "package \"Pkg21\" as E6  [[psysml:98b17091-6ea5-4037-8451-bfddc724f9d0 ]]  {\r\n",
       "package \"Pkg211\" as E7  [[psysml:45f4d7ec-8fdd-4896-89d5-a877e9eb4cf9 ]]  {\r\n",
       "comp def \"P211\" as E8  <<(T,blue) part  def>> [[psysml:b4068f35-75bf-4c63-8263-9508faa965fc ]] {\r\n",
       "}\r\n",
       "}\r\n",
       "}\r\n",
       "}\r\n",
       "}\r\n",
       "E2 ..> E8 [[psysml:86dbe04c-b04a-4ec6-a347-5e4f000abe00 ]] : <<import>>\r\n",
       "E2 ..> E6 [[psysml:b4797686-9eb8-4e8e-a70f-411a8a1a5c6c ]] : <<import>>*\r\n",
       "E2 ..> E7 [[psysml:c873f416-4fb0-4522-b4d5-2fc0ff0d8008 ]] : <<import>>*::**\r\n",
       "E3 - -:|> E8 [[psysml:bb41b158-76b0-47f5-886e-e2f97e00e6aa ]] \r\n",
       "E5 ..> E2 [[psysml:cb98c000-d2e0-4059-b3dc-41ff4d975042 ]] : <<import>>*\r\n",
       "E8 - -|> E4 [[psysml:ff856c1d-ebaf-4dbc-8ba8-d8c60136e299 ]] \r\n",
       "@enduml\r\n",
       "\n",
       "PlantUML version 1.2020.13(Sat Jun 13 12:26:38 UTC 2020)\n",
       "(EPL source distribution)\n",
       "Java Runtime: OpenJDK Runtime Environment\n",
       "JVM: OpenJDK 64-Bit Server VM\n",
       "Default Encoding: UTF-8\n",
       "Language: en\n",
       "Country: null\n",
       "--></g></svg>"
      ]
     },
     "execution_count": 16,
     "metadata": {},
     "output_type": "execute_result"
    }
   ],
   "source": [
    "%viz --style=\"LR\" --view=\"Default\" \"ImportTest\""
   ]
  },
  {
   "cell_type": "code",
   "execution_count": 17,
   "id": "1feabb4b",
   "metadata": {
    "execution": {
     "iopub.execute_input": "2022-08-19T08:17:19.949729Z",
     "iopub.status.busy": "2022-08-19T08:17:19.949143Z",
     "iopub.status.idle": "2022-08-19T08:17:20.015730Z",
     "shell.execute_reply": "2022-08-19T08:17:20.013785Z"
    }
   },
   "outputs": [
    {
     "data": {
      "image/svg+xml": [
       "<?xml version=\"1.0\" encoding=\"UTF-8\" standalone=\"no\"?><svg xmlns=\"http://www.w3.org/2000/svg\" xmlns:xlink=\"http://www.w3.org/1999/xlink\" contentScriptType=\"application/ecmascript\" contentStyleType=\"text/css\" height=\"447px\" preserveAspectRatio=\"none\" style=\"width:639px;height:447px;\" version=\"1.1\" viewBox=\"0 0 639 447\" width=\"639px\" zoomAndPan=\"magnify\"><defs/><g><!--MD5=[fbc87193dbaf4d95561dea2c320d4a47]\n",
       "cluster E1--><a href=\"psysml:789e6656-6985-4918-a680-b12b42056b24\" target=\"_top\" title=\"psysml:789e6656-6985-4918-a680-b12b42056b24\" xlink:actuate=\"onRequest\" xlink:href=\"psysml:789e6656-6985-4918-a680-b12b42056b24\" xlink:show=\"new\" xlink:title=\"psysml:789e6656-6985-4918-a680-b12b42056b24\" xlink:type=\"simple\"><polygon fill=\"#FFFFFF\" points=\"16,6,97,6,104,28.2969,617,28.2969,617,435,16,435,16,6\" style=\"stroke: #000000; stroke-width: 1.5;\"/><line style=\"stroke: #000000; stroke-width: 1.5;\" x1=\"16\" x2=\"104\" y1=\"28.2969\" y2=\"28.2969\"/><text fill=\"#000000\" font-family=\"sans-serif\" font-size=\"14\" font-weight=\"bold\" lengthAdjust=\"spacingAndGlyphs\" textLength=\"75\" x=\"20\" y=\"20.9951\">ImportTest</text></a><!--MD5=[e4f7fae6ed58524ba242bb0b0d3be6b7]\n",
       "cluster E2--><a href=\"psysml:9ed5d6a5-603c-4e6a-bfc8-60e703dcd2fe\" target=\"_top\" title=\"psysml:9ed5d6a5-603c-4e6a-bfc8-60e703dcd2fe\" xlink:actuate=\"onRequest\" xlink:href=\"psysml:9ed5d6a5-603c-4e6a-bfc8-60e703dcd2fe\" xlink:show=\"new\" xlink:title=\"psysml:9ed5d6a5-603c-4e6a-bfc8-60e703dcd2fe\" xlink:type=\"simple\"><polygon fill=\"#FFFFFF\" points=\"48,83,89,83,96,105.2969,170,105.2969,170,296,48,296,48,83\" style=\"stroke: #000000; stroke-width: 1.5;\"/><line style=\"stroke: #000000; stroke-width: 1.5;\" x1=\"48\" x2=\"96\" y1=\"105.2969\" y2=\"105.2969\"/><text fill=\"#000000\" font-family=\"sans-serif\" font-size=\"14\" font-weight=\"bold\" lengthAdjust=\"spacingAndGlyphs\" textLength=\"35\" x=\"52\" y=\"97.9951\">Pkg1</text></a><!--MD5=[de5ec2e2e8f62f467e546659f5068c88]\n",
       "cluster E5--><a href=\"psysml:63b0367b-32f1-46aa-9fe1-f934424c590d\" target=\"_top\" title=\"psysml:63b0367b-32f1-46aa-9fe1-f934424c590d\" xlink:actuate=\"onRequest\" xlink:href=\"psysml:63b0367b-32f1-46aa-9fe1-f934424c590d\" xlink:show=\"new\" xlink:title=\"psysml:63b0367b-32f1-46aa-9fe1-f934424c590d\" xlink:type=\"simple\"><polygon fill=\"#FFFFFF\" points=\"307,57,348,57,355,79.2969,585,79.2969,585,403,307,403,307,57\" style=\"stroke: #000000; stroke-width: 1.5;\"/><line style=\"stroke: #000000; stroke-width: 1.5;\" x1=\"307\" x2=\"355\" y1=\"79.2969\" y2=\"79.2969\"/><text fill=\"#000000\" font-family=\"sans-serif\" font-size=\"14\" font-weight=\"bold\" lengthAdjust=\"spacingAndGlyphs\" textLength=\"35\" x=\"311\" y=\"71.9951\">Pkg2</text></a><!--MD5=[14e3b0961a2654348d326746436168a1]\n",
       "cluster E6--><a href=\"psysml:98b17091-6ea5-4037-8451-bfddc724f9d0\" target=\"_top\" title=\"psysml:98b17091-6ea5-4037-8451-bfddc724f9d0\" xlink:actuate=\"onRequest\" xlink:href=\"psysml:98b17091-6ea5-4037-8451-bfddc724f9d0\" xlink:show=\"new\" xlink:title=\"psysml:98b17091-6ea5-4037-8451-bfddc724f9d0\" xlink:type=\"simple\"><polygon fill=\"#FFFFFF\" points=\"347,124,397,124,404,146.2969,545,146.2969,545,363,347,363,347,124\" style=\"stroke: #000000; stroke-width: 1.5;\"/><line style=\"stroke: #000000; stroke-width: 1.5;\" x1=\"347\" x2=\"404\" y1=\"146.2969\" y2=\"146.2969\"/><text fill=\"#000000\" font-family=\"sans-serif\" font-size=\"14\" font-weight=\"bold\" lengthAdjust=\"spacingAndGlyphs\" textLength=\"44\" x=\"351\" y=\"138.9951\">Pkg21</text></a><!--MD5=[168fadf3d0c3fd93dd5d6da1b1d7ab76]\n",
       "cluster E7--><a href=\"psysml:45f4d7ec-8fdd-4896-89d5-a877e9eb4cf9\" target=\"_top\" title=\"psysml:45f4d7ec-8fdd-4896-89d5-a877e9eb4cf9\" xlink:actuate=\"onRequest\" xlink:href=\"psysml:45f4d7ec-8fdd-4896-89d5-a877e9eb4cf9\" xlink:show=\"new\" xlink:title=\"psysml:45f4d7ec-8fdd-4896-89d5-a877e9eb4cf9\" xlink:type=\"simple\"><polygon fill=\"#FFFFFF\" points=\"387,183,446,183,453,205.2969,505,205.2969,505,315,387,315,387,183\" style=\"stroke: #000000; stroke-width: 1.5;\"/><line style=\"stroke: #000000; stroke-width: 1.5;\" x1=\"387\" x2=\"453\" y1=\"205.2969\" y2=\"205.2969\"/><text fill=\"#000000\" font-family=\"sans-serif\" font-size=\"14\" font-weight=\"bold\" lengthAdjust=\"spacingAndGlyphs\" textLength=\"53\" x=\"391\" y=\"197.9951\">Pkg211</text></a><!--MD5=[09b614a08d8cba4a07c9adeb5e0fee81]\n",
       "class E3--><a href=\"psysml:380b438c-f0d0-40f2-a10d-c83a46ac62de\" target=\"_top\" title=\"psysml:380b438c-f0d0-40f2-a10d-c83a46ac62de\" xlink:actuate=\"onRequest\" xlink:href=\"psysml:380b438c-f0d0-40f2-a10d-c83a46ac62de\" xlink:show=\"new\" xlink:title=\"psysml:380b438c-f0d0-40f2-a10d-c83a46ac62de\" xlink:type=\"simple\"><rect fill=\"#FFFFFF\" height=\"45.9375\" id=\"E3\" rx=\"10\" ry=\"10\" style=\"stroke: #383838; stroke-width: 1.5;\" width=\"74\" x=\"72\" y=\"207\"/><text fill=\"#000000\" font-family=\"sans-serif\" font-size=\"12\" font-style=\"italic\" lengthAdjust=\"spacingAndGlyphs\" textLength=\"40\" x=\"89\" y=\"223.1387\">«part»</text><text fill=\"#000000\" font-family=\"sans-serif\" font-size=\"12\" lengthAdjust=\"spacingAndGlyphs\" textLength=\"64\" x=\"75\" y=\"237.1074\">p11: P211</text><line style=\"stroke: #383838; stroke-width: 1.5;\" x1=\"73\" x2=\"145\" y1=\"244.9375\" y2=\"244.9375\"/></a><!--MD5=[ebbe1d658d1005bcc118a6aa81145e00]\n",
       "class E4--><a href=\"psysml:4c18927e-9f3a-4bbe-ae04-0ff2b7ea0a78\" target=\"_top\" title=\"psysml:4c18927e-9f3a-4bbe-ae04-0ff2b7ea0a78\" xlink:actuate=\"onRequest\" xlink:href=\"psysml:4c18927e-9f3a-4bbe-ae04-0ff2b7ea0a78\" xlink:show=\"new\" xlink:title=\"psysml:4c18927e-9f3a-4bbe-ae04-0ff2b7ea0a78\" xlink:type=\"simple\"><rect fill=\"#FFFFFF\" height=\"45.9375\" id=\"E4\" style=\"stroke: #383838; stroke-width: 1.5;\" width=\"70\" x=\"74\" y=\"126\"/><text fill=\"#000000\" font-family=\"sans-serif\" font-size=\"12\" font-style=\"italic\" lengthAdjust=\"spacingAndGlyphs\" textLength=\"68\" x=\"75\" y=\"142.1387\">«part  def»</text><text fill=\"#000000\" font-family=\"sans-serif\" font-size=\"12\" lengthAdjust=\"spacingAndGlyphs\" textLength=\"24\" x=\"97\" y=\"156.1074\">P12</text><line style=\"stroke: #383838; stroke-width: 1.5;\" x1=\"75\" x2=\"143\" y1=\"163.9375\" y2=\"163.9375\"/></a><!--MD5=[b9389687b975829384b498ac4b7476b2]\n",
       "class E8--><a href=\"psysml:b4068f35-75bf-4c63-8263-9508faa965fc\" target=\"_top\" title=\"psysml:b4068f35-75bf-4c63-8263-9508faa965fc\" xlink:actuate=\"onRequest\" xlink:href=\"psysml:b4068f35-75bf-4c63-8263-9508faa965fc\" xlink:show=\"new\" xlink:title=\"psysml:b4068f35-75bf-4c63-8263-9508faa965fc\" xlink:type=\"simple\"><rect fill=\"#FFFFFF\" height=\"45.9375\" id=\"E8\" style=\"stroke: #383838; stroke-width: 1.5;\" width=\"70\" x=\"411\" y=\"226\"/><text fill=\"#000000\" font-family=\"sans-serif\" font-size=\"12\" font-style=\"italic\" lengthAdjust=\"spacingAndGlyphs\" textLength=\"68\" x=\"412\" y=\"242.1387\">«part  def»</text><text fill=\"#000000\" font-family=\"sans-serif\" font-size=\"12\" lengthAdjust=\"spacingAndGlyphs\" textLength=\"32\" x=\"430\" y=\"256.1074\">P211</text><line style=\"stroke: #383838; stroke-width: 1.5;\" x1=\"412\" x2=\"480\" y1=\"263.9375\" y2=\"263.9375\"/></a><!--MD5=[b0060bfdb0500b904584095522b4da3c]\n",
       "link E2 to E8--><a href=\"psysml:86dbe04c-b04a-4ec6-a347-5e4f000abe00\" target=\"_top\" title=\"psysml:86dbe04c-b04a-4ec6-a347-5e4f000abe00\" xlink:actuate=\"onRequest\" xlink:href=\"psysml:86dbe04c-b04a-4ec6-a347-5e4f000abe00\" xlink:show=\"new\" xlink:title=\"psysml:86dbe04c-b04a-4ec6-a347-5e4f000abe00\" xlink:type=\"simple\"><path d=\"M171.0923,280.8853 C171.4965,280.8383 171.9021,280.7911 172.3092,280.7437 C175.5654,280.3646 178.9108,279.9751 182.3356,279.5764 C196.0348,277.9816 211.005,276.2388 226.6275,274.42 C289.1175,267.145 362.045,258.655 405.82,253.56 \" fill=\"none\" id=\"E2-&gt;E8\" style=\"stroke: #383838; stroke-width: 1.0; stroke-dasharray: 7.0,7.0;\"/><polygon fill=\"#383838\" points=\"410.91,252.97,401.5121,250.0239,405.9427,253.541,402.4256,257.9716,410.91,252.97\" style=\"stroke: #383838; stroke-width: 1.0;\"/><text fill=\"#000000\" font-family=\"sans-serif\" font-size=\"13\" lengthAdjust=\"spacingAndGlyphs\" textLength=\"58\" x=\"209.5\" y=\"265.0669\">«import»</text></a><!--MD5=[e3e28c1befcf002155aa15e1416b4315]\n",
       "link E2 to E6--><a href=\"psysml:b4797686-9eb8-4e8e-a70f-411a8a1a5c6c\" target=\"_top\" title=\"psysml:b4797686-9eb8-4e8e-a70f-411a8a1a5c6c\" xlink:actuate=\"onRequest\" xlink:href=\"psysml:b4797686-9eb8-4e8e-a70f-411a8a1a5c6c\" xlink:show=\"new\" xlink:title=\"psysml:b4797686-9eb8-4e8e-a70f-411a8a1a5c6c\" xlink:type=\"simple\"><path d=\"M120.3348,296.1648 C120.4168,296.2267 120.4991,296.2889 120.5819,296.3513 C121.2441,296.851 121.9332,297.3672 122.6479,297.8983 C124.0773,298.9606 125.6092,300.0826 127.2339,301.2511 C130.4832,303.588 134.1034,306.1109 138.0163,308.7138 C153.6675,319.125 174,330.815 194,337 C220.295,345.13 248.8488,350.3488 276.9572,353.5967 C291.0114,355.2207 304.9543,356.352 318.4479,357.1081 C325.1946,357.4862 331.8291,357.7705 338.3089,357.9757 C339.9289,358.027 341.5392,358.0734 343.1392,358.115 C343.9392,358.1358 344.7366,358.1555 345.5313,358.174 C345.9287,358.1832 346.3254,358.1922 346.7214,358.2009 \" fill=\"none\" id=\"E2-&gt;E6\" style=\"stroke: #383838; stroke-width: 1.0; stroke-dasharray: 7.0,7.0;\"/><polygon fill=\"#383838\" points=\"346.7214,358.2009,337.8112,354.0047,341.7226,358.0914,337.636,362.0028,346.7214,358.2009\" style=\"stroke: #383838; stroke-width: 1.0;\"/><text fill=\"#000000\" font-family=\"sans-serif\" font-size=\"13\" lengthAdjust=\"spacingAndGlyphs\" textLength=\"65\" x=\"206\" y=\"333.0669\">«import»*</text></a><!--MD5=[e3d2a08a9c9236652057e8ed0cbc9b62]\n",
       "link E2 to E7--><a href=\"psysml:c873f416-4fb0-4522-b4d5-2fc0ff0d8008\" target=\"_top\" title=\"psysml:c873f416-4fb0-4522-b4d5-2fc0ff0d8008\" xlink:actuate=\"onRequest\" xlink:href=\"psysml:c873f416-4fb0-4522-b4d5-2fc0ff0d8008\" xlink:show=\"new\" xlink:title=\"psysml:c873f416-4fb0-4522-b4d5-2fc0ff0d8008\" xlink:type=\"simple\"><path d=\"M134.0945,296.0694 C134.3286,296.1416 134.5639,296.214 134.8003,296.2866 C135.2733,296.4318 135.751,296.5778 136.2332,296.7244 C137.1977,297.0176 138.1805,297.3135 139.18,297.6113 C155.1725,302.375 175.46,307.61 194,310 C207.615,311.755 268.6325,311.055 327.0925,309.8913 C341.7075,309.6003 356.1627,309.2804 369.6773,308.9626 C373.056,308.8831 376.3759,308.8038 379.6248,308.7251 C381.2493,308.6858 382.856,308.6466 384.4434,308.6076 C385.2372,308.5881 386.0261,308.5687 386.81,308.5493 \" fill=\"none\" id=\"E2-&gt;E7\" style=\"stroke: #383838; stroke-width: 1.0; stroke-dasharray: 7.0,7.0;\"/><polygon fill=\"#383838\" points=\"386.81,308.5493,377.7139,304.7729,381.8115,308.6729,377.9115,312.7705,386.81,308.5493\" style=\"stroke: #383838; stroke-width: 1.0;\"/><text fill=\"#000000\" font-family=\"sans-serif\" font-size=\"13\" lengthAdjust=\"spacingAndGlyphs\" textLength=\"87\" x=\"195\" y=\"306.0669\">«import»*::**</text></a><!--MD5=[ca5a752d6098d8a44b3f88316e7452d1]\n",
       "link E3 to E8--><a href=\"psysml:bb41b158-76b0-47f5-886e-e2f97e00e6aa\" target=\"_top\" title=\"psysml:bb41b158-76b0-47f5-886e-e2f97e00e6aa\" xlink:actuate=\"onRequest\" xlink:href=\"psysml:bb41b158-76b0-47f5-886e-e2f97e00e6aa\" xlink:show=\"new\" xlink:title=\"psysml:bb41b158-76b0-47f5-886e-e2f97e00e6aa\" xlink:type=\"simple\"><path d=\"M146.15,229.44 C181.17,229.13 235.77,229.25 283,232 C319.01,234.09 359.36,238.32 390.78,242.04 \" fill=\"none\" id=\"E3-&gt;E8\" style=\"stroke: #383838; stroke-width: 1.0;\"/><polygon fill=\"#FFFFFF\" points=\"410.94,244.5,391.2303,249.14,392.9311,235.2437,410.94,244.5\" style=\"stroke: #383838; stroke-width: 1.0;\"/><ellipse cx=\"385.8155\" cy=\"246.4623\" fill=\"#383838\" rx=\"2\" ry=\"2\" style=\"stroke: #383838; stroke-width: 1.0;\"/><ellipse cx=\"387.0304\" cy=\"236.5364\" fill=\"#383838\" rx=\"2\" ry=\"2\" style=\"stroke: #383838; stroke-width: 1.0;\"/></a><!--MD5=[15ebcb19ae302d9b601edb458606d402]\n",
       "link E5 to E2--><a href=\"psysml:cb98c000-d2e0-4059-b3dc-41ff4d975042\" target=\"_top\" title=\"psysml:cb98c000-d2e0-4059-b3dc-41ff4d975042\" xlink:actuate=\"onRequest\" xlink:href=\"psysml:cb98c000-d2e0-4059-b3dc-41ff4d975042\" xlink:show=\"new\" xlink:title=\"psysml:cb98c000-d2e0-4059-b3dc-41ff4d975042\" xlink:type=\"simple\"><path d=\"M306.9419,148.5019 C293.2305,156.7974 279.4227,165.8752 266.0022,175.7247 C239.1613,195.4237 213.87,218.21 194,244 C186.88,253.24 194.51,261.02 186,269 C182.9237,271.8837 179.4781,274.3477 175.7977,276.4511 C173.9575,277.5028 172.0586,278.4645 170.1178,279.3434 \" fill=\"none\" id=\"E5-&gt;E2\" style=\"stroke: #383838; stroke-width: 1.0; stroke-dasharray: 7.0,7.0;\"/><polygon fill=\"#383838\" points=\"170.1178,279.3434,179.9664,279.2743,174.6725,277.2807,176.6661,271.9868,170.1178,279.3434\" style=\"stroke: #383838; stroke-width: 1.0;\"/><text fill=\"#000000\" font-family=\"sans-serif\" font-size=\"13\" lengthAdjust=\"spacingAndGlyphs\" textLength=\"65\" x=\"206\" y=\"164.0669\">«import»*</text></a><!--MD5=[d7bb3fb34add81b710575eb3799fa2ad]\n",
       "link E8 to E4--><a href=\"psysml:ff856c1d-ebaf-4dbc-8ba8-d8c60136e299\" target=\"_top\" title=\"psysml:ff856c1d-ebaf-4dbc-8ba8-d8c60136e299\" xlink:actuate=\"onRequest\" xlink:href=\"psysml:ff856c1d-ebaf-4dbc-8ba8-d8c60136e299\" xlink:show=\"new\" xlink:title=\"psysml:ff856c1d-ebaf-4dbc-8ba8-d8c60136e299\" xlink:type=\"simple\"><path d=\"M410.85,253.61 C375.55,256.27 321.45,254.1 291,222 C270.67,200.56 304.71,176.04 283,156 C251.69,127.1 202.01,128.06 163.91,134.67 \" fill=\"none\" id=\"E8-&gt;E4\" style=\"stroke: #383838; stroke-width: 1.0;\"/><polygon fill=\"none\" points=\"165.12,141.57,144.12,138.77,162.28,127.86,165.12,141.57\" style=\"stroke: #383838; stroke-width: 1.0;\"/></a><!--MD5=[fd4ac8e3a62ae2d1a02cb305dc836e80]\n",
       "@startuml\r\n",
       "left to right direction\r\n",
       "skinparam monochrome true\r\n",
       "skinparam classbackgroundcolor white\r\n",
       "skinparam shadowing false\r\n",
       "skinparam wrapWidth 300\r\n",
       "hide circle\r\n",
       "\r\n",
       "package \"ImportTest\" as E1  [[psysml:789e6656-6985-4918-a680-b12b42056b24 ]]  {\r\n",
       "package \"Pkg1\" as E2  [[psysml:9ed5d6a5-603c-4e6a-bfc8-60e703dcd2fe ]]  {\r\n",
       "comp usage \"p11: P211 \" as E3  <<(T,blue) part>> [[psysml:380b438c-f0d0-40f2-a10d-c83a46ac62de ]] {\r\n",
       "}\r\n",
       "comp def \"P12\" as E4  <<(T,blue) part  def>> [[psysml:4c18927e-9f3a-4bbe-ae04-0ff2b7ea0a78 ]] {\r\n",
       "}\r\n",
       "}\r\n",
       "package \"Pkg2\" as E5  [[psysml:63b0367b-32f1-46aa-9fe1-f934424c590d ]]  {\r\n",
       "package \"Pkg21\" as E6  [[psysml:98b17091-6ea5-4037-8451-bfddc724f9d0 ]]  {\r\n",
       "package \"Pkg211\" as E7  [[psysml:45f4d7ec-8fdd-4896-89d5-a877e9eb4cf9 ]]  {\r\n",
       "comp def \"P211\" as E8  <<(T,blue) part  def>> [[psysml:b4068f35-75bf-4c63-8263-9508faa965fc ]] {\r\n",
       "}\r\n",
       "}\r\n",
       "}\r\n",
       "}\r\n",
       "}\r\n",
       "E2 ..> E8 [[psysml:86dbe04c-b04a-4ec6-a347-5e4f000abe00 ]] : <<import>>\r\n",
       "E2 ..> E6 [[psysml:b4797686-9eb8-4e8e-a70f-411a8a1a5c6c ]] : <<import>>*\r\n",
       "E2 ..> E7 [[psysml:c873f416-4fb0-4522-b4d5-2fc0ff0d8008 ]] : <<import>>*::**\r\n",
       "E3 - -:|> E8 [[psysml:bb41b158-76b0-47f5-886e-e2f97e00e6aa ]] \r\n",
       "E5 ..> E2 [[psysml:cb98c000-d2e0-4059-b3dc-41ff4d975042 ]] : <<import>>*\r\n",
       "E8 - -|> E4 [[psysml:ff856c1d-ebaf-4dbc-8ba8-d8c60136e299 ]] \r\n",
       "@enduml\r\n",
       "\n",
       "PlantUML version 1.2020.13(Sat Jun 13 12:26:38 UTC 2020)\n",
       "(EPL source distribution)\n",
       "Java Runtime: OpenJDK Runtime Environment\n",
       "JVM: OpenJDK 64-Bit Server VM\n",
       "Default Encoding: UTF-8\n",
       "Language: en\n",
       "Country: null\n",
       "--></g></svg>"
      ]
     },
     "execution_count": 17,
     "metadata": {},
     "output_type": "execute_result"
    }
   ],
   "source": [
    "%viz --style=\"LR\" --view=\"Tree\" \"ImportTest\""
   ]
  },
  {
   "cell_type": "code",
   "execution_count": 18,
   "id": "a652db91",
   "metadata": {
    "execution": {
     "iopub.execute_input": "2022-08-19T08:17:20.064865Z",
     "iopub.status.busy": "2022-08-19T08:17:20.064398Z",
     "iopub.status.idle": "2022-08-19T08:17:20.070492Z",
     "shell.execute_reply": "2022-08-19T08:17:20.070815Z"
    }
   },
   "outputs": [
    {
     "data": {
      "image/svg+xml": [
       "<?xml version=\"1.0\" encoding=\"UTF-8\" standalone=\"no\"?><svg xmlns=\"http://www.w3.org/2000/svg\" xmlns:xlink=\"http://www.w3.org/1999/xlink\" contentScriptType=\"application/ecmascript\" contentStyleType=\"text/css\" height=\"12px\" preserveAspectRatio=\"none\" style=\"width:12px;height:12px;\" version=\"1.1\" viewBox=\"0 0 12 12\" width=\"12px\" zoomAndPan=\"magnify\"><defs/><g><!--MD5=[19d285c9d72a204eba4e2cd117d745e8]\n",
       "@startuml\r\n",
       "left to right direction\r\n",
       "skinparam monochrome true\r\n",
       "skinparam classbackgroundcolor white\r\n",
       "skinparam shadowing false\r\n",
       "skinparam wrapWidth 300\r\n",
       "hide circle\r\n",
       "\r\n",
       "@enduml\r\n",
       "\n",
       "PlantUML version 1.2020.13(Sat Jun 13 12:26:38 UTC 2020)\n",
       "(EPL source distribution)\n",
       "Java Runtime: OpenJDK Runtime Environment\n",
       "JVM: OpenJDK 64-Bit Server VM\n",
       "Default Encoding: UTF-8\n",
       "Language: en\n",
       "Country: null\n",
       "--></g></svg>"
      ]
     },
     "execution_count": 18,
     "metadata": {},
     "output_type": "execute_result"
    }
   ],
   "source": [
    "%viz --style=\"LR\" --view=\"State\" \"ImportTest\""
   ]
  },
  {
   "cell_type": "code",
   "execution_count": 19,
   "id": "603b6595",
   "metadata": {
    "execution": {
     "iopub.execute_input": "2022-08-19T08:17:20.121190Z",
     "iopub.status.busy": "2022-08-19T08:17:20.120725Z",
     "iopub.status.idle": "2022-08-19T08:17:20.169380Z",
     "shell.execute_reply": "2022-08-19T08:17:20.168952Z"
    }
   },
   "outputs": [
    {
     "data": {
      "image/svg+xml": [
       "<?xml version=\"1.0\" encoding=\"UTF-8\" standalone=\"no\"?><svg xmlns=\"http://www.w3.org/2000/svg\" xmlns:xlink=\"http://www.w3.org/1999/xlink\" contentScriptType=\"application/ecmascript\" contentStyleType=\"text/css\" height=\"445px\" preserveAspectRatio=\"none\" style=\"width:645px;height:445px;\" version=\"1.1\" viewBox=\"0 0 645 445\" width=\"645px\" zoomAndPan=\"magnify\"><defs/><g><!--MD5=[fbc87193dbaf4d95561dea2c320d4a47]\n",
       "cluster E1--><a href=\"psysml:789e6656-6985-4918-a680-b12b42056b24\" target=\"_top\" title=\"psysml:789e6656-6985-4918-a680-b12b42056b24\" xlink:actuate=\"onRequest\" xlink:href=\"psysml:789e6656-6985-4918-a680-b12b42056b24\" xlink:show=\"new\" xlink:title=\"psysml:789e6656-6985-4918-a680-b12b42056b24\" xlink:type=\"simple\"><polygon fill=\"#FFFFFF\" points=\"16,6,97,6,104,28.2969,623,28.2969,623,433,16,433,16,6\" style=\"stroke: #000000; stroke-width: 1.5;\"/><line style=\"stroke: #000000; stroke-width: 1.5;\" x1=\"16\" x2=\"104\" y1=\"28.2969\" y2=\"28.2969\"/><text fill=\"#000000\" font-family=\"sans-serif\" font-size=\"14\" font-weight=\"bold\" lengthAdjust=\"spacingAndGlyphs\" textLength=\"75\" x=\"20\" y=\"20.9951\">ImportTest</text></a><!--MD5=[e4f7fae6ed58524ba242bb0b0d3be6b7]\n",
       "cluster E2--><a href=\"psysml:9ed5d6a5-603c-4e6a-bfc8-60e703dcd2fe\" target=\"_top\" title=\"psysml:9ed5d6a5-603c-4e6a-bfc8-60e703dcd2fe\" xlink:actuate=\"onRequest\" xlink:href=\"psysml:9ed5d6a5-603c-4e6a-bfc8-60e703dcd2fe\" xlink:show=\"new\" xlink:title=\"psysml:9ed5d6a5-603c-4e6a-bfc8-60e703dcd2fe\" xlink:type=\"simple\"><polygon fill=\"#FFFFFF\" points=\"48,85,89,85,96,107.2969,171,107.2969,171,290,48,290,48,85\" style=\"stroke: #000000; stroke-width: 1.5;\"/><line style=\"stroke: #000000; stroke-width: 1.5;\" x1=\"48\" x2=\"96\" y1=\"107.2969\" y2=\"107.2969\"/><text fill=\"#000000\" font-family=\"sans-serif\" font-size=\"14\" font-weight=\"bold\" lengthAdjust=\"spacingAndGlyphs\" textLength=\"35\" x=\"52\" y=\"99.9951\">Pkg1</text></a><!--MD5=[de5ec2e2e8f62f467e546659f5068c88]\n",
       "cluster E5--><a href=\"psysml:63b0367b-32f1-46aa-9fe1-f934424c590d\" target=\"_top\" title=\"psysml:63b0367b-32f1-46aa-9fe1-f934424c590d\" xlink:actuate=\"onRequest\" xlink:href=\"psysml:63b0367b-32f1-46aa-9fe1-f934424c590d\" xlink:show=\"new\" xlink:title=\"psysml:63b0367b-32f1-46aa-9fe1-f934424c590d\" xlink:type=\"simple\"><polygon fill=\"#FFFFFF\" points=\"308,57,349,57,356,79.2969,591,79.2969,591,401,308,401,308,57\" style=\"stroke: #000000; stroke-width: 1.5;\"/><line style=\"stroke: #000000; stroke-width: 1.5;\" x1=\"308\" x2=\"356\" y1=\"79.2969\" y2=\"79.2969\"/><text fill=\"#000000\" font-family=\"sans-serif\" font-size=\"14\" font-weight=\"bold\" lengthAdjust=\"spacingAndGlyphs\" textLength=\"35\" x=\"312\" y=\"71.9951\">Pkg2</text></a><!--MD5=[14e3b0961a2654348d326746436168a1]\n",
       "cluster E6--><a href=\"psysml:98b17091-6ea5-4037-8451-bfddc724f9d0\" target=\"_top\" title=\"psysml:98b17091-6ea5-4037-8451-bfddc724f9d0\" xlink:actuate=\"onRequest\" xlink:href=\"psysml:98b17091-6ea5-4037-8451-bfddc724f9d0\" xlink:show=\"new\" xlink:title=\"psysml:98b17091-6ea5-4037-8451-bfddc724f9d0\" xlink:type=\"simple\"><polygon fill=\"#FFFFFF\" points=\"348,124,398,124,405,146.2969,551,146.2969,551,361,348,361,348,124\" style=\"stroke: #000000; stroke-width: 1.5;\"/><line style=\"stroke: #000000; stroke-width: 1.5;\" x1=\"348\" x2=\"405\" y1=\"146.2969\" y2=\"146.2969\"/><text fill=\"#000000\" font-family=\"sans-serif\" font-size=\"14\" font-weight=\"bold\" lengthAdjust=\"spacingAndGlyphs\" textLength=\"44\" x=\"352\" y=\"138.9951\">Pkg21</text></a><!--MD5=[168fadf3d0c3fd93dd5d6da1b1d7ab76]\n",
       "cluster E7--><a href=\"psysml:45f4d7ec-8fdd-4896-89d5-a877e9eb4cf9\" target=\"_top\" title=\"psysml:45f4d7ec-8fdd-4896-89d5-a877e9eb4cf9\" xlink:actuate=\"onRequest\" xlink:href=\"psysml:45f4d7ec-8fdd-4896-89d5-a877e9eb4cf9\" xlink:show=\"new\" xlink:title=\"psysml:45f4d7ec-8fdd-4896-89d5-a877e9eb4cf9\" xlink:type=\"simple\"><polygon fill=\"#FFFFFF\" points=\"388,183,447,183,454,205.2969,511,205.2969,511,313,388,313,388,183\" style=\"stroke: #000000; stroke-width: 1.5;\"/><line style=\"stroke: #000000; stroke-width: 1.5;\" x1=\"388\" x2=\"454\" y1=\"205.2969\" y2=\"205.2969\"/><text fill=\"#000000\" font-family=\"sans-serif\" font-size=\"14\" font-weight=\"bold\" lengthAdjust=\"spacingAndGlyphs\" textLength=\"53\" x=\"392\" y=\"197.9951\">Pkg211</text></a><g id=\"E1.E2.E3\"><a href=\"psysml:380b438c-f0d0-40f2-a10d-c83a46ac62de\" target=\"_top\" title=\"psysml:380b438c-f0d0-40f2-a10d-c83a46ac62de\" xlink:actuate=\"onRequest\" xlink:href=\"psysml:380b438c-f0d0-40f2-a10d-c83a46ac62de\" xlink:show=\"new\" xlink:title=\"psysml:380b438c-f0d0-40f2-a10d-c83a46ac62de\" xlink:type=\"simple\"><rect fill=\"#FFFFFF\" height=\"40\" id=\"E3\" rx=\"10\" ry=\"10\" style=\"stroke: #383838; stroke-width: 1.5;\" width=\"75\" x=\"72\" y=\"207\"/><rect fill=\"#F8F8F8\" height=\"23.9688\" rx=\"10\" ry=\"10\" style=\"stroke: #F8F8F8; stroke-width: 1.5;\" width=\"75\" x=\"72\" y=\"207\"/><rect fill=\"#F8F8F8\" height=\"10\" style=\"stroke: #F8F8F8; stroke-width: 1.5;\" width=\"75\" x=\"72\" y=\"220.9688\"/><rect fill=\"none\" height=\"40\" id=\"E3\" rx=\"10\" ry=\"10\" style=\"stroke: #383838; stroke-width: 1.5;\" width=\"75\" x=\"72\" y=\"207\"/><text fill=\"#000000\" font-family=\"sans-serif\" font-size=\"12\" lengthAdjust=\"spacingAndGlyphs\" textLength=\"64\" x=\"77.5\" y=\"223.1387\">p11: P211</text></a></g><g id=\"E1.E2.E4\"><a href=\"psysml:4c18927e-9f3a-4bbe-ae04-0ff2b7ea0a78\" target=\"_top\" title=\"psysml:4c18927e-9f3a-4bbe-ae04-0ff2b7ea0a78\" xlink:actuate=\"onRequest\" xlink:href=\"psysml:4c18927e-9f3a-4bbe-ae04-0ff2b7ea0a78\" xlink:show=\"new\" xlink:title=\"psysml:4c18927e-9f3a-4bbe-ae04-0ff2b7ea0a78\" xlink:type=\"simple\"><rect fill=\"#FFFFFF\" height=\"42.9375\" id=\"E4\" style=\"stroke: #383838; stroke-width: 1.5;\" width=\"75\" x=\"72\" y=\"128.5\"/><rect fill=\"#F8F8F8\" height=\"37.9375\" style=\"stroke: #383838; stroke-width: 1.5;\" width=\"75\" x=\"72\" y=\"128.5\"/><text fill=\"#000000\" font-family=\"sans-serif\" font-size=\"12\" font-style=\"italic\" lengthAdjust=\"spacingAndGlyphs\" textLength=\"68\" x=\"75.5\" y=\"144.6387\">«part  def»</text><text fill=\"#000000\" font-family=\"sans-serif\" font-size=\"12\" lengthAdjust=\"spacingAndGlyphs\" textLength=\"24\" x=\"97.5\" y=\"158.6074\">P12</text></a></g><g id=\"E1.E5.E6.E7.E8\"><a href=\"psysml:b4068f35-75bf-4c63-8263-9508faa965fc\" target=\"_top\" title=\"psysml:b4068f35-75bf-4c63-8263-9508faa965fc\" xlink:actuate=\"onRequest\" xlink:href=\"psysml:b4068f35-75bf-4c63-8263-9508faa965fc\" xlink:show=\"new\" xlink:title=\"psysml:b4068f35-75bf-4c63-8263-9508faa965fc\" xlink:type=\"simple\"><rect fill=\"#FFFFFF\" height=\"42.9375\" id=\"E8\" style=\"stroke: #383838; stroke-width: 1.5;\" width=\"75\" x=\"412\" y=\"226.5\"/><rect fill=\"#F8F8F8\" height=\"37.9375\" style=\"stroke: #383838; stroke-width: 1.5;\" width=\"75\" x=\"412\" y=\"226.5\"/><text fill=\"#000000\" font-family=\"sans-serif\" font-size=\"12\" font-style=\"italic\" lengthAdjust=\"spacingAndGlyphs\" textLength=\"68\" x=\"415.5\" y=\"242.6387\">«part  def»</text><text fill=\"#000000\" font-family=\"sans-serif\" font-size=\"12\" lengthAdjust=\"spacingAndGlyphs\" textLength=\"32\" x=\"433.5\" y=\"256.6074\">P211</text></a></g><!--MD5=[b0060bfdb0500b904584095522b4da3c]\n",
       "link E2 to E8--><a href=\"psysml:86dbe04c-b04a-4ec6-a347-5e4f000abe00\" target=\"_top\" title=\"psysml:86dbe04c-b04a-4ec6-a347-5e4f000abe00\" xlink:actuate=\"onRequest\" xlink:href=\"psysml:86dbe04c-b04a-4ec6-a347-5e4f000abe00\" xlink:show=\"new\" xlink:title=\"psysml:86dbe04c-b04a-4ec6-a347-5e4f000abe00\" xlink:type=\"simple\"><path d=\"M171.2313,275.8904 C171.6335,275.8499 172.0372,275.8093 172.4423,275.7686 C175.6828,275.4426 179.0126,275.1077 182.4222,274.7647 C196.0605,273.3928 210.975,271.8925 226.5575,270.325 C288.8875,264.055 361.905,256.71 406.68,252.21 \" fill=\"none\" id=\"E2-&gt;E8\" style=\"stroke: #383838; stroke-width: 1.0; stroke-dasharray: 7.0,7.0;\"/><polygon fill=\"#383838\" points=\"411.89,251.68,402.5349,248.6007,406.9151,252.1803,403.3355,256.5606,411.89,251.68\" style=\"stroke: #383838; stroke-width: 1.0;\"/><text fill=\"#000000\" font-family=\"sans-serif\" font-size=\"13\" lengthAdjust=\"spacingAndGlyphs\" textLength=\"58\" x=\"210.5\" y=\"261.0669\">«import»</text></a><!--MD5=[e3e28c1befcf002155aa15e1416b4315]\n",
       "link E2 to E6--><a href=\"psysml:b4797686-9eb8-4e8e-a70f-411a8a1a5c6c\" target=\"_top\" title=\"psysml:b4797686-9eb8-4e8e-a70f-411a8a1a5c6c\" xlink:actuate=\"onRequest\" xlink:href=\"psysml:b4797686-9eb8-4e8e-a70f-411a8a1a5c6c\" xlink:show=\"new\" xlink:title=\"psysml:b4797686-9eb8-4e8e-a70f-411a8a1a5c6c\" xlink:type=\"simple\"><path d=\"M119.8223,290.0526 C119.9006,290.1174 119.9792,290.1824 120.0583,290.2477 C120.3747,290.509 120.698,290.7749 121.028,291.0454 C121.688,291.5863 122.375,292.1451 123.0878,292.7201 C124.5134,293.8701 126.0421,295.0847 127.6645,296.3495 C130.9092,298.8791 134.5288,301.6097 138.4475,304.4263 C154.1225,315.6925 174.585,328.335 195,335 C221.425,343.625 250.1963,349.095 278.5586,352.4405 C292.7398,354.1132 306.8187,355.2548 320.451,355.9941 C327.2672,356.3637 333.9717,356.6328 340.5215,356.8174 C342.159,356.8635 343.7867,356.9044 345.4042,356.9402 C346.2129,356.9581 347.019,356.9748 347.8225,356.9902 \" fill=\"none\" id=\"E2-&gt;E6\" style=\"stroke: #383838; stroke-width: 1.0; stroke-dasharray: 7.0,7.0;\"/><polygon fill=\"#383838\" points=\"347.8225,356.9902,338.901,352.8181,342.8234,356.8942,338.7473,360.8166,347.8225,356.9902\" style=\"stroke: #383838; stroke-width: 1.0;\"/><text fill=\"#000000\" font-family=\"sans-serif\" font-size=\"13\" lengthAdjust=\"spacingAndGlyphs\" textLength=\"65\" x=\"207\" y=\"331.0669\">«import»*</text></a><!--MD5=[e3d2a08a9c9236652057e8ed0cbc9b62]\n",
       "link E2 to E7--><a href=\"psysml:c873f416-4fb0-4522-b4d5-2fc0ff0d8008\" target=\"_top\" title=\"psysml:c873f416-4fb0-4522-b4d5-2fc0ff0d8008\" xlink:actuate=\"onRequest\" xlink:href=\"psysml:c873f416-4fb0-4522-b4d5-2fc0ff0d8008\" xlink:show=\"new\" xlink:title=\"psysml:c873f416-4fb0-4522-b4d5-2fc0ff0d8008\" xlink:type=\"simple\"><path d=\"M130.5313,290.0257 C130.7505,290.1076 130.971,290.1898 131.1929,290.2723 C132.0805,290.6024 132.9895,290.9376 133.9184,291.2768 C135.7763,291.9553 137.7141,292.6502 139.72,293.3538 C155.7675,298.9825 176.18,305.17 195,308 C208.71,310.06 270.335,309.365 329.3875,308.1288 C344.1506,307.8197 358.753,307.4768 372.4057,307.1347 C375.8188,307.0491 379.1727,306.9637 382.4548,306.8788 C384.0959,306.8363 385.719,306.794 387.3227,306.7519 \" fill=\"none\" id=\"E2-&gt;E7\" style=\"stroke: #383838; stroke-width: 1.0; stroke-dasharray: 7.0,7.0;\"/><polygon fill=\"#383838\" points=\"387.3227,306.7519,378.2209,302.9894,382.3244,306.8831,378.4307,310.9867,387.3227,306.7519\" style=\"stroke: #383838; stroke-width: 1.0;\"/><text fill=\"#000000\" font-family=\"sans-serif\" font-size=\"13\" lengthAdjust=\"spacingAndGlyphs\" textLength=\"87\" x=\"196\" y=\"304.0669\">«import»*::**</text></a><!--MD5=[ca5a752d6098d8a44b3f88316e7452d1]\n",
       "link E3 to E8--><a href=\"psysml:bb41b158-76b0-47f5-886e-e2f97e00e6aa\" target=\"_top\" title=\"psysml:bb41b158-76b0-47f5-886e-e2f97e00e6aa\" xlink:actuate=\"onRequest\" xlink:href=\"psysml:bb41b158-76b0-47f5-886e-e2f97e00e6aa\" xlink:show=\"new\" xlink:title=\"psysml:bb41b158-76b0-47f5-886e-e2f97e00e6aa\" xlink:type=\"simple\"><path d=\"M147.09,226.66 C182.24,226.56 236.8,227.02 284,230 C320.05,232.28 360.37,236.66 392.06,240.53 \" fill=\"none\" id=\"E3-&gt;E8\" style=\"stroke: #383838; stroke-width: 1.0;\"/><polygon fill=\"#FFFFFF\" points=\"412,243.03,392.2773,247.614,394.0174,233.7226,412,243.03\" style=\"stroke: #383838; stroke-width: 1.0;\"/><ellipse cx=\"386.8701\" cy=\"244.9211\" fill=\"#383838\" rx=\"2\" ry=\"2\" style=\"stroke: #383838; stroke-width: 1.0;\"/><ellipse cx=\"388.113\" cy=\"234.9986\" fill=\"#383838\" rx=\"2\" ry=\"2\" style=\"stroke: #383838; stroke-width: 1.0;\"/></a><!--MD5=[15ebcb19ae302d9b601edb458606d402]\n",
       "link E5 to E2--><a href=\"psysml:cb98c000-d2e0-4059-b3dc-41ff4d975042\" target=\"_top\" title=\"psysml:cb98c000-d2e0-4059-b3dc-41ff4d975042\" xlink:actuate=\"onRequest\" xlink:href=\"psysml:cb98c000-d2e0-4059-b3dc-41ff4d975042\" xlink:show=\"new\" xlink:title=\"psysml:cb98c000-d2e0-4059-b3dc-41ff4d975042\" xlink:type=\"simple\"><path d=\"M307.0531,147.9957 C306.1875,148.5068 305.3215,149.0209 304.4554,149.5381 C302.7231,150.5724 300.99,151.6188 299.2569,152.6773 C295.7907,154.7942 292.3249,156.9596 288.8669,159.1733 C281.9509,163.6007 275.0662,168.2213 268.2731,173.0345 C241.1006,192.2875 215.3925,214.6225 195,240 C188.22,248.44 194.99,255.7 187,263 C183.8663,265.86 180.3697,268.3059 176.6441,270.3962 C175.7128,270.9187 174.7671,271.419 173.8091,271.898 C173.3302,272.1375 172.8482,272.3717 172.3634,272.6007 C172.121,272.7151 171.8778,272.8283 171.6341,272.9402 C171.5122,272.9961 171.3901,273.0517 171.2679,273.107 \" fill=\"none\" id=\"E5-&gt;E2\" style=\"stroke: #383838; stroke-width: 1.0; stroke-dasharray: 7.0,7.0;\"/><polygon fill=\"#383838\" points=\"171.2679,273.107,181.1166,273.0412,175.8233,271.0458,177.8187,265.7526,171.2679,273.107\" style=\"stroke: #383838; stroke-width: 1.0;\"/><text fill=\"#000000\" font-family=\"sans-serif\" font-size=\"13\" lengthAdjust=\"spacingAndGlyphs\" textLength=\"65\" x=\"207\" y=\"162.0669\">«import»*</text></a><!--MD5=[d7bb3fb34add81b710575eb3799fa2ad]\n",
       "link E8 to E4--><a href=\"psysml:ff856c1d-ebaf-4dbc-8ba8-d8c60136e299\" target=\"_top\" title=\"psysml:ff856c1d-ebaf-4dbc-8ba8-d8c60136e299\" xlink:actuate=\"onRequest\" xlink:href=\"psysml:ff856c1d-ebaf-4dbc-8ba8-d8c60136e299\" xlink:show=\"new\" xlink:title=\"psysml:ff856c1d-ebaf-4dbc-8ba8-d8c60136e299\" xlink:type=\"simple\"><path d=\"M411.85,253.19 C376.01,256.01 322.5,253.81 292,222 C271.86,200.99 305.41,176.72 284,157 C253.22,128.65 204.82,128.99 166.95,135.23 \" fill=\"none\" id=\"E8-&gt;E4\" style=\"stroke: #383838; stroke-width: 1.0;\"/><polygon fill=\"none\" points=\"168.15,142.13,147.17,139.17,165.42,128.4,168.15,142.13\" style=\"stroke: #383838; stroke-width: 1.0;\"/></a><!--MD5=[1ecd84a3d81aabd07359e70faa4c308a]\n",
       "@startuml\r\n",
       "skinparam ranksep 10\r\n",
       "skinparam rectangle {\r\n",
       " backgroundColor<<block>> LightGreen\r\n",
       "}\r\n",
       "left to right direction\r\n",
       "skinparam monochrome true\r\n",
       "skinparam classbackgroundcolor white\r\n",
       "skinparam shadowing false\r\n",
       "skinparam wrapWidth 300\r\n",
       "hide circle\r\n",
       "\r\n",
       "package \"ImportTest\" as E1  [[psysml:789e6656-6985-4918-a680-b12b42056b24 ]]  {\r\n",
       "package \"Pkg1\" as E2  [[psysml:9ed5d6a5-603c-4e6a-bfc8-60e703dcd2fe ]]  {\r\n",
       "rec usage \"p11: P211\" as E3  [[psysml:380b438c-f0d0-40f2-a10d-c83a46ac62de ]] {\r\n",
       "}\r\n",
       "rec def \"P12\" as E4  <<(T,blue) part  def>> [[psysml:4c18927e-9f3a-4bbe-ae04-0ff2b7ea0a78 ]] {\r\n",
       "}\r\n",
       "}\r\n",
       "package \"Pkg2\" as E5  [[psysml:63b0367b-32f1-46aa-9fe1-f934424c590d ]]  {\r\n",
       "package \"Pkg21\" as E6  [[psysml:98b17091-6ea5-4037-8451-bfddc724f9d0 ]]  {\r\n",
       "package \"Pkg211\" as E7  [[psysml:45f4d7ec-8fdd-4896-89d5-a877e9eb4cf9 ]]  {\r\n",
       "rec def \"P211\" as E8  <<(T,blue) part  def>> [[psysml:b4068f35-75bf-4c63-8263-9508faa965fc ]] {\r\n",
       "}\r\n",
       "}\r\n",
       "}\r\n",
       "}\r\n",
       "}\r\n",
       "E2 ..> E8 [[psysml:86dbe04c-b04a-4ec6-a347-5e4f000abe00 ]] : <<import>>\r\n",
       "E2 ..> E6 [[psysml:b4797686-9eb8-4e8e-a70f-411a8a1a5c6c ]] : <<import>>*\r\n",
       "E2 ..> E7 [[psysml:c873f416-4fb0-4522-b4d5-2fc0ff0d8008 ]] : <<import>>*::**\r\n",
       "E3 - -:|> E8 [[psysml:bb41b158-76b0-47f5-886e-e2f97e00e6aa ]] \r\n",
       "E5 ..> E2 [[psysml:cb98c000-d2e0-4059-b3dc-41ff4d975042 ]] : <<import>>*\r\n",
       "E8 - -|> E4 [[psysml:ff856c1d-ebaf-4dbc-8ba8-d8c60136e299 ]] \r\n",
       "@enduml\r\n",
       "\n",
       "PlantUML version 1.2020.13(Sat Jun 13 12:26:38 UTC 2020)\n",
       "(EPL source distribution)\n",
       "Java Runtime: OpenJDK Runtime Environment\n",
       "JVM: OpenJDK 64-Bit Server VM\n",
       "Default Encoding: UTF-8\n",
       "Language: en\n",
       "Country: null\n",
       "--></g></svg>"
      ]
     },
     "execution_count": 19,
     "metadata": {},
     "output_type": "execute_result"
    }
   ],
   "source": [
    "%viz --style=\"LR\" --view=\"Interconnection\" \"ImportTest\""
   ]
  },
  {
   "cell_type": "code",
   "execution_count": 20,
   "id": "604ea889",
   "metadata": {
    "execution": {
     "iopub.execute_input": "2022-08-19T08:17:20.218890Z",
     "iopub.status.busy": "2022-08-19T08:17:20.218429Z",
     "iopub.status.idle": "2022-08-19T08:17:20.223625Z",
     "shell.execute_reply": "2022-08-19T08:17:20.223966Z"
    }
   },
   "outputs": [
    {
     "data": {
      "image/svg+xml": [
       "<?xml version=\"1.0\" encoding=\"UTF-8\" standalone=\"no\"?><svg xmlns=\"http://www.w3.org/2000/svg\" xmlns:xlink=\"http://www.w3.org/1999/xlink\" contentScriptType=\"application/ecmascript\" contentStyleType=\"text/css\" height=\"12px\" preserveAspectRatio=\"none\" style=\"width:12px;height:12px;\" version=\"1.1\" viewBox=\"0 0 12 12\" width=\"12px\" zoomAndPan=\"magnify\"><defs/><g><!--MD5=[7aeb398939421629f6affaa4a1a7b125]\n",
       "@startuml\r\n",
       "skinparam ranksep 8\r\n",
       "left to right direction\r\n",
       "skinparam monochrome true\r\n",
       "skinparam classbackgroundcolor white\r\n",
       "skinparam shadowing false\r\n",
       "skinparam wrapWidth 300\r\n",
       "hide circle\r\n",
       "\r\n",
       "@enduml\r\n",
       "\n",
       "PlantUML version 1.2020.13(Sat Jun 13 12:26:38 UTC 2020)\n",
       "(EPL source distribution)\n",
       "Java Runtime: OpenJDK Runtime Environment\n",
       "JVM: OpenJDK 64-Bit Server VM\n",
       "Default Encoding: UTF-8\n",
       "Language: en\n",
       "Country: null\n",
       "--></g></svg>"
      ]
     },
     "execution_count": 20,
     "metadata": {},
     "output_type": "execute_result"
    }
   ],
   "source": [
    "%viz --style=\"LR\" --view=\"Action\" \"ImportTest\""
   ]
  },
  {
   "cell_type": "code",
   "execution_count": 21,
   "id": "9afa403c",
   "metadata": {
    "execution": {
     "iopub.execute_input": "2022-08-19T08:17:20.274031Z",
     "iopub.status.busy": "2022-08-19T08:17:20.273579Z",
     "iopub.status.idle": "2022-08-19T08:17:20.278756Z",
     "shell.execute_reply": "2022-08-19T08:17:20.279078Z"
    }
   },
   "outputs": [
    {
     "data": {
      "image/svg+xml": [
       "<?xml version=\"1.0\" encoding=\"UTF-8\" standalone=\"no\"?><svg xmlns=\"http://www.w3.org/2000/svg\" xmlns:xlink=\"http://www.w3.org/1999/xlink\" contentScriptType=\"application/ecmascript\" contentStyleType=\"text/css\" height=\"12px\" preserveAspectRatio=\"none\" style=\"width:12px;height:12px;\" version=\"1.1\" viewBox=\"0 0 12 12\" width=\"12px\" zoomAndPan=\"magnify\"><defs/><g><!--MD5=[238c11ea2002f03115ad6b49a457d50e]\n",
       "@startuml\r\n",
       "skinparam roundcorner 20\r\n",
       "skinparam BoxPadding 20\r\n",
       "skinparam SequenceBoxBackgroundColor #white\r\n",
       "skinparam style strictuml\r\n",
       "skinparam maxMessageSize 100\r\n",
       "left to right direction\r\n",
       "skinparam monochrome true\r\n",
       "skinparam classbackgroundcolor white\r\n",
       "skinparam shadowing false\r\n",
       "skinparam wrapWidth 300\r\n",
       "hide circle\r\n",
       "\r\n",
       "@enduml\r\n",
       "\n",
       "PlantUML version 1.2020.13(Sat Jun 13 12:26:38 UTC 2020)\n",
       "(EPL source distribution)\n",
       "Java Runtime: OpenJDK Runtime Environment\n",
       "JVM: OpenJDK 64-Bit Server VM\n",
       "Default Encoding: UTF-8\n",
       "Language: en\n",
       "Country: null\n",
       "--></g></svg>"
      ]
     },
     "execution_count": 21,
     "metadata": {},
     "output_type": "execute_result"
    }
   ],
   "source": [
    "%viz --style=\"LR\" --view=\"Sequence\" \"ImportTest\""
   ]
  },
  {
   "cell_type": "code",
   "execution_count": 22,
   "id": "cca46c29",
   "metadata": {
    "execution": {
     "iopub.execute_input": "2022-08-19T08:17:20.329249Z",
     "iopub.status.busy": "2022-08-19T08:17:20.328784Z",
     "iopub.status.idle": "2022-08-19T08:17:20.368880Z",
     "shell.execute_reply": "2022-08-19T08:17:20.368313Z"
    }
   },
   "outputs": [
    {
     "data": {
      "image/svg+xml": [
       "<?xml version=\"1.0\" encoding=\"UTF-8\" standalone=\"no\"?><svg xmlns=\"http://www.w3.org/2000/svg\" xmlns:xlink=\"http://www.w3.org/1999/xlink\" contentScriptType=\"application/ecmascript\" contentStyleType=\"text/css\" height=\"447px\" preserveAspectRatio=\"none\" style=\"width:639px;height:447px;\" version=\"1.1\" viewBox=\"0 0 639 447\" width=\"639px\" zoomAndPan=\"magnify\"><defs/><g><!--MD5=[fbc87193dbaf4d95561dea2c320d4a47]\n",
       "cluster E1--><a href=\"psysml:789e6656-6985-4918-a680-b12b42056b24\" target=\"_top\" title=\"psysml:789e6656-6985-4918-a680-b12b42056b24\" xlink:actuate=\"onRequest\" xlink:href=\"psysml:789e6656-6985-4918-a680-b12b42056b24\" xlink:show=\"new\" xlink:title=\"psysml:789e6656-6985-4918-a680-b12b42056b24\" xlink:type=\"simple\"><polygon fill=\"#FFFFFF\" points=\"16,6,97,6,104,28.2969,617,28.2969,617,435,16,435,16,6\" style=\"stroke: #000000; stroke-width: 1.5;\"/><line style=\"stroke: #000000; stroke-width: 1.5;\" x1=\"16\" x2=\"104\" y1=\"28.2969\" y2=\"28.2969\"/><text fill=\"#000000\" font-family=\"sans-serif\" font-size=\"14\" font-weight=\"bold\" lengthAdjust=\"spacingAndGlyphs\" textLength=\"75\" x=\"20\" y=\"20.9951\">ImportTest</text></a><!--MD5=[e4f7fae6ed58524ba242bb0b0d3be6b7]\n",
       "cluster E2--><a href=\"psysml:9ed5d6a5-603c-4e6a-bfc8-60e703dcd2fe\" target=\"_top\" title=\"psysml:9ed5d6a5-603c-4e6a-bfc8-60e703dcd2fe\" xlink:actuate=\"onRequest\" xlink:href=\"psysml:9ed5d6a5-603c-4e6a-bfc8-60e703dcd2fe\" xlink:show=\"new\" xlink:title=\"psysml:9ed5d6a5-603c-4e6a-bfc8-60e703dcd2fe\" xlink:type=\"simple\"><polygon fill=\"#FFFFFF\" points=\"48,83,89,83,96,105.2969,170,105.2969,170,296,48,296,48,83\" style=\"stroke: #000000; stroke-width: 1.5;\"/><line style=\"stroke: #000000; stroke-width: 1.5;\" x1=\"48\" x2=\"96\" y1=\"105.2969\" y2=\"105.2969\"/><text fill=\"#000000\" font-family=\"sans-serif\" font-size=\"14\" font-weight=\"bold\" lengthAdjust=\"spacingAndGlyphs\" textLength=\"35\" x=\"52\" y=\"97.9951\">Pkg1</text></a><!--MD5=[de5ec2e2e8f62f467e546659f5068c88]\n",
       "cluster E5--><a href=\"psysml:63b0367b-32f1-46aa-9fe1-f934424c590d\" target=\"_top\" title=\"psysml:63b0367b-32f1-46aa-9fe1-f934424c590d\" xlink:actuate=\"onRequest\" xlink:href=\"psysml:63b0367b-32f1-46aa-9fe1-f934424c590d\" xlink:show=\"new\" xlink:title=\"psysml:63b0367b-32f1-46aa-9fe1-f934424c590d\" xlink:type=\"simple\"><polygon fill=\"#FFFFFF\" points=\"307,57,348,57,355,79.2969,585,79.2969,585,403,307,403,307,57\" style=\"stroke: #000000; stroke-width: 1.5;\"/><line style=\"stroke: #000000; stroke-width: 1.5;\" x1=\"307\" x2=\"355\" y1=\"79.2969\" y2=\"79.2969\"/><text fill=\"#000000\" font-family=\"sans-serif\" font-size=\"14\" font-weight=\"bold\" lengthAdjust=\"spacingAndGlyphs\" textLength=\"35\" x=\"311\" y=\"71.9951\">Pkg2</text></a><!--MD5=[14e3b0961a2654348d326746436168a1]\n",
       "cluster E6--><a href=\"psysml:98b17091-6ea5-4037-8451-bfddc724f9d0\" target=\"_top\" title=\"psysml:98b17091-6ea5-4037-8451-bfddc724f9d0\" xlink:actuate=\"onRequest\" xlink:href=\"psysml:98b17091-6ea5-4037-8451-bfddc724f9d0\" xlink:show=\"new\" xlink:title=\"psysml:98b17091-6ea5-4037-8451-bfddc724f9d0\" xlink:type=\"simple\"><polygon fill=\"#FFFFFF\" points=\"347,124,397,124,404,146.2969,545,146.2969,545,363,347,363,347,124\" style=\"stroke: #000000; stroke-width: 1.5;\"/><line style=\"stroke: #000000; stroke-width: 1.5;\" x1=\"347\" x2=\"404\" y1=\"146.2969\" y2=\"146.2969\"/><text fill=\"#000000\" font-family=\"sans-serif\" font-size=\"14\" font-weight=\"bold\" lengthAdjust=\"spacingAndGlyphs\" textLength=\"44\" x=\"351\" y=\"138.9951\">Pkg21</text></a><!--MD5=[168fadf3d0c3fd93dd5d6da1b1d7ab76]\n",
       "cluster E7--><a href=\"psysml:45f4d7ec-8fdd-4896-89d5-a877e9eb4cf9\" target=\"_top\" title=\"psysml:45f4d7ec-8fdd-4896-89d5-a877e9eb4cf9\" xlink:actuate=\"onRequest\" xlink:href=\"psysml:45f4d7ec-8fdd-4896-89d5-a877e9eb4cf9\" xlink:show=\"new\" xlink:title=\"psysml:45f4d7ec-8fdd-4896-89d5-a877e9eb4cf9\" xlink:type=\"simple\"><polygon fill=\"#FFFFFF\" points=\"387,183,446,183,453,205.2969,505,205.2969,505,315,387,315,387,183\" style=\"stroke: #000000; stroke-width: 1.5;\"/><line style=\"stroke: #000000; stroke-width: 1.5;\" x1=\"387\" x2=\"453\" y1=\"205.2969\" y2=\"205.2969\"/><text fill=\"#000000\" font-family=\"sans-serif\" font-size=\"14\" font-weight=\"bold\" lengthAdjust=\"spacingAndGlyphs\" textLength=\"53\" x=\"391\" y=\"197.9951\">Pkg211</text></a><!--MD5=[09b614a08d8cba4a07c9adeb5e0fee81]\n",
       "class E3--><a href=\"psysml:380b438c-f0d0-40f2-a10d-c83a46ac62de\" target=\"_top\" title=\"psysml:380b438c-f0d0-40f2-a10d-c83a46ac62de\" xlink:actuate=\"onRequest\" xlink:href=\"psysml:380b438c-f0d0-40f2-a10d-c83a46ac62de\" xlink:show=\"new\" xlink:title=\"psysml:380b438c-f0d0-40f2-a10d-c83a46ac62de\" xlink:type=\"simple\"><rect fill=\"#FFFFFF\" height=\"45.9375\" id=\"E3\" rx=\"10\" ry=\"10\" style=\"stroke: #383838; stroke-width: 1.5;\" width=\"74\" x=\"72\" y=\"207\"/><text fill=\"#000000\" font-family=\"sans-serif\" font-size=\"12\" font-style=\"italic\" lengthAdjust=\"spacingAndGlyphs\" textLength=\"40\" x=\"89\" y=\"223.1387\">«part»</text><text fill=\"#000000\" font-family=\"sans-serif\" font-size=\"12\" lengthAdjust=\"spacingAndGlyphs\" textLength=\"64\" x=\"75\" y=\"237.1074\">p11: P211</text><line style=\"stroke: #383838; stroke-width: 1.5;\" x1=\"73\" x2=\"145\" y1=\"244.9375\" y2=\"244.9375\"/></a><!--MD5=[ebbe1d658d1005bcc118a6aa81145e00]\n",
       "class E4--><a href=\"psysml:4c18927e-9f3a-4bbe-ae04-0ff2b7ea0a78\" target=\"_top\" title=\"psysml:4c18927e-9f3a-4bbe-ae04-0ff2b7ea0a78\" xlink:actuate=\"onRequest\" xlink:href=\"psysml:4c18927e-9f3a-4bbe-ae04-0ff2b7ea0a78\" xlink:show=\"new\" xlink:title=\"psysml:4c18927e-9f3a-4bbe-ae04-0ff2b7ea0a78\" xlink:type=\"simple\"><rect fill=\"#FFFFFF\" height=\"45.9375\" id=\"E4\" style=\"stroke: #383838; stroke-width: 1.5;\" width=\"70\" x=\"74\" y=\"126\"/><text fill=\"#000000\" font-family=\"sans-serif\" font-size=\"12\" font-style=\"italic\" lengthAdjust=\"spacingAndGlyphs\" textLength=\"68\" x=\"75\" y=\"142.1387\">«part  def»</text><text fill=\"#000000\" font-family=\"sans-serif\" font-size=\"12\" lengthAdjust=\"spacingAndGlyphs\" textLength=\"24\" x=\"97\" y=\"156.1074\">P12</text><line style=\"stroke: #383838; stroke-width: 1.5;\" x1=\"75\" x2=\"143\" y1=\"163.9375\" y2=\"163.9375\"/></a><!--MD5=[b9389687b975829384b498ac4b7476b2]\n",
       "class E8--><a href=\"psysml:b4068f35-75bf-4c63-8263-9508faa965fc\" target=\"_top\" title=\"psysml:b4068f35-75bf-4c63-8263-9508faa965fc\" xlink:actuate=\"onRequest\" xlink:href=\"psysml:b4068f35-75bf-4c63-8263-9508faa965fc\" xlink:show=\"new\" xlink:title=\"psysml:b4068f35-75bf-4c63-8263-9508faa965fc\" xlink:type=\"simple\"><rect fill=\"#FFFFFF\" height=\"45.9375\" id=\"E8\" style=\"stroke: #383838; stroke-width: 1.5;\" width=\"70\" x=\"411\" y=\"226\"/><text fill=\"#000000\" font-family=\"sans-serif\" font-size=\"12\" font-style=\"italic\" lengthAdjust=\"spacingAndGlyphs\" textLength=\"68\" x=\"412\" y=\"242.1387\">«part  def»</text><text fill=\"#000000\" font-family=\"sans-serif\" font-size=\"12\" lengthAdjust=\"spacingAndGlyphs\" textLength=\"32\" x=\"430\" y=\"256.1074\">P211</text><line style=\"stroke: #383838; stroke-width: 1.5;\" x1=\"412\" x2=\"480\" y1=\"263.9375\" y2=\"263.9375\"/></a><!--MD5=[b0060bfdb0500b904584095522b4da3c]\n",
       "link E2 to E8--><a href=\"psysml:86dbe04c-b04a-4ec6-a347-5e4f000abe00\" target=\"_top\" title=\"psysml:86dbe04c-b04a-4ec6-a347-5e4f000abe00\" xlink:actuate=\"onRequest\" xlink:href=\"psysml:86dbe04c-b04a-4ec6-a347-5e4f000abe00\" xlink:show=\"new\" xlink:title=\"psysml:86dbe04c-b04a-4ec6-a347-5e4f000abe00\" xlink:type=\"simple\"><path d=\"M171.0923,280.8853 C171.4965,280.8383 171.9021,280.7911 172.3092,280.7437 C175.5654,280.3646 178.9108,279.9751 182.3356,279.5764 C196.0348,277.9816 211.005,276.2388 226.6275,274.42 C289.1175,267.145 362.045,258.655 405.82,253.56 \" fill=\"none\" id=\"E2-&gt;E8\" style=\"stroke: #383838; stroke-width: 1.0; stroke-dasharray: 7.0,7.0;\"/><polygon fill=\"#383838\" points=\"410.91,252.97,401.5121,250.0239,405.9427,253.541,402.4256,257.9716,410.91,252.97\" style=\"stroke: #383838; stroke-width: 1.0;\"/><text fill=\"#000000\" font-family=\"sans-serif\" font-size=\"13\" lengthAdjust=\"spacingAndGlyphs\" textLength=\"58\" x=\"209.5\" y=\"265.0669\">«import»</text></a><!--MD5=[e3e28c1befcf002155aa15e1416b4315]\n",
       "link E2 to E6--><a href=\"psysml:b4797686-9eb8-4e8e-a70f-411a8a1a5c6c\" target=\"_top\" title=\"psysml:b4797686-9eb8-4e8e-a70f-411a8a1a5c6c\" xlink:actuate=\"onRequest\" xlink:href=\"psysml:b4797686-9eb8-4e8e-a70f-411a8a1a5c6c\" xlink:show=\"new\" xlink:title=\"psysml:b4797686-9eb8-4e8e-a70f-411a8a1a5c6c\" xlink:type=\"simple\"><path d=\"M120.3348,296.1648 C120.4168,296.2267 120.4991,296.2889 120.5819,296.3513 C121.2441,296.851 121.9332,297.3672 122.6479,297.8983 C124.0773,298.9606 125.6092,300.0826 127.2339,301.2511 C130.4832,303.588 134.1034,306.1109 138.0163,308.7138 C153.6675,319.125 174,330.815 194,337 C220.295,345.13 248.8488,350.3488 276.9572,353.5967 C291.0114,355.2207 304.9543,356.352 318.4479,357.1081 C325.1946,357.4862 331.8291,357.7705 338.3089,357.9757 C339.9289,358.027 341.5392,358.0734 343.1392,358.115 C343.9392,358.1358 344.7366,358.1555 345.5313,358.174 C345.9287,358.1832 346.3254,358.1922 346.7214,358.2009 \" fill=\"none\" id=\"E2-&gt;E6\" style=\"stroke: #383838; stroke-width: 1.0; stroke-dasharray: 7.0,7.0;\"/><polygon fill=\"#383838\" points=\"346.7214,358.2009,337.8112,354.0047,341.7226,358.0914,337.636,362.0028,346.7214,358.2009\" style=\"stroke: #383838; stroke-width: 1.0;\"/><text fill=\"#000000\" font-family=\"sans-serif\" font-size=\"13\" lengthAdjust=\"spacingAndGlyphs\" textLength=\"65\" x=\"206\" y=\"333.0669\">«import»*</text></a><!--MD5=[e3d2a08a9c9236652057e8ed0cbc9b62]\n",
       "link E2 to E7--><a href=\"psysml:c873f416-4fb0-4522-b4d5-2fc0ff0d8008\" target=\"_top\" title=\"psysml:c873f416-4fb0-4522-b4d5-2fc0ff0d8008\" xlink:actuate=\"onRequest\" xlink:href=\"psysml:c873f416-4fb0-4522-b4d5-2fc0ff0d8008\" xlink:show=\"new\" xlink:title=\"psysml:c873f416-4fb0-4522-b4d5-2fc0ff0d8008\" xlink:type=\"simple\"><path d=\"M134.0945,296.0694 C134.3286,296.1416 134.5639,296.214 134.8003,296.2866 C135.2733,296.4318 135.751,296.5778 136.2332,296.7244 C137.1977,297.0176 138.1805,297.3135 139.18,297.6113 C155.1725,302.375 175.46,307.61 194,310 C207.615,311.755 268.6325,311.055 327.0925,309.8913 C341.7075,309.6003 356.1627,309.2804 369.6773,308.9626 C373.056,308.8831 376.3759,308.8038 379.6248,308.7251 C381.2493,308.6858 382.856,308.6466 384.4434,308.6076 C385.2372,308.5881 386.0261,308.5687 386.81,308.5493 \" fill=\"none\" id=\"E2-&gt;E7\" style=\"stroke: #383838; stroke-width: 1.0; stroke-dasharray: 7.0,7.0;\"/><polygon fill=\"#383838\" points=\"386.81,308.5493,377.7139,304.7729,381.8115,308.6729,377.9115,312.7705,386.81,308.5493\" style=\"stroke: #383838; stroke-width: 1.0;\"/><text fill=\"#000000\" font-family=\"sans-serif\" font-size=\"13\" lengthAdjust=\"spacingAndGlyphs\" textLength=\"87\" x=\"195\" y=\"306.0669\">«import»*::**</text></a><!--MD5=[ca5a752d6098d8a44b3f88316e7452d1]\n",
       "link E3 to E8--><a href=\"psysml:bb41b158-76b0-47f5-886e-e2f97e00e6aa\" target=\"_top\" title=\"psysml:bb41b158-76b0-47f5-886e-e2f97e00e6aa\" xlink:actuate=\"onRequest\" xlink:href=\"psysml:bb41b158-76b0-47f5-886e-e2f97e00e6aa\" xlink:show=\"new\" xlink:title=\"psysml:bb41b158-76b0-47f5-886e-e2f97e00e6aa\" xlink:type=\"simple\"><path d=\"M146.15,229.44 C181.17,229.13 235.77,229.25 283,232 C319.01,234.09 359.36,238.32 390.78,242.04 \" fill=\"none\" id=\"E3-&gt;E8\" style=\"stroke: #383838; stroke-width: 1.0;\"/><polygon fill=\"#FFFFFF\" points=\"410.94,244.5,391.2303,249.14,392.9311,235.2437,410.94,244.5\" style=\"stroke: #383838; stroke-width: 1.0;\"/><ellipse cx=\"385.8155\" cy=\"246.4623\" fill=\"#383838\" rx=\"2\" ry=\"2\" style=\"stroke: #383838; stroke-width: 1.0;\"/><ellipse cx=\"387.0304\" cy=\"236.5364\" fill=\"#383838\" rx=\"2\" ry=\"2\" style=\"stroke: #383838; stroke-width: 1.0;\"/></a><!--MD5=[15ebcb19ae302d9b601edb458606d402]\n",
       "link E5 to E2--><a href=\"psysml:cb98c000-d2e0-4059-b3dc-41ff4d975042\" target=\"_top\" title=\"psysml:cb98c000-d2e0-4059-b3dc-41ff4d975042\" xlink:actuate=\"onRequest\" xlink:href=\"psysml:cb98c000-d2e0-4059-b3dc-41ff4d975042\" xlink:show=\"new\" xlink:title=\"psysml:cb98c000-d2e0-4059-b3dc-41ff4d975042\" xlink:type=\"simple\"><path d=\"M306.9419,148.5019 C293.2305,156.7974 279.4227,165.8752 266.0022,175.7247 C239.1613,195.4237 213.87,218.21 194,244 C186.88,253.24 194.51,261.02 186,269 C182.9237,271.8837 179.4781,274.3477 175.7977,276.4511 C173.9575,277.5028 172.0586,278.4645 170.1178,279.3434 \" fill=\"none\" id=\"E5-&gt;E2\" style=\"stroke: #383838; stroke-width: 1.0; stroke-dasharray: 7.0,7.0;\"/><polygon fill=\"#383838\" points=\"170.1178,279.3434,179.9664,279.2743,174.6725,277.2807,176.6661,271.9868,170.1178,279.3434\" style=\"stroke: #383838; stroke-width: 1.0;\"/><text fill=\"#000000\" font-family=\"sans-serif\" font-size=\"13\" lengthAdjust=\"spacingAndGlyphs\" textLength=\"65\" x=\"206\" y=\"164.0669\">«import»*</text></a><!--MD5=[d7bb3fb34add81b710575eb3799fa2ad]\n",
       "link E8 to E4--><a href=\"psysml:ff856c1d-ebaf-4dbc-8ba8-d8c60136e299\" target=\"_top\" title=\"psysml:ff856c1d-ebaf-4dbc-8ba8-d8c60136e299\" xlink:actuate=\"onRequest\" xlink:href=\"psysml:ff856c1d-ebaf-4dbc-8ba8-d8c60136e299\" xlink:show=\"new\" xlink:title=\"psysml:ff856c1d-ebaf-4dbc-8ba8-d8c60136e299\" xlink:type=\"simple\"><path d=\"M410.85,253.61 C375.55,256.27 321.45,254.1 291,222 C270.67,200.56 304.71,176.04 283,156 C251.69,127.1 202.01,128.06 163.91,134.67 \" fill=\"none\" id=\"E8-&gt;E4\" style=\"stroke: #383838; stroke-width: 1.0;\"/><polygon fill=\"none\" points=\"165.12,141.57,144.12,138.77,162.28,127.86,165.12,141.57\" style=\"stroke: #383838; stroke-width: 1.0;\"/></a><!--MD5=[fd4ac8e3a62ae2d1a02cb305dc836e80]\n",
       "@startuml\r\n",
       "left to right direction\r\n",
       "skinparam monochrome true\r\n",
       "skinparam classbackgroundcolor white\r\n",
       "skinparam shadowing false\r\n",
       "skinparam wrapWidth 300\r\n",
       "hide circle\r\n",
       "\r\n",
       "package \"ImportTest\" as E1  [[psysml:789e6656-6985-4918-a680-b12b42056b24 ]]  {\r\n",
       "package \"Pkg1\" as E2  [[psysml:9ed5d6a5-603c-4e6a-bfc8-60e703dcd2fe ]]  {\r\n",
       "comp usage \"p11: P211 \" as E3  <<(T,blue) part>> [[psysml:380b438c-f0d0-40f2-a10d-c83a46ac62de ]] {\r\n",
       "}\r\n",
       "comp def \"P12\" as E4  <<(T,blue) part  def>> [[psysml:4c18927e-9f3a-4bbe-ae04-0ff2b7ea0a78 ]] {\r\n",
       "}\r\n",
       "}\r\n",
       "package \"Pkg2\" as E5  [[psysml:63b0367b-32f1-46aa-9fe1-f934424c590d ]]  {\r\n",
       "package \"Pkg21\" as E6  [[psysml:98b17091-6ea5-4037-8451-bfddc724f9d0 ]]  {\r\n",
       "package \"Pkg211\" as E7  [[psysml:45f4d7ec-8fdd-4896-89d5-a877e9eb4cf9 ]]  {\r\n",
       "comp def \"P211\" as E8  <<(T,blue) part  def>> [[psysml:b4068f35-75bf-4c63-8263-9508faa965fc ]] {\r\n",
       "}\r\n",
       "}\r\n",
       "}\r\n",
       "}\r\n",
       "}\r\n",
       "E2 ..> E8 [[psysml:86dbe04c-b04a-4ec6-a347-5e4f000abe00 ]] : <<import>>\r\n",
       "E2 ..> E6 [[psysml:b4797686-9eb8-4e8e-a70f-411a8a1a5c6c ]] : <<import>>*\r\n",
       "E2 ..> E7 [[psysml:c873f416-4fb0-4522-b4d5-2fc0ff0d8008 ]] : <<import>>*::**\r\n",
       "E3 - -:|> E8 [[psysml:bb41b158-76b0-47f5-886e-e2f97e00e6aa ]] \r\n",
       "E5 ..> E2 [[psysml:cb98c000-d2e0-4059-b3dc-41ff4d975042 ]] : <<import>>*\r\n",
       "E8 - -|> E4 [[psysml:ff856c1d-ebaf-4dbc-8ba8-d8c60136e299 ]] \r\n",
       "@enduml\r\n",
       "\n",
       "PlantUML version 1.2020.13(Sat Jun 13 12:26:38 UTC 2020)\n",
       "(EPL source distribution)\n",
       "Java Runtime: OpenJDK Runtime Environment\n",
       "JVM: OpenJDK 64-Bit Server VM\n",
       "Default Encoding: UTF-8\n",
       "Language: en\n",
       "Country: null\n",
       "--></g></svg>"
      ]
     },
     "execution_count": 22,
     "metadata": {},
     "output_type": "execute_result"
    }
   ],
   "source": [
    "%viz --style=\"LR\" --view=\"MIXED\" \"ImportTest\""
   ]
  },
  {
   "cell_type": "code",
   "execution_count": 23,
   "id": "cff4910e",
   "metadata": {
    "execution": {
     "iopub.execute_input": "2022-08-19T08:17:20.417815Z",
     "iopub.status.busy": "2022-08-19T08:17:20.417338Z",
     "iopub.status.idle": "2022-08-19T08:17:20.456503Z",
     "shell.execute_reply": "2022-08-19T08:17:20.455920Z"
    }
   },
   "outputs": [
    {
     "data": {
      "image/svg+xml": [
       "<?xml version=\"1.0\" encoding=\"UTF-8\" standalone=\"no\"?><svg xmlns=\"http://www.w3.org/2000/svg\" xmlns:xlink=\"http://www.w3.org/1999/xlink\" contentScriptType=\"application/ecmascript\" contentStyleType=\"text/css\" height=\"590px\" preserveAspectRatio=\"none\" style=\"width:522px;height:590px;\" version=\"1.1\" viewBox=\"0 0 522 590\" width=\"522px\" zoomAndPan=\"magnify\"><defs><filter height=\"300%\" id=\"f5tf5xdtl8ml5\" width=\"300%\" x=\"-1\" y=\"-1\"><feGaussianBlur result=\"blurOut\" stdDeviation=\"2.0\"/><feColorMatrix in=\"blurOut\" result=\"blurOut2\" type=\"matrix\" values=\"0 0 0 0 0 0 0 0 0 0 0 0 0 0 0 0 0 0 .4 0\"/><feOffset dx=\"4.0\" dy=\"4.0\" in=\"blurOut2\" result=\"blurOut3\"/><feBlend in=\"SourceGraphic\" in2=\"blurOut3\" mode=\"normal\"/></filter></defs><g><!--MD5=[fbc87193dbaf4d95561dea2c320d4a47]\n",
       "cluster E1--><a href=\"psysml:789e6656-6985-4918-a680-b12b42056b24\" target=\"_top\" title=\"psysml:789e6656-6985-4918-a680-b12b42056b24\" xlink:actuate=\"onRequest\" xlink:href=\"psysml:789e6656-6985-4918-a680-b12b42056b24\" xlink:show=\"new\" xlink:title=\"psysml:789e6656-6985-4918-a680-b12b42056b24\" xlink:type=\"simple\"><polygon fill=\"#FFFFFF\" filter=\"url(#f5tf5xdtl8ml5)\" points=\"16,6,97,6,104,28.2969,500,28.2969,500,578,16,578,16,6\" style=\"stroke: #000000; stroke-width: 1.5;\"/><line style=\"stroke: #000000; stroke-width: 1.5;\" x1=\"16\" x2=\"104\" y1=\"28.2969\" y2=\"28.2969\"/><text fill=\"#000000\" font-family=\"sans-serif\" font-size=\"14\" font-weight=\"bold\" lengthAdjust=\"spacingAndGlyphs\" textLength=\"75\" x=\"20\" y=\"20.9951\">ImportTest</text></a><!--MD5=[e4f7fae6ed58524ba242bb0b0d3be6b7]\n",
       "cluster E2--><a href=\"psysml:9ed5d6a5-603c-4e6a-bfc8-60e703dcd2fe\" target=\"_top\" title=\"psysml:9ed5d6a5-603c-4e6a-bfc8-60e703dcd2fe\" xlink:actuate=\"onRequest\" xlink:href=\"psysml:9ed5d6a5-603c-4e6a-bfc8-60e703dcd2fe\" xlink:show=\"new\" xlink:title=\"psysml:9ed5d6a5-603c-4e6a-bfc8-60e703dcd2fe\" xlink:type=\"simple\"><polygon fill=\"#FFFFFF\" filter=\"url(#f5tf5xdtl8ml5)\" points=\"222,57,263,57,270,79.2969,468,79.2969,468,170,222,170,222,57\" style=\"stroke: #000000; stroke-width: 1.5;\"/><line style=\"stroke: #000000; stroke-width: 1.5;\" x1=\"222\" x2=\"270\" y1=\"79.2969\" y2=\"79.2969\"/><text fill=\"#000000\" font-family=\"sans-serif\" font-size=\"14\" font-weight=\"bold\" lengthAdjust=\"spacingAndGlyphs\" textLength=\"35\" x=\"226\" y=\"71.9951\">Pkg1</text></a><!--MD5=[de5ec2e2e8f62f467e546659f5068c88]\n",
       "cluster E5--><a href=\"psysml:63b0367b-32f1-46aa-9fe1-f934424c590d\" target=\"_top\" title=\"psysml:63b0367b-32f1-46aa-9fe1-f934424c590d\" xlink:actuate=\"onRequest\" xlink:href=\"psysml:63b0367b-32f1-46aa-9fe1-f934424c590d\" xlink:show=\"new\" xlink:title=\"psysml:63b0367b-32f1-46aa-9fe1-f934424c590d\" xlink:type=\"simple\"><polygon fill=\"#FFFFFF\" filter=\"url(#f5tf5xdtl8ml5)\" points=\"121,235,162,235,169,257.2969,434,257.2969,434,546,121,546,121,235\" style=\"stroke: #000000; stroke-width: 1.5;\"/><line style=\"stroke: #000000; stroke-width: 1.5;\" x1=\"121\" x2=\"169\" y1=\"257.2969\" y2=\"257.2969\"/><text fill=\"#000000\" font-family=\"sans-serif\" font-size=\"14\" font-weight=\"bold\" lengthAdjust=\"spacingAndGlyphs\" textLength=\"35\" x=\"125\" y=\"249.9951\">Pkg2</text></a><!--MD5=[14e3b0961a2654348d326746436168a1]\n",
       "cluster E6--><a href=\"psysml:98b17091-6ea5-4037-8451-bfddc724f9d0\" target=\"_top\" title=\"psysml:98b17091-6ea5-4037-8451-bfddc724f9d0\" xlink:actuate=\"onRequest\" xlink:href=\"psysml:98b17091-6ea5-4037-8451-bfddc724f9d0\" xlink:show=\"new\" xlink:title=\"psysml:98b17091-6ea5-4037-8451-bfddc724f9d0\" xlink:type=\"simple\"><polygon fill=\"#FFFFFF\" filter=\"url(#f5tf5xdtl8ml5)\" points=\"161,294,211,294,218,316.2969,386,316.2969,386,506,161,506,161,294\" style=\"stroke: #000000; stroke-width: 1.5;\"/><line style=\"stroke: #000000; stroke-width: 1.5;\" x1=\"161\" x2=\"218\" y1=\"316.2969\" y2=\"316.2969\"/><text fill=\"#000000\" font-family=\"sans-serif\" font-size=\"14\" font-weight=\"bold\" lengthAdjust=\"spacingAndGlyphs\" textLength=\"44\" x=\"165\" y=\"308.9951\">Pkg21</text></a><!--MD5=[168fadf3d0c3fd93dd5d6da1b1d7ab76]\n",
       "cluster E7--><a href=\"psysml:45f4d7ec-8fdd-4896-89d5-a877e9eb4cf9\" target=\"_top\" title=\"psysml:45f4d7ec-8fdd-4896-89d5-a877e9eb4cf9\" xlink:actuate=\"onRequest\" xlink:href=\"psysml:45f4d7ec-8fdd-4896-89d5-a877e9eb4cf9\" xlink:show=\"new\" xlink:title=\"psysml:45f4d7ec-8fdd-4896-89d5-a877e9eb4cf9\" xlink:type=\"simple\"><polygon fill=\"#FFFFFF\" filter=\"url(#f5tf5xdtl8ml5)\" points=\"209,353,268,353,275,375.2969,346,375.2969,346,466,209,466,209,353\" style=\"stroke: #000000; stroke-width: 1.5;\"/><line style=\"stroke: #000000; stroke-width: 1.5;\" x1=\"209\" x2=\"275\" y1=\"375.2969\" y2=\"375.2969\"/><text fill=\"#000000\" font-family=\"sans-serif\" font-size=\"14\" font-weight=\"bold\" lengthAdjust=\"spacingAndGlyphs\" textLength=\"53\" x=\"213\" y=\"367.9951\">Pkg211</text></a><!--MD5=[09b614a08d8cba4a07c9adeb5e0fee81]\n",
       "class E3--><a href=\"psysml:380b438c-f0d0-40f2-a10d-c83a46ac62de\" target=\"_top\" title=\"psysml:380b438c-f0d0-40f2-a10d-c83a46ac62de\" xlink:actuate=\"onRequest\" xlink:href=\"psysml:380b438c-f0d0-40f2-a10d-c83a46ac62de\" xlink:show=\"new\" xlink:title=\"psysml:380b438c-f0d0-40f2-a10d-c83a46ac62de\" xlink:type=\"simple\"><rect fill=\"#FEFECE\" filter=\"url(#f5tf5xdtl8ml5)\" height=\"45.9375\" id=\"E3\" rx=\"10\" ry=\"10\" style=\"stroke: #A80036; stroke-width: 1.5;\" width=\"74\" x=\"265\" y=\"100\"/><text fill=\"#000000\" font-family=\"sans-serif\" font-size=\"12\" font-style=\"italic\" lengthAdjust=\"spacingAndGlyphs\" textLength=\"40\" x=\"282\" y=\"116.1387\">«part»</text><text fill=\"#000000\" font-family=\"sans-serif\" font-size=\"12\" lengthAdjust=\"spacingAndGlyphs\" textLength=\"64\" x=\"268\" y=\"130.1074\">p11: P211</text><line style=\"stroke: #A80036; stroke-width: 1.5;\" x1=\"266\" x2=\"338\" y1=\"137.9375\" y2=\"137.9375\"/></a><!--MD5=[ebbe1d658d1005bcc118a6aa81145e00]\n",
       "class E4--><a href=\"psysml:4c18927e-9f3a-4bbe-ae04-0ff2b7ea0a78\" target=\"_top\" title=\"psysml:4c18927e-9f3a-4bbe-ae04-0ff2b7ea0a78\" xlink:actuate=\"onRequest\" xlink:href=\"psysml:4c18927e-9f3a-4bbe-ae04-0ff2b7ea0a78\" xlink:show=\"new\" xlink:title=\"psysml:4c18927e-9f3a-4bbe-ae04-0ff2b7ea0a78\" xlink:type=\"simple\"><rect fill=\"#FEFECE\" filter=\"url(#f5tf5xdtl8ml5)\" height=\"45.9375\" id=\"E4\" style=\"stroke: #A80036; stroke-width: 1.5;\" width=\"70\" x=\"374\" y=\"100\"/><text fill=\"#000000\" font-family=\"sans-serif\" font-size=\"12\" font-style=\"italic\" lengthAdjust=\"spacingAndGlyphs\" textLength=\"68\" x=\"375\" y=\"116.1387\">«part  def»</text><text fill=\"#000000\" font-family=\"sans-serif\" font-size=\"12\" lengthAdjust=\"spacingAndGlyphs\" textLength=\"24\" x=\"397\" y=\"130.1074\">P12</text><line style=\"stroke: #A80036; stroke-width: 1.5;\" x1=\"375\" x2=\"443\" y1=\"137.9375\" y2=\"137.9375\"/></a><!--MD5=[b9389687b975829384b498ac4b7476b2]\n",
       "class E8--><a href=\"psysml:b4068f35-75bf-4c63-8263-9508faa965fc\" target=\"_top\" title=\"psysml:b4068f35-75bf-4c63-8263-9508faa965fc\" xlink:actuate=\"onRequest\" xlink:href=\"psysml:b4068f35-75bf-4c63-8263-9508faa965fc\" xlink:show=\"new\" xlink:title=\"psysml:b4068f35-75bf-4c63-8263-9508faa965fc\" xlink:type=\"simple\"><rect fill=\"#FEFECE\" filter=\"url(#f5tf5xdtl8ml5)\" height=\"45.9375\" id=\"E8\" style=\"stroke: #A80036; stroke-width: 1.5;\" width=\"70\" x=\"252\" y=\"396\"/><text fill=\"#000000\" font-family=\"sans-serif\" font-size=\"12\" font-style=\"italic\" lengthAdjust=\"spacingAndGlyphs\" textLength=\"68\" x=\"253\" y=\"412.1387\">«part  def»</text><text fill=\"#000000\" font-family=\"sans-serif\" font-size=\"12\" lengthAdjust=\"spacingAndGlyphs\" textLength=\"32\" x=\"271\" y=\"426.1074\">P211</text><line style=\"stroke: #A80036; stroke-width: 1.5;\" x1=\"253\" x2=\"321\" y1=\"433.9375\" y2=\"433.9375\"/></a><!--MD5=[b0060bfdb0500b904584095522b4da3c]\n",
       "link E2 to E8--><a href=\"psysml:86dbe04c-b04a-4ec6-a347-5e4f000abe00\" target=\"_top\" title=\"psysml:86dbe04c-b04a-4ec6-a347-5e4f000abe00\" xlink:actuate=\"onRequest\" xlink:href=\"psysml:86dbe04c-b04a-4ec6-a347-5e4f000abe00\" xlink:show=\"new\" xlink:title=\"psysml:86dbe04c-b04a-4ec6-a347-5e4f000abe00\" xlink:type=\"simple\"><path d=\"M239.5673,170.044 C239.9187,170.8643 240.2829,171.6796 240.6605,172.4884 C241.4156,174.106 242.2242,175.6975 243.0899,177.2503 C244.8213,180.3558 246.7813,183.3063 249,186 C253.8,191.83 259.79,187.73 264,194 C304.62,254.46 298.3,345.57 291.84,390.69 \" fill=\"none\" id=\"E2-&gt;E8\" style=\"stroke: #A80036; stroke-width: 1.0; stroke-dasharray: 7.0,7.0;\"/><polygon fill=\"#A80036\" points=\"291.1,395.69,296.3662,387.3673,291.8271,390.7431,288.4512,386.204,291.1,395.69\" style=\"stroke: #A80036; stroke-width: 1.0;\"/><text fill=\"#000000\" font-family=\"sans-serif\" font-size=\"13\" lengthAdjust=\"spacingAndGlyphs\" textLength=\"58\" x=\"274\" y=\"207.0669\">«import»</text></a><!--MD5=[e3e28c1befcf002155aa15e1416b4315]\n",
       "link E2 to E6--><a href=\"psysml:b4797686-9eb8-4e8e-a70f-411a8a1a5c6c\" target=\"_top\" title=\"psysml:b4797686-9eb8-4e8e-a70f-411a8a1a5c6c\" xlink:actuate=\"onRequest\" xlink:href=\"psysml:b4797686-9eb8-4e8e-a70f-411a8a1a5c6c\" xlink:show=\"new\" xlink:title=\"psysml:b4797686-9eb8-4e8e-a70f-411a8a1a5c6c\" xlink:type=\"simple\"><path d=\"M221.7454,125.2359 C221.6297,125.2555 221.5129,125.2754 221.395,125.2955 C221.1593,125.3358 220.9193,125.3771 220.6752,125.4195 C220.1869,125.5042 219.6819,125.5933 219.1609,125.6868 C217.0769,126.0607 214.7359,126.5053 212.1769,127.0288 C201.9406,129.1225 188.215,132.4775 173.4875,137.615 C144.0325,147.89 110.57,165.295 93,194 C65.99,238.135 83.98,293.0875 109.2162,337.5175 C121.8344,359.7325 136.2641,379.3169 147.7861,393.6031 C150.6666,397.1747 153.3654,400.4151 155.8087,403.2827 C157.0304,404.7165 158.1881,406.0571 159.2728,407.2993 C159.8152,407.9204 160.3393,408.5169 160.8439,409.0882 \" fill=\"none\" id=\"E2-&gt;E6\" style=\"stroke: #A80036; stroke-width: 1.0; stroke-dasharray: 7.0,7.0;\"/><polygon fill=\"#A80036\" points=\"160.8439,409.0882,157.8829,399.695,157.5335,405.341,151.8875,404.9916,160.8439,409.0882\" style=\"stroke: #A80036; stroke-width: 1.0;\"/><text fill=\"#000000\" font-family=\"sans-serif\" font-size=\"13\" lengthAdjust=\"spacingAndGlyphs\" textLength=\"65\" x=\"94\" y=\"207.0669\">«import»*</text></a><!--MD5=[e3d2a08a9c9236652057e8ed0cbc9b62]\n",
       "link E2 to E7--><a href=\"psysml:c873f416-4fb0-4522-b4d5-2fc0ff0d8008\" target=\"_top\" title=\"psysml:c873f416-4fb0-4522-b4d5-2fc0ff0d8008\" xlink:actuate=\"onRequest\" xlink:href=\"psysml:c873f416-4fb0-4522-b4d5-2fc0ff0d8008\" xlink:show=\"new\" xlink:title=\"psysml:c873f416-4fb0-4522-b4d5-2fc0ff0d8008\" xlink:type=\"simple\"><path d=\"M221.8807,130.2617 C221.7401,130.3761 221.5982,130.4918 221.4548,130.6091 C216.8678,134.36 210.8594,139.5688 204.5113,145.875 C191.815,158.4875 177.76,175.49 171,194 C168.41,201.1 166.18,205.18 171,211 C183.11,225.64 200.74,204.48 213,219 C227.045,235.63 228.2325,284.0975 225.8175,329.0338 C225.5156,334.6508 225.1575,340.2126 224.7611,345.6502 C224.662,347.0096 224.5605,348.3613 224.4569,349.7041 C224.4051,350.3755 224.3528,351.0446 224.3,351.7115 C224.2736,352.0449 224.2471,352.3777 224.2204,352.71 \" fill=\"none\" id=\"E2-&gt;E7\" style=\"stroke: #A80036; stroke-width: 1.0; stroke-dasharray: 7.0,7.0;\"/><polygon fill=\"#A80036\" points=\"224.2204,352.71,228.9272,344.0586,224.6202,347.726,220.9528,343.419,224.2204,352.71\" style=\"stroke: #A80036; stroke-width: 1.0;\"/><text fill=\"#000000\" font-family=\"sans-serif\" font-size=\"13\" lengthAdjust=\"spacingAndGlyphs\" textLength=\"87\" x=\"172\" y=\"207.0669\">«import»*::**</text></a><!--MD5=[ca5a752d6098d8a44b3f88316e7452d1]\n",
       "link E3 to E8--><a href=\"psysml:bb41b158-76b0-47f5-886e-e2f97e00e6aa\" target=\"_top\" title=\"psysml:bb41b158-76b0-47f5-886e-e2f97e00e6aa\" xlink:actuate=\"onRequest\" xlink:href=\"psysml:bb41b158-76b0-47f5-886e-e2f97e00e6aa\" xlink:show=\"new\" xlink:title=\"psysml:bb41b158-76b0-47f5-886e-e2f97e00e6aa\" xlink:type=\"simple\"><path d=\"M321.59,146.07 C339.73,166.51 363.93,193.81 364,194 C366.68,201.06 368.76,205.13 364,211 C353.13,224.4 338.12,206.71 326,219 C285.31,260.27 280.82,330.75 282.81,375.81 \" fill=\"none\" id=\"E3-&gt;E8\" style=\"stroke: #A80036; stroke-width: 1.0;\"/><polygon fill=\"#FFFFFF\" points=\"284.19,395.93,275.9039,377.4546,289.8709,376.4948,284.19,395.93\" style=\"stroke: #A80036; stroke-width: 1.0;\"/><ellipse cx=\"277.5084\" cy=\"371.6309\" fill=\"#A80036\" rx=\"2\" ry=\"2\" style=\"stroke: #A80036; stroke-width: 1.0;\"/><ellipse cx=\"287.4849\" cy=\"370.9453\" fill=\"#A80036\" rx=\"2\" ry=\"2\" style=\"stroke: #A80036; stroke-width: 1.0;\"/></a><!--MD5=[15ebcb19ae302d9b601edb458606d402]\n",
       "link E5 to E2--><a href=\"psysml:cb98c000-d2e0-4059-b3dc-41ff4d975042\" target=\"_top\" title=\"psysml:cb98c000-d2e0-4059-b3dc-41ff4d975042\" xlink:actuate=\"onRequest\" xlink:href=\"psysml:cb98c000-d2e0-4059-b3dc-41ff4d975042\" xlink:show=\"new\" xlink:title=\"psysml:cb98c000-d2e0-4059-b3dc-41ff4d975042\" xlink:type=\"simple\"><path d=\"M377.9071,234.5987 C377.6837,234.254 377.4593,233.91 377.2338,233.5668 C376.3317,232.1941 375.413,230.8338 374.4773,229.4868 C372.6059,226.7928 370.6665,224.152 368.6567,221.572 C360.6175,211.2517 351.4513,201.9025 341,194 C324.63,181.62 264.96,198.91 249,186 C246.2863,183.805 243.9511,181.2325 241.9426,178.4061 C240.9384,176.9929 240.0159,175.5163 239.1685,173.9916 C238.7448,173.2292 238.3399,172.4549 237.953,171.6705 C237.7596,171.2782 237.5706,170.8835 237.3861,170.4865 C237.3399,170.3873 237.2941,170.2879 237.2485,170.1883 \" fill=\"none\" id=\"E5-&gt;E2\" style=\"stroke: #A80036; stroke-width: 1.0; stroke-dasharray: 7.0,7.0;\"/><polygon fill=\"#A80036\" points=\"237.2485,170.1883,237.3599,180.0366,239.3307,174.7341,244.6331,176.705,237.2485,170.1883\" style=\"stroke: #A80036; stroke-width: 1.0;\"/><text fill=\"#000000\" font-family=\"sans-serif\" font-size=\"13\" lengthAdjust=\"spacingAndGlyphs\" textLength=\"65\" x=\"356\" y=\"207.0669\">«import»*</text></a><!--MD5=[d7bb3fb34add81b710575eb3799fa2ad]\n",
       "link E8 to E4--><a href=\"psysml:ff856c1d-ebaf-4dbc-8ba8-d8c60136e299\" target=\"_top\" title=\"psysml:ff856c1d-ebaf-4dbc-8ba8-d8c60136e299\" xlink:actuate=\"onRequest\" xlink:href=\"psysml:ff856c1d-ebaf-4dbc-8ba8-d8c60136e299\" xlink:show=\"new\" xlink:title=\"psysml:ff856c1d-ebaf-4dbc-8ba8-d8c60136e299\" xlink:type=\"simple\"><path d=\"M283.6,395.87 C278.58,354.03 274.69,263.54 326,219 C338.77,207.91 466.36,223.27 478,211 C493.94,194.2 479.72,174.01 460.15,157.31 \" fill=\"none\" id=\"E8-&gt;E4\" style=\"stroke: #A80036; stroke-width: 1.0;\"/><polygon fill=\"none\" points=\"455.78,162.78,444.15,145.06,464.29,151.66,455.78,162.78\" style=\"stroke: #A80036; stroke-width: 1.0;\"/></a><!--MD5=[6afe41145310f91727c8c0c51090a98b]\n",
       "@startuml\r\n",
       "skinparam wrapWidth 300\r\n",
       "hide circle\r\n",
       "\r\n",
       "package \"ImportTest\" as E1  [[psysml:789e6656-6985-4918-a680-b12b42056b24 ]]  {\r\n",
       "package \"Pkg1\" as E2  [[psysml:9ed5d6a5-603c-4e6a-bfc8-60e703dcd2fe ]]  {\r\n",
       "comp usage \"p11: P211 \" as E3  <<(T,blue) part>> [[psysml:380b438c-f0d0-40f2-a10d-c83a46ac62de ]] {\r\n",
       "}\r\n",
       "comp def \"P12\" as E4  <<(T,blue) part  def>> [[psysml:4c18927e-9f3a-4bbe-ae04-0ff2b7ea0a78 ]] {\r\n",
       "}\r\n",
       "}\r\n",
       "package \"Pkg2\" as E5  [[psysml:63b0367b-32f1-46aa-9fe1-f934424c590d ]]  {\r\n",
       "package \"Pkg21\" as E6  [[psysml:98b17091-6ea5-4037-8451-bfddc724f9d0 ]]  {\r\n",
       "package \"Pkg211\" as E7  [[psysml:45f4d7ec-8fdd-4896-89d5-a877e9eb4cf9 ]]  {\r\n",
       "comp def \"P211\" as E8  <<(T,blue) part  def>> [[psysml:b4068f35-75bf-4c63-8263-9508faa965fc ]] {\r\n",
       "}\r\n",
       "}\r\n",
       "}\r\n",
       "}\r\n",
       "}\r\n",
       "E2 ..> E8 [[psysml:86dbe04c-b04a-4ec6-a347-5e4f000abe00 ]] : <<import>>\r\n",
       "E2 ..> E6 [[psysml:b4797686-9eb8-4e8e-a70f-411a8a1a5c6c ]] : <<import>>*\r\n",
       "E2 ..> E7 [[psysml:c873f416-4fb0-4522-b4d5-2fc0ff0d8008 ]] : <<import>>*::**\r\n",
       "E3 - -:|> E8 [[psysml:bb41b158-76b0-47f5-886e-e2f97e00e6aa ]] \r\n",
       "E5 ..> E2 [[psysml:cb98c000-d2e0-4059-b3dc-41ff4d975042 ]] : <<import>>*\r\n",
       "E8 - -|> E4 [[psysml:ff856c1d-ebaf-4dbc-8ba8-d8c60136e299 ]] \r\n",
       "@enduml\r\n",
       "\n",
       "PlantUML version 1.2020.13(Sat Jun 13 12:26:38 UTC 2020)\n",
       "(EPL source distribution)\n",
       "Java Runtime: OpenJDK Runtime Environment\n",
       "JVM: OpenJDK 64-Bit Server VM\n",
       "Default Encoding: UTF-8\n",
       "Language: en\n",
       "Country: null\n",
       "--></g></svg>"
      ]
     },
     "execution_count": 23,
     "metadata": {},
     "output_type": "execute_result"
    }
   ],
   "source": [
    "%viz --style=\"STDCOLOR\" --view=\"Default\" \"ImportTest\""
   ]
  },
  {
   "cell_type": "code",
   "execution_count": 24,
   "id": "efa243c8",
   "metadata": {
    "execution": {
     "iopub.execute_input": "2022-08-19T08:17:20.505292Z",
     "iopub.status.busy": "2022-08-19T08:17:20.504833Z",
     "iopub.status.idle": "2022-08-19T08:17:20.543423Z",
     "shell.execute_reply": "2022-08-19T08:17:20.542863Z"
    }
   },
   "outputs": [
    {
     "data": {
      "image/svg+xml": [
       "<?xml version=\"1.0\" encoding=\"UTF-8\" standalone=\"no\"?><svg xmlns=\"http://www.w3.org/2000/svg\" xmlns:xlink=\"http://www.w3.org/1999/xlink\" contentScriptType=\"application/ecmascript\" contentStyleType=\"text/css\" height=\"590px\" preserveAspectRatio=\"none\" style=\"width:522px;height:590px;\" version=\"1.1\" viewBox=\"0 0 522 590\" width=\"522px\" zoomAndPan=\"magnify\"><defs><filter height=\"300%\" id=\"f5tf5xdtl8ml5\" width=\"300%\" x=\"-1\" y=\"-1\"><feGaussianBlur result=\"blurOut\" stdDeviation=\"2.0\"/><feColorMatrix in=\"blurOut\" result=\"blurOut2\" type=\"matrix\" values=\"0 0 0 0 0 0 0 0 0 0 0 0 0 0 0 0 0 0 .4 0\"/><feOffset dx=\"4.0\" dy=\"4.0\" in=\"blurOut2\" result=\"blurOut3\"/><feBlend in=\"SourceGraphic\" in2=\"blurOut3\" mode=\"normal\"/></filter></defs><g><!--MD5=[fbc87193dbaf4d95561dea2c320d4a47]\n",
       "cluster E1--><a href=\"psysml:789e6656-6985-4918-a680-b12b42056b24\" target=\"_top\" title=\"psysml:789e6656-6985-4918-a680-b12b42056b24\" xlink:actuate=\"onRequest\" xlink:href=\"psysml:789e6656-6985-4918-a680-b12b42056b24\" xlink:show=\"new\" xlink:title=\"psysml:789e6656-6985-4918-a680-b12b42056b24\" xlink:type=\"simple\"><polygon fill=\"#FFFFFF\" filter=\"url(#f5tf5xdtl8ml5)\" points=\"16,6,97,6,104,28.2969,500,28.2969,500,578,16,578,16,6\" style=\"stroke: #000000; stroke-width: 1.5;\"/><line style=\"stroke: #000000; stroke-width: 1.5;\" x1=\"16\" x2=\"104\" y1=\"28.2969\" y2=\"28.2969\"/><text fill=\"#000000\" font-family=\"sans-serif\" font-size=\"14\" font-weight=\"bold\" lengthAdjust=\"spacingAndGlyphs\" textLength=\"75\" x=\"20\" y=\"20.9951\">ImportTest</text></a><!--MD5=[e4f7fae6ed58524ba242bb0b0d3be6b7]\n",
       "cluster E2--><a href=\"psysml:9ed5d6a5-603c-4e6a-bfc8-60e703dcd2fe\" target=\"_top\" title=\"psysml:9ed5d6a5-603c-4e6a-bfc8-60e703dcd2fe\" xlink:actuate=\"onRequest\" xlink:href=\"psysml:9ed5d6a5-603c-4e6a-bfc8-60e703dcd2fe\" xlink:show=\"new\" xlink:title=\"psysml:9ed5d6a5-603c-4e6a-bfc8-60e703dcd2fe\" xlink:type=\"simple\"><polygon fill=\"#FFFFFF\" filter=\"url(#f5tf5xdtl8ml5)\" points=\"222,57,263,57,270,79.2969,468,79.2969,468,170,222,170,222,57\" style=\"stroke: #000000; stroke-width: 1.5;\"/><line style=\"stroke: #000000; stroke-width: 1.5;\" x1=\"222\" x2=\"270\" y1=\"79.2969\" y2=\"79.2969\"/><text fill=\"#000000\" font-family=\"sans-serif\" font-size=\"14\" font-weight=\"bold\" lengthAdjust=\"spacingAndGlyphs\" textLength=\"35\" x=\"226\" y=\"71.9951\">Pkg1</text></a><!--MD5=[de5ec2e2e8f62f467e546659f5068c88]\n",
       "cluster E5--><a href=\"psysml:63b0367b-32f1-46aa-9fe1-f934424c590d\" target=\"_top\" title=\"psysml:63b0367b-32f1-46aa-9fe1-f934424c590d\" xlink:actuate=\"onRequest\" xlink:href=\"psysml:63b0367b-32f1-46aa-9fe1-f934424c590d\" xlink:show=\"new\" xlink:title=\"psysml:63b0367b-32f1-46aa-9fe1-f934424c590d\" xlink:type=\"simple\"><polygon fill=\"#FFFFFF\" filter=\"url(#f5tf5xdtl8ml5)\" points=\"121,235,162,235,169,257.2969,434,257.2969,434,546,121,546,121,235\" style=\"stroke: #000000; stroke-width: 1.5;\"/><line style=\"stroke: #000000; stroke-width: 1.5;\" x1=\"121\" x2=\"169\" y1=\"257.2969\" y2=\"257.2969\"/><text fill=\"#000000\" font-family=\"sans-serif\" font-size=\"14\" font-weight=\"bold\" lengthAdjust=\"spacingAndGlyphs\" textLength=\"35\" x=\"125\" y=\"249.9951\">Pkg2</text></a><!--MD5=[14e3b0961a2654348d326746436168a1]\n",
       "cluster E6--><a href=\"psysml:98b17091-6ea5-4037-8451-bfddc724f9d0\" target=\"_top\" title=\"psysml:98b17091-6ea5-4037-8451-bfddc724f9d0\" xlink:actuate=\"onRequest\" xlink:href=\"psysml:98b17091-6ea5-4037-8451-bfddc724f9d0\" xlink:show=\"new\" xlink:title=\"psysml:98b17091-6ea5-4037-8451-bfddc724f9d0\" xlink:type=\"simple\"><polygon fill=\"#FFFFFF\" filter=\"url(#f5tf5xdtl8ml5)\" points=\"161,294,211,294,218,316.2969,386,316.2969,386,506,161,506,161,294\" style=\"stroke: #000000; stroke-width: 1.5;\"/><line style=\"stroke: #000000; stroke-width: 1.5;\" x1=\"161\" x2=\"218\" y1=\"316.2969\" y2=\"316.2969\"/><text fill=\"#000000\" font-family=\"sans-serif\" font-size=\"14\" font-weight=\"bold\" lengthAdjust=\"spacingAndGlyphs\" textLength=\"44\" x=\"165\" y=\"308.9951\">Pkg21</text></a><!--MD5=[168fadf3d0c3fd93dd5d6da1b1d7ab76]\n",
       "cluster E7--><a href=\"psysml:45f4d7ec-8fdd-4896-89d5-a877e9eb4cf9\" target=\"_top\" title=\"psysml:45f4d7ec-8fdd-4896-89d5-a877e9eb4cf9\" xlink:actuate=\"onRequest\" xlink:href=\"psysml:45f4d7ec-8fdd-4896-89d5-a877e9eb4cf9\" xlink:show=\"new\" xlink:title=\"psysml:45f4d7ec-8fdd-4896-89d5-a877e9eb4cf9\" xlink:type=\"simple\"><polygon fill=\"#FFFFFF\" filter=\"url(#f5tf5xdtl8ml5)\" points=\"209,353,268,353,275,375.2969,346,375.2969,346,466,209,466,209,353\" style=\"stroke: #000000; stroke-width: 1.5;\"/><line style=\"stroke: #000000; stroke-width: 1.5;\" x1=\"209\" x2=\"275\" y1=\"375.2969\" y2=\"375.2969\"/><text fill=\"#000000\" font-family=\"sans-serif\" font-size=\"14\" font-weight=\"bold\" lengthAdjust=\"spacingAndGlyphs\" textLength=\"53\" x=\"213\" y=\"367.9951\">Pkg211</text></a><!--MD5=[09b614a08d8cba4a07c9adeb5e0fee81]\n",
       "class E3--><a href=\"psysml:380b438c-f0d0-40f2-a10d-c83a46ac62de\" target=\"_top\" title=\"psysml:380b438c-f0d0-40f2-a10d-c83a46ac62de\" xlink:actuate=\"onRequest\" xlink:href=\"psysml:380b438c-f0d0-40f2-a10d-c83a46ac62de\" xlink:show=\"new\" xlink:title=\"psysml:380b438c-f0d0-40f2-a10d-c83a46ac62de\" xlink:type=\"simple\"><rect fill=\"#FEFECE\" filter=\"url(#f5tf5xdtl8ml5)\" height=\"45.9375\" id=\"E3\" rx=\"10\" ry=\"10\" style=\"stroke: #A80036; stroke-width: 1.5;\" width=\"74\" x=\"265\" y=\"100\"/><text fill=\"#000000\" font-family=\"sans-serif\" font-size=\"12\" font-style=\"italic\" lengthAdjust=\"spacingAndGlyphs\" textLength=\"40\" x=\"282\" y=\"116.1387\">«part»</text><text fill=\"#000000\" font-family=\"sans-serif\" font-size=\"12\" lengthAdjust=\"spacingAndGlyphs\" textLength=\"64\" x=\"268\" y=\"130.1074\">p11: P211</text><line style=\"stroke: #A80036; stroke-width: 1.5;\" x1=\"266\" x2=\"338\" y1=\"137.9375\" y2=\"137.9375\"/></a><!--MD5=[ebbe1d658d1005bcc118a6aa81145e00]\n",
       "class E4--><a href=\"psysml:4c18927e-9f3a-4bbe-ae04-0ff2b7ea0a78\" target=\"_top\" title=\"psysml:4c18927e-9f3a-4bbe-ae04-0ff2b7ea0a78\" xlink:actuate=\"onRequest\" xlink:href=\"psysml:4c18927e-9f3a-4bbe-ae04-0ff2b7ea0a78\" xlink:show=\"new\" xlink:title=\"psysml:4c18927e-9f3a-4bbe-ae04-0ff2b7ea0a78\" xlink:type=\"simple\"><rect fill=\"#FEFECE\" filter=\"url(#f5tf5xdtl8ml5)\" height=\"45.9375\" id=\"E4\" style=\"stroke: #A80036; stroke-width: 1.5;\" width=\"70\" x=\"374\" y=\"100\"/><text fill=\"#000000\" font-family=\"sans-serif\" font-size=\"12\" font-style=\"italic\" lengthAdjust=\"spacingAndGlyphs\" textLength=\"68\" x=\"375\" y=\"116.1387\">«part  def»</text><text fill=\"#000000\" font-family=\"sans-serif\" font-size=\"12\" lengthAdjust=\"spacingAndGlyphs\" textLength=\"24\" x=\"397\" y=\"130.1074\">P12</text><line style=\"stroke: #A80036; stroke-width: 1.5;\" x1=\"375\" x2=\"443\" y1=\"137.9375\" y2=\"137.9375\"/></a><!--MD5=[b9389687b975829384b498ac4b7476b2]\n",
       "class E8--><a href=\"psysml:b4068f35-75bf-4c63-8263-9508faa965fc\" target=\"_top\" title=\"psysml:b4068f35-75bf-4c63-8263-9508faa965fc\" xlink:actuate=\"onRequest\" xlink:href=\"psysml:b4068f35-75bf-4c63-8263-9508faa965fc\" xlink:show=\"new\" xlink:title=\"psysml:b4068f35-75bf-4c63-8263-9508faa965fc\" xlink:type=\"simple\"><rect fill=\"#FEFECE\" filter=\"url(#f5tf5xdtl8ml5)\" height=\"45.9375\" id=\"E8\" style=\"stroke: #A80036; stroke-width: 1.5;\" width=\"70\" x=\"252\" y=\"396\"/><text fill=\"#000000\" font-family=\"sans-serif\" font-size=\"12\" font-style=\"italic\" lengthAdjust=\"spacingAndGlyphs\" textLength=\"68\" x=\"253\" y=\"412.1387\">«part  def»</text><text fill=\"#000000\" font-family=\"sans-serif\" font-size=\"12\" lengthAdjust=\"spacingAndGlyphs\" textLength=\"32\" x=\"271\" y=\"426.1074\">P211</text><line style=\"stroke: #A80036; stroke-width: 1.5;\" x1=\"253\" x2=\"321\" y1=\"433.9375\" y2=\"433.9375\"/></a><!--MD5=[b0060bfdb0500b904584095522b4da3c]\n",
       "link E2 to E8--><a href=\"psysml:86dbe04c-b04a-4ec6-a347-5e4f000abe00\" target=\"_top\" title=\"psysml:86dbe04c-b04a-4ec6-a347-5e4f000abe00\" xlink:actuate=\"onRequest\" xlink:href=\"psysml:86dbe04c-b04a-4ec6-a347-5e4f000abe00\" xlink:show=\"new\" xlink:title=\"psysml:86dbe04c-b04a-4ec6-a347-5e4f000abe00\" xlink:type=\"simple\"><path d=\"M239.5673,170.044 C239.9187,170.8643 240.2829,171.6796 240.6605,172.4884 C241.4156,174.106 242.2242,175.6975 243.0899,177.2503 C244.8213,180.3558 246.7813,183.3063 249,186 C253.8,191.83 259.79,187.73 264,194 C304.62,254.46 298.3,345.57 291.84,390.69 \" fill=\"none\" id=\"E2-&gt;E8\" style=\"stroke: #A80036; stroke-width: 1.0; stroke-dasharray: 7.0,7.0;\"/><polygon fill=\"#A80036\" points=\"291.1,395.69,296.3662,387.3673,291.8271,390.7431,288.4512,386.204,291.1,395.69\" style=\"stroke: #A80036; stroke-width: 1.0;\"/><text fill=\"#000000\" font-family=\"sans-serif\" font-size=\"13\" lengthAdjust=\"spacingAndGlyphs\" textLength=\"58\" x=\"274\" y=\"207.0669\">«import»</text></a><!--MD5=[e3e28c1befcf002155aa15e1416b4315]\n",
       "link E2 to E6--><a href=\"psysml:b4797686-9eb8-4e8e-a70f-411a8a1a5c6c\" target=\"_top\" title=\"psysml:b4797686-9eb8-4e8e-a70f-411a8a1a5c6c\" xlink:actuate=\"onRequest\" xlink:href=\"psysml:b4797686-9eb8-4e8e-a70f-411a8a1a5c6c\" xlink:show=\"new\" xlink:title=\"psysml:b4797686-9eb8-4e8e-a70f-411a8a1a5c6c\" xlink:type=\"simple\"><path d=\"M221.7454,125.2359 C221.6297,125.2555 221.5129,125.2754 221.395,125.2955 C221.1593,125.3358 220.9193,125.3771 220.6752,125.4195 C220.1869,125.5042 219.6819,125.5933 219.1609,125.6868 C217.0769,126.0607 214.7359,126.5053 212.1769,127.0288 C201.9406,129.1225 188.215,132.4775 173.4875,137.615 C144.0325,147.89 110.57,165.295 93,194 C65.99,238.135 83.98,293.0875 109.2162,337.5175 C121.8344,359.7325 136.2641,379.3169 147.7861,393.6031 C150.6666,397.1747 153.3654,400.4151 155.8087,403.2827 C157.0304,404.7165 158.1881,406.0571 159.2728,407.2993 C159.8152,407.9204 160.3393,408.5169 160.8439,409.0882 \" fill=\"none\" id=\"E2-&gt;E6\" style=\"stroke: #A80036; stroke-width: 1.0; stroke-dasharray: 7.0,7.0;\"/><polygon fill=\"#A80036\" points=\"160.8439,409.0882,157.8829,399.695,157.5335,405.341,151.8875,404.9916,160.8439,409.0882\" style=\"stroke: #A80036; stroke-width: 1.0;\"/><text fill=\"#000000\" font-family=\"sans-serif\" font-size=\"13\" lengthAdjust=\"spacingAndGlyphs\" textLength=\"65\" x=\"94\" y=\"207.0669\">«import»*</text></a><!--MD5=[e3d2a08a9c9236652057e8ed0cbc9b62]\n",
       "link E2 to E7--><a href=\"psysml:c873f416-4fb0-4522-b4d5-2fc0ff0d8008\" target=\"_top\" title=\"psysml:c873f416-4fb0-4522-b4d5-2fc0ff0d8008\" xlink:actuate=\"onRequest\" xlink:href=\"psysml:c873f416-4fb0-4522-b4d5-2fc0ff0d8008\" xlink:show=\"new\" xlink:title=\"psysml:c873f416-4fb0-4522-b4d5-2fc0ff0d8008\" xlink:type=\"simple\"><path d=\"M221.8807,130.2617 C221.7401,130.3761 221.5982,130.4918 221.4548,130.6091 C216.8678,134.36 210.8594,139.5688 204.5113,145.875 C191.815,158.4875 177.76,175.49 171,194 C168.41,201.1 166.18,205.18 171,211 C183.11,225.64 200.74,204.48 213,219 C227.045,235.63 228.2325,284.0975 225.8175,329.0338 C225.5156,334.6508 225.1575,340.2126 224.7611,345.6502 C224.662,347.0096 224.5605,348.3613 224.4569,349.7041 C224.4051,350.3755 224.3528,351.0446 224.3,351.7115 C224.2736,352.0449 224.2471,352.3777 224.2204,352.71 \" fill=\"none\" id=\"E2-&gt;E7\" style=\"stroke: #A80036; stroke-width: 1.0; stroke-dasharray: 7.0,7.0;\"/><polygon fill=\"#A80036\" points=\"224.2204,352.71,228.9272,344.0586,224.6202,347.726,220.9528,343.419,224.2204,352.71\" style=\"stroke: #A80036; stroke-width: 1.0;\"/><text fill=\"#000000\" font-family=\"sans-serif\" font-size=\"13\" lengthAdjust=\"spacingAndGlyphs\" textLength=\"87\" x=\"172\" y=\"207.0669\">«import»*::**</text></a><!--MD5=[ca5a752d6098d8a44b3f88316e7452d1]\n",
       "link E3 to E8--><a href=\"psysml:bb41b158-76b0-47f5-886e-e2f97e00e6aa\" target=\"_top\" title=\"psysml:bb41b158-76b0-47f5-886e-e2f97e00e6aa\" xlink:actuate=\"onRequest\" xlink:href=\"psysml:bb41b158-76b0-47f5-886e-e2f97e00e6aa\" xlink:show=\"new\" xlink:title=\"psysml:bb41b158-76b0-47f5-886e-e2f97e00e6aa\" xlink:type=\"simple\"><path d=\"M321.59,146.07 C339.73,166.51 363.93,193.81 364,194 C366.68,201.06 368.76,205.13 364,211 C353.13,224.4 338.12,206.71 326,219 C285.31,260.27 280.82,330.75 282.81,375.81 \" fill=\"none\" id=\"E3-&gt;E8\" style=\"stroke: #A80036; stroke-width: 1.0;\"/><polygon fill=\"#FFFFFF\" points=\"284.19,395.93,275.9039,377.4546,289.8709,376.4948,284.19,395.93\" style=\"stroke: #A80036; stroke-width: 1.0;\"/><ellipse cx=\"277.5084\" cy=\"371.6309\" fill=\"#A80036\" rx=\"2\" ry=\"2\" style=\"stroke: #A80036; stroke-width: 1.0;\"/><ellipse cx=\"287.4849\" cy=\"370.9453\" fill=\"#A80036\" rx=\"2\" ry=\"2\" style=\"stroke: #A80036; stroke-width: 1.0;\"/></a><!--MD5=[15ebcb19ae302d9b601edb458606d402]\n",
       "link E5 to E2--><a href=\"psysml:cb98c000-d2e0-4059-b3dc-41ff4d975042\" target=\"_top\" title=\"psysml:cb98c000-d2e0-4059-b3dc-41ff4d975042\" xlink:actuate=\"onRequest\" xlink:href=\"psysml:cb98c000-d2e0-4059-b3dc-41ff4d975042\" xlink:show=\"new\" xlink:title=\"psysml:cb98c000-d2e0-4059-b3dc-41ff4d975042\" xlink:type=\"simple\"><path d=\"M377.9071,234.5987 C377.6837,234.254 377.4593,233.91 377.2338,233.5668 C376.3317,232.1941 375.413,230.8338 374.4773,229.4868 C372.6059,226.7928 370.6665,224.152 368.6567,221.572 C360.6175,211.2517 351.4513,201.9025 341,194 C324.63,181.62 264.96,198.91 249,186 C246.2863,183.805 243.9511,181.2325 241.9426,178.4061 C240.9384,176.9929 240.0159,175.5163 239.1685,173.9916 C238.7448,173.2292 238.3399,172.4549 237.953,171.6705 C237.7596,171.2782 237.5706,170.8835 237.3861,170.4865 C237.3399,170.3873 237.2941,170.2879 237.2485,170.1883 \" fill=\"none\" id=\"E5-&gt;E2\" style=\"stroke: #A80036; stroke-width: 1.0; stroke-dasharray: 7.0,7.0;\"/><polygon fill=\"#A80036\" points=\"237.2485,170.1883,237.3599,180.0366,239.3307,174.7341,244.6331,176.705,237.2485,170.1883\" style=\"stroke: #A80036; stroke-width: 1.0;\"/><text fill=\"#000000\" font-family=\"sans-serif\" font-size=\"13\" lengthAdjust=\"spacingAndGlyphs\" textLength=\"65\" x=\"356\" y=\"207.0669\">«import»*</text></a><!--MD5=[d7bb3fb34add81b710575eb3799fa2ad]\n",
       "link E8 to E4--><a href=\"psysml:ff856c1d-ebaf-4dbc-8ba8-d8c60136e299\" target=\"_top\" title=\"psysml:ff856c1d-ebaf-4dbc-8ba8-d8c60136e299\" xlink:actuate=\"onRequest\" xlink:href=\"psysml:ff856c1d-ebaf-4dbc-8ba8-d8c60136e299\" xlink:show=\"new\" xlink:title=\"psysml:ff856c1d-ebaf-4dbc-8ba8-d8c60136e299\" xlink:type=\"simple\"><path d=\"M283.6,395.87 C278.58,354.03 274.69,263.54 326,219 C338.77,207.91 466.36,223.27 478,211 C493.94,194.2 479.72,174.01 460.15,157.31 \" fill=\"none\" id=\"E8-&gt;E4\" style=\"stroke: #A80036; stroke-width: 1.0;\"/><polygon fill=\"none\" points=\"455.78,162.78,444.15,145.06,464.29,151.66,455.78,162.78\" style=\"stroke: #A80036; stroke-width: 1.0;\"/></a><!--MD5=[6afe41145310f91727c8c0c51090a98b]\n",
       "@startuml\r\n",
       "skinparam wrapWidth 300\r\n",
       "hide circle\r\n",
       "\r\n",
       "package \"ImportTest\" as E1  [[psysml:789e6656-6985-4918-a680-b12b42056b24 ]]  {\r\n",
       "package \"Pkg1\" as E2  [[psysml:9ed5d6a5-603c-4e6a-bfc8-60e703dcd2fe ]]  {\r\n",
       "comp usage \"p11: P211 \" as E3  <<(T,blue) part>> [[psysml:380b438c-f0d0-40f2-a10d-c83a46ac62de ]] {\r\n",
       "}\r\n",
       "comp def \"P12\" as E4  <<(T,blue) part  def>> [[psysml:4c18927e-9f3a-4bbe-ae04-0ff2b7ea0a78 ]] {\r\n",
       "}\r\n",
       "}\r\n",
       "package \"Pkg2\" as E5  [[psysml:63b0367b-32f1-46aa-9fe1-f934424c590d ]]  {\r\n",
       "package \"Pkg21\" as E6  [[psysml:98b17091-6ea5-4037-8451-bfddc724f9d0 ]]  {\r\n",
       "package \"Pkg211\" as E7  [[psysml:45f4d7ec-8fdd-4896-89d5-a877e9eb4cf9 ]]  {\r\n",
       "comp def \"P211\" as E8  <<(T,blue) part  def>> [[psysml:b4068f35-75bf-4c63-8263-9508faa965fc ]] {\r\n",
       "}\r\n",
       "}\r\n",
       "}\r\n",
       "}\r\n",
       "}\r\n",
       "E2 ..> E8 [[psysml:86dbe04c-b04a-4ec6-a347-5e4f000abe00 ]] : <<import>>\r\n",
       "E2 ..> E6 [[psysml:b4797686-9eb8-4e8e-a70f-411a8a1a5c6c ]] : <<import>>*\r\n",
       "E2 ..> E7 [[psysml:c873f416-4fb0-4522-b4d5-2fc0ff0d8008 ]] : <<import>>*::**\r\n",
       "E3 - -:|> E8 [[psysml:bb41b158-76b0-47f5-886e-e2f97e00e6aa ]] \r\n",
       "E5 ..> E2 [[psysml:cb98c000-d2e0-4059-b3dc-41ff4d975042 ]] : <<import>>*\r\n",
       "E8 - -|> E4 [[psysml:ff856c1d-ebaf-4dbc-8ba8-d8c60136e299 ]] \r\n",
       "@enduml\r\n",
       "\n",
       "PlantUML version 1.2020.13(Sat Jun 13 12:26:38 UTC 2020)\n",
       "(EPL source distribution)\n",
       "Java Runtime: OpenJDK Runtime Environment\n",
       "JVM: OpenJDK 64-Bit Server VM\n",
       "Default Encoding: UTF-8\n",
       "Language: en\n",
       "Country: null\n",
       "--></g></svg>"
      ]
     },
     "execution_count": 24,
     "metadata": {},
     "output_type": "execute_result"
    }
   ],
   "source": [
    "%viz --style=\"STDCOLOR\" --view=\"Tree\" \"ImportTest\""
   ]
  },
  {
   "cell_type": "code",
   "execution_count": 25,
   "id": "6bc26d0d",
   "metadata": {
    "execution": {
     "iopub.execute_input": "2022-08-19T08:17:20.592389Z",
     "iopub.status.busy": "2022-08-19T08:17:20.591881Z",
     "iopub.status.idle": "2022-08-19T08:17:20.596643Z",
     "shell.execute_reply": "2022-08-19T08:17:20.596257Z"
    }
   },
   "outputs": [
    {
     "data": {
      "image/svg+xml": [
       "<?xml version=\"1.0\" encoding=\"UTF-8\" standalone=\"no\"?><svg xmlns=\"http://www.w3.org/2000/svg\" xmlns:xlink=\"http://www.w3.org/1999/xlink\" contentScriptType=\"application/ecmascript\" contentStyleType=\"text/css\" height=\"12px\" preserveAspectRatio=\"none\" style=\"width:12px;height:12px;\" version=\"1.1\" viewBox=\"0 0 12 12\" width=\"12px\" zoomAndPan=\"magnify\"><defs/><g><!--MD5=[aeeef50f102b80d730deb6443d14f702]\n",
       "@startuml\r\n",
       "skinparam wrapWidth 300\r\n",
       "hide circle\r\n",
       "\r\n",
       "@enduml\r\n",
       "\n",
       "PlantUML version 1.2020.13(Sat Jun 13 12:26:38 UTC 2020)\n",
       "(EPL source distribution)\n",
       "Java Runtime: OpenJDK Runtime Environment\n",
       "JVM: OpenJDK 64-Bit Server VM\n",
       "Default Encoding: UTF-8\n",
       "Language: en\n",
       "Country: null\n",
       "--></g></svg>"
      ]
     },
     "execution_count": 25,
     "metadata": {},
     "output_type": "execute_result"
    }
   ],
   "source": [
    "%viz --style=\"STDCOLOR\" --view=\"State\" \"ImportTest\""
   ]
  },
  {
   "cell_type": "code",
   "execution_count": 26,
   "id": "beefc33d",
   "metadata": {
    "execution": {
     "iopub.execute_input": "2022-08-19T08:17:20.646641Z",
     "iopub.status.busy": "2022-08-19T08:17:20.646153Z",
     "iopub.status.idle": "2022-08-19T08:17:20.682044Z",
     "shell.execute_reply": "2022-08-19T08:17:20.681606Z"
    }
   },
   "outputs": [
    {
     "data": {
      "image/svg+xml": [
       "<?xml version=\"1.0\" encoding=\"UTF-8\" standalone=\"no\"?><svg xmlns=\"http://www.w3.org/2000/svg\" xmlns:xlink=\"http://www.w3.org/1999/xlink\" contentScriptType=\"application/ecmascript\" contentStyleType=\"text/css\" height=\"584px\" preserveAspectRatio=\"none\" style=\"width:522px;height:584px;\" version=\"1.1\" viewBox=\"0 0 522 584\" width=\"522px\" zoomAndPan=\"magnify\"><defs><filter height=\"300%\" id=\"f24vavkamxusn\" width=\"300%\" x=\"-1\" y=\"-1\"><feGaussianBlur result=\"blurOut\" stdDeviation=\"2.0\"/><feColorMatrix in=\"blurOut\" result=\"blurOut2\" type=\"matrix\" values=\"0 0 0 0 0 0 0 0 0 0 0 0 0 0 0 0 0 0 .4 0\"/><feOffset dx=\"4.0\" dy=\"4.0\" in=\"blurOut2\" result=\"blurOut3\"/><feBlend in=\"SourceGraphic\" in2=\"blurOut3\" mode=\"normal\"/></filter></defs><g><!--MD5=[fbc87193dbaf4d95561dea2c320d4a47]\n",
       "cluster E1--><a href=\"psysml:789e6656-6985-4918-a680-b12b42056b24\" target=\"_top\" title=\"psysml:789e6656-6985-4918-a680-b12b42056b24\" xlink:actuate=\"onRequest\" xlink:href=\"psysml:789e6656-6985-4918-a680-b12b42056b24\" xlink:show=\"new\" xlink:title=\"psysml:789e6656-6985-4918-a680-b12b42056b24\" xlink:type=\"simple\"><polygon fill=\"#FFFFFF\" filter=\"url(#f24vavkamxusn)\" points=\"16,6,97,6,104,28.2969,500,28.2969,500,572,16,572,16,6\" style=\"stroke: #000000; stroke-width: 1.5;\"/><line style=\"stroke: #000000; stroke-width: 1.5;\" x1=\"16\" x2=\"104\" y1=\"28.2969\" y2=\"28.2969\"/><text fill=\"#000000\" font-family=\"sans-serif\" font-size=\"14\" font-weight=\"bold\" lengthAdjust=\"spacingAndGlyphs\" textLength=\"75\" x=\"20\" y=\"20.9951\">ImportTest</text></a><!--MD5=[e4f7fae6ed58524ba242bb0b0d3be6b7]\n",
       "cluster E2--><a href=\"psysml:9ed5d6a5-603c-4e6a-bfc8-60e703dcd2fe\" target=\"_top\" title=\"psysml:9ed5d6a5-603c-4e6a-bfc8-60e703dcd2fe\" xlink:actuate=\"onRequest\" xlink:href=\"psysml:9ed5d6a5-603c-4e6a-bfc8-60e703dcd2fe\" xlink:show=\"new\" xlink:title=\"psysml:9ed5d6a5-603c-4e6a-bfc8-60e703dcd2fe\" xlink:type=\"simple\"><polygon fill=\"#FFFFFF\" filter=\"url(#f24vavkamxusn)\" points=\"216,57,257,57,264,79.2969,468,79.2969,468,167,216,167,216,57\" style=\"stroke: #000000; stroke-width: 1.5;\"/><line style=\"stroke: #000000; stroke-width: 1.5;\" x1=\"216\" x2=\"264\" y1=\"79.2969\" y2=\"79.2969\"/><text fill=\"#000000\" font-family=\"sans-serif\" font-size=\"14\" font-weight=\"bold\" lengthAdjust=\"spacingAndGlyphs\" textLength=\"35\" x=\"220\" y=\"71.9951\">Pkg1</text></a><!--MD5=[de5ec2e2e8f62f467e546659f5068c88]\n",
       "cluster E5--><a href=\"psysml:63b0367b-32f1-46aa-9fe1-f934424c590d\" target=\"_top\" title=\"psysml:63b0367b-32f1-46aa-9fe1-f934424c590d\" xlink:actuate=\"onRequest\" xlink:href=\"psysml:63b0367b-32f1-46aa-9fe1-f934424c590d\" xlink:show=\"new\" xlink:title=\"psysml:63b0367b-32f1-46aa-9fe1-f934424c590d\" xlink:type=\"simple\"><polygon fill=\"#FFFFFF\" filter=\"url(#f24vavkamxusn)\" points=\"117,232,158,232,165,254.2969,435,254.2969,435,540,117,540,117,232\" style=\"stroke: #000000; stroke-width: 1.5;\"/><line style=\"stroke: #000000; stroke-width: 1.5;\" x1=\"117\" x2=\"165\" y1=\"254.2969\" y2=\"254.2969\"/><text fill=\"#000000\" font-family=\"sans-serif\" font-size=\"14\" font-weight=\"bold\" lengthAdjust=\"spacingAndGlyphs\" textLength=\"35\" x=\"121\" y=\"246.9951\">Pkg2</text></a><!--MD5=[14e3b0961a2654348d326746436168a1]\n",
       "cluster E6--><a href=\"psysml:98b17091-6ea5-4037-8451-bfddc724f9d0\" target=\"_top\" title=\"psysml:98b17091-6ea5-4037-8451-bfddc724f9d0\" xlink:actuate=\"onRequest\" xlink:href=\"psysml:98b17091-6ea5-4037-8451-bfddc724f9d0\" xlink:show=\"new\" xlink:title=\"psysml:98b17091-6ea5-4037-8451-bfddc724f9d0\" xlink:type=\"simple\"><polygon fill=\"#FFFFFF\" filter=\"url(#f24vavkamxusn)\" points=\"157,291,207,291,214,313.2969,387,313.2969,387,500,157,500,157,291\" style=\"stroke: #000000; stroke-width: 1.5;\"/><line style=\"stroke: #000000; stroke-width: 1.5;\" x1=\"157\" x2=\"214\" y1=\"313.2969\" y2=\"313.2969\"/><text fill=\"#000000\" font-family=\"sans-serif\" font-size=\"14\" font-weight=\"bold\" lengthAdjust=\"spacingAndGlyphs\" textLength=\"44\" x=\"161\" y=\"305.9951\">Pkg21</text></a><!--MD5=[168fadf3d0c3fd93dd5d6da1b1d7ab76]\n",
       "cluster E7--><a href=\"psysml:45f4d7ec-8fdd-4896-89d5-a877e9eb4cf9\" target=\"_top\" title=\"psysml:45f4d7ec-8fdd-4896-89d5-a877e9eb4cf9\" xlink:actuate=\"onRequest\" xlink:href=\"psysml:45f4d7ec-8fdd-4896-89d5-a877e9eb4cf9\" xlink:show=\"new\" xlink:title=\"psysml:45f4d7ec-8fdd-4896-89d5-a877e9eb4cf9\" xlink:type=\"simple\"><polygon fill=\"#FFFFFF\" filter=\"url(#f24vavkamxusn)\" points=\"205,350,264,350,271,372.2969,347,372.2969,347,460,205,460,205,350\" style=\"stroke: #000000; stroke-width: 1.5;\"/><line style=\"stroke: #000000; stroke-width: 1.5;\" x1=\"205\" x2=\"271\" y1=\"372.2969\" y2=\"372.2969\"/><text fill=\"#000000\" font-family=\"sans-serif\" font-size=\"14\" font-weight=\"bold\" lengthAdjust=\"spacingAndGlyphs\" textLength=\"53\" x=\"209\" y=\"364.9951\">Pkg211</text></a><g id=\"E1.E2.E3\"><a href=\"psysml:380b438c-f0d0-40f2-a10d-c83a46ac62de\" target=\"_top\" title=\"psysml:380b438c-f0d0-40f2-a10d-c83a46ac62de\" xlink:actuate=\"onRequest\" xlink:href=\"psysml:380b438c-f0d0-40f2-a10d-c83a46ac62de\" xlink:show=\"new\" xlink:title=\"psysml:380b438c-f0d0-40f2-a10d-c83a46ac62de\" xlink:type=\"simple\"><rect fill=\"#FEFECE\" filter=\"url(#f24vavkamxusn)\" height=\"40\" id=\"E3\" rx=\"10\" ry=\"10\" style=\"stroke: #A80036; stroke-width: 1.5;\" width=\"75\" x=\"259.5\" y=\"101.5\"/><text fill=\"#000000\" font-family=\"sans-serif\" font-size=\"12\" lengthAdjust=\"spacingAndGlyphs\" textLength=\"64\" x=\"265\" y=\"117.6387\">p11: P211</text></a></g><g id=\"E1.E2.E4\"><a href=\"psysml:4c18927e-9f3a-4bbe-ae04-0ff2b7ea0a78\" target=\"_top\" title=\"psysml:4c18927e-9f3a-4bbe-ae04-0ff2b7ea0a78\" xlink:actuate=\"onRequest\" xlink:href=\"psysml:4c18927e-9f3a-4bbe-ae04-0ff2b7ea0a78\" xlink:show=\"new\" xlink:title=\"psysml:4c18927e-9f3a-4bbe-ae04-0ff2b7ea0a78\" xlink:type=\"simple\"><rect fill=\"#FEFECE\" filter=\"url(#f24vavkamxusn)\" height=\"42.9375\" id=\"E4\" style=\"stroke: #A80036; stroke-width: 1.5;\" width=\"75\" x=\"369.5\" y=\"100\"/><text fill=\"#000000\" font-family=\"sans-serif\" font-size=\"12\" font-style=\"italic\" lengthAdjust=\"spacingAndGlyphs\" textLength=\"68\" x=\"373\" y=\"116.1387\">«part  def»</text><text fill=\"#000000\" font-family=\"sans-serif\" font-size=\"12\" lengthAdjust=\"spacingAndGlyphs\" textLength=\"24\" x=\"395\" y=\"130.1074\">P12</text></a></g><g id=\"E1.E5.E6.E7.E8\"><a href=\"psysml:b4068f35-75bf-4c63-8263-9508faa965fc\" target=\"_top\" title=\"psysml:b4068f35-75bf-4c63-8263-9508faa965fc\" xlink:actuate=\"onRequest\" xlink:href=\"psysml:b4068f35-75bf-4c63-8263-9508faa965fc\" xlink:show=\"new\" xlink:title=\"psysml:b4068f35-75bf-4c63-8263-9508faa965fc\" xlink:type=\"simple\"><rect fill=\"#FEFECE\" filter=\"url(#f24vavkamxusn)\" height=\"42.9375\" id=\"E8\" style=\"stroke: #A80036; stroke-width: 1.5;\" width=\"75\" x=\"248.5\" y=\"393\"/><text fill=\"#000000\" font-family=\"sans-serif\" font-size=\"12\" font-style=\"italic\" lengthAdjust=\"spacingAndGlyphs\" textLength=\"68\" x=\"252\" y=\"409.1387\">«part  def»</text><text fill=\"#000000\" font-family=\"sans-serif\" font-size=\"12\" lengthAdjust=\"spacingAndGlyphs\" textLength=\"32\" x=\"270\" y=\"423.1074\">P211</text></a></g><!--MD5=[b0060bfdb0500b904584095522b4da3c]\n",
       "link E2 to E8--><a href=\"psysml:86dbe04c-b04a-4ec6-a347-5e4f000abe00\" target=\"_top\" title=\"psysml:86dbe04c-b04a-4ec6-a347-5e4f000abe00\" xlink:actuate=\"onRequest\" xlink:href=\"psysml:86dbe04c-b04a-4ec6-a347-5e4f000abe00\" xlink:show=\"new\" xlink:title=\"psysml:86dbe04c-b04a-4ec6-a347-5e4f000abe00\" xlink:type=\"simple\"><path d=\"M233.7485,167.2625 C233.8396,167.461 233.9314,167.6592 234.0241,167.8569 C234.395,168.648 234.7795,169.4328 235.1783,170.2099 C235.9758,171.764 236.8302,173.2869 237.7454,174.7655 C239.5759,177.7227 241.65,180.5025 244,183 C250.56,189.97 258.25,183.35 264,191 C308.12,249.72 299.04,343.18 291.3,387.96 \" fill=\"none\" id=\"E2-&gt;E8\" style=\"stroke: #A80036; stroke-width: 1.0; stroke-dasharray: 7.0,7.0;\"/><polygon fill=\"#A80036\" points=\"290.41,392.91,295.9388,384.7594,291.2944,387.9888,288.065,383.3444,290.41,392.91\" style=\"stroke: #A80036; stroke-width: 1.0;\"/><text fill=\"#000000\" font-family=\"sans-serif\" font-size=\"13\" lengthAdjust=\"spacingAndGlyphs\" textLength=\"58\" x=\"274\" y=\"204.0669\">«import»</text></a><!--MD5=[e3e28c1befcf002155aa15e1416b4315]\n",
       "link E2 to E6--><a href=\"psysml:b4797686-9eb8-4e8e-a70f-411a8a1a5c6c\" target=\"_top\" title=\"psysml:b4797686-9eb8-4e8e-a70f-411a8a1a5c6c\" xlink:actuate=\"onRequest\" xlink:href=\"psysml:b4797686-9eb8-4e8e-a70f-411a8a1a5c6c\" xlink:show=\"new\" xlink:title=\"psysml:b4797686-9eb8-4e8e-a70f-411a8a1a5c6c\" xlink:type=\"simple\"><path d=\"M215.764,123.8356 C215.5384,123.8767 215.3087,123.9189 215.0751,123.9622 C214.6079,124.0488 214.1247,124.1396 213.6261,124.2349 C211.6318,124.6159 209.3916,125.0674 206.9428,125.5967 C197.1475,127.7141 184.0138,131.0769 169.925,136.1563 C141.7475,146.315 109.75,163.34 93,191 C66.5,234.76 83.5275,289.345 107.655,333.4975 C119.7188,355.5738 133.5575,375.0419 144.6178,389.2447 C147.3829,392.7954 149.9743,396.017 152.3209,398.868 C153.4943,400.2935 154.6064,401.6264 155.6484,402.8614 C155.9089,403.1702 156.165,403.4728 156.4166,403.7693 C156.5424,403.9175 156.6671,404.0642 156.7906,404.2093 \" fill=\"none\" id=\"E2-&gt;E6\" style=\"stroke: #A80036; stroke-width: 1.0; stroke-dasharray: 7.0,7.0;\"/><polygon fill=\"#A80036\" points=\"156.7906,404.2093,154.0028,394.7632,153.5497,400.4019,147.911,399.9487,156.7906,404.2093\" style=\"stroke: #A80036; stroke-width: 1.0;\"/><text fill=\"#000000\" font-family=\"sans-serif\" font-size=\"13\" lengthAdjust=\"spacingAndGlyphs\" textLength=\"65\" x=\"94\" y=\"204.0669\">«import»*</text></a><!--MD5=[e3d2a08a9c9236652057e8ed0cbc9b62]\n",
       "link E2 to E7--><a href=\"psysml:c873f416-4fb0-4522-b4d5-2fc0ff0d8008\" target=\"_top\" title=\"psysml:c873f416-4fb0-4522-b4d5-2fc0ff0d8008\" xlink:actuate=\"onRequest\" xlink:href=\"psysml:c873f416-4fb0-4522-b4d5-2fc0ff0d8008\" xlink:show=\"new\" xlink:title=\"psysml:c873f416-4fb0-4522-b4d5-2fc0ff0d8008\" xlink:type=\"simple\"><path d=\"M215.9145,129.4818 C215.7831,129.6017 215.6504,129.723 215.5165,129.8456 C215.2488,130.0909 214.9764,130.3417 214.6994,130.5979 C214.1455,131.1103 213.5735,131.6444 212.9854,132.1994 C211.8091,133.3094 210.5683,134.503 209.278,135.7741 C206.6976,138.3163 203.9197,141.1684 201.0663,144.2813 C189.6525,156.7325 177.03,173.355 171,191 C168.56,198.15 166.24,202.13 171,208 C181.87,221.4 197.99,202.71 209,216 C222.785,232.64 223.97,280.745 221.6187,325.31 C221.3248,330.8806 220.9757,336.3959 220.589,341.7876 C220.3956,344.4834 220.1929,347.1483 219.983,349.7737 \" fill=\"none\" id=\"E2-&gt;E7\" style=\"stroke: #A80036; stroke-width: 1.0; stroke-dasharray: 7.0,7.0;\"/><polygon fill=\"#A80036\" points=\"219.983,349.7737,224.6875,341.1211,220.3815,344.7896,216.713,340.4835,219.983,349.7737\" style=\"stroke: #A80036; stroke-width: 1.0;\"/><text fill=\"#000000\" font-family=\"sans-serif\" font-size=\"13\" lengthAdjust=\"spacingAndGlyphs\" textLength=\"87\" x=\"172\" y=\"204.0669\">«import»*::**</text></a><!--MD5=[ca5a752d6098d8a44b3f88316e7452d1]\n",
       "link E3 to E8--><a href=\"psysml:bb41b158-76b0-47f5-886e-e2f97e00e6aa\" target=\"_top\" title=\"psysml:bb41b158-76b0-47f5-886e-e2f97e00e6aa\" xlink:actuate=\"onRequest\" xlink:href=\"psysml:bb41b158-76b0-47f5-886e-e2f97e00e6aa\" xlink:show=\"new\" xlink:title=\"psysml:bb41b158-76b0-47f5-886e-e2f97e00e6aa\" xlink:type=\"simple\"><path d=\"M312.28,141.62 C322.76,154.12 337.37,170.41 352,183 C356.86,187.18 360.98,185.35 364,191 C367.57,197.66 368.73,202.11 364,208 C353.74,220.79 339.54,204.36 328,216 C287.05,257.33 281.54,328.07 282.74,372.73 \" fill=\"none\" id=\"E3-&gt;E8\" style=\"stroke: #A80036; stroke-width: 1.0;\"/><polygon fill=\"#FFFFFF\" points=\"283.77,392.86,275.7887,374.2509,289.7697,373.5208,283.77,392.86\" style=\"stroke: #A80036; stroke-width: 1.0;\"/><ellipse cx=\"277.4888\" cy=\"368.4543\" fill=\"#A80036\" rx=\"2\" ry=\"2\" style=\"stroke: #A80036; stroke-width: 1.0;\"/><ellipse cx=\"287.4752\" cy=\"367.9329\" fill=\"#A80036\" rx=\"2\" ry=\"2\" style=\"stroke: #A80036; stroke-width: 1.0;\"/></a><!--MD5=[15ebcb19ae302d9b601edb458606d402]\n",
       "link E5 to E2--><a href=\"psysml:cb98c000-d2e0-4059-b3dc-41ff4d975042\" target=\"_top\" title=\"psysml:cb98c000-d2e0-4059-b3dc-41ff4d975042\" xlink:actuate=\"onRequest\" xlink:href=\"psysml:cb98c000-d2e0-4059-b3dc-41ff4d975042\" xlink:show=\"new\" xlink:title=\"psysml:cb98c000-d2e0-4059-b3dc-41ff4d975042\" xlink:type=\"simple\"><path d=\"M377.9759,231.2195 C377.7515,230.8776 377.526,230.5364 377.2994,230.196 C376.3932,228.8344 375.4706,227.4852 374.5311,226.1493 C372.6521,223.4776 370.7058,220.8593 368.6899,218.3016 C360.6261,208.0711 351.4475,198.8125 341,191 C323.68,178.05 260.99,196.38 244,183 C241.305,180.8788 238.9694,178.3841 236.9456,175.6375 C235.9337,174.2642 234.9998,172.8279 234.1379,171.3439 C233.707,170.6019 233.294,169.8479 232.8983,169.0839 C232.7005,168.7019 232.507,168.3173 232.3177,167.9306 C232.223,167.7372 232.1294,167.5432 232.0369,167.3487 C231.9906,167.2514 231.9446,167.1541 231.8988,167.0565 \" fill=\"none\" id=\"E5-&gt;E2\" style=\"stroke: #A80036; stroke-width: 1.0; stroke-dasharray: 7.0,7.0;\"/><polygon fill=\"#A80036\" points=\"231.8988,167.0565,232.1005,176.9033,234.0226,171.5831,239.3429,173.5052,231.8988,167.0565\" style=\"stroke: #A80036; stroke-width: 1.0;\"/><text fill=\"#000000\" font-family=\"sans-serif\" font-size=\"13\" lengthAdjust=\"spacingAndGlyphs\" textLength=\"65\" x=\"360\" y=\"204.0669\">«import»*</text></a><!--MD5=[d7bb3fb34add81b710575eb3799fa2ad]\n",
       "link E8 to E4--><a href=\"psysml:ff856c1d-ebaf-4dbc-8ba8-d8c60136e299\" target=\"_top\" title=\"psysml:ff856c1d-ebaf-4dbc-8ba8-d8c60136e299\" xlink:actuate=\"onRequest\" xlink:href=\"psysml:ff856c1d-ebaf-4dbc-8ba8-d8c60136e299\" xlink:show=\"new\" xlink:title=\"psysml:ff856c1d-ebaf-4dbc-8ba8-d8c60136e299\" xlink:type=\"simple\"><path d=\"M283.17,392.77 C278.87,351.76 276.04,260.42 328,216 C340.69,205.16 466.52,220.11 478,208 C493.95,191.18 479.29,171.32 459.24,154.97 \" fill=\"none\" id=\"E8-&gt;E4\" style=\"stroke: #A80036; stroke-width: 1.0;\"/><polygon fill=\"none\" points=\"454.9,160.46,442.89,143.01,463.16,149.16,454.9,160.46\" style=\"stroke: #A80036; stroke-width: 1.0;\"/></a><!--MD5=[06e3167e7f267a6c8adc1c93481435d5]\n",
       "@startuml\r\n",
       "skinparam ranksep 10\r\n",
       "skinparam rectangle {\r\n",
       " backgroundColor<<block>> LightGreen\r\n",
       "}\r\n",
       "skinparam wrapWidth 300\r\n",
       "hide circle\r\n",
       "\r\n",
       "package \"ImportTest\" as E1  [[psysml:789e6656-6985-4918-a680-b12b42056b24 ]]  {\r\n",
       "package \"Pkg1\" as E2  [[psysml:9ed5d6a5-603c-4e6a-bfc8-60e703dcd2fe ]]  {\r\n",
       "rec usage \"p11: P211\" as E3  [[psysml:380b438c-f0d0-40f2-a10d-c83a46ac62de ]] {\r\n",
       "}\r\n",
       "rec def \"P12\" as E4  <<(T,blue) part  def>> [[psysml:4c18927e-9f3a-4bbe-ae04-0ff2b7ea0a78 ]] {\r\n",
       "}\r\n",
       "}\r\n",
       "package \"Pkg2\" as E5  [[psysml:63b0367b-32f1-46aa-9fe1-f934424c590d ]]  {\r\n",
       "package \"Pkg21\" as E6  [[psysml:98b17091-6ea5-4037-8451-bfddc724f9d0 ]]  {\r\n",
       "package \"Pkg211\" as E7  [[psysml:45f4d7ec-8fdd-4896-89d5-a877e9eb4cf9 ]]  {\r\n",
       "rec def \"P211\" as E8  <<(T,blue) part  def>> [[psysml:b4068f35-75bf-4c63-8263-9508faa965fc ]] {\r\n",
       "}\r\n",
       "}\r\n",
       "}\r\n",
       "}\r\n",
       "}\r\n",
       "E2 ..> E8 [[psysml:86dbe04c-b04a-4ec6-a347-5e4f000abe00 ]] : <<import>>\r\n",
       "E2 ..> E6 [[psysml:b4797686-9eb8-4e8e-a70f-411a8a1a5c6c ]] : <<import>>*\r\n",
       "E2 ..> E7 [[psysml:c873f416-4fb0-4522-b4d5-2fc0ff0d8008 ]] : <<import>>*::**\r\n",
       "E3 - -:|> E8 [[psysml:bb41b158-76b0-47f5-886e-e2f97e00e6aa ]] \r\n",
       "E5 ..> E2 [[psysml:cb98c000-d2e0-4059-b3dc-41ff4d975042 ]] : <<import>>*\r\n",
       "E8 - -|> E4 [[psysml:ff856c1d-ebaf-4dbc-8ba8-d8c60136e299 ]] \r\n",
       "@enduml\r\n",
       "\n",
       "PlantUML version 1.2020.13(Sat Jun 13 12:26:38 UTC 2020)\n",
       "(EPL source distribution)\n",
       "Java Runtime: OpenJDK Runtime Environment\n",
       "JVM: OpenJDK 64-Bit Server VM\n",
       "Default Encoding: UTF-8\n",
       "Language: en\n",
       "Country: null\n",
       "--></g></svg>"
      ]
     },
     "execution_count": 26,
     "metadata": {},
     "output_type": "execute_result"
    }
   ],
   "source": [
    "%viz --style=\"STDCOLOR\" --view=\"Interconnection\" \"ImportTest\""
   ]
  },
  {
   "cell_type": "code",
   "execution_count": 27,
   "id": "bce18cdb",
   "metadata": {
    "execution": {
     "iopub.execute_input": "2022-08-19T08:17:20.732270Z",
     "iopub.status.busy": "2022-08-19T08:17:20.731609Z",
     "iopub.status.idle": "2022-08-19T08:17:20.737182Z",
     "shell.execute_reply": "2022-08-19T08:17:20.736668Z"
    }
   },
   "outputs": [
    {
     "data": {
      "image/svg+xml": [
       "<?xml version=\"1.0\" encoding=\"UTF-8\" standalone=\"no\"?><svg xmlns=\"http://www.w3.org/2000/svg\" xmlns:xlink=\"http://www.w3.org/1999/xlink\" contentScriptType=\"application/ecmascript\" contentStyleType=\"text/css\" height=\"12px\" preserveAspectRatio=\"none\" style=\"width:12px;height:12px;\" version=\"1.1\" viewBox=\"0 0 12 12\" width=\"12px\" zoomAndPan=\"magnify\"><defs/><g><!--MD5=[9863325348a96a77dacc89509d8ee65e]\n",
       "@startuml\r\n",
       "skinparam ranksep 8\r\n",
       "skinparam wrapWidth 300\r\n",
       "hide circle\r\n",
       "\r\n",
       "@enduml\r\n",
       "\n",
       "PlantUML version 1.2020.13(Sat Jun 13 12:26:38 UTC 2020)\n",
       "(EPL source distribution)\n",
       "Java Runtime: OpenJDK Runtime Environment\n",
       "JVM: OpenJDK 64-Bit Server VM\n",
       "Default Encoding: UTF-8\n",
       "Language: en\n",
       "Country: null\n",
       "--></g></svg>"
      ]
     },
     "execution_count": 27,
     "metadata": {},
     "output_type": "execute_result"
    }
   ],
   "source": [
    "%viz --style=\"STDCOLOR\" --view=\"Action\" \"ImportTest\""
   ]
  },
  {
   "cell_type": "code",
   "execution_count": 28,
   "id": "2d299d77",
   "metadata": {
    "execution": {
     "iopub.execute_input": "2022-08-19T08:17:20.786441Z",
     "iopub.status.busy": "2022-08-19T08:17:20.786147Z",
     "iopub.status.idle": "2022-08-19T08:17:20.790856Z",
     "shell.execute_reply": "2022-08-19T08:17:20.791088Z"
    }
   },
   "outputs": [
    {
     "data": {
      "image/svg+xml": [
       "<?xml version=\"1.0\" encoding=\"UTF-8\" standalone=\"no\"?><svg xmlns=\"http://www.w3.org/2000/svg\" xmlns:xlink=\"http://www.w3.org/1999/xlink\" contentScriptType=\"application/ecmascript\" contentStyleType=\"text/css\" height=\"12px\" preserveAspectRatio=\"none\" style=\"width:12px;height:12px;\" version=\"1.1\" viewBox=\"0 0 12 12\" width=\"12px\" zoomAndPan=\"magnify\"><defs/><g><!--MD5=[6c4bca67b4d71758159a5a7f1f1e1fc2]\n",
       "@startuml\r\n",
       "skinparam roundcorner 20\r\n",
       "skinparam BoxPadding 20\r\n",
       "skinparam SequenceBoxBackgroundColor #white\r\n",
       "skinparam style strictuml\r\n",
       "skinparam maxMessageSize 100\r\n",
       "skinparam wrapWidth 300\r\n",
       "hide circle\r\n",
       "\r\n",
       "@enduml\r\n",
       "\n",
       "PlantUML version 1.2020.13(Sat Jun 13 12:26:38 UTC 2020)\n",
       "(EPL source distribution)\n",
       "Java Runtime: OpenJDK Runtime Environment\n",
       "JVM: OpenJDK 64-Bit Server VM\n",
       "Default Encoding: UTF-8\n",
       "Language: en\n",
       "Country: null\n",
       "--></g></svg>"
      ]
     },
     "execution_count": 28,
     "metadata": {},
     "output_type": "execute_result"
    }
   ],
   "source": [
    "%viz --style=\"STDCOLOR\" --view=\"Sequence\" \"ImportTest\""
   ]
  },
  {
   "cell_type": "code",
   "execution_count": 29,
   "id": "dcb0369c",
   "metadata": {
    "execution": {
     "iopub.execute_input": "2022-08-19T08:17:20.841227Z",
     "iopub.status.busy": "2022-08-19T08:17:20.840940Z",
     "iopub.status.idle": "2022-08-19T08:17:20.878746Z",
     "shell.execute_reply": "2022-08-19T08:17:20.878159Z"
    }
   },
   "outputs": [
    {
     "data": {
      "image/svg+xml": [
       "<?xml version=\"1.0\" encoding=\"UTF-8\" standalone=\"no\"?><svg xmlns=\"http://www.w3.org/2000/svg\" xmlns:xlink=\"http://www.w3.org/1999/xlink\" contentScriptType=\"application/ecmascript\" contentStyleType=\"text/css\" height=\"590px\" preserveAspectRatio=\"none\" style=\"width:522px;height:590px;\" version=\"1.1\" viewBox=\"0 0 522 590\" width=\"522px\" zoomAndPan=\"magnify\"><defs><filter height=\"300%\" id=\"f5tf5xdtl8ml5\" width=\"300%\" x=\"-1\" y=\"-1\"><feGaussianBlur result=\"blurOut\" stdDeviation=\"2.0\"/><feColorMatrix in=\"blurOut\" result=\"blurOut2\" type=\"matrix\" values=\"0 0 0 0 0 0 0 0 0 0 0 0 0 0 0 0 0 0 .4 0\"/><feOffset dx=\"4.0\" dy=\"4.0\" in=\"blurOut2\" result=\"blurOut3\"/><feBlend in=\"SourceGraphic\" in2=\"blurOut3\" mode=\"normal\"/></filter></defs><g><!--MD5=[fbc87193dbaf4d95561dea2c320d4a47]\n",
       "cluster E1--><a href=\"psysml:789e6656-6985-4918-a680-b12b42056b24\" target=\"_top\" title=\"psysml:789e6656-6985-4918-a680-b12b42056b24\" xlink:actuate=\"onRequest\" xlink:href=\"psysml:789e6656-6985-4918-a680-b12b42056b24\" xlink:show=\"new\" xlink:title=\"psysml:789e6656-6985-4918-a680-b12b42056b24\" xlink:type=\"simple\"><polygon fill=\"#FFFFFF\" filter=\"url(#f5tf5xdtl8ml5)\" points=\"16,6,97,6,104,28.2969,500,28.2969,500,578,16,578,16,6\" style=\"stroke: #000000; stroke-width: 1.5;\"/><line style=\"stroke: #000000; stroke-width: 1.5;\" x1=\"16\" x2=\"104\" y1=\"28.2969\" y2=\"28.2969\"/><text fill=\"#000000\" font-family=\"sans-serif\" font-size=\"14\" font-weight=\"bold\" lengthAdjust=\"spacingAndGlyphs\" textLength=\"75\" x=\"20\" y=\"20.9951\">ImportTest</text></a><!--MD5=[e4f7fae6ed58524ba242bb0b0d3be6b7]\n",
       "cluster E2--><a href=\"psysml:9ed5d6a5-603c-4e6a-bfc8-60e703dcd2fe\" target=\"_top\" title=\"psysml:9ed5d6a5-603c-4e6a-bfc8-60e703dcd2fe\" xlink:actuate=\"onRequest\" xlink:href=\"psysml:9ed5d6a5-603c-4e6a-bfc8-60e703dcd2fe\" xlink:show=\"new\" xlink:title=\"psysml:9ed5d6a5-603c-4e6a-bfc8-60e703dcd2fe\" xlink:type=\"simple\"><polygon fill=\"#FFFFFF\" filter=\"url(#f5tf5xdtl8ml5)\" points=\"222,57,263,57,270,79.2969,468,79.2969,468,170,222,170,222,57\" style=\"stroke: #000000; stroke-width: 1.5;\"/><line style=\"stroke: #000000; stroke-width: 1.5;\" x1=\"222\" x2=\"270\" y1=\"79.2969\" y2=\"79.2969\"/><text fill=\"#000000\" font-family=\"sans-serif\" font-size=\"14\" font-weight=\"bold\" lengthAdjust=\"spacingAndGlyphs\" textLength=\"35\" x=\"226\" y=\"71.9951\">Pkg1</text></a><!--MD5=[de5ec2e2e8f62f467e546659f5068c88]\n",
       "cluster E5--><a href=\"psysml:63b0367b-32f1-46aa-9fe1-f934424c590d\" target=\"_top\" title=\"psysml:63b0367b-32f1-46aa-9fe1-f934424c590d\" xlink:actuate=\"onRequest\" xlink:href=\"psysml:63b0367b-32f1-46aa-9fe1-f934424c590d\" xlink:show=\"new\" xlink:title=\"psysml:63b0367b-32f1-46aa-9fe1-f934424c590d\" xlink:type=\"simple\"><polygon fill=\"#FFFFFF\" filter=\"url(#f5tf5xdtl8ml5)\" points=\"121,235,162,235,169,257.2969,434,257.2969,434,546,121,546,121,235\" style=\"stroke: #000000; stroke-width: 1.5;\"/><line style=\"stroke: #000000; stroke-width: 1.5;\" x1=\"121\" x2=\"169\" y1=\"257.2969\" y2=\"257.2969\"/><text fill=\"#000000\" font-family=\"sans-serif\" font-size=\"14\" font-weight=\"bold\" lengthAdjust=\"spacingAndGlyphs\" textLength=\"35\" x=\"125\" y=\"249.9951\">Pkg2</text></a><!--MD5=[14e3b0961a2654348d326746436168a1]\n",
       "cluster E6--><a href=\"psysml:98b17091-6ea5-4037-8451-bfddc724f9d0\" target=\"_top\" title=\"psysml:98b17091-6ea5-4037-8451-bfddc724f9d0\" xlink:actuate=\"onRequest\" xlink:href=\"psysml:98b17091-6ea5-4037-8451-bfddc724f9d0\" xlink:show=\"new\" xlink:title=\"psysml:98b17091-6ea5-4037-8451-bfddc724f9d0\" xlink:type=\"simple\"><polygon fill=\"#FFFFFF\" filter=\"url(#f5tf5xdtl8ml5)\" points=\"161,294,211,294,218,316.2969,386,316.2969,386,506,161,506,161,294\" style=\"stroke: #000000; stroke-width: 1.5;\"/><line style=\"stroke: #000000; stroke-width: 1.5;\" x1=\"161\" x2=\"218\" y1=\"316.2969\" y2=\"316.2969\"/><text fill=\"#000000\" font-family=\"sans-serif\" font-size=\"14\" font-weight=\"bold\" lengthAdjust=\"spacingAndGlyphs\" textLength=\"44\" x=\"165\" y=\"308.9951\">Pkg21</text></a><!--MD5=[168fadf3d0c3fd93dd5d6da1b1d7ab76]\n",
       "cluster E7--><a href=\"psysml:45f4d7ec-8fdd-4896-89d5-a877e9eb4cf9\" target=\"_top\" title=\"psysml:45f4d7ec-8fdd-4896-89d5-a877e9eb4cf9\" xlink:actuate=\"onRequest\" xlink:href=\"psysml:45f4d7ec-8fdd-4896-89d5-a877e9eb4cf9\" xlink:show=\"new\" xlink:title=\"psysml:45f4d7ec-8fdd-4896-89d5-a877e9eb4cf9\" xlink:type=\"simple\"><polygon fill=\"#FFFFFF\" filter=\"url(#f5tf5xdtl8ml5)\" points=\"209,353,268,353,275,375.2969,346,375.2969,346,466,209,466,209,353\" style=\"stroke: #000000; stroke-width: 1.5;\"/><line style=\"stroke: #000000; stroke-width: 1.5;\" x1=\"209\" x2=\"275\" y1=\"375.2969\" y2=\"375.2969\"/><text fill=\"#000000\" font-family=\"sans-serif\" font-size=\"14\" font-weight=\"bold\" lengthAdjust=\"spacingAndGlyphs\" textLength=\"53\" x=\"213\" y=\"367.9951\">Pkg211</text></a><!--MD5=[09b614a08d8cba4a07c9adeb5e0fee81]\n",
       "class E3--><a href=\"psysml:380b438c-f0d0-40f2-a10d-c83a46ac62de\" target=\"_top\" title=\"psysml:380b438c-f0d0-40f2-a10d-c83a46ac62de\" xlink:actuate=\"onRequest\" xlink:href=\"psysml:380b438c-f0d0-40f2-a10d-c83a46ac62de\" xlink:show=\"new\" xlink:title=\"psysml:380b438c-f0d0-40f2-a10d-c83a46ac62de\" xlink:type=\"simple\"><rect fill=\"#FEFECE\" filter=\"url(#f5tf5xdtl8ml5)\" height=\"45.9375\" id=\"E3\" rx=\"10\" ry=\"10\" style=\"stroke: #A80036; stroke-width: 1.5;\" width=\"74\" x=\"265\" y=\"100\"/><text fill=\"#000000\" font-family=\"sans-serif\" font-size=\"12\" font-style=\"italic\" lengthAdjust=\"spacingAndGlyphs\" textLength=\"40\" x=\"282\" y=\"116.1387\">«part»</text><text fill=\"#000000\" font-family=\"sans-serif\" font-size=\"12\" lengthAdjust=\"spacingAndGlyphs\" textLength=\"64\" x=\"268\" y=\"130.1074\">p11: P211</text><line style=\"stroke: #A80036; stroke-width: 1.5;\" x1=\"266\" x2=\"338\" y1=\"137.9375\" y2=\"137.9375\"/></a><!--MD5=[ebbe1d658d1005bcc118a6aa81145e00]\n",
       "class E4--><a href=\"psysml:4c18927e-9f3a-4bbe-ae04-0ff2b7ea0a78\" target=\"_top\" title=\"psysml:4c18927e-9f3a-4bbe-ae04-0ff2b7ea0a78\" xlink:actuate=\"onRequest\" xlink:href=\"psysml:4c18927e-9f3a-4bbe-ae04-0ff2b7ea0a78\" xlink:show=\"new\" xlink:title=\"psysml:4c18927e-9f3a-4bbe-ae04-0ff2b7ea0a78\" xlink:type=\"simple\"><rect fill=\"#FEFECE\" filter=\"url(#f5tf5xdtl8ml5)\" height=\"45.9375\" id=\"E4\" style=\"stroke: #A80036; stroke-width: 1.5;\" width=\"70\" x=\"374\" y=\"100\"/><text fill=\"#000000\" font-family=\"sans-serif\" font-size=\"12\" font-style=\"italic\" lengthAdjust=\"spacingAndGlyphs\" textLength=\"68\" x=\"375\" y=\"116.1387\">«part  def»</text><text fill=\"#000000\" font-family=\"sans-serif\" font-size=\"12\" lengthAdjust=\"spacingAndGlyphs\" textLength=\"24\" x=\"397\" y=\"130.1074\">P12</text><line style=\"stroke: #A80036; stroke-width: 1.5;\" x1=\"375\" x2=\"443\" y1=\"137.9375\" y2=\"137.9375\"/></a><!--MD5=[b9389687b975829384b498ac4b7476b2]\n",
       "class E8--><a href=\"psysml:b4068f35-75bf-4c63-8263-9508faa965fc\" target=\"_top\" title=\"psysml:b4068f35-75bf-4c63-8263-9508faa965fc\" xlink:actuate=\"onRequest\" xlink:href=\"psysml:b4068f35-75bf-4c63-8263-9508faa965fc\" xlink:show=\"new\" xlink:title=\"psysml:b4068f35-75bf-4c63-8263-9508faa965fc\" xlink:type=\"simple\"><rect fill=\"#FEFECE\" filter=\"url(#f5tf5xdtl8ml5)\" height=\"45.9375\" id=\"E8\" style=\"stroke: #A80036; stroke-width: 1.5;\" width=\"70\" x=\"252\" y=\"396\"/><text fill=\"#000000\" font-family=\"sans-serif\" font-size=\"12\" font-style=\"italic\" lengthAdjust=\"spacingAndGlyphs\" textLength=\"68\" x=\"253\" y=\"412.1387\">«part  def»</text><text fill=\"#000000\" font-family=\"sans-serif\" font-size=\"12\" lengthAdjust=\"spacingAndGlyphs\" textLength=\"32\" x=\"271\" y=\"426.1074\">P211</text><line style=\"stroke: #A80036; stroke-width: 1.5;\" x1=\"253\" x2=\"321\" y1=\"433.9375\" y2=\"433.9375\"/></a><!--MD5=[b0060bfdb0500b904584095522b4da3c]\n",
       "link E2 to E8--><a href=\"psysml:86dbe04c-b04a-4ec6-a347-5e4f000abe00\" target=\"_top\" title=\"psysml:86dbe04c-b04a-4ec6-a347-5e4f000abe00\" xlink:actuate=\"onRequest\" xlink:href=\"psysml:86dbe04c-b04a-4ec6-a347-5e4f000abe00\" xlink:show=\"new\" xlink:title=\"psysml:86dbe04c-b04a-4ec6-a347-5e4f000abe00\" xlink:type=\"simple\"><path d=\"M239.5673,170.044 C239.9187,170.8643 240.2829,171.6796 240.6605,172.4884 C241.4156,174.106 242.2242,175.6975 243.0899,177.2503 C244.8213,180.3558 246.7813,183.3063 249,186 C253.8,191.83 259.79,187.73 264,194 C304.62,254.46 298.3,345.57 291.84,390.69 \" fill=\"none\" id=\"E2-&gt;E8\" style=\"stroke: #A80036; stroke-width: 1.0; stroke-dasharray: 7.0,7.0;\"/><polygon fill=\"#A80036\" points=\"291.1,395.69,296.3662,387.3673,291.8271,390.7431,288.4512,386.204,291.1,395.69\" style=\"stroke: #A80036; stroke-width: 1.0;\"/><text fill=\"#000000\" font-family=\"sans-serif\" font-size=\"13\" lengthAdjust=\"spacingAndGlyphs\" textLength=\"58\" x=\"274\" y=\"207.0669\">«import»</text></a><!--MD5=[e3e28c1befcf002155aa15e1416b4315]\n",
       "link E2 to E6--><a href=\"psysml:b4797686-9eb8-4e8e-a70f-411a8a1a5c6c\" target=\"_top\" title=\"psysml:b4797686-9eb8-4e8e-a70f-411a8a1a5c6c\" xlink:actuate=\"onRequest\" xlink:href=\"psysml:b4797686-9eb8-4e8e-a70f-411a8a1a5c6c\" xlink:show=\"new\" xlink:title=\"psysml:b4797686-9eb8-4e8e-a70f-411a8a1a5c6c\" xlink:type=\"simple\"><path d=\"M221.7454,125.2359 C221.6297,125.2555 221.5129,125.2754 221.395,125.2955 C221.1593,125.3358 220.9193,125.3771 220.6752,125.4195 C220.1869,125.5042 219.6819,125.5933 219.1609,125.6868 C217.0769,126.0607 214.7359,126.5053 212.1769,127.0288 C201.9406,129.1225 188.215,132.4775 173.4875,137.615 C144.0325,147.89 110.57,165.295 93,194 C65.99,238.135 83.98,293.0875 109.2162,337.5175 C121.8344,359.7325 136.2641,379.3169 147.7861,393.6031 C150.6666,397.1747 153.3654,400.4151 155.8087,403.2827 C157.0304,404.7165 158.1881,406.0571 159.2728,407.2993 C159.8152,407.9204 160.3393,408.5169 160.8439,409.0882 \" fill=\"none\" id=\"E2-&gt;E6\" style=\"stroke: #A80036; stroke-width: 1.0; stroke-dasharray: 7.0,7.0;\"/><polygon fill=\"#A80036\" points=\"160.8439,409.0882,157.8829,399.695,157.5335,405.341,151.8875,404.9916,160.8439,409.0882\" style=\"stroke: #A80036; stroke-width: 1.0;\"/><text fill=\"#000000\" font-family=\"sans-serif\" font-size=\"13\" lengthAdjust=\"spacingAndGlyphs\" textLength=\"65\" x=\"94\" y=\"207.0669\">«import»*</text></a><!--MD5=[e3d2a08a9c9236652057e8ed0cbc9b62]\n",
       "link E2 to E7--><a href=\"psysml:c873f416-4fb0-4522-b4d5-2fc0ff0d8008\" target=\"_top\" title=\"psysml:c873f416-4fb0-4522-b4d5-2fc0ff0d8008\" xlink:actuate=\"onRequest\" xlink:href=\"psysml:c873f416-4fb0-4522-b4d5-2fc0ff0d8008\" xlink:show=\"new\" xlink:title=\"psysml:c873f416-4fb0-4522-b4d5-2fc0ff0d8008\" xlink:type=\"simple\"><path d=\"M221.8807,130.2617 C221.7401,130.3761 221.5982,130.4918 221.4548,130.6091 C216.8678,134.36 210.8594,139.5688 204.5113,145.875 C191.815,158.4875 177.76,175.49 171,194 C168.41,201.1 166.18,205.18 171,211 C183.11,225.64 200.74,204.48 213,219 C227.045,235.63 228.2325,284.0975 225.8175,329.0338 C225.5156,334.6508 225.1575,340.2126 224.7611,345.6502 C224.662,347.0096 224.5605,348.3613 224.4569,349.7041 C224.4051,350.3755 224.3528,351.0446 224.3,351.7115 C224.2736,352.0449 224.2471,352.3777 224.2204,352.71 \" fill=\"none\" id=\"E2-&gt;E7\" style=\"stroke: #A80036; stroke-width: 1.0; stroke-dasharray: 7.0,7.0;\"/><polygon fill=\"#A80036\" points=\"224.2204,352.71,228.9272,344.0586,224.6202,347.726,220.9528,343.419,224.2204,352.71\" style=\"stroke: #A80036; stroke-width: 1.0;\"/><text fill=\"#000000\" font-family=\"sans-serif\" font-size=\"13\" lengthAdjust=\"spacingAndGlyphs\" textLength=\"87\" x=\"172\" y=\"207.0669\">«import»*::**</text></a><!--MD5=[ca5a752d6098d8a44b3f88316e7452d1]\n",
       "link E3 to E8--><a href=\"psysml:bb41b158-76b0-47f5-886e-e2f97e00e6aa\" target=\"_top\" title=\"psysml:bb41b158-76b0-47f5-886e-e2f97e00e6aa\" xlink:actuate=\"onRequest\" xlink:href=\"psysml:bb41b158-76b0-47f5-886e-e2f97e00e6aa\" xlink:show=\"new\" xlink:title=\"psysml:bb41b158-76b0-47f5-886e-e2f97e00e6aa\" xlink:type=\"simple\"><path d=\"M321.59,146.07 C339.73,166.51 363.93,193.81 364,194 C366.68,201.06 368.76,205.13 364,211 C353.13,224.4 338.12,206.71 326,219 C285.31,260.27 280.82,330.75 282.81,375.81 \" fill=\"none\" id=\"E3-&gt;E8\" style=\"stroke: #A80036; stroke-width: 1.0;\"/><polygon fill=\"#FFFFFF\" points=\"284.19,395.93,275.9039,377.4546,289.8709,376.4948,284.19,395.93\" style=\"stroke: #A80036; stroke-width: 1.0;\"/><ellipse cx=\"277.5084\" cy=\"371.6309\" fill=\"#A80036\" rx=\"2\" ry=\"2\" style=\"stroke: #A80036; stroke-width: 1.0;\"/><ellipse cx=\"287.4849\" cy=\"370.9453\" fill=\"#A80036\" rx=\"2\" ry=\"2\" style=\"stroke: #A80036; stroke-width: 1.0;\"/></a><!--MD5=[15ebcb19ae302d9b601edb458606d402]\n",
       "link E5 to E2--><a href=\"psysml:cb98c000-d2e0-4059-b3dc-41ff4d975042\" target=\"_top\" title=\"psysml:cb98c000-d2e0-4059-b3dc-41ff4d975042\" xlink:actuate=\"onRequest\" xlink:href=\"psysml:cb98c000-d2e0-4059-b3dc-41ff4d975042\" xlink:show=\"new\" xlink:title=\"psysml:cb98c000-d2e0-4059-b3dc-41ff4d975042\" xlink:type=\"simple\"><path d=\"M377.9071,234.5987 C377.6837,234.254 377.4593,233.91 377.2338,233.5668 C376.3317,232.1941 375.413,230.8338 374.4773,229.4868 C372.6059,226.7928 370.6665,224.152 368.6567,221.572 C360.6175,211.2517 351.4513,201.9025 341,194 C324.63,181.62 264.96,198.91 249,186 C246.2863,183.805 243.9511,181.2325 241.9426,178.4061 C240.9384,176.9929 240.0159,175.5163 239.1685,173.9916 C238.7448,173.2292 238.3399,172.4549 237.953,171.6705 C237.7596,171.2782 237.5706,170.8835 237.3861,170.4865 C237.3399,170.3873 237.2941,170.2879 237.2485,170.1883 \" fill=\"none\" id=\"E5-&gt;E2\" style=\"stroke: #A80036; stroke-width: 1.0; stroke-dasharray: 7.0,7.0;\"/><polygon fill=\"#A80036\" points=\"237.2485,170.1883,237.3599,180.0366,239.3307,174.7341,244.6331,176.705,237.2485,170.1883\" style=\"stroke: #A80036; stroke-width: 1.0;\"/><text fill=\"#000000\" font-family=\"sans-serif\" font-size=\"13\" lengthAdjust=\"spacingAndGlyphs\" textLength=\"65\" x=\"356\" y=\"207.0669\">«import»*</text></a><!--MD5=[d7bb3fb34add81b710575eb3799fa2ad]\n",
       "link E8 to E4--><a href=\"psysml:ff856c1d-ebaf-4dbc-8ba8-d8c60136e299\" target=\"_top\" title=\"psysml:ff856c1d-ebaf-4dbc-8ba8-d8c60136e299\" xlink:actuate=\"onRequest\" xlink:href=\"psysml:ff856c1d-ebaf-4dbc-8ba8-d8c60136e299\" xlink:show=\"new\" xlink:title=\"psysml:ff856c1d-ebaf-4dbc-8ba8-d8c60136e299\" xlink:type=\"simple\"><path d=\"M283.6,395.87 C278.58,354.03 274.69,263.54 326,219 C338.77,207.91 466.36,223.27 478,211 C493.94,194.2 479.72,174.01 460.15,157.31 \" fill=\"none\" id=\"E8-&gt;E4\" style=\"stroke: #A80036; stroke-width: 1.0;\"/><polygon fill=\"none\" points=\"455.78,162.78,444.15,145.06,464.29,151.66,455.78,162.78\" style=\"stroke: #A80036; stroke-width: 1.0;\"/></a><!--MD5=[6afe41145310f91727c8c0c51090a98b]\n",
       "@startuml\r\n",
       "skinparam wrapWidth 300\r\n",
       "hide circle\r\n",
       "\r\n",
       "package \"ImportTest\" as E1  [[psysml:789e6656-6985-4918-a680-b12b42056b24 ]]  {\r\n",
       "package \"Pkg1\" as E2  [[psysml:9ed5d6a5-603c-4e6a-bfc8-60e703dcd2fe ]]  {\r\n",
       "comp usage \"p11: P211 \" as E3  <<(T,blue) part>> [[psysml:380b438c-f0d0-40f2-a10d-c83a46ac62de ]] {\r\n",
       "}\r\n",
       "comp def \"P12\" as E4  <<(T,blue) part  def>> [[psysml:4c18927e-9f3a-4bbe-ae04-0ff2b7ea0a78 ]] {\r\n",
       "}\r\n",
       "}\r\n",
       "package \"Pkg2\" as E5  [[psysml:63b0367b-32f1-46aa-9fe1-f934424c590d ]]  {\r\n",
       "package \"Pkg21\" as E6  [[psysml:98b17091-6ea5-4037-8451-bfddc724f9d0 ]]  {\r\n",
       "package \"Pkg211\" as E7  [[psysml:45f4d7ec-8fdd-4896-89d5-a877e9eb4cf9 ]]  {\r\n",
       "comp def \"P211\" as E8  <<(T,blue) part  def>> [[psysml:b4068f35-75bf-4c63-8263-9508faa965fc ]] {\r\n",
       "}\r\n",
       "}\r\n",
       "}\r\n",
       "}\r\n",
       "}\r\n",
       "E2 ..> E8 [[psysml:86dbe04c-b04a-4ec6-a347-5e4f000abe00 ]] : <<import>>\r\n",
       "E2 ..> E6 [[psysml:b4797686-9eb8-4e8e-a70f-411a8a1a5c6c ]] : <<import>>*\r\n",
       "E2 ..> E7 [[psysml:c873f416-4fb0-4522-b4d5-2fc0ff0d8008 ]] : <<import>>*::**\r\n",
       "E3 - -:|> E8 [[psysml:bb41b158-76b0-47f5-886e-e2f97e00e6aa ]] \r\n",
       "E5 ..> E2 [[psysml:cb98c000-d2e0-4059-b3dc-41ff4d975042 ]] : <<import>>*\r\n",
       "E8 - -|> E4 [[psysml:ff856c1d-ebaf-4dbc-8ba8-d8c60136e299 ]] \r\n",
       "@enduml\r\n",
       "\n",
       "PlantUML version 1.2020.13(Sat Jun 13 12:26:38 UTC 2020)\n",
       "(EPL source distribution)\n",
       "Java Runtime: OpenJDK Runtime Environment\n",
       "JVM: OpenJDK 64-Bit Server VM\n",
       "Default Encoding: UTF-8\n",
       "Language: en\n",
       "Country: null\n",
       "--></g></svg>"
      ]
     },
     "execution_count": 29,
     "metadata": {},
     "output_type": "execute_result"
    }
   ],
   "source": [
    "%viz --style=\"STDCOLOR\" --view=\"MIXED\" \"ImportTest\""
   ]
  },
  {
   "cell_type": "code",
   "execution_count": 30,
   "id": "482c70c9",
   "metadata": {
    "execution": {
     "iopub.execute_input": "2022-08-19T08:17:20.927612Z",
     "iopub.status.busy": "2022-08-19T08:17:20.927143Z",
     "iopub.status.idle": "2022-08-19T08:17:20.986750Z",
     "shell.execute_reply": "2022-08-19T08:17:20.986304Z"
    }
   },
   "outputs": [
    {
     "data": {
      "image/svg+xml": [
       "<?xml version=\"1.0\" encoding=\"UTF-8\" standalone=\"no\"?><svg xmlns=\"http://www.w3.org/2000/svg\" xmlns:xlink=\"http://www.w3.org/1999/xlink\" contentScriptType=\"application/ecmascript\" contentStyleType=\"text/css\" height=\"584px\" preserveAspectRatio=\"none\" style=\"width:522px;height:584px;\" version=\"1.1\" viewBox=\"0 0 522 584\" width=\"522px\" zoomAndPan=\"magnify\"><defs><filter height=\"300%\" id=\"f1n8qgpki1fvwq\" width=\"300%\" x=\"-1\" y=\"-1\"><feGaussianBlur result=\"blurOut\" stdDeviation=\"2.0\"/><feColorMatrix in=\"blurOut\" result=\"blurOut2\" type=\"matrix\" values=\"0 0 0 0 0 0 0 0 0 0 0 0 0 0 0 0 0 0 .4 0\"/><feOffset dx=\"4.0\" dy=\"4.0\" in=\"blurOut2\" result=\"blurOut3\"/><feBlend in=\"SourceGraphic\" in2=\"blurOut3\" mode=\"normal\"/></filter></defs><g><!--MD5=[fbc87193dbaf4d95561dea2c320d4a47]\n",
       "cluster E1--><a href=\"psysml:789e6656-6985-4918-a680-b12b42056b24\" target=\"_top\" title=\"psysml:789e6656-6985-4918-a680-b12b42056b24\" xlink:actuate=\"onRequest\" xlink:href=\"psysml:789e6656-6985-4918-a680-b12b42056b24\" xlink:show=\"new\" xlink:title=\"psysml:789e6656-6985-4918-a680-b12b42056b24\" xlink:type=\"simple\"><polygon fill=\"#FFFFFF\" filter=\"url(#f1n8qgpki1fvwq)\" points=\"16,6,97,6,104,28.2969,500,28.2969,500,572,16,572,16,6\" style=\"stroke: #000000; stroke-width: 1.5;\"/><line style=\"stroke: #000000; stroke-width: 1.5;\" x1=\"16\" x2=\"104\" y1=\"28.2969\" y2=\"28.2969\"/><text fill=\"#000000\" font-family=\"sans-serif\" font-size=\"14\" font-weight=\"bold\" lengthAdjust=\"spacingAndGlyphs\" textLength=\"75\" x=\"20\" y=\"20.9951\">ImportTest</text></a><!--MD5=[e4f7fae6ed58524ba242bb0b0d3be6b7]\n",
       "cluster E2--><a href=\"psysml:9ed5d6a5-603c-4e6a-bfc8-60e703dcd2fe\" target=\"_top\" title=\"psysml:9ed5d6a5-603c-4e6a-bfc8-60e703dcd2fe\" xlink:actuate=\"onRequest\" xlink:href=\"psysml:9ed5d6a5-603c-4e6a-bfc8-60e703dcd2fe\" xlink:show=\"new\" xlink:title=\"psysml:9ed5d6a5-603c-4e6a-bfc8-60e703dcd2fe\" xlink:type=\"simple\"><polygon fill=\"#FFFFFF\" filter=\"url(#f1n8qgpki1fvwq)\" points=\"210,57,251,57,258,79.2969,468,79.2969,468,170,210,170,210,57\" style=\"stroke: #000000; stroke-width: 1.5;\"/><line style=\"stroke: #000000; stroke-width: 1.5;\" x1=\"210\" x2=\"258\" y1=\"79.2969\" y2=\"79.2969\"/><text fill=\"#000000\" font-family=\"sans-serif\" font-size=\"14\" font-weight=\"bold\" lengthAdjust=\"spacingAndGlyphs\" textLength=\"35\" x=\"214\" y=\"71.9951\">Pkg1</text></a><!--MD5=[de5ec2e2e8f62f467e546659f5068c88]\n",
       "cluster E5--><a href=\"psysml:63b0367b-32f1-46aa-9fe1-f934424c590d\" target=\"_top\" title=\"psysml:63b0367b-32f1-46aa-9fe1-f934424c590d\" xlink:actuate=\"onRequest\" xlink:href=\"psysml:63b0367b-32f1-46aa-9fe1-f934424c590d\" xlink:show=\"new\" xlink:title=\"psysml:63b0367b-32f1-46aa-9fe1-f934424c590d\" xlink:type=\"simple\"><polygon fill=\"#FFFFFF\" filter=\"url(#f1n8qgpki1fvwq)\" points=\"125,235,166,235,173,257.2969,432,257.2969,432,540,125,540,125,235\" style=\"stroke: #000000; stroke-width: 1.5;\"/><line style=\"stroke: #000000; stroke-width: 1.5;\" x1=\"125\" x2=\"173\" y1=\"257.2969\" y2=\"257.2969\"/><text fill=\"#000000\" font-family=\"sans-serif\" font-size=\"14\" font-weight=\"bold\" lengthAdjust=\"spacingAndGlyphs\" textLength=\"35\" x=\"129\" y=\"249.9951\">Pkg2</text></a><!--MD5=[14e3b0961a2654348d326746436168a1]\n",
       "cluster E6--><a href=\"psysml:98b17091-6ea5-4037-8451-bfddc724f9d0\" target=\"_top\" title=\"psysml:98b17091-6ea5-4037-8451-bfddc724f9d0\" xlink:actuate=\"onRequest\" xlink:href=\"psysml:98b17091-6ea5-4037-8451-bfddc724f9d0\" xlink:show=\"new\" xlink:title=\"psysml:98b17091-6ea5-4037-8451-bfddc724f9d0\" xlink:type=\"simple\"><polygon fill=\"#FFFFFF\" filter=\"url(#f1n8qgpki1fvwq)\" points=\"165,294,215,294,222,316.2969,384,316.2969,384,500,165,500,165,294\" style=\"stroke: #000000; stroke-width: 1.5;\"/><line style=\"stroke: #000000; stroke-width: 1.5;\" x1=\"165\" x2=\"222\" y1=\"316.2969\" y2=\"316.2969\"/><text fill=\"#000000\" font-family=\"sans-serif\" font-size=\"14\" font-weight=\"bold\" lengthAdjust=\"spacingAndGlyphs\" textLength=\"44\" x=\"169\" y=\"308.9951\">Pkg21</text></a><!--MD5=[168fadf3d0c3fd93dd5d6da1b1d7ab76]\n",
       "cluster E7--><a href=\"psysml:45f4d7ec-8fdd-4896-89d5-a877e9eb4cf9\" target=\"_top\" title=\"psysml:45f4d7ec-8fdd-4896-89d5-a877e9eb4cf9\" xlink:actuate=\"onRequest\" xlink:href=\"psysml:45f4d7ec-8fdd-4896-89d5-a877e9eb4cf9\" xlink:show=\"new\" xlink:title=\"psysml:45f4d7ec-8fdd-4896-89d5-a877e9eb4cf9\" xlink:type=\"simple\"><polygon fill=\"#FFFFFF\" filter=\"url(#f1n8qgpki1fvwq)\" points=\"213,353,272,353,279,375.2969,344,375.2969,344,460,213,460,213,353\" style=\"stroke: #000000; stroke-width: 1.5;\"/><line style=\"stroke: #000000; stroke-width: 1.5;\" x1=\"213\" x2=\"279\" y1=\"375.2969\" y2=\"375.2969\"/><text fill=\"#000000\" font-family=\"sans-serif\" font-size=\"14\" font-weight=\"bold\" lengthAdjust=\"spacingAndGlyphs\" textLength=\"53\" x=\"217\" y=\"367.9951\">Pkg211</text></a><!--MD5=[09b614a08d8cba4a07c9adeb5e0fee81]\n",
       "class E3--><a href=\"psysml:380b438c-f0d0-40f2-a10d-c83a46ac62de\" target=\"_top\" title=\"psysml:380b438c-f0d0-40f2-a10d-c83a46ac62de\" xlink:actuate=\"onRequest\" xlink:href=\"psysml:380b438c-f0d0-40f2-a10d-c83a46ac62de\" xlink:show=\"new\" xlink:title=\"psysml:380b438c-f0d0-40f2-a10d-c83a46ac62de\" xlink:type=\"simple\"><rect fill=\"#FEFECE\" filter=\"url(#f1n8qgpki1fvwq)\" height=\"45.9375\" id=\"E3\" rx=\"10\" ry=\"10\" style=\"stroke: #A80036; stroke-width: 1.5;\" width=\"100\" x=\"253\" y=\"100\"/><ellipse cx=\"268\" cy=\"118.9688\" fill=\"#32CD32\" rx=\"11\" ry=\"11\" style=\"stroke: #A80036; stroke-width: 1.0;\"/><path d=\"M264.8125,123.9688 L264.8125,113.375 L268.4219,113.375 Q269.6406,113.375 270.4375,113.8125 Q271.2344,114.2344 271.6094,114.9375 Q272,115.6406 272,116.4844 Q272,117.3281 271.625,118.0156 Q271.2656,118.7031 270.4688,119.125 Q269.6875,119.5313 268.5,119.5313 L266.7656,119.5313 L266.7656,123.9688 L264.8125,123.9688 Z M266.7656,117.9375 L268.375,117.9375 Q269.1875,117.9375 269.6094,117.5313 Q270.0313,117.125 270.0313,116.4844 Q270.0313,115.8594 269.6094,115.4531 Q269.1875,115.0469 268.3906,115.0469 L266.7656,115.0469 L266.7656,117.9375 Z \"/><text fill=\"#000000\" font-family=\"sans-serif\" font-size=\"12\" font-style=\"italic\" lengthAdjust=\"spacingAndGlyphs\" textLength=\"40\" x=\"296\" y=\"116.1387\">«part»</text><text fill=\"#000000\" font-family=\"sans-serif\" font-size=\"12\" lengthAdjust=\"spacingAndGlyphs\" textLength=\"64\" x=\"282\" y=\"130.1074\">p11: P211</text><line style=\"stroke: #A80036; stroke-width: 1.5;\" x1=\"254\" x2=\"352\" y1=\"137.9375\" y2=\"137.9375\"/></a><!--MD5=[ebbe1d658d1005bcc118a6aa81145e00]\n",
       "class E4--><a href=\"psysml:4c18927e-9f3a-4bbe-ae04-0ff2b7ea0a78\" target=\"_top\" title=\"psysml:4c18927e-9f3a-4bbe-ae04-0ff2b7ea0a78\" xlink:actuate=\"onRequest\" xlink:href=\"psysml:4c18927e-9f3a-4bbe-ae04-0ff2b7ea0a78\" xlink:show=\"new\" xlink:title=\"psysml:4c18927e-9f3a-4bbe-ae04-0ff2b7ea0a78\" xlink:type=\"simple\"><rect fill=\"#FEFECE\" filter=\"url(#f1n8qgpki1fvwq)\" height=\"40\" id=\"E4\" style=\"stroke: #A80036; stroke-width: 1.5;\" width=\"56\" x=\"388\" y=\"103\"/><ellipse cx=\"403\" cy=\"119\" fill=\"#008000\" rx=\"11\" ry=\"11\" style=\"stroke: #A80036; stroke-width: 1.0;\"/><path d=\"M399.875,124 L399.875,113.4063 L403.1094,113.4063 Q405.0156,113.4063 405.9219,114.1563 Q406.8438,114.9063 406.8438,116.0781 Q406.8438,116.7656 406.4531,117.4219 Q406.0781,118.0781 405.3594,118.375 Q406.2188,118.75 406.7344,119.4375 Q407.25,120.125 407.25,120.9375 Q407.25,122.3125 406.2188,123.1563 Q405.2031,124 403.0938,124 L399.875,124 Z M401.7969,117.6406 L402.9531,117.6406 Q404.0781,117.6406 404.4844,117.2656 Q404.9063,116.875 404.9063,116.25 Q404.9063,115.6719 404.4844,115.3125 Q404.0625,114.9531 403.125,114.9531 L401.7969,114.9531 L401.7969,117.6406 Z M401.7969,122.4219 L403.2969,122.4219 Q404.2031,122.4219 404.7344,122.0313 Q405.2656,121.6406 405.2656,120.8906 Q405.2656,120.125 404.7656,119.6563 Q404.2656,119.1719 403,119.1719 L401.7969,119.1719 L401.7969,122.4219 Z \"/><text fill=\"#000000\" font-family=\"sans-serif\" font-size=\"12\" lengthAdjust=\"spacingAndGlyphs\" textLength=\"24\" x=\"417\" y=\"123.1543\">P12</text><line style=\"stroke: #A80036; stroke-width: 1.5;\" x1=\"389\" x2=\"443\" y1=\"135\" y2=\"135\"/></a><!--MD5=[b9389687b975829384b498ac4b7476b2]\n",
       "class E8--><a href=\"psysml:b4068f35-75bf-4c63-8263-9508faa965fc\" target=\"_top\" title=\"psysml:b4068f35-75bf-4c63-8263-9508faa965fc\" xlink:actuate=\"onRequest\" xlink:href=\"psysml:b4068f35-75bf-4c63-8263-9508faa965fc\" xlink:show=\"new\" xlink:title=\"psysml:b4068f35-75bf-4c63-8263-9508faa965fc\" xlink:type=\"simple\"><rect fill=\"#FEFECE\" filter=\"url(#f1n8qgpki1fvwq)\" height=\"40\" id=\"E8\" style=\"stroke: #A80036; stroke-width: 1.5;\" width=\"64\" x=\"256\" y=\"396\"/><ellipse cx=\"271\" cy=\"412\" fill=\"#008000\" rx=\"11\" ry=\"11\" style=\"stroke: #A80036; stroke-width: 1.0;\"/><path d=\"M267.875,417 L267.875,406.4063 L271.1094,406.4063 Q273.0156,406.4063 273.9219,407.1563 Q274.8438,407.9063 274.8438,409.0781 Q274.8438,409.7656 274.4531,410.4219 Q274.0781,411.0781 273.3594,411.375 Q274.2188,411.75 274.7344,412.4375 Q275.25,413.125 275.25,413.9375 Q275.25,415.3125 274.2188,416.1563 Q273.2031,417 271.0938,417 L267.875,417 Z M269.7969,410.6406 L270.9531,410.6406 Q272.0781,410.6406 272.4844,410.2656 Q272.9063,409.875 272.9063,409.25 Q272.9063,408.6719 272.4844,408.3125 Q272.0625,407.9531 271.125,407.9531 L269.7969,407.9531 L269.7969,410.6406 Z M269.7969,415.4219 L271.2969,415.4219 Q272.2031,415.4219 272.7344,415.0313 Q273.2656,414.6406 273.2656,413.8906 Q273.2656,413.125 272.7656,412.6563 Q272.2656,412.1719 271,412.1719 L269.7969,412.1719 L269.7969,415.4219 Z \"/><text fill=\"#000000\" font-family=\"sans-serif\" font-size=\"12\" lengthAdjust=\"spacingAndGlyphs\" textLength=\"32\" x=\"285\" y=\"416.1543\">P211</text><line style=\"stroke: #A80036; stroke-width: 1.5;\" x1=\"257\" x2=\"319\" y1=\"428\" y2=\"428\"/></a><!--MD5=[b0060bfdb0500b904584095522b4da3c]\n",
       "link E2 to E8--><a href=\"psysml:86dbe04c-b04a-4ec6-a347-5e4f000abe00\" target=\"_top\" title=\"psysml:86dbe04c-b04a-4ec6-a347-5e4f000abe00\" xlink:actuate=\"onRequest\" xlink:href=\"psysml:86dbe04c-b04a-4ec6-a347-5e4f000abe00\" xlink:show=\"new\" xlink:title=\"psysml:86dbe04c-b04a-4ec6-a347-5e4f000abe00\" xlink:type=\"simple\"><path d=\"M226.445,170.2149 C226.5356,170.4166 226.6271,170.6178 226.7196,170.8186 C227.0896,171.6218 227.4752,172.4176 227.877,173.2043 C228.6805,174.7776 229.5489,176.3144 230.4873,177.8007 C232.3642,180.7733 234.5213,183.5438 237,186 C245.89,194.81 255.98,184.39 264,194 C311.29,250.66 301.32,345.99 293.25,390.6 \" fill=\"none\" id=\"E2-&gt;E8\" style=\"stroke: #A80036; stroke-width: 1.0; stroke-dasharray: 7.0,7.0;\"/><polygon fill=\"#A80036\" points=\"292.28,395.78,297.8815,387.6792,293.2083,390.8669,290.0206,386.1938,292.28,395.78\" style=\"stroke: #A80036; stroke-width: 1.0;\"/><text fill=\"#000000\" font-family=\"sans-serif\" font-size=\"13\" lengthAdjust=\"spacingAndGlyphs\" textLength=\"58\" x=\"275\" y=\"207.0669\">«import»</text></a><!--MD5=[e3e28c1befcf002155aa15e1416b4315]\n",
       "link E2 to E6--><a href=\"psysml:b4797686-9eb8-4e8e-a70f-411a8a1a5c6c\" target=\"_top\" title=\"psysml:b4797686-9eb8-4e8e-a70f-411a8a1a5c6c\" xlink:actuate=\"onRequest\" xlink:href=\"psysml:b4797686-9eb8-4e8e-a70f-411a8a1a5c6c\" xlink:show=\"new\" xlink:title=\"psysml:b4797686-9eb8-4e8e-a70f-411a8a1a5c6c\" xlink:type=\"simple\"><path d=\"M209.877,125.4701 C209.6546,125.5149 209.4281,125.5608 209.1978,125.6079 C208.737,125.702 208.2606,125.8006 207.769,125.9039 C205.8025,126.3169 203.5938,126.8041 201.1794,127.3719 C191.5219,129.6431 178.575,133.205 164.6925,138.4775 C136.9275,149.0225 105.42,166.41 89,194 C62.55,238.445 82.485,292.6775 109.5525,336.295 C123.0863,358.1038 138.4031,377.2587 150.5966,391.2097 C153.6449,394.6974 156.4981,397.8599 159.0793,400.6573 C160.37,402.056 161.5926,403.3634 162.7377,404.5745 C163.3103,405.1801 163.8635,405.7616 164.396,406.3185 C164.5292,406.4577 164.661,406.5953 164.7916,406.7314 \" fill=\"none\" id=\"E2-&gt;E6\" style=\"stroke: #A80036; stroke-width: 1.0; stroke-dasharray: 7.0,7.0;\"/><polygon fill=\"#A80036\" points=\"164.7916,406.7314,161.4484,397.4674,161.3305,403.123,155.6749,403.0051,164.7916,406.7314\" style=\"stroke: #A80036; stroke-width: 1.0;\"/><text fill=\"#000000\" font-family=\"sans-serif\" font-size=\"13\" lengthAdjust=\"spacingAndGlyphs\" textLength=\"65\" x=\"90\" y=\"207.0669\">«import»*</text></a><!--MD5=[e3d2a08a9c9236652057e8ed0cbc9b62]\n",
       "link E2 to E7--><a href=\"psysml:c873f416-4fb0-4522-b4d5-2fc0ff0d8008\" target=\"_top\" title=\"psysml:c873f416-4fb0-4522-b4d5-2fc0ff0d8008\" xlink:actuate=\"onRequest\" xlink:href=\"psysml:c873f416-4fb0-4522-b4d5-2fc0ff0d8008\" xlink:show=\"new\" xlink:title=\"psysml:c873f416-4fb0-4522-b4d5-2fc0ff0d8008\" xlink:type=\"simple\"><path d=\"M209.8469,130.2615 C209.6656,130.4079 209.482,130.5565 209.2962,130.7073 C208.9247,131.0089 208.5446,131.3194 208.1563,131.6385 C207.3799,132.2768 206.5713,132.9496 205.7358,133.6548 C199.0516,139.2966 190.6431,147.0119 183.1763,155.7113 C168.2425,173.11 157.075,194.445 171,211 C184.36,226.88 203.48,203.26 217,219 C230.97,235.27 232.1575,283.005 229.7613,327.29 C229.4617,332.8256 229.1062,338.3073 228.7126,343.667 C228.5159,346.3468 228.3096,348.9961 228.096,351.6063 C228.0693,351.9326 228.0425,352.2582 228.0156,352.5833 \" fill=\"none\" id=\"E2-&gt;E7\" style=\"stroke: #A80036; stroke-width: 1.0; stroke-dasharray: 7.0,7.0;\"/><polygon fill=\"#A80036\" points=\"228.0156,352.5833,232.7447,343.9441,228.4282,347.6003,224.772,343.2839,228.0156,352.5833\" style=\"stroke: #A80036; stroke-width: 1.0;\"/><text fill=\"#000000\" font-family=\"sans-serif\" font-size=\"13\" lengthAdjust=\"spacingAndGlyphs\" textLength=\"87\" x=\"172\" y=\"207.0669\">«import»*::**</text></a><!--MD5=[ca5a752d6098d8a44b3f88316e7452d1]\n",
       "link E3 to E8--><a href=\"psysml:bb41b158-76b0-47f5-886e-e2f97e00e6aa\" target=\"_top\" title=\"psysml:bb41b158-76b0-47f5-886e-e2f97e00e6aa\" xlink:actuate=\"onRequest\" xlink:href=\"psysml:bb41b158-76b0-47f5-886e-e2f97e00e6aa\" xlink:show=\"new\" xlink:title=\"psysml:bb41b158-76b0-47f5-886e-e2f97e00e6aa\" xlink:type=\"simple\"><path d=\"M335.65,146.11 C358.22,164.11 381.31,189.89 364,211 C352.51,225.02 336.72,206.08 324,219 C283.4,260.25 280.49,331.28 283.35,375.56 \" fill=\"none\" id=\"E3-&gt;E8\" style=\"stroke: #A80036; stroke-width: 1.0;\"/><polygon fill=\"#FFFFFF\" points=\"285.17,395.71,276.488,377.4173,290.4312,376.157,285.17,395.71\" style=\"stroke: #A80036; stroke-width: 1.0;\"/><ellipse cx=\"277.9668\" cy=\"371.5604\" fill=\"#A80036\" rx=\"2\" ry=\"2\" style=\"stroke: #A80036; stroke-width: 1.0;\"/><ellipse cx=\"287.9262\" cy=\"370.6602\" fill=\"#A80036\" rx=\"2\" ry=\"2\" style=\"stroke: #A80036; stroke-width: 1.0;\"/></a><!--MD5=[15ebcb19ae302d9b601edb458606d402]\n",
       "link E5 to E2--><a href=\"psysml:cb98c000-d2e0-4059-b3dc-41ff4d975042\" target=\"_top\" title=\"psysml:cb98c000-d2e0-4059-b3dc-41ff4d975042\" xlink:actuate=\"onRequest\" xlink:href=\"psysml:cb98c000-d2e0-4059-b3dc-41ff4d975042\" xlink:show=\"new\" xlink:title=\"psysml:cb98c000-d2e0-4059-b3dc-41ff4d975042\" xlink:type=\"simple\"><path d=\"M378.8691,234.9633 C378.4369,234.2811 378.0005,233.6019 377.56,232.9257 C376.679,231.5734 375.7812,230.2334 374.8664,228.9066 C373.0369,226.2531 371.1393,223.6526 369.171,221.1125 C361.298,210.952 352.295,201.7575 342,194 C323.31,179.92 255.27,200.62 237,186 C234.275,183.82 231.9314,181.2588 229.9168,178.4406 C228.9095,177.0315 227.9844,175.5581 227.1351,174.0361 C226.7104,173.2751 226.3046,172.5019 225.917,171.7185 C225.7231,171.3268 225.5338,170.9326 225.349,170.536 C225.3027,170.4368 225.2568,170.3375 225.2111,170.2381 \" fill=\"none\" id=\"E5-&gt;E2\" style=\"stroke: #A80036; stroke-width: 1.0; stroke-dasharray: 7.0,7.0;\"/><polygon fill=\"#A80036\" points=\"225.2111,170.2381,225.3326,180.0862,227.298,174.7818,232.6025,176.7472,225.2111,170.2381\" style=\"stroke: #A80036; stroke-width: 1.0;\"/><text fill=\"#000000\" font-family=\"sans-serif\" font-size=\"13\" lengthAdjust=\"spacingAndGlyphs\" textLength=\"65\" x=\"361\" y=\"207.0669\">«import»*</text></a><!--MD5=[d7bb3fb34add81b710575eb3799fa2ad]\n",
       "link E8 to E4--><a href=\"psysml:ff856c1d-ebaf-4dbc-8ba8-d8c60136e299\" target=\"_top\" title=\"psysml:ff856c1d-ebaf-4dbc-8ba8-d8c60136e299\" xlink:actuate=\"onRequest\" xlink:href=\"psysml:ff856c1d-ebaf-4dbc-8ba8-d8c60136e299\" xlink:show=\"new\" xlink:title=\"psysml:ff856c1d-ebaf-4dbc-8ba8-d8c60136e299\" xlink:type=\"simple\"><path d=\"M284.69,395.73 C279.07,355.79 272.78,263.97 324,219 C336.88,207.7 466.2,223.43 478,211 C494.2,193.93 479.12,172.42 459.77,155.05 \" fill=\"none\" id=\"E8-&gt;E4\" style=\"stroke: #A80036; stroke-width: 1.0;\"/><polygon fill=\"none\" points=\"455.36,160.48,444.24,142.45,464.18,149.61,455.36,160.48\" style=\"stroke: #A80036; stroke-width: 1.0;\"/></a><!--MD5=[8008bfb0ae7e4b359e4b57ddaba516ef]\n",
       "@startuml\r\n",
       " \r\n",
       "package \"ImportTest\" as E1  [[psysml:789e6656-6985-4918-a680-b12b42056b24 ]]  {\r\n",
       "package \"Pkg1\" as E2  [[psysml:9ed5d6a5-603c-4e6a-bfc8-60e703dcd2fe ]]  {\r\n",
       "comp usage \"p11: P211 \" as E3 << << (P,limegreen) part>> [[psysml:380b438c-f0d0-40f2-a10d-c83a46ac62de ]] {\r\n",
       "}\r\n",
       "comp def \"P12\" as E4 << << (B,green) >> [[psysml:4c18927e-9f3a-4bbe-ae04-0ff2b7ea0a78 ]] {\r\n",
       "}\r\n",
       "}\r\n",
       "package \"Pkg2\" as E5  [[psysml:63b0367b-32f1-46aa-9fe1-f934424c590d ]]  {\r\n",
       "package \"Pkg21\" as E6  [[psysml:98b17091-6ea5-4037-8451-bfddc724f9d0 ]]  {\r\n",
       "package \"Pkg211\" as E7  [[psysml:45f4d7ec-8fdd-4896-89d5-a877e9eb4cf9 ]]  {\r\n",
       "comp def \"P211\" as E8 << << (B,green) >> [[psysml:b4068f35-75bf-4c63-8263-9508faa965fc ]] {\r\n",
       "}\r\n",
       "}\r\n",
       "}\r\n",
       "}\r\n",
       "}\r\n",
       "E2 ..> E8 [[psysml:86dbe04c-b04a-4ec6-a347-5e4f000abe00 ]] : <<import>>\r\n",
       "E2 ..> E6 [[psysml:b4797686-9eb8-4e8e-a70f-411a8a1a5c6c ]] : <<import>>*\r\n",
       "E2 ..> E7 [[psysml:c873f416-4fb0-4522-b4d5-2fc0ff0d8008 ]] : <<import>>*::**\r\n",
       "E3 - -:|> E8 [[psysml:bb41b158-76b0-47f5-886e-e2f97e00e6aa ]] \r\n",
       "E5 ..> E2 [[psysml:cb98c000-d2e0-4059-b3dc-41ff4d975042 ]] : <<import>>*\r\n",
       "E8 - -|> E4 [[psysml:ff856c1d-ebaf-4dbc-8ba8-d8c60136e299 ]] \r\n",
       "@enduml\r\n",
       "\n",
       "PlantUML version 1.2020.13(Sat Jun 13 12:26:38 UTC 2020)\n",
       "(EPL source distribution)\n",
       "Java Runtime: OpenJDK Runtime Environment\n",
       "JVM: OpenJDK 64-Bit Server VM\n",
       "Default Encoding: UTF-8\n",
       "Language: en\n",
       "Country: null\n",
       "--></g></svg>"
      ]
     },
     "execution_count": 30,
     "metadata": {},
     "output_type": "execute_result"
    }
   ],
   "source": [
    "%viz --style=\"PLANTUML\" --view=\"Default\" \"ImportTest\""
   ]
  },
  {
   "cell_type": "code",
   "execution_count": 31,
   "id": "a533e00e",
   "metadata": {
    "execution": {
     "iopub.execute_input": "2022-08-19T08:17:21.036063Z",
     "iopub.status.busy": "2022-08-19T08:17:21.035588Z",
     "iopub.status.idle": "2022-08-19T08:17:21.071692Z",
     "shell.execute_reply": "2022-08-19T08:17:21.071270Z"
    }
   },
   "outputs": [
    {
     "data": {
      "image/svg+xml": [
       "<?xml version=\"1.0\" encoding=\"UTF-8\" standalone=\"no\"?><svg xmlns=\"http://www.w3.org/2000/svg\" xmlns:xlink=\"http://www.w3.org/1999/xlink\" contentScriptType=\"application/ecmascript\" contentStyleType=\"text/css\" height=\"584px\" preserveAspectRatio=\"none\" style=\"width:522px;height:584px;\" version=\"1.1\" viewBox=\"0 0 522 584\" width=\"522px\" zoomAndPan=\"magnify\"><defs><filter height=\"300%\" id=\"f1n8qgpki1fvwq\" width=\"300%\" x=\"-1\" y=\"-1\"><feGaussianBlur result=\"blurOut\" stdDeviation=\"2.0\"/><feColorMatrix in=\"blurOut\" result=\"blurOut2\" type=\"matrix\" values=\"0 0 0 0 0 0 0 0 0 0 0 0 0 0 0 0 0 0 .4 0\"/><feOffset dx=\"4.0\" dy=\"4.0\" in=\"blurOut2\" result=\"blurOut3\"/><feBlend in=\"SourceGraphic\" in2=\"blurOut3\" mode=\"normal\"/></filter></defs><g><!--MD5=[fbc87193dbaf4d95561dea2c320d4a47]\n",
       "cluster E1--><a href=\"psysml:789e6656-6985-4918-a680-b12b42056b24\" target=\"_top\" title=\"psysml:789e6656-6985-4918-a680-b12b42056b24\" xlink:actuate=\"onRequest\" xlink:href=\"psysml:789e6656-6985-4918-a680-b12b42056b24\" xlink:show=\"new\" xlink:title=\"psysml:789e6656-6985-4918-a680-b12b42056b24\" xlink:type=\"simple\"><polygon fill=\"#FFFFFF\" filter=\"url(#f1n8qgpki1fvwq)\" points=\"16,6,97,6,104,28.2969,500,28.2969,500,572,16,572,16,6\" style=\"stroke: #000000; stroke-width: 1.5;\"/><line style=\"stroke: #000000; stroke-width: 1.5;\" x1=\"16\" x2=\"104\" y1=\"28.2969\" y2=\"28.2969\"/><text fill=\"#000000\" font-family=\"sans-serif\" font-size=\"14\" font-weight=\"bold\" lengthAdjust=\"spacingAndGlyphs\" textLength=\"75\" x=\"20\" y=\"20.9951\">ImportTest</text></a><!--MD5=[e4f7fae6ed58524ba242bb0b0d3be6b7]\n",
       "cluster E2--><a href=\"psysml:9ed5d6a5-603c-4e6a-bfc8-60e703dcd2fe\" target=\"_top\" title=\"psysml:9ed5d6a5-603c-4e6a-bfc8-60e703dcd2fe\" xlink:actuate=\"onRequest\" xlink:href=\"psysml:9ed5d6a5-603c-4e6a-bfc8-60e703dcd2fe\" xlink:show=\"new\" xlink:title=\"psysml:9ed5d6a5-603c-4e6a-bfc8-60e703dcd2fe\" xlink:type=\"simple\"><polygon fill=\"#FFFFFF\" filter=\"url(#f1n8qgpki1fvwq)\" points=\"210,57,251,57,258,79.2969,468,79.2969,468,170,210,170,210,57\" style=\"stroke: #000000; stroke-width: 1.5;\"/><line style=\"stroke: #000000; stroke-width: 1.5;\" x1=\"210\" x2=\"258\" y1=\"79.2969\" y2=\"79.2969\"/><text fill=\"#000000\" font-family=\"sans-serif\" font-size=\"14\" font-weight=\"bold\" lengthAdjust=\"spacingAndGlyphs\" textLength=\"35\" x=\"214\" y=\"71.9951\">Pkg1</text></a><!--MD5=[de5ec2e2e8f62f467e546659f5068c88]\n",
       "cluster E5--><a href=\"psysml:63b0367b-32f1-46aa-9fe1-f934424c590d\" target=\"_top\" title=\"psysml:63b0367b-32f1-46aa-9fe1-f934424c590d\" xlink:actuate=\"onRequest\" xlink:href=\"psysml:63b0367b-32f1-46aa-9fe1-f934424c590d\" xlink:show=\"new\" xlink:title=\"psysml:63b0367b-32f1-46aa-9fe1-f934424c590d\" xlink:type=\"simple\"><polygon fill=\"#FFFFFF\" filter=\"url(#f1n8qgpki1fvwq)\" points=\"125,235,166,235,173,257.2969,432,257.2969,432,540,125,540,125,235\" style=\"stroke: #000000; stroke-width: 1.5;\"/><line style=\"stroke: #000000; stroke-width: 1.5;\" x1=\"125\" x2=\"173\" y1=\"257.2969\" y2=\"257.2969\"/><text fill=\"#000000\" font-family=\"sans-serif\" font-size=\"14\" font-weight=\"bold\" lengthAdjust=\"spacingAndGlyphs\" textLength=\"35\" x=\"129\" y=\"249.9951\">Pkg2</text></a><!--MD5=[14e3b0961a2654348d326746436168a1]\n",
       "cluster E6--><a href=\"psysml:98b17091-6ea5-4037-8451-bfddc724f9d0\" target=\"_top\" title=\"psysml:98b17091-6ea5-4037-8451-bfddc724f9d0\" xlink:actuate=\"onRequest\" xlink:href=\"psysml:98b17091-6ea5-4037-8451-bfddc724f9d0\" xlink:show=\"new\" xlink:title=\"psysml:98b17091-6ea5-4037-8451-bfddc724f9d0\" xlink:type=\"simple\"><polygon fill=\"#FFFFFF\" filter=\"url(#f1n8qgpki1fvwq)\" points=\"165,294,215,294,222,316.2969,384,316.2969,384,500,165,500,165,294\" style=\"stroke: #000000; stroke-width: 1.5;\"/><line style=\"stroke: #000000; stroke-width: 1.5;\" x1=\"165\" x2=\"222\" y1=\"316.2969\" y2=\"316.2969\"/><text fill=\"#000000\" font-family=\"sans-serif\" font-size=\"14\" font-weight=\"bold\" lengthAdjust=\"spacingAndGlyphs\" textLength=\"44\" x=\"169\" y=\"308.9951\">Pkg21</text></a><!--MD5=[168fadf3d0c3fd93dd5d6da1b1d7ab76]\n",
       "cluster E7--><a href=\"psysml:45f4d7ec-8fdd-4896-89d5-a877e9eb4cf9\" target=\"_top\" title=\"psysml:45f4d7ec-8fdd-4896-89d5-a877e9eb4cf9\" xlink:actuate=\"onRequest\" xlink:href=\"psysml:45f4d7ec-8fdd-4896-89d5-a877e9eb4cf9\" xlink:show=\"new\" xlink:title=\"psysml:45f4d7ec-8fdd-4896-89d5-a877e9eb4cf9\" xlink:type=\"simple\"><polygon fill=\"#FFFFFF\" filter=\"url(#f1n8qgpki1fvwq)\" points=\"213,353,272,353,279,375.2969,344,375.2969,344,460,213,460,213,353\" style=\"stroke: #000000; stroke-width: 1.5;\"/><line style=\"stroke: #000000; stroke-width: 1.5;\" x1=\"213\" x2=\"279\" y1=\"375.2969\" y2=\"375.2969\"/><text fill=\"#000000\" font-family=\"sans-serif\" font-size=\"14\" font-weight=\"bold\" lengthAdjust=\"spacingAndGlyphs\" textLength=\"53\" x=\"217\" y=\"367.9951\">Pkg211</text></a><!--MD5=[09b614a08d8cba4a07c9adeb5e0fee81]\n",
       "class E3--><a href=\"psysml:380b438c-f0d0-40f2-a10d-c83a46ac62de\" target=\"_top\" title=\"psysml:380b438c-f0d0-40f2-a10d-c83a46ac62de\" xlink:actuate=\"onRequest\" xlink:href=\"psysml:380b438c-f0d0-40f2-a10d-c83a46ac62de\" xlink:show=\"new\" xlink:title=\"psysml:380b438c-f0d0-40f2-a10d-c83a46ac62de\" xlink:type=\"simple\"><rect fill=\"#FEFECE\" filter=\"url(#f1n8qgpki1fvwq)\" height=\"45.9375\" id=\"E3\" rx=\"10\" ry=\"10\" style=\"stroke: #A80036; stroke-width: 1.5;\" width=\"100\" x=\"253\" y=\"100\"/><ellipse cx=\"268\" cy=\"118.9688\" fill=\"#32CD32\" rx=\"11\" ry=\"11\" style=\"stroke: #A80036; stroke-width: 1.0;\"/><path d=\"M264.8125,123.9688 L264.8125,113.375 L268.4219,113.375 Q269.6406,113.375 270.4375,113.8125 Q271.2344,114.2344 271.6094,114.9375 Q272,115.6406 272,116.4844 Q272,117.3281 271.625,118.0156 Q271.2656,118.7031 270.4688,119.125 Q269.6875,119.5313 268.5,119.5313 L266.7656,119.5313 L266.7656,123.9688 L264.8125,123.9688 Z M266.7656,117.9375 L268.375,117.9375 Q269.1875,117.9375 269.6094,117.5313 Q270.0313,117.125 270.0313,116.4844 Q270.0313,115.8594 269.6094,115.4531 Q269.1875,115.0469 268.3906,115.0469 L266.7656,115.0469 L266.7656,117.9375 Z \"/><text fill=\"#000000\" font-family=\"sans-serif\" font-size=\"12\" font-style=\"italic\" lengthAdjust=\"spacingAndGlyphs\" textLength=\"40\" x=\"296\" y=\"116.1387\">«part»</text><text fill=\"#000000\" font-family=\"sans-serif\" font-size=\"12\" lengthAdjust=\"spacingAndGlyphs\" textLength=\"64\" x=\"282\" y=\"130.1074\">p11: P211</text><line style=\"stroke: #A80036; stroke-width: 1.5;\" x1=\"254\" x2=\"352\" y1=\"137.9375\" y2=\"137.9375\"/></a><!--MD5=[ebbe1d658d1005bcc118a6aa81145e00]\n",
       "class E4--><a href=\"psysml:4c18927e-9f3a-4bbe-ae04-0ff2b7ea0a78\" target=\"_top\" title=\"psysml:4c18927e-9f3a-4bbe-ae04-0ff2b7ea0a78\" xlink:actuate=\"onRequest\" xlink:href=\"psysml:4c18927e-9f3a-4bbe-ae04-0ff2b7ea0a78\" xlink:show=\"new\" xlink:title=\"psysml:4c18927e-9f3a-4bbe-ae04-0ff2b7ea0a78\" xlink:type=\"simple\"><rect fill=\"#FEFECE\" filter=\"url(#f1n8qgpki1fvwq)\" height=\"40\" id=\"E4\" style=\"stroke: #A80036; stroke-width: 1.5;\" width=\"56\" x=\"388\" y=\"103\"/><ellipse cx=\"403\" cy=\"119\" fill=\"#008000\" rx=\"11\" ry=\"11\" style=\"stroke: #A80036; stroke-width: 1.0;\"/><path d=\"M399.875,124 L399.875,113.4063 L403.1094,113.4063 Q405.0156,113.4063 405.9219,114.1563 Q406.8438,114.9063 406.8438,116.0781 Q406.8438,116.7656 406.4531,117.4219 Q406.0781,118.0781 405.3594,118.375 Q406.2188,118.75 406.7344,119.4375 Q407.25,120.125 407.25,120.9375 Q407.25,122.3125 406.2188,123.1563 Q405.2031,124 403.0938,124 L399.875,124 Z M401.7969,117.6406 L402.9531,117.6406 Q404.0781,117.6406 404.4844,117.2656 Q404.9063,116.875 404.9063,116.25 Q404.9063,115.6719 404.4844,115.3125 Q404.0625,114.9531 403.125,114.9531 L401.7969,114.9531 L401.7969,117.6406 Z M401.7969,122.4219 L403.2969,122.4219 Q404.2031,122.4219 404.7344,122.0313 Q405.2656,121.6406 405.2656,120.8906 Q405.2656,120.125 404.7656,119.6563 Q404.2656,119.1719 403,119.1719 L401.7969,119.1719 L401.7969,122.4219 Z \"/><text fill=\"#000000\" font-family=\"sans-serif\" font-size=\"12\" lengthAdjust=\"spacingAndGlyphs\" textLength=\"24\" x=\"417\" y=\"123.1543\">P12</text><line style=\"stroke: #A80036; stroke-width: 1.5;\" x1=\"389\" x2=\"443\" y1=\"135\" y2=\"135\"/></a><!--MD5=[b9389687b975829384b498ac4b7476b2]\n",
       "class E8--><a href=\"psysml:b4068f35-75bf-4c63-8263-9508faa965fc\" target=\"_top\" title=\"psysml:b4068f35-75bf-4c63-8263-9508faa965fc\" xlink:actuate=\"onRequest\" xlink:href=\"psysml:b4068f35-75bf-4c63-8263-9508faa965fc\" xlink:show=\"new\" xlink:title=\"psysml:b4068f35-75bf-4c63-8263-9508faa965fc\" xlink:type=\"simple\"><rect fill=\"#FEFECE\" filter=\"url(#f1n8qgpki1fvwq)\" height=\"40\" id=\"E8\" style=\"stroke: #A80036; stroke-width: 1.5;\" width=\"64\" x=\"256\" y=\"396\"/><ellipse cx=\"271\" cy=\"412\" fill=\"#008000\" rx=\"11\" ry=\"11\" style=\"stroke: #A80036; stroke-width: 1.0;\"/><path d=\"M267.875,417 L267.875,406.4063 L271.1094,406.4063 Q273.0156,406.4063 273.9219,407.1563 Q274.8438,407.9063 274.8438,409.0781 Q274.8438,409.7656 274.4531,410.4219 Q274.0781,411.0781 273.3594,411.375 Q274.2188,411.75 274.7344,412.4375 Q275.25,413.125 275.25,413.9375 Q275.25,415.3125 274.2188,416.1563 Q273.2031,417 271.0938,417 L267.875,417 Z M269.7969,410.6406 L270.9531,410.6406 Q272.0781,410.6406 272.4844,410.2656 Q272.9063,409.875 272.9063,409.25 Q272.9063,408.6719 272.4844,408.3125 Q272.0625,407.9531 271.125,407.9531 L269.7969,407.9531 L269.7969,410.6406 Z M269.7969,415.4219 L271.2969,415.4219 Q272.2031,415.4219 272.7344,415.0313 Q273.2656,414.6406 273.2656,413.8906 Q273.2656,413.125 272.7656,412.6563 Q272.2656,412.1719 271,412.1719 L269.7969,412.1719 L269.7969,415.4219 Z \"/><text fill=\"#000000\" font-family=\"sans-serif\" font-size=\"12\" lengthAdjust=\"spacingAndGlyphs\" textLength=\"32\" x=\"285\" y=\"416.1543\">P211</text><line style=\"stroke: #A80036; stroke-width: 1.5;\" x1=\"257\" x2=\"319\" y1=\"428\" y2=\"428\"/></a><!--MD5=[b0060bfdb0500b904584095522b4da3c]\n",
       "link E2 to E8--><a href=\"psysml:86dbe04c-b04a-4ec6-a347-5e4f000abe00\" target=\"_top\" title=\"psysml:86dbe04c-b04a-4ec6-a347-5e4f000abe00\" xlink:actuate=\"onRequest\" xlink:href=\"psysml:86dbe04c-b04a-4ec6-a347-5e4f000abe00\" xlink:show=\"new\" xlink:title=\"psysml:86dbe04c-b04a-4ec6-a347-5e4f000abe00\" xlink:type=\"simple\"><path d=\"M226.445,170.2149 C226.5356,170.4166 226.6271,170.6178 226.7196,170.8186 C227.0896,171.6218 227.4752,172.4176 227.877,173.2043 C228.6805,174.7776 229.5489,176.3144 230.4873,177.8007 C232.3642,180.7733 234.5213,183.5438 237,186 C245.89,194.81 255.98,184.39 264,194 C311.29,250.66 301.32,345.99 293.25,390.6 \" fill=\"none\" id=\"E2-&gt;E8\" style=\"stroke: #A80036; stroke-width: 1.0; stroke-dasharray: 7.0,7.0;\"/><polygon fill=\"#A80036\" points=\"292.28,395.78,297.8815,387.6792,293.2083,390.8669,290.0206,386.1938,292.28,395.78\" style=\"stroke: #A80036; stroke-width: 1.0;\"/><text fill=\"#000000\" font-family=\"sans-serif\" font-size=\"13\" lengthAdjust=\"spacingAndGlyphs\" textLength=\"58\" x=\"275\" y=\"207.0669\">«import»</text></a><!--MD5=[e3e28c1befcf002155aa15e1416b4315]\n",
       "link E2 to E6--><a href=\"psysml:b4797686-9eb8-4e8e-a70f-411a8a1a5c6c\" target=\"_top\" title=\"psysml:b4797686-9eb8-4e8e-a70f-411a8a1a5c6c\" xlink:actuate=\"onRequest\" xlink:href=\"psysml:b4797686-9eb8-4e8e-a70f-411a8a1a5c6c\" xlink:show=\"new\" xlink:title=\"psysml:b4797686-9eb8-4e8e-a70f-411a8a1a5c6c\" xlink:type=\"simple\"><path d=\"M209.877,125.4701 C209.6546,125.5149 209.4281,125.5608 209.1978,125.6079 C208.737,125.702 208.2606,125.8006 207.769,125.9039 C205.8025,126.3169 203.5938,126.8041 201.1794,127.3719 C191.5219,129.6431 178.575,133.205 164.6925,138.4775 C136.9275,149.0225 105.42,166.41 89,194 C62.55,238.445 82.485,292.6775 109.5525,336.295 C123.0863,358.1038 138.4031,377.2587 150.5966,391.2097 C153.6449,394.6974 156.4981,397.8599 159.0793,400.6573 C160.37,402.056 161.5926,403.3634 162.7377,404.5745 C163.3103,405.1801 163.8635,405.7616 164.396,406.3185 C164.5292,406.4577 164.661,406.5953 164.7916,406.7314 \" fill=\"none\" id=\"E2-&gt;E6\" style=\"stroke: #A80036; stroke-width: 1.0; stroke-dasharray: 7.0,7.0;\"/><polygon fill=\"#A80036\" points=\"164.7916,406.7314,161.4484,397.4674,161.3305,403.123,155.6749,403.0051,164.7916,406.7314\" style=\"stroke: #A80036; stroke-width: 1.0;\"/><text fill=\"#000000\" font-family=\"sans-serif\" font-size=\"13\" lengthAdjust=\"spacingAndGlyphs\" textLength=\"65\" x=\"90\" y=\"207.0669\">«import»*</text></a><!--MD5=[e3d2a08a9c9236652057e8ed0cbc9b62]\n",
       "link E2 to E7--><a href=\"psysml:c873f416-4fb0-4522-b4d5-2fc0ff0d8008\" target=\"_top\" title=\"psysml:c873f416-4fb0-4522-b4d5-2fc0ff0d8008\" xlink:actuate=\"onRequest\" xlink:href=\"psysml:c873f416-4fb0-4522-b4d5-2fc0ff0d8008\" xlink:show=\"new\" xlink:title=\"psysml:c873f416-4fb0-4522-b4d5-2fc0ff0d8008\" xlink:type=\"simple\"><path d=\"M209.8469,130.2615 C209.6656,130.4079 209.482,130.5565 209.2962,130.7073 C208.9247,131.0089 208.5446,131.3194 208.1563,131.6385 C207.3799,132.2768 206.5713,132.9496 205.7358,133.6548 C199.0516,139.2966 190.6431,147.0119 183.1763,155.7113 C168.2425,173.11 157.075,194.445 171,211 C184.36,226.88 203.48,203.26 217,219 C230.97,235.27 232.1575,283.005 229.7613,327.29 C229.4617,332.8256 229.1062,338.3073 228.7126,343.667 C228.5159,346.3468 228.3096,348.9961 228.096,351.6063 C228.0693,351.9326 228.0425,352.2582 228.0156,352.5833 \" fill=\"none\" id=\"E2-&gt;E7\" style=\"stroke: #A80036; stroke-width: 1.0; stroke-dasharray: 7.0,7.0;\"/><polygon fill=\"#A80036\" points=\"228.0156,352.5833,232.7447,343.9441,228.4282,347.6003,224.772,343.2839,228.0156,352.5833\" style=\"stroke: #A80036; stroke-width: 1.0;\"/><text fill=\"#000000\" font-family=\"sans-serif\" font-size=\"13\" lengthAdjust=\"spacingAndGlyphs\" textLength=\"87\" x=\"172\" y=\"207.0669\">«import»*::**</text></a><!--MD5=[ca5a752d6098d8a44b3f88316e7452d1]\n",
       "link E3 to E8--><a href=\"psysml:bb41b158-76b0-47f5-886e-e2f97e00e6aa\" target=\"_top\" title=\"psysml:bb41b158-76b0-47f5-886e-e2f97e00e6aa\" xlink:actuate=\"onRequest\" xlink:href=\"psysml:bb41b158-76b0-47f5-886e-e2f97e00e6aa\" xlink:show=\"new\" xlink:title=\"psysml:bb41b158-76b0-47f5-886e-e2f97e00e6aa\" xlink:type=\"simple\"><path d=\"M335.65,146.11 C358.22,164.11 381.31,189.89 364,211 C352.51,225.02 336.72,206.08 324,219 C283.4,260.25 280.49,331.28 283.35,375.56 \" fill=\"none\" id=\"E3-&gt;E8\" style=\"stroke: #A80036; stroke-width: 1.0;\"/><polygon fill=\"#FFFFFF\" points=\"285.17,395.71,276.488,377.4173,290.4312,376.157,285.17,395.71\" style=\"stroke: #A80036; stroke-width: 1.0;\"/><ellipse cx=\"277.9668\" cy=\"371.5604\" fill=\"#A80036\" rx=\"2\" ry=\"2\" style=\"stroke: #A80036; stroke-width: 1.0;\"/><ellipse cx=\"287.9262\" cy=\"370.6602\" fill=\"#A80036\" rx=\"2\" ry=\"2\" style=\"stroke: #A80036; stroke-width: 1.0;\"/></a><!--MD5=[15ebcb19ae302d9b601edb458606d402]\n",
       "link E5 to E2--><a href=\"psysml:cb98c000-d2e0-4059-b3dc-41ff4d975042\" target=\"_top\" title=\"psysml:cb98c000-d2e0-4059-b3dc-41ff4d975042\" xlink:actuate=\"onRequest\" xlink:href=\"psysml:cb98c000-d2e0-4059-b3dc-41ff4d975042\" xlink:show=\"new\" xlink:title=\"psysml:cb98c000-d2e0-4059-b3dc-41ff4d975042\" xlink:type=\"simple\"><path d=\"M378.8691,234.9633 C378.4369,234.2811 378.0005,233.6019 377.56,232.9257 C376.679,231.5734 375.7812,230.2334 374.8664,228.9066 C373.0369,226.2531 371.1393,223.6526 369.171,221.1125 C361.298,210.952 352.295,201.7575 342,194 C323.31,179.92 255.27,200.62 237,186 C234.275,183.82 231.9314,181.2588 229.9168,178.4406 C228.9095,177.0315 227.9844,175.5581 227.1351,174.0361 C226.7104,173.2751 226.3046,172.5019 225.917,171.7185 C225.7231,171.3268 225.5338,170.9326 225.349,170.536 C225.3027,170.4368 225.2568,170.3375 225.2111,170.2381 \" fill=\"none\" id=\"E5-&gt;E2\" style=\"stroke: #A80036; stroke-width: 1.0; stroke-dasharray: 7.0,7.0;\"/><polygon fill=\"#A80036\" points=\"225.2111,170.2381,225.3326,180.0862,227.298,174.7818,232.6025,176.7472,225.2111,170.2381\" style=\"stroke: #A80036; stroke-width: 1.0;\"/><text fill=\"#000000\" font-family=\"sans-serif\" font-size=\"13\" lengthAdjust=\"spacingAndGlyphs\" textLength=\"65\" x=\"361\" y=\"207.0669\">«import»*</text></a><!--MD5=[d7bb3fb34add81b710575eb3799fa2ad]\n",
       "link E8 to E4--><a href=\"psysml:ff856c1d-ebaf-4dbc-8ba8-d8c60136e299\" target=\"_top\" title=\"psysml:ff856c1d-ebaf-4dbc-8ba8-d8c60136e299\" xlink:actuate=\"onRequest\" xlink:href=\"psysml:ff856c1d-ebaf-4dbc-8ba8-d8c60136e299\" xlink:show=\"new\" xlink:title=\"psysml:ff856c1d-ebaf-4dbc-8ba8-d8c60136e299\" xlink:type=\"simple\"><path d=\"M284.69,395.73 C279.07,355.79 272.78,263.97 324,219 C336.88,207.7 466.2,223.43 478,211 C494.2,193.93 479.12,172.42 459.77,155.05 \" fill=\"none\" id=\"E8-&gt;E4\" style=\"stroke: #A80036; stroke-width: 1.0;\"/><polygon fill=\"none\" points=\"455.36,160.48,444.24,142.45,464.18,149.61,455.36,160.48\" style=\"stroke: #A80036; stroke-width: 1.0;\"/></a><!--MD5=[8008bfb0ae7e4b359e4b57ddaba516ef]\n",
       "@startuml\r\n",
       " \r\n",
       "package \"ImportTest\" as E1  [[psysml:789e6656-6985-4918-a680-b12b42056b24 ]]  {\r\n",
       "package \"Pkg1\" as E2  [[psysml:9ed5d6a5-603c-4e6a-bfc8-60e703dcd2fe ]]  {\r\n",
       "comp usage \"p11: P211 \" as E3 << << (P,limegreen) part>> [[psysml:380b438c-f0d0-40f2-a10d-c83a46ac62de ]] {\r\n",
       "}\r\n",
       "comp def \"P12\" as E4 << << (B,green) >> [[psysml:4c18927e-9f3a-4bbe-ae04-0ff2b7ea0a78 ]] {\r\n",
       "}\r\n",
       "}\r\n",
       "package \"Pkg2\" as E5  [[psysml:63b0367b-32f1-46aa-9fe1-f934424c590d ]]  {\r\n",
       "package \"Pkg21\" as E6  [[psysml:98b17091-6ea5-4037-8451-bfddc724f9d0 ]]  {\r\n",
       "package \"Pkg211\" as E7  [[psysml:45f4d7ec-8fdd-4896-89d5-a877e9eb4cf9 ]]  {\r\n",
       "comp def \"P211\" as E8 << << (B,green) >> [[psysml:b4068f35-75bf-4c63-8263-9508faa965fc ]] {\r\n",
       "}\r\n",
       "}\r\n",
       "}\r\n",
       "}\r\n",
       "}\r\n",
       "E2 ..> E8 [[psysml:86dbe04c-b04a-4ec6-a347-5e4f000abe00 ]] : <<import>>\r\n",
       "E2 ..> E6 [[psysml:b4797686-9eb8-4e8e-a70f-411a8a1a5c6c ]] : <<import>>*\r\n",
       "E2 ..> E7 [[psysml:c873f416-4fb0-4522-b4d5-2fc0ff0d8008 ]] : <<import>>*::**\r\n",
       "E3 - -:|> E8 [[psysml:bb41b158-76b0-47f5-886e-e2f97e00e6aa ]] \r\n",
       "E5 ..> E2 [[psysml:cb98c000-d2e0-4059-b3dc-41ff4d975042 ]] : <<import>>*\r\n",
       "E8 - -|> E4 [[psysml:ff856c1d-ebaf-4dbc-8ba8-d8c60136e299 ]] \r\n",
       "@enduml\r\n",
       "\n",
       "PlantUML version 1.2020.13(Sat Jun 13 12:26:38 UTC 2020)\n",
       "(EPL source distribution)\n",
       "Java Runtime: OpenJDK Runtime Environment\n",
       "JVM: OpenJDK 64-Bit Server VM\n",
       "Default Encoding: UTF-8\n",
       "Language: en\n",
       "Country: null\n",
       "--></g></svg>"
      ]
     },
     "execution_count": 31,
     "metadata": {},
     "output_type": "execute_result"
    }
   ],
   "source": [
    "%viz --style=\"PLANTUML\" --view=\"Tree\" \"ImportTest\""
   ]
  },
  {
   "cell_type": "code",
   "execution_count": 32,
   "id": "71b11c2a",
   "metadata": {
    "execution": {
     "iopub.execute_input": "2022-08-19T08:17:21.121421Z",
     "iopub.status.busy": "2022-08-19T08:17:21.120961Z",
     "iopub.status.idle": "2022-08-19T08:17:21.214260Z",
     "shell.execute_reply": "2022-08-19T08:17:21.213855Z"
    }
   },
   "outputs": [
    {
     "data": {
      "image/svg+xml": [
       "<?xml version=\"1.0\" encoding=\"UTF-8\" standalone=\"no\"?><svg xmlns=\"http://www.w3.org/2000/svg\" xmlns:xlink=\"http://www.w3.org/1999/xlink\" contentScriptType=\"application/ecmascript\" contentStyleType=\"text/css\" height=\"300px\" preserveAspectRatio=\"none\" style=\"width:603px;height:300px;background:#000000;\" version=\"1.1\" viewBox=\"0 0 603 300\" width=\"603px\" zoomAndPan=\"magnify\"><defs/><g><rect fill=\"#092303\" height=\"1\" style=\"stroke: #092303; stroke-width: 1.0;\" width=\"1\" x=\"0\" y=\"0\"/><rect fill=\"#FFFFFF\" height=\"202.8012\" style=\"stroke: #FFFFFF; stroke-width: 1.0;\" width=\"602\" x=\"0\" y=\"0\"/><text fill=\"#000000\" font-family=\"sans-serif\" font-size=\"12\" font-weight=\"bold\" lengthAdjust=\"spacingAndGlyphs\" textLength=\"139\" x=\"5\" y=\"16.1387\">Welcome to PlantUML!</text><text fill=\"#000000\" font-family=\"sans-serif\" font-size=\"12\" lengthAdjust=\"spacingAndGlyphs\" textLength=\"0\" x=\"9\" y=\"30.1074\"/><text fill=\"#000000\" font-family=\"sans-serif\" font-size=\"12\" lengthAdjust=\"spacingAndGlyphs\" textLength=\"293\" x=\"5\" y=\"44.0762\">If you use this software, you accept its license.</text><text fill=\"#000000\" font-family=\"sans-serif\" font-size=\"12\" lengthAdjust=\"spacingAndGlyphs\" textLength=\"107\" x=\"5\" y=\"58.0449\">(details by typing</text><text fill=\"#000000\" font-family=\"monospace\" font-size=\"12\" lengthAdjust=\"spacingAndGlyphs\" textLength=\"42\" x=\"116\" y=\"58.595\">license</text><text fill=\"#000000\" font-family=\"sans-serif\" font-size=\"12\" lengthAdjust=\"spacingAndGlyphs\" textLength=\"56\" x=\"162\" y=\"58.0449\">keyword)</text><text fill=\"#000000\" font-family=\"sans-serif\" font-size=\"12\" lengthAdjust=\"spacingAndGlyphs\" textLength=\"0\" x=\"9\" y=\"72.0137\"/><text fill=\"#000000\" font-family=\"sans-serif\" font-size=\"12\" lengthAdjust=\"spacingAndGlyphs\" textLength=\"283\" x=\"5\" y=\"85.9824\">You can start with a simple UML Diagram like:</text><text fill=\"#000000\" font-family=\"sans-serif\" font-size=\"12\" lengthAdjust=\"spacingAndGlyphs\" textLength=\"0\" x=\"9\" y=\"99.9512\"/><text fill=\"#000000\" font-family=\"monospace\" font-size=\"12\" lengthAdjust=\"spacingAndGlyphs\" textLength=\"102\" x=\"5\" y=\"113.0893\">Bob-&gt;Alice: Hello</text><text fill=\"#000000\" font-family=\"sans-serif\" font-size=\"12\" lengthAdjust=\"spacingAndGlyphs\" textLength=\"0\" x=\"9\" y=\"126.508\"/><text fill=\"#000000\" font-family=\"sans-serif\" font-size=\"12\" lengthAdjust=\"spacingAndGlyphs\" textLength=\"14\" x=\"5\" y=\"140.4768\">Or</text><text fill=\"#000000\" font-family=\"sans-serif\" font-size=\"12\" lengthAdjust=\"spacingAndGlyphs\" textLength=\"0\" x=\"9\" y=\"154.4455\"/><text fill=\"#000000\" font-family=\"monospace\" font-size=\"12\" lengthAdjust=\"spacingAndGlyphs\" textLength=\"78\" x=\"5\" y=\"167.5837\">class Example</text><text fill=\"#000000\" font-family=\"sans-serif\" font-size=\"12\" lengthAdjust=\"spacingAndGlyphs\" textLength=\"0\" x=\"9\" y=\"181.0023\"/><text fill=\"#000000\" font-family=\"sans-serif\" font-size=\"12\" lengthAdjust=\"spacingAndGlyphs\" textLength=\"349\" x=\"5\" y=\"194.9711\">You will find more information about PlantUML syntax on</text><text fill=\"#000000\" font-family=\"sans-serif\" font-size=\"12\" lengthAdjust=\"spacingAndGlyphs\" text-decoration=\"underline\" textLength=\"129\" x=\"358\" y=\"194.9711\">https://plantuml.com</text><image height=\"71\" width=\"80\" x=\"516\" xlink:href=\"data:image/png;base64,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\" y=\"6\"/><rect fill=\"#000000\" height=\"96.4844\" style=\"stroke: #000000; stroke-width: 1.0;\" width=\"602\" x=\"0\" y=\"202.8012\"/><rect fill=\"#33FF02\" height=\"21.2969\" style=\"stroke: #33FF02; stroke-width: 1.0;\" width=\"145\" x=\"5\" y=\"207.8012\"/><text fill=\"#000000\" font-family=\"sans-serif\" font-size=\"14\" font-weight=\"bold\" lengthAdjust=\"spacingAndGlyphs\" textLength=\"143\" x=\"6\" y=\"222.8012\">[From string (line 2) ]</text><text fill=\"#33FF02\" font-family=\"sans-serif\" font-size=\"14\" font-weight=\"bold\" lengthAdjust=\"spacingAndGlyphs\" textLength=\"0\" x=\"9\" y=\"243.0981\"/><text fill=\"#33FF02\" font-family=\"sans-serif\" font-size=\"14\" font-weight=\"bold\" lengthAdjust=\"spacingAndGlyphs\" textLength=\"70\" x=\"5\" y=\"259.3949\">@startuml</text><text fill=\"#33FF02\" font-family=\"sans-serif\" font-size=\"14\" font-weight=\"bold\" lengthAdjust=\"spacingAndGlyphs\" textLength=\"0\" x=\"9\" y=\"275.6918\"/><text fill=\"#FF0000\" font-family=\"sans-serif\" font-size=\"14\" font-weight=\"bold\" lengthAdjust=\"spacingAndGlyphs\" textLength=\"124\" x=\"9\" y=\"291.9887\">Empty description</text><!--MD5=[f59edd8218d337f74d0c332fc6737304]\n",
       "@startuml\r\n",
       " \r\n",
       "@enduml\r\n",
       "\n",
       "PlantUML version 1.2020.13(Sat Jun 13 12:26:38 UTC 2020)\n",
       "(EPL source distribution)\n",
       "Java Runtime: OpenJDK Runtime Environment\n",
       "JVM: OpenJDK 64-Bit Server VM\n",
       "Default Encoding: UTF-8\n",
       "Language: en\n",
       "Country: null\n",
       "--></g></svg>"
      ]
     },
     "execution_count": 32,
     "metadata": {},
     "output_type": "execute_result"
    }
   ],
   "source": [
    "%viz --style=\"PLANTUML\" --view=\"State\" \"ImportTest\""
   ]
  },
  {
   "cell_type": "code",
   "execution_count": 33,
   "id": "2c2adb94",
   "metadata": {
    "execution": {
     "iopub.execute_input": "2022-08-19T08:17:21.264217Z",
     "iopub.status.busy": "2022-08-19T08:17:21.263602Z",
     "iopub.status.idle": "2022-08-19T08:17:21.294492Z",
     "shell.execute_reply": "2022-08-19T08:17:21.294052Z"
    }
   },
   "outputs": [
    {
     "data": {
      "image/svg+xml": [
       "<?xml version=\"1.0\" encoding=\"UTF-8\" standalone=\"no\"?><svg xmlns=\"http://www.w3.org/2000/svg\" xmlns:xlink=\"http://www.w3.org/1999/xlink\" contentScriptType=\"application/ecmascript\" contentStyleType=\"text/css\" height=\"578px\" preserveAspectRatio=\"none\" style=\"width:522px;height:578px;\" version=\"1.1\" viewBox=\"0 0 522 578\" width=\"522px\" zoomAndPan=\"magnify\"><defs><filter height=\"300%\" id=\"f18yfv0obvcd1s\" width=\"300%\" x=\"-1\" y=\"-1\"><feGaussianBlur result=\"blurOut\" stdDeviation=\"2.0\"/><feColorMatrix in=\"blurOut\" result=\"blurOut2\" type=\"matrix\" values=\"0 0 0 0 0 0 0 0 0 0 0 0 0 0 0 0 0 0 .4 0\"/><feOffset dx=\"4.0\" dy=\"4.0\" in=\"blurOut2\" result=\"blurOut3\"/><feBlend in=\"SourceGraphic\" in2=\"blurOut3\" mode=\"normal\"/></filter></defs><g><!--MD5=[fbc87193dbaf4d95561dea2c320d4a47]\n",
       "cluster E1--><a href=\"psysml:789e6656-6985-4918-a680-b12b42056b24\" target=\"_top\" title=\"psysml:789e6656-6985-4918-a680-b12b42056b24\" xlink:actuate=\"onRequest\" xlink:href=\"psysml:789e6656-6985-4918-a680-b12b42056b24\" xlink:show=\"new\" xlink:title=\"psysml:789e6656-6985-4918-a680-b12b42056b24\" xlink:type=\"simple\"><polygon fill=\"#FFFFFF\" filter=\"url(#f18yfv0obvcd1s)\" points=\"16,6,97,6,104,28.2969,500,28.2969,500,566,16,566,16,6\" style=\"stroke: #000000; stroke-width: 1.5;\"/><line style=\"stroke: #000000; stroke-width: 1.5;\" x1=\"16\" x2=\"104\" y1=\"28.2969\" y2=\"28.2969\"/><text fill=\"#000000\" font-family=\"sans-serif\" font-size=\"14\" font-weight=\"bold\" lengthAdjust=\"spacingAndGlyphs\" textLength=\"75\" x=\"20\" y=\"20.9951\">ImportTest</text></a><!--MD5=[e4f7fae6ed58524ba242bb0b0d3be6b7]\n",
       "cluster E2--><a href=\"psysml:9ed5d6a5-603c-4e6a-bfc8-60e703dcd2fe\" target=\"_top\" title=\"psysml:9ed5d6a5-603c-4e6a-bfc8-60e703dcd2fe\" xlink:actuate=\"onRequest\" xlink:href=\"psysml:9ed5d6a5-603c-4e6a-bfc8-60e703dcd2fe\" xlink:show=\"new\" xlink:title=\"psysml:9ed5d6a5-603c-4e6a-bfc8-60e703dcd2fe\" xlink:type=\"simple\"><polygon fill=\"#FFFFFF\" filter=\"url(#f18yfv0obvcd1s)\" points=\"203,57,244,57,251,79.2969,468,79.2969,468,164,203,164,203,57\" style=\"stroke: #000000; stroke-width: 1.5;\"/><line style=\"stroke: #000000; stroke-width: 1.5;\" x1=\"203\" x2=\"251\" y1=\"79.2969\" y2=\"79.2969\"/><text fill=\"#000000\" font-family=\"sans-serif\" font-size=\"14\" font-weight=\"bold\" lengthAdjust=\"spacingAndGlyphs\" textLength=\"35\" x=\"207\" y=\"71.9951\">Pkg1</text></a><!--MD5=[de5ec2e2e8f62f467e546659f5068c88]\n",
       "cluster E5--><a href=\"psysml:63b0367b-32f1-46aa-9fe1-f934424c590d\" target=\"_top\" title=\"psysml:63b0367b-32f1-46aa-9fe1-f934424c590d\" xlink:actuate=\"onRequest\" xlink:href=\"psysml:63b0367b-32f1-46aa-9fe1-f934424c590d\" xlink:show=\"new\" xlink:title=\"psysml:63b0367b-32f1-46aa-9fe1-f934424c590d\" xlink:type=\"simple\"><polygon fill=\"#FFFFFF\" filter=\"url(#f18yfv0obvcd1s)\" points=\"121,229,162,229,169,251.2969,434,251.2969,434,534,121,534,121,229\" style=\"stroke: #000000; stroke-width: 1.5;\"/><line style=\"stroke: #000000; stroke-width: 1.5;\" x1=\"121\" x2=\"169\" y1=\"251.2969\" y2=\"251.2969\"/><text fill=\"#000000\" font-family=\"sans-serif\" font-size=\"14\" font-weight=\"bold\" lengthAdjust=\"spacingAndGlyphs\" textLength=\"35\" x=\"125\" y=\"243.9951\">Pkg2</text></a><!--MD5=[14e3b0961a2654348d326746436168a1]\n",
       "cluster E6--><a href=\"psysml:98b17091-6ea5-4037-8451-bfddc724f9d0\" target=\"_top\" title=\"psysml:98b17091-6ea5-4037-8451-bfddc724f9d0\" xlink:actuate=\"onRequest\" xlink:href=\"psysml:98b17091-6ea5-4037-8451-bfddc724f9d0\" xlink:show=\"new\" xlink:title=\"psysml:98b17091-6ea5-4037-8451-bfddc724f9d0\" xlink:type=\"simple\"><polygon fill=\"#FFFFFF\" filter=\"url(#f18yfv0obvcd1s)\" points=\"161,288,211,288,218,310.2969,386,310.2969,386,494,161,494,161,288\" style=\"stroke: #000000; stroke-width: 1.5;\"/><line style=\"stroke: #000000; stroke-width: 1.5;\" x1=\"161\" x2=\"218\" y1=\"310.2969\" y2=\"310.2969\"/><text fill=\"#000000\" font-family=\"sans-serif\" font-size=\"14\" font-weight=\"bold\" lengthAdjust=\"spacingAndGlyphs\" textLength=\"44\" x=\"165\" y=\"302.9951\">Pkg21</text></a><!--MD5=[168fadf3d0c3fd93dd5d6da1b1d7ab76]\n",
       "cluster E7--><a href=\"psysml:45f4d7ec-8fdd-4896-89d5-a877e9eb4cf9\" target=\"_top\" title=\"psysml:45f4d7ec-8fdd-4896-89d5-a877e9eb4cf9\" xlink:actuate=\"onRequest\" xlink:href=\"psysml:45f4d7ec-8fdd-4896-89d5-a877e9eb4cf9\" xlink:show=\"new\" xlink:title=\"psysml:45f4d7ec-8fdd-4896-89d5-a877e9eb4cf9\" xlink:type=\"simple\"><polygon fill=\"#FFFFFF\" filter=\"url(#f18yfv0obvcd1s)\" points=\"209,347,268,347,275,369.2969,346,369.2969,346,454,209,454,209,347\" style=\"stroke: #000000; stroke-width: 1.5;\"/><line style=\"stroke: #000000; stroke-width: 1.5;\" x1=\"209\" x2=\"275\" y1=\"369.2969\" y2=\"369.2969\"/><text fill=\"#000000\" font-family=\"sans-serif\" font-size=\"14\" font-weight=\"bold\" lengthAdjust=\"spacingAndGlyphs\" textLength=\"53\" x=\"213\" y=\"361.9951\">Pkg211</text></a><g id=\"E1.E2.E3\"><a href=\"psysml:380b438c-f0d0-40f2-a10d-c83a46ac62de\" target=\"_top\" title=\"psysml:380b438c-f0d0-40f2-a10d-c83a46ac62de\" xlink:actuate=\"onRequest\" xlink:href=\"psysml:380b438c-f0d0-40f2-a10d-c83a46ac62de\" xlink:show=\"new\" xlink:title=\"psysml:380b438c-f0d0-40f2-a10d-c83a46ac62de\" xlink:type=\"simple\"><rect fill=\"#FEFECE\" filter=\"url(#f18yfv0obvcd1s)\" height=\"40\" id=\"E3\" rx=\"10\" ry=\"10\" style=\"stroke: #A80036; stroke-width: 1.5;\" width=\"101\" x=\"246.5\" y=\"100\"/><ellipse cx=\"263.75\" cy=\"116\" fill=\"#B6DBBB\" rx=\"11\" ry=\"11\" style=\"stroke: #A80036; stroke-width: 1.0;\"/><path d=\"M263.5,121.4688 Q261.75,121.4688 260.7969,120.4375 Q259.8594,119.3906 259.8594,117.5469 L259.8594,110.6563 L261.9219,110.6563 L261.9219,110.8125 Q261.8281,110.9063 261.7969,111.0469 Q261.7813,111.1719 261.7813,111.4375 L261.7813,117.5625 Q261.7813,118.6563 262.1563,119.2813 Q262.5313,119.9063 263.5156,119.9063 Q264.5,119.9063 264.8906,119.2813 Q265.2813,118.6563 265.2813,117.5156 L265.2813,110.6563 L267.1563,110.6563 L267.1563,117.5 Q267.1563,119.5313 266.125,120.5 Q265.1094,121.4688 263.5,121.4688 Z \"/><text fill=\"#000000\" font-family=\"sans-serif\" font-size=\"12\" lengthAdjust=\"spacingAndGlyphs\" textLength=\"64\" x=\"278.25\" y=\"120.1543\">p11: P211</text></a></g><g id=\"E1.E2.E4\"><a href=\"psysml:4c18927e-9f3a-4bbe-ae04-0ff2b7ea0a78\" target=\"_top\" title=\"psysml:4c18927e-9f3a-4bbe-ae04-0ff2b7ea0a78\" xlink:actuate=\"onRequest\" xlink:href=\"psysml:4c18927e-9f3a-4bbe-ae04-0ff2b7ea0a78\" xlink:show=\"new\" xlink:title=\"psysml:4c18927e-9f3a-4bbe-ae04-0ff2b7ea0a78\" xlink:type=\"simple\"><rect fill=\"#FEFECE\" filter=\"url(#f18yfv0obvcd1s)\" height=\"40\" id=\"E4\" style=\"stroke: #A80036; stroke-width: 1.5;\" width=\"61\" x=\"382.5\" y=\"100\"/><ellipse cx=\"399.75\" cy=\"116\" fill=\"#008000\" rx=\"11\" ry=\"11\" style=\"stroke: #A80036; stroke-width: 1.0;\"/><path d=\"M396.625,121 L396.625,110.4063 L399.8594,110.4063 Q401.7656,110.4063 402.6719,111.1563 Q403.5938,111.9063 403.5938,113.0781 Q403.5938,113.7656 403.2031,114.4219 Q402.8281,115.0781 402.1094,115.375 Q402.9688,115.75 403.4844,116.4375 Q404,117.125 404,117.9375 Q404,119.3125 402.9688,120.1563 Q401.9531,121 399.8438,121 L396.625,121 Z M398.5469,114.6406 L399.7031,114.6406 Q400.8281,114.6406 401.2344,114.2656 Q401.6563,113.875 401.6563,113.25 Q401.6563,112.6719 401.2344,112.3125 Q400.8125,111.9531 399.875,111.9531 L398.5469,111.9531 L398.5469,114.6406 Z M398.5469,119.4219 L400.0469,119.4219 Q400.9531,119.4219 401.4844,119.0313 Q402.0156,118.6406 402.0156,117.8906 Q402.0156,117.125 401.5156,116.6563 Q401.0156,116.1719 399.75,116.1719 L398.5469,116.1719 L398.5469,119.4219 Z \"/><text fill=\"#000000\" font-family=\"sans-serif\" font-size=\"12\" lengthAdjust=\"spacingAndGlyphs\" textLength=\"24\" x=\"414.25\" y=\"120.1543\">P12</text></a></g><g id=\"E1.E5.E6.E7.E8\"><a href=\"psysml:b4068f35-75bf-4c63-8263-9508faa965fc\" target=\"_top\" title=\"psysml:b4068f35-75bf-4c63-8263-9508faa965fc\" xlink:actuate=\"onRequest\" xlink:href=\"psysml:b4068f35-75bf-4c63-8263-9508faa965fc\" xlink:show=\"new\" xlink:title=\"psysml:b4068f35-75bf-4c63-8263-9508faa965fc\" xlink:type=\"simple\"><rect fill=\"#FEFECE\" filter=\"url(#f18yfv0obvcd1s)\" height=\"40\" id=\"E8\" style=\"stroke: #A80036; stroke-width: 1.5;\" width=\"69\" x=\"252.5\" y=\"390\"/><ellipse cx=\"269.75\" cy=\"406\" fill=\"#008000\" rx=\"11\" ry=\"11\" style=\"stroke: #A80036; stroke-width: 1.0;\"/><path d=\"M266.625,411 L266.625,400.4063 L269.8594,400.4063 Q271.7656,400.4063 272.6719,401.1563 Q273.5938,401.9063 273.5938,403.0781 Q273.5938,403.7656 273.2031,404.4219 Q272.8281,405.0781 272.1094,405.375 Q272.9688,405.75 273.4844,406.4375 Q274,407.125 274,407.9375 Q274,409.3125 272.9688,410.1563 Q271.9531,411 269.8438,411 L266.625,411 Z M268.5469,404.6406 L269.7031,404.6406 Q270.8281,404.6406 271.2344,404.2656 Q271.6563,403.875 271.6563,403.25 Q271.6563,402.6719 271.2344,402.3125 Q270.8125,401.9531 269.875,401.9531 L268.5469,401.9531 L268.5469,404.6406 Z M268.5469,409.4219 L270.0469,409.4219 Q270.9531,409.4219 271.4844,409.0313 Q272.0156,408.6406 272.0156,407.8906 Q272.0156,407.125 271.5156,406.6563 Q271.0156,406.1719 269.75,406.1719 L268.5469,406.1719 L268.5469,409.4219 Z \"/><text fill=\"#000000\" font-family=\"sans-serif\" font-size=\"12\" lengthAdjust=\"spacingAndGlyphs\" textLength=\"32\" x=\"284.25\" y=\"410.1543\">P211</text></a></g><!--MD5=[b0060bfdb0500b904584095522b4da3c]\n",
       "link E2 to E8--><a href=\"psysml:86dbe04c-b04a-4ec6-a347-5e4f000abe00\" target=\"_top\" title=\"psysml:86dbe04c-b04a-4ec6-a347-5e4f000abe00\" xlink:actuate=\"onRequest\" xlink:href=\"psysml:86dbe04c-b04a-4ec6-a347-5e4f000abe00\" xlink:show=\"new\" xlink:title=\"psysml:86dbe04c-b04a-4ec6-a347-5e4f000abe00\" xlink:type=\"simple\"><path d=\"M219.0062,164.0772 C219.0926,164.2696 219.1799,164.4616 219.2681,164.6532 C219.4446,165.0364 219.6248,165.4178 219.8088,165.7972 C220.1769,166.5562 220.5603,167.3073 220.9595,168.049 C221.758,169.5323 222.6201,170.9775 223.5509,172.3709 C225.4125,175.1578 227.5487,177.7375 230,180 C241.41,190.53 253.74,176.35 264,188 C312.96,243.63 301.39,340.21 292.57,384.96 \" fill=\"none\" id=\"E2-&gt;E8\" style=\"stroke: #A80036; stroke-width: 1.0; stroke-dasharray: 7.0,7.0;\"/><polygon fill=\"#A80036\" points=\"291.56,389.9,297.2834,381.8849,292.5626,385.0016,289.4459,380.2807,291.56,389.9\" style=\"stroke: #A80036; stroke-width: 1.0;\"/><text fill=\"#000000\" font-family=\"sans-serif\" font-size=\"13\" lengthAdjust=\"spacingAndGlyphs\" textLength=\"58\" x=\"275\" y=\"201.0669\">«import»</text></a><!--MD5=[e3e28c1befcf002155aa15e1416b4315]\n",
       "link E2 to E6--><a href=\"psysml:b4797686-9eb8-4e8e-a70f-411a8a1a5c6c\" target=\"_top\" title=\"psysml:b4797686-9eb8-4e8e-a70f-411a8a1a5c6c\" xlink:actuate=\"onRequest\" xlink:href=\"psysml:b4797686-9eb8-4e8e-a70f-411a8a1a5c6c\" xlink:show=\"new\" xlink:title=\"psysml:b4797686-9eb8-4e8e-a70f-411a8a1a5c6c\" xlink:type=\"simple\"><path d=\"M202.9934,122.5042 C202.8863,122.5266 202.7783,122.5493 202.6693,122.5722 C202.2334,122.664 201.7827,122.7601 201.3176,122.8607 C199.4572,123.263 197.3675,123.737 195.0833,124.2884 C185.9466,126.4944 173.6981,129.9413 160.5663,135.0125 C134.3025,145.155 104.505,161.795 89,188 C62.82,232.25 81.79,286.4775 107.8075,330.1412 C120.8163,351.9731 135.5869,371.1641 147.3566,385.1464 C150.299,388.642 153.0538,391.812 155.5467,394.6164 C156.7932,396.0186 157.9741,397.3294 159.0803,398.5438 C159.6334,399.1509 160.1677,399.734 160.6822,400.2923 \" fill=\"none\" id=\"E2-&gt;E6\" style=\"stroke: #A80036; stroke-width: 1.0; stroke-dasharray: 7.0,7.0;\"/><polygon fill=\"#A80036\" points=\"160.6822,400.2923,157.5248,390.9633,157.2939,396.6155,151.6418,396.3846,160.6822,400.2923\" style=\"stroke: #A80036; stroke-width: 1.0;\"/><text fill=\"#000000\" font-family=\"sans-serif\" font-size=\"13\" lengthAdjust=\"spacingAndGlyphs\" textLength=\"65\" x=\"90\" y=\"201.0669\">«import»*</text></a><!--MD5=[e3d2a08a9c9236652057e8ed0cbc9b62]\n",
       "link E2 to E7--><a href=\"psysml:c873f416-4fb0-4522-b4d5-2fc0ff0d8008\" target=\"_top\" title=\"psysml:c873f416-4fb0-4522-b4d5-2fc0ff0d8008\" xlink:actuate=\"onRequest\" xlink:href=\"psysml:c873f416-4fb0-4522-b4d5-2fc0ff0d8008\" xlink:show=\"new\" xlink:title=\"psysml:c873f416-4fb0-4522-b4d5-2fc0ff0d8008\" xlink:type=\"simple\"><path d=\"M202.846,127.9907 C202.6791,128.142 202.5104,128.2954 202.3399,128.4509 C201.658,129.0729 200.9481,129.7284 200.2148,130.4153 C194.3484,135.9106 186.9844,143.4163 180.4937,151.8525 C167.5125,168.725 158.025,189.32 171,205 C183.11,219.64 200.74,198.48 213,213 C226.84,229.38 228.025,277.1175 225.66,321.3763 C225.3644,326.9086 225.0133,332.3866 224.6245,337.7422 C224.4301,340.42 224.2263,343.0672 224.0153,345.6753 C223.9889,346.0013 223.9624,346.3267 223.9358,346.6514 \" fill=\"none\" id=\"E2-&gt;E7\" style=\"stroke: #A80036; stroke-width: 1.0; stroke-dasharray: 7.0,7.0;\"/><polygon fill=\"#A80036\" points=\"223.9358,346.6514,228.6571,338.008,224.3439,341.6681,220.6838,337.355,223.9358,346.6514\" style=\"stroke: #A80036; stroke-width: 1.0;\"/><text fill=\"#000000\" font-family=\"sans-serif\" font-size=\"13\" lengthAdjust=\"spacingAndGlyphs\" textLength=\"87\" x=\"172\" y=\"201.0669\">«import»*::**</text></a><!--MD5=[ca5a752d6098d8a44b3f88316e7452d1]\n",
       "link E3 to E8--><a href=\"psysml:bb41b158-76b0-47f5-886e-e2f97e00e6aa\" target=\"_top\" title=\"psysml:bb41b158-76b0-47f5-886e-e2f97e00e6aa\" xlink:actuate=\"onRequest\" xlink:href=\"psysml:bb41b158-76b0-47f5-886e-e2f97e00e6aa\" xlink:show=\"new\" xlink:title=\"psysml:bb41b158-76b0-47f5-886e-e2f97e00e6aa\" xlink:type=\"simple\"><path d=\"M324.8,140.19 C339.45,152.06 356.01,168.7 364,188 C366.89,194.98 368.76,199.13 364,205 C353.13,218.4 338.14,200.73 326,213 C285.19,254.27 281.06,325.3 283.1,369.57 \" fill=\"none\" id=\"E3-&gt;E8\" style=\"stroke: #A80036; stroke-width: 1.0;\"/><polygon fill=\"#FFFFFF\" points=\"284.54,389.71,276.2013,371.2583,290.1655,370.2587,284.54,389.71\" style=\"stroke: #A80036; stroke-width: 1.0;\"/><ellipse cx=\"277.7892\" cy=\"365.43\" fill=\"#A80036\" rx=\"2\" ry=\"2\" style=\"stroke: #A80036; stroke-width: 1.0;\"/><ellipse cx=\"287.7637\" cy=\"364.716\" fill=\"#A80036\" rx=\"2\" ry=\"2\" style=\"stroke: #A80036; stroke-width: 1.0;\"/></a><!--MD5=[15ebcb19ae302d9b601edb458606d402]\n",
       "link E5 to E2--><a href=\"psysml:cb98c000-d2e0-4059-b3dc-41ff4d975042\" target=\"_top\" title=\"psysml:cb98c000-d2e0-4059-b3dc-41ff4d975042\" xlink:actuate=\"onRequest\" xlink:href=\"psysml:cb98c000-d2e0-4059-b3dc-41ff4d975042\" xlink:show=\"new\" xlink:title=\"psysml:cb98c000-d2e0-4059-b3dc-41ff4d975042\" xlink:type=\"simple\"><path d=\"M379.2686,228.8428 C378.83,228.1616 378.3872,227.4834 377.9403,226.8083 C377.0465,225.458 376.1361,224.1203 375.2088,222.7959 C373.3541,220.1471 371.4317,217.5518 369.439,215.0173 C361.4686,204.8797 352.375,195.7163 342,188 C321.98,173.11 249.63,195.4 230,180 C224.75,175.8825 220.9288,170.2987 218.152,164.2005 \" fill=\"none\" id=\"E5-&gt;E2\" style=\"stroke: #A80036; stroke-width: 1.0; stroke-dasharray: 7.0,7.0;\"/><polygon fill=\"#A80036\" points=\"218.152,164.2005,218.2412,174.0489,220.224,168.751,225.522,170.7338,218.152,164.2005\" style=\"stroke: #A80036; stroke-width: 1.0;\"/><text fill=\"#000000\" font-family=\"sans-serif\" font-size=\"13\" lengthAdjust=\"spacingAndGlyphs\" textLength=\"65\" x=\"361\" y=\"201.0669\">«import»*</text></a><!--MD5=[d7bb3fb34add81b710575eb3799fa2ad]\n",
       "link E8 to E4--><a href=\"psysml:ff856c1d-ebaf-4dbc-8ba8-d8c60136e299\" target=\"_top\" title=\"psysml:ff856c1d-ebaf-4dbc-8ba8-d8c60136e299\" xlink:actuate=\"onRequest\" xlink:href=\"psysml:ff856c1d-ebaf-4dbc-8ba8-d8c60136e299\" xlink:show=\"new\" xlink:title=\"psysml:ff856c1d-ebaf-4dbc-8ba8-d8c60136e299\" xlink:type=\"simple\"><path d=\"M284.06,390 C279.11,350.15 274.19,257.85 326,213 C338.79,201.93 466.36,217.27 478,205 C493.72,188.43 479.01,168.22 459.63,151.78 \" fill=\"none\" id=\"E8-&gt;E4\" style=\"stroke: #A80036; stroke-width: 1.0;\"/><polygon fill=\"none\" points=\"455.24,157.24,443.58,139.55,463.73,146.11,455.24,157.24\" style=\"stroke: #A80036; stroke-width: 1.0;\"/></a><!--MD5=[77a8aea2e7f74991280b30f5f7f4bafc]\n",
       "@startuml\r\n",
       "skinparam ranksep 10\r\n",
       "skinparam rectangle {\r\n",
       " backgroundColor<<block>> LightGreen\r\n",
       "}\r\n",
       " \r\n",
       "package \"ImportTest\" as E1  [[psysml:789e6656-6985-4918-a680-b12b42056b24 ]]  {\r\n",
       "package \"Pkg1\" as E2  [[psysml:9ed5d6a5-603c-4e6a-bfc8-60e703dcd2fe ]]  {\r\n",
       "rec usage \"p11: P211\" as E3  [[psysml:380b438c-f0d0-40f2-a10d-c83a46ac62de ]] {\r\n",
       "}\r\n",
       "rec def \"P12\" as E4 << << (B,green) >> [[psysml:4c18927e-9f3a-4bbe-ae04-0ff2b7ea0a78 ]] {\r\n",
       "}\r\n",
       "}\r\n",
       "package \"Pkg2\" as E5  [[psysml:63b0367b-32f1-46aa-9fe1-f934424c590d ]]  {\r\n",
       "package \"Pkg21\" as E6  [[psysml:98b17091-6ea5-4037-8451-bfddc724f9d0 ]]  {\r\n",
       "package \"Pkg211\" as E7  [[psysml:45f4d7ec-8fdd-4896-89d5-a877e9eb4cf9 ]]  {\r\n",
       "rec def \"P211\" as E8 << << (B,green) >> [[psysml:b4068f35-75bf-4c63-8263-9508faa965fc ]] {\r\n",
       "}\r\n",
       "}\r\n",
       "}\r\n",
       "}\r\n",
       "}\r\n",
       "E2 ..> E8 [[psysml:86dbe04c-b04a-4ec6-a347-5e4f000abe00 ]] : <<import>>\r\n",
       "E2 ..> E6 [[psysml:b4797686-9eb8-4e8e-a70f-411a8a1a5c6c ]] : <<import>>*\r\n",
       "E2 ..> E7 [[psysml:c873f416-4fb0-4522-b4d5-2fc0ff0d8008 ]] : <<import>>*::**\r\n",
       "E3 - -:|> E8 [[psysml:bb41b158-76b0-47f5-886e-e2f97e00e6aa ]] \r\n",
       "E5 ..> E2 [[psysml:cb98c000-d2e0-4059-b3dc-41ff4d975042 ]] : <<import>>*\r\n",
       "E8 - -|> E4 [[psysml:ff856c1d-ebaf-4dbc-8ba8-d8c60136e299 ]] \r\n",
       "@enduml\r\n",
       "\n",
       "PlantUML version 1.2020.13(Sat Jun 13 12:26:38 UTC 2020)\n",
       "(EPL source distribution)\n",
       "Java Runtime: OpenJDK Runtime Environment\n",
       "JVM: OpenJDK 64-Bit Server VM\n",
       "Default Encoding: UTF-8\n",
       "Language: en\n",
       "Country: null\n",
       "--></g></svg>"
      ]
     },
     "execution_count": 33,
     "metadata": {},
     "output_type": "execute_result"
    }
   ],
   "source": [
    "%viz --style=\"PLANTUML\" --view=\"Interconnection\" \"ImportTest\""
   ]
  },
  {
   "cell_type": "code",
   "execution_count": 34,
   "id": "b3b290a4",
   "metadata": {
    "execution": {
     "iopub.execute_input": "2022-08-19T08:17:21.343999Z",
     "iopub.status.busy": "2022-08-19T08:17:21.343525Z",
     "iopub.status.idle": "2022-08-19T08:17:21.348016Z",
     "shell.execute_reply": "2022-08-19T08:17:21.348327Z"
    }
   },
   "outputs": [
    {
     "data": {
      "image/svg+xml": [
       "<?xml version=\"1.0\" encoding=\"UTF-8\" standalone=\"no\"?><svg xmlns=\"http://www.w3.org/2000/svg\" xmlns:xlink=\"http://www.w3.org/1999/xlink\" contentScriptType=\"application/ecmascript\" contentStyleType=\"text/css\" height=\"12px\" preserveAspectRatio=\"none\" style=\"width:12px;height:12px;\" version=\"1.1\" viewBox=\"0 0 12 12\" width=\"12px\" zoomAndPan=\"magnify\"><defs/><g><!--MD5=[6a4cb978cab31700e1ce5529f947a75d]\n",
       "@startuml\r\n",
       "skinparam ranksep 8\r\n",
       " \r\n",
       "@enduml\r\n",
       "\n",
       "PlantUML version 1.2020.13(Sat Jun 13 12:26:38 UTC 2020)\n",
       "(EPL source distribution)\n",
       "Java Runtime: OpenJDK Runtime Environment\n",
       "JVM: OpenJDK 64-Bit Server VM\n",
       "Default Encoding: UTF-8\n",
       "Language: en\n",
       "Country: null\n",
       "--></g></svg>"
      ]
     },
     "execution_count": 34,
     "metadata": {},
     "output_type": "execute_result"
    }
   ],
   "source": [
    "%viz --style=\"PLANTUML\" --view=\"Action\" \"ImportTest\""
   ]
  },
  {
   "cell_type": "code",
   "execution_count": 35,
   "id": "8a393d8b",
   "metadata": {
    "execution": {
     "iopub.execute_input": "2022-08-19T08:17:21.398360Z",
     "iopub.status.busy": "2022-08-19T08:17:21.397912Z",
     "iopub.status.idle": "2022-08-19T08:17:21.403245Z",
     "shell.execute_reply": "2022-08-19T08:17:21.402870Z"
    }
   },
   "outputs": [
    {
     "data": {
      "image/svg+xml": [
       "<?xml version=\"1.0\" encoding=\"UTF-8\" standalone=\"no\"?><svg xmlns=\"http://www.w3.org/2000/svg\" xmlns:xlink=\"http://www.w3.org/1999/xlink\" contentScriptType=\"application/ecmascript\" contentStyleType=\"text/css\" height=\"12px\" preserveAspectRatio=\"none\" style=\"width:12px;height:12px;\" version=\"1.1\" viewBox=\"0 0 12 12\" width=\"12px\" zoomAndPan=\"magnify\"><defs/><g><!--MD5=[ca4faa0b02def275ea33c14ea7a1a98d]\n",
       "@startuml\r\n",
       "skinparam roundcorner 20\r\n",
       "skinparam BoxPadding 20\r\n",
       "skinparam SequenceBoxBackgroundColor #white\r\n",
       "skinparam style strictuml\r\n",
       "skinparam maxMessageSize 100\r\n",
       " \r\n",
       "@enduml\r\n",
       "\n",
       "PlantUML version 1.2020.13(Sat Jun 13 12:26:38 UTC 2020)\n",
       "(EPL source distribution)\n",
       "Java Runtime: OpenJDK Runtime Environment\n",
       "JVM: OpenJDK 64-Bit Server VM\n",
       "Default Encoding: UTF-8\n",
       "Language: en\n",
       "Country: null\n",
       "--></g></svg>"
      ]
     },
     "execution_count": 35,
     "metadata": {},
     "output_type": "execute_result"
    }
   ],
   "source": [
    "%viz --style=\"PLANTUML\" --view=\"Sequence\" \"ImportTest\""
   ]
  },
  {
   "cell_type": "code",
   "execution_count": 36,
   "id": "25379ebb",
   "metadata": {
    "execution": {
     "iopub.execute_input": "2022-08-19T08:17:21.452848Z",
     "iopub.status.busy": "2022-08-19T08:17:21.452358Z",
     "iopub.status.idle": "2022-08-19T08:17:21.487982Z",
     "shell.execute_reply": "2022-08-19T08:17:21.487549Z"
    }
   },
   "outputs": [
    {
     "data": {
      "image/svg+xml": [
       "<?xml version=\"1.0\" encoding=\"UTF-8\" standalone=\"no\"?><svg xmlns=\"http://www.w3.org/2000/svg\" xmlns:xlink=\"http://www.w3.org/1999/xlink\" contentScriptType=\"application/ecmascript\" contentStyleType=\"text/css\" height=\"584px\" preserveAspectRatio=\"none\" style=\"width:522px;height:584px;\" version=\"1.1\" viewBox=\"0 0 522 584\" width=\"522px\" zoomAndPan=\"magnify\"><defs><filter height=\"300%\" id=\"f1n8qgpki1fvwq\" width=\"300%\" x=\"-1\" y=\"-1\"><feGaussianBlur result=\"blurOut\" stdDeviation=\"2.0\"/><feColorMatrix in=\"blurOut\" result=\"blurOut2\" type=\"matrix\" values=\"0 0 0 0 0 0 0 0 0 0 0 0 0 0 0 0 0 0 .4 0\"/><feOffset dx=\"4.0\" dy=\"4.0\" in=\"blurOut2\" result=\"blurOut3\"/><feBlend in=\"SourceGraphic\" in2=\"blurOut3\" mode=\"normal\"/></filter></defs><g><!--MD5=[fbc87193dbaf4d95561dea2c320d4a47]\n",
       "cluster E1--><a href=\"psysml:789e6656-6985-4918-a680-b12b42056b24\" target=\"_top\" title=\"psysml:789e6656-6985-4918-a680-b12b42056b24\" xlink:actuate=\"onRequest\" xlink:href=\"psysml:789e6656-6985-4918-a680-b12b42056b24\" xlink:show=\"new\" xlink:title=\"psysml:789e6656-6985-4918-a680-b12b42056b24\" xlink:type=\"simple\"><polygon fill=\"#FFFFFF\" filter=\"url(#f1n8qgpki1fvwq)\" points=\"16,6,97,6,104,28.2969,500,28.2969,500,572,16,572,16,6\" style=\"stroke: #000000; stroke-width: 1.5;\"/><line style=\"stroke: #000000; stroke-width: 1.5;\" x1=\"16\" x2=\"104\" y1=\"28.2969\" y2=\"28.2969\"/><text fill=\"#000000\" font-family=\"sans-serif\" font-size=\"14\" font-weight=\"bold\" lengthAdjust=\"spacingAndGlyphs\" textLength=\"75\" x=\"20\" y=\"20.9951\">ImportTest</text></a><!--MD5=[e4f7fae6ed58524ba242bb0b0d3be6b7]\n",
       "cluster E2--><a href=\"psysml:9ed5d6a5-603c-4e6a-bfc8-60e703dcd2fe\" target=\"_top\" title=\"psysml:9ed5d6a5-603c-4e6a-bfc8-60e703dcd2fe\" xlink:actuate=\"onRequest\" xlink:href=\"psysml:9ed5d6a5-603c-4e6a-bfc8-60e703dcd2fe\" xlink:show=\"new\" xlink:title=\"psysml:9ed5d6a5-603c-4e6a-bfc8-60e703dcd2fe\" xlink:type=\"simple\"><polygon fill=\"#FFFFFF\" filter=\"url(#f1n8qgpki1fvwq)\" points=\"210,57,251,57,258,79.2969,468,79.2969,468,170,210,170,210,57\" style=\"stroke: #000000; stroke-width: 1.5;\"/><line style=\"stroke: #000000; stroke-width: 1.5;\" x1=\"210\" x2=\"258\" y1=\"79.2969\" y2=\"79.2969\"/><text fill=\"#000000\" font-family=\"sans-serif\" font-size=\"14\" font-weight=\"bold\" lengthAdjust=\"spacingAndGlyphs\" textLength=\"35\" x=\"214\" y=\"71.9951\">Pkg1</text></a><!--MD5=[de5ec2e2e8f62f467e546659f5068c88]\n",
       "cluster E5--><a href=\"psysml:63b0367b-32f1-46aa-9fe1-f934424c590d\" target=\"_top\" title=\"psysml:63b0367b-32f1-46aa-9fe1-f934424c590d\" xlink:actuate=\"onRequest\" xlink:href=\"psysml:63b0367b-32f1-46aa-9fe1-f934424c590d\" xlink:show=\"new\" xlink:title=\"psysml:63b0367b-32f1-46aa-9fe1-f934424c590d\" xlink:type=\"simple\"><polygon fill=\"#FFFFFF\" filter=\"url(#f1n8qgpki1fvwq)\" points=\"125,235,166,235,173,257.2969,432,257.2969,432,540,125,540,125,235\" style=\"stroke: #000000; stroke-width: 1.5;\"/><line style=\"stroke: #000000; stroke-width: 1.5;\" x1=\"125\" x2=\"173\" y1=\"257.2969\" y2=\"257.2969\"/><text fill=\"#000000\" font-family=\"sans-serif\" font-size=\"14\" font-weight=\"bold\" lengthAdjust=\"spacingAndGlyphs\" textLength=\"35\" x=\"129\" y=\"249.9951\">Pkg2</text></a><!--MD5=[14e3b0961a2654348d326746436168a1]\n",
       "cluster E6--><a href=\"psysml:98b17091-6ea5-4037-8451-bfddc724f9d0\" target=\"_top\" title=\"psysml:98b17091-6ea5-4037-8451-bfddc724f9d0\" xlink:actuate=\"onRequest\" xlink:href=\"psysml:98b17091-6ea5-4037-8451-bfddc724f9d0\" xlink:show=\"new\" xlink:title=\"psysml:98b17091-6ea5-4037-8451-bfddc724f9d0\" xlink:type=\"simple\"><polygon fill=\"#FFFFFF\" filter=\"url(#f1n8qgpki1fvwq)\" points=\"165,294,215,294,222,316.2969,384,316.2969,384,500,165,500,165,294\" style=\"stroke: #000000; stroke-width: 1.5;\"/><line style=\"stroke: #000000; stroke-width: 1.5;\" x1=\"165\" x2=\"222\" y1=\"316.2969\" y2=\"316.2969\"/><text fill=\"#000000\" font-family=\"sans-serif\" font-size=\"14\" font-weight=\"bold\" lengthAdjust=\"spacingAndGlyphs\" textLength=\"44\" x=\"169\" y=\"308.9951\">Pkg21</text></a><!--MD5=[168fadf3d0c3fd93dd5d6da1b1d7ab76]\n",
       "cluster E7--><a href=\"psysml:45f4d7ec-8fdd-4896-89d5-a877e9eb4cf9\" target=\"_top\" title=\"psysml:45f4d7ec-8fdd-4896-89d5-a877e9eb4cf9\" xlink:actuate=\"onRequest\" xlink:href=\"psysml:45f4d7ec-8fdd-4896-89d5-a877e9eb4cf9\" xlink:show=\"new\" xlink:title=\"psysml:45f4d7ec-8fdd-4896-89d5-a877e9eb4cf9\" xlink:type=\"simple\"><polygon fill=\"#FFFFFF\" filter=\"url(#f1n8qgpki1fvwq)\" points=\"213,353,272,353,279,375.2969,344,375.2969,344,460,213,460,213,353\" style=\"stroke: #000000; stroke-width: 1.5;\"/><line style=\"stroke: #000000; stroke-width: 1.5;\" x1=\"213\" x2=\"279\" y1=\"375.2969\" y2=\"375.2969\"/><text fill=\"#000000\" font-family=\"sans-serif\" font-size=\"14\" font-weight=\"bold\" lengthAdjust=\"spacingAndGlyphs\" textLength=\"53\" x=\"217\" y=\"367.9951\">Pkg211</text></a><!--MD5=[09b614a08d8cba4a07c9adeb5e0fee81]\n",
       "class E3--><a href=\"psysml:380b438c-f0d0-40f2-a10d-c83a46ac62de\" target=\"_top\" title=\"psysml:380b438c-f0d0-40f2-a10d-c83a46ac62de\" xlink:actuate=\"onRequest\" xlink:href=\"psysml:380b438c-f0d0-40f2-a10d-c83a46ac62de\" xlink:show=\"new\" xlink:title=\"psysml:380b438c-f0d0-40f2-a10d-c83a46ac62de\" xlink:type=\"simple\"><rect fill=\"#FEFECE\" filter=\"url(#f1n8qgpki1fvwq)\" height=\"45.9375\" id=\"E3\" rx=\"10\" ry=\"10\" style=\"stroke: #A80036; stroke-width: 1.5;\" width=\"100\" x=\"253\" y=\"100\"/><ellipse cx=\"268\" cy=\"118.9688\" fill=\"#32CD32\" rx=\"11\" ry=\"11\" style=\"stroke: #A80036; stroke-width: 1.0;\"/><path d=\"M264.8125,123.9688 L264.8125,113.375 L268.4219,113.375 Q269.6406,113.375 270.4375,113.8125 Q271.2344,114.2344 271.6094,114.9375 Q272,115.6406 272,116.4844 Q272,117.3281 271.625,118.0156 Q271.2656,118.7031 270.4688,119.125 Q269.6875,119.5313 268.5,119.5313 L266.7656,119.5313 L266.7656,123.9688 L264.8125,123.9688 Z M266.7656,117.9375 L268.375,117.9375 Q269.1875,117.9375 269.6094,117.5313 Q270.0313,117.125 270.0313,116.4844 Q270.0313,115.8594 269.6094,115.4531 Q269.1875,115.0469 268.3906,115.0469 L266.7656,115.0469 L266.7656,117.9375 Z \"/><text fill=\"#000000\" font-family=\"sans-serif\" font-size=\"12\" font-style=\"italic\" lengthAdjust=\"spacingAndGlyphs\" textLength=\"40\" x=\"296\" y=\"116.1387\">«part»</text><text fill=\"#000000\" font-family=\"sans-serif\" font-size=\"12\" lengthAdjust=\"spacingAndGlyphs\" textLength=\"64\" x=\"282\" y=\"130.1074\">p11: P211</text><line style=\"stroke: #A80036; stroke-width: 1.5;\" x1=\"254\" x2=\"352\" y1=\"137.9375\" y2=\"137.9375\"/></a><!--MD5=[ebbe1d658d1005bcc118a6aa81145e00]\n",
       "class E4--><a href=\"psysml:4c18927e-9f3a-4bbe-ae04-0ff2b7ea0a78\" target=\"_top\" title=\"psysml:4c18927e-9f3a-4bbe-ae04-0ff2b7ea0a78\" xlink:actuate=\"onRequest\" xlink:href=\"psysml:4c18927e-9f3a-4bbe-ae04-0ff2b7ea0a78\" xlink:show=\"new\" xlink:title=\"psysml:4c18927e-9f3a-4bbe-ae04-0ff2b7ea0a78\" xlink:type=\"simple\"><rect fill=\"#FEFECE\" filter=\"url(#f1n8qgpki1fvwq)\" height=\"40\" id=\"E4\" style=\"stroke: #A80036; stroke-width: 1.5;\" width=\"56\" x=\"388\" y=\"103\"/><ellipse cx=\"403\" cy=\"119\" fill=\"#008000\" rx=\"11\" ry=\"11\" style=\"stroke: #A80036; stroke-width: 1.0;\"/><path d=\"M399.875,124 L399.875,113.4063 L403.1094,113.4063 Q405.0156,113.4063 405.9219,114.1563 Q406.8438,114.9063 406.8438,116.0781 Q406.8438,116.7656 406.4531,117.4219 Q406.0781,118.0781 405.3594,118.375 Q406.2188,118.75 406.7344,119.4375 Q407.25,120.125 407.25,120.9375 Q407.25,122.3125 406.2188,123.1563 Q405.2031,124 403.0938,124 L399.875,124 Z M401.7969,117.6406 L402.9531,117.6406 Q404.0781,117.6406 404.4844,117.2656 Q404.9063,116.875 404.9063,116.25 Q404.9063,115.6719 404.4844,115.3125 Q404.0625,114.9531 403.125,114.9531 L401.7969,114.9531 L401.7969,117.6406 Z M401.7969,122.4219 L403.2969,122.4219 Q404.2031,122.4219 404.7344,122.0313 Q405.2656,121.6406 405.2656,120.8906 Q405.2656,120.125 404.7656,119.6563 Q404.2656,119.1719 403,119.1719 L401.7969,119.1719 L401.7969,122.4219 Z \"/><text fill=\"#000000\" font-family=\"sans-serif\" font-size=\"12\" lengthAdjust=\"spacingAndGlyphs\" textLength=\"24\" x=\"417\" y=\"123.1543\">P12</text><line style=\"stroke: #A80036; stroke-width: 1.5;\" x1=\"389\" x2=\"443\" y1=\"135\" y2=\"135\"/></a><!--MD5=[b9389687b975829384b498ac4b7476b2]\n",
       "class E8--><a href=\"psysml:b4068f35-75bf-4c63-8263-9508faa965fc\" target=\"_top\" title=\"psysml:b4068f35-75bf-4c63-8263-9508faa965fc\" xlink:actuate=\"onRequest\" xlink:href=\"psysml:b4068f35-75bf-4c63-8263-9508faa965fc\" xlink:show=\"new\" xlink:title=\"psysml:b4068f35-75bf-4c63-8263-9508faa965fc\" xlink:type=\"simple\"><rect fill=\"#FEFECE\" filter=\"url(#f1n8qgpki1fvwq)\" height=\"40\" id=\"E8\" style=\"stroke: #A80036; stroke-width: 1.5;\" width=\"64\" x=\"256\" y=\"396\"/><ellipse cx=\"271\" cy=\"412\" fill=\"#008000\" rx=\"11\" ry=\"11\" style=\"stroke: #A80036; stroke-width: 1.0;\"/><path d=\"M267.875,417 L267.875,406.4063 L271.1094,406.4063 Q273.0156,406.4063 273.9219,407.1563 Q274.8438,407.9063 274.8438,409.0781 Q274.8438,409.7656 274.4531,410.4219 Q274.0781,411.0781 273.3594,411.375 Q274.2188,411.75 274.7344,412.4375 Q275.25,413.125 275.25,413.9375 Q275.25,415.3125 274.2188,416.1563 Q273.2031,417 271.0938,417 L267.875,417 Z M269.7969,410.6406 L270.9531,410.6406 Q272.0781,410.6406 272.4844,410.2656 Q272.9063,409.875 272.9063,409.25 Q272.9063,408.6719 272.4844,408.3125 Q272.0625,407.9531 271.125,407.9531 L269.7969,407.9531 L269.7969,410.6406 Z M269.7969,415.4219 L271.2969,415.4219 Q272.2031,415.4219 272.7344,415.0313 Q273.2656,414.6406 273.2656,413.8906 Q273.2656,413.125 272.7656,412.6563 Q272.2656,412.1719 271,412.1719 L269.7969,412.1719 L269.7969,415.4219 Z \"/><text fill=\"#000000\" font-family=\"sans-serif\" font-size=\"12\" lengthAdjust=\"spacingAndGlyphs\" textLength=\"32\" x=\"285\" y=\"416.1543\">P211</text><line style=\"stroke: #A80036; stroke-width: 1.5;\" x1=\"257\" x2=\"319\" y1=\"428\" y2=\"428\"/></a><!--MD5=[b0060bfdb0500b904584095522b4da3c]\n",
       "link E2 to E8--><a href=\"psysml:86dbe04c-b04a-4ec6-a347-5e4f000abe00\" target=\"_top\" title=\"psysml:86dbe04c-b04a-4ec6-a347-5e4f000abe00\" xlink:actuate=\"onRequest\" xlink:href=\"psysml:86dbe04c-b04a-4ec6-a347-5e4f000abe00\" xlink:show=\"new\" xlink:title=\"psysml:86dbe04c-b04a-4ec6-a347-5e4f000abe00\" xlink:type=\"simple\"><path d=\"M226.445,170.2149 C226.5356,170.4166 226.6271,170.6178 226.7196,170.8186 C227.0896,171.6218 227.4752,172.4176 227.877,173.2043 C228.6805,174.7776 229.5489,176.3144 230.4873,177.8007 C232.3642,180.7733 234.5213,183.5438 237,186 C245.89,194.81 255.98,184.39 264,194 C311.29,250.66 301.32,345.99 293.25,390.6 \" fill=\"none\" id=\"E2-&gt;E8\" style=\"stroke: #A80036; stroke-width: 1.0; stroke-dasharray: 7.0,7.0;\"/><polygon fill=\"#A80036\" points=\"292.28,395.78,297.8815,387.6792,293.2083,390.8669,290.0206,386.1938,292.28,395.78\" style=\"stroke: #A80036; stroke-width: 1.0;\"/><text fill=\"#000000\" font-family=\"sans-serif\" font-size=\"13\" lengthAdjust=\"spacingAndGlyphs\" textLength=\"58\" x=\"275\" y=\"207.0669\">«import»</text></a><!--MD5=[e3e28c1befcf002155aa15e1416b4315]\n",
       "link E2 to E6--><a href=\"psysml:b4797686-9eb8-4e8e-a70f-411a8a1a5c6c\" target=\"_top\" title=\"psysml:b4797686-9eb8-4e8e-a70f-411a8a1a5c6c\" xlink:actuate=\"onRequest\" xlink:href=\"psysml:b4797686-9eb8-4e8e-a70f-411a8a1a5c6c\" xlink:show=\"new\" xlink:title=\"psysml:b4797686-9eb8-4e8e-a70f-411a8a1a5c6c\" xlink:type=\"simple\"><path d=\"M209.877,125.4701 C209.6546,125.5149 209.4281,125.5608 209.1978,125.6079 C208.737,125.702 208.2606,125.8006 207.769,125.9039 C205.8025,126.3169 203.5938,126.8041 201.1794,127.3719 C191.5219,129.6431 178.575,133.205 164.6925,138.4775 C136.9275,149.0225 105.42,166.41 89,194 C62.55,238.445 82.485,292.6775 109.5525,336.295 C123.0863,358.1038 138.4031,377.2587 150.5966,391.2097 C153.6449,394.6974 156.4981,397.8599 159.0793,400.6573 C160.37,402.056 161.5926,403.3634 162.7377,404.5745 C163.3103,405.1801 163.8635,405.7616 164.396,406.3185 C164.5292,406.4577 164.661,406.5953 164.7916,406.7314 \" fill=\"none\" id=\"E2-&gt;E6\" style=\"stroke: #A80036; stroke-width: 1.0; stroke-dasharray: 7.0,7.0;\"/><polygon fill=\"#A80036\" points=\"164.7916,406.7314,161.4484,397.4674,161.3305,403.123,155.6749,403.0051,164.7916,406.7314\" style=\"stroke: #A80036; stroke-width: 1.0;\"/><text fill=\"#000000\" font-family=\"sans-serif\" font-size=\"13\" lengthAdjust=\"spacingAndGlyphs\" textLength=\"65\" x=\"90\" y=\"207.0669\">«import»*</text></a><!--MD5=[e3d2a08a9c9236652057e8ed0cbc9b62]\n",
       "link E2 to E7--><a href=\"psysml:c873f416-4fb0-4522-b4d5-2fc0ff0d8008\" target=\"_top\" title=\"psysml:c873f416-4fb0-4522-b4d5-2fc0ff0d8008\" xlink:actuate=\"onRequest\" xlink:href=\"psysml:c873f416-4fb0-4522-b4d5-2fc0ff0d8008\" xlink:show=\"new\" xlink:title=\"psysml:c873f416-4fb0-4522-b4d5-2fc0ff0d8008\" xlink:type=\"simple\"><path d=\"M209.8469,130.2615 C209.6656,130.4079 209.482,130.5565 209.2962,130.7073 C208.9247,131.0089 208.5446,131.3194 208.1563,131.6385 C207.3799,132.2768 206.5713,132.9496 205.7358,133.6548 C199.0516,139.2966 190.6431,147.0119 183.1763,155.7113 C168.2425,173.11 157.075,194.445 171,211 C184.36,226.88 203.48,203.26 217,219 C230.97,235.27 232.1575,283.005 229.7613,327.29 C229.4617,332.8256 229.1062,338.3073 228.7126,343.667 C228.5159,346.3468 228.3096,348.9961 228.096,351.6063 C228.0693,351.9326 228.0425,352.2582 228.0156,352.5833 \" fill=\"none\" id=\"E2-&gt;E7\" style=\"stroke: #A80036; stroke-width: 1.0; stroke-dasharray: 7.0,7.0;\"/><polygon fill=\"#A80036\" points=\"228.0156,352.5833,232.7447,343.9441,228.4282,347.6003,224.772,343.2839,228.0156,352.5833\" style=\"stroke: #A80036; stroke-width: 1.0;\"/><text fill=\"#000000\" font-family=\"sans-serif\" font-size=\"13\" lengthAdjust=\"spacingAndGlyphs\" textLength=\"87\" x=\"172\" y=\"207.0669\">«import»*::**</text></a><!--MD5=[ca5a752d6098d8a44b3f88316e7452d1]\n",
       "link E3 to E8--><a href=\"psysml:bb41b158-76b0-47f5-886e-e2f97e00e6aa\" target=\"_top\" title=\"psysml:bb41b158-76b0-47f5-886e-e2f97e00e6aa\" xlink:actuate=\"onRequest\" xlink:href=\"psysml:bb41b158-76b0-47f5-886e-e2f97e00e6aa\" xlink:show=\"new\" xlink:title=\"psysml:bb41b158-76b0-47f5-886e-e2f97e00e6aa\" xlink:type=\"simple\"><path d=\"M335.65,146.11 C358.22,164.11 381.31,189.89 364,211 C352.51,225.02 336.72,206.08 324,219 C283.4,260.25 280.49,331.28 283.35,375.56 \" fill=\"none\" id=\"E3-&gt;E8\" style=\"stroke: #A80036; stroke-width: 1.0;\"/><polygon fill=\"#FFFFFF\" points=\"285.17,395.71,276.488,377.4173,290.4312,376.157,285.17,395.71\" style=\"stroke: #A80036; stroke-width: 1.0;\"/><ellipse cx=\"277.9668\" cy=\"371.5604\" fill=\"#A80036\" rx=\"2\" ry=\"2\" style=\"stroke: #A80036; stroke-width: 1.0;\"/><ellipse cx=\"287.9262\" cy=\"370.6602\" fill=\"#A80036\" rx=\"2\" ry=\"2\" style=\"stroke: #A80036; stroke-width: 1.0;\"/></a><!--MD5=[15ebcb19ae302d9b601edb458606d402]\n",
       "link E5 to E2--><a href=\"psysml:cb98c000-d2e0-4059-b3dc-41ff4d975042\" target=\"_top\" title=\"psysml:cb98c000-d2e0-4059-b3dc-41ff4d975042\" xlink:actuate=\"onRequest\" xlink:href=\"psysml:cb98c000-d2e0-4059-b3dc-41ff4d975042\" xlink:show=\"new\" xlink:title=\"psysml:cb98c000-d2e0-4059-b3dc-41ff4d975042\" xlink:type=\"simple\"><path d=\"M378.8691,234.9633 C378.4369,234.2811 378.0005,233.6019 377.56,232.9257 C376.679,231.5734 375.7812,230.2334 374.8664,228.9066 C373.0369,226.2531 371.1393,223.6526 369.171,221.1125 C361.298,210.952 352.295,201.7575 342,194 C323.31,179.92 255.27,200.62 237,186 C234.275,183.82 231.9314,181.2588 229.9168,178.4406 C228.9095,177.0315 227.9844,175.5581 227.1351,174.0361 C226.7104,173.2751 226.3046,172.5019 225.917,171.7185 C225.7231,171.3268 225.5338,170.9326 225.349,170.536 C225.3027,170.4368 225.2568,170.3375 225.2111,170.2381 \" fill=\"none\" id=\"E5-&gt;E2\" style=\"stroke: #A80036; stroke-width: 1.0; stroke-dasharray: 7.0,7.0;\"/><polygon fill=\"#A80036\" points=\"225.2111,170.2381,225.3326,180.0862,227.298,174.7818,232.6025,176.7472,225.2111,170.2381\" style=\"stroke: #A80036; stroke-width: 1.0;\"/><text fill=\"#000000\" font-family=\"sans-serif\" font-size=\"13\" lengthAdjust=\"spacingAndGlyphs\" textLength=\"65\" x=\"361\" y=\"207.0669\">«import»*</text></a><!--MD5=[d7bb3fb34add81b710575eb3799fa2ad]\n",
       "link E8 to E4--><a href=\"psysml:ff856c1d-ebaf-4dbc-8ba8-d8c60136e299\" target=\"_top\" title=\"psysml:ff856c1d-ebaf-4dbc-8ba8-d8c60136e299\" xlink:actuate=\"onRequest\" xlink:href=\"psysml:ff856c1d-ebaf-4dbc-8ba8-d8c60136e299\" xlink:show=\"new\" xlink:title=\"psysml:ff856c1d-ebaf-4dbc-8ba8-d8c60136e299\" xlink:type=\"simple\"><path d=\"M284.69,395.73 C279.07,355.79 272.78,263.97 324,219 C336.88,207.7 466.2,223.43 478,211 C494.2,193.93 479.12,172.42 459.77,155.05 \" fill=\"none\" id=\"E8-&gt;E4\" style=\"stroke: #A80036; stroke-width: 1.0;\"/><polygon fill=\"none\" points=\"455.36,160.48,444.24,142.45,464.18,149.61,455.36,160.48\" style=\"stroke: #A80036; stroke-width: 1.0;\"/></a><!--MD5=[8008bfb0ae7e4b359e4b57ddaba516ef]\n",
       "@startuml\r\n",
       " \r\n",
       "package \"ImportTest\" as E1  [[psysml:789e6656-6985-4918-a680-b12b42056b24 ]]  {\r\n",
       "package \"Pkg1\" as E2  [[psysml:9ed5d6a5-603c-4e6a-bfc8-60e703dcd2fe ]]  {\r\n",
       "comp usage \"p11: P211 \" as E3 << << (P,limegreen) part>> [[psysml:380b438c-f0d0-40f2-a10d-c83a46ac62de ]] {\r\n",
       "}\r\n",
       "comp def \"P12\" as E4 << << (B,green) >> [[psysml:4c18927e-9f3a-4bbe-ae04-0ff2b7ea0a78 ]] {\r\n",
       "}\r\n",
       "}\r\n",
       "package \"Pkg2\" as E5  [[psysml:63b0367b-32f1-46aa-9fe1-f934424c590d ]]  {\r\n",
       "package \"Pkg21\" as E6  [[psysml:98b17091-6ea5-4037-8451-bfddc724f9d0 ]]  {\r\n",
       "package \"Pkg211\" as E7  [[psysml:45f4d7ec-8fdd-4896-89d5-a877e9eb4cf9 ]]  {\r\n",
       "comp def \"P211\" as E8 << << (B,green) >> [[psysml:b4068f35-75bf-4c63-8263-9508faa965fc ]] {\r\n",
       "}\r\n",
       "}\r\n",
       "}\r\n",
       "}\r\n",
       "}\r\n",
       "E2 ..> E8 [[psysml:86dbe04c-b04a-4ec6-a347-5e4f000abe00 ]] : <<import>>\r\n",
       "E2 ..> E6 [[psysml:b4797686-9eb8-4e8e-a70f-411a8a1a5c6c ]] : <<import>>*\r\n",
       "E2 ..> E7 [[psysml:c873f416-4fb0-4522-b4d5-2fc0ff0d8008 ]] : <<import>>*::**\r\n",
       "E3 - -:|> E8 [[psysml:bb41b158-76b0-47f5-886e-e2f97e00e6aa ]] \r\n",
       "E5 ..> E2 [[psysml:cb98c000-d2e0-4059-b3dc-41ff4d975042 ]] : <<import>>*\r\n",
       "E8 - -|> E4 [[psysml:ff856c1d-ebaf-4dbc-8ba8-d8c60136e299 ]] \r\n",
       "@enduml\r\n",
       "\n",
       "PlantUML version 1.2020.13(Sat Jun 13 12:26:38 UTC 2020)\n",
       "(EPL source distribution)\n",
       "Java Runtime: OpenJDK Runtime Environment\n",
       "JVM: OpenJDK 64-Bit Server VM\n",
       "Default Encoding: UTF-8\n",
       "Language: en\n",
       "Country: null\n",
       "--></g></svg>"
      ]
     },
     "execution_count": 36,
     "metadata": {},
     "output_type": "execute_result"
    }
   ],
   "source": [
    "%viz --style=\"PLANTUML\" --view=\"MIXED\" \"ImportTest\""
   ]
  },
  {
   "cell_type": "code",
   "execution_count": 37,
   "id": "9310508d",
   "metadata": {
    "execution": {
     "iopub.execute_input": "2022-08-19T08:17:21.537430Z",
     "iopub.status.busy": "2022-08-19T08:17:21.536986Z",
     "iopub.status.idle": "2022-08-19T08:17:21.577892Z",
     "shell.execute_reply": "2022-08-19T08:17:21.576366Z"
    }
   },
   "outputs": [
    {
     "data": {
      "image/svg+xml": [
       "<?xml version=\"1.0\" encoding=\"UTF-8\" standalone=\"no\"?><svg xmlns=\"http://www.w3.org/2000/svg\" xmlns:xlink=\"http://www.w3.org/1999/xlink\" contentScriptType=\"application/ecmascript\" contentStyleType=\"text/css\" height=\"590px\" preserveAspectRatio=\"none\" style=\"width:522px;height:590px;\" version=\"1.1\" viewBox=\"0 0 522 590\" width=\"522px\" zoomAndPan=\"magnify\"><defs/><g><!--MD5=[fbc87193dbaf4d95561dea2c320d4a47]\n",
       "cluster E1--><a href=\"psysml:789e6656-6985-4918-a680-b12b42056b24\" target=\"_top\" title=\"psysml:789e6656-6985-4918-a680-b12b42056b24\" xlink:actuate=\"onRequest\" xlink:href=\"psysml:789e6656-6985-4918-a680-b12b42056b24\" xlink:show=\"new\" xlink:title=\"psysml:789e6656-6985-4918-a680-b12b42056b24\" xlink:type=\"simple\"><polygon fill=\"#FFFFFF\" points=\"16,6,97,6,104,28.2969,500,28.2969,500,578,16,578,16,6\" style=\"stroke: #000000; stroke-width: 1.5;\"/><line style=\"stroke: #000000; stroke-width: 1.5;\" x1=\"16\" x2=\"104\" y1=\"28.2969\" y2=\"28.2969\"/><text fill=\"#000000\" font-family=\"sans-serif\" font-size=\"14\" font-weight=\"bold\" lengthAdjust=\"spacingAndGlyphs\" textLength=\"75\" x=\"20\" y=\"20.9951\">ImportTest</text></a><!--MD5=[e4f7fae6ed58524ba242bb0b0d3be6b7]\n",
       "cluster E2--><a href=\"psysml:9ed5d6a5-603c-4e6a-bfc8-60e703dcd2fe\" target=\"_top\" title=\"psysml:9ed5d6a5-603c-4e6a-bfc8-60e703dcd2fe\" xlink:actuate=\"onRequest\" xlink:href=\"psysml:9ed5d6a5-603c-4e6a-bfc8-60e703dcd2fe\" xlink:show=\"new\" xlink:title=\"psysml:9ed5d6a5-603c-4e6a-bfc8-60e703dcd2fe\" xlink:type=\"simple\"><polygon fill=\"#FFFFFF\" points=\"222,57,263,57,270,79.2969,468,79.2969,468,170,222,170,222,57\" style=\"stroke: #000000; stroke-width: 1.5;\"/><line style=\"stroke: #000000; stroke-width: 1.5;\" x1=\"222\" x2=\"270\" y1=\"79.2969\" y2=\"79.2969\"/><text fill=\"#000000\" font-family=\"sans-serif\" font-size=\"14\" font-weight=\"bold\" lengthAdjust=\"spacingAndGlyphs\" textLength=\"35\" x=\"226\" y=\"71.9951\">Pkg1</text></a><!--MD5=[de5ec2e2e8f62f467e546659f5068c88]\n",
       "cluster E5--><a href=\"psysml:63b0367b-32f1-46aa-9fe1-f934424c590d\" target=\"_top\" title=\"psysml:63b0367b-32f1-46aa-9fe1-f934424c590d\" xlink:actuate=\"onRequest\" xlink:href=\"psysml:63b0367b-32f1-46aa-9fe1-f934424c590d\" xlink:show=\"new\" xlink:title=\"psysml:63b0367b-32f1-46aa-9fe1-f934424c590d\" xlink:type=\"simple\"><polygon fill=\"#FFFFFF\" points=\"121,235,162,235,169,257.2969,434,257.2969,434,546,121,546,121,235\" style=\"stroke: #000000; stroke-width: 1.5;\"/><line style=\"stroke: #000000; stroke-width: 1.5;\" x1=\"121\" x2=\"169\" y1=\"257.2969\" y2=\"257.2969\"/><text fill=\"#000000\" font-family=\"sans-serif\" font-size=\"14\" font-weight=\"bold\" lengthAdjust=\"spacingAndGlyphs\" textLength=\"35\" x=\"125\" y=\"249.9951\">Pkg2</text></a><!--MD5=[14e3b0961a2654348d326746436168a1]\n",
       "cluster E6--><a href=\"psysml:98b17091-6ea5-4037-8451-bfddc724f9d0\" target=\"_top\" title=\"psysml:98b17091-6ea5-4037-8451-bfddc724f9d0\" xlink:actuate=\"onRequest\" xlink:href=\"psysml:98b17091-6ea5-4037-8451-bfddc724f9d0\" xlink:show=\"new\" xlink:title=\"psysml:98b17091-6ea5-4037-8451-bfddc724f9d0\" xlink:type=\"simple\"><polygon fill=\"#FFFFFF\" points=\"161,294,211,294,218,316.2969,386,316.2969,386,506,161,506,161,294\" style=\"stroke: #000000; stroke-width: 1.5;\"/><line style=\"stroke: #000000; stroke-width: 1.5;\" x1=\"161\" x2=\"218\" y1=\"316.2969\" y2=\"316.2969\"/><text fill=\"#000000\" font-family=\"sans-serif\" font-size=\"14\" font-weight=\"bold\" lengthAdjust=\"spacingAndGlyphs\" textLength=\"44\" x=\"165\" y=\"308.9951\">Pkg21</text></a><!--MD5=[168fadf3d0c3fd93dd5d6da1b1d7ab76]\n",
       "cluster E7--><a href=\"psysml:45f4d7ec-8fdd-4896-89d5-a877e9eb4cf9\" target=\"_top\" title=\"psysml:45f4d7ec-8fdd-4896-89d5-a877e9eb4cf9\" xlink:actuate=\"onRequest\" xlink:href=\"psysml:45f4d7ec-8fdd-4896-89d5-a877e9eb4cf9\" xlink:show=\"new\" xlink:title=\"psysml:45f4d7ec-8fdd-4896-89d5-a877e9eb4cf9\" xlink:type=\"simple\"><polygon fill=\"#FFFFFF\" points=\"209,353,268,353,275,375.2969,346,375.2969,346,466,209,466,209,353\" style=\"stroke: #000000; stroke-width: 1.5;\"/><line style=\"stroke: #000000; stroke-width: 1.5;\" x1=\"209\" x2=\"275\" y1=\"375.2969\" y2=\"375.2969\"/><text fill=\"#000000\" font-family=\"sans-serif\" font-size=\"14\" font-weight=\"bold\" lengthAdjust=\"spacingAndGlyphs\" textLength=\"53\" x=\"213\" y=\"367.9951\">Pkg211</text></a><!--MD5=[09b614a08d8cba4a07c9adeb5e0fee81]\n",
       "class E3--><a href=\"psysml:380b438c-f0d0-40f2-a10d-c83a46ac62de\" target=\"_top\" title=\"psysml:380b438c-f0d0-40f2-a10d-c83a46ac62de\" xlink:actuate=\"onRequest\" xlink:href=\"psysml:380b438c-f0d0-40f2-a10d-c83a46ac62de\" xlink:show=\"new\" xlink:title=\"psysml:380b438c-f0d0-40f2-a10d-c83a46ac62de\" xlink:type=\"simple\"><rect fill=\"#FFFFFF\" height=\"45.9375\" id=\"E3\" rx=\"10\" ry=\"10\" style=\"stroke: #383838; stroke-width: 1.5;\" width=\"74\" x=\"265\" y=\"100\"/><text fill=\"#000000\" font-family=\"sans-serif\" font-size=\"12\" font-style=\"italic\" lengthAdjust=\"spacingAndGlyphs\" textLength=\"40\" x=\"282\" y=\"116.1387\">«part»</text><text fill=\"#000000\" font-family=\"sans-serif\" font-size=\"12\" lengthAdjust=\"spacingAndGlyphs\" textLength=\"64\" x=\"268\" y=\"130.1074\">p11: P211</text><line style=\"stroke: #383838; stroke-width: 1.5;\" x1=\"266\" x2=\"338\" y1=\"137.9375\" y2=\"137.9375\"/></a><!--MD5=[ebbe1d658d1005bcc118a6aa81145e00]\n",
       "class E4--><a href=\"psysml:4c18927e-9f3a-4bbe-ae04-0ff2b7ea0a78\" target=\"_top\" title=\"psysml:4c18927e-9f3a-4bbe-ae04-0ff2b7ea0a78\" xlink:actuate=\"onRequest\" xlink:href=\"psysml:4c18927e-9f3a-4bbe-ae04-0ff2b7ea0a78\" xlink:show=\"new\" xlink:title=\"psysml:4c18927e-9f3a-4bbe-ae04-0ff2b7ea0a78\" xlink:type=\"simple\"><rect fill=\"#FFFFFF\" height=\"45.9375\" id=\"E4\" style=\"stroke: #383838; stroke-width: 1.5;\" width=\"70\" x=\"374\" y=\"100\"/><text fill=\"#000000\" font-family=\"sans-serif\" font-size=\"12\" font-style=\"italic\" lengthAdjust=\"spacingAndGlyphs\" textLength=\"68\" x=\"375\" y=\"116.1387\">«part  def»</text><text fill=\"#000000\" font-family=\"sans-serif\" font-size=\"12\" lengthAdjust=\"spacingAndGlyphs\" textLength=\"24\" x=\"397\" y=\"130.1074\">P12</text><line style=\"stroke: #383838; stroke-width: 1.5;\" x1=\"375\" x2=\"443\" y1=\"137.9375\" y2=\"137.9375\"/></a><!--MD5=[b9389687b975829384b498ac4b7476b2]\n",
       "class E8--><a href=\"psysml:b4068f35-75bf-4c63-8263-9508faa965fc\" target=\"_top\" title=\"psysml:b4068f35-75bf-4c63-8263-9508faa965fc\" xlink:actuate=\"onRequest\" xlink:href=\"psysml:b4068f35-75bf-4c63-8263-9508faa965fc\" xlink:show=\"new\" xlink:title=\"psysml:b4068f35-75bf-4c63-8263-9508faa965fc\" xlink:type=\"simple\"><rect fill=\"#FFFFFF\" height=\"45.9375\" id=\"E8\" style=\"stroke: #383838; stroke-width: 1.5;\" width=\"70\" x=\"252\" y=\"396\"/><text fill=\"#000000\" font-family=\"sans-serif\" font-size=\"12\" font-style=\"italic\" lengthAdjust=\"spacingAndGlyphs\" textLength=\"68\" x=\"253\" y=\"412.1387\">«part  def»</text><text fill=\"#000000\" font-family=\"sans-serif\" font-size=\"12\" lengthAdjust=\"spacingAndGlyphs\" textLength=\"32\" x=\"271\" y=\"426.1074\">P211</text><line style=\"stroke: #383838; stroke-width: 1.5;\" x1=\"253\" x2=\"321\" y1=\"433.9375\" y2=\"433.9375\"/></a><!--MD5=[b0060bfdb0500b904584095522b4da3c]\n",
       "link E2 to E8--><a href=\"psysml:86dbe04c-b04a-4ec6-a347-5e4f000abe00\" target=\"_top\" title=\"psysml:86dbe04c-b04a-4ec6-a347-5e4f000abe00\" xlink:actuate=\"onRequest\" xlink:href=\"psysml:86dbe04c-b04a-4ec6-a347-5e4f000abe00\" xlink:show=\"new\" xlink:title=\"psysml:86dbe04c-b04a-4ec6-a347-5e4f000abe00\" xlink:type=\"simple\"><path d=\"M239.5673,170.044 C239.9187,170.8643 240.2829,171.6796 240.6605,172.4884 C241.4156,174.106 242.2242,175.6975 243.0899,177.2503 C244.8213,180.3558 246.7813,183.3063 249,186 C253.8,191.83 259.79,187.73 264,194 C304.62,254.46 298.3,345.57 291.84,390.69 \" fill=\"none\" id=\"E2-&gt;E8\" style=\"stroke: #383838; stroke-width: 1.0; stroke-dasharray: 7.0,7.0;\"/><polygon fill=\"#383838\" points=\"291.1,395.69,296.3662,387.3673,291.8271,390.7431,288.4512,386.204,291.1,395.69\" style=\"stroke: #383838; stroke-width: 1.0;\"/><text fill=\"#000000\" font-family=\"sans-serif\" font-size=\"13\" lengthAdjust=\"spacingAndGlyphs\" textLength=\"58\" x=\"274\" y=\"207.0669\">«import»</text></a><!--MD5=[e3e28c1befcf002155aa15e1416b4315]\n",
       "link E2 to E6--><a href=\"psysml:b4797686-9eb8-4e8e-a70f-411a8a1a5c6c\" target=\"_top\" title=\"psysml:b4797686-9eb8-4e8e-a70f-411a8a1a5c6c\" xlink:actuate=\"onRequest\" xlink:href=\"psysml:b4797686-9eb8-4e8e-a70f-411a8a1a5c6c\" xlink:show=\"new\" xlink:title=\"psysml:b4797686-9eb8-4e8e-a70f-411a8a1a5c6c\" xlink:type=\"simple\"><path d=\"M221.7454,125.2359 C221.6297,125.2555 221.5129,125.2754 221.395,125.2955 C221.1593,125.3358 220.9193,125.3771 220.6752,125.4195 C220.1869,125.5042 219.6819,125.5933 219.1609,125.6868 C217.0769,126.0607 214.7359,126.5053 212.1769,127.0288 C201.9406,129.1225 188.215,132.4775 173.4875,137.615 C144.0325,147.89 110.57,165.295 93,194 C65.99,238.135 83.98,293.0875 109.2162,337.5175 C121.8344,359.7325 136.2641,379.3169 147.7861,393.6031 C150.6666,397.1747 153.3654,400.4151 155.8087,403.2827 C157.0304,404.7165 158.1881,406.0571 159.2728,407.2993 C159.8152,407.9204 160.3393,408.5169 160.8439,409.0882 \" fill=\"none\" id=\"E2-&gt;E6\" style=\"stroke: #383838; stroke-width: 1.0; stroke-dasharray: 7.0,7.0;\"/><polygon fill=\"#383838\" points=\"160.8439,409.0882,157.8829,399.695,157.5335,405.341,151.8875,404.9916,160.8439,409.0882\" style=\"stroke: #383838; stroke-width: 1.0;\"/><text fill=\"#000000\" font-family=\"sans-serif\" font-size=\"13\" lengthAdjust=\"spacingAndGlyphs\" textLength=\"65\" x=\"94\" y=\"207.0669\">«import»*</text></a><!--MD5=[e3d2a08a9c9236652057e8ed0cbc9b62]\n",
       "link E2 to E7--><a href=\"psysml:c873f416-4fb0-4522-b4d5-2fc0ff0d8008\" target=\"_top\" title=\"psysml:c873f416-4fb0-4522-b4d5-2fc0ff0d8008\" xlink:actuate=\"onRequest\" xlink:href=\"psysml:c873f416-4fb0-4522-b4d5-2fc0ff0d8008\" xlink:show=\"new\" xlink:title=\"psysml:c873f416-4fb0-4522-b4d5-2fc0ff0d8008\" xlink:type=\"simple\"><path d=\"M221.8807,130.2617 C221.7401,130.3761 221.5982,130.4918 221.4548,130.6091 C216.8678,134.36 210.8594,139.5688 204.5113,145.875 C191.815,158.4875 177.76,175.49 171,194 C168.41,201.1 166.18,205.18 171,211 C183.11,225.64 200.74,204.48 213,219 C227.045,235.63 228.2325,284.0975 225.8175,329.0338 C225.5156,334.6508 225.1575,340.2126 224.7611,345.6502 C224.662,347.0096 224.5605,348.3613 224.4569,349.7041 C224.4051,350.3755 224.3528,351.0446 224.3,351.7115 C224.2736,352.0449 224.2471,352.3777 224.2204,352.71 \" fill=\"none\" id=\"E2-&gt;E7\" style=\"stroke: #383838; stroke-width: 1.0; stroke-dasharray: 7.0,7.0;\"/><polygon fill=\"#383838\" points=\"224.2204,352.71,228.9272,344.0586,224.6202,347.726,220.9528,343.419,224.2204,352.71\" style=\"stroke: #383838; stroke-width: 1.0;\"/><text fill=\"#000000\" font-family=\"sans-serif\" font-size=\"13\" lengthAdjust=\"spacingAndGlyphs\" textLength=\"87\" x=\"172\" y=\"207.0669\">«import»*::**</text></a><!--MD5=[ca5a752d6098d8a44b3f88316e7452d1]\n",
       "link E3 to E8--><a href=\"psysml:bb41b158-76b0-47f5-886e-e2f97e00e6aa\" target=\"_top\" title=\"psysml:bb41b158-76b0-47f5-886e-e2f97e00e6aa\" xlink:actuate=\"onRequest\" xlink:href=\"psysml:bb41b158-76b0-47f5-886e-e2f97e00e6aa\" xlink:show=\"new\" xlink:title=\"psysml:bb41b158-76b0-47f5-886e-e2f97e00e6aa\" xlink:type=\"simple\"><path d=\"M321.59,146.07 C339.73,166.51 363.93,193.81 364,194 C366.68,201.06 368.76,205.13 364,211 C353.13,224.4 338.12,206.71 326,219 C285.31,260.27 280.82,330.75 282.81,375.81 \" fill=\"none\" id=\"E3-&gt;E8\" style=\"stroke: #383838; stroke-width: 1.0;\"/><polygon fill=\"#FFFFFF\" points=\"284.19,395.93,275.9039,377.4546,289.8709,376.4948,284.19,395.93\" style=\"stroke: #383838; stroke-width: 1.0;\"/><ellipse cx=\"277.5084\" cy=\"371.6309\" fill=\"#383838\" rx=\"2\" ry=\"2\" style=\"stroke: #383838; stroke-width: 1.0;\"/><ellipse cx=\"287.4849\" cy=\"370.9453\" fill=\"#383838\" rx=\"2\" ry=\"2\" style=\"stroke: #383838; stroke-width: 1.0;\"/></a><!--MD5=[15ebcb19ae302d9b601edb458606d402]\n",
       "link E5 to E2--><a href=\"psysml:cb98c000-d2e0-4059-b3dc-41ff4d975042\" target=\"_top\" title=\"psysml:cb98c000-d2e0-4059-b3dc-41ff4d975042\" xlink:actuate=\"onRequest\" xlink:href=\"psysml:cb98c000-d2e0-4059-b3dc-41ff4d975042\" xlink:show=\"new\" xlink:title=\"psysml:cb98c000-d2e0-4059-b3dc-41ff4d975042\" xlink:type=\"simple\"><path d=\"M377.9071,234.5987 C377.6837,234.254 377.4593,233.91 377.2338,233.5668 C376.3317,232.1941 375.413,230.8338 374.4773,229.4868 C372.6059,226.7928 370.6665,224.152 368.6567,221.572 C360.6175,211.2517 351.4513,201.9025 341,194 C324.63,181.62 264.96,198.91 249,186 C246.2863,183.805 243.9511,181.2325 241.9426,178.4061 C240.9384,176.9929 240.0159,175.5163 239.1685,173.9916 C238.7448,173.2292 238.3399,172.4549 237.953,171.6705 C237.7596,171.2782 237.5706,170.8835 237.3861,170.4865 C237.3399,170.3873 237.2941,170.2879 237.2485,170.1883 \" fill=\"none\" id=\"E5-&gt;E2\" style=\"stroke: #383838; stroke-width: 1.0; stroke-dasharray: 7.0,7.0;\"/><polygon fill=\"#383838\" points=\"237.2485,170.1883,237.3599,180.0366,239.3307,174.7341,244.6331,176.705,237.2485,170.1883\" style=\"stroke: #383838; stroke-width: 1.0;\"/><text fill=\"#000000\" font-family=\"sans-serif\" font-size=\"13\" lengthAdjust=\"spacingAndGlyphs\" textLength=\"65\" x=\"356\" y=\"207.0669\">«import»*</text></a><!--MD5=[d7bb3fb34add81b710575eb3799fa2ad]\n",
       "link E8 to E4--><a href=\"psysml:ff856c1d-ebaf-4dbc-8ba8-d8c60136e299\" target=\"_top\" title=\"psysml:ff856c1d-ebaf-4dbc-8ba8-d8c60136e299\" xlink:actuate=\"onRequest\" xlink:href=\"psysml:ff856c1d-ebaf-4dbc-8ba8-d8c60136e299\" xlink:show=\"new\" xlink:title=\"psysml:ff856c1d-ebaf-4dbc-8ba8-d8c60136e299\" xlink:type=\"simple\"><path d=\"M283.6,395.87 C278.58,354.03 274.69,263.54 326,219 C338.77,207.91 466.36,223.27 478,211 C493.94,194.2 479.72,174.01 460.15,157.31 \" fill=\"none\" id=\"E8-&gt;E4\" style=\"stroke: #383838; stroke-width: 1.0;\"/><polygon fill=\"none\" points=\"455.78,162.78,444.15,145.06,464.29,151.66,455.78,162.78\" style=\"stroke: #383838; stroke-width: 1.0;\"/></a><!--MD5=[e8f9eb849d0ccc493ca4b4d97b81650f]\n",
       "@startuml\r\n",
       "skinparam monochrome true\r\n",
       "skinparam classbackgroundcolor white\r\n",
       "skinparam shadowing false\r\n",
       "skinparam wrapWidth 300\r\n",
       "hide circle\r\n",
       "\r\n",
       "package \"ImportTest\" as E1  [[psysml:789e6656-6985-4918-a680-b12b42056b24 ]]  {\r\n",
       "package \"Pkg1\" as E2  [[psysml:9ed5d6a5-603c-4e6a-bfc8-60e703dcd2fe ]]  {\r\n",
       "comp usage \"p11: P211 \" as E3  <<(T,blue) part>> [[psysml:380b438c-f0d0-40f2-a10d-c83a46ac62de ]] {\r\n",
       "}\r\n",
       "comp def \"P12\" as E4  <<(T,blue) part  def>> [[psysml:4c18927e-9f3a-4bbe-ae04-0ff2b7ea0a78 ]] {\r\n",
       "}\r\n",
       "}\r\n",
       "package \"Pkg2\" as E5  [[psysml:63b0367b-32f1-46aa-9fe1-f934424c590d ]]  {\r\n",
       "package \"Pkg21\" as E6  [[psysml:98b17091-6ea5-4037-8451-bfddc724f9d0 ]]  {\r\n",
       "package \"Pkg211\" as E7  [[psysml:45f4d7ec-8fdd-4896-89d5-a877e9eb4cf9 ]]  {\r\n",
       "comp def \"P211\" as E8  <<(T,blue) part  def>> [[psysml:b4068f35-75bf-4c63-8263-9508faa965fc ]] {\r\n",
       "}\r\n",
       "}\r\n",
       "}\r\n",
       "}\r\n",
       "}\r\n",
       "E2 ..> E8 [[psysml:86dbe04c-b04a-4ec6-a347-5e4f000abe00 ]] : <<import>>\r\n",
       "E2 ..> E6 [[psysml:b4797686-9eb8-4e8e-a70f-411a8a1a5c6c ]] : <<import>>*\r\n",
       "E2 ..> E7 [[psysml:c873f416-4fb0-4522-b4d5-2fc0ff0d8008 ]] : <<import>>*::**\r\n",
       "E3 - -:|> E8 [[psysml:bb41b158-76b0-47f5-886e-e2f97e00e6aa ]] \r\n",
       "E5 ..> E2 [[psysml:cb98c000-d2e0-4059-b3dc-41ff4d975042 ]] : <<import>>*\r\n",
       "E8 - -|> E4 [[psysml:ff856c1d-ebaf-4dbc-8ba8-d8c60136e299 ]] \r\n",
       "@enduml\r\n",
       "\n",
       "PlantUML version 1.2020.13(Sat Jun 13 12:26:38 UTC 2020)\n",
       "(EPL source distribution)\n",
       "Java Runtime: OpenJDK Runtime Environment\n",
       "JVM: OpenJDK 64-Bit Server VM\n",
       "Default Encoding: UTF-8\n",
       "Language: en\n",
       "Country: null\n",
       "--></g></svg>"
      ]
     },
     "execution_count": 37,
     "metadata": {},
     "output_type": "execute_result"
    }
   ],
   "source": [
    "%viz --style=\"DEFAULT\" --view=\"Default\" \"ImportTest\""
   ]
  },
  {
   "cell_type": "code",
   "execution_count": 38,
   "id": "ae7ab857",
   "metadata": {
    "execution": {
     "iopub.execute_input": "2022-08-19T08:17:21.627310Z",
     "iopub.status.busy": "2022-08-19T08:17:21.626837Z",
     "iopub.status.idle": "2022-08-19T08:17:21.662839Z",
     "shell.execute_reply": "2022-08-19T08:17:21.662363Z"
    }
   },
   "outputs": [
    {
     "data": {
      "image/svg+xml": [
       "<?xml version=\"1.0\" encoding=\"UTF-8\" standalone=\"no\"?><svg xmlns=\"http://www.w3.org/2000/svg\" xmlns:xlink=\"http://www.w3.org/1999/xlink\" contentScriptType=\"application/ecmascript\" contentStyleType=\"text/css\" height=\"590px\" preserveAspectRatio=\"none\" style=\"width:522px;height:590px;\" version=\"1.1\" viewBox=\"0 0 522 590\" width=\"522px\" zoomAndPan=\"magnify\"><defs/><g><!--MD5=[fbc87193dbaf4d95561dea2c320d4a47]\n",
       "cluster E1--><a href=\"psysml:789e6656-6985-4918-a680-b12b42056b24\" target=\"_top\" title=\"psysml:789e6656-6985-4918-a680-b12b42056b24\" xlink:actuate=\"onRequest\" xlink:href=\"psysml:789e6656-6985-4918-a680-b12b42056b24\" xlink:show=\"new\" xlink:title=\"psysml:789e6656-6985-4918-a680-b12b42056b24\" xlink:type=\"simple\"><polygon fill=\"#FFFFFF\" points=\"16,6,97,6,104,28.2969,500,28.2969,500,578,16,578,16,6\" style=\"stroke: #000000; stroke-width: 1.5;\"/><line style=\"stroke: #000000; stroke-width: 1.5;\" x1=\"16\" x2=\"104\" y1=\"28.2969\" y2=\"28.2969\"/><text fill=\"#000000\" font-family=\"sans-serif\" font-size=\"14\" font-weight=\"bold\" lengthAdjust=\"spacingAndGlyphs\" textLength=\"75\" x=\"20\" y=\"20.9951\">ImportTest</text></a><!--MD5=[e4f7fae6ed58524ba242bb0b0d3be6b7]\n",
       "cluster E2--><a href=\"psysml:9ed5d6a5-603c-4e6a-bfc8-60e703dcd2fe\" target=\"_top\" title=\"psysml:9ed5d6a5-603c-4e6a-bfc8-60e703dcd2fe\" xlink:actuate=\"onRequest\" xlink:href=\"psysml:9ed5d6a5-603c-4e6a-bfc8-60e703dcd2fe\" xlink:show=\"new\" xlink:title=\"psysml:9ed5d6a5-603c-4e6a-bfc8-60e703dcd2fe\" xlink:type=\"simple\"><polygon fill=\"#FFFFFF\" points=\"222,57,263,57,270,79.2969,468,79.2969,468,170,222,170,222,57\" style=\"stroke: #000000; stroke-width: 1.5;\"/><line style=\"stroke: #000000; stroke-width: 1.5;\" x1=\"222\" x2=\"270\" y1=\"79.2969\" y2=\"79.2969\"/><text fill=\"#000000\" font-family=\"sans-serif\" font-size=\"14\" font-weight=\"bold\" lengthAdjust=\"spacingAndGlyphs\" textLength=\"35\" x=\"226\" y=\"71.9951\">Pkg1</text></a><!--MD5=[de5ec2e2e8f62f467e546659f5068c88]\n",
       "cluster E5--><a href=\"psysml:63b0367b-32f1-46aa-9fe1-f934424c590d\" target=\"_top\" title=\"psysml:63b0367b-32f1-46aa-9fe1-f934424c590d\" xlink:actuate=\"onRequest\" xlink:href=\"psysml:63b0367b-32f1-46aa-9fe1-f934424c590d\" xlink:show=\"new\" xlink:title=\"psysml:63b0367b-32f1-46aa-9fe1-f934424c590d\" xlink:type=\"simple\"><polygon fill=\"#FFFFFF\" points=\"121,235,162,235,169,257.2969,434,257.2969,434,546,121,546,121,235\" style=\"stroke: #000000; stroke-width: 1.5;\"/><line style=\"stroke: #000000; stroke-width: 1.5;\" x1=\"121\" x2=\"169\" y1=\"257.2969\" y2=\"257.2969\"/><text fill=\"#000000\" font-family=\"sans-serif\" font-size=\"14\" font-weight=\"bold\" lengthAdjust=\"spacingAndGlyphs\" textLength=\"35\" x=\"125\" y=\"249.9951\">Pkg2</text></a><!--MD5=[14e3b0961a2654348d326746436168a1]\n",
       "cluster E6--><a href=\"psysml:98b17091-6ea5-4037-8451-bfddc724f9d0\" target=\"_top\" title=\"psysml:98b17091-6ea5-4037-8451-bfddc724f9d0\" xlink:actuate=\"onRequest\" xlink:href=\"psysml:98b17091-6ea5-4037-8451-bfddc724f9d0\" xlink:show=\"new\" xlink:title=\"psysml:98b17091-6ea5-4037-8451-bfddc724f9d0\" xlink:type=\"simple\"><polygon fill=\"#FFFFFF\" points=\"161,294,211,294,218,316.2969,386,316.2969,386,506,161,506,161,294\" style=\"stroke: #000000; stroke-width: 1.5;\"/><line style=\"stroke: #000000; stroke-width: 1.5;\" x1=\"161\" x2=\"218\" y1=\"316.2969\" y2=\"316.2969\"/><text fill=\"#000000\" font-family=\"sans-serif\" font-size=\"14\" font-weight=\"bold\" lengthAdjust=\"spacingAndGlyphs\" textLength=\"44\" x=\"165\" y=\"308.9951\">Pkg21</text></a><!--MD5=[168fadf3d0c3fd93dd5d6da1b1d7ab76]\n",
       "cluster E7--><a href=\"psysml:45f4d7ec-8fdd-4896-89d5-a877e9eb4cf9\" target=\"_top\" title=\"psysml:45f4d7ec-8fdd-4896-89d5-a877e9eb4cf9\" xlink:actuate=\"onRequest\" xlink:href=\"psysml:45f4d7ec-8fdd-4896-89d5-a877e9eb4cf9\" xlink:show=\"new\" xlink:title=\"psysml:45f4d7ec-8fdd-4896-89d5-a877e9eb4cf9\" xlink:type=\"simple\"><polygon fill=\"#FFFFFF\" points=\"209,353,268,353,275,375.2969,346,375.2969,346,466,209,466,209,353\" style=\"stroke: #000000; stroke-width: 1.5;\"/><line style=\"stroke: #000000; stroke-width: 1.5;\" x1=\"209\" x2=\"275\" y1=\"375.2969\" y2=\"375.2969\"/><text fill=\"#000000\" font-family=\"sans-serif\" font-size=\"14\" font-weight=\"bold\" lengthAdjust=\"spacingAndGlyphs\" textLength=\"53\" x=\"213\" y=\"367.9951\">Pkg211</text></a><!--MD5=[09b614a08d8cba4a07c9adeb5e0fee81]\n",
       "class E3--><a href=\"psysml:380b438c-f0d0-40f2-a10d-c83a46ac62de\" target=\"_top\" title=\"psysml:380b438c-f0d0-40f2-a10d-c83a46ac62de\" xlink:actuate=\"onRequest\" xlink:href=\"psysml:380b438c-f0d0-40f2-a10d-c83a46ac62de\" xlink:show=\"new\" xlink:title=\"psysml:380b438c-f0d0-40f2-a10d-c83a46ac62de\" xlink:type=\"simple\"><rect fill=\"#FFFFFF\" height=\"45.9375\" id=\"E3\" rx=\"10\" ry=\"10\" style=\"stroke: #383838; stroke-width: 1.5;\" width=\"74\" x=\"265\" y=\"100\"/><text fill=\"#000000\" font-family=\"sans-serif\" font-size=\"12\" font-style=\"italic\" lengthAdjust=\"spacingAndGlyphs\" textLength=\"40\" x=\"282\" y=\"116.1387\">«part»</text><text fill=\"#000000\" font-family=\"sans-serif\" font-size=\"12\" lengthAdjust=\"spacingAndGlyphs\" textLength=\"64\" x=\"268\" y=\"130.1074\">p11: P211</text><line style=\"stroke: #383838; stroke-width: 1.5;\" x1=\"266\" x2=\"338\" y1=\"137.9375\" y2=\"137.9375\"/></a><!--MD5=[ebbe1d658d1005bcc118a6aa81145e00]\n",
       "class E4--><a href=\"psysml:4c18927e-9f3a-4bbe-ae04-0ff2b7ea0a78\" target=\"_top\" title=\"psysml:4c18927e-9f3a-4bbe-ae04-0ff2b7ea0a78\" xlink:actuate=\"onRequest\" xlink:href=\"psysml:4c18927e-9f3a-4bbe-ae04-0ff2b7ea0a78\" xlink:show=\"new\" xlink:title=\"psysml:4c18927e-9f3a-4bbe-ae04-0ff2b7ea0a78\" xlink:type=\"simple\"><rect fill=\"#FFFFFF\" height=\"45.9375\" id=\"E4\" style=\"stroke: #383838; stroke-width: 1.5;\" width=\"70\" x=\"374\" y=\"100\"/><text fill=\"#000000\" font-family=\"sans-serif\" font-size=\"12\" font-style=\"italic\" lengthAdjust=\"spacingAndGlyphs\" textLength=\"68\" x=\"375\" y=\"116.1387\">«part  def»</text><text fill=\"#000000\" font-family=\"sans-serif\" font-size=\"12\" lengthAdjust=\"spacingAndGlyphs\" textLength=\"24\" x=\"397\" y=\"130.1074\">P12</text><line style=\"stroke: #383838; stroke-width: 1.5;\" x1=\"375\" x2=\"443\" y1=\"137.9375\" y2=\"137.9375\"/></a><!--MD5=[b9389687b975829384b498ac4b7476b2]\n",
       "class E8--><a href=\"psysml:b4068f35-75bf-4c63-8263-9508faa965fc\" target=\"_top\" title=\"psysml:b4068f35-75bf-4c63-8263-9508faa965fc\" xlink:actuate=\"onRequest\" xlink:href=\"psysml:b4068f35-75bf-4c63-8263-9508faa965fc\" xlink:show=\"new\" xlink:title=\"psysml:b4068f35-75bf-4c63-8263-9508faa965fc\" xlink:type=\"simple\"><rect fill=\"#FFFFFF\" height=\"45.9375\" id=\"E8\" style=\"stroke: #383838; stroke-width: 1.5;\" width=\"70\" x=\"252\" y=\"396\"/><text fill=\"#000000\" font-family=\"sans-serif\" font-size=\"12\" font-style=\"italic\" lengthAdjust=\"spacingAndGlyphs\" textLength=\"68\" x=\"253\" y=\"412.1387\">«part  def»</text><text fill=\"#000000\" font-family=\"sans-serif\" font-size=\"12\" lengthAdjust=\"spacingAndGlyphs\" textLength=\"32\" x=\"271\" y=\"426.1074\">P211</text><line style=\"stroke: #383838; stroke-width: 1.5;\" x1=\"253\" x2=\"321\" y1=\"433.9375\" y2=\"433.9375\"/></a><!--MD5=[b0060bfdb0500b904584095522b4da3c]\n",
       "link E2 to E8--><a href=\"psysml:86dbe04c-b04a-4ec6-a347-5e4f000abe00\" target=\"_top\" title=\"psysml:86dbe04c-b04a-4ec6-a347-5e4f000abe00\" xlink:actuate=\"onRequest\" xlink:href=\"psysml:86dbe04c-b04a-4ec6-a347-5e4f000abe00\" xlink:show=\"new\" xlink:title=\"psysml:86dbe04c-b04a-4ec6-a347-5e4f000abe00\" xlink:type=\"simple\"><path d=\"M239.5673,170.044 C239.9187,170.8643 240.2829,171.6796 240.6605,172.4884 C241.4156,174.106 242.2242,175.6975 243.0899,177.2503 C244.8213,180.3558 246.7813,183.3063 249,186 C253.8,191.83 259.79,187.73 264,194 C304.62,254.46 298.3,345.57 291.84,390.69 \" fill=\"none\" id=\"E2-&gt;E8\" style=\"stroke: #383838; stroke-width: 1.0; stroke-dasharray: 7.0,7.0;\"/><polygon fill=\"#383838\" points=\"291.1,395.69,296.3662,387.3673,291.8271,390.7431,288.4512,386.204,291.1,395.69\" style=\"stroke: #383838; stroke-width: 1.0;\"/><text fill=\"#000000\" font-family=\"sans-serif\" font-size=\"13\" lengthAdjust=\"spacingAndGlyphs\" textLength=\"58\" x=\"274\" y=\"207.0669\">«import»</text></a><!--MD5=[e3e28c1befcf002155aa15e1416b4315]\n",
       "link E2 to E6--><a href=\"psysml:b4797686-9eb8-4e8e-a70f-411a8a1a5c6c\" target=\"_top\" title=\"psysml:b4797686-9eb8-4e8e-a70f-411a8a1a5c6c\" xlink:actuate=\"onRequest\" xlink:href=\"psysml:b4797686-9eb8-4e8e-a70f-411a8a1a5c6c\" xlink:show=\"new\" xlink:title=\"psysml:b4797686-9eb8-4e8e-a70f-411a8a1a5c6c\" xlink:type=\"simple\"><path d=\"M221.7454,125.2359 C221.6297,125.2555 221.5129,125.2754 221.395,125.2955 C221.1593,125.3358 220.9193,125.3771 220.6752,125.4195 C220.1869,125.5042 219.6819,125.5933 219.1609,125.6868 C217.0769,126.0607 214.7359,126.5053 212.1769,127.0288 C201.9406,129.1225 188.215,132.4775 173.4875,137.615 C144.0325,147.89 110.57,165.295 93,194 C65.99,238.135 83.98,293.0875 109.2162,337.5175 C121.8344,359.7325 136.2641,379.3169 147.7861,393.6031 C150.6666,397.1747 153.3654,400.4151 155.8087,403.2827 C157.0304,404.7165 158.1881,406.0571 159.2728,407.2993 C159.8152,407.9204 160.3393,408.5169 160.8439,409.0882 \" fill=\"none\" id=\"E2-&gt;E6\" style=\"stroke: #383838; stroke-width: 1.0; stroke-dasharray: 7.0,7.0;\"/><polygon fill=\"#383838\" points=\"160.8439,409.0882,157.8829,399.695,157.5335,405.341,151.8875,404.9916,160.8439,409.0882\" style=\"stroke: #383838; stroke-width: 1.0;\"/><text fill=\"#000000\" font-family=\"sans-serif\" font-size=\"13\" lengthAdjust=\"spacingAndGlyphs\" textLength=\"65\" x=\"94\" y=\"207.0669\">«import»*</text></a><!--MD5=[e3d2a08a9c9236652057e8ed0cbc9b62]\n",
       "link E2 to E7--><a href=\"psysml:c873f416-4fb0-4522-b4d5-2fc0ff0d8008\" target=\"_top\" title=\"psysml:c873f416-4fb0-4522-b4d5-2fc0ff0d8008\" xlink:actuate=\"onRequest\" xlink:href=\"psysml:c873f416-4fb0-4522-b4d5-2fc0ff0d8008\" xlink:show=\"new\" xlink:title=\"psysml:c873f416-4fb0-4522-b4d5-2fc0ff0d8008\" xlink:type=\"simple\"><path d=\"M221.8807,130.2617 C221.7401,130.3761 221.5982,130.4918 221.4548,130.6091 C216.8678,134.36 210.8594,139.5688 204.5113,145.875 C191.815,158.4875 177.76,175.49 171,194 C168.41,201.1 166.18,205.18 171,211 C183.11,225.64 200.74,204.48 213,219 C227.045,235.63 228.2325,284.0975 225.8175,329.0338 C225.5156,334.6508 225.1575,340.2126 224.7611,345.6502 C224.662,347.0096 224.5605,348.3613 224.4569,349.7041 C224.4051,350.3755 224.3528,351.0446 224.3,351.7115 C224.2736,352.0449 224.2471,352.3777 224.2204,352.71 \" fill=\"none\" id=\"E2-&gt;E7\" style=\"stroke: #383838; stroke-width: 1.0; stroke-dasharray: 7.0,7.0;\"/><polygon fill=\"#383838\" points=\"224.2204,352.71,228.9272,344.0586,224.6202,347.726,220.9528,343.419,224.2204,352.71\" style=\"stroke: #383838; stroke-width: 1.0;\"/><text fill=\"#000000\" font-family=\"sans-serif\" font-size=\"13\" lengthAdjust=\"spacingAndGlyphs\" textLength=\"87\" x=\"172\" y=\"207.0669\">«import»*::**</text></a><!--MD5=[ca5a752d6098d8a44b3f88316e7452d1]\n",
       "link E3 to E8--><a href=\"psysml:bb41b158-76b0-47f5-886e-e2f97e00e6aa\" target=\"_top\" title=\"psysml:bb41b158-76b0-47f5-886e-e2f97e00e6aa\" xlink:actuate=\"onRequest\" xlink:href=\"psysml:bb41b158-76b0-47f5-886e-e2f97e00e6aa\" xlink:show=\"new\" xlink:title=\"psysml:bb41b158-76b0-47f5-886e-e2f97e00e6aa\" xlink:type=\"simple\"><path d=\"M321.59,146.07 C339.73,166.51 363.93,193.81 364,194 C366.68,201.06 368.76,205.13 364,211 C353.13,224.4 338.12,206.71 326,219 C285.31,260.27 280.82,330.75 282.81,375.81 \" fill=\"none\" id=\"E3-&gt;E8\" style=\"stroke: #383838; stroke-width: 1.0;\"/><polygon fill=\"#FFFFFF\" points=\"284.19,395.93,275.9039,377.4546,289.8709,376.4948,284.19,395.93\" style=\"stroke: #383838; stroke-width: 1.0;\"/><ellipse cx=\"277.5084\" cy=\"371.6309\" fill=\"#383838\" rx=\"2\" ry=\"2\" style=\"stroke: #383838; stroke-width: 1.0;\"/><ellipse cx=\"287.4849\" cy=\"370.9453\" fill=\"#383838\" rx=\"2\" ry=\"2\" style=\"stroke: #383838; stroke-width: 1.0;\"/></a><!--MD5=[15ebcb19ae302d9b601edb458606d402]\n",
       "link E5 to E2--><a href=\"psysml:cb98c000-d2e0-4059-b3dc-41ff4d975042\" target=\"_top\" title=\"psysml:cb98c000-d2e0-4059-b3dc-41ff4d975042\" xlink:actuate=\"onRequest\" xlink:href=\"psysml:cb98c000-d2e0-4059-b3dc-41ff4d975042\" xlink:show=\"new\" xlink:title=\"psysml:cb98c000-d2e0-4059-b3dc-41ff4d975042\" xlink:type=\"simple\"><path d=\"M377.9071,234.5987 C377.6837,234.254 377.4593,233.91 377.2338,233.5668 C376.3317,232.1941 375.413,230.8338 374.4773,229.4868 C372.6059,226.7928 370.6665,224.152 368.6567,221.572 C360.6175,211.2517 351.4513,201.9025 341,194 C324.63,181.62 264.96,198.91 249,186 C246.2863,183.805 243.9511,181.2325 241.9426,178.4061 C240.9384,176.9929 240.0159,175.5163 239.1685,173.9916 C238.7448,173.2292 238.3399,172.4549 237.953,171.6705 C237.7596,171.2782 237.5706,170.8835 237.3861,170.4865 C237.3399,170.3873 237.2941,170.2879 237.2485,170.1883 \" fill=\"none\" id=\"E5-&gt;E2\" style=\"stroke: #383838; stroke-width: 1.0; stroke-dasharray: 7.0,7.0;\"/><polygon fill=\"#383838\" points=\"237.2485,170.1883,237.3599,180.0366,239.3307,174.7341,244.6331,176.705,237.2485,170.1883\" style=\"stroke: #383838; stroke-width: 1.0;\"/><text fill=\"#000000\" font-family=\"sans-serif\" font-size=\"13\" lengthAdjust=\"spacingAndGlyphs\" textLength=\"65\" x=\"356\" y=\"207.0669\">«import»*</text></a><!--MD5=[d7bb3fb34add81b710575eb3799fa2ad]\n",
       "link E8 to E4--><a href=\"psysml:ff856c1d-ebaf-4dbc-8ba8-d8c60136e299\" target=\"_top\" title=\"psysml:ff856c1d-ebaf-4dbc-8ba8-d8c60136e299\" xlink:actuate=\"onRequest\" xlink:href=\"psysml:ff856c1d-ebaf-4dbc-8ba8-d8c60136e299\" xlink:show=\"new\" xlink:title=\"psysml:ff856c1d-ebaf-4dbc-8ba8-d8c60136e299\" xlink:type=\"simple\"><path d=\"M283.6,395.87 C278.58,354.03 274.69,263.54 326,219 C338.77,207.91 466.36,223.27 478,211 C493.94,194.2 479.72,174.01 460.15,157.31 \" fill=\"none\" id=\"E8-&gt;E4\" style=\"stroke: #383838; stroke-width: 1.0;\"/><polygon fill=\"none\" points=\"455.78,162.78,444.15,145.06,464.29,151.66,455.78,162.78\" style=\"stroke: #383838; stroke-width: 1.0;\"/></a><!--MD5=[e8f9eb849d0ccc493ca4b4d97b81650f]\n",
       "@startuml\r\n",
       "skinparam monochrome true\r\n",
       "skinparam classbackgroundcolor white\r\n",
       "skinparam shadowing false\r\n",
       "skinparam wrapWidth 300\r\n",
       "hide circle\r\n",
       "\r\n",
       "package \"ImportTest\" as E1  [[psysml:789e6656-6985-4918-a680-b12b42056b24 ]]  {\r\n",
       "package \"Pkg1\" as E2  [[psysml:9ed5d6a5-603c-4e6a-bfc8-60e703dcd2fe ]]  {\r\n",
       "comp usage \"p11: P211 \" as E3  <<(T,blue) part>> [[psysml:380b438c-f0d0-40f2-a10d-c83a46ac62de ]] {\r\n",
       "}\r\n",
       "comp def \"P12\" as E4  <<(T,blue) part  def>> [[psysml:4c18927e-9f3a-4bbe-ae04-0ff2b7ea0a78 ]] {\r\n",
       "}\r\n",
       "}\r\n",
       "package \"Pkg2\" as E5  [[psysml:63b0367b-32f1-46aa-9fe1-f934424c590d ]]  {\r\n",
       "package \"Pkg21\" as E6  [[psysml:98b17091-6ea5-4037-8451-bfddc724f9d0 ]]  {\r\n",
       "package \"Pkg211\" as E7  [[psysml:45f4d7ec-8fdd-4896-89d5-a877e9eb4cf9 ]]  {\r\n",
       "comp def \"P211\" as E8  <<(T,blue) part  def>> [[psysml:b4068f35-75bf-4c63-8263-9508faa965fc ]] {\r\n",
       "}\r\n",
       "}\r\n",
       "}\r\n",
       "}\r\n",
       "}\r\n",
       "E2 ..> E8 [[psysml:86dbe04c-b04a-4ec6-a347-5e4f000abe00 ]] : <<import>>\r\n",
       "E2 ..> E6 [[psysml:b4797686-9eb8-4e8e-a70f-411a8a1a5c6c ]] : <<import>>*\r\n",
       "E2 ..> E7 [[psysml:c873f416-4fb0-4522-b4d5-2fc0ff0d8008 ]] : <<import>>*::**\r\n",
       "E3 - -:|> E8 [[psysml:bb41b158-76b0-47f5-886e-e2f97e00e6aa ]] \r\n",
       "E5 ..> E2 [[psysml:cb98c000-d2e0-4059-b3dc-41ff4d975042 ]] : <<import>>*\r\n",
       "E8 - -|> E4 [[psysml:ff856c1d-ebaf-4dbc-8ba8-d8c60136e299 ]] \r\n",
       "@enduml\r\n",
       "\n",
       "PlantUML version 1.2020.13(Sat Jun 13 12:26:38 UTC 2020)\n",
       "(EPL source distribution)\n",
       "Java Runtime: OpenJDK Runtime Environment\n",
       "JVM: OpenJDK 64-Bit Server VM\n",
       "Default Encoding: UTF-8\n",
       "Language: en\n",
       "Country: null\n",
       "--></g></svg>"
      ]
     },
     "execution_count": 38,
     "metadata": {},
     "output_type": "execute_result"
    }
   ],
   "source": [
    "%viz --style=\"DEFAULT\" --view=\"Tree\" \"ImportTest\""
   ]
  },
  {
   "cell_type": "code",
   "execution_count": 39,
   "id": "6283f862",
   "metadata": {
    "execution": {
     "iopub.execute_input": "2022-08-19T08:17:21.712119Z",
     "iopub.status.busy": "2022-08-19T08:17:21.711658Z",
     "iopub.status.idle": "2022-08-19T08:17:21.716745Z",
     "shell.execute_reply": "2022-08-19T08:17:21.717060Z"
    }
   },
   "outputs": [
    {
     "data": {
      "image/svg+xml": [
       "<?xml version=\"1.0\" encoding=\"UTF-8\" standalone=\"no\"?><svg xmlns=\"http://www.w3.org/2000/svg\" xmlns:xlink=\"http://www.w3.org/1999/xlink\" contentScriptType=\"application/ecmascript\" contentStyleType=\"text/css\" height=\"12px\" preserveAspectRatio=\"none\" style=\"width:12px;height:12px;\" version=\"1.1\" viewBox=\"0 0 12 12\" width=\"12px\" zoomAndPan=\"magnify\"><defs/><g><!--MD5=[c5f280e076d0d61ccf4b0f27871bda1d]\n",
       "@startuml\r\n",
       "skinparam monochrome true\r\n",
       "skinparam classbackgroundcolor white\r\n",
       "skinparam shadowing false\r\n",
       "skinparam wrapWidth 300\r\n",
       "hide circle\r\n",
       "\r\n",
       "@enduml\r\n",
       "\n",
       "PlantUML version 1.2020.13(Sat Jun 13 12:26:38 UTC 2020)\n",
       "(EPL source distribution)\n",
       "Java Runtime: OpenJDK Runtime Environment\n",
       "JVM: OpenJDK 64-Bit Server VM\n",
       "Default Encoding: UTF-8\n",
       "Language: en\n",
       "Country: null\n",
       "--></g></svg>"
      ]
     },
     "execution_count": 39,
     "metadata": {},
     "output_type": "execute_result"
    }
   ],
   "source": [
    "%viz --style=\"DEFAULT\" --view=\"State\" \"ImportTest\""
   ]
  },
  {
   "cell_type": "code",
   "execution_count": 40,
   "id": "71211a8f",
   "metadata": {
    "execution": {
     "iopub.execute_input": "2022-08-19T08:17:21.767290Z",
     "iopub.status.busy": "2022-08-19T08:17:21.766832Z",
     "iopub.status.idle": "2022-08-19T08:17:21.801457Z",
     "shell.execute_reply": "2022-08-19T08:17:21.801054Z"
    }
   },
   "outputs": [
    {
     "data": {
      "image/svg+xml": [
       "<?xml version=\"1.0\" encoding=\"UTF-8\" standalone=\"no\"?><svg xmlns=\"http://www.w3.org/2000/svg\" xmlns:xlink=\"http://www.w3.org/1999/xlink\" contentScriptType=\"application/ecmascript\" contentStyleType=\"text/css\" height=\"584px\" preserveAspectRatio=\"none\" style=\"width:522px;height:584px;\" version=\"1.1\" viewBox=\"0 0 522 584\" width=\"522px\" zoomAndPan=\"magnify\"><defs/><g><!--MD5=[fbc87193dbaf4d95561dea2c320d4a47]\n",
       "cluster E1--><a href=\"psysml:789e6656-6985-4918-a680-b12b42056b24\" target=\"_top\" title=\"psysml:789e6656-6985-4918-a680-b12b42056b24\" xlink:actuate=\"onRequest\" xlink:href=\"psysml:789e6656-6985-4918-a680-b12b42056b24\" xlink:show=\"new\" xlink:title=\"psysml:789e6656-6985-4918-a680-b12b42056b24\" xlink:type=\"simple\"><polygon fill=\"#FFFFFF\" points=\"16,6,97,6,104,28.2969,500,28.2969,500,572,16,572,16,6\" style=\"stroke: #000000; stroke-width: 1.5;\"/><line style=\"stroke: #000000; stroke-width: 1.5;\" x1=\"16\" x2=\"104\" y1=\"28.2969\" y2=\"28.2969\"/><text fill=\"#000000\" font-family=\"sans-serif\" font-size=\"14\" font-weight=\"bold\" lengthAdjust=\"spacingAndGlyphs\" textLength=\"75\" x=\"20\" y=\"20.9951\">ImportTest</text></a><!--MD5=[e4f7fae6ed58524ba242bb0b0d3be6b7]\n",
       "cluster E2--><a href=\"psysml:9ed5d6a5-603c-4e6a-bfc8-60e703dcd2fe\" target=\"_top\" title=\"psysml:9ed5d6a5-603c-4e6a-bfc8-60e703dcd2fe\" xlink:actuate=\"onRequest\" xlink:href=\"psysml:9ed5d6a5-603c-4e6a-bfc8-60e703dcd2fe\" xlink:show=\"new\" xlink:title=\"psysml:9ed5d6a5-603c-4e6a-bfc8-60e703dcd2fe\" xlink:type=\"simple\"><polygon fill=\"#FFFFFF\" points=\"216,57,257,57,264,79.2969,468,79.2969,468,167,216,167,216,57\" style=\"stroke: #000000; stroke-width: 1.5;\"/><line style=\"stroke: #000000; stroke-width: 1.5;\" x1=\"216\" x2=\"264\" y1=\"79.2969\" y2=\"79.2969\"/><text fill=\"#000000\" font-family=\"sans-serif\" font-size=\"14\" font-weight=\"bold\" lengthAdjust=\"spacingAndGlyphs\" textLength=\"35\" x=\"220\" y=\"71.9951\">Pkg1</text></a><!--MD5=[de5ec2e2e8f62f467e546659f5068c88]\n",
       "cluster E5--><a href=\"psysml:63b0367b-32f1-46aa-9fe1-f934424c590d\" target=\"_top\" title=\"psysml:63b0367b-32f1-46aa-9fe1-f934424c590d\" xlink:actuate=\"onRequest\" xlink:href=\"psysml:63b0367b-32f1-46aa-9fe1-f934424c590d\" xlink:show=\"new\" xlink:title=\"psysml:63b0367b-32f1-46aa-9fe1-f934424c590d\" xlink:type=\"simple\"><polygon fill=\"#FFFFFF\" points=\"117,232,158,232,165,254.2969,435,254.2969,435,540,117,540,117,232\" style=\"stroke: #000000; stroke-width: 1.5;\"/><line style=\"stroke: #000000; stroke-width: 1.5;\" x1=\"117\" x2=\"165\" y1=\"254.2969\" y2=\"254.2969\"/><text fill=\"#000000\" font-family=\"sans-serif\" font-size=\"14\" font-weight=\"bold\" lengthAdjust=\"spacingAndGlyphs\" textLength=\"35\" x=\"121\" y=\"246.9951\">Pkg2</text></a><!--MD5=[14e3b0961a2654348d326746436168a1]\n",
       "cluster E6--><a href=\"psysml:98b17091-6ea5-4037-8451-bfddc724f9d0\" target=\"_top\" title=\"psysml:98b17091-6ea5-4037-8451-bfddc724f9d0\" xlink:actuate=\"onRequest\" xlink:href=\"psysml:98b17091-6ea5-4037-8451-bfddc724f9d0\" xlink:show=\"new\" xlink:title=\"psysml:98b17091-6ea5-4037-8451-bfddc724f9d0\" xlink:type=\"simple\"><polygon fill=\"#FFFFFF\" points=\"157,291,207,291,214,313.2969,387,313.2969,387,500,157,500,157,291\" style=\"stroke: #000000; stroke-width: 1.5;\"/><line style=\"stroke: #000000; stroke-width: 1.5;\" x1=\"157\" x2=\"214\" y1=\"313.2969\" y2=\"313.2969\"/><text fill=\"#000000\" font-family=\"sans-serif\" font-size=\"14\" font-weight=\"bold\" lengthAdjust=\"spacingAndGlyphs\" textLength=\"44\" x=\"161\" y=\"305.9951\">Pkg21</text></a><!--MD5=[168fadf3d0c3fd93dd5d6da1b1d7ab76]\n",
       "cluster E7--><a href=\"psysml:45f4d7ec-8fdd-4896-89d5-a877e9eb4cf9\" target=\"_top\" title=\"psysml:45f4d7ec-8fdd-4896-89d5-a877e9eb4cf9\" xlink:actuate=\"onRequest\" xlink:href=\"psysml:45f4d7ec-8fdd-4896-89d5-a877e9eb4cf9\" xlink:show=\"new\" xlink:title=\"psysml:45f4d7ec-8fdd-4896-89d5-a877e9eb4cf9\" xlink:type=\"simple\"><polygon fill=\"#FFFFFF\" points=\"205,350,264,350,271,372.2969,347,372.2969,347,460,205,460,205,350\" style=\"stroke: #000000; stroke-width: 1.5;\"/><line style=\"stroke: #000000; stroke-width: 1.5;\" x1=\"205\" x2=\"271\" y1=\"372.2969\" y2=\"372.2969\"/><text fill=\"#000000\" font-family=\"sans-serif\" font-size=\"14\" font-weight=\"bold\" lengthAdjust=\"spacingAndGlyphs\" textLength=\"53\" x=\"209\" y=\"364.9951\">Pkg211</text></a><g id=\"E1.E2.E3\"><a href=\"psysml:380b438c-f0d0-40f2-a10d-c83a46ac62de\" target=\"_top\" title=\"psysml:380b438c-f0d0-40f2-a10d-c83a46ac62de\" xlink:actuate=\"onRequest\" xlink:href=\"psysml:380b438c-f0d0-40f2-a10d-c83a46ac62de\" xlink:show=\"new\" xlink:title=\"psysml:380b438c-f0d0-40f2-a10d-c83a46ac62de\" xlink:type=\"simple\"><rect fill=\"#FFFFFF\" height=\"40\" id=\"E3\" rx=\"10\" ry=\"10\" style=\"stroke: #383838; stroke-width: 1.5;\" width=\"75\" x=\"259.5\" y=\"101.5\"/><rect fill=\"#F8F8F8\" height=\"23.9688\" rx=\"10\" ry=\"10\" style=\"stroke: #F8F8F8; stroke-width: 1.5;\" width=\"75\" x=\"259.5\" y=\"101.5\"/><rect fill=\"#F8F8F8\" height=\"10\" style=\"stroke: #F8F8F8; stroke-width: 1.5;\" width=\"75\" x=\"259.5\" y=\"115.4688\"/><rect fill=\"none\" height=\"40\" id=\"E3\" rx=\"10\" ry=\"10\" style=\"stroke: #383838; stroke-width: 1.5;\" width=\"75\" x=\"259.5\" y=\"101.5\"/><text fill=\"#000000\" font-family=\"sans-serif\" font-size=\"12\" lengthAdjust=\"spacingAndGlyphs\" textLength=\"64\" x=\"265\" y=\"117.6387\">p11: P211</text></a></g><g id=\"E1.E2.E4\"><a href=\"psysml:4c18927e-9f3a-4bbe-ae04-0ff2b7ea0a78\" target=\"_top\" title=\"psysml:4c18927e-9f3a-4bbe-ae04-0ff2b7ea0a78\" xlink:actuate=\"onRequest\" xlink:href=\"psysml:4c18927e-9f3a-4bbe-ae04-0ff2b7ea0a78\" xlink:show=\"new\" xlink:title=\"psysml:4c18927e-9f3a-4bbe-ae04-0ff2b7ea0a78\" xlink:type=\"simple\"><rect fill=\"#FFFFFF\" height=\"42.9375\" id=\"E4\" style=\"stroke: #383838; stroke-width: 1.5;\" width=\"75\" x=\"369.5\" y=\"100\"/><rect fill=\"#F8F8F8\" height=\"37.9375\" style=\"stroke: #383838; stroke-width: 1.5;\" width=\"75\" x=\"369.5\" y=\"100\"/><text fill=\"#000000\" font-family=\"sans-serif\" font-size=\"12\" font-style=\"italic\" lengthAdjust=\"spacingAndGlyphs\" textLength=\"68\" x=\"373\" y=\"116.1387\">«part  def»</text><text fill=\"#000000\" font-family=\"sans-serif\" font-size=\"12\" lengthAdjust=\"spacingAndGlyphs\" textLength=\"24\" x=\"395\" y=\"130.1074\">P12</text></a></g><g id=\"E1.E5.E6.E7.E8\"><a href=\"psysml:b4068f35-75bf-4c63-8263-9508faa965fc\" target=\"_top\" title=\"psysml:b4068f35-75bf-4c63-8263-9508faa965fc\" xlink:actuate=\"onRequest\" xlink:href=\"psysml:b4068f35-75bf-4c63-8263-9508faa965fc\" xlink:show=\"new\" xlink:title=\"psysml:b4068f35-75bf-4c63-8263-9508faa965fc\" xlink:type=\"simple\"><rect fill=\"#FFFFFF\" height=\"42.9375\" id=\"E8\" style=\"stroke: #383838; stroke-width: 1.5;\" width=\"75\" x=\"248.5\" y=\"393\"/><rect fill=\"#F8F8F8\" height=\"37.9375\" style=\"stroke: #383838; stroke-width: 1.5;\" width=\"75\" x=\"248.5\" y=\"393\"/><text fill=\"#000000\" font-family=\"sans-serif\" font-size=\"12\" font-style=\"italic\" lengthAdjust=\"spacingAndGlyphs\" textLength=\"68\" x=\"252\" y=\"409.1387\">«part  def»</text><text fill=\"#000000\" font-family=\"sans-serif\" font-size=\"12\" lengthAdjust=\"spacingAndGlyphs\" textLength=\"32\" x=\"270\" y=\"423.1074\">P211</text></a></g><!--MD5=[b0060bfdb0500b904584095522b4da3c]\n",
       "link E2 to E8--><a href=\"psysml:86dbe04c-b04a-4ec6-a347-5e4f000abe00\" target=\"_top\" title=\"psysml:86dbe04c-b04a-4ec6-a347-5e4f000abe00\" xlink:actuate=\"onRequest\" xlink:href=\"psysml:86dbe04c-b04a-4ec6-a347-5e4f000abe00\" xlink:show=\"new\" xlink:title=\"psysml:86dbe04c-b04a-4ec6-a347-5e4f000abe00\" xlink:type=\"simple\"><path d=\"M233.7485,167.2625 C233.8396,167.461 233.9314,167.6592 234.0241,167.8569 C234.395,168.648 234.7795,169.4328 235.1783,170.2099 C235.9758,171.764 236.8302,173.2869 237.7454,174.7655 C239.5759,177.7227 241.65,180.5025 244,183 C250.56,189.97 258.25,183.35 264,191 C308.12,249.72 299.04,343.18 291.3,387.96 \" fill=\"none\" id=\"E2-&gt;E8\" style=\"stroke: #383838; stroke-width: 1.0; stroke-dasharray: 7.0,7.0;\"/><polygon fill=\"#383838\" points=\"290.41,392.91,295.9388,384.7594,291.2944,387.9888,288.065,383.3444,290.41,392.91\" style=\"stroke: #383838; stroke-width: 1.0;\"/><text fill=\"#000000\" font-family=\"sans-serif\" font-size=\"13\" lengthAdjust=\"spacingAndGlyphs\" textLength=\"58\" x=\"274\" y=\"204.0669\">«import»</text></a><!--MD5=[e3e28c1befcf002155aa15e1416b4315]\n",
       "link E2 to E6--><a href=\"psysml:b4797686-9eb8-4e8e-a70f-411a8a1a5c6c\" target=\"_top\" title=\"psysml:b4797686-9eb8-4e8e-a70f-411a8a1a5c6c\" xlink:actuate=\"onRequest\" xlink:href=\"psysml:b4797686-9eb8-4e8e-a70f-411a8a1a5c6c\" xlink:show=\"new\" xlink:title=\"psysml:b4797686-9eb8-4e8e-a70f-411a8a1a5c6c\" xlink:type=\"simple\"><path d=\"M215.764,123.8356 C215.5384,123.8767 215.3087,123.9189 215.0751,123.9622 C214.6079,124.0488 214.1247,124.1396 213.6261,124.2349 C211.6318,124.6159 209.3916,125.0674 206.9428,125.5967 C197.1475,127.7141 184.0138,131.0769 169.925,136.1563 C141.7475,146.315 109.75,163.34 93,191 C66.5,234.76 83.5275,289.345 107.655,333.4975 C119.7188,355.5738 133.5575,375.0419 144.6178,389.2447 C147.3829,392.7954 149.9743,396.017 152.3209,398.868 C153.4943,400.2935 154.6064,401.6264 155.6484,402.8614 C155.9089,403.1702 156.165,403.4728 156.4166,403.7693 C156.5424,403.9175 156.6671,404.0642 156.7906,404.2093 \" fill=\"none\" id=\"E2-&gt;E6\" style=\"stroke: #383838; stroke-width: 1.0; stroke-dasharray: 7.0,7.0;\"/><polygon fill=\"#383838\" points=\"156.7906,404.2093,154.0028,394.7632,153.5497,400.4019,147.911,399.9487,156.7906,404.2093\" style=\"stroke: #383838; stroke-width: 1.0;\"/><text fill=\"#000000\" font-family=\"sans-serif\" font-size=\"13\" lengthAdjust=\"spacingAndGlyphs\" textLength=\"65\" x=\"94\" y=\"204.0669\">«import»*</text></a><!--MD5=[e3d2a08a9c9236652057e8ed0cbc9b62]\n",
       "link E2 to E7--><a href=\"psysml:c873f416-4fb0-4522-b4d5-2fc0ff0d8008\" target=\"_top\" title=\"psysml:c873f416-4fb0-4522-b4d5-2fc0ff0d8008\" xlink:actuate=\"onRequest\" xlink:href=\"psysml:c873f416-4fb0-4522-b4d5-2fc0ff0d8008\" xlink:show=\"new\" xlink:title=\"psysml:c873f416-4fb0-4522-b4d5-2fc0ff0d8008\" xlink:type=\"simple\"><path d=\"M215.9145,129.4818 C215.7831,129.6017 215.6504,129.723 215.5165,129.8456 C215.2488,130.0909 214.9764,130.3417 214.6994,130.5979 C214.1455,131.1103 213.5735,131.6444 212.9854,132.1994 C211.8091,133.3094 210.5683,134.503 209.278,135.7741 C206.6976,138.3163 203.9197,141.1684 201.0663,144.2813 C189.6525,156.7325 177.03,173.355 171,191 C168.56,198.15 166.24,202.13 171,208 C181.87,221.4 197.99,202.71 209,216 C222.785,232.64 223.97,280.745 221.6187,325.31 C221.3248,330.8806 220.9757,336.3959 220.589,341.7876 C220.3956,344.4834 220.1929,347.1483 219.983,349.7737 \" fill=\"none\" id=\"E2-&gt;E7\" style=\"stroke: #383838; stroke-width: 1.0; stroke-dasharray: 7.0,7.0;\"/><polygon fill=\"#383838\" points=\"219.983,349.7737,224.6875,341.1211,220.3815,344.7896,216.713,340.4835,219.983,349.7737\" style=\"stroke: #383838; stroke-width: 1.0;\"/><text fill=\"#000000\" font-family=\"sans-serif\" font-size=\"13\" lengthAdjust=\"spacingAndGlyphs\" textLength=\"87\" x=\"172\" y=\"204.0669\">«import»*::**</text></a><!--MD5=[ca5a752d6098d8a44b3f88316e7452d1]\n",
       "link E3 to E8--><a href=\"psysml:bb41b158-76b0-47f5-886e-e2f97e00e6aa\" target=\"_top\" title=\"psysml:bb41b158-76b0-47f5-886e-e2f97e00e6aa\" xlink:actuate=\"onRequest\" xlink:href=\"psysml:bb41b158-76b0-47f5-886e-e2f97e00e6aa\" xlink:show=\"new\" xlink:title=\"psysml:bb41b158-76b0-47f5-886e-e2f97e00e6aa\" xlink:type=\"simple\"><path d=\"M312.28,141.62 C322.76,154.12 337.37,170.41 352,183 C356.86,187.18 360.98,185.35 364,191 C367.57,197.66 368.73,202.11 364,208 C353.74,220.79 339.54,204.36 328,216 C287.05,257.33 281.54,328.07 282.74,372.73 \" fill=\"none\" id=\"E3-&gt;E8\" style=\"stroke: #383838; stroke-width: 1.0;\"/><polygon fill=\"#FFFFFF\" points=\"283.77,392.86,275.7887,374.2509,289.7697,373.5208,283.77,392.86\" style=\"stroke: #383838; stroke-width: 1.0;\"/><ellipse cx=\"277.4888\" cy=\"368.4543\" fill=\"#383838\" rx=\"2\" ry=\"2\" style=\"stroke: #383838; stroke-width: 1.0;\"/><ellipse cx=\"287.4752\" cy=\"367.9329\" fill=\"#383838\" rx=\"2\" ry=\"2\" style=\"stroke: #383838; stroke-width: 1.0;\"/></a><!--MD5=[15ebcb19ae302d9b601edb458606d402]\n",
       "link E5 to E2--><a href=\"psysml:cb98c000-d2e0-4059-b3dc-41ff4d975042\" target=\"_top\" title=\"psysml:cb98c000-d2e0-4059-b3dc-41ff4d975042\" xlink:actuate=\"onRequest\" xlink:href=\"psysml:cb98c000-d2e0-4059-b3dc-41ff4d975042\" xlink:show=\"new\" xlink:title=\"psysml:cb98c000-d2e0-4059-b3dc-41ff4d975042\" xlink:type=\"simple\"><path d=\"M377.9759,231.2195 C377.7515,230.8776 377.526,230.5364 377.2994,230.196 C376.3932,228.8344 375.4706,227.4852 374.5311,226.1493 C372.6521,223.4776 370.7058,220.8593 368.6899,218.3016 C360.6261,208.0711 351.4475,198.8125 341,191 C323.68,178.05 260.99,196.38 244,183 C241.305,180.8788 238.9694,178.3841 236.9456,175.6375 C235.9337,174.2642 234.9998,172.8279 234.1379,171.3439 C233.707,170.6019 233.294,169.8479 232.8983,169.0839 C232.7005,168.7019 232.507,168.3173 232.3177,167.9306 C232.223,167.7372 232.1294,167.5432 232.0369,167.3487 C231.9906,167.2514 231.9446,167.1541 231.8988,167.0565 \" fill=\"none\" id=\"E5-&gt;E2\" style=\"stroke: #383838; stroke-width: 1.0; stroke-dasharray: 7.0,7.0;\"/><polygon fill=\"#383838\" points=\"231.8988,167.0565,232.1005,176.9033,234.0226,171.5831,239.3429,173.5052,231.8988,167.0565\" style=\"stroke: #383838; stroke-width: 1.0;\"/><text fill=\"#000000\" font-family=\"sans-serif\" font-size=\"13\" lengthAdjust=\"spacingAndGlyphs\" textLength=\"65\" x=\"360\" y=\"204.0669\">«import»*</text></a><!--MD5=[d7bb3fb34add81b710575eb3799fa2ad]\n",
       "link E8 to E4--><a href=\"psysml:ff856c1d-ebaf-4dbc-8ba8-d8c60136e299\" target=\"_top\" title=\"psysml:ff856c1d-ebaf-4dbc-8ba8-d8c60136e299\" xlink:actuate=\"onRequest\" xlink:href=\"psysml:ff856c1d-ebaf-4dbc-8ba8-d8c60136e299\" xlink:show=\"new\" xlink:title=\"psysml:ff856c1d-ebaf-4dbc-8ba8-d8c60136e299\" xlink:type=\"simple\"><path d=\"M283.17,392.77 C278.87,351.76 276.04,260.42 328,216 C340.69,205.16 466.52,220.11 478,208 C493.95,191.18 479.29,171.32 459.24,154.97 \" fill=\"none\" id=\"E8-&gt;E4\" style=\"stroke: #383838; stroke-width: 1.0;\"/><polygon fill=\"none\" points=\"454.9,160.46,442.89,143.01,463.16,149.16,454.9,160.46\" style=\"stroke: #383838; stroke-width: 1.0;\"/></a><!--MD5=[37b3e365815a16ddda66f2198c6465fb]\n",
       "@startuml\r\n",
       "skinparam ranksep 10\r\n",
       "skinparam rectangle {\r\n",
       " backgroundColor<<block>> LightGreen\r\n",
       "}\r\n",
       "skinparam monochrome true\r\n",
       "skinparam classbackgroundcolor white\r\n",
       "skinparam shadowing false\r\n",
       "skinparam wrapWidth 300\r\n",
       "hide circle\r\n",
       "\r\n",
       "package \"ImportTest\" as E1  [[psysml:789e6656-6985-4918-a680-b12b42056b24 ]]  {\r\n",
       "package \"Pkg1\" as E2  [[psysml:9ed5d6a5-603c-4e6a-bfc8-60e703dcd2fe ]]  {\r\n",
       "rec usage \"p11: P211\" as E3  [[psysml:380b438c-f0d0-40f2-a10d-c83a46ac62de ]] {\r\n",
       "}\r\n",
       "rec def \"P12\" as E4  <<(T,blue) part  def>> [[psysml:4c18927e-9f3a-4bbe-ae04-0ff2b7ea0a78 ]] {\r\n",
       "}\r\n",
       "}\r\n",
       "package \"Pkg2\" as E5  [[psysml:63b0367b-32f1-46aa-9fe1-f934424c590d ]]  {\r\n",
       "package \"Pkg21\" as E6  [[psysml:98b17091-6ea5-4037-8451-bfddc724f9d0 ]]  {\r\n",
       "package \"Pkg211\" as E7  [[psysml:45f4d7ec-8fdd-4896-89d5-a877e9eb4cf9 ]]  {\r\n",
       "rec def \"P211\" as E8  <<(T,blue) part  def>> [[psysml:b4068f35-75bf-4c63-8263-9508faa965fc ]] {\r\n",
       "}\r\n",
       "}\r\n",
       "}\r\n",
       "}\r\n",
       "}\r\n",
       "E2 ..> E8 [[psysml:86dbe04c-b04a-4ec6-a347-5e4f000abe00 ]] : <<import>>\r\n",
       "E2 ..> E6 [[psysml:b4797686-9eb8-4e8e-a70f-411a8a1a5c6c ]] : <<import>>*\r\n",
       "E2 ..> E7 [[psysml:c873f416-4fb0-4522-b4d5-2fc0ff0d8008 ]] : <<import>>*::**\r\n",
       "E3 - -:|> E8 [[psysml:bb41b158-76b0-47f5-886e-e2f97e00e6aa ]] \r\n",
       "E5 ..> E2 [[psysml:cb98c000-d2e0-4059-b3dc-41ff4d975042 ]] : <<import>>*\r\n",
       "E8 - -|> E4 [[psysml:ff856c1d-ebaf-4dbc-8ba8-d8c60136e299 ]] \r\n",
       "@enduml\r\n",
       "\n",
       "PlantUML version 1.2020.13(Sat Jun 13 12:26:38 UTC 2020)\n",
       "(EPL source distribution)\n",
       "Java Runtime: OpenJDK Runtime Environment\n",
       "JVM: OpenJDK 64-Bit Server VM\n",
       "Default Encoding: UTF-8\n",
       "Language: en\n",
       "Country: null\n",
       "--></g></svg>"
      ]
     },
     "execution_count": 40,
     "metadata": {},
     "output_type": "execute_result"
    }
   ],
   "source": [
    "%viz --style=\"DEFAULT\" --view=\"Interconnection\" \"ImportTest\""
   ]
  },
  {
   "cell_type": "code",
   "execution_count": 41,
   "id": "a8a7a3a0",
   "metadata": {
    "execution": {
     "iopub.execute_input": "2022-08-19T08:17:21.850876Z",
     "iopub.status.busy": "2022-08-19T08:17:21.850365Z",
     "iopub.status.idle": "2022-08-19T08:17:21.855217Z",
     "shell.execute_reply": "2022-08-19T08:17:21.854841Z"
    }
   },
   "outputs": [
    {
     "data": {
      "image/svg+xml": [
       "<?xml version=\"1.0\" encoding=\"UTF-8\" standalone=\"no\"?><svg xmlns=\"http://www.w3.org/2000/svg\" xmlns:xlink=\"http://www.w3.org/1999/xlink\" contentScriptType=\"application/ecmascript\" contentStyleType=\"text/css\" height=\"12px\" preserveAspectRatio=\"none\" style=\"width:12px;height:12px;\" version=\"1.1\" viewBox=\"0 0 12 12\" width=\"12px\" zoomAndPan=\"magnify\"><defs/><g><!--MD5=[388f21188e31bfdd97050473b19af356]\n",
       "@startuml\r\n",
       "skinparam ranksep 8\r\n",
       "skinparam monochrome true\r\n",
       "skinparam classbackgroundcolor white\r\n",
       "skinparam shadowing false\r\n",
       "skinparam wrapWidth 300\r\n",
       "hide circle\r\n",
       "\r\n",
       "@enduml\r\n",
       "\n",
       "PlantUML version 1.2020.13(Sat Jun 13 12:26:38 UTC 2020)\n",
       "(EPL source distribution)\n",
       "Java Runtime: OpenJDK Runtime Environment\n",
       "JVM: OpenJDK 64-Bit Server VM\n",
       "Default Encoding: UTF-8\n",
       "Language: en\n",
       "Country: null\n",
       "--></g></svg>"
      ]
     },
     "execution_count": 41,
     "metadata": {},
     "output_type": "execute_result"
    }
   ],
   "source": [
    "%viz --style=\"DEFAULT\" --view=\"Action\" \"ImportTest\""
   ]
  },
  {
   "cell_type": "code",
   "execution_count": 42,
   "id": "13f48f6b",
   "metadata": {
    "execution": {
     "iopub.execute_input": "2022-08-19T08:17:21.905320Z",
     "iopub.status.busy": "2022-08-19T08:17:21.904791Z",
     "iopub.status.idle": "2022-08-19T08:17:21.910287Z",
     "shell.execute_reply": "2022-08-19T08:17:21.909891Z"
    }
   },
   "outputs": [
    {
     "data": {
      "image/svg+xml": [
       "<?xml version=\"1.0\" encoding=\"UTF-8\" standalone=\"no\"?><svg xmlns=\"http://www.w3.org/2000/svg\" xmlns:xlink=\"http://www.w3.org/1999/xlink\" contentScriptType=\"application/ecmascript\" contentStyleType=\"text/css\" height=\"12px\" preserveAspectRatio=\"none\" style=\"width:12px;height:12px;\" version=\"1.1\" viewBox=\"0 0 12 12\" width=\"12px\" zoomAndPan=\"magnify\"><defs/><g><!--MD5=[0b72472770326784bf6c2b53246e1e64]\n",
       "@startuml\r\n",
       "skinparam roundcorner 20\r\n",
       "skinparam BoxPadding 20\r\n",
       "skinparam SequenceBoxBackgroundColor #white\r\n",
       "skinparam style strictuml\r\n",
       "skinparam maxMessageSize 100\r\n",
       "skinparam monochrome true\r\n",
       "skinparam classbackgroundcolor white\r\n",
       "skinparam shadowing false\r\n",
       "skinparam wrapWidth 300\r\n",
       "hide circle\r\n",
       "\r\n",
       "@enduml\r\n",
       "\n",
       "PlantUML version 1.2020.13(Sat Jun 13 12:26:38 UTC 2020)\n",
       "(EPL source distribution)\n",
       "Java Runtime: OpenJDK Runtime Environment\n",
       "JVM: OpenJDK 64-Bit Server VM\n",
       "Default Encoding: UTF-8\n",
       "Language: en\n",
       "Country: null\n",
       "--></g></svg>"
      ]
     },
     "execution_count": 42,
     "metadata": {},
     "output_type": "execute_result"
    }
   ],
   "source": [
    "%viz --style=\"DEFAULT\" --view=\"Sequence\" \"ImportTest\""
   ]
  },
  {
   "cell_type": "code",
   "execution_count": 43,
   "id": "43e584b6",
   "metadata": {
    "execution": {
     "iopub.execute_input": "2022-08-19T08:17:21.960138Z",
     "iopub.status.busy": "2022-08-19T08:17:21.959655Z",
     "iopub.status.idle": "2022-08-19T08:17:21.994163Z",
     "shell.execute_reply": "2022-08-19T08:17:21.993755Z"
    }
   },
   "outputs": [
    {
     "data": {
      "image/svg+xml": [
       "<?xml version=\"1.0\" encoding=\"UTF-8\" standalone=\"no\"?><svg xmlns=\"http://www.w3.org/2000/svg\" xmlns:xlink=\"http://www.w3.org/1999/xlink\" contentScriptType=\"application/ecmascript\" contentStyleType=\"text/css\" height=\"590px\" preserveAspectRatio=\"none\" style=\"width:522px;height:590px;\" version=\"1.1\" viewBox=\"0 0 522 590\" width=\"522px\" zoomAndPan=\"magnify\"><defs/><g><!--MD5=[fbc87193dbaf4d95561dea2c320d4a47]\n",
       "cluster E1--><a href=\"psysml:789e6656-6985-4918-a680-b12b42056b24\" target=\"_top\" title=\"psysml:789e6656-6985-4918-a680-b12b42056b24\" xlink:actuate=\"onRequest\" xlink:href=\"psysml:789e6656-6985-4918-a680-b12b42056b24\" xlink:show=\"new\" xlink:title=\"psysml:789e6656-6985-4918-a680-b12b42056b24\" xlink:type=\"simple\"><polygon fill=\"#FFFFFF\" points=\"16,6,97,6,104,28.2969,500,28.2969,500,578,16,578,16,6\" style=\"stroke: #000000; stroke-width: 1.5;\"/><line style=\"stroke: #000000; stroke-width: 1.5;\" x1=\"16\" x2=\"104\" y1=\"28.2969\" y2=\"28.2969\"/><text fill=\"#000000\" font-family=\"sans-serif\" font-size=\"14\" font-weight=\"bold\" lengthAdjust=\"spacingAndGlyphs\" textLength=\"75\" x=\"20\" y=\"20.9951\">ImportTest</text></a><!--MD5=[e4f7fae6ed58524ba242bb0b0d3be6b7]\n",
       "cluster E2--><a href=\"psysml:9ed5d6a5-603c-4e6a-bfc8-60e703dcd2fe\" target=\"_top\" title=\"psysml:9ed5d6a5-603c-4e6a-bfc8-60e703dcd2fe\" xlink:actuate=\"onRequest\" xlink:href=\"psysml:9ed5d6a5-603c-4e6a-bfc8-60e703dcd2fe\" xlink:show=\"new\" xlink:title=\"psysml:9ed5d6a5-603c-4e6a-bfc8-60e703dcd2fe\" xlink:type=\"simple\"><polygon fill=\"#FFFFFF\" points=\"222,57,263,57,270,79.2969,468,79.2969,468,170,222,170,222,57\" style=\"stroke: #000000; stroke-width: 1.5;\"/><line style=\"stroke: #000000; stroke-width: 1.5;\" x1=\"222\" x2=\"270\" y1=\"79.2969\" y2=\"79.2969\"/><text fill=\"#000000\" font-family=\"sans-serif\" font-size=\"14\" font-weight=\"bold\" lengthAdjust=\"spacingAndGlyphs\" textLength=\"35\" x=\"226\" y=\"71.9951\">Pkg1</text></a><!--MD5=[de5ec2e2e8f62f467e546659f5068c88]\n",
       "cluster E5--><a href=\"psysml:63b0367b-32f1-46aa-9fe1-f934424c590d\" target=\"_top\" title=\"psysml:63b0367b-32f1-46aa-9fe1-f934424c590d\" xlink:actuate=\"onRequest\" xlink:href=\"psysml:63b0367b-32f1-46aa-9fe1-f934424c590d\" xlink:show=\"new\" xlink:title=\"psysml:63b0367b-32f1-46aa-9fe1-f934424c590d\" xlink:type=\"simple\"><polygon fill=\"#FFFFFF\" points=\"121,235,162,235,169,257.2969,434,257.2969,434,546,121,546,121,235\" style=\"stroke: #000000; stroke-width: 1.5;\"/><line style=\"stroke: #000000; stroke-width: 1.5;\" x1=\"121\" x2=\"169\" y1=\"257.2969\" y2=\"257.2969\"/><text fill=\"#000000\" font-family=\"sans-serif\" font-size=\"14\" font-weight=\"bold\" lengthAdjust=\"spacingAndGlyphs\" textLength=\"35\" x=\"125\" y=\"249.9951\">Pkg2</text></a><!--MD5=[14e3b0961a2654348d326746436168a1]\n",
       "cluster E6--><a href=\"psysml:98b17091-6ea5-4037-8451-bfddc724f9d0\" target=\"_top\" title=\"psysml:98b17091-6ea5-4037-8451-bfddc724f9d0\" xlink:actuate=\"onRequest\" xlink:href=\"psysml:98b17091-6ea5-4037-8451-bfddc724f9d0\" xlink:show=\"new\" xlink:title=\"psysml:98b17091-6ea5-4037-8451-bfddc724f9d0\" xlink:type=\"simple\"><polygon fill=\"#FFFFFF\" points=\"161,294,211,294,218,316.2969,386,316.2969,386,506,161,506,161,294\" style=\"stroke: #000000; stroke-width: 1.5;\"/><line style=\"stroke: #000000; stroke-width: 1.5;\" x1=\"161\" x2=\"218\" y1=\"316.2969\" y2=\"316.2969\"/><text fill=\"#000000\" font-family=\"sans-serif\" font-size=\"14\" font-weight=\"bold\" lengthAdjust=\"spacingAndGlyphs\" textLength=\"44\" x=\"165\" y=\"308.9951\">Pkg21</text></a><!--MD5=[168fadf3d0c3fd93dd5d6da1b1d7ab76]\n",
       "cluster E7--><a href=\"psysml:45f4d7ec-8fdd-4896-89d5-a877e9eb4cf9\" target=\"_top\" title=\"psysml:45f4d7ec-8fdd-4896-89d5-a877e9eb4cf9\" xlink:actuate=\"onRequest\" xlink:href=\"psysml:45f4d7ec-8fdd-4896-89d5-a877e9eb4cf9\" xlink:show=\"new\" xlink:title=\"psysml:45f4d7ec-8fdd-4896-89d5-a877e9eb4cf9\" xlink:type=\"simple\"><polygon fill=\"#FFFFFF\" points=\"209,353,268,353,275,375.2969,346,375.2969,346,466,209,466,209,353\" style=\"stroke: #000000; stroke-width: 1.5;\"/><line style=\"stroke: #000000; stroke-width: 1.5;\" x1=\"209\" x2=\"275\" y1=\"375.2969\" y2=\"375.2969\"/><text fill=\"#000000\" font-family=\"sans-serif\" font-size=\"14\" font-weight=\"bold\" lengthAdjust=\"spacingAndGlyphs\" textLength=\"53\" x=\"213\" y=\"367.9951\">Pkg211</text></a><!--MD5=[09b614a08d8cba4a07c9adeb5e0fee81]\n",
       "class E3--><a href=\"psysml:380b438c-f0d0-40f2-a10d-c83a46ac62de\" target=\"_top\" title=\"psysml:380b438c-f0d0-40f2-a10d-c83a46ac62de\" xlink:actuate=\"onRequest\" xlink:href=\"psysml:380b438c-f0d0-40f2-a10d-c83a46ac62de\" xlink:show=\"new\" xlink:title=\"psysml:380b438c-f0d0-40f2-a10d-c83a46ac62de\" xlink:type=\"simple\"><rect fill=\"#FFFFFF\" height=\"45.9375\" id=\"E3\" rx=\"10\" ry=\"10\" style=\"stroke: #383838; stroke-width: 1.5;\" width=\"74\" x=\"265\" y=\"100\"/><text fill=\"#000000\" font-family=\"sans-serif\" font-size=\"12\" font-style=\"italic\" lengthAdjust=\"spacingAndGlyphs\" textLength=\"40\" x=\"282\" y=\"116.1387\">«part»</text><text fill=\"#000000\" font-family=\"sans-serif\" font-size=\"12\" lengthAdjust=\"spacingAndGlyphs\" textLength=\"64\" x=\"268\" y=\"130.1074\">p11: P211</text><line style=\"stroke: #383838; stroke-width: 1.5;\" x1=\"266\" x2=\"338\" y1=\"137.9375\" y2=\"137.9375\"/></a><!--MD5=[ebbe1d658d1005bcc118a6aa81145e00]\n",
       "class E4--><a href=\"psysml:4c18927e-9f3a-4bbe-ae04-0ff2b7ea0a78\" target=\"_top\" title=\"psysml:4c18927e-9f3a-4bbe-ae04-0ff2b7ea0a78\" xlink:actuate=\"onRequest\" xlink:href=\"psysml:4c18927e-9f3a-4bbe-ae04-0ff2b7ea0a78\" xlink:show=\"new\" xlink:title=\"psysml:4c18927e-9f3a-4bbe-ae04-0ff2b7ea0a78\" xlink:type=\"simple\"><rect fill=\"#FFFFFF\" height=\"45.9375\" id=\"E4\" style=\"stroke: #383838; stroke-width: 1.5;\" width=\"70\" x=\"374\" y=\"100\"/><text fill=\"#000000\" font-family=\"sans-serif\" font-size=\"12\" font-style=\"italic\" lengthAdjust=\"spacingAndGlyphs\" textLength=\"68\" x=\"375\" y=\"116.1387\">«part  def»</text><text fill=\"#000000\" font-family=\"sans-serif\" font-size=\"12\" lengthAdjust=\"spacingAndGlyphs\" textLength=\"24\" x=\"397\" y=\"130.1074\">P12</text><line style=\"stroke: #383838; stroke-width: 1.5;\" x1=\"375\" x2=\"443\" y1=\"137.9375\" y2=\"137.9375\"/></a><!--MD5=[b9389687b975829384b498ac4b7476b2]\n",
       "class E8--><a href=\"psysml:b4068f35-75bf-4c63-8263-9508faa965fc\" target=\"_top\" title=\"psysml:b4068f35-75bf-4c63-8263-9508faa965fc\" xlink:actuate=\"onRequest\" xlink:href=\"psysml:b4068f35-75bf-4c63-8263-9508faa965fc\" xlink:show=\"new\" xlink:title=\"psysml:b4068f35-75bf-4c63-8263-9508faa965fc\" xlink:type=\"simple\"><rect fill=\"#FFFFFF\" height=\"45.9375\" id=\"E8\" style=\"stroke: #383838; stroke-width: 1.5;\" width=\"70\" x=\"252\" y=\"396\"/><text fill=\"#000000\" font-family=\"sans-serif\" font-size=\"12\" font-style=\"italic\" lengthAdjust=\"spacingAndGlyphs\" textLength=\"68\" x=\"253\" y=\"412.1387\">«part  def»</text><text fill=\"#000000\" font-family=\"sans-serif\" font-size=\"12\" lengthAdjust=\"spacingAndGlyphs\" textLength=\"32\" x=\"271\" y=\"426.1074\">P211</text><line style=\"stroke: #383838; stroke-width: 1.5;\" x1=\"253\" x2=\"321\" y1=\"433.9375\" y2=\"433.9375\"/></a><!--MD5=[b0060bfdb0500b904584095522b4da3c]\n",
       "link E2 to E8--><a href=\"psysml:86dbe04c-b04a-4ec6-a347-5e4f000abe00\" target=\"_top\" title=\"psysml:86dbe04c-b04a-4ec6-a347-5e4f000abe00\" xlink:actuate=\"onRequest\" xlink:href=\"psysml:86dbe04c-b04a-4ec6-a347-5e4f000abe00\" xlink:show=\"new\" xlink:title=\"psysml:86dbe04c-b04a-4ec6-a347-5e4f000abe00\" xlink:type=\"simple\"><path d=\"M239.5673,170.044 C239.9187,170.8643 240.2829,171.6796 240.6605,172.4884 C241.4156,174.106 242.2242,175.6975 243.0899,177.2503 C244.8213,180.3558 246.7813,183.3063 249,186 C253.8,191.83 259.79,187.73 264,194 C304.62,254.46 298.3,345.57 291.84,390.69 \" fill=\"none\" id=\"E2-&gt;E8\" style=\"stroke: #383838; stroke-width: 1.0; stroke-dasharray: 7.0,7.0;\"/><polygon fill=\"#383838\" points=\"291.1,395.69,296.3662,387.3673,291.8271,390.7431,288.4512,386.204,291.1,395.69\" style=\"stroke: #383838; stroke-width: 1.0;\"/><text fill=\"#000000\" font-family=\"sans-serif\" font-size=\"13\" lengthAdjust=\"spacingAndGlyphs\" textLength=\"58\" x=\"274\" y=\"207.0669\">«import»</text></a><!--MD5=[e3e28c1befcf002155aa15e1416b4315]\n",
       "link E2 to E6--><a href=\"psysml:b4797686-9eb8-4e8e-a70f-411a8a1a5c6c\" target=\"_top\" title=\"psysml:b4797686-9eb8-4e8e-a70f-411a8a1a5c6c\" xlink:actuate=\"onRequest\" xlink:href=\"psysml:b4797686-9eb8-4e8e-a70f-411a8a1a5c6c\" xlink:show=\"new\" xlink:title=\"psysml:b4797686-9eb8-4e8e-a70f-411a8a1a5c6c\" xlink:type=\"simple\"><path d=\"M221.7454,125.2359 C221.6297,125.2555 221.5129,125.2754 221.395,125.2955 C221.1593,125.3358 220.9193,125.3771 220.6752,125.4195 C220.1869,125.5042 219.6819,125.5933 219.1609,125.6868 C217.0769,126.0607 214.7359,126.5053 212.1769,127.0288 C201.9406,129.1225 188.215,132.4775 173.4875,137.615 C144.0325,147.89 110.57,165.295 93,194 C65.99,238.135 83.98,293.0875 109.2162,337.5175 C121.8344,359.7325 136.2641,379.3169 147.7861,393.6031 C150.6666,397.1747 153.3654,400.4151 155.8087,403.2827 C157.0304,404.7165 158.1881,406.0571 159.2728,407.2993 C159.8152,407.9204 160.3393,408.5169 160.8439,409.0882 \" fill=\"none\" id=\"E2-&gt;E6\" style=\"stroke: #383838; stroke-width: 1.0; stroke-dasharray: 7.0,7.0;\"/><polygon fill=\"#383838\" points=\"160.8439,409.0882,157.8829,399.695,157.5335,405.341,151.8875,404.9916,160.8439,409.0882\" style=\"stroke: #383838; stroke-width: 1.0;\"/><text fill=\"#000000\" font-family=\"sans-serif\" font-size=\"13\" lengthAdjust=\"spacingAndGlyphs\" textLength=\"65\" x=\"94\" y=\"207.0669\">«import»*</text></a><!--MD5=[e3d2a08a9c9236652057e8ed0cbc9b62]\n",
       "link E2 to E7--><a href=\"psysml:c873f416-4fb0-4522-b4d5-2fc0ff0d8008\" target=\"_top\" title=\"psysml:c873f416-4fb0-4522-b4d5-2fc0ff0d8008\" xlink:actuate=\"onRequest\" xlink:href=\"psysml:c873f416-4fb0-4522-b4d5-2fc0ff0d8008\" xlink:show=\"new\" xlink:title=\"psysml:c873f416-4fb0-4522-b4d5-2fc0ff0d8008\" xlink:type=\"simple\"><path d=\"M221.8807,130.2617 C221.7401,130.3761 221.5982,130.4918 221.4548,130.6091 C216.8678,134.36 210.8594,139.5688 204.5113,145.875 C191.815,158.4875 177.76,175.49 171,194 C168.41,201.1 166.18,205.18 171,211 C183.11,225.64 200.74,204.48 213,219 C227.045,235.63 228.2325,284.0975 225.8175,329.0338 C225.5156,334.6508 225.1575,340.2126 224.7611,345.6502 C224.662,347.0096 224.5605,348.3613 224.4569,349.7041 C224.4051,350.3755 224.3528,351.0446 224.3,351.7115 C224.2736,352.0449 224.2471,352.3777 224.2204,352.71 \" fill=\"none\" id=\"E2-&gt;E7\" style=\"stroke: #383838; stroke-width: 1.0; stroke-dasharray: 7.0,7.0;\"/><polygon fill=\"#383838\" points=\"224.2204,352.71,228.9272,344.0586,224.6202,347.726,220.9528,343.419,224.2204,352.71\" style=\"stroke: #383838; stroke-width: 1.0;\"/><text fill=\"#000000\" font-family=\"sans-serif\" font-size=\"13\" lengthAdjust=\"spacingAndGlyphs\" textLength=\"87\" x=\"172\" y=\"207.0669\">«import»*::**</text></a><!--MD5=[ca5a752d6098d8a44b3f88316e7452d1]\n",
       "link E3 to E8--><a href=\"psysml:bb41b158-76b0-47f5-886e-e2f97e00e6aa\" target=\"_top\" title=\"psysml:bb41b158-76b0-47f5-886e-e2f97e00e6aa\" xlink:actuate=\"onRequest\" xlink:href=\"psysml:bb41b158-76b0-47f5-886e-e2f97e00e6aa\" xlink:show=\"new\" xlink:title=\"psysml:bb41b158-76b0-47f5-886e-e2f97e00e6aa\" xlink:type=\"simple\"><path d=\"M321.59,146.07 C339.73,166.51 363.93,193.81 364,194 C366.68,201.06 368.76,205.13 364,211 C353.13,224.4 338.12,206.71 326,219 C285.31,260.27 280.82,330.75 282.81,375.81 \" fill=\"none\" id=\"E3-&gt;E8\" style=\"stroke: #383838; stroke-width: 1.0;\"/><polygon fill=\"#FFFFFF\" points=\"284.19,395.93,275.9039,377.4546,289.8709,376.4948,284.19,395.93\" style=\"stroke: #383838; stroke-width: 1.0;\"/><ellipse cx=\"277.5084\" cy=\"371.6309\" fill=\"#383838\" rx=\"2\" ry=\"2\" style=\"stroke: #383838; stroke-width: 1.0;\"/><ellipse cx=\"287.4849\" cy=\"370.9453\" fill=\"#383838\" rx=\"2\" ry=\"2\" style=\"stroke: #383838; stroke-width: 1.0;\"/></a><!--MD5=[15ebcb19ae302d9b601edb458606d402]\n",
       "link E5 to E2--><a href=\"psysml:cb98c000-d2e0-4059-b3dc-41ff4d975042\" target=\"_top\" title=\"psysml:cb98c000-d2e0-4059-b3dc-41ff4d975042\" xlink:actuate=\"onRequest\" xlink:href=\"psysml:cb98c000-d2e0-4059-b3dc-41ff4d975042\" xlink:show=\"new\" xlink:title=\"psysml:cb98c000-d2e0-4059-b3dc-41ff4d975042\" xlink:type=\"simple\"><path d=\"M377.9071,234.5987 C377.6837,234.254 377.4593,233.91 377.2338,233.5668 C376.3317,232.1941 375.413,230.8338 374.4773,229.4868 C372.6059,226.7928 370.6665,224.152 368.6567,221.572 C360.6175,211.2517 351.4513,201.9025 341,194 C324.63,181.62 264.96,198.91 249,186 C246.2863,183.805 243.9511,181.2325 241.9426,178.4061 C240.9384,176.9929 240.0159,175.5163 239.1685,173.9916 C238.7448,173.2292 238.3399,172.4549 237.953,171.6705 C237.7596,171.2782 237.5706,170.8835 237.3861,170.4865 C237.3399,170.3873 237.2941,170.2879 237.2485,170.1883 \" fill=\"none\" id=\"E5-&gt;E2\" style=\"stroke: #383838; stroke-width: 1.0; stroke-dasharray: 7.0,7.0;\"/><polygon fill=\"#383838\" points=\"237.2485,170.1883,237.3599,180.0366,239.3307,174.7341,244.6331,176.705,237.2485,170.1883\" style=\"stroke: #383838; stroke-width: 1.0;\"/><text fill=\"#000000\" font-family=\"sans-serif\" font-size=\"13\" lengthAdjust=\"spacingAndGlyphs\" textLength=\"65\" x=\"356\" y=\"207.0669\">«import»*</text></a><!--MD5=[d7bb3fb34add81b710575eb3799fa2ad]\n",
       "link E8 to E4--><a href=\"psysml:ff856c1d-ebaf-4dbc-8ba8-d8c60136e299\" target=\"_top\" title=\"psysml:ff856c1d-ebaf-4dbc-8ba8-d8c60136e299\" xlink:actuate=\"onRequest\" xlink:href=\"psysml:ff856c1d-ebaf-4dbc-8ba8-d8c60136e299\" xlink:show=\"new\" xlink:title=\"psysml:ff856c1d-ebaf-4dbc-8ba8-d8c60136e299\" xlink:type=\"simple\"><path d=\"M283.6,395.87 C278.58,354.03 274.69,263.54 326,219 C338.77,207.91 466.36,223.27 478,211 C493.94,194.2 479.72,174.01 460.15,157.31 \" fill=\"none\" id=\"E8-&gt;E4\" style=\"stroke: #383838; stroke-width: 1.0;\"/><polygon fill=\"none\" points=\"455.78,162.78,444.15,145.06,464.29,151.66,455.78,162.78\" style=\"stroke: #383838; stroke-width: 1.0;\"/></a><!--MD5=[e8f9eb849d0ccc493ca4b4d97b81650f]\n",
       "@startuml\r\n",
       "skinparam monochrome true\r\n",
       "skinparam classbackgroundcolor white\r\n",
       "skinparam shadowing false\r\n",
       "skinparam wrapWidth 300\r\n",
       "hide circle\r\n",
       "\r\n",
       "package \"ImportTest\" as E1  [[psysml:789e6656-6985-4918-a680-b12b42056b24 ]]  {\r\n",
       "package \"Pkg1\" as E2  [[psysml:9ed5d6a5-603c-4e6a-bfc8-60e703dcd2fe ]]  {\r\n",
       "comp usage \"p11: P211 \" as E3  <<(T,blue) part>> [[psysml:380b438c-f0d0-40f2-a10d-c83a46ac62de ]] {\r\n",
       "}\r\n",
       "comp def \"P12\" as E4  <<(T,blue) part  def>> [[psysml:4c18927e-9f3a-4bbe-ae04-0ff2b7ea0a78 ]] {\r\n",
       "}\r\n",
       "}\r\n",
       "package \"Pkg2\" as E5  [[psysml:63b0367b-32f1-46aa-9fe1-f934424c590d ]]  {\r\n",
       "package \"Pkg21\" as E6  [[psysml:98b17091-6ea5-4037-8451-bfddc724f9d0 ]]  {\r\n",
       "package \"Pkg211\" as E7  [[psysml:45f4d7ec-8fdd-4896-89d5-a877e9eb4cf9 ]]  {\r\n",
       "comp def \"P211\" as E8  <<(T,blue) part  def>> [[psysml:b4068f35-75bf-4c63-8263-9508faa965fc ]] {\r\n",
       "}\r\n",
       "}\r\n",
       "}\r\n",
       "}\r\n",
       "}\r\n",
       "E2 ..> E8 [[psysml:86dbe04c-b04a-4ec6-a347-5e4f000abe00 ]] : <<import>>\r\n",
       "E2 ..> E6 [[psysml:b4797686-9eb8-4e8e-a70f-411a8a1a5c6c ]] : <<import>>*\r\n",
       "E2 ..> E7 [[psysml:c873f416-4fb0-4522-b4d5-2fc0ff0d8008 ]] : <<import>>*::**\r\n",
       "E3 - -:|> E8 [[psysml:bb41b158-76b0-47f5-886e-e2f97e00e6aa ]] \r\n",
       "E5 ..> E2 [[psysml:cb98c000-d2e0-4059-b3dc-41ff4d975042 ]] : <<import>>*\r\n",
       "E8 - -|> E4 [[psysml:ff856c1d-ebaf-4dbc-8ba8-d8c60136e299 ]] \r\n",
       "@enduml\r\n",
       "\n",
       "PlantUML version 1.2020.13(Sat Jun 13 12:26:38 UTC 2020)\n",
       "(EPL source distribution)\n",
       "Java Runtime: OpenJDK Runtime Environment\n",
       "JVM: OpenJDK 64-Bit Server VM\n",
       "Default Encoding: UTF-8\n",
       "Language: en\n",
       "Country: null\n",
       "--></g></svg>"
      ]
     },
     "execution_count": 43,
     "metadata": {},
     "output_type": "execute_result"
    }
   ],
   "source": [
    "%viz --style=\"DEFAULT\" --view=\"MIXED\" \"ImportTest\""
   ]
  },
  {
   "cell_type": "code",
   "execution_count": 44,
   "id": "e2911a79",
   "metadata": {
    "execution": {
     "iopub.execute_input": "2022-08-19T08:17:22.044225Z",
     "iopub.status.busy": "2022-08-19T08:17:22.043675Z",
     "iopub.status.idle": "2022-08-19T08:17:22.078110Z",
     "shell.execute_reply": "2022-08-19T08:17:22.077705Z"
    }
   },
   "outputs": [
    {
     "data": {
      "image/svg+xml": [
       "<?xml version=\"1.0\" encoding=\"UTF-8\" standalone=\"no\"?><svg xmlns=\"http://www.w3.org/2000/svg\" xmlns:xlink=\"http://www.w3.org/1999/xlink\" contentScriptType=\"application/ecmascript\" contentStyleType=\"text/css\" height=\"590px\" preserveAspectRatio=\"none\" style=\"width:522px;height:590px;\" version=\"1.1\" viewBox=\"0 0 522 590\" width=\"522px\" zoomAndPan=\"magnify\"><defs/><g><!--MD5=[fbc87193dbaf4d95561dea2c320d4a47]\n",
       "cluster E1--><a href=\"psysml:789e6656-6985-4918-a680-b12b42056b24\" target=\"_top\" title=\"psysml:789e6656-6985-4918-a680-b12b42056b24\" xlink:actuate=\"onRequest\" xlink:href=\"psysml:789e6656-6985-4918-a680-b12b42056b24\" xlink:show=\"new\" xlink:title=\"psysml:789e6656-6985-4918-a680-b12b42056b24\" xlink:type=\"simple\"><polygon fill=\"#FFFFFF\" points=\"16,6,97,6,104,28.2969,500,28.2969,500,578,16,578,16,6\" style=\"stroke: #000000; stroke-width: 1.5;\"/><line style=\"stroke: #000000; stroke-width: 1.5;\" x1=\"16\" x2=\"104\" y1=\"28.2969\" y2=\"28.2969\"/><text fill=\"#000000\" font-family=\"sans-serif\" font-size=\"14\" font-weight=\"bold\" lengthAdjust=\"spacingAndGlyphs\" textLength=\"75\" x=\"20\" y=\"20.9951\">ImportTest</text></a><!--MD5=[e4f7fae6ed58524ba242bb0b0d3be6b7]\n",
       "cluster E2--><a href=\"psysml:9ed5d6a5-603c-4e6a-bfc8-60e703dcd2fe\" target=\"_top\" title=\"psysml:9ed5d6a5-603c-4e6a-bfc8-60e703dcd2fe\" xlink:actuate=\"onRequest\" xlink:href=\"psysml:9ed5d6a5-603c-4e6a-bfc8-60e703dcd2fe\" xlink:show=\"new\" xlink:title=\"psysml:9ed5d6a5-603c-4e6a-bfc8-60e703dcd2fe\" xlink:type=\"simple\"><polygon fill=\"#FFFFFF\" points=\"222,57,263,57,270,79.2969,468,79.2969,468,170,222,170,222,57\" style=\"stroke: #000000; stroke-width: 1.5;\"/><line style=\"stroke: #000000; stroke-width: 1.5;\" x1=\"222\" x2=\"270\" y1=\"79.2969\" y2=\"79.2969\"/><text fill=\"#000000\" font-family=\"sans-serif\" font-size=\"14\" font-weight=\"bold\" lengthAdjust=\"spacingAndGlyphs\" textLength=\"35\" x=\"226\" y=\"71.9951\">Pkg1</text></a><!--MD5=[de5ec2e2e8f62f467e546659f5068c88]\n",
       "cluster E5--><a href=\"psysml:63b0367b-32f1-46aa-9fe1-f934424c590d\" target=\"_top\" title=\"psysml:63b0367b-32f1-46aa-9fe1-f934424c590d\" xlink:actuate=\"onRequest\" xlink:href=\"psysml:63b0367b-32f1-46aa-9fe1-f934424c590d\" xlink:show=\"new\" xlink:title=\"psysml:63b0367b-32f1-46aa-9fe1-f934424c590d\" xlink:type=\"simple\"><polygon fill=\"#FFFFFF\" points=\"121,235,162,235,169,257.2969,434,257.2969,434,546,121,546,121,235\" style=\"stroke: #000000; stroke-width: 1.5;\"/><line style=\"stroke: #000000; stroke-width: 1.5;\" x1=\"121\" x2=\"169\" y1=\"257.2969\" y2=\"257.2969\"/><text fill=\"#000000\" font-family=\"sans-serif\" font-size=\"14\" font-weight=\"bold\" lengthAdjust=\"spacingAndGlyphs\" textLength=\"35\" x=\"125\" y=\"249.9951\">Pkg2</text></a><!--MD5=[14e3b0961a2654348d326746436168a1]\n",
       "cluster E6--><a href=\"psysml:98b17091-6ea5-4037-8451-bfddc724f9d0\" target=\"_top\" title=\"psysml:98b17091-6ea5-4037-8451-bfddc724f9d0\" xlink:actuate=\"onRequest\" xlink:href=\"psysml:98b17091-6ea5-4037-8451-bfddc724f9d0\" xlink:show=\"new\" xlink:title=\"psysml:98b17091-6ea5-4037-8451-bfddc724f9d0\" xlink:type=\"simple\"><polygon fill=\"#FFFFFF\" points=\"161,294,211,294,218,316.2969,386,316.2969,386,506,161,506,161,294\" style=\"stroke: #000000; stroke-width: 1.5;\"/><line style=\"stroke: #000000; stroke-width: 1.5;\" x1=\"161\" x2=\"218\" y1=\"316.2969\" y2=\"316.2969\"/><text fill=\"#000000\" font-family=\"sans-serif\" font-size=\"14\" font-weight=\"bold\" lengthAdjust=\"spacingAndGlyphs\" textLength=\"44\" x=\"165\" y=\"308.9951\">Pkg21</text></a><!--MD5=[168fadf3d0c3fd93dd5d6da1b1d7ab76]\n",
       "cluster E7--><a href=\"psysml:45f4d7ec-8fdd-4896-89d5-a877e9eb4cf9\" target=\"_top\" title=\"psysml:45f4d7ec-8fdd-4896-89d5-a877e9eb4cf9\" xlink:actuate=\"onRequest\" xlink:href=\"psysml:45f4d7ec-8fdd-4896-89d5-a877e9eb4cf9\" xlink:show=\"new\" xlink:title=\"psysml:45f4d7ec-8fdd-4896-89d5-a877e9eb4cf9\" xlink:type=\"simple\"><polygon fill=\"#FFFFFF\" points=\"209,353,268,353,275,375.2969,346,375.2969,346,466,209,466,209,353\" style=\"stroke: #000000; stroke-width: 1.5;\"/><line style=\"stroke: #000000; stroke-width: 1.5;\" x1=\"209\" x2=\"275\" y1=\"375.2969\" y2=\"375.2969\"/><text fill=\"#000000\" font-family=\"sans-serif\" font-size=\"14\" font-weight=\"bold\" lengthAdjust=\"spacingAndGlyphs\" textLength=\"53\" x=\"213\" y=\"367.9951\">Pkg211</text></a><!--MD5=[09b614a08d8cba4a07c9adeb5e0fee81]\n",
       "class E3--><a href=\"psysml:380b438c-f0d0-40f2-a10d-c83a46ac62de\" target=\"_top\" title=\"psysml:380b438c-f0d0-40f2-a10d-c83a46ac62de\" xlink:actuate=\"onRequest\" xlink:href=\"psysml:380b438c-f0d0-40f2-a10d-c83a46ac62de\" xlink:show=\"new\" xlink:title=\"psysml:380b438c-f0d0-40f2-a10d-c83a46ac62de\" xlink:type=\"simple\"><rect fill=\"#FFFFFF\" height=\"45.9375\" id=\"E3\" rx=\"10\" ry=\"10\" style=\"stroke: #383838; stroke-width: 1.5;\" width=\"74\" x=\"265\" y=\"100\"/><text fill=\"#000000\" font-family=\"sans-serif\" font-size=\"12\" font-style=\"italic\" lengthAdjust=\"spacingAndGlyphs\" textLength=\"40\" x=\"282\" y=\"116.1387\">«part»</text><text fill=\"#000000\" font-family=\"sans-serif\" font-size=\"12\" lengthAdjust=\"spacingAndGlyphs\" textLength=\"64\" x=\"268\" y=\"130.1074\">p11: P211</text><line style=\"stroke: #383838; stroke-width: 1.5;\" x1=\"266\" x2=\"338\" y1=\"137.9375\" y2=\"137.9375\"/></a><!--MD5=[ebbe1d658d1005bcc118a6aa81145e00]\n",
       "class E4--><a href=\"psysml:4c18927e-9f3a-4bbe-ae04-0ff2b7ea0a78\" target=\"_top\" title=\"psysml:4c18927e-9f3a-4bbe-ae04-0ff2b7ea0a78\" xlink:actuate=\"onRequest\" xlink:href=\"psysml:4c18927e-9f3a-4bbe-ae04-0ff2b7ea0a78\" xlink:show=\"new\" xlink:title=\"psysml:4c18927e-9f3a-4bbe-ae04-0ff2b7ea0a78\" xlink:type=\"simple\"><rect fill=\"#FFFFFF\" height=\"45.9375\" id=\"E4\" style=\"stroke: #383838; stroke-width: 1.5;\" width=\"70\" x=\"374\" y=\"100\"/><text fill=\"#000000\" font-family=\"sans-serif\" font-size=\"12\" font-style=\"italic\" lengthAdjust=\"spacingAndGlyphs\" textLength=\"68\" x=\"375\" y=\"116.1387\">«part  def»</text><text fill=\"#000000\" font-family=\"sans-serif\" font-size=\"12\" lengthAdjust=\"spacingAndGlyphs\" textLength=\"24\" x=\"397\" y=\"130.1074\">P12</text><line style=\"stroke: #383838; stroke-width: 1.5;\" x1=\"375\" x2=\"443\" y1=\"137.9375\" y2=\"137.9375\"/></a><!--MD5=[b9389687b975829384b498ac4b7476b2]\n",
       "class E8--><a href=\"psysml:b4068f35-75bf-4c63-8263-9508faa965fc\" target=\"_top\" title=\"psysml:b4068f35-75bf-4c63-8263-9508faa965fc\" xlink:actuate=\"onRequest\" xlink:href=\"psysml:b4068f35-75bf-4c63-8263-9508faa965fc\" xlink:show=\"new\" xlink:title=\"psysml:b4068f35-75bf-4c63-8263-9508faa965fc\" xlink:type=\"simple\"><rect fill=\"#FFFFFF\" height=\"45.9375\" id=\"E8\" style=\"stroke: #383838; stroke-width: 1.5;\" width=\"70\" x=\"252\" y=\"396\"/><text fill=\"#000000\" font-family=\"sans-serif\" font-size=\"12\" font-style=\"italic\" lengthAdjust=\"spacingAndGlyphs\" textLength=\"68\" x=\"253\" y=\"412.1387\">«part  def»</text><text fill=\"#000000\" font-family=\"sans-serif\" font-size=\"12\" lengthAdjust=\"spacingAndGlyphs\" textLength=\"32\" x=\"271\" y=\"426.1074\">P211</text><line style=\"stroke: #383838; stroke-width: 1.5;\" x1=\"253\" x2=\"321\" y1=\"433.9375\" y2=\"433.9375\"/></a><!--MD5=[b0060bfdb0500b904584095522b4da3c]\n",
       "link E2 to E8--><a href=\"psysml:86dbe04c-b04a-4ec6-a347-5e4f000abe00\" target=\"_top\" title=\"psysml:86dbe04c-b04a-4ec6-a347-5e4f000abe00\" xlink:actuate=\"onRequest\" xlink:href=\"psysml:86dbe04c-b04a-4ec6-a347-5e4f000abe00\" xlink:show=\"new\" xlink:title=\"psysml:86dbe04c-b04a-4ec6-a347-5e4f000abe00\" xlink:type=\"simple\"><path d=\"M239.5673,170.044 C239.9187,170.8643 240.2829,171.6796 240.6605,172.4884 C241.4156,174.106 242.2242,175.6975 243.0899,177.2503 C244.8213,180.3558 246.7813,183.3063 249,186 C253.8,191.83 259.79,187.73 264,194 C304.62,254.46 298.3,345.57 291.84,390.69 \" fill=\"none\" id=\"E2-&gt;E8\" style=\"stroke: #383838; stroke-width: 1.0; stroke-dasharray: 7.0,7.0;\"/><polygon fill=\"#383838\" points=\"291.1,395.69,296.3662,387.3673,291.8271,390.7431,288.4512,386.204,291.1,395.69\" style=\"stroke: #383838; stroke-width: 1.0;\"/><text fill=\"#000000\" font-family=\"sans-serif\" font-size=\"13\" lengthAdjust=\"spacingAndGlyphs\" textLength=\"58\" x=\"274\" y=\"207.0669\">«import»</text></a><!--MD5=[e3e28c1befcf002155aa15e1416b4315]\n",
       "link E2 to E6--><a href=\"psysml:b4797686-9eb8-4e8e-a70f-411a8a1a5c6c\" target=\"_top\" title=\"psysml:b4797686-9eb8-4e8e-a70f-411a8a1a5c6c\" xlink:actuate=\"onRequest\" xlink:href=\"psysml:b4797686-9eb8-4e8e-a70f-411a8a1a5c6c\" xlink:show=\"new\" xlink:title=\"psysml:b4797686-9eb8-4e8e-a70f-411a8a1a5c6c\" xlink:type=\"simple\"><path d=\"M221.7454,125.2359 C221.6297,125.2555 221.5129,125.2754 221.395,125.2955 C221.1593,125.3358 220.9193,125.3771 220.6752,125.4195 C220.1869,125.5042 219.6819,125.5933 219.1609,125.6868 C217.0769,126.0607 214.7359,126.5053 212.1769,127.0288 C201.9406,129.1225 188.215,132.4775 173.4875,137.615 C144.0325,147.89 110.57,165.295 93,194 C65.99,238.135 83.98,293.0875 109.2162,337.5175 C121.8344,359.7325 136.2641,379.3169 147.7861,393.6031 C150.6666,397.1747 153.3654,400.4151 155.8087,403.2827 C157.0304,404.7165 158.1881,406.0571 159.2728,407.2993 C159.8152,407.9204 160.3393,408.5169 160.8439,409.0882 \" fill=\"none\" id=\"E2-&gt;E6\" style=\"stroke: #383838; stroke-width: 1.0; stroke-dasharray: 7.0,7.0;\"/><polygon fill=\"#383838\" points=\"160.8439,409.0882,157.8829,399.695,157.5335,405.341,151.8875,404.9916,160.8439,409.0882\" style=\"stroke: #383838; stroke-width: 1.0;\"/><text fill=\"#000000\" font-family=\"sans-serif\" font-size=\"13\" lengthAdjust=\"spacingAndGlyphs\" textLength=\"65\" x=\"94\" y=\"207.0669\">«import»*</text></a><!--MD5=[e3d2a08a9c9236652057e8ed0cbc9b62]\n",
       "link E2 to E7--><a href=\"psysml:c873f416-4fb0-4522-b4d5-2fc0ff0d8008\" target=\"_top\" title=\"psysml:c873f416-4fb0-4522-b4d5-2fc0ff0d8008\" xlink:actuate=\"onRequest\" xlink:href=\"psysml:c873f416-4fb0-4522-b4d5-2fc0ff0d8008\" xlink:show=\"new\" xlink:title=\"psysml:c873f416-4fb0-4522-b4d5-2fc0ff0d8008\" xlink:type=\"simple\"><path d=\"M221.8807,130.2617 C221.7401,130.3761 221.5982,130.4918 221.4548,130.6091 C216.8678,134.36 210.8594,139.5688 204.5113,145.875 C191.815,158.4875 177.76,175.49 171,194 C168.41,201.1 166.18,205.18 171,211 C183.11,225.64 200.74,204.48 213,219 C227.045,235.63 228.2325,284.0975 225.8175,329.0338 C225.5156,334.6508 225.1575,340.2126 224.7611,345.6502 C224.662,347.0096 224.5605,348.3613 224.4569,349.7041 C224.4051,350.3755 224.3528,351.0446 224.3,351.7115 C224.2736,352.0449 224.2471,352.3777 224.2204,352.71 \" fill=\"none\" id=\"E2-&gt;E7\" style=\"stroke: #383838; stroke-width: 1.0; stroke-dasharray: 7.0,7.0;\"/><polygon fill=\"#383838\" points=\"224.2204,352.71,228.9272,344.0586,224.6202,347.726,220.9528,343.419,224.2204,352.71\" style=\"stroke: #383838; stroke-width: 1.0;\"/><text fill=\"#000000\" font-family=\"sans-serif\" font-size=\"13\" lengthAdjust=\"spacingAndGlyphs\" textLength=\"87\" x=\"172\" y=\"207.0669\">«import»*::**</text></a><!--MD5=[ca5a752d6098d8a44b3f88316e7452d1]\n",
       "link E3 to E8--><a href=\"psysml:bb41b158-76b0-47f5-886e-e2f97e00e6aa\" target=\"_top\" title=\"psysml:bb41b158-76b0-47f5-886e-e2f97e00e6aa\" xlink:actuate=\"onRequest\" xlink:href=\"psysml:bb41b158-76b0-47f5-886e-e2f97e00e6aa\" xlink:show=\"new\" xlink:title=\"psysml:bb41b158-76b0-47f5-886e-e2f97e00e6aa\" xlink:type=\"simple\"><path d=\"M321.59,146.07 C339.73,166.51 363.93,193.81 364,194 C366.68,201.06 368.76,205.13 364,211 C353.13,224.4 338.12,206.71 326,219 C285.31,260.27 280.82,330.75 282.81,375.81 \" fill=\"none\" id=\"E3-&gt;E8\" style=\"stroke: #383838; stroke-width: 1.0;\"/><polygon fill=\"#FFFFFF\" points=\"284.19,395.93,275.9039,377.4546,289.8709,376.4948,284.19,395.93\" style=\"stroke: #383838; stroke-width: 1.0;\"/><ellipse cx=\"277.5084\" cy=\"371.6309\" fill=\"#383838\" rx=\"2\" ry=\"2\" style=\"stroke: #383838; stroke-width: 1.0;\"/><ellipse cx=\"287.4849\" cy=\"370.9453\" fill=\"#383838\" rx=\"2\" ry=\"2\" style=\"stroke: #383838; stroke-width: 1.0;\"/></a><!--MD5=[15ebcb19ae302d9b601edb458606d402]\n",
       "link E5 to E2--><a href=\"psysml:cb98c000-d2e0-4059-b3dc-41ff4d975042\" target=\"_top\" title=\"psysml:cb98c000-d2e0-4059-b3dc-41ff4d975042\" xlink:actuate=\"onRequest\" xlink:href=\"psysml:cb98c000-d2e0-4059-b3dc-41ff4d975042\" xlink:show=\"new\" xlink:title=\"psysml:cb98c000-d2e0-4059-b3dc-41ff4d975042\" xlink:type=\"simple\"><path d=\"M377.9071,234.5987 C377.6837,234.254 377.4593,233.91 377.2338,233.5668 C376.3317,232.1941 375.413,230.8338 374.4773,229.4868 C372.6059,226.7928 370.6665,224.152 368.6567,221.572 C360.6175,211.2517 351.4513,201.9025 341,194 C324.63,181.62 264.96,198.91 249,186 C246.2863,183.805 243.9511,181.2325 241.9426,178.4061 C240.9384,176.9929 240.0159,175.5163 239.1685,173.9916 C238.7448,173.2292 238.3399,172.4549 237.953,171.6705 C237.7596,171.2782 237.5706,170.8835 237.3861,170.4865 C237.3399,170.3873 237.2941,170.2879 237.2485,170.1883 \" fill=\"none\" id=\"E5-&gt;E2\" style=\"stroke: #383838; stroke-width: 1.0; stroke-dasharray: 7.0,7.0;\"/><polygon fill=\"#383838\" points=\"237.2485,170.1883,237.3599,180.0366,239.3307,174.7341,244.6331,176.705,237.2485,170.1883\" style=\"stroke: #383838; stroke-width: 1.0;\"/><text fill=\"#000000\" font-family=\"sans-serif\" font-size=\"13\" lengthAdjust=\"spacingAndGlyphs\" textLength=\"65\" x=\"356\" y=\"207.0669\">«import»*</text></a><!--MD5=[d7bb3fb34add81b710575eb3799fa2ad]\n",
       "link E8 to E4--><a href=\"psysml:ff856c1d-ebaf-4dbc-8ba8-d8c60136e299\" target=\"_top\" title=\"psysml:ff856c1d-ebaf-4dbc-8ba8-d8c60136e299\" xlink:actuate=\"onRequest\" xlink:href=\"psysml:ff856c1d-ebaf-4dbc-8ba8-d8c60136e299\" xlink:show=\"new\" xlink:title=\"psysml:ff856c1d-ebaf-4dbc-8ba8-d8c60136e299\" xlink:type=\"simple\"><path d=\"M283.6,395.87 C278.58,354.03 274.69,263.54 326,219 C338.77,207.91 466.36,223.27 478,211 C493.94,194.2 479.72,174.01 460.15,157.31 \" fill=\"none\" id=\"E8-&gt;E4\" style=\"stroke: #383838; stroke-width: 1.0;\"/><polygon fill=\"none\" points=\"455.78,162.78,444.15,145.06,464.29,151.66,455.78,162.78\" style=\"stroke: #383838; stroke-width: 1.0;\"/></a><!--MD5=[7474dabdb0b72cbc9c2489e465e6ef1f]\n",
       "@startuml\r\n",
       "top to bottom direction\r\n",
       "skinparam monochrome true\r\n",
       "skinparam classbackgroundcolor white\r\n",
       "skinparam shadowing false\r\n",
       "skinparam wrapWidth 300\r\n",
       "hide circle\r\n",
       "\r\n",
       "package \"ImportTest\" as E1  [[psysml:789e6656-6985-4918-a680-b12b42056b24 ]]  {\r\n",
       "package \"Pkg1\" as E2  [[psysml:9ed5d6a5-603c-4e6a-bfc8-60e703dcd2fe ]]  {\r\n",
       "comp usage \"p11: P211 \" as E3  <<(T,blue) part>> [[psysml:380b438c-f0d0-40f2-a10d-c83a46ac62de ]] {\r\n",
       "}\r\n",
       "comp def \"P12\" as E4  <<(T,blue) part  def>> [[psysml:4c18927e-9f3a-4bbe-ae04-0ff2b7ea0a78 ]] {\r\n",
       "}\r\n",
       "}\r\n",
       "package \"Pkg2\" as E5  [[psysml:63b0367b-32f1-46aa-9fe1-f934424c590d ]]  {\r\n",
       "package \"Pkg21\" as E6  [[psysml:98b17091-6ea5-4037-8451-bfddc724f9d0 ]]  {\r\n",
       "package \"Pkg211\" as E7  [[psysml:45f4d7ec-8fdd-4896-89d5-a877e9eb4cf9 ]]  {\r\n",
       "comp def \"P211\" as E8  <<(T,blue) part  def>> [[psysml:b4068f35-75bf-4c63-8263-9508faa965fc ]] {\r\n",
       "}\r\n",
       "}\r\n",
       "}\r\n",
       "}\r\n",
       "}\r\n",
       "E2 ..> E8 [[psysml:86dbe04c-b04a-4ec6-a347-5e4f000abe00 ]] : <<import>>\r\n",
       "E2 ..> E6 [[psysml:b4797686-9eb8-4e8e-a70f-411a8a1a5c6c ]] : <<import>>*\r\n",
       "E2 ..> E7 [[psysml:c873f416-4fb0-4522-b4d5-2fc0ff0d8008 ]] : <<import>>*::**\r\n",
       "E3 - -:|> E8 [[psysml:bb41b158-76b0-47f5-886e-e2f97e00e6aa ]] \r\n",
       "E5 ..> E2 [[psysml:cb98c000-d2e0-4059-b3dc-41ff4d975042 ]] : <<import>>*\r\n",
       "E8 - -|> E4 [[psysml:ff856c1d-ebaf-4dbc-8ba8-d8c60136e299 ]] \r\n",
       "@enduml\r\n",
       "\n",
       "PlantUML version 1.2020.13(Sat Jun 13 12:26:38 UTC 2020)\n",
       "(EPL source distribution)\n",
       "Java Runtime: OpenJDK Runtime Environment\n",
       "JVM: OpenJDK 64-Bit Server VM\n",
       "Default Encoding: UTF-8\n",
       "Language: en\n",
       "Country: null\n",
       "--></g></svg>"
      ]
     },
     "execution_count": 44,
     "metadata": {},
     "output_type": "execute_result"
    }
   ],
   "source": [
    "%viz --style=\"TB\" --view=\"Default\" \"ImportTest\""
   ]
  },
  {
   "cell_type": "code",
   "execution_count": 45,
   "id": "02cd1aa7",
   "metadata": {
    "execution": {
     "iopub.execute_input": "2022-08-19T08:17:22.127792Z",
     "iopub.status.busy": "2022-08-19T08:17:22.127314Z",
     "iopub.status.idle": "2022-08-19T08:17:22.165393Z",
     "shell.execute_reply": "2022-08-19T08:17:22.164988Z"
    }
   },
   "outputs": [
    {
     "data": {
      "image/svg+xml": [
       "<?xml version=\"1.0\" encoding=\"UTF-8\" standalone=\"no\"?><svg xmlns=\"http://www.w3.org/2000/svg\" xmlns:xlink=\"http://www.w3.org/1999/xlink\" contentScriptType=\"application/ecmascript\" contentStyleType=\"text/css\" height=\"590px\" preserveAspectRatio=\"none\" style=\"width:522px;height:590px;\" version=\"1.1\" viewBox=\"0 0 522 590\" width=\"522px\" zoomAndPan=\"magnify\"><defs/><g><!--MD5=[fbc87193dbaf4d95561dea2c320d4a47]\n",
       "cluster E1--><a href=\"psysml:789e6656-6985-4918-a680-b12b42056b24\" target=\"_top\" title=\"psysml:789e6656-6985-4918-a680-b12b42056b24\" xlink:actuate=\"onRequest\" xlink:href=\"psysml:789e6656-6985-4918-a680-b12b42056b24\" xlink:show=\"new\" xlink:title=\"psysml:789e6656-6985-4918-a680-b12b42056b24\" xlink:type=\"simple\"><polygon fill=\"#FFFFFF\" points=\"16,6,97,6,104,28.2969,500,28.2969,500,578,16,578,16,6\" style=\"stroke: #000000; stroke-width: 1.5;\"/><line style=\"stroke: #000000; stroke-width: 1.5;\" x1=\"16\" x2=\"104\" y1=\"28.2969\" y2=\"28.2969\"/><text fill=\"#000000\" font-family=\"sans-serif\" font-size=\"14\" font-weight=\"bold\" lengthAdjust=\"spacingAndGlyphs\" textLength=\"75\" x=\"20\" y=\"20.9951\">ImportTest</text></a><!--MD5=[e4f7fae6ed58524ba242bb0b0d3be6b7]\n",
       "cluster E2--><a href=\"psysml:9ed5d6a5-603c-4e6a-bfc8-60e703dcd2fe\" target=\"_top\" title=\"psysml:9ed5d6a5-603c-4e6a-bfc8-60e703dcd2fe\" xlink:actuate=\"onRequest\" xlink:href=\"psysml:9ed5d6a5-603c-4e6a-bfc8-60e703dcd2fe\" xlink:show=\"new\" xlink:title=\"psysml:9ed5d6a5-603c-4e6a-bfc8-60e703dcd2fe\" xlink:type=\"simple\"><polygon fill=\"#FFFFFF\" points=\"222,57,263,57,270,79.2969,468,79.2969,468,170,222,170,222,57\" style=\"stroke: #000000; stroke-width: 1.5;\"/><line style=\"stroke: #000000; stroke-width: 1.5;\" x1=\"222\" x2=\"270\" y1=\"79.2969\" y2=\"79.2969\"/><text fill=\"#000000\" font-family=\"sans-serif\" font-size=\"14\" font-weight=\"bold\" lengthAdjust=\"spacingAndGlyphs\" textLength=\"35\" x=\"226\" y=\"71.9951\">Pkg1</text></a><!--MD5=[de5ec2e2e8f62f467e546659f5068c88]\n",
       "cluster E5--><a href=\"psysml:63b0367b-32f1-46aa-9fe1-f934424c590d\" target=\"_top\" title=\"psysml:63b0367b-32f1-46aa-9fe1-f934424c590d\" xlink:actuate=\"onRequest\" xlink:href=\"psysml:63b0367b-32f1-46aa-9fe1-f934424c590d\" xlink:show=\"new\" xlink:title=\"psysml:63b0367b-32f1-46aa-9fe1-f934424c590d\" xlink:type=\"simple\"><polygon fill=\"#FFFFFF\" points=\"121,235,162,235,169,257.2969,434,257.2969,434,546,121,546,121,235\" style=\"stroke: #000000; stroke-width: 1.5;\"/><line style=\"stroke: #000000; stroke-width: 1.5;\" x1=\"121\" x2=\"169\" y1=\"257.2969\" y2=\"257.2969\"/><text fill=\"#000000\" font-family=\"sans-serif\" font-size=\"14\" font-weight=\"bold\" lengthAdjust=\"spacingAndGlyphs\" textLength=\"35\" x=\"125\" y=\"249.9951\">Pkg2</text></a><!--MD5=[14e3b0961a2654348d326746436168a1]\n",
       "cluster E6--><a href=\"psysml:98b17091-6ea5-4037-8451-bfddc724f9d0\" target=\"_top\" title=\"psysml:98b17091-6ea5-4037-8451-bfddc724f9d0\" xlink:actuate=\"onRequest\" xlink:href=\"psysml:98b17091-6ea5-4037-8451-bfddc724f9d0\" xlink:show=\"new\" xlink:title=\"psysml:98b17091-6ea5-4037-8451-bfddc724f9d0\" xlink:type=\"simple\"><polygon fill=\"#FFFFFF\" points=\"161,294,211,294,218,316.2969,386,316.2969,386,506,161,506,161,294\" style=\"stroke: #000000; stroke-width: 1.5;\"/><line style=\"stroke: #000000; stroke-width: 1.5;\" x1=\"161\" x2=\"218\" y1=\"316.2969\" y2=\"316.2969\"/><text fill=\"#000000\" font-family=\"sans-serif\" font-size=\"14\" font-weight=\"bold\" lengthAdjust=\"spacingAndGlyphs\" textLength=\"44\" x=\"165\" y=\"308.9951\">Pkg21</text></a><!--MD5=[168fadf3d0c3fd93dd5d6da1b1d7ab76]\n",
       "cluster E7--><a href=\"psysml:45f4d7ec-8fdd-4896-89d5-a877e9eb4cf9\" target=\"_top\" title=\"psysml:45f4d7ec-8fdd-4896-89d5-a877e9eb4cf9\" xlink:actuate=\"onRequest\" xlink:href=\"psysml:45f4d7ec-8fdd-4896-89d5-a877e9eb4cf9\" xlink:show=\"new\" xlink:title=\"psysml:45f4d7ec-8fdd-4896-89d5-a877e9eb4cf9\" xlink:type=\"simple\"><polygon fill=\"#FFFFFF\" points=\"209,353,268,353,275,375.2969,346,375.2969,346,466,209,466,209,353\" style=\"stroke: #000000; stroke-width: 1.5;\"/><line style=\"stroke: #000000; stroke-width: 1.5;\" x1=\"209\" x2=\"275\" y1=\"375.2969\" y2=\"375.2969\"/><text fill=\"#000000\" font-family=\"sans-serif\" font-size=\"14\" font-weight=\"bold\" lengthAdjust=\"spacingAndGlyphs\" textLength=\"53\" x=\"213\" y=\"367.9951\">Pkg211</text></a><!--MD5=[09b614a08d8cba4a07c9adeb5e0fee81]\n",
       "class E3--><a href=\"psysml:380b438c-f0d0-40f2-a10d-c83a46ac62de\" target=\"_top\" title=\"psysml:380b438c-f0d0-40f2-a10d-c83a46ac62de\" xlink:actuate=\"onRequest\" xlink:href=\"psysml:380b438c-f0d0-40f2-a10d-c83a46ac62de\" xlink:show=\"new\" xlink:title=\"psysml:380b438c-f0d0-40f2-a10d-c83a46ac62de\" xlink:type=\"simple\"><rect fill=\"#FFFFFF\" height=\"45.9375\" id=\"E3\" rx=\"10\" ry=\"10\" style=\"stroke: #383838; stroke-width: 1.5;\" width=\"74\" x=\"265\" y=\"100\"/><text fill=\"#000000\" font-family=\"sans-serif\" font-size=\"12\" font-style=\"italic\" lengthAdjust=\"spacingAndGlyphs\" textLength=\"40\" x=\"282\" y=\"116.1387\">«part»</text><text fill=\"#000000\" font-family=\"sans-serif\" font-size=\"12\" lengthAdjust=\"spacingAndGlyphs\" textLength=\"64\" x=\"268\" y=\"130.1074\">p11: P211</text><line style=\"stroke: #383838; stroke-width: 1.5;\" x1=\"266\" x2=\"338\" y1=\"137.9375\" y2=\"137.9375\"/></a><!--MD5=[ebbe1d658d1005bcc118a6aa81145e00]\n",
       "class E4--><a href=\"psysml:4c18927e-9f3a-4bbe-ae04-0ff2b7ea0a78\" target=\"_top\" title=\"psysml:4c18927e-9f3a-4bbe-ae04-0ff2b7ea0a78\" xlink:actuate=\"onRequest\" xlink:href=\"psysml:4c18927e-9f3a-4bbe-ae04-0ff2b7ea0a78\" xlink:show=\"new\" xlink:title=\"psysml:4c18927e-9f3a-4bbe-ae04-0ff2b7ea0a78\" xlink:type=\"simple\"><rect fill=\"#FFFFFF\" height=\"45.9375\" id=\"E4\" style=\"stroke: #383838; stroke-width: 1.5;\" width=\"70\" x=\"374\" y=\"100\"/><text fill=\"#000000\" font-family=\"sans-serif\" font-size=\"12\" font-style=\"italic\" lengthAdjust=\"spacingAndGlyphs\" textLength=\"68\" x=\"375\" y=\"116.1387\">«part  def»</text><text fill=\"#000000\" font-family=\"sans-serif\" font-size=\"12\" lengthAdjust=\"spacingAndGlyphs\" textLength=\"24\" x=\"397\" y=\"130.1074\">P12</text><line style=\"stroke: #383838; stroke-width: 1.5;\" x1=\"375\" x2=\"443\" y1=\"137.9375\" y2=\"137.9375\"/></a><!--MD5=[b9389687b975829384b498ac4b7476b2]\n",
       "class E8--><a href=\"psysml:b4068f35-75bf-4c63-8263-9508faa965fc\" target=\"_top\" title=\"psysml:b4068f35-75bf-4c63-8263-9508faa965fc\" xlink:actuate=\"onRequest\" xlink:href=\"psysml:b4068f35-75bf-4c63-8263-9508faa965fc\" xlink:show=\"new\" xlink:title=\"psysml:b4068f35-75bf-4c63-8263-9508faa965fc\" xlink:type=\"simple\"><rect fill=\"#FFFFFF\" height=\"45.9375\" id=\"E8\" style=\"stroke: #383838; stroke-width: 1.5;\" width=\"70\" x=\"252\" y=\"396\"/><text fill=\"#000000\" font-family=\"sans-serif\" font-size=\"12\" font-style=\"italic\" lengthAdjust=\"spacingAndGlyphs\" textLength=\"68\" x=\"253\" y=\"412.1387\">«part  def»</text><text fill=\"#000000\" font-family=\"sans-serif\" font-size=\"12\" lengthAdjust=\"spacingAndGlyphs\" textLength=\"32\" x=\"271\" y=\"426.1074\">P211</text><line style=\"stroke: #383838; stroke-width: 1.5;\" x1=\"253\" x2=\"321\" y1=\"433.9375\" y2=\"433.9375\"/></a><!--MD5=[b0060bfdb0500b904584095522b4da3c]\n",
       "link E2 to E8--><a href=\"psysml:86dbe04c-b04a-4ec6-a347-5e4f000abe00\" target=\"_top\" title=\"psysml:86dbe04c-b04a-4ec6-a347-5e4f000abe00\" xlink:actuate=\"onRequest\" xlink:href=\"psysml:86dbe04c-b04a-4ec6-a347-5e4f000abe00\" xlink:show=\"new\" xlink:title=\"psysml:86dbe04c-b04a-4ec6-a347-5e4f000abe00\" xlink:type=\"simple\"><path d=\"M239.5673,170.044 C239.9187,170.8643 240.2829,171.6796 240.6605,172.4884 C241.4156,174.106 242.2242,175.6975 243.0899,177.2503 C244.8213,180.3558 246.7813,183.3063 249,186 C253.8,191.83 259.79,187.73 264,194 C304.62,254.46 298.3,345.57 291.84,390.69 \" fill=\"none\" id=\"E2-&gt;E8\" style=\"stroke: #383838; stroke-width: 1.0; stroke-dasharray: 7.0,7.0;\"/><polygon fill=\"#383838\" points=\"291.1,395.69,296.3662,387.3673,291.8271,390.7431,288.4512,386.204,291.1,395.69\" style=\"stroke: #383838; stroke-width: 1.0;\"/><text fill=\"#000000\" font-family=\"sans-serif\" font-size=\"13\" lengthAdjust=\"spacingAndGlyphs\" textLength=\"58\" x=\"274\" y=\"207.0669\">«import»</text></a><!--MD5=[e3e28c1befcf002155aa15e1416b4315]\n",
       "link E2 to E6--><a href=\"psysml:b4797686-9eb8-4e8e-a70f-411a8a1a5c6c\" target=\"_top\" title=\"psysml:b4797686-9eb8-4e8e-a70f-411a8a1a5c6c\" xlink:actuate=\"onRequest\" xlink:href=\"psysml:b4797686-9eb8-4e8e-a70f-411a8a1a5c6c\" xlink:show=\"new\" xlink:title=\"psysml:b4797686-9eb8-4e8e-a70f-411a8a1a5c6c\" xlink:type=\"simple\"><path d=\"M221.7454,125.2359 C221.6297,125.2555 221.5129,125.2754 221.395,125.2955 C221.1593,125.3358 220.9193,125.3771 220.6752,125.4195 C220.1869,125.5042 219.6819,125.5933 219.1609,125.6868 C217.0769,126.0607 214.7359,126.5053 212.1769,127.0288 C201.9406,129.1225 188.215,132.4775 173.4875,137.615 C144.0325,147.89 110.57,165.295 93,194 C65.99,238.135 83.98,293.0875 109.2162,337.5175 C121.8344,359.7325 136.2641,379.3169 147.7861,393.6031 C150.6666,397.1747 153.3654,400.4151 155.8087,403.2827 C157.0304,404.7165 158.1881,406.0571 159.2728,407.2993 C159.8152,407.9204 160.3393,408.5169 160.8439,409.0882 \" fill=\"none\" id=\"E2-&gt;E6\" style=\"stroke: #383838; stroke-width: 1.0; stroke-dasharray: 7.0,7.0;\"/><polygon fill=\"#383838\" points=\"160.8439,409.0882,157.8829,399.695,157.5335,405.341,151.8875,404.9916,160.8439,409.0882\" style=\"stroke: #383838; stroke-width: 1.0;\"/><text fill=\"#000000\" font-family=\"sans-serif\" font-size=\"13\" lengthAdjust=\"spacingAndGlyphs\" textLength=\"65\" x=\"94\" y=\"207.0669\">«import»*</text></a><!--MD5=[e3d2a08a9c9236652057e8ed0cbc9b62]\n",
       "link E2 to E7--><a href=\"psysml:c873f416-4fb0-4522-b4d5-2fc0ff0d8008\" target=\"_top\" title=\"psysml:c873f416-4fb0-4522-b4d5-2fc0ff0d8008\" xlink:actuate=\"onRequest\" xlink:href=\"psysml:c873f416-4fb0-4522-b4d5-2fc0ff0d8008\" xlink:show=\"new\" xlink:title=\"psysml:c873f416-4fb0-4522-b4d5-2fc0ff0d8008\" xlink:type=\"simple\"><path d=\"M221.8807,130.2617 C221.7401,130.3761 221.5982,130.4918 221.4548,130.6091 C216.8678,134.36 210.8594,139.5688 204.5113,145.875 C191.815,158.4875 177.76,175.49 171,194 C168.41,201.1 166.18,205.18 171,211 C183.11,225.64 200.74,204.48 213,219 C227.045,235.63 228.2325,284.0975 225.8175,329.0338 C225.5156,334.6508 225.1575,340.2126 224.7611,345.6502 C224.662,347.0096 224.5605,348.3613 224.4569,349.7041 C224.4051,350.3755 224.3528,351.0446 224.3,351.7115 C224.2736,352.0449 224.2471,352.3777 224.2204,352.71 \" fill=\"none\" id=\"E2-&gt;E7\" style=\"stroke: #383838; stroke-width: 1.0; stroke-dasharray: 7.0,7.0;\"/><polygon fill=\"#383838\" points=\"224.2204,352.71,228.9272,344.0586,224.6202,347.726,220.9528,343.419,224.2204,352.71\" style=\"stroke: #383838; stroke-width: 1.0;\"/><text fill=\"#000000\" font-family=\"sans-serif\" font-size=\"13\" lengthAdjust=\"spacingAndGlyphs\" textLength=\"87\" x=\"172\" y=\"207.0669\">«import»*::**</text></a><!--MD5=[ca5a752d6098d8a44b3f88316e7452d1]\n",
       "link E3 to E8--><a href=\"psysml:bb41b158-76b0-47f5-886e-e2f97e00e6aa\" target=\"_top\" title=\"psysml:bb41b158-76b0-47f5-886e-e2f97e00e6aa\" xlink:actuate=\"onRequest\" xlink:href=\"psysml:bb41b158-76b0-47f5-886e-e2f97e00e6aa\" xlink:show=\"new\" xlink:title=\"psysml:bb41b158-76b0-47f5-886e-e2f97e00e6aa\" xlink:type=\"simple\"><path d=\"M321.59,146.07 C339.73,166.51 363.93,193.81 364,194 C366.68,201.06 368.76,205.13 364,211 C353.13,224.4 338.12,206.71 326,219 C285.31,260.27 280.82,330.75 282.81,375.81 \" fill=\"none\" id=\"E3-&gt;E8\" style=\"stroke: #383838; stroke-width: 1.0;\"/><polygon fill=\"#FFFFFF\" points=\"284.19,395.93,275.9039,377.4546,289.8709,376.4948,284.19,395.93\" style=\"stroke: #383838; stroke-width: 1.0;\"/><ellipse cx=\"277.5084\" cy=\"371.6309\" fill=\"#383838\" rx=\"2\" ry=\"2\" style=\"stroke: #383838; stroke-width: 1.0;\"/><ellipse cx=\"287.4849\" cy=\"370.9453\" fill=\"#383838\" rx=\"2\" ry=\"2\" style=\"stroke: #383838; stroke-width: 1.0;\"/></a><!--MD5=[15ebcb19ae302d9b601edb458606d402]\n",
       "link E5 to E2--><a href=\"psysml:cb98c000-d2e0-4059-b3dc-41ff4d975042\" target=\"_top\" title=\"psysml:cb98c000-d2e0-4059-b3dc-41ff4d975042\" xlink:actuate=\"onRequest\" xlink:href=\"psysml:cb98c000-d2e0-4059-b3dc-41ff4d975042\" xlink:show=\"new\" xlink:title=\"psysml:cb98c000-d2e0-4059-b3dc-41ff4d975042\" xlink:type=\"simple\"><path d=\"M377.9071,234.5987 C377.6837,234.254 377.4593,233.91 377.2338,233.5668 C376.3317,232.1941 375.413,230.8338 374.4773,229.4868 C372.6059,226.7928 370.6665,224.152 368.6567,221.572 C360.6175,211.2517 351.4513,201.9025 341,194 C324.63,181.62 264.96,198.91 249,186 C246.2863,183.805 243.9511,181.2325 241.9426,178.4061 C240.9384,176.9929 240.0159,175.5163 239.1685,173.9916 C238.7448,173.2292 238.3399,172.4549 237.953,171.6705 C237.7596,171.2782 237.5706,170.8835 237.3861,170.4865 C237.3399,170.3873 237.2941,170.2879 237.2485,170.1883 \" fill=\"none\" id=\"E5-&gt;E2\" style=\"stroke: #383838; stroke-width: 1.0; stroke-dasharray: 7.0,7.0;\"/><polygon fill=\"#383838\" points=\"237.2485,170.1883,237.3599,180.0366,239.3307,174.7341,244.6331,176.705,237.2485,170.1883\" style=\"stroke: #383838; stroke-width: 1.0;\"/><text fill=\"#000000\" font-family=\"sans-serif\" font-size=\"13\" lengthAdjust=\"spacingAndGlyphs\" textLength=\"65\" x=\"356\" y=\"207.0669\">«import»*</text></a><!--MD5=[d7bb3fb34add81b710575eb3799fa2ad]\n",
       "link E8 to E4--><a href=\"psysml:ff856c1d-ebaf-4dbc-8ba8-d8c60136e299\" target=\"_top\" title=\"psysml:ff856c1d-ebaf-4dbc-8ba8-d8c60136e299\" xlink:actuate=\"onRequest\" xlink:href=\"psysml:ff856c1d-ebaf-4dbc-8ba8-d8c60136e299\" xlink:show=\"new\" xlink:title=\"psysml:ff856c1d-ebaf-4dbc-8ba8-d8c60136e299\" xlink:type=\"simple\"><path d=\"M283.6,395.87 C278.58,354.03 274.69,263.54 326,219 C338.77,207.91 466.36,223.27 478,211 C493.94,194.2 479.72,174.01 460.15,157.31 \" fill=\"none\" id=\"E8-&gt;E4\" style=\"stroke: #383838; stroke-width: 1.0;\"/><polygon fill=\"none\" points=\"455.78,162.78,444.15,145.06,464.29,151.66,455.78,162.78\" style=\"stroke: #383838; stroke-width: 1.0;\"/></a><!--MD5=[7474dabdb0b72cbc9c2489e465e6ef1f]\n",
       "@startuml\r\n",
       "top to bottom direction\r\n",
       "skinparam monochrome true\r\n",
       "skinparam classbackgroundcolor white\r\n",
       "skinparam shadowing false\r\n",
       "skinparam wrapWidth 300\r\n",
       "hide circle\r\n",
       "\r\n",
       "package \"ImportTest\" as E1  [[psysml:789e6656-6985-4918-a680-b12b42056b24 ]]  {\r\n",
       "package \"Pkg1\" as E2  [[psysml:9ed5d6a5-603c-4e6a-bfc8-60e703dcd2fe ]]  {\r\n",
       "comp usage \"p11: P211 \" as E3  <<(T,blue) part>> [[psysml:380b438c-f0d0-40f2-a10d-c83a46ac62de ]] {\r\n",
       "}\r\n",
       "comp def \"P12\" as E4  <<(T,blue) part  def>> [[psysml:4c18927e-9f3a-4bbe-ae04-0ff2b7ea0a78 ]] {\r\n",
       "}\r\n",
       "}\r\n",
       "package \"Pkg2\" as E5  [[psysml:63b0367b-32f1-46aa-9fe1-f934424c590d ]]  {\r\n",
       "package \"Pkg21\" as E6  [[psysml:98b17091-6ea5-4037-8451-bfddc724f9d0 ]]  {\r\n",
       "package \"Pkg211\" as E7  [[psysml:45f4d7ec-8fdd-4896-89d5-a877e9eb4cf9 ]]  {\r\n",
       "comp def \"P211\" as E8  <<(T,blue) part  def>> [[psysml:b4068f35-75bf-4c63-8263-9508faa965fc ]] {\r\n",
       "}\r\n",
       "}\r\n",
       "}\r\n",
       "}\r\n",
       "}\r\n",
       "E2 ..> E8 [[psysml:86dbe04c-b04a-4ec6-a347-5e4f000abe00 ]] : <<import>>\r\n",
       "E2 ..> E6 [[psysml:b4797686-9eb8-4e8e-a70f-411a8a1a5c6c ]] : <<import>>*\r\n",
       "E2 ..> E7 [[psysml:c873f416-4fb0-4522-b4d5-2fc0ff0d8008 ]] : <<import>>*::**\r\n",
       "E3 - -:|> E8 [[psysml:bb41b158-76b0-47f5-886e-e2f97e00e6aa ]] \r\n",
       "E5 ..> E2 [[psysml:cb98c000-d2e0-4059-b3dc-41ff4d975042 ]] : <<import>>*\r\n",
       "E8 - -|> E4 [[psysml:ff856c1d-ebaf-4dbc-8ba8-d8c60136e299 ]] \r\n",
       "@enduml\r\n",
       "\n",
       "PlantUML version 1.2020.13(Sat Jun 13 12:26:38 UTC 2020)\n",
       "(EPL source distribution)\n",
       "Java Runtime: OpenJDK Runtime Environment\n",
       "JVM: OpenJDK 64-Bit Server VM\n",
       "Default Encoding: UTF-8\n",
       "Language: en\n",
       "Country: null\n",
       "--></g></svg>"
      ]
     },
     "execution_count": 45,
     "metadata": {},
     "output_type": "execute_result"
    }
   ],
   "source": [
    "%viz --style=\"TB\" --view=\"Tree\" \"ImportTest\""
   ]
  },
  {
   "cell_type": "code",
   "execution_count": 46,
   "id": "87ceb295",
   "metadata": {
    "execution": {
     "iopub.execute_input": "2022-08-19T08:17:22.215019Z",
     "iopub.status.busy": "2022-08-19T08:17:22.214579Z",
     "iopub.status.idle": "2022-08-19T08:17:22.219307Z",
     "shell.execute_reply": "2022-08-19T08:17:22.219602Z"
    }
   },
   "outputs": [
    {
     "data": {
      "image/svg+xml": [
       "<?xml version=\"1.0\" encoding=\"UTF-8\" standalone=\"no\"?><svg xmlns=\"http://www.w3.org/2000/svg\" xmlns:xlink=\"http://www.w3.org/1999/xlink\" contentScriptType=\"application/ecmascript\" contentStyleType=\"text/css\" height=\"12px\" preserveAspectRatio=\"none\" style=\"width:12px;height:12px;\" version=\"1.1\" viewBox=\"0 0 12 12\" width=\"12px\" zoomAndPan=\"magnify\"><defs/><g><!--MD5=[f4ee21bc66e489b5061b7c3e9601fdef]\n",
       "@startuml\r\n",
       "top to bottom direction\r\n",
       "skinparam monochrome true\r\n",
       "skinparam classbackgroundcolor white\r\n",
       "skinparam shadowing false\r\n",
       "skinparam wrapWidth 300\r\n",
       "hide circle\r\n",
       "\r\n",
       "@enduml\r\n",
       "\n",
       "PlantUML version 1.2020.13(Sat Jun 13 12:26:38 UTC 2020)\n",
       "(EPL source distribution)\n",
       "Java Runtime: OpenJDK Runtime Environment\n",
       "JVM: OpenJDK 64-Bit Server VM\n",
       "Default Encoding: UTF-8\n",
       "Language: en\n",
       "Country: null\n",
       "--></g></svg>"
      ]
     },
     "execution_count": 46,
     "metadata": {},
     "output_type": "execute_result"
    }
   ],
   "source": [
    "%viz --style=\"TB\" --view=\"State\" \"ImportTest\""
   ]
  },
  {
   "cell_type": "code",
   "execution_count": 47,
   "id": "e93491b3",
   "metadata": {
    "execution": {
     "iopub.execute_input": "2022-08-19T08:17:22.269990Z",
     "iopub.status.busy": "2022-08-19T08:17:22.269382Z",
     "iopub.status.idle": "2022-08-19T08:17:22.302602Z",
     "shell.execute_reply": "2022-08-19T08:17:22.301186Z"
    }
   },
   "outputs": [
    {
     "data": {
      "image/svg+xml": [
       "<?xml version=\"1.0\" encoding=\"UTF-8\" standalone=\"no\"?><svg xmlns=\"http://www.w3.org/2000/svg\" xmlns:xlink=\"http://www.w3.org/1999/xlink\" contentScriptType=\"application/ecmascript\" contentStyleType=\"text/css\" height=\"584px\" preserveAspectRatio=\"none\" style=\"width:522px;height:584px;\" version=\"1.1\" viewBox=\"0 0 522 584\" width=\"522px\" zoomAndPan=\"magnify\"><defs/><g><!--MD5=[fbc87193dbaf4d95561dea2c320d4a47]\n",
       "cluster E1--><a href=\"psysml:789e6656-6985-4918-a680-b12b42056b24\" target=\"_top\" title=\"psysml:789e6656-6985-4918-a680-b12b42056b24\" xlink:actuate=\"onRequest\" xlink:href=\"psysml:789e6656-6985-4918-a680-b12b42056b24\" xlink:show=\"new\" xlink:title=\"psysml:789e6656-6985-4918-a680-b12b42056b24\" xlink:type=\"simple\"><polygon fill=\"#FFFFFF\" points=\"16,6,97,6,104,28.2969,500,28.2969,500,572,16,572,16,6\" style=\"stroke: #000000; stroke-width: 1.5;\"/><line style=\"stroke: #000000; stroke-width: 1.5;\" x1=\"16\" x2=\"104\" y1=\"28.2969\" y2=\"28.2969\"/><text fill=\"#000000\" font-family=\"sans-serif\" font-size=\"14\" font-weight=\"bold\" lengthAdjust=\"spacingAndGlyphs\" textLength=\"75\" x=\"20\" y=\"20.9951\">ImportTest</text></a><!--MD5=[e4f7fae6ed58524ba242bb0b0d3be6b7]\n",
       "cluster E2--><a href=\"psysml:9ed5d6a5-603c-4e6a-bfc8-60e703dcd2fe\" target=\"_top\" title=\"psysml:9ed5d6a5-603c-4e6a-bfc8-60e703dcd2fe\" xlink:actuate=\"onRequest\" xlink:href=\"psysml:9ed5d6a5-603c-4e6a-bfc8-60e703dcd2fe\" xlink:show=\"new\" xlink:title=\"psysml:9ed5d6a5-603c-4e6a-bfc8-60e703dcd2fe\" xlink:type=\"simple\"><polygon fill=\"#FFFFFF\" points=\"216,57,257,57,264,79.2969,468,79.2969,468,167,216,167,216,57\" style=\"stroke: #000000; stroke-width: 1.5;\"/><line style=\"stroke: #000000; stroke-width: 1.5;\" x1=\"216\" x2=\"264\" y1=\"79.2969\" y2=\"79.2969\"/><text fill=\"#000000\" font-family=\"sans-serif\" font-size=\"14\" font-weight=\"bold\" lengthAdjust=\"spacingAndGlyphs\" textLength=\"35\" x=\"220\" y=\"71.9951\">Pkg1</text></a><!--MD5=[de5ec2e2e8f62f467e546659f5068c88]\n",
       "cluster E5--><a href=\"psysml:63b0367b-32f1-46aa-9fe1-f934424c590d\" target=\"_top\" title=\"psysml:63b0367b-32f1-46aa-9fe1-f934424c590d\" xlink:actuate=\"onRequest\" xlink:href=\"psysml:63b0367b-32f1-46aa-9fe1-f934424c590d\" xlink:show=\"new\" xlink:title=\"psysml:63b0367b-32f1-46aa-9fe1-f934424c590d\" xlink:type=\"simple\"><polygon fill=\"#FFFFFF\" points=\"117,232,158,232,165,254.2969,435,254.2969,435,540,117,540,117,232\" style=\"stroke: #000000; stroke-width: 1.5;\"/><line style=\"stroke: #000000; stroke-width: 1.5;\" x1=\"117\" x2=\"165\" y1=\"254.2969\" y2=\"254.2969\"/><text fill=\"#000000\" font-family=\"sans-serif\" font-size=\"14\" font-weight=\"bold\" lengthAdjust=\"spacingAndGlyphs\" textLength=\"35\" x=\"121\" y=\"246.9951\">Pkg2</text></a><!--MD5=[14e3b0961a2654348d326746436168a1]\n",
       "cluster E6--><a href=\"psysml:98b17091-6ea5-4037-8451-bfddc724f9d0\" target=\"_top\" title=\"psysml:98b17091-6ea5-4037-8451-bfddc724f9d0\" xlink:actuate=\"onRequest\" xlink:href=\"psysml:98b17091-6ea5-4037-8451-bfddc724f9d0\" xlink:show=\"new\" xlink:title=\"psysml:98b17091-6ea5-4037-8451-bfddc724f9d0\" xlink:type=\"simple\"><polygon fill=\"#FFFFFF\" points=\"157,291,207,291,214,313.2969,387,313.2969,387,500,157,500,157,291\" style=\"stroke: #000000; stroke-width: 1.5;\"/><line style=\"stroke: #000000; stroke-width: 1.5;\" x1=\"157\" x2=\"214\" y1=\"313.2969\" y2=\"313.2969\"/><text fill=\"#000000\" font-family=\"sans-serif\" font-size=\"14\" font-weight=\"bold\" lengthAdjust=\"spacingAndGlyphs\" textLength=\"44\" x=\"161\" y=\"305.9951\">Pkg21</text></a><!--MD5=[168fadf3d0c3fd93dd5d6da1b1d7ab76]\n",
       "cluster E7--><a href=\"psysml:45f4d7ec-8fdd-4896-89d5-a877e9eb4cf9\" target=\"_top\" title=\"psysml:45f4d7ec-8fdd-4896-89d5-a877e9eb4cf9\" xlink:actuate=\"onRequest\" xlink:href=\"psysml:45f4d7ec-8fdd-4896-89d5-a877e9eb4cf9\" xlink:show=\"new\" xlink:title=\"psysml:45f4d7ec-8fdd-4896-89d5-a877e9eb4cf9\" xlink:type=\"simple\"><polygon fill=\"#FFFFFF\" points=\"205,350,264,350,271,372.2969,347,372.2969,347,460,205,460,205,350\" style=\"stroke: #000000; stroke-width: 1.5;\"/><line style=\"stroke: #000000; stroke-width: 1.5;\" x1=\"205\" x2=\"271\" y1=\"372.2969\" y2=\"372.2969\"/><text fill=\"#000000\" font-family=\"sans-serif\" font-size=\"14\" font-weight=\"bold\" lengthAdjust=\"spacingAndGlyphs\" textLength=\"53\" x=\"209\" y=\"364.9951\">Pkg211</text></a><g id=\"E1.E2.E3\"><a href=\"psysml:380b438c-f0d0-40f2-a10d-c83a46ac62de\" target=\"_top\" title=\"psysml:380b438c-f0d0-40f2-a10d-c83a46ac62de\" xlink:actuate=\"onRequest\" xlink:href=\"psysml:380b438c-f0d0-40f2-a10d-c83a46ac62de\" xlink:show=\"new\" xlink:title=\"psysml:380b438c-f0d0-40f2-a10d-c83a46ac62de\" xlink:type=\"simple\"><rect fill=\"#FFFFFF\" height=\"40\" id=\"E3\" rx=\"10\" ry=\"10\" style=\"stroke: #383838; stroke-width: 1.5;\" width=\"75\" x=\"259.5\" y=\"101.5\"/><rect fill=\"#F8F8F8\" height=\"23.9688\" rx=\"10\" ry=\"10\" style=\"stroke: #F8F8F8; stroke-width: 1.5;\" width=\"75\" x=\"259.5\" y=\"101.5\"/><rect fill=\"#F8F8F8\" height=\"10\" style=\"stroke: #F8F8F8; stroke-width: 1.5;\" width=\"75\" x=\"259.5\" y=\"115.4688\"/><rect fill=\"none\" height=\"40\" id=\"E3\" rx=\"10\" ry=\"10\" style=\"stroke: #383838; stroke-width: 1.5;\" width=\"75\" x=\"259.5\" y=\"101.5\"/><text fill=\"#000000\" font-family=\"sans-serif\" font-size=\"12\" lengthAdjust=\"spacingAndGlyphs\" textLength=\"64\" x=\"265\" y=\"117.6387\">p11: P211</text></a></g><g id=\"E1.E2.E4\"><a href=\"psysml:4c18927e-9f3a-4bbe-ae04-0ff2b7ea0a78\" target=\"_top\" title=\"psysml:4c18927e-9f3a-4bbe-ae04-0ff2b7ea0a78\" xlink:actuate=\"onRequest\" xlink:href=\"psysml:4c18927e-9f3a-4bbe-ae04-0ff2b7ea0a78\" xlink:show=\"new\" xlink:title=\"psysml:4c18927e-9f3a-4bbe-ae04-0ff2b7ea0a78\" xlink:type=\"simple\"><rect fill=\"#FFFFFF\" height=\"42.9375\" id=\"E4\" style=\"stroke: #383838; stroke-width: 1.5;\" width=\"75\" x=\"369.5\" y=\"100\"/><rect fill=\"#F8F8F8\" height=\"37.9375\" style=\"stroke: #383838; stroke-width: 1.5;\" width=\"75\" x=\"369.5\" y=\"100\"/><text fill=\"#000000\" font-family=\"sans-serif\" font-size=\"12\" font-style=\"italic\" lengthAdjust=\"spacingAndGlyphs\" textLength=\"68\" x=\"373\" y=\"116.1387\">«part  def»</text><text fill=\"#000000\" font-family=\"sans-serif\" font-size=\"12\" lengthAdjust=\"spacingAndGlyphs\" textLength=\"24\" x=\"395\" y=\"130.1074\">P12</text></a></g><g id=\"E1.E5.E6.E7.E8\"><a href=\"psysml:b4068f35-75bf-4c63-8263-9508faa965fc\" target=\"_top\" title=\"psysml:b4068f35-75bf-4c63-8263-9508faa965fc\" xlink:actuate=\"onRequest\" xlink:href=\"psysml:b4068f35-75bf-4c63-8263-9508faa965fc\" xlink:show=\"new\" xlink:title=\"psysml:b4068f35-75bf-4c63-8263-9508faa965fc\" xlink:type=\"simple\"><rect fill=\"#FFFFFF\" height=\"42.9375\" id=\"E8\" style=\"stroke: #383838; stroke-width: 1.5;\" width=\"75\" x=\"248.5\" y=\"393\"/><rect fill=\"#F8F8F8\" height=\"37.9375\" style=\"stroke: #383838; stroke-width: 1.5;\" width=\"75\" x=\"248.5\" y=\"393\"/><text fill=\"#000000\" font-family=\"sans-serif\" font-size=\"12\" font-style=\"italic\" lengthAdjust=\"spacingAndGlyphs\" textLength=\"68\" x=\"252\" y=\"409.1387\">«part  def»</text><text fill=\"#000000\" font-family=\"sans-serif\" font-size=\"12\" lengthAdjust=\"spacingAndGlyphs\" textLength=\"32\" x=\"270\" y=\"423.1074\">P211</text></a></g><!--MD5=[b0060bfdb0500b904584095522b4da3c]\n",
       "link E2 to E8--><a href=\"psysml:86dbe04c-b04a-4ec6-a347-5e4f000abe00\" target=\"_top\" title=\"psysml:86dbe04c-b04a-4ec6-a347-5e4f000abe00\" xlink:actuate=\"onRequest\" xlink:href=\"psysml:86dbe04c-b04a-4ec6-a347-5e4f000abe00\" xlink:show=\"new\" xlink:title=\"psysml:86dbe04c-b04a-4ec6-a347-5e4f000abe00\" xlink:type=\"simple\"><path d=\"M233.7485,167.2625 C233.8396,167.461 233.9314,167.6592 234.0241,167.8569 C234.395,168.648 234.7795,169.4328 235.1783,170.2099 C235.9758,171.764 236.8302,173.2869 237.7454,174.7655 C239.5759,177.7227 241.65,180.5025 244,183 C250.56,189.97 258.25,183.35 264,191 C308.12,249.72 299.04,343.18 291.3,387.96 \" fill=\"none\" id=\"E2-&gt;E8\" style=\"stroke: #383838; stroke-width: 1.0; stroke-dasharray: 7.0,7.0;\"/><polygon fill=\"#383838\" points=\"290.41,392.91,295.9388,384.7594,291.2944,387.9888,288.065,383.3444,290.41,392.91\" style=\"stroke: #383838; stroke-width: 1.0;\"/><text fill=\"#000000\" font-family=\"sans-serif\" font-size=\"13\" lengthAdjust=\"spacingAndGlyphs\" textLength=\"58\" x=\"274\" y=\"204.0669\">«import»</text></a><!--MD5=[e3e28c1befcf002155aa15e1416b4315]\n",
       "link E2 to E6--><a href=\"psysml:b4797686-9eb8-4e8e-a70f-411a8a1a5c6c\" target=\"_top\" title=\"psysml:b4797686-9eb8-4e8e-a70f-411a8a1a5c6c\" xlink:actuate=\"onRequest\" xlink:href=\"psysml:b4797686-9eb8-4e8e-a70f-411a8a1a5c6c\" xlink:show=\"new\" xlink:title=\"psysml:b4797686-9eb8-4e8e-a70f-411a8a1a5c6c\" xlink:type=\"simple\"><path d=\"M215.764,123.8356 C215.5384,123.8767 215.3087,123.9189 215.0751,123.9622 C214.6079,124.0488 214.1247,124.1396 213.6261,124.2349 C211.6318,124.6159 209.3916,125.0674 206.9428,125.5967 C197.1475,127.7141 184.0138,131.0769 169.925,136.1563 C141.7475,146.315 109.75,163.34 93,191 C66.5,234.76 83.5275,289.345 107.655,333.4975 C119.7188,355.5738 133.5575,375.0419 144.6178,389.2447 C147.3829,392.7954 149.9743,396.017 152.3209,398.868 C153.4943,400.2935 154.6064,401.6264 155.6484,402.8614 C155.9089,403.1702 156.165,403.4728 156.4166,403.7693 C156.5424,403.9175 156.6671,404.0642 156.7906,404.2093 \" fill=\"none\" id=\"E2-&gt;E6\" style=\"stroke: #383838; stroke-width: 1.0; stroke-dasharray: 7.0,7.0;\"/><polygon fill=\"#383838\" points=\"156.7906,404.2093,154.0028,394.7632,153.5497,400.4019,147.911,399.9487,156.7906,404.2093\" style=\"stroke: #383838; stroke-width: 1.0;\"/><text fill=\"#000000\" font-family=\"sans-serif\" font-size=\"13\" lengthAdjust=\"spacingAndGlyphs\" textLength=\"65\" x=\"94\" y=\"204.0669\">«import»*</text></a><!--MD5=[e3d2a08a9c9236652057e8ed0cbc9b62]\n",
       "link E2 to E7--><a href=\"psysml:c873f416-4fb0-4522-b4d5-2fc0ff0d8008\" target=\"_top\" title=\"psysml:c873f416-4fb0-4522-b4d5-2fc0ff0d8008\" xlink:actuate=\"onRequest\" xlink:href=\"psysml:c873f416-4fb0-4522-b4d5-2fc0ff0d8008\" xlink:show=\"new\" xlink:title=\"psysml:c873f416-4fb0-4522-b4d5-2fc0ff0d8008\" xlink:type=\"simple\"><path d=\"M215.9145,129.4818 C215.7831,129.6017 215.6504,129.723 215.5165,129.8456 C215.2488,130.0909 214.9764,130.3417 214.6994,130.5979 C214.1455,131.1103 213.5735,131.6444 212.9854,132.1994 C211.8091,133.3094 210.5683,134.503 209.278,135.7741 C206.6976,138.3163 203.9197,141.1684 201.0663,144.2813 C189.6525,156.7325 177.03,173.355 171,191 C168.56,198.15 166.24,202.13 171,208 C181.87,221.4 197.99,202.71 209,216 C222.785,232.64 223.97,280.745 221.6187,325.31 C221.3248,330.8806 220.9757,336.3959 220.589,341.7876 C220.3956,344.4834 220.1929,347.1483 219.983,349.7737 \" fill=\"none\" id=\"E2-&gt;E7\" style=\"stroke: #383838; stroke-width: 1.0; stroke-dasharray: 7.0,7.0;\"/><polygon fill=\"#383838\" points=\"219.983,349.7737,224.6875,341.1211,220.3815,344.7896,216.713,340.4835,219.983,349.7737\" style=\"stroke: #383838; stroke-width: 1.0;\"/><text fill=\"#000000\" font-family=\"sans-serif\" font-size=\"13\" lengthAdjust=\"spacingAndGlyphs\" textLength=\"87\" x=\"172\" y=\"204.0669\">«import»*::**</text></a><!--MD5=[ca5a752d6098d8a44b3f88316e7452d1]\n",
       "link E3 to E8--><a href=\"psysml:bb41b158-76b0-47f5-886e-e2f97e00e6aa\" target=\"_top\" title=\"psysml:bb41b158-76b0-47f5-886e-e2f97e00e6aa\" xlink:actuate=\"onRequest\" xlink:href=\"psysml:bb41b158-76b0-47f5-886e-e2f97e00e6aa\" xlink:show=\"new\" xlink:title=\"psysml:bb41b158-76b0-47f5-886e-e2f97e00e6aa\" xlink:type=\"simple\"><path d=\"M312.28,141.62 C322.76,154.12 337.37,170.41 352,183 C356.86,187.18 360.98,185.35 364,191 C367.57,197.66 368.73,202.11 364,208 C353.74,220.79 339.54,204.36 328,216 C287.05,257.33 281.54,328.07 282.74,372.73 \" fill=\"none\" id=\"E3-&gt;E8\" style=\"stroke: #383838; stroke-width: 1.0;\"/><polygon fill=\"#FFFFFF\" points=\"283.77,392.86,275.7887,374.2509,289.7697,373.5208,283.77,392.86\" style=\"stroke: #383838; stroke-width: 1.0;\"/><ellipse cx=\"277.4888\" cy=\"368.4543\" fill=\"#383838\" rx=\"2\" ry=\"2\" style=\"stroke: #383838; stroke-width: 1.0;\"/><ellipse cx=\"287.4752\" cy=\"367.9329\" fill=\"#383838\" rx=\"2\" ry=\"2\" style=\"stroke: #383838; stroke-width: 1.0;\"/></a><!--MD5=[15ebcb19ae302d9b601edb458606d402]\n",
       "link E5 to E2--><a href=\"psysml:cb98c000-d2e0-4059-b3dc-41ff4d975042\" target=\"_top\" title=\"psysml:cb98c000-d2e0-4059-b3dc-41ff4d975042\" xlink:actuate=\"onRequest\" xlink:href=\"psysml:cb98c000-d2e0-4059-b3dc-41ff4d975042\" xlink:show=\"new\" xlink:title=\"psysml:cb98c000-d2e0-4059-b3dc-41ff4d975042\" xlink:type=\"simple\"><path d=\"M377.9759,231.2195 C377.7515,230.8776 377.526,230.5364 377.2994,230.196 C376.3932,228.8344 375.4706,227.4852 374.5311,226.1493 C372.6521,223.4776 370.7058,220.8593 368.6899,218.3016 C360.6261,208.0711 351.4475,198.8125 341,191 C323.68,178.05 260.99,196.38 244,183 C241.305,180.8788 238.9694,178.3841 236.9456,175.6375 C235.9337,174.2642 234.9998,172.8279 234.1379,171.3439 C233.707,170.6019 233.294,169.8479 232.8983,169.0839 C232.7005,168.7019 232.507,168.3173 232.3177,167.9306 C232.223,167.7372 232.1294,167.5432 232.0369,167.3487 C231.9906,167.2514 231.9446,167.1541 231.8988,167.0565 \" fill=\"none\" id=\"E5-&gt;E2\" style=\"stroke: #383838; stroke-width: 1.0; stroke-dasharray: 7.0,7.0;\"/><polygon fill=\"#383838\" points=\"231.8988,167.0565,232.1005,176.9033,234.0226,171.5831,239.3429,173.5052,231.8988,167.0565\" style=\"stroke: #383838; stroke-width: 1.0;\"/><text fill=\"#000000\" font-family=\"sans-serif\" font-size=\"13\" lengthAdjust=\"spacingAndGlyphs\" textLength=\"65\" x=\"360\" y=\"204.0669\">«import»*</text></a><!--MD5=[d7bb3fb34add81b710575eb3799fa2ad]\n",
       "link E8 to E4--><a href=\"psysml:ff856c1d-ebaf-4dbc-8ba8-d8c60136e299\" target=\"_top\" title=\"psysml:ff856c1d-ebaf-4dbc-8ba8-d8c60136e299\" xlink:actuate=\"onRequest\" xlink:href=\"psysml:ff856c1d-ebaf-4dbc-8ba8-d8c60136e299\" xlink:show=\"new\" xlink:title=\"psysml:ff856c1d-ebaf-4dbc-8ba8-d8c60136e299\" xlink:type=\"simple\"><path d=\"M283.17,392.77 C278.87,351.76 276.04,260.42 328,216 C340.69,205.16 466.52,220.11 478,208 C493.95,191.18 479.29,171.32 459.24,154.97 \" fill=\"none\" id=\"E8-&gt;E4\" style=\"stroke: #383838; stroke-width: 1.0;\"/><polygon fill=\"none\" points=\"454.9,160.46,442.89,143.01,463.16,149.16,454.9,160.46\" style=\"stroke: #383838; stroke-width: 1.0;\"/></a><!--MD5=[79fec307bf987e74a44402492a5c5a5d]\n",
       "@startuml\r\n",
       "skinparam ranksep 10\r\n",
       "skinparam rectangle {\r\n",
       " backgroundColor<<block>> LightGreen\r\n",
       "}\r\n",
       "top to bottom direction\r\n",
       "skinparam monochrome true\r\n",
       "skinparam classbackgroundcolor white\r\n",
       "skinparam shadowing false\r\n",
       "skinparam wrapWidth 300\r\n",
       "hide circle\r\n",
       "\r\n",
       "package \"ImportTest\" as E1  [[psysml:789e6656-6985-4918-a680-b12b42056b24 ]]  {\r\n",
       "package \"Pkg1\" as E2  [[psysml:9ed5d6a5-603c-4e6a-bfc8-60e703dcd2fe ]]  {\r\n",
       "rec usage \"p11: P211\" as E3  [[psysml:380b438c-f0d0-40f2-a10d-c83a46ac62de ]] {\r\n",
       "}\r\n",
       "rec def \"P12\" as E4  <<(T,blue) part  def>> [[psysml:4c18927e-9f3a-4bbe-ae04-0ff2b7ea0a78 ]] {\r\n",
       "}\r\n",
       "}\r\n",
       "package \"Pkg2\" as E5  [[psysml:63b0367b-32f1-46aa-9fe1-f934424c590d ]]  {\r\n",
       "package \"Pkg21\" as E6  [[psysml:98b17091-6ea5-4037-8451-bfddc724f9d0 ]]  {\r\n",
       "package \"Pkg211\" as E7  [[psysml:45f4d7ec-8fdd-4896-89d5-a877e9eb4cf9 ]]  {\r\n",
       "rec def \"P211\" as E8  <<(T,blue) part  def>> [[psysml:b4068f35-75bf-4c63-8263-9508faa965fc ]] {\r\n",
       "}\r\n",
       "}\r\n",
       "}\r\n",
       "}\r\n",
       "}\r\n",
       "E2 ..> E8 [[psysml:86dbe04c-b04a-4ec6-a347-5e4f000abe00 ]] : <<import>>\r\n",
       "E2 ..> E6 [[psysml:b4797686-9eb8-4e8e-a70f-411a8a1a5c6c ]] : <<import>>*\r\n",
       "E2 ..> E7 [[psysml:c873f416-4fb0-4522-b4d5-2fc0ff0d8008 ]] : <<import>>*::**\r\n",
       "E3 - -:|> E8 [[psysml:bb41b158-76b0-47f5-886e-e2f97e00e6aa ]] \r\n",
       "E5 ..> E2 [[psysml:cb98c000-d2e0-4059-b3dc-41ff4d975042 ]] : <<import>>*\r\n",
       "E8 - -|> E4 [[psysml:ff856c1d-ebaf-4dbc-8ba8-d8c60136e299 ]] \r\n",
       "@enduml\r\n",
       "\n",
       "PlantUML version 1.2020.13(Sat Jun 13 12:26:38 UTC 2020)\n",
       "(EPL source distribution)\n",
       "Java Runtime: OpenJDK Runtime Environment\n",
       "JVM: OpenJDK 64-Bit Server VM\n",
       "Default Encoding: UTF-8\n",
       "Language: en\n",
       "Country: null\n",
       "--></g></svg>"
      ]
     },
     "execution_count": 47,
     "metadata": {},
     "output_type": "execute_result"
    }
   ],
   "source": [
    "%viz --style=\"TB\" --view=\"Interconnection\" \"ImportTest\""
   ]
  },
  {
   "cell_type": "code",
   "execution_count": 48,
   "id": "377bd45f",
   "metadata": {
    "execution": {
     "iopub.execute_input": "2022-08-19T08:17:22.352534Z",
     "iopub.status.busy": "2022-08-19T08:17:22.352000Z",
     "iopub.status.idle": "2022-08-19T08:17:22.357081Z",
     "shell.execute_reply": "2022-08-19T08:17:22.356695Z"
    }
   },
   "outputs": [
    {
     "data": {
      "image/svg+xml": [
       "<?xml version=\"1.0\" encoding=\"UTF-8\" standalone=\"no\"?><svg xmlns=\"http://www.w3.org/2000/svg\" xmlns:xlink=\"http://www.w3.org/1999/xlink\" contentScriptType=\"application/ecmascript\" contentStyleType=\"text/css\" height=\"12px\" preserveAspectRatio=\"none\" style=\"width:12px;height:12px;\" version=\"1.1\" viewBox=\"0 0 12 12\" width=\"12px\" zoomAndPan=\"magnify\"><defs/><g><!--MD5=[06afc254b03ac5e9d9fb7773b07d0800]\n",
       "@startuml\r\n",
       "skinparam ranksep 8\r\n",
       "top to bottom direction\r\n",
       "skinparam monochrome true\r\n",
       "skinparam classbackgroundcolor white\r\n",
       "skinparam shadowing false\r\n",
       "skinparam wrapWidth 300\r\n",
       "hide circle\r\n",
       "\r\n",
       "@enduml\r\n",
       "\n",
       "PlantUML version 1.2020.13(Sat Jun 13 12:26:38 UTC 2020)\n",
       "(EPL source distribution)\n",
       "Java Runtime: OpenJDK Runtime Environment\n",
       "JVM: OpenJDK 64-Bit Server VM\n",
       "Default Encoding: UTF-8\n",
       "Language: en\n",
       "Country: null\n",
       "--></g></svg>"
      ]
     },
     "execution_count": 48,
     "metadata": {},
     "output_type": "execute_result"
    }
   ],
   "source": [
    "%viz --style=\"TB\" --view=\"Action\" \"ImportTest\""
   ]
  },
  {
   "cell_type": "code",
   "execution_count": 49,
   "id": "d8cd9f39",
   "metadata": {
    "execution": {
     "iopub.execute_input": "2022-08-19T08:17:22.407099Z",
     "iopub.status.busy": "2022-08-19T08:17:22.406532Z",
     "iopub.status.idle": "2022-08-19T08:17:22.411580Z",
     "shell.execute_reply": "2022-08-19T08:17:22.412062Z"
    }
   },
   "outputs": [
    {
     "data": {
      "image/svg+xml": [
       "<?xml version=\"1.0\" encoding=\"UTF-8\" standalone=\"no\"?><svg xmlns=\"http://www.w3.org/2000/svg\" xmlns:xlink=\"http://www.w3.org/1999/xlink\" contentScriptType=\"application/ecmascript\" contentStyleType=\"text/css\" height=\"12px\" preserveAspectRatio=\"none\" style=\"width:12px;height:12px;\" version=\"1.1\" viewBox=\"0 0 12 12\" width=\"12px\" zoomAndPan=\"magnify\"><defs/><g><!--MD5=[e1ab0c84c44d2fef8bf5f140f2689906]\n",
       "@startuml\r\n",
       "skinparam roundcorner 20\r\n",
       "skinparam BoxPadding 20\r\n",
       "skinparam SequenceBoxBackgroundColor #white\r\n",
       "skinparam style strictuml\r\n",
       "skinparam maxMessageSize 100\r\n",
       "top to bottom direction\r\n",
       "skinparam monochrome true\r\n",
       "skinparam classbackgroundcolor white\r\n",
       "skinparam shadowing false\r\n",
       "skinparam wrapWidth 300\r\n",
       "hide circle\r\n",
       "\r\n",
       "@enduml\r\n",
       "\n",
       "PlantUML version 1.2020.13(Sat Jun 13 12:26:38 UTC 2020)\n",
       "(EPL source distribution)\n",
       "Java Runtime: OpenJDK Runtime Environment\n",
       "JVM: OpenJDK 64-Bit Server VM\n",
       "Default Encoding: UTF-8\n",
       "Language: en\n",
       "Country: null\n",
       "--></g></svg>"
      ]
     },
     "execution_count": 49,
     "metadata": {},
     "output_type": "execute_result"
    }
   ],
   "source": [
    "%viz --style=\"TB\" --view=\"Sequence\" \"ImportTest\""
   ]
  },
  {
   "cell_type": "code",
   "execution_count": 50,
   "id": "db1a8dfd",
   "metadata": {
    "execution": {
     "iopub.execute_input": "2022-08-19T08:17:22.461706Z",
     "iopub.status.busy": "2022-08-19T08:17:22.461246Z",
     "iopub.status.idle": "2022-08-19T08:17:22.493876Z",
     "shell.execute_reply": "2022-08-19T08:17:22.492412Z"
    }
   },
   "outputs": [
    {
     "data": {
      "image/svg+xml": [
       "<?xml version=\"1.0\" encoding=\"UTF-8\" standalone=\"no\"?><svg xmlns=\"http://www.w3.org/2000/svg\" xmlns:xlink=\"http://www.w3.org/1999/xlink\" contentScriptType=\"application/ecmascript\" contentStyleType=\"text/css\" height=\"590px\" preserveAspectRatio=\"none\" style=\"width:522px;height:590px;\" version=\"1.1\" viewBox=\"0 0 522 590\" width=\"522px\" zoomAndPan=\"magnify\"><defs/><g><!--MD5=[fbc87193dbaf4d95561dea2c320d4a47]\n",
       "cluster E1--><a href=\"psysml:789e6656-6985-4918-a680-b12b42056b24\" target=\"_top\" title=\"psysml:789e6656-6985-4918-a680-b12b42056b24\" xlink:actuate=\"onRequest\" xlink:href=\"psysml:789e6656-6985-4918-a680-b12b42056b24\" xlink:show=\"new\" xlink:title=\"psysml:789e6656-6985-4918-a680-b12b42056b24\" xlink:type=\"simple\"><polygon fill=\"#FFFFFF\" points=\"16,6,97,6,104,28.2969,500,28.2969,500,578,16,578,16,6\" style=\"stroke: #000000; stroke-width: 1.5;\"/><line style=\"stroke: #000000; stroke-width: 1.5;\" x1=\"16\" x2=\"104\" y1=\"28.2969\" y2=\"28.2969\"/><text fill=\"#000000\" font-family=\"sans-serif\" font-size=\"14\" font-weight=\"bold\" lengthAdjust=\"spacingAndGlyphs\" textLength=\"75\" x=\"20\" y=\"20.9951\">ImportTest</text></a><!--MD5=[e4f7fae6ed58524ba242bb0b0d3be6b7]\n",
       "cluster E2--><a href=\"psysml:9ed5d6a5-603c-4e6a-bfc8-60e703dcd2fe\" target=\"_top\" title=\"psysml:9ed5d6a5-603c-4e6a-bfc8-60e703dcd2fe\" xlink:actuate=\"onRequest\" xlink:href=\"psysml:9ed5d6a5-603c-4e6a-bfc8-60e703dcd2fe\" xlink:show=\"new\" xlink:title=\"psysml:9ed5d6a5-603c-4e6a-bfc8-60e703dcd2fe\" xlink:type=\"simple\"><polygon fill=\"#FFFFFF\" points=\"222,57,263,57,270,79.2969,468,79.2969,468,170,222,170,222,57\" style=\"stroke: #000000; stroke-width: 1.5;\"/><line style=\"stroke: #000000; stroke-width: 1.5;\" x1=\"222\" x2=\"270\" y1=\"79.2969\" y2=\"79.2969\"/><text fill=\"#000000\" font-family=\"sans-serif\" font-size=\"14\" font-weight=\"bold\" lengthAdjust=\"spacingAndGlyphs\" textLength=\"35\" x=\"226\" y=\"71.9951\">Pkg1</text></a><!--MD5=[de5ec2e2e8f62f467e546659f5068c88]\n",
       "cluster E5--><a href=\"psysml:63b0367b-32f1-46aa-9fe1-f934424c590d\" target=\"_top\" title=\"psysml:63b0367b-32f1-46aa-9fe1-f934424c590d\" xlink:actuate=\"onRequest\" xlink:href=\"psysml:63b0367b-32f1-46aa-9fe1-f934424c590d\" xlink:show=\"new\" xlink:title=\"psysml:63b0367b-32f1-46aa-9fe1-f934424c590d\" xlink:type=\"simple\"><polygon fill=\"#FFFFFF\" points=\"121,235,162,235,169,257.2969,434,257.2969,434,546,121,546,121,235\" style=\"stroke: #000000; stroke-width: 1.5;\"/><line style=\"stroke: #000000; stroke-width: 1.5;\" x1=\"121\" x2=\"169\" y1=\"257.2969\" y2=\"257.2969\"/><text fill=\"#000000\" font-family=\"sans-serif\" font-size=\"14\" font-weight=\"bold\" lengthAdjust=\"spacingAndGlyphs\" textLength=\"35\" x=\"125\" y=\"249.9951\">Pkg2</text></a><!--MD5=[14e3b0961a2654348d326746436168a1]\n",
       "cluster E6--><a href=\"psysml:98b17091-6ea5-4037-8451-bfddc724f9d0\" target=\"_top\" title=\"psysml:98b17091-6ea5-4037-8451-bfddc724f9d0\" xlink:actuate=\"onRequest\" xlink:href=\"psysml:98b17091-6ea5-4037-8451-bfddc724f9d0\" xlink:show=\"new\" xlink:title=\"psysml:98b17091-6ea5-4037-8451-bfddc724f9d0\" xlink:type=\"simple\"><polygon fill=\"#FFFFFF\" points=\"161,294,211,294,218,316.2969,386,316.2969,386,506,161,506,161,294\" style=\"stroke: #000000; stroke-width: 1.5;\"/><line style=\"stroke: #000000; stroke-width: 1.5;\" x1=\"161\" x2=\"218\" y1=\"316.2969\" y2=\"316.2969\"/><text fill=\"#000000\" font-family=\"sans-serif\" font-size=\"14\" font-weight=\"bold\" lengthAdjust=\"spacingAndGlyphs\" textLength=\"44\" x=\"165\" y=\"308.9951\">Pkg21</text></a><!--MD5=[168fadf3d0c3fd93dd5d6da1b1d7ab76]\n",
       "cluster E7--><a href=\"psysml:45f4d7ec-8fdd-4896-89d5-a877e9eb4cf9\" target=\"_top\" title=\"psysml:45f4d7ec-8fdd-4896-89d5-a877e9eb4cf9\" xlink:actuate=\"onRequest\" xlink:href=\"psysml:45f4d7ec-8fdd-4896-89d5-a877e9eb4cf9\" xlink:show=\"new\" xlink:title=\"psysml:45f4d7ec-8fdd-4896-89d5-a877e9eb4cf9\" xlink:type=\"simple\"><polygon fill=\"#FFFFFF\" points=\"209,353,268,353,275,375.2969,346,375.2969,346,466,209,466,209,353\" style=\"stroke: #000000; stroke-width: 1.5;\"/><line style=\"stroke: #000000; stroke-width: 1.5;\" x1=\"209\" x2=\"275\" y1=\"375.2969\" y2=\"375.2969\"/><text fill=\"#000000\" font-family=\"sans-serif\" font-size=\"14\" font-weight=\"bold\" lengthAdjust=\"spacingAndGlyphs\" textLength=\"53\" x=\"213\" y=\"367.9951\">Pkg211</text></a><!--MD5=[09b614a08d8cba4a07c9adeb5e0fee81]\n",
       "class E3--><a href=\"psysml:380b438c-f0d0-40f2-a10d-c83a46ac62de\" target=\"_top\" title=\"psysml:380b438c-f0d0-40f2-a10d-c83a46ac62de\" xlink:actuate=\"onRequest\" xlink:href=\"psysml:380b438c-f0d0-40f2-a10d-c83a46ac62de\" xlink:show=\"new\" xlink:title=\"psysml:380b438c-f0d0-40f2-a10d-c83a46ac62de\" xlink:type=\"simple\"><rect fill=\"#FFFFFF\" height=\"45.9375\" id=\"E3\" rx=\"10\" ry=\"10\" style=\"stroke: #383838; stroke-width: 1.5;\" width=\"74\" x=\"265\" y=\"100\"/><text fill=\"#000000\" font-family=\"sans-serif\" font-size=\"12\" font-style=\"italic\" lengthAdjust=\"spacingAndGlyphs\" textLength=\"40\" x=\"282\" y=\"116.1387\">«part»</text><text fill=\"#000000\" font-family=\"sans-serif\" font-size=\"12\" lengthAdjust=\"spacingAndGlyphs\" textLength=\"64\" x=\"268\" y=\"130.1074\">p11: P211</text><line style=\"stroke: #383838; stroke-width: 1.5;\" x1=\"266\" x2=\"338\" y1=\"137.9375\" y2=\"137.9375\"/></a><!--MD5=[ebbe1d658d1005bcc118a6aa81145e00]\n",
       "class E4--><a href=\"psysml:4c18927e-9f3a-4bbe-ae04-0ff2b7ea0a78\" target=\"_top\" title=\"psysml:4c18927e-9f3a-4bbe-ae04-0ff2b7ea0a78\" xlink:actuate=\"onRequest\" xlink:href=\"psysml:4c18927e-9f3a-4bbe-ae04-0ff2b7ea0a78\" xlink:show=\"new\" xlink:title=\"psysml:4c18927e-9f3a-4bbe-ae04-0ff2b7ea0a78\" xlink:type=\"simple\"><rect fill=\"#FFFFFF\" height=\"45.9375\" id=\"E4\" style=\"stroke: #383838; stroke-width: 1.5;\" width=\"70\" x=\"374\" y=\"100\"/><text fill=\"#000000\" font-family=\"sans-serif\" font-size=\"12\" font-style=\"italic\" lengthAdjust=\"spacingAndGlyphs\" textLength=\"68\" x=\"375\" y=\"116.1387\">«part  def»</text><text fill=\"#000000\" font-family=\"sans-serif\" font-size=\"12\" lengthAdjust=\"spacingAndGlyphs\" textLength=\"24\" x=\"397\" y=\"130.1074\">P12</text><line style=\"stroke: #383838; stroke-width: 1.5;\" x1=\"375\" x2=\"443\" y1=\"137.9375\" y2=\"137.9375\"/></a><!--MD5=[b9389687b975829384b498ac4b7476b2]\n",
       "class E8--><a href=\"psysml:b4068f35-75bf-4c63-8263-9508faa965fc\" target=\"_top\" title=\"psysml:b4068f35-75bf-4c63-8263-9508faa965fc\" xlink:actuate=\"onRequest\" xlink:href=\"psysml:b4068f35-75bf-4c63-8263-9508faa965fc\" xlink:show=\"new\" xlink:title=\"psysml:b4068f35-75bf-4c63-8263-9508faa965fc\" xlink:type=\"simple\"><rect fill=\"#FFFFFF\" height=\"45.9375\" id=\"E8\" style=\"stroke: #383838; stroke-width: 1.5;\" width=\"70\" x=\"252\" y=\"396\"/><text fill=\"#000000\" font-family=\"sans-serif\" font-size=\"12\" font-style=\"italic\" lengthAdjust=\"spacingAndGlyphs\" textLength=\"68\" x=\"253\" y=\"412.1387\">«part  def»</text><text fill=\"#000000\" font-family=\"sans-serif\" font-size=\"12\" lengthAdjust=\"spacingAndGlyphs\" textLength=\"32\" x=\"271\" y=\"426.1074\">P211</text><line style=\"stroke: #383838; stroke-width: 1.5;\" x1=\"253\" x2=\"321\" y1=\"433.9375\" y2=\"433.9375\"/></a><!--MD5=[b0060bfdb0500b904584095522b4da3c]\n",
       "link E2 to E8--><a href=\"psysml:86dbe04c-b04a-4ec6-a347-5e4f000abe00\" target=\"_top\" title=\"psysml:86dbe04c-b04a-4ec6-a347-5e4f000abe00\" xlink:actuate=\"onRequest\" xlink:href=\"psysml:86dbe04c-b04a-4ec6-a347-5e4f000abe00\" xlink:show=\"new\" xlink:title=\"psysml:86dbe04c-b04a-4ec6-a347-5e4f000abe00\" xlink:type=\"simple\"><path d=\"M239.5673,170.044 C239.9187,170.8643 240.2829,171.6796 240.6605,172.4884 C241.4156,174.106 242.2242,175.6975 243.0899,177.2503 C244.8213,180.3558 246.7813,183.3063 249,186 C253.8,191.83 259.79,187.73 264,194 C304.62,254.46 298.3,345.57 291.84,390.69 \" fill=\"none\" id=\"E2-&gt;E8\" style=\"stroke: #383838; stroke-width: 1.0; stroke-dasharray: 7.0,7.0;\"/><polygon fill=\"#383838\" points=\"291.1,395.69,296.3662,387.3673,291.8271,390.7431,288.4512,386.204,291.1,395.69\" style=\"stroke: #383838; stroke-width: 1.0;\"/><text fill=\"#000000\" font-family=\"sans-serif\" font-size=\"13\" lengthAdjust=\"spacingAndGlyphs\" textLength=\"58\" x=\"274\" y=\"207.0669\">«import»</text></a><!--MD5=[e3e28c1befcf002155aa15e1416b4315]\n",
       "link E2 to E6--><a href=\"psysml:b4797686-9eb8-4e8e-a70f-411a8a1a5c6c\" target=\"_top\" title=\"psysml:b4797686-9eb8-4e8e-a70f-411a8a1a5c6c\" xlink:actuate=\"onRequest\" xlink:href=\"psysml:b4797686-9eb8-4e8e-a70f-411a8a1a5c6c\" xlink:show=\"new\" xlink:title=\"psysml:b4797686-9eb8-4e8e-a70f-411a8a1a5c6c\" xlink:type=\"simple\"><path d=\"M221.7454,125.2359 C221.6297,125.2555 221.5129,125.2754 221.395,125.2955 C221.1593,125.3358 220.9193,125.3771 220.6752,125.4195 C220.1869,125.5042 219.6819,125.5933 219.1609,125.6868 C217.0769,126.0607 214.7359,126.5053 212.1769,127.0288 C201.9406,129.1225 188.215,132.4775 173.4875,137.615 C144.0325,147.89 110.57,165.295 93,194 C65.99,238.135 83.98,293.0875 109.2162,337.5175 C121.8344,359.7325 136.2641,379.3169 147.7861,393.6031 C150.6666,397.1747 153.3654,400.4151 155.8087,403.2827 C157.0304,404.7165 158.1881,406.0571 159.2728,407.2993 C159.8152,407.9204 160.3393,408.5169 160.8439,409.0882 \" fill=\"none\" id=\"E2-&gt;E6\" style=\"stroke: #383838; stroke-width: 1.0; stroke-dasharray: 7.0,7.0;\"/><polygon fill=\"#383838\" points=\"160.8439,409.0882,157.8829,399.695,157.5335,405.341,151.8875,404.9916,160.8439,409.0882\" style=\"stroke: #383838; stroke-width: 1.0;\"/><text fill=\"#000000\" font-family=\"sans-serif\" font-size=\"13\" lengthAdjust=\"spacingAndGlyphs\" textLength=\"65\" x=\"94\" y=\"207.0669\">«import»*</text></a><!--MD5=[e3d2a08a9c9236652057e8ed0cbc9b62]\n",
       "link E2 to E7--><a href=\"psysml:c873f416-4fb0-4522-b4d5-2fc0ff0d8008\" target=\"_top\" title=\"psysml:c873f416-4fb0-4522-b4d5-2fc0ff0d8008\" xlink:actuate=\"onRequest\" xlink:href=\"psysml:c873f416-4fb0-4522-b4d5-2fc0ff0d8008\" xlink:show=\"new\" xlink:title=\"psysml:c873f416-4fb0-4522-b4d5-2fc0ff0d8008\" xlink:type=\"simple\"><path d=\"M221.8807,130.2617 C221.7401,130.3761 221.5982,130.4918 221.4548,130.6091 C216.8678,134.36 210.8594,139.5688 204.5113,145.875 C191.815,158.4875 177.76,175.49 171,194 C168.41,201.1 166.18,205.18 171,211 C183.11,225.64 200.74,204.48 213,219 C227.045,235.63 228.2325,284.0975 225.8175,329.0338 C225.5156,334.6508 225.1575,340.2126 224.7611,345.6502 C224.662,347.0096 224.5605,348.3613 224.4569,349.7041 C224.4051,350.3755 224.3528,351.0446 224.3,351.7115 C224.2736,352.0449 224.2471,352.3777 224.2204,352.71 \" fill=\"none\" id=\"E2-&gt;E7\" style=\"stroke: #383838; stroke-width: 1.0; stroke-dasharray: 7.0,7.0;\"/><polygon fill=\"#383838\" points=\"224.2204,352.71,228.9272,344.0586,224.6202,347.726,220.9528,343.419,224.2204,352.71\" style=\"stroke: #383838; stroke-width: 1.0;\"/><text fill=\"#000000\" font-family=\"sans-serif\" font-size=\"13\" lengthAdjust=\"spacingAndGlyphs\" textLength=\"87\" x=\"172\" y=\"207.0669\">«import»*::**</text></a><!--MD5=[ca5a752d6098d8a44b3f88316e7452d1]\n",
       "link E3 to E8--><a href=\"psysml:bb41b158-76b0-47f5-886e-e2f97e00e6aa\" target=\"_top\" title=\"psysml:bb41b158-76b0-47f5-886e-e2f97e00e6aa\" xlink:actuate=\"onRequest\" xlink:href=\"psysml:bb41b158-76b0-47f5-886e-e2f97e00e6aa\" xlink:show=\"new\" xlink:title=\"psysml:bb41b158-76b0-47f5-886e-e2f97e00e6aa\" xlink:type=\"simple\"><path d=\"M321.59,146.07 C339.73,166.51 363.93,193.81 364,194 C366.68,201.06 368.76,205.13 364,211 C353.13,224.4 338.12,206.71 326,219 C285.31,260.27 280.82,330.75 282.81,375.81 \" fill=\"none\" id=\"E3-&gt;E8\" style=\"stroke: #383838; stroke-width: 1.0;\"/><polygon fill=\"#FFFFFF\" points=\"284.19,395.93,275.9039,377.4546,289.8709,376.4948,284.19,395.93\" style=\"stroke: #383838; stroke-width: 1.0;\"/><ellipse cx=\"277.5084\" cy=\"371.6309\" fill=\"#383838\" rx=\"2\" ry=\"2\" style=\"stroke: #383838; stroke-width: 1.0;\"/><ellipse cx=\"287.4849\" cy=\"370.9453\" fill=\"#383838\" rx=\"2\" ry=\"2\" style=\"stroke: #383838; stroke-width: 1.0;\"/></a><!--MD5=[15ebcb19ae302d9b601edb458606d402]\n",
       "link E5 to E2--><a href=\"psysml:cb98c000-d2e0-4059-b3dc-41ff4d975042\" target=\"_top\" title=\"psysml:cb98c000-d2e0-4059-b3dc-41ff4d975042\" xlink:actuate=\"onRequest\" xlink:href=\"psysml:cb98c000-d2e0-4059-b3dc-41ff4d975042\" xlink:show=\"new\" xlink:title=\"psysml:cb98c000-d2e0-4059-b3dc-41ff4d975042\" xlink:type=\"simple\"><path d=\"M377.9071,234.5987 C377.6837,234.254 377.4593,233.91 377.2338,233.5668 C376.3317,232.1941 375.413,230.8338 374.4773,229.4868 C372.6059,226.7928 370.6665,224.152 368.6567,221.572 C360.6175,211.2517 351.4513,201.9025 341,194 C324.63,181.62 264.96,198.91 249,186 C246.2863,183.805 243.9511,181.2325 241.9426,178.4061 C240.9384,176.9929 240.0159,175.5163 239.1685,173.9916 C238.7448,173.2292 238.3399,172.4549 237.953,171.6705 C237.7596,171.2782 237.5706,170.8835 237.3861,170.4865 C237.3399,170.3873 237.2941,170.2879 237.2485,170.1883 \" fill=\"none\" id=\"E5-&gt;E2\" style=\"stroke: #383838; stroke-width: 1.0; stroke-dasharray: 7.0,7.0;\"/><polygon fill=\"#383838\" points=\"237.2485,170.1883,237.3599,180.0366,239.3307,174.7341,244.6331,176.705,237.2485,170.1883\" style=\"stroke: #383838; stroke-width: 1.0;\"/><text fill=\"#000000\" font-family=\"sans-serif\" font-size=\"13\" lengthAdjust=\"spacingAndGlyphs\" textLength=\"65\" x=\"356\" y=\"207.0669\">«import»*</text></a><!--MD5=[d7bb3fb34add81b710575eb3799fa2ad]\n",
       "link E8 to E4--><a href=\"psysml:ff856c1d-ebaf-4dbc-8ba8-d8c60136e299\" target=\"_top\" title=\"psysml:ff856c1d-ebaf-4dbc-8ba8-d8c60136e299\" xlink:actuate=\"onRequest\" xlink:href=\"psysml:ff856c1d-ebaf-4dbc-8ba8-d8c60136e299\" xlink:show=\"new\" xlink:title=\"psysml:ff856c1d-ebaf-4dbc-8ba8-d8c60136e299\" xlink:type=\"simple\"><path d=\"M283.6,395.87 C278.58,354.03 274.69,263.54 326,219 C338.77,207.91 466.36,223.27 478,211 C493.94,194.2 479.72,174.01 460.15,157.31 \" fill=\"none\" id=\"E8-&gt;E4\" style=\"stroke: #383838; stroke-width: 1.0;\"/><polygon fill=\"none\" points=\"455.78,162.78,444.15,145.06,464.29,151.66,455.78,162.78\" style=\"stroke: #383838; stroke-width: 1.0;\"/></a><!--MD5=[7474dabdb0b72cbc9c2489e465e6ef1f]\n",
       "@startuml\r\n",
       "top to bottom direction\r\n",
       "skinparam monochrome true\r\n",
       "skinparam classbackgroundcolor white\r\n",
       "skinparam shadowing false\r\n",
       "skinparam wrapWidth 300\r\n",
       "hide circle\r\n",
       "\r\n",
       "package \"ImportTest\" as E1  [[psysml:789e6656-6985-4918-a680-b12b42056b24 ]]  {\r\n",
       "package \"Pkg1\" as E2  [[psysml:9ed5d6a5-603c-4e6a-bfc8-60e703dcd2fe ]]  {\r\n",
       "comp usage \"p11: P211 \" as E3  <<(T,blue) part>> [[psysml:380b438c-f0d0-40f2-a10d-c83a46ac62de ]] {\r\n",
       "}\r\n",
       "comp def \"P12\" as E4  <<(T,blue) part  def>> [[psysml:4c18927e-9f3a-4bbe-ae04-0ff2b7ea0a78 ]] {\r\n",
       "}\r\n",
       "}\r\n",
       "package \"Pkg2\" as E5  [[psysml:63b0367b-32f1-46aa-9fe1-f934424c590d ]]  {\r\n",
       "package \"Pkg21\" as E6  [[psysml:98b17091-6ea5-4037-8451-bfddc724f9d0 ]]  {\r\n",
       "package \"Pkg211\" as E7  [[psysml:45f4d7ec-8fdd-4896-89d5-a877e9eb4cf9 ]]  {\r\n",
       "comp def \"P211\" as E8  <<(T,blue) part  def>> [[psysml:b4068f35-75bf-4c63-8263-9508faa965fc ]] {\r\n",
       "}\r\n",
       "}\r\n",
       "}\r\n",
       "}\r\n",
       "}\r\n",
       "E2 ..> E8 [[psysml:86dbe04c-b04a-4ec6-a347-5e4f000abe00 ]] : <<import>>\r\n",
       "E2 ..> E6 [[psysml:b4797686-9eb8-4e8e-a70f-411a8a1a5c6c ]] : <<import>>*\r\n",
       "E2 ..> E7 [[psysml:c873f416-4fb0-4522-b4d5-2fc0ff0d8008 ]] : <<import>>*::**\r\n",
       "E3 - -:|> E8 [[psysml:bb41b158-76b0-47f5-886e-e2f97e00e6aa ]] \r\n",
       "E5 ..> E2 [[psysml:cb98c000-d2e0-4059-b3dc-41ff4d975042 ]] : <<import>>*\r\n",
       "E8 - -|> E4 [[psysml:ff856c1d-ebaf-4dbc-8ba8-d8c60136e299 ]] \r\n",
       "@enduml\r\n",
       "\n",
       "PlantUML version 1.2020.13(Sat Jun 13 12:26:38 UTC 2020)\n",
       "(EPL source distribution)\n",
       "Java Runtime: OpenJDK Runtime Environment\n",
       "JVM: OpenJDK 64-Bit Server VM\n",
       "Default Encoding: UTF-8\n",
       "Language: en\n",
       "Country: null\n",
       "--></g></svg>"
      ]
     },
     "execution_count": 50,
     "metadata": {},
     "output_type": "execute_result"
    }
   ],
   "source": [
    "%viz --style=\"TB\" --view=\"MIXED\" \"ImportTest\""
   ]
  },
  {
   "cell_type": "code",
   "execution_count": 51,
   "id": "21a60326",
   "metadata": {
    "execution": {
     "iopub.execute_input": "2022-08-19T08:17:22.543200Z",
     "iopub.status.busy": "2022-08-19T08:17:22.542753Z",
     "iopub.status.idle": "2022-08-19T08:17:22.574909Z",
     "shell.execute_reply": "2022-08-19T08:17:22.573530Z"
    }
   },
   "outputs": [
    {
     "data": {
      "image/svg+xml": [
       "<?xml version=\"1.0\" encoding=\"UTF-8\" standalone=\"no\"?><svg xmlns=\"http://www.w3.org/2000/svg\" xmlns:xlink=\"http://www.w3.org/1999/xlink\" contentScriptType=\"application/ecmascript\" contentStyleType=\"text/css\" height=\"590px\" preserveAspectRatio=\"none\" style=\"width:522px;height:590px;\" version=\"1.1\" viewBox=\"0 0 522 590\" width=\"522px\" zoomAndPan=\"magnify\"><defs/><g><!--MD5=[fbc87193dbaf4d95561dea2c320d4a47]\n",
       "cluster E1--><a href=\"psysml:789e6656-6985-4918-a680-b12b42056b24\" target=\"_top\" title=\"psysml:789e6656-6985-4918-a680-b12b42056b24\" xlink:actuate=\"onRequest\" xlink:href=\"psysml:789e6656-6985-4918-a680-b12b42056b24\" xlink:show=\"new\" xlink:title=\"psysml:789e6656-6985-4918-a680-b12b42056b24\" xlink:type=\"simple\"><polygon fill=\"#FFFFFF\" points=\"16,6,97,6,104,28.2969,500,28.2969,500,578,16,578,16,6\" style=\"stroke: #000000; stroke-width: 1.5;\"/><line style=\"stroke: #000000; stroke-width: 1.5;\" x1=\"16\" x2=\"104\" y1=\"28.2969\" y2=\"28.2969\"/><text fill=\"#000000\" font-family=\"sans-serif\" font-size=\"14\" font-weight=\"bold\" lengthAdjust=\"spacingAndGlyphs\" textLength=\"75\" x=\"20\" y=\"20.9951\">ImportTest</text></a><!--MD5=[e4f7fae6ed58524ba242bb0b0d3be6b7]\n",
       "cluster E2--><a href=\"psysml:9ed5d6a5-603c-4e6a-bfc8-60e703dcd2fe\" target=\"_top\" title=\"psysml:9ed5d6a5-603c-4e6a-bfc8-60e703dcd2fe\" xlink:actuate=\"onRequest\" xlink:href=\"psysml:9ed5d6a5-603c-4e6a-bfc8-60e703dcd2fe\" xlink:show=\"new\" xlink:title=\"psysml:9ed5d6a5-603c-4e6a-bfc8-60e703dcd2fe\" xlink:type=\"simple\"><polygon fill=\"#FFFFFF\" points=\"222,57,263,57,270,79.2969,468,79.2969,468,170,222,170,222,57\" style=\"stroke: #000000; stroke-width: 1.5;\"/><line style=\"stroke: #000000; stroke-width: 1.5;\" x1=\"222\" x2=\"270\" y1=\"79.2969\" y2=\"79.2969\"/><text fill=\"#000000\" font-family=\"sans-serif\" font-size=\"14\" font-weight=\"bold\" lengthAdjust=\"spacingAndGlyphs\" textLength=\"35\" x=\"226\" y=\"71.9951\">Pkg1</text></a><!--MD5=[de5ec2e2e8f62f467e546659f5068c88]\n",
       "cluster E5--><a href=\"psysml:63b0367b-32f1-46aa-9fe1-f934424c590d\" target=\"_top\" title=\"psysml:63b0367b-32f1-46aa-9fe1-f934424c590d\" xlink:actuate=\"onRequest\" xlink:href=\"psysml:63b0367b-32f1-46aa-9fe1-f934424c590d\" xlink:show=\"new\" xlink:title=\"psysml:63b0367b-32f1-46aa-9fe1-f934424c590d\" xlink:type=\"simple\"><polygon fill=\"#FFFFFF\" points=\"121,235,162,235,169,257.2969,434,257.2969,434,546,121,546,121,235\" style=\"stroke: #000000; stroke-width: 1.5;\"/><line style=\"stroke: #000000; stroke-width: 1.5;\" x1=\"121\" x2=\"169\" y1=\"257.2969\" y2=\"257.2969\"/><text fill=\"#000000\" font-family=\"sans-serif\" font-size=\"14\" font-weight=\"bold\" lengthAdjust=\"spacingAndGlyphs\" textLength=\"35\" x=\"125\" y=\"249.9951\">Pkg2</text></a><!--MD5=[14e3b0961a2654348d326746436168a1]\n",
       "cluster E6--><a href=\"psysml:98b17091-6ea5-4037-8451-bfddc724f9d0\" target=\"_top\" title=\"psysml:98b17091-6ea5-4037-8451-bfddc724f9d0\" xlink:actuate=\"onRequest\" xlink:href=\"psysml:98b17091-6ea5-4037-8451-bfddc724f9d0\" xlink:show=\"new\" xlink:title=\"psysml:98b17091-6ea5-4037-8451-bfddc724f9d0\" xlink:type=\"simple\"><polygon fill=\"#FFFFFF\" points=\"161,294,211,294,218,316.2969,386,316.2969,386,506,161,506,161,294\" style=\"stroke: #000000; stroke-width: 1.5;\"/><line style=\"stroke: #000000; stroke-width: 1.5;\" x1=\"161\" x2=\"218\" y1=\"316.2969\" y2=\"316.2969\"/><text fill=\"#000000\" font-family=\"sans-serif\" font-size=\"14\" font-weight=\"bold\" lengthAdjust=\"spacingAndGlyphs\" textLength=\"44\" x=\"165\" y=\"308.9951\">Pkg21</text></a><!--MD5=[168fadf3d0c3fd93dd5d6da1b1d7ab76]\n",
       "cluster E7--><a href=\"psysml:45f4d7ec-8fdd-4896-89d5-a877e9eb4cf9\" target=\"_top\" title=\"psysml:45f4d7ec-8fdd-4896-89d5-a877e9eb4cf9\" xlink:actuate=\"onRequest\" xlink:href=\"psysml:45f4d7ec-8fdd-4896-89d5-a877e9eb4cf9\" xlink:show=\"new\" xlink:title=\"psysml:45f4d7ec-8fdd-4896-89d5-a877e9eb4cf9\" xlink:type=\"simple\"><polygon fill=\"#FFFFFF\" points=\"209,353,268,353,275,375.2969,346,375.2969,346,466,209,466,209,353\" style=\"stroke: #000000; stroke-width: 1.5;\"/><line style=\"stroke: #000000; stroke-width: 1.5;\" x1=\"209\" x2=\"275\" y1=\"375.2969\" y2=\"375.2969\"/><text fill=\"#000000\" font-family=\"sans-serif\" font-size=\"14\" font-weight=\"bold\" lengthAdjust=\"spacingAndGlyphs\" textLength=\"53\" x=\"213\" y=\"367.9951\">Pkg211</text></a><!--MD5=[09b614a08d8cba4a07c9adeb5e0fee81]\n",
       "class E3--><a href=\"psysml:380b438c-f0d0-40f2-a10d-c83a46ac62de\" target=\"_top\" title=\"psysml:380b438c-f0d0-40f2-a10d-c83a46ac62de\" xlink:actuate=\"onRequest\" xlink:href=\"psysml:380b438c-f0d0-40f2-a10d-c83a46ac62de\" xlink:show=\"new\" xlink:title=\"psysml:380b438c-f0d0-40f2-a10d-c83a46ac62de\" xlink:type=\"simple\"><rect fill=\"#FFFFFF\" height=\"45.9375\" id=\"E3\" rx=\"10\" ry=\"10\" style=\"stroke: #383838; stroke-width: 1.5;\" width=\"74\" x=\"265\" y=\"100\"/><text fill=\"#000000\" font-family=\"sans-serif\" font-size=\"12\" font-style=\"italic\" lengthAdjust=\"spacingAndGlyphs\" textLength=\"40\" x=\"282\" y=\"116.1387\">«part»</text><text fill=\"#000000\" font-family=\"sans-serif\" font-size=\"12\" lengthAdjust=\"spacingAndGlyphs\" textLength=\"64\" x=\"268\" y=\"130.1074\">p11: P211</text><line style=\"stroke: #383838; stroke-width: 1.5;\" x1=\"266\" x2=\"338\" y1=\"137.9375\" y2=\"137.9375\"/></a><!--MD5=[ebbe1d658d1005bcc118a6aa81145e00]\n",
       "class E4--><a href=\"psysml:4c18927e-9f3a-4bbe-ae04-0ff2b7ea0a78\" target=\"_top\" title=\"psysml:4c18927e-9f3a-4bbe-ae04-0ff2b7ea0a78\" xlink:actuate=\"onRequest\" xlink:href=\"psysml:4c18927e-9f3a-4bbe-ae04-0ff2b7ea0a78\" xlink:show=\"new\" xlink:title=\"psysml:4c18927e-9f3a-4bbe-ae04-0ff2b7ea0a78\" xlink:type=\"simple\"><rect fill=\"#FFFFFF\" height=\"45.9375\" id=\"E4\" style=\"stroke: #383838; stroke-width: 1.5;\" width=\"70\" x=\"374\" y=\"100\"/><text fill=\"#000000\" font-family=\"sans-serif\" font-size=\"12\" font-style=\"italic\" lengthAdjust=\"spacingAndGlyphs\" textLength=\"68\" x=\"375\" y=\"116.1387\">«part  def»</text><text fill=\"#000000\" font-family=\"sans-serif\" font-size=\"12\" lengthAdjust=\"spacingAndGlyphs\" textLength=\"24\" x=\"397\" y=\"130.1074\">P12</text><line style=\"stroke: #383838; stroke-width: 1.5;\" x1=\"375\" x2=\"443\" y1=\"137.9375\" y2=\"137.9375\"/></a><!--MD5=[b9389687b975829384b498ac4b7476b2]\n",
       "class E8--><a href=\"psysml:b4068f35-75bf-4c63-8263-9508faa965fc\" target=\"_top\" title=\"psysml:b4068f35-75bf-4c63-8263-9508faa965fc\" xlink:actuate=\"onRequest\" xlink:href=\"psysml:b4068f35-75bf-4c63-8263-9508faa965fc\" xlink:show=\"new\" xlink:title=\"psysml:b4068f35-75bf-4c63-8263-9508faa965fc\" xlink:type=\"simple\"><rect fill=\"#FFFFFF\" height=\"45.9375\" id=\"E8\" style=\"stroke: #383838; stroke-width: 1.5;\" width=\"70\" x=\"252\" y=\"396\"/><text fill=\"#000000\" font-family=\"sans-serif\" font-size=\"12\" font-style=\"italic\" lengthAdjust=\"spacingAndGlyphs\" textLength=\"68\" x=\"253\" y=\"412.1387\">«part  def»</text><text fill=\"#000000\" font-family=\"sans-serif\" font-size=\"12\" lengthAdjust=\"spacingAndGlyphs\" textLength=\"32\" x=\"271\" y=\"426.1074\">P211</text><line style=\"stroke: #383838; stroke-width: 1.5;\" x1=\"253\" x2=\"321\" y1=\"433.9375\" y2=\"433.9375\"/></a><!--MD5=[b0060bfdb0500b904584095522b4da3c]\n",
       "link E2 to E8--><a href=\"psysml:86dbe04c-b04a-4ec6-a347-5e4f000abe00\" target=\"_top\" title=\"psysml:86dbe04c-b04a-4ec6-a347-5e4f000abe00\" xlink:actuate=\"onRequest\" xlink:href=\"psysml:86dbe04c-b04a-4ec6-a347-5e4f000abe00\" xlink:show=\"new\" xlink:title=\"psysml:86dbe04c-b04a-4ec6-a347-5e4f000abe00\" xlink:type=\"simple\"><path d=\"M258.5,170.8719 C258.5,171.2838 258.5,171.6975 258.5,172.1131 C258.5,172.9444 258.5,173.783 258.5,174.6287 C258.5,178.0118 258.5,181.5093 258.5,185.1049 C258.5,192.2959 258.5,199.8793 258.5,207.7241 C258.5,223.4138 258.5,240.1494 258.5,256.885 C258.5,323.8275 258.5,390.77 258.5,390.77 \" fill=\"none\" id=\"E2-&gt;E8\" style=\"stroke: #383838; stroke-width: 1.0; stroke-dasharray: 7.0,7.0;\"/><polygon fill=\"#383838\" points=\"258.5,395.77,262.5,386.77,258.5,390.77,254.5,386.77,258.5,395.77\" style=\"stroke: #383838; stroke-width: 1.0;\"/><text fill=\"#000000\" font-family=\"sans-serif\" font-size=\"13\" lengthAdjust=\"spacingAndGlyphs\" textLength=\"58\" x=\"304\" y=\"207.0669\">«import»</text></a><!--MD5=[e3e28c1befcf002155aa15e1416b4315]\n",
       "link E2 to E6--><a href=\"psysml:b4797686-9eb8-4e8e-a70f-411a8a1a5c6c\" target=\"_top\" title=\"psysml:b4797686-9eb8-4e8e-a70f-411a8a1a5c6c\" xlink:actuate=\"onRequest\" xlink:href=\"psysml:b4797686-9eb8-4e8e-a70f-411a8a1a5c6c\" xlink:show=\"new\" xlink:title=\"psysml:b4797686-9eb8-4e8e-a70f-411a8a1a5c6c\" xlink:type=\"simple\"><path d=\"M221.8499,123 C221.7697,123 221.6889,123 221.6078,123 C221.4454,123 221.2813,123 221.1154,123 C220.7835,123 220.4447,123 220.0992,123 C219.4083,123 218.6908,123 217.9502,123 C212.0247,123 204.6106,123 197.3588,123 C182.855,123 169,123 169,123 C169,123 169,193.5725 169,265.7988 C169,274.827 169,283.8812 169,292.8265 \" fill=\"none\" id=\"E2-&gt;E6\" style=\"stroke: #383838; stroke-width: 1.0; stroke-dasharray: 7.0,7.0;\"/><polygon fill=\"#383838\" points=\"169,292.8265,173,283.8265,169,287.8265,165,283.8265,169,292.8265\" style=\"stroke: #383838; stroke-width: 1.0;\"/><text fill=\"#000000\" font-family=\"sans-serif\" font-size=\"13\" lengthAdjust=\"spacingAndGlyphs\" textLength=\"65\" x=\"68\" y=\"207.0669\">«import»*</text></a><!--MD5=[e3d2a08a9c9236652057e8ed0cbc9b62]\n",
       "link E2 to E7--><a href=\"psysml:c873f416-4fb0-4522-b4d5-2fc0ff0d8008\" target=\"_top\" title=\"psysml:c873f416-4fb0-4522-b4d5-2fc0ff0d8008\" xlink:actuate=\"onRequest\" xlink:href=\"psysml:c873f416-4fb0-4522-b4d5-2fc0ff0d8008\" xlink:show=\"new\" xlink:title=\"psysml:c873f416-4fb0-4522-b4d5-2fc0ff0d8008\" xlink:type=\"simple\"><path d=\"M230,170.0237 C230,171.7278 230,173.4661 230,175.2364 C230,203.5616 230,240.0881 230,276.2013 C230,294.2578 230,312.211 230,328.984 C230,333.1773 230,337.2967 230,341.3256 C230,343.3401 230,345.3319 230,347.2989 C230,348.2824 230,349.2598 230,350.2307 C230,350.7161 230,351.1999 230,351.6821 C230,351.9232 230,352.1639 230,352.4042 \" fill=\"none\" id=\"E2-&gt;E7\" style=\"stroke: #383838; stroke-width: 1.0; stroke-dasharray: 7.0,7.0;\"/><polygon fill=\"#383838\" points=\"230,352.4042,234,343.4042,230,347.4042,226,343.4042,230,352.4042\" style=\"stroke: #383838; stroke-width: 1.0;\"/><text fill=\"#000000\" font-family=\"sans-serif\" font-size=\"13\" lengthAdjust=\"spacingAndGlyphs\" textLength=\"87\" x=\"175\" y=\"207.0669\">«import»*::**</text></a><!--MD5=[ca5a752d6098d8a44b3f88316e7452d1]\n",
       "link E3 to E8--><a href=\"psysml:bb41b158-76b0-47f5-886e-e2f97e00e6aa\" target=\"_top\" title=\"psysml:bb41b158-76b0-47f5-886e-e2f97e00e6aa\" xlink:actuate=\"onRequest\" xlink:href=\"psysml:bb41b158-76b0-47f5-886e-e2f97e00e6aa\" xlink:show=\"new\" xlink:title=\"psysml:bb41b158-76b0-47f5-886e-e2f97e00e6aa\" xlink:type=\"simple\"><path d=\"M293.5,146.23 C293.5,146.23 293.5,375.88 293.5,375.88 \" fill=\"none\" id=\"E3-&gt;E8\" style=\"stroke: #383838; stroke-width: 1.0;\"/><polygon fill=\"#FFFFFF\" points=\"293.5,395.88,286.5,376.88,300.5,376.88,293.5,395.88\" style=\"stroke: #383838; stroke-width: 1.0;\"/><ellipse cx=\"288.5\" cy=\"371.18\" fill=\"#383838\" rx=\"2\" ry=\"2\" style=\"stroke: #383838; stroke-width: 1.0;\"/><ellipse cx=\"298.5\" cy=\"371.18\" fill=\"#383838\" rx=\"2\" ry=\"2\" style=\"stroke: #383838; stroke-width: 1.0;\"/></a><!--MD5=[15ebcb19ae302d9b601edb458606d402]\n",
       "link E5 to E2--><a href=\"psysml:cb98c000-d2e0-4059-b3dc-41ff4d975042\" target=\"_top\" title=\"psysml:cb98c000-d2e0-4059-b3dc-41ff4d975042\" xlink:actuate=\"onRequest\" xlink:href=\"psysml:cb98c000-d2e0-4059-b3dc-41ff4d975042\" xlink:show=\"new\" xlink:title=\"psysml:cb98c000-d2e0-4059-b3dc-41ff4d975042\" xlink:type=\"simple\"><path d=\"M356.5,234.7237 C356.5,229.4786 356.5,224.2542 356.5,219.0708 C356.5,208.7041 356.5,198.502 356.5,188.6289 C356.5,183.6924 356.5,178.8381 356.5,174.0867 C356.5,172.8989 356.5,171.7175 356.5,170.5428 C356.5,170.3959 356.5,170.2492 356.5,170.1026 \" fill=\"none\" id=\"E5-&gt;E2\" style=\"stroke: #383838; stroke-width: 1.0; stroke-dasharray: 7.0,7.0;\"/><polygon fill=\"#383838\" points=\"356.5,170.1026,352.5,179.1026,356.5,175.1026,360.5,179.1026,356.5,170.1026\" style=\"stroke: #383838; stroke-width: 1.0;\"/><text fill=\"#000000\" font-family=\"sans-serif\" font-size=\"13\" lengthAdjust=\"spacingAndGlyphs\" textLength=\"65\" x=\"411\" y=\"207.0669\">«import»*</text></a><!--MD5=[d7bb3fb34add81b710575eb3799fa2ad]\n",
       "link E8 to E4--><a href=\"psysml:ff856c1d-ebaf-4dbc-8ba8-d8c60136e299\" target=\"_top\" title=\"psysml:ff856c1d-ebaf-4dbc-8ba8-d8c60136e299\" xlink:actuate=\"onRequest\" xlink:href=\"psysml:ff856c1d-ebaf-4dbc-8ba8-d8c60136e299\" xlink:show=\"new\" xlink:title=\"psysml:ff856c1d-ebaf-4dbc-8ba8-d8c60136e299\" xlink:type=\"simple\"><path d=\"M322.29,407 C355.28,407 399.5,407 399.5,407 C399.5,407 399.5,166.24 399.5,166.24 \" fill=\"none\" id=\"E8-&gt;E4\" style=\"stroke: #383838; stroke-width: 1.0;\"/><polygon fill=\"none\" points=\"392.5,166.24,399.5,146.24,406.5,166.24,392.5,166.24\" style=\"stroke: #383838; stroke-width: 1.0;\"/></a><!--MD5=[1e99cb9fe247615577f602df901cfbe0]\n",
       "@startuml\r\n",
       "skinparam linetype ortho\r\n",
       "skinparam monochrome true\r\n",
       "skinparam classbackgroundcolor white\r\n",
       "skinparam shadowing false\r\n",
       "skinparam wrapWidth 300\r\n",
       "hide circle\r\n",
       "\r\n",
       "package \"ImportTest\" as E1  [[psysml:789e6656-6985-4918-a680-b12b42056b24 ]]  {\r\n",
       "package \"Pkg1\" as E2  [[psysml:9ed5d6a5-603c-4e6a-bfc8-60e703dcd2fe ]]  {\r\n",
       "comp usage \"p11: P211 \" as E3  <<(T,blue) part>> [[psysml:380b438c-f0d0-40f2-a10d-c83a46ac62de ]] {\r\n",
       "}\r\n",
       "comp def \"P12\" as E4  <<(T,blue) part  def>> [[psysml:4c18927e-9f3a-4bbe-ae04-0ff2b7ea0a78 ]] {\r\n",
       "}\r\n",
       "}\r\n",
       "package \"Pkg2\" as E5  [[psysml:63b0367b-32f1-46aa-9fe1-f934424c590d ]]  {\r\n",
       "package \"Pkg21\" as E6  [[psysml:98b17091-6ea5-4037-8451-bfddc724f9d0 ]]  {\r\n",
       "package \"Pkg211\" as E7  [[psysml:45f4d7ec-8fdd-4896-89d5-a877e9eb4cf9 ]]  {\r\n",
       "comp def \"P211\" as E8  <<(T,blue) part  def>> [[psysml:b4068f35-75bf-4c63-8263-9508faa965fc ]] {\r\n",
       "}\r\n",
       "}\r\n",
       "}\r\n",
       "}\r\n",
       "}\r\n",
       "E2 ..> E8 [[psysml:86dbe04c-b04a-4ec6-a347-5e4f000abe00 ]] : <<import>>\r\n",
       "E2 ..> E6 [[psysml:b4797686-9eb8-4e8e-a70f-411a8a1a5c6c ]] : <<import>>*\r\n",
       "E2 ..> E7 [[psysml:c873f416-4fb0-4522-b4d5-2fc0ff0d8008 ]] : <<import>>*::**\r\n",
       "E3 - -:|> E8 [[psysml:bb41b158-76b0-47f5-886e-e2f97e00e6aa ]] \r\n",
       "E5 ..> E2 [[psysml:cb98c000-d2e0-4059-b3dc-41ff4d975042 ]] : <<import>>*\r\n",
       "E8 - -|> E4 [[psysml:ff856c1d-ebaf-4dbc-8ba8-d8c60136e299 ]] \r\n",
       "@enduml\r\n",
       "\n",
       "PlantUML version 1.2020.13(Sat Jun 13 12:26:38 UTC 2020)\n",
       "(EPL source distribution)\n",
       "Java Runtime: OpenJDK Runtime Environment\n",
       "JVM: OpenJDK 64-Bit Server VM\n",
       "Default Encoding: UTF-8\n",
       "Language: en\n",
       "Country: null\n",
       "--></g></svg>"
      ]
     },
     "execution_count": 51,
     "metadata": {},
     "output_type": "execute_result"
    }
   ],
   "source": [
    "%viz --style=\"ORTHOLINE\" --view=\"Default\" \"ImportTest\""
   ]
  },
  {
   "cell_type": "code",
   "execution_count": 52,
   "id": "25d93745",
   "metadata": {
    "execution": {
     "iopub.execute_input": "2022-08-19T08:17:22.624393Z",
     "iopub.status.busy": "2022-08-19T08:17:22.623943Z",
     "iopub.status.idle": "2022-08-19T08:17:22.655960Z",
     "shell.execute_reply": "2022-08-19T08:17:22.655548Z"
    }
   },
   "outputs": [
    {
     "data": {
      "image/svg+xml": [
       "<?xml version=\"1.0\" encoding=\"UTF-8\" standalone=\"no\"?><svg xmlns=\"http://www.w3.org/2000/svg\" xmlns:xlink=\"http://www.w3.org/1999/xlink\" contentScriptType=\"application/ecmascript\" contentStyleType=\"text/css\" height=\"590px\" preserveAspectRatio=\"none\" style=\"width:522px;height:590px;\" version=\"1.1\" viewBox=\"0 0 522 590\" width=\"522px\" zoomAndPan=\"magnify\"><defs/><g><!--MD5=[fbc87193dbaf4d95561dea2c320d4a47]\n",
       "cluster E1--><a href=\"psysml:789e6656-6985-4918-a680-b12b42056b24\" target=\"_top\" title=\"psysml:789e6656-6985-4918-a680-b12b42056b24\" xlink:actuate=\"onRequest\" xlink:href=\"psysml:789e6656-6985-4918-a680-b12b42056b24\" xlink:show=\"new\" xlink:title=\"psysml:789e6656-6985-4918-a680-b12b42056b24\" xlink:type=\"simple\"><polygon fill=\"#FFFFFF\" points=\"16,6,97,6,104,28.2969,500,28.2969,500,578,16,578,16,6\" style=\"stroke: #000000; stroke-width: 1.5;\"/><line style=\"stroke: #000000; stroke-width: 1.5;\" x1=\"16\" x2=\"104\" y1=\"28.2969\" y2=\"28.2969\"/><text fill=\"#000000\" font-family=\"sans-serif\" font-size=\"14\" font-weight=\"bold\" lengthAdjust=\"spacingAndGlyphs\" textLength=\"75\" x=\"20\" y=\"20.9951\">ImportTest</text></a><!--MD5=[e4f7fae6ed58524ba242bb0b0d3be6b7]\n",
       "cluster E2--><a href=\"psysml:9ed5d6a5-603c-4e6a-bfc8-60e703dcd2fe\" target=\"_top\" title=\"psysml:9ed5d6a5-603c-4e6a-bfc8-60e703dcd2fe\" xlink:actuate=\"onRequest\" xlink:href=\"psysml:9ed5d6a5-603c-4e6a-bfc8-60e703dcd2fe\" xlink:show=\"new\" xlink:title=\"psysml:9ed5d6a5-603c-4e6a-bfc8-60e703dcd2fe\" xlink:type=\"simple\"><polygon fill=\"#FFFFFF\" points=\"222,57,263,57,270,79.2969,468,79.2969,468,170,222,170,222,57\" style=\"stroke: #000000; stroke-width: 1.5;\"/><line style=\"stroke: #000000; stroke-width: 1.5;\" x1=\"222\" x2=\"270\" y1=\"79.2969\" y2=\"79.2969\"/><text fill=\"#000000\" font-family=\"sans-serif\" font-size=\"14\" font-weight=\"bold\" lengthAdjust=\"spacingAndGlyphs\" textLength=\"35\" x=\"226\" y=\"71.9951\">Pkg1</text></a><!--MD5=[de5ec2e2e8f62f467e546659f5068c88]\n",
       "cluster E5--><a href=\"psysml:63b0367b-32f1-46aa-9fe1-f934424c590d\" target=\"_top\" title=\"psysml:63b0367b-32f1-46aa-9fe1-f934424c590d\" xlink:actuate=\"onRequest\" xlink:href=\"psysml:63b0367b-32f1-46aa-9fe1-f934424c590d\" xlink:show=\"new\" xlink:title=\"psysml:63b0367b-32f1-46aa-9fe1-f934424c590d\" xlink:type=\"simple\"><polygon fill=\"#FFFFFF\" points=\"121,235,162,235,169,257.2969,434,257.2969,434,546,121,546,121,235\" style=\"stroke: #000000; stroke-width: 1.5;\"/><line style=\"stroke: #000000; stroke-width: 1.5;\" x1=\"121\" x2=\"169\" y1=\"257.2969\" y2=\"257.2969\"/><text fill=\"#000000\" font-family=\"sans-serif\" font-size=\"14\" font-weight=\"bold\" lengthAdjust=\"spacingAndGlyphs\" textLength=\"35\" x=\"125\" y=\"249.9951\">Pkg2</text></a><!--MD5=[14e3b0961a2654348d326746436168a1]\n",
       "cluster E6--><a href=\"psysml:98b17091-6ea5-4037-8451-bfddc724f9d0\" target=\"_top\" title=\"psysml:98b17091-6ea5-4037-8451-bfddc724f9d0\" xlink:actuate=\"onRequest\" xlink:href=\"psysml:98b17091-6ea5-4037-8451-bfddc724f9d0\" xlink:show=\"new\" xlink:title=\"psysml:98b17091-6ea5-4037-8451-bfddc724f9d0\" xlink:type=\"simple\"><polygon fill=\"#FFFFFF\" points=\"161,294,211,294,218,316.2969,386,316.2969,386,506,161,506,161,294\" style=\"stroke: #000000; stroke-width: 1.5;\"/><line style=\"stroke: #000000; stroke-width: 1.5;\" x1=\"161\" x2=\"218\" y1=\"316.2969\" y2=\"316.2969\"/><text fill=\"#000000\" font-family=\"sans-serif\" font-size=\"14\" font-weight=\"bold\" lengthAdjust=\"spacingAndGlyphs\" textLength=\"44\" x=\"165\" y=\"308.9951\">Pkg21</text></a><!--MD5=[168fadf3d0c3fd93dd5d6da1b1d7ab76]\n",
       "cluster E7--><a href=\"psysml:45f4d7ec-8fdd-4896-89d5-a877e9eb4cf9\" target=\"_top\" title=\"psysml:45f4d7ec-8fdd-4896-89d5-a877e9eb4cf9\" xlink:actuate=\"onRequest\" xlink:href=\"psysml:45f4d7ec-8fdd-4896-89d5-a877e9eb4cf9\" xlink:show=\"new\" xlink:title=\"psysml:45f4d7ec-8fdd-4896-89d5-a877e9eb4cf9\" xlink:type=\"simple\"><polygon fill=\"#FFFFFF\" points=\"209,353,268,353,275,375.2969,346,375.2969,346,466,209,466,209,353\" style=\"stroke: #000000; stroke-width: 1.5;\"/><line style=\"stroke: #000000; stroke-width: 1.5;\" x1=\"209\" x2=\"275\" y1=\"375.2969\" y2=\"375.2969\"/><text fill=\"#000000\" font-family=\"sans-serif\" font-size=\"14\" font-weight=\"bold\" lengthAdjust=\"spacingAndGlyphs\" textLength=\"53\" x=\"213\" y=\"367.9951\">Pkg211</text></a><!--MD5=[09b614a08d8cba4a07c9adeb5e0fee81]\n",
       "class E3--><a href=\"psysml:380b438c-f0d0-40f2-a10d-c83a46ac62de\" target=\"_top\" title=\"psysml:380b438c-f0d0-40f2-a10d-c83a46ac62de\" xlink:actuate=\"onRequest\" xlink:href=\"psysml:380b438c-f0d0-40f2-a10d-c83a46ac62de\" xlink:show=\"new\" xlink:title=\"psysml:380b438c-f0d0-40f2-a10d-c83a46ac62de\" xlink:type=\"simple\"><rect fill=\"#FFFFFF\" height=\"45.9375\" id=\"E3\" rx=\"10\" ry=\"10\" style=\"stroke: #383838; stroke-width: 1.5;\" width=\"74\" x=\"265\" y=\"100\"/><text fill=\"#000000\" font-family=\"sans-serif\" font-size=\"12\" font-style=\"italic\" lengthAdjust=\"spacingAndGlyphs\" textLength=\"40\" x=\"282\" y=\"116.1387\">«part»</text><text fill=\"#000000\" font-family=\"sans-serif\" font-size=\"12\" lengthAdjust=\"spacingAndGlyphs\" textLength=\"64\" x=\"268\" y=\"130.1074\">p11: P211</text><line style=\"stroke: #383838; stroke-width: 1.5;\" x1=\"266\" x2=\"338\" y1=\"137.9375\" y2=\"137.9375\"/></a><!--MD5=[ebbe1d658d1005bcc118a6aa81145e00]\n",
       "class E4--><a href=\"psysml:4c18927e-9f3a-4bbe-ae04-0ff2b7ea0a78\" target=\"_top\" title=\"psysml:4c18927e-9f3a-4bbe-ae04-0ff2b7ea0a78\" xlink:actuate=\"onRequest\" xlink:href=\"psysml:4c18927e-9f3a-4bbe-ae04-0ff2b7ea0a78\" xlink:show=\"new\" xlink:title=\"psysml:4c18927e-9f3a-4bbe-ae04-0ff2b7ea0a78\" xlink:type=\"simple\"><rect fill=\"#FFFFFF\" height=\"45.9375\" id=\"E4\" style=\"stroke: #383838; stroke-width: 1.5;\" width=\"70\" x=\"374\" y=\"100\"/><text fill=\"#000000\" font-family=\"sans-serif\" font-size=\"12\" font-style=\"italic\" lengthAdjust=\"spacingAndGlyphs\" textLength=\"68\" x=\"375\" y=\"116.1387\">«part  def»</text><text fill=\"#000000\" font-family=\"sans-serif\" font-size=\"12\" lengthAdjust=\"spacingAndGlyphs\" textLength=\"24\" x=\"397\" y=\"130.1074\">P12</text><line style=\"stroke: #383838; stroke-width: 1.5;\" x1=\"375\" x2=\"443\" y1=\"137.9375\" y2=\"137.9375\"/></a><!--MD5=[b9389687b975829384b498ac4b7476b2]\n",
       "class E8--><a href=\"psysml:b4068f35-75bf-4c63-8263-9508faa965fc\" target=\"_top\" title=\"psysml:b4068f35-75bf-4c63-8263-9508faa965fc\" xlink:actuate=\"onRequest\" xlink:href=\"psysml:b4068f35-75bf-4c63-8263-9508faa965fc\" xlink:show=\"new\" xlink:title=\"psysml:b4068f35-75bf-4c63-8263-9508faa965fc\" xlink:type=\"simple\"><rect fill=\"#FFFFFF\" height=\"45.9375\" id=\"E8\" style=\"stroke: #383838; stroke-width: 1.5;\" width=\"70\" x=\"252\" y=\"396\"/><text fill=\"#000000\" font-family=\"sans-serif\" font-size=\"12\" font-style=\"italic\" lengthAdjust=\"spacingAndGlyphs\" textLength=\"68\" x=\"253\" y=\"412.1387\">«part  def»</text><text fill=\"#000000\" font-family=\"sans-serif\" font-size=\"12\" lengthAdjust=\"spacingAndGlyphs\" textLength=\"32\" x=\"271\" y=\"426.1074\">P211</text><line style=\"stroke: #383838; stroke-width: 1.5;\" x1=\"253\" x2=\"321\" y1=\"433.9375\" y2=\"433.9375\"/></a><!--MD5=[b0060bfdb0500b904584095522b4da3c]\n",
       "link E2 to E8--><a href=\"psysml:86dbe04c-b04a-4ec6-a347-5e4f000abe00\" target=\"_top\" title=\"psysml:86dbe04c-b04a-4ec6-a347-5e4f000abe00\" xlink:actuate=\"onRequest\" xlink:href=\"psysml:86dbe04c-b04a-4ec6-a347-5e4f000abe00\" xlink:show=\"new\" xlink:title=\"psysml:86dbe04c-b04a-4ec6-a347-5e4f000abe00\" xlink:type=\"simple\"><path d=\"M258.5,170.8719 C258.5,171.2838 258.5,171.6975 258.5,172.1131 C258.5,172.9444 258.5,173.783 258.5,174.6287 C258.5,178.0118 258.5,181.5093 258.5,185.1049 C258.5,192.2959 258.5,199.8793 258.5,207.7241 C258.5,223.4138 258.5,240.1494 258.5,256.885 C258.5,323.8275 258.5,390.77 258.5,390.77 \" fill=\"none\" id=\"E2-&gt;E8\" style=\"stroke: #383838; stroke-width: 1.0; stroke-dasharray: 7.0,7.0;\"/><polygon fill=\"#383838\" points=\"258.5,395.77,262.5,386.77,258.5,390.77,254.5,386.77,258.5,395.77\" style=\"stroke: #383838; stroke-width: 1.0;\"/><text fill=\"#000000\" font-family=\"sans-serif\" font-size=\"13\" lengthAdjust=\"spacingAndGlyphs\" textLength=\"58\" x=\"304\" y=\"207.0669\">«import»</text></a><!--MD5=[e3e28c1befcf002155aa15e1416b4315]\n",
       "link E2 to E6--><a href=\"psysml:b4797686-9eb8-4e8e-a70f-411a8a1a5c6c\" target=\"_top\" title=\"psysml:b4797686-9eb8-4e8e-a70f-411a8a1a5c6c\" xlink:actuate=\"onRequest\" xlink:href=\"psysml:b4797686-9eb8-4e8e-a70f-411a8a1a5c6c\" xlink:show=\"new\" xlink:title=\"psysml:b4797686-9eb8-4e8e-a70f-411a8a1a5c6c\" xlink:type=\"simple\"><path d=\"M221.8499,123 C221.7697,123 221.6889,123 221.6078,123 C221.4454,123 221.2813,123 221.1154,123 C220.7835,123 220.4447,123 220.0992,123 C219.4083,123 218.6908,123 217.9502,123 C212.0247,123 204.6106,123 197.3588,123 C182.855,123 169,123 169,123 C169,123 169,193.5725 169,265.7988 C169,274.827 169,283.8812 169,292.8265 \" fill=\"none\" id=\"E2-&gt;E6\" style=\"stroke: #383838; stroke-width: 1.0; stroke-dasharray: 7.0,7.0;\"/><polygon fill=\"#383838\" points=\"169,292.8265,173,283.8265,169,287.8265,165,283.8265,169,292.8265\" style=\"stroke: #383838; stroke-width: 1.0;\"/><text fill=\"#000000\" font-family=\"sans-serif\" font-size=\"13\" lengthAdjust=\"spacingAndGlyphs\" textLength=\"65\" x=\"68\" y=\"207.0669\">«import»*</text></a><!--MD5=[e3d2a08a9c9236652057e8ed0cbc9b62]\n",
       "link E2 to E7--><a href=\"psysml:c873f416-4fb0-4522-b4d5-2fc0ff0d8008\" target=\"_top\" title=\"psysml:c873f416-4fb0-4522-b4d5-2fc0ff0d8008\" xlink:actuate=\"onRequest\" xlink:href=\"psysml:c873f416-4fb0-4522-b4d5-2fc0ff0d8008\" xlink:show=\"new\" xlink:title=\"psysml:c873f416-4fb0-4522-b4d5-2fc0ff0d8008\" xlink:type=\"simple\"><path d=\"M230,170.0237 C230,171.7278 230,173.4661 230,175.2364 C230,203.5616 230,240.0881 230,276.2013 C230,294.2578 230,312.211 230,328.984 C230,333.1773 230,337.2967 230,341.3256 C230,343.3401 230,345.3319 230,347.2989 C230,348.2824 230,349.2598 230,350.2307 C230,350.7161 230,351.1999 230,351.6821 C230,351.9232 230,352.1639 230,352.4042 \" fill=\"none\" id=\"E2-&gt;E7\" style=\"stroke: #383838; stroke-width: 1.0; stroke-dasharray: 7.0,7.0;\"/><polygon fill=\"#383838\" points=\"230,352.4042,234,343.4042,230,347.4042,226,343.4042,230,352.4042\" style=\"stroke: #383838; stroke-width: 1.0;\"/><text fill=\"#000000\" font-family=\"sans-serif\" font-size=\"13\" lengthAdjust=\"spacingAndGlyphs\" textLength=\"87\" x=\"175\" y=\"207.0669\">«import»*::**</text></a><!--MD5=[ca5a752d6098d8a44b3f88316e7452d1]\n",
       "link E3 to E8--><a href=\"psysml:bb41b158-76b0-47f5-886e-e2f97e00e6aa\" target=\"_top\" title=\"psysml:bb41b158-76b0-47f5-886e-e2f97e00e6aa\" xlink:actuate=\"onRequest\" xlink:href=\"psysml:bb41b158-76b0-47f5-886e-e2f97e00e6aa\" xlink:show=\"new\" xlink:title=\"psysml:bb41b158-76b0-47f5-886e-e2f97e00e6aa\" xlink:type=\"simple\"><path d=\"M293.5,146.23 C293.5,146.23 293.5,375.88 293.5,375.88 \" fill=\"none\" id=\"E3-&gt;E8\" style=\"stroke: #383838; stroke-width: 1.0;\"/><polygon fill=\"#FFFFFF\" points=\"293.5,395.88,286.5,376.88,300.5,376.88,293.5,395.88\" style=\"stroke: #383838; stroke-width: 1.0;\"/><ellipse cx=\"288.5\" cy=\"371.18\" fill=\"#383838\" rx=\"2\" ry=\"2\" style=\"stroke: #383838; stroke-width: 1.0;\"/><ellipse cx=\"298.5\" cy=\"371.18\" fill=\"#383838\" rx=\"2\" ry=\"2\" style=\"stroke: #383838; stroke-width: 1.0;\"/></a><!--MD5=[15ebcb19ae302d9b601edb458606d402]\n",
       "link E5 to E2--><a href=\"psysml:cb98c000-d2e0-4059-b3dc-41ff4d975042\" target=\"_top\" title=\"psysml:cb98c000-d2e0-4059-b3dc-41ff4d975042\" xlink:actuate=\"onRequest\" xlink:href=\"psysml:cb98c000-d2e0-4059-b3dc-41ff4d975042\" xlink:show=\"new\" xlink:title=\"psysml:cb98c000-d2e0-4059-b3dc-41ff4d975042\" xlink:type=\"simple\"><path d=\"M356.5,234.7237 C356.5,229.4786 356.5,224.2542 356.5,219.0708 C356.5,208.7041 356.5,198.502 356.5,188.6289 C356.5,183.6924 356.5,178.8381 356.5,174.0867 C356.5,172.8989 356.5,171.7175 356.5,170.5428 C356.5,170.3959 356.5,170.2492 356.5,170.1026 \" fill=\"none\" id=\"E5-&gt;E2\" style=\"stroke: #383838; stroke-width: 1.0; stroke-dasharray: 7.0,7.0;\"/><polygon fill=\"#383838\" points=\"356.5,170.1026,352.5,179.1026,356.5,175.1026,360.5,179.1026,356.5,170.1026\" style=\"stroke: #383838; stroke-width: 1.0;\"/><text fill=\"#000000\" font-family=\"sans-serif\" font-size=\"13\" lengthAdjust=\"spacingAndGlyphs\" textLength=\"65\" x=\"411\" y=\"207.0669\">«import»*</text></a><!--MD5=[d7bb3fb34add81b710575eb3799fa2ad]\n",
       "link E8 to E4--><a href=\"psysml:ff856c1d-ebaf-4dbc-8ba8-d8c60136e299\" target=\"_top\" title=\"psysml:ff856c1d-ebaf-4dbc-8ba8-d8c60136e299\" xlink:actuate=\"onRequest\" xlink:href=\"psysml:ff856c1d-ebaf-4dbc-8ba8-d8c60136e299\" xlink:show=\"new\" xlink:title=\"psysml:ff856c1d-ebaf-4dbc-8ba8-d8c60136e299\" xlink:type=\"simple\"><path d=\"M322.29,407 C355.28,407 399.5,407 399.5,407 C399.5,407 399.5,166.24 399.5,166.24 \" fill=\"none\" id=\"E8-&gt;E4\" style=\"stroke: #383838; stroke-width: 1.0;\"/><polygon fill=\"none\" points=\"392.5,166.24,399.5,146.24,406.5,166.24,392.5,166.24\" style=\"stroke: #383838; stroke-width: 1.0;\"/></a><!--MD5=[1e99cb9fe247615577f602df901cfbe0]\n",
       "@startuml\r\n",
       "skinparam linetype ortho\r\n",
       "skinparam monochrome true\r\n",
       "skinparam classbackgroundcolor white\r\n",
       "skinparam shadowing false\r\n",
       "skinparam wrapWidth 300\r\n",
       "hide circle\r\n",
       "\r\n",
       "package \"ImportTest\" as E1  [[psysml:789e6656-6985-4918-a680-b12b42056b24 ]]  {\r\n",
       "package \"Pkg1\" as E2  [[psysml:9ed5d6a5-603c-4e6a-bfc8-60e703dcd2fe ]]  {\r\n",
       "comp usage \"p11: P211 \" as E3  <<(T,blue) part>> [[psysml:380b438c-f0d0-40f2-a10d-c83a46ac62de ]] {\r\n",
       "}\r\n",
       "comp def \"P12\" as E4  <<(T,blue) part  def>> [[psysml:4c18927e-9f3a-4bbe-ae04-0ff2b7ea0a78 ]] {\r\n",
       "}\r\n",
       "}\r\n",
       "package \"Pkg2\" as E5  [[psysml:63b0367b-32f1-46aa-9fe1-f934424c590d ]]  {\r\n",
       "package \"Pkg21\" as E6  [[psysml:98b17091-6ea5-4037-8451-bfddc724f9d0 ]]  {\r\n",
       "package \"Pkg211\" as E7  [[psysml:45f4d7ec-8fdd-4896-89d5-a877e9eb4cf9 ]]  {\r\n",
       "comp def \"P211\" as E8  <<(T,blue) part  def>> [[psysml:b4068f35-75bf-4c63-8263-9508faa965fc ]] {\r\n",
       "}\r\n",
       "}\r\n",
       "}\r\n",
       "}\r\n",
       "}\r\n",
       "E2 ..> E8 [[psysml:86dbe04c-b04a-4ec6-a347-5e4f000abe00 ]] : <<import>>\r\n",
       "E2 ..> E6 [[psysml:b4797686-9eb8-4e8e-a70f-411a8a1a5c6c ]] : <<import>>*\r\n",
       "E2 ..> E7 [[psysml:c873f416-4fb0-4522-b4d5-2fc0ff0d8008 ]] : <<import>>*::**\r\n",
       "E3 - -:|> E8 [[psysml:bb41b158-76b0-47f5-886e-e2f97e00e6aa ]] \r\n",
       "E5 ..> E2 [[psysml:cb98c000-d2e0-4059-b3dc-41ff4d975042 ]] : <<import>>*\r\n",
       "E8 - -|> E4 [[psysml:ff856c1d-ebaf-4dbc-8ba8-d8c60136e299 ]] \r\n",
       "@enduml\r\n",
       "\n",
       "PlantUML version 1.2020.13(Sat Jun 13 12:26:38 UTC 2020)\n",
       "(EPL source distribution)\n",
       "Java Runtime: OpenJDK Runtime Environment\n",
       "JVM: OpenJDK 64-Bit Server VM\n",
       "Default Encoding: UTF-8\n",
       "Language: en\n",
       "Country: null\n",
       "--></g></svg>"
      ]
     },
     "execution_count": 52,
     "metadata": {},
     "output_type": "execute_result"
    }
   ],
   "source": [
    "%viz --style=\"ORTHOLINE\" --view=\"Tree\" \"ImportTest\""
   ]
  },
  {
   "cell_type": "code",
   "execution_count": 53,
   "id": "77a0def9",
   "metadata": {
    "execution": {
     "iopub.execute_input": "2022-08-19T08:17:22.705501Z",
     "iopub.status.busy": "2022-08-19T08:17:22.705057Z",
     "iopub.status.idle": "2022-08-19T08:17:22.710044Z",
     "shell.execute_reply": "2022-08-19T08:17:22.710358Z"
    }
   },
   "outputs": [
    {
     "data": {
      "image/svg+xml": [
       "<?xml version=\"1.0\" encoding=\"UTF-8\" standalone=\"no\"?><svg xmlns=\"http://www.w3.org/2000/svg\" xmlns:xlink=\"http://www.w3.org/1999/xlink\" contentScriptType=\"application/ecmascript\" contentStyleType=\"text/css\" height=\"12px\" preserveAspectRatio=\"none\" style=\"width:12px;height:12px;\" version=\"1.1\" viewBox=\"0 0 12 12\" width=\"12px\" zoomAndPan=\"magnify\"><defs/><g><!--MD5=[97d6f38768b311333d388e66b2b27985]\n",
       "@startuml\r\n",
       "skinparam linetype ortho\r\n",
       "skinparam monochrome true\r\n",
       "skinparam classbackgroundcolor white\r\n",
       "skinparam shadowing false\r\n",
       "skinparam wrapWidth 300\r\n",
       "hide circle\r\n",
       "\r\n",
       "@enduml\r\n",
       "\n",
       "PlantUML version 1.2020.13(Sat Jun 13 12:26:38 UTC 2020)\n",
       "(EPL source distribution)\n",
       "Java Runtime: OpenJDK Runtime Environment\n",
       "JVM: OpenJDK 64-Bit Server VM\n",
       "Default Encoding: UTF-8\n",
       "Language: en\n",
       "Country: null\n",
       "--></g></svg>"
      ]
     },
     "execution_count": 53,
     "metadata": {},
     "output_type": "execute_result"
    }
   ],
   "source": [
    "%viz --style=\"ORTHOLINE\" --view=\"State\" \"ImportTest\""
   ]
  },
  {
   "cell_type": "code",
   "execution_count": 54,
   "id": "d2fb9bc3",
   "metadata": {
    "execution": {
     "iopub.execute_input": "2022-08-19T08:17:22.759879Z",
     "iopub.status.busy": "2022-08-19T08:17:22.759425Z",
     "iopub.status.idle": "2022-08-19T08:17:22.791843Z",
     "shell.execute_reply": "2022-08-19T08:17:22.790430Z"
    }
   },
   "outputs": [
    {
     "data": {
      "image/svg+xml": [
       "<?xml version=\"1.0\" encoding=\"UTF-8\" standalone=\"no\"?><svg xmlns=\"http://www.w3.org/2000/svg\" xmlns:xlink=\"http://www.w3.org/1999/xlink\" contentScriptType=\"application/ecmascript\" contentStyleType=\"text/css\" height=\"584px\" preserveAspectRatio=\"none\" style=\"width:522px;height:584px;\" version=\"1.1\" viewBox=\"0 0 522 584\" width=\"522px\" zoomAndPan=\"magnify\"><defs/><g><!--MD5=[fbc87193dbaf4d95561dea2c320d4a47]\n",
       "cluster E1--><a href=\"psysml:789e6656-6985-4918-a680-b12b42056b24\" target=\"_top\" title=\"psysml:789e6656-6985-4918-a680-b12b42056b24\" xlink:actuate=\"onRequest\" xlink:href=\"psysml:789e6656-6985-4918-a680-b12b42056b24\" xlink:show=\"new\" xlink:title=\"psysml:789e6656-6985-4918-a680-b12b42056b24\" xlink:type=\"simple\"><polygon fill=\"#FFFFFF\" points=\"16,6,97,6,104,28.2969,500,28.2969,500,572,16,572,16,6\" style=\"stroke: #000000; stroke-width: 1.5;\"/><line style=\"stroke: #000000; stroke-width: 1.5;\" x1=\"16\" x2=\"104\" y1=\"28.2969\" y2=\"28.2969\"/><text fill=\"#000000\" font-family=\"sans-serif\" font-size=\"14\" font-weight=\"bold\" lengthAdjust=\"spacingAndGlyphs\" textLength=\"75\" x=\"20\" y=\"20.9951\">ImportTest</text></a><!--MD5=[e4f7fae6ed58524ba242bb0b0d3be6b7]\n",
       "cluster E2--><a href=\"psysml:9ed5d6a5-603c-4e6a-bfc8-60e703dcd2fe\" target=\"_top\" title=\"psysml:9ed5d6a5-603c-4e6a-bfc8-60e703dcd2fe\" xlink:actuate=\"onRequest\" xlink:href=\"psysml:9ed5d6a5-603c-4e6a-bfc8-60e703dcd2fe\" xlink:show=\"new\" xlink:title=\"psysml:9ed5d6a5-603c-4e6a-bfc8-60e703dcd2fe\" xlink:type=\"simple\"><polygon fill=\"#FFFFFF\" points=\"216,57,257,57,264,79.2969,468,79.2969,468,167,216,167,216,57\" style=\"stroke: #000000; stroke-width: 1.5;\"/><line style=\"stroke: #000000; stroke-width: 1.5;\" x1=\"216\" x2=\"264\" y1=\"79.2969\" y2=\"79.2969\"/><text fill=\"#000000\" font-family=\"sans-serif\" font-size=\"14\" font-weight=\"bold\" lengthAdjust=\"spacingAndGlyphs\" textLength=\"35\" x=\"220\" y=\"71.9951\">Pkg1</text></a><!--MD5=[de5ec2e2e8f62f467e546659f5068c88]\n",
       "cluster E5--><a href=\"psysml:63b0367b-32f1-46aa-9fe1-f934424c590d\" target=\"_top\" title=\"psysml:63b0367b-32f1-46aa-9fe1-f934424c590d\" xlink:actuate=\"onRequest\" xlink:href=\"psysml:63b0367b-32f1-46aa-9fe1-f934424c590d\" xlink:show=\"new\" xlink:title=\"psysml:63b0367b-32f1-46aa-9fe1-f934424c590d\" xlink:type=\"simple\"><polygon fill=\"#FFFFFF\" points=\"117,232,158,232,165,254.2969,435,254.2969,435,540,117,540,117,232\" style=\"stroke: #000000; stroke-width: 1.5;\"/><line style=\"stroke: #000000; stroke-width: 1.5;\" x1=\"117\" x2=\"165\" y1=\"254.2969\" y2=\"254.2969\"/><text fill=\"#000000\" font-family=\"sans-serif\" font-size=\"14\" font-weight=\"bold\" lengthAdjust=\"spacingAndGlyphs\" textLength=\"35\" x=\"121\" y=\"246.9951\">Pkg2</text></a><!--MD5=[14e3b0961a2654348d326746436168a1]\n",
       "cluster E6--><a href=\"psysml:98b17091-6ea5-4037-8451-bfddc724f9d0\" target=\"_top\" title=\"psysml:98b17091-6ea5-4037-8451-bfddc724f9d0\" xlink:actuate=\"onRequest\" xlink:href=\"psysml:98b17091-6ea5-4037-8451-bfddc724f9d0\" xlink:show=\"new\" xlink:title=\"psysml:98b17091-6ea5-4037-8451-bfddc724f9d0\" xlink:type=\"simple\"><polygon fill=\"#FFFFFF\" points=\"157,291,207,291,214,313.2969,387,313.2969,387,500,157,500,157,291\" style=\"stroke: #000000; stroke-width: 1.5;\"/><line style=\"stroke: #000000; stroke-width: 1.5;\" x1=\"157\" x2=\"214\" y1=\"313.2969\" y2=\"313.2969\"/><text fill=\"#000000\" font-family=\"sans-serif\" font-size=\"14\" font-weight=\"bold\" lengthAdjust=\"spacingAndGlyphs\" textLength=\"44\" x=\"161\" y=\"305.9951\">Pkg21</text></a><!--MD5=[168fadf3d0c3fd93dd5d6da1b1d7ab76]\n",
       "cluster E7--><a href=\"psysml:45f4d7ec-8fdd-4896-89d5-a877e9eb4cf9\" target=\"_top\" title=\"psysml:45f4d7ec-8fdd-4896-89d5-a877e9eb4cf9\" xlink:actuate=\"onRequest\" xlink:href=\"psysml:45f4d7ec-8fdd-4896-89d5-a877e9eb4cf9\" xlink:show=\"new\" xlink:title=\"psysml:45f4d7ec-8fdd-4896-89d5-a877e9eb4cf9\" xlink:type=\"simple\"><polygon fill=\"#FFFFFF\" points=\"205,350,264,350,271,372.2969,347,372.2969,347,460,205,460,205,350\" style=\"stroke: #000000; stroke-width: 1.5;\"/><line style=\"stroke: #000000; stroke-width: 1.5;\" x1=\"205\" x2=\"271\" y1=\"372.2969\" y2=\"372.2969\"/><text fill=\"#000000\" font-family=\"sans-serif\" font-size=\"14\" font-weight=\"bold\" lengthAdjust=\"spacingAndGlyphs\" textLength=\"53\" x=\"209\" y=\"364.9951\">Pkg211</text></a><g id=\"E1.E2.E3\"><a href=\"psysml:380b438c-f0d0-40f2-a10d-c83a46ac62de\" target=\"_top\" title=\"psysml:380b438c-f0d0-40f2-a10d-c83a46ac62de\" xlink:actuate=\"onRequest\" xlink:href=\"psysml:380b438c-f0d0-40f2-a10d-c83a46ac62de\" xlink:show=\"new\" xlink:title=\"psysml:380b438c-f0d0-40f2-a10d-c83a46ac62de\" xlink:type=\"simple\"><rect fill=\"#FFFFFF\" height=\"40\" id=\"E3\" rx=\"10\" ry=\"10\" style=\"stroke: #383838; stroke-width: 1.5;\" width=\"75\" x=\"259.5\" y=\"101.5\"/><rect fill=\"#F8F8F8\" height=\"23.9688\" rx=\"10\" ry=\"10\" style=\"stroke: #F8F8F8; stroke-width: 1.5;\" width=\"75\" x=\"259.5\" y=\"101.5\"/><rect fill=\"#F8F8F8\" height=\"10\" style=\"stroke: #F8F8F8; stroke-width: 1.5;\" width=\"75\" x=\"259.5\" y=\"115.4688\"/><rect fill=\"none\" height=\"40\" id=\"E3\" rx=\"10\" ry=\"10\" style=\"stroke: #383838; stroke-width: 1.5;\" width=\"75\" x=\"259.5\" y=\"101.5\"/><text fill=\"#000000\" font-family=\"sans-serif\" font-size=\"12\" lengthAdjust=\"spacingAndGlyphs\" textLength=\"64\" x=\"265\" y=\"117.6387\">p11: P211</text></a></g><g id=\"E1.E2.E4\"><a href=\"psysml:4c18927e-9f3a-4bbe-ae04-0ff2b7ea0a78\" target=\"_top\" title=\"psysml:4c18927e-9f3a-4bbe-ae04-0ff2b7ea0a78\" xlink:actuate=\"onRequest\" xlink:href=\"psysml:4c18927e-9f3a-4bbe-ae04-0ff2b7ea0a78\" xlink:show=\"new\" xlink:title=\"psysml:4c18927e-9f3a-4bbe-ae04-0ff2b7ea0a78\" xlink:type=\"simple\"><rect fill=\"#FFFFFF\" height=\"42.9375\" id=\"E4\" style=\"stroke: #383838; stroke-width: 1.5;\" width=\"75\" x=\"369.5\" y=\"100\"/><rect fill=\"#F8F8F8\" height=\"37.9375\" style=\"stroke: #383838; stroke-width: 1.5;\" width=\"75\" x=\"369.5\" y=\"100\"/><text fill=\"#000000\" font-family=\"sans-serif\" font-size=\"12\" font-style=\"italic\" lengthAdjust=\"spacingAndGlyphs\" textLength=\"68\" x=\"373\" y=\"116.1387\">«part  def»</text><text fill=\"#000000\" font-family=\"sans-serif\" font-size=\"12\" lengthAdjust=\"spacingAndGlyphs\" textLength=\"24\" x=\"395\" y=\"130.1074\">P12</text></a></g><g id=\"E1.E5.E6.E7.E8\"><a href=\"psysml:b4068f35-75bf-4c63-8263-9508faa965fc\" target=\"_top\" title=\"psysml:b4068f35-75bf-4c63-8263-9508faa965fc\" xlink:actuate=\"onRequest\" xlink:href=\"psysml:b4068f35-75bf-4c63-8263-9508faa965fc\" xlink:show=\"new\" xlink:title=\"psysml:b4068f35-75bf-4c63-8263-9508faa965fc\" xlink:type=\"simple\"><rect fill=\"#FFFFFF\" height=\"42.9375\" id=\"E8\" style=\"stroke: #383838; stroke-width: 1.5;\" width=\"75\" x=\"248.5\" y=\"393\"/><rect fill=\"#F8F8F8\" height=\"37.9375\" style=\"stroke: #383838; stroke-width: 1.5;\" width=\"75\" x=\"248.5\" y=\"393\"/><text fill=\"#000000\" font-family=\"sans-serif\" font-size=\"12\" font-style=\"italic\" lengthAdjust=\"spacingAndGlyphs\" textLength=\"68\" x=\"252\" y=\"409.1387\">«part  def»</text><text fill=\"#000000\" font-family=\"sans-serif\" font-size=\"12\" lengthAdjust=\"spacingAndGlyphs\" textLength=\"32\" x=\"270\" y=\"423.1074\">P211</text></a></g><!--MD5=[b0060bfdb0500b904584095522b4da3c]\n",
       "link E2 to E8--><a href=\"psysml:86dbe04c-b04a-4ec6-a347-5e4f000abe00\" target=\"_top\" title=\"psysml:86dbe04c-b04a-4ec6-a347-5e4f000abe00\" xlink:actuate=\"onRequest\" xlink:href=\"psysml:86dbe04c-b04a-4ec6-a347-5e4f000abe00\" xlink:show=\"new\" xlink:title=\"psysml:86dbe04c-b04a-4ec6-a347-5e4f000abe00\" xlink:type=\"simple\"><path d=\"M254,167.1216 C254,167.5231 254,167.9266 254,168.3319 C254,169.9534 254,171.6053 254,173.2855 C254,176.6461 254,180.1204 254,183.692 C254,190.8353 254,198.3682 254,206.1609 C254,221.7463 254,238.3706 254,254.995 C254,321.4925 254,387.99 254,387.99 \" fill=\"none\" id=\"E2-&gt;E8\" style=\"stroke: #383838; stroke-width: 1.0; stroke-dasharray: 7.0,7.0;\"/><polygon fill=\"#383838\" points=\"254,392.99,258,383.99,254,387.99,250,383.99,254,392.99\" style=\"stroke: #383838; stroke-width: 1.0;\"/><text fill=\"#000000\" font-family=\"sans-serif\" font-size=\"13\" lengthAdjust=\"spacingAndGlyphs\" textLength=\"58\" x=\"304\" y=\"204.0669\">«import»</text></a><!--MD5=[e3e28c1befcf002155aa15e1416b4315]\n",
       "link E2 to E6--><a href=\"psysml:b4797686-9eb8-4e8e-a70f-411a8a1a5c6c\" target=\"_top\" title=\"psysml:b4797686-9eb8-4e8e-a70f-411a8a1a5c6c\" xlink:actuate=\"onRequest\" xlink:href=\"psysml:b4797686-9eb8-4e8e-a70f-411a8a1a5c6c\" xlink:show=\"new\" xlink:title=\"psysml:b4797686-9eb8-4e8e-a70f-411a8a1a5c6c\" xlink:type=\"simple\"><path d=\"M215.9581,122 C215.8786,122 215.7986,122 215.7182,122 C215.5574,122 215.3948,122 215.2304,122 C214.573,122 213.8878,122 213.1781,122 C207.5006,122 200.255,122 193.1175,122 C178.8425,122 165,122 165,122 C165,122 165,191.7375 165,263.11 C165,272.0316 165,280.9787 165,289.8183 \" fill=\"none\" id=\"E2-&gt;E6\" style=\"stroke: #383838; stroke-width: 1.0; stroke-dasharray: 7.0,7.0;\"/><polygon fill=\"#383838\" points=\"165,289.8183,169,280.8183,165,284.8183,161,280.8183,165,289.8183\" style=\"stroke: #383838; stroke-width: 1.0;\"/><text fill=\"#000000\" font-family=\"sans-serif\" font-size=\"13\" lengthAdjust=\"spacingAndGlyphs\" textLength=\"65\" x=\"68\" y=\"204.0669\">«import»*</text></a><!--MD5=[e3d2a08a9c9236652057e8ed0cbc9b62]\n",
       "link E2 to E7--><a href=\"psysml:c873f416-4fb0-4522-b4d5-2fc0ff0d8008\" target=\"_top\" title=\"psysml:c873f416-4fb0-4522-b4d5-2fc0ff0d8008\" xlink:actuate=\"onRequest\" xlink:href=\"psysml:c873f416-4fb0-4522-b4d5-2fc0ff0d8008\" xlink:show=\"new\" xlink:title=\"psysml:c873f416-4fb0-4522-b4d5-2fc0ff0d8008\" xlink:type=\"simple\"><path d=\"M224,168.1307 C224,169.8204 224,171.544 224,173.2994 C224,201.385 224,237.6025 224,273.41 C224,291.3137 224,309.115 224,325.746 C224,334.0615 224,342.0845 224,349.6814 \" fill=\"none\" id=\"E2-&gt;E7\" style=\"stroke: #383838; stroke-width: 1.0; stroke-dasharray: 7.0,7.0;\"/><polygon fill=\"#383838\" points=\"224,349.6814,228,340.6814,224,344.6814,220,340.6814,224,349.6814\" style=\"stroke: #383838; stroke-width: 1.0;\"/><text fill=\"#000000\" font-family=\"sans-serif\" font-size=\"13\" lengthAdjust=\"spacingAndGlyphs\" textLength=\"87\" x=\"175\" y=\"204.0669\">«import»*::**</text></a><!--MD5=[ca5a752d6098d8a44b3f88316e7452d1]\n",
       "link E3 to E8--><a href=\"psysml:bb41b158-76b0-47f5-886e-e2f97e00e6aa\" target=\"_top\" title=\"psysml:bb41b158-76b0-47f5-886e-e2f97e00e6aa\" xlink:actuate=\"onRequest\" xlink:href=\"psysml:bb41b158-76b0-47f5-886e-e2f97e00e6aa\" xlink:show=\"new\" xlink:title=\"psysml:bb41b158-76b0-47f5-886e-e2f97e00e6aa\" xlink:type=\"simple\"><path d=\"M291.5,141.64 C291.5,141.64 291.5,372.64 291.5,372.64 \" fill=\"none\" id=\"E3-&gt;E8\" style=\"stroke: #383838; stroke-width: 1.0;\"/><polygon fill=\"#FFFFFF\" points=\"291.5,392.64,284.5,373.64,298.5,373.64,291.5,392.64\" style=\"stroke: #383838; stroke-width: 1.0;\"/><ellipse cx=\"286.5\" cy=\"367.94\" fill=\"#383838\" rx=\"2\" ry=\"2\" style=\"stroke: #383838; stroke-width: 1.0;\"/><ellipse cx=\"296.5\" cy=\"367.94\" fill=\"#383838\" rx=\"2\" ry=\"2\" style=\"stroke: #383838; stroke-width: 1.0;\"/></a><!--MD5=[15ebcb19ae302d9b601edb458606d402]\n",
       "link E5 to E2--><a href=\"psysml:cb98c000-d2e0-4059-b3dc-41ff4d975042\" target=\"_top\" title=\"psysml:cb98c000-d2e0-4059-b3dc-41ff4d975042\" xlink:actuate=\"onRequest\" xlink:href=\"psysml:cb98c000-d2e0-4059-b3dc-41ff4d975042\" xlink:show=\"new\" xlink:title=\"psysml:cb98c000-d2e0-4059-b3dc-41ff4d975042\" xlink:type=\"simple\"><path d=\"M352,230.9684 C352,230.3212 352,229.6744 352,229.028 C352,227.7351 352,226.4439 352,225.1545 C352,222.5758 352,220.0048 352,217.4438 C352,207.2002 352,197.1191 352,187.3633 C352,182.4854 352,177.6887 352,172.9937 C352,171.82 352,170.6526 352,169.4918 C352,168.9115 352,168.3328 352,167.7558 C352,167.6115 352,167.4674 352,167.3234 C352,167.2513 352,167.1793 352,167.1074 \" fill=\"none\" id=\"E5-&gt;E2\" style=\"stroke: #383838; stroke-width: 1.0; stroke-dasharray: 7.0,7.0;\"/><polygon fill=\"#383838\" points=\"352,167.1074,348,176.1074,352,172.1074,356,176.1074,352,167.1074\" style=\"stroke: #383838; stroke-width: 1.0;\"/><text fill=\"#000000\" font-family=\"sans-serif\" font-size=\"13\" lengthAdjust=\"spacingAndGlyphs\" textLength=\"65\" x=\"411\" y=\"204.0669\">«import»*</text></a><!--MD5=[d7bb3fb34add81b710575eb3799fa2ad]\n",
       "link E8 to E4--><a href=\"psysml:ff856c1d-ebaf-4dbc-8ba8-d8c60136e299\" target=\"_top\" title=\"psysml:ff856c1d-ebaf-4dbc-8ba8-d8c60136e299\" xlink:actuate=\"onRequest\" xlink:href=\"psysml:ff856c1d-ebaf-4dbc-8ba8-d8c60136e299\" xlink:show=\"new\" xlink:title=\"psysml:ff856c1d-ebaf-4dbc-8ba8-d8c60136e299\" xlink:type=\"simple\"><path d=\"M323.52,404 C355.99,404 397.75,404 397.75,404 C397.75,404 397.75,163.2 397.75,163.2 \" fill=\"none\" id=\"E8-&gt;E4\" style=\"stroke: #383838; stroke-width: 1.0;\"/><polygon fill=\"none\" points=\"390.75,163.2,397.75,143.2,404.75,163.2,390.75,163.2\" style=\"stroke: #383838; stroke-width: 1.0;\"/></a><!--MD5=[894eb394b50ee6dccf8f86512825b360]\n",
       "@startuml\r\n",
       "skinparam ranksep 10\r\n",
       "skinparam rectangle {\r\n",
       " backgroundColor<<block>> LightGreen\r\n",
       "}\r\n",
       "skinparam linetype ortho\r\n",
       "skinparam monochrome true\r\n",
       "skinparam classbackgroundcolor white\r\n",
       "skinparam shadowing false\r\n",
       "skinparam wrapWidth 300\r\n",
       "hide circle\r\n",
       "\r\n",
       "package \"ImportTest\" as E1  [[psysml:789e6656-6985-4918-a680-b12b42056b24 ]]  {\r\n",
       "package \"Pkg1\" as E2  [[psysml:9ed5d6a5-603c-4e6a-bfc8-60e703dcd2fe ]]  {\r\n",
       "rec usage \"p11: P211\" as E3  [[psysml:380b438c-f0d0-40f2-a10d-c83a46ac62de ]] {\r\n",
       "}\r\n",
       "rec def \"P12\" as E4  <<(T,blue) part  def>> [[psysml:4c18927e-9f3a-4bbe-ae04-0ff2b7ea0a78 ]] {\r\n",
       "}\r\n",
       "}\r\n",
       "package \"Pkg2\" as E5  [[psysml:63b0367b-32f1-46aa-9fe1-f934424c590d ]]  {\r\n",
       "package \"Pkg21\" as E6  [[psysml:98b17091-6ea5-4037-8451-bfddc724f9d0 ]]  {\r\n",
       "package \"Pkg211\" as E7  [[psysml:45f4d7ec-8fdd-4896-89d5-a877e9eb4cf9 ]]  {\r\n",
       "rec def \"P211\" as E8  <<(T,blue) part  def>> [[psysml:b4068f35-75bf-4c63-8263-9508faa965fc ]] {\r\n",
       "}\r\n",
       "}\r\n",
       "}\r\n",
       "}\r\n",
       "}\r\n",
       "E2 ..> E8 [[psysml:86dbe04c-b04a-4ec6-a347-5e4f000abe00 ]] : <<import>>\r\n",
       "E2 ..> E6 [[psysml:b4797686-9eb8-4e8e-a70f-411a8a1a5c6c ]] : <<import>>*\r\n",
       "E2 ..> E7 [[psysml:c873f416-4fb0-4522-b4d5-2fc0ff0d8008 ]] : <<import>>*::**\r\n",
       "E3 - -:|> E8 [[psysml:bb41b158-76b0-47f5-886e-e2f97e00e6aa ]] \r\n",
       "E5 ..> E2 [[psysml:cb98c000-d2e0-4059-b3dc-41ff4d975042 ]] : <<import>>*\r\n",
       "E8 - -|> E4 [[psysml:ff856c1d-ebaf-4dbc-8ba8-d8c60136e299 ]] \r\n",
       "@enduml\r\n",
       "\n",
       "PlantUML version 1.2020.13(Sat Jun 13 12:26:38 UTC 2020)\n",
       "(EPL source distribution)\n",
       "Java Runtime: OpenJDK Runtime Environment\n",
       "JVM: OpenJDK 64-Bit Server VM\n",
       "Default Encoding: UTF-8\n",
       "Language: en\n",
       "Country: null\n",
       "--></g></svg>"
      ]
     },
     "execution_count": 54,
     "metadata": {},
     "output_type": "execute_result"
    }
   ],
   "source": [
    "%viz --style=\"ORTHOLINE\" --view=\"Interconnection\" \"ImportTest\""
   ]
  },
  {
   "cell_type": "code",
   "execution_count": 55,
   "id": "849270b5",
   "metadata": {
    "execution": {
     "iopub.execute_input": "2022-08-19T08:17:22.841644Z",
     "iopub.status.busy": "2022-08-19T08:17:22.841199Z",
     "iopub.status.idle": "2022-08-19T08:17:22.845992Z",
     "shell.execute_reply": "2022-08-19T08:17:22.845599Z"
    }
   },
   "outputs": [
    {
     "data": {
      "image/svg+xml": [
       "<?xml version=\"1.0\" encoding=\"UTF-8\" standalone=\"no\"?><svg xmlns=\"http://www.w3.org/2000/svg\" xmlns:xlink=\"http://www.w3.org/1999/xlink\" contentScriptType=\"application/ecmascript\" contentStyleType=\"text/css\" height=\"12px\" preserveAspectRatio=\"none\" style=\"width:12px;height:12px;\" version=\"1.1\" viewBox=\"0 0 12 12\" width=\"12px\" zoomAndPan=\"magnify\"><defs/><g><!--MD5=[72934c63077099a26744516a776b4749]\n",
       "@startuml\r\n",
       "skinparam ranksep 8\r\n",
       "skinparam linetype ortho\r\n",
       "skinparam monochrome true\r\n",
       "skinparam classbackgroundcolor white\r\n",
       "skinparam shadowing false\r\n",
       "skinparam wrapWidth 300\r\n",
       "hide circle\r\n",
       "\r\n",
       "@enduml\r\n",
       "\n",
       "PlantUML version 1.2020.13(Sat Jun 13 12:26:38 UTC 2020)\n",
       "(EPL source distribution)\n",
       "Java Runtime: OpenJDK Runtime Environment\n",
       "JVM: OpenJDK 64-Bit Server VM\n",
       "Default Encoding: UTF-8\n",
       "Language: en\n",
       "Country: null\n",
       "--></g></svg>"
      ]
     },
     "execution_count": 55,
     "metadata": {},
     "output_type": "execute_result"
    }
   ],
   "source": [
    "%viz --style=\"ORTHOLINE\" --view=\"Action\" \"ImportTest\""
   ]
  },
  {
   "cell_type": "code",
   "execution_count": 56,
   "id": "acad64a2",
   "metadata": {
    "execution": {
     "iopub.execute_input": "2022-08-19T08:17:22.895853Z",
     "iopub.status.busy": "2022-08-19T08:17:22.895348Z",
     "iopub.status.idle": "2022-08-19T08:17:22.900204Z",
     "shell.execute_reply": "2022-08-19T08:17:22.899831Z"
    }
   },
   "outputs": [
    {
     "data": {
      "image/svg+xml": [
       "<?xml version=\"1.0\" encoding=\"UTF-8\" standalone=\"no\"?><svg xmlns=\"http://www.w3.org/2000/svg\" xmlns:xlink=\"http://www.w3.org/1999/xlink\" contentScriptType=\"application/ecmascript\" contentStyleType=\"text/css\" height=\"12px\" preserveAspectRatio=\"none\" style=\"width:12px;height:12px;\" version=\"1.1\" viewBox=\"0 0 12 12\" width=\"12px\" zoomAndPan=\"magnify\"><defs/><g><!--MD5=[30fc1de5121c5abddedd55b44417fde8]\n",
       "@startuml\r\n",
       "skinparam roundcorner 20\r\n",
       "skinparam BoxPadding 20\r\n",
       "skinparam SequenceBoxBackgroundColor #white\r\n",
       "skinparam style strictuml\r\n",
       "skinparam maxMessageSize 100\r\n",
       "skinparam linetype ortho\r\n",
       "skinparam monochrome true\r\n",
       "skinparam classbackgroundcolor white\r\n",
       "skinparam shadowing false\r\n",
       "skinparam wrapWidth 300\r\n",
       "hide circle\r\n",
       "\r\n",
       "@enduml\r\n",
       "\n",
       "PlantUML version 1.2020.13(Sat Jun 13 12:26:38 UTC 2020)\n",
       "(EPL source distribution)\n",
       "Java Runtime: OpenJDK Runtime Environment\n",
       "JVM: OpenJDK 64-Bit Server VM\n",
       "Default Encoding: UTF-8\n",
       "Language: en\n",
       "Country: null\n",
       "--></g></svg>"
      ]
     },
     "execution_count": 56,
     "metadata": {},
     "output_type": "execute_result"
    }
   ],
   "source": [
    "%viz --style=\"ORTHOLINE\" --view=\"Sequence\" \"ImportTest\""
   ]
  },
  {
   "cell_type": "code",
   "execution_count": 57,
   "id": "2c8a7d35",
   "metadata": {
    "execution": {
     "iopub.execute_input": "2022-08-19T08:17:22.950033Z",
     "iopub.status.busy": "2022-08-19T08:17:22.949593Z",
     "iopub.status.idle": "2022-08-19T08:17:22.982528Z",
     "shell.execute_reply": "2022-08-19T08:17:22.982105Z"
    }
   },
   "outputs": [
    {
     "data": {
      "image/svg+xml": [
       "<?xml version=\"1.0\" encoding=\"UTF-8\" standalone=\"no\"?><svg xmlns=\"http://www.w3.org/2000/svg\" xmlns:xlink=\"http://www.w3.org/1999/xlink\" contentScriptType=\"application/ecmascript\" contentStyleType=\"text/css\" height=\"590px\" preserveAspectRatio=\"none\" style=\"width:522px;height:590px;\" version=\"1.1\" viewBox=\"0 0 522 590\" width=\"522px\" zoomAndPan=\"magnify\"><defs/><g><!--MD5=[fbc87193dbaf4d95561dea2c320d4a47]\n",
       "cluster E1--><a href=\"psysml:789e6656-6985-4918-a680-b12b42056b24\" target=\"_top\" title=\"psysml:789e6656-6985-4918-a680-b12b42056b24\" xlink:actuate=\"onRequest\" xlink:href=\"psysml:789e6656-6985-4918-a680-b12b42056b24\" xlink:show=\"new\" xlink:title=\"psysml:789e6656-6985-4918-a680-b12b42056b24\" xlink:type=\"simple\"><polygon fill=\"#FFFFFF\" points=\"16,6,97,6,104,28.2969,500,28.2969,500,578,16,578,16,6\" style=\"stroke: #000000; stroke-width: 1.5;\"/><line style=\"stroke: #000000; stroke-width: 1.5;\" x1=\"16\" x2=\"104\" y1=\"28.2969\" y2=\"28.2969\"/><text fill=\"#000000\" font-family=\"sans-serif\" font-size=\"14\" font-weight=\"bold\" lengthAdjust=\"spacingAndGlyphs\" textLength=\"75\" x=\"20\" y=\"20.9951\">ImportTest</text></a><!--MD5=[e4f7fae6ed58524ba242bb0b0d3be6b7]\n",
       "cluster E2--><a href=\"psysml:9ed5d6a5-603c-4e6a-bfc8-60e703dcd2fe\" target=\"_top\" title=\"psysml:9ed5d6a5-603c-4e6a-bfc8-60e703dcd2fe\" xlink:actuate=\"onRequest\" xlink:href=\"psysml:9ed5d6a5-603c-4e6a-bfc8-60e703dcd2fe\" xlink:show=\"new\" xlink:title=\"psysml:9ed5d6a5-603c-4e6a-bfc8-60e703dcd2fe\" xlink:type=\"simple\"><polygon fill=\"#FFFFFF\" points=\"222,57,263,57,270,79.2969,468,79.2969,468,170,222,170,222,57\" style=\"stroke: #000000; stroke-width: 1.5;\"/><line style=\"stroke: #000000; stroke-width: 1.5;\" x1=\"222\" x2=\"270\" y1=\"79.2969\" y2=\"79.2969\"/><text fill=\"#000000\" font-family=\"sans-serif\" font-size=\"14\" font-weight=\"bold\" lengthAdjust=\"spacingAndGlyphs\" textLength=\"35\" x=\"226\" y=\"71.9951\">Pkg1</text></a><!--MD5=[de5ec2e2e8f62f467e546659f5068c88]\n",
       "cluster E5--><a href=\"psysml:63b0367b-32f1-46aa-9fe1-f934424c590d\" target=\"_top\" title=\"psysml:63b0367b-32f1-46aa-9fe1-f934424c590d\" xlink:actuate=\"onRequest\" xlink:href=\"psysml:63b0367b-32f1-46aa-9fe1-f934424c590d\" xlink:show=\"new\" xlink:title=\"psysml:63b0367b-32f1-46aa-9fe1-f934424c590d\" xlink:type=\"simple\"><polygon fill=\"#FFFFFF\" points=\"121,235,162,235,169,257.2969,434,257.2969,434,546,121,546,121,235\" style=\"stroke: #000000; stroke-width: 1.5;\"/><line style=\"stroke: #000000; stroke-width: 1.5;\" x1=\"121\" x2=\"169\" y1=\"257.2969\" y2=\"257.2969\"/><text fill=\"#000000\" font-family=\"sans-serif\" font-size=\"14\" font-weight=\"bold\" lengthAdjust=\"spacingAndGlyphs\" textLength=\"35\" x=\"125\" y=\"249.9951\">Pkg2</text></a><!--MD5=[14e3b0961a2654348d326746436168a1]\n",
       "cluster E6--><a href=\"psysml:98b17091-6ea5-4037-8451-bfddc724f9d0\" target=\"_top\" title=\"psysml:98b17091-6ea5-4037-8451-bfddc724f9d0\" xlink:actuate=\"onRequest\" xlink:href=\"psysml:98b17091-6ea5-4037-8451-bfddc724f9d0\" xlink:show=\"new\" xlink:title=\"psysml:98b17091-6ea5-4037-8451-bfddc724f9d0\" xlink:type=\"simple\"><polygon fill=\"#FFFFFF\" points=\"161,294,211,294,218,316.2969,386,316.2969,386,506,161,506,161,294\" style=\"stroke: #000000; stroke-width: 1.5;\"/><line style=\"stroke: #000000; stroke-width: 1.5;\" x1=\"161\" x2=\"218\" y1=\"316.2969\" y2=\"316.2969\"/><text fill=\"#000000\" font-family=\"sans-serif\" font-size=\"14\" font-weight=\"bold\" lengthAdjust=\"spacingAndGlyphs\" textLength=\"44\" x=\"165\" y=\"308.9951\">Pkg21</text></a><!--MD5=[168fadf3d0c3fd93dd5d6da1b1d7ab76]\n",
       "cluster E7--><a href=\"psysml:45f4d7ec-8fdd-4896-89d5-a877e9eb4cf9\" target=\"_top\" title=\"psysml:45f4d7ec-8fdd-4896-89d5-a877e9eb4cf9\" xlink:actuate=\"onRequest\" xlink:href=\"psysml:45f4d7ec-8fdd-4896-89d5-a877e9eb4cf9\" xlink:show=\"new\" xlink:title=\"psysml:45f4d7ec-8fdd-4896-89d5-a877e9eb4cf9\" xlink:type=\"simple\"><polygon fill=\"#FFFFFF\" points=\"209,353,268,353,275,375.2969,346,375.2969,346,466,209,466,209,353\" style=\"stroke: #000000; stroke-width: 1.5;\"/><line style=\"stroke: #000000; stroke-width: 1.5;\" x1=\"209\" x2=\"275\" y1=\"375.2969\" y2=\"375.2969\"/><text fill=\"#000000\" font-family=\"sans-serif\" font-size=\"14\" font-weight=\"bold\" lengthAdjust=\"spacingAndGlyphs\" textLength=\"53\" x=\"213\" y=\"367.9951\">Pkg211</text></a><!--MD5=[09b614a08d8cba4a07c9adeb5e0fee81]\n",
       "class E3--><a href=\"psysml:380b438c-f0d0-40f2-a10d-c83a46ac62de\" target=\"_top\" title=\"psysml:380b438c-f0d0-40f2-a10d-c83a46ac62de\" xlink:actuate=\"onRequest\" xlink:href=\"psysml:380b438c-f0d0-40f2-a10d-c83a46ac62de\" xlink:show=\"new\" xlink:title=\"psysml:380b438c-f0d0-40f2-a10d-c83a46ac62de\" xlink:type=\"simple\"><rect fill=\"#FFFFFF\" height=\"45.9375\" id=\"E3\" rx=\"10\" ry=\"10\" style=\"stroke: #383838; stroke-width: 1.5;\" width=\"74\" x=\"265\" y=\"100\"/><text fill=\"#000000\" font-family=\"sans-serif\" font-size=\"12\" font-style=\"italic\" lengthAdjust=\"spacingAndGlyphs\" textLength=\"40\" x=\"282\" y=\"116.1387\">«part»</text><text fill=\"#000000\" font-family=\"sans-serif\" font-size=\"12\" lengthAdjust=\"spacingAndGlyphs\" textLength=\"64\" x=\"268\" y=\"130.1074\">p11: P211</text><line style=\"stroke: #383838; stroke-width: 1.5;\" x1=\"266\" x2=\"338\" y1=\"137.9375\" y2=\"137.9375\"/></a><!--MD5=[ebbe1d658d1005bcc118a6aa81145e00]\n",
       "class E4--><a href=\"psysml:4c18927e-9f3a-4bbe-ae04-0ff2b7ea0a78\" target=\"_top\" title=\"psysml:4c18927e-9f3a-4bbe-ae04-0ff2b7ea0a78\" xlink:actuate=\"onRequest\" xlink:href=\"psysml:4c18927e-9f3a-4bbe-ae04-0ff2b7ea0a78\" xlink:show=\"new\" xlink:title=\"psysml:4c18927e-9f3a-4bbe-ae04-0ff2b7ea0a78\" xlink:type=\"simple\"><rect fill=\"#FFFFFF\" height=\"45.9375\" id=\"E4\" style=\"stroke: #383838; stroke-width: 1.5;\" width=\"70\" x=\"374\" y=\"100\"/><text fill=\"#000000\" font-family=\"sans-serif\" font-size=\"12\" font-style=\"italic\" lengthAdjust=\"spacingAndGlyphs\" textLength=\"68\" x=\"375\" y=\"116.1387\">«part  def»</text><text fill=\"#000000\" font-family=\"sans-serif\" font-size=\"12\" lengthAdjust=\"spacingAndGlyphs\" textLength=\"24\" x=\"397\" y=\"130.1074\">P12</text><line style=\"stroke: #383838; stroke-width: 1.5;\" x1=\"375\" x2=\"443\" y1=\"137.9375\" y2=\"137.9375\"/></a><!--MD5=[b9389687b975829384b498ac4b7476b2]\n",
       "class E8--><a href=\"psysml:b4068f35-75bf-4c63-8263-9508faa965fc\" target=\"_top\" title=\"psysml:b4068f35-75bf-4c63-8263-9508faa965fc\" xlink:actuate=\"onRequest\" xlink:href=\"psysml:b4068f35-75bf-4c63-8263-9508faa965fc\" xlink:show=\"new\" xlink:title=\"psysml:b4068f35-75bf-4c63-8263-9508faa965fc\" xlink:type=\"simple\"><rect fill=\"#FFFFFF\" height=\"45.9375\" id=\"E8\" style=\"stroke: #383838; stroke-width: 1.5;\" width=\"70\" x=\"252\" y=\"396\"/><text fill=\"#000000\" font-family=\"sans-serif\" font-size=\"12\" font-style=\"italic\" lengthAdjust=\"spacingAndGlyphs\" textLength=\"68\" x=\"253\" y=\"412.1387\">«part  def»</text><text fill=\"#000000\" font-family=\"sans-serif\" font-size=\"12\" lengthAdjust=\"spacingAndGlyphs\" textLength=\"32\" x=\"271\" y=\"426.1074\">P211</text><line style=\"stroke: #383838; stroke-width: 1.5;\" x1=\"253\" x2=\"321\" y1=\"433.9375\" y2=\"433.9375\"/></a><!--MD5=[b0060bfdb0500b904584095522b4da3c]\n",
       "link E2 to E8--><a href=\"psysml:86dbe04c-b04a-4ec6-a347-5e4f000abe00\" target=\"_top\" title=\"psysml:86dbe04c-b04a-4ec6-a347-5e4f000abe00\" xlink:actuate=\"onRequest\" xlink:href=\"psysml:86dbe04c-b04a-4ec6-a347-5e4f000abe00\" xlink:show=\"new\" xlink:title=\"psysml:86dbe04c-b04a-4ec6-a347-5e4f000abe00\" xlink:type=\"simple\"><path d=\"M258.5,170.8719 C258.5,171.2838 258.5,171.6975 258.5,172.1131 C258.5,172.9444 258.5,173.783 258.5,174.6287 C258.5,178.0118 258.5,181.5093 258.5,185.1049 C258.5,192.2959 258.5,199.8793 258.5,207.7241 C258.5,223.4138 258.5,240.1494 258.5,256.885 C258.5,323.8275 258.5,390.77 258.5,390.77 \" fill=\"none\" id=\"E2-&gt;E8\" style=\"stroke: #383838; stroke-width: 1.0; stroke-dasharray: 7.0,7.0;\"/><polygon fill=\"#383838\" points=\"258.5,395.77,262.5,386.77,258.5,390.77,254.5,386.77,258.5,395.77\" style=\"stroke: #383838; stroke-width: 1.0;\"/><text fill=\"#000000\" font-family=\"sans-serif\" font-size=\"13\" lengthAdjust=\"spacingAndGlyphs\" textLength=\"58\" x=\"304\" y=\"207.0669\">«import»</text></a><!--MD5=[e3e28c1befcf002155aa15e1416b4315]\n",
       "link E2 to E6--><a href=\"psysml:b4797686-9eb8-4e8e-a70f-411a8a1a5c6c\" target=\"_top\" title=\"psysml:b4797686-9eb8-4e8e-a70f-411a8a1a5c6c\" xlink:actuate=\"onRequest\" xlink:href=\"psysml:b4797686-9eb8-4e8e-a70f-411a8a1a5c6c\" xlink:show=\"new\" xlink:title=\"psysml:b4797686-9eb8-4e8e-a70f-411a8a1a5c6c\" xlink:type=\"simple\"><path d=\"M221.8499,123 C221.7697,123 221.6889,123 221.6078,123 C221.4454,123 221.2813,123 221.1154,123 C220.7835,123 220.4447,123 220.0992,123 C219.4083,123 218.6908,123 217.9502,123 C212.0247,123 204.6106,123 197.3588,123 C182.855,123 169,123 169,123 C169,123 169,193.5725 169,265.7988 C169,274.827 169,283.8812 169,292.8265 \" fill=\"none\" id=\"E2-&gt;E6\" style=\"stroke: #383838; stroke-width: 1.0; stroke-dasharray: 7.0,7.0;\"/><polygon fill=\"#383838\" points=\"169,292.8265,173,283.8265,169,287.8265,165,283.8265,169,292.8265\" style=\"stroke: #383838; stroke-width: 1.0;\"/><text fill=\"#000000\" font-family=\"sans-serif\" font-size=\"13\" lengthAdjust=\"spacingAndGlyphs\" textLength=\"65\" x=\"68\" y=\"207.0669\">«import»*</text></a><!--MD5=[e3d2a08a9c9236652057e8ed0cbc9b62]\n",
       "link E2 to E7--><a href=\"psysml:c873f416-4fb0-4522-b4d5-2fc0ff0d8008\" target=\"_top\" title=\"psysml:c873f416-4fb0-4522-b4d5-2fc0ff0d8008\" xlink:actuate=\"onRequest\" xlink:href=\"psysml:c873f416-4fb0-4522-b4d5-2fc0ff0d8008\" xlink:show=\"new\" xlink:title=\"psysml:c873f416-4fb0-4522-b4d5-2fc0ff0d8008\" xlink:type=\"simple\"><path d=\"M230,170.0237 C230,171.7278 230,173.4661 230,175.2364 C230,203.5616 230,240.0881 230,276.2013 C230,294.2578 230,312.211 230,328.984 C230,333.1773 230,337.2967 230,341.3256 C230,343.3401 230,345.3319 230,347.2989 C230,348.2824 230,349.2598 230,350.2307 C230,350.7161 230,351.1999 230,351.6821 C230,351.9232 230,352.1639 230,352.4042 \" fill=\"none\" id=\"E2-&gt;E7\" style=\"stroke: #383838; stroke-width: 1.0; stroke-dasharray: 7.0,7.0;\"/><polygon fill=\"#383838\" points=\"230,352.4042,234,343.4042,230,347.4042,226,343.4042,230,352.4042\" style=\"stroke: #383838; stroke-width: 1.0;\"/><text fill=\"#000000\" font-family=\"sans-serif\" font-size=\"13\" lengthAdjust=\"spacingAndGlyphs\" textLength=\"87\" x=\"175\" y=\"207.0669\">«import»*::**</text></a><!--MD5=[ca5a752d6098d8a44b3f88316e7452d1]\n",
       "link E3 to E8--><a href=\"psysml:bb41b158-76b0-47f5-886e-e2f97e00e6aa\" target=\"_top\" title=\"psysml:bb41b158-76b0-47f5-886e-e2f97e00e6aa\" xlink:actuate=\"onRequest\" xlink:href=\"psysml:bb41b158-76b0-47f5-886e-e2f97e00e6aa\" xlink:show=\"new\" xlink:title=\"psysml:bb41b158-76b0-47f5-886e-e2f97e00e6aa\" xlink:type=\"simple\"><path d=\"M293.5,146.23 C293.5,146.23 293.5,375.88 293.5,375.88 \" fill=\"none\" id=\"E3-&gt;E8\" style=\"stroke: #383838; stroke-width: 1.0;\"/><polygon fill=\"#FFFFFF\" points=\"293.5,395.88,286.5,376.88,300.5,376.88,293.5,395.88\" style=\"stroke: #383838; stroke-width: 1.0;\"/><ellipse cx=\"288.5\" cy=\"371.18\" fill=\"#383838\" rx=\"2\" ry=\"2\" style=\"stroke: #383838; stroke-width: 1.0;\"/><ellipse cx=\"298.5\" cy=\"371.18\" fill=\"#383838\" rx=\"2\" ry=\"2\" style=\"stroke: #383838; stroke-width: 1.0;\"/></a><!--MD5=[15ebcb19ae302d9b601edb458606d402]\n",
       "link E5 to E2--><a href=\"psysml:cb98c000-d2e0-4059-b3dc-41ff4d975042\" target=\"_top\" title=\"psysml:cb98c000-d2e0-4059-b3dc-41ff4d975042\" xlink:actuate=\"onRequest\" xlink:href=\"psysml:cb98c000-d2e0-4059-b3dc-41ff4d975042\" xlink:show=\"new\" xlink:title=\"psysml:cb98c000-d2e0-4059-b3dc-41ff4d975042\" xlink:type=\"simple\"><path d=\"M356.5,234.7237 C356.5,229.4786 356.5,224.2542 356.5,219.0708 C356.5,208.7041 356.5,198.502 356.5,188.6289 C356.5,183.6924 356.5,178.8381 356.5,174.0867 C356.5,172.8989 356.5,171.7175 356.5,170.5428 C356.5,170.3959 356.5,170.2492 356.5,170.1026 \" fill=\"none\" id=\"E5-&gt;E2\" style=\"stroke: #383838; stroke-width: 1.0; stroke-dasharray: 7.0,7.0;\"/><polygon fill=\"#383838\" points=\"356.5,170.1026,352.5,179.1026,356.5,175.1026,360.5,179.1026,356.5,170.1026\" style=\"stroke: #383838; stroke-width: 1.0;\"/><text fill=\"#000000\" font-family=\"sans-serif\" font-size=\"13\" lengthAdjust=\"spacingAndGlyphs\" textLength=\"65\" x=\"411\" y=\"207.0669\">«import»*</text></a><!--MD5=[d7bb3fb34add81b710575eb3799fa2ad]\n",
       "link E8 to E4--><a href=\"psysml:ff856c1d-ebaf-4dbc-8ba8-d8c60136e299\" target=\"_top\" title=\"psysml:ff856c1d-ebaf-4dbc-8ba8-d8c60136e299\" xlink:actuate=\"onRequest\" xlink:href=\"psysml:ff856c1d-ebaf-4dbc-8ba8-d8c60136e299\" xlink:show=\"new\" xlink:title=\"psysml:ff856c1d-ebaf-4dbc-8ba8-d8c60136e299\" xlink:type=\"simple\"><path d=\"M322.29,407 C355.28,407 399.5,407 399.5,407 C399.5,407 399.5,166.24 399.5,166.24 \" fill=\"none\" id=\"E8-&gt;E4\" style=\"stroke: #383838; stroke-width: 1.0;\"/><polygon fill=\"none\" points=\"392.5,166.24,399.5,146.24,406.5,166.24,392.5,166.24\" style=\"stroke: #383838; stroke-width: 1.0;\"/></a><!--MD5=[1e99cb9fe247615577f602df901cfbe0]\n",
       "@startuml\r\n",
       "skinparam linetype ortho\r\n",
       "skinparam monochrome true\r\n",
       "skinparam classbackgroundcolor white\r\n",
       "skinparam shadowing false\r\n",
       "skinparam wrapWidth 300\r\n",
       "hide circle\r\n",
       "\r\n",
       "package \"ImportTest\" as E1  [[psysml:789e6656-6985-4918-a680-b12b42056b24 ]]  {\r\n",
       "package \"Pkg1\" as E2  [[psysml:9ed5d6a5-603c-4e6a-bfc8-60e703dcd2fe ]]  {\r\n",
       "comp usage \"p11: P211 \" as E3  <<(T,blue) part>> [[psysml:380b438c-f0d0-40f2-a10d-c83a46ac62de ]] {\r\n",
       "}\r\n",
       "comp def \"P12\" as E4  <<(T,blue) part  def>> [[psysml:4c18927e-9f3a-4bbe-ae04-0ff2b7ea0a78 ]] {\r\n",
       "}\r\n",
       "}\r\n",
       "package \"Pkg2\" as E5  [[psysml:63b0367b-32f1-46aa-9fe1-f934424c590d ]]  {\r\n",
       "package \"Pkg21\" as E6  [[psysml:98b17091-6ea5-4037-8451-bfddc724f9d0 ]]  {\r\n",
       "package \"Pkg211\" as E7  [[psysml:45f4d7ec-8fdd-4896-89d5-a877e9eb4cf9 ]]  {\r\n",
       "comp def \"P211\" as E8  <<(T,blue) part  def>> [[psysml:b4068f35-75bf-4c63-8263-9508faa965fc ]] {\r\n",
       "}\r\n",
       "}\r\n",
       "}\r\n",
       "}\r\n",
       "}\r\n",
       "E2 ..> E8 [[psysml:86dbe04c-b04a-4ec6-a347-5e4f000abe00 ]] : <<import>>\r\n",
       "E2 ..> E6 [[psysml:b4797686-9eb8-4e8e-a70f-411a8a1a5c6c ]] : <<import>>*\r\n",
       "E2 ..> E7 [[psysml:c873f416-4fb0-4522-b4d5-2fc0ff0d8008 ]] : <<import>>*::**\r\n",
       "E3 - -:|> E8 [[psysml:bb41b158-76b0-47f5-886e-e2f97e00e6aa ]] \r\n",
       "E5 ..> E2 [[psysml:cb98c000-d2e0-4059-b3dc-41ff4d975042 ]] : <<import>>*\r\n",
       "E8 - -|> E4 [[psysml:ff856c1d-ebaf-4dbc-8ba8-d8c60136e299 ]] \r\n",
       "@enduml\r\n",
       "\n",
       "PlantUML version 1.2020.13(Sat Jun 13 12:26:38 UTC 2020)\n",
       "(EPL source distribution)\n",
       "Java Runtime: OpenJDK Runtime Environment\n",
       "JVM: OpenJDK 64-Bit Server VM\n",
       "Default Encoding: UTF-8\n",
       "Language: en\n",
       "Country: null\n",
       "--></g></svg>"
      ]
     },
     "execution_count": 57,
     "metadata": {},
     "output_type": "execute_result"
    }
   ],
   "source": [
    "%viz --style=\"ORTHOLINE\" --view=\"MIXED\" \"ImportTest\""
   ]
  }
 ],
 "metadata": {
  "kernelspec": {
   "display_name": "SysML",
   "language": "sysml",
   "name": "sysml"
  },
  "language_info": {
   "codemirror_mode": "sysml",
   "file_extension": ".sysml",
   "mimetype": "text/x-sysml",
   "name": "SysML",
   "pygments_lexer": "java",
   "version": "1.0.0"
  }
 },
 "nbformat": 4,
 "nbformat_minor": 5
}

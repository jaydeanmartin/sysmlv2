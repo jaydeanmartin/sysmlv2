{
 "cells": [
  {
   "cell_type": "markdown",
   "id": "443a5387",
   "metadata": {},
   "source": [
    "# SysML v2 Test Suite\n",
    "\n",
    "This can notebook can be cleared using menu `Edit --> Clear All Outputs` and then all cells can be\n",
    "run using menu `Run --> Run All Cells`.\n",
    "\n",
    "**WARNING**: This file is generated, all modifications here will be ignored.\n"
   ]
  },
  {
   "cell_type": "markdown",
   "id": "435d51bb",
   "metadata": {},
   "source": [
    "## File: ../../sysml/src/examples/Simple Tests/TradeStudyTest.sysml"
   ]
  },
  {
   "cell_type": "code",
   "execution_count": 1,
   "id": "af6efea5",
   "metadata": {
    "execution": {
     "iopub.execute_input": "2022-08-19T08:21:13.217440Z",
     "iopub.status.busy": "2022-08-19T08:21:13.216094Z",
     "iopub.status.idle": "2022-08-19T08:21:13.837193Z",
     "shell.execute_reply": "2022-08-19T08:21:13.837551Z"
    }
   },
   "outputs": [
    {
     "data": {
      "text/plain": [
       "Package TradeStudyTest (06d75114-8d09-4304-b9ac-1031eaaad748)\n"
      ]
     },
     "execution_count": 1,
     "metadata": {},
     "output_type": "execute_result"
    }
   ],
   "source": [
    "package TradeStudyTest {\n",
    "\timport ScalarValues::Real;\n",
    "\timport TradeStudies::*;\n",
    "\t\n",
    "\tpart def Engine;\n",
    "\tpart engine1: Engine;\n",
    "\tpart engine2: Engine;\n",
    "\t\n",
    "\tanalysis engineTradeStudy : TradeStudy {\n",
    "\t\tsubject : Engine[1..*] = (engine1, engine2);\n",
    "\t\tobjective : MaximizeObjective;\n",
    "\n",
    "\t\tcalc :>> evaluationFunction {\n",
    "\t\t\tin part : Engine;\n",
    "\t\t\treturn : Real;\n",
    "\t\t}\n",
    "\t\t\n",
    "\t\treturn part : Engine;\n",
    "\t}\n",
    "\t\n",
    "}"
   ]
  },
  {
   "cell_type": "code",
   "execution_count": 2,
   "id": "6dcd7fcf",
   "metadata": {
    "execution": {
     "iopub.execute_input": "2022-08-19T08:21:13.888427Z",
     "iopub.status.busy": "2022-08-19T08:21:13.887762Z",
     "iopub.status.idle": "2022-08-19T08:21:14.798339Z",
     "shell.execute_reply": "2022-08-19T08:21:14.795974Z"
    }
   },
   "outputs": [
    {
     "data": {
      "image/svg+xml": [
       "<?xml version=\"1.0\" encoding=\"UTF-8\" standalone=\"no\"?><svg xmlns=\"http://www.w3.org/2000/svg\" xmlns:xlink=\"http://www.w3.org/1999/xlink\" contentScriptType=\"application/ecmascript\" contentStyleType=\"text/css\" height=\"545px\" preserveAspectRatio=\"none\" style=\"width:566px;height:545px;\" version=\"1.1\" viewBox=\"0 0 566 545\" width=\"566px\" zoomAndPan=\"magnify\"><defs/><g><!--MD5=[fbc87193dbaf4d95561dea2c320d4a47]\n",
       "cluster E1--><a href=\"psysml:06d75114-8d09-4304-b9ac-1031eaaad748\" target=\"_top\" title=\"psysml:06d75114-8d09-4304-b9ac-1031eaaad748\" xlink:actuate=\"onRequest\" xlink:href=\"psysml:06d75114-8d09-4304-b9ac-1031eaaad748\" xlink:show=\"new\" xlink:title=\"psysml:06d75114-8d09-4304-b9ac-1031eaaad748\" xlink:type=\"simple\"><polygon fill=\"#FFFFFF\" points=\"16,6,132,6,139,28.2969,544,28.2969,544,533,16,533,16,6\" style=\"stroke: #000000; stroke-width: 1.5;\"/><line style=\"stroke: #000000; stroke-width: 1.5;\" x1=\"16\" x2=\"139\" y1=\"28.2969\" y2=\"28.2969\"/><text fill=\"#000000\" font-family=\"sans-serif\" font-size=\"14\" font-weight=\"bold\" lengthAdjust=\"spacingAndGlyphs\" textLength=\"110\" x=\"20\" y=\"20.9951\">TradeStudyTest</text></a><!--MD5=[de5ec2e2e8f62f467e546659f5068c88]\n",
       "cluster E5--><a href=\"psysml:a2c4dab4-2ddb-42af-80d6-b11f423fabe1\" target=\"_top\" title=\"psysml:a2c4dab4-2ddb-42af-80d6-b11f423fabe1\" xlink:actuate=\"onRequest\" xlink:href=\"psysml:a2c4dab4-2ddb-42af-80d6-b11f423fabe1\" xlink:show=\"new\" xlink:title=\"psysml:a2c4dab4-2ddb-42af-80d6-b11f423fabe1\" xlink:type=\"simple\"><rect fill=\"#FFFFFF\" height=\"129\" id=\"E5\" rx=\"10\" ry=\"10\" style=\"stroke: #383838; stroke-width: 1.5;\" width=\"199\" x=\"238\" y=\"57\"/><rect fill=\"#F8F8F8\" height=\"37.9375\" rx=\"10\" ry=\"10\" style=\"stroke: #F8F8F8; stroke-width: 1.5;\" width=\"199\" x=\"238\" y=\"57\"/><rect fill=\"#F8F8F8\" height=\"10\" style=\"stroke: #F8F8F8; stroke-width: 1.5;\" width=\"199\" x=\"238\" y=\"84.9375\"/><rect fill=\"none\" height=\"129\" id=\"E5\" rx=\"10\" ry=\"10\" style=\"stroke: #383838; stroke-width: 1.5;\" width=\"199\" x=\"238\" y=\"57\"/><text fill=\"#000000\" font-family=\"sans-serif\" font-size=\"12\" font-style=\"italic\" lengthAdjust=\"spacingAndGlyphs\" textLength=\"64\" x=\"305.5\" y=\"73.1387\">«analysis»</text><text fill=\"#000000\" font-family=\"sans-serif\" font-size=\"12\" lengthAdjust=\"spacingAndGlyphs\" textLength=\"114\" x=\"280.5\" y=\"87.1074\">engineTradeStudy</text><line style=\"stroke: #383838; stroke-width: 1.0;\" x1=\"238\" x2=\"437\" y1=\"94.9375\" y2=\"94.9375\"/></a><!--MD5=[b4997ac47864f28c2f74865a473b2911]\n",
       "class E2--><a href=\"psysml:377b66bc-6410-4386-a0f5-58eac70f1599\" target=\"_top\" title=\"psysml:377b66bc-6410-4386-a0f5-58eac70f1599\" xlink:actuate=\"onRequest\" xlink:href=\"psysml:377b66bc-6410-4386-a0f5-58eac70f1599\" xlink:show=\"new\" xlink:title=\"psysml:377b66bc-6410-4386-a0f5-58eac70f1599\" xlink:type=\"simple\"><rect fill=\"#FFFFFF\" height=\"45.9375\" id=\"E2\" style=\"stroke: #383838; stroke-width: 1.5;\" width=\"70\" x=\"292\" y=\"471\"/><text fill=\"#000000\" font-family=\"sans-serif\" font-size=\"12\" font-style=\"italic\" lengthAdjust=\"spacingAndGlyphs\" textLength=\"68\" x=\"293\" y=\"487.1387\">«part  def»</text><text fill=\"#000000\" font-family=\"sans-serif\" font-size=\"12\" lengthAdjust=\"spacingAndGlyphs\" textLength=\"43\" x=\"305.5\" y=\"501.1074\">Engine</text><line style=\"stroke: #383838; stroke-width: 1.5;\" x1=\"293\" x2=\"361\" y1=\"508.9375\" y2=\"508.9375\"/></a><!--MD5=[09b614a08d8cba4a07c9adeb5e0fee81]\n",
       "class E3--><a href=\"psysml:b73c7ebb-9472-45c7-822b-647f60ba4ebd\" target=\"_top\" title=\"psysml:b73c7ebb-9472-45c7-822b-647f60ba4ebd\" xlink:actuate=\"onRequest\" xlink:href=\"psysml:b73c7ebb-9472-45c7-822b-647f60ba4ebd\" xlink:show=\"new\" xlink:title=\"psysml:b73c7ebb-9472-45c7-822b-647f60ba4ebd\" xlink:type=\"simple\"><rect fill=\"#FFFFFF\" height=\"45.9375\" id=\"E3\" rx=\"10\" ry=\"10\" style=\"stroke: #383838; stroke-width: 1.5;\" width=\"112\" x=\"179\" y=\"364\"/><text fill=\"#000000\" font-family=\"sans-serif\" font-size=\"12\" font-style=\"italic\" lengthAdjust=\"spacingAndGlyphs\" textLength=\"40\" x=\"215\" y=\"380.1387\">«part»</text><text fill=\"#000000\" font-family=\"sans-serif\" font-size=\"12\" lengthAdjust=\"spacingAndGlyphs\" textLength=\"102\" x=\"182\" y=\"394.1074\">engine1: Engine</text><line style=\"stroke: #383838; stroke-width: 1.5;\" x1=\"180\" x2=\"290\" y1=\"401.9375\" y2=\"401.9375\"/></a><!--MD5=[ebbe1d658d1005bcc118a6aa81145e00]\n",
       "class E4--><a href=\"psysml:383bc22a-19f8-4697-ba31-98dbfb8a50a3\" target=\"_top\" title=\"psysml:383bc22a-19f8-4697-ba31-98dbfb8a50a3\" xlink:actuate=\"onRequest\" xlink:href=\"psysml:383bc22a-19f8-4697-ba31-98dbfb8a50a3\" xlink:show=\"new\" xlink:title=\"psysml:383bc22a-19f8-4697-ba31-98dbfb8a50a3\" xlink:type=\"simple\"><rect fill=\"#FFFFFF\" height=\"45.9375\" id=\"E4\" rx=\"10\" ry=\"10\" style=\"stroke: #383838; stroke-width: 1.5;\" width=\"112\" x=\"32\" y=\"364\"/><text fill=\"#000000\" font-family=\"sans-serif\" font-size=\"12\" font-style=\"italic\" lengthAdjust=\"spacingAndGlyphs\" textLength=\"40\" x=\"68\" y=\"380.1387\">«part»</text><text fill=\"#000000\" font-family=\"sans-serif\" font-size=\"12\" lengthAdjust=\"spacingAndGlyphs\" textLength=\"102\" x=\"35\" y=\"394.1074\">engine2: Engine</text><line style=\"stroke: #383838; stroke-width: 1.5;\" x1=\"33\" x2=\"143\" y1=\"401.9375\" y2=\"401.9375\"/></a><!--MD5=[2156ba9850f5573cc1fc38a6a4b2f02b]\n",
       "class E7--><a href=\"psysml:e59262b2-24eb-419d-a794-3b71c7229dcc\" target=\"_top\" title=\"psysml:e59262b2-24eb-419d-a794-3b71c7229dcc\" xlink:actuate=\"onRequest\" xlink:href=\"psysml:e59262b2-24eb-419d-a794-3b71c7229dcc\" xlink:show=\"new\" xlink:title=\"psysml:e59262b2-24eb-419d-a794-3b71c7229dcc\" xlink:type=\"simple\"><rect fill=\"#FFFFFF\" height=\"45.9375\" id=\"E7\" rx=\"10\" ry=\"10\" style=\"stroke: #383838; stroke-width: 1.5;\" width=\"129\" x=\"181.5\" y=\"241\"/><text fill=\"#000000\" font-family=\"sans-serif\" font-size=\"12\" font-style=\"italic\" lengthAdjust=\"spacingAndGlyphs\" textLength=\"82\" x=\"205\" y=\"257.1387\">«calculation»</text><text fill=\"#000000\" font-family=\"sans-serif\" font-size=\"12\" lengthAdjust=\"spacingAndGlyphs\" textLength=\"119\" x=\"184.5\" y=\"271.1074\">evaluationFunction</text><line style=\"stroke: #383838; stroke-width: 1.5;\" x1=\"182.5\" x2=\"309.5\" y1=\"278.9375\" y2=\"278.9375\"/></a><!--MD5=[b9389687b975829384b498ac4b7476b2]\n",
       "class E8--><a href=\"psysml:83f46fb2-5a48-4342-a61e-b1e9a3952716\" target=\"_top\" title=\"psysml:83f46fb2-5a48-4342-a61e-b1e9a3952716\" xlink:actuate=\"onRequest\" xlink:href=\"psysml:83f46fb2-5a48-4342-a61e-b1e9a3952716\" xlink:show=\"new\" xlink:title=\"psysml:83f46fb2-5a48-4342-a61e-b1e9a3952716\" xlink:type=\"simple\"><rect fill=\"#FFFFFF\" height=\"45.9375\" id=\"E8\" rx=\"10\" ry=\"10\" style=\"stroke: #383838; stroke-width: 1.5;\" width=\"128\" x=\"363\" y=\"364\"/><text fill=\"#000000\" font-family=\"sans-serif\" font-size=\"12\" font-style=\"italic\" lengthAdjust=\"spacingAndGlyphs\" textLength=\"40\" x=\"407\" y=\"380.1387\">«part»</text><text fill=\"#000000\" font-family=\"sans-serif\" font-size=\"12\" lengthAdjust=\"spacingAndGlyphs\" textLength=\"118\" x=\"366\" y=\"394.1074\">alternative: Engine</text><line style=\"stroke: #383838; stroke-width: 1.5;\" x1=\"364\" x2=\"490\" y1=\"401.9375\" y2=\"401.9375\"/></a><!--MD5=[fd4143e9d270a159db93a4ea2a975926]\n",
       "class E9--><a href=\"psysml:43a96bb2-d059-439d-9037-f3d1363e69c1\" target=\"_top\" title=\"psysml:43a96bb2-d059-439d-9037-f3d1363e69c1\" xlink:actuate=\"onRequest\" xlink:href=\"psysml:43a96bb2-d059-439d-9037-f3d1363e69c1\" xlink:show=\"new\" xlink:title=\"psysml:43a96bb2-d059-439d-9037-f3d1363e69c1\" xlink:type=\"simple\"><rect fill=\"#FFFFFF\" height=\"45.9375\" id=\"E9\" rx=\"10\" ry=\"10\" style=\"stroke: #383838; stroke-width: 1.5;\" width=\"182\" x=\"346\" y=\"241\"/><text fill=\"#000000\" font-family=\"sans-serif\" font-size=\"12\" font-style=\"italic\" lengthAdjust=\"spacingAndGlyphs\" textLength=\"40\" x=\"417\" y=\"257.1387\">«part»</text><text fill=\"#000000\" font-family=\"sans-serif\" font-size=\"12\" lengthAdjust=\"spacingAndGlyphs\" textLength=\"172\" x=\"349\" y=\"271.1074\">selectedAlternative: Engine</text><line style=\"stroke: #383838; stroke-width: 1.5;\" x1=\"347\" x2=\"527\" y1=\"278.9375\" y2=\"278.9375\"/></a><!--MD5=[60a26617385b1d2d0262a64233df1f8d]\n",
       "class E6--><a href=\"psysml:6f716227-75fa-479d-851c-c6728be0ecaf\" target=\"_top\" title=\"psysml:6f716227-75fa-479d-851c-c6728be0ecaf\" xlink:actuate=\"onRequest\" xlink:href=\"psysml:6f716227-75fa-479d-851c-c6728be0ecaf\" xlink:show=\"new\" xlink:title=\"psysml:6f716227-75fa-479d-851c-c6728be0ecaf\" xlink:type=\"simple\"><rect fill=\"#FFFFFF\" height=\"45.9375\" id=\"E6\" rx=\"10\" ry=\"10\" style=\"stroke: #383838; stroke-width: 1.5;\" width=\"132\" x=\"281\" y=\"116\"/><text fill=\"#000000\" font-family=\"sans-serif\" font-size=\"12\" font-style=\"italic\" lengthAdjust=\"spacingAndGlyphs\" textLength=\"70\" x=\"312\" y=\"132.1387\">«objective»</text><text fill=\"#000000\" font-family=\"sans-serif\" font-size=\"12\" lengthAdjust=\"spacingAndGlyphs\" textLength=\"126\" x=\"284\" y=\"146.1074\">tradeStudyObjective</text><line style=\"stroke: #383838; stroke-width: 1.5;\" x1=\"282\" x2=\"412\" y1=\"153.9375\" y2=\"153.9375\"/></a><!--MD5=[05d275557350bfb9b23a4ef7222b4c39]\n",
       "link E3 to E2--><a href=\"psysml:a3c7b902-deb2-42e0-bb2d-9591134be70d\" target=\"_top\" title=\"psysml:a3c7b902-deb2-42e0-bb2d-9591134be70d\" xlink:actuate=\"onRequest\" xlink:href=\"psysml:a3c7b902-deb2-42e0-bb2d-9591134be70d\" xlink:show=\"new\" xlink:title=\"psysml:a3c7b902-deb2-42e0-bb2d-9591134be70d\" xlink:type=\"simple\"><path d=\"M254.29,410.01 C265.74,423.08 280.57,440.01 293.86,455.17 \" fill=\"none\" id=\"E3-&gt;E2\" style=\"stroke: #383838; stroke-width: 1.0;\"/><polygon fill=\"#FFFFFF\" points=\"307.42,470.66,289.6319,460.9861,300.1599,451.7578,307.42,470.66\" style=\"stroke: #383838; stroke-width: 1.0;\"/><ellipse cx=\"287.3787\" cy=\"455.3814\" fill=\"#383838\" rx=\"2\" ry=\"2\" style=\"stroke: #383838; stroke-width: 1.0;\"/><ellipse cx=\"294.8987\" cy=\"448.7898\" fill=\"#383838\" rx=\"2\" ry=\"2\" style=\"stroke: #383838; stroke-width: 1.0;\"/></a><!--MD5=[185131fc0dcab0a4505a2ebe144e961b]\n",
       "link E4 to E2--><a href=\"psysml:ad9261f0-dda0-42b5-9d6e-43ebe8822407\" target=\"_top\" title=\"psysml:ad9261f0-dda0-42b5-9d6e-43ebe8822407\" xlink:actuate=\"onRequest\" xlink:href=\"psysml:ad9261f0-dda0-42b5-9d6e-43ebe8822407\" xlink:show=\"new\" xlink:title=\"psysml:ad9261f0-dda0-42b5-9d6e-43ebe8822407\" xlink:type=\"simple\"><path d=\"M138.1,410.01 C177.63,427.38 232.65,451.55 273.12,469.33 \" fill=\"none\" id=\"E4-&gt;E2\" style=\"stroke: #383838; stroke-width: 1.0;\"/><polygon fill=\"#FFFFFF\" points=\"291.69,477.49,271.479,476.2594,277.1083,463.4411,291.69,477.49\" style=\"stroke: #383838; stroke-width: 1.0;\"/><ellipse cx=\"267.0642\" cy=\"472.1363\" fill=\"#383838\" rx=\"2\" ry=\"2\" style=\"stroke: #383838; stroke-width: 1.0;\"/><ellipse cx=\"271.0852\" cy=\"462.9803\" fill=\"#383838\" rx=\"2\" ry=\"2\" style=\"stroke: #383838; stroke-width: 1.0;\"/></a><!--MD5=[15ebcb19ae302d9b601edb458606d402]\n",
       "link E5 to E2--><a href=\"psysml:b52cccfc-b130-477f-adae-4c6f859e452b\" target=\"_top\" title=\"psysml:b52cccfc-b130-477f-adae-4c6f859e452b\" xlink:actuate=\"onRequest\" xlink:href=\"psysml:b52cccfc-b130-477f-adae-4c6f859e452b\" xlink:show=\"new\" xlink:title=\"psysml:b52cccfc-b130-477f-adae-4c6f859e452b\" xlink:type=\"simple\"><path d=\"M237.7204,146.0763 C237.4768,146.2621 237.2287,146.4518 236.9763,146.6454 C235.9668,147.4197 234.8879,148.2561 233.748,149.1518 C231.4682,150.943 228.9441,152.9709 226.2406,155.2119 C215.4269,164.1756 201.745,176.5475 189.3625,190.8125 C164.5975,219.3425 145.03,255.445 164,287 C166.35,290.91 306.39,360.26 309,364 C329.99,394 331.63,437.66 330,465.69 \" fill=\"none\" id=\"E5-&gt;E2\" style=\"stroke: #383838; stroke-width: 1.0; stroke-dasharray: 7.0,7.0;\"/><polygon fill=\"#383838\" points=\"329.66,470.74,334.268,462.0356,330.003,465.7518,326.2869,461.4868,329.66,470.74\" style=\"stroke: #383838; stroke-width: 1.0;\"/><text fill=\"#000000\" font-family=\"sans-serif\" font-size=\"13\" lengthAdjust=\"spacingAndGlyphs\" textLength=\"62\" x=\"253\" y=\"330.0669\">«subject»</text></a><!--MD5=[452b418e7f8a40397a49b8c0a78acc5b]\n",
       "reverse link E5 to E7--><a href=\"psysml:226717b4-0db0-47e0-9eef-bae3c4ff0509\" target=\"_top\" title=\"psysml:226717b4-0db0-47e0-9eef-bae3c4ff0509\" xlink:actuate=\"onRequest\" xlink:href=\"psysml:226717b4-0db0-47e0-9eef-bae3c4ff0509\" xlink:show=\"new\" xlink:title=\"psysml:226717b4-0db0-47e0-9eef-bae3c4ff0509\" xlink:type=\"simple\"><path d=\"M246,186.2997 C246,188.9655 246,191.6719 246,194.3971 C246,199.8476 246,205.3735 246,210.8005 C246,221.6544 246,232.1125 246,240.78 \" fill=\"none\" id=\"E5&lt;-E7\" style=\"stroke: #383838; stroke-width: 1.0;\"/><polygon fill=\"#FFFFFF\" points=\"246,186.2997,242,192.2997,246,198.2997,250,192.2997,246,186.2997\" style=\"stroke: #383838; stroke-width: 1.0;\"/></a><!--MD5=[dc164f5e8a733ab456ef1add180e9e34]\n",
       "reverse link E7 to E8--><a href=\"psysml:6f1f84a3-2ac1-458a-baf6-caa888cc195f\" target=\"_top\" title=\"psysml:6f1f84a3-2ac1-458a-baf6-caa888cc195f\" xlink:actuate=\"onRequest\" xlink:href=\"psysml:6f1f84a3-2ac1-458a-baf6-caa888cc195f\" xlink:show=\"new\" xlink:title=\"psysml:6f1f84a3-2ac1-458a-baf6-caa888cc195f\" xlink:type=\"simple\"><path d=\"M290.06,294.45 C322.12,315.89 364.86,344.46 394.01,363.95 \" fill=\"none\" id=\"E7&lt;-E8\" style=\"stroke: #383838; stroke-width: 1.0;\"/><polygon fill=\"#FFFFFF\" points=\"279.2,287.19,281.9674,293.8489,289.1785,293.8555,286.4111,287.1966,279.2,287.19\" style=\"stroke: #383838; stroke-width: 1.0;\"/><text fill=\"#000000\" font-family=\"sans-serif\" font-size=\"13\" lengthAdjust=\"spacingAndGlyphs\" textLength=\"8\" x=\"376.0689\" y=\"352.8328\">1</text></a><!--MD5=[f1f3f9f2fc535e6147756cb86a7f2e32]\n",
       "link E8 to E2--><a href=\"psysml:2bf4d1c6-7bac-40b1-aaaa-83952da67c38\" target=\"_top\" title=\"psysml:2bf4d1c6-7bac-40b1-aaaa-83952da67c38\" xlink:actuate=\"onRequest\" xlink:href=\"psysml:2bf4d1c6-7bac-40b1-aaaa-83952da67c38\" xlink:show=\"new\" xlink:title=\"psysml:2bf4d1c6-7bac-40b1-aaaa-83952da67c38\" xlink:type=\"simple\"><path d=\"M406.04,410.01 C393.32,423.36 376.77,440.74 362.11,456.14 \" fill=\"none\" id=\"E8-&gt;E2\" style=\"stroke: #383838; stroke-width: 1.0;\"/><polygon fill=\"#FFFFFF\" points=\"348.28,470.66,356.3076,452.0708,366.4491,461.7223,348.28,470.66\" style=\"stroke: #383838; stroke-width: 1.0;\"/><ellipse cx=\"361.6859\" cy=\"449.3206\" fill=\"#383838\" rx=\"2\" ry=\"2\" style=\"stroke: #383838; stroke-width: 1.0;\"/><ellipse cx=\"368.9298\" cy=\"456.2144\" fill=\"#383838\" rx=\"2\" ry=\"2\" style=\"stroke: #383838; stroke-width: 1.0;\"/></a><!--MD5=[9ae28de373ca99bb8a1b38d63370ca7e]\n",
       "reverse link E5 to E9--><a href=\"psysml:eedf805a-a406-401d-b38e-104ba6f0fce6\" target=\"_top\" title=\"psysml:eedf805a-a406-401d-b38e-104ba6f0fce6\" xlink:actuate=\"onRequest\" xlink:href=\"psysml:eedf805a-a406-401d-b38e-104ba6f0fce6\" xlink:show=\"new\" xlink:title=\"psysml:eedf805a-a406-401d-b38e-104ba6f0fce6\" xlink:type=\"simple\"><path d=\"M254.7949,186.3026 C254.8401,186.4038 254.8856,186.5049 254.9313,186.6059 C255.2966,187.4138 255.6769,188.215 256.0726,189.0077 C256.8641,190.5933 257.7176,192.1452 258.6379,193.6498 C260.4784,196.6589 262.5863,199.4788 265,202 C278.04,215.62 316.12,229.75 353.15,240.99 \" fill=\"none\" id=\"E5&lt;-E9\" style=\"stroke: #383838; stroke-width: 1.0;\"/><polygon fill=\"#FFFFFF\" points=\"254.7949,186.3026,253.5901,193.4123,259.6895,197.259,260.8944,190.1493,254.7949,186.3026\" style=\"stroke: #383838; stroke-width: 1.0;\"/><text fill=\"#000000\" font-family=\"sans-serif\" font-size=\"13\" lengthAdjust=\"spacingAndGlyphs\" textLength=\"8\" x=\"330.0508\" y=\"232.8298\">1</text></a><!--MD5=[5c3bb36fe832a92c7f0e1807dd65209d]\n",
       "link E9 to E2--><a href=\"psysml:3213573e-39ef-4dfb-813d-bdfb08b6e367\" target=\"_top\" title=\"psysml:3213573e-39ef-4dfb-813d-bdfb08b6e367\" xlink:actuate=\"onRequest\" xlink:href=\"psysml:3213573e-39ef-4dfb-813d-bdfb08b6e367\" xlink:show=\"new\" xlink:title=\"psysml:3213573e-39ef-4dfb-813d-bdfb08b6e367\" xlink:type=\"simple\"><path d=\"M462.31,287.19 C492.44,316.36 535.53,368.75 509,410 C481.16,453.3 424.53,474.29 381.79,484.28 \" fill=\"none\" id=\"E9-&gt;E2\" style=\"stroke: #383838; stroke-width: 1.0;\"/><polygon fill=\"#FFFFFF\" points=\"362.12,488.35,379.3051,477.6415,382.1449,491.3505,362.12,488.35\" style=\"stroke: #383838; stroke-width: 1.0;\"/><ellipse cx=\"385.2923\" cy=\"478.4438\" fill=\"#383838\" rx=\"2\" ry=\"2\" style=\"stroke: #383838; stroke-width: 1.0;\"/><ellipse cx=\"387.3207\" cy=\"488.2359\" fill=\"#383838\" rx=\"2\" ry=\"2\" style=\"stroke: #383838; stroke-width: 1.0;\"/></a><!--MD5=[ccc359985ed7991d700640a4f40bf22e]\n",
       "@startuml\r\n",
       " skinparam monochrome true\r\n",
       "skinparam classbackgroundcolor white\r\n",
       "skinparam shadowing false\r\n",
       "skinparam wrapWidth 300\r\n",
       "hide circle\r\n",
       "\r\n",
       "package \"TradeStudyTest\" as E1  [[psysml:06d75114-8d09-4304-b9ac-1031eaaad748 ]]  {\r\n",
       "comp def \"Engine\" as E2  <<(T,blue) part  def>> [[psysml:377b66bc-6410-4386-a0f5-58eac70f1599 ]] {\r\n",
       "}\r\n",
       "comp usage \"engine1: Engine \" as E3  <<(T,blue) part>> [[psysml:b73c7ebb-9472-45c7-822b-647f60ba4ebd ]] {\r\n",
       "}\r\n",
       "comp usage \"engine2: Engine \" as E4  <<(T,blue) part>> [[psysml:383bc22a-19f8-4697-ba31-98dbfb8a50a3 ]] {\r\n",
       "}\r\n",
       "rec usage \"engineTradeStudy\" as E5 << analysis>> [[psysml:a2c4dab4-2ddb-42af-80d6-b11f423fabe1 ]] {\r\n",
       "comp usage \"tradeStudyObjective\" as E6  <<objective>> [[psysml:6f716227-75fa-479d-851c-c6728be0ecaf ]] {\r\n",
       "}\r\n",
       "}\r\n",
       "comp usage \"evaluationFunction \" as E7  <<(T,blue) calculation>> [[psysml:e59262b2-24eb-419d-a794-3b71c7229dcc ]] {\r\n",
       "}\r\n",
       "comp usage \"alternative: Engine \" as E8  <<(T,blue) part>> [[psysml:83f46fb2-5a48-4342-a61e-b1e9a3952716 ]] {\r\n",
       "}\r\n",
       "comp usage \"selectedAlternative: Engine \" as E9  <<(T,blue) part>> [[psysml:43a96bb2-d059-439d-9037-f3d1363e69c1 ]] {\r\n",
       "}\r\n",
       "}\r\n",
       "E3 - -:|> E2 [[psysml:a3c7b902-deb2-42e0-bb2d-9591134be70d ]] \r\n",
       "E4 - -:|> E2 [[psysml:ad9261f0-dda0-42b5-9d6e-43ebe8822407 ]] \r\n",
       "E5 ..> E2 [[psysml:b52cccfc-b130-477f-adae-4c6f859e452b ]] : <<subject>>\r\n",
       "E5 o- - E7 [[psysml:226717b4-0db0-47e0-9eef-bae3c4ff0509 ]] \r\n",
       "E7 o- - \"1\"E8 [[psysml:6f1f84a3-2ac1-458a-baf6-caa888cc195f ]] \r\n",
       "E8 - -:|> E2 [[psysml:2bf4d1c6-7bac-40b1-aaaa-83952da67c38 ]] \r\n",
       "E5 o- - \"1\"E9 [[psysml:eedf805a-a406-401d-b38e-104ba6f0fce6 ]] \r\n",
       "E9 - -:|> E2 [[psysml:3213573e-39ef-4dfb-813d-bdfb08b6e367 ]] \r\n",
       "@enduml\r\n",
       "\n",
       "PlantUML version 1.2020.13(Sat Jun 13 12:26:38 UTC 2020)\n",
       "(EPL source distribution)\n",
       "Java Runtime: OpenJDK Runtime Environment\n",
       "JVM: OpenJDK 64-Bit Server VM\n",
       "Default Encoding: UTF-8\n",
       "Language: en\n",
       "Country: null\n",
       "--></g></svg>"
      ]
     },
     "execution_count": 2,
     "metadata": {},
     "output_type": "execute_result"
    }
   ],
   "source": [
    "%viz --style=\"COMPTREE\" --view=\"Default\" \"TradeStudyTest\""
   ]
  },
  {
   "cell_type": "code",
   "execution_count": 3,
   "id": "6a96d49b",
   "metadata": {
    "execution": {
     "iopub.execute_input": "2022-08-19T08:21:14.847352Z",
     "iopub.status.busy": "2022-08-19T08:21:14.846731Z",
     "iopub.status.idle": "2022-08-19T08:21:14.912954Z",
     "shell.execute_reply": "2022-08-19T08:21:14.912263Z"
    }
   },
   "outputs": [
    {
     "data": {
      "image/svg+xml": [
       "<?xml version=\"1.0\" encoding=\"UTF-8\" standalone=\"no\"?><svg xmlns=\"http://www.w3.org/2000/svg\" xmlns:xlink=\"http://www.w3.org/1999/xlink\" contentScriptType=\"application/ecmascript\" contentStyleType=\"text/css\" height=\"497px\" preserveAspectRatio=\"none\" style=\"width:569px;height:497px;\" version=\"1.1\" viewBox=\"0 0 569 497\" width=\"569px\" zoomAndPan=\"magnify\"><defs/><g><!--MD5=[fbc87193dbaf4d95561dea2c320d4a47]\n",
       "cluster E1--><a href=\"psysml:06d75114-8d09-4304-b9ac-1031eaaad748\" target=\"_top\" title=\"psysml:06d75114-8d09-4304-b9ac-1031eaaad748\" xlink:actuate=\"onRequest\" xlink:href=\"psysml:06d75114-8d09-4304-b9ac-1031eaaad748\" xlink:show=\"new\" xlink:title=\"psysml:06d75114-8d09-4304-b9ac-1031eaaad748\" xlink:type=\"simple\"><polygon fill=\"#FFFFFF\" points=\"19.75,6,135.75,6,142.75,28.2969,547.75,28.2969,547.75,485,19.75,485,19.75,6\" style=\"stroke: #000000; stroke-width: 1.5;\"/><line style=\"stroke: #000000; stroke-width: 1.5;\" x1=\"19.75\" x2=\"142.75\" y1=\"28.2969\" y2=\"28.2969\"/><text fill=\"#000000\" font-family=\"sans-serif\" font-size=\"14\" font-weight=\"bold\" lengthAdjust=\"spacingAndGlyphs\" textLength=\"110\" x=\"23.75\" y=\"20.9951\">TradeStudyTest</text></a><!--MD5=[b4997ac47864f28c2f74865a473b2911]\n",
       "class E2--><a href=\"psysml:377b66bc-6410-4386-a0f5-58eac70f1599\" target=\"_top\" title=\"psysml:377b66bc-6410-4386-a0f5-58eac70f1599\" xlink:actuate=\"onRequest\" xlink:href=\"psysml:377b66bc-6410-4386-a0f5-58eac70f1599\" xlink:show=\"new\" xlink:title=\"psysml:377b66bc-6410-4386-a0f5-58eac70f1599\" xlink:type=\"simple\"><rect fill=\"#FFFFFF\" height=\"45.9375\" id=\"E2\" style=\"stroke: #383838; stroke-width: 1.5;\" width=\"70\" x=\"201.75\" y=\"423\"/><text fill=\"#000000\" font-family=\"sans-serif\" font-size=\"12\" font-style=\"italic\" lengthAdjust=\"spacingAndGlyphs\" textLength=\"68\" x=\"202.75\" y=\"439.1387\">«part  def»</text><text fill=\"#000000\" font-family=\"sans-serif\" font-size=\"12\" lengthAdjust=\"spacingAndGlyphs\" textLength=\"43\" x=\"215.25\" y=\"453.1074\">Engine</text><line style=\"stroke: #383838; stroke-width: 1.5;\" x1=\"202.75\" x2=\"270.75\" y1=\"460.9375\" y2=\"460.9375\"/></a><!--MD5=[09b614a08d8cba4a07c9adeb5e0fee81]\n",
       "class E3--><a href=\"psysml:b73c7ebb-9472-45c7-822b-647f60ba4ebd\" target=\"_top\" title=\"psysml:b73c7ebb-9472-45c7-822b-647f60ba4ebd\" xlink:actuate=\"onRequest\" xlink:href=\"psysml:b73c7ebb-9472-45c7-822b-647f60ba4ebd\" xlink:show=\"new\" xlink:title=\"psysml:b73c7ebb-9472-45c7-822b-647f60ba4ebd\" xlink:type=\"simple\"><rect fill=\"#FFFFFF\" height=\"45.9375\" id=\"E3\" rx=\"10\" ry=\"10\" style=\"stroke: #383838; stroke-width: 1.5;\" width=\"112\" x=\"419.75\" y=\"316\"/><text fill=\"#000000\" font-family=\"sans-serif\" font-size=\"12\" font-style=\"italic\" lengthAdjust=\"spacingAndGlyphs\" textLength=\"40\" x=\"455.75\" y=\"332.1387\">«part»</text><text fill=\"#000000\" font-family=\"sans-serif\" font-size=\"12\" lengthAdjust=\"spacingAndGlyphs\" textLength=\"102\" x=\"422.75\" y=\"346.1074\">engine1: Engine</text><line style=\"stroke: #383838; stroke-width: 1.5;\" x1=\"420.75\" x2=\"530.75\" y1=\"353.9375\" y2=\"353.9375\"/></a><!--MD5=[ebbe1d658d1005bcc118a6aa81145e00]\n",
       "class E4--><a href=\"psysml:383bc22a-19f8-4697-ba31-98dbfb8a50a3\" target=\"_top\" title=\"psysml:383bc22a-19f8-4697-ba31-98dbfb8a50a3\" xlink:actuate=\"onRequest\" xlink:href=\"psysml:383bc22a-19f8-4697-ba31-98dbfb8a50a3\" xlink:show=\"new\" xlink:title=\"psysml:383bc22a-19f8-4697-ba31-98dbfb8a50a3\" xlink:type=\"simple\"><rect fill=\"#FFFFFF\" height=\"45.9375\" id=\"E4\" rx=\"10\" ry=\"10\" style=\"stroke: #383838; stroke-width: 1.5;\" width=\"112\" x=\"272.75\" y=\"316\"/><text fill=\"#000000\" font-family=\"sans-serif\" font-size=\"12\" font-style=\"italic\" lengthAdjust=\"spacingAndGlyphs\" textLength=\"40\" x=\"308.75\" y=\"332.1387\">«part»</text><text fill=\"#000000\" font-family=\"sans-serif\" font-size=\"12\" lengthAdjust=\"spacingAndGlyphs\" textLength=\"102\" x=\"275.75\" y=\"346.1074\">engine2: Engine</text><line style=\"stroke: #383838; stroke-width: 1.5;\" x1=\"273.75\" x2=\"383.75\" y1=\"353.9375\" y2=\"353.9375\"/></a><!--MD5=[270fce915f116d4de14055a7c1d9a0f3]\n",
       "class E5--><a href=\"psysml:a2c4dab4-2ddb-42af-80d6-b11f423fabe1\" target=\"_top\" title=\"psysml:a2c4dab4-2ddb-42af-80d6-b11f423fabe1\" xlink:actuate=\"onRequest\" xlink:href=\"psysml:a2c4dab4-2ddb-42af-80d6-b11f423fabe1\" xlink:show=\"new\" xlink:title=\"psysml:a2c4dab4-2ddb-42af-80d6-b11f423fabe1\" xlink:type=\"simple\"><rect fill=\"#FFFFFF\" height=\"45.9375\" id=\"E5\" rx=\"10\" ry=\"10\" style=\"stroke: #383838; stroke-width: 1.5;\" width=\"203\" x=\"242.25\" y=\"41\"/><text fill=\"#000000\" font-family=\"sans-serif\" font-size=\"12\" font-style=\"italic\" lengthAdjust=\"spacingAndGlyphs\" textLength=\"64\" x=\"311.75\" y=\"57.1387\">«analysis»</text><text fill=\"#000000\" font-family=\"sans-serif\" font-size=\"12\" lengthAdjust=\"spacingAndGlyphs\" textLength=\"193\" x=\"245.25\" y=\"71.1074\">engineTradeStudy: TradeStudy</text><line style=\"stroke: #383838; stroke-width: 1.5;\" x1=\"243.25\" x2=\"444.25\" y1=\"78.9375\" y2=\"78.9375\"/></a><!--MD5=[60a26617385b1d2d0262a64233df1f8d]\n",
       "class E6--><a href=\"psysml:6f716227-75fa-479d-851c-c6728be0ecaf\" target=\"_top\" title=\"psysml:6f716227-75fa-479d-851c-c6728be0ecaf\" xlink:actuate=\"onRequest\" xlink:href=\"psysml:6f716227-75fa-479d-851c-c6728be0ecaf\" xlink:show=\"new\" xlink:title=\"psysml:6f716227-75fa-479d-851c-c6728be0ecaf\" xlink:type=\"simple\"><rect fill=\"#FFFFFF\" height=\"45.9375\" id=\"E6\" rx=\"10\" ry=\"10\" style=\"stroke: #383838; stroke-width: 1.5;\" width=\"255\" x=\"75.25\" y=\"164\"/><text fill=\"#000000\" font-family=\"sans-serif\" font-size=\"12\" font-style=\"italic\" lengthAdjust=\"spacingAndGlyphs\" textLength=\"91\" x=\"157.25\" y=\"180.1387\">«requirement»</text><text fill=\"#000000\" font-family=\"sans-serif\" font-size=\"12\" lengthAdjust=\"spacingAndGlyphs\" textLength=\"245\" x=\"78.25\" y=\"194.1074\">tradeStudyObjective: MaximizeObjective</text><line style=\"stroke: #383838; stroke-width: 1.5;\" x1=\"76.25\" x2=\"329.25\" y1=\"201.9375\" y2=\"201.9375\"/></a><!--MD5=[2156ba9850f5573cc1fc38a6a4b2f02b]\n",
       "class E7--><a href=\"psysml:e59262b2-24eb-419d-a794-3b71c7229dcc\" target=\"_top\" title=\"psysml:e59262b2-24eb-419d-a794-3b71c7229dcc\" xlink:actuate=\"onRequest\" xlink:href=\"psysml:e59262b2-24eb-419d-a794-3b71c7229dcc\" xlink:show=\"new\" xlink:title=\"psysml:e59262b2-24eb-419d-a794-3b71c7229dcc\" xlink:type=\"simple\"><rect fill=\"#FFFFFF\" height=\"45.9375\" id=\"E7\" rx=\"10\" ry=\"10\" style=\"stroke: #383838; stroke-width: 1.5;\" width=\"129\" x=\"365.25\" y=\"164\"/><text fill=\"#000000\" font-family=\"sans-serif\" font-size=\"12\" font-style=\"italic\" lengthAdjust=\"spacingAndGlyphs\" textLength=\"82\" x=\"388.75\" y=\"180.1387\">«calculation»</text><text fill=\"#000000\" font-family=\"sans-serif\" font-size=\"12\" lengthAdjust=\"spacingAndGlyphs\" textLength=\"119\" x=\"368.25\" y=\"194.1074\">evaluationFunction</text><line style=\"stroke: #383838; stroke-width: 1.5;\" x1=\"366.25\" x2=\"493.25\" y1=\"201.9375\" y2=\"201.9375\"/></a><!--MD5=[b9389687b975829384b498ac4b7476b2]\n",
       "class E8--><a href=\"psysml:83f46fb2-5a48-4342-a61e-b1e9a3952716\" target=\"_top\" title=\"psysml:83f46fb2-5a48-4342-a61e-b1e9a3952716\" xlink:actuate=\"onRequest\" xlink:href=\"psysml:83f46fb2-5a48-4342-a61e-b1e9a3952716\" xlink:show=\"new\" xlink:title=\"psysml:83f46fb2-5a48-4342-a61e-b1e9a3952716\" xlink:type=\"simple\"><rect fill=\"#FFFFFF\" height=\"45.9375\" id=\"E8\" rx=\"10\" ry=\"10\" style=\"stroke: #383838; stroke-width: 1.5;\" width=\"128\" x=\"72.75\" y=\"316\"/><text fill=\"#000000\" font-family=\"sans-serif\" font-size=\"12\" font-style=\"italic\" lengthAdjust=\"spacingAndGlyphs\" textLength=\"40\" x=\"116.75\" y=\"332.1387\">«part»</text><text fill=\"#000000\" font-family=\"sans-serif\" font-size=\"12\" lengthAdjust=\"spacingAndGlyphs\" textLength=\"118\" x=\"75.75\" y=\"346.1074\">alternative: Engine</text><line style=\"stroke: #383838; stroke-width: 1.5;\" x1=\"73.75\" x2=\"199.75\" y1=\"353.9375\" y2=\"353.9375\"/></a><!--MD5=[fd4143e9d270a159db93a4ea2a975926]\n",
       "class E9--><a href=\"psysml:43a96bb2-d059-439d-9037-f3d1363e69c1\" target=\"_top\" title=\"psysml:43a96bb2-d059-439d-9037-f3d1363e69c1\" xlink:actuate=\"onRequest\" xlink:href=\"psysml:43a96bb2-d059-439d-9037-f3d1363e69c1\" xlink:show=\"new\" xlink:title=\"psysml:43a96bb2-d059-439d-9037-f3d1363e69c1\" xlink:type=\"simple\"><rect fill=\"#FFFFFF\" height=\"45.9375\" id=\"E9\" rx=\"10\" ry=\"10\" style=\"stroke: #383838; stroke-width: 1.5;\" width=\"182\" x=\"298.75\" y=\"240\"/><text fill=\"#000000\" font-family=\"sans-serif\" font-size=\"12\" font-style=\"italic\" lengthAdjust=\"spacingAndGlyphs\" textLength=\"40\" x=\"369.75\" y=\"256.1387\">«part»</text><text fill=\"#000000\" font-family=\"sans-serif\" font-size=\"12\" lengthAdjust=\"spacingAndGlyphs\" textLength=\"172\" x=\"301.75\" y=\"270.1074\">selectedAlternative: Engine</text><line style=\"stroke: #383838; stroke-width: 1.5;\" x1=\"299.75\" x2=\"479.75\" y1=\"277.9375\" y2=\"277.9375\"/></a><!--MD5=[05d275557350bfb9b23a4ef7222b4c39]\n",
       "link E3 to E2--><a href=\"psysml:a3c7b902-deb2-42e0-bb2d-9591134be70d\" target=\"_top\" title=\"psysml:a3c7b902-deb2-42e0-bb2d-9591134be70d\" xlink:actuate=\"onRequest\" xlink:href=\"psysml:a3c7b902-deb2-42e0-bb2d-9591134be70d\" xlink:show=\"new\" xlink:title=\"psysml:a3c7b902-deb2-42e0-bb2d-9591134be70d\" xlink:type=\"simple\"><path d=\"M425.65,362.01 C386.12,379.38 331.1,403.55 290.63,421.33 \" fill=\"none\" id=\"E3-&gt;E2\" style=\"stroke: #383838; stroke-width: 1.0;\"/><polygon fill=\"#FFFFFF\" points=\"272.06,429.49,286.6417,415.4411,292.271,428.2594,272.06,429.49\" style=\"stroke: #383838; stroke-width: 1.0;\"/><ellipse cx=\"292.6648\" cy=\"414.9803\" fill=\"#383838\" rx=\"2\" ry=\"2\" style=\"stroke: #383838; stroke-width: 1.0;\"/><ellipse cx=\"296.6858\" cy=\"424.1363\" fill=\"#383838\" rx=\"2\" ry=\"2\" style=\"stroke: #383838; stroke-width: 1.0;\"/></a><!--MD5=[185131fc0dcab0a4505a2ebe144e961b]\n",
       "link E4 to E2--><a href=\"psysml:ad9261f0-dda0-42b5-9d6e-43ebe8822407\" target=\"_top\" title=\"psysml:ad9261f0-dda0-42b5-9d6e-43ebe8822407\" xlink:actuate=\"onRequest\" xlink:href=\"psysml:ad9261f0-dda0-42b5-9d6e-43ebe8822407\" xlink:show=\"new\" xlink:title=\"psysml:ad9261f0-dda0-42b5-9d6e-43ebe8822407\" xlink:type=\"simple\"><path d=\"M309.46,362.01 C298.01,375.08 283.18,392.01 269.89,407.17 \" fill=\"none\" id=\"E4-&gt;E2\" style=\"stroke: #383838; stroke-width: 1.0;\"/><polygon fill=\"#FFFFFF\" points=\"256.33,422.66,263.5901,403.7578,274.1181,412.9861,256.33,422.66\" style=\"stroke: #383838; stroke-width: 1.0;\"/><ellipse cx=\"268.8513\" cy=\"400.7898\" fill=\"#383838\" rx=\"2\" ry=\"2\" style=\"stroke: #383838; stroke-width: 1.0;\"/><ellipse cx=\"276.3713\" cy=\"407.3814\" fill=\"#383838\" rx=\"2\" ry=\"2\" style=\"stroke: #383838; stroke-width: 1.0;\"/></a><!--MD5=[15ebcb19ae302d9b601edb458606d402]\n",
       "link E5 to E2--><a href=\"psysml:b52cccfc-b130-477f-adae-4c6f859e452b\" target=\"_top\" title=\"psysml:b52cccfc-b130-477f-adae-4c6f859e452b\" xlink:actuate=\"onRequest\" xlink:href=\"psysml:b52cccfc-b130-477f-adae-4c6f859e452b\" xlink:show=\"new\" xlink:title=\"psysml:b52cccfc-b130-477f-adae-4c6f859e452b\" xlink:type=\"simple\"><path d=\"M242.19,71.71 C178.15,81.78 99.85,106.1 57.75,164 C6,235.18 7.15,287.97 54.75,362 C85.89,410.42 153.01,430.93 196.46,439.38 \" fill=\"none\" id=\"E5-&gt;E2\" style=\"stroke: #383838; stroke-width: 1.0; stroke-dasharray: 7.0,7.0;\"/><polygon fill=\"#383838\" points=\"201.63,440.35,193.5135,434.7713,196.7143,439.4355,192.0502,442.6363,201.63,440.35\" style=\"stroke: #383838; stroke-width: 1.0;\"/><text fill=\"#000000\" font-family=\"sans-serif\" font-size=\"13\" lengthAdjust=\"spacingAndGlyphs\" textLength=\"62\" x=\"22.75\" y=\"267.5669\">«subject»</text></a><!--MD5=[9120cf2e5df3bff93db8f754bbbc09b4]\n",
       "link E5 to E6--><a href=\"psysml:be121dac-af46-4d47-896b-f9a14a0b4d3b\" target=\"_top\" title=\"psysml:be121dac-af46-4d47-896b-f9a14a0b4d3b\" xlink:actuate=\"onRequest\" xlink:href=\"psysml:be121dac-af46-4d47-896b-f9a14a0b4d3b\" xlink:show=\"new\" xlink:title=\"psysml:be121dac-af46-4d47-896b-f9a14a0b4d3b\" xlink:type=\"simple\"><path d=\"M317.89,87.19 C294.44,107.32 259.79,137.06 234.63,158.64 \" fill=\"none\" id=\"E5-&gt;E6\" style=\"stroke: #383838; stroke-width: 1.0;\"/><polygon fill=\"#383838\" points=\"228.45,163.95,236.4776,161.0246,232.5746,156.4675,228.45,163.95\" style=\"stroke: #383838; stroke-width: 1.0;\"/><text fill=\"#000000\" font-family=\"sans-serif\" font-size=\"13\" lengthAdjust=\"spacingAndGlyphs\" textLength=\"73\" x=\"281.75\" y=\"130.0669\">«objective»</text></a><!--MD5=[452b418e7f8a40397a49b8c0a78acc5b]\n",
       "reverse link E5 to E7--><a href=\"psysml:226717b4-0db0-47e0-9eef-bae3c4ff0509\" target=\"_top\" title=\"psysml:226717b4-0db0-47e0-9eef-bae3c4ff0509\" xlink:actuate=\"onRequest\" xlink:href=\"psysml:226717b4-0db0-47e0-9eef-bae3c4ff0509\" xlink:show=\"new\" xlink:title=\"psysml:226717b4-0db0-47e0-9eef-bae3c4ff0509\" xlink:type=\"simple\"><path d=\"M367.12,97.88 C382.03,118.86 400.95,145.48 414.08,163.95 \" fill=\"none\" id=\"E5&lt;-E7\" style=\"stroke: #383838; stroke-width: 1.0;\"/><polygon fill=\"#FFFFFF\" points=\"359.52,87.19,359.7442,94.3976,366.4836,96.9628,366.2594,89.7552,359.52,87.19\" style=\"stroke: #383838; stroke-width: 1.0;\"/></a><!--MD5=[dc164f5e8a733ab456ef1add180e9e34]\n",
       "reverse link E7 to E8--><a href=\"psysml:6f1f84a3-2ac1-458a-baf6-caa888cc195f\" target=\"_top\" title=\"psysml:6f1f84a3-2ac1-458a-baf6-caa888cc195f\" xlink:actuate=\"onRequest\" xlink:href=\"psysml:6f1f84a3-2ac1-458a-baf6-caa888cc195f\" xlink:show=\"new\" xlink:title=\"psysml:6f1f84a3-2ac1-458a-baf6-caa888cc195f\" xlink:type=\"simple\"><path d=\"M352.57,210.93 C329.29,218.95 304.02,228.8 281.75,240 C238.59,261.71 193.11,294.26 164.84,315.8 \" fill=\"none\" id=\"E7&lt;-E8\" style=\"stroke: #383838; stroke-width: 1.0;\"/><polygon fill=\"#FFFFFF\" points=\"364.89,206.79,357.9284,204.9096,353.5151,210.6124,360.4767,212.4928,364.89,206.79\" style=\"stroke: #383838; stroke-width: 1.0;\"/><text fill=\"#000000\" font-family=\"sans-serif\" font-size=\"13\" lengthAdjust=\"spacingAndGlyphs\" textLength=\"8\" x=\"163.0131\" y=\"305.025\">1</text></a><!--MD5=[f1f3f9f2fc535e6147756cb86a7f2e32]\n",
       "link E8 to E2--><a href=\"psysml:2bf4d1c6-7bac-40b1-aaaa-83952da67c38\" target=\"_top\" title=\"psysml:2bf4d1c6-7bac-40b1-aaaa-83952da67c38\" xlink:actuate=\"onRequest\" xlink:href=\"psysml:2bf4d1c6-7bac-40b1-aaaa-83952da67c38\" xlink:show=\"new\" xlink:title=\"psysml:2bf4d1c6-7bac-40b1-aaaa-83952da67c38\" xlink:type=\"simple\"><path d=\"M157.71,362.01 C170.43,375.36 186.98,392.74 201.64,408.14 \" fill=\"none\" id=\"E8-&gt;E2\" style=\"stroke: #383838; stroke-width: 1.0;\"/><polygon fill=\"#FFFFFF\" points=\"215.47,422.66,197.3009,413.7223,207.4424,404.0708,215.47,422.66\" style=\"stroke: #383838; stroke-width: 1.0;\"/><ellipse cx=\"194.8202\" cy=\"408.2144\" fill=\"#383838\" rx=\"2\" ry=\"2\" style=\"stroke: #383838; stroke-width: 1.0;\"/><ellipse cx=\"202.0641\" cy=\"401.3206\" fill=\"#383838\" rx=\"2\" ry=\"2\" style=\"stroke: #383838; stroke-width: 1.0;\"/></a><!--MD5=[9ae28de373ca99bb8a1b38d63370ca7e]\n",
       "reverse link E5 to E9--><a href=\"psysml:eedf805a-a406-401d-b38e-104ba6f0fce6\" target=\"_top\" title=\"psysml:eedf805a-a406-401d-b38e-104ba6f0fce6\" xlink:actuate=\"onRequest\" xlink:href=\"psysml:eedf805a-a406-401d-b38e-104ba6f0fce6\" xlink:show=\"new\" xlink:title=\"psysml:eedf805a-a406-401d-b38e-104ba6f0fce6\" xlink:type=\"simple\"><path d=\"M425.37,92.39 C458.3,107.92 492.9,131.01 511.75,164 C521.89,181.75 523.02,192.94 511.75,210 C503.25,222.87 490.84,232.57 477.15,239.87 \" fill=\"none\" id=\"E5&lt;-E9\" style=\"stroke: #383838; stroke-width: 1.0;\"/><polygon fill=\"#FFFFFF\" points=\"413.35,87.01,417.1893,93.1141,424.3005,91.9179,420.4612,85.8138,413.35,87.01\" style=\"stroke: #383838; stroke-width: 1.0;\"/><text fill=\"#000000\" font-family=\"sans-serif\" font-size=\"13\" lengthAdjust=\"spacingAndGlyphs\" textLength=\"8\" x=\"488.4363\" y=\"229.8763\">1</text></a><!--MD5=[5c3bb36fe832a92c7f0e1807dd65209d]\n",
       "link E9 to E2--><a href=\"psysml:3213573e-39ef-4dfb-813d-bdfb08b6e367\" target=\"_top\" title=\"psysml:3213573e-39ef-4dfb-813d-bdfb08b6e367\" xlink:actuate=\"onRequest\" xlink:href=\"psysml:3213573e-39ef-4dfb-813d-bdfb08b6e367\" xlink:show=\"new\" xlink:title=\"psysml:3213573e-39ef-4dfb-813d-bdfb08b6e367\" xlink:type=\"simple\"><path d=\"M298.61,284.36 C282.24,291.84 266.88,302.05 255.75,316 C236.48,340.16 232.36,375.23 232.71,402.71 \" fill=\"none\" id=\"E9-&gt;E2\" style=\"stroke: #383838; stroke-width: 1.0;\"/><polygon fill=\"#FFFFFF\" points=\"233.74,422.77,225.772,404.1552,239.7535,403.4351,233.74,422.77\" style=\"stroke: #383838; stroke-width: 1.0;\"/><ellipse cx=\"227.4762\" cy=\"398.3599\" fill=\"#383838\" rx=\"2\" ry=\"2\" style=\"stroke: #383838; stroke-width: 1.0;\"/><ellipse cx=\"237.463\" cy=\"397.8455\" fill=\"#383838\" rx=\"2\" ry=\"2\" style=\"stroke: #383838; stroke-width: 1.0;\"/></a><!--MD5=[0b5f5b6c7aa4cbf134cdc810ba5433b8]\n",
       "@startuml\r\n",
       " skinparam monochrome true\r\n",
       "skinparam classbackgroundcolor white\r\n",
       "skinparam shadowing false\r\n",
       "skinparam wrapWidth 300\r\n",
       "hide circle\r\n",
       "\r\n",
       "package \"TradeStudyTest\" as E1  [[psysml:06d75114-8d09-4304-b9ac-1031eaaad748 ]]  {\r\n",
       "comp def \"Engine\" as E2  <<(T,blue) part  def>> [[psysml:377b66bc-6410-4386-a0f5-58eac70f1599 ]] {\r\n",
       "}\r\n",
       "comp usage \"engine1: Engine \" as E3  <<(T,blue) part>> [[psysml:b73c7ebb-9472-45c7-822b-647f60ba4ebd ]] {\r\n",
       "}\r\n",
       "comp usage \"engine2: Engine \" as E4  <<(T,blue) part>> [[psysml:383bc22a-19f8-4697-ba31-98dbfb8a50a3 ]] {\r\n",
       "}\r\n",
       "comp usage \"engineTradeStudy: TradeStudy \" as E5 << analysis>> [[psysml:a2c4dab4-2ddb-42af-80d6-b11f423fabe1 ]] {\r\n",
       "}\r\n",
       "comp usage \"tradeStudyObjective: MaximizeObjective \" as E6  <<(T,blue) requirement>> [[psysml:6f716227-75fa-479d-851c-c6728be0ecaf ]] {\r\n",
       "}\r\n",
       "comp usage \"evaluationFunction \" as E7  <<(T,blue) calculation>> [[psysml:e59262b2-24eb-419d-a794-3b71c7229dcc ]] {\r\n",
       "}\r\n",
       "comp usage \"alternative: Engine \" as E8  <<(T,blue) part>> [[psysml:83f46fb2-5a48-4342-a61e-b1e9a3952716 ]] {\r\n",
       "}\r\n",
       "comp usage \"selectedAlternative: Engine \" as E9  <<(T,blue) part>> [[psysml:43a96bb2-d059-439d-9037-f3d1363e69c1 ]] {\r\n",
       "}\r\n",
       "}\r\n",
       "E3 - -:|> E2 [[psysml:a3c7b902-deb2-42e0-bb2d-9591134be70d ]] \r\n",
       "E4 - -:|> E2 [[psysml:ad9261f0-dda0-42b5-9d6e-43ebe8822407 ]] \r\n",
       "E5 ..> E2 [[psysml:b52cccfc-b130-477f-adae-4c6f859e452b ]] : <<subject>>\r\n",
       "E5 - ->> E6 [[psysml:be121dac-af46-4d47-896b-f9a14a0b4d3b ]] : <<objective>>\r\n",
       "E5 o- - E7 [[psysml:226717b4-0db0-47e0-9eef-bae3c4ff0509 ]] \r\n",
       "E7 o- - \"1\"E8 [[psysml:6f1f84a3-2ac1-458a-baf6-caa888cc195f ]] \r\n",
       "E8 - -:|> E2 [[psysml:2bf4d1c6-7bac-40b1-aaaa-83952da67c38 ]] \r\n",
       "E5 o- - \"1\"E9 [[psysml:eedf805a-a406-401d-b38e-104ba6f0fce6 ]] \r\n",
       "E9 - -:|> E2 [[psysml:3213573e-39ef-4dfb-813d-bdfb08b6e367 ]] \r\n",
       "@enduml\r\n",
       "\n",
       "PlantUML version 1.2020.13(Sat Jun 13 12:26:38 UTC 2020)\n",
       "(EPL source distribution)\n",
       "Java Runtime: OpenJDK Runtime Environment\n",
       "JVM: OpenJDK 64-Bit Server VM\n",
       "Default Encoding: UTF-8\n",
       "Language: en\n",
       "Country: null\n",
       "--></g></svg>"
      ]
     },
     "execution_count": 3,
     "metadata": {},
     "output_type": "execute_result"
    }
   ],
   "source": [
    "%viz --style=\"COMPTREE\" --view=\"Tree\" \"TradeStudyTest\""
   ]
  },
  {
   "cell_type": "code",
   "execution_count": 4,
   "id": "3e5d18d7",
   "metadata": {
    "execution": {
     "iopub.execute_input": "2022-08-19T08:21:14.962181Z",
     "iopub.status.busy": "2022-08-19T08:21:14.961459Z",
     "iopub.status.idle": "2022-08-19T08:21:14.972090Z",
     "shell.execute_reply": "2022-08-19T08:21:14.971436Z"
    }
   },
   "outputs": [
    {
     "data": {
      "image/svg+xml": [
       "<?xml version=\"1.0\" encoding=\"UTF-8\" standalone=\"no\"?><svg xmlns=\"http://www.w3.org/2000/svg\" xmlns:xlink=\"http://www.w3.org/1999/xlink\" contentScriptType=\"application/ecmascript\" contentStyleType=\"text/css\" height=\"12px\" preserveAspectRatio=\"none\" style=\"width:12px;height:12px;\" version=\"1.1\" viewBox=\"0 0 12 12\" width=\"12px\" zoomAndPan=\"magnify\"><defs/><g><!--MD5=[f19188ef49e11757b5c46753f95d9edc]\n",
       "@startuml\r\n",
       " skinparam monochrome true\r\n",
       "skinparam classbackgroundcolor white\r\n",
       "skinparam shadowing false\r\n",
       "skinparam wrapWidth 300\r\n",
       "hide circle\r\n",
       "\r\n",
       "@enduml\r\n",
       "\n",
       "PlantUML version 1.2020.13(Sat Jun 13 12:26:38 UTC 2020)\n",
       "(EPL source distribution)\n",
       "Java Runtime: OpenJDK Runtime Environment\n",
       "JVM: OpenJDK 64-Bit Server VM\n",
       "Default Encoding: UTF-8\n",
       "Language: en\n",
       "Country: null\n",
       "--></g></svg>"
      ]
     },
     "execution_count": 4,
     "metadata": {},
     "output_type": "execute_result"
    }
   ],
   "source": [
    "%viz --style=\"COMPTREE\" --view=\"State\" \"TradeStudyTest\""
   ]
  },
  {
   "cell_type": "code",
   "execution_count": 5,
   "id": "ee1450ed",
   "metadata": {
    "execution": {
     "iopub.execute_input": "2022-08-19T08:21:15.021145Z",
     "iopub.status.busy": "2022-08-19T08:21:15.020676Z",
     "iopub.status.idle": "2022-08-19T08:21:15.093100Z",
     "shell.execute_reply": "2022-08-19T08:21:15.092691Z"
    }
   },
   "outputs": [
    {
     "data": {
      "image/svg+xml": [
       "<?xml version=\"1.0\" encoding=\"UTF-8\" standalone=\"no\"?><svg xmlns=\"http://www.w3.org/2000/svg\" xmlns:xlink=\"http://www.w3.org/1999/xlink\" contentScriptType=\"application/ecmascript\" contentStyleType=\"text/css\" height=\"426px\" preserveAspectRatio=\"none\" style=\"width:569px;height:426px;\" version=\"1.1\" viewBox=\"0 0 569 426\" width=\"569px\" zoomAndPan=\"magnify\"><defs/><g><!--MD5=[fbc87193dbaf4d95561dea2c320d4a47]\n",
       "cluster E1--><a href=\"psysml:06d75114-8d09-4304-b9ac-1031eaaad748\" target=\"_top\" title=\"psysml:06d75114-8d09-4304-b9ac-1031eaaad748\" xlink:actuate=\"onRequest\" xlink:href=\"psysml:06d75114-8d09-4304-b9ac-1031eaaad748\" xlink:show=\"new\" xlink:title=\"psysml:06d75114-8d09-4304-b9ac-1031eaaad748\" xlink:type=\"simple\"><polygon fill=\"#FFFFFF\" points=\"16,6,132,6,139,28.2969,547,28.2969,547,414,16,414,16,6\" style=\"stroke: #000000; stroke-width: 1.5;\"/><line style=\"stroke: #000000; stroke-width: 1.5;\" x1=\"16\" x2=\"139\" y1=\"28.2969\" y2=\"28.2969\"/><text fill=\"#000000\" font-family=\"sans-serif\" font-size=\"14\" font-weight=\"bold\" lengthAdjust=\"spacingAndGlyphs\" textLength=\"110\" x=\"20\" y=\"20.9951\">TradeStudyTest</text></a><!--MD5=[de5ec2e2e8f62f467e546659f5068c88]\n",
       "cluster E5--><a href=\"psysml:a2c4dab4-2ddb-42af-80d6-b11f423fabe1\" target=\"_top\" title=\"psysml:a2c4dab4-2ddb-42af-80d6-b11f423fabe1\" xlink:actuate=\"onRequest\" xlink:href=\"psysml:a2c4dab4-2ddb-42af-80d6-b11f423fabe1\" xlink:show=\"new\" xlink:title=\"psysml:a2c4dab4-2ddb-42af-80d6-b11f423fabe1\" xlink:type=\"simple\"><rect fill=\"#FFFFFF\" height=\"129\" id=\"E5\" rx=\"10\" ry=\"10\" style=\"stroke: #383838; stroke-width: 1.5;\" width=\"199\" x=\"316\" y=\"57\"/><rect fill=\"#F8F8F8\" height=\"37.9375\" rx=\"10\" ry=\"10\" style=\"stroke: #F8F8F8; stroke-width: 1.5;\" width=\"199\" x=\"316\" y=\"57\"/><rect fill=\"#F8F8F8\" height=\"10\" style=\"stroke: #F8F8F8; stroke-width: 1.5;\" width=\"199\" x=\"316\" y=\"84.9375\"/><rect fill=\"none\" height=\"129\" id=\"E5\" rx=\"10\" ry=\"10\" style=\"stroke: #383838; stroke-width: 1.5;\" width=\"199\" x=\"316\" y=\"57\"/><text fill=\"#000000\" font-family=\"sans-serif\" font-size=\"12\" font-style=\"italic\" lengthAdjust=\"spacingAndGlyphs\" textLength=\"64\" x=\"383.5\" y=\"73.1387\">«analysis»</text><text fill=\"#000000\" font-family=\"sans-serif\" font-size=\"12\" lengthAdjust=\"spacingAndGlyphs\" textLength=\"114\" x=\"358.5\" y=\"87.1074\">engineTradeStudy</text><line style=\"stroke: #383838; stroke-width: 1.0;\" x1=\"316\" x2=\"515\" y1=\"94.9375\" y2=\"94.9375\"/></a><!--MD5=[2156ba9850f5573cc1fc38a6a4b2f02b]\n",
       "class E7--><a href=\"psysml:e59262b2-24eb-419d-a794-3b71c7229dcc\" target=\"_top\" title=\"psysml:e59262b2-24eb-419d-a794-3b71c7229dcc\" xlink:actuate=\"onRequest\" xlink:href=\"psysml:e59262b2-24eb-419d-a794-3b71c7229dcc\" xlink:show=\"new\" xlink:title=\"psysml:e59262b2-24eb-419d-a794-3b71c7229dcc\" xlink:type=\"simple\"><rect fill=\"#FFFFFF\" height=\"45.9375\" id=\"E7\" rx=\"10\" ry=\"10\" style=\"stroke: #383838; stroke-width: 1.5;\" width=\"129\" x=\"84.5\" y=\"219\"/><text fill=\"#000000\" font-family=\"sans-serif\" font-size=\"12\" font-style=\"italic\" lengthAdjust=\"spacingAndGlyphs\" textLength=\"82\" x=\"108\" y=\"235.1387\">«calculation»</text><text fill=\"#000000\" font-family=\"sans-serif\" font-size=\"12\" lengthAdjust=\"spacingAndGlyphs\" textLength=\"119\" x=\"87.5\" y=\"249.1074\">evaluationFunction</text><line style=\"stroke: #383838; stroke-width: 1.5;\" x1=\"85.5\" x2=\"212.5\" y1=\"256.9375\" y2=\"256.9375\"/></a><!--MD5=[b9389687b975829384b498ac4b7476b2]\n",
       "class E8--><a href=\"psysml:83f46fb2-5a48-4342-a61e-b1e9a3952716\" target=\"_top\" title=\"psysml:83f46fb2-5a48-4342-a61e-b1e9a3952716\" xlink:actuate=\"onRequest\" xlink:href=\"psysml:83f46fb2-5a48-4342-a61e-b1e9a3952716\" xlink:show=\"new\" xlink:title=\"psysml:83f46fb2-5a48-4342-a61e-b1e9a3952716\" xlink:type=\"simple\"><rect fill=\"#FFFFFF\" height=\"31.9688\" id=\"E8\" rx=\"10\" ry=\"10\" style=\"stroke: #383838; stroke-width: 1.5;\" width=\"128\" x=\"329\" y=\"302\"/><text fill=\"#000000\" font-family=\"sans-serif\" font-size=\"12\" lengthAdjust=\"spacingAndGlyphs\" textLength=\"118\" x=\"332\" y=\"318.1387\">alternative: Engine</text><line style=\"stroke: #383838; stroke-width: 1.5;\" x1=\"330\" x2=\"456\" y1=\"325.9688\" y2=\"325.9688\"/></a><!--MD5=[fd4143e9d270a159db93a4ea2a975926]\n",
       "class E9--><a href=\"psysml:43a96bb2-d059-439d-9037-f3d1363e69c1\" target=\"_top\" title=\"psysml:43a96bb2-d059-439d-9037-f3d1363e69c1\" xlink:actuate=\"onRequest\" xlink:href=\"psysml:43a96bb2-d059-439d-9037-f3d1363e69c1\" xlink:show=\"new\" xlink:title=\"psysml:43a96bb2-d059-439d-9037-f3d1363e69c1\" xlink:type=\"simple\"><rect fill=\"#FFFFFF\" height=\"31.9688\" id=\"E9\" rx=\"10\" ry=\"10\" style=\"stroke: #383838; stroke-width: 1.5;\" width=\"182\" x=\"249\" y=\"226\"/><text fill=\"#000000\" font-family=\"sans-serif\" font-size=\"12\" lengthAdjust=\"spacingAndGlyphs\" textLength=\"172\" x=\"252\" y=\"242.1387\">selectedAlternative: Engine</text><line style=\"stroke: #383838; stroke-width: 1.5;\" x1=\"250\" x2=\"430\" y1=\"249.9688\" y2=\"249.9688\"/></a><g id=\"E1.E2\"><a href=\"psysml:377b66bc-6410-4386-a0f5-58eac70f1599\" target=\"_top\" title=\"psysml:377b66bc-6410-4386-a0f5-58eac70f1599\" xlink:actuate=\"onRequest\" xlink:href=\"psysml:377b66bc-6410-4386-a0f5-58eac70f1599\" xlink:show=\"new\" xlink:title=\"psysml:377b66bc-6410-4386-a0f5-58eac70f1599\" xlink:type=\"simple\"><rect fill=\"#FFFFFF\" height=\"42.9375\" id=\"E2\" style=\"stroke: #383838; stroke-width: 1.5;\" width=\"75\" x=\"355.5\" y=\"355\"/><rect fill=\"#F8F8F8\" height=\"37.9375\" style=\"stroke: #383838; stroke-width: 1.5;\" width=\"75\" x=\"355.5\" y=\"355\"/><text fill=\"#000000\" font-family=\"sans-serif\" font-size=\"12\" font-style=\"italic\" lengthAdjust=\"spacingAndGlyphs\" textLength=\"68\" x=\"359\" y=\"371.1387\">«part  def»</text><text fill=\"#000000\" font-family=\"sans-serif\" font-size=\"12\" lengthAdjust=\"spacingAndGlyphs\" textLength=\"43\" x=\"371.5\" y=\"385.1074\">Engine</text></a></g><g id=\"E1.E3\"><a href=\"psysml:b73c7ebb-9472-45c7-822b-647f60ba4ebd\" target=\"_top\" title=\"psysml:b73c7ebb-9472-45c7-822b-647f60ba4ebd\" xlink:actuate=\"onRequest\" xlink:href=\"psysml:b73c7ebb-9472-45c7-822b-647f60ba4ebd\" xlink:show=\"new\" xlink:title=\"psysml:b73c7ebb-9472-45c7-822b-647f60ba4ebd\" xlink:type=\"simple\"><rect fill=\"#FFFFFF\" height=\"40\" id=\"E3\" rx=\"10\" ry=\"10\" style=\"stroke: #383838; stroke-width: 1.5;\" width=\"113\" x=\"180.5\" y=\"298\"/><rect fill=\"#F8F8F8\" height=\"23.9688\" rx=\"10\" ry=\"10\" style=\"stroke: #F8F8F8; stroke-width: 1.5;\" width=\"113\" x=\"180.5\" y=\"298\"/><rect fill=\"#F8F8F8\" height=\"10\" style=\"stroke: #F8F8F8; stroke-width: 1.5;\" width=\"113\" x=\"180.5\" y=\"311.9688\"/><rect fill=\"none\" height=\"40\" id=\"E3\" rx=\"10\" ry=\"10\" style=\"stroke: #383838; stroke-width: 1.5;\" width=\"113\" x=\"180.5\" y=\"298\"/><text fill=\"#000000\" font-family=\"sans-serif\" font-size=\"12\" lengthAdjust=\"spacingAndGlyphs\" textLength=\"102\" x=\"186\" y=\"314.1387\">engine1: Engine</text></a></g><g id=\"E1.E4\"><a href=\"psysml:383bc22a-19f8-4697-ba31-98dbfb8a50a3\" target=\"_top\" title=\"psysml:383bc22a-19f8-4697-ba31-98dbfb8a50a3\" xlink:actuate=\"onRequest\" xlink:href=\"psysml:383bc22a-19f8-4697-ba31-98dbfb8a50a3\" xlink:show=\"new\" xlink:title=\"psysml:383bc22a-19f8-4697-ba31-98dbfb8a50a3\" xlink:type=\"simple\"><rect fill=\"#FFFFFF\" height=\"40\" id=\"E4\" rx=\"10\" ry=\"10\" style=\"stroke: #383838; stroke-width: 1.5;\" width=\"113\" x=\"32.5\" y=\"298\"/><rect fill=\"#F8F8F8\" height=\"23.9688\" rx=\"10\" ry=\"10\" style=\"stroke: #F8F8F8; stroke-width: 1.5;\" width=\"113\" x=\"32.5\" y=\"298\"/><rect fill=\"#F8F8F8\" height=\"10\" style=\"stroke: #F8F8F8; stroke-width: 1.5;\" width=\"113\" x=\"32.5\" y=\"311.9688\"/><rect fill=\"none\" height=\"40\" id=\"E4\" rx=\"10\" ry=\"10\" style=\"stroke: #383838; stroke-width: 1.5;\" width=\"113\" x=\"32.5\" y=\"298\"/><text fill=\"#000000\" font-family=\"sans-serif\" font-size=\"12\" lengthAdjust=\"spacingAndGlyphs\" textLength=\"102\" x=\"38\" y=\"314.1387\">engine2: Engine</text></a></g><!--MD5=[60a26617385b1d2d0262a64233df1f8d]\n",
       "class E6--><a href=\"psysml:6f716227-75fa-479d-851c-c6728be0ecaf\" target=\"_top\" title=\"psysml:6f716227-75fa-479d-851c-c6728be0ecaf\" xlink:actuate=\"onRequest\" xlink:href=\"psysml:6f716227-75fa-479d-851c-c6728be0ecaf\" xlink:show=\"new\" xlink:title=\"psysml:6f716227-75fa-479d-851c-c6728be0ecaf\" xlink:type=\"simple\"><rect fill=\"#FFFFFF\" height=\"45.9375\" id=\"E6\" rx=\"10\" ry=\"10\" style=\"stroke: #383838; stroke-width: 1.5;\" width=\"132\" x=\"359\" y=\"116\"/><text fill=\"#000000\" font-family=\"sans-serif\" font-size=\"12\" font-style=\"italic\" lengthAdjust=\"spacingAndGlyphs\" textLength=\"70\" x=\"390\" y=\"132.1387\">«objective»</text><text fill=\"#000000\" font-family=\"sans-serif\" font-size=\"12\" lengthAdjust=\"spacingAndGlyphs\" textLength=\"126\" x=\"362\" y=\"146.1074\">tradeStudyObjective</text><line style=\"stroke: #383838; stroke-width: 1.5;\" x1=\"360\" x2=\"490\" y1=\"153.9375\" y2=\"153.9375\"/></a><!--MD5=[05d275557350bfb9b23a4ef7222b4c39]\n",
       "link E3 to E2--><a href=\"psysml:a3c7b902-deb2-42e0-bb2d-9591134be70d\" target=\"_top\" title=\"psysml:a3c7b902-deb2-42e0-bb2d-9591134be70d\" xlink:actuate=\"onRequest\" xlink:href=\"psysml:a3c7b902-deb2-42e0-bb2d-9591134be70d\" xlink:show=\"new\" xlink:title=\"psysml:a3c7b902-deb2-42e0-bb2d-9591134be70d\" xlink:type=\"simple\"><path d=\"M289.81,338.13 C304.69,343.52 320.93,349.4 336.03,354.87 \" fill=\"none\" id=\"E3-&gt;E2\" style=\"stroke: #383838; stroke-width: 1.0;\"/><polygon fill=\"#FFFFFF\" points=\"355.03,361.75,334.7819,361.875,339.5406,348.7085,355.03,361.75\" style=\"stroke: #383838; stroke-width: 1.0;\"/><ellipse cx=\"330.1011\" cy=\"358.0566\" fill=\"#383838\" rx=\"2\" ry=\"2\" style=\"stroke: #383838; stroke-width: 1.0;\"/><ellipse cx=\"333.5002\" cy=\"348.652\" fill=\"#383838\" rx=\"2\" ry=\"2\" style=\"stroke: #383838; stroke-width: 1.0;\"/></a><!--MD5=[185131fc0dcab0a4505a2ebe144e961b]\n",
       "link E4 to E2--><a href=\"psysml:ad9261f0-dda0-42b5-9d6e-43ebe8822407\" target=\"_top\" title=\"psysml:ad9261f0-dda0-42b5-9d6e-43ebe8822407\" xlink:actuate=\"onRequest\" xlink:href=\"psysml:ad9261f0-dda0-42b5-9d6e-43ebe8822407\" xlink:show=\"new\" xlink:title=\"psysml:ad9261f0-dda0-42b5-9d6e-43ebe8822407\" xlink:type=\"simple\"><path d=\"M145.84,334.14 C151.62,335.52 157.42,336.83 163,338 C221.38,350.23 288.79,360.81 335.48,367.58 \" fill=\"none\" id=\"E4-&gt;E2\" style=\"stroke: #383838; stroke-width: 1.0;\"/><polygon fill=\"#FFFFFF\" points=\"355.36,370.42,335.561,374.6626,337.5409,360.8033,355.36,370.42\" style=\"stroke: #383838; stroke-width: 1.0;\"/><ellipse cx=\"330.2011\" cy=\"371.8766\" fill=\"#383838\" rx=\"2\" ry=\"2\" style=\"stroke: #383838; stroke-width: 1.0;\"/><ellipse cx=\"331.6154\" cy=\"361.9771\" fill=\"#383838\" rx=\"2\" ry=\"2\" style=\"stroke: #383838; stroke-width: 1.0;\"/></a><!--MD5=[15ebcb19ae302d9b601edb458606d402]\n",
       "link E5 to E2--><a href=\"psysml:b52cccfc-b130-477f-adae-4c6f859e452b\" target=\"_top\" title=\"psysml:b52cccfc-b130-477f-adae-4c6f859e452b\" xlink:actuate=\"onRequest\" xlink:href=\"psysml:b52cccfc-b130-477f-adae-4c6f859e452b\" xlink:show=\"new\" xlink:title=\"psysml:b52cccfc-b130-477f-adae-4c6f859e452b\" xlink:type=\"simple\"><path d=\"M331.659,186.1627 C331.8411,186.5627 332.0273,186.9606 332.2179,187.3563 C332.5989,188.1477 332.9972,188.93 333.4133,189.7013 C334.2455,191.2439 335.1494,192.7428 336.1309,194.183 C338.0939,197.0633 340.3675,199.7088 343,202 C378.99,233.33 410.75,190.48 449,219 C480.23,242.29 478.34,260.01 487,298 C491.94,319.67 496.18,335.76 477,347 C464.34,354.42 449.46,360.26 435.78,364.68 \" fill=\"none\" id=\"E5-&gt;E2\" style=\"stroke: #383838; stroke-width: 1.0; stroke-dasharray: 7.0,7.0;\"/><polygon fill=\"#383838\" points=\"430.79,366.24,440.5753,367.3568,435.5599,364.7405,438.1761,359.725,430.79,366.24\" style=\"stroke: #383838; stroke-width: 1.0;\"/><text fill=\"#000000\" font-family=\"sans-serif\" font-size=\"13\" lengthAdjust=\"spacingAndGlyphs\" textLength=\"62\" x=\"486\" y=\"286.0669\">«subject»</text></a><!--MD5=[452b418e7f8a40397a49b8c0a78acc5b]\n",
       "reverse link E5 to E7--><a href=\"psysml:226717b4-0db0-47e0-9eef-bae3c4ff0509\" target=\"_top\" title=\"psysml:226717b4-0db0-47e0-9eef-bae3c4ff0509\" xlink:actuate=\"onRequest\" xlink:href=\"psysml:226717b4-0db0-47e0-9eef-bae3c4ff0509\" xlink:show=\"new\" xlink:title=\"psysml:226717b4-0db0-47e0-9eef-bae3c4ff0509\" xlink:type=\"simple\"><path d=\"M315.8632,144.6919 C315.7574,144.7529 315.6508,144.8144 315.5433,144.8765 C315.1131,145.1248 314.6683,145.3815 314.2093,145.6464 C312.3734,146.7061 310.3104,147.8968 308.0477,149.2028 C298.9966,154.4269 286.7481,161.4962 273.0413,169.4075 C245.6275,185.23 212.38,204.42 187.21,218.95 \" fill=\"none\" id=\"E5&lt;-E7\" style=\"stroke: #383838; stroke-width: 1.0;\"/><polygon fill=\"#FFFFFF\" points=\"315.8632,144.6919,308.6671,144.2269,305.4701,150.6906,312.6662,151.1556,315.8632,144.6919\" style=\"stroke: #383838; stroke-width: 1.0;\"/></a><!--MD5=[dc164f5e8a733ab456ef1add180e9e34]\n",
       "reverse link E7 to E8--><a href=\"psysml:6f1f84a3-2ac1-458a-baf6-caa888cc195f\" target=\"_top\" title=\"psysml:6f1f84a3-2ac1-458a-baf6-caa888cc195f\" xlink:actuate=\"onRequest\" xlink:href=\"psysml:6f1f84a3-2ac1-458a-baf6-caa888cc195f\" xlink:show=\"new\" xlink:title=\"psysml:6f1f84a3-2ac1-458a-baf6-caa888cc195f\" xlink:type=\"simple\"><path d=\"M226.45,266.49 C264.75,278.1 309.84,291.78 343.44,301.97 \" fill=\"none\" id=\"E7&lt;-E8\" style=\"stroke: #383838; stroke-width: 1.0;\"/><polygon fill=\"#FFFFFF\" points=\"213.75,262.64,218.33,268.2099,225.233,266.1245,220.653,260.5546,213.75,262.64\" style=\"stroke: #383838; stroke-width: 1.0;\"/><text fill=\"#000000\" font-family=\"sans-serif\" font-size=\"13\" lengthAdjust=\"spacingAndGlyphs\" textLength=\"8\" x=\"317.0288\" y=\"290.9767\">1</text></a><!--MD5=[f1f3f9f2fc535e6147756cb86a7f2e32]\n",
       "link E8 to E2--><a href=\"psysml:2bf4d1c6-7bac-40b1-aaaa-83952da67c38\" target=\"_top\" title=\"psysml:2bf4d1c6-7bac-40b1-aaaa-83952da67c38\" xlink:actuate=\"onRequest\" xlink:href=\"psysml:2bf4d1c6-7bac-40b1-aaaa-83952da67c38\" xlink:show=\"new\" xlink:title=\"psysml:2bf4d1c6-7bac-40b1-aaaa-83952da67c38\" xlink:type=\"simple\"><path d=\"M393,334.14 C393,334.24 393,334.34 393,334.44 \" fill=\"none\" id=\"E8-&gt;E2\" style=\"stroke: #383838; stroke-width: 1.0;\"/><polygon fill=\"#FFFFFF\" points=\"393,354.58,386,335.58,400,335.58,393,354.58\" style=\"stroke: #383838; stroke-width: 1.0;\"/><ellipse cx=\"388\" cy=\"329.88\" fill=\"#383838\" rx=\"2\" ry=\"2\" style=\"stroke: #383838; stroke-width: 1.0;\"/><ellipse cx=\"398\" cy=\"329.88\" fill=\"#383838\" rx=\"2\" ry=\"2\" style=\"stroke: #383838; stroke-width: 1.0;\"/><line style=\"stroke: #383838; stroke-width: 1.0;\" x1=\"393\" x2=\"393\" y1=\"334.14\" y2=\"354.58\"/></a><!--MD5=[9ae28de373ca99bb8a1b38d63370ca7e]\n",
       "reverse link E5 to E9--><a href=\"psysml:eedf805a-a406-401d-b38e-104ba6f0fce6\" target=\"_top\" title=\"psysml:eedf805a-a406-401d-b38e-104ba6f0fce6\" xlink:actuate=\"onRequest\" xlink:href=\"psysml:eedf805a-a406-401d-b38e-104ba6f0fce6\" xlink:show=\"new\" xlink:title=\"psysml:eedf805a-a406-401d-b38e-104ba6f0fce6\" xlink:type=\"simple\"><path d=\"M331.3115,186.1541 C331.3575,186.4444 331.4036,186.7349 331.4496,187.0256 C332.1866,191.6761 332.9298,196.366 333.6541,200.9367 C335.1025,210.0781 336.475,218.7425 337.57,225.66 \" fill=\"none\" id=\"E5&lt;-E9\" style=\"stroke: #383838; stroke-width: 1.0;\"/><polygon fill=\"#FFFFFF\" points=\"331.3115,186.1541,328.3,192.7062,333.1898,198.0062,336.2014,191.454,331.3115,186.1541\" style=\"stroke: #383838; stroke-width: 1.0;\"/><text fill=\"#000000\" font-family=\"sans-serif\" font-size=\"13\" lengthAdjust=\"spacingAndGlyphs\" textLength=\"8\" x=\"327.4401\" y=\"214.8571\">1</text></a><!--MD5=[5c3bb36fe832a92c7f0e1807dd65209d]\n",
       "link E9 to E2--><a href=\"psysml:3213573e-39ef-4dfb-813d-bdfb08b6e367\" target=\"_top\" title=\"psysml:3213573e-39ef-4dfb-813d-bdfb08b6e367\" xlink:actuate=\"onRequest\" xlink:href=\"psysml:3213573e-39ef-4dfb-813d-bdfb08b6e367\" xlink:show=\"new\" xlink:title=\"psysml:3213573e-39ef-4dfb-813d-bdfb08b6e367\" xlink:type=\"simple\"><path d=\"M364.22,258.04 C382.07,268.48 407.27,281.92 431,290 C449.81,296.41 462.26,282.74 475,298 C486.39,311.65 484.61,323.04 475,338 C468.81,347.63 459.47,354.82 449.28,360.18 \" fill=\"none\" id=\"E9-&gt;E2\" style=\"stroke: #383838; stroke-width: 1.0;\"/><polygon fill=\"#FFFFFF\" points=\"430.52,367.97,445.382,354.2179,450.7517,367.1472,430.52,367.97\" style=\"stroke: #383838; stroke-width: 1.0;\"/><ellipse cx=\"451.4132\" cy=\"353.8787\" fill=\"#383838\" rx=\"2\" ry=\"2\" style=\"stroke: #383838; stroke-width: 1.0;\"/><ellipse cx=\"455.2487\" cy=\"363.1139\" fill=\"#383838\" rx=\"2\" ry=\"2\" style=\"stroke: #383838; stroke-width: 1.0;\"/></a><!--MD5=[c087b6988153a9bf92070aaa1a14f05d]\n",
       "@startuml\r\n",
       "skinparam ranksep 10\r\n",
       "skinparam rectangle {\r\n",
       " backgroundColor<<block>> LightGreen\r\n",
       "}\r\n",
       " skinparam monochrome true\r\n",
       "skinparam classbackgroundcolor white\r\n",
       "skinparam shadowing false\r\n",
       "skinparam wrapWidth 300\r\n",
       "hide circle\r\n",
       "\r\n",
       "package \"TradeStudyTest\" as E1  [[psysml:06d75114-8d09-4304-b9ac-1031eaaad748 ]]  {\r\n",
       "rec def \"Engine\" as E2  <<(T,blue) part  def>> [[psysml:377b66bc-6410-4386-a0f5-58eac70f1599 ]] {\r\n",
       "}\r\n",
       "rec usage \"engine1: Engine\" as E3  [[psysml:b73c7ebb-9472-45c7-822b-647f60ba4ebd ]] {\r\n",
       "}\r\n",
       "rec usage \"engine2: Engine\" as E4  [[psysml:383bc22a-19f8-4697-ba31-98dbfb8a50a3 ]] {\r\n",
       "}\r\n",
       "rec usage \"engineTradeStudy\" as E5 << analysis>> [[psysml:a2c4dab4-2ddb-42af-80d6-b11f423fabe1 ]] {\r\n",
       "comp usage \"tradeStudyObjective\" as E6  <<objective>> [[psysml:6f716227-75fa-479d-851c-c6728be0ecaf ]] {\r\n",
       "}\r\n",
       "}\r\n",
       "comp usage \"evaluationFunction \" as E7  <<(T,blue) calculation>> [[psysml:e59262b2-24eb-419d-a794-3b71c7229dcc ]] {\r\n",
       "}\r\n",
       "comp usage \"alternative: Engine \" as E8  [[psysml:83f46fb2-5a48-4342-a61e-b1e9a3952716 ]] {\r\n",
       "}\r\n",
       "comp usage \"selectedAlternative: Engine \" as E9  [[psysml:43a96bb2-d059-439d-9037-f3d1363e69c1 ]] {\r\n",
       "}\r\n",
       "}\r\n",
       "E3 - -:|> E2 [[psysml:a3c7b902-deb2-42e0-bb2d-9591134be70d ]] \r\n",
       "E4 - -:|> E2 [[psysml:ad9261f0-dda0-42b5-9d6e-43ebe8822407 ]] \r\n",
       "E5 ..> E2 [[psysml:b52cccfc-b130-477f-adae-4c6f859e452b ]] : <<subject>>\r\n",
       "E5 o- - E7 [[psysml:226717b4-0db0-47e0-9eef-bae3c4ff0509 ]] \r\n",
       "E7 o- - \"1\"E8 [[psysml:6f1f84a3-2ac1-458a-baf6-caa888cc195f ]] \r\n",
       "E8 - -:|> E2 [[psysml:2bf4d1c6-7bac-40b1-aaaa-83952da67c38 ]] \r\n",
       "E5 o- - \"1\"E9 [[psysml:eedf805a-a406-401d-b38e-104ba6f0fce6 ]] \r\n",
       "E9 - -:|> E2 [[psysml:3213573e-39ef-4dfb-813d-bdfb08b6e367 ]] \r\n",
       "@enduml\r\n",
       "\n",
       "PlantUML version 1.2020.13(Sat Jun 13 12:26:38 UTC 2020)\n",
       "(EPL source distribution)\n",
       "Java Runtime: OpenJDK Runtime Environment\n",
       "JVM: OpenJDK 64-Bit Server VM\n",
       "Default Encoding: UTF-8\n",
       "Language: en\n",
       "Country: null\n",
       "--></g></svg>"
      ]
     },
     "execution_count": 5,
     "metadata": {},
     "output_type": "execute_result"
    }
   ],
   "source": [
    "%viz --style=\"COMPTREE\" --view=\"Interconnection\" \"TradeStudyTest\""
   ]
  },
  {
   "cell_type": "code",
   "execution_count": 6,
   "id": "3b3ba6e1",
   "metadata": {
    "execution": {
     "iopub.execute_input": "2022-08-19T08:21:15.142929Z",
     "iopub.status.busy": "2022-08-19T08:21:15.142470Z",
     "iopub.status.idle": "2022-08-19T08:21:15.192911Z",
     "shell.execute_reply": "2022-08-19T08:21:15.193242Z"
    }
   },
   "outputs": [
    {
     "data": {
      "image/svg+xml": [
       "<?xml version=\"1.0\" encoding=\"UTF-8\" standalone=\"no\"?><svg xmlns=\"http://www.w3.org/2000/svg\" xmlns:xlink=\"http://www.w3.org/1999/xlink\" contentScriptType=\"application/ecmascript\" contentStyleType=\"text/css\" height=\"227px\" preserveAspectRatio=\"none\" style=\"width:442px;height:227px;\" version=\"1.1\" viewBox=\"0 0 442 227\" width=\"442px\" zoomAndPan=\"magnify\"><defs/><g><!--MD5=[fbc87193dbaf4d95561dea2c320d4a47]\n",
       "cluster E1--><a href=\"psysml:a2c4dab4-2ddb-42af-80d6-b11f423fabe1\" target=\"_top\" title=\"psysml:a2c4dab4-2ddb-42af-80d6-b11f423fabe1\" xlink:actuate=\"onRequest\" xlink:href=\"psysml:a2c4dab4-2ddb-42af-80d6-b11f423fabe1\" xlink:show=\"new\" xlink:title=\"psysml:a2c4dab4-2ddb-42af-80d6-b11f423fabe1\" xlink:type=\"simple\"><rect fill=\"#FFFFFF\" height=\"174.36\" id=\"E1\" rx=\"10\" ry=\"10\" style=\"stroke: #383838; stroke-width: 1.5;\" width=\"317\" x=\"47\" y=\"42.0986\"/><rect fill=\"#F8F8F8\" height=\"37.9375\" rx=\"10\" ry=\"10\" style=\"stroke: #F8F8F8; stroke-width: 1.5;\" width=\"317\" x=\"47\" y=\"42.0986\"/><rect fill=\"#F8F8F8\" height=\"10\" style=\"stroke: #F8F8F8; stroke-width: 1.5;\" width=\"317\" x=\"47\" y=\"70.0361\"/><rect fill=\"none\" height=\"174.36\" id=\"E1\" rx=\"10\" ry=\"10\" style=\"stroke: #383838; stroke-width: 1.5;\" width=\"317\" x=\"47\" y=\"42.0986\"/><text fill=\"#000000\" font-family=\"sans-serif\" font-size=\"12\" font-style=\"italic\" lengthAdjust=\"spacingAndGlyphs\" textLength=\"64\" x=\"173.5\" y=\"58.2373\">«analysis»</text><text fill=\"#000000\" font-family=\"sans-serif\" font-size=\"12\" lengthAdjust=\"spacingAndGlyphs\" textLength=\"114\" x=\"148.5\" y=\"72.2061\">engineTradeStudy</text><line style=\"stroke: #383838; stroke-width: 1.0;\" x1=\"47\" x2=\"364\" y1=\"80.0361\" y2=\"80.0361\"/></a><!--MD5=[d5e69f78d87373223dbae638b30a9c99]\n",
       "cluster E3--><a href=\"psysml:e59262b2-24eb-419d-a794-3b71c7229dcc\" target=\"_top\" title=\"psysml:e59262b2-24eb-419d-a794-3b71c7229dcc\" xlink:actuate=\"onRequest\" xlink:href=\"psysml:e59262b2-24eb-419d-a794-3b71c7229dcc\" xlink:show=\"new\" xlink:title=\"psysml:e59262b2-24eb-419d-a794-3b71c7229dcc\" xlink:type=\"simple\"><rect fill=\"#FFFFFF\" height=\"104.86\" id=\"E3\" rx=\"10\" ry=\"10\" style=\"stroke: #383838; stroke-width: 1.5;\" width=\"178\" x=\"145\" y=\"81.5986\"/><rect fill=\"#F8F8F8\" height=\"37.9375\" rx=\"10\" ry=\"10\" style=\"stroke: #F8F8F8; stroke-width: 1.5;\" width=\"178\" x=\"145\" y=\"81.5986\"/><rect fill=\"#F8F8F8\" height=\"10\" style=\"stroke: #F8F8F8; stroke-width: 1.5;\" width=\"178\" x=\"145\" y=\"109.5361\"/><rect fill=\"none\" height=\"104.86\" id=\"E3\" rx=\"10\" ry=\"10\" style=\"stroke: #383838; stroke-width: 1.5;\" width=\"178\" x=\"145\" y=\"81.5986\"/><text fill=\"#000000\" font-family=\"sans-serif\" font-size=\"12\" font-style=\"italic\" lengthAdjust=\"spacingAndGlyphs\" textLength=\"82\" x=\"193\" y=\"97.7373\">«calculation»</text><text fill=\"#000000\" font-family=\"sans-serif\" font-size=\"12\" lengthAdjust=\"spacingAndGlyphs\" textLength=\"119\" x=\"174.5\" y=\"111.7061\">evaluationFunction</text><line style=\"stroke: #383838; stroke-width: 1.0;\" x1=\"145\" x2=\"323\" y1=\"119.5361\" y2=\"119.5361\"/></a><text fill=\"#000000\" font-family=\"sans-serif\" font-size=\"14\" lengthAdjust=\"spacingAndGlyphs\" textLength=\"118\" x=\"6\" y=\"20.7969\">studyAlternatives</text><rect fill=\"#383838\" height=\"12\" style=\"stroke: #F8F8F8; stroke-width: 1.5;\" width=\"12\" x=\"59\" y=\"36.0986\"/><text fill=\"#000000\" font-family=\"sans-serif\" font-size=\"14\" lengthAdjust=\"spacingAndGlyphs\" textLength=\"132\" x=\"298\" y=\"183.0938\">selectedAlternative</text><rect fill=\"#383838\" height=\"12\" style=\"stroke: #F8F8F8; stroke-width: 1.5;\" width=\"12\" x=\"358\" y=\"158.0986\"/><text fill=\"#000000\" font-family=\"sans-serif\" font-size=\"14\" lengthAdjust=\"spacingAndGlyphs\" textLength=\"71\" x=\"198.5\" y=\"60.2969\">alternative</text><rect fill=\"#383838\" height=\"12\" style=\"stroke: #F8F8F8; stroke-width: 1.5;\" width=\"12\" x=\"228\" y=\"75.5986\"/><text fill=\"#000000\" font-family=\"sans-serif\" font-size=\"14\" lengthAdjust=\"spacingAndGlyphs\" textLength=\"39\" x=\"214.5\" y=\"205.4538\">result</text><rect fill=\"#383838\" height=\"12\" style=\"stroke: #F8F8F8; stroke-width: 1.5;\" width=\"12\" x=\"228\" y=\"180.4586\"/><!--MD5=[171a09d44074094e43fc5f1b43535270]\n",
       "@startuml\r\n",
       "skinparam ranksep 8\r\n",
       " skinparam monochrome true\r\n",
       "skinparam classbackgroundcolor white\r\n",
       "skinparam shadowing false\r\n",
       "skinparam wrapWidth 300\r\n",
       "hide circle\r\n",
       "\r\n",
       "rec usage \"engineTradeStudy\" as E1 << analysis>> [[psysml:a2c4dab4-2ddb-42af-80d6-b11f423fabe1 ]] {\r\n",
       "portin \"studyAlternatives\" as E2  [[psysml:ba51db2a-337d-4796-9152-a1747789732e ]] \r\n",
       "rec usage \"evaluationFunction\" as E3  <<(T,blue) calculation>> [[psysml:e59262b2-24eb-419d-a794-3b71c7229dcc ]] {\r\n",
       "portin \"alternative\" as E4  [[psysml:83f46fb2-5a48-4342-a61e-b1e9a3952716 ]] \r\n",
       "portout \"result\" as E5  [[psysml:9307401e-c2bc-4ae8-a206-942b4cc90813 ]] \r\n",
       "}\r\n",
       "\r\n",
       "portout \"selectedAlternative\" as E6  [[psysml:43a96bb2-d059-439d-9037-f3d1363e69c1 ]] \r\n",
       "}\r\n",
       "\r\n",
       "@enduml\r\n",
       "\n",
       "PlantUML version 1.2020.13(Sat Jun 13 12:26:38 UTC 2020)\n",
       "(EPL source distribution)\n",
       "Java Runtime: OpenJDK Runtime Environment\n",
       "JVM: OpenJDK 64-Bit Server VM\n",
       "Default Encoding: UTF-8\n",
       "Language: en\n",
       "Country: null\n",
       "--></g></svg>"
      ]
     },
     "execution_count": 6,
     "metadata": {},
     "output_type": "execute_result"
    }
   ],
   "source": [
    "%viz --style=\"COMPTREE\" --view=\"Action\" \"TradeStudyTest\""
   ]
  },
  {
   "cell_type": "code",
   "execution_count": 7,
   "id": "d74191e5",
   "metadata": {
    "execution": {
     "iopub.execute_input": "2022-08-19T08:21:15.243415Z",
     "iopub.status.busy": "2022-08-19T08:21:15.242956Z",
     "iopub.status.idle": "2022-08-19T08:21:15.258241Z",
     "shell.execute_reply": "2022-08-19T08:21:15.258564Z"
    }
   },
   "outputs": [
    {
     "data": {
      "image/svg+xml": [
       "<?xml version=\"1.0\" encoding=\"UTF-8\" standalone=\"no\"?><svg xmlns=\"http://www.w3.org/2000/svg\" xmlns:xlink=\"http://www.w3.org/1999/xlink\" contentScriptType=\"application/ecmascript\" contentStyleType=\"text/css\" height=\"12px\" preserveAspectRatio=\"none\" style=\"width:12px;height:12px;\" version=\"1.1\" viewBox=\"0 0 12 12\" width=\"12px\" zoomAndPan=\"magnify\"><defs/><g><!--MD5=[803fc46c337be7a5c8a9831e35356779]\n",
       "@startuml\r\n",
       "skinparam roundcorner 20\r\n",
       "skinparam BoxPadding 20\r\n",
       "skinparam SequenceBoxBackgroundColor #white\r\n",
       "skinparam style strictuml\r\n",
       "skinparam maxMessageSize 100\r\n",
       " skinparam monochrome true\r\n",
       "skinparam classbackgroundcolor white\r\n",
       "skinparam shadowing false\r\n",
       "skinparam wrapWidth 300\r\n",
       "hide circle\r\n",
       "\r\n",
       "@enduml\r\n",
       "\n",
       "PlantUML version 1.2020.13(Sat Jun 13 12:26:38 UTC 2020)\n",
       "(EPL source distribution)\n",
       "Java Runtime: OpenJDK Runtime Environment\n",
       "JVM: OpenJDK 64-Bit Server VM\n",
       "Default Encoding: UTF-8\n",
       "Language: en\n",
       "Country: null\n",
       "--></g></svg>"
      ]
     },
     "execution_count": 7,
     "metadata": {},
     "output_type": "execute_result"
    }
   ],
   "source": [
    "%viz --style=\"COMPTREE\" --view=\"Sequence\" \"TradeStudyTest\""
   ]
  },
  {
   "cell_type": "code",
   "execution_count": 8,
   "id": "6f4f8f38",
   "metadata": {
    "execution": {
     "iopub.execute_input": "2022-08-19T08:21:15.308945Z",
     "iopub.status.busy": "2022-08-19T08:21:15.308490Z",
     "iopub.status.idle": "2022-08-19T08:21:15.378800Z",
     "shell.execute_reply": "2022-08-19T08:21:15.379227Z"
    }
   },
   "outputs": [
    {
     "data": {
      "image/svg+xml": [
       "<?xml version=\"1.0\" encoding=\"UTF-8\" standalone=\"no\"?><svg xmlns=\"http://www.w3.org/2000/svg\" xmlns:xlink=\"http://www.w3.org/1999/xlink\" contentScriptType=\"application/ecmascript\" contentStyleType=\"text/css\" height=\"545px\" preserveAspectRatio=\"none\" style=\"width:566px;height:545px;\" version=\"1.1\" viewBox=\"0 0 566 545\" width=\"566px\" zoomAndPan=\"magnify\"><defs/><g><!--MD5=[fbc87193dbaf4d95561dea2c320d4a47]\n",
       "cluster E1--><a href=\"psysml:06d75114-8d09-4304-b9ac-1031eaaad748\" target=\"_top\" title=\"psysml:06d75114-8d09-4304-b9ac-1031eaaad748\" xlink:actuate=\"onRequest\" xlink:href=\"psysml:06d75114-8d09-4304-b9ac-1031eaaad748\" xlink:show=\"new\" xlink:title=\"psysml:06d75114-8d09-4304-b9ac-1031eaaad748\" xlink:type=\"simple\"><polygon fill=\"#FFFFFF\" points=\"16,6,132,6,139,28.2969,544,28.2969,544,533,16,533,16,6\" style=\"stroke: #000000; stroke-width: 1.5;\"/><line style=\"stroke: #000000; stroke-width: 1.5;\" x1=\"16\" x2=\"139\" y1=\"28.2969\" y2=\"28.2969\"/><text fill=\"#000000\" font-family=\"sans-serif\" font-size=\"14\" font-weight=\"bold\" lengthAdjust=\"spacingAndGlyphs\" textLength=\"110\" x=\"20\" y=\"20.9951\">TradeStudyTest</text></a><!--MD5=[de5ec2e2e8f62f467e546659f5068c88]\n",
       "cluster E5--><a href=\"psysml:a2c4dab4-2ddb-42af-80d6-b11f423fabe1\" target=\"_top\" title=\"psysml:a2c4dab4-2ddb-42af-80d6-b11f423fabe1\" xlink:actuate=\"onRequest\" xlink:href=\"psysml:a2c4dab4-2ddb-42af-80d6-b11f423fabe1\" xlink:show=\"new\" xlink:title=\"psysml:a2c4dab4-2ddb-42af-80d6-b11f423fabe1\" xlink:type=\"simple\"><rect fill=\"#FFFFFF\" height=\"129\" id=\"E5\" rx=\"10\" ry=\"10\" style=\"stroke: #383838; stroke-width: 1.5;\" width=\"199\" x=\"238\" y=\"57\"/><rect fill=\"#F8F8F8\" height=\"37.9375\" rx=\"10\" ry=\"10\" style=\"stroke: #F8F8F8; stroke-width: 1.5;\" width=\"199\" x=\"238\" y=\"57\"/><rect fill=\"#F8F8F8\" height=\"10\" style=\"stroke: #F8F8F8; stroke-width: 1.5;\" width=\"199\" x=\"238\" y=\"84.9375\"/><rect fill=\"none\" height=\"129\" id=\"E5\" rx=\"10\" ry=\"10\" style=\"stroke: #383838; stroke-width: 1.5;\" width=\"199\" x=\"238\" y=\"57\"/><text fill=\"#000000\" font-family=\"sans-serif\" font-size=\"12\" font-style=\"italic\" lengthAdjust=\"spacingAndGlyphs\" textLength=\"64\" x=\"305.5\" y=\"73.1387\">«analysis»</text><text fill=\"#000000\" font-family=\"sans-serif\" font-size=\"12\" lengthAdjust=\"spacingAndGlyphs\" textLength=\"114\" x=\"280.5\" y=\"87.1074\">engineTradeStudy</text><line style=\"stroke: #383838; stroke-width: 1.0;\" x1=\"238\" x2=\"437\" y1=\"94.9375\" y2=\"94.9375\"/></a><!--MD5=[b4997ac47864f28c2f74865a473b2911]\n",
       "class E2--><a href=\"psysml:377b66bc-6410-4386-a0f5-58eac70f1599\" target=\"_top\" title=\"psysml:377b66bc-6410-4386-a0f5-58eac70f1599\" xlink:actuate=\"onRequest\" xlink:href=\"psysml:377b66bc-6410-4386-a0f5-58eac70f1599\" xlink:show=\"new\" xlink:title=\"psysml:377b66bc-6410-4386-a0f5-58eac70f1599\" xlink:type=\"simple\"><rect fill=\"#FFFFFF\" height=\"45.9375\" id=\"E2\" style=\"stroke: #383838; stroke-width: 1.5;\" width=\"70\" x=\"292\" y=\"471\"/><text fill=\"#000000\" font-family=\"sans-serif\" font-size=\"12\" font-style=\"italic\" lengthAdjust=\"spacingAndGlyphs\" textLength=\"68\" x=\"293\" y=\"487.1387\">«part  def»</text><text fill=\"#000000\" font-family=\"sans-serif\" font-size=\"12\" lengthAdjust=\"spacingAndGlyphs\" textLength=\"43\" x=\"305.5\" y=\"501.1074\">Engine</text><line style=\"stroke: #383838; stroke-width: 1.5;\" x1=\"293\" x2=\"361\" y1=\"508.9375\" y2=\"508.9375\"/></a><!--MD5=[09b614a08d8cba4a07c9adeb5e0fee81]\n",
       "class E3--><a href=\"psysml:b73c7ebb-9472-45c7-822b-647f60ba4ebd\" target=\"_top\" title=\"psysml:b73c7ebb-9472-45c7-822b-647f60ba4ebd\" xlink:actuate=\"onRequest\" xlink:href=\"psysml:b73c7ebb-9472-45c7-822b-647f60ba4ebd\" xlink:show=\"new\" xlink:title=\"psysml:b73c7ebb-9472-45c7-822b-647f60ba4ebd\" xlink:type=\"simple\"><rect fill=\"#FFFFFF\" height=\"45.9375\" id=\"E3\" rx=\"10\" ry=\"10\" style=\"stroke: #383838; stroke-width: 1.5;\" width=\"112\" x=\"179\" y=\"364\"/><text fill=\"#000000\" font-family=\"sans-serif\" font-size=\"12\" font-style=\"italic\" lengthAdjust=\"spacingAndGlyphs\" textLength=\"40\" x=\"215\" y=\"380.1387\">«part»</text><text fill=\"#000000\" font-family=\"sans-serif\" font-size=\"12\" lengthAdjust=\"spacingAndGlyphs\" textLength=\"102\" x=\"182\" y=\"394.1074\">engine1: Engine</text><line style=\"stroke: #383838; stroke-width: 1.5;\" x1=\"180\" x2=\"290\" y1=\"401.9375\" y2=\"401.9375\"/></a><!--MD5=[ebbe1d658d1005bcc118a6aa81145e00]\n",
       "class E4--><a href=\"psysml:383bc22a-19f8-4697-ba31-98dbfb8a50a3\" target=\"_top\" title=\"psysml:383bc22a-19f8-4697-ba31-98dbfb8a50a3\" xlink:actuate=\"onRequest\" xlink:href=\"psysml:383bc22a-19f8-4697-ba31-98dbfb8a50a3\" xlink:show=\"new\" xlink:title=\"psysml:383bc22a-19f8-4697-ba31-98dbfb8a50a3\" xlink:type=\"simple\"><rect fill=\"#FFFFFF\" height=\"45.9375\" id=\"E4\" rx=\"10\" ry=\"10\" style=\"stroke: #383838; stroke-width: 1.5;\" width=\"112\" x=\"32\" y=\"364\"/><text fill=\"#000000\" font-family=\"sans-serif\" font-size=\"12\" font-style=\"italic\" lengthAdjust=\"spacingAndGlyphs\" textLength=\"40\" x=\"68\" y=\"380.1387\">«part»</text><text fill=\"#000000\" font-family=\"sans-serif\" font-size=\"12\" lengthAdjust=\"spacingAndGlyphs\" textLength=\"102\" x=\"35\" y=\"394.1074\">engine2: Engine</text><line style=\"stroke: #383838; stroke-width: 1.5;\" x1=\"33\" x2=\"143\" y1=\"401.9375\" y2=\"401.9375\"/></a><!--MD5=[2156ba9850f5573cc1fc38a6a4b2f02b]\n",
       "class E7--><a href=\"psysml:e59262b2-24eb-419d-a794-3b71c7229dcc\" target=\"_top\" title=\"psysml:e59262b2-24eb-419d-a794-3b71c7229dcc\" xlink:actuate=\"onRequest\" xlink:href=\"psysml:e59262b2-24eb-419d-a794-3b71c7229dcc\" xlink:show=\"new\" xlink:title=\"psysml:e59262b2-24eb-419d-a794-3b71c7229dcc\" xlink:type=\"simple\"><rect fill=\"#FFFFFF\" height=\"45.9375\" id=\"E7\" rx=\"10\" ry=\"10\" style=\"stroke: #383838; stroke-width: 1.5;\" width=\"129\" x=\"181.5\" y=\"241\"/><text fill=\"#000000\" font-family=\"sans-serif\" font-size=\"12\" font-style=\"italic\" lengthAdjust=\"spacingAndGlyphs\" textLength=\"82\" x=\"205\" y=\"257.1387\">«calculation»</text><text fill=\"#000000\" font-family=\"sans-serif\" font-size=\"12\" lengthAdjust=\"spacingAndGlyphs\" textLength=\"119\" x=\"184.5\" y=\"271.1074\">evaluationFunction</text><line style=\"stroke: #383838; stroke-width: 1.5;\" x1=\"182.5\" x2=\"309.5\" y1=\"278.9375\" y2=\"278.9375\"/></a><!--MD5=[b9389687b975829384b498ac4b7476b2]\n",
       "class E8--><a href=\"psysml:83f46fb2-5a48-4342-a61e-b1e9a3952716\" target=\"_top\" title=\"psysml:83f46fb2-5a48-4342-a61e-b1e9a3952716\" xlink:actuate=\"onRequest\" xlink:href=\"psysml:83f46fb2-5a48-4342-a61e-b1e9a3952716\" xlink:show=\"new\" xlink:title=\"psysml:83f46fb2-5a48-4342-a61e-b1e9a3952716\" xlink:type=\"simple\"><rect fill=\"#FFFFFF\" height=\"45.9375\" id=\"E8\" rx=\"10\" ry=\"10\" style=\"stroke: #383838; stroke-width: 1.5;\" width=\"128\" x=\"363\" y=\"364\"/><text fill=\"#000000\" font-family=\"sans-serif\" font-size=\"12\" font-style=\"italic\" lengthAdjust=\"spacingAndGlyphs\" textLength=\"40\" x=\"407\" y=\"380.1387\">«part»</text><text fill=\"#000000\" font-family=\"sans-serif\" font-size=\"12\" lengthAdjust=\"spacingAndGlyphs\" textLength=\"118\" x=\"366\" y=\"394.1074\">alternative: Engine</text><line style=\"stroke: #383838; stroke-width: 1.5;\" x1=\"364\" x2=\"490\" y1=\"401.9375\" y2=\"401.9375\"/></a><!--MD5=[fd4143e9d270a159db93a4ea2a975926]\n",
       "class E9--><a href=\"psysml:43a96bb2-d059-439d-9037-f3d1363e69c1\" target=\"_top\" title=\"psysml:43a96bb2-d059-439d-9037-f3d1363e69c1\" xlink:actuate=\"onRequest\" xlink:href=\"psysml:43a96bb2-d059-439d-9037-f3d1363e69c1\" xlink:show=\"new\" xlink:title=\"psysml:43a96bb2-d059-439d-9037-f3d1363e69c1\" xlink:type=\"simple\"><rect fill=\"#FFFFFF\" height=\"45.9375\" id=\"E9\" rx=\"10\" ry=\"10\" style=\"stroke: #383838; stroke-width: 1.5;\" width=\"182\" x=\"346\" y=\"241\"/><text fill=\"#000000\" font-family=\"sans-serif\" font-size=\"12\" font-style=\"italic\" lengthAdjust=\"spacingAndGlyphs\" textLength=\"40\" x=\"417\" y=\"257.1387\">«part»</text><text fill=\"#000000\" font-family=\"sans-serif\" font-size=\"12\" lengthAdjust=\"spacingAndGlyphs\" textLength=\"172\" x=\"349\" y=\"271.1074\">selectedAlternative: Engine</text><line style=\"stroke: #383838; stroke-width: 1.5;\" x1=\"347\" x2=\"527\" y1=\"278.9375\" y2=\"278.9375\"/></a><!--MD5=[60a26617385b1d2d0262a64233df1f8d]\n",
       "class E6--><a href=\"psysml:6f716227-75fa-479d-851c-c6728be0ecaf\" target=\"_top\" title=\"psysml:6f716227-75fa-479d-851c-c6728be0ecaf\" xlink:actuate=\"onRequest\" xlink:href=\"psysml:6f716227-75fa-479d-851c-c6728be0ecaf\" xlink:show=\"new\" xlink:title=\"psysml:6f716227-75fa-479d-851c-c6728be0ecaf\" xlink:type=\"simple\"><rect fill=\"#FFFFFF\" height=\"45.9375\" id=\"E6\" rx=\"10\" ry=\"10\" style=\"stroke: #383838; stroke-width: 1.5;\" width=\"132\" x=\"281\" y=\"116\"/><text fill=\"#000000\" font-family=\"sans-serif\" font-size=\"12\" font-style=\"italic\" lengthAdjust=\"spacingAndGlyphs\" textLength=\"70\" x=\"312\" y=\"132.1387\">«objective»</text><text fill=\"#000000\" font-family=\"sans-serif\" font-size=\"12\" lengthAdjust=\"spacingAndGlyphs\" textLength=\"126\" x=\"284\" y=\"146.1074\">tradeStudyObjective</text><line style=\"stroke: #383838; stroke-width: 1.5;\" x1=\"282\" x2=\"412\" y1=\"153.9375\" y2=\"153.9375\"/></a><!--MD5=[05d275557350bfb9b23a4ef7222b4c39]\n",
       "link E3 to E2--><a href=\"psysml:a3c7b902-deb2-42e0-bb2d-9591134be70d\" target=\"_top\" title=\"psysml:a3c7b902-deb2-42e0-bb2d-9591134be70d\" xlink:actuate=\"onRequest\" xlink:href=\"psysml:a3c7b902-deb2-42e0-bb2d-9591134be70d\" xlink:show=\"new\" xlink:title=\"psysml:a3c7b902-deb2-42e0-bb2d-9591134be70d\" xlink:type=\"simple\"><path d=\"M254.29,410.01 C265.74,423.08 280.57,440.01 293.86,455.17 \" fill=\"none\" id=\"E3-&gt;E2\" style=\"stroke: #383838; stroke-width: 1.0;\"/><polygon fill=\"#FFFFFF\" points=\"307.42,470.66,289.6319,460.9861,300.1599,451.7578,307.42,470.66\" style=\"stroke: #383838; stroke-width: 1.0;\"/><ellipse cx=\"287.3787\" cy=\"455.3814\" fill=\"#383838\" rx=\"2\" ry=\"2\" style=\"stroke: #383838; stroke-width: 1.0;\"/><ellipse cx=\"294.8987\" cy=\"448.7898\" fill=\"#383838\" rx=\"2\" ry=\"2\" style=\"stroke: #383838; stroke-width: 1.0;\"/></a><!--MD5=[185131fc0dcab0a4505a2ebe144e961b]\n",
       "link E4 to E2--><a href=\"psysml:ad9261f0-dda0-42b5-9d6e-43ebe8822407\" target=\"_top\" title=\"psysml:ad9261f0-dda0-42b5-9d6e-43ebe8822407\" xlink:actuate=\"onRequest\" xlink:href=\"psysml:ad9261f0-dda0-42b5-9d6e-43ebe8822407\" xlink:show=\"new\" xlink:title=\"psysml:ad9261f0-dda0-42b5-9d6e-43ebe8822407\" xlink:type=\"simple\"><path d=\"M138.1,410.01 C177.63,427.38 232.65,451.55 273.12,469.33 \" fill=\"none\" id=\"E4-&gt;E2\" style=\"stroke: #383838; stroke-width: 1.0;\"/><polygon fill=\"#FFFFFF\" points=\"291.69,477.49,271.479,476.2594,277.1083,463.4411,291.69,477.49\" style=\"stroke: #383838; stroke-width: 1.0;\"/><ellipse cx=\"267.0642\" cy=\"472.1363\" fill=\"#383838\" rx=\"2\" ry=\"2\" style=\"stroke: #383838; stroke-width: 1.0;\"/><ellipse cx=\"271.0852\" cy=\"462.9803\" fill=\"#383838\" rx=\"2\" ry=\"2\" style=\"stroke: #383838; stroke-width: 1.0;\"/></a><!--MD5=[15ebcb19ae302d9b601edb458606d402]\n",
       "link E5 to E2--><a href=\"psysml:b52cccfc-b130-477f-adae-4c6f859e452b\" target=\"_top\" title=\"psysml:b52cccfc-b130-477f-adae-4c6f859e452b\" xlink:actuate=\"onRequest\" xlink:href=\"psysml:b52cccfc-b130-477f-adae-4c6f859e452b\" xlink:show=\"new\" xlink:title=\"psysml:b52cccfc-b130-477f-adae-4c6f859e452b\" xlink:type=\"simple\"><path d=\"M237.7204,146.0763 C237.4768,146.2621 237.2287,146.4518 236.9763,146.6454 C235.9668,147.4197 234.8879,148.2561 233.748,149.1518 C231.4682,150.943 228.9441,152.9709 226.2406,155.2119 C215.4269,164.1756 201.745,176.5475 189.3625,190.8125 C164.5975,219.3425 145.03,255.445 164,287 C166.35,290.91 306.39,360.26 309,364 C329.99,394 331.63,437.66 330,465.69 \" fill=\"none\" id=\"E5-&gt;E2\" style=\"stroke: #383838; stroke-width: 1.0; stroke-dasharray: 7.0,7.0;\"/><polygon fill=\"#383838\" points=\"329.66,470.74,334.268,462.0356,330.003,465.7518,326.2869,461.4868,329.66,470.74\" style=\"stroke: #383838; stroke-width: 1.0;\"/><text fill=\"#000000\" font-family=\"sans-serif\" font-size=\"13\" lengthAdjust=\"spacingAndGlyphs\" textLength=\"62\" x=\"253\" y=\"330.0669\">«subject»</text></a><!--MD5=[452b418e7f8a40397a49b8c0a78acc5b]\n",
       "reverse link E5 to E7--><a href=\"psysml:226717b4-0db0-47e0-9eef-bae3c4ff0509\" target=\"_top\" title=\"psysml:226717b4-0db0-47e0-9eef-bae3c4ff0509\" xlink:actuate=\"onRequest\" xlink:href=\"psysml:226717b4-0db0-47e0-9eef-bae3c4ff0509\" xlink:show=\"new\" xlink:title=\"psysml:226717b4-0db0-47e0-9eef-bae3c4ff0509\" xlink:type=\"simple\"><path d=\"M246,186.2997 C246,188.9655 246,191.6719 246,194.3971 C246,199.8476 246,205.3735 246,210.8005 C246,221.6544 246,232.1125 246,240.78 \" fill=\"none\" id=\"E5&lt;-E7\" style=\"stroke: #383838; stroke-width: 1.0;\"/><polygon fill=\"#FFFFFF\" points=\"246,186.2997,242,192.2997,246,198.2997,250,192.2997,246,186.2997\" style=\"stroke: #383838; stroke-width: 1.0;\"/></a><!--MD5=[dc164f5e8a733ab456ef1add180e9e34]\n",
       "reverse link E7 to E8--><a href=\"psysml:6f1f84a3-2ac1-458a-baf6-caa888cc195f\" target=\"_top\" title=\"psysml:6f1f84a3-2ac1-458a-baf6-caa888cc195f\" xlink:actuate=\"onRequest\" xlink:href=\"psysml:6f1f84a3-2ac1-458a-baf6-caa888cc195f\" xlink:show=\"new\" xlink:title=\"psysml:6f1f84a3-2ac1-458a-baf6-caa888cc195f\" xlink:type=\"simple\"><path d=\"M290.06,294.45 C322.12,315.89 364.86,344.46 394.01,363.95 \" fill=\"none\" id=\"E7&lt;-E8\" style=\"stroke: #383838; stroke-width: 1.0;\"/><polygon fill=\"#FFFFFF\" points=\"279.2,287.19,281.9674,293.8489,289.1785,293.8555,286.4111,287.1966,279.2,287.19\" style=\"stroke: #383838; stroke-width: 1.0;\"/><text fill=\"#000000\" font-family=\"sans-serif\" font-size=\"13\" lengthAdjust=\"spacingAndGlyphs\" textLength=\"8\" x=\"376.0689\" y=\"352.8328\">1</text></a><!--MD5=[f1f3f9f2fc535e6147756cb86a7f2e32]\n",
       "link E8 to E2--><a href=\"psysml:2bf4d1c6-7bac-40b1-aaaa-83952da67c38\" target=\"_top\" title=\"psysml:2bf4d1c6-7bac-40b1-aaaa-83952da67c38\" xlink:actuate=\"onRequest\" xlink:href=\"psysml:2bf4d1c6-7bac-40b1-aaaa-83952da67c38\" xlink:show=\"new\" xlink:title=\"psysml:2bf4d1c6-7bac-40b1-aaaa-83952da67c38\" xlink:type=\"simple\"><path d=\"M406.04,410.01 C393.32,423.36 376.77,440.74 362.11,456.14 \" fill=\"none\" id=\"E8-&gt;E2\" style=\"stroke: #383838; stroke-width: 1.0;\"/><polygon fill=\"#FFFFFF\" points=\"348.28,470.66,356.3076,452.0708,366.4491,461.7223,348.28,470.66\" style=\"stroke: #383838; stroke-width: 1.0;\"/><ellipse cx=\"361.6859\" cy=\"449.3206\" fill=\"#383838\" rx=\"2\" ry=\"2\" style=\"stroke: #383838; stroke-width: 1.0;\"/><ellipse cx=\"368.9298\" cy=\"456.2144\" fill=\"#383838\" rx=\"2\" ry=\"2\" style=\"stroke: #383838; stroke-width: 1.0;\"/></a><!--MD5=[9ae28de373ca99bb8a1b38d63370ca7e]\n",
       "reverse link E5 to E9--><a href=\"psysml:eedf805a-a406-401d-b38e-104ba6f0fce6\" target=\"_top\" title=\"psysml:eedf805a-a406-401d-b38e-104ba6f0fce6\" xlink:actuate=\"onRequest\" xlink:href=\"psysml:eedf805a-a406-401d-b38e-104ba6f0fce6\" xlink:show=\"new\" xlink:title=\"psysml:eedf805a-a406-401d-b38e-104ba6f0fce6\" xlink:type=\"simple\"><path d=\"M254.7949,186.3026 C254.8401,186.4038 254.8856,186.5049 254.9313,186.6059 C255.2966,187.4138 255.6769,188.215 256.0726,189.0077 C256.8641,190.5933 257.7176,192.1452 258.6379,193.6498 C260.4784,196.6589 262.5863,199.4788 265,202 C278.04,215.62 316.12,229.75 353.15,240.99 \" fill=\"none\" id=\"E5&lt;-E9\" style=\"stroke: #383838; stroke-width: 1.0;\"/><polygon fill=\"#FFFFFF\" points=\"254.7949,186.3026,253.5901,193.4123,259.6895,197.259,260.8944,190.1493,254.7949,186.3026\" style=\"stroke: #383838; stroke-width: 1.0;\"/><text fill=\"#000000\" font-family=\"sans-serif\" font-size=\"13\" lengthAdjust=\"spacingAndGlyphs\" textLength=\"8\" x=\"330.0508\" y=\"232.8298\">1</text></a><!--MD5=[5c3bb36fe832a92c7f0e1807dd65209d]\n",
       "link E9 to E2--><a href=\"psysml:3213573e-39ef-4dfb-813d-bdfb08b6e367\" target=\"_top\" title=\"psysml:3213573e-39ef-4dfb-813d-bdfb08b6e367\" xlink:actuate=\"onRequest\" xlink:href=\"psysml:3213573e-39ef-4dfb-813d-bdfb08b6e367\" xlink:show=\"new\" xlink:title=\"psysml:3213573e-39ef-4dfb-813d-bdfb08b6e367\" xlink:type=\"simple\"><path d=\"M462.31,287.19 C492.44,316.36 535.53,368.75 509,410 C481.16,453.3 424.53,474.29 381.79,484.28 \" fill=\"none\" id=\"E9-&gt;E2\" style=\"stroke: #383838; stroke-width: 1.0;\"/><polygon fill=\"#FFFFFF\" points=\"362.12,488.35,379.3051,477.6415,382.1449,491.3505,362.12,488.35\" style=\"stroke: #383838; stroke-width: 1.0;\"/><ellipse cx=\"385.2923\" cy=\"478.4438\" fill=\"#383838\" rx=\"2\" ry=\"2\" style=\"stroke: #383838; stroke-width: 1.0;\"/><ellipse cx=\"387.3207\" cy=\"488.2359\" fill=\"#383838\" rx=\"2\" ry=\"2\" style=\"stroke: #383838; stroke-width: 1.0;\"/></a><!--MD5=[ccc359985ed7991d700640a4f40bf22e]\n",
       "@startuml\r\n",
       " skinparam monochrome true\r\n",
       "skinparam classbackgroundcolor white\r\n",
       "skinparam shadowing false\r\n",
       "skinparam wrapWidth 300\r\n",
       "hide circle\r\n",
       "\r\n",
       "package \"TradeStudyTest\" as E1  [[psysml:06d75114-8d09-4304-b9ac-1031eaaad748 ]]  {\r\n",
       "comp def \"Engine\" as E2  <<(T,blue) part  def>> [[psysml:377b66bc-6410-4386-a0f5-58eac70f1599 ]] {\r\n",
       "}\r\n",
       "comp usage \"engine1: Engine \" as E3  <<(T,blue) part>> [[psysml:b73c7ebb-9472-45c7-822b-647f60ba4ebd ]] {\r\n",
       "}\r\n",
       "comp usage \"engine2: Engine \" as E4  <<(T,blue) part>> [[psysml:383bc22a-19f8-4697-ba31-98dbfb8a50a3 ]] {\r\n",
       "}\r\n",
       "rec usage \"engineTradeStudy\" as E5 << analysis>> [[psysml:a2c4dab4-2ddb-42af-80d6-b11f423fabe1 ]] {\r\n",
       "comp usage \"tradeStudyObjective\" as E6  <<objective>> [[psysml:6f716227-75fa-479d-851c-c6728be0ecaf ]] {\r\n",
       "}\r\n",
       "}\r\n",
       "comp usage \"evaluationFunction \" as E7  <<(T,blue) calculation>> [[psysml:e59262b2-24eb-419d-a794-3b71c7229dcc ]] {\r\n",
       "}\r\n",
       "comp usage \"alternative: Engine \" as E8  <<(T,blue) part>> [[psysml:83f46fb2-5a48-4342-a61e-b1e9a3952716 ]] {\r\n",
       "}\r\n",
       "comp usage \"selectedAlternative: Engine \" as E9  <<(T,blue) part>> [[psysml:43a96bb2-d059-439d-9037-f3d1363e69c1 ]] {\r\n",
       "}\r\n",
       "}\r\n",
       "E3 - -:|> E2 [[psysml:a3c7b902-deb2-42e0-bb2d-9591134be70d ]] \r\n",
       "E4 - -:|> E2 [[psysml:ad9261f0-dda0-42b5-9d6e-43ebe8822407 ]] \r\n",
       "E5 ..> E2 [[psysml:b52cccfc-b130-477f-adae-4c6f859e452b ]] : <<subject>>\r\n",
       "E5 o- - E7 [[psysml:226717b4-0db0-47e0-9eef-bae3c4ff0509 ]] \r\n",
       "E7 o- - \"1\"E8 [[psysml:6f1f84a3-2ac1-458a-baf6-caa888cc195f ]] \r\n",
       "E8 - -:|> E2 [[psysml:2bf4d1c6-7bac-40b1-aaaa-83952da67c38 ]] \r\n",
       "E5 o- - \"1\"E9 [[psysml:eedf805a-a406-401d-b38e-104ba6f0fce6 ]] \r\n",
       "E9 - -:|> E2 [[psysml:3213573e-39ef-4dfb-813d-bdfb08b6e367 ]] \r\n",
       "@enduml\r\n",
       "\n",
       "PlantUML version 1.2020.13(Sat Jun 13 12:26:38 UTC 2020)\n",
       "(EPL source distribution)\n",
       "Java Runtime: OpenJDK Runtime Environment\n",
       "JVM: OpenJDK 64-Bit Server VM\n",
       "Default Encoding: UTF-8\n",
       "Language: en\n",
       "Country: null\n",
       "--></g></svg>"
      ]
     },
     "execution_count": 8,
     "metadata": {},
     "output_type": "execute_result"
    }
   ],
   "source": [
    "%viz --style=\"COMPTREE\" --view=\"MIXED\" \"TradeStudyTest\""
   ]
  },
  {
   "cell_type": "code",
   "execution_count": 9,
   "id": "d06d0a0e",
   "metadata": {
    "execution": {
     "iopub.execute_input": "2022-08-19T08:21:15.427994Z",
     "iopub.status.busy": "2022-08-19T08:21:15.427740Z",
     "iopub.status.idle": "2022-08-19T08:21:15.493524Z",
     "shell.execute_reply": "2022-08-19T08:21:15.493284Z"
    }
   },
   "outputs": [
    {
     "data": {
      "image/svg+xml": [
       "<?xml version=\"1.0\" encoding=\"UTF-8\" standalone=\"no\"?><svg xmlns=\"http://www.w3.org/2000/svg\" xmlns:xlink=\"http://www.w3.org/1999/xlink\" contentScriptType=\"application/ecmascript\" contentStyleType=\"text/css\" height=\"545px\" preserveAspectRatio=\"none\" style=\"width:566px;height:545px;\" version=\"1.1\" viewBox=\"0 0 566 545\" width=\"566px\" zoomAndPan=\"magnify\"><defs/><g><!--MD5=[fbc87193dbaf4d95561dea2c320d4a47]\n",
       "cluster E1--><a href=\"psysml:06d75114-8d09-4304-b9ac-1031eaaad748\" target=\"_top\" title=\"psysml:06d75114-8d09-4304-b9ac-1031eaaad748\" xlink:actuate=\"onRequest\" xlink:href=\"psysml:06d75114-8d09-4304-b9ac-1031eaaad748\" xlink:show=\"new\" xlink:title=\"psysml:06d75114-8d09-4304-b9ac-1031eaaad748\" xlink:type=\"simple\"><polygon fill=\"#FFFFFF\" points=\"16,6,132,6,139,28.2969,544,28.2969,544,533,16,533,16,6\" style=\"stroke: #000000; stroke-width: 1.5;\"/><line style=\"stroke: #000000; stroke-width: 1.5;\" x1=\"16\" x2=\"139\" y1=\"28.2969\" y2=\"28.2969\"/><text fill=\"#000000\" font-family=\"sans-serif\" font-size=\"14\" font-weight=\"bold\" lengthAdjust=\"spacingAndGlyphs\" textLength=\"110\" x=\"20\" y=\"20.9951\">TradeStudyTest</text></a><!--MD5=[de5ec2e2e8f62f467e546659f5068c88]\n",
       "cluster E5--><a href=\"psysml:a2c4dab4-2ddb-42af-80d6-b11f423fabe1\" target=\"_top\" title=\"psysml:a2c4dab4-2ddb-42af-80d6-b11f423fabe1\" xlink:actuate=\"onRequest\" xlink:href=\"psysml:a2c4dab4-2ddb-42af-80d6-b11f423fabe1\" xlink:show=\"new\" xlink:title=\"psysml:a2c4dab4-2ddb-42af-80d6-b11f423fabe1\" xlink:type=\"simple\"><rect fill=\"#FFFFFF\" height=\"129\" id=\"E5\" rx=\"10\" ry=\"10\" style=\"stroke: #383838; stroke-width: 1.5;\" width=\"199\" x=\"238\" y=\"57\"/><rect fill=\"#F8F8F8\" height=\"37.9375\" rx=\"10\" ry=\"10\" style=\"stroke: #F8F8F8; stroke-width: 1.5;\" width=\"199\" x=\"238\" y=\"57\"/><rect fill=\"#F8F8F8\" height=\"10\" style=\"stroke: #F8F8F8; stroke-width: 1.5;\" width=\"199\" x=\"238\" y=\"84.9375\"/><rect fill=\"none\" height=\"129\" id=\"E5\" rx=\"10\" ry=\"10\" style=\"stroke: #383838; stroke-width: 1.5;\" width=\"199\" x=\"238\" y=\"57\"/><text fill=\"#000000\" font-family=\"sans-serif\" font-size=\"12\" font-style=\"italic\" lengthAdjust=\"spacingAndGlyphs\" textLength=\"64\" x=\"305.5\" y=\"73.1387\">«analysis»</text><text fill=\"#000000\" font-family=\"sans-serif\" font-size=\"12\" lengthAdjust=\"spacingAndGlyphs\" textLength=\"114\" x=\"280.5\" y=\"87.1074\">engineTradeStudy</text><line style=\"stroke: #383838; stroke-width: 1.0;\" x1=\"238\" x2=\"437\" y1=\"94.9375\" y2=\"94.9375\"/></a><!--MD5=[b4997ac47864f28c2f74865a473b2911]\n",
       "class E2--><a href=\"psysml:377b66bc-6410-4386-a0f5-58eac70f1599\" target=\"_top\" title=\"psysml:377b66bc-6410-4386-a0f5-58eac70f1599\" xlink:actuate=\"onRequest\" xlink:href=\"psysml:377b66bc-6410-4386-a0f5-58eac70f1599\" xlink:show=\"new\" xlink:title=\"psysml:377b66bc-6410-4386-a0f5-58eac70f1599\" xlink:type=\"simple\"><rect fill=\"#FFFFFF\" height=\"45.9375\" id=\"E2\" style=\"stroke: #383838; stroke-width: 1.5;\" width=\"70\" x=\"292\" y=\"471\"/><text fill=\"#000000\" font-family=\"sans-serif\" font-size=\"12\" font-style=\"italic\" lengthAdjust=\"spacingAndGlyphs\" textLength=\"68\" x=\"293\" y=\"487.1387\">«part  def»</text><text fill=\"#000000\" font-family=\"sans-serif\" font-size=\"12\" lengthAdjust=\"spacingAndGlyphs\" textLength=\"43\" x=\"305.5\" y=\"501.1074\">Engine</text><line style=\"stroke: #383838; stroke-width: 1.5;\" x1=\"293\" x2=\"361\" y1=\"508.9375\" y2=\"508.9375\"/></a><!--MD5=[09b614a08d8cba4a07c9adeb5e0fee81]\n",
       "class E3--><a href=\"psysml:b73c7ebb-9472-45c7-822b-647f60ba4ebd\" target=\"_top\" title=\"psysml:b73c7ebb-9472-45c7-822b-647f60ba4ebd\" xlink:actuate=\"onRequest\" xlink:href=\"psysml:b73c7ebb-9472-45c7-822b-647f60ba4ebd\" xlink:show=\"new\" xlink:title=\"psysml:b73c7ebb-9472-45c7-822b-647f60ba4ebd\" xlink:type=\"simple\"><rect fill=\"#FFFFFF\" height=\"45.9375\" id=\"E3\" rx=\"10\" ry=\"10\" style=\"stroke: #383838; stroke-width: 1.5;\" width=\"112\" x=\"179\" y=\"364\"/><text fill=\"#000000\" font-family=\"sans-serif\" font-size=\"12\" font-style=\"italic\" lengthAdjust=\"spacingAndGlyphs\" textLength=\"40\" x=\"215\" y=\"380.1387\">«part»</text><text fill=\"#000000\" font-family=\"sans-serif\" font-size=\"12\" lengthAdjust=\"spacingAndGlyphs\" textLength=\"102\" x=\"182\" y=\"394.1074\">engine1: Engine</text><line style=\"stroke: #383838; stroke-width: 1.5;\" x1=\"180\" x2=\"290\" y1=\"401.9375\" y2=\"401.9375\"/></a><!--MD5=[ebbe1d658d1005bcc118a6aa81145e00]\n",
       "class E4--><a href=\"psysml:383bc22a-19f8-4697-ba31-98dbfb8a50a3\" target=\"_top\" title=\"psysml:383bc22a-19f8-4697-ba31-98dbfb8a50a3\" xlink:actuate=\"onRequest\" xlink:href=\"psysml:383bc22a-19f8-4697-ba31-98dbfb8a50a3\" xlink:show=\"new\" xlink:title=\"psysml:383bc22a-19f8-4697-ba31-98dbfb8a50a3\" xlink:type=\"simple\"><rect fill=\"#FFFFFF\" height=\"45.9375\" id=\"E4\" rx=\"10\" ry=\"10\" style=\"stroke: #383838; stroke-width: 1.5;\" width=\"112\" x=\"32\" y=\"364\"/><text fill=\"#000000\" font-family=\"sans-serif\" font-size=\"12\" font-style=\"italic\" lengthAdjust=\"spacingAndGlyphs\" textLength=\"40\" x=\"68\" y=\"380.1387\">«part»</text><text fill=\"#000000\" font-family=\"sans-serif\" font-size=\"12\" lengthAdjust=\"spacingAndGlyphs\" textLength=\"102\" x=\"35\" y=\"394.1074\">engine2: Engine</text><line style=\"stroke: #383838; stroke-width: 1.5;\" x1=\"33\" x2=\"143\" y1=\"401.9375\" y2=\"401.9375\"/></a><!--MD5=[2156ba9850f5573cc1fc38a6a4b2f02b]\n",
       "class E7--><a href=\"psysml:e59262b2-24eb-419d-a794-3b71c7229dcc\" target=\"_top\" title=\"psysml:e59262b2-24eb-419d-a794-3b71c7229dcc\" xlink:actuate=\"onRequest\" xlink:href=\"psysml:e59262b2-24eb-419d-a794-3b71c7229dcc\" xlink:show=\"new\" xlink:title=\"psysml:e59262b2-24eb-419d-a794-3b71c7229dcc\" xlink:type=\"simple\"><rect fill=\"#FFFFFF\" height=\"45.9375\" id=\"E7\" rx=\"10\" ry=\"10\" style=\"stroke: #383838; stroke-width: 1.5;\" width=\"129\" x=\"181.5\" y=\"241\"/><text fill=\"#000000\" font-family=\"sans-serif\" font-size=\"12\" font-style=\"italic\" lengthAdjust=\"spacingAndGlyphs\" textLength=\"82\" x=\"205\" y=\"257.1387\">«calculation»</text><text fill=\"#000000\" font-family=\"sans-serif\" font-size=\"12\" lengthAdjust=\"spacingAndGlyphs\" textLength=\"119\" x=\"184.5\" y=\"271.1074\">evaluationFunction</text><line style=\"stroke: #383838; stroke-width: 1.5;\" x1=\"182.5\" x2=\"309.5\" y1=\"278.9375\" y2=\"278.9375\"/></a><!--MD5=[b9389687b975829384b498ac4b7476b2]\n",
       "class E8--><a href=\"psysml:83f46fb2-5a48-4342-a61e-b1e9a3952716\" target=\"_top\" title=\"psysml:83f46fb2-5a48-4342-a61e-b1e9a3952716\" xlink:actuate=\"onRequest\" xlink:href=\"psysml:83f46fb2-5a48-4342-a61e-b1e9a3952716\" xlink:show=\"new\" xlink:title=\"psysml:83f46fb2-5a48-4342-a61e-b1e9a3952716\" xlink:type=\"simple\"><rect fill=\"#FFFFFF\" height=\"45.9375\" id=\"E8\" rx=\"10\" ry=\"10\" style=\"stroke: #383838; stroke-width: 1.5;\" width=\"128\" x=\"363\" y=\"364\"/><text fill=\"#000000\" font-family=\"sans-serif\" font-size=\"12\" font-style=\"italic\" lengthAdjust=\"spacingAndGlyphs\" textLength=\"40\" x=\"407\" y=\"380.1387\">«part»</text><text fill=\"#000000\" font-family=\"sans-serif\" font-size=\"12\" lengthAdjust=\"spacingAndGlyphs\" textLength=\"118\" x=\"366\" y=\"394.1074\">alternative: Engine</text><line style=\"stroke: #383838; stroke-width: 1.5;\" x1=\"364\" x2=\"490\" y1=\"401.9375\" y2=\"401.9375\"/></a><!--MD5=[fd4143e9d270a159db93a4ea2a975926]\n",
       "class E9--><a href=\"psysml:43a96bb2-d059-439d-9037-f3d1363e69c1\" target=\"_top\" title=\"psysml:43a96bb2-d059-439d-9037-f3d1363e69c1\" xlink:actuate=\"onRequest\" xlink:href=\"psysml:43a96bb2-d059-439d-9037-f3d1363e69c1\" xlink:show=\"new\" xlink:title=\"psysml:43a96bb2-d059-439d-9037-f3d1363e69c1\" xlink:type=\"simple\"><rect fill=\"#FFFFFF\" height=\"45.9375\" id=\"E9\" rx=\"10\" ry=\"10\" style=\"stroke: #383838; stroke-width: 1.5;\" width=\"182\" x=\"346\" y=\"241\"/><text fill=\"#000000\" font-family=\"sans-serif\" font-size=\"12\" font-style=\"italic\" lengthAdjust=\"spacingAndGlyphs\" textLength=\"40\" x=\"417\" y=\"257.1387\">«part»</text><text fill=\"#000000\" font-family=\"sans-serif\" font-size=\"12\" lengthAdjust=\"spacingAndGlyphs\" textLength=\"172\" x=\"349\" y=\"271.1074\">selectedAlternative: Engine</text><line style=\"stroke: #383838; stroke-width: 1.5;\" x1=\"347\" x2=\"527\" y1=\"278.9375\" y2=\"278.9375\"/></a><!--MD5=[60a26617385b1d2d0262a64233df1f8d]\n",
       "class E6--><a href=\"psysml:6f716227-75fa-479d-851c-c6728be0ecaf\" target=\"_top\" title=\"psysml:6f716227-75fa-479d-851c-c6728be0ecaf\" xlink:actuate=\"onRequest\" xlink:href=\"psysml:6f716227-75fa-479d-851c-c6728be0ecaf\" xlink:show=\"new\" xlink:title=\"psysml:6f716227-75fa-479d-851c-c6728be0ecaf\" xlink:type=\"simple\"><rect fill=\"#FFFFFF\" height=\"45.9375\" id=\"E6\" rx=\"10\" ry=\"10\" style=\"stroke: #383838; stroke-width: 1.5;\" width=\"132\" x=\"281\" y=\"116\"/><text fill=\"#000000\" font-family=\"sans-serif\" font-size=\"12\" font-style=\"italic\" lengthAdjust=\"spacingAndGlyphs\" textLength=\"70\" x=\"312\" y=\"132.1387\">«objective»</text><text fill=\"#000000\" font-family=\"sans-serif\" font-size=\"12\" lengthAdjust=\"spacingAndGlyphs\" textLength=\"126\" x=\"284\" y=\"146.1074\">tradeStudyObjective</text><line style=\"stroke: #383838; stroke-width: 1.5;\" x1=\"282\" x2=\"412\" y1=\"153.9375\" y2=\"153.9375\"/></a><!--MD5=[05d275557350bfb9b23a4ef7222b4c39]\n",
       "link E3 to E2--><a href=\"psysml:a3c7b902-deb2-42e0-bb2d-9591134be70d\" target=\"_top\" title=\"psysml:a3c7b902-deb2-42e0-bb2d-9591134be70d\" xlink:actuate=\"onRequest\" xlink:href=\"psysml:a3c7b902-deb2-42e0-bb2d-9591134be70d\" xlink:show=\"new\" xlink:title=\"psysml:a3c7b902-deb2-42e0-bb2d-9591134be70d\" xlink:type=\"simple\"><path d=\"M254.29,410.01 C265.74,423.08 280.57,440.01 293.86,455.17 \" fill=\"none\" id=\"E3-&gt;E2\" style=\"stroke: #383838; stroke-width: 1.0;\"/><polygon fill=\"#FFFFFF\" points=\"307.42,470.66,289.6319,460.9861,300.1599,451.7578,307.42,470.66\" style=\"stroke: #383838; stroke-width: 1.0;\"/><ellipse cx=\"287.3787\" cy=\"455.3814\" fill=\"#383838\" rx=\"2\" ry=\"2\" style=\"stroke: #383838; stroke-width: 1.0;\"/><ellipse cx=\"294.8987\" cy=\"448.7898\" fill=\"#383838\" rx=\"2\" ry=\"2\" style=\"stroke: #383838; stroke-width: 1.0;\"/></a><!--MD5=[185131fc0dcab0a4505a2ebe144e961b]\n",
       "link E4 to E2--><a href=\"psysml:ad9261f0-dda0-42b5-9d6e-43ebe8822407\" target=\"_top\" title=\"psysml:ad9261f0-dda0-42b5-9d6e-43ebe8822407\" xlink:actuate=\"onRequest\" xlink:href=\"psysml:ad9261f0-dda0-42b5-9d6e-43ebe8822407\" xlink:show=\"new\" xlink:title=\"psysml:ad9261f0-dda0-42b5-9d6e-43ebe8822407\" xlink:type=\"simple\"><path d=\"M138.1,410.01 C177.63,427.38 232.65,451.55 273.12,469.33 \" fill=\"none\" id=\"E4-&gt;E2\" style=\"stroke: #383838; stroke-width: 1.0;\"/><polygon fill=\"#FFFFFF\" points=\"291.69,477.49,271.479,476.2594,277.1083,463.4411,291.69,477.49\" style=\"stroke: #383838; stroke-width: 1.0;\"/><ellipse cx=\"267.0642\" cy=\"472.1363\" fill=\"#383838\" rx=\"2\" ry=\"2\" style=\"stroke: #383838; stroke-width: 1.0;\"/><ellipse cx=\"271.0852\" cy=\"462.9803\" fill=\"#383838\" rx=\"2\" ry=\"2\" style=\"stroke: #383838; stroke-width: 1.0;\"/></a><!--MD5=[15ebcb19ae302d9b601edb458606d402]\n",
       "link E5 to E2--><a href=\"psysml:b52cccfc-b130-477f-adae-4c6f859e452b\" target=\"_top\" title=\"psysml:b52cccfc-b130-477f-adae-4c6f859e452b\" xlink:actuate=\"onRequest\" xlink:href=\"psysml:b52cccfc-b130-477f-adae-4c6f859e452b\" xlink:show=\"new\" xlink:title=\"psysml:b52cccfc-b130-477f-adae-4c6f859e452b\" xlink:type=\"simple\"><path d=\"M237.7579,150.1502 C237.6584,150.2728 237.5582,150.3963 237.4572,150.5206 C235.8418,152.5106 234.0402,154.7298 232.0906,157.1313 C224.2925,166.7369 214.1275,179.2575 204.04,191.6825 C183.865,216.5325 164,241 164,241 C164,241 164,287 164,287 C164,287 309,364 309,364 C309,364 317.87,427.54 323.15,465.43 \" fill=\"none\" id=\"E5-&gt;E2\" style=\"stroke: #383838; stroke-width: 1.0; stroke-dasharray: 7.0,7.0;\"/><polygon fill=\"#383838\" points=\"323.91,470.82,326.6391,461.3568,323.2249,465.8672,318.7145,462.453,323.91,470.82\" style=\"stroke: #383838; stroke-width: 1.0;\"/><text fill=\"#000000\" font-family=\"sans-serif\" font-size=\"13\" lengthAdjust=\"spacingAndGlyphs\" textLength=\"62\" x=\"252\" y=\"330.0669\">«subject»</text></a><!--MD5=[452b418e7f8a40397a49b8c0a78acc5b]\n",
       "reverse link E5 to E7--><a href=\"psysml:226717b4-0db0-47e0-9eef-bae3c4ff0509\" target=\"_top\" title=\"psysml:226717b4-0db0-47e0-9eef-bae3c4ff0509\" xlink:actuate=\"onRequest\" xlink:href=\"psysml:226717b4-0db0-47e0-9eef-bae3c4ff0509\" xlink:show=\"new\" xlink:title=\"psysml:226717b4-0db0-47e0-9eef-bae3c4ff0509\" xlink:type=\"simple\"><path d=\"M246,186.2997 C246,188.9655 246,191.6719 246,194.3971 C246,199.8476 246,205.3735 246,210.8005 C246,221.6544 246,232.1125 246,240.78 \" fill=\"none\" id=\"E5&lt;-E7\" style=\"stroke: #383838; stroke-width: 1.0;\"/><polygon fill=\"#FFFFFF\" points=\"246,186.2997,242,192.2997,246,198.2997,250,192.2997,246,186.2997\" style=\"stroke: #383838; stroke-width: 1.0;\"/></a><!--MD5=[dc164f5e8a733ab456ef1add180e9e34]\n",
       "reverse link E7 to E8--><a href=\"psysml:6f1f84a3-2ac1-458a-baf6-caa888cc195f\" target=\"_top\" title=\"psysml:6f1f84a3-2ac1-458a-baf6-caa888cc195f\" xlink:actuate=\"onRequest\" xlink:href=\"psysml:6f1f84a3-2ac1-458a-baf6-caa888cc195f\" xlink:show=\"new\" xlink:title=\"psysml:6f1f84a3-2ac1-458a-baf6-caa888cc195f\" xlink:type=\"simple\"><path d=\"M290.06,294.45 C322.12,315.89 364.86,344.46 394.01,363.95 \" fill=\"none\" id=\"E7&lt;-E8\" style=\"stroke: #383838; stroke-width: 1.0;\"/><polygon fill=\"#FFFFFF\" points=\"279.2,287.19,281.9674,293.8489,289.1785,293.8555,286.4111,287.1966,279.2,287.19\" style=\"stroke: #383838; stroke-width: 1.0;\"/><text fill=\"#000000\" font-family=\"sans-serif\" font-size=\"13\" lengthAdjust=\"spacingAndGlyphs\" textLength=\"8\" x=\"376.0689\" y=\"352.8328\">1</text></a><!--MD5=[f1f3f9f2fc535e6147756cb86a7f2e32]\n",
       "link E8 to E2--><a href=\"psysml:2bf4d1c6-7bac-40b1-aaaa-83952da67c38\" target=\"_top\" title=\"psysml:2bf4d1c6-7bac-40b1-aaaa-83952da67c38\" xlink:actuate=\"onRequest\" xlink:href=\"psysml:2bf4d1c6-7bac-40b1-aaaa-83952da67c38\" xlink:show=\"new\" xlink:title=\"psysml:2bf4d1c6-7bac-40b1-aaaa-83952da67c38\" xlink:type=\"simple\"><path d=\"M406.04,410.01 C393.32,423.36 376.77,440.74 362.11,456.14 \" fill=\"none\" id=\"E8-&gt;E2\" style=\"stroke: #383838; stroke-width: 1.0;\"/><polygon fill=\"#FFFFFF\" points=\"348.28,470.66,356.3076,452.0708,366.4491,461.7223,348.28,470.66\" style=\"stroke: #383838; stroke-width: 1.0;\"/><ellipse cx=\"361.6859\" cy=\"449.3206\" fill=\"#383838\" rx=\"2\" ry=\"2\" style=\"stroke: #383838; stroke-width: 1.0;\"/><ellipse cx=\"368.9298\" cy=\"456.2144\" fill=\"#383838\" rx=\"2\" ry=\"2\" style=\"stroke: #383838; stroke-width: 1.0;\"/></a><!--MD5=[9ae28de373ca99bb8a1b38d63370ca7e]\n",
       "reverse link E5 to E9--><a href=\"psysml:eedf805a-a406-401d-b38e-104ba6f0fce6\" target=\"_top\" title=\"psysml:eedf805a-a406-401d-b38e-104ba6f0fce6\" xlink:actuate=\"onRequest\" xlink:href=\"psysml:eedf805a-a406-401d-b38e-104ba6f0fce6\" xlink:show=\"new\" xlink:title=\"psysml:eedf805a-a406-401d-b38e-104ba6f0fce6\" xlink:type=\"simple\"><path d=\"M260.141,186.1434 C260.2057,186.3545 260.27,186.5643 260.3339,186.7729 C260.4617,187.1899 260.5879,187.6018 260.7124,188.0081 C261.2104,189.633 261.6806,191.1677 262.1144,192.5831 C263.8494,198.245 265,202 265,202 C265,202 325.64,223.5 374.9,240.98 \" fill=\"none\" id=\"E5&lt;-E9\" style=\"stroke: #383838; stroke-width: 1.0;\"/><polygon fill=\"#FFFFFF\" points=\"260.141,186.1434,258.0745,193.0521,263.6569,197.6168,265.7234,190.7081,260.141,186.1434\" style=\"stroke: #383838; stroke-width: 1.0;\"/><text fill=\"#000000\" font-family=\"sans-serif\" font-size=\"13\" lengthAdjust=\"spacingAndGlyphs\" textLength=\"8\" x=\"349.1356\" y=\"229.8709\">1</text></a><!--MD5=[5c3bb36fe832a92c7f0e1807dd65209d]\n",
       "link E9 to E2--><a href=\"psysml:3213573e-39ef-4dfb-813d-bdfb08b6e367\" target=\"_top\" title=\"psysml:3213573e-39ef-4dfb-813d-bdfb08b6e367\" xlink:actuate=\"onRequest\" xlink:href=\"psysml:3213573e-39ef-4dfb-813d-bdfb08b6e367\" xlink:show=\"new\" xlink:title=\"psysml:3213573e-39ef-4dfb-813d-bdfb08b6e367\" xlink:type=\"simple\"><path d=\"M453.34,287.46 C474.58,316.67 509,364 509,364 C509,364 509,410 509,410 C509,410 434.09,444.16 380.39,468.65 \" fill=\"none\" id=\"E9-&gt;E2\" style=\"stroke: #383838; stroke-width: 1.0;\"/><polygon fill=\"#FFFFFF\" points=\"362.09,477,376.4727,462.7473,382.2817,475.4852,362.09,477\" style=\"stroke: #383838; stroke-width: 1.0;\"/><ellipse cx=\"382.4887\" cy=\"462.2019\" fill=\"#383838\" rx=\"2\" ry=\"2\" style=\"stroke: #383838; stroke-width: 1.0;\"/><ellipse cx=\"386.638\" cy=\"471.3004\" fill=\"#383838\" rx=\"2\" ry=\"2\" style=\"stroke: #383838; stroke-width: 1.0;\"/></a><!--MD5=[a38ef33a9194e1f052c0784d5e3a002d]\n",
       "@startuml\r\n",
       "skinparam linetype polyline\r\n",
       "skinparam monochrome true\r\n",
       "skinparam classbackgroundcolor white\r\n",
       "skinparam shadowing false\r\n",
       "skinparam wrapWidth 300\r\n",
       "hide circle\r\n",
       "\r\n",
       "package \"TradeStudyTest\" as E1  [[psysml:06d75114-8d09-4304-b9ac-1031eaaad748 ]]  {\r\n",
       "comp def \"Engine\" as E2  <<(T,blue) part  def>> [[psysml:377b66bc-6410-4386-a0f5-58eac70f1599 ]] {\r\n",
       "}\r\n",
       "comp usage \"engine1: Engine \" as E3  <<(T,blue) part>> [[psysml:b73c7ebb-9472-45c7-822b-647f60ba4ebd ]] {\r\n",
       "}\r\n",
       "comp usage \"engine2: Engine \" as E4  <<(T,blue) part>> [[psysml:383bc22a-19f8-4697-ba31-98dbfb8a50a3 ]] {\r\n",
       "}\r\n",
       "rec usage \"engineTradeStudy\" as E5 << analysis>> [[psysml:a2c4dab4-2ddb-42af-80d6-b11f423fabe1 ]] {\r\n",
       "comp usage \"tradeStudyObjective\" as E6  <<objective>> [[psysml:6f716227-75fa-479d-851c-c6728be0ecaf ]] {\r\n",
       "}\r\n",
       "}\r\n",
       "comp usage \"evaluationFunction \" as E7  <<(T,blue) calculation>> [[psysml:e59262b2-24eb-419d-a794-3b71c7229dcc ]] {\r\n",
       "}\r\n",
       "comp usage \"alternative: Engine \" as E8  <<(T,blue) part>> [[psysml:83f46fb2-5a48-4342-a61e-b1e9a3952716 ]] {\r\n",
       "}\r\n",
       "comp usage \"selectedAlternative: Engine \" as E9  <<(T,blue) part>> [[psysml:43a96bb2-d059-439d-9037-f3d1363e69c1 ]] {\r\n",
       "}\r\n",
       "}\r\n",
       "E3 - -:|> E2 [[psysml:a3c7b902-deb2-42e0-bb2d-9591134be70d ]] \r\n",
       "E4 - -:|> E2 [[psysml:ad9261f0-dda0-42b5-9d6e-43ebe8822407 ]] \r\n",
       "E5 ..> E2 [[psysml:b52cccfc-b130-477f-adae-4c6f859e452b ]] : <<subject>>\r\n",
       "E5 o- - E7 [[psysml:226717b4-0db0-47e0-9eef-bae3c4ff0509 ]] \r\n",
       "E7 o- - \"1\"E8 [[psysml:6f1f84a3-2ac1-458a-baf6-caa888cc195f ]] \r\n",
       "E8 - -:|> E2 [[psysml:2bf4d1c6-7bac-40b1-aaaa-83952da67c38 ]] \r\n",
       "E5 o- - \"1\"E9 [[psysml:eedf805a-a406-401d-b38e-104ba6f0fce6 ]] \r\n",
       "E9 - -:|> E2 [[psysml:3213573e-39ef-4dfb-813d-bdfb08b6e367 ]] \r\n",
       "@enduml\r\n",
       "\n",
       "PlantUML version 1.2020.13(Sat Jun 13 12:26:38 UTC 2020)\n",
       "(EPL source distribution)\n",
       "Java Runtime: OpenJDK Runtime Environment\n",
       "JVM: OpenJDK 64-Bit Server VM\n",
       "Default Encoding: UTF-8\n",
       "Language: en\n",
       "Country: null\n",
       "--></g></svg>"
      ]
     },
     "execution_count": 9,
     "metadata": {},
     "output_type": "execute_result"
    }
   ],
   "source": [
    "%viz --style=\"POLYLINE\" --view=\"Default\" \"TradeStudyTest\""
   ]
  },
  {
   "cell_type": "code",
   "execution_count": 10,
   "id": "d4257bbc",
   "metadata": {
    "execution": {
     "iopub.execute_input": "2022-08-19T08:21:15.543458Z",
     "iopub.status.busy": "2022-08-19T08:21:15.543177Z",
     "iopub.status.idle": "2022-08-19T08:21:15.604656Z",
     "shell.execute_reply": "2022-08-19T08:21:15.604234Z"
    }
   },
   "outputs": [
    {
     "data": {
      "image/svg+xml": [
       "<?xml version=\"1.0\" encoding=\"UTF-8\" standalone=\"no\"?><svg xmlns=\"http://www.w3.org/2000/svg\" xmlns:xlink=\"http://www.w3.org/1999/xlink\" contentScriptType=\"application/ecmascript\" contentStyleType=\"text/css\" height=\"497px\" preserveAspectRatio=\"none\" style=\"width:566px;height:497px;\" version=\"1.1\" viewBox=\"0 0 566 497\" width=\"566px\" zoomAndPan=\"magnify\"><defs/><g><!--MD5=[fbc87193dbaf4d95561dea2c320d4a47]\n",
       "cluster E1--><a href=\"psysml:06d75114-8d09-4304-b9ac-1031eaaad748\" target=\"_top\" title=\"psysml:06d75114-8d09-4304-b9ac-1031eaaad748\" xlink:actuate=\"onRequest\" xlink:href=\"psysml:06d75114-8d09-4304-b9ac-1031eaaad748\" xlink:show=\"new\" xlink:title=\"psysml:06d75114-8d09-4304-b9ac-1031eaaad748\" xlink:type=\"simple\"><polygon fill=\"#FFFFFF\" points=\"16,6,132,6,139,28.2969,544,28.2969,544,485,16,485,16,6\" style=\"stroke: #000000; stroke-width: 1.5;\"/><line style=\"stroke: #000000; stroke-width: 1.5;\" x1=\"16\" x2=\"139\" y1=\"28.2969\" y2=\"28.2969\"/><text fill=\"#000000\" font-family=\"sans-serif\" font-size=\"14\" font-weight=\"bold\" lengthAdjust=\"spacingAndGlyphs\" textLength=\"110\" x=\"20\" y=\"20.9951\">TradeStudyTest</text></a><!--MD5=[b4997ac47864f28c2f74865a473b2911]\n",
       "class E2--><a href=\"psysml:377b66bc-6410-4386-a0f5-58eac70f1599\" target=\"_top\" title=\"psysml:377b66bc-6410-4386-a0f5-58eac70f1599\" xlink:actuate=\"onRequest\" xlink:href=\"psysml:377b66bc-6410-4386-a0f5-58eac70f1599\" xlink:show=\"new\" xlink:title=\"psysml:377b66bc-6410-4386-a0f5-58eac70f1599\" xlink:type=\"simple\"><rect fill=\"#FFFFFF\" height=\"45.9375\" id=\"E2\" style=\"stroke: #383838; stroke-width: 1.5;\" width=\"70\" x=\"198\" y=\"423\"/><text fill=\"#000000\" font-family=\"sans-serif\" font-size=\"12\" font-style=\"italic\" lengthAdjust=\"spacingAndGlyphs\" textLength=\"68\" x=\"199\" y=\"439.1387\">«part  def»</text><text fill=\"#000000\" font-family=\"sans-serif\" font-size=\"12\" lengthAdjust=\"spacingAndGlyphs\" textLength=\"43\" x=\"211.5\" y=\"453.1074\">Engine</text><line style=\"stroke: #383838; stroke-width: 1.5;\" x1=\"199\" x2=\"267\" y1=\"460.9375\" y2=\"460.9375\"/></a><!--MD5=[09b614a08d8cba4a07c9adeb5e0fee81]\n",
       "class E3--><a href=\"psysml:b73c7ebb-9472-45c7-822b-647f60ba4ebd\" target=\"_top\" title=\"psysml:b73c7ebb-9472-45c7-822b-647f60ba4ebd\" xlink:actuate=\"onRequest\" xlink:href=\"psysml:b73c7ebb-9472-45c7-822b-647f60ba4ebd\" xlink:show=\"new\" xlink:title=\"psysml:b73c7ebb-9472-45c7-822b-647f60ba4ebd\" xlink:type=\"simple\"><rect fill=\"#FFFFFF\" height=\"45.9375\" id=\"E3\" rx=\"10\" ry=\"10\" style=\"stroke: #383838; stroke-width: 1.5;\" width=\"112\" x=\"416\" y=\"316\"/><text fill=\"#000000\" font-family=\"sans-serif\" font-size=\"12\" font-style=\"italic\" lengthAdjust=\"spacingAndGlyphs\" textLength=\"40\" x=\"452\" y=\"332.1387\">«part»</text><text fill=\"#000000\" font-family=\"sans-serif\" font-size=\"12\" lengthAdjust=\"spacingAndGlyphs\" textLength=\"102\" x=\"419\" y=\"346.1074\">engine1: Engine</text><line style=\"stroke: #383838; stroke-width: 1.5;\" x1=\"417\" x2=\"527\" y1=\"353.9375\" y2=\"353.9375\"/></a><!--MD5=[ebbe1d658d1005bcc118a6aa81145e00]\n",
       "class E4--><a href=\"psysml:383bc22a-19f8-4697-ba31-98dbfb8a50a3\" target=\"_top\" title=\"psysml:383bc22a-19f8-4697-ba31-98dbfb8a50a3\" xlink:actuate=\"onRequest\" xlink:href=\"psysml:383bc22a-19f8-4697-ba31-98dbfb8a50a3\" xlink:show=\"new\" xlink:title=\"psysml:383bc22a-19f8-4697-ba31-98dbfb8a50a3\" xlink:type=\"simple\"><rect fill=\"#FFFFFF\" height=\"45.9375\" id=\"E4\" rx=\"10\" ry=\"10\" style=\"stroke: #383838; stroke-width: 1.5;\" width=\"112\" x=\"269\" y=\"316\"/><text fill=\"#000000\" font-family=\"sans-serif\" font-size=\"12\" font-style=\"italic\" lengthAdjust=\"spacingAndGlyphs\" textLength=\"40\" x=\"305\" y=\"332.1387\">«part»</text><text fill=\"#000000\" font-family=\"sans-serif\" font-size=\"12\" lengthAdjust=\"spacingAndGlyphs\" textLength=\"102\" x=\"272\" y=\"346.1074\">engine2: Engine</text><line style=\"stroke: #383838; stroke-width: 1.5;\" x1=\"270\" x2=\"380\" y1=\"353.9375\" y2=\"353.9375\"/></a><!--MD5=[270fce915f116d4de14055a7c1d9a0f3]\n",
       "class E5--><a href=\"psysml:a2c4dab4-2ddb-42af-80d6-b11f423fabe1\" target=\"_top\" title=\"psysml:a2c4dab4-2ddb-42af-80d6-b11f423fabe1\" xlink:actuate=\"onRequest\" xlink:href=\"psysml:a2c4dab4-2ddb-42af-80d6-b11f423fabe1\" xlink:show=\"new\" xlink:title=\"psysml:a2c4dab4-2ddb-42af-80d6-b11f423fabe1\" xlink:type=\"simple\"><rect fill=\"#FFFFFF\" height=\"45.9375\" id=\"E5\" rx=\"10\" ry=\"10\" style=\"stroke: #383838; stroke-width: 1.5;\" width=\"203\" x=\"238.5\" y=\"41\"/><text fill=\"#000000\" font-family=\"sans-serif\" font-size=\"12\" font-style=\"italic\" lengthAdjust=\"spacingAndGlyphs\" textLength=\"64\" x=\"308\" y=\"57.1387\">«analysis»</text><text fill=\"#000000\" font-family=\"sans-serif\" font-size=\"12\" lengthAdjust=\"spacingAndGlyphs\" textLength=\"193\" x=\"241.5\" y=\"71.1074\">engineTradeStudy: TradeStudy</text><line style=\"stroke: #383838; stroke-width: 1.5;\" x1=\"239.5\" x2=\"440.5\" y1=\"78.9375\" y2=\"78.9375\"/></a><!--MD5=[60a26617385b1d2d0262a64233df1f8d]\n",
       "class E6--><a href=\"psysml:6f716227-75fa-479d-851c-c6728be0ecaf\" target=\"_top\" title=\"psysml:6f716227-75fa-479d-851c-c6728be0ecaf\" xlink:actuate=\"onRequest\" xlink:href=\"psysml:6f716227-75fa-479d-851c-c6728be0ecaf\" xlink:show=\"new\" xlink:title=\"psysml:6f716227-75fa-479d-851c-c6728be0ecaf\" xlink:type=\"simple\"><rect fill=\"#FFFFFF\" height=\"45.9375\" id=\"E6\" rx=\"10\" ry=\"10\" style=\"stroke: #383838; stroke-width: 1.5;\" width=\"255\" x=\"71.5\" y=\"164\"/><text fill=\"#000000\" font-family=\"sans-serif\" font-size=\"12\" font-style=\"italic\" lengthAdjust=\"spacingAndGlyphs\" textLength=\"91\" x=\"153.5\" y=\"180.1387\">«requirement»</text><text fill=\"#000000\" font-family=\"sans-serif\" font-size=\"12\" lengthAdjust=\"spacingAndGlyphs\" textLength=\"245\" x=\"74.5\" y=\"194.1074\">tradeStudyObjective: MaximizeObjective</text><line style=\"stroke: #383838; stroke-width: 1.5;\" x1=\"72.5\" x2=\"325.5\" y1=\"201.9375\" y2=\"201.9375\"/></a><!--MD5=[2156ba9850f5573cc1fc38a6a4b2f02b]\n",
       "class E7--><a href=\"psysml:e59262b2-24eb-419d-a794-3b71c7229dcc\" target=\"_top\" title=\"psysml:e59262b2-24eb-419d-a794-3b71c7229dcc\" xlink:actuate=\"onRequest\" xlink:href=\"psysml:e59262b2-24eb-419d-a794-3b71c7229dcc\" xlink:show=\"new\" xlink:title=\"psysml:e59262b2-24eb-419d-a794-3b71c7229dcc\" xlink:type=\"simple\"><rect fill=\"#FFFFFF\" height=\"45.9375\" id=\"E7\" rx=\"10\" ry=\"10\" style=\"stroke: #383838; stroke-width: 1.5;\" width=\"129\" x=\"361.5\" y=\"164\"/><text fill=\"#000000\" font-family=\"sans-serif\" font-size=\"12\" font-style=\"italic\" lengthAdjust=\"spacingAndGlyphs\" textLength=\"82\" x=\"385\" y=\"180.1387\">«calculation»</text><text fill=\"#000000\" font-family=\"sans-serif\" font-size=\"12\" lengthAdjust=\"spacingAndGlyphs\" textLength=\"119\" x=\"364.5\" y=\"194.1074\">evaluationFunction</text><line style=\"stroke: #383838; stroke-width: 1.5;\" x1=\"362.5\" x2=\"489.5\" y1=\"201.9375\" y2=\"201.9375\"/></a><!--MD5=[b9389687b975829384b498ac4b7476b2]\n",
       "class E8--><a href=\"psysml:83f46fb2-5a48-4342-a61e-b1e9a3952716\" target=\"_top\" title=\"psysml:83f46fb2-5a48-4342-a61e-b1e9a3952716\" xlink:actuate=\"onRequest\" xlink:href=\"psysml:83f46fb2-5a48-4342-a61e-b1e9a3952716\" xlink:show=\"new\" xlink:title=\"psysml:83f46fb2-5a48-4342-a61e-b1e9a3952716\" xlink:type=\"simple\"><rect fill=\"#FFFFFF\" height=\"45.9375\" id=\"E8\" rx=\"10\" ry=\"10\" style=\"stroke: #383838; stroke-width: 1.5;\" width=\"128\" x=\"69\" y=\"316\"/><text fill=\"#000000\" font-family=\"sans-serif\" font-size=\"12\" font-style=\"italic\" lengthAdjust=\"spacingAndGlyphs\" textLength=\"40\" x=\"113\" y=\"332.1387\">«part»</text><text fill=\"#000000\" font-family=\"sans-serif\" font-size=\"12\" lengthAdjust=\"spacingAndGlyphs\" textLength=\"118\" x=\"72\" y=\"346.1074\">alternative: Engine</text><line style=\"stroke: #383838; stroke-width: 1.5;\" x1=\"70\" x2=\"196\" y1=\"353.9375\" y2=\"353.9375\"/></a><!--MD5=[fd4143e9d270a159db93a4ea2a975926]\n",
       "class E9--><a href=\"psysml:43a96bb2-d059-439d-9037-f3d1363e69c1\" target=\"_top\" title=\"psysml:43a96bb2-d059-439d-9037-f3d1363e69c1\" xlink:actuate=\"onRequest\" xlink:href=\"psysml:43a96bb2-d059-439d-9037-f3d1363e69c1\" xlink:show=\"new\" xlink:title=\"psysml:43a96bb2-d059-439d-9037-f3d1363e69c1\" xlink:type=\"simple\"><rect fill=\"#FFFFFF\" height=\"45.9375\" id=\"E9\" rx=\"10\" ry=\"10\" style=\"stroke: #383838; stroke-width: 1.5;\" width=\"182\" x=\"295\" y=\"240\"/><text fill=\"#000000\" font-family=\"sans-serif\" font-size=\"12\" font-style=\"italic\" lengthAdjust=\"spacingAndGlyphs\" textLength=\"40\" x=\"366\" y=\"256.1387\">«part»</text><text fill=\"#000000\" font-family=\"sans-serif\" font-size=\"12\" lengthAdjust=\"spacingAndGlyphs\" textLength=\"172\" x=\"298\" y=\"270.1074\">selectedAlternative: Engine</text><line style=\"stroke: #383838; stroke-width: 1.5;\" x1=\"296\" x2=\"476\" y1=\"277.9375\" y2=\"277.9375\"/></a><!--MD5=[05d275557350bfb9b23a4ef7222b4c39]\n",
       "link E3 to E2--><a href=\"psysml:a3c7b902-deb2-42e0-bb2d-9591134be70d\" target=\"_top\" title=\"psysml:a3c7b902-deb2-42e0-bb2d-9591134be70d\" xlink:actuate=\"onRequest\" xlink:href=\"psysml:a3c7b902-deb2-42e0-bb2d-9591134be70d\" xlink:show=\"new\" xlink:title=\"psysml:a3c7b902-deb2-42e0-bb2d-9591134be70d\" xlink:type=\"simple\"><path d=\"M421.9,362.01 C382.37,379.38 327.35,403.55 286.88,421.33 \" fill=\"none\" id=\"E3-&gt;E2\" style=\"stroke: #383838; stroke-width: 1.0;\"/><polygon fill=\"#FFFFFF\" points=\"268.31,429.49,282.8917,415.4411,288.521,428.2594,268.31,429.49\" style=\"stroke: #383838; stroke-width: 1.0;\"/><ellipse cx=\"288.9148\" cy=\"414.9803\" fill=\"#383838\" rx=\"2\" ry=\"2\" style=\"stroke: #383838; stroke-width: 1.0;\"/><ellipse cx=\"292.9358\" cy=\"424.1363\" fill=\"#383838\" rx=\"2\" ry=\"2\" style=\"stroke: #383838; stroke-width: 1.0;\"/></a><!--MD5=[185131fc0dcab0a4505a2ebe144e961b]\n",
       "link E4 to E2--><a href=\"psysml:ad9261f0-dda0-42b5-9d6e-43ebe8822407\" target=\"_top\" title=\"psysml:ad9261f0-dda0-42b5-9d6e-43ebe8822407\" xlink:actuate=\"onRequest\" xlink:href=\"psysml:ad9261f0-dda0-42b5-9d6e-43ebe8822407\" xlink:show=\"new\" xlink:title=\"psysml:ad9261f0-dda0-42b5-9d6e-43ebe8822407\" xlink:type=\"simple\"><path d=\"M305.71,362.01 C294.26,375.08 279.43,392.01 266.14,407.17 \" fill=\"none\" id=\"E4-&gt;E2\" style=\"stroke: #383838; stroke-width: 1.0;\"/><polygon fill=\"#FFFFFF\" points=\"252.58,422.66,259.8401,403.7578,270.3681,412.9861,252.58,422.66\" style=\"stroke: #383838; stroke-width: 1.0;\"/><ellipse cx=\"265.1013\" cy=\"400.7898\" fill=\"#383838\" rx=\"2\" ry=\"2\" style=\"stroke: #383838; stroke-width: 1.0;\"/><ellipse cx=\"272.6213\" cy=\"407.3814\" fill=\"#383838\" rx=\"2\" ry=\"2\" style=\"stroke: #383838; stroke-width: 1.0;\"/></a><!--MD5=[15ebcb19ae302d9b601edb458606d402]\n",
       "link E5 to E2--><a href=\"psysml:b52cccfc-b130-477f-adae-4c6f859e452b\" target=\"_top\" title=\"psysml:b52cccfc-b130-477f-adae-4c6f859e452b\" xlink:actuate=\"onRequest\" xlink:href=\"psysml:b52cccfc-b130-477f-adae-4c6f859e452b\" xlink:show=\"new\" xlink:title=\"psysml:b52cccfc-b130-477f-adae-4c6f859e452b\" xlink:type=\"simple\"><path d=\"M276.17,87.09 C191.88,116.27 54,164 54,164 C54,164 51,316 51,316 C51,316 51,362 51,362 C51,362 139.59,402.4 193.16,426.83 \" fill=\"none\" id=\"E5-&gt;E2\" style=\"stroke: #383838; stroke-width: 1.0; stroke-dasharray: 7.0,7.0;\"/><polygon fill=\"#383838\" points=\"197.91,429,191.3998,421.6096,193.366,426.9138,188.0619,428.88,197.91,429\" style=\"stroke: #383838; stroke-width: 1.0;\"/><text fill=\"#000000\" font-family=\"sans-serif\" font-size=\"13\" lengthAdjust=\"spacingAndGlyphs\" textLength=\"62\" x=\"54\" y=\"267.5669\">«subject»</text></a><!--MD5=[9120cf2e5df3bff93db8f754bbbc09b4]\n",
       "link E5 to E6--><a href=\"psysml:be121dac-af46-4d47-896b-f9a14a0b4d3b\" target=\"_top\" title=\"psysml:be121dac-af46-4d47-896b-f9a14a0b4d3b\" xlink:actuate=\"onRequest\" xlink:href=\"psysml:be121dac-af46-4d47-896b-f9a14a0b4d3b\" xlink:show=\"new\" xlink:title=\"psysml:be121dac-af46-4d47-896b-f9a14a0b4d3b\" xlink:type=\"simple\"><path d=\"M314.14,87.19 C290.69,107.32 256.04,137.06 230.88,158.64 \" fill=\"none\" id=\"E5-&gt;E6\" style=\"stroke: #383838; stroke-width: 1.0;\"/><polygon fill=\"#383838\" points=\"224.7,163.95,232.7276,161.0246,228.8246,156.4675,224.7,163.95\" style=\"stroke: #383838; stroke-width: 1.0;\"/><text fill=\"#000000\" font-family=\"sans-serif\" font-size=\"13\" lengthAdjust=\"spacingAndGlyphs\" textLength=\"73\" x=\"278\" y=\"130.0669\">«objective»</text></a><!--MD5=[452b418e7f8a40397a49b8c0a78acc5b]\n",
       "reverse link E5 to E7--><a href=\"psysml:226717b4-0db0-47e0-9eef-bae3c4ff0509\" target=\"_top\" title=\"psysml:226717b4-0db0-47e0-9eef-bae3c4ff0509\" xlink:actuate=\"onRequest\" xlink:href=\"psysml:226717b4-0db0-47e0-9eef-bae3c4ff0509\" xlink:show=\"new\" xlink:title=\"psysml:226717b4-0db0-47e0-9eef-bae3c4ff0509\" xlink:type=\"simple\"><path d=\"M363.37,97.88 C378.28,118.86 397.2,145.48 410.33,163.95 \" fill=\"none\" id=\"E5&lt;-E7\" style=\"stroke: #383838; stroke-width: 1.0;\"/><polygon fill=\"#FFFFFF\" points=\"355.77,87.19,355.9942,94.3976,362.7336,96.9628,362.5094,89.7552,355.77,87.19\" style=\"stroke: #383838; stroke-width: 1.0;\"/></a><!--MD5=[dc164f5e8a733ab456ef1add180e9e34]\n",
       "reverse link E7 to E8--><a href=\"psysml:6f1f84a3-2ac1-458a-baf6-caa888cc195f\" target=\"_top\" title=\"psysml:6f1f84a3-2ac1-458a-baf6-caa888cc195f\" xlink:actuate=\"onRequest\" xlink:href=\"psysml:6f1f84a3-2ac1-458a-baf6-caa888cc195f\" xlink:show=\"new\" xlink:title=\"psysml:6f1f84a3-2ac1-458a-baf6-caa888cc195f\" xlink:type=\"simple\"><path d=\"M350.86,214.4 C314.24,227.27 278,240 278,240 C278,240 208.68,286.85 165.9,315.76 \" fill=\"none\" id=\"E7&lt;-E8\" style=\"stroke: #383838; stroke-width: 1.0;\"/><polygon fill=\"#FFFFFF\" points=\"363.23,210.05,356.2423,208.269,351.9107,214.0342,358.8984,215.8152,363.23,210.05\" style=\"stroke: #383838; stroke-width: 1.0;\"/><text fill=\"#000000\" font-family=\"sans-serif\" font-size=\"13\" lengthAdjust=\"spacingAndGlyphs\" textLength=\"8\" x=\"165.3056\" y=\"304.9748\">1</text></a><!--MD5=[f1f3f9f2fc535e6147756cb86a7f2e32]\n",
       "link E8 to E2--><a href=\"psysml:2bf4d1c6-7bac-40b1-aaaa-83952da67c38\" target=\"_top\" title=\"psysml:2bf4d1c6-7bac-40b1-aaaa-83952da67c38\" xlink:actuate=\"onRequest\" xlink:href=\"psysml:2bf4d1c6-7bac-40b1-aaaa-83952da67c38\" xlink:show=\"new\" xlink:title=\"psysml:2bf4d1c6-7bac-40b1-aaaa-83952da67c38\" xlink:type=\"simple\"><path d=\"M153.96,362.01 C166.68,375.36 183.23,392.74 197.89,408.14 \" fill=\"none\" id=\"E8-&gt;E2\" style=\"stroke: #383838; stroke-width: 1.0;\"/><polygon fill=\"#FFFFFF\" points=\"211.72,422.66,193.5509,413.7223,203.6924,404.0708,211.72,422.66\" style=\"stroke: #383838; stroke-width: 1.0;\"/><ellipse cx=\"191.0702\" cy=\"408.2144\" fill=\"#383838\" rx=\"2\" ry=\"2\" style=\"stroke: #383838; stroke-width: 1.0;\"/><ellipse cx=\"198.3141\" cy=\"401.3206\" fill=\"#383838\" rx=\"2\" ry=\"2\" style=\"stroke: #383838; stroke-width: 1.0;\"/></a><!--MD5=[9ae28de373ca99bb8a1b38d63370ca7e]\n",
       "reverse link E5 to E9--><a href=\"psysml:eedf805a-a406-401d-b38e-104ba6f0fce6\" target=\"_top\" title=\"psysml:eedf805a-a406-401d-b38e-104ba6f0fce6\" xlink:actuate=\"onRequest\" xlink:href=\"psysml:eedf805a-a406-401d-b38e-104ba6f0fce6\" xlink:show=\"new\" xlink:title=\"psysml:eedf805a-a406-401d-b38e-104ba6f0fce6\" xlink:type=\"simple\"><path d=\"M389.2,93.99 C438.78,123.21 508,164 508,164 C508,164 508,210 508,210 C508,210 470.99,225.77 437.74,239.95 \" fill=\"none\" id=\"E5&lt;-E9\" style=\"stroke: #383838; stroke-width: 1.0;\"/><polygon fill=\"#FFFFFF\" points=\"377.7,87.22,380.8385,93.7123,388.0385,93.3123,384.9,86.82,377.7,87.22\" style=\"stroke: #383838; stroke-width: 1.0;\"/><text fill=\"#000000\" font-family=\"sans-serif\" font-size=\"13\" lengthAdjust=\"spacingAndGlyphs\" textLength=\"8\" x=\"442.5701\" y=\"228.8328\">1</text></a><!--MD5=[5c3bb36fe832a92c7f0e1807dd65209d]\n",
       "link E9 to E2--><a href=\"psysml:3213573e-39ef-4dfb-813d-bdfb08b6e367\" target=\"_top\" title=\"psysml:3213573e-39ef-4dfb-813d-bdfb08b6e367\" xlink:actuate=\"onRequest\" xlink:href=\"psysml:3213573e-39ef-4dfb-813d-bdfb08b6e367\" xlink:show=\"new\" xlink:title=\"psysml:3213573e-39ef-4dfb-813d-bdfb08b6e367\" xlink:type=\"simple\"><path d=\"M329.17,286.05 C292.65,300.23 252,316 252,316 C252,316 244.73,365.33 239.19,402.98 \" fill=\"none\" id=\"E9-&gt;E2\" style=\"stroke: #383838; stroke-width: 1.0;\"/><polygon fill=\"#FFFFFF\" points=\"236.27,422.82,232.1134,403.0028,245.964,405.0429,236.27,422.82\" style=\"stroke: #383838; stroke-width: 1.0;\"/><ellipse cx=\"234.9227\" cy=\"397.6551\" fill=\"#383838\" rx=\"2\" ry=\"2\" style=\"stroke: #383838; stroke-width: 1.0;\"/><ellipse cx=\"244.8159\" cy=\"399.1123\" fill=\"#383838\" rx=\"2\" ry=\"2\" style=\"stroke: #383838; stroke-width: 1.0;\"/></a><!--MD5=[e8d4e62e83dc88f72c2de2e6a85474c2]\n",
       "@startuml\r\n",
       "skinparam linetype polyline\r\n",
       "skinparam monochrome true\r\n",
       "skinparam classbackgroundcolor white\r\n",
       "skinparam shadowing false\r\n",
       "skinparam wrapWidth 300\r\n",
       "hide circle\r\n",
       "\r\n",
       "package \"TradeStudyTest\" as E1  [[psysml:06d75114-8d09-4304-b9ac-1031eaaad748 ]]  {\r\n",
       "comp def \"Engine\" as E2  <<(T,blue) part  def>> [[psysml:377b66bc-6410-4386-a0f5-58eac70f1599 ]] {\r\n",
       "}\r\n",
       "comp usage \"engine1: Engine \" as E3  <<(T,blue) part>> [[psysml:b73c7ebb-9472-45c7-822b-647f60ba4ebd ]] {\r\n",
       "}\r\n",
       "comp usage \"engine2: Engine \" as E4  <<(T,blue) part>> [[psysml:383bc22a-19f8-4697-ba31-98dbfb8a50a3 ]] {\r\n",
       "}\r\n",
       "comp usage \"engineTradeStudy: TradeStudy \" as E5 << analysis>> [[psysml:a2c4dab4-2ddb-42af-80d6-b11f423fabe1 ]] {\r\n",
       "}\r\n",
       "comp usage \"tradeStudyObjective: MaximizeObjective \" as E6  <<(T,blue) requirement>> [[psysml:6f716227-75fa-479d-851c-c6728be0ecaf ]] {\r\n",
       "}\r\n",
       "comp usage \"evaluationFunction \" as E7  <<(T,blue) calculation>> [[psysml:e59262b2-24eb-419d-a794-3b71c7229dcc ]] {\r\n",
       "}\r\n",
       "comp usage \"alternative: Engine \" as E8  <<(T,blue) part>> [[psysml:83f46fb2-5a48-4342-a61e-b1e9a3952716 ]] {\r\n",
       "}\r\n",
       "comp usage \"selectedAlternative: Engine \" as E9  <<(T,blue) part>> [[psysml:43a96bb2-d059-439d-9037-f3d1363e69c1 ]] {\r\n",
       "}\r\n",
       "}\r\n",
       "E3 - -:|> E2 [[psysml:a3c7b902-deb2-42e0-bb2d-9591134be70d ]] \r\n",
       "E4 - -:|> E2 [[psysml:ad9261f0-dda0-42b5-9d6e-43ebe8822407 ]] \r\n",
       "E5 ..> E2 [[psysml:b52cccfc-b130-477f-adae-4c6f859e452b ]] : <<subject>>\r\n",
       "E5 - ->> E6 [[psysml:be121dac-af46-4d47-896b-f9a14a0b4d3b ]] : <<objective>>\r\n",
       "E5 o- - E7 [[psysml:226717b4-0db0-47e0-9eef-bae3c4ff0509 ]] \r\n",
       "E7 o- - \"1\"E8 [[psysml:6f1f84a3-2ac1-458a-baf6-caa888cc195f ]] \r\n",
       "E8 - -:|> E2 [[psysml:2bf4d1c6-7bac-40b1-aaaa-83952da67c38 ]] \r\n",
       "E5 o- - \"1\"E9 [[psysml:eedf805a-a406-401d-b38e-104ba6f0fce6 ]] \r\n",
       "E9 - -:|> E2 [[psysml:3213573e-39ef-4dfb-813d-bdfb08b6e367 ]] \r\n",
       "@enduml\r\n",
       "\n",
       "PlantUML version 1.2020.13(Sat Jun 13 12:26:38 UTC 2020)\n",
       "(EPL source distribution)\n",
       "Java Runtime: OpenJDK Runtime Environment\n",
       "JVM: OpenJDK 64-Bit Server VM\n",
       "Default Encoding: UTF-8\n",
       "Language: en\n",
       "Country: null\n",
       "--></g></svg>"
      ]
     },
     "execution_count": 10,
     "metadata": {},
     "output_type": "execute_result"
    }
   ],
   "source": [
    "%viz --style=\"POLYLINE\" --view=\"Tree\" \"TradeStudyTest\""
   ]
  },
  {
   "cell_type": "code",
   "execution_count": 11,
   "id": "e8d68bd1",
   "metadata": {
    "execution": {
     "iopub.execute_input": "2022-08-19T08:21:15.654497Z",
     "iopub.status.busy": "2022-08-19T08:21:15.653864Z",
     "iopub.status.idle": "2022-08-19T08:21:15.663815Z",
     "shell.execute_reply": "2022-08-19T08:21:15.664147Z"
    }
   },
   "outputs": [
    {
     "data": {
      "image/svg+xml": [
       "<?xml version=\"1.0\" encoding=\"UTF-8\" standalone=\"no\"?><svg xmlns=\"http://www.w3.org/2000/svg\" xmlns:xlink=\"http://www.w3.org/1999/xlink\" contentScriptType=\"application/ecmascript\" contentStyleType=\"text/css\" height=\"12px\" preserveAspectRatio=\"none\" style=\"width:12px;height:12px;\" version=\"1.1\" viewBox=\"0 0 12 12\" width=\"12px\" zoomAndPan=\"magnify\"><defs/><g><!--MD5=[896ac0e7a515d8dd7765a661cb4ee08b]\n",
       "@startuml\r\n",
       "skinparam linetype polyline\r\n",
       "skinparam monochrome true\r\n",
       "skinparam classbackgroundcolor white\r\n",
       "skinparam shadowing false\r\n",
       "skinparam wrapWidth 300\r\n",
       "hide circle\r\n",
       "\r\n",
       "@enduml\r\n",
       "\n",
       "PlantUML version 1.2020.13(Sat Jun 13 12:26:38 UTC 2020)\n",
       "(EPL source distribution)\n",
       "Java Runtime: OpenJDK Runtime Environment\n",
       "JVM: OpenJDK 64-Bit Server VM\n",
       "Default Encoding: UTF-8\n",
       "Language: en\n",
       "Country: null\n",
       "--></g></svg>"
      ]
     },
     "execution_count": 11,
     "metadata": {},
     "output_type": "execute_result"
    }
   ],
   "source": [
    "%viz --style=\"POLYLINE\" --view=\"State\" \"TradeStudyTest\""
   ]
  },
  {
   "cell_type": "code",
   "execution_count": 12,
   "id": "4392a9a5",
   "metadata": {
    "execution": {
     "iopub.execute_input": "2022-08-19T08:21:15.714190Z",
     "iopub.status.busy": "2022-08-19T08:21:15.713739Z",
     "iopub.status.idle": "2022-08-19T08:21:15.769233Z",
     "shell.execute_reply": "2022-08-19T08:21:15.768811Z"
    }
   },
   "outputs": [
    {
     "data": {
      "image/svg+xml": [
       "<?xml version=\"1.0\" encoding=\"UTF-8\" standalone=\"no\"?><svg xmlns=\"http://www.w3.org/2000/svg\" xmlns:xlink=\"http://www.w3.org/1999/xlink\" contentScriptType=\"application/ecmascript\" contentStyleType=\"text/css\" height=\"426px\" preserveAspectRatio=\"none\" style=\"width:569px;height:426px;\" version=\"1.1\" viewBox=\"0 0 569 426\" width=\"569px\" zoomAndPan=\"magnify\"><defs/><g><!--MD5=[fbc87193dbaf4d95561dea2c320d4a47]\n",
       "cluster E1--><a href=\"psysml:06d75114-8d09-4304-b9ac-1031eaaad748\" target=\"_top\" title=\"psysml:06d75114-8d09-4304-b9ac-1031eaaad748\" xlink:actuate=\"onRequest\" xlink:href=\"psysml:06d75114-8d09-4304-b9ac-1031eaaad748\" xlink:show=\"new\" xlink:title=\"psysml:06d75114-8d09-4304-b9ac-1031eaaad748\" xlink:type=\"simple\"><polygon fill=\"#FFFFFF\" points=\"16,6,132,6,139,28.2969,547,28.2969,547,414,16,414,16,6\" style=\"stroke: #000000; stroke-width: 1.5;\"/><line style=\"stroke: #000000; stroke-width: 1.5;\" x1=\"16\" x2=\"139\" y1=\"28.2969\" y2=\"28.2969\"/><text fill=\"#000000\" font-family=\"sans-serif\" font-size=\"14\" font-weight=\"bold\" lengthAdjust=\"spacingAndGlyphs\" textLength=\"110\" x=\"20\" y=\"20.9951\">TradeStudyTest</text></a><!--MD5=[de5ec2e2e8f62f467e546659f5068c88]\n",
       "cluster E5--><a href=\"psysml:a2c4dab4-2ddb-42af-80d6-b11f423fabe1\" target=\"_top\" title=\"psysml:a2c4dab4-2ddb-42af-80d6-b11f423fabe1\" xlink:actuate=\"onRequest\" xlink:href=\"psysml:a2c4dab4-2ddb-42af-80d6-b11f423fabe1\" xlink:show=\"new\" xlink:title=\"psysml:a2c4dab4-2ddb-42af-80d6-b11f423fabe1\" xlink:type=\"simple\"><rect fill=\"#FFFFFF\" height=\"129\" id=\"E5\" rx=\"10\" ry=\"10\" style=\"stroke: #383838; stroke-width: 1.5;\" width=\"199\" x=\"316\" y=\"57\"/><rect fill=\"#F8F8F8\" height=\"37.9375\" rx=\"10\" ry=\"10\" style=\"stroke: #F8F8F8; stroke-width: 1.5;\" width=\"199\" x=\"316\" y=\"57\"/><rect fill=\"#F8F8F8\" height=\"10\" style=\"stroke: #F8F8F8; stroke-width: 1.5;\" width=\"199\" x=\"316\" y=\"84.9375\"/><rect fill=\"none\" height=\"129\" id=\"E5\" rx=\"10\" ry=\"10\" style=\"stroke: #383838; stroke-width: 1.5;\" width=\"199\" x=\"316\" y=\"57\"/><text fill=\"#000000\" font-family=\"sans-serif\" font-size=\"12\" font-style=\"italic\" lengthAdjust=\"spacingAndGlyphs\" textLength=\"64\" x=\"383.5\" y=\"73.1387\">«analysis»</text><text fill=\"#000000\" font-family=\"sans-serif\" font-size=\"12\" lengthAdjust=\"spacingAndGlyphs\" textLength=\"114\" x=\"358.5\" y=\"87.1074\">engineTradeStudy</text><line style=\"stroke: #383838; stroke-width: 1.0;\" x1=\"316\" x2=\"515\" y1=\"94.9375\" y2=\"94.9375\"/></a><!--MD5=[2156ba9850f5573cc1fc38a6a4b2f02b]\n",
       "class E7--><a href=\"psysml:e59262b2-24eb-419d-a794-3b71c7229dcc\" target=\"_top\" title=\"psysml:e59262b2-24eb-419d-a794-3b71c7229dcc\" xlink:actuate=\"onRequest\" xlink:href=\"psysml:e59262b2-24eb-419d-a794-3b71c7229dcc\" xlink:show=\"new\" xlink:title=\"psysml:e59262b2-24eb-419d-a794-3b71c7229dcc\" xlink:type=\"simple\"><rect fill=\"#FFFFFF\" height=\"45.9375\" id=\"E7\" rx=\"10\" ry=\"10\" style=\"stroke: #383838; stroke-width: 1.5;\" width=\"129\" x=\"84.5\" y=\"219\"/><text fill=\"#000000\" font-family=\"sans-serif\" font-size=\"12\" font-style=\"italic\" lengthAdjust=\"spacingAndGlyphs\" textLength=\"82\" x=\"108\" y=\"235.1387\">«calculation»</text><text fill=\"#000000\" font-family=\"sans-serif\" font-size=\"12\" lengthAdjust=\"spacingAndGlyphs\" textLength=\"119\" x=\"87.5\" y=\"249.1074\">evaluationFunction</text><line style=\"stroke: #383838; stroke-width: 1.5;\" x1=\"85.5\" x2=\"212.5\" y1=\"256.9375\" y2=\"256.9375\"/></a><!--MD5=[b9389687b975829384b498ac4b7476b2]\n",
       "class E8--><a href=\"psysml:83f46fb2-5a48-4342-a61e-b1e9a3952716\" target=\"_top\" title=\"psysml:83f46fb2-5a48-4342-a61e-b1e9a3952716\" xlink:actuate=\"onRequest\" xlink:href=\"psysml:83f46fb2-5a48-4342-a61e-b1e9a3952716\" xlink:show=\"new\" xlink:title=\"psysml:83f46fb2-5a48-4342-a61e-b1e9a3952716\" xlink:type=\"simple\"><rect fill=\"#FFFFFF\" height=\"31.9688\" id=\"E8\" rx=\"10\" ry=\"10\" style=\"stroke: #383838; stroke-width: 1.5;\" width=\"128\" x=\"329\" y=\"302\"/><text fill=\"#000000\" font-family=\"sans-serif\" font-size=\"12\" lengthAdjust=\"spacingAndGlyphs\" textLength=\"118\" x=\"332\" y=\"318.1387\">alternative: Engine</text><line style=\"stroke: #383838; stroke-width: 1.5;\" x1=\"330\" x2=\"456\" y1=\"325.9688\" y2=\"325.9688\"/></a><!--MD5=[fd4143e9d270a159db93a4ea2a975926]\n",
       "class E9--><a href=\"psysml:43a96bb2-d059-439d-9037-f3d1363e69c1\" target=\"_top\" title=\"psysml:43a96bb2-d059-439d-9037-f3d1363e69c1\" xlink:actuate=\"onRequest\" xlink:href=\"psysml:43a96bb2-d059-439d-9037-f3d1363e69c1\" xlink:show=\"new\" xlink:title=\"psysml:43a96bb2-d059-439d-9037-f3d1363e69c1\" xlink:type=\"simple\"><rect fill=\"#FFFFFF\" height=\"31.9688\" id=\"E9\" rx=\"10\" ry=\"10\" style=\"stroke: #383838; stroke-width: 1.5;\" width=\"182\" x=\"249\" y=\"226\"/><text fill=\"#000000\" font-family=\"sans-serif\" font-size=\"12\" lengthAdjust=\"spacingAndGlyphs\" textLength=\"172\" x=\"252\" y=\"242.1387\">selectedAlternative: Engine</text><line style=\"stroke: #383838; stroke-width: 1.5;\" x1=\"250\" x2=\"430\" y1=\"249.9688\" y2=\"249.9688\"/></a><g id=\"E1.E2\"><a href=\"psysml:377b66bc-6410-4386-a0f5-58eac70f1599\" target=\"_top\" title=\"psysml:377b66bc-6410-4386-a0f5-58eac70f1599\" xlink:actuate=\"onRequest\" xlink:href=\"psysml:377b66bc-6410-4386-a0f5-58eac70f1599\" xlink:show=\"new\" xlink:title=\"psysml:377b66bc-6410-4386-a0f5-58eac70f1599\" xlink:type=\"simple\"><rect fill=\"#FFFFFF\" height=\"42.9375\" id=\"E2\" style=\"stroke: #383838; stroke-width: 1.5;\" width=\"75\" x=\"355.5\" y=\"355\"/><rect fill=\"#F8F8F8\" height=\"37.9375\" style=\"stroke: #383838; stroke-width: 1.5;\" width=\"75\" x=\"355.5\" y=\"355\"/><text fill=\"#000000\" font-family=\"sans-serif\" font-size=\"12\" font-style=\"italic\" lengthAdjust=\"spacingAndGlyphs\" textLength=\"68\" x=\"359\" y=\"371.1387\">«part  def»</text><text fill=\"#000000\" font-family=\"sans-serif\" font-size=\"12\" lengthAdjust=\"spacingAndGlyphs\" textLength=\"43\" x=\"371.5\" y=\"385.1074\">Engine</text></a></g><g id=\"E1.E3\"><a href=\"psysml:b73c7ebb-9472-45c7-822b-647f60ba4ebd\" target=\"_top\" title=\"psysml:b73c7ebb-9472-45c7-822b-647f60ba4ebd\" xlink:actuate=\"onRequest\" xlink:href=\"psysml:b73c7ebb-9472-45c7-822b-647f60ba4ebd\" xlink:show=\"new\" xlink:title=\"psysml:b73c7ebb-9472-45c7-822b-647f60ba4ebd\" xlink:type=\"simple\"><rect fill=\"#FFFFFF\" height=\"40\" id=\"E3\" rx=\"10\" ry=\"10\" style=\"stroke: #383838; stroke-width: 1.5;\" width=\"113\" x=\"180.5\" y=\"298\"/><rect fill=\"#F8F8F8\" height=\"23.9688\" rx=\"10\" ry=\"10\" style=\"stroke: #F8F8F8; stroke-width: 1.5;\" width=\"113\" x=\"180.5\" y=\"298\"/><rect fill=\"#F8F8F8\" height=\"10\" style=\"stroke: #F8F8F8; stroke-width: 1.5;\" width=\"113\" x=\"180.5\" y=\"311.9688\"/><rect fill=\"none\" height=\"40\" id=\"E3\" rx=\"10\" ry=\"10\" style=\"stroke: #383838; stroke-width: 1.5;\" width=\"113\" x=\"180.5\" y=\"298\"/><text fill=\"#000000\" font-family=\"sans-serif\" font-size=\"12\" lengthAdjust=\"spacingAndGlyphs\" textLength=\"102\" x=\"186\" y=\"314.1387\">engine1: Engine</text></a></g><g id=\"E1.E4\"><a href=\"psysml:383bc22a-19f8-4697-ba31-98dbfb8a50a3\" target=\"_top\" title=\"psysml:383bc22a-19f8-4697-ba31-98dbfb8a50a3\" xlink:actuate=\"onRequest\" xlink:href=\"psysml:383bc22a-19f8-4697-ba31-98dbfb8a50a3\" xlink:show=\"new\" xlink:title=\"psysml:383bc22a-19f8-4697-ba31-98dbfb8a50a3\" xlink:type=\"simple\"><rect fill=\"#FFFFFF\" height=\"40\" id=\"E4\" rx=\"10\" ry=\"10\" style=\"stroke: #383838; stroke-width: 1.5;\" width=\"113\" x=\"32.5\" y=\"298\"/><rect fill=\"#F8F8F8\" height=\"23.9688\" rx=\"10\" ry=\"10\" style=\"stroke: #F8F8F8; stroke-width: 1.5;\" width=\"113\" x=\"32.5\" y=\"298\"/><rect fill=\"#F8F8F8\" height=\"10\" style=\"stroke: #F8F8F8; stroke-width: 1.5;\" width=\"113\" x=\"32.5\" y=\"311.9688\"/><rect fill=\"none\" height=\"40\" id=\"E4\" rx=\"10\" ry=\"10\" style=\"stroke: #383838; stroke-width: 1.5;\" width=\"113\" x=\"32.5\" y=\"298\"/><text fill=\"#000000\" font-family=\"sans-serif\" font-size=\"12\" lengthAdjust=\"spacingAndGlyphs\" textLength=\"102\" x=\"38\" y=\"314.1387\">engine2: Engine</text></a></g><!--MD5=[60a26617385b1d2d0262a64233df1f8d]\n",
       "class E6--><a href=\"psysml:6f716227-75fa-479d-851c-c6728be0ecaf\" target=\"_top\" title=\"psysml:6f716227-75fa-479d-851c-c6728be0ecaf\" xlink:actuate=\"onRequest\" xlink:href=\"psysml:6f716227-75fa-479d-851c-c6728be0ecaf\" xlink:show=\"new\" xlink:title=\"psysml:6f716227-75fa-479d-851c-c6728be0ecaf\" xlink:type=\"simple\"><rect fill=\"#FFFFFF\" height=\"45.9375\" id=\"E6\" rx=\"10\" ry=\"10\" style=\"stroke: #383838; stroke-width: 1.5;\" width=\"132\" x=\"359\" y=\"116\"/><text fill=\"#000000\" font-family=\"sans-serif\" font-size=\"12\" font-style=\"italic\" lengthAdjust=\"spacingAndGlyphs\" textLength=\"70\" x=\"390\" y=\"132.1387\">«objective»</text><text fill=\"#000000\" font-family=\"sans-serif\" font-size=\"12\" lengthAdjust=\"spacingAndGlyphs\" textLength=\"126\" x=\"362\" y=\"146.1074\">tradeStudyObjective</text><line style=\"stroke: #383838; stroke-width: 1.5;\" x1=\"360\" x2=\"490\" y1=\"153.9375\" y2=\"153.9375\"/></a><!--MD5=[05d275557350bfb9b23a4ef7222b4c39]\n",
       "link E3 to E2--><a href=\"psysml:a3c7b902-deb2-42e0-bb2d-9591134be70d\" target=\"_top\" title=\"psysml:a3c7b902-deb2-42e0-bb2d-9591134be70d\" xlink:actuate=\"onRequest\" xlink:href=\"psysml:a3c7b902-deb2-42e0-bb2d-9591134be70d\" xlink:show=\"new\" xlink:title=\"psysml:a3c7b902-deb2-42e0-bb2d-9591134be70d\" xlink:type=\"simple\"><path d=\"M289.81,338.13 C304.69,343.52 320.93,349.4 336.03,354.87 \" fill=\"none\" id=\"E3-&gt;E2\" style=\"stroke: #383838; stroke-width: 1.0;\"/><polygon fill=\"#FFFFFF\" points=\"355.03,361.75,334.7819,361.875,339.5406,348.7085,355.03,361.75\" style=\"stroke: #383838; stroke-width: 1.0;\"/><ellipse cx=\"330.1011\" cy=\"358.0566\" fill=\"#383838\" rx=\"2\" ry=\"2\" style=\"stroke: #383838; stroke-width: 1.0;\"/><ellipse cx=\"333.5002\" cy=\"348.652\" fill=\"#383838\" rx=\"2\" ry=\"2\" style=\"stroke: #383838; stroke-width: 1.0;\"/></a><!--MD5=[185131fc0dcab0a4505a2ebe144e961b]\n",
       "link E4 to E2--><a href=\"psysml:ad9261f0-dda0-42b5-9d6e-43ebe8822407\" target=\"_top\" title=\"psysml:ad9261f0-dda0-42b5-9d6e-43ebe8822407\" xlink:actuate=\"onRequest\" xlink:href=\"psysml:ad9261f0-dda0-42b5-9d6e-43ebe8822407\" xlink:show=\"new\" xlink:title=\"psysml:ad9261f0-dda0-42b5-9d6e-43ebe8822407\" xlink:type=\"simple\"><path d=\"M145.84,333.59 C155.77,336.14 163,338 163,338 C163,338 267.33,355.01 335.45,366.12 \" fill=\"none\" id=\"E4-&gt;E2\" style=\"stroke: #383838; stroke-width: 1.0;\"/><polygon fill=\"#FFFFFF\" points=\"355.28,369.35,335.4021,373.2059,337.6518,359.3878,355.28,369.35\" style=\"stroke: #383838; stroke-width: 1.0;\"/><ellipse cx=\"330.0975\" cy=\"370.3159\" fill=\"#383838\" rx=\"2\" ry=\"2\" style=\"stroke: #383838; stroke-width: 1.0;\"/><ellipse cx=\"331.7044\" cy=\"360.4459\" fill=\"#383838\" rx=\"2\" ry=\"2\" style=\"stroke: #383838; stroke-width: 1.0;\"/></a><!--MD5=[15ebcb19ae302d9b601edb458606d402]\n",
       "link E5 to E2--><a href=\"psysml:b52cccfc-b130-477f-adae-4c6f859e452b\" target=\"_top\" title=\"psysml:b52cccfc-b130-477f-adae-4c6f859e452b\" xlink:actuate=\"onRequest\" xlink:href=\"psysml:b52cccfc-b130-477f-adae-4c6f859e452b\" xlink:show=\"new\" xlink:title=\"psysml:b52cccfc-b130-477f-adae-4c6f859e452b\" xlink:type=\"simple\"><path d=\"M338.141,186.1434 C338.2057,186.3545 338.27,186.5643 338.3339,186.7729 C338.4617,187.1899 338.5879,187.6018 338.7124,188.0081 C339.2104,189.633 339.6806,191.1677 340.1144,192.5831 C341.8494,198.245 343,202 343,202 C343,202 449,219 449,219 C449,219 484,298 484,298 C484,298 484,338 484,338 C484,338 465,347 465,347 C465,347 451.13,352.49 435.56,358.65 \" fill=\"none\" id=\"E5-&gt;E2\" style=\"stroke: #383838; stroke-width: 1.0; stroke-dasharray: 7.0,7.0;\"/><polygon fill=\"#383838\" points=\"430.69,360.58,440.5304,360.9879,435.3392,358.7403,437.5868,353.5491,430.69,360.58\" style=\"stroke: #383838; stroke-width: 1.0;\"/><text fill=\"#000000\" font-family=\"sans-serif\" font-size=\"13\" lengthAdjust=\"spacingAndGlyphs\" textLength=\"62\" x=\"481\" y=\"286.0669\">«subject»</text></a><!--MD5=[452b418e7f8a40397a49b8c0a78acc5b]\n",
       "reverse link E5 to E7--><a href=\"psysml:226717b4-0db0-47e0-9eef-bae3c4ff0509\" target=\"_top\" title=\"psysml:226717b4-0db0-47e0-9eef-bae3c4ff0509\" xlink:actuate=\"onRequest\" xlink:href=\"psysml:226717b4-0db0-47e0-9eef-bae3c4ff0509\" xlink:show=\"new\" xlink:title=\"psysml:226717b4-0db0-47e0-9eef-bae3c4ff0509\" xlink:type=\"simple\"><path d=\"M315.8632,144.6919 C315.7574,144.7529 315.6508,144.8144 315.5433,144.8765 C315.1131,145.1248 314.6683,145.3815 314.2093,145.6464 C312.3734,146.7061 310.3104,147.8968 308.0477,149.2028 C298.9966,154.4269 286.7481,161.4962 273.0413,169.4075 C245.6275,185.23 212.38,204.42 187.21,218.95 \" fill=\"none\" id=\"E5&lt;-E7\" style=\"stroke: #383838; stroke-width: 1.0;\"/><polygon fill=\"#FFFFFF\" points=\"315.8632,144.6919,308.6671,144.2269,305.4701,150.6906,312.6662,151.1556,315.8632,144.6919\" style=\"stroke: #383838; stroke-width: 1.0;\"/></a><!--MD5=[dc164f5e8a733ab456ef1add180e9e34]\n",
       "reverse link E7 to E8--><a href=\"psysml:6f1f84a3-2ac1-458a-baf6-caa888cc195f\" target=\"_top\" title=\"psysml:6f1f84a3-2ac1-458a-baf6-caa888cc195f\" xlink:actuate=\"onRequest\" xlink:href=\"psysml:6f1f84a3-2ac1-458a-baf6-caa888cc195f\" xlink:show=\"new\" xlink:title=\"psysml:6f1f84a3-2ac1-458a-baf6-caa888cc195f\" xlink:type=\"simple\"><path d=\"M226.45,266.49 C264.75,278.1 309.84,291.78 343.44,301.97 \" fill=\"none\" id=\"E7&lt;-E8\" style=\"stroke: #383838; stroke-width: 1.0;\"/><polygon fill=\"#FFFFFF\" points=\"213.75,262.64,218.33,268.2099,225.233,266.1245,220.653,260.5546,213.75,262.64\" style=\"stroke: #383838; stroke-width: 1.0;\"/><text fill=\"#000000\" font-family=\"sans-serif\" font-size=\"13\" lengthAdjust=\"spacingAndGlyphs\" textLength=\"8\" x=\"317.0288\" y=\"290.9767\">1</text></a><!--MD5=[f1f3f9f2fc535e6147756cb86a7f2e32]\n",
       "link E8 to E2--><a href=\"psysml:2bf4d1c6-7bac-40b1-aaaa-83952da67c38\" target=\"_top\" title=\"psysml:2bf4d1c6-7bac-40b1-aaaa-83952da67c38\" xlink:actuate=\"onRequest\" xlink:href=\"psysml:2bf4d1c6-7bac-40b1-aaaa-83952da67c38\" xlink:show=\"new\" xlink:title=\"psysml:2bf4d1c6-7bac-40b1-aaaa-83952da67c38\" xlink:type=\"simple\"><path d=\"M393,334.14 C393,334.24 393,334.34 393,334.44 \" fill=\"none\" id=\"E8-&gt;E2\" style=\"stroke: #383838; stroke-width: 1.0;\"/><polygon fill=\"#FFFFFF\" points=\"393,354.58,386,335.58,400,335.58,393,354.58\" style=\"stroke: #383838; stroke-width: 1.0;\"/><ellipse cx=\"388\" cy=\"329.88\" fill=\"#383838\" rx=\"2\" ry=\"2\" style=\"stroke: #383838; stroke-width: 1.0;\"/><ellipse cx=\"398\" cy=\"329.88\" fill=\"#383838\" rx=\"2\" ry=\"2\" style=\"stroke: #383838; stroke-width: 1.0;\"/><line style=\"stroke: #383838; stroke-width: 1.0;\" x1=\"393\" x2=\"393\" y1=\"334.14\" y2=\"354.58\"/></a><!--MD5=[9ae28de373ca99bb8a1b38d63370ca7e]\n",
       "reverse link E5 to E9--><a href=\"psysml:eedf805a-a406-401d-b38e-104ba6f0fce6\" target=\"_top\" title=\"psysml:eedf805a-a406-401d-b38e-104ba6f0fce6\" xlink:actuate=\"onRequest\" xlink:href=\"psysml:eedf805a-a406-401d-b38e-104ba6f0fce6\" xlink:show=\"new\" xlink:title=\"psysml:eedf805a-a406-401d-b38e-104ba6f0fce6\" xlink:type=\"simple\"><path d=\"M331.3115,186.1541 C331.3575,186.4444 331.4036,186.7349 331.4496,187.0256 C332.1866,191.6761 332.9298,196.366 333.6541,200.9367 C335.1025,210.0781 336.475,218.7425 337.57,225.66 \" fill=\"none\" id=\"E5&lt;-E9\" style=\"stroke: #383838; stroke-width: 1.0;\"/><polygon fill=\"#FFFFFF\" points=\"331.3115,186.1541,328.3,192.7062,333.1898,198.0062,336.2014,191.454,331.3115,186.1541\" style=\"stroke: #383838; stroke-width: 1.0;\"/><text fill=\"#000000\" font-family=\"sans-serif\" font-size=\"13\" lengthAdjust=\"spacingAndGlyphs\" textLength=\"8\" x=\"327.4401\" y=\"214.8571\">1</text></a><!--MD5=[5c3bb36fe832a92c7f0e1807dd65209d]\n",
       "link E9 to E2--><a href=\"psysml:3213573e-39ef-4dfb-813d-bdfb08b6e367\" target=\"_top\" title=\"psysml:3213573e-39ef-4dfb-813d-bdfb08b6e367\" xlink:actuate=\"onRequest\" xlink:href=\"psysml:3213573e-39ef-4dfb-813d-bdfb08b6e367\" xlink:show=\"new\" xlink:title=\"psysml:3213573e-39ef-4dfb-813d-bdfb08b6e367\" xlink:type=\"simple\"><path d=\"M369.04,258 C395.67,271.76 431,290 431,290 C431,290 475,298 475,298 C475,298 475,338 475,338 C475,338 463.47,343.27 449.07,349.86 \" fill=\"none\" id=\"E9-&gt;E2\" style=\"stroke: #383838; stroke-width: 1.0;\"/><polygon fill=\"#FFFFFF\" points=\"430.64,358.29,445.0092,344.0237,450.8303,356.7561,430.64,358.29\" style=\"stroke: #383838; stroke-width: 1.0;\"/><ellipse cx=\"451.0247\" cy=\"343.4726\" fill=\"#383838\" rx=\"2\" ry=\"2\" style=\"stroke: #383838; stroke-width: 1.0;\"/><ellipse cx=\"455.1826\" cy=\"352.5672\" fill=\"#383838\" rx=\"2\" ry=\"2\" style=\"stroke: #383838; stroke-width: 1.0;\"/></a><!--MD5=[e78eb29626164c9a5113b49d8153ac4a]\n",
       "@startuml\r\n",
       "skinparam ranksep 10\r\n",
       "skinparam rectangle {\r\n",
       " backgroundColor<<block>> LightGreen\r\n",
       "}\r\n",
       "skinparam linetype polyline\r\n",
       "skinparam monochrome true\r\n",
       "skinparam classbackgroundcolor white\r\n",
       "skinparam shadowing false\r\n",
       "skinparam wrapWidth 300\r\n",
       "hide circle\r\n",
       "\r\n",
       "package \"TradeStudyTest\" as E1  [[psysml:06d75114-8d09-4304-b9ac-1031eaaad748 ]]  {\r\n",
       "rec def \"Engine\" as E2  <<(T,blue) part  def>> [[psysml:377b66bc-6410-4386-a0f5-58eac70f1599 ]] {\r\n",
       "}\r\n",
       "rec usage \"engine1: Engine\" as E3  [[psysml:b73c7ebb-9472-45c7-822b-647f60ba4ebd ]] {\r\n",
       "}\r\n",
       "rec usage \"engine2: Engine\" as E4  [[psysml:383bc22a-19f8-4697-ba31-98dbfb8a50a3 ]] {\r\n",
       "}\r\n",
       "rec usage \"engineTradeStudy\" as E5 << analysis>> [[psysml:a2c4dab4-2ddb-42af-80d6-b11f423fabe1 ]] {\r\n",
       "comp usage \"tradeStudyObjective\" as E6  <<objective>> [[psysml:6f716227-75fa-479d-851c-c6728be0ecaf ]] {\r\n",
       "}\r\n",
       "}\r\n",
       "comp usage \"evaluationFunction \" as E7  <<(T,blue) calculation>> [[psysml:e59262b2-24eb-419d-a794-3b71c7229dcc ]] {\r\n",
       "}\r\n",
       "comp usage \"alternative: Engine \" as E8  [[psysml:83f46fb2-5a48-4342-a61e-b1e9a3952716 ]] {\r\n",
       "}\r\n",
       "comp usage \"selectedAlternative: Engine \" as E9  [[psysml:43a96bb2-d059-439d-9037-f3d1363e69c1 ]] {\r\n",
       "}\r\n",
       "}\r\n",
       "E3 - -:|> E2 [[psysml:a3c7b902-deb2-42e0-bb2d-9591134be70d ]] \r\n",
       "E4 - -:|> E2 [[psysml:ad9261f0-dda0-42b5-9d6e-43ebe8822407 ]] \r\n",
       "E5 ..> E2 [[psysml:b52cccfc-b130-477f-adae-4c6f859e452b ]] : <<subject>>\r\n",
       "E5 o- - E7 [[psysml:226717b4-0db0-47e0-9eef-bae3c4ff0509 ]] \r\n",
       "E7 o- - \"1\"E8 [[psysml:6f1f84a3-2ac1-458a-baf6-caa888cc195f ]] \r\n",
       "E8 - -:|> E2 [[psysml:2bf4d1c6-7bac-40b1-aaaa-83952da67c38 ]] \r\n",
       "E5 o- - \"1\"E9 [[psysml:eedf805a-a406-401d-b38e-104ba6f0fce6 ]] \r\n",
       "E9 - -:|> E2 [[psysml:3213573e-39ef-4dfb-813d-bdfb08b6e367 ]] \r\n",
       "@enduml\r\n",
       "\n",
       "PlantUML version 1.2020.13(Sat Jun 13 12:26:38 UTC 2020)\n",
       "(EPL source distribution)\n",
       "Java Runtime: OpenJDK Runtime Environment\n",
       "JVM: OpenJDK 64-Bit Server VM\n",
       "Default Encoding: UTF-8\n",
       "Language: en\n",
       "Country: null\n",
       "--></g></svg>"
      ]
     },
     "execution_count": 12,
     "metadata": {},
     "output_type": "execute_result"
    }
   ],
   "source": [
    "%viz --style=\"POLYLINE\" --view=\"Interconnection\" \"TradeStudyTest\""
   ]
  },
  {
   "cell_type": "code",
   "execution_count": 13,
   "id": "47d49761",
   "metadata": {
    "execution": {
     "iopub.execute_input": "2022-08-19T08:21:15.818912Z",
     "iopub.status.busy": "2022-08-19T08:21:15.818459Z",
     "iopub.status.idle": "2022-08-19T08:21:15.856384Z",
     "shell.execute_reply": "2022-08-19T08:21:15.856717Z"
    }
   },
   "outputs": [
    {
     "data": {
      "image/svg+xml": [
       "<?xml version=\"1.0\" encoding=\"UTF-8\" standalone=\"no\"?><svg xmlns=\"http://www.w3.org/2000/svg\" xmlns:xlink=\"http://www.w3.org/1999/xlink\" contentScriptType=\"application/ecmascript\" contentStyleType=\"text/css\" height=\"227px\" preserveAspectRatio=\"none\" style=\"width:442px;height:227px;\" version=\"1.1\" viewBox=\"0 0 442 227\" width=\"442px\" zoomAndPan=\"magnify\"><defs/><g><!--MD5=[fbc87193dbaf4d95561dea2c320d4a47]\n",
       "cluster E1--><a href=\"psysml:a2c4dab4-2ddb-42af-80d6-b11f423fabe1\" target=\"_top\" title=\"psysml:a2c4dab4-2ddb-42af-80d6-b11f423fabe1\" xlink:actuate=\"onRequest\" xlink:href=\"psysml:a2c4dab4-2ddb-42af-80d6-b11f423fabe1\" xlink:show=\"new\" xlink:title=\"psysml:a2c4dab4-2ddb-42af-80d6-b11f423fabe1\" xlink:type=\"simple\"><rect fill=\"#FFFFFF\" height=\"174.36\" id=\"E1\" rx=\"10\" ry=\"10\" style=\"stroke: #383838; stroke-width: 1.5;\" width=\"317\" x=\"47\" y=\"42.0986\"/><rect fill=\"#F8F8F8\" height=\"37.9375\" rx=\"10\" ry=\"10\" style=\"stroke: #F8F8F8; stroke-width: 1.5;\" width=\"317\" x=\"47\" y=\"42.0986\"/><rect fill=\"#F8F8F8\" height=\"10\" style=\"stroke: #F8F8F8; stroke-width: 1.5;\" width=\"317\" x=\"47\" y=\"70.0361\"/><rect fill=\"none\" height=\"174.36\" id=\"E1\" rx=\"10\" ry=\"10\" style=\"stroke: #383838; stroke-width: 1.5;\" width=\"317\" x=\"47\" y=\"42.0986\"/><text fill=\"#000000\" font-family=\"sans-serif\" font-size=\"12\" font-style=\"italic\" lengthAdjust=\"spacingAndGlyphs\" textLength=\"64\" x=\"173.5\" y=\"58.2373\">«analysis»</text><text fill=\"#000000\" font-family=\"sans-serif\" font-size=\"12\" lengthAdjust=\"spacingAndGlyphs\" textLength=\"114\" x=\"148.5\" y=\"72.2061\">engineTradeStudy</text><line style=\"stroke: #383838; stroke-width: 1.0;\" x1=\"47\" x2=\"364\" y1=\"80.0361\" y2=\"80.0361\"/></a><!--MD5=[d5e69f78d87373223dbae638b30a9c99]\n",
       "cluster E3--><a href=\"psysml:e59262b2-24eb-419d-a794-3b71c7229dcc\" target=\"_top\" title=\"psysml:e59262b2-24eb-419d-a794-3b71c7229dcc\" xlink:actuate=\"onRequest\" xlink:href=\"psysml:e59262b2-24eb-419d-a794-3b71c7229dcc\" xlink:show=\"new\" xlink:title=\"psysml:e59262b2-24eb-419d-a794-3b71c7229dcc\" xlink:type=\"simple\"><rect fill=\"#FFFFFF\" height=\"104.86\" id=\"E3\" rx=\"10\" ry=\"10\" style=\"stroke: #383838; stroke-width: 1.5;\" width=\"178\" x=\"145\" y=\"81.5986\"/><rect fill=\"#F8F8F8\" height=\"37.9375\" rx=\"10\" ry=\"10\" style=\"stroke: #F8F8F8; stroke-width: 1.5;\" width=\"178\" x=\"145\" y=\"81.5986\"/><rect fill=\"#F8F8F8\" height=\"10\" style=\"stroke: #F8F8F8; stroke-width: 1.5;\" width=\"178\" x=\"145\" y=\"109.5361\"/><rect fill=\"none\" height=\"104.86\" id=\"E3\" rx=\"10\" ry=\"10\" style=\"stroke: #383838; stroke-width: 1.5;\" width=\"178\" x=\"145\" y=\"81.5986\"/><text fill=\"#000000\" font-family=\"sans-serif\" font-size=\"12\" font-style=\"italic\" lengthAdjust=\"spacingAndGlyphs\" textLength=\"82\" x=\"193\" y=\"97.7373\">«calculation»</text><text fill=\"#000000\" font-family=\"sans-serif\" font-size=\"12\" lengthAdjust=\"spacingAndGlyphs\" textLength=\"119\" x=\"174.5\" y=\"111.7061\">evaluationFunction</text><line style=\"stroke: #383838; stroke-width: 1.0;\" x1=\"145\" x2=\"323\" y1=\"119.5361\" y2=\"119.5361\"/></a><text fill=\"#000000\" font-family=\"sans-serif\" font-size=\"14\" lengthAdjust=\"spacingAndGlyphs\" textLength=\"118\" x=\"6\" y=\"20.7969\">studyAlternatives</text><rect fill=\"#383838\" height=\"12\" style=\"stroke: #F8F8F8; stroke-width: 1.5;\" width=\"12\" x=\"59\" y=\"36.0986\"/><text fill=\"#000000\" font-family=\"sans-serif\" font-size=\"14\" lengthAdjust=\"spacingAndGlyphs\" textLength=\"132\" x=\"298\" y=\"183.0938\">selectedAlternative</text><rect fill=\"#383838\" height=\"12\" style=\"stroke: #F8F8F8; stroke-width: 1.5;\" width=\"12\" x=\"358\" y=\"158.0986\"/><text fill=\"#000000\" font-family=\"sans-serif\" font-size=\"14\" lengthAdjust=\"spacingAndGlyphs\" textLength=\"71\" x=\"198.5\" y=\"60.2969\">alternative</text><rect fill=\"#383838\" height=\"12\" style=\"stroke: #F8F8F8; stroke-width: 1.5;\" width=\"12\" x=\"228\" y=\"75.5986\"/><text fill=\"#000000\" font-family=\"sans-serif\" font-size=\"14\" lengthAdjust=\"spacingAndGlyphs\" textLength=\"39\" x=\"214.5\" y=\"205.4538\">result</text><rect fill=\"#383838\" height=\"12\" style=\"stroke: #F8F8F8; stroke-width: 1.5;\" width=\"12\" x=\"228\" y=\"180.4586\"/><!--MD5=[ad9aee4051f5a2250f389882bd9175d6]\n",
       "@startuml\r\n",
       "skinparam ranksep 8\r\n",
       "skinparam linetype polyline\r\n",
       "skinparam monochrome true\r\n",
       "skinparam classbackgroundcolor white\r\n",
       "skinparam shadowing false\r\n",
       "skinparam wrapWidth 300\r\n",
       "hide circle\r\n",
       "\r\n",
       "rec usage \"engineTradeStudy\" as E1 << analysis>> [[psysml:a2c4dab4-2ddb-42af-80d6-b11f423fabe1 ]] {\r\n",
       "portin \"studyAlternatives\" as E2  [[psysml:ba51db2a-337d-4796-9152-a1747789732e ]] \r\n",
       "rec usage \"evaluationFunction\" as E3  <<(T,blue) calculation>> [[psysml:e59262b2-24eb-419d-a794-3b71c7229dcc ]] {\r\n",
       "portin \"alternative\" as E4  [[psysml:83f46fb2-5a48-4342-a61e-b1e9a3952716 ]] \r\n",
       "portout \"result\" as E5  [[psysml:9307401e-c2bc-4ae8-a206-942b4cc90813 ]] \r\n",
       "}\r\n",
       "\r\n",
       "portout \"selectedAlternative\" as E6  [[psysml:43a96bb2-d059-439d-9037-f3d1363e69c1 ]] \r\n",
       "}\r\n",
       "\r\n",
       "@enduml\r\n",
       "\n",
       "PlantUML version 1.2020.13(Sat Jun 13 12:26:38 UTC 2020)\n",
       "(EPL source distribution)\n",
       "Java Runtime: OpenJDK Runtime Environment\n",
       "JVM: OpenJDK 64-Bit Server VM\n",
       "Default Encoding: UTF-8\n",
       "Language: en\n",
       "Country: null\n",
       "--></g></svg>"
      ]
     },
     "execution_count": 13,
     "metadata": {},
     "output_type": "execute_result"
    }
   ],
   "source": [
    "%viz --style=\"POLYLINE\" --view=\"Action\" \"TradeStudyTest\""
   ]
  },
  {
   "cell_type": "code",
   "execution_count": 14,
   "id": "ba243682",
   "metadata": {
    "execution": {
     "iopub.execute_input": "2022-08-19T08:21:15.906490Z",
     "iopub.status.busy": "2022-08-19T08:21:15.906037Z",
     "iopub.status.idle": "2022-08-19T08:21:15.914360Z",
     "shell.execute_reply": "2022-08-19T08:21:15.914683Z"
    }
   },
   "outputs": [
    {
     "data": {
      "image/svg+xml": [
       "<?xml version=\"1.0\" encoding=\"UTF-8\" standalone=\"no\"?><svg xmlns=\"http://www.w3.org/2000/svg\" xmlns:xlink=\"http://www.w3.org/1999/xlink\" contentScriptType=\"application/ecmascript\" contentStyleType=\"text/css\" height=\"12px\" preserveAspectRatio=\"none\" style=\"width:12px;height:12px;\" version=\"1.1\" viewBox=\"0 0 12 12\" width=\"12px\" zoomAndPan=\"magnify\"><defs/><g><!--MD5=[dc938048236c351797870c36b62f92ad]\n",
       "@startuml\r\n",
       "skinparam roundcorner 20\r\n",
       "skinparam BoxPadding 20\r\n",
       "skinparam SequenceBoxBackgroundColor #white\r\n",
       "skinparam style strictuml\r\n",
       "skinparam maxMessageSize 100\r\n",
       "skinparam linetype polyline\r\n",
       "skinparam monochrome true\r\n",
       "skinparam classbackgroundcolor white\r\n",
       "skinparam shadowing false\r\n",
       "skinparam wrapWidth 300\r\n",
       "hide circle\r\n",
       "\r\n",
       "@enduml\r\n",
       "\n",
       "PlantUML version 1.2020.13(Sat Jun 13 12:26:38 UTC 2020)\n",
       "(EPL source distribution)\n",
       "Java Runtime: OpenJDK Runtime Environment\n",
       "JVM: OpenJDK 64-Bit Server VM\n",
       "Default Encoding: UTF-8\n",
       "Language: en\n",
       "Country: null\n",
       "--></g></svg>"
      ]
     },
     "execution_count": 14,
     "metadata": {},
     "output_type": "execute_result"
    }
   ],
   "source": [
    "%viz --style=\"POLYLINE\" --view=\"Sequence\" \"TradeStudyTest\""
   ]
  },
  {
   "cell_type": "code",
   "execution_count": 15,
   "id": "6eb6bebb",
   "metadata": {
    "execution": {
     "iopub.execute_input": "2022-08-19T08:21:15.964715Z",
     "iopub.status.busy": "2022-08-19T08:21:15.964265Z",
     "iopub.status.idle": "2022-08-19T08:21:16.020612Z",
     "shell.execute_reply": "2022-08-19T08:21:16.020200Z"
    }
   },
   "outputs": [
    {
     "data": {
      "image/svg+xml": [
       "<?xml version=\"1.0\" encoding=\"UTF-8\" standalone=\"no\"?><svg xmlns=\"http://www.w3.org/2000/svg\" xmlns:xlink=\"http://www.w3.org/1999/xlink\" contentScriptType=\"application/ecmascript\" contentStyleType=\"text/css\" height=\"545px\" preserveAspectRatio=\"none\" style=\"width:566px;height:545px;\" version=\"1.1\" viewBox=\"0 0 566 545\" width=\"566px\" zoomAndPan=\"magnify\"><defs/><g><!--MD5=[fbc87193dbaf4d95561dea2c320d4a47]\n",
       "cluster E1--><a href=\"psysml:06d75114-8d09-4304-b9ac-1031eaaad748\" target=\"_top\" title=\"psysml:06d75114-8d09-4304-b9ac-1031eaaad748\" xlink:actuate=\"onRequest\" xlink:href=\"psysml:06d75114-8d09-4304-b9ac-1031eaaad748\" xlink:show=\"new\" xlink:title=\"psysml:06d75114-8d09-4304-b9ac-1031eaaad748\" xlink:type=\"simple\"><polygon fill=\"#FFFFFF\" points=\"16,6,132,6,139,28.2969,544,28.2969,544,533,16,533,16,6\" style=\"stroke: #000000; stroke-width: 1.5;\"/><line style=\"stroke: #000000; stroke-width: 1.5;\" x1=\"16\" x2=\"139\" y1=\"28.2969\" y2=\"28.2969\"/><text fill=\"#000000\" font-family=\"sans-serif\" font-size=\"14\" font-weight=\"bold\" lengthAdjust=\"spacingAndGlyphs\" textLength=\"110\" x=\"20\" y=\"20.9951\">TradeStudyTest</text></a><!--MD5=[de5ec2e2e8f62f467e546659f5068c88]\n",
       "cluster E5--><a href=\"psysml:a2c4dab4-2ddb-42af-80d6-b11f423fabe1\" target=\"_top\" title=\"psysml:a2c4dab4-2ddb-42af-80d6-b11f423fabe1\" xlink:actuate=\"onRequest\" xlink:href=\"psysml:a2c4dab4-2ddb-42af-80d6-b11f423fabe1\" xlink:show=\"new\" xlink:title=\"psysml:a2c4dab4-2ddb-42af-80d6-b11f423fabe1\" xlink:type=\"simple\"><rect fill=\"#FFFFFF\" height=\"129\" id=\"E5\" rx=\"10\" ry=\"10\" style=\"stroke: #383838; stroke-width: 1.5;\" width=\"199\" x=\"238\" y=\"57\"/><rect fill=\"#F8F8F8\" height=\"37.9375\" rx=\"10\" ry=\"10\" style=\"stroke: #F8F8F8; stroke-width: 1.5;\" width=\"199\" x=\"238\" y=\"57\"/><rect fill=\"#F8F8F8\" height=\"10\" style=\"stroke: #F8F8F8; stroke-width: 1.5;\" width=\"199\" x=\"238\" y=\"84.9375\"/><rect fill=\"none\" height=\"129\" id=\"E5\" rx=\"10\" ry=\"10\" style=\"stroke: #383838; stroke-width: 1.5;\" width=\"199\" x=\"238\" y=\"57\"/><text fill=\"#000000\" font-family=\"sans-serif\" font-size=\"12\" font-style=\"italic\" lengthAdjust=\"spacingAndGlyphs\" textLength=\"64\" x=\"305.5\" y=\"73.1387\">«analysis»</text><text fill=\"#000000\" font-family=\"sans-serif\" font-size=\"12\" lengthAdjust=\"spacingAndGlyphs\" textLength=\"114\" x=\"280.5\" y=\"87.1074\">engineTradeStudy</text><line style=\"stroke: #383838; stroke-width: 1.0;\" x1=\"238\" x2=\"437\" y1=\"94.9375\" y2=\"94.9375\"/></a><!--MD5=[b4997ac47864f28c2f74865a473b2911]\n",
       "class E2--><a href=\"psysml:377b66bc-6410-4386-a0f5-58eac70f1599\" target=\"_top\" title=\"psysml:377b66bc-6410-4386-a0f5-58eac70f1599\" xlink:actuate=\"onRequest\" xlink:href=\"psysml:377b66bc-6410-4386-a0f5-58eac70f1599\" xlink:show=\"new\" xlink:title=\"psysml:377b66bc-6410-4386-a0f5-58eac70f1599\" xlink:type=\"simple\"><rect fill=\"#FFFFFF\" height=\"45.9375\" id=\"E2\" style=\"stroke: #383838; stroke-width: 1.5;\" width=\"70\" x=\"292\" y=\"471\"/><text fill=\"#000000\" font-family=\"sans-serif\" font-size=\"12\" font-style=\"italic\" lengthAdjust=\"spacingAndGlyphs\" textLength=\"68\" x=\"293\" y=\"487.1387\">«part  def»</text><text fill=\"#000000\" font-family=\"sans-serif\" font-size=\"12\" lengthAdjust=\"spacingAndGlyphs\" textLength=\"43\" x=\"305.5\" y=\"501.1074\">Engine</text><line style=\"stroke: #383838; stroke-width: 1.5;\" x1=\"293\" x2=\"361\" y1=\"508.9375\" y2=\"508.9375\"/></a><!--MD5=[09b614a08d8cba4a07c9adeb5e0fee81]\n",
       "class E3--><a href=\"psysml:b73c7ebb-9472-45c7-822b-647f60ba4ebd\" target=\"_top\" title=\"psysml:b73c7ebb-9472-45c7-822b-647f60ba4ebd\" xlink:actuate=\"onRequest\" xlink:href=\"psysml:b73c7ebb-9472-45c7-822b-647f60ba4ebd\" xlink:show=\"new\" xlink:title=\"psysml:b73c7ebb-9472-45c7-822b-647f60ba4ebd\" xlink:type=\"simple\"><rect fill=\"#FFFFFF\" height=\"45.9375\" id=\"E3\" rx=\"10\" ry=\"10\" style=\"stroke: #383838; stroke-width: 1.5;\" width=\"112\" x=\"179\" y=\"364\"/><text fill=\"#000000\" font-family=\"sans-serif\" font-size=\"12\" font-style=\"italic\" lengthAdjust=\"spacingAndGlyphs\" textLength=\"40\" x=\"215\" y=\"380.1387\">«part»</text><text fill=\"#000000\" font-family=\"sans-serif\" font-size=\"12\" lengthAdjust=\"spacingAndGlyphs\" textLength=\"102\" x=\"182\" y=\"394.1074\">engine1: Engine</text><line style=\"stroke: #383838; stroke-width: 1.5;\" x1=\"180\" x2=\"290\" y1=\"401.9375\" y2=\"401.9375\"/></a><!--MD5=[ebbe1d658d1005bcc118a6aa81145e00]\n",
       "class E4--><a href=\"psysml:383bc22a-19f8-4697-ba31-98dbfb8a50a3\" target=\"_top\" title=\"psysml:383bc22a-19f8-4697-ba31-98dbfb8a50a3\" xlink:actuate=\"onRequest\" xlink:href=\"psysml:383bc22a-19f8-4697-ba31-98dbfb8a50a3\" xlink:show=\"new\" xlink:title=\"psysml:383bc22a-19f8-4697-ba31-98dbfb8a50a3\" xlink:type=\"simple\"><rect fill=\"#FFFFFF\" height=\"45.9375\" id=\"E4\" rx=\"10\" ry=\"10\" style=\"stroke: #383838; stroke-width: 1.5;\" width=\"112\" x=\"32\" y=\"364\"/><text fill=\"#000000\" font-family=\"sans-serif\" font-size=\"12\" font-style=\"italic\" lengthAdjust=\"spacingAndGlyphs\" textLength=\"40\" x=\"68\" y=\"380.1387\">«part»</text><text fill=\"#000000\" font-family=\"sans-serif\" font-size=\"12\" lengthAdjust=\"spacingAndGlyphs\" textLength=\"102\" x=\"35\" y=\"394.1074\">engine2: Engine</text><line style=\"stroke: #383838; stroke-width: 1.5;\" x1=\"33\" x2=\"143\" y1=\"401.9375\" y2=\"401.9375\"/></a><!--MD5=[2156ba9850f5573cc1fc38a6a4b2f02b]\n",
       "class E7--><a href=\"psysml:e59262b2-24eb-419d-a794-3b71c7229dcc\" target=\"_top\" title=\"psysml:e59262b2-24eb-419d-a794-3b71c7229dcc\" xlink:actuate=\"onRequest\" xlink:href=\"psysml:e59262b2-24eb-419d-a794-3b71c7229dcc\" xlink:show=\"new\" xlink:title=\"psysml:e59262b2-24eb-419d-a794-3b71c7229dcc\" xlink:type=\"simple\"><rect fill=\"#FFFFFF\" height=\"45.9375\" id=\"E7\" rx=\"10\" ry=\"10\" style=\"stroke: #383838; stroke-width: 1.5;\" width=\"129\" x=\"181.5\" y=\"241\"/><text fill=\"#000000\" font-family=\"sans-serif\" font-size=\"12\" font-style=\"italic\" lengthAdjust=\"spacingAndGlyphs\" textLength=\"82\" x=\"205\" y=\"257.1387\">«calculation»</text><text fill=\"#000000\" font-family=\"sans-serif\" font-size=\"12\" lengthAdjust=\"spacingAndGlyphs\" textLength=\"119\" x=\"184.5\" y=\"271.1074\">evaluationFunction</text><line style=\"stroke: #383838; stroke-width: 1.5;\" x1=\"182.5\" x2=\"309.5\" y1=\"278.9375\" y2=\"278.9375\"/></a><!--MD5=[b9389687b975829384b498ac4b7476b2]\n",
       "class E8--><a href=\"psysml:83f46fb2-5a48-4342-a61e-b1e9a3952716\" target=\"_top\" title=\"psysml:83f46fb2-5a48-4342-a61e-b1e9a3952716\" xlink:actuate=\"onRequest\" xlink:href=\"psysml:83f46fb2-5a48-4342-a61e-b1e9a3952716\" xlink:show=\"new\" xlink:title=\"psysml:83f46fb2-5a48-4342-a61e-b1e9a3952716\" xlink:type=\"simple\"><rect fill=\"#FFFFFF\" height=\"45.9375\" id=\"E8\" rx=\"10\" ry=\"10\" style=\"stroke: #383838; stroke-width: 1.5;\" width=\"128\" x=\"363\" y=\"364\"/><text fill=\"#000000\" font-family=\"sans-serif\" font-size=\"12\" font-style=\"italic\" lengthAdjust=\"spacingAndGlyphs\" textLength=\"40\" x=\"407\" y=\"380.1387\">«part»</text><text fill=\"#000000\" font-family=\"sans-serif\" font-size=\"12\" lengthAdjust=\"spacingAndGlyphs\" textLength=\"118\" x=\"366\" y=\"394.1074\">alternative: Engine</text><line style=\"stroke: #383838; stroke-width: 1.5;\" x1=\"364\" x2=\"490\" y1=\"401.9375\" y2=\"401.9375\"/></a><!--MD5=[fd4143e9d270a159db93a4ea2a975926]\n",
       "class E9--><a href=\"psysml:43a96bb2-d059-439d-9037-f3d1363e69c1\" target=\"_top\" title=\"psysml:43a96bb2-d059-439d-9037-f3d1363e69c1\" xlink:actuate=\"onRequest\" xlink:href=\"psysml:43a96bb2-d059-439d-9037-f3d1363e69c1\" xlink:show=\"new\" xlink:title=\"psysml:43a96bb2-d059-439d-9037-f3d1363e69c1\" xlink:type=\"simple\"><rect fill=\"#FFFFFF\" height=\"45.9375\" id=\"E9\" rx=\"10\" ry=\"10\" style=\"stroke: #383838; stroke-width: 1.5;\" width=\"182\" x=\"346\" y=\"241\"/><text fill=\"#000000\" font-family=\"sans-serif\" font-size=\"12\" font-style=\"italic\" lengthAdjust=\"spacingAndGlyphs\" textLength=\"40\" x=\"417\" y=\"257.1387\">«part»</text><text fill=\"#000000\" font-family=\"sans-serif\" font-size=\"12\" lengthAdjust=\"spacingAndGlyphs\" textLength=\"172\" x=\"349\" y=\"271.1074\">selectedAlternative: Engine</text><line style=\"stroke: #383838; stroke-width: 1.5;\" x1=\"347\" x2=\"527\" y1=\"278.9375\" y2=\"278.9375\"/></a><!--MD5=[60a26617385b1d2d0262a64233df1f8d]\n",
       "class E6--><a href=\"psysml:6f716227-75fa-479d-851c-c6728be0ecaf\" target=\"_top\" title=\"psysml:6f716227-75fa-479d-851c-c6728be0ecaf\" xlink:actuate=\"onRequest\" xlink:href=\"psysml:6f716227-75fa-479d-851c-c6728be0ecaf\" xlink:show=\"new\" xlink:title=\"psysml:6f716227-75fa-479d-851c-c6728be0ecaf\" xlink:type=\"simple\"><rect fill=\"#FFFFFF\" height=\"45.9375\" id=\"E6\" rx=\"10\" ry=\"10\" style=\"stroke: #383838; stroke-width: 1.5;\" width=\"132\" x=\"281\" y=\"116\"/><text fill=\"#000000\" font-family=\"sans-serif\" font-size=\"12\" font-style=\"italic\" lengthAdjust=\"spacingAndGlyphs\" textLength=\"70\" x=\"312\" y=\"132.1387\">«objective»</text><text fill=\"#000000\" font-family=\"sans-serif\" font-size=\"12\" lengthAdjust=\"spacingAndGlyphs\" textLength=\"126\" x=\"284\" y=\"146.1074\">tradeStudyObjective</text><line style=\"stroke: #383838; stroke-width: 1.5;\" x1=\"282\" x2=\"412\" y1=\"153.9375\" y2=\"153.9375\"/></a><!--MD5=[05d275557350bfb9b23a4ef7222b4c39]\n",
       "link E3 to E2--><a href=\"psysml:a3c7b902-deb2-42e0-bb2d-9591134be70d\" target=\"_top\" title=\"psysml:a3c7b902-deb2-42e0-bb2d-9591134be70d\" xlink:actuate=\"onRequest\" xlink:href=\"psysml:a3c7b902-deb2-42e0-bb2d-9591134be70d\" xlink:show=\"new\" xlink:title=\"psysml:a3c7b902-deb2-42e0-bb2d-9591134be70d\" xlink:type=\"simple\"><path d=\"M254.29,410.01 C265.74,423.08 280.57,440.01 293.86,455.17 \" fill=\"none\" id=\"E3-&gt;E2\" style=\"stroke: #383838; stroke-width: 1.0;\"/><polygon fill=\"#FFFFFF\" points=\"307.42,470.66,289.6319,460.9861,300.1599,451.7578,307.42,470.66\" style=\"stroke: #383838; stroke-width: 1.0;\"/><ellipse cx=\"287.3787\" cy=\"455.3814\" fill=\"#383838\" rx=\"2\" ry=\"2\" style=\"stroke: #383838; stroke-width: 1.0;\"/><ellipse cx=\"294.8987\" cy=\"448.7898\" fill=\"#383838\" rx=\"2\" ry=\"2\" style=\"stroke: #383838; stroke-width: 1.0;\"/></a><!--MD5=[185131fc0dcab0a4505a2ebe144e961b]\n",
       "link E4 to E2--><a href=\"psysml:ad9261f0-dda0-42b5-9d6e-43ebe8822407\" target=\"_top\" title=\"psysml:ad9261f0-dda0-42b5-9d6e-43ebe8822407\" xlink:actuate=\"onRequest\" xlink:href=\"psysml:ad9261f0-dda0-42b5-9d6e-43ebe8822407\" xlink:show=\"new\" xlink:title=\"psysml:ad9261f0-dda0-42b5-9d6e-43ebe8822407\" xlink:type=\"simple\"><path d=\"M138.1,410.01 C177.63,427.38 232.65,451.55 273.12,469.33 \" fill=\"none\" id=\"E4-&gt;E2\" style=\"stroke: #383838; stroke-width: 1.0;\"/><polygon fill=\"#FFFFFF\" points=\"291.69,477.49,271.479,476.2594,277.1083,463.4411,291.69,477.49\" style=\"stroke: #383838; stroke-width: 1.0;\"/><ellipse cx=\"267.0642\" cy=\"472.1363\" fill=\"#383838\" rx=\"2\" ry=\"2\" style=\"stroke: #383838; stroke-width: 1.0;\"/><ellipse cx=\"271.0852\" cy=\"462.9803\" fill=\"#383838\" rx=\"2\" ry=\"2\" style=\"stroke: #383838; stroke-width: 1.0;\"/></a><!--MD5=[15ebcb19ae302d9b601edb458606d402]\n",
       "link E5 to E2--><a href=\"psysml:b52cccfc-b130-477f-adae-4c6f859e452b\" target=\"_top\" title=\"psysml:b52cccfc-b130-477f-adae-4c6f859e452b\" xlink:actuate=\"onRequest\" xlink:href=\"psysml:b52cccfc-b130-477f-adae-4c6f859e452b\" xlink:show=\"new\" xlink:title=\"psysml:b52cccfc-b130-477f-adae-4c6f859e452b\" xlink:type=\"simple\"><path d=\"M237.7579,150.1502 C237.6584,150.2728 237.5582,150.3963 237.4572,150.5206 C235.8418,152.5106 234.0402,154.7298 232.0906,157.1313 C224.2925,166.7369 214.1275,179.2575 204.04,191.6825 C183.865,216.5325 164,241 164,241 C164,241 164,287 164,287 C164,287 309,364 309,364 C309,364 317.87,427.54 323.15,465.43 \" fill=\"none\" id=\"E5-&gt;E2\" style=\"stroke: #383838; stroke-width: 1.0; stroke-dasharray: 7.0,7.0;\"/><polygon fill=\"#383838\" points=\"323.91,470.82,326.6391,461.3568,323.2249,465.8672,318.7145,462.453,323.91,470.82\" style=\"stroke: #383838; stroke-width: 1.0;\"/><text fill=\"#000000\" font-family=\"sans-serif\" font-size=\"13\" lengthAdjust=\"spacingAndGlyphs\" textLength=\"62\" x=\"252\" y=\"330.0669\">«subject»</text></a><!--MD5=[452b418e7f8a40397a49b8c0a78acc5b]\n",
       "reverse link E5 to E7--><a href=\"psysml:226717b4-0db0-47e0-9eef-bae3c4ff0509\" target=\"_top\" title=\"psysml:226717b4-0db0-47e0-9eef-bae3c4ff0509\" xlink:actuate=\"onRequest\" xlink:href=\"psysml:226717b4-0db0-47e0-9eef-bae3c4ff0509\" xlink:show=\"new\" xlink:title=\"psysml:226717b4-0db0-47e0-9eef-bae3c4ff0509\" xlink:type=\"simple\"><path d=\"M246,186.2997 C246,188.9655 246,191.6719 246,194.3971 C246,199.8476 246,205.3735 246,210.8005 C246,221.6544 246,232.1125 246,240.78 \" fill=\"none\" id=\"E5&lt;-E7\" style=\"stroke: #383838; stroke-width: 1.0;\"/><polygon fill=\"#FFFFFF\" points=\"246,186.2997,242,192.2997,246,198.2997,250,192.2997,246,186.2997\" style=\"stroke: #383838; stroke-width: 1.0;\"/></a><!--MD5=[dc164f5e8a733ab456ef1add180e9e34]\n",
       "reverse link E7 to E8--><a href=\"psysml:6f1f84a3-2ac1-458a-baf6-caa888cc195f\" target=\"_top\" title=\"psysml:6f1f84a3-2ac1-458a-baf6-caa888cc195f\" xlink:actuate=\"onRequest\" xlink:href=\"psysml:6f1f84a3-2ac1-458a-baf6-caa888cc195f\" xlink:show=\"new\" xlink:title=\"psysml:6f1f84a3-2ac1-458a-baf6-caa888cc195f\" xlink:type=\"simple\"><path d=\"M290.06,294.45 C322.12,315.89 364.86,344.46 394.01,363.95 \" fill=\"none\" id=\"E7&lt;-E8\" style=\"stroke: #383838; stroke-width: 1.0;\"/><polygon fill=\"#FFFFFF\" points=\"279.2,287.19,281.9674,293.8489,289.1785,293.8555,286.4111,287.1966,279.2,287.19\" style=\"stroke: #383838; stroke-width: 1.0;\"/><text fill=\"#000000\" font-family=\"sans-serif\" font-size=\"13\" lengthAdjust=\"spacingAndGlyphs\" textLength=\"8\" x=\"376.0689\" y=\"352.8328\">1</text></a><!--MD5=[f1f3f9f2fc535e6147756cb86a7f2e32]\n",
       "link E8 to E2--><a href=\"psysml:2bf4d1c6-7bac-40b1-aaaa-83952da67c38\" target=\"_top\" title=\"psysml:2bf4d1c6-7bac-40b1-aaaa-83952da67c38\" xlink:actuate=\"onRequest\" xlink:href=\"psysml:2bf4d1c6-7bac-40b1-aaaa-83952da67c38\" xlink:show=\"new\" xlink:title=\"psysml:2bf4d1c6-7bac-40b1-aaaa-83952da67c38\" xlink:type=\"simple\"><path d=\"M406.04,410.01 C393.32,423.36 376.77,440.74 362.11,456.14 \" fill=\"none\" id=\"E8-&gt;E2\" style=\"stroke: #383838; stroke-width: 1.0;\"/><polygon fill=\"#FFFFFF\" points=\"348.28,470.66,356.3076,452.0708,366.4491,461.7223,348.28,470.66\" style=\"stroke: #383838; stroke-width: 1.0;\"/><ellipse cx=\"361.6859\" cy=\"449.3206\" fill=\"#383838\" rx=\"2\" ry=\"2\" style=\"stroke: #383838; stroke-width: 1.0;\"/><ellipse cx=\"368.9298\" cy=\"456.2144\" fill=\"#383838\" rx=\"2\" ry=\"2\" style=\"stroke: #383838; stroke-width: 1.0;\"/></a><!--MD5=[9ae28de373ca99bb8a1b38d63370ca7e]\n",
       "reverse link E5 to E9--><a href=\"psysml:eedf805a-a406-401d-b38e-104ba6f0fce6\" target=\"_top\" title=\"psysml:eedf805a-a406-401d-b38e-104ba6f0fce6\" xlink:actuate=\"onRequest\" xlink:href=\"psysml:eedf805a-a406-401d-b38e-104ba6f0fce6\" xlink:show=\"new\" xlink:title=\"psysml:eedf805a-a406-401d-b38e-104ba6f0fce6\" xlink:type=\"simple\"><path d=\"M260.141,186.1434 C260.2057,186.3545 260.27,186.5643 260.3339,186.7729 C260.4617,187.1899 260.5879,187.6018 260.7124,188.0081 C261.2104,189.633 261.6806,191.1677 262.1144,192.5831 C263.8494,198.245 265,202 265,202 C265,202 325.64,223.5 374.9,240.98 \" fill=\"none\" id=\"E5&lt;-E9\" style=\"stroke: #383838; stroke-width: 1.0;\"/><polygon fill=\"#FFFFFF\" points=\"260.141,186.1434,258.0745,193.0521,263.6569,197.6168,265.7234,190.7081,260.141,186.1434\" style=\"stroke: #383838; stroke-width: 1.0;\"/><text fill=\"#000000\" font-family=\"sans-serif\" font-size=\"13\" lengthAdjust=\"spacingAndGlyphs\" textLength=\"8\" x=\"349.1356\" y=\"229.8709\">1</text></a><!--MD5=[5c3bb36fe832a92c7f0e1807dd65209d]\n",
       "link E9 to E2--><a href=\"psysml:3213573e-39ef-4dfb-813d-bdfb08b6e367\" target=\"_top\" title=\"psysml:3213573e-39ef-4dfb-813d-bdfb08b6e367\" xlink:actuate=\"onRequest\" xlink:href=\"psysml:3213573e-39ef-4dfb-813d-bdfb08b6e367\" xlink:show=\"new\" xlink:title=\"psysml:3213573e-39ef-4dfb-813d-bdfb08b6e367\" xlink:type=\"simple\"><path d=\"M453.34,287.46 C474.58,316.67 509,364 509,364 C509,364 509,410 509,410 C509,410 434.09,444.16 380.39,468.65 \" fill=\"none\" id=\"E9-&gt;E2\" style=\"stroke: #383838; stroke-width: 1.0;\"/><polygon fill=\"#FFFFFF\" points=\"362.09,477,376.4727,462.7473,382.2817,475.4852,362.09,477\" style=\"stroke: #383838; stroke-width: 1.0;\"/><ellipse cx=\"382.4887\" cy=\"462.2019\" fill=\"#383838\" rx=\"2\" ry=\"2\" style=\"stroke: #383838; stroke-width: 1.0;\"/><ellipse cx=\"386.638\" cy=\"471.3004\" fill=\"#383838\" rx=\"2\" ry=\"2\" style=\"stroke: #383838; stroke-width: 1.0;\"/></a><!--MD5=[a38ef33a9194e1f052c0784d5e3a002d]\n",
       "@startuml\r\n",
       "skinparam linetype polyline\r\n",
       "skinparam monochrome true\r\n",
       "skinparam classbackgroundcolor white\r\n",
       "skinparam shadowing false\r\n",
       "skinparam wrapWidth 300\r\n",
       "hide circle\r\n",
       "\r\n",
       "package \"TradeStudyTest\" as E1  [[psysml:06d75114-8d09-4304-b9ac-1031eaaad748 ]]  {\r\n",
       "comp def \"Engine\" as E2  <<(T,blue) part  def>> [[psysml:377b66bc-6410-4386-a0f5-58eac70f1599 ]] {\r\n",
       "}\r\n",
       "comp usage \"engine1: Engine \" as E3  <<(T,blue) part>> [[psysml:b73c7ebb-9472-45c7-822b-647f60ba4ebd ]] {\r\n",
       "}\r\n",
       "comp usage \"engine2: Engine \" as E4  <<(T,blue) part>> [[psysml:383bc22a-19f8-4697-ba31-98dbfb8a50a3 ]] {\r\n",
       "}\r\n",
       "rec usage \"engineTradeStudy\" as E5 << analysis>> [[psysml:a2c4dab4-2ddb-42af-80d6-b11f423fabe1 ]] {\r\n",
       "comp usage \"tradeStudyObjective\" as E6  <<objective>> [[psysml:6f716227-75fa-479d-851c-c6728be0ecaf ]] {\r\n",
       "}\r\n",
       "}\r\n",
       "comp usage \"evaluationFunction \" as E7  <<(T,blue) calculation>> [[psysml:e59262b2-24eb-419d-a794-3b71c7229dcc ]] {\r\n",
       "}\r\n",
       "comp usage \"alternative: Engine \" as E8  <<(T,blue) part>> [[psysml:83f46fb2-5a48-4342-a61e-b1e9a3952716 ]] {\r\n",
       "}\r\n",
       "comp usage \"selectedAlternative: Engine \" as E9  <<(T,blue) part>> [[psysml:43a96bb2-d059-439d-9037-f3d1363e69c1 ]] {\r\n",
       "}\r\n",
       "}\r\n",
       "E3 - -:|> E2 [[psysml:a3c7b902-deb2-42e0-bb2d-9591134be70d ]] \r\n",
       "E4 - -:|> E2 [[psysml:ad9261f0-dda0-42b5-9d6e-43ebe8822407 ]] \r\n",
       "E5 ..> E2 [[psysml:b52cccfc-b130-477f-adae-4c6f859e452b ]] : <<subject>>\r\n",
       "E5 o- - E7 [[psysml:226717b4-0db0-47e0-9eef-bae3c4ff0509 ]] \r\n",
       "E7 o- - \"1\"E8 [[psysml:6f1f84a3-2ac1-458a-baf6-caa888cc195f ]] \r\n",
       "E8 - -:|> E2 [[psysml:2bf4d1c6-7bac-40b1-aaaa-83952da67c38 ]] \r\n",
       "E5 o- - \"1\"E9 [[psysml:eedf805a-a406-401d-b38e-104ba6f0fce6 ]] \r\n",
       "E9 - -:|> E2 [[psysml:3213573e-39ef-4dfb-813d-bdfb08b6e367 ]] \r\n",
       "@enduml\r\n",
       "\n",
       "PlantUML version 1.2020.13(Sat Jun 13 12:26:38 UTC 2020)\n",
       "(EPL source distribution)\n",
       "Java Runtime: OpenJDK Runtime Environment\n",
       "JVM: OpenJDK 64-Bit Server VM\n",
       "Default Encoding: UTF-8\n",
       "Language: en\n",
       "Country: null\n",
       "--></g></svg>"
      ]
     },
     "execution_count": 15,
     "metadata": {},
     "output_type": "execute_result"
    }
   ],
   "source": [
    "%viz --style=\"POLYLINE\" --view=\"MIXED\" \"TradeStudyTest\""
   ]
  },
  {
   "cell_type": "code",
   "execution_count": 16,
   "id": "e0ba3d7f",
   "metadata": {
    "execution": {
     "iopub.execute_input": "2022-08-19T08:21:16.070451Z",
     "iopub.status.busy": "2022-08-19T08:21:16.069988Z",
     "iopub.status.idle": "2022-08-19T08:21:16.124367Z",
     "shell.execute_reply": "2022-08-19T08:21:16.122710Z"
    }
   },
   "outputs": [
    {
     "data": {
      "image/svg+xml": [
       "<?xml version=\"1.0\" encoding=\"UTF-8\" standalone=\"no\"?><svg xmlns=\"http://www.w3.org/2000/svg\" xmlns:xlink=\"http://www.w3.org/1999/xlink\" contentScriptType=\"application/ecmascript\" contentStyleType=\"text/css\" height=\"351px\" preserveAspectRatio=\"none\" style=\"width:886px;height:351px;\" version=\"1.1\" viewBox=\"0 0 886 351\" width=\"886px\" zoomAndPan=\"magnify\"><defs/><g><!--MD5=[fbc87193dbaf4d95561dea2c320d4a47]\n",
       "cluster E1--><a href=\"psysml:06d75114-8d09-4304-b9ac-1031eaaad748\" target=\"_top\" title=\"psysml:06d75114-8d09-4304-b9ac-1031eaaad748\" xlink:actuate=\"onRequest\" xlink:href=\"psysml:06d75114-8d09-4304-b9ac-1031eaaad748\" xlink:show=\"new\" xlink:title=\"psysml:06d75114-8d09-4304-b9ac-1031eaaad748\" xlink:type=\"simple\"><polygon fill=\"#FFFFFF\" points=\"16,6,132,6,139,28.2969,864,28.2969,864,339,16,339,16,6\" style=\"stroke: #000000; stroke-width: 1.5;\"/><line style=\"stroke: #000000; stroke-width: 1.5;\" x1=\"16\" x2=\"139\" y1=\"28.2969\" y2=\"28.2969\"/><text fill=\"#000000\" font-family=\"sans-serif\" font-size=\"14\" font-weight=\"bold\" lengthAdjust=\"spacingAndGlyphs\" textLength=\"110\" x=\"20\" y=\"20.9951\">TradeStudyTest</text></a><!--MD5=[de5ec2e2e8f62f467e546659f5068c88]\n",
       "cluster E5--><a href=\"psysml:a2c4dab4-2ddb-42af-80d6-b11f423fabe1\" target=\"_top\" title=\"psysml:a2c4dab4-2ddb-42af-80d6-b11f423fabe1\" xlink:actuate=\"onRequest\" xlink:href=\"psysml:a2c4dab4-2ddb-42af-80d6-b11f423fabe1\" xlink:show=\"new\" xlink:title=\"psysml:a2c4dab4-2ddb-42af-80d6-b11f423fabe1\" xlink:type=\"simple\"><rect fill=\"#FFFFFF\" height=\"148\" id=\"E5\" rx=\"10\" ry=\"10\" style=\"stroke: #383838; stroke-width: 1.5;\" width=\"180\" x=\"48\" y=\"57\"/><rect fill=\"#F8F8F8\" height=\"37.9375\" rx=\"10\" ry=\"10\" style=\"stroke: #F8F8F8; stroke-width: 1.5;\" width=\"180\" x=\"48\" y=\"57\"/><rect fill=\"#F8F8F8\" height=\"10\" style=\"stroke: #F8F8F8; stroke-width: 1.5;\" width=\"180\" x=\"48\" y=\"84.9375\"/><rect fill=\"none\" height=\"148\" id=\"E5\" rx=\"10\" ry=\"10\" style=\"stroke: #383838; stroke-width: 1.5;\" width=\"180\" x=\"48\" y=\"57\"/><text fill=\"#000000\" font-family=\"sans-serif\" font-size=\"12\" font-style=\"italic\" lengthAdjust=\"spacingAndGlyphs\" textLength=\"64\" x=\"106\" y=\"73.1387\">«analysis»</text><text fill=\"#000000\" font-family=\"sans-serif\" font-size=\"12\" lengthAdjust=\"spacingAndGlyphs\" textLength=\"114\" x=\"81\" y=\"87.1074\">engineTradeStudy</text><line style=\"stroke: #383838; stroke-width: 1.0;\" x1=\"48\" x2=\"228\" y1=\"94.9375\" y2=\"94.9375\"/></a><!--MD5=[b4997ac47864f28c2f74865a473b2911]\n",
       "class E2--><a href=\"psysml:377b66bc-6410-4386-a0f5-58eac70f1599\" target=\"_top\" title=\"psysml:377b66bc-6410-4386-a0f5-58eac70f1599\" xlink:actuate=\"onRequest\" xlink:href=\"psysml:377b66bc-6410-4386-a0f5-58eac70f1599\" xlink:show=\"new\" xlink:title=\"psysml:377b66bc-6410-4386-a0f5-58eac70f1599\" xlink:type=\"simple\"><rect fill=\"#FFFFFF\" height=\"45.9375\" id=\"E2\" style=\"stroke: #383838; stroke-width: 1.5;\" width=\"70\" x=\"778\" y=\"137\"/><text fill=\"#000000\" font-family=\"sans-serif\" font-size=\"12\" font-style=\"italic\" lengthAdjust=\"spacingAndGlyphs\" textLength=\"68\" x=\"779\" y=\"153.1387\">«part  def»</text><text fill=\"#000000\" font-family=\"sans-serif\" font-size=\"12\" lengthAdjust=\"spacingAndGlyphs\" textLength=\"43\" x=\"791.5\" y=\"167.1074\">Engine</text><line style=\"stroke: #383838; stroke-width: 1.5;\" x1=\"779\" x2=\"847\" y1=\"174.9375\" y2=\"174.9375\"/></a><!--MD5=[09b614a08d8cba4a07c9adeb5e0fee81]\n",
       "class E3--><a href=\"psysml:b73c7ebb-9472-45c7-822b-647f60ba4ebd\" target=\"_top\" title=\"psysml:b73c7ebb-9472-45c7-822b-647f60ba4ebd\" xlink:actuate=\"onRequest\" xlink:href=\"psysml:b73c7ebb-9472-45c7-822b-647f60ba4ebd\" xlink:show=\"new\" xlink:title=\"psysml:b73c7ebb-9472-45c7-822b-647f60ba4ebd\" xlink:type=\"simple\"><rect fill=\"#FFFFFF\" height=\"45.9375\" id=\"E3\" rx=\"10\" ry=\"10\" style=\"stroke: #383838; stroke-width: 1.5;\" width=\"112\" x=\"597\" y=\"196\"/><text fill=\"#000000\" font-family=\"sans-serif\" font-size=\"12\" font-style=\"italic\" lengthAdjust=\"spacingAndGlyphs\" textLength=\"40\" x=\"633\" y=\"212.1387\">«part»</text><text fill=\"#000000\" font-family=\"sans-serif\" font-size=\"12\" lengthAdjust=\"spacingAndGlyphs\" textLength=\"102\" x=\"600\" y=\"226.1074\">engine1: Engine</text><line style=\"stroke: #383838; stroke-width: 1.5;\" x1=\"598\" x2=\"708\" y1=\"233.9375\" y2=\"233.9375\"/></a><!--MD5=[ebbe1d658d1005bcc118a6aa81145e00]\n",
       "class E4--><a href=\"psysml:383bc22a-19f8-4697-ba31-98dbfb8a50a3\" target=\"_top\" title=\"psysml:383bc22a-19f8-4697-ba31-98dbfb8a50a3\" xlink:actuate=\"onRequest\" xlink:href=\"psysml:383bc22a-19f8-4697-ba31-98dbfb8a50a3\" xlink:show=\"new\" xlink:title=\"psysml:383bc22a-19f8-4697-ba31-98dbfb8a50a3\" xlink:type=\"simple\"><rect fill=\"#FFFFFF\" height=\"45.9375\" id=\"E4\" rx=\"10\" ry=\"10\" style=\"stroke: #383838; stroke-width: 1.5;\" width=\"112\" x=\"597\" y=\"277\"/><text fill=\"#000000\" font-family=\"sans-serif\" font-size=\"12\" font-style=\"italic\" lengthAdjust=\"spacingAndGlyphs\" textLength=\"40\" x=\"633\" y=\"293.1387\">«part»</text><text fill=\"#000000\" font-family=\"sans-serif\" font-size=\"12\" lengthAdjust=\"spacingAndGlyphs\" textLength=\"102\" x=\"600\" y=\"307.1074\">engine2: Engine</text><line style=\"stroke: #383838; stroke-width: 1.5;\" x1=\"598\" x2=\"708\" y1=\"314.9375\" y2=\"314.9375\"/></a><!--MD5=[2156ba9850f5573cc1fc38a6a4b2f02b]\n",
       "class E7--><a href=\"psysml:e59262b2-24eb-419d-a794-3b71c7229dcc\" target=\"_top\" title=\"psysml:e59262b2-24eb-419d-a794-3b71c7229dcc\" xlink:actuate=\"onRequest\" xlink:href=\"psysml:e59262b2-24eb-419d-a794-3b71c7229dcc\" xlink:show=\"new\" xlink:title=\"psysml:e59262b2-24eb-419d-a794-3b71c7229dcc\" xlink:type=\"simple\"><rect fill=\"#FFFFFF\" height=\"45.9375\" id=\"E7\" rx=\"10\" ry=\"10\" style=\"stroke: #383838; stroke-width: 1.5;\" width=\"129\" x=\"309.5\" y=\"122\"/><text fill=\"#000000\" font-family=\"sans-serif\" font-size=\"12\" font-style=\"italic\" lengthAdjust=\"spacingAndGlyphs\" textLength=\"82\" x=\"333\" y=\"138.1387\">«calculation»</text><text fill=\"#000000\" font-family=\"sans-serif\" font-size=\"12\" lengthAdjust=\"spacingAndGlyphs\" textLength=\"119\" x=\"312.5\" y=\"152.1074\">evaluationFunction</text><line style=\"stroke: #383838; stroke-width: 1.5;\" x1=\"310.5\" x2=\"437.5\" y1=\"159.9375\" y2=\"159.9375\"/></a><!--MD5=[b9389687b975829384b498ac4b7476b2]\n",
       "class E8--><a href=\"psysml:83f46fb2-5a48-4342-a61e-b1e9a3952716\" target=\"_top\" title=\"psysml:83f46fb2-5a48-4342-a61e-b1e9a3952716\" xlink:actuate=\"onRequest\" xlink:href=\"psysml:83f46fb2-5a48-4342-a61e-b1e9a3952716\" xlink:show=\"new\" xlink:title=\"psysml:83f46fb2-5a48-4342-a61e-b1e9a3952716\" xlink:type=\"simple\"><rect fill=\"#FFFFFF\" height=\"45.9375\" id=\"E8\" rx=\"10\" ry=\"10\" style=\"stroke: #383838; stroke-width: 1.5;\" width=\"128\" x=\"589\" y=\"78\"/><text fill=\"#000000\" font-family=\"sans-serif\" font-size=\"12\" font-style=\"italic\" lengthAdjust=\"spacingAndGlyphs\" textLength=\"40\" x=\"633\" y=\"94.1387\">«part»</text><text fill=\"#000000\" font-family=\"sans-serif\" font-size=\"12\" lengthAdjust=\"spacingAndGlyphs\" textLength=\"118\" x=\"592\" y=\"108.1074\">alternative: Engine</text><line style=\"stroke: #383838; stroke-width: 1.5;\" x1=\"590\" x2=\"716\" y1=\"115.9375\" y2=\"115.9375\"/></a><!--MD5=[fd4143e9d270a159db93a4ea2a975926]\n",
       "class E9--><a href=\"psysml:43a96bb2-d059-439d-9037-f3d1363e69c1\" target=\"_top\" title=\"psysml:43a96bb2-d059-439d-9037-f3d1363e69c1\" xlink:actuate=\"onRequest\" xlink:href=\"psysml:43a96bb2-d059-439d-9037-f3d1363e69c1\" xlink:show=\"new\" xlink:title=\"psysml:43a96bb2-d059-439d-9037-f3d1363e69c1\" xlink:type=\"simple\"><rect fill=\"#FFFFFF\" height=\"45.9375\" id=\"E9\" rx=\"10\" ry=\"10\" style=\"stroke: #383838; stroke-width: 1.5;\" width=\"182\" x=\"283\" y=\"41\"/><text fill=\"#000000\" font-family=\"sans-serif\" font-size=\"12\" font-style=\"italic\" lengthAdjust=\"spacingAndGlyphs\" textLength=\"40\" x=\"354\" y=\"57.1387\">«part»</text><text fill=\"#000000\" font-family=\"sans-serif\" font-size=\"12\" lengthAdjust=\"spacingAndGlyphs\" textLength=\"172\" x=\"286\" y=\"71.1074\">selectedAlternative: Engine</text><line style=\"stroke: #383838; stroke-width: 1.5;\" x1=\"284\" x2=\"464\" y1=\"78.9375\" y2=\"78.9375\"/></a><!--MD5=[60a26617385b1d2d0262a64233df1f8d]\n",
       "class E6--><a href=\"psysml:6f716227-75fa-479d-851c-c6728be0ecaf\" target=\"_top\" title=\"psysml:6f716227-75fa-479d-851c-c6728be0ecaf\" xlink:actuate=\"onRequest\" xlink:href=\"psysml:6f716227-75fa-479d-851c-c6728be0ecaf\" xlink:show=\"new\" xlink:title=\"psysml:6f716227-75fa-479d-851c-c6728be0ecaf\" xlink:type=\"simple\"><rect fill=\"#FFFFFF\" height=\"45.9375\" id=\"E6\" rx=\"10\" ry=\"10\" style=\"stroke: #383838; stroke-width: 1.5;\" width=\"132\" x=\"72\" y=\"116\"/><text fill=\"#000000\" font-family=\"sans-serif\" font-size=\"12\" font-style=\"italic\" lengthAdjust=\"spacingAndGlyphs\" textLength=\"70\" x=\"103\" y=\"132.1387\">«objective»</text><text fill=\"#000000\" font-family=\"sans-serif\" font-size=\"12\" lengthAdjust=\"spacingAndGlyphs\" textLength=\"126\" x=\"75\" y=\"146.1074\">tradeStudyObjective</text><line style=\"stroke: #383838; stroke-width: 1.5;\" x1=\"73\" x2=\"203\" y1=\"153.9375\" y2=\"153.9375\"/></a><!--MD5=[05d275557350bfb9b23a4ef7222b4c39]\n",
       "link E3 to E2--><a href=\"psysml:a3c7b902-deb2-42e0-bb2d-9591134be70d\" target=\"_top\" title=\"psysml:a3c7b902-deb2-42e0-bb2d-9591134be70d\" xlink:actuate=\"onRequest\" xlink:href=\"psysml:a3c7b902-deb2-42e0-bb2d-9591134be70d\" xlink:show=\"new\" xlink:title=\"psysml:a3c7b902-deb2-42e0-bb2d-9591134be70d\" xlink:type=\"simple\"><path d=\"M709.26,198.36 C725.37,192.35 742.93,185.79 758.9,179.83 \" fill=\"none\" id=\"E3-&gt;E2\" style=\"stroke: #383838; stroke-width: 1.0;\"/><polygon fill=\"#FFFFFF\" points=\"777.72,172.8,762.3699,186.0051,757.4717,172.89,777.72,172.8\" style=\"stroke: #383838; stroke-width: 1.0;\"/><ellipse cx=\"756.3304\" cy=\"186.1258\" fill=\"#383838\" rx=\"2\" ry=\"2\" style=\"stroke: #383838; stroke-width: 1.0;\"/><ellipse cx=\"752.8317\" cy=\"176.7578\" fill=\"#383838\" rx=\"2\" ry=\"2\" style=\"stroke: #383838; stroke-width: 1.0;\"/></a><!--MD5=[185131fc0dcab0a4505a2ebe144e961b]\n",
       "link E4 to E2--><a href=\"psysml:ad9261f0-dda0-42b5-9d6e-43ebe8822407\" target=\"_top\" title=\"psysml:ad9261f0-dda0-42b5-9d6e-43ebe8822407\" xlink:actuate=\"onRequest\" xlink:href=\"psysml:ad9261f0-dda0-42b5-9d6e-43ebe8822407\" xlink:show=\"new\" xlink:title=\"psysml:ad9261f0-dda0-42b5-9d6e-43ebe8822407\" xlink:type=\"simple\"><path d=\"M692.64,276.85 C700.93,271.34 709.46,265.24 717,259 C739.22,240.61 761.68,217.46 779.17,198.18 \" fill=\"none\" id=\"E4-&gt;E2\" style=\"stroke: #383838; stroke-width: 1.0;\"/><polygon fill=\"#FFFFFF\" points=\"792.59,183.08,785.2057,201.934,774.7386,192.6366,792.59,183.08\" style=\"stroke: #383838; stroke-width: 1.0;\"/><ellipse cx=\"779.925\" cy=\"204.8673\" fill=\"#383838\" rx=\"2\" ry=\"2\" style=\"stroke: #383838; stroke-width: 1.0;\"/><ellipse cx=\"772.4486\" cy=\"198.2264\" fill=\"#383838\" rx=\"2\" ry=\"2\" style=\"stroke: #383838; stroke-width: 1.0;\"/></a><!--MD5=[15ebcb19ae302d9b601edb458606d402]\n",
       "link E5 to E2--><a href=\"psysml:b52cccfc-b130-477f-adae-4c6f859e452b\" target=\"_top\" title=\"psysml:b52cccfc-b130-477f-adae-4c6f859e452b\" xlink:actuate=\"onRequest\" xlink:href=\"psysml:b52cccfc-b130-477f-adae-4c6f859e452b\" xlink:show=\"new\" xlink:title=\"psysml:b52cccfc-b130-477f-adae-4c6f859e452b\" xlink:type=\"simple\"><path d=\"M229.3053,194.5266 C229.7631,194.5126 230.2221,194.4985 230.6823,194.4844 C231.6027,194.4562 232.528,194.4278 233.4581,194.3991 C235.3182,194.3417 237.1975,194.2834 239.0951,194.2241 C242.8902,194.1057 246.7585,193.9834 250.6938,193.8575 C313.6575,191.8425 393.745,188.875 465,185 C576.46,178.94 707.83,168.6 772.27,163.32 \" fill=\"none\" id=\"E5-&gt;E2\" style=\"stroke: #383838; stroke-width: 1.0; stroke-dasharray: 7.0,7.0;\"/><polygon fill=\"#383838\" points=\"777.55,162.88,768.2497,159.639,772.5672,163.294,768.9121,167.6115,777.55,162.88\" style=\"stroke: #383838; stroke-width: 1.0;\"/><text fill=\"#000000\" font-family=\"sans-serif\" font-size=\"13\" lengthAdjust=\"spacingAndGlyphs\" textLength=\"62\" x=\"496\" y=\"176.0669\">«subject»</text></a><!--MD5=[452b418e7f8a40397a49b8c0a78acc5b]\n",
       "reverse link E5 to E7--><a href=\"psysml:226717b4-0db0-47e0-9eef-bae3c4ff0509\" target=\"_top\" title=\"psysml:226717b4-0db0-47e0-9eef-bae3c4ff0509\" xlink:actuate=\"onRequest\" xlink:href=\"psysml:226717b4-0db0-47e0-9eef-bae3c4ff0509\" xlink:show=\"new\" xlink:title=\"psysml:226717b4-0db0-47e0-9eef-bae3c4ff0509\" xlink:type=\"simple\"><path d=\"M228.1381,181.3254 C228.3235,181.2879 228.5087,181.2504 228.694,181.2129 C229.4348,181.0629 230.1745,180.9123 230.9129,180.7613 C232.3896,180.4593 233.8609,180.1554 235.3246,179.85 C238.2521,179.2391 241.1494,178.6219 244,178 C265.34,173.35 288.51,167.63 309.24,162.27 \" fill=\"none\" id=\"E5&lt;-E7\" style=\"stroke: #383838; stroke-width: 1.0;\"/><polygon fill=\"#FFFFFF\" points=\"228.1381,181.3254,234.8116,184.0576,239.9003,178.9484,233.2269,176.2161,228.1381,181.3254\" style=\"stroke: #383838; stroke-width: 1.0;\"/></a><!--MD5=[dc164f5e8a733ab456ef1add180e9e34]\n",
       "reverse link E7 to E8--><a href=\"psysml:6f1f84a3-2ac1-458a-baf6-caa888cc195f\" target=\"_top\" title=\"psysml:6f1f84a3-2ac1-458a-baf6-caa888cc195f\" xlink:actuate=\"onRequest\" xlink:href=\"psysml:6f1f84a3-2ac1-458a-baf6-caa888cc195f\" xlink:show=\"new\" xlink:title=\"psysml:6f1f84a3-2ac1-458a-baf6-caa888cc195f\" xlink:type=\"simple\"><path d=\"M451.59,132.83 C494.74,125.98 547.99,117.52 588.75,111.05 \" fill=\"none\" id=\"E7&lt;-E8\" style=\"stroke: #383838; stroke-width: 1.0;\"/><polygon fill=\"#FFFFFF\" points=\"438.55,134.91,445.1039,137.9178,450.401,133.0249,443.8471,130.0171,438.55,134.91\" style=\"stroke: #383838; stroke-width: 1.0;\"/><text fill=\"#000000\" font-family=\"sans-serif\" font-size=\"13\" lengthAdjust=\"spacingAndGlyphs\" textLength=\"8\" x=\"572.8586\" y=\"125.1574\">1</text></a><!--MD5=[f1f3f9f2fc535e6147756cb86a7f2e32]\n",
       "link E8 to E2--><a href=\"psysml:2bf4d1c6-7bac-40b1-aaaa-83952da67c38\" target=\"_top\" title=\"psysml:2bf4d1c6-7bac-40b1-aaaa-83952da67c38\" xlink:actuate=\"onRequest\" xlink:href=\"psysml:2bf4d1c6-7bac-40b1-aaaa-83952da67c38\" xlink:show=\"new\" xlink:title=\"psysml:2bf4d1c6-7bac-40b1-aaaa-83952da67c38\" xlink:type=\"simple\"><path d=\"M715.99,124.15 C730.17,129.44 745.11,135.02 758.87,140.16 \" fill=\"none\" id=\"E8-&gt;E2\" style=\"stroke: #383838; stroke-width: 1.0;\"/><polygon fill=\"#FFFFFF\" points=\"777.96,147.29,757.7117,147.2085,762.6044,134.0913,777.96,147.29\" style=\"stroke: #383838; stroke-width: 1.0;\"/><ellipse cx=\"753.0701\" cy=\"143.3426\" fill=\"#383838\" rx=\"2\" ry=\"2\" style=\"stroke: #383838; stroke-width: 1.0;\"/><ellipse cx=\"756.5649\" cy=\"133.9732\" fill=\"#383838\" rx=\"2\" ry=\"2\" style=\"stroke: #383838; stroke-width: 1.0;\"/></a><!--MD5=[9ae28de373ca99bb8a1b38d63370ca7e]\n",
       "reverse link E5 to E9--><a href=\"psysml:eedf805a-a406-401d-b38e-104ba6f0fce6\" target=\"_top\" title=\"psysml:eedf805a-a406-401d-b38e-104ba6f0fce6\" xlink:actuate=\"onRequest\" xlink:href=\"psysml:eedf805a-a406-401d-b38e-104ba6f0fce6\" xlink:show=\"new\" xlink:title=\"psysml:eedf805a-a406-401d-b38e-104ba6f0fce6\" xlink:type=\"simple\"><path d=\"M228.2549,186.9736 C228.4239,186.8992 228.5926,186.8242 228.7612,186.7488 C234.1538,184.3364 239.2925,181.4488 244,178 C251.5,172.51 276.21,110.35 283,104 C289.99,97.46 298.23,91.87 306.84,87.12 \" fill=\"none\" id=\"E5&lt;-E9\" style=\"stroke: #383838; stroke-width: 1.0;\"/><polygon fill=\"#FFFFFF\" points=\"228.2549,186.9736,235.3583,188.215,239.2363,182.1354,232.1328,180.894,228.2549,186.9736\" style=\"stroke: #383838; stroke-width: 1.0;\"/><text fill=\"#000000\" font-family=\"sans-serif\" font-size=\"13\" lengthAdjust=\"spacingAndGlyphs\" textLength=\"8\" x=\"280.6052\" y=\"107.0583\">1</text></a><!--MD5=[5c3bb36fe832a92c7f0e1807dd65209d]\n",
       "link E9 to E2--><a href=\"psysml:3213573e-39ef-4dfb-813d-bdfb08b6e367\" target=\"_top\" title=\"psysml:3213573e-39ef-4dfb-813d-bdfb08b6e367\" xlink:actuate=\"onRequest\" xlink:href=\"psysml:3213573e-39ef-4dfb-813d-bdfb08b6e367\" xlink:show=\"new\" xlink:title=\"psysml:3213573e-39ef-4dfb-813d-bdfb08b6e367\" xlink:type=\"simple\"><path d=\"M465.31,43.59 C536.62,31.95 637.06,25.68 717,60 C745.79,72.36 769.97,98.21 786.73,120.53 \" fill=\"none\" id=\"E9-&gt;E2\" style=\"stroke: #383838; stroke-width: 1.0;\"/><polygon fill=\"#FFFFFF\" points=\"798.29,136.98,781.6407,125.4561,793.0968,117.4088,798.29,136.98\" style=\"stroke: #383838; stroke-width: 1.0;\"/><ellipse cx=\"780.0009\" cy=\"119.6422\" fill=\"#383838\" rx=\"2\" ry=\"2\" style=\"stroke: #383838; stroke-width: 1.0;\"/><ellipse cx=\"788.1838\" cy=\"113.8942\" fill=\"#383838\" rx=\"2\" ry=\"2\" style=\"stroke: #383838; stroke-width: 1.0;\"/></a><!--MD5=[d86c1f3f087e3553bbc7c03c703fb1a1]\n",
       "@startuml\r\n",
       "left to right direction\r\n",
       "skinparam monochrome true\r\n",
       "skinparam classbackgroundcolor white\r\n",
       "skinparam shadowing false\r\n",
       "skinparam wrapWidth 300\r\n",
       "hide circle\r\n",
       "\r\n",
       "package \"TradeStudyTest\" as E1  [[psysml:06d75114-8d09-4304-b9ac-1031eaaad748 ]]  {\r\n",
       "comp def \"Engine\" as E2  <<(T,blue) part  def>> [[psysml:377b66bc-6410-4386-a0f5-58eac70f1599 ]] {\r\n",
       "}\r\n",
       "comp usage \"engine1: Engine \" as E3  <<(T,blue) part>> [[psysml:b73c7ebb-9472-45c7-822b-647f60ba4ebd ]] {\r\n",
       "}\r\n",
       "comp usage \"engine2: Engine \" as E4  <<(T,blue) part>> [[psysml:383bc22a-19f8-4697-ba31-98dbfb8a50a3 ]] {\r\n",
       "}\r\n",
       "rec usage \"engineTradeStudy\" as E5 << analysis>> [[psysml:a2c4dab4-2ddb-42af-80d6-b11f423fabe1 ]] {\r\n",
       "comp usage \"tradeStudyObjective\" as E6  <<objective>> [[psysml:6f716227-75fa-479d-851c-c6728be0ecaf ]] {\r\n",
       "}\r\n",
       "}\r\n",
       "comp usage \"evaluationFunction \" as E7  <<(T,blue) calculation>> [[psysml:e59262b2-24eb-419d-a794-3b71c7229dcc ]] {\r\n",
       "}\r\n",
       "comp usage \"alternative: Engine \" as E8  <<(T,blue) part>> [[psysml:83f46fb2-5a48-4342-a61e-b1e9a3952716 ]] {\r\n",
       "}\r\n",
       "comp usage \"selectedAlternative: Engine \" as E9  <<(T,blue) part>> [[psysml:43a96bb2-d059-439d-9037-f3d1363e69c1 ]] {\r\n",
       "}\r\n",
       "}\r\n",
       "E3 - -:|> E2 [[psysml:a3c7b902-deb2-42e0-bb2d-9591134be70d ]] \r\n",
       "E4 - -:|> E2 [[psysml:ad9261f0-dda0-42b5-9d6e-43ebe8822407 ]] \r\n",
       "E5 ..> E2 [[psysml:b52cccfc-b130-477f-adae-4c6f859e452b ]] : <<subject>>\r\n",
       "E5 o- - E7 [[psysml:226717b4-0db0-47e0-9eef-bae3c4ff0509 ]] \r\n",
       "E7 o- - \"1\"E8 [[psysml:6f1f84a3-2ac1-458a-baf6-caa888cc195f ]] \r\n",
       "E8 - -:|> E2 [[psysml:2bf4d1c6-7bac-40b1-aaaa-83952da67c38 ]] \r\n",
       "E5 o- - \"1\"E9 [[psysml:eedf805a-a406-401d-b38e-104ba6f0fce6 ]] \r\n",
       "E9 - -:|> E2 [[psysml:3213573e-39ef-4dfb-813d-bdfb08b6e367 ]] \r\n",
       "@enduml\r\n",
       "\n",
       "PlantUML version 1.2020.13(Sat Jun 13 12:26:38 UTC 2020)\n",
       "(EPL source distribution)\n",
       "Java Runtime: OpenJDK Runtime Environment\n",
       "JVM: OpenJDK 64-Bit Server VM\n",
       "Default Encoding: UTF-8\n",
       "Language: en\n",
       "Country: null\n",
       "--></g></svg>"
      ]
     },
     "execution_count": 16,
     "metadata": {},
     "output_type": "execute_result"
    }
   ],
   "source": [
    "%viz --style=\"LR\" --view=\"Default\" \"TradeStudyTest\""
   ]
  },
  {
   "cell_type": "code",
   "execution_count": 17,
   "id": "f0fcb0d7",
   "metadata": {
    "execution": {
     "iopub.execute_input": "2022-08-19T08:21:16.174441Z",
     "iopub.status.busy": "2022-08-19T08:21:16.173743Z",
     "iopub.status.idle": "2022-08-19T08:21:16.226101Z",
     "shell.execute_reply": "2022-08-19T08:21:16.225518Z"
    }
   },
   "outputs": [
    {
     "data": {
      "image/svg+xml": [
       "<?xml version=\"1.0\" encoding=\"UTF-8\" standalone=\"no\"?><svg xmlns=\"http://www.w3.org/2000/svg\" xmlns:xlink=\"http://www.w3.org/1999/xlink\" contentScriptType=\"application/ecmascript\" contentStyleType=\"text/css\" height=\"351px\" preserveAspectRatio=\"none\" style=\"width:1164px;height:351px;\" version=\"1.1\" viewBox=\"0 0 1164 351\" width=\"1164px\" zoomAndPan=\"magnify\"><defs/><g><!--MD5=[fbc87193dbaf4d95561dea2c320d4a47]\n",
       "cluster E1--><a href=\"psysml:06d75114-8d09-4304-b9ac-1031eaaad748\" target=\"_top\" title=\"psysml:06d75114-8d09-4304-b9ac-1031eaaad748\" xlink:actuate=\"onRequest\" xlink:href=\"psysml:06d75114-8d09-4304-b9ac-1031eaaad748\" xlink:show=\"new\" xlink:title=\"psysml:06d75114-8d09-4304-b9ac-1031eaaad748\" xlink:type=\"simple\"><polygon fill=\"#FFFFFF\" points=\"16,6,132,6,139,28.2969,1142,28.2969,1142,339,16,339,16,6\" style=\"stroke: #000000; stroke-width: 1.5;\"/><line style=\"stroke: #000000; stroke-width: 1.5;\" x1=\"16\" x2=\"139\" y1=\"28.2969\" y2=\"28.2969\"/><text fill=\"#000000\" font-family=\"sans-serif\" font-size=\"14\" font-weight=\"bold\" lengthAdjust=\"spacingAndGlyphs\" textLength=\"110\" x=\"20\" y=\"20.9951\">TradeStudyTest</text></a><!--MD5=[b4997ac47864f28c2f74865a473b2911]\n",
       "class E2--><a href=\"psysml:377b66bc-6410-4386-a0f5-58eac70f1599\" target=\"_top\" title=\"psysml:377b66bc-6410-4386-a0f5-58eac70f1599\" xlink:actuate=\"onRequest\" xlink:href=\"psysml:377b66bc-6410-4386-a0f5-58eac70f1599\" xlink:show=\"new\" xlink:title=\"psysml:377b66bc-6410-4386-a0f5-58eac70f1599\" xlink:type=\"simple\"><rect fill=\"#FFFFFF\" height=\"45.9375\" id=\"E2\" style=\"stroke: #383838; stroke-width: 1.5;\" width=\"70\" x=\"1056\" y=\"181\"/><text fill=\"#000000\" font-family=\"sans-serif\" font-size=\"12\" font-style=\"italic\" lengthAdjust=\"spacingAndGlyphs\" textLength=\"68\" x=\"1057\" y=\"197.1387\">«part  def»</text><text fill=\"#000000\" font-family=\"sans-serif\" font-size=\"12\" lengthAdjust=\"spacingAndGlyphs\" textLength=\"43\" x=\"1069.5\" y=\"211.1074\">Engine</text><line style=\"stroke: #383838; stroke-width: 1.5;\" x1=\"1057\" x2=\"1125\" y1=\"218.9375\" y2=\"218.9375\"/></a><!--MD5=[09b614a08d8cba4a07c9adeb5e0fee81]\n",
       "class E3--><a href=\"psysml:b73c7ebb-9472-45c7-822b-647f60ba4ebd\" target=\"_top\" title=\"psysml:b73c7ebb-9472-45c7-822b-647f60ba4ebd\" xlink:actuate=\"onRequest\" xlink:href=\"psysml:b73c7ebb-9472-45c7-822b-647f60ba4ebd\" xlink:show=\"new\" xlink:title=\"psysml:b73c7ebb-9472-45c7-822b-647f60ba4ebd\" xlink:type=\"simple\"><rect fill=\"#FFFFFF\" height=\"45.9375\" id=\"E3\" rx=\"10\" ry=\"10\" style=\"stroke: #383838; stroke-width: 1.5;\" width=\"112\" x=\"875\" y=\"41\"/><text fill=\"#000000\" font-family=\"sans-serif\" font-size=\"12\" font-style=\"italic\" lengthAdjust=\"spacingAndGlyphs\" textLength=\"40\" x=\"911\" y=\"57.1387\">«part»</text><text fill=\"#000000\" font-family=\"sans-serif\" font-size=\"12\" lengthAdjust=\"spacingAndGlyphs\" textLength=\"102\" x=\"878\" y=\"71.1074\">engine1: Engine</text><line style=\"stroke: #383838; stroke-width: 1.5;\" x1=\"876\" x2=\"986\" y1=\"78.9375\" y2=\"78.9375\"/></a><!--MD5=[ebbe1d658d1005bcc118a6aa81145e00]\n",
       "class E4--><a href=\"psysml:383bc22a-19f8-4697-ba31-98dbfb8a50a3\" target=\"_top\" title=\"psysml:383bc22a-19f8-4697-ba31-98dbfb8a50a3\" xlink:actuate=\"onRequest\" xlink:href=\"psysml:383bc22a-19f8-4697-ba31-98dbfb8a50a3\" xlink:show=\"new\" xlink:title=\"psysml:383bc22a-19f8-4697-ba31-98dbfb8a50a3\" xlink:type=\"simple\"><rect fill=\"#FFFFFF\" height=\"45.9375\" id=\"E4\" rx=\"10\" ry=\"10\" style=\"stroke: #383838; stroke-width: 1.5;\" width=\"112\" x=\"875\" y=\"122\"/><text fill=\"#000000\" font-family=\"sans-serif\" font-size=\"12\" font-style=\"italic\" lengthAdjust=\"spacingAndGlyphs\" textLength=\"40\" x=\"911\" y=\"138.1387\">«part»</text><text fill=\"#000000\" font-family=\"sans-serif\" font-size=\"12\" lengthAdjust=\"spacingAndGlyphs\" textLength=\"102\" x=\"878\" y=\"152.1074\">engine2: Engine</text><line style=\"stroke: #383838; stroke-width: 1.5;\" x1=\"876\" x2=\"986\" y1=\"159.9375\" y2=\"159.9375\"/></a><!--MD5=[270fce915f116d4de14055a7c1d9a0f3]\n",
       "class E5--><a href=\"psysml:a2c4dab4-2ddb-42af-80d6-b11f423fabe1\" target=\"_top\" title=\"psysml:a2c4dab4-2ddb-42af-80d6-b11f423fabe1\" xlink:actuate=\"onRequest\" xlink:href=\"psysml:a2c4dab4-2ddb-42af-80d6-b11f423fabe1\" xlink:show=\"new\" xlink:title=\"psysml:a2c4dab4-2ddb-42af-80d6-b11f423fabe1\" xlink:type=\"simple\"><rect fill=\"#FFFFFF\" height=\"45.9375\" id=\"E5\" rx=\"10\" ry=\"10\" style=\"stroke: #383838; stroke-width: 1.5;\" width=\"203\" x=\"32\" y=\"173\"/><text fill=\"#000000\" font-family=\"sans-serif\" font-size=\"12\" font-style=\"italic\" lengthAdjust=\"spacingAndGlyphs\" textLength=\"64\" x=\"101.5\" y=\"189.1387\">«analysis»</text><text fill=\"#000000\" font-family=\"sans-serif\" font-size=\"12\" lengthAdjust=\"spacingAndGlyphs\" textLength=\"193\" x=\"35\" y=\"203.1074\">engineTradeStudy: TradeStudy</text><line style=\"stroke: #383838; stroke-width: 1.5;\" x1=\"33\" x2=\"234\" y1=\"210.9375\" y2=\"210.9375\"/></a><!--MD5=[60a26617385b1d2d0262a64233df1f8d]\n",
       "class E6--><a href=\"psysml:6f716227-75fa-479d-851c-c6728be0ecaf\" target=\"_top\" title=\"psysml:6f716227-75fa-479d-851c-c6728be0ecaf\" xlink:actuate=\"onRequest\" xlink:href=\"psysml:6f716227-75fa-479d-851c-c6728be0ecaf\" xlink:show=\"new\" xlink:title=\"psysml:6f716227-75fa-479d-851c-c6728be0ecaf\" xlink:type=\"simple\"><rect fill=\"#FFFFFF\" height=\"45.9375\" id=\"E6\" rx=\"10\" ry=\"10\" style=\"stroke: #383838; stroke-width: 1.5;\" width=\"255\" x=\"370\" y=\"206\"/><text fill=\"#000000\" font-family=\"sans-serif\" font-size=\"12\" font-style=\"italic\" lengthAdjust=\"spacingAndGlyphs\" textLength=\"91\" x=\"452\" y=\"222.1387\">«requirement»</text><text fill=\"#000000\" font-family=\"sans-serif\" font-size=\"12\" lengthAdjust=\"spacingAndGlyphs\" textLength=\"245\" x=\"373\" y=\"236.1074\">tradeStudyObjective: MaximizeObjective</text><line style=\"stroke: #383838; stroke-width: 1.5;\" x1=\"371\" x2=\"624\" y1=\"243.9375\" y2=\"243.9375\"/></a><!--MD5=[2156ba9850f5573cc1fc38a6a4b2f02b]\n",
       "class E7--><a href=\"psysml:e59262b2-24eb-419d-a794-3b71c7229dcc\" target=\"_top\" title=\"psysml:e59262b2-24eb-419d-a794-3b71c7229dcc\" xlink:actuate=\"onRequest\" xlink:href=\"psysml:e59262b2-24eb-419d-a794-3b71c7229dcc\" xlink:show=\"new\" xlink:title=\"psysml:e59262b2-24eb-419d-a794-3b71c7229dcc\" xlink:type=\"simple\"><rect fill=\"#FFFFFF\" height=\"45.9375\" id=\"E7\" rx=\"10\" ry=\"10\" style=\"stroke: #383838; stroke-width: 1.5;\" width=\"129\" x=\"433\" y=\"125\"/><text fill=\"#000000\" font-family=\"sans-serif\" font-size=\"12\" font-style=\"italic\" lengthAdjust=\"spacingAndGlyphs\" textLength=\"82\" x=\"456.5\" y=\"141.1387\">«calculation»</text><text fill=\"#000000\" font-family=\"sans-serif\" font-size=\"12\" lengthAdjust=\"spacingAndGlyphs\" textLength=\"119\" x=\"436\" y=\"155.1074\">evaluationFunction</text><line style=\"stroke: #383838; stroke-width: 1.5;\" x1=\"434\" x2=\"561\" y1=\"162.9375\" y2=\"162.9375\"/></a><!--MD5=[b9389687b975829384b498ac4b7476b2]\n",
       "class E8--><a href=\"psysml:83f46fb2-5a48-4342-a61e-b1e9a3952716\" target=\"_top\" title=\"psysml:83f46fb2-5a48-4342-a61e-b1e9a3952716\" xlink:actuate=\"onRequest\" xlink:href=\"psysml:83f46fb2-5a48-4342-a61e-b1e9a3952716\" xlink:show=\"new\" xlink:title=\"psysml:83f46fb2-5a48-4342-a61e-b1e9a3952716\" xlink:type=\"simple\"><rect fill=\"#FFFFFF\" height=\"45.9375\" id=\"E8\" rx=\"10\" ry=\"10\" style=\"stroke: #383838; stroke-width: 1.5;\" width=\"128\" x=\"867\" y=\"240\"/><text fill=\"#000000\" font-family=\"sans-serif\" font-size=\"12\" font-style=\"italic\" lengthAdjust=\"spacingAndGlyphs\" textLength=\"40\" x=\"911\" y=\"256.1387\">«part»</text><text fill=\"#000000\" font-family=\"sans-serif\" font-size=\"12\" lengthAdjust=\"spacingAndGlyphs\" textLength=\"118\" x=\"870\" y=\"270.1074\">alternative: Engine</text><line style=\"stroke: #383838; stroke-width: 1.5;\" x1=\"868\" x2=\"994\" y1=\"277.9375\" y2=\"277.9375\"/></a><!--MD5=[fd4143e9d270a159db93a4ea2a975926]\n",
       "class E9--><a href=\"psysml:43a96bb2-d059-439d-9037-f3d1363e69c1\" target=\"_top\" title=\"psysml:43a96bb2-d059-439d-9037-f3d1363e69c1\" xlink:actuate=\"onRequest\" xlink:href=\"psysml:43a96bb2-d059-439d-9037-f3d1363e69c1\" xlink:show=\"new\" xlink:title=\"psysml:43a96bb2-d059-439d-9037-f3d1363e69c1\" xlink:type=\"simple\"><rect fill=\"#FFFFFF\" height=\"45.9375\" id=\"E9\" rx=\"10\" ry=\"10\" style=\"stroke: #383838; stroke-width: 1.5;\" width=\"182\" x=\"655\" y=\"124\"/><text fill=\"#000000\" font-family=\"sans-serif\" font-size=\"12\" font-style=\"italic\" lengthAdjust=\"spacingAndGlyphs\" textLength=\"40\" x=\"726\" y=\"140.1387\">«part»</text><text fill=\"#000000\" font-family=\"sans-serif\" font-size=\"12\" lengthAdjust=\"spacingAndGlyphs\" textLength=\"172\" x=\"658\" y=\"154.1074\">selectedAlternative: Engine</text><line style=\"stroke: #383838; stroke-width: 1.5;\" x1=\"656\" x2=\"836\" y1=\"161.9375\" y2=\"161.9375\"/></a><!--MD5=[05d275557350bfb9b23a4ef7222b4c39]\n",
       "link E3 to E2--><a href=\"psysml:a3c7b902-deb2-42e0-bb2d-9591134be70d\" target=\"_top\" title=\"psysml:a3c7b902-deb2-42e0-bb2d-9591134be70d\" xlink:actuate=\"onRequest\" xlink:href=\"psysml:a3c7b902-deb2-42e0-bb2d-9591134be70d\" xlink:show=\"new\" xlink:title=\"psysml:a3c7b902-deb2-42e0-bb2d-9591134be70d\" xlink:type=\"simple\"><path d=\"M971.69,87.1 C979.66,92.32 987.8,98.07 995,104 C1017.39,122.42 1039.86,145.79 1057.32,165.3 \" fill=\"none\" id=\"E3-&gt;E2\" style=\"stroke: #383838; stroke-width: 1.0;\"/><polygon fill=\"#FFFFFF\" points=\"1070.69,180.6,1052.9071,170.9166,1063.4401,161.6939,1070.69,180.6\" style=\"stroke: #383838; stroke-width: 1.0;\"/><ellipse cx=\"1050.6569\" cy=\"165.3106\" fill=\"#383838\" rx=\"2\" ry=\"2\" style=\"stroke: #383838; stroke-width: 1.0;\"/><ellipse cx=\"1058.1805\" cy=\"158.723\" fill=\"#383838\" rx=\"2\" ry=\"2\" style=\"stroke: #383838; stroke-width: 1.0;\"/></a><!--MD5=[185131fc0dcab0a4505a2ebe144e961b]\n",
       "link E4 to E2--><a href=\"psysml:ad9261f0-dda0-42b5-9d6e-43ebe8822407\" target=\"_top\" title=\"psysml:ad9261f0-dda0-42b5-9d6e-43ebe8822407\" xlink:actuate=\"onRequest\" xlink:href=\"psysml:ad9261f0-dda0-42b5-9d6e-43ebe8822407\" xlink:show=\"new\" xlink:title=\"psysml:ad9261f0-dda0-42b5-9d6e-43ebe8822407\" xlink:type=\"simple\"><path d=\"M987.26,165.64 C1003.37,171.65 1020.93,178.21 1036.9,184.17 \" fill=\"none\" id=\"E4-&gt;E2\" style=\"stroke: #383838; stroke-width: 1.0;\"/><polygon fill=\"#FFFFFF\" points=\"1055.72,191.2,1035.4717,191.11,1040.3699,177.9949,1055.72,191.2\" style=\"stroke: #383838; stroke-width: 1.0;\"/><ellipse cx=\"1030.8317\" cy=\"187.2422\" fill=\"#383838\" rx=\"2\" ry=\"2\" style=\"stroke: #383838; stroke-width: 1.0;\"/><ellipse cx=\"1034.3304\" cy=\"177.8742\" fill=\"#383838\" rx=\"2\" ry=\"2\" style=\"stroke: #383838; stroke-width: 1.0;\"/></a><!--MD5=[15ebcb19ae302d9b601edb458606d402]\n",
       "link E5 to E2--><a href=\"psysml:b52cccfc-b130-477f-adae-4c6f859e452b\" target=\"_top\" title=\"psysml:b52cccfc-b130-477f-adae-4c6f859e452b\" xlink:actuate=\"onRequest\" xlink:href=\"psysml:b52cccfc-b130-477f-adae-4c6f859e452b\" xlink:show=\"new\" xlink:title=\"psysml:b52cccfc-b130-477f-adae-4c6f859e452b\" xlink:type=\"simple\"><path d=\"M195.5,219.17 C242.48,235.96 309.42,257.63 370,269 C587.64,309.83 645.7,296.22 867,304 C923.85,306 942.72,326.44 995,304 C1029.18,289.33 1056.86,255.64 1073.34,231.42 \" fill=\"none\" id=\"E5-&gt;E2\" style=\"stroke: #383838; stroke-width: 1.0; stroke-dasharray: 7.0,7.0;\"/><polygon fill=\"#383838\" points=\"1076.29,227.02,1067.9695,232.2897,1073.5165,231.1803,1074.6259,236.7273,1076.29,227.02\" style=\"stroke: #383838; stroke-width: 1.0;\"/><text fill=\"#000000\" font-family=\"sans-serif\" font-size=\"13\" lengthAdjust=\"spacingAndGlyphs\" textLength=\"62\" x=\"715\" y=\"297.0669\">«subject»</text></a><!--MD5=[9120cf2e5df3bff93db8f754bbbc09b4]\n",
       "link E5 to E6--><a href=\"psysml:be121dac-af46-4d47-896b-f9a14a0b4d3b\" target=\"_top\" title=\"psysml:be121dac-af46-4d47-896b-f9a14a0b4d3b\" xlink:actuate=\"onRequest\" xlink:href=\"psysml:be121dac-af46-4d47-896b-f9a14a0b4d3b\" xlink:show=\"new\" xlink:title=\"psysml:be121dac-af46-4d47-896b-f9a14a0b4d3b\" xlink:type=\"simple\"><path d=\"M235.34,205.19 C274.45,208.76 319.82,212.89 361.66,216.71 \" fill=\"none\" id=\"E5-&gt;E6\" style=\"stroke: #383838; stroke-width: 1.0;\"/><polygon fill=\"#383838\" points=\"369.7,217.44,362.0069,213.7231,361.4598,219.6981,369.7,217.44\" style=\"stroke: #383838; stroke-width: 1.0;\"/><text fill=\"#000000\" font-family=\"sans-serif\" font-size=\"13\" lengthAdjust=\"spacingAndGlyphs\" textLength=\"73\" x=\"266\" y=\"205.0669\">«objective»</text></a><!--MD5=[452b418e7f8a40397a49b8c0a78acc5b]\n",
       "reverse link E5 to E7--><a href=\"psysml:226717b4-0db0-47e0-9eef-bae3c4ff0509\" target=\"_top\" title=\"psysml:226717b4-0db0-47e0-9eef-bae3c4ff0509\" xlink:actuate=\"onRequest\" xlink:href=\"psysml:226717b4-0db0-47e0-9eef-bae3c4ff0509\" xlink:show=\"new\" xlink:title=\"psysml:226717b4-0db0-47e0-9eef-bae3c4ff0509\" xlink:type=\"simple\"><path d=\"M248.53,180.88 C309.4,172.81 382.02,163.18 432.89,156.43 \" fill=\"none\" id=\"E5&lt;-E7\" style=\"stroke: #383838; stroke-width: 1.0;\"/><polygon fill=\"#FFFFFF\" points=\"235.34,182.63,241.8116,185.8109,247.2369,181.0605,240.7653,177.8796,235.34,182.63\" style=\"stroke: #383838; stroke-width: 1.0;\"/></a><!--MD5=[dc164f5e8a733ab456ef1add180e9e34]\n",
       "reverse link E7 to E8--><a href=\"psysml:6f1f84a3-2ac1-458a-baf6-caa888cc195f\" target=\"_top\" title=\"psysml:6f1f84a3-2ac1-458a-baf6-caa888cc195f\" xlink:actuate=\"onRequest\" xlink:href=\"psysml:6f1f84a3-2ac1-458a-baf6-caa888cc195f\" xlink:show=\"new\" xlink:title=\"psysml:6f1f84a3-2ac1-458a-baf6-caa888cc195f\" xlink:type=\"simple\"><path d=\"M574.82,168.34 C657.9,190.48 789.23,225.48 866.77,246.15 \" fill=\"none\" id=\"E7&lt;-E8\" style=\"stroke: #383838; stroke-width: 1.0;\"/><polygon fill=\"#FFFFFF\" points=\"562.17,164.97,566.9391,170.3789,573.7661,168.057,568.9971,162.6481,562.17,164.97\" style=\"stroke: #383838; stroke-width: 1.0;\"/><text fill=\"#000000\" font-family=\"sans-serif\" font-size=\"13\" lengthAdjust=\"spacingAndGlyphs\" textLength=\"8\" x=\"850.8809\" y=\"257.1471\">1</text></a><!--MD5=[f1f3f9f2fc535e6147756cb86a7f2e32]\n",
       "link E8 to E2--><a href=\"psysml:2bf4d1c6-7bac-40b1-aaaa-83952da67c38\" target=\"_top\" title=\"psysml:2bf4d1c6-7bac-40b1-aaaa-83952da67c38\" xlink:actuate=\"onRequest\" xlink:href=\"psysml:2bf4d1c6-7bac-40b1-aaaa-83952da67c38\" xlink:show=\"new\" xlink:title=\"psysml:2bf4d1c6-7bac-40b1-aaaa-83952da67c38\" xlink:type=\"simple\"><path d=\"M993.99,239.85 C1008.17,234.56 1023.11,228.98 1036.87,223.84 \" fill=\"none\" id=\"E8-&gt;E2\" style=\"stroke: #383838; stroke-width: 1.0;\"/><polygon fill=\"#FFFFFF\" points=\"1055.96,216.71,1040.6044,229.9087,1035.7117,216.7915,1055.96,216.71\" style=\"stroke: #383838; stroke-width: 1.0;\"/><ellipse cx=\"1034.5649\" cy=\"230.0268\" fill=\"#383838\" rx=\"2\" ry=\"2\" style=\"stroke: #383838; stroke-width: 1.0;\"/><ellipse cx=\"1031.0701\" cy=\"220.6574\" fill=\"#383838\" rx=\"2\" ry=\"2\" style=\"stroke: #383838; stroke-width: 1.0;\"/></a><!--MD5=[9ae28de373ca99bb8a1b38d63370ca7e]\n",
       "reverse link E5 to E9--><a href=\"psysml:eedf805a-a406-401d-b38e-104ba6f0fce6\" target=\"_top\" title=\"psysml:eedf805a-a406-401d-b38e-104ba6f0fce6\" xlink:actuate=\"onRequest\" xlink:href=\"psysml:eedf805a-a406-401d-b38e-104ba6f0fce6\" xlink:show=\"new\" xlink:title=\"psysml:eedf805a-a406-401d-b38e-104ba6f0fce6\" xlink:type=\"simple\"><path d=\"M192.41,167.36 C239.07,145.96 307.05,118.5 370,107 C481.49,86.64 513.13,88.85 625,107 C646.13,110.43 668.58,117.05 688.27,123.93 \" fill=\"none\" id=\"E5&lt;-E9\" style=\"stroke: #383838; stroke-width: 1.0;\"/><polygon fill=\"#FFFFFF\" points=\"180.43,172.93,187.5576,174.0245,191.3092,167.8662,184.1817,166.7717,180.43,172.93\" style=\"stroke: #383838; stroke-width: 1.0;\"/><text fill=\"#000000\" font-family=\"sans-serif\" font-size=\"13\" lengthAdjust=\"spacingAndGlyphs\" textLength=\"8\" x=\"663.6801\" y=\"112.8075\">1</text></a><!--MD5=[5c3bb36fe832a92c7f0e1807dd65209d]\n",
       "link E9 to E2--><a href=\"psysml:3213573e-39ef-4dfb-813d-bdfb08b6e367\" target=\"_top\" title=\"psysml:3213573e-39ef-4dfb-813d-bdfb08b6e367\" xlink:actuate=\"onRequest\" xlink:href=\"psysml:3213573e-39ef-4dfb-813d-bdfb08b6e367\" xlink:show=\"new\" xlink:title=\"psysml:3213573e-39ef-4dfb-813d-bdfb08b6e367\" xlink:type=\"simple\"><path d=\"M810.77,170.08 C828.75,175.79 848.46,181.32 867,185 C923.79,196.27 990.02,200.85 1035.46,202.72 \" fill=\"none\" id=\"E9-&gt;E2\" style=\"stroke: #383838; stroke-width: 1.0;\"/><polygon fill=\"#FFFFFF\" points=\"1055.67,203.43,1036.4366,209.7606,1036.9267,195.7692,1055.67,203.43\" style=\"stroke: #383838; stroke-width: 1.0;\"/><ellipse cx=\"1030.8101\" cy=\"207.5623\" fill=\"#383838\" rx=\"2\" ry=\"2\" style=\"stroke: #383838; stroke-width: 1.0;\"/><ellipse cx=\"1031.1602\" cy=\"197.5685\" fill=\"#383838\" rx=\"2\" ry=\"2\" style=\"stroke: #383838; stroke-width: 1.0;\"/></a><!--MD5=[0a4fd7f996d53afba25ffdce223c002c]\n",
       "@startuml\r\n",
       "left to right direction\r\n",
       "skinparam monochrome true\r\n",
       "skinparam classbackgroundcolor white\r\n",
       "skinparam shadowing false\r\n",
       "skinparam wrapWidth 300\r\n",
       "hide circle\r\n",
       "\r\n",
       "package \"TradeStudyTest\" as E1  [[psysml:06d75114-8d09-4304-b9ac-1031eaaad748 ]]  {\r\n",
       "comp def \"Engine\" as E2  <<(T,blue) part  def>> [[psysml:377b66bc-6410-4386-a0f5-58eac70f1599 ]] {\r\n",
       "}\r\n",
       "comp usage \"engine1: Engine \" as E3  <<(T,blue) part>> [[psysml:b73c7ebb-9472-45c7-822b-647f60ba4ebd ]] {\r\n",
       "}\r\n",
       "comp usage \"engine2: Engine \" as E4  <<(T,blue) part>> [[psysml:383bc22a-19f8-4697-ba31-98dbfb8a50a3 ]] {\r\n",
       "}\r\n",
       "comp usage \"engineTradeStudy: TradeStudy \" as E5 << analysis>> [[psysml:a2c4dab4-2ddb-42af-80d6-b11f423fabe1 ]] {\r\n",
       "}\r\n",
       "comp usage \"tradeStudyObjective: MaximizeObjective \" as E6  <<(T,blue) requirement>> [[psysml:6f716227-75fa-479d-851c-c6728be0ecaf ]] {\r\n",
       "}\r\n",
       "comp usage \"evaluationFunction \" as E7  <<(T,blue) calculation>> [[psysml:e59262b2-24eb-419d-a794-3b71c7229dcc ]] {\r\n",
       "}\r\n",
       "comp usage \"alternative: Engine \" as E8  <<(T,blue) part>> [[psysml:83f46fb2-5a48-4342-a61e-b1e9a3952716 ]] {\r\n",
       "}\r\n",
       "comp usage \"selectedAlternative: Engine \" as E9  <<(T,blue) part>> [[psysml:43a96bb2-d059-439d-9037-f3d1363e69c1 ]] {\r\n",
       "}\r\n",
       "}\r\n",
       "E3 - -:|> E2 [[psysml:a3c7b902-deb2-42e0-bb2d-9591134be70d ]] \r\n",
       "E4 - -:|> E2 [[psysml:ad9261f0-dda0-42b5-9d6e-43ebe8822407 ]] \r\n",
       "E5 ..> E2 [[psysml:b52cccfc-b130-477f-adae-4c6f859e452b ]] : <<subject>>\r\n",
       "E5 - ->> E6 [[psysml:be121dac-af46-4d47-896b-f9a14a0b4d3b ]] : <<objective>>\r\n",
       "E5 o- - E7 [[psysml:226717b4-0db0-47e0-9eef-bae3c4ff0509 ]] \r\n",
       "E7 o- - \"1\"E8 [[psysml:6f1f84a3-2ac1-458a-baf6-caa888cc195f ]] \r\n",
       "E8 - -:|> E2 [[psysml:2bf4d1c6-7bac-40b1-aaaa-83952da67c38 ]] \r\n",
       "E5 o- - \"1\"E9 [[psysml:eedf805a-a406-401d-b38e-104ba6f0fce6 ]] \r\n",
       "E9 - -:|> E2 [[psysml:3213573e-39ef-4dfb-813d-bdfb08b6e367 ]] \r\n",
       "@enduml\r\n",
       "\n",
       "PlantUML version 1.2020.13(Sat Jun 13 12:26:38 UTC 2020)\n",
       "(EPL source distribution)\n",
       "Java Runtime: OpenJDK Runtime Environment\n",
       "JVM: OpenJDK 64-Bit Server VM\n",
       "Default Encoding: UTF-8\n",
       "Language: en\n",
       "Country: null\n",
       "--></g></svg>"
      ]
     },
     "execution_count": 17,
     "metadata": {},
     "output_type": "execute_result"
    }
   ],
   "source": [
    "%viz --style=\"LR\" --view=\"Tree\" \"TradeStudyTest\""
   ]
  },
  {
   "cell_type": "code",
   "execution_count": 18,
   "id": "590f6478",
   "metadata": {
    "execution": {
     "iopub.execute_input": "2022-08-19T08:21:16.274610Z",
     "iopub.status.busy": "2022-08-19T08:21:16.274317Z",
     "iopub.status.idle": "2022-08-19T08:21:16.282294Z",
     "shell.execute_reply": "2022-08-19T08:21:16.282533Z"
    }
   },
   "outputs": [
    {
     "data": {
      "image/svg+xml": [
       "<?xml version=\"1.0\" encoding=\"UTF-8\" standalone=\"no\"?><svg xmlns=\"http://www.w3.org/2000/svg\" xmlns:xlink=\"http://www.w3.org/1999/xlink\" contentScriptType=\"application/ecmascript\" contentStyleType=\"text/css\" height=\"12px\" preserveAspectRatio=\"none\" style=\"width:12px;height:12px;\" version=\"1.1\" viewBox=\"0 0 12 12\" width=\"12px\" zoomAndPan=\"magnify\"><defs/><g><!--MD5=[19d285c9d72a204eba4e2cd117d745e8]\n",
       "@startuml\r\n",
       "left to right direction\r\n",
       "skinparam monochrome true\r\n",
       "skinparam classbackgroundcolor white\r\n",
       "skinparam shadowing false\r\n",
       "skinparam wrapWidth 300\r\n",
       "hide circle\r\n",
       "\r\n",
       "@enduml\r\n",
       "\n",
       "PlantUML version 1.2020.13(Sat Jun 13 12:26:38 UTC 2020)\n",
       "(EPL source distribution)\n",
       "Java Runtime: OpenJDK Runtime Environment\n",
       "JVM: OpenJDK 64-Bit Server VM\n",
       "Default Encoding: UTF-8\n",
       "Language: en\n",
       "Country: null\n",
       "--></g></svg>"
      ]
     },
     "execution_count": 18,
     "metadata": {},
     "output_type": "execute_result"
    }
   ],
   "source": [
    "%viz --style=\"LR\" --view=\"State\" \"TradeStudyTest\""
   ]
  },
  {
   "cell_type": "code",
   "execution_count": 19,
   "id": "a4b03c42",
   "metadata": {
    "execution": {
     "iopub.execute_input": "2022-08-19T08:21:16.332766Z",
     "iopub.status.busy": "2022-08-19T08:21:16.332305Z",
     "iopub.status.idle": "2022-08-19T08:21:16.381988Z",
     "shell.execute_reply": "2022-08-19T08:21:16.381387Z"
    }
   },
   "outputs": [
    {
     "data": {
      "image/svg+xml": [
       "<?xml version=\"1.0\" encoding=\"UTF-8\" standalone=\"no\"?><svg xmlns=\"http://www.w3.org/2000/svg\" xmlns:xlink=\"http://www.w3.org/1999/xlink\" contentScriptType=\"application/ecmascript\" contentStyleType=\"text/css\" height=\"325px\" preserveAspectRatio=\"none\" style=\"width:781px;height:325px;\" version=\"1.1\" viewBox=\"0 0 781 325\" width=\"781px\" zoomAndPan=\"magnify\"><defs/><g><!--MD5=[fbc87193dbaf4d95561dea2c320d4a47]\n",
       "cluster E1--><a href=\"psysml:06d75114-8d09-4304-b9ac-1031eaaad748\" target=\"_top\" title=\"psysml:06d75114-8d09-4304-b9ac-1031eaaad748\" xlink:actuate=\"onRequest\" xlink:href=\"psysml:06d75114-8d09-4304-b9ac-1031eaaad748\" xlink:show=\"new\" xlink:title=\"psysml:06d75114-8d09-4304-b9ac-1031eaaad748\" xlink:type=\"simple\"><polygon fill=\"#FFFFFF\" points=\"16,6,132,6,139,28.2969,759,28.2969,759,313,16,313,16,6\" style=\"stroke: #000000; stroke-width: 1.5;\"/><line style=\"stroke: #000000; stroke-width: 1.5;\" x1=\"16\" x2=\"139\" y1=\"28.2969\" y2=\"28.2969\"/><text fill=\"#000000\" font-family=\"sans-serif\" font-size=\"14\" font-weight=\"bold\" lengthAdjust=\"spacingAndGlyphs\" textLength=\"110\" x=\"20\" y=\"20.9951\">TradeStudyTest</text></a><!--MD5=[de5ec2e2e8f62f467e546659f5068c88]\n",
       "cluster E5--><a href=\"psysml:a2c4dab4-2ddb-42af-80d6-b11f423fabe1\" target=\"_top\" title=\"psysml:a2c4dab4-2ddb-42af-80d6-b11f423fabe1\" xlink:actuate=\"onRequest\" xlink:href=\"psysml:a2c4dab4-2ddb-42af-80d6-b11f423fabe1\" xlink:show=\"new\" xlink:title=\"psysml:a2c4dab4-2ddb-42af-80d6-b11f423fabe1\" xlink:type=\"simple\"><rect fill=\"#FFFFFF\" height=\"148\" id=\"E5\" rx=\"10\" ry=\"10\" style=\"stroke: #383838; stroke-width: 1.5;\" width=\"180\" x=\"48\" y=\"57\"/><rect fill=\"#F8F8F8\" height=\"37.9375\" rx=\"10\" ry=\"10\" style=\"stroke: #F8F8F8; stroke-width: 1.5;\" width=\"180\" x=\"48\" y=\"57\"/><rect fill=\"#F8F8F8\" height=\"10\" style=\"stroke: #F8F8F8; stroke-width: 1.5;\" width=\"180\" x=\"48\" y=\"84.9375\"/><rect fill=\"none\" height=\"148\" id=\"E5\" rx=\"10\" ry=\"10\" style=\"stroke: #383838; stroke-width: 1.5;\" width=\"180\" x=\"48\" y=\"57\"/><text fill=\"#000000\" font-family=\"sans-serif\" font-size=\"12\" font-style=\"italic\" lengthAdjust=\"spacingAndGlyphs\" textLength=\"64\" x=\"106\" y=\"73.1387\">«analysis»</text><text fill=\"#000000\" font-family=\"sans-serif\" font-size=\"12\" lengthAdjust=\"spacingAndGlyphs\" textLength=\"114\" x=\"81\" y=\"87.1074\">engineTradeStudy</text><line style=\"stroke: #383838; stroke-width: 1.0;\" x1=\"48\" x2=\"228\" y1=\"94.9375\" y2=\"94.9375\"/></a><!--MD5=[2156ba9850f5573cc1fc38a6a4b2f02b]\n",
       "class E7--><a href=\"psysml:e59262b2-24eb-419d-a794-3b71c7229dcc\" target=\"_top\" title=\"psysml:e59262b2-24eb-419d-a794-3b71c7229dcc\" xlink:actuate=\"onRequest\" xlink:href=\"psysml:e59262b2-24eb-419d-a794-3b71c7229dcc\" xlink:show=\"new\" xlink:title=\"psysml:e59262b2-24eb-419d-a794-3b71c7229dcc\" xlink:type=\"simple\"><rect fill=\"#FFFFFF\" height=\"45.9375\" id=\"E7\" rx=\"10\" ry=\"10\" style=\"stroke: #383838; stroke-width: 1.5;\" width=\"129\" x=\"287.5\" y=\"170\"/><text fill=\"#000000\" font-family=\"sans-serif\" font-size=\"12\" font-style=\"italic\" lengthAdjust=\"spacingAndGlyphs\" textLength=\"82\" x=\"311\" y=\"186.1387\">«calculation»</text><text fill=\"#000000\" font-family=\"sans-serif\" font-size=\"12\" lengthAdjust=\"spacingAndGlyphs\" textLength=\"119\" x=\"290.5\" y=\"200.1074\">evaluationFunction</text><line style=\"stroke: #383838; stroke-width: 1.5;\" x1=\"288.5\" x2=\"415.5\" y1=\"207.9375\" y2=\"207.9375\"/></a><!--MD5=[b9389687b975829384b498ac4b7476b2]\n",
       "class E8--><a href=\"psysml:83f46fb2-5a48-4342-a61e-b1e9a3952716\" target=\"_top\" title=\"psysml:83f46fb2-5a48-4342-a61e-b1e9a3952716\" xlink:actuate=\"onRequest\" xlink:href=\"psysml:83f46fb2-5a48-4342-a61e-b1e9a3952716\" xlink:show=\"new\" xlink:title=\"psysml:83f46fb2-5a48-4342-a61e-b1e9a3952716\" xlink:type=\"simple\"><rect fill=\"#FFFFFF\" height=\"31.9688\" id=\"E8\" rx=\"10\" ry=\"10\" style=\"stroke: #383838; stroke-width: 1.5;\" width=\"128\" x=\"523\" y=\"115\"/><text fill=\"#000000\" font-family=\"sans-serif\" font-size=\"12\" lengthAdjust=\"spacingAndGlyphs\" textLength=\"118\" x=\"526\" y=\"131.1387\">alternative: Engine</text><line style=\"stroke: #383838; stroke-width: 1.5;\" x1=\"524\" x2=\"650\" y1=\"138.9688\" y2=\"138.9688\"/></a><!--MD5=[fd4143e9d270a159db93a4ea2a975926]\n",
       "class E9--><a href=\"psysml:43a96bb2-d059-439d-9037-f3d1363e69c1\" target=\"_top\" title=\"psysml:43a96bb2-d059-439d-9037-f3d1363e69c1\" xlink:actuate=\"onRequest\" xlink:href=\"psysml:43a96bb2-d059-439d-9037-f3d1363e69c1\" xlink:show=\"new\" xlink:title=\"psysml:43a96bb2-d059-439d-9037-f3d1363e69c1\" xlink:type=\"simple\"><rect fill=\"#FFFFFF\" height=\"31.9688\" id=\"E9\" rx=\"10\" ry=\"10\" style=\"stroke: #383838; stroke-width: 1.5;\" width=\"182\" x=\"261\" y=\"97\"/><text fill=\"#000000\" font-family=\"sans-serif\" font-size=\"12\" lengthAdjust=\"spacingAndGlyphs\" textLength=\"172\" x=\"264\" y=\"113.1387\">selectedAlternative: Engine</text><line style=\"stroke: #383838; stroke-width: 1.5;\" x1=\"262\" x2=\"442\" y1=\"120.9688\" y2=\"120.9688\"/></a><g id=\"E1.E2\"><a href=\"psysml:377b66bc-6410-4386-a0f5-58eac70f1599\" target=\"_top\" title=\"psysml:377b66bc-6410-4386-a0f5-58eac70f1599\" xlink:actuate=\"onRequest\" xlink:href=\"psysml:377b66bc-6410-4386-a0f5-58eac70f1599\" xlink:show=\"new\" xlink:title=\"psysml:377b66bc-6410-4386-a0f5-58eac70f1599\" xlink:type=\"simple\"><rect fill=\"#FFFFFF\" height=\"42.9375\" id=\"E2\" style=\"stroke: #383838; stroke-width: 1.5;\" width=\"75\" x=\"668\" y=\"109.5\"/><rect fill=\"#F8F8F8\" height=\"37.9375\" style=\"stroke: #383838; stroke-width: 1.5;\" width=\"75\" x=\"668\" y=\"109.5\"/><text fill=\"#000000\" font-family=\"sans-serif\" font-size=\"12\" font-style=\"italic\" lengthAdjust=\"spacingAndGlyphs\" textLength=\"68\" x=\"671.5\" y=\"125.6387\">«part  def»</text><text fill=\"#000000\" font-family=\"sans-serif\" font-size=\"12\" lengthAdjust=\"spacingAndGlyphs\" textLength=\"43\" x=\"684\" y=\"139.6074\">Engine</text></a></g><g id=\"E1.E3\"><a href=\"psysml:b73c7ebb-9472-45c7-822b-647f60ba4ebd\" target=\"_top\" title=\"psysml:b73c7ebb-9472-45c7-822b-647f60ba4ebd\" xlink:actuate=\"onRequest\" xlink:href=\"psysml:b73c7ebb-9472-45c7-822b-647f60ba4ebd\" xlink:show=\"new\" xlink:title=\"psysml:b73c7ebb-9472-45c7-822b-647f60ba4ebd\" xlink:type=\"simple\"><rect fill=\"#FFFFFF\" height=\"40\" id=\"E3\" rx=\"10\" ry=\"10\" style=\"stroke: #383838; stroke-width: 1.5;\" width=\"113\" x=\"530.5\" y=\"182\"/><rect fill=\"#F8F8F8\" height=\"23.9688\" rx=\"10\" ry=\"10\" style=\"stroke: #F8F8F8; stroke-width: 1.5;\" width=\"113\" x=\"530.5\" y=\"182\"/><rect fill=\"#F8F8F8\" height=\"10\" style=\"stroke: #F8F8F8; stroke-width: 1.5;\" width=\"113\" x=\"530.5\" y=\"195.9688\"/><rect fill=\"none\" height=\"40\" id=\"E3\" rx=\"10\" ry=\"10\" style=\"stroke: #383838; stroke-width: 1.5;\" width=\"113\" x=\"530.5\" y=\"182\"/><text fill=\"#000000\" font-family=\"sans-serif\" font-size=\"12\" lengthAdjust=\"spacingAndGlyphs\" textLength=\"102\" x=\"536\" y=\"198.1387\">engine1: Engine</text></a></g><g id=\"E1.E4\"><a href=\"psysml:383bc22a-19f8-4697-ba31-98dbfb8a50a3\" target=\"_top\" title=\"psysml:383bc22a-19f8-4697-ba31-98dbfb8a50a3\" xlink:actuate=\"onRequest\" xlink:href=\"psysml:383bc22a-19f8-4697-ba31-98dbfb8a50a3\" xlink:show=\"new\" xlink:title=\"psysml:383bc22a-19f8-4697-ba31-98dbfb8a50a3\" xlink:type=\"simple\"><rect fill=\"#FFFFFF\" height=\"40\" id=\"E4\" rx=\"10\" ry=\"10\" style=\"stroke: #383838; stroke-width: 1.5;\" width=\"113\" x=\"530.5\" y=\"257\"/><rect fill=\"#F8F8F8\" height=\"23.9688\" rx=\"10\" ry=\"10\" style=\"stroke: #F8F8F8; stroke-width: 1.5;\" width=\"113\" x=\"530.5\" y=\"257\"/><rect fill=\"#F8F8F8\" height=\"10\" style=\"stroke: #F8F8F8; stroke-width: 1.5;\" width=\"113\" x=\"530.5\" y=\"270.9688\"/><rect fill=\"none\" height=\"40\" id=\"E4\" rx=\"10\" ry=\"10\" style=\"stroke: #383838; stroke-width: 1.5;\" width=\"113\" x=\"530.5\" y=\"257\"/><text fill=\"#000000\" font-family=\"sans-serif\" font-size=\"12\" lengthAdjust=\"spacingAndGlyphs\" textLength=\"102\" x=\"536\" y=\"273.1387\">engine2: Engine</text></a></g><!--MD5=[60a26617385b1d2d0262a64233df1f8d]\n",
       "class E6--><a href=\"psysml:6f716227-75fa-479d-851c-c6728be0ecaf\" target=\"_top\" title=\"psysml:6f716227-75fa-479d-851c-c6728be0ecaf\" xlink:actuate=\"onRequest\" xlink:href=\"psysml:6f716227-75fa-479d-851c-c6728be0ecaf\" xlink:show=\"new\" xlink:title=\"psysml:6f716227-75fa-479d-851c-c6728be0ecaf\" xlink:type=\"simple\"><rect fill=\"#FFFFFF\" height=\"45.9375\" id=\"E6\" rx=\"10\" ry=\"10\" style=\"stroke: #383838; stroke-width: 1.5;\" width=\"132\" x=\"72\" y=\"116\"/><text fill=\"#000000\" font-family=\"sans-serif\" font-size=\"12\" font-style=\"italic\" lengthAdjust=\"spacingAndGlyphs\" textLength=\"70\" x=\"103\" y=\"132.1387\">«objective»</text><text fill=\"#000000\" font-family=\"sans-serif\" font-size=\"12\" lengthAdjust=\"spacingAndGlyphs\" textLength=\"126\" x=\"75\" y=\"146.1074\">tradeStudyObjective</text><line style=\"stroke: #383838; stroke-width: 1.5;\" x1=\"73\" x2=\"203\" y1=\"153.9375\" y2=\"153.9375\"/></a><!--MD5=[05d275557350bfb9b23a4ef7222b4c39]\n",
       "link E3 to E2--><a href=\"psysml:a3c7b902-deb2-42e0-bb2d-9591134be70d\" target=\"_top\" title=\"psysml:a3c7b902-deb2-42e0-bb2d-9591134be70d\" xlink:actuate=\"onRequest\" xlink:href=\"psysml:a3c7b902-deb2-42e0-bb2d-9591134be70d\" xlink:show=\"new\" xlink:title=\"psysml:a3c7b902-deb2-42e0-bb2d-9591134be70d\" xlink:type=\"simple\"><path d=\"M621.39,181.95 C630.96,176.17 641.4,169.85 651,164 C651.47,163.71 651.95,163.42 652.43,163.13 \" fill=\"none\" id=\"E3-&gt;E2\" style=\"stroke: #383838; stroke-width: 1.0;\"/><polygon fill=\"#FFFFFF\" points=\"669.71,152.53,657.1763,168.433,649.8546,156.5002,669.71,152.53\" style=\"stroke: #383838; stroke-width: 1.0;\"/><ellipse cx=\"651.272\" cy=\"169.7093\" fill=\"#383838\" rx=\"2\" ry=\"2\" style=\"stroke: #383838; stroke-width: 1.0;\"/><ellipse cx=\"646.0422\" cy=\"161.1859\" fill=\"#383838\" rx=\"2\" ry=\"2\" style=\"stroke: #383838; stroke-width: 1.0;\"/></a><!--MD5=[185131fc0dcab0a4505a2ebe144e961b]\n",
       "link E4 to E2--><a href=\"psysml:ad9261f0-dda0-42b5-9d6e-43ebe8822407\" target=\"_top\" title=\"psysml:ad9261f0-dda0-42b5-9d6e-43ebe8822407\" xlink:actuate=\"onRequest\" xlink:href=\"psysml:ad9261f0-dda0-42b5-9d6e-43ebe8822407\" xlink:show=\"new\" xlink:title=\"psysml:ad9261f0-dda0-42b5-9d6e-43ebe8822407\" xlink:type=\"simple\"><path d=\"M629.2,256.81 C637.06,251.73 644.77,245.77 651,239 C668.81,219.65 682.03,193.27 690.87,171.42 \" fill=\"none\" id=\"E4-&gt;E2\" style=\"stroke: #383838; stroke-width: 1.0;\"/><polygon fill=\"#FFFFFF\" points=\"697.89,152.61,697.8136,172.8583,684.6951,167.9689,697.89,152.61\" style=\"stroke: #383838; stroke-width: 1.0;\"/><ellipse cx=\"693.9488\" cy=\"177.5009\" fill=\"#383838\" rx=\"2\" ry=\"2\" style=\"stroke: #383838; stroke-width: 1.0;\"/><ellipse cx=\"684.5785\" cy=\"174.0085\" fill=\"#383838\" rx=\"2\" ry=\"2\" style=\"stroke: #383838; stroke-width: 1.0;\"/></a><!--MD5=[15ebcb19ae302d9b601edb458606d402]\n",
       "link E5 to E2--><a href=\"psysml:b52cccfc-b130-477f-adae-4c6f859e452b\" target=\"_top\" title=\"psysml:b52cccfc-b130-477f-adae-4c6f859e452b\" xlink:actuate=\"onRequest\" xlink:href=\"psysml:b52cccfc-b130-477f-adae-4c6f859e452b\" xlink:show=\"new\" xlink:title=\"psysml:b52cccfc-b130-477f-adae-4c6f859e452b\" xlink:type=\"simple\"><path d=\"M228.2305,189.376 C228.8744,189.0453 229.5128,188.7052 230.1454,188.3554 C235.2061,185.5577 239.8925,182.145 244,178 C259.71,162.15 243.93,93.39 261,79 C276.11,66.27 643.19,83.49 651,86 C662.73,89.77 673.57,97.62 682.38,105.73 \" fill=\"none\" id=\"E5-&gt;E2\" style=\"stroke: #383838; stroke-width: 1.0; stroke-dasharray: 7.0,7.0;\"/><polygon fill=\"#383838\" points=\"686.03,109.21,682.2911,100.0984,682.4168,105.7539,676.7613,105.8796,686.03,109.21\" style=\"stroke: #383838; stroke-width: 1.0;\"/><text fill=\"#000000\" font-family=\"sans-serif\" font-size=\"13\" lengthAdjust=\"spacingAndGlyphs\" textLength=\"62\" x=\"452\" y=\"73.0669\">«subject»</text></a><!--MD5=[452b418e7f8a40397a49b8c0a78acc5b]\n",
       "reverse link E5 to E7--><a href=\"psysml:226717b4-0db0-47e0-9eef-bae3c4ff0509\" target=\"_top\" title=\"psysml:226717b4-0db0-47e0-9eef-bae3c4ff0509\" xlink:actuate=\"onRequest\" xlink:href=\"psysml:226717b4-0db0-47e0-9eef-bae3c4ff0509\" xlink:show=\"new\" xlink:title=\"psysml:226717b4-0db0-47e0-9eef-bae3c4ff0509\" xlink:type=\"simple\"><path d=\"M228.3382,195.3141 C228.8468,195.3045 229.3559,195.2949 229.8655,195.2853 C230.8847,195.2661 231.9059,195.2468 232.9285,195.2275 C234.9738,195.1889 237.0252,195.1502 239.0795,195.1114 C255.5144,194.8012 272.14,194.4875 287.37,194.2 \" fill=\"none\" id=\"E5&lt;-E7\" style=\"stroke: #383838; stroke-width: 1.0;\"/><polygon fill=\"#FFFFFF\" points=\"228.3382,195.3141,234.4126,199.2002,240.336,195.0877,234.2616,191.2016,228.3382,195.3141\" style=\"stroke: #383838; stroke-width: 1.0;\"/></a><!--MD5=[dc164f5e8a733ab456ef1add180e9e34]\n",
       "reverse link E7 to E8--><a href=\"psysml:6f1f84a3-2ac1-458a-baf6-caa888cc195f\" target=\"_top\" title=\"psysml:6f1f84a3-2ac1-458a-baf6-caa888cc195f\" xlink:actuate=\"onRequest\" xlink:href=\"psysml:6f1f84a3-2ac1-458a-baf6-caa888cc195f\" xlink:show=\"new\" xlink:title=\"psysml:6f1f84a3-2ac1-458a-baf6-caa888cc195f\" xlink:type=\"simple\"><path d=\"M429.31,172.69 C460.57,164.38 496.22,154.89 525.62,147.07 \" fill=\"none\" id=\"E7&lt;-E8\" style=\"stroke: #383838; stroke-width: 1.0;\"/><polygon fill=\"#FFFFFF\" points=\"416.67,176.06,423.4971,178.3819,428.2661,172.973,421.4391,170.6511,416.67,176.06\" style=\"stroke: #383838; stroke-width: 1.0;\"/><text fill=\"#000000\" font-family=\"sans-serif\" font-size=\"13\" lengthAdjust=\"spacingAndGlyphs\" textLength=\"8\" x=\"507.2001\" y=\"162.9064\">1</text></a><!--MD5=[f1f3f9f2fc535e6147756cb86a7f2e32]\n",
       "link E8 to E2--><a href=\"psysml:2bf4d1c6-7bac-40b1-aaaa-83952da67c38\" target=\"_top\" title=\"psysml:2bf4d1c6-7bac-40b1-aaaa-83952da67c38\" xlink:actuate=\"onRequest\" xlink:href=\"psysml:2bf4d1c6-7bac-40b1-aaaa-83952da67c38\" xlink:show=\"new\" xlink:title=\"psysml:2bf4d1c6-7bac-40b1-aaaa-83952da67c38\" xlink:type=\"simple\"><path d=\"M651.02,131 C651.11,131 651.2,131 651.29,131 \" fill=\"none\" id=\"E8-&gt;E2\" style=\"stroke: #383838; stroke-width: 1.0;\"/><polygon fill=\"#FFFFFF\" points=\"667.97,131,648.97,138,648.97,124,667.97,131\" style=\"stroke: #383838; stroke-width: 1.0;\"/><ellipse cx=\"643.27\" cy=\"136\" fill=\"#383838\" rx=\"2\" ry=\"2\" style=\"stroke: #383838; stroke-width: 1.0;\"/><ellipse cx=\"643.27\" cy=\"126\" fill=\"#383838\" rx=\"2\" ry=\"2\" style=\"stroke: #383838; stroke-width: 1.0;\"/></a><!--MD5=[9ae28de373ca99bb8a1b38d63370ca7e]\n",
       "reverse link E5 to E9--><a href=\"psysml:eedf805a-a406-401d-b38e-104ba6f0fce6\" target=\"_top\" title=\"psysml:eedf805a-a406-401d-b38e-104ba6f0fce6\" xlink:actuate=\"onRequest\" xlink:href=\"psysml:eedf805a-a406-401d-b38e-104ba6f0fce6\" xlink:show=\"new\" xlink:title=\"psysml:eedf805a-a406-401d-b38e-104ba6f0fce6\" xlink:type=\"simple\"><path d=\"M228.4006,186.23 C233.8797,183.9419 239.1363,181.2238 244,178 C255.51,170.37 250.44,160.9 261,152 C272.33,142.45 286.35,134.89 299.93,129.07 \" fill=\"none\" id=\"E5&lt;-E9\" style=\"stroke: #383838; stroke-width: 1.0;\"/><polygon fill=\"#FFFFFF\" points=\"228.4006,186.23,235.4787,187.6089,239.4738,181.6057,232.3958,180.2268,228.4006,186.23\" style=\"stroke: #383838; stroke-width: 1.0;\"/><text fill=\"#000000\" font-family=\"sans-serif\" font-size=\"13\" lengthAdjust=\"spacingAndGlyphs\" textLength=\"8\" x=\"273.3568\" y=\"148.9716\">1</text></a><!--MD5=[5c3bb36fe832a92c7f0e1807dd65209d]\n",
       "link E9 to E2--><a href=\"psysml:3213573e-39ef-4dfb-813d-bdfb08b6e367\" target=\"_top\" title=\"psysml:3213573e-39ef-4dfb-813d-bdfb08b6e367\" xlink:actuate=\"onRequest\" xlink:href=\"psysml:3213573e-39ef-4dfb-813d-bdfb08b6e367\" xlink:show=\"new\" xlink:title=\"psysml:3213573e-39ef-4dfb-813d-bdfb08b6e367\" xlink:type=\"simple\"><path d=\"M443.32,101.62 C516.51,93.6 613.44,86.07 651,97 C653.7,97.78 656.39,98.75 659.05,99.86 \" fill=\"none\" id=\"E9-&gt;E2\" style=\"stroke: #383838; stroke-width: 1.0;\"/><polygon fill=\"#FFFFFF\" points=\"677.08,109.43,657.0174,106.6931,663.5885,94.331,677.08,109.43\" style=\"stroke: #383838; stroke-width: 1.0;\"/><ellipse cx=\"652.923\" cy=\"102.2517\" fill=\"#383838\" rx=\"2\" ry=\"2\" style=\"stroke: #383838; stroke-width: 1.0;\"/><ellipse cx=\"657.6166\" cy=\"93.4217\" fill=\"#383838\" rx=\"2\" ry=\"2\" style=\"stroke: #383838; stroke-width: 1.0;\"/></a><!--MD5=[9fde23e2a02c121528bbbde5f67415c4]\n",
       "@startuml\r\n",
       "skinparam ranksep 10\r\n",
       "skinparam rectangle {\r\n",
       " backgroundColor<<block>> LightGreen\r\n",
       "}\r\n",
       "left to right direction\r\n",
       "skinparam monochrome true\r\n",
       "skinparam classbackgroundcolor white\r\n",
       "skinparam shadowing false\r\n",
       "skinparam wrapWidth 300\r\n",
       "hide circle\r\n",
       "\r\n",
       "package \"TradeStudyTest\" as E1  [[psysml:06d75114-8d09-4304-b9ac-1031eaaad748 ]]  {\r\n",
       "rec def \"Engine\" as E2  <<(T,blue) part  def>> [[psysml:377b66bc-6410-4386-a0f5-58eac70f1599 ]] {\r\n",
       "}\r\n",
       "rec usage \"engine1: Engine\" as E3  [[psysml:b73c7ebb-9472-45c7-822b-647f60ba4ebd ]] {\r\n",
       "}\r\n",
       "rec usage \"engine2: Engine\" as E4  [[psysml:383bc22a-19f8-4697-ba31-98dbfb8a50a3 ]] {\r\n",
       "}\r\n",
       "rec usage \"engineTradeStudy\" as E5 << analysis>> [[psysml:a2c4dab4-2ddb-42af-80d6-b11f423fabe1 ]] {\r\n",
       "comp usage \"tradeStudyObjective\" as E6  <<objective>> [[psysml:6f716227-75fa-479d-851c-c6728be0ecaf ]] {\r\n",
       "}\r\n",
       "}\r\n",
       "comp usage \"evaluationFunction \" as E7  <<(T,blue) calculation>> [[psysml:e59262b2-24eb-419d-a794-3b71c7229dcc ]] {\r\n",
       "}\r\n",
       "comp usage \"alternative: Engine \" as E8  [[psysml:83f46fb2-5a48-4342-a61e-b1e9a3952716 ]] {\r\n",
       "}\r\n",
       "comp usage \"selectedAlternative: Engine \" as E9  [[psysml:43a96bb2-d059-439d-9037-f3d1363e69c1 ]] {\r\n",
       "}\r\n",
       "}\r\n",
       "E3 - -:|> E2 [[psysml:a3c7b902-deb2-42e0-bb2d-9591134be70d ]] \r\n",
       "E4 - -:|> E2 [[psysml:ad9261f0-dda0-42b5-9d6e-43ebe8822407 ]] \r\n",
       "E5 ..> E2 [[psysml:b52cccfc-b130-477f-adae-4c6f859e452b ]] : <<subject>>\r\n",
       "E5 o- - E7 [[psysml:226717b4-0db0-47e0-9eef-bae3c4ff0509 ]] \r\n",
       "E7 o- - \"1\"E8 [[psysml:6f1f84a3-2ac1-458a-baf6-caa888cc195f ]] \r\n",
       "E8 - -:|> E2 [[psysml:2bf4d1c6-7bac-40b1-aaaa-83952da67c38 ]] \r\n",
       "E5 o- - \"1\"E9 [[psysml:eedf805a-a406-401d-b38e-104ba6f0fce6 ]] \r\n",
       "E9 - -:|> E2 [[psysml:3213573e-39ef-4dfb-813d-bdfb08b6e367 ]] \r\n",
       "@enduml\r\n",
       "\n",
       "PlantUML version 1.2020.13(Sat Jun 13 12:26:38 UTC 2020)\n",
       "(EPL source distribution)\n",
       "Java Runtime: OpenJDK Runtime Environment\n",
       "JVM: OpenJDK 64-Bit Server VM\n",
       "Default Encoding: UTF-8\n",
       "Language: en\n",
       "Country: null\n",
       "--></g></svg>"
      ]
     },
     "execution_count": 19,
     "metadata": {},
     "output_type": "execute_result"
    }
   ],
   "source": [
    "%viz --style=\"LR\" --view=\"Interconnection\" \"TradeStudyTest\""
   ]
  },
  {
   "cell_type": "code",
   "execution_count": 20,
   "id": "6c26be1a",
   "metadata": {
    "execution": {
     "iopub.execute_input": "2022-08-19T08:21:16.430230Z",
     "iopub.status.busy": "2022-08-19T08:21:16.429926Z",
     "iopub.status.idle": "2022-08-19T08:21:16.466912Z",
     "shell.execute_reply": "2022-08-19T08:21:16.466294Z"
    }
   },
   "outputs": [
    {
     "data": {
      "image/svg+xml": [
       "<?xml version=\"1.0\" encoding=\"UTF-8\" standalone=\"no\"?><svg xmlns=\"http://www.w3.org/2000/svg\" xmlns:xlink=\"http://www.w3.org/1999/xlink\" contentScriptType=\"application/ecmascript\" contentStyleType=\"text/css\" height=\"209px\" preserveAspectRatio=\"none\" style=\"width:484px;height:209px;\" version=\"1.1\" viewBox=\"0 0 484 209\" width=\"484px\" zoomAndPan=\"magnify\"><defs/><g><!--MD5=[fbc87193dbaf4d95561dea2c320d4a47]\n",
       "cluster E1--><a href=\"psysml:a2c4dab4-2ddb-42af-80d6-b11f423fabe1\" target=\"_top\" title=\"psysml:a2c4dab4-2ddb-42af-80d6-b11f423fabe1\" xlink:actuate=\"onRequest\" xlink:href=\"psysml:a2c4dab4-2ddb-42af-80d6-b11f423fabe1\" xlink:show=\"new\" xlink:title=\"psysml:a2c4dab4-2ddb-42af-80d6-b11f423fabe1\" xlink:type=\"simple\"><rect fill=\"#FFFFFF\" height=\"135\" id=\"E1\" rx=\"10\" ry=\"10\" style=\"stroke: #383838; stroke-width: 1.5;\" width=\"411.36\" x=\"47\" y=\"42.0986\"/><rect fill=\"#F8F8F8\" height=\"37.9375\" rx=\"10\" ry=\"10\" style=\"stroke: #F8F8F8; stroke-width: 1.5;\" width=\"411.36\" x=\"47\" y=\"42.0986\"/><rect fill=\"#F8F8F8\" height=\"10\" style=\"stroke: #F8F8F8; stroke-width: 1.5;\" width=\"411.36\" x=\"47\" y=\"70.0361\"/><rect fill=\"none\" height=\"135\" id=\"E1\" rx=\"10\" ry=\"10\" style=\"stroke: #383838; stroke-width: 1.5;\" width=\"411.36\" x=\"47\" y=\"42.0986\"/><text fill=\"#000000\" font-family=\"sans-serif\" font-size=\"12\" font-style=\"italic\" lengthAdjust=\"spacingAndGlyphs\" textLength=\"64\" x=\"220.68\" y=\"58.2373\">«analysis»</text><text fill=\"#000000\" font-family=\"sans-serif\" font-size=\"12\" lengthAdjust=\"spacingAndGlyphs\" textLength=\"114\" x=\"195.68\" y=\"72.2061\">engineTradeStudy</text><line style=\"stroke: #383838; stroke-width: 1.0;\" x1=\"47\" x2=\"458.36\" y1=\"80.0361\" y2=\"80.0361\"/></a><!--MD5=[d5e69f78d87373223dbae638b30a9c99]\n",
       "cluster E3--><a href=\"psysml:e59262b2-24eb-419d-a794-3b71c7229dcc\" target=\"_top\" title=\"psysml:e59262b2-24eb-419d-a794-3b71c7229dcc\" xlink:actuate=\"onRequest\" xlink:href=\"psysml:e59262b2-24eb-419d-a794-3b71c7229dcc\" xlink:show=\"new\" xlink:title=\"psysml:e59262b2-24eb-419d-a794-3b71c7229dcc\" xlink:type=\"simple\"><rect fill=\"#FFFFFF\" height=\"68\" id=\"E3\" rx=\"10\" ry=\"10\" style=\"stroke: #383838; stroke-width: 1.5;\" width=\"269.86\" x=\"158.5\" y=\"83.0986\"/><rect fill=\"#F8F8F8\" height=\"37.9375\" rx=\"10\" ry=\"10\" style=\"stroke: #F8F8F8; stroke-width: 1.5;\" width=\"269.86\" x=\"158.5\" y=\"83.0986\"/><rect fill=\"#F8F8F8\" height=\"10\" style=\"stroke: #F8F8F8; stroke-width: 1.5;\" width=\"269.86\" x=\"158.5\" y=\"111.0361\"/><rect fill=\"none\" height=\"68\" id=\"E3\" rx=\"10\" ry=\"10\" style=\"stroke: #383838; stroke-width: 1.5;\" width=\"269.86\" x=\"158.5\" y=\"83.0986\"/><text fill=\"#000000\" font-family=\"sans-serif\" font-size=\"12\" font-style=\"italic\" lengthAdjust=\"spacingAndGlyphs\" textLength=\"82\" x=\"252.43\" y=\"99.2373\">«calculation»</text><text fill=\"#000000\" font-family=\"sans-serif\" font-size=\"12\" lengthAdjust=\"spacingAndGlyphs\" textLength=\"119\" x=\"233.93\" y=\"113.2061\">evaluationFunction</text><line style=\"stroke: #383838; stroke-width: 1.0;\" x1=\"158.5\" x2=\"428.36\" y1=\"121.0361\" y2=\"121.0361\"/></a><text fill=\"#000000\" font-family=\"sans-serif\" font-size=\"14\" lengthAdjust=\"spacingAndGlyphs\" textLength=\"118\" x=\"6\" y=\"196.0938\">studyAlternatives</text><rect fill=\"#383838\" height=\"12\" style=\"stroke: #F8F8F8; stroke-width: 1.5;\" width=\"12\" x=\"59\" y=\"171.0986\"/><text fill=\"#000000\" font-family=\"sans-serif\" font-size=\"14\" lengthAdjust=\"spacingAndGlyphs\" textLength=\"132\" x=\"340\" y=\"20.7969\">selectedAlternative</text><rect fill=\"#383838\" height=\"12\" style=\"stroke: #F8F8F8; stroke-width: 1.5;\" width=\"12\" x=\"400\" y=\"36.0986\"/><text fill=\"#000000\" font-family=\"sans-serif\" font-size=\"14\" lengthAdjust=\"spacingAndGlyphs\" textLength=\"71\" x=\"123\" y=\"95.7969\">alternative</text><rect fill=\"#383838\" height=\"12\" style=\"stroke: #F8F8F8; stroke-width: 1.5;\" width=\"12\" x=\"152.5\" y=\"111.0986\"/><text fill=\"#000000\" font-family=\"sans-serif\" font-size=\"14\" lengthAdjust=\"spacingAndGlyphs\" textLength=\"39\" x=\"408.86\" y=\"95.7969\">result</text><rect fill=\"#383838\" height=\"12\" style=\"stroke: #F8F8F8; stroke-width: 1.5;\" width=\"12\" x=\"422.36\" y=\"111.0986\"/><!--MD5=[082feb43009f56afc5bfdfc922d181c6]\n",
       "@startuml\r\n",
       "skinparam ranksep 8\r\n",
       "left to right direction\r\n",
       "skinparam monochrome true\r\n",
       "skinparam classbackgroundcolor white\r\n",
       "skinparam shadowing false\r\n",
       "skinparam wrapWidth 300\r\n",
       "hide circle\r\n",
       "\r\n",
       "rec usage \"engineTradeStudy\" as E1 << analysis>> [[psysml:a2c4dab4-2ddb-42af-80d6-b11f423fabe1 ]] {\r\n",
       "portin \"studyAlternatives\" as E2  [[psysml:ba51db2a-337d-4796-9152-a1747789732e ]] \r\n",
       "rec usage \"evaluationFunction\" as E3  <<(T,blue) calculation>> [[psysml:e59262b2-24eb-419d-a794-3b71c7229dcc ]] {\r\n",
       "portin \"alternative\" as E4  [[psysml:83f46fb2-5a48-4342-a61e-b1e9a3952716 ]] \r\n",
       "portout \"result\" as E5  [[psysml:9307401e-c2bc-4ae8-a206-942b4cc90813 ]] \r\n",
       "}\r\n",
       "\r\n",
       "portout \"selectedAlternative\" as E6  [[psysml:43a96bb2-d059-439d-9037-f3d1363e69c1 ]] \r\n",
       "}\r\n",
       "\r\n",
       "@enduml\r\n",
       "\n",
       "PlantUML version 1.2020.13(Sat Jun 13 12:26:38 UTC 2020)\n",
       "(EPL source distribution)\n",
       "Java Runtime: OpenJDK Runtime Environment\n",
       "JVM: OpenJDK 64-Bit Server VM\n",
       "Default Encoding: UTF-8\n",
       "Language: en\n",
       "Country: null\n",
       "--></g></svg>"
      ]
     },
     "execution_count": 20,
     "metadata": {},
     "output_type": "execute_result"
    }
   ],
   "source": [
    "%viz --style=\"LR\" --view=\"Action\" \"TradeStudyTest\""
   ]
  },
  {
   "cell_type": "code",
   "execution_count": 21,
   "id": "b6d91ec3",
   "metadata": {
    "execution": {
     "iopub.execute_input": "2022-08-19T08:21:16.516178Z",
     "iopub.status.busy": "2022-08-19T08:21:16.515526Z",
     "iopub.status.idle": "2022-08-19T08:21:16.523504Z",
     "shell.execute_reply": "2022-08-19T08:21:16.523876Z"
    }
   },
   "outputs": [
    {
     "data": {
      "image/svg+xml": [
       "<?xml version=\"1.0\" encoding=\"UTF-8\" standalone=\"no\"?><svg xmlns=\"http://www.w3.org/2000/svg\" xmlns:xlink=\"http://www.w3.org/1999/xlink\" contentScriptType=\"application/ecmascript\" contentStyleType=\"text/css\" height=\"12px\" preserveAspectRatio=\"none\" style=\"width:12px;height:12px;\" version=\"1.1\" viewBox=\"0 0 12 12\" width=\"12px\" zoomAndPan=\"magnify\"><defs/><g><!--MD5=[238c11ea2002f03115ad6b49a457d50e]\n",
       "@startuml\r\n",
       "skinparam roundcorner 20\r\n",
       "skinparam BoxPadding 20\r\n",
       "skinparam SequenceBoxBackgroundColor #white\r\n",
       "skinparam style strictuml\r\n",
       "skinparam maxMessageSize 100\r\n",
       "left to right direction\r\n",
       "skinparam monochrome true\r\n",
       "skinparam classbackgroundcolor white\r\n",
       "skinparam shadowing false\r\n",
       "skinparam wrapWidth 300\r\n",
       "hide circle\r\n",
       "\r\n",
       "@enduml\r\n",
       "\n",
       "PlantUML version 1.2020.13(Sat Jun 13 12:26:38 UTC 2020)\n",
       "(EPL source distribution)\n",
       "Java Runtime: OpenJDK Runtime Environment\n",
       "JVM: OpenJDK 64-Bit Server VM\n",
       "Default Encoding: UTF-8\n",
       "Language: en\n",
       "Country: null\n",
       "--></g></svg>"
      ]
     },
     "execution_count": 21,
     "metadata": {},
     "output_type": "execute_result"
    }
   ],
   "source": [
    "%viz --style=\"LR\" --view=\"Sequence\" \"TradeStudyTest\""
   ]
  },
  {
   "cell_type": "code",
   "execution_count": 22,
   "id": "2f785ab4",
   "metadata": {
    "execution": {
     "iopub.execute_input": "2022-08-19T08:21:16.573369Z",
     "iopub.status.busy": "2022-08-19T08:21:16.573107Z",
     "iopub.status.idle": "2022-08-19T08:21:16.622664Z",
     "shell.execute_reply": "2022-08-19T08:21:16.622080Z"
    }
   },
   "outputs": [
    {
     "data": {
      "image/svg+xml": [
       "<?xml version=\"1.0\" encoding=\"UTF-8\" standalone=\"no\"?><svg xmlns=\"http://www.w3.org/2000/svg\" xmlns:xlink=\"http://www.w3.org/1999/xlink\" contentScriptType=\"application/ecmascript\" contentStyleType=\"text/css\" height=\"351px\" preserveAspectRatio=\"none\" style=\"width:886px;height:351px;\" version=\"1.1\" viewBox=\"0 0 886 351\" width=\"886px\" zoomAndPan=\"magnify\"><defs/><g><!--MD5=[fbc87193dbaf4d95561dea2c320d4a47]\n",
       "cluster E1--><a href=\"psysml:06d75114-8d09-4304-b9ac-1031eaaad748\" target=\"_top\" title=\"psysml:06d75114-8d09-4304-b9ac-1031eaaad748\" xlink:actuate=\"onRequest\" xlink:href=\"psysml:06d75114-8d09-4304-b9ac-1031eaaad748\" xlink:show=\"new\" xlink:title=\"psysml:06d75114-8d09-4304-b9ac-1031eaaad748\" xlink:type=\"simple\"><polygon fill=\"#FFFFFF\" points=\"16,6,132,6,139,28.2969,864,28.2969,864,339,16,339,16,6\" style=\"stroke: #000000; stroke-width: 1.5;\"/><line style=\"stroke: #000000; stroke-width: 1.5;\" x1=\"16\" x2=\"139\" y1=\"28.2969\" y2=\"28.2969\"/><text fill=\"#000000\" font-family=\"sans-serif\" font-size=\"14\" font-weight=\"bold\" lengthAdjust=\"spacingAndGlyphs\" textLength=\"110\" x=\"20\" y=\"20.9951\">TradeStudyTest</text></a><!--MD5=[de5ec2e2e8f62f467e546659f5068c88]\n",
       "cluster E5--><a href=\"psysml:a2c4dab4-2ddb-42af-80d6-b11f423fabe1\" target=\"_top\" title=\"psysml:a2c4dab4-2ddb-42af-80d6-b11f423fabe1\" xlink:actuate=\"onRequest\" xlink:href=\"psysml:a2c4dab4-2ddb-42af-80d6-b11f423fabe1\" xlink:show=\"new\" xlink:title=\"psysml:a2c4dab4-2ddb-42af-80d6-b11f423fabe1\" xlink:type=\"simple\"><rect fill=\"#FFFFFF\" height=\"148\" id=\"E5\" rx=\"10\" ry=\"10\" style=\"stroke: #383838; stroke-width: 1.5;\" width=\"180\" x=\"48\" y=\"57\"/><rect fill=\"#F8F8F8\" height=\"37.9375\" rx=\"10\" ry=\"10\" style=\"stroke: #F8F8F8; stroke-width: 1.5;\" width=\"180\" x=\"48\" y=\"57\"/><rect fill=\"#F8F8F8\" height=\"10\" style=\"stroke: #F8F8F8; stroke-width: 1.5;\" width=\"180\" x=\"48\" y=\"84.9375\"/><rect fill=\"none\" height=\"148\" id=\"E5\" rx=\"10\" ry=\"10\" style=\"stroke: #383838; stroke-width: 1.5;\" width=\"180\" x=\"48\" y=\"57\"/><text fill=\"#000000\" font-family=\"sans-serif\" font-size=\"12\" font-style=\"italic\" lengthAdjust=\"spacingAndGlyphs\" textLength=\"64\" x=\"106\" y=\"73.1387\">«analysis»</text><text fill=\"#000000\" font-family=\"sans-serif\" font-size=\"12\" lengthAdjust=\"spacingAndGlyphs\" textLength=\"114\" x=\"81\" y=\"87.1074\">engineTradeStudy</text><line style=\"stroke: #383838; stroke-width: 1.0;\" x1=\"48\" x2=\"228\" y1=\"94.9375\" y2=\"94.9375\"/></a><!--MD5=[b4997ac47864f28c2f74865a473b2911]\n",
       "class E2--><a href=\"psysml:377b66bc-6410-4386-a0f5-58eac70f1599\" target=\"_top\" title=\"psysml:377b66bc-6410-4386-a0f5-58eac70f1599\" xlink:actuate=\"onRequest\" xlink:href=\"psysml:377b66bc-6410-4386-a0f5-58eac70f1599\" xlink:show=\"new\" xlink:title=\"psysml:377b66bc-6410-4386-a0f5-58eac70f1599\" xlink:type=\"simple\"><rect fill=\"#FFFFFF\" height=\"45.9375\" id=\"E2\" style=\"stroke: #383838; stroke-width: 1.5;\" width=\"70\" x=\"778\" y=\"137\"/><text fill=\"#000000\" font-family=\"sans-serif\" font-size=\"12\" font-style=\"italic\" lengthAdjust=\"spacingAndGlyphs\" textLength=\"68\" x=\"779\" y=\"153.1387\">«part  def»</text><text fill=\"#000000\" font-family=\"sans-serif\" font-size=\"12\" lengthAdjust=\"spacingAndGlyphs\" textLength=\"43\" x=\"791.5\" y=\"167.1074\">Engine</text><line style=\"stroke: #383838; stroke-width: 1.5;\" x1=\"779\" x2=\"847\" y1=\"174.9375\" y2=\"174.9375\"/></a><!--MD5=[09b614a08d8cba4a07c9adeb5e0fee81]\n",
       "class E3--><a href=\"psysml:b73c7ebb-9472-45c7-822b-647f60ba4ebd\" target=\"_top\" title=\"psysml:b73c7ebb-9472-45c7-822b-647f60ba4ebd\" xlink:actuate=\"onRequest\" xlink:href=\"psysml:b73c7ebb-9472-45c7-822b-647f60ba4ebd\" xlink:show=\"new\" xlink:title=\"psysml:b73c7ebb-9472-45c7-822b-647f60ba4ebd\" xlink:type=\"simple\"><rect fill=\"#FFFFFF\" height=\"45.9375\" id=\"E3\" rx=\"10\" ry=\"10\" style=\"stroke: #383838; stroke-width: 1.5;\" width=\"112\" x=\"597\" y=\"196\"/><text fill=\"#000000\" font-family=\"sans-serif\" font-size=\"12\" font-style=\"italic\" lengthAdjust=\"spacingAndGlyphs\" textLength=\"40\" x=\"633\" y=\"212.1387\">«part»</text><text fill=\"#000000\" font-family=\"sans-serif\" font-size=\"12\" lengthAdjust=\"spacingAndGlyphs\" textLength=\"102\" x=\"600\" y=\"226.1074\">engine1: Engine</text><line style=\"stroke: #383838; stroke-width: 1.5;\" x1=\"598\" x2=\"708\" y1=\"233.9375\" y2=\"233.9375\"/></a><!--MD5=[ebbe1d658d1005bcc118a6aa81145e00]\n",
       "class E4--><a href=\"psysml:383bc22a-19f8-4697-ba31-98dbfb8a50a3\" target=\"_top\" title=\"psysml:383bc22a-19f8-4697-ba31-98dbfb8a50a3\" xlink:actuate=\"onRequest\" xlink:href=\"psysml:383bc22a-19f8-4697-ba31-98dbfb8a50a3\" xlink:show=\"new\" xlink:title=\"psysml:383bc22a-19f8-4697-ba31-98dbfb8a50a3\" xlink:type=\"simple\"><rect fill=\"#FFFFFF\" height=\"45.9375\" id=\"E4\" rx=\"10\" ry=\"10\" style=\"stroke: #383838; stroke-width: 1.5;\" width=\"112\" x=\"597\" y=\"277\"/><text fill=\"#000000\" font-family=\"sans-serif\" font-size=\"12\" font-style=\"italic\" lengthAdjust=\"spacingAndGlyphs\" textLength=\"40\" x=\"633\" y=\"293.1387\">«part»</text><text fill=\"#000000\" font-family=\"sans-serif\" font-size=\"12\" lengthAdjust=\"spacingAndGlyphs\" textLength=\"102\" x=\"600\" y=\"307.1074\">engine2: Engine</text><line style=\"stroke: #383838; stroke-width: 1.5;\" x1=\"598\" x2=\"708\" y1=\"314.9375\" y2=\"314.9375\"/></a><!--MD5=[2156ba9850f5573cc1fc38a6a4b2f02b]\n",
       "class E7--><a href=\"psysml:e59262b2-24eb-419d-a794-3b71c7229dcc\" target=\"_top\" title=\"psysml:e59262b2-24eb-419d-a794-3b71c7229dcc\" xlink:actuate=\"onRequest\" xlink:href=\"psysml:e59262b2-24eb-419d-a794-3b71c7229dcc\" xlink:show=\"new\" xlink:title=\"psysml:e59262b2-24eb-419d-a794-3b71c7229dcc\" xlink:type=\"simple\"><rect fill=\"#FFFFFF\" height=\"45.9375\" id=\"E7\" rx=\"10\" ry=\"10\" style=\"stroke: #383838; stroke-width: 1.5;\" width=\"129\" x=\"309.5\" y=\"122\"/><text fill=\"#000000\" font-family=\"sans-serif\" font-size=\"12\" font-style=\"italic\" lengthAdjust=\"spacingAndGlyphs\" textLength=\"82\" x=\"333\" y=\"138.1387\">«calculation»</text><text fill=\"#000000\" font-family=\"sans-serif\" font-size=\"12\" lengthAdjust=\"spacingAndGlyphs\" textLength=\"119\" x=\"312.5\" y=\"152.1074\">evaluationFunction</text><line style=\"stroke: #383838; stroke-width: 1.5;\" x1=\"310.5\" x2=\"437.5\" y1=\"159.9375\" y2=\"159.9375\"/></a><!--MD5=[b9389687b975829384b498ac4b7476b2]\n",
       "class E8--><a href=\"psysml:83f46fb2-5a48-4342-a61e-b1e9a3952716\" target=\"_top\" title=\"psysml:83f46fb2-5a48-4342-a61e-b1e9a3952716\" xlink:actuate=\"onRequest\" xlink:href=\"psysml:83f46fb2-5a48-4342-a61e-b1e9a3952716\" xlink:show=\"new\" xlink:title=\"psysml:83f46fb2-5a48-4342-a61e-b1e9a3952716\" xlink:type=\"simple\"><rect fill=\"#FFFFFF\" height=\"45.9375\" id=\"E8\" rx=\"10\" ry=\"10\" style=\"stroke: #383838; stroke-width: 1.5;\" width=\"128\" x=\"589\" y=\"78\"/><text fill=\"#000000\" font-family=\"sans-serif\" font-size=\"12\" font-style=\"italic\" lengthAdjust=\"spacingAndGlyphs\" textLength=\"40\" x=\"633\" y=\"94.1387\">«part»</text><text fill=\"#000000\" font-family=\"sans-serif\" font-size=\"12\" lengthAdjust=\"spacingAndGlyphs\" textLength=\"118\" x=\"592\" y=\"108.1074\">alternative: Engine</text><line style=\"stroke: #383838; stroke-width: 1.5;\" x1=\"590\" x2=\"716\" y1=\"115.9375\" y2=\"115.9375\"/></a><!--MD5=[fd4143e9d270a159db93a4ea2a975926]\n",
       "class E9--><a href=\"psysml:43a96bb2-d059-439d-9037-f3d1363e69c1\" target=\"_top\" title=\"psysml:43a96bb2-d059-439d-9037-f3d1363e69c1\" xlink:actuate=\"onRequest\" xlink:href=\"psysml:43a96bb2-d059-439d-9037-f3d1363e69c1\" xlink:show=\"new\" xlink:title=\"psysml:43a96bb2-d059-439d-9037-f3d1363e69c1\" xlink:type=\"simple\"><rect fill=\"#FFFFFF\" height=\"45.9375\" id=\"E9\" rx=\"10\" ry=\"10\" style=\"stroke: #383838; stroke-width: 1.5;\" width=\"182\" x=\"283\" y=\"41\"/><text fill=\"#000000\" font-family=\"sans-serif\" font-size=\"12\" font-style=\"italic\" lengthAdjust=\"spacingAndGlyphs\" textLength=\"40\" x=\"354\" y=\"57.1387\">«part»</text><text fill=\"#000000\" font-family=\"sans-serif\" font-size=\"12\" lengthAdjust=\"spacingAndGlyphs\" textLength=\"172\" x=\"286\" y=\"71.1074\">selectedAlternative: Engine</text><line style=\"stroke: #383838; stroke-width: 1.5;\" x1=\"284\" x2=\"464\" y1=\"78.9375\" y2=\"78.9375\"/></a><!--MD5=[60a26617385b1d2d0262a64233df1f8d]\n",
       "class E6--><a href=\"psysml:6f716227-75fa-479d-851c-c6728be0ecaf\" target=\"_top\" title=\"psysml:6f716227-75fa-479d-851c-c6728be0ecaf\" xlink:actuate=\"onRequest\" xlink:href=\"psysml:6f716227-75fa-479d-851c-c6728be0ecaf\" xlink:show=\"new\" xlink:title=\"psysml:6f716227-75fa-479d-851c-c6728be0ecaf\" xlink:type=\"simple\"><rect fill=\"#FFFFFF\" height=\"45.9375\" id=\"E6\" rx=\"10\" ry=\"10\" style=\"stroke: #383838; stroke-width: 1.5;\" width=\"132\" x=\"72\" y=\"116\"/><text fill=\"#000000\" font-family=\"sans-serif\" font-size=\"12\" font-style=\"italic\" lengthAdjust=\"spacingAndGlyphs\" textLength=\"70\" x=\"103\" y=\"132.1387\">«objective»</text><text fill=\"#000000\" font-family=\"sans-serif\" font-size=\"12\" lengthAdjust=\"spacingAndGlyphs\" textLength=\"126\" x=\"75\" y=\"146.1074\">tradeStudyObjective</text><line style=\"stroke: #383838; stroke-width: 1.5;\" x1=\"73\" x2=\"203\" y1=\"153.9375\" y2=\"153.9375\"/></a><!--MD5=[05d275557350bfb9b23a4ef7222b4c39]\n",
       "link E3 to E2--><a href=\"psysml:a3c7b902-deb2-42e0-bb2d-9591134be70d\" target=\"_top\" title=\"psysml:a3c7b902-deb2-42e0-bb2d-9591134be70d\" xlink:actuate=\"onRequest\" xlink:href=\"psysml:a3c7b902-deb2-42e0-bb2d-9591134be70d\" xlink:show=\"new\" xlink:title=\"psysml:a3c7b902-deb2-42e0-bb2d-9591134be70d\" xlink:type=\"simple\"><path d=\"M709.26,198.36 C725.37,192.35 742.93,185.79 758.9,179.83 \" fill=\"none\" id=\"E3-&gt;E2\" style=\"stroke: #383838; stroke-width: 1.0;\"/><polygon fill=\"#FFFFFF\" points=\"777.72,172.8,762.3699,186.0051,757.4717,172.89,777.72,172.8\" style=\"stroke: #383838; stroke-width: 1.0;\"/><ellipse cx=\"756.3304\" cy=\"186.1258\" fill=\"#383838\" rx=\"2\" ry=\"2\" style=\"stroke: #383838; stroke-width: 1.0;\"/><ellipse cx=\"752.8317\" cy=\"176.7578\" fill=\"#383838\" rx=\"2\" ry=\"2\" style=\"stroke: #383838; stroke-width: 1.0;\"/></a><!--MD5=[185131fc0dcab0a4505a2ebe144e961b]\n",
       "link E4 to E2--><a href=\"psysml:ad9261f0-dda0-42b5-9d6e-43ebe8822407\" target=\"_top\" title=\"psysml:ad9261f0-dda0-42b5-9d6e-43ebe8822407\" xlink:actuate=\"onRequest\" xlink:href=\"psysml:ad9261f0-dda0-42b5-9d6e-43ebe8822407\" xlink:show=\"new\" xlink:title=\"psysml:ad9261f0-dda0-42b5-9d6e-43ebe8822407\" xlink:type=\"simple\"><path d=\"M692.64,276.85 C700.93,271.34 709.46,265.24 717,259 C739.22,240.61 761.68,217.46 779.17,198.18 \" fill=\"none\" id=\"E4-&gt;E2\" style=\"stroke: #383838; stroke-width: 1.0;\"/><polygon fill=\"#FFFFFF\" points=\"792.59,183.08,785.2057,201.934,774.7386,192.6366,792.59,183.08\" style=\"stroke: #383838; stroke-width: 1.0;\"/><ellipse cx=\"779.925\" cy=\"204.8673\" fill=\"#383838\" rx=\"2\" ry=\"2\" style=\"stroke: #383838; stroke-width: 1.0;\"/><ellipse cx=\"772.4486\" cy=\"198.2264\" fill=\"#383838\" rx=\"2\" ry=\"2\" style=\"stroke: #383838; stroke-width: 1.0;\"/></a><!--MD5=[15ebcb19ae302d9b601edb458606d402]\n",
       "link E5 to E2--><a href=\"psysml:b52cccfc-b130-477f-adae-4c6f859e452b\" target=\"_top\" title=\"psysml:b52cccfc-b130-477f-adae-4c6f859e452b\" xlink:actuate=\"onRequest\" xlink:href=\"psysml:b52cccfc-b130-477f-adae-4c6f859e452b\" xlink:show=\"new\" xlink:title=\"psysml:b52cccfc-b130-477f-adae-4c6f859e452b\" xlink:type=\"simple\"><path d=\"M229.3053,194.5266 C229.7631,194.5126 230.2221,194.4985 230.6823,194.4844 C231.6027,194.4562 232.528,194.4278 233.4581,194.3991 C235.3182,194.3417 237.1975,194.2834 239.0951,194.2241 C242.8902,194.1057 246.7585,193.9834 250.6938,193.8575 C313.6575,191.8425 393.745,188.875 465,185 C576.46,178.94 707.83,168.6 772.27,163.32 \" fill=\"none\" id=\"E5-&gt;E2\" style=\"stroke: #383838; stroke-width: 1.0; stroke-dasharray: 7.0,7.0;\"/><polygon fill=\"#383838\" points=\"777.55,162.88,768.2497,159.639,772.5672,163.294,768.9121,167.6115,777.55,162.88\" style=\"stroke: #383838; stroke-width: 1.0;\"/><text fill=\"#000000\" font-family=\"sans-serif\" font-size=\"13\" lengthAdjust=\"spacingAndGlyphs\" textLength=\"62\" x=\"496\" y=\"176.0669\">«subject»</text></a><!--MD5=[452b418e7f8a40397a49b8c0a78acc5b]\n",
       "reverse link E5 to E7--><a href=\"psysml:226717b4-0db0-47e0-9eef-bae3c4ff0509\" target=\"_top\" title=\"psysml:226717b4-0db0-47e0-9eef-bae3c4ff0509\" xlink:actuate=\"onRequest\" xlink:href=\"psysml:226717b4-0db0-47e0-9eef-bae3c4ff0509\" xlink:show=\"new\" xlink:title=\"psysml:226717b4-0db0-47e0-9eef-bae3c4ff0509\" xlink:type=\"simple\"><path d=\"M228.1381,181.3254 C228.3235,181.2879 228.5087,181.2504 228.694,181.2129 C229.4348,181.0629 230.1745,180.9123 230.9129,180.7613 C232.3896,180.4593 233.8609,180.1554 235.3246,179.85 C238.2521,179.2391 241.1494,178.6219 244,178 C265.34,173.35 288.51,167.63 309.24,162.27 \" fill=\"none\" id=\"E5&lt;-E7\" style=\"stroke: #383838; stroke-width: 1.0;\"/><polygon fill=\"#FFFFFF\" points=\"228.1381,181.3254,234.8116,184.0576,239.9003,178.9484,233.2269,176.2161,228.1381,181.3254\" style=\"stroke: #383838; stroke-width: 1.0;\"/></a><!--MD5=[dc164f5e8a733ab456ef1add180e9e34]\n",
       "reverse link E7 to E8--><a href=\"psysml:6f1f84a3-2ac1-458a-baf6-caa888cc195f\" target=\"_top\" title=\"psysml:6f1f84a3-2ac1-458a-baf6-caa888cc195f\" xlink:actuate=\"onRequest\" xlink:href=\"psysml:6f1f84a3-2ac1-458a-baf6-caa888cc195f\" xlink:show=\"new\" xlink:title=\"psysml:6f1f84a3-2ac1-458a-baf6-caa888cc195f\" xlink:type=\"simple\"><path d=\"M451.59,132.83 C494.74,125.98 547.99,117.52 588.75,111.05 \" fill=\"none\" id=\"E7&lt;-E8\" style=\"stroke: #383838; stroke-width: 1.0;\"/><polygon fill=\"#FFFFFF\" points=\"438.55,134.91,445.1039,137.9178,450.401,133.0249,443.8471,130.0171,438.55,134.91\" style=\"stroke: #383838; stroke-width: 1.0;\"/><text fill=\"#000000\" font-family=\"sans-serif\" font-size=\"13\" lengthAdjust=\"spacingAndGlyphs\" textLength=\"8\" x=\"572.8586\" y=\"125.1574\">1</text></a><!--MD5=[f1f3f9f2fc535e6147756cb86a7f2e32]\n",
       "link E8 to E2--><a href=\"psysml:2bf4d1c6-7bac-40b1-aaaa-83952da67c38\" target=\"_top\" title=\"psysml:2bf4d1c6-7bac-40b1-aaaa-83952da67c38\" xlink:actuate=\"onRequest\" xlink:href=\"psysml:2bf4d1c6-7bac-40b1-aaaa-83952da67c38\" xlink:show=\"new\" xlink:title=\"psysml:2bf4d1c6-7bac-40b1-aaaa-83952da67c38\" xlink:type=\"simple\"><path d=\"M715.99,124.15 C730.17,129.44 745.11,135.02 758.87,140.16 \" fill=\"none\" id=\"E8-&gt;E2\" style=\"stroke: #383838; stroke-width: 1.0;\"/><polygon fill=\"#FFFFFF\" points=\"777.96,147.29,757.7117,147.2085,762.6044,134.0913,777.96,147.29\" style=\"stroke: #383838; stroke-width: 1.0;\"/><ellipse cx=\"753.0701\" cy=\"143.3426\" fill=\"#383838\" rx=\"2\" ry=\"2\" style=\"stroke: #383838; stroke-width: 1.0;\"/><ellipse cx=\"756.5649\" cy=\"133.9732\" fill=\"#383838\" rx=\"2\" ry=\"2\" style=\"stroke: #383838; stroke-width: 1.0;\"/></a><!--MD5=[9ae28de373ca99bb8a1b38d63370ca7e]\n",
       "reverse link E5 to E9--><a href=\"psysml:eedf805a-a406-401d-b38e-104ba6f0fce6\" target=\"_top\" title=\"psysml:eedf805a-a406-401d-b38e-104ba6f0fce6\" xlink:actuate=\"onRequest\" xlink:href=\"psysml:eedf805a-a406-401d-b38e-104ba6f0fce6\" xlink:show=\"new\" xlink:title=\"psysml:eedf805a-a406-401d-b38e-104ba6f0fce6\" xlink:type=\"simple\"><path d=\"M228.2549,186.9736 C228.4239,186.8992 228.5926,186.8242 228.7612,186.7488 C234.1538,184.3364 239.2925,181.4488 244,178 C251.5,172.51 276.21,110.35 283,104 C289.99,97.46 298.23,91.87 306.84,87.12 \" fill=\"none\" id=\"E5&lt;-E9\" style=\"stroke: #383838; stroke-width: 1.0;\"/><polygon fill=\"#FFFFFF\" points=\"228.2549,186.9736,235.3583,188.215,239.2363,182.1354,232.1328,180.894,228.2549,186.9736\" style=\"stroke: #383838; stroke-width: 1.0;\"/><text fill=\"#000000\" font-family=\"sans-serif\" font-size=\"13\" lengthAdjust=\"spacingAndGlyphs\" textLength=\"8\" x=\"280.6052\" y=\"107.0583\">1</text></a><!--MD5=[5c3bb36fe832a92c7f0e1807dd65209d]\n",
       "link E9 to E2--><a href=\"psysml:3213573e-39ef-4dfb-813d-bdfb08b6e367\" target=\"_top\" title=\"psysml:3213573e-39ef-4dfb-813d-bdfb08b6e367\" xlink:actuate=\"onRequest\" xlink:href=\"psysml:3213573e-39ef-4dfb-813d-bdfb08b6e367\" xlink:show=\"new\" xlink:title=\"psysml:3213573e-39ef-4dfb-813d-bdfb08b6e367\" xlink:type=\"simple\"><path d=\"M465.31,43.59 C536.62,31.95 637.06,25.68 717,60 C745.79,72.36 769.97,98.21 786.73,120.53 \" fill=\"none\" id=\"E9-&gt;E2\" style=\"stroke: #383838; stroke-width: 1.0;\"/><polygon fill=\"#FFFFFF\" points=\"798.29,136.98,781.6407,125.4561,793.0968,117.4088,798.29,136.98\" style=\"stroke: #383838; stroke-width: 1.0;\"/><ellipse cx=\"780.0009\" cy=\"119.6422\" fill=\"#383838\" rx=\"2\" ry=\"2\" style=\"stroke: #383838; stroke-width: 1.0;\"/><ellipse cx=\"788.1838\" cy=\"113.8942\" fill=\"#383838\" rx=\"2\" ry=\"2\" style=\"stroke: #383838; stroke-width: 1.0;\"/></a><!--MD5=[d86c1f3f087e3553bbc7c03c703fb1a1]\n",
       "@startuml\r\n",
       "left to right direction\r\n",
       "skinparam monochrome true\r\n",
       "skinparam classbackgroundcolor white\r\n",
       "skinparam shadowing false\r\n",
       "skinparam wrapWidth 300\r\n",
       "hide circle\r\n",
       "\r\n",
       "package \"TradeStudyTest\" as E1  [[psysml:06d75114-8d09-4304-b9ac-1031eaaad748 ]]  {\r\n",
       "comp def \"Engine\" as E2  <<(T,blue) part  def>> [[psysml:377b66bc-6410-4386-a0f5-58eac70f1599 ]] {\r\n",
       "}\r\n",
       "comp usage \"engine1: Engine \" as E3  <<(T,blue) part>> [[psysml:b73c7ebb-9472-45c7-822b-647f60ba4ebd ]] {\r\n",
       "}\r\n",
       "comp usage \"engine2: Engine \" as E4  <<(T,blue) part>> [[psysml:383bc22a-19f8-4697-ba31-98dbfb8a50a3 ]] {\r\n",
       "}\r\n",
       "rec usage \"engineTradeStudy\" as E5 << analysis>> [[psysml:a2c4dab4-2ddb-42af-80d6-b11f423fabe1 ]] {\r\n",
       "comp usage \"tradeStudyObjective\" as E6  <<objective>> [[psysml:6f716227-75fa-479d-851c-c6728be0ecaf ]] {\r\n",
       "}\r\n",
       "}\r\n",
       "comp usage \"evaluationFunction \" as E7  <<(T,blue) calculation>> [[psysml:e59262b2-24eb-419d-a794-3b71c7229dcc ]] {\r\n",
       "}\r\n",
       "comp usage \"alternative: Engine \" as E8  <<(T,blue) part>> [[psysml:83f46fb2-5a48-4342-a61e-b1e9a3952716 ]] {\r\n",
       "}\r\n",
       "comp usage \"selectedAlternative: Engine \" as E9  <<(T,blue) part>> [[psysml:43a96bb2-d059-439d-9037-f3d1363e69c1 ]] {\r\n",
       "}\r\n",
       "}\r\n",
       "E3 - -:|> E2 [[psysml:a3c7b902-deb2-42e0-bb2d-9591134be70d ]] \r\n",
       "E4 - -:|> E2 [[psysml:ad9261f0-dda0-42b5-9d6e-43ebe8822407 ]] \r\n",
       "E5 ..> E2 [[psysml:b52cccfc-b130-477f-adae-4c6f859e452b ]] : <<subject>>\r\n",
       "E5 o- - E7 [[psysml:226717b4-0db0-47e0-9eef-bae3c4ff0509 ]] \r\n",
       "E7 o- - \"1\"E8 [[psysml:6f1f84a3-2ac1-458a-baf6-caa888cc195f ]] \r\n",
       "E8 - -:|> E2 [[psysml:2bf4d1c6-7bac-40b1-aaaa-83952da67c38 ]] \r\n",
       "E5 o- - \"1\"E9 [[psysml:eedf805a-a406-401d-b38e-104ba6f0fce6 ]] \r\n",
       "E9 - -:|> E2 [[psysml:3213573e-39ef-4dfb-813d-bdfb08b6e367 ]] \r\n",
       "@enduml\r\n",
       "\n",
       "PlantUML version 1.2020.13(Sat Jun 13 12:26:38 UTC 2020)\n",
       "(EPL source distribution)\n",
       "Java Runtime: OpenJDK Runtime Environment\n",
       "JVM: OpenJDK 64-Bit Server VM\n",
       "Default Encoding: UTF-8\n",
       "Language: en\n",
       "Country: null\n",
       "--></g></svg>"
      ]
     },
     "execution_count": 22,
     "metadata": {},
     "output_type": "execute_result"
    }
   ],
   "source": [
    "%viz --style=\"LR\" --view=\"MIXED\" \"TradeStudyTest\""
   ]
  },
  {
   "cell_type": "code",
   "execution_count": 23,
   "id": "ad4d6a09",
   "metadata": {
    "execution": {
     "iopub.execute_input": "2022-08-19T08:21:16.671095Z",
     "iopub.status.busy": "2022-08-19T08:21:16.670747Z",
     "iopub.status.idle": "2022-08-19T08:21:16.719849Z",
     "shell.execute_reply": "2022-08-19T08:21:16.719488Z"
    }
   },
   "outputs": [
    {
     "data": {
      "image/svg+xml": [
       "<?xml version=\"1.0\" encoding=\"UTF-8\" standalone=\"no\"?><svg xmlns=\"http://www.w3.org/2000/svg\" xmlns:xlink=\"http://www.w3.org/1999/xlink\" contentScriptType=\"application/ecmascript\" contentStyleType=\"text/css\" height=\"545px\" preserveAspectRatio=\"none\" style=\"width:566px;height:545px;\" version=\"1.1\" viewBox=\"0 0 566 545\" width=\"566px\" zoomAndPan=\"magnify\"><defs><filter height=\"300%\" id=\"f13ub3wyx5s0zd\" width=\"300%\" x=\"-1\" y=\"-1\"><feGaussianBlur result=\"blurOut\" stdDeviation=\"2.0\"/><feColorMatrix in=\"blurOut\" result=\"blurOut2\" type=\"matrix\" values=\"0 0 0 0 0 0 0 0 0 0 0 0 0 0 0 0 0 0 .4 0\"/><feOffset dx=\"4.0\" dy=\"4.0\" in=\"blurOut2\" result=\"blurOut3\"/><feBlend in=\"SourceGraphic\" in2=\"blurOut3\" mode=\"normal\"/></filter></defs><g><!--MD5=[fbc87193dbaf4d95561dea2c320d4a47]\n",
       "cluster E1--><a href=\"psysml:06d75114-8d09-4304-b9ac-1031eaaad748\" target=\"_top\" title=\"psysml:06d75114-8d09-4304-b9ac-1031eaaad748\" xlink:actuate=\"onRequest\" xlink:href=\"psysml:06d75114-8d09-4304-b9ac-1031eaaad748\" xlink:show=\"new\" xlink:title=\"psysml:06d75114-8d09-4304-b9ac-1031eaaad748\" xlink:type=\"simple\"><polygon fill=\"#FFFFFF\" filter=\"url(#f13ub3wyx5s0zd)\" points=\"16,6,132,6,139,28.2969,544,28.2969,544,533,16,533,16,6\" style=\"stroke: #000000; stroke-width: 1.5;\"/><line style=\"stroke: #000000; stroke-width: 1.5;\" x1=\"16\" x2=\"139\" y1=\"28.2969\" y2=\"28.2969\"/><text fill=\"#000000\" font-family=\"sans-serif\" font-size=\"14\" font-weight=\"bold\" lengthAdjust=\"spacingAndGlyphs\" textLength=\"110\" x=\"20\" y=\"20.9951\">TradeStudyTest</text></a><!--MD5=[de5ec2e2e8f62f467e546659f5068c88]\n",
       "cluster E5--><a href=\"psysml:a2c4dab4-2ddb-42af-80d6-b11f423fabe1\" target=\"_top\" title=\"psysml:a2c4dab4-2ddb-42af-80d6-b11f423fabe1\" xlink:actuate=\"onRequest\" xlink:href=\"psysml:a2c4dab4-2ddb-42af-80d6-b11f423fabe1\" xlink:show=\"new\" xlink:title=\"psysml:a2c4dab4-2ddb-42af-80d6-b11f423fabe1\" xlink:type=\"simple\"><rect fill=\"#FFFFFF\" filter=\"url(#f13ub3wyx5s0zd)\" height=\"129\" id=\"E5\" rx=\"10\" ry=\"10\" style=\"stroke: #A80036; stroke-width: 1.5;\" width=\"199\" x=\"238\" y=\"57\"/><rect fill=\"#FEFECE\" height=\"37.9375\" rx=\"10\" ry=\"10\" style=\"stroke: #FEFECE; stroke-width: 1.5;\" width=\"199\" x=\"238\" y=\"57\"/><rect fill=\"#FEFECE\" height=\"10\" style=\"stroke: #FEFECE; stroke-width: 1.5;\" width=\"199\" x=\"238\" y=\"84.9375\"/><rect fill=\"none\" height=\"129\" id=\"E5\" rx=\"10\" ry=\"10\" style=\"stroke: #A80036; stroke-width: 1.5;\" width=\"199\" x=\"238\" y=\"57\"/><text fill=\"#000000\" font-family=\"sans-serif\" font-size=\"12\" font-style=\"italic\" lengthAdjust=\"spacingAndGlyphs\" textLength=\"64\" x=\"305.5\" y=\"73.1387\">«analysis»</text><text fill=\"#000000\" font-family=\"sans-serif\" font-size=\"12\" lengthAdjust=\"spacingAndGlyphs\" textLength=\"114\" x=\"280.5\" y=\"87.1074\">engineTradeStudy</text><line style=\"stroke: #A80036; stroke-width: 1.0;\" x1=\"238\" x2=\"437\" y1=\"94.9375\" y2=\"94.9375\"/></a><!--MD5=[b4997ac47864f28c2f74865a473b2911]\n",
       "class E2--><a href=\"psysml:377b66bc-6410-4386-a0f5-58eac70f1599\" target=\"_top\" title=\"psysml:377b66bc-6410-4386-a0f5-58eac70f1599\" xlink:actuate=\"onRequest\" xlink:href=\"psysml:377b66bc-6410-4386-a0f5-58eac70f1599\" xlink:show=\"new\" xlink:title=\"psysml:377b66bc-6410-4386-a0f5-58eac70f1599\" xlink:type=\"simple\"><rect fill=\"#FEFECE\" filter=\"url(#f13ub3wyx5s0zd)\" height=\"45.9375\" id=\"E2\" style=\"stroke: #A80036; stroke-width: 1.5;\" width=\"70\" x=\"292\" y=\"471\"/><text fill=\"#000000\" font-family=\"sans-serif\" font-size=\"12\" font-style=\"italic\" lengthAdjust=\"spacingAndGlyphs\" textLength=\"68\" x=\"293\" y=\"487.1387\">«part  def»</text><text fill=\"#000000\" font-family=\"sans-serif\" font-size=\"12\" lengthAdjust=\"spacingAndGlyphs\" textLength=\"43\" x=\"305.5\" y=\"501.1074\">Engine</text><line style=\"stroke: #A80036; stroke-width: 1.5;\" x1=\"293\" x2=\"361\" y1=\"508.9375\" y2=\"508.9375\"/></a><!--MD5=[09b614a08d8cba4a07c9adeb5e0fee81]\n",
       "class E3--><a href=\"psysml:b73c7ebb-9472-45c7-822b-647f60ba4ebd\" target=\"_top\" title=\"psysml:b73c7ebb-9472-45c7-822b-647f60ba4ebd\" xlink:actuate=\"onRequest\" xlink:href=\"psysml:b73c7ebb-9472-45c7-822b-647f60ba4ebd\" xlink:show=\"new\" xlink:title=\"psysml:b73c7ebb-9472-45c7-822b-647f60ba4ebd\" xlink:type=\"simple\"><rect fill=\"#FEFECE\" filter=\"url(#f13ub3wyx5s0zd)\" height=\"45.9375\" id=\"E3\" rx=\"10\" ry=\"10\" style=\"stroke: #A80036; stroke-width: 1.5;\" width=\"112\" x=\"179\" y=\"364\"/><text fill=\"#000000\" font-family=\"sans-serif\" font-size=\"12\" font-style=\"italic\" lengthAdjust=\"spacingAndGlyphs\" textLength=\"40\" x=\"215\" y=\"380.1387\">«part»</text><text fill=\"#000000\" font-family=\"sans-serif\" font-size=\"12\" lengthAdjust=\"spacingAndGlyphs\" textLength=\"102\" x=\"182\" y=\"394.1074\">engine1: Engine</text><line style=\"stroke: #A80036; stroke-width: 1.5;\" x1=\"180\" x2=\"290\" y1=\"401.9375\" y2=\"401.9375\"/></a><!--MD5=[ebbe1d658d1005bcc118a6aa81145e00]\n",
       "class E4--><a href=\"psysml:383bc22a-19f8-4697-ba31-98dbfb8a50a3\" target=\"_top\" title=\"psysml:383bc22a-19f8-4697-ba31-98dbfb8a50a3\" xlink:actuate=\"onRequest\" xlink:href=\"psysml:383bc22a-19f8-4697-ba31-98dbfb8a50a3\" xlink:show=\"new\" xlink:title=\"psysml:383bc22a-19f8-4697-ba31-98dbfb8a50a3\" xlink:type=\"simple\"><rect fill=\"#FEFECE\" filter=\"url(#f13ub3wyx5s0zd)\" height=\"45.9375\" id=\"E4\" rx=\"10\" ry=\"10\" style=\"stroke: #A80036; stroke-width: 1.5;\" width=\"112\" x=\"32\" y=\"364\"/><text fill=\"#000000\" font-family=\"sans-serif\" font-size=\"12\" font-style=\"italic\" lengthAdjust=\"spacingAndGlyphs\" textLength=\"40\" x=\"68\" y=\"380.1387\">«part»</text><text fill=\"#000000\" font-family=\"sans-serif\" font-size=\"12\" lengthAdjust=\"spacingAndGlyphs\" textLength=\"102\" x=\"35\" y=\"394.1074\">engine2: Engine</text><line style=\"stroke: #A80036; stroke-width: 1.5;\" x1=\"33\" x2=\"143\" y1=\"401.9375\" y2=\"401.9375\"/></a><!--MD5=[2156ba9850f5573cc1fc38a6a4b2f02b]\n",
       "class E7--><a href=\"psysml:e59262b2-24eb-419d-a794-3b71c7229dcc\" target=\"_top\" title=\"psysml:e59262b2-24eb-419d-a794-3b71c7229dcc\" xlink:actuate=\"onRequest\" xlink:href=\"psysml:e59262b2-24eb-419d-a794-3b71c7229dcc\" xlink:show=\"new\" xlink:title=\"psysml:e59262b2-24eb-419d-a794-3b71c7229dcc\" xlink:type=\"simple\"><rect fill=\"#FEFECE\" filter=\"url(#f13ub3wyx5s0zd)\" height=\"45.9375\" id=\"E7\" rx=\"10\" ry=\"10\" style=\"stroke: #A80036; stroke-width: 1.5;\" width=\"129\" x=\"181.5\" y=\"241\"/><text fill=\"#000000\" font-family=\"sans-serif\" font-size=\"12\" font-style=\"italic\" lengthAdjust=\"spacingAndGlyphs\" textLength=\"82\" x=\"205\" y=\"257.1387\">«calculation»</text><text fill=\"#000000\" font-family=\"sans-serif\" font-size=\"12\" lengthAdjust=\"spacingAndGlyphs\" textLength=\"119\" x=\"184.5\" y=\"271.1074\">evaluationFunction</text><line style=\"stroke: #A80036; stroke-width: 1.5;\" x1=\"182.5\" x2=\"309.5\" y1=\"278.9375\" y2=\"278.9375\"/></a><!--MD5=[b9389687b975829384b498ac4b7476b2]\n",
       "class E8--><a href=\"psysml:83f46fb2-5a48-4342-a61e-b1e9a3952716\" target=\"_top\" title=\"psysml:83f46fb2-5a48-4342-a61e-b1e9a3952716\" xlink:actuate=\"onRequest\" xlink:href=\"psysml:83f46fb2-5a48-4342-a61e-b1e9a3952716\" xlink:show=\"new\" xlink:title=\"psysml:83f46fb2-5a48-4342-a61e-b1e9a3952716\" xlink:type=\"simple\"><rect fill=\"#FEFECE\" filter=\"url(#f13ub3wyx5s0zd)\" height=\"45.9375\" id=\"E8\" rx=\"10\" ry=\"10\" style=\"stroke: #A80036; stroke-width: 1.5;\" width=\"128\" x=\"363\" y=\"364\"/><text fill=\"#000000\" font-family=\"sans-serif\" font-size=\"12\" font-style=\"italic\" lengthAdjust=\"spacingAndGlyphs\" textLength=\"40\" x=\"407\" y=\"380.1387\">«part»</text><text fill=\"#000000\" font-family=\"sans-serif\" font-size=\"12\" lengthAdjust=\"spacingAndGlyphs\" textLength=\"118\" x=\"366\" y=\"394.1074\">alternative: Engine</text><line style=\"stroke: #A80036; stroke-width: 1.5;\" x1=\"364\" x2=\"490\" y1=\"401.9375\" y2=\"401.9375\"/></a><!--MD5=[fd4143e9d270a159db93a4ea2a975926]\n",
       "class E9--><a href=\"psysml:43a96bb2-d059-439d-9037-f3d1363e69c1\" target=\"_top\" title=\"psysml:43a96bb2-d059-439d-9037-f3d1363e69c1\" xlink:actuate=\"onRequest\" xlink:href=\"psysml:43a96bb2-d059-439d-9037-f3d1363e69c1\" xlink:show=\"new\" xlink:title=\"psysml:43a96bb2-d059-439d-9037-f3d1363e69c1\" xlink:type=\"simple\"><rect fill=\"#FEFECE\" filter=\"url(#f13ub3wyx5s0zd)\" height=\"45.9375\" id=\"E9\" rx=\"10\" ry=\"10\" style=\"stroke: #A80036; stroke-width: 1.5;\" width=\"182\" x=\"346\" y=\"241\"/><text fill=\"#000000\" font-family=\"sans-serif\" font-size=\"12\" font-style=\"italic\" lengthAdjust=\"spacingAndGlyphs\" textLength=\"40\" x=\"417\" y=\"257.1387\">«part»</text><text fill=\"#000000\" font-family=\"sans-serif\" font-size=\"12\" lengthAdjust=\"spacingAndGlyphs\" textLength=\"172\" x=\"349\" y=\"271.1074\">selectedAlternative: Engine</text><line style=\"stroke: #A80036; stroke-width: 1.5;\" x1=\"347\" x2=\"527\" y1=\"278.9375\" y2=\"278.9375\"/></a><!--MD5=[60a26617385b1d2d0262a64233df1f8d]\n",
       "class E6--><a href=\"psysml:6f716227-75fa-479d-851c-c6728be0ecaf\" target=\"_top\" title=\"psysml:6f716227-75fa-479d-851c-c6728be0ecaf\" xlink:actuate=\"onRequest\" xlink:href=\"psysml:6f716227-75fa-479d-851c-c6728be0ecaf\" xlink:show=\"new\" xlink:title=\"psysml:6f716227-75fa-479d-851c-c6728be0ecaf\" xlink:type=\"simple\"><rect fill=\"#FEFECE\" filter=\"url(#f13ub3wyx5s0zd)\" height=\"45.9375\" id=\"E6\" rx=\"10\" ry=\"10\" style=\"stroke: #A80036; stroke-width: 1.5;\" width=\"132\" x=\"281\" y=\"116\"/><text fill=\"#000000\" font-family=\"sans-serif\" font-size=\"12\" font-style=\"italic\" lengthAdjust=\"spacingAndGlyphs\" textLength=\"70\" x=\"312\" y=\"132.1387\">«objective»</text><text fill=\"#000000\" font-family=\"sans-serif\" font-size=\"12\" lengthAdjust=\"spacingAndGlyphs\" textLength=\"126\" x=\"284\" y=\"146.1074\">tradeStudyObjective</text><line style=\"stroke: #A80036; stroke-width: 1.5;\" x1=\"282\" x2=\"412\" y1=\"153.9375\" y2=\"153.9375\"/></a><!--MD5=[05d275557350bfb9b23a4ef7222b4c39]\n",
       "link E3 to E2--><a href=\"psysml:a3c7b902-deb2-42e0-bb2d-9591134be70d\" target=\"_top\" title=\"psysml:a3c7b902-deb2-42e0-bb2d-9591134be70d\" xlink:actuate=\"onRequest\" xlink:href=\"psysml:a3c7b902-deb2-42e0-bb2d-9591134be70d\" xlink:show=\"new\" xlink:title=\"psysml:a3c7b902-deb2-42e0-bb2d-9591134be70d\" xlink:type=\"simple\"><path d=\"M254.29,410.01 C265.74,423.08 280.57,440.01 293.86,455.17 \" fill=\"none\" id=\"E3-&gt;E2\" style=\"stroke: #A80036; stroke-width: 1.0;\"/><polygon fill=\"#FFFFFF\" points=\"307.42,470.66,289.6319,460.9861,300.1599,451.7578,307.42,470.66\" style=\"stroke: #A80036; stroke-width: 1.0;\"/><ellipse cx=\"287.3787\" cy=\"455.3814\" fill=\"#A80036\" rx=\"2\" ry=\"2\" style=\"stroke: #A80036; stroke-width: 1.0;\"/><ellipse cx=\"294.8987\" cy=\"448.7898\" fill=\"#A80036\" rx=\"2\" ry=\"2\" style=\"stroke: #A80036; stroke-width: 1.0;\"/></a><!--MD5=[185131fc0dcab0a4505a2ebe144e961b]\n",
       "link E4 to E2--><a href=\"psysml:ad9261f0-dda0-42b5-9d6e-43ebe8822407\" target=\"_top\" title=\"psysml:ad9261f0-dda0-42b5-9d6e-43ebe8822407\" xlink:actuate=\"onRequest\" xlink:href=\"psysml:ad9261f0-dda0-42b5-9d6e-43ebe8822407\" xlink:show=\"new\" xlink:title=\"psysml:ad9261f0-dda0-42b5-9d6e-43ebe8822407\" xlink:type=\"simple\"><path d=\"M138.1,410.01 C177.63,427.38 232.65,451.55 273.12,469.33 \" fill=\"none\" id=\"E4-&gt;E2\" style=\"stroke: #A80036; stroke-width: 1.0;\"/><polygon fill=\"#FFFFFF\" points=\"291.69,477.49,271.479,476.2594,277.1083,463.4411,291.69,477.49\" style=\"stroke: #A80036; stroke-width: 1.0;\"/><ellipse cx=\"267.0642\" cy=\"472.1363\" fill=\"#A80036\" rx=\"2\" ry=\"2\" style=\"stroke: #A80036; stroke-width: 1.0;\"/><ellipse cx=\"271.0852\" cy=\"462.9803\" fill=\"#A80036\" rx=\"2\" ry=\"2\" style=\"stroke: #A80036; stroke-width: 1.0;\"/></a><!--MD5=[15ebcb19ae302d9b601edb458606d402]\n",
       "link E5 to E2--><a href=\"psysml:b52cccfc-b130-477f-adae-4c6f859e452b\" target=\"_top\" title=\"psysml:b52cccfc-b130-477f-adae-4c6f859e452b\" xlink:actuate=\"onRequest\" xlink:href=\"psysml:b52cccfc-b130-477f-adae-4c6f859e452b\" xlink:show=\"new\" xlink:title=\"psysml:b52cccfc-b130-477f-adae-4c6f859e452b\" xlink:type=\"simple\"><path d=\"M237.7204,146.0763 C237.4768,146.2621 237.2287,146.4518 236.9763,146.6454 C235.9668,147.4197 234.8879,148.2561 233.748,149.1518 C231.4682,150.943 228.9441,152.9709 226.2406,155.2119 C215.4269,164.1756 201.745,176.5475 189.3625,190.8125 C164.5975,219.3425 145.03,255.445 164,287 C166.35,290.91 306.39,360.26 309,364 C329.99,394 331.63,437.66 330,465.69 \" fill=\"none\" id=\"E5-&gt;E2\" style=\"stroke: #A80036; stroke-width: 1.0; stroke-dasharray: 7.0,7.0;\"/><polygon fill=\"#A80036\" points=\"329.66,470.74,334.268,462.0356,330.003,465.7518,326.2869,461.4868,329.66,470.74\" style=\"stroke: #A80036; stroke-width: 1.0;\"/><text fill=\"#000000\" font-family=\"sans-serif\" font-size=\"13\" lengthAdjust=\"spacingAndGlyphs\" textLength=\"62\" x=\"253\" y=\"330.0669\">«subject»</text></a><!--MD5=[452b418e7f8a40397a49b8c0a78acc5b]\n",
       "reverse link E5 to E7--><a href=\"psysml:226717b4-0db0-47e0-9eef-bae3c4ff0509\" target=\"_top\" title=\"psysml:226717b4-0db0-47e0-9eef-bae3c4ff0509\" xlink:actuate=\"onRequest\" xlink:href=\"psysml:226717b4-0db0-47e0-9eef-bae3c4ff0509\" xlink:show=\"new\" xlink:title=\"psysml:226717b4-0db0-47e0-9eef-bae3c4ff0509\" xlink:type=\"simple\"><path d=\"M246,186.2997 C246,188.9655 246,191.6719 246,194.3971 C246,199.8476 246,205.3735 246,210.8005 C246,221.6544 246,232.1125 246,240.78 \" fill=\"none\" id=\"E5&lt;-E7\" style=\"stroke: #A80036; stroke-width: 1.0;\"/><polygon fill=\"#FFFFFF\" points=\"246,186.2997,242,192.2997,246,198.2997,250,192.2997,246,186.2997\" style=\"stroke: #A80036; stroke-width: 1.0;\"/></a><!--MD5=[dc164f5e8a733ab456ef1add180e9e34]\n",
       "reverse link E7 to E8--><a href=\"psysml:6f1f84a3-2ac1-458a-baf6-caa888cc195f\" target=\"_top\" title=\"psysml:6f1f84a3-2ac1-458a-baf6-caa888cc195f\" xlink:actuate=\"onRequest\" xlink:href=\"psysml:6f1f84a3-2ac1-458a-baf6-caa888cc195f\" xlink:show=\"new\" xlink:title=\"psysml:6f1f84a3-2ac1-458a-baf6-caa888cc195f\" xlink:type=\"simple\"><path d=\"M290.06,294.45 C322.12,315.89 364.86,344.46 394.01,363.95 \" fill=\"none\" id=\"E7&lt;-E8\" style=\"stroke: #A80036; stroke-width: 1.0;\"/><polygon fill=\"#FFFFFF\" points=\"279.2,287.19,281.9674,293.8489,289.1785,293.8555,286.4111,287.1966,279.2,287.19\" style=\"stroke: #A80036; stroke-width: 1.0;\"/><text fill=\"#000000\" font-family=\"sans-serif\" font-size=\"13\" lengthAdjust=\"spacingAndGlyphs\" textLength=\"8\" x=\"376.0689\" y=\"352.8328\">1</text></a><!--MD5=[f1f3f9f2fc535e6147756cb86a7f2e32]\n",
       "link E8 to E2--><a href=\"psysml:2bf4d1c6-7bac-40b1-aaaa-83952da67c38\" target=\"_top\" title=\"psysml:2bf4d1c6-7bac-40b1-aaaa-83952da67c38\" xlink:actuate=\"onRequest\" xlink:href=\"psysml:2bf4d1c6-7bac-40b1-aaaa-83952da67c38\" xlink:show=\"new\" xlink:title=\"psysml:2bf4d1c6-7bac-40b1-aaaa-83952da67c38\" xlink:type=\"simple\"><path d=\"M406.04,410.01 C393.32,423.36 376.77,440.74 362.11,456.14 \" fill=\"none\" id=\"E8-&gt;E2\" style=\"stroke: #A80036; stroke-width: 1.0;\"/><polygon fill=\"#FFFFFF\" points=\"348.28,470.66,356.3076,452.0708,366.4491,461.7223,348.28,470.66\" style=\"stroke: #A80036; stroke-width: 1.0;\"/><ellipse cx=\"361.6859\" cy=\"449.3206\" fill=\"#A80036\" rx=\"2\" ry=\"2\" style=\"stroke: #A80036; stroke-width: 1.0;\"/><ellipse cx=\"368.9298\" cy=\"456.2144\" fill=\"#A80036\" rx=\"2\" ry=\"2\" style=\"stroke: #A80036; stroke-width: 1.0;\"/></a><!--MD5=[9ae28de373ca99bb8a1b38d63370ca7e]\n",
       "reverse link E5 to E9--><a href=\"psysml:eedf805a-a406-401d-b38e-104ba6f0fce6\" target=\"_top\" title=\"psysml:eedf805a-a406-401d-b38e-104ba6f0fce6\" xlink:actuate=\"onRequest\" xlink:href=\"psysml:eedf805a-a406-401d-b38e-104ba6f0fce6\" xlink:show=\"new\" xlink:title=\"psysml:eedf805a-a406-401d-b38e-104ba6f0fce6\" xlink:type=\"simple\"><path d=\"M254.7949,186.3026 C254.8401,186.4038 254.8856,186.5049 254.9313,186.6059 C255.2966,187.4138 255.6769,188.215 256.0726,189.0077 C256.8641,190.5933 257.7176,192.1452 258.6379,193.6498 C260.4784,196.6589 262.5863,199.4788 265,202 C278.04,215.62 316.12,229.75 353.15,240.99 \" fill=\"none\" id=\"E5&lt;-E9\" style=\"stroke: #A80036; stroke-width: 1.0;\"/><polygon fill=\"#FFFFFF\" points=\"254.7949,186.3026,253.5901,193.4123,259.6895,197.259,260.8944,190.1493,254.7949,186.3026\" style=\"stroke: #A80036; stroke-width: 1.0;\"/><text fill=\"#000000\" font-family=\"sans-serif\" font-size=\"13\" lengthAdjust=\"spacingAndGlyphs\" textLength=\"8\" x=\"330.0508\" y=\"232.8298\">1</text></a><!--MD5=[5c3bb36fe832a92c7f0e1807dd65209d]\n",
       "link E9 to E2--><a href=\"psysml:3213573e-39ef-4dfb-813d-bdfb08b6e367\" target=\"_top\" title=\"psysml:3213573e-39ef-4dfb-813d-bdfb08b6e367\" xlink:actuate=\"onRequest\" xlink:href=\"psysml:3213573e-39ef-4dfb-813d-bdfb08b6e367\" xlink:show=\"new\" xlink:title=\"psysml:3213573e-39ef-4dfb-813d-bdfb08b6e367\" xlink:type=\"simple\"><path d=\"M462.31,287.19 C492.44,316.36 535.53,368.75 509,410 C481.16,453.3 424.53,474.29 381.79,484.28 \" fill=\"none\" id=\"E9-&gt;E2\" style=\"stroke: #A80036; stroke-width: 1.0;\"/><polygon fill=\"#FFFFFF\" points=\"362.12,488.35,379.3051,477.6415,382.1449,491.3505,362.12,488.35\" style=\"stroke: #A80036; stroke-width: 1.0;\"/><ellipse cx=\"385.2923\" cy=\"478.4438\" fill=\"#A80036\" rx=\"2\" ry=\"2\" style=\"stroke: #A80036; stroke-width: 1.0;\"/><ellipse cx=\"387.3207\" cy=\"488.2359\" fill=\"#A80036\" rx=\"2\" ry=\"2\" style=\"stroke: #A80036; stroke-width: 1.0;\"/></a><!--MD5=[495bd6e4c959a081b758404d8f40c287]\n",
       "@startuml\r\n",
       "skinparam wrapWidth 300\r\n",
       "hide circle\r\n",
       "\r\n",
       "package \"TradeStudyTest\" as E1  [[psysml:06d75114-8d09-4304-b9ac-1031eaaad748 ]]  {\r\n",
       "comp def \"Engine\" as E2  <<(T,blue) part  def>> [[psysml:377b66bc-6410-4386-a0f5-58eac70f1599 ]] {\r\n",
       "}\r\n",
       "comp usage \"engine1: Engine \" as E3  <<(T,blue) part>> [[psysml:b73c7ebb-9472-45c7-822b-647f60ba4ebd ]] {\r\n",
       "}\r\n",
       "comp usage \"engine2: Engine \" as E4  <<(T,blue) part>> [[psysml:383bc22a-19f8-4697-ba31-98dbfb8a50a3 ]] {\r\n",
       "}\r\n",
       "rec usage \"engineTradeStudy\" as E5 << analysis>> [[psysml:a2c4dab4-2ddb-42af-80d6-b11f423fabe1 ]] {\r\n",
       "comp usage \"tradeStudyObjective\" as E6  <<objective>> [[psysml:6f716227-75fa-479d-851c-c6728be0ecaf ]] {\r\n",
       "}\r\n",
       "}\r\n",
       "comp usage \"evaluationFunction \" as E7  <<(T,blue) calculation>> [[psysml:e59262b2-24eb-419d-a794-3b71c7229dcc ]] {\r\n",
       "}\r\n",
       "comp usage \"alternative: Engine \" as E8  <<(T,blue) part>> [[psysml:83f46fb2-5a48-4342-a61e-b1e9a3952716 ]] {\r\n",
       "}\r\n",
       "comp usage \"selectedAlternative: Engine \" as E9  <<(T,blue) part>> [[psysml:43a96bb2-d059-439d-9037-f3d1363e69c1 ]] {\r\n",
       "}\r\n",
       "}\r\n",
       "E3 - -:|> E2 [[psysml:a3c7b902-deb2-42e0-bb2d-9591134be70d ]] \r\n",
       "E4 - -:|> E2 [[psysml:ad9261f0-dda0-42b5-9d6e-43ebe8822407 ]] \r\n",
       "E5 ..> E2 [[psysml:b52cccfc-b130-477f-adae-4c6f859e452b ]] : <<subject>>\r\n",
       "E5 o- - E7 [[psysml:226717b4-0db0-47e0-9eef-bae3c4ff0509 ]] \r\n",
       "E7 o- - \"1\"E8 [[psysml:6f1f84a3-2ac1-458a-baf6-caa888cc195f ]] \r\n",
       "E8 - -:|> E2 [[psysml:2bf4d1c6-7bac-40b1-aaaa-83952da67c38 ]] \r\n",
       "E5 o- - \"1\"E9 [[psysml:eedf805a-a406-401d-b38e-104ba6f0fce6 ]] \r\n",
       "E9 - -:|> E2 [[psysml:3213573e-39ef-4dfb-813d-bdfb08b6e367 ]] \r\n",
       "@enduml\r\n",
       "\n",
       "PlantUML version 1.2020.13(Sat Jun 13 12:26:38 UTC 2020)\n",
       "(EPL source distribution)\n",
       "Java Runtime: OpenJDK Runtime Environment\n",
       "JVM: OpenJDK 64-Bit Server VM\n",
       "Default Encoding: UTF-8\n",
       "Language: en\n",
       "Country: null\n",
       "--></g></svg>"
      ]
     },
     "execution_count": 23,
     "metadata": {},
     "output_type": "execute_result"
    }
   ],
   "source": [
    "%viz --style=\"STDCOLOR\" --view=\"Default\" \"TradeStudyTest\""
   ]
  },
  {
   "cell_type": "code",
   "execution_count": 24,
   "id": "a47b881a",
   "metadata": {
    "execution": {
     "iopub.execute_input": "2022-08-19T08:21:16.769530Z",
     "iopub.status.busy": "2022-08-19T08:21:16.769062Z",
     "iopub.status.idle": "2022-08-19T08:21:16.816920Z",
     "shell.execute_reply": "2022-08-19T08:21:16.816341Z"
    }
   },
   "outputs": [
    {
     "data": {
      "image/svg+xml": [
       "<?xml version=\"1.0\" encoding=\"UTF-8\" standalone=\"no\"?><svg xmlns=\"http://www.w3.org/2000/svg\" xmlns:xlink=\"http://www.w3.org/1999/xlink\" contentScriptType=\"application/ecmascript\" contentStyleType=\"text/css\" height=\"497px\" preserveAspectRatio=\"none\" style=\"width:569px;height:497px;\" version=\"1.1\" viewBox=\"0 0 569 497\" width=\"569px\" zoomAndPan=\"magnify\"><defs><filter height=\"300%\" id=\"fq1ih46phf4kr\" width=\"300%\" x=\"-1\" y=\"-1\"><feGaussianBlur result=\"blurOut\" stdDeviation=\"2.0\"/><feColorMatrix in=\"blurOut\" result=\"blurOut2\" type=\"matrix\" values=\"0 0 0 0 0 0 0 0 0 0 0 0 0 0 0 0 0 0 .4 0\"/><feOffset dx=\"4.0\" dy=\"4.0\" in=\"blurOut2\" result=\"blurOut3\"/><feBlend in=\"SourceGraphic\" in2=\"blurOut3\" mode=\"normal\"/></filter></defs><g><!--MD5=[fbc87193dbaf4d95561dea2c320d4a47]\n",
       "cluster E1--><a href=\"psysml:06d75114-8d09-4304-b9ac-1031eaaad748\" target=\"_top\" title=\"psysml:06d75114-8d09-4304-b9ac-1031eaaad748\" xlink:actuate=\"onRequest\" xlink:href=\"psysml:06d75114-8d09-4304-b9ac-1031eaaad748\" xlink:show=\"new\" xlink:title=\"psysml:06d75114-8d09-4304-b9ac-1031eaaad748\" xlink:type=\"simple\"><polygon fill=\"#FFFFFF\" filter=\"url(#fq1ih46phf4kr)\" points=\"19.75,6,135.75,6,142.75,28.2969,547.75,28.2969,547.75,485,19.75,485,19.75,6\" style=\"stroke: #000000; stroke-width: 1.5;\"/><line style=\"stroke: #000000; stroke-width: 1.5;\" x1=\"19.75\" x2=\"142.75\" y1=\"28.2969\" y2=\"28.2969\"/><text fill=\"#000000\" font-family=\"sans-serif\" font-size=\"14\" font-weight=\"bold\" lengthAdjust=\"spacingAndGlyphs\" textLength=\"110\" x=\"23.75\" y=\"20.9951\">TradeStudyTest</text></a><!--MD5=[b4997ac47864f28c2f74865a473b2911]\n",
       "class E2--><a href=\"psysml:377b66bc-6410-4386-a0f5-58eac70f1599\" target=\"_top\" title=\"psysml:377b66bc-6410-4386-a0f5-58eac70f1599\" xlink:actuate=\"onRequest\" xlink:href=\"psysml:377b66bc-6410-4386-a0f5-58eac70f1599\" xlink:show=\"new\" xlink:title=\"psysml:377b66bc-6410-4386-a0f5-58eac70f1599\" xlink:type=\"simple\"><rect fill=\"#FEFECE\" filter=\"url(#fq1ih46phf4kr)\" height=\"45.9375\" id=\"E2\" style=\"stroke: #A80036; stroke-width: 1.5;\" width=\"70\" x=\"201.75\" y=\"423\"/><text fill=\"#000000\" font-family=\"sans-serif\" font-size=\"12\" font-style=\"italic\" lengthAdjust=\"spacingAndGlyphs\" textLength=\"68\" x=\"202.75\" y=\"439.1387\">«part  def»</text><text fill=\"#000000\" font-family=\"sans-serif\" font-size=\"12\" lengthAdjust=\"spacingAndGlyphs\" textLength=\"43\" x=\"215.25\" y=\"453.1074\">Engine</text><line style=\"stroke: #A80036; stroke-width: 1.5;\" x1=\"202.75\" x2=\"270.75\" y1=\"460.9375\" y2=\"460.9375\"/></a><!--MD5=[09b614a08d8cba4a07c9adeb5e0fee81]\n",
       "class E3--><a href=\"psysml:b73c7ebb-9472-45c7-822b-647f60ba4ebd\" target=\"_top\" title=\"psysml:b73c7ebb-9472-45c7-822b-647f60ba4ebd\" xlink:actuate=\"onRequest\" xlink:href=\"psysml:b73c7ebb-9472-45c7-822b-647f60ba4ebd\" xlink:show=\"new\" xlink:title=\"psysml:b73c7ebb-9472-45c7-822b-647f60ba4ebd\" xlink:type=\"simple\"><rect fill=\"#FEFECE\" filter=\"url(#fq1ih46phf4kr)\" height=\"45.9375\" id=\"E3\" rx=\"10\" ry=\"10\" style=\"stroke: #A80036; stroke-width: 1.5;\" width=\"112\" x=\"419.75\" y=\"316\"/><text fill=\"#000000\" font-family=\"sans-serif\" font-size=\"12\" font-style=\"italic\" lengthAdjust=\"spacingAndGlyphs\" textLength=\"40\" x=\"455.75\" y=\"332.1387\">«part»</text><text fill=\"#000000\" font-family=\"sans-serif\" font-size=\"12\" lengthAdjust=\"spacingAndGlyphs\" textLength=\"102\" x=\"422.75\" y=\"346.1074\">engine1: Engine</text><line style=\"stroke: #A80036; stroke-width: 1.5;\" x1=\"420.75\" x2=\"530.75\" y1=\"353.9375\" y2=\"353.9375\"/></a><!--MD5=[ebbe1d658d1005bcc118a6aa81145e00]\n",
       "class E4--><a href=\"psysml:383bc22a-19f8-4697-ba31-98dbfb8a50a3\" target=\"_top\" title=\"psysml:383bc22a-19f8-4697-ba31-98dbfb8a50a3\" xlink:actuate=\"onRequest\" xlink:href=\"psysml:383bc22a-19f8-4697-ba31-98dbfb8a50a3\" xlink:show=\"new\" xlink:title=\"psysml:383bc22a-19f8-4697-ba31-98dbfb8a50a3\" xlink:type=\"simple\"><rect fill=\"#FEFECE\" filter=\"url(#fq1ih46phf4kr)\" height=\"45.9375\" id=\"E4\" rx=\"10\" ry=\"10\" style=\"stroke: #A80036; stroke-width: 1.5;\" width=\"112\" x=\"272.75\" y=\"316\"/><text fill=\"#000000\" font-family=\"sans-serif\" font-size=\"12\" font-style=\"italic\" lengthAdjust=\"spacingAndGlyphs\" textLength=\"40\" x=\"308.75\" y=\"332.1387\">«part»</text><text fill=\"#000000\" font-family=\"sans-serif\" font-size=\"12\" lengthAdjust=\"spacingAndGlyphs\" textLength=\"102\" x=\"275.75\" y=\"346.1074\">engine2: Engine</text><line style=\"stroke: #A80036; stroke-width: 1.5;\" x1=\"273.75\" x2=\"383.75\" y1=\"353.9375\" y2=\"353.9375\"/></a><!--MD5=[270fce915f116d4de14055a7c1d9a0f3]\n",
       "class E5--><a href=\"psysml:a2c4dab4-2ddb-42af-80d6-b11f423fabe1\" target=\"_top\" title=\"psysml:a2c4dab4-2ddb-42af-80d6-b11f423fabe1\" xlink:actuate=\"onRequest\" xlink:href=\"psysml:a2c4dab4-2ddb-42af-80d6-b11f423fabe1\" xlink:show=\"new\" xlink:title=\"psysml:a2c4dab4-2ddb-42af-80d6-b11f423fabe1\" xlink:type=\"simple\"><rect fill=\"#FEFECE\" filter=\"url(#fq1ih46phf4kr)\" height=\"45.9375\" id=\"E5\" rx=\"10\" ry=\"10\" style=\"stroke: #A80036; stroke-width: 1.5;\" width=\"203\" x=\"242.25\" y=\"41\"/><text fill=\"#000000\" font-family=\"sans-serif\" font-size=\"12\" font-style=\"italic\" lengthAdjust=\"spacingAndGlyphs\" textLength=\"64\" x=\"311.75\" y=\"57.1387\">«analysis»</text><text fill=\"#000000\" font-family=\"sans-serif\" font-size=\"12\" lengthAdjust=\"spacingAndGlyphs\" textLength=\"193\" x=\"245.25\" y=\"71.1074\">engineTradeStudy: TradeStudy</text><line style=\"stroke: #A80036; stroke-width: 1.5;\" x1=\"243.25\" x2=\"444.25\" y1=\"78.9375\" y2=\"78.9375\"/></a><!--MD5=[60a26617385b1d2d0262a64233df1f8d]\n",
       "class E6--><a href=\"psysml:6f716227-75fa-479d-851c-c6728be0ecaf\" target=\"_top\" title=\"psysml:6f716227-75fa-479d-851c-c6728be0ecaf\" xlink:actuate=\"onRequest\" xlink:href=\"psysml:6f716227-75fa-479d-851c-c6728be0ecaf\" xlink:show=\"new\" xlink:title=\"psysml:6f716227-75fa-479d-851c-c6728be0ecaf\" xlink:type=\"simple\"><rect fill=\"#FEFECE\" filter=\"url(#fq1ih46phf4kr)\" height=\"45.9375\" id=\"E6\" rx=\"10\" ry=\"10\" style=\"stroke: #A80036; stroke-width: 1.5;\" width=\"255\" x=\"75.25\" y=\"164\"/><text fill=\"#000000\" font-family=\"sans-serif\" font-size=\"12\" font-style=\"italic\" lengthAdjust=\"spacingAndGlyphs\" textLength=\"91\" x=\"157.25\" y=\"180.1387\">«requirement»</text><text fill=\"#000000\" font-family=\"sans-serif\" font-size=\"12\" lengthAdjust=\"spacingAndGlyphs\" textLength=\"245\" x=\"78.25\" y=\"194.1074\">tradeStudyObjective: MaximizeObjective</text><line style=\"stroke: #A80036; stroke-width: 1.5;\" x1=\"76.25\" x2=\"329.25\" y1=\"201.9375\" y2=\"201.9375\"/></a><!--MD5=[2156ba9850f5573cc1fc38a6a4b2f02b]\n",
       "class E7--><a href=\"psysml:e59262b2-24eb-419d-a794-3b71c7229dcc\" target=\"_top\" title=\"psysml:e59262b2-24eb-419d-a794-3b71c7229dcc\" xlink:actuate=\"onRequest\" xlink:href=\"psysml:e59262b2-24eb-419d-a794-3b71c7229dcc\" xlink:show=\"new\" xlink:title=\"psysml:e59262b2-24eb-419d-a794-3b71c7229dcc\" xlink:type=\"simple\"><rect fill=\"#FEFECE\" filter=\"url(#fq1ih46phf4kr)\" height=\"45.9375\" id=\"E7\" rx=\"10\" ry=\"10\" style=\"stroke: #A80036; stroke-width: 1.5;\" width=\"129\" x=\"365.25\" y=\"164\"/><text fill=\"#000000\" font-family=\"sans-serif\" font-size=\"12\" font-style=\"italic\" lengthAdjust=\"spacingAndGlyphs\" textLength=\"82\" x=\"388.75\" y=\"180.1387\">«calculation»</text><text fill=\"#000000\" font-family=\"sans-serif\" font-size=\"12\" lengthAdjust=\"spacingAndGlyphs\" textLength=\"119\" x=\"368.25\" y=\"194.1074\">evaluationFunction</text><line style=\"stroke: #A80036; stroke-width: 1.5;\" x1=\"366.25\" x2=\"493.25\" y1=\"201.9375\" y2=\"201.9375\"/></a><!--MD5=[b9389687b975829384b498ac4b7476b2]\n",
       "class E8--><a href=\"psysml:83f46fb2-5a48-4342-a61e-b1e9a3952716\" target=\"_top\" title=\"psysml:83f46fb2-5a48-4342-a61e-b1e9a3952716\" xlink:actuate=\"onRequest\" xlink:href=\"psysml:83f46fb2-5a48-4342-a61e-b1e9a3952716\" xlink:show=\"new\" xlink:title=\"psysml:83f46fb2-5a48-4342-a61e-b1e9a3952716\" xlink:type=\"simple\"><rect fill=\"#FEFECE\" filter=\"url(#fq1ih46phf4kr)\" height=\"45.9375\" id=\"E8\" rx=\"10\" ry=\"10\" style=\"stroke: #A80036; stroke-width: 1.5;\" width=\"128\" x=\"72.75\" y=\"316\"/><text fill=\"#000000\" font-family=\"sans-serif\" font-size=\"12\" font-style=\"italic\" lengthAdjust=\"spacingAndGlyphs\" textLength=\"40\" x=\"116.75\" y=\"332.1387\">«part»</text><text fill=\"#000000\" font-family=\"sans-serif\" font-size=\"12\" lengthAdjust=\"spacingAndGlyphs\" textLength=\"118\" x=\"75.75\" y=\"346.1074\">alternative: Engine</text><line style=\"stroke: #A80036; stroke-width: 1.5;\" x1=\"73.75\" x2=\"199.75\" y1=\"353.9375\" y2=\"353.9375\"/></a><!--MD5=[fd4143e9d270a159db93a4ea2a975926]\n",
       "class E9--><a href=\"psysml:43a96bb2-d059-439d-9037-f3d1363e69c1\" target=\"_top\" title=\"psysml:43a96bb2-d059-439d-9037-f3d1363e69c1\" xlink:actuate=\"onRequest\" xlink:href=\"psysml:43a96bb2-d059-439d-9037-f3d1363e69c1\" xlink:show=\"new\" xlink:title=\"psysml:43a96bb2-d059-439d-9037-f3d1363e69c1\" xlink:type=\"simple\"><rect fill=\"#FEFECE\" filter=\"url(#fq1ih46phf4kr)\" height=\"45.9375\" id=\"E9\" rx=\"10\" ry=\"10\" style=\"stroke: #A80036; stroke-width: 1.5;\" width=\"182\" x=\"298.75\" y=\"240\"/><text fill=\"#000000\" font-family=\"sans-serif\" font-size=\"12\" font-style=\"italic\" lengthAdjust=\"spacingAndGlyphs\" textLength=\"40\" x=\"369.75\" y=\"256.1387\">«part»</text><text fill=\"#000000\" font-family=\"sans-serif\" font-size=\"12\" lengthAdjust=\"spacingAndGlyphs\" textLength=\"172\" x=\"301.75\" y=\"270.1074\">selectedAlternative: Engine</text><line style=\"stroke: #A80036; stroke-width: 1.5;\" x1=\"299.75\" x2=\"479.75\" y1=\"277.9375\" y2=\"277.9375\"/></a><!--MD5=[05d275557350bfb9b23a4ef7222b4c39]\n",
       "link E3 to E2--><a href=\"psysml:a3c7b902-deb2-42e0-bb2d-9591134be70d\" target=\"_top\" title=\"psysml:a3c7b902-deb2-42e0-bb2d-9591134be70d\" xlink:actuate=\"onRequest\" xlink:href=\"psysml:a3c7b902-deb2-42e0-bb2d-9591134be70d\" xlink:show=\"new\" xlink:title=\"psysml:a3c7b902-deb2-42e0-bb2d-9591134be70d\" xlink:type=\"simple\"><path d=\"M425.65,362.01 C386.12,379.38 331.1,403.55 290.63,421.33 \" fill=\"none\" id=\"E3-&gt;E2\" style=\"stroke: #A80036; stroke-width: 1.0;\"/><polygon fill=\"#FFFFFF\" points=\"272.06,429.49,286.6417,415.4411,292.271,428.2594,272.06,429.49\" style=\"stroke: #A80036; stroke-width: 1.0;\"/><ellipse cx=\"292.6648\" cy=\"414.9803\" fill=\"#A80036\" rx=\"2\" ry=\"2\" style=\"stroke: #A80036; stroke-width: 1.0;\"/><ellipse cx=\"296.6858\" cy=\"424.1363\" fill=\"#A80036\" rx=\"2\" ry=\"2\" style=\"stroke: #A80036; stroke-width: 1.0;\"/></a><!--MD5=[185131fc0dcab0a4505a2ebe144e961b]\n",
       "link E4 to E2--><a href=\"psysml:ad9261f0-dda0-42b5-9d6e-43ebe8822407\" target=\"_top\" title=\"psysml:ad9261f0-dda0-42b5-9d6e-43ebe8822407\" xlink:actuate=\"onRequest\" xlink:href=\"psysml:ad9261f0-dda0-42b5-9d6e-43ebe8822407\" xlink:show=\"new\" xlink:title=\"psysml:ad9261f0-dda0-42b5-9d6e-43ebe8822407\" xlink:type=\"simple\"><path d=\"M309.46,362.01 C298.01,375.08 283.18,392.01 269.89,407.17 \" fill=\"none\" id=\"E4-&gt;E2\" style=\"stroke: #A80036; stroke-width: 1.0;\"/><polygon fill=\"#FFFFFF\" points=\"256.33,422.66,263.5901,403.7578,274.1181,412.9861,256.33,422.66\" style=\"stroke: #A80036; stroke-width: 1.0;\"/><ellipse cx=\"268.8513\" cy=\"400.7898\" fill=\"#A80036\" rx=\"2\" ry=\"2\" style=\"stroke: #A80036; stroke-width: 1.0;\"/><ellipse cx=\"276.3713\" cy=\"407.3814\" fill=\"#A80036\" rx=\"2\" ry=\"2\" style=\"stroke: #A80036; stroke-width: 1.0;\"/></a><!--MD5=[15ebcb19ae302d9b601edb458606d402]\n",
       "link E5 to E2--><a href=\"psysml:b52cccfc-b130-477f-adae-4c6f859e452b\" target=\"_top\" title=\"psysml:b52cccfc-b130-477f-adae-4c6f859e452b\" xlink:actuate=\"onRequest\" xlink:href=\"psysml:b52cccfc-b130-477f-adae-4c6f859e452b\" xlink:show=\"new\" xlink:title=\"psysml:b52cccfc-b130-477f-adae-4c6f859e452b\" xlink:type=\"simple\"><path d=\"M242.19,71.71 C178.15,81.78 99.85,106.1 57.75,164 C6,235.18 7.15,287.97 54.75,362 C85.89,410.42 153.01,430.93 196.46,439.38 \" fill=\"none\" id=\"E5-&gt;E2\" style=\"stroke: #A80036; stroke-width: 1.0; stroke-dasharray: 7.0,7.0;\"/><polygon fill=\"#A80036\" points=\"201.63,440.35,193.5135,434.7713,196.7143,439.4355,192.0502,442.6363,201.63,440.35\" style=\"stroke: #A80036; stroke-width: 1.0;\"/><text fill=\"#000000\" font-family=\"sans-serif\" font-size=\"13\" lengthAdjust=\"spacingAndGlyphs\" textLength=\"62\" x=\"22.75\" y=\"267.5669\">«subject»</text></a><!--MD5=[9120cf2e5df3bff93db8f754bbbc09b4]\n",
       "link E5 to E6--><a href=\"psysml:be121dac-af46-4d47-896b-f9a14a0b4d3b\" target=\"_top\" title=\"psysml:be121dac-af46-4d47-896b-f9a14a0b4d3b\" xlink:actuate=\"onRequest\" xlink:href=\"psysml:be121dac-af46-4d47-896b-f9a14a0b4d3b\" xlink:show=\"new\" xlink:title=\"psysml:be121dac-af46-4d47-896b-f9a14a0b4d3b\" xlink:type=\"simple\"><path d=\"M317.89,87.19 C294.44,107.32 259.79,137.06 234.63,158.64 \" fill=\"none\" id=\"E5-&gt;E6\" style=\"stroke: #A80036; stroke-width: 1.0;\"/><polygon fill=\"#A80036\" points=\"228.45,163.95,236.4776,161.0246,232.5746,156.4675,228.45,163.95\" style=\"stroke: #A80036; stroke-width: 1.0;\"/><text fill=\"#000000\" font-family=\"sans-serif\" font-size=\"13\" lengthAdjust=\"spacingAndGlyphs\" textLength=\"73\" x=\"281.75\" y=\"130.0669\">«objective»</text></a><!--MD5=[452b418e7f8a40397a49b8c0a78acc5b]\n",
       "reverse link E5 to E7--><a href=\"psysml:226717b4-0db0-47e0-9eef-bae3c4ff0509\" target=\"_top\" title=\"psysml:226717b4-0db0-47e0-9eef-bae3c4ff0509\" xlink:actuate=\"onRequest\" xlink:href=\"psysml:226717b4-0db0-47e0-9eef-bae3c4ff0509\" xlink:show=\"new\" xlink:title=\"psysml:226717b4-0db0-47e0-9eef-bae3c4ff0509\" xlink:type=\"simple\"><path d=\"M367.12,97.88 C382.03,118.86 400.95,145.48 414.08,163.95 \" fill=\"none\" id=\"E5&lt;-E7\" style=\"stroke: #A80036; stroke-width: 1.0;\"/><polygon fill=\"#FFFFFF\" points=\"359.52,87.19,359.7442,94.3976,366.4836,96.9628,366.2594,89.7552,359.52,87.19\" style=\"stroke: #A80036; stroke-width: 1.0;\"/></a><!--MD5=[dc164f5e8a733ab456ef1add180e9e34]\n",
       "reverse link E7 to E8--><a href=\"psysml:6f1f84a3-2ac1-458a-baf6-caa888cc195f\" target=\"_top\" title=\"psysml:6f1f84a3-2ac1-458a-baf6-caa888cc195f\" xlink:actuate=\"onRequest\" xlink:href=\"psysml:6f1f84a3-2ac1-458a-baf6-caa888cc195f\" xlink:show=\"new\" xlink:title=\"psysml:6f1f84a3-2ac1-458a-baf6-caa888cc195f\" xlink:type=\"simple\"><path d=\"M352.57,210.93 C329.29,218.95 304.02,228.8 281.75,240 C238.59,261.71 193.11,294.26 164.84,315.8 \" fill=\"none\" id=\"E7&lt;-E8\" style=\"stroke: #A80036; stroke-width: 1.0;\"/><polygon fill=\"#FFFFFF\" points=\"364.89,206.79,357.9284,204.9096,353.5151,210.6124,360.4767,212.4928,364.89,206.79\" style=\"stroke: #A80036; stroke-width: 1.0;\"/><text fill=\"#000000\" font-family=\"sans-serif\" font-size=\"13\" lengthAdjust=\"spacingAndGlyphs\" textLength=\"8\" x=\"163.0131\" y=\"305.025\">1</text></a><!--MD5=[f1f3f9f2fc535e6147756cb86a7f2e32]\n",
       "link E8 to E2--><a href=\"psysml:2bf4d1c6-7bac-40b1-aaaa-83952da67c38\" target=\"_top\" title=\"psysml:2bf4d1c6-7bac-40b1-aaaa-83952da67c38\" xlink:actuate=\"onRequest\" xlink:href=\"psysml:2bf4d1c6-7bac-40b1-aaaa-83952da67c38\" xlink:show=\"new\" xlink:title=\"psysml:2bf4d1c6-7bac-40b1-aaaa-83952da67c38\" xlink:type=\"simple\"><path d=\"M157.71,362.01 C170.43,375.36 186.98,392.74 201.64,408.14 \" fill=\"none\" id=\"E8-&gt;E2\" style=\"stroke: #A80036; stroke-width: 1.0;\"/><polygon fill=\"#FFFFFF\" points=\"215.47,422.66,197.3009,413.7223,207.4424,404.0708,215.47,422.66\" style=\"stroke: #A80036; stroke-width: 1.0;\"/><ellipse cx=\"194.8202\" cy=\"408.2144\" fill=\"#A80036\" rx=\"2\" ry=\"2\" style=\"stroke: #A80036; stroke-width: 1.0;\"/><ellipse cx=\"202.0641\" cy=\"401.3206\" fill=\"#A80036\" rx=\"2\" ry=\"2\" style=\"stroke: #A80036; stroke-width: 1.0;\"/></a><!--MD5=[9ae28de373ca99bb8a1b38d63370ca7e]\n",
       "reverse link E5 to E9--><a href=\"psysml:eedf805a-a406-401d-b38e-104ba6f0fce6\" target=\"_top\" title=\"psysml:eedf805a-a406-401d-b38e-104ba6f0fce6\" xlink:actuate=\"onRequest\" xlink:href=\"psysml:eedf805a-a406-401d-b38e-104ba6f0fce6\" xlink:show=\"new\" xlink:title=\"psysml:eedf805a-a406-401d-b38e-104ba6f0fce6\" xlink:type=\"simple\"><path d=\"M425.37,92.39 C458.3,107.92 492.9,131.01 511.75,164 C521.89,181.75 523.02,192.94 511.75,210 C503.25,222.87 490.84,232.57 477.15,239.87 \" fill=\"none\" id=\"E5&lt;-E9\" style=\"stroke: #A80036; stroke-width: 1.0;\"/><polygon fill=\"#FFFFFF\" points=\"413.35,87.01,417.1893,93.1141,424.3005,91.9179,420.4612,85.8138,413.35,87.01\" style=\"stroke: #A80036; stroke-width: 1.0;\"/><text fill=\"#000000\" font-family=\"sans-serif\" font-size=\"13\" lengthAdjust=\"spacingAndGlyphs\" textLength=\"8\" x=\"488.4363\" y=\"229.8763\">1</text></a><!--MD5=[5c3bb36fe832a92c7f0e1807dd65209d]\n",
       "link E9 to E2--><a href=\"psysml:3213573e-39ef-4dfb-813d-bdfb08b6e367\" target=\"_top\" title=\"psysml:3213573e-39ef-4dfb-813d-bdfb08b6e367\" xlink:actuate=\"onRequest\" xlink:href=\"psysml:3213573e-39ef-4dfb-813d-bdfb08b6e367\" xlink:show=\"new\" xlink:title=\"psysml:3213573e-39ef-4dfb-813d-bdfb08b6e367\" xlink:type=\"simple\"><path d=\"M298.61,284.36 C282.24,291.84 266.88,302.05 255.75,316 C236.48,340.16 232.36,375.23 232.71,402.71 \" fill=\"none\" id=\"E9-&gt;E2\" style=\"stroke: #A80036; stroke-width: 1.0;\"/><polygon fill=\"#FFFFFF\" points=\"233.74,422.77,225.772,404.1552,239.7535,403.4351,233.74,422.77\" style=\"stroke: #A80036; stroke-width: 1.0;\"/><ellipse cx=\"227.4762\" cy=\"398.3599\" fill=\"#A80036\" rx=\"2\" ry=\"2\" style=\"stroke: #A80036; stroke-width: 1.0;\"/><ellipse cx=\"237.463\" cy=\"397.8455\" fill=\"#A80036\" rx=\"2\" ry=\"2\" style=\"stroke: #A80036; stroke-width: 1.0;\"/></a><!--MD5=[bbb9fca858cadf3879bf6a05dad58558]\n",
       "@startuml\r\n",
       "skinparam wrapWidth 300\r\n",
       "hide circle\r\n",
       "\r\n",
       "package \"TradeStudyTest\" as E1  [[psysml:06d75114-8d09-4304-b9ac-1031eaaad748 ]]  {\r\n",
       "comp def \"Engine\" as E2  <<(T,blue) part  def>> [[psysml:377b66bc-6410-4386-a0f5-58eac70f1599 ]] {\r\n",
       "}\r\n",
       "comp usage \"engine1: Engine \" as E3  <<(T,blue) part>> [[psysml:b73c7ebb-9472-45c7-822b-647f60ba4ebd ]] {\r\n",
       "}\r\n",
       "comp usage \"engine2: Engine \" as E4  <<(T,blue) part>> [[psysml:383bc22a-19f8-4697-ba31-98dbfb8a50a3 ]] {\r\n",
       "}\r\n",
       "comp usage \"engineTradeStudy: TradeStudy \" as E5 << analysis>> [[psysml:a2c4dab4-2ddb-42af-80d6-b11f423fabe1 ]] {\r\n",
       "}\r\n",
       "comp usage \"tradeStudyObjective: MaximizeObjective \" as E6  <<(T,blue) requirement>> [[psysml:6f716227-75fa-479d-851c-c6728be0ecaf ]] {\r\n",
       "}\r\n",
       "comp usage \"evaluationFunction \" as E7  <<(T,blue) calculation>> [[psysml:e59262b2-24eb-419d-a794-3b71c7229dcc ]] {\r\n",
       "}\r\n",
       "comp usage \"alternative: Engine \" as E8  <<(T,blue) part>> [[psysml:83f46fb2-5a48-4342-a61e-b1e9a3952716 ]] {\r\n",
       "}\r\n",
       "comp usage \"selectedAlternative: Engine \" as E9  <<(T,blue) part>> [[psysml:43a96bb2-d059-439d-9037-f3d1363e69c1 ]] {\r\n",
       "}\r\n",
       "}\r\n",
       "E3 - -:|> E2 [[psysml:a3c7b902-deb2-42e0-bb2d-9591134be70d ]] \r\n",
       "E4 - -:|> E2 [[psysml:ad9261f0-dda0-42b5-9d6e-43ebe8822407 ]] \r\n",
       "E5 ..> E2 [[psysml:b52cccfc-b130-477f-adae-4c6f859e452b ]] : <<subject>>\r\n",
       "E5 - ->> E6 [[psysml:be121dac-af46-4d47-896b-f9a14a0b4d3b ]] : <<objective>>\r\n",
       "E5 o- - E7 [[psysml:226717b4-0db0-47e0-9eef-bae3c4ff0509 ]] \r\n",
       "E7 o- - \"1\"E8 [[psysml:6f1f84a3-2ac1-458a-baf6-caa888cc195f ]] \r\n",
       "E8 - -:|> E2 [[psysml:2bf4d1c6-7bac-40b1-aaaa-83952da67c38 ]] \r\n",
       "E5 o- - \"1\"E9 [[psysml:eedf805a-a406-401d-b38e-104ba6f0fce6 ]] \r\n",
       "E9 - -:|> E2 [[psysml:3213573e-39ef-4dfb-813d-bdfb08b6e367 ]] \r\n",
       "@enduml\r\n",
       "\n",
       "PlantUML version 1.2020.13(Sat Jun 13 12:26:38 UTC 2020)\n",
       "(EPL source distribution)\n",
       "Java Runtime: OpenJDK Runtime Environment\n",
       "JVM: OpenJDK 64-Bit Server VM\n",
       "Default Encoding: UTF-8\n",
       "Language: en\n",
       "Country: null\n",
       "--></g></svg>"
      ]
     },
     "execution_count": 24,
     "metadata": {},
     "output_type": "execute_result"
    }
   ],
   "source": [
    "%viz --style=\"STDCOLOR\" --view=\"Tree\" \"TradeStudyTest\""
   ]
  },
  {
   "cell_type": "code",
   "execution_count": 25,
   "id": "94f3e954",
   "metadata": {
    "execution": {
     "iopub.execute_input": "2022-08-19T08:21:16.865380Z",
     "iopub.status.busy": "2022-08-19T08:21:16.864907Z",
     "iopub.status.idle": "2022-08-19T08:21:16.871564Z",
     "shell.execute_reply": "2022-08-19T08:21:16.871895Z"
    }
   },
   "outputs": [
    {
     "data": {
      "image/svg+xml": [
       "<?xml version=\"1.0\" encoding=\"UTF-8\" standalone=\"no\"?><svg xmlns=\"http://www.w3.org/2000/svg\" xmlns:xlink=\"http://www.w3.org/1999/xlink\" contentScriptType=\"application/ecmascript\" contentStyleType=\"text/css\" height=\"12px\" preserveAspectRatio=\"none\" style=\"width:12px;height:12px;\" version=\"1.1\" viewBox=\"0 0 12 12\" width=\"12px\" zoomAndPan=\"magnify\"><defs/><g><!--MD5=[aeeef50f102b80d730deb6443d14f702]\n",
       "@startuml\r\n",
       "skinparam wrapWidth 300\r\n",
       "hide circle\r\n",
       "\r\n",
       "@enduml\r\n",
       "\n",
       "PlantUML version 1.2020.13(Sat Jun 13 12:26:38 UTC 2020)\n",
       "(EPL source distribution)\n",
       "Java Runtime: OpenJDK Runtime Environment\n",
       "JVM: OpenJDK 64-Bit Server VM\n",
       "Default Encoding: UTF-8\n",
       "Language: en\n",
       "Country: null\n",
       "--></g></svg>"
      ]
     },
     "execution_count": 25,
     "metadata": {},
     "output_type": "execute_result"
    }
   ],
   "source": [
    "%viz --style=\"STDCOLOR\" --view=\"State\" \"TradeStudyTest\""
   ]
  },
  {
   "cell_type": "code",
   "execution_count": 26,
   "id": "5ce35a64",
   "metadata": {
    "execution": {
     "iopub.execute_input": "2022-08-19T08:21:16.921662Z",
     "iopub.status.busy": "2022-08-19T08:21:16.921212Z",
     "iopub.status.idle": "2022-08-19T08:21:16.967025Z",
     "shell.execute_reply": "2022-08-19T08:21:16.965442Z"
    }
   },
   "outputs": [
    {
     "data": {
      "image/svg+xml": [
       "<?xml version=\"1.0\" encoding=\"UTF-8\" standalone=\"no\"?><svg xmlns=\"http://www.w3.org/2000/svg\" xmlns:xlink=\"http://www.w3.org/1999/xlink\" contentScriptType=\"application/ecmascript\" contentStyleType=\"text/css\" height=\"426px\" preserveAspectRatio=\"none\" style=\"width:569px;height:426px;\" version=\"1.1\" viewBox=\"0 0 569 426\" width=\"569px\" zoomAndPan=\"magnify\"><defs><filter height=\"300%\" id=\"f17keipg1nr8pb\" width=\"300%\" x=\"-1\" y=\"-1\"><feGaussianBlur result=\"blurOut\" stdDeviation=\"2.0\"/><feColorMatrix in=\"blurOut\" result=\"blurOut2\" type=\"matrix\" values=\"0 0 0 0 0 0 0 0 0 0 0 0 0 0 0 0 0 0 .4 0\"/><feOffset dx=\"4.0\" dy=\"4.0\" in=\"blurOut2\" result=\"blurOut3\"/><feBlend in=\"SourceGraphic\" in2=\"blurOut3\" mode=\"normal\"/></filter></defs><g><!--MD5=[fbc87193dbaf4d95561dea2c320d4a47]\n",
       "cluster E1--><a href=\"psysml:06d75114-8d09-4304-b9ac-1031eaaad748\" target=\"_top\" title=\"psysml:06d75114-8d09-4304-b9ac-1031eaaad748\" xlink:actuate=\"onRequest\" xlink:href=\"psysml:06d75114-8d09-4304-b9ac-1031eaaad748\" xlink:show=\"new\" xlink:title=\"psysml:06d75114-8d09-4304-b9ac-1031eaaad748\" xlink:type=\"simple\"><polygon fill=\"#FFFFFF\" filter=\"url(#f17keipg1nr8pb)\" points=\"16,6,132,6,139,28.2969,547,28.2969,547,414,16,414,16,6\" style=\"stroke: #000000; stroke-width: 1.5;\"/><line style=\"stroke: #000000; stroke-width: 1.5;\" x1=\"16\" x2=\"139\" y1=\"28.2969\" y2=\"28.2969\"/><text fill=\"#000000\" font-family=\"sans-serif\" font-size=\"14\" font-weight=\"bold\" lengthAdjust=\"spacingAndGlyphs\" textLength=\"110\" x=\"20\" y=\"20.9951\">TradeStudyTest</text></a><!--MD5=[de5ec2e2e8f62f467e546659f5068c88]\n",
       "cluster E5--><a href=\"psysml:a2c4dab4-2ddb-42af-80d6-b11f423fabe1\" target=\"_top\" title=\"psysml:a2c4dab4-2ddb-42af-80d6-b11f423fabe1\" xlink:actuate=\"onRequest\" xlink:href=\"psysml:a2c4dab4-2ddb-42af-80d6-b11f423fabe1\" xlink:show=\"new\" xlink:title=\"psysml:a2c4dab4-2ddb-42af-80d6-b11f423fabe1\" xlink:type=\"simple\"><rect fill=\"#FFFFFF\" filter=\"url(#f17keipg1nr8pb)\" height=\"129\" id=\"E5\" rx=\"10\" ry=\"10\" style=\"stroke: #A80036; stroke-width: 1.5;\" width=\"199\" x=\"316\" y=\"57\"/><rect fill=\"#FEFECE\" height=\"37.9375\" rx=\"10\" ry=\"10\" style=\"stroke: #FEFECE; stroke-width: 1.5;\" width=\"199\" x=\"316\" y=\"57\"/><rect fill=\"#FEFECE\" height=\"10\" style=\"stroke: #FEFECE; stroke-width: 1.5;\" width=\"199\" x=\"316\" y=\"84.9375\"/><rect fill=\"none\" height=\"129\" id=\"E5\" rx=\"10\" ry=\"10\" style=\"stroke: #A80036; stroke-width: 1.5;\" width=\"199\" x=\"316\" y=\"57\"/><text fill=\"#000000\" font-family=\"sans-serif\" font-size=\"12\" font-style=\"italic\" lengthAdjust=\"spacingAndGlyphs\" textLength=\"64\" x=\"383.5\" y=\"73.1387\">«analysis»</text><text fill=\"#000000\" font-family=\"sans-serif\" font-size=\"12\" lengthAdjust=\"spacingAndGlyphs\" textLength=\"114\" x=\"358.5\" y=\"87.1074\">engineTradeStudy</text><line style=\"stroke: #A80036; stroke-width: 1.0;\" x1=\"316\" x2=\"515\" y1=\"94.9375\" y2=\"94.9375\"/></a><!--MD5=[2156ba9850f5573cc1fc38a6a4b2f02b]\n",
       "class E7--><a href=\"psysml:e59262b2-24eb-419d-a794-3b71c7229dcc\" target=\"_top\" title=\"psysml:e59262b2-24eb-419d-a794-3b71c7229dcc\" xlink:actuate=\"onRequest\" xlink:href=\"psysml:e59262b2-24eb-419d-a794-3b71c7229dcc\" xlink:show=\"new\" xlink:title=\"psysml:e59262b2-24eb-419d-a794-3b71c7229dcc\" xlink:type=\"simple\"><rect fill=\"#FEFECE\" filter=\"url(#f17keipg1nr8pb)\" height=\"45.9375\" id=\"E7\" rx=\"10\" ry=\"10\" style=\"stroke: #A80036; stroke-width: 1.5;\" width=\"129\" x=\"84.5\" y=\"219\"/><text fill=\"#000000\" font-family=\"sans-serif\" font-size=\"12\" font-style=\"italic\" lengthAdjust=\"spacingAndGlyphs\" textLength=\"82\" x=\"108\" y=\"235.1387\">«calculation»</text><text fill=\"#000000\" font-family=\"sans-serif\" font-size=\"12\" lengthAdjust=\"spacingAndGlyphs\" textLength=\"119\" x=\"87.5\" y=\"249.1074\">evaluationFunction</text><line style=\"stroke: #A80036; stroke-width: 1.5;\" x1=\"85.5\" x2=\"212.5\" y1=\"256.9375\" y2=\"256.9375\"/></a><!--MD5=[b9389687b975829384b498ac4b7476b2]\n",
       "class E8--><a href=\"psysml:83f46fb2-5a48-4342-a61e-b1e9a3952716\" target=\"_top\" title=\"psysml:83f46fb2-5a48-4342-a61e-b1e9a3952716\" xlink:actuate=\"onRequest\" xlink:href=\"psysml:83f46fb2-5a48-4342-a61e-b1e9a3952716\" xlink:show=\"new\" xlink:title=\"psysml:83f46fb2-5a48-4342-a61e-b1e9a3952716\" xlink:type=\"simple\"><rect fill=\"#FEFECE\" filter=\"url(#f17keipg1nr8pb)\" height=\"31.9688\" id=\"E8\" rx=\"10\" ry=\"10\" style=\"stroke: #A80036; stroke-width: 1.5;\" width=\"128\" x=\"329\" y=\"302\"/><text fill=\"#000000\" font-family=\"sans-serif\" font-size=\"12\" lengthAdjust=\"spacingAndGlyphs\" textLength=\"118\" x=\"332\" y=\"318.1387\">alternative: Engine</text><line style=\"stroke: #A80036; stroke-width: 1.5;\" x1=\"330\" x2=\"456\" y1=\"325.9688\" y2=\"325.9688\"/></a><!--MD5=[fd4143e9d270a159db93a4ea2a975926]\n",
       "class E9--><a href=\"psysml:43a96bb2-d059-439d-9037-f3d1363e69c1\" target=\"_top\" title=\"psysml:43a96bb2-d059-439d-9037-f3d1363e69c1\" xlink:actuate=\"onRequest\" xlink:href=\"psysml:43a96bb2-d059-439d-9037-f3d1363e69c1\" xlink:show=\"new\" xlink:title=\"psysml:43a96bb2-d059-439d-9037-f3d1363e69c1\" xlink:type=\"simple\"><rect fill=\"#FEFECE\" filter=\"url(#f17keipg1nr8pb)\" height=\"31.9688\" id=\"E9\" rx=\"10\" ry=\"10\" style=\"stroke: #A80036; stroke-width: 1.5;\" width=\"182\" x=\"249\" y=\"226\"/><text fill=\"#000000\" font-family=\"sans-serif\" font-size=\"12\" lengthAdjust=\"spacingAndGlyphs\" textLength=\"172\" x=\"252\" y=\"242.1387\">selectedAlternative: Engine</text><line style=\"stroke: #A80036; stroke-width: 1.5;\" x1=\"250\" x2=\"430\" y1=\"249.9688\" y2=\"249.9688\"/></a><g id=\"E1.E2\"><a href=\"psysml:377b66bc-6410-4386-a0f5-58eac70f1599\" target=\"_top\" title=\"psysml:377b66bc-6410-4386-a0f5-58eac70f1599\" xlink:actuate=\"onRequest\" xlink:href=\"psysml:377b66bc-6410-4386-a0f5-58eac70f1599\" xlink:show=\"new\" xlink:title=\"psysml:377b66bc-6410-4386-a0f5-58eac70f1599\" xlink:type=\"simple\"><rect fill=\"#FEFECE\" filter=\"url(#f17keipg1nr8pb)\" height=\"42.9375\" id=\"E2\" style=\"stroke: #A80036; stroke-width: 1.5;\" width=\"75\" x=\"355.5\" y=\"355\"/><text fill=\"#000000\" font-family=\"sans-serif\" font-size=\"12\" font-style=\"italic\" lengthAdjust=\"spacingAndGlyphs\" textLength=\"68\" x=\"359\" y=\"371.1387\">«part  def»</text><text fill=\"#000000\" font-family=\"sans-serif\" font-size=\"12\" lengthAdjust=\"spacingAndGlyphs\" textLength=\"43\" x=\"371.5\" y=\"385.1074\">Engine</text></a></g><g id=\"E1.E3\"><a href=\"psysml:b73c7ebb-9472-45c7-822b-647f60ba4ebd\" target=\"_top\" title=\"psysml:b73c7ebb-9472-45c7-822b-647f60ba4ebd\" xlink:actuate=\"onRequest\" xlink:href=\"psysml:b73c7ebb-9472-45c7-822b-647f60ba4ebd\" xlink:show=\"new\" xlink:title=\"psysml:b73c7ebb-9472-45c7-822b-647f60ba4ebd\" xlink:type=\"simple\"><rect fill=\"#FEFECE\" filter=\"url(#f17keipg1nr8pb)\" height=\"40\" id=\"E3\" rx=\"10\" ry=\"10\" style=\"stroke: #A80036; stroke-width: 1.5;\" width=\"113\" x=\"180.5\" y=\"298\"/><text fill=\"#000000\" font-family=\"sans-serif\" font-size=\"12\" lengthAdjust=\"spacingAndGlyphs\" textLength=\"102\" x=\"186\" y=\"314.1387\">engine1: Engine</text></a></g><g id=\"E1.E4\"><a href=\"psysml:383bc22a-19f8-4697-ba31-98dbfb8a50a3\" target=\"_top\" title=\"psysml:383bc22a-19f8-4697-ba31-98dbfb8a50a3\" xlink:actuate=\"onRequest\" xlink:href=\"psysml:383bc22a-19f8-4697-ba31-98dbfb8a50a3\" xlink:show=\"new\" xlink:title=\"psysml:383bc22a-19f8-4697-ba31-98dbfb8a50a3\" xlink:type=\"simple\"><rect fill=\"#FEFECE\" filter=\"url(#f17keipg1nr8pb)\" height=\"40\" id=\"E4\" rx=\"10\" ry=\"10\" style=\"stroke: #A80036; stroke-width: 1.5;\" width=\"113\" x=\"32.5\" y=\"298\"/><text fill=\"#000000\" font-family=\"sans-serif\" font-size=\"12\" lengthAdjust=\"spacingAndGlyphs\" textLength=\"102\" x=\"38\" y=\"314.1387\">engine2: Engine</text></a></g><!--MD5=[60a26617385b1d2d0262a64233df1f8d]\n",
       "class E6--><a href=\"psysml:6f716227-75fa-479d-851c-c6728be0ecaf\" target=\"_top\" title=\"psysml:6f716227-75fa-479d-851c-c6728be0ecaf\" xlink:actuate=\"onRequest\" xlink:href=\"psysml:6f716227-75fa-479d-851c-c6728be0ecaf\" xlink:show=\"new\" xlink:title=\"psysml:6f716227-75fa-479d-851c-c6728be0ecaf\" xlink:type=\"simple\"><rect fill=\"#FEFECE\" filter=\"url(#f17keipg1nr8pb)\" height=\"45.9375\" id=\"E6\" rx=\"10\" ry=\"10\" style=\"stroke: #A80036; stroke-width: 1.5;\" width=\"132\" x=\"359\" y=\"116\"/><text fill=\"#000000\" font-family=\"sans-serif\" font-size=\"12\" font-style=\"italic\" lengthAdjust=\"spacingAndGlyphs\" textLength=\"70\" x=\"390\" y=\"132.1387\">«objective»</text><text fill=\"#000000\" font-family=\"sans-serif\" font-size=\"12\" lengthAdjust=\"spacingAndGlyphs\" textLength=\"126\" x=\"362\" y=\"146.1074\">tradeStudyObjective</text><line style=\"stroke: #A80036; stroke-width: 1.5;\" x1=\"360\" x2=\"490\" y1=\"153.9375\" y2=\"153.9375\"/></a><!--MD5=[05d275557350bfb9b23a4ef7222b4c39]\n",
       "link E3 to E2--><a href=\"psysml:a3c7b902-deb2-42e0-bb2d-9591134be70d\" target=\"_top\" title=\"psysml:a3c7b902-deb2-42e0-bb2d-9591134be70d\" xlink:actuate=\"onRequest\" xlink:href=\"psysml:a3c7b902-deb2-42e0-bb2d-9591134be70d\" xlink:show=\"new\" xlink:title=\"psysml:a3c7b902-deb2-42e0-bb2d-9591134be70d\" xlink:type=\"simple\"><path d=\"M289.81,338.13 C304.69,343.52 320.93,349.4 336.03,354.87 \" fill=\"none\" id=\"E3-&gt;E2\" style=\"stroke: #A80036; stroke-width: 1.0;\"/><polygon fill=\"#FFFFFF\" points=\"355.03,361.75,334.7819,361.875,339.5406,348.7085,355.03,361.75\" style=\"stroke: #A80036; stroke-width: 1.0;\"/><ellipse cx=\"330.1011\" cy=\"358.0566\" fill=\"#A80036\" rx=\"2\" ry=\"2\" style=\"stroke: #A80036; stroke-width: 1.0;\"/><ellipse cx=\"333.5002\" cy=\"348.652\" fill=\"#A80036\" rx=\"2\" ry=\"2\" style=\"stroke: #A80036; stroke-width: 1.0;\"/></a><!--MD5=[185131fc0dcab0a4505a2ebe144e961b]\n",
       "link E4 to E2--><a href=\"psysml:ad9261f0-dda0-42b5-9d6e-43ebe8822407\" target=\"_top\" title=\"psysml:ad9261f0-dda0-42b5-9d6e-43ebe8822407\" xlink:actuate=\"onRequest\" xlink:href=\"psysml:ad9261f0-dda0-42b5-9d6e-43ebe8822407\" xlink:show=\"new\" xlink:title=\"psysml:ad9261f0-dda0-42b5-9d6e-43ebe8822407\" xlink:type=\"simple\"><path d=\"M145.84,334.14 C151.62,335.52 157.42,336.83 163,338 C221.38,350.23 288.79,360.81 335.48,367.58 \" fill=\"none\" id=\"E4-&gt;E2\" style=\"stroke: #A80036; stroke-width: 1.0;\"/><polygon fill=\"#FFFFFF\" points=\"355.36,370.42,335.561,374.6626,337.5409,360.8033,355.36,370.42\" style=\"stroke: #A80036; stroke-width: 1.0;\"/><ellipse cx=\"330.2011\" cy=\"371.8766\" fill=\"#A80036\" rx=\"2\" ry=\"2\" style=\"stroke: #A80036; stroke-width: 1.0;\"/><ellipse cx=\"331.6154\" cy=\"361.9771\" fill=\"#A80036\" rx=\"2\" ry=\"2\" style=\"stroke: #A80036; stroke-width: 1.0;\"/></a><!--MD5=[15ebcb19ae302d9b601edb458606d402]\n",
       "link E5 to E2--><a href=\"psysml:b52cccfc-b130-477f-adae-4c6f859e452b\" target=\"_top\" title=\"psysml:b52cccfc-b130-477f-adae-4c6f859e452b\" xlink:actuate=\"onRequest\" xlink:href=\"psysml:b52cccfc-b130-477f-adae-4c6f859e452b\" xlink:show=\"new\" xlink:title=\"psysml:b52cccfc-b130-477f-adae-4c6f859e452b\" xlink:type=\"simple\"><path d=\"M331.659,186.1627 C331.8411,186.5627 332.0273,186.9606 332.2179,187.3563 C332.5989,188.1477 332.9972,188.93 333.4133,189.7013 C334.2455,191.2439 335.1494,192.7428 336.1309,194.183 C338.0939,197.0633 340.3675,199.7088 343,202 C378.99,233.33 410.75,190.48 449,219 C480.23,242.29 478.34,260.01 487,298 C491.94,319.67 496.18,335.76 477,347 C464.34,354.42 449.46,360.26 435.78,364.68 \" fill=\"none\" id=\"E5-&gt;E2\" style=\"stroke: #A80036; stroke-width: 1.0; stroke-dasharray: 7.0,7.0;\"/><polygon fill=\"#A80036\" points=\"430.79,366.24,440.5753,367.3568,435.5599,364.7405,438.1761,359.725,430.79,366.24\" style=\"stroke: #A80036; stroke-width: 1.0;\"/><text fill=\"#000000\" font-family=\"sans-serif\" font-size=\"13\" lengthAdjust=\"spacingAndGlyphs\" textLength=\"62\" x=\"486\" y=\"286.0669\">«subject»</text></a><!--MD5=[452b418e7f8a40397a49b8c0a78acc5b]\n",
       "reverse link E5 to E7--><a href=\"psysml:226717b4-0db0-47e0-9eef-bae3c4ff0509\" target=\"_top\" title=\"psysml:226717b4-0db0-47e0-9eef-bae3c4ff0509\" xlink:actuate=\"onRequest\" xlink:href=\"psysml:226717b4-0db0-47e0-9eef-bae3c4ff0509\" xlink:show=\"new\" xlink:title=\"psysml:226717b4-0db0-47e0-9eef-bae3c4ff0509\" xlink:type=\"simple\"><path d=\"M315.8632,144.6919 C315.7574,144.7529 315.6508,144.8144 315.5433,144.8765 C315.1131,145.1248 314.6683,145.3815 314.2093,145.6464 C312.3734,146.7061 310.3104,147.8968 308.0477,149.2028 C298.9966,154.4269 286.7481,161.4962 273.0413,169.4075 C245.6275,185.23 212.38,204.42 187.21,218.95 \" fill=\"none\" id=\"E5&lt;-E7\" style=\"stroke: #A80036; stroke-width: 1.0;\"/><polygon fill=\"#FFFFFF\" points=\"315.8632,144.6919,308.6671,144.2269,305.4701,150.6906,312.6662,151.1556,315.8632,144.6919\" style=\"stroke: #A80036; stroke-width: 1.0;\"/></a><!--MD5=[dc164f5e8a733ab456ef1add180e9e34]\n",
       "reverse link E7 to E8--><a href=\"psysml:6f1f84a3-2ac1-458a-baf6-caa888cc195f\" target=\"_top\" title=\"psysml:6f1f84a3-2ac1-458a-baf6-caa888cc195f\" xlink:actuate=\"onRequest\" xlink:href=\"psysml:6f1f84a3-2ac1-458a-baf6-caa888cc195f\" xlink:show=\"new\" xlink:title=\"psysml:6f1f84a3-2ac1-458a-baf6-caa888cc195f\" xlink:type=\"simple\"><path d=\"M226.45,266.49 C264.75,278.1 309.84,291.78 343.44,301.97 \" fill=\"none\" id=\"E7&lt;-E8\" style=\"stroke: #A80036; stroke-width: 1.0;\"/><polygon fill=\"#FFFFFF\" points=\"213.75,262.64,218.33,268.2099,225.233,266.1245,220.653,260.5546,213.75,262.64\" style=\"stroke: #A80036; stroke-width: 1.0;\"/><text fill=\"#000000\" font-family=\"sans-serif\" font-size=\"13\" lengthAdjust=\"spacingAndGlyphs\" textLength=\"8\" x=\"317.0288\" y=\"290.9767\">1</text></a><!--MD5=[f1f3f9f2fc535e6147756cb86a7f2e32]\n",
       "link E8 to E2--><a href=\"psysml:2bf4d1c6-7bac-40b1-aaaa-83952da67c38\" target=\"_top\" title=\"psysml:2bf4d1c6-7bac-40b1-aaaa-83952da67c38\" xlink:actuate=\"onRequest\" xlink:href=\"psysml:2bf4d1c6-7bac-40b1-aaaa-83952da67c38\" xlink:show=\"new\" xlink:title=\"psysml:2bf4d1c6-7bac-40b1-aaaa-83952da67c38\" xlink:type=\"simple\"><path d=\"M393,334.14 C393,334.24 393,334.34 393,334.44 \" fill=\"none\" id=\"E8-&gt;E2\" style=\"stroke: #A80036; stroke-width: 1.0;\"/><polygon fill=\"#FFFFFF\" points=\"393,354.58,386,335.58,400,335.58,393,354.58\" style=\"stroke: #A80036; stroke-width: 1.0;\"/><ellipse cx=\"388\" cy=\"329.88\" fill=\"#A80036\" rx=\"2\" ry=\"2\" style=\"stroke: #A80036; stroke-width: 1.0;\"/><ellipse cx=\"398\" cy=\"329.88\" fill=\"#A80036\" rx=\"2\" ry=\"2\" style=\"stroke: #A80036; stroke-width: 1.0;\"/><line style=\"stroke: #A80036; stroke-width: 1.0;\" x1=\"393\" x2=\"393\" y1=\"334.14\" y2=\"354.58\"/></a><!--MD5=[9ae28de373ca99bb8a1b38d63370ca7e]\n",
       "reverse link E5 to E9--><a href=\"psysml:eedf805a-a406-401d-b38e-104ba6f0fce6\" target=\"_top\" title=\"psysml:eedf805a-a406-401d-b38e-104ba6f0fce6\" xlink:actuate=\"onRequest\" xlink:href=\"psysml:eedf805a-a406-401d-b38e-104ba6f0fce6\" xlink:show=\"new\" xlink:title=\"psysml:eedf805a-a406-401d-b38e-104ba6f0fce6\" xlink:type=\"simple\"><path d=\"M331.3115,186.1541 C331.3575,186.4444 331.4036,186.7349 331.4496,187.0256 C332.1866,191.6761 332.9298,196.366 333.6541,200.9367 C335.1025,210.0781 336.475,218.7425 337.57,225.66 \" fill=\"none\" id=\"E5&lt;-E9\" style=\"stroke: #A80036; stroke-width: 1.0;\"/><polygon fill=\"#FFFFFF\" points=\"331.3115,186.1541,328.3,192.7062,333.1898,198.0062,336.2014,191.454,331.3115,186.1541\" style=\"stroke: #A80036; stroke-width: 1.0;\"/><text fill=\"#000000\" font-family=\"sans-serif\" font-size=\"13\" lengthAdjust=\"spacingAndGlyphs\" textLength=\"8\" x=\"327.4401\" y=\"214.8571\">1</text></a><!--MD5=[5c3bb36fe832a92c7f0e1807dd65209d]\n",
       "link E9 to E2--><a href=\"psysml:3213573e-39ef-4dfb-813d-bdfb08b6e367\" target=\"_top\" title=\"psysml:3213573e-39ef-4dfb-813d-bdfb08b6e367\" xlink:actuate=\"onRequest\" xlink:href=\"psysml:3213573e-39ef-4dfb-813d-bdfb08b6e367\" xlink:show=\"new\" xlink:title=\"psysml:3213573e-39ef-4dfb-813d-bdfb08b6e367\" xlink:type=\"simple\"><path d=\"M364.22,258.04 C382.07,268.48 407.27,281.92 431,290 C449.81,296.41 462.26,282.74 475,298 C486.39,311.65 484.61,323.04 475,338 C468.81,347.63 459.47,354.82 449.28,360.18 \" fill=\"none\" id=\"E9-&gt;E2\" style=\"stroke: #A80036; stroke-width: 1.0;\"/><polygon fill=\"#FFFFFF\" points=\"430.52,367.97,445.382,354.2179,450.7517,367.1472,430.52,367.97\" style=\"stroke: #A80036; stroke-width: 1.0;\"/><ellipse cx=\"451.4132\" cy=\"353.8787\" fill=\"#A80036\" rx=\"2\" ry=\"2\" style=\"stroke: #A80036; stroke-width: 1.0;\"/><ellipse cx=\"455.2487\" cy=\"363.1139\" fill=\"#A80036\" rx=\"2\" ry=\"2\" style=\"stroke: #A80036; stroke-width: 1.0;\"/></a><!--MD5=[4522fccdce23e132c0c13c027530f685]\n",
       "@startuml\r\n",
       "skinparam ranksep 10\r\n",
       "skinparam rectangle {\r\n",
       " backgroundColor<<block>> LightGreen\r\n",
       "}\r\n",
       "skinparam wrapWidth 300\r\n",
       "hide circle\r\n",
       "\r\n",
       "package \"TradeStudyTest\" as E1  [[psysml:06d75114-8d09-4304-b9ac-1031eaaad748 ]]  {\r\n",
       "rec def \"Engine\" as E2  <<(T,blue) part  def>> [[psysml:377b66bc-6410-4386-a0f5-58eac70f1599 ]] {\r\n",
       "}\r\n",
       "rec usage \"engine1: Engine\" as E3  [[psysml:b73c7ebb-9472-45c7-822b-647f60ba4ebd ]] {\r\n",
       "}\r\n",
       "rec usage \"engine2: Engine\" as E4  [[psysml:383bc22a-19f8-4697-ba31-98dbfb8a50a3 ]] {\r\n",
       "}\r\n",
       "rec usage \"engineTradeStudy\" as E5 << analysis>> [[psysml:a2c4dab4-2ddb-42af-80d6-b11f423fabe1 ]] {\r\n",
       "comp usage \"tradeStudyObjective\" as E6  <<objective>> [[psysml:6f716227-75fa-479d-851c-c6728be0ecaf ]] {\r\n",
       "}\r\n",
       "}\r\n",
       "comp usage \"evaluationFunction \" as E7  <<(T,blue) calculation>> [[psysml:e59262b2-24eb-419d-a794-3b71c7229dcc ]] {\r\n",
       "}\r\n",
       "comp usage \"alternative: Engine \" as E8  [[psysml:83f46fb2-5a48-4342-a61e-b1e9a3952716 ]] {\r\n",
       "}\r\n",
       "comp usage \"selectedAlternative: Engine \" as E9  [[psysml:43a96bb2-d059-439d-9037-f3d1363e69c1 ]] {\r\n",
       "}\r\n",
       "}\r\n",
       "E3 - -:|> E2 [[psysml:a3c7b902-deb2-42e0-bb2d-9591134be70d ]] \r\n",
       "E4 - -:|> E2 [[psysml:ad9261f0-dda0-42b5-9d6e-43ebe8822407 ]] \r\n",
       "E5 ..> E2 [[psysml:b52cccfc-b130-477f-adae-4c6f859e452b ]] : <<subject>>\r\n",
       "E5 o- - E7 [[psysml:226717b4-0db0-47e0-9eef-bae3c4ff0509 ]] \r\n",
       "E7 o- - \"1\"E8 [[psysml:6f1f84a3-2ac1-458a-baf6-caa888cc195f ]] \r\n",
       "E8 - -:|> E2 [[psysml:2bf4d1c6-7bac-40b1-aaaa-83952da67c38 ]] \r\n",
       "E5 o- - \"1\"E9 [[psysml:eedf805a-a406-401d-b38e-104ba6f0fce6 ]] \r\n",
       "E9 - -:|> E2 [[psysml:3213573e-39ef-4dfb-813d-bdfb08b6e367 ]] \r\n",
       "@enduml\r\n",
       "\n",
       "PlantUML version 1.2020.13(Sat Jun 13 12:26:38 UTC 2020)\n",
       "(EPL source distribution)\n",
       "Java Runtime: OpenJDK Runtime Environment\n",
       "JVM: OpenJDK 64-Bit Server VM\n",
       "Default Encoding: UTF-8\n",
       "Language: en\n",
       "Country: null\n",
       "--></g></svg>"
      ]
     },
     "execution_count": 26,
     "metadata": {},
     "output_type": "execute_result"
    }
   ],
   "source": [
    "%viz --style=\"STDCOLOR\" --view=\"Interconnection\" \"TradeStudyTest\""
   ]
  },
  {
   "cell_type": "code",
   "execution_count": 27,
   "id": "92eec6c3",
   "metadata": {
    "execution": {
     "iopub.execute_input": "2022-08-19T08:21:17.016454Z",
     "iopub.status.busy": "2022-08-19T08:21:17.016004Z",
     "iopub.status.idle": "2022-08-19T08:21:17.049476Z",
     "shell.execute_reply": "2022-08-19T08:21:17.049086Z"
    }
   },
   "outputs": [
    {
     "data": {
      "image/svg+xml": [
       "<?xml version=\"1.0\" encoding=\"UTF-8\" standalone=\"no\"?><svg xmlns=\"http://www.w3.org/2000/svg\" xmlns:xlink=\"http://www.w3.org/1999/xlink\" contentScriptType=\"application/ecmascript\" contentStyleType=\"text/css\" height=\"235px\" preserveAspectRatio=\"none\" style=\"width:442px;height:235px;\" version=\"1.1\" viewBox=\"0 0 442 235\" width=\"442px\" zoomAndPan=\"magnify\"><defs><filter height=\"300%\" id=\"f1px08o4y4wmpe\" width=\"300%\" x=\"-1\" y=\"-1\"><feGaussianBlur result=\"blurOut\" stdDeviation=\"2.0\"/><feColorMatrix in=\"blurOut\" result=\"blurOut2\" type=\"matrix\" values=\"0 0 0 0 0 0 0 0 0 0 0 0 0 0 0 0 0 0 .4 0\"/><feOffset dx=\"4.0\" dy=\"4.0\" in=\"blurOut2\" result=\"blurOut3\"/><feBlend in=\"SourceGraphic\" in2=\"blurOut3\" mode=\"normal\"/></filter></defs><g><!--MD5=[fbc87193dbaf4d95561dea2c320d4a47]\n",
       "cluster E1--><a href=\"psysml:a2c4dab4-2ddb-42af-80d6-b11f423fabe1\" target=\"_top\" title=\"psysml:a2c4dab4-2ddb-42af-80d6-b11f423fabe1\" xlink:actuate=\"onRequest\" xlink:href=\"psysml:a2c4dab4-2ddb-42af-80d6-b11f423fabe1\" xlink:show=\"new\" xlink:title=\"psysml:a2c4dab4-2ddb-42af-80d6-b11f423fabe1\" xlink:type=\"simple\"><rect fill=\"#FFFFFF\" filter=\"url(#f1px08o4y4wmpe)\" height=\"174.36\" id=\"E1\" rx=\"10\" ry=\"10\" style=\"stroke: #A80036; stroke-width: 1.5;\" width=\"317\" x=\"47\" y=\"42.0986\"/><rect fill=\"#FEFECE\" height=\"37.9375\" rx=\"10\" ry=\"10\" style=\"stroke: #FEFECE; stroke-width: 1.5;\" width=\"317\" x=\"47\" y=\"42.0986\"/><rect fill=\"#FEFECE\" height=\"10\" style=\"stroke: #FEFECE; stroke-width: 1.5;\" width=\"317\" x=\"47\" y=\"70.0361\"/><rect fill=\"none\" height=\"174.36\" id=\"E1\" rx=\"10\" ry=\"10\" style=\"stroke: #A80036; stroke-width: 1.5;\" width=\"317\" x=\"47\" y=\"42.0986\"/><text fill=\"#000000\" font-family=\"sans-serif\" font-size=\"12\" font-style=\"italic\" lengthAdjust=\"spacingAndGlyphs\" textLength=\"64\" x=\"173.5\" y=\"58.2373\">«analysis»</text><text fill=\"#000000\" font-family=\"sans-serif\" font-size=\"12\" lengthAdjust=\"spacingAndGlyphs\" textLength=\"114\" x=\"148.5\" y=\"72.2061\">engineTradeStudy</text><line style=\"stroke: #A80036; stroke-width: 1.0;\" x1=\"47\" x2=\"364\" y1=\"80.0361\" y2=\"80.0361\"/></a><!--MD5=[d5e69f78d87373223dbae638b30a9c99]\n",
       "cluster E3--><a href=\"psysml:e59262b2-24eb-419d-a794-3b71c7229dcc\" target=\"_top\" title=\"psysml:e59262b2-24eb-419d-a794-3b71c7229dcc\" xlink:actuate=\"onRequest\" xlink:href=\"psysml:e59262b2-24eb-419d-a794-3b71c7229dcc\" xlink:show=\"new\" xlink:title=\"psysml:e59262b2-24eb-419d-a794-3b71c7229dcc\" xlink:type=\"simple\"><rect fill=\"#FFFFFF\" filter=\"url(#f1px08o4y4wmpe)\" height=\"104.86\" id=\"E3\" rx=\"10\" ry=\"10\" style=\"stroke: #A80036; stroke-width: 1.5;\" width=\"178\" x=\"145\" y=\"81.5986\"/><rect fill=\"#FEFECE\" height=\"37.9375\" rx=\"10\" ry=\"10\" style=\"stroke: #FEFECE; stroke-width: 1.5;\" width=\"178\" x=\"145\" y=\"81.5986\"/><rect fill=\"#FEFECE\" height=\"10\" style=\"stroke: #FEFECE; stroke-width: 1.5;\" width=\"178\" x=\"145\" y=\"109.5361\"/><rect fill=\"none\" height=\"104.86\" id=\"E3\" rx=\"10\" ry=\"10\" style=\"stroke: #A80036; stroke-width: 1.5;\" width=\"178\" x=\"145\" y=\"81.5986\"/><text fill=\"#000000\" font-family=\"sans-serif\" font-size=\"12\" font-style=\"italic\" lengthAdjust=\"spacingAndGlyphs\" textLength=\"82\" x=\"193\" y=\"97.7373\">«calculation»</text><text fill=\"#000000\" font-family=\"sans-serif\" font-size=\"12\" lengthAdjust=\"spacingAndGlyphs\" textLength=\"119\" x=\"174.5\" y=\"111.7061\">evaluationFunction</text><line style=\"stroke: #A80036; stroke-width: 1.0;\" x1=\"145\" x2=\"323\" y1=\"119.5361\" y2=\"119.5361\"/></a><text fill=\"#000000\" font-family=\"sans-serif\" font-size=\"14\" lengthAdjust=\"spacingAndGlyphs\" textLength=\"118\" x=\"6\" y=\"20.7969\">studyAlternatives</text><rect fill=\"#A80036\" height=\"12\" style=\"stroke: #FEFECE; stroke-width: 1.5;\" width=\"12\" x=\"59\" y=\"36.0986\"/><text fill=\"#000000\" font-family=\"sans-serif\" font-size=\"14\" lengthAdjust=\"spacingAndGlyphs\" textLength=\"132\" x=\"298\" y=\"183.0938\">selectedAlternative</text><rect fill=\"#A80036\" height=\"12\" style=\"stroke: #FEFECE; stroke-width: 1.5;\" width=\"12\" x=\"358\" y=\"158.0986\"/><text fill=\"#000000\" font-family=\"sans-serif\" font-size=\"14\" lengthAdjust=\"spacingAndGlyphs\" textLength=\"71\" x=\"198.5\" y=\"60.2969\">alternative</text><rect fill=\"#A80036\" height=\"12\" style=\"stroke: #FEFECE; stroke-width: 1.5;\" width=\"12\" x=\"228\" y=\"75.5986\"/><text fill=\"#000000\" font-family=\"sans-serif\" font-size=\"14\" lengthAdjust=\"spacingAndGlyphs\" textLength=\"39\" x=\"214.5\" y=\"205.4538\">result</text><rect fill=\"#A80036\" height=\"12\" style=\"stroke: #FEFECE; stroke-width: 1.5;\" width=\"12\" x=\"228\" y=\"180.4586\"/><!--MD5=[9316df8e9968a7545fdc6c5901c3c2b6]\n",
       "@startuml\r\n",
       "skinparam ranksep 8\r\n",
       "skinparam wrapWidth 300\r\n",
       "hide circle\r\n",
       "\r\n",
       "rec usage \"engineTradeStudy\" as E1 << analysis>> [[psysml:a2c4dab4-2ddb-42af-80d6-b11f423fabe1 ]] {\r\n",
       "portin \"studyAlternatives\" as E2  [[psysml:ba51db2a-337d-4796-9152-a1747789732e ]] \r\n",
       "rec usage \"evaluationFunction\" as E3  <<(T,blue) calculation>> [[psysml:e59262b2-24eb-419d-a794-3b71c7229dcc ]] {\r\n",
       "portin \"alternative\" as E4  [[psysml:83f46fb2-5a48-4342-a61e-b1e9a3952716 ]] \r\n",
       "portout \"result\" as E5  [[psysml:9307401e-c2bc-4ae8-a206-942b4cc90813 ]] \r\n",
       "}\r\n",
       "\r\n",
       "portout \"selectedAlternative\" as E6  [[psysml:43a96bb2-d059-439d-9037-f3d1363e69c1 ]] \r\n",
       "}\r\n",
       "\r\n",
       "@enduml\r\n",
       "\n",
       "PlantUML version 1.2020.13(Sat Jun 13 12:26:38 UTC 2020)\n",
       "(EPL source distribution)\n",
       "Java Runtime: OpenJDK Runtime Environment\n",
       "JVM: OpenJDK 64-Bit Server VM\n",
       "Default Encoding: UTF-8\n",
       "Language: en\n",
       "Country: null\n",
       "--></g></svg>"
      ]
     },
     "execution_count": 27,
     "metadata": {},
     "output_type": "execute_result"
    }
   ],
   "source": [
    "%viz --style=\"STDCOLOR\" --view=\"Action\" \"TradeStudyTest\""
   ]
  },
  {
   "cell_type": "code",
   "execution_count": 28,
   "id": "866e9ea8",
   "metadata": {
    "execution": {
     "iopub.execute_input": "2022-08-19T08:21:17.099238Z",
     "iopub.status.busy": "2022-08-19T08:21:17.098791Z",
     "iopub.status.idle": "2022-08-19T08:21:17.106058Z",
     "shell.execute_reply": "2022-08-19T08:21:17.106378Z"
    }
   },
   "outputs": [
    {
     "data": {
      "image/svg+xml": [
       "<?xml version=\"1.0\" encoding=\"UTF-8\" standalone=\"no\"?><svg xmlns=\"http://www.w3.org/2000/svg\" xmlns:xlink=\"http://www.w3.org/1999/xlink\" contentScriptType=\"application/ecmascript\" contentStyleType=\"text/css\" height=\"12px\" preserveAspectRatio=\"none\" style=\"width:12px;height:12px;\" version=\"1.1\" viewBox=\"0 0 12 12\" width=\"12px\" zoomAndPan=\"magnify\"><defs/><g><!--MD5=[6c4bca67b4d71758159a5a7f1f1e1fc2]\n",
       "@startuml\r\n",
       "skinparam roundcorner 20\r\n",
       "skinparam BoxPadding 20\r\n",
       "skinparam SequenceBoxBackgroundColor #white\r\n",
       "skinparam style strictuml\r\n",
       "skinparam maxMessageSize 100\r\n",
       "skinparam wrapWidth 300\r\n",
       "hide circle\r\n",
       "\r\n",
       "@enduml\r\n",
       "\n",
       "PlantUML version 1.2020.13(Sat Jun 13 12:26:38 UTC 2020)\n",
       "(EPL source distribution)\n",
       "Java Runtime: OpenJDK Runtime Environment\n",
       "JVM: OpenJDK 64-Bit Server VM\n",
       "Default Encoding: UTF-8\n",
       "Language: en\n",
       "Country: null\n",
       "--></g></svg>"
      ]
     },
     "execution_count": 28,
     "metadata": {},
     "output_type": "execute_result"
    }
   ],
   "source": [
    "%viz --style=\"STDCOLOR\" --view=\"Sequence\" \"TradeStudyTest\""
   ]
  },
  {
   "cell_type": "code",
   "execution_count": 29,
   "id": "e65ff0a8",
   "metadata": {
    "execution": {
     "iopub.execute_input": "2022-08-19T08:21:17.156428Z",
     "iopub.status.busy": "2022-08-19T08:21:17.155985Z",
     "iopub.status.idle": "2022-08-19T08:21:17.203953Z",
     "shell.execute_reply": "2022-08-19T08:21:17.203566Z"
    }
   },
   "outputs": [
    {
     "data": {
      "image/svg+xml": [
       "<?xml version=\"1.0\" encoding=\"UTF-8\" standalone=\"no\"?><svg xmlns=\"http://www.w3.org/2000/svg\" xmlns:xlink=\"http://www.w3.org/1999/xlink\" contentScriptType=\"application/ecmascript\" contentStyleType=\"text/css\" height=\"545px\" preserveAspectRatio=\"none\" style=\"width:566px;height:545px;\" version=\"1.1\" viewBox=\"0 0 566 545\" width=\"566px\" zoomAndPan=\"magnify\"><defs><filter height=\"300%\" id=\"f13ub3wyx5s0zd\" width=\"300%\" x=\"-1\" y=\"-1\"><feGaussianBlur result=\"blurOut\" stdDeviation=\"2.0\"/><feColorMatrix in=\"blurOut\" result=\"blurOut2\" type=\"matrix\" values=\"0 0 0 0 0 0 0 0 0 0 0 0 0 0 0 0 0 0 .4 0\"/><feOffset dx=\"4.0\" dy=\"4.0\" in=\"blurOut2\" result=\"blurOut3\"/><feBlend in=\"SourceGraphic\" in2=\"blurOut3\" mode=\"normal\"/></filter></defs><g><!--MD5=[fbc87193dbaf4d95561dea2c320d4a47]\n",
       "cluster E1--><a href=\"psysml:06d75114-8d09-4304-b9ac-1031eaaad748\" target=\"_top\" title=\"psysml:06d75114-8d09-4304-b9ac-1031eaaad748\" xlink:actuate=\"onRequest\" xlink:href=\"psysml:06d75114-8d09-4304-b9ac-1031eaaad748\" xlink:show=\"new\" xlink:title=\"psysml:06d75114-8d09-4304-b9ac-1031eaaad748\" xlink:type=\"simple\"><polygon fill=\"#FFFFFF\" filter=\"url(#f13ub3wyx5s0zd)\" points=\"16,6,132,6,139,28.2969,544,28.2969,544,533,16,533,16,6\" style=\"stroke: #000000; stroke-width: 1.5;\"/><line style=\"stroke: #000000; stroke-width: 1.5;\" x1=\"16\" x2=\"139\" y1=\"28.2969\" y2=\"28.2969\"/><text fill=\"#000000\" font-family=\"sans-serif\" font-size=\"14\" font-weight=\"bold\" lengthAdjust=\"spacingAndGlyphs\" textLength=\"110\" x=\"20\" y=\"20.9951\">TradeStudyTest</text></a><!--MD5=[de5ec2e2e8f62f467e546659f5068c88]\n",
       "cluster E5--><a href=\"psysml:a2c4dab4-2ddb-42af-80d6-b11f423fabe1\" target=\"_top\" title=\"psysml:a2c4dab4-2ddb-42af-80d6-b11f423fabe1\" xlink:actuate=\"onRequest\" xlink:href=\"psysml:a2c4dab4-2ddb-42af-80d6-b11f423fabe1\" xlink:show=\"new\" xlink:title=\"psysml:a2c4dab4-2ddb-42af-80d6-b11f423fabe1\" xlink:type=\"simple\"><rect fill=\"#FFFFFF\" filter=\"url(#f13ub3wyx5s0zd)\" height=\"129\" id=\"E5\" rx=\"10\" ry=\"10\" style=\"stroke: #A80036; stroke-width: 1.5;\" width=\"199\" x=\"238\" y=\"57\"/><rect fill=\"#FEFECE\" height=\"37.9375\" rx=\"10\" ry=\"10\" style=\"stroke: #FEFECE; stroke-width: 1.5;\" width=\"199\" x=\"238\" y=\"57\"/><rect fill=\"#FEFECE\" height=\"10\" style=\"stroke: #FEFECE; stroke-width: 1.5;\" width=\"199\" x=\"238\" y=\"84.9375\"/><rect fill=\"none\" height=\"129\" id=\"E5\" rx=\"10\" ry=\"10\" style=\"stroke: #A80036; stroke-width: 1.5;\" width=\"199\" x=\"238\" y=\"57\"/><text fill=\"#000000\" font-family=\"sans-serif\" font-size=\"12\" font-style=\"italic\" lengthAdjust=\"spacingAndGlyphs\" textLength=\"64\" x=\"305.5\" y=\"73.1387\">«analysis»</text><text fill=\"#000000\" font-family=\"sans-serif\" font-size=\"12\" lengthAdjust=\"spacingAndGlyphs\" textLength=\"114\" x=\"280.5\" y=\"87.1074\">engineTradeStudy</text><line style=\"stroke: #A80036; stroke-width: 1.0;\" x1=\"238\" x2=\"437\" y1=\"94.9375\" y2=\"94.9375\"/></a><!--MD5=[b4997ac47864f28c2f74865a473b2911]\n",
       "class E2--><a href=\"psysml:377b66bc-6410-4386-a0f5-58eac70f1599\" target=\"_top\" title=\"psysml:377b66bc-6410-4386-a0f5-58eac70f1599\" xlink:actuate=\"onRequest\" xlink:href=\"psysml:377b66bc-6410-4386-a0f5-58eac70f1599\" xlink:show=\"new\" xlink:title=\"psysml:377b66bc-6410-4386-a0f5-58eac70f1599\" xlink:type=\"simple\"><rect fill=\"#FEFECE\" filter=\"url(#f13ub3wyx5s0zd)\" height=\"45.9375\" id=\"E2\" style=\"stroke: #A80036; stroke-width: 1.5;\" width=\"70\" x=\"292\" y=\"471\"/><text fill=\"#000000\" font-family=\"sans-serif\" font-size=\"12\" font-style=\"italic\" lengthAdjust=\"spacingAndGlyphs\" textLength=\"68\" x=\"293\" y=\"487.1387\">«part  def»</text><text fill=\"#000000\" font-family=\"sans-serif\" font-size=\"12\" lengthAdjust=\"spacingAndGlyphs\" textLength=\"43\" x=\"305.5\" y=\"501.1074\">Engine</text><line style=\"stroke: #A80036; stroke-width: 1.5;\" x1=\"293\" x2=\"361\" y1=\"508.9375\" y2=\"508.9375\"/></a><!--MD5=[09b614a08d8cba4a07c9adeb5e0fee81]\n",
       "class E3--><a href=\"psysml:b73c7ebb-9472-45c7-822b-647f60ba4ebd\" target=\"_top\" title=\"psysml:b73c7ebb-9472-45c7-822b-647f60ba4ebd\" xlink:actuate=\"onRequest\" xlink:href=\"psysml:b73c7ebb-9472-45c7-822b-647f60ba4ebd\" xlink:show=\"new\" xlink:title=\"psysml:b73c7ebb-9472-45c7-822b-647f60ba4ebd\" xlink:type=\"simple\"><rect fill=\"#FEFECE\" filter=\"url(#f13ub3wyx5s0zd)\" height=\"45.9375\" id=\"E3\" rx=\"10\" ry=\"10\" style=\"stroke: #A80036; stroke-width: 1.5;\" width=\"112\" x=\"179\" y=\"364\"/><text fill=\"#000000\" font-family=\"sans-serif\" font-size=\"12\" font-style=\"italic\" lengthAdjust=\"spacingAndGlyphs\" textLength=\"40\" x=\"215\" y=\"380.1387\">«part»</text><text fill=\"#000000\" font-family=\"sans-serif\" font-size=\"12\" lengthAdjust=\"spacingAndGlyphs\" textLength=\"102\" x=\"182\" y=\"394.1074\">engine1: Engine</text><line style=\"stroke: #A80036; stroke-width: 1.5;\" x1=\"180\" x2=\"290\" y1=\"401.9375\" y2=\"401.9375\"/></a><!--MD5=[ebbe1d658d1005bcc118a6aa81145e00]\n",
       "class E4--><a href=\"psysml:383bc22a-19f8-4697-ba31-98dbfb8a50a3\" target=\"_top\" title=\"psysml:383bc22a-19f8-4697-ba31-98dbfb8a50a3\" xlink:actuate=\"onRequest\" xlink:href=\"psysml:383bc22a-19f8-4697-ba31-98dbfb8a50a3\" xlink:show=\"new\" xlink:title=\"psysml:383bc22a-19f8-4697-ba31-98dbfb8a50a3\" xlink:type=\"simple\"><rect fill=\"#FEFECE\" filter=\"url(#f13ub3wyx5s0zd)\" height=\"45.9375\" id=\"E4\" rx=\"10\" ry=\"10\" style=\"stroke: #A80036; stroke-width: 1.5;\" width=\"112\" x=\"32\" y=\"364\"/><text fill=\"#000000\" font-family=\"sans-serif\" font-size=\"12\" font-style=\"italic\" lengthAdjust=\"spacingAndGlyphs\" textLength=\"40\" x=\"68\" y=\"380.1387\">«part»</text><text fill=\"#000000\" font-family=\"sans-serif\" font-size=\"12\" lengthAdjust=\"spacingAndGlyphs\" textLength=\"102\" x=\"35\" y=\"394.1074\">engine2: Engine</text><line style=\"stroke: #A80036; stroke-width: 1.5;\" x1=\"33\" x2=\"143\" y1=\"401.9375\" y2=\"401.9375\"/></a><!--MD5=[2156ba9850f5573cc1fc38a6a4b2f02b]\n",
       "class E7--><a href=\"psysml:e59262b2-24eb-419d-a794-3b71c7229dcc\" target=\"_top\" title=\"psysml:e59262b2-24eb-419d-a794-3b71c7229dcc\" xlink:actuate=\"onRequest\" xlink:href=\"psysml:e59262b2-24eb-419d-a794-3b71c7229dcc\" xlink:show=\"new\" xlink:title=\"psysml:e59262b2-24eb-419d-a794-3b71c7229dcc\" xlink:type=\"simple\"><rect fill=\"#FEFECE\" filter=\"url(#f13ub3wyx5s0zd)\" height=\"45.9375\" id=\"E7\" rx=\"10\" ry=\"10\" style=\"stroke: #A80036; stroke-width: 1.5;\" width=\"129\" x=\"181.5\" y=\"241\"/><text fill=\"#000000\" font-family=\"sans-serif\" font-size=\"12\" font-style=\"italic\" lengthAdjust=\"spacingAndGlyphs\" textLength=\"82\" x=\"205\" y=\"257.1387\">«calculation»</text><text fill=\"#000000\" font-family=\"sans-serif\" font-size=\"12\" lengthAdjust=\"spacingAndGlyphs\" textLength=\"119\" x=\"184.5\" y=\"271.1074\">evaluationFunction</text><line style=\"stroke: #A80036; stroke-width: 1.5;\" x1=\"182.5\" x2=\"309.5\" y1=\"278.9375\" y2=\"278.9375\"/></a><!--MD5=[b9389687b975829384b498ac4b7476b2]\n",
       "class E8--><a href=\"psysml:83f46fb2-5a48-4342-a61e-b1e9a3952716\" target=\"_top\" title=\"psysml:83f46fb2-5a48-4342-a61e-b1e9a3952716\" xlink:actuate=\"onRequest\" xlink:href=\"psysml:83f46fb2-5a48-4342-a61e-b1e9a3952716\" xlink:show=\"new\" xlink:title=\"psysml:83f46fb2-5a48-4342-a61e-b1e9a3952716\" xlink:type=\"simple\"><rect fill=\"#FEFECE\" filter=\"url(#f13ub3wyx5s0zd)\" height=\"45.9375\" id=\"E8\" rx=\"10\" ry=\"10\" style=\"stroke: #A80036; stroke-width: 1.5;\" width=\"128\" x=\"363\" y=\"364\"/><text fill=\"#000000\" font-family=\"sans-serif\" font-size=\"12\" font-style=\"italic\" lengthAdjust=\"spacingAndGlyphs\" textLength=\"40\" x=\"407\" y=\"380.1387\">«part»</text><text fill=\"#000000\" font-family=\"sans-serif\" font-size=\"12\" lengthAdjust=\"spacingAndGlyphs\" textLength=\"118\" x=\"366\" y=\"394.1074\">alternative: Engine</text><line style=\"stroke: #A80036; stroke-width: 1.5;\" x1=\"364\" x2=\"490\" y1=\"401.9375\" y2=\"401.9375\"/></a><!--MD5=[fd4143e9d270a159db93a4ea2a975926]\n",
       "class E9--><a href=\"psysml:43a96bb2-d059-439d-9037-f3d1363e69c1\" target=\"_top\" title=\"psysml:43a96bb2-d059-439d-9037-f3d1363e69c1\" xlink:actuate=\"onRequest\" xlink:href=\"psysml:43a96bb2-d059-439d-9037-f3d1363e69c1\" xlink:show=\"new\" xlink:title=\"psysml:43a96bb2-d059-439d-9037-f3d1363e69c1\" xlink:type=\"simple\"><rect fill=\"#FEFECE\" filter=\"url(#f13ub3wyx5s0zd)\" height=\"45.9375\" id=\"E9\" rx=\"10\" ry=\"10\" style=\"stroke: #A80036; stroke-width: 1.5;\" width=\"182\" x=\"346\" y=\"241\"/><text fill=\"#000000\" font-family=\"sans-serif\" font-size=\"12\" font-style=\"italic\" lengthAdjust=\"spacingAndGlyphs\" textLength=\"40\" x=\"417\" y=\"257.1387\">«part»</text><text fill=\"#000000\" font-family=\"sans-serif\" font-size=\"12\" lengthAdjust=\"spacingAndGlyphs\" textLength=\"172\" x=\"349\" y=\"271.1074\">selectedAlternative: Engine</text><line style=\"stroke: #A80036; stroke-width: 1.5;\" x1=\"347\" x2=\"527\" y1=\"278.9375\" y2=\"278.9375\"/></a><!--MD5=[60a26617385b1d2d0262a64233df1f8d]\n",
       "class E6--><a href=\"psysml:6f716227-75fa-479d-851c-c6728be0ecaf\" target=\"_top\" title=\"psysml:6f716227-75fa-479d-851c-c6728be0ecaf\" xlink:actuate=\"onRequest\" xlink:href=\"psysml:6f716227-75fa-479d-851c-c6728be0ecaf\" xlink:show=\"new\" xlink:title=\"psysml:6f716227-75fa-479d-851c-c6728be0ecaf\" xlink:type=\"simple\"><rect fill=\"#FEFECE\" filter=\"url(#f13ub3wyx5s0zd)\" height=\"45.9375\" id=\"E6\" rx=\"10\" ry=\"10\" style=\"stroke: #A80036; stroke-width: 1.5;\" width=\"132\" x=\"281\" y=\"116\"/><text fill=\"#000000\" font-family=\"sans-serif\" font-size=\"12\" font-style=\"italic\" lengthAdjust=\"spacingAndGlyphs\" textLength=\"70\" x=\"312\" y=\"132.1387\">«objective»</text><text fill=\"#000000\" font-family=\"sans-serif\" font-size=\"12\" lengthAdjust=\"spacingAndGlyphs\" textLength=\"126\" x=\"284\" y=\"146.1074\">tradeStudyObjective</text><line style=\"stroke: #A80036; stroke-width: 1.5;\" x1=\"282\" x2=\"412\" y1=\"153.9375\" y2=\"153.9375\"/></a><!--MD5=[05d275557350bfb9b23a4ef7222b4c39]\n",
       "link E3 to E2--><a href=\"psysml:a3c7b902-deb2-42e0-bb2d-9591134be70d\" target=\"_top\" title=\"psysml:a3c7b902-deb2-42e0-bb2d-9591134be70d\" xlink:actuate=\"onRequest\" xlink:href=\"psysml:a3c7b902-deb2-42e0-bb2d-9591134be70d\" xlink:show=\"new\" xlink:title=\"psysml:a3c7b902-deb2-42e0-bb2d-9591134be70d\" xlink:type=\"simple\"><path d=\"M254.29,410.01 C265.74,423.08 280.57,440.01 293.86,455.17 \" fill=\"none\" id=\"E3-&gt;E2\" style=\"stroke: #A80036; stroke-width: 1.0;\"/><polygon fill=\"#FFFFFF\" points=\"307.42,470.66,289.6319,460.9861,300.1599,451.7578,307.42,470.66\" style=\"stroke: #A80036; stroke-width: 1.0;\"/><ellipse cx=\"287.3787\" cy=\"455.3814\" fill=\"#A80036\" rx=\"2\" ry=\"2\" style=\"stroke: #A80036; stroke-width: 1.0;\"/><ellipse cx=\"294.8987\" cy=\"448.7898\" fill=\"#A80036\" rx=\"2\" ry=\"2\" style=\"stroke: #A80036; stroke-width: 1.0;\"/></a><!--MD5=[185131fc0dcab0a4505a2ebe144e961b]\n",
       "link E4 to E2--><a href=\"psysml:ad9261f0-dda0-42b5-9d6e-43ebe8822407\" target=\"_top\" title=\"psysml:ad9261f0-dda0-42b5-9d6e-43ebe8822407\" xlink:actuate=\"onRequest\" xlink:href=\"psysml:ad9261f0-dda0-42b5-9d6e-43ebe8822407\" xlink:show=\"new\" xlink:title=\"psysml:ad9261f0-dda0-42b5-9d6e-43ebe8822407\" xlink:type=\"simple\"><path d=\"M138.1,410.01 C177.63,427.38 232.65,451.55 273.12,469.33 \" fill=\"none\" id=\"E4-&gt;E2\" style=\"stroke: #A80036; stroke-width: 1.0;\"/><polygon fill=\"#FFFFFF\" points=\"291.69,477.49,271.479,476.2594,277.1083,463.4411,291.69,477.49\" style=\"stroke: #A80036; stroke-width: 1.0;\"/><ellipse cx=\"267.0642\" cy=\"472.1363\" fill=\"#A80036\" rx=\"2\" ry=\"2\" style=\"stroke: #A80036; stroke-width: 1.0;\"/><ellipse cx=\"271.0852\" cy=\"462.9803\" fill=\"#A80036\" rx=\"2\" ry=\"2\" style=\"stroke: #A80036; stroke-width: 1.0;\"/></a><!--MD5=[15ebcb19ae302d9b601edb458606d402]\n",
       "link E5 to E2--><a href=\"psysml:b52cccfc-b130-477f-adae-4c6f859e452b\" target=\"_top\" title=\"psysml:b52cccfc-b130-477f-adae-4c6f859e452b\" xlink:actuate=\"onRequest\" xlink:href=\"psysml:b52cccfc-b130-477f-adae-4c6f859e452b\" xlink:show=\"new\" xlink:title=\"psysml:b52cccfc-b130-477f-adae-4c6f859e452b\" xlink:type=\"simple\"><path d=\"M237.7204,146.0763 C237.4768,146.2621 237.2287,146.4518 236.9763,146.6454 C235.9668,147.4197 234.8879,148.2561 233.748,149.1518 C231.4682,150.943 228.9441,152.9709 226.2406,155.2119 C215.4269,164.1756 201.745,176.5475 189.3625,190.8125 C164.5975,219.3425 145.03,255.445 164,287 C166.35,290.91 306.39,360.26 309,364 C329.99,394 331.63,437.66 330,465.69 \" fill=\"none\" id=\"E5-&gt;E2\" style=\"stroke: #A80036; stroke-width: 1.0; stroke-dasharray: 7.0,7.0;\"/><polygon fill=\"#A80036\" points=\"329.66,470.74,334.268,462.0356,330.003,465.7518,326.2869,461.4868,329.66,470.74\" style=\"stroke: #A80036; stroke-width: 1.0;\"/><text fill=\"#000000\" font-family=\"sans-serif\" font-size=\"13\" lengthAdjust=\"spacingAndGlyphs\" textLength=\"62\" x=\"253\" y=\"330.0669\">«subject»</text></a><!--MD5=[452b418e7f8a40397a49b8c0a78acc5b]\n",
       "reverse link E5 to E7--><a href=\"psysml:226717b4-0db0-47e0-9eef-bae3c4ff0509\" target=\"_top\" title=\"psysml:226717b4-0db0-47e0-9eef-bae3c4ff0509\" xlink:actuate=\"onRequest\" xlink:href=\"psysml:226717b4-0db0-47e0-9eef-bae3c4ff0509\" xlink:show=\"new\" xlink:title=\"psysml:226717b4-0db0-47e0-9eef-bae3c4ff0509\" xlink:type=\"simple\"><path d=\"M246,186.2997 C246,188.9655 246,191.6719 246,194.3971 C246,199.8476 246,205.3735 246,210.8005 C246,221.6544 246,232.1125 246,240.78 \" fill=\"none\" id=\"E5&lt;-E7\" style=\"stroke: #A80036; stroke-width: 1.0;\"/><polygon fill=\"#FFFFFF\" points=\"246,186.2997,242,192.2997,246,198.2997,250,192.2997,246,186.2997\" style=\"stroke: #A80036; stroke-width: 1.0;\"/></a><!--MD5=[dc164f5e8a733ab456ef1add180e9e34]\n",
       "reverse link E7 to E8--><a href=\"psysml:6f1f84a3-2ac1-458a-baf6-caa888cc195f\" target=\"_top\" title=\"psysml:6f1f84a3-2ac1-458a-baf6-caa888cc195f\" xlink:actuate=\"onRequest\" xlink:href=\"psysml:6f1f84a3-2ac1-458a-baf6-caa888cc195f\" xlink:show=\"new\" xlink:title=\"psysml:6f1f84a3-2ac1-458a-baf6-caa888cc195f\" xlink:type=\"simple\"><path d=\"M290.06,294.45 C322.12,315.89 364.86,344.46 394.01,363.95 \" fill=\"none\" id=\"E7&lt;-E8\" style=\"stroke: #A80036; stroke-width: 1.0;\"/><polygon fill=\"#FFFFFF\" points=\"279.2,287.19,281.9674,293.8489,289.1785,293.8555,286.4111,287.1966,279.2,287.19\" style=\"stroke: #A80036; stroke-width: 1.0;\"/><text fill=\"#000000\" font-family=\"sans-serif\" font-size=\"13\" lengthAdjust=\"spacingAndGlyphs\" textLength=\"8\" x=\"376.0689\" y=\"352.8328\">1</text></a><!--MD5=[f1f3f9f2fc535e6147756cb86a7f2e32]\n",
       "link E8 to E2--><a href=\"psysml:2bf4d1c6-7bac-40b1-aaaa-83952da67c38\" target=\"_top\" title=\"psysml:2bf4d1c6-7bac-40b1-aaaa-83952da67c38\" xlink:actuate=\"onRequest\" xlink:href=\"psysml:2bf4d1c6-7bac-40b1-aaaa-83952da67c38\" xlink:show=\"new\" xlink:title=\"psysml:2bf4d1c6-7bac-40b1-aaaa-83952da67c38\" xlink:type=\"simple\"><path d=\"M406.04,410.01 C393.32,423.36 376.77,440.74 362.11,456.14 \" fill=\"none\" id=\"E8-&gt;E2\" style=\"stroke: #A80036; stroke-width: 1.0;\"/><polygon fill=\"#FFFFFF\" points=\"348.28,470.66,356.3076,452.0708,366.4491,461.7223,348.28,470.66\" style=\"stroke: #A80036; stroke-width: 1.0;\"/><ellipse cx=\"361.6859\" cy=\"449.3206\" fill=\"#A80036\" rx=\"2\" ry=\"2\" style=\"stroke: #A80036; stroke-width: 1.0;\"/><ellipse cx=\"368.9298\" cy=\"456.2144\" fill=\"#A80036\" rx=\"2\" ry=\"2\" style=\"stroke: #A80036; stroke-width: 1.0;\"/></a><!--MD5=[9ae28de373ca99bb8a1b38d63370ca7e]\n",
       "reverse link E5 to E9--><a href=\"psysml:eedf805a-a406-401d-b38e-104ba6f0fce6\" target=\"_top\" title=\"psysml:eedf805a-a406-401d-b38e-104ba6f0fce6\" xlink:actuate=\"onRequest\" xlink:href=\"psysml:eedf805a-a406-401d-b38e-104ba6f0fce6\" xlink:show=\"new\" xlink:title=\"psysml:eedf805a-a406-401d-b38e-104ba6f0fce6\" xlink:type=\"simple\"><path d=\"M254.7949,186.3026 C254.8401,186.4038 254.8856,186.5049 254.9313,186.6059 C255.2966,187.4138 255.6769,188.215 256.0726,189.0077 C256.8641,190.5933 257.7176,192.1452 258.6379,193.6498 C260.4784,196.6589 262.5863,199.4788 265,202 C278.04,215.62 316.12,229.75 353.15,240.99 \" fill=\"none\" id=\"E5&lt;-E9\" style=\"stroke: #A80036; stroke-width: 1.0;\"/><polygon fill=\"#FFFFFF\" points=\"254.7949,186.3026,253.5901,193.4123,259.6895,197.259,260.8944,190.1493,254.7949,186.3026\" style=\"stroke: #A80036; stroke-width: 1.0;\"/><text fill=\"#000000\" font-family=\"sans-serif\" font-size=\"13\" lengthAdjust=\"spacingAndGlyphs\" textLength=\"8\" x=\"330.0508\" y=\"232.8298\">1</text></a><!--MD5=[5c3bb36fe832a92c7f0e1807dd65209d]\n",
       "link E9 to E2--><a href=\"psysml:3213573e-39ef-4dfb-813d-bdfb08b6e367\" target=\"_top\" title=\"psysml:3213573e-39ef-4dfb-813d-bdfb08b6e367\" xlink:actuate=\"onRequest\" xlink:href=\"psysml:3213573e-39ef-4dfb-813d-bdfb08b6e367\" xlink:show=\"new\" xlink:title=\"psysml:3213573e-39ef-4dfb-813d-bdfb08b6e367\" xlink:type=\"simple\"><path d=\"M462.31,287.19 C492.44,316.36 535.53,368.75 509,410 C481.16,453.3 424.53,474.29 381.79,484.28 \" fill=\"none\" id=\"E9-&gt;E2\" style=\"stroke: #A80036; stroke-width: 1.0;\"/><polygon fill=\"#FFFFFF\" points=\"362.12,488.35,379.3051,477.6415,382.1449,491.3505,362.12,488.35\" style=\"stroke: #A80036; stroke-width: 1.0;\"/><ellipse cx=\"385.2923\" cy=\"478.4438\" fill=\"#A80036\" rx=\"2\" ry=\"2\" style=\"stroke: #A80036; stroke-width: 1.0;\"/><ellipse cx=\"387.3207\" cy=\"488.2359\" fill=\"#A80036\" rx=\"2\" ry=\"2\" style=\"stroke: #A80036; stroke-width: 1.0;\"/></a><!--MD5=[495bd6e4c959a081b758404d8f40c287]\n",
       "@startuml\r\n",
       "skinparam wrapWidth 300\r\n",
       "hide circle\r\n",
       "\r\n",
       "package \"TradeStudyTest\" as E1  [[psysml:06d75114-8d09-4304-b9ac-1031eaaad748 ]]  {\r\n",
       "comp def \"Engine\" as E2  <<(T,blue) part  def>> [[psysml:377b66bc-6410-4386-a0f5-58eac70f1599 ]] {\r\n",
       "}\r\n",
       "comp usage \"engine1: Engine \" as E3  <<(T,blue) part>> [[psysml:b73c7ebb-9472-45c7-822b-647f60ba4ebd ]] {\r\n",
       "}\r\n",
       "comp usage \"engine2: Engine \" as E4  <<(T,blue) part>> [[psysml:383bc22a-19f8-4697-ba31-98dbfb8a50a3 ]] {\r\n",
       "}\r\n",
       "rec usage \"engineTradeStudy\" as E5 << analysis>> [[psysml:a2c4dab4-2ddb-42af-80d6-b11f423fabe1 ]] {\r\n",
       "comp usage \"tradeStudyObjective\" as E6  <<objective>> [[psysml:6f716227-75fa-479d-851c-c6728be0ecaf ]] {\r\n",
       "}\r\n",
       "}\r\n",
       "comp usage \"evaluationFunction \" as E7  <<(T,blue) calculation>> [[psysml:e59262b2-24eb-419d-a794-3b71c7229dcc ]] {\r\n",
       "}\r\n",
       "comp usage \"alternative: Engine \" as E8  <<(T,blue) part>> [[psysml:83f46fb2-5a48-4342-a61e-b1e9a3952716 ]] {\r\n",
       "}\r\n",
       "comp usage \"selectedAlternative: Engine \" as E9  <<(T,blue) part>> [[psysml:43a96bb2-d059-439d-9037-f3d1363e69c1 ]] {\r\n",
       "}\r\n",
       "}\r\n",
       "E3 - -:|> E2 [[psysml:a3c7b902-deb2-42e0-bb2d-9591134be70d ]] \r\n",
       "E4 - -:|> E2 [[psysml:ad9261f0-dda0-42b5-9d6e-43ebe8822407 ]] \r\n",
       "E5 ..> E2 [[psysml:b52cccfc-b130-477f-adae-4c6f859e452b ]] : <<subject>>\r\n",
       "E5 o- - E7 [[psysml:226717b4-0db0-47e0-9eef-bae3c4ff0509 ]] \r\n",
       "E7 o- - \"1\"E8 [[psysml:6f1f84a3-2ac1-458a-baf6-caa888cc195f ]] \r\n",
       "E8 - -:|> E2 [[psysml:2bf4d1c6-7bac-40b1-aaaa-83952da67c38 ]] \r\n",
       "E5 o- - \"1\"E9 [[psysml:eedf805a-a406-401d-b38e-104ba6f0fce6 ]] \r\n",
       "E9 - -:|> E2 [[psysml:3213573e-39ef-4dfb-813d-bdfb08b6e367 ]] \r\n",
       "@enduml\r\n",
       "\n",
       "PlantUML version 1.2020.13(Sat Jun 13 12:26:38 UTC 2020)\n",
       "(EPL source distribution)\n",
       "Java Runtime: OpenJDK Runtime Environment\n",
       "JVM: OpenJDK 64-Bit Server VM\n",
       "Default Encoding: UTF-8\n",
       "Language: en\n",
       "Country: null\n",
       "--></g></svg>"
      ]
     },
     "execution_count": 29,
     "metadata": {},
     "output_type": "execute_result"
    }
   ],
   "source": [
    "%viz --style=\"STDCOLOR\" --view=\"MIXED\" \"TradeStudyTest\""
   ]
  },
  {
   "cell_type": "code",
   "execution_count": 30,
   "id": "37527fee",
   "metadata": {
    "execution": {
     "iopub.execute_input": "2022-08-19T08:21:17.253743Z",
     "iopub.status.busy": "2022-08-19T08:21:17.253299Z",
     "iopub.status.idle": "2022-08-19T08:21:17.324524Z",
     "shell.execute_reply": "2022-08-19T08:21:17.322901Z"
    }
   },
   "outputs": [
    {
     "data": {
      "image/svg+xml": [
       "<?xml version=\"1.0\" encoding=\"UTF-8\" standalone=\"no\"?><svg xmlns=\"http://www.w3.org/2000/svg\" xmlns:xlink=\"http://www.w3.org/1999/xlink\" contentScriptType=\"application/ecmascript\" contentStyleType=\"text/css\" height=\"539px\" preserveAspectRatio=\"none\" style=\"width:644px;height:539px;\" version=\"1.1\" viewBox=\"0 0 644 539\" width=\"644px\" zoomAndPan=\"magnify\"><defs><filter height=\"300%\" id=\"fcb2sbui9mvu\" width=\"300%\" x=\"-1\" y=\"-1\"><feGaussianBlur result=\"blurOut\" stdDeviation=\"2.0\"/><feColorMatrix in=\"blurOut\" result=\"blurOut2\" type=\"matrix\" values=\"0 0 0 0 0 0 0 0 0 0 0 0 0 0 0 0 0 0 .4 0\"/><feOffset dx=\"4.0\" dy=\"4.0\" in=\"blurOut2\" result=\"blurOut3\"/><feBlend in=\"SourceGraphic\" in2=\"blurOut3\" mode=\"normal\"/></filter></defs><g><!--MD5=[fbc87193dbaf4d95561dea2c320d4a47]\n",
       "cluster E1--><a href=\"psysml:06d75114-8d09-4304-b9ac-1031eaaad748\" target=\"_top\" title=\"psysml:06d75114-8d09-4304-b9ac-1031eaaad748\" xlink:actuate=\"onRequest\" xlink:href=\"psysml:06d75114-8d09-4304-b9ac-1031eaaad748\" xlink:show=\"new\" xlink:title=\"psysml:06d75114-8d09-4304-b9ac-1031eaaad748\" xlink:type=\"simple\"><polygon fill=\"#FFFFFF\" filter=\"url(#fcb2sbui9mvu)\" points=\"16,6,132,6,139,28.2969,622,28.2969,622,527,16,527,16,6\" style=\"stroke: #000000; stroke-width: 1.5;\"/><line style=\"stroke: #000000; stroke-width: 1.5;\" x1=\"16\" x2=\"139\" y1=\"28.2969\" y2=\"28.2969\"/><text fill=\"#000000\" font-family=\"sans-serif\" font-size=\"14\" font-weight=\"bold\" lengthAdjust=\"spacingAndGlyphs\" textLength=\"110\" x=\"20\" y=\"20.9951\">TradeStudyTest</text></a><!--MD5=[de5ec2e2e8f62f467e546659f5068c88]\n",
       "cluster E5--><a href=\"psysml:a2c4dab4-2ddb-42af-80d6-b11f423fabe1\" target=\"_top\" title=\"psysml:a2c4dab4-2ddb-42af-80d6-b11f423fabe1\" xlink:actuate=\"onRequest\" xlink:href=\"psysml:a2c4dab4-2ddb-42af-80d6-b11f423fabe1\" xlink:show=\"new\" xlink:title=\"psysml:a2c4dab4-2ddb-42af-80d6-b11f423fabe1\" xlink:type=\"simple\"><rect fill=\"#FFFFFF\" filter=\"url(#fcb2sbui9mvu)\" height=\"129\" id=\"E5\" rx=\"10\" ry=\"10\" style=\"stroke: #A80036; stroke-width: 1.5;\" width=\"225\" x=\"277\" y=\"57\"/><rect fill=\"#FEFECE\" height=\"37.9375\" rx=\"10\" ry=\"10\" style=\"stroke: #FEFECE; stroke-width: 1.5;\" width=\"225\" x=\"277\" y=\"57\"/><rect fill=\"#FEFECE\" height=\"10\" style=\"stroke: #FEFECE; stroke-width: 1.5;\" width=\"225\" x=\"277\" y=\"84.9375\"/><rect fill=\"none\" height=\"129\" id=\"E5\" rx=\"10\" ry=\"10\" style=\"stroke: #A80036; stroke-width: 1.5;\" width=\"225\" x=\"277\" y=\"57\"/><text fill=\"#000000\" font-family=\"sans-serif\" font-size=\"12\" font-style=\"italic\" lengthAdjust=\"spacingAndGlyphs\" textLength=\"64\" x=\"357.5\" y=\"73.1387\">«analysis»</text><text fill=\"#000000\" font-family=\"sans-serif\" font-size=\"12\" lengthAdjust=\"spacingAndGlyphs\" textLength=\"114\" x=\"332.5\" y=\"87.1074\">engineTradeStudy</text><line style=\"stroke: #A80036; stroke-width: 1.0;\" x1=\"277\" x2=\"502\" y1=\"94.9375\" y2=\"94.9375\"/></a><!--MD5=[b4997ac47864f28c2f74865a473b2911]\n",
       "class E2--><a href=\"psysml:377b66bc-6410-4386-a0f5-58eac70f1599\" target=\"_top\" title=\"psysml:377b66bc-6410-4386-a0f5-58eac70f1599\" xlink:actuate=\"onRequest\" xlink:href=\"psysml:377b66bc-6410-4386-a0f5-58eac70f1599\" xlink:show=\"new\" xlink:title=\"psysml:377b66bc-6410-4386-a0f5-58eac70f1599\" xlink:type=\"simple\"><rect fill=\"#FEFECE\" filter=\"url(#fcb2sbui9mvu)\" height=\"40\" id=\"E2\" style=\"stroke: #A80036; stroke-width: 1.5;\" width=\"75\" x=\"341.5\" y=\"471\"/><ellipse cx=\"356.5\" cy=\"487\" fill=\"#008000\" rx=\"11\" ry=\"11\" style=\"stroke: #A80036; stroke-width: 1.0;\"/><path d=\"M353.375,492 L353.375,481.4063 L356.6094,481.4063 Q358.5156,481.4063 359.4219,482.1563 Q360.3438,482.9063 360.3438,484.0781 Q360.3438,484.7656 359.9531,485.4219 Q359.5781,486.0781 358.8594,486.375 Q359.7188,486.75 360.2344,487.4375 Q360.75,488.125 360.75,488.9375 Q360.75,490.3125 359.7188,491.1563 Q358.7031,492 356.5938,492 L353.375,492 Z M355.2969,485.6406 L356.4531,485.6406 Q357.5781,485.6406 357.9844,485.2656 Q358.4063,484.875 358.4063,484.25 Q358.4063,483.6719 357.9844,483.3125 Q357.5625,482.9531 356.625,482.9531 L355.2969,482.9531 L355.2969,485.6406 Z M355.2969,490.4219 L356.7969,490.4219 Q357.7031,490.4219 358.2344,490.0313 Q358.7656,489.6406 358.7656,488.8906 Q358.7656,488.125 358.2656,487.6563 Q357.7656,487.1719 356.5,487.1719 L355.2969,487.1719 L355.2969,490.4219 Z \"/><text fill=\"#000000\" font-family=\"sans-serif\" font-size=\"12\" lengthAdjust=\"spacingAndGlyphs\" textLength=\"43\" x=\"370.5\" y=\"491.1543\">Engine</text><line style=\"stroke: #A80036; stroke-width: 1.5;\" x1=\"342.5\" x2=\"415.5\" y1=\"503\" y2=\"503\"/></a><!--MD5=[09b614a08d8cba4a07c9adeb5e0fee81]\n",
       "class E3--><a href=\"psysml:b73c7ebb-9472-45c7-822b-647f60ba4ebd\" target=\"_top\" title=\"psysml:b73c7ebb-9472-45c7-822b-647f60ba4ebd\" xlink:actuate=\"onRequest\" xlink:href=\"psysml:b73c7ebb-9472-45c7-822b-647f60ba4ebd\" xlink:show=\"new\" xlink:title=\"psysml:b73c7ebb-9472-45c7-822b-647f60ba4ebd\" xlink:type=\"simple\"><rect fill=\"#FEFECE\" filter=\"url(#fcb2sbui9mvu)\" height=\"45.9375\" id=\"E3\" rx=\"10\" ry=\"10\" style=\"stroke: #A80036; stroke-width: 1.5;\" width=\"138\" x=\"205\" y=\"364\"/><ellipse cx=\"220\" cy=\"382.9688\" fill=\"#32CD32\" rx=\"11\" ry=\"11\" style=\"stroke: #A80036; stroke-width: 1.0;\"/><path d=\"M216.8125,387.9688 L216.8125,377.375 L220.4219,377.375 Q221.6406,377.375 222.4375,377.8125 Q223.2344,378.2344 223.6094,378.9375 Q224,379.6406 224,380.4844 Q224,381.3281 223.625,382.0156 Q223.2656,382.7031 222.4688,383.125 Q221.6875,383.5313 220.5,383.5313 L218.7656,383.5313 L218.7656,387.9688 L216.8125,387.9688 Z M218.7656,381.9375 L220.375,381.9375 Q221.1875,381.9375 221.6094,381.5313 Q222.0313,381.125 222.0313,380.4844 Q222.0313,379.8594 221.6094,379.4531 Q221.1875,379.0469 220.3906,379.0469 L218.7656,379.0469 L218.7656,381.9375 Z \"/><text fill=\"#000000\" font-family=\"sans-serif\" font-size=\"12\" font-style=\"italic\" lengthAdjust=\"spacingAndGlyphs\" textLength=\"40\" x=\"267\" y=\"380.1387\">«part»</text><text fill=\"#000000\" font-family=\"sans-serif\" font-size=\"12\" lengthAdjust=\"spacingAndGlyphs\" textLength=\"102\" x=\"234\" y=\"394.1074\">engine1: Engine</text><line style=\"stroke: #A80036; stroke-width: 1.5;\" x1=\"206\" x2=\"342\" y1=\"401.9375\" y2=\"401.9375\"/></a><!--MD5=[ebbe1d658d1005bcc118a6aa81145e00]\n",
       "class E4--><a href=\"psysml:383bc22a-19f8-4697-ba31-98dbfb8a50a3\" target=\"_top\" title=\"psysml:383bc22a-19f8-4697-ba31-98dbfb8a50a3\" xlink:actuate=\"onRequest\" xlink:href=\"psysml:383bc22a-19f8-4697-ba31-98dbfb8a50a3\" xlink:show=\"new\" xlink:title=\"psysml:383bc22a-19f8-4697-ba31-98dbfb8a50a3\" xlink:type=\"simple\"><rect fill=\"#FEFECE\" filter=\"url(#fcb2sbui9mvu)\" height=\"45.9375\" id=\"E4\" rx=\"10\" ry=\"10\" style=\"stroke: #A80036; stroke-width: 1.5;\" width=\"138\" x=\"32\" y=\"364\"/><ellipse cx=\"47\" cy=\"382.9688\" fill=\"#32CD32\" rx=\"11\" ry=\"11\" style=\"stroke: #A80036; stroke-width: 1.0;\"/><path d=\"M43.8125,387.9688 L43.8125,377.375 L47.4219,377.375 Q48.6406,377.375 49.4375,377.8125 Q50.2344,378.2344 50.6094,378.9375 Q51,379.6406 51,380.4844 Q51,381.3281 50.625,382.0156 Q50.2656,382.7031 49.4688,383.125 Q48.6875,383.5313 47.5,383.5313 L45.7656,383.5313 L45.7656,387.9688 L43.8125,387.9688 Z M45.7656,381.9375 L47.375,381.9375 Q48.1875,381.9375 48.6094,381.5313 Q49.0313,381.125 49.0313,380.4844 Q49.0313,379.8594 48.6094,379.4531 Q48.1875,379.0469 47.3906,379.0469 L45.7656,379.0469 L45.7656,381.9375 Z \"/><text fill=\"#000000\" font-family=\"sans-serif\" font-size=\"12\" font-style=\"italic\" lengthAdjust=\"spacingAndGlyphs\" textLength=\"40\" x=\"94\" y=\"380.1387\">«part»</text><text fill=\"#000000\" font-family=\"sans-serif\" font-size=\"12\" lengthAdjust=\"spacingAndGlyphs\" textLength=\"102\" x=\"61\" y=\"394.1074\">engine2: Engine</text><line style=\"stroke: #A80036; stroke-width: 1.5;\" x1=\"33\" x2=\"169\" y1=\"401.9375\" y2=\"401.9375\"/></a><!--MD5=[2156ba9850f5573cc1fc38a6a4b2f02b]\n",
       "class E7--><a href=\"psysml:e59262b2-24eb-419d-a794-3b71c7229dcc\" target=\"_top\" title=\"psysml:e59262b2-24eb-419d-a794-3b71c7229dcc\" xlink:actuate=\"onRequest\" xlink:href=\"psysml:e59262b2-24eb-419d-a794-3b71c7229dcc\" xlink:show=\"new\" xlink:title=\"psysml:e59262b2-24eb-419d-a794-3b71c7229dcc\" xlink:type=\"simple\"><rect fill=\"#FEFECE\" filter=\"url(#fcb2sbui9mvu)\" height=\"45.9375\" id=\"E7\" rx=\"10\" ry=\"10\" style=\"stroke: #A80036; stroke-width: 1.5;\" width=\"155\" x=\"207.5\" y=\"241\"/><ellipse cx=\"222.5\" cy=\"259.9688\" fill=\"#FFA500\" rx=\"11\" ry=\"11\" style=\"stroke: #A80036; stroke-width: 1.0;\"/><path d=\"M222.25,265.4375 Q220.5,265.4375 219.5469,264.4063 Q218.6094,263.3594 218.6094,261.5156 L218.6094,254.625 L220.6719,254.625 L220.6719,254.7813 Q220.5781,254.875 220.5469,255.0156 Q220.5313,255.1406 220.5313,255.4063 L220.5313,261.5313 Q220.5313,262.625 220.9063,263.25 Q221.2813,263.875 222.2656,263.875 Q223.25,263.875 223.6406,263.25 Q224.0313,262.625 224.0313,261.4844 L224.0313,254.625 L225.9063,254.625 L225.9063,261.4688 Q225.9063,263.5 224.875,264.4688 Q223.8594,265.4375 222.25,265.4375 Z \"/><text fill=\"#000000\" font-family=\"sans-serif\" font-size=\"12\" font-style=\"italic\" lengthAdjust=\"spacingAndGlyphs\" textLength=\"82\" x=\"257\" y=\"257.1387\">«calculation»</text><text fill=\"#000000\" font-family=\"sans-serif\" font-size=\"12\" lengthAdjust=\"spacingAndGlyphs\" textLength=\"119\" x=\"236.5\" y=\"271.1074\">evaluationFunction</text><line style=\"stroke: #A80036; stroke-width: 1.5;\" x1=\"208.5\" x2=\"361.5\" y1=\"278.9375\" y2=\"278.9375\"/></a><!--MD5=[b9389687b975829384b498ac4b7476b2]\n",
       "class E8--><a href=\"psysml:83f46fb2-5a48-4342-a61e-b1e9a3952716\" target=\"_top\" title=\"psysml:83f46fb2-5a48-4342-a61e-b1e9a3952716\" xlink:actuate=\"onRequest\" xlink:href=\"psysml:83f46fb2-5a48-4342-a61e-b1e9a3952716\" xlink:show=\"new\" xlink:title=\"psysml:83f46fb2-5a48-4342-a61e-b1e9a3952716\" xlink:type=\"simple\"><rect fill=\"#FEFECE\" filter=\"url(#fcb2sbui9mvu)\" height=\"45.9375\" id=\"E8\" rx=\"10\" ry=\"10\" style=\"stroke: #A80036; stroke-width: 1.5;\" width=\"154\" x=\"415\" y=\"364\"/><ellipse cx=\"430\" cy=\"382.9688\" fill=\"#32CD32\" rx=\"11\" ry=\"11\" style=\"stroke: #A80036; stroke-width: 1.0;\"/><path d=\"M426.8125,387.9688 L426.8125,377.375 L430.4219,377.375 Q431.6406,377.375 432.4375,377.8125 Q433.2344,378.2344 433.6094,378.9375 Q434,379.6406 434,380.4844 Q434,381.3281 433.625,382.0156 Q433.2656,382.7031 432.4688,383.125 Q431.6875,383.5313 430.5,383.5313 L428.7656,383.5313 L428.7656,387.9688 L426.8125,387.9688 Z M428.7656,381.9375 L430.375,381.9375 Q431.1875,381.9375 431.6094,381.5313 Q432.0313,381.125 432.0313,380.4844 Q432.0313,379.8594 431.6094,379.4531 Q431.1875,379.0469 430.3906,379.0469 L428.7656,379.0469 L428.7656,381.9375 Z \"/><text fill=\"#000000\" font-family=\"sans-serif\" font-size=\"12\" font-style=\"italic\" lengthAdjust=\"spacingAndGlyphs\" textLength=\"40\" x=\"485\" y=\"380.1387\">«part»</text><text fill=\"#000000\" font-family=\"sans-serif\" font-size=\"12\" lengthAdjust=\"spacingAndGlyphs\" textLength=\"118\" x=\"444\" y=\"394.1074\">alternative: Engine</text><line style=\"stroke: #A80036; stroke-width: 1.5;\" x1=\"416\" x2=\"568\" y1=\"401.9375\" y2=\"401.9375\"/></a><!--MD5=[fd4143e9d270a159db93a4ea2a975926]\n",
       "class E9--><a href=\"psysml:43a96bb2-d059-439d-9037-f3d1363e69c1\" target=\"_top\" title=\"psysml:43a96bb2-d059-439d-9037-f3d1363e69c1\" xlink:actuate=\"onRequest\" xlink:href=\"psysml:43a96bb2-d059-439d-9037-f3d1363e69c1\" xlink:show=\"new\" xlink:title=\"psysml:43a96bb2-d059-439d-9037-f3d1363e69c1\" xlink:type=\"simple\"><rect fill=\"#FEFECE\" filter=\"url(#fcb2sbui9mvu)\" height=\"45.9375\" id=\"E9\" rx=\"10\" ry=\"10\" style=\"stroke: #A80036; stroke-width: 1.5;\" width=\"208\" x=\"398\" y=\"241\"/><ellipse cx=\"413\" cy=\"259.9688\" fill=\"#32CD32\" rx=\"11\" ry=\"11\" style=\"stroke: #A80036; stroke-width: 1.0;\"/><path d=\"M409.8125,264.9688 L409.8125,254.375 L413.4219,254.375 Q414.6406,254.375 415.4375,254.8125 Q416.2344,255.2344 416.6094,255.9375 Q417,256.6406 417,257.4844 Q417,258.3281 416.625,259.0156 Q416.2656,259.7031 415.4688,260.125 Q414.6875,260.5313 413.5,260.5313 L411.7656,260.5313 L411.7656,264.9688 L409.8125,264.9688 Z M411.7656,258.9375 L413.375,258.9375 Q414.1875,258.9375 414.6094,258.5313 Q415.0313,258.125 415.0313,257.4844 Q415.0313,256.8594 414.6094,256.4531 Q414.1875,256.0469 413.3906,256.0469 L411.7656,256.0469 L411.7656,258.9375 Z \"/><text fill=\"#000000\" font-family=\"sans-serif\" font-size=\"12\" font-style=\"italic\" lengthAdjust=\"spacingAndGlyphs\" textLength=\"40\" x=\"495\" y=\"257.1387\">«part»</text><text fill=\"#000000\" font-family=\"sans-serif\" font-size=\"12\" lengthAdjust=\"spacingAndGlyphs\" textLength=\"172\" x=\"427\" y=\"271.1074\">selectedAlternative: Engine</text><line style=\"stroke: #A80036; stroke-width: 1.5;\" x1=\"399\" x2=\"605\" y1=\"278.9375\" y2=\"278.9375\"/></a><!--MD5=[60a26617385b1d2d0262a64233df1f8d]\n",
       "class E6--><a href=\"psysml:6f716227-75fa-479d-851c-c6728be0ecaf\" target=\"_top\" title=\"psysml:6f716227-75fa-479d-851c-c6728be0ecaf\" xlink:actuate=\"onRequest\" xlink:href=\"psysml:6f716227-75fa-479d-851c-c6728be0ecaf\" xlink:show=\"new\" xlink:title=\"psysml:6f716227-75fa-479d-851c-c6728be0ecaf\" xlink:type=\"simple\"><rect fill=\"#FEFECE\" filter=\"url(#fcb2sbui9mvu)\" height=\"45.9375\" id=\"E6\" rx=\"10\" ry=\"10\" style=\"stroke: #A80036; stroke-width: 1.5;\" width=\"158\" x=\"320\" y=\"116\"/><ellipse cx=\"335\" cy=\"134.9688\" fill=\"#B6DBBB\" rx=\"11\" ry=\"11\" style=\"stroke: #A80036; stroke-width: 1.0;\"/><path d=\"M334.75,140.4375 Q333,140.4375 332.0469,139.4063 Q331.1094,138.3594 331.1094,136.5156 L331.1094,129.625 L333.1719,129.625 L333.1719,129.7813 Q333.0781,129.875 333.0469,130.0156 Q333.0313,130.1406 333.0313,130.4063 L333.0313,136.5313 Q333.0313,137.625 333.4063,138.25 Q333.7813,138.875 334.7656,138.875 Q335.75,138.875 336.1406,138.25 Q336.5313,137.625 336.5313,136.4844 L336.5313,129.625 L338.4063,129.625 L338.4063,136.4688 Q338.4063,138.5 337.375,139.4688 Q336.3594,140.4375 334.75,140.4375 Z \"/><text fill=\"#000000\" font-family=\"sans-serif\" font-size=\"12\" font-style=\"italic\" lengthAdjust=\"spacingAndGlyphs\" textLength=\"70\" x=\"377\" y=\"132.1387\">«objective»</text><text fill=\"#000000\" font-family=\"sans-serif\" font-size=\"12\" lengthAdjust=\"spacingAndGlyphs\" textLength=\"126\" x=\"349\" y=\"146.1074\">tradeStudyObjective</text><line style=\"stroke: #A80036; stroke-width: 1.5;\" x1=\"321\" x2=\"477\" y1=\"153.9375\" y2=\"153.9375\"/></a><!--MD5=[05d275557350bfb9b23a4ef7222b4c39]\n",
       "link E3 to E2--><a href=\"psysml:a3c7b902-deb2-42e0-bb2d-9591134be70d\" target=\"_top\" title=\"psysml:a3c7b902-deb2-42e0-bb2d-9591134be70d\" xlink:actuate=\"onRequest\" xlink:href=\"psysml:a3c7b902-deb2-42e0-bb2d-9591134be70d\" xlink:show=\"new\" xlink:title=\"psysml:a3c7b902-deb2-42e0-bb2d-9591134be70d\" xlink:type=\"simple\"><path d=\"M296.78,410.13 C310.81,423.76 329.05,441.47 344.78,456.76 \" fill=\"none\" id=\"E3-&gt;E2\" style=\"stroke: #A80036; stroke-width: 1.0;\"/><polygon fill=\"#FFFFFF\" points=\"359.44,471,340.9371,462.7755,350.6956,452.737,359.44,471\" style=\"stroke: #A80036; stroke-width: 1.0;\"/><ellipse cx=\"338.2441\" cy=\"457.3683\" fill=\"#A80036\" rx=\"2\" ry=\"2\" style=\"stroke: #A80036; stroke-width: 1.0;\"/><ellipse cx=\"345.2144\" cy=\"450.198\" fill=\"#A80036\" rx=\"2\" ry=\"2\" style=\"stroke: #A80036; stroke-width: 1.0;\"/></a><!--MD5=[185131fc0dcab0a4505a2ebe144e961b]\n",
       "link E4 to E2--><a href=\"psysml:ad9261f0-dda0-42b5-9d6e-43ebe8822407\" target=\"_top\" title=\"psysml:ad9261f0-dda0-42b5-9d6e-43ebe8822407\" xlink:actuate=\"onRequest\" xlink:href=\"psysml:ad9261f0-dda0-42b5-9d6e-43ebe8822407\" xlink:show=\"new\" xlink:title=\"psysml:ad9261f0-dda0-42b5-9d6e-43ebe8822407\" xlink:type=\"simple\"><path d=\"M160.98,410.01 C208.88,427.58 275.54,452.04 322.51,469.27 \" fill=\"none\" id=\"E4-&gt;E2\" style=\"stroke: #A80036; stroke-width: 1.0;\"/><polygon fill=\"#FFFFFF\" points=\"341.32,476.17,321.0716,476.2036,325.8897,463.0588,341.32,476.17\" style=\"stroke: #A80036; stroke-width: 1.0;\"/><ellipse cx=\"316.4081\" cy=\"472.3641\" fill=\"#A80036\" rx=\"2\" ry=\"2\" style=\"stroke: #A80036; stroke-width: 1.0;\"/><ellipse cx=\"319.8496\" cy=\"462.9749\" fill=\"#A80036\" rx=\"2\" ry=\"2\" style=\"stroke: #A80036; stroke-width: 1.0;\"/></a><!--MD5=[15ebcb19ae302d9b601edb458606d402]\n",
       "link E5 to E2--><a href=\"psysml:b52cccfc-b130-477f-adae-4c6f859e452b\" target=\"_top\" title=\"psysml:b52cccfc-b130-477f-adae-4c6f859e452b\" xlink:actuate=\"onRequest\" xlink:href=\"psysml:b52cccfc-b130-477f-adae-4c6f859e452b\" xlink:show=\"new\" xlink:title=\"psysml:b52cccfc-b130-477f-adae-4c6f859e452b\" xlink:type=\"simple\"><path d=\"M276.7856,145.1967 C276.6545,145.2825 276.5222,145.3694 276.3885,145.4572 C275.8538,145.8084 275.2982,146.1754 274.7228,146.5578 C273.5721,147.3226 272.3422,148.149 271.0425,149.0341 C268.4431,150.8042 265.5642,152.8092 262.4795,155.0263 C250.1409,163.8944 234.5106,176.155 220.3087,190.3475 C191.905,218.7325 169.215,254.845 190,287 C212.62,322 335.95,330.69 361,364 C383.16,393.47 384.08,438.06 382.03,465.53 \" fill=\"none\" id=\"E5-&gt;E2\" style=\"stroke: #A80036; stroke-width: 1.0; stroke-dasharray: 7.0,7.0;\"/><polygon fill=\"#A80036\" points=\"381.59,470.79,386.3482,462.1668,382.0194,465.8085,378.3778,461.4797,381.59,470.79\" style=\"stroke: #A80036; stroke-width: 1.0;\"/><text fill=\"#000000\" font-family=\"sans-serif\" font-size=\"13\" lengthAdjust=\"spacingAndGlyphs\" textLength=\"62\" x=\"301\" y=\"330.0669\">«subject»</text></a><!--MD5=[452b418e7f8a40397a49b8c0a78acc5b]\n",
       "reverse link E5 to E7--><a href=\"psysml:226717b4-0db0-47e0-9eef-bae3c4ff0509\" target=\"_top\" title=\"psysml:226717b4-0db0-47e0-9eef-bae3c4ff0509\" xlink:actuate=\"onRequest\" xlink:href=\"psysml:226717b4-0db0-47e0-9eef-bae3c4ff0509\" xlink:show=\"new\" xlink:title=\"psysml:226717b4-0db0-47e0-9eef-bae3c4ff0509\" xlink:type=\"simple\"><path d=\"M285,186.2997 C285,188.9655 285,191.6719 285,194.3971 C285,199.8476 285,205.3735 285,210.8005 C285,221.6544 285,232.1125 285,240.78 \" fill=\"none\" id=\"E5&lt;-E7\" style=\"stroke: #A80036; stroke-width: 1.0;\"/><polygon fill=\"#FFFFFF\" points=\"285,186.2997,281,192.2997,285,198.2997,289,192.2997,285,186.2997\" style=\"stroke: #A80036; stroke-width: 1.0;\"/></a><!--MD5=[dc164f5e8a733ab456ef1add180e9e34]\n",
       "reverse link E7 to E8--><a href=\"psysml:6f1f84a3-2ac1-458a-baf6-caa888cc195f\" target=\"_top\" title=\"psysml:6f1f84a3-2ac1-458a-baf6-caa888cc195f\" xlink:actuate=\"onRequest\" xlink:href=\"psysml:6f1f84a3-2ac1-458a-baf6-caa888cc195f\" xlink:show=\"new\" xlink:title=\"psysml:6f1f84a3-2ac1-458a-baf6-caa888cc195f\" xlink:type=\"simple\"><path d=\"M334.43,293.89 C371.2,315.39 420.65,344.29 454.27,363.95 \" fill=\"none\" id=\"E7&lt;-E8\" style=\"stroke: #A80036; stroke-width: 1.0;\"/><polygon fill=\"#FFFFFF\" points=\"322.97,287.19,326.1244,293.6746,333.3234,293.2569,330.169,286.7723,322.97,287.19\" style=\"stroke: #A80036; stroke-width: 1.0;\"/><text fill=\"#000000\" font-family=\"sans-serif\" font-size=\"13\" lengthAdjust=\"spacingAndGlyphs\" textLength=\"8\" x=\"435.0551\" y=\"352.8328\">1</text></a><!--MD5=[f1f3f9f2fc535e6147756cb86a7f2e32]\n",
       "link E8 to E2--><a href=\"psysml:2bf4d1c6-7bac-40b1-aaaa-83952da67c38\" target=\"_top\" title=\"psysml:2bf4d1c6-7bac-40b1-aaaa-83952da67c38\" xlink:actuate=\"onRequest\" xlink:href=\"psysml:2bf4d1c6-7bac-40b1-aaaa-83952da67c38\" xlink:show=\"new\" xlink:title=\"psysml:2bf4d1c6-7bac-40b1-aaaa-83952da67c38\" xlink:type=\"simple\"><path d=\"M467.48,410.13 C452.15,423.97 432.14,442.03 415.03,457.48 \" fill=\"none\" id=\"E8-&gt;E2\" style=\"stroke: #A80036; stroke-width: 1.0;\"/><polygon fill=\"#FFFFFF\" points=\"400.05,471,409.4622,453.0721,418.8438,463.4638,400.05,471\" style=\"stroke: #A80036; stroke-width: 1.0;\"/><ellipse cx=\"415.0334\" cy=\"450.737\" fill=\"#A80036\" rx=\"2\" ry=\"2\" style=\"stroke: #A80036; stroke-width: 1.0;\"/><ellipse cx=\"421.7344\" cy=\"458.1596\" fill=\"#A80036\" rx=\"2\" ry=\"2\" style=\"stroke: #A80036; stroke-width: 1.0;\"/></a><!--MD5=[9ae28de373ca99bb8a1b38d63370ca7e]\n",
       "reverse link E5 to E9--><a href=\"psysml:eedf805a-a406-401d-b38e-104ba6f0fce6\" target=\"_top\" title=\"psysml:eedf805a-a406-401d-b38e-104ba6f0fce6\" xlink:actuate=\"onRequest\" xlink:href=\"psysml:eedf805a-a406-401d-b38e-104ba6f0fce6\" xlink:show=\"new\" xlink:title=\"psysml:eedf805a-a406-401d-b38e-104ba6f0fce6\" xlink:type=\"simple\"><path d=\"M293.4869,186.169 C293.5772,186.3709 293.6685,186.5724 293.7608,186.7735 C294.1299,187.5776 294.5144,188.3746 294.9149,189.1626 C295.7161,190.7385 296.5816,192.2785 297.5165,193.7687 C299.3863,196.7491 301.5338,199.53 304,202 C318.52,216.54 359.51,230.25 400.46,240.98 \" fill=\"none\" id=\"E5&lt;-E9\" style=\"stroke: #A80036; stroke-width: 1.0;\"/><polygon fill=\"#FFFFFF\" points=\"293.4869,186.169,292.2862,193.2794,298.3879,197.1225,299.5886,190.0121,293.4869,186.169\" style=\"stroke: #A80036; stroke-width: 1.0;\"/><text fill=\"#000000\" font-family=\"sans-serif\" font-size=\"13\" lengthAdjust=\"spacingAndGlyphs\" textLength=\"8\" x=\"382.0709\" y=\"235.0522\">1</text></a><!--MD5=[5c3bb36fe832a92c7f0e1807dd65209d]\n",
       "link E9 to E2--><a href=\"psysml:3213573e-39ef-4dfb-813d-bdfb08b6e367\" target=\"_top\" title=\"psysml:3213573e-39ef-4dfb-813d-bdfb08b6e367\" xlink:actuate=\"onRequest\" xlink:href=\"psysml:3213573e-39ef-4dfb-813d-bdfb08b6e367\" xlink:show=\"new\" xlink:title=\"psysml:3213573e-39ef-4dfb-813d-bdfb08b6e367\" xlink:type=\"simple\"><path d=\"M531.42,287.22 C566.15,316.2 615.74,368.15 587,410 C553.53,458.73 485.93,477.79 436.85,485.24 \" fill=\"none\" id=\"E9-&gt;E2\" style=\"stroke: #A80036; stroke-width: 1.0;\"/><polygon fill=\"#FFFFFF\" points=\"416.78,487.8,434.7361,478.4417,436.5157,492.3281,416.78,487.8\" style=\"stroke: #A80036; stroke-width: 1.0;\"/><ellipse cx=\"440.6441\" cy=\"479.7009\" fill=\"#A80036\" rx=\"2\" ry=\"2\" style=\"stroke: #A80036; stroke-width: 1.0;\"/><ellipse cx=\"441.9152\" cy=\"489.6198\" fill=\"#A80036\" rx=\"2\" ry=\"2\" style=\"stroke: #A80036; stroke-width: 1.0;\"/></a><!--MD5=[65d7f53b27668a18aa0a4d48d4210c8d]\n",
       "@startuml\r\n",
       " \r\n",
       "package \"TradeStudyTest\" as E1  [[psysml:06d75114-8d09-4304-b9ac-1031eaaad748 ]]  {\r\n",
       "comp def \"Engine\" as E2 << << (B,green) >> [[psysml:377b66bc-6410-4386-a0f5-58eac70f1599 ]] {\r\n",
       "}\r\n",
       "comp usage \"engine1: Engine \" as E3 << << (P,limegreen) part>> [[psysml:b73c7ebb-9472-45c7-822b-647f60ba4ebd ]] {\r\n",
       "}\r\n",
       "comp usage \"engine2: Engine \" as E4 << << (P,limegreen) part>> [[psysml:383bc22a-19f8-4697-ba31-98dbfb8a50a3 ]] {\r\n",
       "}\r\n",
       "rec usage \"engineTradeStudy\" as E5 << analysis>> [[psysml:a2c4dab4-2ddb-42af-80d6-b11f423fabe1 ]] {\r\n",
       "comp usage \"tradeStudyObjective\" as E6  <<objective>> [[psysml:6f716227-75fa-479d-851c-c6728be0ecaf ]] {\r\n",
       "}\r\n",
       "}\r\n",
       "comp usage \"evaluationFunction \" as E7 << <<(U,orange) calculation>> [[psysml:e59262b2-24eb-419d-a794-3b71c7229dcc ]] {\r\n",
       "}\r\n",
       "comp usage \"alternative: Engine \" as E8 << << (P,limegreen) part>> [[psysml:83f46fb2-5a48-4342-a61e-b1e9a3952716 ]] {\r\n",
       "}\r\n",
       "comp usage \"selectedAlternative: Engine \" as E9 << << (P,limegreen) part>> [[psysml:43a96bb2-d059-439d-9037-f3d1363e69c1 ]] {\r\n",
       "}\r\n",
       "}\r\n",
       "E3 - -:|> E2 [[psysml:a3c7b902-deb2-42e0-bb2d-9591134be70d ]] \r\n",
       "E4 - -:|> E2 [[psysml:ad9261f0-dda0-42b5-9d6e-43ebe8822407 ]] \r\n",
       "E5 ..> E2 [[psysml:b52cccfc-b130-477f-adae-4c6f859e452b ]] : <<subject>>\r\n",
       "E5 o- - E7 [[psysml:226717b4-0db0-47e0-9eef-bae3c4ff0509 ]] \r\n",
       "E7 o- - \"1\"E8 [[psysml:6f1f84a3-2ac1-458a-baf6-caa888cc195f ]] \r\n",
       "E8 - -:|> E2 [[psysml:2bf4d1c6-7bac-40b1-aaaa-83952da67c38 ]] \r\n",
       "E5 o- - \"1\"E9 [[psysml:eedf805a-a406-401d-b38e-104ba6f0fce6 ]] \r\n",
       "E9 - -:|> E2 [[psysml:3213573e-39ef-4dfb-813d-bdfb08b6e367 ]] \r\n",
       "@enduml\r\n",
       "\n",
       "PlantUML version 1.2020.13(Sat Jun 13 12:26:38 UTC 2020)\n",
       "(EPL source distribution)\n",
       "Java Runtime: OpenJDK Runtime Environment\n",
       "JVM: OpenJDK 64-Bit Server VM\n",
       "Default Encoding: UTF-8\n",
       "Language: en\n",
       "Country: null\n",
       "--></g></svg>"
      ]
     },
     "execution_count": 30,
     "metadata": {},
     "output_type": "execute_result"
    }
   ],
   "source": [
    "%viz --style=\"PLANTUML\" --view=\"Default\" \"TradeStudyTest\""
   ]
  },
  {
   "cell_type": "code",
   "execution_count": 31,
   "id": "26a99048",
   "metadata": {
    "execution": {
     "iopub.execute_input": "2022-08-19T08:21:17.373677Z",
     "iopub.status.busy": "2022-08-19T08:21:17.373239Z",
     "iopub.status.idle": "2022-08-19T08:21:17.416340Z",
     "shell.execute_reply": "2022-08-19T08:21:17.415964Z"
    }
   },
   "outputs": [
    {
     "data": {
      "image/svg+xml": [
       "<?xml version=\"1.0\" encoding=\"UTF-8\" standalone=\"no\"?><svg xmlns=\"http://www.w3.org/2000/svg\" xmlns:xlink=\"http://www.w3.org/1999/xlink\" contentScriptType=\"application/ecmascript\" contentStyleType=\"text/css\" height=\"491px\" preserveAspectRatio=\"none\" style=\"width:649px;height:491px;\" version=\"1.1\" viewBox=\"0 0 649 491\" width=\"649px\" zoomAndPan=\"magnify\"><defs><filter height=\"300%\" id=\"f1ply1cdu9prgv\" width=\"300%\" x=\"-1\" y=\"-1\"><feGaussianBlur result=\"blurOut\" stdDeviation=\"2.0\"/><feColorMatrix in=\"blurOut\" result=\"blurOut2\" type=\"matrix\" values=\"0 0 0 0 0 0 0 0 0 0 0 0 0 0 0 0 0 0 .4 0\"/><feOffset dx=\"4.0\" dy=\"4.0\" in=\"blurOut2\" result=\"blurOut3\"/><feBlend in=\"SourceGraphic\" in2=\"blurOut3\" mode=\"normal\"/></filter></defs><g><!--MD5=[fbc87193dbaf4d95561dea2c320d4a47]\n",
       "cluster E1--><a href=\"psysml:06d75114-8d09-4304-b9ac-1031eaaad748\" target=\"_top\" title=\"psysml:06d75114-8d09-4304-b9ac-1031eaaad748\" xlink:actuate=\"onRequest\" xlink:href=\"psysml:06d75114-8d09-4304-b9ac-1031eaaad748\" xlink:show=\"new\" xlink:title=\"psysml:06d75114-8d09-4304-b9ac-1031eaaad748\" xlink:type=\"simple\"><polygon fill=\"#FFFFFF\" filter=\"url(#f1ply1cdu9prgv)\" points=\"21.35,6,137.35,6,144.35,28.2969,627.35,28.2969,627.35,479,21.35,479,21.35,6\" style=\"stroke: #000000; stroke-width: 1.5;\"/><line style=\"stroke: #000000; stroke-width: 1.5;\" x1=\"21.35\" x2=\"144.35\" y1=\"28.2969\" y2=\"28.2969\"/><text fill=\"#000000\" font-family=\"sans-serif\" font-size=\"14\" font-weight=\"bold\" lengthAdjust=\"spacingAndGlyphs\" textLength=\"110\" x=\"25.35\" y=\"20.9951\">TradeStudyTest</text></a><!--MD5=[b4997ac47864f28c2f74865a473b2911]\n",
       "class E2--><a href=\"psysml:377b66bc-6410-4386-a0f5-58eac70f1599\" target=\"_top\" title=\"psysml:377b66bc-6410-4386-a0f5-58eac70f1599\" xlink:actuate=\"onRequest\" xlink:href=\"psysml:377b66bc-6410-4386-a0f5-58eac70f1599\" xlink:show=\"new\" xlink:title=\"psysml:377b66bc-6410-4386-a0f5-58eac70f1599\" xlink:type=\"simple\"><rect fill=\"#FEFECE\" filter=\"url(#f1ply1cdu9prgv)\" height=\"40\" id=\"E2\" style=\"stroke: #A80036; stroke-width: 1.5;\" width=\"75\" x=\"226.85\" y=\"423\"/><ellipse cx=\"241.85\" cy=\"439\" fill=\"#008000\" rx=\"11\" ry=\"11\" style=\"stroke: #A80036; stroke-width: 1.0;\"/><path d=\"M238.725,444 L238.725,433.4063 L241.9594,433.4063 Q243.8656,433.4063 244.7719,434.1563 Q245.6938,434.9063 245.6938,436.0781 Q245.6938,436.7656 245.3031,437.4219 Q244.9281,438.0781 244.2094,438.375 Q245.0688,438.75 245.5844,439.4375 Q246.1,440.125 246.1,440.9375 Q246.1,442.3125 245.0688,443.1563 Q244.0531,444 241.9438,444 L238.725,444 Z M240.6469,437.6406 L241.8031,437.6406 Q242.9281,437.6406 243.3344,437.2656 Q243.7563,436.875 243.7563,436.25 Q243.7563,435.6719 243.3344,435.3125 Q242.9125,434.9531 241.975,434.9531 L240.6469,434.9531 L240.6469,437.6406 Z M240.6469,442.4219 L242.1469,442.4219 Q243.0531,442.4219 243.5844,442.0313 Q244.1156,441.6406 244.1156,440.8906 Q244.1156,440.125 243.6156,439.6563 Q243.1156,439.1719 241.85,439.1719 L240.6469,439.1719 L240.6469,442.4219 Z \"/><text fill=\"#000000\" font-family=\"sans-serif\" font-size=\"12\" lengthAdjust=\"spacingAndGlyphs\" textLength=\"43\" x=\"255.85\" y=\"443.1543\">Engine</text><line style=\"stroke: #A80036; stroke-width: 1.5;\" x1=\"227.85\" x2=\"300.85\" y1=\"455\" y2=\"455\"/></a><!--MD5=[09b614a08d8cba4a07c9adeb5e0fee81]\n",
       "class E3--><a href=\"psysml:b73c7ebb-9472-45c7-822b-647f60ba4ebd\" target=\"_top\" title=\"psysml:b73c7ebb-9472-45c7-822b-647f60ba4ebd\" xlink:actuate=\"onRequest\" xlink:href=\"psysml:b73c7ebb-9472-45c7-822b-647f60ba4ebd\" xlink:show=\"new\" xlink:title=\"psysml:b73c7ebb-9472-45c7-822b-647f60ba4ebd\" xlink:type=\"simple\"><rect fill=\"#FEFECE\" filter=\"url(#f1ply1cdu9prgv)\" height=\"45.9375\" id=\"E3\" rx=\"10\" ry=\"10\" style=\"stroke: #A80036; stroke-width: 1.5;\" width=\"138\" x=\"473.35\" y=\"316\"/><ellipse cx=\"488.35\" cy=\"334.9688\" fill=\"#32CD32\" rx=\"11\" ry=\"11\" style=\"stroke: #A80036; stroke-width: 1.0;\"/><path d=\"M485.1625,339.9688 L485.1625,329.375 L488.7719,329.375 Q489.9906,329.375 490.7875,329.8125 Q491.5844,330.2344 491.9594,330.9375 Q492.35,331.6406 492.35,332.4844 Q492.35,333.3281 491.975,334.0156 Q491.6156,334.7031 490.8188,335.125 Q490.0375,335.5313 488.85,335.5313 L487.1156,335.5313 L487.1156,339.9688 L485.1625,339.9688 Z M487.1156,333.9375 L488.725,333.9375 Q489.5375,333.9375 489.9594,333.5313 Q490.3813,333.125 490.3813,332.4844 Q490.3813,331.8594 489.9594,331.4531 Q489.5375,331.0469 488.7406,331.0469 L487.1156,331.0469 L487.1156,333.9375 Z \"/><text fill=\"#000000\" font-family=\"sans-serif\" font-size=\"12\" font-style=\"italic\" lengthAdjust=\"spacingAndGlyphs\" textLength=\"40\" x=\"535.35\" y=\"332.1387\">«part»</text><text fill=\"#000000\" font-family=\"sans-serif\" font-size=\"12\" lengthAdjust=\"spacingAndGlyphs\" textLength=\"102\" x=\"502.35\" y=\"346.1074\">engine1: Engine</text><line style=\"stroke: #A80036; stroke-width: 1.5;\" x1=\"474.35\" x2=\"610.35\" y1=\"353.9375\" y2=\"353.9375\"/></a><!--MD5=[ebbe1d658d1005bcc118a6aa81145e00]\n",
       "class E4--><a href=\"psysml:383bc22a-19f8-4697-ba31-98dbfb8a50a3\" target=\"_top\" title=\"psysml:383bc22a-19f8-4697-ba31-98dbfb8a50a3\" xlink:actuate=\"onRequest\" xlink:href=\"psysml:383bc22a-19f8-4697-ba31-98dbfb8a50a3\" xlink:show=\"new\" xlink:title=\"psysml:383bc22a-19f8-4697-ba31-98dbfb8a50a3\" xlink:type=\"simple\"><rect fill=\"#FEFECE\" filter=\"url(#f1ply1cdu9prgv)\" height=\"45.9375\" id=\"E4\" rx=\"10\" ry=\"10\" style=\"stroke: #A80036; stroke-width: 1.5;\" width=\"138\" x=\"300.35\" y=\"316\"/><ellipse cx=\"315.35\" cy=\"334.9688\" fill=\"#32CD32\" rx=\"11\" ry=\"11\" style=\"stroke: #A80036; stroke-width: 1.0;\"/><path d=\"M312.1625,339.9688 L312.1625,329.375 L315.7719,329.375 Q316.9906,329.375 317.7875,329.8125 Q318.5844,330.2344 318.9594,330.9375 Q319.35,331.6406 319.35,332.4844 Q319.35,333.3281 318.975,334.0156 Q318.6156,334.7031 317.8188,335.125 Q317.0375,335.5313 315.85,335.5313 L314.1156,335.5313 L314.1156,339.9688 L312.1625,339.9688 Z M314.1156,333.9375 L315.725,333.9375 Q316.5375,333.9375 316.9594,333.5313 Q317.3813,333.125 317.3813,332.4844 Q317.3813,331.8594 316.9594,331.4531 Q316.5375,331.0469 315.7406,331.0469 L314.1156,331.0469 L314.1156,333.9375 Z \"/><text fill=\"#000000\" font-family=\"sans-serif\" font-size=\"12\" font-style=\"italic\" lengthAdjust=\"spacingAndGlyphs\" textLength=\"40\" x=\"362.35\" y=\"332.1387\">«part»</text><text fill=\"#000000\" font-family=\"sans-serif\" font-size=\"12\" lengthAdjust=\"spacingAndGlyphs\" textLength=\"102\" x=\"329.35\" y=\"346.1074\">engine2: Engine</text><line style=\"stroke: #A80036; stroke-width: 1.5;\" x1=\"301.35\" x2=\"437.35\" y1=\"353.9375\" y2=\"353.9375\"/></a><!--MD5=[270fce915f116d4de14055a7c1d9a0f3]\n",
       "class E5--><a href=\"psysml:a2c4dab4-2ddb-42af-80d6-b11f423fabe1\" target=\"_top\" title=\"psysml:a2c4dab4-2ddb-42af-80d6-b11f423fabe1\" xlink:actuate=\"onRequest\" xlink:href=\"psysml:a2c4dab4-2ddb-42af-80d6-b11f423fabe1\" xlink:show=\"new\" xlink:title=\"psysml:a2c4dab4-2ddb-42af-80d6-b11f423fabe1\" xlink:type=\"simple\"><rect fill=\"#FEFECE\" filter=\"url(#f1ply1cdu9prgv)\" height=\"45.9375\" id=\"E5\" rx=\"10\" ry=\"10\" style=\"stroke: #A80036; stroke-width: 1.5;\" width=\"229\" x=\"286.85\" y=\"41\"/><ellipse cx=\"301.85\" cy=\"59.9688\" fill=\"#B6DBBB\" rx=\"11\" ry=\"11\" style=\"stroke: #A80036; stroke-width: 1.0;\"/><path d=\"M301.6,65.4375 Q299.85,65.4375 298.8969,64.4063 Q297.9594,63.3594 297.9594,61.5156 L297.9594,54.625 L300.0219,54.625 L300.0219,54.7813 Q299.9281,54.875 299.8969,55.0156 Q299.8813,55.1406 299.8813,55.4063 L299.8813,61.5313 Q299.8813,62.625 300.2563,63.25 Q300.6313,63.875 301.6156,63.875 Q302.6,63.875 302.9906,63.25 Q303.3813,62.625 303.3813,61.4844 L303.3813,54.625 L305.2563,54.625 L305.2563,61.4688 Q305.2563,63.5 304.225,64.4688 Q303.2094,65.4375 301.6,65.4375 Z \"/><text fill=\"#000000\" font-family=\"sans-serif\" font-size=\"12\" font-style=\"italic\" lengthAdjust=\"spacingAndGlyphs\" textLength=\"64\" x=\"382.35\" y=\"57.1387\">«analysis»</text><text fill=\"#000000\" font-family=\"sans-serif\" font-size=\"12\" lengthAdjust=\"spacingAndGlyphs\" textLength=\"193\" x=\"315.85\" y=\"71.1074\">engineTradeStudy: TradeStudy</text><line style=\"stroke: #A80036; stroke-width: 1.5;\" x1=\"287.85\" x2=\"514.85\" y1=\"78.9375\" y2=\"78.9375\"/></a><!--MD5=[60a26617385b1d2d0262a64233df1f8d]\n",
       "class E6--><a href=\"psysml:6f716227-75fa-479d-851c-c6728be0ecaf\" target=\"_top\" title=\"psysml:6f716227-75fa-479d-851c-c6728be0ecaf\" xlink:actuate=\"onRequest\" xlink:href=\"psysml:6f716227-75fa-479d-851c-c6728be0ecaf\" xlink:show=\"new\" xlink:title=\"psysml:6f716227-75fa-479d-851c-c6728be0ecaf\" xlink:type=\"simple\"><rect fill=\"#FEFECE\" filter=\"url(#f1ply1cdu9prgv)\" height=\"45.9375\" id=\"E6\" rx=\"10\" ry=\"10\" style=\"stroke: #A80036; stroke-width: 1.5;\" width=\"281\" x=\"102.85\" y=\"164\"/><ellipse cx=\"117.85\" cy=\"182.9688\" fill=\"#FFA500\" rx=\"11\" ry=\"11\" style=\"stroke: #A80036; stroke-width: 1.0;\"/><path d=\"M117.6,188.4375 Q115.85,188.4375 114.8969,187.4063 Q113.9594,186.3594 113.9594,184.5156 L113.9594,177.625 L116.0219,177.625 L116.0219,177.7813 Q115.9281,177.875 115.8969,178.0156 Q115.8813,178.1406 115.8813,178.4063 L115.8813,184.5313 Q115.8813,185.625 116.2563,186.25 Q116.6313,186.875 117.6156,186.875 Q118.6,186.875 118.9906,186.25 Q119.3813,185.625 119.3813,184.4844 L119.3813,177.625 L121.2563,177.625 L121.2563,184.4688 Q121.2563,186.5 120.225,187.4688 Q119.2094,188.4375 117.6,188.4375 Z \"/><text fill=\"#000000\" font-family=\"sans-serif\" font-size=\"12\" font-style=\"italic\" lengthAdjust=\"spacingAndGlyphs\" textLength=\"91\" x=\"210.85\" y=\"180.1387\">«requirement»</text><text fill=\"#000000\" font-family=\"sans-serif\" font-size=\"12\" lengthAdjust=\"spacingAndGlyphs\" textLength=\"245\" x=\"131.85\" y=\"194.1074\">tradeStudyObjective: MaximizeObjective</text><line style=\"stroke: #A80036; stroke-width: 1.5;\" x1=\"103.85\" x2=\"382.85\" y1=\"201.9375\" y2=\"201.9375\"/></a><!--MD5=[2156ba9850f5573cc1fc38a6a4b2f02b]\n",
       "class E7--><a href=\"psysml:e59262b2-24eb-419d-a794-3b71c7229dcc\" target=\"_top\" title=\"psysml:e59262b2-24eb-419d-a794-3b71c7229dcc\" xlink:actuate=\"onRequest\" xlink:href=\"psysml:e59262b2-24eb-419d-a794-3b71c7229dcc\" xlink:show=\"new\" xlink:title=\"psysml:e59262b2-24eb-419d-a794-3b71c7229dcc\" xlink:type=\"simple\"><rect fill=\"#FEFECE\" filter=\"url(#f1ply1cdu9prgv)\" height=\"45.9375\" id=\"E7\" rx=\"10\" ry=\"10\" style=\"stroke: #A80036; stroke-width: 1.5;\" width=\"155\" x=\"418.85\" y=\"164\"/><ellipse cx=\"433.85\" cy=\"182.9688\" fill=\"#FFA500\" rx=\"11\" ry=\"11\" style=\"stroke: #A80036; stroke-width: 1.0;\"/><path d=\"M433.6,188.4375 Q431.85,188.4375 430.8969,187.4063 Q429.9594,186.3594 429.9594,184.5156 L429.9594,177.625 L432.0219,177.625 L432.0219,177.7813 Q431.9281,177.875 431.8969,178.0156 Q431.8813,178.1406 431.8813,178.4063 L431.8813,184.5313 Q431.8813,185.625 432.2563,186.25 Q432.6313,186.875 433.6156,186.875 Q434.6,186.875 434.9906,186.25 Q435.3813,185.625 435.3813,184.4844 L435.3813,177.625 L437.2563,177.625 L437.2563,184.4688 Q437.2563,186.5 436.225,187.4688 Q435.2094,188.4375 433.6,188.4375 Z \"/><text fill=\"#000000\" font-family=\"sans-serif\" font-size=\"12\" font-style=\"italic\" lengthAdjust=\"spacingAndGlyphs\" textLength=\"82\" x=\"468.35\" y=\"180.1387\">«calculation»</text><text fill=\"#000000\" font-family=\"sans-serif\" font-size=\"12\" lengthAdjust=\"spacingAndGlyphs\" textLength=\"119\" x=\"447.85\" y=\"194.1074\">evaluationFunction</text><line style=\"stroke: #A80036; stroke-width: 1.5;\" x1=\"419.85\" x2=\"572.85\" y1=\"201.9375\" y2=\"201.9375\"/></a><!--MD5=[b9389687b975829384b498ac4b7476b2]\n",
       "class E8--><a href=\"psysml:83f46fb2-5a48-4342-a61e-b1e9a3952716\" target=\"_top\" title=\"psysml:83f46fb2-5a48-4342-a61e-b1e9a3952716\" xlink:actuate=\"onRequest\" xlink:href=\"psysml:83f46fb2-5a48-4342-a61e-b1e9a3952716\" xlink:show=\"new\" xlink:title=\"psysml:83f46fb2-5a48-4342-a61e-b1e9a3952716\" xlink:type=\"simple\"><rect fill=\"#FEFECE\" filter=\"url(#f1ply1cdu9prgv)\" height=\"45.9375\" id=\"E8\" rx=\"10\" ry=\"10\" style=\"stroke: #A80036; stroke-width: 1.5;\" width=\"154\" x=\"74.35\" y=\"316\"/><ellipse cx=\"89.35\" cy=\"334.9688\" fill=\"#32CD32\" rx=\"11\" ry=\"11\" style=\"stroke: #A80036; stroke-width: 1.0;\"/><path d=\"M86.1625,339.9688 L86.1625,329.375 L89.7719,329.375 Q90.9906,329.375 91.7875,329.8125 Q92.5844,330.2344 92.9594,330.9375 Q93.35,331.6406 93.35,332.4844 Q93.35,333.3281 92.975,334.0156 Q92.6156,334.7031 91.8188,335.125 Q91.0375,335.5313 89.85,335.5313 L88.1156,335.5313 L88.1156,339.9688 L86.1625,339.9688 Z M88.1156,333.9375 L89.725,333.9375 Q90.5375,333.9375 90.9594,333.5313 Q91.3813,333.125 91.3813,332.4844 Q91.3813,331.8594 90.9594,331.4531 Q90.5375,331.0469 89.7406,331.0469 L88.1156,331.0469 L88.1156,333.9375 Z \"/><text fill=\"#000000\" font-family=\"sans-serif\" font-size=\"12\" font-style=\"italic\" lengthAdjust=\"spacingAndGlyphs\" textLength=\"40\" x=\"144.35\" y=\"332.1387\">«part»</text><text fill=\"#000000\" font-family=\"sans-serif\" font-size=\"12\" lengthAdjust=\"spacingAndGlyphs\" textLength=\"118\" x=\"103.35\" y=\"346.1074\">alternative: Engine</text><line style=\"stroke: #A80036; stroke-width: 1.5;\" x1=\"75.35\" x2=\"227.35\" y1=\"353.9375\" y2=\"353.9375\"/></a><!--MD5=[fd4143e9d270a159db93a4ea2a975926]\n",
       "class E9--><a href=\"psysml:43a96bb2-d059-439d-9037-f3d1363e69c1\" target=\"_top\" title=\"psysml:43a96bb2-d059-439d-9037-f3d1363e69c1\" xlink:actuate=\"onRequest\" xlink:href=\"psysml:43a96bb2-d059-439d-9037-f3d1363e69c1\" xlink:show=\"new\" xlink:title=\"psysml:43a96bb2-d059-439d-9037-f3d1363e69c1\" xlink:type=\"simple\"><rect fill=\"#FEFECE\" filter=\"url(#f1ply1cdu9prgv)\" height=\"45.9375\" id=\"E9\" rx=\"10\" ry=\"10\" style=\"stroke: #A80036; stroke-width: 1.5;\" width=\"208\" x=\"281.35\" y=\"240\"/><ellipse cx=\"296.35\" cy=\"258.9688\" fill=\"#32CD32\" rx=\"11\" ry=\"11\" style=\"stroke: #A80036; stroke-width: 1.0;\"/><path d=\"M293.1625,263.9688 L293.1625,253.375 L296.7719,253.375 Q297.9906,253.375 298.7875,253.8125 Q299.5844,254.2344 299.9594,254.9375 Q300.35,255.6406 300.35,256.4844 Q300.35,257.3281 299.975,258.0156 Q299.6156,258.7031 298.8188,259.125 Q298.0375,259.5313 296.85,259.5313 L295.1156,259.5313 L295.1156,263.9688 L293.1625,263.9688 Z M295.1156,257.9375 L296.725,257.9375 Q297.5375,257.9375 297.9594,257.5313 Q298.3813,257.125 298.3813,256.4844 Q298.3813,255.8594 297.9594,255.4531 Q297.5375,255.0469 296.7406,255.0469 L295.1156,255.0469 L295.1156,257.9375 Z \"/><text fill=\"#000000\" font-family=\"sans-serif\" font-size=\"12\" font-style=\"italic\" lengthAdjust=\"spacingAndGlyphs\" textLength=\"40\" x=\"378.35\" y=\"256.1387\">«part»</text><text fill=\"#000000\" font-family=\"sans-serif\" font-size=\"12\" lengthAdjust=\"spacingAndGlyphs\" textLength=\"172\" x=\"310.35\" y=\"270.1074\">selectedAlternative: Engine</text><line style=\"stroke: #A80036; stroke-width: 1.5;\" x1=\"282.35\" x2=\"488.35\" y1=\"277.9375\" y2=\"277.9375\"/></a><!--MD5=[05d275557350bfb9b23a4ef7222b4c39]\n",
       "link E3 to E2--><a href=\"psysml:a3c7b902-deb2-42e0-bb2d-9591134be70d\" target=\"_top\" title=\"psysml:a3c7b902-deb2-42e0-bb2d-9591134be70d\" xlink:actuate=\"onRequest\" xlink:href=\"psysml:a3c7b902-deb2-42e0-bb2d-9591134be70d\" xlink:show=\"new\" xlink:title=\"psysml:a3c7b902-deb2-42e0-bb2d-9591134be70d\" xlink:type=\"simple\"><path d=\"M482.37,362.01 C434.47,379.58 367.81,404.04 320.84,421.27 \" fill=\"none\" id=\"E3-&gt;E2\" style=\"stroke: #A80036; stroke-width: 1.0;\"/><polygon fill=\"#FFFFFF\" points=\"302.03,428.17,317.4603,415.0588,322.2784,428.2036,302.03,428.17\" style=\"stroke: #A80036; stroke-width: 1.0;\"/><ellipse cx=\"323.5004\" cy=\"414.9749\" fill=\"#A80036\" rx=\"2\" ry=\"2\" style=\"stroke: #A80036; stroke-width: 1.0;\"/><ellipse cx=\"326.9419\" cy=\"424.3641\" fill=\"#A80036\" rx=\"2\" ry=\"2\" style=\"stroke: #A80036; stroke-width: 1.0;\"/></a><!--MD5=[185131fc0dcab0a4505a2ebe144e961b]\n",
       "link E4 to E2--><a href=\"psysml:ad9261f0-dda0-42b5-9d6e-43ebe8822407\" target=\"_top\" title=\"psysml:ad9261f0-dda0-42b5-9d6e-43ebe8822407\" xlink:actuate=\"onRequest\" xlink:href=\"psysml:ad9261f0-dda0-42b5-9d6e-43ebe8822407\" xlink:show=\"new\" xlink:title=\"psysml:ad9261f0-dda0-42b5-9d6e-43ebe8822407\" xlink:type=\"simple\"><path d=\"M346.57,362.13 C332.54,375.76 314.3,393.47 298.57,408.76 \" fill=\"none\" id=\"E4-&gt;E2\" style=\"stroke: #A80036; stroke-width: 1.0;\"/><polygon fill=\"#FFFFFF\" points=\"283.91,423,292.6544,404.737,302.4129,414.7755,283.91,423\" style=\"stroke: #A80036; stroke-width: 1.0;\"/><ellipse cx=\"298.1356\" cy=\"402.198\" fill=\"#A80036\" rx=\"2\" ry=\"2\" style=\"stroke: #A80036; stroke-width: 1.0;\"/><ellipse cx=\"305.1059\" cy=\"409.3683\" fill=\"#A80036\" rx=\"2\" ry=\"2\" style=\"stroke: #A80036; stroke-width: 1.0;\"/></a><!--MD5=[15ebcb19ae302d9b601edb458606d402]\n",
       "link E5 to E2--><a href=\"psysml:b52cccfc-b130-477f-adae-4c6f859e452b\" target=\"_top\" title=\"psysml:b52cccfc-b130-477f-adae-4c6f859e452b\" xlink:actuate=\"onRequest\" xlink:href=\"psysml:b52cccfc-b130-477f-adae-4c6f859e452b\" xlink:show=\"new\" xlink:title=\"psysml:b52cccfc-b130-477f-adae-4c6f859e452b\" xlink:type=\"simple\"><path d=\"M286.67,72.24 C218.59,82.7 135.93,107.24 85.35,164 C26.18,230.4 6,288.69 56.35,362 C93.33,415.85 172.02,433.47 221.3,439.22 \" fill=\"none\" id=\"E5-&gt;E2\" style=\"stroke: #A80036; stroke-width: 1.0; stroke-dasharray: 7.0,7.0;\"/><polygon fill=\"#A80036\" points=\"226.57,439.8,218.0574,434.8467,221.5995,439.2572,217.189,442.7994,226.57,439.8\" style=\"stroke: #A80036; stroke-width: 1.0;\"/><text fill=\"#000000\" font-family=\"sans-serif\" font-size=\"13\" lengthAdjust=\"spacingAndGlyphs\" textLength=\"62\" x=\"36.35\" y=\"267.5669\">«subject»</text></a><!--MD5=[9120cf2e5df3bff93db8f754bbbc09b4]\n",
       "link E5 to E6--><a href=\"psysml:be121dac-af46-4d47-896b-f9a14a0b4d3b\" target=\"_top\" title=\"psysml:be121dac-af46-4d47-896b-f9a14a0b4d3b\" xlink:actuate=\"onRequest\" xlink:href=\"psysml:be121dac-af46-4d47-896b-f9a14a0b4d3b\" xlink:show=\"new\" xlink:title=\"psysml:be121dac-af46-4d47-896b-f9a14a0b4d3b\" xlink:type=\"simple\"><path d=\"M372.37,87.19 C345.98,107.41 306.93,137.31 278.71,158.92 \" fill=\"none\" id=\"E5-&gt;E6\" style=\"stroke: #A80036; stroke-width: 1.0;\"/><polygon fill=\"#A80036\" points=\"272.15,163.95,280.3247,161.4653,276.6753,156.7028,272.15,163.95\" style=\"stroke: #A80036; stroke-width: 1.0;\"/><text fill=\"#000000\" font-family=\"sans-serif\" font-size=\"13\" lengthAdjust=\"spacingAndGlyphs\" textLength=\"73\" x=\"332.35\" y=\"130.0669\">«objective»</text></a><!--MD5=[452b418e7f8a40397a49b8c0a78acc5b]\n",
       "reverse link E5 to E7--><a href=\"psysml:226717b4-0db0-47e0-9eef-bae3c4ff0509\" target=\"_top\" title=\"psysml:226717b4-0db0-47e0-9eef-bae3c4ff0509\" xlink:actuate=\"onRequest\" xlink:href=\"psysml:226717b4-0db0-47e0-9eef-bae3c4ff0509\" xlink:show=\"new\" xlink:title=\"psysml:226717b4-0db0-47e0-9eef-bae3c4ff0509\" xlink:type=\"simple\"><path d=\"M426.94,97.59 C443.44,118.61 464.47,145.4 479.04,163.95 \" fill=\"none\" id=\"E5&lt;-E7\" style=\"stroke: #A80036; stroke-width: 1.0;\"/><polygon fill=\"#FFFFFF\" points=\"418.77,87.19,419.3281,94.3795,426.1792,96.6295,425.6211,89.44,418.77,87.19\" style=\"stroke: #A80036; stroke-width: 1.0;\"/></a><!--MD5=[dc164f5e8a733ab456ef1add180e9e34]\n",
       "reverse link E7 to E8--><a href=\"psysml:6f1f84a3-2ac1-458a-baf6-caa888cc195f\" target=\"_top\" title=\"psysml:6f1f84a3-2ac1-458a-baf6-caa888cc195f\" xlink:actuate=\"onRequest\" xlink:href=\"psysml:6f1f84a3-2ac1-458a-baf6-caa888cc195f\" xlink:show=\"new\" xlink:title=\"psysml:6f1f84a3-2ac1-458a-baf6-caa888cc195f\" xlink:type=\"simple\"><path d=\"M405.86,208.98 C404.35,209.32 402.84,209.66 401.35,210 C340.54,223.7 320.06,212.05 264.35,240 C226.75,258.86 191.49,293.1 170.66,315.69 \" fill=\"none\" id=\"E7&lt;-E8\" style=\"stroke: #A80036; stroke-width: 1.0;\"/><polygon fill=\"#FFFFFF\" points=\"418.6,206.09,411.8643,203.5149,406.8967,208.742,413.6324,211.3171,418.6,206.09\" style=\"stroke: #A80036; stroke-width: 1.0;\"/><text fill=\"#000000\" font-family=\"sans-serif\" font-size=\"13\" lengthAdjust=\"spacingAndGlyphs\" textLength=\"8\" x=\"166.5832\" y=\"304.8869\">1</text></a><!--MD5=[f1f3f9f2fc535e6147756cb86a7f2e32]\n",
       "link E8 to E2--><a href=\"psysml:2bf4d1c6-7bac-40b1-aaaa-83952da67c38\" target=\"_top\" title=\"psysml:2bf4d1c6-7bac-40b1-aaaa-83952da67c38\" xlink:actuate=\"onRequest\" xlink:href=\"psysml:2bf4d1c6-7bac-40b1-aaaa-83952da67c38\" xlink:show=\"new\" xlink:title=\"psysml:2bf4d1c6-7bac-40b1-aaaa-83952da67c38\" xlink:type=\"simple\"><path d=\"M175.87,362.13 C191.2,375.97 211.21,394.03 228.32,409.48 \" fill=\"none\" id=\"E8-&gt;E2\" style=\"stroke: #A80036; stroke-width: 1.0;\"/><polygon fill=\"#FFFFFF\" points=\"243.3,423,224.5062,415.4638,233.8878,405.0721,243.3,423\" style=\"stroke: #A80036; stroke-width: 1.0;\"/><ellipse cx=\"221.6156\" cy=\"410.1596\" fill=\"#A80036\" rx=\"2\" ry=\"2\" style=\"stroke: #A80036; stroke-width: 1.0;\"/><ellipse cx=\"228.3166\" cy=\"402.737\" fill=\"#A80036\" rx=\"2\" ry=\"2\" style=\"stroke: #A80036; stroke-width: 1.0;\"/></a><!--MD5=[9ae28de373ca99bb8a1b38d63370ca7e]\n",
       "reverse link E5 to E9--><a href=\"psysml:eedf805a-a406-401d-b38e-104ba6f0fce6\" target=\"_top\" title=\"psysml:eedf805a-a406-401d-b38e-104ba6f0fce6\" xlink:actuate=\"onRequest\" xlink:href=\"psysml:eedf805a-a406-401d-b38e-104ba6f0fce6\" xlink:show=\"new\" xlink:title=\"psysml:eedf805a-a406-401d-b38e-104ba6f0fce6\" xlink:type=\"simple\"><path d=\"M486.3,91.63 C553.73,117.27 630.66,159.54 591.35,210 C578.06,227.06 533.73,239.4 489.58,247.77 \" fill=\"none\" id=\"E5&lt;-E9\" style=\"stroke: #A80036; stroke-width: 1.0;\"/><polygon fill=\"#FFFFFF\" points=\"473.85,87.03,478.095,92.8592,485.1085,91.1827,480.8635,85.3535,473.85,87.03\" style=\"stroke: #A80036; stroke-width: 1.0;\"/><text fill=\"#000000\" font-family=\"sans-serif\" font-size=\"13\" lengthAdjust=\"spacingAndGlyphs\" textLength=\"8\" x=\"497.1899\" y=\"243.2456\">1</text></a><!--MD5=[5c3bb36fe832a92c7f0e1807dd65209d]\n",
       "link E9 to E2--><a href=\"psysml:3213573e-39ef-4dfb-813d-bdfb08b6e367\" target=\"_top\" title=\"psysml:3213573e-39ef-4dfb-813d-bdfb08b6e367\" xlink:actuate=\"onRequest\" xlink:href=\"psysml:3213573e-39ef-4dfb-813d-bdfb08b6e367\" xlink:show=\"new\" xlink:title=\"psysml:3213573e-39ef-4dfb-813d-bdfb08b6e367\" xlink:type=\"simple\"><path d=\"M319.4,286.07 C305.59,293.56 292.47,303.34 283.35,316 C265.36,340.96 261.31,375.98 261.36,402.77 \" fill=\"none\" id=\"E9-&gt;E2\" style=\"stroke: #A80036; stroke-width: 1.0;\"/><polygon fill=\"#FFFFFF\" points=\"262.15,422.93,254.409,404.2197,268.3982,403.6697,262.15,422.93\" style=\"stroke: #A80036; stroke-width: 1.0;\"/><ellipse cx=\"256.1836\" cy=\"398.4455\" fill=\"#A80036\" rx=\"2\" ry=\"2\" style=\"stroke: #A80036; stroke-width: 1.0;\"/><ellipse cx=\"266.1758\" cy=\"398.0526\" fill=\"#A80036\" rx=\"2\" ry=\"2\" style=\"stroke: #A80036; stroke-width: 1.0;\"/></a><!--MD5=[dcb7ae1e3562359f8cdd8205fc765817]\n",
       "@startuml\r\n",
       " \r\n",
       "package \"TradeStudyTest\" as E1  [[psysml:06d75114-8d09-4304-b9ac-1031eaaad748 ]]  {\r\n",
       "comp def \"Engine\" as E2 << << (B,green) >> [[psysml:377b66bc-6410-4386-a0f5-58eac70f1599 ]] {\r\n",
       "}\r\n",
       "comp usage \"engine1: Engine \" as E3 << << (P,limegreen) part>> [[psysml:b73c7ebb-9472-45c7-822b-647f60ba4ebd ]] {\r\n",
       "}\r\n",
       "comp usage \"engine2: Engine \" as E4 << << (P,limegreen) part>> [[psysml:383bc22a-19f8-4697-ba31-98dbfb8a50a3 ]] {\r\n",
       "}\r\n",
       "comp usage \"engineTradeStudy: TradeStudy \" as E5 << analysis>> [[psysml:a2c4dab4-2ddb-42af-80d6-b11f423fabe1 ]] {\r\n",
       "}\r\n",
       "comp usage \"tradeStudyObjective: MaximizeObjective \" as E6 << <<(U,orange) requirement>> [[psysml:6f716227-75fa-479d-851c-c6728be0ecaf ]] {\r\n",
       "}\r\n",
       "comp usage \"evaluationFunction \" as E7 << <<(U,orange) calculation>> [[psysml:e59262b2-24eb-419d-a794-3b71c7229dcc ]] {\r\n",
       "}\r\n",
       "comp usage \"alternative: Engine \" as E8 << << (P,limegreen) part>> [[psysml:83f46fb2-5a48-4342-a61e-b1e9a3952716 ]] {\r\n",
       "}\r\n",
       "comp usage \"selectedAlternative: Engine \" as E9 << << (P,limegreen) part>> [[psysml:43a96bb2-d059-439d-9037-f3d1363e69c1 ]] {\r\n",
       "}\r\n",
       "}\r\n",
       "E3 - -:|> E2 [[psysml:a3c7b902-deb2-42e0-bb2d-9591134be70d ]] \r\n",
       "E4 - -:|> E2 [[psysml:ad9261f0-dda0-42b5-9d6e-43ebe8822407 ]] \r\n",
       "E5 ..> E2 [[psysml:b52cccfc-b130-477f-adae-4c6f859e452b ]] : <<subject>>\r\n",
       "E5 - ->> E6 [[psysml:be121dac-af46-4d47-896b-f9a14a0b4d3b ]] : <<objective>>\r\n",
       "E5 o- - E7 [[psysml:226717b4-0db0-47e0-9eef-bae3c4ff0509 ]] \r\n",
       "E7 o- - \"1\"E8 [[psysml:6f1f84a3-2ac1-458a-baf6-caa888cc195f ]] \r\n",
       "E8 - -:|> E2 [[psysml:2bf4d1c6-7bac-40b1-aaaa-83952da67c38 ]] \r\n",
       "E5 o- - \"1\"E9 [[psysml:eedf805a-a406-401d-b38e-104ba6f0fce6 ]] \r\n",
       "E9 - -:|> E2 [[psysml:3213573e-39ef-4dfb-813d-bdfb08b6e367 ]] \r\n",
       "@enduml\r\n",
       "\n",
       "PlantUML version 1.2020.13(Sat Jun 13 12:26:38 UTC 2020)\n",
       "(EPL source distribution)\n",
       "Java Runtime: OpenJDK Runtime Environment\n",
       "JVM: OpenJDK 64-Bit Server VM\n",
       "Default Encoding: UTF-8\n",
       "Language: en\n",
       "Country: null\n",
       "--></g></svg>"
      ]
     },
     "execution_count": 31,
     "metadata": {},
     "output_type": "execute_result"
    }
   ],
   "source": [
    "%viz --style=\"PLANTUML\" --view=\"Tree\" \"TradeStudyTest\""
   ]
  },
  {
   "cell_type": "code",
   "execution_count": 32,
   "id": "4637ab75",
   "metadata": {
    "execution": {
     "iopub.execute_input": "2022-08-19T08:21:17.466145Z",
     "iopub.status.busy": "2022-08-19T08:21:17.465697Z",
     "iopub.status.idle": "2022-08-19T08:21:17.557553Z",
     "shell.execute_reply": "2022-08-19T08:21:17.556210Z"
    }
   },
   "outputs": [
    {
     "data": {
      "image/svg+xml": [
       "<?xml version=\"1.0\" encoding=\"UTF-8\" standalone=\"no\"?><svg xmlns=\"http://www.w3.org/2000/svg\" xmlns:xlink=\"http://www.w3.org/1999/xlink\" contentScriptType=\"application/ecmascript\" contentStyleType=\"text/css\" height=\"300px\" preserveAspectRatio=\"none\" style=\"width:603px;height:300px;background:#000000;\" version=\"1.1\" viewBox=\"0 0 603 300\" width=\"603px\" zoomAndPan=\"magnify\"><defs/><g><rect fill=\"#041D17\" height=\"1\" style=\"stroke: #041D17; stroke-width: 1.0;\" width=\"1\" x=\"0\" y=\"0\"/><rect fill=\"#FFFFFF\" height=\"202.8012\" style=\"stroke: #FFFFFF; stroke-width: 1.0;\" width=\"602\" x=\"0\" y=\"0\"/><text fill=\"#000000\" font-family=\"sans-serif\" font-size=\"12\" font-weight=\"bold\" lengthAdjust=\"spacingAndGlyphs\" textLength=\"139\" x=\"5\" y=\"16.1387\">Welcome to PlantUML!</text><text fill=\"#000000\" font-family=\"sans-serif\" font-size=\"12\" lengthAdjust=\"spacingAndGlyphs\" textLength=\"0\" x=\"9\" y=\"30.1074\"/><text fill=\"#000000\" font-family=\"sans-serif\" font-size=\"12\" lengthAdjust=\"spacingAndGlyphs\" textLength=\"293\" x=\"5\" y=\"44.0762\">If you use this software, you accept its license.</text><text fill=\"#000000\" font-family=\"sans-serif\" font-size=\"12\" lengthAdjust=\"spacingAndGlyphs\" textLength=\"107\" x=\"5\" y=\"58.0449\">(details by typing</text><text fill=\"#000000\" font-family=\"monospace\" font-size=\"12\" lengthAdjust=\"spacingAndGlyphs\" textLength=\"42\" x=\"116\" y=\"58.595\">license</text><text fill=\"#000000\" font-family=\"sans-serif\" font-size=\"12\" lengthAdjust=\"spacingAndGlyphs\" textLength=\"56\" x=\"162\" y=\"58.0449\">keyword)</text><text fill=\"#000000\" font-family=\"sans-serif\" font-size=\"12\" lengthAdjust=\"spacingAndGlyphs\" textLength=\"0\" x=\"9\" y=\"72.0137\"/><text fill=\"#000000\" font-family=\"sans-serif\" font-size=\"12\" lengthAdjust=\"spacingAndGlyphs\" textLength=\"283\" x=\"5\" y=\"85.9824\">You can start with a simple UML Diagram like:</text><text fill=\"#000000\" font-family=\"sans-serif\" font-size=\"12\" lengthAdjust=\"spacingAndGlyphs\" textLength=\"0\" x=\"9\" y=\"99.9512\"/><text fill=\"#000000\" font-family=\"monospace\" font-size=\"12\" lengthAdjust=\"spacingAndGlyphs\" textLength=\"102\" x=\"5\" y=\"113.0893\">Bob-&gt;Alice: Hello</text><text fill=\"#000000\" font-family=\"sans-serif\" font-size=\"12\" lengthAdjust=\"spacingAndGlyphs\" textLength=\"0\" x=\"9\" y=\"126.508\"/><text fill=\"#000000\" font-family=\"sans-serif\" font-size=\"12\" lengthAdjust=\"spacingAndGlyphs\" textLength=\"14\" x=\"5\" y=\"140.4768\">Or</text><text fill=\"#000000\" font-family=\"sans-serif\" font-size=\"12\" lengthAdjust=\"spacingAndGlyphs\" textLength=\"0\" x=\"9\" y=\"154.4455\"/><text fill=\"#000000\" font-family=\"monospace\" font-size=\"12\" lengthAdjust=\"spacingAndGlyphs\" textLength=\"78\" x=\"5\" y=\"167.5837\">class Example</text><text fill=\"#000000\" font-family=\"sans-serif\" font-size=\"12\" lengthAdjust=\"spacingAndGlyphs\" textLength=\"0\" x=\"9\" y=\"181.0023\"/><text fill=\"#000000\" font-family=\"sans-serif\" font-size=\"12\" lengthAdjust=\"spacingAndGlyphs\" textLength=\"349\" x=\"5\" y=\"194.9711\">You will find more information about PlantUML syntax on</text><text fill=\"#000000\" font-family=\"sans-serif\" font-size=\"12\" lengthAdjust=\"spacingAndGlyphs\" text-decoration=\"underline\" textLength=\"129\" x=\"358\" y=\"194.9711\">https://plantuml.com</text><image height=\"71\" width=\"80\" x=\"516\" xlink:href=\"data:image/png;base64,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\" y=\"6\"/><rect fill=\"#000000\" height=\"96.4844\" style=\"stroke: #000000; stroke-width: 1.0;\" width=\"602\" x=\"0\" y=\"202.8012\"/><rect fill=\"#33FF02\" height=\"21.2969\" style=\"stroke: #33FF02; stroke-width: 1.0;\" width=\"145\" x=\"5\" y=\"207.8012\"/><text fill=\"#000000\" font-family=\"sans-serif\" font-size=\"14\" font-weight=\"bold\" lengthAdjust=\"spacingAndGlyphs\" textLength=\"143\" x=\"6\" y=\"222.8012\">[From string (line 2) ]</text><text fill=\"#33FF02\" font-family=\"sans-serif\" font-size=\"14\" font-weight=\"bold\" lengthAdjust=\"spacingAndGlyphs\" textLength=\"0\" x=\"9\" y=\"243.0981\"/><text fill=\"#33FF02\" font-family=\"sans-serif\" font-size=\"14\" font-weight=\"bold\" lengthAdjust=\"spacingAndGlyphs\" textLength=\"70\" x=\"5\" y=\"259.3949\">@startuml</text><text fill=\"#33FF02\" font-family=\"sans-serif\" font-size=\"14\" font-weight=\"bold\" lengthAdjust=\"spacingAndGlyphs\" textLength=\"0\" x=\"9\" y=\"275.6918\"/><text fill=\"#FF0000\" font-family=\"sans-serif\" font-size=\"14\" font-weight=\"bold\" lengthAdjust=\"spacingAndGlyphs\" textLength=\"124\" x=\"9\" y=\"291.9887\">Empty description</text><!--MD5=[f59edd8218d337f74d0c332fc6737304]\n",
       "@startuml\r\n",
       " \r\n",
       "@enduml\r\n",
       "\n",
       "PlantUML version 1.2020.13(Sat Jun 13 12:26:38 UTC 2020)\n",
       "(EPL source distribution)\n",
       "Java Runtime: OpenJDK Runtime Environment\n",
       "JVM: OpenJDK 64-Bit Server VM\n",
       "Default Encoding: UTF-8\n",
       "Language: en\n",
       "Country: null\n",
       "--></g></svg>"
      ]
     },
     "execution_count": 32,
     "metadata": {},
     "output_type": "execute_result"
    }
   ],
   "source": [
    "%viz --style=\"PLANTUML\" --view=\"State\" \"TradeStudyTest\""
   ]
  },
  {
   "cell_type": "code",
   "execution_count": 33,
   "id": "4a758979",
   "metadata": {
    "execution": {
     "iopub.execute_input": "2022-08-19T08:21:17.607179Z",
     "iopub.status.busy": "2022-08-19T08:21:17.606713Z",
     "iopub.status.idle": "2022-08-19T08:21:17.640662Z",
     "shell.execute_reply": "2022-08-19T08:21:17.639007Z"
    }
   },
   "outputs": [
    {
     "data": {
      "image/svg+xml": [
       "<?xml version=\"1.0\" encoding=\"UTF-8\" standalone=\"no\"?><svg xmlns=\"http://www.w3.org/2000/svg\" xmlns:xlink=\"http://www.w3.org/1999/xlink\" contentScriptType=\"application/ecmascript\" contentStyleType=\"text/css\" height=\"423px\" preserveAspectRatio=\"none\" style=\"width:647px;height:423px;\" version=\"1.1\" viewBox=\"0 0 647 423\" width=\"647px\" zoomAndPan=\"magnify\"><defs><filter height=\"300%\" id=\"f1lau680q4h0ke\" width=\"300%\" x=\"-1\" y=\"-1\"><feGaussianBlur result=\"blurOut\" stdDeviation=\"2.0\"/><feColorMatrix in=\"blurOut\" result=\"blurOut2\" type=\"matrix\" values=\"0 0 0 0 0 0 0 0 0 0 0 0 0 0 0 0 0 0 .4 0\"/><feOffset dx=\"4.0\" dy=\"4.0\" in=\"blurOut2\" result=\"blurOut3\"/><feBlend in=\"SourceGraphic\" in2=\"blurOut3\" mode=\"normal\"/></filter></defs><g><!--MD5=[fbc87193dbaf4d95561dea2c320d4a47]\n",
       "cluster E1--><a href=\"psysml:06d75114-8d09-4304-b9ac-1031eaaad748\" target=\"_top\" title=\"psysml:06d75114-8d09-4304-b9ac-1031eaaad748\" xlink:actuate=\"onRequest\" xlink:href=\"psysml:06d75114-8d09-4304-b9ac-1031eaaad748\" xlink:show=\"new\" xlink:title=\"psysml:06d75114-8d09-4304-b9ac-1031eaaad748\" xlink:type=\"simple\"><polygon fill=\"#FFFFFF\" filter=\"url(#f1lau680q4h0ke)\" points=\"16,6,132,6,139,28.2969,625,28.2969,625,411,16,411,16,6\" style=\"stroke: #000000; stroke-width: 1.5;\"/><line style=\"stroke: #000000; stroke-width: 1.5;\" x1=\"16\" x2=\"139\" y1=\"28.2969\" y2=\"28.2969\"/><text fill=\"#000000\" font-family=\"sans-serif\" font-size=\"14\" font-weight=\"bold\" lengthAdjust=\"spacingAndGlyphs\" textLength=\"110\" x=\"20\" y=\"20.9951\">TradeStudyTest</text></a><!--MD5=[de5ec2e2e8f62f467e546659f5068c88]\n",
       "cluster E5--><a href=\"psysml:a2c4dab4-2ddb-42af-80d6-b11f423fabe1\" target=\"_top\" title=\"psysml:a2c4dab4-2ddb-42af-80d6-b11f423fabe1\" xlink:actuate=\"onRequest\" xlink:href=\"psysml:a2c4dab4-2ddb-42af-80d6-b11f423fabe1\" xlink:show=\"new\" xlink:title=\"psysml:a2c4dab4-2ddb-42af-80d6-b11f423fabe1\" xlink:type=\"simple\"><rect fill=\"#FFFFFF\" filter=\"url(#f1lau680q4h0ke)\" height=\"129\" id=\"E5\" rx=\"10\" ry=\"10\" style=\"stroke: #A80036; stroke-width: 1.5;\" width=\"225\" x=\"368\" y=\"57\"/><rect fill=\"#FEFECE\" height=\"37.9375\" rx=\"10\" ry=\"10\" style=\"stroke: #FEFECE; stroke-width: 1.5;\" width=\"225\" x=\"368\" y=\"57\"/><rect fill=\"#FEFECE\" height=\"10\" style=\"stroke: #FEFECE; stroke-width: 1.5;\" width=\"225\" x=\"368\" y=\"84.9375\"/><rect fill=\"none\" height=\"129\" id=\"E5\" rx=\"10\" ry=\"10\" style=\"stroke: #A80036; stroke-width: 1.5;\" width=\"225\" x=\"368\" y=\"57\"/><text fill=\"#000000\" font-family=\"sans-serif\" font-size=\"12\" font-style=\"italic\" lengthAdjust=\"spacingAndGlyphs\" textLength=\"64\" x=\"448.5\" y=\"73.1387\">«analysis»</text><text fill=\"#000000\" font-family=\"sans-serif\" font-size=\"12\" lengthAdjust=\"spacingAndGlyphs\" textLength=\"114\" x=\"423.5\" y=\"87.1074\">engineTradeStudy</text><line style=\"stroke: #A80036; stroke-width: 1.0;\" x1=\"368\" x2=\"593\" y1=\"94.9375\" y2=\"94.9375\"/></a><!--MD5=[2156ba9850f5573cc1fc38a6a4b2f02b]\n",
       "class E7--><a href=\"psysml:e59262b2-24eb-419d-a794-3b71c7229dcc\" target=\"_top\" title=\"psysml:e59262b2-24eb-419d-a794-3b71c7229dcc\" xlink:actuate=\"onRequest\" xlink:href=\"psysml:e59262b2-24eb-419d-a794-3b71c7229dcc\" xlink:show=\"new\" xlink:title=\"psysml:e59262b2-24eb-419d-a794-3b71c7229dcc\" xlink:type=\"simple\"><rect fill=\"#FEFECE\" filter=\"url(#f1lau680q4h0ke)\" height=\"45.9375\" id=\"E7\" rx=\"10\" ry=\"10\" style=\"stroke: #A80036; stroke-width: 1.5;\" width=\"155\" x=\"110.5\" y=\"219\"/><ellipse cx=\"125.5\" cy=\"237.9688\" fill=\"#FFA500\" rx=\"11\" ry=\"11\" style=\"stroke: #A80036; stroke-width: 1.0;\"/><path d=\"M125.25,243.4375 Q123.5,243.4375 122.5469,242.4063 Q121.6094,241.3594 121.6094,239.5156 L121.6094,232.625 L123.6719,232.625 L123.6719,232.7813 Q123.5781,232.875 123.5469,233.0156 Q123.5313,233.1406 123.5313,233.4063 L123.5313,239.5313 Q123.5313,240.625 123.9063,241.25 Q124.2813,241.875 125.2656,241.875 Q126.25,241.875 126.6406,241.25 Q127.0313,240.625 127.0313,239.4844 L127.0313,232.625 L128.9063,232.625 L128.9063,239.4688 Q128.9063,241.5 127.875,242.4688 Q126.8594,243.4375 125.25,243.4375 Z \"/><text fill=\"#000000\" font-family=\"sans-serif\" font-size=\"12\" font-style=\"italic\" lengthAdjust=\"spacingAndGlyphs\" textLength=\"82\" x=\"160\" y=\"235.1387\">«calculation»</text><text fill=\"#000000\" font-family=\"sans-serif\" font-size=\"12\" lengthAdjust=\"spacingAndGlyphs\" textLength=\"119\" x=\"139.5\" y=\"249.1074\">evaluationFunction</text><line style=\"stroke: #A80036; stroke-width: 1.5;\" x1=\"111.5\" x2=\"264.5\" y1=\"256.9375\" y2=\"256.9375\"/></a><!--MD5=[b9389687b975829384b498ac4b7476b2]\n",
       "class E8--><a href=\"psysml:83f46fb2-5a48-4342-a61e-b1e9a3952716\" target=\"_top\" title=\"psysml:83f46fb2-5a48-4342-a61e-b1e9a3952716\" xlink:actuate=\"onRequest\" xlink:href=\"psysml:83f46fb2-5a48-4342-a61e-b1e9a3952716\" xlink:show=\"new\" xlink:title=\"psysml:83f46fb2-5a48-4342-a61e-b1e9a3952716\" xlink:type=\"simple\"><rect fill=\"#FEFECE\" filter=\"url(#f1lau680q4h0ke)\" height=\"40\" id=\"E8\" rx=\"10\" ry=\"10\" style=\"stroke: #A80036; stroke-width: 1.5;\" width=\"154\" x=\"381\" y=\"298\"/><ellipse cx=\"396\" cy=\"314\" fill=\"#B6DBBB\" rx=\"11\" ry=\"11\" style=\"stroke: #A80036; stroke-width: 1.0;\"/><path d=\"M395.75,319.4688 Q394,319.4688 393.0469,318.4375 Q392.1094,317.3906 392.1094,315.5469 L392.1094,308.6563 L394.1719,308.6563 L394.1719,308.8125 Q394.0781,308.9063 394.0469,309.0469 Q394.0313,309.1719 394.0313,309.4375 L394.0313,315.5625 Q394.0313,316.6563 394.4063,317.2813 Q394.7813,317.9063 395.7656,317.9063 Q396.75,317.9063 397.1406,317.2813 Q397.5313,316.6563 397.5313,315.5156 L397.5313,308.6563 L399.4063,308.6563 L399.4063,315.5 Q399.4063,317.5313 398.375,318.5 Q397.3594,319.4688 395.75,319.4688 Z \"/><text fill=\"#000000\" font-family=\"sans-serif\" font-size=\"12\" lengthAdjust=\"spacingAndGlyphs\" textLength=\"118\" x=\"410\" y=\"318.1543\">alternative: Engine</text><line style=\"stroke: #A80036; stroke-width: 1.5;\" x1=\"382\" x2=\"534\" y1=\"330\" y2=\"330\"/></a><!--MD5=[fd4143e9d270a159db93a4ea2a975926]\n",
       "class E9--><a href=\"psysml:43a96bb2-d059-439d-9037-f3d1363e69c1\" target=\"_top\" title=\"psysml:43a96bb2-d059-439d-9037-f3d1363e69c1\" xlink:actuate=\"onRequest\" xlink:href=\"psysml:43a96bb2-d059-439d-9037-f3d1363e69c1\" xlink:show=\"new\" xlink:title=\"psysml:43a96bb2-d059-439d-9037-f3d1363e69c1\" xlink:type=\"simple\"><rect fill=\"#FEFECE\" filter=\"url(#f1lau680q4h0ke)\" height=\"40\" id=\"E9\" rx=\"10\" ry=\"10\" style=\"stroke: #A80036; stroke-width: 1.5;\" width=\"208\" x=\"301\" y=\"222\"/><ellipse cx=\"316\" cy=\"238\" fill=\"#B6DBBB\" rx=\"11\" ry=\"11\" style=\"stroke: #A80036; stroke-width: 1.0;\"/><path d=\"M315.75,243.4688 Q314,243.4688 313.0469,242.4375 Q312.1094,241.3906 312.1094,239.5469 L312.1094,232.6563 L314.1719,232.6563 L314.1719,232.8125 Q314.0781,232.9063 314.0469,233.0469 Q314.0313,233.1719 314.0313,233.4375 L314.0313,239.5625 Q314.0313,240.6563 314.4063,241.2813 Q314.7813,241.9063 315.7656,241.9063 Q316.75,241.9063 317.1406,241.2813 Q317.5313,240.6563 317.5313,239.5156 L317.5313,232.6563 L319.4063,232.6563 L319.4063,239.5 Q319.4063,241.5313 318.375,242.5 Q317.3594,243.4688 315.75,243.4688 Z \"/><text fill=\"#000000\" font-family=\"sans-serif\" font-size=\"12\" lengthAdjust=\"spacingAndGlyphs\" textLength=\"172\" x=\"330\" y=\"242.1543\">selectedAlternative: Engine</text><line style=\"stroke: #A80036; stroke-width: 1.5;\" x1=\"302\" x2=\"508\" y1=\"254\" y2=\"254\"/></a><g id=\"E1.E2\"><a href=\"psysml:377b66bc-6410-4386-a0f5-58eac70f1599\" target=\"_top\" title=\"psysml:377b66bc-6410-4386-a0f5-58eac70f1599\" xlink:actuate=\"onRequest\" xlink:href=\"psysml:377b66bc-6410-4386-a0f5-58eac70f1599\" xlink:show=\"new\" xlink:title=\"psysml:377b66bc-6410-4386-a0f5-58eac70f1599\" xlink:type=\"simple\"><rect fill=\"#FEFECE\" filter=\"url(#f1lau680q4h0ke)\" height=\"40\" id=\"E2\" style=\"stroke: #A80036; stroke-width: 1.5;\" width=\"80\" x=\"418\" y=\"355\"/><ellipse cx=\"435.25\" cy=\"371\" fill=\"#008000\" rx=\"11\" ry=\"11\" style=\"stroke: #A80036; stroke-width: 1.0;\"/><path d=\"M432.125,376 L432.125,365.4063 L435.3594,365.4063 Q437.2656,365.4063 438.1719,366.1563 Q439.0938,366.9063 439.0938,368.0781 Q439.0938,368.7656 438.7031,369.4219 Q438.3281,370.0781 437.6094,370.375 Q438.4688,370.75 438.9844,371.4375 Q439.5,372.125 439.5,372.9375 Q439.5,374.3125 438.4688,375.1563 Q437.4531,376 435.3438,376 L432.125,376 Z M434.0469,369.6406 L435.2031,369.6406 Q436.3281,369.6406 436.7344,369.2656 Q437.1563,368.875 437.1563,368.25 Q437.1563,367.6719 436.7344,367.3125 Q436.3125,366.9531 435.375,366.9531 L434.0469,366.9531 L434.0469,369.6406 Z M434.0469,374.4219 L435.5469,374.4219 Q436.4531,374.4219 436.9844,374.0313 Q437.5156,373.6406 437.5156,372.8906 Q437.5156,372.125 437.0156,371.6563 Q436.5156,371.1719 435.25,371.1719 L434.0469,371.1719 L434.0469,374.4219 Z \"/><text fill=\"#000000\" font-family=\"sans-serif\" font-size=\"12\" lengthAdjust=\"spacingAndGlyphs\" textLength=\"43\" x=\"449.75\" y=\"375.1543\">Engine</text></a></g><g id=\"E1.E3\"><a href=\"psysml:b73c7ebb-9472-45c7-822b-647f60ba4ebd\" target=\"_top\" title=\"psysml:b73c7ebb-9472-45c7-822b-647f60ba4ebd\" xlink:actuate=\"onRequest\" xlink:href=\"psysml:b73c7ebb-9472-45c7-822b-647f60ba4ebd\" xlink:show=\"new\" xlink:title=\"psysml:b73c7ebb-9472-45c7-822b-647f60ba4ebd\" xlink:type=\"simple\"><rect fill=\"#FEFECE\" filter=\"url(#f1lau680q4h0ke)\" height=\"40\" id=\"E3\" rx=\"10\" ry=\"10\" style=\"stroke: #A80036; stroke-width: 1.5;\" width=\"139\" x=\"206.5\" y=\"298\"/><ellipse cx=\"223.75\" cy=\"314\" fill=\"#B6DBBB\" rx=\"11\" ry=\"11\" style=\"stroke: #A80036; stroke-width: 1.0;\"/><path d=\"M223.5,319.4688 Q221.75,319.4688 220.7969,318.4375 Q219.8594,317.3906 219.8594,315.5469 L219.8594,308.6563 L221.9219,308.6563 L221.9219,308.8125 Q221.8281,308.9063 221.7969,309.0469 Q221.7813,309.1719 221.7813,309.4375 L221.7813,315.5625 Q221.7813,316.6563 222.1563,317.2813 Q222.5313,317.9063 223.5156,317.9063 Q224.5,317.9063 224.8906,317.2813 Q225.2813,316.6563 225.2813,315.5156 L225.2813,308.6563 L227.1563,308.6563 L227.1563,315.5 Q227.1563,317.5313 226.125,318.5 Q225.1094,319.4688 223.5,319.4688 Z \"/><text fill=\"#000000\" font-family=\"sans-serif\" font-size=\"12\" lengthAdjust=\"spacingAndGlyphs\" textLength=\"102\" x=\"238.25\" y=\"318.1543\">engine1: Engine</text></a></g><g id=\"E1.E4\"><a href=\"psysml:383bc22a-19f8-4697-ba31-98dbfb8a50a3\" target=\"_top\" title=\"psysml:383bc22a-19f8-4697-ba31-98dbfb8a50a3\" xlink:actuate=\"onRequest\" xlink:href=\"psysml:383bc22a-19f8-4697-ba31-98dbfb8a50a3\" xlink:show=\"new\" xlink:title=\"psysml:383bc22a-19f8-4697-ba31-98dbfb8a50a3\" xlink:type=\"simple\"><rect fill=\"#FEFECE\" filter=\"url(#f1lau680q4h0ke)\" height=\"40\" id=\"E4\" rx=\"10\" ry=\"10\" style=\"stroke: #A80036; stroke-width: 1.5;\" width=\"139\" x=\"32.5\" y=\"298\"/><ellipse cx=\"49.75\" cy=\"314\" fill=\"#B6DBBB\" rx=\"11\" ry=\"11\" style=\"stroke: #A80036; stroke-width: 1.0;\"/><path d=\"M49.5,319.4688 Q47.75,319.4688 46.7969,318.4375 Q45.8594,317.3906 45.8594,315.5469 L45.8594,308.6563 L47.9219,308.6563 L47.9219,308.8125 Q47.8281,308.9063 47.7969,309.0469 Q47.7813,309.1719 47.7813,309.4375 L47.7813,315.5625 Q47.7813,316.6563 48.1563,317.2813 Q48.5313,317.9063 49.5156,317.9063 Q50.5,317.9063 50.8906,317.2813 Q51.2813,316.6563 51.2813,315.5156 L51.2813,308.6563 L53.1563,308.6563 L53.1563,315.5 Q53.1563,317.5313 52.125,318.5 Q51.1094,319.4688 49.5,319.4688 Z \"/><text fill=\"#000000\" font-family=\"sans-serif\" font-size=\"12\" lengthAdjust=\"spacingAndGlyphs\" textLength=\"102\" x=\"64.25\" y=\"318.1543\">engine2: Engine</text></a></g><!--MD5=[60a26617385b1d2d0262a64233df1f8d]\n",
       "class E6--><a href=\"psysml:6f716227-75fa-479d-851c-c6728be0ecaf\" target=\"_top\" title=\"psysml:6f716227-75fa-479d-851c-c6728be0ecaf\" xlink:actuate=\"onRequest\" xlink:href=\"psysml:6f716227-75fa-479d-851c-c6728be0ecaf\" xlink:show=\"new\" xlink:title=\"psysml:6f716227-75fa-479d-851c-c6728be0ecaf\" xlink:type=\"simple\"><rect fill=\"#FEFECE\" filter=\"url(#f1lau680q4h0ke)\" height=\"45.9375\" id=\"E6\" rx=\"10\" ry=\"10\" style=\"stroke: #A80036; stroke-width: 1.5;\" width=\"158\" x=\"411\" y=\"116\"/><ellipse cx=\"426\" cy=\"134.9688\" fill=\"#B6DBBB\" rx=\"11\" ry=\"11\" style=\"stroke: #A80036; stroke-width: 1.0;\"/><path d=\"M425.75,140.4375 Q424,140.4375 423.0469,139.4063 Q422.1094,138.3594 422.1094,136.5156 L422.1094,129.625 L424.1719,129.625 L424.1719,129.7813 Q424.0781,129.875 424.0469,130.0156 Q424.0313,130.1406 424.0313,130.4063 L424.0313,136.5313 Q424.0313,137.625 424.4063,138.25 Q424.7813,138.875 425.7656,138.875 Q426.75,138.875 427.1406,138.25 Q427.5313,137.625 427.5313,136.4844 L427.5313,129.625 L429.4063,129.625 L429.4063,136.4688 Q429.4063,138.5 428.375,139.4688 Q427.3594,140.4375 425.75,140.4375 Z \"/><text fill=\"#000000\" font-family=\"sans-serif\" font-size=\"12\" font-style=\"italic\" lengthAdjust=\"spacingAndGlyphs\" textLength=\"70\" x=\"468\" y=\"132.1387\">«objective»</text><text fill=\"#000000\" font-family=\"sans-serif\" font-size=\"12\" lengthAdjust=\"spacingAndGlyphs\" textLength=\"126\" x=\"440\" y=\"146.1074\">tradeStudyObjective</text><line style=\"stroke: #A80036; stroke-width: 1.5;\" x1=\"412\" x2=\"568\" y1=\"153.9375\" y2=\"153.9375\"/></a><!--MD5=[05d275557350bfb9b23a4ef7222b4c39]\n",
       "link E3 to E2--><a href=\"psysml:a3c7b902-deb2-42e0-bb2d-9591134be70d\" target=\"_top\" title=\"psysml:a3c7b902-deb2-42e0-bb2d-9591134be70d\" xlink:actuate=\"onRequest\" xlink:href=\"psysml:a3c7b902-deb2-42e0-bb2d-9591134be70d\" xlink:show=\"new\" xlink:title=\"psysml:a3c7b902-deb2-42e0-bb2d-9591134be70d\" xlink:type=\"simple\"><path d=\"M338.89,338 C358.23,343.85 379.45,350.26 398.56,356.04 \" fill=\"none\" id=\"E3-&gt;E2\" style=\"stroke: #A80036; stroke-width: 1.0;\"/><polygon fill=\"#FFFFFF\" points=\"417.9,361.88,397.6874,363.0837,401.7377,349.6824,417.9,361.88\" style=\"stroke: #A80036; stroke-width: 1.0;\"/><ellipse cx=\"392.8097\" cy=\"359.5201\" fill=\"#A80036\" rx=\"2\" ry=\"2\" style=\"stroke: #A80036; stroke-width: 1.0;\"/><ellipse cx=\"395.7029\" cy=\"349.9478\" fill=\"#A80036\" rx=\"2\" ry=\"2\" style=\"stroke: #A80036; stroke-width: 1.0;\"/></a><!--MD5=[185131fc0dcab0a4505a2ebe144e961b]\n",
       "link E4 to E2--><a href=\"psysml:ad9261f0-dda0-42b5-9d6e-43ebe8822407\" target=\"_top\" title=\"psysml:ad9261f0-dda0-42b5-9d6e-43ebe8822407\" xlink:actuate=\"onRequest\" xlink:href=\"psysml:ad9261f0-dda0-42b5-9d6e-43ebe8822407\" xlink:show=\"new\" xlink:title=\"psysml:ad9261f0-dda0-42b5-9d6e-43ebe8822407\" xlink:type=\"simple\"><path d=\"M171.7,334.75 C177.54,335.91 183.37,337.01 189,338 C260.28,350.53 342.87,360.99 397.54,367.34 \" fill=\"none\" id=\"E4-&gt;E2\" style=\"stroke: #A80036; stroke-width: 1.0;\"/><polygon fill=\"#FFFFFF\" points=\"417.74,369.65,398.068,374.4469,399.6579,360.5375,417.74,369.65\" style=\"stroke: #A80036; stroke-width: 1.0;\"/><ellipse cx=\"392.632\" cy=\"371.8126\" fill=\"#A80036\" rx=\"2\" ry=\"2\" style=\"stroke: #A80036; stroke-width: 1.0;\"/><ellipse cx=\"393.7676\" cy=\"361.8772\" fill=\"#A80036\" rx=\"2\" ry=\"2\" style=\"stroke: #A80036; stroke-width: 1.0;\"/></a><!--MD5=[15ebcb19ae302d9b601edb458606d402]\n",
       "link E5 to E2--><a href=\"psysml:b52cccfc-b130-477f-adae-4c6f859e452b\" target=\"_top\" title=\"psysml:b52cccfc-b130-477f-adae-4c6f859e452b\" xlink:actuate=\"onRequest\" xlink:href=\"psysml:b52cccfc-b130-477f-adae-4c6f859e452b\" xlink:show=\"new\" xlink:title=\"psysml:b52cccfc-b130-477f-adae-4c6f859e452b\" xlink:type=\"simple\"><path d=\"M383.4058,186.0019 C383.4511,186.1019 383.4966,186.2017 383.5423,186.3014 C383.7254,186.7001 383.9128,187.0967 384.1046,187.4909 C384.4881,188.2792 384.8891,189.0581 385.3085,189.8256 C386.1471,191.3606 387.0589,192.8499 388.0501,194.2786 C390.0325,197.1358 392.3325,199.75 395,202 C440.21,240.14 478.86,184.62 527,219 C558.87,241.76 557.1,259.87 566,298 C570.04,315.31 573.95,322.1 566,338 C563.02,343.96 559.98,344.05 554,347 C538.24,354.78 519.89,360.64 503.48,364.87 \" fill=\"none\" id=\"E5-&gt;E2\" style=\"stroke: #A80036; stroke-width: 1.0; stroke-dasharray: 7.0,7.0;\"/><polygon fill=\"#A80036\" points=\"498.45,366.13,508.1573,367.7941,503.2965,364.9005,506.1901,360.0397,498.45,366.13\" style=\"stroke: #A80036; stroke-width: 1.0;\"/><text fill=\"#000000\" font-family=\"sans-serif\" font-size=\"13\" lengthAdjust=\"spacingAndGlyphs\" textLength=\"62\" x=\"565\" y=\"286.0669\">«subject»</text></a><!--MD5=[452b418e7f8a40397a49b8c0a78acc5b]\n",
       "reverse link E5 to E7--><a href=\"psysml:226717b4-0db0-47e0-9eef-bae3c4ff0509\" target=\"_top\" title=\"psysml:226717b4-0db0-47e0-9eef-bae3c4ff0509\" xlink:actuate=\"onRequest\" xlink:href=\"psysml:226717b4-0db0-47e0-9eef-bae3c4ff0509\" xlink:show=\"new\" xlink:title=\"psysml:226717b4-0db0-47e0-9eef-bae3c4ff0509\" xlink:type=\"simple\"><path d=\"M367.9289,144.3322 C367.8193,144.391 367.7087,144.4505 367.5972,144.5104 C367.374,144.6303 367.1469,144.7523 366.9158,144.8765 C366.4537,145.1248 365.9759,145.3815 365.4828,145.6464 C363.5106,146.7061 361.2945,147.8968 358.8638,149.2028 C349.1406,154.4269 335.9825,161.4962 321.2575,169.4075 C291.8075,185.23 256.09,204.42 229.05,218.95 \" fill=\"none\" id=\"E5&lt;-E7\" style=\"stroke: #A80036; stroke-width: 1.0;\"/><polygon fill=\"#FFFFFF\" points=\"367.9289,144.3322,360.7503,143.6485,357.3582,150.0119,364.5368,150.6956,367.9289,144.3322\" style=\"stroke: #A80036; stroke-width: 1.0;\"/></a><!--MD5=[dc164f5e8a733ab456ef1add180e9e34]\n",
       "reverse link E7 to E8--><a href=\"psysml:6f1f84a3-2ac1-458a-baf6-caa888cc195f\" target=\"_top\" title=\"psysml:6f1f84a3-2ac1-458a-baf6-caa888cc195f\" xlink:actuate=\"onRequest\" xlink:href=\"psysml:6f1f84a3-2ac1-458a-baf6-caa888cc195f\" xlink:show=\"new\" xlink:title=\"psysml:6f1f84a3-2ac1-458a-baf6-caa888cc195f\" xlink:type=\"simple\"><path d=\"M278.72,267.86 C314.6,277.7 355.17,288.82 388.63,297.99 \" fill=\"none\" id=\"E7&lt;-E8\" style=\"stroke: #A80036; stroke-width: 1.0;\"/><polygon fill=\"#FFFFFF\" points=\"265.73,264.3,270.463,269.7405,277.3053,267.4641,272.5724,262.0236,265.73,264.3\" style=\"stroke: #A80036; stroke-width: 1.0;\"/><text fill=\"#000000\" font-family=\"sans-serif\" font-size=\"13\" lengthAdjust=\"spacingAndGlyphs\" textLength=\"8\" x=\"364.5803\" y=\"289.0536\">1</text></a><!--MD5=[f1f3f9f2fc535e6147756cb86a7f2e32]\n",
       "link E8 to E2--><a href=\"psysml:2bf4d1c6-7bac-40b1-aaaa-83952da67c38\" target=\"_top\" title=\"psysml:2bf4d1c6-7bac-40b1-aaaa-83952da67c38\" xlink:actuate=\"onRequest\" xlink:href=\"psysml:2bf4d1c6-7bac-40b1-aaaa-83952da67c38\" xlink:show=\"new\" xlink:title=\"psysml:2bf4d1c6-7bac-40b1-aaaa-83952da67c38\" xlink:type=\"simple\"><path d=\"M458,338.24 C458,338.32 458,338.4 458,338.49 \" fill=\"none\" id=\"E8-&gt;E2\" style=\"stroke: #A80036; stroke-width: 1.0;\"/><polygon fill=\"#FFFFFF\" points=\"458,354.68,451,335.68,465,335.68,458,354.68\" style=\"stroke: #A80036; stroke-width: 1.0;\"/><ellipse cx=\"453\" cy=\"329.98\" fill=\"#A80036\" rx=\"2\" ry=\"2\" style=\"stroke: #A80036; stroke-width: 1.0;\"/><ellipse cx=\"463\" cy=\"329.98\" fill=\"#A80036\" rx=\"2\" ry=\"2\" style=\"stroke: #A80036; stroke-width: 1.0;\"/></a><!--MD5=[9ae28de373ca99bb8a1b38d63370ca7e]\n",
       "reverse link E5 to E9--><a href=\"psysml:eedf805a-a406-401d-b38e-104ba6f0fce6\" target=\"_top\" title=\"psysml:eedf805a-a406-401d-b38e-104ba6f0fce6\" xlink:actuate=\"onRequest\" xlink:href=\"psysml:eedf805a-a406-401d-b38e-104ba6f0fce6\" xlink:show=\"new\" xlink:title=\"psysml:eedf805a-a406-401d-b38e-104ba6f0fce6\" xlink:type=\"simple\"><path d=\"M389.2816,186.2468 C389.361,186.5235 389.4406,186.8004 389.5201,187.0775 C389.8383,188.1856 390.1572,189.296 390.4761,190.4065 C391.1138,192.6274 391.7516,194.8485 392.3845,197.0527 C394.9163,205.8694 397.37,214.415 399.43,221.59 \" fill=\"none\" id=\"E5&lt;-E9\" style=\"stroke: #A80036; stroke-width: 1.0;\"/><polygon fill=\"#FFFFFF\" points=\"389.2816,186.2468,387.093,193.1177,392.5936,197.7806,394.7822,190.9097,389.2816,186.2468\" style=\"stroke: #A80036; stroke-width: 1.0;\"/><text fill=\"#000000\" font-family=\"sans-serif\" font-size=\"13\" lengthAdjust=\"spacingAndGlyphs\" textLength=\"8\" x=\"388.7384\" y=\"210.8259\">1</text></a><!--MD5=[5c3bb36fe832a92c7f0e1807dd65209d]\n",
       "link E9 to E2--><a href=\"psysml:3213573e-39ef-4dfb-813d-bdfb08b6e367\" target=\"_top\" title=\"psysml:3213573e-39ef-4dfb-813d-bdfb08b6e367\" xlink:actuate=\"onRequest\" xlink:href=\"psysml:3213573e-39ef-4dfb-813d-bdfb08b6e367\" xlink:show=\"new\" xlink:title=\"psysml:3213573e-39ef-4dfb-813d-bdfb08b6e367\" xlink:type=\"simple\"><path d=\"M441.21,262 C460.82,271.61 485.73,282.75 509,290 C527.98,295.91 540.26,282.74 553,298 C564.39,311.65 563.1,323.37 553,338 C544.62,350.13 531.58,358.18 517.82,363.52 \" fill=\"none\" id=\"E9-&gt;E2\" style=\"stroke: #A80036; stroke-width: 1.0;\"/><polygon fill=\"#FFFFFF\" points=\"498.3,369.4,514.4706,357.2135,518.5118,370.6175,498.3,369.4\" style=\"stroke: #A80036; stroke-width: 1.0;\"/><ellipse cx=\"520.5053\" cy=\"357.483\" fill=\"#A80036\" rx=\"2\" ry=\"2\" style=\"stroke: #A80036; stroke-width: 1.0;\"/><ellipse cx=\"523.3919\" cy=\"367.0573\" fill=\"#A80036\" rx=\"2\" ry=\"2\" style=\"stroke: #A80036; stroke-width: 1.0;\"/></a><!--MD5=[b050ea670a9f9510c3e4286a5236a07f]\n",
       "@startuml\r\n",
       "skinparam ranksep 10\r\n",
       "skinparam rectangle {\r\n",
       " backgroundColor<<block>> LightGreen\r\n",
       "}\r\n",
       " \r\n",
       "package \"TradeStudyTest\" as E1  [[psysml:06d75114-8d09-4304-b9ac-1031eaaad748 ]]  {\r\n",
       "rec def \"Engine\" as E2 << << (B,green) >> [[psysml:377b66bc-6410-4386-a0f5-58eac70f1599 ]] {\r\n",
       "}\r\n",
       "rec usage \"engine1: Engine\" as E3  [[psysml:b73c7ebb-9472-45c7-822b-647f60ba4ebd ]] {\r\n",
       "}\r\n",
       "rec usage \"engine2: Engine\" as E4  [[psysml:383bc22a-19f8-4697-ba31-98dbfb8a50a3 ]] {\r\n",
       "}\r\n",
       "rec usage \"engineTradeStudy\" as E5 << analysis>> [[psysml:a2c4dab4-2ddb-42af-80d6-b11f423fabe1 ]] {\r\n",
       "comp usage \"tradeStudyObjective\" as E6  <<objective>> [[psysml:6f716227-75fa-479d-851c-c6728be0ecaf ]] {\r\n",
       "}\r\n",
       "}\r\n",
       "comp usage \"evaluationFunction \" as E7 << <<(U,orange) calculation>> [[psysml:e59262b2-24eb-419d-a794-3b71c7229dcc ]] {\r\n",
       "}\r\n",
       "comp usage \"alternative: Engine \" as E8  [[psysml:83f46fb2-5a48-4342-a61e-b1e9a3952716 ]] {\r\n",
       "}\r\n",
       "comp usage \"selectedAlternative: Engine \" as E9  [[psysml:43a96bb2-d059-439d-9037-f3d1363e69c1 ]] {\r\n",
       "}\r\n",
       "}\r\n",
       "E3 - -:|> E2 [[psysml:a3c7b902-deb2-42e0-bb2d-9591134be70d ]] \r\n",
       "E4 - -:|> E2 [[psysml:ad9261f0-dda0-42b5-9d6e-43ebe8822407 ]] \r\n",
       "E5 ..> E2 [[psysml:b52cccfc-b130-477f-adae-4c6f859e452b ]] : <<subject>>\r\n",
       "E5 o- - E7 [[psysml:226717b4-0db0-47e0-9eef-bae3c4ff0509 ]] \r\n",
       "E7 o- - \"1\"E8 [[psysml:6f1f84a3-2ac1-458a-baf6-caa888cc195f ]] \r\n",
       "E8 - -:|> E2 [[psysml:2bf4d1c6-7bac-40b1-aaaa-83952da67c38 ]] \r\n",
       "E5 o- - \"1\"E9 [[psysml:eedf805a-a406-401d-b38e-104ba6f0fce6 ]] \r\n",
       "E9 - -:|> E2 [[psysml:3213573e-39ef-4dfb-813d-bdfb08b6e367 ]] \r\n",
       "@enduml\r\n",
       "\n",
       "PlantUML version 1.2020.13(Sat Jun 13 12:26:38 UTC 2020)\n",
       "(EPL source distribution)\n",
       "Java Runtime: OpenJDK Runtime Environment\n",
       "JVM: OpenJDK 64-Bit Server VM\n",
       "Default Encoding: UTF-8\n",
       "Language: en\n",
       "Country: null\n",
       "--></g></svg>"
      ]
     },
     "execution_count": 33,
     "metadata": {},
     "output_type": "execute_result"
    }
   ],
   "source": [
    "%viz --style=\"PLANTUML\" --view=\"Interconnection\" \"TradeStudyTest\""
   ]
  },
  {
   "cell_type": "code",
   "execution_count": 34,
   "id": "571a90b0",
   "metadata": {
    "execution": {
     "iopub.execute_input": "2022-08-19T08:21:17.689823Z",
     "iopub.status.busy": "2022-08-19T08:21:17.689393Z",
     "iopub.status.idle": "2022-08-19T08:21:17.721518Z",
     "shell.execute_reply": "2022-08-19T08:21:17.720974Z"
    }
   },
   "outputs": [
    {
     "data": {
      "image/svg+xml": [
       "<?xml version=\"1.0\" encoding=\"UTF-8\" standalone=\"no\"?><svg xmlns=\"http://www.w3.org/2000/svg\" xmlns:xlink=\"http://www.w3.org/1999/xlink\" contentScriptType=\"application/ecmascript\" contentStyleType=\"text/css\" height=\"235px\" preserveAspectRatio=\"none\" style=\"width:442px;height:235px;\" version=\"1.1\" viewBox=\"0 0 442 235\" width=\"442px\" zoomAndPan=\"magnify\"><defs><filter height=\"300%\" id=\"f1dculey710uuq\" width=\"300%\" x=\"-1\" y=\"-1\"><feGaussianBlur result=\"blurOut\" stdDeviation=\"2.0\"/><feColorMatrix in=\"blurOut\" result=\"blurOut2\" type=\"matrix\" values=\"0 0 0 0 0 0 0 0 0 0 0 0 0 0 0 0 0 0 .4 0\"/><feOffset dx=\"4.0\" dy=\"4.0\" in=\"blurOut2\" result=\"blurOut3\"/><feBlend in=\"SourceGraphic\" in2=\"blurOut3\" mode=\"normal\"/></filter></defs><g><!--MD5=[fbc87193dbaf4d95561dea2c320d4a47]\n",
       "cluster E1--><a href=\"psysml:a2c4dab4-2ddb-42af-80d6-b11f423fabe1\" target=\"_top\" title=\"psysml:a2c4dab4-2ddb-42af-80d6-b11f423fabe1\" xlink:actuate=\"onRequest\" xlink:href=\"psysml:a2c4dab4-2ddb-42af-80d6-b11f423fabe1\" xlink:show=\"new\" xlink:title=\"psysml:a2c4dab4-2ddb-42af-80d6-b11f423fabe1\" xlink:type=\"simple\"><rect fill=\"#FFFFFF\" filter=\"url(#f1dculey710uuq)\" height=\"174.36\" id=\"E1\" rx=\"10\" ry=\"10\" style=\"stroke: #A80036; stroke-width: 1.5;\" width=\"317\" x=\"47\" y=\"42.0986\"/><rect fill=\"#FEFECE\" height=\"37.9375\" rx=\"10\" ry=\"10\" style=\"stroke: #FEFECE; stroke-width: 1.5;\" width=\"317\" x=\"47\" y=\"42.0986\"/><rect fill=\"#FEFECE\" height=\"10\" style=\"stroke: #FEFECE; stroke-width: 1.5;\" width=\"317\" x=\"47\" y=\"70.0361\"/><rect fill=\"none\" height=\"174.36\" id=\"E1\" rx=\"10\" ry=\"10\" style=\"stroke: #A80036; stroke-width: 1.5;\" width=\"317\" x=\"47\" y=\"42.0986\"/><text fill=\"#000000\" font-family=\"sans-serif\" font-size=\"12\" font-style=\"italic\" lengthAdjust=\"spacingAndGlyphs\" textLength=\"64\" x=\"173.5\" y=\"58.2373\">«analysis»</text><text fill=\"#000000\" font-family=\"sans-serif\" font-size=\"12\" lengthAdjust=\"spacingAndGlyphs\" textLength=\"114\" x=\"148.5\" y=\"72.2061\">engineTradeStudy</text><line style=\"stroke: #A80036; stroke-width: 1.0;\" x1=\"47\" x2=\"364\" y1=\"80.0361\" y2=\"80.0361\"/></a><!--MD5=[d5e69f78d87373223dbae638b30a9c99]\n",
       "cluster E3--><a href=\"psysml:e59262b2-24eb-419d-a794-3b71c7229dcc\" target=\"_top\" title=\"psysml:e59262b2-24eb-419d-a794-3b71c7229dcc\" xlink:actuate=\"onRequest\" xlink:href=\"psysml:e59262b2-24eb-419d-a794-3b71c7229dcc\" xlink:show=\"new\" xlink:title=\"psysml:e59262b2-24eb-419d-a794-3b71c7229dcc\" xlink:type=\"simple\"><rect fill=\"#FFFFFF\" filter=\"url(#f1dculey710uuq)\" height=\"104.86\" id=\"E3\" rx=\"10\" ry=\"10\" style=\"stroke: #A80036; stroke-width: 1.5;\" width=\"178\" x=\"145\" y=\"81.5986\"/><rect fill=\"#FEFECE\" height=\"37.9375\" rx=\"10\" ry=\"10\" style=\"stroke: #FEFECE; stroke-width: 1.5;\" width=\"178\" x=\"145\" y=\"81.5986\"/><rect fill=\"#FEFECE\" height=\"10\" style=\"stroke: #FEFECE; stroke-width: 1.5;\" width=\"178\" x=\"145\" y=\"109.5361\"/><rect fill=\"none\" height=\"104.86\" id=\"E3\" rx=\"10\" ry=\"10\" style=\"stroke: #A80036; stroke-width: 1.5;\" width=\"178\" x=\"145\" y=\"81.5986\"/><text fill=\"#000000\" font-family=\"sans-serif\" font-size=\"12\" font-style=\"italic\" lengthAdjust=\"spacingAndGlyphs\" textLength=\"82\" x=\"193\" y=\"97.7373\">«calculation»</text><text fill=\"#000000\" font-family=\"sans-serif\" font-size=\"12\" lengthAdjust=\"spacingAndGlyphs\" textLength=\"119\" x=\"174.5\" y=\"111.7061\">evaluationFunction</text><line style=\"stroke: #A80036; stroke-width: 1.0;\" x1=\"145\" x2=\"323\" y1=\"119.5361\" y2=\"119.5361\"/></a><text fill=\"#000000\" font-family=\"sans-serif\" font-size=\"14\" lengthAdjust=\"spacingAndGlyphs\" textLength=\"118\" x=\"6\" y=\"20.7969\">studyAlternatives</text><rect fill=\"#A80036\" height=\"12\" style=\"stroke: #FEFECE; stroke-width: 1.5;\" width=\"12\" x=\"59\" y=\"36.0986\"/><text fill=\"#000000\" font-family=\"sans-serif\" font-size=\"14\" lengthAdjust=\"spacingAndGlyphs\" textLength=\"132\" x=\"298\" y=\"183.0938\">selectedAlternative</text><rect fill=\"#A80036\" height=\"12\" style=\"stroke: #FEFECE; stroke-width: 1.5;\" width=\"12\" x=\"358\" y=\"158.0986\"/><text fill=\"#000000\" font-family=\"sans-serif\" font-size=\"14\" lengthAdjust=\"spacingAndGlyphs\" textLength=\"71\" x=\"198.5\" y=\"60.2969\">alternative</text><rect fill=\"#A80036\" height=\"12\" style=\"stroke: #FEFECE; stroke-width: 1.5;\" width=\"12\" x=\"228\" y=\"75.5986\"/><text fill=\"#000000\" font-family=\"sans-serif\" font-size=\"14\" lengthAdjust=\"spacingAndGlyphs\" textLength=\"39\" x=\"214.5\" y=\"205.4538\">result</text><rect fill=\"#A80036\" height=\"12\" style=\"stroke: #FEFECE; stroke-width: 1.5;\" width=\"12\" x=\"228\" y=\"180.4586\"/><!--MD5=[e96aa9031f8569e7f9bdcd45fc54ca6b]\n",
       "@startuml\r\n",
       "skinparam ranksep 8\r\n",
       " \r\n",
       "rec usage \"engineTradeStudy\" as E1 << analysis>> [[psysml:a2c4dab4-2ddb-42af-80d6-b11f423fabe1 ]] {\r\n",
       "portin \"studyAlternatives\" as E2  [[psysml:ba51db2a-337d-4796-9152-a1747789732e ]] \r\n",
       "rec usage \"evaluationFunction\" as E3 << <<(U,orange) calculation>> [[psysml:e59262b2-24eb-419d-a794-3b71c7229dcc ]] {\r\n",
       "portin \"alternative\" as E4  [[psysml:83f46fb2-5a48-4342-a61e-b1e9a3952716 ]] \r\n",
       "portout \"result\" as E5  [[psysml:9307401e-c2bc-4ae8-a206-942b4cc90813 ]] \r\n",
       "}\r\n",
       "\r\n",
       "portout \"selectedAlternative\" as E6  [[psysml:43a96bb2-d059-439d-9037-f3d1363e69c1 ]] \r\n",
       "}\r\n",
       "\r\n",
       "@enduml\r\n",
       "\n",
       "PlantUML version 1.2020.13(Sat Jun 13 12:26:38 UTC 2020)\n",
       "(EPL source distribution)\n",
       "Java Runtime: OpenJDK Runtime Environment\n",
       "JVM: OpenJDK 64-Bit Server VM\n",
       "Default Encoding: UTF-8\n",
       "Language: en\n",
       "Country: null\n",
       "--></g></svg>"
      ]
     },
     "execution_count": 34,
     "metadata": {},
     "output_type": "execute_result"
    }
   ],
   "source": [
    "%viz --style=\"PLANTUML\" --view=\"Action\" \"TradeStudyTest\""
   ]
  },
  {
   "cell_type": "code",
   "execution_count": 35,
   "id": "d44077a2",
   "metadata": {
    "execution": {
     "iopub.execute_input": "2022-08-19T08:21:17.771435Z",
     "iopub.status.busy": "2022-08-19T08:21:17.770794Z",
     "iopub.status.idle": "2022-08-19T08:21:17.776909Z",
     "shell.execute_reply": "2022-08-19T08:21:17.776641Z"
    }
   },
   "outputs": [
    {
     "data": {
      "image/svg+xml": [
       "<?xml version=\"1.0\" encoding=\"UTF-8\" standalone=\"no\"?><svg xmlns=\"http://www.w3.org/2000/svg\" xmlns:xlink=\"http://www.w3.org/1999/xlink\" contentScriptType=\"application/ecmascript\" contentStyleType=\"text/css\" height=\"12px\" preserveAspectRatio=\"none\" style=\"width:12px;height:12px;\" version=\"1.1\" viewBox=\"0 0 12 12\" width=\"12px\" zoomAndPan=\"magnify\"><defs/><g><!--MD5=[ca4faa0b02def275ea33c14ea7a1a98d]\n",
       "@startuml\r\n",
       "skinparam roundcorner 20\r\n",
       "skinparam BoxPadding 20\r\n",
       "skinparam SequenceBoxBackgroundColor #white\r\n",
       "skinparam style strictuml\r\n",
       "skinparam maxMessageSize 100\r\n",
       " \r\n",
       "@enduml\r\n",
       "\n",
       "PlantUML version 1.2020.13(Sat Jun 13 12:26:38 UTC 2020)\n",
       "(EPL source distribution)\n",
       "Java Runtime: OpenJDK Runtime Environment\n",
       "JVM: OpenJDK 64-Bit Server VM\n",
       "Default Encoding: UTF-8\n",
       "Language: en\n",
       "Country: null\n",
       "--></g></svg>"
      ]
     },
     "execution_count": 35,
     "metadata": {},
     "output_type": "execute_result"
    }
   ],
   "source": [
    "%viz --style=\"PLANTUML\" --view=\"Sequence\" \"TradeStudyTest\""
   ]
  },
  {
   "cell_type": "code",
   "execution_count": 36,
   "id": "204c1a88",
   "metadata": {
    "execution": {
     "iopub.execute_input": "2022-08-19T08:21:17.826805Z",
     "iopub.status.busy": "2022-08-19T08:21:17.826451Z",
     "iopub.status.idle": "2022-08-19T08:21:17.867730Z",
     "shell.execute_reply": "2022-08-19T08:21:17.866696Z"
    }
   },
   "outputs": [
    {
     "data": {
      "image/svg+xml": [
       "<?xml version=\"1.0\" encoding=\"UTF-8\" standalone=\"no\"?><svg xmlns=\"http://www.w3.org/2000/svg\" xmlns:xlink=\"http://www.w3.org/1999/xlink\" contentScriptType=\"application/ecmascript\" contentStyleType=\"text/css\" height=\"539px\" preserveAspectRatio=\"none\" style=\"width:644px;height:539px;\" version=\"1.1\" viewBox=\"0 0 644 539\" width=\"644px\" zoomAndPan=\"magnify\"><defs><filter height=\"300%\" id=\"fcb2sbui9mvu\" width=\"300%\" x=\"-1\" y=\"-1\"><feGaussianBlur result=\"blurOut\" stdDeviation=\"2.0\"/><feColorMatrix in=\"blurOut\" result=\"blurOut2\" type=\"matrix\" values=\"0 0 0 0 0 0 0 0 0 0 0 0 0 0 0 0 0 0 .4 0\"/><feOffset dx=\"4.0\" dy=\"4.0\" in=\"blurOut2\" result=\"blurOut3\"/><feBlend in=\"SourceGraphic\" in2=\"blurOut3\" mode=\"normal\"/></filter></defs><g><!--MD5=[fbc87193dbaf4d95561dea2c320d4a47]\n",
       "cluster E1--><a href=\"psysml:06d75114-8d09-4304-b9ac-1031eaaad748\" target=\"_top\" title=\"psysml:06d75114-8d09-4304-b9ac-1031eaaad748\" xlink:actuate=\"onRequest\" xlink:href=\"psysml:06d75114-8d09-4304-b9ac-1031eaaad748\" xlink:show=\"new\" xlink:title=\"psysml:06d75114-8d09-4304-b9ac-1031eaaad748\" xlink:type=\"simple\"><polygon fill=\"#FFFFFF\" filter=\"url(#fcb2sbui9mvu)\" points=\"16,6,132,6,139,28.2969,622,28.2969,622,527,16,527,16,6\" style=\"stroke: #000000; stroke-width: 1.5;\"/><line style=\"stroke: #000000; stroke-width: 1.5;\" x1=\"16\" x2=\"139\" y1=\"28.2969\" y2=\"28.2969\"/><text fill=\"#000000\" font-family=\"sans-serif\" font-size=\"14\" font-weight=\"bold\" lengthAdjust=\"spacingAndGlyphs\" textLength=\"110\" x=\"20\" y=\"20.9951\">TradeStudyTest</text></a><!--MD5=[de5ec2e2e8f62f467e546659f5068c88]\n",
       "cluster E5--><a href=\"psysml:a2c4dab4-2ddb-42af-80d6-b11f423fabe1\" target=\"_top\" title=\"psysml:a2c4dab4-2ddb-42af-80d6-b11f423fabe1\" xlink:actuate=\"onRequest\" xlink:href=\"psysml:a2c4dab4-2ddb-42af-80d6-b11f423fabe1\" xlink:show=\"new\" xlink:title=\"psysml:a2c4dab4-2ddb-42af-80d6-b11f423fabe1\" xlink:type=\"simple\"><rect fill=\"#FFFFFF\" filter=\"url(#fcb2sbui9mvu)\" height=\"129\" id=\"E5\" rx=\"10\" ry=\"10\" style=\"stroke: #A80036; stroke-width: 1.5;\" width=\"225\" x=\"277\" y=\"57\"/><rect fill=\"#FEFECE\" height=\"37.9375\" rx=\"10\" ry=\"10\" style=\"stroke: #FEFECE; stroke-width: 1.5;\" width=\"225\" x=\"277\" y=\"57\"/><rect fill=\"#FEFECE\" height=\"10\" style=\"stroke: #FEFECE; stroke-width: 1.5;\" width=\"225\" x=\"277\" y=\"84.9375\"/><rect fill=\"none\" height=\"129\" id=\"E5\" rx=\"10\" ry=\"10\" style=\"stroke: #A80036; stroke-width: 1.5;\" width=\"225\" x=\"277\" y=\"57\"/><text fill=\"#000000\" font-family=\"sans-serif\" font-size=\"12\" font-style=\"italic\" lengthAdjust=\"spacingAndGlyphs\" textLength=\"64\" x=\"357.5\" y=\"73.1387\">«analysis»</text><text fill=\"#000000\" font-family=\"sans-serif\" font-size=\"12\" lengthAdjust=\"spacingAndGlyphs\" textLength=\"114\" x=\"332.5\" y=\"87.1074\">engineTradeStudy</text><line style=\"stroke: #A80036; stroke-width: 1.0;\" x1=\"277\" x2=\"502\" y1=\"94.9375\" y2=\"94.9375\"/></a><!--MD5=[b4997ac47864f28c2f74865a473b2911]\n",
       "class E2--><a href=\"psysml:377b66bc-6410-4386-a0f5-58eac70f1599\" target=\"_top\" title=\"psysml:377b66bc-6410-4386-a0f5-58eac70f1599\" xlink:actuate=\"onRequest\" xlink:href=\"psysml:377b66bc-6410-4386-a0f5-58eac70f1599\" xlink:show=\"new\" xlink:title=\"psysml:377b66bc-6410-4386-a0f5-58eac70f1599\" xlink:type=\"simple\"><rect fill=\"#FEFECE\" filter=\"url(#fcb2sbui9mvu)\" height=\"40\" id=\"E2\" style=\"stroke: #A80036; stroke-width: 1.5;\" width=\"75\" x=\"341.5\" y=\"471\"/><ellipse cx=\"356.5\" cy=\"487\" fill=\"#008000\" rx=\"11\" ry=\"11\" style=\"stroke: #A80036; stroke-width: 1.0;\"/><path d=\"M353.375,492 L353.375,481.4063 L356.6094,481.4063 Q358.5156,481.4063 359.4219,482.1563 Q360.3438,482.9063 360.3438,484.0781 Q360.3438,484.7656 359.9531,485.4219 Q359.5781,486.0781 358.8594,486.375 Q359.7188,486.75 360.2344,487.4375 Q360.75,488.125 360.75,488.9375 Q360.75,490.3125 359.7188,491.1563 Q358.7031,492 356.5938,492 L353.375,492 Z M355.2969,485.6406 L356.4531,485.6406 Q357.5781,485.6406 357.9844,485.2656 Q358.4063,484.875 358.4063,484.25 Q358.4063,483.6719 357.9844,483.3125 Q357.5625,482.9531 356.625,482.9531 L355.2969,482.9531 L355.2969,485.6406 Z M355.2969,490.4219 L356.7969,490.4219 Q357.7031,490.4219 358.2344,490.0313 Q358.7656,489.6406 358.7656,488.8906 Q358.7656,488.125 358.2656,487.6563 Q357.7656,487.1719 356.5,487.1719 L355.2969,487.1719 L355.2969,490.4219 Z \"/><text fill=\"#000000\" font-family=\"sans-serif\" font-size=\"12\" lengthAdjust=\"spacingAndGlyphs\" textLength=\"43\" x=\"370.5\" y=\"491.1543\">Engine</text><line style=\"stroke: #A80036; stroke-width: 1.5;\" x1=\"342.5\" x2=\"415.5\" y1=\"503\" y2=\"503\"/></a><!--MD5=[09b614a08d8cba4a07c9adeb5e0fee81]\n",
       "class E3--><a href=\"psysml:b73c7ebb-9472-45c7-822b-647f60ba4ebd\" target=\"_top\" title=\"psysml:b73c7ebb-9472-45c7-822b-647f60ba4ebd\" xlink:actuate=\"onRequest\" xlink:href=\"psysml:b73c7ebb-9472-45c7-822b-647f60ba4ebd\" xlink:show=\"new\" xlink:title=\"psysml:b73c7ebb-9472-45c7-822b-647f60ba4ebd\" xlink:type=\"simple\"><rect fill=\"#FEFECE\" filter=\"url(#fcb2sbui9mvu)\" height=\"45.9375\" id=\"E3\" rx=\"10\" ry=\"10\" style=\"stroke: #A80036; stroke-width: 1.5;\" width=\"138\" x=\"205\" y=\"364\"/><ellipse cx=\"220\" cy=\"382.9688\" fill=\"#32CD32\" rx=\"11\" ry=\"11\" style=\"stroke: #A80036; stroke-width: 1.0;\"/><path d=\"M216.8125,387.9688 L216.8125,377.375 L220.4219,377.375 Q221.6406,377.375 222.4375,377.8125 Q223.2344,378.2344 223.6094,378.9375 Q224,379.6406 224,380.4844 Q224,381.3281 223.625,382.0156 Q223.2656,382.7031 222.4688,383.125 Q221.6875,383.5313 220.5,383.5313 L218.7656,383.5313 L218.7656,387.9688 L216.8125,387.9688 Z M218.7656,381.9375 L220.375,381.9375 Q221.1875,381.9375 221.6094,381.5313 Q222.0313,381.125 222.0313,380.4844 Q222.0313,379.8594 221.6094,379.4531 Q221.1875,379.0469 220.3906,379.0469 L218.7656,379.0469 L218.7656,381.9375 Z \"/><text fill=\"#000000\" font-family=\"sans-serif\" font-size=\"12\" font-style=\"italic\" lengthAdjust=\"spacingAndGlyphs\" textLength=\"40\" x=\"267\" y=\"380.1387\">«part»</text><text fill=\"#000000\" font-family=\"sans-serif\" font-size=\"12\" lengthAdjust=\"spacingAndGlyphs\" textLength=\"102\" x=\"234\" y=\"394.1074\">engine1: Engine</text><line style=\"stroke: #A80036; stroke-width: 1.5;\" x1=\"206\" x2=\"342\" y1=\"401.9375\" y2=\"401.9375\"/></a><!--MD5=[ebbe1d658d1005bcc118a6aa81145e00]\n",
       "class E4--><a href=\"psysml:383bc22a-19f8-4697-ba31-98dbfb8a50a3\" target=\"_top\" title=\"psysml:383bc22a-19f8-4697-ba31-98dbfb8a50a3\" xlink:actuate=\"onRequest\" xlink:href=\"psysml:383bc22a-19f8-4697-ba31-98dbfb8a50a3\" xlink:show=\"new\" xlink:title=\"psysml:383bc22a-19f8-4697-ba31-98dbfb8a50a3\" xlink:type=\"simple\"><rect fill=\"#FEFECE\" filter=\"url(#fcb2sbui9mvu)\" height=\"45.9375\" id=\"E4\" rx=\"10\" ry=\"10\" style=\"stroke: #A80036; stroke-width: 1.5;\" width=\"138\" x=\"32\" y=\"364\"/><ellipse cx=\"47\" cy=\"382.9688\" fill=\"#32CD32\" rx=\"11\" ry=\"11\" style=\"stroke: #A80036; stroke-width: 1.0;\"/><path d=\"M43.8125,387.9688 L43.8125,377.375 L47.4219,377.375 Q48.6406,377.375 49.4375,377.8125 Q50.2344,378.2344 50.6094,378.9375 Q51,379.6406 51,380.4844 Q51,381.3281 50.625,382.0156 Q50.2656,382.7031 49.4688,383.125 Q48.6875,383.5313 47.5,383.5313 L45.7656,383.5313 L45.7656,387.9688 L43.8125,387.9688 Z M45.7656,381.9375 L47.375,381.9375 Q48.1875,381.9375 48.6094,381.5313 Q49.0313,381.125 49.0313,380.4844 Q49.0313,379.8594 48.6094,379.4531 Q48.1875,379.0469 47.3906,379.0469 L45.7656,379.0469 L45.7656,381.9375 Z \"/><text fill=\"#000000\" font-family=\"sans-serif\" font-size=\"12\" font-style=\"italic\" lengthAdjust=\"spacingAndGlyphs\" textLength=\"40\" x=\"94\" y=\"380.1387\">«part»</text><text fill=\"#000000\" font-family=\"sans-serif\" font-size=\"12\" lengthAdjust=\"spacingAndGlyphs\" textLength=\"102\" x=\"61\" y=\"394.1074\">engine2: Engine</text><line style=\"stroke: #A80036; stroke-width: 1.5;\" x1=\"33\" x2=\"169\" y1=\"401.9375\" y2=\"401.9375\"/></a><!--MD5=[2156ba9850f5573cc1fc38a6a4b2f02b]\n",
       "class E7--><a href=\"psysml:e59262b2-24eb-419d-a794-3b71c7229dcc\" target=\"_top\" title=\"psysml:e59262b2-24eb-419d-a794-3b71c7229dcc\" xlink:actuate=\"onRequest\" xlink:href=\"psysml:e59262b2-24eb-419d-a794-3b71c7229dcc\" xlink:show=\"new\" xlink:title=\"psysml:e59262b2-24eb-419d-a794-3b71c7229dcc\" xlink:type=\"simple\"><rect fill=\"#FEFECE\" filter=\"url(#fcb2sbui9mvu)\" height=\"45.9375\" id=\"E7\" rx=\"10\" ry=\"10\" style=\"stroke: #A80036; stroke-width: 1.5;\" width=\"155\" x=\"207.5\" y=\"241\"/><ellipse cx=\"222.5\" cy=\"259.9688\" fill=\"#FFA500\" rx=\"11\" ry=\"11\" style=\"stroke: #A80036; stroke-width: 1.0;\"/><path d=\"M222.25,265.4375 Q220.5,265.4375 219.5469,264.4063 Q218.6094,263.3594 218.6094,261.5156 L218.6094,254.625 L220.6719,254.625 L220.6719,254.7813 Q220.5781,254.875 220.5469,255.0156 Q220.5313,255.1406 220.5313,255.4063 L220.5313,261.5313 Q220.5313,262.625 220.9063,263.25 Q221.2813,263.875 222.2656,263.875 Q223.25,263.875 223.6406,263.25 Q224.0313,262.625 224.0313,261.4844 L224.0313,254.625 L225.9063,254.625 L225.9063,261.4688 Q225.9063,263.5 224.875,264.4688 Q223.8594,265.4375 222.25,265.4375 Z \"/><text fill=\"#000000\" font-family=\"sans-serif\" font-size=\"12\" font-style=\"italic\" lengthAdjust=\"spacingAndGlyphs\" textLength=\"82\" x=\"257\" y=\"257.1387\">«calculation»</text><text fill=\"#000000\" font-family=\"sans-serif\" font-size=\"12\" lengthAdjust=\"spacingAndGlyphs\" textLength=\"119\" x=\"236.5\" y=\"271.1074\">evaluationFunction</text><line style=\"stroke: #A80036; stroke-width: 1.5;\" x1=\"208.5\" x2=\"361.5\" y1=\"278.9375\" y2=\"278.9375\"/></a><!--MD5=[b9389687b975829384b498ac4b7476b2]\n",
       "class E8--><a href=\"psysml:83f46fb2-5a48-4342-a61e-b1e9a3952716\" target=\"_top\" title=\"psysml:83f46fb2-5a48-4342-a61e-b1e9a3952716\" xlink:actuate=\"onRequest\" xlink:href=\"psysml:83f46fb2-5a48-4342-a61e-b1e9a3952716\" xlink:show=\"new\" xlink:title=\"psysml:83f46fb2-5a48-4342-a61e-b1e9a3952716\" xlink:type=\"simple\"><rect fill=\"#FEFECE\" filter=\"url(#fcb2sbui9mvu)\" height=\"45.9375\" id=\"E8\" rx=\"10\" ry=\"10\" style=\"stroke: #A80036; stroke-width: 1.5;\" width=\"154\" x=\"415\" y=\"364\"/><ellipse cx=\"430\" cy=\"382.9688\" fill=\"#32CD32\" rx=\"11\" ry=\"11\" style=\"stroke: #A80036; stroke-width: 1.0;\"/><path d=\"M426.8125,387.9688 L426.8125,377.375 L430.4219,377.375 Q431.6406,377.375 432.4375,377.8125 Q433.2344,378.2344 433.6094,378.9375 Q434,379.6406 434,380.4844 Q434,381.3281 433.625,382.0156 Q433.2656,382.7031 432.4688,383.125 Q431.6875,383.5313 430.5,383.5313 L428.7656,383.5313 L428.7656,387.9688 L426.8125,387.9688 Z M428.7656,381.9375 L430.375,381.9375 Q431.1875,381.9375 431.6094,381.5313 Q432.0313,381.125 432.0313,380.4844 Q432.0313,379.8594 431.6094,379.4531 Q431.1875,379.0469 430.3906,379.0469 L428.7656,379.0469 L428.7656,381.9375 Z \"/><text fill=\"#000000\" font-family=\"sans-serif\" font-size=\"12\" font-style=\"italic\" lengthAdjust=\"spacingAndGlyphs\" textLength=\"40\" x=\"485\" y=\"380.1387\">«part»</text><text fill=\"#000000\" font-family=\"sans-serif\" font-size=\"12\" lengthAdjust=\"spacingAndGlyphs\" textLength=\"118\" x=\"444\" y=\"394.1074\">alternative: Engine</text><line style=\"stroke: #A80036; stroke-width: 1.5;\" x1=\"416\" x2=\"568\" y1=\"401.9375\" y2=\"401.9375\"/></a><!--MD5=[fd4143e9d270a159db93a4ea2a975926]\n",
       "class E9--><a href=\"psysml:43a96bb2-d059-439d-9037-f3d1363e69c1\" target=\"_top\" title=\"psysml:43a96bb2-d059-439d-9037-f3d1363e69c1\" xlink:actuate=\"onRequest\" xlink:href=\"psysml:43a96bb2-d059-439d-9037-f3d1363e69c1\" xlink:show=\"new\" xlink:title=\"psysml:43a96bb2-d059-439d-9037-f3d1363e69c1\" xlink:type=\"simple\"><rect fill=\"#FEFECE\" filter=\"url(#fcb2sbui9mvu)\" height=\"45.9375\" id=\"E9\" rx=\"10\" ry=\"10\" style=\"stroke: #A80036; stroke-width: 1.5;\" width=\"208\" x=\"398\" y=\"241\"/><ellipse cx=\"413\" cy=\"259.9688\" fill=\"#32CD32\" rx=\"11\" ry=\"11\" style=\"stroke: #A80036; stroke-width: 1.0;\"/><path d=\"M409.8125,264.9688 L409.8125,254.375 L413.4219,254.375 Q414.6406,254.375 415.4375,254.8125 Q416.2344,255.2344 416.6094,255.9375 Q417,256.6406 417,257.4844 Q417,258.3281 416.625,259.0156 Q416.2656,259.7031 415.4688,260.125 Q414.6875,260.5313 413.5,260.5313 L411.7656,260.5313 L411.7656,264.9688 L409.8125,264.9688 Z M411.7656,258.9375 L413.375,258.9375 Q414.1875,258.9375 414.6094,258.5313 Q415.0313,258.125 415.0313,257.4844 Q415.0313,256.8594 414.6094,256.4531 Q414.1875,256.0469 413.3906,256.0469 L411.7656,256.0469 L411.7656,258.9375 Z \"/><text fill=\"#000000\" font-family=\"sans-serif\" font-size=\"12\" font-style=\"italic\" lengthAdjust=\"spacingAndGlyphs\" textLength=\"40\" x=\"495\" y=\"257.1387\">«part»</text><text fill=\"#000000\" font-family=\"sans-serif\" font-size=\"12\" lengthAdjust=\"spacingAndGlyphs\" textLength=\"172\" x=\"427\" y=\"271.1074\">selectedAlternative: Engine</text><line style=\"stroke: #A80036; stroke-width: 1.5;\" x1=\"399\" x2=\"605\" y1=\"278.9375\" y2=\"278.9375\"/></a><!--MD5=[60a26617385b1d2d0262a64233df1f8d]\n",
       "class E6--><a href=\"psysml:6f716227-75fa-479d-851c-c6728be0ecaf\" target=\"_top\" title=\"psysml:6f716227-75fa-479d-851c-c6728be0ecaf\" xlink:actuate=\"onRequest\" xlink:href=\"psysml:6f716227-75fa-479d-851c-c6728be0ecaf\" xlink:show=\"new\" xlink:title=\"psysml:6f716227-75fa-479d-851c-c6728be0ecaf\" xlink:type=\"simple\"><rect fill=\"#FEFECE\" filter=\"url(#fcb2sbui9mvu)\" height=\"45.9375\" id=\"E6\" rx=\"10\" ry=\"10\" style=\"stroke: #A80036; stroke-width: 1.5;\" width=\"158\" x=\"320\" y=\"116\"/><ellipse cx=\"335\" cy=\"134.9688\" fill=\"#B6DBBB\" rx=\"11\" ry=\"11\" style=\"stroke: #A80036; stroke-width: 1.0;\"/><path d=\"M334.75,140.4375 Q333,140.4375 332.0469,139.4063 Q331.1094,138.3594 331.1094,136.5156 L331.1094,129.625 L333.1719,129.625 L333.1719,129.7813 Q333.0781,129.875 333.0469,130.0156 Q333.0313,130.1406 333.0313,130.4063 L333.0313,136.5313 Q333.0313,137.625 333.4063,138.25 Q333.7813,138.875 334.7656,138.875 Q335.75,138.875 336.1406,138.25 Q336.5313,137.625 336.5313,136.4844 L336.5313,129.625 L338.4063,129.625 L338.4063,136.4688 Q338.4063,138.5 337.375,139.4688 Q336.3594,140.4375 334.75,140.4375 Z \"/><text fill=\"#000000\" font-family=\"sans-serif\" font-size=\"12\" font-style=\"italic\" lengthAdjust=\"spacingAndGlyphs\" textLength=\"70\" x=\"377\" y=\"132.1387\">«objective»</text><text fill=\"#000000\" font-family=\"sans-serif\" font-size=\"12\" lengthAdjust=\"spacingAndGlyphs\" textLength=\"126\" x=\"349\" y=\"146.1074\">tradeStudyObjective</text><line style=\"stroke: #A80036; stroke-width: 1.5;\" x1=\"321\" x2=\"477\" y1=\"153.9375\" y2=\"153.9375\"/></a><!--MD5=[05d275557350bfb9b23a4ef7222b4c39]\n",
       "link E3 to E2--><a href=\"psysml:a3c7b902-deb2-42e0-bb2d-9591134be70d\" target=\"_top\" title=\"psysml:a3c7b902-deb2-42e0-bb2d-9591134be70d\" xlink:actuate=\"onRequest\" xlink:href=\"psysml:a3c7b902-deb2-42e0-bb2d-9591134be70d\" xlink:show=\"new\" xlink:title=\"psysml:a3c7b902-deb2-42e0-bb2d-9591134be70d\" xlink:type=\"simple\"><path d=\"M296.78,410.13 C310.81,423.76 329.05,441.47 344.78,456.76 \" fill=\"none\" id=\"E3-&gt;E2\" style=\"stroke: #A80036; stroke-width: 1.0;\"/><polygon fill=\"#FFFFFF\" points=\"359.44,471,340.9371,462.7755,350.6956,452.737,359.44,471\" style=\"stroke: #A80036; stroke-width: 1.0;\"/><ellipse cx=\"338.2441\" cy=\"457.3683\" fill=\"#A80036\" rx=\"2\" ry=\"2\" style=\"stroke: #A80036; stroke-width: 1.0;\"/><ellipse cx=\"345.2144\" cy=\"450.198\" fill=\"#A80036\" rx=\"2\" ry=\"2\" style=\"stroke: #A80036; stroke-width: 1.0;\"/></a><!--MD5=[185131fc0dcab0a4505a2ebe144e961b]\n",
       "link E4 to E2--><a href=\"psysml:ad9261f0-dda0-42b5-9d6e-43ebe8822407\" target=\"_top\" title=\"psysml:ad9261f0-dda0-42b5-9d6e-43ebe8822407\" xlink:actuate=\"onRequest\" xlink:href=\"psysml:ad9261f0-dda0-42b5-9d6e-43ebe8822407\" xlink:show=\"new\" xlink:title=\"psysml:ad9261f0-dda0-42b5-9d6e-43ebe8822407\" xlink:type=\"simple\"><path d=\"M160.98,410.01 C208.88,427.58 275.54,452.04 322.51,469.27 \" fill=\"none\" id=\"E4-&gt;E2\" style=\"stroke: #A80036; stroke-width: 1.0;\"/><polygon fill=\"#FFFFFF\" points=\"341.32,476.17,321.0716,476.2036,325.8897,463.0588,341.32,476.17\" style=\"stroke: #A80036; stroke-width: 1.0;\"/><ellipse cx=\"316.4081\" cy=\"472.3641\" fill=\"#A80036\" rx=\"2\" ry=\"2\" style=\"stroke: #A80036; stroke-width: 1.0;\"/><ellipse cx=\"319.8496\" cy=\"462.9749\" fill=\"#A80036\" rx=\"2\" ry=\"2\" style=\"stroke: #A80036; stroke-width: 1.0;\"/></a><!--MD5=[15ebcb19ae302d9b601edb458606d402]\n",
       "link E5 to E2--><a href=\"psysml:b52cccfc-b130-477f-adae-4c6f859e452b\" target=\"_top\" title=\"psysml:b52cccfc-b130-477f-adae-4c6f859e452b\" xlink:actuate=\"onRequest\" xlink:href=\"psysml:b52cccfc-b130-477f-adae-4c6f859e452b\" xlink:show=\"new\" xlink:title=\"psysml:b52cccfc-b130-477f-adae-4c6f859e452b\" xlink:type=\"simple\"><path d=\"M276.7856,145.1967 C276.6545,145.2825 276.5222,145.3694 276.3885,145.4572 C275.8538,145.8084 275.2982,146.1754 274.7228,146.5578 C273.5721,147.3226 272.3422,148.149 271.0425,149.0341 C268.4431,150.8042 265.5642,152.8092 262.4795,155.0263 C250.1409,163.8944 234.5106,176.155 220.3087,190.3475 C191.905,218.7325 169.215,254.845 190,287 C212.62,322 335.95,330.69 361,364 C383.16,393.47 384.08,438.06 382.03,465.53 \" fill=\"none\" id=\"E5-&gt;E2\" style=\"stroke: #A80036; stroke-width: 1.0; stroke-dasharray: 7.0,7.0;\"/><polygon fill=\"#A80036\" points=\"381.59,470.79,386.3482,462.1668,382.0194,465.8085,378.3778,461.4797,381.59,470.79\" style=\"stroke: #A80036; stroke-width: 1.0;\"/><text fill=\"#000000\" font-family=\"sans-serif\" font-size=\"13\" lengthAdjust=\"spacingAndGlyphs\" textLength=\"62\" x=\"301\" y=\"330.0669\">«subject»</text></a><!--MD5=[452b418e7f8a40397a49b8c0a78acc5b]\n",
       "reverse link E5 to E7--><a href=\"psysml:226717b4-0db0-47e0-9eef-bae3c4ff0509\" target=\"_top\" title=\"psysml:226717b4-0db0-47e0-9eef-bae3c4ff0509\" xlink:actuate=\"onRequest\" xlink:href=\"psysml:226717b4-0db0-47e0-9eef-bae3c4ff0509\" xlink:show=\"new\" xlink:title=\"psysml:226717b4-0db0-47e0-9eef-bae3c4ff0509\" xlink:type=\"simple\"><path d=\"M285,186.2997 C285,188.9655 285,191.6719 285,194.3971 C285,199.8476 285,205.3735 285,210.8005 C285,221.6544 285,232.1125 285,240.78 \" fill=\"none\" id=\"E5&lt;-E7\" style=\"stroke: #A80036; stroke-width: 1.0;\"/><polygon fill=\"#FFFFFF\" points=\"285,186.2997,281,192.2997,285,198.2997,289,192.2997,285,186.2997\" style=\"stroke: #A80036; stroke-width: 1.0;\"/></a><!--MD5=[dc164f5e8a733ab456ef1add180e9e34]\n",
       "reverse link E7 to E8--><a href=\"psysml:6f1f84a3-2ac1-458a-baf6-caa888cc195f\" target=\"_top\" title=\"psysml:6f1f84a3-2ac1-458a-baf6-caa888cc195f\" xlink:actuate=\"onRequest\" xlink:href=\"psysml:6f1f84a3-2ac1-458a-baf6-caa888cc195f\" xlink:show=\"new\" xlink:title=\"psysml:6f1f84a3-2ac1-458a-baf6-caa888cc195f\" xlink:type=\"simple\"><path d=\"M334.43,293.89 C371.2,315.39 420.65,344.29 454.27,363.95 \" fill=\"none\" id=\"E7&lt;-E8\" style=\"stroke: #A80036; stroke-width: 1.0;\"/><polygon fill=\"#FFFFFF\" points=\"322.97,287.19,326.1244,293.6746,333.3234,293.2569,330.169,286.7723,322.97,287.19\" style=\"stroke: #A80036; stroke-width: 1.0;\"/><text fill=\"#000000\" font-family=\"sans-serif\" font-size=\"13\" lengthAdjust=\"spacingAndGlyphs\" textLength=\"8\" x=\"435.0551\" y=\"352.8328\">1</text></a><!--MD5=[f1f3f9f2fc535e6147756cb86a7f2e32]\n",
       "link E8 to E2--><a href=\"psysml:2bf4d1c6-7bac-40b1-aaaa-83952da67c38\" target=\"_top\" title=\"psysml:2bf4d1c6-7bac-40b1-aaaa-83952da67c38\" xlink:actuate=\"onRequest\" xlink:href=\"psysml:2bf4d1c6-7bac-40b1-aaaa-83952da67c38\" xlink:show=\"new\" xlink:title=\"psysml:2bf4d1c6-7bac-40b1-aaaa-83952da67c38\" xlink:type=\"simple\"><path d=\"M467.48,410.13 C452.15,423.97 432.14,442.03 415.03,457.48 \" fill=\"none\" id=\"E8-&gt;E2\" style=\"stroke: #A80036; stroke-width: 1.0;\"/><polygon fill=\"#FFFFFF\" points=\"400.05,471,409.4622,453.0721,418.8438,463.4638,400.05,471\" style=\"stroke: #A80036; stroke-width: 1.0;\"/><ellipse cx=\"415.0334\" cy=\"450.737\" fill=\"#A80036\" rx=\"2\" ry=\"2\" style=\"stroke: #A80036; stroke-width: 1.0;\"/><ellipse cx=\"421.7344\" cy=\"458.1596\" fill=\"#A80036\" rx=\"2\" ry=\"2\" style=\"stroke: #A80036; stroke-width: 1.0;\"/></a><!--MD5=[9ae28de373ca99bb8a1b38d63370ca7e]\n",
       "reverse link E5 to E9--><a href=\"psysml:eedf805a-a406-401d-b38e-104ba6f0fce6\" target=\"_top\" title=\"psysml:eedf805a-a406-401d-b38e-104ba6f0fce6\" xlink:actuate=\"onRequest\" xlink:href=\"psysml:eedf805a-a406-401d-b38e-104ba6f0fce6\" xlink:show=\"new\" xlink:title=\"psysml:eedf805a-a406-401d-b38e-104ba6f0fce6\" xlink:type=\"simple\"><path d=\"M293.4869,186.169 C293.5772,186.3709 293.6685,186.5724 293.7608,186.7735 C294.1299,187.5776 294.5144,188.3746 294.9149,189.1626 C295.7161,190.7385 296.5816,192.2785 297.5165,193.7687 C299.3863,196.7491 301.5338,199.53 304,202 C318.52,216.54 359.51,230.25 400.46,240.98 \" fill=\"none\" id=\"E5&lt;-E9\" style=\"stroke: #A80036; stroke-width: 1.0;\"/><polygon fill=\"#FFFFFF\" points=\"293.4869,186.169,292.2862,193.2794,298.3879,197.1225,299.5886,190.0121,293.4869,186.169\" style=\"stroke: #A80036; stroke-width: 1.0;\"/><text fill=\"#000000\" font-family=\"sans-serif\" font-size=\"13\" lengthAdjust=\"spacingAndGlyphs\" textLength=\"8\" x=\"382.0709\" y=\"235.0522\">1</text></a><!--MD5=[5c3bb36fe832a92c7f0e1807dd65209d]\n",
       "link E9 to E2--><a href=\"psysml:3213573e-39ef-4dfb-813d-bdfb08b6e367\" target=\"_top\" title=\"psysml:3213573e-39ef-4dfb-813d-bdfb08b6e367\" xlink:actuate=\"onRequest\" xlink:href=\"psysml:3213573e-39ef-4dfb-813d-bdfb08b6e367\" xlink:show=\"new\" xlink:title=\"psysml:3213573e-39ef-4dfb-813d-bdfb08b6e367\" xlink:type=\"simple\"><path d=\"M531.42,287.22 C566.15,316.2 615.74,368.15 587,410 C553.53,458.73 485.93,477.79 436.85,485.24 \" fill=\"none\" id=\"E9-&gt;E2\" style=\"stroke: #A80036; stroke-width: 1.0;\"/><polygon fill=\"#FFFFFF\" points=\"416.78,487.8,434.7361,478.4417,436.5157,492.3281,416.78,487.8\" style=\"stroke: #A80036; stroke-width: 1.0;\"/><ellipse cx=\"440.6441\" cy=\"479.7009\" fill=\"#A80036\" rx=\"2\" ry=\"2\" style=\"stroke: #A80036; stroke-width: 1.0;\"/><ellipse cx=\"441.9152\" cy=\"489.6198\" fill=\"#A80036\" rx=\"2\" ry=\"2\" style=\"stroke: #A80036; stroke-width: 1.0;\"/></a><!--MD5=[65d7f53b27668a18aa0a4d48d4210c8d]\n",
       "@startuml\r\n",
       " \r\n",
       "package \"TradeStudyTest\" as E1  [[psysml:06d75114-8d09-4304-b9ac-1031eaaad748 ]]  {\r\n",
       "comp def \"Engine\" as E2 << << (B,green) >> [[psysml:377b66bc-6410-4386-a0f5-58eac70f1599 ]] {\r\n",
       "}\r\n",
       "comp usage \"engine1: Engine \" as E3 << << (P,limegreen) part>> [[psysml:b73c7ebb-9472-45c7-822b-647f60ba4ebd ]] {\r\n",
       "}\r\n",
       "comp usage \"engine2: Engine \" as E4 << << (P,limegreen) part>> [[psysml:383bc22a-19f8-4697-ba31-98dbfb8a50a3 ]] {\r\n",
       "}\r\n",
       "rec usage \"engineTradeStudy\" as E5 << analysis>> [[psysml:a2c4dab4-2ddb-42af-80d6-b11f423fabe1 ]] {\r\n",
       "comp usage \"tradeStudyObjective\" as E6  <<objective>> [[psysml:6f716227-75fa-479d-851c-c6728be0ecaf ]] {\r\n",
       "}\r\n",
       "}\r\n",
       "comp usage \"evaluationFunction \" as E7 << <<(U,orange) calculation>> [[psysml:e59262b2-24eb-419d-a794-3b71c7229dcc ]] {\r\n",
       "}\r\n",
       "comp usage \"alternative: Engine \" as E8 << << (P,limegreen) part>> [[psysml:83f46fb2-5a48-4342-a61e-b1e9a3952716 ]] {\r\n",
       "}\r\n",
       "comp usage \"selectedAlternative: Engine \" as E9 << << (P,limegreen) part>> [[psysml:43a96bb2-d059-439d-9037-f3d1363e69c1 ]] {\r\n",
       "}\r\n",
       "}\r\n",
       "E3 - -:|> E2 [[psysml:a3c7b902-deb2-42e0-bb2d-9591134be70d ]] \r\n",
       "E4 - -:|> E2 [[psysml:ad9261f0-dda0-42b5-9d6e-43ebe8822407 ]] \r\n",
       "E5 ..> E2 [[psysml:b52cccfc-b130-477f-adae-4c6f859e452b ]] : <<subject>>\r\n",
       "E5 o- - E7 [[psysml:226717b4-0db0-47e0-9eef-bae3c4ff0509 ]] \r\n",
       "E7 o- - \"1\"E8 [[psysml:6f1f84a3-2ac1-458a-baf6-caa888cc195f ]] \r\n",
       "E8 - -:|> E2 [[psysml:2bf4d1c6-7bac-40b1-aaaa-83952da67c38 ]] \r\n",
       "E5 o- - \"1\"E9 [[psysml:eedf805a-a406-401d-b38e-104ba6f0fce6 ]] \r\n",
       "E9 - -:|> E2 [[psysml:3213573e-39ef-4dfb-813d-bdfb08b6e367 ]] \r\n",
       "@enduml\r\n",
       "\n",
       "PlantUML version 1.2020.13(Sat Jun 13 12:26:38 UTC 2020)\n",
       "(EPL source distribution)\n",
       "Java Runtime: OpenJDK Runtime Environment\n",
       "JVM: OpenJDK 64-Bit Server VM\n",
       "Default Encoding: UTF-8\n",
       "Language: en\n",
       "Country: null\n",
       "--></g></svg>"
      ]
     },
     "execution_count": 36,
     "metadata": {},
     "output_type": "execute_result"
    }
   ],
   "source": [
    "%viz --style=\"PLANTUML\" --view=\"MIXED\" \"TradeStudyTest\""
   ]
  },
  {
   "cell_type": "code",
   "execution_count": 37,
   "id": "503216db",
   "metadata": {
    "execution": {
     "iopub.execute_input": "2022-08-19T08:21:17.917280Z",
     "iopub.status.busy": "2022-08-19T08:21:17.917006Z",
     "iopub.status.idle": "2022-08-19T08:21:17.960583Z",
     "shell.execute_reply": "2022-08-19T08:21:17.960165Z"
    }
   },
   "outputs": [
    {
     "data": {
      "image/svg+xml": [
       "<?xml version=\"1.0\" encoding=\"UTF-8\" standalone=\"no\"?><svg xmlns=\"http://www.w3.org/2000/svg\" xmlns:xlink=\"http://www.w3.org/1999/xlink\" contentScriptType=\"application/ecmascript\" contentStyleType=\"text/css\" height=\"545px\" preserveAspectRatio=\"none\" style=\"width:566px;height:545px;\" version=\"1.1\" viewBox=\"0 0 566 545\" width=\"566px\" zoomAndPan=\"magnify\"><defs/><g><!--MD5=[fbc87193dbaf4d95561dea2c320d4a47]\n",
       "cluster E1--><a href=\"psysml:06d75114-8d09-4304-b9ac-1031eaaad748\" target=\"_top\" title=\"psysml:06d75114-8d09-4304-b9ac-1031eaaad748\" xlink:actuate=\"onRequest\" xlink:href=\"psysml:06d75114-8d09-4304-b9ac-1031eaaad748\" xlink:show=\"new\" xlink:title=\"psysml:06d75114-8d09-4304-b9ac-1031eaaad748\" xlink:type=\"simple\"><polygon fill=\"#FFFFFF\" points=\"16,6,132,6,139,28.2969,544,28.2969,544,533,16,533,16,6\" style=\"stroke: #000000; stroke-width: 1.5;\"/><line style=\"stroke: #000000; stroke-width: 1.5;\" x1=\"16\" x2=\"139\" y1=\"28.2969\" y2=\"28.2969\"/><text fill=\"#000000\" font-family=\"sans-serif\" font-size=\"14\" font-weight=\"bold\" lengthAdjust=\"spacingAndGlyphs\" textLength=\"110\" x=\"20\" y=\"20.9951\">TradeStudyTest</text></a><!--MD5=[de5ec2e2e8f62f467e546659f5068c88]\n",
       "cluster E5--><a href=\"psysml:a2c4dab4-2ddb-42af-80d6-b11f423fabe1\" target=\"_top\" title=\"psysml:a2c4dab4-2ddb-42af-80d6-b11f423fabe1\" xlink:actuate=\"onRequest\" xlink:href=\"psysml:a2c4dab4-2ddb-42af-80d6-b11f423fabe1\" xlink:show=\"new\" xlink:title=\"psysml:a2c4dab4-2ddb-42af-80d6-b11f423fabe1\" xlink:type=\"simple\"><rect fill=\"#FFFFFF\" height=\"129\" id=\"E5\" rx=\"10\" ry=\"10\" style=\"stroke: #383838; stroke-width: 1.5;\" width=\"199\" x=\"238\" y=\"57\"/><rect fill=\"#F8F8F8\" height=\"37.9375\" rx=\"10\" ry=\"10\" style=\"stroke: #F8F8F8; stroke-width: 1.5;\" width=\"199\" x=\"238\" y=\"57\"/><rect fill=\"#F8F8F8\" height=\"10\" style=\"stroke: #F8F8F8; stroke-width: 1.5;\" width=\"199\" x=\"238\" y=\"84.9375\"/><rect fill=\"none\" height=\"129\" id=\"E5\" rx=\"10\" ry=\"10\" style=\"stroke: #383838; stroke-width: 1.5;\" width=\"199\" x=\"238\" y=\"57\"/><text fill=\"#000000\" font-family=\"sans-serif\" font-size=\"12\" font-style=\"italic\" lengthAdjust=\"spacingAndGlyphs\" textLength=\"64\" x=\"305.5\" y=\"73.1387\">«analysis»</text><text fill=\"#000000\" font-family=\"sans-serif\" font-size=\"12\" lengthAdjust=\"spacingAndGlyphs\" textLength=\"114\" x=\"280.5\" y=\"87.1074\">engineTradeStudy</text><line style=\"stroke: #383838; stroke-width: 1.0;\" x1=\"238\" x2=\"437\" y1=\"94.9375\" y2=\"94.9375\"/></a><!--MD5=[b4997ac47864f28c2f74865a473b2911]\n",
       "class E2--><a href=\"psysml:377b66bc-6410-4386-a0f5-58eac70f1599\" target=\"_top\" title=\"psysml:377b66bc-6410-4386-a0f5-58eac70f1599\" xlink:actuate=\"onRequest\" xlink:href=\"psysml:377b66bc-6410-4386-a0f5-58eac70f1599\" xlink:show=\"new\" xlink:title=\"psysml:377b66bc-6410-4386-a0f5-58eac70f1599\" xlink:type=\"simple\"><rect fill=\"#FFFFFF\" height=\"45.9375\" id=\"E2\" style=\"stroke: #383838; stroke-width: 1.5;\" width=\"70\" x=\"292\" y=\"471\"/><text fill=\"#000000\" font-family=\"sans-serif\" font-size=\"12\" font-style=\"italic\" lengthAdjust=\"spacingAndGlyphs\" textLength=\"68\" x=\"293\" y=\"487.1387\">«part  def»</text><text fill=\"#000000\" font-family=\"sans-serif\" font-size=\"12\" lengthAdjust=\"spacingAndGlyphs\" textLength=\"43\" x=\"305.5\" y=\"501.1074\">Engine</text><line style=\"stroke: #383838; stroke-width: 1.5;\" x1=\"293\" x2=\"361\" y1=\"508.9375\" y2=\"508.9375\"/></a><!--MD5=[09b614a08d8cba4a07c9adeb5e0fee81]\n",
       "class E3--><a href=\"psysml:b73c7ebb-9472-45c7-822b-647f60ba4ebd\" target=\"_top\" title=\"psysml:b73c7ebb-9472-45c7-822b-647f60ba4ebd\" xlink:actuate=\"onRequest\" xlink:href=\"psysml:b73c7ebb-9472-45c7-822b-647f60ba4ebd\" xlink:show=\"new\" xlink:title=\"psysml:b73c7ebb-9472-45c7-822b-647f60ba4ebd\" xlink:type=\"simple\"><rect fill=\"#FFFFFF\" height=\"45.9375\" id=\"E3\" rx=\"10\" ry=\"10\" style=\"stroke: #383838; stroke-width: 1.5;\" width=\"112\" x=\"179\" y=\"364\"/><text fill=\"#000000\" font-family=\"sans-serif\" font-size=\"12\" font-style=\"italic\" lengthAdjust=\"spacingAndGlyphs\" textLength=\"40\" x=\"215\" y=\"380.1387\">«part»</text><text fill=\"#000000\" font-family=\"sans-serif\" font-size=\"12\" lengthAdjust=\"spacingAndGlyphs\" textLength=\"102\" x=\"182\" y=\"394.1074\">engine1: Engine</text><line style=\"stroke: #383838; stroke-width: 1.5;\" x1=\"180\" x2=\"290\" y1=\"401.9375\" y2=\"401.9375\"/></a><!--MD5=[ebbe1d658d1005bcc118a6aa81145e00]\n",
       "class E4--><a href=\"psysml:383bc22a-19f8-4697-ba31-98dbfb8a50a3\" target=\"_top\" title=\"psysml:383bc22a-19f8-4697-ba31-98dbfb8a50a3\" xlink:actuate=\"onRequest\" xlink:href=\"psysml:383bc22a-19f8-4697-ba31-98dbfb8a50a3\" xlink:show=\"new\" xlink:title=\"psysml:383bc22a-19f8-4697-ba31-98dbfb8a50a3\" xlink:type=\"simple\"><rect fill=\"#FFFFFF\" height=\"45.9375\" id=\"E4\" rx=\"10\" ry=\"10\" style=\"stroke: #383838; stroke-width: 1.5;\" width=\"112\" x=\"32\" y=\"364\"/><text fill=\"#000000\" font-family=\"sans-serif\" font-size=\"12\" font-style=\"italic\" lengthAdjust=\"spacingAndGlyphs\" textLength=\"40\" x=\"68\" y=\"380.1387\">«part»</text><text fill=\"#000000\" font-family=\"sans-serif\" font-size=\"12\" lengthAdjust=\"spacingAndGlyphs\" textLength=\"102\" x=\"35\" y=\"394.1074\">engine2: Engine</text><line style=\"stroke: #383838; stroke-width: 1.5;\" x1=\"33\" x2=\"143\" y1=\"401.9375\" y2=\"401.9375\"/></a><!--MD5=[2156ba9850f5573cc1fc38a6a4b2f02b]\n",
       "class E7--><a href=\"psysml:e59262b2-24eb-419d-a794-3b71c7229dcc\" target=\"_top\" title=\"psysml:e59262b2-24eb-419d-a794-3b71c7229dcc\" xlink:actuate=\"onRequest\" xlink:href=\"psysml:e59262b2-24eb-419d-a794-3b71c7229dcc\" xlink:show=\"new\" xlink:title=\"psysml:e59262b2-24eb-419d-a794-3b71c7229dcc\" xlink:type=\"simple\"><rect fill=\"#FFFFFF\" height=\"45.9375\" id=\"E7\" rx=\"10\" ry=\"10\" style=\"stroke: #383838; stroke-width: 1.5;\" width=\"129\" x=\"181.5\" y=\"241\"/><text fill=\"#000000\" font-family=\"sans-serif\" font-size=\"12\" font-style=\"italic\" lengthAdjust=\"spacingAndGlyphs\" textLength=\"82\" x=\"205\" y=\"257.1387\">«calculation»</text><text fill=\"#000000\" font-family=\"sans-serif\" font-size=\"12\" lengthAdjust=\"spacingAndGlyphs\" textLength=\"119\" x=\"184.5\" y=\"271.1074\">evaluationFunction</text><line style=\"stroke: #383838; stroke-width: 1.5;\" x1=\"182.5\" x2=\"309.5\" y1=\"278.9375\" y2=\"278.9375\"/></a><!--MD5=[b9389687b975829384b498ac4b7476b2]\n",
       "class E8--><a href=\"psysml:83f46fb2-5a48-4342-a61e-b1e9a3952716\" target=\"_top\" title=\"psysml:83f46fb2-5a48-4342-a61e-b1e9a3952716\" xlink:actuate=\"onRequest\" xlink:href=\"psysml:83f46fb2-5a48-4342-a61e-b1e9a3952716\" xlink:show=\"new\" xlink:title=\"psysml:83f46fb2-5a48-4342-a61e-b1e9a3952716\" xlink:type=\"simple\"><rect fill=\"#FFFFFF\" height=\"45.9375\" id=\"E8\" rx=\"10\" ry=\"10\" style=\"stroke: #383838; stroke-width: 1.5;\" width=\"128\" x=\"363\" y=\"364\"/><text fill=\"#000000\" font-family=\"sans-serif\" font-size=\"12\" font-style=\"italic\" lengthAdjust=\"spacingAndGlyphs\" textLength=\"40\" x=\"407\" y=\"380.1387\">«part»</text><text fill=\"#000000\" font-family=\"sans-serif\" font-size=\"12\" lengthAdjust=\"spacingAndGlyphs\" textLength=\"118\" x=\"366\" y=\"394.1074\">alternative: Engine</text><line style=\"stroke: #383838; stroke-width: 1.5;\" x1=\"364\" x2=\"490\" y1=\"401.9375\" y2=\"401.9375\"/></a><!--MD5=[fd4143e9d270a159db93a4ea2a975926]\n",
       "class E9--><a href=\"psysml:43a96bb2-d059-439d-9037-f3d1363e69c1\" target=\"_top\" title=\"psysml:43a96bb2-d059-439d-9037-f3d1363e69c1\" xlink:actuate=\"onRequest\" xlink:href=\"psysml:43a96bb2-d059-439d-9037-f3d1363e69c1\" xlink:show=\"new\" xlink:title=\"psysml:43a96bb2-d059-439d-9037-f3d1363e69c1\" xlink:type=\"simple\"><rect fill=\"#FFFFFF\" height=\"45.9375\" id=\"E9\" rx=\"10\" ry=\"10\" style=\"stroke: #383838; stroke-width: 1.5;\" width=\"182\" x=\"346\" y=\"241\"/><text fill=\"#000000\" font-family=\"sans-serif\" font-size=\"12\" font-style=\"italic\" lengthAdjust=\"spacingAndGlyphs\" textLength=\"40\" x=\"417\" y=\"257.1387\">«part»</text><text fill=\"#000000\" font-family=\"sans-serif\" font-size=\"12\" lengthAdjust=\"spacingAndGlyphs\" textLength=\"172\" x=\"349\" y=\"271.1074\">selectedAlternative: Engine</text><line style=\"stroke: #383838; stroke-width: 1.5;\" x1=\"347\" x2=\"527\" y1=\"278.9375\" y2=\"278.9375\"/></a><!--MD5=[60a26617385b1d2d0262a64233df1f8d]\n",
       "class E6--><a href=\"psysml:6f716227-75fa-479d-851c-c6728be0ecaf\" target=\"_top\" title=\"psysml:6f716227-75fa-479d-851c-c6728be0ecaf\" xlink:actuate=\"onRequest\" xlink:href=\"psysml:6f716227-75fa-479d-851c-c6728be0ecaf\" xlink:show=\"new\" xlink:title=\"psysml:6f716227-75fa-479d-851c-c6728be0ecaf\" xlink:type=\"simple\"><rect fill=\"#FFFFFF\" height=\"45.9375\" id=\"E6\" rx=\"10\" ry=\"10\" style=\"stroke: #383838; stroke-width: 1.5;\" width=\"132\" x=\"281\" y=\"116\"/><text fill=\"#000000\" font-family=\"sans-serif\" font-size=\"12\" font-style=\"italic\" lengthAdjust=\"spacingAndGlyphs\" textLength=\"70\" x=\"312\" y=\"132.1387\">«objective»</text><text fill=\"#000000\" font-family=\"sans-serif\" font-size=\"12\" lengthAdjust=\"spacingAndGlyphs\" textLength=\"126\" x=\"284\" y=\"146.1074\">tradeStudyObjective</text><line style=\"stroke: #383838; stroke-width: 1.5;\" x1=\"282\" x2=\"412\" y1=\"153.9375\" y2=\"153.9375\"/></a><!--MD5=[05d275557350bfb9b23a4ef7222b4c39]\n",
       "link E3 to E2--><a href=\"psysml:a3c7b902-deb2-42e0-bb2d-9591134be70d\" target=\"_top\" title=\"psysml:a3c7b902-deb2-42e0-bb2d-9591134be70d\" xlink:actuate=\"onRequest\" xlink:href=\"psysml:a3c7b902-deb2-42e0-bb2d-9591134be70d\" xlink:show=\"new\" xlink:title=\"psysml:a3c7b902-deb2-42e0-bb2d-9591134be70d\" xlink:type=\"simple\"><path d=\"M254.29,410.01 C265.74,423.08 280.57,440.01 293.86,455.17 \" fill=\"none\" id=\"E3-&gt;E2\" style=\"stroke: #383838; stroke-width: 1.0;\"/><polygon fill=\"#FFFFFF\" points=\"307.42,470.66,289.6319,460.9861,300.1599,451.7578,307.42,470.66\" style=\"stroke: #383838; stroke-width: 1.0;\"/><ellipse cx=\"287.3787\" cy=\"455.3814\" fill=\"#383838\" rx=\"2\" ry=\"2\" style=\"stroke: #383838; stroke-width: 1.0;\"/><ellipse cx=\"294.8987\" cy=\"448.7898\" fill=\"#383838\" rx=\"2\" ry=\"2\" style=\"stroke: #383838; stroke-width: 1.0;\"/></a><!--MD5=[185131fc0dcab0a4505a2ebe144e961b]\n",
       "link E4 to E2--><a href=\"psysml:ad9261f0-dda0-42b5-9d6e-43ebe8822407\" target=\"_top\" title=\"psysml:ad9261f0-dda0-42b5-9d6e-43ebe8822407\" xlink:actuate=\"onRequest\" xlink:href=\"psysml:ad9261f0-dda0-42b5-9d6e-43ebe8822407\" xlink:show=\"new\" xlink:title=\"psysml:ad9261f0-dda0-42b5-9d6e-43ebe8822407\" xlink:type=\"simple\"><path d=\"M138.1,410.01 C177.63,427.38 232.65,451.55 273.12,469.33 \" fill=\"none\" id=\"E4-&gt;E2\" style=\"stroke: #383838; stroke-width: 1.0;\"/><polygon fill=\"#FFFFFF\" points=\"291.69,477.49,271.479,476.2594,277.1083,463.4411,291.69,477.49\" style=\"stroke: #383838; stroke-width: 1.0;\"/><ellipse cx=\"267.0642\" cy=\"472.1363\" fill=\"#383838\" rx=\"2\" ry=\"2\" style=\"stroke: #383838; stroke-width: 1.0;\"/><ellipse cx=\"271.0852\" cy=\"462.9803\" fill=\"#383838\" rx=\"2\" ry=\"2\" style=\"stroke: #383838; stroke-width: 1.0;\"/></a><!--MD5=[15ebcb19ae302d9b601edb458606d402]\n",
       "link E5 to E2--><a href=\"psysml:b52cccfc-b130-477f-adae-4c6f859e452b\" target=\"_top\" title=\"psysml:b52cccfc-b130-477f-adae-4c6f859e452b\" xlink:actuate=\"onRequest\" xlink:href=\"psysml:b52cccfc-b130-477f-adae-4c6f859e452b\" xlink:show=\"new\" xlink:title=\"psysml:b52cccfc-b130-477f-adae-4c6f859e452b\" xlink:type=\"simple\"><path d=\"M237.7204,146.0763 C237.4768,146.2621 237.2287,146.4518 236.9763,146.6454 C235.9668,147.4197 234.8879,148.2561 233.748,149.1518 C231.4682,150.943 228.9441,152.9709 226.2406,155.2119 C215.4269,164.1756 201.745,176.5475 189.3625,190.8125 C164.5975,219.3425 145.03,255.445 164,287 C166.35,290.91 306.39,360.26 309,364 C329.99,394 331.63,437.66 330,465.69 \" fill=\"none\" id=\"E5-&gt;E2\" style=\"stroke: #383838; stroke-width: 1.0; stroke-dasharray: 7.0,7.0;\"/><polygon fill=\"#383838\" points=\"329.66,470.74,334.268,462.0356,330.003,465.7518,326.2869,461.4868,329.66,470.74\" style=\"stroke: #383838; stroke-width: 1.0;\"/><text fill=\"#000000\" font-family=\"sans-serif\" font-size=\"13\" lengthAdjust=\"spacingAndGlyphs\" textLength=\"62\" x=\"253\" y=\"330.0669\">«subject»</text></a><!--MD5=[452b418e7f8a40397a49b8c0a78acc5b]\n",
       "reverse link E5 to E7--><a href=\"psysml:226717b4-0db0-47e0-9eef-bae3c4ff0509\" target=\"_top\" title=\"psysml:226717b4-0db0-47e0-9eef-bae3c4ff0509\" xlink:actuate=\"onRequest\" xlink:href=\"psysml:226717b4-0db0-47e0-9eef-bae3c4ff0509\" xlink:show=\"new\" xlink:title=\"psysml:226717b4-0db0-47e0-9eef-bae3c4ff0509\" xlink:type=\"simple\"><path d=\"M246,186.2997 C246,188.9655 246,191.6719 246,194.3971 C246,199.8476 246,205.3735 246,210.8005 C246,221.6544 246,232.1125 246,240.78 \" fill=\"none\" id=\"E5&lt;-E7\" style=\"stroke: #383838; stroke-width: 1.0;\"/><polygon fill=\"#FFFFFF\" points=\"246,186.2997,242,192.2997,246,198.2997,250,192.2997,246,186.2997\" style=\"stroke: #383838; stroke-width: 1.0;\"/></a><!--MD5=[dc164f5e8a733ab456ef1add180e9e34]\n",
       "reverse link E7 to E8--><a href=\"psysml:6f1f84a3-2ac1-458a-baf6-caa888cc195f\" target=\"_top\" title=\"psysml:6f1f84a3-2ac1-458a-baf6-caa888cc195f\" xlink:actuate=\"onRequest\" xlink:href=\"psysml:6f1f84a3-2ac1-458a-baf6-caa888cc195f\" xlink:show=\"new\" xlink:title=\"psysml:6f1f84a3-2ac1-458a-baf6-caa888cc195f\" xlink:type=\"simple\"><path d=\"M290.06,294.45 C322.12,315.89 364.86,344.46 394.01,363.95 \" fill=\"none\" id=\"E7&lt;-E8\" style=\"stroke: #383838; stroke-width: 1.0;\"/><polygon fill=\"#FFFFFF\" points=\"279.2,287.19,281.9674,293.8489,289.1785,293.8555,286.4111,287.1966,279.2,287.19\" style=\"stroke: #383838; stroke-width: 1.0;\"/><text fill=\"#000000\" font-family=\"sans-serif\" font-size=\"13\" lengthAdjust=\"spacingAndGlyphs\" textLength=\"8\" x=\"376.0689\" y=\"352.8328\">1</text></a><!--MD5=[f1f3f9f2fc535e6147756cb86a7f2e32]\n",
       "link E8 to E2--><a href=\"psysml:2bf4d1c6-7bac-40b1-aaaa-83952da67c38\" target=\"_top\" title=\"psysml:2bf4d1c6-7bac-40b1-aaaa-83952da67c38\" xlink:actuate=\"onRequest\" xlink:href=\"psysml:2bf4d1c6-7bac-40b1-aaaa-83952da67c38\" xlink:show=\"new\" xlink:title=\"psysml:2bf4d1c6-7bac-40b1-aaaa-83952da67c38\" xlink:type=\"simple\"><path d=\"M406.04,410.01 C393.32,423.36 376.77,440.74 362.11,456.14 \" fill=\"none\" id=\"E8-&gt;E2\" style=\"stroke: #383838; stroke-width: 1.0;\"/><polygon fill=\"#FFFFFF\" points=\"348.28,470.66,356.3076,452.0708,366.4491,461.7223,348.28,470.66\" style=\"stroke: #383838; stroke-width: 1.0;\"/><ellipse cx=\"361.6859\" cy=\"449.3206\" fill=\"#383838\" rx=\"2\" ry=\"2\" style=\"stroke: #383838; stroke-width: 1.0;\"/><ellipse cx=\"368.9298\" cy=\"456.2144\" fill=\"#383838\" rx=\"2\" ry=\"2\" style=\"stroke: #383838; stroke-width: 1.0;\"/></a><!--MD5=[9ae28de373ca99bb8a1b38d63370ca7e]\n",
       "reverse link E5 to E9--><a href=\"psysml:eedf805a-a406-401d-b38e-104ba6f0fce6\" target=\"_top\" title=\"psysml:eedf805a-a406-401d-b38e-104ba6f0fce6\" xlink:actuate=\"onRequest\" xlink:href=\"psysml:eedf805a-a406-401d-b38e-104ba6f0fce6\" xlink:show=\"new\" xlink:title=\"psysml:eedf805a-a406-401d-b38e-104ba6f0fce6\" xlink:type=\"simple\"><path d=\"M254.7949,186.3026 C254.8401,186.4038 254.8856,186.5049 254.9313,186.6059 C255.2966,187.4138 255.6769,188.215 256.0726,189.0077 C256.8641,190.5933 257.7176,192.1452 258.6379,193.6498 C260.4784,196.6589 262.5863,199.4788 265,202 C278.04,215.62 316.12,229.75 353.15,240.99 \" fill=\"none\" id=\"E5&lt;-E9\" style=\"stroke: #383838; stroke-width: 1.0;\"/><polygon fill=\"#FFFFFF\" points=\"254.7949,186.3026,253.5901,193.4123,259.6895,197.259,260.8944,190.1493,254.7949,186.3026\" style=\"stroke: #383838; stroke-width: 1.0;\"/><text fill=\"#000000\" font-family=\"sans-serif\" font-size=\"13\" lengthAdjust=\"spacingAndGlyphs\" textLength=\"8\" x=\"330.0508\" y=\"232.8298\">1</text></a><!--MD5=[5c3bb36fe832a92c7f0e1807dd65209d]\n",
       "link E9 to E2--><a href=\"psysml:3213573e-39ef-4dfb-813d-bdfb08b6e367\" target=\"_top\" title=\"psysml:3213573e-39ef-4dfb-813d-bdfb08b6e367\" xlink:actuate=\"onRequest\" xlink:href=\"psysml:3213573e-39ef-4dfb-813d-bdfb08b6e367\" xlink:show=\"new\" xlink:title=\"psysml:3213573e-39ef-4dfb-813d-bdfb08b6e367\" xlink:type=\"simple\"><path d=\"M462.31,287.19 C492.44,316.36 535.53,368.75 509,410 C481.16,453.3 424.53,474.29 381.79,484.28 \" fill=\"none\" id=\"E9-&gt;E2\" style=\"stroke: #383838; stroke-width: 1.0;\"/><polygon fill=\"#FFFFFF\" points=\"362.12,488.35,379.3051,477.6415,382.1449,491.3505,362.12,488.35\" style=\"stroke: #383838; stroke-width: 1.0;\"/><ellipse cx=\"385.2923\" cy=\"478.4438\" fill=\"#383838\" rx=\"2\" ry=\"2\" style=\"stroke: #383838; stroke-width: 1.0;\"/><ellipse cx=\"387.3207\" cy=\"488.2359\" fill=\"#383838\" rx=\"2\" ry=\"2\" style=\"stroke: #383838; stroke-width: 1.0;\"/></a><!--MD5=[6195adac1503e64081c07174be598708]\n",
       "@startuml\r\n",
       "skinparam monochrome true\r\n",
       "skinparam classbackgroundcolor white\r\n",
       "skinparam shadowing false\r\n",
       "skinparam wrapWidth 300\r\n",
       "hide circle\r\n",
       "\r\n",
       "package \"TradeStudyTest\" as E1  [[psysml:06d75114-8d09-4304-b9ac-1031eaaad748 ]]  {\r\n",
       "comp def \"Engine\" as E2  <<(T,blue) part  def>> [[psysml:377b66bc-6410-4386-a0f5-58eac70f1599 ]] {\r\n",
       "}\r\n",
       "comp usage \"engine1: Engine \" as E3  <<(T,blue) part>> [[psysml:b73c7ebb-9472-45c7-822b-647f60ba4ebd ]] {\r\n",
       "}\r\n",
       "comp usage \"engine2: Engine \" as E4  <<(T,blue) part>> [[psysml:383bc22a-19f8-4697-ba31-98dbfb8a50a3 ]] {\r\n",
       "}\r\n",
       "rec usage \"engineTradeStudy\" as E5 << analysis>> [[psysml:a2c4dab4-2ddb-42af-80d6-b11f423fabe1 ]] {\r\n",
       "comp usage \"tradeStudyObjective\" as E6  <<objective>> [[psysml:6f716227-75fa-479d-851c-c6728be0ecaf ]] {\r\n",
       "}\r\n",
       "}\r\n",
       "comp usage \"evaluationFunction \" as E7  <<(T,blue) calculation>> [[psysml:e59262b2-24eb-419d-a794-3b71c7229dcc ]] {\r\n",
       "}\r\n",
       "comp usage \"alternative: Engine \" as E8  <<(T,blue) part>> [[psysml:83f46fb2-5a48-4342-a61e-b1e9a3952716 ]] {\r\n",
       "}\r\n",
       "comp usage \"selectedAlternative: Engine \" as E9  <<(T,blue) part>> [[psysml:43a96bb2-d059-439d-9037-f3d1363e69c1 ]] {\r\n",
       "}\r\n",
       "}\r\n",
       "E3 - -:|> E2 [[psysml:a3c7b902-deb2-42e0-bb2d-9591134be70d ]] \r\n",
       "E4 - -:|> E2 [[psysml:ad9261f0-dda0-42b5-9d6e-43ebe8822407 ]] \r\n",
       "E5 ..> E2 [[psysml:b52cccfc-b130-477f-adae-4c6f859e452b ]] : <<subject>>\r\n",
       "E5 o- - E7 [[psysml:226717b4-0db0-47e0-9eef-bae3c4ff0509 ]] \r\n",
       "E7 o- - \"1\"E8 [[psysml:6f1f84a3-2ac1-458a-baf6-caa888cc195f ]] \r\n",
       "E8 - -:|> E2 [[psysml:2bf4d1c6-7bac-40b1-aaaa-83952da67c38 ]] \r\n",
       "E5 o- - \"1\"E9 [[psysml:eedf805a-a406-401d-b38e-104ba6f0fce6 ]] \r\n",
       "E9 - -:|> E2 [[psysml:3213573e-39ef-4dfb-813d-bdfb08b6e367 ]] \r\n",
       "@enduml\r\n",
       "\n",
       "PlantUML version 1.2020.13(Sat Jun 13 12:26:38 UTC 2020)\n",
       "(EPL source distribution)\n",
       "Java Runtime: OpenJDK Runtime Environment\n",
       "JVM: OpenJDK 64-Bit Server VM\n",
       "Default Encoding: UTF-8\n",
       "Language: en\n",
       "Country: null\n",
       "--></g></svg>"
      ]
     },
     "execution_count": 37,
     "metadata": {},
     "output_type": "execute_result"
    }
   ],
   "source": [
    "%viz --style=\"DEFAULT\" --view=\"Default\" \"TradeStudyTest\""
   ]
  },
  {
   "cell_type": "code",
   "execution_count": 38,
   "id": "a1be1a1f",
   "metadata": {
    "execution": {
     "iopub.execute_input": "2022-08-19T08:21:18.010122Z",
     "iopub.status.busy": "2022-08-19T08:21:18.009663Z",
     "iopub.status.idle": "2022-08-19T08:21:18.051554Z",
     "shell.execute_reply": "2022-08-19T08:21:18.051159Z"
    }
   },
   "outputs": [
    {
     "data": {
      "image/svg+xml": [
       "<?xml version=\"1.0\" encoding=\"UTF-8\" standalone=\"no\"?><svg xmlns=\"http://www.w3.org/2000/svg\" xmlns:xlink=\"http://www.w3.org/1999/xlink\" contentScriptType=\"application/ecmascript\" contentStyleType=\"text/css\" height=\"497px\" preserveAspectRatio=\"none\" style=\"width:569px;height:497px;\" version=\"1.1\" viewBox=\"0 0 569 497\" width=\"569px\" zoomAndPan=\"magnify\"><defs/><g><!--MD5=[fbc87193dbaf4d95561dea2c320d4a47]\n",
       "cluster E1--><a href=\"psysml:06d75114-8d09-4304-b9ac-1031eaaad748\" target=\"_top\" title=\"psysml:06d75114-8d09-4304-b9ac-1031eaaad748\" xlink:actuate=\"onRequest\" xlink:href=\"psysml:06d75114-8d09-4304-b9ac-1031eaaad748\" xlink:show=\"new\" xlink:title=\"psysml:06d75114-8d09-4304-b9ac-1031eaaad748\" xlink:type=\"simple\"><polygon fill=\"#FFFFFF\" points=\"19.75,6,135.75,6,142.75,28.2969,547.75,28.2969,547.75,485,19.75,485,19.75,6\" style=\"stroke: #000000; stroke-width: 1.5;\"/><line style=\"stroke: #000000; stroke-width: 1.5;\" x1=\"19.75\" x2=\"142.75\" y1=\"28.2969\" y2=\"28.2969\"/><text fill=\"#000000\" font-family=\"sans-serif\" font-size=\"14\" font-weight=\"bold\" lengthAdjust=\"spacingAndGlyphs\" textLength=\"110\" x=\"23.75\" y=\"20.9951\">TradeStudyTest</text></a><!--MD5=[b4997ac47864f28c2f74865a473b2911]\n",
       "class E2--><a href=\"psysml:377b66bc-6410-4386-a0f5-58eac70f1599\" target=\"_top\" title=\"psysml:377b66bc-6410-4386-a0f5-58eac70f1599\" xlink:actuate=\"onRequest\" xlink:href=\"psysml:377b66bc-6410-4386-a0f5-58eac70f1599\" xlink:show=\"new\" xlink:title=\"psysml:377b66bc-6410-4386-a0f5-58eac70f1599\" xlink:type=\"simple\"><rect fill=\"#FFFFFF\" height=\"45.9375\" id=\"E2\" style=\"stroke: #383838; stroke-width: 1.5;\" width=\"70\" x=\"201.75\" y=\"423\"/><text fill=\"#000000\" font-family=\"sans-serif\" font-size=\"12\" font-style=\"italic\" lengthAdjust=\"spacingAndGlyphs\" textLength=\"68\" x=\"202.75\" y=\"439.1387\">«part  def»</text><text fill=\"#000000\" font-family=\"sans-serif\" font-size=\"12\" lengthAdjust=\"spacingAndGlyphs\" textLength=\"43\" x=\"215.25\" y=\"453.1074\">Engine</text><line style=\"stroke: #383838; stroke-width: 1.5;\" x1=\"202.75\" x2=\"270.75\" y1=\"460.9375\" y2=\"460.9375\"/></a><!--MD5=[09b614a08d8cba4a07c9adeb5e0fee81]\n",
       "class E3--><a href=\"psysml:b73c7ebb-9472-45c7-822b-647f60ba4ebd\" target=\"_top\" title=\"psysml:b73c7ebb-9472-45c7-822b-647f60ba4ebd\" xlink:actuate=\"onRequest\" xlink:href=\"psysml:b73c7ebb-9472-45c7-822b-647f60ba4ebd\" xlink:show=\"new\" xlink:title=\"psysml:b73c7ebb-9472-45c7-822b-647f60ba4ebd\" xlink:type=\"simple\"><rect fill=\"#FFFFFF\" height=\"45.9375\" id=\"E3\" rx=\"10\" ry=\"10\" style=\"stroke: #383838; stroke-width: 1.5;\" width=\"112\" x=\"419.75\" y=\"316\"/><text fill=\"#000000\" font-family=\"sans-serif\" font-size=\"12\" font-style=\"italic\" lengthAdjust=\"spacingAndGlyphs\" textLength=\"40\" x=\"455.75\" y=\"332.1387\">«part»</text><text fill=\"#000000\" font-family=\"sans-serif\" font-size=\"12\" lengthAdjust=\"spacingAndGlyphs\" textLength=\"102\" x=\"422.75\" y=\"346.1074\">engine1: Engine</text><line style=\"stroke: #383838; stroke-width: 1.5;\" x1=\"420.75\" x2=\"530.75\" y1=\"353.9375\" y2=\"353.9375\"/></a><!--MD5=[ebbe1d658d1005bcc118a6aa81145e00]\n",
       "class E4--><a href=\"psysml:383bc22a-19f8-4697-ba31-98dbfb8a50a3\" target=\"_top\" title=\"psysml:383bc22a-19f8-4697-ba31-98dbfb8a50a3\" xlink:actuate=\"onRequest\" xlink:href=\"psysml:383bc22a-19f8-4697-ba31-98dbfb8a50a3\" xlink:show=\"new\" xlink:title=\"psysml:383bc22a-19f8-4697-ba31-98dbfb8a50a3\" xlink:type=\"simple\"><rect fill=\"#FFFFFF\" height=\"45.9375\" id=\"E4\" rx=\"10\" ry=\"10\" style=\"stroke: #383838; stroke-width: 1.5;\" width=\"112\" x=\"272.75\" y=\"316\"/><text fill=\"#000000\" font-family=\"sans-serif\" font-size=\"12\" font-style=\"italic\" lengthAdjust=\"spacingAndGlyphs\" textLength=\"40\" x=\"308.75\" y=\"332.1387\">«part»</text><text fill=\"#000000\" font-family=\"sans-serif\" font-size=\"12\" lengthAdjust=\"spacingAndGlyphs\" textLength=\"102\" x=\"275.75\" y=\"346.1074\">engine2: Engine</text><line style=\"stroke: #383838; stroke-width: 1.5;\" x1=\"273.75\" x2=\"383.75\" y1=\"353.9375\" y2=\"353.9375\"/></a><!--MD5=[270fce915f116d4de14055a7c1d9a0f3]\n",
       "class E5--><a href=\"psysml:a2c4dab4-2ddb-42af-80d6-b11f423fabe1\" target=\"_top\" title=\"psysml:a2c4dab4-2ddb-42af-80d6-b11f423fabe1\" xlink:actuate=\"onRequest\" xlink:href=\"psysml:a2c4dab4-2ddb-42af-80d6-b11f423fabe1\" xlink:show=\"new\" xlink:title=\"psysml:a2c4dab4-2ddb-42af-80d6-b11f423fabe1\" xlink:type=\"simple\"><rect fill=\"#FFFFFF\" height=\"45.9375\" id=\"E5\" rx=\"10\" ry=\"10\" style=\"stroke: #383838; stroke-width: 1.5;\" width=\"203\" x=\"242.25\" y=\"41\"/><text fill=\"#000000\" font-family=\"sans-serif\" font-size=\"12\" font-style=\"italic\" lengthAdjust=\"spacingAndGlyphs\" textLength=\"64\" x=\"311.75\" y=\"57.1387\">«analysis»</text><text fill=\"#000000\" font-family=\"sans-serif\" font-size=\"12\" lengthAdjust=\"spacingAndGlyphs\" textLength=\"193\" x=\"245.25\" y=\"71.1074\">engineTradeStudy: TradeStudy</text><line style=\"stroke: #383838; stroke-width: 1.5;\" x1=\"243.25\" x2=\"444.25\" y1=\"78.9375\" y2=\"78.9375\"/></a><!--MD5=[60a26617385b1d2d0262a64233df1f8d]\n",
       "class E6--><a href=\"psysml:6f716227-75fa-479d-851c-c6728be0ecaf\" target=\"_top\" title=\"psysml:6f716227-75fa-479d-851c-c6728be0ecaf\" xlink:actuate=\"onRequest\" xlink:href=\"psysml:6f716227-75fa-479d-851c-c6728be0ecaf\" xlink:show=\"new\" xlink:title=\"psysml:6f716227-75fa-479d-851c-c6728be0ecaf\" xlink:type=\"simple\"><rect fill=\"#FFFFFF\" height=\"45.9375\" id=\"E6\" rx=\"10\" ry=\"10\" style=\"stroke: #383838; stroke-width: 1.5;\" width=\"255\" x=\"75.25\" y=\"164\"/><text fill=\"#000000\" font-family=\"sans-serif\" font-size=\"12\" font-style=\"italic\" lengthAdjust=\"spacingAndGlyphs\" textLength=\"91\" x=\"157.25\" y=\"180.1387\">«requirement»</text><text fill=\"#000000\" font-family=\"sans-serif\" font-size=\"12\" lengthAdjust=\"spacingAndGlyphs\" textLength=\"245\" x=\"78.25\" y=\"194.1074\">tradeStudyObjective: MaximizeObjective</text><line style=\"stroke: #383838; stroke-width: 1.5;\" x1=\"76.25\" x2=\"329.25\" y1=\"201.9375\" y2=\"201.9375\"/></a><!--MD5=[2156ba9850f5573cc1fc38a6a4b2f02b]\n",
       "class E7--><a href=\"psysml:e59262b2-24eb-419d-a794-3b71c7229dcc\" target=\"_top\" title=\"psysml:e59262b2-24eb-419d-a794-3b71c7229dcc\" xlink:actuate=\"onRequest\" xlink:href=\"psysml:e59262b2-24eb-419d-a794-3b71c7229dcc\" xlink:show=\"new\" xlink:title=\"psysml:e59262b2-24eb-419d-a794-3b71c7229dcc\" xlink:type=\"simple\"><rect fill=\"#FFFFFF\" height=\"45.9375\" id=\"E7\" rx=\"10\" ry=\"10\" style=\"stroke: #383838; stroke-width: 1.5;\" width=\"129\" x=\"365.25\" y=\"164\"/><text fill=\"#000000\" font-family=\"sans-serif\" font-size=\"12\" font-style=\"italic\" lengthAdjust=\"spacingAndGlyphs\" textLength=\"82\" x=\"388.75\" y=\"180.1387\">«calculation»</text><text fill=\"#000000\" font-family=\"sans-serif\" font-size=\"12\" lengthAdjust=\"spacingAndGlyphs\" textLength=\"119\" x=\"368.25\" y=\"194.1074\">evaluationFunction</text><line style=\"stroke: #383838; stroke-width: 1.5;\" x1=\"366.25\" x2=\"493.25\" y1=\"201.9375\" y2=\"201.9375\"/></a><!--MD5=[b9389687b975829384b498ac4b7476b2]\n",
       "class E8--><a href=\"psysml:83f46fb2-5a48-4342-a61e-b1e9a3952716\" target=\"_top\" title=\"psysml:83f46fb2-5a48-4342-a61e-b1e9a3952716\" xlink:actuate=\"onRequest\" xlink:href=\"psysml:83f46fb2-5a48-4342-a61e-b1e9a3952716\" xlink:show=\"new\" xlink:title=\"psysml:83f46fb2-5a48-4342-a61e-b1e9a3952716\" xlink:type=\"simple\"><rect fill=\"#FFFFFF\" height=\"45.9375\" id=\"E8\" rx=\"10\" ry=\"10\" style=\"stroke: #383838; stroke-width: 1.5;\" width=\"128\" x=\"72.75\" y=\"316\"/><text fill=\"#000000\" font-family=\"sans-serif\" font-size=\"12\" font-style=\"italic\" lengthAdjust=\"spacingAndGlyphs\" textLength=\"40\" x=\"116.75\" y=\"332.1387\">«part»</text><text fill=\"#000000\" font-family=\"sans-serif\" font-size=\"12\" lengthAdjust=\"spacingAndGlyphs\" textLength=\"118\" x=\"75.75\" y=\"346.1074\">alternative: Engine</text><line style=\"stroke: #383838; stroke-width: 1.5;\" x1=\"73.75\" x2=\"199.75\" y1=\"353.9375\" y2=\"353.9375\"/></a><!--MD5=[fd4143e9d270a159db93a4ea2a975926]\n",
       "class E9--><a href=\"psysml:43a96bb2-d059-439d-9037-f3d1363e69c1\" target=\"_top\" title=\"psysml:43a96bb2-d059-439d-9037-f3d1363e69c1\" xlink:actuate=\"onRequest\" xlink:href=\"psysml:43a96bb2-d059-439d-9037-f3d1363e69c1\" xlink:show=\"new\" xlink:title=\"psysml:43a96bb2-d059-439d-9037-f3d1363e69c1\" xlink:type=\"simple\"><rect fill=\"#FFFFFF\" height=\"45.9375\" id=\"E9\" rx=\"10\" ry=\"10\" style=\"stroke: #383838; stroke-width: 1.5;\" width=\"182\" x=\"298.75\" y=\"240\"/><text fill=\"#000000\" font-family=\"sans-serif\" font-size=\"12\" font-style=\"italic\" lengthAdjust=\"spacingAndGlyphs\" textLength=\"40\" x=\"369.75\" y=\"256.1387\">«part»</text><text fill=\"#000000\" font-family=\"sans-serif\" font-size=\"12\" lengthAdjust=\"spacingAndGlyphs\" textLength=\"172\" x=\"301.75\" y=\"270.1074\">selectedAlternative: Engine</text><line style=\"stroke: #383838; stroke-width: 1.5;\" x1=\"299.75\" x2=\"479.75\" y1=\"277.9375\" y2=\"277.9375\"/></a><!--MD5=[05d275557350bfb9b23a4ef7222b4c39]\n",
       "link E3 to E2--><a href=\"psysml:a3c7b902-deb2-42e0-bb2d-9591134be70d\" target=\"_top\" title=\"psysml:a3c7b902-deb2-42e0-bb2d-9591134be70d\" xlink:actuate=\"onRequest\" xlink:href=\"psysml:a3c7b902-deb2-42e0-bb2d-9591134be70d\" xlink:show=\"new\" xlink:title=\"psysml:a3c7b902-deb2-42e0-bb2d-9591134be70d\" xlink:type=\"simple\"><path d=\"M425.65,362.01 C386.12,379.38 331.1,403.55 290.63,421.33 \" fill=\"none\" id=\"E3-&gt;E2\" style=\"stroke: #383838; stroke-width: 1.0;\"/><polygon fill=\"#FFFFFF\" points=\"272.06,429.49,286.6417,415.4411,292.271,428.2594,272.06,429.49\" style=\"stroke: #383838; stroke-width: 1.0;\"/><ellipse cx=\"292.6648\" cy=\"414.9803\" fill=\"#383838\" rx=\"2\" ry=\"2\" style=\"stroke: #383838; stroke-width: 1.0;\"/><ellipse cx=\"296.6858\" cy=\"424.1363\" fill=\"#383838\" rx=\"2\" ry=\"2\" style=\"stroke: #383838; stroke-width: 1.0;\"/></a><!--MD5=[185131fc0dcab0a4505a2ebe144e961b]\n",
       "link E4 to E2--><a href=\"psysml:ad9261f0-dda0-42b5-9d6e-43ebe8822407\" target=\"_top\" title=\"psysml:ad9261f0-dda0-42b5-9d6e-43ebe8822407\" xlink:actuate=\"onRequest\" xlink:href=\"psysml:ad9261f0-dda0-42b5-9d6e-43ebe8822407\" xlink:show=\"new\" xlink:title=\"psysml:ad9261f0-dda0-42b5-9d6e-43ebe8822407\" xlink:type=\"simple\"><path d=\"M309.46,362.01 C298.01,375.08 283.18,392.01 269.89,407.17 \" fill=\"none\" id=\"E4-&gt;E2\" style=\"stroke: #383838; stroke-width: 1.0;\"/><polygon fill=\"#FFFFFF\" points=\"256.33,422.66,263.5901,403.7578,274.1181,412.9861,256.33,422.66\" style=\"stroke: #383838; stroke-width: 1.0;\"/><ellipse cx=\"268.8513\" cy=\"400.7898\" fill=\"#383838\" rx=\"2\" ry=\"2\" style=\"stroke: #383838; stroke-width: 1.0;\"/><ellipse cx=\"276.3713\" cy=\"407.3814\" fill=\"#383838\" rx=\"2\" ry=\"2\" style=\"stroke: #383838; stroke-width: 1.0;\"/></a><!--MD5=[15ebcb19ae302d9b601edb458606d402]\n",
       "link E5 to E2--><a href=\"psysml:b52cccfc-b130-477f-adae-4c6f859e452b\" target=\"_top\" title=\"psysml:b52cccfc-b130-477f-adae-4c6f859e452b\" xlink:actuate=\"onRequest\" xlink:href=\"psysml:b52cccfc-b130-477f-adae-4c6f859e452b\" xlink:show=\"new\" xlink:title=\"psysml:b52cccfc-b130-477f-adae-4c6f859e452b\" xlink:type=\"simple\"><path d=\"M242.19,71.71 C178.15,81.78 99.85,106.1 57.75,164 C6,235.18 7.15,287.97 54.75,362 C85.89,410.42 153.01,430.93 196.46,439.38 \" fill=\"none\" id=\"E5-&gt;E2\" style=\"stroke: #383838; stroke-width: 1.0; stroke-dasharray: 7.0,7.0;\"/><polygon fill=\"#383838\" points=\"201.63,440.35,193.5135,434.7713,196.7143,439.4355,192.0502,442.6363,201.63,440.35\" style=\"stroke: #383838; stroke-width: 1.0;\"/><text fill=\"#000000\" font-family=\"sans-serif\" font-size=\"13\" lengthAdjust=\"spacingAndGlyphs\" textLength=\"62\" x=\"22.75\" y=\"267.5669\">«subject»</text></a><!--MD5=[9120cf2e5df3bff93db8f754bbbc09b4]\n",
       "link E5 to E6--><a href=\"psysml:be121dac-af46-4d47-896b-f9a14a0b4d3b\" target=\"_top\" title=\"psysml:be121dac-af46-4d47-896b-f9a14a0b4d3b\" xlink:actuate=\"onRequest\" xlink:href=\"psysml:be121dac-af46-4d47-896b-f9a14a0b4d3b\" xlink:show=\"new\" xlink:title=\"psysml:be121dac-af46-4d47-896b-f9a14a0b4d3b\" xlink:type=\"simple\"><path d=\"M317.89,87.19 C294.44,107.32 259.79,137.06 234.63,158.64 \" fill=\"none\" id=\"E5-&gt;E6\" style=\"stroke: #383838; stroke-width: 1.0;\"/><polygon fill=\"#383838\" points=\"228.45,163.95,236.4776,161.0246,232.5746,156.4675,228.45,163.95\" style=\"stroke: #383838; stroke-width: 1.0;\"/><text fill=\"#000000\" font-family=\"sans-serif\" font-size=\"13\" lengthAdjust=\"spacingAndGlyphs\" textLength=\"73\" x=\"281.75\" y=\"130.0669\">«objective»</text></a><!--MD5=[452b418e7f8a40397a49b8c0a78acc5b]\n",
       "reverse link E5 to E7--><a href=\"psysml:226717b4-0db0-47e0-9eef-bae3c4ff0509\" target=\"_top\" title=\"psysml:226717b4-0db0-47e0-9eef-bae3c4ff0509\" xlink:actuate=\"onRequest\" xlink:href=\"psysml:226717b4-0db0-47e0-9eef-bae3c4ff0509\" xlink:show=\"new\" xlink:title=\"psysml:226717b4-0db0-47e0-9eef-bae3c4ff0509\" xlink:type=\"simple\"><path d=\"M367.12,97.88 C382.03,118.86 400.95,145.48 414.08,163.95 \" fill=\"none\" id=\"E5&lt;-E7\" style=\"stroke: #383838; stroke-width: 1.0;\"/><polygon fill=\"#FFFFFF\" points=\"359.52,87.19,359.7442,94.3976,366.4836,96.9628,366.2594,89.7552,359.52,87.19\" style=\"stroke: #383838; stroke-width: 1.0;\"/></a><!--MD5=[dc164f5e8a733ab456ef1add180e9e34]\n",
       "reverse link E7 to E8--><a href=\"psysml:6f1f84a3-2ac1-458a-baf6-caa888cc195f\" target=\"_top\" title=\"psysml:6f1f84a3-2ac1-458a-baf6-caa888cc195f\" xlink:actuate=\"onRequest\" xlink:href=\"psysml:6f1f84a3-2ac1-458a-baf6-caa888cc195f\" xlink:show=\"new\" xlink:title=\"psysml:6f1f84a3-2ac1-458a-baf6-caa888cc195f\" xlink:type=\"simple\"><path d=\"M352.57,210.93 C329.29,218.95 304.02,228.8 281.75,240 C238.59,261.71 193.11,294.26 164.84,315.8 \" fill=\"none\" id=\"E7&lt;-E8\" style=\"stroke: #383838; stroke-width: 1.0;\"/><polygon fill=\"#FFFFFF\" points=\"364.89,206.79,357.9284,204.9096,353.5151,210.6124,360.4767,212.4928,364.89,206.79\" style=\"stroke: #383838; stroke-width: 1.0;\"/><text fill=\"#000000\" font-family=\"sans-serif\" font-size=\"13\" lengthAdjust=\"spacingAndGlyphs\" textLength=\"8\" x=\"163.0131\" y=\"305.025\">1</text></a><!--MD5=[f1f3f9f2fc535e6147756cb86a7f2e32]\n",
       "link E8 to E2--><a href=\"psysml:2bf4d1c6-7bac-40b1-aaaa-83952da67c38\" target=\"_top\" title=\"psysml:2bf4d1c6-7bac-40b1-aaaa-83952da67c38\" xlink:actuate=\"onRequest\" xlink:href=\"psysml:2bf4d1c6-7bac-40b1-aaaa-83952da67c38\" xlink:show=\"new\" xlink:title=\"psysml:2bf4d1c6-7bac-40b1-aaaa-83952da67c38\" xlink:type=\"simple\"><path d=\"M157.71,362.01 C170.43,375.36 186.98,392.74 201.64,408.14 \" fill=\"none\" id=\"E8-&gt;E2\" style=\"stroke: #383838; stroke-width: 1.0;\"/><polygon fill=\"#FFFFFF\" points=\"215.47,422.66,197.3009,413.7223,207.4424,404.0708,215.47,422.66\" style=\"stroke: #383838; stroke-width: 1.0;\"/><ellipse cx=\"194.8202\" cy=\"408.2144\" fill=\"#383838\" rx=\"2\" ry=\"2\" style=\"stroke: #383838; stroke-width: 1.0;\"/><ellipse cx=\"202.0641\" cy=\"401.3206\" fill=\"#383838\" rx=\"2\" ry=\"2\" style=\"stroke: #383838; stroke-width: 1.0;\"/></a><!--MD5=[9ae28de373ca99bb8a1b38d63370ca7e]\n",
       "reverse link E5 to E9--><a href=\"psysml:eedf805a-a406-401d-b38e-104ba6f0fce6\" target=\"_top\" title=\"psysml:eedf805a-a406-401d-b38e-104ba6f0fce6\" xlink:actuate=\"onRequest\" xlink:href=\"psysml:eedf805a-a406-401d-b38e-104ba6f0fce6\" xlink:show=\"new\" xlink:title=\"psysml:eedf805a-a406-401d-b38e-104ba6f0fce6\" xlink:type=\"simple\"><path d=\"M425.37,92.39 C458.3,107.92 492.9,131.01 511.75,164 C521.89,181.75 523.02,192.94 511.75,210 C503.25,222.87 490.84,232.57 477.15,239.87 \" fill=\"none\" id=\"E5&lt;-E9\" style=\"stroke: #383838; stroke-width: 1.0;\"/><polygon fill=\"#FFFFFF\" points=\"413.35,87.01,417.1893,93.1141,424.3005,91.9179,420.4612,85.8138,413.35,87.01\" style=\"stroke: #383838; stroke-width: 1.0;\"/><text fill=\"#000000\" font-family=\"sans-serif\" font-size=\"13\" lengthAdjust=\"spacingAndGlyphs\" textLength=\"8\" x=\"488.4363\" y=\"229.8763\">1</text></a><!--MD5=[5c3bb36fe832a92c7f0e1807dd65209d]\n",
       "link E9 to E2--><a href=\"psysml:3213573e-39ef-4dfb-813d-bdfb08b6e367\" target=\"_top\" title=\"psysml:3213573e-39ef-4dfb-813d-bdfb08b6e367\" xlink:actuate=\"onRequest\" xlink:href=\"psysml:3213573e-39ef-4dfb-813d-bdfb08b6e367\" xlink:show=\"new\" xlink:title=\"psysml:3213573e-39ef-4dfb-813d-bdfb08b6e367\" xlink:type=\"simple\"><path d=\"M298.61,284.36 C282.24,291.84 266.88,302.05 255.75,316 C236.48,340.16 232.36,375.23 232.71,402.71 \" fill=\"none\" id=\"E9-&gt;E2\" style=\"stroke: #383838; stroke-width: 1.0;\"/><polygon fill=\"#FFFFFF\" points=\"233.74,422.77,225.772,404.1552,239.7535,403.4351,233.74,422.77\" style=\"stroke: #383838; stroke-width: 1.0;\"/><ellipse cx=\"227.4762\" cy=\"398.3599\" fill=\"#383838\" rx=\"2\" ry=\"2\" style=\"stroke: #383838; stroke-width: 1.0;\"/><ellipse cx=\"237.463\" cy=\"397.8455\" fill=\"#383838\" rx=\"2\" ry=\"2\" style=\"stroke: #383838; stroke-width: 1.0;\"/></a><!--MD5=[122a9c890a1ec972513993295e268df9]\n",
       "@startuml\r\n",
       "skinparam monochrome true\r\n",
       "skinparam classbackgroundcolor white\r\n",
       "skinparam shadowing false\r\n",
       "skinparam wrapWidth 300\r\n",
       "hide circle\r\n",
       "\r\n",
       "package \"TradeStudyTest\" as E1  [[psysml:06d75114-8d09-4304-b9ac-1031eaaad748 ]]  {\r\n",
       "comp def \"Engine\" as E2  <<(T,blue) part  def>> [[psysml:377b66bc-6410-4386-a0f5-58eac70f1599 ]] {\r\n",
       "}\r\n",
       "comp usage \"engine1: Engine \" as E3  <<(T,blue) part>> [[psysml:b73c7ebb-9472-45c7-822b-647f60ba4ebd ]] {\r\n",
       "}\r\n",
       "comp usage \"engine2: Engine \" as E4  <<(T,blue) part>> [[psysml:383bc22a-19f8-4697-ba31-98dbfb8a50a3 ]] {\r\n",
       "}\r\n",
       "comp usage \"engineTradeStudy: TradeStudy \" as E5 << analysis>> [[psysml:a2c4dab4-2ddb-42af-80d6-b11f423fabe1 ]] {\r\n",
       "}\r\n",
       "comp usage \"tradeStudyObjective: MaximizeObjective \" as E6  <<(T,blue) requirement>> [[psysml:6f716227-75fa-479d-851c-c6728be0ecaf ]] {\r\n",
       "}\r\n",
       "comp usage \"evaluationFunction \" as E7  <<(T,blue) calculation>> [[psysml:e59262b2-24eb-419d-a794-3b71c7229dcc ]] {\r\n",
       "}\r\n",
       "comp usage \"alternative: Engine \" as E8  <<(T,blue) part>> [[psysml:83f46fb2-5a48-4342-a61e-b1e9a3952716 ]] {\r\n",
       "}\r\n",
       "comp usage \"selectedAlternative: Engine \" as E9  <<(T,blue) part>> [[psysml:43a96bb2-d059-439d-9037-f3d1363e69c1 ]] {\r\n",
       "}\r\n",
       "}\r\n",
       "E3 - -:|> E2 [[psysml:a3c7b902-deb2-42e0-bb2d-9591134be70d ]] \r\n",
       "E4 - -:|> E2 [[psysml:ad9261f0-dda0-42b5-9d6e-43ebe8822407 ]] \r\n",
       "E5 ..> E2 [[psysml:b52cccfc-b130-477f-adae-4c6f859e452b ]] : <<subject>>\r\n",
       "E5 - ->> E6 [[psysml:be121dac-af46-4d47-896b-f9a14a0b4d3b ]] : <<objective>>\r\n",
       "E5 o- - E7 [[psysml:226717b4-0db0-47e0-9eef-bae3c4ff0509 ]] \r\n",
       "E7 o- - \"1\"E8 [[psysml:6f1f84a3-2ac1-458a-baf6-caa888cc195f ]] \r\n",
       "E8 - -:|> E2 [[psysml:2bf4d1c6-7bac-40b1-aaaa-83952da67c38 ]] \r\n",
       "E5 o- - \"1\"E9 [[psysml:eedf805a-a406-401d-b38e-104ba6f0fce6 ]] \r\n",
       "E9 - -:|> E2 [[psysml:3213573e-39ef-4dfb-813d-bdfb08b6e367 ]] \r\n",
       "@enduml\r\n",
       "\n",
       "PlantUML version 1.2020.13(Sat Jun 13 12:26:38 UTC 2020)\n",
       "(EPL source distribution)\n",
       "Java Runtime: OpenJDK Runtime Environment\n",
       "JVM: OpenJDK 64-Bit Server VM\n",
       "Default Encoding: UTF-8\n",
       "Language: en\n",
       "Country: null\n",
       "--></g></svg>"
      ]
     },
     "execution_count": 38,
     "metadata": {},
     "output_type": "execute_result"
    }
   ],
   "source": [
    "%viz --style=\"DEFAULT\" --view=\"Tree\" \"TradeStudyTest\""
   ]
  },
  {
   "cell_type": "code",
   "execution_count": 39,
   "id": "2f31ee84",
   "metadata": {
    "execution": {
     "iopub.execute_input": "2022-08-19T08:21:18.101372Z",
     "iopub.status.busy": "2022-08-19T08:21:18.100903Z",
     "iopub.status.idle": "2022-08-19T08:21:18.107976Z",
     "shell.execute_reply": "2022-08-19T08:21:18.107563Z"
    }
   },
   "outputs": [
    {
     "data": {
      "image/svg+xml": [
       "<?xml version=\"1.0\" encoding=\"UTF-8\" standalone=\"no\"?><svg xmlns=\"http://www.w3.org/2000/svg\" xmlns:xlink=\"http://www.w3.org/1999/xlink\" contentScriptType=\"application/ecmascript\" contentStyleType=\"text/css\" height=\"12px\" preserveAspectRatio=\"none\" style=\"width:12px;height:12px;\" version=\"1.1\" viewBox=\"0 0 12 12\" width=\"12px\" zoomAndPan=\"magnify\"><defs/><g><!--MD5=[c5f280e076d0d61ccf4b0f27871bda1d]\n",
       "@startuml\r\n",
       "skinparam monochrome true\r\n",
       "skinparam classbackgroundcolor white\r\n",
       "skinparam shadowing false\r\n",
       "skinparam wrapWidth 300\r\n",
       "hide circle\r\n",
       "\r\n",
       "@enduml\r\n",
       "\n",
       "PlantUML version 1.2020.13(Sat Jun 13 12:26:38 UTC 2020)\n",
       "(EPL source distribution)\n",
       "Java Runtime: OpenJDK Runtime Environment\n",
       "JVM: OpenJDK 64-Bit Server VM\n",
       "Default Encoding: UTF-8\n",
       "Language: en\n",
       "Country: null\n",
       "--></g></svg>"
      ]
     },
     "execution_count": 39,
     "metadata": {},
     "output_type": "execute_result"
    }
   ],
   "source": [
    "%viz --style=\"DEFAULT\" --view=\"State\" \"TradeStudyTest\""
   ]
  },
  {
   "cell_type": "code",
   "execution_count": 40,
   "id": "6b2fdc7f",
   "metadata": {
    "execution": {
     "iopub.execute_input": "2022-08-19T08:21:18.158082Z",
     "iopub.status.busy": "2022-08-19T08:21:18.157603Z",
     "iopub.status.idle": "2022-08-19T08:21:18.199861Z",
     "shell.execute_reply": "2022-08-19T08:21:18.199424Z"
    }
   },
   "outputs": [
    {
     "data": {
      "image/svg+xml": [
       "<?xml version=\"1.0\" encoding=\"UTF-8\" standalone=\"no\"?><svg xmlns=\"http://www.w3.org/2000/svg\" xmlns:xlink=\"http://www.w3.org/1999/xlink\" contentScriptType=\"application/ecmascript\" contentStyleType=\"text/css\" height=\"426px\" preserveAspectRatio=\"none\" style=\"width:569px;height:426px;\" version=\"1.1\" viewBox=\"0 0 569 426\" width=\"569px\" zoomAndPan=\"magnify\"><defs/><g><!--MD5=[fbc87193dbaf4d95561dea2c320d4a47]\n",
       "cluster E1--><a href=\"psysml:06d75114-8d09-4304-b9ac-1031eaaad748\" target=\"_top\" title=\"psysml:06d75114-8d09-4304-b9ac-1031eaaad748\" xlink:actuate=\"onRequest\" xlink:href=\"psysml:06d75114-8d09-4304-b9ac-1031eaaad748\" xlink:show=\"new\" xlink:title=\"psysml:06d75114-8d09-4304-b9ac-1031eaaad748\" xlink:type=\"simple\"><polygon fill=\"#FFFFFF\" points=\"16,6,132,6,139,28.2969,547,28.2969,547,414,16,414,16,6\" style=\"stroke: #000000; stroke-width: 1.5;\"/><line style=\"stroke: #000000; stroke-width: 1.5;\" x1=\"16\" x2=\"139\" y1=\"28.2969\" y2=\"28.2969\"/><text fill=\"#000000\" font-family=\"sans-serif\" font-size=\"14\" font-weight=\"bold\" lengthAdjust=\"spacingAndGlyphs\" textLength=\"110\" x=\"20\" y=\"20.9951\">TradeStudyTest</text></a><!--MD5=[de5ec2e2e8f62f467e546659f5068c88]\n",
       "cluster E5--><a href=\"psysml:a2c4dab4-2ddb-42af-80d6-b11f423fabe1\" target=\"_top\" title=\"psysml:a2c4dab4-2ddb-42af-80d6-b11f423fabe1\" xlink:actuate=\"onRequest\" xlink:href=\"psysml:a2c4dab4-2ddb-42af-80d6-b11f423fabe1\" xlink:show=\"new\" xlink:title=\"psysml:a2c4dab4-2ddb-42af-80d6-b11f423fabe1\" xlink:type=\"simple\"><rect fill=\"#FFFFFF\" height=\"129\" id=\"E5\" rx=\"10\" ry=\"10\" style=\"stroke: #383838; stroke-width: 1.5;\" width=\"199\" x=\"316\" y=\"57\"/><rect fill=\"#F8F8F8\" height=\"37.9375\" rx=\"10\" ry=\"10\" style=\"stroke: #F8F8F8; stroke-width: 1.5;\" width=\"199\" x=\"316\" y=\"57\"/><rect fill=\"#F8F8F8\" height=\"10\" style=\"stroke: #F8F8F8; stroke-width: 1.5;\" width=\"199\" x=\"316\" y=\"84.9375\"/><rect fill=\"none\" height=\"129\" id=\"E5\" rx=\"10\" ry=\"10\" style=\"stroke: #383838; stroke-width: 1.5;\" width=\"199\" x=\"316\" y=\"57\"/><text fill=\"#000000\" font-family=\"sans-serif\" font-size=\"12\" font-style=\"italic\" lengthAdjust=\"spacingAndGlyphs\" textLength=\"64\" x=\"383.5\" y=\"73.1387\">«analysis»</text><text fill=\"#000000\" font-family=\"sans-serif\" font-size=\"12\" lengthAdjust=\"spacingAndGlyphs\" textLength=\"114\" x=\"358.5\" y=\"87.1074\">engineTradeStudy</text><line style=\"stroke: #383838; stroke-width: 1.0;\" x1=\"316\" x2=\"515\" y1=\"94.9375\" y2=\"94.9375\"/></a><!--MD5=[2156ba9850f5573cc1fc38a6a4b2f02b]\n",
       "class E7--><a href=\"psysml:e59262b2-24eb-419d-a794-3b71c7229dcc\" target=\"_top\" title=\"psysml:e59262b2-24eb-419d-a794-3b71c7229dcc\" xlink:actuate=\"onRequest\" xlink:href=\"psysml:e59262b2-24eb-419d-a794-3b71c7229dcc\" xlink:show=\"new\" xlink:title=\"psysml:e59262b2-24eb-419d-a794-3b71c7229dcc\" xlink:type=\"simple\"><rect fill=\"#FFFFFF\" height=\"45.9375\" id=\"E7\" rx=\"10\" ry=\"10\" style=\"stroke: #383838; stroke-width: 1.5;\" width=\"129\" x=\"84.5\" y=\"219\"/><text fill=\"#000000\" font-family=\"sans-serif\" font-size=\"12\" font-style=\"italic\" lengthAdjust=\"spacingAndGlyphs\" textLength=\"82\" x=\"108\" y=\"235.1387\">«calculation»</text><text fill=\"#000000\" font-family=\"sans-serif\" font-size=\"12\" lengthAdjust=\"spacingAndGlyphs\" textLength=\"119\" x=\"87.5\" y=\"249.1074\">evaluationFunction</text><line style=\"stroke: #383838; stroke-width: 1.5;\" x1=\"85.5\" x2=\"212.5\" y1=\"256.9375\" y2=\"256.9375\"/></a><!--MD5=[b9389687b975829384b498ac4b7476b2]\n",
       "class E8--><a href=\"psysml:83f46fb2-5a48-4342-a61e-b1e9a3952716\" target=\"_top\" title=\"psysml:83f46fb2-5a48-4342-a61e-b1e9a3952716\" xlink:actuate=\"onRequest\" xlink:href=\"psysml:83f46fb2-5a48-4342-a61e-b1e9a3952716\" xlink:show=\"new\" xlink:title=\"psysml:83f46fb2-5a48-4342-a61e-b1e9a3952716\" xlink:type=\"simple\"><rect fill=\"#FFFFFF\" height=\"31.9688\" id=\"E8\" rx=\"10\" ry=\"10\" style=\"stroke: #383838; stroke-width: 1.5;\" width=\"128\" x=\"329\" y=\"302\"/><text fill=\"#000000\" font-family=\"sans-serif\" font-size=\"12\" lengthAdjust=\"spacingAndGlyphs\" textLength=\"118\" x=\"332\" y=\"318.1387\">alternative: Engine</text><line style=\"stroke: #383838; stroke-width: 1.5;\" x1=\"330\" x2=\"456\" y1=\"325.9688\" y2=\"325.9688\"/></a><!--MD5=[fd4143e9d270a159db93a4ea2a975926]\n",
       "class E9--><a href=\"psysml:43a96bb2-d059-439d-9037-f3d1363e69c1\" target=\"_top\" title=\"psysml:43a96bb2-d059-439d-9037-f3d1363e69c1\" xlink:actuate=\"onRequest\" xlink:href=\"psysml:43a96bb2-d059-439d-9037-f3d1363e69c1\" xlink:show=\"new\" xlink:title=\"psysml:43a96bb2-d059-439d-9037-f3d1363e69c1\" xlink:type=\"simple\"><rect fill=\"#FFFFFF\" height=\"31.9688\" id=\"E9\" rx=\"10\" ry=\"10\" style=\"stroke: #383838; stroke-width: 1.5;\" width=\"182\" x=\"249\" y=\"226\"/><text fill=\"#000000\" font-family=\"sans-serif\" font-size=\"12\" lengthAdjust=\"spacingAndGlyphs\" textLength=\"172\" x=\"252\" y=\"242.1387\">selectedAlternative: Engine</text><line style=\"stroke: #383838; stroke-width: 1.5;\" x1=\"250\" x2=\"430\" y1=\"249.9688\" y2=\"249.9688\"/></a><g id=\"E1.E2\"><a href=\"psysml:377b66bc-6410-4386-a0f5-58eac70f1599\" target=\"_top\" title=\"psysml:377b66bc-6410-4386-a0f5-58eac70f1599\" xlink:actuate=\"onRequest\" xlink:href=\"psysml:377b66bc-6410-4386-a0f5-58eac70f1599\" xlink:show=\"new\" xlink:title=\"psysml:377b66bc-6410-4386-a0f5-58eac70f1599\" xlink:type=\"simple\"><rect fill=\"#FFFFFF\" height=\"42.9375\" id=\"E2\" style=\"stroke: #383838; stroke-width: 1.5;\" width=\"75\" x=\"355.5\" y=\"355\"/><rect fill=\"#F8F8F8\" height=\"37.9375\" style=\"stroke: #383838; stroke-width: 1.5;\" width=\"75\" x=\"355.5\" y=\"355\"/><text fill=\"#000000\" font-family=\"sans-serif\" font-size=\"12\" font-style=\"italic\" lengthAdjust=\"spacingAndGlyphs\" textLength=\"68\" x=\"359\" y=\"371.1387\">«part  def»</text><text fill=\"#000000\" font-family=\"sans-serif\" font-size=\"12\" lengthAdjust=\"spacingAndGlyphs\" textLength=\"43\" x=\"371.5\" y=\"385.1074\">Engine</text></a></g><g id=\"E1.E3\"><a href=\"psysml:b73c7ebb-9472-45c7-822b-647f60ba4ebd\" target=\"_top\" title=\"psysml:b73c7ebb-9472-45c7-822b-647f60ba4ebd\" xlink:actuate=\"onRequest\" xlink:href=\"psysml:b73c7ebb-9472-45c7-822b-647f60ba4ebd\" xlink:show=\"new\" xlink:title=\"psysml:b73c7ebb-9472-45c7-822b-647f60ba4ebd\" xlink:type=\"simple\"><rect fill=\"#FFFFFF\" height=\"40\" id=\"E3\" rx=\"10\" ry=\"10\" style=\"stroke: #383838; stroke-width: 1.5;\" width=\"113\" x=\"180.5\" y=\"298\"/><rect fill=\"#F8F8F8\" height=\"23.9688\" rx=\"10\" ry=\"10\" style=\"stroke: #F8F8F8; stroke-width: 1.5;\" width=\"113\" x=\"180.5\" y=\"298\"/><rect fill=\"#F8F8F8\" height=\"10\" style=\"stroke: #F8F8F8; stroke-width: 1.5;\" width=\"113\" x=\"180.5\" y=\"311.9688\"/><rect fill=\"none\" height=\"40\" id=\"E3\" rx=\"10\" ry=\"10\" style=\"stroke: #383838; stroke-width: 1.5;\" width=\"113\" x=\"180.5\" y=\"298\"/><text fill=\"#000000\" font-family=\"sans-serif\" font-size=\"12\" lengthAdjust=\"spacingAndGlyphs\" textLength=\"102\" x=\"186\" y=\"314.1387\">engine1: Engine</text></a></g><g id=\"E1.E4\"><a href=\"psysml:383bc22a-19f8-4697-ba31-98dbfb8a50a3\" target=\"_top\" title=\"psysml:383bc22a-19f8-4697-ba31-98dbfb8a50a3\" xlink:actuate=\"onRequest\" xlink:href=\"psysml:383bc22a-19f8-4697-ba31-98dbfb8a50a3\" xlink:show=\"new\" xlink:title=\"psysml:383bc22a-19f8-4697-ba31-98dbfb8a50a3\" xlink:type=\"simple\"><rect fill=\"#FFFFFF\" height=\"40\" id=\"E4\" rx=\"10\" ry=\"10\" style=\"stroke: #383838; stroke-width: 1.5;\" width=\"113\" x=\"32.5\" y=\"298\"/><rect fill=\"#F8F8F8\" height=\"23.9688\" rx=\"10\" ry=\"10\" style=\"stroke: #F8F8F8; stroke-width: 1.5;\" width=\"113\" x=\"32.5\" y=\"298\"/><rect fill=\"#F8F8F8\" height=\"10\" style=\"stroke: #F8F8F8; stroke-width: 1.5;\" width=\"113\" x=\"32.5\" y=\"311.9688\"/><rect fill=\"none\" height=\"40\" id=\"E4\" rx=\"10\" ry=\"10\" style=\"stroke: #383838; stroke-width: 1.5;\" width=\"113\" x=\"32.5\" y=\"298\"/><text fill=\"#000000\" font-family=\"sans-serif\" font-size=\"12\" lengthAdjust=\"spacingAndGlyphs\" textLength=\"102\" x=\"38\" y=\"314.1387\">engine2: Engine</text></a></g><!--MD5=[60a26617385b1d2d0262a64233df1f8d]\n",
       "class E6--><a href=\"psysml:6f716227-75fa-479d-851c-c6728be0ecaf\" target=\"_top\" title=\"psysml:6f716227-75fa-479d-851c-c6728be0ecaf\" xlink:actuate=\"onRequest\" xlink:href=\"psysml:6f716227-75fa-479d-851c-c6728be0ecaf\" xlink:show=\"new\" xlink:title=\"psysml:6f716227-75fa-479d-851c-c6728be0ecaf\" xlink:type=\"simple\"><rect fill=\"#FFFFFF\" height=\"45.9375\" id=\"E6\" rx=\"10\" ry=\"10\" style=\"stroke: #383838; stroke-width: 1.5;\" width=\"132\" x=\"359\" y=\"116\"/><text fill=\"#000000\" font-family=\"sans-serif\" font-size=\"12\" font-style=\"italic\" lengthAdjust=\"spacingAndGlyphs\" textLength=\"70\" x=\"390\" y=\"132.1387\">«objective»</text><text fill=\"#000000\" font-family=\"sans-serif\" font-size=\"12\" lengthAdjust=\"spacingAndGlyphs\" textLength=\"126\" x=\"362\" y=\"146.1074\">tradeStudyObjective</text><line style=\"stroke: #383838; stroke-width: 1.5;\" x1=\"360\" x2=\"490\" y1=\"153.9375\" y2=\"153.9375\"/></a><!--MD5=[05d275557350bfb9b23a4ef7222b4c39]\n",
       "link E3 to E2--><a href=\"psysml:a3c7b902-deb2-42e0-bb2d-9591134be70d\" target=\"_top\" title=\"psysml:a3c7b902-deb2-42e0-bb2d-9591134be70d\" xlink:actuate=\"onRequest\" xlink:href=\"psysml:a3c7b902-deb2-42e0-bb2d-9591134be70d\" xlink:show=\"new\" xlink:title=\"psysml:a3c7b902-deb2-42e0-bb2d-9591134be70d\" xlink:type=\"simple\"><path d=\"M289.81,338.13 C304.69,343.52 320.93,349.4 336.03,354.87 \" fill=\"none\" id=\"E3-&gt;E2\" style=\"stroke: #383838; stroke-width: 1.0;\"/><polygon fill=\"#FFFFFF\" points=\"355.03,361.75,334.7819,361.875,339.5406,348.7085,355.03,361.75\" style=\"stroke: #383838; stroke-width: 1.0;\"/><ellipse cx=\"330.1011\" cy=\"358.0566\" fill=\"#383838\" rx=\"2\" ry=\"2\" style=\"stroke: #383838; stroke-width: 1.0;\"/><ellipse cx=\"333.5002\" cy=\"348.652\" fill=\"#383838\" rx=\"2\" ry=\"2\" style=\"stroke: #383838; stroke-width: 1.0;\"/></a><!--MD5=[185131fc0dcab0a4505a2ebe144e961b]\n",
       "link E4 to E2--><a href=\"psysml:ad9261f0-dda0-42b5-9d6e-43ebe8822407\" target=\"_top\" title=\"psysml:ad9261f0-dda0-42b5-9d6e-43ebe8822407\" xlink:actuate=\"onRequest\" xlink:href=\"psysml:ad9261f0-dda0-42b5-9d6e-43ebe8822407\" xlink:show=\"new\" xlink:title=\"psysml:ad9261f0-dda0-42b5-9d6e-43ebe8822407\" xlink:type=\"simple\"><path d=\"M145.84,334.14 C151.62,335.52 157.42,336.83 163,338 C221.38,350.23 288.79,360.81 335.48,367.58 \" fill=\"none\" id=\"E4-&gt;E2\" style=\"stroke: #383838; stroke-width: 1.0;\"/><polygon fill=\"#FFFFFF\" points=\"355.36,370.42,335.561,374.6626,337.5409,360.8033,355.36,370.42\" style=\"stroke: #383838; stroke-width: 1.0;\"/><ellipse cx=\"330.2011\" cy=\"371.8766\" fill=\"#383838\" rx=\"2\" ry=\"2\" style=\"stroke: #383838; stroke-width: 1.0;\"/><ellipse cx=\"331.6154\" cy=\"361.9771\" fill=\"#383838\" rx=\"2\" ry=\"2\" style=\"stroke: #383838; stroke-width: 1.0;\"/></a><!--MD5=[15ebcb19ae302d9b601edb458606d402]\n",
       "link E5 to E2--><a href=\"psysml:b52cccfc-b130-477f-adae-4c6f859e452b\" target=\"_top\" title=\"psysml:b52cccfc-b130-477f-adae-4c6f859e452b\" xlink:actuate=\"onRequest\" xlink:href=\"psysml:b52cccfc-b130-477f-adae-4c6f859e452b\" xlink:show=\"new\" xlink:title=\"psysml:b52cccfc-b130-477f-adae-4c6f859e452b\" xlink:type=\"simple\"><path d=\"M331.659,186.1627 C331.8411,186.5627 332.0273,186.9606 332.2179,187.3563 C332.5989,188.1477 332.9972,188.93 333.4133,189.7013 C334.2455,191.2439 335.1494,192.7428 336.1309,194.183 C338.0939,197.0633 340.3675,199.7088 343,202 C378.99,233.33 410.75,190.48 449,219 C480.23,242.29 478.34,260.01 487,298 C491.94,319.67 496.18,335.76 477,347 C464.34,354.42 449.46,360.26 435.78,364.68 \" fill=\"none\" id=\"E5-&gt;E2\" style=\"stroke: #383838; stroke-width: 1.0; stroke-dasharray: 7.0,7.0;\"/><polygon fill=\"#383838\" points=\"430.79,366.24,440.5753,367.3568,435.5599,364.7405,438.1761,359.725,430.79,366.24\" style=\"stroke: #383838; stroke-width: 1.0;\"/><text fill=\"#000000\" font-family=\"sans-serif\" font-size=\"13\" lengthAdjust=\"spacingAndGlyphs\" textLength=\"62\" x=\"486\" y=\"286.0669\">«subject»</text></a><!--MD5=[452b418e7f8a40397a49b8c0a78acc5b]\n",
       "reverse link E5 to E7--><a href=\"psysml:226717b4-0db0-47e0-9eef-bae3c4ff0509\" target=\"_top\" title=\"psysml:226717b4-0db0-47e0-9eef-bae3c4ff0509\" xlink:actuate=\"onRequest\" xlink:href=\"psysml:226717b4-0db0-47e0-9eef-bae3c4ff0509\" xlink:show=\"new\" xlink:title=\"psysml:226717b4-0db0-47e0-9eef-bae3c4ff0509\" xlink:type=\"simple\"><path d=\"M315.8632,144.6919 C315.7574,144.7529 315.6508,144.8144 315.5433,144.8765 C315.1131,145.1248 314.6683,145.3815 314.2093,145.6464 C312.3734,146.7061 310.3104,147.8968 308.0477,149.2028 C298.9966,154.4269 286.7481,161.4962 273.0413,169.4075 C245.6275,185.23 212.38,204.42 187.21,218.95 \" fill=\"none\" id=\"E5&lt;-E7\" style=\"stroke: #383838; stroke-width: 1.0;\"/><polygon fill=\"#FFFFFF\" points=\"315.8632,144.6919,308.6671,144.2269,305.4701,150.6906,312.6662,151.1556,315.8632,144.6919\" style=\"stroke: #383838; stroke-width: 1.0;\"/></a><!--MD5=[dc164f5e8a733ab456ef1add180e9e34]\n",
       "reverse link E7 to E8--><a href=\"psysml:6f1f84a3-2ac1-458a-baf6-caa888cc195f\" target=\"_top\" title=\"psysml:6f1f84a3-2ac1-458a-baf6-caa888cc195f\" xlink:actuate=\"onRequest\" xlink:href=\"psysml:6f1f84a3-2ac1-458a-baf6-caa888cc195f\" xlink:show=\"new\" xlink:title=\"psysml:6f1f84a3-2ac1-458a-baf6-caa888cc195f\" xlink:type=\"simple\"><path d=\"M226.45,266.49 C264.75,278.1 309.84,291.78 343.44,301.97 \" fill=\"none\" id=\"E7&lt;-E8\" style=\"stroke: #383838; stroke-width: 1.0;\"/><polygon fill=\"#FFFFFF\" points=\"213.75,262.64,218.33,268.2099,225.233,266.1245,220.653,260.5546,213.75,262.64\" style=\"stroke: #383838; stroke-width: 1.0;\"/><text fill=\"#000000\" font-family=\"sans-serif\" font-size=\"13\" lengthAdjust=\"spacingAndGlyphs\" textLength=\"8\" x=\"317.0288\" y=\"290.9767\">1</text></a><!--MD5=[f1f3f9f2fc535e6147756cb86a7f2e32]\n",
       "link E8 to E2--><a href=\"psysml:2bf4d1c6-7bac-40b1-aaaa-83952da67c38\" target=\"_top\" title=\"psysml:2bf4d1c6-7bac-40b1-aaaa-83952da67c38\" xlink:actuate=\"onRequest\" xlink:href=\"psysml:2bf4d1c6-7bac-40b1-aaaa-83952da67c38\" xlink:show=\"new\" xlink:title=\"psysml:2bf4d1c6-7bac-40b1-aaaa-83952da67c38\" xlink:type=\"simple\"><path d=\"M393,334.14 C393,334.24 393,334.34 393,334.44 \" fill=\"none\" id=\"E8-&gt;E2\" style=\"stroke: #383838; stroke-width: 1.0;\"/><polygon fill=\"#FFFFFF\" points=\"393,354.58,386,335.58,400,335.58,393,354.58\" style=\"stroke: #383838; stroke-width: 1.0;\"/><ellipse cx=\"388\" cy=\"329.88\" fill=\"#383838\" rx=\"2\" ry=\"2\" style=\"stroke: #383838; stroke-width: 1.0;\"/><ellipse cx=\"398\" cy=\"329.88\" fill=\"#383838\" rx=\"2\" ry=\"2\" style=\"stroke: #383838; stroke-width: 1.0;\"/><line style=\"stroke: #383838; stroke-width: 1.0;\" x1=\"393\" x2=\"393\" y1=\"334.14\" y2=\"354.58\"/></a><!--MD5=[9ae28de373ca99bb8a1b38d63370ca7e]\n",
       "reverse link E5 to E9--><a href=\"psysml:eedf805a-a406-401d-b38e-104ba6f0fce6\" target=\"_top\" title=\"psysml:eedf805a-a406-401d-b38e-104ba6f0fce6\" xlink:actuate=\"onRequest\" xlink:href=\"psysml:eedf805a-a406-401d-b38e-104ba6f0fce6\" xlink:show=\"new\" xlink:title=\"psysml:eedf805a-a406-401d-b38e-104ba6f0fce6\" xlink:type=\"simple\"><path d=\"M331.3115,186.1541 C331.3575,186.4444 331.4036,186.7349 331.4496,187.0256 C332.1866,191.6761 332.9298,196.366 333.6541,200.9367 C335.1025,210.0781 336.475,218.7425 337.57,225.66 \" fill=\"none\" id=\"E5&lt;-E9\" style=\"stroke: #383838; stroke-width: 1.0;\"/><polygon fill=\"#FFFFFF\" points=\"331.3115,186.1541,328.3,192.7062,333.1898,198.0062,336.2014,191.454,331.3115,186.1541\" style=\"stroke: #383838; stroke-width: 1.0;\"/><text fill=\"#000000\" font-family=\"sans-serif\" font-size=\"13\" lengthAdjust=\"spacingAndGlyphs\" textLength=\"8\" x=\"327.4401\" y=\"214.8571\">1</text></a><!--MD5=[5c3bb36fe832a92c7f0e1807dd65209d]\n",
       "link E9 to E2--><a href=\"psysml:3213573e-39ef-4dfb-813d-bdfb08b6e367\" target=\"_top\" title=\"psysml:3213573e-39ef-4dfb-813d-bdfb08b6e367\" xlink:actuate=\"onRequest\" xlink:href=\"psysml:3213573e-39ef-4dfb-813d-bdfb08b6e367\" xlink:show=\"new\" xlink:title=\"psysml:3213573e-39ef-4dfb-813d-bdfb08b6e367\" xlink:type=\"simple\"><path d=\"M364.22,258.04 C382.07,268.48 407.27,281.92 431,290 C449.81,296.41 462.26,282.74 475,298 C486.39,311.65 484.61,323.04 475,338 C468.81,347.63 459.47,354.82 449.28,360.18 \" fill=\"none\" id=\"E9-&gt;E2\" style=\"stroke: #383838; stroke-width: 1.0;\"/><polygon fill=\"#FFFFFF\" points=\"430.52,367.97,445.382,354.2179,450.7517,367.1472,430.52,367.97\" style=\"stroke: #383838; stroke-width: 1.0;\"/><ellipse cx=\"451.4132\" cy=\"353.8787\" fill=\"#383838\" rx=\"2\" ry=\"2\" style=\"stroke: #383838; stroke-width: 1.0;\"/><ellipse cx=\"455.2487\" cy=\"363.1139\" fill=\"#383838\" rx=\"2\" ry=\"2\" style=\"stroke: #383838; stroke-width: 1.0;\"/></a><!--MD5=[eeb98baf84ebdb045286820cb0edd11a]\n",
       "@startuml\r\n",
       "skinparam ranksep 10\r\n",
       "skinparam rectangle {\r\n",
       " backgroundColor<<block>> LightGreen\r\n",
       "}\r\n",
       "skinparam monochrome true\r\n",
       "skinparam classbackgroundcolor white\r\n",
       "skinparam shadowing false\r\n",
       "skinparam wrapWidth 300\r\n",
       "hide circle\r\n",
       "\r\n",
       "package \"TradeStudyTest\" as E1  [[psysml:06d75114-8d09-4304-b9ac-1031eaaad748 ]]  {\r\n",
       "rec def \"Engine\" as E2  <<(T,blue) part  def>> [[psysml:377b66bc-6410-4386-a0f5-58eac70f1599 ]] {\r\n",
       "}\r\n",
       "rec usage \"engine1: Engine\" as E3  [[psysml:b73c7ebb-9472-45c7-822b-647f60ba4ebd ]] {\r\n",
       "}\r\n",
       "rec usage \"engine2: Engine\" as E4  [[psysml:383bc22a-19f8-4697-ba31-98dbfb8a50a3 ]] {\r\n",
       "}\r\n",
       "rec usage \"engineTradeStudy\" as E5 << analysis>> [[psysml:a2c4dab4-2ddb-42af-80d6-b11f423fabe1 ]] {\r\n",
       "comp usage \"tradeStudyObjective\" as E6  <<objective>> [[psysml:6f716227-75fa-479d-851c-c6728be0ecaf ]] {\r\n",
       "}\r\n",
       "}\r\n",
       "comp usage \"evaluationFunction \" as E7  <<(T,blue) calculation>> [[psysml:e59262b2-24eb-419d-a794-3b71c7229dcc ]] {\r\n",
       "}\r\n",
       "comp usage \"alternative: Engine \" as E8  [[psysml:83f46fb2-5a48-4342-a61e-b1e9a3952716 ]] {\r\n",
       "}\r\n",
       "comp usage \"selectedAlternative: Engine \" as E9  [[psysml:43a96bb2-d059-439d-9037-f3d1363e69c1 ]] {\r\n",
       "}\r\n",
       "}\r\n",
       "E3 - -:|> E2 [[psysml:a3c7b902-deb2-42e0-bb2d-9591134be70d ]] \r\n",
       "E4 - -:|> E2 [[psysml:ad9261f0-dda0-42b5-9d6e-43ebe8822407 ]] \r\n",
       "E5 ..> E2 [[psysml:b52cccfc-b130-477f-adae-4c6f859e452b ]] : <<subject>>\r\n",
       "E5 o- - E7 [[psysml:226717b4-0db0-47e0-9eef-bae3c4ff0509 ]] \r\n",
       "E7 o- - \"1\"E8 [[psysml:6f1f84a3-2ac1-458a-baf6-caa888cc195f ]] \r\n",
       "E8 - -:|> E2 [[psysml:2bf4d1c6-7bac-40b1-aaaa-83952da67c38 ]] \r\n",
       "E5 o- - \"1\"E9 [[psysml:eedf805a-a406-401d-b38e-104ba6f0fce6 ]] \r\n",
       "E9 - -:|> E2 [[psysml:3213573e-39ef-4dfb-813d-bdfb08b6e367 ]] \r\n",
       "@enduml\r\n",
       "\n",
       "PlantUML version 1.2020.13(Sat Jun 13 12:26:38 UTC 2020)\n",
       "(EPL source distribution)\n",
       "Java Runtime: OpenJDK Runtime Environment\n",
       "JVM: OpenJDK 64-Bit Server VM\n",
       "Default Encoding: UTF-8\n",
       "Language: en\n",
       "Country: null\n",
       "--></g></svg>"
      ]
     },
     "execution_count": 40,
     "metadata": {},
     "output_type": "execute_result"
    }
   ],
   "source": [
    "%viz --style=\"DEFAULT\" --view=\"Interconnection\" \"TradeStudyTest\""
   ]
  },
  {
   "cell_type": "code",
   "execution_count": 41,
   "id": "37881df2",
   "metadata": {
    "execution": {
     "iopub.execute_input": "2022-08-19T08:21:18.249246Z",
     "iopub.status.busy": "2022-08-19T08:21:18.248797Z",
     "iopub.status.idle": "2022-08-19T08:21:18.280757Z",
     "shell.execute_reply": "2022-08-19T08:21:18.280187Z"
    }
   },
   "outputs": [
    {
     "data": {
      "image/svg+xml": [
       "<?xml version=\"1.0\" encoding=\"UTF-8\" standalone=\"no\"?><svg xmlns=\"http://www.w3.org/2000/svg\" xmlns:xlink=\"http://www.w3.org/1999/xlink\" contentScriptType=\"application/ecmascript\" contentStyleType=\"text/css\" height=\"227px\" preserveAspectRatio=\"none\" style=\"width:442px;height:227px;\" version=\"1.1\" viewBox=\"0 0 442 227\" width=\"442px\" zoomAndPan=\"magnify\"><defs/><g><!--MD5=[fbc87193dbaf4d95561dea2c320d4a47]\n",
       "cluster E1--><a href=\"psysml:a2c4dab4-2ddb-42af-80d6-b11f423fabe1\" target=\"_top\" title=\"psysml:a2c4dab4-2ddb-42af-80d6-b11f423fabe1\" xlink:actuate=\"onRequest\" xlink:href=\"psysml:a2c4dab4-2ddb-42af-80d6-b11f423fabe1\" xlink:show=\"new\" xlink:title=\"psysml:a2c4dab4-2ddb-42af-80d6-b11f423fabe1\" xlink:type=\"simple\"><rect fill=\"#FFFFFF\" height=\"174.36\" id=\"E1\" rx=\"10\" ry=\"10\" style=\"stroke: #383838; stroke-width: 1.5;\" width=\"317\" x=\"47\" y=\"42.0986\"/><rect fill=\"#F8F8F8\" height=\"37.9375\" rx=\"10\" ry=\"10\" style=\"stroke: #F8F8F8; stroke-width: 1.5;\" width=\"317\" x=\"47\" y=\"42.0986\"/><rect fill=\"#F8F8F8\" height=\"10\" style=\"stroke: #F8F8F8; stroke-width: 1.5;\" width=\"317\" x=\"47\" y=\"70.0361\"/><rect fill=\"none\" height=\"174.36\" id=\"E1\" rx=\"10\" ry=\"10\" style=\"stroke: #383838; stroke-width: 1.5;\" width=\"317\" x=\"47\" y=\"42.0986\"/><text fill=\"#000000\" font-family=\"sans-serif\" font-size=\"12\" font-style=\"italic\" lengthAdjust=\"spacingAndGlyphs\" textLength=\"64\" x=\"173.5\" y=\"58.2373\">«analysis»</text><text fill=\"#000000\" font-family=\"sans-serif\" font-size=\"12\" lengthAdjust=\"spacingAndGlyphs\" textLength=\"114\" x=\"148.5\" y=\"72.2061\">engineTradeStudy</text><line style=\"stroke: #383838; stroke-width: 1.0;\" x1=\"47\" x2=\"364\" y1=\"80.0361\" y2=\"80.0361\"/></a><!--MD5=[d5e69f78d87373223dbae638b30a9c99]\n",
       "cluster E3--><a href=\"psysml:e59262b2-24eb-419d-a794-3b71c7229dcc\" target=\"_top\" title=\"psysml:e59262b2-24eb-419d-a794-3b71c7229dcc\" xlink:actuate=\"onRequest\" xlink:href=\"psysml:e59262b2-24eb-419d-a794-3b71c7229dcc\" xlink:show=\"new\" xlink:title=\"psysml:e59262b2-24eb-419d-a794-3b71c7229dcc\" xlink:type=\"simple\"><rect fill=\"#FFFFFF\" height=\"104.86\" id=\"E3\" rx=\"10\" ry=\"10\" style=\"stroke: #383838; stroke-width: 1.5;\" width=\"178\" x=\"145\" y=\"81.5986\"/><rect fill=\"#F8F8F8\" height=\"37.9375\" rx=\"10\" ry=\"10\" style=\"stroke: #F8F8F8; stroke-width: 1.5;\" width=\"178\" x=\"145\" y=\"81.5986\"/><rect fill=\"#F8F8F8\" height=\"10\" style=\"stroke: #F8F8F8; stroke-width: 1.5;\" width=\"178\" x=\"145\" y=\"109.5361\"/><rect fill=\"none\" height=\"104.86\" id=\"E3\" rx=\"10\" ry=\"10\" style=\"stroke: #383838; stroke-width: 1.5;\" width=\"178\" x=\"145\" y=\"81.5986\"/><text fill=\"#000000\" font-family=\"sans-serif\" font-size=\"12\" font-style=\"italic\" lengthAdjust=\"spacingAndGlyphs\" textLength=\"82\" x=\"193\" y=\"97.7373\">«calculation»</text><text fill=\"#000000\" font-family=\"sans-serif\" font-size=\"12\" lengthAdjust=\"spacingAndGlyphs\" textLength=\"119\" x=\"174.5\" y=\"111.7061\">evaluationFunction</text><line style=\"stroke: #383838; stroke-width: 1.0;\" x1=\"145\" x2=\"323\" y1=\"119.5361\" y2=\"119.5361\"/></a><text fill=\"#000000\" font-family=\"sans-serif\" font-size=\"14\" lengthAdjust=\"spacingAndGlyphs\" textLength=\"118\" x=\"6\" y=\"20.7969\">studyAlternatives</text><rect fill=\"#383838\" height=\"12\" style=\"stroke: #F8F8F8; stroke-width: 1.5;\" width=\"12\" x=\"59\" y=\"36.0986\"/><text fill=\"#000000\" font-family=\"sans-serif\" font-size=\"14\" lengthAdjust=\"spacingAndGlyphs\" textLength=\"132\" x=\"298\" y=\"183.0938\">selectedAlternative</text><rect fill=\"#383838\" height=\"12\" style=\"stroke: #F8F8F8; stroke-width: 1.5;\" width=\"12\" x=\"358\" y=\"158.0986\"/><text fill=\"#000000\" font-family=\"sans-serif\" font-size=\"14\" lengthAdjust=\"spacingAndGlyphs\" textLength=\"71\" x=\"198.5\" y=\"60.2969\">alternative</text><rect fill=\"#383838\" height=\"12\" style=\"stroke: #F8F8F8; stroke-width: 1.5;\" width=\"12\" x=\"228\" y=\"75.5986\"/><text fill=\"#000000\" font-family=\"sans-serif\" font-size=\"14\" lengthAdjust=\"spacingAndGlyphs\" textLength=\"39\" x=\"214.5\" y=\"205.4538\">result</text><rect fill=\"#383838\" height=\"12\" style=\"stroke: #F8F8F8; stroke-width: 1.5;\" width=\"12\" x=\"228\" y=\"180.4586\"/><!--MD5=[6a5a89e8a5d8badd55cb550a4d37b1a4]\n",
       "@startuml\r\n",
       "skinparam ranksep 8\r\n",
       "skinparam monochrome true\r\n",
       "skinparam classbackgroundcolor white\r\n",
       "skinparam shadowing false\r\n",
       "skinparam wrapWidth 300\r\n",
       "hide circle\r\n",
       "\r\n",
       "rec usage \"engineTradeStudy\" as E1 << analysis>> [[psysml:a2c4dab4-2ddb-42af-80d6-b11f423fabe1 ]] {\r\n",
       "portin \"studyAlternatives\" as E2  [[psysml:ba51db2a-337d-4796-9152-a1747789732e ]] \r\n",
       "rec usage \"evaluationFunction\" as E3  <<(T,blue) calculation>> [[psysml:e59262b2-24eb-419d-a794-3b71c7229dcc ]] {\r\n",
       "portin \"alternative\" as E4  [[psysml:83f46fb2-5a48-4342-a61e-b1e9a3952716 ]] \r\n",
       "portout \"result\" as E5  [[psysml:9307401e-c2bc-4ae8-a206-942b4cc90813 ]] \r\n",
       "}\r\n",
       "\r\n",
       "portout \"selectedAlternative\" as E6  [[psysml:43a96bb2-d059-439d-9037-f3d1363e69c1 ]] \r\n",
       "}\r\n",
       "\r\n",
       "@enduml\r\n",
       "\n",
       "PlantUML version 1.2020.13(Sat Jun 13 12:26:38 UTC 2020)\n",
       "(EPL source distribution)\n",
       "Java Runtime: OpenJDK Runtime Environment\n",
       "JVM: OpenJDK 64-Bit Server VM\n",
       "Default Encoding: UTF-8\n",
       "Language: en\n",
       "Country: null\n",
       "--></g></svg>"
      ]
     },
     "execution_count": 41,
     "metadata": {},
     "output_type": "execute_result"
    }
   ],
   "source": [
    "%viz --style=\"DEFAULT\" --view=\"Action\" \"TradeStudyTest\""
   ]
  },
  {
   "cell_type": "code",
   "execution_count": 42,
   "id": "532efa20",
   "metadata": {
    "execution": {
     "iopub.execute_input": "2022-08-19T08:21:18.329723Z",
     "iopub.status.busy": "2022-08-19T08:21:18.329263Z",
     "iopub.status.idle": "2022-08-19T08:21:18.336216Z",
     "shell.execute_reply": "2022-08-19T08:21:18.336644Z"
    }
   },
   "outputs": [
    {
     "data": {
      "image/svg+xml": [
       "<?xml version=\"1.0\" encoding=\"UTF-8\" standalone=\"no\"?><svg xmlns=\"http://www.w3.org/2000/svg\" xmlns:xlink=\"http://www.w3.org/1999/xlink\" contentScriptType=\"application/ecmascript\" contentStyleType=\"text/css\" height=\"12px\" preserveAspectRatio=\"none\" style=\"width:12px;height:12px;\" version=\"1.1\" viewBox=\"0 0 12 12\" width=\"12px\" zoomAndPan=\"magnify\"><defs/><g><!--MD5=[0b72472770326784bf6c2b53246e1e64]\n",
       "@startuml\r\n",
       "skinparam roundcorner 20\r\n",
       "skinparam BoxPadding 20\r\n",
       "skinparam SequenceBoxBackgroundColor #white\r\n",
       "skinparam style strictuml\r\n",
       "skinparam maxMessageSize 100\r\n",
       "skinparam monochrome true\r\n",
       "skinparam classbackgroundcolor white\r\n",
       "skinparam shadowing false\r\n",
       "skinparam wrapWidth 300\r\n",
       "hide circle\r\n",
       "\r\n",
       "@enduml\r\n",
       "\n",
       "PlantUML version 1.2020.13(Sat Jun 13 12:26:38 UTC 2020)\n",
       "(EPL source distribution)\n",
       "Java Runtime: OpenJDK Runtime Environment\n",
       "JVM: OpenJDK 64-Bit Server VM\n",
       "Default Encoding: UTF-8\n",
       "Language: en\n",
       "Country: null\n",
       "--></g></svg>"
      ]
     },
     "execution_count": 42,
     "metadata": {},
     "output_type": "execute_result"
    }
   ],
   "source": [
    "%viz --style=\"DEFAULT\" --view=\"Sequence\" \"TradeStudyTest\""
   ]
  },
  {
   "cell_type": "code",
   "execution_count": 43,
   "id": "7e6fdff3",
   "metadata": {
    "execution": {
     "iopub.execute_input": "2022-08-19T08:21:18.386123Z",
     "iopub.status.busy": "2022-08-19T08:21:18.385667Z",
     "iopub.status.idle": "2022-08-19T08:21:18.427761Z",
     "shell.execute_reply": "2022-08-19T08:21:18.427218Z"
    }
   },
   "outputs": [
    {
     "data": {
      "image/svg+xml": [
       "<?xml version=\"1.0\" encoding=\"UTF-8\" standalone=\"no\"?><svg xmlns=\"http://www.w3.org/2000/svg\" xmlns:xlink=\"http://www.w3.org/1999/xlink\" contentScriptType=\"application/ecmascript\" contentStyleType=\"text/css\" height=\"545px\" preserveAspectRatio=\"none\" style=\"width:566px;height:545px;\" version=\"1.1\" viewBox=\"0 0 566 545\" width=\"566px\" zoomAndPan=\"magnify\"><defs/><g><!--MD5=[fbc87193dbaf4d95561dea2c320d4a47]\n",
       "cluster E1--><a href=\"psysml:06d75114-8d09-4304-b9ac-1031eaaad748\" target=\"_top\" title=\"psysml:06d75114-8d09-4304-b9ac-1031eaaad748\" xlink:actuate=\"onRequest\" xlink:href=\"psysml:06d75114-8d09-4304-b9ac-1031eaaad748\" xlink:show=\"new\" xlink:title=\"psysml:06d75114-8d09-4304-b9ac-1031eaaad748\" xlink:type=\"simple\"><polygon fill=\"#FFFFFF\" points=\"16,6,132,6,139,28.2969,544,28.2969,544,533,16,533,16,6\" style=\"stroke: #000000; stroke-width: 1.5;\"/><line style=\"stroke: #000000; stroke-width: 1.5;\" x1=\"16\" x2=\"139\" y1=\"28.2969\" y2=\"28.2969\"/><text fill=\"#000000\" font-family=\"sans-serif\" font-size=\"14\" font-weight=\"bold\" lengthAdjust=\"spacingAndGlyphs\" textLength=\"110\" x=\"20\" y=\"20.9951\">TradeStudyTest</text></a><!--MD5=[de5ec2e2e8f62f467e546659f5068c88]\n",
       "cluster E5--><a href=\"psysml:a2c4dab4-2ddb-42af-80d6-b11f423fabe1\" target=\"_top\" title=\"psysml:a2c4dab4-2ddb-42af-80d6-b11f423fabe1\" xlink:actuate=\"onRequest\" xlink:href=\"psysml:a2c4dab4-2ddb-42af-80d6-b11f423fabe1\" xlink:show=\"new\" xlink:title=\"psysml:a2c4dab4-2ddb-42af-80d6-b11f423fabe1\" xlink:type=\"simple\"><rect fill=\"#FFFFFF\" height=\"129\" id=\"E5\" rx=\"10\" ry=\"10\" style=\"stroke: #383838; stroke-width: 1.5;\" width=\"199\" x=\"238\" y=\"57\"/><rect fill=\"#F8F8F8\" height=\"37.9375\" rx=\"10\" ry=\"10\" style=\"stroke: #F8F8F8; stroke-width: 1.5;\" width=\"199\" x=\"238\" y=\"57\"/><rect fill=\"#F8F8F8\" height=\"10\" style=\"stroke: #F8F8F8; stroke-width: 1.5;\" width=\"199\" x=\"238\" y=\"84.9375\"/><rect fill=\"none\" height=\"129\" id=\"E5\" rx=\"10\" ry=\"10\" style=\"stroke: #383838; stroke-width: 1.5;\" width=\"199\" x=\"238\" y=\"57\"/><text fill=\"#000000\" font-family=\"sans-serif\" font-size=\"12\" font-style=\"italic\" lengthAdjust=\"spacingAndGlyphs\" textLength=\"64\" x=\"305.5\" y=\"73.1387\">«analysis»</text><text fill=\"#000000\" font-family=\"sans-serif\" font-size=\"12\" lengthAdjust=\"spacingAndGlyphs\" textLength=\"114\" x=\"280.5\" y=\"87.1074\">engineTradeStudy</text><line style=\"stroke: #383838; stroke-width: 1.0;\" x1=\"238\" x2=\"437\" y1=\"94.9375\" y2=\"94.9375\"/></a><!--MD5=[b4997ac47864f28c2f74865a473b2911]\n",
       "class E2--><a href=\"psysml:377b66bc-6410-4386-a0f5-58eac70f1599\" target=\"_top\" title=\"psysml:377b66bc-6410-4386-a0f5-58eac70f1599\" xlink:actuate=\"onRequest\" xlink:href=\"psysml:377b66bc-6410-4386-a0f5-58eac70f1599\" xlink:show=\"new\" xlink:title=\"psysml:377b66bc-6410-4386-a0f5-58eac70f1599\" xlink:type=\"simple\"><rect fill=\"#FFFFFF\" height=\"45.9375\" id=\"E2\" style=\"stroke: #383838; stroke-width: 1.5;\" width=\"70\" x=\"292\" y=\"471\"/><text fill=\"#000000\" font-family=\"sans-serif\" font-size=\"12\" font-style=\"italic\" lengthAdjust=\"spacingAndGlyphs\" textLength=\"68\" x=\"293\" y=\"487.1387\">«part  def»</text><text fill=\"#000000\" font-family=\"sans-serif\" font-size=\"12\" lengthAdjust=\"spacingAndGlyphs\" textLength=\"43\" x=\"305.5\" y=\"501.1074\">Engine</text><line style=\"stroke: #383838; stroke-width: 1.5;\" x1=\"293\" x2=\"361\" y1=\"508.9375\" y2=\"508.9375\"/></a><!--MD5=[09b614a08d8cba4a07c9adeb5e0fee81]\n",
       "class E3--><a href=\"psysml:b73c7ebb-9472-45c7-822b-647f60ba4ebd\" target=\"_top\" title=\"psysml:b73c7ebb-9472-45c7-822b-647f60ba4ebd\" xlink:actuate=\"onRequest\" xlink:href=\"psysml:b73c7ebb-9472-45c7-822b-647f60ba4ebd\" xlink:show=\"new\" xlink:title=\"psysml:b73c7ebb-9472-45c7-822b-647f60ba4ebd\" xlink:type=\"simple\"><rect fill=\"#FFFFFF\" height=\"45.9375\" id=\"E3\" rx=\"10\" ry=\"10\" style=\"stroke: #383838; stroke-width: 1.5;\" width=\"112\" x=\"179\" y=\"364\"/><text fill=\"#000000\" font-family=\"sans-serif\" font-size=\"12\" font-style=\"italic\" lengthAdjust=\"spacingAndGlyphs\" textLength=\"40\" x=\"215\" y=\"380.1387\">«part»</text><text fill=\"#000000\" font-family=\"sans-serif\" font-size=\"12\" lengthAdjust=\"spacingAndGlyphs\" textLength=\"102\" x=\"182\" y=\"394.1074\">engine1: Engine</text><line style=\"stroke: #383838; stroke-width: 1.5;\" x1=\"180\" x2=\"290\" y1=\"401.9375\" y2=\"401.9375\"/></a><!--MD5=[ebbe1d658d1005bcc118a6aa81145e00]\n",
       "class E4--><a href=\"psysml:383bc22a-19f8-4697-ba31-98dbfb8a50a3\" target=\"_top\" title=\"psysml:383bc22a-19f8-4697-ba31-98dbfb8a50a3\" xlink:actuate=\"onRequest\" xlink:href=\"psysml:383bc22a-19f8-4697-ba31-98dbfb8a50a3\" xlink:show=\"new\" xlink:title=\"psysml:383bc22a-19f8-4697-ba31-98dbfb8a50a3\" xlink:type=\"simple\"><rect fill=\"#FFFFFF\" height=\"45.9375\" id=\"E4\" rx=\"10\" ry=\"10\" style=\"stroke: #383838; stroke-width: 1.5;\" width=\"112\" x=\"32\" y=\"364\"/><text fill=\"#000000\" font-family=\"sans-serif\" font-size=\"12\" font-style=\"italic\" lengthAdjust=\"spacingAndGlyphs\" textLength=\"40\" x=\"68\" y=\"380.1387\">«part»</text><text fill=\"#000000\" font-family=\"sans-serif\" font-size=\"12\" lengthAdjust=\"spacingAndGlyphs\" textLength=\"102\" x=\"35\" y=\"394.1074\">engine2: Engine</text><line style=\"stroke: #383838; stroke-width: 1.5;\" x1=\"33\" x2=\"143\" y1=\"401.9375\" y2=\"401.9375\"/></a><!--MD5=[2156ba9850f5573cc1fc38a6a4b2f02b]\n",
       "class E7--><a href=\"psysml:e59262b2-24eb-419d-a794-3b71c7229dcc\" target=\"_top\" title=\"psysml:e59262b2-24eb-419d-a794-3b71c7229dcc\" xlink:actuate=\"onRequest\" xlink:href=\"psysml:e59262b2-24eb-419d-a794-3b71c7229dcc\" xlink:show=\"new\" xlink:title=\"psysml:e59262b2-24eb-419d-a794-3b71c7229dcc\" xlink:type=\"simple\"><rect fill=\"#FFFFFF\" height=\"45.9375\" id=\"E7\" rx=\"10\" ry=\"10\" style=\"stroke: #383838; stroke-width: 1.5;\" width=\"129\" x=\"181.5\" y=\"241\"/><text fill=\"#000000\" font-family=\"sans-serif\" font-size=\"12\" font-style=\"italic\" lengthAdjust=\"spacingAndGlyphs\" textLength=\"82\" x=\"205\" y=\"257.1387\">«calculation»</text><text fill=\"#000000\" font-family=\"sans-serif\" font-size=\"12\" lengthAdjust=\"spacingAndGlyphs\" textLength=\"119\" x=\"184.5\" y=\"271.1074\">evaluationFunction</text><line style=\"stroke: #383838; stroke-width: 1.5;\" x1=\"182.5\" x2=\"309.5\" y1=\"278.9375\" y2=\"278.9375\"/></a><!--MD5=[b9389687b975829384b498ac4b7476b2]\n",
       "class E8--><a href=\"psysml:83f46fb2-5a48-4342-a61e-b1e9a3952716\" target=\"_top\" title=\"psysml:83f46fb2-5a48-4342-a61e-b1e9a3952716\" xlink:actuate=\"onRequest\" xlink:href=\"psysml:83f46fb2-5a48-4342-a61e-b1e9a3952716\" xlink:show=\"new\" xlink:title=\"psysml:83f46fb2-5a48-4342-a61e-b1e9a3952716\" xlink:type=\"simple\"><rect fill=\"#FFFFFF\" height=\"45.9375\" id=\"E8\" rx=\"10\" ry=\"10\" style=\"stroke: #383838; stroke-width: 1.5;\" width=\"128\" x=\"363\" y=\"364\"/><text fill=\"#000000\" font-family=\"sans-serif\" font-size=\"12\" font-style=\"italic\" lengthAdjust=\"spacingAndGlyphs\" textLength=\"40\" x=\"407\" y=\"380.1387\">«part»</text><text fill=\"#000000\" font-family=\"sans-serif\" font-size=\"12\" lengthAdjust=\"spacingAndGlyphs\" textLength=\"118\" x=\"366\" y=\"394.1074\">alternative: Engine</text><line style=\"stroke: #383838; stroke-width: 1.5;\" x1=\"364\" x2=\"490\" y1=\"401.9375\" y2=\"401.9375\"/></a><!--MD5=[fd4143e9d270a159db93a4ea2a975926]\n",
       "class E9--><a href=\"psysml:43a96bb2-d059-439d-9037-f3d1363e69c1\" target=\"_top\" title=\"psysml:43a96bb2-d059-439d-9037-f3d1363e69c1\" xlink:actuate=\"onRequest\" xlink:href=\"psysml:43a96bb2-d059-439d-9037-f3d1363e69c1\" xlink:show=\"new\" xlink:title=\"psysml:43a96bb2-d059-439d-9037-f3d1363e69c1\" xlink:type=\"simple\"><rect fill=\"#FFFFFF\" height=\"45.9375\" id=\"E9\" rx=\"10\" ry=\"10\" style=\"stroke: #383838; stroke-width: 1.5;\" width=\"182\" x=\"346\" y=\"241\"/><text fill=\"#000000\" font-family=\"sans-serif\" font-size=\"12\" font-style=\"italic\" lengthAdjust=\"spacingAndGlyphs\" textLength=\"40\" x=\"417\" y=\"257.1387\">«part»</text><text fill=\"#000000\" font-family=\"sans-serif\" font-size=\"12\" lengthAdjust=\"spacingAndGlyphs\" textLength=\"172\" x=\"349\" y=\"271.1074\">selectedAlternative: Engine</text><line style=\"stroke: #383838; stroke-width: 1.5;\" x1=\"347\" x2=\"527\" y1=\"278.9375\" y2=\"278.9375\"/></a><!--MD5=[60a26617385b1d2d0262a64233df1f8d]\n",
       "class E6--><a href=\"psysml:6f716227-75fa-479d-851c-c6728be0ecaf\" target=\"_top\" title=\"psysml:6f716227-75fa-479d-851c-c6728be0ecaf\" xlink:actuate=\"onRequest\" xlink:href=\"psysml:6f716227-75fa-479d-851c-c6728be0ecaf\" xlink:show=\"new\" xlink:title=\"psysml:6f716227-75fa-479d-851c-c6728be0ecaf\" xlink:type=\"simple\"><rect fill=\"#FFFFFF\" height=\"45.9375\" id=\"E6\" rx=\"10\" ry=\"10\" style=\"stroke: #383838; stroke-width: 1.5;\" width=\"132\" x=\"281\" y=\"116\"/><text fill=\"#000000\" font-family=\"sans-serif\" font-size=\"12\" font-style=\"italic\" lengthAdjust=\"spacingAndGlyphs\" textLength=\"70\" x=\"312\" y=\"132.1387\">«objective»</text><text fill=\"#000000\" font-family=\"sans-serif\" font-size=\"12\" lengthAdjust=\"spacingAndGlyphs\" textLength=\"126\" x=\"284\" y=\"146.1074\">tradeStudyObjective</text><line style=\"stroke: #383838; stroke-width: 1.5;\" x1=\"282\" x2=\"412\" y1=\"153.9375\" y2=\"153.9375\"/></a><!--MD5=[05d275557350bfb9b23a4ef7222b4c39]\n",
       "link E3 to E2--><a href=\"psysml:a3c7b902-deb2-42e0-bb2d-9591134be70d\" target=\"_top\" title=\"psysml:a3c7b902-deb2-42e0-bb2d-9591134be70d\" xlink:actuate=\"onRequest\" xlink:href=\"psysml:a3c7b902-deb2-42e0-bb2d-9591134be70d\" xlink:show=\"new\" xlink:title=\"psysml:a3c7b902-deb2-42e0-bb2d-9591134be70d\" xlink:type=\"simple\"><path d=\"M254.29,410.01 C265.74,423.08 280.57,440.01 293.86,455.17 \" fill=\"none\" id=\"E3-&gt;E2\" style=\"stroke: #383838; stroke-width: 1.0;\"/><polygon fill=\"#FFFFFF\" points=\"307.42,470.66,289.6319,460.9861,300.1599,451.7578,307.42,470.66\" style=\"stroke: #383838; stroke-width: 1.0;\"/><ellipse cx=\"287.3787\" cy=\"455.3814\" fill=\"#383838\" rx=\"2\" ry=\"2\" style=\"stroke: #383838; stroke-width: 1.0;\"/><ellipse cx=\"294.8987\" cy=\"448.7898\" fill=\"#383838\" rx=\"2\" ry=\"2\" style=\"stroke: #383838; stroke-width: 1.0;\"/></a><!--MD5=[185131fc0dcab0a4505a2ebe144e961b]\n",
       "link E4 to E2--><a href=\"psysml:ad9261f0-dda0-42b5-9d6e-43ebe8822407\" target=\"_top\" title=\"psysml:ad9261f0-dda0-42b5-9d6e-43ebe8822407\" xlink:actuate=\"onRequest\" xlink:href=\"psysml:ad9261f0-dda0-42b5-9d6e-43ebe8822407\" xlink:show=\"new\" xlink:title=\"psysml:ad9261f0-dda0-42b5-9d6e-43ebe8822407\" xlink:type=\"simple\"><path d=\"M138.1,410.01 C177.63,427.38 232.65,451.55 273.12,469.33 \" fill=\"none\" id=\"E4-&gt;E2\" style=\"stroke: #383838; stroke-width: 1.0;\"/><polygon fill=\"#FFFFFF\" points=\"291.69,477.49,271.479,476.2594,277.1083,463.4411,291.69,477.49\" style=\"stroke: #383838; stroke-width: 1.0;\"/><ellipse cx=\"267.0642\" cy=\"472.1363\" fill=\"#383838\" rx=\"2\" ry=\"2\" style=\"stroke: #383838; stroke-width: 1.0;\"/><ellipse cx=\"271.0852\" cy=\"462.9803\" fill=\"#383838\" rx=\"2\" ry=\"2\" style=\"stroke: #383838; stroke-width: 1.0;\"/></a><!--MD5=[15ebcb19ae302d9b601edb458606d402]\n",
       "link E5 to E2--><a href=\"psysml:b52cccfc-b130-477f-adae-4c6f859e452b\" target=\"_top\" title=\"psysml:b52cccfc-b130-477f-adae-4c6f859e452b\" xlink:actuate=\"onRequest\" xlink:href=\"psysml:b52cccfc-b130-477f-adae-4c6f859e452b\" xlink:show=\"new\" xlink:title=\"psysml:b52cccfc-b130-477f-adae-4c6f859e452b\" xlink:type=\"simple\"><path d=\"M237.7204,146.0763 C237.4768,146.2621 237.2287,146.4518 236.9763,146.6454 C235.9668,147.4197 234.8879,148.2561 233.748,149.1518 C231.4682,150.943 228.9441,152.9709 226.2406,155.2119 C215.4269,164.1756 201.745,176.5475 189.3625,190.8125 C164.5975,219.3425 145.03,255.445 164,287 C166.35,290.91 306.39,360.26 309,364 C329.99,394 331.63,437.66 330,465.69 \" fill=\"none\" id=\"E5-&gt;E2\" style=\"stroke: #383838; stroke-width: 1.0; stroke-dasharray: 7.0,7.0;\"/><polygon fill=\"#383838\" points=\"329.66,470.74,334.268,462.0356,330.003,465.7518,326.2869,461.4868,329.66,470.74\" style=\"stroke: #383838; stroke-width: 1.0;\"/><text fill=\"#000000\" font-family=\"sans-serif\" font-size=\"13\" lengthAdjust=\"spacingAndGlyphs\" textLength=\"62\" x=\"253\" y=\"330.0669\">«subject»</text></a><!--MD5=[452b418e7f8a40397a49b8c0a78acc5b]\n",
       "reverse link E5 to E7--><a href=\"psysml:226717b4-0db0-47e0-9eef-bae3c4ff0509\" target=\"_top\" title=\"psysml:226717b4-0db0-47e0-9eef-bae3c4ff0509\" xlink:actuate=\"onRequest\" xlink:href=\"psysml:226717b4-0db0-47e0-9eef-bae3c4ff0509\" xlink:show=\"new\" xlink:title=\"psysml:226717b4-0db0-47e0-9eef-bae3c4ff0509\" xlink:type=\"simple\"><path d=\"M246,186.2997 C246,188.9655 246,191.6719 246,194.3971 C246,199.8476 246,205.3735 246,210.8005 C246,221.6544 246,232.1125 246,240.78 \" fill=\"none\" id=\"E5&lt;-E7\" style=\"stroke: #383838; stroke-width: 1.0;\"/><polygon fill=\"#FFFFFF\" points=\"246,186.2997,242,192.2997,246,198.2997,250,192.2997,246,186.2997\" style=\"stroke: #383838; stroke-width: 1.0;\"/></a><!--MD5=[dc164f5e8a733ab456ef1add180e9e34]\n",
       "reverse link E7 to E8--><a href=\"psysml:6f1f84a3-2ac1-458a-baf6-caa888cc195f\" target=\"_top\" title=\"psysml:6f1f84a3-2ac1-458a-baf6-caa888cc195f\" xlink:actuate=\"onRequest\" xlink:href=\"psysml:6f1f84a3-2ac1-458a-baf6-caa888cc195f\" xlink:show=\"new\" xlink:title=\"psysml:6f1f84a3-2ac1-458a-baf6-caa888cc195f\" xlink:type=\"simple\"><path d=\"M290.06,294.45 C322.12,315.89 364.86,344.46 394.01,363.95 \" fill=\"none\" id=\"E7&lt;-E8\" style=\"stroke: #383838; stroke-width: 1.0;\"/><polygon fill=\"#FFFFFF\" points=\"279.2,287.19,281.9674,293.8489,289.1785,293.8555,286.4111,287.1966,279.2,287.19\" style=\"stroke: #383838; stroke-width: 1.0;\"/><text fill=\"#000000\" font-family=\"sans-serif\" font-size=\"13\" lengthAdjust=\"spacingAndGlyphs\" textLength=\"8\" x=\"376.0689\" y=\"352.8328\">1</text></a><!--MD5=[f1f3f9f2fc535e6147756cb86a7f2e32]\n",
       "link E8 to E2--><a href=\"psysml:2bf4d1c6-7bac-40b1-aaaa-83952da67c38\" target=\"_top\" title=\"psysml:2bf4d1c6-7bac-40b1-aaaa-83952da67c38\" xlink:actuate=\"onRequest\" xlink:href=\"psysml:2bf4d1c6-7bac-40b1-aaaa-83952da67c38\" xlink:show=\"new\" xlink:title=\"psysml:2bf4d1c6-7bac-40b1-aaaa-83952da67c38\" xlink:type=\"simple\"><path d=\"M406.04,410.01 C393.32,423.36 376.77,440.74 362.11,456.14 \" fill=\"none\" id=\"E8-&gt;E2\" style=\"stroke: #383838; stroke-width: 1.0;\"/><polygon fill=\"#FFFFFF\" points=\"348.28,470.66,356.3076,452.0708,366.4491,461.7223,348.28,470.66\" style=\"stroke: #383838; stroke-width: 1.0;\"/><ellipse cx=\"361.6859\" cy=\"449.3206\" fill=\"#383838\" rx=\"2\" ry=\"2\" style=\"stroke: #383838; stroke-width: 1.0;\"/><ellipse cx=\"368.9298\" cy=\"456.2144\" fill=\"#383838\" rx=\"2\" ry=\"2\" style=\"stroke: #383838; stroke-width: 1.0;\"/></a><!--MD5=[9ae28de373ca99bb8a1b38d63370ca7e]\n",
       "reverse link E5 to E9--><a href=\"psysml:eedf805a-a406-401d-b38e-104ba6f0fce6\" target=\"_top\" title=\"psysml:eedf805a-a406-401d-b38e-104ba6f0fce6\" xlink:actuate=\"onRequest\" xlink:href=\"psysml:eedf805a-a406-401d-b38e-104ba6f0fce6\" xlink:show=\"new\" xlink:title=\"psysml:eedf805a-a406-401d-b38e-104ba6f0fce6\" xlink:type=\"simple\"><path d=\"M254.7949,186.3026 C254.8401,186.4038 254.8856,186.5049 254.9313,186.6059 C255.2966,187.4138 255.6769,188.215 256.0726,189.0077 C256.8641,190.5933 257.7176,192.1452 258.6379,193.6498 C260.4784,196.6589 262.5863,199.4788 265,202 C278.04,215.62 316.12,229.75 353.15,240.99 \" fill=\"none\" id=\"E5&lt;-E9\" style=\"stroke: #383838; stroke-width: 1.0;\"/><polygon fill=\"#FFFFFF\" points=\"254.7949,186.3026,253.5901,193.4123,259.6895,197.259,260.8944,190.1493,254.7949,186.3026\" style=\"stroke: #383838; stroke-width: 1.0;\"/><text fill=\"#000000\" font-family=\"sans-serif\" font-size=\"13\" lengthAdjust=\"spacingAndGlyphs\" textLength=\"8\" x=\"330.0508\" y=\"232.8298\">1</text></a><!--MD5=[5c3bb36fe832a92c7f0e1807dd65209d]\n",
       "link E9 to E2--><a href=\"psysml:3213573e-39ef-4dfb-813d-bdfb08b6e367\" target=\"_top\" title=\"psysml:3213573e-39ef-4dfb-813d-bdfb08b6e367\" xlink:actuate=\"onRequest\" xlink:href=\"psysml:3213573e-39ef-4dfb-813d-bdfb08b6e367\" xlink:show=\"new\" xlink:title=\"psysml:3213573e-39ef-4dfb-813d-bdfb08b6e367\" xlink:type=\"simple\"><path d=\"M462.31,287.19 C492.44,316.36 535.53,368.75 509,410 C481.16,453.3 424.53,474.29 381.79,484.28 \" fill=\"none\" id=\"E9-&gt;E2\" style=\"stroke: #383838; stroke-width: 1.0;\"/><polygon fill=\"#FFFFFF\" points=\"362.12,488.35,379.3051,477.6415,382.1449,491.3505,362.12,488.35\" style=\"stroke: #383838; stroke-width: 1.0;\"/><ellipse cx=\"385.2923\" cy=\"478.4438\" fill=\"#383838\" rx=\"2\" ry=\"2\" style=\"stroke: #383838; stroke-width: 1.0;\"/><ellipse cx=\"387.3207\" cy=\"488.2359\" fill=\"#383838\" rx=\"2\" ry=\"2\" style=\"stroke: #383838; stroke-width: 1.0;\"/></a><!--MD5=[6195adac1503e64081c07174be598708]\n",
       "@startuml\r\n",
       "skinparam monochrome true\r\n",
       "skinparam classbackgroundcolor white\r\n",
       "skinparam shadowing false\r\n",
       "skinparam wrapWidth 300\r\n",
       "hide circle\r\n",
       "\r\n",
       "package \"TradeStudyTest\" as E1  [[psysml:06d75114-8d09-4304-b9ac-1031eaaad748 ]]  {\r\n",
       "comp def \"Engine\" as E2  <<(T,blue) part  def>> [[psysml:377b66bc-6410-4386-a0f5-58eac70f1599 ]] {\r\n",
       "}\r\n",
       "comp usage \"engine1: Engine \" as E3  <<(T,blue) part>> [[psysml:b73c7ebb-9472-45c7-822b-647f60ba4ebd ]] {\r\n",
       "}\r\n",
       "comp usage \"engine2: Engine \" as E4  <<(T,blue) part>> [[psysml:383bc22a-19f8-4697-ba31-98dbfb8a50a3 ]] {\r\n",
       "}\r\n",
       "rec usage \"engineTradeStudy\" as E5 << analysis>> [[psysml:a2c4dab4-2ddb-42af-80d6-b11f423fabe1 ]] {\r\n",
       "comp usage \"tradeStudyObjective\" as E6  <<objective>> [[psysml:6f716227-75fa-479d-851c-c6728be0ecaf ]] {\r\n",
       "}\r\n",
       "}\r\n",
       "comp usage \"evaluationFunction \" as E7  <<(T,blue) calculation>> [[psysml:e59262b2-24eb-419d-a794-3b71c7229dcc ]] {\r\n",
       "}\r\n",
       "comp usage \"alternative: Engine \" as E8  <<(T,blue) part>> [[psysml:83f46fb2-5a48-4342-a61e-b1e9a3952716 ]] {\r\n",
       "}\r\n",
       "comp usage \"selectedAlternative: Engine \" as E9  <<(T,blue) part>> [[psysml:43a96bb2-d059-439d-9037-f3d1363e69c1 ]] {\r\n",
       "}\r\n",
       "}\r\n",
       "E3 - -:|> E2 [[psysml:a3c7b902-deb2-42e0-bb2d-9591134be70d ]] \r\n",
       "E4 - -:|> E2 [[psysml:ad9261f0-dda0-42b5-9d6e-43ebe8822407 ]] \r\n",
       "E5 ..> E2 [[psysml:b52cccfc-b130-477f-adae-4c6f859e452b ]] : <<subject>>\r\n",
       "E5 o- - E7 [[psysml:226717b4-0db0-47e0-9eef-bae3c4ff0509 ]] \r\n",
       "E7 o- - \"1\"E8 [[psysml:6f1f84a3-2ac1-458a-baf6-caa888cc195f ]] \r\n",
       "E8 - -:|> E2 [[psysml:2bf4d1c6-7bac-40b1-aaaa-83952da67c38 ]] \r\n",
       "E5 o- - \"1\"E9 [[psysml:eedf805a-a406-401d-b38e-104ba6f0fce6 ]] \r\n",
       "E9 - -:|> E2 [[psysml:3213573e-39ef-4dfb-813d-bdfb08b6e367 ]] \r\n",
       "@enduml\r\n",
       "\n",
       "PlantUML version 1.2020.13(Sat Jun 13 12:26:38 UTC 2020)\n",
       "(EPL source distribution)\n",
       "Java Runtime: OpenJDK Runtime Environment\n",
       "JVM: OpenJDK 64-Bit Server VM\n",
       "Default Encoding: UTF-8\n",
       "Language: en\n",
       "Country: null\n",
       "--></g></svg>"
      ]
     },
     "execution_count": 43,
     "metadata": {},
     "output_type": "execute_result"
    }
   ],
   "source": [
    "%viz --style=\"DEFAULT\" --view=\"MIXED\" \"TradeStudyTest\""
   ]
  },
  {
   "cell_type": "code",
   "execution_count": 44,
   "id": "4bc26a62",
   "metadata": {
    "execution": {
     "iopub.execute_input": "2022-08-19T08:21:18.476774Z",
     "iopub.status.busy": "2022-08-19T08:21:18.476311Z",
     "iopub.status.idle": "2022-08-19T08:21:18.519367Z",
     "shell.execute_reply": "2022-08-19T08:21:18.518779Z"
    }
   },
   "outputs": [
    {
     "data": {
      "image/svg+xml": [
       "<?xml version=\"1.0\" encoding=\"UTF-8\" standalone=\"no\"?><svg xmlns=\"http://www.w3.org/2000/svg\" xmlns:xlink=\"http://www.w3.org/1999/xlink\" contentScriptType=\"application/ecmascript\" contentStyleType=\"text/css\" height=\"545px\" preserveAspectRatio=\"none\" style=\"width:566px;height:545px;\" version=\"1.1\" viewBox=\"0 0 566 545\" width=\"566px\" zoomAndPan=\"magnify\"><defs/><g><!--MD5=[fbc87193dbaf4d95561dea2c320d4a47]\n",
       "cluster E1--><a href=\"psysml:06d75114-8d09-4304-b9ac-1031eaaad748\" target=\"_top\" title=\"psysml:06d75114-8d09-4304-b9ac-1031eaaad748\" xlink:actuate=\"onRequest\" xlink:href=\"psysml:06d75114-8d09-4304-b9ac-1031eaaad748\" xlink:show=\"new\" xlink:title=\"psysml:06d75114-8d09-4304-b9ac-1031eaaad748\" xlink:type=\"simple\"><polygon fill=\"#FFFFFF\" points=\"16,6,132,6,139,28.2969,544,28.2969,544,533,16,533,16,6\" style=\"stroke: #000000; stroke-width: 1.5;\"/><line style=\"stroke: #000000; stroke-width: 1.5;\" x1=\"16\" x2=\"139\" y1=\"28.2969\" y2=\"28.2969\"/><text fill=\"#000000\" font-family=\"sans-serif\" font-size=\"14\" font-weight=\"bold\" lengthAdjust=\"spacingAndGlyphs\" textLength=\"110\" x=\"20\" y=\"20.9951\">TradeStudyTest</text></a><!--MD5=[de5ec2e2e8f62f467e546659f5068c88]\n",
       "cluster E5--><a href=\"psysml:a2c4dab4-2ddb-42af-80d6-b11f423fabe1\" target=\"_top\" title=\"psysml:a2c4dab4-2ddb-42af-80d6-b11f423fabe1\" xlink:actuate=\"onRequest\" xlink:href=\"psysml:a2c4dab4-2ddb-42af-80d6-b11f423fabe1\" xlink:show=\"new\" xlink:title=\"psysml:a2c4dab4-2ddb-42af-80d6-b11f423fabe1\" xlink:type=\"simple\"><rect fill=\"#FFFFFF\" height=\"129\" id=\"E5\" rx=\"10\" ry=\"10\" style=\"stroke: #383838; stroke-width: 1.5;\" width=\"199\" x=\"238\" y=\"57\"/><rect fill=\"#F8F8F8\" height=\"37.9375\" rx=\"10\" ry=\"10\" style=\"stroke: #F8F8F8; stroke-width: 1.5;\" width=\"199\" x=\"238\" y=\"57\"/><rect fill=\"#F8F8F8\" height=\"10\" style=\"stroke: #F8F8F8; stroke-width: 1.5;\" width=\"199\" x=\"238\" y=\"84.9375\"/><rect fill=\"none\" height=\"129\" id=\"E5\" rx=\"10\" ry=\"10\" style=\"stroke: #383838; stroke-width: 1.5;\" width=\"199\" x=\"238\" y=\"57\"/><text fill=\"#000000\" font-family=\"sans-serif\" font-size=\"12\" font-style=\"italic\" lengthAdjust=\"spacingAndGlyphs\" textLength=\"64\" x=\"305.5\" y=\"73.1387\">«analysis»</text><text fill=\"#000000\" font-family=\"sans-serif\" font-size=\"12\" lengthAdjust=\"spacingAndGlyphs\" textLength=\"114\" x=\"280.5\" y=\"87.1074\">engineTradeStudy</text><line style=\"stroke: #383838; stroke-width: 1.0;\" x1=\"238\" x2=\"437\" y1=\"94.9375\" y2=\"94.9375\"/></a><!--MD5=[b4997ac47864f28c2f74865a473b2911]\n",
       "class E2--><a href=\"psysml:377b66bc-6410-4386-a0f5-58eac70f1599\" target=\"_top\" title=\"psysml:377b66bc-6410-4386-a0f5-58eac70f1599\" xlink:actuate=\"onRequest\" xlink:href=\"psysml:377b66bc-6410-4386-a0f5-58eac70f1599\" xlink:show=\"new\" xlink:title=\"psysml:377b66bc-6410-4386-a0f5-58eac70f1599\" xlink:type=\"simple\"><rect fill=\"#FFFFFF\" height=\"45.9375\" id=\"E2\" style=\"stroke: #383838; stroke-width: 1.5;\" width=\"70\" x=\"292\" y=\"471\"/><text fill=\"#000000\" font-family=\"sans-serif\" font-size=\"12\" font-style=\"italic\" lengthAdjust=\"spacingAndGlyphs\" textLength=\"68\" x=\"293\" y=\"487.1387\">«part  def»</text><text fill=\"#000000\" font-family=\"sans-serif\" font-size=\"12\" lengthAdjust=\"spacingAndGlyphs\" textLength=\"43\" x=\"305.5\" y=\"501.1074\">Engine</text><line style=\"stroke: #383838; stroke-width: 1.5;\" x1=\"293\" x2=\"361\" y1=\"508.9375\" y2=\"508.9375\"/></a><!--MD5=[09b614a08d8cba4a07c9adeb5e0fee81]\n",
       "class E3--><a href=\"psysml:b73c7ebb-9472-45c7-822b-647f60ba4ebd\" target=\"_top\" title=\"psysml:b73c7ebb-9472-45c7-822b-647f60ba4ebd\" xlink:actuate=\"onRequest\" xlink:href=\"psysml:b73c7ebb-9472-45c7-822b-647f60ba4ebd\" xlink:show=\"new\" xlink:title=\"psysml:b73c7ebb-9472-45c7-822b-647f60ba4ebd\" xlink:type=\"simple\"><rect fill=\"#FFFFFF\" height=\"45.9375\" id=\"E3\" rx=\"10\" ry=\"10\" style=\"stroke: #383838; stroke-width: 1.5;\" width=\"112\" x=\"179\" y=\"364\"/><text fill=\"#000000\" font-family=\"sans-serif\" font-size=\"12\" font-style=\"italic\" lengthAdjust=\"spacingAndGlyphs\" textLength=\"40\" x=\"215\" y=\"380.1387\">«part»</text><text fill=\"#000000\" font-family=\"sans-serif\" font-size=\"12\" lengthAdjust=\"spacingAndGlyphs\" textLength=\"102\" x=\"182\" y=\"394.1074\">engine1: Engine</text><line style=\"stroke: #383838; stroke-width: 1.5;\" x1=\"180\" x2=\"290\" y1=\"401.9375\" y2=\"401.9375\"/></a><!--MD5=[ebbe1d658d1005bcc118a6aa81145e00]\n",
       "class E4--><a href=\"psysml:383bc22a-19f8-4697-ba31-98dbfb8a50a3\" target=\"_top\" title=\"psysml:383bc22a-19f8-4697-ba31-98dbfb8a50a3\" xlink:actuate=\"onRequest\" xlink:href=\"psysml:383bc22a-19f8-4697-ba31-98dbfb8a50a3\" xlink:show=\"new\" xlink:title=\"psysml:383bc22a-19f8-4697-ba31-98dbfb8a50a3\" xlink:type=\"simple\"><rect fill=\"#FFFFFF\" height=\"45.9375\" id=\"E4\" rx=\"10\" ry=\"10\" style=\"stroke: #383838; stroke-width: 1.5;\" width=\"112\" x=\"32\" y=\"364\"/><text fill=\"#000000\" font-family=\"sans-serif\" font-size=\"12\" font-style=\"italic\" lengthAdjust=\"spacingAndGlyphs\" textLength=\"40\" x=\"68\" y=\"380.1387\">«part»</text><text fill=\"#000000\" font-family=\"sans-serif\" font-size=\"12\" lengthAdjust=\"spacingAndGlyphs\" textLength=\"102\" x=\"35\" y=\"394.1074\">engine2: Engine</text><line style=\"stroke: #383838; stroke-width: 1.5;\" x1=\"33\" x2=\"143\" y1=\"401.9375\" y2=\"401.9375\"/></a><!--MD5=[2156ba9850f5573cc1fc38a6a4b2f02b]\n",
       "class E7--><a href=\"psysml:e59262b2-24eb-419d-a794-3b71c7229dcc\" target=\"_top\" title=\"psysml:e59262b2-24eb-419d-a794-3b71c7229dcc\" xlink:actuate=\"onRequest\" xlink:href=\"psysml:e59262b2-24eb-419d-a794-3b71c7229dcc\" xlink:show=\"new\" xlink:title=\"psysml:e59262b2-24eb-419d-a794-3b71c7229dcc\" xlink:type=\"simple\"><rect fill=\"#FFFFFF\" height=\"45.9375\" id=\"E7\" rx=\"10\" ry=\"10\" style=\"stroke: #383838; stroke-width: 1.5;\" width=\"129\" x=\"181.5\" y=\"241\"/><text fill=\"#000000\" font-family=\"sans-serif\" font-size=\"12\" font-style=\"italic\" lengthAdjust=\"spacingAndGlyphs\" textLength=\"82\" x=\"205\" y=\"257.1387\">«calculation»</text><text fill=\"#000000\" font-family=\"sans-serif\" font-size=\"12\" lengthAdjust=\"spacingAndGlyphs\" textLength=\"119\" x=\"184.5\" y=\"271.1074\">evaluationFunction</text><line style=\"stroke: #383838; stroke-width: 1.5;\" x1=\"182.5\" x2=\"309.5\" y1=\"278.9375\" y2=\"278.9375\"/></a><!--MD5=[b9389687b975829384b498ac4b7476b2]\n",
       "class E8--><a href=\"psysml:83f46fb2-5a48-4342-a61e-b1e9a3952716\" target=\"_top\" title=\"psysml:83f46fb2-5a48-4342-a61e-b1e9a3952716\" xlink:actuate=\"onRequest\" xlink:href=\"psysml:83f46fb2-5a48-4342-a61e-b1e9a3952716\" xlink:show=\"new\" xlink:title=\"psysml:83f46fb2-5a48-4342-a61e-b1e9a3952716\" xlink:type=\"simple\"><rect fill=\"#FFFFFF\" height=\"45.9375\" id=\"E8\" rx=\"10\" ry=\"10\" style=\"stroke: #383838; stroke-width: 1.5;\" width=\"128\" x=\"363\" y=\"364\"/><text fill=\"#000000\" font-family=\"sans-serif\" font-size=\"12\" font-style=\"italic\" lengthAdjust=\"spacingAndGlyphs\" textLength=\"40\" x=\"407\" y=\"380.1387\">«part»</text><text fill=\"#000000\" font-family=\"sans-serif\" font-size=\"12\" lengthAdjust=\"spacingAndGlyphs\" textLength=\"118\" x=\"366\" y=\"394.1074\">alternative: Engine</text><line style=\"stroke: #383838; stroke-width: 1.5;\" x1=\"364\" x2=\"490\" y1=\"401.9375\" y2=\"401.9375\"/></a><!--MD5=[fd4143e9d270a159db93a4ea2a975926]\n",
       "class E9--><a href=\"psysml:43a96bb2-d059-439d-9037-f3d1363e69c1\" target=\"_top\" title=\"psysml:43a96bb2-d059-439d-9037-f3d1363e69c1\" xlink:actuate=\"onRequest\" xlink:href=\"psysml:43a96bb2-d059-439d-9037-f3d1363e69c1\" xlink:show=\"new\" xlink:title=\"psysml:43a96bb2-d059-439d-9037-f3d1363e69c1\" xlink:type=\"simple\"><rect fill=\"#FFFFFF\" height=\"45.9375\" id=\"E9\" rx=\"10\" ry=\"10\" style=\"stroke: #383838; stroke-width: 1.5;\" width=\"182\" x=\"346\" y=\"241\"/><text fill=\"#000000\" font-family=\"sans-serif\" font-size=\"12\" font-style=\"italic\" lengthAdjust=\"spacingAndGlyphs\" textLength=\"40\" x=\"417\" y=\"257.1387\">«part»</text><text fill=\"#000000\" font-family=\"sans-serif\" font-size=\"12\" lengthAdjust=\"spacingAndGlyphs\" textLength=\"172\" x=\"349\" y=\"271.1074\">selectedAlternative: Engine</text><line style=\"stroke: #383838; stroke-width: 1.5;\" x1=\"347\" x2=\"527\" y1=\"278.9375\" y2=\"278.9375\"/></a><!--MD5=[60a26617385b1d2d0262a64233df1f8d]\n",
       "class E6--><a href=\"psysml:6f716227-75fa-479d-851c-c6728be0ecaf\" target=\"_top\" title=\"psysml:6f716227-75fa-479d-851c-c6728be0ecaf\" xlink:actuate=\"onRequest\" xlink:href=\"psysml:6f716227-75fa-479d-851c-c6728be0ecaf\" xlink:show=\"new\" xlink:title=\"psysml:6f716227-75fa-479d-851c-c6728be0ecaf\" xlink:type=\"simple\"><rect fill=\"#FFFFFF\" height=\"45.9375\" id=\"E6\" rx=\"10\" ry=\"10\" style=\"stroke: #383838; stroke-width: 1.5;\" width=\"132\" x=\"281\" y=\"116\"/><text fill=\"#000000\" font-family=\"sans-serif\" font-size=\"12\" font-style=\"italic\" lengthAdjust=\"spacingAndGlyphs\" textLength=\"70\" x=\"312\" y=\"132.1387\">«objective»</text><text fill=\"#000000\" font-family=\"sans-serif\" font-size=\"12\" lengthAdjust=\"spacingAndGlyphs\" textLength=\"126\" x=\"284\" y=\"146.1074\">tradeStudyObjective</text><line style=\"stroke: #383838; stroke-width: 1.5;\" x1=\"282\" x2=\"412\" y1=\"153.9375\" y2=\"153.9375\"/></a><!--MD5=[05d275557350bfb9b23a4ef7222b4c39]\n",
       "link E3 to E2--><a href=\"psysml:a3c7b902-deb2-42e0-bb2d-9591134be70d\" target=\"_top\" title=\"psysml:a3c7b902-deb2-42e0-bb2d-9591134be70d\" xlink:actuate=\"onRequest\" xlink:href=\"psysml:a3c7b902-deb2-42e0-bb2d-9591134be70d\" xlink:show=\"new\" xlink:title=\"psysml:a3c7b902-deb2-42e0-bb2d-9591134be70d\" xlink:type=\"simple\"><path d=\"M254.29,410.01 C265.74,423.08 280.57,440.01 293.86,455.17 \" fill=\"none\" id=\"E3-&gt;E2\" style=\"stroke: #383838; stroke-width: 1.0;\"/><polygon fill=\"#FFFFFF\" points=\"307.42,470.66,289.6319,460.9861,300.1599,451.7578,307.42,470.66\" style=\"stroke: #383838; stroke-width: 1.0;\"/><ellipse cx=\"287.3787\" cy=\"455.3814\" fill=\"#383838\" rx=\"2\" ry=\"2\" style=\"stroke: #383838; stroke-width: 1.0;\"/><ellipse cx=\"294.8987\" cy=\"448.7898\" fill=\"#383838\" rx=\"2\" ry=\"2\" style=\"stroke: #383838; stroke-width: 1.0;\"/></a><!--MD5=[185131fc0dcab0a4505a2ebe144e961b]\n",
       "link E4 to E2--><a href=\"psysml:ad9261f0-dda0-42b5-9d6e-43ebe8822407\" target=\"_top\" title=\"psysml:ad9261f0-dda0-42b5-9d6e-43ebe8822407\" xlink:actuate=\"onRequest\" xlink:href=\"psysml:ad9261f0-dda0-42b5-9d6e-43ebe8822407\" xlink:show=\"new\" xlink:title=\"psysml:ad9261f0-dda0-42b5-9d6e-43ebe8822407\" xlink:type=\"simple\"><path d=\"M138.1,410.01 C177.63,427.38 232.65,451.55 273.12,469.33 \" fill=\"none\" id=\"E4-&gt;E2\" style=\"stroke: #383838; stroke-width: 1.0;\"/><polygon fill=\"#FFFFFF\" points=\"291.69,477.49,271.479,476.2594,277.1083,463.4411,291.69,477.49\" style=\"stroke: #383838; stroke-width: 1.0;\"/><ellipse cx=\"267.0642\" cy=\"472.1363\" fill=\"#383838\" rx=\"2\" ry=\"2\" style=\"stroke: #383838; stroke-width: 1.0;\"/><ellipse cx=\"271.0852\" cy=\"462.9803\" fill=\"#383838\" rx=\"2\" ry=\"2\" style=\"stroke: #383838; stroke-width: 1.0;\"/></a><!--MD5=[15ebcb19ae302d9b601edb458606d402]\n",
       "link E5 to E2--><a href=\"psysml:b52cccfc-b130-477f-adae-4c6f859e452b\" target=\"_top\" title=\"psysml:b52cccfc-b130-477f-adae-4c6f859e452b\" xlink:actuate=\"onRequest\" xlink:href=\"psysml:b52cccfc-b130-477f-adae-4c6f859e452b\" xlink:show=\"new\" xlink:title=\"psysml:b52cccfc-b130-477f-adae-4c6f859e452b\" xlink:type=\"simple\"><path d=\"M237.7204,146.0763 C237.4768,146.2621 237.2287,146.4518 236.9763,146.6454 C235.9668,147.4197 234.8879,148.2561 233.748,149.1518 C231.4682,150.943 228.9441,152.9709 226.2406,155.2119 C215.4269,164.1756 201.745,176.5475 189.3625,190.8125 C164.5975,219.3425 145.03,255.445 164,287 C166.35,290.91 306.39,360.26 309,364 C329.99,394 331.63,437.66 330,465.69 \" fill=\"none\" id=\"E5-&gt;E2\" style=\"stroke: #383838; stroke-width: 1.0; stroke-dasharray: 7.0,7.0;\"/><polygon fill=\"#383838\" points=\"329.66,470.74,334.268,462.0356,330.003,465.7518,326.2869,461.4868,329.66,470.74\" style=\"stroke: #383838; stroke-width: 1.0;\"/><text fill=\"#000000\" font-family=\"sans-serif\" font-size=\"13\" lengthAdjust=\"spacingAndGlyphs\" textLength=\"62\" x=\"253\" y=\"330.0669\">«subject»</text></a><!--MD5=[452b418e7f8a40397a49b8c0a78acc5b]\n",
       "reverse link E5 to E7--><a href=\"psysml:226717b4-0db0-47e0-9eef-bae3c4ff0509\" target=\"_top\" title=\"psysml:226717b4-0db0-47e0-9eef-bae3c4ff0509\" xlink:actuate=\"onRequest\" xlink:href=\"psysml:226717b4-0db0-47e0-9eef-bae3c4ff0509\" xlink:show=\"new\" xlink:title=\"psysml:226717b4-0db0-47e0-9eef-bae3c4ff0509\" xlink:type=\"simple\"><path d=\"M246,186.2997 C246,188.9655 246,191.6719 246,194.3971 C246,199.8476 246,205.3735 246,210.8005 C246,221.6544 246,232.1125 246,240.78 \" fill=\"none\" id=\"E5&lt;-E7\" style=\"stroke: #383838; stroke-width: 1.0;\"/><polygon fill=\"#FFFFFF\" points=\"246,186.2997,242,192.2997,246,198.2997,250,192.2997,246,186.2997\" style=\"stroke: #383838; stroke-width: 1.0;\"/></a><!--MD5=[dc164f5e8a733ab456ef1add180e9e34]\n",
       "reverse link E7 to E8--><a href=\"psysml:6f1f84a3-2ac1-458a-baf6-caa888cc195f\" target=\"_top\" title=\"psysml:6f1f84a3-2ac1-458a-baf6-caa888cc195f\" xlink:actuate=\"onRequest\" xlink:href=\"psysml:6f1f84a3-2ac1-458a-baf6-caa888cc195f\" xlink:show=\"new\" xlink:title=\"psysml:6f1f84a3-2ac1-458a-baf6-caa888cc195f\" xlink:type=\"simple\"><path d=\"M290.06,294.45 C322.12,315.89 364.86,344.46 394.01,363.95 \" fill=\"none\" id=\"E7&lt;-E8\" style=\"stroke: #383838; stroke-width: 1.0;\"/><polygon fill=\"#FFFFFF\" points=\"279.2,287.19,281.9674,293.8489,289.1785,293.8555,286.4111,287.1966,279.2,287.19\" style=\"stroke: #383838; stroke-width: 1.0;\"/><text fill=\"#000000\" font-family=\"sans-serif\" font-size=\"13\" lengthAdjust=\"spacingAndGlyphs\" textLength=\"8\" x=\"376.0689\" y=\"352.8328\">1</text></a><!--MD5=[f1f3f9f2fc535e6147756cb86a7f2e32]\n",
       "link E8 to E2--><a href=\"psysml:2bf4d1c6-7bac-40b1-aaaa-83952da67c38\" target=\"_top\" title=\"psysml:2bf4d1c6-7bac-40b1-aaaa-83952da67c38\" xlink:actuate=\"onRequest\" xlink:href=\"psysml:2bf4d1c6-7bac-40b1-aaaa-83952da67c38\" xlink:show=\"new\" xlink:title=\"psysml:2bf4d1c6-7bac-40b1-aaaa-83952da67c38\" xlink:type=\"simple\"><path d=\"M406.04,410.01 C393.32,423.36 376.77,440.74 362.11,456.14 \" fill=\"none\" id=\"E8-&gt;E2\" style=\"stroke: #383838; stroke-width: 1.0;\"/><polygon fill=\"#FFFFFF\" points=\"348.28,470.66,356.3076,452.0708,366.4491,461.7223,348.28,470.66\" style=\"stroke: #383838; stroke-width: 1.0;\"/><ellipse cx=\"361.6859\" cy=\"449.3206\" fill=\"#383838\" rx=\"2\" ry=\"2\" style=\"stroke: #383838; stroke-width: 1.0;\"/><ellipse cx=\"368.9298\" cy=\"456.2144\" fill=\"#383838\" rx=\"2\" ry=\"2\" style=\"stroke: #383838; stroke-width: 1.0;\"/></a><!--MD5=[9ae28de373ca99bb8a1b38d63370ca7e]\n",
       "reverse link E5 to E9--><a href=\"psysml:eedf805a-a406-401d-b38e-104ba6f0fce6\" target=\"_top\" title=\"psysml:eedf805a-a406-401d-b38e-104ba6f0fce6\" xlink:actuate=\"onRequest\" xlink:href=\"psysml:eedf805a-a406-401d-b38e-104ba6f0fce6\" xlink:show=\"new\" xlink:title=\"psysml:eedf805a-a406-401d-b38e-104ba6f0fce6\" xlink:type=\"simple\"><path d=\"M254.7949,186.3026 C254.8401,186.4038 254.8856,186.5049 254.9313,186.6059 C255.2966,187.4138 255.6769,188.215 256.0726,189.0077 C256.8641,190.5933 257.7176,192.1452 258.6379,193.6498 C260.4784,196.6589 262.5863,199.4788 265,202 C278.04,215.62 316.12,229.75 353.15,240.99 \" fill=\"none\" id=\"E5&lt;-E9\" style=\"stroke: #383838; stroke-width: 1.0;\"/><polygon fill=\"#FFFFFF\" points=\"254.7949,186.3026,253.5901,193.4123,259.6895,197.259,260.8944,190.1493,254.7949,186.3026\" style=\"stroke: #383838; stroke-width: 1.0;\"/><text fill=\"#000000\" font-family=\"sans-serif\" font-size=\"13\" lengthAdjust=\"spacingAndGlyphs\" textLength=\"8\" x=\"330.0508\" y=\"232.8298\">1</text></a><!--MD5=[5c3bb36fe832a92c7f0e1807dd65209d]\n",
       "link E9 to E2--><a href=\"psysml:3213573e-39ef-4dfb-813d-bdfb08b6e367\" target=\"_top\" title=\"psysml:3213573e-39ef-4dfb-813d-bdfb08b6e367\" xlink:actuate=\"onRequest\" xlink:href=\"psysml:3213573e-39ef-4dfb-813d-bdfb08b6e367\" xlink:show=\"new\" xlink:title=\"psysml:3213573e-39ef-4dfb-813d-bdfb08b6e367\" xlink:type=\"simple\"><path d=\"M462.31,287.19 C492.44,316.36 535.53,368.75 509,410 C481.16,453.3 424.53,474.29 381.79,484.28 \" fill=\"none\" id=\"E9-&gt;E2\" style=\"stroke: #383838; stroke-width: 1.0;\"/><polygon fill=\"#FFFFFF\" points=\"362.12,488.35,379.3051,477.6415,382.1449,491.3505,362.12,488.35\" style=\"stroke: #383838; stroke-width: 1.0;\"/><ellipse cx=\"385.2923\" cy=\"478.4438\" fill=\"#383838\" rx=\"2\" ry=\"2\" style=\"stroke: #383838; stroke-width: 1.0;\"/><ellipse cx=\"387.3207\" cy=\"488.2359\" fill=\"#383838\" rx=\"2\" ry=\"2\" style=\"stroke: #383838; stroke-width: 1.0;\"/></a><!--MD5=[149fad9a4e8d8daf0ad9b08e32ccc2a7]\n",
       "@startuml\r\n",
       "top to bottom direction\r\n",
       "skinparam monochrome true\r\n",
       "skinparam classbackgroundcolor white\r\n",
       "skinparam shadowing false\r\n",
       "skinparam wrapWidth 300\r\n",
       "hide circle\r\n",
       "\r\n",
       "package \"TradeStudyTest\" as E1  [[psysml:06d75114-8d09-4304-b9ac-1031eaaad748 ]]  {\r\n",
       "comp def \"Engine\" as E2  <<(T,blue) part  def>> [[psysml:377b66bc-6410-4386-a0f5-58eac70f1599 ]] {\r\n",
       "}\r\n",
       "comp usage \"engine1: Engine \" as E3  <<(T,blue) part>> [[psysml:b73c7ebb-9472-45c7-822b-647f60ba4ebd ]] {\r\n",
       "}\r\n",
       "comp usage \"engine2: Engine \" as E4  <<(T,blue) part>> [[psysml:383bc22a-19f8-4697-ba31-98dbfb8a50a3 ]] {\r\n",
       "}\r\n",
       "rec usage \"engineTradeStudy\" as E5 << analysis>> [[psysml:a2c4dab4-2ddb-42af-80d6-b11f423fabe1 ]] {\r\n",
       "comp usage \"tradeStudyObjective\" as E6  <<objective>> [[psysml:6f716227-75fa-479d-851c-c6728be0ecaf ]] {\r\n",
       "}\r\n",
       "}\r\n",
       "comp usage \"evaluationFunction \" as E7  <<(T,blue) calculation>> [[psysml:e59262b2-24eb-419d-a794-3b71c7229dcc ]] {\r\n",
       "}\r\n",
       "comp usage \"alternative: Engine \" as E8  <<(T,blue) part>> [[psysml:83f46fb2-5a48-4342-a61e-b1e9a3952716 ]] {\r\n",
       "}\r\n",
       "comp usage \"selectedAlternative: Engine \" as E9  <<(T,blue) part>> [[psysml:43a96bb2-d059-439d-9037-f3d1363e69c1 ]] {\r\n",
       "}\r\n",
       "}\r\n",
       "E3 - -:|> E2 [[psysml:a3c7b902-deb2-42e0-bb2d-9591134be70d ]] \r\n",
       "E4 - -:|> E2 [[psysml:ad9261f0-dda0-42b5-9d6e-43ebe8822407 ]] \r\n",
       "E5 ..> E2 [[psysml:b52cccfc-b130-477f-adae-4c6f859e452b ]] : <<subject>>\r\n",
       "E5 o- - E7 [[psysml:226717b4-0db0-47e0-9eef-bae3c4ff0509 ]] \r\n",
       "E7 o- - \"1\"E8 [[psysml:6f1f84a3-2ac1-458a-baf6-caa888cc195f ]] \r\n",
       "E8 - -:|> E2 [[psysml:2bf4d1c6-7bac-40b1-aaaa-83952da67c38 ]] \r\n",
       "E5 o- - \"1\"E9 [[psysml:eedf805a-a406-401d-b38e-104ba6f0fce6 ]] \r\n",
       "E9 - -:|> E2 [[psysml:3213573e-39ef-4dfb-813d-bdfb08b6e367 ]] \r\n",
       "@enduml\r\n",
       "\n",
       "PlantUML version 1.2020.13(Sat Jun 13 12:26:38 UTC 2020)\n",
       "(EPL source distribution)\n",
       "Java Runtime: OpenJDK Runtime Environment\n",
       "JVM: OpenJDK 64-Bit Server VM\n",
       "Default Encoding: UTF-8\n",
       "Language: en\n",
       "Country: null\n",
       "--></g></svg>"
      ]
     },
     "execution_count": 44,
     "metadata": {},
     "output_type": "execute_result"
    }
   ],
   "source": [
    "%viz --style=\"TB\" --view=\"Default\" \"TradeStudyTest\""
   ]
  },
  {
   "cell_type": "code",
   "execution_count": 45,
   "id": "3d37fc32",
   "metadata": {
    "execution": {
     "iopub.execute_input": "2022-08-19T08:21:18.568361Z",
     "iopub.status.busy": "2022-08-19T08:21:18.567891Z",
     "iopub.status.idle": "2022-08-19T08:21:18.610072Z",
     "shell.execute_reply": "2022-08-19T08:21:18.607907Z"
    }
   },
   "outputs": [
    {
     "data": {
      "image/svg+xml": [
       "<?xml version=\"1.0\" encoding=\"UTF-8\" standalone=\"no\"?><svg xmlns=\"http://www.w3.org/2000/svg\" xmlns:xlink=\"http://www.w3.org/1999/xlink\" contentScriptType=\"application/ecmascript\" contentStyleType=\"text/css\" height=\"497px\" preserveAspectRatio=\"none\" style=\"width:569px;height:497px;\" version=\"1.1\" viewBox=\"0 0 569 497\" width=\"569px\" zoomAndPan=\"magnify\"><defs/><g><!--MD5=[fbc87193dbaf4d95561dea2c320d4a47]\n",
       "cluster E1--><a href=\"psysml:06d75114-8d09-4304-b9ac-1031eaaad748\" target=\"_top\" title=\"psysml:06d75114-8d09-4304-b9ac-1031eaaad748\" xlink:actuate=\"onRequest\" xlink:href=\"psysml:06d75114-8d09-4304-b9ac-1031eaaad748\" xlink:show=\"new\" xlink:title=\"psysml:06d75114-8d09-4304-b9ac-1031eaaad748\" xlink:type=\"simple\"><polygon fill=\"#FFFFFF\" points=\"19.75,6,135.75,6,142.75,28.2969,547.75,28.2969,547.75,485,19.75,485,19.75,6\" style=\"stroke: #000000; stroke-width: 1.5;\"/><line style=\"stroke: #000000; stroke-width: 1.5;\" x1=\"19.75\" x2=\"142.75\" y1=\"28.2969\" y2=\"28.2969\"/><text fill=\"#000000\" font-family=\"sans-serif\" font-size=\"14\" font-weight=\"bold\" lengthAdjust=\"spacingAndGlyphs\" textLength=\"110\" x=\"23.75\" y=\"20.9951\">TradeStudyTest</text></a><!--MD5=[b4997ac47864f28c2f74865a473b2911]\n",
       "class E2--><a href=\"psysml:377b66bc-6410-4386-a0f5-58eac70f1599\" target=\"_top\" title=\"psysml:377b66bc-6410-4386-a0f5-58eac70f1599\" xlink:actuate=\"onRequest\" xlink:href=\"psysml:377b66bc-6410-4386-a0f5-58eac70f1599\" xlink:show=\"new\" xlink:title=\"psysml:377b66bc-6410-4386-a0f5-58eac70f1599\" xlink:type=\"simple\"><rect fill=\"#FFFFFF\" height=\"45.9375\" id=\"E2\" style=\"stroke: #383838; stroke-width: 1.5;\" width=\"70\" x=\"201.75\" y=\"423\"/><text fill=\"#000000\" font-family=\"sans-serif\" font-size=\"12\" font-style=\"italic\" lengthAdjust=\"spacingAndGlyphs\" textLength=\"68\" x=\"202.75\" y=\"439.1387\">«part  def»</text><text fill=\"#000000\" font-family=\"sans-serif\" font-size=\"12\" lengthAdjust=\"spacingAndGlyphs\" textLength=\"43\" x=\"215.25\" y=\"453.1074\">Engine</text><line style=\"stroke: #383838; stroke-width: 1.5;\" x1=\"202.75\" x2=\"270.75\" y1=\"460.9375\" y2=\"460.9375\"/></a><!--MD5=[09b614a08d8cba4a07c9adeb5e0fee81]\n",
       "class E3--><a href=\"psysml:b73c7ebb-9472-45c7-822b-647f60ba4ebd\" target=\"_top\" title=\"psysml:b73c7ebb-9472-45c7-822b-647f60ba4ebd\" xlink:actuate=\"onRequest\" xlink:href=\"psysml:b73c7ebb-9472-45c7-822b-647f60ba4ebd\" xlink:show=\"new\" xlink:title=\"psysml:b73c7ebb-9472-45c7-822b-647f60ba4ebd\" xlink:type=\"simple\"><rect fill=\"#FFFFFF\" height=\"45.9375\" id=\"E3\" rx=\"10\" ry=\"10\" style=\"stroke: #383838; stroke-width: 1.5;\" width=\"112\" x=\"419.75\" y=\"316\"/><text fill=\"#000000\" font-family=\"sans-serif\" font-size=\"12\" font-style=\"italic\" lengthAdjust=\"spacingAndGlyphs\" textLength=\"40\" x=\"455.75\" y=\"332.1387\">«part»</text><text fill=\"#000000\" font-family=\"sans-serif\" font-size=\"12\" lengthAdjust=\"spacingAndGlyphs\" textLength=\"102\" x=\"422.75\" y=\"346.1074\">engine1: Engine</text><line style=\"stroke: #383838; stroke-width: 1.5;\" x1=\"420.75\" x2=\"530.75\" y1=\"353.9375\" y2=\"353.9375\"/></a><!--MD5=[ebbe1d658d1005bcc118a6aa81145e00]\n",
       "class E4--><a href=\"psysml:383bc22a-19f8-4697-ba31-98dbfb8a50a3\" target=\"_top\" title=\"psysml:383bc22a-19f8-4697-ba31-98dbfb8a50a3\" xlink:actuate=\"onRequest\" xlink:href=\"psysml:383bc22a-19f8-4697-ba31-98dbfb8a50a3\" xlink:show=\"new\" xlink:title=\"psysml:383bc22a-19f8-4697-ba31-98dbfb8a50a3\" xlink:type=\"simple\"><rect fill=\"#FFFFFF\" height=\"45.9375\" id=\"E4\" rx=\"10\" ry=\"10\" style=\"stroke: #383838; stroke-width: 1.5;\" width=\"112\" x=\"272.75\" y=\"316\"/><text fill=\"#000000\" font-family=\"sans-serif\" font-size=\"12\" font-style=\"italic\" lengthAdjust=\"spacingAndGlyphs\" textLength=\"40\" x=\"308.75\" y=\"332.1387\">«part»</text><text fill=\"#000000\" font-family=\"sans-serif\" font-size=\"12\" lengthAdjust=\"spacingAndGlyphs\" textLength=\"102\" x=\"275.75\" y=\"346.1074\">engine2: Engine</text><line style=\"stroke: #383838; stroke-width: 1.5;\" x1=\"273.75\" x2=\"383.75\" y1=\"353.9375\" y2=\"353.9375\"/></a><!--MD5=[270fce915f116d4de14055a7c1d9a0f3]\n",
       "class E5--><a href=\"psysml:a2c4dab4-2ddb-42af-80d6-b11f423fabe1\" target=\"_top\" title=\"psysml:a2c4dab4-2ddb-42af-80d6-b11f423fabe1\" xlink:actuate=\"onRequest\" xlink:href=\"psysml:a2c4dab4-2ddb-42af-80d6-b11f423fabe1\" xlink:show=\"new\" xlink:title=\"psysml:a2c4dab4-2ddb-42af-80d6-b11f423fabe1\" xlink:type=\"simple\"><rect fill=\"#FFFFFF\" height=\"45.9375\" id=\"E5\" rx=\"10\" ry=\"10\" style=\"stroke: #383838; stroke-width: 1.5;\" width=\"203\" x=\"242.25\" y=\"41\"/><text fill=\"#000000\" font-family=\"sans-serif\" font-size=\"12\" font-style=\"italic\" lengthAdjust=\"spacingAndGlyphs\" textLength=\"64\" x=\"311.75\" y=\"57.1387\">«analysis»</text><text fill=\"#000000\" font-family=\"sans-serif\" font-size=\"12\" lengthAdjust=\"spacingAndGlyphs\" textLength=\"193\" x=\"245.25\" y=\"71.1074\">engineTradeStudy: TradeStudy</text><line style=\"stroke: #383838; stroke-width: 1.5;\" x1=\"243.25\" x2=\"444.25\" y1=\"78.9375\" y2=\"78.9375\"/></a><!--MD5=[60a26617385b1d2d0262a64233df1f8d]\n",
       "class E6--><a href=\"psysml:6f716227-75fa-479d-851c-c6728be0ecaf\" target=\"_top\" title=\"psysml:6f716227-75fa-479d-851c-c6728be0ecaf\" xlink:actuate=\"onRequest\" xlink:href=\"psysml:6f716227-75fa-479d-851c-c6728be0ecaf\" xlink:show=\"new\" xlink:title=\"psysml:6f716227-75fa-479d-851c-c6728be0ecaf\" xlink:type=\"simple\"><rect fill=\"#FFFFFF\" height=\"45.9375\" id=\"E6\" rx=\"10\" ry=\"10\" style=\"stroke: #383838; stroke-width: 1.5;\" width=\"255\" x=\"75.25\" y=\"164\"/><text fill=\"#000000\" font-family=\"sans-serif\" font-size=\"12\" font-style=\"italic\" lengthAdjust=\"spacingAndGlyphs\" textLength=\"91\" x=\"157.25\" y=\"180.1387\">«requirement»</text><text fill=\"#000000\" font-family=\"sans-serif\" font-size=\"12\" lengthAdjust=\"spacingAndGlyphs\" textLength=\"245\" x=\"78.25\" y=\"194.1074\">tradeStudyObjective: MaximizeObjective</text><line style=\"stroke: #383838; stroke-width: 1.5;\" x1=\"76.25\" x2=\"329.25\" y1=\"201.9375\" y2=\"201.9375\"/></a><!--MD5=[2156ba9850f5573cc1fc38a6a4b2f02b]\n",
       "class E7--><a href=\"psysml:e59262b2-24eb-419d-a794-3b71c7229dcc\" target=\"_top\" title=\"psysml:e59262b2-24eb-419d-a794-3b71c7229dcc\" xlink:actuate=\"onRequest\" xlink:href=\"psysml:e59262b2-24eb-419d-a794-3b71c7229dcc\" xlink:show=\"new\" xlink:title=\"psysml:e59262b2-24eb-419d-a794-3b71c7229dcc\" xlink:type=\"simple\"><rect fill=\"#FFFFFF\" height=\"45.9375\" id=\"E7\" rx=\"10\" ry=\"10\" style=\"stroke: #383838; stroke-width: 1.5;\" width=\"129\" x=\"365.25\" y=\"164\"/><text fill=\"#000000\" font-family=\"sans-serif\" font-size=\"12\" font-style=\"italic\" lengthAdjust=\"spacingAndGlyphs\" textLength=\"82\" x=\"388.75\" y=\"180.1387\">«calculation»</text><text fill=\"#000000\" font-family=\"sans-serif\" font-size=\"12\" lengthAdjust=\"spacingAndGlyphs\" textLength=\"119\" x=\"368.25\" y=\"194.1074\">evaluationFunction</text><line style=\"stroke: #383838; stroke-width: 1.5;\" x1=\"366.25\" x2=\"493.25\" y1=\"201.9375\" y2=\"201.9375\"/></a><!--MD5=[b9389687b975829384b498ac4b7476b2]\n",
       "class E8--><a href=\"psysml:83f46fb2-5a48-4342-a61e-b1e9a3952716\" target=\"_top\" title=\"psysml:83f46fb2-5a48-4342-a61e-b1e9a3952716\" xlink:actuate=\"onRequest\" xlink:href=\"psysml:83f46fb2-5a48-4342-a61e-b1e9a3952716\" xlink:show=\"new\" xlink:title=\"psysml:83f46fb2-5a48-4342-a61e-b1e9a3952716\" xlink:type=\"simple\"><rect fill=\"#FFFFFF\" height=\"45.9375\" id=\"E8\" rx=\"10\" ry=\"10\" style=\"stroke: #383838; stroke-width: 1.5;\" width=\"128\" x=\"72.75\" y=\"316\"/><text fill=\"#000000\" font-family=\"sans-serif\" font-size=\"12\" font-style=\"italic\" lengthAdjust=\"spacingAndGlyphs\" textLength=\"40\" x=\"116.75\" y=\"332.1387\">«part»</text><text fill=\"#000000\" font-family=\"sans-serif\" font-size=\"12\" lengthAdjust=\"spacingAndGlyphs\" textLength=\"118\" x=\"75.75\" y=\"346.1074\">alternative: Engine</text><line style=\"stroke: #383838; stroke-width: 1.5;\" x1=\"73.75\" x2=\"199.75\" y1=\"353.9375\" y2=\"353.9375\"/></a><!--MD5=[fd4143e9d270a159db93a4ea2a975926]\n",
       "class E9--><a href=\"psysml:43a96bb2-d059-439d-9037-f3d1363e69c1\" target=\"_top\" title=\"psysml:43a96bb2-d059-439d-9037-f3d1363e69c1\" xlink:actuate=\"onRequest\" xlink:href=\"psysml:43a96bb2-d059-439d-9037-f3d1363e69c1\" xlink:show=\"new\" xlink:title=\"psysml:43a96bb2-d059-439d-9037-f3d1363e69c1\" xlink:type=\"simple\"><rect fill=\"#FFFFFF\" height=\"45.9375\" id=\"E9\" rx=\"10\" ry=\"10\" style=\"stroke: #383838; stroke-width: 1.5;\" width=\"182\" x=\"298.75\" y=\"240\"/><text fill=\"#000000\" font-family=\"sans-serif\" font-size=\"12\" font-style=\"italic\" lengthAdjust=\"spacingAndGlyphs\" textLength=\"40\" x=\"369.75\" y=\"256.1387\">«part»</text><text fill=\"#000000\" font-family=\"sans-serif\" font-size=\"12\" lengthAdjust=\"spacingAndGlyphs\" textLength=\"172\" x=\"301.75\" y=\"270.1074\">selectedAlternative: Engine</text><line style=\"stroke: #383838; stroke-width: 1.5;\" x1=\"299.75\" x2=\"479.75\" y1=\"277.9375\" y2=\"277.9375\"/></a><!--MD5=[05d275557350bfb9b23a4ef7222b4c39]\n",
       "link E3 to E2--><a href=\"psysml:a3c7b902-deb2-42e0-bb2d-9591134be70d\" target=\"_top\" title=\"psysml:a3c7b902-deb2-42e0-bb2d-9591134be70d\" xlink:actuate=\"onRequest\" xlink:href=\"psysml:a3c7b902-deb2-42e0-bb2d-9591134be70d\" xlink:show=\"new\" xlink:title=\"psysml:a3c7b902-deb2-42e0-bb2d-9591134be70d\" xlink:type=\"simple\"><path d=\"M425.65,362.01 C386.12,379.38 331.1,403.55 290.63,421.33 \" fill=\"none\" id=\"E3-&gt;E2\" style=\"stroke: #383838; stroke-width: 1.0;\"/><polygon fill=\"#FFFFFF\" points=\"272.06,429.49,286.6417,415.4411,292.271,428.2594,272.06,429.49\" style=\"stroke: #383838; stroke-width: 1.0;\"/><ellipse cx=\"292.6648\" cy=\"414.9803\" fill=\"#383838\" rx=\"2\" ry=\"2\" style=\"stroke: #383838; stroke-width: 1.0;\"/><ellipse cx=\"296.6858\" cy=\"424.1363\" fill=\"#383838\" rx=\"2\" ry=\"2\" style=\"stroke: #383838; stroke-width: 1.0;\"/></a><!--MD5=[185131fc0dcab0a4505a2ebe144e961b]\n",
       "link E4 to E2--><a href=\"psysml:ad9261f0-dda0-42b5-9d6e-43ebe8822407\" target=\"_top\" title=\"psysml:ad9261f0-dda0-42b5-9d6e-43ebe8822407\" xlink:actuate=\"onRequest\" xlink:href=\"psysml:ad9261f0-dda0-42b5-9d6e-43ebe8822407\" xlink:show=\"new\" xlink:title=\"psysml:ad9261f0-dda0-42b5-9d6e-43ebe8822407\" xlink:type=\"simple\"><path d=\"M309.46,362.01 C298.01,375.08 283.18,392.01 269.89,407.17 \" fill=\"none\" id=\"E4-&gt;E2\" style=\"stroke: #383838; stroke-width: 1.0;\"/><polygon fill=\"#FFFFFF\" points=\"256.33,422.66,263.5901,403.7578,274.1181,412.9861,256.33,422.66\" style=\"stroke: #383838; stroke-width: 1.0;\"/><ellipse cx=\"268.8513\" cy=\"400.7898\" fill=\"#383838\" rx=\"2\" ry=\"2\" style=\"stroke: #383838; stroke-width: 1.0;\"/><ellipse cx=\"276.3713\" cy=\"407.3814\" fill=\"#383838\" rx=\"2\" ry=\"2\" style=\"stroke: #383838; stroke-width: 1.0;\"/></a><!--MD5=[15ebcb19ae302d9b601edb458606d402]\n",
       "link E5 to E2--><a href=\"psysml:b52cccfc-b130-477f-adae-4c6f859e452b\" target=\"_top\" title=\"psysml:b52cccfc-b130-477f-adae-4c6f859e452b\" xlink:actuate=\"onRequest\" xlink:href=\"psysml:b52cccfc-b130-477f-adae-4c6f859e452b\" xlink:show=\"new\" xlink:title=\"psysml:b52cccfc-b130-477f-adae-4c6f859e452b\" xlink:type=\"simple\"><path d=\"M242.19,71.71 C178.15,81.78 99.85,106.1 57.75,164 C6,235.18 7.15,287.97 54.75,362 C85.89,410.42 153.01,430.93 196.46,439.38 \" fill=\"none\" id=\"E5-&gt;E2\" style=\"stroke: #383838; stroke-width: 1.0; stroke-dasharray: 7.0,7.0;\"/><polygon fill=\"#383838\" points=\"201.63,440.35,193.5135,434.7713,196.7143,439.4355,192.0502,442.6363,201.63,440.35\" style=\"stroke: #383838; stroke-width: 1.0;\"/><text fill=\"#000000\" font-family=\"sans-serif\" font-size=\"13\" lengthAdjust=\"spacingAndGlyphs\" textLength=\"62\" x=\"22.75\" y=\"267.5669\">«subject»</text></a><!--MD5=[9120cf2e5df3bff93db8f754bbbc09b4]\n",
       "link E5 to E6--><a href=\"psysml:be121dac-af46-4d47-896b-f9a14a0b4d3b\" target=\"_top\" title=\"psysml:be121dac-af46-4d47-896b-f9a14a0b4d3b\" xlink:actuate=\"onRequest\" xlink:href=\"psysml:be121dac-af46-4d47-896b-f9a14a0b4d3b\" xlink:show=\"new\" xlink:title=\"psysml:be121dac-af46-4d47-896b-f9a14a0b4d3b\" xlink:type=\"simple\"><path d=\"M317.89,87.19 C294.44,107.32 259.79,137.06 234.63,158.64 \" fill=\"none\" id=\"E5-&gt;E6\" style=\"stroke: #383838; stroke-width: 1.0;\"/><polygon fill=\"#383838\" points=\"228.45,163.95,236.4776,161.0246,232.5746,156.4675,228.45,163.95\" style=\"stroke: #383838; stroke-width: 1.0;\"/><text fill=\"#000000\" font-family=\"sans-serif\" font-size=\"13\" lengthAdjust=\"spacingAndGlyphs\" textLength=\"73\" x=\"281.75\" y=\"130.0669\">«objective»</text></a><!--MD5=[452b418e7f8a40397a49b8c0a78acc5b]\n",
       "reverse link E5 to E7--><a href=\"psysml:226717b4-0db0-47e0-9eef-bae3c4ff0509\" target=\"_top\" title=\"psysml:226717b4-0db0-47e0-9eef-bae3c4ff0509\" xlink:actuate=\"onRequest\" xlink:href=\"psysml:226717b4-0db0-47e0-9eef-bae3c4ff0509\" xlink:show=\"new\" xlink:title=\"psysml:226717b4-0db0-47e0-9eef-bae3c4ff0509\" xlink:type=\"simple\"><path d=\"M367.12,97.88 C382.03,118.86 400.95,145.48 414.08,163.95 \" fill=\"none\" id=\"E5&lt;-E7\" style=\"stroke: #383838; stroke-width: 1.0;\"/><polygon fill=\"#FFFFFF\" points=\"359.52,87.19,359.7442,94.3976,366.4836,96.9628,366.2594,89.7552,359.52,87.19\" style=\"stroke: #383838; stroke-width: 1.0;\"/></a><!--MD5=[dc164f5e8a733ab456ef1add180e9e34]\n",
       "reverse link E7 to E8--><a href=\"psysml:6f1f84a3-2ac1-458a-baf6-caa888cc195f\" target=\"_top\" title=\"psysml:6f1f84a3-2ac1-458a-baf6-caa888cc195f\" xlink:actuate=\"onRequest\" xlink:href=\"psysml:6f1f84a3-2ac1-458a-baf6-caa888cc195f\" xlink:show=\"new\" xlink:title=\"psysml:6f1f84a3-2ac1-458a-baf6-caa888cc195f\" xlink:type=\"simple\"><path d=\"M352.57,210.93 C329.29,218.95 304.02,228.8 281.75,240 C238.59,261.71 193.11,294.26 164.84,315.8 \" fill=\"none\" id=\"E7&lt;-E8\" style=\"stroke: #383838; stroke-width: 1.0;\"/><polygon fill=\"#FFFFFF\" points=\"364.89,206.79,357.9284,204.9096,353.5151,210.6124,360.4767,212.4928,364.89,206.79\" style=\"stroke: #383838; stroke-width: 1.0;\"/><text fill=\"#000000\" font-family=\"sans-serif\" font-size=\"13\" lengthAdjust=\"spacingAndGlyphs\" textLength=\"8\" x=\"163.0131\" y=\"305.025\">1</text></a><!--MD5=[f1f3f9f2fc535e6147756cb86a7f2e32]\n",
       "link E8 to E2--><a href=\"psysml:2bf4d1c6-7bac-40b1-aaaa-83952da67c38\" target=\"_top\" title=\"psysml:2bf4d1c6-7bac-40b1-aaaa-83952da67c38\" xlink:actuate=\"onRequest\" xlink:href=\"psysml:2bf4d1c6-7bac-40b1-aaaa-83952da67c38\" xlink:show=\"new\" xlink:title=\"psysml:2bf4d1c6-7bac-40b1-aaaa-83952da67c38\" xlink:type=\"simple\"><path d=\"M157.71,362.01 C170.43,375.36 186.98,392.74 201.64,408.14 \" fill=\"none\" id=\"E8-&gt;E2\" style=\"stroke: #383838; stroke-width: 1.0;\"/><polygon fill=\"#FFFFFF\" points=\"215.47,422.66,197.3009,413.7223,207.4424,404.0708,215.47,422.66\" style=\"stroke: #383838; stroke-width: 1.0;\"/><ellipse cx=\"194.8202\" cy=\"408.2144\" fill=\"#383838\" rx=\"2\" ry=\"2\" style=\"stroke: #383838; stroke-width: 1.0;\"/><ellipse cx=\"202.0641\" cy=\"401.3206\" fill=\"#383838\" rx=\"2\" ry=\"2\" style=\"stroke: #383838; stroke-width: 1.0;\"/></a><!--MD5=[9ae28de373ca99bb8a1b38d63370ca7e]\n",
       "reverse link E5 to E9--><a href=\"psysml:eedf805a-a406-401d-b38e-104ba6f0fce6\" target=\"_top\" title=\"psysml:eedf805a-a406-401d-b38e-104ba6f0fce6\" xlink:actuate=\"onRequest\" xlink:href=\"psysml:eedf805a-a406-401d-b38e-104ba6f0fce6\" xlink:show=\"new\" xlink:title=\"psysml:eedf805a-a406-401d-b38e-104ba6f0fce6\" xlink:type=\"simple\"><path d=\"M425.37,92.39 C458.3,107.92 492.9,131.01 511.75,164 C521.89,181.75 523.02,192.94 511.75,210 C503.25,222.87 490.84,232.57 477.15,239.87 \" fill=\"none\" id=\"E5&lt;-E9\" style=\"stroke: #383838; stroke-width: 1.0;\"/><polygon fill=\"#FFFFFF\" points=\"413.35,87.01,417.1893,93.1141,424.3005,91.9179,420.4612,85.8138,413.35,87.01\" style=\"stroke: #383838; stroke-width: 1.0;\"/><text fill=\"#000000\" font-family=\"sans-serif\" font-size=\"13\" lengthAdjust=\"spacingAndGlyphs\" textLength=\"8\" x=\"488.4363\" y=\"229.8763\">1</text></a><!--MD5=[5c3bb36fe832a92c7f0e1807dd65209d]\n",
       "link E9 to E2--><a href=\"psysml:3213573e-39ef-4dfb-813d-bdfb08b6e367\" target=\"_top\" title=\"psysml:3213573e-39ef-4dfb-813d-bdfb08b6e367\" xlink:actuate=\"onRequest\" xlink:href=\"psysml:3213573e-39ef-4dfb-813d-bdfb08b6e367\" xlink:show=\"new\" xlink:title=\"psysml:3213573e-39ef-4dfb-813d-bdfb08b6e367\" xlink:type=\"simple\"><path d=\"M298.61,284.36 C282.24,291.84 266.88,302.05 255.75,316 C236.48,340.16 232.36,375.23 232.71,402.71 \" fill=\"none\" id=\"E9-&gt;E2\" style=\"stroke: #383838; stroke-width: 1.0;\"/><polygon fill=\"#FFFFFF\" points=\"233.74,422.77,225.772,404.1552,239.7535,403.4351,233.74,422.77\" style=\"stroke: #383838; stroke-width: 1.0;\"/><ellipse cx=\"227.4762\" cy=\"398.3599\" fill=\"#383838\" rx=\"2\" ry=\"2\" style=\"stroke: #383838; stroke-width: 1.0;\"/><ellipse cx=\"237.463\" cy=\"397.8455\" fill=\"#383838\" rx=\"2\" ry=\"2\" style=\"stroke: #383838; stroke-width: 1.0;\"/></a><!--MD5=[5b3b63e8ed516750d6e3b9168757a8dc]\n",
       "@startuml\r\n",
       "top to bottom direction\r\n",
       "skinparam monochrome true\r\n",
       "skinparam classbackgroundcolor white\r\n",
       "skinparam shadowing false\r\n",
       "skinparam wrapWidth 300\r\n",
       "hide circle\r\n",
       "\r\n",
       "package \"TradeStudyTest\" as E1  [[psysml:06d75114-8d09-4304-b9ac-1031eaaad748 ]]  {\r\n",
       "comp def \"Engine\" as E2  <<(T,blue) part  def>> [[psysml:377b66bc-6410-4386-a0f5-58eac70f1599 ]] {\r\n",
       "}\r\n",
       "comp usage \"engine1: Engine \" as E3  <<(T,blue) part>> [[psysml:b73c7ebb-9472-45c7-822b-647f60ba4ebd ]] {\r\n",
       "}\r\n",
       "comp usage \"engine2: Engine \" as E4  <<(T,blue) part>> [[psysml:383bc22a-19f8-4697-ba31-98dbfb8a50a3 ]] {\r\n",
       "}\r\n",
       "comp usage \"engineTradeStudy: TradeStudy \" as E5 << analysis>> [[psysml:a2c4dab4-2ddb-42af-80d6-b11f423fabe1 ]] {\r\n",
       "}\r\n",
       "comp usage \"tradeStudyObjective: MaximizeObjective \" as E6  <<(T,blue) requirement>> [[psysml:6f716227-75fa-479d-851c-c6728be0ecaf ]] {\r\n",
       "}\r\n",
       "comp usage \"evaluationFunction \" as E7  <<(T,blue) calculation>> [[psysml:e59262b2-24eb-419d-a794-3b71c7229dcc ]] {\r\n",
       "}\r\n",
       "comp usage \"alternative: Engine \" as E8  <<(T,blue) part>> [[psysml:83f46fb2-5a48-4342-a61e-b1e9a3952716 ]] {\r\n",
       "}\r\n",
       "comp usage \"selectedAlternative: Engine \" as E9  <<(T,blue) part>> [[psysml:43a96bb2-d059-439d-9037-f3d1363e69c1 ]] {\r\n",
       "}\r\n",
       "}\r\n",
       "E3 - -:|> E2 [[psysml:a3c7b902-deb2-42e0-bb2d-9591134be70d ]] \r\n",
       "E4 - -:|> E2 [[psysml:ad9261f0-dda0-42b5-9d6e-43ebe8822407 ]] \r\n",
       "E5 ..> E2 [[psysml:b52cccfc-b130-477f-adae-4c6f859e452b ]] : <<subject>>\r\n",
       "E5 - ->> E6 [[psysml:be121dac-af46-4d47-896b-f9a14a0b4d3b ]] : <<objective>>\r\n",
       "E5 o- - E7 [[psysml:226717b4-0db0-47e0-9eef-bae3c4ff0509 ]] \r\n",
       "E7 o- - \"1\"E8 [[psysml:6f1f84a3-2ac1-458a-baf6-caa888cc195f ]] \r\n",
       "E8 - -:|> E2 [[psysml:2bf4d1c6-7bac-40b1-aaaa-83952da67c38 ]] \r\n",
       "E5 o- - \"1\"E9 [[psysml:eedf805a-a406-401d-b38e-104ba6f0fce6 ]] \r\n",
       "E9 - -:|> E2 [[psysml:3213573e-39ef-4dfb-813d-bdfb08b6e367 ]] \r\n",
       "@enduml\r\n",
       "\n",
       "PlantUML version 1.2020.13(Sat Jun 13 12:26:38 UTC 2020)\n",
       "(EPL source distribution)\n",
       "Java Runtime: OpenJDK Runtime Environment\n",
       "JVM: OpenJDK 64-Bit Server VM\n",
       "Default Encoding: UTF-8\n",
       "Language: en\n",
       "Country: null\n",
       "--></g></svg>"
      ]
     },
     "execution_count": 45,
     "metadata": {},
     "output_type": "execute_result"
    }
   ],
   "source": [
    "%viz --style=\"TB\" --view=\"Tree\" \"TradeStudyTest\""
   ]
  },
  {
   "cell_type": "code",
   "execution_count": 46,
   "id": "9678bab3",
   "metadata": {
    "execution": {
     "iopub.execute_input": "2022-08-19T08:21:18.658565Z",
     "iopub.status.busy": "2022-08-19T08:21:18.658098Z",
     "iopub.status.idle": "2022-08-19T08:21:18.664471Z",
     "shell.execute_reply": "2022-08-19T08:21:18.664773Z"
    }
   },
   "outputs": [
    {
     "data": {
      "image/svg+xml": [
       "<?xml version=\"1.0\" encoding=\"UTF-8\" standalone=\"no\"?><svg xmlns=\"http://www.w3.org/2000/svg\" xmlns:xlink=\"http://www.w3.org/1999/xlink\" contentScriptType=\"application/ecmascript\" contentStyleType=\"text/css\" height=\"12px\" preserveAspectRatio=\"none\" style=\"width:12px;height:12px;\" version=\"1.1\" viewBox=\"0 0 12 12\" width=\"12px\" zoomAndPan=\"magnify\"><defs/><g><!--MD5=[f4ee21bc66e489b5061b7c3e9601fdef]\n",
       "@startuml\r\n",
       "top to bottom direction\r\n",
       "skinparam monochrome true\r\n",
       "skinparam classbackgroundcolor white\r\n",
       "skinparam shadowing false\r\n",
       "skinparam wrapWidth 300\r\n",
       "hide circle\r\n",
       "\r\n",
       "@enduml\r\n",
       "\n",
       "PlantUML version 1.2020.13(Sat Jun 13 12:26:38 UTC 2020)\n",
       "(EPL source distribution)\n",
       "Java Runtime: OpenJDK Runtime Environment\n",
       "JVM: OpenJDK 64-Bit Server VM\n",
       "Default Encoding: UTF-8\n",
       "Language: en\n",
       "Country: null\n",
       "--></g></svg>"
      ]
     },
     "execution_count": 46,
     "metadata": {},
     "output_type": "execute_result"
    }
   ],
   "source": [
    "%viz --style=\"TB\" --view=\"State\" \"TradeStudyTest\""
   ]
  },
  {
   "cell_type": "code",
   "execution_count": 47,
   "id": "348479d0",
   "metadata": {
    "execution": {
     "iopub.execute_input": "2022-08-19T08:21:18.714747Z",
     "iopub.status.busy": "2022-08-19T08:21:18.714290Z",
     "iopub.status.idle": "2022-08-19T08:21:18.756168Z",
     "shell.execute_reply": "2022-08-19T08:21:18.754710Z"
    }
   },
   "outputs": [
    {
     "data": {
      "image/svg+xml": [
       "<?xml version=\"1.0\" encoding=\"UTF-8\" standalone=\"no\"?><svg xmlns=\"http://www.w3.org/2000/svg\" xmlns:xlink=\"http://www.w3.org/1999/xlink\" contentScriptType=\"application/ecmascript\" contentStyleType=\"text/css\" height=\"426px\" preserveAspectRatio=\"none\" style=\"width:569px;height:426px;\" version=\"1.1\" viewBox=\"0 0 569 426\" width=\"569px\" zoomAndPan=\"magnify\"><defs/><g><!--MD5=[fbc87193dbaf4d95561dea2c320d4a47]\n",
       "cluster E1--><a href=\"psysml:06d75114-8d09-4304-b9ac-1031eaaad748\" target=\"_top\" title=\"psysml:06d75114-8d09-4304-b9ac-1031eaaad748\" xlink:actuate=\"onRequest\" xlink:href=\"psysml:06d75114-8d09-4304-b9ac-1031eaaad748\" xlink:show=\"new\" xlink:title=\"psysml:06d75114-8d09-4304-b9ac-1031eaaad748\" xlink:type=\"simple\"><polygon fill=\"#FFFFFF\" points=\"16,6,132,6,139,28.2969,547,28.2969,547,414,16,414,16,6\" style=\"stroke: #000000; stroke-width: 1.5;\"/><line style=\"stroke: #000000; stroke-width: 1.5;\" x1=\"16\" x2=\"139\" y1=\"28.2969\" y2=\"28.2969\"/><text fill=\"#000000\" font-family=\"sans-serif\" font-size=\"14\" font-weight=\"bold\" lengthAdjust=\"spacingAndGlyphs\" textLength=\"110\" x=\"20\" y=\"20.9951\">TradeStudyTest</text></a><!--MD5=[de5ec2e2e8f62f467e546659f5068c88]\n",
       "cluster E5--><a href=\"psysml:a2c4dab4-2ddb-42af-80d6-b11f423fabe1\" target=\"_top\" title=\"psysml:a2c4dab4-2ddb-42af-80d6-b11f423fabe1\" xlink:actuate=\"onRequest\" xlink:href=\"psysml:a2c4dab4-2ddb-42af-80d6-b11f423fabe1\" xlink:show=\"new\" xlink:title=\"psysml:a2c4dab4-2ddb-42af-80d6-b11f423fabe1\" xlink:type=\"simple\"><rect fill=\"#FFFFFF\" height=\"129\" id=\"E5\" rx=\"10\" ry=\"10\" style=\"stroke: #383838; stroke-width: 1.5;\" width=\"199\" x=\"316\" y=\"57\"/><rect fill=\"#F8F8F8\" height=\"37.9375\" rx=\"10\" ry=\"10\" style=\"stroke: #F8F8F8; stroke-width: 1.5;\" width=\"199\" x=\"316\" y=\"57\"/><rect fill=\"#F8F8F8\" height=\"10\" style=\"stroke: #F8F8F8; stroke-width: 1.5;\" width=\"199\" x=\"316\" y=\"84.9375\"/><rect fill=\"none\" height=\"129\" id=\"E5\" rx=\"10\" ry=\"10\" style=\"stroke: #383838; stroke-width: 1.5;\" width=\"199\" x=\"316\" y=\"57\"/><text fill=\"#000000\" font-family=\"sans-serif\" font-size=\"12\" font-style=\"italic\" lengthAdjust=\"spacingAndGlyphs\" textLength=\"64\" x=\"383.5\" y=\"73.1387\">«analysis»</text><text fill=\"#000000\" font-family=\"sans-serif\" font-size=\"12\" lengthAdjust=\"spacingAndGlyphs\" textLength=\"114\" x=\"358.5\" y=\"87.1074\">engineTradeStudy</text><line style=\"stroke: #383838; stroke-width: 1.0;\" x1=\"316\" x2=\"515\" y1=\"94.9375\" y2=\"94.9375\"/></a><!--MD5=[2156ba9850f5573cc1fc38a6a4b2f02b]\n",
       "class E7--><a href=\"psysml:e59262b2-24eb-419d-a794-3b71c7229dcc\" target=\"_top\" title=\"psysml:e59262b2-24eb-419d-a794-3b71c7229dcc\" xlink:actuate=\"onRequest\" xlink:href=\"psysml:e59262b2-24eb-419d-a794-3b71c7229dcc\" xlink:show=\"new\" xlink:title=\"psysml:e59262b2-24eb-419d-a794-3b71c7229dcc\" xlink:type=\"simple\"><rect fill=\"#FFFFFF\" height=\"45.9375\" id=\"E7\" rx=\"10\" ry=\"10\" style=\"stroke: #383838; stroke-width: 1.5;\" width=\"129\" x=\"84.5\" y=\"219\"/><text fill=\"#000000\" font-family=\"sans-serif\" font-size=\"12\" font-style=\"italic\" lengthAdjust=\"spacingAndGlyphs\" textLength=\"82\" x=\"108\" y=\"235.1387\">«calculation»</text><text fill=\"#000000\" font-family=\"sans-serif\" font-size=\"12\" lengthAdjust=\"spacingAndGlyphs\" textLength=\"119\" x=\"87.5\" y=\"249.1074\">evaluationFunction</text><line style=\"stroke: #383838; stroke-width: 1.5;\" x1=\"85.5\" x2=\"212.5\" y1=\"256.9375\" y2=\"256.9375\"/></a><!--MD5=[b9389687b975829384b498ac4b7476b2]\n",
       "class E8--><a href=\"psysml:83f46fb2-5a48-4342-a61e-b1e9a3952716\" target=\"_top\" title=\"psysml:83f46fb2-5a48-4342-a61e-b1e9a3952716\" xlink:actuate=\"onRequest\" xlink:href=\"psysml:83f46fb2-5a48-4342-a61e-b1e9a3952716\" xlink:show=\"new\" xlink:title=\"psysml:83f46fb2-5a48-4342-a61e-b1e9a3952716\" xlink:type=\"simple\"><rect fill=\"#FFFFFF\" height=\"31.9688\" id=\"E8\" rx=\"10\" ry=\"10\" style=\"stroke: #383838; stroke-width: 1.5;\" width=\"128\" x=\"329\" y=\"302\"/><text fill=\"#000000\" font-family=\"sans-serif\" font-size=\"12\" lengthAdjust=\"spacingAndGlyphs\" textLength=\"118\" x=\"332\" y=\"318.1387\">alternative: Engine</text><line style=\"stroke: #383838; stroke-width: 1.5;\" x1=\"330\" x2=\"456\" y1=\"325.9688\" y2=\"325.9688\"/></a><!--MD5=[fd4143e9d270a159db93a4ea2a975926]\n",
       "class E9--><a href=\"psysml:43a96bb2-d059-439d-9037-f3d1363e69c1\" target=\"_top\" title=\"psysml:43a96bb2-d059-439d-9037-f3d1363e69c1\" xlink:actuate=\"onRequest\" xlink:href=\"psysml:43a96bb2-d059-439d-9037-f3d1363e69c1\" xlink:show=\"new\" xlink:title=\"psysml:43a96bb2-d059-439d-9037-f3d1363e69c1\" xlink:type=\"simple\"><rect fill=\"#FFFFFF\" height=\"31.9688\" id=\"E9\" rx=\"10\" ry=\"10\" style=\"stroke: #383838; stroke-width: 1.5;\" width=\"182\" x=\"249\" y=\"226\"/><text fill=\"#000000\" font-family=\"sans-serif\" font-size=\"12\" lengthAdjust=\"spacingAndGlyphs\" textLength=\"172\" x=\"252\" y=\"242.1387\">selectedAlternative: Engine</text><line style=\"stroke: #383838; stroke-width: 1.5;\" x1=\"250\" x2=\"430\" y1=\"249.9688\" y2=\"249.9688\"/></a><g id=\"E1.E2\"><a href=\"psysml:377b66bc-6410-4386-a0f5-58eac70f1599\" target=\"_top\" title=\"psysml:377b66bc-6410-4386-a0f5-58eac70f1599\" xlink:actuate=\"onRequest\" xlink:href=\"psysml:377b66bc-6410-4386-a0f5-58eac70f1599\" xlink:show=\"new\" xlink:title=\"psysml:377b66bc-6410-4386-a0f5-58eac70f1599\" xlink:type=\"simple\"><rect fill=\"#FFFFFF\" height=\"42.9375\" id=\"E2\" style=\"stroke: #383838; stroke-width: 1.5;\" width=\"75\" x=\"355.5\" y=\"355\"/><rect fill=\"#F8F8F8\" height=\"37.9375\" style=\"stroke: #383838; stroke-width: 1.5;\" width=\"75\" x=\"355.5\" y=\"355\"/><text fill=\"#000000\" font-family=\"sans-serif\" font-size=\"12\" font-style=\"italic\" lengthAdjust=\"spacingAndGlyphs\" textLength=\"68\" x=\"359\" y=\"371.1387\">«part  def»</text><text fill=\"#000000\" font-family=\"sans-serif\" font-size=\"12\" lengthAdjust=\"spacingAndGlyphs\" textLength=\"43\" x=\"371.5\" y=\"385.1074\">Engine</text></a></g><g id=\"E1.E3\"><a href=\"psysml:b73c7ebb-9472-45c7-822b-647f60ba4ebd\" target=\"_top\" title=\"psysml:b73c7ebb-9472-45c7-822b-647f60ba4ebd\" xlink:actuate=\"onRequest\" xlink:href=\"psysml:b73c7ebb-9472-45c7-822b-647f60ba4ebd\" xlink:show=\"new\" xlink:title=\"psysml:b73c7ebb-9472-45c7-822b-647f60ba4ebd\" xlink:type=\"simple\"><rect fill=\"#FFFFFF\" height=\"40\" id=\"E3\" rx=\"10\" ry=\"10\" style=\"stroke: #383838; stroke-width: 1.5;\" width=\"113\" x=\"180.5\" y=\"298\"/><rect fill=\"#F8F8F8\" height=\"23.9688\" rx=\"10\" ry=\"10\" style=\"stroke: #F8F8F8; stroke-width: 1.5;\" width=\"113\" x=\"180.5\" y=\"298\"/><rect fill=\"#F8F8F8\" height=\"10\" style=\"stroke: #F8F8F8; stroke-width: 1.5;\" width=\"113\" x=\"180.5\" y=\"311.9688\"/><rect fill=\"none\" height=\"40\" id=\"E3\" rx=\"10\" ry=\"10\" style=\"stroke: #383838; stroke-width: 1.5;\" width=\"113\" x=\"180.5\" y=\"298\"/><text fill=\"#000000\" font-family=\"sans-serif\" font-size=\"12\" lengthAdjust=\"spacingAndGlyphs\" textLength=\"102\" x=\"186\" y=\"314.1387\">engine1: Engine</text></a></g><g id=\"E1.E4\"><a href=\"psysml:383bc22a-19f8-4697-ba31-98dbfb8a50a3\" target=\"_top\" title=\"psysml:383bc22a-19f8-4697-ba31-98dbfb8a50a3\" xlink:actuate=\"onRequest\" xlink:href=\"psysml:383bc22a-19f8-4697-ba31-98dbfb8a50a3\" xlink:show=\"new\" xlink:title=\"psysml:383bc22a-19f8-4697-ba31-98dbfb8a50a3\" xlink:type=\"simple\"><rect fill=\"#FFFFFF\" height=\"40\" id=\"E4\" rx=\"10\" ry=\"10\" style=\"stroke: #383838; stroke-width: 1.5;\" width=\"113\" x=\"32.5\" y=\"298\"/><rect fill=\"#F8F8F8\" height=\"23.9688\" rx=\"10\" ry=\"10\" style=\"stroke: #F8F8F8; stroke-width: 1.5;\" width=\"113\" x=\"32.5\" y=\"298\"/><rect fill=\"#F8F8F8\" height=\"10\" style=\"stroke: #F8F8F8; stroke-width: 1.5;\" width=\"113\" x=\"32.5\" y=\"311.9688\"/><rect fill=\"none\" height=\"40\" id=\"E4\" rx=\"10\" ry=\"10\" style=\"stroke: #383838; stroke-width: 1.5;\" width=\"113\" x=\"32.5\" y=\"298\"/><text fill=\"#000000\" font-family=\"sans-serif\" font-size=\"12\" lengthAdjust=\"spacingAndGlyphs\" textLength=\"102\" x=\"38\" y=\"314.1387\">engine2: Engine</text></a></g><!--MD5=[60a26617385b1d2d0262a64233df1f8d]\n",
       "class E6--><a href=\"psysml:6f716227-75fa-479d-851c-c6728be0ecaf\" target=\"_top\" title=\"psysml:6f716227-75fa-479d-851c-c6728be0ecaf\" xlink:actuate=\"onRequest\" xlink:href=\"psysml:6f716227-75fa-479d-851c-c6728be0ecaf\" xlink:show=\"new\" xlink:title=\"psysml:6f716227-75fa-479d-851c-c6728be0ecaf\" xlink:type=\"simple\"><rect fill=\"#FFFFFF\" height=\"45.9375\" id=\"E6\" rx=\"10\" ry=\"10\" style=\"stroke: #383838; stroke-width: 1.5;\" width=\"132\" x=\"359\" y=\"116\"/><text fill=\"#000000\" font-family=\"sans-serif\" font-size=\"12\" font-style=\"italic\" lengthAdjust=\"spacingAndGlyphs\" textLength=\"70\" x=\"390\" y=\"132.1387\">«objective»</text><text fill=\"#000000\" font-family=\"sans-serif\" font-size=\"12\" lengthAdjust=\"spacingAndGlyphs\" textLength=\"126\" x=\"362\" y=\"146.1074\">tradeStudyObjective</text><line style=\"stroke: #383838; stroke-width: 1.5;\" x1=\"360\" x2=\"490\" y1=\"153.9375\" y2=\"153.9375\"/></a><!--MD5=[05d275557350bfb9b23a4ef7222b4c39]\n",
       "link E3 to E2--><a href=\"psysml:a3c7b902-deb2-42e0-bb2d-9591134be70d\" target=\"_top\" title=\"psysml:a3c7b902-deb2-42e0-bb2d-9591134be70d\" xlink:actuate=\"onRequest\" xlink:href=\"psysml:a3c7b902-deb2-42e0-bb2d-9591134be70d\" xlink:show=\"new\" xlink:title=\"psysml:a3c7b902-deb2-42e0-bb2d-9591134be70d\" xlink:type=\"simple\"><path d=\"M289.81,338.13 C304.69,343.52 320.93,349.4 336.03,354.87 \" fill=\"none\" id=\"E3-&gt;E2\" style=\"stroke: #383838; stroke-width: 1.0;\"/><polygon fill=\"#FFFFFF\" points=\"355.03,361.75,334.7819,361.875,339.5406,348.7085,355.03,361.75\" style=\"stroke: #383838; stroke-width: 1.0;\"/><ellipse cx=\"330.1011\" cy=\"358.0566\" fill=\"#383838\" rx=\"2\" ry=\"2\" style=\"stroke: #383838; stroke-width: 1.0;\"/><ellipse cx=\"333.5002\" cy=\"348.652\" fill=\"#383838\" rx=\"2\" ry=\"2\" style=\"stroke: #383838; stroke-width: 1.0;\"/></a><!--MD5=[185131fc0dcab0a4505a2ebe144e961b]\n",
       "link E4 to E2--><a href=\"psysml:ad9261f0-dda0-42b5-9d6e-43ebe8822407\" target=\"_top\" title=\"psysml:ad9261f0-dda0-42b5-9d6e-43ebe8822407\" xlink:actuate=\"onRequest\" xlink:href=\"psysml:ad9261f0-dda0-42b5-9d6e-43ebe8822407\" xlink:show=\"new\" xlink:title=\"psysml:ad9261f0-dda0-42b5-9d6e-43ebe8822407\" xlink:type=\"simple\"><path d=\"M145.84,334.14 C151.62,335.52 157.42,336.83 163,338 C221.38,350.23 288.79,360.81 335.48,367.58 \" fill=\"none\" id=\"E4-&gt;E2\" style=\"stroke: #383838; stroke-width: 1.0;\"/><polygon fill=\"#FFFFFF\" points=\"355.36,370.42,335.561,374.6626,337.5409,360.8033,355.36,370.42\" style=\"stroke: #383838; stroke-width: 1.0;\"/><ellipse cx=\"330.2011\" cy=\"371.8766\" fill=\"#383838\" rx=\"2\" ry=\"2\" style=\"stroke: #383838; stroke-width: 1.0;\"/><ellipse cx=\"331.6154\" cy=\"361.9771\" fill=\"#383838\" rx=\"2\" ry=\"2\" style=\"stroke: #383838; stroke-width: 1.0;\"/></a><!--MD5=[15ebcb19ae302d9b601edb458606d402]\n",
       "link E5 to E2--><a href=\"psysml:b52cccfc-b130-477f-adae-4c6f859e452b\" target=\"_top\" title=\"psysml:b52cccfc-b130-477f-adae-4c6f859e452b\" xlink:actuate=\"onRequest\" xlink:href=\"psysml:b52cccfc-b130-477f-adae-4c6f859e452b\" xlink:show=\"new\" xlink:title=\"psysml:b52cccfc-b130-477f-adae-4c6f859e452b\" xlink:type=\"simple\"><path d=\"M331.659,186.1627 C331.8411,186.5627 332.0273,186.9606 332.2179,187.3563 C332.5989,188.1477 332.9972,188.93 333.4133,189.7013 C334.2455,191.2439 335.1494,192.7428 336.1309,194.183 C338.0939,197.0633 340.3675,199.7088 343,202 C378.99,233.33 410.75,190.48 449,219 C480.23,242.29 478.34,260.01 487,298 C491.94,319.67 496.18,335.76 477,347 C464.34,354.42 449.46,360.26 435.78,364.68 \" fill=\"none\" id=\"E5-&gt;E2\" style=\"stroke: #383838; stroke-width: 1.0; stroke-dasharray: 7.0,7.0;\"/><polygon fill=\"#383838\" points=\"430.79,366.24,440.5753,367.3568,435.5599,364.7405,438.1761,359.725,430.79,366.24\" style=\"stroke: #383838; stroke-width: 1.0;\"/><text fill=\"#000000\" font-family=\"sans-serif\" font-size=\"13\" lengthAdjust=\"spacingAndGlyphs\" textLength=\"62\" x=\"486\" y=\"286.0669\">«subject»</text></a><!--MD5=[452b418e7f8a40397a49b8c0a78acc5b]\n",
       "reverse link E5 to E7--><a href=\"psysml:226717b4-0db0-47e0-9eef-bae3c4ff0509\" target=\"_top\" title=\"psysml:226717b4-0db0-47e0-9eef-bae3c4ff0509\" xlink:actuate=\"onRequest\" xlink:href=\"psysml:226717b4-0db0-47e0-9eef-bae3c4ff0509\" xlink:show=\"new\" xlink:title=\"psysml:226717b4-0db0-47e0-9eef-bae3c4ff0509\" xlink:type=\"simple\"><path d=\"M315.8632,144.6919 C315.7574,144.7529 315.6508,144.8144 315.5433,144.8765 C315.1131,145.1248 314.6683,145.3815 314.2093,145.6464 C312.3734,146.7061 310.3104,147.8968 308.0477,149.2028 C298.9966,154.4269 286.7481,161.4962 273.0413,169.4075 C245.6275,185.23 212.38,204.42 187.21,218.95 \" fill=\"none\" id=\"E5&lt;-E7\" style=\"stroke: #383838; stroke-width: 1.0;\"/><polygon fill=\"#FFFFFF\" points=\"315.8632,144.6919,308.6671,144.2269,305.4701,150.6906,312.6662,151.1556,315.8632,144.6919\" style=\"stroke: #383838; stroke-width: 1.0;\"/></a><!--MD5=[dc164f5e8a733ab456ef1add180e9e34]\n",
       "reverse link E7 to E8--><a href=\"psysml:6f1f84a3-2ac1-458a-baf6-caa888cc195f\" target=\"_top\" title=\"psysml:6f1f84a3-2ac1-458a-baf6-caa888cc195f\" xlink:actuate=\"onRequest\" xlink:href=\"psysml:6f1f84a3-2ac1-458a-baf6-caa888cc195f\" xlink:show=\"new\" xlink:title=\"psysml:6f1f84a3-2ac1-458a-baf6-caa888cc195f\" xlink:type=\"simple\"><path d=\"M226.45,266.49 C264.75,278.1 309.84,291.78 343.44,301.97 \" fill=\"none\" id=\"E7&lt;-E8\" style=\"stroke: #383838; stroke-width: 1.0;\"/><polygon fill=\"#FFFFFF\" points=\"213.75,262.64,218.33,268.2099,225.233,266.1245,220.653,260.5546,213.75,262.64\" style=\"stroke: #383838; stroke-width: 1.0;\"/><text fill=\"#000000\" font-family=\"sans-serif\" font-size=\"13\" lengthAdjust=\"spacingAndGlyphs\" textLength=\"8\" x=\"317.0288\" y=\"290.9767\">1</text></a><!--MD5=[f1f3f9f2fc535e6147756cb86a7f2e32]\n",
       "link E8 to E2--><a href=\"psysml:2bf4d1c6-7bac-40b1-aaaa-83952da67c38\" target=\"_top\" title=\"psysml:2bf4d1c6-7bac-40b1-aaaa-83952da67c38\" xlink:actuate=\"onRequest\" xlink:href=\"psysml:2bf4d1c6-7bac-40b1-aaaa-83952da67c38\" xlink:show=\"new\" xlink:title=\"psysml:2bf4d1c6-7bac-40b1-aaaa-83952da67c38\" xlink:type=\"simple\"><path d=\"M393,334.14 C393,334.24 393,334.34 393,334.44 \" fill=\"none\" id=\"E8-&gt;E2\" style=\"stroke: #383838; stroke-width: 1.0;\"/><polygon fill=\"#FFFFFF\" points=\"393,354.58,386,335.58,400,335.58,393,354.58\" style=\"stroke: #383838; stroke-width: 1.0;\"/><ellipse cx=\"388\" cy=\"329.88\" fill=\"#383838\" rx=\"2\" ry=\"2\" style=\"stroke: #383838; stroke-width: 1.0;\"/><ellipse cx=\"398\" cy=\"329.88\" fill=\"#383838\" rx=\"2\" ry=\"2\" style=\"stroke: #383838; stroke-width: 1.0;\"/><line style=\"stroke: #383838; stroke-width: 1.0;\" x1=\"393\" x2=\"393\" y1=\"334.14\" y2=\"354.58\"/></a><!--MD5=[9ae28de373ca99bb8a1b38d63370ca7e]\n",
       "reverse link E5 to E9--><a href=\"psysml:eedf805a-a406-401d-b38e-104ba6f0fce6\" target=\"_top\" title=\"psysml:eedf805a-a406-401d-b38e-104ba6f0fce6\" xlink:actuate=\"onRequest\" xlink:href=\"psysml:eedf805a-a406-401d-b38e-104ba6f0fce6\" xlink:show=\"new\" xlink:title=\"psysml:eedf805a-a406-401d-b38e-104ba6f0fce6\" xlink:type=\"simple\"><path d=\"M331.3115,186.1541 C331.3575,186.4444 331.4036,186.7349 331.4496,187.0256 C332.1866,191.6761 332.9298,196.366 333.6541,200.9367 C335.1025,210.0781 336.475,218.7425 337.57,225.66 \" fill=\"none\" id=\"E5&lt;-E9\" style=\"stroke: #383838; stroke-width: 1.0;\"/><polygon fill=\"#FFFFFF\" points=\"331.3115,186.1541,328.3,192.7062,333.1898,198.0062,336.2014,191.454,331.3115,186.1541\" style=\"stroke: #383838; stroke-width: 1.0;\"/><text fill=\"#000000\" font-family=\"sans-serif\" font-size=\"13\" lengthAdjust=\"spacingAndGlyphs\" textLength=\"8\" x=\"327.4401\" y=\"214.8571\">1</text></a><!--MD5=[5c3bb36fe832a92c7f0e1807dd65209d]\n",
       "link E9 to E2--><a href=\"psysml:3213573e-39ef-4dfb-813d-bdfb08b6e367\" target=\"_top\" title=\"psysml:3213573e-39ef-4dfb-813d-bdfb08b6e367\" xlink:actuate=\"onRequest\" xlink:href=\"psysml:3213573e-39ef-4dfb-813d-bdfb08b6e367\" xlink:show=\"new\" xlink:title=\"psysml:3213573e-39ef-4dfb-813d-bdfb08b6e367\" xlink:type=\"simple\"><path d=\"M364.22,258.04 C382.07,268.48 407.27,281.92 431,290 C449.81,296.41 462.26,282.74 475,298 C486.39,311.65 484.61,323.04 475,338 C468.81,347.63 459.47,354.82 449.28,360.18 \" fill=\"none\" id=\"E9-&gt;E2\" style=\"stroke: #383838; stroke-width: 1.0;\"/><polygon fill=\"#FFFFFF\" points=\"430.52,367.97,445.382,354.2179,450.7517,367.1472,430.52,367.97\" style=\"stroke: #383838; stroke-width: 1.0;\"/><ellipse cx=\"451.4132\" cy=\"353.8787\" fill=\"#383838\" rx=\"2\" ry=\"2\" style=\"stroke: #383838; stroke-width: 1.0;\"/><ellipse cx=\"455.2487\" cy=\"363.1139\" fill=\"#383838\" rx=\"2\" ry=\"2\" style=\"stroke: #383838; stroke-width: 1.0;\"/></a><!--MD5=[d807b29bf5f94dafd4b5e92837de99f6]\n",
       "@startuml\r\n",
       "skinparam ranksep 10\r\n",
       "skinparam rectangle {\r\n",
       " backgroundColor<<block>> LightGreen\r\n",
       "}\r\n",
       "top to bottom direction\r\n",
       "skinparam monochrome true\r\n",
       "skinparam classbackgroundcolor white\r\n",
       "skinparam shadowing false\r\n",
       "skinparam wrapWidth 300\r\n",
       "hide circle\r\n",
       "\r\n",
       "package \"TradeStudyTest\" as E1  [[psysml:06d75114-8d09-4304-b9ac-1031eaaad748 ]]  {\r\n",
       "rec def \"Engine\" as E2  <<(T,blue) part  def>> [[psysml:377b66bc-6410-4386-a0f5-58eac70f1599 ]] {\r\n",
       "}\r\n",
       "rec usage \"engine1: Engine\" as E3  [[psysml:b73c7ebb-9472-45c7-822b-647f60ba4ebd ]] {\r\n",
       "}\r\n",
       "rec usage \"engine2: Engine\" as E4  [[psysml:383bc22a-19f8-4697-ba31-98dbfb8a50a3 ]] {\r\n",
       "}\r\n",
       "rec usage \"engineTradeStudy\" as E5 << analysis>> [[psysml:a2c4dab4-2ddb-42af-80d6-b11f423fabe1 ]] {\r\n",
       "comp usage \"tradeStudyObjective\" as E6  <<objective>> [[psysml:6f716227-75fa-479d-851c-c6728be0ecaf ]] {\r\n",
       "}\r\n",
       "}\r\n",
       "comp usage \"evaluationFunction \" as E7  <<(T,blue) calculation>> [[psysml:e59262b2-24eb-419d-a794-3b71c7229dcc ]] {\r\n",
       "}\r\n",
       "comp usage \"alternative: Engine \" as E8  [[psysml:83f46fb2-5a48-4342-a61e-b1e9a3952716 ]] {\r\n",
       "}\r\n",
       "comp usage \"selectedAlternative: Engine \" as E9  [[psysml:43a96bb2-d059-439d-9037-f3d1363e69c1 ]] {\r\n",
       "}\r\n",
       "}\r\n",
       "E3 - -:|> E2 [[psysml:a3c7b902-deb2-42e0-bb2d-9591134be70d ]] \r\n",
       "E4 - -:|> E2 [[psysml:ad9261f0-dda0-42b5-9d6e-43ebe8822407 ]] \r\n",
       "E5 ..> E2 [[psysml:b52cccfc-b130-477f-adae-4c6f859e452b ]] : <<subject>>\r\n",
       "E5 o- - E7 [[psysml:226717b4-0db0-47e0-9eef-bae3c4ff0509 ]] \r\n",
       "E7 o- - \"1\"E8 [[psysml:6f1f84a3-2ac1-458a-baf6-caa888cc195f ]] \r\n",
       "E8 - -:|> E2 [[psysml:2bf4d1c6-7bac-40b1-aaaa-83952da67c38 ]] \r\n",
       "E5 o- - \"1\"E9 [[psysml:eedf805a-a406-401d-b38e-104ba6f0fce6 ]] \r\n",
       "E9 - -:|> E2 [[psysml:3213573e-39ef-4dfb-813d-bdfb08b6e367 ]] \r\n",
       "@enduml\r\n",
       "\n",
       "PlantUML version 1.2020.13(Sat Jun 13 12:26:38 UTC 2020)\n",
       "(EPL source distribution)\n",
       "Java Runtime: OpenJDK Runtime Environment\n",
       "JVM: OpenJDK 64-Bit Server VM\n",
       "Default Encoding: UTF-8\n",
       "Language: en\n",
       "Country: null\n",
       "--></g></svg>"
      ]
     },
     "execution_count": 47,
     "metadata": {},
     "output_type": "execute_result"
    }
   ],
   "source": [
    "%viz --style=\"TB\" --view=\"Interconnection\" \"TradeStudyTest\""
   ]
  },
  {
   "cell_type": "code",
   "execution_count": 48,
   "id": "d54dff68",
   "metadata": {
    "execution": {
     "iopub.execute_input": "2022-08-19T08:21:18.805922Z",
     "iopub.status.busy": "2022-08-19T08:21:18.805474Z",
     "iopub.status.idle": "2022-08-19T08:21:18.838109Z",
     "shell.execute_reply": "2022-08-19T08:21:18.837699Z"
    }
   },
   "outputs": [
    {
     "data": {
      "image/svg+xml": [
       "<?xml version=\"1.0\" encoding=\"UTF-8\" standalone=\"no\"?><svg xmlns=\"http://www.w3.org/2000/svg\" xmlns:xlink=\"http://www.w3.org/1999/xlink\" contentScriptType=\"application/ecmascript\" contentStyleType=\"text/css\" height=\"227px\" preserveAspectRatio=\"none\" style=\"width:442px;height:227px;\" version=\"1.1\" viewBox=\"0 0 442 227\" width=\"442px\" zoomAndPan=\"magnify\"><defs/><g><!--MD5=[fbc87193dbaf4d95561dea2c320d4a47]\n",
       "cluster E1--><a href=\"psysml:a2c4dab4-2ddb-42af-80d6-b11f423fabe1\" target=\"_top\" title=\"psysml:a2c4dab4-2ddb-42af-80d6-b11f423fabe1\" xlink:actuate=\"onRequest\" xlink:href=\"psysml:a2c4dab4-2ddb-42af-80d6-b11f423fabe1\" xlink:show=\"new\" xlink:title=\"psysml:a2c4dab4-2ddb-42af-80d6-b11f423fabe1\" xlink:type=\"simple\"><rect fill=\"#FFFFFF\" height=\"174.36\" id=\"E1\" rx=\"10\" ry=\"10\" style=\"stroke: #383838; stroke-width: 1.5;\" width=\"317\" x=\"47\" y=\"42.0986\"/><rect fill=\"#F8F8F8\" height=\"37.9375\" rx=\"10\" ry=\"10\" style=\"stroke: #F8F8F8; stroke-width: 1.5;\" width=\"317\" x=\"47\" y=\"42.0986\"/><rect fill=\"#F8F8F8\" height=\"10\" style=\"stroke: #F8F8F8; stroke-width: 1.5;\" width=\"317\" x=\"47\" y=\"70.0361\"/><rect fill=\"none\" height=\"174.36\" id=\"E1\" rx=\"10\" ry=\"10\" style=\"stroke: #383838; stroke-width: 1.5;\" width=\"317\" x=\"47\" y=\"42.0986\"/><text fill=\"#000000\" font-family=\"sans-serif\" font-size=\"12\" font-style=\"italic\" lengthAdjust=\"spacingAndGlyphs\" textLength=\"64\" x=\"173.5\" y=\"58.2373\">«analysis»</text><text fill=\"#000000\" font-family=\"sans-serif\" font-size=\"12\" lengthAdjust=\"spacingAndGlyphs\" textLength=\"114\" x=\"148.5\" y=\"72.2061\">engineTradeStudy</text><line style=\"stroke: #383838; stroke-width: 1.0;\" x1=\"47\" x2=\"364\" y1=\"80.0361\" y2=\"80.0361\"/></a><!--MD5=[d5e69f78d87373223dbae638b30a9c99]\n",
       "cluster E3--><a href=\"psysml:e59262b2-24eb-419d-a794-3b71c7229dcc\" target=\"_top\" title=\"psysml:e59262b2-24eb-419d-a794-3b71c7229dcc\" xlink:actuate=\"onRequest\" xlink:href=\"psysml:e59262b2-24eb-419d-a794-3b71c7229dcc\" xlink:show=\"new\" xlink:title=\"psysml:e59262b2-24eb-419d-a794-3b71c7229dcc\" xlink:type=\"simple\"><rect fill=\"#FFFFFF\" height=\"104.86\" id=\"E3\" rx=\"10\" ry=\"10\" style=\"stroke: #383838; stroke-width: 1.5;\" width=\"178\" x=\"145\" y=\"81.5986\"/><rect fill=\"#F8F8F8\" height=\"37.9375\" rx=\"10\" ry=\"10\" style=\"stroke: #F8F8F8; stroke-width: 1.5;\" width=\"178\" x=\"145\" y=\"81.5986\"/><rect fill=\"#F8F8F8\" height=\"10\" style=\"stroke: #F8F8F8; stroke-width: 1.5;\" width=\"178\" x=\"145\" y=\"109.5361\"/><rect fill=\"none\" height=\"104.86\" id=\"E3\" rx=\"10\" ry=\"10\" style=\"stroke: #383838; stroke-width: 1.5;\" width=\"178\" x=\"145\" y=\"81.5986\"/><text fill=\"#000000\" font-family=\"sans-serif\" font-size=\"12\" font-style=\"italic\" lengthAdjust=\"spacingAndGlyphs\" textLength=\"82\" x=\"193\" y=\"97.7373\">«calculation»</text><text fill=\"#000000\" font-family=\"sans-serif\" font-size=\"12\" lengthAdjust=\"spacingAndGlyphs\" textLength=\"119\" x=\"174.5\" y=\"111.7061\">evaluationFunction</text><line style=\"stroke: #383838; stroke-width: 1.0;\" x1=\"145\" x2=\"323\" y1=\"119.5361\" y2=\"119.5361\"/></a><text fill=\"#000000\" font-family=\"sans-serif\" font-size=\"14\" lengthAdjust=\"spacingAndGlyphs\" textLength=\"118\" x=\"6\" y=\"20.7969\">studyAlternatives</text><rect fill=\"#383838\" height=\"12\" style=\"stroke: #F8F8F8; stroke-width: 1.5;\" width=\"12\" x=\"59\" y=\"36.0986\"/><text fill=\"#000000\" font-family=\"sans-serif\" font-size=\"14\" lengthAdjust=\"spacingAndGlyphs\" textLength=\"132\" x=\"298\" y=\"183.0938\">selectedAlternative</text><rect fill=\"#383838\" height=\"12\" style=\"stroke: #F8F8F8; stroke-width: 1.5;\" width=\"12\" x=\"358\" y=\"158.0986\"/><text fill=\"#000000\" font-family=\"sans-serif\" font-size=\"14\" lengthAdjust=\"spacingAndGlyphs\" textLength=\"71\" x=\"198.5\" y=\"60.2969\">alternative</text><rect fill=\"#383838\" height=\"12\" style=\"stroke: #F8F8F8; stroke-width: 1.5;\" width=\"12\" x=\"228\" y=\"75.5986\"/><text fill=\"#000000\" font-family=\"sans-serif\" font-size=\"14\" lengthAdjust=\"spacingAndGlyphs\" textLength=\"39\" x=\"214.5\" y=\"205.4538\">result</text><rect fill=\"#383838\" height=\"12\" style=\"stroke: #F8F8F8; stroke-width: 1.5;\" width=\"12\" x=\"228\" y=\"180.4586\"/><!--MD5=[6f8ba2496258d99daa1a92c329f07ddd]\n",
       "@startuml\r\n",
       "skinparam ranksep 8\r\n",
       "top to bottom direction\r\n",
       "skinparam monochrome true\r\n",
       "skinparam classbackgroundcolor white\r\n",
       "skinparam shadowing false\r\n",
       "skinparam wrapWidth 300\r\n",
       "hide circle\r\n",
       "\r\n",
       "rec usage \"engineTradeStudy\" as E1 << analysis>> [[psysml:a2c4dab4-2ddb-42af-80d6-b11f423fabe1 ]] {\r\n",
       "portin \"studyAlternatives\" as E2  [[psysml:ba51db2a-337d-4796-9152-a1747789732e ]] \r\n",
       "rec usage \"evaluationFunction\" as E3  <<(T,blue) calculation>> [[psysml:e59262b2-24eb-419d-a794-3b71c7229dcc ]] {\r\n",
       "portin \"alternative\" as E4  [[psysml:83f46fb2-5a48-4342-a61e-b1e9a3952716 ]] \r\n",
       "portout \"result\" as E5  [[psysml:9307401e-c2bc-4ae8-a206-942b4cc90813 ]] \r\n",
       "}\r\n",
       "\r\n",
       "portout \"selectedAlternative\" as E6  [[psysml:43a96bb2-d059-439d-9037-f3d1363e69c1 ]] \r\n",
       "}\r\n",
       "\r\n",
       "@enduml\r\n",
       "\n",
       "PlantUML version 1.2020.13(Sat Jun 13 12:26:38 UTC 2020)\n",
       "(EPL source distribution)\n",
       "Java Runtime: OpenJDK Runtime Environment\n",
       "JVM: OpenJDK 64-Bit Server VM\n",
       "Default Encoding: UTF-8\n",
       "Language: en\n",
       "Country: null\n",
       "--></g></svg>"
      ]
     },
     "execution_count": 48,
     "metadata": {},
     "output_type": "execute_result"
    }
   ],
   "source": [
    "%viz --style=\"TB\" --view=\"Action\" \"TradeStudyTest\""
   ]
  },
  {
   "cell_type": "code",
   "execution_count": 49,
   "id": "4d92fe68",
   "metadata": {
    "execution": {
     "iopub.execute_input": "2022-08-19T08:21:18.887801Z",
     "iopub.status.busy": "2022-08-19T08:21:18.887324Z",
     "iopub.status.idle": "2022-08-19T08:21:18.894605Z",
     "shell.execute_reply": "2022-08-19T08:21:18.894224Z"
    }
   },
   "outputs": [
    {
     "data": {
      "image/svg+xml": [
       "<?xml version=\"1.0\" encoding=\"UTF-8\" standalone=\"no\"?><svg xmlns=\"http://www.w3.org/2000/svg\" xmlns:xlink=\"http://www.w3.org/1999/xlink\" contentScriptType=\"application/ecmascript\" contentStyleType=\"text/css\" height=\"12px\" preserveAspectRatio=\"none\" style=\"width:12px;height:12px;\" version=\"1.1\" viewBox=\"0 0 12 12\" width=\"12px\" zoomAndPan=\"magnify\"><defs/><g><!--MD5=[e1ab0c84c44d2fef8bf5f140f2689906]\n",
       "@startuml\r\n",
       "skinparam roundcorner 20\r\n",
       "skinparam BoxPadding 20\r\n",
       "skinparam SequenceBoxBackgroundColor #white\r\n",
       "skinparam style strictuml\r\n",
       "skinparam maxMessageSize 100\r\n",
       "top to bottom direction\r\n",
       "skinparam monochrome true\r\n",
       "skinparam classbackgroundcolor white\r\n",
       "skinparam shadowing false\r\n",
       "skinparam wrapWidth 300\r\n",
       "hide circle\r\n",
       "\r\n",
       "@enduml\r\n",
       "\n",
       "PlantUML version 1.2020.13(Sat Jun 13 12:26:38 UTC 2020)\n",
       "(EPL source distribution)\n",
       "Java Runtime: OpenJDK Runtime Environment\n",
       "JVM: OpenJDK 64-Bit Server VM\n",
       "Default Encoding: UTF-8\n",
       "Language: en\n",
       "Country: null\n",
       "--></g></svg>"
      ]
     },
     "execution_count": 49,
     "metadata": {},
     "output_type": "execute_result"
    }
   ],
   "source": [
    "%viz --style=\"TB\" --view=\"Sequence\" \"TradeStudyTest\""
   ]
  },
  {
   "cell_type": "code",
   "execution_count": 50,
   "id": "93df343b",
   "metadata": {
    "execution": {
     "iopub.execute_input": "2022-08-19T08:21:18.944898Z",
     "iopub.status.busy": "2022-08-19T08:21:18.944419Z",
     "iopub.status.idle": "2022-08-19T08:21:18.998983Z",
     "shell.execute_reply": "2022-08-19T08:21:18.997383Z"
    }
   },
   "outputs": [
    {
     "data": {
      "image/svg+xml": [
       "<?xml version=\"1.0\" encoding=\"UTF-8\" standalone=\"no\"?><svg xmlns=\"http://www.w3.org/2000/svg\" xmlns:xlink=\"http://www.w3.org/1999/xlink\" contentScriptType=\"application/ecmascript\" contentStyleType=\"text/css\" height=\"545px\" preserveAspectRatio=\"none\" style=\"width:566px;height:545px;\" version=\"1.1\" viewBox=\"0 0 566 545\" width=\"566px\" zoomAndPan=\"magnify\"><defs/><g><!--MD5=[fbc87193dbaf4d95561dea2c320d4a47]\n",
       "cluster E1--><a href=\"psysml:06d75114-8d09-4304-b9ac-1031eaaad748\" target=\"_top\" title=\"psysml:06d75114-8d09-4304-b9ac-1031eaaad748\" xlink:actuate=\"onRequest\" xlink:href=\"psysml:06d75114-8d09-4304-b9ac-1031eaaad748\" xlink:show=\"new\" xlink:title=\"psysml:06d75114-8d09-4304-b9ac-1031eaaad748\" xlink:type=\"simple\"><polygon fill=\"#FFFFFF\" points=\"16,6,132,6,139,28.2969,544,28.2969,544,533,16,533,16,6\" style=\"stroke: #000000; stroke-width: 1.5;\"/><line style=\"stroke: #000000; stroke-width: 1.5;\" x1=\"16\" x2=\"139\" y1=\"28.2969\" y2=\"28.2969\"/><text fill=\"#000000\" font-family=\"sans-serif\" font-size=\"14\" font-weight=\"bold\" lengthAdjust=\"spacingAndGlyphs\" textLength=\"110\" x=\"20\" y=\"20.9951\">TradeStudyTest</text></a><!--MD5=[de5ec2e2e8f62f467e546659f5068c88]\n",
       "cluster E5--><a href=\"psysml:a2c4dab4-2ddb-42af-80d6-b11f423fabe1\" target=\"_top\" title=\"psysml:a2c4dab4-2ddb-42af-80d6-b11f423fabe1\" xlink:actuate=\"onRequest\" xlink:href=\"psysml:a2c4dab4-2ddb-42af-80d6-b11f423fabe1\" xlink:show=\"new\" xlink:title=\"psysml:a2c4dab4-2ddb-42af-80d6-b11f423fabe1\" xlink:type=\"simple\"><rect fill=\"#FFFFFF\" height=\"129\" id=\"E5\" rx=\"10\" ry=\"10\" style=\"stroke: #383838; stroke-width: 1.5;\" width=\"199\" x=\"238\" y=\"57\"/><rect fill=\"#F8F8F8\" height=\"37.9375\" rx=\"10\" ry=\"10\" style=\"stroke: #F8F8F8; stroke-width: 1.5;\" width=\"199\" x=\"238\" y=\"57\"/><rect fill=\"#F8F8F8\" height=\"10\" style=\"stroke: #F8F8F8; stroke-width: 1.5;\" width=\"199\" x=\"238\" y=\"84.9375\"/><rect fill=\"none\" height=\"129\" id=\"E5\" rx=\"10\" ry=\"10\" style=\"stroke: #383838; stroke-width: 1.5;\" width=\"199\" x=\"238\" y=\"57\"/><text fill=\"#000000\" font-family=\"sans-serif\" font-size=\"12\" font-style=\"italic\" lengthAdjust=\"spacingAndGlyphs\" textLength=\"64\" x=\"305.5\" y=\"73.1387\">«analysis»</text><text fill=\"#000000\" font-family=\"sans-serif\" font-size=\"12\" lengthAdjust=\"spacingAndGlyphs\" textLength=\"114\" x=\"280.5\" y=\"87.1074\">engineTradeStudy</text><line style=\"stroke: #383838; stroke-width: 1.0;\" x1=\"238\" x2=\"437\" y1=\"94.9375\" y2=\"94.9375\"/></a><!--MD5=[b4997ac47864f28c2f74865a473b2911]\n",
       "class E2--><a href=\"psysml:377b66bc-6410-4386-a0f5-58eac70f1599\" target=\"_top\" title=\"psysml:377b66bc-6410-4386-a0f5-58eac70f1599\" xlink:actuate=\"onRequest\" xlink:href=\"psysml:377b66bc-6410-4386-a0f5-58eac70f1599\" xlink:show=\"new\" xlink:title=\"psysml:377b66bc-6410-4386-a0f5-58eac70f1599\" xlink:type=\"simple\"><rect fill=\"#FFFFFF\" height=\"45.9375\" id=\"E2\" style=\"stroke: #383838; stroke-width: 1.5;\" width=\"70\" x=\"292\" y=\"471\"/><text fill=\"#000000\" font-family=\"sans-serif\" font-size=\"12\" font-style=\"italic\" lengthAdjust=\"spacingAndGlyphs\" textLength=\"68\" x=\"293\" y=\"487.1387\">«part  def»</text><text fill=\"#000000\" font-family=\"sans-serif\" font-size=\"12\" lengthAdjust=\"spacingAndGlyphs\" textLength=\"43\" x=\"305.5\" y=\"501.1074\">Engine</text><line style=\"stroke: #383838; stroke-width: 1.5;\" x1=\"293\" x2=\"361\" y1=\"508.9375\" y2=\"508.9375\"/></a><!--MD5=[09b614a08d8cba4a07c9adeb5e0fee81]\n",
       "class E3--><a href=\"psysml:b73c7ebb-9472-45c7-822b-647f60ba4ebd\" target=\"_top\" title=\"psysml:b73c7ebb-9472-45c7-822b-647f60ba4ebd\" xlink:actuate=\"onRequest\" xlink:href=\"psysml:b73c7ebb-9472-45c7-822b-647f60ba4ebd\" xlink:show=\"new\" xlink:title=\"psysml:b73c7ebb-9472-45c7-822b-647f60ba4ebd\" xlink:type=\"simple\"><rect fill=\"#FFFFFF\" height=\"45.9375\" id=\"E3\" rx=\"10\" ry=\"10\" style=\"stroke: #383838; stroke-width: 1.5;\" width=\"112\" x=\"179\" y=\"364\"/><text fill=\"#000000\" font-family=\"sans-serif\" font-size=\"12\" font-style=\"italic\" lengthAdjust=\"spacingAndGlyphs\" textLength=\"40\" x=\"215\" y=\"380.1387\">«part»</text><text fill=\"#000000\" font-family=\"sans-serif\" font-size=\"12\" lengthAdjust=\"spacingAndGlyphs\" textLength=\"102\" x=\"182\" y=\"394.1074\">engine1: Engine</text><line style=\"stroke: #383838; stroke-width: 1.5;\" x1=\"180\" x2=\"290\" y1=\"401.9375\" y2=\"401.9375\"/></a><!--MD5=[ebbe1d658d1005bcc118a6aa81145e00]\n",
       "class E4--><a href=\"psysml:383bc22a-19f8-4697-ba31-98dbfb8a50a3\" target=\"_top\" title=\"psysml:383bc22a-19f8-4697-ba31-98dbfb8a50a3\" xlink:actuate=\"onRequest\" xlink:href=\"psysml:383bc22a-19f8-4697-ba31-98dbfb8a50a3\" xlink:show=\"new\" xlink:title=\"psysml:383bc22a-19f8-4697-ba31-98dbfb8a50a3\" xlink:type=\"simple\"><rect fill=\"#FFFFFF\" height=\"45.9375\" id=\"E4\" rx=\"10\" ry=\"10\" style=\"stroke: #383838; stroke-width: 1.5;\" width=\"112\" x=\"32\" y=\"364\"/><text fill=\"#000000\" font-family=\"sans-serif\" font-size=\"12\" font-style=\"italic\" lengthAdjust=\"spacingAndGlyphs\" textLength=\"40\" x=\"68\" y=\"380.1387\">«part»</text><text fill=\"#000000\" font-family=\"sans-serif\" font-size=\"12\" lengthAdjust=\"spacingAndGlyphs\" textLength=\"102\" x=\"35\" y=\"394.1074\">engine2: Engine</text><line style=\"stroke: #383838; stroke-width: 1.5;\" x1=\"33\" x2=\"143\" y1=\"401.9375\" y2=\"401.9375\"/></a><!--MD5=[2156ba9850f5573cc1fc38a6a4b2f02b]\n",
       "class E7--><a href=\"psysml:e59262b2-24eb-419d-a794-3b71c7229dcc\" target=\"_top\" title=\"psysml:e59262b2-24eb-419d-a794-3b71c7229dcc\" xlink:actuate=\"onRequest\" xlink:href=\"psysml:e59262b2-24eb-419d-a794-3b71c7229dcc\" xlink:show=\"new\" xlink:title=\"psysml:e59262b2-24eb-419d-a794-3b71c7229dcc\" xlink:type=\"simple\"><rect fill=\"#FFFFFF\" height=\"45.9375\" id=\"E7\" rx=\"10\" ry=\"10\" style=\"stroke: #383838; stroke-width: 1.5;\" width=\"129\" x=\"181.5\" y=\"241\"/><text fill=\"#000000\" font-family=\"sans-serif\" font-size=\"12\" font-style=\"italic\" lengthAdjust=\"spacingAndGlyphs\" textLength=\"82\" x=\"205\" y=\"257.1387\">«calculation»</text><text fill=\"#000000\" font-family=\"sans-serif\" font-size=\"12\" lengthAdjust=\"spacingAndGlyphs\" textLength=\"119\" x=\"184.5\" y=\"271.1074\">evaluationFunction</text><line style=\"stroke: #383838; stroke-width: 1.5;\" x1=\"182.5\" x2=\"309.5\" y1=\"278.9375\" y2=\"278.9375\"/></a><!--MD5=[b9389687b975829384b498ac4b7476b2]\n",
       "class E8--><a href=\"psysml:83f46fb2-5a48-4342-a61e-b1e9a3952716\" target=\"_top\" title=\"psysml:83f46fb2-5a48-4342-a61e-b1e9a3952716\" xlink:actuate=\"onRequest\" xlink:href=\"psysml:83f46fb2-5a48-4342-a61e-b1e9a3952716\" xlink:show=\"new\" xlink:title=\"psysml:83f46fb2-5a48-4342-a61e-b1e9a3952716\" xlink:type=\"simple\"><rect fill=\"#FFFFFF\" height=\"45.9375\" id=\"E8\" rx=\"10\" ry=\"10\" style=\"stroke: #383838; stroke-width: 1.5;\" width=\"128\" x=\"363\" y=\"364\"/><text fill=\"#000000\" font-family=\"sans-serif\" font-size=\"12\" font-style=\"italic\" lengthAdjust=\"spacingAndGlyphs\" textLength=\"40\" x=\"407\" y=\"380.1387\">«part»</text><text fill=\"#000000\" font-family=\"sans-serif\" font-size=\"12\" lengthAdjust=\"spacingAndGlyphs\" textLength=\"118\" x=\"366\" y=\"394.1074\">alternative: Engine</text><line style=\"stroke: #383838; stroke-width: 1.5;\" x1=\"364\" x2=\"490\" y1=\"401.9375\" y2=\"401.9375\"/></a><!--MD5=[fd4143e9d270a159db93a4ea2a975926]\n",
       "class E9--><a href=\"psysml:43a96bb2-d059-439d-9037-f3d1363e69c1\" target=\"_top\" title=\"psysml:43a96bb2-d059-439d-9037-f3d1363e69c1\" xlink:actuate=\"onRequest\" xlink:href=\"psysml:43a96bb2-d059-439d-9037-f3d1363e69c1\" xlink:show=\"new\" xlink:title=\"psysml:43a96bb2-d059-439d-9037-f3d1363e69c1\" xlink:type=\"simple\"><rect fill=\"#FFFFFF\" height=\"45.9375\" id=\"E9\" rx=\"10\" ry=\"10\" style=\"stroke: #383838; stroke-width: 1.5;\" width=\"182\" x=\"346\" y=\"241\"/><text fill=\"#000000\" font-family=\"sans-serif\" font-size=\"12\" font-style=\"italic\" lengthAdjust=\"spacingAndGlyphs\" textLength=\"40\" x=\"417\" y=\"257.1387\">«part»</text><text fill=\"#000000\" font-family=\"sans-serif\" font-size=\"12\" lengthAdjust=\"spacingAndGlyphs\" textLength=\"172\" x=\"349\" y=\"271.1074\">selectedAlternative: Engine</text><line style=\"stroke: #383838; stroke-width: 1.5;\" x1=\"347\" x2=\"527\" y1=\"278.9375\" y2=\"278.9375\"/></a><!--MD5=[60a26617385b1d2d0262a64233df1f8d]\n",
       "class E6--><a href=\"psysml:6f716227-75fa-479d-851c-c6728be0ecaf\" target=\"_top\" title=\"psysml:6f716227-75fa-479d-851c-c6728be0ecaf\" xlink:actuate=\"onRequest\" xlink:href=\"psysml:6f716227-75fa-479d-851c-c6728be0ecaf\" xlink:show=\"new\" xlink:title=\"psysml:6f716227-75fa-479d-851c-c6728be0ecaf\" xlink:type=\"simple\"><rect fill=\"#FFFFFF\" height=\"45.9375\" id=\"E6\" rx=\"10\" ry=\"10\" style=\"stroke: #383838; stroke-width: 1.5;\" width=\"132\" x=\"281\" y=\"116\"/><text fill=\"#000000\" font-family=\"sans-serif\" font-size=\"12\" font-style=\"italic\" lengthAdjust=\"spacingAndGlyphs\" textLength=\"70\" x=\"312\" y=\"132.1387\">«objective»</text><text fill=\"#000000\" font-family=\"sans-serif\" font-size=\"12\" lengthAdjust=\"spacingAndGlyphs\" textLength=\"126\" x=\"284\" y=\"146.1074\">tradeStudyObjective</text><line style=\"stroke: #383838; stroke-width: 1.5;\" x1=\"282\" x2=\"412\" y1=\"153.9375\" y2=\"153.9375\"/></a><!--MD5=[05d275557350bfb9b23a4ef7222b4c39]\n",
       "link E3 to E2--><a href=\"psysml:a3c7b902-deb2-42e0-bb2d-9591134be70d\" target=\"_top\" title=\"psysml:a3c7b902-deb2-42e0-bb2d-9591134be70d\" xlink:actuate=\"onRequest\" xlink:href=\"psysml:a3c7b902-deb2-42e0-bb2d-9591134be70d\" xlink:show=\"new\" xlink:title=\"psysml:a3c7b902-deb2-42e0-bb2d-9591134be70d\" xlink:type=\"simple\"><path d=\"M254.29,410.01 C265.74,423.08 280.57,440.01 293.86,455.17 \" fill=\"none\" id=\"E3-&gt;E2\" style=\"stroke: #383838; stroke-width: 1.0;\"/><polygon fill=\"#FFFFFF\" points=\"307.42,470.66,289.6319,460.9861,300.1599,451.7578,307.42,470.66\" style=\"stroke: #383838; stroke-width: 1.0;\"/><ellipse cx=\"287.3787\" cy=\"455.3814\" fill=\"#383838\" rx=\"2\" ry=\"2\" style=\"stroke: #383838; stroke-width: 1.0;\"/><ellipse cx=\"294.8987\" cy=\"448.7898\" fill=\"#383838\" rx=\"2\" ry=\"2\" style=\"stroke: #383838; stroke-width: 1.0;\"/></a><!--MD5=[185131fc0dcab0a4505a2ebe144e961b]\n",
       "link E4 to E2--><a href=\"psysml:ad9261f0-dda0-42b5-9d6e-43ebe8822407\" target=\"_top\" title=\"psysml:ad9261f0-dda0-42b5-9d6e-43ebe8822407\" xlink:actuate=\"onRequest\" xlink:href=\"psysml:ad9261f0-dda0-42b5-9d6e-43ebe8822407\" xlink:show=\"new\" xlink:title=\"psysml:ad9261f0-dda0-42b5-9d6e-43ebe8822407\" xlink:type=\"simple\"><path d=\"M138.1,410.01 C177.63,427.38 232.65,451.55 273.12,469.33 \" fill=\"none\" id=\"E4-&gt;E2\" style=\"stroke: #383838; stroke-width: 1.0;\"/><polygon fill=\"#FFFFFF\" points=\"291.69,477.49,271.479,476.2594,277.1083,463.4411,291.69,477.49\" style=\"stroke: #383838; stroke-width: 1.0;\"/><ellipse cx=\"267.0642\" cy=\"472.1363\" fill=\"#383838\" rx=\"2\" ry=\"2\" style=\"stroke: #383838; stroke-width: 1.0;\"/><ellipse cx=\"271.0852\" cy=\"462.9803\" fill=\"#383838\" rx=\"2\" ry=\"2\" style=\"stroke: #383838; stroke-width: 1.0;\"/></a><!--MD5=[15ebcb19ae302d9b601edb458606d402]\n",
       "link E5 to E2--><a href=\"psysml:b52cccfc-b130-477f-adae-4c6f859e452b\" target=\"_top\" title=\"psysml:b52cccfc-b130-477f-adae-4c6f859e452b\" xlink:actuate=\"onRequest\" xlink:href=\"psysml:b52cccfc-b130-477f-adae-4c6f859e452b\" xlink:show=\"new\" xlink:title=\"psysml:b52cccfc-b130-477f-adae-4c6f859e452b\" xlink:type=\"simple\"><path d=\"M237.7204,146.0763 C237.4768,146.2621 237.2287,146.4518 236.9763,146.6454 C235.9668,147.4197 234.8879,148.2561 233.748,149.1518 C231.4682,150.943 228.9441,152.9709 226.2406,155.2119 C215.4269,164.1756 201.745,176.5475 189.3625,190.8125 C164.5975,219.3425 145.03,255.445 164,287 C166.35,290.91 306.39,360.26 309,364 C329.99,394 331.63,437.66 330,465.69 \" fill=\"none\" id=\"E5-&gt;E2\" style=\"stroke: #383838; stroke-width: 1.0; stroke-dasharray: 7.0,7.0;\"/><polygon fill=\"#383838\" points=\"329.66,470.74,334.268,462.0356,330.003,465.7518,326.2869,461.4868,329.66,470.74\" style=\"stroke: #383838; stroke-width: 1.0;\"/><text fill=\"#000000\" font-family=\"sans-serif\" font-size=\"13\" lengthAdjust=\"spacingAndGlyphs\" textLength=\"62\" x=\"253\" y=\"330.0669\">«subject»</text></a><!--MD5=[452b418e7f8a40397a49b8c0a78acc5b]\n",
       "reverse link E5 to E7--><a href=\"psysml:226717b4-0db0-47e0-9eef-bae3c4ff0509\" target=\"_top\" title=\"psysml:226717b4-0db0-47e0-9eef-bae3c4ff0509\" xlink:actuate=\"onRequest\" xlink:href=\"psysml:226717b4-0db0-47e0-9eef-bae3c4ff0509\" xlink:show=\"new\" xlink:title=\"psysml:226717b4-0db0-47e0-9eef-bae3c4ff0509\" xlink:type=\"simple\"><path d=\"M246,186.2997 C246,188.9655 246,191.6719 246,194.3971 C246,199.8476 246,205.3735 246,210.8005 C246,221.6544 246,232.1125 246,240.78 \" fill=\"none\" id=\"E5&lt;-E7\" style=\"stroke: #383838; stroke-width: 1.0;\"/><polygon fill=\"#FFFFFF\" points=\"246,186.2997,242,192.2997,246,198.2997,250,192.2997,246,186.2997\" style=\"stroke: #383838; stroke-width: 1.0;\"/></a><!--MD5=[dc164f5e8a733ab456ef1add180e9e34]\n",
       "reverse link E7 to E8--><a href=\"psysml:6f1f84a3-2ac1-458a-baf6-caa888cc195f\" target=\"_top\" title=\"psysml:6f1f84a3-2ac1-458a-baf6-caa888cc195f\" xlink:actuate=\"onRequest\" xlink:href=\"psysml:6f1f84a3-2ac1-458a-baf6-caa888cc195f\" xlink:show=\"new\" xlink:title=\"psysml:6f1f84a3-2ac1-458a-baf6-caa888cc195f\" xlink:type=\"simple\"><path d=\"M290.06,294.45 C322.12,315.89 364.86,344.46 394.01,363.95 \" fill=\"none\" id=\"E7&lt;-E8\" style=\"stroke: #383838; stroke-width: 1.0;\"/><polygon fill=\"#FFFFFF\" points=\"279.2,287.19,281.9674,293.8489,289.1785,293.8555,286.4111,287.1966,279.2,287.19\" style=\"stroke: #383838; stroke-width: 1.0;\"/><text fill=\"#000000\" font-family=\"sans-serif\" font-size=\"13\" lengthAdjust=\"spacingAndGlyphs\" textLength=\"8\" x=\"376.0689\" y=\"352.8328\">1</text></a><!--MD5=[f1f3f9f2fc535e6147756cb86a7f2e32]\n",
       "link E8 to E2--><a href=\"psysml:2bf4d1c6-7bac-40b1-aaaa-83952da67c38\" target=\"_top\" title=\"psysml:2bf4d1c6-7bac-40b1-aaaa-83952da67c38\" xlink:actuate=\"onRequest\" xlink:href=\"psysml:2bf4d1c6-7bac-40b1-aaaa-83952da67c38\" xlink:show=\"new\" xlink:title=\"psysml:2bf4d1c6-7bac-40b1-aaaa-83952da67c38\" xlink:type=\"simple\"><path d=\"M406.04,410.01 C393.32,423.36 376.77,440.74 362.11,456.14 \" fill=\"none\" id=\"E8-&gt;E2\" style=\"stroke: #383838; stroke-width: 1.0;\"/><polygon fill=\"#FFFFFF\" points=\"348.28,470.66,356.3076,452.0708,366.4491,461.7223,348.28,470.66\" style=\"stroke: #383838; stroke-width: 1.0;\"/><ellipse cx=\"361.6859\" cy=\"449.3206\" fill=\"#383838\" rx=\"2\" ry=\"2\" style=\"stroke: #383838; stroke-width: 1.0;\"/><ellipse cx=\"368.9298\" cy=\"456.2144\" fill=\"#383838\" rx=\"2\" ry=\"2\" style=\"stroke: #383838; stroke-width: 1.0;\"/></a><!--MD5=[9ae28de373ca99bb8a1b38d63370ca7e]\n",
       "reverse link E5 to E9--><a href=\"psysml:eedf805a-a406-401d-b38e-104ba6f0fce6\" target=\"_top\" title=\"psysml:eedf805a-a406-401d-b38e-104ba6f0fce6\" xlink:actuate=\"onRequest\" xlink:href=\"psysml:eedf805a-a406-401d-b38e-104ba6f0fce6\" xlink:show=\"new\" xlink:title=\"psysml:eedf805a-a406-401d-b38e-104ba6f0fce6\" xlink:type=\"simple\"><path d=\"M254.7949,186.3026 C254.8401,186.4038 254.8856,186.5049 254.9313,186.6059 C255.2966,187.4138 255.6769,188.215 256.0726,189.0077 C256.8641,190.5933 257.7176,192.1452 258.6379,193.6498 C260.4784,196.6589 262.5863,199.4788 265,202 C278.04,215.62 316.12,229.75 353.15,240.99 \" fill=\"none\" id=\"E5&lt;-E9\" style=\"stroke: #383838; stroke-width: 1.0;\"/><polygon fill=\"#FFFFFF\" points=\"254.7949,186.3026,253.5901,193.4123,259.6895,197.259,260.8944,190.1493,254.7949,186.3026\" style=\"stroke: #383838; stroke-width: 1.0;\"/><text fill=\"#000000\" font-family=\"sans-serif\" font-size=\"13\" lengthAdjust=\"spacingAndGlyphs\" textLength=\"8\" x=\"330.0508\" y=\"232.8298\">1</text></a><!--MD5=[5c3bb36fe832a92c7f0e1807dd65209d]\n",
       "link E9 to E2--><a href=\"psysml:3213573e-39ef-4dfb-813d-bdfb08b6e367\" target=\"_top\" title=\"psysml:3213573e-39ef-4dfb-813d-bdfb08b6e367\" xlink:actuate=\"onRequest\" xlink:href=\"psysml:3213573e-39ef-4dfb-813d-bdfb08b6e367\" xlink:show=\"new\" xlink:title=\"psysml:3213573e-39ef-4dfb-813d-bdfb08b6e367\" xlink:type=\"simple\"><path d=\"M462.31,287.19 C492.44,316.36 535.53,368.75 509,410 C481.16,453.3 424.53,474.29 381.79,484.28 \" fill=\"none\" id=\"E9-&gt;E2\" style=\"stroke: #383838; stroke-width: 1.0;\"/><polygon fill=\"#FFFFFF\" points=\"362.12,488.35,379.3051,477.6415,382.1449,491.3505,362.12,488.35\" style=\"stroke: #383838; stroke-width: 1.0;\"/><ellipse cx=\"385.2923\" cy=\"478.4438\" fill=\"#383838\" rx=\"2\" ry=\"2\" style=\"stroke: #383838; stroke-width: 1.0;\"/><ellipse cx=\"387.3207\" cy=\"488.2359\" fill=\"#383838\" rx=\"2\" ry=\"2\" style=\"stroke: #383838; stroke-width: 1.0;\"/></a><!--MD5=[149fad9a4e8d8daf0ad9b08e32ccc2a7]\n",
       "@startuml\r\n",
       "top to bottom direction\r\n",
       "skinparam monochrome true\r\n",
       "skinparam classbackgroundcolor white\r\n",
       "skinparam shadowing false\r\n",
       "skinparam wrapWidth 300\r\n",
       "hide circle\r\n",
       "\r\n",
       "package \"TradeStudyTest\" as E1  [[psysml:06d75114-8d09-4304-b9ac-1031eaaad748 ]]  {\r\n",
       "comp def \"Engine\" as E2  <<(T,blue) part  def>> [[psysml:377b66bc-6410-4386-a0f5-58eac70f1599 ]] {\r\n",
       "}\r\n",
       "comp usage \"engine1: Engine \" as E3  <<(T,blue) part>> [[psysml:b73c7ebb-9472-45c7-822b-647f60ba4ebd ]] {\r\n",
       "}\r\n",
       "comp usage \"engine2: Engine \" as E4  <<(T,blue) part>> [[psysml:383bc22a-19f8-4697-ba31-98dbfb8a50a3 ]] {\r\n",
       "}\r\n",
       "rec usage \"engineTradeStudy\" as E5 << analysis>> [[psysml:a2c4dab4-2ddb-42af-80d6-b11f423fabe1 ]] {\r\n",
       "comp usage \"tradeStudyObjective\" as E6  <<objective>> [[psysml:6f716227-75fa-479d-851c-c6728be0ecaf ]] {\r\n",
       "}\r\n",
       "}\r\n",
       "comp usage \"evaluationFunction \" as E7  <<(T,blue) calculation>> [[psysml:e59262b2-24eb-419d-a794-3b71c7229dcc ]] {\r\n",
       "}\r\n",
       "comp usage \"alternative: Engine \" as E8  <<(T,blue) part>> [[psysml:83f46fb2-5a48-4342-a61e-b1e9a3952716 ]] {\r\n",
       "}\r\n",
       "comp usage \"selectedAlternative: Engine \" as E9  <<(T,blue) part>> [[psysml:43a96bb2-d059-439d-9037-f3d1363e69c1 ]] {\r\n",
       "}\r\n",
       "}\r\n",
       "E3 - -:|> E2 [[psysml:a3c7b902-deb2-42e0-bb2d-9591134be70d ]] \r\n",
       "E4 - -:|> E2 [[psysml:ad9261f0-dda0-42b5-9d6e-43ebe8822407 ]] \r\n",
       "E5 ..> E2 [[psysml:b52cccfc-b130-477f-adae-4c6f859e452b ]] : <<subject>>\r\n",
       "E5 o- - E7 [[psysml:226717b4-0db0-47e0-9eef-bae3c4ff0509 ]] \r\n",
       "E7 o- - \"1\"E8 [[psysml:6f1f84a3-2ac1-458a-baf6-caa888cc195f ]] \r\n",
       "E8 - -:|> E2 [[psysml:2bf4d1c6-7bac-40b1-aaaa-83952da67c38 ]] \r\n",
       "E5 o- - \"1\"E9 [[psysml:eedf805a-a406-401d-b38e-104ba6f0fce6 ]] \r\n",
       "E9 - -:|> E2 [[psysml:3213573e-39ef-4dfb-813d-bdfb08b6e367 ]] \r\n",
       "@enduml\r\n",
       "\n",
       "PlantUML version 1.2020.13(Sat Jun 13 12:26:38 UTC 2020)\n",
       "(EPL source distribution)\n",
       "Java Runtime: OpenJDK Runtime Environment\n",
       "JVM: OpenJDK 64-Bit Server VM\n",
       "Default Encoding: UTF-8\n",
       "Language: en\n",
       "Country: null\n",
       "--></g></svg>"
      ]
     },
     "execution_count": 50,
     "metadata": {},
     "output_type": "execute_result"
    }
   ],
   "source": [
    "%viz --style=\"TB\" --view=\"MIXED\" \"TradeStudyTest\""
   ]
  },
  {
   "cell_type": "code",
   "execution_count": 51,
   "id": "43d49081",
   "metadata": {
    "execution": {
     "iopub.execute_input": "2022-08-19T08:21:19.047887Z",
     "iopub.status.busy": "2022-08-19T08:21:19.047423Z",
     "iopub.status.idle": "2022-08-19T08:21:19.092824Z",
     "shell.execute_reply": "2022-08-19T08:21:19.091328Z"
    }
   },
   "outputs": [
    {
     "data": {
      "image/svg+xml": [
       "<?xml version=\"1.0\" encoding=\"UTF-8\" standalone=\"no\"?><svg xmlns=\"http://www.w3.org/2000/svg\" xmlns:xlink=\"http://www.w3.org/1999/xlink\" contentScriptType=\"application/ecmascript\" contentStyleType=\"text/css\" height=\"545px\" preserveAspectRatio=\"none\" style=\"width:566px;height:545px;\" version=\"1.1\" viewBox=\"0 0 566 545\" width=\"566px\" zoomAndPan=\"magnify\"><defs/><g><!--MD5=[fbc87193dbaf4d95561dea2c320d4a47]\n",
       "cluster E1--><a href=\"psysml:06d75114-8d09-4304-b9ac-1031eaaad748\" target=\"_top\" title=\"psysml:06d75114-8d09-4304-b9ac-1031eaaad748\" xlink:actuate=\"onRequest\" xlink:href=\"psysml:06d75114-8d09-4304-b9ac-1031eaaad748\" xlink:show=\"new\" xlink:title=\"psysml:06d75114-8d09-4304-b9ac-1031eaaad748\" xlink:type=\"simple\"><polygon fill=\"#FFFFFF\" points=\"16,6,132,6,139,28.2969,544,28.2969,544,533,16,533,16,6\" style=\"stroke: #000000; stroke-width: 1.5;\"/><line style=\"stroke: #000000; stroke-width: 1.5;\" x1=\"16\" x2=\"139\" y1=\"28.2969\" y2=\"28.2969\"/><text fill=\"#000000\" font-family=\"sans-serif\" font-size=\"14\" font-weight=\"bold\" lengthAdjust=\"spacingAndGlyphs\" textLength=\"110\" x=\"20\" y=\"20.9951\">TradeStudyTest</text></a><!--MD5=[de5ec2e2e8f62f467e546659f5068c88]\n",
       "cluster E5--><a href=\"psysml:a2c4dab4-2ddb-42af-80d6-b11f423fabe1\" target=\"_top\" title=\"psysml:a2c4dab4-2ddb-42af-80d6-b11f423fabe1\" xlink:actuate=\"onRequest\" xlink:href=\"psysml:a2c4dab4-2ddb-42af-80d6-b11f423fabe1\" xlink:show=\"new\" xlink:title=\"psysml:a2c4dab4-2ddb-42af-80d6-b11f423fabe1\" xlink:type=\"simple\"><rect fill=\"#FFFFFF\" height=\"129\" id=\"E5\" rx=\"10\" ry=\"10\" style=\"stroke: #383838; stroke-width: 1.5;\" width=\"199\" x=\"238\" y=\"57\"/><rect fill=\"#F8F8F8\" height=\"37.9375\" rx=\"10\" ry=\"10\" style=\"stroke: #F8F8F8; stroke-width: 1.5;\" width=\"199\" x=\"238\" y=\"57\"/><rect fill=\"#F8F8F8\" height=\"10\" style=\"stroke: #F8F8F8; stroke-width: 1.5;\" width=\"199\" x=\"238\" y=\"84.9375\"/><rect fill=\"none\" height=\"129\" id=\"E5\" rx=\"10\" ry=\"10\" style=\"stroke: #383838; stroke-width: 1.5;\" width=\"199\" x=\"238\" y=\"57\"/><text fill=\"#000000\" font-family=\"sans-serif\" font-size=\"12\" font-style=\"italic\" lengthAdjust=\"spacingAndGlyphs\" textLength=\"64\" x=\"305.5\" y=\"73.1387\">«analysis»</text><text fill=\"#000000\" font-family=\"sans-serif\" font-size=\"12\" lengthAdjust=\"spacingAndGlyphs\" textLength=\"114\" x=\"280.5\" y=\"87.1074\">engineTradeStudy</text><line style=\"stroke: #383838; stroke-width: 1.0;\" x1=\"238\" x2=\"437\" y1=\"94.9375\" y2=\"94.9375\"/></a><!--MD5=[b4997ac47864f28c2f74865a473b2911]\n",
       "class E2--><a href=\"psysml:377b66bc-6410-4386-a0f5-58eac70f1599\" target=\"_top\" title=\"psysml:377b66bc-6410-4386-a0f5-58eac70f1599\" xlink:actuate=\"onRequest\" xlink:href=\"psysml:377b66bc-6410-4386-a0f5-58eac70f1599\" xlink:show=\"new\" xlink:title=\"psysml:377b66bc-6410-4386-a0f5-58eac70f1599\" xlink:type=\"simple\"><rect fill=\"#FFFFFF\" height=\"45.9375\" id=\"E2\" style=\"stroke: #383838; stroke-width: 1.5;\" width=\"70\" x=\"292\" y=\"471\"/><text fill=\"#000000\" font-family=\"sans-serif\" font-size=\"12\" font-style=\"italic\" lengthAdjust=\"spacingAndGlyphs\" textLength=\"68\" x=\"293\" y=\"487.1387\">«part  def»</text><text fill=\"#000000\" font-family=\"sans-serif\" font-size=\"12\" lengthAdjust=\"spacingAndGlyphs\" textLength=\"43\" x=\"305.5\" y=\"501.1074\">Engine</text><line style=\"stroke: #383838; stroke-width: 1.5;\" x1=\"293\" x2=\"361\" y1=\"508.9375\" y2=\"508.9375\"/></a><!--MD5=[09b614a08d8cba4a07c9adeb5e0fee81]\n",
       "class E3--><a href=\"psysml:b73c7ebb-9472-45c7-822b-647f60ba4ebd\" target=\"_top\" title=\"psysml:b73c7ebb-9472-45c7-822b-647f60ba4ebd\" xlink:actuate=\"onRequest\" xlink:href=\"psysml:b73c7ebb-9472-45c7-822b-647f60ba4ebd\" xlink:show=\"new\" xlink:title=\"psysml:b73c7ebb-9472-45c7-822b-647f60ba4ebd\" xlink:type=\"simple\"><rect fill=\"#FFFFFF\" height=\"45.9375\" id=\"E3\" rx=\"10\" ry=\"10\" style=\"stroke: #383838; stroke-width: 1.5;\" width=\"112\" x=\"179\" y=\"364\"/><text fill=\"#000000\" font-family=\"sans-serif\" font-size=\"12\" font-style=\"italic\" lengthAdjust=\"spacingAndGlyphs\" textLength=\"40\" x=\"215\" y=\"380.1387\">«part»</text><text fill=\"#000000\" font-family=\"sans-serif\" font-size=\"12\" lengthAdjust=\"spacingAndGlyphs\" textLength=\"102\" x=\"182\" y=\"394.1074\">engine1: Engine</text><line style=\"stroke: #383838; stroke-width: 1.5;\" x1=\"180\" x2=\"290\" y1=\"401.9375\" y2=\"401.9375\"/></a><!--MD5=[ebbe1d658d1005bcc118a6aa81145e00]\n",
       "class E4--><a href=\"psysml:383bc22a-19f8-4697-ba31-98dbfb8a50a3\" target=\"_top\" title=\"psysml:383bc22a-19f8-4697-ba31-98dbfb8a50a3\" xlink:actuate=\"onRequest\" xlink:href=\"psysml:383bc22a-19f8-4697-ba31-98dbfb8a50a3\" xlink:show=\"new\" xlink:title=\"psysml:383bc22a-19f8-4697-ba31-98dbfb8a50a3\" xlink:type=\"simple\"><rect fill=\"#FFFFFF\" height=\"45.9375\" id=\"E4\" rx=\"10\" ry=\"10\" style=\"stroke: #383838; stroke-width: 1.5;\" width=\"112\" x=\"32\" y=\"364\"/><text fill=\"#000000\" font-family=\"sans-serif\" font-size=\"12\" font-style=\"italic\" lengthAdjust=\"spacingAndGlyphs\" textLength=\"40\" x=\"68\" y=\"380.1387\">«part»</text><text fill=\"#000000\" font-family=\"sans-serif\" font-size=\"12\" lengthAdjust=\"spacingAndGlyphs\" textLength=\"102\" x=\"35\" y=\"394.1074\">engine2: Engine</text><line style=\"stroke: #383838; stroke-width: 1.5;\" x1=\"33\" x2=\"143\" y1=\"401.9375\" y2=\"401.9375\"/></a><!--MD5=[2156ba9850f5573cc1fc38a6a4b2f02b]\n",
       "class E7--><a href=\"psysml:e59262b2-24eb-419d-a794-3b71c7229dcc\" target=\"_top\" title=\"psysml:e59262b2-24eb-419d-a794-3b71c7229dcc\" xlink:actuate=\"onRequest\" xlink:href=\"psysml:e59262b2-24eb-419d-a794-3b71c7229dcc\" xlink:show=\"new\" xlink:title=\"psysml:e59262b2-24eb-419d-a794-3b71c7229dcc\" xlink:type=\"simple\"><rect fill=\"#FFFFFF\" height=\"45.9375\" id=\"E7\" rx=\"10\" ry=\"10\" style=\"stroke: #383838; stroke-width: 1.5;\" width=\"129\" x=\"181.5\" y=\"241\"/><text fill=\"#000000\" font-family=\"sans-serif\" font-size=\"12\" font-style=\"italic\" lengthAdjust=\"spacingAndGlyphs\" textLength=\"82\" x=\"205\" y=\"257.1387\">«calculation»</text><text fill=\"#000000\" font-family=\"sans-serif\" font-size=\"12\" lengthAdjust=\"spacingAndGlyphs\" textLength=\"119\" x=\"184.5\" y=\"271.1074\">evaluationFunction</text><line style=\"stroke: #383838; stroke-width: 1.5;\" x1=\"182.5\" x2=\"309.5\" y1=\"278.9375\" y2=\"278.9375\"/></a><!--MD5=[b9389687b975829384b498ac4b7476b2]\n",
       "class E8--><a href=\"psysml:83f46fb2-5a48-4342-a61e-b1e9a3952716\" target=\"_top\" title=\"psysml:83f46fb2-5a48-4342-a61e-b1e9a3952716\" xlink:actuate=\"onRequest\" xlink:href=\"psysml:83f46fb2-5a48-4342-a61e-b1e9a3952716\" xlink:show=\"new\" xlink:title=\"psysml:83f46fb2-5a48-4342-a61e-b1e9a3952716\" xlink:type=\"simple\"><rect fill=\"#FFFFFF\" height=\"45.9375\" id=\"E8\" rx=\"10\" ry=\"10\" style=\"stroke: #383838; stroke-width: 1.5;\" width=\"128\" x=\"363\" y=\"364\"/><text fill=\"#000000\" font-family=\"sans-serif\" font-size=\"12\" font-style=\"italic\" lengthAdjust=\"spacingAndGlyphs\" textLength=\"40\" x=\"407\" y=\"380.1387\">«part»</text><text fill=\"#000000\" font-family=\"sans-serif\" font-size=\"12\" lengthAdjust=\"spacingAndGlyphs\" textLength=\"118\" x=\"366\" y=\"394.1074\">alternative: Engine</text><line style=\"stroke: #383838; stroke-width: 1.5;\" x1=\"364\" x2=\"490\" y1=\"401.9375\" y2=\"401.9375\"/></a><!--MD5=[fd4143e9d270a159db93a4ea2a975926]\n",
       "class E9--><a href=\"psysml:43a96bb2-d059-439d-9037-f3d1363e69c1\" target=\"_top\" title=\"psysml:43a96bb2-d059-439d-9037-f3d1363e69c1\" xlink:actuate=\"onRequest\" xlink:href=\"psysml:43a96bb2-d059-439d-9037-f3d1363e69c1\" xlink:show=\"new\" xlink:title=\"psysml:43a96bb2-d059-439d-9037-f3d1363e69c1\" xlink:type=\"simple\"><rect fill=\"#FFFFFF\" height=\"45.9375\" id=\"E9\" rx=\"10\" ry=\"10\" style=\"stroke: #383838; stroke-width: 1.5;\" width=\"182\" x=\"346\" y=\"241\"/><text fill=\"#000000\" font-family=\"sans-serif\" font-size=\"12\" font-style=\"italic\" lengthAdjust=\"spacingAndGlyphs\" textLength=\"40\" x=\"417\" y=\"257.1387\">«part»</text><text fill=\"#000000\" font-family=\"sans-serif\" font-size=\"12\" lengthAdjust=\"spacingAndGlyphs\" textLength=\"172\" x=\"349\" y=\"271.1074\">selectedAlternative: Engine</text><line style=\"stroke: #383838; stroke-width: 1.5;\" x1=\"347\" x2=\"527\" y1=\"278.9375\" y2=\"278.9375\"/></a><!--MD5=[60a26617385b1d2d0262a64233df1f8d]\n",
       "class E6--><a href=\"psysml:6f716227-75fa-479d-851c-c6728be0ecaf\" target=\"_top\" title=\"psysml:6f716227-75fa-479d-851c-c6728be0ecaf\" xlink:actuate=\"onRequest\" xlink:href=\"psysml:6f716227-75fa-479d-851c-c6728be0ecaf\" xlink:show=\"new\" xlink:title=\"psysml:6f716227-75fa-479d-851c-c6728be0ecaf\" xlink:type=\"simple\"><rect fill=\"#FFFFFF\" height=\"45.9375\" id=\"E6\" rx=\"10\" ry=\"10\" style=\"stroke: #383838; stroke-width: 1.5;\" width=\"132\" x=\"281\" y=\"116\"/><text fill=\"#000000\" font-family=\"sans-serif\" font-size=\"12\" font-style=\"italic\" lengthAdjust=\"spacingAndGlyphs\" textLength=\"70\" x=\"312\" y=\"132.1387\">«objective»</text><text fill=\"#000000\" font-family=\"sans-serif\" font-size=\"12\" lengthAdjust=\"spacingAndGlyphs\" textLength=\"126\" x=\"284\" y=\"146.1074\">tradeStudyObjective</text><line style=\"stroke: #383838; stroke-width: 1.5;\" x1=\"282\" x2=\"412\" y1=\"153.9375\" y2=\"153.9375\"/></a><!--MD5=[05d275557350bfb9b23a4ef7222b4c39]\n",
       "link E3 to E2--><a href=\"psysml:a3c7b902-deb2-42e0-bb2d-9591134be70d\" target=\"_top\" title=\"psysml:a3c7b902-deb2-42e0-bb2d-9591134be70d\" xlink:actuate=\"onRequest\" xlink:href=\"psysml:a3c7b902-deb2-42e0-bb2d-9591134be70d\" xlink:show=\"new\" xlink:title=\"psysml:a3c7b902-deb2-42e0-bb2d-9591134be70d\" xlink:type=\"simple\"><path d=\"M291.41,399 C295.56,399 298.17,399 298.17,399 C298.17,399 298.17,450.52 298.17,450.52 \" fill=\"none\" id=\"E3-&gt;E2\" style=\"stroke: #383838; stroke-width: 1.0;\"/><polygon fill=\"#FFFFFF\" points=\"298.17,470.52,291.17,451.52,305.17,451.52,298.17,470.52\" style=\"stroke: #383838; stroke-width: 1.0;\"/><ellipse cx=\"293.17\" cy=\"445.82\" fill=\"#383838\" rx=\"2\" ry=\"2\" style=\"stroke: #383838; stroke-width: 1.0;\"/><ellipse cx=\"303.17\" cy=\"445.82\" fill=\"#383838\" rx=\"2\" ry=\"2\" style=\"stroke: #383838; stroke-width: 1.0;\"/></a><!--MD5=[185131fc0dcab0a4505a2ebe144e961b]\n",
       "link E4 to E2--><a href=\"psysml:ad9261f0-dda0-42b5-9d6e-43ebe8822407\" target=\"_top\" title=\"psysml:ad9261f0-dda0-42b5-9d6e-43ebe8822407\" xlink:actuate=\"onRequest\" xlink:href=\"psysml:ad9261f0-dda0-42b5-9d6e-43ebe8822407\" xlink:show=\"new\" xlink:title=\"psysml:ad9261f0-dda0-42b5-9d6e-43ebe8822407\" xlink:type=\"simple\"><path d=\"M88,410.27 C88,443.88 88,502 88,502 C88,502 271.99,502 271.99,502 \" fill=\"none\" id=\"E4-&gt;E2\" style=\"stroke: #383838; stroke-width: 1.0;\"/><polygon fill=\"#FFFFFF\" points=\"291.99,502,272.99,509,272.99,495,291.99,502\" style=\"stroke: #383838; stroke-width: 1.0;\"/><ellipse cx=\"267.29\" cy=\"507\" fill=\"#383838\" rx=\"2\" ry=\"2\" style=\"stroke: #383838; stroke-width: 1.0;\"/><ellipse cx=\"267.29\" cy=\"497\" fill=\"#383838\" rx=\"2\" ry=\"2\" style=\"stroke: #383838; stroke-width: 1.0;\"/></a><!--MD5=[15ebcb19ae302d9b601edb458606d402]\n",
       "link E5 to E2--><a href=\"psysml:b52cccfc-b130-477f-adae-4c6f859e452b\" target=\"_top\" title=\"psysml:b52cccfc-b130-477f-adae-4c6f859e452b\" xlink:actuate=\"onRequest\" xlink:href=\"psysml:b52cccfc-b130-477f-adae-4c6f859e452b\" xlink:show=\"new\" xlink:title=\"psysml:b52cccfc-b130-477f-adae-4c6f859e452b\" xlink:type=\"simple\"><path d=\"M237.8435,139 C237.7459,139 237.6475,139 237.5484,139 C236.7558,139 235.9175,139 235.0381,139 C233.2793,139 231.3559,139 229.3038,139 C221.095,139 210.825,139 200.78,139 C180.69,139 161.5,139 161.5,139 C161.5,139 161.5,487 161.5,487 C161.5,487 286.9,487 286.9,487 \" fill=\"none\" id=\"E5-&gt;E2\" style=\"stroke: #383838; stroke-width: 1.0; stroke-dasharray: 7.0,7.0;\"/><polygon fill=\"#383838\" points=\"291.9,487,282.9,483,286.9,487,282.9,491,291.9,487\" style=\"stroke: #383838; stroke-width: 1.0;\"/><text fill=\"#000000\" font-family=\"sans-serif\" font-size=\"13\" lengthAdjust=\"spacingAndGlyphs\" textLength=\"62\" x=\"237\" y=\"330.0669\">«subject»</text></a><!--MD5=[452b418e7f8a40397a49b8c0a78acc5b]\n",
       "reverse link E5 to E7--><a href=\"psysml:226717b4-0db0-47e0-9eef-bae3c4ff0509\" target=\"_top\" title=\"psysml:226717b4-0db0-47e0-9eef-bae3c4ff0509\" xlink:actuate=\"onRequest\" xlink:href=\"psysml:226717b4-0db0-47e0-9eef-bae3c4ff0509\" xlink:show=\"new\" xlink:title=\"psysml:226717b4-0db0-47e0-9eef-bae3c4ff0509\" xlink:type=\"simple\"><path d=\"M246,186.1625 C246,186.8061 246,187.4521 246,188.1001 C246,190.692 246,193.3162 246,195.9537 C246,201.2287 246,206.5567 246,211.7859 C246,222.2444 246,232.3075 246,240.76 \" fill=\"none\" id=\"E5&lt;-E7\" style=\"stroke: #383838; stroke-width: 1.0;\"/><polygon fill=\"#FFFFFF\" points=\"246,186.1625,242,192.1625,246,198.1625,250,192.1625,246,186.1625\" style=\"stroke: #383838; stroke-width: 1.0;\"/></a><!--MD5=[dc164f5e8a733ab456ef1add180e9e34]\n",
       "reverse link E7 to E8--><a href=\"psysml:6f1f84a3-2ac1-458a-baf6-caa888cc195f\" target=\"_top\" title=\"psysml:6f1f84a3-2ac1-458a-baf6-caa888cc195f\" xlink:actuate=\"onRequest\" xlink:href=\"psysml:6f1f84a3-2ac1-458a-baf6-caa888cc195f\" xlink:show=\"new\" xlink:title=\"psysml:6f1f84a3-2ac1-458a-baf6-caa888cc195f\" xlink:type=\"simple\"><path d=\"M304.33,300.21 C304.33,300.21 304.33,376 304.33,376 C304.33,376 333.11,376 362.79,376 \" fill=\"none\" id=\"E7&lt;-E8\" style=\"stroke: #383838; stroke-width: 1.0;\"/><polygon fill=\"#FFFFFF\" points=\"304.33,287.21,300.33,293.21,304.33,299.21,308.33,293.21,304.33,287.21\" style=\"stroke: #383838; stroke-width: 1.0;\"/><text fill=\"#000000\" font-family=\"sans-serif\" font-size=\"13\" lengthAdjust=\"spacingAndGlyphs\" textLength=\"8\" x=\"346.9032\" y=\"370.9391\">1</text></a><!--MD5=[f1f3f9f2fc535e6147756cb86a7f2e32]\n",
       "link E8 to E2--><a href=\"psysml:2bf4d1c6-7bac-40b1-aaaa-83952da67c38\" target=\"_top\" title=\"psysml:2bf4d1c6-7bac-40b1-aaaa-83952da67c38\" xlink:actuate=\"onRequest\" xlink:href=\"psysml:2bf4d1c6-7bac-40b1-aaaa-83952da67c38\" xlink:show=\"new\" xlink:title=\"psysml:2bf4d1c6-7bac-40b1-aaaa-83952da67c38\" xlink:type=\"simple\"><path d=\"M362.66,387 C358.94,387 356.67,387 356.67,387 C356.67,387 356.67,450.78 356.67,450.78 \" fill=\"none\" id=\"E8-&gt;E2\" style=\"stroke: #383838; stroke-width: 1.0;\"/><polygon fill=\"#FFFFFF\" points=\"356.67,470.78,349.67,451.78,363.67,451.78,356.67,470.78\" style=\"stroke: #383838; stroke-width: 1.0;\"/><ellipse cx=\"351.67\" cy=\"446.08\" fill=\"#383838\" rx=\"2\" ry=\"2\" style=\"stroke: #383838; stroke-width: 1.0;\"/><ellipse cx=\"361.67\" cy=\"446.08\" fill=\"#383838\" rx=\"2\" ry=\"2\" style=\"stroke: #383838; stroke-width: 1.0;\"/></a><!--MD5=[9ae28de373ca99bb8a1b38d63370ca7e]\n",
       "reverse link E5 to E9--><a href=\"psysml:eedf805a-a406-401d-b38e-104ba6f0fce6\" target=\"_top\" title=\"psysml:eedf805a-a406-401d-b38e-104ba6f0fce6\" xlink:actuate=\"onRequest\" xlink:href=\"psysml:eedf805a-a406-401d-b38e-104ba6f0fce6\" xlink:show=\"new\" xlink:title=\"psysml:eedf805a-a406-401d-b38e-104ba6f0fce6\" xlink:type=\"simple\"><path d=\"M437.3743,98 C438.0181,98 438.6548,98 439.2842,98 C440.5431,98 441.7729,98 442.9719,98 C445.3698,98 447.6444,98 449.782,98 C454.0571,98 457.7842,98 460.8535,98 C466.9922,98 470.5,98 470.5,98 C470.5,98 470.5,195.31 470.5,240.92 \" fill=\"none\" id=\"E5&lt;-E9\" style=\"stroke: #383838; stroke-width: 1.0;\"/><polygon fill=\"#FFFFFF\" points=\"437.3743,98,443.3743,102,449.3743,98,443.3743,94,437.3743,98\" style=\"stroke: #383838; stroke-width: 1.0;\"/><text fill=\"#000000\" font-family=\"sans-serif\" font-size=\"13\" lengthAdjust=\"spacingAndGlyphs\" textLength=\"8\" x=\"470.4281\" y=\"229.7948\">1</text></a><!--MD5=[5c3bb36fe832a92c7f0e1807dd65209d]\n",
       "link E9 to E2--><a href=\"psysml:3213573e-39ef-4dfb-813d-bdfb08b6e367\" target=\"_top\" title=\"psysml:3213573e-39ef-4dfb-813d-bdfb08b6e367\" xlink:actuate=\"onRequest\" xlink:href=\"psysml:3213573e-39ef-4dfb-813d-bdfb08b6e367\" xlink:show=\"new\" xlink:title=\"psysml:3213573e-39ef-4dfb-813d-bdfb08b6e367\" xlink:type=\"simple\"><path d=\"M351.33,287.32 C351.33,287.32 351.33,450.96 351.33,450.96 \" fill=\"none\" id=\"E9-&gt;E2\" style=\"stroke: #383838; stroke-width: 1.0;\"/><polygon fill=\"#FFFFFF\" points=\"351.33,470.96,344.33,451.96,358.33,451.96,351.33,470.96\" style=\"stroke: #383838; stroke-width: 1.0;\"/><ellipse cx=\"346.33\" cy=\"446.26\" fill=\"#383838\" rx=\"2\" ry=\"2\" style=\"stroke: #383838; stroke-width: 1.0;\"/><ellipse cx=\"356.33\" cy=\"446.26\" fill=\"#383838\" rx=\"2\" ry=\"2\" style=\"stroke: #383838; stroke-width: 1.0;\"/></a><!--MD5=[bb709e687404242ee491dee3d1059f66]\n",
       "@startuml\r\n",
       "skinparam linetype ortho\r\n",
       "skinparam monochrome true\r\n",
       "skinparam classbackgroundcolor white\r\n",
       "skinparam shadowing false\r\n",
       "skinparam wrapWidth 300\r\n",
       "hide circle\r\n",
       "\r\n",
       "package \"TradeStudyTest\" as E1  [[psysml:06d75114-8d09-4304-b9ac-1031eaaad748 ]]  {\r\n",
       "comp def \"Engine\" as E2  <<(T,blue) part  def>> [[psysml:377b66bc-6410-4386-a0f5-58eac70f1599 ]] {\r\n",
       "}\r\n",
       "comp usage \"engine1: Engine \" as E3  <<(T,blue) part>> [[psysml:b73c7ebb-9472-45c7-822b-647f60ba4ebd ]] {\r\n",
       "}\r\n",
       "comp usage \"engine2: Engine \" as E4  <<(T,blue) part>> [[psysml:383bc22a-19f8-4697-ba31-98dbfb8a50a3 ]] {\r\n",
       "}\r\n",
       "rec usage \"engineTradeStudy\" as E5 << analysis>> [[psysml:a2c4dab4-2ddb-42af-80d6-b11f423fabe1 ]] {\r\n",
       "comp usage \"tradeStudyObjective\" as E6  <<objective>> [[psysml:6f716227-75fa-479d-851c-c6728be0ecaf ]] {\r\n",
       "}\r\n",
       "}\r\n",
       "comp usage \"evaluationFunction \" as E7  <<(T,blue) calculation>> [[psysml:e59262b2-24eb-419d-a794-3b71c7229dcc ]] {\r\n",
       "}\r\n",
       "comp usage \"alternative: Engine \" as E8  <<(T,blue) part>> [[psysml:83f46fb2-5a48-4342-a61e-b1e9a3952716 ]] {\r\n",
       "}\r\n",
       "comp usage \"selectedAlternative: Engine \" as E9  <<(T,blue) part>> [[psysml:43a96bb2-d059-439d-9037-f3d1363e69c1 ]] {\r\n",
       "}\r\n",
       "}\r\n",
       "E3 - -:|> E2 [[psysml:a3c7b902-deb2-42e0-bb2d-9591134be70d ]] \r\n",
       "E4 - -:|> E2 [[psysml:ad9261f0-dda0-42b5-9d6e-43ebe8822407 ]] \r\n",
       "E5 ..> E2 [[psysml:b52cccfc-b130-477f-adae-4c6f859e452b ]] : <<subject>>\r\n",
       "E5 o- - E7 [[psysml:226717b4-0db0-47e0-9eef-bae3c4ff0509 ]] \r\n",
       "E7 o- - \"1\"E8 [[psysml:6f1f84a3-2ac1-458a-baf6-caa888cc195f ]] \r\n",
       "E8 - -:|> E2 [[psysml:2bf4d1c6-7bac-40b1-aaaa-83952da67c38 ]] \r\n",
       "E5 o- - \"1\"E9 [[psysml:eedf805a-a406-401d-b38e-104ba6f0fce6 ]] \r\n",
       "E9 - -:|> E2 [[psysml:3213573e-39ef-4dfb-813d-bdfb08b6e367 ]] \r\n",
       "@enduml\r\n",
       "\n",
       "PlantUML version 1.2020.13(Sat Jun 13 12:26:38 UTC 2020)\n",
       "(EPL source distribution)\n",
       "Java Runtime: OpenJDK Runtime Environment\n",
       "JVM: OpenJDK 64-Bit Server VM\n",
       "Default Encoding: UTF-8\n",
       "Language: en\n",
       "Country: null\n",
       "--></g></svg>"
      ]
     },
     "execution_count": 51,
     "metadata": {},
     "output_type": "execute_result"
    }
   ],
   "source": [
    "%viz --style=\"ORTHOLINE\" --view=\"Default\" \"TradeStudyTest\""
   ]
  },
  {
   "cell_type": "code",
   "execution_count": 52,
   "id": "902d3557",
   "metadata": {
    "execution": {
     "iopub.execute_input": "2022-08-19T08:21:19.142184Z",
     "iopub.status.busy": "2022-08-19T08:21:19.141744Z",
     "iopub.status.idle": "2022-08-19T08:21:19.184433Z",
     "shell.execute_reply": "2022-08-19T08:21:19.182985Z"
    }
   },
   "outputs": [
    {
     "data": {
      "image/svg+xml": [
       "<?xml version=\"1.0\" encoding=\"UTF-8\" standalone=\"no\"?><svg xmlns=\"http://www.w3.org/2000/svg\" xmlns:xlink=\"http://www.w3.org/1999/xlink\" contentScriptType=\"application/ecmascript\" contentStyleType=\"text/css\" height=\"497px\" preserveAspectRatio=\"none\" style=\"width:566px;height:497px;\" version=\"1.1\" viewBox=\"0 0 566 497\" width=\"566px\" zoomAndPan=\"magnify\"><defs/><g><!--MD5=[fbc87193dbaf4d95561dea2c320d4a47]\n",
       "cluster E1--><a href=\"psysml:06d75114-8d09-4304-b9ac-1031eaaad748\" target=\"_top\" title=\"psysml:06d75114-8d09-4304-b9ac-1031eaaad748\" xlink:actuate=\"onRequest\" xlink:href=\"psysml:06d75114-8d09-4304-b9ac-1031eaaad748\" xlink:show=\"new\" xlink:title=\"psysml:06d75114-8d09-4304-b9ac-1031eaaad748\" xlink:type=\"simple\"><polygon fill=\"#FFFFFF\" points=\"16,6,132,6,139,28.2969,544,28.2969,544,485,16,485,16,6\" style=\"stroke: #000000; stroke-width: 1.5;\"/><line style=\"stroke: #000000; stroke-width: 1.5;\" x1=\"16\" x2=\"139\" y1=\"28.2969\" y2=\"28.2969\"/><text fill=\"#000000\" font-family=\"sans-serif\" font-size=\"14\" font-weight=\"bold\" lengthAdjust=\"spacingAndGlyphs\" textLength=\"110\" x=\"20\" y=\"20.9951\">TradeStudyTest</text></a><!--MD5=[b4997ac47864f28c2f74865a473b2911]\n",
       "class E2--><a href=\"psysml:377b66bc-6410-4386-a0f5-58eac70f1599\" target=\"_top\" title=\"psysml:377b66bc-6410-4386-a0f5-58eac70f1599\" xlink:actuate=\"onRequest\" xlink:href=\"psysml:377b66bc-6410-4386-a0f5-58eac70f1599\" xlink:show=\"new\" xlink:title=\"psysml:377b66bc-6410-4386-a0f5-58eac70f1599\" xlink:type=\"simple\"><rect fill=\"#FFFFFF\" height=\"45.9375\" id=\"E2\" style=\"stroke: #383838; stroke-width: 1.5;\" width=\"70\" x=\"198\" y=\"423\"/><text fill=\"#000000\" font-family=\"sans-serif\" font-size=\"12\" font-style=\"italic\" lengthAdjust=\"spacingAndGlyphs\" textLength=\"68\" x=\"199\" y=\"439.1387\">«part  def»</text><text fill=\"#000000\" font-family=\"sans-serif\" font-size=\"12\" lengthAdjust=\"spacingAndGlyphs\" textLength=\"43\" x=\"211.5\" y=\"453.1074\">Engine</text><line style=\"stroke: #383838; stroke-width: 1.5;\" x1=\"199\" x2=\"267\" y1=\"460.9375\" y2=\"460.9375\"/></a><!--MD5=[09b614a08d8cba4a07c9adeb5e0fee81]\n",
       "class E3--><a href=\"psysml:b73c7ebb-9472-45c7-822b-647f60ba4ebd\" target=\"_top\" title=\"psysml:b73c7ebb-9472-45c7-822b-647f60ba4ebd\" xlink:actuate=\"onRequest\" xlink:href=\"psysml:b73c7ebb-9472-45c7-822b-647f60ba4ebd\" xlink:show=\"new\" xlink:title=\"psysml:b73c7ebb-9472-45c7-822b-647f60ba4ebd\" xlink:type=\"simple\"><rect fill=\"#FFFFFF\" height=\"45.9375\" id=\"E3\" rx=\"10\" ry=\"10\" style=\"stroke: #383838; stroke-width: 1.5;\" width=\"112\" x=\"416\" y=\"316\"/><text fill=\"#000000\" font-family=\"sans-serif\" font-size=\"12\" font-style=\"italic\" lengthAdjust=\"spacingAndGlyphs\" textLength=\"40\" x=\"452\" y=\"332.1387\">«part»</text><text fill=\"#000000\" font-family=\"sans-serif\" font-size=\"12\" lengthAdjust=\"spacingAndGlyphs\" textLength=\"102\" x=\"419\" y=\"346.1074\">engine1: Engine</text><line style=\"stroke: #383838; stroke-width: 1.5;\" x1=\"417\" x2=\"527\" y1=\"353.9375\" y2=\"353.9375\"/></a><!--MD5=[ebbe1d658d1005bcc118a6aa81145e00]\n",
       "class E4--><a href=\"psysml:383bc22a-19f8-4697-ba31-98dbfb8a50a3\" target=\"_top\" title=\"psysml:383bc22a-19f8-4697-ba31-98dbfb8a50a3\" xlink:actuate=\"onRequest\" xlink:href=\"psysml:383bc22a-19f8-4697-ba31-98dbfb8a50a3\" xlink:show=\"new\" xlink:title=\"psysml:383bc22a-19f8-4697-ba31-98dbfb8a50a3\" xlink:type=\"simple\"><rect fill=\"#FFFFFF\" height=\"45.9375\" id=\"E4\" rx=\"10\" ry=\"10\" style=\"stroke: #383838; stroke-width: 1.5;\" width=\"112\" x=\"269\" y=\"316\"/><text fill=\"#000000\" font-family=\"sans-serif\" font-size=\"12\" font-style=\"italic\" lengthAdjust=\"spacingAndGlyphs\" textLength=\"40\" x=\"305\" y=\"332.1387\">«part»</text><text fill=\"#000000\" font-family=\"sans-serif\" font-size=\"12\" lengthAdjust=\"spacingAndGlyphs\" textLength=\"102\" x=\"272\" y=\"346.1074\">engine2: Engine</text><line style=\"stroke: #383838; stroke-width: 1.5;\" x1=\"270\" x2=\"380\" y1=\"353.9375\" y2=\"353.9375\"/></a><!--MD5=[270fce915f116d4de14055a7c1d9a0f3]\n",
       "class E5--><a href=\"psysml:a2c4dab4-2ddb-42af-80d6-b11f423fabe1\" target=\"_top\" title=\"psysml:a2c4dab4-2ddb-42af-80d6-b11f423fabe1\" xlink:actuate=\"onRequest\" xlink:href=\"psysml:a2c4dab4-2ddb-42af-80d6-b11f423fabe1\" xlink:show=\"new\" xlink:title=\"psysml:a2c4dab4-2ddb-42af-80d6-b11f423fabe1\" xlink:type=\"simple\"><rect fill=\"#FFFFFF\" height=\"45.9375\" id=\"E5\" rx=\"10\" ry=\"10\" style=\"stroke: #383838; stroke-width: 1.5;\" width=\"203\" x=\"238.5\" y=\"41\"/><text fill=\"#000000\" font-family=\"sans-serif\" font-size=\"12\" font-style=\"italic\" lengthAdjust=\"spacingAndGlyphs\" textLength=\"64\" x=\"308\" y=\"57.1387\">«analysis»</text><text fill=\"#000000\" font-family=\"sans-serif\" font-size=\"12\" lengthAdjust=\"spacingAndGlyphs\" textLength=\"193\" x=\"241.5\" y=\"71.1074\">engineTradeStudy: TradeStudy</text><line style=\"stroke: #383838; stroke-width: 1.5;\" x1=\"239.5\" x2=\"440.5\" y1=\"78.9375\" y2=\"78.9375\"/></a><!--MD5=[60a26617385b1d2d0262a64233df1f8d]\n",
       "class E6--><a href=\"psysml:6f716227-75fa-479d-851c-c6728be0ecaf\" target=\"_top\" title=\"psysml:6f716227-75fa-479d-851c-c6728be0ecaf\" xlink:actuate=\"onRequest\" xlink:href=\"psysml:6f716227-75fa-479d-851c-c6728be0ecaf\" xlink:show=\"new\" xlink:title=\"psysml:6f716227-75fa-479d-851c-c6728be0ecaf\" xlink:type=\"simple\"><rect fill=\"#FFFFFF\" height=\"45.9375\" id=\"E6\" rx=\"10\" ry=\"10\" style=\"stroke: #383838; stroke-width: 1.5;\" width=\"255\" x=\"71.5\" y=\"164\"/><text fill=\"#000000\" font-family=\"sans-serif\" font-size=\"12\" font-style=\"italic\" lengthAdjust=\"spacingAndGlyphs\" textLength=\"91\" x=\"153.5\" y=\"180.1387\">«requirement»</text><text fill=\"#000000\" font-family=\"sans-serif\" font-size=\"12\" lengthAdjust=\"spacingAndGlyphs\" textLength=\"245\" x=\"74.5\" y=\"194.1074\">tradeStudyObjective: MaximizeObjective</text><line style=\"stroke: #383838; stroke-width: 1.5;\" x1=\"72.5\" x2=\"325.5\" y1=\"201.9375\" y2=\"201.9375\"/></a><!--MD5=[2156ba9850f5573cc1fc38a6a4b2f02b]\n",
       "class E7--><a href=\"psysml:e59262b2-24eb-419d-a794-3b71c7229dcc\" target=\"_top\" title=\"psysml:e59262b2-24eb-419d-a794-3b71c7229dcc\" xlink:actuate=\"onRequest\" xlink:href=\"psysml:e59262b2-24eb-419d-a794-3b71c7229dcc\" xlink:show=\"new\" xlink:title=\"psysml:e59262b2-24eb-419d-a794-3b71c7229dcc\" xlink:type=\"simple\"><rect fill=\"#FFFFFF\" height=\"45.9375\" id=\"E7\" rx=\"10\" ry=\"10\" style=\"stroke: #383838; stroke-width: 1.5;\" width=\"129\" x=\"361.5\" y=\"164\"/><text fill=\"#000000\" font-family=\"sans-serif\" font-size=\"12\" font-style=\"italic\" lengthAdjust=\"spacingAndGlyphs\" textLength=\"82\" x=\"385\" y=\"180.1387\">«calculation»</text><text fill=\"#000000\" font-family=\"sans-serif\" font-size=\"12\" lengthAdjust=\"spacingAndGlyphs\" textLength=\"119\" x=\"364.5\" y=\"194.1074\">evaluationFunction</text><line style=\"stroke: #383838; stroke-width: 1.5;\" x1=\"362.5\" x2=\"489.5\" y1=\"201.9375\" y2=\"201.9375\"/></a><!--MD5=[b9389687b975829384b498ac4b7476b2]\n",
       "class E8--><a href=\"psysml:83f46fb2-5a48-4342-a61e-b1e9a3952716\" target=\"_top\" title=\"psysml:83f46fb2-5a48-4342-a61e-b1e9a3952716\" xlink:actuate=\"onRequest\" xlink:href=\"psysml:83f46fb2-5a48-4342-a61e-b1e9a3952716\" xlink:show=\"new\" xlink:title=\"psysml:83f46fb2-5a48-4342-a61e-b1e9a3952716\" xlink:type=\"simple\"><rect fill=\"#FFFFFF\" height=\"45.9375\" id=\"E8\" rx=\"10\" ry=\"10\" style=\"stroke: #383838; stroke-width: 1.5;\" width=\"128\" x=\"69\" y=\"316\"/><text fill=\"#000000\" font-family=\"sans-serif\" font-size=\"12\" font-style=\"italic\" lengthAdjust=\"spacingAndGlyphs\" textLength=\"40\" x=\"113\" y=\"332.1387\">«part»</text><text fill=\"#000000\" font-family=\"sans-serif\" font-size=\"12\" lengthAdjust=\"spacingAndGlyphs\" textLength=\"118\" x=\"72\" y=\"346.1074\">alternative: Engine</text><line style=\"stroke: #383838; stroke-width: 1.5;\" x1=\"70\" x2=\"196\" y1=\"353.9375\" y2=\"353.9375\"/></a><!--MD5=[fd4143e9d270a159db93a4ea2a975926]\n",
       "class E9--><a href=\"psysml:43a96bb2-d059-439d-9037-f3d1363e69c1\" target=\"_top\" title=\"psysml:43a96bb2-d059-439d-9037-f3d1363e69c1\" xlink:actuate=\"onRequest\" xlink:href=\"psysml:43a96bb2-d059-439d-9037-f3d1363e69c1\" xlink:show=\"new\" xlink:title=\"psysml:43a96bb2-d059-439d-9037-f3d1363e69c1\" xlink:type=\"simple\"><rect fill=\"#FFFFFF\" height=\"45.9375\" id=\"E9\" rx=\"10\" ry=\"10\" style=\"stroke: #383838; stroke-width: 1.5;\" width=\"182\" x=\"295\" y=\"240\"/><text fill=\"#000000\" font-family=\"sans-serif\" font-size=\"12\" font-style=\"italic\" lengthAdjust=\"spacingAndGlyphs\" textLength=\"40\" x=\"366\" y=\"256.1387\">«part»</text><text fill=\"#000000\" font-family=\"sans-serif\" font-size=\"12\" lengthAdjust=\"spacingAndGlyphs\" textLength=\"172\" x=\"298\" y=\"270.1074\">selectedAlternative: Engine</text><line style=\"stroke: #383838; stroke-width: 1.5;\" x1=\"296\" x2=\"476\" y1=\"277.9375\" y2=\"277.9375\"/></a><!--MD5=[05d275557350bfb9b23a4ef7222b4c39]\n",
       "link E3 to E2--><a href=\"psysml:a3c7b902-deb2-42e0-bb2d-9591134be70d\" target=\"_top\" title=\"psysml:a3c7b902-deb2-42e0-bb2d-9591134be70d\" xlink:actuate=\"onRequest\" xlink:href=\"psysml:a3c7b902-deb2-42e0-bb2d-9591134be70d\" xlink:show=\"new\" xlink:title=\"psysml:a3c7b902-deb2-42e0-bb2d-9591134be70d\" xlink:type=\"simple\"><path d=\"M472,362.22 C472,393.69 472,446 472,446 C472,446 288.01,446 288.01,446 \" fill=\"none\" id=\"E3-&gt;E2\" style=\"stroke: #383838; stroke-width: 1.0;\"/><polygon fill=\"#FFFFFF\" points=\"268.01,446,287.01,439,287.01,453,268.01,446\" style=\"stroke: #383838; stroke-width: 1.0;\"/><ellipse cx=\"292.71\" cy=\"441\" fill=\"#383838\" rx=\"2\" ry=\"2\" style=\"stroke: #383838; stroke-width: 1.0;\"/><ellipse cx=\"292.71\" cy=\"451\" fill=\"#383838\" rx=\"2\" ry=\"2\" style=\"stroke: #383838; stroke-width: 1.0;\"/></a><!--MD5=[185131fc0dcab0a4505a2ebe144e961b]\n",
       "link E4 to E2--><a href=\"psysml:ad9261f0-dda0-42b5-9d6e-43ebe8822407\" target=\"_top\" title=\"psysml:ad9261f0-dda0-42b5-9d6e-43ebe8822407\" xlink:actuate=\"onRequest\" xlink:href=\"psysml:ad9261f0-dda0-42b5-9d6e-43ebe8822407\" xlink:show=\"new\" xlink:title=\"psysml:ad9261f0-dda0-42b5-9d6e-43ebe8822407\" xlink:type=\"simple\"><path d=\"M268.71,347 C260.09,347 254,347 254,347 C254,347 254,402.79 254,402.79 \" fill=\"none\" id=\"E4-&gt;E2\" style=\"stroke: #383838; stroke-width: 1.0;\"/><polygon fill=\"#FFFFFF\" points=\"254,422.79,247,403.79,261,403.79,254,422.79\" style=\"stroke: #383838; stroke-width: 1.0;\"/><ellipse cx=\"249\" cy=\"398.09\" fill=\"#383838\" rx=\"2\" ry=\"2\" style=\"stroke: #383838; stroke-width: 1.0;\"/><ellipse cx=\"259\" cy=\"398.09\" fill=\"#383838\" rx=\"2\" ry=\"2\" style=\"stroke: #383838; stroke-width: 1.0;\"/></a><!--MD5=[15ebcb19ae302d9b601edb458606d402]\n",
       "link E5 to E2--><a href=\"psysml:b52cccfc-b130-477f-adae-4c6f859e452b\" target=\"_top\" title=\"psysml:b52cccfc-b130-477f-adae-4c6f859e452b\" xlink:actuate=\"onRequest\" xlink:href=\"psysml:b52cccfc-b130-477f-adae-4c6f859e452b\" xlink:show=\"new\" xlink:title=\"psysml:b52cccfc-b130-477f-adae-4c6f859e452b\" xlink:type=\"simple\"><path d=\"M338.17,87.02 C338.17,130.41 338.17,220 338.17,220 C338.17,220 226,220 226,220 C226,220 226,417.67 226,417.67 \" fill=\"none\" id=\"E5-&gt;E2\" style=\"stroke: #383838; stroke-width: 1.0; stroke-dasharray: 7.0,7.0;\"/><polygon fill=\"#383838\" points=\"226,422.67,230,413.67,226,417.67,222,413.67,226,422.67\" style=\"stroke: #383838; stroke-width: 1.0;\"/><text fill=\"#000000\" font-family=\"sans-serif\" font-size=\"13\" lengthAdjust=\"spacingAndGlyphs\" textLength=\"62\" x=\"68\" y=\"267.5669\">«subject»</text></a><!--MD5=[9120cf2e5df3bff93db8f754bbbc09b4]\n",
       "link E5 to E6--><a href=\"psysml:be121dac-af46-4d47-896b-f9a14a0b4d3b\" target=\"_top\" title=\"psysml:be121dac-af46-4d47-896b-f9a14a0b4d3b\" xlink:actuate=\"onRequest\" xlink:href=\"psysml:be121dac-af46-4d47-896b-f9a14a0b4d3b\" xlink:show=\"new\" xlink:title=\"psysml:be121dac-af46-4d47-896b-f9a14a0b4d3b\" xlink:type=\"simple\"><path d=\"M282.5,87.14 C282.5,87.14 282.5,155.97 282.5,155.97 \" fill=\"none\" id=\"E5-&gt;E6\" style=\"stroke: #383838; stroke-width: 1.0;\"/><polygon fill=\"#383838\" points=\"282.5,163.97,285.5,155.97,279.5,155.97,282.5,163.97\" style=\"stroke: #383838; stroke-width: 1.0;\"/><text fill=\"#000000\" font-family=\"sans-serif\" font-size=\"13\" lengthAdjust=\"spacingAndGlyphs\" textLength=\"73\" x=\"228\" y=\"130.0669\">«objective»</text></a><!--MD5=[452b418e7f8a40397a49b8c0a78acc5b]\n",
       "reverse link E5 to E7--><a href=\"psysml:226717b4-0db0-47e0-9eef-bae3c4ff0509\" target=\"_top\" title=\"psysml:226717b4-0db0-47e0-9eef-bae3c4ff0509\" xlink:actuate=\"onRequest\" xlink:href=\"psysml:226717b4-0db0-47e0-9eef-bae3c4ff0509\" xlink:show=\"new\" xlink:title=\"psysml:226717b4-0db0-47e0-9eef-bae3c4ff0509\" xlink:type=\"simple\"><path d=\"M401.5,100.14 C401.5,100.14 401.5,163.97 401.5,163.97 \" fill=\"none\" id=\"E5&lt;-E7\" style=\"stroke: #383838; stroke-width: 1.0;\"/><polygon fill=\"#FFFFFF\" points=\"401.5,87.14,397.5,93.14,401.5,99.14,405.5,93.14,401.5,87.14\" style=\"stroke: #383838; stroke-width: 1.0;\"/></a><!--MD5=[dc164f5e8a733ab456ef1add180e9e34]\n",
       "reverse link E7 to E8--><a href=\"psysml:6f1f84a3-2ac1-458a-baf6-caa888cc195f\" target=\"_top\" title=\"psysml:6f1f84a3-2ac1-458a-baf6-caa888cc195f\" xlink:actuate=\"onRequest\" xlink:href=\"psysml:6f1f84a3-2ac1-458a-baf6-caa888cc195f\" xlink:show=\"new\" xlink:title=\"psysml:6f1f84a3-2ac1-458a-baf6-caa888cc195f\" xlink:type=\"simple\"><path d=\"M419.25,223.01 C419.25,223.01 419.25,230 419.25,230 C419.25,230 134.25,230 134.25,230 C134.25,230 134.25,283.89 134.25,315.88 \" fill=\"none\" id=\"E7&lt;-E8\" style=\"stroke: #383838; stroke-width: 1.0;\"/><polygon fill=\"#FFFFFF\" points=\"419.25,210.01,415.25,216.01,419.25,222.01,423.25,216.01,419.25,210.01\" style=\"stroke: #383838; stroke-width: 1.0;\"/><text fill=\"#000000\" font-family=\"sans-serif\" font-size=\"13\" lengthAdjust=\"spacingAndGlyphs\" textLength=\"8\" x=\"125.5109\" y=\"304.744\">1</text></a><!--MD5=[f1f3f9f2fc535e6147756cb86a7f2e32]\n",
       "link E8 to E2--><a href=\"psysml:2bf4d1c6-7bac-40b1-aaaa-83952da67c38\" target=\"_top\" title=\"psysml:2bf4d1c6-7bac-40b1-aaaa-83952da67c38\" xlink:actuate=\"onRequest\" xlink:href=\"psysml:2bf4d1c6-7bac-40b1-aaaa-83952da67c38\" xlink:show=\"new\" xlink:title=\"psysml:2bf4d1c6-7bac-40b1-aaaa-83952da67c38\" xlink:type=\"simple\"><path d=\"M197.14,332 C205.92,332 212,332 212,332 C212,332 212,402.93 212,402.93 \" fill=\"none\" id=\"E8-&gt;E2\" style=\"stroke: #383838; stroke-width: 1.0;\"/><polygon fill=\"#FFFFFF\" points=\"212,422.93,205,403.93,219,403.93,212,422.93\" style=\"stroke: #383838; stroke-width: 1.0;\"/><ellipse cx=\"207\" cy=\"398.23\" fill=\"#383838\" rx=\"2\" ry=\"2\" style=\"stroke: #383838; stroke-width: 1.0;\"/><ellipse cx=\"217\" cy=\"398.23\" fill=\"#383838\" rx=\"2\" ry=\"2\" style=\"stroke: #383838; stroke-width: 1.0;\"/></a><!--MD5=[9ae28de373ca99bb8a1b38d63370ca7e]\n",
       "reverse link E5 to E9--><a href=\"psysml:eedf805a-a406-401d-b38e-104ba6f0fce6\" target=\"_top\" title=\"psysml:eedf805a-a406-401d-b38e-104ba6f0fce6\" xlink:actuate=\"onRequest\" xlink:href=\"psysml:eedf805a-a406-401d-b38e-104ba6f0fce6\" xlink:show=\"new\" xlink:title=\"psysml:eedf805a-a406-401d-b38e-104ba6f0fce6\" xlink:type=\"simple\"><path d=\"M349.83,100.22 C349.83,100.22 349.83,239.93 349.83,239.93 \" fill=\"none\" id=\"E5&lt;-E9\" style=\"stroke: #383838; stroke-width: 1.0;\"/><polygon fill=\"#FFFFFF\" points=\"349.83,87.22,345.83,93.22,349.83,99.22,353.83,93.22,349.83,87.22\" style=\"stroke: #383838; stroke-width: 1.0;\"/><text fill=\"#000000\" font-family=\"sans-serif\" font-size=\"13\" lengthAdjust=\"spacingAndGlyphs\" textLength=\"8\" x=\"331.0343\" y=\"228.8075\">1</text></a><!--MD5=[5c3bb36fe832a92c7f0e1807dd65209d]\n",
       "link E9 to E2--><a href=\"psysml:3213573e-39ef-4dfb-813d-bdfb08b6e367\" target=\"_top\" title=\"psysml:3213573e-39ef-4dfb-813d-bdfb08b6e367\" xlink:actuate=\"onRequest\" xlink:href=\"psysml:3213573e-39ef-4dfb-813d-bdfb08b6e367\" xlink:show=\"new\" xlink:title=\"psysml:3213573e-39ef-4dfb-813d-bdfb08b6e367\" xlink:type=\"simple\"><path d=\"M294.78,263 C265.27,263 240,263 240,263 C240,263 240,402.82 240,402.82 \" fill=\"none\" id=\"E9-&gt;E2\" style=\"stroke: #383838; stroke-width: 1.0;\"/><polygon fill=\"#FFFFFF\" points=\"240,422.82,233,403.82,247,403.82,240,422.82\" style=\"stroke: #383838; stroke-width: 1.0;\"/><ellipse cx=\"235\" cy=\"398.12\" fill=\"#383838\" rx=\"2\" ry=\"2\" style=\"stroke: #383838; stroke-width: 1.0;\"/><ellipse cx=\"245\" cy=\"398.12\" fill=\"#383838\" rx=\"2\" ry=\"2\" style=\"stroke: #383838; stroke-width: 1.0;\"/></a><!--MD5=[819dd6c287c68678f19ae17d24feb704]\n",
       "@startuml\r\n",
       "skinparam linetype ortho\r\n",
       "skinparam monochrome true\r\n",
       "skinparam classbackgroundcolor white\r\n",
       "skinparam shadowing false\r\n",
       "skinparam wrapWidth 300\r\n",
       "hide circle\r\n",
       "\r\n",
       "package \"TradeStudyTest\" as E1  [[psysml:06d75114-8d09-4304-b9ac-1031eaaad748 ]]  {\r\n",
       "comp def \"Engine\" as E2  <<(T,blue) part  def>> [[psysml:377b66bc-6410-4386-a0f5-58eac70f1599 ]] {\r\n",
       "}\r\n",
       "comp usage \"engine1: Engine \" as E3  <<(T,blue) part>> [[psysml:b73c7ebb-9472-45c7-822b-647f60ba4ebd ]] {\r\n",
       "}\r\n",
       "comp usage \"engine2: Engine \" as E4  <<(T,blue) part>> [[psysml:383bc22a-19f8-4697-ba31-98dbfb8a50a3 ]] {\r\n",
       "}\r\n",
       "comp usage \"engineTradeStudy: TradeStudy \" as E5 << analysis>> [[psysml:a2c4dab4-2ddb-42af-80d6-b11f423fabe1 ]] {\r\n",
       "}\r\n",
       "comp usage \"tradeStudyObjective: MaximizeObjective \" as E6  <<(T,blue) requirement>> [[psysml:6f716227-75fa-479d-851c-c6728be0ecaf ]] {\r\n",
       "}\r\n",
       "comp usage \"evaluationFunction \" as E7  <<(T,blue) calculation>> [[psysml:e59262b2-24eb-419d-a794-3b71c7229dcc ]] {\r\n",
       "}\r\n",
       "comp usage \"alternative: Engine \" as E8  <<(T,blue) part>> [[psysml:83f46fb2-5a48-4342-a61e-b1e9a3952716 ]] {\r\n",
       "}\r\n",
       "comp usage \"selectedAlternative: Engine \" as E9  <<(T,blue) part>> [[psysml:43a96bb2-d059-439d-9037-f3d1363e69c1 ]] {\r\n",
       "}\r\n",
       "}\r\n",
       "E3 - -:|> E2 [[psysml:a3c7b902-deb2-42e0-bb2d-9591134be70d ]] \r\n",
       "E4 - -:|> E2 [[psysml:ad9261f0-dda0-42b5-9d6e-43ebe8822407 ]] \r\n",
       "E5 ..> E2 [[psysml:b52cccfc-b130-477f-adae-4c6f859e452b ]] : <<subject>>\r\n",
       "E5 - ->> E6 [[psysml:be121dac-af46-4d47-896b-f9a14a0b4d3b ]] : <<objective>>\r\n",
       "E5 o- - E7 [[psysml:226717b4-0db0-47e0-9eef-bae3c4ff0509 ]] \r\n",
       "E7 o- - \"1\"E8 [[psysml:6f1f84a3-2ac1-458a-baf6-caa888cc195f ]] \r\n",
       "E8 - -:|> E2 [[psysml:2bf4d1c6-7bac-40b1-aaaa-83952da67c38 ]] \r\n",
       "E5 o- - \"1\"E9 [[psysml:eedf805a-a406-401d-b38e-104ba6f0fce6 ]] \r\n",
       "E9 - -:|> E2 [[psysml:3213573e-39ef-4dfb-813d-bdfb08b6e367 ]] \r\n",
       "@enduml\r\n",
       "\n",
       "PlantUML version 1.2020.13(Sat Jun 13 12:26:38 UTC 2020)\n",
       "(EPL source distribution)\n",
       "Java Runtime: OpenJDK Runtime Environment\n",
       "JVM: OpenJDK 64-Bit Server VM\n",
       "Default Encoding: UTF-8\n",
       "Language: en\n",
       "Country: null\n",
       "--></g></svg>"
      ]
     },
     "execution_count": 52,
     "metadata": {},
     "output_type": "execute_result"
    }
   ],
   "source": [
    "%viz --style=\"ORTHOLINE\" --view=\"Tree\" \"TradeStudyTest\""
   ]
  },
  {
   "cell_type": "code",
   "execution_count": 53,
   "id": "3cd2bb31",
   "metadata": {
    "execution": {
     "iopub.execute_input": "2022-08-19T08:21:19.233993Z",
     "iopub.status.busy": "2022-08-19T08:21:19.233549Z",
     "iopub.status.idle": "2022-08-19T08:21:19.241688Z",
     "shell.execute_reply": "2022-08-19T08:21:19.241312Z"
    }
   },
   "outputs": [
    {
     "data": {
      "image/svg+xml": [
       "<?xml version=\"1.0\" encoding=\"UTF-8\" standalone=\"no\"?><svg xmlns=\"http://www.w3.org/2000/svg\" xmlns:xlink=\"http://www.w3.org/1999/xlink\" contentScriptType=\"application/ecmascript\" contentStyleType=\"text/css\" height=\"12px\" preserveAspectRatio=\"none\" style=\"width:12px;height:12px;\" version=\"1.1\" viewBox=\"0 0 12 12\" width=\"12px\" zoomAndPan=\"magnify\"><defs/><g><!--MD5=[97d6f38768b311333d388e66b2b27985]\n",
       "@startuml\r\n",
       "skinparam linetype ortho\r\n",
       "skinparam monochrome true\r\n",
       "skinparam classbackgroundcolor white\r\n",
       "skinparam shadowing false\r\n",
       "skinparam wrapWidth 300\r\n",
       "hide circle\r\n",
       "\r\n",
       "@enduml\r\n",
       "\n",
       "PlantUML version 1.2020.13(Sat Jun 13 12:26:38 UTC 2020)\n",
       "(EPL source distribution)\n",
       "Java Runtime: OpenJDK Runtime Environment\n",
       "JVM: OpenJDK 64-Bit Server VM\n",
       "Default Encoding: UTF-8\n",
       "Language: en\n",
       "Country: null\n",
       "--></g></svg>"
      ]
     },
     "execution_count": 53,
     "metadata": {},
     "output_type": "execute_result"
    }
   ],
   "source": [
    "%viz --style=\"ORTHOLINE\" --view=\"State\" \"TradeStudyTest\""
   ]
  },
  {
   "cell_type": "code",
   "execution_count": 54,
   "id": "5607a881",
   "metadata": {
    "execution": {
     "iopub.execute_input": "2022-08-19T08:21:19.291234Z",
     "iopub.status.busy": "2022-08-19T08:21:19.290793Z",
     "iopub.status.idle": "2022-08-19T08:21:19.339802Z",
     "shell.execute_reply": "2022-08-19T08:21:19.338178Z"
    }
   },
   "outputs": [
    {
     "data": {
      "image/svg+xml": [
       "<?xml version=\"1.0\" encoding=\"UTF-8\" standalone=\"no\"?><svg xmlns=\"http://www.w3.org/2000/svg\" xmlns:xlink=\"http://www.w3.org/1999/xlink\" contentScriptType=\"application/ecmascript\" contentStyleType=\"text/css\" height=\"426px\" preserveAspectRatio=\"none\" style=\"width:569px;height:426px;\" version=\"1.1\" viewBox=\"0 0 569 426\" width=\"569px\" zoomAndPan=\"magnify\"><defs/><g><!--MD5=[fbc87193dbaf4d95561dea2c320d4a47]\n",
       "cluster E1--><a href=\"psysml:06d75114-8d09-4304-b9ac-1031eaaad748\" target=\"_top\" title=\"psysml:06d75114-8d09-4304-b9ac-1031eaaad748\" xlink:actuate=\"onRequest\" xlink:href=\"psysml:06d75114-8d09-4304-b9ac-1031eaaad748\" xlink:show=\"new\" xlink:title=\"psysml:06d75114-8d09-4304-b9ac-1031eaaad748\" xlink:type=\"simple\"><polygon fill=\"#FFFFFF\" points=\"16,6,132,6,139,28.2969,547,28.2969,547,414,16,414,16,6\" style=\"stroke: #000000; stroke-width: 1.5;\"/><line style=\"stroke: #000000; stroke-width: 1.5;\" x1=\"16\" x2=\"139\" y1=\"28.2969\" y2=\"28.2969\"/><text fill=\"#000000\" font-family=\"sans-serif\" font-size=\"14\" font-weight=\"bold\" lengthAdjust=\"spacingAndGlyphs\" textLength=\"110\" x=\"20\" y=\"20.9951\">TradeStudyTest</text></a><!--MD5=[de5ec2e2e8f62f467e546659f5068c88]\n",
       "cluster E5--><a href=\"psysml:a2c4dab4-2ddb-42af-80d6-b11f423fabe1\" target=\"_top\" title=\"psysml:a2c4dab4-2ddb-42af-80d6-b11f423fabe1\" xlink:actuate=\"onRequest\" xlink:href=\"psysml:a2c4dab4-2ddb-42af-80d6-b11f423fabe1\" xlink:show=\"new\" xlink:title=\"psysml:a2c4dab4-2ddb-42af-80d6-b11f423fabe1\" xlink:type=\"simple\"><rect fill=\"#FFFFFF\" height=\"129\" id=\"E5\" rx=\"10\" ry=\"10\" style=\"stroke: #383838; stroke-width: 1.5;\" width=\"199\" x=\"316\" y=\"57\"/><rect fill=\"#F8F8F8\" height=\"37.9375\" rx=\"10\" ry=\"10\" style=\"stroke: #F8F8F8; stroke-width: 1.5;\" width=\"199\" x=\"316\" y=\"57\"/><rect fill=\"#F8F8F8\" height=\"10\" style=\"stroke: #F8F8F8; stroke-width: 1.5;\" width=\"199\" x=\"316\" y=\"84.9375\"/><rect fill=\"none\" height=\"129\" id=\"E5\" rx=\"10\" ry=\"10\" style=\"stroke: #383838; stroke-width: 1.5;\" width=\"199\" x=\"316\" y=\"57\"/><text fill=\"#000000\" font-family=\"sans-serif\" font-size=\"12\" font-style=\"italic\" lengthAdjust=\"spacingAndGlyphs\" textLength=\"64\" x=\"383.5\" y=\"73.1387\">«analysis»</text><text fill=\"#000000\" font-family=\"sans-serif\" font-size=\"12\" lengthAdjust=\"spacingAndGlyphs\" textLength=\"114\" x=\"358.5\" y=\"87.1074\">engineTradeStudy</text><line style=\"stroke: #383838; stroke-width: 1.0;\" x1=\"316\" x2=\"515\" y1=\"94.9375\" y2=\"94.9375\"/></a><!--MD5=[2156ba9850f5573cc1fc38a6a4b2f02b]\n",
       "class E7--><a href=\"psysml:e59262b2-24eb-419d-a794-3b71c7229dcc\" target=\"_top\" title=\"psysml:e59262b2-24eb-419d-a794-3b71c7229dcc\" xlink:actuate=\"onRequest\" xlink:href=\"psysml:e59262b2-24eb-419d-a794-3b71c7229dcc\" xlink:show=\"new\" xlink:title=\"psysml:e59262b2-24eb-419d-a794-3b71c7229dcc\" xlink:type=\"simple\"><rect fill=\"#FFFFFF\" height=\"45.9375\" id=\"E7\" rx=\"10\" ry=\"10\" style=\"stroke: #383838; stroke-width: 1.5;\" width=\"129\" x=\"84.5\" y=\"219\"/><text fill=\"#000000\" font-family=\"sans-serif\" font-size=\"12\" font-style=\"italic\" lengthAdjust=\"spacingAndGlyphs\" textLength=\"82\" x=\"108\" y=\"235.1387\">«calculation»</text><text fill=\"#000000\" font-family=\"sans-serif\" font-size=\"12\" lengthAdjust=\"spacingAndGlyphs\" textLength=\"119\" x=\"87.5\" y=\"249.1074\">evaluationFunction</text><line style=\"stroke: #383838; stroke-width: 1.5;\" x1=\"85.5\" x2=\"212.5\" y1=\"256.9375\" y2=\"256.9375\"/></a><!--MD5=[b9389687b975829384b498ac4b7476b2]\n",
       "class E8--><a href=\"psysml:83f46fb2-5a48-4342-a61e-b1e9a3952716\" target=\"_top\" title=\"psysml:83f46fb2-5a48-4342-a61e-b1e9a3952716\" xlink:actuate=\"onRequest\" xlink:href=\"psysml:83f46fb2-5a48-4342-a61e-b1e9a3952716\" xlink:show=\"new\" xlink:title=\"psysml:83f46fb2-5a48-4342-a61e-b1e9a3952716\" xlink:type=\"simple\"><rect fill=\"#FFFFFF\" height=\"31.9688\" id=\"E8\" rx=\"10\" ry=\"10\" style=\"stroke: #383838; stroke-width: 1.5;\" width=\"128\" x=\"329\" y=\"302\"/><text fill=\"#000000\" font-family=\"sans-serif\" font-size=\"12\" lengthAdjust=\"spacingAndGlyphs\" textLength=\"118\" x=\"332\" y=\"318.1387\">alternative: Engine</text><line style=\"stroke: #383838; stroke-width: 1.5;\" x1=\"330\" x2=\"456\" y1=\"325.9688\" y2=\"325.9688\"/></a><!--MD5=[fd4143e9d270a159db93a4ea2a975926]\n",
       "class E9--><a href=\"psysml:43a96bb2-d059-439d-9037-f3d1363e69c1\" target=\"_top\" title=\"psysml:43a96bb2-d059-439d-9037-f3d1363e69c1\" xlink:actuate=\"onRequest\" xlink:href=\"psysml:43a96bb2-d059-439d-9037-f3d1363e69c1\" xlink:show=\"new\" xlink:title=\"psysml:43a96bb2-d059-439d-9037-f3d1363e69c1\" xlink:type=\"simple\"><rect fill=\"#FFFFFF\" height=\"31.9688\" id=\"E9\" rx=\"10\" ry=\"10\" style=\"stroke: #383838; stroke-width: 1.5;\" width=\"182\" x=\"249\" y=\"226\"/><text fill=\"#000000\" font-family=\"sans-serif\" font-size=\"12\" lengthAdjust=\"spacingAndGlyphs\" textLength=\"172\" x=\"252\" y=\"242.1387\">selectedAlternative: Engine</text><line style=\"stroke: #383838; stroke-width: 1.5;\" x1=\"250\" x2=\"430\" y1=\"249.9688\" y2=\"249.9688\"/></a><g id=\"E1.E2\"><a href=\"psysml:377b66bc-6410-4386-a0f5-58eac70f1599\" target=\"_top\" title=\"psysml:377b66bc-6410-4386-a0f5-58eac70f1599\" xlink:actuate=\"onRequest\" xlink:href=\"psysml:377b66bc-6410-4386-a0f5-58eac70f1599\" xlink:show=\"new\" xlink:title=\"psysml:377b66bc-6410-4386-a0f5-58eac70f1599\" xlink:type=\"simple\"><rect fill=\"#FFFFFF\" height=\"42.9375\" id=\"E2\" style=\"stroke: #383838; stroke-width: 1.5;\" width=\"75\" x=\"355.5\" y=\"355\"/><rect fill=\"#F8F8F8\" height=\"37.9375\" style=\"stroke: #383838; stroke-width: 1.5;\" width=\"75\" x=\"355.5\" y=\"355\"/><text fill=\"#000000\" font-family=\"sans-serif\" font-size=\"12\" font-style=\"italic\" lengthAdjust=\"spacingAndGlyphs\" textLength=\"68\" x=\"359\" y=\"371.1387\">«part  def»</text><text fill=\"#000000\" font-family=\"sans-serif\" font-size=\"12\" lengthAdjust=\"spacingAndGlyphs\" textLength=\"43\" x=\"371.5\" y=\"385.1074\">Engine</text></a></g><g id=\"E1.E3\"><a href=\"psysml:b73c7ebb-9472-45c7-822b-647f60ba4ebd\" target=\"_top\" title=\"psysml:b73c7ebb-9472-45c7-822b-647f60ba4ebd\" xlink:actuate=\"onRequest\" xlink:href=\"psysml:b73c7ebb-9472-45c7-822b-647f60ba4ebd\" xlink:show=\"new\" xlink:title=\"psysml:b73c7ebb-9472-45c7-822b-647f60ba4ebd\" xlink:type=\"simple\"><rect fill=\"#FFFFFF\" height=\"40\" id=\"E3\" rx=\"10\" ry=\"10\" style=\"stroke: #383838; stroke-width: 1.5;\" width=\"113\" x=\"180.5\" y=\"298\"/><rect fill=\"#F8F8F8\" height=\"23.9688\" rx=\"10\" ry=\"10\" style=\"stroke: #F8F8F8; stroke-width: 1.5;\" width=\"113\" x=\"180.5\" y=\"298\"/><rect fill=\"#F8F8F8\" height=\"10\" style=\"stroke: #F8F8F8; stroke-width: 1.5;\" width=\"113\" x=\"180.5\" y=\"311.9688\"/><rect fill=\"none\" height=\"40\" id=\"E3\" rx=\"10\" ry=\"10\" style=\"stroke: #383838; stroke-width: 1.5;\" width=\"113\" x=\"180.5\" y=\"298\"/><text fill=\"#000000\" font-family=\"sans-serif\" font-size=\"12\" lengthAdjust=\"spacingAndGlyphs\" textLength=\"102\" x=\"186\" y=\"314.1387\">engine1: Engine</text></a></g><g id=\"E1.E4\"><a href=\"psysml:383bc22a-19f8-4697-ba31-98dbfb8a50a3\" target=\"_top\" title=\"psysml:383bc22a-19f8-4697-ba31-98dbfb8a50a3\" xlink:actuate=\"onRequest\" xlink:href=\"psysml:383bc22a-19f8-4697-ba31-98dbfb8a50a3\" xlink:show=\"new\" xlink:title=\"psysml:383bc22a-19f8-4697-ba31-98dbfb8a50a3\" xlink:type=\"simple\"><rect fill=\"#FFFFFF\" height=\"40\" id=\"E4\" rx=\"10\" ry=\"10\" style=\"stroke: #383838; stroke-width: 1.5;\" width=\"113\" x=\"32.5\" y=\"298\"/><rect fill=\"#F8F8F8\" height=\"23.9688\" rx=\"10\" ry=\"10\" style=\"stroke: #F8F8F8; stroke-width: 1.5;\" width=\"113\" x=\"32.5\" y=\"298\"/><rect fill=\"#F8F8F8\" height=\"10\" style=\"stroke: #F8F8F8; stroke-width: 1.5;\" width=\"113\" x=\"32.5\" y=\"311.9688\"/><rect fill=\"none\" height=\"40\" id=\"E4\" rx=\"10\" ry=\"10\" style=\"stroke: #383838; stroke-width: 1.5;\" width=\"113\" x=\"32.5\" y=\"298\"/><text fill=\"#000000\" font-family=\"sans-serif\" font-size=\"12\" lengthAdjust=\"spacingAndGlyphs\" textLength=\"102\" x=\"38\" y=\"314.1387\">engine2: Engine</text></a></g><!--MD5=[60a26617385b1d2d0262a64233df1f8d]\n",
       "class E6--><a href=\"psysml:6f716227-75fa-479d-851c-c6728be0ecaf\" target=\"_top\" title=\"psysml:6f716227-75fa-479d-851c-c6728be0ecaf\" xlink:actuate=\"onRequest\" xlink:href=\"psysml:6f716227-75fa-479d-851c-c6728be0ecaf\" xlink:show=\"new\" xlink:title=\"psysml:6f716227-75fa-479d-851c-c6728be0ecaf\" xlink:type=\"simple\"><rect fill=\"#FFFFFF\" height=\"45.9375\" id=\"E6\" rx=\"10\" ry=\"10\" style=\"stroke: #383838; stroke-width: 1.5;\" width=\"132\" x=\"359\" y=\"116\"/><text fill=\"#000000\" font-family=\"sans-serif\" font-size=\"12\" font-style=\"italic\" lengthAdjust=\"spacingAndGlyphs\" textLength=\"70\" x=\"390\" y=\"132.1387\">«objective»</text><text fill=\"#000000\" font-family=\"sans-serif\" font-size=\"12\" lengthAdjust=\"spacingAndGlyphs\" textLength=\"126\" x=\"362\" y=\"146.1074\">tradeStudyObjective</text><line style=\"stroke: #383838; stroke-width: 1.5;\" x1=\"360\" x2=\"490\" y1=\"153.9375\" y2=\"153.9375\"/></a><!--MD5=[05d275557350bfb9b23a4ef7222b4c39]\n",
       "link E3 to E2--><a href=\"psysml:a3c7b902-deb2-42e0-bb2d-9591134be70d\" target=\"_top\" title=\"psysml:a3c7b902-deb2-42e0-bb2d-9591134be70d\" xlink:actuate=\"onRequest\" xlink:href=\"psysml:a3c7b902-deb2-42e0-bb2d-9591134be70d\" xlink:show=\"new\" xlink:title=\"psysml:a3c7b902-deb2-42e0-bb2d-9591134be70d\" xlink:type=\"simple\"><path d=\"M237,338.3 C237,355.37 237,377 237,377 C237,377 335.24,377 335.24,377 \" fill=\"none\" id=\"E3-&gt;E2\" style=\"stroke: #383838; stroke-width: 1.0;\"/><polygon fill=\"#FFFFFF\" points=\"355.24,377,336.24,384,336.24,370,355.24,377\" style=\"stroke: #383838; stroke-width: 1.0;\"/><ellipse cx=\"330.54\" cy=\"382\" fill=\"#383838\" rx=\"2\" ry=\"2\" style=\"stroke: #383838; stroke-width: 1.0;\"/><ellipse cx=\"330.54\" cy=\"372\" fill=\"#383838\" rx=\"2\" ry=\"2\" style=\"stroke: #383838; stroke-width: 1.0;\"/></a><!--MD5=[185131fc0dcab0a4505a2ebe144e961b]\n",
       "link E4 to E2--><a href=\"psysml:ad9261f0-dda0-42b5-9d6e-43ebe8822407\" target=\"_top\" title=\"psysml:ad9261f0-dda0-42b5-9d6e-43ebe8822407\" xlink:actuate=\"onRequest\" xlink:href=\"psysml:ad9261f0-dda0-42b5-9d6e-43ebe8822407\" xlink:show=\"new\" xlink:title=\"psysml:ad9261f0-dda0-42b5-9d6e-43ebe8822407\" xlink:type=\"simple\"><path d=\"M89,338.25 C89,358.92 89,388 89,388 C89,388 335.42,388 335.42,388 \" fill=\"none\" id=\"E4-&gt;E2\" style=\"stroke: #383838; stroke-width: 1.0;\"/><polygon fill=\"#FFFFFF\" points=\"355.42,388,336.42,395,336.42,381,355.42,388\" style=\"stroke: #383838; stroke-width: 1.0;\"/><ellipse cx=\"330.72\" cy=\"393\" fill=\"#383838\" rx=\"2\" ry=\"2\" style=\"stroke: #383838; stroke-width: 1.0;\"/><ellipse cx=\"330.72\" cy=\"383\" fill=\"#383838\" rx=\"2\" ry=\"2\" style=\"stroke: #383838; stroke-width: 1.0;\"/></a><!--MD5=[15ebcb19ae302d9b601edb458606d402]\n",
       "link E5 to E2--><a href=\"psysml:b52cccfc-b130-477f-adae-4c6f859e452b\" target=\"_top\" title=\"psysml:b52cccfc-b130-477f-adae-4c6f859e452b\" xlink:actuate=\"onRequest\" xlink:href=\"psysml:b52cccfc-b130-477f-adae-4c6f859e452b\" xlink:show=\"new\" xlink:title=\"psysml:b52cccfc-b130-477f-adae-4c6f859e452b\" xlink:type=\"simple\"><path d=\"M509,186.2773 C509,202.625 509,220.0625 509,237.5 C509,307.25 509,377 509,377 C509,377 435.66,377 435.66,377 \" fill=\"none\" id=\"E5-&gt;E2\" style=\"stroke: #383838; stroke-width: 1.0; stroke-dasharray: 7.0,7.0;\"/><polygon fill=\"#383838\" points=\"430.66,377,439.66,381,435.66,377,439.66,373,430.66,377\" style=\"stroke: #383838; stroke-width: 1.0;\"/><text fill=\"#000000\" font-family=\"sans-serif\" font-size=\"13\" lengthAdjust=\"spacingAndGlyphs\" textLength=\"62\" x=\"468\" y=\"286.0669\">«subject»</text></a><!--MD5=[452b418e7f8a40397a49b8c0a78acc5b]\n",
       "reverse link E5 to E7--><a href=\"psysml:226717b4-0db0-47e0-9eef-bae3c4ff0509\" target=\"_top\" title=\"psysml:226717b4-0db0-47e0-9eef-bae3c4ff0509\" xlink:actuate=\"onRequest\" xlink:href=\"psysml:226717b4-0db0-47e0-9eef-bae3c4ff0509\" xlink:show=\"new\" xlink:title=\"psysml:226717b4-0db0-47e0-9eef-bae3c4ff0509\" xlink:type=\"simple\"><path d=\"M315.9399,139 C315.641,139 315.3347,139 315.0211,139 C314.3938,139 313.7375,139 313.0533,139 C307.5798,139 300.3221,139 291.9017,139 C275.0609,139 253.5694,139 232.3988,139 C190.0575,139 149,139 149,139 C149,139 149,188.52 149,218.88 \" fill=\"none\" id=\"E5&lt;-E7\" style=\"stroke: #383838; stroke-width: 1.0;\"/><polygon fill=\"#FFFFFF\" points=\"315.9399,139,309.9399,135,303.9399,139,309.9399,143,315.9399,139\" style=\"stroke: #383838; stroke-width: 1.0;\"/></a><!--MD5=[dc164f5e8a733ab456ef1add180e9e34]\n",
       "reverse link E7 to E8--><a href=\"psysml:6f1f84a3-2ac1-458a-baf6-caa888cc195f\" target=\"_top\" title=\"psysml:6f1f84a3-2ac1-458a-baf6-caa888cc195f\" xlink:actuate=\"onRequest\" xlink:href=\"psysml:6f1f84a3-2ac1-458a-baf6-caa888cc195f\" xlink:show=\"new\" xlink:title=\"psysml:6f1f84a3-2ac1-458a-baf6-caa888cc195f\" xlink:type=\"simple\"><path d=\"M226.65,262 C226.65,262 380,262 380,262 C380,262 380,285.26 380,301.8 \" fill=\"none\" id=\"E7&lt;-E8\" style=\"stroke: #383838; stroke-width: 1.0;\"/><polygon fill=\"#FFFFFF\" points=\"213.65,262,219.65,266,225.65,262,219.65,258,213.65,262\" style=\"stroke: #383838; stroke-width: 1.0;\"/><text fill=\"#000000\" font-family=\"sans-serif\" font-size=\"13\" lengthAdjust=\"spacingAndGlyphs\" textLength=\"8\" x=\"366.3688\" y=\"291.0434\">1</text></a><!--MD5=[f1f3f9f2fc535e6147756cb86a7f2e32]\n",
       "link E8 to E2--><a href=\"psysml:2bf4d1c6-7bac-40b1-aaaa-83952da67c38\" target=\"_top\" title=\"psysml:2bf4d1c6-7bac-40b1-aaaa-83952da67c38\" xlink:actuate=\"onRequest\" xlink:href=\"psysml:2bf4d1c6-7bac-40b1-aaaa-83952da67c38\" xlink:show=\"new\" xlink:title=\"psysml:2bf4d1c6-7bac-40b1-aaaa-83952da67c38\" xlink:type=\"simple\"><path d=\"M393,334.3 C393,334.3 393,336.35 393,336.35 \" fill=\"none\" id=\"E8-&gt;E2\" style=\"stroke: #383838; stroke-width: 1.0;\"/><polygon fill=\"#FFFFFF\" points=\"393,354.82,386,335.82,400,335.82,393,354.82\" style=\"stroke: #383838; stroke-width: 1.0;\"/><ellipse cx=\"388\" cy=\"330.12\" fill=\"#383838\" rx=\"2\" ry=\"2\" style=\"stroke: #383838; stroke-width: 1.0;\"/><ellipse cx=\"398\" cy=\"330.12\" fill=\"#383838\" rx=\"2\" ry=\"2\" style=\"stroke: #383838; stroke-width: 1.0;\"/><line style=\"stroke: #383838; stroke-width: 1.0;\" x1=\"393\" x2=\"393\" y1=\"334.3\" y2=\"354.82\"/></a><!--MD5=[9ae28de373ca99bb8a1b38d63370ca7e]\n",
       "reverse link E5 to E9--><a href=\"psysml:eedf805a-a406-401d-b38e-104ba6f0fce6\" target=\"_top\" title=\"psysml:eedf805a-a406-401d-b38e-104ba6f0fce6\" xlink:actuate=\"onRequest\" xlink:href=\"psysml:eedf805a-a406-401d-b38e-104ba6f0fce6\" xlink:show=\"new\" xlink:title=\"psysml:eedf805a-a406-401d-b38e-104ba6f0fce6\" xlink:type=\"simple\"><path d=\"M324,186.3203 C324,186.4615 324,186.6027 324,186.7439 C324,187.3088 324,187.8743 324,188.4402 C324,192.967 324,197.5151 324,201.9442 C324,210.8025 324,219.185 324,225.97 \" fill=\"none\" id=\"E5&lt;-E9\" style=\"stroke: #383838; stroke-width: 1.0;\"/><polygon fill=\"#FFFFFF\" points=\"324,186.3203,320,192.3203,324,198.3203,328,192.3203,324,186.3203\" style=\"stroke: #383838; stroke-width: 1.0;\"/><text fill=\"#000000\" font-family=\"sans-serif\" font-size=\"13\" lengthAdjust=\"spacingAndGlyphs\" textLength=\"8\" x=\"309.125\" y=\"214.9767\">1</text></a><!--MD5=[5c3bb36fe832a92c7f0e1807dd65209d]\n",
       "link E9 to E2--><a href=\"psysml:3213573e-39ef-4dfb-813d-bdfb08b6e367\" target=\"_top\" title=\"psysml:3213573e-39ef-4dfb-813d-bdfb08b6e367\" xlink:actuate=\"onRequest\" xlink:href=\"psysml:3213573e-39ef-4dfb-813d-bdfb08b6e367\" xlink:show=\"new\" xlink:title=\"psysml:3213573e-39ef-4dfb-813d-bdfb08b6e367\" xlink:type=\"simple\"><path d=\"M311.25,258.21 C311.25,291.82 311.25,366 311.25,366 C311.25,366 335.47,366 335.47,366 \" fill=\"none\" id=\"E9-&gt;E2\" style=\"stroke: #383838; stroke-width: 1.0;\"/><polygon fill=\"#FFFFFF\" points=\"355.47,366,336.47,373,336.47,359,355.47,366\" style=\"stroke: #383838; stroke-width: 1.0;\"/><ellipse cx=\"330.77\" cy=\"371\" fill=\"#383838\" rx=\"2\" ry=\"2\" style=\"stroke: #383838; stroke-width: 1.0;\"/><ellipse cx=\"330.77\" cy=\"361\" fill=\"#383838\" rx=\"2\" ry=\"2\" style=\"stroke: #383838; stroke-width: 1.0;\"/></a><!--MD5=[1dd95e94ed14df1421405a99da4cf718]\n",
       "@startuml\r\n",
       "skinparam ranksep 10\r\n",
       "skinparam rectangle {\r\n",
       " backgroundColor<<block>> LightGreen\r\n",
       "}\r\n",
       "skinparam linetype ortho\r\n",
       "skinparam monochrome true\r\n",
       "skinparam classbackgroundcolor white\r\n",
       "skinparam shadowing false\r\n",
       "skinparam wrapWidth 300\r\n",
       "hide circle\r\n",
       "\r\n",
       "package \"TradeStudyTest\" as E1  [[psysml:06d75114-8d09-4304-b9ac-1031eaaad748 ]]  {\r\n",
       "rec def \"Engine\" as E2  <<(T,blue) part  def>> [[psysml:377b66bc-6410-4386-a0f5-58eac70f1599 ]] {\r\n",
       "}\r\n",
       "rec usage \"engine1: Engine\" as E3  [[psysml:b73c7ebb-9472-45c7-822b-647f60ba4ebd ]] {\r\n",
       "}\r\n",
       "rec usage \"engine2: Engine\" as E4  [[psysml:383bc22a-19f8-4697-ba31-98dbfb8a50a3 ]] {\r\n",
       "}\r\n",
       "rec usage \"engineTradeStudy\" as E5 << analysis>> [[psysml:a2c4dab4-2ddb-42af-80d6-b11f423fabe1 ]] {\r\n",
       "comp usage \"tradeStudyObjective\" as E6  <<objective>> [[psysml:6f716227-75fa-479d-851c-c6728be0ecaf ]] {\r\n",
       "}\r\n",
       "}\r\n",
       "comp usage \"evaluationFunction \" as E7  <<(T,blue) calculation>> [[psysml:e59262b2-24eb-419d-a794-3b71c7229dcc ]] {\r\n",
       "}\r\n",
       "comp usage \"alternative: Engine \" as E8  [[psysml:83f46fb2-5a48-4342-a61e-b1e9a3952716 ]] {\r\n",
       "}\r\n",
       "comp usage \"selectedAlternative: Engine \" as E9  [[psysml:43a96bb2-d059-439d-9037-f3d1363e69c1 ]] {\r\n",
       "}\r\n",
       "}\r\n",
       "E3 - -:|> E2 [[psysml:a3c7b902-deb2-42e0-bb2d-9591134be70d ]] \r\n",
       "E4 - -:|> E2 [[psysml:ad9261f0-dda0-42b5-9d6e-43ebe8822407 ]] \r\n",
       "E5 ..> E2 [[psysml:b52cccfc-b130-477f-adae-4c6f859e452b ]] : <<subject>>\r\n",
       "E5 o- - E7 [[psysml:226717b4-0db0-47e0-9eef-bae3c4ff0509 ]] \r\n",
       "E7 o- - \"1\"E8 [[psysml:6f1f84a3-2ac1-458a-baf6-caa888cc195f ]] \r\n",
       "E8 - -:|> E2 [[psysml:2bf4d1c6-7bac-40b1-aaaa-83952da67c38 ]] \r\n",
       "E5 o- - \"1\"E9 [[psysml:eedf805a-a406-401d-b38e-104ba6f0fce6 ]] \r\n",
       "E9 - -:|> E2 [[psysml:3213573e-39ef-4dfb-813d-bdfb08b6e367 ]] \r\n",
       "@enduml\r\n",
       "\n",
       "PlantUML version 1.2020.13(Sat Jun 13 12:26:38 UTC 2020)\n",
       "(EPL source distribution)\n",
       "Java Runtime: OpenJDK Runtime Environment\n",
       "JVM: OpenJDK 64-Bit Server VM\n",
       "Default Encoding: UTF-8\n",
       "Language: en\n",
       "Country: null\n",
       "--></g></svg>"
      ]
     },
     "execution_count": 54,
     "metadata": {},
     "output_type": "execute_result"
    }
   ],
   "source": [
    "%viz --style=\"ORTHOLINE\" --view=\"Interconnection\" \"TradeStudyTest\""
   ]
  },
  {
   "cell_type": "code",
   "execution_count": 55,
   "id": "14ee8ee3",
   "metadata": {
    "execution": {
     "iopub.execute_input": "2022-08-19T08:21:19.389029Z",
     "iopub.status.busy": "2022-08-19T08:21:19.388565Z",
     "iopub.status.idle": "2022-08-19T08:21:19.418977Z",
     "shell.execute_reply": "2022-08-19T08:21:19.418565Z"
    }
   },
   "outputs": [
    {
     "data": {
      "image/svg+xml": [
       "<?xml version=\"1.0\" encoding=\"UTF-8\" standalone=\"no\"?><svg xmlns=\"http://www.w3.org/2000/svg\" xmlns:xlink=\"http://www.w3.org/1999/xlink\" contentScriptType=\"application/ecmascript\" contentStyleType=\"text/css\" height=\"227px\" preserveAspectRatio=\"none\" style=\"width:442px;height:227px;\" version=\"1.1\" viewBox=\"0 0 442 227\" width=\"442px\" zoomAndPan=\"magnify\"><defs/><g><!--MD5=[fbc87193dbaf4d95561dea2c320d4a47]\n",
       "cluster E1--><a href=\"psysml:a2c4dab4-2ddb-42af-80d6-b11f423fabe1\" target=\"_top\" title=\"psysml:a2c4dab4-2ddb-42af-80d6-b11f423fabe1\" xlink:actuate=\"onRequest\" xlink:href=\"psysml:a2c4dab4-2ddb-42af-80d6-b11f423fabe1\" xlink:show=\"new\" xlink:title=\"psysml:a2c4dab4-2ddb-42af-80d6-b11f423fabe1\" xlink:type=\"simple\"><rect fill=\"#FFFFFF\" height=\"174.36\" id=\"E1\" rx=\"10\" ry=\"10\" style=\"stroke: #383838; stroke-width: 1.5;\" width=\"317\" x=\"47\" y=\"42.0986\"/><rect fill=\"#F8F8F8\" height=\"37.9375\" rx=\"10\" ry=\"10\" style=\"stroke: #F8F8F8; stroke-width: 1.5;\" width=\"317\" x=\"47\" y=\"42.0986\"/><rect fill=\"#F8F8F8\" height=\"10\" style=\"stroke: #F8F8F8; stroke-width: 1.5;\" width=\"317\" x=\"47\" y=\"70.0361\"/><rect fill=\"none\" height=\"174.36\" id=\"E1\" rx=\"10\" ry=\"10\" style=\"stroke: #383838; stroke-width: 1.5;\" width=\"317\" x=\"47\" y=\"42.0986\"/><text fill=\"#000000\" font-family=\"sans-serif\" font-size=\"12\" font-style=\"italic\" lengthAdjust=\"spacingAndGlyphs\" textLength=\"64\" x=\"173.5\" y=\"58.2373\">«analysis»</text><text fill=\"#000000\" font-family=\"sans-serif\" font-size=\"12\" lengthAdjust=\"spacingAndGlyphs\" textLength=\"114\" x=\"148.5\" y=\"72.2061\">engineTradeStudy</text><line style=\"stroke: #383838; stroke-width: 1.0;\" x1=\"47\" x2=\"364\" y1=\"80.0361\" y2=\"80.0361\"/></a><!--MD5=[d5e69f78d87373223dbae638b30a9c99]\n",
       "cluster E3--><a href=\"psysml:e59262b2-24eb-419d-a794-3b71c7229dcc\" target=\"_top\" title=\"psysml:e59262b2-24eb-419d-a794-3b71c7229dcc\" xlink:actuate=\"onRequest\" xlink:href=\"psysml:e59262b2-24eb-419d-a794-3b71c7229dcc\" xlink:show=\"new\" xlink:title=\"psysml:e59262b2-24eb-419d-a794-3b71c7229dcc\" xlink:type=\"simple\"><rect fill=\"#FFFFFF\" height=\"104.86\" id=\"E3\" rx=\"10\" ry=\"10\" style=\"stroke: #383838; stroke-width: 1.5;\" width=\"178\" x=\"145\" y=\"81.5986\"/><rect fill=\"#F8F8F8\" height=\"37.9375\" rx=\"10\" ry=\"10\" style=\"stroke: #F8F8F8; stroke-width: 1.5;\" width=\"178\" x=\"145\" y=\"81.5986\"/><rect fill=\"#F8F8F8\" height=\"10\" style=\"stroke: #F8F8F8; stroke-width: 1.5;\" width=\"178\" x=\"145\" y=\"109.5361\"/><rect fill=\"none\" height=\"104.86\" id=\"E3\" rx=\"10\" ry=\"10\" style=\"stroke: #383838; stroke-width: 1.5;\" width=\"178\" x=\"145\" y=\"81.5986\"/><text fill=\"#000000\" font-family=\"sans-serif\" font-size=\"12\" font-style=\"italic\" lengthAdjust=\"spacingAndGlyphs\" textLength=\"82\" x=\"193\" y=\"97.7373\">«calculation»</text><text fill=\"#000000\" font-family=\"sans-serif\" font-size=\"12\" lengthAdjust=\"spacingAndGlyphs\" textLength=\"119\" x=\"174.5\" y=\"111.7061\">evaluationFunction</text><line style=\"stroke: #383838; stroke-width: 1.0;\" x1=\"145\" x2=\"323\" y1=\"119.5361\" y2=\"119.5361\"/></a><text fill=\"#000000\" font-family=\"sans-serif\" font-size=\"14\" lengthAdjust=\"spacingAndGlyphs\" textLength=\"118\" x=\"6\" y=\"20.7969\">studyAlternatives</text><rect fill=\"#383838\" height=\"12\" style=\"stroke: #F8F8F8; stroke-width: 1.5;\" width=\"12\" x=\"59\" y=\"36.0986\"/><text fill=\"#000000\" font-family=\"sans-serif\" font-size=\"14\" lengthAdjust=\"spacingAndGlyphs\" textLength=\"132\" x=\"298\" y=\"183.0938\">selectedAlternative</text><rect fill=\"#383838\" height=\"12\" style=\"stroke: #F8F8F8; stroke-width: 1.5;\" width=\"12\" x=\"358\" y=\"158.0986\"/><text fill=\"#000000\" font-family=\"sans-serif\" font-size=\"14\" lengthAdjust=\"spacingAndGlyphs\" textLength=\"71\" x=\"198.5\" y=\"60.2969\">alternative</text><rect fill=\"#383838\" height=\"12\" style=\"stroke: #F8F8F8; stroke-width: 1.5;\" width=\"12\" x=\"228\" y=\"75.5986\"/><text fill=\"#000000\" font-family=\"sans-serif\" font-size=\"14\" lengthAdjust=\"spacingAndGlyphs\" textLength=\"39\" x=\"214.5\" y=\"205.4538\">result</text><rect fill=\"#383838\" height=\"12\" style=\"stroke: #F8F8F8; stroke-width: 1.5;\" width=\"12\" x=\"228\" y=\"180.4586\"/><!--MD5=[eb25403d541559c7860d37458b6e2eeb]\n",
       "@startuml\r\n",
       "skinparam ranksep 8\r\n",
       "skinparam linetype ortho\r\n",
       "skinparam monochrome true\r\n",
       "skinparam classbackgroundcolor white\r\n",
       "skinparam shadowing false\r\n",
       "skinparam wrapWidth 300\r\n",
       "hide circle\r\n",
       "\r\n",
       "rec usage \"engineTradeStudy\" as E1 << analysis>> [[psysml:a2c4dab4-2ddb-42af-80d6-b11f423fabe1 ]] {\r\n",
       "portin \"studyAlternatives\" as E2  [[psysml:ba51db2a-337d-4796-9152-a1747789732e ]] \r\n",
       "rec usage \"evaluationFunction\" as E3  <<(T,blue) calculation>> [[psysml:e59262b2-24eb-419d-a794-3b71c7229dcc ]] {\r\n",
       "portin \"alternative\" as E4  [[psysml:83f46fb2-5a48-4342-a61e-b1e9a3952716 ]] \r\n",
       "portout \"result\" as E5  [[psysml:9307401e-c2bc-4ae8-a206-942b4cc90813 ]] \r\n",
       "}\r\n",
       "\r\n",
       "portout \"selectedAlternative\" as E6  [[psysml:43a96bb2-d059-439d-9037-f3d1363e69c1 ]] \r\n",
       "}\r\n",
       "\r\n",
       "@enduml\r\n",
       "\n",
       "PlantUML version 1.2020.13(Sat Jun 13 12:26:38 UTC 2020)\n",
       "(EPL source distribution)\n",
       "Java Runtime: OpenJDK Runtime Environment\n",
       "JVM: OpenJDK 64-Bit Server VM\n",
       "Default Encoding: UTF-8\n",
       "Language: en\n",
       "Country: null\n",
       "--></g></svg>"
      ]
     },
     "execution_count": 55,
     "metadata": {},
     "output_type": "execute_result"
    }
   ],
   "source": [
    "%viz --style=\"ORTHOLINE\" --view=\"Action\" \"TradeStudyTest\""
   ]
  },
  {
   "cell_type": "code",
   "execution_count": 56,
   "id": "68db2fcd",
   "metadata": {
    "execution": {
     "iopub.execute_input": "2022-08-19T08:21:19.468602Z",
     "iopub.status.busy": "2022-08-19T08:21:19.468145Z",
     "iopub.status.idle": "2022-08-19T08:21:19.475793Z",
     "shell.execute_reply": "2022-08-19T08:21:19.475399Z"
    }
   },
   "outputs": [
    {
     "data": {
      "image/svg+xml": [
       "<?xml version=\"1.0\" encoding=\"UTF-8\" standalone=\"no\"?><svg xmlns=\"http://www.w3.org/2000/svg\" xmlns:xlink=\"http://www.w3.org/1999/xlink\" contentScriptType=\"application/ecmascript\" contentStyleType=\"text/css\" height=\"12px\" preserveAspectRatio=\"none\" style=\"width:12px;height:12px;\" version=\"1.1\" viewBox=\"0 0 12 12\" width=\"12px\" zoomAndPan=\"magnify\"><defs/><g><!--MD5=[30fc1de5121c5abddedd55b44417fde8]\n",
       "@startuml\r\n",
       "skinparam roundcorner 20\r\n",
       "skinparam BoxPadding 20\r\n",
       "skinparam SequenceBoxBackgroundColor #white\r\n",
       "skinparam style strictuml\r\n",
       "skinparam maxMessageSize 100\r\n",
       "skinparam linetype ortho\r\n",
       "skinparam monochrome true\r\n",
       "skinparam classbackgroundcolor white\r\n",
       "skinparam shadowing false\r\n",
       "skinparam wrapWidth 300\r\n",
       "hide circle\r\n",
       "\r\n",
       "@enduml\r\n",
       "\n",
       "PlantUML version 1.2020.13(Sat Jun 13 12:26:38 UTC 2020)\n",
       "(EPL source distribution)\n",
       "Java Runtime: OpenJDK Runtime Environment\n",
       "JVM: OpenJDK 64-Bit Server VM\n",
       "Default Encoding: UTF-8\n",
       "Language: en\n",
       "Country: null\n",
       "--></g></svg>"
      ]
     },
     "execution_count": 56,
     "metadata": {},
     "output_type": "execute_result"
    }
   ],
   "source": [
    "%viz --style=\"ORTHOLINE\" --view=\"Sequence\" \"TradeStudyTest\""
   ]
  },
  {
   "cell_type": "code",
   "execution_count": 57,
   "id": "a347ca69",
   "metadata": {
    "execution": {
     "iopub.execute_input": "2022-08-19T08:21:19.525750Z",
     "iopub.status.busy": "2022-08-19T08:21:19.525283Z",
     "iopub.status.idle": "2022-08-19T08:21:19.572739Z",
     "shell.execute_reply": "2022-08-19T08:21:19.571166Z"
    }
   },
   "outputs": [
    {
     "data": {
      "image/svg+xml": [
       "<?xml version=\"1.0\" encoding=\"UTF-8\" standalone=\"no\"?><svg xmlns=\"http://www.w3.org/2000/svg\" xmlns:xlink=\"http://www.w3.org/1999/xlink\" contentScriptType=\"application/ecmascript\" contentStyleType=\"text/css\" height=\"545px\" preserveAspectRatio=\"none\" style=\"width:566px;height:545px;\" version=\"1.1\" viewBox=\"0 0 566 545\" width=\"566px\" zoomAndPan=\"magnify\"><defs/><g><!--MD5=[fbc87193dbaf4d95561dea2c320d4a47]\n",
       "cluster E1--><a href=\"psysml:06d75114-8d09-4304-b9ac-1031eaaad748\" target=\"_top\" title=\"psysml:06d75114-8d09-4304-b9ac-1031eaaad748\" xlink:actuate=\"onRequest\" xlink:href=\"psysml:06d75114-8d09-4304-b9ac-1031eaaad748\" xlink:show=\"new\" xlink:title=\"psysml:06d75114-8d09-4304-b9ac-1031eaaad748\" xlink:type=\"simple\"><polygon fill=\"#FFFFFF\" points=\"16,6,132,6,139,28.2969,544,28.2969,544,533,16,533,16,6\" style=\"stroke: #000000; stroke-width: 1.5;\"/><line style=\"stroke: #000000; stroke-width: 1.5;\" x1=\"16\" x2=\"139\" y1=\"28.2969\" y2=\"28.2969\"/><text fill=\"#000000\" font-family=\"sans-serif\" font-size=\"14\" font-weight=\"bold\" lengthAdjust=\"spacingAndGlyphs\" textLength=\"110\" x=\"20\" y=\"20.9951\">TradeStudyTest</text></a><!--MD5=[de5ec2e2e8f62f467e546659f5068c88]\n",
       "cluster E5--><a href=\"psysml:a2c4dab4-2ddb-42af-80d6-b11f423fabe1\" target=\"_top\" title=\"psysml:a2c4dab4-2ddb-42af-80d6-b11f423fabe1\" xlink:actuate=\"onRequest\" xlink:href=\"psysml:a2c4dab4-2ddb-42af-80d6-b11f423fabe1\" xlink:show=\"new\" xlink:title=\"psysml:a2c4dab4-2ddb-42af-80d6-b11f423fabe1\" xlink:type=\"simple\"><rect fill=\"#FFFFFF\" height=\"129\" id=\"E5\" rx=\"10\" ry=\"10\" style=\"stroke: #383838; stroke-width: 1.5;\" width=\"199\" x=\"238\" y=\"57\"/><rect fill=\"#F8F8F8\" height=\"37.9375\" rx=\"10\" ry=\"10\" style=\"stroke: #F8F8F8; stroke-width: 1.5;\" width=\"199\" x=\"238\" y=\"57\"/><rect fill=\"#F8F8F8\" height=\"10\" style=\"stroke: #F8F8F8; stroke-width: 1.5;\" width=\"199\" x=\"238\" y=\"84.9375\"/><rect fill=\"none\" height=\"129\" id=\"E5\" rx=\"10\" ry=\"10\" style=\"stroke: #383838; stroke-width: 1.5;\" width=\"199\" x=\"238\" y=\"57\"/><text fill=\"#000000\" font-family=\"sans-serif\" font-size=\"12\" font-style=\"italic\" lengthAdjust=\"spacingAndGlyphs\" textLength=\"64\" x=\"305.5\" y=\"73.1387\">«analysis»</text><text fill=\"#000000\" font-family=\"sans-serif\" font-size=\"12\" lengthAdjust=\"spacingAndGlyphs\" textLength=\"114\" x=\"280.5\" y=\"87.1074\">engineTradeStudy</text><line style=\"stroke: #383838; stroke-width: 1.0;\" x1=\"238\" x2=\"437\" y1=\"94.9375\" y2=\"94.9375\"/></a><!--MD5=[b4997ac47864f28c2f74865a473b2911]\n",
       "class E2--><a href=\"psysml:377b66bc-6410-4386-a0f5-58eac70f1599\" target=\"_top\" title=\"psysml:377b66bc-6410-4386-a0f5-58eac70f1599\" xlink:actuate=\"onRequest\" xlink:href=\"psysml:377b66bc-6410-4386-a0f5-58eac70f1599\" xlink:show=\"new\" xlink:title=\"psysml:377b66bc-6410-4386-a0f5-58eac70f1599\" xlink:type=\"simple\"><rect fill=\"#FFFFFF\" height=\"45.9375\" id=\"E2\" style=\"stroke: #383838; stroke-width: 1.5;\" width=\"70\" x=\"292\" y=\"471\"/><text fill=\"#000000\" font-family=\"sans-serif\" font-size=\"12\" font-style=\"italic\" lengthAdjust=\"spacingAndGlyphs\" textLength=\"68\" x=\"293\" y=\"487.1387\">«part  def»</text><text fill=\"#000000\" font-family=\"sans-serif\" font-size=\"12\" lengthAdjust=\"spacingAndGlyphs\" textLength=\"43\" x=\"305.5\" y=\"501.1074\">Engine</text><line style=\"stroke: #383838; stroke-width: 1.5;\" x1=\"293\" x2=\"361\" y1=\"508.9375\" y2=\"508.9375\"/></a><!--MD5=[09b614a08d8cba4a07c9adeb5e0fee81]\n",
       "class E3--><a href=\"psysml:b73c7ebb-9472-45c7-822b-647f60ba4ebd\" target=\"_top\" title=\"psysml:b73c7ebb-9472-45c7-822b-647f60ba4ebd\" xlink:actuate=\"onRequest\" xlink:href=\"psysml:b73c7ebb-9472-45c7-822b-647f60ba4ebd\" xlink:show=\"new\" xlink:title=\"psysml:b73c7ebb-9472-45c7-822b-647f60ba4ebd\" xlink:type=\"simple\"><rect fill=\"#FFFFFF\" height=\"45.9375\" id=\"E3\" rx=\"10\" ry=\"10\" style=\"stroke: #383838; stroke-width: 1.5;\" width=\"112\" x=\"179\" y=\"364\"/><text fill=\"#000000\" font-family=\"sans-serif\" font-size=\"12\" font-style=\"italic\" lengthAdjust=\"spacingAndGlyphs\" textLength=\"40\" x=\"215\" y=\"380.1387\">«part»</text><text fill=\"#000000\" font-family=\"sans-serif\" font-size=\"12\" lengthAdjust=\"spacingAndGlyphs\" textLength=\"102\" x=\"182\" y=\"394.1074\">engine1: Engine</text><line style=\"stroke: #383838; stroke-width: 1.5;\" x1=\"180\" x2=\"290\" y1=\"401.9375\" y2=\"401.9375\"/></a><!--MD5=[ebbe1d658d1005bcc118a6aa81145e00]\n",
       "class E4--><a href=\"psysml:383bc22a-19f8-4697-ba31-98dbfb8a50a3\" target=\"_top\" title=\"psysml:383bc22a-19f8-4697-ba31-98dbfb8a50a3\" xlink:actuate=\"onRequest\" xlink:href=\"psysml:383bc22a-19f8-4697-ba31-98dbfb8a50a3\" xlink:show=\"new\" xlink:title=\"psysml:383bc22a-19f8-4697-ba31-98dbfb8a50a3\" xlink:type=\"simple\"><rect fill=\"#FFFFFF\" height=\"45.9375\" id=\"E4\" rx=\"10\" ry=\"10\" style=\"stroke: #383838; stroke-width: 1.5;\" width=\"112\" x=\"32\" y=\"364\"/><text fill=\"#000000\" font-family=\"sans-serif\" font-size=\"12\" font-style=\"italic\" lengthAdjust=\"spacingAndGlyphs\" textLength=\"40\" x=\"68\" y=\"380.1387\">«part»</text><text fill=\"#000000\" font-family=\"sans-serif\" font-size=\"12\" lengthAdjust=\"spacingAndGlyphs\" textLength=\"102\" x=\"35\" y=\"394.1074\">engine2: Engine</text><line style=\"stroke: #383838; stroke-width: 1.5;\" x1=\"33\" x2=\"143\" y1=\"401.9375\" y2=\"401.9375\"/></a><!--MD5=[2156ba9850f5573cc1fc38a6a4b2f02b]\n",
       "class E7--><a href=\"psysml:e59262b2-24eb-419d-a794-3b71c7229dcc\" target=\"_top\" title=\"psysml:e59262b2-24eb-419d-a794-3b71c7229dcc\" xlink:actuate=\"onRequest\" xlink:href=\"psysml:e59262b2-24eb-419d-a794-3b71c7229dcc\" xlink:show=\"new\" xlink:title=\"psysml:e59262b2-24eb-419d-a794-3b71c7229dcc\" xlink:type=\"simple\"><rect fill=\"#FFFFFF\" height=\"45.9375\" id=\"E7\" rx=\"10\" ry=\"10\" style=\"stroke: #383838; stroke-width: 1.5;\" width=\"129\" x=\"181.5\" y=\"241\"/><text fill=\"#000000\" font-family=\"sans-serif\" font-size=\"12\" font-style=\"italic\" lengthAdjust=\"spacingAndGlyphs\" textLength=\"82\" x=\"205\" y=\"257.1387\">«calculation»</text><text fill=\"#000000\" font-family=\"sans-serif\" font-size=\"12\" lengthAdjust=\"spacingAndGlyphs\" textLength=\"119\" x=\"184.5\" y=\"271.1074\">evaluationFunction</text><line style=\"stroke: #383838; stroke-width: 1.5;\" x1=\"182.5\" x2=\"309.5\" y1=\"278.9375\" y2=\"278.9375\"/></a><!--MD5=[b9389687b975829384b498ac4b7476b2]\n",
       "class E8--><a href=\"psysml:83f46fb2-5a48-4342-a61e-b1e9a3952716\" target=\"_top\" title=\"psysml:83f46fb2-5a48-4342-a61e-b1e9a3952716\" xlink:actuate=\"onRequest\" xlink:href=\"psysml:83f46fb2-5a48-4342-a61e-b1e9a3952716\" xlink:show=\"new\" xlink:title=\"psysml:83f46fb2-5a48-4342-a61e-b1e9a3952716\" xlink:type=\"simple\"><rect fill=\"#FFFFFF\" height=\"45.9375\" id=\"E8\" rx=\"10\" ry=\"10\" style=\"stroke: #383838; stroke-width: 1.5;\" width=\"128\" x=\"363\" y=\"364\"/><text fill=\"#000000\" font-family=\"sans-serif\" font-size=\"12\" font-style=\"italic\" lengthAdjust=\"spacingAndGlyphs\" textLength=\"40\" x=\"407\" y=\"380.1387\">«part»</text><text fill=\"#000000\" font-family=\"sans-serif\" font-size=\"12\" lengthAdjust=\"spacingAndGlyphs\" textLength=\"118\" x=\"366\" y=\"394.1074\">alternative: Engine</text><line style=\"stroke: #383838; stroke-width: 1.5;\" x1=\"364\" x2=\"490\" y1=\"401.9375\" y2=\"401.9375\"/></a><!--MD5=[fd4143e9d270a159db93a4ea2a975926]\n",
       "class E9--><a href=\"psysml:43a96bb2-d059-439d-9037-f3d1363e69c1\" target=\"_top\" title=\"psysml:43a96bb2-d059-439d-9037-f3d1363e69c1\" xlink:actuate=\"onRequest\" xlink:href=\"psysml:43a96bb2-d059-439d-9037-f3d1363e69c1\" xlink:show=\"new\" xlink:title=\"psysml:43a96bb2-d059-439d-9037-f3d1363e69c1\" xlink:type=\"simple\"><rect fill=\"#FFFFFF\" height=\"45.9375\" id=\"E9\" rx=\"10\" ry=\"10\" style=\"stroke: #383838; stroke-width: 1.5;\" width=\"182\" x=\"346\" y=\"241\"/><text fill=\"#000000\" font-family=\"sans-serif\" font-size=\"12\" font-style=\"italic\" lengthAdjust=\"spacingAndGlyphs\" textLength=\"40\" x=\"417\" y=\"257.1387\">«part»</text><text fill=\"#000000\" font-family=\"sans-serif\" font-size=\"12\" lengthAdjust=\"spacingAndGlyphs\" textLength=\"172\" x=\"349\" y=\"271.1074\">selectedAlternative: Engine</text><line style=\"stroke: #383838; stroke-width: 1.5;\" x1=\"347\" x2=\"527\" y1=\"278.9375\" y2=\"278.9375\"/></a><!--MD5=[60a26617385b1d2d0262a64233df1f8d]\n",
       "class E6--><a href=\"psysml:6f716227-75fa-479d-851c-c6728be0ecaf\" target=\"_top\" title=\"psysml:6f716227-75fa-479d-851c-c6728be0ecaf\" xlink:actuate=\"onRequest\" xlink:href=\"psysml:6f716227-75fa-479d-851c-c6728be0ecaf\" xlink:show=\"new\" xlink:title=\"psysml:6f716227-75fa-479d-851c-c6728be0ecaf\" xlink:type=\"simple\"><rect fill=\"#FFFFFF\" height=\"45.9375\" id=\"E6\" rx=\"10\" ry=\"10\" style=\"stroke: #383838; stroke-width: 1.5;\" width=\"132\" x=\"281\" y=\"116\"/><text fill=\"#000000\" font-family=\"sans-serif\" font-size=\"12\" font-style=\"italic\" lengthAdjust=\"spacingAndGlyphs\" textLength=\"70\" x=\"312\" y=\"132.1387\">«objective»</text><text fill=\"#000000\" font-family=\"sans-serif\" font-size=\"12\" lengthAdjust=\"spacingAndGlyphs\" textLength=\"126\" x=\"284\" y=\"146.1074\">tradeStudyObjective</text><line style=\"stroke: #383838; stroke-width: 1.5;\" x1=\"282\" x2=\"412\" y1=\"153.9375\" y2=\"153.9375\"/></a><!--MD5=[05d275557350bfb9b23a4ef7222b4c39]\n",
       "link E3 to E2--><a href=\"psysml:a3c7b902-deb2-42e0-bb2d-9591134be70d\" target=\"_top\" title=\"psysml:a3c7b902-deb2-42e0-bb2d-9591134be70d\" xlink:actuate=\"onRequest\" xlink:href=\"psysml:a3c7b902-deb2-42e0-bb2d-9591134be70d\" xlink:show=\"new\" xlink:title=\"psysml:a3c7b902-deb2-42e0-bb2d-9591134be70d\" xlink:type=\"simple\"><path d=\"M291.41,399 C295.56,399 298.17,399 298.17,399 C298.17,399 298.17,450.52 298.17,450.52 \" fill=\"none\" id=\"E3-&gt;E2\" style=\"stroke: #383838; stroke-width: 1.0;\"/><polygon fill=\"#FFFFFF\" points=\"298.17,470.52,291.17,451.52,305.17,451.52,298.17,470.52\" style=\"stroke: #383838; stroke-width: 1.0;\"/><ellipse cx=\"293.17\" cy=\"445.82\" fill=\"#383838\" rx=\"2\" ry=\"2\" style=\"stroke: #383838; stroke-width: 1.0;\"/><ellipse cx=\"303.17\" cy=\"445.82\" fill=\"#383838\" rx=\"2\" ry=\"2\" style=\"stroke: #383838; stroke-width: 1.0;\"/></a><!--MD5=[185131fc0dcab0a4505a2ebe144e961b]\n",
       "link E4 to E2--><a href=\"psysml:ad9261f0-dda0-42b5-9d6e-43ebe8822407\" target=\"_top\" title=\"psysml:ad9261f0-dda0-42b5-9d6e-43ebe8822407\" xlink:actuate=\"onRequest\" xlink:href=\"psysml:ad9261f0-dda0-42b5-9d6e-43ebe8822407\" xlink:show=\"new\" xlink:title=\"psysml:ad9261f0-dda0-42b5-9d6e-43ebe8822407\" xlink:type=\"simple\"><path d=\"M88,410.27 C88,443.88 88,502 88,502 C88,502 271.99,502 271.99,502 \" fill=\"none\" id=\"E4-&gt;E2\" style=\"stroke: #383838; stroke-width: 1.0;\"/><polygon fill=\"#FFFFFF\" points=\"291.99,502,272.99,509,272.99,495,291.99,502\" style=\"stroke: #383838; stroke-width: 1.0;\"/><ellipse cx=\"267.29\" cy=\"507\" fill=\"#383838\" rx=\"2\" ry=\"2\" style=\"stroke: #383838; stroke-width: 1.0;\"/><ellipse cx=\"267.29\" cy=\"497\" fill=\"#383838\" rx=\"2\" ry=\"2\" style=\"stroke: #383838; stroke-width: 1.0;\"/></a><!--MD5=[15ebcb19ae302d9b601edb458606d402]\n",
       "link E5 to E2--><a href=\"psysml:b52cccfc-b130-477f-adae-4c6f859e452b\" target=\"_top\" title=\"psysml:b52cccfc-b130-477f-adae-4c6f859e452b\" xlink:actuate=\"onRequest\" xlink:href=\"psysml:b52cccfc-b130-477f-adae-4c6f859e452b\" xlink:show=\"new\" xlink:title=\"psysml:b52cccfc-b130-477f-adae-4c6f859e452b\" xlink:type=\"simple\"><path d=\"M237.8435,139 C237.7459,139 237.6475,139 237.5484,139 C236.7558,139 235.9175,139 235.0381,139 C233.2793,139 231.3559,139 229.3038,139 C221.095,139 210.825,139 200.78,139 C180.69,139 161.5,139 161.5,139 C161.5,139 161.5,487 161.5,487 C161.5,487 286.9,487 286.9,487 \" fill=\"none\" id=\"E5-&gt;E2\" style=\"stroke: #383838; stroke-width: 1.0; stroke-dasharray: 7.0,7.0;\"/><polygon fill=\"#383838\" points=\"291.9,487,282.9,483,286.9,487,282.9,491,291.9,487\" style=\"stroke: #383838; stroke-width: 1.0;\"/><text fill=\"#000000\" font-family=\"sans-serif\" font-size=\"13\" lengthAdjust=\"spacingAndGlyphs\" textLength=\"62\" x=\"237\" y=\"330.0669\">«subject»</text></a><!--MD5=[452b418e7f8a40397a49b8c0a78acc5b]\n",
       "reverse link E5 to E7--><a href=\"psysml:226717b4-0db0-47e0-9eef-bae3c4ff0509\" target=\"_top\" title=\"psysml:226717b4-0db0-47e0-9eef-bae3c4ff0509\" xlink:actuate=\"onRequest\" xlink:href=\"psysml:226717b4-0db0-47e0-9eef-bae3c4ff0509\" xlink:show=\"new\" xlink:title=\"psysml:226717b4-0db0-47e0-9eef-bae3c4ff0509\" xlink:type=\"simple\"><path d=\"M246,186.1625 C246,186.8061 246,187.4521 246,188.1001 C246,190.692 246,193.3162 246,195.9537 C246,201.2287 246,206.5567 246,211.7859 C246,222.2444 246,232.3075 246,240.76 \" fill=\"none\" id=\"E5&lt;-E7\" style=\"stroke: #383838; stroke-width: 1.0;\"/><polygon fill=\"#FFFFFF\" points=\"246,186.1625,242,192.1625,246,198.1625,250,192.1625,246,186.1625\" style=\"stroke: #383838; stroke-width: 1.0;\"/></a><!--MD5=[dc164f5e8a733ab456ef1add180e9e34]\n",
       "reverse link E7 to E8--><a href=\"psysml:6f1f84a3-2ac1-458a-baf6-caa888cc195f\" target=\"_top\" title=\"psysml:6f1f84a3-2ac1-458a-baf6-caa888cc195f\" xlink:actuate=\"onRequest\" xlink:href=\"psysml:6f1f84a3-2ac1-458a-baf6-caa888cc195f\" xlink:show=\"new\" xlink:title=\"psysml:6f1f84a3-2ac1-458a-baf6-caa888cc195f\" xlink:type=\"simple\"><path d=\"M304.33,300.21 C304.33,300.21 304.33,376 304.33,376 C304.33,376 333.11,376 362.79,376 \" fill=\"none\" id=\"E7&lt;-E8\" style=\"stroke: #383838; stroke-width: 1.0;\"/><polygon fill=\"#FFFFFF\" points=\"304.33,287.21,300.33,293.21,304.33,299.21,308.33,293.21,304.33,287.21\" style=\"stroke: #383838; stroke-width: 1.0;\"/><text fill=\"#000000\" font-family=\"sans-serif\" font-size=\"13\" lengthAdjust=\"spacingAndGlyphs\" textLength=\"8\" x=\"346.9032\" y=\"370.9391\">1</text></a><!--MD5=[f1f3f9f2fc535e6147756cb86a7f2e32]\n",
       "link E8 to E2--><a href=\"psysml:2bf4d1c6-7bac-40b1-aaaa-83952da67c38\" target=\"_top\" title=\"psysml:2bf4d1c6-7bac-40b1-aaaa-83952da67c38\" xlink:actuate=\"onRequest\" xlink:href=\"psysml:2bf4d1c6-7bac-40b1-aaaa-83952da67c38\" xlink:show=\"new\" xlink:title=\"psysml:2bf4d1c6-7bac-40b1-aaaa-83952da67c38\" xlink:type=\"simple\"><path d=\"M362.66,387 C358.94,387 356.67,387 356.67,387 C356.67,387 356.67,450.78 356.67,450.78 \" fill=\"none\" id=\"E8-&gt;E2\" style=\"stroke: #383838; stroke-width: 1.0;\"/><polygon fill=\"#FFFFFF\" points=\"356.67,470.78,349.67,451.78,363.67,451.78,356.67,470.78\" style=\"stroke: #383838; stroke-width: 1.0;\"/><ellipse cx=\"351.67\" cy=\"446.08\" fill=\"#383838\" rx=\"2\" ry=\"2\" style=\"stroke: #383838; stroke-width: 1.0;\"/><ellipse cx=\"361.67\" cy=\"446.08\" fill=\"#383838\" rx=\"2\" ry=\"2\" style=\"stroke: #383838; stroke-width: 1.0;\"/></a><!--MD5=[9ae28de373ca99bb8a1b38d63370ca7e]\n",
       "reverse link E5 to E9--><a href=\"psysml:eedf805a-a406-401d-b38e-104ba6f0fce6\" target=\"_top\" title=\"psysml:eedf805a-a406-401d-b38e-104ba6f0fce6\" xlink:actuate=\"onRequest\" xlink:href=\"psysml:eedf805a-a406-401d-b38e-104ba6f0fce6\" xlink:show=\"new\" xlink:title=\"psysml:eedf805a-a406-401d-b38e-104ba6f0fce6\" xlink:type=\"simple\"><path d=\"M437.3743,98 C438.0181,98 438.6548,98 439.2842,98 C440.5431,98 441.7729,98 442.9719,98 C445.3698,98 447.6444,98 449.782,98 C454.0571,98 457.7842,98 460.8535,98 C466.9922,98 470.5,98 470.5,98 C470.5,98 470.5,195.31 470.5,240.92 \" fill=\"none\" id=\"E5&lt;-E9\" style=\"stroke: #383838; stroke-width: 1.0;\"/><polygon fill=\"#FFFFFF\" points=\"437.3743,98,443.3743,102,449.3743,98,443.3743,94,437.3743,98\" style=\"stroke: #383838; stroke-width: 1.0;\"/><text fill=\"#000000\" font-family=\"sans-serif\" font-size=\"13\" lengthAdjust=\"spacingAndGlyphs\" textLength=\"8\" x=\"470.4281\" y=\"229.7948\">1</text></a><!--MD5=[5c3bb36fe832a92c7f0e1807dd65209d]\n",
       "link E9 to E2--><a href=\"psysml:3213573e-39ef-4dfb-813d-bdfb08b6e367\" target=\"_top\" title=\"psysml:3213573e-39ef-4dfb-813d-bdfb08b6e367\" xlink:actuate=\"onRequest\" xlink:href=\"psysml:3213573e-39ef-4dfb-813d-bdfb08b6e367\" xlink:show=\"new\" xlink:title=\"psysml:3213573e-39ef-4dfb-813d-bdfb08b6e367\" xlink:type=\"simple\"><path d=\"M351.33,287.32 C351.33,287.32 351.33,450.96 351.33,450.96 \" fill=\"none\" id=\"E9-&gt;E2\" style=\"stroke: #383838; stroke-width: 1.0;\"/><polygon fill=\"#FFFFFF\" points=\"351.33,470.96,344.33,451.96,358.33,451.96,351.33,470.96\" style=\"stroke: #383838; stroke-width: 1.0;\"/><ellipse cx=\"346.33\" cy=\"446.26\" fill=\"#383838\" rx=\"2\" ry=\"2\" style=\"stroke: #383838; stroke-width: 1.0;\"/><ellipse cx=\"356.33\" cy=\"446.26\" fill=\"#383838\" rx=\"2\" ry=\"2\" style=\"stroke: #383838; stroke-width: 1.0;\"/></a><!--MD5=[bb709e687404242ee491dee3d1059f66]\n",
       "@startuml\r\n",
       "skinparam linetype ortho\r\n",
       "skinparam monochrome true\r\n",
       "skinparam classbackgroundcolor white\r\n",
       "skinparam shadowing false\r\n",
       "skinparam wrapWidth 300\r\n",
       "hide circle\r\n",
       "\r\n",
       "package \"TradeStudyTest\" as E1  [[psysml:06d75114-8d09-4304-b9ac-1031eaaad748 ]]  {\r\n",
       "comp def \"Engine\" as E2  <<(T,blue) part  def>> [[psysml:377b66bc-6410-4386-a0f5-58eac70f1599 ]] {\r\n",
       "}\r\n",
       "comp usage \"engine1: Engine \" as E3  <<(T,blue) part>> [[psysml:b73c7ebb-9472-45c7-822b-647f60ba4ebd ]] {\r\n",
       "}\r\n",
       "comp usage \"engine2: Engine \" as E4  <<(T,blue) part>> [[psysml:383bc22a-19f8-4697-ba31-98dbfb8a50a3 ]] {\r\n",
       "}\r\n",
       "rec usage \"engineTradeStudy\" as E5 << analysis>> [[psysml:a2c4dab4-2ddb-42af-80d6-b11f423fabe1 ]] {\r\n",
       "comp usage \"tradeStudyObjective\" as E6  <<objective>> [[psysml:6f716227-75fa-479d-851c-c6728be0ecaf ]] {\r\n",
       "}\r\n",
       "}\r\n",
       "comp usage \"evaluationFunction \" as E7  <<(T,blue) calculation>> [[psysml:e59262b2-24eb-419d-a794-3b71c7229dcc ]] {\r\n",
       "}\r\n",
       "comp usage \"alternative: Engine \" as E8  <<(T,blue) part>> [[psysml:83f46fb2-5a48-4342-a61e-b1e9a3952716 ]] {\r\n",
       "}\r\n",
       "comp usage \"selectedAlternative: Engine \" as E9  <<(T,blue) part>> [[psysml:43a96bb2-d059-439d-9037-f3d1363e69c1 ]] {\r\n",
       "}\r\n",
       "}\r\n",
       "E3 - -:|> E2 [[psysml:a3c7b902-deb2-42e0-bb2d-9591134be70d ]] \r\n",
       "E4 - -:|> E2 [[psysml:ad9261f0-dda0-42b5-9d6e-43ebe8822407 ]] \r\n",
       "E5 ..> E2 [[psysml:b52cccfc-b130-477f-adae-4c6f859e452b ]] : <<subject>>\r\n",
       "E5 o- - E7 [[psysml:226717b4-0db0-47e0-9eef-bae3c4ff0509 ]] \r\n",
       "E7 o- - \"1\"E8 [[psysml:6f1f84a3-2ac1-458a-baf6-caa888cc195f ]] \r\n",
       "E8 - -:|> E2 [[psysml:2bf4d1c6-7bac-40b1-aaaa-83952da67c38 ]] \r\n",
       "E5 o- - \"1\"E9 [[psysml:eedf805a-a406-401d-b38e-104ba6f0fce6 ]] \r\n",
       "E9 - -:|> E2 [[psysml:3213573e-39ef-4dfb-813d-bdfb08b6e367 ]] \r\n",
       "@enduml\r\n",
       "\n",
       "PlantUML version 1.2020.13(Sat Jun 13 12:26:38 UTC 2020)\n",
       "(EPL source distribution)\n",
       "Java Runtime: OpenJDK Runtime Environment\n",
       "JVM: OpenJDK 64-Bit Server VM\n",
       "Default Encoding: UTF-8\n",
       "Language: en\n",
       "Country: null\n",
       "--></g></svg>"
      ]
     },
     "execution_count": 57,
     "metadata": {},
     "output_type": "execute_result"
    }
   ],
   "source": [
    "%viz --style=\"ORTHOLINE\" --view=\"MIXED\" \"TradeStudyTest\""
   ]
  }
 ],
 "metadata": {
  "kernelspec": {
   "display_name": "SysML",
   "language": "sysml",
   "name": "sysml"
  },
  "language_info": {
   "codemirror_mode": "sysml",
   "file_extension": ".sysml",
   "mimetype": "text/x-sysml",
   "name": "SysML",
   "pygments_lexer": "java",
   "version": "1.0.0"
  }
 },
 "nbformat": 4,
 "nbformat_minor": 5
}

{
 "cells": [
  {
   "cell_type": "markdown",
   "id": "executive-essex",
   "metadata": {},
   "source": [
    "# Start Here\n",
    "\n",
    "Welcome to the Jupyter installation of the [SysML v2 Release](https://github.com/Systems-Modeling/SysML-v2-Release/).\n",
    "\n",
    "The setup is taken from the [Jupyter installation](https://github.com/Systems-Modeling/SysML-v2-Release/tree/master/install/jupyter).\n",
    "\n",
    "In addition, the [API Server](https://github.com/Systems-Modeling/SysML-v2-API-Services) is also started in a docker container and can be viewed at [localhost:9000/docs/](http://localhost:9000/docs/).\n",
    "\n",
    "\n",
    "## Is the API Server running?\n",
    "\n",
    "Since the API server needs to initialise its database, the initial request will take longer. \n",
    "\n",
    "Data in the API server is persistent between restarts of the docker containers."
   ]
  },
  {
   "cell_type": "markdown",
   "id": "basic-essence",
   "metadata": {},
   "source": [
    "## Jupyter \n",
    "\n",
    "If you're new to [Jupyter](https://jupyter.org/) then think of notebooks as interactive tutorials. Documentation and Code are combined in notebooks to better understand the code examples. Code can be executed and edited, and this makes notebooks interactive. \n",
    "\n",
    "To execute this notebook, go to Menu Run, then down to \"Run all Cells\".\n",
    "\n",
    "Individual cells can be executed (even documentation cells) using Shift+Return\n",
    "\n",
    "In this case, the underlying programming language is SysML, so we can model directly here in the notebook and have our models visualised and published.\n",
    "\n",
    "The notebook [KernelMagic](KernelMagic.ipynb) describes the meta commands of the SysML engine.\n",
    "\n"
   ]
  }
 ],
 "metadata": {
  "kernelspec": {
   "display_name": "SysML",
   "language": "sysml",
   "name": "sysml"
  },
  "language_info": {
   "codemirror_mode": "sysml",
   "file_extension": ".sysml",
   "mimetype": "text/x-sysml",
   "name": "SysML",
   "pygments_lexer": "java",
   "version": "1.0.0"
  }
 },
 "nbformat": 4,
 "nbformat_minor": 5
}

{
 "cells": [
  {
   "cell_type": "markdown",
   "id": "3ee4834f",
   "metadata": {},
   "source": [
    "# Initializing the SysML v2 API"
   ]
  },
  {
   "cell_type": "code",
   "execution_count": 1,
   "id": "6b5fef59",
   "metadata": {
    "tags": []
   },
   "outputs": [],
   "source": [
    "from __future__ import print_function\n",
    "\n",
    "import time\n",
    "import requests\n",
    "from pprint import pprint\n",
    "import pandas as pd\n",
    "import json\n",
    "\n",
    "#host = \"<URL of SysML v2 API provider repository>\"\n",
    "host = \"http://sysmlapiserver:9000\""
   ]
  },
  {
   "cell_type": "markdown",
   "id": "04c1ff93",
   "metadata": {},
   "source": [
    "# Get projects"
   ]
  },
  {
   "cell_type": "code",
   "execution_count": 2,
   "id": "78788ed9",
   "metadata": {
    "tags": []
   },
   "outputs": [
    {
     "data": {
      "text/html": [
       "<div>\n",
       "<style scoped>\n",
       "    .dataframe tbody tr th:only-of-type {\n",
       "        vertical-align: middle;\n",
       "    }\n",
       "\n",
       "    .dataframe tbody tr th {\n",
       "        vertical-align: top;\n",
       "    }\n",
       "\n",
       "    .dataframe thead th {\n",
       "        text-align: right;\n",
       "    }\n",
       "</style>\n",
       "<table border=\"1\" class=\"dataframe\">\n",
       "  <thead>\n",
       "    <tr style=\"text-align: right;\">\n",
       "      <th></th>\n",
       "      <th>Project Name</th>\n",
       "      <th>Project ID</th>\n",
       "    </tr>\n",
       "  </thead>\n",
       "  <tbody>\n",
       "    <tr>\n",
       "      <th>0</th>\n",
       "      <td>Spacecraft project with branches and tags - 20...</td>\n",
       "      <td>d893a70a-4c18-469e-b4a5-7597424f1829</td>\n",
       "    </tr>\n",
       "  </tbody>\n",
       "</table>\n",
       "</div>"
      ],
      "text/plain": [
       "                                        Project Name  \\\n",
       "0  Spacecraft project with branches and tags - 20...   \n",
       "\n",
       "                             Project ID  \n",
       "0  d893a70a-4c18-469e-b4a5-7597424f1829  "
      ]
     },
     "metadata": {},
     "output_type": "display_data"
    },
    {
     "ename": "IndexError",
     "evalue": "list index out of range",
     "output_type": "error",
     "traceback": [
      "\u001b[31m---------------------------------------------------------------------------\u001b[39m",
      "\u001b[31mIndexError\u001b[39m                                Traceback (most recent call last)",
      "\u001b[36mCell\u001b[39m\u001b[36m \u001b[39m\u001b[32mIn[2]\u001b[39m\u001b[32m, line 13\u001b[39m\n\u001b[32m     10\u001b[39m     df = pd.concat([df, pd.DataFrame({\u001b[33m'\u001b[39m\u001b[33mProject Name\u001b[39m\u001b[33m'\u001b[39m:[p[\u001b[33m'\u001b[39m\u001b[33mname\u001b[39m\u001b[33m'\u001b[39m]], \u001b[33m'\u001b[39m\u001b[33mProject ID\u001b[39m\u001b[33m'\u001b[39m:[p[\u001b[33m'\u001b[39m\u001b[33m@id\u001b[39m\u001b[33m'\u001b[39m]]})], ignore_index=\u001b[38;5;28;01mTrue\u001b[39;00m)\n\u001b[32m     11\u001b[39m display(df)\n\u001b[32m---> \u001b[39m\u001b[32m13\u001b[39m parts_tree_project = \u001b[38;5;28;43mlist\u001b[39;49m\u001b[43m(\u001b[49m\u001b[38;5;28;43mfilter\u001b[39;49m\u001b[43m(\u001b[49m\u001b[38;5;28;43;01mlambda\u001b[39;49;00m\u001b[43m \u001b[49m\u001b[43mp\u001b[49m\u001b[43m:\u001b[49m\u001b[43m \u001b[49m\u001b[33;43m'\u001b[39;49m\u001b[33;43mParts Tree\u001b[39;49m\u001b[33;43m'\u001b[39;49m\u001b[43m \u001b[49m\u001b[38;5;129;43;01min\u001b[39;49;00m\u001b[43m \u001b[49m\u001b[43mp\u001b[49m\u001b[43m[\u001b[49m\u001b[33;43m'\u001b[39;49m\u001b[33;43mname\u001b[39;49m\u001b[33;43m'\u001b[39;49m\u001b[43m]\u001b[49m\u001b[43m,\u001b[49m\u001b[43m \u001b[49m\u001b[43mprojects\u001b[49m\u001b[43m)\u001b[49m\u001b[43m)\u001b[49m\u001b[43m[\u001b[49m\u001b[32;43m0\u001b[39;49m\u001b[43m]\u001b[49m \n\u001b[32m     14\u001b[39m parts_tree_project_id = parts_tree_project[\u001b[33m'\u001b[39m\u001b[33m@id\u001b[39m\u001b[33m'\u001b[39m]\n",
      "\u001b[31mIndexError\u001b[39m: list index out of range"
     ]
    }
   ],
   "source": [
    "projects_url = f\"{host}/projects\" \n",
    "projects_response = requests.get(projects_url)\n",
    "parts_tree_project_id = \"\"\n",
    "\n",
    "if projects_response.status_code == 200:\n",
    "    projects = projects_response.json()\n",
    "    \n",
    "    df = pd.DataFrame({'Project Name':[], 'Project ID':[]})\n",
    "    for p in projects:\n",
    "        df = pd.concat([df, pd.DataFrame({'Project Name':[p['name']], 'Project ID':[p['@id']]})], ignore_index=True)\n",
    "    display(df)\n",
    "    \n",
    "    parts_tree_project = list(filter(lambda p: 'Parts Tree' in p['name'], projects))[0] \n",
    "    parts_tree_project_id = parts_tree_project['@id']"
   ]
  },
  {
   "cell_type": "markdown",
   "id": "487c0624",
   "metadata": {},
   "source": [
    "## Query to find all part usages"
   ]
  },
  {
   "cell_type": "code",
   "execution_count": 3,
   "id": "e1e315c9-7484-4424-a3b7-2b1455dbbe91",
   "metadata": {
    "tags": []
   },
   "outputs": [],
   "source": [
    "# Query vehicle1 (PartUsage) in the \n",
    "query_input = {\n",
    "  '@type':'Query',\n",
    "  'select': ['name','@id','@type','owner'],\n",
    "  'where': {\n",
    "    '@type': 'CompositeConstraint',\n",
    "    'operator': 'and',\n",
    "    'constraint': [\n",
    "        {\n",
    "            '@type': 'PrimitiveConstraint',\n",
    "            'inverse': False,\n",
    "            'operator': '=',\n",
    "            'property': '@type',\n",
    "            'value': 'PartUsage'\n",
    "        }\n",
    "    ]\n",
    "  }\n",
    "}\n",
    "\n",
    "payload = json.dumps(query_input)\n",
    "\n",
    "vehicle1_id = ''\n",
    "query_url = f\"{host}/projects/{parts_tree_project_id}/query-results\" \n",
    "\n",
    "query_response = requests.post(query_url, json=query_input)\n",
    "\n",
    "if query_response.status_code == 200:\n",
    "    query_response_json = query_response.json()\n",
    "    \n",
    "    df = pd.DataFrame({'Part Usage Name':[], 'Part Usage ID':[]})\n",
    "    for p in query_response_json:\n",
    "        df = pd.concat([df, pd.DataFrame({'Part Usage Name':[p['name']], 'Part Usage ID':[p['@id']]})], ignore_index=True)\n",
    "    display(df)"
   ]
  },
  {
   "cell_type": "markdown",
   "id": "004deca6-4832-4352-a682-dddbb2f92127",
   "metadata": {},
   "source": [
    "## Query to find Part Usage with name vehicle1"
   ]
  },
  {
   "cell_type": "code",
   "execution_count": 4,
   "id": "3d724e27",
   "metadata": {
    "tags": []
   },
   "outputs": [],
   "source": [
    "# Query vehicle1 (PartUsage) in the \n",
    "data = {\n",
    "  '@type':'Query',\n",
    "  'select': ['name','@id','@type','owner'],\n",
    "  'where': {\n",
    "    '@type': 'CompositeConstraint',\n",
    "    'operator': 'and',\n",
    "    'constraint': [\n",
    "        {\n",
    "            '@type': 'PrimitiveConstraint',\n",
    "            'inverse': False,\n",
    "            'operator': '=',\n",
    "            'property': 'name',\n",
    "            'value': 'vehicle1'\n",
    "        },\n",
    "        {\n",
    "            '@type': 'PrimitiveConstraint',\n",
    "            'inverse': False,\n",
    "            'operator': '=',\n",
    "            'property': '@type',\n",
    "            'value': 'PartUsage'\n",
    "        }\n",
    "    ]\n",
    "  }\n",
    "}\n",
    "\n",
    "payload = json.dumps(data)\n",
    "\n",
    "vehicle1_id = ''\n",
    "query_url = f\"{host}/projects/{parts_tree_project_id}/query-results\" \n",
    "\n",
    "query_response = requests.post(query_url, json=data)\n",
    "\n",
    "if query_response.status_code == 200:\n",
    "    query_response_json = query_response.json()\n",
    "    pprint(query_response_json)\n",
    "    vehicle1_id = query_response_json[0]['@id']"
   ]
  },
  {
   "cell_type": "code",
   "execution_count": null,
   "id": "bd2276aa",
   "metadata": {},
   "outputs": [],
   "source": []
  }
 ],
 "metadata": {
  "kernelspec": {
   "display_name": "Python 3 (ipykernel)",
   "language": "python",
   "name": "python3"
  },
  "language_info": {
   "codemirror_mode": {
    "name": "ipython",
    "version": 3
   },
   "file_extension": ".py",
   "mimetype": "text/x-python",
   "name": "python",
   "nbconvert_exporter": "python",
   "pygments_lexer": "ipython3",
   "version": "3.12.9"
  }
 },
 "nbformat": 4,
 "nbformat_minor": 5
}
